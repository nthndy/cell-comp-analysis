{
 "cells": [
  {
   "cell_type": "markdown",
   "metadata": {},
   "source": [
    "# Many-cell trajectory measurement\n",
    "\n",
    "\n",
    "Designed to measure a series of time-dependent single-cell fluorescent/holographic intensities over the course of a time-lapse microscopy data set\n",
    "\n",
    "\n",
    "```\n",
    "Author: \n",
    "- Nathan J. Day (nathan.day.16@ucl.ac.uk)\n",
    "```\n",
    "\n",
    "\n",
    "### STEPS\n",
    "1. Directory organisation\n",
    "2. Load image information\n",
    "3. Load the xyt data of each cell from HDF5 tracking file (see Arboretum tracker @quantumjot github)\n",
    "4. Meta-analysis of tracks with optional filtering of anomalous tracks\n",
    "5. Measure cellular properties across all images, all cells\n",
    "6. Save information out as pandas df and .csv"
   ]
  },
  {
   "cell_type": "code",
   "execution_count": 3,
   "metadata": {},
   "outputs": [],
   "source": [
    "import matplotlib.pyplot as plt\n",
    "import numpy as np\n",
    "import pandas as pd\n",
    "import os\n",
    "from scipy import ndimage\n",
    "from skimage import io #used to be from skimage import io\n",
    "from skimage.io import imshow\n",
    "from sklearn import preprocessing\n",
    "from matplotlib import animation\n",
    "from natsort import natsorted\n",
    "import btrack\n",
    "from btrack.utils import import_HDF, import_JSON\n",
    "from tqdm.notebook import tnrange, tqdm\n",
    "from time import sleep\n",
    "from pathlib import Path"
   ]
  },
  {
   "cell_type": "markdown",
   "metadata": {},
   "source": [
    "## Measure \n",
    "\n",
    "Read cell mask information (location & area) and obtain fluorescent and phase stats. If the data already exists in a .csv and just needs to be plotted then skip to the plotter section.\n",
    "\n",
    "#### Raw data (image) location\n",
    "\n",
    "The image data needs to be organised inside the ```root_dir``` as follows:\n",
    "\n",
    "```\n",
    "phase/\n",
    "    0000_phase.tif\n",
    "    0001_phase.tif\n",
    "    ...\n",
    "gfp/\n",
    "    0000_gfp.tif\n",
    "    0001_gfp.tif\n",
    "    ...\n",
    "rfp/\n",
    "    0000_rfp.tif\n",
    "    0001_rfp.tif\n",
    "    ...\n",
    "labels/\n",
    "    0000_mask.tif\n",
    "    0001_mask.tif\n",
    "    ...    \n",
    "```"
   ]
  },
  {
   "cell_type": "code",
   "execution_count": 4,
   "metadata": {},
   "outputs": [],
   "source": [
    "root_path = \"/home/nathan/data/kraken/fucci/2017_10_18/pos16\"\n",
    "root_path = \"/home/nathan/data/SHARC/fucci/fucci1_171201/\"\n",
    "\n",
    "gfp_dir = os.path.join(root_path, \"gfp\")\n",
    "rfp_dir = os.path.join(root_path, \"rfp\")\n",
    "phase_dir = os.path.join(root_path, \"phase\")\n",
    "mask_dir = os.path.join(root_path, \"labels\")\n",
    "\n",
    "gfp_list = natsorted([m for m in os.listdir(gfp_dir) if m.endswith('.tif')])\n",
    "rfp_list = natsorted([m for m in os.listdir(rfp_dir) if m.endswith('.tif')])\n",
    "phase_list = natsorted([m for m in os.listdir(phase_dir) if m.endswith('.tif')])\n",
    "mask_list = natsorted([m for m in os.listdir(mask_dir) if m.endswith('.tif')])"
   ]
  },
  {
   "cell_type": "markdown",
   "metadata": {},
   "source": [
    "### Load the tracking information to obtain xyt of cells\n",
    "\n",
    "Load tracks directly from hdf5"
   ]
  },
  {
   "cell_type": "code",
   "execution_count": 5,
   "metadata": {},
   "outputs": [
    {
     "name": "stderr",
     "output_type": "stream",
     "text": [
      "[INFO][2020/08/12 06:29:34 PM] Opening HDF file: /home/nathan/data/SHARC/fucci/fucci1_171201/tracks/tracks_cellpose/cellpose_nuclear.h5\n",
      "[INFO][2020/08/12 06:29:34 PM] Loading tracks: obj_type_1...\n",
      "[INFO][2020/08/12 06:29:34 PM] Loading obj_type_1 (160396, 5) (160396 filtered: None)...\n",
      "[INFO][2020/08/12 06:29:36 PM] Closing HDF file: /home/nathan/data/SHARC/fucci/fucci1_171201/tracks/tracks_cellpose/cellpose_nuclear.h5\n"
     ]
    },
    {
     "name": "stdout",
     "output_type": "stream",
     "text": [
      "Track information loaded\n"
     ]
    }
   ],
   "source": [
    "filename ='/home/nathan/data/SHARC/fucci/fucci1_171201/tracks/tracks_cellpose/cellpose_nuclear.h5'\n",
    "with btrack.dataio.HDF5FileHandler(filename, 'r') as h:\n",
    "    tracks = h.tracks\n",
    "tracks = (tracks[0]) #initially, tracks[0] is the tracks for cell type 0 (ie, WT or Scr etc)\n",
    "print(\"Track information loaded\")"
   ]
  },
  {
   "cell_type": "markdown",
   "metadata": {},
   "source": [
    "## Meta-analysis of tracks"
   ]
  },
  {
   "cell_type": "markdown",
   "metadata": {},
   "source": [
    "List of track lengths"
   ]
  },
  {
   "cell_type": "code",
   "execution_count": 6,
   "metadata": {
    "scrolled": true
   },
   "outputs": [
    {
     "name": "stdout",
     "output_type": "stream",
     "text": [
      "track ID. 65 length= 133\n",
      "track ID. 77 length= 69\n",
      "track ID. 76 length= 22\n",
      "track ID. 75 length= 5\n",
      "track ID. 74 length= 107\n",
      "track ID. 73 length= 64\n",
      "track ID. 72 length= 1091\n",
      "track ID. 71 length= 2\n",
      "track ID. 70 length= 386\n",
      "track ID. 69 length= 55\n",
      "track ID. 68 length= 349\n",
      "track ID. 67 length= 23\n",
      "track ID. 66 length= 75\n",
      "track ID. 78 length= 178\n",
      "track ID. 64 length= 629\n",
      "track ID. 63 length= 52\n",
      "track ID. 62 length= 57\n",
      "track ID. 61 length= 96\n",
      "track ID. 60 length= 21\n",
      "track ID. 59 length= 7\n",
      "track ID. 58 length= 94\n",
      "track ID. 57 length= 865\n",
      "track ID. 56 length= 86\n",
      "track ID. 55 length= 25\n",
      "track ID. 54 length= 602\n",
      "track ID. 53 length= 37\n",
      "track ID. 91 length= 160\n",
      "track ID. 1 length= 12\n",
      "track ID. 102 length= 1\n",
      "track ID. 101 length= 558\n",
      "track ID. 100 length= 23\n",
      "track ID. 99 length= 128\n",
      "track ID. 98 length= 12\n",
      "track ID. 97 length= 111\n",
      "track ID. 96 length= 25\n",
      "track ID. 95 length= 58\n",
      "track ID. 94 length= 609\n",
      "track ID. 93 length= 49\n",
      "track ID. 92 length= 59\n",
      "track ID. 2 length= 591\n",
      "track ID. 90 length= 22\n",
      "track ID. 89 length= 46\n",
      "track ID. 88 length= 24\n",
      "track ID. 87 length= 70\n",
      "track ID. 86 length= 201\n",
      "track ID. 85 length= 682\n",
      "track ID. 84 length= 65\n",
      "track ID. 83 length= 15\n",
      "track ID. 82 length= 179\n",
      "track ID. 81 length= 20\n",
      "track ID. 80 length= 115\n",
      "track ID. 79 length= 21\n",
      "track ID. 14 length= 1\n",
      "track ID. 26 length= 179\n",
      "track ID. 25 length= 24\n",
      "track ID. 24 length= 1\n",
      "track ID. 23 length= 16\n",
      "track ID. 22 length= 54\n",
      "track ID. 21 length= 148\n",
      "track ID. 20 length= 719\n",
      "track ID. 19 length= 167\n",
      "track ID. 18 length= 379\n",
      "track ID. 17 length= 135\n",
      "track ID. 16 length= 803\n",
      "track ID. 15 length= 20\n",
      "track ID. 51 length= 170\n",
      "track ID. 13 length= 137\n",
      "track ID. 12 length= 68\n",
      "track ID. 11 length= 48\n",
      "track ID. 10 length= 227\n",
      "track ID. 9 length= 3\n",
      "track ID. 8 length= 12\n",
      "track ID. 7 length= 534\n",
      "track ID. 6 length= 56\n",
      "track ID. 5 length= 756\n",
      "track ID. 4 length= 61\n",
      "track ID. 3 length= 120\n",
      "track ID. 52 length= 163\n",
      "track ID. 28 length= 664\n",
      "track ID. 50 length= 425\n",
      "track ID. 49 length= 554\n",
      "track ID. 48 length= 239\n",
      "track ID. 47 length= 17\n",
      "track ID. 46 length= 1092\n",
      "track ID. 45 length= 165\n",
      "track ID. 44 length= 36\n",
      "track ID. 43 length= 575\n",
      "track ID. 42 length= 10\n",
      "track ID. 41 length= 42\n",
      "track ID. 40 length= 1\n",
      "track ID. 38 length= 9\n",
      "track ID. 27 length= 3\n",
      "track ID. 29 length= 1\n",
      "track ID. 30 length= 9\n",
      "track ID. 31 length= 14\n",
      "track ID. 32 length= 2\n",
      "track ID. 33 length= 24\n",
      "track ID. 34 length= 58\n",
      "track ID. 35 length= 21\n",
      "track ID. 36 length= 17\n",
      "track ID. 37 length= 81\n",
      "track ID. 39 length= 80\n",
      "track ID. 103 length= 1\n",
      "track ID. 104 length= 19\n",
      "track ID. 111 length= 19\n",
      "track ID. 110 length= 12\n",
      "track ID. 109 length= 1\n",
      "track ID. 106 length= 53\n",
      "track ID. 107 length= 1\n",
      "track ID. 105 length= 2\n",
      "track ID. 112 length= 1\n",
      "track ID. 113 length= 66\n",
      "track ID. 114 length= 2\n",
      "track ID. 115 length= 340\n",
      "track ID. 117 length= 101\n",
      "track ID. 118 length= 71\n",
      "track ID. 121 length= 1\n",
      "track ID. 123 length= 4\n",
      "track ID. 125 length= 4\n",
      "track ID. 126 length= 21\n",
      "track ID. 127 length= 1\n",
      "track ID. 133 length= 1\n",
      "track ID. 132 length= 4\n",
      "track ID. 131 length= 10\n",
      "track ID. 130 length= 1\n",
      "track ID. 129 length= 3\n",
      "track ID. 128 length= 5\n",
      "track ID. 134 length= 5\n",
      "track ID. 135 length= 3\n",
      "track ID. 136 length= 1\n",
      "track ID. 137 length= 3\n",
      "track ID. 139 length= 1\n",
      "track ID. 143 length= 33\n",
      "track ID. 144 length= 1\n",
      "track ID. 145 length= 17\n",
      "track ID. 142 length= 1\n",
      "track ID. 146 length= 243\n",
      "track ID. 147 length= 3\n",
      "track ID. 148 length= 41\n",
      "track ID. 149 length= 1\n",
      "track ID. 150 length= 180\n",
      "track ID. 152 length= 84\n",
      "track ID. 155 length= 9\n",
      "track ID. 153 length= 1\n",
      "track ID. 156 length= 1\n",
      "track ID. 157 length= 1\n",
      "track ID. 158 length= 3\n",
      "track ID. 159 length= 1\n",
      "track ID. 160 length= 2\n",
      "track ID. 161 length= 581\n",
      "track ID. 163 length= 54\n",
      "track ID. 164 length= 762\n",
      "track ID. 166 length= 3\n",
      "track ID. 167 length= 495\n",
      "track ID. 170 length= 43\n",
      "track ID. 169 length= 1\n",
      "track ID. 172 length= 682\n",
      "track ID. 173 length= 573\n",
      "track ID. 174 length= 4\n",
      "track ID. 176 length= 1\n",
      "track ID. 175 length= 1\n",
      "track ID. 177 length= 17\n",
      "track ID. 178 length= 127\n",
      "track ID. 179 length= 1\n",
      "track ID. 180 length= 331\n",
      "track ID. 181 length= 11\n",
      "track ID. 182 length= 1062\n",
      "track ID. 183 length= 1\n",
      "track ID. 186 length= 28\n",
      "track ID. 187 length= 1\n",
      "track ID. 185 length= 64\n",
      "track ID. 184 length= 1\n",
      "track ID. 189 length= 612\n",
      "track ID. 190 length= 1\n",
      "track ID. 191 length= 1\n",
      "track ID. 192 length= 5\n",
      "track ID. 193 length= 1\n",
      "track ID. 194 length= 1\n",
      "track ID. 198 length= 115\n",
      "track ID. 197 length= 528\n",
      "track ID. 195 length= 1\n",
      "track ID. 196 length= 10\n",
      "track ID. 199 length= 70\n",
      "track ID. 200 length= 1\n",
      "track ID. 201 length= 8\n",
      "track ID. 203 length= 5\n",
      "track ID. 205 length= 22\n",
      "track ID. 206 length= 1\n",
      "track ID. 207 length= 1\n",
      "track ID. 208 length= 7\n",
      "track ID. 210 length= 1\n",
      "track ID. 211 length= 3\n",
      "track ID. 212 length= 1\n",
      "track ID. 213 length= 6\n",
      "track ID. 214 length= 5\n",
      "track ID. 215 length= 1\n",
      "track ID. 216 length= 8\n",
      "track ID. 218 length= 53\n",
      "track ID. 221 length= 246\n",
      "track ID. 222 length= 6\n",
      "track ID. 223 length= 2\n",
      "track ID. 228 length= 1\n",
      "track ID. 227 length= 54\n",
      "track ID. 225 length= 14\n",
      "track ID. 226 length= 10\n",
      "track ID. 224 length= 12\n",
      "track ID. 229 length= 495\n",
      "track ID. 230 length= 72\n",
      "track ID. 231 length= 1\n",
      "track ID. 234 length= 498\n",
      "track ID. 235 length= 20\n",
      "track ID. 236 length= 84\n",
      "track ID. 237 length= 2\n",
      "track ID. 238 length= 36\n",
      "track ID. 239 length= 1030\n",
      "track ID. 241 length= 399\n",
      "track ID. 243 length= 1\n",
      "track ID. 242 length= 2\n",
      "track ID. 240 length= 11\n",
      "track ID. 244 length= 294\n",
      "track ID. 245 length= 452\n",
      "track ID. 246 length= 3\n",
      "track ID. 247 length= 386\n",
      "track ID. 248 length= 3\n",
      "track ID. 249 length= 140\n",
      "track ID. 250 length= 9\n",
      "track ID. 254 length= 147\n",
      "track ID. 253 length= 2\n",
      "track ID. 251 length= 2\n",
      "track ID. 252 length= 1\n",
      "track ID. 255 length= 21\n",
      "track ID. 257 length= 528\n",
      "track ID. 258 length= 1\n",
      "track ID. 259 length= 2\n",
      "track ID. 260 length= 714\n",
      "track ID. 263 length= 6\n",
      "track ID. 264 length= 3\n",
      "track ID. 266 length= 149\n",
      "track ID. 270 length= 66\n",
      "track ID. 274 length= 15\n",
      "track ID. 273 length= 355\n",
      "track ID. 272 length= 4\n",
      "track ID. 269 length= 4\n",
      "track ID. 268 length= 68\n",
      "track ID. 267 length= 556\n",
      "track ID. 276 length= 412\n",
      "track ID. 277 length= 1\n",
      "track ID. 279 length= 1\n",
      "track ID. 280 length= 1\n",
      "track ID. 281 length= 1\n",
      "track ID. 282 length= 4\n",
      "track ID. 283 length= 143\n",
      "track ID. 284 length= 1\n",
      "track ID. 285 length= 53\n",
      "track ID. 287 length= 1\n",
      "track ID. 291 length= 1\n",
      "track ID. 292 length= 39\n",
      "track ID. 293 length= 47\n",
      "track ID. 294 length= 1\n",
      "track ID. 295 length= 3\n",
      "track ID. 296 length= 3\n",
      "track ID. 298 length= 2\n",
      "track ID. 299 length= 1\n",
      "track ID. 297 length= 19\n",
      "track ID. 300 length= 1\n",
      "track ID. 301 length= 52\n",
      "track ID. 302 length= 1\n",
      "track ID. 303 length= 8\n",
      "track ID. 304 length= 55\n",
      "track ID. 308 length= 57\n",
      "track ID. 309 length= 10\n",
      "track ID. 307 length= 3\n",
      "track ID. 306 length= 33\n",
      "track ID. 316 length= 18\n",
      "track ID. 318 length= 8\n",
      "track ID. 317 length= 47\n",
      "track ID. 315 length= 75\n",
      "track ID. 314 length= 72\n",
      "track ID. 313 length= 8\n",
      "track ID. 312 length= 22\n",
      "track ID. 311 length= 1\n",
      "track ID. 310 length= 469\n",
      "track ID. 319 length= 1\n",
      "track ID. 322 length= 443\n",
      "track ID. 323 length= 1\n",
      "track ID. 325 length= 2\n",
      "track ID. 328 length= 1\n",
      "track ID. 327 length= 9\n",
      "track ID. 326 length= 6\n",
      "track ID. 324 length= 201\n",
      "track ID. 330 length= 711\n",
      "track ID. 331 length= 543\n",
      "track ID. 332 length= 5\n",
      "track ID. 333 length= 6\n",
      "track ID. 334 length= 1\n",
      "track ID. 329 length= 1\n",
      "track ID. 335 length= 1\n",
      "track ID. 336 length= 1\n",
      "track ID. 337 length= 9\n",
      "track ID. 338 length= 1\n",
      "track ID. 339 length= 441\n",
      "track ID. 340 length= 29\n",
      "track ID. 341 length= 1\n",
      "track ID. 343 length= 149\n",
      "track ID. 345 length= 3\n",
      "track ID. 344 length= 1\n",
      "track ID. 342 length= 1\n",
      "track ID. 346 length= 409\n",
      "track ID. 347 length= 1\n",
      "track ID. 348 length= 65\n",
      "track ID. 350 length= 169\n",
      "track ID. 351 length= 584\n",
      "track ID. 352 length= 1\n",
      "track ID. 353 length= 1\n",
      "track ID. 354 length= 1\n",
      "track ID. 356 length= 11\n",
      "track ID. 357 length= 4\n",
      "track ID. 360 length= 4\n",
      "track ID. 359 length= 17\n",
      "track ID. 358 length= 125\n",
      "track ID. 361 length= 4\n",
      "track ID. 362 length= 4\n",
      "track ID. 363 length= 10\n",
      "track ID. 364 length= 26\n",
      "track ID. 365 length= 101\n",
      "track ID. 366 length= 15\n",
      "track ID. 367 length= 9\n",
      "track ID. 368 length= 642\n",
      "track ID. 369 length= 227\n",
      "track ID. 370 length= 60\n",
      "track ID. 374 length= 566\n",
      "track ID. 375 length= 11\n",
      "track ID. 376 length= 22\n",
      "track ID. 377 length= 13\n",
      "track ID. 378 length= 34\n",
      "track ID. 380 length= 1\n",
      "track ID. 382 length= 4\n",
      "track ID. 381 length= 3\n",
      "track ID. 379 length= 1\n",
      "track ID. 383 length= 464\n",
      "track ID. 385 length= 4\n",
      "track ID. 386 length= 125\n",
      "track ID. 387 length= 266\n",
      "track ID. 388 length= 94\n",
      "track ID. 389 length= 2\n",
      "track ID. 390 length= 1\n",
      "track ID. 391 length= 12\n",
      "track ID. 392 length= 1\n",
      "track ID. 393 length= 1\n",
      "track ID. 394 length= 124\n",
      "track ID. 396 length= 1\n",
      "track ID. 395 length= 616\n",
      "track ID. 398 length= 35\n",
      "track ID. 399 length= 9\n",
      "track ID. 400 length= 44\n",
      "track ID. 401 length= 1\n",
      "track ID. 402 length= 328\n",
      "track ID. 404 length= 1\n",
      "track ID. 405 length= 1\n",
      "track ID. 406 length= 129\n",
      "track ID. 407 length= 19\n",
      "track ID. 408 length= 4\n",
      "track ID. 409 length= 1\n",
      "track ID. 411 length= 9\n",
      "track ID. 413 length= 45\n",
      "track ID. 416 length= 55\n",
      "track ID. 415 length= 8\n",
      "track ID. 414 length= 857\n",
      "track ID. 417 length= 322\n",
      "track ID. 418 length= 94\n",
      "track ID. 419 length= 1\n",
      "track ID. 420 length= 62\n",
      "track ID. 421 length= 25\n",
      "track ID. 422 length= 39\n",
      "track ID. 423 length= 1\n",
      "track ID. 424 length= 5\n",
      "track ID. 425 length= 1\n",
      "track ID. 426 length= 1\n",
      "track ID. 428 length= 8\n",
      "track ID. 429 length= 466\n",
      "track ID. 434 length= 41\n",
      "track ID. 435 length= 392\n",
      "track ID. 430 length= 3\n",
      "track ID. 432 length= 466\n",
      "track ID. 433 length= 6\n",
      "track ID. 431 length= 498\n",
      "track ID. 437 length= 3\n",
      "track ID. 438 length= 30\n",
      "track ID. 439 length= 535\n",
      "track ID. 440 length= 3\n",
      "track ID. 441 length= 938\n",
      "track ID. 442 length= 152\n",
      "track ID. 443 length= 1\n",
      "track ID. 444 length= 4\n",
      "track ID. 445 length= 493\n",
      "track ID. 446 length= 526\n",
      "track ID. 447 length= 245\n",
      "track ID. 448 length= 527\n",
      "track ID. 450 length= 1\n",
      "track ID. 449 length= 440\n",
      "track ID. 451 length= 532\n",
      "track ID. 453 length= 1\n",
      "track ID. 454 length= 1\n",
      "track ID. 455 length= 1\n",
      "track ID. 456 length= 8\n",
      "track ID. 457 length= 7\n",
      "track ID. 458 length= 577\n",
      "track ID. 459 length= 6\n",
      "track ID. 460 length= 128\n",
      "track ID. 461 length= 357\n",
      "track ID. 462 length= 27\n",
      "track ID. 464 length= 137\n",
      "track ID. 465 length= 445\n",
      "track ID. 466 length= 4\n",
      "track ID. 468 length= 42\n",
      "track ID. 469 length= 2\n",
      "track ID. 470 length= 26\n",
      "track ID. 471 length= 124\n",
      "track ID. 472 length= 36\n",
      "track ID. 473 length= 5\n",
      "track ID. 474 length= 1\n",
      "track ID. 475 length= 36\n",
      "track ID. 476 length= 1\n",
      "track ID. 477 length= 543\n",
      "track ID. 478 length= 193\n",
      "track ID. 480 length= 30\n",
      "track ID. 482 length= 495\n",
      "track ID. 483 length= 10\n",
      "track ID. 484 length= 3\n",
      "track ID. 485 length= 189\n",
      "track ID. 486 length= 27\n",
      "track ID. 487 length= 2\n",
      "track ID. 488 length= 288\n",
      "track ID. 489 length= 31\n",
      "track ID. 490 length= 60\n",
      "track ID. 491 length= 1\n",
      "track ID. 492 length= 1\n",
      "track ID. 493 length= 1\n",
      "track ID. 494 length= 19\n",
      "track ID. 495 length= 3\n",
      "track ID. 496 length= 3\n",
      "track ID. 500 length= 24\n",
      "track ID. 499 length= 57\n",
      "track ID. 497 length= 1\n",
      "track ID. 498 length= 2\n",
      "track ID. 503 length= 756\n",
      "track ID. 504 length= 15\n",
      "track ID. 505 length= 3\n",
      "track ID. 501 length= 1\n",
      "track ID. 506 length= 1\n",
      "track ID. 507 length= 167\n",
      "track ID. 508 length= 4\n",
      "track ID. 509 length= 303\n",
      "track ID. 510 length= 12\n",
      "track ID. 511 length= 3\n",
      "track ID. 512 length= 4\n",
      "track ID. 513 length= 513\n",
      "track ID. 514 length= 33\n",
      "track ID. 517 length= 55\n",
      "track ID. 518 length= 4\n",
      "track ID. 516 length= 76\n",
      "track ID. 515 length= 56\n",
      "track ID. 519 length= 4\n",
      "track ID. 520 length= 46\n",
      "track ID. 521 length= 7\n",
      "track ID. 522 length= 16\n",
      "track ID. 524 length= 379\n",
      "track ID. 525 length= 4\n",
      "track ID. 526 length= 5\n",
      "track ID. 527 length= 1\n",
      "track ID. 528 length= 44\n",
      "track ID. 529 length= 20\n",
      "track ID. 530 length= 1\n",
      "track ID. 533 length= 2\n",
      "track ID. 534 length= 5\n",
      "track ID. 537 length= 1\n",
      "track ID. 538 length= 1\n",
      "track ID. 536 length= 1\n",
      "track ID. 539 length= 2\n",
      "track ID. 540 length= 352\n",
      "track ID. 541 length= 495\n",
      "track ID. 542 length= 12\n",
      "track ID. 543 length= 509\n",
      "track ID. 544 length= 403\n",
      "track ID. 545 length= 565\n",
      "track ID. 547 length= 5\n",
      "track ID. 548 length= 1\n",
      "track ID. 549 length= 1\n",
      "track ID. 550 length= 1\n",
      "track ID. 552 length= 347\n",
      "track ID. 554 length= 144\n",
      "track ID. 553 length= 186\n",
      "track ID. 551 length= 1\n",
      "track ID. 556 length= 81\n",
      "track ID. 557 length= 458\n",
      "track ID. 558 length= 9\n",
      "track ID. 559 length= 7\n",
      "track ID. 562 length= 535\n",
      "track ID. 563 length= 1\n",
      "track ID. 564 length= 33\n",
      "track ID. 565 length= 3\n",
      "track ID. 566 length= 92\n",
      "track ID. 567 length= 2\n",
      "track ID. 568 length= 17\n",
      "track ID. 572 length= 1\n",
      "track ID. 573 length= 17\n",
      "track ID. 571 length= 3\n",
      "track ID. 569 length= 1\n",
      "track ID. 570 length= 879\n",
      "track ID. 574 length= 15\n",
      "track ID. 576 length= 5\n",
      "track ID. 575 length= 314\n",
      "track ID. 577 length= 2\n",
      "track ID. 579 length= 39\n",
      "track ID. 578 length= 1\n",
      "track ID. 580 length= 3\n",
      "track ID. 581 length= 138\n",
      "track ID. 582 length= 356\n",
      "track ID. 583 length= 3\n",
      "track ID. 584 length= 4\n",
      "track ID. 585 length= 1\n",
      "track ID. 586 length= 1\n",
      "track ID. 588 length= 1\n",
      "track ID. 589 length= 515\n",
      "track ID. 590 length= 140\n",
      "track ID. 591 length= 32\n",
      "track ID. 592 length= 1\n",
      "track ID. 593 length= 2\n",
      "track ID. 594 length= 6\n",
      "track ID. 595 length= 6\n",
      "track ID. 596 length= 1\n",
      "track ID. 597 length= 3\n",
      "track ID. 598 length= 130\n",
      "track ID. 599 length= 528\n",
      "track ID. 600 length= 3\n",
      "track ID. 601 length= 47\n",
      "track ID. 602 length= 1\n",
      "track ID. 604 length= 6\n",
      "track ID. 605 length= 10\n",
      "track ID. 606 length= 2\n",
      "track ID. 607 length= 1\n",
      "track ID. 608 length= 11\n",
      "track ID. 610 length= 6\n",
      "track ID. 615 length= 408\n",
      "track ID. 616 length= 1\n",
      "track ID. 614 length= 2\n",
      "track ID. 617 length= 1\n",
      "track ID. 618 length= 1\n",
      "track ID. 619 length= 1\n",
      "track ID. 621 length= 2\n",
      "track ID. 622 length= 3\n",
      "track ID. 623 length= 1\n",
      "track ID. 624 length= 5\n",
      "track ID. 625 length= 1\n",
      "track ID. 626 length= 480\n",
      "track ID. 633 length= 36\n",
      "track ID. 632 length= 324\n",
      "track ID. 631 length= 29\n",
      "track ID. 629 length= 1\n",
      "track ID. 628 length= 227\n",
      "track ID. 627 length= 3\n",
      "track ID. 630 length= 1\n",
      "track ID. 634 length= 1\n",
      "track ID. 635 length= 2\n",
      "track ID. 636 length= 15\n",
      "track ID. 637 length= 191\n",
      "track ID. 638 length= 1\n",
      "track ID. 640 length= 846\n",
      "track ID. 641 length= 1\n",
      "track ID. 642 length= 1\n",
      "track ID. 643 length= 1\n",
      "track ID. 644 length= 33\n",
      "track ID. 645 length= 1\n",
      "track ID. 646 length= 6\n",
      "track ID. 647 length= 4\n",
      "track ID. 648 length= 13\n",
      "track ID. 650 length= 1\n",
      "track ID. 649 length= 30\n",
      "track ID. 651 length= 8\n",
      "track ID. 653 length= 5\n",
      "track ID. 652 length= 67\n",
      "track ID. 654 length= 10\n",
      "track ID. 655 length= 1\n",
      "track ID. 656 length= 9\n",
      "track ID. 657 length= 1\n",
      "track ID. 658 length= 26\n",
      "track ID. 659 length= 838\n",
      "track ID. 660 length= 1\n",
      "track ID. 661 length= 31\n",
      "track ID. 662 length= 165\n",
      "track ID. 663 length= 1\n",
      "track ID. 666 length= 4\n",
      "track ID. 665 length= 1\n",
      "track ID. 664 length= 3\n",
      "track ID. 667 length= 7\n",
      "track ID. 668 length= 8\n",
      "track ID. 669 length= 671\n",
      "track ID. 670 length= 1\n",
      "track ID. 671 length= 1\n",
      "track ID. 672 length= 432\n",
      "track ID. 673 length= 5\n",
      "track ID. 674 length= 1\n",
      "track ID. 675 length= 2\n",
      "track ID. 677 length= 80\n",
      "track ID. 678 length= 1\n",
      "track ID. 679 length= 13\n",
      "track ID. 682 length= 19\n",
      "track ID. 680 length= 2\n",
      "track ID. 681 length= 1\n",
      "track ID. 683 length= 77\n",
      "track ID. 684 length= 147\n",
      "track ID. 685 length= 137\n",
      "track ID. 686 length= 46\n",
      "track ID. 688 length= 318\n",
      "track ID. 689 length= 2\n",
      "track ID. 690 length= 2\n",
      "track ID. 691 length= 16\n",
      "track ID. 692 length= 1\n",
      "track ID. 694 length= 14\n",
      "track ID. 695 length= 181\n",
      "track ID. 696 length= 1\n",
      "track ID. 697 length= 1\n",
      "track ID. 700 length= 1\n",
      "track ID. 698 length= 15\n",
      "track ID. 701 length= 17\n",
      "track ID. 702 length= 1\n",
      "track ID. 703 length= 1\n",
      "track ID. 704 length= 41\n",
      "track ID. 705 length= 50\n",
      "track ID. 706 length= 52\n",
      "track ID. 707 length= 1\n",
      "track ID. 708 length= 7\n",
      "track ID. 709 length= 18\n",
      "track ID. 722 length= 592\n",
      "track ID. 720 length= 413\n",
      "track ID. 719 length= 5\n",
      "track ID. 714 length= 618\n",
      "track ID. 718 length= 19\n",
      "track ID. 717 length= 5\n",
      "track ID. 715 length= 1\n",
      "track ID. 716 length= 57\n",
      "track ID. 711 length= 18\n",
      "track ID. 713 length= 815\n",
      "track ID. 712 length= 612\n",
      "track ID. 723 length= 410\n",
      "track ID. 724 length= 2\n",
      "track ID. 725 length= 3\n",
      "track ID. 726 length= 1\n",
      "track ID. 727 length= 810\n",
      "track ID. 729 length= 1\n",
      "track ID. 730 length= 1\n",
      "track ID. 731 length= 1\n",
      "track ID. 732 length= 1\n",
      "track ID. 733 length= 1\n",
      "track ID. 734 length= 1\n",
      "track ID. 735 length= 5\n",
      "track ID. 739 length= 65\n",
      "track ID. 744 length= 6\n",
      "track ID. 742 length= 2\n",
      "track ID. 741 length= 1\n",
      "track ID. 740 length= 435\n",
      "track ID. 738 length= 1\n",
      "track ID. 737 length= 49\n",
      "track ID. 745 length= 1\n",
      "track ID. 748 length= 804\n",
      "track ID. 749 length= 3\n",
      "track ID. 750 length= 355\n",
      "track ID. 751 length= 8\n",
      "track ID. 752 length= 29\n",
      "track ID. 753 length= 3\n",
      "track ID. 754 length= 25\n",
      "track ID. 756 length= 73\n",
      "track ID. 757 length= 6\n",
      "track ID. 758 length= 1\n",
      "track ID. 759 length= 63\n",
      "track ID. 760 length= 10\n",
      "track ID. 761 length= 38\n",
      "track ID. 762 length= 1\n",
      "track ID. 763 length= 664\n",
      "track ID. 764 length= 31\n",
      "track ID. 766 length= 1\n",
      "track ID. 768 length= 1\n",
      "track ID. 770 length= 4\n",
      "track ID. 771 length= 4\n",
      "track ID. 772 length= 1\n",
      "track ID. 773 length= 1\n",
      "track ID. 775 length= 12\n",
      "track ID. 776 length= 2\n",
      "track ID. 777 length= 1\n",
      "track ID. 778 length= 1\n",
      "track ID. 779 length= 1\n",
      "track ID. 780 length= 1\n",
      "track ID. 781 length= 1\n",
      "track ID. 783 length= 5\n",
      "track ID. 785 length= 7\n",
      "track ID. 786 length= 197\n",
      "track ID. 787 length= 262\n",
      "track ID. 788 length= 7\n",
      "track ID. 789 length= 24\n",
      "track ID. 790 length= 6\n",
      "track ID. 791 length= 1\n",
      "track ID. 793 length= 1\n",
      "track ID. 792 length= 13\n",
      "track ID. 794 length= 5\n",
      "track ID. 795 length= 9\n",
      "track ID. 796 length= 1\n",
      "track ID. 799 length= 1\n",
      "track ID. 800 length= 19\n",
      "track ID. 801 length= 17\n",
      "track ID. 802 length= 327\n",
      "track ID. 803 length= 27\n",
      "track ID. 804 length= 124\n",
      "track ID. 805 length= 391\n",
      "track ID. 806 length= 1\n",
      "track ID. 807 length= 4\n",
      "track ID. 808 length= 1\n",
      "track ID. 809 length= 10\n",
      "track ID. 810 length= 7\n",
      "track ID. 811 length= 4\n",
      "track ID. 812 length= 12\n",
      "track ID. 813 length= 4\n",
      "track ID. 814 length= 55\n",
      "track ID. 815 length= 2\n",
      "track ID. 816 length= 414\n",
      "track ID. 817 length= 748\n",
      "track ID. 818 length= 1\n",
      "track ID. 819 length= 9\n",
      "track ID. 820 length= 2\n",
      "track ID. 821 length= 360\n",
      "track ID. 822 length= 131\n",
      "track ID. 823 length= 7\n",
      "track ID. 824 length= 1\n",
      "track ID. 827 length= 1\n",
      "track ID. 829 length= 12\n",
      "track ID. 830 length= 4\n",
      "track ID. 831 length= 1\n",
      "track ID. 832 length= 1\n",
      "track ID. 833 length= 61\n",
      "track ID. 834 length= 1\n",
      "track ID. 835 length= 2\n",
      "track ID. 837 length= 1\n",
      "track ID. 838 length= 241\n",
      "track ID. 839 length= 690\n",
      "track ID. 843 length= 1\n",
      "track ID. 842 length= 1\n",
      "track ID. 841 length= 7\n",
      "track ID. 840 length= 14\n",
      "track ID. 845 length= 1\n",
      "track ID. 846 length= 1\n",
      "track ID. 847 length= 41\n",
      "track ID. 848 length= 1\n",
      "track ID. 849 length= 5\n",
      "track ID. 850 length= 280\n",
      "track ID. 851 length= 222\n",
      "track ID. 852 length= 4\n",
      "track ID. 853 length= 4\n",
      "track ID. 854 length= 1\n",
      "track ID. 855 length= 4\n",
      "track ID. 856 length= 119\n",
      "track ID. 860 length= 6\n",
      "track ID. 859 length= 160\n",
      "track ID. 857 length= 4\n",
      "track ID. 858 length= 1\n",
      "track ID. 863 length= 326\n",
      "track ID. 862 length= 1\n",
      "track ID. 864 length= 86\n",
      "track ID. 865 length= 4\n",
      "track ID. 867 length= 1\n",
      "track ID. 866 length= 399\n",
      "track ID. 868 length= 1\n",
      "track ID. 870 length= 1\n",
      "track ID. 871 length= 4\n",
      "track ID. 872 length= 4\n",
      "track ID. 873 length= 16\n",
      "track ID. 875 length= 1\n",
      "track ID. 876 length= 2\n",
      "track ID. 877 length= 1\n",
      "track ID. 878 length= 3\n",
      "track ID. 884 length= 1\n",
      "track ID. 882 length= 4\n",
      "track ID. 881 length= 1\n",
      "track ID. 880 length= 1\n",
      "track ID. 885 length= 4\n",
      "track ID. 886 length= 16\n",
      "track ID. 887 length= 32\n",
      "track ID. 888 length= 633\n",
      "track ID. 889 length= 12\n",
      "track ID. 890 length= 7\n",
      "track ID. 891 length= 372\n",
      "track ID. 892 length= 586\n",
      "track ID. 893 length= 3\n",
      "track ID. 894 length= 2\n",
      "track ID. 895 length= 1\n",
      "track ID. 896 length= 78\n",
      "track ID. 899 length= 5\n",
      "track ID. 898 length= 10\n",
      "track ID. 900 length= 1\n",
      "track ID. 901 length= 1\n",
      "track ID. 902 length= 9\n",
      "track ID. 903 length= 2\n",
      "track ID. 904 length= 4\n",
      "track ID. 905 length= 4\n",
      "track ID. 907 length= 4\n",
      "track ID. 908 length= 1\n",
      "track ID. 911 length= 1\n",
      "track ID. 910 length= 5\n",
      "track ID. 909 length= 129\n",
      "track ID. 912 length= 1\n",
      "track ID. 913 length= 14\n",
      "track ID. 914 length= 467\n",
      "track ID. 915 length= 123\n",
      "track ID. 917 length= 3\n",
      "track ID. 916 length= 4\n",
      "track ID. 918 length= 28\n",
      "track ID. 921 length= 1\n",
      "track ID. 924 length= 2\n",
      "track ID. 925 length= 1\n",
      "track ID. 926 length= 1\n",
      "track ID. 927 length= 342\n",
      "track ID. 928 length= 144\n",
      "track ID. 929 length= 1\n",
      "track ID. 930 length= 1\n",
      "track ID. 931 length= 60\n",
      "track ID. 932 length= 1\n",
      "track ID. 933 length= 1\n",
      "track ID. 934 length= 4\n",
      "track ID. 936 length= 1\n",
      "track ID. 937 length= 25\n",
      "track ID. 935 length= 1\n",
      "track ID. 938 length= 1\n",
      "track ID. 939 length= 1\n",
      "track ID. 940 length= 311\n",
      "track ID. 944 length= 2\n",
      "track ID. 943 length= 1\n",
      "track ID. 942 length= 9\n",
      "track ID. 941 length= 1\n",
      "track ID. 945 length= 324\n",
      "track ID. 946 length= 300\n",
      "track ID. 947 length= 64\n",
      "track ID. 948 length= 688\n",
      "track ID. 949 length= 3\n",
      "track ID. 950 length= 2\n",
      "track ID. 951 length= 1\n",
      "track ID. 956 length= 1\n",
      "track ID. 955 length= 7\n",
      "track ID. 954 length= 523\n",
      "track ID. 953 length= 1\n",
      "track ID. 952 length= 345\n",
      "track ID. 957 length= 1\n",
      "track ID. 958 length= 8\n",
      "track ID. 959 length= 467\n",
      "track ID. 961 length= 1\n",
      "track ID. 962 length= 1\n",
      "track ID. 963 length= 250\n",
      "track ID. 964 length= 2\n",
      "track ID. 965 length= 7\n",
      "track ID. 966 length= 4\n",
      "track ID. 969 length= 1\n",
      "track ID. 967 length= 1\n",
      "track ID. 968 length= 1\n",
      "track ID. 970 length= 21\n",
      "track ID. 971 length= 676\n",
      "track ID. 972 length= 1\n",
      "track ID. 973 length= 192\n",
      "track ID. 974 length= 194\n",
      "track ID. 975 length= 15\n",
      "track ID. 977 length= 1\n",
      "track ID. 978 length= 30\n",
      "track ID. 980 length= 15\n",
      "track ID. 981 length= 455\n",
      "track ID. 982 length= 1\n",
      "track ID. 984 length= 2\n",
      "track ID. 983 length= 2\n",
      "track ID. 985 length= 1\n",
      "track ID. 986 length= 139\n",
      "track ID. 987 length= 277\n",
      "track ID. 988 length= 4\n",
      "track ID. 989 length= 4\n",
      "track ID. 990 length= 54\n",
      "track ID. 991 length= 4\n",
      "track ID. 992 length= 1\n",
      "track ID. 993 length= 222\n",
      "track ID. 994 length= 22\n",
      "track ID. 996 length= 1\n",
      "track ID. 997 length= 1\n",
      "track ID. 998 length= 1\n",
      "track ID. 1000 length= 2\n",
      "track ID. 999 length= 1\n",
      "track ID. 1001 length= 1\n",
      "track ID. 1002 length= 1\n",
      "track ID. 1004 length= 3\n",
      "track ID. 1005 length= 11\n",
      "track ID. 1006 length= 6\n",
      "track ID. 1007 length= 126\n",
      "track ID. 1009 length= 1\n",
      "track ID. 1010 length= 1\n",
      "track ID. 1012 length= 5\n",
      "track ID. 1013 length= 1\n",
      "track ID. 1014 length= 499\n",
      "track ID. 1015 length= 1\n",
      "track ID. 1016 length= 1\n",
      "track ID. 1018 length= 261\n",
      "track ID. 1019 length= 1\n",
      "track ID. 1020 length= 1\n",
      "track ID. 1022 length= 1\n",
      "track ID. 1024 length= 5\n",
      "track ID. 1025 length= 463\n",
      "track ID. 1027 length= 24\n",
      "track ID. 1028 length= 1\n",
      "track ID. 1029 length= 1\n",
      "track ID. 1030 length= 1\n",
      "track ID. 1031 length= 1\n",
      "track ID. 1032 length= 5\n",
      "track ID. 1033 length= 1\n",
      "track ID. 1035 length= 1\n",
      "track ID. 1036 length= 1\n",
      "track ID. 1037 length= 1\n",
      "track ID. 1038 length= 4\n",
      "track ID. 1039 length= 5\n",
      "track ID. 1041 length= 1\n",
      "track ID. 1040 length= 351\n",
      "track ID. 1042 length= 1\n",
      "track ID. 1043 length= 25\n",
      "track ID. 1044 length= 1\n",
      "track ID. 1045 length= 9\n",
      "track ID. 1046 length= 1\n",
      "track ID. 1047 length= 14\n",
      "track ID. 1049 length= 1\n",
      "track ID. 1050 length= 1\n",
      "track ID. 1051 length= 60\n",
      "track ID. 1052 length= 38\n",
      "track ID. 1053 length= 1\n",
      "track ID. 1054 length= 1\n",
      "track ID. 1055 length= 1\n",
      "track ID. 1057 length= 1\n",
      "track ID. 1056 length= 42\n",
      "track ID. 1059 length= 1\n",
      "track ID. 1060 length= 1\n",
      "track ID. 1061 length= 1\n",
      "track ID. 1063 length= 1\n",
      "track ID. 1064 length= 1\n",
      "track ID. 1065 length= 134\n",
      "track ID. 1066 length= 5\n",
      "track ID. 1067 length= 1\n",
      "track ID. 1069 length= 147\n",
      "track ID. 1070 length= 5\n",
      "track ID. 1071 length= 1\n",
      "track ID. 1072 length= 3\n",
      "track ID. 1074 length= 1\n",
      "track ID. 1075 length= 6\n",
      "track ID. 1076 length= 169\n",
      "track ID. 1079 length= 30\n",
      "track ID. 1080 length= 33\n",
      "track ID. 1081 length= 2\n",
      "track ID. 1082 length= 392\n",
      "track ID. 1078 length= 1\n",
      "track ID. 1083 length= 2\n",
      "track ID. 1084 length= 134\n",
      "track ID. 1085 length= 456\n",
      "track ID. 1086 length= 25\n",
      "track ID. 1088 length= 573\n",
      "track ID. 1089 length= 572\n",
      "track ID. 1090 length= 1\n",
      "track ID. 1092 length= 12\n",
      "track ID. 1093 length= 6\n",
      "track ID. 1094 length= 290\n",
      "track ID. 1097 length= 37\n",
      "track ID. 1096 length= 1\n",
      "track ID. 1095 length= 207\n",
      "track ID. 1098 length= 482\n",
      "track ID. 1099 length= 4\n",
      "track ID. 1100 length= 236\n",
      "track ID. 1101 length= 5\n",
      "track ID. 1102 length= 64\n",
      "track ID. 1103 length= 2\n",
      "track ID. 1104 length= 3\n",
      "track ID. 1105 length= 1\n",
      "track ID. 1109 length= 1\n",
      "track ID. 1112 length= 1\n",
      "track ID. 1114 length= 173\n",
      "track ID. 1115 length= 31\n",
      "track ID. 1116 length= 1\n",
      "track ID. 1121 length= 1\n",
      "track ID. 1122 length= 12\n",
      "track ID. 1117 length= 1\n",
      "track ID. 1118 length= 1\n",
      "track ID. 1119 length= 1\n",
      "track ID. 1124 length= 56\n",
      "track ID. 1125 length= 2\n",
      "track ID. 1126 length= 46\n",
      "track ID. 1127 length= 1\n",
      "track ID. 1128 length= 1\n",
      "track ID. 1130 length= 1\n",
      "track ID. 1131 length= 1\n",
      "track ID. 1132 length= 550\n",
      "track ID. 1133 length= 3\n",
      "track ID. 1137 length= 1\n",
      "track ID. 1136 length= 1\n",
      "track ID. 1135 length= 20\n",
      "track ID. 1134 length= 1\n",
      "track ID. 1138 length= 1\n",
      "track ID. 1139 length= 1\n",
      "track ID. 1140 length= 158\n",
      "track ID. 1141 length= 3\n",
      "track ID. 1145 length= 1\n",
      "track ID. 1146 length= 1\n",
      "track ID. 1147 length= 5\n",
      "track ID. 1149 length= 1\n",
      "track ID. 1150 length= 3\n",
      "track ID. 1151 length= 13\n",
      "track ID. 1152 length= 1\n",
      "track ID. 1153 length= 113\n",
      "track ID. 1154 length= 111\n",
      "track ID. 1158 length= 2\n",
      "track ID. 1159 length= 2\n",
      "track ID. 1155 length= 23\n",
      "track ID. 1157 length= 3\n",
      "track ID. 1162 length= 2\n",
      "track ID. 1165 length= 3\n",
      "track ID. 1168 length= 7\n",
      "track ID. 1167 length= 1\n",
      "track ID. 1169 length= 2\n",
      "track ID. 1170 length= 9\n",
      "track ID. 1171 length= 1\n",
      "track ID. 1172 length= 3\n",
      "track ID. 1173 length= 2\n",
      "track ID. 1174 length= 12\n",
      "track ID. 1175 length= 3\n",
      "track ID. 1176 length= 1\n",
      "track ID. 1177 length= 118\n",
      "track ID. 1178 length= 1\n",
      "track ID. 1180 length= 1\n",
      "track ID. 1181 length= 1\n",
      "track ID. 1182 length= 1\n",
      "track ID. 1183 length= 4\n",
      "track ID. 1184 length= 1\n",
      "track ID. 1185 length= 14\n",
      "track ID. 1186 length= 92\n",
      "track ID. 1187 length= 3\n",
      "track ID. 1188 length= 1\n",
      "track ID. 1189 length= 1\n",
      "track ID. 1190 length= 5\n",
      "track ID. 1191 length= 5\n",
      "track ID. 1192 length= 20\n",
      "track ID. 1193 length= 34\n",
      "track ID. 1194 length= 1\n",
      "track ID. 1196 length= 27\n",
      "track ID. 1197 length= 9\n",
      "track ID. 1198 length= 1\n",
      "track ID. 1200 length= 1\n",
      "track ID. 1202 length= 13\n",
      "track ID. 1203 length= 1\n",
      "track ID. 1206 length= 4\n",
      "track ID. 1207 length= 22\n",
      "track ID. 1208 length= 122\n",
      "track ID. 1209 length= 5\n",
      "track ID. 1210 length= 1\n",
      "track ID. 1211 length= 1\n",
      "track ID. 1212 length= 1\n",
      "track ID. 1213 length= 5\n",
      "track ID. 1214 length= 5\n",
      "track ID. 1215 length= 10\n",
      "track ID. 1216 length= 1\n",
      "track ID. 1218 length= 10\n",
      "track ID. 1219 length= 21\n",
      "track ID. 1221 length= 1\n",
      "track ID. 1220 length= 7\n",
      "track ID. 1223 length= 1\n",
      "track ID. 1224 length= 7\n",
      "track ID. 1225 length= 1\n",
      "track ID. 1226 length= 1\n",
      "track ID. 1228 length= 1\n",
      "track ID. 1230 length= 16\n",
      "track ID. 1231 length= 11\n",
      "track ID. 1232 length= 188\n",
      "track ID. 1233 length= 486\n",
      "track ID. 1234 length= 25\n",
      "track ID. 1235 length= 18\n",
      "track ID. 1236 length= 17\n",
      "track ID. 1238 length= 430\n",
      "track ID. 1240 length= 9\n",
      "track ID. 1241 length= 11\n",
      "track ID. 1243 length= 10\n",
      "track ID. 1244 length= 2\n",
      "track ID. 1245 length= 1\n",
      "track ID. 1246 length= 1\n",
      "track ID. 1247 length= 1\n",
      "track ID. 1248 length= 1\n",
      "track ID. 1249 length= 1\n",
      "track ID. 1250 length= 1\n",
      "track ID. 1251 length= 1\n",
      "track ID. 1252 length= 1\n",
      "track ID. 1254 length= 2\n",
      "track ID. 1255 length= 1\n",
      "track ID. 1256 length= 5\n",
      "track ID. 1257 length= 38\n",
      "track ID. 1258 length= 472\n",
      "track ID. 1263 length= 471\n",
      "track ID. 1262 length= 1\n",
      "track ID. 1261 length= 6\n",
      "track ID. 1265 length= 1\n",
      "track ID. 1266 length= 1\n",
      "track ID. 1267 length= 3\n",
      "track ID. 1268 length= 466\n",
      "track ID. 1270 length= 2\n",
      "track ID. 1271 length= 15\n",
      "track ID. 1272 length= 1\n",
      "track ID. 1274 length= 1\n",
      "track ID. 1275 length= 127\n",
      "track ID. 1276 length= 1\n",
      "track ID. 1277 length= 1\n",
      "track ID. 1278 length= 1\n",
      "track ID. 1279 length= 2\n",
      "track ID. 1283 length= 2\n",
      "track ID. 1284 length= 460\n",
      "track ID. 1281 length= 3\n",
      "track ID. 1280 length= 460\n",
      "track ID. 1282 length= 2\n",
      "track ID. 1285 length= 6\n",
      "track ID. 1286 length= 4\n",
      "track ID. 1287 length= 7\n",
      "track ID. 1288 length= 3\n",
      "track ID. 1289 length= 458\n",
      "track ID. 1290 length= 1\n",
      "track ID. 1291 length= 1\n",
      "track ID. 1292 length= 5\n",
      "track ID. 1294 length= 2\n",
      "track ID. 1300 length= 7\n",
      "track ID. 1298 length= 7\n",
      "track ID. 1296 length= 4\n",
      "track ID. 1295 length= 4\n",
      "track ID. 1297 length= 1\n",
      "track ID. 1301 length= 1\n",
      "track ID. 1302 length= 7\n",
      "track ID. 1303 length= 450\n",
      "track ID. 1304 length= 1\n",
      "track ID. 1305 length= 5\n",
      "track ID. 1306 length= 448\n",
      "track ID. 1307 length= 4\n",
      "track ID. 1308 length= 10\n",
      "track ID. 1309 length= 447\n",
      "track ID. 1310 length= 4\n",
      "track ID. 1311 length= 4\n",
      "track ID. 1314 length= 446\n",
      "track ID. 1317 length= 7\n",
      "track ID. 1316 length= 446\n",
      "track ID. 1315 length= 2\n",
      "track ID. 1312 length= 1\n",
      "track ID. 1320 length= 1\n",
      "track ID. 1319 length= 2\n",
      "track ID. 1321 length= 50\n",
      "track ID. 1322 length= 443\n",
      "track ID. 1323 length= 347\n",
      "track ID. 1324 length= 1\n",
      "track ID. 1325 length= 442\n",
      "track ID. 1326 length= 441\n",
      "track ID. 1327 length= 1\n",
      "track ID. 1328 length= 3\n",
      "track ID. 1329 length= 171\n",
      "track ID. 1330 length= 111\n",
      "track ID. 1331 length= 437\n",
      "track ID. 1332 length= 1\n",
      "track ID. 1334 length= 436\n",
      "track ID. 1336 length= 2\n",
      "track ID. 1335 length= 436\n",
      "track ID. 1333 length= 1\n",
      "track ID. 1337 length= 435\n",
      "track ID. 1338 length= 1\n",
      "track ID. 1339 length= 1\n",
      "track ID. 1340 length= 396\n",
      "track ID. 1341 length= 2\n",
      "track ID. 1343 length= 1\n",
      "track ID. 1345 length= 1\n",
      "track ID. 1346 length= 6\n",
      "track ID. 1347 length= 431\n",
      "track ID. 1348 length= 431\n",
      "track ID. 1349 length= 431\n",
      "track ID. 1351 length= 7\n",
      "track ID. 1352 length= 113\n",
      "track ID. 1350 length= 429\n",
      "track ID. 1353 length= 1\n",
      "track ID. 1355 length= 427\n",
      "track ID. 1356 length= 1\n",
      "track ID. 1357 length= 1\n",
      "track ID. 1358 length= 2\n",
      "track ID. 1359 length= 1\n",
      "track ID. 1360 length= 1\n",
      "track ID. 1361 length= 1\n",
      "track ID. 1362 length= 138\n",
      "track ID. 1363 length= 4\n",
      "track ID. 1364 length= 421\n",
      "track ID. 1365 length= 412\n",
      "track ID. 1366 length= 1\n",
      "track ID. 1368 length= 4\n",
      "track ID. 1370 length= 1\n",
      "track ID. 1369 length= 138\n",
      "track ID. 1371 length= 11\n",
      "track ID. 1372 length= 418\n",
      "track ID. 1373 length= 1\n",
      "track ID. 1374 length= 41\n",
      "track ID. 1375 length= 14\n",
      "track ID. 1377 length= 10\n",
      "track ID. 1378 length= 41\n",
      "track ID. 1379 length= 4\n",
      "track ID. 1380 length= 1\n",
      "track ID. 1381 length= 1\n",
      "track ID. 1385 length= 1\n",
      "track ID. 1384 length= 1\n",
      "track ID. 1382 length= 1\n",
      "track ID. 1383 length= 18\n",
      "track ID. 1386 length= 1\n",
      "track ID. 1387 length= 24\n",
      "track ID. 1388 length= 1\n",
      "track ID. 1389 length= 411\n",
      "track ID. 1390 length= 4\n",
      "track ID. 1391 length= 409\n",
      "track ID. 1392 length= 2\n",
      "track ID. 1393 length= 408\n",
      "track ID. 1394 length= 7\n",
      "track ID. 1395 length= 407\n",
      "track ID. 1396 length= 1\n",
      "track ID. 1397 length= 127\n",
      "track ID. 1398 length= 5\n",
      "track ID. 1399 length= 1\n",
      "track ID. 1400 length= 1\n",
      "track ID. 1401 length= 403\n",
      "track ID. 1404 length= 2\n",
      "track ID. 1405 length= 1\n",
      "track ID. 1406 length= 1\n",
      "track ID. 1407 length= 1\n",
      "track ID. 1408 length= 6\n",
      "track ID. 1409 length= 369\n",
      "track ID. 1410 length= 5\n",
      "track ID. 1411 length= 312\n",
      "track ID. 1412 length= 399\n",
      "track ID. 1413 length= 1\n",
      "track ID. 1414 length= 1\n",
      "track ID. 1415 length= 1\n",
      "track ID. 1416 length= 76\n",
      "track ID. 1417 length= 85\n",
      "track ID. 1419 length= 1\n",
      "track ID. 1418 length= 1\n",
      "track ID. 1420 length= 396\n",
      "track ID. 1421 length= 10\n",
      "track ID. 1422 length= 395\n",
      "track ID. 1423 length= 49\n",
      "track ID. 1424 length= 249\n",
      "track ID. 1425 length= 20\n",
      "track ID. 1426 length= 4\n",
      "track ID. 1427 length= 393\n",
      "track ID. 1428 length= 1\n",
      "track ID. 1429 length= 44\n",
      "track ID. 1430 length= 391\n",
      "track ID. 1431 length= 16\n",
      "track ID. 1432 length= 391\n",
      "track ID. 1433 length= 1\n",
      "track ID. 1434 length= 390\n",
      "track ID. 1437 length= 390\n",
      "track ID. 1436 length= 32\n",
      "track ID. 1435 length= 4\n",
      "track ID. 1439 length= 1\n",
      "track ID. 1442 length= 1\n",
      "track ID. 1443 length= 1\n",
      "track ID. 1444 length= 13\n",
      "track ID. 1445 length= 12\n",
      "track ID. 1446 length= 387\n",
      "track ID. 1447 length= 387\n",
      "track ID. 1449 length= 6\n",
      "track ID. 1450 length= 387\n",
      "track ID. 1451 length= 2\n",
      "track ID. 1454 length= 3\n",
      "track ID. 1452 length= 385\n",
      "track ID. 1453 length= 3\n",
      "track ID. 1456 length= 1\n",
      "track ID. 1458 length= 1\n",
      "track ID. 1457 length= 1\n",
      "track ID. 1459 length= 179\n",
      "track ID. 1464 length= 383\n",
      "track ID. 1463 length= 11\n",
      "track ID. 1461 length= 1\n",
      "track ID. 1460 length= 1\n",
      "track ID. 1462 length= 4\n",
      "track ID. 1465 length= 1\n",
      "track ID. 1466 length= 382\n",
      "track ID. 1467 length= 1\n",
      "track ID. 1468 length= 382\n",
      "track ID. 1470 length= 381\n",
      "track ID. 1469 length= 11\n",
      "track ID. 1471 length= 1\n",
      "track ID. 1472 length= 4\n",
      "track ID. 1473 length= 379\n",
      "track ID. 1474 length= 1\n",
      "track ID. 1475 length= 19\n",
      "track ID. 1476 length= 1\n",
      "track ID. 1477 length= 1\n",
      "track ID. 1481 length= 4\n",
      "track ID. 1480 length= 1\n",
      "track ID. 1479 length= 2\n",
      "track ID. 1482 length= 7\n",
      "track ID. 1483 length= 376\n",
      "track ID. 1484 length= 376\n",
      "track ID. 1485 length= 1\n",
      "track ID. 1486 length= 1\n",
      "track ID. 1487 length= 1\n",
      "track ID. 1488 length= 1\n",
      "track ID. 1489 length= 1\n",
      "track ID. 1490 length= 373\n",
      "track ID. 1493 length= 1\n",
      "track ID. 1494 length= 372\n",
      "track ID. 1496 length= 14\n",
      "track ID. 1495 length= 7\n",
      "track ID. 1497 length= 151\n",
      "track ID. 1498 length= 3\n",
      "track ID. 1499 length= 1\n",
      "track ID. 1500 length= 6\n",
      "track ID. 1501 length= 3\n",
      "track ID. 1502 length= 1\n",
      "track ID. 1503 length= 1\n",
      "track ID. 1504 length= 135\n",
      "track ID. 1505 length= 228\n",
      "track ID. 1506 length= 20\n",
      "track ID. 1508 length= 1\n",
      "track ID. 1510 length= 1\n",
      "track ID. 1509 length= 10\n",
      "track ID. 1512 length= 3\n",
      "track ID. 1513 length= 1\n",
      "track ID. 1515 length= 366\n",
      "track ID. 1516 length= 1\n",
      "track ID. 1517 length= 9\n",
      "track ID. 1518 length= 1\n",
      "track ID. 1519 length= 1\n",
      "track ID. 1521 length= 1\n",
      "track ID. 1522 length= 7\n",
      "track ID. 1523 length= 1\n",
      "track ID. 1524 length= 1\n",
      "track ID. 1527 length= 4\n",
      "track ID. 1526 length= 1\n",
      "track ID. 1525 length= 1\n",
      "track ID. 1528 length= 9\n",
      "track ID. 1530 length= 1\n",
      "track ID. 1531 length= 83\n",
      "track ID. 1532 length= 16\n",
      "track ID. 1533 length= 43\n",
      "track ID. 1534 length= 358\n",
      "track ID. 1536 length= 6\n",
      "track ID. 1537 length= 1\n",
      "track ID. 1538 length= 1\n",
      "track ID. 1539 length= 1\n",
      "track ID. 1541 length= 356\n",
      "track ID. 1542 length= 10\n",
      "track ID. 1543 length= 1\n",
      "track ID. 1544 length= 355\n",
      "track ID. 1545 length= 354\n",
      "track ID. 1546 length= 354\n",
      "track ID. 1548 length= 5\n",
      "track ID. 1551 length= 1\n",
      "track ID. 1552 length= 1\n",
      "track ID. 1550 length= 1\n",
      "track ID. 1553 length= 1\n",
      "track ID. 1554 length= 1\n",
      "track ID. 1555 length= 1\n",
      "track ID. 1556 length= 349\n",
      "track ID. 1557 length= 2\n",
      "track ID. 1558 length= 348\n",
      "track ID. 1559 length= 1\n",
      "track ID. 1560 length= 9\n",
      "track ID. 1571 length= 1\n",
      "track ID. 1562 length= 10\n",
      "track ID. 1570 length= 4\n",
      "track ID. 1569 length= 346\n",
      "track ID. 1568 length= 41\n",
      "track ID. 1567 length= 1\n",
      "track ID. 1565 length= 1\n",
      "track ID. 1564 length= 346\n",
      "track ID. 1563 length= 1\n",
      "track ID. 1561 length= 3\n",
      "track ID. 1566 length= 3\n",
      "track ID. 1572 length= 345\n",
      "track ID. 1573 length= 345\n",
      "track ID. 1574 length= 345\n",
      "track ID. 1575 length= 1\n",
      "track ID. 1579 length= 4\n",
      "track ID. 1580 length= 1\n",
      "track ID. 1578 length= 1\n",
      "track ID. 1577 length= 1\n",
      "track ID. 1576 length= 1\n",
      "track ID. 1581 length= 1\n",
      "track ID. 1582 length= 1\n",
      "track ID. 1583 length= 117\n",
      "track ID. 1584 length= 1\n",
      "track ID. 1585 length= 1\n",
      "track ID. 1586 length= 1\n",
      "track ID. 1587 length= 2\n"
     ]
    },
    {
     "name": "stdout",
     "output_type": "stream",
     "text": [
      "track ID. 1588 length= 339\n",
      "track ID. 1589 length= 1\n",
      "track ID. 1593 length= 3\n",
      "track ID. 1592 length= 6\n",
      "track ID. 1590 length= 338\n",
      "track ID. 1591 length= 2\n",
      "track ID. 1595 length= 2\n",
      "track ID. 1594 length= 26\n",
      "track ID. 1596 length= 1\n",
      "track ID. 1597 length= 3\n",
      "track ID. 1598 length= 3\n",
      "track ID. 1599 length= 1\n",
      "track ID. 1600 length= 1\n",
      "track ID. 1601 length= 3\n",
      "track ID. 1602 length= 16\n",
      "track ID. 1603 length= 2\n",
      "track ID. 1604 length= 18\n",
      "track ID. 1605 length= 1\n",
      "track ID. 1606 length= 4\n",
      "track ID. 1607 length= 1\n",
      "track ID. 1608 length= 1\n",
      "track ID. 1610 length= 1\n",
      "track ID. 1609 length= 1\n",
      "track ID. 1611 length= 328\n",
      "track ID. 1612 length= 1\n",
      "track ID. 1613 length= 7\n",
      "track ID. 1614 length= 1\n",
      "track ID. 1615 length= 6\n",
      "track ID. 1616 length= 1\n",
      "track ID. 1617 length= 6\n",
      "track ID. 1618 length= 52\n",
      "track ID. 1619 length= 302\n",
      "track ID. 1620 length= 1\n",
      "track ID. 1622 length= 11\n",
      "track ID. 1623 length= 1\n",
      "track ID. 1625 length= 2\n",
      "track ID. 1628 length= 1\n",
      "track ID. 1627 length= 1\n",
      "track ID. 1624 length= 11\n",
      "track ID. 1626 length= 1\n",
      "track ID. 1629 length= 1\n",
      "track ID. 1630 length= 7\n",
      "track ID. 1631 length= 16\n",
      "track ID. 1632 length= 53\n",
      "track ID. 1633 length= 1\n",
      "track ID. 1634 length= 1\n",
      "track ID. 1635 length= 2\n",
      "track ID. 1636 length= 1\n",
      "track ID. 1637 length= 1\n",
      "track ID. 1638 length= 2\n",
      "track ID. 1639 length= 10\n",
      "track ID. 1640 length= 7\n",
      "track ID. 1641 length= 2\n",
      "track ID. 1643 length= 1\n",
      "track ID. 1642 length= 1\n",
      "track ID. 1644 length= 318\n",
      "track ID. 1645 length= 1\n",
      "track ID. 1646 length= 318\n",
      "track ID. 1647 length= 317\n",
      "track ID. 1649 length= 1\n",
      "track ID. 1651 length= 315\n",
      "track ID. 1652 length= 19\n",
      "track ID. 1653 length= 315\n",
      "track ID. 1654 length= 315\n",
      "track ID. 1659 length= 40\n",
      "track ID. 1658 length= 1\n",
      "track ID. 1656 length= 3\n",
      "track ID. 1655 length= 314\n",
      "track ID. 1657 length= 27\n",
      "track ID. 1660 length= 1\n",
      "track ID. 1661 length= 1\n",
      "track ID. 1662 length= 4\n",
      "track ID. 1664 length= 313\n",
      "track ID. 1665 length= 313\n",
      "track ID. 1666 length= 313\n",
      "track ID. 1667 length= 313\n",
      "track ID. 1668 length= 4\n",
      "track ID. 1674 length= 1\n",
      "track ID. 1673 length= 4\n",
      "track ID. 1671 length= 1\n",
      "track ID. 1669 length= 1\n",
      "track ID. 1672 length= 5\n",
      "track ID. 1675 length= 184\n",
      "track ID. 1676 length= 311\n",
      "track ID. 1682 length= 1\n",
      "track ID. 1681 length= 208\n",
      "track ID. 1680 length= 1\n",
      "track ID. 1679 length= 1\n",
      "track ID. 1678 length= 1\n",
      "track ID. 1684 length= 308\n",
      "track ID. 1685 length= 3\n",
      "track ID. 1686 length= 4\n",
      "track ID. 1687 length= 2\n",
      "track ID. 1688 length= 1\n",
      "track ID. 1689 length= 1\n",
      "track ID. 1694 length= 307\n",
      "track ID. 1693 length= 1\n",
      "track ID. 1691 length= 307\n",
      "track ID. 1692 length= 39\n",
      "track ID. 1696 length= 1\n",
      "track ID. 1697 length= 305\n",
      "track ID. 1698 length= 5\n",
      "track ID. 1699 length= 305\n",
      "track ID. 1700 length= 1\n",
      "track ID. 1702 length= 303\n",
      "track ID. 1703 length= 302\n",
      "track ID. 1704 length= 1\n",
      "track ID. 1705 length= 33\n",
      "track ID. 1706 length= 3\n",
      "track ID. 1707 length= 12\n",
      "track ID. 1708 length= 25\n",
      "track ID. 1709 length= 301\n",
      "track ID. 1711 length= 1\n",
      "track ID. 1712 length= 12\n",
      "track ID. 1713 length= 1\n",
      "track ID. 1714 length= 1\n",
      "track ID. 1715 length= 14\n",
      "track ID. 1717 length= 6\n",
      "track ID. 1718 length= 298\n",
      "track ID. 1720 length= 1\n",
      "track ID. 1721 length= 297\n",
      "track ID. 1722 length= 1\n",
      "track ID. 1723 length= 1\n",
      "track ID. 1724 length= 5\n",
      "track ID. 1725 length= 3\n",
      "track ID. 1726 length= 295\n",
      "track ID. 1736 length= 294\n",
      "track ID. 1734 length= 1\n",
      "track ID. 1733 length= 8\n",
      "track ID. 1732 length= 1\n",
      "track ID. 1730 length= 1\n",
      "track ID. 1731 length= 294\n",
      "track ID. 1727 length= 294\n",
      "track ID. 1729 length= 1\n",
      "track ID. 1728 length= 2\n",
      "track ID. 1738 length= 292\n",
      "track ID. 1739 length= 6\n",
      "track ID. 1737 length= 39\n",
      "track ID. 1741 length= 6\n",
      "track ID. 1742 length= 1\n",
      "track ID. 1743 length= 1\n",
      "track ID. 1744 length= 1\n",
      "track ID. 1747 length= 1\n",
      "track ID. 1748 length= 290\n",
      "track ID. 1745 length= 7\n",
      "track ID. 1749 length= 289\n",
      "track ID. 1751 length= 1\n",
      "track ID. 1752 length= 14\n",
      "track ID. 1756 length= 5\n",
      "track ID. 1757 length= 5\n",
      "track ID. 1759 length= 1\n",
      "track ID. 1761 length= 158\n",
      "track ID. 1760 length= 285\n",
      "track ID. 1762 length= 284\n",
      "track ID. 1763 length= 1\n",
      "track ID. 1764 length= 1\n",
      "track ID. 1765 length= 3\n",
      "track ID. 1766 length= 283\n",
      "track ID. 1767 length= 7\n",
      "track ID. 1769 length= 3\n",
      "track ID. 1770 length= 2\n",
      "track ID. 1771 length= 1\n",
      "track ID. 1772 length= 281\n",
      "track ID. 1773 length= 17\n",
      "track ID. 1774 length= 1\n",
      "track ID. 1776 length= 1\n",
      "track ID. 1777 length= 279\n",
      "track ID. 1778 length= 3\n",
      "track ID. 1779 length= 2\n",
      "track ID. 1780 length= 9\n",
      "track ID. 1781 length= 277\n",
      "track ID. 1782 length= 1\n",
      "track ID. 1783 length= 1\n",
      "track ID. 1784 length= 25\n",
      "track ID. 1785 length= 276\n",
      "track ID. 1786 length= 3\n",
      "track ID. 1787 length= 276\n",
      "track ID. 1788 length= 2\n",
      "track ID. 1789 length= 2\n",
      "track ID. 1790 length= 276\n",
      "track ID. 1793 length= 2\n",
      "track ID. 1794 length= 1\n",
      "track ID. 1792 length= 4\n",
      "track ID. 1791 length= 2\n",
      "track ID. 1795 length= 146\n",
      "track ID. 1796 length= 4\n",
      "track ID. 1798 length= 1\n",
      "track ID. 1799 length= 270\n",
      "track ID. 1800 length= 23\n",
      "track ID. 1801 length= 263\n",
      "track ID. 1802 length= 5\n",
      "track ID. 1804 length= 8\n",
      "track ID. 1805 length= 270\n",
      "track ID. 1810 length= 8\n",
      "track ID. 1814 length= 1\n",
      "track ID. 1813 length= 138\n",
      "track ID. 1812 length= 1\n",
      "track ID. 1811 length= 268\n",
      "track ID. 1809 length= 6\n",
      "track ID. 1808 length= 249\n",
      "track ID. 1807 length= 1\n",
      "track ID. 1806 length= 2\n",
      "track ID. 1815 length= 2\n",
      "track ID. 1817 length= 266\n",
      "track ID. 1818 length= 13\n",
      "track ID. 1819 length= 1\n",
      "track ID. 1821 length= 8\n",
      "track ID. 1822 length= 37\n",
      "track ID. 1823 length= 1\n",
      "track ID. 1824 length= 32\n",
      "track ID. 1825 length= 264\n",
      "track ID. 1826 length= 248\n",
      "track ID. 1828 length= 8\n",
      "track ID. 1831 length= 3\n",
      "track ID. 1833 length= 263\n",
      "track ID. 1832 length= 18\n",
      "track ID. 1830 length= 1\n",
      "track ID. 1829 length= 10\n",
      "track ID. 1834 length= 262\n",
      "track ID. 1835 length= 260\n",
      "track ID. 1836 length= 121\n",
      "track ID. 1837 length= 1\n",
      "track ID. 1838 length= 1\n",
      "track ID. 1839 length= 259\n",
      "track ID. 1841 length= 1\n",
      "track ID. 1842 length= 258\n",
      "track ID. 1844 length= 257\n",
      "track ID. 1845 length= 206\n",
      "track ID. 1847 length= 30\n",
      "track ID. 1848 length= 3\n",
      "track ID. 1850 length= 1\n",
      "track ID. 1852 length= 43\n",
      "track ID. 1851 length= 1\n",
      "track ID. 1853 length= 1\n",
      "track ID. 1854 length= 254\n",
      "track ID. 1855 length= 1\n",
      "track ID. 1856 length= 14\n",
      "track ID. 1857 length= 1\n",
      "track ID. 1858 length= 1\n",
      "track ID. 1860 length= 9\n",
      "track ID. 1859 length= 1\n",
      "track ID. 1861 length= 1\n",
      "track ID. 1862 length= 250\n",
      "track ID. 1863 length= 249\n",
      "track ID. 1864 length= 249\n",
      "track ID. 1865 length= 1\n",
      "track ID. 1866 length= 1\n",
      "track ID. 1868 length= 1\n",
      "track ID. 1871 length= 2\n",
      "track ID. 1869 length= 247\n",
      "track ID. 1872 length= 2\n",
      "track ID. 1873 length= 21\n",
      "track ID. 1874 length= 242\n",
      "track ID. 1875 length= 4\n",
      "track ID. 1876 length= 2\n",
      "track ID. 1877 length= 1\n",
      "track ID. 1878 length= 16\n",
      "track ID. 1879 length= 1\n",
      "track ID. 1880 length= 2\n",
      "track ID. 1882 length= 1\n",
      "track ID. 1886 length= 1\n",
      "track ID. 1885 length= 1\n",
      "track ID. 1883 length= 243\n",
      "track ID. 1884 length= 1\n",
      "track ID. 1889 length= 3\n",
      "track ID. 1890 length= 1\n",
      "track ID. 1891 length= 240\n",
      "track ID. 1892 length= 1\n",
      "track ID. 1893 length= 3\n",
      "track ID. 1894 length= 239\n",
      "track ID. 1895 length= 1\n",
      "track ID. 1896 length= 238\n",
      "track ID. 1897 length= 238\n",
      "track ID. 1906 length= 1\n",
      "track ID. 1905 length= 1\n",
      "track ID. 1903 length= 24\n",
      "track ID. 1900 length= 237\n",
      "track ID. 1898 length= 3\n",
      "track ID. 1902 length= 10\n",
      "track ID. 1908 length= 1\n",
      "track ID. 1909 length= 3\n",
      "track ID. 1910 length= 1\n",
      "track ID. 1911 length= 9\n",
      "track ID. 1913 length= 234\n",
      "track ID. 1914 length= 38\n",
      "track ID. 1915 length= 2\n",
      "track ID. 1921 length= 6\n",
      "track ID. 1920 length= 232\n",
      "track ID. 1919 length= 5\n",
      "track ID. 1918 length= 1\n",
      "track ID. 1917 length= 2\n",
      "track ID. 1916 length= 232\n",
      "track ID. 1922 length= 1\n",
      "track ID. 1927 length= 1\n",
      "track ID. 1926 length= 1\n",
      "track ID. 1924 length= 231\n",
      "track ID. 1923 length= 1\n",
      "track ID. 1925 length= 1\n",
      "track ID. 1928 length= 139\n",
      "track ID. 1929 length= 7\n",
      "track ID. 1930 length= 1\n",
      "track ID. 1931 length= 1\n",
      "track ID. 1932 length= 225\n",
      "track ID. 1934 length= 224\n",
      "track ID. 1936 length= 9\n",
      "track ID. 1937 length= 1\n",
      "track ID. 1938 length= 223\n",
      "track ID. 1939 length= 223\n",
      "track ID. 1940 length= 1\n",
      "track ID. 1941 length= 2\n",
      "track ID. 1942 length= 4\n",
      "track ID. 1943 length= 1\n",
      "track ID. 1944 length= 220\n",
      "track ID. 1945 length= 220\n",
      "track ID. 1946 length= 12\n",
      "track ID. 1947 length= 2\n",
      "track ID. 1948 length= 1\n",
      "track ID. 1949 length= 220\n",
      "track ID. 1950 length= 3\n",
      "track ID. 1951 length= 3\n",
      "track ID. 1952 length= 3\n",
      "track ID. 1956 length= 37\n",
      "track ID. 1955 length= 3\n",
      "track ID. 1953 length= 219\n",
      "track ID. 1954 length= 2\n",
      "track ID. 1957 length= 1\n",
      "track ID. 1958 length= 5\n",
      "track ID. 1959 length= 1\n",
      "track ID. 1960 length= 11\n",
      "track ID. 1961 length= 2\n",
      "track ID. 1962 length= 22\n",
      "track ID. 1963 length= 215\n",
      "track ID. 1964 length= 214\n",
      "track ID. 1965 length= 214\n",
      "track ID. 1966 length= 1\n",
      "track ID. 1967 length= 1\n",
      "track ID. 1968 length= 1\n",
      "track ID. 1970 length= 1\n",
      "track ID. 1973 length= 14\n",
      "track ID. 1972 length= 2\n",
      "track ID. 1971 length= 1\n",
      "track ID. 1974 length= 210\n",
      "track ID. 1975 length= 1\n",
      "track ID. 1976 length= 1\n",
      "track ID. 1977 length= 210\n",
      "track ID. 1978 length= 1\n",
      "track ID. 1982 length= 2\n",
      "track ID. 1984 length= 65\n",
      "track ID. 1985 length= 2\n",
      "track ID. 1986 length= 1\n",
      "track ID. 1987 length= 102\n",
      "track ID. 1988 length= 1\n",
      "track ID. 1989 length= 205\n",
      "track ID. 1990 length= 3\n",
      "track ID. 1994 length= 204\n",
      "track ID. 1995 length= 1\n",
      "track ID. 1991 length= 149\n",
      "track ID. 1992 length= 5\n",
      "track ID. 1993 length= 2\n",
      "track ID. 1996 length= 4\n",
      "track ID. 1998 length= 3\n",
      "track ID. 1999 length= 29\n",
      "track ID. 2000 length= 200\n",
      "track ID. 2001 length= 199\n",
      "track ID. 2002 length= 3\n",
      "track ID. 2003 length= 196\n",
      "track ID. 2004 length= 196\n",
      "track ID. 2005 length= 1\n",
      "track ID. 2006 length= 1\n",
      "track ID. 2007 length= 1\n",
      "track ID. 2008 length= 24\n",
      "track ID. 2009 length= 85\n",
      "track ID. 2011 length= 1\n",
      "track ID. 2010 length= 3\n",
      "track ID. 2013 length= 1\n",
      "track ID. 2014 length= 6\n",
      "track ID. 2015 length= 5\n",
      "track ID. 2016 length= 1\n",
      "track ID. 2017 length= 1\n",
      "track ID. 2018 length= 25\n",
      "track ID. 2020 length= 4\n",
      "track ID. 2021 length= 1\n",
      "track ID. 2022 length= 1\n",
      "track ID. 2023 length= 2\n",
      "track ID. 2024 length= 4\n",
      "track ID. 2025 length= 1\n",
      "track ID. 2026 length= 5\n",
      "track ID. 2027 length= 53\n",
      "track ID. 2029 length= 7\n",
      "track ID. 2028 length= 1\n",
      "track ID. 2031 length= 1\n",
      "track ID. 2030 length= 1\n",
      "track ID. 2032 length= 1\n",
      "track ID. 2034 length= 174\n",
      "track ID. 2035 length= 1\n",
      "track ID. 2036 length= 1\n",
      "track ID. 2037 length= 172\n",
      "track ID. 2039 length= 2\n",
      "track ID. 2040 length= 1\n",
      "track ID. 2041 length= 1\n",
      "track ID. 2042 length= 1\n",
      "track ID. 2044 length= 4\n",
      "track ID. 2046 length= 3\n",
      "track ID. 2047 length= 1\n",
      "track ID. 2048 length= 162\n",
      "track ID. 2049 length= 3\n",
      "track ID. 2050 length= 3\n",
      "track ID. 2051 length= 4\n",
      "track ID. 2052 length= 26\n",
      "track ID. 2053 length= 7\n",
      "track ID. 2054 length= 4\n",
      "track ID. 2055 length= 8\n",
      "track ID. 2056 length= 9\n",
      "track ID. 2057 length= 1\n",
      "track ID. 2058 length= 7\n",
      "track ID. 2059 length= 155\n",
      "track ID. 2061 length= 1\n",
      "track ID. 2063 length= 110\n",
      "track ID. 2064 length= 2\n",
      "track ID. 2066 length= 1\n",
      "track ID. 2068 length= 12\n",
      "track ID. 2071 length= 43\n",
      "track ID. 2069 length= 1\n",
      "track ID. 2072 length= 13\n",
      "track ID. 2073 length= 3\n",
      "track ID. 2075 length= 2\n",
      "track ID. 2076 length= 18\n",
      "track ID. 2077 length= 1\n",
      "track ID. 2078 length= 1\n",
      "track ID. 2079 length= 1\n",
      "track ID. 2080 length= 4\n",
      "track ID. 2082 length= 1\n",
      "track ID. 2083 length= 1\n",
      "track ID. 2084 length= 1\n",
      "track ID. 2085 length= 9\n",
      "track ID. 2086 length= 15\n",
      "track ID. 2087 length= 4\n",
      "track ID. 2088 length= 1\n",
      "track ID. 2089 length= 16\n",
      "track ID. 2090 length= 1\n",
      "track ID. 2093 length= 9\n",
      "track ID. 2094 length= 1\n",
      "track ID. 2096 length= 1\n",
      "track ID. 2097 length= 1\n",
      "track ID. 2098 length= 1\n",
      "track ID. 2099 length= 16\n",
      "track ID. 2101 length= 1\n",
      "track ID. 2102 length= 1\n",
      "track ID. 2106 length= 1\n",
      "track ID. 2105 length= 26\n",
      "track ID. 2103 length= 1\n",
      "track ID. 2104 length= 1\n",
      "track ID. 2108 length= 1\n",
      "track ID. 2109 length= 2\n",
      "track ID. 2110 length= 1\n",
      "track ID. 2112 length= 126\n",
      "track ID. 2113 length= 4\n",
      "track ID. 2114 length= 35\n",
      "track ID. 2115 length= 124\n",
      "track ID. 2116 length= 1\n",
      "track ID. 2118 length= 1\n",
      "track ID. 2119 length= 7\n",
      "track ID. 2124 length= 21\n",
      "track ID. 2125 length= 5\n",
      "track ID. 2123 length= 121\n",
      "track ID. 2122 length= 121\n",
      "track ID. 2121 length= 17\n",
      "track ID. 2120 length= 3\n",
      "track ID. 2126 length= 14\n",
      "track ID. 2127 length= 1\n",
      "track ID. 2128 length= 1\n",
      "track ID. 2129 length= 7\n",
      "track ID. 2130 length= 119\n",
      "track ID. 2131 length= 3\n",
      "track ID. 2133 length= 2\n",
      "track ID. 2134 length= 1\n",
      "track ID. 2136 length= 116\n",
      "track ID. 2137 length= 5\n",
      "track ID. 2138 length= 1\n",
      "track ID. 2142 length= 1\n",
      "track ID. 2140 length= 25\n",
      "track ID. 2141 length= 1\n",
      "track ID. 2143 length= 1\n",
      "track ID. 2144 length= 1\n",
      "track ID. 2145 length= 1\n",
      "track ID. 2146 length= 3\n",
      "track ID. 2147 length= 4\n",
      "track ID. 2149 length= 108\n",
      "track ID. 2150 length= 1\n",
      "track ID. 2151 length= 109\n",
      "track ID. 2152 length= 1\n",
      "track ID. 2153 length= 109\n",
      "track ID. 2154 length= 1\n",
      "track ID. 2155 length= 4\n",
      "track ID. 2156 length= 104\n",
      "track ID. 2158 length= 3\n",
      "track ID. 2157 length= 103\n",
      "track ID. 2159 length= 1\n",
      "track ID. 2161 length= 1\n",
      "track ID. 2162 length= 101\n",
      "track ID. 2163 length= 1\n",
      "track ID. 2164 length= 1\n",
      "track ID. 2165 length= 10\n",
      "track ID. 2167 length= 20\n",
      "track ID. 2168 length= 1\n",
      "track ID. 2171 length= 34\n",
      "track ID. 2170 length= 2\n",
      "track ID. 2169 length= 98\n",
      "track ID. 2172 length= 1\n",
      "track ID. 2173 length= 1\n",
      "track ID. 2174 length= 76\n",
      "track ID. 2175 length= 3\n",
      "track ID. 2177 length= 1\n",
      "track ID. 2176 length= 1\n",
      "track ID. 2178 length= 1\n",
      "track ID. 2181 length= 1\n",
      "track ID. 2180 length= 1\n",
      "track ID. 2182 length= 3\n",
      "track ID. 2183 length= 3\n",
      "track ID. 2184 length= 1\n",
      "track ID. 2185 length= 1\n",
      "track ID. 2186 length= 1\n",
      "track ID. 2187 length= 87\n",
      "track ID. 2188 length= 1\n",
      "track ID. 2189 length= 1\n",
      "track ID. 2190 length= 2\n",
      "track ID. 2191 length= 1\n",
      "track ID. 2192 length= 1\n",
      "track ID. 2193 length= 84\n",
      "track ID. 2194 length= 83\n",
      "track ID. 2195 length= 62\n",
      "track ID. 2196 length= 1\n",
      "track ID. 2197 length= 79\n",
      "track ID. 2198 length= 9\n",
      "track ID. 2199 length= 1\n",
      "track ID. 2200 length= 1\n",
      "track ID. 2201 length= 4\n",
      "track ID. 2202 length= 1\n",
      "track ID. 2203 length= 1\n",
      "track ID. 2205 length= 72\n",
      "track ID. 2206 length= 1\n",
      "track ID. 2207 length= 4\n",
      "track ID. 2208 length= 4\n",
      "track ID. 2209 length= 24\n",
      "track ID. 2210 length= 68\n",
      "track ID. 2213 length= 18\n",
      "track ID. 2212 length= 67\n",
      "track ID. 2211 length= 1\n",
      "track ID. 2214 length= 65\n",
      "track ID. 2216 length= 1\n",
      "track ID. 2217 length= 2\n",
      "track ID. 2219 length= 63\n",
      "track ID. 2220 length= 14\n",
      "track ID. 2221 length= 1\n",
      "track ID. 2222 length= 1\n",
      "track ID. 2224 length= 1\n",
      "track ID. 2225 length= 43\n",
      "track ID. 2226 length= 57\n",
      "track ID. 2227 length= 5\n",
      "track ID. 2229 length= 55\n",
      "track ID. 2232 length= 1\n",
      "track ID. 2231 length= 1\n",
      "track ID. 2230 length= 5\n",
      "track ID. 2235 length= 3\n",
      "track ID. 2236 length= 4\n",
      "track ID. 2237 length= 1\n",
      "track ID. 2238 length= 1\n",
      "track ID. 2239 length= 49\n",
      "track ID. 2240 length= 1\n",
      "track ID. 2241 length= 2\n",
      "track ID. 2242 length= 1\n",
      "track ID. 2243 length= 49\n",
      "track ID. 2244 length= 1\n",
      "track ID. 2245 length= 48\n",
      "track ID. 2247 length= 2\n",
      "track ID. 2251 length= 46\n",
      "track ID. 2249 length= 33\n",
      "track ID. 2248 length= 46\n",
      "track ID. 2250 length= 13\n",
      "track ID. 2253 length= 26\n",
      "track ID. 2255 length= 4\n",
      "track ID. 2256 length= 12\n",
      "track ID. 2257 length= 1\n",
      "track ID. 2258 length= 8\n",
      "track ID. 2260 length= 2\n",
      "track ID. 2261 length= 2\n",
      "track ID. 2262 length= 1\n",
      "track ID. 2264 length= 1\n",
      "track ID. 2265 length= 1\n",
      "track ID. 2267 length= 1\n",
      "track ID. 2268 length= 3\n",
      "track ID. 2271 length= 1\n",
      "track ID. 2272 length= 33\n",
      "track ID. 2274 length= 5\n",
      "track ID. 2275 length= 10\n",
      "track ID. 2276 length= 22\n",
      "track ID. 2277 length= 2\n",
      "track ID. 2278 length= 5\n",
      "track ID. 2279 length= 21\n",
      "track ID. 2280 length= 2\n",
      "track ID. 2281 length= 1\n",
      "track ID. 2282 length= 1\n",
      "track ID. 2283 length= 1\n",
      "track ID. 2284 length= 4\n",
      "track ID. 2285 length= 4\n",
      "track ID. 2286 length= 21\n",
      "track ID. 2287 length= 1\n",
      "track ID. 2288 length= 21\n",
      "track ID. 2289 length= 7\n",
      "track ID. 2291 length= 2\n",
      "track ID. 2290 length= 2\n",
      "track ID. 2292 length= 17\n",
      "track ID. 2293 length= 16\n",
      "track ID. 2294 length= 4\n",
      "track ID. 2295 length= 5\n",
      "track ID. 2296 length= 11\n",
      "track ID. 2297 length= 1\n",
      "track ID. 2298 length= 4\n",
      "track ID. 2299 length= 1\n",
      "track ID. 2300 length= 14\n",
      "track ID. 2301 length= 1\n",
      "track ID. 2302 length= 13\n",
      "track ID. 2303 length= 1\n",
      "track ID. 2307 length= 2\n",
      "track ID. 2311 length= 7\n",
      "track ID. 2309 length= 2\n",
      "track ID. 2308 length= 2\n",
      "track ID. 2306 length= 1\n",
      "track ID. 2305 length= 1\n",
      "track ID. 2312 length= 1\n",
      "track ID. 2313 length= 1\n",
      "track ID. 2315 length= 5\n",
      "track ID. 2316 length= 3\n",
      "track ID. 2317 length= 3\n",
      "track ID. 2318 length= 3\n",
      "track ID. 2319 length= 1\n",
      "track ID. 2320 length= 2\n",
      "track ID. 2321 length= 1\n",
      "track ID. 2322 length= 1\n",
      "track ID. 2323 length= 1\n"
     ]
    }
   ],
   "source": [
    "### length of tracks \n",
    "for i in range(len(tracks)):\n",
    "    print(\"track ID.\", tracks[i].ID,\"length=\", len(tracks[i]))"
   ]
  },
  {
   "cell_type": "markdown",
   "metadata": {},
   "source": [
    "Histogram of track lengths"
   ]
  },
  {
   "cell_type": "code",
   "execution_count": 7,
   "metadata": {},
   "outputs": [
    {
     "name": "stdout",
     "output_type": "stream",
     "text": [
      "1092\n"
     ]
    },
    {
     "data": {
      "image/png": "[encoded data removed]",
      "text/plain": [
       "<Figure size 432x288 with 1 Axes>"
      ]
     },
     "metadata": {
      "needs_background": "light"
     },
     "output_type": "display_data"
    }
   ],
   "source": [
    "#size, scale = 1000, 10\n",
    "track_lengths = [len(track) for track in tracks] \n",
    "tracks_df = pd.Series(track_lengths)\n",
    "print(max(tracks_df))\n",
    "\n",
    "tracks_df.plot.hist(grid=True, bins=25, rwidth=0.9,\n",
    "                   color='#607c8e')\n",
    "title = 'Distribution of track lengths cellpose'\n",
    "plt.title(title)\n",
    "plt.xlabel('Track length')\n",
    "plt.ylabel('Frequency')\n",
    "plt.grid(axis='y', alpha=0.75)"
   ]
  },
  {
   "cell_type": "markdown",
   "metadata": {},
   "source": [
    "### Filter track lengths if desired"
   ]
  },
  {
   "cell_type": "code",
   "execution_count": 12,
   "metadata": {},
   "outputs": [
    {
     "name": "stdout",
     "output_type": "stream",
     "text": [
      "number of tracks that are in this criterion are =  1348\n",
      "[1, 2, 3, 4, 5, 6, 7, 8, 9, 10, 11, 12, 13, 15, 16, 17, 18, 19, 20, 21, 22, 23, 25, 26, 27, 28, 30, 31, 32, 33, 34, 35, 36, 37, 38, 39, 41, 42, 43, 44, 45, 46, 47, 48, 49, 50, 51, 52, 53, 54, 55, 56, 57, 58, 59, 60, 61, 62, 63, 64, 65, 66, 67, 68, 69, 70, 71, 72, 73, 74, 75, 76, 77, 78, 79, 80, 81, 82, 83, 84, 85, 86, 87, 88, 89, 90, 91, 92, 93, 94, 95, 96, 97, 98, 99, 100, 101, 104, 105, 106, 110, 111, 113, 114, 115, 117, 118, 123, 125, 126, 128, 129, 131, 132, 134, 135, 137, 143, 145, 146, 147, 148, 150, 152, 155, 158, 160, 161, 163, 164, 166, 167, 170, 172, 173, 174, 177, 178, 180, 181, 182, 185, 186, 189, 192, 196, 197, 198, 199, 201, 203, 205, 208, 211, 213, 214, 216, 218, 221, 222, 223, 224, 225, 226, 227, 229, 230, 234, 235, 236, 237, 238, 239, 240, 241, 242, 244, 245, 246, 247, 248, 249, 250, 251, 253, 254, 255, 257, 259, 260, 263, 264, 266, 267, 268, 269, 270, 272, 273, 274, 276, 282, 283, 285, 292, 293, 295, 296, 297, 298, 301, 303, 304, 306, 307, 308, 309, 310, 312, 313, 314, 315, 316, 317, 318, 322, 324, 325, 326, 327, 330, 331, 332, 333, 337, 339, 340, 343, 345, 346, 348, 350, 351, 356, 357, 358, 359, 360, 361, 362, 363, 364, 365, 366, 367, 368, 369, 370, 374, 375, 376, 377, 378, 381, 382, 383, 385, 386, 387, 388, 389, 391, 394, 395, 398, 399, 400, 402, 406, 407, 408, 411, 413, 414, 415, 416, 417, 418, 420, 421, 422, 424, 428, 429, 430, 431, 432, 433, 434, 435, 437, 438, 439, 440, 441, 442, 444, 445, 446, 447, 448, 449, 451, 456, 457, 458, 459, 460, 461, 462, 464, 465, 466, 468, 469, 470, 471, 472, 473, 475, 477, 478, 480, 482, 483, 484, 485, 486, 487, 488, 489, 490, 494, 495, 496, 498, 499, 500, 503, 504, 505, 507, 508, 509, 510, 511, 512, 513, 514, 515, 516, 517, 518, 519, 520, 521, 522, 524, 525, 526, 528, 529, 533, 534, 539, 540, 541, 542, 543, 544, 545, 547, 552, 553, 554, 556, 557, 558, 559, 562, 564, 565, 566, 567, 568, 570, 571, 573, 574, 575, 576, 577, 579, 580, 581, 582, 583, 584, 589, 590, 591, 593, 594, 595, 597, 598, 599, 600, 601, 604, 605, 606, 608, 610, 614, 615, 621, 622, 624, 626, 627, 628, 631, 632, 633, 635, 636, 637, 640, 644, 646, 647, 648, 649, 651, 652, 653, 654, 656, 658, 659, 661, 662, 664, 666, 667, 668, 669, 672, 673, 675, 677, 679, 680, 682, 683, 684, 685, 686, 688, 689, 690, 691, 694, 695, 698, 701, 704, 705, 706, 708, 709, 711, 712, 713, 714, 716, 717, 718, 719, 720, 722, 723, 724, 725, 727, 735, 737, 739, 740, 742, 744, 748, 749, 750, 751, 752, 753, 754, 756, 757, 759, 760, 761, 763, 764, 770, 771, 775, 776, 783, 785, 786, 787, 788, 789, 790, 792, 794, 795, 800, 801, 802, 803, 804, 805, 807, 809, 810, 811, 812, 813, 814, 815, 816, 817, 819, 820, 821, 822, 823, 829, 830, 833, 835, 838, 839, 840, 841, 847, 849, 850, 851, 852, 853, 855, 856, 857, 859, 860, 863, 864, 865, 866, 871, 872, 873, 876, 878, 882, 885, 886, 887, 888, 889, 890, 891, 892, 893, 894, 896, 898, 899, 902, 903, 904, 905, 907, 909, 910, 913, 914, 915, 916, 917, 918, 924, 927, 928, 931, 934, 937, 940, 942, 944, 945, 946, 947, 948, 949, 950, 952, 954, 955, 958, 959, 963, 964, 965, 966, 970, 971, 973, 974, 975, 978, 980, 981, 983, 984, 986, 987, 988, 989, 990, 991, 993, 994, 1000, 1004, 1005, 1006, 1007, 1012, 1014, 1018, 1024, 1025, 1027, 1032, 1038, 1039, 1040, 1043, 1045, 1047, 1051, 1052, 1056, 1065, 1066, 1069, 1070, 1072, 1075, 1076, 1079, 1080, 1081, 1082, 1083, 1084, 1085, 1086, 1088, 1089, 1092, 1093, 1094, 1095, 1097, 1098, 1099, 1100, 1101, 1102, 1103, 1104, 1114, 1115, 1122, 1124, 1125, 1126, 1132, 1133, 1135, 1140, 1141, 1147, 1150, 1151, 1153, 1154, 1155, 1157, 1158, 1159, 1162, 1165, 1168, 1169, 1170, 1172, 1173, 1174, 1175, 1177, 1183, 1185, 1186, 1187, 1190, 1191, 1192, 1193, 1196, 1197, 1202, 1206, 1207, 1208, 1209, 1213, 1214, 1215, 1218, 1219, 1220, 1224, 1230, 1231, 1232, 1233, 1234, 1235, 1236, 1238, 1240, 1241, 1243, 1244, 1254, 1256, 1257, 1258, 1261, 1263, 1267, 1268, 1270, 1271, 1275, 1279, 1280, 1281, 1282, 1283, 1284, 1285, 1286, 1287, 1288, 1289, 1292, 1294, 1295, 1296, 1298, 1300, 1302, 1303, 1305, 1306, 1307, 1308, 1309, 1310, 1311, 1314, 1315, 1316, 1317, 1319, 1321, 1322, 1323, 1325, 1326, 1328, 1329, 1330, 1331, 1334, 1335, 1336, 1337, 1340, 1341, 1346, 1347, 1348, 1349, 1350, 1351, 1352, 1355, 1358, 1362, 1363, 1364, 1365, 1368, 1369, 1371, 1372, 1374, 1375, 1377, 1378, 1379, 1383, 1387, 1389, 1390, 1391, 1392, 1393, 1394, 1395, 1397, 1398, 1401, 1404, 1408, 1409, 1410, 1411, 1412, 1416, 1417, 1420, 1421, 1422, 1423, 1424, 1425, 1426, 1427, 1429, 1430, 1431, 1432, 1434, 1435, 1436, 1437, 1444, 1445, 1446, 1447, 1449, 1450, 1451, 1452, 1453, 1454, 1459, 1462, 1463, 1464, 1466, 1468, 1469, 1470, 1472, 1473, 1475, 1479, 1481, 1482, 1483, 1484, 1490, 1494, 1495, 1496, 1497, 1498, 1500, 1501, 1504, 1505, 1506, 1509, 1512, 1515, 1517, 1522, 1527, 1528, 1531, 1532, 1533, 1534, 1536, 1541, 1542, 1544, 1545, 1546, 1548, 1556, 1557, 1558, 1560, 1561, 1562, 1564, 1566, 1568, 1569, 1570, 1572, 1573, 1574, 1579, 1583, 1587, 1588, 1590, 1591, 1592, 1593, 1594, 1595, 1597, 1598, 1601, 1602, 1603, 1604, 1606, 1611, 1613, 1615, 1617, 1618, 1619, 1622, 1624, 1625, 1630, 1631, 1632, 1635, 1638, 1639, 1640, 1641, 1644, 1646, 1647, 1651, 1652, 1653, 1654, 1655, 1656, 1657, 1659, 1662, 1664, 1665, 1666, 1667, 1668, 1672, 1673, 1675, 1676, 1681, 1684, 1685, 1686, 1687, 1691, 1692, 1694, 1697, 1698, 1699, 1702, 1703, 1705, 1706, 1707, 1708, 1709, 1712, 1715, 1717, 1718, 1721, 1724, 1725, 1726, 1727, 1728, 1731, 1733, 1736, 1737, 1738, 1739, 1741, 1745, 1748, 1749, 1752, 1756, 1757, 1760, 1761, 1762, 1765, 1766, 1767, 1769, 1770, 1772, 1773, 1777, 1778, 1779, 1780, 1781, 1784, 1785, 1786, 1787, 1788, 1789, 1790, 1791, 1792, 1793, 1795, 1796, 1799, 1800, 1801, 1802, 1804, 1805, 1806, 1808, 1809, 1810, 1811, 1813, 1815, 1817, 1818, 1821, 1822, 1824, 1825, 1826, 1828, 1829, 1831, 1832, 1833, 1834, 1835, 1836, 1839, 1842, 1844, 1845, 1847, 1848, 1852, 1854, 1856, 1860, 1862, 1863, 1864, 1869, 1871, 1872, 1873, 1874, 1875, 1876, 1878, 1880, 1883, 1889, 1891, 1893, 1894, 1896, 1897, 1898, 1900, 1902, 1903, 1909, 1911, 1913, 1914, 1915, 1916, 1917, 1919, 1920, 1921, 1924, 1928, 1929, 1932, 1934, 1936, 1938, 1939, 1941, 1942, 1944, 1945, 1946, 1947, 1949, 1950, 1951, 1952, 1953, 1954, 1955, 1956, 1958, 1960, 1961, 1962, 1963, 1964, 1965, 1972, 1973, 1974, 1977, 1982, 1984, 1985, 1987, 1989, 1990, 1991, 1992, 1993, 1994, 1996, 1998, 1999, 2000, 2001, 2002, 2003, 2004, 2008, 2009, 2010, 2014, 2015, 2018, 2020, 2023, 2024, 2026, 2027, 2029, 2034, 2037, 2039, 2044, 2046, 2048, 2049, 2050, 2051, 2052, 2053, 2054, 2055, 2056, 2058, 2059, 2063, 2064, 2068, 2071, 2072, 2073, 2075, 2076, 2080, 2085, 2086, 2087, 2089, 2093, 2099, 2105, 2109, 2112, 2113, 2114, 2115, 2119, 2120, 2121, 2122, 2123, 2124, 2125, 2126, 2129, 2130, 2131, 2133, 2136, 2137, 2140, 2146, 2147, 2149, 2151, 2153, 2155, 2156, 2157, 2158, 2162, 2165, 2167, 2169, 2170, 2171, 2174, 2175, 2182, 2183, 2187, 2190, 2193, 2194, 2195, 2197, 2198, 2201, 2205, 2207, 2208, 2209, 2210, 2212, 2213, 2214, 2217, 2219, 2220, 2225, 2226, 2227, 2229, 2230, 2235, 2236, 2239, 2241, 2243, 2245, 2247, 2248, 2249, 2250, 2251, 2253, 2255, 2256, 2258, 2260, 2261, 2268, 2272, 2274, 2275, 2276, 2277, 2278, 2279, 2280, 2284, 2285, 2286, 2288, 2289, 2290, 2291, 2292, 2293, 2294, 2295, 2296, 2298, 2300, 2302, 2307, 2308, 2309, 2311, 2315, 2316, 2317, 2318, 2320]\n",
      "ID =  65 / Length =  133\n",
      "ID =  77 / Length =  69\n",
      "ID =  76 / Length =  22\n",
      "ID =  75 / Length =  5\n",
      "ID =  74 / Length =  107\n",
      "ID =  73 / Length =  64\n",
      "ID =  72 / Length =  1091\n",
      "ID =  71 / Length =  2\n",
      "ID =  70 / Length =  386\n",
      "ID =  69 / Length =  55\n",
      "ID =  68 / Length =  349\n",
      "ID =  67 / Length =  23\n",
      "ID =  66 / Length =  75\n",
      "ID =  78 / Length =  178\n",
      "ID =  64 / Length =  629\n",
      "ID =  63 / Length =  52\n",
      "ID =  62 / Length =  57\n",
      "ID =  61 / Length =  96\n",
      "ID =  60 / Length =  21\n",
      "ID =  59 / Length =  7\n",
      "ID =  58 / Length =  94\n",
      "ID =  57 / Length =  865\n",
      "ID =  56 / Length =  86\n",
      "ID =  55 / Length =  25\n",
      "ID =  54 / Length =  602\n",
      "ID =  53 / Length =  37\n",
      "ID =  91 / Length =  160\n",
      "ID =  1 / Length =  12\n",
      "ID =  101 / Length =  558\n",
      "ID =  100 / Length =  23\n",
      "ID =  99 / Length =  128\n",
      "ID =  98 / Length =  12\n",
      "ID =  97 / Length =  111\n",
      "ID =  96 / Length =  25\n",
      "ID =  95 / Length =  58\n",
      "ID =  94 / Length =  609\n",
      "ID =  93 / Length =  49\n",
      "ID =  92 / Length =  59\n",
      "ID =  2 / Length =  591\n",
      "ID =  90 / Length =  22\n",
      "ID =  89 / Length =  46\n",
      "ID =  88 / Length =  24\n",
      "ID =  87 / Length =  70\n",
      "ID =  86 / Length =  201\n",
      "ID =  85 / Length =  682\n",
      "ID =  84 / Length =  65\n",
      "ID =  83 / Length =  15\n",
      "ID =  82 / Length =  179\n",
      "ID =  81 / Length =  20\n",
      "ID =  80 / Length =  115\n",
      "ID =  79 / Length =  21\n",
      "ID =  26 / Length =  179\n",
      "ID =  25 / Length =  24\n",
      "ID =  23 / Length =  16\n",
      "ID =  22 / Length =  54\n",
      "ID =  21 / Length =  148\n",
      "ID =  20 / Length =  719\n",
      "ID =  19 / Length =  167\n",
      "ID =  18 / Length =  379\n",
      "ID =  17 / Length =  135\n",
      "ID =  16 / Length =  803\n",
      "ID =  15 / Length =  20\n",
      "ID =  51 / Length =  170\n",
      "ID =  13 / Length =  137\n",
      "ID =  12 / Length =  68\n",
      "ID =  11 / Length =  48\n",
      "ID =  10 / Length =  227\n",
      "ID =  9 / Length =  3\n",
      "ID =  8 / Length =  12\n",
      "ID =  7 / Length =  534\n",
      "ID =  6 / Length =  56\n",
      "ID =  5 / Length =  756\n",
      "ID =  4 / Length =  61\n",
      "ID =  3 / Length =  120\n",
      "ID =  52 / Length =  163\n",
      "ID =  28 / Length =  664\n",
      "ID =  50 / Length =  425\n",
      "ID =  49 / Length =  554\n",
      "ID =  48 / Length =  239\n",
      "ID =  47 / Length =  17\n",
      "ID =  46 / Length =  1092\n",
      "ID =  45 / Length =  165\n",
      "ID =  44 / Length =  36\n",
      "ID =  43 / Length =  575\n",
      "ID =  42 / Length =  10\n",
      "ID =  41 / Length =  42\n",
      "ID =  38 / Length =  9\n",
      "ID =  27 / Length =  3\n",
      "ID =  30 / Length =  9\n",
      "ID =  31 / Length =  14\n",
      "ID =  32 / Length =  2\n",
      "ID =  33 / Length =  24\n",
      "ID =  34 / Length =  58\n",
      "ID =  35 / Length =  21\n",
      "ID =  36 / Length =  17\n",
      "ID =  37 / Length =  81\n",
      "ID =  39 / Length =  80\n",
      "ID =  104 / Length =  19\n",
      "ID =  111 / Length =  19\n",
      "ID =  110 / Length =  12\n",
      "ID =  106 / Length =  53\n",
      "ID =  105 / Length =  2\n",
      "ID =  113 / Length =  66\n",
      "ID =  114 / Length =  2\n",
      "ID =  115 / Length =  340\n",
      "ID =  117 / Length =  101\n",
      "ID =  118 / Length =  71\n",
      "ID =  123 / Length =  4\n",
      "ID =  125 / Length =  4\n",
      "ID =  126 / Length =  21\n",
      "ID =  132 / Length =  4\n",
      "ID =  131 / Length =  10\n",
      "ID =  129 / Length =  3\n",
      "ID =  128 / Length =  5\n",
      "ID =  134 / Length =  5\n",
      "ID =  135 / Length =  3\n",
      "ID =  137 / Length =  3\n",
      "ID =  143 / Length =  33\n",
      "ID =  145 / Length =  17\n",
      "ID =  146 / Length =  243\n",
      "ID =  147 / Length =  3\n",
      "ID =  148 / Length =  41\n",
      "ID =  150 / Length =  180\n",
      "ID =  152 / Length =  84\n",
      "ID =  155 / Length =  9\n",
      "ID =  158 / Length =  3\n",
      "ID =  160 / Length =  2\n",
      "ID =  161 / Length =  581\n",
      "ID =  163 / Length =  54\n",
      "ID =  164 / Length =  762\n",
      "ID =  166 / Length =  3\n",
      "ID =  167 / Length =  495\n",
      "ID =  170 / Length =  43\n",
      "ID =  172 / Length =  682\n",
      "ID =  173 / Length =  573\n",
      "ID =  174 / Length =  4\n",
      "ID =  177 / Length =  17\n",
      "ID =  178 / Length =  127\n",
      "ID =  180 / Length =  331\n",
      "ID =  181 / Length =  11\n",
      "ID =  182 / Length =  1062\n",
      "ID =  186 / Length =  28\n",
      "ID =  185 / Length =  64\n",
      "ID =  189 / Length =  612\n",
      "ID =  192 / Length =  5\n",
      "ID =  198 / Length =  115\n",
      "ID =  197 / Length =  528\n",
      "ID =  196 / Length =  10\n",
      "ID =  199 / Length =  70\n",
      "ID =  201 / Length =  8\n",
      "ID =  203 / Length =  5\n",
      "ID =  205 / Length =  22\n",
      "ID =  208 / Length =  7\n",
      "ID =  211 / Length =  3\n",
      "ID =  213 / Length =  6\n",
      "ID =  214 / Length =  5\n",
      "ID =  216 / Length =  8\n",
      "ID =  218 / Length =  53\n",
      "ID =  221 / Length =  246\n",
      "ID =  222 / Length =  6\n",
      "ID =  223 / Length =  2\n",
      "ID =  227 / Length =  54\n",
      "ID =  225 / Length =  14\n",
      "ID =  226 / Length =  10\n",
      "ID =  224 / Length =  12\n",
      "ID =  229 / Length =  495\n",
      "ID =  230 / Length =  72\n",
      "ID =  234 / Length =  498\n",
      "ID =  235 / Length =  20\n",
      "ID =  236 / Length =  84\n",
      "ID =  237 / Length =  2\n",
      "ID =  238 / Length =  36\n",
      "ID =  239 / Length =  1030\n",
      "ID =  241 / Length =  399\n",
      "ID =  242 / Length =  2\n",
      "ID =  240 / Length =  11\n",
      "ID =  244 / Length =  294\n",
      "ID =  245 / Length =  452\n",
      "ID =  246 / Length =  3\n",
      "ID =  247 / Length =  386\n",
      "ID =  248 / Length =  3\n",
      "ID =  249 / Length =  140\n",
      "ID =  250 / Length =  9\n",
      "ID =  254 / Length =  147\n",
      "ID =  253 / Length =  2\n",
      "ID =  251 / Length =  2\n",
      "ID =  255 / Length =  21\n",
      "ID =  257 / Length =  528\n",
      "ID =  259 / Length =  2\n",
      "ID =  260 / Length =  714\n",
      "ID =  263 / Length =  6\n",
      "ID =  264 / Length =  3\n",
      "ID =  266 / Length =  149\n",
      "ID =  270 / Length =  66\n",
      "ID =  274 / Length =  15\n",
      "ID =  273 / Length =  355\n",
      "ID =  272 / Length =  4\n",
      "ID =  269 / Length =  4\n",
      "ID =  268 / Length =  68\n",
      "ID =  267 / Length =  556\n",
      "ID =  276 / Length =  412\n",
      "ID =  282 / Length =  4\n",
      "ID =  283 / Length =  143\n",
      "ID =  285 / Length =  53\n",
      "ID =  292 / Length =  39\n",
      "ID =  293 / Length =  47\n",
      "ID =  295 / Length =  3\n",
      "ID =  296 / Length =  3\n",
      "ID =  298 / Length =  2\n",
      "ID =  297 / Length =  19\n",
      "ID =  301 / Length =  52\n",
      "ID =  303 / Length =  8\n",
      "ID =  304 / Length =  55\n",
      "ID =  308 / Length =  57\n",
      "ID =  309 / Length =  10\n",
      "ID =  307 / Length =  3\n",
      "ID =  306 / Length =  33\n",
      "ID =  316 / Length =  18\n",
      "ID =  318 / Length =  8\n",
      "ID =  317 / Length =  47\n",
      "ID =  315 / Length =  75\n",
      "ID =  314 / Length =  72\n",
      "ID =  313 / Length =  8\n",
      "ID =  312 / Length =  22\n",
      "ID =  310 / Length =  469\n",
      "ID =  322 / Length =  443\n",
      "ID =  325 / Length =  2\n",
      "ID =  327 / Length =  9\n",
      "ID =  326 / Length =  6\n",
      "ID =  324 / Length =  201\n",
      "ID =  330 / Length =  711\n",
      "ID =  331 / Length =  543\n",
      "ID =  332 / Length =  5\n",
      "ID =  333 / Length =  6\n",
      "ID =  337 / Length =  9\n",
      "ID =  339 / Length =  441\n",
      "ID =  340 / Length =  29\n",
      "ID =  343 / Length =  149\n",
      "ID =  345 / Length =  3\n",
      "ID =  346 / Length =  409\n",
      "ID =  348 / Length =  65\n",
      "ID =  350 / Length =  169\n",
      "ID =  351 / Length =  584\n",
      "ID =  356 / Length =  11\n",
      "ID =  357 / Length =  4\n",
      "ID =  360 / Length =  4\n",
      "ID =  359 / Length =  17\n",
      "ID =  358 / Length =  125\n",
      "ID =  361 / Length =  4\n",
      "ID =  362 / Length =  4\n",
      "ID =  363 / Length =  10\n",
      "ID =  364 / Length =  26\n",
      "ID =  365 / Length =  101\n",
      "ID =  366 / Length =  15\n",
      "ID =  367 / Length =  9\n",
      "ID =  368 / Length =  642\n",
      "ID =  369 / Length =  227\n",
      "ID =  370 / Length =  60\n",
      "ID =  374 / Length =  566\n",
      "ID =  375 / Length =  11\n",
      "ID =  376 / Length =  22\n",
      "ID =  377 / Length =  13\n",
      "ID =  378 / Length =  34\n",
      "ID =  382 / Length =  4\n",
      "ID =  381 / Length =  3\n",
      "ID =  383 / Length =  464\n",
      "ID =  385 / Length =  4\n",
      "ID =  386 / Length =  125\n",
      "ID =  387 / Length =  266\n",
      "ID =  388 / Length =  94\n",
      "ID =  389 / Length =  2\n",
      "ID =  391 / Length =  12\n",
      "ID =  394 / Length =  124\n",
      "ID =  395 / Length =  616\n",
      "ID =  398 / Length =  35\n",
      "ID =  399 / Length =  9\n",
      "ID =  400 / Length =  44\n",
      "ID =  402 / Length =  328\n",
      "ID =  406 / Length =  129\n",
      "ID =  407 / Length =  19\n",
      "ID =  408 / Length =  4\n",
      "ID =  411 / Length =  9\n",
      "ID =  413 / Length =  45\n",
      "ID =  416 / Length =  55\n",
      "ID =  415 / Length =  8\n",
      "ID =  414 / Length =  857\n",
      "ID =  417 / Length =  322\n",
      "ID =  418 / Length =  94\n",
      "ID =  420 / Length =  62\n",
      "ID =  421 / Length =  25\n",
      "ID =  422 / Length =  39\n",
      "ID =  424 / Length =  5\n",
      "ID =  428 / Length =  8\n",
      "ID =  429 / Length =  466\n",
      "ID =  434 / Length =  41\n",
      "ID =  435 / Length =  392\n",
      "ID =  430 / Length =  3\n",
      "ID =  432 / Length =  466\n",
      "ID =  433 / Length =  6\n",
      "ID =  431 / Length =  498\n",
      "ID =  437 / Length =  3\n",
      "ID =  438 / Length =  30\n",
      "ID =  439 / Length =  535\n",
      "ID =  440 / Length =  3\n",
      "ID =  441 / Length =  938\n",
      "ID =  442 / Length =  152\n",
      "ID =  444 / Length =  4\n",
      "ID =  445 / Length =  493\n",
      "ID =  446 / Length =  526\n",
      "ID =  447 / Length =  245\n",
      "ID =  448 / Length =  527\n",
      "ID =  449 / Length =  440\n",
      "ID =  451 / Length =  532\n",
      "ID =  456 / Length =  8\n",
      "ID =  457 / Length =  7\n",
      "ID =  458 / Length =  577\n",
      "ID =  459 / Length =  6\n",
      "ID =  460 / Length =  128\n",
      "ID =  461 / Length =  357\n",
      "ID =  462 / Length =  27\n",
      "ID =  464 / Length =  137\n",
      "ID =  465 / Length =  445\n",
      "ID =  466 / Length =  4\n",
      "ID =  468 / Length =  42\n",
      "ID =  469 / Length =  2\n",
      "ID =  470 / Length =  26\n",
      "ID =  471 / Length =  124\n",
      "ID =  472 / Length =  36\n",
      "ID =  473 / Length =  5\n",
      "ID =  475 / Length =  36\n",
      "ID =  477 / Length =  543\n",
      "ID =  478 / Length =  193\n",
      "ID =  480 / Length =  30\n",
      "ID =  482 / Length =  495\n",
      "ID =  483 / Length =  10\n",
      "ID =  484 / Length =  3\n",
      "ID =  485 / Length =  189\n",
      "ID =  486 / Length =  27\n",
      "ID =  487 / Length =  2\n",
      "ID =  488 / Length =  288\n",
      "ID =  489 / Length =  31\n",
      "ID =  490 / Length =  60\n",
      "ID =  494 / Length =  19\n",
      "ID =  495 / Length =  3\n",
      "ID =  496 / Length =  3\n",
      "ID =  500 / Length =  24\n",
      "ID =  499 / Length =  57\n",
      "ID =  498 / Length =  2\n",
      "ID =  503 / Length =  756\n",
      "ID =  504 / Length =  15\n",
      "ID =  505 / Length =  3\n",
      "ID =  507 / Length =  167\n",
      "ID =  508 / Length =  4\n",
      "ID =  509 / Length =  303\n",
      "ID =  510 / Length =  12\n",
      "ID =  511 / Length =  3\n",
      "ID =  512 / Length =  4\n",
      "ID =  513 / Length =  513\n",
      "ID =  514 / Length =  33\n",
      "ID =  517 / Length =  55\n",
      "ID =  518 / Length =  4\n",
      "ID =  516 / Length =  76\n",
      "ID =  515 / Length =  56\n",
      "ID =  519 / Length =  4\n",
      "ID =  520 / Length =  46\n",
      "ID =  521 / Length =  7\n",
      "ID =  522 / Length =  16\n",
      "ID =  524 / Length =  379\n",
      "ID =  525 / Length =  4\n",
      "ID =  526 / Length =  5\n",
      "ID =  528 / Length =  44\n",
      "ID =  529 / Length =  20\n",
      "ID =  533 / Length =  2\n",
      "ID =  534 / Length =  5\n",
      "ID =  539 / Length =  2\n",
      "ID =  540 / Length =  352\n",
      "ID =  541 / Length =  495\n",
      "ID =  542 / Length =  12\n",
      "ID =  543 / Length =  509\n",
      "ID =  544 / Length =  403\n",
      "ID =  545 / Length =  565\n",
      "ID =  547 / Length =  5\n",
      "ID =  552 / Length =  347\n",
      "ID =  554 / Length =  144\n",
      "ID =  553 / Length =  186\n",
      "ID =  556 / Length =  81\n",
      "ID =  557 / Length =  458\n",
      "ID =  558 / Length =  9\n",
      "ID =  559 / Length =  7\n",
      "ID =  562 / Length =  535\n",
      "ID =  564 / Length =  33\n",
      "ID =  565 / Length =  3\n",
      "ID =  566 / Length =  92\n",
      "ID =  567 / Length =  2\n",
      "ID =  568 / Length =  17\n",
      "ID =  573 / Length =  17\n",
      "ID =  571 / Length =  3\n",
      "ID =  570 / Length =  879\n",
      "ID =  574 / Length =  15\n",
      "ID =  576 / Length =  5\n",
      "ID =  575 / Length =  314\n",
      "ID =  577 / Length =  2\n",
      "ID =  579 / Length =  39\n",
      "ID =  580 / Length =  3\n",
      "ID =  581 / Length =  138\n",
      "ID =  582 / Length =  356\n",
      "ID =  583 / Length =  3\n",
      "ID =  584 / Length =  4\n",
      "ID =  589 / Length =  515\n",
      "ID =  590 / Length =  140\n",
      "ID =  591 / Length =  32\n",
      "ID =  593 / Length =  2\n",
      "ID =  594 / Length =  6\n",
      "ID =  595 / Length =  6\n",
      "ID =  597 / Length =  3\n",
      "ID =  598 / Length =  130\n",
      "ID =  599 / Length =  528\n",
      "ID =  600 / Length =  3\n",
      "ID =  601 / Length =  47\n",
      "ID =  604 / Length =  6\n",
      "ID =  605 / Length =  10\n",
      "ID =  606 / Length =  2\n",
      "ID =  608 / Length =  11\n",
      "ID =  610 / Length =  6\n",
      "ID =  615 / Length =  408\n",
      "ID =  614 / Length =  2\n",
      "ID =  621 / Length =  2\n",
      "ID =  622 / Length =  3\n",
      "ID =  624 / Length =  5\n",
      "ID =  626 / Length =  480\n",
      "ID =  633 / Length =  36\n",
      "ID =  632 / Length =  324\n",
      "ID =  631 / Length =  29\n",
      "ID =  628 / Length =  227\n",
      "ID =  627 / Length =  3\n",
      "ID =  635 / Length =  2\n",
      "ID =  636 / Length =  15\n",
      "ID =  637 / Length =  191\n",
      "ID =  640 / Length =  846\n",
      "ID =  644 / Length =  33\n",
      "ID =  646 / Length =  6\n",
      "ID =  647 / Length =  4\n",
      "ID =  648 / Length =  13\n",
      "ID =  649 / Length =  30\n",
      "ID =  651 / Length =  8\n",
      "ID =  653 / Length =  5\n",
      "ID =  652 / Length =  67\n",
      "ID =  654 / Length =  10\n",
      "ID =  656 / Length =  9\n",
      "ID =  658 / Length =  26\n",
      "ID =  659 / Length =  838\n",
      "ID =  661 / Length =  31\n",
      "ID =  662 / Length =  165\n",
      "ID =  666 / Length =  4\n",
      "ID =  664 / Length =  3\n",
      "ID =  667 / Length =  7\n",
      "ID =  668 / Length =  8\n",
      "ID =  669 / Length =  671\n",
      "ID =  672 / Length =  432\n",
      "ID =  673 / Length =  5\n",
      "ID =  675 / Length =  2\n",
      "ID =  677 / Length =  80\n",
      "ID =  679 / Length =  13\n",
      "ID =  682 / Length =  19\n",
      "ID =  680 / Length =  2\n",
      "ID =  683 / Length =  77\n",
      "ID =  684 / Length =  147\n",
      "ID =  685 / Length =  137\n",
      "ID =  686 / Length =  46\n",
      "ID =  688 / Length =  318\n",
      "ID =  689 / Length =  2\n",
      "ID =  690 / Length =  2\n",
      "ID =  691 / Length =  16\n",
      "ID =  694 / Length =  14\n",
      "ID =  695 / Length =  181\n",
      "ID =  698 / Length =  15\n",
      "ID =  701 / Length =  17\n",
      "ID =  704 / Length =  41\n",
      "ID =  705 / Length =  50\n",
      "ID =  706 / Length =  52\n",
      "ID =  708 / Length =  7\n",
      "ID =  709 / Length =  18\n",
      "ID =  722 / Length =  592\n",
      "ID =  720 / Length =  413\n",
      "ID =  719 / Length =  5\n",
      "ID =  714 / Length =  618\n",
      "ID =  718 / Length =  19\n",
      "ID =  717 / Length =  5\n",
      "ID =  716 / Length =  57\n",
      "ID =  711 / Length =  18\n",
      "ID =  713 / Length =  815\n",
      "ID =  712 / Length =  612\n",
      "ID =  723 / Length =  410\n",
      "ID =  724 / Length =  2\n",
      "ID =  725 / Length =  3\n",
      "ID =  727 / Length =  810\n",
      "ID =  735 / Length =  5\n",
      "ID =  739 / Length =  65\n",
      "ID =  744 / Length =  6\n",
      "ID =  742 / Length =  2\n",
      "ID =  740 / Length =  435\n",
      "ID =  737 / Length =  49\n",
      "ID =  748 / Length =  804\n",
      "ID =  749 / Length =  3\n",
      "ID =  750 / Length =  355\n",
      "ID =  751 / Length =  8\n",
      "ID =  752 / Length =  29\n",
      "ID =  753 / Length =  3\n",
      "ID =  754 / Length =  25\n",
      "ID =  756 / Length =  73\n",
      "ID =  757 / Length =  6\n",
      "ID =  759 / Length =  63\n",
      "ID =  760 / Length =  10\n",
      "ID =  761 / Length =  38\n",
      "ID =  763 / Length =  664\n",
      "ID =  764 / Length =  31\n",
      "ID =  770 / Length =  4\n",
      "ID =  771 / Length =  4\n",
      "ID =  775 / Length =  12\n",
      "ID =  776 / Length =  2\n",
      "ID =  783 / Length =  5\n",
      "ID =  785 / Length =  7\n",
      "ID =  786 / Length =  197\n",
      "ID =  787 / Length =  262\n",
      "ID =  788 / Length =  7\n",
      "ID =  789 / Length =  24\n",
      "ID =  790 / Length =  6\n",
      "ID =  792 / Length =  13\n",
      "ID =  794 / Length =  5\n",
      "ID =  795 / Length =  9\n",
      "ID =  800 / Length =  19\n",
      "ID =  801 / Length =  17\n",
      "ID =  802 / Length =  327\n",
      "ID =  803 / Length =  27\n",
      "ID =  804 / Length =  124\n",
      "ID =  805 / Length =  391\n",
      "ID =  807 / Length =  4\n",
      "ID =  809 / Length =  10\n",
      "ID =  810 / Length =  7\n",
      "ID =  811 / Length =  4\n",
      "ID =  812 / Length =  12\n",
      "ID =  813 / Length =  4\n",
      "ID =  814 / Length =  55\n",
      "ID =  815 / Length =  2\n",
      "ID =  816 / Length =  414\n",
      "ID =  817 / Length =  748\n",
      "ID =  819 / Length =  9\n",
      "ID =  820 / Length =  2\n",
      "ID =  821 / Length =  360\n",
      "ID =  822 / Length =  131\n",
      "ID =  823 / Length =  7\n",
      "ID =  829 / Length =  12\n",
      "ID =  830 / Length =  4\n",
      "ID =  833 / Length =  61\n",
      "ID =  835 / Length =  2\n",
      "ID =  838 / Length =  241\n",
      "ID =  839 / Length =  690\n",
      "ID =  841 / Length =  7\n",
      "ID =  840 / Length =  14\n",
      "ID =  847 / Length =  41\n",
      "ID =  849 / Length =  5\n",
      "ID =  850 / Length =  280\n",
      "ID =  851 / Length =  222\n",
      "ID =  852 / Length =  4\n",
      "ID =  853 / Length =  4\n",
      "ID =  855 / Length =  4\n",
      "ID =  856 / Length =  119\n",
      "ID =  860 / Length =  6\n",
      "ID =  859 / Length =  160\n",
      "ID =  857 / Length =  4\n",
      "ID =  863 / Length =  326\n",
      "ID =  864 / Length =  86\n",
      "ID =  865 / Length =  4\n",
      "ID =  866 / Length =  399\n",
      "ID =  871 / Length =  4\n",
      "ID =  872 / Length =  4\n",
      "ID =  873 / Length =  16\n",
      "ID =  876 / Length =  2\n",
      "ID =  878 / Length =  3\n",
      "ID =  882 / Length =  4\n",
      "ID =  885 / Length =  4\n",
      "ID =  886 / Length =  16\n",
      "ID =  887 / Length =  32\n",
      "ID =  888 / Length =  633\n",
      "ID =  889 / Length =  12\n",
      "ID =  890 / Length =  7\n",
      "ID =  891 / Length =  372\n",
      "ID =  892 / Length =  586\n",
      "ID =  893 / Length =  3\n",
      "ID =  894 / Length =  2\n",
      "ID =  896 / Length =  78\n",
      "ID =  899 / Length =  5\n",
      "ID =  898 / Length =  10\n",
      "ID =  902 / Length =  9\n",
      "ID =  903 / Length =  2\n",
      "ID =  904 / Length =  4\n",
      "ID =  905 / Length =  4\n",
      "ID =  907 / Length =  4\n",
      "ID =  910 / Length =  5\n",
      "ID =  909 / Length =  129\n",
      "ID =  913 / Length =  14\n",
      "ID =  914 / Length =  467\n",
      "ID =  915 / Length =  123\n",
      "ID =  917 / Length =  3\n",
      "ID =  916 / Length =  4\n",
      "ID =  918 / Length =  28\n",
      "ID =  924 / Length =  2\n",
      "ID =  927 / Length =  342\n",
      "ID =  928 / Length =  144\n",
      "ID =  931 / Length =  60\n",
      "ID =  934 / Length =  4\n",
      "ID =  937 / Length =  25\n",
      "ID =  940 / Length =  311\n",
      "ID =  944 / Length =  2\n",
      "ID =  942 / Length =  9\n",
      "ID =  945 / Length =  324\n",
      "ID =  946 / Length =  300\n",
      "ID =  947 / Length =  64\n",
      "ID =  948 / Length =  688\n",
      "ID =  949 / Length =  3\n",
      "ID =  950 / Length =  2\n",
      "ID =  955 / Length =  7\n",
      "ID =  954 / Length =  523\n",
      "ID =  952 / Length =  345\n",
      "ID =  958 / Length =  8\n",
      "ID =  959 / Length =  467\n",
      "ID =  963 / Length =  250\n",
      "ID =  964 / Length =  2\n",
      "ID =  965 / Length =  7\n",
      "ID =  966 / Length =  4\n",
      "ID =  970 / Length =  21\n",
      "ID =  971 / Length =  676\n",
      "ID =  973 / Length =  192\n",
      "ID =  974 / Length =  194\n",
      "ID =  975 / Length =  15\n",
      "ID =  978 / Length =  30\n",
      "ID =  980 / Length =  15\n",
      "ID =  981 / Length =  455\n",
      "ID =  984 / Length =  2\n",
      "ID =  983 / Length =  2\n",
      "ID =  986 / Length =  139\n",
      "ID =  987 / Length =  277\n",
      "ID =  988 / Length =  4\n",
      "ID =  989 / Length =  4\n",
      "ID =  990 / Length =  54\n",
      "ID =  991 / Length =  4\n",
      "ID =  993 / Length =  222\n",
      "ID =  994 / Length =  22\n",
      "ID =  1000 / Length =  2\n",
      "ID =  1004 / Length =  3\n",
      "ID =  1005 / Length =  11\n",
      "ID =  1006 / Length =  6\n",
      "ID =  1007 / Length =  126\n",
      "ID =  1012 / Length =  5\n",
      "ID =  1014 / Length =  499\n",
      "ID =  1018 / Length =  261\n",
      "ID =  1024 / Length =  5\n",
      "ID =  1025 / Length =  463\n",
      "ID =  1027 / Length =  24\n",
      "ID =  1032 / Length =  5\n",
      "ID =  1038 / Length =  4\n",
      "ID =  1039 / Length =  5\n",
      "ID =  1040 / Length =  351\n",
      "ID =  1043 / Length =  25\n",
      "ID =  1045 / Length =  9\n",
      "ID =  1047 / Length =  14\n",
      "ID =  1051 / Length =  60\n",
      "ID =  1052 / Length =  38\n",
      "ID =  1056 / Length =  42\n",
      "ID =  1065 / Length =  134\n",
      "ID =  1066 / Length =  5\n",
      "ID =  1069 / Length =  147\n",
      "ID =  1070 / Length =  5\n",
      "ID =  1072 / Length =  3\n",
      "ID =  1075 / Length =  6\n",
      "ID =  1076 / Length =  169\n",
      "ID =  1079 / Length =  30\n",
      "ID =  1080 / Length =  33\n",
      "ID =  1081 / Length =  2\n",
      "ID =  1082 / Length =  392\n",
      "ID =  1083 / Length =  2\n",
      "ID =  1084 / Length =  134\n",
      "ID =  1085 / Length =  456\n",
      "ID =  1086 / Length =  25\n",
      "ID =  1088 / Length =  573\n",
      "ID =  1089 / Length =  572\n",
      "ID =  1092 / Length =  12\n",
      "ID =  1093 / Length =  6\n",
      "ID =  1094 / Length =  290\n",
      "ID =  1097 / Length =  37\n",
      "ID =  1095 / Length =  207\n",
      "ID =  1098 / Length =  482\n",
      "ID =  1099 / Length =  4\n",
      "ID =  1100 / Length =  236\n",
      "ID =  1101 / Length =  5\n",
      "ID =  1102 / Length =  64\n",
      "ID =  1103 / Length =  2\n",
      "ID =  1104 / Length =  3\n",
      "ID =  1114 / Length =  173\n",
      "ID =  1115 / Length =  31\n",
      "ID =  1122 / Length =  12\n",
      "ID =  1124 / Length =  56\n",
      "ID =  1125 / Length =  2\n",
      "ID =  1126 / Length =  46\n",
      "ID =  1132 / Length =  550\n",
      "ID =  1133 / Length =  3\n",
      "ID =  1135 / Length =  20\n",
      "ID =  1140 / Length =  158\n",
      "ID =  1141 / Length =  3\n",
      "ID =  1147 / Length =  5\n",
      "ID =  1150 / Length =  3\n",
      "ID =  1151 / Length =  13\n",
      "ID =  1153 / Length =  113\n",
      "ID =  1154 / Length =  111\n",
      "ID =  1158 / Length =  2\n",
      "ID =  1159 / Length =  2\n",
      "ID =  1155 / Length =  23\n",
      "ID =  1157 / Length =  3\n",
      "ID =  1162 / Length =  2\n",
      "ID =  1165 / Length =  3\n",
      "ID =  1168 / Length =  7\n",
      "ID =  1169 / Length =  2\n",
      "ID =  1170 / Length =  9\n",
      "ID =  1172 / Length =  3\n",
      "ID =  1173 / Length =  2\n",
      "ID =  1174 / Length =  12\n",
      "ID =  1175 / Length =  3\n",
      "ID =  1177 / Length =  118\n",
      "ID =  1183 / Length =  4\n",
      "ID =  1185 / Length =  14\n",
      "ID =  1186 / Length =  92\n",
      "ID =  1187 / Length =  3\n",
      "ID =  1190 / Length =  5\n",
      "ID =  1191 / Length =  5\n",
      "ID =  1192 / Length =  20\n",
      "ID =  1193 / Length =  34\n",
      "ID =  1196 / Length =  27\n",
      "ID =  1197 / Length =  9\n",
      "ID =  1202 / Length =  13\n",
      "ID =  1206 / Length =  4\n",
      "ID =  1207 / Length =  22\n",
      "ID =  1208 / Length =  122\n",
      "ID =  1209 / Length =  5\n",
      "ID =  1213 / Length =  5\n",
      "ID =  1214 / Length =  5\n",
      "ID =  1215 / Length =  10\n",
      "ID =  1218 / Length =  10\n",
      "ID =  1219 / Length =  21\n",
      "ID =  1220 / Length =  7\n",
      "ID =  1224 / Length =  7\n",
      "ID =  1230 / Length =  16\n",
      "ID =  1231 / Length =  11\n",
      "ID =  1232 / Length =  188\n",
      "ID =  1233 / Length =  486\n",
      "ID =  1234 / Length =  25\n",
      "ID =  1235 / Length =  18\n",
      "ID =  1236 / Length =  17\n",
      "ID =  1238 / Length =  430\n",
      "ID =  1240 / Length =  9\n",
      "ID =  1241 / Length =  11\n",
      "ID =  1243 / Length =  10\n",
      "ID =  1244 / Length =  2\n",
      "ID =  1254 / Length =  2\n",
      "ID =  1256 / Length =  5\n",
      "ID =  1257 / Length =  38\n",
      "ID =  1258 / Length =  472\n",
      "ID =  1263 / Length =  471\n",
      "ID =  1261 / Length =  6\n",
      "ID =  1267 / Length =  3\n",
      "ID =  1268 / Length =  466\n",
      "ID =  1270 / Length =  2\n",
      "ID =  1271 / Length =  15\n",
      "ID =  1275 / Length =  127\n",
      "ID =  1279 / Length =  2\n",
      "ID =  1283 / Length =  2\n",
      "ID =  1284 / Length =  460\n",
      "ID =  1281 / Length =  3\n",
      "ID =  1280 / Length =  460\n",
      "ID =  1282 / Length =  2\n",
      "ID =  1285 / Length =  6\n",
      "ID =  1286 / Length =  4\n",
      "ID =  1287 / Length =  7\n",
      "ID =  1288 / Length =  3\n",
      "ID =  1289 / Length =  458\n",
      "ID =  1292 / Length =  5\n",
      "ID =  1294 / Length =  2\n",
      "ID =  1300 / Length =  7\n",
      "ID =  1298 / Length =  7\n",
      "ID =  1296 / Length =  4\n",
      "ID =  1295 / Length =  4\n",
      "ID =  1302 / Length =  7\n",
      "ID =  1303 / Length =  450\n",
      "ID =  1305 / Length =  5\n",
      "ID =  1306 / Length =  448\n",
      "ID =  1307 / Length =  4\n",
      "ID =  1308 / Length =  10\n",
      "ID =  1309 / Length =  447\n",
      "ID =  1310 / Length =  4\n",
      "ID =  1311 / Length =  4\n",
      "ID =  1314 / Length =  446\n",
      "ID =  1317 / Length =  7\n",
      "ID =  1316 / Length =  446\n",
      "ID =  1315 / Length =  2\n",
      "ID =  1319 / Length =  2\n",
      "ID =  1321 / Length =  50\n",
      "ID =  1322 / Length =  443\n",
      "ID =  1323 / Length =  347\n",
      "ID =  1325 / Length =  442\n",
      "ID =  1326 / Length =  441\n",
      "ID =  1328 / Length =  3\n",
      "ID =  1329 / Length =  171\n",
      "ID =  1330 / Length =  111\n",
      "ID =  1331 / Length =  437\n",
      "ID =  1334 / Length =  436\n",
      "ID =  1336 / Length =  2\n",
      "ID =  1335 / Length =  436\n",
      "ID =  1337 / Length =  435\n",
      "ID =  1340 / Length =  396\n",
      "ID =  1341 / Length =  2\n",
      "ID =  1346 / Length =  6\n",
      "ID =  1347 / Length =  431\n",
      "ID =  1348 / Length =  431\n",
      "ID =  1349 / Length =  431\n",
      "ID =  1351 / Length =  7\n",
      "ID =  1352 / Length =  113\n",
      "ID =  1350 / Length =  429\n",
      "ID =  1355 / Length =  427\n",
      "ID =  1358 / Length =  2\n",
      "ID =  1362 / Length =  138\n",
      "ID =  1363 / Length =  4\n",
      "ID =  1364 / Length =  421\n",
      "ID =  1365 / Length =  412\n",
      "ID =  1368 / Length =  4\n",
      "ID =  1369 / Length =  138\n",
      "ID =  1371 / Length =  11\n",
      "ID =  1372 / Length =  418\n",
      "ID =  1374 / Length =  41\n",
      "ID =  1375 / Length =  14\n",
      "ID =  1377 / Length =  10\n",
      "ID =  1378 / Length =  41\n",
      "ID =  1379 / Length =  4\n",
      "ID =  1383 / Length =  18\n",
      "ID =  1387 / Length =  24\n",
      "ID =  1389 / Length =  411\n",
      "ID =  1390 / Length =  4\n",
      "ID =  1391 / Length =  409\n",
      "ID =  1392 / Length =  2\n",
      "ID =  1393 / Length =  408\n",
      "ID =  1394 / Length =  7\n",
      "ID =  1395 / Length =  407\n",
      "ID =  1397 / Length =  127\n",
      "ID =  1398 / Length =  5\n",
      "ID =  1401 / Length =  403\n",
      "ID =  1404 / Length =  2\n",
      "ID =  1408 / Length =  6\n",
      "ID =  1409 / Length =  369\n",
      "ID =  1410 / Length =  5\n",
      "ID =  1411 / Length =  312\n",
      "ID =  1412 / Length =  399\n",
      "ID =  1416 / Length =  76\n",
      "ID =  1417 / Length =  85\n",
      "ID =  1420 / Length =  396\n",
      "ID =  1421 / Length =  10\n",
      "ID =  1422 / Length =  395\n",
      "ID =  1423 / Length =  49\n",
      "ID =  1424 / Length =  249\n",
      "ID =  1425 / Length =  20\n",
      "ID =  1426 / Length =  4\n",
      "ID =  1427 / Length =  393\n",
      "ID =  1429 / Length =  44\n",
      "ID =  1430 / Length =  391\n",
      "ID =  1431 / Length =  16\n",
      "ID =  1432 / Length =  391\n",
      "ID =  1434 / Length =  390\n",
      "ID =  1437 / Length =  390\n",
      "ID =  1436 / Length =  32\n",
      "ID =  1435 / Length =  4\n",
      "ID =  1444 / Length =  13\n",
      "ID =  1445 / Length =  12\n",
      "ID =  1446 / Length =  387\n",
      "ID =  1447 / Length =  387\n",
      "ID =  1449 / Length =  6\n",
      "ID =  1450 / Length =  387\n",
      "ID =  1451 / Length =  2\n",
      "ID =  1454 / Length =  3\n",
      "ID =  1452 / Length =  385\n",
      "ID =  1453 / Length =  3\n",
      "ID =  1459 / Length =  179\n",
      "ID =  1464 / Length =  383\n",
      "ID =  1463 / Length =  11\n",
      "ID =  1462 / Length =  4\n",
      "ID =  1466 / Length =  382\n",
      "ID =  1468 / Length =  382\n",
      "ID =  1470 / Length =  381\n",
      "ID =  1469 / Length =  11\n",
      "ID =  1472 / Length =  4\n",
      "ID =  1473 / Length =  379\n",
      "ID =  1475 / Length =  19\n",
      "ID =  1481 / Length =  4\n",
      "ID =  1479 / Length =  2\n",
      "ID =  1482 / Length =  7\n",
      "ID =  1483 / Length =  376\n",
      "ID =  1484 / Length =  376\n",
      "ID =  1490 / Length =  373\n",
      "ID =  1494 / Length =  372\n",
      "ID =  1496 / Length =  14\n",
      "ID =  1495 / Length =  7\n",
      "ID =  1497 / Length =  151\n",
      "ID =  1498 / Length =  3\n",
      "ID =  1500 / Length =  6\n",
      "ID =  1501 / Length =  3\n",
      "ID =  1504 / Length =  135\n",
      "ID =  1505 / Length =  228\n",
      "ID =  1506 / Length =  20\n",
      "ID =  1509 / Length =  10\n",
      "ID =  1512 / Length =  3\n",
      "ID =  1515 / Length =  366\n",
      "ID =  1517 / Length =  9\n",
      "ID =  1522 / Length =  7\n",
      "ID =  1527 / Length =  4\n",
      "ID =  1528 / Length =  9\n",
      "ID =  1531 / Length =  83\n",
      "ID =  1532 / Length =  16\n",
      "ID =  1533 / Length =  43\n",
      "ID =  1534 / Length =  358\n",
      "ID =  1536 / Length =  6\n",
      "ID =  1541 / Length =  356\n",
      "ID =  1542 / Length =  10\n",
      "ID =  1544 / Length =  355\n",
      "ID =  1545 / Length =  354\n",
      "ID =  1546 / Length =  354\n",
      "ID =  1548 / Length =  5\n",
      "ID =  1556 / Length =  349\n",
      "ID =  1557 / Length =  2\n",
      "ID =  1558 / Length =  348\n",
      "ID =  1560 / Length =  9\n",
      "ID =  1562 / Length =  10\n",
      "ID =  1570 / Length =  4\n",
      "ID =  1569 / Length =  346\n",
      "ID =  1568 / Length =  41\n",
      "ID =  1564 / Length =  346\n",
      "ID =  1561 / Length =  3\n",
      "ID =  1566 / Length =  3\n",
      "ID =  1572 / Length =  345\n",
      "ID =  1573 / Length =  345\n",
      "ID =  1574 / Length =  345\n",
      "ID =  1579 / Length =  4\n",
      "ID =  1583 / Length =  117\n",
      "ID =  1587 / Length =  2\n",
      "ID =  1588 / Length =  339\n",
      "ID =  1593 / Length =  3\n",
      "ID =  1592 / Length =  6\n",
      "ID =  1590 / Length =  338\n",
      "ID =  1591 / Length =  2\n",
      "ID =  1595 / Length =  2\n",
      "ID =  1594 / Length =  26\n",
      "ID =  1597 / Length =  3\n",
      "ID =  1598 / Length =  3\n",
      "ID =  1601 / Length =  3\n",
      "ID =  1602 / Length =  16\n",
      "ID =  1603 / Length =  2\n",
      "ID =  1604 / Length =  18\n",
      "ID =  1606 / Length =  4\n",
      "ID =  1611 / Length =  328\n",
      "ID =  1613 / Length =  7\n",
      "ID =  1615 / Length =  6\n",
      "ID =  1617 / Length =  6\n",
      "ID =  1618 / Length =  52\n",
      "ID =  1619 / Length =  302\n",
      "ID =  1622 / Length =  11\n",
      "ID =  1625 / Length =  2\n",
      "ID =  1624 / Length =  11\n",
      "ID =  1630 / Length =  7\n",
      "ID =  1631 / Length =  16\n",
      "ID =  1632 / Length =  53\n",
      "ID =  1635 / Length =  2\n",
      "ID =  1638 / Length =  2\n",
      "ID =  1639 / Length =  10\n",
      "ID =  1640 / Length =  7\n",
      "ID =  1641 / Length =  2\n",
      "ID =  1644 / Length =  318\n",
      "ID =  1646 / Length =  318\n",
      "ID =  1647 / Length =  317\n",
      "ID =  1651 / Length =  315\n",
      "ID =  1652 / Length =  19\n",
      "ID =  1653 / Length =  315\n",
      "ID =  1654 / Length =  315\n",
      "ID =  1659 / Length =  40\n",
      "ID =  1656 / Length =  3\n",
      "ID =  1655 / Length =  314\n",
      "ID =  1657 / Length =  27\n",
      "ID =  1662 / Length =  4\n",
      "ID =  1664 / Length =  313\n",
      "ID =  1665 / Length =  313\n",
      "ID =  1666 / Length =  313\n",
      "ID =  1667 / Length =  313\n",
      "ID =  1668 / Length =  4\n",
      "ID =  1673 / Length =  4\n",
      "ID =  1672 / Length =  5\n",
      "ID =  1675 / Length =  184\n",
      "ID =  1676 / Length =  311\n",
      "ID =  1681 / Length =  208\n",
      "ID =  1684 / Length =  308\n",
      "ID =  1685 / Length =  3\n",
      "ID =  1686 / Length =  4\n",
      "ID =  1687 / Length =  2\n",
      "ID =  1694 / Length =  307\n",
      "ID =  1691 / Length =  307\n",
      "ID =  1692 / Length =  39\n",
      "ID =  1697 / Length =  305\n",
      "ID =  1698 / Length =  5\n",
      "ID =  1699 / Length =  305\n",
      "ID =  1702 / Length =  303\n",
      "ID =  1703 / Length =  302\n",
      "ID =  1705 / Length =  33\n",
      "ID =  1706 / Length =  3\n",
      "ID =  1707 / Length =  12\n",
      "ID =  1708 / Length =  25\n",
      "ID =  1709 / Length =  301\n",
      "ID =  1712 / Length =  12\n",
      "ID =  1715 / Length =  14\n",
      "ID =  1717 / Length =  6\n",
      "ID =  1718 / Length =  298\n",
      "ID =  1721 / Length =  297\n",
      "ID =  1724 / Length =  5\n",
      "ID =  1725 / Length =  3\n",
      "ID =  1726 / Length =  295\n",
      "ID =  1736 / Length =  294\n",
      "ID =  1733 / Length =  8\n",
      "ID =  1731 / Length =  294\n",
      "ID =  1727 / Length =  294\n",
      "ID =  1728 / Length =  2\n",
      "ID =  1738 / Length =  292\n",
      "ID =  1739 / Length =  6\n",
      "ID =  1737 / Length =  39\n",
      "ID =  1741 / Length =  6\n",
      "ID =  1748 / Length =  290\n",
      "ID =  1745 / Length =  7\n",
      "ID =  1749 / Length =  289\n",
      "ID =  1752 / Length =  14\n",
      "ID =  1756 / Length =  5\n",
      "ID =  1757 / Length =  5\n",
      "ID =  1761 / Length =  158\n",
      "ID =  1760 / Length =  285\n",
      "ID =  1762 / Length =  284\n",
      "ID =  1765 / Length =  3\n",
      "ID =  1766 / Length =  283\n",
      "ID =  1767 / Length =  7\n",
      "ID =  1769 / Length =  3\n",
      "ID =  1770 / Length =  2\n",
      "ID =  1772 / Length =  281\n",
      "ID =  1773 / Length =  17\n",
      "ID =  1777 / Length =  279\n",
      "ID =  1778 / Length =  3\n",
      "ID =  1779 / Length =  2\n",
      "ID =  1780 / Length =  9\n",
      "ID =  1781 / Length =  277\n",
      "ID =  1784 / Length =  25\n",
      "ID =  1785 / Length =  276\n",
      "ID =  1786 / Length =  3\n",
      "ID =  1787 / Length =  276\n",
      "ID =  1788 / Length =  2\n",
      "ID =  1789 / Length =  2\n",
      "ID =  1790 / Length =  276\n",
      "ID =  1793 / Length =  2\n",
      "ID =  1792 / Length =  4\n",
      "ID =  1791 / Length =  2\n",
      "ID =  1795 / Length =  146\n",
      "ID =  1796 / Length =  4\n",
      "ID =  1799 / Length =  270\n",
      "ID =  1800 / Length =  23\n",
      "ID =  1801 / Length =  263\n",
      "ID =  1802 / Length =  5\n",
      "ID =  1804 / Length =  8\n",
      "ID =  1805 / Length =  270\n",
      "ID =  1810 / Length =  8\n",
      "ID =  1813 / Length =  138\n",
      "ID =  1811 / Length =  268\n",
      "ID =  1809 / Length =  6\n",
      "ID =  1808 / Length =  249\n",
      "ID =  1806 / Length =  2\n",
      "ID =  1815 / Length =  2\n",
      "ID =  1817 / Length =  266\n",
      "ID =  1818 / Length =  13\n",
      "ID =  1821 / Length =  8\n",
      "ID =  1822 / Length =  37\n",
      "ID =  1824 / Length =  32\n",
      "ID =  1825 / Length =  264\n",
      "ID =  1826 / Length =  248\n",
      "ID =  1828 / Length =  8\n",
      "ID =  1831 / Length =  3\n",
      "ID =  1833 / Length =  263\n",
      "ID =  1832 / Length =  18\n",
      "ID =  1829 / Length =  10\n",
      "ID =  1834 / Length =  262\n",
      "ID =  1835 / Length =  260\n",
      "ID =  1836 / Length =  121\n",
      "ID =  1839 / Length =  259\n",
      "ID =  1842 / Length =  258\n",
      "ID =  1844 / Length =  257\n",
      "ID =  1845 / Length =  206\n",
      "ID =  1847 / Length =  30\n",
      "ID =  1848 / Length =  3\n",
      "ID =  1852 / Length =  43\n",
      "ID =  1854 / Length =  254\n",
      "ID =  1856 / Length =  14\n",
      "ID =  1860 / Length =  9\n",
      "ID =  1862 / Length =  250\n",
      "ID =  1863 / Length =  249\n",
      "ID =  1864 / Length =  249\n",
      "ID =  1871 / Length =  2\n",
      "ID =  1869 / Length =  247\n",
      "ID =  1872 / Length =  2\n",
      "ID =  1873 / Length =  21\n",
      "ID =  1874 / Length =  242\n",
      "ID =  1875 / Length =  4\n",
      "ID =  1876 / Length =  2\n",
      "ID =  1878 / Length =  16\n",
      "ID =  1880 / Length =  2\n",
      "ID =  1883 / Length =  243\n",
      "ID =  1889 / Length =  3\n",
      "ID =  1891 / Length =  240\n",
      "ID =  1893 / Length =  3\n",
      "ID =  1894 / Length =  239\n",
      "ID =  1896 / Length =  238\n",
      "ID =  1897 / Length =  238\n",
      "ID =  1903 / Length =  24\n",
      "ID =  1900 / Length =  237\n",
      "ID =  1898 / Length =  3\n",
      "ID =  1902 / Length =  10\n",
      "ID =  1909 / Length =  3\n",
      "ID =  1911 / Length =  9\n",
      "ID =  1913 / Length =  234\n",
      "ID =  1914 / Length =  38\n",
      "ID =  1915 / Length =  2\n",
      "ID =  1921 / Length =  6\n",
      "ID =  1920 / Length =  232\n",
      "ID =  1919 / Length =  5\n",
      "ID =  1917 / Length =  2\n",
      "ID =  1916 / Length =  232\n",
      "ID =  1924 / Length =  231\n",
      "ID =  1928 / Length =  139\n",
      "ID =  1929 / Length =  7\n",
      "ID =  1932 / Length =  225\n",
      "ID =  1934 / Length =  224\n",
      "ID =  1936 / Length =  9\n",
      "ID =  1938 / Length =  223\n",
      "ID =  1939 / Length =  223\n",
      "ID =  1941 / Length =  2\n",
      "ID =  1942 / Length =  4\n",
      "ID =  1944 / Length =  220\n",
      "ID =  1945 / Length =  220\n",
      "ID =  1946 / Length =  12\n",
      "ID =  1947 / Length =  2\n",
      "ID =  1949 / Length =  220\n",
      "ID =  1950 / Length =  3\n",
      "ID =  1951 / Length =  3\n",
      "ID =  1952 / Length =  3\n",
      "ID =  1956 / Length =  37\n",
      "ID =  1955 / Length =  3\n",
      "ID =  1953 / Length =  219\n",
      "ID =  1954 / Length =  2\n",
      "ID =  1958 / Length =  5\n",
      "ID =  1960 / Length =  11\n",
      "ID =  1961 / Length =  2\n",
      "ID =  1962 / Length =  22\n",
      "ID =  1963 / Length =  215\n",
      "ID =  1964 / Length =  214\n",
      "ID =  1965 / Length =  214\n",
      "ID =  1973 / Length =  14\n",
      "ID =  1972 / Length =  2\n",
      "ID =  1974 / Length =  210\n",
      "ID =  1977 / Length =  210\n",
      "ID =  1982 / Length =  2\n",
      "ID =  1984 / Length =  65\n",
      "ID =  1985 / Length =  2\n",
      "ID =  1987 / Length =  102\n",
      "ID =  1989 / Length =  205\n",
      "ID =  1990 / Length =  3\n",
      "ID =  1994 / Length =  204\n",
      "ID =  1991 / Length =  149\n",
      "ID =  1992 / Length =  5\n",
      "ID =  1993 / Length =  2\n",
      "ID =  1996 / Length =  4\n",
      "ID =  1998 / Length =  3\n",
      "ID =  1999 / Length =  29\n",
      "ID =  2000 / Length =  200\n",
      "ID =  2001 / Length =  199\n",
      "ID =  2002 / Length =  3\n",
      "ID =  2003 / Length =  196\n",
      "ID =  2004 / Length =  196\n",
      "ID =  2008 / Length =  24\n",
      "ID =  2009 / Length =  85\n",
      "ID =  2010 / Length =  3\n",
      "ID =  2014 / Length =  6\n",
      "ID =  2015 / Length =  5\n",
      "ID =  2018 / Length =  25\n",
      "ID =  2020 / Length =  4\n",
      "ID =  2023 / Length =  2\n",
      "ID =  2024 / Length =  4\n",
      "ID =  2026 / Length =  5\n",
      "ID =  2027 / Length =  53\n",
      "ID =  2029 / Length =  7\n",
      "ID =  2034 / Length =  174\n",
      "ID =  2037 / Length =  172\n",
      "ID =  2039 / Length =  2\n",
      "ID =  2044 / Length =  4\n",
      "ID =  2046 / Length =  3\n",
      "ID =  2048 / Length =  162\n",
      "ID =  2049 / Length =  3\n",
      "ID =  2050 / Length =  3\n",
      "ID =  2051 / Length =  4\n",
      "ID =  2052 / Length =  26\n",
      "ID =  2053 / Length =  7\n",
      "ID =  2054 / Length =  4\n",
      "ID =  2055 / Length =  8\n",
      "ID =  2056 / Length =  9\n",
      "ID =  2058 / Length =  7\n",
      "ID =  2059 / Length =  155\n",
      "ID =  2063 / Length =  110\n",
      "ID =  2064 / Length =  2\n",
      "ID =  2068 / Length =  12\n",
      "ID =  2071 / Length =  43\n",
      "ID =  2072 / Length =  13\n",
      "ID =  2073 / Length =  3\n",
      "ID =  2075 / Length =  2\n",
      "ID =  2076 / Length =  18\n",
      "ID =  2080 / Length =  4\n",
      "ID =  2085 / Length =  9\n",
      "ID =  2086 / Length =  15\n",
      "ID =  2087 / Length =  4\n",
      "ID =  2089 / Length =  16\n",
      "ID =  2093 / Length =  9\n",
      "ID =  2099 / Length =  16\n",
      "ID =  2105 / Length =  26\n",
      "ID =  2109 / Length =  2\n",
      "ID =  2112 / Length =  126\n",
      "ID =  2113 / Length =  4\n",
      "ID =  2114 / Length =  35\n",
      "ID =  2115 / Length =  124\n",
      "ID =  2119 / Length =  7\n",
      "ID =  2124 / Length =  21\n",
      "ID =  2125 / Length =  5\n",
      "ID =  2123 / Length =  121\n",
      "ID =  2122 / Length =  121\n",
      "ID =  2121 / Length =  17\n",
      "ID =  2120 / Length =  3\n",
      "ID =  2126 / Length =  14\n",
      "ID =  2129 / Length =  7\n",
      "ID =  2130 / Length =  119\n",
      "ID =  2131 / Length =  3\n",
      "ID =  2133 / Length =  2\n",
      "ID =  2136 / Length =  116\n",
      "ID =  2137 / Length =  5\n",
      "ID =  2140 / Length =  25\n",
      "ID =  2146 / Length =  3\n",
      "ID =  2147 / Length =  4\n",
      "ID =  2149 / Length =  108\n",
      "ID =  2151 / Length =  109\n",
      "ID =  2153 / Length =  109\n",
      "ID =  2155 / Length =  4\n",
      "ID =  2156 / Length =  104\n",
      "ID =  2158 / Length =  3\n",
      "ID =  2157 / Length =  103\n",
      "ID =  2162 / Length =  101\n",
      "ID =  2165 / Length =  10\n",
      "ID =  2167 / Length =  20\n",
      "ID =  2171 / Length =  34\n",
      "ID =  2170 / Length =  2\n",
      "ID =  2169 / Length =  98\n",
      "ID =  2174 / Length =  76\n",
      "ID =  2175 / Length =  3\n",
      "ID =  2182 / Length =  3\n",
      "ID =  2183 / Length =  3\n",
      "ID =  2187 / Length =  87\n",
      "ID =  2190 / Length =  2\n",
      "ID =  2193 / Length =  84\n",
      "ID =  2194 / Length =  83\n",
      "ID =  2195 / Length =  62\n",
      "ID =  2197 / Length =  79\n",
      "ID =  2198 / Length =  9\n",
      "ID =  2201 / Length =  4\n",
      "ID =  2205 / Length =  72\n",
      "ID =  2207 / Length =  4\n",
      "ID =  2208 / Length =  4\n",
      "ID =  2209 / Length =  24\n",
      "ID =  2210 / Length =  68\n",
      "ID =  2213 / Length =  18\n",
      "ID =  2212 / Length =  67\n",
      "ID =  2214 / Length =  65\n",
      "ID =  2217 / Length =  2\n",
      "ID =  2219 / Length =  63\n",
      "ID =  2220 / Length =  14\n",
      "ID =  2225 / Length =  43\n",
      "ID =  2226 / Length =  57\n",
      "ID =  2227 / Length =  5\n",
      "ID =  2229 / Length =  55\n",
      "ID =  2230 / Length =  5\n",
      "ID =  2235 / Length =  3\n",
      "ID =  2236 / Length =  4\n",
      "ID =  2239 / Length =  49\n",
      "ID =  2241 / Length =  2\n",
      "ID =  2243 / Length =  49\n",
      "ID =  2245 / Length =  48\n",
      "ID =  2247 / Length =  2\n",
      "ID =  2251 / Length =  46\n",
      "ID =  2249 / Length =  33\n",
      "ID =  2248 / Length =  46\n",
      "ID =  2250 / Length =  13\n",
      "ID =  2253 / Length =  26\n",
      "ID =  2255 / Length =  4\n",
      "ID =  2256 / Length =  12\n",
      "ID =  2258 / Length =  8\n",
      "ID =  2260 / Length =  2\n",
      "ID =  2261 / Length =  2\n",
      "ID =  2268 / Length =  3\n",
      "ID =  2272 / Length =  33\n",
      "ID =  2274 / Length =  5\n",
      "ID =  2275 / Length =  10\n",
      "ID =  2276 / Length =  22\n",
      "ID =  2277 / Length =  2\n",
      "ID =  2278 / Length =  5\n",
      "ID =  2279 / Length =  21\n",
      "ID =  2280 / Length =  2\n",
      "ID =  2284 / Length =  4\n",
      "ID =  2285 / Length =  4\n",
      "ID =  2286 / Length =  21\n",
      "ID =  2288 / Length =  21\n",
      "ID =  2289 / Length =  7\n",
      "ID =  2291 / Length =  2\n",
      "ID =  2290 / Length =  2\n",
      "ID =  2292 / Length =  17\n",
      "ID =  2293 / Length =  16\n",
      "ID =  2294 / Length =  4\n",
      "ID =  2295 / Length =  5\n",
      "ID =  2296 / Length =  11\n",
      "ID =  2298 / Length =  4\n",
      "ID =  2300 / Length =  14\n",
      "ID =  2302 / Length =  13\n",
      "ID =  2307 / Length =  2\n",
      "ID =  2311 / Length =  7\n",
      "ID =  2309 / Length =  2\n",
      "ID =  2308 / Length =  2\n",
      "ID =  2315 / Length =  5\n",
      "ID =  2316 / Length =  3\n",
      "ID =  2317 / Length =  3\n",
      "ID =  2318 / Length =  3\n",
      "ID =  2320 / Length =  2\n"
     ]
    }
   ],
   "source": [
    "filtered_tracks = [track for track in tracks if len(track) > 1] #excludes track lengths below x frames\n",
    "track_lengths = [len(track) for track in filtered_tracks] \n",
    "track_IDs = [track.ID for track in filtered_tracks] \n",
    "#track_IDs = natsorted(track_IDs)\n",
    "print(\"number of tracks that are in this criterion are = \", len(track_IDs))\n",
    "print(natsorted(track_IDs))\n",
    "for i in range(len(track_lengths)):\n",
    "    print(\"ID = \", track_IDs[i], \"/ Length = \", track_lengths[i])"
   ]
  },
  {
   "cell_type": "markdown",
   "metadata": {},
   "source": [
    "# The _NUMBER CRUNCH_ zone"
   ]
  },
  {
   "cell_type": "markdown",
   "metadata": {},
   "source": [
    "#### Data output directory creation "
   ]
  },
  {
   "cell_type": "code",
   "execution_count": 32,
   "metadata": {},
   "outputs": [],
   "source": [
    "mask_type = \"cellpose_nuclear\" # important to specify the origin of the masks so that results are printed correctly"
   ]
  },
  {
   "cell_type": "code",
   "execution_count": 33,
   "metadata": {},
   "outputs": [],
   "source": [
    "### DIRECTORY CREATION ###\n",
    "stats_dir = os.path.join(root_path, 'stats') \n",
    "mask_type_stats_dir = os.path.join(stats_dir, mask_type)     \n",
    "    \n",
    "Path(stats_dir).mkdir(parents=True, exist_ok=True)\n",
    "Path(mask_type_stats_dir).mkdir(parents=True, exist_ok=True)   "
   ]
  },
  {
   "cell_type": "markdown",
   "metadata": {},
   "source": [
    "## Calculations - this version measures summed fluoresence intensity over whole mask area"
   ]
  },
  {
   "cell_type": "code",
   "execution_count": 23,
   "metadata": {},
   "outputs": [
    {
     "name": "stdout",
     "output_type": "stream",
     "text": [
      "Total calculation progress bar below (n/N cells):\n"
     ]
    },
    {
     "data": {
      "application/vnd.jupyter.widget-view+json": {
       "model_id": "",
       "version_major": 2,
       "version_minor": 0
      },
      "text/plain": [
       "HBox(children=(FloatProgress(value=0.0, max=3.0), HTML(value='')))"
      ]
     },
     "metadata": {},
     "output_type": "display_data"
    },
    {
     "name": "stdout",
     "output_type": "stream",
     "text": [
      "cell ID =  688 progress bar below: (n/N frames):\n"
     ]
    },
    {
     "data": {
      "application/vnd.jupyter.widget-view+json": {
       "model_id": "",
       "version_major": 2,
       "version_minor": 0
      },
      "text/plain": [
       "HBox(children=(FloatProgress(value=0.0, max=318.0), HTML(value='')))"
      ]
     },
     "metadata": {},
     "output_type": "display_data"
    },
    {
     "name": "stdout",
     "output_type": "stream",
     "text": [
      "\n",
      "cell ID =  1644 progress bar below: (n/N frames):\n"
     ]
    },
    {
     "data": {
      "application/vnd.jupyter.widget-view+json": {
       "model_id": "",
       "version_major": 2,
       "version_minor": 0
      },
      "text/plain": [
       "HBox(children=(FloatProgress(value=0.0, max=318.0), HTML(value='')))"
      ]
     },
     "metadata": {},
     "output_type": "display_data"
    },
    {
     "name": "stdout",
     "output_type": "stream",
     "text": [
      "\n",
      "cell ID =  1646 progress bar below: (n/N frames):\n"
     ]
    },
    {
     "data": {
      "application/vnd.jupyter.widget-view+json": {
       "model_id": "",
       "version_major": 2,
       "version_minor": 0
      },
      "text/plain": [
       "HBox(children=(FloatProgress(value=0.0, max=318.0), HTML(value='')))"
      ]
     },
     "metadata": {},
     "output_type": "display_data"
    },
    {
     "name": "stdout",
     "output_type": "stream",
     "text": [
      "\n",
      "\n",
      "FINISHHHHEEEEDDDDD\n"
     ]
    },
    {
     "data": {
      "text/plain": [
       "0"
      ]
     },
     "execution_count": 23,
     "metadata": {},
     "output_type": "execute_result"
    }
   ],
   "source": [
    "print('Total calculation progress bar below (n/N cells):')\n",
    "for j, cell in enumerate(tqdm(filtered_tracks)):\n",
    "    ID = str(filtered_tracks[j].ID)\n",
    "    #ID = str(1100) #### if only 1 cell required\n",
    "    print('cell ID = ',ID, 'progress bar below: (n/N frames):')## add to df\n",
    "    frames = filtered_tracks[j].t\n",
    "    x = filtered_tracks[j].x \n",
    "    y = filtered_tracks[j].y\n",
    "\n",
    "    fn = \"cell_ID_\" + ID + \".csv\"\n",
    "    stat_file = os.path.normpath(os.path.join(mask_type_stats_dir, fn))\n",
    "\n",
    "    df = pd.DataFrame([], columns=['Cell ID', 'Frame', 'GFP Intensity', 'RFP Intensity', 'Phase Intensity', 'Area', 'x','y', 'mask_fn']) #is this assignment of df correct? or does it overwrite \"count_cells\" above\n",
    "\n",
    "    new_mask_list = [] #this creates a new mask list of only the necessary frames\n",
    "    new_gfp_list = []\n",
    "    new_rfp_list = []\n",
    "    new_phase_list = []\n",
    "    for k in frames:\n",
    "        new_mask_list.append(mask_list[k]) \n",
    "        new_gfp_list.append(gfp_list[k])\n",
    "        new_rfp_list.append(rfp_list[k])\n",
    "        new_phase_list.append(phase_list[k])\n",
    "\n",
    "    # below opens a mask image, uses xy coords to select specific mask, then uses that specific mask to measure other images\n",
    "    for i, mask_name in enumerate(tqdm(new_mask_list)):\n",
    "        #print(i, frames[i], mask_name, new_gfp_list[i], new_rfp_list[i], new_phase_list[i]) #sanity check to ensure correct images are being loaded+measured\n",
    "\n",
    "        mask = io.imread(os.path.normpath(os.path.join(mask_dir, mask_name))) #load mask\n",
    "        xi = int(x[i])\n",
    "        yi = int(y[i]) #x and y coords\n",
    "        labelled, n_labels = ndimage.label(mask) \n",
    "        \n",
    "        #this block returns 0-value measurements if the cell_mask is unavailable at this frame, due to tracker-interpolation\n",
    "        if (labelled[xi,yi] == 0):\n",
    "            cell_mask = None\n",
    "            area = None\n",
    "            gfp_pix_value = None\n",
    "            rfp_pix_value = None\n",
    "            phase_pix_value = None\n",
    "            \n",
    "        else:\n",
    "            cell_mask = labelled == labelled[xi,yi] #creating a new mask only including cell of interest\n",
    "            area = ndimage.sum(cell_mask)\n",
    "\n",
    "            #load images and measure\n",
    "            gfp = io.imread(os.path.join(gfp_dir,new_gfp_list[i])) #load gfp image\n",
    "            gfp_pix_value = ndimage.sum(gfp, cell_mask, 1) #measure cell_mask area of gfp image\n",
    "\n",
    "            rfp = io.imread(os.path.join(rfp_dir,new_rfp_list[i]))\n",
    "            rfp_pix_value = ndimage.sum(rfp, cell_mask, 1)\n",
    "\n",
    "            phase = io.imread(os.path.join(phase_dir,new_phase_list[i]))\n",
    "            phase_pix_value = ndimage.sum(phase, cell_mask, 1)\n",
    "\n",
    "        #store measurements in pandas df\n",
    "        df.loc[i, 'Cell ID'] = ID\n",
    "        df.loc[i, 'Frame'] = frames[i]\n",
    "        df.loc[i,'GFP Intensity'] = gfp_pix_value \n",
    "        df.loc[i,'RFP Intensity'] = rfp_pix_value\n",
    "        df.loc[i,'Phase Intensity'] = phase_pix_value \n",
    "        df.loc[i,'Area'] = area\n",
    "        df.loc[i, 'mask_fn'] = mask_name\n",
    "        df.loc[i,'x'] = xi\n",
    "        df.loc[i,'y'] = yi\n",
    "\n",
    "    df.to_csv(stat_file, index=False)  \n",
    "    #print(df)\n",
    "print(\"FINISHHHHEEEEDDDDD\")\n",
    "os.system('spd-say \"Master Nathan, your program has finished. I love you.\"')"
   ]
  },
  {
   "cell_type": "markdown",
   "metadata": {},
   "source": [
    "## Calculations"
   ]
  },
  {
   "cell_type": "code",
   "execution_count": 34,
   "metadata": {},
   "outputs": [
    {
     "name": "stdout",
     "output_type": "stream",
     "text": [
      "Total calculation progress bar below (n/N cells):\n"
     ]
    },
    {
     "data": {
      "application/vnd.jupyter.widget-view+json": {
       "model_id": "aad0fba7b3c744faa50192b682fb029c",
       "version_major": 2,
       "version_minor": 0
      },
      "text/plain": [
       "HBox(children=(FloatProgress(value=0.0, max=1348.0), HTML(value='')))"
      ]
     },
     "metadata": {},
     "output_type": "display_data"
    },
    {
     "name": "stdout",
     "output_type": "stream",
     "text": [
      "cell ID =  65 progress bar below: (n/N frames):\n"
     ]
    },
    {
     "data": {
      "application/vnd.jupyter.widget-view+json": {
       "model_id": "295da985060e450c97b184623d90446f",
       "version_major": 2,
       "version_minor": 0
      },
      "text/plain": [
       "HBox(children=(FloatProgress(value=0.0, max=133.0), HTML(value='')))"
      ]
     },
     "metadata": {},
     "output_type": "display_data"
    },
    {
     "name": "stdout",
     "output_type": "stream",
     "text": [
      "\n",
      "cell ID =  77 progress bar below: (n/N frames):\n"
     ]
    },
    {
     "data": {
      "application/vnd.jupyter.widget-view+json": {
       "model_id": "99c304ace8f049a2ac56fba0b4434d6a",
       "version_major": 2,
       "version_minor": 0
      },
      "text/plain": [
       "HBox(children=(FloatProgress(value=0.0, max=69.0), HTML(value='')))"
      ]
     },
     "metadata": {},
     "output_type": "display_data"
    },
    {
     "name": "stdout",
     "output_type": "stream",
     "text": [
      "\n",
      "cell ID =  76 progress bar below: (n/N frames):\n"
     ]
    },
    {
     "data": {
      "application/vnd.jupyter.widget-view+json": {
       "model_id": "ca20294feb5e4eb1a35884f71b959444",
       "version_major": 2,
       "version_minor": 0
      },
      "text/plain": [
       "HBox(children=(FloatProgress(value=0.0, max=22.0), HTML(value='')))"
      ]
     },
     "metadata": {},
     "output_type": "display_data"
    },
    {
     "name": "stdout",
     "output_type": "stream",
     "text": [
      "\n",
      "cell ID =  75 progress bar below: (n/N frames):\n"
     ]
    },
    {
     "data": {
      "application/vnd.jupyter.widget-view+json": {
       "model_id": "f25ede6d15dc4a6bbfb12970801710d3",
       "version_major": 2,
       "version_minor": 0
      },
      "text/plain": [
       "HBox(children=(FloatProgress(value=0.0, max=5.0), HTML(value='')))"
      ]
     },
     "metadata": {},
     "output_type": "display_data"
    },
    {
     "name": "stdout",
     "output_type": "stream",
     "text": [
      "\n",
      "cell ID =  74 progress bar below: (n/N frames):\n"
     ]
    },
    {
     "data": {
      "application/vnd.jupyter.widget-view+json": {
       "model_id": "5628961dfb54476983bd65be9009f2cc",
       "version_major": 2,
       "version_minor": 0
      },
      "text/plain": [
       "HBox(children=(FloatProgress(value=0.0, max=107.0), HTML(value='')))"
      ]
     },
     "metadata": {},
     "output_type": "display_data"
    },
    {
     "name": "stdout",
     "output_type": "stream",
     "text": [
      "\n",
      "cell ID =  73 progress bar below: (n/N frames):\n"
     ]
    },
    {
     "data": {
      "application/vnd.jupyter.widget-view+json": {
       "model_id": "96963f5348af40e6b2ed06dc5a3c027a",
       "version_major": 2,
       "version_minor": 0
      },
      "text/plain": [
       "HBox(children=(FloatProgress(value=0.0, max=64.0), HTML(value='')))"
      ]
     },
     "metadata": {},
     "output_type": "display_data"
    },
    {
     "name": "stdout",
     "output_type": "stream",
     "text": [
      "\n",
      "cell ID =  72 progress bar below: (n/N frames):\n"
     ]
    },
    {
     "data": {
      "application/vnd.jupyter.widget-view+json": {
       "model_id": "afb098e11fab4794b84eaa426116c09e",
       "version_major": 2,
       "version_minor": 0
      },
      "text/plain": [
       "HBox(children=(FloatProgress(value=0.0, max=1091.0), HTML(value='')))"
      ]
     },
     "metadata": {},
     "output_type": "display_data"
    },
    {
     "name": "stdout",
     "output_type": "stream",
     "text": [
      "\n",
      "cell ID =  71 progress bar below: (n/N frames):\n"
     ]
    },
    {
     "data": {
      "application/vnd.jupyter.widget-view+json": {
       "model_id": "3ecaee8102704ffd8eab317f76c3f3b1",
       "version_major": 2,
       "version_minor": 0
      },
      "text/plain": [
       "HBox(children=(FloatProgress(value=0.0, max=2.0), HTML(value='')))"
      ]
     },
     "metadata": {},
     "output_type": "display_data"
    },
    {
     "name": "stdout",
     "output_type": "stream",
     "text": [
      "\n",
      "cell ID =  70 progress bar below: (n/N frames):\n"
     ]
    },
    {
     "data": {
      "application/vnd.jupyter.widget-view+json": {
       "model_id": "a31c51d3968c4fe0b2a5e522d25a8f1f",
       "version_major": 2,
       "version_minor": 0
      },
      "text/plain": [
       "HBox(children=(FloatProgress(value=0.0, max=386.0), HTML(value='')))"
      ]
     },
     "metadata": {},
     "output_type": "display_data"
    },
    {
     "name": "stdout",
     "output_type": "stream",
     "text": [
      "\n",
      "cell ID =  69 progress bar below: (n/N frames):\n"
     ]
    },
    {
     "data": {
      "application/vnd.jupyter.widget-view+json": {
       "model_id": "9d8797b7fc234f9f9da9a96906530886",
       "version_major": 2,
       "version_minor": 0
      },
      "text/plain": [
       "HBox(children=(FloatProgress(value=0.0, max=55.0), HTML(value='')))"
      ]
     },
     "metadata": {},
     "output_type": "display_data"
    },
    {
     "name": "stdout",
     "output_type": "stream",
     "text": [
      "\n",
      "cell ID =  68 progress bar below: (n/N frames):\n"
     ]
    },
    {
     "data": {
      "application/vnd.jupyter.widget-view+json": {
       "model_id": "b902edcdd2b64fe8a7b32cfb100a0dea",
       "version_major": 2,
       "version_minor": 0
      },
      "text/plain": [
       "HBox(children=(FloatProgress(value=0.0, max=349.0), HTML(value='')))"
      ]
     },
     "metadata": {},
     "output_type": "display_data"
    },
    {
     "name": "stdout",
     "output_type": "stream",
     "text": [
      "\n",
      "cell ID =  67 progress bar below: (n/N frames):\n"
     ]
    },
    {
     "data": {
      "application/vnd.jupyter.widget-view+json": {
       "model_id": "6006b7de37aa4d6584f7da71ffb9149c",
       "version_major": 2,
       "version_minor": 0
      },
      "text/plain": [
       "HBox(children=(FloatProgress(value=0.0, max=23.0), HTML(value='')))"
      ]
     },
     "metadata": {},
     "output_type": "display_data"
    },
    {
     "name": "stdout",
     "output_type": "stream",
     "text": [
      "\n",
      "cell ID =  66 progress bar below: (n/N frames):\n"
     ]
    },
    {
     "data": {
      "application/vnd.jupyter.widget-view+json": {
       "model_id": "be8cdacaec2947d68efd52efba555762",
       "version_major": 2,
       "version_minor": 0
      },
      "text/plain": [
       "HBox(children=(FloatProgress(value=0.0, max=75.0), HTML(value='')))"
      ]
     },
     "metadata": {},
     "output_type": "display_data"
    },
    {
     "name": "stdout",
     "output_type": "stream",
     "text": [
      "\n",
      "cell ID =  78 progress bar below: (n/N frames):\n"
     ]
    },
    {
     "data": {
      "application/vnd.jupyter.widget-view+json": {
       "model_id": "90ca1515457c44ff901cf08c3a0e6a93",
       "version_major": 2,
       "version_minor": 0
      },
      "text/plain": [
       "HBox(children=(FloatProgress(value=0.0, max=178.0), HTML(value='')))"
      ]
     },
     "metadata": {},
     "output_type": "display_data"
    },
    {
     "name": "stdout",
     "output_type": "stream",
     "text": [
      "\n",
      "cell ID =  64 progress bar below: (n/N frames):\n"
     ]
    },
    {
     "data": {
      "application/vnd.jupyter.widget-view+json": {
       "model_id": "34f1d947f1ab4a6fbdeef5da74739f6c",
       "version_major": 2,
       "version_minor": 0
      },
      "text/plain": [
       "HBox(children=(FloatProgress(value=0.0, max=629.0), HTML(value='')))"
      ]
     },
     "metadata": {},
     "output_type": "display_data"
    },
    {
     "name": "stdout",
     "output_type": "stream",
     "text": [
      "\n",
      "cell ID =  63 progress bar below: (n/N frames):\n"
     ]
    },
    {
     "data": {
      "application/vnd.jupyter.widget-view+json": {
       "model_id": "ab8cb640b1f94ff3b4a78fa4b88e6089",
       "version_major": 2,
       "version_minor": 0
      },
      "text/plain": [
       "HBox(children=(FloatProgress(value=0.0, max=52.0), HTML(value='')))"
      ]
     },
     "metadata": {},
     "output_type": "display_data"
    },
    {
     "name": "stdout",
     "output_type": "stream",
     "text": [
      "\n",
      "cell ID =  62 progress bar below: (n/N frames):\n"
     ]
    },
    {
     "data": {
      "application/vnd.jupyter.widget-view+json": {
       "model_id": "75adc3397ed540f39bc8188e24909d26",
       "version_major": 2,
       "version_minor": 0
      },
      "text/plain": [
       "HBox(children=(FloatProgress(value=0.0, max=57.0), HTML(value='')))"
      ]
     },
     "metadata": {},
     "output_type": "display_data"
    },
    {
     "name": "stdout",
     "output_type": "stream",
     "text": [
      "\n",
      "cell ID =  61 progress bar below: (n/N frames):\n"
     ]
    },
    {
     "data": {
      "application/vnd.jupyter.widget-view+json": {
       "model_id": "c1a4a0b893384556907913ef0536521c",
       "version_major": 2,
       "version_minor": 0
      },
      "text/plain": [
       "HBox(children=(FloatProgress(value=0.0, max=96.0), HTML(value='')))"
      ]
     },
     "metadata": {},
     "output_type": "display_data"
    },
    {
     "name": "stdout",
     "output_type": "stream",
     "text": [
      "\n",
      "cell ID =  60 progress bar below: (n/N frames):\n"
     ]
    },
    {
     "data": {
      "application/vnd.jupyter.widget-view+json": {
       "model_id": "ffec3491d7ff4e99bcd29a289a730c2b",
       "version_major": 2,
       "version_minor": 0
      },
      "text/plain": [
       "HBox(children=(FloatProgress(value=0.0, max=21.0), HTML(value='')))"
      ]
     },
     "metadata": {},
     "output_type": "display_data"
    },
    {
     "name": "stdout",
     "output_type": "stream",
     "text": [
      "\n",
      "cell ID =  59 progress bar below: (n/N frames):\n"
     ]
    },
    {
     "data": {
      "application/vnd.jupyter.widget-view+json": {
       "model_id": "e7df22b05829483a82780e648ff4b592",
       "version_major": 2,
       "version_minor": 0
      },
      "text/plain": [
       "HBox(children=(FloatProgress(value=0.0, max=7.0), HTML(value='')))"
      ]
     },
     "metadata": {},
     "output_type": "display_data"
    },
    {
     "name": "stdout",
     "output_type": "stream",
     "text": [
      "\n",
      "cell ID =  58 progress bar below: (n/N frames):\n"
     ]
    },
    {
     "data": {
      "application/vnd.jupyter.widget-view+json": {
       "model_id": "28a1929d883541f5b7100f569675cddf",
       "version_major": 2,
       "version_minor": 0
      },
      "text/plain": [
       "HBox(children=(FloatProgress(value=0.0, max=94.0), HTML(value='')))"
      ]
     },
     "metadata": {},
     "output_type": "display_data"
    },
    {
     "name": "stdout",
     "output_type": "stream",
     "text": [
      "\n",
      "cell ID =  57 progress bar below: (n/N frames):\n"
     ]
    },
    {
     "data": {
      "application/vnd.jupyter.widget-view+json": {
       "model_id": "840bd32f05d5493ea0b00a9afd32c70f",
       "version_major": 2,
       "version_minor": 0
      },
      "text/plain": [
       "HBox(children=(FloatProgress(value=0.0, max=865.0), HTML(value='')))"
      ]
     },
     "metadata": {},
     "output_type": "display_data"
    },
    {
     "name": "stdout",
     "output_type": "stream",
     "text": [
      "\n",
      "cell ID =  56 progress bar below: (n/N frames):\n"
     ]
    },
    {
     "data": {
      "application/vnd.jupyter.widget-view+json": {
       "model_id": "bc426e1d2bba483ea81388e976e03e4c",
       "version_major": 2,
       "version_minor": 0
      },
      "text/plain": [
       "HBox(children=(FloatProgress(value=0.0, max=86.0), HTML(value='')))"
      ]
     },
     "metadata": {},
     "output_type": "display_data"
    },
    {
     "name": "stdout",
     "output_type": "stream",
     "text": [
      "\n",
      "cell ID =  55 progress bar below: (n/N frames):\n"
     ]
    },
    {
     "data": {
      "application/vnd.jupyter.widget-view+json": {
       "model_id": "6cd1600440a540afb38af178a25a21d9",
       "version_major": 2,
       "version_minor": 0
      },
      "text/plain": [
       "HBox(children=(FloatProgress(value=0.0, max=25.0), HTML(value='')))"
      ]
     },
     "metadata": {},
     "output_type": "display_data"
    },
    {
     "name": "stdout",
     "output_type": "stream",
     "text": [
      "\n",
      "cell ID =  54 progress bar below: (n/N frames):\n"
     ]
    },
    {
     "data": {
      "application/vnd.jupyter.widget-view+json": {
       "model_id": "407d5c4efde942589a141153025ccd5a",
       "version_major": 2,
       "version_minor": 0
      },
      "text/plain": [
       "HBox(children=(FloatProgress(value=0.0, max=602.0), HTML(value='')))"
      ]
     },
     "metadata": {},
     "output_type": "display_data"
    },
    {
     "name": "stdout",
     "output_type": "stream",
     "text": [
      "\n",
      "cell ID =  53 progress bar below: (n/N frames):\n"
     ]
    },
    {
     "data": {
      "application/vnd.jupyter.widget-view+json": {
       "model_id": "8c2ce746f0b34eb69fad2eaeb710affd",
       "version_major": 2,
       "version_minor": 0
      },
      "text/plain": [
       "HBox(children=(FloatProgress(value=0.0, max=37.0), HTML(value='')))"
      ]
     },
     "metadata": {},
     "output_type": "display_data"
    },
    {
     "name": "stdout",
     "output_type": "stream",
     "text": [
      "\n",
      "cell ID =  91 progress bar below: (n/N frames):\n"
     ]
    },
    {
     "data": {
      "application/vnd.jupyter.widget-view+json": {
       "model_id": "dca801f88d8b47ba91f6aabf69317f4a",
       "version_major": 2,
       "version_minor": 0
      },
      "text/plain": [
       "HBox(children=(FloatProgress(value=0.0, max=160.0), HTML(value='')))"
      ]
     },
     "metadata": {},
     "output_type": "display_data"
    },
    {
     "name": "stdout",
     "output_type": "stream",
     "text": [
      "\n",
      "cell ID =  1 progress bar below: (n/N frames):\n"
     ]
    },
    {
     "data": {
      "application/vnd.jupyter.widget-view+json": {
       "model_id": "2b7bb9431b1043b0b61e59edb4c6b7dd",
       "version_major": 2,
       "version_minor": 0
      },
      "text/plain": [
       "HBox(children=(FloatProgress(value=0.0, max=12.0), HTML(value='')))"
      ]
     },
     "metadata": {},
     "output_type": "display_data"
    },
    {
     "name": "stdout",
     "output_type": "stream",
     "text": [
      "\n",
      "cell ID =  101 progress bar below: (n/N frames):\n"
     ]
    },
    {
     "data": {
      "application/vnd.jupyter.widget-view+json": {
       "model_id": "fbd86a346e8d49c8aef0f8135269a345",
       "version_major": 2,
       "version_minor": 0
      },
      "text/plain": [
       "HBox(children=(FloatProgress(value=0.0, max=558.0), HTML(value='')))"
      ]
     },
     "metadata": {},
     "output_type": "display_data"
    },
    {
     "name": "stdout",
     "output_type": "stream",
     "text": [
      "\n",
      "cell ID =  100 progress bar below: (n/N frames):\n"
     ]
    },
    {
     "data": {
      "application/vnd.jupyter.widget-view+json": {
       "model_id": "4789429b6be74ba3a57d62cc1bf93121",
       "version_major": 2,
       "version_minor": 0
      },
      "text/plain": [
       "HBox(children=(FloatProgress(value=0.0, max=23.0), HTML(value='')))"
      ]
     },
     "metadata": {},
     "output_type": "display_data"
    },
    {
     "name": "stdout",
     "output_type": "stream",
     "text": [
      "\n",
      "cell ID =  99 progress bar below: (n/N frames):\n"
     ]
    },
    {
     "data": {
      "application/vnd.jupyter.widget-view+json": {
       "model_id": "7a150c0b2f5f4e70b03267f196c58a15",
       "version_major": 2,
       "version_minor": 0
      },
      "text/plain": [
       "HBox(children=(FloatProgress(value=0.0, max=128.0), HTML(value='')))"
      ]
     },
     "metadata": {},
     "output_type": "display_data"
    },
    {
     "name": "stdout",
     "output_type": "stream",
     "text": [
      "\n",
      "cell ID =  98 progress bar below: (n/N frames):\n"
     ]
    },
    {
     "data": {
      "application/vnd.jupyter.widget-view+json": {
       "model_id": "6e0430e3e3e44df09519f0eb892e1d18",
       "version_major": 2,
       "version_minor": 0
      },
      "text/plain": [
       "HBox(children=(FloatProgress(value=0.0, max=12.0), HTML(value='')))"
      ]
     },
     "metadata": {},
     "output_type": "display_data"
    },
    {
     "name": "stdout",
     "output_type": "stream",
     "text": [
      "\n",
      "cell ID =  97 progress bar below: (n/N frames):\n"
     ]
    },
    {
     "data": {
      "application/vnd.jupyter.widget-view+json": {
       "model_id": "c6f58abb6d2745fbbc93dd97c581e3bb",
       "version_major": 2,
       "version_minor": 0
      },
      "text/plain": [
       "HBox(children=(FloatProgress(value=0.0, max=111.0), HTML(value='')))"
      ]
     },
     "metadata": {},
     "output_type": "display_data"
    },
    {
     "name": "stdout",
     "output_type": "stream",
     "text": [
      "\n",
      "cell ID =  96 progress bar below: (n/N frames):\n"
     ]
    },
    {
     "data": {
      "application/vnd.jupyter.widget-view+json": {
       "model_id": "06a3a051ee1141baae647256d9a7df30",
       "version_major": 2,
       "version_minor": 0
      },
      "text/plain": [
       "HBox(children=(FloatProgress(value=0.0, max=25.0), HTML(value='')))"
      ]
     },
     "metadata": {},
     "output_type": "display_data"
    },
    {
     "name": "stdout",
     "output_type": "stream",
     "text": [
      "\n",
      "cell ID =  95 progress bar below: (n/N frames):\n"
     ]
    },
    {
     "data": {
      "application/vnd.jupyter.widget-view+json": {
       "model_id": "7a398a9675814ca899672c4b9e868348",
       "version_major": 2,
       "version_minor": 0
      },
      "text/plain": [
       "HBox(children=(FloatProgress(value=0.0, max=58.0), HTML(value='')))"
      ]
     },
     "metadata": {},
     "output_type": "display_data"
    },
    {
     "name": "stdout",
     "output_type": "stream",
     "text": [
      "\n",
      "cell ID =  94 progress bar below: (n/N frames):\n"
     ]
    },
    {
     "data": {
      "application/vnd.jupyter.widget-view+json": {
       "model_id": "4fcc19a9cd1040aba7e46103994ef14a",
       "version_major": 2,
       "version_minor": 0
      },
      "text/plain": [
       "HBox(children=(FloatProgress(value=0.0, max=609.0), HTML(value='')))"
      ]
     },
     "metadata": {},
     "output_type": "display_data"
    },
    {
     "name": "stdout",
     "output_type": "stream",
     "text": [
      "\n",
      "cell ID =  93 progress bar below: (n/N frames):\n"
     ]
    },
    {
     "data": {
      "application/vnd.jupyter.widget-view+json": {
       "model_id": "287432eb22c74eb895f10793b28352fa",
       "version_major": 2,
       "version_minor": 0
      },
      "text/plain": [
       "HBox(children=(FloatProgress(value=0.0, max=49.0), HTML(value='')))"
      ]
     },
     "metadata": {},
     "output_type": "display_data"
    },
    {
     "name": "stdout",
     "output_type": "stream",
     "text": [
      "\n",
      "cell ID =  92 progress bar below: (n/N frames):\n"
     ]
    },
    {
     "data": {
      "application/vnd.jupyter.widget-view+json": {
       "model_id": "ca443804ea4c487e8acf93aeb2e7968e",
       "version_major": 2,
       "version_minor": 0
      },
      "text/plain": [
       "HBox(children=(FloatProgress(value=0.0, max=59.0), HTML(value='')))"
      ]
     },
     "metadata": {},
     "output_type": "display_data"
    },
    {
     "name": "stdout",
     "output_type": "stream",
     "text": [
      "\n",
      "cell ID =  2 progress bar below: (n/N frames):\n"
     ]
    },
    {
     "data": {
      "application/vnd.jupyter.widget-view+json": {
       "model_id": "93c41cc17d8a441bbfe4efe23a19d69e",
       "version_major": 2,
       "version_minor": 0
      },
      "text/plain": [
       "HBox(children=(FloatProgress(value=0.0, max=591.0), HTML(value='')))"
      ]
     },
     "metadata": {},
     "output_type": "display_data"
    },
    {
     "name": "stdout",
     "output_type": "stream",
     "text": [
      "\n",
      "cell ID =  90 progress bar below: (n/N frames):\n"
     ]
    },
    {
     "data": {
      "application/vnd.jupyter.widget-view+json": {
       "model_id": "8bb44e8787ea4bd7a0b38f2c02a7959b",
       "version_major": 2,
       "version_minor": 0
      },
      "text/plain": [
       "HBox(children=(FloatProgress(value=0.0, max=22.0), HTML(value='')))"
      ]
     },
     "metadata": {},
     "output_type": "display_data"
    },
    {
     "name": "stdout",
     "output_type": "stream",
     "text": [
      "\n",
      "cell ID =  89 progress bar below: (n/N frames):\n"
     ]
    },
    {
     "data": {
      "application/vnd.jupyter.widget-view+json": {
       "model_id": "ea580cf26ec3454a9dde5452708ea41b",
       "version_major": 2,
       "version_minor": 0
      },
      "text/plain": [
       "HBox(children=(FloatProgress(value=0.0, max=46.0), HTML(value='')))"
      ]
     },
     "metadata": {},
     "output_type": "display_data"
    },
    {
     "name": "stdout",
     "output_type": "stream",
     "text": [
      "\n",
      "cell ID =  88 progress bar below: (n/N frames):\n"
     ]
    },
    {
     "data": {
      "application/vnd.jupyter.widget-view+json": {
       "model_id": "f4588da586e243b9b5e7b36386267ccb",
       "version_major": 2,
       "version_minor": 0
      },
      "text/plain": [
       "HBox(children=(FloatProgress(value=0.0, max=24.0), HTML(value='')))"
      ]
     },
     "metadata": {},
     "output_type": "display_data"
    },
    {
     "name": "stdout",
     "output_type": "stream",
     "text": [
      "\n",
      "cell ID =  87 progress bar below: (n/N frames):\n"
     ]
    },
    {
     "data": {
      "application/vnd.jupyter.widget-view+json": {
       "model_id": "396b18f38089472f99f86c26468f2666",
       "version_major": 2,
       "version_minor": 0
      },
      "text/plain": [
       "HBox(children=(FloatProgress(value=0.0, max=70.0), HTML(value='')))"
      ]
     },
     "metadata": {},
     "output_type": "display_data"
    },
    {
     "name": "stdout",
     "output_type": "stream",
     "text": [
      "\n",
      "cell ID =  86 progress bar below: (n/N frames):\n"
     ]
    },
    {
     "data": {
      "application/vnd.jupyter.widget-view+json": {
       "model_id": "d74e84d6280849aba67a01e88ccdc8e8",
       "version_major": 2,
       "version_minor": 0
      },
      "text/plain": [
       "HBox(children=(FloatProgress(value=0.0, max=201.0), HTML(value='')))"
      ]
     },
     "metadata": {},
     "output_type": "display_data"
    },
    {
     "name": "stdout",
     "output_type": "stream",
     "text": [
      "\n",
      "cell ID =  85 progress bar below: (n/N frames):\n"
     ]
    },
    {
     "data": {
      "application/vnd.jupyter.widget-view+json": {
       "model_id": "3d6010ca5afb4605bbd7b2b7fac0f3be",
       "version_major": 2,
       "version_minor": 0
      },
      "text/plain": [
       "HBox(children=(FloatProgress(value=0.0, max=682.0), HTML(value='')))"
      ]
     },
     "metadata": {},
     "output_type": "display_data"
    },
    {
     "name": "stdout",
     "output_type": "stream",
     "text": [
      "\n",
      "cell ID =  84 progress bar below: (n/N frames):\n"
     ]
    },
    {
     "data": {
      "application/vnd.jupyter.widget-view+json": {
       "model_id": "ec68dfec230b4072944db8a7b50b7419",
       "version_major": 2,
       "version_minor": 0
      },
      "text/plain": [
       "HBox(children=(FloatProgress(value=0.0, max=65.0), HTML(value='')))"
      ]
     },
     "metadata": {},
     "output_type": "display_data"
    },
    {
     "name": "stdout",
     "output_type": "stream",
     "text": [
      "\n",
      "cell ID =  83 progress bar below: (n/N frames):\n"
     ]
    },
    {
     "data": {
      "application/vnd.jupyter.widget-view+json": {
       "model_id": "ab215f4e25044ec4be03e29995e6e21d",
       "version_major": 2,
       "version_minor": 0
      },
      "text/plain": [
       "HBox(children=(FloatProgress(value=0.0, max=15.0), HTML(value='')))"
      ]
     },
     "metadata": {},
     "output_type": "display_data"
    },
    {
     "name": "stdout",
     "output_type": "stream",
     "text": [
      "\n",
      "cell ID =  82 progress bar below: (n/N frames):\n"
     ]
    },
    {
     "data": {
      "application/vnd.jupyter.widget-view+json": {
       "model_id": "fd6bc32b8c5e4e9fbc8c5899a4e8f6df",
       "version_major": 2,
       "version_minor": 0
      },
      "text/plain": [
       "HBox(children=(FloatProgress(value=0.0, max=179.0), HTML(value='')))"
      ]
     },
     "metadata": {},
     "output_type": "display_data"
    },
    {
     "name": "stdout",
     "output_type": "stream",
     "text": [
      "\n",
      "cell ID =  81 progress bar below: (n/N frames):\n"
     ]
    },
    {
     "data": {
      "application/vnd.jupyter.widget-view+json": {
       "model_id": "872d674ae35d46f88f970efc6a188279",
       "version_major": 2,
       "version_minor": 0
      },
      "text/plain": [
       "HBox(children=(FloatProgress(value=0.0, max=20.0), HTML(value='')))"
      ]
     },
     "metadata": {},
     "output_type": "display_data"
    },
    {
     "name": "stdout",
     "output_type": "stream",
     "text": [
      "\n",
      "cell ID =  80 progress bar below: (n/N frames):\n"
     ]
    },
    {
     "data": {
      "application/vnd.jupyter.widget-view+json": {
       "model_id": "a406f2dbd95d477aa410c94359350776",
       "version_major": 2,
       "version_minor": 0
      },
      "text/plain": [
       "HBox(children=(FloatProgress(value=0.0, max=115.0), HTML(value='')))"
      ]
     },
     "metadata": {},
     "output_type": "display_data"
    },
    {
     "name": "stdout",
     "output_type": "stream",
     "text": [
      "\n",
      "cell ID =  79 progress bar below: (n/N frames):\n"
     ]
    },
    {
     "data": {
      "application/vnd.jupyter.widget-view+json": {
       "model_id": "0ab4d0537aee4dada6693fbbf5703504",
       "version_major": 2,
       "version_minor": 0
      },
      "text/plain": [
       "HBox(children=(FloatProgress(value=0.0, max=21.0), HTML(value='')))"
      ]
     },
     "metadata": {},
     "output_type": "display_data"
    },
    {
     "name": "stdout",
     "output_type": "stream",
     "text": [
      "\n",
      "cell ID =  26 progress bar below: (n/N frames):\n"
     ]
    },
    {
     "data": {
      "application/vnd.jupyter.widget-view+json": {
       "model_id": "534bd0d8cc574bca99b46c9f7cb5f8e9",
       "version_major": 2,
       "version_minor": 0
      },
      "text/plain": [
       "HBox(children=(FloatProgress(value=0.0, max=179.0), HTML(value='')))"
      ]
     },
     "metadata": {},
     "output_type": "display_data"
    },
    {
     "name": "stdout",
     "output_type": "stream",
     "text": [
      "\n",
      "cell ID =  25 progress bar below: (n/N frames):\n"
     ]
    },
    {
     "data": {
      "application/vnd.jupyter.widget-view+json": {
       "model_id": "481a5a8d0d2043b7acb3d5774b5a3ae2",
       "version_major": 2,
       "version_minor": 0
      },
      "text/plain": [
       "HBox(children=(FloatProgress(value=0.0, max=24.0), HTML(value='')))"
      ]
     },
     "metadata": {},
     "output_type": "display_data"
    },
    {
     "name": "stdout",
     "output_type": "stream",
     "text": [
      "\n",
      "cell ID =  23 progress bar below: (n/N frames):\n"
     ]
    },
    {
     "data": {
      "application/vnd.jupyter.widget-view+json": {
       "model_id": "b0b246718fef4ed89b5f8ca86eaafa66",
       "version_major": 2,
       "version_minor": 0
      },
      "text/plain": [
       "HBox(children=(FloatProgress(value=0.0, max=16.0), HTML(value='')))"
      ]
     },
     "metadata": {},
     "output_type": "display_data"
    },
    {
     "name": "stdout",
     "output_type": "stream",
     "text": [
      "\n",
      "cell ID =  22 progress bar below: (n/N frames):\n"
     ]
    },
    {
     "data": {
      "application/vnd.jupyter.widget-view+json": {
       "model_id": "03308ddbd00d40c1956bd3f5c900fa45",
       "version_major": 2,
       "version_minor": 0
      },
      "text/plain": [
       "HBox(children=(FloatProgress(value=0.0, max=54.0), HTML(value='')))"
      ]
     },
     "metadata": {},
     "output_type": "display_data"
    },
    {
     "name": "stdout",
     "output_type": "stream",
     "text": [
      "\n",
      "cell ID =  21 progress bar below: (n/N frames):\n"
     ]
    },
    {
     "data": {
      "application/vnd.jupyter.widget-view+json": {
       "model_id": "1da5a055ece344f4bcd5c5a49559f0f8",
       "version_major": 2,
       "version_minor": 0
      },
      "text/plain": [
       "HBox(children=(FloatProgress(value=0.0, max=148.0), HTML(value='')))"
      ]
     },
     "metadata": {},
     "output_type": "display_data"
    },
    {
     "name": "stdout",
     "output_type": "stream",
     "text": [
      "\n",
      "cell ID =  20 progress bar below: (n/N frames):\n"
     ]
    },
    {
     "data": {
      "application/vnd.jupyter.widget-view+json": {
       "model_id": "14d3e906917146cf91624f80be481634",
       "version_major": 2,
       "version_minor": 0
      },
      "text/plain": [
       "HBox(children=(FloatProgress(value=0.0, max=719.0), HTML(value='')))"
      ]
     },
     "metadata": {},
     "output_type": "display_data"
    },
    {
     "name": "stdout",
     "output_type": "stream",
     "text": [
      "\n",
      "cell ID =  19 progress bar below: (n/N frames):\n"
     ]
    },
    {
     "data": {
      "application/vnd.jupyter.widget-view+json": {
       "model_id": "2772301aa633437ab639a03b4b149479",
       "version_major": 2,
       "version_minor": 0
      },
      "text/plain": [
       "HBox(children=(FloatProgress(value=0.0, max=167.0), HTML(value='')))"
      ]
     },
     "metadata": {},
     "output_type": "display_data"
    },
    {
     "name": "stdout",
     "output_type": "stream",
     "text": [
      "\n",
      "cell ID =  18 progress bar below: (n/N frames):\n"
     ]
    },
    {
     "data": {
      "application/vnd.jupyter.widget-view+json": {
       "model_id": "e22e776708e74820820108a79083e70f",
       "version_major": 2,
       "version_minor": 0
      },
      "text/plain": [
       "HBox(children=(FloatProgress(value=0.0, max=379.0), HTML(value='')))"
      ]
     },
     "metadata": {},
     "output_type": "display_data"
    },
    {
     "name": "stdout",
     "output_type": "stream",
     "text": [
      "\n",
      "cell ID =  17 progress bar below: (n/N frames):\n"
     ]
    },
    {
     "data": {
      "application/vnd.jupyter.widget-view+json": {
       "model_id": "3a92f9d5f91d4745aec2d8c005cdb1f4",
       "version_major": 2,
       "version_minor": 0
      },
      "text/plain": [
       "HBox(children=(FloatProgress(value=0.0, max=135.0), HTML(value='')))"
      ]
     },
     "metadata": {},
     "output_type": "display_data"
    },
    {
     "name": "stdout",
     "output_type": "stream",
     "text": [
      "\n",
      "cell ID =  16 progress bar below: (n/N frames):\n"
     ]
    },
    {
     "data": {
      "application/vnd.jupyter.widget-view+json": {
       "model_id": "0c11b978c4a54e13889f8a7dd8f65077",
       "version_major": 2,
       "version_minor": 0
      },
      "text/plain": [
       "HBox(children=(FloatProgress(value=0.0, max=803.0), HTML(value='')))"
      ]
     },
     "metadata": {},
     "output_type": "display_data"
    },
    {
     "name": "stdout",
     "output_type": "stream",
     "text": [
      "\n",
      "cell ID =  15 progress bar below: (n/N frames):\n"
     ]
    },
    {
     "data": {
      "application/vnd.jupyter.widget-view+json": {
       "model_id": "ead67988922a4739ba4fc077bcbfbf45",
       "version_major": 2,
       "version_minor": 0
      },
      "text/plain": [
       "HBox(children=(FloatProgress(value=0.0, max=20.0), HTML(value='')))"
      ]
     },
     "metadata": {},
     "output_type": "display_data"
    },
    {
     "name": "stdout",
     "output_type": "stream",
     "text": [
      "\n",
      "cell ID =  51 progress bar below: (n/N frames):\n"
     ]
    },
    {
     "data": {
      "application/vnd.jupyter.widget-view+json": {
       "model_id": "56b61f1d132b4eb28a367f756ab48745",
       "version_major": 2,
       "version_minor": 0
      },
      "text/plain": [
       "HBox(children=(FloatProgress(value=0.0, max=170.0), HTML(value='')))"
      ]
     },
     "metadata": {},
     "output_type": "display_data"
    },
    {
     "name": "stdout",
     "output_type": "stream",
     "text": [
      "\n",
      "cell ID =  13 progress bar below: (n/N frames):\n"
     ]
    },
    {
     "data": {
      "application/vnd.jupyter.widget-view+json": {
       "model_id": "3df6565e6b3640798f82a36083a843f3",
       "version_major": 2,
       "version_minor": 0
      },
      "text/plain": [
       "HBox(children=(FloatProgress(value=0.0, max=137.0), HTML(value='')))"
      ]
     },
     "metadata": {},
     "output_type": "display_data"
    },
    {
     "name": "stdout",
     "output_type": "stream",
     "text": [
      "\n",
      "cell ID =  12 progress bar below: (n/N frames):\n"
     ]
    },
    {
     "data": {
      "application/vnd.jupyter.widget-view+json": {
       "model_id": "8aefe0e0120f4153abd2d0dfa738059d",
       "version_major": 2,
       "version_minor": 0
      },
      "text/plain": [
       "HBox(children=(FloatProgress(value=0.0, max=68.0), HTML(value='')))"
      ]
     },
     "metadata": {},
     "output_type": "display_data"
    },
    {
     "name": "stdout",
     "output_type": "stream",
     "text": [
      "\n",
      "cell ID =  11 progress bar below: (n/N frames):\n"
     ]
    },
    {
     "data": {
      "application/vnd.jupyter.widget-view+json": {
       "model_id": "304fd9eb6cfe47829435606e7d882ae2",
       "version_major": 2,
       "version_minor": 0
      },
      "text/plain": [
       "HBox(children=(FloatProgress(value=0.0, max=48.0), HTML(value='')))"
      ]
     },
     "metadata": {},
     "output_type": "display_data"
    },
    {
     "name": "stdout",
     "output_type": "stream",
     "text": [
      "\n",
      "cell ID =  10 progress bar below: (n/N frames):\n"
     ]
    },
    {
     "data": {
      "application/vnd.jupyter.widget-view+json": {
       "model_id": "99ddc7e76dac4043809172f5286b1f88",
       "version_major": 2,
       "version_minor": 0
      },
      "text/plain": [
       "HBox(children=(FloatProgress(value=0.0, max=227.0), HTML(value='')))"
      ]
     },
     "metadata": {},
     "output_type": "display_data"
    },
    {
     "name": "stdout",
     "output_type": "stream",
     "text": [
      "\n",
      "cell ID =  9 progress bar below: (n/N frames):\n"
     ]
    },
    {
     "data": {
      "application/vnd.jupyter.widget-view+json": {
       "model_id": "ba6e7338fe6e425eb5243a5f49f70152",
       "version_major": 2,
       "version_minor": 0
      },
      "text/plain": [
       "HBox(children=(FloatProgress(value=0.0, max=3.0), HTML(value='')))"
      ]
     },
     "metadata": {},
     "output_type": "display_data"
    },
    {
     "name": "stdout",
     "output_type": "stream",
     "text": [
      "\n",
      "cell ID =  8 progress bar below: (n/N frames):\n"
     ]
    },
    {
     "data": {
      "application/vnd.jupyter.widget-view+json": {
       "model_id": "ca7df50338144d5e959dabc8b9986101",
       "version_major": 2,
       "version_minor": 0
      },
      "text/plain": [
       "HBox(children=(FloatProgress(value=0.0, max=12.0), HTML(value='')))"
      ]
     },
     "metadata": {},
     "output_type": "display_data"
    },
    {
     "name": "stdout",
     "output_type": "stream",
     "text": [
      "\n",
      "cell ID =  7 progress bar below: (n/N frames):\n"
     ]
    },
    {
     "data": {
      "application/vnd.jupyter.widget-view+json": {
       "model_id": "7bf338b327914ec28e374da30a8be79a",
       "version_major": 2,
       "version_minor": 0
      },
      "text/plain": [
       "HBox(children=(FloatProgress(value=0.0, max=534.0), HTML(value='')))"
      ]
     },
     "metadata": {},
     "output_type": "display_data"
    },
    {
     "name": "stdout",
     "output_type": "stream",
     "text": [
      "\n",
      "cell ID =  6 progress bar below: (n/N frames):\n"
     ]
    },
    {
     "data": {
      "application/vnd.jupyter.widget-view+json": {
       "model_id": "680b286389dc47009aefdc1f6fae6426",
       "version_major": 2,
       "version_minor": 0
      },
      "text/plain": [
       "HBox(children=(FloatProgress(value=0.0, max=56.0), HTML(value='')))"
      ]
     },
     "metadata": {},
     "output_type": "display_data"
    },
    {
     "name": "stdout",
     "output_type": "stream",
     "text": [
      "\n",
      "cell ID =  5 progress bar below: (n/N frames):\n"
     ]
    },
    {
     "data": {
      "application/vnd.jupyter.widget-view+json": {
       "model_id": "a625fbcf8e4c4515b92b26ca9fe3da4c",
       "version_major": 2,
       "version_minor": 0
      },
      "text/plain": [
       "HBox(children=(FloatProgress(value=0.0, max=756.0), HTML(value='')))"
      ]
     },
     "metadata": {},
     "output_type": "display_data"
    },
    {
     "name": "stdout",
     "output_type": "stream",
     "text": [
      "\n",
      "cell ID =  4 progress bar below: (n/N frames):\n"
     ]
    },
    {
     "data": {
      "application/vnd.jupyter.widget-view+json": {
       "model_id": "adfbe120dc9b4418a62b5f5df85fa416",
       "version_major": 2,
       "version_minor": 0
      },
      "text/plain": [
       "HBox(children=(FloatProgress(value=0.0, max=61.0), HTML(value='')))"
      ]
     },
     "metadata": {},
     "output_type": "display_data"
    },
    {
     "name": "stdout",
     "output_type": "stream",
     "text": [
      "\n",
      "cell ID =  3 progress bar below: (n/N frames):\n"
     ]
    },
    {
     "data": {
      "application/vnd.jupyter.widget-view+json": {
       "model_id": "60f2e77432bb485ab11026a0b0d26c35",
       "version_major": 2,
       "version_minor": 0
      },
      "text/plain": [
       "HBox(children=(FloatProgress(value=0.0, max=120.0), HTML(value='')))"
      ]
     },
     "metadata": {},
     "output_type": "display_data"
    },
    {
     "name": "stdout",
     "output_type": "stream",
     "text": [
      "\n",
      "cell ID =  52 progress bar below: (n/N frames):\n"
     ]
    },
    {
     "data": {
      "application/vnd.jupyter.widget-view+json": {
       "model_id": "3cfd518abdd049d3adef53afa166f8e3",
       "version_major": 2,
       "version_minor": 0
      },
      "text/plain": [
       "HBox(children=(FloatProgress(value=0.0, max=163.0), HTML(value='')))"
      ]
     },
     "metadata": {},
     "output_type": "display_data"
    },
    {
     "name": "stdout",
     "output_type": "stream",
     "text": [
      "\n",
      "cell ID =  28 progress bar below: (n/N frames):\n"
     ]
    },
    {
     "data": {
      "application/vnd.jupyter.widget-view+json": {
       "model_id": "9ca242faefac4236a1c0f86d814991ae",
       "version_major": 2,
       "version_minor": 0
      },
      "text/plain": [
       "HBox(children=(FloatProgress(value=0.0, max=664.0), HTML(value='')))"
      ]
     },
     "metadata": {},
     "output_type": "display_data"
    },
    {
     "name": "stdout",
     "output_type": "stream",
     "text": [
      "\n",
      "cell ID =  50 progress bar below: (n/N frames):\n"
     ]
    },
    {
     "data": {
      "application/vnd.jupyter.widget-view+json": {
       "model_id": "33ae7746e1eb41f487f7d22f9fe2e162",
       "version_major": 2,
       "version_minor": 0
      },
      "text/plain": [
       "HBox(children=(FloatProgress(value=0.0, max=425.0), HTML(value='')))"
      ]
     },
     "metadata": {},
     "output_type": "display_data"
    },
    {
     "name": "stdout",
     "output_type": "stream",
     "text": [
      "\n",
      "cell ID =  49 progress bar below: (n/N frames):\n"
     ]
    },
    {
     "data": {
      "application/vnd.jupyter.widget-view+json": {
       "model_id": "a348a94ed6e642b0adbb258ac2c28450",
       "version_major": 2,
       "version_minor": 0
      },
      "text/plain": [
       "HBox(children=(FloatProgress(value=0.0, max=554.0), HTML(value='')))"
      ]
     },
     "metadata": {},
     "output_type": "display_data"
    },
    {
     "name": "stdout",
     "output_type": "stream",
     "text": [
      "\n",
      "cell ID =  48 progress bar below: (n/N frames):\n"
     ]
    },
    {
     "data": {
      "application/vnd.jupyter.widget-view+json": {
       "model_id": "1680d3b4c2194fa398241904f95a992a",
       "version_major": 2,
       "version_minor": 0
      },
      "text/plain": [
       "HBox(children=(FloatProgress(value=0.0, max=239.0), HTML(value='')))"
      ]
     },
     "metadata": {},
     "output_type": "display_data"
    },
    {
     "name": "stdout",
     "output_type": "stream",
     "text": [
      "\n",
      "cell ID =  47 progress bar below: (n/N frames):\n"
     ]
    },
    {
     "data": {
      "application/vnd.jupyter.widget-view+json": {
       "model_id": "d1d79ebeeba8446aae2f87fe4b7d4057",
       "version_major": 2,
       "version_minor": 0
      },
      "text/plain": [
       "HBox(children=(FloatProgress(value=0.0, max=17.0), HTML(value='')))"
      ]
     },
     "metadata": {},
     "output_type": "display_data"
    },
    {
     "name": "stdout",
     "output_type": "stream",
     "text": [
      "\n",
      "cell ID =  46 progress bar below: (n/N frames):\n"
     ]
    },
    {
     "data": {
      "application/vnd.jupyter.widget-view+json": {
       "model_id": "144a0d5fcc9943c5b9b81747a895b252",
       "version_major": 2,
       "version_minor": 0
      },
      "text/plain": [
       "HBox(children=(FloatProgress(value=0.0, max=1092.0), HTML(value='')))"
      ]
     },
     "metadata": {},
     "output_type": "display_data"
    },
    {
     "name": "stdout",
     "output_type": "stream",
     "text": [
      "\n",
      "cell ID =  45 progress bar below: (n/N frames):\n"
     ]
    },
    {
     "data": {
      "application/vnd.jupyter.widget-view+json": {
       "model_id": "c56e0cf4372a4abdaff0fd75d8edf2ae",
       "version_major": 2,
       "version_minor": 0
      },
      "text/plain": [
       "HBox(children=(FloatProgress(value=0.0, max=165.0), HTML(value='')))"
      ]
     },
     "metadata": {},
     "output_type": "display_data"
    },
    {
     "name": "stdout",
     "output_type": "stream",
     "text": [
      "\n",
      "cell ID =  44 progress bar below: (n/N frames):\n"
     ]
    },
    {
     "data": {
      "application/vnd.jupyter.widget-view+json": {
       "model_id": "8bed94ab5ae843b3bb35b73e6281ca98",
       "version_major": 2,
       "version_minor": 0
      },
      "text/plain": [
       "HBox(children=(FloatProgress(value=0.0, max=36.0), HTML(value='')))"
      ]
     },
     "metadata": {},
     "output_type": "display_data"
    },
    {
     "name": "stdout",
     "output_type": "stream",
     "text": [
      "\n",
      "cell ID =  43 progress bar below: (n/N frames):\n"
     ]
    },
    {
     "data": {
      "application/vnd.jupyter.widget-view+json": {
       "model_id": "3ec834dcfded42bdade4a606a7de47b0",
       "version_major": 2,
       "version_minor": 0
      },
      "text/plain": [
       "HBox(children=(FloatProgress(value=0.0, max=575.0), HTML(value='')))"
      ]
     },
     "metadata": {},
     "output_type": "display_data"
    },
    {
     "name": "stdout",
     "output_type": "stream",
     "text": [
      "\n",
      "cell ID =  42 progress bar below: (n/N frames):\n"
     ]
    },
    {
     "data": {
      "application/vnd.jupyter.widget-view+json": {
       "model_id": "bb7bdf242bc24774a85b8371b804433b",
       "version_major": 2,
       "version_minor": 0
      },
      "text/plain": [
       "HBox(children=(FloatProgress(value=0.0, max=10.0), HTML(value='')))"
      ]
     },
     "metadata": {},
     "output_type": "display_data"
    },
    {
     "name": "stdout",
     "output_type": "stream",
     "text": [
      "\n",
      "cell ID =  41 progress bar below: (n/N frames):\n"
     ]
    },
    {
     "data": {
      "application/vnd.jupyter.widget-view+json": {
       "model_id": "14a145d50f49440da33689e1948ec89c",
       "version_major": 2,
       "version_minor": 0
      },
      "text/plain": [
       "HBox(children=(FloatProgress(value=0.0, max=42.0), HTML(value='')))"
      ]
     },
     "metadata": {},
     "output_type": "display_data"
    },
    {
     "name": "stdout",
     "output_type": "stream",
     "text": [
      "\n",
      "cell ID =  38 progress bar below: (n/N frames):\n"
     ]
    },
    {
     "data": {
      "application/vnd.jupyter.widget-view+json": {
       "model_id": "29b8c58e99f7496cb58ed7f4a0469898",
       "version_major": 2,
       "version_minor": 0
      },
      "text/plain": [
       "HBox(children=(FloatProgress(value=0.0, max=9.0), HTML(value='')))"
      ]
     },
     "metadata": {},
     "output_type": "display_data"
    },
    {
     "name": "stdout",
     "output_type": "stream",
     "text": [
      "\n",
      "cell ID =  27 progress bar below: (n/N frames):\n"
     ]
    },
    {
     "data": {
      "application/vnd.jupyter.widget-view+json": {
       "model_id": "3f6ee4687a124cf0b8ee7f60c1574f4d",
       "version_major": 2,
       "version_minor": 0
      },
      "text/plain": [
       "HBox(children=(FloatProgress(value=0.0, max=3.0), HTML(value='')))"
      ]
     },
     "metadata": {},
     "output_type": "display_data"
    },
    {
     "name": "stdout",
     "output_type": "stream",
     "text": [
      "\n",
      "cell ID =  30 progress bar below: (n/N frames):\n"
     ]
    },
    {
     "data": {
      "application/vnd.jupyter.widget-view+json": {
       "model_id": "b1305ff441aa40c9aa70bfa86e97aff3",
       "version_major": 2,
       "version_minor": 0
      },
      "text/plain": [
       "HBox(children=(FloatProgress(value=0.0, max=9.0), HTML(value='')))"
      ]
     },
     "metadata": {},
     "output_type": "display_data"
    },
    {
     "name": "stdout",
     "output_type": "stream",
     "text": [
      "\n",
      "cell ID =  31 progress bar below: (n/N frames):\n"
     ]
    },
    {
     "data": {
      "application/vnd.jupyter.widget-view+json": {
       "model_id": "1c4d44d7aa1947c7a771b19256489715",
       "version_major": 2,
       "version_minor": 0
      },
      "text/plain": [
       "HBox(children=(FloatProgress(value=0.0, max=14.0), HTML(value='')))"
      ]
     },
     "metadata": {},
     "output_type": "display_data"
    },
    {
     "name": "stdout",
     "output_type": "stream",
     "text": [
      "\n",
      "cell ID =  32 progress bar below: (n/N frames):\n"
     ]
    },
    {
     "data": {
      "application/vnd.jupyter.widget-view+json": {
       "model_id": "ecec9463b2344286bc875f8b73b01019",
       "version_major": 2,
       "version_minor": 0
      },
      "text/plain": [
       "HBox(children=(FloatProgress(value=0.0, max=2.0), HTML(value='')))"
      ]
     },
     "metadata": {},
     "output_type": "display_data"
    },
    {
     "name": "stdout",
     "output_type": "stream",
     "text": [
      "\n",
      "cell ID =  33 progress bar below: (n/N frames):\n"
     ]
    },
    {
     "data": {
      "application/vnd.jupyter.widget-view+json": {
       "model_id": "5ddc7a1704f9495f99bfa998407e8ebd",
       "version_major": 2,
       "version_minor": 0
      },
      "text/plain": [
       "HBox(children=(FloatProgress(value=0.0, max=24.0), HTML(value='')))"
      ]
     },
     "metadata": {},
     "output_type": "display_data"
    },
    {
     "name": "stdout",
     "output_type": "stream",
     "text": [
      "\n",
      "cell ID =  34 progress bar below: (n/N frames):\n"
     ]
    },
    {
     "data": {
      "application/vnd.jupyter.widget-view+json": {
       "model_id": "a8ec5fcd49664bf58418c6ddfaa5cefe",
       "version_major": 2,
       "version_minor": 0
      },
      "text/plain": [
       "HBox(children=(FloatProgress(value=0.0, max=58.0), HTML(value='')))"
      ]
     },
     "metadata": {},
     "output_type": "display_data"
    },
    {
     "name": "stdout",
     "output_type": "stream",
     "text": [
      "\n",
      "cell ID =  35 progress bar below: (n/N frames):\n"
     ]
    },
    {
     "data": {
      "application/vnd.jupyter.widget-view+json": {
       "model_id": "72f897c3046c47899ac90542439ba536",
       "version_major": 2,
       "version_minor": 0
      },
      "text/plain": [
       "HBox(children=(FloatProgress(value=0.0, max=21.0), HTML(value='')))"
      ]
     },
     "metadata": {},
     "output_type": "display_data"
    },
    {
     "name": "stdout",
     "output_type": "stream",
     "text": [
      "\n",
      "cell ID =  36 progress bar below: (n/N frames):\n"
     ]
    },
    {
     "data": {
      "application/vnd.jupyter.widget-view+json": {
       "model_id": "0a9484bfea804e458433653724564ed7",
       "version_major": 2,
       "version_minor": 0
      },
      "text/plain": [
       "HBox(children=(FloatProgress(value=0.0, max=17.0), HTML(value='')))"
      ]
     },
     "metadata": {},
     "output_type": "display_data"
    },
    {
     "name": "stdout",
     "output_type": "stream",
     "text": [
      "\n",
      "cell ID =  37 progress bar below: (n/N frames):\n"
     ]
    },
    {
     "data": {
      "application/vnd.jupyter.widget-view+json": {
       "model_id": "691b4c281418473298f898412b5626cf",
       "version_major": 2,
       "version_minor": 0
      },
      "text/plain": [
       "HBox(children=(FloatProgress(value=0.0, max=81.0), HTML(value='')))"
      ]
     },
     "metadata": {},
     "output_type": "display_data"
    },
    {
     "name": "stdout",
     "output_type": "stream",
     "text": [
      "\n",
      "cell ID =  39 progress bar below: (n/N frames):\n"
     ]
    },
    {
     "data": {
      "application/vnd.jupyter.widget-view+json": {
       "model_id": "a4a1c2835c0c47ebb24de554b9ee325d",
       "version_major": 2,
       "version_minor": 0
      },
      "text/plain": [
       "HBox(children=(FloatProgress(value=0.0, max=80.0), HTML(value='')))"
      ]
     },
     "metadata": {},
     "output_type": "display_data"
    },
    {
     "name": "stdout",
     "output_type": "stream",
     "text": [
      "\n",
      "cell ID =  104 progress bar below: (n/N frames):\n"
     ]
    },
    {
     "data": {
      "application/vnd.jupyter.widget-view+json": {
       "model_id": "a24d476b69a64fd3a80adb09149e4093",
       "version_major": 2,
       "version_minor": 0
      },
      "text/plain": [
       "HBox(children=(FloatProgress(value=0.0, max=19.0), HTML(value='')))"
      ]
     },
     "metadata": {},
     "output_type": "display_data"
    },
    {
     "name": "stdout",
     "output_type": "stream",
     "text": [
      "\n",
      "cell ID =  111 progress bar below: (n/N frames):\n"
     ]
    },
    {
     "data": {
      "application/vnd.jupyter.widget-view+json": {
       "model_id": "61b0d0fc0b374f5fbfc153093354a49b",
       "version_major": 2,
       "version_minor": 0
      },
      "text/plain": [
       "HBox(children=(FloatProgress(value=0.0, max=19.0), HTML(value='')))"
      ]
     },
     "metadata": {},
     "output_type": "display_data"
    },
    {
     "name": "stdout",
     "output_type": "stream",
     "text": [
      "\n",
      "cell ID =  110 progress bar below: (n/N frames):\n"
     ]
    },
    {
     "data": {
      "application/vnd.jupyter.widget-view+json": {
       "model_id": "6feff6278f4049dc920e02a415824fc2",
       "version_major": 2,
       "version_minor": 0
      },
      "text/plain": [
       "HBox(children=(FloatProgress(value=0.0, max=12.0), HTML(value='')))"
      ]
     },
     "metadata": {},
     "output_type": "display_data"
    },
    {
     "name": "stdout",
     "output_type": "stream",
     "text": [
      "\n",
      "cell ID =  106 progress bar below: (n/N frames):\n"
     ]
    },
    {
     "data": {
      "application/vnd.jupyter.widget-view+json": {
       "model_id": "0a44112d1cb14592b553de6741a6606d",
       "version_major": 2,
       "version_minor": 0
      },
      "text/plain": [
       "HBox(children=(FloatProgress(value=0.0, max=53.0), HTML(value='')))"
      ]
     },
     "metadata": {},
     "output_type": "display_data"
    },
    {
     "name": "stdout",
     "output_type": "stream",
     "text": [
      "\n",
      "cell ID =  105 progress bar below: (n/N frames):\n"
     ]
    },
    {
     "data": {
      "application/vnd.jupyter.widget-view+json": {
       "model_id": "4b2ece6aaafb4b4ba28ed08da1581a9b",
       "version_major": 2,
       "version_minor": 0
      },
      "text/plain": [
       "HBox(children=(FloatProgress(value=0.0, max=2.0), HTML(value='')))"
      ]
     },
     "metadata": {},
     "output_type": "display_data"
    },
    {
     "name": "stdout",
     "output_type": "stream",
     "text": [
      "\n",
      "cell ID =  113 progress bar below: (n/N frames):\n"
     ]
    },
    {
     "data": {
      "application/vnd.jupyter.widget-view+json": {
       "model_id": "c201a4bc78c642e0877ed8cfcf44f5d1",
       "version_major": 2,
       "version_minor": 0
      },
      "text/plain": [
       "HBox(children=(FloatProgress(value=0.0, max=66.0), HTML(value='')))"
      ]
     },
     "metadata": {},
     "output_type": "display_data"
    },
    {
     "name": "stdout",
     "output_type": "stream",
     "text": [
      "\n",
      "cell ID =  114 progress bar below: (n/N frames):\n"
     ]
    },
    {
     "data": {
      "application/vnd.jupyter.widget-view+json": {
       "model_id": "52cd5101c144489296606c67de26ebf9",
       "version_major": 2,
       "version_minor": 0
      },
      "text/plain": [
       "HBox(children=(FloatProgress(value=0.0, max=2.0), HTML(value='')))"
      ]
     },
     "metadata": {},
     "output_type": "display_data"
    },
    {
     "name": "stdout",
     "output_type": "stream",
     "text": [
      "\n",
      "cell ID =  115 progress bar below: (n/N frames):\n"
     ]
    },
    {
     "data": {
      "application/vnd.jupyter.widget-view+json": {
       "model_id": "23222f5b888047eaa019f2235fc18bea",
       "version_major": 2,
       "version_minor": 0
      },
      "text/plain": [
       "HBox(children=(FloatProgress(value=0.0, max=340.0), HTML(value='')))"
      ]
     },
     "metadata": {},
     "output_type": "display_data"
    },
    {
     "name": "stdout",
     "output_type": "stream",
     "text": [
      "\n",
      "cell ID =  117 progress bar below: (n/N frames):\n"
     ]
    },
    {
     "data": {
      "application/vnd.jupyter.widget-view+json": {
       "model_id": "23de99fba94c4b5b83334f67047c154f",
       "version_major": 2,
       "version_minor": 0
      },
      "text/plain": [
       "HBox(children=(FloatProgress(value=0.0, max=101.0), HTML(value='')))"
      ]
     },
     "metadata": {},
     "output_type": "display_data"
    },
    {
     "name": "stdout",
     "output_type": "stream",
     "text": [
      "\n",
      "cell ID =  118 progress bar below: (n/N frames):\n"
     ]
    },
    {
     "data": {
      "application/vnd.jupyter.widget-view+json": {
       "model_id": "e9badf1ce8034070845c17b2581fafde",
       "version_major": 2,
       "version_minor": 0
      },
      "text/plain": [
       "HBox(children=(FloatProgress(value=0.0, max=71.0), HTML(value='')))"
      ]
     },
     "metadata": {},
     "output_type": "display_data"
    },
    {
     "name": "stdout",
     "output_type": "stream",
     "text": [
      "\n",
      "cell ID =  123 progress bar below: (n/N frames):\n"
     ]
    },
    {
     "data": {
      "application/vnd.jupyter.widget-view+json": {
       "model_id": "58127dbba31843cdb655634ed0dd4429",
       "version_major": 2,
       "version_minor": 0
      },
      "text/plain": [
       "HBox(children=(FloatProgress(value=0.0, max=4.0), HTML(value='')))"
      ]
     },
     "metadata": {},
     "output_type": "display_data"
    },
    {
     "name": "stdout",
     "output_type": "stream",
     "text": [
      "\n",
      "cell ID =  125 progress bar below: (n/N frames):\n"
     ]
    },
    {
     "data": {
      "application/vnd.jupyter.widget-view+json": {
       "model_id": "f06cace0e48f48f9900922420c58e50a",
       "version_major": 2,
       "version_minor": 0
      },
      "text/plain": [
       "HBox(children=(FloatProgress(value=0.0, max=4.0), HTML(value='')))"
      ]
     },
     "metadata": {},
     "output_type": "display_data"
    },
    {
     "name": "stdout",
     "output_type": "stream",
     "text": [
      "\n",
      "cell ID =  126 progress bar below: (n/N frames):\n"
     ]
    },
    {
     "data": {
      "application/vnd.jupyter.widget-view+json": {
       "model_id": "8c69a22085df43e79d3ded065c431bb4",
       "version_major": 2,
       "version_minor": 0
      },
      "text/plain": [
       "HBox(children=(FloatProgress(value=0.0, max=21.0), HTML(value='')))"
      ]
     },
     "metadata": {},
     "output_type": "display_data"
    },
    {
     "name": "stdout",
     "output_type": "stream",
     "text": [
      "\n",
      "cell ID =  132 progress bar below: (n/N frames):\n"
     ]
    },
    {
     "data": {
      "application/vnd.jupyter.widget-view+json": {
       "model_id": "ac12746bb51e41109b382c8b2b6634ae",
       "version_major": 2,
       "version_minor": 0
      },
      "text/plain": [
       "HBox(children=(FloatProgress(value=0.0, max=4.0), HTML(value='')))"
      ]
     },
     "metadata": {},
     "output_type": "display_data"
    },
    {
     "name": "stdout",
     "output_type": "stream",
     "text": [
      "\n",
      "cell ID =  131 progress bar below: (n/N frames):\n"
     ]
    },
    {
     "data": {
      "application/vnd.jupyter.widget-view+json": {
       "model_id": "a37ed1b7f7b04171a658960945fa0422",
       "version_major": 2,
       "version_minor": 0
      },
      "text/plain": [
       "HBox(children=(FloatProgress(value=0.0, max=10.0), HTML(value='')))"
      ]
     },
     "metadata": {},
     "output_type": "display_data"
    },
    {
     "name": "stdout",
     "output_type": "stream",
     "text": [
      "\n",
      "cell ID =  129 progress bar below: (n/N frames):\n"
     ]
    },
    {
     "data": {
      "application/vnd.jupyter.widget-view+json": {
       "model_id": "322ea9729e9f49c8906f7afe499f7ac9",
       "version_major": 2,
       "version_minor": 0
      },
      "text/plain": [
       "HBox(children=(FloatProgress(value=0.0, max=3.0), HTML(value='')))"
      ]
     },
     "metadata": {},
     "output_type": "display_data"
    },
    {
     "name": "stdout",
     "output_type": "stream",
     "text": [
      "\n",
      "cell ID =  128 progress bar below: (n/N frames):\n"
     ]
    },
    {
     "data": {
      "application/vnd.jupyter.widget-view+json": {
       "model_id": "2a5b6bd8688c4027bf8b63119e37f558",
       "version_major": 2,
       "version_minor": 0
      },
      "text/plain": [
       "HBox(children=(FloatProgress(value=0.0, max=5.0), HTML(value='')))"
      ]
     },
     "metadata": {},
     "output_type": "display_data"
    },
    {
     "name": "stdout",
     "output_type": "stream",
     "text": [
      "\n",
      "cell ID =  134 progress bar below: (n/N frames):\n"
     ]
    },
    {
     "data": {
      "application/vnd.jupyter.widget-view+json": {
       "model_id": "7347558b24f24b02979bd491fc4ed19f",
       "version_major": 2,
       "version_minor": 0
      },
      "text/plain": [
       "HBox(children=(FloatProgress(value=0.0, max=5.0), HTML(value='')))"
      ]
     },
     "metadata": {},
     "output_type": "display_data"
    },
    {
     "name": "stdout",
     "output_type": "stream",
     "text": [
      "\n",
      "cell ID =  135 progress bar below: (n/N frames):\n"
     ]
    },
    {
     "data": {
      "application/vnd.jupyter.widget-view+json": {
       "model_id": "e5361a4dab6f4831957bb90b656880af",
       "version_major": 2,
       "version_minor": 0
      },
      "text/plain": [
       "HBox(children=(FloatProgress(value=0.0, max=3.0), HTML(value='')))"
      ]
     },
     "metadata": {},
     "output_type": "display_data"
    },
    {
     "name": "stdout",
     "output_type": "stream",
     "text": [
      "\n",
      "cell ID =  137 progress bar below: (n/N frames):\n"
     ]
    },
    {
     "data": {
      "application/vnd.jupyter.widget-view+json": {
       "model_id": "49bc87e0aef94610bd6c48e3188f3d76",
       "version_major": 2,
       "version_minor": 0
      },
      "text/plain": [
       "HBox(children=(FloatProgress(value=0.0, max=3.0), HTML(value='')))"
      ]
     },
     "metadata": {},
     "output_type": "display_data"
    },
    {
     "name": "stdout",
     "output_type": "stream",
     "text": [
      "\n",
      "cell ID =  143 progress bar below: (n/N frames):\n"
     ]
    },
    {
     "data": {
      "application/vnd.jupyter.widget-view+json": {
       "model_id": "8b643081c25b4ff38737ac3dc1cea487",
       "version_major": 2,
       "version_minor": 0
      },
      "text/plain": [
       "HBox(children=(FloatProgress(value=0.0, max=33.0), HTML(value='')))"
      ]
     },
     "metadata": {},
     "output_type": "display_data"
    },
    {
     "name": "stdout",
     "output_type": "stream",
     "text": [
      "\n",
      "cell ID =  145 progress bar below: (n/N frames):\n"
     ]
    },
    {
     "data": {
      "application/vnd.jupyter.widget-view+json": {
       "model_id": "1eb43a562e8d4fbb8922ce42eec5ec81",
       "version_major": 2,
       "version_minor": 0
      },
      "text/plain": [
       "HBox(children=(FloatProgress(value=0.0, max=17.0), HTML(value='')))"
      ]
     },
     "metadata": {},
     "output_type": "display_data"
    },
    {
     "name": "stdout",
     "output_type": "stream",
     "text": [
      "\n",
      "cell ID =  146 progress bar below: (n/N frames):\n"
     ]
    },
    {
     "data": {
      "application/vnd.jupyter.widget-view+json": {
       "model_id": "7261e6dd729245eb8719f27f6db5997c",
       "version_major": 2,
       "version_minor": 0
      },
      "text/plain": [
       "HBox(children=(FloatProgress(value=0.0, max=243.0), HTML(value='')))"
      ]
     },
     "metadata": {},
     "output_type": "display_data"
    },
    {
     "name": "stdout",
     "output_type": "stream",
     "text": [
      "\n",
      "cell ID =  147 progress bar below: (n/N frames):\n"
     ]
    },
    {
     "data": {
      "application/vnd.jupyter.widget-view+json": {
       "model_id": "382f8009f9454771a0d1a2189c158598",
       "version_major": 2,
       "version_minor": 0
      },
      "text/plain": [
       "HBox(children=(FloatProgress(value=0.0, max=3.0), HTML(value='')))"
      ]
     },
     "metadata": {},
     "output_type": "display_data"
    },
    {
     "name": "stdout",
     "output_type": "stream",
     "text": [
      "\n",
      "cell ID =  148 progress bar below: (n/N frames):\n"
     ]
    },
    {
     "data": {
      "application/vnd.jupyter.widget-view+json": {
       "model_id": "c4a62168aa9b4db99ec4212b9d435392",
       "version_major": 2,
       "version_minor": 0
      },
      "text/plain": [
       "HBox(children=(FloatProgress(value=0.0, max=41.0), HTML(value='')))"
      ]
     },
     "metadata": {},
     "output_type": "display_data"
    },
    {
     "name": "stdout",
     "output_type": "stream",
     "text": [
      "\n",
      "cell ID =  150 progress bar below: (n/N frames):\n"
     ]
    },
    {
     "data": {
      "application/vnd.jupyter.widget-view+json": {
       "model_id": "91e08198c1f94800a5f3eedd2e192636",
       "version_major": 2,
       "version_minor": 0
      },
      "text/plain": [
       "HBox(children=(FloatProgress(value=0.0, max=180.0), HTML(value='')))"
      ]
     },
     "metadata": {},
     "output_type": "display_data"
    },
    {
     "name": "stdout",
     "output_type": "stream",
     "text": [
      "\n",
      "cell ID =  152 progress bar below: (n/N frames):\n"
     ]
    },
    {
     "data": {
      "application/vnd.jupyter.widget-view+json": {
       "model_id": "385f5757b2914195a12bfcd96e96e10f",
       "version_major": 2,
       "version_minor": 0
      },
      "text/plain": [
       "HBox(children=(FloatProgress(value=0.0, max=84.0), HTML(value='')))"
      ]
     },
     "metadata": {},
     "output_type": "display_data"
    },
    {
     "name": "stdout",
     "output_type": "stream",
     "text": [
      "\n",
      "cell ID =  155 progress bar below: (n/N frames):\n"
     ]
    },
    {
     "data": {
      "application/vnd.jupyter.widget-view+json": {
       "model_id": "97fcdc33846c49718a5663b6769f427f",
       "version_major": 2,
       "version_minor": 0
      },
      "text/plain": [
       "HBox(children=(FloatProgress(value=0.0, max=9.0), HTML(value='')))"
      ]
     },
     "metadata": {},
     "output_type": "display_data"
    },
    {
     "name": "stdout",
     "output_type": "stream",
     "text": [
      "\n",
      "cell ID =  158 progress bar below: (n/N frames):\n"
     ]
    },
    {
     "data": {
      "application/vnd.jupyter.widget-view+json": {
       "model_id": "64189e489f784ef59e9e358bd436cd34",
       "version_major": 2,
       "version_minor": 0
      },
      "text/plain": [
       "HBox(children=(FloatProgress(value=0.0, max=3.0), HTML(value='')))"
      ]
     },
     "metadata": {},
     "output_type": "display_data"
    },
    {
     "name": "stdout",
     "output_type": "stream",
     "text": [
      "\n",
      "cell ID =  160 progress bar below: (n/N frames):\n"
     ]
    },
    {
     "data": {
      "application/vnd.jupyter.widget-view+json": {
       "model_id": "5826146f89b040c4bb4f826bddbf5369",
       "version_major": 2,
       "version_minor": 0
      },
      "text/plain": [
       "HBox(children=(FloatProgress(value=0.0, max=2.0), HTML(value='')))"
      ]
     },
     "metadata": {},
     "output_type": "display_data"
    },
    {
     "name": "stdout",
     "output_type": "stream",
     "text": [
      "\n",
      "cell ID =  161 progress bar below: (n/N frames):\n"
     ]
    },
    {
     "data": {
      "application/vnd.jupyter.widget-view+json": {
       "model_id": "59416abb99e9429198cbce5e8c596f38",
       "version_major": 2,
       "version_minor": 0
      },
      "text/plain": [
       "HBox(children=(FloatProgress(value=0.0, max=581.0), HTML(value='')))"
      ]
     },
     "metadata": {},
     "output_type": "display_data"
    },
    {
     "name": "stdout",
     "output_type": "stream",
     "text": [
      "\n",
      "cell ID =  163 progress bar below: (n/N frames):\n"
     ]
    },
    {
     "data": {
      "application/vnd.jupyter.widget-view+json": {
       "model_id": "d24c63c8401a49268adbf55951624644",
       "version_major": 2,
       "version_minor": 0
      },
      "text/plain": [
       "HBox(children=(FloatProgress(value=0.0, max=54.0), HTML(value='')))"
      ]
     },
     "metadata": {},
     "output_type": "display_data"
    },
    {
     "name": "stdout",
     "output_type": "stream",
     "text": [
      "\n",
      "cell ID =  164 progress bar below: (n/N frames):\n"
     ]
    },
    {
     "data": {
      "application/vnd.jupyter.widget-view+json": {
       "model_id": "22e61ed40d05487a8d517a792933c51b",
       "version_major": 2,
       "version_minor": 0
      },
      "text/plain": [
       "HBox(children=(FloatProgress(value=0.0, max=762.0), HTML(value='')))"
      ]
     },
     "metadata": {},
     "output_type": "display_data"
    },
    {
     "name": "stdout",
     "output_type": "stream",
     "text": [
      "\n",
      "cell ID =  166 progress bar below: (n/N frames):\n"
     ]
    },
    {
     "data": {
      "application/vnd.jupyter.widget-view+json": {
       "model_id": "985769119c694637bb38349bb49d63b6",
       "version_major": 2,
       "version_minor": 0
      },
      "text/plain": [
       "HBox(children=(FloatProgress(value=0.0, max=3.0), HTML(value='')))"
      ]
     },
     "metadata": {},
     "output_type": "display_data"
    },
    {
     "name": "stdout",
     "output_type": "stream",
     "text": [
      "\n",
      "cell ID =  167 progress bar below: (n/N frames):\n"
     ]
    },
    {
     "data": {
      "application/vnd.jupyter.widget-view+json": {
       "model_id": "4435ac570ec44c929ca2d61c60f2cc54",
       "version_major": 2,
       "version_minor": 0
      },
      "text/plain": [
       "HBox(children=(FloatProgress(value=0.0, max=495.0), HTML(value='')))"
      ]
     },
     "metadata": {},
     "output_type": "display_data"
    },
    {
     "name": "stdout",
     "output_type": "stream",
     "text": [
      "\n",
      "cell ID =  170 progress bar below: (n/N frames):\n"
     ]
    },
    {
     "data": {
      "application/vnd.jupyter.widget-view+json": {
       "model_id": "6df515c8344d4a268288a90d425d0648",
       "version_major": 2,
       "version_minor": 0
      },
      "text/plain": [
       "HBox(children=(FloatProgress(value=0.0, max=43.0), HTML(value='')))"
      ]
     },
     "metadata": {},
     "output_type": "display_data"
    },
    {
     "name": "stdout",
     "output_type": "stream",
     "text": [
      "\n",
      "cell ID =  172 progress bar below: (n/N frames):\n"
     ]
    },
    {
     "data": {
      "application/vnd.jupyter.widget-view+json": {
       "model_id": "49458563eadf42b89d956daf23964e97",
       "version_major": 2,
       "version_minor": 0
      },
      "text/plain": [
       "HBox(children=(FloatProgress(value=0.0, max=682.0), HTML(value='')))"
      ]
     },
     "metadata": {},
     "output_type": "display_data"
    },
    {
     "name": "stdout",
     "output_type": "stream",
     "text": [
      "\n",
      "cell ID =  173 progress bar below: (n/N frames):\n"
     ]
    },
    {
     "data": {
      "application/vnd.jupyter.widget-view+json": {
       "model_id": "9bf0022c2ff7400990ebec8b99b4d582",
       "version_major": 2,
       "version_minor": 0
      },
      "text/plain": [
       "HBox(children=(FloatProgress(value=0.0, max=573.0), HTML(value='')))"
      ]
     },
     "metadata": {},
     "output_type": "display_data"
    },
    {
     "name": "stdout",
     "output_type": "stream",
     "text": [
      "\n",
      "cell ID =  174 progress bar below: (n/N frames):\n"
     ]
    },
    {
     "data": {
      "application/vnd.jupyter.widget-view+json": {
       "model_id": "e61e45e719ad4f32bcda9a442f1c97c6",
       "version_major": 2,
       "version_minor": 0
      },
      "text/plain": [
       "HBox(children=(FloatProgress(value=0.0, max=4.0), HTML(value='')))"
      ]
     },
     "metadata": {},
     "output_type": "display_data"
    },
    {
     "name": "stdout",
     "output_type": "stream",
     "text": [
      "\n",
      "cell ID =  177 progress bar below: (n/N frames):\n"
     ]
    },
    {
     "data": {
      "application/vnd.jupyter.widget-view+json": {
       "model_id": "8a45a4ba5cae400bb74b96b4a568c6b4",
       "version_major": 2,
       "version_minor": 0
      },
      "text/plain": [
       "HBox(children=(FloatProgress(value=0.0, max=17.0), HTML(value='')))"
      ]
     },
     "metadata": {},
     "output_type": "display_data"
    },
    {
     "name": "stdout",
     "output_type": "stream",
     "text": [
      "\n",
      "cell ID =  178 progress bar below: (n/N frames):\n"
     ]
    },
    {
     "data": {
      "application/vnd.jupyter.widget-view+json": {
       "model_id": "725bfb50e70e4cf7b0e510108d002afb",
       "version_major": 2,
       "version_minor": 0
      },
      "text/plain": [
       "HBox(children=(FloatProgress(value=0.0, max=127.0), HTML(value='')))"
      ]
     },
     "metadata": {},
     "output_type": "display_data"
    },
    {
     "name": "stdout",
     "output_type": "stream",
     "text": [
      "\n",
      "cell ID =  180 progress bar below: (n/N frames):\n"
     ]
    },
    {
     "data": {
      "application/vnd.jupyter.widget-view+json": {
       "model_id": "70fd4516255344c8a0742942c24420a5",
       "version_major": 2,
       "version_minor": 0
      },
      "text/plain": [
       "HBox(children=(FloatProgress(value=0.0, max=331.0), HTML(value='')))"
      ]
     },
     "metadata": {},
     "output_type": "display_data"
    },
    {
     "name": "stdout",
     "output_type": "stream",
     "text": [
      "\n",
      "cell ID =  181 progress bar below: (n/N frames):\n"
     ]
    },
    {
     "data": {
      "application/vnd.jupyter.widget-view+json": {
       "model_id": "563860377ed549d18cca0cce2b65ab71",
       "version_major": 2,
       "version_minor": 0
      },
      "text/plain": [
       "HBox(children=(FloatProgress(value=0.0, max=11.0), HTML(value='')))"
      ]
     },
     "metadata": {},
     "output_type": "display_data"
    },
    {
     "name": "stdout",
     "output_type": "stream",
     "text": [
      "\n",
      "cell ID =  182 progress bar below: (n/N frames):\n"
     ]
    },
    {
     "data": {
      "application/vnd.jupyter.widget-view+json": {
       "model_id": "84923b0f6aff4806b85dcd2d89ab9567",
       "version_major": 2,
       "version_minor": 0
      },
      "text/plain": [
       "HBox(children=(FloatProgress(value=0.0, max=1062.0), HTML(value='')))"
      ]
     },
     "metadata": {},
     "output_type": "display_data"
    },
    {
     "name": "stdout",
     "output_type": "stream",
     "text": [
      "\n",
      "cell ID =  186 progress bar below: (n/N frames):\n"
     ]
    },
    {
     "data": {
      "application/vnd.jupyter.widget-view+json": {
       "model_id": "7bb78c8435de441abb0af614289dab7f",
       "version_major": 2,
       "version_minor": 0
      },
      "text/plain": [
       "HBox(children=(FloatProgress(value=0.0, max=28.0), HTML(value='')))"
      ]
     },
     "metadata": {},
     "output_type": "display_data"
    },
    {
     "name": "stdout",
     "output_type": "stream",
     "text": [
      "\n",
      "cell ID =  185 progress bar below: (n/N frames):\n"
     ]
    },
    {
     "data": {
      "application/vnd.jupyter.widget-view+json": {
       "model_id": "f43f193b8017412f874991aaf75693c2",
       "version_major": 2,
       "version_minor": 0
      },
      "text/plain": [
       "HBox(children=(FloatProgress(value=0.0, max=64.0), HTML(value='')))"
      ]
     },
     "metadata": {},
     "output_type": "display_data"
    },
    {
     "name": "stdout",
     "output_type": "stream",
     "text": [
      "\n",
      "cell ID =  189 progress bar below: (n/N frames):\n"
     ]
    },
    {
     "data": {
      "application/vnd.jupyter.widget-view+json": {
       "model_id": "ab7cdda0ee6545139c0c5f54fdfaebf5",
       "version_major": 2,
       "version_minor": 0
      },
      "text/plain": [
       "HBox(children=(FloatProgress(value=0.0, max=612.0), HTML(value='')))"
      ]
     },
     "metadata": {},
     "output_type": "display_data"
    },
    {
     "name": "stdout",
     "output_type": "stream",
     "text": [
      "\n",
      "cell ID =  192 progress bar below: (n/N frames):\n"
     ]
    },
    {
     "data": {
      "application/vnd.jupyter.widget-view+json": {
       "model_id": "01da076edb0c4086b3cc3c56b4a816c5",
       "version_major": 2,
       "version_minor": 0
      },
      "text/plain": [
       "HBox(children=(FloatProgress(value=0.0, max=5.0), HTML(value='')))"
      ]
     },
     "metadata": {},
     "output_type": "display_data"
    },
    {
     "name": "stdout",
     "output_type": "stream",
     "text": [
      "\n",
      "cell ID =  198 progress bar below: (n/N frames):\n"
     ]
    },
    {
     "data": {
      "application/vnd.jupyter.widget-view+json": {
       "model_id": "13bbc37aef9149fa901da5031f338a4a",
       "version_major": 2,
       "version_minor": 0
      },
      "text/plain": [
       "HBox(children=(FloatProgress(value=0.0, max=115.0), HTML(value='')))"
      ]
     },
     "metadata": {},
     "output_type": "display_data"
    },
    {
     "name": "stdout",
     "output_type": "stream",
     "text": [
      "\n",
      "cell ID =  197 progress bar below: (n/N frames):\n"
     ]
    },
    {
     "data": {
      "application/vnd.jupyter.widget-view+json": {
       "model_id": "c464ae164e4849849be4a93d56b305ee",
       "version_major": 2,
       "version_minor": 0
      },
      "text/plain": [
       "HBox(children=(FloatProgress(value=0.0, max=528.0), HTML(value='')))"
      ]
     },
     "metadata": {},
     "output_type": "display_data"
    },
    {
     "name": "stdout",
     "output_type": "stream",
     "text": [
      "\n",
      "cell ID =  196 progress bar below: (n/N frames):\n"
     ]
    },
    {
     "data": {
      "application/vnd.jupyter.widget-view+json": {
       "model_id": "3cb5378456c4485fb27c439166d17633",
       "version_major": 2,
       "version_minor": 0
      },
      "text/plain": [
       "HBox(children=(FloatProgress(value=0.0, max=10.0), HTML(value='')))"
      ]
     },
     "metadata": {},
     "output_type": "display_data"
    },
    {
     "name": "stdout",
     "output_type": "stream",
     "text": [
      "\n",
      "cell ID =  199 progress bar below: (n/N frames):\n"
     ]
    },
    {
     "data": {
      "application/vnd.jupyter.widget-view+json": {
       "model_id": "67176d36ab0a44f38a0c1ba3a2fb7ada",
       "version_major": 2,
       "version_minor": 0
      },
      "text/plain": [
       "HBox(children=(FloatProgress(value=0.0, max=70.0), HTML(value='')))"
      ]
     },
     "metadata": {},
     "output_type": "display_data"
    },
    {
     "name": "stdout",
     "output_type": "stream",
     "text": [
      "\n",
      "cell ID =  201 progress bar below: (n/N frames):\n"
     ]
    },
    {
     "data": {
      "application/vnd.jupyter.widget-view+json": {
       "model_id": "118ca9b0b6774f29bdcbc2d29c53fb1c",
       "version_major": 2,
       "version_minor": 0
      },
      "text/plain": [
       "HBox(children=(FloatProgress(value=0.0, max=8.0), HTML(value='')))"
      ]
     },
     "metadata": {},
     "output_type": "display_data"
    },
    {
     "name": "stdout",
     "output_type": "stream",
     "text": [
      "\n",
      "cell ID =  203 progress bar below: (n/N frames):\n"
     ]
    },
    {
     "data": {
      "application/vnd.jupyter.widget-view+json": {
       "model_id": "b4e541d89b6349198c9bfe38d8d08c96",
       "version_major": 2,
       "version_minor": 0
      },
      "text/plain": [
       "HBox(children=(FloatProgress(value=0.0, max=5.0), HTML(value='')))"
      ]
     },
     "metadata": {},
     "output_type": "display_data"
    },
    {
     "name": "stdout",
     "output_type": "stream",
     "text": [
      "\n",
      "cell ID =  205 progress bar below: (n/N frames):\n"
     ]
    },
    {
     "data": {
      "application/vnd.jupyter.widget-view+json": {
       "model_id": "5ad0276c44ba4aa59bb076fdac837510",
       "version_major": 2,
       "version_minor": 0
      },
      "text/plain": [
       "HBox(children=(FloatProgress(value=0.0, max=22.0), HTML(value='')))"
      ]
     },
     "metadata": {},
     "output_type": "display_data"
    },
    {
     "name": "stdout",
     "output_type": "stream",
     "text": [
      "\n",
      "cell ID =  208 progress bar below: (n/N frames):\n"
     ]
    },
    {
     "data": {
      "application/vnd.jupyter.widget-view+json": {
       "model_id": "58d76a4eb172469c86638cf655d6a1b4",
       "version_major": 2,
       "version_minor": 0
      },
      "text/plain": [
       "HBox(children=(FloatProgress(value=0.0, max=7.0), HTML(value='')))"
      ]
     },
     "metadata": {},
     "output_type": "display_data"
    },
    {
     "name": "stdout",
     "output_type": "stream",
     "text": [
      "\n",
      "cell ID =  211 progress bar below: (n/N frames):\n"
     ]
    },
    {
     "data": {
      "application/vnd.jupyter.widget-view+json": {
       "model_id": "d5b5f21e67234504a1ebe401d314a593",
       "version_major": 2,
       "version_minor": 0
      },
      "text/plain": [
       "HBox(children=(FloatProgress(value=0.0, max=3.0), HTML(value='')))"
      ]
     },
     "metadata": {},
     "output_type": "display_data"
    },
    {
     "name": "stdout",
     "output_type": "stream",
     "text": [
      "\n",
      "cell ID =  213 progress bar below: (n/N frames):\n"
     ]
    },
    {
     "data": {
      "application/vnd.jupyter.widget-view+json": {
       "model_id": "fec6caf340e6461c83ea7dd50fe369ce",
       "version_major": 2,
       "version_minor": 0
      },
      "text/plain": [
       "HBox(children=(FloatProgress(value=0.0, max=6.0), HTML(value='')))"
      ]
     },
     "metadata": {},
     "output_type": "display_data"
    },
    {
     "name": "stdout",
     "output_type": "stream",
     "text": [
      "\n",
      "cell ID =  214 progress bar below: (n/N frames):\n"
     ]
    },
    {
     "data": {
      "application/vnd.jupyter.widget-view+json": {
       "model_id": "95a546cb7be544778a903dc4d8456ca6",
       "version_major": 2,
       "version_minor": 0
      },
      "text/plain": [
       "HBox(children=(FloatProgress(value=0.0, max=5.0), HTML(value='')))"
      ]
     },
     "metadata": {},
     "output_type": "display_data"
    },
    {
     "name": "stdout",
     "output_type": "stream",
     "text": [
      "\n",
      "cell ID =  216 progress bar below: (n/N frames):\n"
     ]
    },
    {
     "data": {
      "application/vnd.jupyter.widget-view+json": {
       "model_id": "0cbc2b4bc58d4bbb883d3bf39da19797",
       "version_major": 2,
       "version_minor": 0
      },
      "text/plain": [
       "HBox(children=(FloatProgress(value=0.0, max=8.0), HTML(value='')))"
      ]
     },
     "metadata": {},
     "output_type": "display_data"
    },
    {
     "name": "stdout",
     "output_type": "stream",
     "text": [
      "\n",
      "cell ID =  218 progress bar below: (n/N frames):\n"
     ]
    },
    {
     "data": {
      "application/vnd.jupyter.widget-view+json": {
       "model_id": "abcb78d82e364f9a9540ee494c39899a",
       "version_major": 2,
       "version_minor": 0
      },
      "text/plain": [
       "HBox(children=(FloatProgress(value=0.0, max=53.0), HTML(value='')))"
      ]
     },
     "metadata": {},
     "output_type": "display_data"
    },
    {
     "name": "stdout",
     "output_type": "stream",
     "text": [
      "\n",
      "cell ID =  221 progress bar below: (n/N frames):\n"
     ]
    },
    {
     "data": {
      "application/vnd.jupyter.widget-view+json": {
       "model_id": "fd778462388048d19ae84b3ecae977c3",
       "version_major": 2,
       "version_minor": 0
      },
      "text/plain": [
       "HBox(children=(FloatProgress(value=0.0, max=246.0), HTML(value='')))"
      ]
     },
     "metadata": {},
     "output_type": "display_data"
    },
    {
     "name": "stdout",
     "output_type": "stream",
     "text": [
      "\n",
      "cell ID =  222 progress bar below: (n/N frames):\n"
     ]
    },
    {
     "data": {
      "application/vnd.jupyter.widget-view+json": {
       "model_id": "b146ab9a36ad46f786001be0bd5dad18",
       "version_major": 2,
       "version_minor": 0
      },
      "text/plain": [
       "HBox(children=(FloatProgress(value=0.0, max=6.0), HTML(value='')))"
      ]
     },
     "metadata": {},
     "output_type": "display_data"
    },
    {
     "name": "stdout",
     "output_type": "stream",
     "text": [
      "\n",
      "cell ID =  223 progress bar below: (n/N frames):\n"
     ]
    },
    {
     "data": {
      "application/vnd.jupyter.widget-view+json": {
       "model_id": "9f84be1cc62b4203a92fc491de590042",
       "version_major": 2,
       "version_minor": 0
      },
      "text/plain": [
       "HBox(children=(FloatProgress(value=0.0, max=2.0), HTML(value='')))"
      ]
     },
     "metadata": {},
     "output_type": "display_data"
    },
    {
     "name": "stdout",
     "output_type": "stream",
     "text": [
      "\n",
      "cell ID =  227 progress bar below: (n/N frames):\n"
     ]
    },
    {
     "data": {
      "application/vnd.jupyter.widget-view+json": {
       "model_id": "ebc3eaef879a4260985d0f470ebefc72",
       "version_major": 2,
       "version_minor": 0
      },
      "text/plain": [
       "HBox(children=(FloatProgress(value=0.0, max=54.0), HTML(value='')))"
      ]
     },
     "metadata": {},
     "output_type": "display_data"
    },
    {
     "name": "stdout",
     "output_type": "stream",
     "text": [
      "\n",
      "cell ID =  225 progress bar below: (n/N frames):\n"
     ]
    },
    {
     "data": {
      "application/vnd.jupyter.widget-view+json": {
       "model_id": "6bb28fe5f9684f4a9cb4be6ecce2f290",
       "version_major": 2,
       "version_minor": 0
      },
      "text/plain": [
       "HBox(children=(FloatProgress(value=0.0, max=14.0), HTML(value='')))"
      ]
     },
     "metadata": {},
     "output_type": "display_data"
    },
    {
     "name": "stdout",
     "output_type": "stream",
     "text": [
      "\n",
      "cell ID =  226 progress bar below: (n/N frames):\n"
     ]
    },
    {
     "data": {
      "application/vnd.jupyter.widget-view+json": {
       "model_id": "1d2dd23bd3e04675a74c42ed259acb3b",
       "version_major": 2,
       "version_minor": 0
      },
      "text/plain": [
       "HBox(children=(FloatProgress(value=0.0, max=10.0), HTML(value='')))"
      ]
     },
     "metadata": {},
     "output_type": "display_data"
    },
    {
     "name": "stdout",
     "output_type": "stream",
     "text": [
      "\n",
      "cell ID =  224 progress bar below: (n/N frames):\n"
     ]
    },
    {
     "data": {
      "application/vnd.jupyter.widget-view+json": {
       "model_id": "09f85335385546ac804384750622d1c8",
       "version_major": 2,
       "version_minor": 0
      },
      "text/plain": [
       "HBox(children=(FloatProgress(value=0.0, max=12.0), HTML(value='')))"
      ]
     },
     "metadata": {},
     "output_type": "display_data"
    },
    {
     "name": "stdout",
     "output_type": "stream",
     "text": [
      "\n",
      "cell ID =  229 progress bar below: (n/N frames):\n"
     ]
    },
    {
     "data": {
      "application/vnd.jupyter.widget-view+json": {
       "model_id": "b7ade0b7636541eea5d709552a3c248a",
       "version_major": 2,
       "version_minor": 0
      },
      "text/plain": [
       "HBox(children=(FloatProgress(value=0.0, max=495.0), HTML(value='')))"
      ]
     },
     "metadata": {},
     "output_type": "display_data"
    },
    {
     "name": "stdout",
     "output_type": "stream",
     "text": [
      "\n",
      "cell ID =  230 progress bar below: (n/N frames):\n"
     ]
    },
    {
     "data": {
      "application/vnd.jupyter.widget-view+json": {
       "model_id": "df2f73450f394e718c025363df2c1fa6",
       "version_major": 2,
       "version_minor": 0
      },
      "text/plain": [
       "HBox(children=(FloatProgress(value=0.0, max=72.0), HTML(value='')))"
      ]
     },
     "metadata": {},
     "output_type": "display_data"
    },
    {
     "name": "stdout",
     "output_type": "stream",
     "text": [
      "\n",
      "cell ID =  234 progress bar below: (n/N frames):\n"
     ]
    },
    {
     "data": {
      "application/vnd.jupyter.widget-view+json": {
       "model_id": "003643df8b524d3a840399fcd7594173",
       "version_major": 2,
       "version_minor": 0
      },
      "text/plain": [
       "HBox(children=(FloatProgress(value=0.0, max=498.0), HTML(value='')))"
      ]
     },
     "metadata": {},
     "output_type": "display_data"
    },
    {
     "name": "stdout",
     "output_type": "stream",
     "text": [
      "\n",
      "cell ID =  235 progress bar below: (n/N frames):\n"
     ]
    },
    {
     "data": {
      "application/vnd.jupyter.widget-view+json": {
       "model_id": "51da38144aaa48ec9304ec9f97c5852f",
       "version_major": 2,
       "version_minor": 0
      },
      "text/plain": [
       "HBox(children=(FloatProgress(value=0.0, max=20.0), HTML(value='')))"
      ]
     },
     "metadata": {},
     "output_type": "display_data"
    },
    {
     "name": "stdout",
     "output_type": "stream",
     "text": [
      "\n",
      "cell ID =  236 progress bar below: (n/N frames):\n"
     ]
    },
    {
     "data": {
      "application/vnd.jupyter.widget-view+json": {
       "model_id": "7f36b1d74c014473a66c32d176bb6c80",
       "version_major": 2,
       "version_minor": 0
      },
      "text/plain": [
       "HBox(children=(FloatProgress(value=0.0, max=84.0), HTML(value='')))"
      ]
     },
     "metadata": {},
     "output_type": "display_data"
    },
    {
     "name": "stdout",
     "output_type": "stream",
     "text": [
      "\n",
      "cell ID =  237 progress bar below: (n/N frames):\n"
     ]
    },
    {
     "data": {
      "application/vnd.jupyter.widget-view+json": {
       "model_id": "d726879c7acb4144add8fdb8327fb6fe",
       "version_major": 2,
       "version_minor": 0
      },
      "text/plain": [
       "HBox(children=(FloatProgress(value=0.0, max=2.0), HTML(value='')))"
      ]
     },
     "metadata": {},
     "output_type": "display_data"
    },
    {
     "name": "stdout",
     "output_type": "stream",
     "text": [
      "\n",
      "cell ID =  238 progress bar below: (n/N frames):\n"
     ]
    },
    {
     "data": {
      "application/vnd.jupyter.widget-view+json": {
       "model_id": "caf2d4b195b646a7be4c8c0c5c58f5cb",
       "version_major": 2,
       "version_minor": 0
      },
      "text/plain": [
       "HBox(children=(FloatProgress(value=0.0, max=36.0), HTML(value='')))"
      ]
     },
     "metadata": {},
     "output_type": "display_data"
    },
    {
     "name": "stdout",
     "output_type": "stream",
     "text": [
      "\n",
      "cell ID =  239 progress bar below: (n/N frames):\n"
     ]
    },
    {
     "data": {
      "application/vnd.jupyter.widget-view+json": {
       "model_id": "4d973aac668a4af8a33e8271c6182b70",
       "version_major": 2,
       "version_minor": 0
      },
      "text/plain": [
       "HBox(children=(FloatProgress(value=0.0, max=1030.0), HTML(value='')))"
      ]
     },
     "metadata": {},
     "output_type": "display_data"
    },
    {
     "name": "stdout",
     "output_type": "stream",
     "text": [
      "\n",
      "cell ID =  241 progress bar below: (n/N frames):\n"
     ]
    },
    {
     "data": {
      "application/vnd.jupyter.widget-view+json": {
       "model_id": "71214113cb0a44c2ba21464c25bbb971",
       "version_major": 2,
       "version_minor": 0
      },
      "text/plain": [
       "HBox(children=(FloatProgress(value=0.0, max=399.0), HTML(value='')))"
      ]
     },
     "metadata": {},
     "output_type": "display_data"
    },
    {
     "name": "stdout",
     "output_type": "stream",
     "text": [
      "\n",
      "cell ID =  242 progress bar below: (n/N frames):\n"
     ]
    },
    {
     "data": {
      "application/vnd.jupyter.widget-view+json": {
       "model_id": "4635ecd35b944631895f6c8d7a718b31",
       "version_major": 2,
       "version_minor": 0
      },
      "text/plain": [
       "HBox(children=(FloatProgress(value=0.0, max=2.0), HTML(value='')))"
      ]
     },
     "metadata": {},
     "output_type": "display_data"
    },
    {
     "name": "stdout",
     "output_type": "stream",
     "text": [
      "\n",
      "cell ID =  240 progress bar below: (n/N frames):\n"
     ]
    },
    {
     "data": {
      "application/vnd.jupyter.widget-view+json": {
       "model_id": "d713abe06cff4b74b10889f35580cb7c",
       "version_major": 2,
       "version_minor": 0
      },
      "text/plain": [
       "HBox(children=(FloatProgress(value=0.0, max=11.0), HTML(value='')))"
      ]
     },
     "metadata": {},
     "output_type": "display_data"
    },
    {
     "name": "stdout",
     "output_type": "stream",
     "text": [
      "\n",
      "cell ID =  244 progress bar below: (n/N frames):\n"
     ]
    },
    {
     "data": {
      "application/vnd.jupyter.widget-view+json": {
       "model_id": "d41c5bfb2a854645bc16d7e5a50f601c",
       "version_major": 2,
       "version_minor": 0
      },
      "text/plain": [
       "HBox(children=(FloatProgress(value=0.0, max=294.0), HTML(value='')))"
      ]
     },
     "metadata": {},
     "output_type": "display_data"
    },
    {
     "name": "stdout",
     "output_type": "stream",
     "text": [
      "\n",
      "cell ID =  245 progress bar below: (n/N frames):\n"
     ]
    },
    {
     "data": {
      "application/vnd.jupyter.widget-view+json": {
       "model_id": "25c104e3ddbc44bf82226c848a44aaba",
       "version_major": 2,
       "version_minor": 0
      },
      "text/plain": [
       "HBox(children=(FloatProgress(value=0.0, max=452.0), HTML(value='')))"
      ]
     },
     "metadata": {},
     "output_type": "display_data"
    },
    {
     "name": "stdout",
     "output_type": "stream",
     "text": [
      "\n",
      "cell ID =  246 progress bar below: (n/N frames):\n"
     ]
    },
    {
     "data": {
      "application/vnd.jupyter.widget-view+json": {
       "model_id": "fde48d721c3f484a9ea7d89be5fde3c5",
       "version_major": 2,
       "version_minor": 0
      },
      "text/plain": [
       "HBox(children=(FloatProgress(value=0.0, max=3.0), HTML(value='')))"
      ]
     },
     "metadata": {},
     "output_type": "display_data"
    },
    {
     "name": "stdout",
     "output_type": "stream",
     "text": [
      "\n",
      "cell ID =  247 progress bar below: (n/N frames):\n"
     ]
    },
    {
     "data": {
      "application/vnd.jupyter.widget-view+json": {
       "model_id": "79cd0244f94249b4ba733637ddb89568",
       "version_major": 2,
       "version_minor": 0
      },
      "text/plain": [
       "HBox(children=(FloatProgress(value=0.0, max=386.0), HTML(value='')))"
      ]
     },
     "metadata": {},
     "output_type": "display_data"
    },
    {
     "name": "stdout",
     "output_type": "stream",
     "text": [
      "\n",
      "cell ID =  248 progress bar below: (n/N frames):\n"
     ]
    },
    {
     "data": {
      "application/vnd.jupyter.widget-view+json": {
       "model_id": "a53dc749cd9c411284a2bd7245e62a6f",
       "version_major": 2,
       "version_minor": 0
      },
      "text/plain": [
       "HBox(children=(FloatProgress(value=0.0, max=3.0), HTML(value='')))"
      ]
     },
     "metadata": {},
     "output_type": "display_data"
    },
    {
     "name": "stdout",
     "output_type": "stream",
     "text": [
      "\n",
      "cell ID =  249 progress bar below: (n/N frames):\n"
     ]
    },
    {
     "data": {
      "application/vnd.jupyter.widget-view+json": {
       "model_id": "75cf2e89ed614cfe895aaee377bca7bb",
       "version_major": 2,
       "version_minor": 0
      },
      "text/plain": [
       "HBox(children=(FloatProgress(value=0.0, max=140.0), HTML(value='')))"
      ]
     },
     "metadata": {},
     "output_type": "display_data"
    },
    {
     "name": "stdout",
     "output_type": "stream",
     "text": [
      "\n",
      "cell ID =  250 progress bar below: (n/N frames):\n"
     ]
    },
    {
     "data": {
      "application/vnd.jupyter.widget-view+json": {
       "model_id": "ca5130f54d2942c48e28ba3d397a3541",
       "version_major": 2,
       "version_minor": 0
      },
      "text/plain": [
       "HBox(children=(FloatProgress(value=0.0, max=9.0), HTML(value='')))"
      ]
     },
     "metadata": {},
     "output_type": "display_data"
    },
    {
     "name": "stdout",
     "output_type": "stream",
     "text": [
      "\n",
      "cell ID =  254 progress bar below: (n/N frames):\n"
     ]
    },
    {
     "data": {
      "application/vnd.jupyter.widget-view+json": {
       "model_id": "344a6fc0b8d6407b8e54f17d27d3816d",
       "version_major": 2,
       "version_minor": 0
      },
      "text/plain": [
       "HBox(children=(FloatProgress(value=0.0, max=147.0), HTML(value='')))"
      ]
     },
     "metadata": {},
     "output_type": "display_data"
    },
    {
     "name": "stdout",
     "output_type": "stream",
     "text": [
      "\n",
      "cell ID =  253 progress bar below: (n/N frames):\n"
     ]
    },
    {
     "data": {
      "application/vnd.jupyter.widget-view+json": {
       "model_id": "43174b92d51c45979ecc53c1fc3ab17d",
       "version_major": 2,
       "version_minor": 0
      },
      "text/plain": [
       "HBox(children=(FloatProgress(value=0.0, max=2.0), HTML(value='')))"
      ]
     },
     "metadata": {},
     "output_type": "display_data"
    },
    {
     "name": "stdout",
     "output_type": "stream",
     "text": [
      "\n",
      "cell ID =  251 progress bar below: (n/N frames):\n"
     ]
    },
    {
     "data": {
      "application/vnd.jupyter.widget-view+json": {
       "model_id": "13f67d4016f246889b8935d8b1bd15a0",
       "version_major": 2,
       "version_minor": 0
      },
      "text/plain": [
       "HBox(children=(FloatProgress(value=0.0, max=2.0), HTML(value='')))"
      ]
     },
     "metadata": {},
     "output_type": "display_data"
    },
    {
     "name": "stdout",
     "output_type": "stream",
     "text": [
      "\n",
      "cell ID =  255 progress bar below: (n/N frames):\n"
     ]
    },
    {
     "data": {
      "application/vnd.jupyter.widget-view+json": {
       "model_id": "f4465efb6a314b73b67bbc81974108ca",
       "version_major": 2,
       "version_minor": 0
      },
      "text/plain": [
       "HBox(children=(FloatProgress(value=0.0, max=21.0), HTML(value='')))"
      ]
     },
     "metadata": {},
     "output_type": "display_data"
    },
    {
     "name": "stdout",
     "output_type": "stream",
     "text": [
      "\n",
      "cell ID =  257 progress bar below: (n/N frames):\n"
     ]
    },
    {
     "data": {
      "application/vnd.jupyter.widget-view+json": {
       "model_id": "ac6de37addba4afb95a97e134cc09c20",
       "version_major": 2,
       "version_minor": 0
      },
      "text/plain": [
       "HBox(children=(FloatProgress(value=0.0, max=528.0), HTML(value='')))"
      ]
     },
     "metadata": {},
     "output_type": "display_data"
    },
    {
     "name": "stdout",
     "output_type": "stream",
     "text": [
      "\n",
      "cell ID =  259 progress bar below: (n/N frames):\n"
     ]
    },
    {
     "data": {
      "application/vnd.jupyter.widget-view+json": {
       "model_id": "5beb5457d9c347c18e07df107f16f228",
       "version_major": 2,
       "version_minor": 0
      },
      "text/plain": [
       "HBox(children=(FloatProgress(value=0.0, max=2.0), HTML(value='')))"
      ]
     },
     "metadata": {},
     "output_type": "display_data"
    },
    {
     "name": "stdout",
     "output_type": "stream",
     "text": [
      "\n",
      "cell ID =  260 progress bar below: (n/N frames):\n"
     ]
    },
    {
     "data": {
      "application/vnd.jupyter.widget-view+json": {
       "model_id": "6e1361fadda74c1f85362a87b8d72e72",
       "version_major": 2,
       "version_minor": 0
      },
      "text/plain": [
       "HBox(children=(FloatProgress(value=0.0, max=714.0), HTML(value='')))"
      ]
     },
     "metadata": {},
     "output_type": "display_data"
    },
    {
     "name": "stdout",
     "output_type": "stream",
     "text": [
      "\n",
      "cell ID =  263 progress bar below: (n/N frames):\n"
     ]
    },
    {
     "data": {
      "application/vnd.jupyter.widget-view+json": {
       "model_id": "eeae23b047bc40899c77cc06282ebd97",
       "version_major": 2,
       "version_minor": 0
      },
      "text/plain": [
       "HBox(children=(FloatProgress(value=0.0, max=6.0), HTML(value='')))"
      ]
     },
     "metadata": {},
     "output_type": "display_data"
    },
    {
     "name": "stdout",
     "output_type": "stream",
     "text": [
      "\n",
      "cell ID =  264 progress bar below: (n/N frames):\n"
     ]
    },
    {
     "data": {
      "application/vnd.jupyter.widget-view+json": {
       "model_id": "08d1949367524ca7b4558650fc5eb153",
       "version_major": 2,
       "version_minor": 0
      },
      "text/plain": [
       "HBox(children=(FloatProgress(value=0.0, max=3.0), HTML(value='')))"
      ]
     },
     "metadata": {},
     "output_type": "display_data"
    },
    {
     "name": "stdout",
     "output_type": "stream",
     "text": [
      "\n",
      "cell ID =  266 progress bar below: (n/N frames):\n"
     ]
    },
    {
     "data": {
      "application/vnd.jupyter.widget-view+json": {
       "model_id": "d0605860b0e04ab68acfeabf18760e7b",
       "version_major": 2,
       "version_minor": 0
      },
      "text/plain": [
       "HBox(children=(FloatProgress(value=0.0, max=149.0), HTML(value='')))"
      ]
     },
     "metadata": {},
     "output_type": "display_data"
    },
    {
     "name": "stdout",
     "output_type": "stream",
     "text": [
      "\n",
      "cell ID =  270 progress bar below: (n/N frames):\n"
     ]
    },
    {
     "data": {
      "application/vnd.jupyter.widget-view+json": {
       "model_id": "06dfd21ddfc245f0a08eda81286d4d2a",
       "version_major": 2,
       "version_minor": 0
      },
      "text/plain": [
       "HBox(children=(FloatProgress(value=0.0, max=66.0), HTML(value='')))"
      ]
     },
     "metadata": {},
     "output_type": "display_data"
    },
    {
     "name": "stdout",
     "output_type": "stream",
     "text": [
      "\n",
      "cell ID =  274 progress bar below: (n/N frames):\n"
     ]
    },
    {
     "data": {
      "application/vnd.jupyter.widget-view+json": {
       "model_id": "07fd9fe3a22b45089bd5e9f680635b6c",
       "version_major": 2,
       "version_minor": 0
      },
      "text/plain": [
       "HBox(children=(FloatProgress(value=0.0, max=15.0), HTML(value='')))"
      ]
     },
     "metadata": {},
     "output_type": "display_data"
    },
    {
     "name": "stdout",
     "output_type": "stream",
     "text": [
      "\n",
      "cell ID =  273 progress bar below: (n/N frames):\n"
     ]
    },
    {
     "data": {
      "application/vnd.jupyter.widget-view+json": {
       "model_id": "480ff510d3b8443a813ec1e2f7e8392d",
       "version_major": 2,
       "version_minor": 0
      },
      "text/plain": [
       "HBox(children=(FloatProgress(value=0.0, max=355.0), HTML(value='')))"
      ]
     },
     "metadata": {},
     "output_type": "display_data"
    },
    {
     "name": "stdout",
     "output_type": "stream",
     "text": [
      "\n",
      "cell ID =  272 progress bar below: (n/N frames):\n"
     ]
    },
    {
     "data": {
      "application/vnd.jupyter.widget-view+json": {
       "model_id": "8ddfeffb3b3848c48cf26836f465b2bb",
       "version_major": 2,
       "version_minor": 0
      },
      "text/plain": [
       "HBox(children=(FloatProgress(value=0.0, max=4.0), HTML(value='')))"
      ]
     },
     "metadata": {},
     "output_type": "display_data"
    },
    {
     "name": "stdout",
     "output_type": "stream",
     "text": [
      "\n",
      "cell ID =  269 progress bar below: (n/N frames):\n"
     ]
    },
    {
     "data": {
      "application/vnd.jupyter.widget-view+json": {
       "model_id": "9d7671c039734950884ad5f4d054e74e",
       "version_major": 2,
       "version_minor": 0
      },
      "text/plain": [
       "HBox(children=(FloatProgress(value=0.0, max=4.0), HTML(value='')))"
      ]
     },
     "metadata": {},
     "output_type": "display_data"
    },
    {
     "name": "stdout",
     "output_type": "stream",
     "text": [
      "\n",
      "cell ID =  268 progress bar below: (n/N frames):\n"
     ]
    },
    {
     "data": {
      "application/vnd.jupyter.widget-view+json": {
       "model_id": "169c6a2d47b442b1836ec4af7c676a6d",
       "version_major": 2,
       "version_minor": 0
      },
      "text/plain": [
       "HBox(children=(FloatProgress(value=0.0, max=68.0), HTML(value='')))"
      ]
     },
     "metadata": {},
     "output_type": "display_data"
    },
    {
     "name": "stdout",
     "output_type": "stream",
     "text": [
      "\n",
      "cell ID =  267 progress bar below: (n/N frames):\n"
     ]
    },
    {
     "data": {
      "application/vnd.jupyter.widget-view+json": {
       "model_id": "160be8c5ef30427ea9e76863534ac159",
       "version_major": 2,
       "version_minor": 0
      },
      "text/plain": [
       "HBox(children=(FloatProgress(value=0.0, max=556.0), HTML(value='')))"
      ]
     },
     "metadata": {},
     "output_type": "display_data"
    },
    {
     "name": "stdout",
     "output_type": "stream",
     "text": [
      "\n",
      "cell ID =  276 progress bar below: (n/N frames):\n"
     ]
    },
    {
     "data": {
      "application/vnd.jupyter.widget-view+json": {
       "model_id": "4f03dd0931f34059ac6123f43745f6f0",
       "version_major": 2,
       "version_minor": 0
      },
      "text/plain": [
       "HBox(children=(FloatProgress(value=0.0, max=412.0), HTML(value='')))"
      ]
     },
     "metadata": {},
     "output_type": "display_data"
    },
    {
     "name": "stdout",
     "output_type": "stream",
     "text": [
      "\n",
      "cell ID =  282 progress bar below: (n/N frames):\n"
     ]
    },
    {
     "data": {
      "application/vnd.jupyter.widget-view+json": {
       "model_id": "1b7d422b6bbf4519bdf2b14cea1c1339",
       "version_major": 2,
       "version_minor": 0
      },
      "text/plain": [
       "HBox(children=(FloatProgress(value=0.0, max=4.0), HTML(value='')))"
      ]
     },
     "metadata": {},
     "output_type": "display_data"
    },
    {
     "name": "stdout",
     "output_type": "stream",
     "text": [
      "\n",
      "cell ID =  283 progress bar below: (n/N frames):\n"
     ]
    },
    {
     "data": {
      "application/vnd.jupyter.widget-view+json": {
       "model_id": "fb67cc00f6aa4ee597e19687d9e9177b",
       "version_major": 2,
       "version_minor": 0
      },
      "text/plain": [
       "HBox(children=(FloatProgress(value=0.0, max=143.0), HTML(value='')))"
      ]
     },
     "metadata": {},
     "output_type": "display_data"
    },
    {
     "name": "stdout",
     "output_type": "stream",
     "text": [
      "\n",
      "cell ID =  285 progress bar below: (n/N frames):\n"
     ]
    },
    {
     "data": {
      "application/vnd.jupyter.widget-view+json": {
       "model_id": "419c9c6df51048109ce57c761e91ac97",
       "version_major": 2,
       "version_minor": 0
      },
      "text/plain": [
       "HBox(children=(FloatProgress(value=0.0, max=53.0), HTML(value='')))"
      ]
     },
     "metadata": {},
     "output_type": "display_data"
    },
    {
     "name": "stdout",
     "output_type": "stream",
     "text": [
      "\n",
      "cell ID =  292 progress bar below: (n/N frames):\n"
     ]
    },
    {
     "data": {
      "application/vnd.jupyter.widget-view+json": {
       "model_id": "1d3c309cddf747589a9c4e3e82bb37fa",
       "version_major": 2,
       "version_minor": 0
      },
      "text/plain": [
       "HBox(children=(FloatProgress(value=0.0, max=39.0), HTML(value='')))"
      ]
     },
     "metadata": {},
     "output_type": "display_data"
    },
    {
     "name": "stdout",
     "output_type": "stream",
     "text": [
      "\n",
      "cell ID =  293 progress bar below: (n/N frames):\n"
     ]
    },
    {
     "data": {
      "application/vnd.jupyter.widget-view+json": {
       "model_id": "709de932ddc34de3af753a51866cc546",
       "version_major": 2,
       "version_minor": 0
      },
      "text/plain": [
       "HBox(children=(FloatProgress(value=0.0, max=47.0), HTML(value='')))"
      ]
     },
     "metadata": {},
     "output_type": "display_data"
    },
    {
     "name": "stdout",
     "output_type": "stream",
     "text": [
      "\n",
      "cell ID =  295 progress bar below: (n/N frames):\n"
     ]
    },
    {
     "data": {
      "application/vnd.jupyter.widget-view+json": {
       "model_id": "75c6970330c444adb83c4064cd4864ef",
       "version_major": 2,
       "version_minor": 0
      },
      "text/plain": [
       "HBox(children=(FloatProgress(value=0.0, max=3.0), HTML(value='')))"
      ]
     },
     "metadata": {},
     "output_type": "display_data"
    },
    {
     "name": "stdout",
     "output_type": "stream",
     "text": [
      "\n",
      "cell ID =  296 progress bar below: (n/N frames):\n"
     ]
    },
    {
     "data": {
      "application/vnd.jupyter.widget-view+json": {
       "model_id": "38e9078d1287454d86c55b0a6ac918b5",
       "version_major": 2,
       "version_minor": 0
      },
      "text/plain": [
       "HBox(children=(FloatProgress(value=0.0, max=3.0), HTML(value='')))"
      ]
     },
     "metadata": {},
     "output_type": "display_data"
    },
    {
     "name": "stdout",
     "output_type": "stream",
     "text": [
      "\n",
      "cell ID =  298 progress bar below: (n/N frames):\n"
     ]
    },
    {
     "data": {
      "application/vnd.jupyter.widget-view+json": {
       "model_id": "faca1620cb82409eb55f6a9fed9a768b",
       "version_major": 2,
       "version_minor": 0
      },
      "text/plain": [
       "HBox(children=(FloatProgress(value=0.0, max=2.0), HTML(value='')))"
      ]
     },
     "metadata": {},
     "output_type": "display_data"
    },
    {
     "name": "stdout",
     "output_type": "stream",
     "text": [
      "\n",
      "cell ID =  297 progress bar below: (n/N frames):\n"
     ]
    },
    {
     "data": {
      "application/vnd.jupyter.widget-view+json": {
       "model_id": "39b7cf5b9cc7483fa97ad795772e67cc",
       "version_major": 2,
       "version_minor": 0
      },
      "text/plain": [
       "HBox(children=(FloatProgress(value=0.0, max=19.0), HTML(value='')))"
      ]
     },
     "metadata": {},
     "output_type": "display_data"
    },
    {
     "name": "stdout",
     "output_type": "stream",
     "text": [
      "\n",
      "cell ID =  301 progress bar below: (n/N frames):\n"
     ]
    },
    {
     "data": {
      "application/vnd.jupyter.widget-view+json": {
       "model_id": "bd73bd165d544addae61c47dc6f81ee3",
       "version_major": 2,
       "version_minor": 0
      },
      "text/plain": [
       "HBox(children=(FloatProgress(value=0.0, max=52.0), HTML(value='')))"
      ]
     },
     "metadata": {},
     "output_type": "display_data"
    },
    {
     "name": "stdout",
     "output_type": "stream",
     "text": [
      "\n",
      "cell ID =  303 progress bar below: (n/N frames):\n"
     ]
    },
    {
     "data": {
      "application/vnd.jupyter.widget-view+json": {
       "model_id": "7d709007af4545e4ab701e2d0eacaa5a",
       "version_major": 2,
       "version_minor": 0
      },
      "text/plain": [
       "HBox(children=(FloatProgress(value=0.0, max=8.0), HTML(value='')))"
      ]
     },
     "metadata": {},
     "output_type": "display_data"
    },
    {
     "name": "stdout",
     "output_type": "stream",
     "text": [
      "\n",
      "cell ID =  304 progress bar below: (n/N frames):\n"
     ]
    },
    {
     "data": {
      "application/vnd.jupyter.widget-view+json": {
       "model_id": "6efeebceabdb455885693498f86391b4",
       "version_major": 2,
       "version_minor": 0
      },
      "text/plain": [
       "HBox(children=(FloatProgress(value=0.0, max=55.0), HTML(value='')))"
      ]
     },
     "metadata": {},
     "output_type": "display_data"
    },
    {
     "name": "stdout",
     "output_type": "stream",
     "text": [
      "\n",
      "cell ID =  308 progress bar below: (n/N frames):\n"
     ]
    },
    {
     "data": {
      "application/vnd.jupyter.widget-view+json": {
       "model_id": "db1cb5679d0144a38a596ca184f06c21",
       "version_major": 2,
       "version_minor": 0
      },
      "text/plain": [
       "HBox(children=(FloatProgress(value=0.0, max=57.0), HTML(value='')))"
      ]
     },
     "metadata": {},
     "output_type": "display_data"
    },
    {
     "name": "stdout",
     "output_type": "stream",
     "text": [
      "\n",
      "cell ID =  309 progress bar below: (n/N frames):\n"
     ]
    },
    {
     "data": {
      "application/vnd.jupyter.widget-view+json": {
       "model_id": "fcdad200b6194c99a45b9d868054bd30",
       "version_major": 2,
       "version_minor": 0
      },
      "text/plain": [
       "HBox(children=(FloatProgress(value=0.0, max=10.0), HTML(value='')))"
      ]
     },
     "metadata": {},
     "output_type": "display_data"
    },
    {
     "name": "stdout",
     "output_type": "stream",
     "text": [
      "\n",
      "cell ID =  307 progress bar below: (n/N frames):\n"
     ]
    },
    {
     "data": {
      "application/vnd.jupyter.widget-view+json": {
       "model_id": "0edb6bdd3e42407d8894d27295110a8c",
       "version_major": 2,
       "version_minor": 0
      },
      "text/plain": [
       "HBox(children=(FloatProgress(value=0.0, max=3.0), HTML(value='')))"
      ]
     },
     "metadata": {},
     "output_type": "display_data"
    },
    {
     "name": "stdout",
     "output_type": "stream",
     "text": [
      "\n",
      "cell ID =  306 progress bar below: (n/N frames):\n"
     ]
    },
    {
     "data": {
      "application/vnd.jupyter.widget-view+json": {
       "model_id": "9f5b071a22214eb9b21a7d390fd4c548",
       "version_major": 2,
       "version_minor": 0
      },
      "text/plain": [
       "HBox(children=(FloatProgress(value=0.0, max=33.0), HTML(value='')))"
      ]
     },
     "metadata": {},
     "output_type": "display_data"
    },
    {
     "name": "stdout",
     "output_type": "stream",
     "text": [
      "\n",
      "cell ID =  316 progress bar below: (n/N frames):\n"
     ]
    },
    {
     "data": {
      "application/vnd.jupyter.widget-view+json": {
       "model_id": "5b0fb975a65847caab2c1a25b16bc899",
       "version_major": 2,
       "version_minor": 0
      },
      "text/plain": [
       "HBox(children=(FloatProgress(value=0.0, max=18.0), HTML(value='')))"
      ]
     },
     "metadata": {},
     "output_type": "display_data"
    },
    {
     "name": "stdout",
     "output_type": "stream",
     "text": [
      "\n",
      "cell ID =  318 progress bar below: (n/N frames):\n"
     ]
    },
    {
     "data": {
      "application/vnd.jupyter.widget-view+json": {
       "model_id": "cc7db0a39c9841c98568b2f15d6ab900",
       "version_major": 2,
       "version_minor": 0
      },
      "text/plain": [
       "HBox(children=(FloatProgress(value=0.0, max=8.0), HTML(value='')))"
      ]
     },
     "metadata": {},
     "output_type": "display_data"
    },
    {
     "name": "stdout",
     "output_type": "stream",
     "text": [
      "\n",
      "cell ID =  317 progress bar below: (n/N frames):\n"
     ]
    },
    {
     "data": {
      "application/vnd.jupyter.widget-view+json": {
       "model_id": "cdb41229be764bf990392bb5c81ef96c",
       "version_major": 2,
       "version_minor": 0
      },
      "text/plain": [
       "HBox(children=(FloatProgress(value=0.0, max=47.0), HTML(value='')))"
      ]
     },
     "metadata": {},
     "output_type": "display_data"
    },
    {
     "name": "stdout",
     "output_type": "stream",
     "text": [
      "\n",
      "cell ID =  315 progress bar below: (n/N frames):\n"
     ]
    },
    {
     "data": {
      "application/vnd.jupyter.widget-view+json": {
       "model_id": "1c6ae2fdf11e4976b554dc1ec981d62e",
       "version_major": 2,
       "version_minor": 0
      },
      "text/plain": [
       "HBox(children=(FloatProgress(value=0.0, max=75.0), HTML(value='')))"
      ]
     },
     "metadata": {},
     "output_type": "display_data"
    },
    {
     "name": "stdout",
     "output_type": "stream",
     "text": [
      "\n",
      "cell ID =  314 progress bar below: (n/N frames):\n"
     ]
    },
    {
     "data": {
      "application/vnd.jupyter.widget-view+json": {
       "model_id": "d47b515fd79f4132b9110dc76ecdf8b6",
       "version_major": 2,
       "version_minor": 0
      },
      "text/plain": [
       "HBox(children=(FloatProgress(value=0.0, max=72.0), HTML(value='')))"
      ]
     },
     "metadata": {},
     "output_type": "display_data"
    },
    {
     "name": "stdout",
     "output_type": "stream",
     "text": [
      "\n",
      "cell ID =  313 progress bar below: (n/N frames):\n"
     ]
    },
    {
     "data": {
      "application/vnd.jupyter.widget-view+json": {
       "model_id": "f2c6127ba7f84c91878d91420b78bb6c",
       "version_major": 2,
       "version_minor": 0
      },
      "text/plain": [
       "HBox(children=(FloatProgress(value=0.0, max=8.0), HTML(value='')))"
      ]
     },
     "metadata": {},
     "output_type": "display_data"
    },
    {
     "name": "stdout",
     "output_type": "stream",
     "text": [
      "\n",
      "cell ID =  312 progress bar below: (n/N frames):\n"
     ]
    },
    {
     "data": {
      "application/vnd.jupyter.widget-view+json": {
       "model_id": "cf53757517f644d98120c62240c0d4ec",
       "version_major": 2,
       "version_minor": 0
      },
      "text/plain": [
       "HBox(children=(FloatProgress(value=0.0, max=22.0), HTML(value='')))"
      ]
     },
     "metadata": {},
     "output_type": "display_data"
    },
    {
     "name": "stdout",
     "output_type": "stream",
     "text": [
      "\n",
      "cell ID =  310 progress bar below: (n/N frames):\n"
     ]
    },
    {
     "data": {
      "application/vnd.jupyter.widget-view+json": {
       "model_id": "e521612b37874040a2a348e8f07b95be",
       "version_major": 2,
       "version_minor": 0
      },
      "text/plain": [
       "HBox(children=(FloatProgress(value=0.0, max=469.0), HTML(value='')))"
      ]
     },
     "metadata": {},
     "output_type": "display_data"
    },
    {
     "name": "stdout",
     "output_type": "stream",
     "text": [
      "\n",
      "cell ID =  322 progress bar below: (n/N frames):\n"
     ]
    },
    {
     "data": {
      "application/vnd.jupyter.widget-view+json": {
       "model_id": "e951cb39c73f4138969b41be8591770a",
       "version_major": 2,
       "version_minor": 0
      },
      "text/plain": [
       "HBox(children=(FloatProgress(value=0.0, max=443.0), HTML(value='')))"
      ]
     },
     "metadata": {},
     "output_type": "display_data"
    },
    {
     "name": "stdout",
     "output_type": "stream",
     "text": [
      "\n",
      "cell ID =  325 progress bar below: (n/N frames):\n"
     ]
    },
    {
     "data": {
      "application/vnd.jupyter.widget-view+json": {
       "model_id": "b522486fa84e444d824d1f815e5f8d84",
       "version_major": 2,
       "version_minor": 0
      },
      "text/plain": [
       "HBox(children=(FloatProgress(value=0.0, max=2.0), HTML(value='')))"
      ]
     },
     "metadata": {},
     "output_type": "display_data"
    },
    {
     "name": "stdout",
     "output_type": "stream",
     "text": [
      "\n",
      "cell ID =  327 progress bar below: (n/N frames):\n"
     ]
    },
    {
     "data": {
      "application/vnd.jupyter.widget-view+json": {
       "model_id": "ed44366207d7468b851629fdd0becba2",
       "version_major": 2,
       "version_minor": 0
      },
      "text/plain": [
       "HBox(children=(FloatProgress(value=0.0, max=9.0), HTML(value='')))"
      ]
     },
     "metadata": {},
     "output_type": "display_data"
    },
    {
     "name": "stdout",
     "output_type": "stream",
     "text": [
      "\n",
      "cell ID =  326 progress bar below: (n/N frames):\n"
     ]
    },
    {
     "data": {
      "application/vnd.jupyter.widget-view+json": {
       "model_id": "4dc49500efcd49499da23ecb1770ca8f",
       "version_major": 2,
       "version_minor": 0
      },
      "text/plain": [
       "HBox(children=(FloatProgress(value=0.0, max=6.0), HTML(value='')))"
      ]
     },
     "metadata": {},
     "output_type": "display_data"
    },
    {
     "name": "stdout",
     "output_type": "stream",
     "text": [
      "\n",
      "cell ID =  324 progress bar below: (n/N frames):\n"
     ]
    },
    {
     "data": {
      "application/vnd.jupyter.widget-view+json": {
       "model_id": "5b4c62cb8ad44fe19f0ade3bf1756a51",
       "version_major": 2,
       "version_minor": 0
      },
      "text/plain": [
       "HBox(children=(FloatProgress(value=0.0, max=201.0), HTML(value='')))"
      ]
     },
     "metadata": {},
     "output_type": "display_data"
    },
    {
     "name": "stdout",
     "output_type": "stream",
     "text": [
      "\n",
      "cell ID =  330 progress bar below: (n/N frames):\n"
     ]
    },
    {
     "data": {
      "application/vnd.jupyter.widget-view+json": {
       "model_id": "547aad9d3fc14f31aa80957311039eb2",
       "version_major": 2,
       "version_minor": 0
      },
      "text/plain": [
       "HBox(children=(FloatProgress(value=0.0, max=711.0), HTML(value='')))"
      ]
     },
     "metadata": {},
     "output_type": "display_data"
    },
    {
     "name": "stdout",
     "output_type": "stream",
     "text": [
      "\n",
      "cell ID =  331 progress bar below: (n/N frames):\n"
     ]
    },
    {
     "data": {
      "application/vnd.jupyter.widget-view+json": {
       "model_id": "bdf5b7de918b4a2c870aefbdcf03aba9",
       "version_major": 2,
       "version_minor": 0
      },
      "text/plain": [
       "HBox(children=(FloatProgress(value=0.0, max=543.0), HTML(value='')))"
      ]
     },
     "metadata": {},
     "output_type": "display_data"
    },
    {
     "name": "stdout",
     "output_type": "stream",
     "text": [
      "\n",
      "cell ID =  332 progress bar below: (n/N frames):\n"
     ]
    },
    {
     "data": {
      "application/vnd.jupyter.widget-view+json": {
       "model_id": "a737034b2811480f85dcfdf1f483416f",
       "version_major": 2,
       "version_minor": 0
      },
      "text/plain": [
       "HBox(children=(FloatProgress(value=0.0, max=5.0), HTML(value='')))"
      ]
     },
     "metadata": {},
     "output_type": "display_data"
    },
    {
     "name": "stdout",
     "output_type": "stream",
     "text": [
      "\n",
      "cell ID =  333 progress bar below: (n/N frames):\n"
     ]
    },
    {
     "data": {
      "application/vnd.jupyter.widget-view+json": {
       "model_id": "276cd65b733a441f91e0076064239ee6",
       "version_major": 2,
       "version_minor": 0
      },
      "text/plain": [
       "HBox(children=(FloatProgress(value=0.0, max=6.0), HTML(value='')))"
      ]
     },
     "metadata": {},
     "output_type": "display_data"
    },
    {
     "name": "stdout",
     "output_type": "stream",
     "text": [
      "\n",
      "cell ID =  337 progress bar below: (n/N frames):\n"
     ]
    },
    {
     "data": {
      "application/vnd.jupyter.widget-view+json": {
       "model_id": "a19405d411b6491eb39e857ba2cc2c12",
       "version_major": 2,
       "version_minor": 0
      },
      "text/plain": [
       "HBox(children=(FloatProgress(value=0.0, max=9.0), HTML(value='')))"
      ]
     },
     "metadata": {},
     "output_type": "display_data"
    },
    {
     "name": "stdout",
     "output_type": "stream",
     "text": [
      "\n",
      "cell ID =  339 progress bar below: (n/N frames):\n"
     ]
    },
    {
     "data": {
      "application/vnd.jupyter.widget-view+json": {
       "model_id": "9f757e6810a14238ab6de8923e5341a5",
       "version_major": 2,
       "version_minor": 0
      },
      "text/plain": [
       "HBox(children=(FloatProgress(value=0.0, max=441.0), HTML(value='')))"
      ]
     },
     "metadata": {},
     "output_type": "display_data"
    },
    {
     "name": "stdout",
     "output_type": "stream",
     "text": [
      "\n",
      "cell ID =  340 progress bar below: (n/N frames):\n"
     ]
    },
    {
     "data": {
      "application/vnd.jupyter.widget-view+json": {
       "model_id": "506e6e74c6a74dcd87ec80c0b12822a9",
       "version_major": 2,
       "version_minor": 0
      },
      "text/plain": [
       "HBox(children=(FloatProgress(value=0.0, max=29.0), HTML(value='')))"
      ]
     },
     "metadata": {},
     "output_type": "display_data"
    },
    {
     "name": "stdout",
     "output_type": "stream",
     "text": [
      "\n",
      "cell ID =  343 progress bar below: (n/N frames):\n"
     ]
    },
    {
     "data": {
      "application/vnd.jupyter.widget-view+json": {
       "model_id": "d876a032921f4d4a93215e7cd769c2e9",
       "version_major": 2,
       "version_minor": 0
      },
      "text/plain": [
       "HBox(children=(FloatProgress(value=0.0, max=149.0), HTML(value='')))"
      ]
     },
     "metadata": {},
     "output_type": "display_data"
    },
    {
     "name": "stdout",
     "output_type": "stream",
     "text": [
      "\n",
      "cell ID =  345 progress bar below: (n/N frames):\n"
     ]
    },
    {
     "data": {
      "application/vnd.jupyter.widget-view+json": {
       "model_id": "008fba9c47334eceb1541bd19c95178d",
       "version_major": 2,
       "version_minor": 0
      },
      "text/plain": [
       "HBox(children=(FloatProgress(value=0.0, max=3.0), HTML(value='')))"
      ]
     },
     "metadata": {},
     "output_type": "display_data"
    },
    {
     "name": "stdout",
     "output_type": "stream",
     "text": [
      "\n",
      "cell ID =  346 progress bar below: (n/N frames):\n"
     ]
    },
    {
     "data": {
      "application/vnd.jupyter.widget-view+json": {
       "model_id": "870e85650b8e4277846054003c720338",
       "version_major": 2,
       "version_minor": 0
      },
      "text/plain": [
       "HBox(children=(FloatProgress(value=0.0, max=409.0), HTML(value='')))"
      ]
     },
     "metadata": {},
     "output_type": "display_data"
    },
    {
     "name": "stdout",
     "output_type": "stream",
     "text": [
      "\n",
      "cell ID =  348 progress bar below: (n/N frames):\n"
     ]
    },
    {
     "data": {
      "application/vnd.jupyter.widget-view+json": {
       "model_id": "f35a4e7b66144f7d96b91a2fda005099",
       "version_major": 2,
       "version_minor": 0
      },
      "text/plain": [
       "HBox(children=(FloatProgress(value=0.0, max=65.0), HTML(value='')))"
      ]
     },
     "metadata": {},
     "output_type": "display_data"
    },
    {
     "name": "stdout",
     "output_type": "stream",
     "text": [
      "\n",
      "cell ID =  350 progress bar below: (n/N frames):\n"
     ]
    },
    {
     "data": {
      "application/vnd.jupyter.widget-view+json": {
       "model_id": "16ea93b805244126b8153f95e0b85cc4",
       "version_major": 2,
       "version_minor": 0
      },
      "text/plain": [
       "HBox(children=(FloatProgress(value=0.0, max=169.0), HTML(value='')))"
      ]
     },
     "metadata": {},
     "output_type": "display_data"
    },
    {
     "name": "stdout",
     "output_type": "stream",
     "text": [
      "\n",
      "cell ID =  351 progress bar below: (n/N frames):\n"
     ]
    },
    {
     "data": {
      "application/vnd.jupyter.widget-view+json": {
       "model_id": "42ec486d87a641e4945bcfe5d486df67",
       "version_major": 2,
       "version_minor": 0
      },
      "text/plain": [
       "HBox(children=(FloatProgress(value=0.0, max=584.0), HTML(value='')))"
      ]
     },
     "metadata": {},
     "output_type": "display_data"
    },
    {
     "name": "stdout",
     "output_type": "stream",
     "text": [
      "\n",
      "cell ID =  356 progress bar below: (n/N frames):\n"
     ]
    },
    {
     "data": {
      "application/vnd.jupyter.widget-view+json": {
       "model_id": "54660cc9068640829794c4733106edfd",
       "version_major": 2,
       "version_minor": 0
      },
      "text/plain": [
       "HBox(children=(FloatProgress(value=0.0, max=11.0), HTML(value='')))"
      ]
     },
     "metadata": {},
     "output_type": "display_data"
    },
    {
     "name": "stdout",
     "output_type": "stream",
     "text": [
      "\n",
      "cell ID =  357 progress bar below: (n/N frames):\n"
     ]
    },
    {
     "data": {
      "application/vnd.jupyter.widget-view+json": {
       "model_id": "9824be287d4c498cbec4e2b204113754",
       "version_major": 2,
       "version_minor": 0
      },
      "text/plain": [
       "HBox(children=(FloatProgress(value=0.0, max=4.0), HTML(value='')))"
      ]
     },
     "metadata": {},
     "output_type": "display_data"
    },
    {
     "name": "stdout",
     "output_type": "stream",
     "text": [
      "\n",
      "cell ID =  360 progress bar below: (n/N frames):\n"
     ]
    },
    {
     "data": {
      "application/vnd.jupyter.widget-view+json": {
       "model_id": "067dabd1127e4ce9b1b996677535049a",
       "version_major": 2,
       "version_minor": 0
      },
      "text/plain": [
       "HBox(children=(FloatProgress(value=0.0, max=4.0), HTML(value='')))"
      ]
     },
     "metadata": {},
     "output_type": "display_data"
    },
    {
     "name": "stdout",
     "output_type": "stream",
     "text": [
      "\n",
      "cell ID =  359 progress bar below: (n/N frames):\n"
     ]
    },
    {
     "data": {
      "application/vnd.jupyter.widget-view+json": {
       "model_id": "4b3544d2983f4d4a87f0dbb9004357f3",
       "version_major": 2,
       "version_minor": 0
      },
      "text/plain": [
       "HBox(children=(FloatProgress(value=0.0, max=17.0), HTML(value='')))"
      ]
     },
     "metadata": {},
     "output_type": "display_data"
    },
    {
     "name": "stdout",
     "output_type": "stream",
     "text": [
      "\n",
      "cell ID =  358 progress bar below: (n/N frames):\n"
     ]
    },
    {
     "data": {
      "application/vnd.jupyter.widget-view+json": {
       "model_id": "b67caf95db1544559179287671dd243f",
       "version_major": 2,
       "version_minor": 0
      },
      "text/plain": [
       "HBox(children=(FloatProgress(value=0.0, max=125.0), HTML(value='')))"
      ]
     },
     "metadata": {},
     "output_type": "display_data"
    },
    {
     "name": "stdout",
     "output_type": "stream",
     "text": [
      "\n",
      "cell ID =  361 progress bar below: (n/N frames):\n"
     ]
    },
    {
     "data": {
      "application/vnd.jupyter.widget-view+json": {
       "model_id": "040b886c3c0142e0a77cb99c2cc7508b",
       "version_major": 2,
       "version_minor": 0
      },
      "text/plain": [
       "HBox(children=(FloatProgress(value=0.0, max=4.0), HTML(value='')))"
      ]
     },
     "metadata": {},
     "output_type": "display_data"
    },
    {
     "name": "stdout",
     "output_type": "stream",
     "text": [
      "\n",
      "cell ID =  362 progress bar below: (n/N frames):\n"
     ]
    },
    {
     "data": {
      "application/vnd.jupyter.widget-view+json": {
       "model_id": "6e6cd55cc04746828486b3fc52609a5b",
       "version_major": 2,
       "version_minor": 0
      },
      "text/plain": [
       "HBox(children=(FloatProgress(value=0.0, max=4.0), HTML(value='')))"
      ]
     },
     "metadata": {},
     "output_type": "display_data"
    },
    {
     "name": "stdout",
     "output_type": "stream",
     "text": [
      "\n",
      "cell ID =  363 progress bar below: (n/N frames):\n"
     ]
    },
    {
     "data": {
      "application/vnd.jupyter.widget-view+json": {
       "model_id": "63c4b57cba984ed7b38db9acfdd10191",
       "version_major": 2,
       "version_minor": 0
      },
      "text/plain": [
       "HBox(children=(FloatProgress(value=0.0, max=10.0), HTML(value='')))"
      ]
     },
     "metadata": {},
     "output_type": "display_data"
    },
    {
     "name": "stdout",
     "output_type": "stream",
     "text": [
      "\n",
      "cell ID =  364 progress bar below: (n/N frames):\n"
     ]
    },
    {
     "data": {
      "application/vnd.jupyter.widget-view+json": {
       "model_id": "fa66ecf7c52344ea87e8379c35a0b68f",
       "version_major": 2,
       "version_minor": 0
      },
      "text/plain": [
       "HBox(children=(FloatProgress(value=0.0, max=26.0), HTML(value='')))"
      ]
     },
     "metadata": {},
     "output_type": "display_data"
    },
    {
     "name": "stdout",
     "output_type": "stream",
     "text": [
      "\n",
      "cell ID =  365 progress bar below: (n/N frames):\n"
     ]
    },
    {
     "data": {
      "application/vnd.jupyter.widget-view+json": {
       "model_id": "f29e0754ab6c4d6cbe0a32b364fe04fd",
       "version_major": 2,
       "version_minor": 0
      },
      "text/plain": [
       "HBox(children=(FloatProgress(value=0.0, max=101.0), HTML(value='')))"
      ]
     },
     "metadata": {},
     "output_type": "display_data"
    },
    {
     "name": "stdout",
     "output_type": "stream",
     "text": [
      "\n",
      "cell ID =  366 progress bar below: (n/N frames):\n"
     ]
    },
    {
     "data": {
      "application/vnd.jupyter.widget-view+json": {
       "model_id": "297b825c4f014a50864b4447deb3d75b",
       "version_major": 2,
       "version_minor": 0
      },
      "text/plain": [
       "HBox(children=(FloatProgress(value=0.0, max=15.0), HTML(value='')))"
      ]
     },
     "metadata": {},
     "output_type": "display_data"
    },
    {
     "name": "stdout",
     "output_type": "stream",
     "text": [
      "\n",
      "cell ID =  367 progress bar below: (n/N frames):\n"
     ]
    },
    {
     "data": {
      "application/vnd.jupyter.widget-view+json": {
       "model_id": "11b3832a5fd34fefb84f038b61a99c84",
       "version_major": 2,
       "version_minor": 0
      },
      "text/plain": [
       "HBox(children=(FloatProgress(value=0.0, max=9.0), HTML(value='')))"
      ]
     },
     "metadata": {},
     "output_type": "display_data"
    },
    {
     "name": "stdout",
     "output_type": "stream",
     "text": [
      "\n",
      "cell ID =  368 progress bar below: (n/N frames):\n"
     ]
    },
    {
     "data": {
      "application/vnd.jupyter.widget-view+json": {
       "model_id": "ea77ae96cef54bf89b56fef951bfb658",
       "version_major": 2,
       "version_minor": 0
      },
      "text/plain": [
       "HBox(children=(FloatProgress(value=0.0, max=642.0), HTML(value='')))"
      ]
     },
     "metadata": {},
     "output_type": "display_data"
    },
    {
     "name": "stdout",
     "output_type": "stream",
     "text": [
      "\n",
      "cell ID =  369 progress bar below: (n/N frames):\n"
     ]
    },
    {
     "data": {
      "application/vnd.jupyter.widget-view+json": {
       "model_id": "53f8885b19b54032b7a10d42ab39ed03",
       "version_major": 2,
       "version_minor": 0
      },
      "text/plain": [
       "HBox(children=(FloatProgress(value=0.0, max=227.0), HTML(value='')))"
      ]
     },
     "metadata": {},
     "output_type": "display_data"
    },
    {
     "name": "stdout",
     "output_type": "stream",
     "text": [
      "\n",
      "cell ID =  370 progress bar below: (n/N frames):\n"
     ]
    },
    {
     "data": {
      "application/vnd.jupyter.widget-view+json": {
       "model_id": "4ac58a483a4f4a65b31a60d51c531ba1",
       "version_major": 2,
       "version_minor": 0
      },
      "text/plain": [
       "HBox(children=(FloatProgress(value=0.0, max=60.0), HTML(value='')))"
      ]
     },
     "metadata": {},
     "output_type": "display_data"
    },
    {
     "name": "stdout",
     "output_type": "stream",
     "text": [
      "\n",
      "cell ID =  374 progress bar below: (n/N frames):\n"
     ]
    },
    {
     "data": {
      "application/vnd.jupyter.widget-view+json": {
       "model_id": "7ccc256b5b5f42688730dcf641211319",
       "version_major": 2,
       "version_minor": 0
      },
      "text/plain": [
       "HBox(children=(FloatProgress(value=0.0, max=566.0), HTML(value='')))"
      ]
     },
     "metadata": {},
     "output_type": "display_data"
    },
    {
     "name": "stdout",
     "output_type": "stream",
     "text": [
      "\n",
      "cell ID =  375 progress bar below: (n/N frames):\n"
     ]
    },
    {
     "data": {
      "application/vnd.jupyter.widget-view+json": {
       "model_id": "397e9cc30c5444f4bee690354aa66f2e",
       "version_major": 2,
       "version_minor": 0
      },
      "text/plain": [
       "HBox(children=(FloatProgress(value=0.0, max=11.0), HTML(value='')))"
      ]
     },
     "metadata": {},
     "output_type": "display_data"
    },
    {
     "name": "stdout",
     "output_type": "stream",
     "text": [
      "\n",
      "cell ID =  376 progress bar below: (n/N frames):\n"
     ]
    },
    {
     "data": {
      "application/vnd.jupyter.widget-view+json": {
       "model_id": "c704f9ea8efd4d0c91b2551112ee3bfd",
       "version_major": 2,
       "version_minor": 0
      },
      "text/plain": [
       "HBox(children=(FloatProgress(value=0.0, max=22.0), HTML(value='')))"
      ]
     },
     "metadata": {},
     "output_type": "display_data"
    },
    {
     "name": "stdout",
     "output_type": "stream",
     "text": [
      "\n",
      "cell ID =  377 progress bar below: (n/N frames):\n"
     ]
    },
    {
     "data": {
      "application/vnd.jupyter.widget-view+json": {
       "model_id": "665c4d5c8fbd44b69fd398a3997bfb36",
       "version_major": 2,
       "version_minor": 0
      },
      "text/plain": [
       "HBox(children=(FloatProgress(value=0.0, max=13.0), HTML(value='')))"
      ]
     },
     "metadata": {},
     "output_type": "display_data"
    },
    {
     "name": "stdout",
     "output_type": "stream",
     "text": [
      "\n",
      "cell ID =  378 progress bar below: (n/N frames):\n"
     ]
    },
    {
     "data": {
      "application/vnd.jupyter.widget-view+json": {
       "model_id": "7ebaedf88b204b6d9c921fb7a05ae9df",
       "version_major": 2,
       "version_minor": 0
      },
      "text/plain": [
       "HBox(children=(FloatProgress(value=0.0, max=34.0), HTML(value='')))"
      ]
     },
     "metadata": {},
     "output_type": "display_data"
    },
    {
     "name": "stdout",
     "output_type": "stream",
     "text": [
      "\n",
      "cell ID =  382 progress bar below: (n/N frames):\n"
     ]
    },
    {
     "data": {
      "application/vnd.jupyter.widget-view+json": {
       "model_id": "855d6f4897d24447aa9f97c065e42f55",
       "version_major": 2,
       "version_minor": 0
      },
      "text/plain": [
       "HBox(children=(FloatProgress(value=0.0, max=4.0), HTML(value='')))"
      ]
     },
     "metadata": {},
     "output_type": "display_data"
    },
    {
     "name": "stdout",
     "output_type": "stream",
     "text": [
      "\n",
      "cell ID =  381 progress bar below: (n/N frames):\n"
     ]
    },
    {
     "data": {
      "application/vnd.jupyter.widget-view+json": {
       "model_id": "e3a957367cad45bfa1a33a565adefaeb",
       "version_major": 2,
       "version_minor": 0
      },
      "text/plain": [
       "HBox(children=(FloatProgress(value=0.0, max=3.0), HTML(value='')))"
      ]
     },
     "metadata": {},
     "output_type": "display_data"
    },
    {
     "name": "stdout",
     "output_type": "stream",
     "text": [
      "\n",
      "cell ID =  383 progress bar below: (n/N frames):\n"
     ]
    },
    {
     "data": {
      "application/vnd.jupyter.widget-view+json": {
       "model_id": "8b8a0527c5b04a33bb1b4e3a280bd9aa",
       "version_major": 2,
       "version_minor": 0
      },
      "text/plain": [
       "HBox(children=(FloatProgress(value=0.0, max=464.0), HTML(value='')))"
      ]
     },
     "metadata": {},
     "output_type": "display_data"
    },
    {
     "name": "stdout",
     "output_type": "stream",
     "text": [
      "\n",
      "cell ID =  385 progress bar below: (n/N frames):\n"
     ]
    },
    {
     "data": {
      "application/vnd.jupyter.widget-view+json": {
       "model_id": "f334481901324e35a5c672fa9ccf3397",
       "version_major": 2,
       "version_minor": 0
      },
      "text/plain": [
       "HBox(children=(FloatProgress(value=0.0, max=4.0), HTML(value='')))"
      ]
     },
     "metadata": {},
     "output_type": "display_data"
    },
    {
     "name": "stdout",
     "output_type": "stream",
     "text": [
      "\n",
      "cell ID =  386 progress bar below: (n/N frames):\n"
     ]
    },
    {
     "data": {
      "application/vnd.jupyter.widget-view+json": {
       "model_id": "7401891012ec42d3a5d9405b88dc73f7",
       "version_major": 2,
       "version_minor": 0
      },
      "text/plain": [
       "HBox(children=(FloatProgress(value=0.0, max=125.0), HTML(value='')))"
      ]
     },
     "metadata": {},
     "output_type": "display_data"
    },
    {
     "name": "stdout",
     "output_type": "stream",
     "text": [
      "\n",
      "cell ID =  387 progress bar below: (n/N frames):\n"
     ]
    },
    {
     "data": {
      "application/vnd.jupyter.widget-view+json": {
       "model_id": "4cf3e77a56d749869c3fc80cb34d7509",
       "version_major": 2,
       "version_minor": 0
      },
      "text/plain": [
       "HBox(children=(FloatProgress(value=0.0, max=266.0), HTML(value='')))"
      ]
     },
     "metadata": {},
     "output_type": "display_data"
    },
    {
     "name": "stdout",
     "output_type": "stream",
     "text": [
      "\n",
      "cell ID =  388 progress bar below: (n/N frames):\n"
     ]
    },
    {
     "data": {
      "application/vnd.jupyter.widget-view+json": {
       "model_id": "0f45608e5c954158823c56870cb6b3e3",
       "version_major": 2,
       "version_minor": 0
      },
      "text/plain": [
       "HBox(children=(FloatProgress(value=0.0, max=94.0), HTML(value='')))"
      ]
     },
     "metadata": {},
     "output_type": "display_data"
    },
    {
     "name": "stdout",
     "output_type": "stream",
     "text": [
      "\n",
      "cell ID =  389 progress bar below: (n/N frames):\n"
     ]
    },
    {
     "data": {
      "application/vnd.jupyter.widget-view+json": {
       "model_id": "1233d62095ef48188139bfc65e990bcc",
       "version_major": 2,
       "version_minor": 0
      },
      "text/plain": [
       "HBox(children=(FloatProgress(value=0.0, max=2.0), HTML(value='')))"
      ]
     },
     "metadata": {},
     "output_type": "display_data"
    },
    {
     "name": "stdout",
     "output_type": "stream",
     "text": [
      "\n",
      "cell ID =  391 progress bar below: (n/N frames):\n"
     ]
    },
    {
     "data": {
      "application/vnd.jupyter.widget-view+json": {
       "model_id": "2592d72c7e08485997d160f1449c98bc",
       "version_major": 2,
       "version_minor": 0
      },
      "text/plain": [
       "HBox(children=(FloatProgress(value=0.0, max=12.0), HTML(value='')))"
      ]
     },
     "metadata": {},
     "output_type": "display_data"
    },
    {
     "name": "stdout",
     "output_type": "stream",
     "text": [
      "\n",
      "cell ID =  394 progress bar below: (n/N frames):\n"
     ]
    },
    {
     "data": {
      "application/vnd.jupyter.widget-view+json": {
       "model_id": "a096c34deaa74a8daf26d90facc33245",
       "version_major": 2,
       "version_minor": 0
      },
      "text/plain": [
       "HBox(children=(FloatProgress(value=0.0, max=124.0), HTML(value='')))"
      ]
     },
     "metadata": {},
     "output_type": "display_data"
    },
    {
     "name": "stdout",
     "output_type": "stream",
     "text": [
      "\n",
      "cell ID =  395 progress bar below: (n/N frames):\n"
     ]
    },
    {
     "data": {
      "application/vnd.jupyter.widget-view+json": {
       "model_id": "0222698c00d144b0ac9e4b134e70b288",
       "version_major": 2,
       "version_minor": 0
      },
      "text/plain": [
       "HBox(children=(FloatProgress(value=0.0, max=616.0), HTML(value='')))"
      ]
     },
     "metadata": {},
     "output_type": "display_data"
    },
    {
     "name": "stdout",
     "output_type": "stream",
     "text": [
      "\n",
      "cell ID =  398 progress bar below: (n/N frames):\n"
     ]
    },
    {
     "data": {
      "application/vnd.jupyter.widget-view+json": {
       "model_id": "865dcaede1d844e28fa0e77f5ea49f56",
       "version_major": 2,
       "version_minor": 0
      },
      "text/plain": [
       "HBox(children=(FloatProgress(value=0.0, max=35.0), HTML(value='')))"
      ]
     },
     "metadata": {},
     "output_type": "display_data"
    },
    {
     "name": "stdout",
     "output_type": "stream",
     "text": [
      "\n",
      "cell ID =  399 progress bar below: (n/N frames):\n"
     ]
    },
    {
     "data": {
      "application/vnd.jupyter.widget-view+json": {
       "model_id": "4852cadbd81945baa704c48b9f504e17",
       "version_major": 2,
       "version_minor": 0
      },
      "text/plain": [
       "HBox(children=(FloatProgress(value=0.0, max=9.0), HTML(value='')))"
      ]
     },
     "metadata": {},
     "output_type": "display_data"
    },
    {
     "name": "stdout",
     "output_type": "stream",
     "text": [
      "\n",
      "cell ID =  400 progress bar below: (n/N frames):\n"
     ]
    },
    {
     "data": {
      "application/vnd.jupyter.widget-view+json": {
       "model_id": "539e86c616524dfdb37c911ef60ec399",
       "version_major": 2,
       "version_minor": 0
      },
      "text/plain": [
       "HBox(children=(FloatProgress(value=0.0, max=44.0), HTML(value='')))"
      ]
     },
     "metadata": {},
     "output_type": "display_data"
    },
    {
     "name": "stdout",
     "output_type": "stream",
     "text": [
      "\n",
      "cell ID =  402 progress bar below: (n/N frames):\n"
     ]
    },
    {
     "data": {
      "application/vnd.jupyter.widget-view+json": {
       "model_id": "2702a95d92564e26ae55066be2d8d773",
       "version_major": 2,
       "version_minor": 0
      },
      "text/plain": [
       "HBox(children=(FloatProgress(value=0.0, max=328.0), HTML(value='')))"
      ]
     },
     "metadata": {},
     "output_type": "display_data"
    },
    {
     "name": "stdout",
     "output_type": "stream",
     "text": [
      "\n",
      "cell ID =  406 progress bar below: (n/N frames):\n"
     ]
    },
    {
     "data": {
      "application/vnd.jupyter.widget-view+json": {
       "model_id": "1453878220d64b5482e30c48c3e216f4",
       "version_major": 2,
       "version_minor": 0
      },
      "text/plain": [
       "HBox(children=(FloatProgress(value=0.0, max=129.0), HTML(value='')))"
      ]
     },
     "metadata": {},
     "output_type": "display_data"
    },
    {
     "name": "stdout",
     "output_type": "stream",
     "text": [
      "\n",
      "cell ID =  407 progress bar below: (n/N frames):\n"
     ]
    },
    {
     "data": {
      "application/vnd.jupyter.widget-view+json": {
       "model_id": "97b41d0520f849acaa941b2106680cab",
       "version_major": 2,
       "version_minor": 0
      },
      "text/plain": [
       "HBox(children=(FloatProgress(value=0.0, max=19.0), HTML(value='')))"
      ]
     },
     "metadata": {},
     "output_type": "display_data"
    },
    {
     "name": "stdout",
     "output_type": "stream",
     "text": [
      "\n",
      "cell ID =  408 progress bar below: (n/N frames):\n"
     ]
    },
    {
     "data": {
      "application/vnd.jupyter.widget-view+json": {
       "model_id": "b0d64b3137804221ad0f1b47676ab557",
       "version_major": 2,
       "version_minor": 0
      },
      "text/plain": [
       "HBox(children=(FloatProgress(value=0.0, max=4.0), HTML(value='')))"
      ]
     },
     "metadata": {},
     "output_type": "display_data"
    },
    {
     "name": "stdout",
     "output_type": "stream",
     "text": [
      "\n",
      "cell ID =  411 progress bar below: (n/N frames):\n"
     ]
    },
    {
     "data": {
      "application/vnd.jupyter.widget-view+json": {
       "model_id": "4be5fc5328b345f3a7262cde4dc1dc02",
       "version_major": 2,
       "version_minor": 0
      },
      "text/plain": [
       "HBox(children=(FloatProgress(value=0.0, max=9.0), HTML(value='')))"
      ]
     },
     "metadata": {},
     "output_type": "display_data"
    },
    {
     "name": "stdout",
     "output_type": "stream",
     "text": [
      "\n",
      "cell ID =  413 progress bar below: (n/N frames):\n"
     ]
    },
    {
     "data": {
      "application/vnd.jupyter.widget-view+json": {
       "model_id": "07e3ec9a18c54b28a2be6242983967a9",
       "version_major": 2,
       "version_minor": 0
      },
      "text/plain": [
       "HBox(children=(FloatProgress(value=0.0, max=45.0), HTML(value='')))"
      ]
     },
     "metadata": {},
     "output_type": "display_data"
    },
    {
     "name": "stdout",
     "output_type": "stream",
     "text": [
      "\n",
      "cell ID =  416 progress bar below: (n/N frames):\n"
     ]
    },
    {
     "data": {
      "application/vnd.jupyter.widget-view+json": {
       "model_id": "2fd9175b29954a23a417340cdffc46cc",
       "version_major": 2,
       "version_minor": 0
      },
      "text/plain": [
       "HBox(children=(FloatProgress(value=0.0, max=55.0), HTML(value='')))"
      ]
     },
     "metadata": {},
     "output_type": "display_data"
    },
    {
     "name": "stdout",
     "output_type": "stream",
     "text": [
      "\n",
      "cell ID =  415 progress bar below: (n/N frames):\n"
     ]
    },
    {
     "data": {
      "application/vnd.jupyter.widget-view+json": {
       "model_id": "6f1799c6770143259c224c4f607313ef",
       "version_major": 2,
       "version_minor": 0
      },
      "text/plain": [
       "HBox(children=(FloatProgress(value=0.0, max=8.0), HTML(value='')))"
      ]
     },
     "metadata": {},
     "output_type": "display_data"
    },
    {
     "name": "stdout",
     "output_type": "stream",
     "text": [
      "\n",
      "cell ID =  414 progress bar below: (n/N frames):\n"
     ]
    },
    {
     "data": {
      "application/vnd.jupyter.widget-view+json": {
       "model_id": "41a6c745061242a1b64e3ae6e8fd3dd9",
       "version_major": 2,
       "version_minor": 0
      },
      "text/plain": [
       "HBox(children=(FloatProgress(value=0.0, max=857.0), HTML(value='')))"
      ]
     },
     "metadata": {},
     "output_type": "display_data"
    },
    {
     "name": "stdout",
     "output_type": "stream",
     "text": [
      "\n",
      "cell ID =  417 progress bar below: (n/N frames):\n"
     ]
    },
    {
     "data": {
      "application/vnd.jupyter.widget-view+json": {
       "model_id": "758d0b352bb845c78847241de27ebe40",
       "version_major": 2,
       "version_minor": 0
      },
      "text/plain": [
       "HBox(children=(FloatProgress(value=0.0, max=322.0), HTML(value='')))"
      ]
     },
     "metadata": {},
     "output_type": "display_data"
    },
    {
     "name": "stdout",
     "output_type": "stream",
     "text": [
      "\n",
      "cell ID =  418 progress bar below: (n/N frames):\n"
     ]
    },
    {
     "data": {
      "application/vnd.jupyter.widget-view+json": {
       "model_id": "34d8066de3b6452f8c9918db74d6ff87",
       "version_major": 2,
       "version_minor": 0
      },
      "text/plain": [
       "HBox(children=(FloatProgress(value=0.0, max=94.0), HTML(value='')))"
      ]
     },
     "metadata": {},
     "output_type": "display_data"
    },
    {
     "name": "stdout",
     "output_type": "stream",
     "text": [
      "\n",
      "cell ID =  420 progress bar below: (n/N frames):\n"
     ]
    },
    {
     "data": {
      "application/vnd.jupyter.widget-view+json": {
       "model_id": "34ddc3d2c1a44910a28e6bfd65d4129b",
       "version_major": 2,
       "version_minor": 0
      },
      "text/plain": [
       "HBox(children=(FloatProgress(value=0.0, max=62.0), HTML(value='')))"
      ]
     },
     "metadata": {},
     "output_type": "display_data"
    },
    {
     "name": "stdout",
     "output_type": "stream",
     "text": [
      "\n",
      "cell ID =  421 progress bar below: (n/N frames):\n"
     ]
    },
    {
     "data": {
      "application/vnd.jupyter.widget-view+json": {
       "model_id": "87885315226243c08ad13c614b7cdb89",
       "version_major": 2,
       "version_minor": 0
      },
      "text/plain": [
       "HBox(children=(FloatProgress(value=0.0, max=25.0), HTML(value='')))"
      ]
     },
     "metadata": {},
     "output_type": "display_data"
    },
    {
     "name": "stdout",
     "output_type": "stream",
     "text": [
      "\n",
      "cell ID =  422 progress bar below: (n/N frames):\n"
     ]
    },
    {
     "data": {
      "application/vnd.jupyter.widget-view+json": {
       "model_id": "8b9fa9228dd14e2bbfb7d7cebd4427f9",
       "version_major": 2,
       "version_minor": 0
      },
      "text/plain": [
       "HBox(children=(FloatProgress(value=0.0, max=39.0), HTML(value='')))"
      ]
     },
     "metadata": {},
     "output_type": "display_data"
    },
    {
     "name": "stdout",
     "output_type": "stream",
     "text": [
      "\n",
      "cell ID =  424 progress bar below: (n/N frames):\n"
     ]
    },
    {
     "data": {
      "application/vnd.jupyter.widget-view+json": {
       "model_id": "224105dc84034070b1bd1aab972b9c5d",
       "version_major": 2,
       "version_minor": 0
      },
      "text/plain": [
       "HBox(children=(FloatProgress(value=0.0, max=5.0), HTML(value='')))"
      ]
     },
     "metadata": {},
     "output_type": "display_data"
    },
    {
     "name": "stdout",
     "output_type": "stream",
     "text": [
      "\n",
      "cell ID =  428 progress bar below: (n/N frames):\n"
     ]
    },
    {
     "data": {
      "application/vnd.jupyter.widget-view+json": {
       "model_id": "03f2359639d546fe86a56854856a967d",
       "version_major": 2,
       "version_minor": 0
      },
      "text/plain": [
       "HBox(children=(FloatProgress(value=0.0, max=8.0), HTML(value='')))"
      ]
     },
     "metadata": {},
     "output_type": "display_data"
    },
    {
     "name": "stdout",
     "output_type": "stream",
     "text": [
      "\n",
      "cell ID =  429 progress bar below: (n/N frames):\n"
     ]
    },
    {
     "data": {
      "application/vnd.jupyter.widget-view+json": {
       "model_id": "4ab73917c9d0497496512ab9690a8b39",
       "version_major": 2,
       "version_minor": 0
      },
      "text/plain": [
       "HBox(children=(FloatProgress(value=0.0, max=466.0), HTML(value='')))"
      ]
     },
     "metadata": {},
     "output_type": "display_data"
    },
    {
     "name": "stdout",
     "output_type": "stream",
     "text": [
      "\n",
      "cell ID =  434 progress bar below: (n/N frames):\n"
     ]
    },
    {
     "data": {
      "application/vnd.jupyter.widget-view+json": {
       "model_id": "58c98e3fb8324b33a6c5d3869d8a2802",
       "version_major": 2,
       "version_minor": 0
      },
      "text/plain": [
       "HBox(children=(FloatProgress(value=0.0, max=41.0), HTML(value='')))"
      ]
     },
     "metadata": {},
     "output_type": "display_data"
    },
    {
     "name": "stdout",
     "output_type": "stream",
     "text": [
      "\n",
      "cell ID =  435 progress bar below: (n/N frames):\n"
     ]
    },
    {
     "data": {
      "application/vnd.jupyter.widget-view+json": {
       "model_id": "9f10a38cf11341df9a83b017b1e80254",
       "version_major": 2,
       "version_minor": 0
      },
      "text/plain": [
       "HBox(children=(FloatProgress(value=0.0, max=392.0), HTML(value='')))"
      ]
     },
     "metadata": {},
     "output_type": "display_data"
    },
    {
     "name": "stdout",
     "output_type": "stream",
     "text": [
      "\n",
      "cell ID =  430 progress bar below: (n/N frames):\n"
     ]
    },
    {
     "data": {
      "application/vnd.jupyter.widget-view+json": {
       "model_id": "75da634d613b4bf1937e6c9e5028330b",
       "version_major": 2,
       "version_minor": 0
      },
      "text/plain": [
       "HBox(children=(FloatProgress(value=0.0, max=3.0), HTML(value='')))"
      ]
     },
     "metadata": {},
     "output_type": "display_data"
    },
    {
     "name": "stdout",
     "output_type": "stream",
     "text": [
      "\n",
      "cell ID =  432 progress bar below: (n/N frames):\n"
     ]
    },
    {
     "data": {
      "application/vnd.jupyter.widget-view+json": {
       "model_id": "353f93aaee904957acb8393811f7f83a",
       "version_major": 2,
       "version_minor": 0
      },
      "text/plain": [
       "HBox(children=(FloatProgress(value=0.0, max=466.0), HTML(value='')))"
      ]
     },
     "metadata": {},
     "output_type": "display_data"
    },
    {
     "name": "stdout",
     "output_type": "stream",
     "text": [
      "\n",
      "cell ID =  433 progress bar below: (n/N frames):\n"
     ]
    },
    {
     "data": {
      "application/vnd.jupyter.widget-view+json": {
       "model_id": "292c675a9a5c4fa384034efde5b88da7",
       "version_major": 2,
       "version_minor": 0
      },
      "text/plain": [
       "HBox(children=(FloatProgress(value=0.0, max=6.0), HTML(value='')))"
      ]
     },
     "metadata": {},
     "output_type": "display_data"
    },
    {
     "name": "stdout",
     "output_type": "stream",
     "text": [
      "\n",
      "cell ID =  431 progress bar below: (n/N frames):\n"
     ]
    },
    {
     "data": {
      "application/vnd.jupyter.widget-view+json": {
       "model_id": "74075414f10c44b5b630f53548915a54",
       "version_major": 2,
       "version_minor": 0
      },
      "text/plain": [
       "HBox(children=(FloatProgress(value=0.0, max=498.0), HTML(value='')))"
      ]
     },
     "metadata": {},
     "output_type": "display_data"
    },
    {
     "name": "stdout",
     "output_type": "stream",
     "text": [
      "\n",
      "cell ID =  437 progress bar below: (n/N frames):\n"
     ]
    },
    {
     "data": {
      "application/vnd.jupyter.widget-view+json": {
       "model_id": "4ae3fefef17b4561a0ad73472b0c8385",
       "version_major": 2,
       "version_minor": 0
      },
      "text/plain": [
       "HBox(children=(FloatProgress(value=0.0, max=3.0), HTML(value='')))"
      ]
     },
     "metadata": {},
     "output_type": "display_data"
    },
    {
     "name": "stdout",
     "output_type": "stream",
     "text": [
      "\n",
      "cell ID =  438 progress bar below: (n/N frames):\n"
     ]
    },
    {
     "data": {
      "application/vnd.jupyter.widget-view+json": {
       "model_id": "2a08ced5d60542f8947ffda872be78db",
       "version_major": 2,
       "version_minor": 0
      },
      "text/plain": [
       "HBox(children=(FloatProgress(value=0.0, max=30.0), HTML(value='')))"
      ]
     },
     "metadata": {},
     "output_type": "display_data"
    },
    {
     "name": "stdout",
     "output_type": "stream",
     "text": [
      "\n",
      "cell ID =  439 progress bar below: (n/N frames):\n"
     ]
    },
    {
     "data": {
      "application/vnd.jupyter.widget-view+json": {
       "model_id": "c873c7828d7e4f87885fed7fa5410335",
       "version_major": 2,
       "version_minor": 0
      },
      "text/plain": [
       "HBox(children=(FloatProgress(value=0.0, max=535.0), HTML(value='')))"
      ]
     },
     "metadata": {},
     "output_type": "display_data"
    },
    {
     "name": "stdout",
     "output_type": "stream",
     "text": [
      "\n",
      "cell ID =  440 progress bar below: (n/N frames):\n"
     ]
    },
    {
     "data": {
      "application/vnd.jupyter.widget-view+json": {
       "model_id": "b0ecbf4d84b04216af53ad190e680651",
       "version_major": 2,
       "version_minor": 0
      },
      "text/plain": [
       "HBox(children=(FloatProgress(value=0.0, max=3.0), HTML(value='')))"
      ]
     },
     "metadata": {},
     "output_type": "display_data"
    },
    {
     "name": "stdout",
     "output_type": "stream",
     "text": [
      "\n",
      "cell ID =  441 progress bar below: (n/N frames):\n"
     ]
    },
    {
     "data": {
      "application/vnd.jupyter.widget-view+json": {
       "model_id": "8eaa8afee46d4578b8883b0db9169fe9",
       "version_major": 2,
       "version_minor": 0
      },
      "text/plain": [
       "HBox(children=(FloatProgress(value=0.0, max=938.0), HTML(value='')))"
      ]
     },
     "metadata": {},
     "output_type": "display_data"
    },
    {
     "name": "stdout",
     "output_type": "stream",
     "text": [
      "\n",
      "cell ID =  442 progress bar below: (n/N frames):\n"
     ]
    },
    {
     "data": {
      "application/vnd.jupyter.widget-view+json": {
       "model_id": "16586c3119094257b73c0bae8dbc2d64",
       "version_major": 2,
       "version_minor": 0
      },
      "text/plain": [
       "HBox(children=(FloatProgress(value=0.0, max=152.0), HTML(value='')))"
      ]
     },
     "metadata": {},
     "output_type": "display_data"
    },
    {
     "name": "stdout",
     "output_type": "stream",
     "text": [
      "\n",
      "cell ID =  444 progress bar below: (n/N frames):\n"
     ]
    },
    {
     "data": {
      "application/vnd.jupyter.widget-view+json": {
       "model_id": "4fc109fdd3db4754a40d0fb1f6b81828",
       "version_major": 2,
       "version_minor": 0
      },
      "text/plain": [
       "HBox(children=(FloatProgress(value=0.0, max=4.0), HTML(value='')))"
      ]
     },
     "metadata": {},
     "output_type": "display_data"
    },
    {
     "name": "stdout",
     "output_type": "stream",
     "text": [
      "\n",
      "cell ID =  445 progress bar below: (n/N frames):\n"
     ]
    },
    {
     "data": {
      "application/vnd.jupyter.widget-view+json": {
       "model_id": "c3448c8cc7b54d6494b9a61c482a8e05",
       "version_major": 2,
       "version_minor": 0
      },
      "text/plain": [
       "HBox(children=(FloatProgress(value=0.0, max=493.0), HTML(value='')))"
      ]
     },
     "metadata": {},
     "output_type": "display_data"
    },
    {
     "name": "stdout",
     "output_type": "stream",
     "text": [
      "\n",
      "cell ID =  446 progress bar below: (n/N frames):\n"
     ]
    },
    {
     "data": {
      "application/vnd.jupyter.widget-view+json": {
       "model_id": "3d9aaf0aabfa465083494983e8cba7eb",
       "version_major": 2,
       "version_minor": 0
      },
      "text/plain": [
       "HBox(children=(FloatProgress(value=0.0, max=526.0), HTML(value='')))"
      ]
     },
     "metadata": {},
     "output_type": "display_data"
    },
    {
     "name": "stdout",
     "output_type": "stream",
     "text": [
      "\n",
      "cell ID =  447 progress bar below: (n/N frames):\n"
     ]
    },
    {
     "data": {
      "application/vnd.jupyter.widget-view+json": {
       "model_id": "883d0425db0f4cc09cd717bdd8559e81",
       "version_major": 2,
       "version_minor": 0
      },
      "text/plain": [
       "HBox(children=(FloatProgress(value=0.0, max=245.0), HTML(value='')))"
      ]
     },
     "metadata": {},
     "output_type": "display_data"
    },
    {
     "name": "stdout",
     "output_type": "stream",
     "text": [
      "\n",
      "cell ID =  448 progress bar below: (n/N frames):\n"
     ]
    },
    {
     "data": {
      "application/vnd.jupyter.widget-view+json": {
       "model_id": "50ecd441c62c4a898d5086772286bec5",
       "version_major": 2,
       "version_minor": 0
      },
      "text/plain": [
       "HBox(children=(FloatProgress(value=0.0, max=527.0), HTML(value='')))"
      ]
     },
     "metadata": {},
     "output_type": "display_data"
    },
    {
     "name": "stdout",
     "output_type": "stream",
     "text": [
      "\n",
      "cell ID =  449 progress bar below: (n/N frames):\n"
     ]
    },
    {
     "data": {
      "application/vnd.jupyter.widget-view+json": {
       "model_id": "27ff8157cdb04c1995fa6518249f9cd2",
       "version_major": 2,
       "version_minor": 0
      },
      "text/plain": [
       "HBox(children=(FloatProgress(value=0.0, max=440.0), HTML(value='')))"
      ]
     },
     "metadata": {},
     "output_type": "display_data"
    },
    {
     "name": "stdout",
     "output_type": "stream",
     "text": [
      "\n",
      "cell ID =  451 progress bar below: (n/N frames):\n"
     ]
    },
    {
     "data": {
      "application/vnd.jupyter.widget-view+json": {
       "model_id": "668ca1459f97483f960d5e9b2c0ebf6f",
       "version_major": 2,
       "version_minor": 0
      },
      "text/plain": [
       "HBox(children=(FloatProgress(value=0.0, max=532.0), HTML(value='')))"
      ]
     },
     "metadata": {},
     "output_type": "display_data"
    },
    {
     "name": "stdout",
     "output_type": "stream",
     "text": [
      "\n",
      "cell ID =  456 progress bar below: (n/N frames):\n"
     ]
    },
    {
     "data": {
      "application/vnd.jupyter.widget-view+json": {
       "model_id": "389a1cfd1e6f4f2fa39b513fb3b516af",
       "version_major": 2,
       "version_minor": 0
      },
      "text/plain": [
       "HBox(children=(FloatProgress(value=0.0, max=8.0), HTML(value='')))"
      ]
     },
     "metadata": {},
     "output_type": "display_data"
    },
    {
     "name": "stdout",
     "output_type": "stream",
     "text": [
      "\n",
      "cell ID =  457 progress bar below: (n/N frames):\n"
     ]
    },
    {
     "data": {
      "application/vnd.jupyter.widget-view+json": {
       "model_id": "1d316c99a7054269917f4c4aa618f679",
       "version_major": 2,
       "version_minor": 0
      },
      "text/plain": [
       "HBox(children=(FloatProgress(value=0.0, max=7.0), HTML(value='')))"
      ]
     },
     "metadata": {},
     "output_type": "display_data"
    },
    {
     "name": "stdout",
     "output_type": "stream",
     "text": [
      "\n",
      "cell ID =  458 progress bar below: (n/N frames):\n"
     ]
    },
    {
     "data": {
      "application/vnd.jupyter.widget-view+json": {
       "model_id": "32e2420925a3488f9906fb794d516911",
       "version_major": 2,
       "version_minor": 0
      },
      "text/plain": [
       "HBox(children=(FloatProgress(value=0.0, max=577.0), HTML(value='')))"
      ]
     },
     "metadata": {},
     "output_type": "display_data"
    },
    {
     "name": "stdout",
     "output_type": "stream",
     "text": [
      "\n",
      "cell ID =  459 progress bar below: (n/N frames):\n"
     ]
    },
    {
     "data": {
      "application/vnd.jupyter.widget-view+json": {
       "model_id": "ce3acdb66dcf4ea1a92e8e55ad5e6b55",
       "version_major": 2,
       "version_minor": 0
      },
      "text/plain": [
       "HBox(children=(FloatProgress(value=0.0, max=6.0), HTML(value='')))"
      ]
     },
     "metadata": {},
     "output_type": "display_data"
    },
    {
     "name": "stdout",
     "output_type": "stream",
     "text": [
      "\n",
      "cell ID =  460 progress bar below: (n/N frames):\n"
     ]
    },
    {
     "data": {
      "application/vnd.jupyter.widget-view+json": {
       "model_id": "266f7a0f2ffa4693938cb9ddd3c9953a",
       "version_major": 2,
       "version_minor": 0
      },
      "text/plain": [
       "HBox(children=(FloatProgress(value=0.0, max=128.0), HTML(value='')))"
      ]
     },
     "metadata": {},
     "output_type": "display_data"
    },
    {
     "name": "stdout",
     "output_type": "stream",
     "text": [
      "\n",
      "cell ID =  461 progress bar below: (n/N frames):\n"
     ]
    },
    {
     "data": {
      "application/vnd.jupyter.widget-view+json": {
       "model_id": "b4b5f29ea419407fb0ebd2b13c775c66",
       "version_major": 2,
       "version_minor": 0
      },
      "text/plain": [
       "HBox(children=(FloatProgress(value=0.0, max=357.0), HTML(value='')))"
      ]
     },
     "metadata": {},
     "output_type": "display_data"
    },
    {
     "name": "stdout",
     "output_type": "stream",
     "text": [
      "\n",
      "cell ID =  462 progress bar below: (n/N frames):\n"
     ]
    },
    {
     "data": {
      "application/vnd.jupyter.widget-view+json": {
       "model_id": "b262aecfcb18494d80011679cf17b68b",
       "version_major": 2,
       "version_minor": 0
      },
      "text/plain": [
       "HBox(children=(FloatProgress(value=0.0, max=27.0), HTML(value='')))"
      ]
     },
     "metadata": {},
     "output_type": "display_data"
    },
    {
     "name": "stdout",
     "output_type": "stream",
     "text": [
      "\n",
      "cell ID =  464 progress bar below: (n/N frames):\n"
     ]
    },
    {
     "data": {
      "application/vnd.jupyter.widget-view+json": {
       "model_id": "25fc57d8858942f6a9fba2b9185ebce5",
       "version_major": 2,
       "version_minor": 0
      },
      "text/plain": [
       "HBox(children=(FloatProgress(value=0.0, max=137.0), HTML(value='')))"
      ]
     },
     "metadata": {},
     "output_type": "display_data"
    },
    {
     "name": "stdout",
     "output_type": "stream",
     "text": [
      "\n",
      "cell ID =  465 progress bar below: (n/N frames):\n"
     ]
    },
    {
     "data": {
      "application/vnd.jupyter.widget-view+json": {
       "model_id": "d90562facca542cca88db8757ddb1016",
       "version_major": 2,
       "version_minor": 0
      },
      "text/plain": [
       "HBox(children=(FloatProgress(value=0.0, max=445.0), HTML(value='')))"
      ]
     },
     "metadata": {},
     "output_type": "display_data"
    },
    {
     "name": "stdout",
     "output_type": "stream",
     "text": [
      "\n",
      "cell ID =  466 progress bar below: (n/N frames):\n"
     ]
    },
    {
     "data": {
      "application/vnd.jupyter.widget-view+json": {
       "model_id": "0f2ff5c27f684ed6b3e8fc9baeb6fa48",
       "version_major": 2,
       "version_minor": 0
      },
      "text/plain": [
       "HBox(children=(FloatProgress(value=0.0, max=4.0), HTML(value='')))"
      ]
     },
     "metadata": {},
     "output_type": "display_data"
    },
    {
     "name": "stdout",
     "output_type": "stream",
     "text": [
      "\n",
      "cell ID =  468 progress bar below: (n/N frames):\n"
     ]
    },
    {
     "data": {
      "application/vnd.jupyter.widget-view+json": {
       "model_id": "06ba6527c0264f44a6d3ace8142da4ef",
       "version_major": 2,
       "version_minor": 0
      },
      "text/plain": [
       "HBox(children=(FloatProgress(value=0.0, max=42.0), HTML(value='')))"
      ]
     },
     "metadata": {},
     "output_type": "display_data"
    },
    {
     "name": "stdout",
     "output_type": "stream",
     "text": [
      "\n",
      "cell ID =  469 progress bar below: (n/N frames):\n"
     ]
    },
    {
     "data": {
      "application/vnd.jupyter.widget-view+json": {
       "model_id": "f1d7e95dfe7145caa95449b745b637f9",
       "version_major": 2,
       "version_minor": 0
      },
      "text/plain": [
       "HBox(children=(FloatProgress(value=0.0, max=2.0), HTML(value='')))"
      ]
     },
     "metadata": {},
     "output_type": "display_data"
    },
    {
     "name": "stdout",
     "output_type": "stream",
     "text": [
      "\n",
      "cell ID =  470 progress bar below: (n/N frames):\n"
     ]
    },
    {
     "data": {
      "application/vnd.jupyter.widget-view+json": {
       "model_id": "3ad0ab183f9c41e3b5d02a602f0c977b",
       "version_major": 2,
       "version_minor": 0
      },
      "text/plain": [
       "HBox(children=(FloatProgress(value=0.0, max=26.0), HTML(value='')))"
      ]
     },
     "metadata": {},
     "output_type": "display_data"
    },
    {
     "name": "stdout",
     "output_type": "stream",
     "text": [
      "\n",
      "cell ID =  471 progress bar below: (n/N frames):\n"
     ]
    },
    {
     "data": {
      "application/vnd.jupyter.widget-view+json": {
       "model_id": "2233a129aef646d39b5b384e7052afc4",
       "version_major": 2,
       "version_minor": 0
      },
      "text/plain": [
       "HBox(children=(FloatProgress(value=0.0, max=124.0), HTML(value='')))"
      ]
     },
     "metadata": {},
     "output_type": "display_data"
    },
    {
     "name": "stdout",
     "output_type": "stream",
     "text": [
      "\n",
      "cell ID =  472 progress bar below: (n/N frames):\n"
     ]
    },
    {
     "data": {
      "application/vnd.jupyter.widget-view+json": {
       "model_id": "41918e726da848ccaeaf453d64e0286e",
       "version_major": 2,
       "version_minor": 0
      },
      "text/plain": [
       "HBox(children=(FloatProgress(value=0.0, max=36.0), HTML(value='')))"
      ]
     },
     "metadata": {},
     "output_type": "display_data"
    },
    {
     "name": "stdout",
     "output_type": "stream",
     "text": [
      "\n",
      "cell ID =  473 progress bar below: (n/N frames):\n"
     ]
    },
    {
     "data": {
      "application/vnd.jupyter.widget-view+json": {
       "model_id": "60655b46ad964d02aaf19bbf37242e77",
       "version_major": 2,
       "version_minor": 0
      },
      "text/plain": [
       "HBox(children=(FloatProgress(value=0.0, max=5.0), HTML(value='')))"
      ]
     },
     "metadata": {},
     "output_type": "display_data"
    },
    {
     "name": "stdout",
     "output_type": "stream",
     "text": [
      "\n",
      "cell ID =  475 progress bar below: (n/N frames):\n"
     ]
    },
    {
     "data": {
      "application/vnd.jupyter.widget-view+json": {
       "model_id": "ff61c29a8fcc41529a0a674c0e01ce5e",
       "version_major": 2,
       "version_minor": 0
      },
      "text/plain": [
       "HBox(children=(FloatProgress(value=0.0, max=36.0), HTML(value='')))"
      ]
     },
     "metadata": {},
     "output_type": "display_data"
    },
    {
     "name": "stdout",
     "output_type": "stream",
     "text": [
      "\n",
      "cell ID =  477 progress bar below: (n/N frames):\n"
     ]
    },
    {
     "data": {
      "application/vnd.jupyter.widget-view+json": {
       "model_id": "0a3bc389693345ecba197196d247a0f0",
       "version_major": 2,
       "version_minor": 0
      },
      "text/plain": [
       "HBox(children=(FloatProgress(value=0.0, max=543.0), HTML(value='')))"
      ]
     },
     "metadata": {},
     "output_type": "display_data"
    },
    {
     "name": "stdout",
     "output_type": "stream",
     "text": [
      "\n",
      "cell ID =  478 progress bar below: (n/N frames):\n"
     ]
    },
    {
     "data": {
      "application/vnd.jupyter.widget-view+json": {
       "model_id": "2b2c18f60e3647689ca6eec178f2d4cc",
       "version_major": 2,
       "version_minor": 0
      },
      "text/plain": [
       "HBox(children=(FloatProgress(value=0.0, max=193.0), HTML(value='')))"
      ]
     },
     "metadata": {},
     "output_type": "display_data"
    },
    {
     "name": "stdout",
     "output_type": "stream",
     "text": [
      "\n",
      "cell ID =  480 progress bar below: (n/N frames):\n"
     ]
    },
    {
     "data": {
      "application/vnd.jupyter.widget-view+json": {
       "model_id": "36c4ea145e7f4967aa577e7ea70fa5c5",
       "version_major": 2,
       "version_minor": 0
      },
      "text/plain": [
       "HBox(children=(FloatProgress(value=0.0, max=30.0), HTML(value='')))"
      ]
     },
     "metadata": {},
     "output_type": "display_data"
    },
    {
     "name": "stdout",
     "output_type": "stream",
     "text": [
      "\n",
      "cell ID =  482 progress bar below: (n/N frames):\n"
     ]
    },
    {
     "data": {
      "application/vnd.jupyter.widget-view+json": {
       "model_id": "4af58feaa8c5402a8577bd294247a2f3",
       "version_major": 2,
       "version_minor": 0
      },
      "text/plain": [
       "HBox(children=(FloatProgress(value=0.0, max=495.0), HTML(value='')))"
      ]
     },
     "metadata": {},
     "output_type": "display_data"
    },
    {
     "name": "stdout",
     "output_type": "stream",
     "text": [
      "\n",
      "cell ID =  483 progress bar below: (n/N frames):\n"
     ]
    },
    {
     "data": {
      "application/vnd.jupyter.widget-view+json": {
       "model_id": "cf556f62f02b423c8dfd78616b189457",
       "version_major": 2,
       "version_minor": 0
      },
      "text/plain": [
       "HBox(children=(FloatProgress(value=0.0, max=10.0), HTML(value='')))"
      ]
     },
     "metadata": {},
     "output_type": "display_data"
    },
    {
     "name": "stdout",
     "output_type": "stream",
     "text": [
      "\n",
      "cell ID =  484 progress bar below: (n/N frames):\n"
     ]
    },
    {
     "data": {
      "application/vnd.jupyter.widget-view+json": {
       "model_id": "a663fd6b6a20470ba0b933d2761fb7f6",
       "version_major": 2,
       "version_minor": 0
      },
      "text/plain": [
       "HBox(children=(FloatProgress(value=0.0, max=3.0), HTML(value='')))"
      ]
     },
     "metadata": {},
     "output_type": "display_data"
    },
    {
     "name": "stdout",
     "output_type": "stream",
     "text": [
      "\n",
      "cell ID =  485 progress bar below: (n/N frames):\n"
     ]
    },
    {
     "data": {
      "application/vnd.jupyter.widget-view+json": {
       "model_id": "50d94a25139c4a56b1e2b5eb970d1036",
       "version_major": 2,
       "version_minor": 0
      },
      "text/plain": [
       "HBox(children=(FloatProgress(value=0.0, max=189.0), HTML(value='')))"
      ]
     },
     "metadata": {},
     "output_type": "display_data"
    },
    {
     "name": "stdout",
     "output_type": "stream",
     "text": [
      "\n",
      "cell ID =  486 progress bar below: (n/N frames):\n"
     ]
    },
    {
     "data": {
      "application/vnd.jupyter.widget-view+json": {
       "model_id": "21a16cb6c9f24e68a50fcd35679fd829",
       "version_major": 2,
       "version_minor": 0
      },
      "text/plain": [
       "HBox(children=(FloatProgress(value=0.0, max=27.0), HTML(value='')))"
      ]
     },
     "metadata": {},
     "output_type": "display_data"
    },
    {
     "name": "stdout",
     "output_type": "stream",
     "text": [
      "\n",
      "cell ID =  487 progress bar below: (n/N frames):\n"
     ]
    },
    {
     "data": {
      "application/vnd.jupyter.widget-view+json": {
       "model_id": "4983f6d84a954ccb8af4c4eee5af342d",
       "version_major": 2,
       "version_minor": 0
      },
      "text/plain": [
       "HBox(children=(FloatProgress(value=0.0, max=2.0), HTML(value='')))"
      ]
     },
     "metadata": {},
     "output_type": "display_data"
    },
    {
     "name": "stdout",
     "output_type": "stream",
     "text": [
      "\n",
      "cell ID =  488 progress bar below: (n/N frames):\n"
     ]
    },
    {
     "data": {
      "application/vnd.jupyter.widget-view+json": {
       "model_id": "6347a9be0cca41b68ebf6dc00c76e816",
       "version_major": 2,
       "version_minor": 0
      },
      "text/plain": [
       "HBox(children=(FloatProgress(value=0.0, max=288.0), HTML(value='')))"
      ]
     },
     "metadata": {},
     "output_type": "display_data"
    },
    {
     "name": "stdout",
     "output_type": "stream",
     "text": [
      "\n",
      "cell ID =  489 progress bar below: (n/N frames):\n"
     ]
    },
    {
     "data": {
      "application/vnd.jupyter.widget-view+json": {
       "model_id": "af24d2e2a3024b1ba584c7964287bf15",
       "version_major": 2,
       "version_minor": 0
      },
      "text/plain": [
       "HBox(children=(FloatProgress(value=0.0, max=31.0), HTML(value='')))"
      ]
     },
     "metadata": {},
     "output_type": "display_data"
    },
    {
     "name": "stdout",
     "output_type": "stream",
     "text": [
      "\n",
      "cell ID =  490 progress bar below: (n/N frames):\n"
     ]
    },
    {
     "data": {
      "application/vnd.jupyter.widget-view+json": {
       "model_id": "7757cacb02454f618699934047609483",
       "version_major": 2,
       "version_minor": 0
      },
      "text/plain": [
       "HBox(children=(FloatProgress(value=0.0, max=60.0), HTML(value='')))"
      ]
     },
     "metadata": {},
     "output_type": "display_data"
    },
    {
     "name": "stdout",
     "output_type": "stream",
     "text": [
      "\n",
      "cell ID =  494 progress bar below: (n/N frames):\n"
     ]
    },
    {
     "data": {
      "application/vnd.jupyter.widget-view+json": {
       "model_id": "2429e59535c6409583d4e2085cb835d4",
       "version_major": 2,
       "version_minor": 0
      },
      "text/plain": [
       "HBox(children=(FloatProgress(value=0.0, max=19.0), HTML(value='')))"
      ]
     },
     "metadata": {},
     "output_type": "display_data"
    },
    {
     "name": "stdout",
     "output_type": "stream",
     "text": [
      "\n",
      "cell ID =  495 progress bar below: (n/N frames):\n"
     ]
    },
    {
     "data": {
      "application/vnd.jupyter.widget-view+json": {
       "model_id": "2dd1f5ecfdf94dfaa585418fd3728e00",
       "version_major": 2,
       "version_minor": 0
      },
      "text/plain": [
       "HBox(children=(FloatProgress(value=0.0, max=3.0), HTML(value='')))"
      ]
     },
     "metadata": {},
     "output_type": "display_data"
    },
    {
     "name": "stdout",
     "output_type": "stream",
     "text": [
      "\n",
      "cell ID =  496 progress bar below: (n/N frames):\n"
     ]
    },
    {
     "data": {
      "application/vnd.jupyter.widget-view+json": {
       "model_id": "d8c6a622bf7a47e1a091c7109f68a598",
       "version_major": 2,
       "version_minor": 0
      },
      "text/plain": [
       "HBox(children=(FloatProgress(value=0.0, max=3.0), HTML(value='')))"
      ]
     },
     "metadata": {},
     "output_type": "display_data"
    },
    {
     "name": "stdout",
     "output_type": "stream",
     "text": [
      "\n",
      "cell ID =  500 progress bar below: (n/N frames):\n"
     ]
    },
    {
     "data": {
      "application/vnd.jupyter.widget-view+json": {
       "model_id": "1bf8a994ccab4bca950bf8fe87079524",
       "version_major": 2,
       "version_minor": 0
      },
      "text/plain": [
       "HBox(children=(FloatProgress(value=0.0, max=24.0), HTML(value='')))"
      ]
     },
     "metadata": {},
     "output_type": "display_data"
    },
    {
     "name": "stdout",
     "output_type": "stream",
     "text": [
      "\n",
      "cell ID =  499 progress bar below: (n/N frames):\n"
     ]
    },
    {
     "data": {
      "application/vnd.jupyter.widget-view+json": {
       "model_id": "ede894983d984014b91d0582d5ced00e",
       "version_major": 2,
       "version_minor": 0
      },
      "text/plain": [
       "HBox(children=(FloatProgress(value=0.0, max=57.0), HTML(value='')))"
      ]
     },
     "metadata": {},
     "output_type": "display_data"
    },
    {
     "name": "stdout",
     "output_type": "stream",
     "text": [
      "\n",
      "cell ID =  498 progress bar below: (n/N frames):\n"
     ]
    },
    {
     "data": {
      "application/vnd.jupyter.widget-view+json": {
       "model_id": "a19b60b62b984c10819649217ea7a48e",
       "version_major": 2,
       "version_minor": 0
      },
      "text/plain": [
       "HBox(children=(FloatProgress(value=0.0, max=2.0), HTML(value='')))"
      ]
     },
     "metadata": {},
     "output_type": "display_data"
    },
    {
     "name": "stdout",
     "output_type": "stream",
     "text": [
      "\n",
      "cell ID =  503 progress bar below: (n/N frames):\n"
     ]
    },
    {
     "data": {
      "application/vnd.jupyter.widget-view+json": {
       "model_id": "e11baa0fa3454468bb2ca350933ca276",
       "version_major": 2,
       "version_minor": 0
      },
      "text/plain": [
       "HBox(children=(FloatProgress(value=0.0, max=756.0), HTML(value='')))"
      ]
     },
     "metadata": {},
     "output_type": "display_data"
    },
    {
     "name": "stdout",
     "output_type": "stream",
     "text": [
      "\n",
      "cell ID =  504 progress bar below: (n/N frames):\n"
     ]
    },
    {
     "data": {
      "application/vnd.jupyter.widget-view+json": {
       "model_id": "31323cdfe1e647d683494fadbeaf9dfe",
       "version_major": 2,
       "version_minor": 0
      },
      "text/plain": [
       "HBox(children=(FloatProgress(value=0.0, max=15.0), HTML(value='')))"
      ]
     },
     "metadata": {},
     "output_type": "display_data"
    },
    {
     "name": "stdout",
     "output_type": "stream",
     "text": [
      "\n",
      "cell ID =  505 progress bar below: (n/N frames):\n"
     ]
    },
    {
     "data": {
      "application/vnd.jupyter.widget-view+json": {
       "model_id": "a57e31494a644841b925e8e446eab758",
       "version_major": 2,
       "version_minor": 0
      },
      "text/plain": [
       "HBox(children=(FloatProgress(value=0.0, max=3.0), HTML(value='')))"
      ]
     },
     "metadata": {},
     "output_type": "display_data"
    },
    {
     "name": "stdout",
     "output_type": "stream",
     "text": [
      "\n",
      "cell ID =  507 progress bar below: (n/N frames):\n"
     ]
    },
    {
     "data": {
      "application/vnd.jupyter.widget-view+json": {
       "model_id": "466b9ef2f6d54125bec441d17e656347",
       "version_major": 2,
       "version_minor": 0
      },
      "text/plain": [
       "HBox(children=(FloatProgress(value=0.0, max=167.0), HTML(value='')))"
      ]
     },
     "metadata": {},
     "output_type": "display_data"
    },
    {
     "name": "stdout",
     "output_type": "stream",
     "text": [
      "\n",
      "cell ID =  508 progress bar below: (n/N frames):\n"
     ]
    },
    {
     "data": {
      "application/vnd.jupyter.widget-view+json": {
       "model_id": "4f2cc12171fa494395dadef45974f7cf",
       "version_major": 2,
       "version_minor": 0
      },
      "text/plain": [
       "HBox(children=(FloatProgress(value=0.0, max=4.0), HTML(value='')))"
      ]
     },
     "metadata": {},
     "output_type": "display_data"
    },
    {
     "name": "stdout",
     "output_type": "stream",
     "text": [
      "\n",
      "cell ID =  509 progress bar below: (n/N frames):\n"
     ]
    },
    {
     "data": {
      "application/vnd.jupyter.widget-view+json": {
       "model_id": "7280c4181ad74e3fbebea0486b792a79",
       "version_major": 2,
       "version_minor": 0
      },
      "text/plain": [
       "HBox(children=(FloatProgress(value=0.0, max=303.0), HTML(value='')))"
      ]
     },
     "metadata": {},
     "output_type": "display_data"
    },
    {
     "name": "stdout",
     "output_type": "stream",
     "text": [
      "\n",
      "cell ID =  510 progress bar below: (n/N frames):\n"
     ]
    },
    {
     "data": {
      "application/vnd.jupyter.widget-view+json": {
       "model_id": "fc834db5db654c6d8d53b047d7b816fe",
       "version_major": 2,
       "version_minor": 0
      },
      "text/plain": [
       "HBox(children=(FloatProgress(value=0.0, max=12.0), HTML(value='')))"
      ]
     },
     "metadata": {},
     "output_type": "display_data"
    },
    {
     "name": "stdout",
     "output_type": "stream",
     "text": [
      "\n",
      "cell ID =  511 progress bar below: (n/N frames):\n"
     ]
    },
    {
     "data": {
      "application/vnd.jupyter.widget-view+json": {
       "model_id": "e3891436490d4bf0b1e0d500ea6669e7",
       "version_major": 2,
       "version_minor": 0
      },
      "text/plain": [
       "HBox(children=(FloatProgress(value=0.0, max=3.0), HTML(value='')))"
      ]
     },
     "metadata": {},
     "output_type": "display_data"
    },
    {
     "name": "stdout",
     "output_type": "stream",
     "text": [
      "\n",
      "cell ID =  512 progress bar below: (n/N frames):\n"
     ]
    },
    {
     "data": {
      "application/vnd.jupyter.widget-view+json": {
       "model_id": "8123c7d3c6074a1dafe5600c2df641a7",
       "version_major": 2,
       "version_minor": 0
      },
      "text/plain": [
       "HBox(children=(FloatProgress(value=0.0, max=4.0), HTML(value='')))"
      ]
     },
     "metadata": {},
     "output_type": "display_data"
    },
    {
     "name": "stdout",
     "output_type": "stream",
     "text": [
      "\n",
      "cell ID =  513 progress bar below: (n/N frames):\n"
     ]
    },
    {
     "data": {
      "application/vnd.jupyter.widget-view+json": {
       "model_id": "3e9f16c6ea184c7cb6b5bdcaab7b36df",
       "version_major": 2,
       "version_minor": 0
      },
      "text/plain": [
       "HBox(children=(FloatProgress(value=0.0, max=513.0), HTML(value='')))"
      ]
     },
     "metadata": {},
     "output_type": "display_data"
    },
    {
     "name": "stdout",
     "output_type": "stream",
     "text": [
      "\n",
      "cell ID =  514 progress bar below: (n/N frames):\n"
     ]
    },
    {
     "data": {
      "application/vnd.jupyter.widget-view+json": {
       "model_id": "c329b7e2c4af4e66b8893f8856941e3e",
       "version_major": 2,
       "version_minor": 0
      },
      "text/plain": [
       "HBox(children=(FloatProgress(value=0.0, max=33.0), HTML(value='')))"
      ]
     },
     "metadata": {},
     "output_type": "display_data"
    },
    {
     "name": "stdout",
     "output_type": "stream",
     "text": [
      "\n",
      "cell ID =  517 progress bar below: (n/N frames):\n"
     ]
    },
    {
     "data": {
      "application/vnd.jupyter.widget-view+json": {
       "model_id": "e1689c7c188c4cfeadb6a5b0ba072953",
       "version_major": 2,
       "version_minor": 0
      },
      "text/plain": [
       "HBox(children=(FloatProgress(value=0.0, max=55.0), HTML(value='')))"
      ]
     },
     "metadata": {},
     "output_type": "display_data"
    },
    {
     "name": "stdout",
     "output_type": "stream",
     "text": [
      "\n",
      "cell ID =  518 progress bar below: (n/N frames):\n"
     ]
    },
    {
     "data": {
      "application/vnd.jupyter.widget-view+json": {
       "model_id": "1e5688a2947f432fbaddfdf650e29d28",
       "version_major": 2,
       "version_minor": 0
      },
      "text/plain": [
       "HBox(children=(FloatProgress(value=0.0, max=4.0), HTML(value='')))"
      ]
     },
     "metadata": {},
     "output_type": "display_data"
    },
    {
     "name": "stdout",
     "output_type": "stream",
     "text": [
      "\n",
      "cell ID =  516 progress bar below: (n/N frames):\n"
     ]
    },
    {
     "data": {
      "application/vnd.jupyter.widget-view+json": {
       "model_id": "45fc71daed094b7692726f179f2e5483",
       "version_major": 2,
       "version_minor": 0
      },
      "text/plain": [
       "HBox(children=(FloatProgress(value=0.0, max=76.0), HTML(value='')))"
      ]
     },
     "metadata": {},
     "output_type": "display_data"
    },
    {
     "name": "stdout",
     "output_type": "stream",
     "text": [
      "\n",
      "cell ID =  515 progress bar below: (n/N frames):\n"
     ]
    },
    {
     "data": {
      "application/vnd.jupyter.widget-view+json": {
       "model_id": "f1852663411342f29007d2262b5372ac",
       "version_major": 2,
       "version_minor": 0
      },
      "text/plain": [
       "HBox(children=(FloatProgress(value=0.0, max=56.0), HTML(value='')))"
      ]
     },
     "metadata": {},
     "output_type": "display_data"
    },
    {
     "name": "stdout",
     "output_type": "stream",
     "text": [
      "\n",
      "cell ID =  519 progress bar below: (n/N frames):\n"
     ]
    },
    {
     "data": {
      "application/vnd.jupyter.widget-view+json": {
       "model_id": "02f6cfa52e054001b259e830b8733c25",
       "version_major": 2,
       "version_minor": 0
      },
      "text/plain": [
       "HBox(children=(FloatProgress(value=0.0, max=4.0), HTML(value='')))"
      ]
     },
     "metadata": {},
     "output_type": "display_data"
    },
    {
     "name": "stdout",
     "output_type": "stream",
     "text": [
      "\n",
      "cell ID =  520 progress bar below: (n/N frames):\n"
     ]
    },
    {
     "data": {
      "application/vnd.jupyter.widget-view+json": {
       "model_id": "0840567ce5d0469fa3fec9a40c201c9c",
       "version_major": 2,
       "version_minor": 0
      },
      "text/plain": [
       "HBox(children=(FloatProgress(value=0.0, max=46.0), HTML(value='')))"
      ]
     },
     "metadata": {},
     "output_type": "display_data"
    },
    {
     "name": "stdout",
     "output_type": "stream",
     "text": [
      "\n",
      "cell ID =  521 progress bar below: (n/N frames):\n"
     ]
    },
    {
     "data": {
      "application/vnd.jupyter.widget-view+json": {
       "model_id": "b82e212fe7f84852a277f4bc7dcf54e5",
       "version_major": 2,
       "version_minor": 0
      },
      "text/plain": [
       "HBox(children=(FloatProgress(value=0.0, max=7.0), HTML(value='')))"
      ]
     },
     "metadata": {},
     "output_type": "display_data"
    },
    {
     "name": "stdout",
     "output_type": "stream",
     "text": [
      "\n",
      "cell ID =  522 progress bar below: (n/N frames):\n"
     ]
    },
    {
     "data": {
      "application/vnd.jupyter.widget-view+json": {
       "model_id": "e29542c6c7d640b2872f3dd54e28b98c",
       "version_major": 2,
       "version_minor": 0
      },
      "text/plain": [
       "HBox(children=(FloatProgress(value=0.0, max=16.0), HTML(value='')))"
      ]
     },
     "metadata": {},
     "output_type": "display_data"
    },
    {
     "name": "stdout",
     "output_type": "stream",
     "text": [
      "\n",
      "cell ID =  524 progress bar below: (n/N frames):\n"
     ]
    },
    {
     "data": {
      "application/vnd.jupyter.widget-view+json": {
       "model_id": "5f59647423ab461ca15e015881f264a6",
       "version_major": 2,
       "version_minor": 0
      },
      "text/plain": [
       "HBox(children=(FloatProgress(value=0.0, max=379.0), HTML(value='')))"
      ]
     },
     "metadata": {},
     "output_type": "display_data"
    },
    {
     "name": "stdout",
     "output_type": "stream",
     "text": [
      "\n",
      "cell ID =  525 progress bar below: (n/N frames):\n"
     ]
    },
    {
     "data": {
      "application/vnd.jupyter.widget-view+json": {
       "model_id": "d1f638a367684a04a596bd1ef0918f9c",
       "version_major": 2,
       "version_minor": 0
      },
      "text/plain": [
       "HBox(children=(FloatProgress(value=0.0, max=4.0), HTML(value='')))"
      ]
     },
     "metadata": {},
     "output_type": "display_data"
    },
    {
     "name": "stdout",
     "output_type": "stream",
     "text": [
      "\n",
      "cell ID =  526 progress bar below: (n/N frames):\n"
     ]
    },
    {
     "data": {
      "application/vnd.jupyter.widget-view+json": {
       "model_id": "3b5f3f9b19fc411c89cca2cbd169686c",
       "version_major": 2,
       "version_minor": 0
      },
      "text/plain": [
       "HBox(children=(FloatProgress(value=0.0, max=5.0), HTML(value='')))"
      ]
     },
     "metadata": {},
     "output_type": "display_data"
    },
    {
     "name": "stdout",
     "output_type": "stream",
     "text": [
      "\n",
      "cell ID =  528 progress bar below: (n/N frames):\n"
     ]
    },
    {
     "data": {
      "application/vnd.jupyter.widget-view+json": {
       "model_id": "b42e14b3e5694ff69c47590a95867b7d",
       "version_major": 2,
       "version_minor": 0
      },
      "text/plain": [
       "HBox(children=(FloatProgress(value=0.0, max=44.0), HTML(value='')))"
      ]
     },
     "metadata": {},
     "output_type": "display_data"
    },
    {
     "name": "stdout",
     "output_type": "stream",
     "text": [
      "\n",
      "cell ID =  529 progress bar below: (n/N frames):\n"
     ]
    },
    {
     "data": {
      "application/vnd.jupyter.widget-view+json": {
       "model_id": "4da105b2960d4d188f135500b303515c",
       "version_major": 2,
       "version_minor": 0
      },
      "text/plain": [
       "HBox(children=(FloatProgress(value=0.0, max=20.0), HTML(value='')))"
      ]
     },
     "metadata": {},
     "output_type": "display_data"
    },
    {
     "name": "stdout",
     "output_type": "stream",
     "text": [
      "\n",
      "cell ID =  533 progress bar below: (n/N frames):\n"
     ]
    },
    {
     "data": {
      "application/vnd.jupyter.widget-view+json": {
       "model_id": "6321b9feba504c1e88f1b9483d431302",
       "version_major": 2,
       "version_minor": 0
      },
      "text/plain": [
       "HBox(children=(FloatProgress(value=0.0, max=2.0), HTML(value='')))"
      ]
     },
     "metadata": {},
     "output_type": "display_data"
    },
    {
     "name": "stdout",
     "output_type": "stream",
     "text": [
      "\n",
      "cell ID =  534 progress bar below: (n/N frames):\n"
     ]
    },
    {
     "data": {
      "application/vnd.jupyter.widget-view+json": {
       "model_id": "3396c8c2f057495fa2f8d0bb57c31cc7",
       "version_major": 2,
       "version_minor": 0
      },
      "text/plain": [
       "HBox(children=(FloatProgress(value=0.0, max=5.0), HTML(value='')))"
      ]
     },
     "metadata": {},
     "output_type": "display_data"
    },
    {
     "name": "stdout",
     "output_type": "stream",
     "text": [
      "\n",
      "cell ID =  539 progress bar below: (n/N frames):\n"
     ]
    },
    {
     "data": {
      "application/vnd.jupyter.widget-view+json": {
       "model_id": "b5c4db60bed0471c9e75b5bf9dca43ef",
       "version_major": 2,
       "version_minor": 0
      },
      "text/plain": [
       "HBox(children=(FloatProgress(value=0.0, max=2.0), HTML(value='')))"
      ]
     },
     "metadata": {},
     "output_type": "display_data"
    },
    {
     "name": "stdout",
     "output_type": "stream",
     "text": [
      "\n",
      "cell ID =  540 progress bar below: (n/N frames):\n"
     ]
    },
    {
     "data": {
      "application/vnd.jupyter.widget-view+json": {
       "model_id": "413d7658d592415faecc09ebef6ed746",
       "version_major": 2,
       "version_minor": 0
      },
      "text/plain": [
       "HBox(children=(FloatProgress(value=0.0, max=352.0), HTML(value='')))"
      ]
     },
     "metadata": {},
     "output_type": "display_data"
    },
    {
     "name": "stdout",
     "output_type": "stream",
     "text": [
      "\n",
      "cell ID =  541 progress bar below: (n/N frames):\n"
     ]
    },
    {
     "data": {
      "application/vnd.jupyter.widget-view+json": {
       "model_id": "389251c552d94d00a74e429bd546fbd6",
       "version_major": 2,
       "version_minor": 0
      },
      "text/plain": [
       "HBox(children=(FloatProgress(value=0.0, max=495.0), HTML(value='')))"
      ]
     },
     "metadata": {},
     "output_type": "display_data"
    },
    {
     "name": "stdout",
     "output_type": "stream",
     "text": [
      "\n",
      "cell ID =  542 progress bar below: (n/N frames):\n"
     ]
    },
    {
     "data": {
      "application/vnd.jupyter.widget-view+json": {
       "model_id": "bf8b71b105104efe955f7146ff889fc7",
       "version_major": 2,
       "version_minor": 0
      },
      "text/plain": [
       "HBox(children=(FloatProgress(value=0.0, max=12.0), HTML(value='')))"
      ]
     },
     "metadata": {},
     "output_type": "display_data"
    },
    {
     "name": "stdout",
     "output_type": "stream",
     "text": [
      "\n",
      "cell ID =  543 progress bar below: (n/N frames):\n"
     ]
    },
    {
     "data": {
      "application/vnd.jupyter.widget-view+json": {
       "model_id": "0bdee368b0db42b888fc0b6c94a9d987",
       "version_major": 2,
       "version_minor": 0
      },
      "text/plain": [
       "HBox(children=(FloatProgress(value=0.0, max=509.0), HTML(value='')))"
      ]
     },
     "metadata": {},
     "output_type": "display_data"
    },
    {
     "name": "stdout",
     "output_type": "stream",
     "text": [
      "\n",
      "cell ID =  544 progress bar below: (n/N frames):\n"
     ]
    },
    {
     "data": {
      "application/vnd.jupyter.widget-view+json": {
       "model_id": "00ea1df5586e40009b568519acb86c6e",
       "version_major": 2,
       "version_minor": 0
      },
      "text/plain": [
       "HBox(children=(FloatProgress(value=0.0, max=403.0), HTML(value='')))"
      ]
     },
     "metadata": {},
     "output_type": "display_data"
    },
    {
     "name": "stdout",
     "output_type": "stream",
     "text": [
      "\n",
      "cell ID =  545 progress bar below: (n/N frames):\n"
     ]
    },
    {
     "data": {
      "application/vnd.jupyter.widget-view+json": {
       "model_id": "8b6b1ec1c0774d8b9ac801c8f8777bf8",
       "version_major": 2,
       "version_minor": 0
      },
      "text/plain": [
       "HBox(children=(FloatProgress(value=0.0, max=565.0), HTML(value='')))"
      ]
     },
     "metadata": {},
     "output_type": "display_data"
    },
    {
     "name": "stdout",
     "output_type": "stream",
     "text": [
      "\n",
      "cell ID =  547 progress bar below: (n/N frames):\n"
     ]
    },
    {
     "data": {
      "application/vnd.jupyter.widget-view+json": {
       "model_id": "8522dbe827c54dbdbb2792044d958e3a",
       "version_major": 2,
       "version_minor": 0
      },
      "text/plain": [
       "HBox(children=(FloatProgress(value=0.0, max=5.0), HTML(value='')))"
      ]
     },
     "metadata": {},
     "output_type": "display_data"
    },
    {
     "name": "stdout",
     "output_type": "stream",
     "text": [
      "\n",
      "cell ID =  552 progress bar below: (n/N frames):\n"
     ]
    },
    {
     "data": {
      "application/vnd.jupyter.widget-view+json": {
       "model_id": "2d919dbd75684282a9c80696b7e04f98",
       "version_major": 2,
       "version_minor": 0
      },
      "text/plain": [
       "HBox(children=(FloatProgress(value=0.0, max=347.0), HTML(value='')))"
      ]
     },
     "metadata": {},
     "output_type": "display_data"
    },
    {
     "name": "stdout",
     "output_type": "stream",
     "text": [
      "\n",
      "cell ID =  554 progress bar below: (n/N frames):\n"
     ]
    },
    {
     "data": {
      "application/vnd.jupyter.widget-view+json": {
       "model_id": "ddc7dca46ba64ab491e8e45369193fd9",
       "version_major": 2,
       "version_minor": 0
      },
      "text/plain": [
       "HBox(children=(FloatProgress(value=0.0, max=144.0), HTML(value='')))"
      ]
     },
     "metadata": {},
     "output_type": "display_data"
    },
    {
     "name": "stdout",
     "output_type": "stream",
     "text": [
      "\n",
      "cell ID =  553 progress bar below: (n/N frames):\n"
     ]
    },
    {
     "data": {
      "application/vnd.jupyter.widget-view+json": {
       "model_id": "4005f71d7a974558adac34ca8682cfee",
       "version_major": 2,
       "version_minor": 0
      },
      "text/plain": [
       "HBox(children=(FloatProgress(value=0.0, max=186.0), HTML(value='')))"
      ]
     },
     "metadata": {},
     "output_type": "display_data"
    },
    {
     "name": "stdout",
     "output_type": "stream",
     "text": [
      "\n",
      "cell ID =  556 progress bar below: (n/N frames):\n"
     ]
    },
    {
     "data": {
      "application/vnd.jupyter.widget-view+json": {
       "model_id": "94f71218333046668e57615cee77e689",
       "version_major": 2,
       "version_minor": 0
      },
      "text/plain": [
       "HBox(children=(FloatProgress(value=0.0, max=81.0), HTML(value='')))"
      ]
     },
     "metadata": {},
     "output_type": "display_data"
    },
    {
     "name": "stdout",
     "output_type": "stream",
     "text": [
      "\n",
      "cell ID =  557 progress bar below: (n/N frames):\n"
     ]
    },
    {
     "data": {
      "application/vnd.jupyter.widget-view+json": {
       "model_id": "a174c76cbfdb4c9d90e06e1868510490",
       "version_major": 2,
       "version_minor": 0
      },
      "text/plain": [
       "HBox(children=(FloatProgress(value=0.0, max=458.0), HTML(value='')))"
      ]
     },
     "metadata": {},
     "output_type": "display_data"
    },
    {
     "name": "stdout",
     "output_type": "stream",
     "text": [
      "\n",
      "cell ID =  558 progress bar below: (n/N frames):\n"
     ]
    },
    {
     "data": {
      "application/vnd.jupyter.widget-view+json": {
       "model_id": "a72b1fef503b4cbf80edeadb0c81e96b",
       "version_major": 2,
       "version_minor": 0
      },
      "text/plain": [
       "HBox(children=(FloatProgress(value=0.0, max=9.0), HTML(value='')))"
      ]
     },
     "metadata": {},
     "output_type": "display_data"
    },
    {
     "name": "stdout",
     "output_type": "stream",
     "text": [
      "\n",
      "cell ID =  559 progress bar below: (n/N frames):\n"
     ]
    },
    {
     "data": {
      "application/vnd.jupyter.widget-view+json": {
       "model_id": "bdaee67804b3459e9bf36eb98f6931e2",
       "version_major": 2,
       "version_minor": 0
      },
      "text/plain": [
       "HBox(children=(FloatProgress(value=0.0, max=7.0), HTML(value='')))"
      ]
     },
     "metadata": {},
     "output_type": "display_data"
    },
    {
     "name": "stdout",
     "output_type": "stream",
     "text": [
      "\n",
      "cell ID =  562 progress bar below: (n/N frames):\n"
     ]
    },
    {
     "data": {
      "application/vnd.jupyter.widget-view+json": {
       "model_id": "4dccab2f57c344589e1909df2571faa4",
       "version_major": 2,
       "version_minor": 0
      },
      "text/plain": [
       "HBox(children=(FloatProgress(value=0.0, max=535.0), HTML(value='')))"
      ]
     },
     "metadata": {},
     "output_type": "display_data"
    },
    {
     "name": "stdout",
     "output_type": "stream",
     "text": [
      "\n",
      "cell ID =  564 progress bar below: (n/N frames):\n"
     ]
    },
    {
     "data": {
      "application/vnd.jupyter.widget-view+json": {
       "model_id": "96023e7997864bde8da2049d25a6c46c",
       "version_major": 2,
       "version_minor": 0
      },
      "text/plain": [
       "HBox(children=(FloatProgress(value=0.0, max=33.0), HTML(value='')))"
      ]
     },
     "metadata": {},
     "output_type": "display_data"
    },
    {
     "name": "stdout",
     "output_type": "stream",
     "text": [
      "\n",
      "cell ID =  565 progress bar below: (n/N frames):\n"
     ]
    },
    {
     "data": {
      "application/vnd.jupyter.widget-view+json": {
       "model_id": "c94da0a2d1af4099bababee90bcd5271",
       "version_major": 2,
       "version_minor": 0
      },
      "text/plain": [
       "HBox(children=(FloatProgress(value=0.0, max=3.0), HTML(value='')))"
      ]
     },
     "metadata": {},
     "output_type": "display_data"
    },
    {
     "name": "stdout",
     "output_type": "stream",
     "text": [
      "\n",
      "cell ID =  566 progress bar below: (n/N frames):\n"
     ]
    },
    {
     "data": {
      "application/vnd.jupyter.widget-view+json": {
       "model_id": "633d1f9336f445e8ad38f70639f850f8",
       "version_major": 2,
       "version_minor": 0
      },
      "text/plain": [
       "HBox(children=(FloatProgress(value=0.0, max=92.0), HTML(value='')))"
      ]
     },
     "metadata": {},
     "output_type": "display_data"
    },
    {
     "name": "stdout",
     "output_type": "stream",
     "text": [
      "\n",
      "cell ID =  567 progress bar below: (n/N frames):\n"
     ]
    },
    {
     "data": {
      "application/vnd.jupyter.widget-view+json": {
       "model_id": "1d405b819a0b40a490bf688726552e0f",
       "version_major": 2,
       "version_minor": 0
      },
      "text/plain": [
       "HBox(children=(FloatProgress(value=0.0, max=2.0), HTML(value='')))"
      ]
     },
     "metadata": {},
     "output_type": "display_data"
    },
    {
     "name": "stdout",
     "output_type": "stream",
     "text": [
      "\n",
      "cell ID =  568 progress bar below: (n/N frames):\n"
     ]
    },
    {
     "data": {
      "application/vnd.jupyter.widget-view+json": {
       "model_id": "2a61614d1d93440daee7c0b4deb437bc",
       "version_major": 2,
       "version_minor": 0
      },
      "text/plain": [
       "HBox(children=(FloatProgress(value=0.0, max=17.0), HTML(value='')))"
      ]
     },
     "metadata": {},
     "output_type": "display_data"
    },
    {
     "name": "stdout",
     "output_type": "stream",
     "text": [
      "\n",
      "cell ID =  573 progress bar below: (n/N frames):\n"
     ]
    },
    {
     "data": {
      "application/vnd.jupyter.widget-view+json": {
       "model_id": "30f68931d8c04cec871b3f0b850763c1",
       "version_major": 2,
       "version_minor": 0
      },
      "text/plain": [
       "HBox(children=(FloatProgress(value=0.0, max=17.0), HTML(value='')))"
      ]
     },
     "metadata": {},
     "output_type": "display_data"
    },
    {
     "name": "stdout",
     "output_type": "stream",
     "text": [
      "\n",
      "cell ID =  571 progress bar below: (n/N frames):\n"
     ]
    },
    {
     "data": {
      "application/vnd.jupyter.widget-view+json": {
       "model_id": "c262eba0129e4941aaff496f63cae7f0",
       "version_major": 2,
       "version_minor": 0
      },
      "text/plain": [
       "HBox(children=(FloatProgress(value=0.0, max=3.0), HTML(value='')))"
      ]
     },
     "metadata": {},
     "output_type": "display_data"
    },
    {
     "name": "stdout",
     "output_type": "stream",
     "text": [
      "\n",
      "cell ID =  570 progress bar below: (n/N frames):\n"
     ]
    },
    {
     "data": {
      "application/vnd.jupyter.widget-view+json": {
       "model_id": "76ff31decc25495db4a05c15246f0e67",
       "version_major": 2,
       "version_minor": 0
      },
      "text/plain": [
       "HBox(children=(FloatProgress(value=0.0, max=879.0), HTML(value='')))"
      ]
     },
     "metadata": {},
     "output_type": "display_data"
    },
    {
     "name": "stdout",
     "output_type": "stream",
     "text": [
      "\n",
      "cell ID =  574 progress bar below: (n/N frames):\n"
     ]
    },
    {
     "data": {
      "application/vnd.jupyter.widget-view+json": {
       "model_id": "03aef934ad4c432ab2c4cb8c89bc7d51",
       "version_major": 2,
       "version_minor": 0
      },
      "text/plain": [
       "HBox(children=(FloatProgress(value=0.0, max=15.0), HTML(value='')))"
      ]
     },
     "metadata": {},
     "output_type": "display_data"
    },
    {
     "name": "stdout",
     "output_type": "stream",
     "text": [
      "\n",
      "cell ID =  576 progress bar below: (n/N frames):\n"
     ]
    },
    {
     "data": {
      "application/vnd.jupyter.widget-view+json": {
       "model_id": "53110a90665a4476b000df218f24d0ee",
       "version_major": 2,
       "version_minor": 0
      },
      "text/plain": [
       "HBox(children=(FloatProgress(value=0.0, max=5.0), HTML(value='')))"
      ]
     },
     "metadata": {},
     "output_type": "display_data"
    },
    {
     "name": "stdout",
     "output_type": "stream",
     "text": [
      "\n",
      "cell ID =  575 progress bar below: (n/N frames):\n"
     ]
    },
    {
     "data": {
      "application/vnd.jupyter.widget-view+json": {
       "model_id": "82d7c90277b44711873258499fd2311d",
       "version_major": 2,
       "version_minor": 0
      },
      "text/plain": [
       "HBox(children=(FloatProgress(value=0.0, max=314.0), HTML(value='')))"
      ]
     },
     "metadata": {},
     "output_type": "display_data"
    },
    {
     "name": "stdout",
     "output_type": "stream",
     "text": [
      "\n",
      "cell ID =  577 progress bar below: (n/N frames):\n"
     ]
    },
    {
     "data": {
      "application/vnd.jupyter.widget-view+json": {
       "model_id": "0366466ee13c4d178beae0d4fa69b397",
       "version_major": 2,
       "version_minor": 0
      },
      "text/plain": [
       "HBox(children=(FloatProgress(value=0.0, max=2.0), HTML(value='')))"
      ]
     },
     "metadata": {},
     "output_type": "display_data"
    },
    {
     "name": "stdout",
     "output_type": "stream",
     "text": [
      "\n",
      "cell ID =  579 progress bar below: (n/N frames):\n"
     ]
    },
    {
     "data": {
      "application/vnd.jupyter.widget-view+json": {
       "model_id": "618c6522161642c0a9eaa94e0f40c5be",
       "version_major": 2,
       "version_minor": 0
      },
      "text/plain": [
       "HBox(children=(FloatProgress(value=0.0, max=39.0), HTML(value='')))"
      ]
     },
     "metadata": {},
     "output_type": "display_data"
    },
    {
     "name": "stdout",
     "output_type": "stream",
     "text": [
      "\n",
      "cell ID =  580 progress bar below: (n/N frames):\n"
     ]
    },
    {
     "data": {
      "application/vnd.jupyter.widget-view+json": {
       "model_id": "62c1d366093d4b18aa5a9ceb1767d669",
       "version_major": 2,
       "version_minor": 0
      },
      "text/plain": [
       "HBox(children=(FloatProgress(value=0.0, max=3.0), HTML(value='')))"
      ]
     },
     "metadata": {},
     "output_type": "display_data"
    },
    {
     "name": "stdout",
     "output_type": "stream",
     "text": [
      "\n",
      "cell ID =  581 progress bar below: (n/N frames):\n"
     ]
    },
    {
     "data": {
      "application/vnd.jupyter.widget-view+json": {
       "model_id": "9d2d640489c549968f62b670aab98a46",
       "version_major": 2,
       "version_minor": 0
      },
      "text/plain": [
       "HBox(children=(FloatProgress(value=0.0, max=138.0), HTML(value='')))"
      ]
     },
     "metadata": {},
     "output_type": "display_data"
    },
    {
     "name": "stdout",
     "output_type": "stream",
     "text": [
      "\n",
      "cell ID =  582 progress bar below: (n/N frames):\n"
     ]
    },
    {
     "data": {
      "application/vnd.jupyter.widget-view+json": {
       "model_id": "7b45ffc8ef2a410d9a57ddc26f3b45cd",
       "version_major": 2,
       "version_minor": 0
      },
      "text/plain": [
       "HBox(children=(FloatProgress(value=0.0, max=356.0), HTML(value='')))"
      ]
     },
     "metadata": {},
     "output_type": "display_data"
    },
    {
     "name": "stdout",
     "output_type": "stream",
     "text": [
      "\n",
      "cell ID =  583 progress bar below: (n/N frames):\n"
     ]
    },
    {
     "data": {
      "application/vnd.jupyter.widget-view+json": {
       "model_id": "da160b45330d4dda9f18bbabae447a3a",
       "version_major": 2,
       "version_minor": 0
      },
      "text/plain": [
       "HBox(children=(FloatProgress(value=0.0, max=3.0), HTML(value='')))"
      ]
     },
     "metadata": {},
     "output_type": "display_data"
    },
    {
     "name": "stdout",
     "output_type": "stream",
     "text": [
      "\n",
      "cell ID =  584 progress bar below: (n/N frames):\n"
     ]
    },
    {
     "data": {
      "application/vnd.jupyter.widget-view+json": {
       "model_id": "3a78830def014baeb1f117520a558ff6",
       "version_major": 2,
       "version_minor": 0
      },
      "text/plain": [
       "HBox(children=(FloatProgress(value=0.0, max=4.0), HTML(value='')))"
      ]
     },
     "metadata": {},
     "output_type": "display_data"
    },
    {
     "name": "stdout",
     "output_type": "stream",
     "text": [
      "\n",
      "cell ID =  589 progress bar below: (n/N frames):\n"
     ]
    },
    {
     "data": {
      "application/vnd.jupyter.widget-view+json": {
       "model_id": "8a4b7df508ae4c13b2b185883d25eca9",
       "version_major": 2,
       "version_minor": 0
      },
      "text/plain": [
       "HBox(children=(FloatProgress(value=0.0, max=515.0), HTML(value='')))"
      ]
     },
     "metadata": {},
     "output_type": "display_data"
    },
    {
     "name": "stdout",
     "output_type": "stream",
     "text": [
      "\n",
      "cell ID =  590 progress bar below: (n/N frames):\n"
     ]
    },
    {
     "data": {
      "application/vnd.jupyter.widget-view+json": {
       "model_id": "8fcb96141450426e9c3a2e1f08f0472d",
       "version_major": 2,
       "version_minor": 0
      },
      "text/plain": [
       "HBox(children=(FloatProgress(value=0.0, max=140.0), HTML(value='')))"
      ]
     },
     "metadata": {},
     "output_type": "display_data"
    },
    {
     "name": "stdout",
     "output_type": "stream",
     "text": [
      "\n",
      "cell ID =  591 progress bar below: (n/N frames):\n"
     ]
    },
    {
     "data": {
      "application/vnd.jupyter.widget-view+json": {
       "model_id": "8370ccd0587044eebe73abebd953c56e",
       "version_major": 2,
       "version_minor": 0
      },
      "text/plain": [
       "HBox(children=(FloatProgress(value=0.0, max=32.0), HTML(value='')))"
      ]
     },
     "metadata": {},
     "output_type": "display_data"
    },
    {
     "name": "stdout",
     "output_type": "stream",
     "text": [
      "\n",
      "cell ID =  593 progress bar below: (n/N frames):\n"
     ]
    },
    {
     "data": {
      "application/vnd.jupyter.widget-view+json": {
       "model_id": "e27a402e828a45038787c7825cb98673",
       "version_major": 2,
       "version_minor": 0
      },
      "text/plain": [
       "HBox(children=(FloatProgress(value=0.0, max=2.0), HTML(value='')))"
      ]
     },
     "metadata": {},
     "output_type": "display_data"
    },
    {
     "name": "stdout",
     "output_type": "stream",
     "text": [
      "\n",
      "cell ID =  594 progress bar below: (n/N frames):\n"
     ]
    },
    {
     "data": {
      "application/vnd.jupyter.widget-view+json": {
       "model_id": "511ffa16313e42eaa9b286243a534bf2",
       "version_major": 2,
       "version_minor": 0
      },
      "text/plain": [
       "HBox(children=(FloatProgress(value=0.0, max=6.0), HTML(value='')))"
      ]
     },
     "metadata": {},
     "output_type": "display_data"
    },
    {
     "name": "stdout",
     "output_type": "stream",
     "text": [
      "\n",
      "cell ID =  595 progress bar below: (n/N frames):\n"
     ]
    },
    {
     "data": {
      "application/vnd.jupyter.widget-view+json": {
       "model_id": "18d21df4d337425380eb7cc395bce0f4",
       "version_major": 2,
       "version_minor": 0
      },
      "text/plain": [
       "HBox(children=(FloatProgress(value=0.0, max=6.0), HTML(value='')))"
      ]
     },
     "metadata": {},
     "output_type": "display_data"
    },
    {
     "name": "stdout",
     "output_type": "stream",
     "text": [
      "\n",
      "cell ID =  597 progress bar below: (n/N frames):\n"
     ]
    },
    {
     "data": {
      "application/vnd.jupyter.widget-view+json": {
       "model_id": "d916f77934294173b105ce44f756a292",
       "version_major": 2,
       "version_minor": 0
      },
      "text/plain": [
       "HBox(children=(FloatProgress(value=0.0, max=3.0), HTML(value='')))"
      ]
     },
     "metadata": {},
     "output_type": "display_data"
    },
    {
     "name": "stdout",
     "output_type": "stream",
     "text": [
      "\n",
      "cell ID =  598 progress bar below: (n/N frames):\n"
     ]
    },
    {
     "data": {
      "application/vnd.jupyter.widget-view+json": {
       "model_id": "9865f9ef769a43f7b2ba7918950f9d05",
       "version_major": 2,
       "version_minor": 0
      },
      "text/plain": [
       "HBox(children=(FloatProgress(value=0.0, max=130.0), HTML(value='')))"
      ]
     },
     "metadata": {},
     "output_type": "display_data"
    },
    {
     "name": "stdout",
     "output_type": "stream",
     "text": [
      "\n",
      "cell ID =  599 progress bar below: (n/N frames):\n"
     ]
    },
    {
     "data": {
      "application/vnd.jupyter.widget-view+json": {
       "model_id": "c466764bd76c46d3b167de94645cea94",
       "version_major": 2,
       "version_minor": 0
      },
      "text/plain": [
       "HBox(children=(FloatProgress(value=0.0, max=528.0), HTML(value='')))"
      ]
     },
     "metadata": {},
     "output_type": "display_data"
    },
    {
     "name": "stdout",
     "output_type": "stream",
     "text": [
      "\n",
      "cell ID =  600 progress bar below: (n/N frames):\n"
     ]
    },
    {
     "data": {
      "application/vnd.jupyter.widget-view+json": {
       "model_id": "fbb5ca9dc58f464594ada08c7f01c1d5",
       "version_major": 2,
       "version_minor": 0
      },
      "text/plain": [
       "HBox(children=(FloatProgress(value=0.0, max=3.0), HTML(value='')))"
      ]
     },
     "metadata": {},
     "output_type": "display_data"
    },
    {
     "name": "stdout",
     "output_type": "stream",
     "text": [
      "\n",
      "cell ID =  601 progress bar below: (n/N frames):\n"
     ]
    },
    {
     "data": {
      "application/vnd.jupyter.widget-view+json": {
       "model_id": "a8722f076e7e4629b7a8f21c14ffbd5d",
       "version_major": 2,
       "version_minor": 0
      },
      "text/plain": [
       "HBox(children=(FloatProgress(value=0.0, max=47.0), HTML(value='')))"
      ]
     },
     "metadata": {},
     "output_type": "display_data"
    },
    {
     "name": "stdout",
     "output_type": "stream",
     "text": [
      "\n",
      "cell ID =  604 progress bar below: (n/N frames):\n"
     ]
    },
    {
     "data": {
      "application/vnd.jupyter.widget-view+json": {
       "model_id": "63099f48ea5b43f1ab7f869337beb649",
       "version_major": 2,
       "version_minor": 0
      },
      "text/plain": [
       "HBox(children=(FloatProgress(value=0.0, max=6.0), HTML(value='')))"
      ]
     },
     "metadata": {},
     "output_type": "display_data"
    },
    {
     "name": "stdout",
     "output_type": "stream",
     "text": [
      "\n",
      "cell ID =  605 progress bar below: (n/N frames):\n"
     ]
    },
    {
     "data": {
      "application/vnd.jupyter.widget-view+json": {
       "model_id": "bf0f21f6fbc149dcab95396022334fa2",
       "version_major": 2,
       "version_minor": 0
      },
      "text/plain": [
       "HBox(children=(FloatProgress(value=0.0, max=10.0), HTML(value='')))"
      ]
     },
     "metadata": {},
     "output_type": "display_data"
    },
    {
     "name": "stdout",
     "output_type": "stream",
     "text": [
      "\n",
      "cell ID =  606 progress bar below: (n/N frames):\n"
     ]
    },
    {
     "data": {
      "application/vnd.jupyter.widget-view+json": {
       "model_id": "fb08a43df92b4b388109f732387782f6",
       "version_major": 2,
       "version_minor": 0
      },
      "text/plain": [
       "HBox(children=(FloatProgress(value=0.0, max=2.0), HTML(value='')))"
      ]
     },
     "metadata": {},
     "output_type": "display_data"
    },
    {
     "name": "stdout",
     "output_type": "stream",
     "text": [
      "\n",
      "cell ID =  608 progress bar below: (n/N frames):\n"
     ]
    },
    {
     "data": {
      "application/vnd.jupyter.widget-view+json": {
       "model_id": "814ac9dcf22e4d52be6f88e5d1fa2b79",
       "version_major": 2,
       "version_minor": 0
      },
      "text/plain": [
       "HBox(children=(FloatProgress(value=0.0, max=11.0), HTML(value='')))"
      ]
     },
     "metadata": {},
     "output_type": "display_data"
    },
    {
     "name": "stdout",
     "output_type": "stream",
     "text": [
      "\n",
      "cell ID =  610 progress bar below: (n/N frames):\n"
     ]
    },
    {
     "data": {
      "application/vnd.jupyter.widget-view+json": {
       "model_id": "603e2c75d2384e7d86c26bb0339c0511",
       "version_major": 2,
       "version_minor": 0
      },
      "text/plain": [
       "HBox(children=(FloatProgress(value=0.0, max=6.0), HTML(value='')))"
      ]
     },
     "metadata": {},
     "output_type": "display_data"
    },
    {
     "name": "stdout",
     "output_type": "stream",
     "text": [
      "\n",
      "cell ID =  615 progress bar below: (n/N frames):\n"
     ]
    },
    {
     "data": {
      "application/vnd.jupyter.widget-view+json": {
       "model_id": "2f1b6bb6f9eb4270a0ded244300ef643",
       "version_major": 2,
       "version_minor": 0
      },
      "text/plain": [
       "HBox(children=(FloatProgress(value=0.0, max=408.0), HTML(value='')))"
      ]
     },
     "metadata": {},
     "output_type": "display_data"
    },
    {
     "name": "stdout",
     "output_type": "stream",
     "text": [
      "\n",
      "cell ID =  614 progress bar below: (n/N frames):\n"
     ]
    },
    {
     "data": {
      "application/vnd.jupyter.widget-view+json": {
       "model_id": "1f7234354017488f805a45860c77f3ac",
       "version_major": 2,
       "version_minor": 0
      },
      "text/plain": [
       "HBox(children=(FloatProgress(value=0.0, max=2.0), HTML(value='')))"
      ]
     },
     "metadata": {},
     "output_type": "display_data"
    },
    {
     "name": "stdout",
     "output_type": "stream",
     "text": [
      "\n",
      "cell ID =  621 progress bar below: (n/N frames):\n"
     ]
    },
    {
     "data": {
      "application/vnd.jupyter.widget-view+json": {
       "model_id": "d65bc01d71574b4cb01131f80c609a0e",
       "version_major": 2,
       "version_minor": 0
      },
      "text/plain": [
       "HBox(children=(FloatProgress(value=0.0, max=2.0), HTML(value='')))"
      ]
     },
     "metadata": {},
     "output_type": "display_data"
    },
    {
     "name": "stdout",
     "output_type": "stream",
     "text": [
      "\n",
      "cell ID =  622 progress bar below: (n/N frames):\n"
     ]
    },
    {
     "data": {
      "application/vnd.jupyter.widget-view+json": {
       "model_id": "84c72d43ede74dc3a9f9724c4dd4d486",
       "version_major": 2,
       "version_minor": 0
      },
      "text/plain": [
       "HBox(children=(FloatProgress(value=0.0, max=3.0), HTML(value='')))"
      ]
     },
     "metadata": {},
     "output_type": "display_data"
    },
    {
     "name": "stdout",
     "output_type": "stream",
     "text": [
      "\n",
      "cell ID =  624 progress bar below: (n/N frames):\n"
     ]
    },
    {
     "data": {
      "application/vnd.jupyter.widget-view+json": {
       "model_id": "59e2a049f798439da418239e3f417572",
       "version_major": 2,
       "version_minor": 0
      },
      "text/plain": [
       "HBox(children=(FloatProgress(value=0.0, max=5.0), HTML(value='')))"
      ]
     },
     "metadata": {},
     "output_type": "display_data"
    },
    {
     "name": "stdout",
     "output_type": "stream",
     "text": [
      "\n",
      "cell ID =  626 progress bar below: (n/N frames):\n"
     ]
    },
    {
     "data": {
      "application/vnd.jupyter.widget-view+json": {
       "model_id": "475b51b00d63481ea34d2561577e4939",
       "version_major": 2,
       "version_minor": 0
      },
      "text/plain": [
       "HBox(children=(FloatProgress(value=0.0, max=480.0), HTML(value='')))"
      ]
     },
     "metadata": {},
     "output_type": "display_data"
    },
    {
     "name": "stdout",
     "output_type": "stream",
     "text": [
      "\n",
      "cell ID =  633 progress bar below: (n/N frames):\n"
     ]
    },
    {
     "data": {
      "application/vnd.jupyter.widget-view+json": {
       "model_id": "a6885a002b034ad28e4f638df454f2fd",
       "version_major": 2,
       "version_minor": 0
      },
      "text/plain": [
       "HBox(children=(FloatProgress(value=0.0, max=36.0), HTML(value='')))"
      ]
     },
     "metadata": {},
     "output_type": "display_data"
    },
    {
     "name": "stdout",
     "output_type": "stream",
     "text": [
      "\n",
      "cell ID =  632 progress bar below: (n/N frames):\n"
     ]
    },
    {
     "data": {
      "application/vnd.jupyter.widget-view+json": {
       "model_id": "b1f82592b7ec48b79c186bf64ebcd4ce",
       "version_major": 2,
       "version_minor": 0
      },
      "text/plain": [
       "HBox(children=(FloatProgress(value=0.0, max=324.0), HTML(value='')))"
      ]
     },
     "metadata": {},
     "output_type": "display_data"
    },
    {
     "name": "stdout",
     "output_type": "stream",
     "text": [
      "\n",
      "cell ID =  631 progress bar below: (n/N frames):\n"
     ]
    },
    {
     "data": {
      "application/vnd.jupyter.widget-view+json": {
       "model_id": "9e5b4f06557e46109a74871fddf24111",
       "version_major": 2,
       "version_minor": 0
      },
      "text/plain": [
       "HBox(children=(FloatProgress(value=0.0, max=29.0), HTML(value='')))"
      ]
     },
     "metadata": {},
     "output_type": "display_data"
    },
    {
     "name": "stdout",
     "output_type": "stream",
     "text": [
      "\n",
      "cell ID =  628 progress bar below: (n/N frames):\n"
     ]
    },
    {
     "data": {
      "application/vnd.jupyter.widget-view+json": {
       "model_id": "44290f5d96a54b13b6d5aae85ce5e14f",
       "version_major": 2,
       "version_minor": 0
      },
      "text/plain": [
       "HBox(children=(FloatProgress(value=0.0, max=227.0), HTML(value='')))"
      ]
     },
     "metadata": {},
     "output_type": "display_data"
    },
    {
     "name": "stdout",
     "output_type": "stream",
     "text": [
      "\n",
      "cell ID =  627 progress bar below: (n/N frames):\n"
     ]
    },
    {
     "data": {
      "application/vnd.jupyter.widget-view+json": {
       "model_id": "654e964b4f4847e2a82dd6144d64ce86",
       "version_major": 2,
       "version_minor": 0
      },
      "text/plain": [
       "HBox(children=(FloatProgress(value=0.0, max=3.0), HTML(value='')))"
      ]
     },
     "metadata": {},
     "output_type": "display_data"
    },
    {
     "name": "stdout",
     "output_type": "stream",
     "text": [
      "\n",
      "cell ID =  635 progress bar below: (n/N frames):\n"
     ]
    },
    {
     "data": {
      "application/vnd.jupyter.widget-view+json": {
       "model_id": "23093f14d0094e05b287157888d8dd0e",
       "version_major": 2,
       "version_minor": 0
      },
      "text/plain": [
       "HBox(children=(FloatProgress(value=0.0, max=2.0), HTML(value='')))"
      ]
     },
     "metadata": {},
     "output_type": "display_data"
    },
    {
     "name": "stdout",
     "output_type": "stream",
     "text": [
      "\n",
      "cell ID =  636 progress bar below: (n/N frames):\n"
     ]
    },
    {
     "data": {
      "application/vnd.jupyter.widget-view+json": {
       "model_id": "b6a8b41c73824f2583fa6f116690c3c9",
       "version_major": 2,
       "version_minor": 0
      },
      "text/plain": [
       "HBox(children=(FloatProgress(value=0.0, max=15.0), HTML(value='')))"
      ]
     },
     "metadata": {},
     "output_type": "display_data"
    },
    {
     "name": "stdout",
     "output_type": "stream",
     "text": [
      "\n",
      "cell ID =  637 progress bar below: (n/N frames):\n"
     ]
    },
    {
     "data": {
      "application/vnd.jupyter.widget-view+json": {
       "model_id": "8903872a49eb4c1082e590c8325a6a91",
       "version_major": 2,
       "version_minor": 0
      },
      "text/plain": [
       "HBox(children=(FloatProgress(value=0.0, max=191.0), HTML(value='')))"
      ]
     },
     "metadata": {},
     "output_type": "display_data"
    },
    {
     "name": "stdout",
     "output_type": "stream",
     "text": [
      "\n",
      "cell ID =  640 progress bar below: (n/N frames):\n"
     ]
    },
    {
     "data": {
      "application/vnd.jupyter.widget-view+json": {
       "model_id": "295caeb0690a466395db0171b861d4ec",
       "version_major": 2,
       "version_minor": 0
      },
      "text/plain": [
       "HBox(children=(FloatProgress(value=0.0, max=846.0), HTML(value='')))"
      ]
     },
     "metadata": {},
     "output_type": "display_data"
    },
    {
     "name": "stdout",
     "output_type": "stream",
     "text": [
      "\n",
      "cell ID =  644 progress bar below: (n/N frames):\n"
     ]
    },
    {
     "data": {
      "application/vnd.jupyter.widget-view+json": {
       "model_id": "fe93c7bf1dca469e870ada57c0249332",
       "version_major": 2,
       "version_minor": 0
      },
      "text/plain": [
       "HBox(children=(FloatProgress(value=0.0, max=33.0), HTML(value='')))"
      ]
     },
     "metadata": {},
     "output_type": "display_data"
    },
    {
     "name": "stdout",
     "output_type": "stream",
     "text": [
      "\n",
      "cell ID =  646 progress bar below: (n/N frames):\n"
     ]
    },
    {
     "data": {
      "application/vnd.jupyter.widget-view+json": {
       "model_id": "086255b3dd074fd9800c22d153657eee",
       "version_major": 2,
       "version_minor": 0
      },
      "text/plain": [
       "HBox(children=(FloatProgress(value=0.0, max=6.0), HTML(value='')))"
      ]
     },
     "metadata": {},
     "output_type": "display_data"
    },
    {
     "name": "stdout",
     "output_type": "stream",
     "text": [
      "\n",
      "cell ID =  647 progress bar below: (n/N frames):\n"
     ]
    },
    {
     "data": {
      "application/vnd.jupyter.widget-view+json": {
       "model_id": "543e7ef94ed14712bcd1a00c6ae848a8",
       "version_major": 2,
       "version_minor": 0
      },
      "text/plain": [
       "HBox(children=(FloatProgress(value=0.0, max=4.0), HTML(value='')))"
      ]
     },
     "metadata": {},
     "output_type": "display_data"
    },
    {
     "name": "stdout",
     "output_type": "stream",
     "text": [
      "\n",
      "cell ID =  648 progress bar below: (n/N frames):\n"
     ]
    },
    {
     "data": {
      "application/vnd.jupyter.widget-view+json": {
       "model_id": "5b5df62b1cc449a7abcee44aa2e1895a",
       "version_major": 2,
       "version_minor": 0
      },
      "text/plain": [
       "HBox(children=(FloatProgress(value=0.0, max=13.0), HTML(value='')))"
      ]
     },
     "metadata": {},
     "output_type": "display_data"
    },
    {
     "name": "stdout",
     "output_type": "stream",
     "text": [
      "\n",
      "cell ID =  649 progress bar below: (n/N frames):\n"
     ]
    },
    {
     "data": {
      "application/vnd.jupyter.widget-view+json": {
       "model_id": "bae8a19444ee403fab99409db1760161",
       "version_major": 2,
       "version_minor": 0
      },
      "text/plain": [
       "HBox(children=(FloatProgress(value=0.0, max=30.0), HTML(value='')))"
      ]
     },
     "metadata": {},
     "output_type": "display_data"
    },
    {
     "name": "stdout",
     "output_type": "stream",
     "text": [
      "\n",
      "cell ID =  651 progress bar below: (n/N frames):\n"
     ]
    },
    {
     "data": {
      "application/vnd.jupyter.widget-view+json": {
       "model_id": "24c5d666c43e43c6b00f9e786d4048db",
       "version_major": 2,
       "version_minor": 0
      },
      "text/plain": [
       "HBox(children=(FloatProgress(value=0.0, max=8.0), HTML(value='')))"
      ]
     },
     "metadata": {},
     "output_type": "display_data"
    },
    {
     "name": "stdout",
     "output_type": "stream",
     "text": [
      "\n",
      "cell ID =  653 progress bar below: (n/N frames):\n"
     ]
    },
    {
     "data": {
      "application/vnd.jupyter.widget-view+json": {
       "model_id": "0a958335412949b0b1d98f279171d068",
       "version_major": 2,
       "version_minor": 0
      },
      "text/plain": [
       "HBox(children=(FloatProgress(value=0.0, max=5.0), HTML(value='')))"
      ]
     },
     "metadata": {},
     "output_type": "display_data"
    },
    {
     "name": "stdout",
     "output_type": "stream",
     "text": [
      "\n",
      "cell ID =  652 progress bar below: (n/N frames):\n"
     ]
    },
    {
     "data": {
      "application/vnd.jupyter.widget-view+json": {
       "model_id": "96c0909a374d49258755cf100f362338",
       "version_major": 2,
       "version_minor": 0
      },
      "text/plain": [
       "HBox(children=(FloatProgress(value=0.0, max=67.0), HTML(value='')))"
      ]
     },
     "metadata": {},
     "output_type": "display_data"
    },
    {
     "name": "stdout",
     "output_type": "stream",
     "text": [
      "\n",
      "cell ID =  654 progress bar below: (n/N frames):\n"
     ]
    },
    {
     "data": {
      "application/vnd.jupyter.widget-view+json": {
       "model_id": "9cc8e7ef4bbd4c06abf1cd6284ef1e96",
       "version_major": 2,
       "version_minor": 0
      },
      "text/plain": [
       "HBox(children=(FloatProgress(value=0.0, max=10.0), HTML(value='')))"
      ]
     },
     "metadata": {},
     "output_type": "display_data"
    },
    {
     "name": "stdout",
     "output_type": "stream",
     "text": [
      "\n",
      "cell ID =  656 progress bar below: (n/N frames):\n"
     ]
    },
    {
     "data": {
      "application/vnd.jupyter.widget-view+json": {
       "model_id": "05709b5869f74fcea7876ce044fc32c8",
       "version_major": 2,
       "version_minor": 0
      },
      "text/plain": [
       "HBox(children=(FloatProgress(value=0.0, max=9.0), HTML(value='')))"
      ]
     },
     "metadata": {},
     "output_type": "display_data"
    },
    {
     "name": "stdout",
     "output_type": "stream",
     "text": [
      "\n",
      "cell ID =  658 progress bar below: (n/N frames):\n"
     ]
    },
    {
     "data": {
      "application/vnd.jupyter.widget-view+json": {
       "model_id": "66cc1d844be84732832e413b4aa017fb",
       "version_major": 2,
       "version_minor": 0
      },
      "text/plain": [
       "HBox(children=(FloatProgress(value=0.0, max=26.0), HTML(value='')))"
      ]
     },
     "metadata": {},
     "output_type": "display_data"
    },
    {
     "name": "stdout",
     "output_type": "stream",
     "text": [
      "\n",
      "cell ID =  659 progress bar below: (n/N frames):\n"
     ]
    },
    {
     "data": {
      "application/vnd.jupyter.widget-view+json": {
       "model_id": "5cba5bcf0b814374a0a60bcc1a9fe5a0",
       "version_major": 2,
       "version_minor": 0
      },
      "text/plain": [
       "HBox(children=(FloatProgress(value=0.0, max=838.0), HTML(value='')))"
      ]
     },
     "metadata": {},
     "output_type": "display_data"
    },
    {
     "name": "stdout",
     "output_type": "stream",
     "text": [
      "\n",
      "cell ID =  661 progress bar below: (n/N frames):\n"
     ]
    },
    {
     "data": {
      "application/vnd.jupyter.widget-view+json": {
       "model_id": "f83287fb72e34f82b7160d914a88b056",
       "version_major": 2,
       "version_minor": 0
      },
      "text/plain": [
       "HBox(children=(FloatProgress(value=0.0, max=31.0), HTML(value='')))"
      ]
     },
     "metadata": {},
     "output_type": "display_data"
    },
    {
     "name": "stdout",
     "output_type": "stream",
     "text": [
      "\n",
      "cell ID =  662 progress bar below: (n/N frames):\n"
     ]
    },
    {
     "data": {
      "application/vnd.jupyter.widget-view+json": {
       "model_id": "ae222db6ffe84d75bc0c7f3527735a7b",
       "version_major": 2,
       "version_minor": 0
      },
      "text/plain": [
       "HBox(children=(FloatProgress(value=0.0, max=165.0), HTML(value='')))"
      ]
     },
     "metadata": {},
     "output_type": "display_data"
    },
    {
     "name": "stdout",
     "output_type": "stream",
     "text": [
      "\n",
      "cell ID =  666 progress bar below: (n/N frames):\n"
     ]
    },
    {
     "data": {
      "application/vnd.jupyter.widget-view+json": {
       "model_id": "f4d8685c9f1e4aa5b6adf13875cbb9b6",
       "version_major": 2,
       "version_minor": 0
      },
      "text/plain": [
       "HBox(children=(FloatProgress(value=0.0, max=4.0), HTML(value='')))"
      ]
     },
     "metadata": {},
     "output_type": "display_data"
    },
    {
     "name": "stdout",
     "output_type": "stream",
     "text": [
      "\n",
      "cell ID =  664 progress bar below: (n/N frames):\n"
     ]
    },
    {
     "data": {
      "application/vnd.jupyter.widget-view+json": {
       "model_id": "bb599ab553a1484ea2f244778710dcd6",
       "version_major": 2,
       "version_minor": 0
      },
      "text/plain": [
       "HBox(children=(FloatProgress(value=0.0, max=3.0), HTML(value='')))"
      ]
     },
     "metadata": {},
     "output_type": "display_data"
    },
    {
     "name": "stdout",
     "output_type": "stream",
     "text": [
      "\n",
      "cell ID =  667 progress bar below: (n/N frames):\n"
     ]
    },
    {
     "data": {
      "application/vnd.jupyter.widget-view+json": {
       "model_id": "d3d1b5686a31432ca2080c2962b262cc",
       "version_major": 2,
       "version_minor": 0
      },
      "text/plain": [
       "HBox(children=(FloatProgress(value=0.0, max=7.0), HTML(value='')))"
      ]
     },
     "metadata": {},
     "output_type": "display_data"
    },
    {
     "name": "stdout",
     "output_type": "stream",
     "text": [
      "\n",
      "cell ID =  668 progress bar below: (n/N frames):\n"
     ]
    },
    {
     "data": {
      "application/vnd.jupyter.widget-view+json": {
       "model_id": "5f8edacb7a5c42c297a375d01c2fdb23",
       "version_major": 2,
       "version_minor": 0
      },
      "text/plain": [
       "HBox(children=(FloatProgress(value=0.0, max=8.0), HTML(value='')))"
      ]
     },
     "metadata": {},
     "output_type": "display_data"
    },
    {
     "name": "stdout",
     "output_type": "stream",
     "text": [
      "\n",
      "cell ID =  669 progress bar below: (n/N frames):\n"
     ]
    },
    {
     "data": {
      "application/vnd.jupyter.widget-view+json": {
       "model_id": "d43e6b8343c2466f9343b065ab85847a",
       "version_major": 2,
       "version_minor": 0
      },
      "text/plain": [
       "HBox(children=(FloatProgress(value=0.0, max=671.0), HTML(value='')))"
      ]
     },
     "metadata": {},
     "output_type": "display_data"
    },
    {
     "name": "stdout",
     "output_type": "stream",
     "text": [
      "\n",
      "cell ID =  672 progress bar below: (n/N frames):\n"
     ]
    },
    {
     "data": {
      "application/vnd.jupyter.widget-view+json": {
       "model_id": "c7874d15670742b6898fe6964bb27996",
       "version_major": 2,
       "version_minor": 0
      },
      "text/plain": [
       "HBox(children=(FloatProgress(value=0.0, max=432.0), HTML(value='')))"
      ]
     },
     "metadata": {},
     "output_type": "display_data"
    },
    {
     "name": "stdout",
     "output_type": "stream",
     "text": [
      "\n",
      "cell ID =  673 progress bar below: (n/N frames):\n"
     ]
    },
    {
     "data": {
      "application/vnd.jupyter.widget-view+json": {
       "model_id": "e3bb52eb8981491da39a1b9b4962c6ac",
       "version_major": 2,
       "version_minor": 0
      },
      "text/plain": [
       "HBox(children=(FloatProgress(value=0.0, max=5.0), HTML(value='')))"
      ]
     },
     "metadata": {},
     "output_type": "display_data"
    },
    {
     "name": "stdout",
     "output_type": "stream",
     "text": [
      "\n",
      "cell ID =  675 progress bar below: (n/N frames):\n"
     ]
    },
    {
     "data": {
      "application/vnd.jupyter.widget-view+json": {
       "model_id": "eefb4abfba3f41998ef59a142c788c49",
       "version_major": 2,
       "version_minor": 0
      },
      "text/plain": [
       "HBox(children=(FloatProgress(value=0.0, max=2.0), HTML(value='')))"
      ]
     },
     "metadata": {},
     "output_type": "display_data"
    },
    {
     "name": "stdout",
     "output_type": "stream",
     "text": [
      "\n",
      "cell ID =  677 progress bar below: (n/N frames):\n"
     ]
    },
    {
     "data": {
      "application/vnd.jupyter.widget-view+json": {
       "model_id": "f64b0a67a35448738e937c242b82bef5",
       "version_major": 2,
       "version_minor": 0
      },
      "text/plain": [
       "HBox(children=(FloatProgress(value=0.0, max=80.0), HTML(value='')))"
      ]
     },
     "metadata": {},
     "output_type": "display_data"
    },
    {
     "name": "stdout",
     "output_type": "stream",
     "text": [
      "\n",
      "cell ID =  679 progress bar below: (n/N frames):\n"
     ]
    },
    {
     "data": {
      "application/vnd.jupyter.widget-view+json": {
       "model_id": "6e2656e361c04127b8f0d878ef82275c",
       "version_major": 2,
       "version_minor": 0
      },
      "text/plain": [
       "HBox(children=(FloatProgress(value=0.0, max=13.0), HTML(value='')))"
      ]
     },
     "metadata": {},
     "output_type": "display_data"
    },
    {
     "name": "stdout",
     "output_type": "stream",
     "text": [
      "\n",
      "cell ID =  682 progress bar below: (n/N frames):\n"
     ]
    },
    {
     "data": {
      "application/vnd.jupyter.widget-view+json": {
       "model_id": "39a5f422927d4031befcce6930bef8a8",
       "version_major": 2,
       "version_minor": 0
      },
      "text/plain": [
       "HBox(children=(FloatProgress(value=0.0, max=19.0), HTML(value='')))"
      ]
     },
     "metadata": {},
     "output_type": "display_data"
    },
    {
     "name": "stdout",
     "output_type": "stream",
     "text": [
      "\n",
      "cell ID =  680 progress bar below: (n/N frames):\n"
     ]
    },
    {
     "data": {
      "application/vnd.jupyter.widget-view+json": {
       "model_id": "d522d1f7024041a5b90fc2a4a7ed0964",
       "version_major": 2,
       "version_minor": 0
      },
      "text/plain": [
       "HBox(children=(FloatProgress(value=0.0, max=2.0), HTML(value='')))"
      ]
     },
     "metadata": {},
     "output_type": "display_data"
    },
    {
     "name": "stdout",
     "output_type": "stream",
     "text": [
      "\n",
      "cell ID =  683 progress bar below: (n/N frames):\n"
     ]
    },
    {
     "data": {
      "application/vnd.jupyter.widget-view+json": {
       "model_id": "26a0e32d150546f7adc534d4d480b8bc",
       "version_major": 2,
       "version_minor": 0
      },
      "text/plain": [
       "HBox(children=(FloatProgress(value=0.0, max=77.0), HTML(value='')))"
      ]
     },
     "metadata": {},
     "output_type": "display_data"
    },
    {
     "name": "stdout",
     "output_type": "stream",
     "text": [
      "\n",
      "cell ID =  684 progress bar below: (n/N frames):\n"
     ]
    },
    {
     "data": {
      "application/vnd.jupyter.widget-view+json": {
       "model_id": "59dc622378b14c139fcd54bdeb7b26e0",
       "version_major": 2,
       "version_minor": 0
      },
      "text/plain": [
       "HBox(children=(FloatProgress(value=0.0, max=147.0), HTML(value='')))"
      ]
     },
     "metadata": {},
     "output_type": "display_data"
    },
    {
     "name": "stdout",
     "output_type": "stream",
     "text": [
      "\n",
      "cell ID =  685 progress bar below: (n/N frames):\n"
     ]
    },
    {
     "data": {
      "application/vnd.jupyter.widget-view+json": {
       "model_id": "7bed3bd212a640658c5b6b1353bbe1cb",
       "version_major": 2,
       "version_minor": 0
      },
      "text/plain": [
       "HBox(children=(FloatProgress(value=0.0, max=137.0), HTML(value='')))"
      ]
     },
     "metadata": {},
     "output_type": "display_data"
    },
    {
     "name": "stdout",
     "output_type": "stream",
     "text": [
      "\n",
      "cell ID =  686 progress bar below: (n/N frames):\n"
     ]
    },
    {
     "data": {
      "application/vnd.jupyter.widget-view+json": {
       "model_id": "ffb33a92dea64ef2bc645246b737bb09",
       "version_major": 2,
       "version_minor": 0
      },
      "text/plain": [
       "HBox(children=(FloatProgress(value=0.0, max=46.0), HTML(value='')))"
      ]
     },
     "metadata": {},
     "output_type": "display_data"
    },
    {
     "name": "stdout",
     "output_type": "stream",
     "text": [
      "\n",
      "cell ID =  688 progress bar below: (n/N frames):\n"
     ]
    },
    {
     "data": {
      "application/vnd.jupyter.widget-view+json": {
       "model_id": "4c28e5c7899a41f18475b68691d6f225",
       "version_major": 2,
       "version_minor": 0
      },
      "text/plain": [
       "HBox(children=(FloatProgress(value=0.0, max=318.0), HTML(value='')))"
      ]
     },
     "metadata": {},
     "output_type": "display_data"
    },
    {
     "name": "stdout",
     "output_type": "stream",
     "text": [
      "\n",
      "cell ID =  689 progress bar below: (n/N frames):\n"
     ]
    },
    {
     "data": {
      "application/vnd.jupyter.widget-view+json": {
       "model_id": "6ae3a27e68f74e319cb644dd9f2f5c3c",
       "version_major": 2,
       "version_minor": 0
      },
      "text/plain": [
       "HBox(children=(FloatProgress(value=0.0, max=2.0), HTML(value='')))"
      ]
     },
     "metadata": {},
     "output_type": "display_data"
    },
    {
     "name": "stdout",
     "output_type": "stream",
     "text": [
      "\n",
      "cell ID =  690 progress bar below: (n/N frames):\n"
     ]
    },
    {
     "data": {
      "application/vnd.jupyter.widget-view+json": {
       "model_id": "3a7d677aea9d42ec85b212e2f2ed7487",
       "version_major": 2,
       "version_minor": 0
      },
      "text/plain": [
       "HBox(children=(FloatProgress(value=0.0, max=2.0), HTML(value='')))"
      ]
     },
     "metadata": {},
     "output_type": "display_data"
    },
    {
     "name": "stdout",
     "output_type": "stream",
     "text": [
      "\n",
      "cell ID =  691 progress bar below: (n/N frames):\n"
     ]
    },
    {
     "data": {
      "application/vnd.jupyter.widget-view+json": {
       "model_id": "69c60b919f214deb92e9a55e323c1745",
       "version_major": 2,
       "version_minor": 0
      },
      "text/plain": [
       "HBox(children=(FloatProgress(value=0.0, max=16.0), HTML(value='')))"
      ]
     },
     "metadata": {},
     "output_type": "display_data"
    },
    {
     "name": "stdout",
     "output_type": "stream",
     "text": [
      "\n",
      "cell ID =  694 progress bar below: (n/N frames):\n"
     ]
    },
    {
     "data": {
      "application/vnd.jupyter.widget-view+json": {
       "model_id": "dd4b5cf587aa4d869b31cc4688aac8c4",
       "version_major": 2,
       "version_minor": 0
      },
      "text/plain": [
       "HBox(children=(FloatProgress(value=0.0, max=14.0), HTML(value='')))"
      ]
     },
     "metadata": {},
     "output_type": "display_data"
    },
    {
     "name": "stdout",
     "output_type": "stream",
     "text": [
      "\n",
      "cell ID =  695 progress bar below: (n/N frames):\n"
     ]
    },
    {
     "data": {
      "application/vnd.jupyter.widget-view+json": {
       "model_id": "29de75b381d84324a74130a53ea2206c",
       "version_major": 2,
       "version_minor": 0
      },
      "text/plain": [
       "HBox(children=(FloatProgress(value=0.0, max=181.0), HTML(value='')))"
      ]
     },
     "metadata": {},
     "output_type": "display_data"
    },
    {
     "name": "stdout",
     "output_type": "stream",
     "text": [
      "\n",
      "cell ID =  698 progress bar below: (n/N frames):\n"
     ]
    },
    {
     "data": {
      "application/vnd.jupyter.widget-view+json": {
       "model_id": "ccfaa95202624c41bccb5b8ae1036365",
       "version_major": 2,
       "version_minor": 0
      },
      "text/plain": [
       "HBox(children=(FloatProgress(value=0.0, max=15.0), HTML(value='')))"
      ]
     },
     "metadata": {},
     "output_type": "display_data"
    },
    {
     "name": "stdout",
     "output_type": "stream",
     "text": [
      "\n",
      "cell ID =  701 progress bar below: (n/N frames):\n"
     ]
    },
    {
     "data": {
      "application/vnd.jupyter.widget-view+json": {
       "model_id": "196ec390e2e3454cbd7c95963087da75",
       "version_major": 2,
       "version_minor": 0
      },
      "text/plain": [
       "HBox(children=(FloatProgress(value=0.0, max=17.0), HTML(value='')))"
      ]
     },
     "metadata": {},
     "output_type": "display_data"
    },
    {
     "name": "stdout",
     "output_type": "stream",
     "text": [
      "\n",
      "cell ID =  704 progress bar below: (n/N frames):\n"
     ]
    },
    {
     "data": {
      "application/vnd.jupyter.widget-view+json": {
       "model_id": "54200d10455342e1b8b380757a104e37",
       "version_major": 2,
       "version_minor": 0
      },
      "text/plain": [
       "HBox(children=(FloatProgress(value=0.0, max=41.0), HTML(value='')))"
      ]
     },
     "metadata": {},
     "output_type": "display_data"
    },
    {
     "name": "stdout",
     "output_type": "stream",
     "text": [
      "\n",
      "cell ID =  705 progress bar below: (n/N frames):\n"
     ]
    },
    {
     "data": {
      "application/vnd.jupyter.widget-view+json": {
       "model_id": "46ce6ae4242f403bbd53a68b02c800e8",
       "version_major": 2,
       "version_minor": 0
      },
      "text/plain": [
       "HBox(children=(FloatProgress(value=0.0, max=50.0), HTML(value='')))"
      ]
     },
     "metadata": {},
     "output_type": "display_data"
    },
    {
     "name": "stdout",
     "output_type": "stream",
     "text": [
      "\n",
      "cell ID =  706 progress bar below: (n/N frames):\n"
     ]
    },
    {
     "data": {
      "application/vnd.jupyter.widget-view+json": {
       "model_id": "2ded3ba3539643c2b2a65e4642260425",
       "version_major": 2,
       "version_minor": 0
      },
      "text/plain": [
       "HBox(children=(FloatProgress(value=0.0, max=52.0), HTML(value='')))"
      ]
     },
     "metadata": {},
     "output_type": "display_data"
    },
    {
     "name": "stdout",
     "output_type": "stream",
     "text": [
      "\n",
      "cell ID =  708 progress bar below: (n/N frames):\n"
     ]
    },
    {
     "data": {
      "application/vnd.jupyter.widget-view+json": {
       "model_id": "2ed78d2da60d43f5a6e0dbbeb1e1871b",
       "version_major": 2,
       "version_minor": 0
      },
      "text/plain": [
       "HBox(children=(FloatProgress(value=0.0, max=7.0), HTML(value='')))"
      ]
     },
     "metadata": {},
     "output_type": "display_data"
    },
    {
     "name": "stdout",
     "output_type": "stream",
     "text": [
      "\n",
      "cell ID =  709 progress bar below: (n/N frames):\n"
     ]
    },
    {
     "data": {
      "application/vnd.jupyter.widget-view+json": {
       "model_id": "7bca72e5d56e4242a0088b4fa4eb1671",
       "version_major": 2,
       "version_minor": 0
      },
      "text/plain": [
       "HBox(children=(FloatProgress(value=0.0, max=18.0), HTML(value='')))"
      ]
     },
     "metadata": {},
     "output_type": "display_data"
    },
    {
     "name": "stdout",
     "output_type": "stream",
     "text": [
      "\n",
      "cell ID =  722 progress bar below: (n/N frames):\n"
     ]
    },
    {
     "data": {
      "application/vnd.jupyter.widget-view+json": {
       "model_id": "ae09fc7c86a840ecaf70f30cae1604b4",
       "version_major": 2,
       "version_minor": 0
      },
      "text/plain": [
       "HBox(children=(FloatProgress(value=0.0, max=592.0), HTML(value='')))"
      ]
     },
     "metadata": {},
     "output_type": "display_data"
    },
    {
     "name": "stdout",
     "output_type": "stream",
     "text": [
      "\n",
      "cell ID =  720 progress bar below: (n/N frames):\n"
     ]
    },
    {
     "data": {
      "application/vnd.jupyter.widget-view+json": {
       "model_id": "1d428ca012484fcbbac65e2d5c999e98",
       "version_major": 2,
       "version_minor": 0
      },
      "text/plain": [
       "HBox(children=(FloatProgress(value=0.0, max=413.0), HTML(value='')))"
      ]
     },
     "metadata": {},
     "output_type": "display_data"
    },
    {
     "name": "stdout",
     "output_type": "stream",
     "text": [
      "\n",
      "cell ID =  719 progress bar below: (n/N frames):\n"
     ]
    },
    {
     "data": {
      "application/vnd.jupyter.widget-view+json": {
       "model_id": "22d5b49c0105496bb9f06c3f44bcac69",
       "version_major": 2,
       "version_minor": 0
      },
      "text/plain": [
       "HBox(children=(FloatProgress(value=0.0, max=5.0), HTML(value='')))"
      ]
     },
     "metadata": {},
     "output_type": "display_data"
    },
    {
     "name": "stdout",
     "output_type": "stream",
     "text": [
      "\n",
      "cell ID =  714 progress bar below: (n/N frames):\n"
     ]
    },
    {
     "data": {
      "application/vnd.jupyter.widget-view+json": {
       "model_id": "fcc00c8f3d0d4c37886dda1deabe8371",
       "version_major": 2,
       "version_minor": 0
      },
      "text/plain": [
       "HBox(children=(FloatProgress(value=0.0, max=618.0), HTML(value='')))"
      ]
     },
     "metadata": {},
     "output_type": "display_data"
    },
    {
     "name": "stdout",
     "output_type": "stream",
     "text": [
      "\n",
      "cell ID =  718 progress bar below: (n/N frames):\n"
     ]
    },
    {
     "data": {
      "application/vnd.jupyter.widget-view+json": {
       "model_id": "009c24345c214c188789c72e282b85c3",
       "version_major": 2,
       "version_minor": 0
      },
      "text/plain": [
       "HBox(children=(FloatProgress(value=0.0, max=19.0), HTML(value='')))"
      ]
     },
     "metadata": {},
     "output_type": "display_data"
    },
    {
     "name": "stdout",
     "output_type": "stream",
     "text": [
      "\n",
      "cell ID =  717 progress bar below: (n/N frames):\n"
     ]
    },
    {
     "data": {
      "application/vnd.jupyter.widget-view+json": {
       "model_id": "9c85a78b730b4fb6b095aab36ac55b7b",
       "version_major": 2,
       "version_minor": 0
      },
      "text/plain": [
       "HBox(children=(FloatProgress(value=0.0, max=5.0), HTML(value='')))"
      ]
     },
     "metadata": {},
     "output_type": "display_data"
    },
    {
     "name": "stdout",
     "output_type": "stream",
     "text": [
      "\n",
      "cell ID =  716 progress bar below: (n/N frames):\n"
     ]
    },
    {
     "data": {
      "application/vnd.jupyter.widget-view+json": {
       "model_id": "524f1850ad72444d9ab6bc0d9c800e2e",
       "version_major": 2,
       "version_minor": 0
      },
      "text/plain": [
       "HBox(children=(FloatProgress(value=0.0, max=57.0), HTML(value='')))"
      ]
     },
     "metadata": {},
     "output_type": "display_data"
    },
    {
     "name": "stdout",
     "output_type": "stream",
     "text": [
      "\n",
      "cell ID =  711 progress bar below: (n/N frames):\n"
     ]
    },
    {
     "data": {
      "application/vnd.jupyter.widget-view+json": {
       "model_id": "2fbb35b0ba27421ab0c75ef7d9d4f335",
       "version_major": 2,
       "version_minor": 0
      },
      "text/plain": [
       "HBox(children=(FloatProgress(value=0.0, max=18.0), HTML(value='')))"
      ]
     },
     "metadata": {},
     "output_type": "display_data"
    },
    {
     "name": "stdout",
     "output_type": "stream",
     "text": [
      "\n",
      "cell ID =  713 progress bar below: (n/N frames):\n"
     ]
    },
    {
     "data": {
      "application/vnd.jupyter.widget-view+json": {
       "model_id": "9e9633926a0a4e5ba26139ef8837def5",
       "version_major": 2,
       "version_minor": 0
      },
      "text/plain": [
       "HBox(children=(FloatProgress(value=0.0, max=815.0), HTML(value='')))"
      ]
     },
     "metadata": {},
     "output_type": "display_data"
    },
    {
     "name": "stdout",
     "output_type": "stream",
     "text": [
      "\n",
      "cell ID =  712 progress bar below: (n/N frames):\n"
     ]
    },
    {
     "data": {
      "application/vnd.jupyter.widget-view+json": {
       "model_id": "432dd48c18a3467cafba4e6db52b3ca5",
       "version_major": 2,
       "version_minor": 0
      },
      "text/plain": [
       "HBox(children=(FloatProgress(value=0.0, max=612.0), HTML(value='')))"
      ]
     },
     "metadata": {},
     "output_type": "display_data"
    },
    {
     "name": "stdout",
     "output_type": "stream",
     "text": [
      "\n",
      "cell ID =  723 progress bar below: (n/N frames):\n"
     ]
    },
    {
     "data": {
      "application/vnd.jupyter.widget-view+json": {
       "model_id": "caa72e5f8bab4b05ba6853ca3d1a4c79",
       "version_major": 2,
       "version_minor": 0
      },
      "text/plain": [
       "HBox(children=(FloatProgress(value=0.0, max=410.0), HTML(value='')))"
      ]
     },
     "metadata": {},
     "output_type": "display_data"
    },
    {
     "name": "stdout",
     "output_type": "stream",
     "text": [
      "\n",
      "cell ID =  724 progress bar below: (n/N frames):\n"
     ]
    },
    {
     "data": {
      "application/vnd.jupyter.widget-view+json": {
       "model_id": "04d21dc62ca34ba881f2b802da1e2f8b",
       "version_major": 2,
       "version_minor": 0
      },
      "text/plain": [
       "HBox(children=(FloatProgress(value=0.0, max=2.0), HTML(value='')))"
      ]
     },
     "metadata": {},
     "output_type": "display_data"
    },
    {
     "name": "stdout",
     "output_type": "stream",
     "text": [
      "\n",
      "cell ID =  725 progress bar below: (n/N frames):\n"
     ]
    },
    {
     "data": {
      "application/vnd.jupyter.widget-view+json": {
       "model_id": "f73a8e83f60f4ce18bf48b255fc4f744",
       "version_major": 2,
       "version_minor": 0
      },
      "text/plain": [
       "HBox(children=(FloatProgress(value=0.0, max=3.0), HTML(value='')))"
      ]
     },
     "metadata": {},
     "output_type": "display_data"
    },
    {
     "name": "stdout",
     "output_type": "stream",
     "text": [
      "\n",
      "cell ID =  727 progress bar below: (n/N frames):\n"
     ]
    },
    {
     "data": {
      "application/vnd.jupyter.widget-view+json": {
       "model_id": "f63088ac31b04a868f42970aa89a548e",
       "version_major": 2,
       "version_minor": 0
      },
      "text/plain": [
       "HBox(children=(FloatProgress(value=0.0, max=810.0), HTML(value='')))"
      ]
     },
     "metadata": {},
     "output_type": "display_data"
    },
    {
     "name": "stdout",
     "output_type": "stream",
     "text": [
      "\n",
      "cell ID =  735 progress bar below: (n/N frames):\n"
     ]
    },
    {
     "data": {
      "application/vnd.jupyter.widget-view+json": {
       "model_id": "3b897db3cdf54fee86950e0ca1d3e51b",
       "version_major": 2,
       "version_minor": 0
      },
      "text/plain": [
       "HBox(children=(FloatProgress(value=0.0, max=5.0), HTML(value='')))"
      ]
     },
     "metadata": {},
     "output_type": "display_data"
    },
    {
     "name": "stdout",
     "output_type": "stream",
     "text": [
      "\n",
      "cell ID =  739 progress bar below: (n/N frames):\n"
     ]
    },
    {
     "data": {
      "application/vnd.jupyter.widget-view+json": {
       "model_id": "70f62ce9e9ef48ca92ca6f956840a08a",
       "version_major": 2,
       "version_minor": 0
      },
      "text/plain": [
       "HBox(children=(FloatProgress(value=0.0, max=65.0), HTML(value='')))"
      ]
     },
     "metadata": {},
     "output_type": "display_data"
    },
    {
     "name": "stdout",
     "output_type": "stream",
     "text": [
      "\n",
      "cell ID =  744 progress bar below: (n/N frames):\n"
     ]
    },
    {
     "data": {
      "application/vnd.jupyter.widget-view+json": {
       "model_id": "1edb4426091c4a699add6cf9fcd10c2c",
       "version_major": 2,
       "version_minor": 0
      },
      "text/plain": [
       "HBox(children=(FloatProgress(value=0.0, max=6.0), HTML(value='')))"
      ]
     },
     "metadata": {},
     "output_type": "display_data"
    },
    {
     "name": "stdout",
     "output_type": "stream",
     "text": [
      "\n",
      "cell ID =  742 progress bar below: (n/N frames):\n"
     ]
    },
    {
     "data": {
      "application/vnd.jupyter.widget-view+json": {
       "model_id": "43a0464a741f478c923b709e45b1f1d4",
       "version_major": 2,
       "version_minor": 0
      },
      "text/plain": [
       "HBox(children=(FloatProgress(value=0.0, max=2.0), HTML(value='')))"
      ]
     },
     "metadata": {},
     "output_type": "display_data"
    },
    {
     "name": "stdout",
     "output_type": "stream",
     "text": [
      "\n",
      "cell ID =  740 progress bar below: (n/N frames):\n"
     ]
    },
    {
     "data": {
      "application/vnd.jupyter.widget-view+json": {
       "model_id": "09ebe60f18d246cf9d387cfb505eea4b",
       "version_major": 2,
       "version_minor": 0
      },
      "text/plain": [
       "HBox(children=(FloatProgress(value=0.0, max=435.0), HTML(value='')))"
      ]
     },
     "metadata": {},
     "output_type": "display_data"
    },
    {
     "name": "stdout",
     "output_type": "stream",
     "text": [
      "\n",
      "cell ID =  737 progress bar below: (n/N frames):\n"
     ]
    },
    {
     "data": {
      "application/vnd.jupyter.widget-view+json": {
       "model_id": "86e3bcd1e4464bf0a7e0701d04a8053f",
       "version_major": 2,
       "version_minor": 0
      },
      "text/plain": [
       "HBox(children=(FloatProgress(value=0.0, max=49.0), HTML(value='')))"
      ]
     },
     "metadata": {},
     "output_type": "display_data"
    },
    {
     "name": "stdout",
     "output_type": "stream",
     "text": [
      "\n",
      "cell ID =  748 progress bar below: (n/N frames):\n"
     ]
    },
    {
     "data": {
      "application/vnd.jupyter.widget-view+json": {
       "model_id": "12e6f4bea91a4b659a3252cc39b851c4",
       "version_major": 2,
       "version_minor": 0
      },
      "text/plain": [
       "HBox(children=(FloatProgress(value=0.0, max=804.0), HTML(value='')))"
      ]
     },
     "metadata": {},
     "output_type": "display_data"
    },
    {
     "name": "stdout",
     "output_type": "stream",
     "text": [
      "\n",
      "cell ID =  749 progress bar below: (n/N frames):\n"
     ]
    },
    {
     "data": {
      "application/vnd.jupyter.widget-view+json": {
       "model_id": "5e54f14f2b154420bdf42bf44618f3de",
       "version_major": 2,
       "version_minor": 0
      },
      "text/plain": [
       "HBox(children=(FloatProgress(value=0.0, max=3.0), HTML(value='')))"
      ]
     },
     "metadata": {},
     "output_type": "display_data"
    },
    {
     "name": "stdout",
     "output_type": "stream",
     "text": [
      "\n",
      "cell ID =  750 progress bar below: (n/N frames):\n"
     ]
    },
    {
     "data": {
      "application/vnd.jupyter.widget-view+json": {
       "model_id": "d4ffa0bc635f40368d8b00398543dfed",
       "version_major": 2,
       "version_minor": 0
      },
      "text/plain": [
       "HBox(children=(FloatProgress(value=0.0, max=355.0), HTML(value='')))"
      ]
     },
     "metadata": {},
     "output_type": "display_data"
    },
    {
     "name": "stdout",
     "output_type": "stream",
     "text": [
      "\n",
      "cell ID =  751 progress bar below: (n/N frames):\n"
     ]
    },
    {
     "data": {
      "application/vnd.jupyter.widget-view+json": {
       "model_id": "f24e3fb5e0e244e384d0ec7b27ca514d",
       "version_major": 2,
       "version_minor": 0
      },
      "text/plain": [
       "HBox(children=(FloatProgress(value=0.0, max=8.0), HTML(value='')))"
      ]
     },
     "metadata": {},
     "output_type": "display_data"
    },
    {
     "name": "stdout",
     "output_type": "stream",
     "text": [
      "\n",
      "cell ID =  752 progress bar below: (n/N frames):\n"
     ]
    },
    {
     "data": {
      "application/vnd.jupyter.widget-view+json": {
       "model_id": "8f191ff2ef5442b197226df10beca2ec",
       "version_major": 2,
       "version_minor": 0
      },
      "text/plain": [
       "HBox(children=(FloatProgress(value=0.0, max=29.0), HTML(value='')))"
      ]
     },
     "metadata": {},
     "output_type": "display_data"
    },
    {
     "name": "stdout",
     "output_type": "stream",
     "text": [
      "\n",
      "cell ID =  753 progress bar below: (n/N frames):\n"
     ]
    },
    {
     "data": {
      "application/vnd.jupyter.widget-view+json": {
       "model_id": "87c51787f2804b44922278bcf8a44bc2",
       "version_major": 2,
       "version_minor": 0
      },
      "text/plain": [
       "HBox(children=(FloatProgress(value=0.0, max=3.0), HTML(value='')))"
      ]
     },
     "metadata": {},
     "output_type": "display_data"
    },
    {
     "name": "stdout",
     "output_type": "stream",
     "text": [
      "\n",
      "cell ID =  754 progress bar below: (n/N frames):\n"
     ]
    },
    {
     "data": {
      "application/vnd.jupyter.widget-view+json": {
       "model_id": "8450bbebb94b4c94bf57b268d3b47a69",
       "version_major": 2,
       "version_minor": 0
      },
      "text/plain": [
       "HBox(children=(FloatProgress(value=0.0, max=25.0), HTML(value='')))"
      ]
     },
     "metadata": {},
     "output_type": "display_data"
    },
    {
     "name": "stdout",
     "output_type": "stream",
     "text": [
      "\n",
      "cell ID =  756 progress bar below: (n/N frames):\n"
     ]
    },
    {
     "data": {
      "application/vnd.jupyter.widget-view+json": {
       "model_id": "8768d885bd0b495e8f857e276c43dcc4",
       "version_major": 2,
       "version_minor": 0
      },
      "text/plain": [
       "HBox(children=(FloatProgress(value=0.0, max=73.0), HTML(value='')))"
      ]
     },
     "metadata": {},
     "output_type": "display_data"
    },
    {
     "name": "stdout",
     "output_type": "stream",
     "text": [
      "\n",
      "cell ID =  757 progress bar below: (n/N frames):\n"
     ]
    },
    {
     "data": {
      "application/vnd.jupyter.widget-view+json": {
       "model_id": "04ac6d4f01b94867b57ea492ea8c541a",
       "version_major": 2,
       "version_minor": 0
      },
      "text/plain": [
       "HBox(children=(FloatProgress(value=0.0, max=6.0), HTML(value='')))"
      ]
     },
     "metadata": {},
     "output_type": "display_data"
    },
    {
     "name": "stdout",
     "output_type": "stream",
     "text": [
      "\n",
      "cell ID =  759 progress bar below: (n/N frames):\n"
     ]
    },
    {
     "data": {
      "application/vnd.jupyter.widget-view+json": {
       "model_id": "5ffe09a7ecc44c88a9eb2220d4e83611",
       "version_major": 2,
       "version_minor": 0
      },
      "text/plain": [
       "HBox(children=(FloatProgress(value=0.0, max=63.0), HTML(value='')))"
      ]
     },
     "metadata": {},
     "output_type": "display_data"
    },
    {
     "name": "stdout",
     "output_type": "stream",
     "text": [
      "\n",
      "cell ID =  760 progress bar below: (n/N frames):\n"
     ]
    },
    {
     "data": {
      "application/vnd.jupyter.widget-view+json": {
       "model_id": "afc459374e3e414689719b2a6733cb99",
       "version_major": 2,
       "version_minor": 0
      },
      "text/plain": [
       "HBox(children=(FloatProgress(value=0.0, max=10.0), HTML(value='')))"
      ]
     },
     "metadata": {},
     "output_type": "display_data"
    },
    {
     "name": "stdout",
     "output_type": "stream",
     "text": [
      "\n",
      "cell ID =  761 progress bar below: (n/N frames):\n"
     ]
    },
    {
     "data": {
      "application/vnd.jupyter.widget-view+json": {
       "model_id": "d70c23346f9a46289655b9acd5611dde",
       "version_major": 2,
       "version_minor": 0
      },
      "text/plain": [
       "HBox(children=(FloatProgress(value=0.0, max=38.0), HTML(value='')))"
      ]
     },
     "metadata": {},
     "output_type": "display_data"
    },
    {
     "name": "stdout",
     "output_type": "stream",
     "text": [
      "\n",
      "cell ID =  763 progress bar below: (n/N frames):\n"
     ]
    },
    {
     "data": {
      "application/vnd.jupyter.widget-view+json": {
       "model_id": "7724b0c8b6b945a3af411ef15ba2b7d7",
       "version_major": 2,
       "version_minor": 0
      },
      "text/plain": [
       "HBox(children=(FloatProgress(value=0.0, max=664.0), HTML(value='')))"
      ]
     },
     "metadata": {},
     "output_type": "display_data"
    },
    {
     "name": "stdout",
     "output_type": "stream",
     "text": [
      "\n",
      "cell ID =  764 progress bar below: (n/N frames):\n"
     ]
    },
    {
     "data": {
      "application/vnd.jupyter.widget-view+json": {
       "model_id": "0caa03bebb1b49358aba187ff512903b",
       "version_major": 2,
       "version_minor": 0
      },
      "text/plain": [
       "HBox(children=(FloatProgress(value=0.0, max=31.0), HTML(value='')))"
      ]
     },
     "metadata": {},
     "output_type": "display_data"
    },
    {
     "name": "stdout",
     "output_type": "stream",
     "text": [
      "\n",
      "cell ID =  770 progress bar below: (n/N frames):\n"
     ]
    },
    {
     "data": {
      "application/vnd.jupyter.widget-view+json": {
       "model_id": "e9ba587b780a4fb3b2497a86248729e0",
       "version_major": 2,
       "version_minor": 0
      },
      "text/plain": [
       "HBox(children=(FloatProgress(value=0.0, max=4.0), HTML(value='')))"
      ]
     },
     "metadata": {},
     "output_type": "display_data"
    },
    {
     "name": "stdout",
     "output_type": "stream",
     "text": [
      "\n",
      "cell ID =  771 progress bar below: (n/N frames):\n"
     ]
    },
    {
     "data": {
      "application/vnd.jupyter.widget-view+json": {
       "model_id": "80709169c9314c548a7ef610883fb738",
       "version_major": 2,
       "version_minor": 0
      },
      "text/plain": [
       "HBox(children=(FloatProgress(value=0.0, max=4.0), HTML(value='')))"
      ]
     },
     "metadata": {},
     "output_type": "display_data"
    },
    {
     "name": "stdout",
     "output_type": "stream",
     "text": [
      "\n",
      "cell ID =  775 progress bar below: (n/N frames):\n"
     ]
    },
    {
     "data": {
      "application/vnd.jupyter.widget-view+json": {
       "model_id": "431d8b56dc384da38ef93097ca2d1e39",
       "version_major": 2,
       "version_minor": 0
      },
      "text/plain": [
       "HBox(children=(FloatProgress(value=0.0, max=12.0), HTML(value='')))"
      ]
     },
     "metadata": {},
     "output_type": "display_data"
    },
    {
     "name": "stdout",
     "output_type": "stream",
     "text": [
      "\n",
      "cell ID =  776 progress bar below: (n/N frames):\n"
     ]
    },
    {
     "data": {
      "application/vnd.jupyter.widget-view+json": {
       "model_id": "eb14cdc691804cdabb60a51ebfc0ff51",
       "version_major": 2,
       "version_minor": 0
      },
      "text/plain": [
       "HBox(children=(FloatProgress(value=0.0, max=2.0), HTML(value='')))"
      ]
     },
     "metadata": {},
     "output_type": "display_data"
    },
    {
     "name": "stdout",
     "output_type": "stream",
     "text": [
      "\n",
      "cell ID =  783 progress bar below: (n/N frames):\n"
     ]
    },
    {
     "data": {
      "application/vnd.jupyter.widget-view+json": {
       "model_id": "646be1167ce2497daa9a3673aab959ee",
       "version_major": 2,
       "version_minor": 0
      },
      "text/plain": [
       "HBox(children=(FloatProgress(value=0.0, max=5.0), HTML(value='')))"
      ]
     },
     "metadata": {},
     "output_type": "display_data"
    },
    {
     "name": "stdout",
     "output_type": "stream",
     "text": [
      "\n",
      "cell ID =  785 progress bar below: (n/N frames):\n"
     ]
    },
    {
     "data": {
      "application/vnd.jupyter.widget-view+json": {
       "model_id": "322ecd4fa2ff4e91b5e6c82f7eff7037",
       "version_major": 2,
       "version_minor": 0
      },
      "text/plain": [
       "HBox(children=(FloatProgress(value=0.0, max=7.0), HTML(value='')))"
      ]
     },
     "metadata": {},
     "output_type": "display_data"
    },
    {
     "name": "stdout",
     "output_type": "stream",
     "text": [
      "\n",
      "cell ID =  786 progress bar below: (n/N frames):\n"
     ]
    },
    {
     "data": {
      "application/vnd.jupyter.widget-view+json": {
       "model_id": "f2d4f5981bc5422297e5286a44bab5c8",
       "version_major": 2,
       "version_minor": 0
      },
      "text/plain": [
       "HBox(children=(FloatProgress(value=0.0, max=197.0), HTML(value='')))"
      ]
     },
     "metadata": {},
     "output_type": "display_data"
    },
    {
     "name": "stdout",
     "output_type": "stream",
     "text": [
      "\n",
      "cell ID =  787 progress bar below: (n/N frames):\n"
     ]
    },
    {
     "data": {
      "application/vnd.jupyter.widget-view+json": {
       "model_id": "2c24a688e09448909c96c3274da82c58",
       "version_major": 2,
       "version_minor": 0
      },
      "text/plain": [
       "HBox(children=(FloatProgress(value=0.0, max=262.0), HTML(value='')))"
      ]
     },
     "metadata": {},
     "output_type": "display_data"
    },
    {
     "name": "stdout",
     "output_type": "stream",
     "text": [
      "\n",
      "cell ID =  788 progress bar below: (n/N frames):\n"
     ]
    },
    {
     "data": {
      "application/vnd.jupyter.widget-view+json": {
       "model_id": "306c8b4225be4b3a9b2dedd59194e335",
       "version_major": 2,
       "version_minor": 0
      },
      "text/plain": [
       "HBox(children=(FloatProgress(value=0.0, max=7.0), HTML(value='')))"
      ]
     },
     "metadata": {},
     "output_type": "display_data"
    },
    {
     "name": "stdout",
     "output_type": "stream",
     "text": [
      "\n",
      "cell ID =  789 progress bar below: (n/N frames):\n"
     ]
    },
    {
     "data": {
      "application/vnd.jupyter.widget-view+json": {
       "model_id": "3412eab5d28d494b8111e9df89295b1d",
       "version_major": 2,
       "version_minor": 0
      },
      "text/plain": [
       "HBox(children=(FloatProgress(value=0.0, max=24.0), HTML(value='')))"
      ]
     },
     "metadata": {},
     "output_type": "display_data"
    },
    {
     "name": "stdout",
     "output_type": "stream",
     "text": [
      "\n",
      "cell ID =  790 progress bar below: (n/N frames):\n"
     ]
    },
    {
     "data": {
      "application/vnd.jupyter.widget-view+json": {
       "model_id": "c9c5a17a3fe149e78d5a1674bd39a002",
       "version_major": 2,
       "version_minor": 0
      },
      "text/plain": [
       "HBox(children=(FloatProgress(value=0.0, max=6.0), HTML(value='')))"
      ]
     },
     "metadata": {},
     "output_type": "display_data"
    },
    {
     "name": "stdout",
     "output_type": "stream",
     "text": [
      "\n",
      "cell ID =  792 progress bar below: (n/N frames):\n"
     ]
    },
    {
     "data": {
      "application/vnd.jupyter.widget-view+json": {
       "model_id": "a87f645f70a149fc8f1ae4322c16df24",
       "version_major": 2,
       "version_minor": 0
      },
      "text/plain": [
       "HBox(children=(FloatProgress(value=0.0, max=13.0), HTML(value='')))"
      ]
     },
     "metadata": {},
     "output_type": "display_data"
    },
    {
     "name": "stdout",
     "output_type": "stream",
     "text": [
      "\n",
      "cell ID =  794 progress bar below: (n/N frames):\n"
     ]
    },
    {
     "data": {
      "application/vnd.jupyter.widget-view+json": {
       "model_id": "18e4aac5551f46048ff98dc062d8e546",
       "version_major": 2,
       "version_minor": 0
      },
      "text/plain": [
       "HBox(children=(FloatProgress(value=0.0, max=5.0), HTML(value='')))"
      ]
     },
     "metadata": {},
     "output_type": "display_data"
    },
    {
     "name": "stdout",
     "output_type": "stream",
     "text": [
      "\n",
      "cell ID =  795 progress bar below: (n/N frames):\n"
     ]
    },
    {
     "data": {
      "application/vnd.jupyter.widget-view+json": {
       "model_id": "16d8616d75bf464981d1dfcf01ac3be4",
       "version_major": 2,
       "version_minor": 0
      },
      "text/plain": [
       "HBox(children=(FloatProgress(value=0.0, max=9.0), HTML(value='')))"
      ]
     },
     "metadata": {},
     "output_type": "display_data"
    },
    {
     "name": "stdout",
     "output_type": "stream",
     "text": [
      "\n",
      "cell ID =  800 progress bar below: (n/N frames):\n"
     ]
    },
    {
     "data": {
      "application/vnd.jupyter.widget-view+json": {
       "model_id": "09a6c33c0f0d4065b58c6e792d15e5a6",
       "version_major": 2,
       "version_minor": 0
      },
      "text/plain": [
       "HBox(children=(FloatProgress(value=0.0, max=19.0), HTML(value='')))"
      ]
     },
     "metadata": {},
     "output_type": "display_data"
    },
    {
     "name": "stdout",
     "output_type": "stream",
     "text": [
      "\n",
      "cell ID =  801 progress bar below: (n/N frames):\n"
     ]
    },
    {
     "data": {
      "application/vnd.jupyter.widget-view+json": {
       "model_id": "976d47e6c05946ca86f418df9ab42c63",
       "version_major": 2,
       "version_minor": 0
      },
      "text/plain": [
       "HBox(children=(FloatProgress(value=0.0, max=17.0), HTML(value='')))"
      ]
     },
     "metadata": {},
     "output_type": "display_data"
    },
    {
     "name": "stdout",
     "output_type": "stream",
     "text": [
      "\n",
      "cell ID =  802 progress bar below: (n/N frames):\n"
     ]
    },
    {
     "data": {
      "application/vnd.jupyter.widget-view+json": {
       "model_id": "96e9a323a0fb44c0b43797b5606569ee",
       "version_major": 2,
       "version_minor": 0
      },
      "text/plain": [
       "HBox(children=(FloatProgress(value=0.0, max=327.0), HTML(value='')))"
      ]
     },
     "metadata": {},
     "output_type": "display_data"
    },
    {
     "name": "stdout",
     "output_type": "stream",
     "text": [
      "\n",
      "cell ID =  803 progress bar below: (n/N frames):\n"
     ]
    },
    {
     "data": {
      "application/vnd.jupyter.widget-view+json": {
       "model_id": "d487691c40af4ee2bc1263e2e7e4b26d",
       "version_major": 2,
       "version_minor": 0
      },
      "text/plain": [
       "HBox(children=(FloatProgress(value=0.0, max=27.0), HTML(value='')))"
      ]
     },
     "metadata": {},
     "output_type": "display_data"
    },
    {
     "name": "stdout",
     "output_type": "stream",
     "text": [
      "\n",
      "cell ID =  804 progress bar below: (n/N frames):\n"
     ]
    },
    {
     "data": {
      "application/vnd.jupyter.widget-view+json": {
       "model_id": "b9275ed40bb54998b5cde90e29f07723",
       "version_major": 2,
       "version_minor": 0
      },
      "text/plain": [
       "HBox(children=(FloatProgress(value=0.0, max=124.0), HTML(value='')))"
      ]
     },
     "metadata": {},
     "output_type": "display_data"
    },
    {
     "name": "stdout",
     "output_type": "stream",
     "text": [
      "\n",
      "cell ID =  805 progress bar below: (n/N frames):\n"
     ]
    },
    {
     "data": {
      "application/vnd.jupyter.widget-view+json": {
       "model_id": "8fadd9b44e0b495583b38a640a9738f8",
       "version_major": 2,
       "version_minor": 0
      },
      "text/plain": [
       "HBox(children=(FloatProgress(value=0.0, max=391.0), HTML(value='')))"
      ]
     },
     "metadata": {},
     "output_type": "display_data"
    },
    {
     "name": "stdout",
     "output_type": "stream",
     "text": [
      "\n",
      "cell ID =  807 progress bar below: (n/N frames):\n"
     ]
    },
    {
     "data": {
      "application/vnd.jupyter.widget-view+json": {
       "model_id": "0d63f0f9f972455f8fbe9466ba60465e",
       "version_major": 2,
       "version_minor": 0
      },
      "text/plain": [
       "HBox(children=(FloatProgress(value=0.0, max=4.0), HTML(value='')))"
      ]
     },
     "metadata": {},
     "output_type": "display_data"
    },
    {
     "name": "stdout",
     "output_type": "stream",
     "text": [
      "\n",
      "cell ID =  809 progress bar below: (n/N frames):\n"
     ]
    },
    {
     "data": {
      "application/vnd.jupyter.widget-view+json": {
       "model_id": "b2090e5de26547ce9668c856c1827c7a",
       "version_major": 2,
       "version_minor": 0
      },
      "text/plain": [
       "HBox(children=(FloatProgress(value=0.0, max=10.0), HTML(value='')))"
      ]
     },
     "metadata": {},
     "output_type": "display_data"
    },
    {
     "name": "stdout",
     "output_type": "stream",
     "text": [
      "\n",
      "cell ID =  810 progress bar below: (n/N frames):\n"
     ]
    },
    {
     "data": {
      "application/vnd.jupyter.widget-view+json": {
       "model_id": "ba1a72cf0916492bb028bb6df0d0af84",
       "version_major": 2,
       "version_minor": 0
      },
      "text/plain": [
       "HBox(children=(FloatProgress(value=0.0, max=7.0), HTML(value='')))"
      ]
     },
     "metadata": {},
     "output_type": "display_data"
    },
    {
     "name": "stdout",
     "output_type": "stream",
     "text": [
      "\n",
      "cell ID =  811 progress bar below: (n/N frames):\n"
     ]
    },
    {
     "data": {
      "application/vnd.jupyter.widget-view+json": {
       "model_id": "dfee696f3b324c7f8ba4d8497a4102ee",
       "version_major": 2,
       "version_minor": 0
      },
      "text/plain": [
       "HBox(children=(FloatProgress(value=0.0, max=4.0), HTML(value='')))"
      ]
     },
     "metadata": {},
     "output_type": "display_data"
    },
    {
     "name": "stdout",
     "output_type": "stream",
     "text": [
      "\n",
      "cell ID =  812 progress bar below: (n/N frames):\n"
     ]
    },
    {
     "data": {
      "application/vnd.jupyter.widget-view+json": {
       "model_id": "58f24f66c83e4b46bf4d3e03f32d379e",
       "version_major": 2,
       "version_minor": 0
      },
      "text/plain": [
       "HBox(children=(FloatProgress(value=0.0, max=12.0), HTML(value='')))"
      ]
     },
     "metadata": {},
     "output_type": "display_data"
    },
    {
     "name": "stdout",
     "output_type": "stream",
     "text": [
      "\n",
      "cell ID =  813 progress bar below: (n/N frames):\n"
     ]
    },
    {
     "data": {
      "application/vnd.jupyter.widget-view+json": {
       "model_id": "36fdbf1cd7644e9fa89483fa96e23202",
       "version_major": 2,
       "version_minor": 0
      },
      "text/plain": [
       "HBox(children=(FloatProgress(value=0.0, max=4.0), HTML(value='')))"
      ]
     },
     "metadata": {},
     "output_type": "display_data"
    },
    {
     "name": "stdout",
     "output_type": "stream",
     "text": [
      "\n",
      "cell ID =  814 progress bar below: (n/N frames):\n"
     ]
    },
    {
     "data": {
      "application/vnd.jupyter.widget-view+json": {
       "model_id": "d5ac82edd2d94e8d83ec522e65c7c7df",
       "version_major": 2,
       "version_minor": 0
      },
      "text/plain": [
       "HBox(children=(FloatProgress(value=0.0, max=55.0), HTML(value='')))"
      ]
     },
     "metadata": {},
     "output_type": "display_data"
    },
    {
     "name": "stdout",
     "output_type": "stream",
     "text": [
      "\n",
      "cell ID =  815 progress bar below: (n/N frames):\n"
     ]
    },
    {
     "data": {
      "application/vnd.jupyter.widget-view+json": {
       "model_id": "6d136ad04d5644e7b578eed2ed0c3f94",
       "version_major": 2,
       "version_minor": 0
      },
      "text/plain": [
       "HBox(children=(FloatProgress(value=0.0, max=2.0), HTML(value='')))"
      ]
     },
     "metadata": {},
     "output_type": "display_data"
    },
    {
     "name": "stdout",
     "output_type": "stream",
     "text": [
      "\n",
      "cell ID =  816 progress bar below: (n/N frames):\n"
     ]
    },
    {
     "data": {
      "application/vnd.jupyter.widget-view+json": {
       "model_id": "5c7ba2e1db274e0d845536ca67a63155",
       "version_major": 2,
       "version_minor": 0
      },
      "text/plain": [
       "HBox(children=(FloatProgress(value=0.0, max=414.0), HTML(value='')))"
      ]
     },
     "metadata": {},
     "output_type": "display_data"
    },
    {
     "name": "stdout",
     "output_type": "stream",
     "text": [
      "\n",
      "cell ID =  817 progress bar below: (n/N frames):\n"
     ]
    },
    {
     "data": {
      "application/vnd.jupyter.widget-view+json": {
       "model_id": "1e4073130e4d431a8cbcebbb1a12a670",
       "version_major": 2,
       "version_minor": 0
      },
      "text/plain": [
       "HBox(children=(FloatProgress(value=0.0, max=748.0), HTML(value='')))"
      ]
     },
     "metadata": {},
     "output_type": "display_data"
    },
    {
     "name": "stdout",
     "output_type": "stream",
     "text": [
      "\n",
      "cell ID =  819 progress bar below: (n/N frames):\n"
     ]
    },
    {
     "data": {
      "application/vnd.jupyter.widget-view+json": {
       "model_id": "c6cc90b901fa4c799a3f1271e145a8b6",
       "version_major": 2,
       "version_minor": 0
      },
      "text/plain": [
       "HBox(children=(FloatProgress(value=0.0, max=9.0), HTML(value='')))"
      ]
     },
     "metadata": {},
     "output_type": "display_data"
    },
    {
     "name": "stdout",
     "output_type": "stream",
     "text": [
      "\n",
      "cell ID =  820 progress bar below: (n/N frames):\n"
     ]
    },
    {
     "data": {
      "application/vnd.jupyter.widget-view+json": {
       "model_id": "244431e71fc14d8f9d33c7c83e01c776",
       "version_major": 2,
       "version_minor": 0
      },
      "text/plain": [
       "HBox(children=(FloatProgress(value=0.0, max=2.0), HTML(value='')))"
      ]
     },
     "metadata": {},
     "output_type": "display_data"
    },
    {
     "name": "stdout",
     "output_type": "stream",
     "text": [
      "\n",
      "cell ID =  821 progress bar below: (n/N frames):\n"
     ]
    },
    {
     "data": {
      "application/vnd.jupyter.widget-view+json": {
       "model_id": "8cd7bfcb2e294b58ab0837a26069603c",
       "version_major": 2,
       "version_minor": 0
      },
      "text/plain": [
       "HBox(children=(FloatProgress(value=0.0, max=360.0), HTML(value='')))"
      ]
     },
     "metadata": {},
     "output_type": "display_data"
    },
    {
     "name": "stdout",
     "output_type": "stream",
     "text": [
      "\n",
      "cell ID =  822 progress bar below: (n/N frames):\n"
     ]
    },
    {
     "data": {
      "application/vnd.jupyter.widget-view+json": {
       "model_id": "6dfd31ebd5ca4088adc1c22c00df52d0",
       "version_major": 2,
       "version_minor": 0
      },
      "text/plain": [
       "HBox(children=(FloatProgress(value=0.0, max=131.0), HTML(value='')))"
      ]
     },
     "metadata": {},
     "output_type": "display_data"
    },
    {
     "name": "stdout",
     "output_type": "stream",
     "text": [
      "\n",
      "cell ID =  823 progress bar below: (n/N frames):\n"
     ]
    },
    {
     "data": {
      "application/vnd.jupyter.widget-view+json": {
       "model_id": "32247464cca148a2a3332a75edc0d4e3",
       "version_major": 2,
       "version_minor": 0
      },
      "text/plain": [
       "HBox(children=(FloatProgress(value=0.0, max=7.0), HTML(value='')))"
      ]
     },
     "metadata": {},
     "output_type": "display_data"
    },
    {
     "name": "stdout",
     "output_type": "stream",
     "text": [
      "\n",
      "cell ID =  829 progress bar below: (n/N frames):\n"
     ]
    },
    {
     "data": {
      "application/vnd.jupyter.widget-view+json": {
       "model_id": "40fd00b6e4bd410da0235f3d41589da7",
       "version_major": 2,
       "version_minor": 0
      },
      "text/plain": [
       "HBox(children=(FloatProgress(value=0.0, max=12.0), HTML(value='')))"
      ]
     },
     "metadata": {},
     "output_type": "display_data"
    },
    {
     "name": "stdout",
     "output_type": "stream",
     "text": [
      "\n",
      "cell ID =  830 progress bar below: (n/N frames):\n"
     ]
    },
    {
     "data": {
      "application/vnd.jupyter.widget-view+json": {
       "model_id": "643cbe4595f64da7a5c6729b171453cb",
       "version_major": 2,
       "version_minor": 0
      },
      "text/plain": [
       "HBox(children=(FloatProgress(value=0.0, max=4.0), HTML(value='')))"
      ]
     },
     "metadata": {},
     "output_type": "display_data"
    },
    {
     "name": "stdout",
     "output_type": "stream",
     "text": [
      "\n",
      "cell ID =  833 progress bar below: (n/N frames):\n"
     ]
    },
    {
     "data": {
      "application/vnd.jupyter.widget-view+json": {
       "model_id": "0504b4c940624327a5ac4a6c1a5be3e1",
       "version_major": 2,
       "version_minor": 0
      },
      "text/plain": [
       "HBox(children=(FloatProgress(value=0.0, max=61.0), HTML(value='')))"
      ]
     },
     "metadata": {},
     "output_type": "display_data"
    },
    {
     "name": "stdout",
     "output_type": "stream",
     "text": [
      "\n",
      "cell ID =  835 progress bar below: (n/N frames):\n"
     ]
    },
    {
     "data": {
      "application/vnd.jupyter.widget-view+json": {
       "model_id": "a4dddafae2df401cafd7340ccbc55c94",
       "version_major": 2,
       "version_minor": 0
      },
      "text/plain": [
       "HBox(children=(FloatProgress(value=0.0, max=2.0), HTML(value='')))"
      ]
     },
     "metadata": {},
     "output_type": "display_data"
    },
    {
     "name": "stdout",
     "output_type": "stream",
     "text": [
      "\n",
      "cell ID =  838 progress bar below: (n/N frames):\n"
     ]
    },
    {
     "data": {
      "application/vnd.jupyter.widget-view+json": {
       "model_id": "6d9ea0df59574ca48201eeac416e98db",
       "version_major": 2,
       "version_minor": 0
      },
      "text/plain": [
       "HBox(children=(FloatProgress(value=0.0, max=241.0), HTML(value='')))"
      ]
     },
     "metadata": {},
     "output_type": "display_data"
    },
    {
     "name": "stdout",
     "output_type": "stream",
     "text": [
      "\n",
      "cell ID =  839 progress bar below: (n/N frames):\n"
     ]
    },
    {
     "data": {
      "application/vnd.jupyter.widget-view+json": {
       "model_id": "cc4ec0979792497586adf5d87e55c443",
       "version_major": 2,
       "version_minor": 0
      },
      "text/plain": [
       "HBox(children=(FloatProgress(value=0.0, max=690.0), HTML(value='')))"
      ]
     },
     "metadata": {},
     "output_type": "display_data"
    },
    {
     "name": "stdout",
     "output_type": "stream",
     "text": [
      "\n",
      "cell ID =  841 progress bar below: (n/N frames):\n"
     ]
    },
    {
     "data": {
      "application/vnd.jupyter.widget-view+json": {
       "model_id": "b4f6a668e9aa4f189c85ee3181b2c7e7",
       "version_major": 2,
       "version_minor": 0
      },
      "text/plain": [
       "HBox(children=(FloatProgress(value=0.0, max=7.0), HTML(value='')))"
      ]
     },
     "metadata": {},
     "output_type": "display_data"
    },
    {
     "name": "stdout",
     "output_type": "stream",
     "text": [
      "\n",
      "cell ID =  840 progress bar below: (n/N frames):\n"
     ]
    },
    {
     "data": {
      "application/vnd.jupyter.widget-view+json": {
       "model_id": "5af3fa2ba162477ca83beec928a01b49",
       "version_major": 2,
       "version_minor": 0
      },
      "text/plain": [
       "HBox(children=(FloatProgress(value=0.0, max=14.0), HTML(value='')))"
      ]
     },
     "metadata": {},
     "output_type": "display_data"
    },
    {
     "name": "stdout",
     "output_type": "stream",
     "text": [
      "\n",
      "cell ID =  847 progress bar below: (n/N frames):\n"
     ]
    },
    {
     "data": {
      "application/vnd.jupyter.widget-view+json": {
       "model_id": "53c29cd5b9814e35915e8c02eb3ea885",
       "version_major": 2,
       "version_minor": 0
      },
      "text/plain": [
       "HBox(children=(FloatProgress(value=0.0, max=41.0), HTML(value='')))"
      ]
     },
     "metadata": {},
     "output_type": "display_data"
    },
    {
     "name": "stdout",
     "output_type": "stream",
     "text": [
      "\n",
      "cell ID =  849 progress bar below: (n/N frames):\n"
     ]
    },
    {
     "data": {
      "application/vnd.jupyter.widget-view+json": {
       "model_id": "9fb0ab742c2e406b8356cc19bc265181",
       "version_major": 2,
       "version_minor": 0
      },
      "text/plain": [
       "HBox(children=(FloatProgress(value=0.0, max=5.0), HTML(value='')))"
      ]
     },
     "metadata": {},
     "output_type": "display_data"
    },
    {
     "name": "stdout",
     "output_type": "stream",
     "text": [
      "\n",
      "cell ID =  850 progress bar below: (n/N frames):\n"
     ]
    },
    {
     "data": {
      "application/vnd.jupyter.widget-view+json": {
       "model_id": "7d6f74320b6c45a084588829c73a7aa1",
       "version_major": 2,
       "version_minor": 0
      },
      "text/plain": [
       "HBox(children=(FloatProgress(value=0.0, max=280.0), HTML(value='')))"
      ]
     },
     "metadata": {},
     "output_type": "display_data"
    },
    {
     "name": "stdout",
     "output_type": "stream",
     "text": [
      "\n",
      "cell ID =  851 progress bar below: (n/N frames):\n"
     ]
    },
    {
     "data": {
      "application/vnd.jupyter.widget-view+json": {
       "model_id": "fdb453e8c9644853a664ff07aaebc2b6",
       "version_major": 2,
       "version_minor": 0
      },
      "text/plain": [
       "HBox(children=(FloatProgress(value=0.0, max=222.0), HTML(value='')))"
      ]
     },
     "metadata": {},
     "output_type": "display_data"
    },
    {
     "name": "stdout",
     "output_type": "stream",
     "text": [
      "\n",
      "cell ID =  852 progress bar below: (n/N frames):\n"
     ]
    },
    {
     "data": {
      "application/vnd.jupyter.widget-view+json": {
       "model_id": "a6f764a8296448f5baaac8766ec8b200",
       "version_major": 2,
       "version_minor": 0
      },
      "text/plain": [
       "HBox(children=(FloatProgress(value=0.0, max=4.0), HTML(value='')))"
      ]
     },
     "metadata": {},
     "output_type": "display_data"
    },
    {
     "name": "stdout",
     "output_type": "stream",
     "text": [
      "\n",
      "cell ID =  853 progress bar below: (n/N frames):\n"
     ]
    },
    {
     "data": {
      "application/vnd.jupyter.widget-view+json": {
       "model_id": "2650f544d31a4d3a87817b2aae1c9c23",
       "version_major": 2,
       "version_minor": 0
      },
      "text/plain": [
       "HBox(children=(FloatProgress(value=0.0, max=4.0), HTML(value='')))"
      ]
     },
     "metadata": {},
     "output_type": "display_data"
    },
    {
     "name": "stdout",
     "output_type": "stream",
     "text": [
      "\n",
      "cell ID =  855 progress bar below: (n/N frames):\n"
     ]
    },
    {
     "data": {
      "application/vnd.jupyter.widget-view+json": {
       "model_id": "e326fbcee58c4969a2c35ed1cce09ce9",
       "version_major": 2,
       "version_minor": 0
      },
      "text/plain": [
       "HBox(children=(FloatProgress(value=0.0, max=4.0), HTML(value='')))"
      ]
     },
     "metadata": {},
     "output_type": "display_data"
    },
    {
     "name": "stdout",
     "output_type": "stream",
     "text": [
      "\n",
      "cell ID =  856 progress bar below: (n/N frames):\n"
     ]
    },
    {
     "data": {
      "application/vnd.jupyter.widget-view+json": {
       "model_id": "ea05876a94014dcbabfb511b953eacce",
       "version_major": 2,
       "version_minor": 0
      },
      "text/plain": [
       "HBox(children=(FloatProgress(value=0.0, max=119.0), HTML(value='')))"
      ]
     },
     "metadata": {},
     "output_type": "display_data"
    },
    {
     "name": "stdout",
     "output_type": "stream",
     "text": [
      "\n",
      "cell ID =  860 progress bar below: (n/N frames):\n"
     ]
    },
    {
     "data": {
      "application/vnd.jupyter.widget-view+json": {
       "model_id": "e3bd258a028b492389ac9bb7e1b0598f",
       "version_major": 2,
       "version_minor": 0
      },
      "text/plain": [
       "HBox(children=(FloatProgress(value=0.0, max=6.0), HTML(value='')))"
      ]
     },
     "metadata": {},
     "output_type": "display_data"
    },
    {
     "name": "stdout",
     "output_type": "stream",
     "text": [
      "\n",
      "cell ID =  859 progress bar below: (n/N frames):\n"
     ]
    },
    {
     "data": {
      "application/vnd.jupyter.widget-view+json": {
       "model_id": "8b3f85bc1610460daff4ed710911da2c",
       "version_major": 2,
       "version_minor": 0
      },
      "text/plain": [
       "HBox(children=(FloatProgress(value=0.0, max=160.0), HTML(value='')))"
      ]
     },
     "metadata": {},
     "output_type": "display_data"
    },
    {
     "name": "stdout",
     "output_type": "stream",
     "text": [
      "\n",
      "cell ID =  857 progress bar below: (n/N frames):\n"
     ]
    },
    {
     "data": {
      "application/vnd.jupyter.widget-view+json": {
       "model_id": "b1ed380cdd604b05952cce372441021e",
       "version_major": 2,
       "version_minor": 0
      },
      "text/plain": [
       "HBox(children=(FloatProgress(value=0.0, max=4.0), HTML(value='')))"
      ]
     },
     "metadata": {},
     "output_type": "display_data"
    },
    {
     "name": "stdout",
     "output_type": "stream",
     "text": [
      "\n",
      "cell ID =  863 progress bar below: (n/N frames):\n"
     ]
    },
    {
     "data": {
      "application/vnd.jupyter.widget-view+json": {
       "model_id": "8863e8e3bdd246079b98c5964486a867",
       "version_major": 2,
       "version_minor": 0
      },
      "text/plain": [
       "HBox(children=(FloatProgress(value=0.0, max=326.0), HTML(value='')))"
      ]
     },
     "metadata": {},
     "output_type": "display_data"
    },
    {
     "name": "stdout",
     "output_type": "stream",
     "text": [
      "\n",
      "cell ID =  864 progress bar below: (n/N frames):\n"
     ]
    },
    {
     "data": {
      "application/vnd.jupyter.widget-view+json": {
       "model_id": "c0284c56acbf4f4087c3f83becd3524d",
       "version_major": 2,
       "version_minor": 0
      },
      "text/plain": [
       "HBox(children=(FloatProgress(value=0.0, max=86.0), HTML(value='')))"
      ]
     },
     "metadata": {},
     "output_type": "display_data"
    },
    {
     "name": "stdout",
     "output_type": "stream",
     "text": [
      "\n",
      "cell ID =  865 progress bar below: (n/N frames):\n"
     ]
    },
    {
     "data": {
      "application/vnd.jupyter.widget-view+json": {
       "model_id": "3561522f7bf64211b39ec53280a5e289",
       "version_major": 2,
       "version_minor": 0
      },
      "text/plain": [
       "HBox(children=(FloatProgress(value=0.0, max=4.0), HTML(value='')))"
      ]
     },
     "metadata": {},
     "output_type": "display_data"
    },
    {
     "name": "stdout",
     "output_type": "stream",
     "text": [
      "\n",
      "cell ID =  866 progress bar below: (n/N frames):\n"
     ]
    },
    {
     "data": {
      "application/vnd.jupyter.widget-view+json": {
       "model_id": "a3142543127b417caf29f7cdfb70ec3d",
       "version_major": 2,
       "version_minor": 0
      },
      "text/plain": [
       "HBox(children=(FloatProgress(value=0.0, max=399.0), HTML(value='')))"
      ]
     },
     "metadata": {},
     "output_type": "display_data"
    },
    {
     "name": "stdout",
     "output_type": "stream",
     "text": [
      "\n",
      "cell ID =  871 progress bar below: (n/N frames):\n"
     ]
    },
    {
     "data": {
      "application/vnd.jupyter.widget-view+json": {
       "model_id": "50be67e98e6245b4801b5da4ae620a33",
       "version_major": 2,
       "version_minor": 0
      },
      "text/plain": [
       "HBox(children=(FloatProgress(value=0.0, max=4.0), HTML(value='')))"
      ]
     },
     "metadata": {},
     "output_type": "display_data"
    },
    {
     "name": "stdout",
     "output_type": "stream",
     "text": [
      "\n",
      "cell ID =  872 progress bar below: (n/N frames):\n"
     ]
    },
    {
     "data": {
      "application/vnd.jupyter.widget-view+json": {
       "model_id": "5bdad9b13cf14c2fb77d29f912012a8e",
       "version_major": 2,
       "version_minor": 0
      },
      "text/plain": [
       "HBox(children=(FloatProgress(value=0.0, max=4.0), HTML(value='')))"
      ]
     },
     "metadata": {},
     "output_type": "display_data"
    },
    {
     "name": "stdout",
     "output_type": "stream",
     "text": [
      "\n",
      "cell ID =  873 progress bar below: (n/N frames):\n"
     ]
    },
    {
     "data": {
      "application/vnd.jupyter.widget-view+json": {
       "model_id": "d1ac3cfcca25483287239477f6cdde11",
       "version_major": 2,
       "version_minor": 0
      },
      "text/plain": [
       "HBox(children=(FloatProgress(value=0.0, max=16.0), HTML(value='')))"
      ]
     },
     "metadata": {},
     "output_type": "display_data"
    },
    {
     "name": "stdout",
     "output_type": "stream",
     "text": [
      "\n",
      "cell ID =  876 progress bar below: (n/N frames):\n"
     ]
    },
    {
     "data": {
      "application/vnd.jupyter.widget-view+json": {
       "model_id": "85d981e763c24de596525b1eda2e7250",
       "version_major": 2,
       "version_minor": 0
      },
      "text/plain": [
       "HBox(children=(FloatProgress(value=0.0, max=2.0), HTML(value='')))"
      ]
     },
     "metadata": {},
     "output_type": "display_data"
    },
    {
     "name": "stdout",
     "output_type": "stream",
     "text": [
      "\n",
      "cell ID =  878 progress bar below: (n/N frames):\n"
     ]
    },
    {
     "data": {
      "application/vnd.jupyter.widget-view+json": {
       "model_id": "0bd43cd339d74a15b4bff5dbbc068f3d",
       "version_major": 2,
       "version_minor": 0
      },
      "text/plain": [
       "HBox(children=(FloatProgress(value=0.0, max=3.0), HTML(value='')))"
      ]
     },
     "metadata": {},
     "output_type": "display_data"
    },
    {
     "name": "stdout",
     "output_type": "stream",
     "text": [
      "\n",
      "cell ID =  882 progress bar below: (n/N frames):\n"
     ]
    },
    {
     "data": {
      "application/vnd.jupyter.widget-view+json": {
       "model_id": "a02b5cf5083b4d9e84c6ba7c02fb7e44",
       "version_major": 2,
       "version_minor": 0
      },
      "text/plain": [
       "HBox(children=(FloatProgress(value=0.0, max=4.0), HTML(value='')))"
      ]
     },
     "metadata": {},
     "output_type": "display_data"
    },
    {
     "name": "stdout",
     "output_type": "stream",
     "text": [
      "\n",
      "cell ID =  885 progress bar below: (n/N frames):\n"
     ]
    },
    {
     "data": {
      "application/vnd.jupyter.widget-view+json": {
       "model_id": "b3cd39c161924118a591310704393a03",
       "version_major": 2,
       "version_minor": 0
      },
      "text/plain": [
       "HBox(children=(FloatProgress(value=0.0, max=4.0), HTML(value='')))"
      ]
     },
     "metadata": {},
     "output_type": "display_data"
    },
    {
     "name": "stdout",
     "output_type": "stream",
     "text": [
      "\n",
      "cell ID =  886 progress bar below: (n/N frames):\n"
     ]
    },
    {
     "data": {
      "application/vnd.jupyter.widget-view+json": {
       "model_id": "3adb10b365e54101b440eb6b86b71a9d",
       "version_major": 2,
       "version_minor": 0
      },
      "text/plain": [
       "HBox(children=(FloatProgress(value=0.0, max=16.0), HTML(value='')))"
      ]
     },
     "metadata": {},
     "output_type": "display_data"
    },
    {
     "name": "stdout",
     "output_type": "stream",
     "text": [
      "\n",
      "cell ID =  887 progress bar below: (n/N frames):\n"
     ]
    },
    {
     "data": {
      "application/vnd.jupyter.widget-view+json": {
       "model_id": "6ab021d858754fb1a5e27e0e99b2a1fc",
       "version_major": 2,
       "version_minor": 0
      },
      "text/plain": [
       "HBox(children=(FloatProgress(value=0.0, max=32.0), HTML(value='')))"
      ]
     },
     "metadata": {},
     "output_type": "display_data"
    },
    {
     "name": "stdout",
     "output_type": "stream",
     "text": [
      "\n",
      "cell ID =  888 progress bar below: (n/N frames):\n"
     ]
    },
    {
     "data": {
      "application/vnd.jupyter.widget-view+json": {
       "model_id": "54df432d0cf447b8aa161cfc6bd71097",
       "version_major": 2,
       "version_minor": 0
      },
      "text/plain": [
       "HBox(children=(FloatProgress(value=0.0, max=633.0), HTML(value='')))"
      ]
     },
     "metadata": {},
     "output_type": "display_data"
    },
    {
     "name": "stdout",
     "output_type": "stream",
     "text": [
      "\n",
      "cell ID =  889 progress bar below: (n/N frames):\n"
     ]
    },
    {
     "data": {
      "application/vnd.jupyter.widget-view+json": {
       "model_id": "82d97a9e32e44efdb916866023bf29bf",
       "version_major": 2,
       "version_minor": 0
      },
      "text/plain": [
       "HBox(children=(FloatProgress(value=0.0, max=12.0), HTML(value='')))"
      ]
     },
     "metadata": {},
     "output_type": "display_data"
    },
    {
     "name": "stdout",
     "output_type": "stream",
     "text": [
      "\n",
      "cell ID =  890 progress bar below: (n/N frames):\n"
     ]
    },
    {
     "data": {
      "application/vnd.jupyter.widget-view+json": {
       "model_id": "d2048f6f81e648ec82727c7ebd0d4786",
       "version_major": 2,
       "version_minor": 0
      },
      "text/plain": [
       "HBox(children=(FloatProgress(value=0.0, max=7.0), HTML(value='')))"
      ]
     },
     "metadata": {},
     "output_type": "display_data"
    },
    {
     "name": "stdout",
     "output_type": "stream",
     "text": [
      "\n",
      "cell ID =  891 progress bar below: (n/N frames):\n"
     ]
    },
    {
     "data": {
      "application/vnd.jupyter.widget-view+json": {
       "model_id": "e0e71abef89040a8a3a72b9423fa9251",
       "version_major": 2,
       "version_minor": 0
      },
      "text/plain": [
       "HBox(children=(FloatProgress(value=0.0, max=372.0), HTML(value='')))"
      ]
     },
     "metadata": {},
     "output_type": "display_data"
    },
    {
     "name": "stdout",
     "output_type": "stream",
     "text": [
      "\n",
      "cell ID =  892 progress bar below: (n/N frames):\n"
     ]
    },
    {
     "data": {
      "application/vnd.jupyter.widget-view+json": {
       "model_id": "2a09b9d90863415fad470ad8ef5fac1c",
       "version_major": 2,
       "version_minor": 0
      },
      "text/plain": [
       "HBox(children=(FloatProgress(value=0.0, max=586.0), HTML(value='')))"
      ]
     },
     "metadata": {},
     "output_type": "display_data"
    },
    {
     "name": "stdout",
     "output_type": "stream",
     "text": [
      "\n",
      "cell ID =  893 progress bar below: (n/N frames):\n"
     ]
    },
    {
     "data": {
      "application/vnd.jupyter.widget-view+json": {
       "model_id": "afe1878d8f2f4107af73d75dbf0b20df",
       "version_major": 2,
       "version_minor": 0
      },
      "text/plain": [
       "HBox(children=(FloatProgress(value=0.0, max=3.0), HTML(value='')))"
      ]
     },
     "metadata": {},
     "output_type": "display_data"
    },
    {
     "name": "stdout",
     "output_type": "stream",
     "text": [
      "\n",
      "cell ID =  894 progress bar below: (n/N frames):\n"
     ]
    },
    {
     "data": {
      "application/vnd.jupyter.widget-view+json": {
       "model_id": "cf62faae61334d698cf4f19507dfd84b",
       "version_major": 2,
       "version_minor": 0
      },
      "text/plain": [
       "HBox(children=(FloatProgress(value=0.0, max=2.0), HTML(value='')))"
      ]
     },
     "metadata": {},
     "output_type": "display_data"
    },
    {
     "name": "stdout",
     "output_type": "stream",
     "text": [
      "\n",
      "cell ID =  896 progress bar below: (n/N frames):\n"
     ]
    },
    {
     "data": {
      "application/vnd.jupyter.widget-view+json": {
       "model_id": "01603c11c85044af8fc3257dd3a72e7b",
       "version_major": 2,
       "version_minor": 0
      },
      "text/plain": [
       "HBox(children=(FloatProgress(value=0.0, max=78.0), HTML(value='')))"
      ]
     },
     "metadata": {},
     "output_type": "display_data"
    },
    {
     "name": "stdout",
     "output_type": "stream",
     "text": [
      "\n",
      "cell ID =  899 progress bar below: (n/N frames):\n"
     ]
    },
    {
     "data": {
      "application/vnd.jupyter.widget-view+json": {
       "model_id": "d3dd6683d2064da3b1c5b2ae6021a529",
       "version_major": 2,
       "version_minor": 0
      },
      "text/plain": [
       "HBox(children=(FloatProgress(value=0.0, max=5.0), HTML(value='')))"
      ]
     },
     "metadata": {},
     "output_type": "display_data"
    },
    {
     "name": "stdout",
     "output_type": "stream",
     "text": [
      "\n",
      "cell ID =  898 progress bar below: (n/N frames):\n"
     ]
    },
    {
     "data": {
      "application/vnd.jupyter.widget-view+json": {
       "model_id": "b62b0df2930a4a39b6d69ef4f570af1b",
       "version_major": 2,
       "version_minor": 0
      },
      "text/plain": [
       "HBox(children=(FloatProgress(value=0.0, max=10.0), HTML(value='')))"
      ]
     },
     "metadata": {},
     "output_type": "display_data"
    },
    {
     "name": "stdout",
     "output_type": "stream",
     "text": [
      "\n",
      "cell ID =  902 progress bar below: (n/N frames):\n"
     ]
    },
    {
     "data": {
      "application/vnd.jupyter.widget-view+json": {
       "model_id": "568e510736394a5996de8297ba5f4606",
       "version_major": 2,
       "version_minor": 0
      },
      "text/plain": [
       "HBox(children=(FloatProgress(value=0.0, max=9.0), HTML(value='')))"
      ]
     },
     "metadata": {},
     "output_type": "display_data"
    },
    {
     "name": "stdout",
     "output_type": "stream",
     "text": [
      "\n",
      "cell ID =  903 progress bar below: (n/N frames):\n"
     ]
    },
    {
     "data": {
      "application/vnd.jupyter.widget-view+json": {
       "model_id": "ef7559b088454bb8b023109ae1eaeb20",
       "version_major": 2,
       "version_minor": 0
      },
      "text/plain": [
       "HBox(children=(FloatProgress(value=0.0, max=2.0), HTML(value='')))"
      ]
     },
     "metadata": {},
     "output_type": "display_data"
    },
    {
     "name": "stdout",
     "output_type": "stream",
     "text": [
      "\n",
      "cell ID =  904 progress bar below: (n/N frames):\n"
     ]
    },
    {
     "data": {
      "application/vnd.jupyter.widget-view+json": {
       "model_id": "e0238aabd0d249c29af766febd5b9544",
       "version_major": 2,
       "version_minor": 0
      },
      "text/plain": [
       "HBox(children=(FloatProgress(value=0.0, max=4.0), HTML(value='')))"
      ]
     },
     "metadata": {},
     "output_type": "display_data"
    },
    {
     "name": "stdout",
     "output_type": "stream",
     "text": [
      "\n",
      "cell ID =  905 progress bar below: (n/N frames):\n"
     ]
    },
    {
     "data": {
      "application/vnd.jupyter.widget-view+json": {
       "model_id": "9e403a1db76644df92d8d1ba3a5ce837",
       "version_major": 2,
       "version_minor": 0
      },
      "text/plain": [
       "HBox(children=(FloatProgress(value=0.0, max=4.0), HTML(value='')))"
      ]
     },
     "metadata": {},
     "output_type": "display_data"
    },
    {
     "name": "stdout",
     "output_type": "stream",
     "text": [
      "\n",
      "cell ID =  907 progress bar below: (n/N frames):\n"
     ]
    },
    {
     "data": {
      "application/vnd.jupyter.widget-view+json": {
       "model_id": "85f7cadad70349f8be3a52c28d5a9ce3",
       "version_major": 2,
       "version_minor": 0
      },
      "text/plain": [
       "HBox(children=(FloatProgress(value=0.0, max=4.0), HTML(value='')))"
      ]
     },
     "metadata": {},
     "output_type": "display_data"
    },
    {
     "name": "stdout",
     "output_type": "stream",
     "text": [
      "\n",
      "cell ID =  910 progress bar below: (n/N frames):\n"
     ]
    },
    {
     "data": {
      "application/vnd.jupyter.widget-view+json": {
       "model_id": "cce754cfb1694fbfa0548f4cdcb50a6e",
       "version_major": 2,
       "version_minor": 0
      },
      "text/plain": [
       "HBox(children=(FloatProgress(value=0.0, max=5.0), HTML(value='')))"
      ]
     },
     "metadata": {},
     "output_type": "display_data"
    },
    {
     "name": "stdout",
     "output_type": "stream",
     "text": [
      "\n",
      "cell ID =  909 progress bar below: (n/N frames):\n"
     ]
    },
    {
     "data": {
      "application/vnd.jupyter.widget-view+json": {
       "model_id": "e65d369feeb34a72926c0bab9764bb19",
       "version_major": 2,
       "version_minor": 0
      },
      "text/plain": [
       "HBox(children=(FloatProgress(value=0.0, max=129.0), HTML(value='')))"
      ]
     },
     "metadata": {},
     "output_type": "display_data"
    },
    {
     "name": "stdout",
     "output_type": "stream",
     "text": [
      "\n",
      "cell ID =  913 progress bar below: (n/N frames):\n"
     ]
    },
    {
     "data": {
      "application/vnd.jupyter.widget-view+json": {
       "model_id": "a7f4c7897992435ebbc2f7d6c6622d1a",
       "version_major": 2,
       "version_minor": 0
      },
      "text/plain": [
       "HBox(children=(FloatProgress(value=0.0, max=14.0), HTML(value='')))"
      ]
     },
     "metadata": {},
     "output_type": "display_data"
    },
    {
     "name": "stdout",
     "output_type": "stream",
     "text": [
      "\n",
      "cell ID =  914 progress bar below: (n/N frames):\n"
     ]
    },
    {
     "data": {
      "application/vnd.jupyter.widget-view+json": {
       "model_id": "58b43ec8fa3d4d63b06ac162fa153e80",
       "version_major": 2,
       "version_minor": 0
      },
      "text/plain": [
       "HBox(children=(FloatProgress(value=0.0, max=467.0), HTML(value='')))"
      ]
     },
     "metadata": {},
     "output_type": "display_data"
    },
    {
     "name": "stdout",
     "output_type": "stream",
     "text": [
      "\n",
      "cell ID =  915 progress bar below: (n/N frames):\n"
     ]
    },
    {
     "data": {
      "application/vnd.jupyter.widget-view+json": {
       "model_id": "5e40e890425749d99ee3919b437a9d62",
       "version_major": 2,
       "version_minor": 0
      },
      "text/plain": [
       "HBox(children=(FloatProgress(value=0.0, max=123.0), HTML(value='')))"
      ]
     },
     "metadata": {},
     "output_type": "display_data"
    },
    {
     "name": "stdout",
     "output_type": "stream",
     "text": [
      "\n",
      "cell ID =  917 progress bar below: (n/N frames):\n"
     ]
    },
    {
     "data": {
      "application/vnd.jupyter.widget-view+json": {
       "model_id": "e8914c361eb84a869922f7f443231584",
       "version_major": 2,
       "version_minor": 0
      },
      "text/plain": [
       "HBox(children=(FloatProgress(value=0.0, max=3.0), HTML(value='')))"
      ]
     },
     "metadata": {},
     "output_type": "display_data"
    },
    {
     "name": "stdout",
     "output_type": "stream",
     "text": [
      "\n",
      "cell ID =  916 progress bar below: (n/N frames):\n"
     ]
    },
    {
     "data": {
      "application/vnd.jupyter.widget-view+json": {
       "model_id": "e9e9ffa7699f44f5b30f9994f0e214c0",
       "version_major": 2,
       "version_minor": 0
      },
      "text/plain": [
       "HBox(children=(FloatProgress(value=0.0, max=4.0), HTML(value='')))"
      ]
     },
     "metadata": {},
     "output_type": "display_data"
    },
    {
     "name": "stdout",
     "output_type": "stream",
     "text": [
      "\n",
      "cell ID =  918 progress bar below: (n/N frames):\n"
     ]
    },
    {
     "data": {
      "application/vnd.jupyter.widget-view+json": {
       "model_id": "1aef4968135f4bed8425050b747f6c0e",
       "version_major": 2,
       "version_minor": 0
      },
      "text/plain": [
       "HBox(children=(FloatProgress(value=0.0, max=28.0), HTML(value='')))"
      ]
     },
     "metadata": {},
     "output_type": "display_data"
    },
    {
     "name": "stdout",
     "output_type": "stream",
     "text": [
      "\n",
      "cell ID =  924 progress bar below: (n/N frames):\n"
     ]
    },
    {
     "data": {
      "application/vnd.jupyter.widget-view+json": {
       "model_id": "58164aec5638416a84858fffa4d3c529",
       "version_major": 2,
       "version_minor": 0
      },
      "text/plain": [
       "HBox(children=(FloatProgress(value=0.0, max=2.0), HTML(value='')))"
      ]
     },
     "metadata": {},
     "output_type": "display_data"
    },
    {
     "name": "stdout",
     "output_type": "stream",
     "text": [
      "\n",
      "cell ID =  927 progress bar below: (n/N frames):\n"
     ]
    },
    {
     "data": {
      "application/vnd.jupyter.widget-view+json": {
       "model_id": "e53a77b9c0a84740b973ace79c59aec9",
       "version_major": 2,
       "version_minor": 0
      },
      "text/plain": [
       "HBox(children=(FloatProgress(value=0.0, max=342.0), HTML(value='')))"
      ]
     },
     "metadata": {},
     "output_type": "display_data"
    },
    {
     "name": "stdout",
     "output_type": "stream",
     "text": [
      "\n",
      "cell ID =  928 progress bar below: (n/N frames):\n"
     ]
    },
    {
     "data": {
      "application/vnd.jupyter.widget-view+json": {
       "model_id": "0cee8c09fe414379bfd141ed70aa3cd0",
       "version_major": 2,
       "version_minor": 0
      },
      "text/plain": [
       "HBox(children=(FloatProgress(value=0.0, max=144.0), HTML(value='')))"
      ]
     },
     "metadata": {},
     "output_type": "display_data"
    },
    {
     "name": "stdout",
     "output_type": "stream",
     "text": [
      "\n",
      "cell ID =  931 progress bar below: (n/N frames):\n"
     ]
    },
    {
     "data": {
      "application/vnd.jupyter.widget-view+json": {
       "model_id": "a092d6ac0c2d47f49aee6e2570eb7720",
       "version_major": 2,
       "version_minor": 0
      },
      "text/plain": [
       "HBox(children=(FloatProgress(value=0.0, max=60.0), HTML(value='')))"
      ]
     },
     "metadata": {},
     "output_type": "display_data"
    },
    {
     "name": "stdout",
     "output_type": "stream",
     "text": [
      "\n",
      "cell ID =  934 progress bar below: (n/N frames):\n"
     ]
    },
    {
     "data": {
      "application/vnd.jupyter.widget-view+json": {
       "model_id": "0549dba7bee7476e9297b63cf186fede",
       "version_major": 2,
       "version_minor": 0
      },
      "text/plain": [
       "HBox(children=(FloatProgress(value=0.0, max=4.0), HTML(value='')))"
      ]
     },
     "metadata": {},
     "output_type": "display_data"
    },
    {
     "name": "stdout",
     "output_type": "stream",
     "text": [
      "\n",
      "cell ID =  937 progress bar below: (n/N frames):\n"
     ]
    },
    {
     "data": {
      "application/vnd.jupyter.widget-view+json": {
       "model_id": "316bd4941fef415f87ee9dfb172d00ea",
       "version_major": 2,
       "version_minor": 0
      },
      "text/plain": [
       "HBox(children=(FloatProgress(value=0.0, max=25.0), HTML(value='')))"
      ]
     },
     "metadata": {},
     "output_type": "display_data"
    },
    {
     "name": "stdout",
     "output_type": "stream",
     "text": [
      "\n",
      "cell ID =  940 progress bar below: (n/N frames):\n"
     ]
    },
    {
     "data": {
      "application/vnd.jupyter.widget-view+json": {
       "model_id": "4ad24140bafb493bbd7d7c7b7dd752bc",
       "version_major": 2,
       "version_minor": 0
      },
      "text/plain": [
       "HBox(children=(FloatProgress(value=0.0, max=311.0), HTML(value='')))"
      ]
     },
     "metadata": {},
     "output_type": "display_data"
    },
    {
     "name": "stdout",
     "output_type": "stream",
     "text": [
      "\n",
      "cell ID =  944 progress bar below: (n/N frames):\n"
     ]
    },
    {
     "data": {
      "application/vnd.jupyter.widget-view+json": {
       "model_id": "1a218e1c9ac84bd495466f3fea4a7e8a",
       "version_major": 2,
       "version_minor": 0
      },
      "text/plain": [
       "HBox(children=(FloatProgress(value=0.0, max=2.0), HTML(value='')))"
      ]
     },
     "metadata": {},
     "output_type": "display_data"
    },
    {
     "name": "stdout",
     "output_type": "stream",
     "text": [
      "\n",
      "cell ID =  942 progress bar below: (n/N frames):\n"
     ]
    },
    {
     "data": {
      "application/vnd.jupyter.widget-view+json": {
       "model_id": "b89f3a12482e4553acf9e1b3d1263ff7",
       "version_major": 2,
       "version_minor": 0
      },
      "text/plain": [
       "HBox(children=(FloatProgress(value=0.0, max=9.0), HTML(value='')))"
      ]
     },
     "metadata": {},
     "output_type": "display_data"
    },
    {
     "name": "stdout",
     "output_type": "stream",
     "text": [
      "\n",
      "cell ID =  945 progress bar below: (n/N frames):\n"
     ]
    },
    {
     "data": {
      "application/vnd.jupyter.widget-view+json": {
       "model_id": "a1be177fd5d344c19c2f07565ba0029a",
       "version_major": 2,
       "version_minor": 0
      },
      "text/plain": [
       "HBox(children=(FloatProgress(value=0.0, max=324.0), HTML(value='')))"
      ]
     },
     "metadata": {},
     "output_type": "display_data"
    },
    {
     "name": "stdout",
     "output_type": "stream",
     "text": [
      "\n",
      "cell ID =  946 progress bar below: (n/N frames):\n"
     ]
    },
    {
     "data": {
      "application/vnd.jupyter.widget-view+json": {
       "model_id": "f66b72f932f045bbb3afc9d71c768999",
       "version_major": 2,
       "version_minor": 0
      },
      "text/plain": [
       "HBox(children=(FloatProgress(value=0.0, max=300.0), HTML(value='')))"
      ]
     },
     "metadata": {},
     "output_type": "display_data"
    },
    {
     "name": "stdout",
     "output_type": "stream",
     "text": [
      "\n",
      "cell ID =  947 progress bar below: (n/N frames):\n"
     ]
    },
    {
     "data": {
      "application/vnd.jupyter.widget-view+json": {
       "model_id": "0587f99be00544fb8c0778d2324890cc",
       "version_major": 2,
       "version_minor": 0
      },
      "text/plain": [
       "HBox(children=(FloatProgress(value=0.0, max=64.0), HTML(value='')))"
      ]
     },
     "metadata": {},
     "output_type": "display_data"
    },
    {
     "name": "stdout",
     "output_type": "stream",
     "text": [
      "\n",
      "cell ID =  948 progress bar below: (n/N frames):\n"
     ]
    },
    {
     "data": {
      "application/vnd.jupyter.widget-view+json": {
       "model_id": "ab12149a63794dc7abdc66171665743e",
       "version_major": 2,
       "version_minor": 0
      },
      "text/plain": [
       "HBox(children=(FloatProgress(value=0.0, max=688.0), HTML(value='')))"
      ]
     },
     "metadata": {},
     "output_type": "display_data"
    },
    {
     "name": "stdout",
     "output_type": "stream",
     "text": [
      "\n",
      "cell ID =  949 progress bar below: (n/N frames):\n"
     ]
    },
    {
     "data": {
      "application/vnd.jupyter.widget-view+json": {
       "model_id": "9cd18b4c5d1a45b4a3b3423bb92dc497",
       "version_major": 2,
       "version_minor": 0
      },
      "text/plain": [
       "HBox(children=(FloatProgress(value=0.0, max=3.0), HTML(value='')))"
      ]
     },
     "metadata": {},
     "output_type": "display_data"
    },
    {
     "name": "stdout",
     "output_type": "stream",
     "text": [
      "\n",
      "cell ID =  950 progress bar below: (n/N frames):\n"
     ]
    },
    {
     "data": {
      "application/vnd.jupyter.widget-view+json": {
       "model_id": "b8f715e5b87149afb5d8080e6c9c9a7c",
       "version_major": 2,
       "version_minor": 0
      },
      "text/plain": [
       "HBox(children=(FloatProgress(value=0.0, max=2.0), HTML(value='')))"
      ]
     },
     "metadata": {},
     "output_type": "display_data"
    },
    {
     "name": "stdout",
     "output_type": "stream",
     "text": [
      "\n",
      "cell ID =  955 progress bar below: (n/N frames):\n"
     ]
    },
    {
     "data": {
      "application/vnd.jupyter.widget-view+json": {
       "model_id": "377e310487a24235a9a6d3413f7dd63c",
       "version_major": 2,
       "version_minor": 0
      },
      "text/plain": [
       "HBox(children=(FloatProgress(value=0.0, max=7.0), HTML(value='')))"
      ]
     },
     "metadata": {},
     "output_type": "display_data"
    },
    {
     "name": "stdout",
     "output_type": "stream",
     "text": [
      "\n",
      "cell ID =  954 progress bar below: (n/N frames):\n"
     ]
    },
    {
     "data": {
      "application/vnd.jupyter.widget-view+json": {
       "model_id": "0e7fc213129a44049f852470b3e49f55",
       "version_major": 2,
       "version_minor": 0
      },
      "text/plain": [
       "HBox(children=(FloatProgress(value=0.0, max=523.0), HTML(value='')))"
      ]
     },
     "metadata": {},
     "output_type": "display_data"
    },
    {
     "name": "stdout",
     "output_type": "stream",
     "text": [
      "\n",
      "cell ID =  952 progress bar below: (n/N frames):\n"
     ]
    },
    {
     "data": {
      "application/vnd.jupyter.widget-view+json": {
       "model_id": "ffcc9d178b27468b9a54c1d4acfecde8",
       "version_major": 2,
       "version_minor": 0
      },
      "text/plain": [
       "HBox(children=(FloatProgress(value=0.0, max=345.0), HTML(value='')))"
      ]
     },
     "metadata": {},
     "output_type": "display_data"
    },
    {
     "name": "stdout",
     "output_type": "stream",
     "text": [
      "\n",
      "cell ID =  958 progress bar below: (n/N frames):\n"
     ]
    },
    {
     "data": {
      "application/vnd.jupyter.widget-view+json": {
       "model_id": "ced151ba0ee349338cc5103edcd7eaa3",
       "version_major": 2,
       "version_minor": 0
      },
      "text/plain": [
       "HBox(children=(FloatProgress(value=0.0, max=8.0), HTML(value='')))"
      ]
     },
     "metadata": {},
     "output_type": "display_data"
    },
    {
     "name": "stdout",
     "output_type": "stream",
     "text": [
      "\n",
      "cell ID =  959 progress bar below: (n/N frames):\n"
     ]
    },
    {
     "data": {
      "application/vnd.jupyter.widget-view+json": {
       "model_id": "2c73b32813324f70a00ab5c4975c4273",
       "version_major": 2,
       "version_minor": 0
      },
      "text/plain": [
       "HBox(children=(FloatProgress(value=0.0, max=467.0), HTML(value='')))"
      ]
     },
     "metadata": {},
     "output_type": "display_data"
    },
    {
     "name": "stdout",
     "output_type": "stream",
     "text": [
      "\n",
      "cell ID =  963 progress bar below: (n/N frames):\n"
     ]
    },
    {
     "data": {
      "application/vnd.jupyter.widget-view+json": {
       "model_id": "b19488a6c1154219814d49ce7eb6656b",
       "version_major": 2,
       "version_minor": 0
      },
      "text/plain": [
       "HBox(children=(FloatProgress(value=0.0, max=250.0), HTML(value='')))"
      ]
     },
     "metadata": {},
     "output_type": "display_data"
    },
    {
     "name": "stdout",
     "output_type": "stream",
     "text": [
      "\n",
      "cell ID =  964 progress bar below: (n/N frames):\n"
     ]
    },
    {
     "data": {
      "application/vnd.jupyter.widget-view+json": {
       "model_id": "2a3ec8212c2c4a56baff8a5a0019e6fb",
       "version_major": 2,
       "version_minor": 0
      },
      "text/plain": [
       "HBox(children=(FloatProgress(value=0.0, max=2.0), HTML(value='')))"
      ]
     },
     "metadata": {},
     "output_type": "display_data"
    },
    {
     "name": "stdout",
     "output_type": "stream",
     "text": [
      "\n",
      "cell ID =  965 progress bar below: (n/N frames):\n"
     ]
    },
    {
     "data": {
      "application/vnd.jupyter.widget-view+json": {
       "model_id": "23a667fa9f634e32a82e3c3fe63f3672",
       "version_major": 2,
       "version_minor": 0
      },
      "text/plain": [
       "HBox(children=(FloatProgress(value=0.0, max=7.0), HTML(value='')))"
      ]
     },
     "metadata": {},
     "output_type": "display_data"
    },
    {
     "name": "stdout",
     "output_type": "stream",
     "text": [
      "\n",
      "cell ID =  966 progress bar below: (n/N frames):\n"
     ]
    },
    {
     "data": {
      "application/vnd.jupyter.widget-view+json": {
       "model_id": "699a1b75ed08458d9e6690455bdeddf9",
       "version_major": 2,
       "version_minor": 0
      },
      "text/plain": [
       "HBox(children=(FloatProgress(value=0.0, max=4.0), HTML(value='')))"
      ]
     },
     "metadata": {},
     "output_type": "display_data"
    },
    {
     "name": "stdout",
     "output_type": "stream",
     "text": [
      "\n",
      "cell ID =  970 progress bar below: (n/N frames):\n"
     ]
    },
    {
     "data": {
      "application/vnd.jupyter.widget-view+json": {
       "model_id": "73cd607c618e4260a3986e1d9ceefc2a",
       "version_major": 2,
       "version_minor": 0
      },
      "text/plain": [
       "HBox(children=(FloatProgress(value=0.0, max=21.0), HTML(value='')))"
      ]
     },
     "metadata": {},
     "output_type": "display_data"
    },
    {
     "name": "stdout",
     "output_type": "stream",
     "text": [
      "\n",
      "cell ID =  971 progress bar below: (n/N frames):\n"
     ]
    },
    {
     "data": {
      "application/vnd.jupyter.widget-view+json": {
       "model_id": "927146193de9431ab6c782e4a2d41a88",
       "version_major": 2,
       "version_minor": 0
      },
      "text/plain": [
       "HBox(children=(FloatProgress(value=0.0, max=676.0), HTML(value='')))"
      ]
     },
     "metadata": {},
     "output_type": "display_data"
    },
    {
     "name": "stdout",
     "output_type": "stream",
     "text": [
      "\n",
      "cell ID =  973 progress bar below: (n/N frames):\n"
     ]
    },
    {
     "data": {
      "application/vnd.jupyter.widget-view+json": {
       "model_id": "a974a779e1fd4f58a3a67aa1a6f62bc1",
       "version_major": 2,
       "version_minor": 0
      },
      "text/plain": [
       "HBox(children=(FloatProgress(value=0.0, max=192.0), HTML(value='')))"
      ]
     },
     "metadata": {},
     "output_type": "display_data"
    },
    {
     "name": "stdout",
     "output_type": "stream",
     "text": [
      "\n",
      "cell ID =  974 progress bar below: (n/N frames):\n"
     ]
    },
    {
     "data": {
      "application/vnd.jupyter.widget-view+json": {
       "model_id": "446aef64832a4cec9033521fdbbeea2a",
       "version_major": 2,
       "version_minor": 0
      },
      "text/plain": [
       "HBox(children=(FloatProgress(value=0.0, max=194.0), HTML(value='')))"
      ]
     },
     "metadata": {},
     "output_type": "display_data"
    },
    {
     "name": "stdout",
     "output_type": "stream",
     "text": [
      "\n",
      "cell ID =  975 progress bar below: (n/N frames):\n"
     ]
    },
    {
     "data": {
      "application/vnd.jupyter.widget-view+json": {
       "model_id": "6e9eec81458e47d2a1c6b7adaf0baa8f",
       "version_major": 2,
       "version_minor": 0
      },
      "text/plain": [
       "HBox(children=(FloatProgress(value=0.0, max=15.0), HTML(value='')))"
      ]
     },
     "metadata": {},
     "output_type": "display_data"
    },
    {
     "name": "stdout",
     "output_type": "stream",
     "text": [
      "\n",
      "cell ID =  978 progress bar below: (n/N frames):\n"
     ]
    },
    {
     "data": {
      "application/vnd.jupyter.widget-view+json": {
       "model_id": "506dcbee35634e179264eeedb5fee5ac",
       "version_major": 2,
       "version_minor": 0
      },
      "text/plain": [
       "HBox(children=(FloatProgress(value=0.0, max=30.0), HTML(value='')))"
      ]
     },
     "metadata": {},
     "output_type": "display_data"
    },
    {
     "name": "stdout",
     "output_type": "stream",
     "text": [
      "\n",
      "cell ID =  980 progress bar below: (n/N frames):\n"
     ]
    },
    {
     "data": {
      "application/vnd.jupyter.widget-view+json": {
       "model_id": "695fdc24588e4202b3b5f45b4517613d",
       "version_major": 2,
       "version_minor": 0
      },
      "text/plain": [
       "HBox(children=(FloatProgress(value=0.0, max=15.0), HTML(value='')))"
      ]
     },
     "metadata": {},
     "output_type": "display_data"
    },
    {
     "name": "stdout",
     "output_type": "stream",
     "text": [
      "\n",
      "cell ID =  981 progress bar below: (n/N frames):\n"
     ]
    },
    {
     "data": {
      "application/vnd.jupyter.widget-view+json": {
       "model_id": "d021b0ceda924c369fe4f9c5f856b5bd",
       "version_major": 2,
       "version_minor": 0
      },
      "text/plain": [
       "HBox(children=(FloatProgress(value=0.0, max=455.0), HTML(value='')))"
      ]
     },
     "metadata": {},
     "output_type": "display_data"
    },
    {
     "name": "stdout",
     "output_type": "stream",
     "text": [
      "\n",
      "cell ID =  984 progress bar below: (n/N frames):\n"
     ]
    },
    {
     "data": {
      "application/vnd.jupyter.widget-view+json": {
       "model_id": "5319877162cb4e878a9e9757638e9139",
       "version_major": 2,
       "version_minor": 0
      },
      "text/plain": [
       "HBox(children=(FloatProgress(value=0.0, max=2.0), HTML(value='')))"
      ]
     },
     "metadata": {},
     "output_type": "display_data"
    },
    {
     "name": "stdout",
     "output_type": "stream",
     "text": [
      "\n",
      "cell ID =  983 progress bar below: (n/N frames):\n"
     ]
    },
    {
     "data": {
      "application/vnd.jupyter.widget-view+json": {
       "model_id": "b2a74fc84ba94b669f0415f597f71569",
       "version_major": 2,
       "version_minor": 0
      },
      "text/plain": [
       "HBox(children=(FloatProgress(value=0.0, max=2.0), HTML(value='')))"
      ]
     },
     "metadata": {},
     "output_type": "display_data"
    },
    {
     "name": "stdout",
     "output_type": "stream",
     "text": [
      "\n",
      "cell ID =  986 progress bar below: (n/N frames):\n"
     ]
    },
    {
     "data": {
      "application/vnd.jupyter.widget-view+json": {
       "model_id": "d1d06d2ed0b24a0c9b994e88a01d876b",
       "version_major": 2,
       "version_minor": 0
      },
      "text/plain": [
       "HBox(children=(FloatProgress(value=0.0, max=139.0), HTML(value='')))"
      ]
     },
     "metadata": {},
     "output_type": "display_data"
    },
    {
     "name": "stdout",
     "output_type": "stream",
     "text": [
      "\n",
      "cell ID =  987 progress bar below: (n/N frames):\n"
     ]
    },
    {
     "data": {
      "application/vnd.jupyter.widget-view+json": {
       "model_id": "cb75bca75265414fa7bac938241ada65",
       "version_major": 2,
       "version_minor": 0
      },
      "text/plain": [
       "HBox(children=(FloatProgress(value=0.0, max=277.0), HTML(value='')))"
      ]
     },
     "metadata": {},
     "output_type": "display_data"
    },
    {
     "name": "stdout",
     "output_type": "stream",
     "text": [
      "\n",
      "cell ID =  988 progress bar below: (n/N frames):\n"
     ]
    },
    {
     "data": {
      "application/vnd.jupyter.widget-view+json": {
       "model_id": "2b5481f23f0346e29d6ae1df8ee99b5a",
       "version_major": 2,
       "version_minor": 0
      },
      "text/plain": [
       "HBox(children=(FloatProgress(value=0.0, max=4.0), HTML(value='')))"
      ]
     },
     "metadata": {},
     "output_type": "display_data"
    },
    {
     "name": "stdout",
     "output_type": "stream",
     "text": [
      "\n",
      "cell ID =  989 progress bar below: (n/N frames):\n"
     ]
    },
    {
     "data": {
      "application/vnd.jupyter.widget-view+json": {
       "model_id": "576e03618be842b3b149c5fad8ddd174",
       "version_major": 2,
       "version_minor": 0
      },
      "text/plain": [
       "HBox(children=(FloatProgress(value=0.0, max=4.0), HTML(value='')))"
      ]
     },
     "metadata": {},
     "output_type": "display_data"
    },
    {
     "name": "stdout",
     "output_type": "stream",
     "text": [
      "\n",
      "cell ID =  990 progress bar below: (n/N frames):\n"
     ]
    },
    {
     "data": {
      "application/vnd.jupyter.widget-view+json": {
       "model_id": "31fbd7794627446a89f79a72d4e73468",
       "version_major": 2,
       "version_minor": 0
      },
      "text/plain": [
       "HBox(children=(FloatProgress(value=0.0, max=54.0), HTML(value='')))"
      ]
     },
     "metadata": {},
     "output_type": "display_data"
    },
    {
     "name": "stdout",
     "output_type": "stream",
     "text": [
      "\n",
      "cell ID =  991 progress bar below: (n/N frames):\n"
     ]
    },
    {
     "data": {
      "application/vnd.jupyter.widget-view+json": {
       "model_id": "b77be94dae564884aa2f241890270674",
       "version_major": 2,
       "version_minor": 0
      },
      "text/plain": [
       "HBox(children=(FloatProgress(value=0.0, max=4.0), HTML(value='')))"
      ]
     },
     "metadata": {},
     "output_type": "display_data"
    },
    {
     "name": "stdout",
     "output_type": "stream",
     "text": [
      "\n",
      "cell ID =  993 progress bar below: (n/N frames):\n"
     ]
    },
    {
     "data": {
      "application/vnd.jupyter.widget-view+json": {
       "model_id": "2683532637ca48e29ccde241873056c0",
       "version_major": 2,
       "version_minor": 0
      },
      "text/plain": [
       "HBox(children=(FloatProgress(value=0.0, max=222.0), HTML(value='')))"
      ]
     },
     "metadata": {},
     "output_type": "display_data"
    },
    {
     "name": "stdout",
     "output_type": "stream",
     "text": [
      "\n",
      "cell ID =  994 progress bar below: (n/N frames):\n"
     ]
    },
    {
     "data": {
      "application/vnd.jupyter.widget-view+json": {
       "model_id": "ab639f6341b4455b90824bc5dbd9a1cd",
       "version_major": 2,
       "version_minor": 0
      },
      "text/plain": [
       "HBox(children=(FloatProgress(value=0.0, max=22.0), HTML(value='')))"
      ]
     },
     "metadata": {},
     "output_type": "display_data"
    },
    {
     "name": "stdout",
     "output_type": "stream",
     "text": [
      "\n",
      "cell ID =  1000 progress bar below: (n/N frames):\n"
     ]
    },
    {
     "data": {
      "application/vnd.jupyter.widget-view+json": {
       "model_id": "b7d35fbe07c04fdc9e32978fe4094d98",
       "version_major": 2,
       "version_minor": 0
      },
      "text/plain": [
       "HBox(children=(FloatProgress(value=0.0, max=2.0), HTML(value='')))"
      ]
     },
     "metadata": {},
     "output_type": "display_data"
    },
    {
     "name": "stdout",
     "output_type": "stream",
     "text": [
      "\n",
      "cell ID =  1004 progress bar below: (n/N frames):\n"
     ]
    },
    {
     "data": {
      "application/vnd.jupyter.widget-view+json": {
       "model_id": "f715a45d730047d4ae8233c92f93dbb5",
       "version_major": 2,
       "version_minor": 0
      },
      "text/plain": [
       "HBox(children=(FloatProgress(value=0.0, max=3.0), HTML(value='')))"
      ]
     },
     "metadata": {},
     "output_type": "display_data"
    },
    {
     "name": "stdout",
     "output_type": "stream",
     "text": [
      "\n",
      "cell ID =  1005 progress bar below: (n/N frames):\n"
     ]
    },
    {
     "data": {
      "application/vnd.jupyter.widget-view+json": {
       "model_id": "99e31cc9611f47bf8860e27706252d45",
       "version_major": 2,
       "version_minor": 0
      },
      "text/plain": [
       "HBox(children=(FloatProgress(value=0.0, max=11.0), HTML(value='')))"
      ]
     },
     "metadata": {},
     "output_type": "display_data"
    },
    {
     "name": "stdout",
     "output_type": "stream",
     "text": [
      "\n",
      "cell ID =  1006 progress bar below: (n/N frames):\n"
     ]
    },
    {
     "data": {
      "application/vnd.jupyter.widget-view+json": {
       "model_id": "54ec8c65026f4c9b99e0498a3fcc1c10",
       "version_major": 2,
       "version_minor": 0
      },
      "text/plain": [
       "HBox(children=(FloatProgress(value=0.0, max=6.0), HTML(value='')))"
      ]
     },
     "metadata": {},
     "output_type": "display_data"
    },
    {
     "name": "stdout",
     "output_type": "stream",
     "text": [
      "\n",
      "cell ID =  1007 progress bar below: (n/N frames):\n"
     ]
    },
    {
     "data": {
      "application/vnd.jupyter.widget-view+json": {
       "model_id": "756a244b84ad413db5b67079effe9140",
       "version_major": 2,
       "version_minor": 0
      },
      "text/plain": [
       "HBox(children=(FloatProgress(value=0.0, max=126.0), HTML(value='')))"
      ]
     },
     "metadata": {},
     "output_type": "display_data"
    },
    {
     "name": "stdout",
     "output_type": "stream",
     "text": [
      "\n",
      "cell ID =  1012 progress bar below: (n/N frames):\n"
     ]
    },
    {
     "data": {
      "application/vnd.jupyter.widget-view+json": {
       "model_id": "21f9e92634f843f8b43eeef458faeb01",
       "version_major": 2,
       "version_minor": 0
      },
      "text/plain": [
       "HBox(children=(FloatProgress(value=0.0, max=5.0), HTML(value='')))"
      ]
     },
     "metadata": {},
     "output_type": "display_data"
    },
    {
     "name": "stdout",
     "output_type": "stream",
     "text": [
      "\n",
      "cell ID =  1014 progress bar below: (n/N frames):\n"
     ]
    },
    {
     "data": {
      "application/vnd.jupyter.widget-view+json": {
       "model_id": "883309f72c944cbf9dda79cb03e2eb1b",
       "version_major": 2,
       "version_minor": 0
      },
      "text/plain": [
       "HBox(children=(FloatProgress(value=0.0, max=499.0), HTML(value='')))"
      ]
     },
     "metadata": {},
     "output_type": "display_data"
    },
    {
     "name": "stdout",
     "output_type": "stream",
     "text": [
      "\n",
      "cell ID =  1018 progress bar below: (n/N frames):\n"
     ]
    },
    {
     "data": {
      "application/vnd.jupyter.widget-view+json": {
       "model_id": "b18ace83ecc64c318d3f92cca19a8005",
       "version_major": 2,
       "version_minor": 0
      },
      "text/plain": [
       "HBox(children=(FloatProgress(value=0.0, max=261.0), HTML(value='')))"
      ]
     },
     "metadata": {},
     "output_type": "display_data"
    },
    {
     "name": "stdout",
     "output_type": "stream",
     "text": [
      "\n",
      "cell ID =  1024 progress bar below: (n/N frames):\n"
     ]
    },
    {
     "data": {
      "application/vnd.jupyter.widget-view+json": {
       "model_id": "0c126202783c4455b0637bc74efc4718",
       "version_major": 2,
       "version_minor": 0
      },
      "text/plain": [
       "HBox(children=(FloatProgress(value=0.0, max=5.0), HTML(value='')))"
      ]
     },
     "metadata": {},
     "output_type": "display_data"
    },
    {
     "name": "stdout",
     "output_type": "stream",
     "text": [
      "\n",
      "cell ID =  1025 progress bar below: (n/N frames):\n"
     ]
    },
    {
     "data": {
      "application/vnd.jupyter.widget-view+json": {
       "model_id": "3c3fd5eab104476fb80d6d5952012560",
       "version_major": 2,
       "version_minor": 0
      },
      "text/plain": [
       "HBox(children=(FloatProgress(value=0.0, max=463.0), HTML(value='')))"
      ]
     },
     "metadata": {},
     "output_type": "display_data"
    },
    {
     "name": "stdout",
     "output_type": "stream",
     "text": [
      "\n",
      "cell ID =  1027 progress bar below: (n/N frames):\n"
     ]
    },
    {
     "data": {
      "application/vnd.jupyter.widget-view+json": {
       "model_id": "3cdde56b98db4b9f87df64d3e2018613",
       "version_major": 2,
       "version_minor": 0
      },
      "text/plain": [
       "HBox(children=(FloatProgress(value=0.0, max=24.0), HTML(value='')))"
      ]
     },
     "metadata": {},
     "output_type": "display_data"
    },
    {
     "name": "stdout",
     "output_type": "stream",
     "text": [
      "\n",
      "cell ID =  1032 progress bar below: (n/N frames):\n"
     ]
    },
    {
     "data": {
      "application/vnd.jupyter.widget-view+json": {
       "model_id": "72447b739eda4d9aa8281cb13c7abc50",
       "version_major": 2,
       "version_minor": 0
      },
      "text/plain": [
       "HBox(children=(FloatProgress(value=0.0, max=5.0), HTML(value='')))"
      ]
     },
     "metadata": {},
     "output_type": "display_data"
    },
    {
     "name": "stdout",
     "output_type": "stream",
     "text": [
      "\n",
      "cell ID =  1038 progress bar below: (n/N frames):\n"
     ]
    },
    {
     "data": {
      "application/vnd.jupyter.widget-view+json": {
       "model_id": "4f370710285847b68ea0eedb78843aa6",
       "version_major": 2,
       "version_minor": 0
      },
      "text/plain": [
       "HBox(children=(FloatProgress(value=0.0, max=4.0), HTML(value='')))"
      ]
     },
     "metadata": {},
     "output_type": "display_data"
    },
    {
     "name": "stdout",
     "output_type": "stream",
     "text": [
      "\n",
      "cell ID =  1039 progress bar below: (n/N frames):\n"
     ]
    },
    {
     "data": {
      "application/vnd.jupyter.widget-view+json": {
       "model_id": "436303b22e61454293b200169fdb0b37",
       "version_major": 2,
       "version_minor": 0
      },
      "text/plain": [
       "HBox(children=(FloatProgress(value=0.0, max=5.0), HTML(value='')))"
      ]
     },
     "metadata": {},
     "output_type": "display_data"
    },
    {
     "name": "stdout",
     "output_type": "stream",
     "text": [
      "\n",
      "cell ID =  1040 progress bar below: (n/N frames):\n"
     ]
    },
    {
     "data": {
      "application/vnd.jupyter.widget-view+json": {
       "model_id": "8cf8465a3ad04daca36e70b3a743f168",
       "version_major": 2,
       "version_minor": 0
      },
      "text/plain": [
       "HBox(children=(FloatProgress(value=0.0, max=351.0), HTML(value='')))"
      ]
     },
     "metadata": {},
     "output_type": "display_data"
    },
    {
     "name": "stdout",
     "output_type": "stream",
     "text": [
      "\n",
      "cell ID =  1043 progress bar below: (n/N frames):\n"
     ]
    },
    {
     "data": {
      "application/vnd.jupyter.widget-view+json": {
       "model_id": "7e8049f580cf454a9be5a5a187ffda18",
       "version_major": 2,
       "version_minor": 0
      },
      "text/plain": [
       "HBox(children=(FloatProgress(value=0.0, max=25.0), HTML(value='')))"
      ]
     },
     "metadata": {},
     "output_type": "display_data"
    },
    {
     "name": "stdout",
     "output_type": "stream",
     "text": [
      "\n",
      "cell ID =  1045 progress bar below: (n/N frames):\n"
     ]
    },
    {
     "data": {
      "application/vnd.jupyter.widget-view+json": {
       "model_id": "01260d86ef92464e869ceacbea3867b9",
       "version_major": 2,
       "version_minor": 0
      },
      "text/plain": [
       "HBox(children=(FloatProgress(value=0.0, max=9.0), HTML(value='')))"
      ]
     },
     "metadata": {},
     "output_type": "display_data"
    },
    {
     "name": "stdout",
     "output_type": "stream",
     "text": [
      "\n",
      "cell ID =  1047 progress bar below: (n/N frames):\n"
     ]
    },
    {
     "data": {
      "application/vnd.jupyter.widget-view+json": {
       "model_id": "4ae67cce71814a32a97782dec67cc1e0",
       "version_major": 2,
       "version_minor": 0
      },
      "text/plain": [
       "HBox(children=(FloatProgress(value=0.0, max=14.0), HTML(value='')))"
      ]
     },
     "metadata": {},
     "output_type": "display_data"
    },
    {
     "name": "stdout",
     "output_type": "stream",
     "text": [
      "\n",
      "cell ID =  1051 progress bar below: (n/N frames):\n"
     ]
    },
    {
     "data": {
      "application/vnd.jupyter.widget-view+json": {
       "model_id": "3b0df17bb7fb4fc996b7b59373e8b63c",
       "version_major": 2,
       "version_minor": 0
      },
      "text/plain": [
       "HBox(children=(FloatProgress(value=0.0, max=60.0), HTML(value='')))"
      ]
     },
     "metadata": {},
     "output_type": "display_data"
    },
    {
     "name": "stdout",
     "output_type": "stream",
     "text": [
      "\n",
      "cell ID =  1052 progress bar below: (n/N frames):\n"
     ]
    },
    {
     "data": {
      "application/vnd.jupyter.widget-view+json": {
       "model_id": "e9c94c1658c3432e8f4bd5d2fe36463d",
       "version_major": 2,
       "version_minor": 0
      },
      "text/plain": [
       "HBox(children=(FloatProgress(value=0.0, max=38.0), HTML(value='')))"
      ]
     },
     "metadata": {},
     "output_type": "display_data"
    },
    {
     "name": "stdout",
     "output_type": "stream",
     "text": [
      "\n",
      "cell ID =  1056 progress bar below: (n/N frames):\n"
     ]
    },
    {
     "data": {
      "application/vnd.jupyter.widget-view+json": {
       "model_id": "360f10e3f1d24fd3bd2af77e78cbbcec",
       "version_major": 2,
       "version_minor": 0
      },
      "text/plain": [
       "HBox(children=(FloatProgress(value=0.0, max=42.0), HTML(value='')))"
      ]
     },
     "metadata": {},
     "output_type": "display_data"
    },
    {
     "name": "stdout",
     "output_type": "stream",
     "text": [
      "\n",
      "cell ID =  1065 progress bar below: (n/N frames):\n"
     ]
    },
    {
     "data": {
      "application/vnd.jupyter.widget-view+json": {
       "model_id": "4371c59522d44d2fa0d99b8f546538f9",
       "version_major": 2,
       "version_minor": 0
      },
      "text/plain": [
       "HBox(children=(FloatProgress(value=0.0, max=134.0), HTML(value='')))"
      ]
     },
     "metadata": {},
     "output_type": "display_data"
    },
    {
     "name": "stdout",
     "output_type": "stream",
     "text": [
      "\n",
      "cell ID =  1066 progress bar below: (n/N frames):\n"
     ]
    },
    {
     "data": {
      "application/vnd.jupyter.widget-view+json": {
       "model_id": "a3a2b1ffd9e940cd808c1bfd8d9ad8de",
       "version_major": 2,
       "version_minor": 0
      },
      "text/plain": [
       "HBox(children=(FloatProgress(value=0.0, max=5.0), HTML(value='')))"
      ]
     },
     "metadata": {},
     "output_type": "display_data"
    },
    {
     "name": "stdout",
     "output_type": "stream",
     "text": [
      "\n",
      "cell ID =  1069 progress bar below: (n/N frames):\n"
     ]
    },
    {
     "data": {
      "application/vnd.jupyter.widget-view+json": {
       "model_id": "537d091d35044377bd2a077dee217b89",
       "version_major": 2,
       "version_minor": 0
      },
      "text/plain": [
       "HBox(children=(FloatProgress(value=0.0, max=147.0), HTML(value='')))"
      ]
     },
     "metadata": {},
     "output_type": "display_data"
    },
    {
     "name": "stdout",
     "output_type": "stream",
     "text": [
      "\n",
      "cell ID =  1070 progress bar below: (n/N frames):\n"
     ]
    },
    {
     "data": {
      "application/vnd.jupyter.widget-view+json": {
       "model_id": "8159232441cb46fcac47ecfd6a369d87",
       "version_major": 2,
       "version_minor": 0
      },
      "text/plain": [
       "HBox(children=(FloatProgress(value=0.0, max=5.0), HTML(value='')))"
      ]
     },
     "metadata": {},
     "output_type": "display_data"
    },
    {
     "name": "stdout",
     "output_type": "stream",
     "text": [
      "\n",
      "cell ID =  1072 progress bar below: (n/N frames):\n"
     ]
    },
    {
     "data": {
      "application/vnd.jupyter.widget-view+json": {
       "model_id": "da184e0ea8c2494b95ef8a1c1e0b893a",
       "version_major": 2,
       "version_minor": 0
      },
      "text/plain": [
       "HBox(children=(FloatProgress(value=0.0, max=3.0), HTML(value='')))"
      ]
     },
     "metadata": {},
     "output_type": "display_data"
    },
    {
     "name": "stdout",
     "output_type": "stream",
     "text": [
      "\n",
      "cell ID =  1075 progress bar below: (n/N frames):\n"
     ]
    },
    {
     "data": {
      "application/vnd.jupyter.widget-view+json": {
       "model_id": "72a362c3810247e998b1d9be9a34eb69",
       "version_major": 2,
       "version_minor": 0
      },
      "text/plain": [
       "HBox(children=(FloatProgress(value=0.0, max=6.0), HTML(value='')))"
      ]
     },
     "metadata": {},
     "output_type": "display_data"
    },
    {
     "name": "stdout",
     "output_type": "stream",
     "text": [
      "\n",
      "cell ID =  1076 progress bar below: (n/N frames):\n"
     ]
    },
    {
     "data": {
      "application/vnd.jupyter.widget-view+json": {
       "model_id": "f73ed0bb6c324417a5d2ec570b157bf4",
       "version_major": 2,
       "version_minor": 0
      },
      "text/plain": [
       "HBox(children=(FloatProgress(value=0.0, max=169.0), HTML(value='')))"
      ]
     },
     "metadata": {},
     "output_type": "display_data"
    },
    {
     "name": "stdout",
     "output_type": "stream",
     "text": [
      "\n",
      "cell ID =  1079 progress bar below: (n/N frames):\n"
     ]
    },
    {
     "data": {
      "application/vnd.jupyter.widget-view+json": {
       "model_id": "07f4f48d08b94e8790450d9397780671",
       "version_major": 2,
       "version_minor": 0
      },
      "text/plain": [
       "HBox(children=(FloatProgress(value=0.0, max=30.0), HTML(value='')))"
      ]
     },
     "metadata": {},
     "output_type": "display_data"
    },
    {
     "name": "stdout",
     "output_type": "stream",
     "text": [
      "\n",
      "cell ID =  1080 progress bar below: (n/N frames):\n"
     ]
    },
    {
     "data": {
      "application/vnd.jupyter.widget-view+json": {
       "model_id": "9a3b4e52793e4e55ac0619be54a46dfb",
       "version_major": 2,
       "version_minor": 0
      },
      "text/plain": [
       "HBox(children=(FloatProgress(value=0.0, max=33.0), HTML(value='')))"
      ]
     },
     "metadata": {},
     "output_type": "display_data"
    },
    {
     "name": "stdout",
     "output_type": "stream",
     "text": [
      "\n",
      "cell ID =  1081 progress bar below: (n/N frames):\n"
     ]
    },
    {
     "data": {
      "application/vnd.jupyter.widget-view+json": {
       "model_id": "5fa17faadeb14df1bc306c0fd22da8a5",
       "version_major": 2,
       "version_minor": 0
      },
      "text/plain": [
       "HBox(children=(FloatProgress(value=0.0, max=2.0), HTML(value='')))"
      ]
     },
     "metadata": {},
     "output_type": "display_data"
    },
    {
     "name": "stdout",
     "output_type": "stream",
     "text": [
      "\n",
      "cell ID =  1082 progress bar below: (n/N frames):\n"
     ]
    },
    {
     "data": {
      "application/vnd.jupyter.widget-view+json": {
       "model_id": "92b3924171ad41eab807e5749515e522",
       "version_major": 2,
       "version_minor": 0
      },
      "text/plain": [
       "HBox(children=(FloatProgress(value=0.0, max=392.0), HTML(value='')))"
      ]
     },
     "metadata": {},
     "output_type": "display_data"
    },
    {
     "name": "stdout",
     "output_type": "stream",
     "text": [
      "\n",
      "cell ID =  1083 progress bar below: (n/N frames):\n"
     ]
    },
    {
     "data": {
      "application/vnd.jupyter.widget-view+json": {
       "model_id": "78323fc226c64048b2832cddd48c90dd",
       "version_major": 2,
       "version_minor": 0
      },
      "text/plain": [
       "HBox(children=(FloatProgress(value=0.0, max=2.0), HTML(value='')))"
      ]
     },
     "metadata": {},
     "output_type": "display_data"
    },
    {
     "name": "stdout",
     "output_type": "stream",
     "text": [
      "\n",
      "cell ID =  1084 progress bar below: (n/N frames):\n"
     ]
    },
    {
     "data": {
      "application/vnd.jupyter.widget-view+json": {
       "model_id": "f9653c8d726c458ea0e2da8fde118a26",
       "version_major": 2,
       "version_minor": 0
      },
      "text/plain": [
       "HBox(children=(FloatProgress(value=0.0, max=134.0), HTML(value='')))"
      ]
     },
     "metadata": {},
     "output_type": "display_data"
    },
    {
     "name": "stdout",
     "output_type": "stream",
     "text": [
      "\n",
      "cell ID =  1085 progress bar below: (n/N frames):\n"
     ]
    },
    {
     "data": {
      "application/vnd.jupyter.widget-view+json": {
       "model_id": "0ddd80cddcb244bdacebf4028b35677d",
       "version_major": 2,
       "version_minor": 0
      },
      "text/plain": [
       "HBox(children=(FloatProgress(value=0.0, max=456.0), HTML(value='')))"
      ]
     },
     "metadata": {},
     "output_type": "display_data"
    },
    {
     "name": "stdout",
     "output_type": "stream",
     "text": [
      "\n",
      "cell ID =  1086 progress bar below: (n/N frames):\n"
     ]
    },
    {
     "data": {
      "application/vnd.jupyter.widget-view+json": {
       "model_id": "4328b9205aec43958cda3af1531c266e",
       "version_major": 2,
       "version_minor": 0
      },
      "text/plain": [
       "HBox(children=(FloatProgress(value=0.0, max=25.0), HTML(value='')))"
      ]
     },
     "metadata": {},
     "output_type": "display_data"
    },
    {
     "name": "stdout",
     "output_type": "stream",
     "text": [
      "\n",
      "cell ID =  1088 progress bar below: (n/N frames):\n"
     ]
    },
    {
     "data": {
      "application/vnd.jupyter.widget-view+json": {
       "model_id": "92a8dd34db6a4748bdcdcca90809a718",
       "version_major": 2,
       "version_minor": 0
      },
      "text/plain": [
       "HBox(children=(FloatProgress(value=0.0, max=573.0), HTML(value='')))"
      ]
     },
     "metadata": {},
     "output_type": "display_data"
    },
    {
     "name": "stdout",
     "output_type": "stream",
     "text": [
      "\n",
      "cell ID =  1089 progress bar below: (n/N frames):\n"
     ]
    },
    {
     "data": {
      "application/vnd.jupyter.widget-view+json": {
       "model_id": "aa133d055a1d432284da7530f61f4a01",
       "version_major": 2,
       "version_minor": 0
      },
      "text/plain": [
       "HBox(children=(FloatProgress(value=0.0, max=572.0), HTML(value='')))"
      ]
     },
     "metadata": {},
     "output_type": "display_data"
    },
    {
     "name": "stdout",
     "output_type": "stream",
     "text": [
      "\n",
      "cell ID =  1092 progress bar below: (n/N frames):\n"
     ]
    },
    {
     "data": {
      "application/vnd.jupyter.widget-view+json": {
       "model_id": "05d7538a4cee409ca8346943902ebcc4",
       "version_major": 2,
       "version_minor": 0
      },
      "text/plain": [
       "HBox(children=(FloatProgress(value=0.0, max=12.0), HTML(value='')))"
      ]
     },
     "metadata": {},
     "output_type": "display_data"
    },
    {
     "name": "stdout",
     "output_type": "stream",
     "text": [
      "\n",
      "cell ID =  1093 progress bar below: (n/N frames):\n"
     ]
    },
    {
     "data": {
      "application/vnd.jupyter.widget-view+json": {
       "model_id": "5b30ff652642421db66114c35cd55ea7",
       "version_major": 2,
       "version_minor": 0
      },
      "text/plain": [
       "HBox(children=(FloatProgress(value=0.0, max=6.0), HTML(value='')))"
      ]
     },
     "metadata": {},
     "output_type": "display_data"
    },
    {
     "name": "stdout",
     "output_type": "stream",
     "text": [
      "\n",
      "cell ID =  1094 progress bar below: (n/N frames):\n"
     ]
    },
    {
     "data": {
      "application/vnd.jupyter.widget-view+json": {
       "model_id": "fbe358c4261c4e62a05a3d59a7579d86",
       "version_major": 2,
       "version_minor": 0
      },
      "text/plain": [
       "HBox(children=(FloatProgress(value=0.0, max=290.0), HTML(value='')))"
      ]
     },
     "metadata": {},
     "output_type": "display_data"
    },
    {
     "name": "stdout",
     "output_type": "stream",
     "text": [
      "\n",
      "cell ID =  1097 progress bar below: (n/N frames):\n"
     ]
    },
    {
     "data": {
      "application/vnd.jupyter.widget-view+json": {
       "model_id": "0d0629b2c9a64c8488503ee135a06818",
       "version_major": 2,
       "version_minor": 0
      },
      "text/plain": [
       "HBox(children=(FloatProgress(value=0.0, max=37.0), HTML(value='')))"
      ]
     },
     "metadata": {},
     "output_type": "display_data"
    },
    {
     "name": "stdout",
     "output_type": "stream",
     "text": [
      "\n",
      "cell ID =  1095 progress bar below: (n/N frames):\n"
     ]
    },
    {
     "data": {
      "application/vnd.jupyter.widget-view+json": {
       "model_id": "39938148bd2d4bca8e97a99b5cbecdb5",
       "version_major": 2,
       "version_minor": 0
      },
      "text/plain": [
       "HBox(children=(FloatProgress(value=0.0, max=207.0), HTML(value='')))"
      ]
     },
     "metadata": {},
     "output_type": "display_data"
    },
    {
     "name": "stdout",
     "output_type": "stream",
     "text": [
      "\n",
      "cell ID =  1098 progress bar below: (n/N frames):\n"
     ]
    },
    {
     "data": {
      "application/vnd.jupyter.widget-view+json": {
       "model_id": "038116e7c14245b888ecec5675b34fc8",
       "version_major": 2,
       "version_minor": 0
      },
      "text/plain": [
       "HBox(children=(FloatProgress(value=0.0, max=482.0), HTML(value='')))"
      ]
     },
     "metadata": {},
     "output_type": "display_data"
    },
    {
     "name": "stdout",
     "output_type": "stream",
     "text": [
      "\n",
      "cell ID =  1099 progress bar below: (n/N frames):\n"
     ]
    },
    {
     "data": {
      "application/vnd.jupyter.widget-view+json": {
       "model_id": "9bf300608cd040c2ba3dd98ba843b00c",
       "version_major": 2,
       "version_minor": 0
      },
      "text/plain": [
       "HBox(children=(FloatProgress(value=0.0, max=4.0), HTML(value='')))"
      ]
     },
     "metadata": {},
     "output_type": "display_data"
    },
    {
     "name": "stdout",
     "output_type": "stream",
     "text": [
      "\n",
      "cell ID =  1100 progress bar below: (n/N frames):\n"
     ]
    },
    {
     "data": {
      "application/vnd.jupyter.widget-view+json": {
       "model_id": "753b0bba6b6843beb7a22b271d7c7141",
       "version_major": 2,
       "version_minor": 0
      },
      "text/plain": [
       "HBox(children=(FloatProgress(value=0.0, max=236.0), HTML(value='')))"
      ]
     },
     "metadata": {},
     "output_type": "display_data"
    },
    {
     "name": "stdout",
     "output_type": "stream",
     "text": [
      "\n",
      "cell ID =  1101 progress bar below: (n/N frames):\n"
     ]
    },
    {
     "data": {
      "application/vnd.jupyter.widget-view+json": {
       "model_id": "ce4617e5fae548f395e0db7f852dbcd2",
       "version_major": 2,
       "version_minor": 0
      },
      "text/plain": [
       "HBox(children=(FloatProgress(value=0.0, max=5.0), HTML(value='')))"
      ]
     },
     "metadata": {},
     "output_type": "display_data"
    },
    {
     "name": "stdout",
     "output_type": "stream",
     "text": [
      "\n",
      "cell ID =  1102 progress bar below: (n/N frames):\n"
     ]
    },
    {
     "data": {
      "application/vnd.jupyter.widget-view+json": {
       "model_id": "5aa97e02df3e47eba2655c30136b6c34",
       "version_major": 2,
       "version_minor": 0
      },
      "text/plain": [
       "HBox(children=(FloatProgress(value=0.0, max=64.0), HTML(value='')))"
      ]
     },
     "metadata": {},
     "output_type": "display_data"
    },
    {
     "name": "stdout",
     "output_type": "stream",
     "text": [
      "\n",
      "cell ID =  1103 progress bar below: (n/N frames):\n"
     ]
    },
    {
     "data": {
      "application/vnd.jupyter.widget-view+json": {
       "model_id": "331b8fc7bea747c9a0ec28806b01b5ad",
       "version_major": 2,
       "version_minor": 0
      },
      "text/plain": [
       "HBox(children=(FloatProgress(value=0.0, max=2.0), HTML(value='')))"
      ]
     },
     "metadata": {},
     "output_type": "display_data"
    },
    {
     "name": "stdout",
     "output_type": "stream",
     "text": [
      "\n",
      "cell ID =  1104 progress bar below: (n/N frames):\n"
     ]
    },
    {
     "data": {
      "application/vnd.jupyter.widget-view+json": {
       "model_id": "a7b503e9fb0648a6bc3b7024490fe897",
       "version_major": 2,
       "version_minor": 0
      },
      "text/plain": [
       "HBox(children=(FloatProgress(value=0.0, max=3.0), HTML(value='')))"
      ]
     },
     "metadata": {},
     "output_type": "display_data"
    },
    {
     "name": "stdout",
     "output_type": "stream",
     "text": [
      "\n",
      "cell ID =  1114 progress bar below: (n/N frames):\n"
     ]
    },
    {
     "data": {
      "application/vnd.jupyter.widget-view+json": {
       "model_id": "4124e869fa9846268ce8d30d972ecbec",
       "version_major": 2,
       "version_minor": 0
      },
      "text/plain": [
       "HBox(children=(FloatProgress(value=0.0, max=173.0), HTML(value='')))"
      ]
     },
     "metadata": {},
     "output_type": "display_data"
    },
    {
     "name": "stdout",
     "output_type": "stream",
     "text": [
      "\n",
      "cell ID =  1115 progress bar below: (n/N frames):\n"
     ]
    },
    {
     "data": {
      "application/vnd.jupyter.widget-view+json": {
       "model_id": "c839eaf9ba874f7e838b6a2253021154",
       "version_major": 2,
       "version_minor": 0
      },
      "text/plain": [
       "HBox(children=(FloatProgress(value=0.0, max=31.0), HTML(value='')))"
      ]
     },
     "metadata": {},
     "output_type": "display_data"
    },
    {
     "name": "stdout",
     "output_type": "stream",
     "text": [
      "\n",
      "cell ID =  1122 progress bar below: (n/N frames):\n"
     ]
    },
    {
     "data": {
      "application/vnd.jupyter.widget-view+json": {
       "model_id": "fab453a960e843a0a95de82cb5bcb60f",
       "version_major": 2,
       "version_minor": 0
      },
      "text/plain": [
       "HBox(children=(FloatProgress(value=0.0, max=12.0), HTML(value='')))"
      ]
     },
     "metadata": {},
     "output_type": "display_data"
    },
    {
     "name": "stdout",
     "output_type": "stream",
     "text": [
      "\n",
      "cell ID =  1124 progress bar below: (n/N frames):\n"
     ]
    },
    {
     "data": {
      "application/vnd.jupyter.widget-view+json": {
       "model_id": "c84060471f7b407786fbf6e18db7904a",
       "version_major": 2,
       "version_minor": 0
      },
      "text/plain": [
       "HBox(children=(FloatProgress(value=0.0, max=56.0), HTML(value='')))"
      ]
     },
     "metadata": {},
     "output_type": "display_data"
    },
    {
     "name": "stdout",
     "output_type": "stream",
     "text": [
      "\n",
      "cell ID =  1125 progress bar below: (n/N frames):\n"
     ]
    },
    {
     "data": {
      "application/vnd.jupyter.widget-view+json": {
       "model_id": "d030014783a44e078f08b2d45f0d3e1f",
       "version_major": 2,
       "version_minor": 0
      },
      "text/plain": [
       "HBox(children=(FloatProgress(value=0.0, max=2.0), HTML(value='')))"
      ]
     },
     "metadata": {},
     "output_type": "display_data"
    },
    {
     "name": "stdout",
     "output_type": "stream",
     "text": [
      "\n",
      "cell ID =  1126 progress bar below: (n/N frames):\n"
     ]
    },
    {
     "data": {
      "application/vnd.jupyter.widget-view+json": {
       "model_id": "6e01b58bdb3640d1a54de173139af5e2",
       "version_major": 2,
       "version_minor": 0
      },
      "text/plain": [
       "HBox(children=(FloatProgress(value=0.0, max=46.0), HTML(value='')))"
      ]
     },
     "metadata": {},
     "output_type": "display_data"
    },
    {
     "name": "stdout",
     "output_type": "stream",
     "text": [
      "\n",
      "cell ID =  1132 progress bar below: (n/N frames):\n"
     ]
    },
    {
     "data": {
      "application/vnd.jupyter.widget-view+json": {
       "model_id": "df638933814e4dec9697de1d7d233264",
       "version_major": 2,
       "version_minor": 0
      },
      "text/plain": [
       "HBox(children=(FloatProgress(value=0.0, max=550.0), HTML(value='')))"
      ]
     },
     "metadata": {},
     "output_type": "display_data"
    },
    {
     "name": "stdout",
     "output_type": "stream",
     "text": [
      "\n",
      "cell ID =  1133 progress bar below: (n/N frames):\n"
     ]
    },
    {
     "data": {
      "application/vnd.jupyter.widget-view+json": {
       "model_id": "410e909811fe4ba0ab9d2ce298ba1750",
       "version_major": 2,
       "version_minor": 0
      },
      "text/plain": [
       "HBox(children=(FloatProgress(value=0.0, max=3.0), HTML(value='')))"
      ]
     },
     "metadata": {},
     "output_type": "display_data"
    },
    {
     "name": "stdout",
     "output_type": "stream",
     "text": [
      "\n",
      "cell ID =  1135 progress bar below: (n/N frames):\n"
     ]
    },
    {
     "data": {
      "application/vnd.jupyter.widget-view+json": {
       "model_id": "4c89fcf4be7148e9b61ef8dbe4960c2c",
       "version_major": 2,
       "version_minor": 0
      },
      "text/plain": [
       "HBox(children=(FloatProgress(value=0.0, max=20.0), HTML(value='')))"
      ]
     },
     "metadata": {},
     "output_type": "display_data"
    },
    {
     "name": "stdout",
     "output_type": "stream",
     "text": [
      "\n",
      "cell ID =  1140 progress bar below: (n/N frames):\n"
     ]
    },
    {
     "data": {
      "application/vnd.jupyter.widget-view+json": {
       "model_id": "5bb03406361a4a9481dd15316f9229f8",
       "version_major": 2,
       "version_minor": 0
      },
      "text/plain": [
       "HBox(children=(FloatProgress(value=0.0, max=158.0), HTML(value='')))"
      ]
     },
     "metadata": {},
     "output_type": "display_data"
    },
    {
     "name": "stdout",
     "output_type": "stream",
     "text": [
      "\n",
      "cell ID =  1141 progress bar below: (n/N frames):\n"
     ]
    },
    {
     "data": {
      "application/vnd.jupyter.widget-view+json": {
       "model_id": "207fa3c2b3294e06a47ecca2dd49eaf0",
       "version_major": 2,
       "version_minor": 0
      },
      "text/plain": [
       "HBox(children=(FloatProgress(value=0.0, max=3.0), HTML(value='')))"
      ]
     },
     "metadata": {},
     "output_type": "display_data"
    },
    {
     "name": "stdout",
     "output_type": "stream",
     "text": [
      "\n",
      "cell ID =  1147 progress bar below: (n/N frames):\n"
     ]
    },
    {
     "data": {
      "application/vnd.jupyter.widget-view+json": {
       "model_id": "2af7ff0e50b14fa597fa0e0ead9eafab",
       "version_major": 2,
       "version_minor": 0
      },
      "text/plain": [
       "HBox(children=(FloatProgress(value=0.0, max=5.0), HTML(value='')))"
      ]
     },
     "metadata": {},
     "output_type": "display_data"
    },
    {
     "name": "stdout",
     "output_type": "stream",
     "text": [
      "\n",
      "cell ID =  1150 progress bar below: (n/N frames):\n"
     ]
    },
    {
     "data": {
      "application/vnd.jupyter.widget-view+json": {
       "model_id": "cfedc70a5dd04de39d5a19b374d4e8b8",
       "version_major": 2,
       "version_minor": 0
      },
      "text/plain": [
       "HBox(children=(FloatProgress(value=0.0, max=3.0), HTML(value='')))"
      ]
     },
     "metadata": {},
     "output_type": "display_data"
    },
    {
     "name": "stdout",
     "output_type": "stream",
     "text": [
      "\n",
      "cell ID =  1151 progress bar below: (n/N frames):\n"
     ]
    },
    {
     "data": {
      "application/vnd.jupyter.widget-view+json": {
       "model_id": "b941278fcd5a41d3831056cc30e9628e",
       "version_major": 2,
       "version_minor": 0
      },
      "text/plain": [
       "HBox(children=(FloatProgress(value=0.0, max=13.0), HTML(value='')))"
      ]
     },
     "metadata": {},
     "output_type": "display_data"
    },
    {
     "name": "stdout",
     "output_type": "stream",
     "text": [
      "\n",
      "cell ID =  1153 progress bar below: (n/N frames):\n"
     ]
    },
    {
     "data": {
      "application/vnd.jupyter.widget-view+json": {
       "model_id": "444070b2f8814990926e893ded9727c6",
       "version_major": 2,
       "version_minor": 0
      },
      "text/plain": [
       "HBox(children=(FloatProgress(value=0.0, max=113.0), HTML(value='')))"
      ]
     },
     "metadata": {},
     "output_type": "display_data"
    },
    {
     "name": "stdout",
     "output_type": "stream",
     "text": [
      "\n",
      "cell ID =  1154 progress bar below: (n/N frames):\n"
     ]
    },
    {
     "data": {
      "application/vnd.jupyter.widget-view+json": {
       "model_id": "e785c0a5e21a4e7096cddbec6c60b70d",
       "version_major": 2,
       "version_minor": 0
      },
      "text/plain": [
       "HBox(children=(FloatProgress(value=0.0, max=111.0), HTML(value='')))"
      ]
     },
     "metadata": {},
     "output_type": "display_data"
    },
    {
     "name": "stdout",
     "output_type": "stream",
     "text": [
      "\n",
      "cell ID =  1158 progress bar below: (n/N frames):\n"
     ]
    },
    {
     "data": {
      "application/vnd.jupyter.widget-view+json": {
       "model_id": "1b7c940193b24d0cb105c16917412a65",
       "version_major": 2,
       "version_minor": 0
      },
      "text/plain": [
       "HBox(children=(FloatProgress(value=0.0, max=2.0), HTML(value='')))"
      ]
     },
     "metadata": {},
     "output_type": "display_data"
    },
    {
     "name": "stdout",
     "output_type": "stream",
     "text": [
      "\n",
      "cell ID =  1159 progress bar below: (n/N frames):\n"
     ]
    },
    {
     "data": {
      "application/vnd.jupyter.widget-view+json": {
       "model_id": "78c35cef8a504215ba4e39532f3dda78",
       "version_major": 2,
       "version_minor": 0
      },
      "text/plain": [
       "HBox(children=(FloatProgress(value=0.0, max=2.0), HTML(value='')))"
      ]
     },
     "metadata": {},
     "output_type": "display_data"
    },
    {
     "name": "stdout",
     "output_type": "stream",
     "text": [
      "\n",
      "cell ID =  1155 progress bar below: (n/N frames):\n"
     ]
    },
    {
     "data": {
      "application/vnd.jupyter.widget-view+json": {
       "model_id": "88f9a16b62794cf1ad0a373bc90e317b",
       "version_major": 2,
       "version_minor": 0
      },
      "text/plain": [
       "HBox(children=(FloatProgress(value=0.0, max=23.0), HTML(value='')))"
      ]
     },
     "metadata": {},
     "output_type": "display_data"
    },
    {
     "name": "stdout",
     "output_type": "stream",
     "text": [
      "\n",
      "cell ID =  1157 progress bar below: (n/N frames):\n"
     ]
    },
    {
     "data": {
      "application/vnd.jupyter.widget-view+json": {
       "model_id": "fd3d23ec3e3a433e9b21cb36bddb2b89",
       "version_major": 2,
       "version_minor": 0
      },
      "text/plain": [
       "HBox(children=(FloatProgress(value=0.0, max=3.0), HTML(value='')))"
      ]
     },
     "metadata": {},
     "output_type": "display_data"
    },
    {
     "name": "stdout",
     "output_type": "stream",
     "text": [
      "\n",
      "cell ID =  1162 progress bar below: (n/N frames):\n"
     ]
    },
    {
     "data": {
      "application/vnd.jupyter.widget-view+json": {
       "model_id": "cd41099416ef466f9761be7805ce2d87",
       "version_major": 2,
       "version_minor": 0
      },
      "text/plain": [
       "HBox(children=(FloatProgress(value=0.0, max=2.0), HTML(value='')))"
      ]
     },
     "metadata": {},
     "output_type": "display_data"
    },
    {
     "name": "stdout",
     "output_type": "stream",
     "text": [
      "\n",
      "cell ID =  1165 progress bar below: (n/N frames):\n"
     ]
    },
    {
     "data": {
      "application/vnd.jupyter.widget-view+json": {
       "model_id": "2111e2020ed648ffb4e9db2dc1f42060",
       "version_major": 2,
       "version_minor": 0
      },
      "text/plain": [
       "HBox(children=(FloatProgress(value=0.0, max=3.0), HTML(value='')))"
      ]
     },
     "metadata": {},
     "output_type": "display_data"
    },
    {
     "name": "stdout",
     "output_type": "stream",
     "text": [
      "\n",
      "cell ID =  1168 progress bar below: (n/N frames):\n"
     ]
    },
    {
     "data": {
      "application/vnd.jupyter.widget-view+json": {
       "model_id": "e9d0683896b443b2bf42b3a37c0f090a",
       "version_major": 2,
       "version_minor": 0
      },
      "text/plain": [
       "HBox(children=(FloatProgress(value=0.0, max=7.0), HTML(value='')))"
      ]
     },
     "metadata": {},
     "output_type": "display_data"
    },
    {
     "name": "stdout",
     "output_type": "stream",
     "text": [
      "\n",
      "cell ID =  1169 progress bar below: (n/N frames):\n"
     ]
    },
    {
     "data": {
      "application/vnd.jupyter.widget-view+json": {
       "model_id": "f6a972cbe734451e9690508d88b62a5e",
       "version_major": 2,
       "version_minor": 0
      },
      "text/plain": [
       "HBox(children=(FloatProgress(value=0.0, max=2.0), HTML(value='')))"
      ]
     },
     "metadata": {},
     "output_type": "display_data"
    },
    {
     "name": "stdout",
     "output_type": "stream",
     "text": [
      "\n",
      "cell ID =  1170 progress bar below: (n/N frames):\n"
     ]
    },
    {
     "data": {
      "application/vnd.jupyter.widget-view+json": {
       "model_id": "a7534cf272d24a1282a1dfdd03ca6d21",
       "version_major": 2,
       "version_minor": 0
      },
      "text/plain": [
       "HBox(children=(FloatProgress(value=0.0, max=9.0), HTML(value='')))"
      ]
     },
     "metadata": {},
     "output_type": "display_data"
    },
    {
     "name": "stdout",
     "output_type": "stream",
     "text": [
      "\n",
      "cell ID =  1172 progress bar below: (n/N frames):\n"
     ]
    },
    {
     "data": {
      "application/vnd.jupyter.widget-view+json": {
       "model_id": "4e865317b7d940eab39734bec2bb95fb",
       "version_major": 2,
       "version_minor": 0
      },
      "text/plain": [
       "HBox(children=(FloatProgress(value=0.0, max=3.0), HTML(value='')))"
      ]
     },
     "metadata": {},
     "output_type": "display_data"
    },
    {
     "name": "stdout",
     "output_type": "stream",
     "text": [
      "\n",
      "cell ID =  1173 progress bar below: (n/N frames):\n"
     ]
    },
    {
     "data": {
      "application/vnd.jupyter.widget-view+json": {
       "model_id": "2c7cdf21b1ea4664af7e8603859c7bf7",
       "version_major": 2,
       "version_minor": 0
      },
      "text/plain": [
       "HBox(children=(FloatProgress(value=0.0, max=2.0), HTML(value='')))"
      ]
     },
     "metadata": {},
     "output_type": "display_data"
    },
    {
     "name": "stdout",
     "output_type": "stream",
     "text": [
      "\n",
      "cell ID =  1174 progress bar below: (n/N frames):\n"
     ]
    },
    {
     "data": {
      "application/vnd.jupyter.widget-view+json": {
       "model_id": "f00d3ed348d4426f863e2920abfb9bbd",
       "version_major": 2,
       "version_minor": 0
      },
      "text/plain": [
       "HBox(children=(FloatProgress(value=0.0, max=12.0), HTML(value='')))"
      ]
     },
     "metadata": {},
     "output_type": "display_data"
    },
    {
     "name": "stdout",
     "output_type": "stream",
     "text": [
      "\n",
      "cell ID =  1175 progress bar below: (n/N frames):\n"
     ]
    },
    {
     "data": {
      "application/vnd.jupyter.widget-view+json": {
       "model_id": "c1b2c5779ccd42709a5f3a188e89a949",
       "version_major": 2,
       "version_minor": 0
      },
      "text/plain": [
       "HBox(children=(FloatProgress(value=0.0, max=3.0), HTML(value='')))"
      ]
     },
     "metadata": {},
     "output_type": "display_data"
    },
    {
     "name": "stdout",
     "output_type": "stream",
     "text": [
      "\n",
      "cell ID =  1177 progress bar below: (n/N frames):\n"
     ]
    },
    {
     "data": {
      "application/vnd.jupyter.widget-view+json": {
       "model_id": "04f15decd3ae43ad866d6b9b312133fc",
       "version_major": 2,
       "version_minor": 0
      },
      "text/plain": [
       "HBox(children=(FloatProgress(value=0.0, max=118.0), HTML(value='')))"
      ]
     },
     "metadata": {},
     "output_type": "display_data"
    },
    {
     "name": "stdout",
     "output_type": "stream",
     "text": [
      "\n",
      "cell ID =  1183 progress bar below: (n/N frames):\n"
     ]
    },
    {
     "data": {
      "application/vnd.jupyter.widget-view+json": {
       "model_id": "3fdd7207768d4707a28648657bf04dc4",
       "version_major": 2,
       "version_minor": 0
      },
      "text/plain": [
       "HBox(children=(FloatProgress(value=0.0, max=4.0), HTML(value='')))"
      ]
     },
     "metadata": {},
     "output_type": "display_data"
    },
    {
     "name": "stdout",
     "output_type": "stream",
     "text": [
      "\n",
      "cell ID =  1185 progress bar below: (n/N frames):\n"
     ]
    },
    {
     "data": {
      "application/vnd.jupyter.widget-view+json": {
       "model_id": "a0c093d84db349febfed73541804f608",
       "version_major": 2,
       "version_minor": 0
      },
      "text/plain": [
       "HBox(children=(FloatProgress(value=0.0, max=14.0), HTML(value='')))"
      ]
     },
     "metadata": {},
     "output_type": "display_data"
    },
    {
     "name": "stdout",
     "output_type": "stream",
     "text": [
      "\n",
      "cell ID =  1186 progress bar below: (n/N frames):\n"
     ]
    },
    {
     "data": {
      "application/vnd.jupyter.widget-view+json": {
       "model_id": "81ce0b2224c041d5a5e15bb737d6f527",
       "version_major": 2,
       "version_minor": 0
      },
      "text/plain": [
       "HBox(children=(FloatProgress(value=0.0, max=92.0), HTML(value='')))"
      ]
     },
     "metadata": {},
     "output_type": "display_data"
    },
    {
     "name": "stdout",
     "output_type": "stream",
     "text": [
      "\n",
      "cell ID =  1187 progress bar below: (n/N frames):\n"
     ]
    },
    {
     "data": {
      "application/vnd.jupyter.widget-view+json": {
       "model_id": "1584548b0148449286b430a6e67ecdd5",
       "version_major": 2,
       "version_minor": 0
      },
      "text/plain": [
       "HBox(children=(FloatProgress(value=0.0, max=3.0), HTML(value='')))"
      ]
     },
     "metadata": {},
     "output_type": "display_data"
    },
    {
     "name": "stdout",
     "output_type": "stream",
     "text": [
      "\n",
      "cell ID =  1190 progress bar below: (n/N frames):\n"
     ]
    },
    {
     "data": {
      "application/vnd.jupyter.widget-view+json": {
       "model_id": "7e3fcd30e5054f369d81d38a25b6384c",
       "version_major": 2,
       "version_minor": 0
      },
      "text/plain": [
       "HBox(children=(FloatProgress(value=0.0, max=5.0), HTML(value='')))"
      ]
     },
     "metadata": {},
     "output_type": "display_data"
    },
    {
     "name": "stdout",
     "output_type": "stream",
     "text": [
      "\n",
      "cell ID =  1191 progress bar below: (n/N frames):\n"
     ]
    },
    {
     "data": {
      "application/vnd.jupyter.widget-view+json": {
       "model_id": "4bf95b74535e461281f6dfc4fd24af35",
       "version_major": 2,
       "version_minor": 0
      },
      "text/plain": [
       "HBox(children=(FloatProgress(value=0.0, max=5.0), HTML(value='')))"
      ]
     },
     "metadata": {},
     "output_type": "display_data"
    },
    {
     "name": "stdout",
     "output_type": "stream",
     "text": [
      "\n",
      "cell ID =  1192 progress bar below: (n/N frames):\n"
     ]
    },
    {
     "data": {
      "application/vnd.jupyter.widget-view+json": {
       "model_id": "3eca3ba76e0a4ac7af818e69d552db88",
       "version_major": 2,
       "version_minor": 0
      },
      "text/plain": [
       "HBox(children=(FloatProgress(value=0.0, max=20.0), HTML(value='')))"
      ]
     },
     "metadata": {},
     "output_type": "display_data"
    },
    {
     "name": "stdout",
     "output_type": "stream",
     "text": [
      "\n",
      "cell ID =  1193 progress bar below: (n/N frames):\n"
     ]
    },
    {
     "data": {
      "application/vnd.jupyter.widget-view+json": {
       "model_id": "c29bc05a913f4d218a5a1b59bc46b656",
       "version_major": 2,
       "version_minor": 0
      },
      "text/plain": [
       "HBox(children=(FloatProgress(value=0.0, max=34.0), HTML(value='')))"
      ]
     },
     "metadata": {},
     "output_type": "display_data"
    },
    {
     "name": "stdout",
     "output_type": "stream",
     "text": [
      "\n",
      "cell ID =  1196 progress bar below: (n/N frames):\n"
     ]
    },
    {
     "data": {
      "application/vnd.jupyter.widget-view+json": {
       "model_id": "ca7e4663329e42f9909c65f99561abc7",
       "version_major": 2,
       "version_minor": 0
      },
      "text/plain": [
       "HBox(children=(FloatProgress(value=0.0, max=27.0), HTML(value='')))"
      ]
     },
     "metadata": {},
     "output_type": "display_data"
    },
    {
     "name": "stdout",
     "output_type": "stream",
     "text": [
      "\n",
      "cell ID =  1197 progress bar below: (n/N frames):\n"
     ]
    },
    {
     "data": {
      "application/vnd.jupyter.widget-view+json": {
       "model_id": "51bf23c0fe2b4282b00ea698c4b99eb1",
       "version_major": 2,
       "version_minor": 0
      },
      "text/plain": [
       "HBox(children=(FloatProgress(value=0.0, max=9.0), HTML(value='')))"
      ]
     },
     "metadata": {},
     "output_type": "display_data"
    },
    {
     "name": "stdout",
     "output_type": "stream",
     "text": [
      "\n",
      "cell ID =  1202 progress bar below: (n/N frames):\n"
     ]
    },
    {
     "data": {
      "application/vnd.jupyter.widget-view+json": {
       "model_id": "6a1a45164be0437bb4423cc782c577f2",
       "version_major": 2,
       "version_minor": 0
      },
      "text/plain": [
       "HBox(children=(FloatProgress(value=0.0, max=13.0), HTML(value='')))"
      ]
     },
     "metadata": {},
     "output_type": "display_data"
    },
    {
     "name": "stdout",
     "output_type": "stream",
     "text": [
      "\n",
      "cell ID =  1206 progress bar below: (n/N frames):\n"
     ]
    },
    {
     "data": {
      "application/vnd.jupyter.widget-view+json": {
       "model_id": "7fa2b3b0692c4fb7ba2459a4a89c5cbc",
       "version_major": 2,
       "version_minor": 0
      },
      "text/plain": [
       "HBox(children=(FloatProgress(value=0.0, max=4.0), HTML(value='')))"
      ]
     },
     "metadata": {},
     "output_type": "display_data"
    },
    {
     "name": "stdout",
     "output_type": "stream",
     "text": [
      "\n",
      "cell ID =  1207 progress bar below: (n/N frames):\n"
     ]
    },
    {
     "data": {
      "application/vnd.jupyter.widget-view+json": {
       "model_id": "f4d0b690164f428eac56818cf7ee81c6",
       "version_major": 2,
       "version_minor": 0
      },
      "text/plain": [
       "HBox(children=(FloatProgress(value=0.0, max=22.0), HTML(value='')))"
      ]
     },
     "metadata": {},
     "output_type": "display_data"
    },
    {
     "name": "stdout",
     "output_type": "stream",
     "text": [
      "\n",
      "cell ID =  1208 progress bar below: (n/N frames):\n"
     ]
    },
    {
     "data": {
      "application/vnd.jupyter.widget-view+json": {
       "model_id": "990a17cf687e4b87b0001b9611f127a0",
       "version_major": 2,
       "version_minor": 0
      },
      "text/plain": [
       "HBox(children=(FloatProgress(value=0.0, max=122.0), HTML(value='')))"
      ]
     },
     "metadata": {},
     "output_type": "display_data"
    },
    {
     "name": "stdout",
     "output_type": "stream",
     "text": [
      "\n",
      "cell ID =  1209 progress bar below: (n/N frames):\n"
     ]
    },
    {
     "data": {
      "application/vnd.jupyter.widget-view+json": {
       "model_id": "4ab5b207134d4d5b8139b84f5a9dbdfb",
       "version_major": 2,
       "version_minor": 0
      },
      "text/plain": [
       "HBox(children=(FloatProgress(value=0.0, max=5.0), HTML(value='')))"
      ]
     },
     "metadata": {},
     "output_type": "display_data"
    },
    {
     "name": "stdout",
     "output_type": "stream",
     "text": [
      "\n",
      "cell ID =  1213 progress bar below: (n/N frames):\n"
     ]
    },
    {
     "data": {
      "application/vnd.jupyter.widget-view+json": {
       "model_id": "866168ab9db349f99601ece6c9616e98",
       "version_major": 2,
       "version_minor": 0
      },
      "text/plain": [
       "HBox(children=(FloatProgress(value=0.0, max=5.0), HTML(value='')))"
      ]
     },
     "metadata": {},
     "output_type": "display_data"
    },
    {
     "name": "stdout",
     "output_type": "stream",
     "text": [
      "\n",
      "cell ID =  1214 progress bar below: (n/N frames):\n"
     ]
    },
    {
     "data": {
      "application/vnd.jupyter.widget-view+json": {
       "model_id": "79c99a03d47f4947b45a51f0973ff701",
       "version_major": 2,
       "version_minor": 0
      },
      "text/plain": [
       "HBox(children=(FloatProgress(value=0.0, max=5.0), HTML(value='')))"
      ]
     },
     "metadata": {},
     "output_type": "display_data"
    },
    {
     "name": "stdout",
     "output_type": "stream",
     "text": [
      "\n",
      "cell ID =  1215 progress bar below: (n/N frames):\n"
     ]
    },
    {
     "data": {
      "application/vnd.jupyter.widget-view+json": {
       "model_id": "d54d2e80b31046e19beb3d4cf11fcbc1",
       "version_major": 2,
       "version_minor": 0
      },
      "text/plain": [
       "HBox(children=(FloatProgress(value=0.0, max=10.0), HTML(value='')))"
      ]
     },
     "metadata": {},
     "output_type": "display_data"
    },
    {
     "name": "stdout",
     "output_type": "stream",
     "text": [
      "\n",
      "cell ID =  1218 progress bar below: (n/N frames):\n"
     ]
    },
    {
     "data": {
      "application/vnd.jupyter.widget-view+json": {
       "model_id": "f8eef12a85d04bada32077404e44e262",
       "version_major": 2,
       "version_minor": 0
      },
      "text/plain": [
       "HBox(children=(FloatProgress(value=0.0, max=10.0), HTML(value='')))"
      ]
     },
     "metadata": {},
     "output_type": "display_data"
    },
    {
     "name": "stdout",
     "output_type": "stream",
     "text": [
      "\n",
      "cell ID =  1219 progress bar below: (n/N frames):\n"
     ]
    },
    {
     "data": {
      "application/vnd.jupyter.widget-view+json": {
       "model_id": "d2c951ce72884e96a2b7155314263a4e",
       "version_major": 2,
       "version_minor": 0
      },
      "text/plain": [
       "HBox(children=(FloatProgress(value=0.0, max=21.0), HTML(value='')))"
      ]
     },
     "metadata": {},
     "output_type": "display_data"
    },
    {
     "name": "stdout",
     "output_type": "stream",
     "text": [
      "\n",
      "cell ID =  1220 progress bar below: (n/N frames):\n"
     ]
    },
    {
     "data": {
      "application/vnd.jupyter.widget-view+json": {
       "model_id": "4715c91d6bf04ba8995cb24e6732af9c",
       "version_major": 2,
       "version_minor": 0
      },
      "text/plain": [
       "HBox(children=(FloatProgress(value=0.0, max=7.0), HTML(value='')))"
      ]
     },
     "metadata": {},
     "output_type": "display_data"
    },
    {
     "name": "stdout",
     "output_type": "stream",
     "text": [
      "\n",
      "cell ID =  1224 progress bar below: (n/N frames):\n"
     ]
    },
    {
     "data": {
      "application/vnd.jupyter.widget-view+json": {
       "model_id": "bc9ca6c44b5e464387224961ccb8d29d",
       "version_major": 2,
       "version_minor": 0
      },
      "text/plain": [
       "HBox(children=(FloatProgress(value=0.0, max=7.0), HTML(value='')))"
      ]
     },
     "metadata": {},
     "output_type": "display_data"
    },
    {
     "name": "stdout",
     "output_type": "stream",
     "text": [
      "\n",
      "cell ID =  1230 progress bar below: (n/N frames):\n"
     ]
    },
    {
     "data": {
      "application/vnd.jupyter.widget-view+json": {
       "model_id": "70d12441a4f2472483b580122e2ca2c5",
       "version_major": 2,
       "version_minor": 0
      },
      "text/plain": [
       "HBox(children=(FloatProgress(value=0.0, max=16.0), HTML(value='')))"
      ]
     },
     "metadata": {},
     "output_type": "display_data"
    },
    {
     "name": "stdout",
     "output_type": "stream",
     "text": [
      "\n",
      "cell ID =  1231 progress bar below: (n/N frames):\n"
     ]
    },
    {
     "data": {
      "application/vnd.jupyter.widget-view+json": {
       "model_id": "ffd0dcbd684048829c2a2bd48d335e83",
       "version_major": 2,
       "version_minor": 0
      },
      "text/plain": [
       "HBox(children=(FloatProgress(value=0.0, max=11.0), HTML(value='')))"
      ]
     },
     "metadata": {},
     "output_type": "display_data"
    },
    {
     "name": "stdout",
     "output_type": "stream",
     "text": [
      "\n",
      "cell ID =  1232 progress bar below: (n/N frames):\n"
     ]
    },
    {
     "data": {
      "application/vnd.jupyter.widget-view+json": {
       "model_id": "ea198a1f23b0437697c4cca59761623c",
       "version_major": 2,
       "version_minor": 0
      },
      "text/plain": [
       "HBox(children=(FloatProgress(value=0.0, max=188.0), HTML(value='')))"
      ]
     },
     "metadata": {},
     "output_type": "display_data"
    },
    {
     "name": "stdout",
     "output_type": "stream",
     "text": [
      "\n",
      "cell ID =  1233 progress bar below: (n/N frames):\n"
     ]
    },
    {
     "data": {
      "application/vnd.jupyter.widget-view+json": {
       "model_id": "c37fcd6e10cb429b827050652b2b5e29",
       "version_major": 2,
       "version_minor": 0
      },
      "text/plain": [
       "HBox(children=(FloatProgress(value=0.0, max=486.0), HTML(value='')))"
      ]
     },
     "metadata": {},
     "output_type": "display_data"
    },
    {
     "name": "stdout",
     "output_type": "stream",
     "text": [
      "\n",
      "cell ID =  1234 progress bar below: (n/N frames):\n"
     ]
    },
    {
     "data": {
      "application/vnd.jupyter.widget-view+json": {
       "model_id": "c9ad0f9994554acfafdbe00f20186aa9",
       "version_major": 2,
       "version_minor": 0
      },
      "text/plain": [
       "HBox(children=(FloatProgress(value=0.0, max=25.0), HTML(value='')))"
      ]
     },
     "metadata": {},
     "output_type": "display_data"
    },
    {
     "name": "stdout",
     "output_type": "stream",
     "text": [
      "\n",
      "cell ID =  1235 progress bar below: (n/N frames):\n"
     ]
    },
    {
     "data": {
      "application/vnd.jupyter.widget-view+json": {
       "model_id": "a861a721cdd34e4196944e17c9fb73b1",
       "version_major": 2,
       "version_minor": 0
      },
      "text/plain": [
       "HBox(children=(FloatProgress(value=0.0, max=18.0), HTML(value='')))"
      ]
     },
     "metadata": {},
     "output_type": "display_data"
    },
    {
     "name": "stdout",
     "output_type": "stream",
     "text": [
      "\n",
      "cell ID =  1236 progress bar below: (n/N frames):\n"
     ]
    },
    {
     "data": {
      "application/vnd.jupyter.widget-view+json": {
       "model_id": "0bde2de9b29044b394af4e9349151fab",
       "version_major": 2,
       "version_minor": 0
      },
      "text/plain": [
       "HBox(children=(FloatProgress(value=0.0, max=17.0), HTML(value='')))"
      ]
     },
     "metadata": {},
     "output_type": "display_data"
    },
    {
     "name": "stdout",
     "output_type": "stream",
     "text": [
      "\n",
      "cell ID =  1238 progress bar below: (n/N frames):\n"
     ]
    },
    {
     "data": {
      "application/vnd.jupyter.widget-view+json": {
       "model_id": "d7c37aff16e241b6994af83a600e4b81",
       "version_major": 2,
       "version_minor": 0
      },
      "text/plain": [
       "HBox(children=(FloatProgress(value=0.0, max=430.0), HTML(value='')))"
      ]
     },
     "metadata": {},
     "output_type": "display_data"
    },
    {
     "name": "stdout",
     "output_type": "stream",
     "text": [
      "\n",
      "cell ID =  1240 progress bar below: (n/N frames):\n"
     ]
    },
    {
     "data": {
      "application/vnd.jupyter.widget-view+json": {
       "model_id": "ae63acc621334cb6a462ca19a34ee31d",
       "version_major": 2,
       "version_minor": 0
      },
      "text/plain": [
       "HBox(children=(FloatProgress(value=0.0, max=9.0), HTML(value='')))"
      ]
     },
     "metadata": {},
     "output_type": "display_data"
    },
    {
     "name": "stdout",
     "output_type": "stream",
     "text": [
      "\n",
      "cell ID =  1241 progress bar below: (n/N frames):\n"
     ]
    },
    {
     "data": {
      "application/vnd.jupyter.widget-view+json": {
       "model_id": "340601620aab470f94a6cee633b08f11",
       "version_major": 2,
       "version_minor": 0
      },
      "text/plain": [
       "HBox(children=(FloatProgress(value=0.0, max=11.0), HTML(value='')))"
      ]
     },
     "metadata": {},
     "output_type": "display_data"
    },
    {
     "name": "stdout",
     "output_type": "stream",
     "text": [
      "\n",
      "cell ID =  1243 progress bar below: (n/N frames):\n"
     ]
    },
    {
     "data": {
      "application/vnd.jupyter.widget-view+json": {
       "model_id": "158cfa95bae14938805acecfe61d1dbb",
       "version_major": 2,
       "version_minor": 0
      },
      "text/plain": [
       "HBox(children=(FloatProgress(value=0.0, max=10.0), HTML(value='')))"
      ]
     },
     "metadata": {},
     "output_type": "display_data"
    },
    {
     "name": "stdout",
     "output_type": "stream",
     "text": [
      "\n",
      "cell ID =  1244 progress bar below: (n/N frames):\n"
     ]
    },
    {
     "data": {
      "application/vnd.jupyter.widget-view+json": {
       "model_id": "4eaf57e6a2a8473f889ff89ee74966cf",
       "version_major": 2,
       "version_minor": 0
      },
      "text/plain": [
       "HBox(children=(FloatProgress(value=0.0, max=2.0), HTML(value='')))"
      ]
     },
     "metadata": {},
     "output_type": "display_data"
    },
    {
     "name": "stdout",
     "output_type": "stream",
     "text": [
      "\n",
      "cell ID =  1254 progress bar below: (n/N frames):\n"
     ]
    },
    {
     "data": {
      "application/vnd.jupyter.widget-view+json": {
       "model_id": "fac0fa60130c4e90994f02ecfcbe7bae",
       "version_major": 2,
       "version_minor": 0
      },
      "text/plain": [
       "HBox(children=(FloatProgress(value=0.0, max=2.0), HTML(value='')))"
      ]
     },
     "metadata": {},
     "output_type": "display_data"
    },
    {
     "name": "stdout",
     "output_type": "stream",
     "text": [
      "\n",
      "cell ID =  1256 progress bar below: (n/N frames):\n"
     ]
    },
    {
     "data": {
      "application/vnd.jupyter.widget-view+json": {
       "model_id": "7fe886e12d284bef8d54041881c36517",
       "version_major": 2,
       "version_minor": 0
      },
      "text/plain": [
       "HBox(children=(FloatProgress(value=0.0, max=5.0), HTML(value='')))"
      ]
     },
     "metadata": {},
     "output_type": "display_data"
    },
    {
     "name": "stdout",
     "output_type": "stream",
     "text": [
      "\n",
      "cell ID =  1257 progress bar below: (n/N frames):\n"
     ]
    },
    {
     "data": {
      "application/vnd.jupyter.widget-view+json": {
       "model_id": "1a344dda6b914ec8905f8ed57881949c",
       "version_major": 2,
       "version_minor": 0
      },
      "text/plain": [
       "HBox(children=(FloatProgress(value=0.0, max=38.0), HTML(value='')))"
      ]
     },
     "metadata": {},
     "output_type": "display_data"
    },
    {
     "name": "stdout",
     "output_type": "stream",
     "text": [
      "\n",
      "cell ID =  1258 progress bar below: (n/N frames):\n"
     ]
    },
    {
     "data": {
      "application/vnd.jupyter.widget-view+json": {
       "model_id": "702de1c6cff945ccab7a21ee0d905860",
       "version_major": 2,
       "version_minor": 0
      },
      "text/plain": [
       "HBox(children=(FloatProgress(value=0.0, max=472.0), HTML(value='')))"
      ]
     },
     "metadata": {},
     "output_type": "display_data"
    },
    {
     "name": "stdout",
     "output_type": "stream",
     "text": [
      "\n",
      "cell ID =  1263 progress bar below: (n/N frames):\n"
     ]
    },
    {
     "data": {
      "application/vnd.jupyter.widget-view+json": {
       "model_id": "911330a17e184b6eb61fab372688db88",
       "version_major": 2,
       "version_minor": 0
      },
      "text/plain": [
       "HBox(children=(FloatProgress(value=0.0, max=471.0), HTML(value='')))"
      ]
     },
     "metadata": {},
     "output_type": "display_data"
    },
    {
     "name": "stdout",
     "output_type": "stream",
     "text": [
      "\n",
      "cell ID =  1261 progress bar below: (n/N frames):\n"
     ]
    },
    {
     "data": {
      "application/vnd.jupyter.widget-view+json": {
       "model_id": "dd614c5d6ffe4fb5b9332a4a9e688348",
       "version_major": 2,
       "version_minor": 0
      },
      "text/plain": [
       "HBox(children=(FloatProgress(value=0.0, max=6.0), HTML(value='')))"
      ]
     },
     "metadata": {},
     "output_type": "display_data"
    },
    {
     "name": "stdout",
     "output_type": "stream",
     "text": [
      "\n",
      "cell ID =  1267 progress bar below: (n/N frames):\n"
     ]
    },
    {
     "data": {
      "application/vnd.jupyter.widget-view+json": {
       "model_id": "745548747ced432aa65959bb4f054dd6",
       "version_major": 2,
       "version_minor": 0
      },
      "text/plain": [
       "HBox(children=(FloatProgress(value=0.0, max=3.0), HTML(value='')))"
      ]
     },
     "metadata": {},
     "output_type": "display_data"
    },
    {
     "name": "stdout",
     "output_type": "stream",
     "text": [
      "\n",
      "cell ID =  1268 progress bar below: (n/N frames):\n"
     ]
    },
    {
     "data": {
      "application/vnd.jupyter.widget-view+json": {
       "model_id": "e5aad0eb517944209c624181c7e7b891",
       "version_major": 2,
       "version_minor": 0
      },
      "text/plain": [
       "HBox(children=(FloatProgress(value=0.0, max=466.0), HTML(value='')))"
      ]
     },
     "metadata": {},
     "output_type": "display_data"
    },
    {
     "name": "stdout",
     "output_type": "stream",
     "text": [
      "\n",
      "cell ID =  1270 progress bar below: (n/N frames):\n"
     ]
    },
    {
     "data": {
      "application/vnd.jupyter.widget-view+json": {
       "model_id": "cc76e636310944259fdf22e84d13f79a",
       "version_major": 2,
       "version_minor": 0
      },
      "text/plain": [
       "HBox(children=(FloatProgress(value=0.0, max=2.0), HTML(value='')))"
      ]
     },
     "metadata": {},
     "output_type": "display_data"
    },
    {
     "name": "stdout",
     "output_type": "stream",
     "text": [
      "\n",
      "cell ID =  1271 progress bar below: (n/N frames):\n"
     ]
    },
    {
     "data": {
      "application/vnd.jupyter.widget-view+json": {
       "model_id": "e1552f47981e473cb33e13e9a9384e4d",
       "version_major": 2,
       "version_minor": 0
      },
      "text/plain": [
       "HBox(children=(FloatProgress(value=0.0, max=15.0), HTML(value='')))"
      ]
     },
     "metadata": {},
     "output_type": "display_data"
    },
    {
     "name": "stdout",
     "output_type": "stream",
     "text": [
      "\n",
      "cell ID =  1275 progress bar below: (n/N frames):\n"
     ]
    },
    {
     "data": {
      "application/vnd.jupyter.widget-view+json": {
       "model_id": "1892db09d37c4ad69183a5c8af8afdaf",
       "version_major": 2,
       "version_minor": 0
      },
      "text/plain": [
       "HBox(children=(FloatProgress(value=0.0, max=127.0), HTML(value='')))"
      ]
     },
     "metadata": {},
     "output_type": "display_data"
    },
    {
     "name": "stdout",
     "output_type": "stream",
     "text": [
      "\n",
      "cell ID =  1279 progress bar below: (n/N frames):\n"
     ]
    },
    {
     "data": {
      "application/vnd.jupyter.widget-view+json": {
       "model_id": "165abbe379614a318e4d63625c2df46d",
       "version_major": 2,
       "version_minor": 0
      },
      "text/plain": [
       "HBox(children=(FloatProgress(value=0.0, max=2.0), HTML(value='')))"
      ]
     },
     "metadata": {},
     "output_type": "display_data"
    },
    {
     "name": "stdout",
     "output_type": "stream",
     "text": [
      "\n",
      "cell ID =  1283 progress bar below: (n/N frames):\n"
     ]
    },
    {
     "data": {
      "application/vnd.jupyter.widget-view+json": {
       "model_id": "e944ab855bab4da4b2cd026e11244b86",
       "version_major": 2,
       "version_minor": 0
      },
      "text/plain": [
       "HBox(children=(FloatProgress(value=0.0, max=2.0), HTML(value='')))"
      ]
     },
     "metadata": {},
     "output_type": "display_data"
    },
    {
     "name": "stdout",
     "output_type": "stream",
     "text": [
      "\n",
      "cell ID =  1284 progress bar below: (n/N frames):\n"
     ]
    },
    {
     "data": {
      "application/vnd.jupyter.widget-view+json": {
       "model_id": "5910806893ca481ab40dda6839ea09df",
       "version_major": 2,
       "version_minor": 0
      },
      "text/plain": [
       "HBox(children=(FloatProgress(value=0.0, max=460.0), HTML(value='')))"
      ]
     },
     "metadata": {},
     "output_type": "display_data"
    },
    {
     "name": "stdout",
     "output_type": "stream",
     "text": [
      "\n",
      "cell ID =  1281 progress bar below: (n/N frames):\n"
     ]
    },
    {
     "data": {
      "application/vnd.jupyter.widget-view+json": {
       "model_id": "052e983e9e33421ba3d070f2adbae454",
       "version_major": 2,
       "version_minor": 0
      },
      "text/plain": [
       "HBox(children=(FloatProgress(value=0.0, max=3.0), HTML(value='')))"
      ]
     },
     "metadata": {},
     "output_type": "display_data"
    },
    {
     "name": "stdout",
     "output_type": "stream",
     "text": [
      "\n",
      "cell ID =  1280 progress bar below: (n/N frames):\n"
     ]
    },
    {
     "data": {
      "application/vnd.jupyter.widget-view+json": {
       "model_id": "54156579d2ae47cdb74b7c5bdbf0d73b",
       "version_major": 2,
       "version_minor": 0
      },
      "text/plain": [
       "HBox(children=(FloatProgress(value=0.0, max=460.0), HTML(value='')))"
      ]
     },
     "metadata": {},
     "output_type": "display_data"
    },
    {
     "name": "stdout",
     "output_type": "stream",
     "text": [
      "\n",
      "cell ID =  1282 progress bar below: (n/N frames):\n"
     ]
    },
    {
     "data": {
      "application/vnd.jupyter.widget-view+json": {
       "model_id": "70bba85c32294b94986e90b4662a631e",
       "version_major": 2,
       "version_minor": 0
      },
      "text/plain": [
       "HBox(children=(FloatProgress(value=0.0, max=2.0), HTML(value='')))"
      ]
     },
     "metadata": {},
     "output_type": "display_data"
    },
    {
     "name": "stdout",
     "output_type": "stream",
     "text": [
      "\n",
      "cell ID =  1285 progress bar below: (n/N frames):\n"
     ]
    },
    {
     "data": {
      "application/vnd.jupyter.widget-view+json": {
       "model_id": "a761540795204aff94b513dbd1ad5470",
       "version_major": 2,
       "version_minor": 0
      },
      "text/plain": [
       "HBox(children=(FloatProgress(value=0.0, max=6.0), HTML(value='')))"
      ]
     },
     "metadata": {},
     "output_type": "display_data"
    },
    {
     "name": "stdout",
     "output_type": "stream",
     "text": [
      "\n",
      "cell ID =  1286 progress bar below: (n/N frames):\n"
     ]
    },
    {
     "data": {
      "application/vnd.jupyter.widget-view+json": {
       "model_id": "9cdd528108bc4c5caa79fc4d6ca750fc",
       "version_major": 2,
       "version_minor": 0
      },
      "text/plain": [
       "HBox(children=(FloatProgress(value=0.0, max=4.0), HTML(value='')))"
      ]
     },
     "metadata": {},
     "output_type": "display_data"
    },
    {
     "name": "stdout",
     "output_type": "stream",
     "text": [
      "\n",
      "cell ID =  1287 progress bar below: (n/N frames):\n"
     ]
    },
    {
     "data": {
      "application/vnd.jupyter.widget-view+json": {
       "model_id": "8a0e03b8b10e474097ac69e66cd804b8",
       "version_major": 2,
       "version_minor": 0
      },
      "text/plain": [
       "HBox(children=(FloatProgress(value=0.0, max=7.0), HTML(value='')))"
      ]
     },
     "metadata": {},
     "output_type": "display_data"
    },
    {
     "name": "stdout",
     "output_type": "stream",
     "text": [
      "\n",
      "cell ID =  1288 progress bar below: (n/N frames):\n"
     ]
    },
    {
     "data": {
      "application/vnd.jupyter.widget-view+json": {
       "model_id": "06ba43387f474508a845ef838442a004",
       "version_major": 2,
       "version_minor": 0
      },
      "text/plain": [
       "HBox(children=(FloatProgress(value=0.0, max=3.0), HTML(value='')))"
      ]
     },
     "metadata": {},
     "output_type": "display_data"
    },
    {
     "name": "stdout",
     "output_type": "stream",
     "text": [
      "\n",
      "cell ID =  1289 progress bar below: (n/N frames):\n"
     ]
    },
    {
     "data": {
      "application/vnd.jupyter.widget-view+json": {
       "model_id": "a04504b27d80499885eddec44d150356",
       "version_major": 2,
       "version_minor": 0
      },
      "text/plain": [
       "HBox(children=(FloatProgress(value=0.0, max=458.0), HTML(value='')))"
      ]
     },
     "metadata": {},
     "output_type": "display_data"
    },
    {
     "name": "stdout",
     "output_type": "stream",
     "text": [
      "\n",
      "cell ID =  1292 progress bar below: (n/N frames):\n"
     ]
    },
    {
     "data": {
      "application/vnd.jupyter.widget-view+json": {
       "model_id": "33e300c43d7448e8934fa5206292bb47",
       "version_major": 2,
       "version_minor": 0
      },
      "text/plain": [
       "HBox(children=(FloatProgress(value=0.0, max=5.0), HTML(value='')))"
      ]
     },
     "metadata": {},
     "output_type": "display_data"
    },
    {
     "name": "stdout",
     "output_type": "stream",
     "text": [
      "\n",
      "cell ID =  1294 progress bar below: (n/N frames):\n"
     ]
    },
    {
     "data": {
      "application/vnd.jupyter.widget-view+json": {
       "model_id": "77cc28581c584af1bf3ca22cde1879d0",
       "version_major": 2,
       "version_minor": 0
      },
      "text/plain": [
       "HBox(children=(FloatProgress(value=0.0, max=2.0), HTML(value='')))"
      ]
     },
     "metadata": {},
     "output_type": "display_data"
    },
    {
     "name": "stdout",
     "output_type": "stream",
     "text": [
      "\n",
      "cell ID =  1300 progress bar below: (n/N frames):\n"
     ]
    },
    {
     "data": {
      "application/vnd.jupyter.widget-view+json": {
       "model_id": "a5e95c789b0c411390a93adc186c6671",
       "version_major": 2,
       "version_minor": 0
      },
      "text/plain": [
       "HBox(children=(FloatProgress(value=0.0, max=7.0), HTML(value='')))"
      ]
     },
     "metadata": {},
     "output_type": "display_data"
    },
    {
     "name": "stdout",
     "output_type": "stream",
     "text": [
      "\n",
      "cell ID =  1298 progress bar below: (n/N frames):\n"
     ]
    },
    {
     "data": {
      "application/vnd.jupyter.widget-view+json": {
       "model_id": "d84cfc41e60e4920897476c510abc484",
       "version_major": 2,
       "version_minor": 0
      },
      "text/plain": [
       "HBox(children=(FloatProgress(value=0.0, max=7.0), HTML(value='')))"
      ]
     },
     "metadata": {},
     "output_type": "display_data"
    },
    {
     "name": "stdout",
     "output_type": "stream",
     "text": [
      "\n",
      "cell ID =  1296 progress bar below: (n/N frames):\n"
     ]
    },
    {
     "data": {
      "application/vnd.jupyter.widget-view+json": {
       "model_id": "152aacfcc5c841148553c21774deacd4",
       "version_major": 2,
       "version_minor": 0
      },
      "text/plain": [
       "HBox(children=(FloatProgress(value=0.0, max=4.0), HTML(value='')))"
      ]
     },
     "metadata": {},
     "output_type": "display_data"
    },
    {
     "name": "stdout",
     "output_type": "stream",
     "text": [
      "\n",
      "cell ID =  1295 progress bar below: (n/N frames):\n"
     ]
    },
    {
     "data": {
      "application/vnd.jupyter.widget-view+json": {
       "model_id": "5bd7a8e109a244a9b8d69531fd6ec413",
       "version_major": 2,
       "version_minor": 0
      },
      "text/plain": [
       "HBox(children=(FloatProgress(value=0.0, max=4.0), HTML(value='')))"
      ]
     },
     "metadata": {},
     "output_type": "display_data"
    },
    {
     "name": "stdout",
     "output_type": "stream",
     "text": [
      "\n",
      "cell ID =  1302 progress bar below: (n/N frames):\n"
     ]
    },
    {
     "data": {
      "application/vnd.jupyter.widget-view+json": {
       "model_id": "460466b0348c4949bc33182b3878fe97",
       "version_major": 2,
       "version_minor": 0
      },
      "text/plain": [
       "HBox(children=(FloatProgress(value=0.0, max=7.0), HTML(value='')))"
      ]
     },
     "metadata": {},
     "output_type": "display_data"
    },
    {
     "name": "stdout",
     "output_type": "stream",
     "text": [
      "\n",
      "cell ID =  1303 progress bar below: (n/N frames):\n"
     ]
    },
    {
     "data": {
      "application/vnd.jupyter.widget-view+json": {
       "model_id": "289b165b20774d95a931f598e870c537",
       "version_major": 2,
       "version_minor": 0
      },
      "text/plain": [
       "HBox(children=(FloatProgress(value=0.0, max=450.0), HTML(value='')))"
      ]
     },
     "metadata": {},
     "output_type": "display_data"
    },
    {
     "name": "stdout",
     "output_type": "stream",
     "text": [
      "\n",
      "cell ID =  1305 progress bar below: (n/N frames):\n"
     ]
    },
    {
     "data": {
      "application/vnd.jupyter.widget-view+json": {
       "model_id": "2806aa81ea04418c8b7c6ca7e17d007e",
       "version_major": 2,
       "version_minor": 0
      },
      "text/plain": [
       "HBox(children=(FloatProgress(value=0.0, max=5.0), HTML(value='')))"
      ]
     },
     "metadata": {},
     "output_type": "display_data"
    },
    {
     "name": "stdout",
     "output_type": "stream",
     "text": [
      "\n",
      "cell ID =  1306 progress bar below: (n/N frames):\n"
     ]
    },
    {
     "data": {
      "application/vnd.jupyter.widget-view+json": {
       "model_id": "77ab3a7120f34d369cc1e1d0ab166647",
       "version_major": 2,
       "version_minor": 0
      },
      "text/plain": [
       "HBox(children=(FloatProgress(value=0.0, max=448.0), HTML(value='')))"
      ]
     },
     "metadata": {},
     "output_type": "display_data"
    },
    {
     "name": "stdout",
     "output_type": "stream",
     "text": [
      "\n",
      "cell ID =  1307 progress bar below: (n/N frames):\n"
     ]
    },
    {
     "data": {
      "application/vnd.jupyter.widget-view+json": {
       "model_id": "bc0d07109a0e486dbeb2c3acee5b2991",
       "version_major": 2,
       "version_minor": 0
      },
      "text/plain": [
       "HBox(children=(FloatProgress(value=0.0, max=4.0), HTML(value='')))"
      ]
     },
     "metadata": {},
     "output_type": "display_data"
    },
    {
     "name": "stdout",
     "output_type": "stream",
     "text": [
      "\n",
      "cell ID =  1308 progress bar below: (n/N frames):\n"
     ]
    },
    {
     "data": {
      "application/vnd.jupyter.widget-view+json": {
       "model_id": "9df8ce6d6fac47b4a9cf8235b38a9cff",
       "version_major": 2,
       "version_minor": 0
      },
      "text/plain": [
       "HBox(children=(FloatProgress(value=0.0, max=10.0), HTML(value='')))"
      ]
     },
     "metadata": {},
     "output_type": "display_data"
    },
    {
     "name": "stdout",
     "output_type": "stream",
     "text": [
      "\n",
      "cell ID =  1309 progress bar below: (n/N frames):\n"
     ]
    },
    {
     "data": {
      "application/vnd.jupyter.widget-view+json": {
       "model_id": "ab54c26e50e34b839fe0548e879d245f",
       "version_major": 2,
       "version_minor": 0
      },
      "text/plain": [
       "HBox(children=(FloatProgress(value=0.0, max=447.0), HTML(value='')))"
      ]
     },
     "metadata": {},
     "output_type": "display_data"
    },
    {
     "name": "stdout",
     "output_type": "stream",
     "text": [
      "\n",
      "cell ID =  1310 progress bar below: (n/N frames):\n"
     ]
    },
    {
     "data": {
      "application/vnd.jupyter.widget-view+json": {
       "model_id": "916fd3db60624d06a390df87ad8801a5",
       "version_major": 2,
       "version_minor": 0
      },
      "text/plain": [
       "HBox(children=(FloatProgress(value=0.0, max=4.0), HTML(value='')))"
      ]
     },
     "metadata": {},
     "output_type": "display_data"
    },
    {
     "name": "stdout",
     "output_type": "stream",
     "text": [
      "\n",
      "cell ID =  1311 progress bar below: (n/N frames):\n"
     ]
    },
    {
     "data": {
      "application/vnd.jupyter.widget-view+json": {
       "model_id": "e33a8471e4744202b0ae56a49e70afde",
       "version_major": 2,
       "version_minor": 0
      },
      "text/plain": [
       "HBox(children=(FloatProgress(value=0.0, max=4.0), HTML(value='')))"
      ]
     },
     "metadata": {},
     "output_type": "display_data"
    },
    {
     "name": "stdout",
     "output_type": "stream",
     "text": [
      "\n",
      "cell ID =  1314 progress bar below: (n/N frames):\n"
     ]
    },
    {
     "data": {
      "application/vnd.jupyter.widget-view+json": {
       "model_id": "25787050f7c64d92897200fef5797cbe",
       "version_major": 2,
       "version_minor": 0
      },
      "text/plain": [
       "HBox(children=(FloatProgress(value=0.0, max=446.0), HTML(value='')))"
      ]
     },
     "metadata": {},
     "output_type": "display_data"
    },
    {
     "name": "stdout",
     "output_type": "stream",
     "text": [
      "\n",
      "cell ID =  1317 progress bar below: (n/N frames):\n"
     ]
    },
    {
     "data": {
      "application/vnd.jupyter.widget-view+json": {
       "model_id": "648039c62df24d67a08ab4872103ec02",
       "version_major": 2,
       "version_minor": 0
      },
      "text/plain": [
       "HBox(children=(FloatProgress(value=0.0, max=7.0), HTML(value='')))"
      ]
     },
     "metadata": {},
     "output_type": "display_data"
    },
    {
     "name": "stdout",
     "output_type": "stream",
     "text": [
      "\n",
      "cell ID =  1316 progress bar below: (n/N frames):\n"
     ]
    },
    {
     "data": {
      "application/vnd.jupyter.widget-view+json": {
       "model_id": "53acde4ea06b49829c65e9521a5e27b3",
       "version_major": 2,
       "version_minor": 0
      },
      "text/plain": [
       "HBox(children=(FloatProgress(value=0.0, max=446.0), HTML(value='')))"
      ]
     },
     "metadata": {},
     "output_type": "display_data"
    },
    {
     "name": "stdout",
     "output_type": "stream",
     "text": [
      "\n",
      "cell ID =  1315 progress bar below: (n/N frames):\n"
     ]
    },
    {
     "data": {
      "application/vnd.jupyter.widget-view+json": {
       "model_id": "96e9c141ed0d46daab13a96c618e9680",
       "version_major": 2,
       "version_minor": 0
      },
      "text/plain": [
       "HBox(children=(FloatProgress(value=0.0, max=2.0), HTML(value='')))"
      ]
     },
     "metadata": {},
     "output_type": "display_data"
    },
    {
     "name": "stdout",
     "output_type": "stream",
     "text": [
      "\n",
      "cell ID =  1319 progress bar below: (n/N frames):\n"
     ]
    },
    {
     "data": {
      "application/vnd.jupyter.widget-view+json": {
       "model_id": "ac4f5113e0e447cf8f17d1a0fddbbee4",
       "version_major": 2,
       "version_minor": 0
      },
      "text/plain": [
       "HBox(children=(FloatProgress(value=0.0, max=2.0), HTML(value='')))"
      ]
     },
     "metadata": {},
     "output_type": "display_data"
    },
    {
     "name": "stdout",
     "output_type": "stream",
     "text": [
      "\n",
      "cell ID =  1321 progress bar below: (n/N frames):\n"
     ]
    },
    {
     "data": {
      "application/vnd.jupyter.widget-view+json": {
       "model_id": "69d89b02137845fd843c9884f33d9267",
       "version_major": 2,
       "version_minor": 0
      },
      "text/plain": [
       "HBox(children=(FloatProgress(value=0.0, max=50.0), HTML(value='')))"
      ]
     },
     "metadata": {},
     "output_type": "display_data"
    },
    {
     "name": "stdout",
     "output_type": "stream",
     "text": [
      "\n",
      "cell ID =  1322 progress bar below: (n/N frames):\n"
     ]
    },
    {
     "data": {
      "application/vnd.jupyter.widget-view+json": {
       "model_id": "65d937c44bcb4ff892dcd254e2b84a00",
       "version_major": 2,
       "version_minor": 0
      },
      "text/plain": [
       "HBox(children=(FloatProgress(value=0.0, max=443.0), HTML(value='')))"
      ]
     },
     "metadata": {},
     "output_type": "display_data"
    },
    {
     "name": "stdout",
     "output_type": "stream",
     "text": [
      "\n",
      "cell ID =  1323 progress bar below: (n/N frames):\n"
     ]
    },
    {
     "data": {
      "application/vnd.jupyter.widget-view+json": {
       "model_id": "e7b7d884d25f472bbe0fa4a8dcc73677",
       "version_major": 2,
       "version_minor": 0
      },
      "text/plain": [
       "HBox(children=(FloatProgress(value=0.0, max=347.0), HTML(value='')))"
      ]
     },
     "metadata": {},
     "output_type": "display_data"
    },
    {
     "name": "stdout",
     "output_type": "stream",
     "text": [
      "\n",
      "cell ID =  1325 progress bar below: (n/N frames):\n"
     ]
    },
    {
     "data": {
      "application/vnd.jupyter.widget-view+json": {
       "model_id": "ce7916749e3f492a82306a75d8829de0",
       "version_major": 2,
       "version_minor": 0
      },
      "text/plain": [
       "HBox(children=(FloatProgress(value=0.0, max=442.0), HTML(value='')))"
      ]
     },
     "metadata": {},
     "output_type": "display_data"
    },
    {
     "name": "stdout",
     "output_type": "stream",
     "text": [
      "\n",
      "cell ID =  1326 progress bar below: (n/N frames):\n"
     ]
    },
    {
     "data": {
      "application/vnd.jupyter.widget-view+json": {
       "model_id": "c7e3d6d4e9844f8b8cb971a9454a803e",
       "version_major": 2,
       "version_minor": 0
      },
      "text/plain": [
       "HBox(children=(FloatProgress(value=0.0, max=441.0), HTML(value='')))"
      ]
     },
     "metadata": {},
     "output_type": "display_data"
    },
    {
     "name": "stdout",
     "output_type": "stream",
     "text": [
      "\n",
      "cell ID =  1328 progress bar below: (n/N frames):\n"
     ]
    },
    {
     "data": {
      "application/vnd.jupyter.widget-view+json": {
       "model_id": "f3035214e82d4b1e9907412d8f6e296f",
       "version_major": 2,
       "version_minor": 0
      },
      "text/plain": [
       "HBox(children=(FloatProgress(value=0.0, max=3.0), HTML(value='')))"
      ]
     },
     "metadata": {},
     "output_type": "display_data"
    },
    {
     "name": "stdout",
     "output_type": "stream",
     "text": [
      "\n",
      "cell ID =  1329 progress bar below: (n/N frames):\n"
     ]
    },
    {
     "data": {
      "application/vnd.jupyter.widget-view+json": {
       "model_id": "00f83d3b9ee448c799abeefef2bb84f6",
       "version_major": 2,
       "version_minor": 0
      },
      "text/plain": [
       "HBox(children=(FloatProgress(value=0.0, max=171.0), HTML(value='')))"
      ]
     },
     "metadata": {},
     "output_type": "display_data"
    },
    {
     "name": "stdout",
     "output_type": "stream",
     "text": [
      "\n",
      "cell ID =  1330 progress bar below: (n/N frames):\n"
     ]
    },
    {
     "data": {
      "application/vnd.jupyter.widget-view+json": {
       "model_id": "23e0ec05f19b445fa020d5cb5726dc17",
       "version_major": 2,
       "version_minor": 0
      },
      "text/plain": [
       "HBox(children=(FloatProgress(value=0.0, max=111.0), HTML(value='')))"
      ]
     },
     "metadata": {},
     "output_type": "display_data"
    },
    {
     "name": "stdout",
     "output_type": "stream",
     "text": [
      "\n",
      "cell ID =  1331 progress bar below: (n/N frames):\n"
     ]
    },
    {
     "data": {
      "application/vnd.jupyter.widget-view+json": {
       "model_id": "7d169e2287414cd489d9f6613b010414",
       "version_major": 2,
       "version_minor": 0
      },
      "text/plain": [
       "HBox(children=(FloatProgress(value=0.0, max=437.0), HTML(value='')))"
      ]
     },
     "metadata": {},
     "output_type": "display_data"
    },
    {
     "name": "stdout",
     "output_type": "stream",
     "text": [
      "\n",
      "cell ID =  1334 progress bar below: (n/N frames):\n"
     ]
    },
    {
     "data": {
      "application/vnd.jupyter.widget-view+json": {
       "model_id": "d50e92715a0f40adb46e344e6bf015fc",
       "version_major": 2,
       "version_minor": 0
      },
      "text/plain": [
       "HBox(children=(FloatProgress(value=0.0, max=436.0), HTML(value='')))"
      ]
     },
     "metadata": {},
     "output_type": "display_data"
    },
    {
     "name": "stdout",
     "output_type": "stream",
     "text": [
      "\n",
      "cell ID =  1336 progress bar below: (n/N frames):\n"
     ]
    },
    {
     "data": {
      "application/vnd.jupyter.widget-view+json": {
       "model_id": "b3186d400b4647b0bbb1f3499c98707f",
       "version_major": 2,
       "version_minor": 0
      },
      "text/plain": [
       "HBox(children=(FloatProgress(value=0.0, max=2.0), HTML(value='')))"
      ]
     },
     "metadata": {},
     "output_type": "display_data"
    },
    {
     "name": "stdout",
     "output_type": "stream",
     "text": [
      "\n",
      "cell ID =  1335 progress bar below: (n/N frames):\n"
     ]
    },
    {
     "data": {
      "application/vnd.jupyter.widget-view+json": {
       "model_id": "e366693a188b44bfaea471faca35181b",
       "version_major": 2,
       "version_minor": 0
      },
      "text/plain": [
       "HBox(children=(FloatProgress(value=0.0, max=436.0), HTML(value='')))"
      ]
     },
     "metadata": {},
     "output_type": "display_data"
    },
    {
     "name": "stdout",
     "output_type": "stream",
     "text": [
      "\n",
      "cell ID =  1337 progress bar below: (n/N frames):\n"
     ]
    },
    {
     "data": {
      "application/vnd.jupyter.widget-view+json": {
       "model_id": "d3ffbcead93a497587cef32b059e6413",
       "version_major": 2,
       "version_minor": 0
      },
      "text/plain": [
       "HBox(children=(FloatProgress(value=0.0, max=435.0), HTML(value='')))"
      ]
     },
     "metadata": {},
     "output_type": "display_data"
    },
    {
     "name": "stdout",
     "output_type": "stream",
     "text": [
      "\n",
      "cell ID =  1340 progress bar below: (n/N frames):\n"
     ]
    },
    {
     "data": {
      "application/vnd.jupyter.widget-view+json": {
       "model_id": "eaf746c07833428a9e889612db45688a",
       "version_major": 2,
       "version_minor": 0
      },
      "text/plain": [
       "HBox(children=(FloatProgress(value=0.0, max=396.0), HTML(value='')))"
      ]
     },
     "metadata": {},
     "output_type": "display_data"
    },
    {
     "name": "stdout",
     "output_type": "stream",
     "text": [
      "\n",
      "cell ID =  1341 progress bar below: (n/N frames):\n"
     ]
    },
    {
     "data": {
      "application/vnd.jupyter.widget-view+json": {
       "model_id": "450eaa7d70c2474fbc8a7b3d7dc865aa",
       "version_major": 2,
       "version_minor": 0
      },
      "text/plain": [
       "HBox(children=(FloatProgress(value=0.0, max=2.0), HTML(value='')))"
      ]
     },
     "metadata": {},
     "output_type": "display_data"
    },
    {
     "name": "stdout",
     "output_type": "stream",
     "text": [
      "\n",
      "cell ID =  1346 progress bar below: (n/N frames):\n"
     ]
    },
    {
     "data": {
      "application/vnd.jupyter.widget-view+json": {
       "model_id": "20dbab35d34c410daf558af5a8a650cb",
       "version_major": 2,
       "version_minor": 0
      },
      "text/plain": [
       "HBox(children=(FloatProgress(value=0.0, max=6.0), HTML(value='')))"
      ]
     },
     "metadata": {},
     "output_type": "display_data"
    },
    {
     "name": "stdout",
     "output_type": "stream",
     "text": [
      "\n",
      "cell ID =  1347 progress bar below: (n/N frames):\n"
     ]
    },
    {
     "data": {
      "application/vnd.jupyter.widget-view+json": {
       "model_id": "a73c3f31f044461ba85cbcd3118d9607",
       "version_major": 2,
       "version_minor": 0
      },
      "text/plain": [
       "HBox(children=(FloatProgress(value=0.0, max=431.0), HTML(value='')))"
      ]
     },
     "metadata": {},
     "output_type": "display_data"
    },
    {
     "name": "stdout",
     "output_type": "stream",
     "text": [
      "\n",
      "cell ID =  1348 progress bar below: (n/N frames):\n"
     ]
    },
    {
     "data": {
      "application/vnd.jupyter.widget-view+json": {
       "model_id": "9360bafc089d42d6b6677fc06bb85343",
       "version_major": 2,
       "version_minor": 0
      },
      "text/plain": [
       "HBox(children=(FloatProgress(value=0.0, max=431.0), HTML(value='')))"
      ]
     },
     "metadata": {},
     "output_type": "display_data"
    },
    {
     "name": "stdout",
     "output_type": "stream",
     "text": [
      "\n",
      "cell ID =  1349 progress bar below: (n/N frames):\n"
     ]
    },
    {
     "data": {
      "application/vnd.jupyter.widget-view+json": {
       "model_id": "f3dbb46fb5c24c23ae7d03a0009e6dd1",
       "version_major": 2,
       "version_minor": 0
      },
      "text/plain": [
       "HBox(children=(FloatProgress(value=0.0, max=431.0), HTML(value='')))"
      ]
     },
     "metadata": {},
     "output_type": "display_data"
    },
    {
     "name": "stdout",
     "output_type": "stream",
     "text": [
      "\n",
      "cell ID =  1351 progress bar below: (n/N frames):\n"
     ]
    },
    {
     "data": {
      "application/vnd.jupyter.widget-view+json": {
       "model_id": "f1af2066fc4741058edbb9654df77c23",
       "version_major": 2,
       "version_minor": 0
      },
      "text/plain": [
       "HBox(children=(FloatProgress(value=0.0, max=7.0), HTML(value='')))"
      ]
     },
     "metadata": {},
     "output_type": "display_data"
    },
    {
     "name": "stdout",
     "output_type": "stream",
     "text": [
      "\n",
      "cell ID =  1352 progress bar below: (n/N frames):\n"
     ]
    },
    {
     "data": {
      "application/vnd.jupyter.widget-view+json": {
       "model_id": "b8363ea8ea6f41a4b53851eafb045771",
       "version_major": 2,
       "version_minor": 0
      },
      "text/plain": [
       "HBox(children=(FloatProgress(value=0.0, max=113.0), HTML(value='')))"
      ]
     },
     "metadata": {},
     "output_type": "display_data"
    },
    {
     "name": "stdout",
     "output_type": "stream",
     "text": [
      "\n",
      "cell ID =  1350 progress bar below: (n/N frames):\n"
     ]
    },
    {
     "data": {
      "application/vnd.jupyter.widget-view+json": {
       "model_id": "77defda0158a4a7ba0d57602a7b5e422",
       "version_major": 2,
       "version_minor": 0
      },
      "text/plain": [
       "HBox(children=(FloatProgress(value=0.0, max=429.0), HTML(value='')))"
      ]
     },
     "metadata": {},
     "output_type": "display_data"
    },
    {
     "name": "stdout",
     "output_type": "stream",
     "text": [
      "\n",
      "cell ID =  1355 progress bar below: (n/N frames):\n"
     ]
    },
    {
     "data": {
      "application/vnd.jupyter.widget-view+json": {
       "model_id": "dd1d3b61aedd42bd9e5ef991b3578d63",
       "version_major": 2,
       "version_minor": 0
      },
      "text/plain": [
       "HBox(children=(FloatProgress(value=0.0, max=427.0), HTML(value='')))"
      ]
     },
     "metadata": {},
     "output_type": "display_data"
    },
    {
     "name": "stdout",
     "output_type": "stream",
     "text": [
      "\n",
      "cell ID =  1358 progress bar below: (n/N frames):\n"
     ]
    },
    {
     "data": {
      "application/vnd.jupyter.widget-view+json": {
       "model_id": "4313edde68cb46e1a7a04f9be3cea121",
       "version_major": 2,
       "version_minor": 0
      },
      "text/plain": [
       "HBox(children=(FloatProgress(value=0.0, max=2.0), HTML(value='')))"
      ]
     },
     "metadata": {},
     "output_type": "display_data"
    },
    {
     "name": "stdout",
     "output_type": "stream",
     "text": [
      "\n",
      "cell ID =  1362 progress bar below: (n/N frames):\n"
     ]
    },
    {
     "data": {
      "application/vnd.jupyter.widget-view+json": {
       "model_id": "ea5c3ae5589942f3a08a0d79fe62716c",
       "version_major": 2,
       "version_minor": 0
      },
      "text/plain": [
       "HBox(children=(FloatProgress(value=0.0, max=138.0), HTML(value='')))"
      ]
     },
     "metadata": {},
     "output_type": "display_data"
    },
    {
     "name": "stdout",
     "output_type": "stream",
     "text": [
      "\n",
      "cell ID =  1363 progress bar below: (n/N frames):\n"
     ]
    },
    {
     "data": {
      "application/vnd.jupyter.widget-view+json": {
       "model_id": "a2488eebc411432c81d19180da6d4a42",
       "version_major": 2,
       "version_minor": 0
      },
      "text/plain": [
       "HBox(children=(FloatProgress(value=0.0, max=4.0), HTML(value='')))"
      ]
     },
     "metadata": {},
     "output_type": "display_data"
    },
    {
     "name": "stdout",
     "output_type": "stream",
     "text": [
      "\n",
      "cell ID =  1364 progress bar below: (n/N frames):\n"
     ]
    },
    {
     "data": {
      "application/vnd.jupyter.widget-view+json": {
       "model_id": "19c8f8a2873c40fabf57083446806e49",
       "version_major": 2,
       "version_minor": 0
      },
      "text/plain": [
       "HBox(children=(FloatProgress(value=0.0, max=421.0), HTML(value='')))"
      ]
     },
     "metadata": {},
     "output_type": "display_data"
    },
    {
     "name": "stdout",
     "output_type": "stream",
     "text": [
      "\n",
      "cell ID =  1365 progress bar below: (n/N frames):\n"
     ]
    },
    {
     "data": {
      "application/vnd.jupyter.widget-view+json": {
       "model_id": "b8afd2814afe42b78add9eb9792b0c76",
       "version_major": 2,
       "version_minor": 0
      },
      "text/plain": [
       "HBox(children=(FloatProgress(value=0.0, max=412.0), HTML(value='')))"
      ]
     },
     "metadata": {},
     "output_type": "display_data"
    },
    {
     "name": "stdout",
     "output_type": "stream",
     "text": [
      "\n",
      "cell ID =  1368 progress bar below: (n/N frames):\n"
     ]
    },
    {
     "data": {
      "application/vnd.jupyter.widget-view+json": {
       "model_id": "6f48531db06a406ab0e8d04bb184e47e",
       "version_major": 2,
       "version_minor": 0
      },
      "text/plain": [
       "HBox(children=(FloatProgress(value=0.0, max=4.0), HTML(value='')))"
      ]
     },
     "metadata": {},
     "output_type": "display_data"
    },
    {
     "name": "stdout",
     "output_type": "stream",
     "text": [
      "\n",
      "cell ID =  1369 progress bar below: (n/N frames):\n"
     ]
    },
    {
     "data": {
      "application/vnd.jupyter.widget-view+json": {
       "model_id": "2274714243204db29bc963ca9cda5a7c",
       "version_major": 2,
       "version_minor": 0
      },
      "text/plain": [
       "HBox(children=(FloatProgress(value=0.0, max=138.0), HTML(value='')))"
      ]
     },
     "metadata": {},
     "output_type": "display_data"
    },
    {
     "name": "stdout",
     "output_type": "stream",
     "text": [
      "\n",
      "cell ID =  1371 progress bar below: (n/N frames):\n"
     ]
    },
    {
     "data": {
      "application/vnd.jupyter.widget-view+json": {
       "model_id": "ad76a38e3d29453fad9d4e30053a3775",
       "version_major": 2,
       "version_minor": 0
      },
      "text/plain": [
       "HBox(children=(FloatProgress(value=0.0, max=11.0), HTML(value='')))"
      ]
     },
     "metadata": {},
     "output_type": "display_data"
    },
    {
     "name": "stdout",
     "output_type": "stream",
     "text": [
      "\n",
      "cell ID =  1372 progress bar below: (n/N frames):\n"
     ]
    },
    {
     "data": {
      "application/vnd.jupyter.widget-view+json": {
       "model_id": "5b8d6cb80a844a9c9f5210009d4adc55",
       "version_major": 2,
       "version_minor": 0
      },
      "text/plain": [
       "HBox(children=(FloatProgress(value=0.0, max=418.0), HTML(value='')))"
      ]
     },
     "metadata": {},
     "output_type": "display_data"
    },
    {
     "name": "stdout",
     "output_type": "stream",
     "text": [
      "\n",
      "cell ID =  1374 progress bar below: (n/N frames):\n"
     ]
    },
    {
     "data": {
      "application/vnd.jupyter.widget-view+json": {
       "model_id": "d6ba053b630c42539f1ede59dda00c19",
       "version_major": 2,
       "version_minor": 0
      },
      "text/plain": [
       "HBox(children=(FloatProgress(value=0.0, max=41.0), HTML(value='')))"
      ]
     },
     "metadata": {},
     "output_type": "display_data"
    },
    {
     "name": "stdout",
     "output_type": "stream",
     "text": [
      "\n",
      "cell ID =  1375 progress bar below: (n/N frames):\n"
     ]
    },
    {
     "data": {
      "application/vnd.jupyter.widget-view+json": {
       "model_id": "64122cc57f9c4a9a98593e0f7f257a8f",
       "version_major": 2,
       "version_minor": 0
      },
      "text/plain": [
       "HBox(children=(FloatProgress(value=0.0, max=14.0), HTML(value='')))"
      ]
     },
     "metadata": {},
     "output_type": "display_data"
    },
    {
     "name": "stdout",
     "output_type": "stream",
     "text": [
      "\n",
      "cell ID =  1377 progress bar below: (n/N frames):\n"
     ]
    },
    {
     "data": {
      "application/vnd.jupyter.widget-view+json": {
       "model_id": "f0acdf43329e4a8cbf385a62df455e89",
       "version_major": 2,
       "version_minor": 0
      },
      "text/plain": [
       "HBox(children=(FloatProgress(value=0.0, max=10.0), HTML(value='')))"
      ]
     },
     "metadata": {},
     "output_type": "display_data"
    },
    {
     "name": "stdout",
     "output_type": "stream",
     "text": [
      "\n",
      "cell ID =  1378 progress bar below: (n/N frames):\n"
     ]
    },
    {
     "data": {
      "application/vnd.jupyter.widget-view+json": {
       "model_id": "111f8583477e40d78af224c9342a7600",
       "version_major": 2,
       "version_minor": 0
      },
      "text/plain": [
       "HBox(children=(FloatProgress(value=0.0, max=41.0), HTML(value='')))"
      ]
     },
     "metadata": {},
     "output_type": "display_data"
    },
    {
     "name": "stdout",
     "output_type": "stream",
     "text": [
      "\n",
      "cell ID =  1379 progress bar below: (n/N frames):\n"
     ]
    },
    {
     "data": {
      "application/vnd.jupyter.widget-view+json": {
       "model_id": "e6baff8686f44879ae8bb5eac057a5ba",
       "version_major": 2,
       "version_minor": 0
      },
      "text/plain": [
       "HBox(children=(FloatProgress(value=0.0, max=4.0), HTML(value='')))"
      ]
     },
     "metadata": {},
     "output_type": "display_data"
    },
    {
     "name": "stdout",
     "output_type": "stream",
     "text": [
      "\n",
      "cell ID =  1383 progress bar below: (n/N frames):\n"
     ]
    },
    {
     "data": {
      "application/vnd.jupyter.widget-view+json": {
       "model_id": "fc5b7b969e0d47a38b0b072cfc9b3116",
       "version_major": 2,
       "version_minor": 0
      },
      "text/plain": [
       "HBox(children=(FloatProgress(value=0.0, max=18.0), HTML(value='')))"
      ]
     },
     "metadata": {},
     "output_type": "display_data"
    },
    {
     "name": "stdout",
     "output_type": "stream",
     "text": [
      "\n",
      "cell ID =  1387 progress bar below: (n/N frames):\n"
     ]
    },
    {
     "data": {
      "application/vnd.jupyter.widget-view+json": {
       "model_id": "7c6ad963833e4c5ba62a9546de46d1aa",
       "version_major": 2,
       "version_minor": 0
      },
      "text/plain": [
       "HBox(children=(FloatProgress(value=0.0, max=24.0), HTML(value='')))"
      ]
     },
     "metadata": {},
     "output_type": "display_data"
    },
    {
     "name": "stdout",
     "output_type": "stream",
     "text": [
      "\n",
      "cell ID =  1389 progress bar below: (n/N frames):\n"
     ]
    },
    {
     "data": {
      "application/vnd.jupyter.widget-view+json": {
       "model_id": "150032f792ba4cffbf1d38a77d2b2712",
       "version_major": 2,
       "version_minor": 0
      },
      "text/plain": [
       "HBox(children=(FloatProgress(value=0.0, max=411.0), HTML(value='')))"
      ]
     },
     "metadata": {},
     "output_type": "display_data"
    },
    {
     "name": "stdout",
     "output_type": "stream",
     "text": [
      "\n",
      "cell ID =  1390 progress bar below: (n/N frames):\n"
     ]
    },
    {
     "data": {
      "application/vnd.jupyter.widget-view+json": {
       "model_id": "a178eff2d202495e86d6500dbdab7f3d",
       "version_major": 2,
       "version_minor": 0
      },
      "text/plain": [
       "HBox(children=(FloatProgress(value=0.0, max=4.0), HTML(value='')))"
      ]
     },
     "metadata": {},
     "output_type": "display_data"
    },
    {
     "name": "stdout",
     "output_type": "stream",
     "text": [
      "\n",
      "cell ID =  1391 progress bar below: (n/N frames):\n"
     ]
    },
    {
     "data": {
      "application/vnd.jupyter.widget-view+json": {
       "model_id": "fea57749e5fb428cadd9a2d8ddf4c917",
       "version_major": 2,
       "version_minor": 0
      },
      "text/plain": [
       "HBox(children=(FloatProgress(value=0.0, max=409.0), HTML(value='')))"
      ]
     },
     "metadata": {},
     "output_type": "display_data"
    },
    {
     "name": "stdout",
     "output_type": "stream",
     "text": [
      "\n",
      "cell ID =  1392 progress bar below: (n/N frames):\n"
     ]
    },
    {
     "data": {
      "application/vnd.jupyter.widget-view+json": {
       "model_id": "39e7fc6a0be6434ea12379353949dda4",
       "version_major": 2,
       "version_minor": 0
      },
      "text/plain": [
       "HBox(children=(FloatProgress(value=0.0, max=2.0), HTML(value='')))"
      ]
     },
     "metadata": {},
     "output_type": "display_data"
    },
    {
     "name": "stdout",
     "output_type": "stream",
     "text": [
      "\n",
      "cell ID =  1393 progress bar below: (n/N frames):\n"
     ]
    },
    {
     "data": {
      "application/vnd.jupyter.widget-view+json": {
       "model_id": "b85b9eb1784849dc84f5eb839597f9da",
       "version_major": 2,
       "version_minor": 0
      },
      "text/plain": [
       "HBox(children=(FloatProgress(value=0.0, max=408.0), HTML(value='')))"
      ]
     },
     "metadata": {},
     "output_type": "display_data"
    },
    {
     "name": "stdout",
     "output_type": "stream",
     "text": [
      "\n",
      "cell ID =  1394 progress bar below: (n/N frames):\n"
     ]
    },
    {
     "data": {
      "application/vnd.jupyter.widget-view+json": {
       "model_id": "b83eea9a1c6d47b097017ee4cace8228",
       "version_major": 2,
       "version_minor": 0
      },
      "text/plain": [
       "HBox(children=(FloatProgress(value=0.0, max=7.0), HTML(value='')))"
      ]
     },
     "metadata": {},
     "output_type": "display_data"
    },
    {
     "name": "stdout",
     "output_type": "stream",
     "text": [
      "\n",
      "cell ID =  1395 progress bar below: (n/N frames):\n"
     ]
    },
    {
     "data": {
      "application/vnd.jupyter.widget-view+json": {
       "model_id": "9973f8acd09b41f2a88356aaf3437f85",
       "version_major": 2,
       "version_minor": 0
      },
      "text/plain": [
       "HBox(children=(FloatProgress(value=0.0, max=407.0), HTML(value='')))"
      ]
     },
     "metadata": {},
     "output_type": "display_data"
    },
    {
     "name": "stdout",
     "output_type": "stream",
     "text": [
      "\n",
      "cell ID =  1397 progress bar below: (n/N frames):\n"
     ]
    },
    {
     "data": {
      "application/vnd.jupyter.widget-view+json": {
       "model_id": "fae7b221c8b24ce2991ceaa48d4bd8e2",
       "version_major": 2,
       "version_minor": 0
      },
      "text/plain": [
       "HBox(children=(FloatProgress(value=0.0, max=127.0), HTML(value='')))"
      ]
     },
     "metadata": {},
     "output_type": "display_data"
    },
    {
     "name": "stdout",
     "output_type": "stream",
     "text": [
      "\n",
      "cell ID =  1398 progress bar below: (n/N frames):\n"
     ]
    },
    {
     "data": {
      "application/vnd.jupyter.widget-view+json": {
       "model_id": "3e68678d83f74adeae7d5f10c8496614",
       "version_major": 2,
       "version_minor": 0
      },
      "text/plain": [
       "HBox(children=(FloatProgress(value=0.0, max=5.0), HTML(value='')))"
      ]
     },
     "metadata": {},
     "output_type": "display_data"
    },
    {
     "name": "stdout",
     "output_type": "stream",
     "text": [
      "\n",
      "cell ID =  1401 progress bar below: (n/N frames):\n"
     ]
    },
    {
     "data": {
      "application/vnd.jupyter.widget-view+json": {
       "model_id": "55c5f79fe6fa4a28a4720df7c0950f7d",
       "version_major": 2,
       "version_minor": 0
      },
      "text/plain": [
       "HBox(children=(FloatProgress(value=0.0, max=403.0), HTML(value='')))"
      ]
     },
     "metadata": {},
     "output_type": "display_data"
    },
    {
     "name": "stdout",
     "output_type": "stream",
     "text": [
      "\n",
      "cell ID =  1404 progress bar below: (n/N frames):\n"
     ]
    },
    {
     "data": {
      "application/vnd.jupyter.widget-view+json": {
       "model_id": "dab454eb2db84b9d91e0afd0204556e5",
       "version_major": 2,
       "version_minor": 0
      },
      "text/plain": [
       "HBox(children=(FloatProgress(value=0.0, max=2.0), HTML(value='')))"
      ]
     },
     "metadata": {},
     "output_type": "display_data"
    },
    {
     "name": "stdout",
     "output_type": "stream",
     "text": [
      "\n",
      "cell ID =  1408 progress bar below: (n/N frames):\n"
     ]
    },
    {
     "data": {
      "application/vnd.jupyter.widget-view+json": {
       "model_id": "338fd9f824aa4b219794399f029e9a73",
       "version_major": 2,
       "version_minor": 0
      },
      "text/plain": [
       "HBox(children=(FloatProgress(value=0.0, max=6.0), HTML(value='')))"
      ]
     },
     "metadata": {},
     "output_type": "display_data"
    },
    {
     "name": "stdout",
     "output_type": "stream",
     "text": [
      "\n",
      "cell ID =  1409 progress bar below: (n/N frames):\n"
     ]
    },
    {
     "data": {
      "application/vnd.jupyter.widget-view+json": {
       "model_id": "86698721e2384e5aa1e860ffaac2544e",
       "version_major": 2,
       "version_minor": 0
      },
      "text/plain": [
       "HBox(children=(FloatProgress(value=0.0, max=369.0), HTML(value='')))"
      ]
     },
     "metadata": {},
     "output_type": "display_data"
    },
    {
     "name": "stdout",
     "output_type": "stream",
     "text": [
      "\n",
      "cell ID =  1410 progress bar below: (n/N frames):\n"
     ]
    },
    {
     "data": {
      "application/vnd.jupyter.widget-view+json": {
       "model_id": "cdcdf840a6354ff6b0516045ceb5d169",
       "version_major": 2,
       "version_minor": 0
      },
      "text/plain": [
       "HBox(children=(FloatProgress(value=0.0, max=5.0), HTML(value='')))"
      ]
     },
     "metadata": {},
     "output_type": "display_data"
    },
    {
     "name": "stdout",
     "output_type": "stream",
     "text": [
      "\n",
      "cell ID =  1411 progress bar below: (n/N frames):\n"
     ]
    },
    {
     "data": {
      "application/vnd.jupyter.widget-view+json": {
       "model_id": "1a5ff0bfebdc44e3bfb51fa2d4fa77f5",
       "version_major": 2,
       "version_minor": 0
      },
      "text/plain": [
       "HBox(children=(FloatProgress(value=0.0, max=312.0), HTML(value='')))"
      ]
     },
     "metadata": {},
     "output_type": "display_data"
    },
    {
     "name": "stdout",
     "output_type": "stream",
     "text": [
      "\n",
      "cell ID =  1412 progress bar below: (n/N frames):\n"
     ]
    },
    {
     "data": {
      "application/vnd.jupyter.widget-view+json": {
       "model_id": "df7925d5959e48bd857ea9764030886f",
       "version_major": 2,
       "version_minor": 0
      },
      "text/plain": [
       "HBox(children=(FloatProgress(value=0.0, max=399.0), HTML(value='')))"
      ]
     },
     "metadata": {},
     "output_type": "display_data"
    },
    {
     "name": "stdout",
     "output_type": "stream",
     "text": [
      "\n",
      "cell ID =  1416 progress bar below: (n/N frames):\n"
     ]
    },
    {
     "data": {
      "application/vnd.jupyter.widget-view+json": {
       "model_id": "b35583c1a20f4937805729a9b8396833",
       "version_major": 2,
       "version_minor": 0
      },
      "text/plain": [
       "HBox(children=(FloatProgress(value=0.0, max=76.0), HTML(value='')))"
      ]
     },
     "metadata": {},
     "output_type": "display_data"
    },
    {
     "name": "stdout",
     "output_type": "stream",
     "text": [
      "\n",
      "cell ID =  1417 progress bar below: (n/N frames):\n"
     ]
    },
    {
     "data": {
      "application/vnd.jupyter.widget-view+json": {
       "model_id": "25a9c62dc6854291b571cd5097996b5a",
       "version_major": 2,
       "version_minor": 0
      },
      "text/plain": [
       "HBox(children=(FloatProgress(value=0.0, max=85.0), HTML(value='')))"
      ]
     },
     "metadata": {},
     "output_type": "display_data"
    },
    {
     "name": "stdout",
     "output_type": "stream",
     "text": [
      "\n",
      "cell ID =  1420 progress bar below: (n/N frames):\n"
     ]
    },
    {
     "data": {
      "application/vnd.jupyter.widget-view+json": {
       "model_id": "7c43c19fee884931b1b737109f37cefa",
       "version_major": 2,
       "version_minor": 0
      },
      "text/plain": [
       "HBox(children=(FloatProgress(value=0.0, max=396.0), HTML(value='')))"
      ]
     },
     "metadata": {},
     "output_type": "display_data"
    },
    {
     "name": "stdout",
     "output_type": "stream",
     "text": [
      "\n",
      "cell ID =  1421 progress bar below: (n/N frames):\n"
     ]
    },
    {
     "data": {
      "application/vnd.jupyter.widget-view+json": {
       "model_id": "95c6aca7e8d449b1bb4996e27f617656",
       "version_major": 2,
       "version_minor": 0
      },
      "text/plain": [
       "HBox(children=(FloatProgress(value=0.0, max=10.0), HTML(value='')))"
      ]
     },
     "metadata": {},
     "output_type": "display_data"
    },
    {
     "name": "stdout",
     "output_type": "stream",
     "text": [
      "\n",
      "cell ID =  1422 progress bar below: (n/N frames):\n"
     ]
    },
    {
     "data": {
      "application/vnd.jupyter.widget-view+json": {
       "model_id": "c052ea3673e34bbea3155e8869164acc",
       "version_major": 2,
       "version_minor": 0
      },
      "text/plain": [
       "HBox(children=(FloatProgress(value=0.0, max=395.0), HTML(value='')))"
      ]
     },
     "metadata": {},
     "output_type": "display_data"
    },
    {
     "name": "stdout",
     "output_type": "stream",
     "text": [
      "\n",
      "cell ID =  1423 progress bar below: (n/N frames):\n"
     ]
    },
    {
     "data": {
      "application/vnd.jupyter.widget-view+json": {
       "model_id": "f362a93eb57a48c7a3e1efb8ecbba4f3",
       "version_major": 2,
       "version_minor": 0
      },
      "text/plain": [
       "HBox(children=(FloatProgress(value=0.0, max=49.0), HTML(value='')))"
      ]
     },
     "metadata": {},
     "output_type": "display_data"
    },
    {
     "name": "stdout",
     "output_type": "stream",
     "text": [
      "\n",
      "cell ID =  1424 progress bar below: (n/N frames):\n"
     ]
    },
    {
     "data": {
      "application/vnd.jupyter.widget-view+json": {
       "model_id": "993d8e52b1d44fd49b1961c40c44fea9",
       "version_major": 2,
       "version_minor": 0
      },
      "text/plain": [
       "HBox(children=(FloatProgress(value=0.0, max=249.0), HTML(value='')))"
      ]
     },
     "metadata": {},
     "output_type": "display_data"
    },
    {
     "name": "stdout",
     "output_type": "stream",
     "text": [
      "\n",
      "cell ID =  1425 progress bar below: (n/N frames):\n"
     ]
    },
    {
     "data": {
      "application/vnd.jupyter.widget-view+json": {
       "model_id": "5e95f1d0713542dbbf78778a98306ef8",
       "version_major": 2,
       "version_minor": 0
      },
      "text/plain": [
       "HBox(children=(FloatProgress(value=0.0, max=20.0), HTML(value='')))"
      ]
     },
     "metadata": {},
     "output_type": "display_data"
    },
    {
     "name": "stdout",
     "output_type": "stream",
     "text": [
      "\n",
      "cell ID =  1426 progress bar below: (n/N frames):\n"
     ]
    },
    {
     "data": {
      "application/vnd.jupyter.widget-view+json": {
       "model_id": "fdf6bb8ad5394fccbf729650a60c0090",
       "version_major": 2,
       "version_minor": 0
      },
      "text/plain": [
       "HBox(children=(FloatProgress(value=0.0, max=4.0), HTML(value='')))"
      ]
     },
     "metadata": {},
     "output_type": "display_data"
    },
    {
     "name": "stdout",
     "output_type": "stream",
     "text": [
      "\n",
      "cell ID =  1427 progress bar below: (n/N frames):\n"
     ]
    },
    {
     "data": {
      "application/vnd.jupyter.widget-view+json": {
       "model_id": "c6a9721c8f3744b9ac6357d6196a0e88",
       "version_major": 2,
       "version_minor": 0
      },
      "text/plain": [
       "HBox(children=(FloatProgress(value=0.0, max=393.0), HTML(value='')))"
      ]
     },
     "metadata": {},
     "output_type": "display_data"
    },
    {
     "name": "stdout",
     "output_type": "stream",
     "text": [
      "\n",
      "cell ID =  1429 progress bar below: (n/N frames):\n"
     ]
    },
    {
     "data": {
      "application/vnd.jupyter.widget-view+json": {
       "model_id": "e7e4373775b3450884ce8347b298e86a",
       "version_major": 2,
       "version_minor": 0
      },
      "text/plain": [
       "HBox(children=(FloatProgress(value=0.0, max=44.0), HTML(value='')))"
      ]
     },
     "metadata": {},
     "output_type": "display_data"
    },
    {
     "name": "stdout",
     "output_type": "stream",
     "text": [
      "\n",
      "cell ID =  1430 progress bar below: (n/N frames):\n"
     ]
    },
    {
     "data": {
      "application/vnd.jupyter.widget-view+json": {
       "model_id": "96f83a7cfd314c40bbe09ab378afbf8a",
       "version_major": 2,
       "version_minor": 0
      },
      "text/plain": [
       "HBox(children=(FloatProgress(value=0.0, max=391.0), HTML(value='')))"
      ]
     },
     "metadata": {},
     "output_type": "display_data"
    },
    {
     "name": "stdout",
     "output_type": "stream",
     "text": [
      "\n",
      "cell ID =  1431 progress bar below: (n/N frames):\n"
     ]
    },
    {
     "data": {
      "application/vnd.jupyter.widget-view+json": {
       "model_id": "6b2e45fa7a8e4376b3dc8c3fdbc867c3",
       "version_major": 2,
       "version_minor": 0
      },
      "text/plain": [
       "HBox(children=(FloatProgress(value=0.0, max=16.0), HTML(value='')))"
      ]
     },
     "metadata": {},
     "output_type": "display_data"
    },
    {
     "name": "stdout",
     "output_type": "stream",
     "text": [
      "\n",
      "cell ID =  1432 progress bar below: (n/N frames):\n"
     ]
    },
    {
     "data": {
      "application/vnd.jupyter.widget-view+json": {
       "model_id": "27cb48f0d1c546aa980cc8cfaca8b885",
       "version_major": 2,
       "version_minor": 0
      },
      "text/plain": [
       "HBox(children=(FloatProgress(value=0.0, max=391.0), HTML(value='')))"
      ]
     },
     "metadata": {},
     "output_type": "display_data"
    },
    {
     "name": "stdout",
     "output_type": "stream",
     "text": [
      "\n",
      "cell ID =  1434 progress bar below: (n/N frames):\n"
     ]
    },
    {
     "data": {
      "application/vnd.jupyter.widget-view+json": {
       "model_id": "7acd5d3a04914d9c8148002b60863aa2",
       "version_major": 2,
       "version_minor": 0
      },
      "text/plain": [
       "HBox(children=(FloatProgress(value=0.0, max=390.0), HTML(value='')))"
      ]
     },
     "metadata": {},
     "output_type": "display_data"
    },
    {
     "name": "stdout",
     "output_type": "stream",
     "text": [
      "\n",
      "cell ID =  1437 progress bar below: (n/N frames):\n"
     ]
    },
    {
     "data": {
      "application/vnd.jupyter.widget-view+json": {
       "model_id": "a0a546f70eba4b289ab238b3efb10f7b",
       "version_major": 2,
       "version_minor": 0
      },
      "text/plain": [
       "HBox(children=(FloatProgress(value=0.0, max=390.0), HTML(value='')))"
      ]
     },
     "metadata": {},
     "output_type": "display_data"
    },
    {
     "name": "stdout",
     "output_type": "stream",
     "text": [
      "\n",
      "cell ID =  1436 progress bar below: (n/N frames):\n"
     ]
    },
    {
     "data": {
      "application/vnd.jupyter.widget-view+json": {
       "model_id": "29da14dfa23a4b2da9cac8189f2f98b1",
       "version_major": 2,
       "version_minor": 0
      },
      "text/plain": [
       "HBox(children=(FloatProgress(value=0.0, max=32.0), HTML(value='')))"
      ]
     },
     "metadata": {},
     "output_type": "display_data"
    },
    {
     "name": "stdout",
     "output_type": "stream",
     "text": [
      "\n",
      "cell ID =  1435 progress bar below: (n/N frames):\n"
     ]
    },
    {
     "data": {
      "application/vnd.jupyter.widget-view+json": {
       "model_id": "8ab8db2402394824a34b2afcab375923",
       "version_major": 2,
       "version_minor": 0
      },
      "text/plain": [
       "HBox(children=(FloatProgress(value=0.0, max=4.0), HTML(value='')))"
      ]
     },
     "metadata": {},
     "output_type": "display_data"
    },
    {
     "name": "stdout",
     "output_type": "stream",
     "text": [
      "\n",
      "cell ID =  1444 progress bar below: (n/N frames):\n"
     ]
    },
    {
     "data": {
      "application/vnd.jupyter.widget-view+json": {
       "model_id": "c7418254ea1545c1a05d216534b31d71",
       "version_major": 2,
       "version_minor": 0
      },
      "text/plain": [
       "HBox(children=(FloatProgress(value=0.0, max=13.0), HTML(value='')))"
      ]
     },
     "metadata": {},
     "output_type": "display_data"
    },
    {
     "name": "stdout",
     "output_type": "stream",
     "text": [
      "\n",
      "cell ID =  1445 progress bar below: (n/N frames):\n"
     ]
    },
    {
     "data": {
      "application/vnd.jupyter.widget-view+json": {
       "model_id": "6ce2df48650f46608cf557c698870e49",
       "version_major": 2,
       "version_minor": 0
      },
      "text/plain": [
       "HBox(children=(FloatProgress(value=0.0, max=12.0), HTML(value='')))"
      ]
     },
     "metadata": {},
     "output_type": "display_data"
    },
    {
     "name": "stdout",
     "output_type": "stream",
     "text": [
      "\n",
      "cell ID =  1446 progress bar below: (n/N frames):\n"
     ]
    },
    {
     "data": {
      "application/vnd.jupyter.widget-view+json": {
       "model_id": "9371e80a5b834af5ae7fb48574a5c4eb",
       "version_major": 2,
       "version_minor": 0
      },
      "text/plain": [
       "HBox(children=(FloatProgress(value=0.0, max=387.0), HTML(value='')))"
      ]
     },
     "metadata": {},
     "output_type": "display_data"
    },
    {
     "name": "stdout",
     "output_type": "stream",
     "text": [
      "\n",
      "cell ID =  1447 progress bar below: (n/N frames):\n"
     ]
    },
    {
     "data": {
      "application/vnd.jupyter.widget-view+json": {
       "model_id": "9bb16772d2064a6ca0f48269ec4b4491",
       "version_major": 2,
       "version_minor": 0
      },
      "text/plain": [
       "HBox(children=(FloatProgress(value=0.0, max=387.0), HTML(value='')))"
      ]
     },
     "metadata": {},
     "output_type": "display_data"
    },
    {
     "name": "stdout",
     "output_type": "stream",
     "text": [
      "\n",
      "cell ID =  1449 progress bar below: (n/N frames):\n"
     ]
    },
    {
     "data": {
      "application/vnd.jupyter.widget-view+json": {
       "model_id": "a089af8b47db46be98e1fad4e9477c65",
       "version_major": 2,
       "version_minor": 0
      },
      "text/plain": [
       "HBox(children=(FloatProgress(value=0.0, max=6.0), HTML(value='')))"
      ]
     },
     "metadata": {},
     "output_type": "display_data"
    },
    {
     "name": "stdout",
     "output_type": "stream",
     "text": [
      "\n",
      "cell ID =  1450 progress bar below: (n/N frames):\n"
     ]
    },
    {
     "data": {
      "application/vnd.jupyter.widget-view+json": {
       "model_id": "10e164c260024d5eb64ab1b09a110503",
       "version_major": 2,
       "version_minor": 0
      },
      "text/plain": [
       "HBox(children=(FloatProgress(value=0.0, max=387.0), HTML(value='')))"
      ]
     },
     "metadata": {},
     "output_type": "display_data"
    },
    {
     "name": "stdout",
     "output_type": "stream",
     "text": [
      "\n",
      "cell ID =  1451 progress bar below: (n/N frames):\n"
     ]
    },
    {
     "data": {
      "application/vnd.jupyter.widget-view+json": {
       "model_id": "0c47f6b803434d4386a9d4b2923ba31e",
       "version_major": 2,
       "version_minor": 0
      },
      "text/plain": [
       "HBox(children=(FloatProgress(value=0.0, max=2.0), HTML(value='')))"
      ]
     },
     "metadata": {},
     "output_type": "display_data"
    },
    {
     "name": "stdout",
     "output_type": "stream",
     "text": [
      "\n",
      "cell ID =  1454 progress bar below: (n/N frames):\n"
     ]
    },
    {
     "data": {
      "application/vnd.jupyter.widget-view+json": {
       "model_id": "de9faf5ca79441cbac8b565abe26dc81",
       "version_major": 2,
       "version_minor": 0
      },
      "text/plain": [
       "HBox(children=(FloatProgress(value=0.0, max=3.0), HTML(value='')))"
      ]
     },
     "metadata": {},
     "output_type": "display_data"
    },
    {
     "name": "stdout",
     "output_type": "stream",
     "text": [
      "\n",
      "cell ID =  1452 progress bar below: (n/N frames):\n"
     ]
    },
    {
     "data": {
      "application/vnd.jupyter.widget-view+json": {
       "model_id": "d780e57bba8c48ed83a02c988151d2ed",
       "version_major": 2,
       "version_minor": 0
      },
      "text/plain": [
       "HBox(children=(FloatProgress(value=0.0, max=385.0), HTML(value='')))"
      ]
     },
     "metadata": {},
     "output_type": "display_data"
    },
    {
     "name": "stdout",
     "output_type": "stream",
     "text": [
      "\n",
      "cell ID =  1453 progress bar below: (n/N frames):\n"
     ]
    },
    {
     "data": {
      "application/vnd.jupyter.widget-view+json": {
       "model_id": "f6d203ca709146f8907279bc1a7faef3",
       "version_major": 2,
       "version_minor": 0
      },
      "text/plain": [
       "HBox(children=(FloatProgress(value=0.0, max=3.0), HTML(value='')))"
      ]
     },
     "metadata": {},
     "output_type": "display_data"
    },
    {
     "name": "stdout",
     "output_type": "stream",
     "text": [
      "\n",
      "cell ID =  1459 progress bar below: (n/N frames):\n"
     ]
    },
    {
     "data": {
      "application/vnd.jupyter.widget-view+json": {
       "model_id": "131af2e3c1ab49c0be89aea5d24d280a",
       "version_major": 2,
       "version_minor": 0
      },
      "text/plain": [
       "HBox(children=(FloatProgress(value=0.0, max=179.0), HTML(value='')))"
      ]
     },
     "metadata": {},
     "output_type": "display_data"
    },
    {
     "name": "stdout",
     "output_type": "stream",
     "text": [
      "\n",
      "cell ID =  1464 progress bar below: (n/N frames):\n"
     ]
    },
    {
     "data": {
      "application/vnd.jupyter.widget-view+json": {
       "model_id": "5434457262f842c3b6fc77d487c8e0b9",
       "version_major": 2,
       "version_minor": 0
      },
      "text/plain": [
       "HBox(children=(FloatProgress(value=0.0, max=383.0), HTML(value='')))"
      ]
     },
     "metadata": {},
     "output_type": "display_data"
    },
    {
     "name": "stdout",
     "output_type": "stream",
     "text": [
      "\n",
      "cell ID =  1463 progress bar below: (n/N frames):\n"
     ]
    },
    {
     "data": {
      "application/vnd.jupyter.widget-view+json": {
       "model_id": "ffcea394c03347aebba054ce6fa8e86a",
       "version_major": 2,
       "version_minor": 0
      },
      "text/plain": [
       "HBox(children=(FloatProgress(value=0.0, max=11.0), HTML(value='')))"
      ]
     },
     "metadata": {},
     "output_type": "display_data"
    },
    {
     "name": "stdout",
     "output_type": "stream",
     "text": [
      "\n",
      "cell ID =  1462 progress bar below: (n/N frames):\n"
     ]
    },
    {
     "data": {
      "application/vnd.jupyter.widget-view+json": {
       "model_id": "ea49ffccccae42438dd6f941864de348",
       "version_major": 2,
       "version_minor": 0
      },
      "text/plain": [
       "HBox(children=(FloatProgress(value=0.0, max=4.0), HTML(value='')))"
      ]
     },
     "metadata": {},
     "output_type": "display_data"
    },
    {
     "name": "stdout",
     "output_type": "stream",
     "text": [
      "\n",
      "cell ID =  1466 progress bar below: (n/N frames):\n"
     ]
    },
    {
     "data": {
      "application/vnd.jupyter.widget-view+json": {
       "model_id": "f6bcdc06d73741ec88b26b6aa024fa86",
       "version_major": 2,
       "version_minor": 0
      },
      "text/plain": [
       "HBox(children=(FloatProgress(value=0.0, max=382.0), HTML(value='')))"
      ]
     },
     "metadata": {},
     "output_type": "display_data"
    },
    {
     "name": "stdout",
     "output_type": "stream",
     "text": [
      "\n",
      "cell ID =  1468 progress bar below: (n/N frames):\n"
     ]
    },
    {
     "data": {
      "application/vnd.jupyter.widget-view+json": {
       "model_id": "cfbc38210ca442db82ced356fddb71cc",
       "version_major": 2,
       "version_minor": 0
      },
      "text/plain": [
       "HBox(children=(FloatProgress(value=0.0, max=382.0), HTML(value='')))"
      ]
     },
     "metadata": {},
     "output_type": "display_data"
    },
    {
     "name": "stdout",
     "output_type": "stream",
     "text": [
      "\n",
      "cell ID =  1470 progress bar below: (n/N frames):\n"
     ]
    },
    {
     "data": {
      "application/vnd.jupyter.widget-view+json": {
       "model_id": "7ba1c514ed74462991185f57fa657bf8",
       "version_major": 2,
       "version_minor": 0
      },
      "text/plain": [
       "HBox(children=(FloatProgress(value=0.0, max=381.0), HTML(value='')))"
      ]
     },
     "metadata": {},
     "output_type": "display_data"
    },
    {
     "name": "stdout",
     "output_type": "stream",
     "text": [
      "\n",
      "cell ID =  1469 progress bar below: (n/N frames):\n"
     ]
    },
    {
     "data": {
      "application/vnd.jupyter.widget-view+json": {
       "model_id": "5fb223ebc2c648958a17c4cadcf2e0b5",
       "version_major": 2,
       "version_minor": 0
      },
      "text/plain": [
       "HBox(children=(FloatProgress(value=0.0, max=11.0), HTML(value='')))"
      ]
     },
     "metadata": {},
     "output_type": "display_data"
    },
    {
     "name": "stdout",
     "output_type": "stream",
     "text": [
      "\n",
      "cell ID =  1472 progress bar below: (n/N frames):\n"
     ]
    },
    {
     "data": {
      "application/vnd.jupyter.widget-view+json": {
       "model_id": "1c5d1c3483804075af1d34d428b1bc9c",
       "version_major": 2,
       "version_minor": 0
      },
      "text/plain": [
       "HBox(children=(FloatProgress(value=0.0, max=4.0), HTML(value='')))"
      ]
     },
     "metadata": {},
     "output_type": "display_data"
    },
    {
     "name": "stdout",
     "output_type": "stream",
     "text": [
      "\n",
      "cell ID =  1473 progress bar below: (n/N frames):\n"
     ]
    },
    {
     "data": {
      "application/vnd.jupyter.widget-view+json": {
       "model_id": "1b44ca5c7dca4d808cfe6659c6b92581",
       "version_major": 2,
       "version_minor": 0
      },
      "text/plain": [
       "HBox(children=(FloatProgress(value=0.0, max=379.0), HTML(value='')))"
      ]
     },
     "metadata": {},
     "output_type": "display_data"
    },
    {
     "name": "stdout",
     "output_type": "stream",
     "text": [
      "\n",
      "cell ID =  1475 progress bar below: (n/N frames):\n"
     ]
    },
    {
     "data": {
      "application/vnd.jupyter.widget-view+json": {
       "model_id": "0fd48cccd8ca47fc9cb7e98c6d65aaac",
       "version_major": 2,
       "version_minor": 0
      },
      "text/plain": [
       "HBox(children=(FloatProgress(value=0.0, max=19.0), HTML(value='')))"
      ]
     },
     "metadata": {},
     "output_type": "display_data"
    },
    {
     "name": "stdout",
     "output_type": "stream",
     "text": [
      "\n",
      "cell ID =  1481 progress bar below: (n/N frames):\n"
     ]
    },
    {
     "data": {
      "application/vnd.jupyter.widget-view+json": {
       "model_id": "d01ab729c7ab42db86463ff09090f299",
       "version_major": 2,
       "version_minor": 0
      },
      "text/plain": [
       "HBox(children=(FloatProgress(value=0.0, max=4.0), HTML(value='')))"
      ]
     },
     "metadata": {},
     "output_type": "display_data"
    },
    {
     "name": "stdout",
     "output_type": "stream",
     "text": [
      "\n",
      "cell ID =  1479 progress bar below: (n/N frames):\n"
     ]
    },
    {
     "data": {
      "application/vnd.jupyter.widget-view+json": {
       "model_id": "0c76fcde42894dc1a24ac27efd081eee",
       "version_major": 2,
       "version_minor": 0
      },
      "text/plain": [
       "HBox(children=(FloatProgress(value=0.0, max=2.0), HTML(value='')))"
      ]
     },
     "metadata": {},
     "output_type": "display_data"
    },
    {
     "name": "stdout",
     "output_type": "stream",
     "text": [
      "\n",
      "cell ID =  1482 progress bar below: (n/N frames):\n"
     ]
    },
    {
     "data": {
      "application/vnd.jupyter.widget-view+json": {
       "model_id": "4514ee430a3d449c9331f2b58f33af96",
       "version_major": 2,
       "version_minor": 0
      },
      "text/plain": [
       "HBox(children=(FloatProgress(value=0.0, max=7.0), HTML(value='')))"
      ]
     },
     "metadata": {},
     "output_type": "display_data"
    },
    {
     "name": "stdout",
     "output_type": "stream",
     "text": [
      "\n",
      "cell ID =  1483 progress bar below: (n/N frames):\n"
     ]
    },
    {
     "data": {
      "application/vnd.jupyter.widget-view+json": {
       "model_id": "934d4cc942224da8801554a090513534",
       "version_major": 2,
       "version_minor": 0
      },
      "text/plain": [
       "HBox(children=(FloatProgress(value=0.0, max=376.0), HTML(value='')))"
      ]
     },
     "metadata": {},
     "output_type": "display_data"
    },
    {
     "name": "stdout",
     "output_type": "stream",
     "text": [
      "\n",
      "cell ID =  1484 progress bar below: (n/N frames):\n"
     ]
    },
    {
     "data": {
      "application/vnd.jupyter.widget-view+json": {
       "model_id": "1bd5b40a1de744cebb19afb6ad19d8ab",
       "version_major": 2,
       "version_minor": 0
      },
      "text/plain": [
       "HBox(children=(FloatProgress(value=0.0, max=376.0), HTML(value='')))"
      ]
     },
     "metadata": {},
     "output_type": "display_data"
    },
    {
     "name": "stdout",
     "output_type": "stream",
     "text": [
      "\n",
      "cell ID =  1490 progress bar below: (n/N frames):\n"
     ]
    },
    {
     "data": {
      "application/vnd.jupyter.widget-view+json": {
       "model_id": "33cb0aae559943a38665fcf7e15f420b",
       "version_major": 2,
       "version_minor": 0
      },
      "text/plain": [
       "HBox(children=(FloatProgress(value=0.0, max=373.0), HTML(value='')))"
      ]
     },
     "metadata": {},
     "output_type": "display_data"
    },
    {
     "name": "stdout",
     "output_type": "stream",
     "text": [
      "\n",
      "cell ID =  1494 progress bar below: (n/N frames):\n"
     ]
    },
    {
     "data": {
      "application/vnd.jupyter.widget-view+json": {
       "model_id": "92f71c8c421447abae884d7c7eebdce6",
       "version_major": 2,
       "version_minor": 0
      },
      "text/plain": [
       "HBox(children=(FloatProgress(value=0.0, max=372.0), HTML(value='')))"
      ]
     },
     "metadata": {},
     "output_type": "display_data"
    },
    {
     "name": "stdout",
     "output_type": "stream",
     "text": [
      "\n",
      "cell ID =  1496 progress bar below: (n/N frames):\n"
     ]
    },
    {
     "data": {
      "application/vnd.jupyter.widget-view+json": {
       "model_id": "23813af1e33c40718af140b25c1859f4",
       "version_major": 2,
       "version_minor": 0
      },
      "text/plain": [
       "HBox(children=(FloatProgress(value=0.0, max=14.0), HTML(value='')))"
      ]
     },
     "metadata": {},
     "output_type": "display_data"
    },
    {
     "name": "stdout",
     "output_type": "stream",
     "text": [
      "\n",
      "cell ID =  1495 progress bar below: (n/N frames):\n"
     ]
    },
    {
     "data": {
      "application/vnd.jupyter.widget-view+json": {
       "model_id": "54236958cad6443397573cf659cd8d3d",
       "version_major": 2,
       "version_minor": 0
      },
      "text/plain": [
       "HBox(children=(FloatProgress(value=0.0, max=7.0), HTML(value='')))"
      ]
     },
     "metadata": {},
     "output_type": "display_data"
    },
    {
     "name": "stdout",
     "output_type": "stream",
     "text": [
      "\n",
      "cell ID =  1497 progress bar below: (n/N frames):\n"
     ]
    },
    {
     "data": {
      "application/vnd.jupyter.widget-view+json": {
       "model_id": "292d91e129c64617a1ba819acb9023b4",
       "version_major": 2,
       "version_minor": 0
      },
      "text/plain": [
       "HBox(children=(FloatProgress(value=0.0, max=151.0), HTML(value='')))"
      ]
     },
     "metadata": {},
     "output_type": "display_data"
    },
    {
     "name": "stdout",
     "output_type": "stream",
     "text": [
      "\n",
      "cell ID =  1498 progress bar below: (n/N frames):\n"
     ]
    },
    {
     "data": {
      "application/vnd.jupyter.widget-view+json": {
       "model_id": "3f3172c16b1640068e28ce5ab2fbf277",
       "version_major": 2,
       "version_minor": 0
      },
      "text/plain": [
       "HBox(children=(FloatProgress(value=0.0, max=3.0), HTML(value='')))"
      ]
     },
     "metadata": {},
     "output_type": "display_data"
    },
    {
     "name": "stdout",
     "output_type": "stream",
     "text": [
      "\n",
      "cell ID =  1500 progress bar below: (n/N frames):\n"
     ]
    },
    {
     "data": {
      "application/vnd.jupyter.widget-view+json": {
       "model_id": "f5901975750e488e86a21aad13ef1f9e",
       "version_major": 2,
       "version_minor": 0
      },
      "text/plain": [
       "HBox(children=(FloatProgress(value=0.0, max=6.0), HTML(value='')))"
      ]
     },
     "metadata": {},
     "output_type": "display_data"
    },
    {
     "name": "stdout",
     "output_type": "stream",
     "text": [
      "\n",
      "cell ID =  1501 progress bar below: (n/N frames):\n"
     ]
    },
    {
     "data": {
      "application/vnd.jupyter.widget-view+json": {
       "model_id": "d21f2fd4c6714b10886cf0581c8ad533",
       "version_major": 2,
       "version_minor": 0
      },
      "text/plain": [
       "HBox(children=(FloatProgress(value=0.0, max=3.0), HTML(value='')))"
      ]
     },
     "metadata": {},
     "output_type": "display_data"
    },
    {
     "name": "stdout",
     "output_type": "stream",
     "text": [
      "\n",
      "cell ID =  1504 progress bar below: (n/N frames):\n"
     ]
    },
    {
     "data": {
      "application/vnd.jupyter.widget-view+json": {
       "model_id": "fb591d5b7ca1440587cd77aa6b54c3dc",
       "version_major": 2,
       "version_minor": 0
      },
      "text/plain": [
       "HBox(children=(FloatProgress(value=0.0, max=135.0), HTML(value='')))"
      ]
     },
     "metadata": {},
     "output_type": "display_data"
    },
    {
     "name": "stdout",
     "output_type": "stream",
     "text": [
      "\n",
      "cell ID =  1505 progress bar below: (n/N frames):\n"
     ]
    },
    {
     "data": {
      "application/vnd.jupyter.widget-view+json": {
       "model_id": "66044722a2ef46d08fb1d957370e6f1d",
       "version_major": 2,
       "version_minor": 0
      },
      "text/plain": [
       "HBox(children=(FloatProgress(value=0.0, max=228.0), HTML(value='')))"
      ]
     },
     "metadata": {},
     "output_type": "display_data"
    },
    {
     "name": "stdout",
     "output_type": "stream",
     "text": [
      "\n",
      "cell ID =  1506 progress bar below: (n/N frames):\n"
     ]
    },
    {
     "data": {
      "application/vnd.jupyter.widget-view+json": {
       "model_id": "5c34681e33ca404fad0e6a79e9f6028c",
       "version_major": 2,
       "version_minor": 0
      },
      "text/plain": [
       "HBox(children=(FloatProgress(value=0.0, max=20.0), HTML(value='')))"
      ]
     },
     "metadata": {},
     "output_type": "display_data"
    },
    {
     "name": "stdout",
     "output_type": "stream",
     "text": [
      "\n",
      "cell ID =  1509 progress bar below: (n/N frames):\n"
     ]
    },
    {
     "data": {
      "application/vnd.jupyter.widget-view+json": {
       "model_id": "8bb1e710b0ac41f3af8e989fd2d7a304",
       "version_major": 2,
       "version_minor": 0
      },
      "text/plain": [
       "HBox(children=(FloatProgress(value=0.0, max=10.0), HTML(value='')))"
      ]
     },
     "metadata": {},
     "output_type": "display_data"
    },
    {
     "name": "stdout",
     "output_type": "stream",
     "text": [
      "\n",
      "cell ID =  1512 progress bar below: (n/N frames):\n"
     ]
    },
    {
     "data": {
      "application/vnd.jupyter.widget-view+json": {
       "model_id": "a674a901977d458d8df06c48c44fd82e",
       "version_major": 2,
       "version_minor": 0
      },
      "text/plain": [
       "HBox(children=(FloatProgress(value=0.0, max=3.0), HTML(value='')))"
      ]
     },
     "metadata": {},
     "output_type": "display_data"
    },
    {
     "name": "stdout",
     "output_type": "stream",
     "text": [
      "\n",
      "cell ID =  1515 progress bar below: (n/N frames):\n"
     ]
    },
    {
     "data": {
      "application/vnd.jupyter.widget-view+json": {
       "model_id": "258863caa7bb4fca895b84409c1dc51e",
       "version_major": 2,
       "version_minor": 0
      },
      "text/plain": [
       "HBox(children=(FloatProgress(value=0.0, max=366.0), HTML(value='')))"
      ]
     },
     "metadata": {},
     "output_type": "display_data"
    },
    {
     "name": "stdout",
     "output_type": "stream",
     "text": [
      "\n",
      "cell ID =  1517 progress bar below: (n/N frames):\n"
     ]
    },
    {
     "data": {
      "application/vnd.jupyter.widget-view+json": {
       "model_id": "f8994737d3914c76ac28af983091d6df",
       "version_major": 2,
       "version_minor": 0
      },
      "text/plain": [
       "HBox(children=(FloatProgress(value=0.0, max=9.0), HTML(value='')))"
      ]
     },
     "metadata": {},
     "output_type": "display_data"
    },
    {
     "name": "stdout",
     "output_type": "stream",
     "text": [
      "\n",
      "cell ID =  1522 progress bar below: (n/N frames):\n"
     ]
    },
    {
     "data": {
      "application/vnd.jupyter.widget-view+json": {
       "model_id": "d1fbb777d34b4361a1d1d703a8d3aa26",
       "version_major": 2,
       "version_minor": 0
      },
      "text/plain": [
       "HBox(children=(FloatProgress(value=0.0, max=7.0), HTML(value='')))"
      ]
     },
     "metadata": {},
     "output_type": "display_data"
    },
    {
     "name": "stdout",
     "output_type": "stream",
     "text": [
      "\n",
      "cell ID =  1527 progress bar below: (n/N frames):\n"
     ]
    },
    {
     "data": {
      "application/vnd.jupyter.widget-view+json": {
       "model_id": "164251bfc51140bf8943c12b29813523",
       "version_major": 2,
       "version_minor": 0
      },
      "text/plain": [
       "HBox(children=(FloatProgress(value=0.0, max=4.0), HTML(value='')))"
      ]
     },
     "metadata": {},
     "output_type": "display_data"
    },
    {
     "name": "stdout",
     "output_type": "stream",
     "text": [
      "\n",
      "cell ID =  1528 progress bar below: (n/N frames):\n"
     ]
    },
    {
     "data": {
      "application/vnd.jupyter.widget-view+json": {
       "model_id": "406ad461a35e49378f5ddea55a262b36",
       "version_major": 2,
       "version_minor": 0
      },
      "text/plain": [
       "HBox(children=(FloatProgress(value=0.0, max=9.0), HTML(value='')))"
      ]
     },
     "metadata": {},
     "output_type": "display_data"
    },
    {
     "name": "stdout",
     "output_type": "stream",
     "text": [
      "\n",
      "cell ID =  1531 progress bar below: (n/N frames):\n"
     ]
    },
    {
     "data": {
      "application/vnd.jupyter.widget-view+json": {
       "model_id": "17fb4b6b8f1740748ac873ef8d20c8d1",
       "version_major": 2,
       "version_minor": 0
      },
      "text/plain": [
       "HBox(children=(FloatProgress(value=0.0, max=83.0), HTML(value='')))"
      ]
     },
     "metadata": {},
     "output_type": "display_data"
    },
    {
     "name": "stdout",
     "output_type": "stream",
     "text": [
      "\n",
      "cell ID =  1532 progress bar below: (n/N frames):\n"
     ]
    },
    {
     "data": {
      "application/vnd.jupyter.widget-view+json": {
       "model_id": "0cc259d54c3748a28267b726a50214d7",
       "version_major": 2,
       "version_minor": 0
      },
      "text/plain": [
       "HBox(children=(FloatProgress(value=0.0, max=16.0), HTML(value='')))"
      ]
     },
     "metadata": {},
     "output_type": "display_data"
    },
    {
     "name": "stdout",
     "output_type": "stream",
     "text": [
      "\n",
      "cell ID =  1533 progress bar below: (n/N frames):\n"
     ]
    },
    {
     "data": {
      "application/vnd.jupyter.widget-view+json": {
       "model_id": "29ae84fd82054f558761f496c2ade897",
       "version_major": 2,
       "version_minor": 0
      },
      "text/plain": [
       "HBox(children=(FloatProgress(value=0.0, max=43.0), HTML(value='')))"
      ]
     },
     "metadata": {},
     "output_type": "display_data"
    },
    {
     "name": "stdout",
     "output_type": "stream",
     "text": [
      "\n",
      "cell ID =  1534 progress bar below: (n/N frames):\n"
     ]
    },
    {
     "data": {
      "application/vnd.jupyter.widget-view+json": {
       "model_id": "661ffef425ea42649aa7fa87886fe89d",
       "version_major": 2,
       "version_minor": 0
      },
      "text/plain": [
       "HBox(children=(FloatProgress(value=0.0, max=358.0), HTML(value='')))"
      ]
     },
     "metadata": {},
     "output_type": "display_data"
    },
    {
     "name": "stdout",
     "output_type": "stream",
     "text": [
      "\n",
      "cell ID =  1536 progress bar below: (n/N frames):\n"
     ]
    },
    {
     "data": {
      "application/vnd.jupyter.widget-view+json": {
       "model_id": "a9e1c0fadcbb46fba3ac9f1c55080294",
       "version_major": 2,
       "version_minor": 0
      },
      "text/plain": [
       "HBox(children=(FloatProgress(value=0.0, max=6.0), HTML(value='')))"
      ]
     },
     "metadata": {},
     "output_type": "display_data"
    },
    {
     "name": "stdout",
     "output_type": "stream",
     "text": [
      "\n",
      "cell ID =  1541 progress bar below: (n/N frames):\n"
     ]
    },
    {
     "data": {
      "application/vnd.jupyter.widget-view+json": {
       "model_id": "f14f5263830e44599cd0a82988c1a11f",
       "version_major": 2,
       "version_minor": 0
      },
      "text/plain": [
       "HBox(children=(FloatProgress(value=0.0, max=356.0), HTML(value='')))"
      ]
     },
     "metadata": {},
     "output_type": "display_data"
    },
    {
     "name": "stdout",
     "output_type": "stream",
     "text": [
      "\n",
      "cell ID =  1542 progress bar below: (n/N frames):\n"
     ]
    },
    {
     "data": {
      "application/vnd.jupyter.widget-view+json": {
       "model_id": "645bb403b8d8414ca4623e6a599de957",
       "version_major": 2,
       "version_minor": 0
      },
      "text/plain": [
       "HBox(children=(FloatProgress(value=0.0, max=10.0), HTML(value='')))"
      ]
     },
     "metadata": {},
     "output_type": "display_data"
    },
    {
     "name": "stdout",
     "output_type": "stream",
     "text": [
      "\n",
      "cell ID =  1544 progress bar below: (n/N frames):\n"
     ]
    },
    {
     "data": {
      "application/vnd.jupyter.widget-view+json": {
       "model_id": "ea937fe2eaa44c85983f348efbc5a579",
       "version_major": 2,
       "version_minor": 0
      },
      "text/plain": [
       "HBox(children=(FloatProgress(value=0.0, max=355.0), HTML(value='')))"
      ]
     },
     "metadata": {},
     "output_type": "display_data"
    },
    {
     "name": "stdout",
     "output_type": "stream",
     "text": [
      "\n",
      "cell ID =  1545 progress bar below: (n/N frames):\n"
     ]
    },
    {
     "data": {
      "application/vnd.jupyter.widget-view+json": {
       "model_id": "0aa393ef5b9b467aa38c34736c0922f9",
       "version_major": 2,
       "version_minor": 0
      },
      "text/plain": [
       "HBox(children=(FloatProgress(value=0.0, max=354.0), HTML(value='')))"
      ]
     },
     "metadata": {},
     "output_type": "display_data"
    },
    {
     "name": "stdout",
     "output_type": "stream",
     "text": [
      "\n",
      "cell ID =  1546 progress bar below: (n/N frames):\n"
     ]
    },
    {
     "data": {
      "application/vnd.jupyter.widget-view+json": {
       "model_id": "8d964e225aa5405c812c3da3454cc503",
       "version_major": 2,
       "version_minor": 0
      },
      "text/plain": [
       "HBox(children=(FloatProgress(value=0.0, max=354.0), HTML(value='')))"
      ]
     },
     "metadata": {},
     "output_type": "display_data"
    },
    {
     "name": "stdout",
     "output_type": "stream",
     "text": [
      "\n",
      "cell ID =  1548 progress bar below: (n/N frames):\n"
     ]
    },
    {
     "data": {
      "application/vnd.jupyter.widget-view+json": {
       "model_id": "cb304c5b1a87425bac7d90f39fa87883",
       "version_major": 2,
       "version_minor": 0
      },
      "text/plain": [
       "HBox(children=(FloatProgress(value=0.0, max=5.0), HTML(value='')))"
      ]
     },
     "metadata": {},
     "output_type": "display_data"
    },
    {
     "name": "stdout",
     "output_type": "stream",
     "text": [
      "\n",
      "cell ID =  1556 progress bar below: (n/N frames):\n"
     ]
    },
    {
     "data": {
      "application/vnd.jupyter.widget-view+json": {
       "model_id": "8da0a86e151342c587f006241a344f7c",
       "version_major": 2,
       "version_minor": 0
      },
      "text/plain": [
       "HBox(children=(FloatProgress(value=0.0, max=349.0), HTML(value='')))"
      ]
     },
     "metadata": {},
     "output_type": "display_data"
    },
    {
     "name": "stdout",
     "output_type": "stream",
     "text": [
      "\n",
      "cell ID =  1557 progress bar below: (n/N frames):\n"
     ]
    },
    {
     "data": {
      "application/vnd.jupyter.widget-view+json": {
       "model_id": "54a3b65422464a04a47a2a6fc08c6a8f",
       "version_major": 2,
       "version_minor": 0
      },
      "text/plain": [
       "HBox(children=(FloatProgress(value=0.0, max=2.0), HTML(value='')))"
      ]
     },
     "metadata": {},
     "output_type": "display_data"
    },
    {
     "name": "stdout",
     "output_type": "stream",
     "text": [
      "\n",
      "cell ID =  1558 progress bar below: (n/N frames):\n"
     ]
    },
    {
     "data": {
      "application/vnd.jupyter.widget-view+json": {
       "model_id": "c33b9a422e9d42ea8d04bba6ea2aec4e",
       "version_major": 2,
       "version_minor": 0
      },
      "text/plain": [
       "HBox(children=(FloatProgress(value=0.0, max=348.0), HTML(value='')))"
      ]
     },
     "metadata": {},
     "output_type": "display_data"
    },
    {
     "name": "stdout",
     "output_type": "stream",
     "text": [
      "\n",
      "cell ID =  1560 progress bar below: (n/N frames):\n"
     ]
    },
    {
     "data": {
      "application/vnd.jupyter.widget-view+json": {
       "model_id": "e8fcc2cfa32046c8b19d42c6db0713d2",
       "version_major": 2,
       "version_minor": 0
      },
      "text/plain": [
       "HBox(children=(FloatProgress(value=0.0, max=9.0), HTML(value='')))"
      ]
     },
     "metadata": {},
     "output_type": "display_data"
    },
    {
     "name": "stdout",
     "output_type": "stream",
     "text": [
      "\n",
      "cell ID =  1562 progress bar below: (n/N frames):\n"
     ]
    },
    {
     "data": {
      "application/vnd.jupyter.widget-view+json": {
       "model_id": "c318be0edd694bd0b1ff8453718734e1",
       "version_major": 2,
       "version_minor": 0
      },
      "text/plain": [
       "HBox(children=(FloatProgress(value=0.0, max=10.0), HTML(value='')))"
      ]
     },
     "metadata": {},
     "output_type": "display_data"
    },
    {
     "name": "stdout",
     "output_type": "stream",
     "text": [
      "\n",
      "cell ID =  1570 progress bar below: (n/N frames):\n"
     ]
    },
    {
     "data": {
      "application/vnd.jupyter.widget-view+json": {
       "model_id": "63a7a9dafb1748529bb06472a3da2f3b",
       "version_major": 2,
       "version_minor": 0
      },
      "text/plain": [
       "HBox(children=(FloatProgress(value=0.0, max=4.0), HTML(value='')))"
      ]
     },
     "metadata": {},
     "output_type": "display_data"
    },
    {
     "name": "stdout",
     "output_type": "stream",
     "text": [
      "\n",
      "cell ID =  1569 progress bar below: (n/N frames):\n"
     ]
    },
    {
     "data": {
      "application/vnd.jupyter.widget-view+json": {
       "model_id": "7eb5a01f24f74432a1b40cb07be6140b",
       "version_major": 2,
       "version_minor": 0
      },
      "text/plain": [
       "HBox(children=(FloatProgress(value=0.0, max=346.0), HTML(value='')))"
      ]
     },
     "metadata": {},
     "output_type": "display_data"
    },
    {
     "name": "stdout",
     "output_type": "stream",
     "text": [
      "\n",
      "cell ID =  1568 progress bar below: (n/N frames):\n"
     ]
    },
    {
     "data": {
      "application/vnd.jupyter.widget-view+json": {
       "model_id": "13e76d16caec4d4ea8909343cda89f11",
       "version_major": 2,
       "version_minor": 0
      },
      "text/plain": [
       "HBox(children=(FloatProgress(value=0.0, max=41.0), HTML(value='')))"
      ]
     },
     "metadata": {},
     "output_type": "display_data"
    },
    {
     "name": "stdout",
     "output_type": "stream",
     "text": [
      "\n",
      "cell ID =  1564 progress bar below: (n/N frames):\n"
     ]
    },
    {
     "data": {
      "application/vnd.jupyter.widget-view+json": {
       "model_id": "66d39b73f1af4996b844bb57e3ed764e",
       "version_major": 2,
       "version_minor": 0
      },
      "text/plain": [
       "HBox(children=(FloatProgress(value=0.0, max=346.0), HTML(value='')))"
      ]
     },
     "metadata": {},
     "output_type": "display_data"
    },
    {
     "name": "stdout",
     "output_type": "stream",
     "text": [
      "\n",
      "cell ID =  1561 progress bar below: (n/N frames):\n"
     ]
    },
    {
     "data": {
      "application/vnd.jupyter.widget-view+json": {
       "model_id": "a97c40e5ec0f40a2ac97aba4e18ca27d",
       "version_major": 2,
       "version_minor": 0
      },
      "text/plain": [
       "HBox(children=(FloatProgress(value=0.0, max=3.0), HTML(value='')))"
      ]
     },
     "metadata": {},
     "output_type": "display_data"
    },
    {
     "name": "stdout",
     "output_type": "stream",
     "text": [
      "\n",
      "cell ID =  1566 progress bar below: (n/N frames):\n"
     ]
    },
    {
     "data": {
      "application/vnd.jupyter.widget-view+json": {
       "model_id": "bd238de3374e4cd381c832c8daf052f2",
       "version_major": 2,
       "version_minor": 0
      },
      "text/plain": [
       "HBox(children=(FloatProgress(value=0.0, max=3.0), HTML(value='')))"
      ]
     },
     "metadata": {},
     "output_type": "display_data"
    },
    {
     "name": "stdout",
     "output_type": "stream",
     "text": [
      "\n",
      "cell ID =  1572 progress bar below: (n/N frames):\n"
     ]
    },
    {
     "data": {
      "application/vnd.jupyter.widget-view+json": {
       "model_id": "c269c320389b46169dbbaafbac11b0b9",
       "version_major": 2,
       "version_minor": 0
      },
      "text/plain": [
       "HBox(children=(FloatProgress(value=0.0, max=345.0), HTML(value='')))"
      ]
     },
     "metadata": {},
     "output_type": "display_data"
    },
    {
     "name": "stdout",
     "output_type": "stream",
     "text": [
      "\n",
      "cell ID =  1573 progress bar below: (n/N frames):\n"
     ]
    },
    {
     "data": {
      "application/vnd.jupyter.widget-view+json": {
       "model_id": "813653e82a6d4e288d6179aff094017b",
       "version_major": 2,
       "version_minor": 0
      },
      "text/plain": [
       "HBox(children=(FloatProgress(value=0.0, max=345.0), HTML(value='')))"
      ]
     },
     "metadata": {},
     "output_type": "display_data"
    },
    {
     "name": "stdout",
     "output_type": "stream",
     "text": [
      "\n",
      "cell ID =  1574 progress bar below: (n/N frames):\n"
     ]
    },
    {
     "data": {
      "application/vnd.jupyter.widget-view+json": {
       "model_id": "ea2a06be0cbd4094a61da986fe04a26d",
       "version_major": 2,
       "version_minor": 0
      },
      "text/plain": [
       "HBox(children=(FloatProgress(value=0.0, max=345.0), HTML(value='')))"
      ]
     },
     "metadata": {},
     "output_type": "display_data"
    },
    {
     "name": "stdout",
     "output_type": "stream",
     "text": [
      "\n",
      "cell ID =  1579 progress bar below: (n/N frames):\n"
     ]
    },
    {
     "data": {
      "application/vnd.jupyter.widget-view+json": {
       "model_id": "1d760d372243412e8197285b6fecf2f7",
       "version_major": 2,
       "version_minor": 0
      },
      "text/plain": [
       "HBox(children=(FloatProgress(value=0.0, max=4.0), HTML(value='')))"
      ]
     },
     "metadata": {},
     "output_type": "display_data"
    },
    {
     "name": "stdout",
     "output_type": "stream",
     "text": [
      "\n",
      "cell ID =  1583 progress bar below: (n/N frames):\n"
     ]
    },
    {
     "data": {
      "application/vnd.jupyter.widget-view+json": {
       "model_id": "bee005c94a4a4710a55a28a61f8eddb5",
       "version_major": 2,
       "version_minor": 0
      },
      "text/plain": [
       "HBox(children=(FloatProgress(value=0.0, max=117.0), HTML(value='')))"
      ]
     },
     "metadata": {},
     "output_type": "display_data"
    },
    {
     "name": "stdout",
     "output_type": "stream",
     "text": [
      "\n",
      "cell ID =  1587 progress bar below: (n/N frames):\n"
     ]
    },
    {
     "data": {
      "application/vnd.jupyter.widget-view+json": {
       "model_id": "5c3225d393144563bea6951a01cb6511",
       "version_major": 2,
       "version_minor": 0
      },
      "text/plain": [
       "HBox(children=(FloatProgress(value=0.0, max=2.0), HTML(value='')))"
      ]
     },
     "metadata": {},
     "output_type": "display_data"
    },
    {
     "name": "stdout",
     "output_type": "stream",
     "text": [
      "\n",
      "cell ID =  1588 progress bar below: (n/N frames):\n"
     ]
    },
    {
     "data": {
      "application/vnd.jupyter.widget-view+json": {
       "model_id": "72ad9d9e64cf4af7bd8528ea3eca7619",
       "version_major": 2,
       "version_minor": 0
      },
      "text/plain": [
       "HBox(children=(FloatProgress(value=0.0, max=339.0), HTML(value='')))"
      ]
     },
     "metadata": {},
     "output_type": "display_data"
    },
    {
     "name": "stdout",
     "output_type": "stream",
     "text": [
      "\n",
      "cell ID =  1593 progress bar below: (n/N frames):\n"
     ]
    },
    {
     "data": {
      "application/vnd.jupyter.widget-view+json": {
       "model_id": "93b2c370cb6e42c6aac874b9bcc403f3",
       "version_major": 2,
       "version_minor": 0
      },
      "text/plain": [
       "HBox(children=(FloatProgress(value=0.0, max=3.0), HTML(value='')))"
      ]
     },
     "metadata": {},
     "output_type": "display_data"
    },
    {
     "name": "stdout",
     "output_type": "stream",
     "text": [
      "\n",
      "cell ID =  1592 progress bar below: (n/N frames):\n"
     ]
    },
    {
     "data": {
      "application/vnd.jupyter.widget-view+json": {
       "model_id": "41c373bedea24f8f9a729952bc462e50",
       "version_major": 2,
       "version_minor": 0
      },
      "text/plain": [
       "HBox(children=(FloatProgress(value=0.0, max=6.0), HTML(value='')))"
      ]
     },
     "metadata": {},
     "output_type": "display_data"
    },
    {
     "name": "stdout",
     "output_type": "stream",
     "text": [
      "\n",
      "cell ID =  1590 progress bar below: (n/N frames):\n"
     ]
    },
    {
     "data": {
      "application/vnd.jupyter.widget-view+json": {
       "model_id": "5c98a3f837114c2e9bfe48d92d11b5cd",
       "version_major": 2,
       "version_minor": 0
      },
      "text/plain": [
       "HBox(children=(FloatProgress(value=0.0, max=338.0), HTML(value='')))"
      ]
     },
     "metadata": {},
     "output_type": "display_data"
    },
    {
     "name": "stdout",
     "output_type": "stream",
     "text": [
      "\n",
      "cell ID =  1591 progress bar below: (n/N frames):\n"
     ]
    },
    {
     "data": {
      "application/vnd.jupyter.widget-view+json": {
       "model_id": "d0ce0cee334e4a4297d5d3b19b86f6f2",
       "version_major": 2,
       "version_minor": 0
      },
      "text/plain": [
       "HBox(children=(FloatProgress(value=0.0, max=2.0), HTML(value='')))"
      ]
     },
     "metadata": {},
     "output_type": "display_data"
    },
    {
     "name": "stdout",
     "output_type": "stream",
     "text": [
      "\n",
      "cell ID =  1595 progress bar below: (n/N frames):\n"
     ]
    },
    {
     "data": {
      "application/vnd.jupyter.widget-view+json": {
       "model_id": "5972746171d6476696895b84e22861d3",
       "version_major": 2,
       "version_minor": 0
      },
      "text/plain": [
       "HBox(children=(FloatProgress(value=0.0, max=2.0), HTML(value='')))"
      ]
     },
     "metadata": {},
     "output_type": "display_data"
    },
    {
     "name": "stdout",
     "output_type": "stream",
     "text": [
      "\n",
      "cell ID =  1594 progress bar below: (n/N frames):\n"
     ]
    },
    {
     "data": {
      "application/vnd.jupyter.widget-view+json": {
       "model_id": "b60ca322507649eeab8a4fbe5a1dcd64",
       "version_major": 2,
       "version_minor": 0
      },
      "text/plain": [
       "HBox(children=(FloatProgress(value=0.0, max=26.0), HTML(value='')))"
      ]
     },
     "metadata": {},
     "output_type": "display_data"
    },
    {
     "name": "stdout",
     "output_type": "stream",
     "text": [
      "\n",
      "cell ID =  1597 progress bar below: (n/N frames):\n"
     ]
    },
    {
     "data": {
      "application/vnd.jupyter.widget-view+json": {
       "model_id": "7091d900211d48fcb48f000fb6500d64",
       "version_major": 2,
       "version_minor": 0
      },
      "text/plain": [
       "HBox(children=(FloatProgress(value=0.0, max=3.0), HTML(value='')))"
      ]
     },
     "metadata": {},
     "output_type": "display_data"
    },
    {
     "name": "stdout",
     "output_type": "stream",
     "text": [
      "\n",
      "cell ID =  1598 progress bar below: (n/N frames):\n"
     ]
    },
    {
     "data": {
      "application/vnd.jupyter.widget-view+json": {
       "model_id": "2a29e04aa4384e309238677c27020abe",
       "version_major": 2,
       "version_minor": 0
      },
      "text/plain": [
       "HBox(children=(FloatProgress(value=0.0, max=3.0), HTML(value='')))"
      ]
     },
     "metadata": {},
     "output_type": "display_data"
    },
    {
     "name": "stdout",
     "output_type": "stream",
     "text": [
      "\n",
      "cell ID =  1601 progress bar below: (n/N frames):\n"
     ]
    },
    {
     "data": {
      "application/vnd.jupyter.widget-view+json": {
       "model_id": "cad36806ab2849a8a49841a243664988",
       "version_major": 2,
       "version_minor": 0
      },
      "text/plain": [
       "HBox(children=(FloatProgress(value=0.0, max=3.0), HTML(value='')))"
      ]
     },
     "metadata": {},
     "output_type": "display_data"
    },
    {
     "name": "stdout",
     "output_type": "stream",
     "text": [
      "\n",
      "cell ID =  1602 progress bar below: (n/N frames):\n"
     ]
    },
    {
     "data": {
      "application/vnd.jupyter.widget-view+json": {
       "model_id": "df948c24e9d6494cb55629ce3d3e7627",
       "version_major": 2,
       "version_minor": 0
      },
      "text/plain": [
       "HBox(children=(FloatProgress(value=0.0, max=16.0), HTML(value='')))"
      ]
     },
     "metadata": {},
     "output_type": "display_data"
    },
    {
     "name": "stdout",
     "output_type": "stream",
     "text": [
      "\n",
      "cell ID =  1603 progress bar below: (n/N frames):\n"
     ]
    },
    {
     "data": {
      "application/vnd.jupyter.widget-view+json": {
       "model_id": "0b707735b7ea41b4840113b45f1e2707",
       "version_major": 2,
       "version_minor": 0
      },
      "text/plain": [
       "HBox(children=(FloatProgress(value=0.0, max=2.0), HTML(value='')))"
      ]
     },
     "metadata": {},
     "output_type": "display_data"
    },
    {
     "name": "stdout",
     "output_type": "stream",
     "text": [
      "\n",
      "cell ID =  1604 progress bar below: (n/N frames):\n"
     ]
    },
    {
     "data": {
      "application/vnd.jupyter.widget-view+json": {
       "model_id": "43ae1dff37d34cae976b5a9751b0886c",
       "version_major": 2,
       "version_minor": 0
      },
      "text/plain": [
       "HBox(children=(FloatProgress(value=0.0, max=18.0), HTML(value='')))"
      ]
     },
     "metadata": {},
     "output_type": "display_data"
    },
    {
     "name": "stdout",
     "output_type": "stream",
     "text": [
      "\n",
      "cell ID =  1606 progress bar below: (n/N frames):\n"
     ]
    },
    {
     "data": {
      "application/vnd.jupyter.widget-view+json": {
       "model_id": "bac978b7412247e382c1e8cf7713e490",
       "version_major": 2,
       "version_minor": 0
      },
      "text/plain": [
       "HBox(children=(FloatProgress(value=0.0, max=4.0), HTML(value='')))"
      ]
     },
     "metadata": {},
     "output_type": "display_data"
    },
    {
     "name": "stdout",
     "output_type": "stream",
     "text": [
      "\n",
      "cell ID =  1611 progress bar below: (n/N frames):\n"
     ]
    },
    {
     "data": {
      "application/vnd.jupyter.widget-view+json": {
       "model_id": "ba56e2332db2408db1cf0bbbbdadd72d",
       "version_major": 2,
       "version_minor": 0
      },
      "text/plain": [
       "HBox(children=(FloatProgress(value=0.0, max=328.0), HTML(value='')))"
      ]
     },
     "metadata": {},
     "output_type": "display_data"
    },
    {
     "name": "stdout",
     "output_type": "stream",
     "text": [
      "\n",
      "cell ID =  1613 progress bar below: (n/N frames):\n"
     ]
    },
    {
     "data": {
      "application/vnd.jupyter.widget-view+json": {
       "model_id": "0ef170d4e0024d4ba30a48aff26f31a2",
       "version_major": 2,
       "version_minor": 0
      },
      "text/plain": [
       "HBox(children=(FloatProgress(value=0.0, max=7.0), HTML(value='')))"
      ]
     },
     "metadata": {},
     "output_type": "display_data"
    },
    {
     "name": "stdout",
     "output_type": "stream",
     "text": [
      "\n",
      "cell ID =  1615 progress bar below: (n/N frames):\n"
     ]
    },
    {
     "data": {
      "application/vnd.jupyter.widget-view+json": {
       "model_id": "ba58a1a5cc3944bb828f6bf3bad51a8e",
       "version_major": 2,
       "version_minor": 0
      },
      "text/plain": [
       "HBox(children=(FloatProgress(value=0.0, max=6.0), HTML(value='')))"
      ]
     },
     "metadata": {},
     "output_type": "display_data"
    },
    {
     "name": "stdout",
     "output_type": "stream",
     "text": [
      "\n",
      "cell ID =  1617 progress bar below: (n/N frames):\n"
     ]
    },
    {
     "data": {
      "application/vnd.jupyter.widget-view+json": {
       "model_id": "9c3f49913c884341afa2c39ea98f96e5",
       "version_major": 2,
       "version_minor": 0
      },
      "text/plain": [
       "HBox(children=(FloatProgress(value=0.0, max=6.0), HTML(value='')))"
      ]
     },
     "metadata": {},
     "output_type": "display_data"
    },
    {
     "name": "stdout",
     "output_type": "stream",
     "text": [
      "\n",
      "cell ID =  1618 progress bar below: (n/N frames):\n"
     ]
    },
    {
     "data": {
      "application/vnd.jupyter.widget-view+json": {
       "model_id": "33d83293d8fa4d219b28f1d39460538c",
       "version_major": 2,
       "version_minor": 0
      },
      "text/plain": [
       "HBox(children=(FloatProgress(value=0.0, max=52.0), HTML(value='')))"
      ]
     },
     "metadata": {},
     "output_type": "display_data"
    },
    {
     "name": "stdout",
     "output_type": "stream",
     "text": [
      "\n",
      "cell ID =  1619 progress bar below: (n/N frames):\n"
     ]
    },
    {
     "data": {
      "application/vnd.jupyter.widget-view+json": {
       "model_id": "9aa7bef51d6e484fa71623a27be9eebf",
       "version_major": 2,
       "version_minor": 0
      },
      "text/plain": [
       "HBox(children=(FloatProgress(value=0.0, max=302.0), HTML(value='')))"
      ]
     },
     "metadata": {},
     "output_type": "display_data"
    },
    {
     "name": "stdout",
     "output_type": "stream",
     "text": [
      "\n",
      "cell ID =  1622 progress bar below: (n/N frames):\n"
     ]
    },
    {
     "data": {
      "application/vnd.jupyter.widget-view+json": {
       "model_id": "32d9bdfa28bf49329f2a711d7af3d6d3",
       "version_major": 2,
       "version_minor": 0
      },
      "text/plain": [
       "HBox(children=(FloatProgress(value=0.0, max=11.0), HTML(value='')))"
      ]
     },
     "metadata": {},
     "output_type": "display_data"
    },
    {
     "name": "stdout",
     "output_type": "stream",
     "text": [
      "\n",
      "cell ID =  1625 progress bar below: (n/N frames):\n"
     ]
    },
    {
     "data": {
      "application/vnd.jupyter.widget-view+json": {
       "model_id": "925d9c0627c74a2bb0ccf213830a721b",
       "version_major": 2,
       "version_minor": 0
      },
      "text/plain": [
       "HBox(children=(FloatProgress(value=0.0, max=2.0), HTML(value='')))"
      ]
     },
     "metadata": {},
     "output_type": "display_data"
    },
    {
     "name": "stdout",
     "output_type": "stream",
     "text": [
      "\n",
      "cell ID =  1624 progress bar below: (n/N frames):\n"
     ]
    },
    {
     "data": {
      "application/vnd.jupyter.widget-view+json": {
       "model_id": "0235b0e1844d405b9a782a3b319309d6",
       "version_major": 2,
       "version_minor": 0
      },
      "text/plain": [
       "HBox(children=(FloatProgress(value=0.0, max=11.0), HTML(value='')))"
      ]
     },
     "metadata": {},
     "output_type": "display_data"
    },
    {
     "name": "stdout",
     "output_type": "stream",
     "text": [
      "\n",
      "cell ID =  1630 progress bar below: (n/N frames):\n"
     ]
    },
    {
     "data": {
      "application/vnd.jupyter.widget-view+json": {
       "model_id": "b8bb33de6c444d90bc24f606784cb57c",
       "version_major": 2,
       "version_minor": 0
      },
      "text/plain": [
       "HBox(children=(FloatProgress(value=0.0, max=7.0), HTML(value='')))"
      ]
     },
     "metadata": {},
     "output_type": "display_data"
    },
    {
     "name": "stdout",
     "output_type": "stream",
     "text": [
      "\n",
      "cell ID =  1631 progress bar below: (n/N frames):\n"
     ]
    },
    {
     "data": {
      "application/vnd.jupyter.widget-view+json": {
       "model_id": "ceb2e1a7d233474ba6c57b044c4aaf9c",
       "version_major": 2,
       "version_minor": 0
      },
      "text/plain": [
       "HBox(children=(FloatProgress(value=0.0, max=16.0), HTML(value='')))"
      ]
     },
     "metadata": {},
     "output_type": "display_data"
    },
    {
     "name": "stdout",
     "output_type": "stream",
     "text": [
      "\n",
      "cell ID =  1632 progress bar below: (n/N frames):\n"
     ]
    },
    {
     "data": {
      "application/vnd.jupyter.widget-view+json": {
       "model_id": "344166ce661b45c4a86378fdedf79048",
       "version_major": 2,
       "version_minor": 0
      },
      "text/plain": [
       "HBox(children=(FloatProgress(value=0.0, max=53.0), HTML(value='')))"
      ]
     },
     "metadata": {},
     "output_type": "display_data"
    },
    {
     "name": "stdout",
     "output_type": "stream",
     "text": [
      "\n",
      "cell ID =  1635 progress bar below: (n/N frames):\n"
     ]
    },
    {
     "data": {
      "application/vnd.jupyter.widget-view+json": {
       "model_id": "dd8e00bed4e443dfb7f3baf87b7e9223",
       "version_major": 2,
       "version_minor": 0
      },
      "text/plain": [
       "HBox(children=(FloatProgress(value=0.0, max=2.0), HTML(value='')))"
      ]
     },
     "metadata": {},
     "output_type": "display_data"
    },
    {
     "name": "stdout",
     "output_type": "stream",
     "text": [
      "\n",
      "cell ID =  1638 progress bar below: (n/N frames):\n"
     ]
    },
    {
     "data": {
      "application/vnd.jupyter.widget-view+json": {
       "model_id": "ce264a19fad24b9a85d39f3e05321407",
       "version_major": 2,
       "version_minor": 0
      },
      "text/plain": [
       "HBox(children=(FloatProgress(value=0.0, max=2.0), HTML(value='')))"
      ]
     },
     "metadata": {},
     "output_type": "display_data"
    },
    {
     "name": "stdout",
     "output_type": "stream",
     "text": [
      "\n",
      "cell ID =  1639 progress bar below: (n/N frames):\n"
     ]
    },
    {
     "data": {
      "application/vnd.jupyter.widget-view+json": {
       "model_id": "28da2a47f9b84528b6ef47a9aebb3241",
       "version_major": 2,
       "version_minor": 0
      },
      "text/plain": [
       "HBox(children=(FloatProgress(value=0.0, max=10.0), HTML(value='')))"
      ]
     },
     "metadata": {},
     "output_type": "display_data"
    },
    {
     "name": "stdout",
     "output_type": "stream",
     "text": [
      "\n",
      "cell ID =  1640 progress bar below: (n/N frames):\n"
     ]
    },
    {
     "data": {
      "application/vnd.jupyter.widget-view+json": {
       "model_id": "401f3ab8943e4cb6a303a4806de59fae",
       "version_major": 2,
       "version_minor": 0
      },
      "text/plain": [
       "HBox(children=(FloatProgress(value=0.0, max=7.0), HTML(value='')))"
      ]
     },
     "metadata": {},
     "output_type": "display_data"
    },
    {
     "name": "stdout",
     "output_type": "stream",
     "text": [
      "\n",
      "cell ID =  1641 progress bar below: (n/N frames):\n"
     ]
    },
    {
     "data": {
      "application/vnd.jupyter.widget-view+json": {
       "model_id": "91344ebf3ca8490d9443d52de81c1759",
       "version_major": 2,
       "version_minor": 0
      },
      "text/plain": [
       "HBox(children=(FloatProgress(value=0.0, max=2.0), HTML(value='')))"
      ]
     },
     "metadata": {},
     "output_type": "display_data"
    },
    {
     "name": "stdout",
     "output_type": "stream",
     "text": [
      "\n",
      "cell ID =  1644 progress bar below: (n/N frames):\n"
     ]
    },
    {
     "data": {
      "application/vnd.jupyter.widget-view+json": {
       "model_id": "bfa6aed1890d445caf89ccc4ef23ab76",
       "version_major": 2,
       "version_minor": 0
      },
      "text/plain": [
       "HBox(children=(FloatProgress(value=0.0, max=318.0), HTML(value='')))"
      ]
     },
     "metadata": {},
     "output_type": "display_data"
    },
    {
     "name": "stdout",
     "output_type": "stream",
     "text": [
      "\n",
      "cell ID =  1646 progress bar below: (n/N frames):\n"
     ]
    },
    {
     "data": {
      "application/vnd.jupyter.widget-view+json": {
       "model_id": "64766fc7e32e43ecb17b6a59e89b87d7",
       "version_major": 2,
       "version_minor": 0
      },
      "text/plain": [
       "HBox(children=(FloatProgress(value=0.0, max=318.0), HTML(value='')))"
      ]
     },
     "metadata": {},
     "output_type": "display_data"
    },
    {
     "name": "stdout",
     "output_type": "stream",
     "text": [
      "\n",
      "cell ID =  1647 progress bar below: (n/N frames):\n"
     ]
    },
    {
     "data": {
      "application/vnd.jupyter.widget-view+json": {
       "model_id": "f1071f55ff914518bf53c52f8627dd88",
       "version_major": 2,
       "version_minor": 0
      },
      "text/plain": [
       "HBox(children=(FloatProgress(value=0.0, max=317.0), HTML(value='')))"
      ]
     },
     "metadata": {},
     "output_type": "display_data"
    },
    {
     "name": "stdout",
     "output_type": "stream",
     "text": [
      "\n",
      "cell ID =  1651 progress bar below: (n/N frames):\n"
     ]
    },
    {
     "data": {
      "application/vnd.jupyter.widget-view+json": {
       "model_id": "59fc01132cb047d68dd36bc6b6d8e255",
       "version_major": 2,
       "version_minor": 0
      },
      "text/plain": [
       "HBox(children=(FloatProgress(value=0.0, max=315.0), HTML(value='')))"
      ]
     },
     "metadata": {},
     "output_type": "display_data"
    },
    {
     "name": "stdout",
     "output_type": "stream",
     "text": [
      "\n",
      "cell ID =  1652 progress bar below: (n/N frames):\n"
     ]
    },
    {
     "data": {
      "application/vnd.jupyter.widget-view+json": {
       "model_id": "648ee4eaba294587b4c55cc4eb9815a8",
       "version_major": 2,
       "version_minor": 0
      },
      "text/plain": [
       "HBox(children=(FloatProgress(value=0.0, max=19.0), HTML(value='')))"
      ]
     },
     "metadata": {},
     "output_type": "display_data"
    },
    {
     "name": "stdout",
     "output_type": "stream",
     "text": [
      "\n",
      "cell ID =  1653 progress bar below: (n/N frames):\n"
     ]
    },
    {
     "data": {
      "application/vnd.jupyter.widget-view+json": {
       "model_id": "bbda0bd783684fe19e5ba19fe4fd3fdb",
       "version_major": 2,
       "version_minor": 0
      },
      "text/plain": [
       "HBox(children=(FloatProgress(value=0.0, max=315.0), HTML(value='')))"
      ]
     },
     "metadata": {},
     "output_type": "display_data"
    },
    {
     "name": "stdout",
     "output_type": "stream",
     "text": [
      "\n",
      "cell ID =  1654 progress bar below: (n/N frames):\n"
     ]
    },
    {
     "data": {
      "application/vnd.jupyter.widget-view+json": {
       "model_id": "66b7cae6353146e1adb30affd496e9e3",
       "version_major": 2,
       "version_minor": 0
      },
      "text/plain": [
       "HBox(children=(FloatProgress(value=0.0, max=315.0), HTML(value='')))"
      ]
     },
     "metadata": {},
     "output_type": "display_data"
    },
    {
     "name": "stdout",
     "output_type": "stream",
     "text": [
      "\n",
      "cell ID =  1659 progress bar below: (n/N frames):\n"
     ]
    },
    {
     "data": {
      "application/vnd.jupyter.widget-view+json": {
       "model_id": "f00e0aaaaea14245a56ff6a8ef0d7af6",
       "version_major": 2,
       "version_minor": 0
      },
      "text/plain": [
       "HBox(children=(FloatProgress(value=0.0, max=40.0), HTML(value='')))"
      ]
     },
     "metadata": {},
     "output_type": "display_data"
    },
    {
     "name": "stdout",
     "output_type": "stream",
     "text": [
      "\n",
      "cell ID =  1656 progress bar below: (n/N frames):\n"
     ]
    },
    {
     "data": {
      "application/vnd.jupyter.widget-view+json": {
       "model_id": "1f5be31143b8445c807bb06398e07b6a",
       "version_major": 2,
       "version_minor": 0
      },
      "text/plain": [
       "HBox(children=(FloatProgress(value=0.0, max=3.0), HTML(value='')))"
      ]
     },
     "metadata": {},
     "output_type": "display_data"
    },
    {
     "name": "stdout",
     "output_type": "stream",
     "text": [
      "\n",
      "cell ID =  1655 progress bar below: (n/N frames):\n"
     ]
    },
    {
     "data": {
      "application/vnd.jupyter.widget-view+json": {
       "model_id": "df248ffa6ad246e9b34781391a1d74fd",
       "version_major": 2,
       "version_minor": 0
      },
      "text/plain": [
       "HBox(children=(FloatProgress(value=0.0, max=314.0), HTML(value='')))"
      ]
     },
     "metadata": {},
     "output_type": "display_data"
    },
    {
     "name": "stdout",
     "output_type": "stream",
     "text": [
      "\n",
      "cell ID =  1657 progress bar below: (n/N frames):\n"
     ]
    },
    {
     "data": {
      "application/vnd.jupyter.widget-view+json": {
       "model_id": "48ed9172a535486fbfeb0d8baaff5fa7",
       "version_major": 2,
       "version_minor": 0
      },
      "text/plain": [
       "HBox(children=(FloatProgress(value=0.0, max=27.0), HTML(value='')))"
      ]
     },
     "metadata": {},
     "output_type": "display_data"
    },
    {
     "name": "stdout",
     "output_type": "stream",
     "text": [
      "\n",
      "cell ID =  1662 progress bar below: (n/N frames):\n"
     ]
    },
    {
     "data": {
      "application/vnd.jupyter.widget-view+json": {
       "model_id": "0d09d387547144fca8bc6651fb218984",
       "version_major": 2,
       "version_minor": 0
      },
      "text/plain": [
       "HBox(children=(FloatProgress(value=0.0, max=4.0), HTML(value='')))"
      ]
     },
     "metadata": {},
     "output_type": "display_data"
    },
    {
     "name": "stdout",
     "output_type": "stream",
     "text": [
      "\n",
      "cell ID =  1664 progress bar below: (n/N frames):\n"
     ]
    },
    {
     "data": {
      "application/vnd.jupyter.widget-view+json": {
       "model_id": "0d37bf4d98324ebb86f8c5a852b666ed",
       "version_major": 2,
       "version_minor": 0
      },
      "text/plain": [
       "HBox(children=(FloatProgress(value=0.0, max=313.0), HTML(value='')))"
      ]
     },
     "metadata": {},
     "output_type": "display_data"
    },
    {
     "name": "stdout",
     "output_type": "stream",
     "text": [
      "\n",
      "cell ID =  1665 progress bar below: (n/N frames):\n"
     ]
    },
    {
     "data": {
      "application/vnd.jupyter.widget-view+json": {
       "model_id": "7783b4dd66c3479a84f347304fbcff96",
       "version_major": 2,
       "version_minor": 0
      },
      "text/plain": [
       "HBox(children=(FloatProgress(value=0.0, max=313.0), HTML(value='')))"
      ]
     },
     "metadata": {},
     "output_type": "display_data"
    },
    {
     "name": "stdout",
     "output_type": "stream",
     "text": [
      "\n",
      "cell ID =  1666 progress bar below: (n/N frames):\n"
     ]
    },
    {
     "data": {
      "application/vnd.jupyter.widget-view+json": {
       "model_id": "66ad4e9c59f64d30a6ab31abcd45d35c",
       "version_major": 2,
       "version_minor": 0
      },
      "text/plain": [
       "HBox(children=(FloatProgress(value=0.0, max=313.0), HTML(value='')))"
      ]
     },
     "metadata": {},
     "output_type": "display_data"
    },
    {
     "name": "stdout",
     "output_type": "stream",
     "text": [
      "\n",
      "cell ID =  1667 progress bar below: (n/N frames):\n"
     ]
    },
    {
     "data": {
      "application/vnd.jupyter.widget-view+json": {
       "model_id": "d1c8afe3a0364bcea1bd553f8593f7c4",
       "version_major": 2,
       "version_minor": 0
      },
      "text/plain": [
       "HBox(children=(FloatProgress(value=0.0, max=313.0), HTML(value='')))"
      ]
     },
     "metadata": {},
     "output_type": "display_data"
    },
    {
     "name": "stdout",
     "output_type": "stream",
     "text": [
      "\n",
      "cell ID =  1668 progress bar below: (n/N frames):\n"
     ]
    },
    {
     "data": {
      "application/vnd.jupyter.widget-view+json": {
       "model_id": "8656175c87bf41fc9b4d05d33f8bfa01",
       "version_major": 2,
       "version_minor": 0
      },
      "text/plain": [
       "HBox(children=(FloatProgress(value=0.0, max=4.0), HTML(value='')))"
      ]
     },
     "metadata": {},
     "output_type": "display_data"
    },
    {
     "name": "stdout",
     "output_type": "stream",
     "text": [
      "\n",
      "cell ID =  1673 progress bar below: (n/N frames):\n"
     ]
    },
    {
     "data": {
      "application/vnd.jupyter.widget-view+json": {
       "model_id": "7cf898164fa348ce8c15e75883a29c27",
       "version_major": 2,
       "version_minor": 0
      },
      "text/plain": [
       "HBox(children=(FloatProgress(value=0.0, max=4.0), HTML(value='')))"
      ]
     },
     "metadata": {},
     "output_type": "display_data"
    },
    {
     "name": "stdout",
     "output_type": "stream",
     "text": [
      "\n",
      "cell ID =  1672 progress bar below: (n/N frames):\n"
     ]
    },
    {
     "data": {
      "application/vnd.jupyter.widget-view+json": {
       "model_id": "60e7af55dd8f4bf89fa5a22b565732fe",
       "version_major": 2,
       "version_minor": 0
      },
      "text/plain": [
       "HBox(children=(FloatProgress(value=0.0, max=5.0), HTML(value='')))"
      ]
     },
     "metadata": {},
     "output_type": "display_data"
    },
    {
     "name": "stdout",
     "output_type": "stream",
     "text": [
      "\n",
      "cell ID =  1675 progress bar below: (n/N frames):\n"
     ]
    },
    {
     "data": {
      "application/vnd.jupyter.widget-view+json": {
       "model_id": "e011d2cdc2744e2c93f90fbf02339615",
       "version_major": 2,
       "version_minor": 0
      },
      "text/plain": [
       "HBox(children=(FloatProgress(value=0.0, max=184.0), HTML(value='')))"
      ]
     },
     "metadata": {},
     "output_type": "display_data"
    },
    {
     "name": "stdout",
     "output_type": "stream",
     "text": [
      "\n",
      "cell ID =  1676 progress bar below: (n/N frames):\n"
     ]
    },
    {
     "data": {
      "application/vnd.jupyter.widget-view+json": {
       "model_id": "2f124669cb1c465ea4b99c4370dc5da7",
       "version_major": 2,
       "version_minor": 0
      },
      "text/plain": [
       "HBox(children=(FloatProgress(value=0.0, max=311.0), HTML(value='')))"
      ]
     },
     "metadata": {},
     "output_type": "display_data"
    },
    {
     "name": "stdout",
     "output_type": "stream",
     "text": [
      "\n",
      "cell ID =  1681 progress bar below: (n/N frames):\n"
     ]
    },
    {
     "data": {
      "application/vnd.jupyter.widget-view+json": {
       "model_id": "5b055956fcd94b8ea5d5b89f178a06bc",
       "version_major": 2,
       "version_minor": 0
      },
      "text/plain": [
       "HBox(children=(FloatProgress(value=0.0, max=208.0), HTML(value='')))"
      ]
     },
     "metadata": {},
     "output_type": "display_data"
    },
    {
     "name": "stdout",
     "output_type": "stream",
     "text": [
      "\n",
      "cell ID =  1684 progress bar below: (n/N frames):\n"
     ]
    },
    {
     "data": {
      "application/vnd.jupyter.widget-view+json": {
       "model_id": "7a006fe0fc974492a6718d56f7c825bc",
       "version_major": 2,
       "version_minor": 0
      },
      "text/plain": [
       "HBox(children=(FloatProgress(value=0.0, max=308.0), HTML(value='')))"
      ]
     },
     "metadata": {},
     "output_type": "display_data"
    },
    {
     "name": "stdout",
     "output_type": "stream",
     "text": [
      "\n",
      "cell ID =  1685 progress bar below: (n/N frames):\n"
     ]
    },
    {
     "data": {
      "application/vnd.jupyter.widget-view+json": {
       "model_id": "3dfe4ebec7264728b0c579bdc2deaeaa",
       "version_major": 2,
       "version_minor": 0
      },
      "text/plain": [
       "HBox(children=(FloatProgress(value=0.0, max=3.0), HTML(value='')))"
      ]
     },
     "metadata": {},
     "output_type": "display_data"
    },
    {
     "name": "stdout",
     "output_type": "stream",
     "text": [
      "\n",
      "cell ID =  1686 progress bar below: (n/N frames):\n"
     ]
    },
    {
     "data": {
      "application/vnd.jupyter.widget-view+json": {
       "model_id": "b7f65ea5e71045998b1d53c0125788ba",
       "version_major": 2,
       "version_minor": 0
      },
      "text/plain": [
       "HBox(children=(FloatProgress(value=0.0, max=4.0), HTML(value='')))"
      ]
     },
     "metadata": {},
     "output_type": "display_data"
    },
    {
     "name": "stdout",
     "output_type": "stream",
     "text": [
      "\n",
      "cell ID =  1687 progress bar below: (n/N frames):\n"
     ]
    },
    {
     "data": {
      "application/vnd.jupyter.widget-view+json": {
       "model_id": "3d382176440d41999c4bf6fc0cdff4e2",
       "version_major": 2,
       "version_minor": 0
      },
      "text/plain": [
       "HBox(children=(FloatProgress(value=0.0, max=2.0), HTML(value='')))"
      ]
     },
     "metadata": {},
     "output_type": "display_data"
    },
    {
     "name": "stdout",
     "output_type": "stream",
     "text": [
      "\n",
      "cell ID =  1694 progress bar below: (n/N frames):\n"
     ]
    },
    {
     "data": {
      "application/vnd.jupyter.widget-view+json": {
       "model_id": "2475edd8312e43b19be600a45301497b",
       "version_major": 2,
       "version_minor": 0
      },
      "text/plain": [
       "HBox(children=(FloatProgress(value=0.0, max=307.0), HTML(value='')))"
      ]
     },
     "metadata": {},
     "output_type": "display_data"
    },
    {
     "name": "stdout",
     "output_type": "stream",
     "text": [
      "\n",
      "cell ID =  1691 progress bar below: (n/N frames):\n"
     ]
    },
    {
     "data": {
      "application/vnd.jupyter.widget-view+json": {
       "model_id": "3c21e03682eb429197b2a753a7ad0638",
       "version_major": 2,
       "version_minor": 0
      },
      "text/plain": [
       "HBox(children=(FloatProgress(value=0.0, max=307.0), HTML(value='')))"
      ]
     },
     "metadata": {},
     "output_type": "display_data"
    },
    {
     "name": "stdout",
     "output_type": "stream",
     "text": [
      "\n",
      "cell ID =  1692 progress bar below: (n/N frames):\n"
     ]
    },
    {
     "data": {
      "application/vnd.jupyter.widget-view+json": {
       "model_id": "daeb5547909c4c148e21c2db42b2e382",
       "version_major": 2,
       "version_minor": 0
      },
      "text/plain": [
       "HBox(children=(FloatProgress(value=0.0, max=39.0), HTML(value='')))"
      ]
     },
     "metadata": {},
     "output_type": "display_data"
    },
    {
     "name": "stdout",
     "output_type": "stream",
     "text": [
      "\n",
      "cell ID =  1697 progress bar below: (n/N frames):\n"
     ]
    },
    {
     "data": {
      "application/vnd.jupyter.widget-view+json": {
       "model_id": "553fe04be0334e4481473bf899ce0fad",
       "version_major": 2,
       "version_minor": 0
      },
      "text/plain": [
       "HBox(children=(FloatProgress(value=0.0, max=305.0), HTML(value='')))"
      ]
     },
     "metadata": {},
     "output_type": "display_data"
    },
    {
     "name": "stdout",
     "output_type": "stream",
     "text": [
      "\n",
      "cell ID =  1698 progress bar below: (n/N frames):\n"
     ]
    },
    {
     "data": {
      "application/vnd.jupyter.widget-view+json": {
       "model_id": "da03b5d72dce4327bea1e24ebd45fa3b",
       "version_major": 2,
       "version_minor": 0
      },
      "text/plain": [
       "HBox(children=(FloatProgress(value=0.0, max=5.0), HTML(value='')))"
      ]
     },
     "metadata": {},
     "output_type": "display_data"
    },
    {
     "name": "stdout",
     "output_type": "stream",
     "text": [
      "\n",
      "cell ID =  1699 progress bar below: (n/N frames):\n"
     ]
    },
    {
     "data": {
      "application/vnd.jupyter.widget-view+json": {
       "model_id": "98d076fcc62a4576a73f4a3a868b8f96",
       "version_major": 2,
       "version_minor": 0
      },
      "text/plain": [
       "HBox(children=(FloatProgress(value=0.0, max=305.0), HTML(value='')))"
      ]
     },
     "metadata": {},
     "output_type": "display_data"
    },
    {
     "name": "stdout",
     "output_type": "stream",
     "text": [
      "\n",
      "cell ID =  1702 progress bar below: (n/N frames):\n"
     ]
    },
    {
     "data": {
      "application/vnd.jupyter.widget-view+json": {
       "model_id": "22c7b256bf084facb5b3837723fde018",
       "version_major": 2,
       "version_minor": 0
      },
      "text/plain": [
       "HBox(children=(FloatProgress(value=0.0, max=303.0), HTML(value='')))"
      ]
     },
     "metadata": {},
     "output_type": "display_data"
    },
    {
     "name": "stdout",
     "output_type": "stream",
     "text": [
      "\n",
      "cell ID =  1703 progress bar below: (n/N frames):\n"
     ]
    },
    {
     "data": {
      "application/vnd.jupyter.widget-view+json": {
       "model_id": "ce4123ac92d24a1eb3a2a93241222b89",
       "version_major": 2,
       "version_minor": 0
      },
      "text/plain": [
       "HBox(children=(FloatProgress(value=0.0, max=302.0), HTML(value='')))"
      ]
     },
     "metadata": {},
     "output_type": "display_data"
    },
    {
     "name": "stdout",
     "output_type": "stream",
     "text": [
      "\n",
      "cell ID =  1705 progress bar below: (n/N frames):\n"
     ]
    },
    {
     "data": {
      "application/vnd.jupyter.widget-view+json": {
       "model_id": "c481dfe3813a4a2a90e079868befb239",
       "version_major": 2,
       "version_minor": 0
      },
      "text/plain": [
       "HBox(children=(FloatProgress(value=0.0, max=33.0), HTML(value='')))"
      ]
     },
     "metadata": {},
     "output_type": "display_data"
    },
    {
     "name": "stdout",
     "output_type": "stream",
     "text": [
      "\n",
      "cell ID =  1706 progress bar below: (n/N frames):\n"
     ]
    },
    {
     "data": {
      "application/vnd.jupyter.widget-view+json": {
       "model_id": "e3ea8a49a0c348fa9c8e365054b1cfcc",
       "version_major": 2,
       "version_minor": 0
      },
      "text/plain": [
       "HBox(children=(FloatProgress(value=0.0, max=3.0), HTML(value='')))"
      ]
     },
     "metadata": {},
     "output_type": "display_data"
    },
    {
     "name": "stdout",
     "output_type": "stream",
     "text": [
      "\n",
      "cell ID =  1707 progress bar below: (n/N frames):\n"
     ]
    },
    {
     "data": {
      "application/vnd.jupyter.widget-view+json": {
       "model_id": "0d6b5e487d5a4ff28b7e8a0dcd0e4f84",
       "version_major": 2,
       "version_minor": 0
      },
      "text/plain": [
       "HBox(children=(FloatProgress(value=0.0, max=12.0), HTML(value='')))"
      ]
     },
     "metadata": {},
     "output_type": "display_data"
    },
    {
     "name": "stdout",
     "output_type": "stream",
     "text": [
      "\n",
      "cell ID =  1708 progress bar below: (n/N frames):\n"
     ]
    },
    {
     "data": {
      "application/vnd.jupyter.widget-view+json": {
       "model_id": "96f4573131b9459a9a577fe143ac172b",
       "version_major": 2,
       "version_minor": 0
      },
      "text/plain": [
       "HBox(children=(FloatProgress(value=0.0, max=25.0), HTML(value='')))"
      ]
     },
     "metadata": {},
     "output_type": "display_data"
    },
    {
     "name": "stdout",
     "output_type": "stream",
     "text": [
      "\n",
      "cell ID =  1709 progress bar below: (n/N frames):\n"
     ]
    },
    {
     "data": {
      "application/vnd.jupyter.widget-view+json": {
       "model_id": "c7ff531aade44c2c9fb11bdf9fbc9204",
       "version_major": 2,
       "version_minor": 0
      },
      "text/plain": [
       "HBox(children=(FloatProgress(value=0.0, max=301.0), HTML(value='')))"
      ]
     },
     "metadata": {},
     "output_type": "display_data"
    },
    {
     "name": "stdout",
     "output_type": "stream",
     "text": [
      "\n",
      "cell ID =  1712 progress bar below: (n/N frames):\n"
     ]
    },
    {
     "data": {
      "application/vnd.jupyter.widget-view+json": {
       "model_id": "a2ebf0046a4e40338ce97ecb86faa5ac",
       "version_major": 2,
       "version_minor": 0
      },
      "text/plain": [
       "HBox(children=(FloatProgress(value=0.0, max=12.0), HTML(value='')))"
      ]
     },
     "metadata": {},
     "output_type": "display_data"
    },
    {
     "name": "stdout",
     "output_type": "stream",
     "text": [
      "\n",
      "cell ID =  1715 progress bar below: (n/N frames):\n"
     ]
    },
    {
     "data": {
      "application/vnd.jupyter.widget-view+json": {
       "model_id": "08dad90410c1421b8c8184bc4a713f82",
       "version_major": 2,
       "version_minor": 0
      },
      "text/plain": [
       "HBox(children=(FloatProgress(value=0.0, max=14.0), HTML(value='')))"
      ]
     },
     "metadata": {},
     "output_type": "display_data"
    },
    {
     "name": "stdout",
     "output_type": "stream",
     "text": [
      "\n",
      "cell ID =  1717 progress bar below: (n/N frames):\n"
     ]
    },
    {
     "data": {
      "application/vnd.jupyter.widget-view+json": {
       "model_id": "1ce233c8708e45f9bc8d6e9473c946b1",
       "version_major": 2,
       "version_minor": 0
      },
      "text/plain": [
       "HBox(children=(FloatProgress(value=0.0, max=6.0), HTML(value='')))"
      ]
     },
     "metadata": {},
     "output_type": "display_data"
    },
    {
     "name": "stdout",
     "output_type": "stream",
     "text": [
      "\n",
      "cell ID =  1718 progress bar below: (n/N frames):\n"
     ]
    },
    {
     "data": {
      "application/vnd.jupyter.widget-view+json": {
       "model_id": "d18a6ca8883f41e380790c9ad8a826c3",
       "version_major": 2,
       "version_minor": 0
      },
      "text/plain": [
       "HBox(children=(FloatProgress(value=0.0, max=298.0), HTML(value='')))"
      ]
     },
     "metadata": {},
     "output_type": "display_data"
    },
    {
     "name": "stdout",
     "output_type": "stream",
     "text": [
      "\n",
      "cell ID =  1721 progress bar below: (n/N frames):\n"
     ]
    },
    {
     "data": {
      "application/vnd.jupyter.widget-view+json": {
       "model_id": "1c8f803ac10849f6a6fe16b249a309d1",
       "version_major": 2,
       "version_minor": 0
      },
      "text/plain": [
       "HBox(children=(FloatProgress(value=0.0, max=297.0), HTML(value='')))"
      ]
     },
     "metadata": {},
     "output_type": "display_data"
    },
    {
     "name": "stdout",
     "output_type": "stream",
     "text": [
      "\n",
      "cell ID =  1724 progress bar below: (n/N frames):\n"
     ]
    },
    {
     "data": {
      "application/vnd.jupyter.widget-view+json": {
       "model_id": "1edc7092523445258782d96d09379365",
       "version_major": 2,
       "version_minor": 0
      },
      "text/plain": [
       "HBox(children=(FloatProgress(value=0.0, max=5.0), HTML(value='')))"
      ]
     },
     "metadata": {},
     "output_type": "display_data"
    },
    {
     "name": "stdout",
     "output_type": "stream",
     "text": [
      "\n",
      "cell ID =  1725 progress bar below: (n/N frames):\n"
     ]
    },
    {
     "data": {
      "application/vnd.jupyter.widget-view+json": {
       "model_id": "fd205d99144e4e4eb96b421613a07053",
       "version_major": 2,
       "version_minor": 0
      },
      "text/plain": [
       "HBox(children=(FloatProgress(value=0.0, max=3.0), HTML(value='')))"
      ]
     },
     "metadata": {},
     "output_type": "display_data"
    },
    {
     "name": "stdout",
     "output_type": "stream",
     "text": [
      "\n",
      "cell ID =  1726 progress bar below: (n/N frames):\n"
     ]
    },
    {
     "data": {
      "application/vnd.jupyter.widget-view+json": {
       "model_id": "6347c4eff7444f68bcbee9e23a240335",
       "version_major": 2,
       "version_minor": 0
      },
      "text/plain": [
       "HBox(children=(FloatProgress(value=0.0, max=295.0), HTML(value='')))"
      ]
     },
     "metadata": {},
     "output_type": "display_data"
    },
    {
     "name": "stdout",
     "output_type": "stream",
     "text": [
      "\n",
      "cell ID =  1736 progress bar below: (n/N frames):\n"
     ]
    },
    {
     "data": {
      "application/vnd.jupyter.widget-view+json": {
       "model_id": "54ea1badc07141b38451ef801987213b",
       "version_major": 2,
       "version_minor": 0
      },
      "text/plain": [
       "HBox(children=(FloatProgress(value=0.0, max=294.0), HTML(value='')))"
      ]
     },
     "metadata": {},
     "output_type": "display_data"
    },
    {
     "name": "stdout",
     "output_type": "stream",
     "text": [
      "\n",
      "cell ID =  1733 progress bar below: (n/N frames):\n"
     ]
    },
    {
     "data": {
      "application/vnd.jupyter.widget-view+json": {
       "model_id": "439296fffd894f01aed196f93f89193c",
       "version_major": 2,
       "version_minor": 0
      },
      "text/plain": [
       "HBox(children=(FloatProgress(value=0.0, max=8.0), HTML(value='')))"
      ]
     },
     "metadata": {},
     "output_type": "display_data"
    },
    {
     "name": "stdout",
     "output_type": "stream",
     "text": [
      "\n",
      "cell ID =  1731 progress bar below: (n/N frames):\n"
     ]
    },
    {
     "data": {
      "application/vnd.jupyter.widget-view+json": {
       "model_id": "b7217ae281c844a1a36faccf31ec212b",
       "version_major": 2,
       "version_minor": 0
      },
      "text/plain": [
       "HBox(children=(FloatProgress(value=0.0, max=294.0), HTML(value='')))"
      ]
     },
     "metadata": {},
     "output_type": "display_data"
    },
    {
     "name": "stdout",
     "output_type": "stream",
     "text": [
      "\n",
      "cell ID =  1727 progress bar below: (n/N frames):\n"
     ]
    },
    {
     "data": {
      "application/vnd.jupyter.widget-view+json": {
       "model_id": "edffac54aa4749c59c4209e125132344",
       "version_major": 2,
       "version_minor": 0
      },
      "text/plain": [
       "HBox(children=(FloatProgress(value=0.0, max=294.0), HTML(value='')))"
      ]
     },
     "metadata": {},
     "output_type": "display_data"
    },
    {
     "name": "stdout",
     "output_type": "stream",
     "text": [
      "\n",
      "cell ID =  1728 progress bar below: (n/N frames):\n"
     ]
    },
    {
     "data": {
      "application/vnd.jupyter.widget-view+json": {
       "model_id": "3ffc178f16744e92971d43c3783b395a",
       "version_major": 2,
       "version_minor": 0
      },
      "text/plain": [
       "HBox(children=(FloatProgress(value=0.0, max=2.0), HTML(value='')))"
      ]
     },
     "metadata": {},
     "output_type": "display_data"
    },
    {
     "name": "stdout",
     "output_type": "stream",
     "text": [
      "\n",
      "cell ID =  1738 progress bar below: (n/N frames):\n"
     ]
    },
    {
     "data": {
      "application/vnd.jupyter.widget-view+json": {
       "model_id": "62e0a66b1e864f6f888b48547e1a9f50",
       "version_major": 2,
       "version_minor": 0
      },
      "text/plain": [
       "HBox(children=(FloatProgress(value=0.0, max=292.0), HTML(value='')))"
      ]
     },
     "metadata": {},
     "output_type": "display_data"
    },
    {
     "name": "stdout",
     "output_type": "stream",
     "text": [
      "\n",
      "cell ID =  1739 progress bar below: (n/N frames):\n"
     ]
    },
    {
     "data": {
      "application/vnd.jupyter.widget-view+json": {
       "model_id": "88191ecb8cee4c31a2ca843685ca2e98",
       "version_major": 2,
       "version_minor": 0
      },
      "text/plain": [
       "HBox(children=(FloatProgress(value=0.0, max=6.0), HTML(value='')))"
      ]
     },
     "metadata": {},
     "output_type": "display_data"
    },
    {
     "name": "stdout",
     "output_type": "stream",
     "text": [
      "\n",
      "cell ID =  1737 progress bar below: (n/N frames):\n"
     ]
    },
    {
     "data": {
      "application/vnd.jupyter.widget-view+json": {
       "model_id": "7f1bd48be5ad42629a71f8baf9f523c7",
       "version_major": 2,
       "version_minor": 0
      },
      "text/plain": [
       "HBox(children=(FloatProgress(value=0.0, max=39.0), HTML(value='')))"
      ]
     },
     "metadata": {},
     "output_type": "display_data"
    },
    {
     "name": "stdout",
     "output_type": "stream",
     "text": [
      "\n",
      "cell ID =  1741 progress bar below: (n/N frames):\n"
     ]
    },
    {
     "data": {
      "application/vnd.jupyter.widget-view+json": {
       "model_id": "32e21734f89147dea4a5adc3258d4247",
       "version_major": 2,
       "version_minor": 0
      },
      "text/plain": [
       "HBox(children=(FloatProgress(value=0.0, max=6.0), HTML(value='')))"
      ]
     },
     "metadata": {},
     "output_type": "display_data"
    },
    {
     "name": "stdout",
     "output_type": "stream",
     "text": [
      "\n",
      "cell ID =  1748 progress bar below: (n/N frames):\n"
     ]
    },
    {
     "data": {
      "application/vnd.jupyter.widget-view+json": {
       "model_id": "84ed0f40b9904daa9fbf3d9c4bb69eb1",
       "version_major": 2,
       "version_minor": 0
      },
      "text/plain": [
       "HBox(children=(FloatProgress(value=0.0, max=290.0), HTML(value='')))"
      ]
     },
     "metadata": {},
     "output_type": "display_data"
    },
    {
     "name": "stdout",
     "output_type": "stream",
     "text": [
      "\n",
      "cell ID =  1745 progress bar below: (n/N frames):\n"
     ]
    },
    {
     "data": {
      "application/vnd.jupyter.widget-view+json": {
       "model_id": "033e42ce59e94d8ba5138fadb124b4ec",
       "version_major": 2,
       "version_minor": 0
      },
      "text/plain": [
       "HBox(children=(FloatProgress(value=0.0, max=7.0), HTML(value='')))"
      ]
     },
     "metadata": {},
     "output_type": "display_data"
    },
    {
     "name": "stdout",
     "output_type": "stream",
     "text": [
      "\n",
      "cell ID =  1749 progress bar below: (n/N frames):\n"
     ]
    },
    {
     "data": {
      "application/vnd.jupyter.widget-view+json": {
       "model_id": "d9a4de6123f145e8afeb5bf28a297c7b",
       "version_major": 2,
       "version_minor": 0
      },
      "text/plain": [
       "HBox(children=(FloatProgress(value=0.0, max=289.0), HTML(value='')))"
      ]
     },
     "metadata": {},
     "output_type": "display_data"
    },
    {
     "name": "stdout",
     "output_type": "stream",
     "text": [
      "\n",
      "cell ID =  1752 progress bar below: (n/N frames):\n"
     ]
    },
    {
     "data": {
      "application/vnd.jupyter.widget-view+json": {
       "model_id": "3108af1096c84461882b50aae8e8a3e1",
       "version_major": 2,
       "version_minor": 0
      },
      "text/plain": [
       "HBox(children=(FloatProgress(value=0.0, max=14.0), HTML(value='')))"
      ]
     },
     "metadata": {},
     "output_type": "display_data"
    },
    {
     "name": "stdout",
     "output_type": "stream",
     "text": [
      "\n",
      "cell ID =  1756 progress bar below: (n/N frames):\n"
     ]
    },
    {
     "data": {
      "application/vnd.jupyter.widget-view+json": {
       "model_id": "9d635e704f654146a4a033bb10d7d531",
       "version_major": 2,
       "version_minor": 0
      },
      "text/plain": [
       "HBox(children=(FloatProgress(value=0.0, max=5.0), HTML(value='')))"
      ]
     },
     "metadata": {},
     "output_type": "display_data"
    },
    {
     "name": "stdout",
     "output_type": "stream",
     "text": [
      "\n",
      "cell ID =  1757 progress bar below: (n/N frames):\n"
     ]
    },
    {
     "data": {
      "application/vnd.jupyter.widget-view+json": {
       "model_id": "1cd9ff4de9cd485ba94d72f45dd1f092",
       "version_major": 2,
       "version_minor": 0
      },
      "text/plain": [
       "HBox(children=(FloatProgress(value=0.0, max=5.0), HTML(value='')))"
      ]
     },
     "metadata": {},
     "output_type": "display_data"
    },
    {
     "name": "stdout",
     "output_type": "stream",
     "text": [
      "\n",
      "cell ID =  1761 progress bar below: (n/N frames):\n"
     ]
    },
    {
     "data": {
      "application/vnd.jupyter.widget-view+json": {
       "model_id": "7510cf24dd9941e4ac13a5af5fb6bb0f",
       "version_major": 2,
       "version_minor": 0
      },
      "text/plain": [
       "HBox(children=(FloatProgress(value=0.0, max=158.0), HTML(value='')))"
      ]
     },
     "metadata": {},
     "output_type": "display_data"
    },
    {
     "name": "stdout",
     "output_type": "stream",
     "text": [
      "\n",
      "cell ID =  1760 progress bar below: (n/N frames):\n"
     ]
    },
    {
     "data": {
      "application/vnd.jupyter.widget-view+json": {
       "model_id": "822eb85ea0594aac890727d940fd419f",
       "version_major": 2,
       "version_minor": 0
      },
      "text/plain": [
       "HBox(children=(FloatProgress(value=0.0, max=285.0), HTML(value='')))"
      ]
     },
     "metadata": {},
     "output_type": "display_data"
    },
    {
     "name": "stdout",
     "output_type": "stream",
     "text": [
      "\n",
      "cell ID =  1762 progress bar below: (n/N frames):\n"
     ]
    },
    {
     "data": {
      "application/vnd.jupyter.widget-view+json": {
       "model_id": "4038f46994034bb8866a6b3f009967a7",
       "version_major": 2,
       "version_minor": 0
      },
      "text/plain": [
       "HBox(children=(FloatProgress(value=0.0, max=284.0), HTML(value='')))"
      ]
     },
     "metadata": {},
     "output_type": "display_data"
    },
    {
     "name": "stdout",
     "output_type": "stream",
     "text": [
      "\n",
      "cell ID =  1765 progress bar below: (n/N frames):\n"
     ]
    },
    {
     "data": {
      "application/vnd.jupyter.widget-view+json": {
       "model_id": "4d919d9907f74896927c30ccce3cae22",
       "version_major": 2,
       "version_minor": 0
      },
      "text/plain": [
       "HBox(children=(FloatProgress(value=0.0, max=3.0), HTML(value='')))"
      ]
     },
     "metadata": {},
     "output_type": "display_data"
    },
    {
     "name": "stdout",
     "output_type": "stream",
     "text": [
      "\n",
      "cell ID =  1766 progress bar below: (n/N frames):\n"
     ]
    },
    {
     "data": {
      "application/vnd.jupyter.widget-view+json": {
       "model_id": "1356bf032a3d4c2083eeae85484bc403",
       "version_major": 2,
       "version_minor": 0
      },
      "text/plain": [
       "HBox(children=(FloatProgress(value=0.0, max=283.0), HTML(value='')))"
      ]
     },
     "metadata": {},
     "output_type": "display_data"
    },
    {
     "name": "stdout",
     "output_type": "stream",
     "text": [
      "\n",
      "cell ID =  1767 progress bar below: (n/N frames):\n"
     ]
    },
    {
     "data": {
      "application/vnd.jupyter.widget-view+json": {
       "model_id": "eeb74094ff29430f83135bc7cff79ebf",
       "version_major": 2,
       "version_minor": 0
      },
      "text/plain": [
       "HBox(children=(FloatProgress(value=0.0, max=7.0), HTML(value='')))"
      ]
     },
     "metadata": {},
     "output_type": "display_data"
    },
    {
     "name": "stdout",
     "output_type": "stream",
     "text": [
      "\n",
      "cell ID =  1769 progress bar below: (n/N frames):\n"
     ]
    },
    {
     "data": {
      "application/vnd.jupyter.widget-view+json": {
       "model_id": "a6f3f1e674df4c69bfa1ad002bd8dd24",
       "version_major": 2,
       "version_minor": 0
      },
      "text/plain": [
       "HBox(children=(FloatProgress(value=0.0, max=3.0), HTML(value='')))"
      ]
     },
     "metadata": {},
     "output_type": "display_data"
    },
    {
     "name": "stdout",
     "output_type": "stream",
     "text": [
      "\n",
      "cell ID =  1770 progress bar below: (n/N frames):\n"
     ]
    },
    {
     "data": {
      "application/vnd.jupyter.widget-view+json": {
       "model_id": "94f533d4ecef4e8da9cb0ed9f420ab40",
       "version_major": 2,
       "version_minor": 0
      },
      "text/plain": [
       "HBox(children=(FloatProgress(value=0.0, max=2.0), HTML(value='')))"
      ]
     },
     "metadata": {},
     "output_type": "display_data"
    },
    {
     "name": "stdout",
     "output_type": "stream",
     "text": [
      "\n",
      "cell ID =  1772 progress bar below: (n/N frames):\n"
     ]
    },
    {
     "data": {
      "application/vnd.jupyter.widget-view+json": {
       "model_id": "dbe66b5d9c8243cba49c0cbbe99285e8",
       "version_major": 2,
       "version_minor": 0
      },
      "text/plain": [
       "HBox(children=(FloatProgress(value=0.0, max=281.0), HTML(value='')))"
      ]
     },
     "metadata": {},
     "output_type": "display_data"
    },
    {
     "name": "stdout",
     "output_type": "stream",
     "text": [
      "\n",
      "cell ID =  1773 progress bar below: (n/N frames):\n"
     ]
    },
    {
     "data": {
      "application/vnd.jupyter.widget-view+json": {
       "model_id": "8869ef3f222d461b84e1e35ce34af5bd",
       "version_major": 2,
       "version_minor": 0
      },
      "text/plain": [
       "HBox(children=(FloatProgress(value=0.0, max=17.0), HTML(value='')))"
      ]
     },
     "metadata": {},
     "output_type": "display_data"
    },
    {
     "name": "stdout",
     "output_type": "stream",
     "text": [
      "\n",
      "cell ID =  1777 progress bar below: (n/N frames):\n"
     ]
    },
    {
     "data": {
      "application/vnd.jupyter.widget-view+json": {
       "model_id": "482f7509ffa6418d8056be9fe79be133",
       "version_major": 2,
       "version_minor": 0
      },
      "text/plain": [
       "HBox(children=(FloatProgress(value=0.0, max=279.0), HTML(value='')))"
      ]
     },
     "metadata": {},
     "output_type": "display_data"
    },
    {
     "name": "stdout",
     "output_type": "stream",
     "text": [
      "\n",
      "cell ID =  1778 progress bar below: (n/N frames):\n"
     ]
    },
    {
     "data": {
      "application/vnd.jupyter.widget-view+json": {
       "model_id": "f86ada9c2a7d4f0b9c38718749aab5fa",
       "version_major": 2,
       "version_minor": 0
      },
      "text/plain": [
       "HBox(children=(FloatProgress(value=0.0, max=3.0), HTML(value='')))"
      ]
     },
     "metadata": {},
     "output_type": "display_data"
    },
    {
     "name": "stdout",
     "output_type": "stream",
     "text": [
      "\n",
      "cell ID =  1779 progress bar below: (n/N frames):\n"
     ]
    },
    {
     "data": {
      "application/vnd.jupyter.widget-view+json": {
       "model_id": "f6bba7086d8c4cca9f09a0c3b4570f02",
       "version_major": 2,
       "version_minor": 0
      },
      "text/plain": [
       "HBox(children=(FloatProgress(value=0.0, max=2.0), HTML(value='')))"
      ]
     },
     "metadata": {},
     "output_type": "display_data"
    },
    {
     "name": "stdout",
     "output_type": "stream",
     "text": [
      "\n",
      "cell ID =  1780 progress bar below: (n/N frames):\n"
     ]
    },
    {
     "data": {
      "application/vnd.jupyter.widget-view+json": {
       "model_id": "2b02f20094174a679e4b1bc5392ce0b7",
       "version_major": 2,
       "version_minor": 0
      },
      "text/plain": [
       "HBox(children=(FloatProgress(value=0.0, max=9.0), HTML(value='')))"
      ]
     },
     "metadata": {},
     "output_type": "display_data"
    },
    {
     "name": "stdout",
     "output_type": "stream",
     "text": [
      "\n",
      "cell ID =  1781 progress bar below: (n/N frames):\n"
     ]
    },
    {
     "data": {
      "application/vnd.jupyter.widget-view+json": {
       "model_id": "252772b3005a480695818ccf341f8d6b",
       "version_major": 2,
       "version_minor": 0
      },
      "text/plain": [
       "HBox(children=(FloatProgress(value=0.0, max=277.0), HTML(value='')))"
      ]
     },
     "metadata": {},
     "output_type": "display_data"
    },
    {
     "name": "stdout",
     "output_type": "stream",
     "text": [
      "\n",
      "cell ID =  1784 progress bar below: (n/N frames):\n"
     ]
    },
    {
     "data": {
      "application/vnd.jupyter.widget-view+json": {
       "model_id": "3ad65077fcab46128a3d361085cdccad",
       "version_major": 2,
       "version_minor": 0
      },
      "text/plain": [
       "HBox(children=(FloatProgress(value=0.0, max=25.0), HTML(value='')))"
      ]
     },
     "metadata": {},
     "output_type": "display_data"
    },
    {
     "name": "stdout",
     "output_type": "stream",
     "text": [
      "\n",
      "cell ID =  1785 progress bar below: (n/N frames):\n"
     ]
    },
    {
     "data": {
      "application/vnd.jupyter.widget-view+json": {
       "model_id": "ca8824f7716a4effb314743087d8efa5",
       "version_major": 2,
       "version_minor": 0
      },
      "text/plain": [
       "HBox(children=(FloatProgress(value=0.0, max=276.0), HTML(value='')))"
      ]
     },
     "metadata": {},
     "output_type": "display_data"
    },
    {
     "name": "stdout",
     "output_type": "stream",
     "text": [
      "\n",
      "cell ID =  1786 progress bar below: (n/N frames):\n"
     ]
    },
    {
     "data": {
      "application/vnd.jupyter.widget-view+json": {
       "model_id": "7cda17142484400f921ac9c3db2d2fdb",
       "version_major": 2,
       "version_minor": 0
      },
      "text/plain": [
       "HBox(children=(FloatProgress(value=0.0, max=3.0), HTML(value='')))"
      ]
     },
     "metadata": {},
     "output_type": "display_data"
    },
    {
     "name": "stdout",
     "output_type": "stream",
     "text": [
      "\n",
      "cell ID =  1787 progress bar below: (n/N frames):\n"
     ]
    },
    {
     "data": {
      "application/vnd.jupyter.widget-view+json": {
       "model_id": "9f8db83c107847cdab288efe00e8d143",
       "version_major": 2,
       "version_minor": 0
      },
      "text/plain": [
       "HBox(children=(FloatProgress(value=0.0, max=276.0), HTML(value='')))"
      ]
     },
     "metadata": {},
     "output_type": "display_data"
    },
    {
     "name": "stdout",
     "output_type": "stream",
     "text": [
      "\n",
      "cell ID =  1788 progress bar below: (n/N frames):\n"
     ]
    },
    {
     "data": {
      "application/vnd.jupyter.widget-view+json": {
       "model_id": "4f970b184f194f6a907cc1a6468f5750",
       "version_major": 2,
       "version_minor": 0
      },
      "text/plain": [
       "HBox(children=(FloatProgress(value=0.0, max=2.0), HTML(value='')))"
      ]
     },
     "metadata": {},
     "output_type": "display_data"
    },
    {
     "name": "stdout",
     "output_type": "stream",
     "text": [
      "\n",
      "cell ID =  1789 progress bar below: (n/N frames):\n"
     ]
    },
    {
     "data": {
      "application/vnd.jupyter.widget-view+json": {
       "model_id": "acf0c973a5d440449ff81ba03efc0cb7",
       "version_major": 2,
       "version_minor": 0
      },
      "text/plain": [
       "HBox(children=(FloatProgress(value=0.0, max=2.0), HTML(value='')))"
      ]
     },
     "metadata": {},
     "output_type": "display_data"
    },
    {
     "name": "stdout",
     "output_type": "stream",
     "text": [
      "\n",
      "cell ID =  1790 progress bar below: (n/N frames):\n"
     ]
    },
    {
     "data": {
      "application/vnd.jupyter.widget-view+json": {
       "model_id": "99127e2b1a9441eb8272bdfb5153dba2",
       "version_major": 2,
       "version_minor": 0
      },
      "text/plain": [
       "HBox(children=(FloatProgress(value=0.0, max=276.0), HTML(value='')))"
      ]
     },
     "metadata": {},
     "output_type": "display_data"
    },
    {
     "name": "stdout",
     "output_type": "stream",
     "text": [
      "\n",
      "cell ID =  1793 progress bar below: (n/N frames):\n"
     ]
    },
    {
     "data": {
      "application/vnd.jupyter.widget-view+json": {
       "model_id": "06408c201ac54d66812cf5adcadce1f9",
       "version_major": 2,
       "version_minor": 0
      },
      "text/plain": [
       "HBox(children=(FloatProgress(value=0.0, max=2.0), HTML(value='')))"
      ]
     },
     "metadata": {},
     "output_type": "display_data"
    },
    {
     "name": "stdout",
     "output_type": "stream",
     "text": [
      "\n",
      "cell ID =  1792 progress bar below: (n/N frames):\n"
     ]
    },
    {
     "data": {
      "application/vnd.jupyter.widget-view+json": {
       "model_id": "2587f5d516fb4944ae7f10707b996138",
       "version_major": 2,
       "version_minor": 0
      },
      "text/plain": [
       "HBox(children=(FloatProgress(value=0.0, max=4.0), HTML(value='')))"
      ]
     },
     "metadata": {},
     "output_type": "display_data"
    },
    {
     "name": "stdout",
     "output_type": "stream",
     "text": [
      "\n",
      "cell ID =  1791 progress bar below: (n/N frames):\n"
     ]
    },
    {
     "data": {
      "application/vnd.jupyter.widget-view+json": {
       "model_id": "92047ddab66b44b8b4948e0cd2c9f7ad",
       "version_major": 2,
       "version_minor": 0
      },
      "text/plain": [
       "HBox(children=(FloatProgress(value=0.0, max=2.0), HTML(value='')))"
      ]
     },
     "metadata": {},
     "output_type": "display_data"
    },
    {
     "name": "stdout",
     "output_type": "stream",
     "text": [
      "\n",
      "cell ID =  1795 progress bar below: (n/N frames):\n"
     ]
    },
    {
     "data": {
      "application/vnd.jupyter.widget-view+json": {
       "model_id": "5cebe4d4d6874d4f9fed1734d7216500",
       "version_major": 2,
       "version_minor": 0
      },
      "text/plain": [
       "HBox(children=(FloatProgress(value=0.0, max=146.0), HTML(value='')))"
      ]
     },
     "metadata": {},
     "output_type": "display_data"
    },
    {
     "name": "stdout",
     "output_type": "stream",
     "text": [
      "\n",
      "cell ID =  1796 progress bar below: (n/N frames):\n"
     ]
    },
    {
     "data": {
      "application/vnd.jupyter.widget-view+json": {
       "model_id": "e800e24104204740888ed8e73192278c",
       "version_major": 2,
       "version_minor": 0
      },
      "text/plain": [
       "HBox(children=(FloatProgress(value=0.0, max=4.0), HTML(value='')))"
      ]
     },
     "metadata": {},
     "output_type": "display_data"
    },
    {
     "name": "stdout",
     "output_type": "stream",
     "text": [
      "\n",
      "cell ID =  1799 progress bar below: (n/N frames):\n"
     ]
    },
    {
     "data": {
      "application/vnd.jupyter.widget-view+json": {
       "model_id": "c85a5b7217934576b1d7903c89dff937",
       "version_major": 2,
       "version_minor": 0
      },
      "text/plain": [
       "HBox(children=(FloatProgress(value=0.0, max=270.0), HTML(value='')))"
      ]
     },
     "metadata": {},
     "output_type": "display_data"
    },
    {
     "name": "stdout",
     "output_type": "stream",
     "text": [
      "\n",
      "cell ID =  1800 progress bar below: (n/N frames):\n"
     ]
    },
    {
     "data": {
      "application/vnd.jupyter.widget-view+json": {
       "model_id": "654339ef7d7440fea2b03ad064240c32",
       "version_major": 2,
       "version_minor": 0
      },
      "text/plain": [
       "HBox(children=(FloatProgress(value=0.0, max=23.0), HTML(value='')))"
      ]
     },
     "metadata": {},
     "output_type": "display_data"
    },
    {
     "name": "stdout",
     "output_type": "stream",
     "text": [
      "\n",
      "cell ID =  1801 progress bar below: (n/N frames):\n"
     ]
    },
    {
     "data": {
      "application/vnd.jupyter.widget-view+json": {
       "model_id": "610d219f3de14468a45446981b20851e",
       "version_major": 2,
       "version_minor": 0
      },
      "text/plain": [
       "HBox(children=(FloatProgress(value=0.0, max=263.0), HTML(value='')))"
      ]
     },
     "metadata": {},
     "output_type": "display_data"
    },
    {
     "name": "stdout",
     "output_type": "stream",
     "text": [
      "\n",
      "cell ID =  1802 progress bar below: (n/N frames):\n"
     ]
    },
    {
     "data": {
      "application/vnd.jupyter.widget-view+json": {
       "model_id": "5f3bad6b9cbf459596bb741fabc1b620",
       "version_major": 2,
       "version_minor": 0
      },
      "text/plain": [
       "HBox(children=(FloatProgress(value=0.0, max=5.0), HTML(value='')))"
      ]
     },
     "metadata": {},
     "output_type": "display_data"
    },
    {
     "name": "stdout",
     "output_type": "stream",
     "text": [
      "\n",
      "cell ID =  1804 progress bar below: (n/N frames):\n"
     ]
    },
    {
     "data": {
      "application/vnd.jupyter.widget-view+json": {
       "model_id": "4416edc8a8694c84a8222ebd27edd585",
       "version_major": 2,
       "version_minor": 0
      },
      "text/plain": [
       "HBox(children=(FloatProgress(value=0.0, max=8.0), HTML(value='')))"
      ]
     },
     "metadata": {},
     "output_type": "display_data"
    },
    {
     "name": "stdout",
     "output_type": "stream",
     "text": [
      "\n",
      "cell ID =  1805 progress bar below: (n/N frames):\n"
     ]
    },
    {
     "data": {
      "application/vnd.jupyter.widget-view+json": {
       "model_id": "37854875e3a342d18c2f687bc1d1bf79",
       "version_major": 2,
       "version_minor": 0
      },
      "text/plain": [
       "HBox(children=(FloatProgress(value=0.0, max=270.0), HTML(value='')))"
      ]
     },
     "metadata": {},
     "output_type": "display_data"
    },
    {
     "name": "stdout",
     "output_type": "stream",
     "text": [
      "\n",
      "cell ID =  1810 progress bar below: (n/N frames):\n"
     ]
    },
    {
     "data": {
      "application/vnd.jupyter.widget-view+json": {
       "model_id": "71bb895d82f54c2ba36a4dfd574d7259",
       "version_major": 2,
       "version_minor": 0
      },
      "text/plain": [
       "HBox(children=(FloatProgress(value=0.0, max=8.0), HTML(value='')))"
      ]
     },
     "metadata": {},
     "output_type": "display_data"
    },
    {
     "name": "stdout",
     "output_type": "stream",
     "text": [
      "\n",
      "cell ID =  1813 progress bar below: (n/N frames):\n"
     ]
    },
    {
     "data": {
      "application/vnd.jupyter.widget-view+json": {
       "model_id": "551aec61d3e745e1ae72c78488b989e6",
       "version_major": 2,
       "version_minor": 0
      },
      "text/plain": [
       "HBox(children=(FloatProgress(value=0.0, max=138.0), HTML(value='')))"
      ]
     },
     "metadata": {},
     "output_type": "display_data"
    },
    {
     "name": "stdout",
     "output_type": "stream",
     "text": [
      "\n",
      "cell ID =  1811 progress bar below: (n/N frames):\n"
     ]
    },
    {
     "data": {
      "application/vnd.jupyter.widget-view+json": {
       "model_id": "3e4fdde91ece4639b268047b4229daa2",
       "version_major": 2,
       "version_minor": 0
      },
      "text/plain": [
       "HBox(children=(FloatProgress(value=0.0, max=268.0), HTML(value='')))"
      ]
     },
     "metadata": {},
     "output_type": "display_data"
    },
    {
     "name": "stdout",
     "output_type": "stream",
     "text": [
      "\n",
      "cell ID =  1809 progress bar below: (n/N frames):\n"
     ]
    },
    {
     "data": {
      "application/vnd.jupyter.widget-view+json": {
       "model_id": "636d441528814085b9570794b1a2a801",
       "version_major": 2,
       "version_minor": 0
      },
      "text/plain": [
       "HBox(children=(FloatProgress(value=0.0, max=6.0), HTML(value='')))"
      ]
     },
     "metadata": {},
     "output_type": "display_data"
    },
    {
     "name": "stdout",
     "output_type": "stream",
     "text": [
      "\n",
      "cell ID =  1808 progress bar below: (n/N frames):\n"
     ]
    },
    {
     "data": {
      "application/vnd.jupyter.widget-view+json": {
       "model_id": "51dd5c4725da4defa3b136c89f87f5ad",
       "version_major": 2,
       "version_minor": 0
      },
      "text/plain": [
       "HBox(children=(FloatProgress(value=0.0, max=249.0), HTML(value='')))"
      ]
     },
     "metadata": {},
     "output_type": "display_data"
    },
    {
     "name": "stdout",
     "output_type": "stream",
     "text": [
      "\n",
      "cell ID =  1806 progress bar below: (n/N frames):\n"
     ]
    },
    {
     "data": {
      "application/vnd.jupyter.widget-view+json": {
       "model_id": "5331dfb8726c4f1082ef0a5ef9cb4208",
       "version_major": 2,
       "version_minor": 0
      },
      "text/plain": [
       "HBox(children=(FloatProgress(value=0.0, max=2.0), HTML(value='')))"
      ]
     },
     "metadata": {},
     "output_type": "display_data"
    },
    {
     "name": "stdout",
     "output_type": "stream",
     "text": [
      "\n",
      "cell ID =  1815 progress bar below: (n/N frames):\n"
     ]
    },
    {
     "data": {
      "application/vnd.jupyter.widget-view+json": {
       "model_id": "ef687b0a65364235b25559b0248f8f62",
       "version_major": 2,
       "version_minor": 0
      },
      "text/plain": [
       "HBox(children=(FloatProgress(value=0.0, max=2.0), HTML(value='')))"
      ]
     },
     "metadata": {},
     "output_type": "display_data"
    },
    {
     "name": "stdout",
     "output_type": "stream",
     "text": [
      "\n",
      "cell ID =  1817 progress bar below: (n/N frames):\n"
     ]
    },
    {
     "data": {
      "application/vnd.jupyter.widget-view+json": {
       "model_id": "d5c977bd25b9474a9243f4243fab8995",
       "version_major": 2,
       "version_minor": 0
      },
      "text/plain": [
       "HBox(children=(FloatProgress(value=0.0, max=266.0), HTML(value='')))"
      ]
     },
     "metadata": {},
     "output_type": "display_data"
    },
    {
     "name": "stdout",
     "output_type": "stream",
     "text": [
      "\n",
      "cell ID =  1818 progress bar below: (n/N frames):\n"
     ]
    },
    {
     "data": {
      "application/vnd.jupyter.widget-view+json": {
       "model_id": "c3c3dc77ab264e92a764eea5a2ae3bff",
       "version_major": 2,
       "version_minor": 0
      },
      "text/plain": [
       "HBox(children=(FloatProgress(value=0.0, max=13.0), HTML(value='')))"
      ]
     },
     "metadata": {},
     "output_type": "display_data"
    },
    {
     "name": "stdout",
     "output_type": "stream",
     "text": [
      "\n",
      "cell ID =  1821 progress bar below: (n/N frames):\n"
     ]
    },
    {
     "data": {
      "application/vnd.jupyter.widget-view+json": {
       "model_id": "1671364feae24b29908b9a1048f059cd",
       "version_major": 2,
       "version_minor": 0
      },
      "text/plain": [
       "HBox(children=(FloatProgress(value=0.0, max=8.0), HTML(value='')))"
      ]
     },
     "metadata": {},
     "output_type": "display_data"
    },
    {
     "name": "stdout",
     "output_type": "stream",
     "text": [
      "\n",
      "cell ID =  1822 progress bar below: (n/N frames):\n"
     ]
    },
    {
     "data": {
      "application/vnd.jupyter.widget-view+json": {
       "model_id": "387f12939eee4cc68533e67a2a9a7dfa",
       "version_major": 2,
       "version_minor": 0
      },
      "text/plain": [
       "HBox(children=(FloatProgress(value=0.0, max=37.0), HTML(value='')))"
      ]
     },
     "metadata": {},
     "output_type": "display_data"
    },
    {
     "name": "stdout",
     "output_type": "stream",
     "text": [
      "\n",
      "cell ID =  1824 progress bar below: (n/N frames):\n"
     ]
    },
    {
     "data": {
      "application/vnd.jupyter.widget-view+json": {
       "model_id": "e81854c8b5784fea9f3ab38e298931ce",
       "version_major": 2,
       "version_minor": 0
      },
      "text/plain": [
       "HBox(children=(FloatProgress(value=0.0, max=32.0), HTML(value='')))"
      ]
     },
     "metadata": {},
     "output_type": "display_data"
    },
    {
     "name": "stdout",
     "output_type": "stream",
     "text": [
      "\n",
      "cell ID =  1825 progress bar below: (n/N frames):\n"
     ]
    },
    {
     "data": {
      "application/vnd.jupyter.widget-view+json": {
       "model_id": "33c3242dee454d7385e691667a39a0e2",
       "version_major": 2,
       "version_minor": 0
      },
      "text/plain": [
       "HBox(children=(FloatProgress(value=0.0, max=264.0), HTML(value='')))"
      ]
     },
     "metadata": {},
     "output_type": "display_data"
    },
    {
     "name": "stdout",
     "output_type": "stream",
     "text": [
      "\n",
      "cell ID =  1826 progress bar below: (n/N frames):\n"
     ]
    },
    {
     "data": {
      "application/vnd.jupyter.widget-view+json": {
       "model_id": "a73e9e0b8de84e01b216decf07bcacdc",
       "version_major": 2,
       "version_minor": 0
      },
      "text/plain": [
       "HBox(children=(FloatProgress(value=0.0, max=248.0), HTML(value='')))"
      ]
     },
     "metadata": {},
     "output_type": "display_data"
    },
    {
     "name": "stdout",
     "output_type": "stream",
     "text": [
      "\n",
      "cell ID =  1828 progress bar below: (n/N frames):\n"
     ]
    },
    {
     "data": {
      "application/vnd.jupyter.widget-view+json": {
       "model_id": "a1b1c535ee0d4f24ae948fb44b2cbaf9",
       "version_major": 2,
       "version_minor": 0
      },
      "text/plain": [
       "HBox(children=(FloatProgress(value=0.0, max=8.0), HTML(value='')))"
      ]
     },
     "metadata": {},
     "output_type": "display_data"
    },
    {
     "name": "stdout",
     "output_type": "stream",
     "text": [
      "\n",
      "cell ID =  1831 progress bar below: (n/N frames):\n"
     ]
    },
    {
     "data": {
      "application/vnd.jupyter.widget-view+json": {
       "model_id": "7e826fe1283d4e8781f644459efe69c6",
       "version_major": 2,
       "version_minor": 0
      },
      "text/plain": [
       "HBox(children=(FloatProgress(value=0.0, max=3.0), HTML(value='')))"
      ]
     },
     "metadata": {},
     "output_type": "display_data"
    },
    {
     "name": "stdout",
     "output_type": "stream",
     "text": [
      "\n",
      "cell ID =  1833 progress bar below: (n/N frames):\n"
     ]
    },
    {
     "data": {
      "application/vnd.jupyter.widget-view+json": {
       "model_id": "03756918fa96450ba705ba26bdfbcd01",
       "version_major": 2,
       "version_minor": 0
      },
      "text/plain": [
       "HBox(children=(FloatProgress(value=0.0, max=263.0), HTML(value='')))"
      ]
     },
     "metadata": {},
     "output_type": "display_data"
    },
    {
     "name": "stdout",
     "output_type": "stream",
     "text": [
      "\n",
      "cell ID =  1832 progress bar below: (n/N frames):\n"
     ]
    },
    {
     "data": {
      "application/vnd.jupyter.widget-view+json": {
       "model_id": "fedacda313d244d684ff6e2648a0730a",
       "version_major": 2,
       "version_minor": 0
      },
      "text/plain": [
       "HBox(children=(FloatProgress(value=0.0, max=18.0), HTML(value='')))"
      ]
     },
     "metadata": {},
     "output_type": "display_data"
    },
    {
     "name": "stdout",
     "output_type": "stream",
     "text": [
      "\n",
      "cell ID =  1829 progress bar below: (n/N frames):\n"
     ]
    },
    {
     "data": {
      "application/vnd.jupyter.widget-view+json": {
       "model_id": "abdf456a57ba4966b0df2ddebe3c4fe2",
       "version_major": 2,
       "version_minor": 0
      },
      "text/plain": [
       "HBox(children=(FloatProgress(value=0.0, max=10.0), HTML(value='')))"
      ]
     },
     "metadata": {},
     "output_type": "display_data"
    },
    {
     "name": "stdout",
     "output_type": "stream",
     "text": [
      "\n",
      "cell ID =  1834 progress bar below: (n/N frames):\n"
     ]
    },
    {
     "data": {
      "application/vnd.jupyter.widget-view+json": {
       "model_id": "404f7b9b57aa44f182952db43399346c",
       "version_major": 2,
       "version_minor": 0
      },
      "text/plain": [
       "HBox(children=(FloatProgress(value=0.0, max=262.0), HTML(value='')))"
      ]
     },
     "metadata": {},
     "output_type": "display_data"
    },
    {
     "name": "stdout",
     "output_type": "stream",
     "text": [
      "\n",
      "cell ID =  1835 progress bar below: (n/N frames):\n"
     ]
    },
    {
     "data": {
      "application/vnd.jupyter.widget-view+json": {
       "model_id": "5fda215a066c490988426fa39cb439ab",
       "version_major": 2,
       "version_minor": 0
      },
      "text/plain": [
       "HBox(children=(FloatProgress(value=0.0, max=260.0), HTML(value='')))"
      ]
     },
     "metadata": {},
     "output_type": "display_data"
    },
    {
     "name": "stdout",
     "output_type": "stream",
     "text": [
      "\n",
      "cell ID =  1836 progress bar below: (n/N frames):\n"
     ]
    },
    {
     "data": {
      "application/vnd.jupyter.widget-view+json": {
       "model_id": "d4e59cef3bf145d388f870be90f0f0a8",
       "version_major": 2,
       "version_minor": 0
      },
      "text/plain": [
       "HBox(children=(FloatProgress(value=0.0, max=121.0), HTML(value='')))"
      ]
     },
     "metadata": {},
     "output_type": "display_data"
    },
    {
     "name": "stdout",
     "output_type": "stream",
     "text": [
      "\n",
      "cell ID =  1839 progress bar below: (n/N frames):\n"
     ]
    },
    {
     "data": {
      "application/vnd.jupyter.widget-view+json": {
       "model_id": "636e973068dc4f6b90231d2cfe90494a",
       "version_major": 2,
       "version_minor": 0
      },
      "text/plain": [
       "HBox(children=(FloatProgress(value=0.0, max=259.0), HTML(value='')))"
      ]
     },
     "metadata": {},
     "output_type": "display_data"
    },
    {
     "name": "stdout",
     "output_type": "stream",
     "text": [
      "\n",
      "cell ID =  1842 progress bar below: (n/N frames):\n"
     ]
    },
    {
     "data": {
      "application/vnd.jupyter.widget-view+json": {
       "model_id": "a3b2d8b9ae1f441bb5ce4129e805458a",
       "version_major": 2,
       "version_minor": 0
      },
      "text/plain": [
       "HBox(children=(FloatProgress(value=0.0, max=258.0), HTML(value='')))"
      ]
     },
     "metadata": {},
     "output_type": "display_data"
    },
    {
     "name": "stdout",
     "output_type": "stream",
     "text": [
      "\n",
      "cell ID =  1844 progress bar below: (n/N frames):\n"
     ]
    },
    {
     "data": {
      "application/vnd.jupyter.widget-view+json": {
       "model_id": "34e3ecf2031d4cb5a5745606b28a083e",
       "version_major": 2,
       "version_minor": 0
      },
      "text/plain": [
       "HBox(children=(FloatProgress(value=0.0, max=257.0), HTML(value='')))"
      ]
     },
     "metadata": {},
     "output_type": "display_data"
    },
    {
     "name": "stdout",
     "output_type": "stream",
     "text": [
      "\n",
      "cell ID =  1845 progress bar below: (n/N frames):\n"
     ]
    },
    {
     "data": {
      "application/vnd.jupyter.widget-view+json": {
       "model_id": "35d8f74f065c4b36bca19eee22fb71e0",
       "version_major": 2,
       "version_minor": 0
      },
      "text/plain": [
       "HBox(children=(FloatProgress(value=0.0, max=206.0), HTML(value='')))"
      ]
     },
     "metadata": {},
     "output_type": "display_data"
    },
    {
     "name": "stdout",
     "output_type": "stream",
     "text": [
      "\n",
      "cell ID =  1847 progress bar below: (n/N frames):\n"
     ]
    },
    {
     "data": {
      "application/vnd.jupyter.widget-view+json": {
       "model_id": "fb3d598eb88f4603b88caf5e8e15b781",
       "version_major": 2,
       "version_minor": 0
      },
      "text/plain": [
       "HBox(children=(FloatProgress(value=0.0, max=30.0), HTML(value='')))"
      ]
     },
     "metadata": {},
     "output_type": "display_data"
    },
    {
     "name": "stdout",
     "output_type": "stream",
     "text": [
      "\n",
      "cell ID =  1848 progress bar below: (n/N frames):\n"
     ]
    },
    {
     "data": {
      "application/vnd.jupyter.widget-view+json": {
       "model_id": "d619684c050640c38d385cabba1c2b6b",
       "version_major": 2,
       "version_minor": 0
      },
      "text/plain": [
       "HBox(children=(FloatProgress(value=0.0, max=3.0), HTML(value='')))"
      ]
     },
     "metadata": {},
     "output_type": "display_data"
    },
    {
     "name": "stdout",
     "output_type": "stream",
     "text": [
      "\n",
      "cell ID =  1852 progress bar below: (n/N frames):\n"
     ]
    },
    {
     "data": {
      "application/vnd.jupyter.widget-view+json": {
       "model_id": "0fe9876d8bee4ca189a1336115c9f962",
       "version_major": 2,
       "version_minor": 0
      },
      "text/plain": [
       "HBox(children=(FloatProgress(value=0.0, max=43.0), HTML(value='')))"
      ]
     },
     "metadata": {},
     "output_type": "display_data"
    },
    {
     "name": "stdout",
     "output_type": "stream",
     "text": [
      "\n",
      "cell ID =  1854 progress bar below: (n/N frames):\n"
     ]
    },
    {
     "data": {
      "application/vnd.jupyter.widget-view+json": {
       "model_id": "ff26b11235064b58b057468137ef7f5e",
       "version_major": 2,
       "version_minor": 0
      },
      "text/plain": [
       "HBox(children=(FloatProgress(value=0.0, max=254.0), HTML(value='')))"
      ]
     },
     "metadata": {},
     "output_type": "display_data"
    },
    {
     "name": "stdout",
     "output_type": "stream",
     "text": [
      "\n",
      "cell ID =  1856 progress bar below: (n/N frames):\n"
     ]
    },
    {
     "data": {
      "application/vnd.jupyter.widget-view+json": {
       "model_id": "ae1c341a65064e33ab7364288cf7ce56",
       "version_major": 2,
       "version_minor": 0
      },
      "text/plain": [
       "HBox(children=(FloatProgress(value=0.0, max=14.0), HTML(value='')))"
      ]
     },
     "metadata": {},
     "output_type": "display_data"
    },
    {
     "name": "stdout",
     "output_type": "stream",
     "text": [
      "\n",
      "cell ID =  1860 progress bar below: (n/N frames):\n"
     ]
    },
    {
     "data": {
      "application/vnd.jupyter.widget-view+json": {
       "model_id": "67ab18373cc7484a9313fc8359598d91",
       "version_major": 2,
       "version_minor": 0
      },
      "text/plain": [
       "HBox(children=(FloatProgress(value=0.0, max=9.0), HTML(value='')))"
      ]
     },
     "metadata": {},
     "output_type": "display_data"
    },
    {
     "name": "stdout",
     "output_type": "stream",
     "text": [
      "\n",
      "cell ID =  1862 progress bar below: (n/N frames):\n"
     ]
    },
    {
     "data": {
      "application/vnd.jupyter.widget-view+json": {
       "model_id": "dbbe8b595ad240189a7b4d758cdbcf86",
       "version_major": 2,
       "version_minor": 0
      },
      "text/plain": [
       "HBox(children=(FloatProgress(value=0.0, max=250.0), HTML(value='')))"
      ]
     },
     "metadata": {},
     "output_type": "display_data"
    },
    {
     "name": "stdout",
     "output_type": "stream",
     "text": [
      "\n",
      "cell ID =  1863 progress bar below: (n/N frames):\n"
     ]
    },
    {
     "data": {
      "application/vnd.jupyter.widget-view+json": {
       "model_id": "7b20d73d839e4349a7ebc40a656afbdf",
       "version_major": 2,
       "version_minor": 0
      },
      "text/plain": [
       "HBox(children=(FloatProgress(value=0.0, max=249.0), HTML(value='')))"
      ]
     },
     "metadata": {},
     "output_type": "display_data"
    },
    {
     "name": "stdout",
     "output_type": "stream",
     "text": [
      "\n",
      "cell ID =  1864 progress bar below: (n/N frames):\n"
     ]
    },
    {
     "data": {
      "application/vnd.jupyter.widget-view+json": {
       "model_id": "549277327435437abf93bf02033556e7",
       "version_major": 2,
       "version_minor": 0
      },
      "text/plain": [
       "HBox(children=(FloatProgress(value=0.0, max=249.0), HTML(value='')))"
      ]
     },
     "metadata": {},
     "output_type": "display_data"
    },
    {
     "name": "stdout",
     "output_type": "stream",
     "text": [
      "\n",
      "cell ID =  1871 progress bar below: (n/N frames):\n"
     ]
    },
    {
     "data": {
      "application/vnd.jupyter.widget-view+json": {
       "model_id": "a008788056e54dbba809ea6a252a7051",
       "version_major": 2,
       "version_minor": 0
      },
      "text/plain": [
       "HBox(children=(FloatProgress(value=0.0, max=2.0), HTML(value='')))"
      ]
     },
     "metadata": {},
     "output_type": "display_data"
    },
    {
     "name": "stdout",
     "output_type": "stream",
     "text": [
      "\n",
      "cell ID =  1869 progress bar below: (n/N frames):\n"
     ]
    },
    {
     "data": {
      "application/vnd.jupyter.widget-view+json": {
       "model_id": "d9b73647c73b433aa492c7d8072b2050",
       "version_major": 2,
       "version_minor": 0
      },
      "text/plain": [
       "HBox(children=(FloatProgress(value=0.0, max=247.0), HTML(value='')))"
      ]
     },
     "metadata": {},
     "output_type": "display_data"
    },
    {
     "name": "stdout",
     "output_type": "stream",
     "text": [
      "\n",
      "cell ID =  1872 progress bar below: (n/N frames):\n"
     ]
    },
    {
     "data": {
      "application/vnd.jupyter.widget-view+json": {
       "model_id": "300c3bc97b3a4b1d9b7de5f8c871ab47",
       "version_major": 2,
       "version_minor": 0
      },
      "text/plain": [
       "HBox(children=(FloatProgress(value=0.0, max=2.0), HTML(value='')))"
      ]
     },
     "metadata": {},
     "output_type": "display_data"
    },
    {
     "name": "stdout",
     "output_type": "stream",
     "text": [
      "\n",
      "cell ID =  1873 progress bar below: (n/N frames):\n"
     ]
    },
    {
     "data": {
      "application/vnd.jupyter.widget-view+json": {
       "model_id": "88a763a10922401a89869fec9b0bb1ab",
       "version_major": 2,
       "version_minor": 0
      },
      "text/plain": [
       "HBox(children=(FloatProgress(value=0.0, max=21.0), HTML(value='')))"
      ]
     },
     "metadata": {},
     "output_type": "display_data"
    },
    {
     "name": "stdout",
     "output_type": "stream",
     "text": [
      "\n",
      "cell ID =  1874 progress bar below: (n/N frames):\n"
     ]
    },
    {
     "data": {
      "application/vnd.jupyter.widget-view+json": {
       "model_id": "5836a0f9c4f94fc79204193e43857d2f",
       "version_major": 2,
       "version_minor": 0
      },
      "text/plain": [
       "HBox(children=(FloatProgress(value=0.0, max=242.0), HTML(value='')))"
      ]
     },
     "metadata": {},
     "output_type": "display_data"
    },
    {
     "name": "stdout",
     "output_type": "stream",
     "text": [
      "\n",
      "cell ID =  1875 progress bar below: (n/N frames):\n"
     ]
    },
    {
     "data": {
      "application/vnd.jupyter.widget-view+json": {
       "model_id": "67c97b7e9b3d42d58d807721dd393e79",
       "version_major": 2,
       "version_minor": 0
      },
      "text/plain": [
       "HBox(children=(FloatProgress(value=0.0, max=4.0), HTML(value='')))"
      ]
     },
     "metadata": {},
     "output_type": "display_data"
    },
    {
     "name": "stdout",
     "output_type": "stream",
     "text": [
      "\n",
      "cell ID =  1876 progress bar below: (n/N frames):\n"
     ]
    },
    {
     "data": {
      "application/vnd.jupyter.widget-view+json": {
       "model_id": "425623d8f55746dcbe47acb5158ae2cc",
       "version_major": 2,
       "version_minor": 0
      },
      "text/plain": [
       "HBox(children=(FloatProgress(value=0.0, max=2.0), HTML(value='')))"
      ]
     },
     "metadata": {},
     "output_type": "display_data"
    },
    {
     "name": "stdout",
     "output_type": "stream",
     "text": [
      "\n",
      "cell ID =  1878 progress bar below: (n/N frames):\n"
     ]
    },
    {
     "data": {
      "application/vnd.jupyter.widget-view+json": {
       "model_id": "0fe8570e14234fdb9d5b5b940753a50f",
       "version_major": 2,
       "version_minor": 0
      },
      "text/plain": [
       "HBox(children=(FloatProgress(value=0.0, max=16.0), HTML(value='')))"
      ]
     },
     "metadata": {},
     "output_type": "display_data"
    },
    {
     "name": "stdout",
     "output_type": "stream",
     "text": [
      "\n",
      "cell ID =  1880 progress bar below: (n/N frames):\n"
     ]
    },
    {
     "data": {
      "application/vnd.jupyter.widget-view+json": {
       "model_id": "016b6f886f1a4b89ad21cb36ba407b9b",
       "version_major": 2,
       "version_minor": 0
      },
      "text/plain": [
       "HBox(children=(FloatProgress(value=0.0, max=2.0), HTML(value='')))"
      ]
     },
     "metadata": {},
     "output_type": "display_data"
    },
    {
     "name": "stdout",
     "output_type": "stream",
     "text": [
      "\n",
      "cell ID =  1883 progress bar below: (n/N frames):\n"
     ]
    },
    {
     "data": {
      "application/vnd.jupyter.widget-view+json": {
       "model_id": "b4cd5000cb2845318516f9aabda73e3f",
       "version_major": 2,
       "version_minor": 0
      },
      "text/plain": [
       "HBox(children=(FloatProgress(value=0.0, max=243.0), HTML(value='')))"
      ]
     },
     "metadata": {},
     "output_type": "display_data"
    },
    {
     "name": "stdout",
     "output_type": "stream",
     "text": [
      "\n",
      "cell ID =  1889 progress bar below: (n/N frames):\n"
     ]
    },
    {
     "data": {
      "application/vnd.jupyter.widget-view+json": {
       "model_id": "0bbcf7cd19db4981a24e16f0717c2b62",
       "version_major": 2,
       "version_minor": 0
      },
      "text/plain": [
       "HBox(children=(FloatProgress(value=0.0, max=3.0), HTML(value='')))"
      ]
     },
     "metadata": {},
     "output_type": "display_data"
    },
    {
     "name": "stdout",
     "output_type": "stream",
     "text": [
      "\n",
      "cell ID =  1891 progress bar below: (n/N frames):\n"
     ]
    },
    {
     "data": {
      "application/vnd.jupyter.widget-view+json": {
       "model_id": "fb4644fc69044afba70fe544eeaf6502",
       "version_major": 2,
       "version_minor": 0
      },
      "text/plain": [
       "HBox(children=(FloatProgress(value=0.0, max=240.0), HTML(value='')))"
      ]
     },
     "metadata": {},
     "output_type": "display_data"
    },
    {
     "name": "stdout",
     "output_type": "stream",
     "text": [
      "\n",
      "cell ID =  1893 progress bar below: (n/N frames):\n"
     ]
    },
    {
     "data": {
      "application/vnd.jupyter.widget-view+json": {
       "model_id": "20a4151be87d4548aeaa84daaa288dcb",
       "version_major": 2,
       "version_minor": 0
      },
      "text/plain": [
       "HBox(children=(FloatProgress(value=0.0, max=3.0), HTML(value='')))"
      ]
     },
     "metadata": {},
     "output_type": "display_data"
    },
    {
     "name": "stdout",
     "output_type": "stream",
     "text": [
      "\n",
      "cell ID =  1894 progress bar below: (n/N frames):\n"
     ]
    },
    {
     "data": {
      "application/vnd.jupyter.widget-view+json": {
       "model_id": "1e2eecea8e474c71938b8b1f402f3a8f",
       "version_major": 2,
       "version_minor": 0
      },
      "text/plain": [
       "HBox(children=(FloatProgress(value=0.0, max=239.0), HTML(value='')))"
      ]
     },
     "metadata": {},
     "output_type": "display_data"
    },
    {
     "name": "stdout",
     "output_type": "stream",
     "text": [
      "\n",
      "cell ID =  1896 progress bar below: (n/N frames):\n"
     ]
    },
    {
     "data": {
      "application/vnd.jupyter.widget-view+json": {
       "model_id": "5555a23a1da343068b7b0524410aac5b",
       "version_major": 2,
       "version_minor": 0
      },
      "text/plain": [
       "HBox(children=(FloatProgress(value=0.0, max=238.0), HTML(value='')))"
      ]
     },
     "metadata": {},
     "output_type": "display_data"
    },
    {
     "name": "stdout",
     "output_type": "stream",
     "text": [
      "\n",
      "cell ID =  1897 progress bar below: (n/N frames):\n"
     ]
    },
    {
     "data": {
      "application/vnd.jupyter.widget-view+json": {
       "model_id": "bb8f46b05bf34ff3aa696c6231928dcc",
       "version_major": 2,
       "version_minor": 0
      },
      "text/plain": [
       "HBox(children=(FloatProgress(value=0.0, max=238.0), HTML(value='')))"
      ]
     },
     "metadata": {},
     "output_type": "display_data"
    },
    {
     "name": "stdout",
     "output_type": "stream",
     "text": [
      "\n",
      "cell ID =  1903 progress bar below: (n/N frames):\n"
     ]
    },
    {
     "data": {
      "application/vnd.jupyter.widget-view+json": {
       "model_id": "d9c6d6d0b5ac4442839d7596b4ffd043",
       "version_major": 2,
       "version_minor": 0
      },
      "text/plain": [
       "HBox(children=(FloatProgress(value=0.0, max=24.0), HTML(value='')))"
      ]
     },
     "metadata": {},
     "output_type": "display_data"
    },
    {
     "name": "stdout",
     "output_type": "stream",
     "text": [
      "\n",
      "cell ID =  1900 progress bar below: (n/N frames):\n"
     ]
    },
    {
     "data": {
      "application/vnd.jupyter.widget-view+json": {
       "model_id": "60ed1746d83546b4a4694dfd47b026bc",
       "version_major": 2,
       "version_minor": 0
      },
      "text/plain": [
       "HBox(children=(FloatProgress(value=0.0, max=237.0), HTML(value='')))"
      ]
     },
     "metadata": {},
     "output_type": "display_data"
    },
    {
     "name": "stdout",
     "output_type": "stream",
     "text": [
      "\n",
      "cell ID =  1898 progress bar below: (n/N frames):\n"
     ]
    },
    {
     "data": {
      "application/vnd.jupyter.widget-view+json": {
       "model_id": "8fa8d24f30d44fe7b5287fb898bb853b",
       "version_major": 2,
       "version_minor": 0
      },
      "text/plain": [
       "HBox(children=(FloatProgress(value=0.0, max=3.0), HTML(value='')))"
      ]
     },
     "metadata": {},
     "output_type": "display_data"
    },
    {
     "name": "stdout",
     "output_type": "stream",
     "text": [
      "\n",
      "cell ID =  1902 progress bar below: (n/N frames):\n"
     ]
    },
    {
     "data": {
      "application/vnd.jupyter.widget-view+json": {
       "model_id": "a02b84cae5b043a88c60aa7960b1a925",
       "version_major": 2,
       "version_minor": 0
      },
      "text/plain": [
       "HBox(children=(FloatProgress(value=0.0, max=10.0), HTML(value='')))"
      ]
     },
     "metadata": {},
     "output_type": "display_data"
    },
    {
     "name": "stdout",
     "output_type": "stream",
     "text": [
      "\n",
      "cell ID =  1909 progress bar below: (n/N frames):\n"
     ]
    },
    {
     "data": {
      "application/vnd.jupyter.widget-view+json": {
       "model_id": "635e6190c0994445b02563a83d2fcfa7",
       "version_major": 2,
       "version_minor": 0
      },
      "text/plain": [
       "HBox(children=(FloatProgress(value=0.0, max=3.0), HTML(value='')))"
      ]
     },
     "metadata": {},
     "output_type": "display_data"
    },
    {
     "name": "stdout",
     "output_type": "stream",
     "text": [
      "\n",
      "cell ID =  1911 progress bar below: (n/N frames):\n"
     ]
    },
    {
     "data": {
      "application/vnd.jupyter.widget-view+json": {
       "model_id": "c82f5a0232fa4829add1b7cbbcb78087",
       "version_major": 2,
       "version_minor": 0
      },
      "text/plain": [
       "HBox(children=(FloatProgress(value=0.0, max=9.0), HTML(value='')))"
      ]
     },
     "metadata": {},
     "output_type": "display_data"
    },
    {
     "name": "stdout",
     "output_type": "stream",
     "text": [
      "\n",
      "cell ID =  1913 progress bar below: (n/N frames):\n"
     ]
    },
    {
     "data": {
      "application/vnd.jupyter.widget-view+json": {
       "model_id": "6adb769c60164d38bb4c3b8f5753d666",
       "version_major": 2,
       "version_minor": 0
      },
      "text/plain": [
       "HBox(children=(FloatProgress(value=0.0, max=234.0), HTML(value='')))"
      ]
     },
     "metadata": {},
     "output_type": "display_data"
    },
    {
     "name": "stdout",
     "output_type": "stream",
     "text": [
      "\n",
      "cell ID =  1914 progress bar below: (n/N frames):\n"
     ]
    },
    {
     "data": {
      "application/vnd.jupyter.widget-view+json": {
       "model_id": "b396648bc72e41a5883e6fa8ea6a697b",
       "version_major": 2,
       "version_minor": 0
      },
      "text/plain": [
       "HBox(children=(FloatProgress(value=0.0, max=38.0), HTML(value='')))"
      ]
     },
     "metadata": {},
     "output_type": "display_data"
    },
    {
     "name": "stdout",
     "output_type": "stream",
     "text": [
      "\n",
      "cell ID =  1915 progress bar below: (n/N frames):\n"
     ]
    },
    {
     "data": {
      "application/vnd.jupyter.widget-view+json": {
       "model_id": "f0de647f254d4ffeade79db1ee99d259",
       "version_major": 2,
       "version_minor": 0
      },
      "text/plain": [
       "HBox(children=(FloatProgress(value=0.0, max=2.0), HTML(value='')))"
      ]
     },
     "metadata": {},
     "output_type": "display_data"
    },
    {
     "name": "stdout",
     "output_type": "stream",
     "text": [
      "\n",
      "cell ID =  1921 progress bar below: (n/N frames):\n"
     ]
    },
    {
     "data": {
      "application/vnd.jupyter.widget-view+json": {
       "model_id": "1bbd9acde3b64b0cb804817ef80f361a",
       "version_major": 2,
       "version_minor": 0
      },
      "text/plain": [
       "HBox(children=(FloatProgress(value=0.0, max=6.0), HTML(value='')))"
      ]
     },
     "metadata": {},
     "output_type": "display_data"
    },
    {
     "name": "stdout",
     "output_type": "stream",
     "text": [
      "\n",
      "cell ID =  1920 progress bar below: (n/N frames):\n"
     ]
    },
    {
     "data": {
      "application/vnd.jupyter.widget-view+json": {
       "model_id": "601c17a6071c440b96bce23b355c8c78",
       "version_major": 2,
       "version_minor": 0
      },
      "text/plain": [
       "HBox(children=(FloatProgress(value=0.0, max=232.0), HTML(value='')))"
      ]
     },
     "metadata": {},
     "output_type": "display_data"
    },
    {
     "name": "stdout",
     "output_type": "stream",
     "text": [
      "\n",
      "cell ID =  1919 progress bar below: (n/N frames):\n"
     ]
    },
    {
     "data": {
      "application/vnd.jupyter.widget-view+json": {
       "model_id": "b9cd6f7abba8490c9200bced90fb76c3",
       "version_major": 2,
       "version_minor": 0
      },
      "text/plain": [
       "HBox(children=(FloatProgress(value=0.0, max=5.0), HTML(value='')))"
      ]
     },
     "metadata": {},
     "output_type": "display_data"
    },
    {
     "name": "stdout",
     "output_type": "stream",
     "text": [
      "\n",
      "cell ID =  1917 progress bar below: (n/N frames):\n"
     ]
    },
    {
     "data": {
      "application/vnd.jupyter.widget-view+json": {
       "model_id": "aced3e926edf469cbd37e35c0852cdc9",
       "version_major": 2,
       "version_minor": 0
      },
      "text/plain": [
       "HBox(children=(FloatProgress(value=0.0, max=2.0), HTML(value='')))"
      ]
     },
     "metadata": {},
     "output_type": "display_data"
    },
    {
     "name": "stdout",
     "output_type": "stream",
     "text": [
      "\n",
      "cell ID =  1916 progress bar below: (n/N frames):\n"
     ]
    },
    {
     "data": {
      "application/vnd.jupyter.widget-view+json": {
       "model_id": "83fb67e26cbc4950a050fe1dae7dc1e7",
       "version_major": 2,
       "version_minor": 0
      },
      "text/plain": [
       "HBox(children=(FloatProgress(value=0.0, max=232.0), HTML(value='')))"
      ]
     },
     "metadata": {},
     "output_type": "display_data"
    },
    {
     "name": "stdout",
     "output_type": "stream",
     "text": [
      "\n",
      "cell ID =  1924 progress bar below: (n/N frames):\n"
     ]
    },
    {
     "data": {
      "application/vnd.jupyter.widget-view+json": {
       "model_id": "82cf3191a3f643509da948d55b40417a",
       "version_major": 2,
       "version_minor": 0
      },
      "text/plain": [
       "HBox(children=(FloatProgress(value=0.0, max=231.0), HTML(value='')))"
      ]
     },
     "metadata": {},
     "output_type": "display_data"
    },
    {
     "name": "stdout",
     "output_type": "stream",
     "text": [
      "\n",
      "cell ID =  1928 progress bar below: (n/N frames):\n"
     ]
    },
    {
     "data": {
      "application/vnd.jupyter.widget-view+json": {
       "model_id": "b2759e3e235f4fa488f34b8f1244344b",
       "version_major": 2,
       "version_minor": 0
      },
      "text/plain": [
       "HBox(children=(FloatProgress(value=0.0, max=139.0), HTML(value='')))"
      ]
     },
     "metadata": {},
     "output_type": "display_data"
    },
    {
     "name": "stdout",
     "output_type": "stream",
     "text": [
      "\n",
      "cell ID =  1929 progress bar below: (n/N frames):\n"
     ]
    },
    {
     "data": {
      "application/vnd.jupyter.widget-view+json": {
       "model_id": "0f40979889f342c4a68ebe7ff1cf3fb7",
       "version_major": 2,
       "version_minor": 0
      },
      "text/plain": [
       "HBox(children=(FloatProgress(value=0.0, max=7.0), HTML(value='')))"
      ]
     },
     "metadata": {},
     "output_type": "display_data"
    },
    {
     "name": "stdout",
     "output_type": "stream",
     "text": [
      "\n",
      "cell ID =  1932 progress bar below: (n/N frames):\n"
     ]
    },
    {
     "data": {
      "application/vnd.jupyter.widget-view+json": {
       "model_id": "a1724587a2064cccaaa24be57c96c16f",
       "version_major": 2,
       "version_minor": 0
      },
      "text/plain": [
       "HBox(children=(FloatProgress(value=0.0, max=225.0), HTML(value='')))"
      ]
     },
     "metadata": {},
     "output_type": "display_data"
    },
    {
     "name": "stdout",
     "output_type": "stream",
     "text": [
      "\n",
      "cell ID =  1934 progress bar below: (n/N frames):\n"
     ]
    },
    {
     "data": {
      "application/vnd.jupyter.widget-view+json": {
       "model_id": "3b489a770d2e4f31ab0392e30bbdfd3d",
       "version_major": 2,
       "version_minor": 0
      },
      "text/plain": [
       "HBox(children=(FloatProgress(value=0.0, max=224.0), HTML(value='')))"
      ]
     },
     "metadata": {},
     "output_type": "display_data"
    },
    {
     "name": "stdout",
     "output_type": "stream",
     "text": [
      "\n",
      "cell ID =  1936 progress bar below: (n/N frames):\n"
     ]
    },
    {
     "data": {
      "application/vnd.jupyter.widget-view+json": {
       "model_id": "cdd48ea898ae408387a5a0db26ab5cde",
       "version_major": 2,
       "version_minor": 0
      },
      "text/plain": [
       "HBox(children=(FloatProgress(value=0.0, max=9.0), HTML(value='')))"
      ]
     },
     "metadata": {},
     "output_type": "display_data"
    },
    {
     "name": "stdout",
     "output_type": "stream",
     "text": [
      "\n",
      "cell ID =  1938 progress bar below: (n/N frames):\n"
     ]
    },
    {
     "data": {
      "application/vnd.jupyter.widget-view+json": {
       "model_id": "14dce338b28041b98b4a71f7c32f2572",
       "version_major": 2,
       "version_minor": 0
      },
      "text/plain": [
       "HBox(children=(FloatProgress(value=0.0, max=223.0), HTML(value='')))"
      ]
     },
     "metadata": {},
     "output_type": "display_data"
    },
    {
     "name": "stdout",
     "output_type": "stream",
     "text": [
      "\n",
      "cell ID =  1939 progress bar below: (n/N frames):\n"
     ]
    },
    {
     "data": {
      "application/vnd.jupyter.widget-view+json": {
       "model_id": "0af52cd02971406f8dbb557f49c23fff",
       "version_major": 2,
       "version_minor": 0
      },
      "text/plain": [
       "HBox(children=(FloatProgress(value=0.0, max=223.0), HTML(value='')))"
      ]
     },
     "metadata": {},
     "output_type": "display_data"
    },
    {
     "name": "stdout",
     "output_type": "stream",
     "text": [
      "\n",
      "cell ID =  1941 progress bar below: (n/N frames):\n"
     ]
    },
    {
     "data": {
      "application/vnd.jupyter.widget-view+json": {
       "model_id": "8ffa906f584641258396f7b40db89130",
       "version_major": 2,
       "version_minor": 0
      },
      "text/plain": [
       "HBox(children=(FloatProgress(value=0.0, max=2.0), HTML(value='')))"
      ]
     },
     "metadata": {},
     "output_type": "display_data"
    },
    {
     "name": "stdout",
     "output_type": "stream",
     "text": [
      "\n",
      "cell ID =  1942 progress bar below: (n/N frames):\n"
     ]
    },
    {
     "data": {
      "application/vnd.jupyter.widget-view+json": {
       "model_id": "c6d4b6e2b09d4171907e22f78ca3b1f8",
       "version_major": 2,
       "version_minor": 0
      },
      "text/plain": [
       "HBox(children=(FloatProgress(value=0.0, max=4.0), HTML(value='')))"
      ]
     },
     "metadata": {},
     "output_type": "display_data"
    },
    {
     "name": "stdout",
     "output_type": "stream",
     "text": [
      "\n",
      "cell ID =  1944 progress bar below: (n/N frames):\n"
     ]
    },
    {
     "data": {
      "application/vnd.jupyter.widget-view+json": {
       "model_id": "e4544cc5928242fa8466ffe7d836968f",
       "version_major": 2,
       "version_minor": 0
      },
      "text/plain": [
       "HBox(children=(FloatProgress(value=0.0, max=220.0), HTML(value='')))"
      ]
     },
     "metadata": {},
     "output_type": "display_data"
    },
    {
     "name": "stdout",
     "output_type": "stream",
     "text": [
      "\n",
      "cell ID =  1945 progress bar below: (n/N frames):\n"
     ]
    },
    {
     "data": {
      "application/vnd.jupyter.widget-view+json": {
       "model_id": "9db165f375f242169517098b266c29d8",
       "version_major": 2,
       "version_minor": 0
      },
      "text/plain": [
       "HBox(children=(FloatProgress(value=0.0, max=220.0), HTML(value='')))"
      ]
     },
     "metadata": {},
     "output_type": "display_data"
    },
    {
     "name": "stdout",
     "output_type": "stream",
     "text": [
      "\n",
      "cell ID =  1946 progress bar below: (n/N frames):\n"
     ]
    },
    {
     "data": {
      "application/vnd.jupyter.widget-view+json": {
       "model_id": "3bee33fb46224aa88d737184225d5e45",
       "version_major": 2,
       "version_minor": 0
      },
      "text/plain": [
       "HBox(children=(FloatProgress(value=0.0, max=12.0), HTML(value='')))"
      ]
     },
     "metadata": {},
     "output_type": "display_data"
    },
    {
     "name": "stdout",
     "output_type": "stream",
     "text": [
      "\n",
      "cell ID =  1947 progress bar below: (n/N frames):\n"
     ]
    },
    {
     "data": {
      "application/vnd.jupyter.widget-view+json": {
       "model_id": "31c35f23614a44338ed4882955eb2bfd",
       "version_major": 2,
       "version_minor": 0
      },
      "text/plain": [
       "HBox(children=(FloatProgress(value=0.0, max=2.0), HTML(value='')))"
      ]
     },
     "metadata": {},
     "output_type": "display_data"
    },
    {
     "name": "stdout",
     "output_type": "stream",
     "text": [
      "\n",
      "cell ID =  1949 progress bar below: (n/N frames):\n"
     ]
    },
    {
     "data": {
      "application/vnd.jupyter.widget-view+json": {
       "model_id": "a1e8f446d8b74981a70e9ec6b35dfbc6",
       "version_major": 2,
       "version_minor": 0
      },
      "text/plain": [
       "HBox(children=(FloatProgress(value=0.0, max=220.0), HTML(value='')))"
      ]
     },
     "metadata": {},
     "output_type": "display_data"
    },
    {
     "name": "stdout",
     "output_type": "stream",
     "text": [
      "\n",
      "cell ID =  1950 progress bar below: (n/N frames):\n"
     ]
    },
    {
     "data": {
      "application/vnd.jupyter.widget-view+json": {
       "model_id": "77328691c1cd4089b30eb5f60b59339b",
       "version_major": 2,
       "version_minor": 0
      },
      "text/plain": [
       "HBox(children=(FloatProgress(value=0.0, max=3.0), HTML(value='')))"
      ]
     },
     "metadata": {},
     "output_type": "display_data"
    },
    {
     "name": "stdout",
     "output_type": "stream",
     "text": [
      "\n",
      "cell ID =  1951 progress bar below: (n/N frames):\n"
     ]
    },
    {
     "data": {
      "application/vnd.jupyter.widget-view+json": {
       "model_id": "0dcc329b45d349f984c52fb47d1d3f42",
       "version_major": 2,
       "version_minor": 0
      },
      "text/plain": [
       "HBox(children=(FloatProgress(value=0.0, max=3.0), HTML(value='')))"
      ]
     },
     "metadata": {},
     "output_type": "display_data"
    },
    {
     "name": "stdout",
     "output_type": "stream",
     "text": [
      "\n",
      "cell ID =  1952 progress bar below: (n/N frames):\n"
     ]
    },
    {
     "data": {
      "application/vnd.jupyter.widget-view+json": {
       "model_id": "90513de863b04784b2f18675fb6b33a0",
       "version_major": 2,
       "version_minor": 0
      },
      "text/plain": [
       "HBox(children=(FloatProgress(value=0.0, max=3.0), HTML(value='')))"
      ]
     },
     "metadata": {},
     "output_type": "display_data"
    },
    {
     "name": "stdout",
     "output_type": "stream",
     "text": [
      "\n",
      "cell ID =  1956 progress bar below: (n/N frames):\n"
     ]
    },
    {
     "data": {
      "application/vnd.jupyter.widget-view+json": {
       "model_id": "36f278ccaaba47368ab1acaf6eb2b84a",
       "version_major": 2,
       "version_minor": 0
      },
      "text/plain": [
       "HBox(children=(FloatProgress(value=0.0, max=37.0), HTML(value='')))"
      ]
     },
     "metadata": {},
     "output_type": "display_data"
    },
    {
     "name": "stdout",
     "output_type": "stream",
     "text": [
      "\n",
      "cell ID =  1955 progress bar below: (n/N frames):\n"
     ]
    },
    {
     "data": {
      "application/vnd.jupyter.widget-view+json": {
       "model_id": "603c3842ac504fd8ae314b18b720ff7d",
       "version_major": 2,
       "version_minor": 0
      },
      "text/plain": [
       "HBox(children=(FloatProgress(value=0.0, max=3.0), HTML(value='')))"
      ]
     },
     "metadata": {},
     "output_type": "display_data"
    },
    {
     "name": "stdout",
     "output_type": "stream",
     "text": [
      "\n",
      "cell ID =  1953 progress bar below: (n/N frames):\n"
     ]
    },
    {
     "data": {
      "application/vnd.jupyter.widget-view+json": {
       "model_id": "f8e031c767b849cebb49b37ad61c3d9f",
       "version_major": 2,
       "version_minor": 0
      },
      "text/plain": [
       "HBox(children=(FloatProgress(value=0.0, max=219.0), HTML(value='')))"
      ]
     },
     "metadata": {},
     "output_type": "display_data"
    },
    {
     "name": "stdout",
     "output_type": "stream",
     "text": [
      "\n",
      "cell ID =  1954 progress bar below: (n/N frames):\n"
     ]
    },
    {
     "data": {
      "application/vnd.jupyter.widget-view+json": {
       "model_id": "d4d995ec2ef84aeebf5d68fba0754722",
       "version_major": 2,
       "version_minor": 0
      },
      "text/plain": [
       "HBox(children=(FloatProgress(value=0.0, max=2.0), HTML(value='')))"
      ]
     },
     "metadata": {},
     "output_type": "display_data"
    },
    {
     "name": "stdout",
     "output_type": "stream",
     "text": [
      "\n",
      "cell ID =  1958 progress bar below: (n/N frames):\n"
     ]
    },
    {
     "data": {
      "application/vnd.jupyter.widget-view+json": {
       "model_id": "cbde2db9b3a14e3e8ee2b75af147c836",
       "version_major": 2,
       "version_minor": 0
      },
      "text/plain": [
       "HBox(children=(FloatProgress(value=0.0, max=5.0), HTML(value='')))"
      ]
     },
     "metadata": {},
     "output_type": "display_data"
    },
    {
     "name": "stdout",
     "output_type": "stream",
     "text": [
      "\n",
      "cell ID =  1960 progress bar below: (n/N frames):\n"
     ]
    },
    {
     "data": {
      "application/vnd.jupyter.widget-view+json": {
       "model_id": "59103148c84643e2b53fbbab7f8c691e",
       "version_major": 2,
       "version_minor": 0
      },
      "text/plain": [
       "HBox(children=(FloatProgress(value=0.0, max=11.0), HTML(value='')))"
      ]
     },
     "metadata": {},
     "output_type": "display_data"
    },
    {
     "name": "stdout",
     "output_type": "stream",
     "text": [
      "\n",
      "cell ID =  1961 progress bar below: (n/N frames):\n"
     ]
    },
    {
     "data": {
      "application/vnd.jupyter.widget-view+json": {
       "model_id": "1de211404b4f4aae8598ecf0ad9ec38b",
       "version_major": 2,
       "version_minor": 0
      },
      "text/plain": [
       "HBox(children=(FloatProgress(value=0.0, max=2.0), HTML(value='')))"
      ]
     },
     "metadata": {},
     "output_type": "display_data"
    },
    {
     "name": "stdout",
     "output_type": "stream",
     "text": [
      "\n",
      "cell ID =  1962 progress bar below: (n/N frames):\n"
     ]
    },
    {
     "data": {
      "application/vnd.jupyter.widget-view+json": {
       "model_id": "c4c8325c45624017ab7f9b025853c09f",
       "version_major": 2,
       "version_minor": 0
      },
      "text/plain": [
       "HBox(children=(FloatProgress(value=0.0, max=22.0), HTML(value='')))"
      ]
     },
     "metadata": {},
     "output_type": "display_data"
    },
    {
     "name": "stdout",
     "output_type": "stream",
     "text": [
      "\n",
      "cell ID =  1963 progress bar below: (n/N frames):\n"
     ]
    },
    {
     "data": {
      "application/vnd.jupyter.widget-view+json": {
       "model_id": "5b67ccf3b10c4c32a0cc1e34c0254a47",
       "version_major": 2,
       "version_minor": 0
      },
      "text/plain": [
       "HBox(children=(FloatProgress(value=0.0, max=215.0), HTML(value='')))"
      ]
     },
     "metadata": {},
     "output_type": "display_data"
    },
    {
     "name": "stdout",
     "output_type": "stream",
     "text": [
      "\n",
      "cell ID =  1964 progress bar below: (n/N frames):\n"
     ]
    },
    {
     "data": {
      "application/vnd.jupyter.widget-view+json": {
       "model_id": "4b2e344579124caa8b3ec076075d3e5e",
       "version_major": 2,
       "version_minor": 0
      },
      "text/plain": [
       "HBox(children=(FloatProgress(value=0.0, max=214.0), HTML(value='')))"
      ]
     },
     "metadata": {},
     "output_type": "display_data"
    },
    {
     "name": "stdout",
     "output_type": "stream",
     "text": [
      "\n",
      "cell ID =  1965 progress bar below: (n/N frames):\n"
     ]
    },
    {
     "data": {
      "application/vnd.jupyter.widget-view+json": {
       "model_id": "3e618ca8e62d4093bb950ed5894e584c",
       "version_major": 2,
       "version_minor": 0
      },
      "text/plain": [
       "HBox(children=(FloatProgress(value=0.0, max=214.0), HTML(value='')))"
      ]
     },
     "metadata": {},
     "output_type": "display_data"
    },
    {
     "name": "stdout",
     "output_type": "stream",
     "text": [
      "\n",
      "cell ID =  1973 progress bar below: (n/N frames):\n"
     ]
    },
    {
     "data": {
      "application/vnd.jupyter.widget-view+json": {
       "model_id": "7f2276c3217249ab868e3f2bfe659128",
       "version_major": 2,
       "version_minor": 0
      },
      "text/plain": [
       "HBox(children=(FloatProgress(value=0.0, max=14.0), HTML(value='')))"
      ]
     },
     "metadata": {},
     "output_type": "display_data"
    },
    {
     "name": "stdout",
     "output_type": "stream",
     "text": [
      "\n",
      "cell ID =  1972 progress bar below: (n/N frames):\n"
     ]
    },
    {
     "data": {
      "application/vnd.jupyter.widget-view+json": {
       "model_id": "981416d708b542b28d69e8148a80fe9d",
       "version_major": 2,
       "version_minor": 0
      },
      "text/plain": [
       "HBox(children=(FloatProgress(value=0.0, max=2.0), HTML(value='')))"
      ]
     },
     "metadata": {},
     "output_type": "display_data"
    },
    {
     "name": "stdout",
     "output_type": "stream",
     "text": [
      "\n",
      "cell ID =  1974 progress bar below: (n/N frames):\n"
     ]
    },
    {
     "data": {
      "application/vnd.jupyter.widget-view+json": {
       "model_id": "17c98365749849c5a2284728d76e508f",
       "version_major": 2,
       "version_minor": 0
      },
      "text/plain": [
       "HBox(children=(FloatProgress(value=0.0, max=210.0), HTML(value='')))"
      ]
     },
     "metadata": {},
     "output_type": "display_data"
    },
    {
     "name": "stdout",
     "output_type": "stream",
     "text": [
      "\n",
      "cell ID =  1977 progress bar below: (n/N frames):\n"
     ]
    },
    {
     "data": {
      "application/vnd.jupyter.widget-view+json": {
       "model_id": "feaa4c467cc74c2db1f927ff9066b8c7",
       "version_major": 2,
       "version_minor": 0
      },
      "text/plain": [
       "HBox(children=(FloatProgress(value=0.0, max=210.0), HTML(value='')))"
      ]
     },
     "metadata": {},
     "output_type": "display_data"
    },
    {
     "name": "stdout",
     "output_type": "stream",
     "text": [
      "\n",
      "cell ID =  1982 progress bar below: (n/N frames):\n"
     ]
    },
    {
     "data": {
      "application/vnd.jupyter.widget-view+json": {
       "model_id": "610dfd6f4214418e8eadffa0ee53e5e6",
       "version_major": 2,
       "version_minor": 0
      },
      "text/plain": [
       "HBox(children=(FloatProgress(value=0.0, max=2.0), HTML(value='')))"
      ]
     },
     "metadata": {},
     "output_type": "display_data"
    },
    {
     "name": "stdout",
     "output_type": "stream",
     "text": [
      "\n",
      "cell ID =  1984 progress bar below: (n/N frames):\n"
     ]
    },
    {
     "data": {
      "application/vnd.jupyter.widget-view+json": {
       "model_id": "a4559cd1b494488a8366d94da269e88a",
       "version_major": 2,
       "version_minor": 0
      },
      "text/plain": [
       "HBox(children=(FloatProgress(value=0.0, max=65.0), HTML(value='')))"
      ]
     },
     "metadata": {},
     "output_type": "display_data"
    },
    {
     "name": "stdout",
     "output_type": "stream",
     "text": [
      "\n",
      "cell ID =  1985 progress bar below: (n/N frames):\n"
     ]
    },
    {
     "data": {
      "application/vnd.jupyter.widget-view+json": {
       "model_id": "2388449817454ef98fef20ec729d41c1",
       "version_major": 2,
       "version_minor": 0
      },
      "text/plain": [
       "HBox(children=(FloatProgress(value=0.0, max=2.0), HTML(value='')))"
      ]
     },
     "metadata": {},
     "output_type": "display_data"
    },
    {
     "name": "stdout",
     "output_type": "stream",
     "text": [
      "\n",
      "cell ID =  1987 progress bar below: (n/N frames):\n"
     ]
    },
    {
     "data": {
      "application/vnd.jupyter.widget-view+json": {
       "model_id": "d18c15aea67540e994f18192481ebead",
       "version_major": 2,
       "version_minor": 0
      },
      "text/plain": [
       "HBox(children=(FloatProgress(value=0.0, max=102.0), HTML(value='')))"
      ]
     },
     "metadata": {},
     "output_type": "display_data"
    },
    {
     "name": "stdout",
     "output_type": "stream",
     "text": [
      "\n",
      "cell ID =  1989 progress bar below: (n/N frames):\n"
     ]
    },
    {
     "data": {
      "application/vnd.jupyter.widget-view+json": {
       "model_id": "d54791016c0c4d7f94a121578223c2c8",
       "version_major": 2,
       "version_minor": 0
      },
      "text/plain": [
       "HBox(children=(FloatProgress(value=0.0, max=205.0), HTML(value='')))"
      ]
     },
     "metadata": {},
     "output_type": "display_data"
    },
    {
     "name": "stdout",
     "output_type": "stream",
     "text": [
      "\n",
      "cell ID =  1990 progress bar below: (n/N frames):\n"
     ]
    },
    {
     "data": {
      "application/vnd.jupyter.widget-view+json": {
       "model_id": "d8b3fb26507c4a50b10cdf4e2bf7ad8b",
       "version_major": 2,
       "version_minor": 0
      },
      "text/plain": [
       "HBox(children=(FloatProgress(value=0.0, max=3.0), HTML(value='')))"
      ]
     },
     "metadata": {},
     "output_type": "display_data"
    },
    {
     "name": "stdout",
     "output_type": "stream",
     "text": [
      "\n",
      "cell ID =  1994 progress bar below: (n/N frames):\n"
     ]
    },
    {
     "data": {
      "application/vnd.jupyter.widget-view+json": {
       "model_id": "82faaa1d56dd44d2bf84785b01ca5d75",
       "version_major": 2,
       "version_minor": 0
      },
      "text/plain": [
       "HBox(children=(FloatProgress(value=0.0, max=204.0), HTML(value='')))"
      ]
     },
     "metadata": {},
     "output_type": "display_data"
    },
    {
     "name": "stdout",
     "output_type": "stream",
     "text": [
      "\n",
      "cell ID =  1991 progress bar below: (n/N frames):\n"
     ]
    },
    {
     "data": {
      "application/vnd.jupyter.widget-view+json": {
       "model_id": "e24bb0a2938f4c56b53ceb78f237465f",
       "version_major": 2,
       "version_minor": 0
      },
      "text/plain": [
       "HBox(children=(FloatProgress(value=0.0, max=149.0), HTML(value='')))"
      ]
     },
     "metadata": {},
     "output_type": "display_data"
    },
    {
     "name": "stdout",
     "output_type": "stream",
     "text": [
      "\n",
      "cell ID =  1992 progress bar below: (n/N frames):\n"
     ]
    },
    {
     "data": {
      "application/vnd.jupyter.widget-view+json": {
       "model_id": "8610feeeef5049deb89b2a321a07786d",
       "version_major": 2,
       "version_minor": 0
      },
      "text/plain": [
       "HBox(children=(FloatProgress(value=0.0, max=5.0), HTML(value='')))"
      ]
     },
     "metadata": {},
     "output_type": "display_data"
    },
    {
     "name": "stdout",
     "output_type": "stream",
     "text": [
      "\n",
      "cell ID =  1993 progress bar below: (n/N frames):\n"
     ]
    },
    {
     "data": {
      "application/vnd.jupyter.widget-view+json": {
       "model_id": "00a7d73a3a4644f58709f233f797598d",
       "version_major": 2,
       "version_minor": 0
      },
      "text/plain": [
       "HBox(children=(FloatProgress(value=0.0, max=2.0), HTML(value='')))"
      ]
     },
     "metadata": {},
     "output_type": "display_data"
    },
    {
     "name": "stdout",
     "output_type": "stream",
     "text": [
      "\n",
      "cell ID =  1996 progress bar below: (n/N frames):\n"
     ]
    },
    {
     "data": {
      "application/vnd.jupyter.widget-view+json": {
       "model_id": "017f5a167b8a458683aa3dbacaaa13eb",
       "version_major": 2,
       "version_minor": 0
      },
      "text/plain": [
       "HBox(children=(FloatProgress(value=0.0, max=4.0), HTML(value='')))"
      ]
     },
     "metadata": {},
     "output_type": "display_data"
    },
    {
     "name": "stdout",
     "output_type": "stream",
     "text": [
      "\n",
      "cell ID =  1998 progress bar below: (n/N frames):\n"
     ]
    },
    {
     "data": {
      "application/vnd.jupyter.widget-view+json": {
       "model_id": "4f6fb1494da241a0a2c98ad1e30e2b89",
       "version_major": 2,
       "version_minor": 0
      },
      "text/plain": [
       "HBox(children=(FloatProgress(value=0.0, max=3.0), HTML(value='')))"
      ]
     },
     "metadata": {},
     "output_type": "display_data"
    },
    {
     "name": "stdout",
     "output_type": "stream",
     "text": [
      "\n",
      "cell ID =  1999 progress bar below: (n/N frames):\n"
     ]
    },
    {
     "data": {
      "application/vnd.jupyter.widget-view+json": {
       "model_id": "95c1882945d64b5ea7d284fcda831b30",
       "version_major": 2,
       "version_minor": 0
      },
      "text/plain": [
       "HBox(children=(FloatProgress(value=0.0, max=29.0), HTML(value='')))"
      ]
     },
     "metadata": {},
     "output_type": "display_data"
    },
    {
     "name": "stdout",
     "output_type": "stream",
     "text": [
      "\n",
      "cell ID =  2000 progress bar below: (n/N frames):\n"
     ]
    },
    {
     "data": {
      "application/vnd.jupyter.widget-view+json": {
       "model_id": "4b504529b33e4ce99963136d71a1d388",
       "version_major": 2,
       "version_minor": 0
      },
      "text/plain": [
       "HBox(children=(FloatProgress(value=0.0, max=200.0), HTML(value='')))"
      ]
     },
     "metadata": {},
     "output_type": "display_data"
    },
    {
     "name": "stdout",
     "output_type": "stream",
     "text": [
      "\n",
      "cell ID =  2001 progress bar below: (n/N frames):\n"
     ]
    },
    {
     "data": {
      "application/vnd.jupyter.widget-view+json": {
       "model_id": "31f961f4a2d148a38bf936ee76fcfcce",
       "version_major": 2,
       "version_minor": 0
      },
      "text/plain": [
       "HBox(children=(FloatProgress(value=0.0, max=199.0), HTML(value='')))"
      ]
     },
     "metadata": {},
     "output_type": "display_data"
    },
    {
     "name": "stdout",
     "output_type": "stream",
     "text": [
      "\n",
      "cell ID =  2002 progress bar below: (n/N frames):\n"
     ]
    },
    {
     "data": {
      "application/vnd.jupyter.widget-view+json": {
       "model_id": "1be7a95354814977ac0cadf499d1bf6d",
       "version_major": 2,
       "version_minor": 0
      },
      "text/plain": [
       "HBox(children=(FloatProgress(value=0.0, max=3.0), HTML(value='')))"
      ]
     },
     "metadata": {},
     "output_type": "display_data"
    },
    {
     "name": "stdout",
     "output_type": "stream",
     "text": [
      "\n",
      "cell ID =  2003 progress bar below: (n/N frames):\n"
     ]
    },
    {
     "data": {
      "application/vnd.jupyter.widget-view+json": {
       "model_id": "ed69f180fb35445ca1e1cc0e5c363be5",
       "version_major": 2,
       "version_minor": 0
      },
      "text/plain": [
       "HBox(children=(FloatProgress(value=0.0, max=196.0), HTML(value='')))"
      ]
     },
     "metadata": {},
     "output_type": "display_data"
    },
    {
     "name": "stdout",
     "output_type": "stream",
     "text": [
      "\n",
      "cell ID =  2004 progress bar below: (n/N frames):\n"
     ]
    },
    {
     "data": {
      "application/vnd.jupyter.widget-view+json": {
       "model_id": "65f4322c3ba8405eba30e291e388e070",
       "version_major": 2,
       "version_minor": 0
      },
      "text/plain": [
       "HBox(children=(FloatProgress(value=0.0, max=196.0), HTML(value='')))"
      ]
     },
     "metadata": {},
     "output_type": "display_data"
    },
    {
     "name": "stdout",
     "output_type": "stream",
     "text": [
      "\n",
      "cell ID =  2008 progress bar below: (n/N frames):\n"
     ]
    },
    {
     "data": {
      "application/vnd.jupyter.widget-view+json": {
       "model_id": "131a29318a2c47289c32849c091fa6e7",
       "version_major": 2,
       "version_minor": 0
      },
      "text/plain": [
       "HBox(children=(FloatProgress(value=0.0, max=24.0), HTML(value='')))"
      ]
     },
     "metadata": {},
     "output_type": "display_data"
    },
    {
     "name": "stdout",
     "output_type": "stream",
     "text": [
      "\n",
      "cell ID =  2009 progress bar below: (n/N frames):\n"
     ]
    },
    {
     "data": {
      "application/vnd.jupyter.widget-view+json": {
       "model_id": "c9360a3824b848bdbf51639c51751d74",
       "version_major": 2,
       "version_minor": 0
      },
      "text/plain": [
       "HBox(children=(FloatProgress(value=0.0, max=85.0), HTML(value='')))"
      ]
     },
     "metadata": {},
     "output_type": "display_data"
    },
    {
     "name": "stdout",
     "output_type": "stream",
     "text": [
      "\n",
      "cell ID =  2010 progress bar below: (n/N frames):\n"
     ]
    },
    {
     "data": {
      "application/vnd.jupyter.widget-view+json": {
       "model_id": "fcfb4d6e56fd499b904f7b2d695b8a27",
       "version_major": 2,
       "version_minor": 0
      },
      "text/plain": [
       "HBox(children=(FloatProgress(value=0.0, max=3.0), HTML(value='')))"
      ]
     },
     "metadata": {},
     "output_type": "display_data"
    },
    {
     "name": "stdout",
     "output_type": "stream",
     "text": [
      "\n",
      "cell ID =  2014 progress bar below: (n/N frames):\n"
     ]
    },
    {
     "data": {
      "application/vnd.jupyter.widget-view+json": {
       "model_id": "2436380dbcc749f7a88bc09dd1beb930",
       "version_major": 2,
       "version_minor": 0
      },
      "text/plain": [
       "HBox(children=(FloatProgress(value=0.0, max=6.0), HTML(value='')))"
      ]
     },
     "metadata": {},
     "output_type": "display_data"
    },
    {
     "name": "stdout",
     "output_type": "stream",
     "text": [
      "\n",
      "cell ID =  2015 progress bar below: (n/N frames):\n"
     ]
    },
    {
     "data": {
      "application/vnd.jupyter.widget-view+json": {
       "model_id": "4be0fe1750e243669034b24188d4318a",
       "version_major": 2,
       "version_minor": 0
      },
      "text/plain": [
       "HBox(children=(FloatProgress(value=0.0, max=5.0), HTML(value='')))"
      ]
     },
     "metadata": {},
     "output_type": "display_data"
    },
    {
     "name": "stdout",
     "output_type": "stream",
     "text": [
      "\n",
      "cell ID =  2018 progress bar below: (n/N frames):\n"
     ]
    },
    {
     "data": {
      "application/vnd.jupyter.widget-view+json": {
       "model_id": "622a3d10d94a47e3ae27dcf143dd9c5c",
       "version_major": 2,
       "version_minor": 0
      },
      "text/plain": [
       "HBox(children=(FloatProgress(value=0.0, max=25.0), HTML(value='')))"
      ]
     },
     "metadata": {},
     "output_type": "display_data"
    },
    {
     "name": "stdout",
     "output_type": "stream",
     "text": [
      "\n",
      "cell ID =  2020 progress bar below: (n/N frames):\n"
     ]
    },
    {
     "data": {
      "application/vnd.jupyter.widget-view+json": {
       "model_id": "c4c5b34913294d5e8a536749229b1b4d",
       "version_major": 2,
       "version_minor": 0
      },
      "text/plain": [
       "HBox(children=(FloatProgress(value=0.0, max=4.0), HTML(value='')))"
      ]
     },
     "metadata": {},
     "output_type": "display_data"
    },
    {
     "name": "stdout",
     "output_type": "stream",
     "text": [
      "\n",
      "cell ID =  2023 progress bar below: (n/N frames):\n"
     ]
    },
    {
     "data": {
      "application/vnd.jupyter.widget-view+json": {
       "model_id": "80ef167934fc4e4bafc6094c48bb91bf",
       "version_major": 2,
       "version_minor": 0
      },
      "text/plain": [
       "HBox(children=(FloatProgress(value=0.0, max=2.0), HTML(value='')))"
      ]
     },
     "metadata": {},
     "output_type": "display_data"
    },
    {
     "name": "stdout",
     "output_type": "stream",
     "text": [
      "\n",
      "cell ID =  2024 progress bar below: (n/N frames):\n"
     ]
    },
    {
     "data": {
      "application/vnd.jupyter.widget-view+json": {
       "model_id": "f851e5d0ca4d49baafe90057bc446b91",
       "version_major": 2,
       "version_minor": 0
      },
      "text/plain": [
       "HBox(children=(FloatProgress(value=0.0, max=4.0), HTML(value='')))"
      ]
     },
     "metadata": {},
     "output_type": "display_data"
    },
    {
     "name": "stdout",
     "output_type": "stream",
     "text": [
      "\n",
      "cell ID =  2026 progress bar below: (n/N frames):\n"
     ]
    },
    {
     "data": {
      "application/vnd.jupyter.widget-view+json": {
       "model_id": "d7a3f63b8d06495783eba16881af64cc",
       "version_major": 2,
       "version_minor": 0
      },
      "text/plain": [
       "HBox(children=(FloatProgress(value=0.0, max=5.0), HTML(value='')))"
      ]
     },
     "metadata": {},
     "output_type": "display_data"
    },
    {
     "name": "stdout",
     "output_type": "stream",
     "text": [
      "\n",
      "cell ID =  2027 progress bar below: (n/N frames):\n"
     ]
    },
    {
     "data": {
      "application/vnd.jupyter.widget-view+json": {
       "model_id": "7ca93ba4af3c487c850a062f0c4afd69",
       "version_major": 2,
       "version_minor": 0
      },
      "text/plain": [
       "HBox(children=(FloatProgress(value=0.0, max=53.0), HTML(value='')))"
      ]
     },
     "metadata": {},
     "output_type": "display_data"
    },
    {
     "name": "stdout",
     "output_type": "stream",
     "text": [
      "\n",
      "cell ID =  2029 progress bar below: (n/N frames):\n"
     ]
    },
    {
     "data": {
      "application/vnd.jupyter.widget-view+json": {
       "model_id": "b56a1d9ee78f481e9bd82f8a3e6634c6",
       "version_major": 2,
       "version_minor": 0
      },
      "text/plain": [
       "HBox(children=(FloatProgress(value=0.0, max=7.0), HTML(value='')))"
      ]
     },
     "metadata": {},
     "output_type": "display_data"
    },
    {
     "name": "stdout",
     "output_type": "stream",
     "text": [
      "\n",
      "cell ID =  2034 progress bar below: (n/N frames):\n"
     ]
    },
    {
     "data": {
      "application/vnd.jupyter.widget-view+json": {
       "model_id": "6f4aed1904344e37927f6a96457efa75",
       "version_major": 2,
       "version_minor": 0
      },
      "text/plain": [
       "HBox(children=(FloatProgress(value=0.0, max=174.0), HTML(value='')))"
      ]
     },
     "metadata": {},
     "output_type": "display_data"
    },
    {
     "name": "stdout",
     "output_type": "stream",
     "text": [
      "\n",
      "cell ID =  2037 progress bar below: (n/N frames):\n"
     ]
    },
    {
     "data": {
      "application/vnd.jupyter.widget-view+json": {
       "model_id": "eb666768c59643bcac5b2edf39ef3b0b",
       "version_major": 2,
       "version_minor": 0
      },
      "text/plain": [
       "HBox(children=(FloatProgress(value=0.0, max=172.0), HTML(value='')))"
      ]
     },
     "metadata": {},
     "output_type": "display_data"
    },
    {
     "name": "stdout",
     "output_type": "stream",
     "text": [
      "\n",
      "cell ID =  2039 progress bar below: (n/N frames):\n"
     ]
    },
    {
     "data": {
      "application/vnd.jupyter.widget-view+json": {
       "model_id": "4eb96ac0f3354c40afa8746786d4d61d",
       "version_major": 2,
       "version_minor": 0
      },
      "text/plain": [
       "HBox(children=(FloatProgress(value=0.0, max=2.0), HTML(value='')))"
      ]
     },
     "metadata": {},
     "output_type": "display_data"
    },
    {
     "name": "stdout",
     "output_type": "stream",
     "text": [
      "\n",
      "cell ID =  2044 progress bar below: (n/N frames):\n"
     ]
    },
    {
     "data": {
      "application/vnd.jupyter.widget-view+json": {
       "model_id": "90d08f1d3b87401fb5b1e3de7b627ea5",
       "version_major": 2,
       "version_minor": 0
      },
      "text/plain": [
       "HBox(children=(FloatProgress(value=0.0, max=4.0), HTML(value='')))"
      ]
     },
     "metadata": {},
     "output_type": "display_data"
    },
    {
     "name": "stdout",
     "output_type": "stream",
     "text": [
      "\n",
      "cell ID =  2046 progress bar below: (n/N frames):\n"
     ]
    },
    {
     "data": {
      "application/vnd.jupyter.widget-view+json": {
       "model_id": "b91a40a6dca14bcf81de4d79641cba3c",
       "version_major": 2,
       "version_minor": 0
      },
      "text/plain": [
       "HBox(children=(FloatProgress(value=0.0, max=3.0), HTML(value='')))"
      ]
     },
     "metadata": {},
     "output_type": "display_data"
    },
    {
     "name": "stdout",
     "output_type": "stream",
     "text": [
      "\n",
      "cell ID =  2048 progress bar below: (n/N frames):\n"
     ]
    },
    {
     "data": {
      "application/vnd.jupyter.widget-view+json": {
       "model_id": "1687b9d2c3cc4743833a1b1c3cafb649",
       "version_major": 2,
       "version_minor": 0
      },
      "text/plain": [
       "HBox(children=(FloatProgress(value=0.0, max=162.0), HTML(value='')))"
      ]
     },
     "metadata": {},
     "output_type": "display_data"
    },
    {
     "name": "stdout",
     "output_type": "stream",
     "text": [
      "\n",
      "cell ID =  2049 progress bar below: (n/N frames):\n"
     ]
    },
    {
     "data": {
      "application/vnd.jupyter.widget-view+json": {
       "model_id": "fe5239b26e8d4ffcb345797cb64f5855",
       "version_major": 2,
       "version_minor": 0
      },
      "text/plain": [
       "HBox(children=(FloatProgress(value=0.0, max=3.0), HTML(value='')))"
      ]
     },
     "metadata": {},
     "output_type": "display_data"
    },
    {
     "name": "stdout",
     "output_type": "stream",
     "text": [
      "\n",
      "cell ID =  2050 progress bar below: (n/N frames):\n"
     ]
    },
    {
     "data": {
      "application/vnd.jupyter.widget-view+json": {
       "model_id": "5168c53ac86546779fe70fe485d9c576",
       "version_major": 2,
       "version_minor": 0
      },
      "text/plain": [
       "HBox(children=(FloatProgress(value=0.0, max=3.0), HTML(value='')))"
      ]
     },
     "metadata": {},
     "output_type": "display_data"
    },
    {
     "name": "stdout",
     "output_type": "stream",
     "text": [
      "\n",
      "cell ID =  2051 progress bar below: (n/N frames):\n"
     ]
    },
    {
     "data": {
      "application/vnd.jupyter.widget-view+json": {
       "model_id": "1e0adc9624644ad198613f4d078bd866",
       "version_major": 2,
       "version_minor": 0
      },
      "text/plain": [
       "HBox(children=(FloatProgress(value=0.0, max=4.0), HTML(value='')))"
      ]
     },
     "metadata": {},
     "output_type": "display_data"
    },
    {
     "name": "stdout",
     "output_type": "stream",
     "text": [
      "\n",
      "cell ID =  2052 progress bar below: (n/N frames):\n"
     ]
    },
    {
     "data": {
      "application/vnd.jupyter.widget-view+json": {
       "model_id": "545a35ce76b94e4799e8b824494c9471",
       "version_major": 2,
       "version_minor": 0
      },
      "text/plain": [
       "HBox(children=(FloatProgress(value=0.0, max=26.0), HTML(value='')))"
      ]
     },
     "metadata": {},
     "output_type": "display_data"
    },
    {
     "name": "stdout",
     "output_type": "stream",
     "text": [
      "\n",
      "cell ID =  2053 progress bar below: (n/N frames):\n"
     ]
    },
    {
     "data": {
      "application/vnd.jupyter.widget-view+json": {
       "model_id": "3e1e2438a16b475191b5eb7d66629ac7",
       "version_major": 2,
       "version_minor": 0
      },
      "text/plain": [
       "HBox(children=(FloatProgress(value=0.0, max=7.0), HTML(value='')))"
      ]
     },
     "metadata": {},
     "output_type": "display_data"
    },
    {
     "name": "stdout",
     "output_type": "stream",
     "text": [
      "\n",
      "cell ID =  2054 progress bar below: (n/N frames):\n"
     ]
    },
    {
     "data": {
      "application/vnd.jupyter.widget-view+json": {
       "model_id": "01e9cb6792b64a88a866974c26e477da",
       "version_major": 2,
       "version_minor": 0
      },
      "text/plain": [
       "HBox(children=(FloatProgress(value=0.0, max=4.0), HTML(value='')))"
      ]
     },
     "metadata": {},
     "output_type": "display_data"
    },
    {
     "name": "stdout",
     "output_type": "stream",
     "text": [
      "\n",
      "cell ID =  2055 progress bar below: (n/N frames):\n"
     ]
    },
    {
     "data": {
      "application/vnd.jupyter.widget-view+json": {
       "model_id": "03b4ae42e9b54a349ad7cc19bde481b9",
       "version_major": 2,
       "version_minor": 0
      },
      "text/plain": [
       "HBox(children=(FloatProgress(value=0.0, max=8.0), HTML(value='')))"
      ]
     },
     "metadata": {},
     "output_type": "display_data"
    },
    {
     "name": "stdout",
     "output_type": "stream",
     "text": [
      "\n",
      "cell ID =  2056 progress bar below: (n/N frames):\n"
     ]
    },
    {
     "data": {
      "application/vnd.jupyter.widget-view+json": {
       "model_id": "5a9fb7c3c8cf4188868a4fda2dcc9579",
       "version_major": 2,
       "version_minor": 0
      },
      "text/plain": [
       "HBox(children=(FloatProgress(value=0.0, max=9.0), HTML(value='')))"
      ]
     },
     "metadata": {},
     "output_type": "display_data"
    },
    {
     "name": "stdout",
     "output_type": "stream",
     "text": [
      "\n",
      "cell ID =  2058 progress bar below: (n/N frames):\n"
     ]
    },
    {
     "data": {
      "application/vnd.jupyter.widget-view+json": {
       "model_id": "51a1ec0dd0394976a4d6330eda2fbf9e",
       "version_major": 2,
       "version_minor": 0
      },
      "text/plain": [
       "HBox(children=(FloatProgress(value=0.0, max=7.0), HTML(value='')))"
      ]
     },
     "metadata": {},
     "output_type": "display_data"
    },
    {
     "name": "stdout",
     "output_type": "stream",
     "text": [
      "\n",
      "cell ID =  2059 progress bar below: (n/N frames):\n"
     ]
    },
    {
     "data": {
      "application/vnd.jupyter.widget-view+json": {
       "model_id": "8064a94bf0974767bd306e00ff224b37",
       "version_major": 2,
       "version_minor": 0
      },
      "text/plain": [
       "HBox(children=(FloatProgress(value=0.0, max=155.0), HTML(value='')))"
      ]
     },
     "metadata": {},
     "output_type": "display_data"
    },
    {
     "name": "stdout",
     "output_type": "stream",
     "text": [
      "\n",
      "cell ID =  2063 progress bar below: (n/N frames):\n"
     ]
    },
    {
     "data": {
      "application/vnd.jupyter.widget-view+json": {
       "model_id": "fd3e76beb5a745059105b026a7810182",
       "version_major": 2,
       "version_minor": 0
      },
      "text/plain": [
       "HBox(children=(FloatProgress(value=0.0, max=110.0), HTML(value='')))"
      ]
     },
     "metadata": {},
     "output_type": "display_data"
    },
    {
     "name": "stdout",
     "output_type": "stream",
     "text": [
      "\n",
      "cell ID =  2064 progress bar below: (n/N frames):\n"
     ]
    },
    {
     "data": {
      "application/vnd.jupyter.widget-view+json": {
       "model_id": "9157758399814983bf8612db0702ed7e",
       "version_major": 2,
       "version_minor": 0
      },
      "text/plain": [
       "HBox(children=(FloatProgress(value=0.0, max=2.0), HTML(value='')))"
      ]
     },
     "metadata": {},
     "output_type": "display_data"
    },
    {
     "name": "stdout",
     "output_type": "stream",
     "text": [
      "\n",
      "cell ID =  2068 progress bar below: (n/N frames):\n"
     ]
    },
    {
     "data": {
      "application/vnd.jupyter.widget-view+json": {
       "model_id": "76a472ab182c4e288da46900854163b1",
       "version_major": 2,
       "version_minor": 0
      },
      "text/plain": [
       "HBox(children=(FloatProgress(value=0.0, max=12.0), HTML(value='')))"
      ]
     },
     "metadata": {},
     "output_type": "display_data"
    },
    {
     "name": "stdout",
     "output_type": "stream",
     "text": [
      "\n",
      "cell ID =  2071 progress bar below: (n/N frames):\n"
     ]
    },
    {
     "data": {
      "application/vnd.jupyter.widget-view+json": {
       "model_id": "4480840f504a461b9224609125e03968",
       "version_major": 2,
       "version_minor": 0
      },
      "text/plain": [
       "HBox(children=(FloatProgress(value=0.0, max=43.0), HTML(value='')))"
      ]
     },
     "metadata": {},
     "output_type": "display_data"
    },
    {
     "name": "stdout",
     "output_type": "stream",
     "text": [
      "\n",
      "cell ID =  2072 progress bar below: (n/N frames):\n"
     ]
    },
    {
     "data": {
      "application/vnd.jupyter.widget-view+json": {
       "model_id": "0f33a8ea4f26486c848ec6d5d87a611f",
       "version_major": 2,
       "version_minor": 0
      },
      "text/plain": [
       "HBox(children=(FloatProgress(value=0.0, max=13.0), HTML(value='')))"
      ]
     },
     "metadata": {},
     "output_type": "display_data"
    },
    {
     "name": "stdout",
     "output_type": "stream",
     "text": [
      "\n",
      "cell ID =  2073 progress bar below: (n/N frames):\n"
     ]
    },
    {
     "data": {
      "application/vnd.jupyter.widget-view+json": {
       "model_id": "47affbaffba4411e9a8330b4959e0f88",
       "version_major": 2,
       "version_minor": 0
      },
      "text/plain": [
       "HBox(children=(FloatProgress(value=0.0, max=3.0), HTML(value='')))"
      ]
     },
     "metadata": {},
     "output_type": "display_data"
    },
    {
     "name": "stdout",
     "output_type": "stream",
     "text": [
      "\n",
      "cell ID =  2075 progress bar below: (n/N frames):\n"
     ]
    },
    {
     "data": {
      "application/vnd.jupyter.widget-view+json": {
       "model_id": "48239b1a074a42ee8c4aba68fd18aae5",
       "version_major": 2,
       "version_minor": 0
      },
      "text/plain": [
       "HBox(children=(FloatProgress(value=0.0, max=2.0), HTML(value='')))"
      ]
     },
     "metadata": {},
     "output_type": "display_data"
    },
    {
     "name": "stdout",
     "output_type": "stream",
     "text": [
      "\n",
      "cell ID =  2076 progress bar below: (n/N frames):\n"
     ]
    },
    {
     "data": {
      "application/vnd.jupyter.widget-view+json": {
       "model_id": "9cd6c0a0ca9348e181219b7401e99790",
       "version_major": 2,
       "version_minor": 0
      },
      "text/plain": [
       "HBox(children=(FloatProgress(value=0.0, max=18.0), HTML(value='')))"
      ]
     },
     "metadata": {},
     "output_type": "display_data"
    },
    {
     "name": "stdout",
     "output_type": "stream",
     "text": [
      "\n",
      "cell ID =  2080 progress bar below: (n/N frames):\n"
     ]
    },
    {
     "data": {
      "application/vnd.jupyter.widget-view+json": {
       "model_id": "1fd6340d40bf4486a561ca372a497849",
       "version_major": 2,
       "version_minor": 0
      },
      "text/plain": [
       "HBox(children=(FloatProgress(value=0.0, max=4.0), HTML(value='')))"
      ]
     },
     "metadata": {},
     "output_type": "display_data"
    },
    {
     "name": "stdout",
     "output_type": "stream",
     "text": [
      "\n",
      "cell ID =  2085 progress bar below: (n/N frames):\n"
     ]
    },
    {
     "data": {
      "application/vnd.jupyter.widget-view+json": {
       "model_id": "e4588693e771459b8c19598555c3825d",
       "version_major": 2,
       "version_minor": 0
      },
      "text/plain": [
       "HBox(children=(FloatProgress(value=0.0, max=9.0), HTML(value='')))"
      ]
     },
     "metadata": {},
     "output_type": "display_data"
    },
    {
     "name": "stdout",
     "output_type": "stream",
     "text": [
      "\n",
      "cell ID =  2086 progress bar below: (n/N frames):\n"
     ]
    },
    {
     "data": {
      "application/vnd.jupyter.widget-view+json": {
       "model_id": "2f203294a6a14d9581c801157c798f7a",
       "version_major": 2,
       "version_minor": 0
      },
      "text/plain": [
       "HBox(children=(FloatProgress(value=0.0, max=15.0), HTML(value='')))"
      ]
     },
     "metadata": {},
     "output_type": "display_data"
    },
    {
     "name": "stdout",
     "output_type": "stream",
     "text": [
      "\n",
      "cell ID =  2087 progress bar below: (n/N frames):\n"
     ]
    },
    {
     "data": {
      "application/vnd.jupyter.widget-view+json": {
       "model_id": "deeb628190f54f63a7844adbe52494da",
       "version_major": 2,
       "version_minor": 0
      },
      "text/plain": [
       "HBox(children=(FloatProgress(value=0.0, max=4.0), HTML(value='')))"
      ]
     },
     "metadata": {},
     "output_type": "display_data"
    },
    {
     "name": "stdout",
     "output_type": "stream",
     "text": [
      "\n",
      "cell ID =  2089 progress bar below: (n/N frames):\n"
     ]
    },
    {
     "data": {
      "application/vnd.jupyter.widget-view+json": {
       "model_id": "576ad1786ecb43b499d0d915a4c1c31f",
       "version_major": 2,
       "version_minor": 0
      },
      "text/plain": [
       "HBox(children=(FloatProgress(value=0.0, max=16.0), HTML(value='')))"
      ]
     },
     "metadata": {},
     "output_type": "display_data"
    },
    {
     "name": "stdout",
     "output_type": "stream",
     "text": [
      "\n",
      "cell ID =  2093 progress bar below: (n/N frames):\n"
     ]
    },
    {
     "data": {
      "application/vnd.jupyter.widget-view+json": {
       "model_id": "6a21b7452edc4f968f53d34439b1bf82",
       "version_major": 2,
       "version_minor": 0
      },
      "text/plain": [
       "HBox(children=(FloatProgress(value=0.0, max=9.0), HTML(value='')))"
      ]
     },
     "metadata": {},
     "output_type": "display_data"
    },
    {
     "name": "stdout",
     "output_type": "stream",
     "text": [
      "\n",
      "cell ID =  2099 progress bar below: (n/N frames):\n"
     ]
    },
    {
     "data": {
      "application/vnd.jupyter.widget-view+json": {
       "model_id": "805a16aadb644d4a8c6a1bfac053a642",
       "version_major": 2,
       "version_minor": 0
      },
      "text/plain": [
       "HBox(children=(FloatProgress(value=0.0, max=16.0), HTML(value='')))"
      ]
     },
     "metadata": {},
     "output_type": "display_data"
    },
    {
     "name": "stdout",
     "output_type": "stream",
     "text": [
      "\n",
      "cell ID =  2105 progress bar below: (n/N frames):\n"
     ]
    },
    {
     "data": {
      "application/vnd.jupyter.widget-view+json": {
       "model_id": "38a28bdf869d4562a6d4d2c00b84c1b7",
       "version_major": 2,
       "version_minor": 0
      },
      "text/plain": [
       "HBox(children=(FloatProgress(value=0.0, max=26.0), HTML(value='')))"
      ]
     },
     "metadata": {},
     "output_type": "display_data"
    },
    {
     "name": "stdout",
     "output_type": "stream",
     "text": [
      "\n",
      "cell ID =  2109 progress bar below: (n/N frames):\n"
     ]
    },
    {
     "data": {
      "application/vnd.jupyter.widget-view+json": {
       "model_id": "4559911884e74da0a22f6d8501193730",
       "version_major": 2,
       "version_minor": 0
      },
      "text/plain": [
       "HBox(children=(FloatProgress(value=0.0, max=2.0), HTML(value='')))"
      ]
     },
     "metadata": {},
     "output_type": "display_data"
    },
    {
     "name": "stdout",
     "output_type": "stream",
     "text": [
      "\n",
      "cell ID =  2112 progress bar below: (n/N frames):\n"
     ]
    },
    {
     "data": {
      "application/vnd.jupyter.widget-view+json": {
       "model_id": "2436383c41b641588182f3d0226382c0",
       "version_major": 2,
       "version_minor": 0
      },
      "text/plain": [
       "HBox(children=(FloatProgress(value=0.0, max=126.0), HTML(value='')))"
      ]
     },
     "metadata": {},
     "output_type": "display_data"
    },
    {
     "name": "stdout",
     "output_type": "stream",
     "text": [
      "\n",
      "cell ID =  2113 progress bar below: (n/N frames):\n"
     ]
    },
    {
     "data": {
      "application/vnd.jupyter.widget-view+json": {
       "model_id": "bf586686f9f4442483e04dec60d14081",
       "version_major": 2,
       "version_minor": 0
      },
      "text/plain": [
       "HBox(children=(FloatProgress(value=0.0, max=4.0), HTML(value='')))"
      ]
     },
     "metadata": {},
     "output_type": "display_data"
    },
    {
     "name": "stdout",
     "output_type": "stream",
     "text": [
      "\n",
      "cell ID =  2114 progress bar below: (n/N frames):\n"
     ]
    },
    {
     "data": {
      "application/vnd.jupyter.widget-view+json": {
       "model_id": "5ec7960f623b41069da72bf3b39b974d",
       "version_major": 2,
       "version_minor": 0
      },
      "text/plain": [
       "HBox(children=(FloatProgress(value=0.0, max=35.0), HTML(value='')))"
      ]
     },
     "metadata": {},
     "output_type": "display_data"
    },
    {
     "name": "stdout",
     "output_type": "stream",
     "text": [
      "\n",
      "cell ID =  2115 progress bar below: (n/N frames):\n"
     ]
    },
    {
     "data": {
      "application/vnd.jupyter.widget-view+json": {
       "model_id": "9212c28427ed401cb08f9f15d2b4ef77",
       "version_major": 2,
       "version_minor": 0
      },
      "text/plain": [
       "HBox(children=(FloatProgress(value=0.0, max=124.0), HTML(value='')))"
      ]
     },
     "metadata": {},
     "output_type": "display_data"
    },
    {
     "name": "stdout",
     "output_type": "stream",
     "text": [
      "\n",
      "cell ID =  2119 progress bar below: (n/N frames):\n"
     ]
    },
    {
     "data": {
      "application/vnd.jupyter.widget-view+json": {
       "model_id": "8c39c4c8f9e14d24a11adbd8a3f82792",
       "version_major": 2,
       "version_minor": 0
      },
      "text/plain": [
       "HBox(children=(FloatProgress(value=0.0, max=7.0), HTML(value='')))"
      ]
     },
     "metadata": {},
     "output_type": "display_data"
    },
    {
     "name": "stdout",
     "output_type": "stream",
     "text": [
      "\n",
      "cell ID =  2124 progress bar below: (n/N frames):\n"
     ]
    },
    {
     "data": {
      "application/vnd.jupyter.widget-view+json": {
       "model_id": "b5deb7463a55452d8682841b5fa2cfb1",
       "version_major": 2,
       "version_minor": 0
      },
      "text/plain": [
       "HBox(children=(FloatProgress(value=0.0, max=21.0), HTML(value='')))"
      ]
     },
     "metadata": {},
     "output_type": "display_data"
    },
    {
     "name": "stdout",
     "output_type": "stream",
     "text": [
      "\n",
      "cell ID =  2125 progress bar below: (n/N frames):\n"
     ]
    },
    {
     "data": {
      "application/vnd.jupyter.widget-view+json": {
       "model_id": "4ced9ae79788405b886dbf98069eaf94",
       "version_major": 2,
       "version_minor": 0
      },
      "text/plain": [
       "HBox(children=(FloatProgress(value=0.0, max=5.0), HTML(value='')))"
      ]
     },
     "metadata": {},
     "output_type": "display_data"
    },
    {
     "name": "stdout",
     "output_type": "stream",
     "text": [
      "\n",
      "cell ID =  2123 progress bar below: (n/N frames):\n"
     ]
    },
    {
     "data": {
      "application/vnd.jupyter.widget-view+json": {
       "model_id": "89fee4aa039640cfaaa9995e703b52f5",
       "version_major": 2,
       "version_minor": 0
      },
      "text/plain": [
       "HBox(children=(FloatProgress(value=0.0, max=121.0), HTML(value='')))"
      ]
     },
     "metadata": {},
     "output_type": "display_data"
    },
    {
     "name": "stdout",
     "output_type": "stream",
     "text": [
      "\n",
      "cell ID =  2122 progress bar below: (n/N frames):\n"
     ]
    },
    {
     "data": {
      "application/vnd.jupyter.widget-view+json": {
       "model_id": "8854abc26062439c98f1f795e8f5f4f3",
       "version_major": 2,
       "version_minor": 0
      },
      "text/plain": [
       "HBox(children=(FloatProgress(value=0.0, max=121.0), HTML(value='')))"
      ]
     },
     "metadata": {},
     "output_type": "display_data"
    },
    {
     "name": "stdout",
     "output_type": "stream",
     "text": [
      "\n",
      "cell ID =  2121 progress bar below: (n/N frames):\n"
     ]
    },
    {
     "data": {
      "application/vnd.jupyter.widget-view+json": {
       "model_id": "ad14b3d0221b486face7b32d4c4c59d3",
       "version_major": 2,
       "version_minor": 0
      },
      "text/plain": [
       "HBox(children=(FloatProgress(value=0.0, max=17.0), HTML(value='')))"
      ]
     },
     "metadata": {},
     "output_type": "display_data"
    },
    {
     "name": "stdout",
     "output_type": "stream",
     "text": [
      "\n",
      "cell ID =  2120 progress bar below: (n/N frames):\n"
     ]
    },
    {
     "data": {
      "application/vnd.jupyter.widget-view+json": {
       "model_id": "f7c706e20bf1482293a84f1be793689e",
       "version_major": 2,
       "version_minor": 0
      },
      "text/plain": [
       "HBox(children=(FloatProgress(value=0.0, max=3.0), HTML(value='')))"
      ]
     },
     "metadata": {},
     "output_type": "display_data"
    },
    {
     "name": "stdout",
     "output_type": "stream",
     "text": [
      "\n",
      "cell ID =  2126 progress bar below: (n/N frames):\n"
     ]
    },
    {
     "data": {
      "application/vnd.jupyter.widget-view+json": {
       "model_id": "7bb52e16c32948ec9b7986e571757abc",
       "version_major": 2,
       "version_minor": 0
      },
      "text/plain": [
       "HBox(children=(FloatProgress(value=0.0, max=14.0), HTML(value='')))"
      ]
     },
     "metadata": {},
     "output_type": "display_data"
    },
    {
     "name": "stdout",
     "output_type": "stream",
     "text": [
      "\n",
      "cell ID =  2129 progress bar below: (n/N frames):\n"
     ]
    },
    {
     "data": {
      "application/vnd.jupyter.widget-view+json": {
       "model_id": "4bd6da47798d4ef58912bdb82f5ed1c2",
       "version_major": 2,
       "version_minor": 0
      },
      "text/plain": [
       "HBox(children=(FloatProgress(value=0.0, max=7.0), HTML(value='')))"
      ]
     },
     "metadata": {},
     "output_type": "display_data"
    },
    {
     "name": "stdout",
     "output_type": "stream",
     "text": [
      "\n",
      "cell ID =  2130 progress bar below: (n/N frames):\n"
     ]
    },
    {
     "data": {
      "application/vnd.jupyter.widget-view+json": {
       "model_id": "9b2af20f473f43ca95e84b683c5f905e",
       "version_major": 2,
       "version_minor": 0
      },
      "text/plain": [
       "HBox(children=(FloatProgress(value=0.0, max=119.0), HTML(value='')))"
      ]
     },
     "metadata": {},
     "output_type": "display_data"
    },
    {
     "name": "stdout",
     "output_type": "stream",
     "text": [
      "\n",
      "cell ID =  2131 progress bar below: (n/N frames):\n"
     ]
    },
    {
     "data": {
      "application/vnd.jupyter.widget-view+json": {
       "model_id": "8e646f07b54941bca84532314761b469",
       "version_major": 2,
       "version_minor": 0
      },
      "text/plain": [
       "HBox(children=(FloatProgress(value=0.0, max=3.0), HTML(value='')))"
      ]
     },
     "metadata": {},
     "output_type": "display_data"
    },
    {
     "name": "stdout",
     "output_type": "stream",
     "text": [
      "\n",
      "cell ID =  2133 progress bar below: (n/N frames):\n"
     ]
    },
    {
     "data": {
      "application/vnd.jupyter.widget-view+json": {
       "model_id": "e3fea45f08544ac1b54efd39384be7ae",
       "version_major": 2,
       "version_minor": 0
      },
      "text/plain": [
       "HBox(children=(FloatProgress(value=0.0, max=2.0), HTML(value='')))"
      ]
     },
     "metadata": {},
     "output_type": "display_data"
    },
    {
     "name": "stdout",
     "output_type": "stream",
     "text": [
      "\n",
      "cell ID =  2136 progress bar below: (n/N frames):\n"
     ]
    },
    {
     "data": {
      "application/vnd.jupyter.widget-view+json": {
       "model_id": "dc65fa81fdae4606a26e850b662186d4",
       "version_major": 2,
       "version_minor": 0
      },
      "text/plain": [
       "HBox(children=(FloatProgress(value=0.0, max=116.0), HTML(value='')))"
      ]
     },
     "metadata": {},
     "output_type": "display_data"
    },
    {
     "name": "stdout",
     "output_type": "stream",
     "text": [
      "\n",
      "cell ID =  2137 progress bar below: (n/N frames):\n"
     ]
    },
    {
     "data": {
      "application/vnd.jupyter.widget-view+json": {
       "model_id": "9cab3837e8f14afeaaa879cd781a0be7",
       "version_major": 2,
       "version_minor": 0
      },
      "text/plain": [
       "HBox(children=(FloatProgress(value=0.0, max=5.0), HTML(value='')))"
      ]
     },
     "metadata": {},
     "output_type": "display_data"
    },
    {
     "name": "stdout",
     "output_type": "stream",
     "text": [
      "\n",
      "cell ID =  2140 progress bar below: (n/N frames):\n"
     ]
    },
    {
     "data": {
      "application/vnd.jupyter.widget-view+json": {
       "model_id": "c7b4426fa19c4e86946635caa5a16df6",
       "version_major": 2,
       "version_minor": 0
      },
      "text/plain": [
       "HBox(children=(FloatProgress(value=0.0, max=25.0), HTML(value='')))"
      ]
     },
     "metadata": {},
     "output_type": "display_data"
    },
    {
     "name": "stdout",
     "output_type": "stream",
     "text": [
      "\n",
      "cell ID =  2146 progress bar below: (n/N frames):\n"
     ]
    },
    {
     "data": {
      "application/vnd.jupyter.widget-view+json": {
       "model_id": "33a648b22d284257a2626e867f42e722",
       "version_major": 2,
       "version_minor": 0
      },
      "text/plain": [
       "HBox(children=(FloatProgress(value=0.0, max=3.0), HTML(value='')))"
      ]
     },
     "metadata": {},
     "output_type": "display_data"
    },
    {
     "name": "stdout",
     "output_type": "stream",
     "text": [
      "\n",
      "cell ID =  2147 progress bar below: (n/N frames):\n"
     ]
    },
    {
     "data": {
      "application/vnd.jupyter.widget-view+json": {
       "model_id": "f5dfc2cb2e0b4323b1b801cae0012838",
       "version_major": 2,
       "version_minor": 0
      },
      "text/plain": [
       "HBox(children=(FloatProgress(value=0.0, max=4.0), HTML(value='')))"
      ]
     },
     "metadata": {},
     "output_type": "display_data"
    },
    {
     "name": "stdout",
     "output_type": "stream",
     "text": [
      "\n",
      "cell ID =  2149 progress bar below: (n/N frames):\n"
     ]
    },
    {
     "data": {
      "application/vnd.jupyter.widget-view+json": {
       "model_id": "35d483c6778e4cf6976af106ccc416d2",
       "version_major": 2,
       "version_minor": 0
      },
      "text/plain": [
       "HBox(children=(FloatProgress(value=0.0, max=108.0), HTML(value='')))"
      ]
     },
     "metadata": {},
     "output_type": "display_data"
    },
    {
     "name": "stdout",
     "output_type": "stream",
     "text": [
      "\n",
      "cell ID =  2151 progress bar below: (n/N frames):\n"
     ]
    },
    {
     "data": {
      "application/vnd.jupyter.widget-view+json": {
       "model_id": "756ba4ff57de4f7b97a720aeb2dc92ac",
       "version_major": 2,
       "version_minor": 0
      },
      "text/plain": [
       "HBox(children=(FloatProgress(value=0.0, max=109.0), HTML(value='')))"
      ]
     },
     "metadata": {},
     "output_type": "display_data"
    },
    {
     "name": "stdout",
     "output_type": "stream",
     "text": [
      "\n",
      "cell ID =  2153 progress bar below: (n/N frames):\n"
     ]
    },
    {
     "data": {
      "application/vnd.jupyter.widget-view+json": {
       "model_id": "60a982d5af92441eafd0ee23728f530d",
       "version_major": 2,
       "version_minor": 0
      },
      "text/plain": [
       "HBox(children=(FloatProgress(value=0.0, max=109.0), HTML(value='')))"
      ]
     },
     "metadata": {},
     "output_type": "display_data"
    },
    {
     "name": "stdout",
     "output_type": "stream",
     "text": [
      "\n",
      "cell ID =  2155 progress bar below: (n/N frames):\n"
     ]
    },
    {
     "data": {
      "application/vnd.jupyter.widget-view+json": {
       "model_id": "ec54ce5b46bb4972ba543c4bf53c0876",
       "version_major": 2,
       "version_minor": 0
      },
      "text/plain": [
       "HBox(children=(FloatProgress(value=0.0, max=4.0), HTML(value='')))"
      ]
     },
     "metadata": {},
     "output_type": "display_data"
    },
    {
     "name": "stdout",
     "output_type": "stream",
     "text": [
      "\n",
      "cell ID =  2156 progress bar below: (n/N frames):\n"
     ]
    },
    {
     "data": {
      "application/vnd.jupyter.widget-view+json": {
       "model_id": "4febe61f2bac48398c057bccce111b64",
       "version_major": 2,
       "version_minor": 0
      },
      "text/plain": [
       "HBox(children=(FloatProgress(value=0.0, max=104.0), HTML(value='')))"
      ]
     },
     "metadata": {},
     "output_type": "display_data"
    },
    {
     "name": "stdout",
     "output_type": "stream",
     "text": [
      "\n",
      "cell ID =  2158 progress bar below: (n/N frames):\n"
     ]
    },
    {
     "data": {
      "application/vnd.jupyter.widget-view+json": {
       "model_id": "6f638f94adcb4d39b0ae2f2c24095333",
       "version_major": 2,
       "version_minor": 0
      },
      "text/plain": [
       "HBox(children=(FloatProgress(value=0.0, max=3.0), HTML(value='')))"
      ]
     },
     "metadata": {},
     "output_type": "display_data"
    },
    {
     "name": "stdout",
     "output_type": "stream",
     "text": [
      "\n",
      "cell ID =  2157 progress bar below: (n/N frames):\n"
     ]
    },
    {
     "data": {
      "application/vnd.jupyter.widget-view+json": {
       "model_id": "74b4fbd9898d4ed8a99847268250ce81",
       "version_major": 2,
       "version_minor": 0
      },
      "text/plain": [
       "HBox(children=(FloatProgress(value=0.0, max=103.0), HTML(value='')))"
      ]
     },
     "metadata": {},
     "output_type": "display_data"
    },
    {
     "name": "stdout",
     "output_type": "stream",
     "text": [
      "\n",
      "cell ID =  2162 progress bar below: (n/N frames):\n"
     ]
    },
    {
     "data": {
      "application/vnd.jupyter.widget-view+json": {
       "model_id": "c693982070ae45e4b2bc9a4a6d3da619",
       "version_major": 2,
       "version_minor": 0
      },
      "text/plain": [
       "HBox(children=(FloatProgress(value=0.0, max=101.0), HTML(value='')))"
      ]
     },
     "metadata": {},
     "output_type": "display_data"
    },
    {
     "name": "stdout",
     "output_type": "stream",
     "text": [
      "\n",
      "cell ID =  2165 progress bar below: (n/N frames):\n"
     ]
    },
    {
     "data": {
      "application/vnd.jupyter.widget-view+json": {
       "model_id": "a8473225e44d4e99a8458bb5779f4b9a",
       "version_major": 2,
       "version_minor": 0
      },
      "text/plain": [
       "HBox(children=(FloatProgress(value=0.0, max=10.0), HTML(value='')))"
      ]
     },
     "metadata": {},
     "output_type": "display_data"
    },
    {
     "name": "stdout",
     "output_type": "stream",
     "text": [
      "\n",
      "cell ID =  2167 progress bar below: (n/N frames):\n"
     ]
    },
    {
     "data": {
      "application/vnd.jupyter.widget-view+json": {
       "model_id": "28d972cdfeae45259845302d149a1763",
       "version_major": 2,
       "version_minor": 0
      },
      "text/plain": [
       "HBox(children=(FloatProgress(value=0.0, max=20.0), HTML(value='')))"
      ]
     },
     "metadata": {},
     "output_type": "display_data"
    },
    {
     "name": "stdout",
     "output_type": "stream",
     "text": [
      "\n",
      "cell ID =  2171 progress bar below: (n/N frames):\n"
     ]
    },
    {
     "data": {
      "application/vnd.jupyter.widget-view+json": {
       "model_id": "7c847b2f353843f2b8c32fa59ceda60e",
       "version_major": 2,
       "version_minor": 0
      },
      "text/plain": [
       "HBox(children=(FloatProgress(value=0.0, max=34.0), HTML(value='')))"
      ]
     },
     "metadata": {},
     "output_type": "display_data"
    },
    {
     "name": "stdout",
     "output_type": "stream",
     "text": [
      "\n",
      "cell ID =  2170 progress bar below: (n/N frames):\n"
     ]
    },
    {
     "data": {
      "application/vnd.jupyter.widget-view+json": {
       "model_id": "50c35f4853fc4d7fbbc9f7aa6d31ddaa",
       "version_major": 2,
       "version_minor": 0
      },
      "text/plain": [
       "HBox(children=(FloatProgress(value=0.0, max=2.0), HTML(value='')))"
      ]
     },
     "metadata": {},
     "output_type": "display_data"
    },
    {
     "name": "stdout",
     "output_type": "stream",
     "text": [
      "\n",
      "cell ID =  2169 progress bar below: (n/N frames):\n"
     ]
    },
    {
     "data": {
      "application/vnd.jupyter.widget-view+json": {
       "model_id": "0fcd63940889494cb75bba0e66e1dc05",
       "version_major": 2,
       "version_minor": 0
      },
      "text/plain": [
       "HBox(children=(FloatProgress(value=0.0, max=98.0), HTML(value='')))"
      ]
     },
     "metadata": {},
     "output_type": "display_data"
    },
    {
     "name": "stdout",
     "output_type": "stream",
     "text": [
      "\n",
      "cell ID =  2174 progress bar below: (n/N frames):\n"
     ]
    },
    {
     "data": {
      "application/vnd.jupyter.widget-view+json": {
       "model_id": "c928b8ba89f847c49af29f5eb707d92b",
       "version_major": 2,
       "version_minor": 0
      },
      "text/plain": [
       "HBox(children=(FloatProgress(value=0.0, max=76.0), HTML(value='')))"
      ]
     },
     "metadata": {},
     "output_type": "display_data"
    },
    {
     "name": "stdout",
     "output_type": "stream",
     "text": [
      "\n",
      "cell ID =  2175 progress bar below: (n/N frames):\n"
     ]
    },
    {
     "data": {
      "application/vnd.jupyter.widget-view+json": {
       "model_id": "fa80dc27440e45c7891263413badf2f9",
       "version_major": 2,
       "version_minor": 0
      },
      "text/plain": [
       "HBox(children=(FloatProgress(value=0.0, max=3.0), HTML(value='')))"
      ]
     },
     "metadata": {},
     "output_type": "display_data"
    },
    {
     "name": "stdout",
     "output_type": "stream",
     "text": [
      "\n",
      "cell ID =  2182 progress bar below: (n/N frames):\n"
     ]
    },
    {
     "data": {
      "application/vnd.jupyter.widget-view+json": {
       "model_id": "5b81ba05abb1420a94f343e1ef493edd",
       "version_major": 2,
       "version_minor": 0
      },
      "text/plain": [
       "HBox(children=(FloatProgress(value=0.0, max=3.0), HTML(value='')))"
      ]
     },
     "metadata": {},
     "output_type": "display_data"
    },
    {
     "name": "stdout",
     "output_type": "stream",
     "text": [
      "\n",
      "cell ID =  2183 progress bar below: (n/N frames):\n"
     ]
    },
    {
     "data": {
      "application/vnd.jupyter.widget-view+json": {
       "model_id": "046c12dd385b4df99a70a7ecf3dd8cc7",
       "version_major": 2,
       "version_minor": 0
      },
      "text/plain": [
       "HBox(children=(FloatProgress(value=0.0, max=3.0), HTML(value='')))"
      ]
     },
     "metadata": {},
     "output_type": "display_data"
    },
    {
     "name": "stdout",
     "output_type": "stream",
     "text": [
      "\n",
      "cell ID =  2187 progress bar below: (n/N frames):\n"
     ]
    },
    {
     "data": {
      "application/vnd.jupyter.widget-view+json": {
       "model_id": "5ba04bb0d646429489c365ca894aa8ed",
       "version_major": 2,
       "version_minor": 0
      },
      "text/plain": [
       "HBox(children=(FloatProgress(value=0.0, max=87.0), HTML(value='')))"
      ]
     },
     "metadata": {},
     "output_type": "display_data"
    },
    {
     "name": "stdout",
     "output_type": "stream",
     "text": [
      "\n",
      "cell ID =  2190 progress bar below: (n/N frames):\n"
     ]
    },
    {
     "data": {
      "application/vnd.jupyter.widget-view+json": {
       "model_id": "424f166135b64364af54fc4ee1c7948a",
       "version_major": 2,
       "version_minor": 0
      },
      "text/plain": [
       "HBox(children=(FloatProgress(value=0.0, max=2.0), HTML(value='')))"
      ]
     },
     "metadata": {},
     "output_type": "display_data"
    },
    {
     "name": "stdout",
     "output_type": "stream",
     "text": [
      "\n",
      "cell ID =  2193 progress bar below: (n/N frames):\n"
     ]
    },
    {
     "data": {
      "application/vnd.jupyter.widget-view+json": {
       "model_id": "cb0e9998d3b9494b889847eddc3e4f82",
       "version_major": 2,
       "version_minor": 0
      },
      "text/plain": [
       "HBox(children=(FloatProgress(value=0.0, max=84.0), HTML(value='')))"
      ]
     },
     "metadata": {},
     "output_type": "display_data"
    },
    {
     "name": "stdout",
     "output_type": "stream",
     "text": [
      "\n",
      "cell ID =  2194 progress bar below: (n/N frames):\n"
     ]
    },
    {
     "data": {
      "application/vnd.jupyter.widget-view+json": {
       "model_id": "70804f36ea764ffc916fb07341638b22",
       "version_major": 2,
       "version_minor": 0
      },
      "text/plain": [
       "HBox(children=(FloatProgress(value=0.0, max=83.0), HTML(value='')))"
      ]
     },
     "metadata": {},
     "output_type": "display_data"
    },
    {
     "name": "stdout",
     "output_type": "stream",
     "text": [
      "\n",
      "cell ID =  2195 progress bar below: (n/N frames):\n"
     ]
    },
    {
     "data": {
      "application/vnd.jupyter.widget-view+json": {
       "model_id": "b21cb22e7d6f4a04a71d83eec1eca7d3",
       "version_major": 2,
       "version_minor": 0
      },
      "text/plain": [
       "HBox(children=(FloatProgress(value=0.0, max=62.0), HTML(value='')))"
      ]
     },
     "metadata": {},
     "output_type": "display_data"
    },
    {
     "name": "stdout",
     "output_type": "stream",
     "text": [
      "\n",
      "cell ID =  2197 progress bar below: (n/N frames):\n"
     ]
    },
    {
     "data": {
      "application/vnd.jupyter.widget-view+json": {
       "model_id": "b086c1dea9fd4f78ab04b958dbafe82b",
       "version_major": 2,
       "version_minor": 0
      },
      "text/plain": [
       "HBox(children=(FloatProgress(value=0.0, max=79.0), HTML(value='')))"
      ]
     },
     "metadata": {},
     "output_type": "display_data"
    },
    {
     "name": "stdout",
     "output_type": "stream",
     "text": [
      "\n",
      "cell ID =  2198 progress bar below: (n/N frames):\n"
     ]
    },
    {
     "data": {
      "application/vnd.jupyter.widget-view+json": {
       "model_id": "7d960a64e4264343bbcf5b0cf3ae80b1",
       "version_major": 2,
       "version_minor": 0
      },
      "text/plain": [
       "HBox(children=(FloatProgress(value=0.0, max=9.0), HTML(value='')))"
      ]
     },
     "metadata": {},
     "output_type": "display_data"
    },
    {
     "name": "stdout",
     "output_type": "stream",
     "text": [
      "\n",
      "cell ID =  2201 progress bar below: (n/N frames):\n"
     ]
    },
    {
     "data": {
      "application/vnd.jupyter.widget-view+json": {
       "model_id": "3327fd76473f4a63ae8b72bc856de790",
       "version_major": 2,
       "version_minor": 0
      },
      "text/plain": [
       "HBox(children=(FloatProgress(value=0.0, max=4.0), HTML(value='')))"
      ]
     },
     "metadata": {},
     "output_type": "display_data"
    },
    {
     "name": "stdout",
     "output_type": "stream",
     "text": [
      "\n",
      "cell ID =  2205 progress bar below: (n/N frames):\n"
     ]
    },
    {
     "data": {
      "application/vnd.jupyter.widget-view+json": {
       "model_id": "7acefbb5f5ca46fca46f6af62044484c",
       "version_major": 2,
       "version_minor": 0
      },
      "text/plain": [
       "HBox(children=(FloatProgress(value=0.0, max=72.0), HTML(value='')))"
      ]
     },
     "metadata": {},
     "output_type": "display_data"
    },
    {
     "name": "stdout",
     "output_type": "stream",
     "text": [
      "\n",
      "cell ID =  2207 progress bar below: (n/N frames):\n"
     ]
    },
    {
     "data": {
      "application/vnd.jupyter.widget-view+json": {
       "model_id": "2a8f9a3bbc614c5ba8c66201d667fa4b",
       "version_major": 2,
       "version_minor": 0
      },
      "text/plain": [
       "HBox(children=(FloatProgress(value=0.0, max=4.0), HTML(value='')))"
      ]
     },
     "metadata": {},
     "output_type": "display_data"
    },
    {
     "name": "stdout",
     "output_type": "stream",
     "text": [
      "\n",
      "cell ID =  2208 progress bar below: (n/N frames):\n"
     ]
    },
    {
     "data": {
      "application/vnd.jupyter.widget-view+json": {
       "model_id": "4cc2b753c5314f228a9376ae8513200d",
       "version_major": 2,
       "version_minor": 0
      },
      "text/plain": [
       "HBox(children=(FloatProgress(value=0.0, max=4.0), HTML(value='')))"
      ]
     },
     "metadata": {},
     "output_type": "display_data"
    },
    {
     "name": "stdout",
     "output_type": "stream",
     "text": [
      "\n",
      "cell ID =  2209 progress bar below: (n/N frames):\n"
     ]
    },
    {
     "data": {
      "application/vnd.jupyter.widget-view+json": {
       "model_id": "82391874d000411e8fc128658a8058a0",
       "version_major": 2,
       "version_minor": 0
      },
      "text/plain": [
       "HBox(children=(FloatProgress(value=0.0, max=24.0), HTML(value='')))"
      ]
     },
     "metadata": {},
     "output_type": "display_data"
    },
    {
     "name": "stdout",
     "output_type": "stream",
     "text": [
      "\n",
      "cell ID =  2210 progress bar below: (n/N frames):\n"
     ]
    },
    {
     "data": {
      "application/vnd.jupyter.widget-view+json": {
       "model_id": "7122f3c32e1a4c8a8a051e2d75d794b9",
       "version_major": 2,
       "version_minor": 0
      },
      "text/plain": [
       "HBox(children=(FloatProgress(value=0.0, max=68.0), HTML(value='')))"
      ]
     },
     "metadata": {},
     "output_type": "display_data"
    },
    {
     "name": "stdout",
     "output_type": "stream",
     "text": [
      "\n",
      "cell ID =  2213 progress bar below: (n/N frames):\n"
     ]
    },
    {
     "data": {
      "application/vnd.jupyter.widget-view+json": {
       "model_id": "b250caa6b9224cadb9689f04e9e58f91",
       "version_major": 2,
       "version_minor": 0
      },
      "text/plain": [
       "HBox(children=(FloatProgress(value=0.0, max=18.0), HTML(value='')))"
      ]
     },
     "metadata": {},
     "output_type": "display_data"
    },
    {
     "name": "stdout",
     "output_type": "stream",
     "text": [
      "\n",
      "cell ID =  2212 progress bar below: (n/N frames):\n"
     ]
    },
    {
     "data": {
      "application/vnd.jupyter.widget-view+json": {
       "model_id": "f3c723880713438e8b754fa9905c65e4",
       "version_major": 2,
       "version_minor": 0
      },
      "text/plain": [
       "HBox(children=(FloatProgress(value=0.0, max=67.0), HTML(value='')))"
      ]
     },
     "metadata": {},
     "output_type": "display_data"
    },
    {
     "name": "stdout",
     "output_type": "stream",
     "text": [
      "\n",
      "cell ID =  2214 progress bar below: (n/N frames):\n"
     ]
    },
    {
     "data": {
      "application/vnd.jupyter.widget-view+json": {
       "model_id": "3aec23cc63134e77a648e15456a3237d",
       "version_major": 2,
       "version_minor": 0
      },
      "text/plain": [
       "HBox(children=(FloatProgress(value=0.0, max=65.0), HTML(value='')))"
      ]
     },
     "metadata": {},
     "output_type": "display_data"
    },
    {
     "name": "stdout",
     "output_type": "stream",
     "text": [
      "\n",
      "cell ID =  2217 progress bar below: (n/N frames):\n"
     ]
    },
    {
     "data": {
      "application/vnd.jupyter.widget-view+json": {
       "model_id": "af859c908cee4b5f957df0c7a4c18200",
       "version_major": 2,
       "version_minor": 0
      },
      "text/plain": [
       "HBox(children=(FloatProgress(value=0.0, max=2.0), HTML(value='')))"
      ]
     },
     "metadata": {},
     "output_type": "display_data"
    },
    {
     "name": "stdout",
     "output_type": "stream",
     "text": [
      "\n",
      "cell ID =  2219 progress bar below: (n/N frames):\n"
     ]
    },
    {
     "data": {
      "application/vnd.jupyter.widget-view+json": {
       "model_id": "34ee7190c95642e58f3ba6c484b1a7a1",
       "version_major": 2,
       "version_minor": 0
      },
      "text/plain": [
       "HBox(children=(FloatProgress(value=0.0, max=63.0), HTML(value='')))"
      ]
     },
     "metadata": {},
     "output_type": "display_data"
    },
    {
     "name": "stdout",
     "output_type": "stream",
     "text": [
      "\n",
      "cell ID =  2220 progress bar below: (n/N frames):\n"
     ]
    },
    {
     "data": {
      "application/vnd.jupyter.widget-view+json": {
       "model_id": "1f919fd93cf3481297c89ab9a116fac1",
       "version_major": 2,
       "version_minor": 0
      },
      "text/plain": [
       "HBox(children=(FloatProgress(value=0.0, max=14.0), HTML(value='')))"
      ]
     },
     "metadata": {},
     "output_type": "display_data"
    },
    {
     "name": "stdout",
     "output_type": "stream",
     "text": [
      "\n",
      "cell ID =  2225 progress bar below: (n/N frames):\n"
     ]
    },
    {
     "data": {
      "application/vnd.jupyter.widget-view+json": {
       "model_id": "12a154d9e9a740af8c2f5dee8dc8488b",
       "version_major": 2,
       "version_minor": 0
      },
      "text/plain": [
       "HBox(children=(FloatProgress(value=0.0, max=43.0), HTML(value='')))"
      ]
     },
     "metadata": {},
     "output_type": "display_data"
    },
    {
     "name": "stdout",
     "output_type": "stream",
     "text": [
      "\n",
      "cell ID =  2226 progress bar below: (n/N frames):\n"
     ]
    },
    {
     "data": {
      "application/vnd.jupyter.widget-view+json": {
       "model_id": "a56d372cc2ff4fdeb47a41c46074b2d5",
       "version_major": 2,
       "version_minor": 0
      },
      "text/plain": [
       "HBox(children=(FloatProgress(value=0.0, max=57.0), HTML(value='')))"
      ]
     },
     "metadata": {},
     "output_type": "display_data"
    },
    {
     "name": "stdout",
     "output_type": "stream",
     "text": [
      "\n",
      "cell ID =  2227 progress bar below: (n/N frames):\n"
     ]
    },
    {
     "data": {
      "application/vnd.jupyter.widget-view+json": {
       "model_id": "7e130923a5f84da8a7611583a1f8d2c5",
       "version_major": 2,
       "version_minor": 0
      },
      "text/plain": [
       "HBox(children=(FloatProgress(value=0.0, max=5.0), HTML(value='')))"
      ]
     },
     "metadata": {},
     "output_type": "display_data"
    },
    {
     "name": "stdout",
     "output_type": "stream",
     "text": [
      "\n",
      "cell ID =  2229 progress bar below: (n/N frames):\n"
     ]
    },
    {
     "data": {
      "application/vnd.jupyter.widget-view+json": {
       "model_id": "fdf10ae05cd346ae897d896bf96da631",
       "version_major": 2,
       "version_minor": 0
      },
      "text/plain": [
       "HBox(children=(FloatProgress(value=0.0, max=55.0), HTML(value='')))"
      ]
     },
     "metadata": {},
     "output_type": "display_data"
    },
    {
     "name": "stdout",
     "output_type": "stream",
     "text": [
      "\n",
      "cell ID =  2230 progress bar below: (n/N frames):\n"
     ]
    },
    {
     "data": {
      "application/vnd.jupyter.widget-view+json": {
       "model_id": "59a73ee0273f4a4b953ede426148a0d5",
       "version_major": 2,
       "version_minor": 0
      },
      "text/plain": [
       "HBox(children=(FloatProgress(value=0.0, max=5.0), HTML(value='')))"
      ]
     },
     "metadata": {},
     "output_type": "display_data"
    },
    {
     "name": "stdout",
     "output_type": "stream",
     "text": [
      "\n",
      "cell ID =  2235 progress bar below: (n/N frames):\n"
     ]
    },
    {
     "data": {
      "application/vnd.jupyter.widget-view+json": {
       "model_id": "6ba388b33dac41db89c19e65ff0903b8",
       "version_major": 2,
       "version_minor": 0
      },
      "text/plain": [
       "HBox(children=(FloatProgress(value=0.0, max=3.0), HTML(value='')))"
      ]
     },
     "metadata": {},
     "output_type": "display_data"
    },
    {
     "name": "stdout",
     "output_type": "stream",
     "text": [
      "\n",
      "cell ID =  2236 progress bar below: (n/N frames):\n"
     ]
    },
    {
     "data": {
      "application/vnd.jupyter.widget-view+json": {
       "model_id": "d928d96109434a468c7b1347e9f8c31e",
       "version_major": 2,
       "version_minor": 0
      },
      "text/plain": [
       "HBox(children=(FloatProgress(value=0.0, max=4.0), HTML(value='')))"
      ]
     },
     "metadata": {},
     "output_type": "display_data"
    },
    {
     "name": "stdout",
     "output_type": "stream",
     "text": [
      "\n",
      "cell ID =  2239 progress bar below: (n/N frames):\n"
     ]
    },
    {
     "data": {
      "application/vnd.jupyter.widget-view+json": {
       "model_id": "36bdc6fc8edd42c493aef66376fa3e25",
       "version_major": 2,
       "version_minor": 0
      },
      "text/plain": [
       "HBox(children=(FloatProgress(value=0.0, max=49.0), HTML(value='')))"
      ]
     },
     "metadata": {},
     "output_type": "display_data"
    },
    {
     "name": "stdout",
     "output_type": "stream",
     "text": [
      "\n",
      "cell ID =  2241 progress bar below: (n/N frames):\n"
     ]
    },
    {
     "data": {
      "application/vnd.jupyter.widget-view+json": {
       "model_id": "6f20cd81b5a44e8c880e4859e1aa4a6a",
       "version_major": 2,
       "version_minor": 0
      },
      "text/plain": [
       "HBox(children=(FloatProgress(value=0.0, max=2.0), HTML(value='')))"
      ]
     },
     "metadata": {},
     "output_type": "display_data"
    },
    {
     "name": "stdout",
     "output_type": "stream",
     "text": [
      "\n",
      "cell ID =  2243 progress bar below: (n/N frames):\n"
     ]
    },
    {
     "data": {
      "application/vnd.jupyter.widget-view+json": {
       "model_id": "7c9078c485224a58bca92bddf5f7755b",
       "version_major": 2,
       "version_minor": 0
      },
      "text/plain": [
       "HBox(children=(FloatProgress(value=0.0, max=49.0), HTML(value='')))"
      ]
     },
     "metadata": {},
     "output_type": "display_data"
    },
    {
     "name": "stdout",
     "output_type": "stream",
     "text": [
      "\n",
      "cell ID =  2245 progress bar below: (n/N frames):\n"
     ]
    },
    {
     "data": {
      "application/vnd.jupyter.widget-view+json": {
       "model_id": "3cbc7fa96d9740158204124c37354c87",
       "version_major": 2,
       "version_minor": 0
      },
      "text/plain": [
       "HBox(children=(FloatProgress(value=0.0, max=48.0), HTML(value='')))"
      ]
     },
     "metadata": {},
     "output_type": "display_data"
    },
    {
     "name": "stdout",
     "output_type": "stream",
     "text": [
      "\n",
      "cell ID =  2247 progress bar below: (n/N frames):\n"
     ]
    },
    {
     "data": {
      "application/vnd.jupyter.widget-view+json": {
       "model_id": "4b3b3dd904e14e2d9c63f466a21ece04",
       "version_major": 2,
       "version_minor": 0
      },
      "text/plain": [
       "HBox(children=(FloatProgress(value=0.0, max=2.0), HTML(value='')))"
      ]
     },
     "metadata": {},
     "output_type": "display_data"
    },
    {
     "name": "stdout",
     "output_type": "stream",
     "text": [
      "\n",
      "cell ID =  2251 progress bar below: (n/N frames):\n"
     ]
    },
    {
     "data": {
      "application/vnd.jupyter.widget-view+json": {
       "model_id": "a2fb1f4c95a5457587a3f9ff8bca7123",
       "version_major": 2,
       "version_minor": 0
      },
      "text/plain": [
       "HBox(children=(FloatProgress(value=0.0, max=46.0), HTML(value='')))"
      ]
     },
     "metadata": {},
     "output_type": "display_data"
    },
    {
     "name": "stdout",
     "output_type": "stream",
     "text": [
      "\n",
      "cell ID =  2249 progress bar below: (n/N frames):\n"
     ]
    },
    {
     "data": {
      "application/vnd.jupyter.widget-view+json": {
       "model_id": "389dc9385fa24e8da4e65d2bc2227cc9",
       "version_major": 2,
       "version_minor": 0
      },
      "text/plain": [
       "HBox(children=(FloatProgress(value=0.0, max=33.0), HTML(value='')))"
      ]
     },
     "metadata": {},
     "output_type": "display_data"
    },
    {
     "name": "stdout",
     "output_type": "stream",
     "text": [
      "\n",
      "cell ID =  2248 progress bar below: (n/N frames):\n"
     ]
    },
    {
     "data": {
      "application/vnd.jupyter.widget-view+json": {
       "model_id": "74ed9c2f80634dfda0602c62e9ae110c",
       "version_major": 2,
       "version_minor": 0
      },
      "text/plain": [
       "HBox(children=(FloatProgress(value=0.0, max=46.0), HTML(value='')))"
      ]
     },
     "metadata": {},
     "output_type": "display_data"
    },
    {
     "name": "stdout",
     "output_type": "stream",
     "text": [
      "\n",
      "cell ID =  2250 progress bar below: (n/N frames):\n"
     ]
    },
    {
     "data": {
      "application/vnd.jupyter.widget-view+json": {
       "model_id": "29f01b2507e14e8488d59b43c8432b6d",
       "version_major": 2,
       "version_minor": 0
      },
      "text/plain": [
       "HBox(children=(FloatProgress(value=0.0, max=13.0), HTML(value='')))"
      ]
     },
     "metadata": {},
     "output_type": "display_data"
    },
    {
     "name": "stdout",
     "output_type": "stream",
     "text": [
      "\n",
      "cell ID =  2253 progress bar below: (n/N frames):\n"
     ]
    },
    {
     "data": {
      "application/vnd.jupyter.widget-view+json": {
       "model_id": "854ac5cb8e844b30bbfdd2cf9a9ea99f",
       "version_major": 2,
       "version_minor": 0
      },
      "text/plain": [
       "HBox(children=(FloatProgress(value=0.0, max=26.0), HTML(value='')))"
      ]
     },
     "metadata": {},
     "output_type": "display_data"
    },
    {
     "name": "stdout",
     "output_type": "stream",
     "text": [
      "\n",
      "cell ID =  2255 progress bar below: (n/N frames):\n"
     ]
    },
    {
     "data": {
      "application/vnd.jupyter.widget-view+json": {
       "model_id": "3f4eec541dee4f7496dd5799de735907",
       "version_major": 2,
       "version_minor": 0
      },
      "text/plain": [
       "HBox(children=(FloatProgress(value=0.0, max=4.0), HTML(value='')))"
      ]
     },
     "metadata": {},
     "output_type": "display_data"
    },
    {
     "name": "stdout",
     "output_type": "stream",
     "text": [
      "\n",
      "cell ID =  2256 progress bar below: (n/N frames):\n"
     ]
    },
    {
     "data": {
      "application/vnd.jupyter.widget-view+json": {
       "model_id": "07e3d3ad6e484336b6502305c371c16a",
       "version_major": 2,
       "version_minor": 0
      },
      "text/plain": [
       "HBox(children=(FloatProgress(value=0.0, max=12.0), HTML(value='')))"
      ]
     },
     "metadata": {},
     "output_type": "display_data"
    },
    {
     "name": "stdout",
     "output_type": "stream",
     "text": [
      "\n",
      "cell ID =  2258 progress bar below: (n/N frames):\n"
     ]
    },
    {
     "data": {
      "application/vnd.jupyter.widget-view+json": {
       "model_id": "f95901e20fe74259b631ec74d2d0ce62",
       "version_major": 2,
       "version_minor": 0
      },
      "text/plain": [
       "HBox(children=(FloatProgress(value=0.0, max=8.0), HTML(value='')))"
      ]
     },
     "metadata": {},
     "output_type": "display_data"
    },
    {
     "name": "stdout",
     "output_type": "stream",
     "text": [
      "\n",
      "cell ID =  2260 progress bar below: (n/N frames):\n"
     ]
    },
    {
     "data": {
      "application/vnd.jupyter.widget-view+json": {
       "model_id": "f5f7c67bbda1476ab05b2189f0289006",
       "version_major": 2,
       "version_minor": 0
      },
      "text/plain": [
       "HBox(children=(FloatProgress(value=0.0, max=2.0), HTML(value='')))"
      ]
     },
     "metadata": {},
     "output_type": "display_data"
    },
    {
     "name": "stdout",
     "output_type": "stream",
     "text": [
      "\n",
      "cell ID =  2261 progress bar below: (n/N frames):\n"
     ]
    },
    {
     "data": {
      "application/vnd.jupyter.widget-view+json": {
       "model_id": "69ae1baef8a440f8a9e0f371519c6915",
       "version_major": 2,
       "version_minor": 0
      },
      "text/plain": [
       "HBox(children=(FloatProgress(value=0.0, max=2.0), HTML(value='')))"
      ]
     },
     "metadata": {},
     "output_type": "display_data"
    },
    {
     "name": "stdout",
     "output_type": "stream",
     "text": [
      "\n",
      "cell ID =  2268 progress bar below: (n/N frames):\n"
     ]
    },
    {
     "data": {
      "application/vnd.jupyter.widget-view+json": {
       "model_id": "cd4e69535f4344308796e27ab11e9a04",
       "version_major": 2,
       "version_minor": 0
      },
      "text/plain": [
       "HBox(children=(FloatProgress(value=0.0, max=3.0), HTML(value='')))"
      ]
     },
     "metadata": {},
     "output_type": "display_data"
    },
    {
     "name": "stdout",
     "output_type": "stream",
     "text": [
      "\n",
      "cell ID =  2272 progress bar below: (n/N frames):\n"
     ]
    },
    {
     "data": {
      "application/vnd.jupyter.widget-view+json": {
       "model_id": "e830353e9de04a3b8b6cddbcac3868aa",
       "version_major": 2,
       "version_minor": 0
      },
      "text/plain": [
       "HBox(children=(FloatProgress(value=0.0, max=33.0), HTML(value='')))"
      ]
     },
     "metadata": {},
     "output_type": "display_data"
    },
    {
     "name": "stdout",
     "output_type": "stream",
     "text": [
      "\n",
      "cell ID =  2274 progress bar below: (n/N frames):\n"
     ]
    },
    {
     "data": {
      "application/vnd.jupyter.widget-view+json": {
       "model_id": "beaedd5cb5eb4ccba0211c6b0d93bca7",
       "version_major": 2,
       "version_minor": 0
      },
      "text/plain": [
       "HBox(children=(FloatProgress(value=0.0, max=5.0), HTML(value='')))"
      ]
     },
     "metadata": {},
     "output_type": "display_data"
    },
    {
     "name": "stdout",
     "output_type": "stream",
     "text": [
      "\n",
      "cell ID =  2275 progress bar below: (n/N frames):\n"
     ]
    },
    {
     "data": {
      "application/vnd.jupyter.widget-view+json": {
       "model_id": "e9d745fca74949e38f9e65f7a82e784a",
       "version_major": 2,
       "version_minor": 0
      },
      "text/plain": [
       "HBox(children=(FloatProgress(value=0.0, max=10.0), HTML(value='')))"
      ]
     },
     "metadata": {},
     "output_type": "display_data"
    },
    {
     "name": "stdout",
     "output_type": "stream",
     "text": [
      "\n",
      "cell ID =  2276 progress bar below: (n/N frames):\n"
     ]
    },
    {
     "data": {
      "application/vnd.jupyter.widget-view+json": {
       "model_id": "f6dc9e236645473a9614fd564508ce49",
       "version_major": 2,
       "version_minor": 0
      },
      "text/plain": [
       "HBox(children=(FloatProgress(value=0.0, max=22.0), HTML(value='')))"
      ]
     },
     "metadata": {},
     "output_type": "display_data"
    },
    {
     "name": "stdout",
     "output_type": "stream",
     "text": [
      "\n",
      "cell ID =  2277 progress bar below: (n/N frames):\n"
     ]
    },
    {
     "data": {
      "application/vnd.jupyter.widget-view+json": {
       "model_id": "e99019f0769f417cb27f1fed6852de09",
       "version_major": 2,
       "version_minor": 0
      },
      "text/plain": [
       "HBox(children=(FloatProgress(value=0.0, max=2.0), HTML(value='')))"
      ]
     },
     "metadata": {},
     "output_type": "display_data"
    },
    {
     "name": "stdout",
     "output_type": "stream",
     "text": [
      "\n",
      "cell ID =  2278 progress bar below: (n/N frames):\n"
     ]
    },
    {
     "data": {
      "application/vnd.jupyter.widget-view+json": {
       "model_id": "50e6a98559a6490d850246204b917b71",
       "version_major": 2,
       "version_minor": 0
      },
      "text/plain": [
       "HBox(children=(FloatProgress(value=0.0, max=5.0), HTML(value='')))"
      ]
     },
     "metadata": {},
     "output_type": "display_data"
    },
    {
     "name": "stdout",
     "output_type": "stream",
     "text": [
      "\n",
      "cell ID =  2279 progress bar below: (n/N frames):\n"
     ]
    },
    {
     "data": {
      "application/vnd.jupyter.widget-view+json": {
       "model_id": "c980f8a466d14875bf3d3d35c45a3d93",
       "version_major": 2,
       "version_minor": 0
      },
      "text/plain": [
       "HBox(children=(FloatProgress(value=0.0, max=21.0), HTML(value='')))"
      ]
     },
     "metadata": {},
     "output_type": "display_data"
    },
    {
     "name": "stdout",
     "output_type": "stream",
     "text": [
      "\n",
      "cell ID =  2280 progress bar below: (n/N frames):\n"
     ]
    },
    {
     "data": {
      "application/vnd.jupyter.widget-view+json": {
       "model_id": "0cc1c6c79e9942dca6b74614942ad8c1",
       "version_major": 2,
       "version_minor": 0
      },
      "text/plain": [
       "HBox(children=(FloatProgress(value=0.0, max=2.0), HTML(value='')))"
      ]
     },
     "metadata": {},
     "output_type": "display_data"
    },
    {
     "name": "stdout",
     "output_type": "stream",
     "text": [
      "\n",
      "cell ID =  2284 progress bar below: (n/N frames):\n"
     ]
    },
    {
     "data": {
      "application/vnd.jupyter.widget-view+json": {
       "model_id": "b18d9ae391b7468c9afa6492636655bd",
       "version_major": 2,
       "version_minor": 0
      },
      "text/plain": [
       "HBox(children=(FloatProgress(value=0.0, max=4.0), HTML(value='')))"
      ]
     },
     "metadata": {},
     "output_type": "display_data"
    },
    {
     "name": "stdout",
     "output_type": "stream",
     "text": [
      "\n",
      "cell ID =  2285 progress bar below: (n/N frames):\n"
     ]
    },
    {
     "data": {
      "application/vnd.jupyter.widget-view+json": {
       "model_id": "e19f46e076534effb5c8b8a4139fdb7f",
       "version_major": 2,
       "version_minor": 0
      },
      "text/plain": [
       "HBox(children=(FloatProgress(value=0.0, max=4.0), HTML(value='')))"
      ]
     },
     "metadata": {},
     "output_type": "display_data"
    },
    {
     "name": "stdout",
     "output_type": "stream",
     "text": [
      "\n",
      "cell ID =  2286 progress bar below: (n/N frames):\n"
     ]
    },
    {
     "data": {
      "application/vnd.jupyter.widget-view+json": {
       "model_id": "a30b06acb183444aa8507c5690f5547d",
       "version_major": 2,
       "version_minor": 0
      },
      "text/plain": [
       "HBox(children=(FloatProgress(value=0.0, max=21.0), HTML(value='')))"
      ]
     },
     "metadata": {},
     "output_type": "display_data"
    },
    {
     "name": "stdout",
     "output_type": "stream",
     "text": [
      "\n",
      "cell ID =  2288 progress bar below: (n/N frames):\n"
     ]
    },
    {
     "data": {
      "application/vnd.jupyter.widget-view+json": {
       "model_id": "b30e158a24c64620866ad9fc959f02f2",
       "version_major": 2,
       "version_minor": 0
      },
      "text/plain": [
       "HBox(children=(FloatProgress(value=0.0, max=21.0), HTML(value='')))"
      ]
     },
     "metadata": {},
     "output_type": "display_data"
    },
    {
     "name": "stdout",
     "output_type": "stream",
     "text": [
      "\n",
      "cell ID =  2289 progress bar below: (n/N frames):\n"
     ]
    },
    {
     "data": {
      "application/vnd.jupyter.widget-view+json": {
       "model_id": "df683b17195b40c4bb854ac92ab10970",
       "version_major": 2,
       "version_minor": 0
      },
      "text/plain": [
       "HBox(children=(FloatProgress(value=0.0, max=7.0), HTML(value='')))"
      ]
     },
     "metadata": {},
     "output_type": "display_data"
    },
    {
     "name": "stdout",
     "output_type": "stream",
     "text": [
      "\n",
      "cell ID =  2291 progress bar below: (n/N frames):\n"
     ]
    },
    {
     "data": {
      "application/vnd.jupyter.widget-view+json": {
       "model_id": "400de08991324a7f800a41b327e9a9a0",
       "version_major": 2,
       "version_minor": 0
      },
      "text/plain": [
       "HBox(children=(FloatProgress(value=0.0, max=2.0), HTML(value='')))"
      ]
     },
     "metadata": {},
     "output_type": "display_data"
    },
    {
     "name": "stdout",
     "output_type": "stream",
     "text": [
      "\n",
      "cell ID =  2290 progress bar below: (n/N frames):\n"
     ]
    },
    {
     "data": {
      "application/vnd.jupyter.widget-view+json": {
       "model_id": "c1255a9d9d3d478f85dcca671296d24b",
       "version_major": 2,
       "version_minor": 0
      },
      "text/plain": [
       "HBox(children=(FloatProgress(value=0.0, max=2.0), HTML(value='')))"
      ]
     },
     "metadata": {},
     "output_type": "display_data"
    },
    {
     "name": "stdout",
     "output_type": "stream",
     "text": [
      "\n",
      "cell ID =  2292 progress bar below: (n/N frames):\n"
     ]
    },
    {
     "data": {
      "application/vnd.jupyter.widget-view+json": {
       "model_id": "67c488d3a2294bb1baa465a949b85549",
       "version_major": 2,
       "version_minor": 0
      },
      "text/plain": [
       "HBox(children=(FloatProgress(value=0.0, max=17.0), HTML(value='')))"
      ]
     },
     "metadata": {},
     "output_type": "display_data"
    },
    {
     "name": "stdout",
     "output_type": "stream",
     "text": [
      "\n",
      "cell ID =  2293 progress bar below: (n/N frames):\n"
     ]
    },
    {
     "data": {
      "application/vnd.jupyter.widget-view+json": {
       "model_id": "ae6c1db3c93c42aca0f37937dcc20cef",
       "version_major": 2,
       "version_minor": 0
      },
      "text/plain": [
       "HBox(children=(FloatProgress(value=0.0, max=16.0), HTML(value='')))"
      ]
     },
     "metadata": {},
     "output_type": "display_data"
    },
    {
     "name": "stdout",
     "output_type": "stream",
     "text": [
      "\n",
      "cell ID =  2294 progress bar below: (n/N frames):\n"
     ]
    },
    {
     "data": {
      "application/vnd.jupyter.widget-view+json": {
       "model_id": "a12f8e5e22f84e4fb03d53938dc4efaa",
       "version_major": 2,
       "version_minor": 0
      },
      "text/plain": [
       "HBox(children=(FloatProgress(value=0.0, max=4.0), HTML(value='')))"
      ]
     },
     "metadata": {},
     "output_type": "display_data"
    },
    {
     "name": "stdout",
     "output_type": "stream",
     "text": [
      "\n",
      "cell ID =  2295 progress bar below: (n/N frames):\n"
     ]
    },
    {
     "data": {
      "application/vnd.jupyter.widget-view+json": {
       "model_id": "691ef8557bff45a5be645f54024e37ec",
       "version_major": 2,
       "version_minor": 0
      },
      "text/plain": [
       "HBox(children=(FloatProgress(value=0.0, max=5.0), HTML(value='')))"
      ]
     },
     "metadata": {},
     "output_type": "display_data"
    },
    {
     "name": "stdout",
     "output_type": "stream",
     "text": [
      "\n",
      "cell ID =  2296 progress bar below: (n/N frames):\n"
     ]
    },
    {
     "data": {
      "application/vnd.jupyter.widget-view+json": {
       "model_id": "d402d4e8329340c49e0d6c792216a985",
       "version_major": 2,
       "version_minor": 0
      },
      "text/plain": [
       "HBox(children=(FloatProgress(value=0.0, max=11.0), HTML(value='')))"
      ]
     },
     "metadata": {},
     "output_type": "display_data"
    },
    {
     "name": "stdout",
     "output_type": "stream",
     "text": [
      "\n",
      "cell ID =  2298 progress bar below: (n/N frames):\n"
     ]
    },
    {
     "data": {
      "application/vnd.jupyter.widget-view+json": {
       "model_id": "52a76902cec34b178a134ad9b6a6a6f7",
       "version_major": 2,
       "version_minor": 0
      },
      "text/plain": [
       "HBox(children=(FloatProgress(value=0.0, max=4.0), HTML(value='')))"
      ]
     },
     "metadata": {},
     "output_type": "display_data"
    },
    {
     "name": "stdout",
     "output_type": "stream",
     "text": [
      "\n",
      "cell ID =  2300 progress bar below: (n/N frames):\n"
     ]
    },
    {
     "data": {
      "application/vnd.jupyter.widget-view+json": {
       "model_id": "7d7f8c87df3b4bb0bae89e687c0cd46e",
       "version_major": 2,
       "version_minor": 0
      },
      "text/plain": [
       "HBox(children=(FloatProgress(value=0.0, max=14.0), HTML(value='')))"
      ]
     },
     "metadata": {},
     "output_type": "display_data"
    },
    {
     "name": "stdout",
     "output_type": "stream",
     "text": [
      "\n",
      "cell ID =  2302 progress bar below: (n/N frames):\n"
     ]
    },
    {
     "data": {
      "application/vnd.jupyter.widget-view+json": {
       "model_id": "c997ac3a7eff4292b6c0456a3219d7d1",
       "version_major": 2,
       "version_minor": 0
      },
      "text/plain": [
       "HBox(children=(FloatProgress(value=0.0, max=13.0), HTML(value='')))"
      ]
     },
     "metadata": {},
     "output_type": "display_data"
    },
    {
     "name": "stdout",
     "output_type": "stream",
     "text": [
      "\n",
      "cell ID =  2307 progress bar below: (n/N frames):\n"
     ]
    },
    {
     "data": {
      "application/vnd.jupyter.widget-view+json": {
       "model_id": "78036818551241419d85484af8eb0569",
       "version_major": 2,
       "version_minor": 0
      },
      "text/plain": [
       "HBox(children=(FloatProgress(value=0.0, max=2.0), HTML(value='')))"
      ]
     },
     "metadata": {},
     "output_type": "display_data"
    },
    {
     "name": "stdout",
     "output_type": "stream",
     "text": [
      "\n",
      "cell ID =  2311 progress bar below: (n/N frames):\n"
     ]
    },
    {
     "data": {
      "application/vnd.jupyter.widget-view+json": {
       "model_id": "2286fc2b4a1044f69d43b52fb6854b6f",
       "version_major": 2,
       "version_minor": 0
      },
      "text/plain": [
       "HBox(children=(FloatProgress(value=0.0, max=7.0), HTML(value='')))"
      ]
     },
     "metadata": {},
     "output_type": "display_data"
    },
    {
     "name": "stdout",
     "output_type": "stream",
     "text": [
      "\n",
      "cell ID =  2309 progress bar below: (n/N frames):\n"
     ]
    },
    {
     "data": {
      "application/vnd.jupyter.widget-view+json": {
       "model_id": "13b9230e60ff4118acf95d0ce70be376",
       "version_major": 2,
       "version_minor": 0
      },
      "text/plain": [
       "HBox(children=(FloatProgress(value=0.0, max=2.0), HTML(value='')))"
      ]
     },
     "metadata": {},
     "output_type": "display_data"
    },
    {
     "name": "stdout",
     "output_type": "stream",
     "text": [
      "\n",
      "cell ID =  2308 progress bar below: (n/N frames):\n"
     ]
    },
    {
     "data": {
      "application/vnd.jupyter.widget-view+json": {
       "model_id": "19433e198bad4b34a9ae0783c6385352",
       "version_major": 2,
       "version_minor": 0
      },
      "text/plain": [
       "HBox(children=(FloatProgress(value=0.0, max=2.0), HTML(value='')))"
      ]
     },
     "metadata": {},
     "output_type": "display_data"
    },
    {
     "name": "stdout",
     "output_type": "stream",
     "text": [
      "\n",
      "cell ID =  2315 progress bar below: (n/N frames):\n"
     ]
    },
    {
     "data": {
      "application/vnd.jupyter.widget-view+json": {
       "model_id": "831be596ecbc4fce9f2f8cfc53ac2c71",
       "version_major": 2,
       "version_minor": 0
      },
      "text/plain": [
       "HBox(children=(FloatProgress(value=0.0, max=5.0), HTML(value='')))"
      ]
     },
     "metadata": {},
     "output_type": "display_data"
    },
    {
     "name": "stdout",
     "output_type": "stream",
     "text": [
      "\n",
      "cell ID =  2316 progress bar below: (n/N frames):\n"
     ]
    },
    {
     "data": {
      "application/vnd.jupyter.widget-view+json": {
       "model_id": "bba678b91f194946b83b1542b1951164",
       "version_major": 2,
       "version_minor": 0
      },
      "text/plain": [
       "HBox(children=(FloatProgress(value=0.0, max=3.0), HTML(value='')))"
      ]
     },
     "metadata": {},
     "output_type": "display_data"
    },
    {
     "name": "stdout",
     "output_type": "stream",
     "text": [
      "\n",
      "cell ID =  2317 progress bar below: (n/N frames):\n"
     ]
    },
    {
     "data": {
      "application/vnd.jupyter.widget-view+json": {
       "model_id": "8ba4fd4cef694a09bd8b02867d707aa6",
       "version_major": 2,
       "version_minor": 0
      },
      "text/plain": [
       "HBox(children=(FloatProgress(value=0.0, max=3.0), HTML(value='')))"
      ]
     },
     "metadata": {},
     "output_type": "display_data"
    },
    {
     "name": "stdout",
     "output_type": "stream",
     "text": [
      "\n",
      "cell ID =  2318 progress bar below: (n/N frames):\n"
     ]
    },
    {
     "data": {
      "application/vnd.jupyter.widget-view+json": {
       "model_id": "42bae1d1eb174f2884d420c3664f572b",
       "version_major": 2,
       "version_minor": 0
      },
      "text/plain": [
       "HBox(children=(FloatProgress(value=0.0, max=3.0), HTML(value='')))"
      ]
     },
     "metadata": {},
     "output_type": "display_data"
    },
    {
     "name": "stdout",
     "output_type": "stream",
     "text": [
      "\n",
      "cell ID =  2320 progress bar below: (n/N frames):\n"
     ]
    },
    {
     "data": {
      "application/vnd.jupyter.widget-view+json": {
       "model_id": "3df34d08fb2544a8aefd29d86e180b2a",
       "version_major": 2,
       "version_minor": 0
      },
      "text/plain": [
       "HBox(children=(FloatProgress(value=0.0, max=2.0), HTML(value='')))"
      ]
     },
     "metadata": {},
     "output_type": "display_data"
    },
    {
     "name": "stdout",
     "output_type": "stream",
     "text": [
      "\n",
      "\n",
      "FINISHHHHEEEEDDDDD\n"
     ]
    },
    {
     "data": {
      "text/plain": [
       "0"
      ]
     },
     "execution_count": 34,
     "metadata": {},
     "output_type": "execute_result"
    }
   ],
   "source": [
    "print('Total calculation progress bar below (n/N cells):')\n",
    "for j, cell in enumerate(tqdm(filtered_tracks)):\n",
    "    ID = str(filtered_tracks[j].ID)\n",
    "    #ID = str(1100) #### if only 1 cell required\n",
    "    print('cell ID = ',ID, 'progress bar below: (n/N frames):')## add to df\n",
    "    frames = filtered_tracks[j].t\n",
    "    x = filtered_tracks[j].x \n",
    "    y = filtered_tracks[j].y\n",
    "\n",
    "    fn = \"cell_ID_\" + ID + \".csv\"\n",
    "    stat_file = os.path.normpath(os.path.join(mask_type_stats_dir, fn))\n",
    "\n",
    "    df = pd.DataFrame([], columns=['Cell ID', 'Frame', 'GFP Intensity', 'RFP Intensity', 'Phase Intensity', 'Area', 'x','y', 'mask_fn']) #is this assignment of df correct? or does it overwrite \"count_cells\" above\n",
    "\n",
    "    new_mask_list = [] #this creates a new mask list of only the necessary frames\n",
    "    new_gfp_list = []\n",
    "    new_rfp_list = []\n",
    "    new_phase_list = []\n",
    "    for k in frames:\n",
    "        new_mask_list.append(mask_list[k]) \n",
    "        new_gfp_list.append(gfp_list[k])\n",
    "        new_rfp_list.append(rfp_list[k])\n",
    "        new_phase_list.append(phase_list[k])\n",
    "\n",
    "    # below opens a mask image, uses xy coords to select specific mask, then uses that specific mask to measure other images\n",
    "    for i, mask_name in enumerate(tqdm(new_mask_list)):\n",
    "        #print(i, frames[i], mask_name, new_gfp_list[i], new_rfp_list[i], new_phase_list[i]) #sanity check to ensure correct images are being loaded+measured\n",
    "\n",
    "        mask = io.imread(os.path.normpath(os.path.join(mask_dir, mask_name))) #load mask\n",
    "        xi = int(x[i])\n",
    "        yi = int(y[i]) #x and y coords\n",
    "        labelled, n_labels = ndimage.label(mask) \n",
    "        \n",
    "        #this block returns 0-value measurements if the cell_mask is unavailable at this frame, due to tracker-interpolation\n",
    "        if (labelled[xi,yi] == 0):\n",
    "            cell_mask = None\n",
    "            area = None\n",
    "            gfp_pix_value = None\n",
    "            rfp_pix_value = None\n",
    "            phase_pix_value = None\n",
    "            \n",
    "        else:\n",
    "            cell_mask = labelled == labelled[xi,yi] #creating a new mask only including cell of interest\n",
    "            area = ndimage.sum(cell_mask)\n",
    "\n",
    "            #load images and measure\n",
    "            gfp = io.imread(os.path.join(gfp_dir,new_gfp_list[i])) #load gfp image\n",
    "            gfp_pix_value = ndimage.sum(gfp, cell_mask, 1) #measure cell_mask area of gfp image\n",
    "            mean_gfp_value = gfp_pix_value / area\n",
    "            rfp = io.imread(os.path.join(rfp_dir,new_rfp_list[i]))\n",
    "            rfp_pix_value = ndimage.sum(rfp, cell_mask, 1)\n",
    "            mean_rfp_value = rfp_pix_value / area\n",
    "            phase = io.imread(os.path.join(phase_dir,new_phase_list[i]))\n",
    "            phase_pix_value = ndimage.sum(phase, cell_mask, 1)\n",
    "            mean_phase_value = phase_pix_value / area\n",
    "        #store measurements in pandas df\n",
    "        df.loc[i, 'Cell ID'] = ID\n",
    "        df.loc[i, 'Frame'] = frames[i]\n",
    "        df.loc[i,'GFP Intensity'] = gfp_pix_value \n",
    "        df.loc[i, 'Mean GFP Intensity'] = mean_gfp_value\n",
    "        df.loc[i,'RFP Intensity'] = rfp_pix_value\n",
    "        df.loc[i, 'Mean RFP Intensity'] = mean_rfp_value\n",
    "        df.loc[i,'Phase Intensity'] = phase_pix_value \n",
    "        df.loc[i, 'Mean Phase Intensity'] = mean_phase_value\n",
    "        df.loc[i,'Area'] = area\n",
    "        df.loc[i, 'mask_fn'] = mask_name\n",
    "        df.loc[i,'x'] = xi\n",
    "        df.loc[i,'y'] = yi\n",
    "\n",
    "    df.to_csv(stat_file, index=False)  \n",
    "    #print(df)\n",
    "print(\"FINISHHHHEEEEDDDDD\")\n",
    "os.system('spd-say \"Master Nathan, your program has finished. I love you.\"')"
   ]
  }
 ],
 "metadata": {
  "kernelspec": {
   "display_name": "Python 3",
   "language": "python",
   "name": "python3"
  },
  "language_info": {
   "codemirror_mode": {
    "name": "ipython",
    "version": 3
   },
   "file_extension": ".py",
   "mimetype": "text/x-python",
   "name": "python",
   "nbconvert_exporter": "python",
   "pygments_lexer": "ipython3",
   "version": "3.7.6"
  }
 },
 "nbformat": 4,
 "nbformat_minor": 4
}
