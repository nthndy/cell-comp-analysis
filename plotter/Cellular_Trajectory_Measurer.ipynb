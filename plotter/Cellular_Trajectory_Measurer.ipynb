{
 "cells": [
  {
   "cell_type": "markdown",
   "metadata": {},
   "source": [
    "# Many-cell trajectory measurement\n",
    "\n",
    "\n",
    "Designed to measure a series of time-dependent single-cell fluorescent/holographic intensities over the course of a time-lapse microscopy data set\n",
    "\n",
    "\n",
    "```\n",
    "Author: \n",
    "- Nathan J. Day (nathan.day.16@ucl.ac.uk)\n",
    "```\n",
    "\n",
    "\n",
    "### STEPS\n",
    "1. Directory organisation\n",
    "2. Load image information\n",
    "3. Load the xyt data of each cell from HDF5 tracking file (see Arboretum tracker @quantumjot github)\n",
    "4. Meta-analysis of tracks with optional filtering of anomalous tracks\n",
    "5. Measure cellular properties across all images, all cells\n",
    "6. Save information out as pandas df and .csv"
   ]
  },
  {
   "cell_type": "code",
   "execution_count": 46,
   "metadata": {},
   "outputs": [],
   "source": [
    "import matplotlib.pyplot as plt\n",
    "import numpy as np\n",
    "import pandas as pd\n",
    "import os\n",
    "from scipy import ndimage\n",
    "from skimage import io #used to be from skimage import io\n",
    "from skimage.io import imshow\n",
    "from sklearn import preprocessing\n",
    "from matplotlib import animation\n",
    "from natsort import natsorted\n",
    "import btrack\n",
    "from btrack.utils import import_HDF, import_JSON\n",
    "from tqdm.notebook import tnrange, tqdm\n",
    "from time import sleep"
   ]
  },
  {
   "cell_type": "markdown",
   "metadata": {},
   "source": [
    "## Measure \n",
    "\n",
    "Read cell mask information (location & area) and obtain fluorescent and phase stats. If the data already exists in a .csv and just needs to be plotted then skip to the plotter section.\n",
    "\n",
    "#### Raw data (image) location\n",
    "\n",
    "The image data needs to be organised inside the ```root_dir``` as follows:\n",
    "\n",
    "```\n",
    "phase/\n",
    "    0000_phase.tif\n",
    "    0001_phase.tif\n",
    "    ...\n",
    "gfp/\n",
    "    0000_gfp.tif\n",
    "    0001_gfp.tif\n",
    "    ...\n",
    "rfp/\n",
    "    0000_rfp.tif\n",
    "    0001_rfp.tif\n",
    "    ...\n",
    "labels/\n",
    "    0000_mask.tif\n",
    "    0001_mask.tif\n",
    "    ...    \n",
    "```"
   ]
  },
  {
   "cell_type": "code",
   "execution_count": 8,
   "metadata": {},
   "outputs": [],
   "source": [
    "root_path = \"/home/nathan/data/fucci/fucci1_171201/\"\n",
    "\n",
    "gfp_dir = os.path.join(root_path, \"gfp\")\n",
    "rfp_dir = os.path.join(root_path, \"rfp\")\n",
    "phase_dir = os.path.join(root_path, \"phase\")\n",
    "mask_dir = os.path.join(root_path, \"labels\")\n",
    "\n",
    "gfp_list = natsorted([m for m in os.listdir(gfp_dir) if m.endswith('.tif')])\n",
    "rfp_list = natsorted([m for m in os.listdir(rfp_dir) if m.endswith('.tif')])\n",
    "phase_list = natsorted([m for m in os.listdir(phase_dir) if m.endswith('.tif')])\n",
    "mask_list = natsorted([m for m in os.listdir(mask_dir) if m.endswith('.tif')])"
   ]
  },
  {
   "cell_type": "markdown",
   "metadata": {},
   "source": [
    "### Load the tracking information to obtain xyt of cells\n",
    "\n",
    "Load tracks directly from hdf5"
   ]
  },
  {
   "cell_type": "code",
   "execution_count": 9,
   "metadata": {},
   "outputs": [
    {
     "name": "stderr",
     "output_type": "stream",
     "text": [
      "[INFO][2020/07/24 04:41:47 PM] Opening HDF file: /home/nathan/data/fucci/fucci1_171201/tracks/tracks_cellpose/cellpose_nuclear.h5\n",
      "[INFO][2020/07/24 04:41:47 PM] Loading tracks: obj_type_1...\n",
      "[INFO][2020/07/24 04:41:47 PM] Loading obj_type_1 (160396, 5) (160396 filtered: None)...\n",
      "[INFO][2020/07/24 04:41:49 PM] Closing HDF file: /home/nathan/data/fucci/fucci1_171201/tracks/tracks_cellpose/cellpose_nuclear.h5\n"
     ]
    },
    {
     "name": "stdout",
     "output_type": "stream",
     "text": [
      "Track information loaded\n"
     ]
    }
   ],
   "source": [
    "filename ='/home/nathan/data/fucci/fucci1_171201/tracks/tracks_cellpose/cellpose_nuclear.h5'\n",
    "with btrack.dataio.HDF5FileHandler(filename, 'r') as h:\n",
    "    tracks = h.tracks\n",
    "tracks = (tracks[0]) #initially, tracks[0] is the tracks for cell type 0 (ie, WT or Scr etc)\n",
    "print(\"Track information loaded\")"
   ]
  },
  {
   "cell_type": "markdown",
   "metadata": {},
   "source": [
    "## Meta-analysis of tracks"
   ]
  },
  {
   "cell_type": "markdown",
   "metadata": {},
   "source": [
    "List of track lengths"
   ]
  },
  {
   "cell_type": "code",
   "execution_count": 225,
   "metadata": {
    "scrolled": true
   },
   "outputs": [
    {
     "name": "stdout",
     "output_type": "stream",
     "text": [
      "track ID. 65 length= 133\n",
      "track ID. 77 length= 69\n",
      "track ID. 76 length= 22\n",
      "track ID. 75 length= 5\n",
      "track ID. 74 length= 107\n",
      "track ID. 73 length= 64\n",
      "track ID. 72 length= 1091\n",
      "track ID. 71 length= 2\n",
      "track ID. 70 length= 386\n",
      "track ID. 69 length= 55\n",
      "track ID. 68 length= 349\n",
      "track ID. 67 length= 23\n",
      "track ID. 66 length= 75\n",
      "track ID. 78 length= 178\n",
      "track ID. 64 length= 629\n",
      "track ID. 63 length= 52\n",
      "track ID. 62 length= 57\n",
      "track ID. 61 length= 96\n",
      "track ID. 60 length= 21\n",
      "track ID. 59 length= 7\n",
      "track ID. 58 length= 94\n",
      "track ID. 57 length= 865\n",
      "track ID. 56 length= 86\n",
      "track ID. 55 length= 25\n",
      "track ID. 54 length= 602\n",
      "track ID. 53 length= 37\n",
      "track ID. 91 length= 160\n",
      "track ID. 1 length= 12\n",
      "track ID. 102 length= 1\n",
      "track ID. 101 length= 558\n",
      "track ID. 100 length= 23\n",
      "track ID. 99 length= 128\n",
      "track ID. 98 length= 12\n",
      "track ID. 97 length= 111\n",
      "track ID. 96 length= 25\n",
      "track ID. 95 length= 58\n",
      "track ID. 94 length= 609\n",
      "track ID. 93 length= 49\n",
      "track ID. 92 length= 59\n",
      "track ID. 2 length= 591\n",
      "track ID. 90 length= 22\n",
      "track ID. 89 length= 46\n",
      "track ID. 88 length= 24\n",
      "track ID. 87 length= 70\n",
      "track ID. 86 length= 201\n",
      "track ID. 85 length= 682\n",
      "track ID. 84 length= 65\n",
      "track ID. 83 length= 15\n",
      "track ID. 82 length= 179\n",
      "track ID. 81 length= 20\n",
      "track ID. 80 length= 115\n",
      "track ID. 79 length= 21\n",
      "track ID. 14 length= 1\n",
      "track ID. 26 length= 179\n",
      "track ID. 25 length= 24\n",
      "track ID. 24 length= 1\n",
      "track ID. 23 length= 16\n",
      "track ID. 22 length= 54\n",
      "track ID. 21 length= 148\n",
      "track ID. 20 length= 719\n",
      "track ID. 19 length= 167\n",
      "track ID. 18 length= 379\n",
      "track ID. 17 length= 135\n",
      "track ID. 16 length= 803\n",
      "track ID. 15 length= 20\n",
      "track ID. 51 length= 170\n",
      "track ID. 13 length= 137\n",
      "track ID. 12 length= 68\n",
      "track ID. 11 length= 48\n",
      "track ID. 10 length= 227\n",
      "track ID. 9 length= 3\n",
      "track ID. 8 length= 12\n",
      "track ID. 7 length= 534\n",
      "track ID. 6 length= 56\n",
      "track ID. 5 length= 756\n",
      "track ID. 4 length= 61\n",
      "track ID. 3 length= 120\n",
      "track ID. 52 length= 163\n",
      "track ID. 28 length= 664\n",
      "track ID. 50 length= 425\n",
      "track ID. 49 length= 554\n",
      "track ID. 48 length= 239\n",
      "track ID. 47 length= 17\n",
      "track ID. 46 length= 1092\n",
      "track ID. 45 length= 165\n",
      "track ID. 44 length= 36\n",
      "track ID. 43 length= 575\n",
      "track ID. 42 length= 10\n",
      "track ID. 41 length= 42\n",
      "track ID. 40 length= 1\n",
      "track ID. 38 length= 9\n",
      "track ID. 27 length= 3\n",
      "track ID. 29 length= 1\n",
      "track ID. 30 length= 9\n",
      "track ID. 31 length= 14\n",
      "track ID. 32 length= 2\n",
      "track ID. 33 length= 24\n",
      "track ID. 34 length= 58\n",
      "track ID. 35 length= 21\n",
      "track ID. 36 length= 17\n",
      "track ID. 37 length= 81\n",
      "track ID. 39 length= 80\n",
      "track ID. 103 length= 1\n",
      "track ID. 104 length= 19\n",
      "track ID. 111 length= 19\n",
      "track ID. 110 length= 12\n",
      "track ID. 109 length= 1\n",
      "track ID. 106 length= 53\n",
      "track ID. 107 length= 1\n",
      "track ID. 105 length= 2\n",
      "track ID. 112 length= 1\n",
      "track ID. 113 length= 66\n",
      "track ID. 114 length= 2\n",
      "track ID. 115 length= 340\n",
      "track ID. 117 length= 101\n",
      "track ID. 118 length= 71\n",
      "track ID. 121 length= 1\n",
      "track ID. 123 length= 4\n",
      "track ID. 125 length= 4\n",
      "track ID. 126 length= 21\n",
      "track ID. 127 length= 1\n",
      "track ID. 133 length= 1\n",
      "track ID. 132 length= 4\n",
      "track ID. 131 length= 10\n",
      "track ID. 130 length= 1\n",
      "track ID. 129 length= 3\n",
      "track ID. 128 length= 5\n",
      "track ID. 134 length= 5\n",
      "track ID. 135 length= 3\n",
      "track ID. 136 length= 1\n",
      "track ID. 137 length= 3\n",
      "track ID. 139 length= 1\n",
      "track ID. 143 length= 33\n",
      "track ID. 144 length= 1\n",
      "track ID. 145 length= 17\n",
      "track ID. 142 length= 1\n",
      "track ID. 146 length= 243\n",
      "track ID. 147 length= 3\n",
      "track ID. 148 length= 41\n",
      "track ID. 149 length= 1\n",
      "track ID. 150 length= 180\n",
      "track ID. 152 length= 84\n",
      "track ID. 155 length= 9\n",
      "track ID. 153 length= 1\n",
      "track ID. 156 length= 1\n",
      "track ID. 157 length= 1\n",
      "track ID. 158 length= 3\n",
      "track ID. 159 length= 1\n",
      "track ID. 160 length= 2\n",
      "track ID. 161 length= 581\n",
      "track ID. 163 length= 54\n",
      "track ID. 164 length= 762\n",
      "track ID. 166 length= 3\n",
      "track ID. 167 length= 495\n",
      "track ID. 170 length= 43\n",
      "track ID. 169 length= 1\n",
      "track ID. 172 length= 682\n",
      "track ID. 173 length= 573\n",
      "track ID. 174 length= 4\n",
      "track ID. 176 length= 1\n",
      "track ID. 175 length= 1\n",
      "track ID. 177 length= 17\n",
      "track ID. 178 length= 127\n",
      "track ID. 179 length= 1\n",
      "track ID. 180 length= 331\n",
      "track ID. 181 length= 11\n",
      "track ID. 182 length= 1062\n",
      "track ID. 183 length= 1\n",
      "track ID. 186 length= 28\n",
      "track ID. 187 length= 1\n",
      "track ID. 185 length= 64\n",
      "track ID. 184 length= 1\n",
      "track ID. 189 length= 612\n",
      "track ID. 190 length= 1\n",
      "track ID. 191 length= 1\n",
      "track ID. 192 length= 5\n",
      "track ID. 193 length= 1\n",
      "track ID. 194 length= 1\n",
      "track ID. 198 length= 115\n",
      "track ID. 197 length= 528\n",
      "track ID. 195 length= 1\n",
      "track ID. 196 length= 10\n",
      "track ID. 199 length= 70\n",
      "track ID. 200 length= 1\n",
      "track ID. 201 length= 8\n",
      "track ID. 203 length= 5\n",
      "track ID. 205 length= 22\n",
      "track ID. 206 length= 1\n",
      "track ID. 207 length= 1\n",
      "track ID. 208 length= 7\n",
      "track ID. 210 length= 1\n",
      "track ID. 211 length= 3\n",
      "track ID. 212 length= 1\n",
      "track ID. 213 length= 6\n",
      "track ID. 214 length= 5\n",
      "track ID. 215 length= 1\n",
      "track ID. 216 length= 8\n",
      "track ID. 218 length= 53\n",
      "track ID. 221 length= 246\n",
      "track ID. 222 length= 6\n",
      "track ID. 223 length= 2\n",
      "track ID. 228 length= 1\n",
      "track ID. 227 length= 54\n",
      "track ID. 225 length= 14\n",
      "track ID. 226 length= 10\n",
      "track ID. 224 length= 12\n",
      "track ID. 229 length= 495\n",
      "track ID. 230 length= 72\n",
      "track ID. 231 length= 1\n",
      "track ID. 234 length= 498\n",
      "track ID. 235 length= 20\n",
      "track ID. 236 length= 84\n",
      "track ID. 237 length= 2\n",
      "track ID. 238 length= 36\n",
      "track ID. 239 length= 1030\n",
      "track ID. 241 length= 399\n",
      "track ID. 243 length= 1\n",
      "track ID. 242 length= 2\n",
      "track ID. 240 length= 11\n",
      "track ID. 244 length= 294\n",
      "track ID. 245 length= 452\n",
      "track ID. 246 length= 3\n",
      "track ID. 247 length= 386\n",
      "track ID. 248 length= 3\n",
      "track ID. 249 length= 140\n",
      "track ID. 250 length= 9\n",
      "track ID. 254 length= 147\n",
      "track ID. 253 length= 2\n",
      "track ID. 251 length= 2\n",
      "track ID. 252 length= 1\n",
      "track ID. 255 length= 21\n",
      "track ID. 257 length= 528\n",
      "track ID. 258 length= 1\n",
      "track ID. 259 length= 2\n",
      "track ID. 260 length= 714\n",
      "track ID. 263 length= 6\n",
      "track ID. 264 length= 3\n",
      "track ID. 266 length= 149\n",
      "track ID. 270 length= 66\n",
      "track ID. 274 length= 15\n",
      "track ID. 273 length= 355\n",
      "track ID. 272 length= 4\n",
      "track ID. 269 length= 4\n",
      "track ID. 268 length= 68\n",
      "track ID. 267 length= 556\n",
      "track ID. 276 length= 412\n",
      "track ID. 277 length= 1\n",
      "track ID. 279 length= 1\n",
      "track ID. 280 length= 1\n",
      "track ID. 281 length= 1\n",
      "track ID. 282 length= 4\n",
      "track ID. 283 length= 143\n",
      "track ID. 284 length= 1\n",
      "track ID. 285 length= 53\n",
      "track ID. 287 length= 1\n",
      "track ID. 291 length= 1\n",
      "track ID. 292 length= 39\n",
      "track ID. 293 length= 47\n",
      "track ID. 294 length= 1\n",
      "track ID. 295 length= 3\n",
      "track ID. 296 length= 3\n",
      "track ID. 298 length= 2\n",
      "track ID. 299 length= 1\n",
      "track ID. 297 length= 19\n",
      "track ID. 300 length= 1\n",
      "track ID. 301 length= 52\n",
      "track ID. 302 length= 1\n",
      "track ID. 303 length= 8\n",
      "track ID. 304 length= 55\n",
      "track ID. 308 length= 57\n",
      "track ID. 309 length= 10\n",
      "track ID. 307 length= 3\n",
      "track ID. 306 length= 33\n",
      "track ID. 316 length= 18\n",
      "track ID. 318 length= 8\n",
      "track ID. 317 length= 47\n",
      "track ID. 315 length= 75\n",
      "track ID. 314 length= 72\n",
      "track ID. 313 length= 8\n",
      "track ID. 312 length= 22\n",
      "track ID. 311 length= 1\n",
      "track ID. 310 length= 469\n",
      "track ID. 319 length= 1\n",
      "track ID. 322 length= 443\n",
      "track ID. 323 length= 1\n",
      "track ID. 325 length= 2\n",
      "track ID. 328 length= 1\n",
      "track ID. 327 length= 9\n",
      "track ID. 326 length= 6\n",
      "track ID. 324 length= 201\n",
      "track ID. 330 length= 711\n",
      "track ID. 331 length= 543\n",
      "track ID. 332 length= 5\n",
      "track ID. 333 length= 6\n",
      "track ID. 334 length= 1\n",
      "track ID. 329 length= 1\n",
      "track ID. 335 length= 1\n",
      "track ID. 336 length= 1\n",
      "track ID. 337 length= 9\n",
      "track ID. 338 length= 1\n",
      "track ID. 339 length= 441\n",
      "track ID. 340 length= 29\n",
      "track ID. 341 length= 1\n",
      "track ID. 343 length= 149\n",
      "track ID. 345 length= 3\n",
      "track ID. 344 length= 1\n",
      "track ID. 342 length= 1\n",
      "track ID. 346 length= 409\n",
      "track ID. 347 length= 1\n",
      "track ID. 348 length= 65\n",
      "track ID. 350 length= 169\n",
      "track ID. 351 length= 584\n",
      "track ID. 352 length= 1\n",
      "track ID. 353 length= 1\n",
      "track ID. 354 length= 1\n",
      "track ID. 356 length= 11\n",
      "track ID. 357 length= 4\n",
      "track ID. 360 length= 4\n",
      "track ID. 359 length= 17\n",
      "track ID. 358 length= 125\n",
      "track ID. 361 length= 4\n",
      "track ID. 362 length= 4\n",
      "track ID. 363 length= 10\n",
      "track ID. 364 length= 26\n",
      "track ID. 365 length= 101\n",
      "track ID. 366 length= 15\n",
      "track ID. 367 length= 9\n",
      "track ID. 368 length= 642\n",
      "track ID. 369 length= 227\n",
      "track ID. 370 length= 60\n",
      "track ID. 374 length= 566\n",
      "track ID. 375 length= 11\n",
      "track ID. 376 length= 22\n",
      "track ID. 377 length= 13\n",
      "track ID. 378 length= 34\n",
      "track ID. 380 length= 1\n",
      "track ID. 382 length= 4\n",
      "track ID. 381 length= 3\n",
      "track ID. 379 length= 1\n",
      "track ID. 383 length= 464\n",
      "track ID. 385 length= 4\n",
      "track ID. 386 length= 125\n",
      "track ID. 387 length= 266\n",
      "track ID. 388 length= 94\n",
      "track ID. 389 length= 2\n",
      "track ID. 390 length= 1\n",
      "track ID. 391 length= 12\n",
      "track ID. 392 length= 1\n",
      "track ID. 393 length= 1\n",
      "track ID. 394 length= 124\n",
      "track ID. 396 length= 1\n",
      "track ID. 395 length= 616\n",
      "track ID. 398 length= 35\n",
      "track ID. 399 length= 9\n",
      "track ID. 400 length= 44\n",
      "track ID. 401 length= 1\n",
      "track ID. 402 length= 328\n",
      "track ID. 404 length= 1\n",
      "track ID. 405 length= 1\n",
      "track ID. 406 length= 129\n",
      "track ID. 407 length= 19\n",
      "track ID. 408 length= 4\n",
      "track ID. 409 length= 1\n",
      "track ID. 411 length= 9\n",
      "track ID. 413 length= 45\n",
      "track ID. 416 length= 55\n",
      "track ID. 415 length= 8\n",
      "track ID. 414 length= 857\n",
      "track ID. 417 length= 322\n",
      "track ID. 418 length= 94\n",
      "track ID. 419 length= 1\n",
      "track ID. 420 length= 62\n",
      "track ID. 421 length= 25\n",
      "track ID. 422 length= 39\n",
      "track ID. 423 length= 1\n",
      "track ID. 424 length= 5\n",
      "track ID. 425 length= 1\n",
      "track ID. 426 length= 1\n",
      "track ID. 428 length= 8\n",
      "track ID. 429 length= 466\n",
      "track ID. 434 length= 41\n",
      "track ID. 435 length= 392\n",
      "track ID. 430 length= 3\n",
      "track ID. 432 length= 466\n",
      "track ID. 433 length= 6\n",
      "track ID. 431 length= 498\n",
      "track ID. 437 length= 3\n",
      "track ID. 438 length= 30\n",
      "track ID. 439 length= 535\n",
      "track ID. 440 length= 3\n",
      "track ID. 441 length= 938\n",
      "track ID. 442 length= 152\n",
      "track ID. 443 length= 1\n",
      "track ID. 444 length= 4\n",
      "track ID. 445 length= 493\n",
      "track ID. 446 length= 526\n",
      "track ID. 447 length= 245\n",
      "track ID. 448 length= 527\n",
      "track ID. 450 length= 1\n",
      "track ID. 449 length= 440\n",
      "track ID. 451 length= 532\n",
      "track ID. 453 length= 1\n",
      "track ID. 454 length= 1\n",
      "track ID. 455 length= 1\n",
      "track ID. 456 length= 8\n",
      "track ID. 457 length= 7\n",
      "track ID. 458 length= 577\n",
      "track ID. 459 length= 6\n",
      "track ID. 460 length= 128\n",
      "track ID. 461 length= 357\n",
      "track ID. 462 length= 27\n",
      "track ID. 464 length= 137\n",
      "track ID. 465 length= 445\n",
      "track ID. 466 length= 4\n",
      "track ID. 468 length= 42\n",
      "track ID. 469 length= 2\n",
      "track ID. 470 length= 26\n",
      "track ID. 471 length= 124\n",
      "track ID. 472 length= 36\n",
      "track ID. 473 length= 5\n",
      "track ID. 474 length= 1\n",
      "track ID. 475 length= 36\n",
      "track ID. 476 length= 1\n",
      "track ID. 477 length= 543\n",
      "track ID. 478 length= 193\n",
      "track ID. 480 length= 30\n",
      "track ID. 482 length= 495\n",
      "track ID. 483 length= 10\n",
      "track ID. 484 length= 3\n",
      "track ID. 485 length= 189\n",
      "track ID. 486 length= 27\n",
      "track ID. 487 length= 2\n",
      "track ID. 488 length= 288\n",
      "track ID. 489 length= 31\n",
      "track ID. 490 length= 60\n",
      "track ID. 491 length= 1\n",
      "track ID. 492 length= 1\n",
      "track ID. 493 length= 1\n",
      "track ID. 494 length= 19\n",
      "track ID. 495 length= 3\n",
      "track ID. 496 length= 3\n",
      "track ID. 500 length= 24\n",
      "track ID. 499 length= 57\n",
      "track ID. 497 length= 1\n",
      "track ID. 498 length= 2\n",
      "track ID. 503 length= 756\n",
      "track ID. 504 length= 15\n",
      "track ID. 505 length= 3\n",
      "track ID. 501 length= 1\n",
      "track ID. 506 length= 1\n",
      "track ID. 507 length= 167\n",
      "track ID. 508 length= 4\n",
      "track ID. 509 length= 303\n",
      "track ID. 510 length= 12\n",
      "track ID. 511 length= 3\n",
      "track ID. 512 length= 4\n",
      "track ID. 513 length= 513\n",
      "track ID. 514 length= 33\n",
      "track ID. 517 length= 55\n",
      "track ID. 518 length= 4\n",
      "track ID. 516 length= 76\n",
      "track ID. 515 length= 56\n",
      "track ID. 519 length= 4\n",
      "track ID. 520 length= 46\n",
      "track ID. 521 length= 7\n",
      "track ID. 522 length= 16\n",
      "track ID. 524 length= 379\n",
      "track ID. 525 length= 4\n",
      "track ID. 526 length= 5\n",
      "track ID. 527 length= 1\n",
      "track ID. 528 length= 44\n",
      "track ID. 529 length= 20\n",
      "track ID. 530 length= 1\n",
      "track ID. 533 length= 2\n",
      "track ID. 534 length= 5\n",
      "track ID. 537 length= 1\n",
      "track ID. 538 length= 1\n",
      "track ID. 536 length= 1\n",
      "track ID. 539 length= 2\n",
      "track ID. 540 length= 352\n",
      "track ID. 541 length= 495\n",
      "track ID. 542 length= 12\n",
      "track ID. 543 length= 509\n",
      "track ID. 544 length= 403\n",
      "track ID. 545 length= 565\n",
      "track ID. 547 length= 5\n",
      "track ID. 548 length= 1\n",
      "track ID. 549 length= 1\n",
      "track ID. 550 length= 1\n",
      "track ID. 552 length= 347\n",
      "track ID. 554 length= 144\n",
      "track ID. 553 length= 186\n",
      "track ID. 551 length= 1\n",
      "track ID. 556 length= 81\n",
      "track ID. 557 length= 458\n",
      "track ID. 558 length= 9\n",
      "track ID. 559 length= 7\n",
      "track ID. 562 length= 535\n",
      "track ID. 563 length= 1\n",
      "track ID. 564 length= 33\n",
      "track ID. 565 length= 3\n",
      "track ID. 566 length= 92\n",
      "track ID. 567 length= 2\n",
      "track ID. 568 length= 17\n",
      "track ID. 572 length= 1\n",
      "track ID. 573 length= 17\n",
      "track ID. 571 length= 3\n",
      "track ID. 569 length= 1\n",
      "track ID. 570 length= 879\n",
      "track ID. 574 length= 15\n",
      "track ID. 576 length= 5\n",
      "track ID. 575 length= 314\n",
      "track ID. 577 length= 2\n",
      "track ID. 579 length= 39\n",
      "track ID. 578 length= 1\n",
      "track ID. 580 length= 3\n",
      "track ID. 581 length= 138\n",
      "track ID. 582 length= 356\n",
      "track ID. 583 length= 3\n",
      "track ID. 584 length= 4\n",
      "track ID. 585 length= 1\n",
      "track ID. 586 length= 1\n",
      "track ID. 588 length= 1\n",
      "track ID. 589 length= 515\n",
      "track ID. 590 length= 140\n",
      "track ID. 591 length= 32\n",
      "track ID. 592 length= 1\n",
      "track ID. 593 length= 2\n",
      "track ID. 594 length= 6\n",
      "track ID. 595 length= 6\n",
      "track ID. 596 length= 1\n",
      "track ID. 597 length= 3\n",
      "track ID. 598 length= 130\n",
      "track ID. 599 length= 528\n",
      "track ID. 600 length= 3\n",
      "track ID. 601 length= 47\n",
      "track ID. 602 length= 1\n",
      "track ID. 604 length= 6\n",
      "track ID. 605 length= 10\n",
      "track ID. 606 length= 2\n"
     ]
    },
    {
     "name": "stdout",
     "output_type": "stream",
     "text": [
      "track ID. 607 length= 1\n",
      "track ID. 608 length= 11\n",
      "track ID. 610 length= 6\n",
      "track ID. 615 length= 408\n",
      "track ID. 616 length= 1\n",
      "track ID. 614 length= 2\n",
      "track ID. 617 length= 1\n",
      "track ID. 618 length= 1\n",
      "track ID. 619 length= 1\n",
      "track ID. 621 length= 2\n",
      "track ID. 622 length= 3\n",
      "track ID. 623 length= 1\n",
      "track ID. 624 length= 5\n",
      "track ID. 625 length= 1\n",
      "track ID. 626 length= 480\n",
      "track ID. 633 length= 36\n",
      "track ID. 632 length= 324\n",
      "track ID. 631 length= 29\n",
      "track ID. 629 length= 1\n",
      "track ID. 628 length= 227\n",
      "track ID. 627 length= 3\n",
      "track ID. 630 length= 1\n",
      "track ID. 634 length= 1\n",
      "track ID. 635 length= 2\n",
      "track ID. 636 length= 15\n",
      "track ID. 637 length= 191\n",
      "track ID. 638 length= 1\n",
      "track ID. 640 length= 846\n",
      "track ID. 641 length= 1\n",
      "track ID. 642 length= 1\n",
      "track ID. 643 length= 1\n",
      "track ID. 644 length= 33\n",
      "track ID. 645 length= 1\n",
      "track ID. 646 length= 6\n",
      "track ID. 647 length= 4\n",
      "track ID. 648 length= 13\n",
      "track ID. 650 length= 1\n",
      "track ID. 649 length= 30\n",
      "track ID. 651 length= 8\n",
      "track ID. 653 length= 5\n",
      "track ID. 652 length= 67\n",
      "track ID. 654 length= 10\n",
      "track ID. 655 length= 1\n",
      "track ID. 656 length= 9\n",
      "track ID. 657 length= 1\n",
      "track ID. 658 length= 26\n",
      "track ID. 659 length= 838\n",
      "track ID. 660 length= 1\n",
      "track ID. 661 length= 31\n",
      "track ID. 662 length= 165\n",
      "track ID. 663 length= 1\n",
      "track ID. 666 length= 4\n",
      "track ID. 665 length= 1\n",
      "track ID. 664 length= 3\n",
      "track ID. 667 length= 7\n",
      "track ID. 668 length= 8\n",
      "track ID. 669 length= 671\n",
      "track ID. 670 length= 1\n",
      "track ID. 671 length= 1\n",
      "track ID. 672 length= 432\n",
      "track ID. 673 length= 5\n",
      "track ID. 674 length= 1\n",
      "track ID. 675 length= 2\n",
      "track ID. 677 length= 80\n",
      "track ID. 678 length= 1\n",
      "track ID. 679 length= 13\n",
      "track ID. 682 length= 19\n",
      "track ID. 680 length= 2\n",
      "track ID. 681 length= 1\n",
      "track ID. 683 length= 77\n",
      "track ID. 684 length= 147\n",
      "track ID. 685 length= 137\n",
      "track ID. 686 length= 46\n",
      "track ID. 688 length= 318\n",
      "track ID. 689 length= 2\n",
      "track ID. 690 length= 2\n",
      "track ID. 691 length= 16\n",
      "track ID. 692 length= 1\n",
      "track ID. 694 length= 14\n",
      "track ID. 695 length= 181\n",
      "track ID. 696 length= 1\n",
      "track ID. 697 length= 1\n",
      "track ID. 700 length= 1\n",
      "track ID. 698 length= 15\n",
      "track ID. 701 length= 17\n",
      "track ID. 702 length= 1\n",
      "track ID. 703 length= 1\n",
      "track ID. 704 length= 41\n",
      "track ID. 705 length= 50\n",
      "track ID. 706 length= 52\n",
      "track ID. 707 length= 1\n",
      "track ID. 708 length= 7\n",
      "track ID. 709 length= 18\n",
      "track ID. 722 length= 592\n",
      "track ID. 720 length= 413\n",
      "track ID. 719 length= 5\n",
      "track ID. 714 length= 618\n",
      "track ID. 718 length= 19\n",
      "track ID. 717 length= 5\n",
      "track ID. 715 length= 1\n",
      "track ID. 716 length= 57\n",
      "track ID. 711 length= 18\n",
      "track ID. 713 length= 815\n",
      "track ID. 712 length= 612\n",
      "track ID. 723 length= 410\n",
      "track ID. 724 length= 2\n",
      "track ID. 725 length= 3\n",
      "track ID. 726 length= 1\n",
      "track ID. 727 length= 810\n",
      "track ID. 729 length= 1\n",
      "track ID. 730 length= 1\n",
      "track ID. 731 length= 1\n",
      "track ID. 732 length= 1\n",
      "track ID. 733 length= 1\n",
      "track ID. 734 length= 1\n",
      "track ID. 735 length= 5\n",
      "track ID. 739 length= 65\n",
      "track ID. 744 length= 6\n",
      "track ID. 742 length= 2\n",
      "track ID. 741 length= 1\n",
      "track ID. 740 length= 435\n",
      "track ID. 738 length= 1\n",
      "track ID. 737 length= 49\n",
      "track ID. 745 length= 1\n",
      "track ID. 748 length= 804\n",
      "track ID. 749 length= 3\n",
      "track ID. 750 length= 355\n",
      "track ID. 751 length= 8\n",
      "track ID. 752 length= 29\n",
      "track ID. 753 length= 3\n",
      "track ID. 754 length= 25\n",
      "track ID. 756 length= 73\n",
      "track ID. 757 length= 6\n",
      "track ID. 758 length= 1\n",
      "track ID. 759 length= 63\n",
      "track ID. 760 length= 10\n",
      "track ID. 761 length= 38\n",
      "track ID. 762 length= 1\n",
      "track ID. 763 length= 664\n",
      "track ID. 764 length= 31\n",
      "track ID. 766 length= 1\n",
      "track ID. 768 length= 1\n",
      "track ID. 770 length= 4\n",
      "track ID. 771 length= 4\n",
      "track ID. 772 length= 1\n",
      "track ID. 773 length= 1\n",
      "track ID. 775 length= 12\n",
      "track ID. 776 length= 2\n",
      "track ID. 777 length= 1\n",
      "track ID. 778 length= 1\n",
      "track ID. 779 length= 1\n",
      "track ID. 780 length= 1\n",
      "track ID. 781 length= 1\n",
      "track ID. 783 length= 5\n",
      "track ID. 785 length= 7\n",
      "track ID. 786 length= 197\n",
      "track ID. 787 length= 262\n",
      "track ID. 788 length= 7\n",
      "track ID. 789 length= 24\n",
      "track ID. 790 length= 6\n",
      "track ID. 791 length= 1\n",
      "track ID. 793 length= 1\n",
      "track ID. 792 length= 13\n",
      "track ID. 794 length= 5\n",
      "track ID. 795 length= 9\n",
      "track ID. 796 length= 1\n",
      "track ID. 799 length= 1\n",
      "track ID. 800 length= 19\n",
      "track ID. 801 length= 17\n",
      "track ID. 802 length= 327\n",
      "track ID. 803 length= 27\n",
      "track ID. 804 length= 124\n",
      "track ID. 805 length= 391\n",
      "track ID. 806 length= 1\n",
      "track ID. 807 length= 4\n",
      "track ID. 808 length= 1\n",
      "track ID. 809 length= 10\n",
      "track ID. 810 length= 7\n",
      "track ID. 811 length= 4\n",
      "track ID. 812 length= 12\n",
      "track ID. 813 length= 4\n",
      "track ID. 814 length= 55\n",
      "track ID. 815 length= 2\n",
      "track ID. 816 length= 414\n",
      "track ID. 817 length= 748\n",
      "track ID. 818 length= 1\n",
      "track ID. 819 length= 9\n",
      "track ID. 820 length= 2\n",
      "track ID. 821 length= 360\n",
      "track ID. 822 length= 131\n",
      "track ID. 823 length= 7\n",
      "track ID. 824 length= 1\n",
      "track ID. 827 length= 1\n",
      "track ID. 829 length= 12\n",
      "track ID. 830 length= 4\n",
      "track ID. 831 length= 1\n",
      "track ID. 832 length= 1\n",
      "track ID. 833 length= 61\n",
      "track ID. 834 length= 1\n",
      "track ID. 835 length= 2\n",
      "track ID. 837 length= 1\n",
      "track ID. 838 length= 241\n",
      "track ID. 839 length= 690\n",
      "track ID. 843 length= 1\n",
      "track ID. 842 length= 1\n",
      "track ID. 841 length= 7\n",
      "track ID. 840 length= 14\n",
      "track ID. 845 length= 1\n",
      "track ID. 846 length= 1\n",
      "track ID. 847 length= 41\n",
      "track ID. 848 length= 1\n",
      "track ID. 849 length= 5\n",
      "track ID. 850 length= 280\n",
      "track ID. 851 length= 222\n",
      "track ID. 852 length= 4\n",
      "track ID. 853 length= 4\n",
      "track ID. 854 length= 1\n",
      "track ID. 855 length= 4\n",
      "track ID. 856 length= 119\n",
      "track ID. 860 length= 6\n",
      "track ID. 859 length= 160\n",
      "track ID. 857 length= 4\n",
      "track ID. 858 length= 1\n",
      "track ID. 863 length= 326\n",
      "track ID. 862 length= 1\n",
      "track ID. 864 length= 86\n",
      "track ID. 865 length= 4\n",
      "track ID. 867 length= 1\n",
      "track ID. 866 length= 399\n",
      "track ID. 868 length= 1\n",
      "track ID. 870 length= 1\n",
      "track ID. 871 length= 4\n",
      "track ID. 872 length= 4\n",
      "track ID. 873 length= 16\n",
      "track ID. 875 length= 1\n",
      "track ID. 876 length= 2\n",
      "track ID. 877 length= 1\n",
      "track ID. 878 length= 3\n",
      "track ID. 884 length= 1\n",
      "track ID. 882 length= 4\n",
      "track ID. 881 length= 1\n",
      "track ID. 880 length= 1\n",
      "track ID. 885 length= 4\n",
      "track ID. 886 length= 16\n",
      "track ID. 887 length= 32\n",
      "track ID. 888 length= 633\n",
      "track ID. 889 length= 12\n",
      "track ID. 890 length= 7\n",
      "track ID. 891 length= 372\n",
      "track ID. 892 length= 586\n",
      "track ID. 893 length= 3\n",
      "track ID. 894 length= 2\n",
      "track ID. 895 length= 1\n",
      "track ID. 896 length= 78\n",
      "track ID. 899 length= 5\n",
      "track ID. 898 length= 10\n",
      "track ID. 900 length= 1\n",
      "track ID. 901 length= 1\n",
      "track ID. 902 length= 9\n",
      "track ID. 903 length= 2\n",
      "track ID. 904 length= 4\n",
      "track ID. 905 length= 4\n",
      "track ID. 907 length= 4\n",
      "track ID. 908 length= 1\n",
      "track ID. 911 length= 1\n",
      "track ID. 910 length= 5\n",
      "track ID. 909 length= 129\n",
      "track ID. 912 length= 1\n",
      "track ID. 913 length= 14\n",
      "track ID. 914 length= 467\n",
      "track ID. 915 length= 123\n",
      "track ID. 917 length= 3\n",
      "track ID. 916 length= 4\n",
      "track ID. 918 length= 28\n",
      "track ID. 921 length= 1\n",
      "track ID. 924 length= 2\n",
      "track ID. 925 length= 1\n",
      "track ID. 926 length= 1\n",
      "track ID. 927 length= 342\n",
      "track ID. 928 length= 144\n",
      "track ID. 929 length= 1\n",
      "track ID. 930 length= 1\n",
      "track ID. 931 length= 60\n",
      "track ID. 932 length= 1\n",
      "track ID. 933 length= 1\n",
      "track ID. 934 length= 4\n",
      "track ID. 936 length= 1\n",
      "track ID. 937 length= 25\n",
      "track ID. 935 length= 1\n",
      "track ID. 938 length= 1\n",
      "track ID. 939 length= 1\n",
      "track ID. 940 length= 311\n",
      "track ID. 944 length= 2\n",
      "track ID. 943 length= 1\n",
      "track ID. 942 length= 9\n",
      "track ID. 941 length= 1\n",
      "track ID. 945 length= 324\n",
      "track ID. 946 length= 300\n",
      "track ID. 947 length= 64\n",
      "track ID. 948 length= 688\n",
      "track ID. 949 length= 3\n",
      "track ID. 950 length= 2\n",
      "track ID. 951 length= 1\n",
      "track ID. 956 length= 1\n",
      "track ID. 955 length= 7\n",
      "track ID. 954 length= 523\n",
      "track ID. 953 length= 1\n",
      "track ID. 952 length= 345\n",
      "track ID. 957 length= 1\n",
      "track ID. 958 length= 8\n",
      "track ID. 959 length= 467\n",
      "track ID. 961 length= 1\n",
      "track ID. 962 length= 1\n",
      "track ID. 963 length= 250\n",
      "track ID. 964 length= 2\n",
      "track ID. 965 length= 7\n",
      "track ID. 966 length= 4\n",
      "track ID. 969 length= 1\n",
      "track ID. 967 length= 1\n",
      "track ID. 968 length= 1\n",
      "track ID. 970 length= 21\n",
      "track ID. 971 length= 676\n",
      "track ID. 972 length= 1\n",
      "track ID. 973 length= 192\n",
      "track ID. 974 length= 194\n",
      "track ID. 975 length= 15\n",
      "track ID. 977 length= 1\n",
      "track ID. 978 length= 30\n",
      "track ID. 980 length= 15\n",
      "track ID. 981 length= 455\n",
      "track ID. 982 length= 1\n",
      "track ID. 984 length= 2\n",
      "track ID. 983 length= 2\n",
      "track ID. 985 length= 1\n",
      "track ID. 986 length= 139\n",
      "track ID. 987 length= 277\n",
      "track ID. 988 length= 4\n",
      "track ID. 989 length= 4\n",
      "track ID. 990 length= 54\n",
      "track ID. 991 length= 4\n",
      "track ID. 992 length= 1\n",
      "track ID. 993 length= 222\n",
      "track ID. 994 length= 22\n",
      "track ID. 996 length= 1\n",
      "track ID. 997 length= 1\n",
      "track ID. 998 length= 1\n",
      "track ID. 1000 length= 2\n",
      "track ID. 999 length= 1\n",
      "track ID. 1001 length= 1\n",
      "track ID. 1002 length= 1\n",
      "track ID. 1004 length= 3\n",
      "track ID. 1005 length= 11\n",
      "track ID. 1006 length= 6\n",
      "track ID. 1007 length= 126\n",
      "track ID. 1009 length= 1\n",
      "track ID. 1010 length= 1\n",
      "track ID. 1012 length= 5\n",
      "track ID. 1013 length= 1\n",
      "track ID. 1014 length= 499\n",
      "track ID. 1015 length= 1\n",
      "track ID. 1016 length= 1\n",
      "track ID. 1018 length= 261\n",
      "track ID. 1019 length= 1\n",
      "track ID. 1020 length= 1\n",
      "track ID. 1022 length= 1\n",
      "track ID. 1024 length= 5\n",
      "track ID. 1025 length= 463\n",
      "track ID. 1027 length= 24\n",
      "track ID. 1028 length= 1\n",
      "track ID. 1029 length= 1\n",
      "track ID. 1030 length= 1\n",
      "track ID. 1031 length= 1\n",
      "track ID. 1032 length= 5\n",
      "track ID. 1033 length= 1\n",
      "track ID. 1035 length= 1\n",
      "track ID. 1036 length= 1\n",
      "track ID. 1037 length= 1\n",
      "track ID. 1038 length= 4\n",
      "track ID. 1039 length= 5\n",
      "track ID. 1041 length= 1\n",
      "track ID. 1040 length= 351\n",
      "track ID. 1042 length= 1\n",
      "track ID. 1043 length= 25\n",
      "track ID. 1044 length= 1\n",
      "track ID. 1045 length= 9\n",
      "track ID. 1046 length= 1\n",
      "track ID. 1047 length= 14\n",
      "track ID. 1049 length= 1\n",
      "track ID. 1050 length= 1\n",
      "track ID. 1051 length= 60\n",
      "track ID. 1052 length= 38\n",
      "track ID. 1053 length= 1\n",
      "track ID. 1054 length= 1\n",
      "track ID. 1055 length= 1\n",
      "track ID. 1057 length= 1\n",
      "track ID. 1056 length= 42\n",
      "track ID. 1059 length= 1\n",
      "track ID. 1060 length= 1\n",
      "track ID. 1061 length= 1\n",
      "track ID. 1063 length= 1\n",
      "track ID. 1064 length= 1\n",
      "track ID. 1065 length= 134\n",
      "track ID. 1066 length= 5\n",
      "track ID. 1067 length= 1\n",
      "track ID. 1069 length= 147\n",
      "track ID. 1070 length= 5\n",
      "track ID. 1071 length= 1\n",
      "track ID. 1072 length= 3\n",
      "track ID. 1074 length= 1\n",
      "track ID. 1075 length= 6\n",
      "track ID. 1076 length= 169\n",
      "track ID. 1079 length= 30\n",
      "track ID. 1080 length= 33\n",
      "track ID. 1081 length= 2\n",
      "track ID. 1082 length= 392\n",
      "track ID. 1078 length= 1\n",
      "track ID. 1083 length= 2\n",
      "track ID. 1084 length= 134\n",
      "track ID. 1085 length= 456\n",
      "track ID. 1086 length= 25\n",
      "track ID. 1088 length= 573\n",
      "track ID. 1089 length= 572\n",
      "track ID. 1090 length= 1\n",
      "track ID. 1092 length= 12\n",
      "track ID. 1093 length= 6\n",
      "track ID. 1094 length= 290\n",
      "track ID. 1097 length= 37\n",
      "track ID. 1096 length= 1\n",
      "track ID. 1095 length= 207\n",
      "track ID. 1098 length= 482\n",
      "track ID. 1099 length= 4\n",
      "track ID. 1100 length= 236\n",
      "track ID. 1101 length= 5\n",
      "track ID. 1102 length= 64\n",
      "track ID. 1103 length= 2\n",
      "track ID. 1104 length= 3\n",
      "track ID. 1105 length= 1\n",
      "track ID. 1109 length= 1\n",
      "track ID. 1112 length= 1\n",
      "track ID. 1114 length= 173\n",
      "track ID. 1115 length= 31\n",
      "track ID. 1116 length= 1\n",
      "track ID. 1121 length= 1\n",
      "track ID. 1122 length= 12\n",
      "track ID. 1117 length= 1\n",
      "track ID. 1118 length= 1\n",
      "track ID. 1119 length= 1\n",
      "track ID. 1124 length= 56\n",
      "track ID. 1125 length= 2\n",
      "track ID. 1126 length= 46\n",
      "track ID. 1127 length= 1\n",
      "track ID. 1128 length= 1\n",
      "track ID. 1130 length= 1\n",
      "track ID. 1131 length= 1\n",
      "track ID. 1132 length= 550\n",
      "track ID. 1133 length= 3\n",
      "track ID. 1137 length= 1\n",
      "track ID. 1136 length= 1\n",
      "track ID. 1135 length= 20\n",
      "track ID. 1134 length= 1\n",
      "track ID. 1138 length= 1\n",
      "track ID. 1139 length= 1\n"
     ]
    },
    {
     "name": "stdout",
     "output_type": "stream",
     "text": [
      "track ID. 1140 length= 158\n",
      "track ID. 1141 length= 3\n",
      "track ID. 1145 length= 1\n",
      "track ID. 1146 length= 1\n",
      "track ID. 1147 length= 5\n",
      "track ID. 1149 length= 1\n",
      "track ID. 1150 length= 3\n",
      "track ID. 1151 length= 13\n",
      "track ID. 1152 length= 1\n",
      "track ID. 1153 length= 113\n",
      "track ID. 1154 length= 111\n",
      "track ID. 1158 length= 2\n",
      "track ID. 1159 length= 2\n",
      "track ID. 1155 length= 23\n",
      "track ID. 1157 length= 3\n",
      "track ID. 1162 length= 2\n",
      "track ID. 1165 length= 3\n",
      "track ID. 1168 length= 7\n",
      "track ID. 1167 length= 1\n",
      "track ID. 1169 length= 2\n",
      "track ID. 1170 length= 9\n",
      "track ID. 1171 length= 1\n",
      "track ID. 1172 length= 3\n",
      "track ID. 1173 length= 2\n",
      "track ID. 1174 length= 12\n",
      "track ID. 1175 length= 3\n",
      "track ID. 1176 length= 1\n",
      "track ID. 1177 length= 118\n",
      "track ID. 1178 length= 1\n",
      "track ID. 1180 length= 1\n",
      "track ID. 1181 length= 1\n",
      "track ID. 1182 length= 1\n",
      "track ID. 1183 length= 4\n",
      "track ID. 1184 length= 1\n",
      "track ID. 1185 length= 14\n",
      "track ID. 1186 length= 92\n",
      "track ID. 1187 length= 3\n",
      "track ID. 1188 length= 1\n",
      "track ID. 1189 length= 1\n",
      "track ID. 1190 length= 5\n",
      "track ID. 1191 length= 5\n",
      "track ID. 1192 length= 20\n",
      "track ID. 1193 length= 34\n",
      "track ID. 1194 length= 1\n",
      "track ID. 1196 length= 27\n",
      "track ID. 1197 length= 9\n",
      "track ID. 1198 length= 1\n",
      "track ID. 1200 length= 1\n",
      "track ID. 1202 length= 13\n",
      "track ID. 1203 length= 1\n",
      "track ID. 1206 length= 4\n",
      "track ID. 1207 length= 22\n",
      "track ID. 1208 length= 122\n",
      "track ID. 1209 length= 5\n",
      "track ID. 1210 length= 1\n",
      "track ID. 1211 length= 1\n",
      "track ID. 1212 length= 1\n",
      "track ID. 1213 length= 5\n",
      "track ID. 1214 length= 5\n",
      "track ID. 1215 length= 10\n",
      "track ID. 1216 length= 1\n",
      "track ID. 1218 length= 10\n",
      "track ID. 1219 length= 21\n",
      "track ID. 1221 length= 1\n",
      "track ID. 1220 length= 7\n",
      "track ID. 1223 length= 1\n",
      "track ID. 1224 length= 7\n",
      "track ID. 1225 length= 1\n",
      "track ID. 1226 length= 1\n",
      "track ID. 1228 length= 1\n",
      "track ID. 1230 length= 16\n",
      "track ID. 1231 length= 11\n",
      "track ID. 1232 length= 188\n",
      "track ID. 1233 length= 486\n",
      "track ID. 1234 length= 25\n",
      "track ID. 1235 length= 18\n",
      "track ID. 1236 length= 17\n",
      "track ID. 1238 length= 430\n",
      "track ID. 1240 length= 9\n",
      "track ID. 1241 length= 11\n",
      "track ID. 1243 length= 10\n",
      "track ID. 1244 length= 2\n",
      "track ID. 1245 length= 1\n",
      "track ID. 1246 length= 1\n",
      "track ID. 1247 length= 1\n",
      "track ID. 1248 length= 1\n",
      "track ID. 1249 length= 1\n",
      "track ID. 1250 length= 1\n",
      "track ID. 1251 length= 1\n",
      "track ID. 1252 length= 1\n",
      "track ID. 1254 length= 2\n",
      "track ID. 1255 length= 1\n",
      "track ID. 1256 length= 5\n",
      "track ID. 1257 length= 38\n",
      "track ID. 1258 length= 472\n",
      "track ID. 1263 length= 471\n",
      "track ID. 1262 length= 1\n",
      "track ID. 1261 length= 6\n",
      "track ID. 1265 length= 1\n",
      "track ID. 1266 length= 1\n",
      "track ID. 1267 length= 3\n",
      "track ID. 1268 length= 466\n",
      "track ID. 1270 length= 2\n",
      "track ID. 1271 length= 15\n",
      "track ID. 1272 length= 1\n",
      "track ID. 1274 length= 1\n",
      "track ID. 1275 length= 127\n",
      "track ID. 1276 length= 1\n",
      "track ID. 1277 length= 1\n",
      "track ID. 1278 length= 1\n",
      "track ID. 1279 length= 2\n",
      "track ID. 1283 length= 2\n",
      "track ID. 1284 length= 460\n",
      "track ID. 1281 length= 3\n",
      "track ID. 1280 length= 460\n",
      "track ID. 1282 length= 2\n",
      "track ID. 1285 length= 6\n",
      "track ID. 1286 length= 4\n",
      "track ID. 1287 length= 7\n",
      "track ID. 1288 length= 3\n",
      "track ID. 1289 length= 458\n",
      "track ID. 1290 length= 1\n",
      "track ID. 1291 length= 1\n",
      "track ID. 1292 length= 5\n",
      "track ID. 1294 length= 2\n",
      "track ID. 1300 length= 7\n",
      "track ID. 1298 length= 7\n",
      "track ID. 1296 length= 4\n",
      "track ID. 1295 length= 4\n",
      "track ID. 1297 length= 1\n",
      "track ID. 1301 length= 1\n",
      "track ID. 1302 length= 7\n",
      "track ID. 1303 length= 450\n",
      "track ID. 1304 length= 1\n",
      "track ID. 1305 length= 5\n",
      "track ID. 1306 length= 448\n",
      "track ID. 1307 length= 4\n",
      "track ID. 1308 length= 10\n",
      "track ID. 1309 length= 447\n",
      "track ID. 1310 length= 4\n",
      "track ID. 1311 length= 4\n",
      "track ID. 1314 length= 446\n",
      "track ID. 1317 length= 7\n",
      "track ID. 1316 length= 446\n",
      "track ID. 1315 length= 2\n",
      "track ID. 1312 length= 1\n",
      "track ID. 1320 length= 1\n",
      "track ID. 1319 length= 2\n",
      "track ID. 1321 length= 50\n",
      "track ID. 1322 length= 443\n",
      "track ID. 1323 length= 347\n",
      "track ID. 1324 length= 1\n",
      "track ID. 1325 length= 442\n",
      "track ID. 1326 length= 441\n",
      "track ID. 1327 length= 1\n",
      "track ID. 1328 length= 3\n",
      "track ID. 1329 length= 171\n",
      "track ID. 1330 length= 111\n",
      "track ID. 1331 length= 437\n",
      "track ID. 1332 length= 1\n",
      "track ID. 1334 length= 436\n",
      "track ID. 1336 length= 2\n",
      "track ID. 1335 length= 436\n",
      "track ID. 1333 length= 1\n",
      "track ID. 1337 length= 435\n",
      "track ID. 1338 length= 1\n",
      "track ID. 1339 length= 1\n",
      "track ID. 1340 length= 396\n",
      "track ID. 1341 length= 2\n",
      "track ID. 1343 length= 1\n",
      "track ID. 1345 length= 1\n",
      "track ID. 1346 length= 6\n",
      "track ID. 1347 length= 431\n",
      "track ID. 1348 length= 431\n",
      "track ID. 1349 length= 431\n",
      "track ID. 1351 length= 7\n",
      "track ID. 1352 length= 113\n",
      "track ID. 1350 length= 429\n",
      "track ID. 1353 length= 1\n",
      "track ID. 1355 length= 427\n",
      "track ID. 1356 length= 1\n",
      "track ID. 1357 length= 1\n",
      "track ID. 1358 length= 2\n",
      "track ID. 1359 length= 1\n",
      "track ID. 1360 length= 1\n",
      "track ID. 1361 length= 1\n",
      "track ID. 1362 length= 138\n",
      "track ID. 1363 length= 4\n",
      "track ID. 1364 length= 421\n",
      "track ID. 1365 length= 412\n",
      "track ID. 1366 length= 1\n",
      "track ID. 1368 length= 4\n",
      "track ID. 1370 length= 1\n",
      "track ID. 1369 length= 138\n",
      "track ID. 1371 length= 11\n",
      "track ID. 1372 length= 418\n",
      "track ID. 1373 length= 1\n",
      "track ID. 1374 length= 41\n",
      "track ID. 1375 length= 14\n",
      "track ID. 1377 length= 10\n",
      "track ID. 1378 length= 41\n",
      "track ID. 1379 length= 4\n",
      "track ID. 1380 length= 1\n",
      "track ID. 1381 length= 1\n",
      "track ID. 1385 length= 1\n",
      "track ID. 1384 length= 1\n",
      "track ID. 1382 length= 1\n",
      "track ID. 1383 length= 18\n",
      "track ID. 1386 length= 1\n",
      "track ID. 1387 length= 24\n",
      "track ID. 1388 length= 1\n",
      "track ID. 1389 length= 411\n",
      "track ID. 1390 length= 4\n",
      "track ID. 1391 length= 409\n",
      "track ID. 1392 length= 2\n",
      "track ID. 1393 length= 408\n",
      "track ID. 1394 length= 7\n",
      "track ID. 1395 length= 407\n",
      "track ID. 1396 length= 1\n",
      "track ID. 1397 length= 127\n",
      "track ID. 1398 length= 5\n",
      "track ID. 1399 length= 1\n",
      "track ID. 1400 length= 1\n",
      "track ID. 1401 length= 403\n",
      "track ID. 1404 length= 2\n",
      "track ID. 1405 length= 1\n",
      "track ID. 1406 length= 1\n",
      "track ID. 1407 length= 1\n",
      "track ID. 1408 length= 6\n",
      "track ID. 1409 length= 369\n",
      "track ID. 1410 length= 5\n",
      "track ID. 1411 length= 312\n",
      "track ID. 1412 length= 399\n",
      "track ID. 1413 length= 1\n",
      "track ID. 1414 length= 1\n",
      "track ID. 1415 length= 1\n",
      "track ID. 1416 length= 76\n",
      "track ID. 1417 length= 85\n",
      "track ID. 1419 length= 1\n",
      "track ID. 1418 length= 1\n",
      "track ID. 1420 length= 396\n",
      "track ID. 1421 length= 10\n",
      "track ID. 1422 length= 395\n",
      "track ID. 1423 length= 49\n",
      "track ID. 1424 length= 249\n",
      "track ID. 1425 length= 20\n",
      "track ID. 1426 length= 4\n",
      "track ID. 1427 length= 393\n",
      "track ID. 1428 length= 1\n",
      "track ID. 1429 length= 44\n",
      "track ID. 1430 length= 391\n",
      "track ID. 1431 length= 16\n",
      "track ID. 1432 length= 391\n",
      "track ID. 1433 length= 1\n",
      "track ID. 1434 length= 390\n",
      "track ID. 1437 length= 390\n",
      "track ID. 1436 length= 32\n",
      "track ID. 1435 length= 4\n",
      "track ID. 1439 length= 1\n",
      "track ID. 1442 length= 1\n",
      "track ID. 1443 length= 1\n",
      "track ID. 1444 length= 13\n",
      "track ID. 1445 length= 12\n",
      "track ID. 1446 length= 387\n",
      "track ID. 1447 length= 387\n",
      "track ID. 1449 length= 6\n",
      "track ID. 1450 length= 387\n",
      "track ID. 1451 length= 2\n",
      "track ID. 1454 length= 3\n",
      "track ID. 1452 length= 385\n",
      "track ID. 1453 length= 3\n",
      "track ID. 1456 length= 1\n",
      "track ID. 1458 length= 1\n",
      "track ID. 1457 length= 1\n",
      "track ID. 1459 length= 179\n",
      "track ID. 1464 length= 383\n",
      "track ID. 1463 length= 11\n",
      "track ID. 1461 length= 1\n",
      "track ID. 1460 length= 1\n",
      "track ID. 1462 length= 4\n",
      "track ID. 1465 length= 1\n",
      "track ID. 1466 length= 382\n",
      "track ID. 1467 length= 1\n",
      "track ID. 1468 length= 382\n",
      "track ID. 1470 length= 381\n",
      "track ID. 1469 length= 11\n",
      "track ID. 1471 length= 1\n",
      "track ID. 1472 length= 4\n",
      "track ID. 1473 length= 379\n",
      "track ID. 1474 length= 1\n",
      "track ID. 1475 length= 19\n",
      "track ID. 1476 length= 1\n",
      "track ID. 1477 length= 1\n",
      "track ID. 1481 length= 4\n",
      "track ID. 1480 length= 1\n",
      "track ID. 1479 length= 2\n",
      "track ID. 1482 length= 7\n",
      "track ID. 1483 length= 376\n",
      "track ID. 1484 length= 376\n",
      "track ID. 1485 length= 1\n",
      "track ID. 1486 length= 1\n",
      "track ID. 1487 length= 1\n",
      "track ID. 1488 length= 1\n",
      "track ID. 1489 length= 1\n",
      "track ID. 1490 length= 373\n",
      "track ID. 1493 length= 1\n",
      "track ID. 1494 length= 372\n",
      "track ID. 1496 length= 14\n",
      "track ID. 1495 length= 7\n",
      "track ID. 1497 length= 151\n",
      "track ID. 1498 length= 3\n",
      "track ID. 1499 length= 1\n",
      "track ID. 1500 length= 6\n",
      "track ID. 1501 length= 3\n",
      "track ID. 1502 length= 1\n",
      "track ID. 1503 length= 1\n",
      "track ID. 1504 length= 135\n",
      "track ID. 1505 length= 228\n",
      "track ID. 1506 length= 20\n",
      "track ID. 1508 length= 1\n",
      "track ID. 1510 length= 1\n",
      "track ID. 1509 length= 10\n",
      "track ID. 1512 length= 3\n",
      "track ID. 1513 length= 1\n",
      "track ID. 1515 length= 366\n",
      "track ID. 1516 length= 1\n",
      "track ID. 1517 length= 9\n",
      "track ID. 1518 length= 1\n",
      "track ID. 1519 length= 1\n",
      "track ID. 1521 length= 1\n",
      "track ID. 1522 length= 7\n",
      "track ID. 1523 length= 1\n",
      "track ID. 1524 length= 1\n",
      "track ID. 1527 length= 4\n",
      "track ID. 1526 length= 1\n",
      "track ID. 1525 length= 1\n",
      "track ID. 1528 length= 9\n",
      "track ID. 1530 length= 1\n",
      "track ID. 1531 length= 83\n",
      "track ID. 1532 length= 16\n",
      "track ID. 1533 length= 43\n",
      "track ID. 1534 length= 358\n",
      "track ID. 1536 length= 6\n",
      "track ID. 1537 length= 1\n",
      "track ID. 1538 length= 1\n",
      "track ID. 1539 length= 1\n",
      "track ID. 1541 length= 356\n",
      "track ID. 1542 length= 10\n",
      "track ID. 1543 length= 1\n",
      "track ID. 1544 length= 355\n",
      "track ID. 1545 length= 354\n",
      "track ID. 1546 length= 354\n",
      "track ID. 1548 length= 5\n",
      "track ID. 1551 length= 1\n",
      "track ID. 1552 length= 1\n",
      "track ID. 1550 length= 1\n",
      "track ID. 1553 length= 1\n",
      "track ID. 1554 length= 1\n",
      "track ID. 1555 length= 1\n",
      "track ID. 1556 length= 349\n",
      "track ID. 1557 length= 2\n",
      "track ID. 1558 length= 348\n",
      "track ID. 1559 length= 1\n",
      "track ID. 1560 length= 9\n",
      "track ID. 1571 length= 1\n",
      "track ID. 1562 length= 10\n",
      "track ID. 1570 length= 4\n",
      "track ID. 1569 length= 346\n",
      "track ID. 1568 length= 41\n",
      "track ID. 1567 length= 1\n",
      "track ID. 1565 length= 1\n",
      "track ID. 1564 length= 346\n",
      "track ID. 1563 length= 1\n",
      "track ID. 1561 length= 3\n",
      "track ID. 1566 length= 3\n",
      "track ID. 1572 length= 345\n",
      "track ID. 1573 length= 345\n",
      "track ID. 1574 length= 345\n",
      "track ID. 1575 length= 1\n",
      "track ID. 1579 length= 4\n",
      "track ID. 1580 length= 1\n",
      "track ID. 1578 length= 1\n",
      "track ID. 1577 length= 1\n",
      "track ID. 1576 length= 1\n",
      "track ID. 1581 length= 1\n",
      "track ID. 1582 length= 1\n",
      "track ID. 1583 length= 117\n",
      "track ID. 1584 length= 1\n",
      "track ID. 1585 length= 1\n",
      "track ID. 1586 length= 1\n",
      "track ID. 1587 length= 2\n",
      "track ID. 1588 length= 339\n",
      "track ID. 1589 length= 1\n",
      "track ID. 1593 length= 3\n",
      "track ID. 1592 length= 6\n",
      "track ID. 1590 length= 338\n",
      "track ID. 1591 length= 2\n",
      "track ID. 1595 length= 2\n",
      "track ID. 1594 length= 26\n",
      "track ID. 1596 length= 1\n",
      "track ID. 1597 length= 3\n",
      "track ID. 1598 length= 3\n",
      "track ID. 1599 length= 1\n",
      "track ID. 1600 length= 1\n",
      "track ID. 1601 length= 3\n",
      "track ID. 1602 length= 16\n",
      "track ID. 1603 length= 2\n",
      "track ID. 1604 length= 18\n",
      "track ID. 1605 length= 1\n",
      "track ID. 1606 length= 4\n",
      "track ID. 1607 length= 1\n",
      "track ID. 1608 length= 1\n"
     ]
    },
    {
     "name": "stdout",
     "output_type": "stream",
     "text": [
      "track ID. 1610 length= 1\n",
      "track ID. 1609 length= 1\n",
      "track ID. 1611 length= 328\n",
      "track ID. 1612 length= 1\n",
      "track ID. 1613 length= 7\n",
      "track ID. 1614 length= 1\n",
      "track ID. 1615 length= 6\n",
      "track ID. 1616 length= 1\n",
      "track ID. 1617 length= 6\n",
      "track ID. 1618 length= 52\n",
      "track ID. 1619 length= 302\n",
      "track ID. 1620 length= 1\n",
      "track ID. 1622 length= 11\n",
      "track ID. 1623 length= 1\n",
      "track ID. 1625 length= 2\n",
      "track ID. 1628 length= 1\n",
      "track ID. 1627 length= 1\n",
      "track ID. 1624 length= 11\n",
      "track ID. 1626 length= 1\n",
      "track ID. 1629 length= 1\n",
      "track ID. 1630 length= 7\n",
      "track ID. 1631 length= 16\n",
      "track ID. 1632 length= 53\n",
      "track ID. 1633 length= 1\n",
      "track ID. 1634 length= 1\n",
      "track ID. 1635 length= 2\n",
      "track ID. 1636 length= 1\n",
      "track ID. 1637 length= 1\n",
      "track ID. 1638 length= 2\n",
      "track ID. 1639 length= 10\n",
      "track ID. 1640 length= 7\n",
      "track ID. 1641 length= 2\n",
      "track ID. 1643 length= 1\n",
      "track ID. 1642 length= 1\n",
      "track ID. 1644 length= 318\n",
      "track ID. 1645 length= 1\n",
      "track ID. 1646 length= 318\n",
      "track ID. 1647 length= 317\n",
      "track ID. 1649 length= 1\n",
      "track ID. 1651 length= 315\n",
      "track ID. 1652 length= 19\n",
      "track ID. 1653 length= 315\n",
      "track ID. 1654 length= 315\n",
      "track ID. 1659 length= 40\n",
      "track ID. 1658 length= 1\n",
      "track ID. 1656 length= 3\n",
      "track ID. 1655 length= 314\n",
      "track ID. 1657 length= 27\n",
      "track ID. 1660 length= 1\n",
      "track ID. 1661 length= 1\n",
      "track ID. 1662 length= 4\n",
      "track ID. 1664 length= 313\n",
      "track ID. 1665 length= 313\n",
      "track ID. 1666 length= 313\n",
      "track ID. 1667 length= 313\n",
      "track ID. 1668 length= 4\n",
      "track ID. 1674 length= 1\n",
      "track ID. 1673 length= 4\n",
      "track ID. 1671 length= 1\n",
      "track ID. 1669 length= 1\n",
      "track ID. 1672 length= 5\n",
      "track ID. 1675 length= 184\n",
      "track ID. 1676 length= 311\n",
      "track ID. 1682 length= 1\n",
      "track ID. 1681 length= 208\n",
      "track ID. 1680 length= 1\n",
      "track ID. 1679 length= 1\n",
      "track ID. 1678 length= 1\n",
      "track ID. 1684 length= 308\n",
      "track ID. 1685 length= 3\n",
      "track ID. 1686 length= 4\n",
      "track ID. 1687 length= 2\n",
      "track ID. 1688 length= 1\n",
      "track ID. 1689 length= 1\n",
      "track ID. 1694 length= 307\n",
      "track ID. 1693 length= 1\n",
      "track ID. 1691 length= 307\n",
      "track ID. 1692 length= 39\n",
      "track ID. 1696 length= 1\n",
      "track ID. 1697 length= 305\n",
      "track ID. 1698 length= 5\n",
      "track ID. 1699 length= 305\n",
      "track ID. 1700 length= 1\n",
      "track ID. 1702 length= 303\n",
      "track ID. 1703 length= 302\n",
      "track ID. 1704 length= 1\n",
      "track ID. 1705 length= 33\n",
      "track ID. 1706 length= 3\n",
      "track ID. 1707 length= 12\n",
      "track ID. 1708 length= 25\n",
      "track ID. 1709 length= 301\n",
      "track ID. 1711 length= 1\n",
      "track ID. 1712 length= 12\n",
      "track ID. 1713 length= 1\n",
      "track ID. 1714 length= 1\n",
      "track ID. 1715 length= 14\n",
      "track ID. 1717 length= 6\n",
      "track ID. 1718 length= 298\n",
      "track ID. 1720 length= 1\n",
      "track ID. 1721 length= 297\n",
      "track ID. 1722 length= 1\n",
      "track ID. 1723 length= 1\n",
      "track ID. 1724 length= 5\n",
      "track ID. 1725 length= 3\n",
      "track ID. 1726 length= 295\n",
      "track ID. 1736 length= 294\n",
      "track ID. 1734 length= 1\n",
      "track ID. 1733 length= 8\n",
      "track ID. 1732 length= 1\n",
      "track ID. 1730 length= 1\n",
      "track ID. 1731 length= 294\n",
      "track ID. 1727 length= 294\n",
      "track ID. 1729 length= 1\n",
      "track ID. 1728 length= 2\n",
      "track ID. 1738 length= 292\n",
      "track ID. 1739 length= 6\n",
      "track ID. 1737 length= 39\n",
      "track ID. 1741 length= 6\n",
      "track ID. 1742 length= 1\n",
      "track ID. 1743 length= 1\n",
      "track ID. 1744 length= 1\n",
      "track ID. 1747 length= 1\n",
      "track ID. 1748 length= 290\n",
      "track ID. 1745 length= 7\n",
      "track ID. 1749 length= 289\n",
      "track ID. 1751 length= 1\n",
      "track ID. 1752 length= 14\n",
      "track ID. 1756 length= 5\n",
      "track ID. 1757 length= 5\n",
      "track ID. 1759 length= 1\n",
      "track ID. 1761 length= 158\n",
      "track ID. 1760 length= 285\n",
      "track ID. 1762 length= 284\n",
      "track ID. 1763 length= 1\n",
      "track ID. 1764 length= 1\n",
      "track ID. 1765 length= 3\n",
      "track ID. 1766 length= 283\n",
      "track ID. 1767 length= 7\n",
      "track ID. 1769 length= 3\n",
      "track ID. 1770 length= 2\n",
      "track ID. 1771 length= 1\n",
      "track ID. 1772 length= 281\n",
      "track ID. 1773 length= 17\n",
      "track ID. 1774 length= 1\n",
      "track ID. 1776 length= 1\n",
      "track ID. 1777 length= 279\n",
      "track ID. 1778 length= 3\n",
      "track ID. 1779 length= 2\n",
      "track ID. 1780 length= 9\n",
      "track ID. 1781 length= 277\n",
      "track ID. 1782 length= 1\n",
      "track ID. 1783 length= 1\n",
      "track ID. 1784 length= 25\n",
      "track ID. 1785 length= 276\n",
      "track ID. 1786 length= 3\n",
      "track ID. 1787 length= 276\n",
      "track ID. 1788 length= 2\n",
      "track ID. 1789 length= 2\n",
      "track ID. 1790 length= 276\n",
      "track ID. 1793 length= 2\n",
      "track ID. 1794 length= 1\n",
      "track ID. 1792 length= 4\n",
      "track ID. 1791 length= 2\n",
      "track ID. 1795 length= 146\n",
      "track ID. 1796 length= 4\n",
      "track ID. 1798 length= 1\n",
      "track ID. 1799 length= 270\n",
      "track ID. 1800 length= 23\n",
      "track ID. 1801 length= 263\n",
      "track ID. 1802 length= 5\n",
      "track ID. 1804 length= 8\n",
      "track ID. 1805 length= 270\n",
      "track ID. 1810 length= 8\n",
      "track ID. 1814 length= 1\n",
      "track ID. 1813 length= 138\n",
      "track ID. 1812 length= 1\n",
      "track ID. 1811 length= 268\n",
      "track ID. 1809 length= 6\n",
      "track ID. 1808 length= 249\n",
      "track ID. 1807 length= 1\n",
      "track ID. 1806 length= 2\n",
      "track ID. 1815 length= 2\n",
      "track ID. 1817 length= 266\n",
      "track ID. 1818 length= 13\n",
      "track ID. 1819 length= 1\n",
      "track ID. 1821 length= 8\n",
      "track ID. 1822 length= 37\n",
      "track ID. 1823 length= 1\n",
      "track ID. 1824 length= 32\n",
      "track ID. 1825 length= 264\n",
      "track ID. 1826 length= 248\n",
      "track ID. 1828 length= 8\n",
      "track ID. 1831 length= 3\n",
      "track ID. 1833 length= 263\n",
      "track ID. 1832 length= 18\n",
      "track ID. 1830 length= 1\n",
      "track ID. 1829 length= 10\n",
      "track ID. 1834 length= 262\n",
      "track ID. 1835 length= 260\n",
      "track ID. 1836 length= 121\n",
      "track ID. 1837 length= 1\n",
      "track ID. 1838 length= 1\n",
      "track ID. 1839 length= 259\n",
      "track ID. 1841 length= 1\n",
      "track ID. 1842 length= 258\n",
      "track ID. 1844 length= 257\n",
      "track ID. 1845 length= 206\n",
      "track ID. 1847 length= 30\n",
      "track ID. 1848 length= 3\n",
      "track ID. 1850 length= 1\n",
      "track ID. 1852 length= 43\n",
      "track ID. 1851 length= 1\n",
      "track ID. 1853 length= 1\n",
      "track ID. 1854 length= 254\n",
      "track ID. 1855 length= 1\n",
      "track ID. 1856 length= 14\n",
      "track ID. 1857 length= 1\n",
      "track ID. 1858 length= 1\n",
      "track ID. 1860 length= 9\n",
      "track ID. 1859 length= 1\n",
      "track ID. 1861 length= 1\n",
      "track ID. 1862 length= 250\n",
      "track ID. 1863 length= 249\n",
      "track ID. 1864 length= 249\n",
      "track ID. 1865 length= 1\n",
      "track ID. 1866 length= 1\n",
      "track ID. 1868 length= 1\n",
      "track ID. 1871 length= 2\n",
      "track ID. 1869 length= 247\n",
      "track ID. 1872 length= 2\n",
      "track ID. 1873 length= 21\n",
      "track ID. 1874 length= 242\n",
      "track ID. 1875 length= 4\n",
      "track ID. 1876 length= 2\n",
      "track ID. 1877 length= 1\n",
      "track ID. 1878 length= 16\n",
      "track ID. 1879 length= 1\n",
      "track ID. 1880 length= 2\n",
      "track ID. 1882 length= 1\n",
      "track ID. 1886 length= 1\n",
      "track ID. 1885 length= 1\n",
      "track ID. 1883 length= 243\n",
      "track ID. 1884 length= 1\n",
      "track ID. 1889 length= 3\n",
      "track ID. 1890 length= 1\n",
      "track ID. 1891 length= 240\n",
      "track ID. 1892 length= 1\n",
      "track ID. 1893 length= 3\n",
      "track ID. 1894 length= 239\n",
      "track ID. 1895 length= 1\n",
      "track ID. 1896 length= 238\n",
      "track ID. 1897 length= 238\n",
      "track ID. 1906 length= 1\n",
      "track ID. 1905 length= 1\n",
      "track ID. 1903 length= 24\n",
      "track ID. 1900 length= 237\n",
      "track ID. 1898 length= 3\n",
      "track ID. 1902 length= 10\n",
      "track ID. 1908 length= 1\n",
      "track ID. 1909 length= 3\n",
      "track ID. 1910 length= 1\n",
      "track ID. 1911 length= 9\n",
      "track ID. 1913 length= 234\n",
      "track ID. 1914 length= 38\n",
      "track ID. 1915 length= 2\n",
      "track ID. 1921 length= 6\n",
      "track ID. 1920 length= 232\n",
      "track ID. 1919 length= 5\n",
      "track ID. 1918 length= 1\n",
      "track ID. 1917 length= 2\n",
      "track ID. 1916 length= 232\n",
      "track ID. 1922 length= 1\n",
      "track ID. 1927 length= 1\n",
      "track ID. 1926 length= 1\n",
      "track ID. 1924 length= 231\n",
      "track ID. 1923 length= 1\n",
      "track ID. 1925 length= 1\n",
      "track ID. 1928 length= 139\n",
      "track ID. 1929 length= 7\n",
      "track ID. 1930 length= 1\n",
      "track ID. 1931 length= 1\n",
      "track ID. 1932 length= 225\n",
      "track ID. 1934 length= 224\n",
      "track ID. 1936 length= 9\n",
      "track ID. 1937 length= 1\n",
      "track ID. 1938 length= 223\n",
      "track ID. 1939 length= 223\n",
      "track ID. 1940 length= 1\n",
      "track ID. 1941 length= 2\n",
      "track ID. 1942 length= 4\n",
      "track ID. 1943 length= 1\n",
      "track ID. 1944 length= 220\n",
      "track ID. 1945 length= 220\n",
      "track ID. 1946 length= 12\n",
      "track ID. 1947 length= 2\n",
      "track ID. 1948 length= 1\n",
      "track ID. 1949 length= 220\n",
      "track ID. 1950 length= 3\n",
      "track ID. 1951 length= 3\n",
      "track ID. 1952 length= 3\n",
      "track ID. 1956 length= 37\n",
      "track ID. 1955 length= 3\n",
      "track ID. 1953 length= 219\n",
      "track ID. 1954 length= 2\n",
      "track ID. 1957 length= 1\n",
      "track ID. 1958 length= 5\n",
      "track ID. 1959 length= 1\n",
      "track ID. 1960 length= 11\n",
      "track ID. 1961 length= 2\n",
      "track ID. 1962 length= 22\n",
      "track ID. 1963 length= 215\n",
      "track ID. 1964 length= 214\n",
      "track ID. 1965 length= 214\n",
      "track ID. 1966 length= 1\n",
      "track ID. 1967 length= 1\n",
      "track ID. 1968 length= 1\n",
      "track ID. 1970 length= 1\n",
      "track ID. 1973 length= 14\n",
      "track ID. 1972 length= 2\n",
      "track ID. 1971 length= 1\n",
      "track ID. 1974 length= 210\n",
      "track ID. 1975 length= 1\n",
      "track ID. 1976 length= 1\n",
      "track ID. 1977 length= 210\n",
      "track ID. 1978 length= 1\n",
      "track ID. 1982 length= 2\n",
      "track ID. 1984 length= 65\n",
      "track ID. 1985 length= 2\n",
      "track ID. 1986 length= 1\n",
      "track ID. 1987 length= 102\n",
      "track ID. 1988 length= 1\n",
      "track ID. 1989 length= 205\n",
      "track ID. 1990 length= 3\n",
      "track ID. 1994 length= 204\n",
      "track ID. 1995 length= 1\n",
      "track ID. 1991 length= 149\n",
      "track ID. 1992 length= 5\n",
      "track ID. 1993 length= 2\n",
      "track ID. 1996 length= 4\n",
      "track ID. 1998 length= 3\n",
      "track ID. 1999 length= 29\n",
      "track ID. 2000 length= 200\n",
      "track ID. 2001 length= 199\n",
      "track ID. 2002 length= 3\n",
      "track ID. 2003 length= 196\n",
      "track ID. 2004 length= 196\n",
      "track ID. 2005 length= 1\n",
      "track ID. 2006 length= 1\n",
      "track ID. 2007 length= 1\n",
      "track ID. 2008 length= 24\n",
      "track ID. 2009 length= 85\n",
      "track ID. 2011 length= 1\n",
      "track ID. 2010 length= 3\n",
      "track ID. 2013 length= 1\n",
      "track ID. 2014 length= 6\n",
      "track ID. 2015 length= 5\n",
      "track ID. 2016 length= 1\n",
      "track ID. 2017 length= 1\n",
      "track ID. 2018 length= 25\n",
      "track ID. 2020 length= 4\n",
      "track ID. 2021 length= 1\n",
      "track ID. 2022 length= 1\n",
      "track ID. 2023 length= 2\n",
      "track ID. 2024 length= 4\n",
      "track ID. 2025 length= 1\n",
      "track ID. 2026 length= 5\n",
      "track ID. 2027 length= 53\n",
      "track ID. 2029 length= 7\n",
      "track ID. 2028 length= 1\n",
      "track ID. 2031 length= 1\n"
     ]
    },
    {
     "name": "stdout",
     "output_type": "stream",
     "text": [
      "track ID. 2030 length= 1\n",
      "track ID. 2032 length= 1\n",
      "track ID. 2034 length= 174\n",
      "track ID. 2035 length= 1\n",
      "track ID. 2036 length= 1\n",
      "track ID. 2037 length= 172\n",
      "track ID. 2039 length= 2\n",
      "track ID. 2040 length= 1\n",
      "track ID. 2041 length= 1\n",
      "track ID. 2042 length= 1\n",
      "track ID. 2044 length= 4\n",
      "track ID. 2046 length= 3\n",
      "track ID. 2047 length= 1\n",
      "track ID. 2048 length= 162\n",
      "track ID. 2049 length= 3\n",
      "track ID. 2050 length= 3\n",
      "track ID. 2051 length= 4\n",
      "track ID. 2052 length= 26\n",
      "track ID. 2053 length= 7\n",
      "track ID. 2054 length= 4\n",
      "track ID. 2055 length= 8\n",
      "track ID. 2056 length= 9\n",
      "track ID. 2057 length= 1\n",
      "track ID. 2058 length= 7\n",
      "track ID. 2059 length= 155\n",
      "track ID. 2061 length= 1\n",
      "track ID. 2063 length= 110\n",
      "track ID. 2064 length= 2\n",
      "track ID. 2066 length= 1\n",
      "track ID. 2068 length= 12\n",
      "track ID. 2071 length= 43\n",
      "track ID. 2069 length= 1\n",
      "track ID. 2072 length= 13\n",
      "track ID. 2073 length= 3\n",
      "track ID. 2075 length= 2\n",
      "track ID. 2076 length= 18\n",
      "track ID. 2077 length= 1\n",
      "track ID. 2078 length= 1\n",
      "track ID. 2079 length= 1\n",
      "track ID. 2080 length= 4\n",
      "track ID. 2082 length= 1\n",
      "track ID. 2083 length= 1\n",
      "track ID. 2084 length= 1\n",
      "track ID. 2085 length= 9\n",
      "track ID. 2086 length= 15\n",
      "track ID. 2087 length= 4\n",
      "track ID. 2088 length= 1\n",
      "track ID. 2089 length= 16\n",
      "track ID. 2090 length= 1\n",
      "track ID. 2093 length= 9\n",
      "track ID. 2094 length= 1\n",
      "track ID. 2096 length= 1\n",
      "track ID. 2097 length= 1\n",
      "track ID. 2098 length= 1\n",
      "track ID. 2099 length= 16\n",
      "track ID. 2101 length= 1\n",
      "track ID. 2102 length= 1\n",
      "track ID. 2106 length= 1\n",
      "track ID. 2105 length= 26\n",
      "track ID. 2103 length= 1\n",
      "track ID. 2104 length= 1\n",
      "track ID. 2108 length= 1\n",
      "track ID. 2109 length= 2\n",
      "track ID. 2110 length= 1\n",
      "track ID. 2112 length= 126\n",
      "track ID. 2113 length= 4\n",
      "track ID. 2114 length= 35\n",
      "track ID. 2115 length= 124\n",
      "track ID. 2116 length= 1\n",
      "track ID. 2118 length= 1\n",
      "track ID. 2119 length= 7\n",
      "track ID. 2124 length= 21\n",
      "track ID. 2125 length= 5\n",
      "track ID. 2123 length= 121\n",
      "track ID. 2122 length= 121\n",
      "track ID. 2121 length= 17\n",
      "track ID. 2120 length= 3\n",
      "track ID. 2126 length= 14\n",
      "track ID. 2127 length= 1\n",
      "track ID. 2128 length= 1\n",
      "track ID. 2129 length= 7\n",
      "track ID. 2130 length= 119\n",
      "track ID. 2131 length= 3\n",
      "track ID. 2133 length= 2\n",
      "track ID. 2134 length= 1\n",
      "track ID. 2136 length= 116\n",
      "track ID. 2137 length= 5\n",
      "track ID. 2138 length= 1\n",
      "track ID. 2142 length= 1\n",
      "track ID. 2140 length= 25\n",
      "track ID. 2141 length= 1\n",
      "track ID. 2143 length= 1\n",
      "track ID. 2144 length= 1\n",
      "track ID. 2145 length= 1\n",
      "track ID. 2146 length= 3\n",
      "track ID. 2147 length= 4\n",
      "track ID. 2149 length= 108\n",
      "track ID. 2150 length= 1\n",
      "track ID. 2151 length= 109\n",
      "track ID. 2152 length= 1\n",
      "track ID. 2153 length= 109\n",
      "track ID. 2154 length= 1\n",
      "track ID. 2155 length= 4\n",
      "track ID. 2156 length= 104\n",
      "track ID. 2158 length= 3\n",
      "track ID. 2157 length= 103\n",
      "track ID. 2159 length= 1\n",
      "track ID. 2161 length= 1\n",
      "track ID. 2162 length= 101\n",
      "track ID. 2163 length= 1\n",
      "track ID. 2164 length= 1\n",
      "track ID. 2165 length= 10\n",
      "track ID. 2167 length= 20\n",
      "track ID. 2168 length= 1\n",
      "track ID. 2171 length= 34\n",
      "track ID. 2170 length= 2\n",
      "track ID. 2169 length= 98\n",
      "track ID. 2172 length= 1\n",
      "track ID. 2173 length= 1\n",
      "track ID. 2174 length= 76\n",
      "track ID. 2175 length= 3\n",
      "track ID. 2177 length= 1\n",
      "track ID. 2176 length= 1\n",
      "track ID. 2178 length= 1\n",
      "track ID. 2181 length= 1\n",
      "track ID. 2180 length= 1\n",
      "track ID. 2182 length= 3\n",
      "track ID. 2183 length= 3\n",
      "track ID. 2184 length= 1\n",
      "track ID. 2185 length= 1\n",
      "track ID. 2186 length= 1\n",
      "track ID. 2187 length= 87\n",
      "track ID. 2188 length= 1\n",
      "track ID. 2189 length= 1\n",
      "track ID. 2190 length= 2\n",
      "track ID. 2191 length= 1\n",
      "track ID. 2192 length= 1\n",
      "track ID. 2193 length= 84\n",
      "track ID. 2194 length= 83\n",
      "track ID. 2195 length= 62\n",
      "track ID. 2196 length= 1\n",
      "track ID. 2197 length= 79\n",
      "track ID. 2198 length= 9\n",
      "track ID. 2199 length= 1\n",
      "track ID. 2200 length= 1\n",
      "track ID. 2201 length= 4\n",
      "track ID. 2202 length= 1\n",
      "track ID. 2203 length= 1\n",
      "track ID. 2205 length= 72\n",
      "track ID. 2206 length= 1\n",
      "track ID. 2207 length= 4\n",
      "track ID. 2208 length= 4\n",
      "track ID. 2209 length= 24\n",
      "track ID. 2210 length= 68\n",
      "track ID. 2213 length= 18\n",
      "track ID. 2212 length= 67\n",
      "track ID. 2211 length= 1\n",
      "track ID. 2214 length= 65\n",
      "track ID. 2216 length= 1\n",
      "track ID. 2217 length= 2\n",
      "track ID. 2219 length= 63\n",
      "track ID. 2220 length= 14\n",
      "track ID. 2221 length= 1\n",
      "track ID. 2222 length= 1\n",
      "track ID. 2224 length= 1\n",
      "track ID. 2225 length= 43\n",
      "track ID. 2226 length= 57\n",
      "track ID. 2227 length= 5\n",
      "track ID. 2229 length= 55\n",
      "track ID. 2232 length= 1\n",
      "track ID. 2231 length= 1\n",
      "track ID. 2230 length= 5\n",
      "track ID. 2235 length= 3\n",
      "track ID. 2236 length= 4\n",
      "track ID. 2237 length= 1\n",
      "track ID. 2238 length= 1\n",
      "track ID. 2239 length= 49\n",
      "track ID. 2240 length= 1\n",
      "track ID. 2241 length= 2\n",
      "track ID. 2242 length= 1\n",
      "track ID. 2243 length= 49\n",
      "track ID. 2244 length= 1\n",
      "track ID. 2245 length= 48\n",
      "track ID. 2247 length= 2\n",
      "track ID. 2251 length= 46\n",
      "track ID. 2249 length= 33\n",
      "track ID. 2248 length= 46\n",
      "track ID. 2250 length= 13\n",
      "track ID. 2253 length= 26\n",
      "track ID. 2255 length= 4\n",
      "track ID. 2256 length= 12\n",
      "track ID. 2257 length= 1\n",
      "track ID. 2258 length= 8\n",
      "track ID. 2260 length= 2\n",
      "track ID. 2261 length= 2\n",
      "track ID. 2262 length= 1\n",
      "track ID. 2264 length= 1\n",
      "track ID. 2265 length= 1\n",
      "track ID. 2267 length= 1\n",
      "track ID. 2268 length= 3\n",
      "track ID. 2271 length= 1\n",
      "track ID. 2272 length= 33\n",
      "track ID. 2274 length= 5\n",
      "track ID. 2275 length= 10\n",
      "track ID. 2276 length= 22\n",
      "track ID. 2277 length= 2\n",
      "track ID. 2278 length= 5\n",
      "track ID. 2279 length= 21\n",
      "track ID. 2280 length= 2\n",
      "track ID. 2281 length= 1\n",
      "track ID. 2282 length= 1\n",
      "track ID. 2283 length= 1\n",
      "track ID. 2284 length= 4\n",
      "track ID. 2285 length= 4\n",
      "track ID. 2286 length= 21\n",
      "track ID. 2287 length= 1\n",
      "track ID. 2288 length= 21\n",
      "track ID. 2289 length= 7\n",
      "track ID. 2291 length= 2\n",
      "track ID. 2290 length= 2\n",
      "track ID. 2292 length= 17\n",
      "track ID. 2293 length= 16\n",
      "track ID. 2294 length= 4\n",
      "track ID. 2295 length= 5\n",
      "track ID. 2296 length= 11\n",
      "track ID. 2297 length= 1\n",
      "track ID. 2298 length= 4\n",
      "track ID. 2299 length= 1\n",
      "track ID. 2300 length= 14\n",
      "track ID. 2301 length= 1\n",
      "track ID. 2302 length= 13\n",
      "track ID. 2303 length= 1\n",
      "track ID. 2307 length= 2\n",
      "track ID. 2311 length= 7\n",
      "track ID. 2309 length= 2\n",
      "track ID. 2308 length= 2\n",
      "track ID. 2306 length= 1\n",
      "track ID. 2305 length= 1\n",
      "track ID. 2312 length= 1\n",
      "track ID. 2313 length= 1\n",
      "track ID. 2315 length= 5\n",
      "track ID. 2316 length= 3\n",
      "track ID. 2317 length= 3\n",
      "track ID. 2318 length= 3\n",
      "track ID. 2319 length= 1\n",
      "track ID. 2320 length= 2\n",
      "track ID. 2321 length= 1\n",
      "track ID. 2322 length= 1\n",
      "track ID. 2323 length= 1\n"
     ]
    }
   ],
   "source": [
    "### length of tracks \n",
    "for i in range(len(tracks)):\n",
    "    print(\"track ID.\", tracks[i].ID,\"length=\", len(tracks[i]))"
   ]
  },
  {
   "cell_type": "markdown",
   "metadata": {},
   "source": [
    "Histogram of track lengths"
   ]
  },
  {
   "cell_type": "code",
   "execution_count": 227,
   "metadata": {},
   "outputs": [
    {
     "name": "stdout",
     "output_type": "stream",
     "text": [
      "1092\n"
     ]
    },
    {
     "data": {
      "image/png": "[encoded data removed]",
      "text/plain": [
       "<Figure size 432x288 with 1 Axes>"
      ]
     },
     "metadata": {
      "needs_background": "light"
     },
     "output_type": "display_data"
    }
   ],
   "source": [
    "#size, scale = 1000, 10\n",
    "track_lengths = [len(track) for track in tracks] \n",
    "tracks_df = pd.Series(track_lengths)\n",
    "print(max(tracks_df))\n",
    "\n",
    "tracks_df.plot.hist(grid=True, bins=25, rwidth=0.9,\n",
    "                   color='#607c8e')\n",
    "title = 'Distribution of track lengths cellpose'\n",
    "plt.title(title)\n",
    "plt.xlabel('Track length')\n",
    "plt.ylabel('Frequency')\n",
    "plt.grid(axis='y', alpha=0.75)"
   ]
  },
  {
   "cell_type": "markdown",
   "metadata": {},
   "source": [
    "### Filter track lengths if desired"
   ]
  },
  {
   "cell_type": "code",
   "execution_count": 10,
   "metadata": {},
   "outputs": [
    {
     "name": "stdout",
     "output_type": "stream",
     "text": [
      "ID =  72 / Length =  1091\n",
      "ID =  70 / Length =  386\n",
      "ID =  68 / Length =  349\n",
      "ID =  64 / Length =  629\n",
      "ID =  57 / Length =  865\n",
      "ID =  54 / Length =  602\n",
      "ID =  101 / Length =  558\n",
      "ID =  94 / Length =  609\n",
      "ID =  2 / Length =  591\n",
      "ID =  86 / Length =  201\n",
      "ID =  85 / Length =  682\n",
      "ID =  20 / Length =  719\n",
      "ID =  18 / Length =  379\n",
      "ID =  16 / Length =  803\n",
      "ID =  10 / Length =  227\n",
      "ID =  7 / Length =  534\n",
      "ID =  5 / Length =  756\n",
      "ID =  28 / Length =  664\n",
      "ID =  50 / Length =  425\n",
      "ID =  49 / Length =  554\n",
      "ID =  48 / Length =  239\n",
      "ID =  46 / Length =  1092\n",
      "ID =  43 / Length =  575\n",
      "ID =  115 / Length =  340\n",
      "ID =  146 / Length =  243\n",
      "ID =  161 / Length =  581\n",
      "ID =  164 / Length =  762\n",
      "ID =  167 / Length =  495\n",
      "ID =  172 / Length =  682\n",
      "ID =  173 / Length =  573\n",
      "ID =  180 / Length =  331\n",
      "ID =  182 / Length =  1062\n",
      "ID =  189 / Length =  612\n",
      "ID =  197 / Length =  528\n",
      "ID =  221 / Length =  246\n",
      "ID =  229 / Length =  495\n",
      "ID =  234 / Length =  498\n",
      "ID =  239 / Length =  1030\n",
      "ID =  241 / Length =  399\n",
      "ID =  244 / Length =  294\n",
      "ID =  245 / Length =  452\n",
      "ID =  247 / Length =  386\n",
      "ID =  257 / Length =  528\n",
      "ID =  260 / Length =  714\n",
      "ID =  273 / Length =  355\n",
      "ID =  267 / Length =  556\n",
      "ID =  276 / Length =  412\n",
      "ID =  310 / Length =  469\n",
      "ID =  322 / Length =  443\n",
      "ID =  324 / Length =  201\n",
      "ID =  330 / Length =  711\n",
      "ID =  331 / Length =  543\n",
      "ID =  339 / Length =  441\n",
      "ID =  346 / Length =  409\n",
      "ID =  351 / Length =  584\n",
      "ID =  368 / Length =  642\n",
      "ID =  369 / Length =  227\n",
      "ID =  374 / Length =  566\n",
      "ID =  383 / Length =  464\n",
      "ID =  387 / Length =  266\n",
      "ID =  395 / Length =  616\n",
      "ID =  402 / Length =  328\n",
      "ID =  414 / Length =  857\n",
      "ID =  417 / Length =  322\n",
      "ID =  429 / Length =  466\n",
      "ID =  435 / Length =  392\n",
      "ID =  432 / Length =  466\n",
      "ID =  431 / Length =  498\n",
      "ID =  439 / Length =  535\n",
      "ID =  441 / Length =  938\n",
      "ID =  445 / Length =  493\n",
      "ID =  446 / Length =  526\n",
      "ID =  447 / Length =  245\n",
      "ID =  448 / Length =  527\n",
      "ID =  449 / Length =  440\n",
      "ID =  451 / Length =  532\n",
      "ID =  458 / Length =  577\n",
      "ID =  461 / Length =  357\n",
      "ID =  465 / Length =  445\n",
      "ID =  477 / Length =  543\n",
      "ID =  482 / Length =  495\n",
      "ID =  488 / Length =  288\n",
      "ID =  503 / Length =  756\n",
      "ID =  509 / Length =  303\n",
      "ID =  513 / Length =  513\n",
      "ID =  524 / Length =  379\n",
      "ID =  540 / Length =  352\n",
      "ID =  541 / Length =  495\n",
      "ID =  543 / Length =  509\n",
      "ID =  544 / Length =  403\n",
      "ID =  545 / Length =  565\n",
      "ID =  552 / Length =  347\n",
      "ID =  557 / Length =  458\n",
      "ID =  562 / Length =  535\n",
      "ID =  570 / Length =  879\n",
      "ID =  575 / Length =  314\n",
      "ID =  582 / Length =  356\n",
      "ID =  589 / Length =  515\n",
      "ID =  599 / Length =  528\n",
      "ID =  615 / Length =  408\n",
      "ID =  626 / Length =  480\n",
      "ID =  632 / Length =  324\n",
      "ID =  628 / Length =  227\n",
      "ID =  640 / Length =  846\n",
      "ID =  659 / Length =  838\n",
      "ID =  669 / Length =  671\n",
      "ID =  672 / Length =  432\n",
      "ID =  688 / Length =  318\n",
      "ID =  722 / Length =  592\n",
      "ID =  720 / Length =  413\n",
      "ID =  714 / Length =  618\n",
      "ID =  713 / Length =  815\n",
      "ID =  712 / Length =  612\n",
      "ID =  723 / Length =  410\n",
      "ID =  727 / Length =  810\n",
      "ID =  740 / Length =  435\n",
      "ID =  748 / Length =  804\n",
      "ID =  750 / Length =  355\n",
      "ID =  763 / Length =  664\n",
      "ID =  787 / Length =  262\n",
      "ID =  802 / Length =  327\n",
      "ID =  805 / Length =  391\n",
      "ID =  816 / Length =  414\n",
      "ID =  817 / Length =  748\n",
      "ID =  821 / Length =  360\n",
      "ID =  838 / Length =  241\n",
      "ID =  839 / Length =  690\n",
      "ID =  850 / Length =  280\n",
      "ID =  851 / Length =  222\n",
      "ID =  863 / Length =  326\n",
      "ID =  866 / Length =  399\n",
      "ID =  888 / Length =  633\n",
      "ID =  891 / Length =  372\n",
      "ID =  892 / Length =  586\n",
      "ID =  914 / Length =  467\n",
      "ID =  927 / Length =  342\n",
      "ID =  940 / Length =  311\n",
      "ID =  945 / Length =  324\n",
      "ID =  946 / Length =  300\n",
      "ID =  948 / Length =  688\n",
      "ID =  954 / Length =  523\n",
      "ID =  952 / Length =  345\n",
      "ID =  959 / Length =  467\n",
      "ID =  963 / Length =  250\n",
      "ID =  971 / Length =  676\n",
      "ID =  981 / Length =  455\n",
      "ID =  987 / Length =  277\n",
      "ID =  993 / Length =  222\n",
      "ID =  1014 / Length =  499\n",
      "ID =  1018 / Length =  261\n",
      "ID =  1025 / Length =  463\n",
      "ID =  1040 / Length =  351\n",
      "ID =  1082 / Length =  392\n",
      "ID =  1085 / Length =  456\n",
      "ID =  1088 / Length =  573\n",
      "ID =  1089 / Length =  572\n",
      "ID =  1094 / Length =  290\n",
      "ID =  1095 / Length =  207\n",
      "ID =  1098 / Length =  482\n",
      "ID =  1100 / Length =  236\n",
      "ID =  1132 / Length =  550\n",
      "ID =  1233 / Length =  486\n",
      "ID =  1238 / Length =  430\n",
      "ID =  1258 / Length =  472\n",
      "ID =  1263 / Length =  471\n",
      "ID =  1268 / Length =  466\n",
      "ID =  1284 / Length =  460\n",
      "ID =  1280 / Length =  460\n",
      "ID =  1289 / Length =  458\n",
      "ID =  1303 / Length =  450\n",
      "ID =  1306 / Length =  448\n",
      "ID =  1309 / Length =  447\n",
      "ID =  1314 / Length =  446\n",
      "ID =  1316 / Length =  446\n",
      "ID =  1322 / Length =  443\n",
      "ID =  1323 / Length =  347\n",
      "ID =  1325 / Length =  442\n",
      "ID =  1326 / Length =  441\n",
      "ID =  1331 / Length =  437\n",
      "ID =  1334 / Length =  436\n",
      "ID =  1335 / Length =  436\n",
      "ID =  1337 / Length =  435\n",
      "ID =  1340 / Length =  396\n",
      "ID =  1347 / Length =  431\n",
      "ID =  1348 / Length =  431\n",
      "ID =  1349 / Length =  431\n",
      "ID =  1350 / Length =  429\n",
      "ID =  1355 / Length =  427\n",
      "ID =  1364 / Length =  421\n",
      "ID =  1365 / Length =  412\n",
      "ID =  1372 / Length =  418\n",
      "ID =  1389 / Length =  411\n",
      "ID =  1391 / Length =  409\n",
      "ID =  1393 / Length =  408\n",
      "ID =  1395 / Length =  407\n",
      "ID =  1401 / Length =  403\n",
      "ID =  1409 / Length =  369\n",
      "ID =  1411 / Length =  312\n",
      "ID =  1412 / Length =  399\n",
      "ID =  1420 / Length =  396\n",
      "ID =  1422 / Length =  395\n",
      "ID =  1424 / Length =  249\n",
      "ID =  1427 / Length =  393\n",
      "ID =  1430 / Length =  391\n",
      "ID =  1432 / Length =  391\n",
      "ID =  1434 / Length =  390\n",
      "ID =  1437 / Length =  390\n",
      "ID =  1446 / Length =  387\n",
      "ID =  1447 / Length =  387\n",
      "ID =  1450 / Length =  387\n",
      "ID =  1452 / Length =  385\n",
      "ID =  1464 / Length =  383\n",
      "ID =  1466 / Length =  382\n",
      "ID =  1468 / Length =  382\n",
      "ID =  1470 / Length =  381\n",
      "ID =  1473 / Length =  379\n",
      "ID =  1483 / Length =  376\n",
      "ID =  1484 / Length =  376\n",
      "ID =  1490 / Length =  373\n",
      "ID =  1494 / Length =  372\n",
      "ID =  1505 / Length =  228\n",
      "ID =  1515 / Length =  366\n",
      "ID =  1534 / Length =  358\n",
      "ID =  1541 / Length =  356\n",
      "ID =  1544 / Length =  355\n",
      "ID =  1545 / Length =  354\n",
      "ID =  1546 / Length =  354\n",
      "ID =  1556 / Length =  349\n",
      "ID =  1558 / Length =  348\n",
      "ID =  1569 / Length =  346\n",
      "ID =  1564 / Length =  346\n",
      "ID =  1572 / Length =  345\n",
      "ID =  1573 / Length =  345\n",
      "ID =  1574 / Length =  345\n",
      "ID =  1588 / Length =  339\n",
      "ID =  1590 / Length =  338\n",
      "ID =  1611 / Length =  328\n",
      "ID =  1619 / Length =  302\n",
      "ID =  1644 / Length =  318\n",
      "ID =  1646 / Length =  318\n",
      "ID =  1647 / Length =  317\n",
      "ID =  1651 / Length =  315\n",
      "ID =  1653 / Length =  315\n",
      "ID =  1654 / Length =  315\n",
      "ID =  1655 / Length =  314\n",
      "ID =  1664 / Length =  313\n",
      "ID =  1665 / Length =  313\n",
      "ID =  1666 / Length =  313\n",
      "ID =  1667 / Length =  313\n",
      "ID =  1676 / Length =  311\n",
      "ID =  1681 / Length =  208\n",
      "ID =  1684 / Length =  308\n",
      "ID =  1694 / Length =  307\n",
      "ID =  1691 / Length =  307\n",
      "ID =  1697 / Length =  305\n",
      "ID =  1699 / Length =  305\n",
      "ID =  1702 / Length =  303\n",
      "ID =  1703 / Length =  302\n",
      "ID =  1709 / Length =  301\n",
      "ID =  1718 / Length =  298\n",
      "ID =  1721 / Length =  297\n",
      "ID =  1726 / Length =  295\n",
      "ID =  1736 / Length =  294\n",
      "ID =  1731 / Length =  294\n",
      "ID =  1727 / Length =  294\n",
      "ID =  1738 / Length =  292\n",
      "ID =  1748 / Length =  290\n",
      "ID =  1749 / Length =  289\n",
      "ID =  1760 / Length =  285\n",
      "ID =  1762 / Length =  284\n",
      "ID =  1766 / Length =  283\n",
      "ID =  1772 / Length =  281\n",
      "ID =  1777 / Length =  279\n",
      "ID =  1781 / Length =  277\n",
      "ID =  1785 / Length =  276\n",
      "ID =  1787 / Length =  276\n",
      "ID =  1790 / Length =  276\n",
      "ID =  1799 / Length =  270\n",
      "ID =  1801 / Length =  263\n",
      "ID =  1805 / Length =  270\n",
      "ID =  1811 / Length =  268\n",
      "ID =  1808 / Length =  249\n",
      "ID =  1817 / Length =  266\n",
      "ID =  1825 / Length =  264\n",
      "ID =  1826 / Length =  248\n",
      "ID =  1833 / Length =  263\n",
      "ID =  1834 / Length =  262\n",
      "ID =  1835 / Length =  260\n",
      "ID =  1839 / Length =  259\n",
      "ID =  1842 / Length =  258\n",
      "ID =  1844 / Length =  257\n",
      "ID =  1845 / Length =  206\n",
      "ID =  1854 / Length =  254\n",
      "ID =  1862 / Length =  250\n",
      "ID =  1863 / Length =  249\n",
      "ID =  1864 / Length =  249\n",
      "ID =  1869 / Length =  247\n",
      "ID =  1874 / Length =  242\n",
      "ID =  1883 / Length =  243\n",
      "ID =  1891 / Length =  240\n",
      "ID =  1894 / Length =  239\n",
      "ID =  1896 / Length =  238\n",
      "ID =  1897 / Length =  238\n",
      "ID =  1900 / Length =  237\n",
      "ID =  1913 / Length =  234\n",
      "ID =  1920 / Length =  232\n",
      "ID =  1916 / Length =  232\n",
      "ID =  1924 / Length =  231\n",
      "ID =  1932 / Length =  225\n",
      "ID =  1934 / Length =  224\n",
      "ID =  1938 / Length =  223\n",
      "ID =  1939 / Length =  223\n",
      "ID =  1944 / Length =  220\n",
      "ID =  1945 / Length =  220\n",
      "ID =  1949 / Length =  220\n",
      "ID =  1953 / Length =  219\n",
      "ID =  1963 / Length =  215\n",
      "ID =  1964 / Length =  214\n",
      "ID =  1965 / Length =  214\n",
      "ID =  1974 / Length =  210\n",
      "ID =  1977 / Length =  210\n",
      "ID =  1989 / Length =  205\n",
      "ID =  1994 / Length =  204\n"
     ]
    }
   ],
   "source": [
    "filtered_tracks = [track for track in tracks if len(track) > 200] #excludes track lengths below 1000 frames\n",
    "track_lengths = [len(track) for track in filtered_tracks] \n",
    "track_IDs = [track.ID for track in filtered_tracks] \n",
    "\n",
    "for i in range(len(track_lengths)):\n",
    "    print(\"ID = \", track_IDs[i], \"/ Length = \", track_lengths[i])"
   ]
  },
  {
   "cell_type": "markdown",
   "metadata": {},
   "source": [
    "# The _NUMBER CRUNCH_ zone"
   ]
  },
  {
   "cell_type": "markdown",
   "metadata": {},
   "source": [
    "#### Data output directory creation "
   ]
  },
  {
   "cell_type": "code",
   "execution_count": 11,
   "metadata": {},
   "outputs": [],
   "source": [
    "mask_type = \"cellpose_nuclear\" # important to specify the origin of the masks so that results are printed correctly"
   ]
  },
  {
   "cell_type": "code",
   "execution_count": 12,
   "metadata": {},
   "outputs": [
    {
     "name": "stdout",
     "output_type": "stream",
     "text": [
      "Directory  /home/nathan/data/fucci/fucci1_171201/stats  already exists\n",
      "Directory  /home/nathan/data/fucci/fucci1_171201/stats/cellpose_nuclear  already exists\n"
     ]
    }
   ],
   "source": [
    "### DIRECTORY CREATION ###\n",
    "stats_dir = os.path.join(root_path, 'stats') \n",
    "try:\n",
    "# Create target Directory\n",
    "    os.mkdir(stats_dir)\n",
    "    print(\"Directory \" , stats_dir ,  \" Created \") \n",
    "except FileExistsError:\n",
    "    print(\"Directory \" , stats_dir ,  \" already exists\")\n",
    "mask_type_stats_dir = os.path.join(stats_dir, mask_type) \n",
    "try:\n",
    "# Create target Directory\n",
    "    os.mkdir(mask_type_stats_dir)\n",
    "    print(\"Directory \" , mask_type_stats_dir ,  \" Created \") \n",
    "except FileExistsError:\n",
    "    print(\"Directory \" , mask_type_stats_dir ,  \" already exists\")    "
   ]
  },
  {
   "cell_type": "markdown",
   "metadata": {},
   "source": [
    "## Calculations"
   ]
  },
  {
   "cell_type": "code",
   "execution_count": 49,
   "metadata": {},
   "outputs": [
    {
     "name": "stdout",
     "output_type": "stream",
     "text": [
      "Total calculation progress bar below (n/N cells):\n"
     ]
    },
    {
     "data": {
      "application/vnd.jupyter.widget-view+json": {
       "model_id": "783e67491e2548e784af114f563c7369",
       "version_major": 2,
       "version_minor": 0
      },
      "text/plain": [
       "HBox(children=(FloatProgress(value=0.0, max=323.0), HTML(value='')))"
      ]
     },
     "metadata": {},
     "output_type": "display_data"
    },
    {
     "name": "stdout",
     "output_type": "stream",
     "text": [
      "cell ID =  72 progress bar below: (n/N frames):\n"
     ]
    },
    {
     "data": {
      "application/vnd.jupyter.widget-view+json": {
       "model_id": "2247b6755f554e38825f9f5d76d5d438",
       "version_major": 2,
       "version_minor": 0
      },
      "text/plain": [
       "HBox(children=(FloatProgress(value=0.0, max=1091.0), HTML(value='')))"
      ]
     },
     "metadata": {},
     "output_type": "display_data"
    },
    {
     "name": "stdout",
     "output_type": "stream",
     "text": [
      "\n",
      "     Cell ID Frame GFP Intensity RFP Intensity Phase Intensity  Area   x    y  \\\n",
      "0         72     0        296584        311323        21040923  1438  55  322   \n",
      "1         72     1        151499        164182        11438713   725  49  318   \n",
      "2         72     2        379368        393059        25157225  1769  45  316   \n",
      "3         72     3        273897        299168        17484164  1287  38  313   \n",
      "4         72     4        313723        332988        20291385  1452  33  316   \n",
      "...      ...   ...           ...           ...             ...   ...  ..  ...   \n",
      "1086      72  1087       1535180       4354609        50560414  4303  62  523   \n",
      "1087      72  1088       1525943       4244277        51565350  4290  60  523   \n",
      "1088      72  1089       1516569       4371062        51917161  4288  60  525   \n",
      "1089      72  1090       1502093       4247825        49146113  4161  60  525   \n",
      "1090      72  1091       1562903       4384909        49148637  4295  60  525   \n",
      "\n",
      "                          mask_fn  \n",
      "0     s_0001_fucci_merge_gray.tif  \n",
      "1     s_0002_fucci_merge_gray.tif  \n",
      "2     s_0003_fucci_merge_gray.tif  \n",
      "3     s_0004_fucci_merge_gray.tif  \n",
      "4     s_0005_fucci_merge_gray.tif  \n",
      "...                           ...  \n",
      "1086  s_1088_fucci_merge_gray.tif  \n",
      "1087  s_1089_fucci_merge_gray.tif  \n",
      "1088  s_1090_fucci_merge_gray.tif  \n",
      "1089  s_1091_fucci_merge_gray.tif  \n",
      "1090  s_1092_fucci_merge_gray.tif  \n",
      "\n",
      "[1091 rows x 9 columns]\n",
      "cell ID =  70 progress bar below: (n/N frames):\n"
     ]
    },
    {
     "data": {
      "application/vnd.jupyter.widget-view+json": {
       "model_id": "1cbb4f86c96445c7aea7d6a6e15bf5e8",
       "version_major": 2,
       "version_minor": 0
      },
      "text/plain": [
       "HBox(children=(FloatProgress(value=0.0, max=386.0), HTML(value='')))"
      ]
     },
     "metadata": {},
     "output_type": "display_data"
    },
    {
     "name": "stdout",
     "output_type": "stream",
     "text": [
      "\n",
      "    Cell ID Frame GFP Intensity RFP Intensity Phase Intensity  Area   x    y  \\\n",
      "0        70     0        359938        393427        24926544  1606  73  536   \n",
      "1        70     1        369932        414124        26649463  1593  70  533   \n",
      "2        70     2        434965        457531        28061373  1852  63  533   \n",
      "3        70     3        423687        459789        26224623  1814  57  534   \n",
      "4        70     4        434342        461036        28216915  1850  52  540   \n",
      "..      ...   ...           ...           ...             ...   ...  ..  ...   \n",
      "381      70   381       1713883        374963       104983497  3529  29  600   \n",
      "382      70   382       1682156        373016       107811538  3475  27  600   \n",
      "383      70   383       1505319        341891        96670785  3175  25  602   \n",
      "384      70   384       1164373        266229        78590431  2502  24  603   \n",
      "385      70   385        525872        145244        40188427  1363  40  605   \n",
      "\n",
      "                         mask_fn  \n",
      "0    s_0001_fucci_merge_gray.tif  \n",
      "1    s_0002_fucci_merge_gray.tif  \n",
      "2    s_0003_fucci_merge_gray.tif  \n",
      "3    s_0004_fucci_merge_gray.tif  \n",
      "4    s_0005_fucci_merge_gray.tif  \n",
      "..                           ...  \n",
      "381  s_0382_fucci_merge_gray.tif  \n",
      "382  s_0383_fucci_merge_gray.tif  \n",
      "383  s_0384_fucci_merge_gray.tif  \n",
      "384  s_0385_fucci_merge_gray.tif  \n",
      "385  s_0386_fucci_merge_gray.tif  \n",
      "\n",
      "[386 rows x 9 columns]\n",
      "cell ID =  68 progress bar below: (n/N frames):\n"
     ]
    },
    {
     "data": {
      "application/vnd.jupyter.widget-view+json": {
       "model_id": "75cf1575fde644ddb7d5e4fef4d5c712",
       "version_major": 2,
       "version_minor": 0
      },
      "text/plain": [
       "HBox(children=(FloatProgress(value=0.0, max=349.0), HTML(value='')))"
      ]
     },
     "metadata": {},
     "output_type": "display_data"
    },
    {
     "name": "stdout",
     "output_type": "stream",
     "text": [
      "\n",
      "    Cell ID Frame GFP Intensity RFP Intensity Phase Intensity Area   x    y  \\\n",
      "0        68     0        236908        216817        21770889  980  91  860   \n",
      "1        68     1        166641        154566        15638543  684  89  853   \n",
      "2        68     2        239171        216984        22522371  934  85  853   \n",
      "3        68     3        171675        161218        16050145  678  80  849   \n",
      "4        68     4        178249        172571        17588745  693  78  850   \n",
      "..      ...   ...           ...           ...             ...  ...  ..  ...   \n",
      "344      68   344         42690         40380         5066240  158   4  761   \n",
      "345      68   345         48200         48102         5232062  171   4  759   \n",
      "346      68   346             0             0               0    0   3  758   \n",
      "347      68   347             0             0               0    0   2  757   \n",
      "348      68   348         42573         43005         4969631  149   3  760   \n",
      "\n",
      "                         mask_fn  \n",
      "0    s_0001_fucci_merge_gray.tif  \n",
      "1    s_0002_fucci_merge_gray.tif  \n",
      "2    s_0003_fucci_merge_gray.tif  \n",
      "3    s_0004_fucci_merge_gray.tif  \n",
      "4    s_0005_fucci_merge_gray.tif  \n",
      "..                           ...  \n",
      "344  s_0345_fucci_merge_gray.tif  \n",
      "345  s_0346_fucci_merge_gray.tif  \n",
      "346  s_0347_fucci_merge_gray.tif  \n",
      "347  s_0348_fucci_merge_gray.tif  \n",
      "348  s_0349_fucci_merge_gray.tif  \n",
      "\n",
      "[349 rows x 9 columns]\n",
      "cell ID =  64 progress bar below: (n/N frames):\n"
     ]
    },
    {
     "data": {
      "application/vnd.jupyter.widget-view+json": {
       "model_id": "7970d2b58c424a28bdd2b797458d3258",
       "version_major": 2,
       "version_minor": 0
      },
      "text/plain": [
       "HBox(children=(FloatProgress(value=0.0, max=629.0), HTML(value='')))"
      ]
     },
     "metadata": {},
     "output_type": "display_data"
    },
    {
     "name": "stdout",
     "output_type": "stream",
     "text": [
      "\n",
      "    Cell ID Frame GFP Intensity RFP Intensity Phase Intensity Area    x    y  \\\n",
      "0        64     0        207231        182471        15848996  782  116  667   \n",
      "1        64     1        177363        161881        13710659  658  112  668   \n",
      "2        64     2        201899        178198        14568588  727  106  665   \n",
      "3        64     3        193902        180932        14196546  709  100  662   \n",
      "4        64     4        198305        185955        15415180  717   96  663   \n",
      "..      ...   ...           ...           ...             ...  ...  ...  ...   \n",
      "624      64   624        168401        173653        19977682  868   43  724   \n",
      "625      64   625        164904        162829        19535820  848   42  724   \n",
      "626      64   626        141878        144643        16794747  727   42  726   \n",
      "627      64   627        175729        171727        23624494  879   39  730   \n",
      "628      64   628        146959        135112        22587268  730   44  735   \n",
      "\n",
      "                         mask_fn  \n",
      "0    s_0001_fucci_merge_gray.tif  \n",
      "1    s_0002_fucci_merge_gray.tif  \n",
      "2    s_0003_fucci_merge_gray.tif  \n",
      "3    s_0004_fucci_merge_gray.tif  \n",
      "4    s_0005_fucci_merge_gray.tif  \n",
      "..                           ...  \n",
      "624  s_0625_fucci_merge_gray.tif  \n",
      "625  s_0626_fucci_merge_gray.tif  \n",
      "626  s_0627_fucci_merge_gray.tif  \n",
      "627  s_0628_fucci_merge_gray.tif  \n",
      "628  s_0629_fucci_merge_gray.tif  \n",
      "\n",
      "[629 rows x 9 columns]\n",
      "cell ID =  57 progress bar below: (n/N frames):\n"
     ]
    },
    {
     "data": {
      "application/vnd.jupyter.widget-view+json": {
       "model_id": "49fb6ad975804622ab9ab54584e1e28c",
       "version_major": 2,
       "version_minor": 0
      },
      "text/plain": [
       "HBox(children=(FloatProgress(value=0.0, max=865.0), HTML(value='')))"
      ]
     },
     "metadata": {},
     "output_type": "display_data"
    },
    {
     "name": "stdout",
     "output_type": "stream",
     "text": [
      "\n",
      "    Cell ID Frame GFP Intensity RFP Intensity Phase Intensity  Area    x    y  \\\n",
      "0        57     0        230845        237428        22690326  1119  206  471   \n",
      "1        57     1        174617        178520        16322405   825  206  473   \n",
      "2        57     2        242701        252367        20791922  1129  203  478   \n",
      "3        57     3        222711        227521        19480499  1058  200  481   \n",
      "4        57     4        226837        243433        19849968  1068  199  485   \n",
      "..      ...   ...           ...           ...             ...   ...  ...  ...   \n",
      "860      57   860       3127487        529491       140248472  4818  320  820   \n",
      "861      57   861       2717427        480163       130306427  4380  321  822   \n",
      "862      57   862       2692970        498690       133947327  4474  322  821   \n",
      "863      57   863       2527593        474393       128831243  4310  320  820   \n",
      "864      57   864       1950585        375514       107331902  3434  322  821   \n",
      "\n",
      "                         mask_fn  \n",
      "0    s_0001_fucci_merge_gray.tif  \n",
      "1    s_0002_fucci_merge_gray.tif  \n",
      "2    s_0003_fucci_merge_gray.tif  \n",
      "3    s_0004_fucci_merge_gray.tif  \n",
      "4    s_0005_fucci_merge_gray.tif  \n",
      "..                           ...  \n",
      "860  s_0861_fucci_merge_gray.tif  \n",
      "861  s_0862_fucci_merge_gray.tif  \n",
      "862  s_0863_fucci_merge_gray.tif  \n",
      "863  s_0864_fucci_merge_gray.tif  \n",
      "864  s_0865_fucci_merge_gray.tif  \n",
      "\n",
      "[865 rows x 9 columns]\n",
      "cell ID =  54 progress bar below: (n/N frames):\n"
     ]
    },
    {
     "data": {
      "application/vnd.jupyter.widget-view+json": {
       "model_id": "a54c907eabec42d59bd3a01740a533e2",
       "version_major": 2,
       "version_minor": 0
      },
      "text/plain": [
       "HBox(children=(FloatProgress(value=0.0, max=602.0), HTML(value='')))"
      ]
     },
     "metadata": {},
     "output_type": "display_data"
    },
    {
     "name": "stdout",
     "output_type": "stream",
     "text": [
      "\n",
      "    Cell ID Frame GFP Intensity RFP Intensity Phase Intensity  Area    x    y  \\\n",
      "0        54     0        244745        254986        24127638  1240  233  613   \n",
      "1        54     1        238030        251082        24672161  1190  233  614   \n",
      "2        54     2        272704        282905        25729791  1319  232  617   \n",
      "3        54     3             0             0               0     0  231  619   \n",
      "4        54     4        288515        300539        28118133  1397  229  624   \n",
      "..      ...   ...           ...           ...             ...   ...  ...  ...   \n",
      "597      54   597       2127716        409956        88946742  3911  167  798   \n",
      "598      54   598       1822802        337169        78902538  3201  170  805   \n",
      "599      54   599       2127106        384000        99712380  3633  178  814   \n",
      "600      54   600       1793834        310546        87107264  2945  181  815   \n",
      "601      54   601       1769729        285939        83945792  2708  186  821   \n",
      "\n",
      "                         mask_fn  \n",
      "0    s_0001_fucci_merge_gray.tif  \n",
      "1    s_0002_fucci_merge_gray.tif  \n",
      "2    s_0003_fucci_merge_gray.tif  \n",
      "3    s_0004_fucci_merge_gray.tif  \n",
      "4    s_0005_fucci_merge_gray.tif  \n",
      "..                           ...  \n",
      "597  s_0598_fucci_merge_gray.tif  \n",
      "598  s_0599_fucci_merge_gray.tif  \n",
      "599  s_0600_fucci_merge_gray.tif  \n",
      "600  s_0601_fucci_merge_gray.tif  \n",
      "601  s_0602_fucci_merge_gray.tif  \n",
      "\n",
      "[602 rows x 9 columns]\n",
      "cell ID =  101 progress bar below: (n/N frames):\n"
     ]
    },
    {
     "data": {
      "application/vnd.jupyter.widget-view+json": {
       "model_id": "6c96d750a38948ef8c0dc346ee94ad2a",
       "version_major": 2,
       "version_minor": 0
      },
      "text/plain": [
       "HBox(children=(FloatProgress(value=0.0, max=558.0), HTML(value='')))"
      ]
     },
     "metadata": {},
     "output_type": "display_data"
    },
    {
     "name": "stdout",
     "output_type": "stream",
     "text": [
      "\n",
      "    Cell ID Frame GFP Intensity RFP Intensity Phase Intensity  Area    x    y  \\\n",
      "0       101     0         77739         96710        13583669   342  305  208   \n",
      "1       101     1         64689         81784         9705163   277  303  207   \n",
      "2       101     2         90311        109797        12473183   374  304  205   \n",
      "3       101     3         83607        100206        11057253   356  301  205   \n",
      "4       101     4         87675        109499        10478448   372  299  207   \n",
      "..      ...   ...           ...           ...             ...   ...  ...  ...   \n",
      "553     101   553       2322854        382491        97754341  3555  241  375   \n",
      "554     101   554       2345921        397163       101664225  3668  241  373   \n",
      "555     101   555       2377293        393292       104120376  3673  241  377   \n",
      "556     101   556       2334266        405680       105584997  3769  239  375   \n",
      "557     101   557       1878198        351980        92736531  3270  240  378   \n",
      "\n",
      "                         mask_fn  \n",
      "0    s_0001_fucci_merge_gray.tif  \n",
      "1    s_0002_fucci_merge_gray.tif  \n",
      "2    s_0003_fucci_merge_gray.tif  \n",
      "3    s_0004_fucci_merge_gray.tif  \n",
      "4    s_0005_fucci_merge_gray.tif  \n",
      "..                           ...  \n",
      "553  s_0554_fucci_merge_gray.tif  \n",
      "554  s_0555_fucci_merge_gray.tif  \n",
      "555  s_0556_fucci_merge_gray.tif  \n",
      "556  s_0557_fucci_merge_gray.tif  \n",
      "557  s_0558_fucci_merge_gray.tif  \n",
      "\n",
      "[558 rows x 9 columns]\n",
      "cell ID =  94 progress bar below: (n/N frames):\n"
     ]
    },
    {
     "data": {
      "application/vnd.jupyter.widget-view+json": {
       "model_id": "cfeac2c1284148c99936e30bad0357b8",
       "version_major": 2,
       "version_minor": 0
      },
      "text/plain": [
       "HBox(children=(FloatProgress(value=0.0, max=609.0), HTML(value='')))"
      ]
     },
     "metadata": {},
     "output_type": "display_data"
    },
    {
     "name": "stdout",
     "output_type": "stream",
     "text": [
      "\n",
      "    Cell ID Frame GFP Intensity RFP Intensity Phase Intensity  Area    x    y  \\\n",
      "0        94     0        209967        230513        16422698  1035  265  313   \n",
      "1        94     1             0             0               0     0  265  313   \n",
      "2        94     2        254368        269759        17725970  1200  266  300   \n",
      "3        94     3        214488        228453        15313836  1023  265  296   \n",
      "4        94     4        207907        227157        15117746   978  265  295   \n",
      "..      ...   ...           ...           ...             ...   ...  ...  ...   \n",
      "604      94   604       2571333        377544       102904820  3473  269  436   \n",
      "605      94   605       2606107        388301       107290172  3551  269  435   \n",
      "606      94   606       2273048        340254        96202492  3134  268  436   \n",
      "607      94   607       1879478        304295        84660275  2791  268  431   \n",
      "608      94   608       1889620        333847        91531340  3056  267  436   \n",
      "\n",
      "                         mask_fn  \n",
      "0    s_0001_fucci_merge_gray.tif  \n",
      "1    s_0002_fucci_merge_gray.tif  \n",
      "2    s_0003_fucci_merge_gray.tif  \n",
      "3    s_0004_fucci_merge_gray.tif  \n",
      "4    s_0005_fucci_merge_gray.tif  \n",
      "..                           ...  \n",
      "604  s_0605_fucci_merge_gray.tif  \n",
      "605  s_0606_fucci_merge_gray.tif  \n",
      "606  s_0607_fucci_merge_gray.tif  \n",
      "607  s_0608_fucci_merge_gray.tif  \n",
      "608  s_0609_fucci_merge_gray.tif  \n",
      "\n",
      "[609 rows x 9 columns]\n",
      "cell ID =  2 progress bar below: (n/N frames):\n"
     ]
    },
    {
     "data": {
      "application/vnd.jupyter.widget-view+json": {
       "model_id": "51a569ef78a14e2d91a5edfc2e746054",
       "version_major": 2,
       "version_minor": 0
      },
      "text/plain": [
       "HBox(children=(FloatProgress(value=0.0, max=591.0), HTML(value='')))"
      ]
     },
     "metadata": {},
     "output_type": "display_data"
    },
    {
     "name": "stdout",
     "output_type": "stream",
     "text": [
      "\n",
      "    Cell ID Frame GFP Intensity RFP Intensity Phase Intensity  Area    x    y  \\\n",
      "0         2     0        514980       1066441        70222177  1690  810  655   \n",
      "1         2     1        442199        932561        57451633  1388  803  645   \n",
      "2         2     2        601363       1366591        66564134  1542  800  643   \n",
      "3         2     3        512566       1141868        57836276  1395  798  642   \n",
      "4         2     4        537675       1184183        57150898  1447  795  647   \n",
      "..      ...   ...           ...           ...             ...   ...  ...  ...   \n",
      "586       2   586       4879349        619874       176772642  5742  674  807   \n",
      "587       2   587       5190709        658228       193707047  6108  674  808   \n",
      "588       2   588       4767944        603726       179647941  5597  676  808   \n",
      "589       2   589       4731995        604976       182900830  5574  676  807   \n",
      "590       2   590       4422086        597429       179587501  5507  678  807   \n",
      "\n",
      "                         mask_fn  \n",
      "0    s_0001_fucci_merge_gray.tif  \n",
      "1    s_0002_fucci_merge_gray.tif  \n",
      "2    s_0003_fucci_merge_gray.tif  \n",
      "3    s_0004_fucci_merge_gray.tif  \n",
      "4    s_0005_fucci_merge_gray.tif  \n",
      "..                           ...  \n",
      "586  s_0587_fucci_merge_gray.tif  \n",
      "587  s_0588_fucci_merge_gray.tif  \n",
      "588  s_0589_fucci_merge_gray.tif  \n",
      "589  s_0590_fucci_merge_gray.tif  \n",
      "590  s_0591_fucci_merge_gray.tif  \n",
      "\n",
      "[591 rows x 9 columns]\n",
      "cell ID =  86 progress bar below: (n/N frames):\n"
     ]
    },
    {
     "data": {
      "application/vnd.jupyter.widget-view+json": {
       "model_id": "9754b7bdb27648568f6abd48ea07312c",
       "version_major": 2,
       "version_minor": 0
      },
      "text/plain": [
       "HBox(children=(FloatProgress(value=0.0, max=201.0), HTML(value='')))"
      ]
     },
     "metadata": {},
     "output_type": "display_data"
    },
    {
     "name": "stdout",
     "output_type": "stream",
     "text": [
      "\n",
      "    Cell ID Frame GFP Intensity RFP Intensity Phase Intensity  Area    x    y  \\\n",
      "0        86     0        556265        427200        33746512  2012  436  489   \n",
      "1        86     1        559012        415684        33619878  1963  434  487   \n",
      "2        86     2        628191        473503        35973349  2187  432  486   \n",
      "3        86     3        601616        452195        35172500  2096  429  486   \n",
      "4        86     4        628199        467173        36987866  2159  427  489   \n",
      "..      ...   ...           ...           ...             ...   ...  ...  ...   \n",
      "196      86   196       1087013        263330        44145395  2514  481  765   \n",
      "197      86   197       1137557        277683        44319295  2651  477  767   \n",
      "198      86   198       1092026        279815        46549874  2684  474  768   \n",
      "199      86   199       1060837        273105        46345142  2606  470  768   \n",
      "200      86   200       1011070        264734        43018027  2532  466  768   \n",
      "\n",
      "                         mask_fn  \n",
      "0    s_0001_fucci_merge_gray.tif  \n",
      "1    s_0002_fucci_merge_gray.tif  \n",
      "2    s_0003_fucci_merge_gray.tif  \n",
      "3    s_0004_fucci_merge_gray.tif  \n",
      "4    s_0005_fucci_merge_gray.tif  \n",
      "..                           ...  \n",
      "196  s_0197_fucci_merge_gray.tif  \n",
      "197  s_0198_fucci_merge_gray.tif  \n",
      "198  s_0199_fucci_merge_gray.tif  \n",
      "199  s_0200_fucci_merge_gray.tif  \n",
      "200  s_0201_fucci_merge_gray.tif  \n",
      "\n",
      "[201 rows x 9 columns]\n",
      "cell ID =  85 progress bar below: (n/N frames):\n"
     ]
    },
    {
     "data": {
      "application/vnd.jupyter.widget-view+json": {
       "model_id": "b1b92c0807144caf8bd0c8291fc46904",
       "version_major": 2,
       "version_minor": 0
      },
      "text/plain": [
       "HBox(children=(FloatProgress(value=0.0, max=682.0), HTML(value='')))"
      ]
     },
     "metadata": {},
     "output_type": "display_data"
    },
    {
     "name": "stdout",
     "output_type": "stream",
     "text": [
      "\n",
      "    Cell ID Frame GFP Intensity RFP Intensity Phase Intensity  Area    x    y  \\\n",
      "0        85     0        174781        147718        13445166   695  455  337   \n",
      "1        85     1             0             0               0     0  455  337   \n",
      "2        85     2        184263        162324        12287317   715  456  338   \n",
      "3        85     3             0             0               0     0  456  338   \n",
      "4        85     4        332989        257168        20673512  1187  450  340   \n",
      "..      ...   ...           ...           ...             ...   ...  ...  ...   \n",
      "677      85   677        275383        239070        26064781  1223  379  525   \n",
      "678      85   678        214738        188998        21850711   949  376  524   \n",
      "679      85   679        251856        211575        31311244   968  374  524   \n",
      "680      85   680        253543        209759        32397403   949  375  522   \n",
      "681      85   681        189007        161986        25961927   711  375  521   \n",
      "\n",
      "                         mask_fn  \n",
      "0    s_0001_fucci_merge_gray.tif  \n",
      "1    s_0002_fucci_merge_gray.tif  \n",
      "2    s_0003_fucci_merge_gray.tif  \n",
      "3    s_0004_fucci_merge_gray.tif  \n",
      "4    s_0005_fucci_merge_gray.tif  \n",
      "..                           ...  \n",
      "677  s_0678_fucci_merge_gray.tif  \n",
      "678  s_0679_fucci_merge_gray.tif  \n",
      "679  s_0680_fucci_merge_gray.tif  \n",
      "680  s_0681_fucci_merge_gray.tif  \n",
      "681  s_0682_fucci_merge_gray.tif  \n",
      "\n",
      "[682 rows x 9 columns]\n",
      "cell ID =  20 progress bar below: (n/N frames):\n"
     ]
    },
    {
     "data": {
      "application/vnd.jupyter.widget-view+json": {
       "model_id": "d5bbdc0f77464238a3385f324bebe27f",
       "version_major": 2,
       "version_minor": 0
      },
      "text/plain": [
       "HBox(children=(FloatProgress(value=0.0, max=719.0), HTML(value='')))"
      ]
     },
     "metadata": {},
     "output_type": "display_data"
    },
    {
     "name": "stdout",
     "output_type": "stream",
     "text": [
      "\n",
      "    Cell ID Frame GFP Intensity RFP Intensity Phase Intensity Area    x    y  \\\n",
      "0        20     0        107565         78950         9954064  324  625  386   \n",
      "1        20     1             0             0               0    0  625  386   \n",
      "2        20     2        218103        160162        18792580  693  627  383   \n",
      "3        20     3             0             0               0    0  628  380   \n",
      "4        20     4        158778        130640        13040433  550  628  384   \n",
      "..      ...   ...           ...           ...             ...  ...  ...  ...   \n",
      "714      20   714        125510        123982        12856495  661  716  554   \n",
      "715      20   715        132706        129348        13278621  699  716  554   \n",
      "716      20   716        131235        129588        12934185  693  717  554   \n",
      "717      20   717             0             0               0    0  717  554   \n",
      "718      20   718        147550        141283        14490757  766  718  553   \n",
      "\n",
      "                         mask_fn  \n",
      "0    s_0001_fucci_merge_gray.tif  \n",
      "1    s_0002_fucci_merge_gray.tif  \n",
      "2    s_0003_fucci_merge_gray.tif  \n",
      "3    s_0004_fucci_merge_gray.tif  \n",
      "4    s_0005_fucci_merge_gray.tif  \n",
      "..                           ...  \n",
      "714  s_0715_fucci_merge_gray.tif  \n",
      "715  s_0716_fucci_merge_gray.tif  \n",
      "716  s_0717_fucci_merge_gray.tif  \n",
      "717  s_0718_fucci_merge_gray.tif  \n",
      "718  s_0719_fucci_merge_gray.tif  \n",
      "\n",
      "[719 rows x 9 columns]\n",
      "cell ID =  18 progress bar below: (n/N frames):\n"
     ]
    },
    {
     "data": {
      "application/vnd.jupyter.widget-view+json": {
       "model_id": "0f1b754b3a384111b5bd9a02f57fd921",
       "version_major": 2,
       "version_minor": 0
      },
      "text/plain": [
       "HBox(children=(FloatProgress(value=0.0, max=379.0), HTML(value='')))"
      ]
     },
     "metadata": {},
     "output_type": "display_data"
    },
    {
     "name": "stdout",
     "output_type": "stream",
     "text": [
      "\n",
      "    Cell ID Frame GFP Intensity RFP Intensity Phase Intensity Area    x    y  \\\n",
      "0        18     0        155235        141593        14506584  653  641  692   \n",
      "1        18     1        130233        119061        11286512  543  642  689   \n",
      "2        18     2        217796        192806        19328022  895  644  689   \n",
      "3        18     3        198092        176779        17759765  825  641  690   \n",
      "4        18     4        158143        133254        15339562  625  637  696   \n",
      "..      ...   ...           ...           ...             ...  ...  ...  ...   \n",
      "374      18   374             0             0               0    0  593  928   \n",
      "375      18   375        145605        135474        18637233  819  591  926   \n",
      "376      18   376        151652        137404        22855891  761  589  926   \n",
      "377      18   377        131221        107806        22080144  603  591  934   \n",
      "378      18   378        105501         74752        19275934  448  606  940   \n",
      "\n",
      "                         mask_fn  \n",
      "0    s_0001_fucci_merge_gray.tif  \n",
      "1    s_0002_fucci_merge_gray.tif  \n",
      "2    s_0003_fucci_merge_gray.tif  \n",
      "3    s_0004_fucci_merge_gray.tif  \n",
      "4    s_0005_fucci_merge_gray.tif  \n",
      "..                           ...  \n",
      "374  s_0375_fucci_merge_gray.tif  \n",
      "375  s_0376_fucci_merge_gray.tif  \n",
      "376  s_0377_fucci_merge_gray.tif  \n",
      "377  s_0378_fucci_merge_gray.tif  \n",
      "378  s_0379_fucci_merge_gray.tif  \n",
      "\n",
      "[379 rows x 9 columns]\n",
      "cell ID =  16 progress bar below: (n/N frames):\n"
     ]
    },
    {
     "data": {
      "application/vnd.jupyter.widget-view+json": {
       "model_id": "38e877dc6f3d42faa2b10f51c4d812cd",
       "version_major": 2,
       "version_minor": 0
      },
      "text/plain": [
       "HBox(children=(FloatProgress(value=0.0, max=803.0), HTML(value='')))"
      ]
     },
     "metadata": {},
     "output_type": "display_data"
    },
    {
     "name": "stdout",
     "output_type": "stream",
     "text": [
      "\n",
      "    Cell ID Frame GFP Intensity RFP Intensity Phase Intensity  Area    x    y  \\\n",
      "0        16     0        272892        372229        21957446  1213  667  187   \n",
      "1        16     1        294934        408941        21468419  1298  654  185   \n",
      "2        16     2        334327        442635        23499863  1440  640  185   \n",
      "3        16     3        357858        490270        23185368  1473  631  185   \n",
      "4        16     4        382107        538063        24037193  1569  624  188   \n",
      "..      ...   ...           ...           ...             ...   ...  ...  ...   \n",
      "798      16   798        459599        318093        37823545  1975  641  464   \n",
      "799      16   799        441209        310324        37106394  1926  640  465   \n",
      "800      16   800        413889        310348        37957204  1880  640  464   \n",
      "801      16   801        362393        283991        33407938  1691  640  464   \n",
      "802      16   802        349196        278538        34291410  1641  640  464   \n",
      "\n",
      "                         mask_fn  \n",
      "0    s_0001_fucci_merge_gray.tif  \n",
      "1    s_0002_fucci_merge_gray.tif  \n",
      "2    s_0003_fucci_merge_gray.tif  \n",
      "3    s_0004_fucci_merge_gray.tif  \n",
      "4    s_0005_fucci_merge_gray.tif  \n",
      "..                           ...  \n",
      "798  s_0799_fucci_merge_gray.tif  \n",
      "799  s_0800_fucci_merge_gray.tif  \n",
      "800  s_0801_fucci_merge_gray.tif  \n",
      "801  s_0802_fucci_merge_gray.tif  \n",
      "802  s_0803_fucci_merge_gray.tif  \n",
      "\n",
      "[803 rows x 9 columns]\n",
      "cell ID =  10 progress bar below: (n/N frames):\n"
     ]
    },
    {
     "data": {
      "application/vnd.jupyter.widget-view+json": {
       "model_id": "57b602c647214b81b6b84f254cd38959",
       "version_major": 2,
       "version_minor": 0
      },
      "text/plain": [
       "HBox(children=(FloatProgress(value=0.0, max=227.0), HTML(value='')))"
      ]
     },
     "metadata": {},
     "output_type": "display_data"
    },
    {
     "name": "stdout",
     "output_type": "stream",
     "text": [
      "\n",
      "    Cell ID Frame GFP Intensity RFP Intensity Phase Intensity  Area    x    y  \\\n",
      "0        10     0        681374        721807        28280074  1482  719  845   \n",
      "1        10     1        702496        726912        28761265  1502  717  844   \n",
      "2        10     2        697723        710795        30366996  1530  713  843   \n",
      "3        10     3        681093        710602        31069063  1522  708  842   \n",
      "4        10     4        699151        728999        32053494  1569  703  843   \n",
      "..      ...   ...           ...           ...             ...   ...  ...  ...   \n",
      "222      10   222        847539        221177        44635717  2112  643  967   \n",
      "223      10   223        833108        226486        44854590  2171  641  969   \n",
      "224      10   224        805861        220744        44715540  2103  642  971   \n",
      "225      10   225        742659        216497        42678390  2072  641  972   \n",
      "226      10   226        659118        212297        42344149  2028  641  976   \n",
      "\n",
      "                         mask_fn  \n",
      "0    s_0001_fucci_merge_gray.tif  \n",
      "1    s_0002_fucci_merge_gray.tif  \n",
      "2    s_0003_fucci_merge_gray.tif  \n",
      "3    s_0004_fucci_merge_gray.tif  \n",
      "4    s_0005_fucci_merge_gray.tif  \n",
      "..                           ...  \n",
      "222  s_0223_fucci_merge_gray.tif  \n",
      "223  s_0224_fucci_merge_gray.tif  \n",
      "224  s_0225_fucci_merge_gray.tif  \n",
      "225  s_0226_fucci_merge_gray.tif  \n",
      "226  s_0227_fucci_merge_gray.tif  \n",
      "\n",
      "[227 rows x 9 columns]\n",
      "cell ID =  7 progress bar below: (n/N frames):\n"
     ]
    },
    {
     "data": {
      "application/vnd.jupyter.widget-view+json": {
       "model_id": "1a0dca5440b14235b09566230777db6c",
       "version_major": 2,
       "version_minor": 0
      },
      "text/plain": [
       "HBox(children=(FloatProgress(value=0.0, max=534.0), HTML(value='')))"
      ]
     },
     "metadata": {},
     "output_type": "display_data"
    },
    {
     "name": "stdout",
     "output_type": "stream",
     "text": [
      "\n",
      "    Cell ID Frame GFP Intensity RFP Intensity Phase Intensity  Area    x    y  \\\n",
      "0         7     0        329049        471258        27474750  1210  750  144   \n",
      "1         7     1        332528        477301        27206839  1225  753  145   \n",
      "2         7     2        378134        537253        30861036  1356  748  146   \n",
      "3         7     3        374184        489418        29481165  1390  738  144   \n",
      "4         7     4        388559        550496        28158769  1432  730  146   \n",
      "..      ...   ...           ...           ...             ...   ...  ...  ...   \n",
      "529       7   529       2752912        377006       109945538  3474  657  372   \n",
      "530       7   530       2708827        382906       111715563  3483  657  372   \n",
      "531       7   531       2378185        384527       109873755  3463  657  372   \n",
      "532       7   532        834399        192254        46877770  1551  684  374   \n",
      "533       7   533        458177        104658        27657221   894  686  377   \n",
      "\n",
      "                         mask_fn  \n",
      "0    s_0001_fucci_merge_gray.tif  \n",
      "1    s_0002_fucci_merge_gray.tif  \n",
      "2    s_0003_fucci_merge_gray.tif  \n",
      "3    s_0004_fucci_merge_gray.tif  \n",
      "4    s_0005_fucci_merge_gray.tif  \n",
      "..                           ...  \n",
      "529  s_0530_fucci_merge_gray.tif  \n",
      "530  s_0531_fucci_merge_gray.tif  \n",
      "531  s_0532_fucci_merge_gray.tif  \n",
      "532  s_0533_fucci_merge_gray.tif  \n",
      "533  s_0534_fucci_merge_gray.tif  \n",
      "\n",
      "[534 rows x 9 columns]\n",
      "cell ID =  5 progress bar below: (n/N frames):\n"
     ]
    },
    {
     "data": {
      "application/vnd.jupyter.widget-view+json": {
       "model_id": "c8332f03255249f3812d033af5cf1cbc",
       "version_major": 2,
       "version_minor": 0
      },
      "text/plain": [
       "HBox(children=(FloatProgress(value=0.0, max=756.0), HTML(value='')))"
      ]
     },
     "metadata": {},
     "output_type": "display_data"
    },
    {
     "name": "stdout",
     "output_type": "stream",
     "text": [
      "\n",
      "    Cell ID Frame GFP Intensity RFP Intensity Phase Intensity  Area    x    y  \\\n",
      "0         5     0        244276        227076        23925054  1055  750   74   \n",
      "1         5     1        233735        212673        22134177   992  751   73   \n",
      "2         5     2        268815        250834        23016277  1115  749   74   \n",
      "3         5     3        285561        259747        23863693  1228  744   73   \n",
      "4         5     4        296024        274639        23609396  1260  743   76   \n",
      "..      ...   ...           ...           ...             ...   ...  ...  ...   \n",
      "751       5   751        269723        202290        34380531  1171  797  158   \n",
      "752       5   752        272718        197871        34320609  1185  801  161   \n",
      "753       5   753        132068         95314        17542940   531  802  162   \n",
      "754       5   754        191873        122137        26259457   661  807  167   \n",
      "755       5   755        138353         88830        20788077   439  803  170   \n",
      "\n",
      "                         mask_fn  \n",
      "0    s_0001_fucci_merge_gray.tif  \n",
      "1    s_0002_fucci_merge_gray.tif  \n",
      "2    s_0003_fucci_merge_gray.tif  \n",
      "3    s_0004_fucci_merge_gray.tif  \n",
      "4    s_0005_fucci_merge_gray.tif  \n",
      "..                           ...  \n",
      "751  s_0752_fucci_merge_gray.tif  \n",
      "752  s_0753_fucci_merge_gray.tif  \n",
      "753  s_0754_fucci_merge_gray.tif  \n",
      "754  s_0755_fucci_merge_gray.tif  \n",
      "755  s_0756_fucci_merge_gray.tif  \n",
      "\n",
      "[756 rows x 9 columns]\n",
      "cell ID =  28 progress bar below: (n/N frames):\n"
     ]
    },
    {
     "data": {
      "application/vnd.jupyter.widget-view+json": {
       "model_id": "4fbeb2d63c134fd7a6f4a19658eba5d4",
       "version_major": 2,
       "version_minor": 0
      },
      "text/plain": [
       "HBox(children=(FloatProgress(value=0.0, max=664.0), HTML(value='')))"
      ]
     },
     "metadata": {},
     "output_type": "display_data"
    },
    {
     "name": "stdout",
     "output_type": "stream",
     "text": [
      "\n",
      "    Cell ID Frame GFP Intensity RFP Intensity Phase Intensity  Area    x    y  \\\n",
      "0        28     0        271341        796782        20415132   730   11   16   \n",
      "1        28     1        312317        931514        22967370   822   12   16   \n",
      "2        28     2        399788       1130020        27673483  1072   14   18   \n",
      "3        28     3        443913       1287326        27137203  1129   15   18   \n",
      "4        28     4        468969       1397816        27918007  1222   14   21   \n",
      "..      ...   ...           ...           ...             ...   ...  ...  ...   \n",
      "659      28   659        774647       1942871        33351450  1241  119  316   \n",
      "660      28   660        736744       2020520        36842277  1283  118  315   \n",
      "661      28   661        931355       2327141        43119901  1459  114  313   \n",
      "662      28   662       1369619       3555310        72244221  2491  103  306   \n",
      "663      28   663        468029       1248445        26004651   934   86  296   \n",
      "\n",
      "                         mask_fn  \n",
      "0    s_0001_fucci_merge_gray.tif  \n",
      "1    s_0002_fucci_merge_gray.tif  \n",
      "2    s_0003_fucci_merge_gray.tif  \n",
      "3    s_0004_fucci_merge_gray.tif  \n",
      "4    s_0005_fucci_merge_gray.tif  \n",
      "..                           ...  \n",
      "659  s_0660_fucci_merge_gray.tif  \n",
      "660  s_0661_fucci_merge_gray.tif  \n",
      "661  s_0662_fucci_merge_gray.tif  \n",
      "662  s_0663_fucci_merge_gray.tif  \n",
      "663  s_0664_fucci_merge_gray.tif  \n",
      "\n",
      "[664 rows x 9 columns]\n",
      "cell ID =  50 progress bar below: (n/N frames):\n"
     ]
    },
    {
     "data": {
      "application/vnd.jupyter.widget-view+json": {
       "model_id": "48d62644a3fe49c6a8aa9fd9754273c5",
       "version_major": 2,
       "version_minor": 0
      },
      "text/plain": [
       "HBox(children=(FloatProgress(value=0.0, max=425.0), HTML(value='')))"
      ]
     },
     "metadata": {},
     "output_type": "display_data"
    },
    {
     "name": "stdout",
     "output_type": "stream",
     "text": [
      "\n",
      "    Cell ID Frame GFP Intensity RFP Intensity Phase Intensity  Area    x    y  \\\n",
      "0        50     0        296578        259955        27052124  1067  844   69   \n",
      "1        50     1        289636        256429        23444575  1024  845   66   \n",
      "2        50     2        311840        276902        23824850  1070  844   67   \n",
      "3        50     3        301701        259276        24193128  1049  841   68   \n",
      "4        50     4        309954        271291        23859158  1095  837   73   \n",
      "..      ...   ...           ...           ...             ...   ...  ...  ...   \n",
      "420      50   420        222470        167782        24564336   831  833  144   \n",
      "421      50   421        245441        182315        27265395   928  832  146   \n",
      "422      50   422       1135808        443599        72138411  3149  832  146   \n",
      "423      50   423       1110476        422658        71466560  3056  832  146   \n",
      "424      50   424        257290        189462        28981570   958  833  147   \n",
      "\n",
      "                         mask_fn  \n",
      "0    s_0001_fucci_merge_gray.tif  \n",
      "1    s_0002_fucci_merge_gray.tif  \n",
      "2    s_0003_fucci_merge_gray.tif  \n",
      "3    s_0004_fucci_merge_gray.tif  \n",
      "4    s_0005_fucci_merge_gray.tif  \n",
      "..                           ...  \n",
      "420  s_0421_fucci_merge_gray.tif  \n",
      "421  s_0422_fucci_merge_gray.tif  \n",
      "422  s_0423_fucci_merge_gray.tif  \n",
      "423  s_0424_fucci_merge_gray.tif  \n",
      "424  s_0425_fucci_merge_gray.tif  \n",
      "\n",
      "[425 rows x 9 columns]\n",
      "cell ID =  49 progress bar below: (n/N frames):\n"
     ]
    },
    {
     "data": {
      "application/vnd.jupyter.widget-view+json": {
       "model_id": "c30aa3ebf9f54eb7b35cf076b652bd97",
       "version_major": 2,
       "version_minor": 0
      },
      "text/plain": [
       "HBox(children=(FloatProgress(value=0.0, max=554.0), HTML(value='')))"
      ]
     },
     "metadata": {},
     "output_type": "display_data"
    },
    {
     "name": "stdout",
     "output_type": "stream",
     "text": [
      "\n",
      "    Cell ID Frame GFP Intensity RFP Intensity Phase Intensity  Area    x    y  \\\n",
      "0        49     0        164154        135716        17025353   643  844  783   \n",
      "1        49     1        137906        114215        14075135   506  842  780   \n",
      "2        49     2        179851        148486        17577232   642  841  777   \n",
      "3        49     3        132061        112569        13777165   483  837  777   \n",
      "4        49     4        199143        165263        20665308   719  834  779   \n",
      "..      ...   ...           ...           ...             ...   ...  ...  ...   \n",
      "549      49   549        185866        184704        24916441   939  655  950   \n",
      "550      49   550        201872        197807        25472012  1020  656  948   \n",
      "551      49   551        171088        172077        22149970   850  655  950   \n",
      "552      49   552             0             0               0     0  655  950   \n",
      "553      49   553        118771        121291        15616027   587  654  951   \n",
      "\n",
      "                         mask_fn  \n",
      "0    s_0001_fucci_merge_gray.tif  \n",
      "1    s_0002_fucci_merge_gray.tif  \n",
      "2    s_0003_fucci_merge_gray.tif  \n",
      "3    s_0004_fucci_merge_gray.tif  \n",
      "4    s_0005_fucci_merge_gray.tif  \n",
      "..                           ...  \n",
      "549  s_0550_fucci_merge_gray.tif  \n",
      "550  s_0551_fucci_merge_gray.tif  \n",
      "551  s_0552_fucci_merge_gray.tif  \n",
      "552  s_0553_fucci_merge_gray.tif  \n",
      "553  s_0554_fucci_merge_gray.tif  \n",
      "\n",
      "[554 rows x 9 columns]\n",
      "cell ID =  48 progress bar below: (n/N frames):\n"
     ]
    },
    {
     "data": {
      "application/vnd.jupyter.widget-view+json": {
       "model_id": "fae23fd9c5814223a80e0dfd53483ec9",
       "version_major": 2,
       "version_minor": 0
      },
      "text/plain": [
       "HBox(children=(FloatProgress(value=0.0, max=239.0), HTML(value='')))"
      ]
     },
     "metadata": {},
     "output_type": "display_data"
    },
    {
     "name": "stdout",
     "output_type": "stream",
     "text": [
      "\n",
      "    Cell ID Frame GFP Intensity RFP Intensity Phase Intensity  Area    x    y  \\\n",
      "0        48     0        144862        185807        19201436   767  853  882   \n",
      "1        48     1        120093        157706        16808154   622  854  883   \n",
      "2        48     2        171785        217639        23647813   876  853  887   \n",
      "3        48     3        141794        175259        20047568   726  850  891   \n",
      "4        48     4        169353        211948        23953628   881  848  896   \n",
      "..      ...   ...           ...           ...             ...   ...  ...  ...   \n",
      "234      48   234        524176        202182        42747432  1967  849  972   \n",
      "235      48   235             0             0               0     0  850  975   \n",
      "236      48   236             0             0               0     0  851  979   \n",
      "237      48   237             0             0               0     0  852  982   \n",
      "238      48   238        146427         65968        14389749   644  859  983   \n",
      "\n",
      "                         mask_fn  \n",
      "0    s_0001_fucci_merge_gray.tif  \n",
      "1    s_0002_fucci_merge_gray.tif  \n",
      "2    s_0003_fucci_merge_gray.tif  \n",
      "3    s_0004_fucci_merge_gray.tif  \n",
      "4    s_0005_fucci_merge_gray.tif  \n",
      "..                           ...  \n",
      "234  s_0235_fucci_merge_gray.tif  \n",
      "235  s_0236_fucci_merge_gray.tif  \n",
      "236  s_0237_fucci_merge_gray.tif  \n",
      "237  s_0238_fucci_merge_gray.tif  \n",
      "238  s_0239_fucci_merge_gray.tif  \n",
      "\n",
      "[239 rows x 9 columns]\n",
      "cell ID =  46 progress bar below: (n/N frames):\n"
     ]
    },
    {
     "data": {
      "application/vnd.jupyter.widget-view+json": {
       "model_id": "4a46ee674d4d4335861ce01346a69324",
       "version_major": 2,
       "version_minor": 0
      },
      "text/plain": [
       "HBox(children=(FloatProgress(value=0.0, max=1092.0), HTML(value='')))"
      ]
     },
     "metadata": {},
     "output_type": "display_data"
    },
    {
     "name": "stdout",
     "output_type": "stream",
     "text": [
      "\n",
      "     Cell ID Frame GFP Intensity RFP Intensity Phase Intensity  Area    x  \\\n",
      "0         46     0         78707         87298         6620254   423  865   \n",
      "1         46     1             0             0               0     0  865   \n",
      "2         46     2        204406        218400        15675091  1057  861   \n",
      "3         46     3        130163        139075         9873981   671  857   \n",
      "4         46     4        142130        154062        10899781   732  856   \n",
      "...      ...   ...           ...           ...             ...   ...  ...   \n",
      "1087      46  1087       1972086        284633        44634013  2623  913   \n",
      "1088      46  1088       1922281        273641        43459814  2536  912   \n",
      "1089      46  1089       1966718        278559        42859450  2588  914   \n",
      "1090      46  1090       1987908        285312        45414323  2643  913   \n",
      "1091      46  1091       1970932        284619        44802783  2626  914   \n",
      "\n",
      "        y                      mask_fn  \n",
      "0     322  s_0001_fucci_merge_gray.tif  \n",
      "1     322  s_0002_fucci_merge_gray.tif  \n",
      "2     320  s_0003_fucci_merge_gray.tif  \n",
      "3     319  s_0004_fucci_merge_gray.tif  \n",
      "4     319  s_0005_fucci_merge_gray.tif  \n",
      "...   ...                          ...  \n",
      "1087  468  s_1088_fucci_merge_gray.tif  \n",
      "1088  469  s_1089_fucci_merge_gray.tif  \n",
      "1089  470  s_1090_fucci_merge_gray.tif  \n",
      "1090  469  s_1091_fucci_merge_gray.tif  \n",
      "1091  470  s_1092_fucci_merge_gray.tif  \n",
      "\n",
      "[1092 rows x 9 columns]\n",
      "cell ID =  43 progress bar below: (n/N frames):\n"
     ]
    },
    {
     "data": {
      "application/vnd.jupyter.widget-view+json": {
       "model_id": "6e7888316365484c873ee00f5edb65d3",
       "version_major": 2,
       "version_minor": 0
      },
      "text/plain": [
       "HBox(children=(FloatProgress(value=0.0, max=575.0), HTML(value='')))"
      ]
     },
     "metadata": {},
     "output_type": "display_data"
    },
    {
     "name": "stdout",
     "output_type": "stream",
     "text": [
      "\n",
      "    Cell ID Frame GFP Intensity RFP Intensity Phase Intensity  Area    x    y  \\\n",
      "0        43     0        529954       1152616        49734197  1484  920  133   \n",
      "1        43     1        610828       1380911        49227315  1506  918  126   \n",
      "2        43     2        745334       1719113        54551350  1710  916  124   \n",
      "3        43     3        739969       1608859        55168160  1865  913  122   \n",
      "4        43     4        760975       1645435        48803684  1944  910  127   \n",
      "..      ...   ...           ...           ...             ...   ...  ...  ...   \n",
      "570      43   571        301536        232855        13041764   654  861  236   \n",
      "571      43   572        286663        220366        12757703   626  861  237   \n",
      "572      43   573        260781        198032        11725280   583  863  237   \n",
      "573      43   574             0             0               0     0  863  237   \n",
      "574      43   575        268007        208868        12103664   608  859  238   \n",
      "\n",
      "                         mask_fn  \n",
      "0    s_0001_fucci_merge_gray.tif  \n",
      "1    s_0002_fucci_merge_gray.tif  \n",
      "2    s_0003_fucci_merge_gray.tif  \n",
      "3    s_0004_fucci_merge_gray.tif  \n",
      "4    s_0005_fucci_merge_gray.tif  \n",
      "..                           ...  \n",
      "570  s_0572_fucci_merge_gray.tif  \n",
      "571  s_0573_fucci_merge_gray.tif  \n",
      "572  s_0574_fucci_merge_gray.tif  \n",
      "573  s_0575_fucci_merge_gray.tif  \n",
      "574  s_0576_fucci_merge_gray.tif  \n",
      "\n",
      "[575 rows x 9 columns]\n",
      "cell ID =  115 progress bar below: (n/N frames):\n"
     ]
    },
    {
     "data": {
      "application/vnd.jupyter.widget-view+json": {
       "model_id": "8dc297a8d6d74464b91999c726328091",
       "version_major": 2,
       "version_minor": 0
      },
      "text/plain": [
       "HBox(children=(FloatProgress(value=0.0, max=340.0), HTML(value='')))"
      ]
     },
     "metadata": {},
     "output_type": "display_data"
    },
    {
     "name": "stdout",
     "output_type": "stream",
     "text": [
      "\n",
      "    Cell ID Frame GFP Intensity RFP Intensity Phase Intensity  Area    x    y  \\\n",
      "0       115     4        155608        110138        11941289   595  778  384   \n",
      "1       115     5             0             0               0     0  778  384   \n",
      "2       115     6        237232        170306        18049859   925  779  395   \n",
      "3       115     7        132041         94100         9795252   509  774  404   \n",
      "4       115     8        302136        220878        24337497  1218  780  399   \n",
      "..      ...   ...           ...           ...             ...   ...  ...  ...   \n",
      "335     115   339       1707249        635411       108626605  3786  927  480   \n",
      "336     115   340       1552884        566897       102810231  3433  927  480   \n",
      "337     115   341       1499169        536432       103128133  3330  930  480   \n",
      "338     115   342       1506071        553678       108791670  3476  929  481   \n",
      "339     115   343       1406609        511019       108358546  3512  928  480   \n",
      "\n",
      "                         mask_fn  \n",
      "0    s_0005_fucci_merge_gray.tif  \n",
      "1    s_0006_fucci_merge_gray.tif  \n",
      "2    s_0007_fucci_merge_gray.tif  \n",
      "3    s_0008_fucci_merge_gray.tif  \n",
      "4    s_0009_fucci_merge_gray.tif  \n",
      "..                           ...  \n",
      "335  s_0340_fucci_merge_gray.tif  \n",
      "336  s_0341_fucci_merge_gray.tif  \n",
      "337  s_0342_fucci_merge_gray.tif  \n",
      "338  s_0343_fucci_merge_gray.tif  \n",
      "339  s_0344_fucci_merge_gray.tif  \n",
      "\n",
      "[340 rows x 9 columns]\n",
      "cell ID =  146 progress bar below: (n/N frames):\n"
     ]
    },
    {
     "data": {
      "application/vnd.jupyter.widget-view+json": {
       "model_id": "8964b8f2565941a184958019ee9fe524",
       "version_major": 2,
       "version_minor": 0
      },
      "text/plain": [
       "HBox(children=(FloatProgress(value=0.0, max=243.0), HTML(value='')))"
      ]
     },
     "metadata": {},
     "output_type": "display_data"
    },
    {
     "name": "stdout",
     "output_type": "stream",
     "text": [
      "\n",
      "    Cell ID Frame GFP Intensity RFP Intensity Phase Intensity  Area    x    y  \\\n",
      "0       146    17        282266        160463        17437590  1004  698  708   \n",
      "1       146    18        253808        133229        16662173   922  697  707   \n",
      "2       146    19        289784        160177        18048310  1008  698  708   \n",
      "3       146    20        406373        231292        25244690  1466  696  703   \n",
      "4       146    21        353541        194711        21623372  1243  695  700   \n",
      "..      ...   ...           ...           ...             ...   ...  ...  ...   \n",
      "238     146   255       1436663        346876        98446512  3233  686  663   \n",
      "239     146   256       1426871        340285        98069331  3161  686  663   \n",
      "240     146   257       1255970        292512        89182864  2726  685  665   \n",
      "241     146   258       1292909        318388        96584614  2978  686  664   \n",
      "242     146   259       1029337        259141        78797915  2426  685  663   \n",
      "\n",
      "                         mask_fn  \n",
      "0    s_0018_fucci_merge_gray.tif  \n",
      "1    s_0019_fucci_merge_gray.tif  \n",
      "2    s_0020_fucci_merge_gray.tif  \n",
      "3    s_0021_fucci_merge_gray.tif  \n",
      "4    s_0022_fucci_merge_gray.tif  \n",
      "..                           ...  \n",
      "238  s_0256_fucci_merge_gray.tif  \n",
      "239  s_0257_fucci_merge_gray.tif  \n",
      "240  s_0258_fucci_merge_gray.tif  \n",
      "241  s_0259_fucci_merge_gray.tif  \n",
      "242  s_0260_fucci_merge_gray.tif  \n",
      "\n",
      "[243 rows x 9 columns]\n",
      "cell ID =  161 progress bar below: (n/N frames):\n"
     ]
    },
    {
     "data": {
      "application/vnd.jupyter.widget-view+json": {
       "model_id": "e4fe36bb2bb84f1a85edd7110e333359",
       "version_major": 2,
       "version_minor": 0
      },
      "text/plain": [
       "HBox(children=(FloatProgress(value=0.0, max=581.0), HTML(value='')))"
      ]
     },
     "metadata": {},
     "output_type": "display_data"
    },
    {
     "name": "stdout",
     "output_type": "stream",
     "text": [
      "\n",
      "    Cell ID Frame GFP Intensity RFP Intensity Phase Intensity  Area    x    y  \\\n",
      "0       161    20        104732        111754        10956317   508  104    8   \n",
      "1       161    21        193319        207303        20990678   946  104   12   \n",
      "2       161    22        136585        152283        20783496   950  103   14   \n",
      "3       161    23        146338        164878        22058364  1002  106   15   \n",
      "4       161    24        156830        181134        23746643  1068  110   19   \n",
      "..      ...   ...           ...           ...             ...   ...  ...  ...   \n",
      "576     161   596       1616526        350879        84815868  2747  173  199   \n",
      "577     161   597       1374243        280713        71910686  2217  174  200   \n",
      "578     161   598       1641494        375864        92513005  2970  172  199   \n",
      "579     161   599        531894        115306        32212826   872  180  203   \n",
      "580     161   600       1205214        292094        74979374  2179  176  203   \n",
      "\n",
      "                         mask_fn  \n",
      "0    s_0021_fucci_merge_gray.tif  \n",
      "1    s_0022_fucci_merge_gray.tif  \n",
      "2    s_0023_fucci_merge_gray.tif  \n",
      "3    s_0024_fucci_merge_gray.tif  \n",
      "4    s_0025_fucci_merge_gray.tif  \n",
      "..                           ...  \n",
      "576  s_0597_fucci_merge_gray.tif  \n",
      "577  s_0598_fucci_merge_gray.tif  \n",
      "578  s_0599_fucci_merge_gray.tif  \n",
      "579  s_0600_fucci_merge_gray.tif  \n",
      "580  s_0601_fucci_merge_gray.tif  \n",
      "\n",
      "[581 rows x 9 columns]\n",
      "cell ID =  164 progress bar below: (n/N frames):\n"
     ]
    },
    {
     "data": {
      "application/vnd.jupyter.widget-view+json": {
       "model_id": "031dc0beb9ef4da9af9b4eae20c3bb7e",
       "version_major": 2,
       "version_minor": 0
      },
      "text/plain": [
       "HBox(children=(FloatProgress(value=0.0, max=762.0), HTML(value='')))"
      ]
     },
     "metadata": {},
     "output_type": "display_data"
    },
    {
     "name": "stdout",
     "output_type": "stream",
     "text": [
      "\n",
      "    Cell ID Frame GFP Intensity RFP Intensity Phase Intensity  Area    x    y  \\\n",
      "0       164    22        125268        121711        15333392   847  658  420   \n",
      "1       164    23        139286        135453        16648499   950  662  423   \n",
      "2       164    24        143958        143011        16944908   998  664  425   \n",
      "3       164    25             0             0               0     0  666  427   \n",
      "4       164    26        105536        106348        12546194   719  665  426   \n",
      "..      ...   ...           ...           ...             ...   ...  ...  ...   \n",
      "757     164   779       1067707        121481        16773183  1087  579  623   \n",
      "758     164   780       3080656        546863        74506876  4555  576  620   \n",
      "759     164   781             0             0               0     0  573  617   \n",
      "760     164   782       3129029        589611        87352903  5096  571  615   \n",
      "761     164   783       2858583        507312        85778797  4288  575  638   \n",
      "\n",
      "                         mask_fn  \n",
      "0    s_0023_fucci_merge_gray.tif  \n",
      "1    s_0024_fucci_merge_gray.tif  \n",
      "2    s_0025_fucci_merge_gray.tif  \n",
      "3    s_0026_fucci_merge_gray.tif  \n",
      "4    s_0027_fucci_merge_gray.tif  \n",
      "..                           ...  \n",
      "757  s_0780_fucci_merge_gray.tif  \n",
      "758  s_0781_fucci_merge_gray.tif  \n",
      "759  s_0782_fucci_merge_gray.tif  \n",
      "760  s_0783_fucci_merge_gray.tif  \n",
      "761  s_0784_fucci_merge_gray.tif  \n",
      "\n",
      "[762 rows x 9 columns]\n",
      "cell ID =  167 progress bar below: (n/N frames):\n"
     ]
    },
    {
     "data": {
      "application/vnd.jupyter.widget-view+json": {
       "model_id": "076d1aeb827141c6beeb32b2d5c0f1bd",
       "version_major": 2,
       "version_minor": 0
      },
      "text/plain": [
       "HBox(children=(FloatProgress(value=0.0, max=495.0), HTML(value='')))"
      ]
     },
     "metadata": {},
     "output_type": "display_data"
    },
    {
     "name": "stdout",
     "output_type": "stream",
     "text": [
      "\n",
      "    Cell ID Frame GFP Intensity RFP Intensity Phase Intensity  Area    x    y  \\\n",
      "0       167    24        157186        152034        16443541  1079  567  325   \n",
      "1       167    25             0             0               0     0  567  325   \n",
      "2       167    26        206927        195887        21272888  1397  558  324   \n",
      "3       167    27             0             0               0     0  549  322   \n",
      "4       167    28        151124        144198        15526994  1011  554  321   \n",
      "..      ...   ...           ...           ...             ...   ...  ...  ...   \n",
      "490     167   514       1729629        430757       114459515  4108  759  515   \n",
      "491     167   515       1592511        381204       104068727  3623  759  514   \n",
      "492     167   516       1440096        347114       101421648  3301  752  515   \n",
      "493     167   517             0             0               0     0  747  514   \n",
      "494     167   518       1147066        262800        83357896  2497  755  516   \n",
      "\n",
      "                         mask_fn  \n",
      "0    s_0025_fucci_merge_gray.tif  \n",
      "1    s_0026_fucci_merge_gray.tif  \n",
      "2    s_0027_fucci_merge_gray.tif  \n",
      "3    s_0028_fucci_merge_gray.tif  \n",
      "4    s_0029_fucci_merge_gray.tif  \n",
      "..                           ...  \n",
      "490  s_0515_fucci_merge_gray.tif  \n",
      "491  s_0516_fucci_merge_gray.tif  \n",
      "492  s_0517_fucci_merge_gray.tif  \n",
      "493  s_0518_fucci_merge_gray.tif  \n",
      "494  s_0519_fucci_merge_gray.tif  \n",
      "\n",
      "[495 rows x 9 columns]\n",
      "cell ID =  172 progress bar below: (n/N frames):\n"
     ]
    },
    {
     "data": {
      "application/vnd.jupyter.widget-view+json": {
       "model_id": "952292c5e6cd4512b149ba22f8fa1be1",
       "version_major": 2,
       "version_minor": 0
      },
      "text/plain": [
       "HBox(children=(FloatProgress(value=0.0, max=682.0), HTML(value='')))"
      ]
     },
     "metadata": {},
     "output_type": "display_data"
    },
    {
     "name": "stdout",
     "output_type": "stream",
     "text": [
      "\n",
      "    Cell ID Frame GFP Intensity RFP Intensity Phase Intensity  Area    x   y  \\\n",
      "0       172    25         77112         81573        12837953   540  896  14   \n",
      "1       172    26         94464        103191        15241561   650  898  16   \n",
      "2       172    27        114911        125152        19104398   800  899  14   \n",
      "3       172    28        110728        119031        16993511   782  900  13   \n",
      "4       172    29             0             0               0     0  901  11   \n",
      "..      ...   ...           ...           ...             ...   ...  ...  ..   \n",
      "677     172   702       1403050        318079        91163915  2981  937  79   \n",
      "678     172   703       1393868        316726        92726235  2966  939  79   \n",
      "679     172   704       1409493        328283        94237769  3074  938  80   \n",
      "680     172   705       1265137        313253        89591138  2924  936  79   \n",
      "681     172   706       1100208        289948        83154493  2698  936  80   \n",
      "\n",
      "                         mask_fn  \n",
      "0    s_0026_fucci_merge_gray.tif  \n",
      "1    s_0027_fucci_merge_gray.tif  \n",
      "2    s_0028_fucci_merge_gray.tif  \n",
      "3    s_0029_fucci_merge_gray.tif  \n",
      "4    s_0030_fucci_merge_gray.tif  \n",
      "..                           ...  \n",
      "677  s_0703_fucci_merge_gray.tif  \n",
      "678  s_0704_fucci_merge_gray.tif  \n",
      "679  s_0705_fucci_merge_gray.tif  \n",
      "680  s_0706_fucci_merge_gray.tif  \n",
      "681  s_0707_fucci_merge_gray.tif  \n",
      "\n",
      "[682 rows x 9 columns]\n",
      "cell ID =  173 progress bar below: (n/N frames):\n"
     ]
    },
    {
     "data": {
      "application/vnd.jupyter.widget-view+json": {
       "model_id": "64aa843d9aa040fdafa6d46e134551e6",
       "version_major": 2,
       "version_minor": 0
      },
      "text/plain": [
       "HBox(children=(FloatProgress(value=0.0, max=573.0), HTML(value='')))"
      ]
     },
     "metadata": {},
     "output_type": "display_data"
    },
    {
     "name": "stdout",
     "output_type": "stream",
     "text": [
      "\n",
      "    Cell ID Frame GFP Intensity RFP Intensity Phase Intensity  Area    x    y  \\\n",
      "0       173    25        184410        211210        21640496  1323  145  825   \n",
      "1       173    26             0             0               0     0  145  825   \n",
      "2       173    27             0             0               0     0  145  825   \n",
      "3       173    28        174162        207762        22930138  1233  134  827   \n",
      "4       173    29        188952        233101        23370334  1331  134  827   \n",
      "..      ...   ...           ...           ...             ...   ...  ...  ...   \n",
      "568     173   593       2292017        447053       105254711  4173   87  787   \n",
      "569     173   594       2238986        437197       106798389  4079   88  789   \n",
      "570     173   595       2197992        429956       104026101  3976   86  789   \n",
      "571     173   596       2146941        432488       102599561  4033   89  790   \n",
      "572     173   597       1909257        403655       102111352  3772   90  787   \n",
      "\n",
      "                         mask_fn  \n",
      "0    s_0026_fucci_merge_gray.tif  \n",
      "1    s_0027_fucci_merge_gray.tif  \n",
      "2    s_0028_fucci_merge_gray.tif  \n",
      "3    s_0029_fucci_merge_gray.tif  \n",
      "4    s_0030_fucci_merge_gray.tif  \n",
      "..                           ...  \n",
      "568  s_0594_fucci_merge_gray.tif  \n",
      "569  s_0595_fucci_merge_gray.tif  \n",
      "570  s_0596_fucci_merge_gray.tif  \n",
      "571  s_0597_fucci_merge_gray.tif  \n",
      "572  s_0598_fucci_merge_gray.tif  \n",
      "\n",
      "[573 rows x 9 columns]\n",
      "cell ID =  180 progress bar below: (n/N frames):\n"
     ]
    },
    {
     "data": {
      "application/vnd.jupyter.widget-view+json": {
       "model_id": "060dcf33c9384ac08aae2183199de215",
       "version_major": 2,
       "version_minor": 0
      },
      "text/plain": [
       "HBox(children=(FloatProgress(value=0.0, max=331.0), HTML(value='')))"
      ]
     },
     "metadata": {},
     "output_type": "display_data"
    },
    {
     "name": "stdout",
     "output_type": "stream",
     "text": [
      "\n",
      "    Cell ID Frame GFP Intensity RFP Intensity Phase Intensity Area    x    y  \\\n",
      "0       180    29         10081          6269         1093096   57  157    2   \n",
      "1       180    30         46308         19400         3336172  176  158    3   \n",
      "2       180    31         99480         40124         7239931  367  160    5   \n",
      "3       180    32        186159         69265        11989664  631  162    8   \n",
      "4       180    33        263128         85519        16029490  782  163    9   \n",
      "..      ...   ...           ...           ...             ...  ...  ...  ...   \n",
      "326     180   355             0             0               0    0  152  101   \n",
      "327     180   356        188838        178152        16436258  779  150  100   \n",
      "328     180   357             0             0               0    0  149   99   \n",
      "329     180   358        195863        189304        16549405  845  148   95   \n",
      "330     180   359        216528        214653        18092447  902  147   95   \n",
      "\n",
      "                         mask_fn  \n",
      "0    s_0030_fucci_merge_gray.tif  \n",
      "1    s_0031_fucci_merge_gray.tif  \n",
      "2    s_0032_fucci_merge_gray.tif  \n",
      "3    s_0033_fucci_merge_gray.tif  \n",
      "4    s_0034_fucci_merge_gray.tif  \n",
      "..                           ...  \n",
      "326  s_0356_fucci_merge_gray.tif  \n",
      "327  s_0357_fucci_merge_gray.tif  \n",
      "328  s_0358_fucci_merge_gray.tif  \n",
      "329  s_0359_fucci_merge_gray.tif  \n",
      "330  s_0360_fucci_merge_gray.tif  \n",
      "\n",
      "[331 rows x 9 columns]\n",
      "cell ID =  182 progress bar below: (n/N frames):\n"
     ]
    },
    {
     "data": {
      "application/vnd.jupyter.widget-view+json": {
       "model_id": "7884510be0fc44f389d160632dbac791",
       "version_major": 2,
       "version_minor": 0
      },
      "text/plain": [
       "HBox(children=(FloatProgress(value=0.0, max=1062.0), HTML(value='')))"
      ]
     },
     "metadata": {},
     "output_type": "display_data"
    },
    {
     "name": "stdout",
     "output_type": "stream",
     "text": [
      "\n",
      "     Cell ID Frame GFP Intensity RFP Intensity Phase Intensity Area    x    y  \\\n",
      "0        182    29          5229          4908          795184   33  359    1   \n",
      "1        182    30         17502         25820         2189651   90  356    2   \n",
      "2        182    31         41109         60000         4761318  200  354    4   \n",
      "3        182    32         60975         97516         5893377  236  347    4   \n",
      "4        182    33         78461        123178         7719622  313  343    5   \n",
      "...      ...   ...           ...           ...             ...  ...  ...  ...   \n",
      "1057     182  1087        606674        376183        23215734  897  343  237   \n",
      "1058     182  1088        621397        383609        25315518  896  343  238   \n",
      "1059     182  1089        717772        398254        34168967  933  345  238   \n",
      "1060     182  1090        717178        405286        32432361  922  344  238   \n",
      "1061     182  1091        701898        391096        32759738  914  344  238   \n",
      "\n",
      "                          mask_fn  \n",
      "0     s_0030_fucci_merge_gray.tif  \n",
      "1     s_0031_fucci_merge_gray.tif  \n",
      "2     s_0032_fucci_merge_gray.tif  \n",
      "3     s_0033_fucci_merge_gray.tif  \n",
      "4     s_0034_fucci_merge_gray.tif  \n",
      "...                           ...  \n",
      "1057  s_1088_fucci_merge_gray.tif  \n",
      "1058  s_1089_fucci_merge_gray.tif  \n",
      "1059  s_1090_fucci_merge_gray.tif  \n",
      "1060  s_1091_fucci_merge_gray.tif  \n",
      "1061  s_1092_fucci_merge_gray.tif  \n",
      "\n",
      "[1062 rows x 9 columns]\n",
      "cell ID =  189 progress bar below: (n/N frames):\n"
     ]
    },
    {
     "data": {
      "application/vnd.jupyter.widget-view+json": {
       "model_id": "298b53b109d14f6db23bd3ec4fc0a4de",
       "version_major": 2,
       "version_minor": 0
      },
      "text/plain": [
       "HBox(children=(FloatProgress(value=0.0, max=612.0), HTML(value='')))"
      ]
     },
     "metadata": {},
     "output_type": "display_data"
    },
    {
     "name": "stdout",
     "output_type": "stream",
     "text": [
      "\n",
      "    Cell ID Frame GFP Intensity RFP Intensity Phase Intensity  Area    x    y  \\\n",
      "0       189    32        113552        113395        16818349   816  796  549   \n",
      "1       189    33             0             0               0     0  796  549   \n",
      "2       189    34        113551        110963        16911600   811  803  544   \n",
      "3       189    35         86001         85926        12825371   613  805  541   \n",
      "4       189    36             0             0               0     0  807  537   \n",
      "..      ...   ...           ...           ...             ...   ...  ...  ...   \n",
      "607     189   639       1558395        318380        97395072  3037  761  695   \n",
      "608     189   640        981680        186395        60838728  1771  763  690   \n",
      "609     189   641       1190992        228270        74700827  2174  763  692   \n",
      "610     189   642       1473652        302157        95351002  2869  759  693   \n",
      "611     189   643       1196156        243352        79099527  2314  762  692   \n",
      "\n",
      "                         mask_fn  \n",
      "0    s_0033_fucci_merge_gray.tif  \n",
      "1    s_0034_fucci_merge_gray.tif  \n",
      "2    s_0035_fucci_merge_gray.tif  \n",
      "3    s_0036_fucci_merge_gray.tif  \n",
      "4    s_0037_fucci_merge_gray.tif  \n",
      "..                           ...  \n",
      "607  s_0640_fucci_merge_gray.tif  \n",
      "608  s_0641_fucci_merge_gray.tif  \n",
      "609  s_0642_fucci_merge_gray.tif  \n",
      "610  s_0643_fucci_merge_gray.tif  \n",
      "611  s_0644_fucci_merge_gray.tif  \n",
      "\n",
      "[612 rows x 9 columns]\n",
      "cell ID =  197 progress bar below: (n/N frames):\n"
     ]
    },
    {
     "data": {
      "application/vnd.jupyter.widget-view+json": {
       "model_id": "5bf7703612f0431bb1db41ebfca8d5a2",
       "version_major": 2,
       "version_minor": 0
      },
      "text/plain": [
       "HBox(children=(FloatProgress(value=0.0, max=528.0), HTML(value='')))"
      ]
     },
     "metadata": {},
     "output_type": "display_data"
    },
    {
     "name": "stdout",
     "output_type": "stream",
     "text": [
      "\n",
      "    Cell ID Frame GFP Intensity RFP Intensity Phase Intensity Area    x    y  \\\n",
      "0       197    35        138884        110327        21366033  599  299  100   \n",
      "1       197    36        102413         84442        13475185  466  306   98   \n",
      "2       197    37        144241        114692        19740705  633  305  100   \n",
      "3       197    38        132822        107097        19412305  581  303   98   \n",
      "4       197    39        120012         99302        16338391  540  306   96   \n",
      "..      ...   ...           ...           ...             ...  ...  ...  ...   \n",
      "523     197   558        152844        133519        15221455  676  282  328   \n",
      "524     197   559        163262        135179        16717290  678  279  328   \n",
      "525     197   560        142296        129347        14315709  596  279  329   \n",
      "526     197   561        162727        147557        17171370  715  279  329   \n",
      "527     197   562        139290        121075        14916323  607  278  330   \n",
      "\n",
      "                         mask_fn  \n",
      "0    s_0036_fucci_merge_gray.tif  \n",
      "1    s_0037_fucci_merge_gray.tif  \n",
      "2    s_0038_fucci_merge_gray.tif  \n",
      "3    s_0039_fucci_merge_gray.tif  \n",
      "4    s_0040_fucci_merge_gray.tif  \n",
      "..                           ...  \n",
      "523  s_0559_fucci_merge_gray.tif  \n",
      "524  s_0560_fucci_merge_gray.tif  \n",
      "525  s_0561_fucci_merge_gray.tif  \n",
      "526  s_0562_fucci_merge_gray.tif  \n",
      "527  s_0563_fucci_merge_gray.tif  \n",
      "\n",
      "[528 rows x 9 columns]\n",
      "cell ID =  221 progress bar below: (n/N frames):\n"
     ]
    },
    {
     "data": {
      "application/vnd.jupyter.widget-view+json": {
       "model_id": "5f71e32b3b794060aedf48b172939ba1",
       "version_major": 2,
       "version_minor": 0
      },
      "text/plain": [
       "HBox(children=(FloatProgress(value=0.0, max=246.0), HTML(value='')))"
      ]
     },
     "metadata": {},
     "output_type": "display_data"
    },
    {
     "name": "stdout",
     "output_type": "stream",
     "text": [
      "\n",
      "    Cell ID Frame GFP Intensity RFP Intensity Phase Intensity  Area    x    y  \\\n",
      "0       221    54        332380        157890        22788895  1503  455  255   \n",
      "1       221    55             0             0               0     0  455  255   \n",
      "2       221    56        272356        130254        18870960  1234  454  252   \n",
      "3       221    57        333716        162693        22378661  1550  455  255   \n",
      "4       221    58             0             0               0     0  456  257   \n",
      "..      ...   ...           ...           ...             ...   ...  ...  ...   \n",
      "241     221   295       1966214        633020       111073038  4091  566  415   \n",
      "242     221   296       1989189        615582       111417578  3973  565  414   \n",
      "243     221   297       1987655        603718       117630359  3895  566  413   \n",
      "244     221   298       1789452        535613       107159397  3457  570  416   \n",
      "245     221   299       1414782        432519        90921602  2779  573  415   \n",
      "\n",
      "                         mask_fn  \n",
      "0    s_0055_fucci_merge_gray.tif  \n",
      "1    s_0056_fucci_merge_gray.tif  \n",
      "2    s_0057_fucci_merge_gray.tif  \n",
      "3    s_0058_fucci_merge_gray.tif  \n",
      "4    s_0059_fucci_merge_gray.tif  \n",
      "..                           ...  \n",
      "241  s_0296_fucci_merge_gray.tif  \n",
      "242  s_0297_fucci_merge_gray.tif  \n",
      "243  s_0298_fucci_merge_gray.tif  \n",
      "244  s_0299_fucci_merge_gray.tif  \n",
      "245  s_0300_fucci_merge_gray.tif  \n",
      "\n",
      "[246 rows x 9 columns]\n",
      "cell ID =  229 progress bar below: (n/N frames):\n"
     ]
    },
    {
     "data": {
      "application/vnd.jupyter.widget-view+json": {
       "model_id": "4c738c43faa24a5eb52245fa69180cb7",
       "version_major": 2,
       "version_minor": 0
      },
      "text/plain": [
       "HBox(children=(FloatProgress(value=0.0, max=495.0), HTML(value='')))"
      ]
     },
     "metadata": {},
     "output_type": "display_data"
    },
    {
     "name": "stdout",
     "output_type": "stream",
     "text": [
      "\n",
      "    Cell ID Frame GFP Intensity RFP Intensity Phase Intensity  Area    x    y  \\\n",
      "0       229    57         73634         51131         8852460   386  409    4   \n",
      "1       229    58        127077         84626        13265789   566  410    6   \n",
      "2       229    59        192262        126546        19816424   840  407    8   \n",
      "3       229    60        250031        162377        24440279  1057  408   10   \n",
      "4       229    61        323050        195960        28746502  1234  409   13   \n",
      "..      ...   ...           ...           ...             ...   ...  ...  ...   \n",
      "490     229   547       2523297        361868       110052281  3422  491  210   \n",
      "491     229   548       2449173        356879       108045502  3366  493  210   \n",
      "492     229   549       2322952        355920       108083861  3374  491  210   \n",
      "493     229   550       2185551        361424       106962115  3406  494  210   \n",
      "494     229   551       1071948        215488        58381994  2027  513  207   \n",
      "\n",
      "                         mask_fn  \n",
      "0    s_0058_fucci_merge_gray.tif  \n",
      "1    s_0059_fucci_merge_gray.tif  \n",
      "2    s_0060_fucci_merge_gray.tif  \n",
      "3    s_0061_fucci_merge_gray.tif  \n",
      "4    s_0062_fucci_merge_gray.tif  \n",
      "..                           ...  \n",
      "490  s_0548_fucci_merge_gray.tif  \n",
      "491  s_0549_fucci_merge_gray.tif  \n",
      "492  s_0550_fucci_merge_gray.tif  \n",
      "493  s_0551_fucci_merge_gray.tif  \n",
      "494  s_0552_fucci_merge_gray.tif  \n",
      "\n",
      "[495 rows x 9 columns]\n",
      "cell ID =  234 progress bar below: (n/N frames):\n"
     ]
    },
    {
     "data": {
      "application/vnd.jupyter.widget-view+json": {
       "model_id": "430b700419cf42eab88d305e5b83727c",
       "version_major": 2,
       "version_minor": 0
      },
      "text/plain": [
       "HBox(children=(FloatProgress(value=0.0, max=498.0), HTML(value='')))"
      ]
     },
     "metadata": {},
     "output_type": "display_data"
    },
    {
     "name": "stdout",
     "output_type": "stream",
     "text": [
      "\n",
      "    Cell ID Frame GFP Intensity RFP Intensity Phase Intensity  Area   x    y  \\\n",
      "0       234    59        118191        106947        19114182   546  54  140   \n",
      "1       234    60         90762         82476        14222249   413  56  142   \n",
      "2       234    61        125945        110969        19125232   562  60  138   \n",
      "3       234    62             0             0               0     0  63  134   \n",
      "4       234    63             0             0               0     0  67  131   \n",
      "..      ...   ...           ...           ...             ...   ...  ..  ...   \n",
      "493     234   552       1624060        413139        88438416  3511  31  338   \n",
      "494     234   553       1080097        253554        62708977  2231  38  338   \n",
      "495     234   554       1401167        366243        83721706  3171  30  336   \n",
      "496     234   555       1608069        353718        86438935  3135  28  337   \n",
      "497     234   556       1545650        369877        88536551  3225  30  336   \n",
      "\n",
      "                         mask_fn  \n",
      "0    s_0060_fucci_merge_gray.tif  \n",
      "1    s_0061_fucci_merge_gray.tif  \n",
      "2    s_0062_fucci_merge_gray.tif  \n",
      "3    s_0063_fucci_merge_gray.tif  \n",
      "4    s_0064_fucci_merge_gray.tif  \n",
      "..                           ...  \n",
      "493  s_0553_fucci_merge_gray.tif  \n",
      "494  s_0554_fucci_merge_gray.tif  \n",
      "495  s_0555_fucci_merge_gray.tif  \n",
      "496  s_0556_fucci_merge_gray.tif  \n",
      "497  s_0557_fucci_merge_gray.tif  \n",
      "\n",
      "[498 rows x 9 columns]\n",
      "cell ID =  239 progress bar below: (n/N frames):\n"
     ]
    },
    {
     "data": {
      "application/vnd.jupyter.widget-view+json": {
       "model_id": "0aa6cdbe720d43cb900671735206e132",
       "version_major": 2,
       "version_minor": 0
      },
      "text/plain": [
       "HBox(children=(FloatProgress(value=0.0, max=1030.0), HTML(value='')))"
      ]
     },
     "metadata": {},
     "output_type": "display_data"
    },
    {
     "name": "stdout",
     "output_type": "stream",
     "text": [
      "\n",
      "     Cell ID Frame GFP Intensity RFP Intensity Phase Intensity  Area    x  \\\n",
      "0        239    62        136221        143124        16075673   926  892   \n",
      "1        239    63        132199        144860        15944379   917  894   \n",
      "2        239    64        152692        164225        17881940  1049  895   \n",
      "3        239    65        153652        165058        17889545  1048  894   \n",
      "4        239    66        151921        163058        18583259  1037  891   \n",
      "...      ...   ...           ...           ...             ...   ...  ...   \n",
      "1025     239  1087       2235161        313607        68928665  2901  822   \n",
      "1026     239  1088       2180435        301931        67800147  2798  821   \n",
      "1027     239  1089       2205643        300904        66721207  2806  823   \n",
      "1028     239  1090       2233577        306874        68054700  2837  822   \n",
      "1029     239  1091       2268067        313158        70925631  2895  822   \n",
      "\n",
      "        y                      mask_fn  \n",
      "0     432  s_0063_fucci_merge_gray.tif  \n",
      "1     430  s_0064_fucci_merge_gray.tif  \n",
      "2     431  s_0065_fucci_merge_gray.tif  \n",
      "3     432  s_0066_fucci_merge_gray.tif  \n",
      "4     433  s_0067_fucci_merge_gray.tif  \n",
      "...   ...                          ...  \n",
      "1025  684  s_1088_fucci_merge_gray.tif  \n",
      "1026  685  s_1089_fucci_merge_gray.tif  \n",
      "1027  685  s_1090_fucci_merge_gray.tif  \n",
      "1028  685  s_1091_fucci_merge_gray.tif  \n",
      "1029  686  s_1092_fucci_merge_gray.tif  \n",
      "\n",
      "[1030 rows x 9 columns]\n",
      "cell ID =  241 progress bar below: (n/N frames):\n"
     ]
    },
    {
     "data": {
      "application/vnd.jupyter.widget-view+json": {
       "model_id": "42f7152f7f1d40278897eacb80469eaf",
       "version_major": 2,
       "version_minor": 0
      },
      "text/plain": [
       "HBox(children=(FloatProgress(value=0.0, max=399.0), HTML(value='')))"
      ]
     },
     "metadata": {},
     "output_type": "display_data"
    },
    {
     "name": "stdout",
     "output_type": "stream",
     "text": [
      "\n",
      "    Cell ID Frame GFP Intensity RFP Intensity Phase Intensity Area   x    y  \\\n",
      "0       241    63         15607         15610         1905663   97  58  886   \n",
      "1       241    64             0             0               0    0  58  886   \n",
      "2       241    65             0             0               0    0  58  886   \n",
      "3       241    66         88733        100831        10551984  543  46  885   \n",
      "4       241    67             0             0               0    0  34  883   \n",
      "..      ...   ...           ...           ...             ...  ...  ..  ...   \n",
      "394     241   457        116698        109097        14777251  474  24  757   \n",
      "395     241   458        145689        128349        18026026  558  24  757   \n",
      "396     241   459             0             0               0    0  23  757   \n",
      "397     241   460             0             0               0    0  23  757   \n",
      "398     241   461        106006         90506        14331890  404  28  755   \n",
      "\n",
      "                         mask_fn  \n",
      "0    s_0064_fucci_merge_gray.tif  \n",
      "1    s_0065_fucci_merge_gray.tif  \n",
      "2    s_0066_fucci_merge_gray.tif  \n",
      "3    s_0067_fucci_merge_gray.tif  \n",
      "4    s_0068_fucci_merge_gray.tif  \n",
      "..                           ...  \n",
      "394  s_0458_fucci_merge_gray.tif  \n",
      "395  s_0459_fucci_merge_gray.tif  \n",
      "396  s_0460_fucci_merge_gray.tif  \n",
      "397  s_0461_fucci_merge_gray.tif  \n",
      "398  s_0462_fucci_merge_gray.tif  \n",
      "\n",
      "[399 rows x 9 columns]\n",
      "cell ID =  244 progress bar below: (n/N frames):\n"
     ]
    },
    {
     "data": {
      "application/vnd.jupyter.widget-view+json": {
       "model_id": "8599f835c38142e2867e0e377bb80c69",
       "version_major": 2,
       "version_minor": 0
      },
      "text/plain": [
       "HBox(children=(FloatProgress(value=0.0, max=294.0), HTML(value='')))"
      ]
     },
     "metadata": {},
     "output_type": "display_data"
    },
    {
     "name": "stdout",
     "output_type": "stream",
     "text": [
      "\n",
      "    Cell ID Frame GFP Intensity RFP Intensity Phase Intensity  Area    x    y  \\\n",
      "0       244    64         71124         30683         6700570   281  543    4   \n",
      "1       244    65        123203         53034        11771818   491  538    6   \n",
      "2       244    66        179429         73686        15727915   682  532    7   \n",
      "3       244    67        239492         97809        21003632   915  524    9   \n",
      "4       244    68        331389        116924        26183768  1084  523   10   \n",
      "..      ...   ...           ...           ...             ...   ...  ...  ...   \n",
      "289     244   353       1637096        329047        44651027  2115  597  175   \n",
      "290     244   354       1465148        302160        42601703  1950  596  176   \n",
      "291     244   355             0             0               0     0  595  176   \n",
      "292     244   356             0             0               0     0  595  176   \n",
      "293     244   357        786723        232628        35156798  1588  554  186   \n",
      "\n",
      "                         mask_fn  \n",
      "0    s_0065_fucci_merge_gray.tif  \n",
      "1    s_0066_fucci_merge_gray.tif  \n",
      "2    s_0067_fucci_merge_gray.tif  \n",
      "3    s_0068_fucci_merge_gray.tif  \n",
      "4    s_0069_fucci_merge_gray.tif  \n",
      "..                           ...  \n",
      "289  s_0354_fucci_merge_gray.tif  \n",
      "290  s_0355_fucci_merge_gray.tif  \n",
      "291  s_0356_fucci_merge_gray.tif  \n",
      "292  s_0357_fucci_merge_gray.tif  \n",
      "293  s_0358_fucci_merge_gray.tif  \n",
      "\n",
      "[294 rows x 9 columns]\n",
      "cell ID =  245 progress bar below: (n/N frames):\n"
     ]
    },
    {
     "data": {
      "application/vnd.jupyter.widget-view+json": {
       "model_id": "34a69860d18b4bed87c9f83d17d005e0",
       "version_major": 2,
       "version_minor": 0
      },
      "text/plain": [
       "HBox(children=(FloatProgress(value=0.0, max=452.0), HTML(value='')))"
      ]
     },
     "metadata": {},
     "output_type": "display_data"
    },
    {
     "name": "stdout",
     "output_type": "stream",
     "text": [
      "\n",
      "    Cell ID Frame GFP Intensity RFP Intensity Phase Intensity Area   x    y  \\\n",
      "0       245    66         21111         21711         2389275  127   3  829   \n",
      "1       245    67         17945         19533         1956201  107   3  827   \n",
      "2       245    68             0             0               0    0   2  825   \n",
      "3       245    69         56784         61640         5977597  333   8  824   \n",
      "4       245    70         73457         79918         8067649  425   9  821   \n",
      "..      ...   ...           ...           ...             ...  ...  ..  ...   \n",
      "447     245   514             0             0               0    0  18  777   \n",
      "448     245   515         97022        123158        12496877  397  29  773   \n",
      "449     245   516             0             0               0    0  30  773   \n",
      "450     245   517             0             0               0    0  32  773   \n",
      "451     245   518        142344        167198        17319129  602  27  773   \n",
      "\n",
      "                         mask_fn  \n",
      "0    s_0067_fucci_merge_gray.tif  \n",
      "1    s_0068_fucci_merge_gray.tif  \n",
      "2    s_0069_fucci_merge_gray.tif  \n",
      "3    s_0070_fucci_merge_gray.tif  \n",
      "4    s_0071_fucci_merge_gray.tif  \n",
      "..                           ...  \n",
      "447  s_0515_fucci_merge_gray.tif  \n",
      "448  s_0516_fucci_merge_gray.tif  \n",
      "449  s_0517_fucci_merge_gray.tif  \n",
      "450  s_0518_fucci_merge_gray.tif  \n",
      "451  s_0519_fucci_merge_gray.tif  \n",
      "\n",
      "[452 rows x 9 columns]\n",
      "cell ID =  247 progress bar below: (n/N frames):\n"
     ]
    },
    {
     "data": {
      "application/vnd.jupyter.widget-view+json": {
       "model_id": "08252ebd9fea4a859a6f8e506ea35c44",
       "version_major": 2,
       "version_minor": 0
      },
      "text/plain": [
       "HBox(children=(FloatProgress(value=0.0, max=386.0), HTML(value='')))"
      ]
     },
     "metadata": {},
     "output_type": "display_data"
    },
    {
     "name": "stdout",
     "output_type": "stream",
     "text": [
      "\n",
      "    Cell ID Frame GFP Intensity RFP Intensity Phase Intensity Area   x    y  \\\n",
      "0       247    68        160855        153363        14184482  837  65  670   \n",
      "1       247    69        152242        146120        13212596  798  61  668   \n",
      "2       247    70        109502        104442         9151141  568  59  665   \n",
      "3       247    71        171399        157998        14848783  890  60  662   \n",
      "4       247    72        166408        153658        14233661  864  61  663   \n",
      "..      ...   ...           ...           ...             ...  ...  ..  ...   \n",
      "381     247   449         93291         87157         9228539  406   8  720   \n",
      "382     247   450         89206         83096         8716817  399   8  721   \n",
      "383     247   451         46824         45523         5504837  189   5  724   \n",
      "384     247   452             0             0               0    0   4  724   \n",
      "385     247   453         64572         43406         8669051  258   7  723   \n",
      "\n",
      "                         mask_fn  \n",
      "0    s_0069_fucci_merge_gray.tif  \n",
      "1    s_0070_fucci_merge_gray.tif  \n",
      "2    s_0071_fucci_merge_gray.tif  \n",
      "3    s_0072_fucci_merge_gray.tif  \n",
      "4    s_0073_fucci_merge_gray.tif  \n",
      "..                           ...  \n",
      "381  s_0450_fucci_merge_gray.tif  \n",
      "382  s_0451_fucci_merge_gray.tif  \n",
      "383  s_0452_fucci_merge_gray.tif  \n",
      "384  s_0453_fucci_merge_gray.tif  \n",
      "385  s_0454_fucci_merge_gray.tif  \n",
      "\n",
      "[386 rows x 9 columns]\n",
      "cell ID =  257 progress bar below: (n/N frames):\n"
     ]
    },
    {
     "data": {
      "application/vnd.jupyter.widget-view+json": {
       "model_id": "64c054e77fcb4319abb7e051e6b1771e",
       "version_major": 2,
       "version_minor": 0
      },
      "text/plain": [
       "HBox(children=(FloatProgress(value=0.0, max=528.0), HTML(value='')))"
      ]
     },
     "metadata": {},
     "output_type": "display_data"
    },
    {
     "name": "stdout",
     "output_type": "stream",
     "text": [
      "\n",
      "    Cell ID Frame GFP Intensity RFP Intensity Phase Intensity  Area    x    y  \\\n",
      "0       257    74        194230        220338        22546061  1119  313   16   \n",
      "1       257    75        195405        226375        23444023  1156  312   17   \n",
      "2       257    76        215611        247729        24281017  1277  318   17   \n",
      "3       257    77        222316        260563        25377294  1292  319   17   \n",
      "4       257    78        204897        244149        23821262  1187  319   18   \n",
      "..      ...   ...           ...           ...             ...   ...  ...  ...   \n",
      "523     257   597             0             0               0     0  311  197   \n",
      "524     257   598             0             0               0     0  311  196   \n",
      "525     257   599        739112        124470        34121642  1149  308  199   \n",
      "526     257   600        762998        131254        37012066  1214  300  202   \n",
      "527     257   601        664298        106338        31628801   982  301  200   \n",
      "\n",
      "                         mask_fn  \n",
      "0    s_0075_fucci_merge_gray.tif  \n",
      "1    s_0076_fucci_merge_gray.tif  \n",
      "2    s_0077_fucci_merge_gray.tif  \n",
      "3    s_0078_fucci_merge_gray.tif  \n",
      "4    s_0079_fucci_merge_gray.tif  \n",
      "..                           ...  \n",
      "523  s_0598_fucci_merge_gray.tif  \n",
      "524  s_0599_fucci_merge_gray.tif  \n",
      "525  s_0600_fucci_merge_gray.tif  \n",
      "526  s_0601_fucci_merge_gray.tif  \n",
      "527  s_0602_fucci_merge_gray.tif  \n",
      "\n",
      "[528 rows x 9 columns]\n",
      "cell ID =  260 progress bar below: (n/N frames):\n"
     ]
    },
    {
     "data": {
      "application/vnd.jupyter.widget-view+json": {
       "model_id": "cdfc1028a17c4e0ea91ee39f62e9c9b5",
       "version_major": 2,
       "version_minor": 0
      },
      "text/plain": [
       "HBox(children=(FloatProgress(value=0.0, max=714.0), HTML(value='')))"
      ]
     },
     "metadata": {},
     "output_type": "display_data"
    },
    {
     "name": "stdout",
     "output_type": "stream",
     "text": [
      "\n",
      "    Cell ID Frame GFP Intensity RFP Intensity Phase Intensity  Area    x    y  \\\n",
      "0       260    75        276257        279386        29945754  1622  365  124   \n",
      "1       260    76        113498        112706        12566206   612  356  130   \n",
      "2       260    78        154713        175217        17177484   952  380  133   \n",
      "3       260    79        308385        328682        34491066  1777  369  133   \n",
      "4       260    80        325872        339664        37179343  1878  369  134   \n",
      "..      ...   ...           ...           ...             ...   ...  ...  ...   \n",
      "709     260   785       2661446        372206        61227421  2581  371  311   \n",
      "710     260   786       2685614        353934        60487367  2558  370  311   \n",
      "711     260   787       2649688        343952        60808603  2570  372  312   \n",
      "712     260   788       2732576        389836        63125489  2601  370  312   \n",
      "713     260   789       2623253        346513        60984046  2596  373  312   \n",
      "\n",
      "                         mask_fn  \n",
      "0    s_0076_fucci_merge_gray.tif  \n",
      "1    s_0077_fucci_merge_gray.tif  \n",
      "2    s_0079_fucci_merge_gray.tif  \n",
      "3    s_0080_fucci_merge_gray.tif  \n",
      "4    s_0081_fucci_merge_gray.tif  \n",
      "..                           ...  \n",
      "709  s_0786_fucci_merge_gray.tif  \n",
      "710  s_0787_fucci_merge_gray.tif  \n",
      "711  s_0788_fucci_merge_gray.tif  \n",
      "712  s_0789_fucci_merge_gray.tif  \n",
      "713  s_0790_fucci_merge_gray.tif  \n",
      "\n",
      "[714 rows x 9 columns]\n",
      "cell ID =  273 progress bar below: (n/N frames):\n"
     ]
    },
    {
     "data": {
      "application/vnd.jupyter.widget-view+json": {
       "model_id": "7ef24a7a8cfb45a8b57db70405d7ee94",
       "version_major": 2,
       "version_minor": 0
      },
      "text/plain": [
       "HBox(children=(FloatProgress(value=0.0, max=355.0), HTML(value='')))"
      ]
     },
     "metadata": {},
     "output_type": "display_data"
    },
    {
     "name": "stdout",
     "output_type": "stream",
     "text": [
      "\n",
      "    Cell ID Frame GFP Intensity RFP Intensity Phase Intensity Area    x     y  \\\n",
      "0       273    78         73722         91526        12353768  557  260  1009   \n",
      "1       273    79         21168         30432         3400566  153  251  1006   \n",
      "2       273    80         66866         92632        11014851  480  249  1005   \n",
      "3       273    81         38061         53724         5856324  264  247  1001   \n",
      "4       273    82        104826        133298        16922117  744  245  1003   \n",
      "..      ...   ...           ...           ...             ...  ...  ...   ...   \n",
      "350     273   428        204867         80856        15723076  792   27  1011   \n",
      "351     273   429        199610         81511        15102874  796   27  1011   \n",
      "352     273   430             0             0               0    0   26  1011   \n",
      "353     273   431        167456         65838        12153382  640   28  1012   \n",
      "354     273   432        105710         43043         8163700  420   26  1012   \n",
      "\n",
      "                         mask_fn  \n",
      "0    s_0079_fucci_merge_gray.tif  \n",
      "1    s_0080_fucci_merge_gray.tif  \n",
      "2    s_0081_fucci_merge_gray.tif  \n",
      "3    s_0082_fucci_merge_gray.tif  \n",
      "4    s_0083_fucci_merge_gray.tif  \n",
      "..                           ...  \n",
      "350  s_0429_fucci_merge_gray.tif  \n",
      "351  s_0430_fucci_merge_gray.tif  \n",
      "352  s_0431_fucci_merge_gray.tif  \n",
      "353  s_0432_fucci_merge_gray.tif  \n",
      "354  s_0433_fucci_merge_gray.tif  \n",
      "\n",
      "[355 rows x 9 columns]\n",
      "cell ID =  267 progress bar below: (n/N frames):\n"
     ]
    },
    {
     "data": {
      "application/vnd.jupyter.widget-view+json": {
       "model_id": "47878e86383945f3baff24389cb73f4d",
       "version_major": 2,
       "version_minor": 0
      },
      "text/plain": [
       "HBox(children=(FloatProgress(value=0.0, max=556.0), HTML(value='')))"
      ]
     },
     "metadata": {},
     "output_type": "display_data"
    },
    {
     "name": "stdout",
     "output_type": "stream",
     "text": [
      "\n",
      "    Cell ID Frame GFP Intensity RFP Intensity Phase Intensity  Area    x    y  \\\n",
      "0       267    78        157044         86909        13389194   521  415  206   \n",
      "1       267    79        464046        325840        38690659  1549  402  195   \n",
      "2       267    80        270986        210882        22950649   885  392  190   \n",
      "3       267    81        317565        240221        26904870  1087  391  189   \n",
      "4       267    82        309802        237875        26923921  1052  392  190   \n",
      "..      ...   ...           ...           ...             ...   ...  ...  ...   \n",
      "551     267   629        283048        236962        27182327   966  387  366   \n",
      "552     267   630        284213        245568        27526605   993  387  365   \n",
      "553     267   631        314070        257370        29046930  1084  388  366   \n",
      "554     267   632        597618        459709        53040131  2129  390  380   \n",
      "555     267   633        256020        182443        19883898   930  395  395   \n",
      "\n",
      "                         mask_fn  \n",
      "0    s_0079_fucci_merge_gray.tif  \n",
      "1    s_0080_fucci_merge_gray.tif  \n",
      "2    s_0081_fucci_merge_gray.tif  \n",
      "3    s_0082_fucci_merge_gray.tif  \n",
      "4    s_0083_fucci_merge_gray.tif  \n",
      "..                           ...  \n",
      "551  s_0630_fucci_merge_gray.tif  \n",
      "552  s_0631_fucci_merge_gray.tif  \n",
      "553  s_0632_fucci_merge_gray.tif  \n",
      "554  s_0633_fucci_merge_gray.tif  \n",
      "555  s_0634_fucci_merge_gray.tif  \n",
      "\n",
      "[556 rows x 9 columns]\n",
      "cell ID =  276 progress bar below: (n/N frames):\n"
     ]
    },
    {
     "data": {
      "application/vnd.jupyter.widget-view+json": {
       "model_id": "4bcf1c8f7bec47a395080f0fe418a4c0",
       "version_major": 2,
       "version_minor": 0
      },
      "text/plain": [
       "HBox(children=(FloatProgress(value=0.0, max=412.0), HTML(value='')))"
      ]
     },
     "metadata": {},
     "output_type": "display_data"
    },
    {
     "name": "stdout",
     "output_type": "stream",
     "text": [
      "\n",
      "    Cell ID Frame GFP Intensity RFP Intensity Phase Intensity  Area    x    y  \\\n",
      "0       276    79        112232         45156        10270294   435  948  543   \n",
      "1       276    80             0             0               0     0  948  543   \n",
      "2       276    81             0             0               0     0  948  543   \n",
      "3       276    82         84970         32261         7320695   310  940  548   \n",
      "4       276    83        219056         87477        18044538   842  937  549   \n",
      "..      ...   ...           ...           ...             ...   ...  ...  ...   \n",
      "407     276   486        659424        170056        46600396  1657  904  761   \n",
      "408     276   487             0             0               0     0  899  756   \n",
      "409     276   488             0             0               0     0  894  751   \n",
      "410     276   489       1139802        272483        90868704  2654  896  753   \n",
      "411     276   490       1228900        291586        97168098  2833  892  750   \n",
      "\n",
      "                         mask_fn  \n",
      "0    s_0080_fucci_merge_gray.tif  \n",
      "1    s_0081_fucci_merge_gray.tif  \n",
      "2    s_0082_fucci_merge_gray.tif  \n",
      "3    s_0083_fucci_merge_gray.tif  \n",
      "4    s_0084_fucci_merge_gray.tif  \n",
      "..                           ...  \n",
      "407  s_0487_fucci_merge_gray.tif  \n",
      "408  s_0488_fucci_merge_gray.tif  \n",
      "409  s_0489_fucci_merge_gray.tif  \n",
      "410  s_0490_fucci_merge_gray.tif  \n",
      "411  s_0491_fucci_merge_gray.tif  \n",
      "\n",
      "[412 rows x 9 columns]\n",
      "cell ID =  310 progress bar below: (n/N frames):\n"
     ]
    },
    {
     "data": {
      "application/vnd.jupyter.widget-view+json": {
       "model_id": "69bb0b0d147943ac8bf0910f6d979c45",
       "version_major": 2,
       "version_minor": 0
      },
      "text/plain": [
       "HBox(children=(FloatProgress(value=0.0, max=469.0), HTML(value='')))"
      ]
     },
     "metadata": {},
     "output_type": "display_data"
    },
    {
     "name": "stdout",
     "output_type": "stream",
     "text": [
      "\n",
      "    Cell ID Frame GFP Intensity RFP Intensity Phase Intensity  Area    x    y  \\\n",
      "0       310    91        129517        123900        16066069   926  702  698   \n",
      "1       310    92        107373        105478        13206268   756  697  699   \n",
      "2       310    93        108372        109017        13548870   765  696  704   \n",
      "3       310    94        144790        141850        17941337  1011  696  707   \n",
      "4       310    95             0             0               0     0  695  710   \n",
      "..      ...   ...           ...           ...             ...   ...  ...  ...   \n",
      "464     310   555       3186946        288738        35175285  2775  566  777   \n",
      "465     310   556       1553561        131021        17182551  1262  564  776   \n",
      "466     310   557       1547213        136185        19318812  1310  563  775   \n",
      "467     310   558       1247249        127180        18928704  1225  562  774   \n",
      "468     310   559       4329812        717200       104161403  6707  566  793   \n",
      "\n",
      "                         mask_fn  \n",
      "0    s_0092_fucci_merge_gray.tif  \n",
      "1    s_0093_fucci_merge_gray.tif  \n",
      "2    s_0094_fucci_merge_gray.tif  \n",
      "3    s_0095_fucci_merge_gray.tif  \n",
      "4    s_0096_fucci_merge_gray.tif  \n",
      "..                           ...  \n",
      "464  s_0556_fucci_merge_gray.tif  \n",
      "465  s_0557_fucci_merge_gray.tif  \n",
      "466  s_0558_fucci_merge_gray.tif  \n",
      "467  s_0559_fucci_merge_gray.tif  \n",
      "468  s_0560_fucci_merge_gray.tif  \n",
      "\n",
      "[469 rows x 9 columns]\n",
      "cell ID =  322 progress bar below: (n/N frames):\n"
     ]
    },
    {
     "data": {
      "application/vnd.jupyter.widget-view+json": {
       "model_id": "cba57ba91efe4423b9f9afe2a6f8695e",
       "version_major": 2,
       "version_minor": 0
      },
      "text/plain": [
       "HBox(children=(FloatProgress(value=0.0, max=443.0), HTML(value='')))"
      ]
     },
     "metadata": {},
     "output_type": "display_data"
    },
    {
     "name": "stdout",
     "output_type": "stream",
     "text": [
      "\n",
      "    Cell ID Frame GFP Intensity RFP Intensity Phase Intensity  Area    x    y  \\\n",
      "0       322    94        203621        192433        19274505  1414  515  352   \n",
      "1       322    95             0             0               0     0  515  352   \n",
      "2       322    96        180951        173385        17914070  1255  507  357   \n",
      "3       322    97        236444        227546        22974587  1641  504  358   \n",
      "4       322    98        196098        187980        19656151  1337  506  358   \n",
      "..      ...   ...           ...           ...             ...   ...  ...  ...   \n",
      "438     322   532       2044077        400583        92840523  3731  539  498   \n",
      "439     322   533       1939374        374469        91732135  3513  536  498   \n",
      "440     322   534       1731874        361553        89571894  3318  536  498   \n",
      "441     322   535       1640982        354135        87070453  3261  534  497   \n",
      "442     322   536        621100        158247        39264606  1407  554  505   \n",
      "\n",
      "                         mask_fn  \n",
      "0    s_0095_fucci_merge_gray.tif  \n",
      "1    s_0096_fucci_merge_gray.tif  \n",
      "2    s_0097_fucci_merge_gray.tif  \n",
      "3    s_0098_fucci_merge_gray.tif  \n",
      "4    s_0099_fucci_merge_gray.tif  \n",
      "..                           ...  \n",
      "438  s_0533_fucci_merge_gray.tif  \n",
      "439  s_0534_fucci_merge_gray.tif  \n",
      "440  s_0535_fucci_merge_gray.tif  \n",
      "441  s_0536_fucci_merge_gray.tif  \n",
      "442  s_0537_fucci_merge_gray.tif  \n",
      "\n",
      "[443 rows x 9 columns]\n",
      "cell ID =  324 progress bar below: (n/N frames):\n"
     ]
    },
    {
     "data": {
      "application/vnd.jupyter.widget-view+json": {
       "model_id": "c66ee4446efc4292a7e437bd7e0815e1",
       "version_major": 2,
       "version_minor": 0
      },
      "text/plain": [
       "HBox(children=(FloatProgress(value=0.0, max=201.0), HTML(value='')))"
      ]
     },
     "metadata": {},
     "output_type": "display_data"
    },
    {
     "name": "stdout",
     "output_type": "stream",
     "text": [
      "\n",
      "    Cell ID Frame GFP Intensity RFP Intensity Phase Intensity  Area    x    y  \\\n",
      "0       324    95         85139         84251         9229227   602  521  623   \n",
      "1       324    96        143154        141227        15056657  1030  524  622   \n",
      "2       324    97        131928        130199        13930911   930  522  624   \n",
      "3       324    98        124371        124315        12844516   871  522  623   \n",
      "4       324    99        160509        159113        17227298  1142  522  623   \n",
      "..      ...   ...           ...           ...             ...   ...  ...  ...   \n",
      "196     324   291        660188        274185        30526348  1981  496  821   \n",
      "197     324   292        367518        147236        16154060   964  500  820   \n",
      "198     324   293        435488        181105        18493405  1187  498  821   \n",
      "199     324   294             0             0               0     0  497  821   \n",
      "200     324   295        560102        242597        24918094  1592  498  823   \n",
      "\n",
      "                         mask_fn  \n",
      "0    s_0096_fucci_merge_gray.tif  \n",
      "1    s_0097_fucci_merge_gray.tif  \n",
      "2    s_0098_fucci_merge_gray.tif  \n",
      "3    s_0099_fucci_merge_gray.tif  \n",
      "4    s_0100_fucci_merge_gray.tif  \n",
      "..                           ...  \n",
      "196  s_0292_fucci_merge_gray.tif  \n",
      "197  s_0293_fucci_merge_gray.tif  \n",
      "198  s_0294_fucci_merge_gray.tif  \n",
      "199  s_0295_fucci_merge_gray.tif  \n",
      "200  s_0296_fucci_merge_gray.tif  \n",
      "\n",
      "[201 rows x 9 columns]\n",
      "cell ID =  330 progress bar below: (n/N frames):\n"
     ]
    },
    {
     "data": {
      "application/vnd.jupyter.widget-view+json": {
       "model_id": "db33387382774da5b37eed1d9f1194c6",
       "version_major": 2,
       "version_minor": 0
      },
      "text/plain": [
       "HBox(children=(FloatProgress(value=0.0, max=711.0), HTML(value='')))"
      ]
     },
     "metadata": {},
     "output_type": "display_data"
    },
    {
     "name": "stdout",
     "output_type": "stream",
     "text": [
      "\n",
      "    Cell ID Frame GFP Intensity RFP Intensity Phase Intensity  Area    x    y  \\\n",
      "0       330    96        114947        108708        13189350   878  831  682   \n",
      "1       330    97             0             0               0     0  831  682   \n",
      "2       330    98         70746         68214         8393215   533  835  686   \n",
      "3       330    99         97976         94915        11468137   751  834  686   \n",
      "4       330   100        144943        140161        17121845  1104  830  688   \n",
      "..      ...   ...           ...           ...             ...   ...  ...  ...   \n",
      "706     330   802       1496296        282105        77381991  2664  702  902   \n",
      "707     330   803       1653507        313999        86672702  2944  703  906   \n",
      "708     330   804       1514920        276255        80948539  2609  702  907   \n",
      "709     330   805       1602953        304583        87903794  2866  703  910   \n",
      "710     330   806       1540840        292734        85759222  2759  704  913   \n",
      "\n",
      "                         mask_fn  \n",
      "0    s_0097_fucci_merge_gray.tif  \n",
      "1    s_0098_fucci_merge_gray.tif  \n",
      "2    s_0099_fucci_merge_gray.tif  \n",
      "3    s_0100_fucci_merge_gray.tif  \n",
      "4    s_0101_fucci_merge_gray.tif  \n",
      "..                           ...  \n",
      "706  s_0803_fucci_merge_gray.tif  \n",
      "707  s_0804_fucci_merge_gray.tif  \n",
      "708  s_0805_fucci_merge_gray.tif  \n",
      "709  s_0806_fucci_merge_gray.tif  \n",
      "710  s_0807_fucci_merge_gray.tif  \n",
      "\n",
      "[711 rows x 9 columns]\n",
      "cell ID =  331 progress bar below: (n/N frames):\n"
     ]
    },
    {
     "data": {
      "application/vnd.jupyter.widget-view+json": {
       "model_id": "c71e139371444a67b6c981d02b238895",
       "version_major": 2,
       "version_minor": 0
      },
      "text/plain": [
       "HBox(children=(FloatProgress(value=0.0, max=543.0), HTML(value='')))"
      ]
     },
     "metadata": {},
     "output_type": "display_data"
    },
    {
     "name": "stdout",
     "output_type": "stream",
     "text": [
      "\n",
      "    Cell ID Frame GFP Intensity RFP Intensity Phase Intensity  Area    x    y  \\\n",
      "0       331    96        107803        104570        14522315   771  776  552   \n",
      "1       331    97        160509        152508        20979758  1144  774  550   \n",
      "2       331    98             0             0               0     0  772  548   \n",
      "3       331    99             0             0               0     0  770  546   \n",
      "4       331   100        148413        141131        19517261  1058  773  547   \n",
      "..      ...   ...           ...           ...             ...   ...  ...  ...   \n",
      "538     331   634       2390743        338951        86403506  3170  694  727   \n",
      "539     331   635        846364        144585        35809065  1369  673  725   \n",
      "540     331   636        871581        164625        40365450  1555  671  723   \n",
      "541     331   637        751575        153539        38303661  1447  670  723   \n",
      "542     331   638        483844        109082        28361477  1023  670  720   \n",
      "\n",
      "                         mask_fn  \n",
      "0    s_0097_fucci_merge_gray.tif  \n",
      "1    s_0098_fucci_merge_gray.tif  \n",
      "2    s_0099_fucci_merge_gray.tif  \n",
      "3    s_0100_fucci_merge_gray.tif  \n",
      "4    s_0101_fucci_merge_gray.tif  \n",
      "..                           ...  \n",
      "538  s_0635_fucci_merge_gray.tif  \n",
      "539  s_0636_fucci_merge_gray.tif  \n",
      "540  s_0637_fucci_merge_gray.tif  \n",
      "541  s_0638_fucci_merge_gray.tif  \n",
      "542  s_0639_fucci_merge_gray.tif  \n",
      "\n",
      "[543 rows x 9 columns]\n",
      "cell ID =  339 progress bar below: (n/N frames):\n"
     ]
    },
    {
     "data": {
      "application/vnd.jupyter.widget-view+json": {
       "model_id": "e147301e72854575929d364b674b3e2b",
       "version_major": 2,
       "version_minor": 0
      },
      "text/plain": [
       "HBox(children=(FloatProgress(value=0.0, max=441.0), HTML(value='')))"
      ]
     },
     "metadata": {},
     "output_type": "display_data"
    },
    {
     "name": "stdout",
     "output_type": "stream",
     "text": [
      "\n",
      "    Cell ID Frame GFP Intensity RFP Intensity Phase Intensity  Area    x    y  \\\n",
      "0       339    98        177119        166953        15413753  1174  402  306   \n",
      "1       339    99        213763        201472        19120297  1432  404  307   \n",
      "2       339   100        201216        186127        18461703  1338  402  313   \n",
      "3       339   101        139303        131776        12026412   912  402  314   \n",
      "4       339   102        217215        204828        19231903  1441  406  319   \n",
      "..      ...   ...           ...           ...             ...   ...  ...  ...   \n",
      "436     339   534       1650994        353148        93212903  3311  389  448   \n",
      "437     339   535       1670139        366490        93475424  3430  392  450   \n",
      "438     339   536       1588517        348672        90608095  3256  390  449   \n",
      "439     339   537       1518890        334602        86571573  3146  393  448   \n",
      "440     339   538        932260        213216        58105598  1992  396  454   \n",
      "\n",
      "                         mask_fn  \n",
      "0    s_0099_fucci_merge_gray.tif  \n",
      "1    s_0100_fucci_merge_gray.tif  \n",
      "2    s_0101_fucci_merge_gray.tif  \n",
      "3    s_0102_fucci_merge_gray.tif  \n",
      "4    s_0103_fucci_merge_gray.tif  \n",
      "..                           ...  \n",
      "436  s_0535_fucci_merge_gray.tif  \n",
      "437  s_0536_fucci_merge_gray.tif  \n",
      "438  s_0537_fucci_merge_gray.tif  \n",
      "439  s_0538_fucci_merge_gray.tif  \n",
      "440  s_0539_fucci_merge_gray.tif  \n",
      "\n",
      "[441 rows x 9 columns]\n",
      "cell ID =  346 progress bar below: (n/N frames):\n"
     ]
    },
    {
     "data": {
      "application/vnd.jupyter.widget-view+json": {
       "model_id": "9632482cb2e84a8fa9232e337fcb86df",
       "version_major": 2,
       "version_minor": 0
      },
      "text/plain": [
       "HBox(children=(FloatProgress(value=0.0, max=409.0), HTML(value='')))"
      ]
     },
     "metadata": {},
     "output_type": "display_data"
    },
    {
     "name": "stdout",
     "output_type": "stream",
     "text": [
      "\n",
      "    Cell ID Frame GFP Intensity RFP Intensity Phase Intensity  Area    x    y  \\\n",
      "0       346   101        198608        186785        21622263  1377  588  410   \n",
      "1       346   102        173502        169256        20149643  1217  589  411   \n",
      "2       346   103        214411        204456        25036390  1477  592  411   \n",
      "3       346   104        250410        235277        28428487  1730  596  413   \n",
      "4       346   105        227780        218663        26471870  1587  594  415   \n",
      "..      ...   ...           ...           ...             ...   ...  ...  ...   \n",
      "404     346   505       2182005        483697       107034109  4644  538  549   \n",
      "405     346   506       2035648        434008       104812409  4175  538  551   \n",
      "406     346   507       2019361        418923       104054636  4036  539  550   \n",
      "407     346   508       1766207        342019        90092486  3279  536  548   \n",
      "408     346   509       1998963        415262       105943795  3984  542  548   \n",
      "\n",
      "                         mask_fn  \n",
      "0    s_0102_fucci_merge_gray.tif  \n",
      "1    s_0103_fucci_merge_gray.tif  \n",
      "2    s_0104_fucci_merge_gray.tif  \n",
      "3    s_0105_fucci_merge_gray.tif  \n",
      "4    s_0106_fucci_merge_gray.tif  \n",
      "..                           ...  \n",
      "404  s_0506_fucci_merge_gray.tif  \n",
      "405  s_0507_fucci_merge_gray.tif  \n",
      "406  s_0508_fucci_merge_gray.tif  \n",
      "407  s_0509_fucci_merge_gray.tif  \n",
      "408  s_0510_fucci_merge_gray.tif  \n",
      "\n",
      "[409 rows x 9 columns]\n",
      "cell ID =  351 progress bar below: (n/N frames):\n"
     ]
    },
    {
     "data": {
      "application/vnd.jupyter.widget-view+json": {
       "model_id": "dcd87377f3c442e09a0d44bd8b9219c9",
       "version_major": 2,
       "version_minor": 0
      },
      "text/plain": [
       "HBox(children=(FloatProgress(value=0.0, max=584.0), HTML(value='')))"
      ]
     },
     "metadata": {},
     "output_type": "display_data"
    },
    {
     "name": "stdout",
     "output_type": "stream",
     "text": [
      "\n",
      "    Cell ID Frame GFP Intensity RFP Intensity Phase Intensity  Area    x    y  \\\n",
      "0       351   104        191896        191153        19612415  1295  448  414   \n",
      "1       351   105             0             0               0     0  448  414   \n",
      "2       351   106        199299        201767        20990342  1345  451  415   \n",
      "3       351   107        218266        222536        22819370  1456  450  417   \n",
      "4       351   108        159385        168539        16754319  1068  448  418   \n",
      "..      ...   ...           ...           ...             ...   ...  ...  ...   \n",
      "579     351   683        543808        152360        23354686  1444  422  565   \n",
      "580     351   684        512779        151225        23762593  1435  422  564   \n",
      "581     351   685             0             0               0     0  421  563   \n",
      "582     351   686             0             0               0     0  421  563   \n",
      "583     351   687        369651        110884        18707771  1048  419  561   \n",
      "\n",
      "                         mask_fn  \n",
      "0    s_0105_fucci_merge_gray.tif  \n",
      "1    s_0106_fucci_merge_gray.tif  \n",
      "2    s_0107_fucci_merge_gray.tif  \n",
      "3    s_0108_fucci_merge_gray.tif  \n",
      "4    s_0109_fucci_merge_gray.tif  \n",
      "..                           ...  \n",
      "579  s_0684_fucci_merge_gray.tif  \n",
      "580  s_0685_fucci_merge_gray.tif  \n",
      "581  s_0686_fucci_merge_gray.tif  \n",
      "582  s_0687_fucci_merge_gray.tif  \n",
      "583  s_0688_fucci_merge_gray.tif  \n",
      "\n",
      "[584 rows x 9 columns]\n",
      "cell ID =  368 progress bar below: (n/N frames):\n"
     ]
    },
    {
     "data": {
      "application/vnd.jupyter.widget-view+json": {
       "model_id": "e1d6fa5b6f4f403d99ca7dd1e4500c55",
       "version_major": 2,
       "version_minor": 0
      },
      "text/plain": [
       "HBox(children=(FloatProgress(value=0.0, max=642.0), HTML(value='')))"
      ]
     },
     "metadata": {},
     "output_type": "display_data"
    },
    {
     "name": "stdout",
     "output_type": "stream",
     "text": [
      "\n",
      "    Cell ID Frame GFP Intensity RFP Intensity Phase Intensity  Area    x    y  \\\n",
      "0       368   108        159052        160453        20421470  1147  268  640   \n",
      "1       368   109             0             0               0     0  268  640   \n",
      "2       368   110        118418        121286        15309070   837  268  642   \n",
      "3       368   111        154602        158286        19239343  1109  266  641   \n",
      "4       368   112        112254        116644        14769793   795  270  641   \n",
      "..      ...   ...           ...           ...             ...   ...  ...  ...   \n",
      "637     368   745       2053896        318975        55267394  2954  218  755   \n",
      "638     368   746       2959945        452481        87761284  4168  218  753   \n",
      "639     368   747       3002212        461559        91522371  4201  220  756   \n",
      "640     368   748       2176575        305423        65751252  2736  221  757   \n",
      "641     368   749       2997894        448767        98364222  4006  218  758   \n",
      "\n",
      "                         mask_fn  \n",
      "0    s_0109_fucci_merge_gray.tif  \n",
      "1    s_0110_fucci_merge_gray.tif  \n",
      "2    s_0111_fucci_merge_gray.tif  \n",
      "3    s_0112_fucci_merge_gray.tif  \n",
      "4    s_0113_fucci_merge_gray.tif  \n",
      "..                           ...  \n",
      "637  s_0746_fucci_merge_gray.tif  \n",
      "638  s_0747_fucci_merge_gray.tif  \n",
      "639  s_0748_fucci_merge_gray.tif  \n",
      "640  s_0749_fucci_merge_gray.tif  \n",
      "641  s_0750_fucci_merge_gray.tif  \n",
      "\n",
      "[642 rows x 9 columns]\n",
      "cell ID =  369 progress bar below: (n/N frames):\n"
     ]
    },
    {
     "data": {
      "application/vnd.jupyter.widget-view+json": {
       "model_id": "cd330f036d0e486e8215808c3462c1aa",
       "version_major": 2,
       "version_minor": 0
      },
      "text/plain": [
       "HBox(children=(FloatProgress(value=0.0, max=227.0), HTML(value='')))"
      ]
     },
     "metadata": {},
     "output_type": "display_data"
    },
    {
     "name": "stdout",
     "output_type": "stream",
     "text": [
      "\n",
      "    Cell ID Frame GFP Intensity RFP Intensity Phase Intensity  Area    x    y  \\\n",
      "0       369   109        166664        157195        17151265  1169  337  623   \n",
      "1       369   110             0             0               0     0  337  623   \n",
      "2       369   111             0             0               0     0  337  623   \n",
      "3       369   112        188176        177779        19347186  1320  340  617   \n",
      "4       369   113        191871        182382        18896672  1341  334  616   \n",
      "..      ...   ...           ...           ...             ...   ...  ...  ...   \n",
      "222     369   332        840769        166816        21605524  1557  362  604   \n",
      "223     369   333       1339631        270280        36405690  2538  361  606   \n",
      "224     369   334       1383192        271240        36226499  2547  359  605   \n",
      "225     369   335        808843        161864        21271865  1499  357  604   \n",
      "226     369   336       1406482        280182        38570426  2650  357  603   \n",
      "\n",
      "                         mask_fn  \n",
      "0    s_0110_fucci_merge_gray.tif  \n",
      "1    s_0111_fucci_merge_gray.tif  \n",
      "2    s_0112_fucci_merge_gray.tif  \n",
      "3    s_0113_fucci_merge_gray.tif  \n",
      "4    s_0114_fucci_merge_gray.tif  \n",
      "..                           ...  \n",
      "222  s_0333_fucci_merge_gray.tif  \n",
      "223  s_0334_fucci_merge_gray.tif  \n",
      "224  s_0335_fucci_merge_gray.tif  \n",
      "225  s_0336_fucci_merge_gray.tif  \n",
      "226  s_0337_fucci_merge_gray.tif  \n",
      "\n",
      "[227 rows x 9 columns]\n",
      "cell ID =  374 progress bar below: (n/N frames):\n"
     ]
    },
    {
     "data": {
      "application/vnd.jupyter.widget-view+json": {
       "model_id": "f94c4131368e4588a50c4906b3a8b6b0",
       "version_major": 2,
       "version_minor": 0
      },
      "text/plain": [
       "HBox(children=(FloatProgress(value=0.0, max=566.0), HTML(value='')))"
      ]
     },
     "metadata": {},
     "output_type": "display_data"
    },
    {
     "name": "stdout",
     "output_type": "stream",
     "text": [
      "\n",
      "    Cell ID Frame GFP Intensity RFP Intensity Phase Intensity  Area    x    y  \\\n",
      "0       374   112        144801        156231        16197271   972  267  807   \n",
      "1       374   113        194095        208809        20665481  1308  261  808   \n",
      "2       374   114        264686        285367        28926772  1790  260  810   \n",
      "3       374   115        237330        259135        24788063  1580  259  811   \n",
      "4       374   116             0             0               0     0  257  812   \n",
      "..      ...   ...           ...           ...             ...   ...  ...  ...   \n",
      "561     374   673       2940116        521066       137187496  4880   75  909   \n",
      "562     374   674       2896959        501413       132041015  4707   77  912   \n",
      "563     374   675       2745845        485209       134874944  4510   79  911   \n",
      "564     374   676       2544804        419178       121741020  3920   79  910   \n",
      "565     374   677       2312773        412646       122182250  3870   76  913   \n",
      "\n",
      "                         mask_fn  \n",
      "0    s_0113_fucci_merge_gray.tif  \n",
      "1    s_0114_fucci_merge_gray.tif  \n",
      "2    s_0115_fucci_merge_gray.tif  \n",
      "3    s_0116_fucci_merge_gray.tif  \n",
      "4    s_0117_fucci_merge_gray.tif  \n",
      "..                           ...  \n",
      "561  s_0674_fucci_merge_gray.tif  \n",
      "562  s_0675_fucci_merge_gray.tif  \n",
      "563  s_0676_fucci_merge_gray.tif  \n",
      "564  s_0677_fucci_merge_gray.tif  \n",
      "565  s_0678_fucci_merge_gray.tif  \n",
      "\n",
      "[566 rows x 9 columns]\n",
      "cell ID =  383 progress bar below: (n/N frames):\n"
     ]
    },
    {
     "data": {
      "application/vnd.jupyter.widget-view+json": {
       "model_id": "067ddba3d4664223b482886b9086c746",
       "version_major": 2,
       "version_minor": 0
      },
      "text/plain": [
       "HBox(children=(FloatProgress(value=0.0, max=464.0), HTML(value='')))"
      ]
     },
     "metadata": {},
     "output_type": "display_data"
    },
    {
     "name": "stdout",
     "output_type": "stream",
     "text": [
      "\n",
      "    Cell ID Frame GFP Intensity RFP Intensity Phase Intensity  Area    x    y  \\\n",
      "0       383   118        137025        136637        13877512   972  187  556   \n",
      "1       383   119        151284        149723        16532223  1063  190  556   \n",
      "2       383   120             0             0               0     0  192  556   \n",
      "3       383   121        125078        124521        13640312   873  194  551   \n",
      "4       383   122        136329        136569        14461978   943  193  553   \n",
      "..      ...   ...           ...           ...             ...   ...  ...  ...   \n",
      "459     383   577       2215632        457887       111596211  4309  108  686   \n",
      "460     383   578       2132985        442509       110680746  4147  109  687   \n",
      "461     383   579       1891016        399112       101795282  3760  109  693   \n",
      "462     383   580       1565677        318110        84287162  2970  108  689   \n",
      "463     383   581       1914657        409134       102673216  3827  112  684   \n",
      "\n",
      "                         mask_fn  \n",
      "0    s_0119_fucci_merge_gray.tif  \n",
      "1    s_0120_fucci_merge_gray.tif  \n",
      "2    s_0121_fucci_merge_gray.tif  \n",
      "3    s_0122_fucci_merge_gray.tif  \n",
      "4    s_0123_fucci_merge_gray.tif  \n",
      "..                           ...  \n",
      "459  s_0578_fucci_merge_gray.tif  \n",
      "460  s_0579_fucci_merge_gray.tif  \n",
      "461  s_0580_fucci_merge_gray.tif  \n",
      "462  s_0581_fucci_merge_gray.tif  \n",
      "463  s_0582_fucci_merge_gray.tif  \n",
      "\n",
      "[464 rows x 9 columns]\n",
      "cell ID =  387 progress bar below: (n/N frames):\n"
     ]
    },
    {
     "data": {
      "application/vnd.jupyter.widget-view+json": {
       "model_id": "22cc1353db5a4b9f987bb3590526d58b",
       "version_major": 2,
       "version_minor": 0
      },
      "text/plain": [
       "HBox(children=(FloatProgress(value=0.0, max=266.0), HTML(value='')))"
      ]
     },
     "metadata": {},
     "output_type": "display_data"
    },
    {
     "name": "stdout",
     "output_type": "stream",
     "text": [
      "\n",
      "    Cell ID Frame GFP Intensity RFP Intensity Phase Intensity Area     x    y  \\\n",
      "0       387   120         33562         34177         4686228  240  1018  383   \n",
      "1       387   121             0             0               0    0  1018  383   \n",
      "2       387   122         54967         56727         7561339  385  1017  392   \n",
      "3       387   123         56867         59417         8391674  394  1017  399   \n",
      "4       387   124         83187         82099        12385527  580  1015  402   \n",
      "..      ...   ...           ...           ...             ...  ...   ...  ...   \n",
      "261     387   381         96742         28363         5312270  278  1018  531   \n",
      "262     387   382        104246         32194         6060663  315  1018  533   \n",
      "263     387   383        107053         32087         5605114  315  1018  533   \n",
      "264     387   384         52572         14760         2522616  143  1019  533   \n",
      "265     387   385         37352         10963         2034409  108  1019  538   \n",
      "\n",
      "                         mask_fn  \n",
      "0    s_0121_fucci_merge_gray.tif  \n",
      "1    s_0122_fucci_merge_gray.tif  \n",
      "2    s_0123_fucci_merge_gray.tif  \n",
      "3    s_0124_fucci_merge_gray.tif  \n",
      "4    s_0125_fucci_merge_gray.tif  \n",
      "..                           ...  \n",
      "261  s_0382_fucci_merge_gray.tif  \n",
      "262  s_0383_fucci_merge_gray.tif  \n",
      "263  s_0384_fucci_merge_gray.tif  \n",
      "264  s_0385_fucci_merge_gray.tif  \n",
      "265  s_0386_fucci_merge_gray.tif  \n",
      "\n",
      "[266 rows x 9 columns]\n",
      "cell ID =  395 progress bar below: (n/N frames):\n"
     ]
    },
    {
     "data": {
      "application/vnd.jupyter.widget-view+json": {
       "model_id": "907ee86e86664b598c22c8de98eac452",
       "version_major": 2,
       "version_minor": 0
      },
      "text/plain": [
       "HBox(children=(FloatProgress(value=0.0, max=616.0), HTML(value='')))"
      ]
     },
     "metadata": {},
     "output_type": "display_data"
    },
    {
     "name": "stdout",
     "output_type": "stream",
     "text": [
      "\n",
      "    Cell ID Frame GFP Intensity RFP Intensity Phase Intensity  Area     x  \\\n",
      "0       395   124        226903        214604        26694470  1555   999   \n",
      "1       395   125             0             0               0     0   999   \n",
      "2       395   126        226972        220934        27434503  1474  1000   \n",
      "3       395   127             0             0               0     0  1000   \n",
      "4       395   128        196771        189712        23114400  1215  1000   \n",
      "..      ...   ...           ...           ...             ...   ...   ...   \n",
      "611     395   735       1227106        319190        57882436  3069   993   \n",
      "612     395   736       1220207        309206        56438782  2974   991   \n",
      "613     395   737       1188566        295858        52883592  2845   989   \n",
      "614     395   738       1164037        296363        55765670  2851   985   \n",
      "615     395   739        947112        239625        45761609  2300   983   \n",
      "\n",
      "       y                      mask_fn  \n",
      "0    310  s_0125_fucci_merge_gray.tif  \n",
      "1    310  s_0126_fucci_merge_gray.tif  \n",
      "2    311  s_0127_fucci_merge_gray.tif  \n",
      "3    311  s_0128_fucci_merge_gray.tif  \n",
      "4    313  s_0129_fucci_merge_gray.tif  \n",
      "..   ...                          ...  \n",
      "611  482  s_0736_fucci_merge_gray.tif  \n",
      "612  481  s_0737_fucci_merge_gray.tif  \n",
      "613  478  s_0738_fucci_merge_gray.tif  \n",
      "614  477  s_0739_fucci_merge_gray.tif  \n",
      "615  472  s_0740_fucci_merge_gray.tif  \n",
      "\n",
      "[616 rows x 9 columns]\n",
      "cell ID =  402 progress bar below: (n/N frames):\n"
     ]
    },
    {
     "data": {
      "application/vnd.jupyter.widget-view+json": {
       "model_id": "a0bb06a0956f4833a878785bb1b82109",
       "version_major": 2,
       "version_minor": 0
      },
      "text/plain": [
       "HBox(children=(FloatProgress(value=0.0, max=328.0), HTML(value='')))"
      ]
     },
     "metadata": {},
     "output_type": "display_data"
    },
    {
     "name": "stdout",
     "output_type": "stream",
     "text": [
      "\n",
      "    Cell ID Frame GFP Intensity RFP Intensity Phase Intensity  Area    x  \\\n",
      "0       402   129         98447        112747        13499415   663  580   \n",
      "1       402   130             0             0               0     0  580   \n",
      "2       402   131             0             0               0     0  580   \n",
      "3       402   132        127697        145289        15688751   871  576   \n",
      "4       402   133        124273        139064        15124649   840  575   \n",
      "..      ...   ...           ...           ...             ...   ...  ...   \n",
      "323     402   452        233259         85058        17028321   818  525   \n",
      "324     402   453        265229         99103        20620967   952  524   \n",
      "325     402   454        202754         74414        15635735   714  522   \n",
      "326     402   455        258601        101869        21441032   983  523   \n",
      "327     402   456        290997        117929        24120486  1139  521   \n",
      "\n",
      "        y                      mask_fn  \n",
      "0     810  s_0130_fucci_merge_gray.tif  \n",
      "1     810  s_0131_fucci_merge_gray.tif  \n",
      "2     810  s_0132_fucci_merge_gray.tif  \n",
      "3     813  s_0133_fucci_merge_gray.tif  \n",
      "4     815  s_0134_fucci_merge_gray.tif  \n",
      "..    ...                          ...  \n",
      "323   994  s_0453_fucci_merge_gray.tif  \n",
      "324   996  s_0454_fucci_merge_gray.tif  \n",
      "325   996  s_0455_fucci_merge_gray.tif  \n",
      "326   999  s_0456_fucci_merge_gray.tif  \n",
      "327  1001  s_0457_fucci_merge_gray.tif  \n",
      "\n",
      "[328 rows x 9 columns]\n",
      "cell ID =  414 progress bar below: (n/N frames):\n"
     ]
    },
    {
     "data": {
      "application/vnd.jupyter.widget-view+json": {
       "model_id": "5408c9fe6ca64ab4879313241ed74d8e",
       "version_major": 2,
       "version_minor": 0
      },
      "text/plain": [
       "HBox(children=(FloatProgress(value=0.0, max=857.0), HTML(value='')))"
      ]
     },
     "metadata": {},
     "output_type": "display_data"
    },
    {
     "name": "stdout",
     "output_type": "stream",
     "text": [
      "\n",
      "    Cell ID Frame GFP Intensity RFP Intensity Phase Intensity Area    x    y  \\\n",
      "0       414   134        229195        163466        19493081  795  404  458   \n",
      "1       414   135        248688        184259        21737739  878  404  458   \n",
      "2       414   136        277864        191056        25378366  970  405  456   \n",
      "3       414   137        277698        184660        25004917  963  410  457   \n",
      "4       414   138        262154        177274        24224802  903  411  456   \n",
      "..      ...   ...           ...           ...             ...  ...  ...  ...   \n",
      "852     414   986             0             0               0    0  367  565   \n",
      "853     414   987        182789        155581        17849848  628  370  568   \n",
      "854     414   988        228939        195102        22192340  765  369  568   \n",
      "855     414   989        122249        111396        12389830  403  368  569   \n",
      "856     414   990        174549        158541        17896801  592  370  568   \n",
      "\n",
      "                         mask_fn  \n",
      "0    s_0135_fucci_merge_gray.tif  \n",
      "1    s_0136_fucci_merge_gray.tif  \n",
      "2    s_0137_fucci_merge_gray.tif  \n",
      "3    s_0138_fucci_merge_gray.tif  \n",
      "4    s_0139_fucci_merge_gray.tif  \n",
      "..                           ...  \n",
      "852  s_0987_fucci_merge_gray.tif  \n",
      "853  s_0988_fucci_merge_gray.tif  \n",
      "854  s_0989_fucci_merge_gray.tif  \n",
      "855  s_0990_fucci_merge_gray.tif  \n",
      "856  s_0991_fucci_merge_gray.tif  \n",
      "\n",
      "[857 rows x 9 columns]\n",
      "cell ID =  417 progress bar below: (n/N frames):\n"
     ]
    },
    {
     "data": {
      "application/vnd.jupyter.widget-view+json": {
       "model_id": "07faf22185cb4bb79dc37b7704483b36",
       "version_major": 2,
       "version_minor": 0
      },
      "text/plain": [
       "HBox(children=(FloatProgress(value=0.0, max=322.0), HTML(value='')))"
      ]
     },
     "metadata": {},
     "output_type": "display_data"
    },
    {
     "name": "stdout",
     "output_type": "stream",
     "text": [
      "\n",
      "    Cell ID Frame GFP Intensity RFP Intensity Phase Intensity Area     x    y  \\\n",
      "0       417   135         28931         31330         3256461  210  1018  230   \n",
      "1       417   136         48858         57568         5466388  316  1017  231   \n",
      "2       417   137         73250         89704         7972993  470  1015  232   \n",
      "3       417   138         93964        114200        10419881  617  1014  232   \n",
      "4       417   139        123442        152123        13248855  800  1013  232   \n",
      "..      ...   ...           ...           ...             ...  ...   ...  ...   \n",
      "317     417   452         60393         13773         2332234  135  1019  344   \n",
      "318     417   453         68718         16641         2843934  163  1019  343   \n",
      "319     417   454         68950         16250         2688597  158  1019  343   \n",
      "320     417   455         75951         17765         2950492  173  1019  343   \n",
      "321     417   456         68823         15953         2699637  156  1019  343   \n",
      "\n",
      "                         mask_fn  \n",
      "0    s_0136_fucci_merge_gray.tif  \n",
      "1    s_0137_fucci_merge_gray.tif  \n",
      "2    s_0138_fucci_merge_gray.tif  \n",
      "3    s_0139_fucci_merge_gray.tif  \n",
      "4    s_0140_fucci_merge_gray.tif  \n",
      "..                           ...  \n",
      "317  s_0453_fucci_merge_gray.tif  \n",
      "318  s_0454_fucci_merge_gray.tif  \n",
      "319  s_0455_fucci_merge_gray.tif  \n",
      "320  s_0456_fucci_merge_gray.tif  \n",
      "321  s_0457_fucci_merge_gray.tif  \n",
      "\n",
      "[322 rows x 9 columns]\n",
      "cell ID =  429 progress bar below: (n/N frames):\n"
     ]
    },
    {
     "data": {
      "application/vnd.jupyter.widget-view+json": {
       "model_id": "d5af4d065646434bbe159a95d303243c",
       "version_major": 2,
       "version_minor": 0
      },
      "text/plain": [
       "HBox(children=(FloatProgress(value=0.0, max=466.0), HTML(value='')))"
      ]
     },
     "metadata": {},
     "output_type": "display_data"
    },
    {
     "name": "stdout",
     "output_type": "stream",
     "text": [
      "\n",
      "    Cell ID Frame GFP Intensity RFP Intensity Phase Intensity  Area    x    y  \\\n",
      "0       429   142        131910        171064        15667133   818  275  912   \n",
      "1       429   143        213411        270630        23674499  1375  276  905   \n",
      "2       429   144        217571        269239        23521708  1411  274  902   \n",
      "3       429   145        208631        264735        22613929  1323  273  901   \n",
      "4       429   146        177536        223646        20390794  1106  269  901   \n",
      "..      ...   ...           ...           ...             ...   ...  ...  ...   \n",
      "461     429   603       3289118        488602       129876054  4628  201  850   \n",
      "462     429   604       3352778        485508       130945420  4590  201  853   \n",
      "463     429   605       2458062        413707       117683604  3915  198  844   \n",
      "464     429   606       1864571        347870       103481254  3280  195  839   \n",
      "465     429   607       1622593        340346       100192639  3205  194  835   \n",
      "\n",
      "                         mask_fn  \n",
      "0    s_0143_fucci_merge_gray.tif  \n",
      "1    s_0144_fucci_merge_gray.tif  \n",
      "2    s_0145_fucci_merge_gray.tif  \n",
      "3    s_0146_fucci_merge_gray.tif  \n",
      "4    s_0147_fucci_merge_gray.tif  \n",
      "..                           ...  \n",
      "461  s_0604_fucci_merge_gray.tif  \n",
      "462  s_0605_fucci_merge_gray.tif  \n",
      "463  s_0606_fucci_merge_gray.tif  \n",
      "464  s_0607_fucci_merge_gray.tif  \n",
      "465  s_0608_fucci_merge_gray.tif  \n",
      "\n",
      "[466 rows x 9 columns]\n",
      "cell ID =  435 progress bar below: (n/N frames):\n"
     ]
    },
    {
     "data": {
      "application/vnd.jupyter.widget-view+json": {
       "model_id": "3b3fa98a0064416c83fd2e7a2a7d8e9e",
       "version_major": 2,
       "version_minor": 0
      },
      "text/plain": [
       "HBox(children=(FloatProgress(value=0.0, max=392.0), HTML(value='')))"
      ]
     },
     "metadata": {},
     "output_type": "display_data"
    },
    {
     "name": "stdout",
     "output_type": "stream",
     "text": [
      "\n",
      "    Cell ID Frame GFP Intensity RFP Intensity Phase Intensity  Area    x    y  \\\n",
      "0       435   143        199786        211710        18966439  1311  343  502   \n",
      "1       435   144        216069        228496        19973668  1429  338  501   \n",
      "2       435   145        181130        194520        17114344  1184  340  503   \n",
      "3       435   146        220249        232291        19444990  1448  333  502   \n",
      "4       435   147        143499        156923        12751107   936  333  504   \n",
      "..      ...   ...           ...           ...             ...   ...  ...  ...   \n",
      "387     435   530        948372        156577        19151454  1478  208  515   \n",
      "388     435   531       1771105        276141        33120466  2613  199  520   \n",
      "389     435   532       1820049        286368        34026578  2704  199  520   \n",
      "390     435   533       1766452        281094        32998897  2652  199  520   \n",
      "391     435   534        783797        129833        14600536  1227  188  526   \n",
      "\n",
      "                         mask_fn  \n",
      "0    s_0144_fucci_merge_gray.tif  \n",
      "1    s_0145_fucci_merge_gray.tif  \n",
      "2    s_0146_fucci_merge_gray.tif  \n",
      "3    s_0147_fucci_merge_gray.tif  \n",
      "4    s_0148_fucci_merge_gray.tif  \n",
      "..                           ...  \n",
      "387  s_0531_fucci_merge_gray.tif  \n",
      "388  s_0532_fucci_merge_gray.tif  \n",
      "389  s_0533_fucci_merge_gray.tif  \n",
      "390  s_0534_fucci_merge_gray.tif  \n",
      "391  s_0535_fucci_merge_gray.tif  \n",
      "\n",
      "[392 rows x 9 columns]\n",
      "cell ID =  432 progress bar below: (n/N frames):\n"
     ]
    },
    {
     "data": {
      "application/vnd.jupyter.widget-view+json": {
       "model_id": "763b6964205c4bba88319537fc2ac6a2",
       "version_major": 2,
       "version_minor": 0
      },
      "text/plain": [
       "HBox(children=(FloatProgress(value=0.0, max=466.0), HTML(value='')))"
      ]
     },
     "metadata": {},
     "output_type": "display_data"
    },
    {
     "name": "stdout",
     "output_type": "stream",
     "text": [
      "\n",
      "    Cell ID Frame GFP Intensity RFP Intensity Phase Intensity  Area    x    y  \\\n",
      "0       432   143        126429        123346        14925705   868  804  428   \n",
      "1       432   144             0             0               0     0  804  428   \n",
      "2       432   145             0             0               0     0  804  428   \n",
      "3       432   146        167673        165357        20298887  1135  801  431   \n",
      "4       432   147        164050        163600        19525107  1122  802  431   \n",
      "..      ...   ...           ...           ...             ...   ...  ...  ...   \n",
      "461     432   604       2323302        396094       116561596  3650  680  630   \n",
      "462     432   605       2193599        379834       113756400  3492  681  631   \n",
      "463     432   606       2119946        388172       116154950  3576  682  632   \n",
      "464     432   607       1769746        335048       100776942  3102  685  631   \n",
      "465     432   608        869217        162433        51558110  1494  683  627   \n",
      "\n",
      "                         mask_fn  \n",
      "0    s_0144_fucci_merge_gray.tif  \n",
      "1    s_0145_fucci_merge_gray.tif  \n",
      "2    s_0146_fucci_merge_gray.tif  \n",
      "3    s_0147_fucci_merge_gray.tif  \n",
      "4    s_0148_fucci_merge_gray.tif  \n",
      "..                           ...  \n",
      "461  s_0605_fucci_merge_gray.tif  \n",
      "462  s_0606_fucci_merge_gray.tif  \n",
      "463  s_0607_fucci_merge_gray.tif  \n",
      "464  s_0608_fucci_merge_gray.tif  \n",
      "465  s_0609_fucci_merge_gray.tif  \n",
      "\n",
      "[466 rows x 9 columns]\n",
      "cell ID =  431 progress bar below: (n/N frames):\n"
     ]
    },
    {
     "data": {
      "application/vnd.jupyter.widget-view+json": {
       "model_id": "14560c22e1064f2abc880dc07627c23b",
       "version_major": 2,
       "version_minor": 0
      },
      "text/plain": [
       "HBox(children=(FloatProgress(value=0.0, max=498.0), HTML(value='')))"
      ]
     },
     "metadata": {},
     "output_type": "display_data"
    },
    {
     "name": "stdout",
     "output_type": "stream",
     "text": [
      "\n",
      "    Cell ID Frame GFP Intensity RFP Intensity Phase Intensity  Area    x    y  \\\n",
      "0       431   143        176899        176728        18947653  1239  839  381   \n",
      "1       431   144        111600        113078        12375774   778  841  383   \n",
      "2       431   145             0             0               0     0  842  384   \n",
      "3       431   146        179392        178527        18790620  1255  850  390   \n",
      "4       431   147        198743        198679        20837070  1410  854  391   \n",
      "..      ...   ...           ...           ...             ...   ...  ...  ...   \n",
      "493     431   636       1698245        399271       105122723  3813  768  611   \n",
      "494     431   637       1534075        340341        93459750  3234  767  611   \n",
      "495     431   638       1660680        387338       107425555  3681  767  613   \n",
      "496     431   639       1522106        340818        98564515  3249  767  613   \n",
      "497     431   640       1381089        319864        92895867  3040  765  613   \n",
      "\n",
      "                         mask_fn  \n",
      "0    s_0144_fucci_merge_gray.tif  \n",
      "1    s_0145_fucci_merge_gray.tif  \n",
      "2    s_0146_fucci_merge_gray.tif  \n",
      "3    s_0147_fucci_merge_gray.tif  \n",
      "4    s_0148_fucci_merge_gray.tif  \n",
      "..                           ...  \n",
      "493  s_0637_fucci_merge_gray.tif  \n",
      "494  s_0638_fucci_merge_gray.tif  \n",
      "495  s_0639_fucci_merge_gray.tif  \n",
      "496  s_0640_fucci_merge_gray.tif  \n",
      "497  s_0641_fucci_merge_gray.tif  \n",
      "\n",
      "[498 rows x 9 columns]\n",
      "cell ID =  439 progress bar below: (n/N frames):\n"
     ]
    },
    {
     "data": {
      "application/vnd.jupyter.widget-view+json": {
       "model_id": "f886bd0569ec47259ae83fe42ceacc13",
       "version_major": 2,
       "version_minor": 0
      },
      "text/plain": [
       "HBox(children=(FloatProgress(value=0.0, max=535.0), HTML(value='')))"
      ]
     },
     "metadata": {},
     "output_type": "display_data"
    },
    {
     "name": "stdout",
     "output_type": "stream",
     "text": [
      "\n",
      "    Cell ID Frame GFP Intensity RFP Intensity Phase Intensity  Area    x    y  \\\n",
      "0       439   144        101705         91369         9361205   674  260  463   \n",
      "1       439   145             0             0               0     0  260  463   \n",
      "2       439   146        127710        116806        11779869   862  259  466   \n",
      "3       439   147         92072         89910         8195003   610  260  467   \n",
      "4       439   148        192862        172111        17231844  1262  257  470   \n",
      "..      ...   ...           ...           ...             ...   ...  ...  ...   \n",
      "530     439   674       2468391        503867       104005956  4668  146  535   \n",
      "531     439   675       2415315        517318       106967846  4783  148  534   \n",
      "532     439   676       2289058        488661        97930599  4501  148  534   \n",
      "533     439   677       2228434        502719       104789246  4626  151  532   \n",
      "534     439   678       2022386        499802       106142854  4602  153  530   \n",
      "\n",
      "                         mask_fn  \n",
      "0    s_0145_fucci_merge_gray.tif  \n",
      "1    s_0146_fucci_merge_gray.tif  \n",
      "2    s_0147_fucci_merge_gray.tif  \n",
      "3    s_0148_fucci_merge_gray.tif  \n",
      "4    s_0149_fucci_merge_gray.tif  \n",
      "..                           ...  \n",
      "530  s_0675_fucci_merge_gray.tif  \n",
      "531  s_0676_fucci_merge_gray.tif  \n",
      "532  s_0677_fucci_merge_gray.tif  \n",
      "533  s_0678_fucci_merge_gray.tif  \n",
      "534  s_0679_fucci_merge_gray.tif  \n",
      "\n",
      "[535 rows x 9 columns]\n",
      "cell ID =  441 progress bar below: (n/N frames):\n"
     ]
    },
    {
     "data": {
      "application/vnd.jupyter.widget-view+json": {
       "model_id": "57fdfff0c88e429b8f393f9313f43b9a",
       "version_major": 2,
       "version_minor": 0
      },
      "text/plain": [
       "HBox(children=(FloatProgress(value=0.0, max=938.0), HTML(value='')))"
      ]
     },
     "metadata": {},
     "output_type": "display_data"
    },
    {
     "name": "stdout",
     "output_type": "stream",
     "text": [
      "\n",
      "    Cell ID Frame GFP Intensity RFP Intensity Phase Intensity  Area    x    y  \\\n",
      "0       441   145         77796         76312        10145777   529  592  161   \n",
      "1       441   146        163214        155654        20412608  1129  595  157   \n",
      "2       441   147        167100        161014        20685732  1169  595  155   \n",
      "3       441   148        166192        161843        20319769  1139  592  155   \n",
      "4       441   149        183411        175491        22924330  1267  591  152   \n",
      "..      ...   ...           ...           ...             ...   ...  ...  ...   \n",
      "933     441  1078        688438        187196        31023212  1744  741  246   \n",
      "934     441  1079        740452        210643        34720433  1950  737  245   \n",
      "935     441  1080             0             0               0     0  735  243   \n",
      "936     441  1081             0             0               0     0  734  242   \n",
      "937     441  1082        446831        125205        19332116  1155  743  245   \n",
      "\n",
      "                         mask_fn  \n",
      "0    s_0146_fucci_merge_gray.tif  \n",
      "1    s_0147_fucci_merge_gray.tif  \n",
      "2    s_0148_fucci_merge_gray.tif  \n",
      "3    s_0149_fucci_merge_gray.tif  \n",
      "4    s_0150_fucci_merge_gray.tif  \n",
      "..                           ...  \n",
      "933  s_1079_fucci_merge_gray.tif  \n",
      "934  s_1080_fucci_merge_gray.tif  \n",
      "935  s_1081_fucci_merge_gray.tif  \n",
      "936  s_1082_fucci_merge_gray.tif  \n",
      "937  s_1083_fucci_merge_gray.tif  \n",
      "\n",
      "[938 rows x 9 columns]\n",
      "cell ID =  445 progress bar below: (n/N frames):\n"
     ]
    },
    {
     "data": {
      "application/vnd.jupyter.widget-view+json": {
       "model_id": "a1cdb9b573e540ae9f05fafb090adb61",
       "version_major": 2,
       "version_minor": 0
      },
      "text/plain": [
       "HBox(children=(FloatProgress(value=0.0, max=493.0), HTML(value='')))"
      ]
     },
     "metadata": {},
     "output_type": "display_data"
    },
    {
     "name": "stdout",
     "output_type": "stream",
     "text": [
      "\n",
      "    Cell ID Frame GFP Intensity RFP Intensity Phase Intensity  Area    x    y  \\\n",
      "0       445   146         24173         26071         3212497   174  313  792   \n",
      "1       445   147        116178        124278        14314264   836  317  781   \n",
      "2       445   148        202626        212078        23381739  1456  313  778   \n",
      "3       445   149             0             0               0     0  310  773   \n",
      "4       445   150             0             0               0     0  307  769   \n",
      "..      ...   ...           ...           ...             ...   ...  ...  ...   \n",
      "488     445   634        408991        143414        24134865  1239  395  964   \n",
      "489     445   635             0             0               0     0  395  964   \n",
      "490     445   636        361390        134831        22438396  1165  396  963   \n",
      "491     445   637             0             0               0     0  396  962   \n",
      "492     445   638        304029        119423        20382812  1030  393  962   \n",
      "\n",
      "                         mask_fn  \n",
      "0    s_0147_fucci_merge_gray.tif  \n",
      "1    s_0148_fucci_merge_gray.tif  \n",
      "2    s_0149_fucci_merge_gray.tif  \n",
      "3    s_0150_fucci_merge_gray.tif  \n",
      "4    s_0151_fucci_merge_gray.tif  \n",
      "..                           ...  \n",
      "488  s_0635_fucci_merge_gray.tif  \n",
      "489  s_0636_fucci_merge_gray.tif  \n",
      "490  s_0637_fucci_merge_gray.tif  \n",
      "491  s_0638_fucci_merge_gray.tif  \n",
      "492  s_0639_fucci_merge_gray.tif  \n",
      "\n",
      "[493 rows x 9 columns]\n",
      "cell ID =  446 progress bar below: (n/N frames):\n"
     ]
    },
    {
     "data": {
      "application/vnd.jupyter.widget-view+json": {
       "model_id": "3a0fac25a08f4603874fe2897136785d",
       "version_major": 2,
       "version_minor": 0
      },
      "text/plain": [
       "HBox(children=(FloatProgress(value=0.0, max=526.0), HTML(value='')))"
      ]
     },
     "metadata": {},
     "output_type": "display_data"
    },
    {
     "name": "stdout",
     "output_type": "stream",
     "text": [
      "\n",
      "    Cell ID Frame GFP Intensity RFP Intensity Phase Intensity  Area    x    y  \\\n",
      "0       446   147         90465         91432         8910343   614  445  295   \n",
      "1       446   148        158329        153687        15220482  1063  442  298   \n",
      "2       446   149             0             0               0     0  439  300   \n",
      "3       446   150             0             0               0     0  436  303   \n",
      "4       446   151             0             0               0     0  433  306   \n",
      "..      ...   ...           ...           ...             ...   ...  ...  ...   \n",
      "521     446   668       1641384        327169        83864621  3015  462  397   \n",
      "522     446   669       1631804        316536        82721992  2947  464  397   \n",
      "523     446   670       1522864        302124        80622935  2781  463  398   \n",
      "524     446   671             0             0               0     0  463  398   \n",
      "525     446   672        981632        196588        55729925  1825  465  398   \n",
      "\n",
      "                         mask_fn  \n",
      "0    s_0148_fucci_merge_gray.tif  \n",
      "1    s_0149_fucci_merge_gray.tif  \n",
      "2    s_0150_fucci_merge_gray.tif  \n",
      "3    s_0151_fucci_merge_gray.tif  \n",
      "4    s_0152_fucci_merge_gray.tif  \n",
      "..                           ...  \n",
      "521  s_0669_fucci_merge_gray.tif  \n",
      "522  s_0670_fucci_merge_gray.tif  \n",
      "523  s_0671_fucci_merge_gray.tif  \n",
      "524  s_0672_fucci_merge_gray.tif  \n",
      "525  s_0673_fucci_merge_gray.tif  \n",
      "\n",
      "[526 rows x 9 columns]\n",
      "cell ID =  447 progress bar below: (n/N frames):\n"
     ]
    },
    {
     "data": {
      "application/vnd.jupyter.widget-view+json": {
       "model_id": "404be0bc373c4c0eb7a570f263fc6fb0",
       "version_major": 2,
       "version_minor": 0
      },
      "text/plain": [
       "HBox(children=(FloatProgress(value=0.0, max=245.0), HTML(value='')))"
      ]
     },
     "metadata": {},
     "output_type": "display_data"
    },
    {
     "name": "stdout",
     "output_type": "stream",
     "text": [
      "\n",
      "    Cell ID Frame GFP Intensity RFP Intensity Phase Intensity  Area    x   y  \\\n",
      "0       447   147         67539         28889         5208062   274  353   4   \n",
      "1       447   148        139476         48934         9143319   463  351   6   \n",
      "2       447   149        225770         73953        13618001   702  352   8   \n",
      "3       447   150        331723         92248        16972657   872  352  10   \n",
      "4       447   151        424986        125527        23313800  1187  357  12   \n",
      "..      ...   ...           ...           ...             ...   ...  ...  ..   \n",
      "240     447   387       1758561        373528       105858022  3452  409  75   \n",
      "241     447   388       1592410        335641        99947658  3101  406  76   \n",
      "242     447   389       1552573        334434        97622536  3058  405  78   \n",
      "243     447   390       1528616        345052       101118972  3140  405  79   \n",
      "244     447   391       1300965        301472        94137362  2775  404  79   \n",
      "\n",
      "                         mask_fn  \n",
      "0    s_0148_fucci_merge_gray.tif  \n",
      "1    s_0149_fucci_merge_gray.tif  \n",
      "2    s_0150_fucci_merge_gray.tif  \n",
      "3    s_0151_fucci_merge_gray.tif  \n",
      "4    s_0152_fucci_merge_gray.tif  \n",
      "..                           ...  \n",
      "240  s_0388_fucci_merge_gray.tif  \n",
      "241  s_0389_fucci_merge_gray.tif  \n",
      "242  s_0390_fucci_merge_gray.tif  \n",
      "243  s_0391_fucci_merge_gray.tif  \n",
      "244  s_0392_fucci_merge_gray.tif  \n",
      "\n",
      "[245 rows x 9 columns]\n",
      "cell ID =  448 progress bar below: (n/N frames):\n"
     ]
    },
    {
     "data": {
      "application/vnd.jupyter.widget-view+json": {
       "model_id": "5ab74c1f890847a7aa3b909042c6f000",
       "version_major": 2,
       "version_minor": 0
      },
      "text/plain": [
       "HBox(children=(FloatProgress(value=0.0, max=527.0), HTML(value='')))"
      ]
     },
     "metadata": {},
     "output_type": "display_data"
    },
    {
     "name": "stdout",
     "output_type": "stream",
     "text": [
      "\n",
      "    Cell ID Frame GFP Intensity RFP Intensity Phase Intensity  Area    x    y  \\\n",
      "0       448   148        225973        207320        24023009  1409  191  913   \n",
      "1       448   149             0             0               0     0  191  913   \n",
      "2       448   150             0             0               0     0  191  913   \n",
      "3       448   151        182741        161307        19513609  1059  191  911   \n",
      "4       448   152             0             0               0     0  190  909   \n",
      "..      ...   ...           ...           ...             ...   ...  ...  ...   \n",
      "522     448   670       1996716        419453       106332453  3984  115  970   \n",
      "523     448   671       1826062        386969        99306839  3666  116  972   \n",
      "524     448   672       1753274        390421       101795103  3712  117  974   \n",
      "525     448   673       1675426        356701        95778469  3376  114  973   \n",
      "526     448   674       1369627        297750        79129610  2816  114  974   \n",
      "\n",
      "                         mask_fn  \n",
      "0    s_0149_fucci_merge_gray.tif  \n",
      "1    s_0150_fucci_merge_gray.tif  \n",
      "2    s_0151_fucci_merge_gray.tif  \n",
      "3    s_0152_fucci_merge_gray.tif  \n",
      "4    s_0153_fucci_merge_gray.tif  \n",
      "..                           ...  \n",
      "522  s_0671_fucci_merge_gray.tif  \n",
      "523  s_0672_fucci_merge_gray.tif  \n",
      "524  s_0673_fucci_merge_gray.tif  \n",
      "525  s_0674_fucci_merge_gray.tif  \n",
      "526  s_0675_fucci_merge_gray.tif  \n",
      "\n",
      "[527 rows x 9 columns]\n",
      "cell ID =  449 progress bar below: (n/N frames):\n"
     ]
    },
    {
     "data": {
      "application/vnd.jupyter.widget-view+json": {
       "model_id": "0943807a632d4054bc5c95fec3cff555",
       "version_major": 2,
       "version_minor": 0
      },
      "text/plain": [
       "HBox(children=(FloatProgress(value=0.0, max=440.0), HTML(value='')))"
      ]
     },
     "metadata": {},
     "output_type": "display_data"
    },
    {
     "name": "stdout",
     "output_type": "stream",
     "text": [
      "\n",
      "    Cell ID Frame GFP Intensity RFP Intensity Phase Intensity  Area    x    y  \\\n",
      "0       449   149        121744        121716        14490807   866  864  511   \n",
      "1       449   150        102941        106035        12728183   722  860  512   \n",
      "2       449   151        113817        119252        13985581   801  858  516   \n",
      "3       449   152        145820        153062        18119535  1023  860  517   \n",
      "4       449   153        160201        168810        20420568  1123  859  517   \n",
      "..      ...   ...           ...           ...             ...   ...  ...  ...   \n",
      "435     449   584       1356817        340046        82854078  3267  877  587   \n",
      "436     449   585       1369131        339968        90832061  3270  877  586   \n",
      "437     449   586       1295868        311520        85902365  2989  881  583   \n",
      "438     449   587       1060558        239825        72066424  2298  876  584   \n",
      "439     449   588       1231239        315800        88827056  3032  881  584   \n",
      "\n",
      "                         mask_fn  \n",
      "0    s_0150_fucci_merge_gray.tif  \n",
      "1    s_0151_fucci_merge_gray.tif  \n",
      "2    s_0152_fucci_merge_gray.tif  \n",
      "3    s_0153_fucci_merge_gray.tif  \n",
      "4    s_0154_fucci_merge_gray.tif  \n",
      "..                           ...  \n",
      "435  s_0585_fucci_merge_gray.tif  \n",
      "436  s_0586_fucci_merge_gray.tif  \n",
      "437  s_0587_fucci_merge_gray.tif  \n",
      "438  s_0588_fucci_merge_gray.tif  \n",
      "439  s_0589_fucci_merge_gray.tif  \n",
      "\n",
      "[440 rows x 9 columns]\n",
      "cell ID =  451 progress bar below: (n/N frames):\n"
     ]
    },
    {
     "data": {
      "application/vnd.jupyter.widget-view+json": {
       "model_id": "2b2438348d6c434d9516ff793f832b3f",
       "version_major": 2,
       "version_minor": 0
      },
      "text/plain": [
       "HBox(children=(FloatProgress(value=0.0, max=532.0), HTML(value='')))"
      ]
     },
     "metadata": {},
     "output_type": "display_data"
    },
    {
     "name": "stdout",
     "output_type": "stream",
     "text": [
      "\n",
      "    Cell ID Frame GFP Intensity RFP Intensity Phase Intensity  Area    x    y  \\\n",
      "0       451   150        121427        121134        13469006   888  875  320   \n",
      "1       451   151             0             0               0     0  875  320   \n",
      "2       451   152        187758        186548        20481745  1354  870  327   \n",
      "3       451   153        222793        222413        25022789  1621  866  332   \n",
      "4       451   154        245827        241633        25869530  1764  865  338   \n",
      "..      ...   ...           ...           ...             ...   ...  ...  ...   \n",
      "527     451   677       1367657        380432        62392978  3649  876  544   \n",
      "528     451   678       1334868        379545        64109726  3646  877  545   \n",
      "529     451   679       1328027        371919        62770429  3555  876  544   \n",
      "530     451   680       1236011        344497        59458604  3289  875  544   \n",
      "531     451   681       1165658        319480        55501044  3061  876  543   \n",
      "\n",
      "                         mask_fn  \n",
      "0    s_0151_fucci_merge_gray.tif  \n",
      "1    s_0152_fucci_merge_gray.tif  \n",
      "2    s_0153_fucci_merge_gray.tif  \n",
      "3    s_0154_fucci_merge_gray.tif  \n",
      "4    s_0155_fucci_merge_gray.tif  \n",
      "..                           ...  \n",
      "527  s_0678_fucci_merge_gray.tif  \n",
      "528  s_0679_fucci_merge_gray.tif  \n",
      "529  s_0680_fucci_merge_gray.tif  \n",
      "530  s_0681_fucci_merge_gray.tif  \n",
      "531  s_0682_fucci_merge_gray.tif  \n",
      "\n",
      "[532 rows x 9 columns]\n",
      "cell ID =  458 progress bar below: (n/N frames):\n"
     ]
    },
    {
     "data": {
      "application/vnd.jupyter.widget-view+json": {
       "model_id": "761f40761ede412c8b2522754af75b2f",
       "version_major": 2,
       "version_minor": 0
      },
      "text/plain": [
       "HBox(children=(FloatProgress(value=0.0, max=577.0), HTML(value='')))"
      ]
     },
     "metadata": {},
     "output_type": "display_data"
    },
    {
     "name": "stdout",
     "output_type": "stream",
     "text": [
      "\n",
      "    Cell ID Frame GFP Intensity RFP Intensity Phase Intensity  Area    x    y  \\\n",
      "0       458   153        100702        110777        12040976   714  473  790   \n",
      "1       458   154             0             0               0     0  473  790   \n",
      "2       458   155             0             0               0     0  473  790   \n",
      "3       458   156         92354        105046        10332779   651  469  785   \n",
      "4       458   157        108084        122589        12595653   757  471  786   \n",
      "..      ...   ...           ...           ...             ...   ...  ...  ...   \n",
      "572     458   725       1652082        333794       100594832  3159  444  935   \n",
      "573     458   726       1810755        380996       114397468  3548  446  938   \n",
      "574     458   727       1740987        360204       106032080  3390  444  937   \n",
      "575     458   728       1631319        370046       103763970  3206  445  937   \n",
      "576     458   729       1108109        241352        70799967  2209  441  940   \n",
      "\n",
      "                         mask_fn  \n",
      "0    s_0154_fucci_merge_gray.tif  \n",
      "1    s_0155_fucci_merge_gray.tif  \n",
      "2    s_0156_fucci_merge_gray.tif  \n",
      "3    s_0157_fucci_merge_gray.tif  \n",
      "4    s_0158_fucci_merge_gray.tif  \n",
      "..                           ...  \n",
      "572  s_0726_fucci_merge_gray.tif  \n",
      "573  s_0727_fucci_merge_gray.tif  \n",
      "574  s_0728_fucci_merge_gray.tif  \n",
      "575  s_0729_fucci_merge_gray.tif  \n",
      "576  s_0730_fucci_merge_gray.tif  \n",
      "\n",
      "[577 rows x 9 columns]\n",
      "cell ID =  461 progress bar below: (n/N frames):\n"
     ]
    },
    {
     "data": {
      "application/vnd.jupyter.widget-view+json": {
       "model_id": "b461ee877fa74dea8f927107b18762fb",
       "version_major": 2,
       "version_minor": 0
      },
      "text/plain": [
       "HBox(children=(FloatProgress(value=0.0, max=357.0), HTML(value='')))"
      ]
     },
     "metadata": {},
     "output_type": "display_data"
    },
    {
     "name": "stdout",
     "output_type": "stream",
     "text": [
      "\n",
      "    Cell ID Frame GFP Intensity RFP Intensity Phase Intensity  Area     x  \\\n",
      "0       461   154         30846         16080         1871206   121  1019   \n",
      "1       461   155         53809         27273         3329347   210  1018   \n",
      "2       461   156         86130         44024         5220824   336  1017   \n",
      "3       461   157        124240         58503         6836346   420  1016   \n",
      "4       461   158        138374         61197         6214399   424  1017   \n",
      "..      ...   ...           ...           ...             ...   ...   ...   \n",
      "352     461   506       1759215        369582       115195215  3553   983   \n",
      "353     461   507       1617174        364761       115824423  3520   982   \n",
      "354     461   508       1389758        317101       101840022  3024   982   \n",
      "355     461   509        494701        128968        39309400  1240   959   \n",
      "356     461   510        318732         86971        27914759   840   957   \n",
      "\n",
      "       y                      mask_fn  \n",
      "0    561  s_0155_fucci_merge_gray.tif  \n",
      "1    559  s_0156_fucci_merge_gray.tif  \n",
      "2    558  s_0157_fucci_merge_gray.tif  \n",
      "3    556  s_0158_fucci_merge_gray.tif  \n",
      "4    557  s_0159_fucci_merge_gray.tif  \n",
      "..   ...                          ...  \n",
      "352  734  s_0507_fucci_merge_gray.tif  \n",
      "353  735  s_0508_fucci_merge_gray.tif  \n",
      "354  731  s_0509_fucci_merge_gray.tif  \n",
      "355  728  s_0510_fucci_merge_gray.tif  \n",
      "356  729  s_0511_fucci_merge_gray.tif  \n",
      "\n",
      "[357 rows x 9 columns]\n",
      "cell ID =  465 progress bar below: (n/N frames):\n"
     ]
    },
    {
     "data": {
      "application/vnd.jupyter.widget-view+json": {
       "model_id": "a20ba4ddf21d44369827d91e64f2d9a5",
       "version_major": 2,
       "version_minor": 0
      },
      "text/plain": [
       "HBox(children=(FloatProgress(value=0.0, max=445.0), HTML(value='')))"
      ]
     },
     "metadata": {},
     "output_type": "display_data"
    },
    {
     "name": "stdout",
     "output_type": "stream",
     "text": [
      "\n",
      "    Cell ID Frame GFP Intensity RFP Intensity Phase Intensity  Area    x    y  \\\n",
      "0       465   155        119758        126074        10110266   822  130  506   \n",
      "1       465   156        185555        188111        16056655  1301  124  509   \n",
      "2       465   157        154451        159664        13635241  1062  128  507   \n",
      "3       465   158        194474        201315        17207985  1346  128  509   \n",
      "4       465   159        163911        169006        14488448  1131  125  509   \n",
      "..      ...   ...           ...           ...             ...   ...  ...  ...   \n",
      "440     465   595       1520331        401501        74439263  3764   64  563   \n",
      "441     465   596       1516971        408275        78554185  3825   66  560   \n",
      "442     465   597       1500652        386527        82903914  3626   66  559   \n",
      "443     465   598       1357256        362217        82505125  3386   66  559   \n",
      "444     465   599        932095        252368        61977243  2351   69  557   \n",
      "\n",
      "                         mask_fn  \n",
      "0    s_0156_fucci_merge_gray.tif  \n",
      "1    s_0157_fucci_merge_gray.tif  \n",
      "2    s_0158_fucci_merge_gray.tif  \n",
      "3    s_0159_fucci_merge_gray.tif  \n",
      "4    s_0160_fucci_merge_gray.tif  \n",
      "..                           ...  \n",
      "440  s_0596_fucci_merge_gray.tif  \n",
      "441  s_0597_fucci_merge_gray.tif  \n",
      "442  s_0598_fucci_merge_gray.tif  \n",
      "443  s_0599_fucci_merge_gray.tif  \n",
      "444  s_0600_fucci_merge_gray.tif  \n",
      "\n",
      "[445 rows x 9 columns]\n",
      "cell ID =  477 progress bar below: (n/N frames):\n"
     ]
    },
    {
     "data": {
      "application/vnd.jupyter.widget-view+json": {
       "model_id": "8b1b5564de454247a781daeee800933a",
       "version_major": 2,
       "version_minor": 0
      },
      "text/plain": [
       "HBox(children=(FloatProgress(value=0.0, max=543.0), HTML(value='')))"
      ]
     },
     "metadata": {},
     "output_type": "display_data"
    },
    {
     "name": "stdout",
     "output_type": "stream",
     "text": [
      "\n",
      "    Cell ID Frame GFP Intensity RFP Intensity Phase Intensity  Area    x    y  \\\n",
      "0       477   164        191661        202533        15189497  1293  169  301   \n",
      "1       477   165        186940        199535        14632908  1260  169  302   \n",
      "2       477   166        189424        203206        15076156  1264  171  302   \n",
      "3       477   167             0             0               0     0  172  302   \n",
      "4       477   168             0             0               0     0  174  302   \n",
      "..      ...   ...           ...           ...             ...   ...  ...  ...   \n",
      "538     477   702       2866339        375748        70834873  3219  173  330   \n",
      "539     477   703       2817793        362836        72005550  3135  177  332   \n",
      "540     477   704       2887525        393482        75305177  3197  175  330   \n",
      "541     477   705       2502886        366089        72403831  3028  175  330   \n",
      "542     477   706       2341175        427900        78900005  3295  174  331   \n",
      "\n",
      "                         mask_fn  \n",
      "0    s_0165_fucci_merge_gray.tif  \n",
      "1    s_0166_fucci_merge_gray.tif  \n",
      "2    s_0167_fucci_merge_gray.tif  \n",
      "3    s_0168_fucci_merge_gray.tif  \n",
      "4    s_0169_fucci_merge_gray.tif  \n",
      "..                           ...  \n",
      "538  s_0703_fucci_merge_gray.tif  \n",
      "539  s_0704_fucci_merge_gray.tif  \n",
      "540  s_0705_fucci_merge_gray.tif  \n",
      "541  s_0706_fucci_merge_gray.tif  \n",
      "542  s_0707_fucci_merge_gray.tif  \n",
      "\n",
      "[543 rows x 9 columns]\n",
      "cell ID =  482 progress bar below: (n/N frames):\n"
     ]
    },
    {
     "data": {
      "application/vnd.jupyter.widget-view+json": {
       "model_id": "84e32c30867640d998d56d5fb715798a",
       "version_major": 2,
       "version_minor": 0
      },
      "text/plain": [
       "HBox(children=(FloatProgress(value=0.0, max=495.0), HTML(value='')))"
      ]
     },
     "metadata": {},
     "output_type": "display_data"
    },
    {
     "name": "stdout",
     "output_type": "stream",
     "text": [
      "\n",
      "    Cell ID Frame GFP Intensity RFP Intensity Phase Intensity  Area    x    y  \\\n",
      "0       482   166        197734        200452        17495786  1329  171  377   \n",
      "1       482   167             0             0               0     0  171  377   \n",
      "2       482   168        151307        161795        13049464  1011  172  378   \n",
      "3       482   169        193602        205369        15912310  1304  172  383   \n",
      "4       482   170        182387        189619        14952974  1205  171  385   \n",
      "..      ...   ...           ...           ...             ...   ...  ...  ...   \n",
      "490     482   656       2547101        367846        80602775  3372  153  389   \n",
      "491     482   657       2379117        367393        81345516  3362  154  390   \n",
      "492     482   658       2156348        361938        77992285  3272  152  390   \n",
      "493     482   659        964451        183587        39385470  1666  166  409   \n",
      "494     482   660        724611        137468        29832193  1255  167  410   \n",
      "\n",
      "                         mask_fn  \n",
      "0    s_0167_fucci_merge_gray.tif  \n",
      "1    s_0168_fucci_merge_gray.tif  \n",
      "2    s_0169_fucci_merge_gray.tif  \n",
      "3    s_0170_fucci_merge_gray.tif  \n",
      "4    s_0171_fucci_merge_gray.tif  \n",
      "..                           ...  \n",
      "490  s_0657_fucci_merge_gray.tif  \n",
      "491  s_0658_fucci_merge_gray.tif  \n",
      "492  s_0659_fucci_merge_gray.tif  \n",
      "493  s_0660_fucci_merge_gray.tif  \n",
      "494  s_0661_fucci_merge_gray.tif  \n",
      "\n",
      "[495 rows x 9 columns]\n",
      "cell ID =  488 progress bar below: (n/N frames):\n"
     ]
    },
    {
     "data": {
      "application/vnd.jupyter.widget-view+json": {
       "model_id": "05284feb047141ed9babcfc921042664",
       "version_major": 2,
       "version_minor": 0
      },
      "text/plain": [
       "HBox(children=(FloatProgress(value=0.0, max=288.0), HTML(value='')))"
      ]
     },
     "metadata": {},
     "output_type": "display_data"
    },
    {
     "name": "stdout",
     "output_type": "stream",
     "text": [
      "\n",
      "    Cell ID Frame GFP Intensity RFP Intensity Phase Intensity  Area    x    y  \\\n",
      "0       488   170         94375        114096        11406497   649  902  820   \n",
      "1       488   171        160740        192340        20493314  1133  904  823   \n",
      "2       488   172        106429        127719        12544257   731  899  822   \n",
      "3       488   173        111658        135531        13462154   768  897  825   \n",
      "4       488   174        209614        248982        25957722  1502  895  828   \n",
      "..      ...   ...           ...           ...             ...   ...  ...  ...   \n",
      "283     488   453        527760        198215        36546085  1931  826  955   \n",
      "284     488   454        311579        109219        21054523  1060  825  952   \n",
      "285     488   455             0             0               0     0  823  950   \n",
      "286     488   456        366588        128562        23830331  1251  822  953   \n",
      "287     488   457        453161        167147        31501154  1622  821  955   \n",
      "\n",
      "                         mask_fn  \n",
      "0    s_0171_fucci_merge_gray.tif  \n",
      "1    s_0172_fucci_merge_gray.tif  \n",
      "2    s_0173_fucci_merge_gray.tif  \n",
      "3    s_0174_fucci_merge_gray.tif  \n",
      "4    s_0175_fucci_merge_gray.tif  \n",
      "..                           ...  \n",
      "283  s_0454_fucci_merge_gray.tif  \n",
      "284  s_0455_fucci_merge_gray.tif  \n",
      "285  s_0456_fucci_merge_gray.tif  \n",
      "286  s_0457_fucci_merge_gray.tif  \n",
      "287  s_0458_fucci_merge_gray.tif  \n",
      "\n",
      "[288 rows x 9 columns]\n",
      "cell ID =  503 progress bar below: (n/N frames):\n"
     ]
    },
    {
     "data": {
      "application/vnd.jupyter.widget-view+json": {
       "model_id": "98dc72f1f86741baa7b26be07ce9085e",
       "version_major": 2,
       "version_minor": 0
      },
      "text/plain": [
       "HBox(children=(FloatProgress(value=0.0, max=756.0), HTML(value='')))"
      ]
     },
     "metadata": {},
     "output_type": "display_data"
    },
    {
     "name": "stdout",
     "output_type": "stream",
     "text": [
      "\n",
      "    Cell ID Frame GFP Intensity RFP Intensity Phase Intensity  Area    x   y  \\\n",
      "0       503   178         34040         24174         3233853   183  312   3   \n",
      "1       503   179         69015         48162         5411777   306  313   5   \n",
      "2       503   180        108407         78462         8891540   520  311   7   \n",
      "3       503   181        176288        124037        14327446   801  313  10   \n",
      "4       503   182        252605        178746        19276117  1097  315  14   \n",
      "..      ...   ...           ...           ...             ...   ...  ...  ..   \n",
      "751     503   929       2939888        315133        55441997  2811  301  74   \n",
      "752     503   930       1961139        199914        35555932  1790  295  82   \n",
      "753     503   931       2886625        298237        54997851  2674  300  72   \n",
      "754     503   932       2917205        306626        56902024  2736  299  71   \n",
      "755     503   933       2805959        296026        54982026  2658  300  70   \n",
      "\n",
      "                         mask_fn  \n",
      "0    s_0179_fucci_merge_gray.tif  \n",
      "1    s_0180_fucci_merge_gray.tif  \n",
      "2    s_0181_fucci_merge_gray.tif  \n",
      "3    s_0182_fucci_merge_gray.tif  \n",
      "4    s_0183_fucci_merge_gray.tif  \n",
      "..                           ...  \n",
      "751  s_0930_fucci_merge_gray.tif  \n",
      "752  s_0931_fucci_merge_gray.tif  \n",
      "753  s_0932_fucci_merge_gray.tif  \n",
      "754  s_0933_fucci_merge_gray.tif  \n",
      "755  s_0934_fucci_merge_gray.tif  \n",
      "\n",
      "[756 rows x 9 columns]\n",
      "cell ID =  509 progress bar below: (n/N frames):\n"
     ]
    },
    {
     "data": {
      "application/vnd.jupyter.widget-view+json": {
       "model_id": "dbdaee38d13e41c5b15a1c8f0e73f9a1",
       "version_major": 2,
       "version_minor": 0
      },
      "text/plain": [
       "HBox(children=(FloatProgress(value=0.0, max=303.0), HTML(value='')))"
      ]
     },
     "metadata": {},
     "output_type": "display_data"
    },
    {
     "name": "stdout",
     "output_type": "stream",
     "text": [
      "\n",
      "    Cell ID Frame GFP Intensity RFP Intensity Phase Intensity Area    x     y  \\\n",
      "0       509   181         49374         70441         8737424  222  326   912   \n",
      "1       509   182         46853         86154         7604340  229  324   912   \n",
      "2       509   183         44436         87377         8187905  237  324   914   \n",
      "3       509   184         49987         94025         8966437  265  323   915   \n",
      "4       509   185         55641        100288         9512584  311  320   917   \n",
      "..      ...   ...           ...           ...             ...  ...  ...   ...   \n",
      "298     509   479             0             0               0    0  381  1008   \n",
      "299     509   480         12551         15410         2041647   83  379  1007   \n",
      "300     509   481             0             0               0    0  377  1005   \n",
      "301     509   482             0             0               0    0  375  1004   \n",
      "302     509   483         18014         21955         2773171  115  380  1006   \n",
      "\n",
      "                         mask_fn  \n",
      "0    s_0182_fucci_merge_gray.tif  \n",
      "1    s_0183_fucci_merge_gray.tif  \n",
      "2    s_0184_fucci_merge_gray.tif  \n",
      "3    s_0185_fucci_merge_gray.tif  \n",
      "4    s_0186_fucci_merge_gray.tif  \n",
      "..                           ...  \n",
      "298  s_0480_fucci_merge_gray.tif  \n",
      "299  s_0481_fucci_merge_gray.tif  \n",
      "300  s_0482_fucci_merge_gray.tif  \n",
      "301  s_0483_fucci_merge_gray.tif  \n",
      "302  s_0484_fucci_merge_gray.tif  \n",
      "\n",
      "[303 rows x 9 columns]\n",
      "cell ID =  513 progress bar below: (n/N frames):\n"
     ]
    },
    {
     "data": {
      "application/vnd.jupyter.widget-view+json": {
       "model_id": "d75363d049d8445e8e0f664c43ad14db",
       "version_major": 2,
       "version_minor": 0
      },
      "text/plain": [
       "HBox(children=(FloatProgress(value=0.0, max=513.0), HTML(value='')))"
      ]
     },
     "metadata": {},
     "output_type": "display_data"
    },
    {
     "name": "stdout",
     "output_type": "stream",
     "text": [
      "\n",
      "    Cell ID Frame GFP Intensity RFP Intensity Phase Intensity  Area    x    y  \\\n",
      "0       513   182        101914         99984        13462621   711  371  828   \n",
      "1       513   183        141687        141309        19489685  1006  369  830   \n",
      "2       513   184        184474        182630        23393978  1303  368  830   \n",
      "3       513   185        191094        187910        25890030  1353  365  830   \n",
      "4       513   186        173168        172851        23088729  1229  365  832   \n",
      "..      ...   ...           ...           ...             ...   ...  ...  ...   \n",
      "508     513   690       1735205        329136       106803672  3056  323  974   \n",
      "509     513   691       1736150        332233       108128069  3088  322  972   \n",
      "510     513   692       1661874        308725        99416892  2844  322  971   \n",
      "511     513   693       1512948        303452        95127498  2802  322  970   \n",
      "512     513   694       1461364        307234        98620943  2817  319  970   \n",
      "\n",
      "                         mask_fn  \n",
      "0    s_0183_fucci_merge_gray.tif  \n",
      "1    s_0184_fucci_merge_gray.tif  \n",
      "2    s_0185_fucci_merge_gray.tif  \n",
      "3    s_0186_fucci_merge_gray.tif  \n",
      "4    s_0187_fucci_merge_gray.tif  \n",
      "..                           ...  \n",
      "508  s_0691_fucci_merge_gray.tif  \n",
      "509  s_0692_fucci_merge_gray.tif  \n",
      "510  s_0693_fucci_merge_gray.tif  \n",
      "511  s_0694_fucci_merge_gray.tif  \n",
      "512  s_0695_fucci_merge_gray.tif  \n",
      "\n",
      "[513 rows x 9 columns]\n",
      "cell ID =  524 progress bar below: (n/N frames):\n"
     ]
    },
    {
     "data": {
      "application/vnd.jupyter.widget-view+json": {
       "model_id": "8c6b9794a77d4b038bee2a408ccc59bc",
       "version_major": 2,
       "version_minor": 0
      },
      "text/plain": [
       "HBox(children=(FloatProgress(value=0.0, max=379.0), HTML(value='')))"
      ]
     },
     "metadata": {},
     "output_type": "display_data"
    },
    {
     "name": "stdout",
     "output_type": "stream",
     "text": [
      "\n",
      "    Cell ID Frame GFP Intensity RFP Intensity Phase Intensity  Area    x    y  \\\n",
      "0       524   188        212752        195459        30316134  1423  985   76   \n",
      "1       524   189        135745        127274        19765620   911  990   77   \n",
      "2       524   190             0             0               0     0  994   77   \n",
      "3       524   191             0             0               0     0  999   78   \n",
      "4       524   192        187575        172985        24783104  1235  984   76   \n",
      "..      ...   ...           ...           ...             ...   ...  ...  ...   \n",
      "374     524   562        631653        164707        43822093  1585  952  112   \n",
      "375     524   563       1381117        380952        96325998  3641  951  112   \n",
      "376     524   564       1485618        397611       107121098  3815  949  112   \n",
      "377     524   565       1450611        375802       104238158  3588  947  112   \n",
      "378     524   566       1147569        284028        81896788  2714  949  111   \n",
      "\n",
      "                         mask_fn  \n",
      "0    s_0189_fucci_merge_gray.tif  \n",
      "1    s_0190_fucci_merge_gray.tif  \n",
      "2    s_0191_fucci_merge_gray.tif  \n",
      "3    s_0192_fucci_merge_gray.tif  \n",
      "4    s_0193_fucci_merge_gray.tif  \n",
      "..                           ...  \n",
      "374  s_0563_fucci_merge_gray.tif  \n",
      "375  s_0564_fucci_merge_gray.tif  \n",
      "376  s_0565_fucci_merge_gray.tif  \n",
      "377  s_0566_fucci_merge_gray.tif  \n",
      "378  s_0567_fucci_merge_gray.tif  \n",
      "\n",
      "[379 rows x 9 columns]\n",
      "cell ID =  540 progress bar below: (n/N frames):\n"
     ]
    },
    {
     "data": {
      "application/vnd.jupyter.widget-view+json": {
       "model_id": "2b0264a4ecb94c069b57ae8bb70b450a",
       "version_major": 2,
       "version_minor": 0
      },
      "text/plain": [
       "HBox(children=(FloatProgress(value=0.0, max=352.0), HTML(value='')))"
      ]
     },
     "metadata": {},
     "output_type": "display_data"
    },
    {
     "name": "stdout",
     "output_type": "stream",
     "text": [
      "\n",
      "    Cell ID Frame GFP Intensity RFP Intensity Phase Intensity Area    x    y  \\\n",
      "0       540   197        152346        130058        15876125  853  637  525   \n",
      "1       540   198        145311        120457        15670931  822  639  526   \n",
      "2       540   199        152700        126034        16945719  847  637  525   \n",
      "3       540   200        131495        109265        14168321  730  637  526   \n",
      "4       540   201        117910        100463        12956917  659  635  527   \n",
      "..      ...   ...           ...           ...             ...  ...  ...  ...   \n",
      "347     540   544         82809         70358         7653258  390  500  588   \n",
      "348     540   545         59915         51242         5642796  280  499  588   \n",
      "349     540   546             0             0               0    0  498  587   \n",
      "350     540   547        113485         95948        11003269  555  494  589   \n",
      "351     540   548        116128         93897        10951228  541  498  588   \n",
      "\n",
      "                         mask_fn  \n",
      "0    s_0198_fucci_merge_gray.tif  \n",
      "1    s_0199_fucci_merge_gray.tif  \n",
      "2    s_0200_fucci_merge_gray.tif  \n",
      "3    s_0201_fucci_merge_gray.tif  \n",
      "4    s_0202_fucci_merge_gray.tif  \n",
      "..                           ...  \n",
      "347  s_0545_fucci_merge_gray.tif  \n",
      "348  s_0546_fucci_merge_gray.tif  \n",
      "349  s_0547_fucci_merge_gray.tif  \n",
      "350  s_0548_fucci_merge_gray.tif  \n",
      "351  s_0549_fucci_merge_gray.tif  \n",
      "\n",
      "[352 rows x 9 columns]\n",
      "cell ID =  541 progress bar below: (n/N frames):\n"
     ]
    },
    {
     "data": {
      "application/vnd.jupyter.widget-view+json": {
       "model_id": "dbf33490c6f944bbb21154b8232a6776",
       "version_major": 2,
       "version_minor": 0
      },
      "text/plain": [
       "HBox(children=(FloatProgress(value=0.0, max=495.0), HTML(value='')))"
      ]
     },
     "metadata": {},
     "output_type": "display_data"
    },
    {
     "name": "stdout",
     "output_type": "stream",
     "text": [
      "\n",
      "    Cell ID Frame GFP Intensity RFP Intensity Phase Intensity  Area    x    y  \\\n",
      "0       541   197        103194         97693         9223085   716  462  223   \n",
      "1       541   198             0             0               0     0  462  223   \n",
      "2       541   199             0             0               0     0  462  223   \n",
      "3       541   200         94846         88724         9009546   655  456  225   \n",
      "4       541   201             0             0               0     0  450  226   \n",
      "..      ...   ...           ...           ...             ...   ...  ...  ...   \n",
      "490     541   687       1998852        335701        90534287  3171  473  311   \n",
      "491     541   688       1947276        333389        88669428  3130  474  312   \n",
      "492     541   689       1869043        333331        90063588  3125  473  311   \n",
      "493     541   690       1801401        326324        88771888  3076  474  313   \n",
      "494     541   691       1627300        312832        86097828  2934  473  314   \n",
      "\n",
      "                         mask_fn  \n",
      "0    s_0198_fucci_merge_gray.tif  \n",
      "1    s_0199_fucci_merge_gray.tif  \n",
      "2    s_0200_fucci_merge_gray.tif  \n",
      "3    s_0201_fucci_merge_gray.tif  \n",
      "4    s_0202_fucci_merge_gray.tif  \n",
      "..                           ...  \n",
      "490  s_0688_fucci_merge_gray.tif  \n",
      "491  s_0689_fucci_merge_gray.tif  \n",
      "492  s_0690_fucci_merge_gray.tif  \n",
      "493  s_0691_fucci_merge_gray.tif  \n",
      "494  s_0692_fucci_merge_gray.tif  \n",
      "\n",
      "[495 rows x 9 columns]\n",
      "cell ID =  543 progress bar below: (n/N frames):\n"
     ]
    },
    {
     "data": {
      "application/vnd.jupyter.widget-view+json": {
       "model_id": "83e236904ef84ae186bbce0cc72022a4",
       "version_major": 2,
       "version_minor": 0
      },
      "text/plain": [
       "HBox(children=(FloatProgress(value=0.0, max=509.0), HTML(value='')))"
      ]
     },
     "metadata": {},
     "output_type": "display_data"
    },
    {
     "name": "stdout",
     "output_type": "stream",
     "text": [
      "\n",
      "    Cell ID Frame GFP Intensity RFP Intensity Phase Intensity  Area    x    y  \\\n",
      "0       543   197        162487        166291        17675964  1123  314  627   \n",
      "1       543   198        181198        185811        20287139  1268  313  628   \n",
      "2       543   199        132252        137958        15317929   911  310  630   \n",
      "3       543   200        170581        174792        18995153  1171  310  630   \n",
      "4       543   201        170279        175284        19891491  1174  308  630   \n",
      "..      ...   ...           ...           ...             ...   ...  ...  ...   \n",
      "504     543   701       2067632        446024        85014664  4174  203  623   \n",
      "505     543   702       2126081        450595        93570541  4229  206  623   \n",
      "506     543   703       2161943        424800        91241025  3958  209  624   \n",
      "507     543   704       2100680        417971        93791040  3890  206  624   \n",
      "508     543   705       1502979        298035        72719452  2784  198  627   \n",
      "\n",
      "                         mask_fn  \n",
      "0    s_0198_fucci_merge_gray.tif  \n",
      "1    s_0199_fucci_merge_gray.tif  \n",
      "2    s_0200_fucci_merge_gray.tif  \n",
      "3    s_0201_fucci_merge_gray.tif  \n",
      "4    s_0202_fucci_merge_gray.tif  \n",
      "..                           ...  \n",
      "504  s_0702_fucci_merge_gray.tif  \n",
      "505  s_0703_fucci_merge_gray.tif  \n",
      "506  s_0704_fucci_merge_gray.tif  \n",
      "507  s_0705_fucci_merge_gray.tif  \n",
      "508  s_0706_fucci_merge_gray.tif  \n",
      "\n",
      "[509 rows x 9 columns]\n",
      "cell ID =  544 progress bar below: (n/N frames):\n"
     ]
    },
    {
     "data": {
      "application/vnd.jupyter.widget-view+json": {
       "model_id": "4e2b6b302d46450390e9f155e143bd44",
       "version_major": 2,
       "version_minor": 0
      },
      "text/plain": [
       "HBox(children=(FloatProgress(value=0.0, max=403.0), HTML(value='')))"
      ]
     },
     "metadata": {},
     "output_type": "display_data"
    },
    {
     "name": "stdout",
     "output_type": "stream",
     "text": [
      "\n",
      "    Cell ID Frame GFP Intensity RFP Intensity Phase Intensity  Area    x    y  \\\n",
      "0       544   197        217272        229178        25627252  1461  224  704   \n",
      "1       544   198        163219        176252        21162753  1104  222  707   \n",
      "2       544   199        213504        225866        26554292  1440  217  706   \n",
      "3       544   200        212511        226107        26732401  1415  216  707   \n",
      "4       544   201        229607        242638        28821608  1541  215  708   \n",
      "..      ...   ...           ...           ...             ...   ...  ...  ...   \n",
      "398     544   595       1664533        355773        91363869  3336  138  855   \n",
      "399     544   596       1757726        371814        96009815  3506  139  852   \n",
      "400     544   597       1588526        317362        91567258  3000  141  852   \n",
      "401     544   598       1320818        265311        78237990  2491  138  851   \n",
      "402     544   599       1392119        281852        82489104  2644  142  847   \n",
      "\n",
      "                         mask_fn  \n",
      "0    s_0198_fucci_merge_gray.tif  \n",
      "1    s_0199_fucci_merge_gray.tif  \n",
      "2    s_0200_fucci_merge_gray.tif  \n",
      "3    s_0201_fucci_merge_gray.tif  \n",
      "4    s_0202_fucci_merge_gray.tif  \n",
      "..                           ...  \n",
      "398  s_0596_fucci_merge_gray.tif  \n",
      "399  s_0597_fucci_merge_gray.tif  \n",
      "400  s_0598_fucci_merge_gray.tif  \n",
      "401  s_0599_fucci_merge_gray.tif  \n",
      "402  s_0600_fucci_merge_gray.tif  \n",
      "\n",
      "[403 rows x 9 columns]\n",
      "cell ID =  545 progress bar below: (n/N frames):\n"
     ]
    },
    {
     "data": {
      "application/vnd.jupyter.widget-view+json": {
       "model_id": "185728a6b3fc460198836bf6208dc47c",
       "version_major": 2,
       "version_minor": 0
      },
      "text/plain": [
       "HBox(children=(FloatProgress(value=0.0, max=565.0), HTML(value='')))"
      ]
     },
     "metadata": {},
     "output_type": "display_data"
    },
    {
     "name": "stdout",
     "output_type": "stream",
     "text": [
      "\n",
      "    Cell ID Frame GFP Intensity RFP Intensity Phase Intensity  Area    x    y  \\\n",
      "0       545   197        182323        197762        21337782  1259  249  642   \n",
      "1       545   198        178457        193143        21244169  1248  250  641   \n",
      "2       545   199        181957        196415        21158474  1257  246  642   \n",
      "3       545   200        174663        190934        20426462  1195  246  642   \n",
      "4       545   201        176687        196539        21059525  1222  246  641   \n",
      "..      ...   ...           ...           ...             ...   ...  ...  ...   \n",
      "560     545   757       1783683        334904        93522945  2952  154  713   \n",
      "561     545   758       1527676        283897        79839108  2533  153  710   \n",
      "562     545   759       1421212        293013        81943779  2592  153  714   \n",
      "563     545   760             0             0               0     0  154  715   \n",
      "564     545   761        385427        109344        26802540   920  148  744   \n",
      "\n",
      "                         mask_fn  \n",
      "0    s_0198_fucci_merge_gray.tif  \n",
      "1    s_0199_fucci_merge_gray.tif  \n",
      "2    s_0200_fucci_merge_gray.tif  \n",
      "3    s_0201_fucci_merge_gray.tif  \n",
      "4    s_0202_fucci_merge_gray.tif  \n",
      "..                           ...  \n",
      "560  s_0758_fucci_merge_gray.tif  \n",
      "561  s_0759_fucci_merge_gray.tif  \n",
      "562  s_0760_fucci_merge_gray.tif  \n",
      "563  s_0761_fucci_merge_gray.tif  \n",
      "564  s_0762_fucci_merge_gray.tif  \n",
      "\n",
      "[565 rows x 9 columns]\n",
      "cell ID =  552 progress bar below: (n/N frames):\n"
     ]
    },
    {
     "data": {
      "application/vnd.jupyter.widget-view+json": {
       "model_id": "7860ea9eeb9948a597b521806331f18b",
       "version_major": 2,
       "version_minor": 0
      },
      "text/plain": [
       "HBox(children=(FloatProgress(value=0.0, max=347.0), HTML(value='')))"
      ]
     },
     "metadata": {},
     "output_type": "display_data"
    },
    {
     "name": "stdout",
     "output_type": "stream",
     "text": [
      "\n",
      "    Cell ID Frame GFP Intensity RFP Intensity Phase Intensity  Area    x    y  \\\n",
      "0       552   202        202934        118601        18755264  1025  691  163   \n",
      "1       552   203        220791        126825        20458793  1106  690  162   \n",
      "2       552   204        243627        136707        21432449  1192  693  161   \n",
      "3       552   205        190438        104785        16459737   911  688  160   \n",
      "4       552   206        219786        119387        19079546  1041  691  161   \n",
      "..      ...   ...           ...           ...             ...   ...  ...  ...   \n",
      "342     552   544       1815531        404879       105611106  3857  664  298   \n",
      "343     552   545       1796139        383580       104827420  3643  663  299   \n",
      "344     552   546       1724353        370916       104757324  3533  661  299   \n",
      "345     552   547       1732595        371538       106929231  3528  661  299   \n",
      "346     552   548       1485006        341589        99796235  3228  662  299   \n",
      "\n",
      "                         mask_fn  \n",
      "0    s_0203_fucci_merge_gray.tif  \n",
      "1    s_0204_fucci_merge_gray.tif  \n",
      "2    s_0205_fucci_merge_gray.tif  \n",
      "3    s_0206_fucci_merge_gray.tif  \n",
      "4    s_0207_fucci_merge_gray.tif  \n",
      "..                           ...  \n",
      "342  s_0545_fucci_merge_gray.tif  \n",
      "343  s_0546_fucci_merge_gray.tif  \n",
      "344  s_0547_fucci_merge_gray.tif  \n",
      "345  s_0548_fucci_merge_gray.tif  \n",
      "346  s_0549_fucci_merge_gray.tif  \n",
      "\n",
      "[347 rows x 9 columns]\n",
      "cell ID =  557 progress bar below: (n/N frames):\n"
     ]
    },
    {
     "data": {
      "application/vnd.jupyter.widget-view+json": {
       "model_id": "e6d15d3ea04b46c99ef7a042bae67021",
       "version_major": 2,
       "version_minor": 0
      },
      "text/plain": [
       "HBox(children=(FloatProgress(value=0.0, max=458.0), HTML(value='')))"
      ]
     },
     "metadata": {},
     "output_type": "display_data"
    },
    {
     "name": "stdout",
     "output_type": "stream",
     "text": [
      "\n",
      "    Cell ID Frame GFP Intensity RFP Intensity Phase Intensity  Area    x    y  \\\n",
      "0       557   204        169172        166526        17205767  1190  572  543   \n",
      "1       557   205             0             0               0     0  572  543   \n",
      "2       557   206        220466        210422        21189403  1527  569  545   \n",
      "3       557   207             0             0               0     0  566  546   \n",
      "4       557   208        196219        189852        18802432  1352  570  545   \n",
      "..      ...   ...           ...           ...             ...   ...  ...  ...   \n",
      "453     557   657       1924434        388325        87535435  3531  416  671   \n",
      "454     557   658       1948427        391118        87930160  3560  416  673   \n",
      "455     557   659       1749395        350029        84927138  3201  418  673   \n",
      "456     557   660       1759518        367713        87669848  3340  418  674   \n",
      "457     557   661       1491889        309512        77555281  2817  417  673   \n",
      "\n",
      "                         mask_fn  \n",
      "0    s_0205_fucci_merge_gray.tif  \n",
      "1    s_0206_fucci_merge_gray.tif  \n",
      "2    s_0207_fucci_merge_gray.tif  \n",
      "3    s_0208_fucci_merge_gray.tif  \n",
      "4    s_0209_fucci_merge_gray.tif  \n",
      "..                           ...  \n",
      "453  s_0658_fucci_merge_gray.tif  \n",
      "454  s_0659_fucci_merge_gray.tif  \n",
      "455  s_0660_fucci_merge_gray.tif  \n",
      "456  s_0661_fucci_merge_gray.tif  \n",
      "457  s_0662_fucci_merge_gray.tif  \n",
      "\n",
      "[458 rows x 9 columns]\n",
      "cell ID =  562 progress bar below: (n/N frames):\n"
     ]
    },
    {
     "data": {
      "application/vnd.jupyter.widget-view+json": {
       "model_id": "06c07b2bbc504e8c9ac7592e649bd6ab",
       "version_major": 2,
       "version_minor": 0
      },
      "text/plain": [
       "HBox(children=(FloatProgress(value=0.0, max=535.0), HTML(value='')))"
      ]
     },
     "metadata": {},
     "output_type": "display_data"
    },
    {
     "name": "stdout",
     "output_type": "stream",
     "text": [
      "\n",
      "    Cell ID Frame GFP Intensity RFP Intensity Phase Intensity  Area    x    y  \\\n",
      "0       562   206        203242        189172        20609850  1421  601  205   \n",
      "1       562   207        198173        186808        19892995  1397  597  202   \n",
      "2       562   208        267635        247900        27852564  1870  592  201   \n",
      "3       562   209        109161        104023        11759210   749  593  201   \n",
      "4       562   210        158547        151489        17093635  1113  594  200   \n",
      "..      ...   ...           ...           ...             ...   ...  ...  ...   \n",
      "530     562   736       2022297        379541        93662592  3392  544  305   \n",
      "531     562   737       1991914        377586        94673481  3337  543  305   \n",
      "532     562   738       1958400        377387        95107335  3379  540  307   \n",
      "533     562   739       1905793        391336        96810180  3420  541  307   \n",
      "534     562   740       1625063        338894        87198547  3030  541  305   \n",
      "\n",
      "                         mask_fn  \n",
      "0    s_0207_fucci_merge_gray.tif  \n",
      "1    s_0208_fucci_merge_gray.tif  \n",
      "2    s_0209_fucci_merge_gray.tif  \n",
      "3    s_0210_fucci_merge_gray.tif  \n",
      "4    s_0211_fucci_merge_gray.tif  \n",
      "..                           ...  \n",
      "530  s_0737_fucci_merge_gray.tif  \n",
      "531  s_0738_fucci_merge_gray.tif  \n",
      "532  s_0739_fucci_merge_gray.tif  \n",
      "533  s_0740_fucci_merge_gray.tif  \n",
      "534  s_0741_fucci_merge_gray.tif  \n",
      "\n",
      "[535 rows x 9 columns]\n",
      "cell ID =  570 progress bar below: (n/N frames):\n"
     ]
    },
    {
     "data": {
      "application/vnd.jupyter.widget-view+json": {
       "model_id": "840dd7e701224bc490643d0edf235466",
       "version_major": 2,
       "version_minor": 0
      },
      "text/plain": [
       "HBox(children=(FloatProgress(value=0.0, max=879.0), HTML(value='')))"
      ]
     },
     "metadata": {},
     "output_type": "display_data"
    },
    {
     "name": "stdout",
     "output_type": "stream",
     "text": [
      "\n",
      "    Cell ID Frame GFP Intensity RFP Intensity Phase Intensity  Area    x    y  \\\n",
      "0       570   212        129478        132591        13019731   894  514  600   \n",
      "1       570   213        108404        112576        11305310   747  514  601   \n",
      "2       570   214        140481        144574        13471945   968  515  600   \n",
      "3       570   215         75360         78458         7822958   513  510  598   \n",
      "4       570   216        146600        154093        14751997  1018  513  598   \n",
      "..      ...   ...           ...           ...             ...   ...  ...  ...   \n",
      "874     570  1086       1869577        251316        24674349  2270  355  743   \n",
      "875     570  1087       1932189        252686        25378203  2268  354  743   \n",
      "876     570  1088       1812565        238543        23404093  2151  353  743   \n",
      "877     570  1089       1814638        236731        26620935  2143  354  744   \n",
      "878     570  1090       1833978        239066        23567238  2153  353  743   \n",
      "\n",
      "                         mask_fn  \n",
      "0    s_0213_fucci_merge_gray.tif  \n",
      "1    s_0214_fucci_merge_gray.tif  \n",
      "2    s_0215_fucci_merge_gray.tif  \n",
      "3    s_0216_fucci_merge_gray.tif  \n",
      "4    s_0217_fucci_merge_gray.tif  \n",
      "..                           ...  \n",
      "874  s_1087_fucci_merge_gray.tif  \n",
      "875  s_1088_fucci_merge_gray.tif  \n",
      "876  s_1089_fucci_merge_gray.tif  \n",
      "877  s_1090_fucci_merge_gray.tif  \n",
      "878  s_1091_fucci_merge_gray.tif  \n",
      "\n",
      "[879 rows x 9 columns]\n",
      "cell ID =  575 progress bar below: (n/N frames):\n"
     ]
    },
    {
     "data": {
      "application/vnd.jupyter.widget-view+json": {
       "model_id": "a4b20c4f6c5e483cbf4a800d91d4d9d2",
       "version_major": 2,
       "version_minor": 0
      },
      "text/plain": [
       "HBox(children=(FloatProgress(value=0.0, max=314.0), HTML(value='')))"
      ]
     },
     "metadata": {},
     "output_type": "display_data"
    },
    {
     "name": "stdout",
     "output_type": "stream",
     "text": [
      "\n",
      "    Cell ID Frame GFP Intensity RFP Intensity Phase Intensity  Area   x   y  \\\n",
      "0       575   213        205216         96920        16523358   902  86  11   \n",
      "1       575   214        188673         86090        15072373   802  83  11   \n",
      "2       575   215        216561        102014        16913318   960  77  11   \n",
      "3       575   216        230251        101503        17366121   962  77  12   \n",
      "4       575   217        206493         91016        15452347   865  76  11   \n",
      "..      ...   ...           ...           ...             ...   ...  ..  ..   \n",
      "309     575   522       1444815        281169        38773573  2609  59  85   \n",
      "310     575   523       1440037        279952        38533477  2594  61  86   \n",
      "311     575   524       1413488        289908        39583622  2678  61  85   \n",
      "312     575   525       1447838        277236        38335496  2569  63  86   \n",
      "313     575   526       1304713        284862        39828295  2602  62  84   \n",
      "\n",
      "                         mask_fn  \n",
      "0    s_0214_fucci_merge_gray.tif  \n",
      "1    s_0215_fucci_merge_gray.tif  \n",
      "2    s_0216_fucci_merge_gray.tif  \n",
      "3    s_0217_fucci_merge_gray.tif  \n",
      "4    s_0218_fucci_merge_gray.tif  \n",
      "..                           ...  \n",
      "309  s_0523_fucci_merge_gray.tif  \n",
      "310  s_0524_fucci_merge_gray.tif  \n",
      "311  s_0525_fucci_merge_gray.tif  \n",
      "312  s_0526_fucci_merge_gray.tif  \n",
      "313  s_0527_fucci_merge_gray.tif  \n",
      "\n",
      "[314 rows x 9 columns]\n",
      "cell ID =  582 progress bar below: (n/N frames):\n"
     ]
    },
    {
     "data": {
      "application/vnd.jupyter.widget-view+json": {
       "model_id": "4d01a63b077e48149a24a4ea18c078f2",
       "version_major": 2,
       "version_minor": 0
      },
      "text/plain": [
       "HBox(children=(FloatProgress(value=0.0, max=356.0), HTML(value='')))"
      ]
     },
     "metadata": {},
     "output_type": "display_data"
    },
    {
     "name": "stdout",
     "output_type": "stream",
     "text": [
      "\n",
      "    Cell ID Frame GFP Intensity RFP Intensity Phase Intensity  Area    x    y  \\\n",
      "0       582   217        254692        224613        25529625  1769  901  245   \n",
      "1       582   218             0             0               0     0  901  245   \n",
      "2       582   219             0             0               0     0  901  245   \n",
      "3       582   220        205246        176826        21056261  1383  900  247   \n",
      "4       582   221        251546        217830        25163739  1693  899  250   \n",
      "..      ...   ...           ...           ...             ...   ...  ...  ...   \n",
      "351     582   568        742677        225745        28019371  2175  874  314   \n",
      "352     582   569        691649        208541        26746321  2006  873  317   \n",
      "353     582   570        760211        222385        30608966  2147  871  319   \n",
      "354     582   571        711003        207185        27636831  1995  872  323   \n",
      "355     582   572        699245        200436        28672786  1923  871  321   \n",
      "\n",
      "                         mask_fn  \n",
      "0    s_0218_fucci_merge_gray.tif  \n",
      "1    s_0219_fucci_merge_gray.tif  \n",
      "2    s_0220_fucci_merge_gray.tif  \n",
      "3    s_0221_fucci_merge_gray.tif  \n",
      "4    s_0222_fucci_merge_gray.tif  \n",
      "..                           ...  \n",
      "351  s_0569_fucci_merge_gray.tif  \n",
      "352  s_0570_fucci_merge_gray.tif  \n",
      "353  s_0571_fucci_merge_gray.tif  \n",
      "354  s_0572_fucci_merge_gray.tif  \n",
      "355  s_0573_fucci_merge_gray.tif  \n",
      "\n",
      "[356 rows x 9 columns]\n",
      "cell ID =  589 progress bar below: (n/N frames):\n"
     ]
    },
    {
     "data": {
      "application/vnd.jupyter.widget-view+json": {
       "model_id": "dba9b1b5b8f54ed0ab4d5e57cbf208fd",
       "version_major": 2,
       "version_minor": 0
      },
      "text/plain": [
       "HBox(children=(FloatProgress(value=0.0, max=515.0), HTML(value='')))"
      ]
     },
     "metadata": {},
     "output_type": "display_data"
    },
    {
     "name": "stdout",
     "output_type": "stream",
     "text": [
      "\n",
      "    Cell ID Frame GFP Intensity RFP Intensity Phase Intensity  Area    x    y  \\\n",
      "0       589   221        171790        155513        23529957  1130  709   41   \n",
      "1       589   222             0             0               0     0  709   41   \n",
      "2       589   223        174230        158669        23000794  1128  711   42   \n",
      "3       589   224         68117         61948         9187329   427  709   46   \n",
      "4       589   225        155532        141545        21739005  1010  708   43   \n",
      "..      ...   ...           ...           ...             ...   ...  ...  ...   \n",
      "510     589   731       1671936        349848        90355733  3182  752  160   \n",
      "511     589   732       1569141        320543        87482262  2983  753  162   \n",
      "512     589   733       1453415        300183        82277644  2767  753  162   \n",
      "513     589   734       1337970        292280        78764744  2692  753  162   \n",
      "514     589   735       1132725        256922        70740178  2396  752  162   \n",
      "\n",
      "                         mask_fn  \n",
      "0    s_0222_fucci_merge_gray.tif  \n",
      "1    s_0223_fucci_merge_gray.tif  \n",
      "2    s_0224_fucci_merge_gray.tif  \n",
      "3    s_0225_fucci_merge_gray.tif  \n",
      "4    s_0226_fucci_merge_gray.tif  \n",
      "..                           ...  \n",
      "510  s_0732_fucci_merge_gray.tif  \n",
      "511  s_0733_fucci_merge_gray.tif  \n",
      "512  s_0734_fucci_merge_gray.tif  \n",
      "513  s_0735_fucci_merge_gray.tif  \n",
      "514  s_0736_fucci_merge_gray.tif  \n",
      "\n",
      "[515 rows x 9 columns]\n",
      "cell ID =  599 progress bar below: (n/N frames):\n"
     ]
    },
    {
     "data": {
      "application/vnd.jupyter.widget-view+json": {
       "model_id": "7141623e1c564a84a45389c1f6a61faa",
       "version_major": 2,
       "version_minor": 0
      },
      "text/plain": [
       "HBox(children=(FloatProgress(value=0.0, max=528.0), HTML(value='')))"
      ]
     },
     "metadata": {},
     "output_type": "display_data"
    },
    {
     "name": "stdout",
     "output_type": "stream",
     "text": [
      "\n",
      "    Cell ID Frame GFP Intensity RFP Intensity Phase Intensity  Area    x    y  \\\n",
      "0       599   225        133163        136019        14902462   866  640  611   \n",
      "1       599   226        162217        162983        18107362  1040  640  611   \n",
      "2       599   227             0             0               0     0  640  611   \n",
      "3       599   228        160524        161484        17723398  1016  644  609   \n",
      "4       599   229        135017        138683        14619858   849  644  609   \n",
      "..      ...   ...           ...           ...             ...   ...  ...  ...   \n",
      "523     599   748       2254339        397241        93941202  3671  500  683   \n",
      "524     599   749       2224146        389952        90869499  3599  498  682   \n",
      "525     599   750       2271114        386740        95053359  3611  498  683   \n",
      "526     599   751       2171797        365988        90622968  3388  500  684   \n",
      "527     599   752       2033804        362096        85874603  3355  500  682   \n",
      "\n",
      "                         mask_fn  \n",
      "0    s_0226_fucci_merge_gray.tif  \n",
      "1    s_0227_fucci_merge_gray.tif  \n",
      "2    s_0228_fucci_merge_gray.tif  \n",
      "3    s_0229_fucci_merge_gray.tif  \n",
      "4    s_0230_fucci_merge_gray.tif  \n",
      "..                           ...  \n",
      "523  s_0749_fucci_merge_gray.tif  \n",
      "524  s_0750_fucci_merge_gray.tif  \n",
      "525  s_0751_fucci_merge_gray.tif  \n",
      "526  s_0752_fucci_merge_gray.tif  \n",
      "527  s_0753_fucci_merge_gray.tif  \n",
      "\n",
      "[528 rows x 9 columns]\n",
      "cell ID =  615 progress bar below: (n/N frames):\n"
     ]
    },
    {
     "data": {
      "application/vnd.jupyter.widget-view+json": {
       "model_id": "65faa2c9f9244cd29657287ec4a9b9b7",
       "version_major": 2,
       "version_minor": 0
      },
      "text/plain": [
       "HBox(children=(FloatProgress(value=0.0, max=408.0), HTML(value='')))"
      ]
     },
     "metadata": {},
     "output_type": "display_data"
    },
    {
     "name": "stdout",
     "output_type": "stream",
     "text": [
      "\n",
      "    Cell ID Frame GFP Intensity RFP Intensity Phase Intensity  Area    x    y  \\\n",
      "0       615   233        249421        132181        18113224  1261  948  334   \n",
      "1       615   234        325200        176211        24903232  1689  943  334   \n",
      "2       615   235        313595        170490        22691644  1629  946  335   \n",
      "3       615   236        350325        188489        25572015  1805  945  335   \n",
      "4       615   237        299973        157984        22232822  1523  947  332   \n",
      "..      ...   ...           ...           ...             ...   ...  ...  ...   \n",
      "403     615   636       1025551        250536        32253092  2421  942  335   \n",
      "404     615   637       1029460        249396        31439959  2400  942  334   \n",
      "405     615   638       1002730        248959        30177140  2394  941  331   \n",
      "406     615   639        987849        233663        31711027  2261  943  326   \n",
      "407     615   640        957432        224567        31505345  2165  943  319   \n",
      "\n",
      "                         mask_fn  \n",
      "0    s_0234_fucci_merge_gray.tif  \n",
      "1    s_0235_fucci_merge_gray.tif  \n",
      "2    s_0236_fucci_merge_gray.tif  \n",
      "3    s_0237_fucci_merge_gray.tif  \n",
      "4    s_0238_fucci_merge_gray.tif  \n",
      "..                           ...  \n",
      "403  s_0637_fucci_merge_gray.tif  \n",
      "404  s_0638_fucci_merge_gray.tif  \n",
      "405  s_0639_fucci_merge_gray.tif  \n",
      "406  s_0640_fucci_merge_gray.tif  \n",
      "407  s_0641_fucci_merge_gray.tif  \n",
      "\n",
      "[408 rows x 9 columns]\n",
      "cell ID =  626 progress bar below: (n/N frames):\n"
     ]
    },
    {
     "data": {
      "application/vnd.jupyter.widget-view+json": {
       "model_id": "7a7bc705c43948f7bf2c8c6efd155068",
       "version_major": 2,
       "version_minor": 0
      },
      "text/plain": [
       "HBox(children=(FloatProgress(value=0.0, max=480.0), HTML(value='')))"
      ]
     },
     "metadata": {},
     "output_type": "display_data"
    },
    {
     "name": "stdout",
     "output_type": "stream",
     "text": [
      "\n",
      "    Cell ID Frame GFP Intensity RFP Intensity Phase Intensity  Area    x    y  \\\n",
      "0       626   240        229493        146705        19329611  1177  609  295   \n",
      "1       626   241             0             0               0     0  609  295   \n",
      "2       626   242        230650        140751        19272669  1126  611  296   \n",
      "3       626   243        207284        124679        17794858   999  607  297   \n",
      "4       626   244        151827         87151        12264326   692  607  299   \n",
      "..      ...   ...           ...           ...             ...   ...  ...  ...   \n",
      "475     626   715       1934672        367330        95329233  3414  533  402   \n",
      "476     626   716       1808001        351817        91411338  3215  534  403   \n",
      "477     626   717       1747915        351992        89500739  3266  533  403   \n",
      "478     626   718       1544049        317313        83347312  2923  534  404   \n",
      "479     626   719        560073        123262        34910821  1157  542  416   \n",
      "\n",
      "                         mask_fn  \n",
      "0    s_0241_fucci_merge_gray.tif  \n",
      "1    s_0242_fucci_merge_gray.tif  \n",
      "2    s_0243_fucci_merge_gray.tif  \n",
      "3    s_0244_fucci_merge_gray.tif  \n",
      "4    s_0245_fucci_merge_gray.tif  \n",
      "..                           ...  \n",
      "475  s_0716_fucci_merge_gray.tif  \n",
      "476  s_0717_fucci_merge_gray.tif  \n",
      "477  s_0718_fucci_merge_gray.tif  \n",
      "478  s_0719_fucci_merge_gray.tif  \n",
      "479  s_0720_fucci_merge_gray.tif  \n",
      "\n",
      "[480 rows x 9 columns]\n",
      "cell ID =  632 progress bar below: (n/N frames):\n"
     ]
    },
    {
     "data": {
      "application/vnd.jupyter.widget-view+json": {
       "model_id": "20c4a872480e4e27ab2d155a914cf5e3",
       "version_major": 2,
       "version_minor": 0
      },
      "text/plain": [
       "HBox(children=(FloatProgress(value=0.0, max=324.0), HTML(value='')))"
      ]
     },
     "metadata": {},
     "output_type": "display_data"
    },
    {
     "name": "stdout",
     "output_type": "stream",
     "text": [
      "\n",
      "    Cell ID Frame GFP Intensity RFP Intensity Phase Intensity  Area   x    y  \\\n",
      "0       632   241        132340        140645        16784997   951  52   58   \n",
      "1       632   242        176647        184547        23076847  1271  56   59   \n",
      "2       632   243             0             0               0     0  59   59   \n",
      "3       632   244        100100        110845        12457525   725  52   58   \n",
      "4       632   245        107468        119308        13748047   776  51   59   \n",
      "..      ...   ...           ...           ...             ...   ...  ..  ...   \n",
      "319     632   560       1499003        432874        78373784  3697  66  167   \n",
      "320     632   561       1380911        378148        72832571  3275  66  166   \n",
      "321     632   562       1161028        307487        62998749  2663  65  165   \n",
      "322     632   563       1286351        360663        73269432  3124  66  166   \n",
      "323     632   564        670207        172495        38965798  1477  61  163   \n",
      "\n",
      "                         mask_fn  \n",
      "0    s_0242_fucci_merge_gray.tif  \n",
      "1    s_0243_fucci_merge_gray.tif  \n",
      "2    s_0244_fucci_merge_gray.tif  \n",
      "3    s_0245_fucci_merge_gray.tif  \n",
      "4    s_0246_fucci_merge_gray.tif  \n",
      "..                           ...  \n",
      "319  s_0561_fucci_merge_gray.tif  \n",
      "320  s_0562_fucci_merge_gray.tif  \n",
      "321  s_0563_fucci_merge_gray.tif  \n",
      "322  s_0564_fucci_merge_gray.tif  \n",
      "323  s_0565_fucci_merge_gray.tif  \n",
      "\n",
      "[324 rows x 9 columns]\n",
      "cell ID =  628 progress bar below: (n/N frames):\n"
     ]
    },
    {
     "data": {
      "application/vnd.jupyter.widget-view+json": {
       "model_id": "414afef3b097479e8dfc93f009e314a1",
       "version_major": 2,
       "version_minor": 0
      },
      "text/plain": [
       "HBox(children=(FloatProgress(value=0.0, max=227.0), HTML(value='')))"
      ]
     },
     "metadata": {},
     "output_type": "display_data"
    },
    {
     "name": "stdout",
     "output_type": "stream",
     "text": [
      "\n",
      "    Cell ID Frame GFP Intensity RFP Intensity Phase Intensity  Area     x  \\\n",
      "0       628   241         55790         23974         4819157   220  1019   \n",
      "1       628   242             0             0               0     0  1019   \n",
      "2       628   243         72594         36375         7373760   314  1018   \n",
      "3       628   244        109228         43268         8663979   388  1017   \n",
      "4       628   245        160774         64745        13049737   574  1016   \n",
      "..      ...   ...           ...           ...             ...   ...   ...   \n",
      "222     628   463        858862        252847        45136328  2429  1002   \n",
      "223     628   464        875551        252944        46940342  2426  1002   \n",
      "224     628   465        792928        222232        41952902  2139  1004   \n",
      "225     628   466        800636        232115        45385311  2240  1003   \n",
      "226     628   467        739450        215991        42008135  2088  1003   \n",
      "\n",
      "       y                      mask_fn  \n",
      "0    145  s_0242_fucci_merge_gray.tif  \n",
      "1    145  s_0243_fucci_merge_gray.tif  \n",
      "2    145  s_0244_fucci_merge_gray.tif  \n",
      "3    143  s_0245_fucci_merge_gray.tif  \n",
      "4    143  s_0246_fucci_merge_gray.tif  \n",
      "..   ...                          ...  \n",
      "222  238  s_0464_fucci_merge_gray.tif  \n",
      "223  237  s_0465_fucci_merge_gray.tif  \n",
      "224  235  s_0466_fucci_merge_gray.tif  \n",
      "225  236  s_0467_fucci_merge_gray.tif  \n",
      "226  234  s_0468_fucci_merge_gray.tif  \n",
      "\n",
      "[227 rows x 9 columns]\n",
      "cell ID =  640 progress bar below: (n/N frames):\n"
     ]
    },
    {
     "data": {
      "application/vnd.jupyter.widget-view+json": {
       "model_id": "c22492958db24f7189bda05f4495dbc2",
       "version_major": 2,
       "version_minor": 0
      },
      "text/plain": [
       "HBox(children=(FloatProgress(value=0.0, max=846.0), HTML(value='')))"
      ]
     },
     "metadata": {},
     "output_type": "display_data"
    },
    {
     "name": "stdout",
     "output_type": "stream",
     "text": [
      "\n",
      "    Cell ID Frame GFP Intensity RFP Intensity Phase Intensity  Area    x    y  \\\n",
      "0       640   246         46909         31879         5984785   251  622    4   \n",
      "1       640   247             0             0               0     0  622    4   \n",
      "2       640   248             0             0               0     0  622    4   \n",
      "3       640   249        116661         76841        15097836   623  627    9   \n",
      "4       640   250        102699         65860        12841263   524  630    8   \n",
      "..      ...   ...           ...           ...             ...   ...  ...  ...   \n",
      "841     640  1087       2694201        342209        60615723  2987  700  130   \n",
      "842     640  1088       2644159        331473        59049780  2939  700  131   \n",
      "843     640  1089       2630175        323563        60737765  2917  702  131   \n",
      "844     640  1090       2682319        338007        58648389  3008  702  131   \n",
      "845     640  1091       2698037        340292        62145788  3032  702  130   \n",
      "\n",
      "                         mask_fn  \n",
      "0    s_0247_fucci_merge_gray.tif  \n",
      "1    s_0248_fucci_merge_gray.tif  \n",
      "2    s_0249_fucci_merge_gray.tif  \n",
      "3    s_0250_fucci_merge_gray.tif  \n",
      "4    s_0251_fucci_merge_gray.tif  \n",
      "..                           ...  \n",
      "841  s_1088_fucci_merge_gray.tif  \n",
      "842  s_1089_fucci_merge_gray.tif  \n",
      "843  s_1090_fucci_merge_gray.tif  \n",
      "844  s_1091_fucci_merge_gray.tif  \n",
      "845  s_1092_fucci_merge_gray.tif  \n",
      "\n",
      "[846 rows x 9 columns]\n",
      "cell ID =  659 progress bar below: (n/N frames):\n"
     ]
    },
    {
     "data": {
      "application/vnd.jupyter.widget-view+json": {
       "model_id": "a1036e78916349079b7f7ea396b09840",
       "version_major": 2,
       "version_minor": 0
      },
      "text/plain": [
       "HBox(children=(FloatProgress(value=0.0, max=838.0), HTML(value='')))"
      ]
     },
     "metadata": {},
     "output_type": "display_data"
    },
    {
     "name": "stdout",
     "output_type": "stream",
     "text": [
      "\n",
      "    Cell ID Frame GFP Intensity RFP Intensity Phase Intensity  Area    x    y  \\\n",
      "0       659   254        230026        217958        31244209  1627  294  623   \n",
      "1       659   255             0             0               0     0  294  623   \n",
      "2       659   256             0             0               0     0  294  623   \n",
      "3       659   257        142362        139074        19224303   998  297  627   \n",
      "4       659   258             0             0               0     0  299  630   \n",
      "..      ...   ...           ...           ...             ...   ...  ...  ...   \n",
      "833     659  1087       2690564        351371        61813087  3134  295  630   \n",
      "834     659  1088       2623454        331445        57972808  2966  295  631   \n",
      "835     659  1089       2490457        329905        58521150  2960  297  631   \n",
      "836     659  1090       2601890        328262        60405349  2940  296  632   \n",
      "837     659  1091       2611956        342024        61964787  3048  297  633   \n",
      "\n",
      "                         mask_fn  \n",
      "0    s_0255_fucci_merge_gray.tif  \n",
      "1    s_0256_fucci_merge_gray.tif  \n",
      "2    s_0257_fucci_merge_gray.tif  \n",
      "3    s_0258_fucci_merge_gray.tif  \n",
      "4    s_0259_fucci_merge_gray.tif  \n",
      "..                           ...  \n",
      "833  s_1088_fucci_merge_gray.tif  \n",
      "834  s_1089_fucci_merge_gray.tif  \n",
      "835  s_1090_fucci_merge_gray.tif  \n",
      "836  s_1091_fucci_merge_gray.tif  \n",
      "837  s_1092_fucci_merge_gray.tif  \n",
      "\n",
      "[838 rows x 9 columns]\n",
      "cell ID =  669 progress bar below: (n/N frames):\n"
     ]
    },
    {
     "data": {
      "application/vnd.jupyter.widget-view+json": {
       "model_id": "6fd05db4e5f4409eac744f4e9bcc5419",
       "version_major": 2,
       "version_minor": 0
      },
      "text/plain": [
       "HBox(children=(FloatProgress(value=0.0, max=671.0), HTML(value='')))"
      ]
     },
     "metadata": {},
     "output_type": "display_data"
    },
    {
     "name": "stdout",
     "output_type": "stream",
     "text": [
      "\n",
      "    Cell ID Frame GFP Intensity RFP Intensity Phase Intensity  Area   x    y  \\\n",
      "0       669   258        176526        186947        20143504  1271  62  118   \n",
      "1       669   259             0             0               0     0  62  118   \n",
      "2       669   260        211701        224064        23423990  1509  58  119   \n",
      "3       669   261        214454        231209        23770715  1532  57  121   \n",
      "4       669   262        200087        215087        21032572  1403  57  121   \n",
      "..      ...   ...           ...           ...             ...   ...  ..  ...   \n",
      "666     669   924       2044229        447133       100421433  3290  36  239   \n",
      "667     669   925       2003802        406639        96117516  3103  37  239   \n",
      "668     669   926       1959050        419592        96020681  3208  37  237   \n",
      "669     669   927       1780806        412147        95842080  3064  37  237   \n",
      "670     669   928       1604908        372426        89490784  2841  39  238   \n",
      "\n",
      "                         mask_fn  \n",
      "0    s_0259_fucci_merge_gray.tif  \n",
      "1    s_0260_fucci_merge_gray.tif  \n",
      "2    s_0261_fucci_merge_gray.tif  \n",
      "3    s_0262_fucci_merge_gray.tif  \n",
      "4    s_0263_fucci_merge_gray.tif  \n",
      "..                           ...  \n",
      "666  s_0925_fucci_merge_gray.tif  \n",
      "667  s_0926_fucci_merge_gray.tif  \n",
      "668  s_0927_fucci_merge_gray.tif  \n",
      "669  s_0928_fucci_merge_gray.tif  \n",
      "670  s_0929_fucci_merge_gray.tif  \n",
      "\n",
      "[671 rows x 9 columns]\n",
      "cell ID =  672 progress bar below: (n/N frames):\n"
     ]
    },
    {
     "data": {
      "application/vnd.jupyter.widget-view+json": {
       "model_id": "e19ffd2c353247928e5611f093e818ba",
       "version_major": 2,
       "version_minor": 0
      },
      "text/plain": [
       "HBox(children=(FloatProgress(value=0.0, max=432.0), HTML(value='')))"
      ]
     },
     "metadata": {},
     "output_type": "display_data"
    },
    {
     "name": "stdout",
     "output_type": "stream",
     "text": [
      "\n",
      "    Cell ID Frame GFP Intensity RFP Intensity Phase Intensity  Area    x    y  \\\n",
      "0       672   260        114139        122489        13872387   804  968  626   \n",
      "1       672   261             0             0               0     0  968  626   \n",
      "2       672   262         92348        101526        11142106   644  969  627   \n",
      "3       672   263        154448        166039        17962285  1091  971  629   \n",
      "4       672   264         69820         74980         8409891   484  963  627   \n",
      "..      ...   ...           ...           ...             ...   ...  ...  ...   \n",
      "427     672   687       1361370        283948        74907465  2676  911  696   \n",
      "428     672   688       1380486        292217        78237179  2740  911  695   \n",
      "429     672   689       1351002        287662        75073699  2703  910  695   \n",
      "430     672   690       1229600        268171        72811793  2531  910  695   \n",
      "431     672   691       1077462        239483        65703124  2254  909  695   \n",
      "\n",
      "                         mask_fn  \n",
      "0    s_0261_fucci_merge_gray.tif  \n",
      "1    s_0262_fucci_merge_gray.tif  \n",
      "2    s_0263_fucci_merge_gray.tif  \n",
      "3    s_0264_fucci_merge_gray.tif  \n",
      "4    s_0265_fucci_merge_gray.tif  \n",
      "..                           ...  \n",
      "427  s_0688_fucci_merge_gray.tif  \n",
      "428  s_0689_fucci_merge_gray.tif  \n",
      "429  s_0690_fucci_merge_gray.tif  \n",
      "430  s_0691_fucci_merge_gray.tif  \n",
      "431  s_0692_fucci_merge_gray.tif  \n",
      "\n",
      "[432 rows x 9 columns]\n",
      "cell ID =  688 progress bar below: (n/N frames):\n"
     ]
    },
    {
     "data": {
      "application/vnd.jupyter.widget-view+json": {
       "model_id": "d14ed455e18d4d9090acb0a9a4668ab7",
       "version_major": 2,
       "version_minor": 0
      },
      "text/plain": [
       "HBox(children=(FloatProgress(value=0.0, max=318.0), HTML(value='')))"
      ]
     },
     "metadata": {},
     "output_type": "display_data"
    },
    {
     "name": "stdout",
     "output_type": "stream",
     "text": [
      "\n",
      "    Cell ID Frame GFP Intensity RFP Intensity Phase Intensity  Area     x  \\\n",
      "0       688   267        141727         64589        11784715   626   998   \n",
      "1       688   268        164895         75920        14532632   735   999   \n",
      "2       688   269             0             0               0     0   999   \n",
      "3       688   270        132005         60131        11437688   587  1000   \n",
      "4       688   271        199323         92457        17013268   901   998   \n",
      "..      ...   ...           ...           ...             ...   ...   ...   \n",
      "313     688   580        970893        275836        49844272  2697   945   \n",
      "314     688   581        922135        266694        48341156  2610   949   \n",
      "315     688   582        945251        276561        49545503  2706   944   \n",
      "316     688   583        857380        246912        46678105  2411   945   \n",
      "317     688   584        616858        180613        33843705  1769   946   \n",
      "\n",
      "       y                      mask_fn  \n",
      "0    853  s_0268_fucci_merge_gray.tif  \n",
      "1    852  s_0269_fucci_merge_gray.tif  \n",
      "2    851  s_0270_fucci_merge_gray.tif  \n",
      "3    851  s_0271_fucci_merge_gray.tif  \n",
      "4    851  s_0272_fucci_merge_gray.tif  \n",
      "..   ...                          ...  \n",
      "313  883  s_0581_fucci_merge_gray.tif  \n",
      "314  884  s_0582_fucci_merge_gray.tif  \n",
      "315  885  s_0583_fucci_merge_gray.tif  \n",
      "316  885  s_0584_fucci_merge_gray.tif  \n",
      "317  887  s_0585_fucci_merge_gray.tif  \n",
      "\n",
      "[318 rows x 9 columns]\n",
      "cell ID =  722 progress bar below: (n/N frames):\n"
     ]
    },
    {
     "data": {
      "application/vnd.jupyter.widget-view+json": {
       "model_id": "1e98a31bef7143c59c4525ce5fea4f60",
       "version_major": 2,
       "version_minor": 0
      },
      "text/plain": [
       "HBox(children=(FloatProgress(value=0.0, max=592.0), HTML(value='')))"
      ]
     },
     "metadata": {},
     "output_type": "display_data"
    },
    {
     "name": "stdout",
     "output_type": "stream",
     "text": [
      "\n",
      "    Cell ID Frame GFP Intensity RFP Intensity Phase Intensity  Area    x    y  \\\n",
      "0       722   277        112710        116859        11144659   750  329  112   \n",
      "1       722   278        142984        148503        10316914   671  326  110   \n",
      "2       722   279        178253        186084        12576374   825  322  110   \n",
      "3       722   280             0             0               0     0  318  109   \n",
      "4       722   281        244072        247286        17782038  1166  317  110   \n",
      "..      ...   ...           ...           ...             ...   ...  ...  ...   \n",
      "587     722   864       1684778        279846        71653777  2496  332  176   \n",
      "588     722   865       1780620        313718        77352859  2790  333  174   \n",
      "589     722   866       1600579        275247        68139657  2439  331  176   \n",
      "590     722   867       1608439        271761        69348803  2430  331  174   \n",
      "591     722   868       1634589        280034        69058389  2484  331  172   \n",
      "\n",
      "                         mask_fn  \n",
      "0    s_0278_fucci_merge_gray.tif  \n",
      "1    s_0279_fucci_merge_gray.tif  \n",
      "2    s_0280_fucci_merge_gray.tif  \n",
      "3    s_0281_fucci_merge_gray.tif  \n",
      "4    s_0282_fucci_merge_gray.tif  \n",
      "..                           ...  \n",
      "587  s_0865_fucci_merge_gray.tif  \n",
      "588  s_0866_fucci_merge_gray.tif  \n",
      "589  s_0867_fucci_merge_gray.tif  \n",
      "590  s_0868_fucci_merge_gray.tif  \n",
      "591  s_0869_fucci_merge_gray.tif  \n",
      "\n",
      "[592 rows x 9 columns]\n",
      "cell ID =  720 progress bar below: (n/N frames):\n"
     ]
    },
    {
     "data": {
      "application/vnd.jupyter.widget-view+json": {
       "model_id": "4814b79281ba4a72a3b6e405faedfd7b",
       "version_major": 2,
       "version_minor": 0
      },
      "text/plain": [
       "HBox(children=(FloatProgress(value=0.0, max=413.0), HTML(value='')))"
      ]
     },
     "metadata": {},
     "output_type": "display_data"
    },
    {
     "name": "stdout",
     "output_type": "stream",
     "text": [
      "\n",
      "    Cell ID Frame GFP Intensity RFP Intensity Phase Intensity  Area    x    y  \\\n",
      "0       720   277        178595        187241        20733055  1131  268  101   \n",
      "1       720   278        230332        242539        18727795  1006  267  101   \n",
      "2       720   279        273467        287007        22859867  1181  264  100   \n",
      "3       720   280        213206        230535        17707865   931  264  101   \n",
      "4       720   281        246854        263047        21645356  1090  261  101   \n",
      "..      ...   ...           ...           ...             ...   ...  ...  ...   \n",
      "408     720   685       1546019        325262        72547884  3037  302  120   \n",
      "409     720   686       1572678        325627        74522577  3046  302  122   \n",
      "410     720   687       1718938        340445        81260709  3182  302  123   \n",
      "411     720   688       1199673        225100        56323046  2103  306  130   \n",
      "412     720   689       1179918        223886        58084979  2092  303  132   \n",
      "\n",
      "                         mask_fn  \n",
      "0    s_0278_fucci_merge_gray.tif  \n",
      "1    s_0279_fucci_merge_gray.tif  \n",
      "2    s_0280_fucci_merge_gray.tif  \n",
      "3    s_0281_fucci_merge_gray.tif  \n",
      "4    s_0282_fucci_merge_gray.tif  \n",
      "..                           ...  \n",
      "408  s_0686_fucci_merge_gray.tif  \n",
      "409  s_0687_fucci_merge_gray.tif  \n",
      "410  s_0688_fucci_merge_gray.tif  \n",
      "411  s_0689_fucci_merge_gray.tif  \n",
      "412  s_0690_fucci_merge_gray.tif  \n",
      "\n",
      "[413 rows x 9 columns]\n",
      "cell ID =  714 progress bar below: (n/N frames):\n"
     ]
    },
    {
     "data": {
      "application/vnd.jupyter.widget-view+json": {
       "model_id": "cf433f56b7034534aa869933ac23b337",
       "version_major": 2,
       "version_minor": 0
      },
      "text/plain": [
       "HBox(children=(FloatProgress(value=0.0, max=618.0), HTML(value='')))"
      ]
     },
     "metadata": {},
     "output_type": "display_data"
    },
    {
     "name": "stdout",
     "output_type": "stream",
     "text": [
      "\n",
      "    Cell ID Frame GFP Intensity RFP Intensity Phase Intensity  Area    x    y  \\\n",
      "0       714   277        322033        136870        26223794  1332  945  817   \n",
      "1       714   278        115913         56172         7564938   362  943  812   \n",
      "2       714   279             0             0               0     0  941  807   \n",
      "3       714   280        307378        158606        20318698  1012  941  812   \n",
      "4       714   281        351695        176982        23006285  1149  939  811   \n",
      "..      ...   ...           ...           ...             ...   ...  ...  ...   \n",
      "613     714   890        591871        142496        24212617  1365  910  872   \n",
      "614     714   891        647348        155574        26404158  1497  910  872   \n",
      "615     714   892        668599        158243        27279236  1521  909  872   \n",
      "616     714   893        687403        160877        28803609  1542  909  872   \n",
      "617     714   894        497709        111367        19309407  1069  911  873   \n",
      "\n",
      "                         mask_fn  \n",
      "0    s_0278_fucci_merge_gray.tif  \n",
      "1    s_0279_fucci_merge_gray.tif  \n",
      "2    s_0280_fucci_merge_gray.tif  \n",
      "3    s_0281_fucci_merge_gray.tif  \n",
      "4    s_0282_fucci_merge_gray.tif  \n",
      "..                           ...  \n",
      "613  s_0891_fucci_merge_gray.tif  \n",
      "614  s_0892_fucci_merge_gray.tif  \n",
      "615  s_0893_fucci_merge_gray.tif  \n",
      "616  s_0894_fucci_merge_gray.tif  \n",
      "617  s_0895_fucci_merge_gray.tif  \n",
      "\n",
      "[618 rows x 9 columns]\n",
      "cell ID =  713 progress bar below: (n/N frames):\n"
     ]
    },
    {
     "data": {
      "application/vnd.jupyter.widget-view+json": {
       "model_id": "dbc46cc07302448f87495a8536f23b0b",
       "version_major": 2,
       "version_minor": 0
      },
      "text/plain": [
       "HBox(children=(FloatProgress(value=0.0, max=815.0), HTML(value='')))"
      ]
     },
     "metadata": {},
     "output_type": "display_data"
    },
    {
     "name": "stdout",
     "output_type": "stream",
     "text": [
      "\n",
      "    Cell ID Frame GFP Intensity RFP Intensity Phase Intensity  Area    x    y  \\\n",
      "0       713   277         98918        111300        11092043   651  582  659   \n",
      "1       713   278        124734        138670        10368190   618  581  660   \n",
      "2       713   279             0             0               0     0  580  660   \n",
      "3       713   280             0             0               0     0  579  661   \n",
      "4       713   281        121342        134942         9997941   605  575  663   \n",
      "..      ...   ...           ...           ...             ...   ...  ...  ...   \n",
      "810     713  1087       1550062        217437        31014318  1937  399  623   \n",
      "811     713  1088       1476344        212816        29813617  1907  397  622   \n",
      "812     713  1089       1499720        209999        31266388  1900  399  624   \n",
      "813     713  1090       1453805        202478        30180907  1812  398  623   \n",
      "814     713  1091       1517912        211803        29971367  1896  399  625   \n",
      "\n",
      "                         mask_fn  \n",
      "0    s_0278_fucci_merge_gray.tif  \n",
      "1    s_0279_fucci_merge_gray.tif  \n",
      "2    s_0280_fucci_merge_gray.tif  \n",
      "3    s_0281_fucci_merge_gray.tif  \n",
      "4    s_0282_fucci_merge_gray.tif  \n",
      "..                           ...  \n",
      "810  s_1088_fucci_merge_gray.tif  \n",
      "811  s_1089_fucci_merge_gray.tif  \n",
      "812  s_1090_fucci_merge_gray.tif  \n",
      "813  s_1091_fucci_merge_gray.tif  \n",
      "814  s_1092_fucci_merge_gray.tif  \n",
      "\n",
      "[815 rows x 9 columns]\n",
      "cell ID =  712 progress bar below: (n/N frames):\n"
     ]
    },
    {
     "data": {
      "application/vnd.jupyter.widget-view+json": {
       "model_id": "a028a2df43e04f189d440dbf374464fe",
       "version_major": 2,
       "version_minor": 0
      },
      "text/plain": [
       "HBox(children=(FloatProgress(value=0.0, max=612.0), HTML(value='')))"
      ]
     },
     "metadata": {},
     "output_type": "display_data"
    },
    {
     "name": "stdout",
     "output_type": "stream",
     "text": [
      "\n",
      "    Cell ID Frame GFP Intensity RFP Intensity Phase Intensity  Area    x    y  \\\n",
      "0       712   277         56059         67491         6704205   356  579  723   \n",
      "1       712   278        104296        121226         9220943   501  579  721   \n",
      "2       712   279             0             0               0     0  578  719   \n",
      "3       712   280         57485         68633         5184238   272  577  722   \n",
      "4       712   281        157987        185395        13879309   776  573  723   \n",
      "..      ...   ...           ...           ...             ...   ...  ...  ...   \n",
      "607     712   884       1479416        310012        75579136  2749  526  818   \n",
      "608     712   885       1422583        297136        70820694  2626  527  816   \n",
      "609     712   886       1474677        309040        79070043  2760  525  817   \n",
      "610     712   887        932543        175812        49620720  1590  523  814   \n",
      "611     712   888       1329047        293405        72719394  2574  526  815   \n",
      "\n",
      "                         mask_fn  \n",
      "0    s_0278_fucci_merge_gray.tif  \n",
      "1    s_0279_fucci_merge_gray.tif  \n",
      "2    s_0280_fucci_merge_gray.tif  \n",
      "3    s_0281_fucci_merge_gray.tif  \n",
      "4    s_0282_fucci_merge_gray.tif  \n",
      "..                           ...  \n",
      "607  s_0885_fucci_merge_gray.tif  \n",
      "608  s_0886_fucci_merge_gray.tif  \n",
      "609  s_0887_fucci_merge_gray.tif  \n",
      "610  s_0888_fucci_merge_gray.tif  \n",
      "611  s_0889_fucci_merge_gray.tif  \n",
      "\n",
      "[612 rows x 9 columns]\n",
      "cell ID =  723 progress bar below: (n/N frames):\n"
     ]
    },
    {
     "data": {
      "application/vnd.jupyter.widget-view+json": {
       "model_id": "b086f156c7e14b86ae4159e3c2de3890",
       "version_major": 2,
       "version_minor": 0
      },
      "text/plain": [
       "HBox(children=(FloatProgress(value=0.0, max=410.0), HTML(value='')))"
      ]
     },
     "metadata": {},
     "output_type": "display_data"
    },
    {
     "name": "stdout",
     "output_type": "stream",
     "text": [
      "\n",
      "    Cell ID Frame GFP Intensity RFP Intensity Phase Intensity  Area    x    y  \\\n",
      "0       723   278        164583        158575        16706615   900  985  910   \n",
      "1       723   279             0             0               0     0  985  910   \n",
      "2       723   280        246421        234508        24153326  1323  980  909   \n",
      "3       723   281             0             0               0     0  975  907   \n",
      "4       723   282        248411        235266        26181519  1454  983  910   \n",
      "..      ...   ...           ...           ...             ...   ...  ...  ...   \n",
      "405     723   683       1142185        242672        74821303  2362  959  963   \n",
      "406     723   684       1073131        238571        71999285  2325  962  963   \n",
      "407     723   685       1082459        254639        78614754  2472  962  963   \n",
      "408     723   686        710594        156270        48642590  1519  952  958   \n",
      "409     723   687        285112         60023        19420348   582  947  954   \n",
      "\n",
      "                         mask_fn  \n",
      "0    s_0279_fucci_merge_gray.tif  \n",
      "1    s_0280_fucci_merge_gray.tif  \n",
      "2    s_0281_fucci_merge_gray.tif  \n",
      "3    s_0282_fucci_merge_gray.tif  \n",
      "4    s_0283_fucci_merge_gray.tif  \n",
      "..                           ...  \n",
      "405  s_0684_fucci_merge_gray.tif  \n",
      "406  s_0685_fucci_merge_gray.tif  \n",
      "407  s_0686_fucci_merge_gray.tif  \n",
      "408  s_0687_fucci_merge_gray.tif  \n",
      "409  s_0688_fucci_merge_gray.tif  \n",
      "\n",
      "[410 rows x 9 columns]\n",
      "cell ID =  727 progress bar below: (n/N frames):\n"
     ]
    },
    {
     "data": {
      "application/vnd.jupyter.widget-view+json": {
       "model_id": "ef21a1fa45fa4b2f8f76cc70becdd5d1",
       "version_major": 2,
       "version_minor": 0
      },
      "text/plain": [
       "HBox(children=(FloatProgress(value=0.0, max=810.0), HTML(value='')))"
      ]
     },
     "metadata": {},
     "output_type": "display_data"
    },
    {
     "name": "stdout",
     "output_type": "stream",
     "text": [
      "\n",
      "    Cell ID Frame GFP Intensity RFP Intensity Phase Intensity  Area    x    y  \\\n",
      "0       727   282       1777910        401975        29857205  2531  117  371   \n",
      "1       727   283       4633098       1030018        75661085  5824  117  371   \n",
      "2       727   284       1877724        461647        31936440  2624  115  365   \n",
      "3       727   285       1915784        465319        31366710  2656  117  363   \n",
      "4       727   286       1991328        470144        32939719  2677  116  362   \n",
      "..      ...   ...           ...           ...             ...   ...  ...  ...   \n",
      "805     727  1087       1295717       3236888        32973212  3599   84  436   \n",
      "806     727  1088       1273748       3237348        38915974  3555   83  436   \n",
      "807     727  1089       1308275       3389419        37708935  3597   84  437   \n",
      "808     727  1090       1309994       3267397        33467664  3524   82  436   \n",
      "809     727  1091       1351579       3522089        32618859  3612   81  437   \n",
      "\n",
      "                         mask_fn  \n",
      "0    s_0283_fucci_merge_gray.tif  \n",
      "1    s_0284_fucci_merge_gray.tif  \n",
      "2    s_0285_fucci_merge_gray.tif  \n",
      "3    s_0286_fucci_merge_gray.tif  \n",
      "4    s_0287_fucci_merge_gray.tif  \n",
      "..                           ...  \n",
      "805  s_1088_fucci_merge_gray.tif  \n",
      "806  s_1089_fucci_merge_gray.tif  \n",
      "807  s_1090_fucci_merge_gray.tif  \n",
      "808  s_1091_fucci_merge_gray.tif  \n",
      "809  s_1092_fucci_merge_gray.tif  \n",
      "\n",
      "[810 rows x 9 columns]\n",
      "cell ID =  740 progress bar below: (n/N frames):\n"
     ]
    },
    {
     "data": {
      "application/vnd.jupyter.widget-view+json": {
       "model_id": "e74bf036217e4d5eb30dd0e59025a8fc",
       "version_major": 2,
       "version_minor": 0
      },
      "text/plain": [
       "HBox(children=(FloatProgress(value=0.0, max=435.0), HTML(value='')))"
      ]
     },
     "metadata": {},
     "output_type": "display_data"
    },
    {
     "name": "stdout",
     "output_type": "stream",
     "text": [
      "\n",
      "    Cell ID Frame GFP Intensity RFP Intensity Phase Intensity Area    x    y  \\\n",
      "0       740   287        246632        191028        25544020  781  227  253   \n",
      "1       740   288        256245        209285        26887690  812  228  253   \n",
      "2       740   289        252382        207101        27127193  788  230  253   \n",
      "3       740   290        258888        207755        27018222  798  229  253   \n",
      "4       740   291        212998        169714        25205704  713  229  253   \n",
      "..      ...   ...           ...           ...             ...  ...  ...  ...   \n",
      "430     740   717             0             0               0    0  272  305   \n",
      "431     740   718             0             0               0    0  274  307   \n",
      "432     740   719        182948        143413        21252621  712  270  306   \n",
      "433     740   720             0             0               0    0  263  299   \n",
      "434     740   721        254633        188349        27446510  943  273  306   \n",
      "\n",
      "                         mask_fn  \n",
      "0    s_0288_fucci_merge_gray.tif  \n",
      "1    s_0289_fucci_merge_gray.tif  \n",
      "2    s_0290_fucci_merge_gray.tif  \n",
      "3    s_0291_fucci_merge_gray.tif  \n",
      "4    s_0292_fucci_merge_gray.tif  \n",
      "..                           ...  \n",
      "430  s_0718_fucci_merge_gray.tif  \n",
      "431  s_0719_fucci_merge_gray.tif  \n",
      "432  s_0720_fucci_merge_gray.tif  \n",
      "433  s_0721_fucci_merge_gray.tif  \n",
      "434  s_0722_fucci_merge_gray.tif  \n",
      "\n",
      "[435 rows x 9 columns]\n",
      "cell ID =  748 progress bar below: (n/N frames):\n"
     ]
    },
    {
     "data": {
      "application/vnd.jupyter.widget-view+json": {
       "model_id": "05dd5e0e00cb48fb9cec4b5f7aea47da",
       "version_major": 2,
       "version_minor": 0
      },
      "text/plain": [
       "HBox(children=(FloatProgress(value=0.0, max=804.0), HTML(value='')))"
      ]
     },
     "metadata": {},
     "output_type": "display_data"
    },
    {
     "name": "stdout",
     "output_type": "stream",
     "text": [
      "\n",
      "    Cell ID Frame GFP Intensity RFP Intensity Phase Intensity  Area    x    y  \\\n",
      "0       748   288        125831        130780        10316141   626  427   89   \n",
      "1       748   289             0             0               0     0  427   89   \n",
      "2       748   290             0             0               0     0  427   89   \n",
      "3       748   291        198020        201873        16968625  1055  428   92   \n",
      "4       748   292             0             0               0     0  429   94   \n",
      "..      ...   ...           ...           ...             ...   ...  ...  ...   \n",
      "799     748  1087       2509778        270421        50651671  2260  385  210   \n",
      "800     748  1088       2489435        263852        49619165  2218  384  211   \n",
      "801     748  1089       2488334        264268        50325638  2252  387  212   \n",
      "802     748  1090       2571080        265104        50822390  2246  385  212   \n",
      "803     748  1091       2466535        256268        49621645  2181  385  212   \n",
      "\n",
      "                         mask_fn  \n",
      "0    s_0289_fucci_merge_gray.tif  \n",
      "1    s_0290_fucci_merge_gray.tif  \n",
      "2    s_0291_fucci_merge_gray.tif  \n",
      "3    s_0292_fucci_merge_gray.tif  \n",
      "4    s_0293_fucci_merge_gray.tif  \n",
      "..                           ...  \n",
      "799  s_1088_fucci_merge_gray.tif  \n",
      "800  s_1089_fucci_merge_gray.tif  \n",
      "801  s_1090_fucci_merge_gray.tif  \n",
      "802  s_1091_fucci_merge_gray.tif  \n",
      "803  s_1092_fucci_merge_gray.tif  \n",
      "\n",
      "[804 rows x 9 columns]\n",
      "cell ID =  750 progress bar below: (n/N frames):\n"
     ]
    },
    {
     "data": {
      "application/vnd.jupyter.widget-view+json": {
       "model_id": "7247f989931e4e72952f50b9c8d31b81",
       "version_major": 2,
       "version_minor": 0
      },
      "text/plain": [
       "HBox(children=(FloatProgress(value=0.0, max=355.0), HTML(value='')))"
      ]
     },
     "metadata": {},
     "output_type": "display_data"
    },
    {
     "name": "stdout",
     "output_type": "stream",
     "text": [
      "\n",
      "    Cell ID Frame GFP Intensity RFP Intensity Phase Intensity Area  x    y  \\\n",
      "0       750   289         83060         40943         4512766  251  5  902   \n",
      "1       750   290         60059         28224         3088293  172  4  902   \n",
      "2       750   291         77929         35919         4353542  251  5  903   \n",
      "3       750   292        103844         51438         5552256  314  6  903   \n",
      "4       750   293        142768         73779         7995652  445  7  903   \n",
      "..      ...   ...           ...           ...             ...  ... ..  ...   \n",
      "350     750   639        137657         28173         3775042  245  5  891   \n",
      "351     750   640        104741         18417         2459867  166  5  889   \n",
      "352     750   641        115166         22262         3154790  203  5  891   \n",
      "353     750   642             0             0               0    0  5  891   \n",
      "354     750   643         45976          9492         1254073   84  3  886   \n",
      "\n",
      "                         mask_fn  \n",
      "0    s_0290_fucci_merge_gray.tif  \n",
      "1    s_0291_fucci_merge_gray.tif  \n",
      "2    s_0292_fucci_merge_gray.tif  \n",
      "3    s_0293_fucci_merge_gray.tif  \n",
      "4    s_0294_fucci_merge_gray.tif  \n",
      "..                           ...  \n",
      "350  s_0640_fucci_merge_gray.tif  \n",
      "351  s_0641_fucci_merge_gray.tif  \n",
      "352  s_0642_fucci_merge_gray.tif  \n",
      "353  s_0643_fucci_merge_gray.tif  \n",
      "354  s_0644_fucci_merge_gray.tif  \n",
      "\n",
      "[355 rows x 9 columns]\n",
      "cell ID =  763 progress bar below: (n/N frames):\n"
     ]
    },
    {
     "data": {
      "application/vnd.jupyter.widget-view+json": {
       "model_id": "3057c4be61b64dbeb9c3fe42c5b4cdd1",
       "version_major": 2,
       "version_minor": 0
      },
      "text/plain": [
       "HBox(children=(FloatProgress(value=0.0, max=664.0), HTML(value='')))"
      ]
     },
     "metadata": {},
     "output_type": "display_data"
    },
    {
     "name": "stdout",
     "output_type": "stream",
     "text": [
      "\n",
      "    Cell ID Frame GFP Intensity RFP Intensity Phase Intensity  Area    x    y  \\\n",
      "0       763   300         69020         70995         4314106   290  694  331   \n",
      "1       763   301         59070         61815         3630760   248  694  331   \n",
      "2       763   302        120423        123051         7740944   498  691  331   \n",
      "3       763   303        172359        173821        11694389   722  689  334   \n",
      "4       763   304        152931        152357        10921886   632  685  334   \n",
      "..      ...   ...           ...           ...             ...   ...  ...  ...   \n",
      "659     763   959       1449814        279501        68182369  2564  701  443   \n",
      "660     763   960       1478828        281882        70890806  2580  703  444   \n",
      "661     763   961       1478281        287973        71130128  2611  703  445   \n",
      "662     763   962       1397634        279856        69174273  2532  704  445   \n",
      "663     763   963       1168425        246674        62910295  2228  704  444   \n",
      "\n",
      "                         mask_fn  \n",
      "0    s_0301_fucci_merge_gray.tif  \n",
      "1    s_0302_fucci_merge_gray.tif  \n",
      "2    s_0303_fucci_merge_gray.tif  \n",
      "3    s_0304_fucci_merge_gray.tif  \n",
      "4    s_0305_fucci_merge_gray.tif  \n",
      "..                           ...  \n",
      "659  s_0960_fucci_merge_gray.tif  \n",
      "660  s_0961_fucci_merge_gray.tif  \n",
      "661  s_0962_fucci_merge_gray.tif  \n",
      "662  s_0963_fucci_merge_gray.tif  \n",
      "663  s_0964_fucci_merge_gray.tif  \n",
      "\n",
      "[664 rows x 9 columns]\n",
      "cell ID =  787 progress bar below: (n/N frames):\n"
     ]
    },
    {
     "data": {
      "application/vnd.jupyter.widget-view+json": {
       "model_id": "45f7d4ab8c494eb898225c50f3655960",
       "version_major": 2,
       "version_minor": 0
      },
      "text/plain": [
       "HBox(children=(FloatProgress(value=0.0, max=262.0), HTML(value='')))"
      ]
     },
     "metadata": {},
     "output_type": "display_data"
    },
    {
     "name": "stdout",
     "output_type": "stream",
     "text": [
      "\n",
      "    Cell ID Frame GFP Intensity RFP Intensity Phase Intensity Area    x    y  \\\n",
      "0       787   313        150250         77134         9935674  518  391  968   \n",
      "1       787   314             0             0               0    0  391  968   \n",
      "2       787   315             0             0               0    0  391  968   \n",
      "3       787   316        198324        101025        13345009  649  401  969   \n",
      "4       787   317             0             0               0    0  410  970   \n",
      "..      ...   ...           ...           ...             ...  ...  ...  ...   \n",
      "257     787   570        303704         88383        19999299  842  373  989   \n",
      "258     787   571        322681         92098        21810634  873  372  989   \n",
      "259     787   572        284836         79239        18741905  751  373  988   \n",
      "260     787   573        232949         64906        15279013  619  373  987   \n",
      "261     787   574        291177         82142        19396491  780  373  988   \n",
      "\n",
      "                         mask_fn  \n",
      "0    s_0314_fucci_merge_gray.tif  \n",
      "1    s_0315_fucci_merge_gray.tif  \n",
      "2    s_0316_fucci_merge_gray.tif  \n",
      "3    s_0317_fucci_merge_gray.tif  \n",
      "4    s_0318_fucci_merge_gray.tif  \n",
      "..                           ...  \n",
      "257  s_0571_fucci_merge_gray.tif  \n",
      "258  s_0572_fucci_merge_gray.tif  \n",
      "259  s_0573_fucci_merge_gray.tif  \n",
      "260  s_0574_fucci_merge_gray.tif  \n",
      "261  s_0575_fucci_merge_gray.tif  \n",
      "\n",
      "[262 rows x 9 columns]\n",
      "cell ID =  802 progress bar below: (n/N frames):\n"
     ]
    },
    {
     "data": {
      "application/vnd.jupyter.widget-view+json": {
       "model_id": "a979c2156f884878b2eccf6d98db995e",
       "version_major": 2,
       "version_minor": 0
      },
      "text/plain": [
       "HBox(children=(FloatProgress(value=0.0, max=327.0), HTML(value='')))"
      ]
     },
     "metadata": {},
     "output_type": "display_data"
    },
    {
     "name": "stdout",
     "output_type": "stream",
     "text": [
      "\n",
      "    Cell ID Frame GFP Intensity RFP Intensity Phase Intensity  Area    x    y  \\\n",
      "0       802   325        217101        144589        13894067   720  434  389   \n",
      "1       802   326             0             0               0     0  434  389   \n",
      "2       802   327             0             0               0     0  434  389   \n",
      "3       802   328        219107        145247        13492493   725  432  388   \n",
      "4       802   329             0             0               0     0  430  387   \n",
      "..      ...   ...           ...           ...             ...   ...  ...  ...   \n",
      "322     802   648        288358        201111        24137687  1062  399  393   \n",
      "323     802   649        602939        453613        52740125  2102  394  381   \n",
      "324     802   650        569168        444398        51581800  1997  394  382   \n",
      "325     802   651        555761        434414        50017804  1970  395  383   \n",
      "326     802   652        570296        438598        50801126  2000  395  383   \n",
      "\n",
      "                         mask_fn  \n",
      "0    s_0326_fucci_merge_gray.tif  \n",
      "1    s_0327_fucci_merge_gray.tif  \n",
      "2    s_0328_fucci_merge_gray.tif  \n",
      "3    s_0329_fucci_merge_gray.tif  \n",
      "4    s_0330_fucci_merge_gray.tif  \n",
      "..                           ...  \n",
      "322  s_0649_fucci_merge_gray.tif  \n",
      "323  s_0650_fucci_merge_gray.tif  \n",
      "324  s_0651_fucci_merge_gray.tif  \n",
      "325  s_0652_fucci_merge_gray.tif  \n",
      "326  s_0653_fucci_merge_gray.tif  \n",
      "\n",
      "[327 rows x 9 columns]\n",
      "cell ID =  805 progress bar below: (n/N frames):\n"
     ]
    },
    {
     "data": {
      "application/vnd.jupyter.widget-view+json": {
       "model_id": "f8df9cda4fb546229ea238e47ed687d2",
       "version_major": 2,
       "version_minor": 0
      },
      "text/plain": [
       "HBox(children=(FloatProgress(value=0.0, max=391.0), HTML(value='')))"
      ]
     },
     "metadata": {},
     "output_type": "display_data"
    },
    {
     "name": "stdout",
     "output_type": "stream",
     "text": [
      "\n",
      "    Cell ID Frame GFP Intensity RFP Intensity Phase Intensity  Area    x    y  \\\n",
      "0       805   328        288029        240025        15580328  1229  518  668   \n",
      "1       805   329        217172        181716        11996347   917  521  666   \n",
      "2       805   330             0             0               0     0  523  664   \n",
      "3       805   331        281762        237587        15189090  1204  519  667   \n",
      "4       805   332        246166        190633        16629439  1293  518  666   \n",
      "..      ...   ...           ...           ...             ...   ...  ...  ...   \n",
      "386     805   714       1859634        388926        92197140  3453  466  770   \n",
      "387     805   715       1912187        396593        95394553  3549  466  769   \n",
      "388     805   716       1877452        396192        96770991  3545  466  768   \n",
      "389     805   717       1673440        347556        83853506  3121  470  768   \n",
      "390     805   718       1069960        205635        55633395  1906  475  768   \n",
      "\n",
      "                         mask_fn  \n",
      "0    s_0329_fucci_merge_gray.tif  \n",
      "1    s_0330_fucci_merge_gray.tif  \n",
      "2    s_0331_fucci_merge_gray.tif  \n",
      "3    s_0332_fucci_merge_gray.tif  \n",
      "4    s_0333_fucci_merge_gray.tif  \n",
      "..                           ...  \n",
      "386  s_0715_fucci_merge_gray.tif  \n",
      "387  s_0716_fucci_merge_gray.tif  \n",
      "388  s_0717_fucci_merge_gray.tif  \n",
      "389  s_0718_fucci_merge_gray.tif  \n",
      "390  s_0719_fucci_merge_gray.tif  \n",
      "\n",
      "[391 rows x 9 columns]\n",
      "cell ID =  816 progress bar below: (n/N frames):\n"
     ]
    },
    {
     "data": {
      "application/vnd.jupyter.widget-view+json": {
       "model_id": "3ec59b2c793c4f4a8b9e9c5cde93b84d",
       "version_major": 2,
       "version_minor": 0
      },
      "text/plain": [
       "HBox(children=(FloatProgress(value=0.0, max=414.0), HTML(value='')))"
      ]
     },
     "metadata": {},
     "output_type": "display_data"
    },
    {
     "name": "stdout",
     "output_type": "stream",
     "text": [
      "\n",
      "    Cell ID Frame GFP Intensity RFP Intensity Phase Intensity  Area    x    y  \\\n",
      "0       816   335        257465        228694        23141910  1470  388  791   \n",
      "1       816   336        187764        166410        16407143  1046  386  791   \n",
      "2       816   337        228344        197138        19509335  1256  387  792   \n",
      "3       816   338        288129        245987        25760943  1593  388  793   \n",
      "4       816   339        334589        306900        21457965  1380  386  794   \n",
      "..      ...   ...           ...           ...             ...   ...  ...  ...   \n",
      "409     816   744       1986821        392319       110820235  3717  342  903   \n",
      "410     816   745       1854875        367754       100516841  3469  343  902   \n",
      "411     816   746       1828141        368360       103545451  3476  342  902   \n",
      "412     816   747       1204240        237047        70412217  2235  338  900   \n",
      "413     816   748        946304        189151        56469552  1773  336  899   \n",
      "\n",
      "                         mask_fn  \n",
      "0    s_0336_fucci_merge_gray.tif  \n",
      "1    s_0337_fucci_merge_gray.tif  \n",
      "2    s_0338_fucci_merge_gray.tif  \n",
      "3    s_0339_fucci_merge_gray.tif  \n",
      "4    s_0340_fucci_merge_gray.tif  \n",
      "..                           ...  \n",
      "409  s_0745_fucci_merge_gray.tif  \n",
      "410  s_0746_fucci_merge_gray.tif  \n",
      "411  s_0747_fucci_merge_gray.tif  \n",
      "412  s_0748_fucci_merge_gray.tif  \n",
      "413  s_0749_fucci_merge_gray.tif  \n",
      "\n",
      "[414 rows x 9 columns]\n",
      "cell ID =  817 progress bar below: (n/N frames):\n"
     ]
    },
    {
     "data": {
      "application/vnd.jupyter.widget-view+json": {
       "model_id": "ebf5061f52d143418cbde21e40d4be88",
       "version_major": 2,
       "version_minor": 0
      },
      "text/plain": [
       "HBox(children=(FloatProgress(value=0.0, max=748.0), HTML(value='')))"
      ]
     },
     "metadata": {},
     "output_type": "display_data"
    },
    {
     "name": "stdout",
     "output_type": "stream",
     "text": [
      "\n",
      "    Cell ID Frame GFP Intensity RFP Intensity Phase Intensity Area    x    y  \\\n",
      "0       817   335         68885         71206         9851748  380  311  262   \n",
      "1       817   336             0             0               0    0  311  262   \n",
      "2       817   337         45582         49991         6565494  250  311  263   \n",
      "3       817   338             0             0               0    0  311  263   \n",
      "4       817   339         77782         84031         8259349  309  313  261   \n",
      "..      ...   ...           ...           ...             ...  ...  ...  ...   \n",
      "743     817  1078        594293       1133019        26941855  672  325  342   \n",
      "744     817  1079             0             0               0    0  324  341   \n",
      "745     817  1080        758689       1436545        35577070  883  324  341   \n",
      "746     817  1081        581471        991102        25842110  623  328  343   \n",
      "747     817  1082        601708        961745        25862557  626  326  340   \n",
      "\n",
      "                         mask_fn  \n",
      "0    s_0336_fucci_merge_gray.tif  \n",
      "1    s_0337_fucci_merge_gray.tif  \n",
      "2    s_0338_fucci_merge_gray.tif  \n",
      "3    s_0339_fucci_merge_gray.tif  \n",
      "4    s_0340_fucci_merge_gray.tif  \n",
      "..                           ...  \n",
      "743  s_1079_fucci_merge_gray.tif  \n",
      "744  s_1080_fucci_merge_gray.tif  \n",
      "745  s_1081_fucci_merge_gray.tif  \n",
      "746  s_1082_fucci_merge_gray.tif  \n",
      "747  s_1083_fucci_merge_gray.tif  \n",
      "\n",
      "[748 rows x 9 columns]\n",
      "cell ID =  821 progress bar below: (n/N frames):\n"
     ]
    },
    {
     "data": {
      "application/vnd.jupyter.widget-view+json": {
       "model_id": "d04a5b2128444302ac981d46303c7714",
       "version_major": 2,
       "version_minor": 0
      },
      "text/plain": [
       "HBox(children=(FloatProgress(value=0.0, max=360.0), HTML(value='')))"
      ]
     },
     "metadata": {},
     "output_type": "display_data"
    },
    {
     "name": "stdout",
     "output_type": "stream",
     "text": [
      "\n",
      "    Cell ID Frame GFP Intensity RFP Intensity Phase Intensity  Area    x    y  \\\n",
      "0       821   339        351621        192280        20047523  1142  774  355   \n",
      "1       821   340        360297        197518        21402736  1188  775  355   \n",
      "2       821   341        215226        110714        11845172   687  780  357   \n",
      "3       821   342             0             0               0     0  784  358   \n",
      "4       821   343        373410        185147        22910297  1269  779  360   \n",
      "..      ...   ...           ...           ...             ...   ...  ...  ...   \n",
      "355     821   694       1792553        366643       104961824  3488  808  415   \n",
      "356     821   695       1774260        368520       109550192  3501  807  414   \n",
      "357     821   696       1775594        367934       109162127  3516  809  416   \n",
      "358     821   697       1700675        367096       111252699  3502  808  417   \n",
      "359     821   698       1563202        359152       106351257  3416  808  417   \n",
      "\n",
      "                         mask_fn  \n",
      "0    s_0340_fucci_merge_gray.tif  \n",
      "1    s_0341_fucci_merge_gray.tif  \n",
      "2    s_0342_fucci_merge_gray.tif  \n",
      "3    s_0343_fucci_merge_gray.tif  \n",
      "4    s_0344_fucci_merge_gray.tif  \n",
      "..                           ...  \n",
      "355  s_0695_fucci_merge_gray.tif  \n",
      "356  s_0696_fucci_merge_gray.tif  \n",
      "357  s_0697_fucci_merge_gray.tif  \n",
      "358  s_0698_fucci_merge_gray.tif  \n",
      "359  s_0699_fucci_merge_gray.tif  \n",
      "\n",
      "[360 rows x 9 columns]\n",
      "cell ID =  838 progress bar below: (n/N frames):\n"
     ]
    },
    {
     "data": {
      "application/vnd.jupyter.widget-view+json": {
       "model_id": "35103af5cfdf4be28d53ec0448bde7f1",
       "version_major": 2,
       "version_minor": 0
      },
      "text/plain": [
       "HBox(children=(FloatProgress(value=0.0, max=241.0), HTML(value='')))"
      ]
     },
     "metadata": {},
     "output_type": "display_data"
    },
    {
     "name": "stdout",
     "output_type": "stream",
     "text": [
      "\n",
      "    Cell ID Frame GFP Intensity RFP Intensity Phase Intensity  Area    x    y  \\\n",
      "0       838   349        800582        337514        32637269  2160  521  845   \n",
      "1       838   350        758860        313486        31158400  2011  521  845   \n",
      "2       838   351             0             0               0     0  521  845   \n",
      "3       838   352             0             0               0     0  521  845   \n",
      "4       838   353        686814        278381        26827169  1787  526  845   \n",
      "..      ...   ...           ...           ...             ...   ...  ...  ...   \n",
      "236     838   585       2404251        498648       121407344  4685  489  861   \n",
      "237     838   586       2341468        481422       117277819  4515  490  862   \n",
      "238     838   587       2294190        468497       116374233  4417  488  861   \n",
      "239     838   588       2031693        414747       109060782  3922  487  862   \n",
      "240     838   589       1490180        299374        82434637  2844  481  860   \n",
      "\n",
      "                         mask_fn  \n",
      "0    s_0350_fucci_merge_gray.tif  \n",
      "1    s_0351_fucci_merge_gray.tif  \n",
      "2    s_0352_fucci_merge_gray.tif  \n",
      "3    s_0353_fucci_merge_gray.tif  \n",
      "4    s_0354_fucci_merge_gray.tif  \n",
      "..                           ...  \n",
      "236  s_0586_fucci_merge_gray.tif  \n",
      "237  s_0587_fucci_merge_gray.tif  \n",
      "238  s_0588_fucci_merge_gray.tif  \n",
      "239  s_0589_fucci_merge_gray.tif  \n",
      "240  s_0590_fucci_merge_gray.tif  \n",
      "\n",
      "[241 rows x 9 columns]\n",
      "cell ID =  839 progress bar below: (n/N frames):\n"
     ]
    },
    {
     "data": {
      "application/vnd.jupyter.widget-view+json": {
       "model_id": "a6835e7ba7764a7f80a6594b8ec3e990",
       "version_major": 2,
       "version_minor": 0
      },
      "text/plain": [
       "HBox(children=(FloatProgress(value=0.0, max=690.0), HTML(value='')))"
      ]
     },
     "metadata": {},
     "output_type": "display_data"
    },
    {
     "name": "stdout",
     "output_type": "stream",
     "text": [
      "\n",
      "    Cell ID Frame GFP Intensity RFP Intensity Phase Intensity  Area    x    y  \\\n",
      "0       839   349        112581        123913        10929120   489  319  233   \n",
      "1       839   350             0             0               0     0  319  233   \n",
      "2       839   351         70787         83772         6876421   303  319  231   \n",
      "3       839   352        106428        123036         9617246   456  321  233   \n",
      "4       839   353        122478        148153        11506826   526  321  233   \n",
      "..      ...   ...           ...           ...             ...   ...  ...  ...   \n",
      "685     839  1034       1116764        220836        43329812  1192  297  294   \n",
      "686     839  1035       1246564        259085        49154811  1371  299  293   \n",
      "687     839  1036       1139905        234213        45376699  1260  299  295   \n",
      "688     839  1037        955267        187627        39428056  1103  296  296   \n",
      "689     839  1038        857580        169655        35656554   986  297  296   \n",
      "\n",
      "                         mask_fn  \n",
      "0    s_0350_fucci_merge_gray.tif  \n",
      "1    s_0351_fucci_merge_gray.tif  \n",
      "2    s_0352_fucci_merge_gray.tif  \n",
      "3    s_0353_fucci_merge_gray.tif  \n",
      "4    s_0354_fucci_merge_gray.tif  \n",
      "..                           ...  \n",
      "685  s_1035_fucci_merge_gray.tif  \n",
      "686  s_1036_fucci_merge_gray.tif  \n",
      "687  s_1037_fucci_merge_gray.tif  \n",
      "688  s_1038_fucci_merge_gray.tif  \n",
      "689  s_1039_fucci_merge_gray.tif  \n",
      "\n",
      "[690 rows x 9 columns]\n",
      "cell ID =  850 progress bar below: (n/N frames):\n"
     ]
    },
    {
     "data": {
      "application/vnd.jupyter.widget-view+json": {
       "model_id": "f0491856a91e49a4a92ac414f1a134e2",
       "version_major": 2,
       "version_minor": 0
      },
      "text/plain": [
       "HBox(children=(FloatProgress(value=0.0, max=280.0), HTML(value='')))"
      ]
     },
     "metadata": {},
     "output_type": "display_data"
    },
    {
     "name": "stdout",
     "output_type": "stream",
     "text": [
      "\n",
      "    Cell ID Frame GFP Intensity RFP Intensity Phase Intensity  Area    x    y  \\\n",
      "0       850   352        398650        134346        14968995   872  303  993   \n",
      "1       850   353        991489        334439        38632676  2159  303  993   \n",
      "2       850   354        511051        179809        20664016  1171  302  997   \n",
      "3       850   355        542978        194363        22336172  1277  300  998   \n",
      "4       850   356        487943        169833        19801743  1125  302  995   \n",
      "..      ...   ...           ...           ...             ...   ...  ...  ...   \n",
      "275     850   627       3180869        519642       116884798  4948  227  965   \n",
      "276     850   628       2903572        492073       115276632  4655  231  964   \n",
      "277     850   629       2938033        485073       117893018  4605  232  964   \n",
      "278     850   630       2653452        453482       114350386  4305  232  964   \n",
      "279     850   631       2267257        409468       102027543  3871  232  966   \n",
      "\n",
      "                         mask_fn  \n",
      "0    s_0353_fucci_merge_gray.tif  \n",
      "1    s_0354_fucci_merge_gray.tif  \n",
      "2    s_0355_fucci_merge_gray.tif  \n",
      "3    s_0356_fucci_merge_gray.tif  \n",
      "4    s_0357_fucci_merge_gray.tif  \n",
      "..                           ...  \n",
      "275  s_0628_fucci_merge_gray.tif  \n",
      "276  s_0629_fucci_merge_gray.tif  \n",
      "277  s_0630_fucci_merge_gray.tif  \n",
      "278  s_0631_fucci_merge_gray.tif  \n",
      "279  s_0632_fucci_merge_gray.tif  \n",
      "\n",
      "[280 rows x 9 columns]\n",
      "cell ID =  851 progress bar below: (n/N frames):\n"
     ]
    },
    {
     "data": {
      "application/vnd.jupyter.widget-view+json": {
       "model_id": "49df2632e8cd4965bfcfd52a8307f98a",
       "version_major": 2,
       "version_minor": 0
      },
      "text/plain": [
       "HBox(children=(FloatProgress(value=0.0, max=222.0), HTML(value='')))"
      ]
     },
     "metadata": {},
     "output_type": "display_data"
    },
    {
     "name": "stdout",
     "output_type": "stream",
     "text": [
      "\n",
      "    Cell ID Frame GFP Intensity RFP Intensity Phase Intensity Area    x    y  \\\n",
      "0       851   353        132585        102147        17292600  454  708  635   \n",
      "1       851   354        159036        126539        22430726  543  706  635   \n",
      "2       851   355        170159        133315        23213411  577  704  637   \n",
      "3       851   356        154250        119849        20811883  510  704  636   \n",
      "4       851   357        143072        112355        20162750  496  703  636   \n",
      "..      ...   ...           ...           ...             ...  ...  ...  ...   \n",
      "217     851   570             0             0               0    0  699  674   \n",
      "218     851   571         92968         76873         9651912  420  699  674   \n",
      "219     851   572             0             0               0    0  698  673   \n",
      "220     851   573        113488         92564        12000376  520  702  675   \n",
      "221     851   574        119637         96362        12666456  540  700  676   \n",
      "\n",
      "                         mask_fn  \n",
      "0    s_0354_fucci_merge_gray.tif  \n",
      "1    s_0355_fucci_merge_gray.tif  \n",
      "2    s_0356_fucci_merge_gray.tif  \n",
      "3    s_0357_fucci_merge_gray.tif  \n",
      "4    s_0358_fucci_merge_gray.tif  \n",
      "..                           ...  \n",
      "217  s_0571_fucci_merge_gray.tif  \n",
      "218  s_0572_fucci_merge_gray.tif  \n",
      "219  s_0573_fucci_merge_gray.tif  \n",
      "220  s_0574_fucci_merge_gray.tif  \n",
      "221  s_0575_fucci_merge_gray.tif  \n",
      "\n",
      "[222 rows x 9 columns]\n",
      "cell ID =  863 progress bar below: (n/N frames):\n"
     ]
    },
    {
     "data": {
      "application/vnd.jupyter.widget-view+json": {
       "model_id": "82996cb5994a4e119a37b35448726272",
       "version_major": 2,
       "version_minor": 0
      },
      "text/plain": [
       "HBox(children=(FloatProgress(value=0.0, max=326.0), HTML(value='')))"
      ]
     },
     "metadata": {},
     "output_type": "display_data"
    },
    {
     "name": "stdout",
     "output_type": "stream",
     "text": [
      "\n",
      "    Cell ID Frame GFP Intensity RFP Intensity Phase Intensity  Area    x    y  \\\n",
      "0       863   358        203548         86738         8146179   588  828  289   \n",
      "1       863   359        234572        108278         9899133   692  831  289   \n",
      "2       863   360        702713        318411        33060442  2140  833  289   \n",
      "3       863   361        298315        133061        12671324   897  834  285   \n",
      "4       863   362        749782        332799        32177137  2219  831  272   \n",
      "..      ...   ...           ...           ...             ...   ...  ...  ...   \n",
      "321     863   679       1495171        367432        98011723  3505  817  311   \n",
      "322     863   680       1488559        371080       100100536  3533  817  312   \n",
      "323     863   681       1477041        365375        98402030  3502  816  311   \n",
      "324     863   682       1414919        362642        99829752  3456  817  314   \n",
      "325     863   683        687687        168886        49597206  1608  817  318   \n",
      "\n",
      "                         mask_fn  \n",
      "0    s_0359_fucci_merge_gray.tif  \n",
      "1    s_0360_fucci_merge_gray.tif  \n",
      "2    s_0361_fucci_merge_gray.tif  \n",
      "3    s_0362_fucci_merge_gray.tif  \n",
      "4    s_0363_fucci_merge_gray.tif  \n",
      "..                           ...  \n",
      "321  s_0680_fucci_merge_gray.tif  \n",
      "322  s_0681_fucci_merge_gray.tif  \n",
      "323  s_0682_fucci_merge_gray.tif  \n",
      "324  s_0683_fucci_merge_gray.tif  \n",
      "325  s_0684_fucci_merge_gray.tif  \n",
      "\n",
      "[326 rows x 9 columns]\n",
      "cell ID =  866 progress bar below: (n/N frames):\n"
     ]
    },
    {
     "data": {
      "application/vnd.jupyter.widget-view+json": {
       "model_id": "9d69360b253e407fa6bbd27a8837fbfb",
       "version_major": 2,
       "version_minor": 0
      },
      "text/plain": [
       "HBox(children=(FloatProgress(value=0.0, max=399.0), HTML(value='')))"
      ]
     },
     "metadata": {},
     "output_type": "display_data"
    },
    {
     "name": "stdout",
     "output_type": "stream",
     "text": [
      "\n",
      "    Cell ID Frame GFP Intensity RFP Intensity Phase Intensity  Area    x    y  \\\n",
      "0       866   360        328483        182525        20347029  1241  766  261   \n",
      "1       866   361        387833        215788        22141135  1455  766  261   \n",
      "2       866   362        394750        219021        22223661  1481  768  264   \n",
      "3       866   363        409810        229091        22618926  1477  767  265   \n",
      "4       866   364        404621        220844        22825893  1500  766  268   \n",
      "..      ...   ...           ...           ...             ...   ...  ...  ...   \n",
      "394     866   754       1366196        339590        96164160  3131  719  300   \n",
      "395     866   755       1346153        326500        96751061  3019  720  300   \n",
      "396     866   756       1398761        325806        99428865  3052  721  299   \n",
      "397     866   757       1311697        309401        94593291  2893  722  298   \n",
      "398     866   758        986301        236827        77481766  2194  718  297   \n",
      "\n",
      "                         mask_fn  \n",
      "0    s_0361_fucci_merge_gray.tif  \n",
      "1    s_0362_fucci_merge_gray.tif  \n",
      "2    s_0363_fucci_merge_gray.tif  \n",
      "3    s_0364_fucci_merge_gray.tif  \n",
      "4    s_0365_fucci_merge_gray.tif  \n",
      "..                           ...  \n",
      "394  s_0755_fucci_merge_gray.tif  \n",
      "395  s_0756_fucci_merge_gray.tif  \n",
      "396  s_0757_fucci_merge_gray.tif  \n",
      "397  s_0758_fucci_merge_gray.tif  \n",
      "398  s_0759_fucci_merge_gray.tif  \n",
      "\n",
      "[399 rows x 9 columns]\n",
      "cell ID =  888 progress bar below: (n/N frames):\n"
     ]
    },
    {
     "data": {
      "application/vnd.jupyter.widget-view+json": {
       "model_id": "3107fd97540b43cabfe586165fec4366",
       "version_major": 2,
       "version_minor": 0
      },
      "text/plain": [
       "HBox(children=(FloatProgress(value=0.0, max=633.0), HTML(value='')))"
      ]
     },
     "metadata": {},
     "output_type": "display_data"
    },
    {
     "name": "stdout",
     "output_type": "stream",
     "text": [
      "\n",
      "    Cell ID Frame GFP Intensity RFP Intensity Phase Intensity  Area    x    y  \\\n",
      "0       888   370        120514        121491        15309908   592  668  654   \n",
      "1       888   371             0             0               0     0  668  654   \n",
      "2       888   372             0             0               0     0  668  654   \n",
      "3       888   373         67221         69318         8935574   328  672  656   \n",
      "4       888   374         86602         90041        11120636   427  670  656   \n",
      "..      ...   ...           ...           ...             ...   ...  ...  ...   \n",
      "628     888   998       1999384        366894        83623888  3200  646  713   \n",
      "629     888   999       1880301        336447        77703470  2968  642  711   \n",
      "630     888  1000       1909938        354705        81088500  3098  644  713   \n",
      "631     888  1001       1795757        343728        80059750  3010  645  712   \n",
      "632     888  1002       1730107        336404        80921346  2933  646  713   \n",
      "\n",
      "                         mask_fn  \n",
      "0    s_0371_fucci_merge_gray.tif  \n",
      "1    s_0372_fucci_merge_gray.tif  \n",
      "2    s_0373_fucci_merge_gray.tif  \n",
      "3    s_0374_fucci_merge_gray.tif  \n",
      "4    s_0375_fucci_merge_gray.tif  \n",
      "..                           ...  \n",
      "628  s_0999_fucci_merge_gray.tif  \n",
      "629  s_1000_fucci_merge_gray.tif  \n",
      "630  s_1001_fucci_merge_gray.tif  \n",
      "631  s_1002_fucci_merge_gray.tif  \n",
      "632  s_1003_fucci_merge_gray.tif  \n",
      "\n",
      "[633 rows x 9 columns]\n",
      "cell ID =  891 progress bar below: (n/N frames):\n"
     ]
    },
    {
     "data": {
      "application/vnd.jupyter.widget-view+json": {
       "model_id": "caa46fe946ae404da9a6e85ff0e72c82",
       "version_major": 2,
       "version_minor": 0
      },
      "text/plain": [
       "HBox(children=(FloatProgress(value=0.0, max=372.0), HTML(value='')))"
      ]
     },
     "metadata": {},
     "output_type": "display_data"
    },
    {
     "name": "stdout",
     "output_type": "stream",
     "text": [
      "\n",
      "    Cell ID Frame GFP Intensity RFP Intensity Phase Intensity Area    x    y  \\\n",
      "0       891   370        186748        146760        27682033  848  312  299   \n",
      "1       891   371             0             0               0    0  312  299   \n",
      "2       891   372         98494         80520        15183915  442  314  299   \n",
      "3       891   373        193466        153552        30955555  881  311  299   \n",
      "4       891   374        156100        126417        24147236  712  308  300   \n",
      "..      ...   ...           ...           ...             ...  ...  ...  ...   \n",
      "367     891   737         18449         40462         2302703   57  350  386   \n",
      "368     891   738         29385         55778         3719473  102  348  387   \n",
      "369     891   739         18581         28680         2447676   69  352  391   \n",
      "370     891   740         29950         59732         3883582  105  351  391   \n",
      "371     891   741         27680         48503         3429807   95  351  389   \n",
      "\n",
      "                         mask_fn  \n",
      "0    s_0371_fucci_merge_gray.tif  \n",
      "1    s_0372_fucci_merge_gray.tif  \n",
      "2    s_0373_fucci_merge_gray.tif  \n",
      "3    s_0374_fucci_merge_gray.tif  \n",
      "4    s_0375_fucci_merge_gray.tif  \n",
      "..                           ...  \n",
      "367  s_0738_fucci_merge_gray.tif  \n",
      "368  s_0739_fucci_merge_gray.tif  \n",
      "369  s_0740_fucci_merge_gray.tif  \n",
      "370  s_0741_fucci_merge_gray.tif  \n",
      "371  s_0742_fucci_merge_gray.tif  \n",
      "\n",
      "[372 rows x 9 columns]\n",
      "cell ID =  892 progress bar below: (n/N frames):\n"
     ]
    },
    {
     "data": {
      "application/vnd.jupyter.widget-view+json": {
       "model_id": "8dc6935c75e74e56b7a03ac0cd3838a6",
       "version_major": 2,
       "version_minor": 0
      },
      "text/plain": [
       "HBox(children=(FloatProgress(value=0.0, max=586.0), HTML(value='')))"
      ]
     },
     "metadata": {},
     "output_type": "display_data"
    },
    {
     "name": "stdout",
     "output_type": "stream",
     "text": [
      "\n",
      "    Cell ID Frame GFP Intensity RFP Intensity Phase Intensity  Area    x    y  \\\n",
      "0       892   371         94715        102599        10457486   543  636  689   \n",
      "1       892   372             0             0               0     0  636  689   \n",
      "2       892   373        120519        131516        12967868   688  637  690   \n",
      "3       892   374         82794         93014         8767906   477  635  692   \n",
      "4       892   375             0             0               0     0  633  693   \n",
      "..      ...   ...           ...           ...             ...   ...  ...  ...   \n",
      "581     892   952       2478243        401478        90912955  3568  594  741   \n",
      "582     892   953       2682164        427872        94882622  3734  595  743   \n",
      "583     892   954       2638934        443155        98864137  3817  594  742   \n",
      "584     892   955       2139157        350931        78796603  2993  597  739   \n",
      "585     892   956       1893923        320916        73231991  2756  596  739   \n",
      "\n",
      "                         mask_fn  \n",
      "0    s_0372_fucci_merge_gray.tif  \n",
      "1    s_0373_fucci_merge_gray.tif  \n",
      "2    s_0374_fucci_merge_gray.tif  \n",
      "3    s_0375_fucci_merge_gray.tif  \n",
      "4    s_0376_fucci_merge_gray.tif  \n",
      "..                           ...  \n",
      "581  s_0953_fucci_merge_gray.tif  \n",
      "582  s_0954_fucci_merge_gray.tif  \n",
      "583  s_0955_fucci_merge_gray.tif  \n",
      "584  s_0956_fucci_merge_gray.tif  \n",
      "585  s_0957_fucci_merge_gray.tif  \n",
      "\n",
      "[586 rows x 9 columns]\n",
      "cell ID =  914 progress bar below: (n/N frames):\n"
     ]
    },
    {
     "data": {
      "application/vnd.jupyter.widget-view+json": {
       "model_id": "489ce6e9fafa4572ba67b1647584626c",
       "version_major": 2,
       "version_minor": 0
      },
      "text/plain": [
       "HBox(children=(FloatProgress(value=0.0, max=467.0), HTML(value='')))"
      ]
     },
     "metadata": {},
     "output_type": "display_data"
    },
    {
     "name": "stdout",
     "output_type": "stream",
     "text": [
      "\n",
      "    Cell ID Frame GFP Intensity RFP Intensity Phase Intensity  Area    x    y  \\\n",
      "0       914   383        697385        133441        17304632  1257  336  612   \n",
      "1       914   384        608701        118662        15884265  1123  337  614   \n",
      "2       914   385       1732840        315200        41073065  2903  337  615   \n",
      "3       914   386        778025        147314        19829977  1389  338  617   \n",
      "4       914   387       1013167        187846        25705052  1769  333  611   \n",
      "..      ...   ...           ...           ...             ...   ...  ...  ...   \n",
      "462     914   845       3798391        410837        42890513  3777  267  683   \n",
      "463     914   846       3818834        403055        44967073  3720  269  683   \n",
      "464     914   847       2260637        240889        26115141  2229  269  683   \n",
      "465     914   848       1991682        196732        21736625  1801  269  684   \n",
      "466     914   849       3851879        426090        44694562  3919  262  683   \n",
      "\n",
      "                         mask_fn  \n",
      "0    s_0384_fucci_merge_gray.tif  \n",
      "1    s_0385_fucci_merge_gray.tif  \n",
      "2    s_0386_fucci_merge_gray.tif  \n",
      "3    s_0387_fucci_merge_gray.tif  \n",
      "4    s_0388_fucci_merge_gray.tif  \n",
      "..                           ...  \n",
      "462  s_0846_fucci_merge_gray.tif  \n",
      "463  s_0847_fucci_merge_gray.tif  \n",
      "464  s_0848_fucci_merge_gray.tif  \n",
      "465  s_0849_fucci_merge_gray.tif  \n",
      "466  s_0850_fucci_merge_gray.tif  \n",
      "\n",
      "[467 rows x 9 columns]\n",
      "cell ID =  927 progress bar below: (n/N frames):\n"
     ]
    },
    {
     "data": {
      "application/vnd.jupyter.widget-view+json": {
       "model_id": "b1b1b0926fd84b939ade65700ca9105c",
       "version_major": 2,
       "version_minor": 0
      },
      "text/plain": [
       "HBox(children=(FloatProgress(value=0.0, max=342.0), HTML(value='')))"
      ]
     },
     "metadata": {},
     "output_type": "display_data"
    },
    {
     "name": "stdout",
     "output_type": "stream",
     "text": [
      "\n",
      "    Cell ID Frame GFP Intensity RFP Intensity Phase Intensity  Area     x  \\\n",
      "0       927   389         15915         19790         1783103    97  1019   \n",
      "1       927   390             0             0               0     0  1019   \n",
      "2       927   391             0             0               0     0  1019   \n",
      "3       927   392         13858         16909         1567599    86  1020   \n",
      "4       927   393         31149         36239         3365181   196  1018   \n",
      "..      ...   ...           ...           ...             ...   ...   ...   \n",
      "337     927   726       1129237        300013        81600480  2778   975   \n",
      "338     927   727       1091106        288707        80256232  2670   975   \n",
      "339     927   728       1062470        284675        81285795  2647   975   \n",
      "340     927   729        831371        232635        66187099  2145   975   \n",
      "341     927   730        778486        218164        62912727  2031   977   \n",
      "\n",
      "       y                      mask_fn  \n",
      "0    624  s_0390_fucci_merge_gray.tif  \n",
      "1    624  s_0391_fucci_merge_gray.tif  \n",
      "2    624  s_0392_fucci_merge_gray.tif  \n",
      "3    627  s_0393_fucci_merge_gray.tif  \n",
      "4    628  s_0394_fucci_merge_gray.tif  \n",
      "..   ...                          ...  \n",
      "337  702  s_0727_fucci_merge_gray.tif  \n",
      "338  703  s_0728_fucci_merge_gray.tif  \n",
      "339  702  s_0729_fucci_merge_gray.tif  \n",
      "340  705  s_0730_fucci_merge_gray.tif  \n",
      "341  705  s_0731_fucci_merge_gray.tif  \n",
      "\n",
      "[342 rows x 9 columns]\n",
      "cell ID =  940 progress bar below: (n/N frames):\n"
     ]
    },
    {
     "data": {
      "application/vnd.jupyter.widget-view+json": {
       "model_id": "510d887579a04680831ab89191e19907",
       "version_major": 2,
       "version_minor": 0
      },
      "text/plain": [
       "HBox(children=(FloatProgress(value=0.0, max=311.0), HTML(value='')))"
      ]
     },
     "metadata": {},
     "output_type": "display_data"
    },
    {
     "name": "stdout",
     "output_type": "stream",
     "text": [
      "\n",
      "    Cell ID Frame GFP Intensity RFP Intensity Phase Intensity  Area    x   y  \\\n",
      "0       940   399        336434        118799        26159562  1143  702  40   \n",
      "1       940   400        424443        151497        35770809  1444  707  41   \n",
      "2       940   401        385015        134746        30323939  1289  705  41   \n",
      "3       940   402        391501        132674        30837665  1274  707  41   \n",
      "4       940   403         85786         27824         6065579   267  706  40   \n",
      "..      ...   ...           ...           ...             ...   ...  ...  ..   \n",
      "306     940   705             0             0               0     0  744  62   \n",
      "307     940   706        968137        197787        42293279  1893  741  58   \n",
      "308     940   707        821088        153701        40540963  1475  743  62   \n",
      "309     940   708       1421632        270055        71593250  2591  745  62   \n",
      "310     940   709       1373210        252286        68953282  2410  747  65   \n",
      "\n",
      "                         mask_fn  \n",
      "0    s_0400_fucci_merge_gray.tif  \n",
      "1    s_0401_fucci_merge_gray.tif  \n",
      "2    s_0402_fucci_merge_gray.tif  \n",
      "3    s_0403_fucci_merge_gray.tif  \n",
      "4    s_0404_fucci_merge_gray.tif  \n",
      "..                           ...  \n",
      "306  s_0706_fucci_merge_gray.tif  \n",
      "307  s_0707_fucci_merge_gray.tif  \n",
      "308  s_0708_fucci_merge_gray.tif  \n",
      "309  s_0709_fucci_merge_gray.tif  \n",
      "310  s_0710_fucci_merge_gray.tif  \n",
      "\n",
      "[311 rows x 9 columns]\n",
      "cell ID =  945 progress bar below: (n/N frames):\n"
     ]
    },
    {
     "data": {
      "application/vnd.jupyter.widget-view+json": {
       "model_id": "d22ff23161494714b180f59c97fd821a",
       "version_major": 2,
       "version_minor": 0
      },
      "text/plain": [
       "HBox(children=(FloatProgress(value=0.0, max=324.0), HTML(value='')))"
      ]
     },
     "metadata": {},
     "output_type": "display_data"
    },
    {
     "name": "stdout",
     "output_type": "stream",
     "text": [
      "\n",
      "    Cell ID Frame GFP Intensity RFP Intensity Phase Intensity  Area    x   y  \\\n",
      "0       945   401        239190        241230        23208301  1452  513  69   \n",
      "1       945   402        114836        121743        11606146   704  512  65   \n",
      "2       945   403             0             0               0     0  511  61   \n",
      "3       945   404        262016        260284        25873278  1559  512  65   \n",
      "4       945   405        207743        215918        21303440  1221  511  63   \n",
      "..      ...   ...           ...           ...             ...   ...  ...  ..   \n",
      "319     945   720       2093564        427816        95758211  4072  554  79   \n",
      "320     945   721       2097868        422948        97191443  4002  552  79   \n",
      "321     945   722       2058440        433880       100741445  4082  553  79   \n",
      "322     945   723       1779189        405272        95635350  3827  550  80   \n",
      "323     945   724       1641849        387140        94809720  3630  551  81   \n",
      "\n",
      "                         mask_fn  \n",
      "0    s_0402_fucci_merge_gray.tif  \n",
      "1    s_0403_fucci_merge_gray.tif  \n",
      "2    s_0404_fucci_merge_gray.tif  \n",
      "3    s_0405_fucci_merge_gray.tif  \n",
      "4    s_0406_fucci_merge_gray.tif  \n",
      "..                           ...  \n",
      "319  s_0721_fucci_merge_gray.tif  \n",
      "320  s_0722_fucci_merge_gray.tif  \n",
      "321  s_0723_fucci_merge_gray.tif  \n",
      "322  s_0724_fucci_merge_gray.tif  \n",
      "323  s_0725_fucci_merge_gray.tif  \n",
      "\n",
      "[324 rows x 9 columns]\n",
      "cell ID =  946 progress bar below: (n/N frames):\n"
     ]
    },
    {
     "data": {
      "application/vnd.jupyter.widget-view+json": {
       "model_id": "d0a97764f2ed4119b8442dd9d7d19778",
       "version_major": 2,
       "version_minor": 0
      },
      "text/plain": [
       "HBox(children=(FloatProgress(value=0.0, max=300.0), HTML(value='')))"
      ]
     },
     "metadata": {},
     "output_type": "display_data"
    },
    {
     "name": "stdout",
     "output_type": "stream",
     "text": [
      "\n",
      "    Cell ID Frame GFP Intensity RFP Intensity Phase Intensity  Area    x   y  \\\n",
      "0       946   401        309016        114205        16804861  1100  749  74   \n",
      "1       946   402        343947        125878        17730970  1217  749  76   \n",
      "2       946   403             0             0               0     0  749  77   \n",
      "3       946   404        405959        154090        21910180  1483  747  78   \n",
      "4       946   405        288374        106264        14989369  1024  749  83   \n",
      "..      ...   ...           ...           ...             ...   ...  ...  ..   \n",
      "295     946   696        916436        180236        33923367  1716  806  68   \n",
      "296     946   697        902080        173379        33435075  1643  806  67   \n",
      "297     946   698        868595        172390        32507337  1624  807  70   \n",
      "298     946   699        903199        170802        33714952  1645  802  69   \n",
      "299     946   700        940748        191164        37377052  1809  803  69   \n",
      "\n",
      "                         mask_fn  \n",
      "0    s_0402_fucci_merge_gray.tif  \n",
      "1    s_0403_fucci_merge_gray.tif  \n",
      "2    s_0404_fucci_merge_gray.tif  \n",
      "3    s_0405_fucci_merge_gray.tif  \n",
      "4    s_0406_fucci_merge_gray.tif  \n",
      "..                           ...  \n",
      "295  s_0697_fucci_merge_gray.tif  \n",
      "296  s_0698_fucci_merge_gray.tif  \n",
      "297  s_0699_fucci_merge_gray.tif  \n",
      "298  s_0700_fucci_merge_gray.tif  \n",
      "299  s_0701_fucci_merge_gray.tif  \n",
      "\n",
      "[300 rows x 9 columns]\n",
      "cell ID =  948 progress bar below: (n/N frames):\n"
     ]
    },
    {
     "data": {
      "application/vnd.jupyter.widget-view+json": {
       "model_id": "ecb5ec009fe047c6b223b5e382dd0da2",
       "version_major": 2,
       "version_minor": 0
      },
      "text/plain": [
       "HBox(children=(FloatProgress(value=0.0, max=688.0), HTML(value='')))"
      ]
     },
     "metadata": {},
     "output_type": "display_data"
    },
    {
     "name": "stdout",
     "output_type": "stream",
     "text": [
      "\n",
      "    Cell ID Frame GFP Intensity RFP Intensity Phase Intensity  Area    x    y  \\\n",
      "0       948   404        177098        167566        16233235  1003  550  440   \n",
      "1       948   405        158185        159121        15284522   915  550  442   \n",
      "2       948   406             0             0               0     0  550  443   \n",
      "3       948   407        186803        180804        17294846  1050  550  441   \n",
      "4       948   408        210189        202023        19080043  1170  550  442   \n",
      "..      ...   ...           ...           ...             ...   ...  ...  ...   \n",
      "683     948  1087       2867411        312486        47792675  2833  654  536   \n",
      "684     948  1088       2844203        310390        47754800  2816  653  536   \n",
      "685     948  1089       2798665        305743        48461136  2799  654  537   \n",
      "686     948  1090       2850032        306444        47904010  2794  654  537   \n",
      "687     948  1091       2848638        310413        48374908  2832  657  537   \n",
      "\n",
      "                         mask_fn  \n",
      "0    s_0405_fucci_merge_gray.tif  \n",
      "1    s_0406_fucci_merge_gray.tif  \n",
      "2    s_0407_fucci_merge_gray.tif  \n",
      "3    s_0408_fucci_merge_gray.tif  \n",
      "4    s_0409_fucci_merge_gray.tif  \n",
      "..                           ...  \n",
      "683  s_1088_fucci_merge_gray.tif  \n",
      "684  s_1089_fucci_merge_gray.tif  \n",
      "685  s_1090_fucci_merge_gray.tif  \n",
      "686  s_1091_fucci_merge_gray.tif  \n",
      "687  s_1092_fucci_merge_gray.tif  \n",
      "\n",
      "[688 rows x 9 columns]\n",
      "cell ID =  954 progress bar below: (n/N frames):\n"
     ]
    },
    {
     "data": {
      "application/vnd.jupyter.widget-view+json": {
       "model_id": "ed5b317606d54039ac25bc2936d6a93f",
       "version_major": 2,
       "version_minor": 0
      },
      "text/plain": [
       "HBox(children=(FloatProgress(value=0.0, max=523.0), HTML(value='')))"
      ]
     },
     "metadata": {},
     "output_type": "display_data"
    },
    {
     "name": "stdout",
     "output_type": "stream",
     "text": [
      "\n",
      "    Cell ID Frame GFP Intensity RFP Intensity Phase Intensity  Area    x    y  \\\n",
      "0       954   405        400038        169860        22484927  1526  360  756   \n",
      "1       954   406        474654        202871        26736125  1836  357  758   \n",
      "2       954   407        405435        165149        22143275  1505  359  759   \n",
      "3       954   408             0             0               0     0  360  760   \n",
      "4       954   409        399590        155541        21347947  1454  360  761   \n",
      "..      ...   ...           ...           ...             ...   ...  ...  ...   \n",
      "518     954   924        498609         83607        12277832   777  272  874   \n",
      "519     954   925        428635         68721         9832543   637  273  873   \n",
      "520     954   926             0             0               0     0  273  872   \n",
      "521     954   927             0             0               0     0  273  872   \n",
      "522     954   928        388535         63849         8819582   591  275  873   \n",
      "\n",
      "                         mask_fn  \n",
      "0    s_0406_fucci_merge_gray.tif  \n",
      "1    s_0407_fucci_merge_gray.tif  \n",
      "2    s_0408_fucci_merge_gray.tif  \n",
      "3    s_0409_fucci_merge_gray.tif  \n",
      "4    s_0410_fucci_merge_gray.tif  \n",
      "..                           ...  \n",
      "518  s_0925_fucci_merge_gray.tif  \n",
      "519  s_0926_fucci_merge_gray.tif  \n",
      "520  s_0927_fucci_merge_gray.tif  \n",
      "521  s_0928_fucci_merge_gray.tif  \n",
      "522  s_0929_fucci_merge_gray.tif  \n",
      "\n",
      "[523 rows x 9 columns]\n",
      "cell ID =  952 progress bar below: (n/N frames):\n"
     ]
    },
    {
     "data": {
      "application/vnd.jupyter.widget-view+json": {
       "model_id": "ca297c8ad0df42b58c97807146163bb4",
       "version_major": 2,
       "version_minor": 0
      },
      "text/plain": [
       "HBox(children=(FloatProgress(value=0.0, max=345.0), HTML(value='')))"
      ]
     },
     "metadata": {},
     "output_type": "display_data"
    },
    {
     "name": "stdout",
     "output_type": "stream",
     "text": [
      "\n",
      "    Cell ID Frame GFP Intensity RFP Intensity Phase Intensity Area    x    y  \\\n",
      "0       952   405          1782          1597          162537    8  174  205   \n",
      "1       952   406        204892        157383        16136760  809  183  204   \n",
      "2       952   407         47943         40487         4075277  190  184  206   \n",
      "3       952   408        166122        130192        14274668  658  185  205   \n",
      "4       952   409        161109        126651        13011980  645  183  206   \n",
      "..      ...   ...           ...           ...             ...  ...  ...  ...   \n",
      "340     952   745             0             0               0    0  242  279   \n",
      "341     952   746        139971        119137         9353330  630  242  278   \n",
      "342     952   747             0             0               0    0  241  277   \n",
      "343     952   748             0             0               0    0  240  276   \n",
      "344     952   749        121705         99706         8371714  542  245  279   \n",
      "\n",
      "                         mask_fn  \n",
      "0    s_0406_fucci_merge_gray.tif  \n",
      "1    s_0407_fucci_merge_gray.tif  \n",
      "2    s_0408_fucci_merge_gray.tif  \n",
      "3    s_0409_fucci_merge_gray.tif  \n",
      "4    s_0410_fucci_merge_gray.tif  \n",
      "..                           ...  \n",
      "340  s_0746_fucci_merge_gray.tif  \n",
      "341  s_0747_fucci_merge_gray.tif  \n",
      "342  s_0748_fucci_merge_gray.tif  \n",
      "343  s_0749_fucci_merge_gray.tif  \n",
      "344  s_0750_fucci_merge_gray.tif  \n",
      "\n",
      "[345 rows x 9 columns]\n",
      "cell ID =  959 progress bar below: (n/N frames):\n"
     ]
    },
    {
     "data": {
      "application/vnd.jupyter.widget-view+json": {
       "model_id": "05c6ea2393a6409eb6f127d69c671561",
       "version_major": 2,
       "version_minor": 0
      },
      "text/plain": [
       "HBox(children=(FloatProgress(value=0.0, max=467.0), HTML(value='')))"
      ]
     },
     "metadata": {},
     "output_type": "display_data"
    },
    {
     "name": "stdout",
     "output_type": "stream",
     "text": [
      "\n",
      "    Cell ID Frame GFP Intensity RFP Intensity Phase Intensity  Area    x    y  \\\n",
      "0       959   407        198557        201132        17689693  1202  489  424   \n",
      "1       959   408        224784        225540        19142878  1367  490  426   \n",
      "2       959   409        136536        139809        12451775   822  490  425   \n",
      "3       959   410        140934        145153        12336768   843  487  425   \n",
      "4       959   411             0             0               0     0  484  424   \n",
      "..      ...   ...           ...           ...             ...   ...  ...  ...   \n",
      "462     959   869       2457802        452970       103558948  4095  522  460   \n",
      "463     959   870       2305427        447689       105080564  4074  522  459   \n",
      "464     959   871       2145321        431402       103487520  3883  522  458   \n",
      "465     959   872             0             0               0     0  521  457   \n",
      "466     959   873        565031        149257        31357735  1347  494  449   \n",
      "\n",
      "                         mask_fn  \n",
      "0    s_0408_fucci_merge_gray.tif  \n",
      "1    s_0409_fucci_merge_gray.tif  \n",
      "2    s_0410_fucci_merge_gray.tif  \n",
      "3    s_0411_fucci_merge_gray.tif  \n",
      "4    s_0412_fucci_merge_gray.tif  \n",
      "..                           ...  \n",
      "462  s_0870_fucci_merge_gray.tif  \n",
      "463  s_0871_fucci_merge_gray.tif  \n",
      "464  s_0872_fucci_merge_gray.tif  \n",
      "465  s_0873_fucci_merge_gray.tif  \n",
      "466  s_0874_fucci_merge_gray.tif  \n",
      "\n",
      "[467 rows x 9 columns]\n",
      "cell ID =  963 progress bar below: (n/N frames):\n"
     ]
    },
    {
     "data": {
      "application/vnd.jupyter.widget-view+json": {
       "model_id": "f62005ff876e439ab9f95a3b91dc7ef0",
       "version_major": 2,
       "version_minor": 0
      },
      "text/plain": [
       "HBox(children=(FloatProgress(value=0.0, max=250.0), HTML(value='')))"
      ]
     },
     "metadata": {},
     "output_type": "display_data"
    },
    {
     "name": "stdout",
     "output_type": "stream",
     "text": [
      "\n",
      "    Cell ID Frame GFP Intensity RFP Intensity Phase Intensity  Area     x  \\\n",
      "0       963   409         41552         14458         2769369   142  1019   \n",
      "1       963   410         97102         35955         6822575   350  1017   \n",
      "2       963   411        105391         31972         5934086   315  1018   \n",
      "3       963   412         86110         25529         4861081   250  1018   \n",
      "4       963   413        125707         43862         8249993   429  1017   \n",
      "..      ...   ...           ...           ...             ...   ...   ...   \n",
      "245     963   654        711298        141837        27347254  1367  1008   \n",
      "246     963   655        697682        140049        27916320  1346  1009   \n",
      "247     963   656        662107        138181        27212459  1331  1009   \n",
      "248     963   657        619603        134202        27731174  1295  1010   \n",
      "249     963   658        546245        132605        27669691  1276  1010   \n",
      "\n",
      "       y                      mask_fn  \n",
      "0    566  s_0410_fucci_merge_gray.tif  \n",
      "1    565  s_0411_fucci_merge_gray.tif  \n",
      "2    566  s_0412_fucci_merge_gray.tif  \n",
      "3    567  s_0413_fucci_merge_gray.tif  \n",
      "4    567  s_0414_fucci_merge_gray.tif  \n",
      "..   ...                          ...  \n",
      "245  624  s_0655_fucci_merge_gray.tif  \n",
      "246  623  s_0656_fucci_merge_gray.tif  \n",
      "247  619  s_0657_fucci_merge_gray.tif  \n",
      "248  618  s_0658_fucci_merge_gray.tif  \n",
      "249  615  s_0659_fucci_merge_gray.tif  \n",
      "\n",
      "[250 rows x 9 columns]\n",
      "cell ID =  971 progress bar below: (n/N frames):\n"
     ]
    },
    {
     "data": {
      "application/vnd.jupyter.widget-view+json": {
       "model_id": "b073499bae7948c79c619ab5b1d9c16e",
       "version_major": 2,
       "version_minor": 0
      },
      "text/plain": [
       "HBox(children=(FloatProgress(value=0.0, max=676.0), HTML(value='')))"
      ]
     },
     "metadata": {},
     "output_type": "display_data"
    },
    {
     "name": "stdout",
     "output_type": "stream",
     "text": [
      "\n",
      "    Cell ID Frame GFP Intensity RFP Intensity Phase Intensity  Area    x    y  \\\n",
      "0       971   416        525084        169050        24661472  1586  610  873   \n",
      "1       971   417        321302         97609        14131894   926  611  872   \n",
      "2       971   418        222839         66690         9447782   629  609  872   \n",
      "3       971   419        402929        127784        17680972  1181  608  872   \n",
      "4       971   420        499657        163844        23344714  1540  610  872   \n",
      "..      ...   ...           ...           ...             ...   ...  ...  ...   \n",
      "671     971  1087       2161542        273796        52456014  2401  630  925   \n",
      "672     971  1088       1722517        213233        41124865  1901  629  921   \n",
      "673     971  1089       2105844        268890        52840107  2353  629  927   \n",
      "674     971  1090       2178479        273872        51753800  2407  629  928   \n",
      "675     971  1091       2210696        283245        52284642  2482  629  927   \n",
      "\n",
      "                         mask_fn  \n",
      "0    s_0417_fucci_merge_gray.tif  \n",
      "1    s_0418_fucci_merge_gray.tif  \n",
      "2    s_0419_fucci_merge_gray.tif  \n",
      "3    s_0420_fucci_merge_gray.tif  \n",
      "4    s_0421_fucci_merge_gray.tif  \n",
      "..                           ...  \n",
      "671  s_1088_fucci_merge_gray.tif  \n",
      "672  s_1089_fucci_merge_gray.tif  \n",
      "673  s_1090_fucci_merge_gray.tif  \n",
      "674  s_1091_fucci_merge_gray.tif  \n",
      "675  s_1092_fucci_merge_gray.tif  \n",
      "\n",
      "[676 rows x 9 columns]\n",
      "cell ID =  981 progress bar below: (n/N frames):\n"
     ]
    },
    {
     "data": {
      "application/vnd.jupyter.widget-view+json": {
       "model_id": "f2fc486f9c6f4d2b8678c34ad74ee245",
       "version_major": 2,
       "version_minor": 0
      },
      "text/plain": [
       "HBox(children=(FloatProgress(value=0.0, max=455.0), HTML(value='')))"
      ]
     },
     "metadata": {},
     "output_type": "display_data"
    },
    {
     "name": "stdout",
     "output_type": "stream",
     "text": [
      "\n",
      "    Cell ID Frame GFP Intensity RFP Intensity Phase Intensity  Area    x    y  \\\n",
      "0       981   425        196373        221557        17120840  1180  500  118   \n",
      "1       981   426        276834        303025        25278148  1666  501  119   \n",
      "2       981   427        276768        311440        22912888  1651  502  119   \n",
      "3       981   428        264273        294140        23141462  1571  506  118   \n",
      "4       981   429        214408        248956        19284643  1280  508  116   \n",
      "..      ...   ...           ...           ...             ...   ...  ...  ...   \n",
      "450     981   875       1910661        382911        79081859  3249  507  168   \n",
      "451     981   876       1904372        374913        79217563  3233  507  167   \n",
      "452     981   877       1784124        354418        78992318  3057  506  167   \n",
      "453     981   878       1670992        352970        76840516  3028  507  168   \n",
      "454     981   879       1331044        271889        65680424  2398  509  168   \n",
      "\n",
      "                         mask_fn  \n",
      "0    s_0426_fucci_merge_gray.tif  \n",
      "1    s_0427_fucci_merge_gray.tif  \n",
      "2    s_0428_fucci_merge_gray.tif  \n",
      "3    s_0429_fucci_merge_gray.tif  \n",
      "4    s_0430_fucci_merge_gray.tif  \n",
      "..                           ...  \n",
      "450  s_0876_fucci_merge_gray.tif  \n",
      "451  s_0877_fucci_merge_gray.tif  \n",
      "452  s_0878_fucci_merge_gray.tif  \n",
      "453  s_0879_fucci_merge_gray.tif  \n",
      "454  s_0880_fucci_merge_gray.tif  \n",
      "\n",
      "[455 rows x 9 columns]\n",
      "cell ID =  987 progress bar below: (n/N frames):\n"
     ]
    },
    {
     "data": {
      "application/vnd.jupyter.widget-view+json": {
       "model_id": "aa542c5b0a604c208ac6ba10af63f66c",
       "version_major": 2,
       "version_minor": 0
      },
      "text/plain": [
       "HBox(children=(FloatProgress(value=0.0, max=277.0), HTML(value='')))"
      ]
     },
     "metadata": {},
     "output_type": "display_data"
    },
    {
     "name": "stdout",
     "output_type": "stream",
     "text": [
      "\n",
      "    Cell ID Frame GFP Intensity RFP Intensity Phase Intensity  Area    x    y  \\\n",
      "0       987   432        264665        191733        29682469   987  837  148   \n",
      "1       987   433       1204879        452348        74456971  3213  837  148   \n",
      "2       987   434        317640        223560        33038103  1158  838  148   \n",
      "3       987   435        240442        182137        25873346   930  838  152   \n",
      "4       987   436        270793        199684        30166325  1036  839  155   \n",
      "..      ...   ...           ...           ...             ...   ...  ...  ...   \n",
      "272     987   704        222504        181628        21829063   823  852  131   \n",
      "273     987   705        407908        386498        39470067  1740  854  117   \n",
      "274     987   706        433997        401981        42225989  1808  853  116   \n",
      "275     987   707        379386        356813        36330455  1547  852  118   \n",
      "276     987   708        209251        164882        20295872   761  848  133   \n",
      "\n",
      "                         mask_fn  \n",
      "0    s_0433_fucci_merge_gray.tif  \n",
      "1    s_0434_fucci_merge_gray.tif  \n",
      "2    s_0435_fucci_merge_gray.tif  \n",
      "3    s_0436_fucci_merge_gray.tif  \n",
      "4    s_0437_fucci_merge_gray.tif  \n",
      "..                           ...  \n",
      "272  s_0705_fucci_merge_gray.tif  \n",
      "273  s_0706_fucci_merge_gray.tif  \n",
      "274  s_0707_fucci_merge_gray.tif  \n",
      "275  s_0708_fucci_merge_gray.tif  \n",
      "276  s_0709_fucci_merge_gray.tif  \n",
      "\n",
      "[277 rows x 9 columns]\n",
      "cell ID =  993 progress bar below: (n/N frames):\n"
     ]
    },
    {
     "data": {
      "application/vnd.jupyter.widget-view+json": {
       "model_id": "f560e78fc53b41f885499780e8b6f3ac",
       "version_major": 2,
       "version_minor": 0
      },
      "text/plain": [
       "HBox(children=(FloatProgress(value=0.0, max=222.0), HTML(value='')))"
      ]
     },
     "metadata": {},
     "output_type": "display_data"
    },
    {
     "name": "stdout",
     "output_type": "stream",
     "text": [
      "\n",
      "    Cell ID Frame GFP Intensity RFP Intensity Phase Intensity Area    x  y  \\\n",
      "0       993   445         32143          9193         1521262   89  401  3   \n",
      "1       993   446         47954         13048         2222372  126  403  4   \n",
      "2       993   447         72877         19402         3252763  187  398  4   \n",
      "3       993   448        103947         30124         5362445  289  399  5   \n",
      "4       993   449         78542         19187         3232716  184  400  4   \n",
      "..      ...   ...           ...           ...             ...  ...  ... ..   \n",
      "217     993   662        429535         86642        28574767  836  485  9   \n",
      "218     993   663        471624         97293        30981579  943  486  9   \n",
      "219     993   664        437780         96239        30406431  925  488  9   \n",
      "220     993   665        379281         83013        26406025  802  491  9   \n",
      "221     993   666        329900         80113        25605166  773  488  8   \n",
      "\n",
      "                         mask_fn  \n",
      "0    s_0446_fucci_merge_gray.tif  \n",
      "1    s_0447_fucci_merge_gray.tif  \n",
      "2    s_0448_fucci_merge_gray.tif  \n",
      "3    s_0449_fucci_merge_gray.tif  \n",
      "4    s_0450_fucci_merge_gray.tif  \n",
      "..                           ...  \n",
      "217  s_0663_fucci_merge_gray.tif  \n",
      "218  s_0664_fucci_merge_gray.tif  \n",
      "219  s_0665_fucci_merge_gray.tif  \n",
      "220  s_0666_fucci_merge_gray.tif  \n",
      "221  s_0667_fucci_merge_gray.tif  \n",
      "\n",
      "[222 rows x 9 columns]\n",
      "cell ID =  1014 progress bar below: (n/N frames):\n"
     ]
    },
    {
     "data": {
      "application/vnd.jupyter.widget-view+json": {
       "model_id": "cb5fb9dfc1e443c983957c81f33599d6",
       "version_major": 2,
       "version_minor": 0
      },
      "text/plain": [
       "HBox(children=(FloatProgress(value=0.0, max=499.0), HTML(value='')))"
      ]
     },
     "metadata": {},
     "output_type": "display_data"
    },
    {
     "name": "stdout",
     "output_type": "stream",
     "text": [
      "\n",
      "    Cell ID Frame GFP Intensity RFP Intensity Phase Intensity  Area     x  \\\n",
      "0      1014   467        113903        123811        12111463   788  1008   \n",
      "1      1014   468             0             0               0     0  1008   \n",
      "2      1014   469         99919        109454        10889386   689  1010   \n",
      "3      1014   470             0             0               0     0  1011   \n",
      "4      1014   471        117835        129021        13416093   817  1009   \n",
      "..      ...   ...           ...           ...             ...   ...   ...   \n",
      "494    1014   961       1096980        147682        27682727  1390   967   \n",
      "495    1014   962       1139047        148569        29870158  1388   963   \n",
      "496    1014   963       1141568        149117        29507930  1391   961   \n",
      "497    1014   964       1153530        150554        29941036  1404   962   \n",
      "498    1014   965        954240        125424        25565006  1169   960   \n",
      "\n",
      "       y                      mask_fn  \n",
      "0    542  s_0468_fucci_merge_gray.tif  \n",
      "1    542  s_0469_fucci_merge_gray.tif  \n",
      "2    544  s_0470_fucci_merge_gray.tif  \n",
      "3    545  s_0471_fucci_merge_gray.tif  \n",
      "4    544  s_0472_fucci_merge_gray.tif  \n",
      "..   ...                          ...  \n",
      "494  570  s_0962_fucci_merge_gray.tif  \n",
      "495  568  s_0963_fucci_merge_gray.tif  \n",
      "496  566  s_0964_fucci_merge_gray.tif  \n",
      "497  567  s_0965_fucci_merge_gray.tif  \n",
      "498  566  s_0966_fucci_merge_gray.tif  \n",
      "\n",
      "[499 rows x 9 columns]\n",
      "cell ID =  1018 progress bar below: (n/N frames):\n"
     ]
    },
    {
     "data": {
      "application/vnd.jupyter.widget-view+json": {
       "model_id": "ed80d03963404f9395e158a74456928c",
       "version_major": 2,
       "version_minor": 0
      },
      "text/plain": [
       "HBox(children=(FloatProgress(value=0.0, max=261.0), HTML(value='')))"
      ]
     },
     "metadata": {},
     "output_type": "display_data"
    },
    {
     "name": "stdout",
     "output_type": "stream",
     "text": [
      "\n",
      "    Cell ID Frame GFP Intensity RFP Intensity Phase Intensity  Area     x  \\\n",
      "0      1018   470         28740         12133         2195852   119  1019   \n",
      "1      1018   471         63375         17955         3320303   176  1019   \n",
      "2      1018   472         87982         22832         4335318   223  1018   \n",
      "3      1018   473         88572         20721         3872480   203  1019   \n",
      "4      1018   474         81236         18517         3936180   180  1019   \n",
      "..      ...   ...           ...           ...             ...   ...   ...   \n",
      "256    1018   726       1588343        318554        91427481  3027   985   \n",
      "257    1018   727       1502912        304744        87875090  2885   984   \n",
      "258    1018   728       1483319        297487        86922517  2813   985   \n",
      "259    1018   729       1359911        301179        87077690  2835   985   \n",
      "260    1018   730       1290577        294399        83432670  2761   986   \n",
      "\n",
      "       y                      mask_fn  \n",
      "0    323  s_0471_fucci_merge_gray.tif  \n",
      "1    317  s_0472_fucci_merge_gray.tif  \n",
      "2    312  s_0473_fucci_merge_gray.tif  \n",
      "3    304  s_0474_fucci_merge_gray.tif  \n",
      "4    298  s_0475_fucci_merge_gray.tif  \n",
      "..   ...                          ...  \n",
      "256  284  s_0727_fucci_merge_gray.tif  \n",
      "257  284  s_0728_fucci_merge_gray.tif  \n",
      "258  283  s_0729_fucci_merge_gray.tif  \n",
      "259  283  s_0730_fucci_merge_gray.tif  \n",
      "260  284  s_0731_fucci_merge_gray.tif  \n",
      "\n",
      "[261 rows x 9 columns]\n",
      "cell ID =  1025 progress bar below: (n/N frames):\n"
     ]
    },
    {
     "data": {
      "application/vnd.jupyter.widget-view+json": {
       "model_id": "5d61f0e3913545f7987b4eb98bfa208d",
       "version_major": 2,
       "version_minor": 0
      },
      "text/plain": [
       "HBox(children=(FloatProgress(value=0.0, max=463.0), HTML(value='')))"
      ]
     },
     "metadata": {},
     "output_type": "display_data"
    },
    {
     "name": "stdout",
     "output_type": "stream",
     "text": [
      "\n",
      "    Cell ID Frame GFP Intensity RFP Intensity Phase Intensity  Area    x    y  \\\n",
      "0      1025   477        140015        156812        13582569   903  964  631   \n",
      "1      1025   478        183442        201463        17672593  1168  965  633   \n",
      "2      1025   479        130308        149445        13093968   832  967  631   \n",
      "3      1025   480        179589        203566        17525674  1161  965  633   \n",
      "4      1025   481        202074        220903        19940222  1290  968  634   \n",
      "..      ...   ...           ...           ...             ...   ...  ...  ...   \n",
      "458    1025   935       1163108        200211        29648117  1868  923  631   \n",
      "459    1025   936       1164384        207119        27292111  1937  924  631   \n",
      "460    1025   937       1203769        213313        28114445  1994  924  631   \n",
      "461    1025   938       1193304        223112        30446650  2084  926  633   \n",
      "462    1025   939       1107568        213404        30151042  2005  927  635   \n",
      "\n",
      "                         mask_fn  \n",
      "0    s_0478_fucci_merge_gray.tif  \n",
      "1    s_0479_fucci_merge_gray.tif  \n",
      "2    s_0480_fucci_merge_gray.tif  \n",
      "3    s_0481_fucci_merge_gray.tif  \n",
      "4    s_0482_fucci_merge_gray.tif  \n",
      "..                           ...  \n",
      "458  s_0936_fucci_merge_gray.tif  \n",
      "459  s_0937_fucci_merge_gray.tif  \n",
      "460  s_0938_fucci_merge_gray.tif  \n",
      "461  s_0939_fucci_merge_gray.tif  \n",
      "462  s_0940_fucci_merge_gray.tif  \n",
      "\n",
      "[463 rows x 9 columns]\n",
      "cell ID =  1040 progress bar below: (n/N frames):\n"
     ]
    },
    {
     "data": {
      "application/vnd.jupyter.widget-view+json": {
       "model_id": "403375f693524e998b72ee417773859f",
       "version_major": 2,
       "version_minor": 0
      },
      "text/plain": [
       "HBox(children=(FloatProgress(value=0.0, max=351.0), HTML(value='')))"
      ]
     },
     "metadata": {},
     "output_type": "display_data"
    },
    {
     "name": "stdout",
     "output_type": "stream",
     "text": [
      "\n",
      "    Cell ID Frame GFP Intensity RFP Intensity Phase Intensity  Area   x    y  \\\n",
      "0      1040   487        139243        155242        11566098   838  40  666   \n",
      "1      1040   488             0             0               0     0  40  666   \n",
      "2      1040   489             0             0               0     0  40  666   \n",
      "3      1040   490         62322         77259         5021419   363  40  668   \n",
      "4      1040   491         84539        102076         7080817   498  38  665   \n",
      "..      ...   ...           ...           ...             ...   ...  ..  ...   \n",
      "346    1040   833       1708567        325066        81798075  2825  28  667   \n",
      "347    1040   834       1684966        323733        85059952  2828  27  666   \n",
      "348    1040   835       1682877        317437        82106573  2755  27  665   \n",
      "349    1040   836       1471384        284439        76032258  2486  27  664   \n",
      "350    1040   837       1217897        255465        66440494  2187  28  664   \n",
      "\n",
      "                         mask_fn  \n",
      "0    s_0488_fucci_merge_gray.tif  \n",
      "1    s_0489_fucci_merge_gray.tif  \n",
      "2    s_0490_fucci_merge_gray.tif  \n",
      "3    s_0491_fucci_merge_gray.tif  \n",
      "4    s_0492_fucci_merge_gray.tif  \n",
      "..                           ...  \n",
      "346  s_0834_fucci_merge_gray.tif  \n",
      "347  s_0835_fucci_merge_gray.tif  \n",
      "348  s_0836_fucci_merge_gray.tif  \n",
      "349  s_0837_fucci_merge_gray.tif  \n",
      "350  s_0838_fucci_merge_gray.tif  \n",
      "\n",
      "[351 rows x 9 columns]\n",
      "cell ID =  1082 progress bar below: (n/N frames):\n"
     ]
    },
    {
     "data": {
      "application/vnd.jupyter.widget-view+json": {
       "model_id": "00f58d1679c1455582f637021070b4dd",
       "version_major": 2,
       "version_minor": 0
      },
      "text/plain": [
       "HBox(children=(FloatProgress(value=0.0, max=392.0), HTML(value='')))"
      ]
     },
     "metadata": {},
     "output_type": "display_data"
    },
    {
     "name": "stdout",
     "output_type": "stream",
     "text": [
      "\n",
      "    Cell ID Frame GFP Intensity RFP Intensity Phase Intensity  Area    x    y  \\\n",
      "0      1082   515        103258        120869        10134703   610  388   50   \n",
      "1      1082   516        137424        163353        13924603   835  386   50   \n",
      "2      1082   517             0             0               0     0  384   49   \n",
      "3      1082   518             0             0               0     0  382   49   \n",
      "4      1082   519        128120        152439        13087417   771  391   51   \n",
      "..      ...   ...           ...           ...             ...   ...  ...  ...   \n",
      "387    1082   902       1529663        241238        64383827  2118  354  108   \n",
      "388    1082   903       1746302        285061        72514421  2468  353  107   \n",
      "389    1082   904       1626037        265793        68356718  2296  354  105   \n",
      "390    1082   905       1872738        325064        82024385  2778  355  107   \n",
      "391    1082   906       1798039        316892        78143678  2663  357  106   \n",
      "\n",
      "                         mask_fn  \n",
      "0    s_0516_fucci_merge_gray.tif  \n",
      "1    s_0517_fucci_merge_gray.tif  \n",
      "2    s_0518_fucci_merge_gray.tif  \n",
      "3    s_0519_fucci_merge_gray.tif  \n",
      "4    s_0520_fucci_merge_gray.tif  \n",
      "..                           ...  \n",
      "387  s_0903_fucci_merge_gray.tif  \n",
      "388  s_0904_fucci_merge_gray.tif  \n",
      "389  s_0905_fucci_merge_gray.tif  \n",
      "390  s_0906_fucci_merge_gray.tif  \n",
      "391  s_0907_fucci_merge_gray.tif  \n",
      "\n",
      "[392 rows x 9 columns]\n",
      "cell ID =  1085 progress bar below: (n/N frames):\n"
     ]
    },
    {
     "data": {
      "application/vnd.jupyter.widget-view+json": {
       "model_id": "d12034d18d3b4feb812064101a4aa0b0",
       "version_major": 2,
       "version_minor": 0
      },
      "text/plain": [
       "HBox(children=(FloatProgress(value=0.0, max=456.0), HTML(value='')))"
      ]
     },
     "metadata": {},
     "output_type": "display_data"
    },
    {
     "name": "stdout",
     "output_type": "stream",
     "text": [
      "\n",
      "    Cell ID Frame GFP Intensity RFP Intensity Phase Intensity  Area    x    y  \\\n",
      "0      1085   517        195748        213792        18197228  1171  473  106   \n",
      "1      1085   518        144536        166092        13261495   851  473  107   \n",
      "2      1085   519        219124        239907        19807861  1295  474  105   \n",
      "3      1085   520        221229        244259        19624902  1287  472  106   \n",
      "4      1085   521             0             0               0     0  470  106   \n",
      "..      ...   ...           ...           ...             ...   ...  ...  ...   \n",
      "451    1085   968       2304435        379989        78049459  3407  422  135   \n",
      "452    1085   969       2249413        364068        79049123  3280  420  136   \n",
      "453    1085   970       2237313        363690        80378877  3253  422  136   \n",
      "454    1085   971       1936821        318368        71971218  2845  422  135   \n",
      "455    1085   972       1045502        168881        40734080  1510  419  132   \n",
      "\n",
      "                         mask_fn  \n",
      "0    s_0518_fucci_merge_gray.tif  \n",
      "1    s_0519_fucci_merge_gray.tif  \n",
      "2    s_0520_fucci_merge_gray.tif  \n",
      "3    s_0521_fucci_merge_gray.tif  \n",
      "4    s_0522_fucci_merge_gray.tif  \n",
      "..                           ...  \n",
      "451  s_0969_fucci_merge_gray.tif  \n",
      "452  s_0970_fucci_merge_gray.tif  \n",
      "453  s_0971_fucci_merge_gray.tif  \n",
      "454  s_0972_fucci_merge_gray.tif  \n",
      "455  s_0973_fucci_merge_gray.tif  \n",
      "\n",
      "[456 rows x 9 columns]\n",
      "cell ID =  1088 progress bar below: (n/N frames):\n"
     ]
    },
    {
     "data": {
      "application/vnd.jupyter.widget-view+json": {
       "model_id": "dcc487c03faa4983ab12f1802ded3bf7",
       "version_major": 2,
       "version_minor": 0
      },
      "text/plain": [
       "HBox(children=(FloatProgress(value=0.0, max=573.0), HTML(value='')))"
      ]
     },
     "metadata": {},
     "output_type": "display_data"
    },
    {
     "name": "stdout",
     "output_type": "stream",
     "text": [
      "\n",
      "    Cell ID Frame GFP Intensity RFP Intensity Phase Intensity  Area    x    y  \\\n",
      "0      1088   519        189483        197587        16709743  1126  655  184   \n",
      "1      1088   520        252234        249897        21766781  1479  654  187   \n",
      "2      1088   521        218194        221025        18992488  1285  652  189   \n",
      "3      1088   522        207465        218344        18337248  1253  651  190   \n",
      "4      1088   523        199018        204788        17102898  1167  655  191   \n",
      "..      ...   ...           ...           ...             ...   ...  ...  ...   \n",
      "568    1088  1087       1317069        211526        23715744  1947  675  188   \n",
      "569    1088  1088       1274551        204571        23917393  1899  675  188   \n",
      "570    1088  1089       1288331        198450        21165378  1853  676  188   \n",
      "571    1088  1090       1309972        209190        25011419  1936  676  189   \n",
      "572    1088  1091       1309359        208036        24678090  1932  677  188   \n",
      "\n",
      "                         mask_fn  \n",
      "0    s_0520_fucci_merge_gray.tif  \n",
      "1    s_0521_fucci_merge_gray.tif  \n",
      "2    s_0522_fucci_merge_gray.tif  \n",
      "3    s_0523_fucci_merge_gray.tif  \n",
      "4    s_0524_fucci_merge_gray.tif  \n",
      "..                           ...  \n",
      "568  s_1088_fucci_merge_gray.tif  \n",
      "569  s_1089_fucci_merge_gray.tif  \n",
      "570  s_1090_fucci_merge_gray.tif  \n",
      "571  s_1091_fucci_merge_gray.tif  \n",
      "572  s_1092_fucci_merge_gray.tif  \n",
      "\n",
      "[573 rows x 9 columns]\n",
      "cell ID =  1089 progress bar below: (n/N frames):\n"
     ]
    },
    {
     "data": {
      "application/vnd.jupyter.widget-view+json": {
       "model_id": "12c6ff95d9d44971840d9aeb844cebca",
       "version_major": 2,
       "version_minor": 0
      },
      "text/plain": [
       "HBox(children=(FloatProgress(value=0.0, max=572.0), HTML(value='')))"
      ]
     },
     "metadata": {},
     "output_type": "display_data"
    },
    {
     "name": "stdout",
     "output_type": "stream",
     "text": [
      "\n",
      "    Cell ID Frame GFP Intensity RFP Intensity Phase Intensity  Area    x    y  \\\n",
      "0      1089   520        249488        260493        22168780  1506  609  161   \n",
      "1      1089   521        182110        195345        16236316  1087  610  163   \n",
      "2      1089   522         95022        104868         8712320   566  607  162   \n",
      "3      1089   523        216179        233227        18499440  1294  609  165   \n",
      "4      1089   524             0             0               0     0  610  167   \n",
      "..      ...   ...           ...           ...             ...   ...  ...  ...   \n",
      "567    1089  1087       1809789        269527        33198719  2247  579  266   \n",
      "568    1089  1088       1792984        259610        32272279  2203  577  267   \n",
      "569    1089  1089       1830244        260257        30932504  2225  579  266   \n",
      "570    1089  1090       1811678        257130        32745463  2204  578  267   \n",
      "571    1089  1091       1831575        257791        32547130  2232  579  267   \n",
      "\n",
      "                         mask_fn  \n",
      "0    s_0521_fucci_merge_gray.tif  \n",
      "1    s_0522_fucci_merge_gray.tif  \n",
      "2    s_0523_fucci_merge_gray.tif  \n",
      "3    s_0524_fucci_merge_gray.tif  \n",
      "4    s_0525_fucci_merge_gray.tif  \n",
      "..                           ...  \n",
      "567  s_1088_fucci_merge_gray.tif  \n",
      "568  s_1089_fucci_merge_gray.tif  \n",
      "569  s_1090_fucci_merge_gray.tif  \n",
      "570  s_1091_fucci_merge_gray.tif  \n",
      "571  s_1092_fucci_merge_gray.tif  \n",
      "\n",
      "[572 rows x 9 columns]\n",
      "cell ID =  1094 progress bar below: (n/N frames):\n"
     ]
    },
    {
     "data": {
      "application/vnd.jupyter.widget-view+json": {
       "model_id": "1c7c594108b24e41b7007b4ed2fddf0b",
       "version_major": 2,
       "version_minor": 0
      },
      "text/plain": [
       "HBox(children=(FloatProgress(value=0.0, max=290.0), HTML(value='')))"
      ]
     },
     "metadata": {},
     "output_type": "display_data"
    },
    {
     "name": "stdout",
     "output_type": "stream",
     "text": [
      "\n",
      "    Cell ID Frame GFP Intensity RFP Intensity Phase Intensity Area   x    y  \\\n",
      "0      1094   522         22637         24883         2424647  101  28  765   \n",
      "1      1094   523         13577         15624         1344930   61  30  764   \n",
      "2      1094   524             0             0               0    0  31  763   \n",
      "3      1094   525             0             0               0    0  33  762   \n",
      "4      1094   526          6309          7766          681204   29  29  762   \n",
      "..      ...   ...           ...           ...             ...  ...  ..  ...   \n",
      "285    1094   807             0             0               0    0  14  760   \n",
      "286    1094   808             0             0               0    0  15  761   \n",
      "287    1094   809        109157        119501        11717944  536  10  764   \n",
      "288    1094   810        103614        109127        10614395  497  11  761   \n",
      "289    1094   811         53180         55186         5061766  252  11  761   \n",
      "\n",
      "                         mask_fn  \n",
      "0    s_0523_fucci_merge_gray.tif  \n",
      "1    s_0524_fucci_merge_gray.tif  \n",
      "2    s_0525_fucci_merge_gray.tif  \n",
      "3    s_0526_fucci_merge_gray.tif  \n",
      "4    s_0527_fucci_merge_gray.tif  \n",
      "..                           ...  \n",
      "285  s_0808_fucci_merge_gray.tif  \n",
      "286  s_0809_fucci_merge_gray.tif  \n",
      "287  s_0810_fucci_merge_gray.tif  \n",
      "288  s_0811_fucci_merge_gray.tif  \n",
      "289  s_0812_fucci_merge_gray.tif  \n",
      "\n",
      "[290 rows x 9 columns]\n",
      "cell ID =  1095 progress bar below: (n/N frames):\n"
     ]
    },
    {
     "data": {
      "application/vnd.jupyter.widget-view+json": {
       "model_id": "49afa903b0d7470c885199b544e3d880",
       "version_major": 2,
       "version_minor": 0
      },
      "text/plain": [
       "HBox(children=(FloatProgress(value=0.0, max=207.0), HTML(value='')))"
      ]
     },
     "metadata": {},
     "output_type": "display_data"
    },
    {
     "name": "stdout",
     "output_type": "stream",
     "text": [
      "\n",
      "    Cell ID Frame GFP Intensity RFP Intensity Phase Intensity  Area    x    y  \\\n",
      "0      1095   523        788544        301117        48442559  2925  761  910   \n",
      "1      1095   524             0             0               0     0  761  910   \n",
      "2      1095   525        707412        263033        43215241  2573  761  909   \n",
      "3      1095   526        800928        301782        47014889  2935  760  908   \n",
      "4      1095   527        702388        255195        40170616  2487  760  908   \n",
      "..      ...   ...           ...           ...             ...   ...  ...  ...   \n",
      "202    1095   725        808302        197503        52574632  1915  768  954   \n",
      "203    1095   726        933631        223398        60416658  2168  770  952   \n",
      "204    1095   727       1045813        259286        69251876  2505  769  948   \n",
      "205    1095   728        923282        221989        63637480  2154  769  951   \n",
      "206    1095   729        989606        247743        70528259  2403  771  949   \n",
      "\n",
      "                         mask_fn  \n",
      "0    s_0524_fucci_merge_gray.tif  \n",
      "1    s_0525_fucci_merge_gray.tif  \n",
      "2    s_0526_fucci_merge_gray.tif  \n",
      "3    s_0527_fucci_merge_gray.tif  \n",
      "4    s_0528_fucci_merge_gray.tif  \n",
      "..                           ...  \n",
      "202  s_0726_fucci_merge_gray.tif  \n",
      "203  s_0727_fucci_merge_gray.tif  \n",
      "204  s_0728_fucci_merge_gray.tif  \n",
      "205  s_0729_fucci_merge_gray.tif  \n",
      "206  s_0730_fucci_merge_gray.tif  \n",
      "\n",
      "[207 rows x 9 columns]\n",
      "cell ID =  1098 progress bar below: (n/N frames):\n"
     ]
    },
    {
     "data": {
      "application/vnd.jupyter.widget-view+json": {
       "model_id": "d92df5a7597d4e5ab484c3b9a92d4eb9",
       "version_major": 2,
       "version_minor": 0
      },
      "text/plain": [
       "HBox(children=(FloatProgress(value=0.0, max=482.0), HTML(value='')))"
      ]
     },
     "metadata": {},
     "output_type": "display_data"
    },
    {
     "name": "stdout",
     "output_type": "stream",
     "text": [
      "\n",
      "    Cell ID Frame GFP Intensity RFP Intensity Phase Intensity Area    x  y  \\\n",
      "0      1098   525         73943         19409         3223503  185  227  3   \n",
      "1      1098   526         80913         20536         3328886  194  221  3   \n",
      "2      1098   527         98065         25069         3931074  238  217  3   \n",
      "3      1098   528        172566         49268         7463439  470  221  5   \n",
      "4      1098   529        250040         72944        13031065  689  212  7   \n",
      "..      ...   ...           ...           ...             ...  ...  ... ..   \n",
      "477    1098  1002             0             0               0    0  257  9   \n",
      "478    1098  1003        480277        103180        29828863  806  257  9   \n",
      "479    1098  1004        491424        112989        31658711  867  258  9   \n",
      "480    1098  1005        439023         96647        28225547  775  259  8   \n",
      "481    1098  1006        323922         68541        20993504  550  258  7   \n",
      "\n",
      "                         mask_fn  \n",
      "0    s_0526_fucci_merge_gray.tif  \n",
      "1    s_0527_fucci_merge_gray.tif  \n",
      "2    s_0528_fucci_merge_gray.tif  \n",
      "3    s_0529_fucci_merge_gray.tif  \n",
      "4    s_0530_fucci_merge_gray.tif  \n",
      "..                           ...  \n",
      "477  s_1003_fucci_merge_gray.tif  \n",
      "478  s_1004_fucci_merge_gray.tif  \n",
      "479  s_1005_fucci_merge_gray.tif  \n",
      "480  s_1006_fucci_merge_gray.tif  \n",
      "481  s_1007_fucci_merge_gray.tif  \n",
      "\n",
      "[482 rows x 9 columns]\n",
      "cell ID =  1100 progress bar below: (n/N frames):\n"
     ]
    },
    {
     "data": {
      "application/vnd.jupyter.widget-view+json": {
       "model_id": "6f9ede6dbe5f45bda475039de0aca162",
       "version_major": 2,
       "version_minor": 0
      },
      "text/plain": [
       "HBox(children=(FloatProgress(value=0.0, max=236.0), HTML(value='')))"
      ]
     },
     "metadata": {},
     "output_type": "display_data"
    },
    {
     "name": "stdout",
     "output_type": "stream",
     "text": [
      "\n",
      "    Cell ID Frame GFP Intensity RFP Intensity Phase Intensity  Area    x    y  \\\n",
      "0      1100   528       1982135       1973060        73749676  3210  843  215   \n",
      "1      1100   529       1942015       1946137        68152207  3065  838  217   \n",
      "2      1100   530             0             0               0     0  833  218   \n",
      "3      1100   531       1771254       1866614        59316716  2684  835  212   \n",
      "4      1100   532       1728583       1769608        56218366  2607  835  212   \n",
      "..      ...   ...           ...           ...             ...   ...  ...  ...   \n",
      "231    1100   759       1775805        312748        61785024  2773  850  215   \n",
      "232    1100   760       1881235        303314        59081381  2688  851  215   \n",
      "233    1100   761       1892488        300951        61003040  2664  848  217   \n",
      "234    1100   762        973961        149219        29829734  1332  847  216   \n",
      "235    1100   763       1927706        301292        61645750  2704  849  217   \n",
      "\n",
      "                         mask_fn  \n",
      "0    s_0529_fucci_merge_gray.tif  \n",
      "1    s_0530_fucci_merge_gray.tif  \n",
      "2    s_0531_fucci_merge_gray.tif  \n",
      "3    s_0532_fucci_merge_gray.tif  \n",
      "4    s_0533_fucci_merge_gray.tif  \n",
      "..                           ...  \n",
      "231  s_0760_fucci_merge_gray.tif  \n",
      "232  s_0761_fucci_merge_gray.tif  \n",
      "233  s_0762_fucci_merge_gray.tif  \n",
      "234  s_0763_fucci_merge_gray.tif  \n",
      "235  s_0764_fucci_merge_gray.tif  \n",
      "\n",
      "[236 rows x 9 columns]\n",
      "cell ID =  1132 progress bar below: (n/N frames):\n"
     ]
    },
    {
     "data": {
      "application/vnd.jupyter.widget-view+json": {
       "model_id": "f63c68e27d66434f9f46be0cd75fac48",
       "version_major": 2,
       "version_minor": 0
      },
      "text/plain": [
       "HBox(children=(FloatProgress(value=0.0, max=550.0), HTML(value='')))"
      ]
     },
     "metadata": {},
     "output_type": "display_data"
    },
    {
     "name": "stdout",
     "output_type": "stream",
     "text": [
      "\n",
      "    Cell ID Frame GFP Intensity RFP Intensity Phase Intensity Area   x    y  \\\n",
      "0      1132   542         27564         28086         1831744  160   4  638   \n",
      "1      1132   543         45757         47155         2910804  252   5  639   \n",
      "2      1132   544         72852         73555         5070739  400   7  641   \n",
      "3      1132   545         96156        101402         6331320  509   8  642   \n",
      "4      1132   546        104955        112261         6338349  502   8  642   \n",
      "..      ...   ...           ...           ...             ...  ...  ..  ...   \n",
      "545    1132  1087        933541        110451        19026199  872  13  726   \n",
      "546    1132  1088        879514        107910        18818281  871  13  726   \n",
      "547    1132  1089        965989        120315        19630946  980  13  726   \n",
      "548    1132  1090        966643        110421        20150821  917  13  726   \n",
      "549    1132  1091        976358        113271        20094987  932  13  726   \n",
      "\n",
      "                         mask_fn  \n",
      "0    s_0543_fucci_merge_gray.tif  \n",
      "1    s_0544_fucci_merge_gray.tif  \n",
      "2    s_0545_fucci_merge_gray.tif  \n",
      "3    s_0546_fucci_merge_gray.tif  \n",
      "4    s_0547_fucci_merge_gray.tif  \n",
      "..                           ...  \n",
      "545  s_1088_fucci_merge_gray.tif  \n",
      "546  s_1089_fucci_merge_gray.tif  \n",
      "547  s_1090_fucci_merge_gray.tif  \n",
      "548  s_1091_fucci_merge_gray.tif  \n",
      "549  s_1092_fucci_merge_gray.tif  \n",
      "\n",
      "[550 rows x 9 columns]\n",
      "cell ID =  1233 progress bar below: (n/N frames):\n"
     ]
    },
    {
     "data": {
      "application/vnd.jupyter.widget-view+json": {
       "model_id": "f679f176ede34e709a847a5990043e08",
       "version_major": 2,
       "version_minor": 0
      },
      "text/plain": [
       "HBox(children=(FloatProgress(value=0.0, max=486.0), HTML(value='')))"
      ]
     },
     "metadata": {},
     "output_type": "display_data"
    },
    {
     "name": "stdout",
     "output_type": "stream",
     "text": [
      "\n",
      "    Cell ID Frame GFP Intensity RFP Intensity Phase Intensity  Area   x    y  \\\n",
      "0      1233   606         72368         93034         7534726   463  61  818   \n",
      "1      1233   607         96406        116746         9745498   603  63  822   \n",
      "2      1233   608        154043        189748        17809552   956  64  824   \n",
      "3      1233   609         81551        104337         8280150   511  63  821   \n",
      "4      1233   610        176468        210222        18925629  1088  61  825   \n",
      "..      ...   ...           ...           ...             ...   ...  ..  ...   \n",
      "481    1233  1087       1388035        209590        43214936  1896  18  829   \n",
      "482    1233  1088       1286691        197542        42934231  1799  17  831   \n",
      "483    1233  1089       1346339        211389        41664881  1939  19  831   \n",
      "484    1233  1090       1353188        209171        43970194  1906  17  832   \n",
      "485    1233  1091       1378150        217008        45213002  1981  19  832   \n",
      "\n",
      "                         mask_fn  \n",
      "0    s_0607_fucci_merge_gray.tif  \n",
      "1    s_0608_fucci_merge_gray.tif  \n",
      "2    s_0609_fucci_merge_gray.tif  \n",
      "3    s_0610_fucci_merge_gray.tif  \n",
      "4    s_0611_fucci_merge_gray.tif  \n",
      "..                           ...  \n",
      "481  s_1088_fucci_merge_gray.tif  \n",
      "482  s_1089_fucci_merge_gray.tif  \n",
      "483  s_1090_fucci_merge_gray.tif  \n",
      "484  s_1091_fucci_merge_gray.tif  \n",
      "485  s_1092_fucci_merge_gray.tif  \n",
      "\n",
      "[486 rows x 9 columns]\n",
      "cell ID =  1238 progress bar below: (n/N frames):\n"
     ]
    },
    {
     "data": {
      "application/vnd.jupyter.widget-view+json": {
       "model_id": "0e51d00541574ef2ae2f0a8eb2791899",
       "version_major": 2,
       "version_minor": 0
      },
      "text/plain": [
       "HBox(children=(FloatProgress(value=0.0, max=430.0), HTML(value='')))"
      ]
     },
     "metadata": {},
     "output_type": "display_data"
    },
    {
     "name": "stdout",
     "output_type": "stream",
     "text": [
      "\n",
      "    Cell ID Frame GFP Intensity RFP Intensity Phase Intensity  Area    x    y  \\\n",
      "0      1238   610        174641        163184        13593021   986  629  594   \n",
      "1      1238   611             0             0               0     0  629  594   \n",
      "2      1238   612             0             0               0     0  629  594   \n",
      "3      1238   613        177474        187476        15132752  1069  629  591   \n",
      "4      1238   614             0             0               0     0  628  588   \n",
      "..      ...   ...           ...           ...             ...   ...  ...  ...   \n",
      "425    1238  1035       2468978        393491        90360134  3478  606  589   \n",
      "426    1238  1036       2392896        392123        89141241  3446  606  588   \n",
      "427    1238  1037       2154739        354408        81266970  3118  607  589   \n",
      "428    1238  1038       2084501        358750        82263718  3151  608  591   \n",
      "429    1238  1039       1621578        274714        66905391  2420  607  588   \n",
      "\n",
      "                         mask_fn  \n",
      "0    s_0611_fucci_merge_gray.tif  \n",
      "1    s_0612_fucci_merge_gray.tif  \n",
      "2    s_0613_fucci_merge_gray.tif  \n",
      "3    s_0614_fucci_merge_gray.tif  \n",
      "4    s_0615_fucci_merge_gray.tif  \n",
      "..                           ...  \n",
      "425  s_1036_fucci_merge_gray.tif  \n",
      "426  s_1037_fucci_merge_gray.tif  \n",
      "427  s_1038_fucci_merge_gray.tif  \n",
      "428  s_1039_fucci_merge_gray.tif  \n",
      "429  s_1040_fucci_merge_gray.tif  \n",
      "\n",
      "[430 rows x 9 columns]\n",
      "cell ID =  1258 progress bar below: (n/N frames):\n"
     ]
    },
    {
     "data": {
      "application/vnd.jupyter.widget-view+json": {
       "model_id": "26995abc0f9c44988fbea6e0dcb1a539",
       "version_major": 2,
       "version_minor": 0
      },
      "text/plain": [
       "HBox(children=(FloatProgress(value=0.0, max=472.0), HTML(value='')))"
      ]
     },
     "metadata": {},
     "output_type": "display_data"
    },
    {
     "name": "stdout",
     "output_type": "stream",
     "text": [
      "\n",
      "    Cell ID Frame GFP Intensity RFP Intensity Phase Intensity  Area    x    y  \\\n",
      "0      1258   620        164036        176872        14319500   929  629  377   \n",
      "1      1258   621        155754        172762        13584483   889  631  376   \n",
      "2      1258   622             0             0               0     0  632  375   \n",
      "3      1258   623             0             0               0     0  634  374   \n",
      "4      1258   624             0             0               0     0  636  373   \n",
      "..      ...   ...           ...           ...             ...   ...  ...  ...   \n",
      "467    1258  1087        669904       1557946        23869191  1635  548  433   \n",
      "468    1258  1088        690160       1651194        24104007  1647  548  433   \n",
      "469    1258  1089        704930       1670634        24976890  1675  547  433   \n",
      "470    1258  1090        699149       1613929        21367482  1666  545  433   \n",
      "471    1258  1091        717335       1714770        22326476  1682  545  433   \n",
      "\n",
      "                         mask_fn  \n",
      "0    s_0621_fucci_merge_gray.tif  \n",
      "1    s_0622_fucci_merge_gray.tif  \n",
      "2    s_0623_fucci_merge_gray.tif  \n",
      "3    s_0624_fucci_merge_gray.tif  \n",
      "4    s_0625_fucci_merge_gray.tif  \n",
      "..                           ...  \n",
      "467  s_1088_fucci_merge_gray.tif  \n",
      "468  s_1089_fucci_merge_gray.tif  \n",
      "469  s_1090_fucci_merge_gray.tif  \n",
      "470  s_1091_fucci_merge_gray.tif  \n",
      "471  s_1092_fucci_merge_gray.tif  \n",
      "\n",
      "[472 rows x 9 columns]\n",
      "cell ID =  1263 progress bar below: (n/N frames):\n"
     ]
    },
    {
     "data": {
      "application/vnd.jupyter.widget-view+json": {
       "model_id": "ca22e6b6b8d44c97b913f8dc9e68b746",
       "version_major": 2,
       "version_minor": 0
      },
      "text/plain": [
       "HBox(children=(FloatProgress(value=0.0, max=471.0), HTML(value='')))"
      ]
     },
     "metadata": {},
     "output_type": "display_data"
    },
    {
     "name": "stdout",
     "output_type": "stream",
     "text": [
      "\n",
      "    Cell ID Frame GFP Intensity RFP Intensity Phase Intensity  Area    x    y  \\\n",
      "0      1263   621         89701         91719        11606891   508  346  418   \n",
      "1      1263   622        135644        135016        17021855   767  344  421   \n",
      "2      1263   623             0             0               0     0  342  423   \n",
      "3      1263   624             0             0               0     0  340  426   \n",
      "4      1263   625             0             0               0     0  338  429   \n",
      "..      ...   ...           ...           ...             ...   ...  ...  ...   \n",
      "466    1263  1087        692460       1229200        30079031  1273  356  440   \n",
      "467    1263  1088        666089       1192944        29034490  1237  356  440   \n",
      "468    1263  1089        677637       1286117        28776042  1253  357  440   \n",
      "469    1263  1090        693332       1277446        30114257  1257  356  440   \n",
      "470    1263  1091        712675       1320271        31956190  1288  357  440   \n",
      "\n",
      "                         mask_fn  \n",
      "0    s_0622_fucci_merge_gray.tif  \n",
      "1    s_0623_fucci_merge_gray.tif  \n",
      "2    s_0624_fucci_merge_gray.tif  \n",
      "3    s_0625_fucci_merge_gray.tif  \n",
      "4    s_0626_fucci_merge_gray.tif  \n",
      "..                           ...  \n",
      "466  s_1088_fucci_merge_gray.tif  \n",
      "467  s_1089_fucci_merge_gray.tif  \n",
      "468  s_1090_fucci_merge_gray.tif  \n",
      "469  s_1091_fucci_merge_gray.tif  \n",
      "470  s_1092_fucci_merge_gray.tif  \n",
      "\n",
      "[471 rows x 9 columns]\n",
      "cell ID =  1268 progress bar below: (n/N frames):\n"
     ]
    },
    {
     "data": {
      "application/vnd.jupyter.widget-view+json": {
       "model_id": "713dca14e7c04018a3daeb8039ccb723",
       "version_major": 2,
       "version_minor": 0
      },
      "text/plain": [
       "HBox(children=(FloatProgress(value=0.0, max=466.0), HTML(value='')))"
      ]
     },
     "metadata": {},
     "output_type": "display_data"
    },
    {
     "name": "stdout",
     "output_type": "stream",
     "text": [
      "\n",
      "    Cell ID Frame GFP Intensity RFP Intensity Phase Intensity  Area    x    y  \\\n",
      "0      1268   626        145049        155287        11322772   852  694  352   \n",
      "1      1268   627        147059        160186        11472422   878  694  353   \n",
      "2      1268   628             0             0               0     0  694  353   \n",
      "3      1268   629             0             0               0     0  694  354   \n",
      "4      1268   630        100347        115602         8099113   589  693  352   \n",
      "..      ...   ...           ...           ...             ...   ...  ...  ...   \n",
      "461    1268  1087       1189119       1335366        20546315  1826  632  392   \n",
      "462    1268  1088       1187058       1276554        19384206  1808  631  392   \n",
      "463    1268  1089       1218096       1345395        22411800  1815  633  393   \n",
      "464    1268  1090       1210884       1352468        18239354  1781  631  391   \n",
      "465    1268  1091       1233681       1272762        19579122  1806  633  391   \n",
      "\n",
      "                         mask_fn  \n",
      "0    s_0627_fucci_merge_gray.tif  \n",
      "1    s_0628_fucci_merge_gray.tif  \n",
      "2    s_0629_fucci_merge_gray.tif  \n",
      "3    s_0630_fucci_merge_gray.tif  \n",
      "4    s_0631_fucci_merge_gray.tif  \n",
      "..                           ...  \n",
      "461  s_1088_fucci_merge_gray.tif  \n",
      "462  s_1089_fucci_merge_gray.tif  \n",
      "463  s_1090_fucci_merge_gray.tif  \n",
      "464  s_1091_fucci_merge_gray.tif  \n",
      "465  s_1092_fucci_merge_gray.tif  \n",
      "\n",
      "[466 rows x 9 columns]\n",
      "cell ID =  1284 progress bar below: (n/N frames):\n"
     ]
    },
    {
     "data": {
      "application/vnd.jupyter.widget-view+json": {
       "model_id": "e709c9e4697c4f60aa65f901242db757",
       "version_major": 2,
       "version_minor": 0
      },
      "text/plain": [
       "HBox(children=(FloatProgress(value=0.0, max=460.0), HTML(value='')))"
      ]
     },
     "metadata": {},
     "output_type": "display_data"
    },
    {
     "name": "stdout",
     "output_type": "stream",
     "text": [
      "\n",
      "    Cell ID Frame GFP Intensity RFP Intensity Phase Intensity  Area    x    y  \\\n",
      "0      1284   632        215744        201036        18414453  1098  443  214   \n",
      "1      1284   633        211023        209265        17653856  1153  445  214   \n",
      "2      1284   634        107254        116242         9701089   588  446  219   \n",
      "3      1284   635        198819        204657        16588454  1055  445  216   \n",
      "4      1284   636        238764        232870        19846508  1254  446  215   \n",
      "..      ...   ...           ...           ...             ...   ...  ...  ...   \n",
      "455    1284  1087       2607541        513143        58789048  1842  399  270   \n",
      "456    1284  1088       2630457        524712        55574998  1835  399  271   \n",
      "457    1284  1089       2524396        501846        46943151  1830  400  271   \n",
      "458    1284  1090       2465846        495662        46234649  1806  399  272   \n",
      "459    1284  1091       2421368        469282        44233043  1727  399  272   \n",
      "\n",
      "                         mask_fn  \n",
      "0    s_0633_fucci_merge_gray.tif  \n",
      "1    s_0634_fucci_merge_gray.tif  \n",
      "2    s_0635_fucci_merge_gray.tif  \n",
      "3    s_0636_fucci_merge_gray.tif  \n",
      "4    s_0637_fucci_merge_gray.tif  \n",
      "..                           ...  \n",
      "455  s_1088_fucci_merge_gray.tif  \n",
      "456  s_1089_fucci_merge_gray.tif  \n",
      "457  s_1090_fucci_merge_gray.tif  \n",
      "458  s_1091_fucci_merge_gray.tif  \n",
      "459  s_1092_fucci_merge_gray.tif  \n",
      "\n",
      "[460 rows x 9 columns]\n",
      "cell ID =  1280 progress bar below: (n/N frames):\n"
     ]
    },
    {
     "data": {
      "application/vnd.jupyter.widget-view+json": {
       "model_id": "dc69c6e3c2014a2d9cf8cca634090fa1",
       "version_major": 2,
       "version_minor": 0
      },
      "text/plain": [
       "HBox(children=(FloatProgress(value=0.0, max=460.0), HTML(value='')))"
      ]
     },
     "metadata": {},
     "output_type": "display_data"
    },
    {
     "name": "stdout",
     "output_type": "stream",
     "text": [
      "\n",
      "    Cell ID Frame GFP Intensity RFP Intensity Phase Intensity  Area    x    y  \\\n",
      "0      1280   632        212683        221907        17288024  1247  511  196   \n",
      "1      1280   633             0             0               0     0  511  196   \n",
      "2      1280   634             0             0               0     0  511  196   \n",
      "3      1280   635        105216        114864         7961060   589  514  199   \n",
      "4      1280   636        194339        215753        15420744  1142  514  197   \n",
      "..      ...   ...           ...           ...             ...   ...  ...  ...   \n",
      "455    1280  1087        889659       1863370        34632047  1913  477  274   \n",
      "456    1280  1088        892140       1922355        35703165  1898  476  274   \n",
      "457    1280  1089        882718       1956671        32034584  1875  476  275   \n",
      "458    1280  1090        898856       1974364        33995459  1885  475  275   \n",
      "459    1280  1091        905149       2032288        34113896  1876  474  275   \n",
      "\n",
      "                         mask_fn  \n",
      "0    s_0633_fucci_merge_gray.tif  \n",
      "1    s_0634_fucci_merge_gray.tif  \n",
      "2    s_0635_fucci_merge_gray.tif  \n",
      "3    s_0636_fucci_merge_gray.tif  \n",
      "4    s_0637_fucci_merge_gray.tif  \n",
      "..                           ...  \n",
      "455  s_1088_fucci_merge_gray.tif  \n",
      "456  s_1089_fucci_merge_gray.tif  \n",
      "457  s_1090_fucci_merge_gray.tif  \n",
      "458  s_1091_fucci_merge_gray.tif  \n",
      "459  s_1092_fucci_merge_gray.tif  \n",
      "\n",
      "[460 rows x 9 columns]\n",
      "cell ID =  1289 progress bar below: (n/N frames):\n"
     ]
    },
    {
     "data": {
      "application/vnd.jupyter.widget-view+json": {
       "model_id": "429319d1b88b4553b514f9414cea3c69",
       "version_major": 2,
       "version_minor": 0
      },
      "text/plain": [
       "HBox(children=(FloatProgress(value=0.0, max=458.0), HTML(value='')))"
      ]
     },
     "metadata": {},
     "output_type": "display_data"
    },
    {
     "name": "stdout",
     "output_type": "stream",
     "text": [
      "\n",
      "    Cell ID Frame GFP Intensity RFP Intensity Phase Intensity  Area    x    y  \\\n",
      "0      1289   634        168569        186772        13464564  1007  835  509   \n",
      "1      1289   635        151210        171709        12419938   910  835  508   \n",
      "2      1289   636        245127        253514        19101268  1473  834  511   \n",
      "3      1289   637        185992        200734        14162590  1110  834  511   \n",
      "4      1289   638        233402        246107        17948213  1395  832  511   \n",
      "..      ...   ...           ...           ...             ...   ...  ...  ...   \n",
      "453    1289  1087       1145998        186981        29081054  1615  811  496   \n",
      "454    1289  1088       1159647        179100        29030324  1566  811  496   \n",
      "455    1289  1089       1147752        178080        27275268  1549  813  495   \n",
      "456    1289  1090       1197060        182339        30335437  1610  811  496   \n",
      "457    1289  1091       1171078        178558        28890647  1559  812  496   \n",
      "\n",
      "                         mask_fn  \n",
      "0    s_0635_fucci_merge_gray.tif  \n",
      "1    s_0636_fucci_merge_gray.tif  \n",
      "2    s_0637_fucci_merge_gray.tif  \n",
      "3    s_0638_fucci_merge_gray.tif  \n",
      "4    s_0639_fucci_merge_gray.tif  \n",
      "..                           ...  \n",
      "453  s_1088_fucci_merge_gray.tif  \n",
      "454  s_1089_fucci_merge_gray.tif  \n",
      "455  s_1090_fucci_merge_gray.tif  \n",
      "456  s_1091_fucci_merge_gray.tif  \n",
      "457  s_1092_fucci_merge_gray.tif  \n",
      "\n",
      "[458 rows x 9 columns]\n",
      "cell ID =  1303 progress bar below: (n/N frames):\n"
     ]
    },
    {
     "data": {
      "application/vnd.jupyter.widget-view+json": {
       "model_id": "4e91ed205101427c81eb83a6061ad6c3",
       "version_major": 2,
       "version_minor": 0
      },
      "text/plain": [
       "HBox(children=(FloatProgress(value=0.0, max=450.0), HTML(value='')))"
      ]
     },
     "metadata": {},
     "output_type": "display_data"
    },
    {
     "name": "stdout",
     "output_type": "stream",
     "text": [
      "\n",
      "    Cell ID Frame GFP Intensity RFP Intensity Phase Intensity  Area    x   y  \\\n",
      "0      1303   642         75451         90061         6688841   468  183  60   \n",
      "1      1303   643        105634        124585         9054438   647  184  60   \n",
      "2      1303   644         92814        109886         8093267   568  182  62   \n",
      "3      1303   645             0             0               0     0  180  63   \n",
      "4      1303   646        190267        214028        16395742  1170  185  58   \n",
      "..      ...   ...           ...           ...             ...   ...  ...  ..   \n",
      "445    1303  1087       1324920        183866        19887302  1584  174  62   \n",
      "446    1303  1088       1320849        180726        19948326  1569  173  62   \n",
      "447    1303  1089       1365397        182510        18026671  1590  174  62   \n",
      "448    1303  1090       1372807        185071        20527442  1608  173  62   \n",
      "449    1303  1091       1369775        180904        19549224  1562  174  62   \n",
      "\n",
      "                         mask_fn  \n",
      "0    s_0643_fucci_merge_gray.tif  \n",
      "1    s_0644_fucci_merge_gray.tif  \n",
      "2    s_0645_fucci_merge_gray.tif  \n",
      "3    s_0646_fucci_merge_gray.tif  \n",
      "4    s_0647_fucci_merge_gray.tif  \n",
      "..                           ...  \n",
      "445  s_1088_fucci_merge_gray.tif  \n",
      "446  s_1089_fucci_merge_gray.tif  \n",
      "447  s_1090_fucci_merge_gray.tif  \n",
      "448  s_1091_fucci_merge_gray.tif  \n",
      "449  s_1092_fucci_merge_gray.tif  \n",
      "\n",
      "[450 rows x 9 columns]\n",
      "cell ID =  1306 progress bar below: (n/N frames):\n"
     ]
    },
    {
     "data": {
      "application/vnd.jupyter.widget-view+json": {
       "model_id": "990f07dfce564c659e8780af5a5a3772",
       "version_major": 2,
       "version_minor": 0
      },
      "text/plain": [
       "HBox(children=(FloatProgress(value=0.0, max=448.0), HTML(value='')))"
      ]
     },
     "metadata": {},
     "output_type": "display_data"
    },
    {
     "name": "stdout",
     "output_type": "stream",
     "text": [
      "\n",
      "    Cell ID Frame GFP Intensity RFP Intensity Phase Intensity  Area    x    y  \\\n",
      "0      1306   644        142098        171459        11959490   866  193  110   \n",
      "1      1306   645             0             0               0     0  193  110   \n",
      "2      1306   646        213910        245374        17683662  1318  194  109   \n",
      "3      1306   647        163254        192904        13939404   995  195  108   \n",
      "4      1306   648             0             0               0     0  195  107   \n",
      "..      ...   ...           ...           ...             ...   ...  ...  ...   \n",
      "443    1306  1087       1506047        189222        30893837  1634  204  127   \n",
      "444    1306  1088       1468118        181979        29322860  1569  204  127   \n",
      "445    1306  1089       1478032        182324        28107036  1593  205  128   \n",
      "446    1306  1090       1528230        186923        30046560  1617  204  128   \n",
      "447    1306  1091       1497903        184374        30013615  1591  205  127   \n",
      "\n",
      "                         mask_fn  \n",
      "0    s_0645_fucci_merge_gray.tif  \n",
      "1    s_0646_fucci_merge_gray.tif  \n",
      "2    s_0647_fucci_merge_gray.tif  \n",
      "3    s_0648_fucci_merge_gray.tif  \n",
      "4    s_0649_fucci_merge_gray.tif  \n",
      "..                           ...  \n",
      "443  s_1088_fucci_merge_gray.tif  \n",
      "444  s_1089_fucci_merge_gray.tif  \n",
      "445  s_1090_fucci_merge_gray.tif  \n",
      "446  s_1091_fucci_merge_gray.tif  \n",
      "447  s_1092_fucci_merge_gray.tif  \n",
      "\n",
      "[448 rows x 9 columns]\n",
      "cell ID =  1309 progress bar below: (n/N frames):\n"
     ]
    },
    {
     "data": {
      "application/vnd.jupyter.widget-view+json": {
       "model_id": "d85bff7c501e49d0a325e141f52be2b5",
       "version_major": 2,
       "version_minor": 0
      },
      "text/plain": [
       "HBox(children=(FloatProgress(value=0.0, max=447.0), HTML(value='')))"
      ]
     },
     "metadata": {},
     "output_type": "display_data"
    },
    {
     "name": "stdout",
     "output_type": "stream",
     "text": [
      "\n",
      "    Cell ID Frame GFP Intensity RFP Intensity Phase Intensity Area     x    y  \\\n",
      "0      1309   645         21890         24863         2036536  142  1018  211   \n",
      "1      1309   646         44019         46882         4165652  280  1016  211   \n",
      "2      1309   647         33132         37000         2950026  206  1016  211   \n",
      "3      1309   648         51748         56539         4291385  326  1015  207   \n",
      "4      1309   649             0             0               0    0  1013  203   \n",
      "..      ...   ...           ...           ...             ...  ...   ...  ...   \n",
      "442    1309  1087        390778         66126         9190323  629  1013  261   \n",
      "443    1309  1088        398216         66244         9485759  628  1013  261   \n",
      "444    1309  1089        365581         58517         7389303  559  1014  260   \n",
      "445    1309  1090        372484         63038         9123567  597  1014  261   \n",
      "446    1309  1091        309367         50748         7309695  485  1015  260   \n",
      "\n",
      "                         mask_fn  \n",
      "0    s_0646_fucci_merge_gray.tif  \n",
      "1    s_0647_fucci_merge_gray.tif  \n",
      "2    s_0648_fucci_merge_gray.tif  \n",
      "3    s_0649_fucci_merge_gray.tif  \n",
      "4    s_0650_fucci_merge_gray.tif  \n",
      "..                           ...  \n",
      "442  s_1088_fucci_merge_gray.tif  \n",
      "443  s_1089_fucci_merge_gray.tif  \n",
      "444  s_1090_fucci_merge_gray.tif  \n",
      "445  s_1091_fucci_merge_gray.tif  \n",
      "446  s_1092_fucci_merge_gray.tif  \n",
      "\n",
      "[447 rows x 9 columns]\n",
      "cell ID =  1314 progress bar below: (n/N frames):\n"
     ]
    },
    {
     "data": {
      "application/vnd.jupyter.widget-view+json": {
       "model_id": "29d9bdd5613e47db8356e9e78af15498",
       "version_major": 2,
       "version_minor": 0
      },
      "text/plain": [
       "HBox(children=(FloatProgress(value=0.0, max=446.0), HTML(value='')))"
      ]
     },
     "metadata": {},
     "output_type": "display_data"
    },
    {
     "name": "stdout",
     "output_type": "stream",
     "text": [
      "\n",
      "    Cell ID Frame GFP Intensity RFP Intensity Phase Intensity  Area    x    y  \\\n",
      "0      1314   646        168441        189171        17180676   973  767  550   \n",
      "1      1314   647        122022        144345        11861103   701  769  548   \n",
      "2      1314   648             0             0               0     0  770  546   \n",
      "3      1314   649        162979        194410        15676593   940  769  546   \n",
      "4      1314   650        142552        174602        13475779   819  767  546   \n",
      "..      ...   ...           ...           ...             ...   ...  ...  ...   \n",
      "441    1314  1087        572933       1147154        24967980  1519  748  530   \n",
      "442    1314  1088        565578       1149877        24142360  1457  749  530   \n",
      "443    1314  1089        569076       1156626        23953308  1446  750  530   \n",
      "444    1314  1090        581462       1191185        25025972  1480  749  532   \n",
      "445    1314  1091        594906       1192315        25043716  1526  750  532   \n",
      "\n",
      "                         mask_fn  \n",
      "0    s_0647_fucci_merge_gray.tif  \n",
      "1    s_0648_fucci_merge_gray.tif  \n",
      "2    s_0649_fucci_merge_gray.tif  \n",
      "3    s_0650_fucci_merge_gray.tif  \n",
      "4    s_0651_fucci_merge_gray.tif  \n",
      "..                           ...  \n",
      "441  s_1088_fucci_merge_gray.tif  \n",
      "442  s_1089_fucci_merge_gray.tif  \n",
      "443  s_1090_fucci_merge_gray.tif  \n",
      "444  s_1091_fucci_merge_gray.tif  \n",
      "445  s_1092_fucci_merge_gray.tif  \n",
      "\n",
      "[446 rows x 9 columns]\n",
      "cell ID =  1316 progress bar below: (n/N frames):\n"
     ]
    },
    {
     "data": {
      "application/vnd.jupyter.widget-view+json": {
       "model_id": "648eee73b8ae4dda93fa7981b1b1b088",
       "version_major": 2,
       "version_minor": 0
      },
      "text/plain": [
       "HBox(children=(FloatProgress(value=0.0, max=446.0), HTML(value='')))"
      ]
     },
     "metadata": {},
     "output_type": "display_data"
    },
    {
     "name": "stdout",
     "output_type": "stream",
     "text": [
      "\n",
      "    Cell ID Frame GFP Intensity RFP Intensity Phase Intensity  Area    x    y  \\\n",
      "0      1316   646        153386        161663        19499952   714  264  357   \n",
      "1      1316   647        280021        267237        37748516  1282  264  355   \n",
      "2      1316   648             0             0               0     0  263  353   \n",
      "3      1316   649             0             0               0     0  263  351   \n",
      "4      1316   650        119141        135640        17724545   497  264  353   \n",
      "..      ...   ...           ...           ...             ...   ...  ...  ...   \n",
      "441    1316  1087       1523422        215164        38384141  1284  285  376   \n",
      "442    1316  1088       1543383        208506        39754736  1321  286  378   \n",
      "443    1316  1089       1511790        188244        37852837  1280  287  379   \n",
      "444    1316  1090       1524237        185399        37741359  1260  285  378   \n",
      "445    1316  1091       1550573        182436        37424784  1290  285  379   \n",
      "\n",
      "                         mask_fn  \n",
      "0    s_0647_fucci_merge_gray.tif  \n",
      "1    s_0648_fucci_merge_gray.tif  \n",
      "2    s_0649_fucci_merge_gray.tif  \n",
      "3    s_0650_fucci_merge_gray.tif  \n",
      "4    s_0651_fucci_merge_gray.tif  \n",
      "..                           ...  \n",
      "441  s_1088_fucci_merge_gray.tif  \n",
      "442  s_1089_fucci_merge_gray.tif  \n",
      "443  s_1090_fucci_merge_gray.tif  \n",
      "444  s_1091_fucci_merge_gray.tif  \n",
      "445  s_1092_fucci_merge_gray.tif  \n",
      "\n",
      "[446 rows x 9 columns]\n",
      "cell ID =  1322 progress bar below: (n/N frames):\n"
     ]
    },
    {
     "data": {
      "application/vnd.jupyter.widget-view+json": {
       "model_id": "2c79ccb860fa44abab51ad1e23cea229",
       "version_major": 2,
       "version_minor": 0
      },
      "text/plain": [
       "HBox(children=(FloatProgress(value=0.0, max=443.0), HTML(value='')))"
      ]
     },
     "metadata": {},
     "output_type": "display_data"
    },
    {
     "name": "stdout",
     "output_type": "stream",
     "text": [
      "\n",
      "    Cell ID Frame GFP Intensity RFP Intensity Phase Intensity  Area    x    y  \\\n",
      "0      1322   649        140337        162193         9020549   819  550  541   \n",
      "1      1322   650         78080         94526         5255815   454  548  541   \n",
      "2      1322   651         44405         55681         2919473   254  550  543   \n",
      "3      1322   652             0             0               0     0  551  544   \n",
      "4      1322   653             0             0               0     0  553  546   \n",
      "..      ...   ...           ...           ...             ...   ...  ...  ...   \n",
      "438    1322  1087       1854586        238056        24303069  2153  551  542   \n",
      "439    1322  1088       1764942        221261        20933155  2012  551  543   \n",
      "440    1322  1089       1794681        226871        24339190  2073  552  543   \n",
      "441    1322  1090       1773425        227607        20731003  2070  551  543   \n",
      "442    1322  1091       1868643        239198        22913924  2172  550  543   \n",
      "\n",
      "                         mask_fn  \n",
      "0    s_0650_fucci_merge_gray.tif  \n",
      "1    s_0651_fucci_merge_gray.tif  \n",
      "2    s_0652_fucci_merge_gray.tif  \n",
      "3    s_0653_fucci_merge_gray.tif  \n",
      "4    s_0654_fucci_merge_gray.tif  \n",
      "..                           ...  \n",
      "438  s_1088_fucci_merge_gray.tif  \n",
      "439  s_1089_fucci_merge_gray.tif  \n",
      "440  s_1090_fucci_merge_gray.tif  \n",
      "441  s_1091_fucci_merge_gray.tif  \n",
      "442  s_1092_fucci_merge_gray.tif  \n",
      "\n",
      "[443 rows x 9 columns]\n",
      "cell ID =  1323 progress bar below: (n/N frames):\n"
     ]
    },
    {
     "data": {
      "application/vnd.jupyter.widget-view+json": {
       "model_id": "c4855466e09f4a1d9c8267d41f96722e",
       "version_major": 2,
       "version_minor": 0
      },
      "text/plain": [
       "HBox(children=(FloatProgress(value=0.0, max=347.0), HTML(value='')))"
      ]
     },
     "metadata": {},
     "output_type": "display_data"
    },
    {
     "name": "stdout",
     "output_type": "stream",
     "text": [
      "\n",
      "    Cell ID Frame GFP Intensity RFP Intensity Phase Intensity  Area    x    y  \\\n",
      "0      1323   649        139298        166162         7056949   793  505  599   \n",
      "1      1323   650             0             0               0     0  505  599   \n",
      "2      1323   651        190745        219405         9211074  1099  503  599   \n",
      "3      1323   652        220062        254733        11187505  1266  502  600   \n",
      "4      1323   653             0             0               0     0  501  600   \n",
      "..      ...   ...           ...           ...             ...   ...  ...  ...   \n",
      "342    1323   991       2370451        476470        77019540  4194  474  569   \n",
      "343    1323   992       2320853        475910        77644884  4181  476  569   \n",
      "344    1323   993       2145825        457016        76447021  4030  477  569   \n",
      "345    1323   994       2108308        446612        73980584  3932  479  570   \n",
      "346    1323   995       1873628        404639        71744552  3555  480  570   \n",
      "\n",
      "                         mask_fn  \n",
      "0    s_0650_fucci_merge_gray.tif  \n",
      "1    s_0651_fucci_merge_gray.tif  \n",
      "2    s_0652_fucci_merge_gray.tif  \n",
      "3    s_0653_fucci_merge_gray.tif  \n",
      "4    s_0654_fucci_merge_gray.tif  \n",
      "..                           ...  \n",
      "342  s_0992_fucci_merge_gray.tif  \n",
      "343  s_0993_fucci_merge_gray.tif  \n",
      "344  s_0994_fucci_merge_gray.tif  \n",
      "345  s_0995_fucci_merge_gray.tif  \n",
      "346  s_0996_fucci_merge_gray.tif  \n",
      "\n",
      "[347 rows x 9 columns]\n",
      "cell ID =  1325 progress bar below: (n/N frames):\n"
     ]
    },
    {
     "data": {
      "application/vnd.jupyter.widget-view+json": {
       "model_id": "8b0b8db9bff849b18d7985a401a3e4c2",
       "version_major": 2,
       "version_minor": 0
      },
      "text/plain": [
       "HBox(children=(FloatProgress(value=0.0, max=442.0), HTML(value='')))"
      ]
     },
     "metadata": {},
     "output_type": "display_data"
    },
    {
     "name": "stdout",
     "output_type": "stream",
     "text": [
      "\n",
      "    Cell ID Frame GFP Intensity RFP Intensity Phase Intensity  Area   x    y  \\\n",
      "0      1325   650         72923         96227         7578978   468  57   74   \n",
      "1      1325   651        120304        156401        12336389   788  59   79   \n",
      "2      1325   652        105923        134718        10590022   683  60   78   \n",
      "3      1325   653             0             0               0     0  60   77   \n",
      "4      1325   654        142879        193231        14558396   933  60   79   \n",
      "..      ...   ...           ...           ...             ...   ...  ..  ...   \n",
      "437    1325  1087        463970       1057917        29663186  1602  48  105   \n",
      "438    1325  1088        476101       1101900        31741945  1616  47  104   \n",
      "439    1325  1089        479879       1143389        31907305  1661  48  105   \n",
      "440    1325  1090        490302       1205574        32485301  1686  47  105   \n",
      "441    1325  1091        483106       1133807        31843014  1661  49  106   \n",
      "\n",
      "                         mask_fn  \n",
      "0    s_0651_fucci_merge_gray.tif  \n",
      "1    s_0652_fucci_merge_gray.tif  \n",
      "2    s_0653_fucci_merge_gray.tif  \n",
      "3    s_0654_fucci_merge_gray.tif  \n",
      "4    s_0655_fucci_merge_gray.tif  \n",
      "..                           ...  \n",
      "437  s_1088_fucci_merge_gray.tif  \n",
      "438  s_1089_fucci_merge_gray.tif  \n",
      "439  s_1090_fucci_merge_gray.tif  \n",
      "440  s_1091_fucci_merge_gray.tif  \n",
      "441  s_1092_fucci_merge_gray.tif  \n",
      "\n",
      "[442 rows x 9 columns]\n",
      "cell ID =  1326 progress bar below: (n/N frames):\n"
     ]
    },
    {
     "data": {
      "application/vnd.jupyter.widget-view+json": {
       "model_id": "602afad0d7c9470589d84dd4df5b034a",
       "version_major": 2,
       "version_minor": 0
      },
      "text/plain": [
       "HBox(children=(FloatProgress(value=0.0, max=441.0), HTML(value='')))"
      ]
     },
     "metadata": {},
     "output_type": "display_data"
    },
    {
     "name": "stdout",
     "output_type": "stream",
     "text": [
      "\n",
      "    Cell ID Frame GFP Intensity RFP Intensity Phase Intensity  Area    x   y  \\\n",
      "0      1326   651        158120        196225        16807422  1015  110  89   \n",
      "1      1326   652             0             0               0     0  110  89   \n",
      "2      1326   653             0             0               0     0  110  89   \n",
      "3      1326   654        137970        177447        14448499   881  109  86   \n",
      "4      1326   655             0             0               0     0  107  83   \n",
      "..      ...   ...           ...           ...             ...   ...  ...  ..   \n",
      "436    1326  1087       1406685        219442        37006521  1884   93  84   \n",
      "437    1326  1088       1379670        219240        36785690  1880   93  85   \n",
      "438    1326  1089       1393026        215098        36667709  1897   95  85   \n",
      "439    1326  1090       1441100        224699        37854806  1949   93  85   \n",
      "440    1326  1091       1396293        213740        35648835  1870   95  85   \n",
      "\n",
      "                         mask_fn  \n",
      "0    s_0652_fucci_merge_gray.tif  \n",
      "1    s_0653_fucci_merge_gray.tif  \n",
      "2    s_0654_fucci_merge_gray.tif  \n",
      "3    s_0655_fucci_merge_gray.tif  \n",
      "4    s_0656_fucci_merge_gray.tif  \n",
      "..                           ...  \n",
      "436  s_1088_fucci_merge_gray.tif  \n",
      "437  s_1089_fucci_merge_gray.tif  \n",
      "438  s_1090_fucci_merge_gray.tif  \n",
      "439  s_1091_fucci_merge_gray.tif  \n",
      "440  s_1092_fucci_merge_gray.tif  \n",
      "\n",
      "[441 rows x 9 columns]\n",
      "cell ID =  1331 progress bar below: (n/N frames):\n"
     ]
    },
    {
     "data": {
      "application/vnd.jupyter.widget-view+json": {
       "model_id": "d576c79970dd491bbc63ee390857f44d",
       "version_major": 2,
       "version_minor": 0
      },
      "text/plain": [
       "HBox(children=(FloatProgress(value=0.0, max=437.0), HTML(value='')))"
      ]
     },
     "metadata": {},
     "output_type": "display_data"
    },
    {
     "name": "stdout",
     "output_type": "stream",
     "text": [
      "\n",
      "    Cell ID Frame GFP Intensity RFP Intensity Phase Intensity  Area    x    y  \\\n",
      "0      1331   654         19176         18030         2594292    98  720  689   \n",
      "1      1331   655        107159         97190        13916047   534  711  686   \n",
      "2      1331   656         94351         84876        11819841   469  708  687   \n",
      "3      1331   657        121285        107123        15722211   621  710  687   \n",
      "4      1331   658        112546         99667        14255949   569  709  688   \n",
      "..      ...   ...           ...           ...             ...   ...  ...  ...   \n",
      "432    1331  1087       1003933        934302        25535866  1306  686  664   \n",
      "433    1331  1088        988526        901447        25415126  1276  686  664   \n",
      "434    1331  1089        995900        925533        24084675  1270  688  665   \n",
      "435    1331  1090       1023334        883293        25611479  1279  687  665   \n",
      "436    1331  1091       1027686        921187        26495772  1291  688  665   \n",
      "\n",
      "                         mask_fn  \n",
      "0    s_0655_fucci_merge_gray.tif  \n",
      "1    s_0656_fucci_merge_gray.tif  \n",
      "2    s_0657_fucci_merge_gray.tif  \n",
      "3    s_0658_fucci_merge_gray.tif  \n",
      "4    s_0659_fucci_merge_gray.tif  \n",
      "..                           ...  \n",
      "432  s_1088_fucci_merge_gray.tif  \n",
      "433  s_1089_fucci_merge_gray.tif  \n",
      "434  s_1090_fucci_merge_gray.tif  \n",
      "435  s_1091_fucci_merge_gray.tif  \n",
      "436  s_1092_fucci_merge_gray.tif  \n",
      "\n",
      "[437 rows x 9 columns]\n",
      "cell ID =  1334 progress bar below: (n/N frames):\n"
     ]
    },
    {
     "data": {
      "application/vnd.jupyter.widget-view+json": {
       "model_id": "c0e1314afdcc4816b23c199397e33406",
       "version_major": 2,
       "version_minor": 0
      },
      "text/plain": [
       "HBox(children=(FloatProgress(value=0.0, max=436.0), HTML(value='')))"
      ]
     },
     "metadata": {},
     "output_type": "display_data"
    },
    {
     "name": "stdout",
     "output_type": "stream",
     "text": [
      "\n",
      "    Cell ID Frame GFP Intensity RFP Intensity Phase Intensity  Area     x  \\\n",
      "0      1334   656        105928        123990         8852287   669  1012   \n",
      "1      1334   657        114829        133203        10163969   725  1012   \n",
      "2      1334   658        133016        155470        12210207   843  1012   \n",
      "3      1334   659        131336        153120        12120847   834  1011   \n",
      "4      1334   660             0             0               0     0  1010   \n",
      "..      ...   ...           ...           ...             ...   ...   ...   \n",
      "431    1334  1087        927674        162872        18088194  1534  1008   \n",
      "432    1334  1088        953286        164039        18863353  1549  1008   \n",
      "433    1334  1089        912725        151474        14863652  1438  1009   \n",
      "434    1334  1090        925000        156730        17075778  1474  1008   \n",
      "435    1334  1091        920152        154079        17342135  1451  1009   \n",
      "\n",
      "       y                      mask_fn  \n",
      "0    121  s_0657_fucci_merge_gray.tif  \n",
      "1    121  s_0658_fucci_merge_gray.tif  \n",
      "2    122  s_0659_fucci_merge_gray.tif  \n",
      "3    125  s_0660_fucci_merge_gray.tif  \n",
      "4    127  s_0661_fucci_merge_gray.tif  \n",
      "..   ...                          ...  \n",
      "431  201  s_1088_fucci_merge_gray.tif  \n",
      "432  202  s_1089_fucci_merge_gray.tif  \n",
      "433  203  s_1090_fucci_merge_gray.tif  \n",
      "434  203  s_1091_fucci_merge_gray.tif  \n",
      "435  202  s_1092_fucci_merge_gray.tif  \n",
      "\n",
      "[436 rows x 9 columns]\n",
      "cell ID =  1335 progress bar below: (n/N frames):\n"
     ]
    },
    {
     "data": {
      "application/vnd.jupyter.widget-view+json": {
       "model_id": "5adcc35bb191456b829cb9c99d2374a6",
       "version_major": 2,
       "version_minor": 0
      },
      "text/plain": [
       "HBox(children=(FloatProgress(value=0.0, max=436.0), HTML(value='')))"
      ]
     },
     "metadata": {},
     "output_type": "display_data"
    },
    {
     "name": "stdout",
     "output_type": "stream",
     "text": [
      "\n",
      "    Cell ID Frame GFP Intensity RFP Intensity Phase Intensity  Area    x    y  \\\n",
      "0      1335   656        192274        205618        16113817  1073  389  467   \n",
      "1      1335   657        191571        203008        15419655  1081  389  467   \n",
      "2      1335   658        210487        226309        16722507  1187  389  467   \n",
      "3      1335   659        161760        178609        12576192   904  388  467   \n",
      "4      1335   660        149707        167671        11975048   827  385  467   \n",
      "..      ...   ...           ...           ...             ...   ...  ...  ...   \n",
      "431    1335  1087       1597057        216127        41180820  1637  348  483   \n",
      "432    1335  1088       1516403        204813        38713583  1568  348  484   \n",
      "433    1335  1089       1573020        200141        36865493  1576  349  484   \n",
      "434    1335  1090       1562074        201996        40817979  1586  347  485   \n",
      "435    1335  1091       1595502        205710        39431716  1605  348  485   \n",
      "\n",
      "                         mask_fn  \n",
      "0    s_0657_fucci_merge_gray.tif  \n",
      "1    s_0658_fucci_merge_gray.tif  \n",
      "2    s_0659_fucci_merge_gray.tif  \n",
      "3    s_0660_fucci_merge_gray.tif  \n",
      "4    s_0661_fucci_merge_gray.tif  \n",
      "..                           ...  \n",
      "431  s_1088_fucci_merge_gray.tif  \n",
      "432  s_1089_fucci_merge_gray.tif  \n",
      "433  s_1090_fucci_merge_gray.tif  \n",
      "434  s_1091_fucci_merge_gray.tif  \n",
      "435  s_1092_fucci_merge_gray.tif  \n",
      "\n",
      "[436 rows x 9 columns]\n",
      "cell ID =  1337 progress bar below: (n/N frames):\n"
     ]
    },
    {
     "data": {
      "application/vnd.jupyter.widget-view+json": {
       "model_id": "95227b48d8a44f85bed539ea400798cd",
       "version_major": 2,
       "version_minor": 0
      },
      "text/plain": [
       "HBox(children=(FloatProgress(value=0.0, max=435.0), HTML(value='')))"
      ]
     },
     "metadata": {},
     "output_type": "display_data"
    },
    {
     "name": "stdout",
     "output_type": "stream",
     "text": [
      "\n",
      "    Cell ID Frame GFP Intensity RFP Intensity Phase Intensity  Area     x  \\\n",
      "0      1337   657        156946        167877        15457747   973  1002   \n",
      "1      1337   658             0             0               0     0  1002   \n",
      "2      1337   659        159734        170365        16336773   992  1000   \n",
      "3      1337   660        100895        112049        10699403   634   999   \n",
      "4      1337   661        122377        132973        12873984   759   998   \n",
      "..      ...   ...           ...           ...             ...   ...   ...   \n",
      "430    1337  1087       1117885        165877        28125123  1565   994   \n",
      "431    1337  1088       1094045        164758        27965923  1561   994   \n",
      "432    1337  1089       1078828        158607        25333183  1512   995   \n",
      "433    1337  1090       1120480        165021        28031946  1563   994   \n",
      "434    1337  1091       1109263        164774        28062056  1560   994   \n",
      "\n",
      "       y                      mask_fn  \n",
      "0    407  s_0658_fucci_merge_gray.tif  \n",
      "1    407  s_0659_fucci_merge_gray.tif  \n",
      "2    406  s_0660_fucci_merge_gray.tif  \n",
      "3    406  s_0661_fucci_merge_gray.tif  \n",
      "4    407  s_0662_fucci_merge_gray.tif  \n",
      "..   ...                          ...  \n",
      "430  405  s_1088_fucci_merge_gray.tif  \n",
      "431  404  s_1089_fucci_merge_gray.tif  \n",
      "432  403  s_1090_fucci_merge_gray.tif  \n",
      "433  404  s_1091_fucci_merge_gray.tif  \n",
      "434  403  s_1092_fucci_merge_gray.tif  \n",
      "\n",
      "[435 rows x 9 columns]\n",
      "cell ID =  1340 progress bar below: (n/N frames):\n"
     ]
    },
    {
     "data": {
      "application/vnd.jupyter.widget-view+json": {
       "model_id": "62bc433755a24c5a9c6ddb45e0ee4963",
       "version_major": 2,
       "version_minor": 0
      },
      "text/plain": [
       "HBox(children=(FloatProgress(value=0.0, max=396.0), HTML(value='')))"
      ]
     },
     "metadata": {},
     "output_type": "display_data"
    },
    {
     "name": "stdout",
     "output_type": "stream",
     "text": [
      "\n",
      "    Cell ID Frame GFP Intensity RFP Intensity Phase Intensity  Area    x   y  \\\n",
      "0      1340   659        106554        104402        10407166   591  873  13   \n",
      "1      1340   660        148318        143674        14533396   831  872  12   \n",
      "2      1340   661             0             0               0     0  871  11   \n",
      "3      1340   662        146082        139363        13803348   804  871  12   \n",
      "4      1340   663        137537        136210        13299259   765  872  12   \n",
      "..      ...   ...           ...           ...             ...   ...  ...  ..   \n",
      "391    1340  1050       1455857        246966        38088876  2116  875  64   \n",
      "392    1340  1051       1470027        257769        44010815  2149  874  63   \n",
      "393    1340  1052       1362704        240597        44075226  2014  873  63   \n",
      "394    1340  1053       1291601        231169        44033494  1950  877  62   \n",
      "395    1340  1054       1134428        209165        43637779  1737  875  61   \n",
      "\n",
      "                         mask_fn  \n",
      "0    s_0660_fucci_merge_gray.tif  \n",
      "1    s_0661_fucci_merge_gray.tif  \n",
      "2    s_0662_fucci_merge_gray.tif  \n",
      "3    s_0663_fucci_merge_gray.tif  \n",
      "4    s_0664_fucci_merge_gray.tif  \n",
      "..                           ...  \n",
      "391  s_1051_fucci_merge_gray.tif  \n",
      "392  s_1052_fucci_merge_gray.tif  \n",
      "393  s_1053_fucci_merge_gray.tif  \n",
      "394  s_1054_fucci_merge_gray.tif  \n",
      "395  s_1055_fucci_merge_gray.tif  \n",
      "\n",
      "[396 rows x 9 columns]\n",
      "cell ID =  1347 progress bar below: (n/N frames):\n"
     ]
    },
    {
     "data": {
      "application/vnd.jupyter.widget-view+json": {
       "model_id": "5d9cd32cd8a04728911e5f8917282817",
       "version_major": 2,
       "version_minor": 0
      },
      "text/plain": [
       "HBox(children=(FloatProgress(value=0.0, max=431.0), HTML(value='')))"
      ]
     },
     "metadata": {},
     "output_type": "display_data"
    },
    {
     "name": "stdout",
     "output_type": "stream",
     "text": [
      "\n",
      "    Cell ID Frame GFP Intensity RFP Intensity Phase Intensity  Area    x    y  \\\n",
      "0      1347   661        138676        153323        11866720   803  637  321   \n",
      "1      1347   662             0             0               0     0  637  321   \n",
      "2      1347   663        119516        135065        10280600   690  641  322   \n",
      "3      1347   664             0             0               0     0  644  323   \n",
      "4      1347   665        171249        192670        14391472   977  644  319   \n",
      "..      ...   ...           ...           ...             ...   ...  ...  ...   \n",
      "426    1347  1087       1568952        188836        22181961  1701  597  338   \n",
      "427    1347  1088       1564090        183852        20637812  1657  596  338   \n",
      "428    1347  1089       1542332        180251        21917131  1643  597  338   \n",
      "429    1347  1090       1587169        186304        20258215  1682  597  339   \n",
      "430    1347  1091       1587146        189230        22008683  1708  598  338   \n",
      "\n",
      "                         mask_fn  \n",
      "0    s_0662_fucci_merge_gray.tif  \n",
      "1    s_0663_fucci_merge_gray.tif  \n",
      "2    s_0664_fucci_merge_gray.tif  \n",
      "3    s_0665_fucci_merge_gray.tif  \n",
      "4    s_0666_fucci_merge_gray.tif  \n",
      "..                           ...  \n",
      "426  s_1088_fucci_merge_gray.tif  \n",
      "427  s_1089_fucci_merge_gray.tif  \n",
      "428  s_1090_fucci_merge_gray.tif  \n",
      "429  s_1091_fucci_merge_gray.tif  \n",
      "430  s_1092_fucci_merge_gray.tif  \n",
      "\n",
      "[431 rows x 9 columns]\n",
      "cell ID =  1348 progress bar below: (n/N frames):\n"
     ]
    },
    {
     "data": {
      "application/vnd.jupyter.widget-view+json": {
       "model_id": "a608215632784ef99e6a6782c780f41d",
       "version_major": 2,
       "version_minor": 0
      },
      "text/plain": [
       "HBox(children=(FloatProgress(value=0.0, max=431.0), HTML(value='')))"
      ]
     },
     "metadata": {},
     "output_type": "display_data"
    },
    {
     "name": "stdout",
     "output_type": "stream",
     "text": [
      "\n",
      "    Cell ID Frame GFP Intensity RFP Intensity Phase Intensity  Area    x    y  \\\n",
      "0      1348   661        165143        171170        11646931   979  676  266   \n",
      "1      1348   662             0             0               0     0  676  266   \n",
      "2      1348   663        136856        148082         9689040   812  678  265   \n",
      "3      1348   664             0             0               0     0  679  264   \n",
      "4      1348   665        185050        196676        12805781  1088  682  266   \n",
      "..      ...   ...           ...           ...             ...   ...  ...  ...   \n",
      "426    1348  1087       1714516        182575        25779781  1682  647  259   \n",
      "427    1348  1088       1709531        177551        25061504  1645  646  259   \n",
      "428    1348  1089       1731023        172677        22827463  1603  648  260   \n",
      "429    1348  1090       1729472        174315        25591138  1602  647  260   \n",
      "430    1348  1091       1709426        169665        24381671  1566  649  260   \n",
      "\n",
      "                         mask_fn  \n",
      "0    s_0662_fucci_merge_gray.tif  \n",
      "1    s_0663_fucci_merge_gray.tif  \n",
      "2    s_0664_fucci_merge_gray.tif  \n",
      "3    s_0665_fucci_merge_gray.tif  \n",
      "4    s_0666_fucci_merge_gray.tif  \n",
      "..                           ...  \n",
      "426  s_1088_fucci_merge_gray.tif  \n",
      "427  s_1089_fucci_merge_gray.tif  \n",
      "428  s_1090_fucci_merge_gray.tif  \n",
      "429  s_1091_fucci_merge_gray.tif  \n",
      "430  s_1092_fucci_merge_gray.tif  \n",
      "\n",
      "[431 rows x 9 columns]\n",
      "cell ID =  1349 progress bar below: (n/N frames):\n"
     ]
    },
    {
     "data": {
      "application/vnd.jupyter.widget-view+json": {
       "model_id": "7b2cb29bc37b43eda2071ff53f079cdb",
       "version_major": 2,
       "version_minor": 0
      },
      "text/plain": [
       "HBox(children=(FloatProgress(value=0.0, max=431.0), HTML(value='')))"
      ]
     },
     "metadata": {},
     "output_type": "display_data"
    },
    {
     "name": "stdout",
     "output_type": "stream",
     "text": [
      "\n",
      "    Cell ID Frame GFP Intensity RFP Intensity Phase Intensity  Area    x    y  \\\n",
      "0      1349   661        117634        129507         5159049   754  125  229   \n",
      "1      1349   662             0             0               0     0  125  229   \n",
      "2      1349   663             0             0               0     0  125  229   \n",
      "3      1349   664        169158        187607         7841013  1052  127  232   \n",
      "4      1349   665        182467        203352         8178544  1154  130  232   \n",
      "..      ...   ...           ...           ...             ...   ...  ...  ...   \n",
      "426    1349  1087       1042060        142903        16756576  1239  114  206   \n",
      "427    1349  1088       1044413        142614        16832916  1239  113  206   \n",
      "428    1349  1089       1058469        145159        17012894  1281  115  207   \n",
      "429    1349  1090       1054619        144301        17702436  1258  113  207   \n",
      "430    1349  1091       1095805        142958        17601618  1250  114  206   \n",
      "\n",
      "                         mask_fn  \n",
      "0    s_0662_fucci_merge_gray.tif  \n",
      "1    s_0663_fucci_merge_gray.tif  \n",
      "2    s_0664_fucci_merge_gray.tif  \n",
      "3    s_0665_fucci_merge_gray.tif  \n",
      "4    s_0666_fucci_merge_gray.tif  \n",
      "..                           ...  \n",
      "426  s_1088_fucci_merge_gray.tif  \n",
      "427  s_1089_fucci_merge_gray.tif  \n",
      "428  s_1090_fucci_merge_gray.tif  \n",
      "429  s_1091_fucci_merge_gray.tif  \n",
      "430  s_1092_fucci_merge_gray.tif  \n",
      "\n",
      "[431 rows x 9 columns]\n",
      "cell ID =  1350 progress bar below: (n/N frames):\n"
     ]
    },
    {
     "data": {
      "application/vnd.jupyter.widget-view+json": {
       "model_id": "4cc175bdec5f43b4872a6025fe89edf9",
       "version_major": 2,
       "version_minor": 0
      },
      "text/plain": [
       "HBox(children=(FloatProgress(value=0.0, max=429.0), HTML(value='')))"
      ]
     },
     "metadata": {},
     "output_type": "display_data"
    },
    {
     "name": "stdout",
     "output_type": "stream",
     "text": [
      "\n",
      "    Cell ID Frame GFP Intensity RFP Intensity Phase Intensity  Area    x    y  \\\n",
      "0      1350   663        170998        200973         9256083   925  478  452   \n",
      "1      1350   664        242475        278295        13414850  1329  480  453   \n",
      "2      1350   665        174378        206558         9397408   914  480  450   \n",
      "3      1350   666        260129        276597        14110691  1329  478  451   \n",
      "4      1350   667        284029        305483        13923986  1480  478  451   \n",
      "..      ...   ...           ...           ...             ...   ...  ...  ...   \n",
      "424    1350  1087       1775744        254262        21525407  1836  416  496   \n",
      "425    1350  1088       1747363        241631        18368988  1745  415  495   \n",
      "426    1350  1089       1723125        227682        21672158  1745  416  496   \n",
      "427    1350  1090       1745656        233473        19301263  1726  414  497   \n",
      "428    1350  1091       1754629        232385        19632202  1746  415  498   \n",
      "\n",
      "                         mask_fn  \n",
      "0    s_0664_fucci_merge_gray.tif  \n",
      "1    s_0665_fucci_merge_gray.tif  \n",
      "2    s_0666_fucci_merge_gray.tif  \n",
      "3    s_0667_fucci_merge_gray.tif  \n",
      "4    s_0668_fucci_merge_gray.tif  \n",
      "..                           ...  \n",
      "424  s_1088_fucci_merge_gray.tif  \n",
      "425  s_1089_fucci_merge_gray.tif  \n",
      "426  s_1090_fucci_merge_gray.tif  \n",
      "427  s_1091_fucci_merge_gray.tif  \n",
      "428  s_1092_fucci_merge_gray.tif  \n",
      "\n",
      "[429 rows x 9 columns]\n",
      "cell ID =  1355 progress bar below: (n/N frames):\n"
     ]
    },
    {
     "data": {
      "application/vnd.jupyter.widget-view+json": {
       "model_id": "990b94e6ff5f46788aee650b43ac1140",
       "version_major": 2,
       "version_minor": 0
      },
      "text/plain": [
       "HBox(children=(FloatProgress(value=0.0, max=427.0), HTML(value='')))"
      ]
     },
     "metadata": {},
     "output_type": "display_data"
    },
    {
     "name": "stdout",
     "output_type": "stream",
     "text": [
      "\n",
      "    Cell ID Frame GFP Intensity RFP Intensity Phase Intensity  Area    x    y  \\\n",
      "0      1355   665        205233        240177        14950183  1160  227  394   \n",
      "1      1355   666        186117        227065        14274750  1068  225  393   \n",
      "2      1355   667         95169        119387         7124952   539  220  391   \n",
      "3      1355   668             0             0               0     0  215  388   \n",
      "4      1355   669             0             0               0     0  210  386   \n",
      "..      ...   ...           ...           ...             ...   ...  ...  ...   \n",
      "422    1355  1087       1832673        200289        27634926  1688  247  436   \n",
      "423    1355  1088       1645414        191489        26678527  1639  245  437   \n",
      "424    1355  1089       1694715        195646        27410422  1687  246  437   \n",
      "425    1355  1090       1695815        194358        28334302  1668  246  437   \n",
      "426    1355  1091       1630381        181323        26442740  1557  246  437   \n",
      "\n",
      "                         mask_fn  \n",
      "0    s_0666_fucci_merge_gray.tif  \n",
      "1    s_0667_fucci_merge_gray.tif  \n",
      "2    s_0668_fucci_merge_gray.tif  \n",
      "3    s_0669_fucci_merge_gray.tif  \n",
      "4    s_0670_fucci_merge_gray.tif  \n",
      "..                           ...  \n",
      "422  s_1088_fucci_merge_gray.tif  \n",
      "423  s_1089_fucci_merge_gray.tif  \n",
      "424  s_1090_fucci_merge_gray.tif  \n",
      "425  s_1091_fucci_merge_gray.tif  \n",
      "426  s_1092_fucci_merge_gray.tif  \n",
      "\n",
      "[427 rows x 9 columns]\n",
      "cell ID =  1364 progress bar below: (n/N frames):\n"
     ]
    },
    {
     "data": {
      "application/vnd.jupyter.widget-view+json": {
       "model_id": "34e073c1b03e43728387ac25cb6aa0f8",
       "version_major": 2,
       "version_minor": 0
      },
      "text/plain": [
       "HBox(children=(FloatProgress(value=0.0, max=421.0), HTML(value='')))"
      ]
     },
     "metadata": {},
     "output_type": "display_data"
    },
    {
     "name": "stdout",
     "output_type": "stream",
     "text": [
      "\n",
      "    Cell ID Frame GFP Intensity RFP Intensity Phase Intensity  Area   x    y  \\\n",
      "0      1364   671        103787        129374         6258182   652  70  164   \n",
      "1      1364   672             0             0               0     0  70  164   \n",
      "2      1364   673             0             0               0     0  70  164   \n",
      "3      1364   674        115019        145602         7000754   702  69  163   \n",
      "4      1364   675        139917        175132         7891289   869  73  165   \n",
      "..      ...   ...           ...           ...             ...   ...  ..  ...   \n",
      "416    1364  1087       1097042        203939        31147450  1694  60  170   \n",
      "417    1364  1088       1111312        202793        32208153  1734  59  170   \n",
      "418    1364  1089       1112985        200734        30743752  1708  60  170   \n",
      "419    1364  1090       1131799        206626        32296187  1731  60  169   \n",
      "420    1364  1091       1116137        198469        31616522  1689  60  170   \n",
      "\n",
      "                         mask_fn  \n",
      "0    s_0672_fucci_merge_gray.tif  \n",
      "1    s_0673_fucci_merge_gray.tif  \n",
      "2    s_0674_fucci_merge_gray.tif  \n",
      "3    s_0675_fucci_merge_gray.tif  \n",
      "4    s_0676_fucci_merge_gray.tif  \n",
      "..                           ...  \n",
      "416  s_1088_fucci_merge_gray.tif  \n",
      "417  s_1089_fucci_merge_gray.tif  \n",
      "418  s_1090_fucci_merge_gray.tif  \n",
      "419  s_1091_fucci_merge_gray.tif  \n",
      "420  s_1092_fucci_merge_gray.tif  \n",
      "\n",
      "[421 rows x 9 columns]\n",
      "cell ID =  1365 progress bar below: (n/N frames):\n"
     ]
    },
    {
     "data": {
      "application/vnd.jupyter.widget-view+json": {
       "model_id": "810a048e201942caac2f78c8ec0568cf",
       "version_major": 2,
       "version_minor": 0
      },
      "text/plain": [
       "HBox(children=(FloatProgress(value=0.0, max=412.0), HTML(value='')))"
      ]
     },
     "metadata": {},
     "output_type": "display_data"
    },
    {
     "name": "stdout",
     "output_type": "stream",
     "text": [
      "\n",
      "    Cell ID Frame GFP Intensity RFP Intensity Phase Intensity  Area    x    y  \\\n",
      "0      1365   672         81947        114042         8284002   480  910  746   \n",
      "1      1365   673        112972        150316        11596320   654  910  746   \n",
      "2      1365   674        111408        149969        11573281   635  907  747   \n",
      "3      1365   675        140119        190683        14590385   815  907  747   \n",
      "4      1365   676        157787        213529        17508046   898  908  747   \n",
      "..      ...   ...           ...           ...             ...   ...  ...  ...   \n",
      "407    1365  1080        704712         97749        13572207   925  880  812   \n",
      "408    1365  1081        670550         90349        12662177   847  880  811   \n",
      "409    1365  1082             0             0               0     0  879  810   \n",
      "410    1365  1083       1715445        217595        30077994  2049  881  795   \n",
      "411    1365  1084        992124        116062        15741877  1092  879  782   \n",
      "\n",
      "                         mask_fn  \n",
      "0    s_0673_fucci_merge_gray.tif  \n",
      "1    s_0674_fucci_merge_gray.tif  \n",
      "2    s_0675_fucci_merge_gray.tif  \n",
      "3    s_0676_fucci_merge_gray.tif  \n",
      "4    s_0677_fucci_merge_gray.tif  \n",
      "..                           ...  \n",
      "407  s_1081_fucci_merge_gray.tif  \n",
      "408  s_1082_fucci_merge_gray.tif  \n",
      "409  s_1083_fucci_merge_gray.tif  \n",
      "410  s_1084_fucci_merge_gray.tif  \n",
      "411  s_1085_fucci_merge_gray.tif  \n",
      "\n",
      "[412 rows x 9 columns]\n",
      "cell ID =  1372 progress bar below: (n/N frames):\n"
     ]
    },
    {
     "data": {
      "application/vnd.jupyter.widget-view+json": {
       "model_id": "ac5b071ee084450780e556048b130c07",
       "version_major": 2,
       "version_minor": 0
      },
      "text/plain": [
       "HBox(children=(FloatProgress(value=0.0, max=418.0), HTML(value='')))"
      ]
     },
     "metadata": {},
     "output_type": "display_data"
    },
    {
     "name": "stdout",
     "output_type": "stream",
     "text": [
      "\n",
      "    Cell ID Frame GFP Intensity RFP Intensity Phase Intensity Area     x    y  \\\n",
      "0      1372   674         87178        101695         9322872  516   992  336   \n",
      "1      1372   675             0             0               0    0   992  336   \n",
      "2      1372   676             0             0               0    0   992  336   \n",
      "3      1372   677        100233        111984        10790221  594   991  334   \n",
      "4      1372   678        155461        171685        16256922  942   994  336   \n",
      "..      ...   ...           ...           ...             ...  ...   ...  ...   \n",
      "413    1372  1087         68734         12119         2042810  116  1018  373   \n",
      "414    1372  1088         78024         13861         2408645  131  1018  372   \n",
      "415    1372  1089         65322         11199         1859694  107  1018  370   \n",
      "416    1372  1090         86681         15975         2807703  151  1018  371   \n",
      "417    1372  1091         56983          9758         1767196   93  1019  369   \n",
      "\n",
      "                         mask_fn  \n",
      "0    s_0675_fucci_merge_gray.tif  \n",
      "1    s_0676_fucci_merge_gray.tif  \n",
      "2    s_0677_fucci_merge_gray.tif  \n",
      "3    s_0678_fucci_merge_gray.tif  \n",
      "4    s_0679_fucci_merge_gray.tif  \n",
      "..                           ...  \n",
      "413  s_1088_fucci_merge_gray.tif  \n",
      "414  s_1089_fucci_merge_gray.tif  \n",
      "415  s_1090_fucci_merge_gray.tif  \n",
      "416  s_1091_fucci_merge_gray.tif  \n",
      "417  s_1092_fucci_merge_gray.tif  \n",
      "\n",
      "[418 rows x 9 columns]\n",
      "cell ID =  1389 progress bar below: (n/N frames):\n"
     ]
    },
    {
     "data": {
      "application/vnd.jupyter.widget-view+json": {
       "model_id": "cb3eba647de94ba19b1b1750695513af",
       "version_major": 2,
       "version_minor": 0
      },
      "text/plain": [
       "HBox(children=(FloatProgress(value=0.0, max=411.0), HTML(value='')))"
      ]
     },
     "metadata": {},
     "output_type": "display_data"
    },
    {
     "name": "stdout",
     "output_type": "stream",
     "text": [
      "\n",
      "    Cell ID Frame GFP Intensity RFP Intensity Phase Intensity  Area   x    y  \\\n",
      "0      1389   681        175092        198414        23801041   746  30  352   \n",
      "1      1389   682             0             0               0     0  30  352   \n",
      "2      1389   683        187145        203143        23504066   807  29  352   \n",
      "3      1389   684        200714        237086        24015745   882  25  353   \n",
      "4      1389   685        285618        309102        31589972  1224  25  352   \n",
      "..      ...   ...           ...           ...             ...   ...  ..  ...   \n",
      "406    1389  1087       1078771        164885        19545420  1414  52  352   \n",
      "407    1389  1088       1153675        166013        20725019  1359  52  352   \n",
      "408    1389  1089       1105064        159610        18808439  1326  53  352   \n",
      "409    1389  1090       1130381        164397        19375966  1365  52  351   \n",
      "410    1389  1091       1140109        165412        18137641  1377  54  352   \n",
      "\n",
      "                         mask_fn  \n",
      "0    s_0682_fucci_merge_gray.tif  \n",
      "1    s_0683_fucci_merge_gray.tif  \n",
      "2    s_0684_fucci_merge_gray.tif  \n",
      "3    s_0685_fucci_merge_gray.tif  \n",
      "4    s_0686_fucci_merge_gray.tif  \n",
      "..                           ...  \n",
      "406  s_1088_fucci_merge_gray.tif  \n",
      "407  s_1089_fucci_merge_gray.tif  \n",
      "408  s_1090_fucci_merge_gray.tif  \n",
      "409  s_1091_fucci_merge_gray.tif  \n",
      "410  s_1092_fucci_merge_gray.tif  \n",
      "\n",
      "[411 rows x 9 columns]\n",
      "cell ID =  1391 progress bar below: (n/N frames):\n"
     ]
    },
    {
     "data": {
      "application/vnd.jupyter.widget-view+json": {
       "model_id": "6aa1e4126a2948a78e9272b82ccc6d60",
       "version_major": 2,
       "version_minor": 0
      },
      "text/plain": [
       "HBox(children=(FloatProgress(value=0.0, max=409.0), HTML(value='')))"
      ]
     },
     "metadata": {},
     "output_type": "display_data"
    },
    {
     "name": "stdout",
     "output_type": "stream",
     "text": [
      "\n",
      "    Cell ID Frame GFP Intensity RFP Intensity Phase Intensity  Area   x    y  \\\n",
      "0      1391   683        106008        145546         8307895   582  47  309   \n",
      "1      1391   684             0             0               0     0  47  309   \n",
      "2      1391   685         93430        128133         6853381   474  47  311   \n",
      "3      1391   686        144831        189381        11161389   739  44  314   \n",
      "4      1391   687        149656        198978        12263013   786  43  313   \n",
      "..      ...   ...           ...           ...             ...   ...  ..  ...   \n",
      "404    1391  1087        737330        158218        18549828  1297  84  328   \n",
      "405    1391  1088        807584        159286        20856107  1267  85  328   \n",
      "406    1391  1089        816314        171892        27666114  1276  86  328   \n",
      "407    1391  1090        819263        190325        30868542  1268  85  326   \n",
      "408    1391  1091        857897        200370        29885969  1336  86  326   \n",
      "\n",
      "                         mask_fn  \n",
      "0    s_0684_fucci_merge_gray.tif  \n",
      "1    s_0685_fucci_merge_gray.tif  \n",
      "2    s_0686_fucci_merge_gray.tif  \n",
      "3    s_0687_fucci_merge_gray.tif  \n",
      "4    s_0688_fucci_merge_gray.tif  \n",
      "..                           ...  \n",
      "404  s_1088_fucci_merge_gray.tif  \n",
      "405  s_1089_fucci_merge_gray.tif  \n",
      "406  s_1090_fucci_merge_gray.tif  \n",
      "407  s_1091_fucci_merge_gray.tif  \n",
      "408  s_1092_fucci_merge_gray.tif  \n",
      "\n",
      "[409 rows x 9 columns]\n",
      "cell ID =  1393 progress bar below: (n/N frames):\n"
     ]
    },
    {
     "data": {
      "application/vnd.jupyter.widget-view+json": {
       "model_id": "70c91ef4832d43709003eb53628a6a28",
       "version_major": 2,
       "version_minor": 0
      },
      "text/plain": [
       "HBox(children=(FloatProgress(value=0.0, max=408.0), HTML(value='')))"
      ]
     },
     "metadata": {},
     "output_type": "display_data"
    },
    {
     "name": "stdout",
     "output_type": "stream",
     "text": [
      "\n",
      "    Cell ID Frame GFP Intensity RFP Intensity Phase Intensity  Area   x    y  \\\n",
      "0      1393   684        132027        176003        11713575   838  82  706   \n",
      "1      1393   685        176597        231841        15124595  1100  85  707   \n",
      "2      1393   686             0             0               0     0  87  707   \n",
      "3      1393   687        138225        197014        12091490   862  85  707   \n",
      "4      1393   688        118839        169460        10561043   736  87  707   \n",
      "..      ...   ...           ...           ...             ...   ...  ..  ...   \n",
      "403    1393  1087        908144       1199149        25040484  1411  65  731   \n",
      "404    1393  1088        895956       1186629        24159357  1372  65  731   \n",
      "405    1393  1089        886835       1184300        23211081  1346  66  731   \n",
      "406    1393  1090        922469       1234593        25624497  1371  65  732   \n",
      "407    1393  1091        941635       1187093        24711853  1430  66  733   \n",
      "\n",
      "                         mask_fn  \n",
      "0    s_0685_fucci_merge_gray.tif  \n",
      "1    s_0686_fucci_merge_gray.tif  \n",
      "2    s_0687_fucci_merge_gray.tif  \n",
      "3    s_0688_fucci_merge_gray.tif  \n",
      "4    s_0689_fucci_merge_gray.tif  \n",
      "..                           ...  \n",
      "403  s_1088_fucci_merge_gray.tif  \n",
      "404  s_1089_fucci_merge_gray.tif  \n",
      "405  s_1090_fucci_merge_gray.tif  \n",
      "406  s_1091_fucci_merge_gray.tif  \n",
      "407  s_1092_fucci_merge_gray.tif  \n",
      "\n",
      "[408 rows x 9 columns]\n",
      "cell ID =  1395 progress bar below: (n/N frames):\n"
     ]
    },
    {
     "data": {
      "application/vnd.jupyter.widget-view+json": {
       "model_id": "6e06417b26b648dcaf52a42c80cad0f0",
       "version_major": 2,
       "version_minor": 0
      },
      "text/plain": [
       "HBox(children=(FloatProgress(value=0.0, max=407.0), HTML(value='')))"
      ]
     },
     "metadata": {},
     "output_type": "display_data"
    },
    {
     "name": "stdout",
     "output_type": "stream",
     "text": [
      "\n",
      "    Cell ID Frame GFP Intensity RFP Intensity Phase Intensity  Area    x    y  \\\n",
      "0      1395   685        156751        193680        14844422   905  108  657   \n",
      "1      1395   686             0             0               0     0  108  657   \n",
      "2      1395   687        103233        135440         9953164   604  109  655   \n",
      "3      1395   688        193737        238920        18834362  1118  107  657   \n",
      "4      1395   689         83309        116184         8136532   482  111  654   \n",
      "..      ...   ...           ...           ...             ...   ...  ...  ...   \n",
      "402    1395  1087       1543770        250049        27291326  2191   64  641   \n",
      "403    1395  1088       1535668        230384        25409681  2038   63  642   \n",
      "404    1395  1089       1558350        231228        27139304  2056   65  643   \n",
      "405    1395  1090       1594921        231942        25723184  2055   64  643   \n",
      "406    1395  1091       1644784        247219        26682507  2178   65  645   \n",
      "\n",
      "                         mask_fn  \n",
      "0    s_0686_fucci_merge_gray.tif  \n",
      "1    s_0687_fucci_merge_gray.tif  \n",
      "2    s_0688_fucci_merge_gray.tif  \n",
      "3    s_0689_fucci_merge_gray.tif  \n",
      "4    s_0690_fucci_merge_gray.tif  \n",
      "..                           ...  \n",
      "402  s_1088_fucci_merge_gray.tif  \n",
      "403  s_1089_fucci_merge_gray.tif  \n",
      "404  s_1090_fucci_merge_gray.tif  \n",
      "405  s_1091_fucci_merge_gray.tif  \n",
      "406  s_1092_fucci_merge_gray.tif  \n",
      "\n",
      "[407 rows x 9 columns]\n",
      "cell ID =  1401 progress bar below: (n/N frames):\n"
     ]
    },
    {
     "data": {
      "application/vnd.jupyter.widget-view+json": {
       "model_id": "859f9aff6af74910b6a395610d9d1812",
       "version_major": 2,
       "version_minor": 0
      },
      "text/plain": [
       "HBox(children=(FloatProgress(value=0.0, max=403.0), HTML(value='')))"
      ]
     },
     "metadata": {},
     "output_type": "display_data"
    },
    {
     "name": "stdout",
     "output_type": "stream",
     "text": [
      "\n",
      "    Cell ID Frame GFP Intensity RFP Intensity Phase Intensity  Area    x    y  \\\n",
      "0      1401   689         55266         69402         5488973   319  977  116   \n",
      "1      1401   690         59110         74536         5862524   345  978  118   \n",
      "2      1401   691         92195        112161         9050079   533  977  117   \n",
      "3      1401   692             0             0               0     0  976  116   \n",
      "4      1401   693        154639        169581        15286335   858  976  116   \n",
      "..      ...   ...           ...           ...             ...   ...  ...  ...   \n",
      "398    1401  1087        925661        189774        33890793  1764  983  132   \n",
      "399    1401  1088        954209        192297        34937506  1799  983  131   \n",
      "400    1401  1089        934722        188381        33698549  1779  983  130   \n",
      "401    1401  1090        957879        194035        34257839  1816  983  130   \n",
      "402    1401  1091        933776        192162        34692912  1797  983  130   \n",
      "\n",
      "                         mask_fn  \n",
      "0    s_0690_fucci_merge_gray.tif  \n",
      "1    s_0691_fucci_merge_gray.tif  \n",
      "2    s_0692_fucci_merge_gray.tif  \n",
      "3    s_0693_fucci_merge_gray.tif  \n",
      "4    s_0694_fucci_merge_gray.tif  \n",
      "..                           ...  \n",
      "398  s_1088_fucci_merge_gray.tif  \n",
      "399  s_1089_fucci_merge_gray.tif  \n",
      "400  s_1090_fucci_merge_gray.tif  \n",
      "401  s_1091_fucci_merge_gray.tif  \n",
      "402  s_1092_fucci_merge_gray.tif  \n",
      "\n",
      "[403 rows x 9 columns]\n",
      "cell ID =  1409 progress bar below: (n/N frames):\n"
     ]
    },
    {
     "data": {
      "application/vnd.jupyter.widget-view+json": {
       "model_id": "f87e754cf2ff4c58b0e0e6bc3a59c229",
       "version_major": 2,
       "version_minor": 0
      },
      "text/plain": [
       "HBox(children=(FloatProgress(value=0.0, max=369.0), HTML(value='')))"
      ]
     },
     "metadata": {},
     "output_type": "display_data"
    },
    {
     "name": "stdout",
     "output_type": "stream",
     "text": [
      "\n",
      "    Cell ID Frame GFP Intensity RFP Intensity Phase Intensity  Area     x  \\\n",
      "0      1409   692        146245        184676         9980552   864   982   \n",
      "1      1409   693        226011        277670        15304993  1378   983   \n",
      "2      1409   694        240317        286549        15471680  1415   981   \n",
      "3      1409   695        234526        277580        15766506  1368   981   \n",
      "4      1409   696        244039        290776        15635761  1441   980   \n",
      "..      ...   ...           ...           ...             ...   ...   ...   \n",
      "364    1409  1056             0             0               0     0  1014   \n",
      "365    1409  1057        973991        221385        45921062  2124   998   \n",
      "366    1409  1058       1124498        245444        56352318  2344   996   \n",
      "367    1409  1059       1080054        227712        58596434  2185   997   \n",
      "368    1409  1060       1306562        268469        74958428  2565   996   \n",
      "\n",
      "       y                      mask_fn  \n",
      "0    742  s_0693_fucci_merge_gray.tif  \n",
      "1    745  s_0694_fucci_merge_gray.tif  \n",
      "2    745  s_0695_fucci_merge_gray.tif  \n",
      "3    744  s_0696_fucci_merge_gray.tif  \n",
      "4    744  s_0697_fucci_merge_gray.tif  \n",
      "..   ...                          ...  \n",
      "364  798  s_1057_fucci_merge_gray.tif  \n",
      "365  786  s_1058_fucci_merge_gray.tif  \n",
      "366  785  s_1059_fucci_merge_gray.tif  \n",
      "367  784  s_1060_fucci_merge_gray.tif  \n",
      "368  784  s_1061_fucci_merge_gray.tif  \n",
      "\n",
      "[369 rows x 9 columns]\n",
      "cell ID =  1411 progress bar below: (n/N frames):\n"
     ]
    },
    {
     "data": {
      "application/vnd.jupyter.widget-view+json": {
       "model_id": "5ea70691aa004b819958f407dcd8e544",
       "version_major": 2,
       "version_minor": 0
      },
      "text/plain": [
       "HBox(children=(FloatProgress(value=0.0, max=312.0), HTML(value='')))"
      ]
     },
     "metadata": {},
     "output_type": "display_data"
    },
    {
     "name": "stdout",
     "output_type": "stream",
     "text": [
      "\n",
      "    Cell ID Frame GFP Intensity RFP Intensity Phase Intensity  Area   x    y  \\\n",
      "0      1411   692        162648        203165         8883990  1048  31  566   \n",
      "1      1411   693        157433        201295         8455670  1025  32  566   \n",
      "2      1411   694        152816        193636         8708107   977  29  566   \n",
      "3      1411   695             0             0               0     0  26  565   \n",
      "4      1411   696        118328        150577         7006491   760  28  567   \n",
      "..      ...   ...           ...           ...             ...   ...  ..  ...   \n",
      "307    1411   999         32883         19737          727636    60   2  589   \n",
      "308    1411  1000             0             0               0     0   1  589   \n",
      "309    1411  1001             0             0               0     0   1  589   \n",
      "310    1411  1002             0             0               0     0   1  589   \n",
      "311    1411  1003         17931          9313          457563    36   2  590   \n",
      "\n",
      "                         mask_fn  \n",
      "0    s_0693_fucci_merge_gray.tif  \n",
      "1    s_0694_fucci_merge_gray.tif  \n",
      "2    s_0695_fucci_merge_gray.tif  \n",
      "3    s_0696_fucci_merge_gray.tif  \n",
      "4    s_0697_fucci_merge_gray.tif  \n",
      "..                           ...  \n",
      "307  s_1000_fucci_merge_gray.tif  \n",
      "308  s_1001_fucci_merge_gray.tif  \n",
      "309  s_1002_fucci_merge_gray.tif  \n",
      "310  s_1003_fucci_merge_gray.tif  \n",
      "311  s_1004_fucci_merge_gray.tif  \n",
      "\n",
      "[312 rows x 9 columns]\n",
      "cell ID =  1412 progress bar below: (n/N frames):\n"
     ]
    },
    {
     "data": {
      "application/vnd.jupyter.widget-view+json": {
       "model_id": "a2f88f109c694f8186eb2a6dc19b58e2",
       "version_major": 2,
       "version_minor": 0
      },
      "text/plain": [
       "HBox(children=(FloatProgress(value=0.0, max=399.0), HTML(value='')))"
      ]
     },
     "metadata": {},
     "output_type": "display_data"
    },
    {
     "name": "stdout",
     "output_type": "stream",
     "text": [
      "\n",
      "    Cell ID Frame GFP Intensity RFP Intensity Phase Intensity  Area    x    y  \\\n",
      "0      1412   693        129915        153449        12640264   771  695  595   \n",
      "1      1412   694        146628        172065        13858562   853  694  595   \n",
      "2      1412   695        136974        164449        13286279   800  694  594   \n",
      "3      1412   696        131821        163927        12581930   768  695  595   \n",
      "4      1412   697        163204        191825        15429254   941  694  596   \n",
      "..      ...   ...           ...           ...             ...   ...  ...  ...   \n",
      "394    1412  1087       1045848        850294        23483357  1403  665  623   \n",
      "395    1412  1088       1023114        774262        22064740  1361  665  624   \n",
      "396    1412  1089        994736        799766        22415204  1336  667  625   \n",
      "397    1412  1090       1052266        835899        23442793  1382  665  625   \n",
      "398    1412  1091       1046819        784795        23845768  1399  666  625   \n",
      "\n",
      "                         mask_fn  \n",
      "0    s_0694_fucci_merge_gray.tif  \n",
      "1    s_0695_fucci_merge_gray.tif  \n",
      "2    s_0696_fucci_merge_gray.tif  \n",
      "3    s_0697_fucci_merge_gray.tif  \n",
      "4    s_0698_fucci_merge_gray.tif  \n",
      "..                           ...  \n",
      "394  s_1088_fucci_merge_gray.tif  \n",
      "395  s_1089_fucci_merge_gray.tif  \n",
      "396  s_1090_fucci_merge_gray.tif  \n",
      "397  s_1091_fucci_merge_gray.tif  \n",
      "398  s_1092_fucci_merge_gray.tif  \n",
      "\n",
      "[399 rows x 9 columns]\n",
      "cell ID =  1420 progress bar below: (n/N frames):\n"
     ]
    },
    {
     "data": {
      "application/vnd.jupyter.widget-view+json": {
       "model_id": "ca63b4b2fe8b47c08b04b00f57f19b70",
       "version_major": 2,
       "version_minor": 0
      },
      "text/plain": [
       "HBox(children=(FloatProgress(value=0.0, max=396.0), HTML(value='')))"
      ]
     },
     "metadata": {},
     "output_type": "display_data"
    },
    {
     "name": "stdout",
     "output_type": "stream",
     "text": [
      "\n",
      "    Cell ID Frame GFP Intensity RFP Intensity Phase Intensity Area   x    y  \\\n",
      "0      1420   696         15009         19862         1081766   94  46  593   \n",
      "1      1420   697        146624        174454         9743787  894  52  596   \n",
      "2      1420   698             0             0               0    0  57  598   \n",
      "3      1420   699        152122        188225        10241543  946  50  594   \n",
      "4      1420   700        116555        142862         8201588  709  50  594   \n",
      "..      ...   ...           ...           ...             ...  ...  ..  ...   \n",
      "391    1420  1087        260835         44474         6397292  403   7  631   \n",
      "392    1420  1088        240075         35963         5376341  326   6  631   \n",
      "393    1420  1089        269781         43713         6446334  397   7  630   \n",
      "394    1420  1090        228353         33340         4986845  301   6  630   \n",
      "395    1420  1091        264906         41781         5964270  376   7  631   \n",
      "\n",
      "                         mask_fn  \n",
      "0    s_0697_fucci_merge_gray.tif  \n",
      "1    s_0698_fucci_merge_gray.tif  \n",
      "2    s_0699_fucci_merge_gray.tif  \n",
      "3    s_0700_fucci_merge_gray.tif  \n",
      "4    s_0701_fucci_merge_gray.tif  \n",
      "..                           ...  \n",
      "391  s_1088_fucci_merge_gray.tif  \n",
      "392  s_1089_fucci_merge_gray.tif  \n",
      "393  s_1090_fucci_merge_gray.tif  \n",
      "394  s_1091_fucci_merge_gray.tif  \n",
      "395  s_1092_fucci_merge_gray.tif  \n",
      "\n",
      "[396 rows x 9 columns]\n",
      "cell ID =  1422 progress bar below: (n/N frames):\n"
     ]
    },
    {
     "data": {
      "application/vnd.jupyter.widget-view+json": {
       "model_id": "9cf5b12c2e04406fb5ff5f08d39a071e",
       "version_major": 2,
       "version_minor": 0
      },
      "text/plain": [
       "HBox(children=(FloatProgress(value=0.0, max=395.0), HTML(value='')))"
      ]
     },
     "metadata": {},
     "output_type": "display_data"
    },
    {
     "name": "stdout",
     "output_type": "stream",
     "text": [
      "\n",
      "    Cell ID Frame GFP Intensity RFP Intensity Phase Intensity  Area    x    y  \\\n",
      "0      1422   697        134922        144604        14292097   733  915  135   \n",
      "1      1422   698             0             0               0     0  915  135   \n",
      "2      1422   699        162051        167589        16328530   866  913  132   \n",
      "3      1422   700        200390        205179        21513437  1050  913  132   \n",
      "4      1422   701             0             0               0     0  912  131   \n",
      "..      ...   ...           ...           ...             ...   ...  ...  ...   \n",
      "390    1422  1087        597620        190496        24673561  1173  927  162   \n",
      "391    1422  1088        668744        202133        27004019  1302  926  163   \n",
      "392    1422  1089        629345        186777        26508453  1204  926  163   \n",
      "393    1422  1090        515345        148397        18647133   946  925  161   \n",
      "394    1422  1091        552042        156875        21385946  1036  926  161   \n",
      "\n",
      "                         mask_fn  \n",
      "0    s_0698_fucci_merge_gray.tif  \n",
      "1    s_0699_fucci_merge_gray.tif  \n",
      "2    s_0700_fucci_merge_gray.tif  \n",
      "3    s_0701_fucci_merge_gray.tif  \n",
      "4    s_0702_fucci_merge_gray.tif  \n",
      "..                           ...  \n",
      "390  s_1088_fucci_merge_gray.tif  \n",
      "391  s_1089_fucci_merge_gray.tif  \n",
      "392  s_1090_fucci_merge_gray.tif  \n",
      "393  s_1091_fucci_merge_gray.tif  \n",
      "394  s_1092_fucci_merge_gray.tif  \n",
      "\n",
      "[395 rows x 9 columns]\n",
      "cell ID =  1424 progress bar below: (n/N frames):\n"
     ]
    },
    {
     "data": {
      "application/vnd.jupyter.widget-view+json": {
       "model_id": "5010c6e4e3544701a0cc158d9c8f025b",
       "version_major": 2,
       "version_minor": 0
      },
      "text/plain": [
       "HBox(children=(FloatProgress(value=0.0, max=249.0), HTML(value='')))"
      ]
     },
     "metadata": {},
     "output_type": "display_data"
    },
    {
     "name": "stdout",
     "output_type": "stream",
     "text": [
      "\n",
      "    Cell ID Frame GFP Intensity RFP Intensity Phase Intensity  Area    x    y  \\\n",
      "0      1424   697         97884         99196        10180350   490  262  506   \n",
      "1      1424   698             0             0               0     0  262  506   \n",
      "2      1424   699        175343        193094        19481642   937  257  504   \n",
      "3      1424   700        151129        149019        15297380   765  264  506   \n",
      "4      1424   701        197320        221848        21490590  1044  258  505   \n",
      "..      ...   ...           ...           ...             ...   ...  ...  ...   \n",
      "244    1424   943       1573065        305497        37839100  1748  278  501   \n",
      "245    1424   944       1535291        296497        37014150  1728  278  500   \n",
      "246    1424   945       1531963        299389        37573767  1763  278  500   \n",
      "247    1424   946       1451888        271672        36534643  1622  277  500   \n",
      "248    1424   947        936340        153105        19364327   890  288  503   \n",
      "\n",
      "                         mask_fn  \n",
      "0    s_0698_fucci_merge_gray.tif  \n",
      "1    s_0699_fucci_merge_gray.tif  \n",
      "2    s_0700_fucci_merge_gray.tif  \n",
      "3    s_0701_fucci_merge_gray.tif  \n",
      "4    s_0702_fucci_merge_gray.tif  \n",
      "..                           ...  \n",
      "244  s_0944_fucci_merge_gray.tif  \n",
      "245  s_0945_fucci_merge_gray.tif  \n",
      "246  s_0946_fucci_merge_gray.tif  \n",
      "247  s_0947_fucci_merge_gray.tif  \n",
      "248  s_0948_fucci_merge_gray.tif  \n",
      "\n",
      "[249 rows x 9 columns]\n",
      "cell ID =  1427 progress bar below: (n/N frames):\n"
     ]
    },
    {
     "data": {
      "application/vnd.jupyter.widget-view+json": {
       "model_id": "710ee803e9e64e1e9a7eb136bb2ba580",
       "version_major": 2,
       "version_minor": 0
      },
      "text/plain": [
       "HBox(children=(FloatProgress(value=0.0, max=393.0), HTML(value='')))"
      ]
     },
     "metadata": {},
     "output_type": "display_data"
    },
    {
     "name": "stdout",
     "output_type": "stream",
     "text": [
      "\n",
      "    Cell ID Frame GFP Intensity RFP Intensity Phase Intensity  Area    x    y  \\\n",
      "0      1427   699        178800        179257        13897196   829  183  244   \n",
      "1      1427   700        175680        187830        13123939   863  185  246   \n",
      "2      1427   701        155641        166968        10591156   759  183  246   \n",
      "3      1427   702         88329        100247         6697869   437  185  249   \n",
      "4      1427   703        173684        194427        11684733   887  188  248   \n",
      "..      ...   ...           ...           ...             ...   ...  ...  ...   \n",
      "388    1427  1087        773375       1010234        16215588  1276  214  298   \n",
      "389    1427  1088        778589        910161        16558855  1268  214  297   \n",
      "390    1427  1089        774400       1014035        16534629  1271  216  298   \n",
      "391    1427  1090        788665        983502        17032266  1274  214  298   \n",
      "392    1427  1091        801897        977643        17898374  1284  215  297   \n",
      "\n",
      "                         mask_fn  \n",
      "0    s_0700_fucci_merge_gray.tif  \n",
      "1    s_0701_fucci_merge_gray.tif  \n",
      "2    s_0702_fucci_merge_gray.tif  \n",
      "3    s_0703_fucci_merge_gray.tif  \n",
      "4    s_0704_fucci_merge_gray.tif  \n",
      "..                           ...  \n",
      "388  s_1088_fucci_merge_gray.tif  \n",
      "389  s_1089_fucci_merge_gray.tif  \n",
      "390  s_1090_fucci_merge_gray.tif  \n",
      "391  s_1091_fucci_merge_gray.tif  \n",
      "392  s_1092_fucci_merge_gray.tif  \n",
      "\n",
      "[393 rows x 9 columns]\n",
      "cell ID =  1430 progress bar below: (n/N frames):\n"
     ]
    },
    {
     "data": {
      "application/vnd.jupyter.widget-view+json": {
       "model_id": "4a727eb9f33746a592fd7c477ad51968",
       "version_major": 2,
       "version_minor": 0
      },
      "text/plain": [
       "HBox(children=(FloatProgress(value=0.0, max=391.0), HTML(value='')))"
      ]
     },
     "metadata": {},
     "output_type": "display_data"
    },
    {
     "name": "stdout",
     "output_type": "stream",
     "text": [
      "\n",
      "    Cell ID Frame GFP Intensity RFP Intensity Phase Intensity  Area    x    y  \\\n",
      "0      1430   701         65415         81404         7376096   372  904  571   \n",
      "1      1430   702         96067        118801        10119420   555  907  572   \n",
      "2      1430   703        112417        131966        11091693   652  913  573   \n",
      "3      1430   704        116148        141677        12477747   677  911  573   \n",
      "4      1430   705        132289        156243        13568570   778  910  574   \n",
      "..      ...   ...           ...           ...             ...   ...  ...  ...   \n",
      "386    1430  1087        564873        814266        22388998  1324  891  556   \n",
      "387    1430  1088        556236        849330        21383189  1290  890  556   \n",
      "388    1430  1089        561885        828130        22117527  1320  891  557   \n",
      "389    1430  1090        563483        824779        22044154  1316  889  557   \n",
      "390    1430  1091        574505        861675        21914882  1347  891  556   \n",
      "\n",
      "                         mask_fn  \n",
      "0    s_0702_fucci_merge_gray.tif  \n",
      "1    s_0703_fucci_merge_gray.tif  \n",
      "2    s_0704_fucci_merge_gray.tif  \n",
      "3    s_0705_fucci_merge_gray.tif  \n",
      "4    s_0706_fucci_merge_gray.tif  \n",
      "..                           ...  \n",
      "386  s_1088_fucci_merge_gray.tif  \n",
      "387  s_1089_fucci_merge_gray.tif  \n",
      "388  s_1090_fucci_merge_gray.tif  \n",
      "389  s_1091_fucci_merge_gray.tif  \n",
      "390  s_1092_fucci_merge_gray.tif  \n",
      "\n",
      "[391 rows x 9 columns]\n",
      "cell ID =  1432 progress bar below: (n/N frames):\n"
     ]
    },
    {
     "data": {
      "application/vnd.jupyter.widget-view+json": {
       "model_id": "e9a0e0ddefdb4fe887a01d2227c7c25e",
       "version_major": 2,
       "version_minor": 0
      },
      "text/plain": [
       "HBox(children=(FloatProgress(value=0.0, max=391.0), HTML(value='')))"
      ]
     },
     "metadata": {},
     "output_type": "display_data"
    },
    {
     "name": "stdout",
     "output_type": "stream",
     "text": [
      "\n",
      "    Cell ID Frame GFP Intensity RFP Intensity Phase Intensity  Area    x    y  \\\n",
      "0      1432   701        125668        134626        12034531   702  344  613   \n",
      "1      1432   702         74080         81240         7031523   420  343  615   \n",
      "2      1432   703             0             0               0     0  342  616   \n",
      "3      1432   704         43565         49988         3847325   245  344  617   \n",
      "4      1432   705        139926        153553        12463849   791  342  616   \n",
      "..      ...   ...           ...           ...             ...   ...  ...  ...   \n",
      "386    1432  1087       1113850        174296        34946512  1419  333  600   \n",
      "387    1432  1088       1108586        170646        33273482  1393  332  600   \n",
      "388    1432  1089       1121372        173437        32669238  1415  334  599   \n",
      "389    1432  1090       1094053        166759        34201200  1360  332  599   \n",
      "390    1432  1091       1149785        176638        33961899  1438  333  600   \n",
      "\n",
      "                         mask_fn  \n",
      "0    s_0702_fucci_merge_gray.tif  \n",
      "1    s_0703_fucci_merge_gray.tif  \n",
      "2    s_0704_fucci_merge_gray.tif  \n",
      "3    s_0705_fucci_merge_gray.tif  \n",
      "4    s_0706_fucci_merge_gray.tif  \n",
      "..                           ...  \n",
      "386  s_1088_fucci_merge_gray.tif  \n",
      "387  s_1089_fucci_merge_gray.tif  \n",
      "388  s_1090_fucci_merge_gray.tif  \n",
      "389  s_1091_fucci_merge_gray.tif  \n",
      "390  s_1092_fucci_merge_gray.tif  \n",
      "\n",
      "[391 rows x 9 columns]\n",
      "cell ID =  1434 progress bar below: (n/N frames):\n"
     ]
    },
    {
     "data": {
      "application/vnd.jupyter.widget-view+json": {
       "model_id": "cc09b8577c3c4c0293198eb60dd6d022",
       "version_major": 2,
       "version_minor": 0
      },
      "text/plain": [
       "HBox(children=(FloatProgress(value=0.0, max=390.0), HTML(value='')))"
      ]
     },
     "metadata": {},
     "output_type": "display_data"
    },
    {
     "name": "stdout",
     "output_type": "stream",
     "text": [
      "\n",
      "    Cell ID Frame GFP Intensity RFP Intensity Phase Intensity  Area    x    y  \\\n",
      "0      1434   702         51588         64782         5836454   293  861  639   \n",
      "1      1434   703         86172        108013         9810871   481  862  638   \n",
      "2      1434   704        127450        161567        14631759   716  859  636   \n",
      "3      1434   705        107002        132729        12315182   594  857  637   \n",
      "4      1434   706        131495        158507        15020707   726  855  637   \n",
      "..      ...   ...           ...           ...             ...   ...  ...  ...   \n",
      "385    1434  1087        519823        755616        18766766  1434  863  613   \n",
      "386    1434  1088        539265        738495        19357359  1432  862  614   \n",
      "387    1434  1089        547580        790058        20494193  1455  862  615   \n",
      "388    1434  1090        529835        763795        19538747  1384  860  615   \n",
      "389    1434  1091        554611        784863        20034100  1431  862  616   \n",
      "\n",
      "                         mask_fn  \n",
      "0    s_0703_fucci_merge_gray.tif  \n",
      "1    s_0704_fucci_merge_gray.tif  \n",
      "2    s_0705_fucci_merge_gray.tif  \n",
      "3    s_0706_fucci_merge_gray.tif  \n",
      "4    s_0707_fucci_merge_gray.tif  \n",
      "..                           ...  \n",
      "385  s_1088_fucci_merge_gray.tif  \n",
      "386  s_1089_fucci_merge_gray.tif  \n",
      "387  s_1090_fucci_merge_gray.tif  \n",
      "388  s_1091_fucci_merge_gray.tif  \n",
      "389  s_1092_fucci_merge_gray.tif  \n",
      "\n",
      "[390 rows x 9 columns]\n",
      "cell ID =  1437 progress bar below: (n/N frames):\n"
     ]
    },
    {
     "data": {
      "application/vnd.jupyter.widget-view+json": {
       "model_id": "5837c5a199824f878a591de43e9f8405",
       "version_major": 2,
       "version_minor": 0
      },
      "text/plain": [
       "HBox(children=(FloatProgress(value=0.0, max=390.0), HTML(value='')))"
      ]
     },
     "metadata": {},
     "output_type": "display_data"
    },
    {
     "name": "stdout",
     "output_type": "stream",
     "text": [
      "\n",
      "    Cell ID Frame GFP Intensity RFP Intensity Phase Intensity  Area    x    y  \\\n",
      "0      1437   702        151275        180521        16999960   793  289  409   \n",
      "1      1437   703             0             0               0     0  289  409   \n",
      "2      1437   704        220354        253829        23588817  1119  294  407   \n",
      "3      1437   705        209216        242894        23759549  1069  293  406   \n",
      "4      1437   706             0             0               0     0  292  404   \n",
      "..      ...   ...           ...           ...             ...   ...  ...  ...   \n",
      "385    1437  1087       1436099        228144        52270692  1395  332  404   \n",
      "386    1437  1088       1446640        234786        52121288  1445  330  405   \n",
      "387    1437  1089       1468780        231821        54288083  1444  332  404   \n",
      "388    1437  1090       1501568        228826        53853157  1486  330  405   \n",
      "389    1437  1091       1497188        234899        54156126  1457  332  404   \n",
      "\n",
      "                         mask_fn  \n",
      "0    s_0703_fucci_merge_gray.tif  \n",
      "1    s_0704_fucci_merge_gray.tif  \n",
      "2    s_0705_fucci_merge_gray.tif  \n",
      "3    s_0706_fucci_merge_gray.tif  \n",
      "4    s_0707_fucci_merge_gray.tif  \n",
      "..                           ...  \n",
      "385  s_1088_fucci_merge_gray.tif  \n",
      "386  s_1089_fucci_merge_gray.tif  \n",
      "387  s_1090_fucci_merge_gray.tif  \n",
      "388  s_1091_fucci_merge_gray.tif  \n",
      "389  s_1092_fucci_merge_gray.tif  \n",
      "\n",
      "[390 rows x 9 columns]\n",
      "cell ID =  1446 progress bar below: (n/N frames):\n"
     ]
    },
    {
     "data": {
      "application/vnd.jupyter.widget-view+json": {
       "model_id": "9bafc350d7c84b1ab203db61e36d4a4c",
       "version_major": 2,
       "version_minor": 0
      },
      "text/plain": [
       "HBox(children=(FloatProgress(value=0.0, max=387.0), HTML(value='')))"
      ]
     },
     "metadata": {},
     "output_type": "display_data"
    },
    {
     "name": "stdout",
     "output_type": "stream",
     "text": [
      "\n",
      "    Cell ID Frame GFP Intensity RFP Intensity Phase Intensity  Area    x   y  \\\n",
      "0      1446   705         73885         71593         6607099   376  798   4   \n",
      "1      1446   706        100344         95223         8684458   497  796   6   \n",
      "2      1446   707        122426        114376        10087430   603  798   6   \n",
      "3      1446   708        146567        139787        11554680   714  796   7   \n",
      "4      1446   709        157641        151415        12786550   756  797   8   \n",
      "..      ...   ...           ...           ...             ...   ...  ...  ..   \n",
      "382    1446  1087        806006        121545        27165981  1048  781  16   \n",
      "383    1446  1088        796402        115362        26092840  1008  780  16   \n",
      "384    1446  1089        796678        112943        25147667  1007  782  16   \n",
      "385    1446  1090        814247        116569        26018495  1025  782  16   \n",
      "386    1446  1091        797295        110518        26410138   977  783  16   \n",
      "\n",
      "                         mask_fn  \n",
      "0    s_0706_fucci_merge_gray.tif  \n",
      "1    s_0707_fucci_merge_gray.tif  \n",
      "2    s_0708_fucci_merge_gray.tif  \n",
      "3    s_0709_fucci_merge_gray.tif  \n",
      "4    s_0710_fucci_merge_gray.tif  \n",
      "..                           ...  \n",
      "382  s_1088_fucci_merge_gray.tif  \n",
      "383  s_1089_fucci_merge_gray.tif  \n",
      "384  s_1090_fucci_merge_gray.tif  \n",
      "385  s_1091_fucci_merge_gray.tif  \n",
      "386  s_1092_fucci_merge_gray.tif  \n",
      "\n",
      "[387 rows x 9 columns]\n",
      "cell ID =  1447 progress bar below: (n/N frames):\n"
     ]
    },
    {
     "data": {
      "application/vnd.jupyter.widget-view+json": {
       "model_id": "833f5b86250647e287d2c585216e9fc4",
       "version_major": 2,
       "version_minor": 0
      },
      "text/plain": [
       "HBox(children=(FloatProgress(value=0.0, max=387.0), HTML(value='')))"
      ]
     },
     "metadata": {},
     "output_type": "display_data"
    },
    {
     "name": "stdout",
     "output_type": "stream",
     "text": [
      "\n",
      "    Cell ID Frame GFP Intensity RFP Intensity Phase Intensity  Area    x    y  \\\n",
      "0      1447   705        111709        122202        11036431   596  846   62   \n",
      "1      1447   706        166258        170983        16753556   837  843   63   \n",
      "2      1447   707             0             0               0     0  840   63   \n",
      "3      1447   708         94444        103183         9162905   463  839   63   \n",
      "4      1447   709         64741         76594         6623724   328  841   63   \n",
      "..      ...   ...           ...           ...             ...   ...  ...  ...   \n",
      "382    1447  1087        836954        194774        24349075  1366  851  105   \n",
      "383    1447  1088        876037        196040        25529914  1417  851  105   \n",
      "384    1447  1089        879445        190096        26395798  1394  853  106   \n",
      "385    1447  1090        882449        184939        24618388  1412  851  106   \n",
      "386    1447  1091        863165        180098        24716398  1387  852  107   \n",
      "\n",
      "                         mask_fn  \n",
      "0    s_0706_fucci_merge_gray.tif  \n",
      "1    s_0707_fucci_merge_gray.tif  \n",
      "2    s_0708_fucci_merge_gray.tif  \n",
      "3    s_0709_fucci_merge_gray.tif  \n",
      "4    s_0710_fucci_merge_gray.tif  \n",
      "..                           ...  \n",
      "382  s_1088_fucci_merge_gray.tif  \n",
      "383  s_1089_fucci_merge_gray.tif  \n",
      "384  s_1090_fucci_merge_gray.tif  \n",
      "385  s_1091_fucci_merge_gray.tif  \n",
      "386  s_1092_fucci_merge_gray.tif  \n",
      "\n",
      "[387 rows x 9 columns]\n",
      "cell ID =  1450 progress bar below: (n/N frames):\n"
     ]
    },
    {
     "data": {
      "application/vnd.jupyter.widget-view+json": {
       "model_id": "e87e37020838490f852b2e2beb26bdf1",
       "version_major": 2,
       "version_minor": 0
      },
      "text/plain": [
       "HBox(children=(FloatProgress(value=0.0, max=387.0), HTML(value='')))"
      ]
     },
     "metadata": {},
     "output_type": "display_data"
    },
    {
     "name": "stdout",
     "output_type": "stream",
     "text": [
      "\n",
      "    Cell ID Frame GFP Intensity RFP Intensity Phase Intensity  Area    x    y  \\\n",
      "0      1450   705        236295        252856        18440188  1261  152  200   \n",
      "1      1450   706             0             0               0     0  152  200   \n",
      "2      1450   707             0             0               0     0  152  200   \n",
      "3      1450   708        234932        260555        18054458  1268  150  200   \n",
      "4      1450   709             0             0               0     0  148  199   \n",
      "..      ...   ...           ...           ...             ...   ...  ...  ...   \n",
      "382    1450  1087       1088130        740612        15741466  1343  169  235   \n",
      "383    1450  1088       1059339        775424        16587314  1379  169  235   \n",
      "384    1450  1089       1052053        770377        16556708  1402  170  234   \n",
      "385    1450  1090       1048270        740951        16109115  1361  168  234   \n",
      "386    1450  1091       1046735        750375        16189024  1320  170  235   \n",
      "\n",
      "                         mask_fn  \n",
      "0    s_0706_fucci_merge_gray.tif  \n",
      "1    s_0707_fucci_merge_gray.tif  \n",
      "2    s_0708_fucci_merge_gray.tif  \n",
      "3    s_0709_fucci_merge_gray.tif  \n",
      "4    s_0710_fucci_merge_gray.tif  \n",
      "..                           ...  \n",
      "382  s_1088_fucci_merge_gray.tif  \n",
      "383  s_1089_fucci_merge_gray.tif  \n",
      "384  s_1090_fucci_merge_gray.tif  \n",
      "385  s_1091_fucci_merge_gray.tif  \n",
      "386  s_1092_fucci_merge_gray.tif  \n",
      "\n",
      "[387 rows x 9 columns]\n",
      "cell ID =  1452 progress bar below: (n/N frames):\n"
     ]
    },
    {
     "data": {
      "application/vnd.jupyter.widget-view+json": {
       "model_id": "75459b89a7844a0db4c463d7d623984b",
       "version_major": 2,
       "version_minor": 0
      },
      "text/plain": [
       "HBox(children=(FloatProgress(value=0.0, max=385.0), HTML(value='')))"
      ]
     },
     "metadata": {},
     "output_type": "display_data"
    },
    {
     "name": "stdout",
     "output_type": "stream",
     "text": [
      "\n",
      "    Cell ID Frame GFP Intensity RFP Intensity Phase Intensity  Area    x    y  \\\n",
      "0      1452   707        185371        242964        12700722  1104  580  845   \n",
      "1      1452   708        236509        302936        18235034  1431  577  845   \n",
      "2      1452   709        207509        275575        14296073  1244  577  844   \n",
      "3      1452   710        258371        331740        17895830  1550  577  844   \n",
      "4      1452   711        244657        319238        16622586  1466  576  844   \n",
      "..      ...   ...           ...           ...             ...   ...  ...  ...   \n",
      "380    1452  1087       1690984        336384        27370129  1794  611  860   \n",
      "381    1452  1088       1655537        304923        27196068  1749  609  861   \n",
      "382    1452  1089       1658205        309353        25332422  1771  610  860   \n",
      "383    1452  1090       1648001        297905        26234774  1737  608  861   \n",
      "384    1452  1091       1691392        297053        28611567  1797  609  860   \n",
      "\n",
      "                         mask_fn  \n",
      "0    s_0708_fucci_merge_gray.tif  \n",
      "1    s_0709_fucci_merge_gray.tif  \n",
      "2    s_0710_fucci_merge_gray.tif  \n",
      "3    s_0711_fucci_merge_gray.tif  \n",
      "4    s_0712_fucci_merge_gray.tif  \n",
      "..                           ...  \n",
      "380  s_1088_fucci_merge_gray.tif  \n",
      "381  s_1089_fucci_merge_gray.tif  \n",
      "382  s_1090_fucci_merge_gray.tif  \n",
      "383  s_1091_fucci_merge_gray.tif  \n",
      "384  s_1092_fucci_merge_gray.tif  \n",
      "\n",
      "[385 rows x 9 columns]\n",
      "cell ID =  1464 progress bar below: (n/N frames):\n"
     ]
    },
    {
     "data": {
      "application/vnd.jupyter.widget-view+json": {
       "model_id": "1a3036e55c9d4bec9a4d14dd4b37917c",
       "version_major": 2,
       "version_minor": 0
      },
      "text/plain": [
       "HBox(children=(FloatProgress(value=0.0, max=383.0), HTML(value='')))"
      ]
     },
     "metadata": {},
     "output_type": "display_data"
    },
    {
     "name": "stdout",
     "output_type": "stream",
     "text": [
      "\n",
      "    Cell ID Frame GFP Intensity RFP Intensity Phase Intensity  Area    x    y  \\\n",
      "0      1464   709        152943        181829        16353729   872  258  454   \n",
      "1      1464   710             0             0               0     0  258  454   \n",
      "2      1464   711             0             0               0     0  258  454   \n",
      "3      1464   712        108799        128538        12228407   619  255  457   \n",
      "4      1464   713             0             0               0     0  252  459   \n",
      "..      ...   ...           ...           ...             ...   ...  ...  ...   \n",
      "378    1464  1087       1226133        892146        40542532  1447  298  455   \n",
      "379    1464  1088       1259854        909216        41672430  1449  297  455   \n",
      "380    1464  1089       1261837        899508        41611361  1453  299  456   \n",
      "381    1464  1090       1265325        890996        40756726  1433  298  456   \n",
      "382    1464  1091       1288782        888343        43532520  1418  298  456   \n",
      "\n",
      "                         mask_fn  \n",
      "0    s_0710_fucci_merge_gray.tif  \n",
      "1    s_0711_fucci_merge_gray.tif  \n",
      "2    s_0712_fucci_merge_gray.tif  \n",
      "3    s_0713_fucci_merge_gray.tif  \n",
      "4    s_0714_fucci_merge_gray.tif  \n",
      "..                           ...  \n",
      "378  s_1088_fucci_merge_gray.tif  \n",
      "379  s_1089_fucci_merge_gray.tif  \n",
      "380  s_1090_fucci_merge_gray.tif  \n",
      "381  s_1091_fucci_merge_gray.tif  \n",
      "382  s_1092_fucci_merge_gray.tif  \n",
      "\n",
      "[383 rows x 9 columns]\n",
      "cell ID =  1466 progress bar below: (n/N frames):\n"
     ]
    },
    {
     "data": {
      "application/vnd.jupyter.widget-view+json": {
       "model_id": "bd642a37acbc444588dae2b54528a855",
       "version_major": 2,
       "version_minor": 0
      },
      "text/plain": [
       "HBox(children=(FloatProgress(value=0.0, max=382.0), HTML(value='')))"
      ]
     },
     "metadata": {},
     "output_type": "display_data"
    },
    {
     "name": "stdout",
     "output_type": "stream",
     "text": [
      "\n",
      "    Cell ID Frame GFP Intensity RFP Intensity Phase Intensity  Area    x    y  \\\n",
      "0      1466   710        222085        195321        21197305  1042  191  192   \n",
      "1      1466   711             0             0               0     0  191  192   \n",
      "2      1466   712        212151        194687        19379264  1009  186  190   \n",
      "3      1466   713        257146        226256        23180496  1203  191  191   \n",
      "4      1466   714        273374        250850        25422792  1307  190  189   \n",
      "..      ...   ...           ...           ...             ...   ...  ...  ...   \n",
      "377    1466  1087       1257774        194116        22183868  1637  200  190   \n",
      "378    1466  1088       1275568        195697        22324074  1662  200  190   \n",
      "379    1466  1089       1297594        195362        20446235  1676  201  190   \n",
      "380    1466  1090       1278508        195988        23378776  1667  199  190   \n",
      "381    1466  1091       1298757        193578        22634376  1652  200  190   \n",
      "\n",
      "                         mask_fn  \n",
      "0    s_0711_fucci_merge_gray.tif  \n",
      "1    s_0712_fucci_merge_gray.tif  \n",
      "2    s_0713_fucci_merge_gray.tif  \n",
      "3    s_0714_fucci_merge_gray.tif  \n",
      "4    s_0715_fucci_merge_gray.tif  \n",
      "..                           ...  \n",
      "377  s_1088_fucci_merge_gray.tif  \n",
      "378  s_1089_fucci_merge_gray.tif  \n",
      "379  s_1090_fucci_merge_gray.tif  \n",
      "380  s_1091_fucci_merge_gray.tif  \n",
      "381  s_1092_fucci_merge_gray.tif  \n",
      "\n",
      "[382 rows x 9 columns]\n",
      "cell ID =  1468 progress bar below: (n/N frames):\n"
     ]
    },
    {
     "data": {
      "application/vnd.jupyter.widget-view+json": {
       "model_id": "a0d64f7259b644bcb22bf976aba6145a",
       "version_major": 2,
       "version_minor": 0
      },
      "text/plain": [
       "HBox(children=(FloatProgress(value=0.0, max=382.0), HTML(value='')))"
      ]
     },
     "metadata": {},
     "output_type": "display_data"
    },
    {
     "name": "stdout",
     "output_type": "stream",
     "text": [
      "\n",
      "    Cell ID Frame GFP Intensity RFP Intensity Phase Intensity  Area    x   y  \\\n",
      "0      1468   710         99948        114361        10236306   590  393  42   \n",
      "1      1468   711             0             0               0     0  393  42   \n",
      "2      1468   712             0             0               0     0  393  42   \n",
      "3      1468   713         92664        106774         9282163   539  390  47   \n",
      "4      1468   714             0             0               0     0  387  51   \n",
      "..      ...   ...           ...           ...             ...   ...  ...  ..   \n",
      "377    1468  1087       1030959        178772        22331262  1527  368  86   \n",
      "378    1468  1088       1040472        174783        21857871  1522  367  86   \n",
      "379    1468  1089       1050983        175768        19555993  1517  369  87   \n",
      "380    1468  1090       1030062        168099        20568670  1464  368  88   \n",
      "381    1468  1091       1048168        171420        22142596  1488  369  87   \n",
      "\n",
      "                         mask_fn  \n",
      "0    s_0711_fucci_merge_gray.tif  \n",
      "1    s_0712_fucci_merge_gray.tif  \n",
      "2    s_0713_fucci_merge_gray.tif  \n",
      "3    s_0714_fucci_merge_gray.tif  \n",
      "4    s_0715_fucci_merge_gray.tif  \n",
      "..                           ...  \n",
      "377  s_1088_fucci_merge_gray.tif  \n",
      "378  s_1089_fucci_merge_gray.tif  \n",
      "379  s_1090_fucci_merge_gray.tif  \n",
      "380  s_1091_fucci_merge_gray.tif  \n",
      "381  s_1092_fucci_merge_gray.tif  \n",
      "\n",
      "[382 rows x 9 columns]\n",
      "cell ID =  1470 progress bar below: (n/N frames):\n"
     ]
    },
    {
     "data": {
      "application/vnd.jupyter.widget-view+json": {
       "model_id": "0d942ea081df41078db92162e8d974c3",
       "version_major": 2,
       "version_minor": 0
      },
      "text/plain": [
       "HBox(children=(FloatProgress(value=0.0, max=381.0), HTML(value='')))"
      ]
     },
     "metadata": {},
     "output_type": "display_data"
    },
    {
     "name": "stdout",
     "output_type": "stream",
     "text": [
      "\n",
      "    Cell ID Frame GFP Intensity RFP Intensity Phase Intensity  Area    x    y  \\\n",
      "0      1470   711        153341        169113        14777160   725  854  103   \n",
      "1      1470   712        184967        197836        17667149   873  849  103   \n",
      "2      1470   713        185144        203268        19735037   893  852  103   \n",
      "3      1470   714        194708        212196        20250370   929  850  103   \n",
      "4      1470   715        189029        216157        19917804   900  851  103   \n",
      "..      ...   ...           ...           ...             ...   ...  ...  ...   \n",
      "376    1470  1087        439292        788959        25340081  1375  873  161   \n",
      "377    1470  1088        429061        736140        25511893  1349  872  162   \n",
      "378    1470  1089        438158        831630        25532549  1369  873  162   \n",
      "379    1470  1090        434689        826929        24539988  1351  872  162   \n",
      "380    1470  1091        444464        829781        25334460  1374  873  161   \n",
      "\n",
      "                         mask_fn  \n",
      "0    s_0712_fucci_merge_gray.tif  \n",
      "1    s_0713_fucci_merge_gray.tif  \n",
      "2    s_0714_fucci_merge_gray.tif  \n",
      "3    s_0715_fucci_merge_gray.tif  \n",
      "4    s_0716_fucci_merge_gray.tif  \n",
      "..                           ...  \n",
      "376  s_1088_fucci_merge_gray.tif  \n",
      "377  s_1089_fucci_merge_gray.tif  \n",
      "378  s_1090_fucci_merge_gray.tif  \n",
      "379  s_1091_fucci_merge_gray.tif  \n",
      "380  s_1092_fucci_merge_gray.tif  \n",
      "\n",
      "[381 rows x 9 columns]\n",
      "cell ID =  1473 progress bar below: (n/N frames):\n"
     ]
    },
    {
     "data": {
      "application/vnd.jupyter.widget-view+json": {
       "model_id": "965b5d244dc749e7869b27ab63ae1dd8",
       "version_major": 2,
       "version_minor": 0
      },
      "text/plain": [
       "HBox(children=(FloatProgress(value=0.0, max=379.0), HTML(value='')))"
      ]
     },
     "metadata": {},
     "output_type": "display_data"
    },
    {
     "name": "stdout",
     "output_type": "stream",
     "text": [
      "\n",
      "    Cell ID Frame GFP Intensity RFP Intensity Phase Intensity  Area   x    y  \\\n",
      "0      1473   713        220120        282543        25387502  1300  68  763   \n",
      "1      1473   714        254007        316925        34270770  1452  67  762   \n",
      "2      1473   715        126343        172563        17243689   699  66  756   \n",
      "3      1473   716        263007        341358        31818399  1526  69  763   \n",
      "4      1473   717        203609        265383        26340874  1165  69  760   \n",
      "..      ...   ...           ...           ...             ...   ...  ..  ...   \n",
      "374    1473  1087        691318        956999        33129802  1597  39  775   \n",
      "375    1473  1088        669662        967868        32213476  1487  39  776   \n",
      "376    1473  1089        691397        958635        29660950  1543  41  776   \n",
      "377    1473  1090        701626        967622        32406537  1530  39  777   \n",
      "378    1473  1091        715318        999503        31804669  1565  41  778   \n",
      "\n",
      "                         mask_fn  \n",
      "0    s_0714_fucci_merge_gray.tif  \n",
      "1    s_0715_fucci_merge_gray.tif  \n",
      "2    s_0716_fucci_merge_gray.tif  \n",
      "3    s_0717_fucci_merge_gray.tif  \n",
      "4    s_0718_fucci_merge_gray.tif  \n",
      "..                           ...  \n",
      "374  s_1088_fucci_merge_gray.tif  \n",
      "375  s_1089_fucci_merge_gray.tif  \n",
      "376  s_1090_fucci_merge_gray.tif  \n",
      "377  s_1091_fucci_merge_gray.tif  \n",
      "378  s_1092_fucci_merge_gray.tif  \n",
      "\n",
      "[379 rows x 9 columns]\n",
      "cell ID =  1483 progress bar below: (n/N frames):\n"
     ]
    },
    {
     "data": {
      "application/vnd.jupyter.widget-view+json": {
       "model_id": "38dbd14147564b1daec6f8fc87f701ff",
       "version_major": 2,
       "version_minor": 0
      },
      "text/plain": [
       "HBox(children=(FloatProgress(value=0.0, max=376.0), HTML(value='')))"
      ]
     },
     "metadata": {},
     "output_type": "display_data"
    },
    {
     "name": "stdout",
     "output_type": "stream",
     "text": [
      "\n",
      "    Cell ID Frame GFP Intensity RFP Intensity Phase Intensity  Area    x    y  \\\n",
      "0      1483   716        146723        137524        11160220   616  346  257   \n",
      "1      1483   717             0             0               0     0  346  257   \n",
      "2      1483   718             0             0               0     0  346  257   \n",
      "3      1483   719        181785        175148        13432307   772  345  258   \n",
      "4      1483   720        154194        161978        11433870   688  346  258   \n",
      "..      ...   ...           ...           ...             ...   ...  ...  ...   \n",
      "371    1483  1087        931883       1169089        30788135  1313  330  276   \n",
      "372    1483  1088        911807       1167426        29739249  1296  329  276   \n",
      "373    1483  1089        942192       1209729        32413608  1306  331  276   \n",
      "374    1483  1090        927888       1221878        30504195  1303  329  277   \n",
      "375    1483  1091        943170       1201946        30868945  1290  330  277   \n",
      "\n",
      "                         mask_fn  \n",
      "0    s_0717_fucci_merge_gray.tif  \n",
      "1    s_0718_fucci_merge_gray.tif  \n",
      "2    s_0719_fucci_merge_gray.tif  \n",
      "3    s_0720_fucci_merge_gray.tif  \n",
      "4    s_0721_fucci_merge_gray.tif  \n",
      "..                           ...  \n",
      "371  s_1088_fucci_merge_gray.tif  \n",
      "372  s_1089_fucci_merge_gray.tif  \n",
      "373  s_1090_fucci_merge_gray.tif  \n",
      "374  s_1091_fucci_merge_gray.tif  \n",
      "375  s_1092_fucci_merge_gray.tif  \n",
      "\n",
      "[376 rows x 9 columns]\n",
      "cell ID =  1484 progress bar below: (n/N frames):\n"
     ]
    },
    {
     "data": {
      "application/vnd.jupyter.widget-view+json": {
       "model_id": "43ad3990436842ce9ffc98541b50c196",
       "version_major": 2,
       "version_minor": 0
      },
      "text/plain": [
       "HBox(children=(FloatProgress(value=0.0, max=376.0), HTML(value='')))"
      ]
     },
     "metadata": {},
     "output_type": "display_data"
    },
    {
     "name": "stdout",
     "output_type": "stream",
     "text": [
      "\n",
      "    Cell ID Frame GFP Intensity RFP Intensity Phase Intensity  Area    x    y  \\\n",
      "0      1484   716        229332        222736        18357183  1220  287  209   \n",
      "1      1484   717             0             0               0     0  287  209   \n",
      "2      1484   718             0             0               0     0  287  209   \n",
      "3      1484   719        249446        247792        20072199  1337  287  209   \n",
      "4      1484   720        255592        264546        20893193  1400  287  209   \n",
      "..      ...   ...           ...           ...             ...   ...  ...  ...   \n",
      "371    1484  1087        700238       1011390        31121047  1463  288  254   \n",
      "372    1484  1088        685181       1043818        30887886  1443  287  254   \n",
      "373    1484  1089        700845       1047771        31439356  1448  288  255   \n",
      "374    1484  1090        707026       1055057        31297304  1434  287  255   \n",
      "375    1484  1091        714285       1060114        30868286  1441  288  254   \n",
      "\n",
      "                         mask_fn  \n",
      "0    s_0717_fucci_merge_gray.tif  \n",
      "1    s_0718_fucci_merge_gray.tif  \n",
      "2    s_0719_fucci_merge_gray.tif  \n",
      "3    s_0720_fucci_merge_gray.tif  \n",
      "4    s_0721_fucci_merge_gray.tif  \n",
      "..                           ...  \n",
      "371  s_1088_fucci_merge_gray.tif  \n",
      "372  s_1089_fucci_merge_gray.tif  \n",
      "373  s_1090_fucci_merge_gray.tif  \n",
      "374  s_1091_fucci_merge_gray.tif  \n",
      "375  s_1092_fucci_merge_gray.tif  \n",
      "\n",
      "[376 rows x 9 columns]\n",
      "cell ID =  1490 progress bar below: (n/N frames):\n"
     ]
    },
    {
     "data": {
      "application/vnd.jupyter.widget-view+json": {
       "model_id": "ef357859a8fc4e2c8b96c66bd163224f",
       "version_major": 2,
       "version_minor": 0
      },
      "text/plain": [
       "HBox(children=(FloatProgress(value=0.0, max=373.0), HTML(value='')))"
      ]
     },
     "metadata": {},
     "output_type": "display_data"
    },
    {
     "name": "stdout",
     "output_type": "stream",
     "text": [
      "\n",
      "    Cell ID Frame GFP Intensity RFP Intensity Phase Intensity  Area    x    y  \\\n",
      "0      1490   719        146646        150913        11923774   814  600  122   \n",
      "1      1490   720             0             0               0     0  600  122   \n",
      "2      1490   721             0             0               0     0  600  122   \n",
      "3      1490   722        107124        125804         8440217   571  596  114   \n",
      "4      1490   723         84401         97402         6732250   439  595  113   \n",
      "..      ...   ...           ...           ...             ...   ...  ...  ...   \n",
      "368    1490  1087       1746881        205316        19247901  1824  563  192   \n",
      "369    1490  1088       1758899        201676        19204862  1797  563  192   \n",
      "370    1490  1089       1724624        199952        18339765  1796  565  191   \n",
      "371    1490  1090       1769514        205284        19590547  1841  565  191   \n",
      "372    1490  1091       1746988        203601        19355707  1823  565  192   \n",
      "\n",
      "                         mask_fn  \n",
      "0    s_0720_fucci_merge_gray.tif  \n",
      "1    s_0721_fucci_merge_gray.tif  \n",
      "2    s_0722_fucci_merge_gray.tif  \n",
      "3    s_0723_fucci_merge_gray.tif  \n",
      "4    s_0724_fucci_merge_gray.tif  \n",
      "..                           ...  \n",
      "368  s_1088_fucci_merge_gray.tif  \n",
      "369  s_1089_fucci_merge_gray.tif  \n",
      "370  s_1090_fucci_merge_gray.tif  \n",
      "371  s_1091_fucci_merge_gray.tif  \n",
      "372  s_1092_fucci_merge_gray.tif  \n",
      "\n",
      "[373 rows x 9 columns]\n",
      "cell ID =  1494 progress bar below: (n/N frames):\n"
     ]
    },
    {
     "data": {
      "application/vnd.jupyter.widget-view+json": {
       "model_id": "879e79ef7c8e406080f047a57e01be5b",
       "version_major": 2,
       "version_minor": 0
      },
      "text/plain": [
       "HBox(children=(FloatProgress(value=0.0, max=372.0), HTML(value='')))"
      ]
     },
     "metadata": {},
     "output_type": "display_data"
    },
    {
     "name": "stdout",
     "output_type": "stream",
     "text": [
      "\n",
      "    Cell ID Frame GFP Intensity RFP Intensity Phase Intensity  Area    x    y  \\\n",
      "0      1494   720        132079        182355        11974468   753  173  763   \n",
      "1      1494   721        149400        199352        13911763   844  173  761   \n",
      "2      1494   722        181678        224910        15663461   979  174  760   \n",
      "3      1494   723        187574        233652        16665263  1033  172  760   \n",
      "4      1494   724        153437        192267        12624765   818  173  760   \n",
      "..      ...   ...           ...           ...             ...   ...  ...  ...   \n",
      "367    1494  1087       1282547        203589        25317737  1752  163  708   \n",
      "368    1494  1088       1235688        191360        23803826  1650  163  709   \n",
      "369    1494  1089       1225509        184038        24684724  1608  165  709   \n",
      "370    1494  1090       1238657        182037        22801610  1584  164  710   \n",
      "371    1494  1091       1322721        201951        23835762  1750  165  711   \n",
      "\n",
      "                         mask_fn  \n",
      "0    s_0721_fucci_merge_gray.tif  \n",
      "1    s_0722_fucci_merge_gray.tif  \n",
      "2    s_0723_fucci_merge_gray.tif  \n",
      "3    s_0724_fucci_merge_gray.tif  \n",
      "4    s_0725_fucci_merge_gray.tif  \n",
      "..                           ...  \n",
      "367  s_1088_fucci_merge_gray.tif  \n",
      "368  s_1089_fucci_merge_gray.tif  \n",
      "369  s_1090_fucci_merge_gray.tif  \n",
      "370  s_1091_fucci_merge_gray.tif  \n",
      "371  s_1092_fucci_merge_gray.tif  \n",
      "\n",
      "[372 rows x 9 columns]\n",
      "cell ID =  1505 progress bar below: (n/N frames):\n"
     ]
    },
    {
     "data": {
      "application/vnd.jupyter.widget-view+json": {
       "model_id": "386d8ab40a7944a88701e0d935f70d3b",
       "version_major": 2,
       "version_minor": 0
      },
      "text/plain": [
       "HBox(children=(FloatProgress(value=0.0, max=228.0), HTML(value='')))"
      ]
     },
     "metadata": {},
     "output_type": "display_data"
    },
    {
     "name": "stdout",
     "output_type": "stream",
     "text": [
      "\n",
      "    Cell ID Frame GFP Intensity RFP Intensity Phase Intensity  Area    x    y  \\\n",
      "0      1505   723        243298        321105        19114838  1409  681  812   \n",
      "1      1505   724        288380        369462        22782831  1631  678  810   \n",
      "2      1505   725             0             0               0     0  675  808   \n",
      "3      1505   726        253150        334229        19264094  1412  673  810   \n",
      "4      1505   727        278885        365214        20838844  1536  670  810   \n",
      "..      ...   ...           ...           ...             ...   ...  ...  ...   \n",
      "223    1505   946        201383        434113        15985337   607  701  844   \n",
      "224    1505   947             0             0               0     0  699  841   \n",
      "225    1505   948             0             0               0     0  697  838   \n",
      "226    1505   949             0             0               0     0  696  836   \n",
      "227    1505   950        133328        200208        13808220   341  666  843   \n",
      "\n",
      "                         mask_fn  \n",
      "0    s_0724_fucci_merge_gray.tif  \n",
      "1    s_0725_fucci_merge_gray.tif  \n",
      "2    s_0726_fucci_merge_gray.tif  \n",
      "3    s_0727_fucci_merge_gray.tif  \n",
      "4    s_0728_fucci_merge_gray.tif  \n",
      "..                           ...  \n",
      "223  s_0947_fucci_merge_gray.tif  \n",
      "224  s_0948_fucci_merge_gray.tif  \n",
      "225  s_0949_fucci_merge_gray.tif  \n",
      "226  s_0950_fucci_merge_gray.tif  \n",
      "227  s_0951_fucci_merge_gray.tif  \n",
      "\n",
      "[228 rows x 9 columns]\n",
      "cell ID =  1515 progress bar below: (n/N frames):\n"
     ]
    },
    {
     "data": {
      "application/vnd.jupyter.widget-view+json": {
       "model_id": "98219b2bac9f404eafa80e763dc57bed",
       "version_major": 2,
       "version_minor": 0
      },
      "text/plain": [
       "HBox(children=(FloatProgress(value=0.0, max=366.0), HTML(value='')))"
      ]
     },
     "metadata": {},
     "output_type": "display_data"
    },
    {
     "name": "stdout",
     "output_type": "stream",
     "text": [
      "\n",
      "    Cell ID Frame GFP Intensity RFP Intensity Phase Intensity  Area    x    y  \\\n",
      "0      1515   726        115429        133167         9256647   724  127  357   \n",
      "1      1515   727        147575        165967        10506083   923  126  358   \n",
      "2      1515   728        146731        176192        11641700   937  128  358   \n",
      "3      1515   729        145816        173863        11099328   929  129  357   \n",
      "4      1515   730        166140        191585        12578252  1051  130  360   \n",
      "..      ...   ...           ...           ...             ...   ...  ...  ...   \n",
      "361    1515  1087        510208       1194738        13007988  1553  175  402   \n",
      "362    1515  1088        499659       1220034        11586561  1566  175  402   \n",
      "363    1515  1089        497710       1224012        13737256  1551  175  403   \n",
      "364    1515  1090        502165       1282569        11722668  1551  174  403   \n",
      "365    1515  1091        508280       1216237        11244975  1558  175  404   \n",
      "\n",
      "                         mask_fn  \n",
      "0    s_0727_fucci_merge_gray.tif  \n",
      "1    s_0728_fucci_merge_gray.tif  \n",
      "2    s_0729_fucci_merge_gray.tif  \n",
      "3    s_0730_fucci_merge_gray.tif  \n",
      "4    s_0731_fucci_merge_gray.tif  \n",
      "..                           ...  \n",
      "361  s_1088_fucci_merge_gray.tif  \n",
      "362  s_1089_fucci_merge_gray.tif  \n",
      "363  s_1090_fucci_merge_gray.tif  \n",
      "364  s_1091_fucci_merge_gray.tif  \n",
      "365  s_1092_fucci_merge_gray.tif  \n",
      "\n",
      "[366 rows x 9 columns]\n",
      "cell ID =  1534 progress bar below: (n/N frames):\n"
     ]
    },
    {
     "data": {
      "application/vnd.jupyter.widget-view+json": {
       "model_id": "67e9d53a36994b8db94737145d159b57",
       "version_major": 2,
       "version_minor": 0
      },
      "text/plain": [
       "HBox(children=(FloatProgress(value=0.0, max=358.0), HTML(value='')))"
      ]
     },
     "metadata": {},
     "output_type": "display_data"
    },
    {
     "name": "stdout",
     "output_type": "stream",
     "text": [
      "\n",
      "    Cell ID Frame GFP Intensity RFP Intensity Phase Intensity  Area    x    y  \\\n",
      "0      1534   734        107726        125001        10295637   603  358  651   \n",
      "1      1534   735        155267        177454        14415006   896  358  652   \n",
      "2      1534   736        178101        197133        16728519  1009  357  654   \n",
      "3      1534   737        137460        160331        13042034   770  357  651   \n",
      "4      1534   738        117385        141233        10588121   668  356  652   \n",
      "..      ...   ...           ...           ...             ...   ...  ...  ...   \n",
      "353    1534  1087        755992       1508858        20642158  1555  350  677   \n",
      "354    1534  1088        745339       1457225        19714632  1561  350  677   \n",
      "355    1534  1089        733564       1504452        22165541  1562  351  678   \n",
      "356    1534  1090        750572       1506252        19401290  1515  349  678   \n",
      "357    1534  1091        758398       1430109        19555432  1511  349  678   \n",
      "\n",
      "                         mask_fn  \n",
      "0    s_0735_fucci_merge_gray.tif  \n",
      "1    s_0736_fucci_merge_gray.tif  \n",
      "2    s_0737_fucci_merge_gray.tif  \n",
      "3    s_0738_fucci_merge_gray.tif  \n",
      "4    s_0739_fucci_merge_gray.tif  \n",
      "..                           ...  \n",
      "353  s_1088_fucci_merge_gray.tif  \n",
      "354  s_1089_fucci_merge_gray.tif  \n",
      "355  s_1090_fucci_merge_gray.tif  \n",
      "356  s_1091_fucci_merge_gray.tif  \n",
      "357  s_1092_fucci_merge_gray.tif  \n",
      "\n",
      "[358 rows x 9 columns]\n",
      "cell ID =  1541 progress bar below: (n/N frames):\n"
     ]
    },
    {
     "data": {
      "application/vnd.jupyter.widget-view+json": {
       "model_id": "af34f763f3064007b040d58729d3ba9c",
       "version_major": 2,
       "version_minor": 0
      },
      "text/plain": [
       "HBox(children=(FloatProgress(value=0.0, max=356.0), HTML(value='')))"
      ]
     },
     "metadata": {},
     "output_type": "display_data"
    },
    {
     "name": "stdout",
     "output_type": "stream",
     "text": [
      "\n",
      "    Cell ID Frame GFP Intensity RFP Intensity Phase Intensity  Area    x    y  \\\n",
      "0      1541   736        189617        219057        14005160  1051  238  188   \n",
      "1      1541   737        231030        259168        16990924  1262  238  190   \n",
      "2      1541   738        144885        169220        10570243   777  238  188   \n",
      "3      1541   739             0             0               0     0  237  186   \n",
      "4      1541   740        146342        170835        11224567   774  238  193   \n",
      "..      ...   ...           ...           ...             ...   ...  ...  ...   \n",
      "351    1541  1087       1414596        195927        40039558  1537  240  216   \n",
      "352    1541  1088       1459528        212722        42131059  1646  240  216   \n",
      "353    1541  1089       1440707        202530        41106278  1602  241  215   \n",
      "354    1541  1090       1469643        203885        42889275  1628  240  215   \n",
      "355    1541  1091       1479970        205314        40619229  1626  241  214   \n",
      "\n",
      "                         mask_fn  \n",
      "0    s_0737_fucci_merge_gray.tif  \n",
      "1    s_0738_fucci_merge_gray.tif  \n",
      "2    s_0739_fucci_merge_gray.tif  \n",
      "3    s_0740_fucci_merge_gray.tif  \n",
      "4    s_0741_fucci_merge_gray.tif  \n",
      "..                           ...  \n",
      "351  s_1088_fucci_merge_gray.tif  \n",
      "352  s_1089_fucci_merge_gray.tif  \n",
      "353  s_1090_fucci_merge_gray.tif  \n",
      "354  s_1091_fucci_merge_gray.tif  \n",
      "355  s_1092_fucci_merge_gray.tif  \n",
      "\n",
      "[356 rows x 9 columns]\n",
      "cell ID =  1544 progress bar below: (n/N frames):\n"
     ]
    },
    {
     "data": {
      "application/vnd.jupyter.widget-view+json": {
       "model_id": "1f9f7ab4ac5043dba0d2ac524d70bb89",
       "version_major": 2,
       "version_minor": 0
      },
      "text/plain": [
       "HBox(children=(FloatProgress(value=0.0, max=355.0), HTML(value='')))"
      ]
     },
     "metadata": {},
     "output_type": "display_data"
    },
    {
     "name": "stdout",
     "output_type": "stream",
     "text": [
      "\n",
      "    Cell ID Frame GFP Intensity RFP Intensity Phase Intensity  Area    x   y  \\\n",
      "0      1544   737         10624         12016         1141419    59  364   3   \n",
      "1      1544   738         11116         13817         1180828    61  363   2   \n",
      "2      1544   739          9685         11597         1085868    54  365   3   \n",
      "3      1544   740          9632         11450         1071438    53  363   2   \n",
      "4      1544   741         10054         11945         1133388    55  363   2   \n",
      "..      ...   ...           ...           ...             ...   ...  ...  ..   \n",
      "350    1544  1087        881265        175045        29610367  1473  351  19   \n",
      "351    1544  1088        912754        175891        29709541  1506  351  19   \n",
      "352    1544  1089        910974        170525        30679916  1485  352  19   \n",
      "353    1544  1090        929944        174918        28658898  1504  352  20   \n",
      "354    1544  1091        927336        172398        29195007  1492  353  20   \n",
      "\n",
      "                         mask_fn  \n",
      "0    s_0738_fucci_merge_gray.tif  \n",
      "1    s_0739_fucci_merge_gray.tif  \n",
      "2    s_0740_fucci_merge_gray.tif  \n",
      "3    s_0741_fucci_merge_gray.tif  \n",
      "4    s_0742_fucci_merge_gray.tif  \n",
      "..                           ...  \n",
      "350  s_1088_fucci_merge_gray.tif  \n",
      "351  s_1089_fucci_merge_gray.tif  \n",
      "352  s_1090_fucci_merge_gray.tif  \n",
      "353  s_1091_fucci_merge_gray.tif  \n",
      "354  s_1092_fucci_merge_gray.tif  \n",
      "\n",
      "[355 rows x 9 columns]\n",
      "cell ID =  1545 progress bar below: (n/N frames):\n"
     ]
    },
    {
     "data": {
      "application/vnd.jupyter.widget-view+json": {
       "model_id": "30b19198b282401ea2bf9b829c0677e6",
       "version_major": 2,
       "version_minor": 0
      },
      "text/plain": [
       "HBox(children=(FloatProgress(value=0.0, max=354.0), HTML(value='')))"
      ]
     },
     "metadata": {},
     "output_type": "display_data"
    },
    {
     "name": "stdout",
     "output_type": "stream",
     "text": [
      "\n",
      "    Cell ID Frame GFP Intensity RFP Intensity Phase Intensity  Area    x    y  \\\n",
      "0      1545   738        144212        157939        13729751   815  643  123   \n",
      "1      1545   739             0             0               0     0  643  123   \n",
      "2      1545   740        153143        161331        14216346   846  643  125   \n",
      "3      1545   741        167126        177725        15580935   922  643  124   \n",
      "4      1545   742        136414        146705        13076048   746  643  125   \n",
      "..      ...   ...           ...           ...             ...   ...  ...  ...   \n",
      "349    1545  1087        776480        867554        16786482  1457  612  176   \n",
      "350    1545  1088        775048        816051        16150964  1423  611  176   \n",
      "351    1545  1089        775582        875569        14935699  1410  613  178   \n",
      "352    1545  1090        803637        856555        17119003  1446  612  176   \n",
      "353    1545  1091        805765        880529        16920669  1454  613  177   \n",
      "\n",
      "                         mask_fn  \n",
      "0    s_0739_fucci_merge_gray.tif  \n",
      "1    s_0740_fucci_merge_gray.tif  \n",
      "2    s_0741_fucci_merge_gray.tif  \n",
      "3    s_0742_fucci_merge_gray.tif  \n",
      "4    s_0743_fucci_merge_gray.tif  \n",
      "..                           ...  \n",
      "349  s_1088_fucci_merge_gray.tif  \n",
      "350  s_1089_fucci_merge_gray.tif  \n",
      "351  s_1090_fucci_merge_gray.tif  \n",
      "352  s_1091_fucci_merge_gray.tif  \n",
      "353  s_1092_fucci_merge_gray.tif  \n",
      "\n",
      "[354 rows x 9 columns]\n",
      "cell ID =  1546 progress bar below: (n/N frames):\n"
     ]
    },
    {
     "data": {
      "application/vnd.jupyter.widget-view+json": {
       "model_id": "234ab81f29924b4d8b6f2d892a82792a",
       "version_major": 2,
       "version_minor": 0
      },
      "text/plain": [
       "HBox(children=(FloatProgress(value=0.0, max=354.0), HTML(value='')))"
      ]
     },
     "metadata": {},
     "output_type": "display_data"
    },
    {
     "name": "stdout",
     "output_type": "stream",
     "text": [
      "\n",
      "    Cell ID Frame GFP Intensity RFP Intensity Phase Intensity  Area    x   y  \\\n",
      "0      1546   738         85753         90657        10076002   536  649  10   \n",
      "1      1546   739         87531         91708        10578010   539  652  10   \n",
      "2      1546   740         84559         87083        10018987   521  652  10   \n",
      "3      1546   741         76019         81870         9227202   472  652   9   \n",
      "4      1546   742         84504         90539         9915462   517  650  11   \n",
      "..      ...   ...           ...           ...             ...   ...  ...  ..   \n",
      "349    1546  1087        916407        145787        23623051  1280  658  49   \n",
      "350    1546  1088        942286        142759        23985379  1272  658  48   \n",
      "351    1546  1089        963657        142452        26118769  1287  661  48   \n",
      "352    1546  1090        980920        147851        22926418  1324  659  49   \n",
      "353    1546  1091        980266        145293        25206177  1299  660  50   \n",
      "\n",
      "                         mask_fn  \n",
      "0    s_0739_fucci_merge_gray.tif  \n",
      "1    s_0740_fucci_merge_gray.tif  \n",
      "2    s_0741_fucci_merge_gray.tif  \n",
      "3    s_0742_fucci_merge_gray.tif  \n",
      "4    s_0743_fucci_merge_gray.tif  \n",
      "..                           ...  \n",
      "349  s_1088_fucci_merge_gray.tif  \n",
      "350  s_1089_fucci_merge_gray.tif  \n",
      "351  s_1090_fucci_merge_gray.tif  \n",
      "352  s_1091_fucci_merge_gray.tif  \n",
      "353  s_1092_fucci_merge_gray.tif  \n",
      "\n",
      "[354 rows x 9 columns]\n",
      "cell ID =  1556 progress bar below: (n/N frames):\n"
     ]
    },
    {
     "data": {
      "application/vnd.jupyter.widget-view+json": {
       "model_id": "567eb4e7a45549a6bf1c615667b5c482",
       "version_major": 2,
       "version_minor": 0
      },
      "text/plain": [
       "HBox(children=(FloatProgress(value=0.0, max=349.0), HTML(value='')))"
      ]
     },
     "metadata": {},
     "output_type": "display_data"
    },
    {
     "name": "stdout",
     "output_type": "stream",
     "text": [
      "\n",
      "    Cell ID Frame GFP Intensity RFP Intensity Phase Intensity  Area    x    y  \\\n",
      "0      1556   743        122506        161082        14135418   687  772  677   \n",
      "1      1556   744        111034        147356        13168614   627  768  676   \n",
      "2      1556   745        134930        174647        16674605   760  771  679   \n",
      "3      1556   746        155053        201450        17864381   878  770  679   \n",
      "4      1556   747        169758        215875        20051691   966  770  680   \n",
      "..      ...   ...           ...           ...             ...   ...  ...  ...   \n",
      "344    1556  1087        532859       1131595        30965502  1563  764  722   \n",
      "345    1556  1088        539179       1117046        31471025  1572  763  722   \n",
      "346    1556  1089        539860       1149610        29955862  1589  764  722   \n",
      "347    1556  1090        534160       1166455        30806811  1551  764  723   \n",
      "348    1556  1091        540248       1152416        32285076  1588  765  723   \n",
      "\n",
      "                         mask_fn  \n",
      "0    s_0744_fucci_merge_gray.tif  \n",
      "1    s_0745_fucci_merge_gray.tif  \n",
      "2    s_0746_fucci_merge_gray.tif  \n",
      "3    s_0747_fucci_merge_gray.tif  \n",
      "4    s_0748_fucci_merge_gray.tif  \n",
      "..                           ...  \n",
      "344  s_1088_fucci_merge_gray.tif  \n",
      "345  s_1089_fucci_merge_gray.tif  \n",
      "346  s_1090_fucci_merge_gray.tif  \n",
      "347  s_1091_fucci_merge_gray.tif  \n",
      "348  s_1092_fucci_merge_gray.tif  \n",
      "\n",
      "[349 rows x 9 columns]\n",
      "cell ID =  1558 progress bar below: (n/N frames):\n"
     ]
    },
    {
     "data": {
      "application/vnd.jupyter.widget-view+json": {
       "model_id": "1508945568cc4292b04de2f26c565cb4",
       "version_major": 2,
       "version_minor": 0
      },
      "text/plain": [
       "HBox(children=(FloatProgress(value=0.0, max=348.0), HTML(value='')))"
      ]
     },
     "metadata": {},
     "output_type": "display_data"
    },
    {
     "name": "stdout",
     "output_type": "stream",
     "text": [
      "\n",
      "    Cell ID Frame GFP Intensity RFP Intensity Phase Intensity  Area    x    y  \\\n",
      "0      1558   744        146149        199144        10269601   828  436  717   \n",
      "1      1558   745             0             0               0     0  436  717   \n",
      "2      1558   746        109188        148179         6799049   613  438  716   \n",
      "3      1558   747        171059        228231        11025264   969  441  716   \n",
      "4      1558   748        171372        226769        11181462   962  440  715   \n",
      "..      ...   ...           ...           ...             ...   ...  ...  ...   \n",
      "343    1558  1087       1363156        873923        23615157  1810  442  729   \n",
      "344    1558  1088       1340831        807525        21984256  1754  442  729   \n",
      "345    1558  1089       1345876        844430        23951269  1763  444  729   \n",
      "346    1558  1090       1344839        810504        22351774  1754  442  730   \n",
      "347    1558  1091       1404891        841705        22688594  1812  442  730   \n",
      "\n",
      "                         mask_fn  \n",
      "0    s_0745_fucci_merge_gray.tif  \n",
      "1    s_0746_fucci_merge_gray.tif  \n",
      "2    s_0747_fucci_merge_gray.tif  \n",
      "3    s_0748_fucci_merge_gray.tif  \n",
      "4    s_0749_fucci_merge_gray.tif  \n",
      "..                           ...  \n",
      "343  s_1088_fucci_merge_gray.tif  \n",
      "344  s_1089_fucci_merge_gray.tif  \n",
      "345  s_1090_fucci_merge_gray.tif  \n",
      "346  s_1091_fucci_merge_gray.tif  \n",
      "347  s_1092_fucci_merge_gray.tif  \n",
      "\n",
      "[348 rows x 9 columns]\n",
      "cell ID =  1569 progress bar below: (n/N frames):\n"
     ]
    },
    {
     "data": {
      "application/vnd.jupyter.widget-view+json": {
       "model_id": "e56c7c3fb80e4f508881333bc3322848",
       "version_major": 2,
       "version_minor": 0
      },
      "text/plain": [
       "HBox(children=(FloatProgress(value=0.0, max=346.0), HTML(value='')))"
      ]
     },
     "metadata": {},
     "output_type": "display_data"
    },
    {
     "name": "stdout",
     "output_type": "stream",
     "text": [
      "\n",
      "    Cell ID Frame GFP Intensity RFP Intensity Phase Intensity  Area    x    y  \\\n",
      "0      1569   746        285719        381863        27660144  1653  755  841   \n",
      "1      1569   747        266724        356630        25058689  1533  757  841   \n",
      "2      1569   748        287147        382597        26904242  1641  755  841   \n",
      "3      1569   749             0             0               0     0  753  840   \n",
      "4      1569   750             0             0               0     0  751  840   \n",
      "..      ...   ...           ...           ...             ...   ...  ...  ...   \n",
      "341    1569  1087        662084       1338079        24878945  2339  733  868   \n",
      "342    1569  1088        641747       1373985        24378933  2269  732  868   \n",
      "343    1569  1089        635589       1336587        23615782  2272  733  868   \n",
      "344    1569  1090        648715       1377526        26964673  2279  732  868   \n",
      "345    1569  1091        654083       1399985        25111670  2337  735  867   \n",
      "\n",
      "                         mask_fn  \n",
      "0    s_0747_fucci_merge_gray.tif  \n",
      "1    s_0748_fucci_merge_gray.tif  \n",
      "2    s_0749_fucci_merge_gray.tif  \n",
      "3    s_0750_fucci_merge_gray.tif  \n",
      "4    s_0751_fucci_merge_gray.tif  \n",
      "..                           ...  \n",
      "341  s_1088_fucci_merge_gray.tif  \n",
      "342  s_1089_fucci_merge_gray.tif  \n",
      "343  s_1090_fucci_merge_gray.tif  \n",
      "344  s_1091_fucci_merge_gray.tif  \n",
      "345  s_1092_fucci_merge_gray.tif  \n",
      "\n",
      "[346 rows x 9 columns]\n",
      "cell ID =  1564 progress bar below: (n/N frames):\n"
     ]
    },
    {
     "data": {
      "application/vnd.jupyter.widget-view+json": {
       "model_id": "b031be2f13b64838b3f25c1d9dcb4545",
       "version_major": 2,
       "version_minor": 0
      },
      "text/plain": [
       "HBox(children=(FloatProgress(value=0.0, max=346.0), HTML(value='')))"
      ]
     },
     "metadata": {},
     "output_type": "display_data"
    },
    {
     "name": "stdout",
     "output_type": "stream",
     "text": [
      "\n",
      "    Cell ID Frame GFP Intensity RFP Intensity Phase Intensity  Area    x    y  \\\n",
      "0      1564   746        221918        294073        17558330  1314  501  889   \n",
      "1      1564   747        215414        292200        16365309  1293  503  889   \n",
      "2      1564   748        207837        277523        16173780  1228  503  889   \n",
      "3      1564   749             0             0               0     0  503  888   \n",
      "4      1564   750        121174        176876         9763050   701  501  885   \n",
      "..      ...   ...           ...           ...             ...   ...  ...  ...   \n",
      "341    1564  1087       1900715        240514        34624524  2172  540  910   \n",
      "342    1564  1088       1786277        221541        31930365  2000  538  912   \n",
      "343    1564  1089       1749039        216480        31399924  1943  540  912   \n",
      "344    1564  1090       1803812        223238        32231115  1986  539  913   \n",
      "345    1564  1091       1861370        228528        33701563  2036  539  912   \n",
      "\n",
      "                         mask_fn  \n",
      "0    s_0747_fucci_merge_gray.tif  \n",
      "1    s_0748_fucci_merge_gray.tif  \n",
      "2    s_0749_fucci_merge_gray.tif  \n",
      "3    s_0750_fucci_merge_gray.tif  \n",
      "4    s_0751_fucci_merge_gray.tif  \n",
      "..                           ...  \n",
      "341  s_1088_fucci_merge_gray.tif  \n",
      "342  s_1089_fucci_merge_gray.tif  \n",
      "343  s_1090_fucci_merge_gray.tif  \n",
      "344  s_1091_fucci_merge_gray.tif  \n",
      "345  s_1092_fucci_merge_gray.tif  \n",
      "\n",
      "[346 rows x 9 columns]\n",
      "cell ID =  1572 progress bar below: (n/N frames):\n"
     ]
    },
    {
     "data": {
      "application/vnd.jupyter.widget-view+json": {
       "model_id": "712b530a609c4cf8940cea0032743938",
       "version_major": 2,
       "version_minor": 0
      },
      "text/plain": [
       "HBox(children=(FloatProgress(value=0.0, max=345.0), HTML(value='')))"
      ]
     },
     "metadata": {},
     "output_type": "display_data"
    },
    {
     "name": "stdout",
     "output_type": "stream",
     "text": [
      "\n",
      "    Cell ID Frame GFP Intensity RFP Intensity Phase Intensity  Area    x    y  \\\n",
      "0      1572   747        168520        196535         9494246   989  883  404   \n",
      "1      1572   748        216445        243887        12564528  1263  885  404   \n",
      "2      1572   749             0             0               0     0  886  404   \n",
      "3      1572   750             0             0               0     0  888  404   \n",
      "4      1572   751             0             0               0     0  890  404   \n",
      "..      ...   ...           ...           ...             ...   ...  ...  ...   \n",
      "340    1572  1087       1202780        212306        22656848  1996  849  386   \n",
      "341    1572  1088       1227015        209828        22124558  1977  848  386   \n",
      "342    1572  1089       1211575        208227        24425229  1968  851  385   \n",
      "343    1572  1090       1201548        206034        21668726  1934  849  386   \n",
      "344    1572  1091       1197854        200445        21693720  1883  850  386   \n",
      "\n",
      "                         mask_fn  \n",
      "0    s_0748_fucci_merge_gray.tif  \n",
      "1    s_0749_fucci_merge_gray.tif  \n",
      "2    s_0750_fucci_merge_gray.tif  \n",
      "3    s_0751_fucci_merge_gray.tif  \n",
      "4    s_0752_fucci_merge_gray.tif  \n",
      "..                           ...  \n",
      "340  s_1088_fucci_merge_gray.tif  \n",
      "341  s_1089_fucci_merge_gray.tif  \n",
      "342  s_1090_fucci_merge_gray.tif  \n",
      "343  s_1091_fucci_merge_gray.tif  \n",
      "344  s_1092_fucci_merge_gray.tif  \n",
      "\n",
      "[345 rows x 9 columns]\n",
      "cell ID =  1573 progress bar below: (n/N frames):\n"
     ]
    },
    {
     "data": {
      "application/vnd.jupyter.widget-view+json": {
       "model_id": "e21a201595cb4f55a6aae05dff1167de",
       "version_major": 2,
       "version_minor": 0
      },
      "text/plain": [
       "HBox(children=(FloatProgress(value=0.0, max=345.0), HTML(value='')))"
      ]
     },
     "metadata": {},
     "output_type": "display_data"
    },
    {
     "name": "stdout",
     "output_type": "stream",
     "text": [
      "\n",
      "    Cell ID Frame GFP Intensity RFP Intensity Phase Intensity  Area    x    y  \\\n",
      "0      1573   747        111035        135817        10229489   655  897  299   \n",
      "1      1573   748        158358        188027        11230048   927  898  301   \n",
      "2      1573   749             0             0               0     0  898  302   \n",
      "3      1573   750             0             0               0     0  899  304   \n",
      "4      1573   751             0             0               0     0  900  306   \n",
      "..      ...   ...           ...           ...             ...   ...  ...  ...   \n",
      "340    1573  1087        650712        174923        14533415  1588  869  287   \n",
      "341    1573  1088        605939        152974        12552535  1398  869  285   \n",
      "342    1573  1089        641093        161758        14848414  1487  871  286   \n",
      "343    1573  1090        641917        162777        13437462  1493  870  287   \n",
      "344    1573  1091        694706        181975        15526599  1666  871  288   \n",
      "\n",
      "                         mask_fn  \n",
      "0    s_0748_fucci_merge_gray.tif  \n",
      "1    s_0749_fucci_merge_gray.tif  \n",
      "2    s_0750_fucci_merge_gray.tif  \n",
      "3    s_0751_fucci_merge_gray.tif  \n",
      "4    s_0752_fucci_merge_gray.tif  \n",
      "..                           ...  \n",
      "340  s_1088_fucci_merge_gray.tif  \n",
      "341  s_1089_fucci_merge_gray.tif  \n",
      "342  s_1090_fucci_merge_gray.tif  \n",
      "343  s_1091_fucci_merge_gray.tif  \n",
      "344  s_1092_fucci_merge_gray.tif  \n",
      "\n",
      "[345 rows x 9 columns]\n",
      "cell ID =  1574 progress bar below: (n/N frames):\n"
     ]
    },
    {
     "data": {
      "application/vnd.jupyter.widget-view+json": {
       "model_id": "5e6f5068b0e94b0788384f4aed76f695",
       "version_major": 2,
       "version_minor": 0
      },
      "text/plain": [
       "HBox(children=(FloatProgress(value=0.0, max=345.0), HTML(value='')))"
      ]
     },
     "metadata": {},
     "output_type": "display_data"
    },
    {
     "name": "stdout",
     "output_type": "stream",
     "text": [
      "\n",
      "    Cell ID Frame GFP Intensity RFP Intensity Phase Intensity  Area    x    y  \\\n",
      "0      1574   747        142266        219463        12777671   893  103  818   \n",
      "1      1574   748        184946        287854        14930492  1138  102  818   \n",
      "2      1574   749             0             0               0     0  101  817   \n",
      "3      1574   750             0             0               0     0  100  817   \n",
      "4      1574   751        191905        277416        14702723  1169  103  816   \n",
      "..      ...   ...           ...           ...             ...   ...  ...  ...   \n",
      "340    1574  1087       1031769        190506        35389300  1687   72  850   \n",
      "341    1574  1088        963474        175605        33995361  1569   71  852   \n",
      "342    1574  1089        926980        166075        31143753  1476   72  853   \n",
      "343    1574  1090        910213        158769        30816328  1400   71  854   \n",
      "344    1574  1091       1018040        179654        34838091  1585   72  855   \n",
      "\n",
      "                         mask_fn  \n",
      "0    s_0748_fucci_merge_gray.tif  \n",
      "1    s_0749_fucci_merge_gray.tif  \n",
      "2    s_0750_fucci_merge_gray.tif  \n",
      "3    s_0751_fucci_merge_gray.tif  \n",
      "4    s_0752_fucci_merge_gray.tif  \n",
      "..                           ...  \n",
      "340  s_1088_fucci_merge_gray.tif  \n",
      "341  s_1089_fucci_merge_gray.tif  \n",
      "342  s_1090_fucci_merge_gray.tif  \n",
      "343  s_1091_fucci_merge_gray.tif  \n",
      "344  s_1092_fucci_merge_gray.tif  \n",
      "\n",
      "[345 rows x 9 columns]\n",
      "cell ID =  1588 progress bar below: (n/N frames):\n"
     ]
    },
    {
     "data": {
      "application/vnd.jupyter.widget-view+json": {
       "model_id": "a90fe296dfba4d138e72f5f7153729ab",
       "version_major": 2,
       "version_minor": 0
      },
      "text/plain": [
       "HBox(children=(FloatProgress(value=0.0, max=339.0), HTML(value='')))"
      ]
     },
     "metadata": {},
     "output_type": "display_data"
    },
    {
     "name": "stdout",
     "output_type": "stream",
     "text": [
      "\n",
      "    Cell ID Frame GFP Intensity RFP Intensity Phase Intensity  Area    x    y  \\\n",
      "0      1588   753        153048        195982        16220276   875  764  735   \n",
      "1      1588   754        129286        169265        12972836   726  763  735   \n",
      "2      1588   755             0             0               0     0  762  734   \n",
      "3      1588   756             0             0               0     0  761  734   \n",
      "4      1588   757             0             0               0     0  760  734   \n",
      "..      ...   ...           ...           ...             ...   ...  ...  ...   \n",
      "334    1588  1087        670617        632715        23918719  1103  773  770   \n",
      "335    1588  1088        681855        619352        24247554  1101  772  770   \n",
      "336    1588  1089        702458        647214        24579245  1126  774  771   \n",
      "337    1588  1090        699209        647274        25537889  1149  772  771   \n",
      "338    1588  1091        711768        636586        26171406  1143  773  772   \n",
      "\n",
      "                         mask_fn  \n",
      "0    s_0754_fucci_merge_gray.tif  \n",
      "1    s_0755_fucci_merge_gray.tif  \n",
      "2    s_0756_fucci_merge_gray.tif  \n",
      "3    s_0757_fucci_merge_gray.tif  \n",
      "4    s_0758_fucci_merge_gray.tif  \n",
      "..                           ...  \n",
      "334  s_1088_fucci_merge_gray.tif  \n",
      "335  s_1089_fucci_merge_gray.tif  \n",
      "336  s_1090_fucci_merge_gray.tif  \n",
      "337  s_1091_fucci_merge_gray.tif  \n",
      "338  s_1092_fucci_merge_gray.tif  \n",
      "\n",
      "[339 rows x 9 columns]\n",
      "cell ID =  1590 progress bar below: (n/N frames):\n"
     ]
    },
    {
     "data": {
      "application/vnd.jupyter.widget-view+json": {
       "model_id": "455652eac55e496bb4d3d91e99180a4e",
       "version_major": 2,
       "version_minor": 0
      },
      "text/plain": [
       "HBox(children=(FloatProgress(value=0.0, max=338.0), HTML(value='')))"
      ]
     },
     "metadata": {},
     "output_type": "display_data"
    },
    {
     "name": "stdout",
     "output_type": "stream",
     "text": [
      "\n",
      "    Cell ID Frame GFP Intensity RFP Intensity Phase Intensity  Area    x    y  \\\n",
      "0      1590   754        119434        155666         9863233   670  191  436   \n",
      "1      1590   755             0             0               0     0  191  436   \n",
      "2      1590   756         97053        133444         7897516   545  191  437   \n",
      "3      1590   757             0             0               0     0  191  437   \n",
      "4      1590   758         83164        118184         6392874   463  188  436   \n",
      "..      ...   ...           ...           ...             ...   ...  ...  ...   \n",
      "333    1590  1087        511970       1139446        15749998  1737  166  471   \n",
      "334    1590  1088        509364       1228345        14854430  1740  164  471   \n",
      "335    1590  1089        509883       1176044        16690779  1743  166  472   \n",
      "336    1590  1090        511731       1175413        14693539  1738  164  472   \n",
      "337    1590  1091        513469       1227900        13958058  1728  164  473   \n",
      "\n",
      "                         mask_fn  \n",
      "0    s_0755_fucci_merge_gray.tif  \n",
      "1    s_0756_fucci_merge_gray.tif  \n",
      "2    s_0757_fucci_merge_gray.tif  \n",
      "3    s_0758_fucci_merge_gray.tif  \n",
      "4    s_0759_fucci_merge_gray.tif  \n",
      "..                           ...  \n",
      "333  s_1088_fucci_merge_gray.tif  \n",
      "334  s_1089_fucci_merge_gray.tif  \n",
      "335  s_1090_fucci_merge_gray.tif  \n",
      "336  s_1091_fucci_merge_gray.tif  \n",
      "337  s_1092_fucci_merge_gray.tif  \n",
      "\n",
      "[338 rows x 9 columns]\n",
      "cell ID =  1611 progress bar below: (n/N frames):\n"
     ]
    },
    {
     "data": {
      "application/vnd.jupyter.widget-view+json": {
       "model_id": "093303c98e714bd491caa5de3d5e1b01",
       "version_major": 2,
       "version_minor": 0
      },
      "text/plain": [
       "HBox(children=(FloatProgress(value=0.0, max=328.0), HTML(value='')))"
      ]
     },
     "metadata": {},
     "output_type": "display_data"
    },
    {
     "name": "stdout",
     "output_type": "stream",
     "text": [
      "\n",
      "    Cell ID Frame GFP Intensity RFP Intensity Phase Intensity  Area    x    y  \\\n",
      "0      1611   764        264761        273419        23089445  1602  413  579   \n",
      "1      1611   765             0             0               0     0  413  579   \n",
      "2      1611   766        119335        129145        10286554   717  415  575   \n",
      "3      1611   767        152363        171070        13262558   909  412  579   \n",
      "4      1611   768             0             0               0     0  410  581   \n",
      "..      ...   ...           ...           ...             ...   ...  ...  ...   \n",
      "323    1611  1087       1031730       2127393        57092253  2701  389  540   \n",
      "324    1611  1088       1015131       2134653        56335214  2653  388  540   \n",
      "325    1611  1089       1018637       2188866        54281635  2663  389  540   \n",
      "326    1611  1090       1001126       2218114        55982757  2596  389  541   \n",
      "327    1611  1091       1042746       2231361        57914807  2655  389  541   \n",
      "\n",
      "                         mask_fn  \n",
      "0    s_0765_fucci_merge_gray.tif  \n",
      "1    s_0766_fucci_merge_gray.tif  \n",
      "2    s_0767_fucci_merge_gray.tif  \n",
      "3    s_0768_fucci_merge_gray.tif  \n",
      "4    s_0769_fucci_merge_gray.tif  \n",
      "..                           ...  \n",
      "323  s_1088_fucci_merge_gray.tif  \n",
      "324  s_1089_fucci_merge_gray.tif  \n",
      "325  s_1090_fucci_merge_gray.tif  \n",
      "326  s_1091_fucci_merge_gray.tif  \n",
      "327  s_1092_fucci_merge_gray.tif  \n",
      "\n",
      "[328 rows x 9 columns]\n",
      "cell ID =  1619 progress bar below: (n/N frames):\n"
     ]
    },
    {
     "data": {
      "application/vnd.jupyter.widget-view+json": {
       "model_id": "d8a978167d4e41de961f8b624bf35386",
       "version_major": 2,
       "version_minor": 0
      },
      "text/plain": [
       "HBox(children=(FloatProgress(value=0.0, max=302.0), HTML(value='')))"
      ]
     },
     "metadata": {},
     "output_type": "display_data"
    },
    {
     "name": "stdout",
     "output_type": "stream",
     "text": [
      "\n",
      "    Cell ID Frame GFP Intensity RFP Intensity Phase Intensity  Area    x    y  \\\n",
      "0      1619   766        262267         70587        14244518   676  809  722   \n",
      "1      1619   767        291236         76473        14976715   724  808  720   \n",
      "2      1619   768        267427         67978        13427164   647  808  720   \n",
      "3      1619   769             0             0               0     0  807  719   \n",
      "4      1619   770             0             0               0     0  807  719   \n",
      "..      ...   ...           ...           ...             ...   ...  ...  ...   \n",
      "297    1619  1063        821619        147795        34532687  1346  823  749   \n",
      "298    1619  1064        757068        137563        31916122  1244  819  748   \n",
      "299    1619  1065        774826        145058        34879383  1314  819  749   \n",
      "300    1619  1066        740541        143040        33913354  1287  818  748   \n",
      "301    1619  1067        490611         96149        23179291   850  812  747   \n",
      "\n",
      "                         mask_fn  \n",
      "0    s_0767_fucci_merge_gray.tif  \n",
      "1    s_0768_fucci_merge_gray.tif  \n",
      "2    s_0769_fucci_merge_gray.tif  \n",
      "3    s_0770_fucci_merge_gray.tif  \n",
      "4    s_0771_fucci_merge_gray.tif  \n",
      "..                           ...  \n",
      "297  s_1064_fucci_merge_gray.tif  \n",
      "298  s_1065_fucci_merge_gray.tif  \n",
      "299  s_1066_fucci_merge_gray.tif  \n",
      "300  s_1067_fucci_merge_gray.tif  \n",
      "301  s_1068_fucci_merge_gray.tif  \n",
      "\n",
      "[302 rows x 9 columns]\n",
      "cell ID =  1644 progress bar below: (n/N frames):\n"
     ]
    },
    {
     "data": {
      "application/vnd.jupyter.widget-view+json": {
       "model_id": "e09557b4b75846309c013e4639f1b6bf",
       "version_major": 2,
       "version_minor": 0
      },
      "text/plain": [
       "HBox(children=(FloatProgress(value=0.0, max=318.0), HTML(value='')))"
      ]
     },
     "metadata": {},
     "output_type": "display_data"
    },
    {
     "name": "stdout",
     "output_type": "stream",
     "text": [
      "\n",
      "    Cell ID Frame GFP Intensity RFP Intensity Phase Intensity Area    x   y  \\\n",
      "0      1644   774         64035         71559         7874026  390  503   9   \n",
      "1      1644   775             0             0               0    0  503   9   \n",
      "2      1644   776             0             0               0    0  503   9   \n",
      "3      1644   777         73621         82443         9595530  448  505  10   \n",
      "4      1644   778         75029         85825         9722791  452  506  10   \n",
      "..      ...   ...           ...           ...             ...  ...  ...  ..   \n",
      "313    1644  1087        247772        460195        16080730  783  497  11   \n",
      "314    1644  1088        232580        443174        14642185  727  497  10   \n",
      "315    1644  1089        233973        455472        16150446  758  499  10   \n",
      "316    1644  1090        250628        494730        14737477  789  498  10   \n",
      "317    1644  1091        254539        479382        15975724  804  498  10   \n",
      "\n",
      "                         mask_fn  \n",
      "0    s_0775_fucci_merge_gray.tif  \n",
      "1    s_0776_fucci_merge_gray.tif  \n",
      "2    s_0777_fucci_merge_gray.tif  \n",
      "3    s_0778_fucci_merge_gray.tif  \n",
      "4    s_0779_fucci_merge_gray.tif  \n",
      "..                           ...  \n",
      "313  s_1088_fucci_merge_gray.tif  \n",
      "314  s_1089_fucci_merge_gray.tif  \n",
      "315  s_1090_fucci_merge_gray.tif  \n",
      "316  s_1091_fucci_merge_gray.tif  \n",
      "317  s_1092_fucci_merge_gray.tif  \n",
      "\n",
      "[318 rows x 9 columns]\n",
      "cell ID =  1646 progress bar below: (n/N frames):\n"
     ]
    },
    {
     "data": {
      "application/vnd.jupyter.widget-view+json": {
       "model_id": "5112c7d978634faeb5846105837eb476",
       "version_major": 2,
       "version_minor": 0
      },
      "text/plain": [
       "HBox(children=(FloatProgress(value=0.0, max=318.0), HTML(value='')))"
      ]
     },
     "metadata": {},
     "output_type": "display_data"
    },
    {
     "name": "stdout",
     "output_type": "stream",
     "text": [
      "\n",
      "    Cell ID Frame GFP Intensity RFP Intensity Phase Intensity  Area    x    y  \\\n",
      "0      1646   774       1248811       3676568        77119127  2228  100  292   \n",
      "1      1646   775        875918       2651039        43805955  1426  100  292   \n",
      "2      1646   776       1260923       3806416        76054676  2227  103  291   \n",
      "3      1646   777       1268982       3453919        77481633  2226  102  291   \n",
      "4      1646   778       1239000       3716118        80360447  2302  102  291   \n",
      "..      ...   ...           ...           ...             ...   ...  ...  ...   \n",
      "313    1646  1087       1639536       4504539        54176140  2887  149  304   \n",
      "314    1646  1088       1653900       4473510        53428741  2881  149  302   \n",
      "315    1646  1089       1698239       4729369        49558940  2893  150  302   \n",
      "316    1646  1090       1698646       4643209        54343191  2871  148  301   \n",
      "317    1646  1091       1716549       4626427        53257856  2916  149  301   \n",
      "\n",
      "                         mask_fn  \n",
      "0    s_0775_fucci_merge_gray.tif  \n",
      "1    s_0776_fucci_merge_gray.tif  \n",
      "2    s_0777_fucci_merge_gray.tif  \n",
      "3    s_0778_fucci_merge_gray.tif  \n",
      "4    s_0779_fucci_merge_gray.tif  \n",
      "..                           ...  \n",
      "313  s_1088_fucci_merge_gray.tif  \n",
      "314  s_1089_fucci_merge_gray.tif  \n",
      "315  s_1090_fucci_merge_gray.tif  \n",
      "316  s_1091_fucci_merge_gray.tif  \n",
      "317  s_1092_fucci_merge_gray.tif  \n",
      "\n",
      "[318 rows x 9 columns]\n",
      "cell ID =  1647 progress bar below: (n/N frames):\n"
     ]
    },
    {
     "data": {
      "application/vnd.jupyter.widget-view+json": {
       "model_id": "793f35ac6ef5464d83e17b913d85ca40",
       "version_major": 2,
       "version_minor": 0
      },
      "text/plain": [
       "HBox(children=(FloatProgress(value=0.0, max=317.0), HTML(value='')))"
      ]
     },
     "metadata": {},
     "output_type": "display_data"
    },
    {
     "name": "stdout",
     "output_type": "stream",
     "text": [
      "\n",
      "    Cell ID Frame GFP Intensity RFP Intensity Phase Intensity Area    x    y  \\\n",
      "0      1647   775        137417        157390        13721672  730  432  362   \n",
      "1      1647   776         86977        106983         8424756  446  431  362   \n",
      "2      1647   777             0             0               0    0  430  361   \n",
      "3      1647   778             0             0               0    0  429  361   \n",
      "4      1647   779        133045        158157        12919790  680  432  362   \n",
      "..      ...   ...           ...           ...             ...  ...  ...  ...   \n",
      "312    1647  1087        458269        741639        20498440  855  410  371   \n",
      "313    1647  1088        445690        779961        19679784  845  409  371   \n",
      "314    1647  1089        437750        794397        19110473  850  411  371   \n",
      "315    1647  1090        462746        803224        20720237  861  409  372   \n",
      "316    1647  1091        462229        846223        20779258  880  410  372   \n",
      "\n",
      "                         mask_fn  \n",
      "0    s_0776_fucci_merge_gray.tif  \n",
      "1    s_0777_fucci_merge_gray.tif  \n",
      "2    s_0778_fucci_merge_gray.tif  \n",
      "3    s_0779_fucci_merge_gray.tif  \n",
      "4    s_0780_fucci_merge_gray.tif  \n",
      "..                           ...  \n",
      "312  s_1088_fucci_merge_gray.tif  \n",
      "313  s_1089_fucci_merge_gray.tif  \n",
      "314  s_1090_fucci_merge_gray.tif  \n",
      "315  s_1091_fucci_merge_gray.tif  \n",
      "316  s_1092_fucci_merge_gray.tif  \n",
      "\n",
      "[317 rows x 9 columns]\n",
      "cell ID =  1651 progress bar below: (n/N frames):\n"
     ]
    },
    {
     "data": {
      "application/vnd.jupyter.widget-view+json": {
       "model_id": "2d7fac74c8a042a0a6d11086af471b6d",
       "version_major": 2,
       "version_minor": 0
      },
      "text/plain": [
       "HBox(children=(FloatProgress(value=0.0, max=315.0), HTML(value='')))"
      ]
     },
     "metadata": {},
     "output_type": "display_data"
    },
    {
     "name": "stdout",
     "output_type": "stream",
     "text": [
      "\n",
      "    Cell ID Frame GFP Intensity RFP Intensity Phase Intensity  Area    x    y  \\\n",
      "0      1651   777          1429          2073          100231     8  476  874   \n",
      "1      1651   778             0             0               0     0  476  874   \n",
      "2      1651   779        212489        296471        14591591  1245  464  858   \n",
      "3      1651   780        224671        319678        15340252  1335  465  857   \n",
      "4      1651   781        253093        347509        16579242  1485  465  857   \n",
      "..      ...   ...           ...           ...             ...   ...  ...  ...   \n",
      "310    1651  1087       1367708        201608        19665859  1807  478  907   \n",
      "311    1651  1088       1299672        185908        17257995  1672  479  909   \n",
      "312    1651  1089       1257337        181022        16921192  1641  481  910   \n",
      "313    1651  1090       1253846        179341        16163949  1609  480  911   \n",
      "314    1651  1091       1318683        191009        16526014  1711  479  912   \n",
      "\n",
      "                         mask_fn  \n",
      "0    s_0778_fucci_merge_gray.tif  \n",
      "1    s_0779_fucci_merge_gray.tif  \n",
      "2    s_0780_fucci_merge_gray.tif  \n",
      "3    s_0781_fucci_merge_gray.tif  \n",
      "4    s_0782_fucci_merge_gray.tif  \n",
      "..                           ...  \n",
      "310  s_1088_fucci_merge_gray.tif  \n",
      "311  s_1089_fucci_merge_gray.tif  \n",
      "312  s_1090_fucci_merge_gray.tif  \n",
      "313  s_1091_fucci_merge_gray.tif  \n",
      "314  s_1092_fucci_merge_gray.tif  \n",
      "\n",
      "[315 rows x 9 columns]\n",
      "cell ID =  1653 progress bar below: (n/N frames):\n"
     ]
    },
    {
     "data": {
      "application/vnd.jupyter.widget-view+json": {
       "model_id": "121e368b787146ff93d6aad71cedb83c",
       "version_major": 2,
       "version_minor": 0
      },
      "text/plain": [
       "HBox(children=(FloatProgress(value=0.0, max=315.0), HTML(value='')))"
      ]
     },
     "metadata": {},
     "output_type": "display_data"
    },
    {
     "name": "stdout",
     "output_type": "stream",
     "text": [
      "\n",
      "    Cell ID Frame GFP Intensity RFP Intensity Phase Intensity  Area    x    y  \\\n",
      "0      1653   777        144363        170511         8062197   921  140  548   \n",
      "1      1653   778             0             0               0     0  140  548   \n",
      "2      1653   779        218242        251895        12592648  1385  137  547   \n",
      "3      1653   780        249894        286220        11939057  1593  139  547   \n",
      "4      1653   781        197731        232661        10438255  1236  139  547   \n",
      "..      ...   ...           ...           ...             ...   ...  ...  ...   \n",
      "310    1653  1087        857435        552695        16647007  1631  108  553   \n",
      "311    1653  1088        819810        504735        15283109  1526  107  553   \n",
      "312    1653  1089        850217        526895        16982767  1569  108  554   \n",
      "313    1653  1090        865467        507638        15179779  1568  107  554   \n",
      "314    1653  1091        891361        523026        14837383  1624  108  555   \n",
      "\n",
      "                         mask_fn  \n",
      "0    s_0778_fucci_merge_gray.tif  \n",
      "1    s_0779_fucci_merge_gray.tif  \n",
      "2    s_0780_fucci_merge_gray.tif  \n",
      "3    s_0781_fucci_merge_gray.tif  \n",
      "4    s_0782_fucci_merge_gray.tif  \n",
      "..                           ...  \n",
      "310  s_1088_fucci_merge_gray.tif  \n",
      "311  s_1089_fucci_merge_gray.tif  \n",
      "312  s_1090_fucci_merge_gray.tif  \n",
      "313  s_1091_fucci_merge_gray.tif  \n",
      "314  s_1092_fucci_merge_gray.tif  \n",
      "\n",
      "[315 rows x 9 columns]\n",
      "cell ID =  1654 progress bar below: (n/N frames):\n"
     ]
    },
    {
     "data": {
      "application/vnd.jupyter.widget-view+json": {
       "model_id": "3761a14effb14e57bfe30b43607d5033",
       "version_major": 2,
       "version_minor": 0
      },
      "text/plain": [
       "HBox(children=(FloatProgress(value=0.0, max=315.0), HTML(value='')))"
      ]
     },
     "metadata": {},
     "output_type": "display_data"
    },
    {
     "name": "stdout",
     "output_type": "stream",
     "text": [
      "\n",
      "    Cell ID Frame GFP Intensity RFP Intensity Phase Intensity  Area    x    y  \\\n",
      "0      1654   777        100187        138405         7050045   569  185  498   \n",
      "1      1654   778        105065        136003         7535509   612  183  498   \n",
      "2      1654   779        146203        189011        10906460   839  183  498   \n",
      "3      1654   780        185477        215829        13125288  1052  184  500   \n",
      "4      1654   781        164130        197482        11006874   912  186  499   \n",
      "..      ...   ...           ...           ...             ...   ...  ...  ...   \n",
      "310    1654  1087        950865        296400        16201189  1494  176  520   \n",
      "311    1654  1088        913298        285546        15441969  1443  176  519   \n",
      "312    1654  1089        932687        284224        17985405  1494  177  519   \n",
      "313    1654  1090        951946        281207        16135577  1513  176  520   \n",
      "314    1654  1091        951168        272864        15055648  1515  177  520   \n",
      "\n",
      "                         mask_fn  \n",
      "0    s_0778_fucci_merge_gray.tif  \n",
      "1    s_0779_fucci_merge_gray.tif  \n",
      "2    s_0780_fucci_merge_gray.tif  \n",
      "3    s_0781_fucci_merge_gray.tif  \n",
      "4    s_0782_fucci_merge_gray.tif  \n",
      "..                           ...  \n",
      "310  s_1088_fucci_merge_gray.tif  \n",
      "311  s_1089_fucci_merge_gray.tif  \n",
      "312  s_1090_fucci_merge_gray.tif  \n",
      "313  s_1091_fucci_merge_gray.tif  \n",
      "314  s_1092_fucci_merge_gray.tif  \n",
      "\n",
      "[315 rows x 9 columns]\n",
      "cell ID =  1655 progress bar below: (n/N frames):\n"
     ]
    },
    {
     "data": {
      "application/vnd.jupyter.widget-view+json": {
       "model_id": "3b9ab833785143b8ae6355e7e317a23c",
       "version_major": 2,
       "version_minor": 0
      },
      "text/plain": [
       "HBox(children=(FloatProgress(value=0.0, max=314.0), HTML(value='')))"
      ]
     },
     "metadata": {},
     "output_type": "display_data"
    },
    {
     "name": "stdout",
     "output_type": "stream",
     "text": [
      "\n",
      "    Cell ID Frame GFP Intensity RFP Intensity Phase Intensity  Area    x   y  \\\n",
      "0      1655   778         79410         99181         7601535   447  434  62   \n",
      "1      1655   779        157969        186496        14071069   886  433  64   \n",
      "2      1655   780             0             0               0     0  432  65   \n",
      "3      1655   781             0             0               0     0  431  67   \n",
      "4      1655   782        186754        216115        16265295  1023  435  65   \n",
      "..      ...   ...           ...           ...             ...   ...  ...  ..   \n",
      "309    1655  1087        488062       1010068        17544289  1575  421  90   \n",
      "310    1655  1088        483596        925120        17110250  1561  420  90   \n",
      "311    1655  1089        491933       1015975        15382115  1572  423  88   \n",
      "312    1655  1090        508383       1043222        17337764  1620  422  88   \n",
      "313    1655  1091        509285        969832        18131005  1624  422  89   \n",
      "\n",
      "                         mask_fn  \n",
      "0    s_0779_fucci_merge_gray.tif  \n",
      "1    s_0780_fucci_merge_gray.tif  \n",
      "2    s_0781_fucci_merge_gray.tif  \n",
      "3    s_0782_fucci_merge_gray.tif  \n",
      "4    s_0783_fucci_merge_gray.tif  \n",
      "..                           ...  \n",
      "309  s_1088_fucci_merge_gray.tif  \n",
      "310  s_1089_fucci_merge_gray.tif  \n",
      "311  s_1090_fucci_merge_gray.tif  \n",
      "312  s_1091_fucci_merge_gray.tif  \n",
      "313  s_1092_fucci_merge_gray.tif  \n",
      "\n",
      "[314 rows x 9 columns]\n",
      "cell ID =  1664 progress bar below: (n/N frames):\n"
     ]
    },
    {
     "data": {
      "application/vnd.jupyter.widget-view+json": {
       "model_id": "7910df8708ad4e468510dec6119ae551",
       "version_major": 2,
       "version_minor": 0
      },
      "text/plain": [
       "HBox(children=(FloatProgress(value=0.0, max=313.0), HTML(value='')))"
      ]
     },
     "metadata": {},
     "output_type": "display_data"
    },
    {
     "name": "stdout",
     "output_type": "stream",
     "text": [
      "\n",
      "    Cell ID Frame GFP Intensity RFP Intensity Phase Intensity Area     x   y  \\\n",
      "0      1664   779         91532        110846        12374613  619  1008  16   \n",
      "1      1664   780             0             0               0    0  1008  16   \n",
      "2      1664   781        116199        139801        16014810  792  1009  19   \n",
      "3      1664   782         97920        116790        12902213  658  1009  19   \n",
      "4      1664   783             0             0               0    0  1008  19   \n",
      "..      ...   ...           ...           ...             ...  ...   ...  ..   \n",
      "308    1664  1087        369130         71499        14810121  690  1010  15   \n",
      "309    1664  1088        370960         68256        14331459  659  1011  15   \n",
      "310    1664  1089        351133         62063        13020828  600  1012  15   \n",
      "311    1664  1090        374314         71463        14051736  688  1011  16   \n",
      "312    1664  1091        368799         66923        13936221  647  1011  15   \n",
      "\n",
      "                         mask_fn  \n",
      "0    s_0780_fucci_merge_gray.tif  \n",
      "1    s_0781_fucci_merge_gray.tif  \n",
      "2    s_0782_fucci_merge_gray.tif  \n",
      "3    s_0783_fucci_merge_gray.tif  \n",
      "4    s_0784_fucci_merge_gray.tif  \n",
      "..                           ...  \n",
      "308  s_1088_fucci_merge_gray.tif  \n",
      "309  s_1089_fucci_merge_gray.tif  \n",
      "310  s_1090_fucci_merge_gray.tif  \n",
      "311  s_1091_fucci_merge_gray.tif  \n",
      "312  s_1092_fucci_merge_gray.tif  \n",
      "\n",
      "[313 rows x 9 columns]\n",
      "cell ID =  1665 progress bar below: (n/N frames):\n"
     ]
    },
    {
     "data": {
      "application/vnd.jupyter.widget-view+json": {
       "model_id": "d3c6226ede9e48efaaf9dff39ce48887",
       "version_major": 2,
       "version_minor": 0
      },
      "text/plain": [
       "HBox(children=(FloatProgress(value=0.0, max=313.0), HTML(value='')))"
      ]
     },
     "metadata": {},
     "output_type": "display_data"
    },
    {
     "name": "stdout",
     "output_type": "stream",
     "text": [
      "\n",
      "    Cell ID Frame GFP Intensity RFP Intensity Phase Intensity  Area    x    y  \\\n",
      "0      1665   779        180086        252355        15043304   961  742  613   \n",
      "1      1665   780        172125        247539        13940998   944  742  611   \n",
      "2      1665   781        125780        181020         9755731   671  740  609   \n",
      "3      1665   782        185295        243404        14700212   988  741  611   \n",
      "4      1665   783        195342        262849        15909671  1059  741  611   \n",
      "..      ...   ...           ...           ...             ...   ...  ...  ...   \n",
      "308    1665  1087        693071        720870        22539478  1619  758  651   \n",
      "309    1665  1088        666059        701450        22564649  1542  758  652   \n",
      "310    1665  1089        679013        715867        23049292  1543  759  653   \n",
      "311    1665  1090        687546        714968        23258536  1550  758  653   \n",
      "312    1665  1091        717241        718753        23413378  1627  759  653   \n",
      "\n",
      "                         mask_fn  \n",
      "0    s_0780_fucci_merge_gray.tif  \n",
      "1    s_0781_fucci_merge_gray.tif  \n",
      "2    s_0782_fucci_merge_gray.tif  \n",
      "3    s_0783_fucci_merge_gray.tif  \n",
      "4    s_0784_fucci_merge_gray.tif  \n",
      "..                           ...  \n",
      "308  s_1088_fucci_merge_gray.tif  \n",
      "309  s_1089_fucci_merge_gray.tif  \n",
      "310  s_1090_fucci_merge_gray.tif  \n",
      "311  s_1091_fucci_merge_gray.tif  \n",
      "312  s_1092_fucci_merge_gray.tif  \n",
      "\n",
      "[313 rows x 9 columns]\n",
      "cell ID =  1666 progress bar below: (n/N frames):\n"
     ]
    },
    {
     "data": {
      "application/vnd.jupyter.widget-view+json": {
       "model_id": "b3ee09ff550543ed9ef55bc8c067a3df",
       "version_major": 2,
       "version_minor": 0
      },
      "text/plain": [
       "HBox(children=(FloatProgress(value=0.0, max=313.0), HTML(value='')))"
      ]
     },
     "metadata": {},
     "output_type": "display_data"
    },
    {
     "name": "stdout",
     "output_type": "stream",
     "text": [
      "\n",
      "    Cell ID Frame GFP Intensity RFP Intensity Phase Intensity  Area    x    y  \\\n",
      "0      1666   779        140727        195900        11631174   779  787  579   \n",
      "1      1666   780        166868        226726        13729110   932  787  580   \n",
      "2      1666   781             0             0               0     0  787  580   \n",
      "3      1666   782        178298        246154        14303198   986  788  577   \n",
      "4      1666   783        214029        294594        17130477  1209  790  576   \n",
      "..      ...   ...           ...           ...             ...   ...  ...  ...   \n",
      "308    1666  1087        726795        841981        27770872  1716  755  589   \n",
      "309    1666  1088        708448        816017        26394758  1665  755  589   \n",
      "310    1666  1089        717091        841445        27443661  1691  757  589   \n",
      "311    1666  1090        720947        831639        26888402  1675  755  589   \n",
      "312    1666  1091        740559        859136        27364804  1712  756  590   \n",
      "\n",
      "                         mask_fn  \n",
      "0    s_0780_fucci_merge_gray.tif  \n",
      "1    s_0781_fucci_merge_gray.tif  \n",
      "2    s_0782_fucci_merge_gray.tif  \n",
      "3    s_0783_fucci_merge_gray.tif  \n",
      "4    s_0784_fucci_merge_gray.tif  \n",
      "..                           ...  \n",
      "308  s_1088_fucci_merge_gray.tif  \n",
      "309  s_1089_fucci_merge_gray.tif  \n",
      "310  s_1090_fucci_merge_gray.tif  \n",
      "311  s_1091_fucci_merge_gray.tif  \n",
      "312  s_1092_fucci_merge_gray.tif  \n",
      "\n",
      "[313 rows x 9 columns]\n",
      "cell ID =  1667 progress bar below: (n/N frames):\n"
     ]
    },
    {
     "data": {
      "application/vnd.jupyter.widget-view+json": {
       "model_id": "289b96f5a0504536aff42486ae248060",
       "version_major": 2,
       "version_minor": 0
      },
      "text/plain": [
       "HBox(children=(FloatProgress(value=0.0, max=313.0), HTML(value='')))"
      ]
     },
     "metadata": {},
     "output_type": "display_data"
    },
    {
     "name": "stdout",
     "output_type": "stream",
     "text": [
      "\n",
      "    Cell ID Frame GFP Intensity RFP Intensity Phase Intensity  Area   x    y  \\\n",
      "0      1667   779        126226        202721        15286899   847  22  969   \n",
      "1      1667   780        123378        204948        15855343   843  23  968   \n",
      "2      1667   781        119436        197604        14726817   808  23  968   \n",
      "3      1667   782        126898        210118        14709372   846  24  968   \n",
      "4      1667   783        125199        214139        14581767   836  25  967   \n",
      "..      ...   ...           ...           ...             ...   ...  ..  ...   \n",
      "308    1667  1087        659960        120369        20276684  1147  14  968   \n",
      "309    1667  1088        671906        110787        19151925  1058  13  967   \n",
      "310    1667  1089        707480        116292        18983783  1113  15  969   \n",
      "311    1667  1090        723602        116398        20316825  1102  14  969   \n",
      "312    1667  1091        773067        128906        22509685  1224  15  970   \n",
      "\n",
      "                         mask_fn  \n",
      "0    s_0780_fucci_merge_gray.tif  \n",
      "1    s_0781_fucci_merge_gray.tif  \n",
      "2    s_0782_fucci_merge_gray.tif  \n",
      "3    s_0783_fucci_merge_gray.tif  \n",
      "4    s_0784_fucci_merge_gray.tif  \n",
      "..                           ...  \n",
      "308  s_1088_fucci_merge_gray.tif  \n",
      "309  s_1089_fucci_merge_gray.tif  \n",
      "310  s_1090_fucci_merge_gray.tif  \n",
      "311  s_1091_fucci_merge_gray.tif  \n",
      "312  s_1092_fucci_merge_gray.tif  \n",
      "\n",
      "[313 rows x 9 columns]\n",
      "cell ID =  1676 progress bar below: (n/N frames):\n"
     ]
    },
    {
     "data": {
      "application/vnd.jupyter.widget-view+json": {
       "model_id": "a87f110507e445a3bb7eda701ac5025c",
       "version_major": 2,
       "version_minor": 0
      },
      "text/plain": [
       "HBox(children=(FloatProgress(value=0.0, max=311.0), HTML(value='')))"
      ]
     },
     "metadata": {},
     "output_type": "display_data"
    },
    {
     "name": "stdout",
     "output_type": "stream",
     "text": [
      "\n",
      "    Cell ID Frame GFP Intensity RFP Intensity Phase Intensity  Area    x    y  \\\n",
      "0      1676   781        189397        218718        11659616   976  919  276   \n",
      "1      1676   782        160418        184864        10544355   801  917  274   \n",
      "2      1676   783             0             0               0     0  915  272   \n",
      "3      1676   784        210271        241779        14339244  1090  913  271   \n",
      "4      1676   785             0             0               0     0  911  270   \n",
      "..      ...   ...           ...           ...             ...   ...  ...  ...   \n",
      "306    1676  1087        800202        135509        21444893  1256  946  343   \n",
      "307    1676  1088        814873        133464        21519330  1242  946  343   \n",
      "308    1676  1089        825455        133198        20128389  1247  946  344   \n",
      "309    1676  1090        832074        134431        21367232  1252  945  343   \n",
      "310    1676  1091        825334        134222        21963619  1248  946  343   \n",
      "\n",
      "                         mask_fn  \n",
      "0    s_0782_fucci_merge_gray.tif  \n",
      "1    s_0783_fucci_merge_gray.tif  \n",
      "2    s_0784_fucci_merge_gray.tif  \n",
      "3    s_0785_fucci_merge_gray.tif  \n",
      "4    s_0786_fucci_merge_gray.tif  \n",
      "..                           ...  \n",
      "306  s_1088_fucci_merge_gray.tif  \n",
      "307  s_1089_fucci_merge_gray.tif  \n",
      "308  s_1090_fucci_merge_gray.tif  \n",
      "309  s_1091_fucci_merge_gray.tif  \n",
      "310  s_1092_fucci_merge_gray.tif  \n",
      "\n",
      "[311 rows x 9 columns]\n",
      "cell ID =  1681 progress bar below: (n/N frames):\n"
     ]
    },
    {
     "data": {
      "application/vnd.jupyter.widget-view+json": {
       "model_id": "2058ff688fd1447ca7d2b25127b21ce3",
       "version_major": 2,
       "version_minor": 0
      },
      "text/plain": [
       "HBox(children=(FloatProgress(value=0.0, max=208.0), HTML(value='')))"
      ]
     },
     "metadata": {},
     "output_type": "display_data"
    },
    {
     "name": "stdout",
     "output_type": "stream",
     "text": [
      "\n",
      "    Cell ID Frame GFP Intensity RFP Intensity Phase Intensity  Area    x    y  \\\n",
      "0      1681   783        195406        317924        17823229  1108  158  924   \n",
      "1      1681   784        216639        356351        20725415  1245  155  925   \n",
      "2      1681   785        155767        272247        14352754   845  154  920   \n",
      "3      1681   786        130948        239642        11850606   693  155  918   \n",
      "4      1681   787        177431        305641        16263997   949  155  920   \n",
      "..      ...   ...           ...           ...             ...   ...  ...  ...   \n",
      "203    1681   986        417293        191187        12266160   813  153  908   \n",
      "204    1681   987        605618        288407        19230112  1329  157  908   \n",
      "205    1681   988        359754        171879        11534916   715  153  908   \n",
      "206    1681   989        483418        222605        16007250   983  153  906   \n",
      "207    1681   990        592472        264130        19565522  1251  157  907   \n",
      "\n",
      "                         mask_fn  \n",
      "0    s_0784_fucci_merge_gray.tif  \n",
      "1    s_0785_fucci_merge_gray.tif  \n",
      "2    s_0786_fucci_merge_gray.tif  \n",
      "3    s_0787_fucci_merge_gray.tif  \n",
      "4    s_0788_fucci_merge_gray.tif  \n",
      "..                           ...  \n",
      "203  s_0987_fucci_merge_gray.tif  \n",
      "204  s_0988_fucci_merge_gray.tif  \n",
      "205  s_0989_fucci_merge_gray.tif  \n",
      "206  s_0990_fucci_merge_gray.tif  \n",
      "207  s_0991_fucci_merge_gray.tif  \n",
      "\n",
      "[208 rows x 9 columns]\n",
      "cell ID =  1684 progress bar below: (n/N frames):\n"
     ]
    },
    {
     "data": {
      "application/vnd.jupyter.widget-view+json": {
       "model_id": "61f6b74caed1439a94cb92ac87433557",
       "version_major": 2,
       "version_minor": 0
      },
      "text/plain": [
       "HBox(children=(FloatProgress(value=0.0, max=308.0), HTML(value='')))"
      ]
     },
     "metadata": {},
     "output_type": "display_data"
    },
    {
     "name": "stdout",
     "output_type": "stream",
     "text": [
      "\n",
      "    Cell ID Frame GFP Intensity RFP Intensity Phase Intensity  Area    x    y  \\\n",
      "0      1684   784        107247        123752         8935513   576  441  327   \n",
      "1      1684   785             0             0               0     0  441  327   \n",
      "2      1684   786        110317        128697         8978606   583  441  326   \n",
      "3      1684   787             0             0               0     0  440  325   \n",
      "4      1684   788             0             0               0     0  440  324   \n",
      "..      ...   ...           ...           ...             ...   ...  ...  ...   \n",
      "303    1684  1087        448244        799476        18576537  1039  431  341   \n",
      "304    1684  1088        432000        766307        18297591  1029  430  341   \n",
      "305    1684  1089        409285        789351        15934862   970  432  341   \n",
      "306    1684  1090        425588        813058        17666851   981  430  342   \n",
      "307    1684  1091        442425        824254        19341729  1036  431  342   \n",
      "\n",
      "                         mask_fn  \n",
      "0    s_0785_fucci_merge_gray.tif  \n",
      "1    s_0786_fucci_merge_gray.tif  \n",
      "2    s_0787_fucci_merge_gray.tif  \n",
      "3    s_0788_fucci_merge_gray.tif  \n",
      "4    s_0789_fucci_merge_gray.tif  \n",
      "..                           ...  \n",
      "303  s_1088_fucci_merge_gray.tif  \n",
      "304  s_1089_fucci_merge_gray.tif  \n",
      "305  s_1090_fucci_merge_gray.tif  \n",
      "306  s_1091_fucci_merge_gray.tif  \n",
      "307  s_1092_fucci_merge_gray.tif  \n",
      "\n",
      "[308 rows x 9 columns]\n",
      "cell ID =  1694 progress bar below: (n/N frames):\n"
     ]
    },
    {
     "data": {
      "application/vnd.jupyter.widget-view+json": {
       "model_id": "56cb77d845d243a3b94a0a0b195f6604",
       "version_major": 2,
       "version_minor": 0
      },
      "text/plain": [
       "HBox(children=(FloatProgress(value=0.0, max=307.0), HTML(value='')))"
      ]
     },
     "metadata": {},
     "output_type": "display_data"
    },
    {
     "name": "stdout",
     "output_type": "stream",
     "text": [
      "\n",
      "    Cell ID Frame GFP Intensity RFP Intensity Phase Intensity  Area    x    y  \\\n",
      "0      1694   785         81709         92394         6943623   465  200  348   \n",
      "1      1694   786             0             0               0     0  200  348   \n",
      "2      1694   787        154322        173367        12351179   869  202  350   \n",
      "3      1694   788        160971        183143        13152458   923  201  351   \n",
      "4      1694   789        172371        201193        13824202   984  204  350   \n",
      "..      ...   ...           ...           ...             ...   ...  ...  ...   \n",
      "302    1694  1087        641000       1087593        18896237  1255  250  382   \n",
      "303    1694  1088        614931       1040736        18147140  1236  249  381   \n",
      "304    1694  1089        610947       1087210        19217616  1234  251  380   \n",
      "305    1694  1090        595247       1088956        18880383  1242  250  380   \n",
      "306    1694  1091        632567       1073367        20001385  1291  250  380   \n",
      "\n",
      "                         mask_fn  \n",
      "0    s_0786_fucci_merge_gray.tif  \n",
      "1    s_0787_fucci_merge_gray.tif  \n",
      "2    s_0788_fucci_merge_gray.tif  \n",
      "3    s_0789_fucci_merge_gray.tif  \n",
      "4    s_0790_fucci_merge_gray.tif  \n",
      "..                           ...  \n",
      "302  s_1088_fucci_merge_gray.tif  \n",
      "303  s_1089_fucci_merge_gray.tif  \n",
      "304  s_1090_fucci_merge_gray.tif  \n",
      "305  s_1091_fucci_merge_gray.tif  \n",
      "306  s_1092_fucci_merge_gray.tif  \n",
      "\n",
      "[307 rows x 9 columns]\n",
      "cell ID =  1691 progress bar below: (n/N frames):\n"
     ]
    },
    {
     "data": {
      "application/vnd.jupyter.widget-view+json": {
       "model_id": "1b0109ab855349b885c448658a3ced19",
       "version_major": 2,
       "version_minor": 0
      },
      "text/plain": [
       "HBox(children=(FloatProgress(value=0.0, max=307.0), HTML(value='')))"
      ]
     },
     "metadata": {},
     "output_type": "display_data"
    },
    {
     "name": "stdout",
     "output_type": "stream",
     "text": [
      "\n",
      "    Cell ID Frame GFP Intensity RFP Intensity Phase Intensity  Area    x    y  \\\n",
      "0      1691   785         23913         28662         1791010   127  433  430   \n",
      "1      1691   786        146263        177625        11822034   779  436  421   \n",
      "2      1691   787        137022        164567        11514707   726  438  421   \n",
      "3      1691   788        146241        180050        11663127   756  436  422   \n",
      "4      1691   789        168701        204452        13987934   910  438  423   \n",
      "..      ...   ...           ...           ...             ...   ...  ...  ...   \n",
      "302    1691  1087        548521        734538        51848400  1200  397  447   \n",
      "303    1691  1088        535863        697710        52781627  1169  396  448   \n",
      "304    1691  1089        528893        715376        53520831  1150  398  447   \n",
      "305    1691  1090        536346        732896        51658730  1166  395  449   \n",
      "306    1691  1091        563372        733715        55061774  1201  396  449   \n",
      "\n",
      "                         mask_fn  \n",
      "0    s_0786_fucci_merge_gray.tif  \n",
      "1    s_0787_fucci_merge_gray.tif  \n",
      "2    s_0788_fucci_merge_gray.tif  \n",
      "3    s_0789_fucci_merge_gray.tif  \n",
      "4    s_0790_fucci_merge_gray.tif  \n",
      "..                           ...  \n",
      "302  s_1088_fucci_merge_gray.tif  \n",
      "303  s_1089_fucci_merge_gray.tif  \n",
      "304  s_1090_fucci_merge_gray.tif  \n",
      "305  s_1091_fucci_merge_gray.tif  \n",
      "306  s_1092_fucci_merge_gray.tif  \n",
      "\n",
      "[307 rows x 9 columns]\n",
      "cell ID =  1697 progress bar below: (n/N frames):\n"
     ]
    },
    {
     "data": {
      "application/vnd.jupyter.widget-view+json": {
       "model_id": "3f6913d8a8ae478fba73eb7e60432914",
       "version_major": 2,
       "version_minor": 0
      },
      "text/plain": [
       "HBox(children=(FloatProgress(value=0.0, max=305.0), HTML(value='')))"
      ]
     },
     "metadata": {},
     "output_type": "display_data"
    },
    {
     "name": "stdout",
     "output_type": "stream",
     "text": [
      "\n",
      "    Cell ID Frame GFP Intensity RFP Intensity Phase Intensity  Area    x   y  \\\n",
      "0      1697   787        218151        250884        19013855  1260  493  53   \n",
      "1      1697   788        205129        242635        18122092  1173  491  54   \n",
      "2      1697   789        136320        159215        12227694   783  493  51   \n",
      "3      1697   790        198426        237604        17098914  1119  492  53   \n",
      "4      1697   791        206496        254870        17744614  1174  492  53   \n",
      "..      ...   ...           ...           ...             ...   ...  ...  ..   \n",
      "300    1697  1087        649854       1041606        33182071  1953  494  51   \n",
      "301    1697  1088        522154        859118        25377036  1535  487  51   \n",
      "302    1697  1089        661890       1089528        31246997  1965  495  51   \n",
      "303    1697  1090        507351        807299        22730131  1468  487  50   \n",
      "304    1697  1091        674079       1094223        32882027  1943  494  50   \n",
      "\n",
      "                         mask_fn  \n",
      "0    s_0788_fucci_merge_gray.tif  \n",
      "1    s_0789_fucci_merge_gray.tif  \n",
      "2    s_0790_fucci_merge_gray.tif  \n",
      "3    s_0791_fucci_merge_gray.tif  \n",
      "4    s_0792_fucci_merge_gray.tif  \n",
      "..                           ...  \n",
      "300  s_1088_fucci_merge_gray.tif  \n",
      "301  s_1089_fucci_merge_gray.tif  \n",
      "302  s_1090_fucci_merge_gray.tif  \n",
      "303  s_1091_fucci_merge_gray.tif  \n",
      "304  s_1092_fucci_merge_gray.tif  \n",
      "\n",
      "[305 rows x 9 columns]\n",
      "cell ID =  1699 progress bar below: (n/N frames):\n"
     ]
    },
    {
     "data": {
      "application/vnd.jupyter.widget-view+json": {
       "model_id": "9f8f685f1586408198b5c7a17ff6e0d8",
       "version_major": 2,
       "version_minor": 0
      },
      "text/plain": [
       "HBox(children=(FloatProgress(value=0.0, max=305.0), HTML(value='')))"
      ]
     },
     "metadata": {},
     "output_type": "display_data"
    },
    {
     "name": "stdout",
     "output_type": "stream",
     "text": [
      "\n",
      "    Cell ID Frame GFP Intensity RFP Intensity Phase Intensity  Area    x    y  \\\n",
      "0      1699   787         87718        116359        10321341   512  153  319   \n",
      "1      1699   788             0             0               0     0  153  319   \n",
      "2      1699   789         88007        116647         9242795   523  153  321   \n",
      "3      1699   790        107553        148139        10799033   621  152  321   \n",
      "4      1699   791        158714        226094        16402885   911  150  320   \n",
      "..      ...   ...           ...           ...             ...   ...  ...  ...   \n",
      "300    1699  1087       1039471        697773        10717976  1421  205  344   \n",
      "301    1699  1088       1031375        674511        10053493  1381  205  344   \n",
      "302    1699  1089       1033840        682515        11928520  1380  204  343   \n",
      "303    1699  1090       1063028        678480        10220839  1390  203  344   \n",
      "304    1699  1091       1086015        694942         9876664  1418  204  343   \n",
      "\n",
      "                         mask_fn  \n",
      "0    s_0788_fucci_merge_gray.tif  \n",
      "1    s_0789_fucci_merge_gray.tif  \n",
      "2    s_0790_fucci_merge_gray.tif  \n",
      "3    s_0791_fucci_merge_gray.tif  \n",
      "4    s_0792_fucci_merge_gray.tif  \n",
      "..                           ...  \n",
      "300  s_1088_fucci_merge_gray.tif  \n",
      "301  s_1089_fucci_merge_gray.tif  \n",
      "302  s_1090_fucci_merge_gray.tif  \n",
      "303  s_1091_fucci_merge_gray.tif  \n",
      "304  s_1092_fucci_merge_gray.tif  \n",
      "\n",
      "[305 rows x 9 columns]\n",
      "cell ID =  1702 progress bar below: (n/N frames):\n"
     ]
    },
    {
     "data": {
      "application/vnd.jupyter.widget-view+json": {
       "model_id": "52d3d9a76e484bd79d1031dac59d5056",
       "version_major": 2,
       "version_minor": 0
      },
      "text/plain": [
       "HBox(children=(FloatProgress(value=0.0, max=303.0), HTML(value='')))"
      ]
     },
     "metadata": {},
     "output_type": "display_data"
    },
    {
     "name": "stdout",
     "output_type": "stream",
     "text": [
      "\n",
      "    Cell ID Frame GFP Intensity RFP Intensity Phase Intensity  Area    x    y  \\\n",
      "0      1702   789        127309        131541        11606474   734  552  427   \n",
      "1      1702   790        120934        121504        10693935   670  551  428   \n",
      "2      1702   791         97751        105907         8681889   549  551  427   \n",
      "3      1702   792        136523        141350        12423055   763  551  428   \n",
      "4      1702   793        148481        160516        13343714   830  551  429   \n",
      "..      ...   ...           ...           ...             ...   ...  ...  ...   \n",
      "298    1702  1087        856279        902924        18765816  1324  484  431   \n",
      "299    1702  1088        829280        935713        17094852  1283  482  432   \n",
      "300    1702  1089        870253        919284        17976637  1304  483  433   \n",
      "301    1702  1090        837316        888169        16052005  1298  480  435   \n",
      "302    1702  1091        877291        947818        16103493  1280  480  435   \n",
      "\n",
      "                         mask_fn  \n",
      "0    s_0790_fucci_merge_gray.tif  \n",
      "1    s_0791_fucci_merge_gray.tif  \n",
      "2    s_0792_fucci_merge_gray.tif  \n",
      "3    s_0793_fucci_merge_gray.tif  \n",
      "4    s_0794_fucci_merge_gray.tif  \n",
      "..                           ...  \n",
      "298  s_1088_fucci_merge_gray.tif  \n",
      "299  s_1089_fucci_merge_gray.tif  \n",
      "300  s_1090_fucci_merge_gray.tif  \n",
      "301  s_1091_fucci_merge_gray.tif  \n",
      "302  s_1092_fucci_merge_gray.tif  \n",
      "\n",
      "[303 rows x 9 columns]\n",
      "cell ID =  1703 progress bar below: (n/N frames):\n"
     ]
    },
    {
     "data": {
      "application/vnd.jupyter.widget-view+json": {
       "model_id": "a0c96e2143234300bcb6d8fa1a463385",
       "version_major": 2,
       "version_minor": 0
      },
      "text/plain": [
       "HBox(children=(FloatProgress(value=0.0, max=302.0), HTML(value='')))"
      ]
     },
     "metadata": {},
     "output_type": "display_data"
    },
    {
     "name": "stdout",
     "output_type": "stream",
     "text": [
      "\n",
      "    Cell ID Frame GFP Intensity RFP Intensity Phase Intensity  Area    x    y  \\\n",
      "0      1703   790        162866        182988        10831866   927  486  293   \n",
      "1      1703   791             0             0               0     0  486  293   \n",
      "2      1703   792        183853        211482        12198057  1076  486  294   \n",
      "3      1703   793             0             0               0     0  486  294   \n",
      "4      1703   794             0             0               0     0  486  295   \n",
      "..      ...   ...           ...           ...             ...   ...  ...  ...   \n",
      "297    1703  1087        906591        395739        18110702   975  424  306   \n",
      "298    1703  1088        884097        382562        17889073   954  424  307   \n",
      "299    1703  1089        870230        383468        15836478   926  424  307   \n",
      "300    1703  1090        856859        383273        16828863   906  423  308   \n",
      "301    1703  1091        873927        366834        17387736   913  424  308   \n",
      "\n",
      "                         mask_fn  \n",
      "0    s_0791_fucci_merge_gray.tif  \n",
      "1    s_0792_fucci_merge_gray.tif  \n",
      "2    s_0793_fucci_merge_gray.tif  \n",
      "3    s_0794_fucci_merge_gray.tif  \n",
      "4    s_0795_fucci_merge_gray.tif  \n",
      "..                           ...  \n",
      "297  s_1088_fucci_merge_gray.tif  \n",
      "298  s_1089_fucci_merge_gray.tif  \n",
      "299  s_1090_fucci_merge_gray.tif  \n",
      "300  s_1091_fucci_merge_gray.tif  \n",
      "301  s_1092_fucci_merge_gray.tif  \n",
      "\n",
      "[302 rows x 9 columns]\n",
      "cell ID =  1709 progress bar below: (n/N frames):\n"
     ]
    },
    {
     "data": {
      "application/vnd.jupyter.widget-view+json": {
       "model_id": "171739bc34ef4e7fb74721b1409e0e34",
       "version_major": 2,
       "version_minor": 0
      },
      "text/plain": [
       "HBox(children=(FloatProgress(value=0.0, max=301.0), HTML(value='')))"
      ]
     },
     "metadata": {},
     "output_type": "display_data"
    },
    {
     "name": "stdout",
     "output_type": "stream",
     "text": [
      "\n",
      "    Cell ID Frame GFP Intensity RFP Intensity Phase Intensity  Area    x    y  \\\n",
      "0      1709   791        170797        215973        11898111   991  729  779   \n",
      "1      1709   792         84032        112901         6084137   479  728  781   \n",
      "2      1709   793        177233        229345        12419190  1030  728  778   \n",
      "3      1709   794        139923        185717        10033163   805  730  780   \n",
      "4      1709   795             0             0               0     0  732  781   \n",
      "..      ...   ...           ...           ...             ...   ...  ...  ...   \n",
      "296    1709  1087        717661        557182        12564916  1303  734  791   \n",
      "297    1709  1088        710705        532803        12415833  1268  733  790   \n",
      "298    1709  1089        724500        549267        13104627  1279  734  791   \n",
      "299    1709  1090        709191        529176        13281380  1235  733  791   \n",
      "300    1709  1091        738868        534811        12126269  1259  734  789   \n",
      "\n",
      "                         mask_fn  \n",
      "0    s_0792_fucci_merge_gray.tif  \n",
      "1    s_0793_fucci_merge_gray.tif  \n",
      "2    s_0794_fucci_merge_gray.tif  \n",
      "3    s_0795_fucci_merge_gray.tif  \n",
      "4    s_0796_fucci_merge_gray.tif  \n",
      "..                           ...  \n",
      "296  s_1088_fucci_merge_gray.tif  \n",
      "297  s_1089_fucci_merge_gray.tif  \n",
      "298  s_1090_fucci_merge_gray.tif  \n",
      "299  s_1091_fucci_merge_gray.tif  \n",
      "300  s_1092_fucci_merge_gray.tif  \n",
      "\n",
      "[301 rows x 9 columns]\n",
      "cell ID =  1718 progress bar below: (n/N frames):\n"
     ]
    },
    {
     "data": {
      "application/vnd.jupyter.widget-view+json": {
       "model_id": "9b33c8178d554190867cd291e5d41034",
       "version_major": 2,
       "version_minor": 0
      },
      "text/plain": [
       "HBox(children=(FloatProgress(value=0.0, max=298.0), HTML(value='')))"
      ]
     },
     "metadata": {},
     "output_type": "display_data"
    },
    {
     "name": "stdout",
     "output_type": "stream",
     "text": [
      "\n",
      "    Cell ID Frame GFP Intensity RFP Intensity Phase Intensity  Area    x    y  \\\n",
      "0      1718   794        144503        159173        13256176   866  803  343   \n",
      "1      1718   795             0             0               0     0  803  343   \n",
      "2      1718   796             0             0               0     0  803  343   \n",
      "3      1718   797        180742        197294        15988602  1088  804  348   \n",
      "4      1718   798        144239        162397        13178577   872  801  348   \n",
      "..      ...   ...           ...           ...             ...   ...  ...  ...   \n",
      "293    1718  1087       1024694        191589        23870727  1784  816  341   \n",
      "294    1718  1088       1033141        186741        25255265  1749  815  341   \n",
      "295    1718  1089       1018916        182731        23364723  1717  817  341   \n",
      "296    1718  1090       1064914        191993        23857349  1791  817  341   \n",
      "297    1718  1091       1051234        190058        24131193  1772  817  341   \n",
      "\n",
      "                         mask_fn  \n",
      "0    s_0795_fucci_merge_gray.tif  \n",
      "1    s_0796_fucci_merge_gray.tif  \n",
      "2    s_0797_fucci_merge_gray.tif  \n",
      "3    s_0798_fucci_merge_gray.tif  \n",
      "4    s_0799_fucci_merge_gray.tif  \n",
      "..                           ...  \n",
      "293  s_1088_fucci_merge_gray.tif  \n",
      "294  s_1089_fucci_merge_gray.tif  \n",
      "295  s_1090_fucci_merge_gray.tif  \n",
      "296  s_1091_fucci_merge_gray.tif  \n",
      "297  s_1092_fucci_merge_gray.tif  \n",
      "\n",
      "[298 rows x 9 columns]\n",
      "cell ID =  1721 progress bar below: (n/N frames):\n"
     ]
    },
    {
     "data": {
      "application/vnd.jupyter.widget-view+json": {
       "model_id": "ab89a71416254ee09487b7781841d858",
       "version_major": 2,
       "version_minor": 0
      },
      "text/plain": [
       "HBox(children=(FloatProgress(value=0.0, max=297.0), HTML(value='')))"
      ]
     },
     "metadata": {},
     "output_type": "display_data"
    },
    {
     "name": "stdout",
     "output_type": "stream",
     "text": [
      "\n",
      "    Cell ID Frame GFP Intensity RFP Intensity Phase Intensity  Area    x    y  \\\n",
      "0      1721   795        117724        199263        15434287   702  106  917   \n",
      "1      1721   796             0             0               0     0  106  917   \n",
      "2      1721   797             0             0               0     0  106  917   \n",
      "3      1721   798        159032        261278        21277512   946  105  919   \n",
      "4      1721   799        189676        303961        23756662  1134  105  921   \n",
      "..      ...   ...           ...           ...             ...   ...  ...  ...   \n",
      "292    1721  1087       1189263        184223        32322400  1668   75  916   \n",
      "293    1721  1088       1046178        156800        28018366  1422   74  917   \n",
      "294    1721  1089        961323        137421        22963003  1258   75  916   \n",
      "295    1721  1090       1081623        157050        28779174  1423   74  918   \n",
      "296    1721  1091       1171018        179471        33069341  1636   76  920   \n",
      "\n",
      "                         mask_fn  \n",
      "0    s_0796_fucci_merge_gray.tif  \n",
      "1    s_0797_fucci_merge_gray.tif  \n",
      "2    s_0798_fucci_merge_gray.tif  \n",
      "3    s_0799_fucci_merge_gray.tif  \n",
      "4    s_0800_fucci_merge_gray.tif  \n",
      "..                           ...  \n",
      "292  s_1088_fucci_merge_gray.tif  \n",
      "293  s_1089_fucci_merge_gray.tif  \n",
      "294  s_1090_fucci_merge_gray.tif  \n",
      "295  s_1091_fucci_merge_gray.tif  \n",
      "296  s_1092_fucci_merge_gray.tif  \n",
      "\n",
      "[297 rows x 9 columns]\n",
      "cell ID =  1726 progress bar below: (n/N frames):\n"
     ]
    },
    {
     "data": {
      "application/vnd.jupyter.widget-view+json": {
       "model_id": "2f138f9c44f140c4bf8ae50e97ee6ac7",
       "version_major": 2,
       "version_minor": 0
      },
      "text/plain": [
       "HBox(children=(FloatProgress(value=0.0, max=295.0), HTML(value='')))"
      ]
     },
     "metadata": {},
     "output_type": "display_data"
    },
    {
     "name": "stdout",
     "output_type": "stream",
     "text": [
      "\n",
      "    Cell ID Frame GFP Intensity RFP Intensity Phase Intensity  Area    x    y  \\\n",
      "0      1726   797        186286        231558        12063932  1125  913  323   \n",
      "1      1726   798        158621        202281        10147160   954  912  325   \n",
      "2      1726   799        171303        206986        10537901  1012  911  324   \n",
      "3      1726   800        149541        183471         9333083   895  912  325   \n",
      "4      1726   801        144162        186354         8918656   854  912  326   \n",
      "..      ...   ...           ...           ...             ...   ...  ...  ...   \n",
      "290    1726  1087        657848        240969        19541880  1273  925  403   \n",
      "291    1726  1088        637791        228303        18662928  1208  924  404   \n",
      "292    1726  1089        655150        230881        18890146  1226  925  404   \n",
      "293    1726  1090        660258        229382        19211878  1244  924  404   \n",
      "294    1726  1091        668936        227379        19572130  1261  924  404   \n",
      "\n",
      "                         mask_fn  \n",
      "0    s_0798_fucci_merge_gray.tif  \n",
      "1    s_0799_fucci_merge_gray.tif  \n",
      "2    s_0800_fucci_merge_gray.tif  \n",
      "3    s_0801_fucci_merge_gray.tif  \n",
      "4    s_0802_fucci_merge_gray.tif  \n",
      "..                           ...  \n",
      "290  s_1088_fucci_merge_gray.tif  \n",
      "291  s_1089_fucci_merge_gray.tif  \n",
      "292  s_1090_fucci_merge_gray.tif  \n",
      "293  s_1091_fucci_merge_gray.tif  \n",
      "294  s_1092_fucci_merge_gray.tif  \n",
      "\n",
      "[295 rows x 9 columns]\n",
      "cell ID =  1736 progress bar below: (n/N frames):\n"
     ]
    },
    {
     "data": {
      "application/vnd.jupyter.widget-view+json": {
       "model_id": "1924017d3a5e491b9ca2f0cdee54d3d9",
       "version_major": 2,
       "version_minor": 0
      },
      "text/plain": [
       "HBox(children=(FloatProgress(value=0.0, max=294.0), HTML(value='')))"
      ]
     },
     "metadata": {},
     "output_type": "display_data"
    },
    {
     "name": "stdout",
     "output_type": "stream",
     "text": [
      "\n",
      "    Cell ID Frame GFP Intensity RFP Intensity Phase Intensity  Area    x    y  \\\n",
      "0      1736   798        137023        159613        11460509   789  282  167   \n",
      "1      1736   799        152597        177183        12656490   874  281  167   \n",
      "2      1736   800        148814        170432        12549072   844  282  166   \n",
      "3      1736   801             0             0               0     0  282  165   \n",
      "4      1736   802             0             0               0     0  283  164   \n",
      "..      ...   ...           ...           ...             ...   ...  ...  ...   \n",
      "289    1736  1087        662458        421572        22599261  1081  277  206   \n",
      "290    1736  1088        675150        439332        22787377  1089  276  206   \n",
      "291    1736  1089        679351        442443        21828882  1104  277  206   \n",
      "292    1736  1090        684216        433336        22203859  1092  277  206   \n",
      "293    1736  1091        679419        429269        22280946  1084  277  206   \n",
      "\n",
      "                         mask_fn  \n",
      "0    s_0799_fucci_merge_gray.tif  \n",
      "1    s_0800_fucci_merge_gray.tif  \n",
      "2    s_0801_fucci_merge_gray.tif  \n",
      "3    s_0802_fucci_merge_gray.tif  \n",
      "4    s_0803_fucci_merge_gray.tif  \n",
      "..                           ...  \n",
      "289  s_1088_fucci_merge_gray.tif  \n",
      "290  s_1089_fucci_merge_gray.tif  \n",
      "291  s_1090_fucci_merge_gray.tif  \n",
      "292  s_1091_fucci_merge_gray.tif  \n",
      "293  s_1092_fucci_merge_gray.tif  \n",
      "\n",
      "[294 rows x 9 columns]\n",
      "cell ID =  1731 progress bar below: (n/N frames):\n"
     ]
    },
    {
     "data": {
      "application/vnd.jupyter.widget-view+json": {
       "model_id": "dddbe230782e41dab23e78653f3f5a9c",
       "version_major": 2,
       "version_minor": 0
      },
      "text/plain": [
       "HBox(children=(FloatProgress(value=0.0, max=294.0), HTML(value='')))"
      ]
     },
     "metadata": {},
     "output_type": "display_data"
    },
    {
     "name": "stdout",
     "output_type": "stream",
     "text": [
      "\n",
      "    Cell ID Frame GFP Intensity RFP Intensity Phase Intensity  Area   x    y  \\\n",
      "0      1731   798          2766          5415          436772    18  44  911   \n",
      "1      1731   799        188224        301465        26645924  1201  44  906   \n",
      "2      1731   800             0             0               0     0  43  901   \n",
      "3      1731   801        194326        314448        29308375  1254  44  907   \n",
      "4      1731   802        179691        308003        25733701  1149  44  907   \n",
      "..      ...   ...           ...           ...             ...   ...  ..  ...   \n",
      "289    1731  1087        474759       1077365        40482978  1763  21  898   \n",
      "290    1731  1088        457279       1118018        41590141  1706  21  899   \n",
      "291    1731  1089        459483       1077479        38279828  1711  22  900   \n",
      "292    1731  1090        465216       1104133        40005151  1689  21  901   \n",
      "293    1731  1091        497261       1136787        42865055  1830  22  902   \n",
      "\n",
      "                         mask_fn  \n",
      "0    s_0799_fucci_merge_gray.tif  \n",
      "1    s_0800_fucci_merge_gray.tif  \n",
      "2    s_0801_fucci_merge_gray.tif  \n",
      "3    s_0802_fucci_merge_gray.tif  \n",
      "4    s_0803_fucci_merge_gray.tif  \n",
      "..                           ...  \n",
      "289  s_1088_fucci_merge_gray.tif  \n",
      "290  s_1089_fucci_merge_gray.tif  \n",
      "291  s_1090_fucci_merge_gray.tif  \n",
      "292  s_1091_fucci_merge_gray.tif  \n",
      "293  s_1092_fucci_merge_gray.tif  \n",
      "\n",
      "[294 rows x 9 columns]\n",
      "cell ID =  1727 progress bar below: (n/N frames):\n"
     ]
    },
    {
     "data": {
      "application/vnd.jupyter.widget-view+json": {
       "model_id": "71abfa2a294a4ee481dfe5a3cbaf4c65",
       "version_major": 2,
       "version_minor": 0
      },
      "text/plain": [
       "HBox(children=(FloatProgress(value=0.0, max=294.0), HTML(value='')))"
      ]
     },
     "metadata": {},
     "output_type": "display_data"
    },
    {
     "name": "stdout",
     "output_type": "stream",
     "text": [
      "\n",
      "    Cell ID Frame GFP Intensity RFP Intensity Phase Intensity  Area    x    y  \\\n",
      "0      1727   798        161229        176985        10745096   918  516  389   \n",
      "1      1727   799             0             0               0     0  516  389   \n",
      "2      1727   800        130010        142263         8740973   721  515  388   \n",
      "3      1727   801        151060        171867         9771377   848  514  388   \n",
      "4      1727   802         64700         76262         4519411   351  511  388   \n",
      "..      ...   ...           ...           ...             ...   ...  ...  ...   \n",
      "289    1727  1087        520438       1012321        21925693  1167  467  380   \n",
      "290    1727  1088        517008        990298        21712526  1141  466  381   \n",
      "291    1727  1089        523593       1054455        19775698  1150  466  381   \n",
      "292    1727  1090        532464       1017796        21343901  1144  465  382   \n",
      "293    1727  1091        545459       1043175        21986998  1166  466  383   \n",
      "\n",
      "                         mask_fn  \n",
      "0    s_0799_fucci_merge_gray.tif  \n",
      "1    s_0800_fucci_merge_gray.tif  \n",
      "2    s_0801_fucci_merge_gray.tif  \n",
      "3    s_0802_fucci_merge_gray.tif  \n",
      "4    s_0803_fucci_merge_gray.tif  \n",
      "..                           ...  \n",
      "289  s_1088_fucci_merge_gray.tif  \n",
      "290  s_1089_fucci_merge_gray.tif  \n",
      "291  s_1090_fucci_merge_gray.tif  \n",
      "292  s_1091_fucci_merge_gray.tif  \n",
      "293  s_1092_fucci_merge_gray.tif  \n",
      "\n",
      "[294 rows x 9 columns]\n",
      "cell ID =  1738 progress bar below: (n/N frames):\n"
     ]
    },
    {
     "data": {
      "application/vnd.jupyter.widget-view+json": {
       "model_id": "d7ef055f58854561aa1f772dd65abd3d",
       "version_major": 2,
       "version_minor": 0
      },
      "text/plain": [
       "HBox(children=(FloatProgress(value=0.0, max=292.0), HTML(value='')))"
      ]
     },
     "metadata": {},
     "output_type": "display_data"
    },
    {
     "name": "stdout",
     "output_type": "stream",
     "text": [
      "\n",
      "    Cell ID Frame GFP Intensity RFP Intensity Phase Intensity  Area    x    y  \\\n",
      "0      1738   799        138547        154870        12383951   769  236   40   \n",
      "1      1738   800        104577        115180         9175259   559  239   39   \n",
      "2      1738   801             0             0               0     0  241   38   \n",
      "3      1738   802          3584          3881          293667    18  248   37   \n",
      "4      1738   804         24214         33279         2530705   135  248   77   \n",
      "..      ...   ...           ...           ...             ...   ...  ...  ...   \n",
      "287    1738  1087        975113        474779        27103543  1450  263  105   \n",
      "288    1738  1088        976296        461187        27142995  1458  263  105   \n",
      "289    1738  1089        985525        471679        25401523  1438  264  105   \n",
      "290    1738  1090        986533        455865        26370969  1443  262  105   \n",
      "291    1738  1091        986488        455855        26620204  1424  263  104   \n",
      "\n",
      "                         mask_fn  \n",
      "0    s_0800_fucci_merge_gray.tif  \n",
      "1    s_0801_fucci_merge_gray.tif  \n",
      "2    s_0802_fucci_merge_gray.tif  \n",
      "3    s_0803_fucci_merge_gray.tif  \n",
      "4    s_0805_fucci_merge_gray.tif  \n",
      "..                           ...  \n",
      "287  s_1088_fucci_merge_gray.tif  \n",
      "288  s_1089_fucci_merge_gray.tif  \n",
      "289  s_1090_fucci_merge_gray.tif  \n",
      "290  s_1091_fucci_merge_gray.tif  \n",
      "291  s_1092_fucci_merge_gray.tif  \n",
      "\n",
      "[292 rows x 9 columns]\n",
      "cell ID =  1748 progress bar below: (n/N frames):\n"
     ]
    },
    {
     "data": {
      "application/vnd.jupyter.widget-view+json": {
       "model_id": "85d8d73fb7f74d3d84d72e3ccf3a8537",
       "version_major": 2,
       "version_minor": 0
      },
      "text/plain": [
       "HBox(children=(FloatProgress(value=0.0, max=290.0), HTML(value='')))"
      ]
     },
     "metadata": {},
     "output_type": "display_data"
    },
    {
     "name": "stdout",
     "output_type": "stream",
     "text": [
      "\n",
      "    Cell ID Frame GFP Intensity RFP Intensity Phase Intensity  Area    x   y  \\\n",
      "0      1748   802           741          1031           70066     4  236  40   \n",
      "1      1748   803        141123        161377        12402951   764  237  40   \n",
      "2      1748   804         75643         93691         6655908   413  239  40   \n",
      "3      1748   805         89347        109013         7959700   488  237  40   \n",
      "4      1748   806        119479        143065        10438818   642  238  40   \n",
      "..      ...   ...           ...           ...             ...   ...  ...  ..   \n",
      "285    1748  1087        404849        814905        24759250  1332  221  57   \n",
      "286    1748  1088        396587        785520        24552551  1305  220  57   \n",
      "287    1748  1089        402463        841574        26013460  1341  221  56   \n",
      "288    1748  1090        399424        837717        23125030  1307  219  56   \n",
      "289    1748  1091        404467        803815        24088121  1317  220  56   \n",
      "\n",
      "                         mask_fn  \n",
      "0    s_0803_fucci_merge_gray.tif  \n",
      "1    s_0804_fucci_merge_gray.tif  \n",
      "2    s_0805_fucci_merge_gray.tif  \n",
      "3    s_0806_fucci_merge_gray.tif  \n",
      "4    s_0807_fucci_merge_gray.tif  \n",
      "..                           ...  \n",
      "285  s_1088_fucci_merge_gray.tif  \n",
      "286  s_1089_fucci_merge_gray.tif  \n",
      "287  s_1090_fucci_merge_gray.tif  \n",
      "288  s_1091_fucci_merge_gray.tif  \n",
      "289  s_1092_fucci_merge_gray.tif  \n",
      "\n",
      "[290 rows x 9 columns]\n",
      "cell ID =  1749 progress bar below: (n/N frames):\n"
     ]
    },
    {
     "data": {
      "application/vnd.jupyter.widget-view+json": {
       "model_id": "d1650eb0dab2488b8ac72e5d528feaea",
       "version_major": 2,
       "version_minor": 0
      },
      "text/plain": [
       "HBox(children=(FloatProgress(value=0.0, max=289.0), HTML(value='')))"
      ]
     },
     "metadata": {},
     "output_type": "display_data"
    },
    {
     "name": "stdout",
     "output_type": "stream",
     "text": [
      "\n",
      "    Cell ID Frame GFP Intensity RFP Intensity Phase Intensity Area    x    y  \\\n",
      "0      1749   803         66514         83038         7236152  377  874  661   \n",
      "1      1749   804             0             0               0    0  874  661   \n",
      "2      1749   805             0             0               0    0  874  661   \n",
      "3      1749   806         65107         81780         6865842  368  875  659   \n",
      "4      1749   807         86086        110902         9324282  493  876  659   \n",
      "..      ...   ...           ...           ...             ...  ...  ...  ...   \n",
      "284    1749  1087        606959        244552        17092780  970  876  671   \n",
      "285    1749  1088        556923        227619        16005996  876  876  672   \n",
      "286    1749  1089        565633        226282        15545243  885  877  672   \n",
      "287    1749  1090        589278        233995        17332653  912  876  673   \n",
      "288    1749  1091        618247        240106        19163813  973  876  672   \n",
      "\n",
      "                         mask_fn  \n",
      "0    s_0804_fucci_merge_gray.tif  \n",
      "1    s_0805_fucci_merge_gray.tif  \n",
      "2    s_0806_fucci_merge_gray.tif  \n",
      "3    s_0807_fucci_merge_gray.tif  \n",
      "4    s_0808_fucci_merge_gray.tif  \n",
      "..                           ...  \n",
      "284  s_1088_fucci_merge_gray.tif  \n",
      "285  s_1089_fucci_merge_gray.tif  \n",
      "286  s_1090_fucci_merge_gray.tif  \n",
      "287  s_1091_fucci_merge_gray.tif  \n",
      "288  s_1092_fucci_merge_gray.tif  \n",
      "\n",
      "[289 rows x 9 columns]\n",
      "cell ID =  1760 progress bar below: (n/N frames):\n"
     ]
    },
    {
     "data": {
      "application/vnd.jupyter.widget-view+json": {
       "model_id": "591437de482c4a9dba59ecb3ba38e240",
       "version_major": 2,
       "version_minor": 0
      },
      "text/plain": [
       "HBox(children=(FloatProgress(value=0.0, max=285.0), HTML(value='')))"
      ]
     },
     "metadata": {},
     "output_type": "display_data"
    },
    {
     "name": "stdout",
     "output_type": "stream",
     "text": [
      "\n",
      "    Cell ID Frame GFP Intensity RFP Intensity Phase Intensity  Area     x  \\\n",
      "0      1760   807        138674        170618        12331478   869  1010   \n",
      "1      1760   808             0             0               0     0  1010   \n",
      "2      1760   809             0             0               0     0  1010   \n",
      "3      1760   810        154308        189413        13123019   975  1009   \n",
      "4      1760   811        151894        188888        12746779   939  1009   \n",
      "..      ...   ...           ...           ...             ...   ...   ...   \n",
      "280    1760  1087        454606        385984        18500605  1053  1008   \n",
      "281    1760  1088        442308        376930        18699931  1006  1008   \n",
      "282    1760  1089        403241        345672        15845278   888  1009   \n",
      "283    1760  1090        430395        369312        18444168   985  1009   \n",
      "284    1760  1091        449406        378800        18355126  1011  1008   \n",
      "\n",
      "       y                      mask_fn  \n",
      "0    645  s_0808_fucci_merge_gray.tif  \n",
      "1    645  s_0809_fucci_merge_gray.tif  \n",
      "2    645  s_0810_fucci_merge_gray.tif  \n",
      "3    645  s_0811_fucci_merge_gray.tif  \n",
      "4    644  s_0812_fucci_merge_gray.tif  \n",
      "..   ...                          ...  \n",
      "280  616  s_1088_fucci_merge_gray.tif  \n",
      "281  617  s_1089_fucci_merge_gray.tif  \n",
      "282  616  s_1090_fucci_merge_gray.tif  \n",
      "283  616  s_1091_fucci_merge_gray.tif  \n",
      "284  616  s_1092_fucci_merge_gray.tif  \n",
      "\n",
      "[285 rows x 9 columns]\n",
      "cell ID =  1762 progress bar below: (n/N frames):\n"
     ]
    },
    {
     "data": {
      "application/vnd.jupyter.widget-view+json": {
       "model_id": "831e4105b513485ab05debe896f41587",
       "version_major": 2,
       "version_minor": 0
      },
      "text/plain": [
       "HBox(children=(FloatProgress(value=0.0, max=284.0), HTML(value='')))"
      ]
     },
     "metadata": {},
     "output_type": "display_data"
    },
    {
     "name": "stdout",
     "output_type": "stream",
     "text": [
      "\n",
      "    Cell ID Frame GFP Intensity RFP Intensity Phase Intensity  Area    x    y  \\\n",
      "0      1762   808         49453         65520         4886685   273  901  110   \n",
      "1      1762   809             0             0               0     0  901  110   \n",
      "2      1762   810         55634         75197         5631245   316  901  109   \n",
      "3      1762   811         87158        115102         8717521   495  901  108   \n",
      "4      1762   812             0             0               0     0  900  107   \n",
      "..      ...   ...           ...           ...             ...   ...  ...  ...   \n",
      "279    1762  1087        320414        605127        19306382  1020  896  115   \n",
      "280    1762  1088        334488        597618        18862452  1034  896  114   \n",
      "281    1762  1089        325279        619621        18883067  1033  898  115   \n",
      "282    1762  1090        335391        647552        18600346  1035  897  115   \n",
      "283    1762  1091        332722        634896        19185678  1040  898  115   \n",
      "\n",
      "                         mask_fn  \n",
      "0    s_0809_fucci_merge_gray.tif  \n",
      "1    s_0810_fucci_merge_gray.tif  \n",
      "2    s_0811_fucci_merge_gray.tif  \n",
      "3    s_0812_fucci_merge_gray.tif  \n",
      "4    s_0813_fucci_merge_gray.tif  \n",
      "..                           ...  \n",
      "279  s_1088_fucci_merge_gray.tif  \n",
      "280  s_1089_fucci_merge_gray.tif  \n",
      "281  s_1090_fucci_merge_gray.tif  \n",
      "282  s_1091_fucci_merge_gray.tif  \n",
      "283  s_1092_fucci_merge_gray.tif  \n",
      "\n",
      "[284 rows x 9 columns]\n",
      "cell ID =  1766 progress bar below: (n/N frames):\n"
     ]
    },
    {
     "data": {
      "application/vnd.jupyter.widget-view+json": {
       "model_id": "ae684d65bd5c4dbca25370136a3fa4b2",
       "version_major": 2,
       "version_minor": 0
      },
      "text/plain": [
       "HBox(children=(FloatProgress(value=0.0, max=283.0), HTML(value='')))"
      ]
     },
     "metadata": {},
     "output_type": "display_data"
    },
    {
     "name": "stdout",
     "output_type": "stream",
     "text": [
      "\n",
      "    Cell ID Frame GFP Intensity RFP Intensity Phase Intensity  Area    x    y  \\\n",
      "0      1766   809        191679        213613        15557975  1095  794  276   \n",
      "1      1766   810        167463        189103        14125933   961  792  276   \n",
      "2      1766   811        191948        210366        16095412  1080  792  276   \n",
      "3      1766   812             0             0               0     0  791  276   \n",
      "4      1766   813             0             0               0     0  791  276   \n",
      "..      ...   ...           ...           ...             ...   ...  ...  ...   \n",
      "278    1766  1087       1009060        184812        18952808  1724  743  308   \n",
      "279    1766  1088        984660        177028        19532448  1653  742  308   \n",
      "280    1766  1089       1007993        175646        19136784  1653  744  308   \n",
      "281    1766  1090       1011407        180764        18949518  1686  743  309   \n",
      "282    1766  1091       1036484        186211        19326792  1731  744  309   \n",
      "\n",
      "                         mask_fn  \n",
      "0    s_0810_fucci_merge_gray.tif  \n",
      "1    s_0811_fucci_merge_gray.tif  \n",
      "2    s_0812_fucci_merge_gray.tif  \n",
      "3    s_0813_fucci_merge_gray.tif  \n",
      "4    s_0814_fucci_merge_gray.tif  \n",
      "..                           ...  \n",
      "278  s_1088_fucci_merge_gray.tif  \n",
      "279  s_1089_fucci_merge_gray.tif  \n",
      "280  s_1090_fucci_merge_gray.tif  \n",
      "281  s_1091_fucci_merge_gray.tif  \n",
      "282  s_1092_fucci_merge_gray.tif  \n",
      "\n",
      "[283 rows x 9 columns]\n",
      "cell ID =  1772 progress bar below: (n/N frames):\n"
     ]
    },
    {
     "data": {
      "application/vnd.jupyter.widget-view+json": {
       "model_id": "d7c715cc8cb84e2dba0596520c22c2dd",
       "version_major": 2,
       "version_minor": 0
      },
      "text/plain": [
       "HBox(children=(FloatProgress(value=0.0, max=281.0), HTML(value='')))"
      ]
     },
     "metadata": {},
     "output_type": "display_data"
    },
    {
     "name": "stdout",
     "output_type": "stream",
     "text": [
      "\n",
      "    Cell ID Frame GFP Intensity RFP Intensity Phase Intensity  Area    x   y  \\\n",
      "0      1772   811         50585         33675         3550422   166  959   2   \n",
      "1      1772   812         51463         35473         3613276   167  964   3   \n",
      "2      1772   813         54347         35010         3512231   166  961   2   \n",
      "3      1772   814         67883         46161         4565688   222  964   3   \n",
      "4      1772   815             0             0               0     0  966   4   \n",
      "..      ...   ...           ...           ...             ...   ...  ...  ..   \n",
      "276    1772  1087       1038553        223211        42921886  2121  960  30   \n",
      "277    1772  1088        955012        199974        38188070  1907  960  30   \n",
      "278    1772  1089        907651        190526        39285887  1825  964  29   \n",
      "279    1772  1090        998305        208830        40183155  1985  963  31   \n",
      "280    1772  1091       1012969        216762        43876147  2065  964  31   \n",
      "\n",
      "                         mask_fn  \n",
      "0    s_0812_fucci_merge_gray.tif  \n",
      "1    s_0813_fucci_merge_gray.tif  \n",
      "2    s_0814_fucci_merge_gray.tif  \n",
      "3    s_0815_fucci_merge_gray.tif  \n",
      "4    s_0816_fucci_merge_gray.tif  \n",
      "..                           ...  \n",
      "276  s_1088_fucci_merge_gray.tif  \n",
      "277  s_1089_fucci_merge_gray.tif  \n",
      "278  s_1090_fucci_merge_gray.tif  \n",
      "279  s_1091_fucci_merge_gray.tif  \n",
      "280  s_1092_fucci_merge_gray.tif  \n",
      "\n",
      "[281 rows x 9 columns]\n",
      "cell ID =  1777 progress bar below: (n/N frames):\n"
     ]
    },
    {
     "data": {
      "application/vnd.jupyter.widget-view+json": {
       "model_id": "8c45f67520a94a2b927e6c0f279aa30b",
       "version_major": 2,
       "version_minor": 0
      },
      "text/plain": [
       "HBox(children=(FloatProgress(value=0.0, max=279.0), HTML(value='')))"
      ]
     },
     "metadata": {},
     "output_type": "display_data"
    },
    {
     "name": "stdout",
     "output_type": "stream",
     "text": [
      "\n",
      "    Cell ID Frame GFP Intensity RFP Intensity Phase Intensity  Area    x   y  \\\n",
      "0      1777   813         98696        136480        12159213   612   72  13   \n",
      "1      1777   814        104183        144654        13051761   649   72  13   \n",
      "2      1777   815             0             0               0     0   72  13   \n",
      "3      1777   816         83206        109123        10285329   507   69  13   \n",
      "4      1777   817        116562        159254        14575083   729   72  13   \n",
      "..      ...   ...           ...           ...             ...   ...  ...  ..   \n",
      "274    1777  1087       1012201        224022        30832754  1996  105  24   \n",
      "275    1777  1088       1025045        230495        33522542  2063  103  24   \n",
      "276    1777  1089        999048        225661        32757017  2016  106  24   \n",
      "277    1777  1090       1046033        231605        33068748  2055  105  24   \n",
      "278    1777  1091       1013453        222045        32417193  1971  106  24   \n",
      "\n",
      "                         mask_fn  \n",
      "0    s_0814_fucci_merge_gray.tif  \n",
      "1    s_0815_fucci_merge_gray.tif  \n",
      "2    s_0816_fucci_merge_gray.tif  \n",
      "3    s_0817_fucci_merge_gray.tif  \n",
      "4    s_0818_fucci_merge_gray.tif  \n",
      "..                           ...  \n",
      "274  s_1088_fucci_merge_gray.tif  \n",
      "275  s_1089_fucci_merge_gray.tif  \n",
      "276  s_1090_fucci_merge_gray.tif  \n",
      "277  s_1091_fucci_merge_gray.tif  \n",
      "278  s_1092_fucci_merge_gray.tif  \n",
      "\n",
      "[279 rows x 9 columns]\n",
      "cell ID =  1781 progress bar below: (n/N frames):\n"
     ]
    },
    {
     "data": {
      "application/vnd.jupyter.widget-view+json": {
       "model_id": "e396b4f751d94ad69c7d7b083f19436e",
       "version_major": 2,
       "version_minor": 0
      },
      "text/plain": [
       "HBox(children=(FloatProgress(value=0.0, max=277.0), HTML(value='')))"
      ]
     },
     "metadata": {},
     "output_type": "display_data"
    },
    {
     "name": "stdout",
     "output_type": "stream",
     "text": [
      "\n",
      "    Cell ID Frame GFP Intensity RFP Intensity Phase Intensity  Area    x   y  \\\n",
      "0      1781   815        105670        120567        10850937   629  591  19   \n",
      "1      1781   816         80418         89976         8264802   481  591  18   \n",
      "2      1781   817        148684        164478        15595967   896  593  19   \n",
      "3      1781   818        122079        141763        12670384   729  594  19   \n",
      "4      1781   819        115561        134749        11663843   692  594  19   \n",
      "..      ...   ...           ...           ...             ...   ...  ...  ..   \n",
      "272    1781  1087        751550        544243        22323678  1482  614  58   \n",
      "273    1781  1088        744271        517131        20299086  1450  614  58   \n",
      "274    1781  1089        764080        546164        18793381  1446  616  58   \n",
      "275    1781  1090        746237        526748        19098225  1437  614  58   \n",
      "276    1781  1091        759023        523943        20573978  1431  615  58   \n",
      "\n",
      "                         mask_fn  \n",
      "0    s_0816_fucci_merge_gray.tif  \n",
      "1    s_0817_fucci_merge_gray.tif  \n",
      "2    s_0818_fucci_merge_gray.tif  \n",
      "3    s_0819_fucci_merge_gray.tif  \n",
      "4    s_0820_fucci_merge_gray.tif  \n",
      "..                           ...  \n",
      "272  s_1088_fucci_merge_gray.tif  \n",
      "273  s_1089_fucci_merge_gray.tif  \n",
      "274  s_1090_fucci_merge_gray.tif  \n",
      "275  s_1091_fucci_merge_gray.tif  \n",
      "276  s_1092_fucci_merge_gray.tif  \n",
      "\n",
      "[277 rows x 9 columns]\n",
      "cell ID =  1785 progress bar below: (n/N frames):\n"
     ]
    },
    {
     "data": {
      "application/vnd.jupyter.widget-view+json": {
       "model_id": "0d1029ed463046e5a07e8b72c297dd9f",
       "version_major": 2,
       "version_minor": 0
      },
      "text/plain": [
       "HBox(children=(FloatProgress(value=0.0, max=276.0), HTML(value='')))"
      ]
     },
     "metadata": {},
     "output_type": "display_data"
    },
    {
     "name": "stdout",
     "output_type": "stream",
     "text": [
      "\n",
      "    Cell ID Frame GFP Intensity RFP Intensity Phase Intensity  Area    x    y  \\\n",
      "0      1785   816        354114        380223        40964502  1973  636  461   \n",
      "1      1785   817        197821        217598        23247471  1074  644  463   \n",
      "2      1785   818             0             0               0     0  651  464   \n",
      "3      1785   819        320004        354685        36162152  1748  636  461   \n",
      "4      1785   820             0             0               0     0  619  455   \n",
      "..      ...   ...           ...           ...             ...   ...  ...  ...   \n",
      "271    1785  1087        999902       1885585        65188228  3088  633  470   \n",
      "272    1785  1088       1002044       1861836        62015009  3033  633  470   \n",
      "273    1785  1089        987256       1887975        60738060  3001  634  470   \n",
      "274    1785  1090       1019365       2029008        62581267  3122  631  470   \n",
      "275    1785  1091       1013468       1919258        64219829  3101  632  469   \n",
      "\n",
      "                         mask_fn  \n",
      "0    s_0817_fucci_merge_gray.tif  \n",
      "1    s_0818_fucci_merge_gray.tif  \n",
      "2    s_0819_fucci_merge_gray.tif  \n",
      "3    s_0820_fucci_merge_gray.tif  \n",
      "4    s_0821_fucci_merge_gray.tif  \n",
      "..                           ...  \n",
      "271  s_1088_fucci_merge_gray.tif  \n",
      "272  s_1089_fucci_merge_gray.tif  \n",
      "273  s_1090_fucci_merge_gray.tif  \n",
      "274  s_1091_fucci_merge_gray.tif  \n",
      "275  s_1092_fucci_merge_gray.tif  \n",
      "\n",
      "[276 rows x 9 columns]\n",
      "cell ID =  1787 progress bar below: (n/N frames):\n"
     ]
    },
    {
     "data": {
      "application/vnd.jupyter.widget-view+json": {
       "model_id": "302bee527c1b41059f4f548ce336ac37",
       "version_major": 2,
       "version_minor": 0
      },
      "text/plain": [
       "HBox(children=(FloatProgress(value=0.0, max=276.0), HTML(value='')))"
      ]
     },
     "metadata": {},
     "output_type": "display_data"
    },
    {
     "name": "stdout",
     "output_type": "stream",
     "text": [
      "\n",
      "    Cell ID Frame GFP Intensity RFP Intensity Phase Intensity Area    x   y  \\\n",
      "0      1787   816         69656         89150         6140355  416  934  71   \n",
      "1      1787   817        117785        150165        10705142  717  937  71   \n",
      "2      1787   818             0             0               0    0  939  71   \n",
      "3      1787   819        124764        163595        11222300  756  937  71   \n",
      "4      1787   820        133314        170068        12451169  798  939  72   \n",
      "..      ...   ...           ...           ...             ...  ...  ...  ..   \n",
      "271    1787  1087        274861        496751        17231712  948  932  93   \n",
      "272    1787  1088        275035        509788        17314694  937  932  93   \n",
      "273    1787  1089        276038        503720        17462263  932  935  94   \n",
      "274    1787  1090        281740        523976        17129624  943  933  94   \n",
      "275    1787  1091        290729        532502        18627198  975  934  94   \n",
      "\n",
      "                         mask_fn  \n",
      "0    s_0817_fucci_merge_gray.tif  \n",
      "1    s_0818_fucci_merge_gray.tif  \n",
      "2    s_0819_fucci_merge_gray.tif  \n",
      "3    s_0820_fucci_merge_gray.tif  \n",
      "4    s_0821_fucci_merge_gray.tif  \n",
      "..                           ...  \n",
      "271  s_1088_fucci_merge_gray.tif  \n",
      "272  s_1089_fucci_merge_gray.tif  \n",
      "273  s_1090_fucci_merge_gray.tif  \n",
      "274  s_1091_fucci_merge_gray.tif  \n",
      "275  s_1092_fucci_merge_gray.tif  \n",
      "\n",
      "[276 rows x 9 columns]\n",
      "cell ID =  1790 progress bar below: (n/N frames):\n"
     ]
    },
    {
     "data": {
      "application/vnd.jupyter.widget-view+json": {
       "model_id": "76d358562be24280bd0fd72f955e7210",
       "version_major": 2,
       "version_minor": 0
      },
      "text/plain": [
       "HBox(children=(FloatProgress(value=0.0, max=276.0), HTML(value='')))"
      ]
     },
     "metadata": {},
     "output_type": "display_data"
    },
    {
     "name": "stdout",
     "output_type": "stream",
     "text": [
      "\n",
      "    Cell ID Frame GFP Intensity RFP Intensity Phase Intensity  Area    x    y  \\\n",
      "0      1790   816        158083        203202        15351878   905  254  132   \n",
      "1      1790   817        176163        226774        16930601   998  256  133   \n",
      "2      1790   818        172790        220807        16468586   975  255  133   \n",
      "3      1790   819        156051        209070        14542621   878  254  134   \n",
      "4      1790   820        144634        184501        13198021   804  256  133   \n",
      "..      ...   ...           ...           ...             ...   ...  ...  ...   \n",
      "271    1790  1087        413710        764798        28389264  1436  254  153   \n",
      "272    1790  1088        403443        743380        27199128  1391  253  153   \n",
      "273    1790  1089        401690        797901        27432787  1406  254  154   \n",
      "274    1790  1090        412441        821125        27692854  1423  253  153   \n",
      "275    1790  1091        415500        803064        28134515  1428  254  152   \n",
      "\n",
      "                         mask_fn  \n",
      "0    s_0817_fucci_merge_gray.tif  \n",
      "1    s_0818_fucci_merge_gray.tif  \n",
      "2    s_0819_fucci_merge_gray.tif  \n",
      "3    s_0820_fucci_merge_gray.tif  \n",
      "4    s_0821_fucci_merge_gray.tif  \n",
      "..                           ...  \n",
      "271  s_1088_fucci_merge_gray.tif  \n",
      "272  s_1089_fucci_merge_gray.tif  \n",
      "273  s_1090_fucci_merge_gray.tif  \n",
      "274  s_1091_fucci_merge_gray.tif  \n",
      "275  s_1092_fucci_merge_gray.tif  \n",
      "\n",
      "[276 rows x 9 columns]\n",
      "cell ID =  1799 progress bar below: (n/N frames):\n"
     ]
    },
    {
     "data": {
      "application/vnd.jupyter.widget-view+json": {
       "model_id": "dea48ebf1a0347e18b3676ac82462e05",
       "version_major": 2,
       "version_minor": 0
      },
      "text/plain": [
       "HBox(children=(FloatProgress(value=0.0, max=270.0), HTML(value='')))"
      ]
     },
     "metadata": {},
     "output_type": "display_data"
    },
    {
     "name": "stdout",
     "output_type": "stream",
     "text": [
      "\n",
      "    Cell ID Frame GFP Intensity RFP Intensity Phase Intensity  Area    x    y  \\\n",
      "0      1799   822        178097        227016        16798684  1030  847  524   \n",
      "1      1799   823        170710        217725        15597226   970  846  523   \n",
      "2      1799   824        191828        242429        17528861  1091  849  524   \n",
      "3      1799   825             0             0               0     0  851  524   \n",
      "4      1799   826        178415        221888        16289118  1014  848  525   \n",
      "..      ...   ...           ...           ...             ...   ...  ...  ...   \n",
      "265    1799  1087        434838        752355        33096381  1600  855  514   \n",
      "266    1799  1088        422979        713512        31773198  1506  853  515   \n",
      "267    1799  1089        423613        740692        30861921  1522  855  515   \n",
      "268    1799  1090        430093        755598        31752975  1505  853  515   \n",
      "269    1799  1091        446253        775807        33830909  1593  855  515   \n",
      "\n",
      "                         mask_fn  \n",
      "0    s_0823_fucci_merge_gray.tif  \n",
      "1    s_0824_fucci_merge_gray.tif  \n",
      "2    s_0825_fucci_merge_gray.tif  \n",
      "3    s_0826_fucci_merge_gray.tif  \n",
      "4    s_0827_fucci_merge_gray.tif  \n",
      "..                           ...  \n",
      "265  s_1088_fucci_merge_gray.tif  \n",
      "266  s_1089_fucci_merge_gray.tif  \n",
      "267  s_1090_fucci_merge_gray.tif  \n",
      "268  s_1091_fucci_merge_gray.tif  \n",
      "269  s_1092_fucci_merge_gray.tif  \n",
      "\n",
      "[270 rows x 9 columns]\n",
      "cell ID =  1801 progress bar below: (n/N frames):\n"
     ]
    },
    {
     "data": {
      "application/vnd.jupyter.widget-view+json": {
       "model_id": "ab1c6dc62fd643f88d2a8945dcd14078",
       "version_major": 2,
       "version_minor": 0
      },
      "text/plain": [
       "HBox(children=(FloatProgress(value=0.0, max=263.0), HTML(value='')))"
      ]
     },
     "metadata": {},
     "output_type": "display_data"
    },
    {
     "name": "stdout",
     "output_type": "stream",
     "text": [
      "\n",
      "    Cell ID Frame GFP Intensity RFP Intensity Phase Intensity Area  x    y  \\\n",
      "0      1801   822         47521         55110         2312489  190  2  123   \n",
      "1      1801   823         58199         68886         2748146  222  2  121   \n",
      "2      1801   824             0             0               0    0  1  119   \n",
      "3      1801   825         48883         56648         2456156  187  2  128   \n",
      "4      1801   826         57704         67106         3010826  224  2  122   \n",
      "..      ...   ...           ...           ...             ...  ... ..  ...   \n",
      "258    1801  1080        232416         36794         6679837  329  4  122   \n",
      "259    1801  1081        252071         40288         7433941  359  4  121   \n",
      "260    1801  1082        265681         45088         8007484  404  5  123   \n",
      "261    1801  1083        307208         49933         8605579  450  5  122   \n",
      "262    1801  1084        272102         43264         7464797  390  4  120   \n",
      "\n",
      "                         mask_fn  \n",
      "0    s_0823_fucci_merge_gray.tif  \n",
      "1    s_0824_fucci_merge_gray.tif  \n",
      "2    s_0825_fucci_merge_gray.tif  \n",
      "3    s_0826_fucci_merge_gray.tif  \n",
      "4    s_0827_fucci_merge_gray.tif  \n",
      "..                           ...  \n",
      "258  s_1081_fucci_merge_gray.tif  \n",
      "259  s_1082_fucci_merge_gray.tif  \n",
      "260  s_1083_fucci_merge_gray.tif  \n",
      "261  s_1084_fucci_merge_gray.tif  \n",
      "262  s_1085_fucci_merge_gray.tif  \n",
      "\n",
      "[263 rows x 9 columns]\n",
      "cell ID =  1805 progress bar below: (n/N frames):\n"
     ]
    },
    {
     "data": {
      "application/vnd.jupyter.widget-view+json": {
       "model_id": "91cde63061cd48e588355f08fd1c8540",
       "version_major": 2,
       "version_minor": 0
      },
      "text/plain": [
       "HBox(children=(FloatProgress(value=0.0, max=270.0), HTML(value='')))"
      ]
     },
     "metadata": {},
     "output_type": "display_data"
    },
    {
     "name": "stdout",
     "output_type": "stream",
     "text": [
      "\n",
      "    Cell ID Frame GFP Intensity RFP Intensity Phase Intensity  Area    x    y  \\\n",
      "0      1805   822        102969        139281         8012356   571  233  646   \n",
      "1      1805   823             0             0               0     0  233  646   \n",
      "2      1805   824        139510        193978        10685385   774  234  647   \n",
      "3      1805   825        196164        251513        15437016  1094  234  647   \n",
      "4      1805   826        194285        243280        13889484  1072  234  648   \n",
      "..      ...   ...           ...           ...             ...   ...  ...  ...   \n",
      "265    1805  1087        959977        195939        17305292  1318  200  638   \n",
      "266    1805  1088        858766        172890        15124814  1176  199  639   \n",
      "267    1805  1089        858594        169200        16247570  1200  200  640   \n",
      "268    1805  1090        875936        165108        14758470  1176  199  641   \n",
      "269    1805  1091        911850        167711        15535197  1259  200  642   \n",
      "\n",
      "                         mask_fn  \n",
      "0    s_0823_fucci_merge_gray.tif  \n",
      "1    s_0824_fucci_merge_gray.tif  \n",
      "2    s_0825_fucci_merge_gray.tif  \n",
      "3    s_0826_fucci_merge_gray.tif  \n",
      "4    s_0827_fucci_merge_gray.tif  \n",
      "..                           ...  \n",
      "265  s_1088_fucci_merge_gray.tif  \n",
      "266  s_1089_fucci_merge_gray.tif  \n",
      "267  s_1090_fucci_merge_gray.tif  \n",
      "268  s_1091_fucci_merge_gray.tif  \n",
      "269  s_1092_fucci_merge_gray.tif  \n",
      "\n",
      "[270 rows x 9 columns]\n",
      "cell ID =  1811 progress bar below: (n/N frames):\n"
     ]
    },
    {
     "data": {
      "application/vnd.jupyter.widget-view+json": {
       "model_id": "dc3008a1ad164714bf7348a42c681f04",
       "version_major": 2,
       "version_minor": 0
      },
      "text/plain": [
       "HBox(children=(FloatProgress(value=0.0, max=268.0), HTML(value='')))"
      ]
     },
     "metadata": {},
     "output_type": "display_data"
    },
    {
     "name": "stdout",
     "output_type": "stream",
     "text": [
      "\n",
      "    Cell ID Frame GFP Intensity RFP Intensity Phase Intensity  Area    x    y  \\\n",
      "0      1811   824        165303        234080        11376788   970  178  643   \n",
      "1      1811   825        168452        243872        13057160  1012  178  643   \n",
      "2      1811   826        178211        250136        11938068  1050  178  644   \n",
      "3      1811   827             0             0               0     0  178  644   \n",
      "4      1811   828             0             0               0     0  178  645   \n",
      "..      ...   ...           ...           ...             ...   ...  ...  ...   \n",
      "263    1811  1087        668017        265873        17283746  1247  149  624   \n",
      "264    1811  1088        600952        242707        15365267  1102  150  625   \n",
      "265    1811  1089        634327        253087        18051413  1200  152  625   \n",
      "266    1811  1090        632290        258530        16439710  1166  151  626   \n",
      "267    1811  1091        664616        258922        16548136  1235  152  626   \n",
      "\n",
      "                         mask_fn  \n",
      "0    s_0825_fucci_merge_gray.tif  \n",
      "1    s_0826_fucci_merge_gray.tif  \n",
      "2    s_0827_fucci_merge_gray.tif  \n",
      "3    s_0828_fucci_merge_gray.tif  \n",
      "4    s_0829_fucci_merge_gray.tif  \n",
      "..                           ...  \n",
      "263  s_1088_fucci_merge_gray.tif  \n",
      "264  s_1089_fucci_merge_gray.tif  \n",
      "265  s_1090_fucci_merge_gray.tif  \n",
      "266  s_1091_fucci_merge_gray.tif  \n",
      "267  s_1092_fucci_merge_gray.tif  \n",
      "\n",
      "[268 rows x 9 columns]\n",
      "cell ID =  1808 progress bar below: (n/N frames):\n"
     ]
    },
    {
     "data": {
      "application/vnd.jupyter.widget-view+json": {
       "model_id": "7fc1f6108dfb4aa191f25cdcaa77edee",
       "version_major": 2,
       "version_minor": 0
      },
      "text/plain": [
       "HBox(children=(FloatProgress(value=0.0, max=249.0), HTML(value='')))"
      ]
     },
     "metadata": {},
     "output_type": "display_data"
    },
    {
     "name": "stdout",
     "output_type": "stream",
     "text": [
      "\n",
      "    Cell ID Frame GFP Intensity RFP Intensity Phase Intensity  Area    x    y  \\\n",
      "0      1808   824        150610        218917        14413042   868  956  682   \n",
      "1      1808   825             0             0               0     0  956  682   \n",
      "2      1808   826        126137        170873        11998483   715  957  681   \n",
      "3      1808   827             0             0               0     0  957  680   \n",
      "4      1808   828             0             0               0     0  958  679   \n",
      "..      ...   ...           ...           ...             ...   ...  ...  ...   \n",
      "244    1808  1068             0             0               0     0  954  713   \n",
      "245    1808  1069        130833         60124         4263348   271  953  716   \n",
      "246    1808  1070        435919        215216        15214806  1069  953  714   \n",
      "247    1808  1071        416911        205586        14691711  1038  954  714   \n",
      "248    1808  1072        218920        100665         7407708   489  950  715   \n",
      "\n",
      "                         mask_fn  \n",
      "0    s_0825_fucci_merge_gray.tif  \n",
      "1    s_0826_fucci_merge_gray.tif  \n",
      "2    s_0827_fucci_merge_gray.tif  \n",
      "3    s_0828_fucci_merge_gray.tif  \n",
      "4    s_0829_fucci_merge_gray.tif  \n",
      "..                           ...  \n",
      "244  s_1069_fucci_merge_gray.tif  \n",
      "245  s_1070_fucci_merge_gray.tif  \n",
      "246  s_1071_fucci_merge_gray.tif  \n",
      "247  s_1072_fucci_merge_gray.tif  \n",
      "248  s_1073_fucci_merge_gray.tif  \n",
      "\n",
      "[249 rows x 9 columns]\n",
      "cell ID =  1817 progress bar below: (n/N frames):\n"
     ]
    },
    {
     "data": {
      "application/vnd.jupyter.widget-view+json": {
       "model_id": "6d1cc0dd693b488c837ab8b1602cce1d",
       "version_major": 2,
       "version_minor": 0
      },
      "text/plain": [
       "HBox(children=(FloatProgress(value=0.0, max=266.0), HTML(value='')))"
      ]
     },
     "metadata": {},
     "output_type": "display_data"
    },
    {
     "name": "stdout",
     "output_type": "stream",
     "text": [
      "\n",
      "    Cell ID Frame GFP Intensity RFP Intensity Phase Intensity Area    x    y  \\\n",
      "0      1817   826        106396        107263         8480949  505  670   80   \n",
      "1      1817   827        123437        126900         9703782  585  670   80   \n",
      "2      1817   828        151348        154458        12458777  729  670   80   \n",
      "3      1817   829        173880        180377        14562443  841  670   79   \n",
      "4      1817   830        162535        176602        14550143  829  667   78   \n",
      "..      ...   ...           ...           ...             ...  ...  ...  ...   \n",
      "261    1817  1087        367122        571312        18726084  983  666  102   \n",
      "262    1817  1088        368805        571790        18354822  964  666  102   \n",
      "263    1817  1089        365387        602690        18793043  983  668  102   \n",
      "264    1817  1090        355275        606165        17138916  956  667  102   \n",
      "265    1817  1091        370903        617573        19409958  999  667  102   \n",
      "\n",
      "                         mask_fn  \n",
      "0    s_0827_fucci_merge_gray.tif  \n",
      "1    s_0828_fucci_merge_gray.tif  \n",
      "2    s_0829_fucci_merge_gray.tif  \n",
      "3    s_0830_fucci_merge_gray.tif  \n",
      "4    s_0831_fucci_merge_gray.tif  \n",
      "..                           ...  \n",
      "261  s_1088_fucci_merge_gray.tif  \n",
      "262  s_1089_fucci_merge_gray.tif  \n",
      "263  s_1090_fucci_merge_gray.tif  \n",
      "264  s_1091_fucci_merge_gray.tif  \n",
      "265  s_1092_fucci_merge_gray.tif  \n",
      "\n",
      "[266 rows x 9 columns]\n",
      "cell ID =  1825 progress bar below: (n/N frames):\n"
     ]
    },
    {
     "data": {
      "application/vnd.jupyter.widget-view+json": {
       "model_id": "1a250f37d5dc491da2e1e0a724850ebd",
       "version_major": 2,
       "version_minor": 0
      },
      "text/plain": [
       "HBox(children=(FloatProgress(value=0.0, max=264.0), HTML(value='')))"
      ]
     },
     "metadata": {},
     "output_type": "display_data"
    },
    {
     "name": "stdout",
     "output_type": "stream",
     "text": [
      "\n",
      "    Cell ID Frame GFP Intensity RFP Intensity Phase Intensity  Area    x    y  \\\n",
      "0      1825   828         94322        112869         8102112   529  604   99   \n",
      "1      1825   829             0             0               0     0  604   99   \n",
      "2      1825   830         75291         89028         6644726   415  604   95   \n",
      "3      1825   831         83098         98901         7089877   455  603   97   \n",
      "4      1825   832             0             0               0     0  602   98   \n",
      "..      ...   ...           ...           ...             ...   ...  ...  ...   \n",
      "259    1825  1087        822972        173666        18871635  1450  588  119   \n",
      "260    1825  1088        817188        163871        17891076  1385  588  119   \n",
      "261    1825  1089        821330        163648        16429809  1417  590  120   \n",
      "262    1825  1090        841446        166144        18021421  1450  589  120   \n",
      "263    1825  1091        829705        163828        18537462  1443  589  119   \n",
      "\n",
      "                         mask_fn  \n",
      "0    s_0829_fucci_merge_gray.tif  \n",
      "1    s_0830_fucci_merge_gray.tif  \n",
      "2    s_0831_fucci_merge_gray.tif  \n",
      "3    s_0832_fucci_merge_gray.tif  \n",
      "4    s_0833_fucci_merge_gray.tif  \n",
      "..                           ...  \n",
      "259  s_1088_fucci_merge_gray.tif  \n",
      "260  s_1089_fucci_merge_gray.tif  \n",
      "261  s_1090_fucci_merge_gray.tif  \n",
      "262  s_1091_fucci_merge_gray.tif  \n",
      "263  s_1092_fucci_merge_gray.tif  \n",
      "\n",
      "[264 rows x 9 columns]\n",
      "cell ID =  1826 progress bar below: (n/N frames):\n"
     ]
    },
    {
     "data": {
      "application/vnd.jupyter.widget-view+json": {
       "model_id": "f529cdf5c38c4556a053f93ccf739187",
       "version_major": 2,
       "version_minor": 0
      },
      "text/plain": [
       "HBox(children=(FloatProgress(value=0.0, max=248.0), HTML(value='')))"
      ]
     },
     "metadata": {},
     "output_type": "display_data"
    },
    {
     "name": "stdout",
     "output_type": "stream",
     "text": [
      "\n",
      "    Cell ID Frame GFP Intensity RFP Intensity Phase Intensity  Area    x   y  \\\n",
      "0      1826   828        202444        247648        16232145  1248  155  21   \n",
      "1      1826   829             0             0               0     0  155  21   \n",
      "2      1826   830        235727        284409        20649422  1437  154  21   \n",
      "3      1826   831             0             0               0     0  153  20   \n",
      "4      1826   832        195298        248740        15997562  1178  154  22   \n",
      "..      ...   ...           ...           ...             ...   ...  ...  ..   \n",
      "243    1826  1071             0             0               0     0  195   1   \n",
      "244    1826  1072             0             0               0     0  194   0   \n",
      "245    1826  1073         10004         14892          610234    44  194   2   \n",
      "246    1826  1074             0             0               0     0  193   1   \n",
      "247    1826  1075          9696         14597          559226    42  195   2   \n",
      "\n",
      "                         mask_fn  \n",
      "0    s_0829_fucci_merge_gray.tif  \n",
      "1    s_0830_fucci_merge_gray.tif  \n",
      "2    s_0831_fucci_merge_gray.tif  \n",
      "3    s_0832_fucci_merge_gray.tif  \n",
      "4    s_0833_fucci_merge_gray.tif  \n",
      "..                           ...  \n",
      "243  s_1072_fucci_merge_gray.tif  \n",
      "244  s_1073_fucci_merge_gray.tif  \n",
      "245  s_1074_fucci_merge_gray.tif  \n",
      "246  s_1075_fucci_merge_gray.tif  \n",
      "247  s_1076_fucci_merge_gray.tif  \n",
      "\n",
      "[248 rows x 9 columns]\n",
      "cell ID =  1833 progress bar below: (n/N frames):\n"
     ]
    },
    {
     "data": {
      "application/vnd.jupyter.widget-view+json": {
       "model_id": "b654673d0e1d4db591d6a8eb11f8292f",
       "version_major": 2,
       "version_minor": 0
      },
      "text/plain": [
       "HBox(children=(FloatProgress(value=0.0, max=263.0), HTML(value='')))"
      ]
     },
     "metadata": {},
     "output_type": "display_data"
    },
    {
     "name": "stdout",
     "output_type": "stream",
     "text": [
      "\n",
      "    Cell ID Frame GFP Intensity RFP Intensity Phase Intensity Area   x    y  \\\n",
      "0      1833   829         22645         27343         1114581   89   2  282   \n",
      "1      1833   830          9300         12827          392557   34   1  282   \n",
      "2      1833   831         20046         25923          938227   81   2  283   \n",
      "3      1833   832             0             0               0    0   2  283   \n",
      "4      1833   833         17911         23505         1211101   71   2  286   \n",
      "..      ...   ...           ...           ...             ...  ...  ..  ...   \n",
      "258    1833  1087        574675         87706        11864963  774  11  282   \n",
      "259    1833  1088        499425         85098        11760159  755  10  282   \n",
      "260    1833  1089        541812         92065        12052432  823  11  282   \n",
      "261    1833  1090        545592         90096        12863983  796  10  281   \n",
      "262    1833  1091        551984         93395        12397722  827  11  281   \n",
      "\n",
      "                         mask_fn  \n",
      "0    s_0830_fucci_merge_gray.tif  \n",
      "1    s_0831_fucci_merge_gray.tif  \n",
      "2    s_0832_fucci_merge_gray.tif  \n",
      "3    s_0833_fucci_merge_gray.tif  \n",
      "4    s_0834_fucci_merge_gray.tif  \n",
      "..                           ...  \n",
      "258  s_1088_fucci_merge_gray.tif  \n",
      "259  s_1089_fucci_merge_gray.tif  \n",
      "260  s_1090_fucci_merge_gray.tif  \n",
      "261  s_1091_fucci_merge_gray.tif  \n",
      "262  s_1092_fucci_merge_gray.tif  \n",
      "\n",
      "[263 rows x 9 columns]\n",
      "cell ID =  1834 progress bar below: (n/N frames):\n"
     ]
    },
    {
     "data": {
      "application/vnd.jupyter.widget-view+json": {
       "model_id": "c6334f311e4c409e9710ec059299d0eb",
       "version_major": 2,
       "version_minor": 0
      },
      "text/plain": [
       "HBox(children=(FloatProgress(value=0.0, max=262.0), HTML(value='')))"
      ]
     },
     "metadata": {},
     "output_type": "display_data"
    },
    {
     "name": "stdout",
     "output_type": "stream",
     "text": [
      "\n",
      "    Cell ID Frame GFP Intensity RFP Intensity Phase Intensity Area    x   y  \\\n",
      "0      1834   830         11357         13470         1332247   55  320   2   \n",
      "1      1834   831         20948         30040         2043523   92  320   2   \n",
      "2      1834   832         23554         37511         2286587  102  317   2   \n",
      "3      1834   833         38803         53667         3886536  174  318   3   \n",
      "4      1834   834         42667         70310         3899528  176  318   4   \n",
      "..      ...   ...           ...           ...             ...  ...  ...  ..   \n",
      "257    1834  1087        225276        428143        18172695  752  308  11   \n",
      "258    1834  1088        229857        427104        18366241  771  308  12   \n",
      "259    1834  1089        236099        454447        19396623  776  310  12   \n",
      "260    1834  1090        238096        463394        18812283  780  308  12   \n",
      "261    1834  1091        245416        491931        18110975  789  310  12   \n",
      "\n",
      "                         mask_fn  \n",
      "0    s_0831_fucci_merge_gray.tif  \n",
      "1    s_0832_fucci_merge_gray.tif  \n",
      "2    s_0833_fucci_merge_gray.tif  \n",
      "3    s_0834_fucci_merge_gray.tif  \n",
      "4    s_0835_fucci_merge_gray.tif  \n",
      "..                           ...  \n",
      "257  s_1088_fucci_merge_gray.tif  \n",
      "258  s_1089_fucci_merge_gray.tif  \n",
      "259  s_1090_fucci_merge_gray.tif  \n",
      "260  s_1091_fucci_merge_gray.tif  \n",
      "261  s_1092_fucci_merge_gray.tif  \n",
      "\n",
      "[262 rows x 9 columns]\n",
      "cell ID =  1835 progress bar below: (n/N frames):\n"
     ]
    },
    {
     "data": {
      "application/vnd.jupyter.widget-view+json": {
       "model_id": "2051027330d6421399a09c181b540470",
       "version_major": 2,
       "version_minor": 0
      },
      "text/plain": [
       "HBox(children=(FloatProgress(value=0.0, max=260.0), HTML(value='')))"
      ]
     },
     "metadata": {},
     "output_type": "display_data"
    },
    {
     "name": "stdout",
     "output_type": "stream",
     "text": [
      "\n",
      "    Cell ID Frame GFP Intensity RFP Intensity Phase Intensity  Area    x    y  \\\n",
      "0      1835   831         95154        112320         7175010   550  522   98   \n",
      "1      1835   832             0             0               0     0  522   98   \n",
      "2      1835   833        177139        200897        11933643  1020  525  100   \n",
      "3      1835   834             0             0               0     0  527  101   \n",
      "4      1835   835             0             0               0     0  530  103   \n",
      "..      ...   ...           ...           ...             ...   ...  ...  ...   \n",
      "255    1835  1087        944457        180915        13744574  1636  492  125   \n",
      "256    1835  1088        899004        168837        12041435  1532  491  125   \n",
      "257    1835  1089        889907        164441        11298060  1498  493  124   \n",
      "258    1835  1090        924102        171496        11881124  1553  491  125   \n",
      "259    1835  1091        951023        177603        13034506  1609  491  126   \n",
      "\n",
      "                         mask_fn  \n",
      "0    s_0832_fucci_merge_gray.tif  \n",
      "1    s_0833_fucci_merge_gray.tif  \n",
      "2    s_0834_fucci_merge_gray.tif  \n",
      "3    s_0835_fucci_merge_gray.tif  \n",
      "4    s_0836_fucci_merge_gray.tif  \n",
      "..                           ...  \n",
      "255  s_1088_fucci_merge_gray.tif  \n",
      "256  s_1089_fucci_merge_gray.tif  \n",
      "257  s_1090_fucci_merge_gray.tif  \n",
      "258  s_1091_fucci_merge_gray.tif  \n",
      "259  s_1092_fucci_merge_gray.tif  \n",
      "\n",
      "[260 rows x 9 columns]\n",
      "cell ID =  1839 progress bar below: (n/N frames):\n"
     ]
    },
    {
     "data": {
      "application/vnd.jupyter.widget-view+json": {
       "model_id": "3567c59559b840aeb671e9e552c7f955",
       "version_major": 2,
       "version_minor": 0
      },
      "text/plain": [
       "HBox(children=(FloatProgress(value=0.0, max=259.0), HTML(value='')))"
      ]
     },
     "metadata": {},
     "output_type": "display_data"
    },
    {
     "name": "stdout",
     "output_type": "stream",
     "text": [
      "\n",
      "    Cell ID Frame GFP Intensity RFP Intensity Phase Intensity Area    x    y  \\\n",
      "0      1839   833        126373        169560        10243493  698  876  709   \n",
      "1      1839   834             0             0               0    0  876  709   \n",
      "2      1839   835             0             0               0    0  876  709   \n",
      "3      1839   836        137245        184010        10932277  745  877  709   \n",
      "4      1839   837        129640        174534        11003226  722  876  709   \n",
      "..      ...   ...           ...           ...             ...  ...  ...  ...   \n",
      "254    1839  1087        595030        245049        15674042  931  882  723   \n",
      "255    1839  1088        585785        233159        15596454  893  882  724   \n",
      "256    1839  1089        575533        228875        14383665  873  883  725   \n",
      "257    1839  1090        590966        233431        16117254  881  883  725   \n",
      "258    1839  1091        609287        237331        17262582  922  883  725   \n",
      "\n",
      "                         mask_fn  \n",
      "0    s_0834_fucci_merge_gray.tif  \n",
      "1    s_0835_fucci_merge_gray.tif  \n",
      "2    s_0836_fucci_merge_gray.tif  \n",
      "3    s_0837_fucci_merge_gray.tif  \n",
      "4    s_0838_fucci_merge_gray.tif  \n",
      "..                           ...  \n",
      "254  s_1088_fucci_merge_gray.tif  \n",
      "255  s_1089_fucci_merge_gray.tif  \n",
      "256  s_1090_fucci_merge_gray.tif  \n",
      "257  s_1091_fucci_merge_gray.tif  \n",
      "258  s_1092_fucci_merge_gray.tif  \n",
      "\n",
      "[259 rows x 9 columns]\n",
      "cell ID =  1842 progress bar below: (n/N frames):\n"
     ]
    },
    {
     "data": {
      "application/vnd.jupyter.widget-view+json": {
       "model_id": "05b2764d792746089e6cd3abd0918c14",
       "version_major": 2,
       "version_minor": 0
      },
      "text/plain": [
       "HBox(children=(FloatProgress(value=0.0, max=258.0), HTML(value='')))"
      ]
     },
     "metadata": {},
     "output_type": "display_data"
    },
    {
     "name": "stdout",
     "output_type": "stream",
     "text": [
      "\n",
      "    Cell ID Frame GFP Intensity RFP Intensity Phase Intensity  Area   x    y  \\\n",
      "0      1842   834         45039         23824         1770592   129   3  391   \n",
      "1      1842   835         50795         26754         1858665   141   3  391   \n",
      "2      1842   836         36867         21574         1426133   108   3  389   \n",
      "3      1842   837         60002         35169         2317618   186   3  393   \n",
      "4      1842   838         90506         50826         3374535   257   4  394   \n",
      "..      ...   ...           ...           ...             ...   ...  ..  ...   \n",
      "253    1842  1087       1396178        194887        21778929  1741  22  397   \n",
      "254    1842  1088       1214310        186430        21580584  1670  22  397   \n",
      "255    1842  1089       1219788        192475        22077706  1721  24  397   \n",
      "256    1842  1090       1239962        190832        21099277  1710  23  396   \n",
      "257    1842  1091       1283491        197510        20304589  1763  23  396   \n",
      "\n",
      "                         mask_fn  \n",
      "0    s_0835_fucci_merge_gray.tif  \n",
      "1    s_0836_fucci_merge_gray.tif  \n",
      "2    s_0837_fucci_merge_gray.tif  \n",
      "3    s_0838_fucci_merge_gray.tif  \n",
      "4    s_0839_fucci_merge_gray.tif  \n",
      "..                           ...  \n",
      "253  s_1088_fucci_merge_gray.tif  \n",
      "254  s_1089_fucci_merge_gray.tif  \n",
      "255  s_1090_fucci_merge_gray.tif  \n",
      "256  s_1091_fucci_merge_gray.tif  \n",
      "257  s_1092_fucci_merge_gray.tif  \n",
      "\n",
      "[258 rows x 9 columns]\n",
      "cell ID =  1844 progress bar below: (n/N frames):\n"
     ]
    },
    {
     "data": {
      "application/vnd.jupyter.widget-view+json": {
       "model_id": "6b02678c0d364a85a85ada6472bac418",
       "version_major": 2,
       "version_minor": 0
      },
      "text/plain": [
       "HBox(children=(FloatProgress(value=0.0, max=257.0), HTML(value='')))"
      ]
     },
     "metadata": {},
     "output_type": "display_data"
    },
    {
     "name": "stdout",
     "output_type": "stream",
     "text": [
      "\n",
      "    Cell ID Frame GFP Intensity RFP Intensity Phase Intensity  Area    x    y  \\\n",
      "0      1844   835        172263        248053         7421008   928  696  746   \n",
      "1      1844   836        219342        308604         9472358  1181  696  745   \n",
      "2      1844   837        223004        315952        10088821  1232  695  745   \n",
      "3      1844   838        216848        312919         9367029  1181  695  747   \n",
      "4      1844   839        207666        297570         9347706  1111  695  747   \n",
      "..      ...   ...           ...           ...             ...   ...  ...  ...   \n",
      "252    1844  1087       1318712        395165        39485935  1693  667  815   \n",
      "253    1844  1088       1338834        478086        40290947  1702  667  814   \n",
      "254    1844  1089       1316239        428937        38142813  1592  668  817   \n",
      "255    1844  1090       1364295        566247        41046220  1747  667  813   \n",
      "256    1844  1091       1335021        422153        35092083  1537  670  817   \n",
      "\n",
      "                         mask_fn  \n",
      "0    s_0836_fucci_merge_gray.tif  \n",
      "1    s_0837_fucci_merge_gray.tif  \n",
      "2    s_0838_fucci_merge_gray.tif  \n",
      "3    s_0839_fucci_merge_gray.tif  \n",
      "4    s_0840_fucci_merge_gray.tif  \n",
      "..                           ...  \n",
      "252  s_1088_fucci_merge_gray.tif  \n",
      "253  s_1089_fucci_merge_gray.tif  \n",
      "254  s_1090_fucci_merge_gray.tif  \n",
      "255  s_1091_fucci_merge_gray.tif  \n",
      "256  s_1092_fucci_merge_gray.tif  \n",
      "\n",
      "[257 rows x 9 columns]\n",
      "cell ID =  1845 progress bar below: (n/N frames):\n"
     ]
    },
    {
     "data": {
      "application/vnd.jupyter.widget-view+json": {
       "model_id": "8d482d7bc5574e449f67fbf1f92eb68f",
       "version_major": 2,
       "version_minor": 0
      },
      "text/plain": [
       "HBox(children=(FloatProgress(value=0.0, max=206.0), HTML(value='')))"
      ]
     },
     "metadata": {},
     "output_type": "display_data"
    },
    {
     "name": "stdout",
     "output_type": "stream",
     "text": [
      "\n",
      "    Cell ID Frame GFP Intensity RFP Intensity Phase Intensity Area     x    y  \\\n",
      "0      1845   835         29135         35877         2108800  181  1013  442   \n",
      "1      1845   836         27875         33633         1991678  172  1014  444   \n",
      "2      1845   837             0             0               0    0  1014  445   \n",
      "3      1845   838             0             0               0    0  1015  447   \n",
      "4      1845   839         64702         78128         4720314  402  1012  444   \n",
      "..      ...   ...           ...           ...             ...  ...   ...  ...   \n",
      "201    1845  1036         51124         36887         1945360  136  1019  478   \n",
      "202    1845  1037         45941         35815         1945932  135  1019  478   \n",
      "203    1845  1038         22882         15881          915206   57  1020  478   \n",
      "204    1845  1039             0             0               0    0  1020  478   \n",
      "205    1845  1040         20703         13887          833414   55  1021  479   \n",
      "\n",
      "                         mask_fn  \n",
      "0    s_0836_fucci_merge_gray.tif  \n",
      "1    s_0837_fucci_merge_gray.tif  \n",
      "2    s_0838_fucci_merge_gray.tif  \n",
      "3    s_0839_fucci_merge_gray.tif  \n",
      "4    s_0840_fucci_merge_gray.tif  \n",
      "..                           ...  \n",
      "201  s_1037_fucci_merge_gray.tif  \n",
      "202  s_1038_fucci_merge_gray.tif  \n",
      "203  s_1039_fucci_merge_gray.tif  \n",
      "204  s_1040_fucci_merge_gray.tif  \n",
      "205  s_1041_fucci_merge_gray.tif  \n",
      "\n",
      "[206 rows x 9 columns]\n",
      "cell ID =  1854 progress bar below: (n/N frames):\n"
     ]
    },
    {
     "data": {
      "application/vnd.jupyter.widget-view+json": {
       "model_id": "24800afead724573a7d63134672f6ca0",
       "version_major": 2,
       "version_minor": 0
      },
      "text/plain": [
       "HBox(children=(FloatProgress(value=0.0, max=254.0), HTML(value='')))"
      ]
     },
     "metadata": {},
     "output_type": "display_data"
    },
    {
     "name": "stdout",
     "output_type": "stream",
     "text": [
      "\n",
      "    Cell ID Frame GFP Intensity RFP Intensity Phase Intensity  Area    x    y  \\\n",
      "0      1854   838        225025        286602        24475777  1282  817  571   \n",
      "1      1854   839             0             0               0     0  817  571   \n",
      "2      1854   840        161342        218197        17652453   901  814  570   \n",
      "3      1854   841             0             0               0     0  811  569   \n",
      "4      1854   842        177788        236805        19504497   990  815  571   \n",
      "..      ...   ...           ...           ...             ...   ...  ...  ...   \n",
      "249    1854  1087        460914        774473        30379984  1813  815  567   \n",
      "250    1854  1088        429297        743990        28140840  1690  813  568   \n",
      "251    1854  1089        428631        746185        29035938  1694  815  569   \n",
      "252    1854  1090        432281        740805        29136626  1688  814  570   \n",
      "253    1854  1091        451945        769512        30579966  1782  815  570   \n",
      "\n",
      "                         mask_fn  \n",
      "0    s_0839_fucci_merge_gray.tif  \n",
      "1    s_0840_fucci_merge_gray.tif  \n",
      "2    s_0841_fucci_merge_gray.tif  \n",
      "3    s_0842_fucci_merge_gray.tif  \n",
      "4    s_0843_fucci_merge_gray.tif  \n",
      "..                           ...  \n",
      "249  s_1088_fucci_merge_gray.tif  \n",
      "250  s_1089_fucci_merge_gray.tif  \n",
      "251  s_1090_fucci_merge_gray.tif  \n",
      "252  s_1091_fucci_merge_gray.tif  \n",
      "253  s_1092_fucci_merge_gray.tif  \n",
      "\n",
      "[254 rows x 9 columns]\n",
      "cell ID =  1862 progress bar below: (n/N frames):\n"
     ]
    },
    {
     "data": {
      "application/vnd.jupyter.widget-view+json": {
       "model_id": "d3988cb4839e4fcc9ce9fee7347799f0",
       "version_major": 2,
       "version_minor": 0
      },
      "text/plain": [
       "HBox(children=(FloatProgress(value=0.0, max=250.0), HTML(value='')))"
      ]
     },
     "metadata": {},
     "output_type": "display_data"
    },
    {
     "name": "stdout",
     "output_type": "stream",
     "text": [
      "\n",
      "    Cell ID Frame GFP Intensity RFP Intensity Phase Intensity Area    x  y  \\\n",
      "0      1862   842          9491         12240          783299   44  625  2   \n",
      "1      1862   843         10212         12977          787644   44  625  2   \n",
      "2      1862   844          7979         11055          650630   36  625  1   \n",
      "3      1862   845         16590         20827         1351337   74  623  2   \n",
      "4      1862   846         17818         23946         1374479   75  625  2   \n",
      "..      ...   ...           ...           ...             ...  ...  ... ..   \n",
      "245    1862  1087        529310         81487        10126319  754  634  9   \n",
      "246    1862  1088        523559         78268         9494812  729  633  9   \n",
      "247    1862  1089        519797         77425         9062454  725  636  9   \n",
      "248    1862  1090        543051         81418         9466288  755  634  9   \n",
      "249    1862  1091        529589         80021        10193772  745  635  9   \n",
      "\n",
      "                         mask_fn  \n",
      "0    s_0843_fucci_merge_gray.tif  \n",
      "1    s_0844_fucci_merge_gray.tif  \n",
      "2    s_0845_fucci_merge_gray.tif  \n",
      "3    s_0846_fucci_merge_gray.tif  \n",
      "4    s_0847_fucci_merge_gray.tif  \n",
      "..                           ...  \n",
      "245  s_1088_fucci_merge_gray.tif  \n",
      "246  s_1089_fucci_merge_gray.tif  \n",
      "247  s_1090_fucci_merge_gray.tif  \n",
      "248  s_1091_fucci_merge_gray.tif  \n",
      "249  s_1092_fucci_merge_gray.tif  \n",
      "\n",
      "[250 rows x 9 columns]\n",
      "cell ID =  1863 progress bar below: (n/N frames):\n"
     ]
    },
    {
     "data": {
      "application/vnd.jupyter.widget-view+json": {
       "model_id": "55c52b91459c40e7834d62463190d052",
       "version_major": 2,
       "version_minor": 0
      },
      "text/plain": [
       "HBox(children=(FloatProgress(value=0.0, max=249.0), HTML(value='')))"
      ]
     },
     "metadata": {},
     "output_type": "display_data"
    },
    {
     "name": "stdout",
     "output_type": "stream",
     "text": [
      "\n",
      "    Cell ID Frame GFP Intensity RFP Intensity Phase Intensity  Area     x  \\\n",
      "0      1863   843        151495        171114        16851974   905   985   \n",
      "1      1863   844        136773        159500        14611770   811   985   \n",
      "2      1863   845             0             0               0     0   985   \n",
      "3      1863   846             0             0               0     0   985   \n",
      "4      1863   847             0             0               0     0   985   \n",
      "..      ...   ...           ...           ...             ...   ...   ...   \n",
      "244    1863  1087        294499        434835        20324745  1039  1001   \n",
      "245    1863  1088        285681        455735        20040065  1014  1001   \n",
      "246    1863  1089        294990        469967        19294067  1051  1001   \n",
      "247    1863  1090        296215        467042        20687481  1050  1000   \n",
      "248    1863  1091        303703        461302        21889390  1091  1001   \n",
      "\n",
      "       y                      mask_fn  \n",
      "0    313  s_0844_fucci_merge_gray.tif  \n",
      "1    313  s_0845_fucci_merge_gray.tif  \n",
      "2    313  s_0846_fucci_merge_gray.tif  \n",
      "3    313  s_0847_fucci_merge_gray.tif  \n",
      "4    313  s_0848_fucci_merge_gray.tif  \n",
      "..   ...                          ...  \n",
      "244  342  s_1088_fucci_merge_gray.tif  \n",
      "245  340  s_1089_fucci_merge_gray.tif  \n",
      "246  340  s_1090_fucci_merge_gray.tif  \n",
      "247  341  s_1091_fucci_merge_gray.tif  \n",
      "248  340  s_1092_fucci_merge_gray.tif  \n",
      "\n",
      "[249 rows x 9 columns]\n",
      "cell ID =  1864 progress bar below: (n/N frames):\n"
     ]
    },
    {
     "data": {
      "application/vnd.jupyter.widget-view+json": {
       "model_id": "fc6bcfac1a534f04abce19a8524cdcda",
       "version_major": 2,
       "version_minor": 0
      },
      "text/plain": [
       "HBox(children=(FloatProgress(value=0.0, max=249.0), HTML(value='')))"
      ]
     },
     "metadata": {},
     "output_type": "display_data"
    },
    {
     "name": "stdout",
     "output_type": "stream",
     "text": [
      "\n",
      "    Cell ID Frame GFP Intensity RFP Intensity Phase Intensity  Area    x    y  \\\n",
      "0      1864   843         74538         83158         8519425   403  778  200   \n",
      "1      1864   844             0             0               0     0  778  200   \n",
      "2      1864   845        103775        111864        11612043   547  774  197   \n",
      "3      1864   846         95984        113274        10622497   517  777  197   \n",
      "4      1864   847             0             0               0     0  779  197   \n",
      "..      ...   ...           ...           ...             ...   ...  ...  ...   \n",
      "244    1864  1087        366746        552286        18616617  1388  759  203   \n",
      "245    1864  1088        366461        538106        19122201  1384  759  203   \n",
      "246    1864  1089        364052        564402        16908339  1401  761  204   \n",
      "247    1864  1090        366395        576546        19352565  1393  760  204   \n",
      "248    1864  1091        374074        575082        20345782  1439  761  204   \n",
      "\n",
      "                         mask_fn  \n",
      "0    s_0844_fucci_merge_gray.tif  \n",
      "1    s_0845_fucci_merge_gray.tif  \n",
      "2    s_0846_fucci_merge_gray.tif  \n",
      "3    s_0847_fucci_merge_gray.tif  \n",
      "4    s_0848_fucci_merge_gray.tif  \n",
      "..                           ...  \n",
      "244  s_1088_fucci_merge_gray.tif  \n",
      "245  s_1089_fucci_merge_gray.tif  \n",
      "246  s_1090_fucci_merge_gray.tif  \n",
      "247  s_1091_fucci_merge_gray.tif  \n",
      "248  s_1092_fucci_merge_gray.tif  \n",
      "\n",
      "[249 rows x 9 columns]\n",
      "cell ID =  1869 progress bar below: (n/N frames):\n"
     ]
    },
    {
     "data": {
      "application/vnd.jupyter.widget-view+json": {
       "model_id": "3c393780900d4fbbaa2ccbd42d1a922b",
       "version_major": 2,
       "version_minor": 0
      },
      "text/plain": [
       "HBox(children=(FloatProgress(value=0.0, max=247.0), HTML(value='')))"
      ]
     },
     "metadata": {},
     "output_type": "display_data"
    },
    {
     "name": "stdout",
     "output_type": "stream",
     "text": [
      "\n",
      "    Cell ID Frame GFP Intensity RFP Intensity Phase Intensity  Area    x   y  \\\n",
      "0      1869   845        111070        131755         9438611   610  806  65   \n",
      "1      1869   846         92126        117975         7433874   497  807  63   \n",
      "2      1869   847         59880         76646         4815554   317  802  61   \n",
      "3      1869   848         87492        111051         7170614   457  805  62   \n",
      "4      1869   849         76686         92671         6335805   402  801  60   \n",
      "..      ...   ...           ...           ...             ...   ...  ...  ..   \n",
      "242    1869  1087        428744        374309        28268099   973  816  69   \n",
      "243    1869  1088        443012        365902        29077779   971  815  69   \n",
      "244    1869  1089        458897        393024        31502980  1008  817  69   \n",
      "245    1869  1090        459491        395836        31129341   996  816  69   \n",
      "246    1869  1091        466752        387834        33445426  1000  817  69   \n",
      "\n",
      "                         mask_fn  \n",
      "0    s_0846_fucci_merge_gray.tif  \n",
      "1    s_0847_fucci_merge_gray.tif  \n",
      "2    s_0848_fucci_merge_gray.tif  \n",
      "3    s_0849_fucci_merge_gray.tif  \n",
      "4    s_0850_fucci_merge_gray.tif  \n",
      "..                           ...  \n",
      "242  s_1088_fucci_merge_gray.tif  \n",
      "243  s_1089_fucci_merge_gray.tif  \n",
      "244  s_1090_fucci_merge_gray.tif  \n",
      "245  s_1091_fucci_merge_gray.tif  \n",
      "246  s_1092_fucci_merge_gray.tif  \n",
      "\n",
      "[247 rows x 9 columns]\n",
      "cell ID =  1874 progress bar below: (n/N frames):\n"
     ]
    },
    {
     "data": {
      "application/vnd.jupyter.widget-view+json": {
       "model_id": "07bfc48989af4eca8d1301fa6813c29f",
       "version_major": 2,
       "version_minor": 0
      },
      "text/plain": [
       "HBox(children=(FloatProgress(value=0.0, max=242.0), HTML(value='')))"
      ]
     },
     "metadata": {},
     "output_type": "display_data"
    },
    {
     "name": "stdout",
     "output_type": "stream",
     "text": [
      "\n",
      "    Cell ID Frame GFP Intensity RFP Intensity Phase Intensity  Area    x    y  \\\n",
      "0      1874   847       2260637        240889        26115141  2229  261  695   \n",
      "1      1874   848       1753660        196392        21815679  1813  258  700   \n",
      "2      1874   849       3851879        426090        44694562  3919  255  704   \n",
      "3      1874   850       2086246        237739        25909913  2193  258  699   \n",
      "4      1874   851       3867052        404801        43873625  3729  266  685   \n",
      "..      ...   ...           ...           ...             ...   ...  ...  ...   \n",
      "237    1874  1084       6140317        424702        66940382  3865  293  718   \n",
      "238    1874  1085       5953214        434621        68372782  3949  292  720   \n",
      "239    1874  1086       6017513        438059        69452612  3985  293  721   \n",
      "240    1874  1087       5950352        440842        68068453  3999  291  723   \n",
      "241    1874  1088       5995596        440061        69734150  4007  290  724   \n",
      "\n",
      "                         mask_fn  \n",
      "0    s_0848_fucci_merge_gray.tif  \n",
      "1    s_0849_fucci_merge_gray.tif  \n",
      "2    s_0850_fucci_merge_gray.tif  \n",
      "3    s_0851_fucci_merge_gray.tif  \n",
      "4    s_0852_fucci_merge_gray.tif  \n",
      "..                           ...  \n",
      "237  s_1085_fucci_merge_gray.tif  \n",
      "238  s_1086_fucci_merge_gray.tif  \n",
      "239  s_1087_fucci_merge_gray.tif  \n",
      "240  s_1088_fucci_merge_gray.tif  \n",
      "241  s_1089_fucci_merge_gray.tif  \n",
      "\n",
      "[242 rows x 9 columns]\n",
      "cell ID =  1883 progress bar below: (n/N frames):\n"
     ]
    },
    {
     "data": {
      "application/vnd.jupyter.widget-view+json": {
       "model_id": "439b247f167744d79b68b9e22fa4dbe1",
       "version_major": 2,
       "version_minor": 0
      },
      "text/plain": [
       "HBox(children=(FloatProgress(value=0.0, max=243.0), HTML(value='')))"
      ]
     },
     "metadata": {},
     "output_type": "display_data"
    },
    {
     "name": "stdout",
     "output_type": "stream",
     "text": [
      "\n",
      "    Cell ID Frame GFP Intensity RFP Intensity Phase Intensity  Area    x    y  \\\n",
      "0      1883   849        142057        144707        26248146   590  767   80   \n",
      "1      1883   850        215495        219186        40032233   989  776   83   \n",
      "2      1883   851        203635        222876        31929048   893  773   83   \n",
      "3      1883   852        216470        245688        38615559   951  775   82   \n",
      "4      1883   853        208269        231329        36312739   861  773   82   \n",
      "..      ...   ...           ...           ...             ...   ...  ...  ...   \n",
      "238    1883  1087        321257        521757        20737516  1137  774  105   \n",
      "239    1883  1088        324423        515785        19630269  1136  774  105   \n",
      "240    1883  1089        322182        548414        19615731  1129  776  105   \n",
      "241    1883  1090        318588        542873        18042143  1100  775  105   \n",
      "242    1883  1091        323334        545599        19506094  1107  775  104   \n",
      "\n",
      "                         mask_fn  \n",
      "0    s_0850_fucci_merge_gray.tif  \n",
      "1    s_0851_fucci_merge_gray.tif  \n",
      "2    s_0852_fucci_merge_gray.tif  \n",
      "3    s_0853_fucci_merge_gray.tif  \n",
      "4    s_0854_fucci_merge_gray.tif  \n",
      "..                           ...  \n",
      "238  s_1088_fucci_merge_gray.tif  \n",
      "239  s_1089_fucci_merge_gray.tif  \n",
      "240  s_1090_fucci_merge_gray.tif  \n",
      "241  s_1091_fucci_merge_gray.tif  \n",
      "242  s_1092_fucci_merge_gray.tif  \n",
      "\n",
      "[243 rows x 9 columns]\n",
      "cell ID =  1891 progress bar below: (n/N frames):\n"
     ]
    },
    {
     "data": {
      "application/vnd.jupyter.widget-view+json": {
       "model_id": "7dab2d251de34c0eb583efdd8ffe08d9",
       "version_major": 2,
       "version_minor": 0
      },
      "text/plain": [
       "HBox(children=(FloatProgress(value=0.0, max=240.0), HTML(value='')))"
      ]
     },
     "metadata": {},
     "output_type": "display_data"
    },
    {
     "name": "stdout",
     "output_type": "stream",
     "text": [
      "\n",
      "    Cell ID Frame GFP Intensity RFP Intensity Phase Intensity Area   x    y  \\\n",
      "0      1891   852         26311          6392         1369417   49   2  200   \n",
      "1      1891   853             0             0               0    0   2  200   \n",
      "2      1891   854             0             0               0    0   2  200   \n",
      "3      1891   855         36868          8200         1596625   66   2  201   \n",
      "4      1891   856         64560         14191         2789094  116   3  199   \n",
      "..      ...   ...           ...           ...             ...  ...  ..  ...   \n",
      "235    1891  1087        744837         98179        17795193  893  11  184   \n",
      "236    1891  1088        738487         92292        16974480  843  11  184   \n",
      "237    1891  1089        826751        109474        21370121  998  12  185   \n",
      "238    1891  1090        819784        103462        20212339  937  12  185   \n",
      "239    1891  1091        838537        109387        21385696  989  12  185   \n",
      "\n",
      "                         mask_fn  \n",
      "0    s_0853_fucci_merge_gray.tif  \n",
      "1    s_0854_fucci_merge_gray.tif  \n",
      "2    s_0855_fucci_merge_gray.tif  \n",
      "3    s_0856_fucci_merge_gray.tif  \n",
      "4    s_0857_fucci_merge_gray.tif  \n",
      "..                           ...  \n",
      "235  s_1088_fucci_merge_gray.tif  \n",
      "236  s_1089_fucci_merge_gray.tif  \n",
      "237  s_1090_fucci_merge_gray.tif  \n",
      "238  s_1091_fucci_merge_gray.tif  \n",
      "239  s_1092_fucci_merge_gray.tif  \n",
      "\n",
      "[240 rows x 9 columns]\n",
      "cell ID =  1894 progress bar below: (n/N frames):\n"
     ]
    },
    {
     "data": {
      "application/vnd.jupyter.widget-view+json": {
       "model_id": "b66757ace917477bb686ffbf4ee79d36",
       "version_major": 2,
       "version_minor": 0
      },
      "text/plain": [
       "HBox(children=(FloatProgress(value=0.0, max=239.0), HTML(value='')))"
      ]
     },
     "metadata": {},
     "output_type": "display_data"
    },
    {
     "name": "stdout",
     "output_type": "stream",
     "text": [
      "\n",
      "    Cell ID Frame GFP Intensity RFP Intensity Phase Intensity  Area    x    y  \\\n",
      "0      1894   853         94461        117999         6431304   486  491  314   \n",
      "1      1894   854             0             0               0     0  491  314   \n",
      "2      1894   855        137730        171173         9838341   737  494  317   \n",
      "3      1894   856             0             0               0     0  496  319   \n",
      "4      1894   857             0             0               0     0  499  322   \n",
      "..      ...   ...           ...           ...             ...   ...  ...  ...   \n",
      "234    1894  1087        703421        641647        16307426  1150  495  348   \n",
      "235    1894  1088        712695        658606        15966791  1161  494  348   \n",
      "236    1894  1089        732392        647794        15811797  1165  495  350   \n",
      "237    1894  1090        732757        673999        15181248  1145  494  351   \n",
      "238    1894  1091        744026        656722        16392150  1144  494  350   \n",
      "\n",
      "                         mask_fn  \n",
      "0    s_0854_fucci_merge_gray.tif  \n",
      "1    s_0855_fucci_merge_gray.tif  \n",
      "2    s_0856_fucci_merge_gray.tif  \n",
      "3    s_0857_fucci_merge_gray.tif  \n",
      "4    s_0858_fucci_merge_gray.tif  \n",
      "..                           ...  \n",
      "234  s_1088_fucci_merge_gray.tif  \n",
      "235  s_1089_fucci_merge_gray.tif  \n",
      "236  s_1090_fucci_merge_gray.tif  \n",
      "237  s_1091_fucci_merge_gray.tif  \n",
      "238  s_1092_fucci_merge_gray.tif  \n",
      "\n",
      "[239 rows x 9 columns]\n",
      "cell ID =  1896 progress bar below: (n/N frames):\n"
     ]
    },
    {
     "data": {
      "application/vnd.jupyter.widget-view+json": {
       "model_id": "e62215ac75754756ac57032735ba92c1",
       "version_major": 2,
       "version_minor": 0
      },
      "text/plain": [
       "HBox(children=(FloatProgress(value=0.0, max=238.0), HTML(value='')))"
      ]
     },
     "metadata": {},
     "output_type": "display_data"
    },
    {
     "name": "stdout",
     "output_type": "stream",
     "text": [
      "\n",
      "    Cell ID Frame GFP Intensity RFP Intensity Phase Intensity  Area    x    y  \\\n",
      "0      1896   854        132605        186993        13066319   776  117  686   \n",
      "1      1896   855        131345        187356        14249430   791  116  687   \n",
      "2      1896   856        130649        187996        13819757   777  117  686   \n",
      "3      1896   857         88059        128489         8877193   517  117  685   \n",
      "4      1896   858        133453        197422        13714297   799  117  686   \n",
      "..      ...   ...           ...           ...             ...   ...  ...  ...   \n",
      "233    1896  1087        348800        800956        17517279  1264  103  692   \n",
      "234    1896  1088        342369        852087        16773601  1238  103  692   \n",
      "235    1896  1089        346831        840768        19046881  1271  104  694   \n",
      "236    1896  1090        347562        850000        17139710  1228  103  694   \n",
      "237    1896  1091        365454        896863        17949934  1294  104  695   \n",
      "\n",
      "                         mask_fn  \n",
      "0    s_0855_fucci_merge_gray.tif  \n",
      "1    s_0856_fucci_merge_gray.tif  \n",
      "2    s_0857_fucci_merge_gray.tif  \n",
      "3    s_0858_fucci_merge_gray.tif  \n",
      "4    s_0859_fucci_merge_gray.tif  \n",
      "..                           ...  \n",
      "233  s_1088_fucci_merge_gray.tif  \n",
      "234  s_1089_fucci_merge_gray.tif  \n",
      "235  s_1090_fucci_merge_gray.tif  \n",
      "236  s_1091_fucci_merge_gray.tif  \n",
      "237  s_1092_fucci_merge_gray.tif  \n",
      "\n",
      "[238 rows x 9 columns]\n",
      "cell ID =  1897 progress bar below: (n/N frames):\n"
     ]
    },
    {
     "data": {
      "application/vnd.jupyter.widget-view+json": {
       "model_id": "040b97eab9d64e1996a965125e363066",
       "version_major": 2,
       "version_minor": 0
      },
      "text/plain": [
       "HBox(children=(FloatProgress(value=0.0, max=238.0), HTML(value='')))"
      ]
     },
     "metadata": {},
     "output_type": "display_data"
    },
    {
     "name": "stdout",
     "output_type": "stream",
     "text": [
      "\n",
      "    Cell ID Frame GFP Intensity RFP Intensity Phase Intensity  Area    x    y  \\\n",
      "0      1897   854        109601        161513        10131264   671  120  733   \n",
      "1      1897   855        115743        167725        11438635   717  121  735   \n",
      "2      1897   856        106757        161309        10343244   655  121  734   \n",
      "3      1897   857         78677        115669         7001401   469  121  733   \n",
      "4      1897   858        104892        162413         9706325   641  121  735   \n",
      "..      ...   ...           ...           ...             ...   ...  ...  ...   \n",
      "233    1897  1087        284635        745952        18035848  1141  122  745   \n",
      "234    1897  1088        270756        675996        17140248  1100  120  746   \n",
      "235    1897  1089        274054        715494        17520648  1111  122  746   \n",
      "236    1897  1090        278141        736432        17519416  1105  121  747   \n",
      "237    1897  1091        296897        723678        17614726  1177  122  748   \n",
      "\n",
      "                         mask_fn  \n",
      "0    s_0855_fucci_merge_gray.tif  \n",
      "1    s_0856_fucci_merge_gray.tif  \n",
      "2    s_0857_fucci_merge_gray.tif  \n",
      "3    s_0858_fucci_merge_gray.tif  \n",
      "4    s_0859_fucci_merge_gray.tif  \n",
      "..                           ...  \n",
      "233  s_1088_fucci_merge_gray.tif  \n",
      "234  s_1089_fucci_merge_gray.tif  \n",
      "235  s_1090_fucci_merge_gray.tif  \n",
      "236  s_1091_fucci_merge_gray.tif  \n",
      "237  s_1092_fucci_merge_gray.tif  \n",
      "\n",
      "[238 rows x 9 columns]\n",
      "cell ID =  1900 progress bar below: (n/N frames):\n"
     ]
    },
    {
     "data": {
      "application/vnd.jupyter.widget-view+json": {
       "model_id": "cf42e71d1945400599091d5e7bf64680",
       "version_major": 2,
       "version_minor": 0
      },
      "text/plain": [
       "HBox(children=(FloatProgress(value=0.0, max=237.0), HTML(value='')))"
      ]
     },
     "metadata": {},
     "output_type": "display_data"
    },
    {
     "name": "stdout",
     "output_type": "stream",
     "text": [
      "\n",
      "    Cell ID Frame GFP Intensity RFP Intensity Phase Intensity  Area    x    y  \\\n",
      "0      1900   855        157711        187048        16483332   945  973  270   \n",
      "1      1900   856             0             0               0     0  973  270   \n",
      "2      1900   857             0             0               0     0  973  270   \n",
      "3      1900   858        161610        195025        17312568   966  973  267   \n",
      "4      1900   859             0             0               0     0  972  264   \n",
      "..      ...   ...           ...           ...             ...   ...  ...  ...   \n",
      "232    1900  1087        326239        509649        25289076  1197  983  294   \n",
      "233    1900  1088        311942        488170        23812081  1124  983  292   \n",
      "234    1900  1089        317612        513286        22909410  1131  983  292   \n",
      "235    1900  1090        317110        514738        23330580  1129  984  292   \n",
      "236    1900  1091        312758        490874        23676136  1119  985  293   \n",
      "\n",
      "                         mask_fn  \n",
      "0    s_0856_fucci_merge_gray.tif  \n",
      "1    s_0857_fucci_merge_gray.tif  \n",
      "2    s_0858_fucci_merge_gray.tif  \n",
      "3    s_0859_fucci_merge_gray.tif  \n",
      "4    s_0860_fucci_merge_gray.tif  \n",
      "..                           ...  \n",
      "232  s_1088_fucci_merge_gray.tif  \n",
      "233  s_1089_fucci_merge_gray.tif  \n",
      "234  s_1090_fucci_merge_gray.tif  \n",
      "235  s_1091_fucci_merge_gray.tif  \n",
      "236  s_1092_fucci_merge_gray.tif  \n",
      "\n",
      "[237 rows x 9 columns]\n",
      "cell ID =  1913 progress bar below: (n/N frames):\n"
     ]
    },
    {
     "data": {
      "application/vnd.jupyter.widget-view+json": {
       "model_id": "9956e20df92c4d38a05da2deaeeab835",
       "version_major": 2,
       "version_minor": 0
      },
      "text/plain": [
       "HBox(children=(FloatProgress(value=0.0, max=234.0), HTML(value='')))"
      ]
     },
     "metadata": {},
     "output_type": "display_data"
    },
    {
     "name": "stdout",
     "output_type": "stream",
     "text": [
      "\n",
      "    Cell ID Frame GFP Intensity RFP Intensity Phase Intensity  Area    x    y  \\\n",
      "0      1913   858        202055        219372        13788252  1158  539  282   \n",
      "1      1913   859             0             0               0     0  539  282   \n",
      "2      1913   860             0             0               0     0  539  282   \n",
      "3      1913   861        226063        235978        14051720  1288  538  282   \n",
      "4      1913   862        184120        206849        11663137  1021  538  281   \n",
      "..      ...   ...           ...           ...             ...   ...  ...  ...   \n",
      "229    1913  1087        635485        712332        16529428  1398  533  329   \n",
      "230    1913  1088        619884        731362        16669878  1393  532  329   \n",
      "231    1913  1089        616167        730208        17611521  1367  532  328   \n",
      "232    1913  1090        631798        744213        16526857  1389  531  329   \n",
      "233    1913  1091        635376        756183        17284163  1407  530  329   \n",
      "\n",
      "                         mask_fn  \n",
      "0    s_0859_fucci_merge_gray.tif  \n",
      "1    s_0860_fucci_merge_gray.tif  \n",
      "2    s_0861_fucci_merge_gray.tif  \n",
      "3    s_0862_fucci_merge_gray.tif  \n",
      "4    s_0863_fucci_merge_gray.tif  \n",
      "..                           ...  \n",
      "229  s_1088_fucci_merge_gray.tif  \n",
      "230  s_1089_fucci_merge_gray.tif  \n",
      "231  s_1090_fucci_merge_gray.tif  \n",
      "232  s_1091_fucci_merge_gray.tif  \n",
      "233  s_1092_fucci_merge_gray.tif  \n",
      "\n",
      "[234 rows x 9 columns]\n",
      "cell ID =  1920 progress bar below: (n/N frames):\n"
     ]
    },
    {
     "data": {
      "application/vnd.jupyter.widget-view+json": {
       "model_id": "b868b149511943f7ab78aafcc32d4932",
       "version_major": 2,
       "version_minor": 0
      },
      "text/plain": [
       "HBox(children=(FloatProgress(value=0.0, max=232.0), HTML(value='')))"
      ]
     },
     "metadata": {},
     "output_type": "display_data"
    },
    {
     "name": "stdout",
     "output_type": "stream",
     "text": [
      "\n",
      "    Cell ID Frame GFP Intensity RFP Intensity Phase Intensity  Area    x    y  \\\n",
      "0      1920   860        255094        454099        16118532  1267  239  890   \n",
      "1      1920   861        328604        570866        20916207  1731  236  891   \n",
      "2      1920   862        321073        567635        19391052  1661  236  890   \n",
      "3      1920   863        256204        455730        14718377  1271  239  888   \n",
      "4      1920   864        273568        501574        17395054  1399  237  888   \n",
      "..      ...   ...           ...           ...             ...   ...  ...  ...   \n",
      "227    1920  1087       1089732        193802        19901762  1761  204  872   \n",
      "228    1920  1088        914741        152175        15547783  1387  203  871   \n",
      "229    1920  1089        810762        129443        14262928  1183  204  871   \n",
      "230    1920  1090        941160        156363        16272251  1419  200  872   \n",
      "231    1920  1091       1124706        189644        19719868  1730  200  872   \n",
      "\n",
      "                         mask_fn  \n",
      "0    s_0861_fucci_merge_gray.tif  \n",
      "1    s_0862_fucci_merge_gray.tif  \n",
      "2    s_0863_fucci_merge_gray.tif  \n",
      "3    s_0864_fucci_merge_gray.tif  \n",
      "4    s_0865_fucci_merge_gray.tif  \n",
      "..                           ...  \n",
      "227  s_1088_fucci_merge_gray.tif  \n",
      "228  s_1089_fucci_merge_gray.tif  \n",
      "229  s_1090_fucci_merge_gray.tif  \n",
      "230  s_1091_fucci_merge_gray.tif  \n",
      "231  s_1092_fucci_merge_gray.tif  \n",
      "\n",
      "[232 rows x 9 columns]\n",
      "cell ID =  1916 progress bar below: (n/N frames):\n"
     ]
    },
    {
     "data": {
      "application/vnd.jupyter.widget-view+json": {
       "model_id": "cf30b2b4429e4c9bb6d0ab170f2cd766",
       "version_major": 2,
       "version_minor": 0
      },
      "text/plain": [
       "HBox(children=(FloatProgress(value=0.0, max=232.0), HTML(value='')))"
      ]
     },
     "metadata": {},
     "output_type": "display_data"
    },
    {
     "name": "stdout",
     "output_type": "stream",
     "text": [
      "\n",
      "    Cell ID Frame GFP Intensity RFP Intensity Phase Intensity  Area    x    y  \\\n",
      "0      1916   860        176892        271516        16262790  1026  475  955   \n",
      "1      1916   861        175117        271550        16808470  1049  474  955   \n",
      "2      1916   862        155785        249449        14094742   906  473  955   \n",
      "3      1916   863        155500        247154        14208792   909  472  953   \n",
      "4      1916   864        120569        200081        11044946   687  470  955   \n",
      "..      ...   ...           ...           ...             ...   ...  ...  ...   \n",
      "227    1916  1087        501517        776475        20288001  1259  494  965   \n",
      "228    1916  1088        455434        685086        17444340  1078  494  965   \n",
      "229    1916  1089        475435        727123        18498596  1106  495  967   \n",
      "230    1916  1090        431641        633427        16419169   971  492  967   \n",
      "231    1916  1091        469348        709974        18783250  1042  490  969   \n",
      "\n",
      "                         mask_fn  \n",
      "0    s_0861_fucci_merge_gray.tif  \n",
      "1    s_0862_fucci_merge_gray.tif  \n",
      "2    s_0863_fucci_merge_gray.tif  \n",
      "3    s_0864_fucci_merge_gray.tif  \n",
      "4    s_0865_fucci_merge_gray.tif  \n",
      "..                           ...  \n",
      "227  s_1088_fucci_merge_gray.tif  \n",
      "228  s_1089_fucci_merge_gray.tif  \n",
      "229  s_1090_fucci_merge_gray.tif  \n",
      "230  s_1091_fucci_merge_gray.tif  \n",
      "231  s_1092_fucci_merge_gray.tif  \n",
      "\n",
      "[232 rows x 9 columns]\n",
      "cell ID =  1924 progress bar below: (n/N frames):\n"
     ]
    },
    {
     "data": {
      "application/vnd.jupyter.widget-view+json": {
       "model_id": "32c0ff03f5474f079ca69707baa568c3",
       "version_major": 2,
       "version_minor": 0
      },
      "text/plain": [
       "HBox(children=(FloatProgress(value=0.0, max=231.0), HTML(value='')))"
      ]
     },
     "metadata": {},
     "output_type": "display_data"
    },
    {
     "name": "stdout",
     "output_type": "stream",
     "text": [
      "\n",
      "    Cell ID Frame GFP Intensity RFP Intensity Phase Intensity  Area    x   y  \\\n",
      "0      1924   861         81876         91095         9363123   392  765  35   \n",
      "1      1924   862             0             0               0     0  765  35   \n",
      "2      1924   863             0             0               0     0  765  35   \n",
      "3      1924   864        100760        114641        11700975   486  765  35   \n",
      "4      1924   865        126795        140325        14822851   601  765  36   \n",
      "..      ...   ...           ...           ...             ...   ...  ...  ..   \n",
      "226    1924  1087        320437        505126        22441249  1035  778  61   \n",
      "227    1924  1088        315169        496863        20319926  1005  777  61   \n",
      "228    1924  1089        322139        531020        23490768  1025  778  61   \n",
      "229    1924  1090        323133        541241        21300788  1046  777  61   \n",
      "230    1924  1091        328685        529231        22460863  1033  778  61   \n",
      "\n",
      "                         mask_fn  \n",
      "0    s_0862_fucci_merge_gray.tif  \n",
      "1    s_0863_fucci_merge_gray.tif  \n",
      "2    s_0864_fucci_merge_gray.tif  \n",
      "3    s_0865_fucci_merge_gray.tif  \n",
      "4    s_0866_fucci_merge_gray.tif  \n",
      "..                           ...  \n",
      "226  s_1088_fucci_merge_gray.tif  \n",
      "227  s_1089_fucci_merge_gray.tif  \n",
      "228  s_1090_fucci_merge_gray.tif  \n",
      "229  s_1091_fucci_merge_gray.tif  \n",
      "230  s_1092_fucci_merge_gray.tif  \n",
      "\n",
      "[231 rows x 9 columns]\n",
      "cell ID =  1932 progress bar below: (n/N frames):\n"
     ]
    },
    {
     "data": {
      "application/vnd.jupyter.widget-view+json": {
       "model_id": "4f41f47b30fd465db5428bdec0017a8d",
       "version_major": 2,
       "version_minor": 0
      },
      "text/plain": [
       "HBox(children=(FloatProgress(value=0.0, max=225.0), HTML(value='')))"
      ]
     },
     "metadata": {},
     "output_type": "display_data"
    },
    {
     "name": "stdout",
     "output_type": "stream",
     "text": [
      "\n",
      "    Cell ID Frame GFP Intensity RFP Intensity Phase Intensity  Area    x    y  \\\n",
      "0      1932   867        113873        169358         7792498   600  501  767   \n",
      "1      1932   868        122483        186244         8725722   646  500  765   \n",
      "2      1932   869             0             0               0     0  499  763   \n",
      "3      1932   870             0             0               0     0  498  761   \n",
      "4      1932   871        161644        245198        11041273   832  499  766   \n",
      "..      ...   ...           ...           ...             ...   ...  ...  ...   \n",
      "220    1932  1087        696992        652991        19048064  1526  523  754   \n",
      "221    1932  1088        687466        615082        17528820  1460  522  754   \n",
      "222    1932  1089        715371        651501        19215533  1505  524  754   \n",
      "223    1932  1090        722127        623285        18104490  1511  523  754   \n",
      "224    1932  1091        748803        645977        18817856  1574  523  754   \n",
      "\n",
      "                         mask_fn  \n",
      "0    s_0868_fucci_merge_gray.tif  \n",
      "1    s_0869_fucci_merge_gray.tif  \n",
      "2    s_0870_fucci_merge_gray.tif  \n",
      "3    s_0871_fucci_merge_gray.tif  \n",
      "4    s_0872_fucci_merge_gray.tif  \n",
      "..                           ...  \n",
      "220  s_1088_fucci_merge_gray.tif  \n",
      "221  s_1089_fucci_merge_gray.tif  \n",
      "222  s_1090_fucci_merge_gray.tif  \n",
      "223  s_1091_fucci_merge_gray.tif  \n",
      "224  s_1092_fucci_merge_gray.tif  \n",
      "\n",
      "[225 rows x 9 columns]\n",
      "cell ID =  1934 progress bar below: (n/N frames):\n"
     ]
    },
    {
     "data": {
      "application/vnd.jupyter.widget-view+json": {
       "model_id": "93075e4716984297b1a9874f5abdde2d",
       "version_major": 2,
       "version_minor": 0
      },
      "text/plain": [
       "HBox(children=(FloatProgress(value=0.0, max=224.0), HTML(value='')))"
      ]
     },
     "metadata": {},
     "output_type": "display_data"
    },
    {
     "name": "stdout",
     "output_type": "stream",
     "text": [
      "\n",
      "    Cell ID Frame GFP Intensity RFP Intensity Phase Intensity  Area    x    y  \\\n",
      "0      1934   868        182881        265347        12421265  1038  197  687   \n",
      "1      1934   869             0             0               0     0  197  687   \n",
      "2      1934   870        167317        245837        11462783   947  198  686   \n",
      "3      1934   871             0             0               0     0  198  685   \n",
      "4      1934   872        225378        316642        14537315  1309  199  690   \n",
      "..      ...   ...           ...           ...             ...   ...  ...  ...   \n",
      "219    1934  1087        547139        847370        19454064  1626  218  714   \n",
      "220    1934  1088        522001        872198        18217935  1532  217  713   \n",
      "221    1934  1089        516481        819952        19817552  1479  219  715   \n",
      "222    1934  1090        524009        808788        17217235  1487  218  716   \n",
      "223    1934  1091        552084        875914        17956182  1527  219  717   \n",
      "\n",
      "                         mask_fn  \n",
      "0    s_0869_fucci_merge_gray.tif  \n",
      "1    s_0870_fucci_merge_gray.tif  \n",
      "2    s_0871_fucci_merge_gray.tif  \n",
      "3    s_0872_fucci_merge_gray.tif  \n",
      "4    s_0873_fucci_merge_gray.tif  \n",
      "..                           ...  \n",
      "219  s_1088_fucci_merge_gray.tif  \n",
      "220  s_1089_fucci_merge_gray.tif  \n",
      "221  s_1090_fucci_merge_gray.tif  \n",
      "222  s_1091_fucci_merge_gray.tif  \n",
      "223  s_1092_fucci_merge_gray.tif  \n",
      "\n",
      "[224 rows x 9 columns]\n",
      "cell ID =  1938 progress bar below: (n/N frames):\n"
     ]
    },
    {
     "data": {
      "application/vnd.jupyter.widget-view+json": {
       "model_id": "604aa5aef6534cfa98bcf8529dfb8b89",
       "version_major": 2,
       "version_minor": 0
      },
      "text/plain": [
       "HBox(children=(FloatProgress(value=0.0, max=223.0), HTML(value='')))"
      ]
     },
     "metadata": {},
     "output_type": "display_data"
    },
    {
     "name": "stdout",
     "output_type": "stream",
     "text": [
      "\n",
      "    Cell ID Frame GFP Intensity RFP Intensity Phase Intensity  Area    x    y  \\\n",
      "0      1938   869        201266        341522        15391549  1113  358  935   \n",
      "1      1938   870             0             0               0     0  358  935   \n",
      "2      1938   871             0             0               0     0  358  935   \n",
      "3      1938   872        236121        378684        19417365  1307  359  936   \n",
      "4      1938   873        237441        381795        19604725  1309  360  936   \n",
      "..      ...   ...           ...           ...             ...   ...  ...  ...   \n",
      "218    1938  1087        659171        648154        20597955  1399  396  931   \n",
      "219    1938  1088        644331        588698        21157747  1354  394  932   \n",
      "220    1938  1089        653235        624017        18624809  1355  395  933   \n",
      "221    1938  1090        641663        609302        20894838  1370  392  934   \n",
      "222    1938  1091        695967        626258        21304395  1458  392  935   \n",
      "\n",
      "                         mask_fn  \n",
      "0    s_0870_fucci_merge_gray.tif  \n",
      "1    s_0871_fucci_merge_gray.tif  \n",
      "2    s_0872_fucci_merge_gray.tif  \n",
      "3    s_0873_fucci_merge_gray.tif  \n",
      "4    s_0874_fucci_merge_gray.tif  \n",
      "..                           ...  \n",
      "218  s_1088_fucci_merge_gray.tif  \n",
      "219  s_1089_fucci_merge_gray.tif  \n",
      "220  s_1090_fucci_merge_gray.tif  \n",
      "221  s_1091_fucci_merge_gray.tif  \n",
      "222  s_1092_fucci_merge_gray.tif  \n",
      "\n",
      "[223 rows x 9 columns]\n",
      "cell ID =  1939 progress bar below: (n/N frames):\n"
     ]
    },
    {
     "data": {
      "application/vnd.jupyter.widget-view+json": {
       "model_id": "ae88ddb3fa5c486880a637ce277565c3",
       "version_major": 2,
       "version_minor": 0
      },
      "text/plain": [
       "HBox(children=(FloatProgress(value=0.0, max=223.0), HTML(value='')))"
      ]
     },
     "metadata": {},
     "output_type": "display_data"
    },
    {
     "name": "stdout",
     "output_type": "stream",
     "text": [
      "\n",
      "    Cell ID Frame GFP Intensity RFP Intensity Phase Intensity  Area    x    y  \\\n",
      "0      1939   869         84124        141074         8568050   493  422  934   \n",
      "1      1939   870             0             0               0     0  422  934   \n",
      "2      1939   871             0             0               0     0  422  934   \n",
      "3      1939   872        205473        301605        20935338  1229  425  932   \n",
      "4      1939   873        205532        302867        20510808  1233  426  932   \n",
      "..      ...   ...           ...           ...             ...   ...  ...  ...   \n",
      "218    1939  1087        616388        864556        22388330  1549  448  952   \n",
      "219    1939  1088        602958        793352        21681784  1492  447  953   \n",
      "220    1939  1089        621563        852685        19499222  1526  449  953   \n",
      "221    1939  1090        622373        838410        21062789  1505  447  954   \n",
      "222    1939  1091        653995        837010        21514093  1586  447  955   \n",
      "\n",
      "                         mask_fn  \n",
      "0    s_0870_fucci_merge_gray.tif  \n",
      "1    s_0871_fucci_merge_gray.tif  \n",
      "2    s_0872_fucci_merge_gray.tif  \n",
      "3    s_0873_fucci_merge_gray.tif  \n",
      "4    s_0874_fucci_merge_gray.tif  \n",
      "..                           ...  \n",
      "218  s_1088_fucci_merge_gray.tif  \n",
      "219  s_1089_fucci_merge_gray.tif  \n",
      "220  s_1090_fucci_merge_gray.tif  \n",
      "221  s_1091_fucci_merge_gray.tif  \n",
      "222  s_1092_fucci_merge_gray.tif  \n",
      "\n",
      "[223 rows x 9 columns]\n",
      "cell ID =  1944 progress bar below: (n/N frames):\n"
     ]
    },
    {
     "data": {
      "application/vnd.jupyter.widget-view+json": {
       "model_id": "ef167606bff54c01909179479eb3595e",
       "version_major": 2,
       "version_minor": 0
      },
      "text/plain": [
       "HBox(children=(FloatProgress(value=0.0, max=220.0), HTML(value='')))"
      ]
     },
     "metadata": {},
     "output_type": "display_data"
    },
    {
     "name": "stdout",
     "output_type": "stream",
     "text": [
      "\n",
      "    Cell ID Frame GFP Intensity RFP Intensity Phase Intensity  Area    x    y  \\\n",
      "0      1944   872        172036        231088        14126781   932  493  710   \n",
      "1      1944   873        141117        192434        10136891   766  494  709   \n",
      "2      1944   874        115027        162812         8338760   614  494  710   \n",
      "3      1944   875        122145        175321         8738802   654  496  709   \n",
      "4      1944   876             0             0               0     0  497  708   \n",
      "..      ...   ...           ...           ...             ...   ...  ...  ...   \n",
      "215    1944  1087        487479        796949        20158877  1387  521  692   \n",
      "216    1944  1088        484120        805180        19142026  1374  521  693   \n",
      "217    1944  1089        475877        789546        19775933  1362  522  693   \n",
      "218    1944  1090        483243        825764        18284143  1344  521  692   \n",
      "219    1944  1091        506722        802507        20405399  1404  522  692   \n",
      "\n",
      "                         mask_fn  \n",
      "0    s_0873_fucci_merge_gray.tif  \n",
      "1    s_0874_fucci_merge_gray.tif  \n",
      "2    s_0875_fucci_merge_gray.tif  \n",
      "3    s_0876_fucci_merge_gray.tif  \n",
      "4    s_0877_fucci_merge_gray.tif  \n",
      "..                           ...  \n",
      "215  s_1088_fucci_merge_gray.tif  \n",
      "216  s_1089_fucci_merge_gray.tif  \n",
      "217  s_1090_fucci_merge_gray.tif  \n",
      "218  s_1091_fucci_merge_gray.tif  \n",
      "219  s_1092_fucci_merge_gray.tif  \n",
      "\n",
      "[220 rows x 9 columns]\n",
      "cell ID =  1945 progress bar below: (n/N frames):\n"
     ]
    },
    {
     "data": {
      "application/vnd.jupyter.widget-view+json": {
       "model_id": "bb54fc7f503844afa916e2c2b41a2752",
       "version_major": 2,
       "version_minor": 0
      },
      "text/plain": [
       "HBox(children=(FloatProgress(value=0.0, max=220.0), HTML(value='')))"
      ]
     },
     "metadata": {},
     "output_type": "display_data"
    },
    {
     "name": "stdout",
     "output_type": "stream",
     "text": [
      "\n",
      "    Cell ID Frame GFP Intensity RFP Intensity Phase Intensity Area     x    y  \\\n",
      "0      1945   872        134147        162244        12664188  824   977  734   \n",
      "1      1945   873        116156        142411        11120418  705   976  734   \n",
      "2      1945   874        130766        158302        12779710  790   975  734   \n",
      "3      1945   875             0             0               0    0   973  733   \n",
      "4      1945   876        116078        144493        11529596  702   974  734   \n",
      "..      ...   ...           ...           ...             ...  ...   ...  ...   \n",
      "215    1945  1087        126373        239936         6487550  597  1014  723   \n",
      "216    1945  1088        119157        229126         6119053  559  1014  722   \n",
      "217    1945  1089        108460        216812         5912154  496  1015  722   \n",
      "218    1945  1090        117952        223318         6416954  557  1014  723   \n",
      "219    1945  1091        124932        238274         6106614  582  1014  723   \n",
      "\n",
      "                         mask_fn  \n",
      "0    s_0873_fucci_merge_gray.tif  \n",
      "1    s_0874_fucci_merge_gray.tif  \n",
      "2    s_0875_fucci_merge_gray.tif  \n",
      "3    s_0876_fucci_merge_gray.tif  \n",
      "4    s_0877_fucci_merge_gray.tif  \n",
      "..                           ...  \n",
      "215  s_1088_fucci_merge_gray.tif  \n",
      "216  s_1089_fucci_merge_gray.tif  \n",
      "217  s_1090_fucci_merge_gray.tif  \n",
      "218  s_1091_fucci_merge_gray.tif  \n",
      "219  s_1092_fucci_merge_gray.tif  \n",
      "\n",
      "[220 rows x 9 columns]\n",
      "cell ID =  1949 progress bar below: (n/N frames):\n"
     ]
    },
    {
     "data": {
      "application/vnd.jupyter.widget-view+json": {
       "model_id": "589d00df3da74dd6bbfd46a2fb101a59",
       "version_major": 2,
       "version_minor": 0
      },
      "text/plain": [
       "HBox(children=(FloatProgress(value=0.0, max=220.0), HTML(value='')))"
      ]
     },
     "metadata": {},
     "output_type": "display_data"
    },
    {
     "name": "stdout",
     "output_type": "stream",
     "text": [
      "\n",
      "    Cell ID Frame GFP Intensity RFP Intensity Phase Intensity  Area    x    y  \\\n",
      "0      1949   872        210647        289476        17780794  1140  460  665   \n",
      "1      1949   873        198114        276724        15595549  1084  460  664   \n",
      "2      1949   874        121577        173217        10101118   638  461  666   \n",
      "3      1949   875             0             0               0     0  462  667   \n",
      "4      1949   876        105182        148668         8284690   545  462  665   \n",
      "..      ...   ...           ...           ...             ...   ...  ...  ...   \n",
      "215    1949  1087        652290        808221        17864661  1423  469  677   \n",
      "216    1949  1088        638711        815556        16492965  1365  468  678   \n",
      "217    1949  1089        644885        803838        18694788  1385  470  678   \n",
      "218    1949  1090        652745        845078        16548178  1382  467  678   \n",
      "219    1949  1091        663683        815248        16954247  1404  468  678   \n",
      "\n",
      "                         mask_fn  \n",
      "0    s_0873_fucci_merge_gray.tif  \n",
      "1    s_0874_fucci_merge_gray.tif  \n",
      "2    s_0875_fucci_merge_gray.tif  \n",
      "3    s_0876_fucci_merge_gray.tif  \n",
      "4    s_0877_fucci_merge_gray.tif  \n",
      "..                           ...  \n",
      "215  s_1088_fucci_merge_gray.tif  \n",
      "216  s_1089_fucci_merge_gray.tif  \n",
      "217  s_1090_fucci_merge_gray.tif  \n",
      "218  s_1091_fucci_merge_gray.tif  \n",
      "219  s_1092_fucci_merge_gray.tif  \n",
      "\n",
      "[220 rows x 9 columns]\n",
      "cell ID =  1953 progress bar below: (n/N frames):\n"
     ]
    },
    {
     "data": {
      "application/vnd.jupyter.widget-view+json": {
       "model_id": "2b267ad558304923a2aef79e447ceef0",
       "version_major": 2,
       "version_minor": 0
      },
      "text/plain": [
       "HBox(children=(FloatProgress(value=0.0, max=219.0), HTML(value='')))"
      ]
     },
     "metadata": {},
     "output_type": "display_data"
    },
    {
     "name": "stdout",
     "output_type": "stream",
     "text": [
      "\n",
      "    Cell ID Frame GFP Intensity RFP Intensity Phase Intensity  Area    x    y  \\\n",
      "0      1953   873        142877        156966        13492072   866  946  416   \n",
      "1      1953   874        188056        211685        16389647  1132  945  416   \n",
      "2      1953   875             0             0               0     0  944  415   \n",
      "3      1953   876        125763        145364        11481401   757  945  416   \n",
      "4      1953   877        184426        209541        16845117  1105  944  415   \n",
      "..      ...   ...           ...           ...             ...   ...  ...  ...   \n",
      "214    1953  1087        367092        598065        28148846  1544  975  467   \n",
      "215    1953  1088        370799        576645        28015254  1549  974  468   \n",
      "216    1953  1089        357473        593277        26332167  1514  976  468   \n",
      "217    1953  1090        362566        600368        27346088  1522  975  468   \n",
      "218    1953  1091        366915        606865        27136225  1538  975  468   \n",
      "\n",
      "                         mask_fn  \n",
      "0    s_0874_fucci_merge_gray.tif  \n",
      "1    s_0875_fucci_merge_gray.tif  \n",
      "2    s_0876_fucci_merge_gray.tif  \n",
      "3    s_0877_fucci_merge_gray.tif  \n",
      "4    s_0878_fucci_merge_gray.tif  \n",
      "..                           ...  \n",
      "214  s_1088_fucci_merge_gray.tif  \n",
      "215  s_1089_fucci_merge_gray.tif  \n",
      "216  s_1090_fucci_merge_gray.tif  \n",
      "217  s_1091_fucci_merge_gray.tif  \n",
      "218  s_1092_fucci_merge_gray.tif  \n",
      "\n",
      "[219 rows x 9 columns]\n",
      "cell ID =  1963 progress bar below: (n/N frames):\n"
     ]
    },
    {
     "data": {
      "application/vnd.jupyter.widget-view+json": {
       "model_id": "27797a7788cb4af6882be50143d301db",
       "version_major": 2,
       "version_minor": 0
      },
      "text/plain": [
       "HBox(children=(FloatProgress(value=0.0, max=215.0), HTML(value='')))"
      ]
     },
     "metadata": {},
     "output_type": "display_data"
    },
    {
     "name": "stdout",
     "output_type": "stream",
     "text": [
      "\n",
      "    Cell ID Frame GFP Intensity RFP Intensity Phase Intensity  Area    x    y  \\\n",
      "0      1963   876        483402         77162        12238432   716  278  880   \n",
      "1      1963   877       1377180        236240        38348149  2193  281  899   \n",
      "2      1963   879       1336328        229617        39145347  2139  282  900   \n",
      "3      1963   880        223008         37777         6008975   352  299  904   \n",
      "4      1963   881             0             0               0     0  315  907   \n",
      "..      ...   ...           ...           ...             ...   ...  ...  ...   \n",
      "210    1963  1087        833144        291947        18433570  1431  373  880   \n",
      "211    1963  1088        741536        257058        15479874  1247  372  881   \n",
      "212    1963  1089        740509        248075        16218822  1246  373  882   \n",
      "213    1963  1090        785603        262589        17759669  1316  371  882   \n",
      "214    1963  1091        858632        277247        19189798  1479  372  882   \n",
      "\n",
      "                         mask_fn  \n",
      "0    s_0877_fucci_merge_gray.tif  \n",
      "1    s_0878_fucci_merge_gray.tif  \n",
      "2    s_0880_fucci_merge_gray.tif  \n",
      "3    s_0881_fucci_merge_gray.tif  \n",
      "4    s_0882_fucci_merge_gray.tif  \n",
      "..                           ...  \n",
      "210  s_1088_fucci_merge_gray.tif  \n",
      "211  s_1089_fucci_merge_gray.tif  \n",
      "212  s_1090_fucci_merge_gray.tif  \n",
      "213  s_1091_fucci_merge_gray.tif  \n",
      "214  s_1092_fucci_merge_gray.tif  \n",
      "\n",
      "[215 rows x 9 columns]\n",
      "cell ID =  1964 progress bar below: (n/N frames):\n"
     ]
    },
    {
     "data": {
      "application/vnd.jupyter.widget-view+json": {
       "model_id": "7d6d51f91b3548b7a52d1e07bc476a1a",
       "version_major": 2,
       "version_minor": 0
      },
      "text/plain": [
       "HBox(children=(FloatProgress(value=0.0, max=214.0), HTML(value='')))"
      ]
     },
     "metadata": {},
     "output_type": "display_data"
    },
    {
     "name": "stdout",
     "output_type": "stream",
     "text": [
      "\n",
      "    Cell ID Frame GFP Intensity RFP Intensity Phase Intensity  Area    x    y  \\\n",
      "0      1964   878        114719        114909        12489440   344  383  381   \n",
      "1      1964   879        194973        187187        21437958   596  383  381   \n",
      "2      1964   880             0             0               0     0  383  381   \n",
      "3      1964   881             0             0               0     0  383  381   \n",
      "4      1964   882        187998        184941        21445515   581  381  380   \n",
      "..      ...   ...           ...           ...             ...   ...  ...  ...   \n",
      "209    1964  1087       2040562        412086        55901206  1593  364  332   \n",
      "210    1964  1088       2341697        444260        68143810  1947  366  332   \n",
      "211    1964  1089       2483510        487270        74414112  2113  366  333   \n",
      "212    1964  1090       2410721        501865        73889528  2054  365  333   \n",
      "213    1964  1091       1589178        285537        45242209  1236  364  332   \n",
      "\n",
      "                         mask_fn  \n",
      "0    s_0879_fucci_merge_gray.tif  \n",
      "1    s_0880_fucci_merge_gray.tif  \n",
      "2    s_0881_fucci_merge_gray.tif  \n",
      "3    s_0882_fucci_merge_gray.tif  \n",
      "4    s_0883_fucci_merge_gray.tif  \n",
      "..                           ...  \n",
      "209  s_1088_fucci_merge_gray.tif  \n",
      "210  s_1089_fucci_merge_gray.tif  \n",
      "211  s_1090_fucci_merge_gray.tif  \n",
      "212  s_1091_fucci_merge_gray.tif  \n",
      "213  s_1092_fucci_merge_gray.tif  \n",
      "\n",
      "[214 rows x 9 columns]\n",
      "cell ID =  1965 progress bar below: (n/N frames):\n"
     ]
    },
    {
     "data": {
      "application/vnd.jupyter.widget-view+json": {
       "model_id": "cc0351afd1bd45728ea58586653088e8",
       "version_major": 2,
       "version_minor": 0
      },
      "text/plain": [
       "HBox(children=(FloatProgress(value=0.0, max=214.0), HTML(value='')))"
      ]
     },
     "metadata": {},
     "output_type": "display_data"
    },
    {
     "name": "stdout",
     "output_type": "stream",
     "text": [
      "\n",
      "    Cell ID Frame GFP Intensity RFP Intensity Phase Intensity  Area    x  \\\n",
      "0      1965   878         89705        143464        11020579   520  325   \n",
      "1      1965   879             0             0               0     0  325   \n",
      "2      1965   880         67973        121028         7900615   388  326   \n",
      "3      1965   881             0             0               0     0  326   \n",
      "4      1965   882        106722        171414        14391930   643  324   \n",
      "..      ...   ...           ...           ...             ...   ...  ...   \n",
      "209    1965  1087        524248        836943        22664452  1432  351   \n",
      "210    1965  1088        512676        806002        22386895  1367  349   \n",
      "211    1965  1089        512454        804618        19510776  1333  348   \n",
      "212    1965  1090        520497        811857        22822824  1349  346   \n",
      "213    1965  1091        555485        848456        23469108  1434  346   \n",
      "\n",
      "        y                      mask_fn  \n",
      "0     998  s_0879_fucci_merge_gray.tif  \n",
      "1     998  s_0880_fucci_merge_gray.tif  \n",
      "2     997  s_0881_fucci_merge_gray.tif  \n",
      "3     996  s_0882_fucci_merge_gray.tif  \n",
      "4    1000  s_0883_fucci_merge_gray.tif  \n",
      "..    ...                          ...  \n",
      "209   959  s_1088_fucci_merge_gray.tif  \n",
      "210   959  s_1089_fucci_merge_gray.tif  \n",
      "211   958  s_1090_fucci_merge_gray.tif  \n",
      "212   959  s_1091_fucci_merge_gray.tif  \n",
      "213   958  s_1092_fucci_merge_gray.tif  \n",
      "\n",
      "[214 rows x 9 columns]\n",
      "cell ID =  1974 progress bar below: (n/N frames):\n"
     ]
    },
    {
     "data": {
      "application/vnd.jupyter.widget-view+json": {
       "model_id": "9596c02e30c0492ebd1d1c27982fd3d3",
       "version_major": 2,
       "version_minor": 0
      },
      "text/plain": [
       "HBox(children=(FloatProgress(value=0.0, max=210.0), HTML(value='')))"
      ]
     },
     "metadata": {},
     "output_type": "display_data"
    },
    {
     "name": "stdout",
     "output_type": "stream",
     "text": [
      "\n",
      "    Cell ID Frame GFP Intensity RFP Intensity Phase Intensity  Area    x   y  \\\n",
      "0      1974   882        131114        142336        14709116   611  734  47   \n",
      "1      1974   883         86043         99257         9891903   399  735  48   \n",
      "2      1974   884             0             0               0     0  735  48   \n",
      "3      1974   885        109785        126003        12893174   521  735  49   \n",
      "4      1974   886             0             0               0     0  733  48   \n",
      "..      ...   ...           ...           ...             ...   ...  ...  ..   \n",
      "205    1974  1087        261623        382837        25822293  1002  737  41   \n",
      "206    1974  1088        259853        369409        24575478   984  736  41   \n",
      "207    1974  1089        260512        390935        25470299  1000  738  41   \n",
      "208    1974  1090        251749        384355        23715543   951  738  42   \n",
      "209    1974  1091        263491        397086        25550195   993  738  42   \n",
      "\n",
      "                         mask_fn  \n",
      "0    s_0883_fucci_merge_gray.tif  \n",
      "1    s_0884_fucci_merge_gray.tif  \n",
      "2    s_0885_fucci_merge_gray.tif  \n",
      "3    s_0886_fucci_merge_gray.tif  \n",
      "4    s_0887_fucci_merge_gray.tif  \n",
      "..                           ...  \n",
      "205  s_1088_fucci_merge_gray.tif  \n",
      "206  s_1089_fucci_merge_gray.tif  \n",
      "207  s_1090_fucci_merge_gray.tif  \n",
      "208  s_1091_fucci_merge_gray.tif  \n",
      "209  s_1092_fucci_merge_gray.tif  \n",
      "\n",
      "[210 rows x 9 columns]\n",
      "cell ID =  1977 progress bar below: (n/N frames):\n"
     ]
    },
    {
     "data": {
      "application/vnd.jupyter.widget-view+json": {
       "model_id": "7de90f8f711040afb74fa71269406eee",
       "version_major": 2,
       "version_minor": 0
      },
      "text/plain": [
       "HBox(children=(FloatProgress(value=0.0, max=210.0), HTML(value='')))"
      ]
     },
     "metadata": {},
     "output_type": "display_data"
    },
    {
     "name": "stdout",
     "output_type": "stream",
     "text": [
      "\n",
      "    Cell ID Frame GFP Intensity RFP Intensity Phase Intensity  Area    x    y  \\\n",
      "0      1977   882        112266        193992        11347159   642  310  955   \n",
      "1      1977   883         92986        154512         9251404   529  313  955   \n",
      "2      1977   884             0             0               0     0  315  955   \n",
      "3      1977   885        109254        190818        10641960   630  312  957   \n",
      "4      1977   886             0             0               0     0  308  958   \n",
      "..      ...   ...           ...           ...             ...   ...  ...  ...   \n",
      "205    1977  1087        750659        481911        26409085  1379  292  947   \n",
      "206    1977  1088        710989        465436        24619892  1307  291  946   \n",
      "207    1977  1089        674360        413779        20305805  1227  291  945   \n",
      "208    1977  1090        641175        388832        22996052  1166  287  944   \n",
      "209    1977  1091        720601        440725        23701814  1326  288  943   \n",
      "\n",
      "                         mask_fn  \n",
      "0    s_0883_fucci_merge_gray.tif  \n",
      "1    s_0884_fucci_merge_gray.tif  \n",
      "2    s_0885_fucci_merge_gray.tif  \n",
      "3    s_0886_fucci_merge_gray.tif  \n",
      "4    s_0887_fucci_merge_gray.tif  \n",
      "..                           ...  \n",
      "205  s_1088_fucci_merge_gray.tif  \n",
      "206  s_1089_fucci_merge_gray.tif  \n",
      "207  s_1090_fucci_merge_gray.tif  \n",
      "208  s_1091_fucci_merge_gray.tif  \n",
      "209  s_1092_fucci_merge_gray.tif  \n",
      "\n",
      "[210 rows x 9 columns]\n",
      "cell ID =  1989 progress bar below: (n/N frames):\n"
     ]
    },
    {
     "data": {
      "application/vnd.jupyter.widget-view+json": {
       "model_id": "bb21b1dfdef94cffbd6c428689dcccad",
       "version_major": 2,
       "version_minor": 0
      },
      "text/plain": [
       "HBox(children=(FloatProgress(value=0.0, max=205.0), HTML(value='')))"
      ]
     },
     "metadata": {},
     "output_type": "display_data"
    },
    {
     "name": "stdout",
     "output_type": "stream",
     "text": [
      "\n",
      "    Cell ID Frame GFP Intensity RFP Intensity Phase Intensity  Area     x  \\\n",
      "0      1989   887        252087        283553        23195599  1584   992   \n",
      "1      1989   888        237970        269545        21011760  1505   992   \n",
      "2      1989   889        188496        213110        17974461  1173   992   \n",
      "3      1989   890        198913        228420        17533688  1238   991   \n",
      "4      1989   891        242053        275930        21694812  1526   993   \n",
      "..      ...   ...           ...           ...             ...   ...   ...   \n",
      "200    1989  1087        379349        543973        29867332  1561  1003   \n",
      "201    1989  1088        357585        516181        28555959  1446  1003   \n",
      "202    1989  1089        367645        547917        27914064  1484  1003   \n",
      "203    1989  1090        376625        555704        29977316  1525  1003   \n",
      "204    1989  1091        386465        557938        30477555  1556  1003   \n",
      "\n",
      "       y                      mask_fn  \n",
      "0    499  s_0888_fucci_merge_gray.tif  \n",
      "1    500  s_0889_fucci_merge_gray.tif  \n",
      "2    499  s_0890_fucci_merge_gray.tif  \n",
      "3    498  s_0891_fucci_merge_gray.tif  \n",
      "4    498  s_0892_fucci_merge_gray.tif  \n",
      "..   ...                          ...  \n",
      "200  526  s_1088_fucci_merge_gray.tif  \n",
      "201  526  s_1089_fucci_merge_gray.tif  \n",
      "202  526  s_1090_fucci_merge_gray.tif  \n",
      "203  526  s_1091_fucci_merge_gray.tif  \n",
      "204  525  s_1092_fucci_merge_gray.tif  \n",
      "\n",
      "[205 rows x 9 columns]\n",
      "cell ID =  1994 progress bar below: (n/N frames):\n"
     ]
    },
    {
     "data": {
      "application/vnd.jupyter.widget-view+json": {
       "model_id": "5660aaca840e4f7595615dec7605614f",
       "version_major": 2,
       "version_minor": 0
      },
      "text/plain": [
       "HBox(children=(FloatProgress(value=0.0, max=204.0), HTML(value='')))"
      ]
     },
     "metadata": {},
     "output_type": "display_data"
    },
    {
     "name": "stdout",
     "output_type": "stream",
     "text": [
      "\n",
      "    Cell ID Frame GFP Intensity RFP Intensity Phase Intensity  Area    x    y  \\\n",
      "0      1994   888        210116        246486        38327947  1096  817  214   \n",
      "1      1994   889        183565        216614        32275820   937  817  215   \n",
      "2      1994   890        196143        222581        32496098  1000  817  213   \n",
      "3      1994   891             0             0               0     0  816  211   \n",
      "4      1994   892        236416        275087        37135940  1247  817  214   \n",
      "..      ...   ...           ...           ...             ...   ...  ...  ...   \n",
      "199    1994  1087        473297        754249        21072236  1924  841  243   \n",
      "200    1994  1088        465877        746009        21486299  1871  841  242   \n",
      "201    1994  1089        455961        750407        19592196  1848  842  243   \n",
      "202    1994  1090        475253        780669        21724381  1907  840  242   \n",
      "203    1994  1091        469970        760871        22166159  1875  841  242   \n",
      "\n",
      "                         mask_fn  \n",
      "0    s_0889_fucci_merge_gray.tif  \n",
      "1    s_0890_fucci_merge_gray.tif  \n",
      "2    s_0891_fucci_merge_gray.tif  \n",
      "3    s_0892_fucci_merge_gray.tif  \n",
      "4    s_0893_fucci_merge_gray.tif  \n",
      "..                           ...  \n",
      "199  s_1088_fucci_merge_gray.tif  \n",
      "200  s_1089_fucci_merge_gray.tif  \n",
      "201  s_1090_fucci_merge_gray.tif  \n",
      "202  s_1091_fucci_merge_gray.tif  \n",
      "203  s_1092_fucci_merge_gray.tif  \n",
      "\n",
      "[204 rows x 9 columns]\n",
      "\n",
      "FINISHHHHEEEEDDDDD\n"
     ]
    },
    {
     "data": {
      "text/plain": [
       "0"
      ]
     },
     "execution_count": 49,
     "metadata": {},
     "output_type": "execute_result"
    }
   ],
   "source": [
    "print('Total calculation progress bar below (n/N cells):')\n",
    "for j, cell in enumerate(tqdm(filtered_tracks)):\n",
    "    ID = str(filtered_tracks[j].ID)\n",
    "    print('cell ID = ',ID, 'progress bar below: (n/N frames):')## add to df\n",
    "    frames = filtered_tracks[j].t\n",
    "    x = filtered_tracks[j].x \n",
    "    y = filtered_tracks[j].y\n",
    "\n",
    "    fn = \"cell_ID_\" + ID + \".csv\"\n",
    "    stat_file = os.path.normpath(os.path.join(mask_type_stats_dir, fn))\n",
    "\n",
    "    df = pd.DataFrame([], columns=['Cell ID', 'Frame', 'GFP Intensity', 'RFP Intensity', 'Phase Intensity', 'Area', 'x','y', 'mask_fn']) #is this assignment of df correct? or does it overwrite \"count_cells\" above\n",
    "\n",
    "    new_mask_list = [] #this creates a new mask list of only the necessary frames\n",
    "    new_gfp_list = []\n",
    "    new_rfp_list = []\n",
    "    new_phase_list = []\n",
    "    for k in frames:\n",
    "        new_mask_list.append(mask_list[k]) \n",
    "        new_gfp_list.append(gfp_list[k])\n",
    "        new_rfp_list.append(rfp_list[k])\n",
    "        new_phase_list.append(phase_list[k])\n",
    "\n",
    "    # below opens a mask image, uses xy coords to select specific mask, then uses that specific mask to measure other images\n",
    "    for i, mask_name in enumerate(tqdm(new_mask_list)):\n",
    "        #print(i, frames[i], mask_name, new_gfp_list[i], new_rfp_list[i], new_phase_list[i]) #sanity check to ensure correct images are being loaded+measured\n",
    "\n",
    "        mask = io.imread(os.path.normpath(os.path.join(mask_dir, mask_name))) #load mask\n",
    "        xi = int(x[i])\n",
    "        yi = int(y[i]) #x and y coords\n",
    "        labelled, n_labels = ndimage.label(mask) \n",
    "        #this block returns 0-value measurements if the cell_mask is unavailable at this frame, due to tracker-interpolation\n",
    "        if (labelled[xi,yi] == 0):\n",
    "            cell_mask = 0\n",
    "            area = 0\n",
    "        else:\n",
    "            cell_mask = labelled == labelled[xi,yi] #creating a new mask only including cell of interest\n",
    "            area = ndimage.sum(cell_mask)\n",
    "\n",
    "        #load images and measure\n",
    "        gfp = io.imread(os.path.join(gfp_dir,new_gfp_list[i])) #load gfp image\n",
    "        gfp_pix_value = ndimage.sum(gfp, cell_mask, 1) #measure cell_mask area of gfp image\n",
    "\n",
    "        rfp = io.imread(os.path.join(rfp_dir,new_rfp_list[i]))\n",
    "        rfp_pix_value = ndimage.sum(rfp, cell_mask, 1)\n",
    "\n",
    "        phase = io.imread(os.path.join(phase_dir,new_phase_list[i]))\n",
    "        phase_pix_value = ndimage.sum(phase, cell_mask, 1)\n",
    "\n",
    "        #store measurements in pandas df\n",
    "        df.loc[i, 'Cell ID'] = ID\n",
    "        df.loc[i, 'Frame'] = frames[i]\n",
    "        df.loc[i,'GFP Intensity'] = gfp_pix_value \n",
    "        df.loc[i,'RFP Intensity'] = rfp_pix_value\n",
    "        df.loc[i,'Phase Intensity'] = phase_pix_value \n",
    "        df.loc[i,'Area'] = area\n",
    "        df.loc[i, 'mask_fn'] = mask_name\n",
    "        df.loc[i,'x'] = xi\n",
    "        df.loc[i,'y'] = yi\n",
    "\n",
    "    df.to_csv(stat_file, index=False)  \n",
    "    print(df)\n",
    "print(\"FINISHHHHEEEEDDDDD\")\n",
    "os.system('spd-say \"Master Nathan, your program has finished. I love you.\"')"
   ]
  },
  {
   "cell_type": "code",
   "execution_count": 51,
   "metadata": {},
   "outputs": [
    {
     "data": {
      "text/plain": [
       "0"
      ]
     },
     "execution_count": 51,
     "metadata": {},
     "output_type": "execute_result"
    }
   ],
   "source": []
  }
 ],
 "metadata": {
  "kernelspec": {
   "display_name": "Python 3",
   "language": "python",
   "name": "python3"
  },
  "language_info": {
   "codemirror_mode": {
    "name": "ipython",
    "version": 3
   },
   "file_extension": ".py",
   "mimetype": "text/x-python",
   "name": "python",
   "nbconvert_exporter": "python",
   "pygments_lexer": "ipython3",
   "version": "3.7.6"
  }
 },
 "nbformat": 4,
 "nbformat_minor": 4
}
