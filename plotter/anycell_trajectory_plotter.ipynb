{
 "cells": [
  {
   "cell_type": "markdown",
   "metadata": {},
   "source": [
    "# Single cell fluorescence/holographic trajectory plotting\n",
    "\n",
    "Designed to ~~measure a series of time-dependent single cell fluorescent/holographic intensities and then~~ plot them on comparative graphs\n",
    "\n",
    "\n",
    "```\n",
    "Author: \n",
    "- Nathan J. Day (nathan.day.16@ucl.ac.uk)\n",
    "```\n",
    "\n",
    "\n",
    "### STEPS\n",
    "~~1. Measure the intenstities of the cell trajectories and save out as csv and pandas dataframe~~\n",
    "2. Plot these trajectories \n"
   ]
  },
  {
   "cell_type": "code",
   "execution_count": 1,
   "metadata": {},
   "outputs": [],
   "source": [
    "import matplotlib.pyplot as plt\n",
    "import numpy as np\n",
    "import pandas as pd\n",
    "import os\n",
    "from scipy import ndimage\n",
    "from skimage.io import imshow #used to be from skimage import io\n",
    "from sklearn import preprocessing\n",
    "from matplotlib import animation\n",
    "from natsort import natsorted"
   ]
  },
  {
   "cell_type": "code",
   "execution_count": 2,
   "metadata": {},
   "outputs": [],
   "source": [
    "def colour_picker(variable_title):\n",
    "        colour_list = [\"GFP\", \"RFP\", \"Phase\"]\n",
    "        for colour in colour_list:\n",
    "            if colour in variable_title:\n",
    "                if colour == \"GFP\": \n",
    "                    return 'green'\n",
    "                elif colour == 'RFP':\n",
    "                    return 'red'\n",
    "                elif colour == 'Phase':\n",
    "                    return 'cyan'\n",
    "                else:\n",
    "                    return \"Could not find a suitable colour to plot in, check colour_picker function\"\n",
    "\n",
    "def normalisation(series):\n",
    "    max_series = np.amax(series)\n",
    "    norm_factor = 1 / max_series\n",
    "    scaled_series = series * norm_factor\n",
    "    return scaled_series"
   ]
  },
  {
   "cell_type": "markdown",
   "metadata": {},
   "source": [
    "### Load data\n",
    "If the data already exists in a .csv and just needs to be plotted then skip to this part, **but make sure you uncomment then following cell!**\n",
    "\n",
    "+ Number of cells\n",
    "+ Number of frames/timepoints (length of trajectory)\n",
    "\n",
    "##### At time of writing this the data organisation is as follows OUT OF DATE NOW INCLUDES ADDED COLUMNS\n",
    "Stats.csv:\n",
    "\n",
    "|   |GFP Intensity|RFP Intensity|Phase Intensity|Area| x | y |\n",
    "|---|-------------|-------------|---------------|----|---|---|\n",
    "|1  |             |             |               |    |   |   |\n",
    "|2  |             |             |               |    |   |   |\n",
    "|...|             |             |               |    |   |   |\n",
    "|t  |             |             |               |    |   |   |\n",
    "\n",
    "And the directory organisation is as follows:\n",
    "\n",
    "```\n",
    "root_path/stats/mask_version/\n",
    "                          Cell_ID_1.csv\n",
    "                          Cell_ID_2.csv\n",
    "                          ...\n",
    "```\n",
    "Where ```mask_version``` could be any of the following, for example\n",
    "```\n",
    "mask_version = { /gold\n",
    "                 /modelv4\n",
    "                 /modelv5\n",
    "                 /cellpose_nuclear\n",
    "                     ... } \n",
    "```"
   ]
  },
  {
   "cell_type": "markdown",
   "metadata": {},
   "source": [
    "# Select which cell ID to plot"
   ]
  },
  {
   "cell_type": "code",
   "execution_count": 3,
   "metadata": {},
   "outputs": [
    {
     "name": "stdout",
     "output_type": "stream",
     "text": [
      "Input cell ID\n",
      "72\n"
     ]
    }
   ],
   "source": [
    "print(\"Input cell ID\")\n",
    "cell=input()\n",
    "\n",
    "### Data location ###\n",
    "root_path = \"/home/nathan/data/fucci/fucci1_171201/stats/cellpose_nuclear\"\n",
    "fn = \"cell_ID_\" + str(cell) + \".csv\"\n",
    "stat_location = os.path.join(root_path, fn)\n",
    "df = pd.read_csv(stat_location)\n"
   ]
  },
  {
   "cell_type": "code",
   "execution_count": 99,
   "metadata": {},
   "outputs": [
    {
     "name": "stdout",
     "output_type": "stream",
     "text": [
      "    Cell ID  Frame  GFP Intensity  RFP Intensity  Phase Intensity    Area   x  \\\n",
      "0        72      0         296584         311323         21040923  119059  55   \n",
      "1        72      1         151499         164182         11438713   98910  49   \n",
      "2        72      2         379368         393059         25157225  126485  45   \n",
      "3        72      3         273897         299168         17484164  118673  38   \n",
      "4        72      4         313723         332988         20291385  130491  33   \n",
      "5        72      5      189129035      150588869      13515749883  129526  28   \n",
      "6        72      6      186893176      149860603      13472723999  131532  23   \n",
      "7        72      7      188618607      149736235      13588519865  129204  18   \n",
      "8        72      8         280990         295252         18357462  139533  30   \n",
      "9        72      9         319211         339718         24378559  144725  36   \n",
      "10       72     10      185131416      146331570      13534725044  131088  40   \n",
      "11       72     11         363039         378425         28824038  144951  43   \n",
      "12       72     12         366961         397120         27420980  141655  45   \n",
      "13       72     13         373019         399512         28692118  147903  44   \n",
      "14       72     14         396800         415433         30068800  139523  45   \n",
      "15       72     15         383374         403276         29243884  125742  44   \n",
      "16       72     16         417207         443210         31182446  123294  52   \n",
      "17       72     17         418764         455148         34478540  119297  55   \n",
      "18       72     18         385079         424415         34218619  125920  54   \n",
      "19       72     19         445485         480984         36460799  122335  51   \n",
      "\n",
      "      y                      mask_fn  \n",
      "0   322  s_0001_fucci_merge_gray.tif  \n",
      "1   318  s_0002_fucci_merge_gray.tif  \n",
      "2   316  s_0003_fucci_merge_gray.tif  \n",
      "3   313  s_0004_fucci_merge_gray.tif  \n",
      "4   316  s_0005_fucci_merge_gray.tif  \n",
      "5   317  s_0006_fucci_merge_gray.tif  \n",
      "6   319  s_0007_fucci_merge_gray.tif  \n",
      "7   321  s_0008_fucci_merge_gray.tif  \n",
      "8   332  s_0009_fucci_merge_gray.tif  \n",
      "9   339  s_0010_fucci_merge_gray.tif  \n",
      "10  346  s_0011_fucci_merge_gray.tif  \n",
      "11  337  s_0012_fucci_merge_gray.tif  \n",
      "12  335  s_0013_fucci_merge_gray.tif  \n",
      "13  334  s_0014_fucci_merge_gray.tif  \n",
      "14  328  s_0015_fucci_merge_gray.tif  \n",
      "15  323  s_0016_fucci_merge_gray.tif  \n",
      "16  318  s_0017_fucci_merge_gray.tif  \n",
      "17  314  s_0018_fucci_merge_gray.tif  \n",
      "18  311  s_0019_fucci_merge_gray.tif  \n",
      "19  307  s_0020_fucci_merge_gray.tif  \n",
      "189129035\n"
     ]
    }
   ],
   "source": [
    "df = pd.read_csv(os.path.join(root_path, stat_location))\n",
    "print(df[:20])\n",
    "print(max(df[\"GFP Intensity\"]))"
   ]
  },
  {
   "cell_type": "code",
   "execution_count": 90,
   "metadata": {},
   "outputs": [
    {
     "data": {
      "image/png": "[encoded data removed]",
      "text/plain": [
       "<Figure size 432x288 with 1 Axes>"
      ]
     },
     "metadata": {
      "needs_background": "light"
     },
     "output_type": "display_data"
    }
   ],
   "source": [
    "hist = df[\"GFP Intensity\"].hist(bins=10)"
   ]
  },
  {
   "cell_type": "code",
   "execution_count": 107,
   "metadata": {
    "scrolled": true
   },
   "outputs": [
    {
     "name": "stdout",
     "output_type": "stream",
     "text": [
      "0        296584\n",
      "1        151499\n",
      "2        379368\n",
      "3        273897\n",
      "4        313723\n",
      "         ...   \n",
      "1086    1535180\n",
      "1087    1525943\n",
      "1088    1516569\n",
      "1089    1502093\n",
      "1090    1562903\n",
      "Name: GFP Intensity, Length: 1091, dtype: int64\n",
      "0             NaN\n",
      "1             NaN\n",
      "2             NaN\n",
      "3             NaN\n",
      "4             NaN\n",
      "          ...    \n",
      "1086    1550990.6\n",
      "1087    1545411.5\n",
      "1088    1540119.9\n",
      "1089    1533897.3\n",
      "1090    1534220.8\n",
      "Name: GFP Intensity, Length: 1091, dtype: float64\n"
     ]
    },
    {
     "data": {
      "image/png": "[encoded data removed]",
      "text/plain": [
       "<Figure size 432x288 with 1 Axes>"
      ]
     },
     "metadata": {
      "needs_background": "light"
     },
     "output_type": "display_data"
    },
    {
     "name": "stdout",
     "output_type": "stream",
     "text": [
      "0        311323\n",
      "1        164182\n",
      "2        393059\n",
      "3        299168\n",
      "4        332988\n",
      "         ...   \n",
      "1086    4354609\n",
      "1087    4244277\n",
      "1088    4371062\n",
      "1089    4247825\n",
      "1090    4384909\n",
      "Name: RFP Intensity, Length: 1091, dtype: int64\n",
      "0             NaN\n",
      "1             NaN\n",
      "2             NaN\n",
      "3             NaN\n",
      "4             NaN\n",
      "          ...    \n",
      "1086    4335564.4\n",
      "1087    4324475.2\n",
      "1088    4332310.9\n",
      "1089    4319437.2\n",
      "1090    4327739.9\n",
      "Name: RFP Intensity, Length: 1091, dtype: float64\n"
     ]
    },
    {
     "data": {
      "image/png": "[encoded data removed]",
      "text/plain": [
       "<Figure size 432x288 with 1 Axes>"
      ]
     },
     "metadata": {
      "needs_background": "light"
     },
     "output_type": "display_data"
    },
    {
     "name": "stdout",
     "output_type": "stream",
     "text": [
      "0       21040923\n",
      "1       11438713\n",
      "2       25157225\n",
      "3       17484164\n",
      "4       20291385\n",
      "          ...   \n",
      "1086    50560414\n",
      "1087    51565350\n",
      "1088    51917161\n",
      "1089    49146113\n",
      "1090    49148637\n",
      "Name: Phase Intensity, Length: 1091, dtype: int64\n",
      "0              NaN\n",
      "1              NaN\n",
      "2              NaN\n",
      "3              NaN\n",
      "4              NaN\n",
      "           ...    \n",
      "1086    52681101.4\n",
      "1087    52354853.9\n",
      "1088    52092206.9\n",
      "1089    51546458.6\n",
      "1090    51072558.9\n",
      "Name: Phase Intensity, Length: 1091, dtype: float64\n"
     ]
    },
    {
     "data": {
      "image/png": "[encoded data removed]",
      "text/plain": [
       "<Figure size 432x288 with 1 Axes>"
      ]
     },
     "metadata": {
      "needs_background": "light"
     },
     "output_type": "display_data"
    }
   ],
   "source": [
    "### Raw data plots \n",
    "\"\"\"for cell in cell_ids:\n",
    "    cell_id = \"cell\" + cell\n",
    "    #stat_location = os.path.join(cell_id, \"stats.csv\")\n",
    "\"\"\"\n",
    "df = pd.read_csv(os.path.join(root_path, stat_location))\n",
    "#print(df)\n",
    "x = df.index\n",
    "x_time = df.index * 4/60 #for plotting the x axis as hours assuming time period between frames is 4mins\n",
    "\n",
    "y_variables = df.columns[2:5] #this calls just the first four variables \n",
    "for y in y_variables:\n",
    "    intensity = df[y] \n",
    "    print(df[y])\n",
    "    rolling_mean_20 = df[y].rolling(window=10).mean()\n",
    "    print(rolling_mean_20)\n",
    "    #plt.ylim(0, 5000000)\n",
    "    plt.scatter(x_time,rolling_mean_20, s= 0.1)\n",
    "    plt.ylabel(y)\n",
    "    plt.xlabel('Time (hrs)')\n",
    "    title = y + ' of cell ' + cell\n",
    "    plt.title(title)\n",
    "    plt.show()\n",
    "    \n",
    "    \"\"\"rolling_mean = df.y.rolling(window=20).mean()\n",
    "    rolling_mean2 = df.y.rolling(window=50).mean()\n",
    "    plt.plot(df.ds, df.y, label='AMD')\n",
    "    plt.plot(df.ds, rolling_mean, label='AMD 20 Day SMA', color='orange')\n",
    "    plt.plot(df.ds, rolling_mean2, label='AMD 50 Day SMA', color='magenta')\n",
    "    plt.legend(loc='upper left')\n",
    "    plt.show()\n",
    "    \"\"\""
   ]
  },
  {
   "cell_type": "code",
   "execution_count": 87,
   "metadata": {
    "scrolled": true
   },
   "outputs": [
    {
     "data": {
      "image/png": "[encoded data removed]",
      "text/plain": [
       "<Figure size 432x288 with 1 Axes>"
      ]
     },
     "metadata": {
      "needs_background": "light"
     },
     "output_type": "display_data"
    },
    {
     "data": {
      "image/png": "[encoded data removed]",
      "text/plain": [
       "<Figure size 432x288 with 1 Axes>"
      ]
     },
     "metadata": {
      "needs_background": "light"
     },
     "output_type": "display_data"
    },
    {
     "data": {
      "image/png": "[encoded data removed]",
      "text/plain": [
       "<Figure size 432x288 with 1 Axes>"
      ]
     },
     "metadata": {
      "needs_background": "light"
     },
     "output_type": "display_data"
    }
   ],
   "source": [
    "### Normalised data plots\n",
    "\n",
    "\n",
    "df = pd.read_csv(os.path.join(root_path, stat_location))\n",
    "\n",
    "x = df.index\n",
    "x_time = df.index * 4/60 #for plotting the x axis as hours assuming time period between frames is 4mins\n",
    "\n",
    "y_variables = df.columns[2:5] #this calls just the first four variables \n",
    "for y in y_variables:\n",
    "    #intensity = df[y] \n",
    "    norm_intensity = normalisation(df[y])      \n",
    "    plt.scatter(x_time,[norm_intensity], s= 0.1)\n",
    "    #plt.plot(x_time,[norm_intensity], s= 0.1)\n",
    "    ylabel = \"Normalised \" + y\n",
    "    plt.ylabel(ylabel)\n",
    "    plt.xlabel('Time (hrs)')\n",
    "    title = y + ' of cell ' + cell\n",
    "    plt.title(title)\n",
    "    plt.show()"
   ]
  },
  {
   "cell_type": "code",
   "execution_count": 88,
   "metadata": {
    "scrolled": true
   },
   "outputs": [
    {
     "data": {
      "image/png": "[encoded data removed]",
      "text/plain": [
       "<Figure size 432x288 with 1 Axes>"
      ]
     },
     "metadata": {
      "needs_background": "light"
     },
     "output_type": "display_data"
    }
   ],
   "source": [
    "df = pd.read_csv(os.path.join(root_path, stat_location))\n",
    "norm_df = pd.DataFrame([])\n",
    "\n",
    "x = df.index\n",
    "x_time = df.index * 4/60 #for plotting the x axis as hours assuming time period between frames is 4mins\n",
    "y_variables = df.columns[0:4] #this calls just the first four variables \n",
    "\n",
    "# collect different intensities to plot\n",
    "for y in y_variables:\n",
    "        #intensity = df[y] \n",
    "        y_name = 'Normalised ' + y\n",
    "        norm_intensity = normalisation(df[y]) \n",
    "        norm_df[y_name] = norm_intensity   \n",
    "\n",
    "#plotting intensities on same plot\n",
    "for column in norm_df.columns[2:4]: #index in df.columns indicate variables to plot\n",
    "    colour = colour_picker(column)\n",
    "    plt.plot(x_time, norm_df[column], linewidth=0.5, color=colour, label = column)\n",
    "#plt.plot(x_time, norm_df[\"Normalised Area\"], linewidth=0.5, color=\"gray\", label = \"Normalised Area\" )\n",
    "plt.ylabel(\"Normalised Intensity\")\n",
    "plt.xlabel('Time (hrs)')\n",
    "plt.legend()\n",
    "title = \"Normalised intensity of cell \" + cell\n",
    "#title = norm_df.columns[0]+\", \"+ norm_df.columns[1]+ \", \"+ norm_df.columns[2]+\" of cell \" + cell\n",
    "plt.title(title)\n",
    "save_title = title + \".png\"\n",
    "#plt.savefig(os.path.join(root_path, cell_id, save_title), dpi=1000)\n",
    "plt.show()       "
   ]
  },
  {
   "cell_type": "code",
   "execution_count": null,
   "metadata": {},
   "outputs": [],
   "source": [
    "# overlaid multicell plots, alignment needed\n",
    "norm_df = pd.DataFrame([])\n",
    "norm_df_list = []\n",
    "cell_ids = [\"1a\", \"1b\"]\n",
    "for cell in cell_ids:\n",
    "    cell_id = \"cell\" + cell\n",
    "\n",
    "    stat_location = os.path.join(cell_id, \"stats.csv\")\n",
    "\n",
    "    df = pd.read_csv(os.path.join(root_path, stat_location))    \n",
    "\n",
    "    x = df.index\n",
    "    x_time = df.index * 4/60 #for plotting the x axis as hours assuming time period between frames is 4mins\n",
    "    \n",
    "    # collect different intensities to plot\n",
    "    for y in y_variables:\n",
    "            #intensity = df[y] \n",
    "            y_name = 'Normalised ' + y\n",
    "            norm_intensity = normalisation(df[y]) \n",
    "            norm_df[y_name] = norm_intensity\n",
    "    \n",
    "    stat_location = os.path.join(cell_id, \"normalised_stats.csv\")\n",
    "    norm_stat_file = os.path.join(root_path, stat_location)\n",
    "    norm_df.to_csv(norm_stat_file, index=False)\n",
    "    norm_df_list.append(norm_stat_file)\n",
    "    \n",
    "#need to edit these dataframes and and align them so that norm_df[i].min is all aligned \n",
    "for i, cell in enumerate(cell_ids):\n",
    "    norm_df = pd.read_csv(cell_info[i].path)\n",
    "    #now shift index of df so that the three column variables align\n",
    "    shift1a = 0 \n",
    "    shift2a = 0\n",
    "    shift = 0 #amount to shift the df by\n",
    "    norm_df.shift(periods=shift)\n",
    "\n",
    "    \n",
    "# for each channel\n",
    "for column in norm_df.columns[2:3]: #only showing PHASE atm\n",
    "    #for each cell\n",
    "    for i, cell in enumerate(cell_ids):\n",
    "        #print(cell)\n",
    "        norm_df = pd.read_csv(cell_info[i].path)\n",
    "        #colour = colour_picker(column)\n",
    "        plt.plot(x_time, norm_df[column], linewidth=0.5, label = cell)#, color=colour)\n",
    "\n",
    "    plt.ylabel(\"Normalised Intensity\")\n",
    "    plt.xlabel('Time (hrs)')\n",
    "    title = column+ \" of multiple cells\"\n",
    "    plt.title(title)\n",
    "    plt.legend()\n",
    "    save_title = title + \".png\"\n",
    "    plt.savefig(os.path.join(root_path, save_title), dpi=1000)\n",
    "    plt.show()   "
   ]
  },
  {
   "cell_type": "code",
   "execution_count": null,
   "metadata": {
    "scrolled": false
   },
   "outputs": [],
   "source": [
    "for i, cell in enumerate(cell_ids):\n",
    "\n",
    "    norm_df = pd.read_csv(cell_info[i].path)\n",
    "\n",
    "    differences_df = norm_df.diff(periods=50)\n",
    "    align_point = differences_df[\"Normalised GFP Intensity\"].idxmin(axis=0) ##calculates the largest drop in gfp for alignment\n",
    "    \n",
    "    align_dict[cell] = align_point\n",
    "    index = i+1 \n",
    "    #print(len(cell_ids))\n",
    "    #if i+1 > int(cell_ids[-1]):\n",
    "    if i+1 > len(cell_ids)-1:\n",
    "        break\n",
    "    else:\n",
    "        shift_amount = align_dict[cell_ids[i]] - align_dict[cell_ids[i+1]]\n",
    "    print(shift_amount)\n",
    "    #shift = 0 #amount to shift the df by\n",
    "    #shift_df = norm_df.shift(periods=align_point)\n",
    "\n",
    "    #plt.scatter(x_time,[shift_df[\"Normalised GFP Intensity\"]], s= 0.1)\n",
    "    #plt.show()\n",
    "print(align_dict)"
   ]
  },
  {
   "cell_type": "code",
   "execution_count": 5,
   "metadata": {
    "scrolled": true
   },
   "outputs": [
    {
     "ename": "NameError",
     "evalue": "name 'norm_df' is not defined",
     "output_type": "error",
     "traceback": [
      "\u001b[1;31m---------------------------------------------------------------------------\u001b[0m",
      "\u001b[1;31mNameError\u001b[0m                                 Traceback (most recent call last)",
      "\u001b[1;32m<ipython-input-5-fa8bd09cd352>\u001b[0m in \u001b[0;36m<module>\u001b[1;34m\u001b[0m\n\u001b[0;32m     15\u001b[0m \u001b[1;31m#%matplotlib notebook\u001b[0m\u001b[1;33m\u001b[0m\u001b[1;33m\u001b[0m\u001b[1;33m\u001b[0m\u001b[0m\n\u001b[0;32m     16\u001b[0m \u001b[0mtitle\u001b[0m \u001b[1;33m=\u001b[0m \u001b[1;34m'Normalised GFP Intensity'\u001b[0m\u001b[1;33m\u001b[0m\u001b[1;33m\u001b[0m\u001b[0m\n\u001b[1;32m---> 17\u001b[1;33m \u001b[0md\u001b[0m \u001b[1;33m=\u001b[0m \u001b[0mnorm_df\u001b[0m\u001b[1;33m\u001b[0m\u001b[1;33m\u001b[0m\u001b[0m\n\u001b[0m\u001b[0;32m     18\u001b[0m \u001b[0mx\u001b[0m \u001b[1;33m=\u001b[0m \u001b[0mnp\u001b[0m\u001b[1;33m.\u001b[0m\u001b[0marray\u001b[0m\u001b[1;33m(\u001b[0m\u001b[0md\u001b[0m\u001b[1;33m.\u001b[0m\u001b[0mindex\u001b[0m\u001b[1;33m)\u001b[0m\u001b[1;33m\u001b[0m\u001b[1;33m\u001b[0m\u001b[0m\n\u001b[0;32m     19\u001b[0m \u001b[0my\u001b[0m \u001b[1;33m=\u001b[0m \u001b[0mnp\u001b[0m\u001b[1;33m.\u001b[0m\u001b[0marray\u001b[0m\u001b[1;33m(\u001b[0m\u001b[0md\u001b[0m\u001b[1;33m[\u001b[0m\u001b[1;34m'Normalised GFP Intensity'\u001b[0m\u001b[1;33m]\u001b[0m\u001b[1;33m)\u001b[0m\u001b[1;33m\u001b[0m\u001b[1;33m\u001b[0m\u001b[0m\n",
      "\u001b[1;31mNameError\u001b[0m: name 'norm_df' is not defined"
     ]
    }
   ],
   "source": [
    "import numpy as np\n",
    "import pandas as pd\n",
    "import seaborn as sns\n",
    "import matplotlib\n",
    "import matplotlib.pyplot as plt\n",
    "import matplotlib.animation as animation\n",
    "import os\n",
    "\n",
    "norm_df = pd.read_csv(os.path.join(root_path, stat_location))\n",
    "\n",
    "\n",
    "#print(norm_df)\n",
    "def get_data(table,col,title):\n",
    "    data = norm_df['Normalised GFP Intensity'].astype(float)\n",
    "    data.columns = {title}\n",
    "    return data\n",
    "\n",
    "#%matplotlib notebook\n",
    "title = 'Normalised GFP Intensity'\n",
    "d = norm_df\n",
    "x = np.array(d.index)\n",
    "y = np.array(d['Normalised GFP Intensity'])\n",
    "\n",
    "fluorescence = pd.DataFrame(y,x)\n",
    "print(fluorescence)\n",
    "#XN,YN = augment(x,y,10)\n",
    "#augmented = pd.DataFrame(YN,XN)\n",
    "fluorescence.columns = {title}\n",
    "\n",
    "\n",
    "Writer = animation.writers['ffmpeg']\n",
    "writer = Writer(fps=2, metadata=dict(artist='Me'), bitrate=180)\n",
    "\n",
    "fig = plt.figure(figsize=(10,6))\n",
    "#plt.xlim(0, 70)\n",
    "#plt.ylim(0,1)\n",
    "plt.xlabel('Hours',fontsize=20)\n",
    "plt.ylabel(title,fontsize=20)\n",
    "plt.title('Normalised GFP Intensity',fontsize=20)\n",
    "\n",
    "def animate(i):\n",
    "    data = norm_df.iloc[:int(i+1)] #select data range\n",
    "    p = sns.lineplot(x=data.index, y=data[title], data=data, color=\"r\")\n",
    "    p.tick_params(labelsize=5)\n",
    "    plt.setp(p.lines,linewidth=2)\n",
    "ani = matplotlib.animation.FuncAnimation(fig, animate, frames=500, repeat=True)\n",
    "ani.save('Normalised GFP Intensity.mp4', writer=writer)\n"
   ]
  },
  {
   "cell_type": "code",
   "execution_count": null,
   "metadata": {},
   "outputs": [],
   "source": []
  },
  {
   "cell_type": "code",
   "execution_count": null,
   "metadata": {},
   "outputs": [],
   "source": []
  },
  {
   "cell_type": "code",
   "execution_count": null,
   "metadata": {},
   "outputs": [],
   "source": []
  }
 ],
 "metadata": {
  "kernelspec": {
   "display_name": "Python 3",
   "language": "python",
   "name": "python3"
  },
  "language_info": {
   "codemirror_mode": {
    "name": "ipython",
    "version": 3
   },
   "file_extension": ".py",
   "mimetype": "text/x-python",
   "name": "python",
   "nbconvert_exporter": "python",
   "pygments_lexer": "ipython3",
   "version": "3.7.6"
  }
 },
 "nbformat": 4,
 "nbformat_minor": 4
}
