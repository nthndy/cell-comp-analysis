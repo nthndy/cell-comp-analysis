{
 "cells": [
  {
   "cell_type": "code",
   "execution_count": 1,
   "id": "6d8570e2",
   "metadata": {},
   "outputs": [],
   "source": [
    "import os"
   ]
  },
  {
   "cell_type": "code",
   "execution_count": 2,
   "id": "aa505f33",
   "metadata": {},
   "outputs": [],
   "source": [
    "import glob"
   ]
  },
  {
   "cell_type": "code",
   "execution_count": 3,
   "id": "d295c32f",
   "metadata": {},
   "outputs": [],
   "source": [
    "import btrack"
   ]
  },
  {
   "cell_type": "code",
   "execution_count": 16,
   "id": "3e4183d0",
   "metadata": {},
   "outputs": [],
   "source": [
    "from skimage.io import imread, imshow"
   ]
  },
  {
   "cell_type": "code",
   "execution_count": 13,
   "id": "64d451a6",
   "metadata": {},
   "outputs": [],
   "source": [
    "def image_generator(files, crop = None):\n",
    "    \"\"\"\n",
    "    Generator function for iterative procesessing of image files\n",
    "    \"\"\"\n",
    "    \n",
    "    if crop is None:\n",
    "        for filename in files:\n",
    "            img = imread(filename)\n",
    "            yield img\n",
    "    else:\n",
    "        for filename in files:\n",
    "            img = imread(filename)\n",
    "            img = crop_image(img, crop)\n",
    "            yield img"
   ]
  },
  {
   "cell_type": "markdown",
   "id": "f6cd8f7e",
   "metadata": {},
   "source": [
    "# Counting cells\n",
    "\n",
    "Go in each position directory, load masks, count cells, plot"
   ]
  },
  {
   "cell_type": "code",
   "execution_count": 4,
   "id": "ff0573da",
   "metadata": {},
   "outputs": [],
   "source": [
    "root_dir = '/home/nathan/data/kraken/ras'"
   ]
  },
  {
   "cell_type": "code",
   "execution_count": 5,
   "id": "5f790e8a",
   "metadata": {},
   "outputs": [],
   "source": [
    "## all competitive 90:10, 99:1 wt ras expts\n",
    "\n",
    "expts_9010 = {'ND0010':[10, 11],\n",
    "         'ND0011':[6, 7], \n",
    "         'ND0012':[3, 4, 6, 7, 8, 9, 10],\n",
    "         'ND0013':[3, 4, 5, 6, 7, 8, 9, 10]\n",
    "        }\n",
    "expts_9901 = {'ND0010':[6, 7],\n",
    "         'ND0011':[], \n",
    "         'ND0012':[5],\n",
    "         'ND0013':[]\n",
    "        }\n",
    "\n",
    "expts_control_9010 = {'ND0010':[8, 9],\n",
    "         'ND0011':[4, 5], \n",
    "         'ND0012':[1 ,2],\n",
    "         'ND0013':[2]\n",
    "        }\n",
    "expts_control_9901 = {'ND0010':[4, 5],\n",
    "         'ND0011':[], \n",
    "         'ND0012':[],\n",
    "         'ND0013':[]\n",
    "        }\n",
    "\n"
   ]
  },
  {
   "cell_type": "code",
   "execution_count": 6,
   "id": "367fd6e7",
   "metadata": {
    "scrolled": true
   },
   "outputs": [
    {
     "data": {
      "text/plain": [
       "{'ND0010': [10, 11],\n",
       " 'ND0011': [6, 7],\n",
       " 'ND0012': [3, 4, 6, 7, 8, 9, 10],\n",
       " 'ND0013': [3, 4, 5, 6, 7, 8, 9, 10]}"
      ]
     },
     "execution_count": 6,
     "metadata": {},
     "output_type": "execute_result"
    }
   ],
   "source": [
    "expts_9010"
   ]
  },
  {
   "cell_type": "markdown",
   "id": "be12be75",
   "metadata": {},
   "source": [
    "#### check masks first"
   ]
  },
  {
   "cell_type": "code",
   "execution_count": 7,
   "id": "e8396345",
   "metadata": {},
   "outputs": [
    {
     "data": {
      "text/plain": [
       "'0.4.11'"
      ]
     },
     "execution_count": 7,
     "metadata": {},
     "output_type": "execute_result"
    }
   ],
   "source": [
    "import napari\n",
    "napari.__version__"
   ]
  },
  {
   "cell_type": "code",
   "execution_count": 8,
   "id": "e30a2316",
   "metadata": {},
   "outputs": [],
   "source": [
    "from octopuslite import DaskOctopusLiteLoader"
   ]
  },
  {
   "cell_type": "markdown",
   "id": "ded172eb",
   "metadata": {},
   "source": [
    "#### check single expt pos masks"
   ]
  },
  {
   "cell_type": "code",
   "execution_count": 9,
   "id": "9effb44c",
   "metadata": {},
   "outputs": [],
   "source": [
    "experiment_dir = f'{root_dir}/ND0010/Pos5/Pos5_images'"
   ]
  },
  {
   "cell_type": "code",
   "execution_count": 10,
   "id": "0c828003",
   "metadata": {},
   "outputs": [],
   "source": [
    "images = DaskOctopusLiteLoader(experiment_dir)"
   ]
  },
  {
   "cell_type": "code",
   "execution_count": null,
   "id": "5a4ba9cf",
   "metadata": {},
   "outputs": [],
   "source": [
    "viewer = napari.Viewer()\n",
    "viewer.add_image(images['irfp'], blending='additive', contrast_limits=[0,255])\n",
    "viewer.add_image(images['mask'], blending= 'additive', contrast_limits=[0,2])"
   ]
  },
  {
   "cell_type": "markdown",
   "id": "8b75dc9c",
   "metadata": {},
   "source": [
    "##### iterate through many positions checking images"
   ]
  },
  {
   "cell_type": "code",
   "execution_count": null,
   "id": "5dd29f3b",
   "metadata": {},
   "outputs": [],
   "source": [
    "expt_type = expts_control_9010 # expts_9910\n",
    "for expt in expt_type: #['ND0010']:#\n",
    "    for pos in expt_type[expt]:#[10, 11]:#\n",
    "        experiment_dir = f'{root_dir}/{expt}/Pos{pos}/Pos{pos}_images'\n",
    "        images = DaskOctopusLiteLoader(experiment_dir, crop = (1200, 1600))\n",
    "        print(experiment_dir)\n",
    "        viewer = napari.Viewer()\n",
    "        viewer.add_image(images['irfp'], blending='additive', contrast_limits=[10,110], colormap = 'green')\n",
    "        viewer.add_image(images['rfp'], blending='additive', contrast_limits=[0,50], colormap = 'red')\n",
    "        viewer.add_image(images['mask'], blending= 'additive', contrast_limits=[0,2], colormap = 'inferno', opacity = 0.5)\n",
    "        viewer.show(block=True)"
   ]
  },
  {
   "cell_type": "markdown",
   "id": "28ec3012",
   "metadata": {},
   "source": [
    "# Counting cells - filtering for expts currently segmented well"
   ]
  },
  {
   "cell_type": "markdown",
   "id": "a4bdb34b",
   "metadata": {},
   "source": [
    "object files? or images"
   ]
  },
  {
   "cell_type": "code",
   "execution_count": 22,
   "id": "5bf36678",
   "metadata": {},
   "outputs": [],
   "source": [
    "expts_9010_filt = {'ND0010':[10, 11],\n",
    "         'ND0011':[6, 7], \n",
    "         #'ND0012':[3, 4, 6, 7, 8, 9, 10],\n",
    "         #'ND0013':[3, 4, 5, 6, 7, 8, 9, 10]\n",
    "        }\n",
    "expts_9901_filt = {'ND0010':[6, 7],\n",
    "        # 'ND0011':[], \n",
    "         #'ND0012':[5],\n",
    "         #'ND0013':[]\n",
    "        }\n",
    "\n",
    "expts_control_9010_filt = {'ND0010':[8, 9],\n",
    "         'ND0011':[4, 5], \n",
    "        # 'ND0012':[1 ,2],\n",
    "         #'ND0013':[2]\n",
    "        }\n",
    "expts_control_9901_filt = {'ND0010':[4, 5],\n",
    "       #  'ND0011':[], \n",
    "        # 'ND0012':[],\n",
    "        # 'ND0013':[]\n",
    "        }"
   ]
  },
  {
   "cell_type": "code",
   "execution_count": 11,
   "id": "a0a7b1e1",
   "metadata": {},
   "outputs": [],
   "source": [
    "expt_type = expts_9010"
   ]
  },
  {
   "cell_type": "code",
   "execution_count": 12,
   "id": "2415ef53",
   "metadata": {},
   "outputs": [
    {
     "name": "stdout",
     "output_type": "stream",
     "text": [
      "/home/nathan/data/kraken/ras/ND0010/Pos10/*object* exists\n",
      "/home/nathan/data/kraken/ras/ND0010/Pos11/*object* exists\n",
      "/home/nathan/data/kraken/ras/ND0011/Pos6/*object* exists\n",
      "/home/nathan/data/kraken/ras/ND0011/Pos7/*object* exists\n"
     ]
    }
   ],
   "source": [
    "for expt in expt_type: #['ND0010']:#\n",
    "    for pos in expt_type[expt]:#[10, 11]:#\n",
    "        obj_path = f'{root_dir}/{expt}/Pos{pos}/*object*'\n",
    "        if glob.glob(obj_path):\n",
    "            print(obj_path, 'exists')"
   ]
  },
  {
   "cell_type": "code",
   "execution_count": 41,
   "id": "1018a04f",
   "metadata": {},
   "outputs": [
    {
     "name": "stderr",
     "output_type": "stream",
     "text": [
      "[INFO][2022/02/03 06:36:05 pm] Opening HDF file: /home/nathan/data/kraken/ras/ND0010/Pos10/objects.h5...\n",
      "[INFO][2022/02/03 06:36:05 pm] Loading objects/obj_type_2 (1191, 5) (1191 filtered: None)\n",
      "[INFO][2022/02/03 06:36:05 pm] Closing HDF file: /home/nathan/data/kraken/ras/ND0010/Pos10/objects.h5\n",
      "[INFO][2022/02/03 06:36:05 pm] Opening HDF file: /home/nathan/data/kraken/ras/ND0010/Pos11/objects.h5...\n"
     ]
    },
    {
     "name": "stdout",
     "output_type": "stream",
     "text": [
      "['/home/nathan/data/kraken/ras/ND0010/Pos10/objects.h5']\n",
      "['/home/nathan/data/kraken/ras/ND0010/Pos11/objects.h5']\n"
     ]
    },
    {
     "name": "stderr",
     "output_type": "stream",
     "text": [
      "[INFO][2022/02/03 06:36:05 pm] Loading objects/obj_type_2 (1189, 5) (1189 filtered: None)\n",
      "[INFO][2022/02/03 06:36:05 pm] Closing HDF file: /home/nathan/data/kraken/ras/ND0010/Pos11/objects.h5\n"
     ]
    }
   ],
   "source": [
    "objects = {}\n",
    "for expt in expt_type: #['ND0010']:#\n",
    "    for pos in expt_type[expt]:#[10, 11]:#\n",
    "        obj_path = f'{root_dir}/{expt}/Pos{pos}/*object*'\n",
    "        if glob.glob(obj_path):\n",
    "            print(glob.glob(obj_path))\n",
    "            with btrack.dataio.HDF5FileHandler(\n",
    "                 glob.glob(obj_path)[0], 'r', obj_type='obj_type_2',\n",
    "            ) as hdf:\n",
    "                objs = hdf.objects\n",
    "        objects[f'{expt}/{pos}'] = objs"
   ]
  },
  {
   "cell_type": "markdown",
   "id": "424b1a27",
   "metadata": {},
   "source": [
    "# checking out nd10pos11"
   ]
  },
  {
   "cell_type": "code",
   "execution_count": 52,
   "id": "dbced66c",
   "metadata": {},
   "outputs": [
    {
     "name": "stderr",
     "output_type": "stream",
     "text": [
      "[INFO][2022/02/03 07:23:04 pm] Opening HDF file: /home/nathan/data/kraken/ras/ND0010/Pos11/objects_type_2.h5...\n",
      "[INFO][2022/02/03 07:23:04 pm] Loading objects/obj_type_2 (1189, 5) (1189 filtered: None)\n",
      "[INFO][2022/02/03 07:23:04 pm] Closing HDF file: /home/nathan/data/kraken/ras/ND0010/Pos11/objects_type_2.h5\n",
      "[INFO][2022/02/03 07:23:04 pm] Opening HDF file: /home/nathan/data/kraken/ras/ND0010/Pos11/objects_type_1.h5...\n",
      "[INFO][2022/02/03 07:23:04 pm] Loading objects/obj_type_1 (1351, 5) (1351 filtered: None)\n",
      "[INFO][2022/02/03 07:23:04 pm] Closing HDF file: /home/nathan/data/kraken/ras/ND0010/Pos11/objects_type_1.h5\n"
     ]
    }
   ],
   "source": [
    "with btrack.dataio.HDF5FileHandler(\n",
    "     '/home/nathan/data/kraken/ras/ND0010/Pos11/objects_type_2.h5', 'r', obj_type='obj_type_2',\n",
    ") as hdf:\n",
    "    rfp_objs = hdf.objects\n",
    "with btrack.dataio.HDF5FileHandler(\n",
    "     '/home/nathan/data/kraken/ras/ND0010/Pos11/objects_type_1.h5', 'r', obj_type='obj_type_1',\n",
    ") as hdf:\n",
    "    gfp_objs = hdf.objects"
   ]
  },
  {
   "cell_type": "code",
   "execution_count": 53,
   "id": "e12468ec",
   "metadata": {},
   "outputs": [
    {
     "data": {
      "text/plain": [
       "1351"
      ]
     },
     "execution_count": 53,
     "metadata": {},
     "output_type": "execute_result"
    }
   ],
   "source": [
    "len(gfp_objs)"
   ]
  },
  {
   "cell_type": "code",
   "execution_count": 54,
   "id": "7e9a9d6e",
   "metadata": {},
   "outputs": [
    {
     "data": {
      "text/plain": [
       "1189"
      ]
     },
     "execution_count": 54,
     "metadata": {},
     "output_type": "execute_result"
    }
   ],
   "source": [
    "len(rfp_objs)"
   ]
  },
  {
   "cell_type": "markdown",
   "id": "7bccff02",
   "metadata": {},
   "source": [
    "# checking out nd10pos5 (99:1)"
   ]
  },
  {
   "cell_type": "code",
   "execution_count": 55,
   "id": "37a2940d",
   "metadata": {},
   "outputs": [
    {
     "name": "stderr",
     "output_type": "stream",
     "text": [
      "[INFO][2022/02/03 07:26:22 pm] Opening HDF file: /home/nathan/data/kraken/ras/ND0010/Pos5/objects_type_2.h5...\n",
      "[INFO][2022/02/03 07:26:22 pm] Loading objects/obj_type_2 (1188, 5) (1188 filtered: None)\n",
      "[INFO][2022/02/03 07:26:22 pm] Closing HDF file: /home/nathan/data/kraken/ras/ND0010/Pos5/objects_type_2.h5\n",
      "[INFO][2022/02/03 07:26:22 pm] Opening HDF file: /home/nathan/data/kraken/ras/ND0010/Pos5/objects_type_1.h5...\n",
      "[INFO][2022/02/03 07:26:23 pm] Loading objects/obj_type_1 (2391, 5) (2391 filtered: None)\n",
      "[INFO][2022/02/03 07:26:23 pm] Closing HDF file: /home/nathan/data/kraken/ras/ND0010/Pos5/objects_type_1.h5\n"
     ]
    }
   ],
   "source": [
    "with btrack.dataio.HDF5FileHandler(\n",
    "     '/home/nathan/data/kraken/ras/ND0010/Pos5/objects_type_2.h5', 'r', obj_type='obj_type_2',\n",
    ") as hdf:\n",
    "    rfp_objs = hdf.objects\n",
    "with btrack.dataio.HDF5FileHandler(\n",
    "     '/home/nathan/data/kraken/ras/ND0010/Pos5/objects_type_1.h5', 'r', obj_type='obj_type_1',\n",
    ") as hdf:\n",
    "    gfp_objs = hdf.objects"
   ]
  },
  {
   "cell_type": "code",
   "execution_count": 58,
   "id": "14d39e51",
   "metadata": {},
   "outputs": [
    {
     "data": {
      "text/html": [
       "<table border=\"1\" class=\"dataframe\">\n",
       "  <thead>\n",
       "    <tr style=\"text-align: right;\">\n",
       "      <th></th>\n",
       "      <th>ID</th>\n",
       "      <th>x</th>\n",
       "      <th>y</th>\n",
       "      <th>z</th>\n",
       "      <th>t</th>\n",
       "      <th>dummy</th>\n",
       "      <th>states</th>\n",
       "      <th>label</th>\n",
       "      <th>prob</th>\n",
       "      <th>area</th>\n",
       "      <th>max_intensity</th>\n",
       "      <th>prob_anaphase</th>\n",
       "      <th>prob_apoptosis</th>\n",
       "      <th>prob_interphase</th>\n",
       "      <th>prob_metaphase</th>\n",
       "      <th>prob_prometaphase</th>\n",
       "    </tr>\n",
       "  </thead>\n",
       "  <tbody>\n",
       "    <tr>\n",
       "      <th>0</th>\n",
       "      <td>0</td>\n",
       "      <td>758.145508</td>\n",
       "      <td>574.839844</td>\n",
       "      <td>0.0</td>\n",
       "      <td>0</td>\n",
       "      <td>False</td>\n",
       "      <td>0</td>\n",
       "      <td>4</td>\n",
       "      <td>0.0</td>\n",
       "      <td>32600.0</td>\n",
       "      <td>1.0</td>\n",
       "      <td>0.000041</td>\n",
       "      <td>0.999946</td>\n",
       "      <td>6.299553e-08</td>\n",
       "      <td>0.000013</td>\n",
       "      <td>2.037653e-09</td>\n",
       "    </tr>\n",
       "  </tbody>\n",
       "</table>"
      ],
      "text/plain": [
       "{'ID': 0, 'x': 758.1455078125, 'y': 574.83984375, 'z': 0.0, 't': 0, 'dummy': False, 'states': 0, 'label': 4, 'prob': 0.0, 'area': 32600.0, 'max_intensity': 1.0, 'prob_anaphase': 4.116947e-05, 'prob_apoptosis': 0.99994564, 'prob_interphase': 6.299553e-08, 'prob_metaphase': 1.3383143e-05, 'prob_prometaphase': 2.0376534e-09}"
      ]
     },
     "execution_count": 58,
     "metadata": {},
     "output_type": "execute_result"
    }
   ],
   "source": [
    "gfp_objs[0]"
   ]
  },
  {
   "cell_type": "markdown",
   "id": "4f52c9db",
   "metadata": {},
   "source": [
    "# count segments in each image"
   ]
  },
  {
   "cell_type": "code",
   "execution_count": 14,
   "id": "8684eda4",
   "metadata": {},
   "outputs": [],
   "source": [
    "import matplotlib.pyplot as plt"
   ]
  },
  {
   "cell_type": "code",
   "execution_count": 21,
   "id": "b00d1f19",
   "metadata": {},
   "outputs": [],
   "source": [
    "import scipy.ndimage as nd"
   ]
  },
  {
   "cell_type": "code",
   "execution_count": 33,
   "id": "a1e2c661",
   "metadata": {},
   "outputs": [],
   "source": [
    "mask_files = sorted(glob.glob('/home/nathan/data/kraken/ras/ND0013/Pos3/Pos3_images/*channel099*'))"
   ]
  },
  {
   "cell_type": "code",
   "execution_count": 34,
   "id": "5b9eb6f6",
   "metadata": {},
   "outputs": [
    {
     "data": {
      "text/plain": [
       "['/home/nathan/data/kraken/ras/ND0013/Pos3/Pos3_images/img_channel099_position003_time000000000_z000.tif',\n",
       " '/home/nathan/data/kraken/ras/ND0013/Pos3/Pos3_images/img_channel099_position003_time000000001_z000.tif',\n",
       " '/home/nathan/data/kraken/ras/ND0013/Pos3/Pos3_images/img_channel099_position003_time000000002_z000.tif',\n",
       " '/home/nathan/data/kraken/ras/ND0013/Pos3/Pos3_images/img_channel099_position003_time000000003_z000.tif',\n",
       " '/home/nathan/data/kraken/ras/ND0013/Pos3/Pos3_images/img_channel099_position003_time000000004_z000.tif',\n",
       " '/home/nathan/data/kraken/ras/ND0013/Pos3/Pos3_images/img_channel099_position003_time000000005_z000.tif',\n",
       " '/home/nathan/data/kraken/ras/ND0013/Pos3/Pos3_images/img_channel099_position003_time000000006_z000.tif',\n",
       " '/home/nathan/data/kraken/ras/ND0013/Pos3/Pos3_images/img_channel099_position003_time000000007_z000.tif',\n",
       " '/home/nathan/data/kraken/ras/ND0013/Pos3/Pos3_images/img_channel099_position003_time000000008_z000.tif',\n",
       " '/home/nathan/data/kraken/ras/ND0013/Pos3/Pos3_images/img_channel099_position003_time000000009_z000.tif',\n",
       " '/home/nathan/data/kraken/ras/ND0013/Pos3/Pos3_images/img_channel099_position003_time000000010_z000.tif',\n",
       " '/home/nathan/data/kraken/ras/ND0013/Pos3/Pos3_images/img_channel099_position003_time000000011_z000.tif',\n",
       " '/home/nathan/data/kraken/ras/ND0013/Pos3/Pos3_images/img_channel099_position003_time000000012_z000.tif',\n",
       " '/home/nathan/data/kraken/ras/ND0013/Pos3/Pos3_images/img_channel099_position003_time000000013_z000.tif',\n",
       " '/home/nathan/data/kraken/ras/ND0013/Pos3/Pos3_images/img_channel099_position003_time000000014_z000.tif',\n",
       " '/home/nathan/data/kraken/ras/ND0013/Pos3/Pos3_images/img_channel099_position003_time000000015_z000.tif',\n",
       " '/home/nathan/data/kraken/ras/ND0013/Pos3/Pos3_images/img_channel099_position003_time000000016_z000.tif',\n",
       " '/home/nathan/data/kraken/ras/ND0013/Pos3/Pos3_images/img_channel099_position003_time000000017_z000.tif',\n",
       " '/home/nathan/data/kraken/ras/ND0013/Pos3/Pos3_images/img_channel099_position003_time000000018_z000.tif',\n",
       " '/home/nathan/data/kraken/ras/ND0013/Pos3/Pos3_images/img_channel099_position003_time000000019_z000.tif',\n",
       " '/home/nathan/data/kraken/ras/ND0013/Pos3/Pos3_images/img_channel099_position003_time000000020_z000.tif',\n",
       " '/home/nathan/data/kraken/ras/ND0013/Pos3/Pos3_images/img_channel099_position003_time000000021_z000.tif',\n",
       " '/home/nathan/data/kraken/ras/ND0013/Pos3/Pos3_images/img_channel099_position003_time000000022_z000.tif',\n",
       " '/home/nathan/data/kraken/ras/ND0013/Pos3/Pos3_images/img_channel099_position003_time000000023_z000.tif',\n",
       " '/home/nathan/data/kraken/ras/ND0013/Pos3/Pos3_images/img_channel099_position003_time000000024_z000.tif',\n",
       " '/home/nathan/data/kraken/ras/ND0013/Pos3/Pos3_images/img_channel099_position003_time000000025_z000.tif',\n",
       " '/home/nathan/data/kraken/ras/ND0013/Pos3/Pos3_images/img_channel099_position003_time000000026_z000.tif',\n",
       " '/home/nathan/data/kraken/ras/ND0013/Pos3/Pos3_images/img_channel099_position003_time000000027_z000.tif',\n",
       " '/home/nathan/data/kraken/ras/ND0013/Pos3/Pos3_images/img_channel099_position003_time000000028_z000.tif',\n",
       " '/home/nathan/data/kraken/ras/ND0013/Pos3/Pos3_images/img_channel099_position003_time000000029_z000.tif',\n",
       " '/home/nathan/data/kraken/ras/ND0013/Pos3/Pos3_images/img_channel099_position003_time000000030_z000.tif',\n",
       " '/home/nathan/data/kraken/ras/ND0013/Pos3/Pos3_images/img_channel099_position003_time000000031_z000.tif',\n",
       " '/home/nathan/data/kraken/ras/ND0013/Pos3/Pos3_images/img_channel099_position003_time000000032_z000.tif',\n",
       " '/home/nathan/data/kraken/ras/ND0013/Pos3/Pos3_images/img_channel099_position003_time000000033_z000.tif',\n",
       " '/home/nathan/data/kraken/ras/ND0013/Pos3/Pos3_images/img_channel099_position003_time000000034_z000.tif',\n",
       " '/home/nathan/data/kraken/ras/ND0013/Pos3/Pos3_images/img_channel099_position003_time000000035_z000.tif',\n",
       " '/home/nathan/data/kraken/ras/ND0013/Pos3/Pos3_images/img_channel099_position003_time000000036_z000.tif',\n",
       " '/home/nathan/data/kraken/ras/ND0013/Pos3/Pos3_images/img_channel099_position003_time000000037_z000.tif',\n",
       " '/home/nathan/data/kraken/ras/ND0013/Pos3/Pos3_images/img_channel099_position003_time000000038_z000.tif',\n",
       " '/home/nathan/data/kraken/ras/ND0013/Pos3/Pos3_images/img_channel099_position003_time000000039_z000.tif',\n",
       " '/home/nathan/data/kraken/ras/ND0013/Pos3/Pos3_images/img_channel099_position003_time000000040_z000.tif',\n",
       " '/home/nathan/data/kraken/ras/ND0013/Pos3/Pos3_images/img_channel099_position003_time000000041_z000.tif',\n",
       " '/home/nathan/data/kraken/ras/ND0013/Pos3/Pos3_images/img_channel099_position003_time000000042_z000.tif',\n",
       " '/home/nathan/data/kraken/ras/ND0013/Pos3/Pos3_images/img_channel099_position003_time000000043_z000.tif',\n",
       " '/home/nathan/data/kraken/ras/ND0013/Pos3/Pos3_images/img_channel099_position003_time000000044_z000.tif',\n",
       " '/home/nathan/data/kraken/ras/ND0013/Pos3/Pos3_images/img_channel099_position003_time000000045_z000.tif',\n",
       " '/home/nathan/data/kraken/ras/ND0013/Pos3/Pos3_images/img_channel099_position003_time000000046_z000.tif',\n",
       " '/home/nathan/data/kraken/ras/ND0013/Pos3/Pos3_images/img_channel099_position003_time000000047_z000.tif',\n",
       " '/home/nathan/data/kraken/ras/ND0013/Pos3/Pos3_images/img_channel099_position003_time000000048_z000.tif',\n",
       " '/home/nathan/data/kraken/ras/ND0013/Pos3/Pos3_images/img_channel099_position003_time000000049_z000.tif',\n",
       " '/home/nathan/data/kraken/ras/ND0013/Pos3/Pos3_images/img_channel099_position003_time000000050_z000.tif',\n",
       " '/home/nathan/data/kraken/ras/ND0013/Pos3/Pos3_images/img_channel099_position003_time000000051_z000.tif',\n",
       " '/home/nathan/data/kraken/ras/ND0013/Pos3/Pos3_images/img_channel099_position003_time000000052_z000.tif',\n",
       " '/home/nathan/data/kraken/ras/ND0013/Pos3/Pos3_images/img_channel099_position003_time000000053_z000.tif',\n",
       " '/home/nathan/data/kraken/ras/ND0013/Pos3/Pos3_images/img_channel099_position003_time000000054_z000.tif',\n",
       " '/home/nathan/data/kraken/ras/ND0013/Pos3/Pos3_images/img_channel099_position003_time000000055_z000.tif',\n",
       " '/home/nathan/data/kraken/ras/ND0013/Pos3/Pos3_images/img_channel099_position003_time000000056_z000.tif',\n",
       " '/home/nathan/data/kraken/ras/ND0013/Pos3/Pos3_images/img_channel099_position003_time000000057_z000.tif',\n",
       " '/home/nathan/data/kraken/ras/ND0013/Pos3/Pos3_images/img_channel099_position003_time000000058_z000.tif',\n",
       " '/home/nathan/data/kraken/ras/ND0013/Pos3/Pos3_images/img_channel099_position003_time000000059_z000.tif',\n",
       " '/home/nathan/data/kraken/ras/ND0013/Pos3/Pos3_images/img_channel099_position003_time000000060_z000.tif',\n",
       " '/home/nathan/data/kraken/ras/ND0013/Pos3/Pos3_images/img_channel099_position003_time000000061_z000.tif',\n",
       " '/home/nathan/data/kraken/ras/ND0013/Pos3/Pos3_images/img_channel099_position003_time000000062_z000.tif',\n",
       " '/home/nathan/data/kraken/ras/ND0013/Pos3/Pos3_images/img_channel099_position003_time000000063_z000.tif',\n",
       " '/home/nathan/data/kraken/ras/ND0013/Pos3/Pos3_images/img_channel099_position003_time000000064_z000.tif',\n",
       " '/home/nathan/data/kraken/ras/ND0013/Pos3/Pos3_images/img_channel099_position003_time000000065_z000.tif',\n",
       " '/home/nathan/data/kraken/ras/ND0013/Pos3/Pos3_images/img_channel099_position003_time000000066_z000.tif',\n",
       " '/home/nathan/data/kraken/ras/ND0013/Pos3/Pos3_images/img_channel099_position003_time000000067_z000.tif',\n",
       " '/home/nathan/data/kraken/ras/ND0013/Pos3/Pos3_images/img_channel099_position003_time000000068_z000.tif',\n",
       " '/home/nathan/data/kraken/ras/ND0013/Pos3/Pos3_images/img_channel099_position003_time000000069_z000.tif',\n",
       " '/home/nathan/data/kraken/ras/ND0013/Pos3/Pos3_images/img_channel099_position003_time000000070_z000.tif',\n",
       " '/home/nathan/data/kraken/ras/ND0013/Pos3/Pos3_images/img_channel099_position003_time000000071_z000.tif',\n",
       " '/home/nathan/data/kraken/ras/ND0013/Pos3/Pos3_images/img_channel099_position003_time000000072_z000.tif',\n",
       " '/home/nathan/data/kraken/ras/ND0013/Pos3/Pos3_images/img_channel099_position003_time000000073_z000.tif',\n",
       " '/home/nathan/data/kraken/ras/ND0013/Pos3/Pos3_images/img_channel099_position003_time000000074_z000.tif',\n",
       " '/home/nathan/data/kraken/ras/ND0013/Pos3/Pos3_images/img_channel099_position003_time000000075_z000.tif',\n",
       " '/home/nathan/data/kraken/ras/ND0013/Pos3/Pos3_images/img_channel099_position003_time000000076_z000.tif',\n",
       " '/home/nathan/data/kraken/ras/ND0013/Pos3/Pos3_images/img_channel099_position003_time000000077_z000.tif',\n",
       " '/home/nathan/data/kraken/ras/ND0013/Pos3/Pos3_images/img_channel099_position003_time000000078_z000.tif',\n",
       " '/home/nathan/data/kraken/ras/ND0013/Pos3/Pos3_images/img_channel099_position003_time000000079_z000.tif',\n",
       " '/home/nathan/data/kraken/ras/ND0013/Pos3/Pos3_images/img_channel099_position003_time000000080_z000.tif',\n",
       " '/home/nathan/data/kraken/ras/ND0013/Pos3/Pos3_images/img_channel099_position003_time000000081_z000.tif',\n",
       " '/home/nathan/data/kraken/ras/ND0013/Pos3/Pos3_images/img_channel099_position003_time000000082_z000.tif',\n",
       " '/home/nathan/data/kraken/ras/ND0013/Pos3/Pos3_images/img_channel099_position003_time000000083_z000.tif',\n",
       " '/home/nathan/data/kraken/ras/ND0013/Pos3/Pos3_images/img_channel099_position003_time000000084_z000.tif',\n",
       " '/home/nathan/data/kraken/ras/ND0013/Pos3/Pos3_images/img_channel099_position003_time000000085_z000.tif',\n",
       " '/home/nathan/data/kraken/ras/ND0013/Pos3/Pos3_images/img_channel099_position003_time000000086_z000.tif',\n",
       " '/home/nathan/data/kraken/ras/ND0013/Pos3/Pos3_images/img_channel099_position003_time000000087_z000.tif',\n",
       " '/home/nathan/data/kraken/ras/ND0013/Pos3/Pos3_images/img_channel099_position003_time000000088_z000.tif',\n",
       " '/home/nathan/data/kraken/ras/ND0013/Pos3/Pos3_images/img_channel099_position003_time000000089_z000.tif',\n",
       " '/home/nathan/data/kraken/ras/ND0013/Pos3/Pos3_images/img_channel099_position003_time000000090_z000.tif',\n",
       " '/home/nathan/data/kraken/ras/ND0013/Pos3/Pos3_images/img_channel099_position003_time000000091_z000.tif',\n",
       " '/home/nathan/data/kraken/ras/ND0013/Pos3/Pos3_images/img_channel099_position003_time000000092_z000.tif',\n",
       " '/home/nathan/data/kraken/ras/ND0013/Pos3/Pos3_images/img_channel099_position003_time000000093_z000.tif',\n",
       " '/home/nathan/data/kraken/ras/ND0013/Pos3/Pos3_images/img_channel099_position003_time000000094_z000.tif',\n",
       " '/home/nathan/data/kraken/ras/ND0013/Pos3/Pos3_images/img_channel099_position003_time000000095_z000.tif',\n",
       " '/home/nathan/data/kraken/ras/ND0013/Pos3/Pos3_images/img_channel099_position003_time000000096_z000.tif',\n",
       " '/home/nathan/data/kraken/ras/ND0013/Pos3/Pos3_images/img_channel099_position003_time000000097_z000.tif',\n",
       " '/home/nathan/data/kraken/ras/ND0013/Pos3/Pos3_images/img_channel099_position003_time000000098_z000.tif',\n",
       " '/home/nathan/data/kraken/ras/ND0013/Pos3/Pos3_images/img_channel099_position003_time000000099_z000.tif',\n",
       " '/home/nathan/data/kraken/ras/ND0013/Pos3/Pos3_images/img_channel099_position003_time000000100_z000.tif',\n",
       " '/home/nathan/data/kraken/ras/ND0013/Pos3/Pos3_images/img_channel099_position003_time000000101_z000.tif',\n",
       " '/home/nathan/data/kraken/ras/ND0013/Pos3/Pos3_images/img_channel099_position003_time000000102_z000.tif',\n",
       " '/home/nathan/data/kraken/ras/ND0013/Pos3/Pos3_images/img_channel099_position003_time000000103_z000.tif',\n",
       " '/home/nathan/data/kraken/ras/ND0013/Pos3/Pos3_images/img_channel099_position003_time000000104_z000.tif',\n",
       " '/home/nathan/data/kraken/ras/ND0013/Pos3/Pos3_images/img_channel099_position003_time000000105_z000.tif',\n",
       " '/home/nathan/data/kraken/ras/ND0013/Pos3/Pos3_images/img_channel099_position003_time000000106_z000.tif',\n",
       " '/home/nathan/data/kraken/ras/ND0013/Pos3/Pos3_images/img_channel099_position003_time000000107_z000.tif',\n",
       " '/home/nathan/data/kraken/ras/ND0013/Pos3/Pos3_images/img_channel099_position003_time000000108_z000.tif',\n",
       " '/home/nathan/data/kraken/ras/ND0013/Pos3/Pos3_images/img_channel099_position003_time000000109_z000.tif',\n",
       " '/home/nathan/data/kraken/ras/ND0013/Pos3/Pos3_images/img_channel099_position003_time000000110_z000.tif',\n",
       " '/home/nathan/data/kraken/ras/ND0013/Pos3/Pos3_images/img_channel099_position003_time000000111_z000.tif',\n",
       " '/home/nathan/data/kraken/ras/ND0013/Pos3/Pos3_images/img_channel099_position003_time000000112_z000.tif',\n",
       " '/home/nathan/data/kraken/ras/ND0013/Pos3/Pos3_images/img_channel099_position003_time000000113_z000.tif',\n",
       " '/home/nathan/data/kraken/ras/ND0013/Pos3/Pos3_images/img_channel099_position003_time000000114_z000.tif',\n",
       " '/home/nathan/data/kraken/ras/ND0013/Pos3/Pos3_images/img_channel099_position003_time000000115_z000.tif',\n",
       " '/home/nathan/data/kraken/ras/ND0013/Pos3/Pos3_images/img_channel099_position003_time000000116_z000.tif',\n",
       " '/home/nathan/data/kraken/ras/ND0013/Pos3/Pos3_images/img_channel099_position003_time000000118_z000.tif',\n",
       " '/home/nathan/data/kraken/ras/ND0013/Pos3/Pos3_images/img_channel099_position003_time000000119_z000.tif',\n",
       " '/home/nathan/data/kraken/ras/ND0013/Pos3/Pos3_images/img_channel099_position003_time000000120_z000.tif',\n",
       " '/home/nathan/data/kraken/ras/ND0013/Pos3/Pos3_images/img_channel099_position003_time000000121_z000.tif',\n",
       " '/home/nathan/data/kraken/ras/ND0013/Pos3/Pos3_images/img_channel099_position003_time000000122_z000.tif',\n",
       " '/home/nathan/data/kraken/ras/ND0013/Pos3/Pos3_images/img_channel099_position003_time000000123_z000.tif',\n",
       " '/home/nathan/data/kraken/ras/ND0013/Pos3/Pos3_images/img_channel099_position003_time000000124_z000.tif',\n",
       " '/home/nathan/data/kraken/ras/ND0013/Pos3/Pos3_images/img_channel099_position003_time000000125_z000.tif',\n",
       " '/home/nathan/data/kraken/ras/ND0013/Pos3/Pos3_images/img_channel099_position003_time000000126_z000.tif',\n",
       " '/home/nathan/data/kraken/ras/ND0013/Pos3/Pos3_images/img_channel099_position003_time000000127_z000.tif',\n",
       " '/home/nathan/data/kraken/ras/ND0013/Pos3/Pos3_images/img_channel099_position003_time000000128_z000.tif',\n",
       " '/home/nathan/data/kraken/ras/ND0013/Pos3/Pos3_images/img_channel099_position003_time000000129_z000.tif',\n",
       " '/home/nathan/data/kraken/ras/ND0013/Pos3/Pos3_images/img_channel099_position003_time000000130_z000.tif',\n",
       " '/home/nathan/data/kraken/ras/ND0013/Pos3/Pos3_images/img_channel099_position003_time000000131_z000.tif',\n",
       " '/home/nathan/data/kraken/ras/ND0013/Pos3/Pos3_images/img_channel099_position003_time000000132_z000.tif',\n",
       " '/home/nathan/data/kraken/ras/ND0013/Pos3/Pos3_images/img_channel099_position003_time000000133_z000.tif',\n",
       " '/home/nathan/data/kraken/ras/ND0013/Pos3/Pos3_images/img_channel099_position003_time000000134_z000.tif',\n",
       " '/home/nathan/data/kraken/ras/ND0013/Pos3/Pos3_images/img_channel099_position003_time000000135_z000.tif',\n",
       " '/home/nathan/data/kraken/ras/ND0013/Pos3/Pos3_images/img_channel099_position003_time000000136_z000.tif',\n",
       " '/home/nathan/data/kraken/ras/ND0013/Pos3/Pos3_images/img_channel099_position003_time000000137_z000.tif',\n",
       " '/home/nathan/data/kraken/ras/ND0013/Pos3/Pos3_images/img_channel099_position003_time000000138_z000.tif',\n",
       " '/home/nathan/data/kraken/ras/ND0013/Pos3/Pos3_images/img_channel099_position003_time000000139_z000.tif',\n",
       " '/home/nathan/data/kraken/ras/ND0013/Pos3/Pos3_images/img_channel099_position003_time000000140_z000.tif',\n",
       " '/home/nathan/data/kraken/ras/ND0013/Pos3/Pos3_images/img_channel099_position003_time000000141_z000.tif',\n",
       " '/home/nathan/data/kraken/ras/ND0013/Pos3/Pos3_images/img_channel099_position003_time000000142_z000.tif',\n",
       " '/home/nathan/data/kraken/ras/ND0013/Pos3/Pos3_images/img_channel099_position003_time000000143_z000.tif',\n",
       " '/home/nathan/data/kraken/ras/ND0013/Pos3/Pos3_images/img_channel099_position003_time000000144_z000.tif',\n",
       " '/home/nathan/data/kraken/ras/ND0013/Pos3/Pos3_images/img_channel099_position003_time000000145_z000.tif',\n",
       " '/home/nathan/data/kraken/ras/ND0013/Pos3/Pos3_images/img_channel099_position003_time000000146_z000.tif',\n",
       " '/home/nathan/data/kraken/ras/ND0013/Pos3/Pos3_images/img_channel099_position003_time000000147_z000.tif',\n",
       " '/home/nathan/data/kraken/ras/ND0013/Pos3/Pos3_images/img_channel099_position003_time000000148_z000.tif',\n",
       " '/home/nathan/data/kraken/ras/ND0013/Pos3/Pos3_images/img_channel099_position003_time000000149_z000.tif',\n",
       " '/home/nathan/data/kraken/ras/ND0013/Pos3/Pos3_images/img_channel099_position003_time000000150_z000.tif',\n",
       " '/home/nathan/data/kraken/ras/ND0013/Pos3/Pos3_images/img_channel099_position003_time000000151_z000.tif',\n",
       " '/home/nathan/data/kraken/ras/ND0013/Pos3/Pos3_images/img_channel099_position003_time000000152_z000.tif',\n",
       " '/home/nathan/data/kraken/ras/ND0013/Pos3/Pos3_images/img_channel099_position003_time000000153_z000.tif',\n",
       " '/home/nathan/data/kraken/ras/ND0013/Pos3/Pos3_images/img_channel099_position003_time000000154_z000.tif',\n",
       " '/home/nathan/data/kraken/ras/ND0013/Pos3/Pos3_images/img_channel099_position003_time000000155_z000.tif',\n",
       " '/home/nathan/data/kraken/ras/ND0013/Pos3/Pos3_images/img_channel099_position003_time000000156_z000.tif',\n",
       " '/home/nathan/data/kraken/ras/ND0013/Pos3/Pos3_images/img_channel099_position003_time000000157_z000.tif',\n",
       " '/home/nathan/data/kraken/ras/ND0013/Pos3/Pos3_images/img_channel099_position003_time000000158_z000.tif',\n",
       " '/home/nathan/data/kraken/ras/ND0013/Pos3/Pos3_images/img_channel099_position003_time000000159_z000.tif',\n",
       " '/home/nathan/data/kraken/ras/ND0013/Pos3/Pos3_images/img_channel099_position003_time000000160_z000.tif',\n",
       " '/home/nathan/data/kraken/ras/ND0013/Pos3/Pos3_images/img_channel099_position003_time000000161_z000.tif',\n",
       " '/home/nathan/data/kraken/ras/ND0013/Pos3/Pos3_images/img_channel099_position003_time000000162_z000.tif',\n",
       " '/home/nathan/data/kraken/ras/ND0013/Pos3/Pos3_images/img_channel099_position003_time000000163_z000.tif',\n",
       " '/home/nathan/data/kraken/ras/ND0013/Pos3/Pos3_images/img_channel099_position003_time000000164_z000.tif',\n",
       " '/home/nathan/data/kraken/ras/ND0013/Pos3/Pos3_images/img_channel099_position003_time000000165_z000.tif',\n",
       " '/home/nathan/data/kraken/ras/ND0013/Pos3/Pos3_images/img_channel099_position003_time000000166_z000.tif',\n",
       " '/home/nathan/data/kraken/ras/ND0013/Pos3/Pos3_images/img_channel099_position003_time000000168_z000.tif',\n",
       " '/home/nathan/data/kraken/ras/ND0013/Pos3/Pos3_images/img_channel099_position003_time000000169_z000.tif',\n",
       " '/home/nathan/data/kraken/ras/ND0013/Pos3/Pos3_images/img_channel099_position003_time000000170_z000.tif',\n",
       " '/home/nathan/data/kraken/ras/ND0013/Pos3/Pos3_images/img_channel099_position003_time000000171_z000.tif',\n",
       " '/home/nathan/data/kraken/ras/ND0013/Pos3/Pos3_images/img_channel099_position003_time000000172_z000.tif',\n",
       " '/home/nathan/data/kraken/ras/ND0013/Pos3/Pos3_images/img_channel099_position003_time000000173_z000.tif',\n",
       " '/home/nathan/data/kraken/ras/ND0013/Pos3/Pos3_images/img_channel099_position003_time000000174_z000.tif',\n",
       " '/home/nathan/data/kraken/ras/ND0013/Pos3/Pos3_images/img_channel099_position003_time000000175_z000.tif',\n",
       " '/home/nathan/data/kraken/ras/ND0013/Pos3/Pos3_images/img_channel099_position003_time000000176_z000.tif',\n",
       " '/home/nathan/data/kraken/ras/ND0013/Pos3/Pos3_images/img_channel099_position003_time000000177_z000.tif',\n",
       " '/home/nathan/data/kraken/ras/ND0013/Pos3/Pos3_images/img_channel099_position003_time000000178_z000.tif',\n",
       " '/home/nathan/data/kraken/ras/ND0013/Pos3/Pos3_images/img_channel099_position003_time000000179_z000.tif',\n",
       " '/home/nathan/data/kraken/ras/ND0013/Pos3/Pos3_images/img_channel099_position003_time000000180_z000.tif',\n",
       " '/home/nathan/data/kraken/ras/ND0013/Pos3/Pos3_images/img_channel099_position003_time000000181_z000.tif',\n",
       " '/home/nathan/data/kraken/ras/ND0013/Pos3/Pos3_images/img_channel099_position003_time000000182_z000.tif',\n",
       " '/home/nathan/data/kraken/ras/ND0013/Pos3/Pos3_images/img_channel099_position003_time000000183_z000.tif',\n",
       " '/home/nathan/data/kraken/ras/ND0013/Pos3/Pos3_images/img_channel099_position003_time000000184_z000.tif',\n",
       " '/home/nathan/data/kraken/ras/ND0013/Pos3/Pos3_images/img_channel099_position003_time000000185_z000.tif',\n",
       " '/home/nathan/data/kraken/ras/ND0013/Pos3/Pos3_images/img_channel099_position003_time000000186_z000.tif',\n",
       " '/home/nathan/data/kraken/ras/ND0013/Pos3/Pos3_images/img_channel099_position003_time000000187_z000.tif',\n",
       " '/home/nathan/data/kraken/ras/ND0013/Pos3/Pos3_images/img_channel099_position003_time000000188_z000.tif',\n",
       " '/home/nathan/data/kraken/ras/ND0013/Pos3/Pos3_images/img_channel099_position003_time000000189_z000.tif',\n",
       " '/home/nathan/data/kraken/ras/ND0013/Pos3/Pos3_images/img_channel099_position003_time000000190_z000.tif',\n",
       " '/home/nathan/data/kraken/ras/ND0013/Pos3/Pos3_images/img_channel099_position003_time000000191_z000.tif',\n",
       " '/home/nathan/data/kraken/ras/ND0013/Pos3/Pos3_images/img_channel099_position003_time000000192_z000.tif',\n",
       " '/home/nathan/data/kraken/ras/ND0013/Pos3/Pos3_images/img_channel099_position003_time000000193_z000.tif',\n",
       " '/home/nathan/data/kraken/ras/ND0013/Pos3/Pos3_images/img_channel099_position003_time000000194_z000.tif',\n",
       " '/home/nathan/data/kraken/ras/ND0013/Pos3/Pos3_images/img_channel099_position003_time000000195_z000.tif',\n",
       " '/home/nathan/data/kraken/ras/ND0013/Pos3/Pos3_images/img_channel099_position003_time000000196_z000.tif',\n",
       " '/home/nathan/data/kraken/ras/ND0013/Pos3/Pos3_images/img_channel099_position003_time000000197_z000.tif',\n",
       " '/home/nathan/data/kraken/ras/ND0013/Pos3/Pos3_images/img_channel099_position003_time000000198_z000.tif',\n",
       " '/home/nathan/data/kraken/ras/ND0013/Pos3/Pos3_images/img_channel099_position003_time000000199_z000.tif',\n",
       " '/home/nathan/data/kraken/ras/ND0013/Pos3/Pos3_images/img_channel099_position003_time000000200_z000.tif',\n",
       " '/home/nathan/data/kraken/ras/ND0013/Pos3/Pos3_images/img_channel099_position003_time000000201_z000.tif',\n",
       " '/home/nathan/data/kraken/ras/ND0013/Pos3/Pos3_images/img_channel099_position003_time000000202_z000.tif',\n",
       " '/home/nathan/data/kraken/ras/ND0013/Pos3/Pos3_images/img_channel099_position003_time000000203_z000.tif',\n",
       " '/home/nathan/data/kraken/ras/ND0013/Pos3/Pos3_images/img_channel099_position003_time000000204_z000.tif',\n",
       " '/home/nathan/data/kraken/ras/ND0013/Pos3/Pos3_images/img_channel099_position003_time000000205_z000.tif',\n",
       " '/home/nathan/data/kraken/ras/ND0013/Pos3/Pos3_images/img_channel099_position003_time000000206_z000.tif',\n",
       " '/home/nathan/data/kraken/ras/ND0013/Pos3/Pos3_images/img_channel099_position003_time000000207_z000.tif',\n",
       " '/home/nathan/data/kraken/ras/ND0013/Pos3/Pos3_images/img_channel099_position003_time000000208_z000.tif',\n",
       " '/home/nathan/data/kraken/ras/ND0013/Pos3/Pos3_images/img_channel099_position003_time000000209_z000.tif',\n",
       " '/home/nathan/data/kraken/ras/ND0013/Pos3/Pos3_images/img_channel099_position003_time000000210_z000.tif',\n",
       " '/home/nathan/data/kraken/ras/ND0013/Pos3/Pos3_images/img_channel099_position003_time000000211_z000.tif',\n",
       " '/home/nathan/data/kraken/ras/ND0013/Pos3/Pos3_images/img_channel099_position003_time000000212_z000.tif',\n",
       " '/home/nathan/data/kraken/ras/ND0013/Pos3/Pos3_images/img_channel099_position003_time000000213_z000.tif',\n",
       " '/home/nathan/data/kraken/ras/ND0013/Pos3/Pos3_images/img_channel099_position003_time000000214_z000.tif',\n",
       " '/home/nathan/data/kraken/ras/ND0013/Pos3/Pos3_images/img_channel099_position003_time000000215_z000.tif',\n",
       " '/home/nathan/data/kraken/ras/ND0013/Pos3/Pos3_images/img_channel099_position003_time000000216_z000.tif',\n",
       " '/home/nathan/data/kraken/ras/ND0013/Pos3/Pos3_images/img_channel099_position003_time000000217_z000.tif',\n",
       " '/home/nathan/data/kraken/ras/ND0013/Pos3/Pos3_images/img_channel099_position003_time000000218_z000.tif',\n",
       " '/home/nathan/data/kraken/ras/ND0013/Pos3/Pos3_images/img_channel099_position003_time000000219_z000.tif',\n",
       " '/home/nathan/data/kraken/ras/ND0013/Pos3/Pos3_images/img_channel099_position003_time000000220_z000.tif',\n",
       " '/home/nathan/data/kraken/ras/ND0013/Pos3/Pos3_images/img_channel099_position003_time000000221_z000.tif',\n",
       " '/home/nathan/data/kraken/ras/ND0013/Pos3/Pos3_images/img_channel099_position003_time000000222_z000.tif',\n",
       " '/home/nathan/data/kraken/ras/ND0013/Pos3/Pos3_images/img_channel099_position003_time000000223_z000.tif',\n",
       " '/home/nathan/data/kraken/ras/ND0013/Pos3/Pos3_images/img_channel099_position003_time000000224_z000.tif',\n",
       " '/home/nathan/data/kraken/ras/ND0013/Pos3/Pos3_images/img_channel099_position003_time000000225_z000.tif',\n",
       " '/home/nathan/data/kraken/ras/ND0013/Pos3/Pos3_images/img_channel099_position003_time000000226_z000.tif',\n",
       " '/home/nathan/data/kraken/ras/ND0013/Pos3/Pos3_images/img_channel099_position003_time000000227_z000.tif',\n",
       " '/home/nathan/data/kraken/ras/ND0013/Pos3/Pos3_images/img_channel099_position003_time000000228_z000.tif',\n",
       " '/home/nathan/data/kraken/ras/ND0013/Pos3/Pos3_images/img_channel099_position003_time000000229_z000.tif',\n",
       " '/home/nathan/data/kraken/ras/ND0013/Pos3/Pos3_images/img_channel099_position003_time000000230_z000.tif',\n",
       " '/home/nathan/data/kraken/ras/ND0013/Pos3/Pos3_images/img_channel099_position003_time000000231_z000.tif',\n",
       " '/home/nathan/data/kraken/ras/ND0013/Pos3/Pos3_images/img_channel099_position003_time000000232_z000.tif',\n",
       " '/home/nathan/data/kraken/ras/ND0013/Pos3/Pos3_images/img_channel099_position003_time000000233_z000.tif',\n",
       " '/home/nathan/data/kraken/ras/ND0013/Pos3/Pos3_images/img_channel099_position003_time000000234_z000.tif',\n",
       " '/home/nathan/data/kraken/ras/ND0013/Pos3/Pos3_images/img_channel099_position003_time000000235_z000.tif',\n",
       " '/home/nathan/data/kraken/ras/ND0013/Pos3/Pos3_images/img_channel099_position003_time000000236_z000.tif',\n",
       " '/home/nathan/data/kraken/ras/ND0013/Pos3/Pos3_images/img_channel099_position003_time000000237_z000.tif',\n",
       " '/home/nathan/data/kraken/ras/ND0013/Pos3/Pos3_images/img_channel099_position003_time000000238_z000.tif',\n",
       " '/home/nathan/data/kraken/ras/ND0013/Pos3/Pos3_images/img_channel099_position003_time000000239_z000.tif',\n",
       " '/home/nathan/data/kraken/ras/ND0013/Pos3/Pos3_images/img_channel099_position003_time000000240_z000.tif',\n",
       " '/home/nathan/data/kraken/ras/ND0013/Pos3/Pos3_images/img_channel099_position003_time000000241_z000.tif',\n",
       " '/home/nathan/data/kraken/ras/ND0013/Pos3/Pos3_images/img_channel099_position003_time000000242_z000.tif',\n",
       " '/home/nathan/data/kraken/ras/ND0013/Pos3/Pos3_images/img_channel099_position003_time000000243_z000.tif',\n",
       " '/home/nathan/data/kraken/ras/ND0013/Pos3/Pos3_images/img_channel099_position003_time000000244_z000.tif',\n",
       " '/home/nathan/data/kraken/ras/ND0013/Pos3/Pos3_images/img_channel099_position003_time000000245_z000.tif',\n",
       " '/home/nathan/data/kraken/ras/ND0013/Pos3/Pos3_images/img_channel099_position003_time000000246_z000.tif',\n",
       " '/home/nathan/data/kraken/ras/ND0013/Pos3/Pos3_images/img_channel099_position003_time000000247_z000.tif',\n",
       " '/home/nathan/data/kraken/ras/ND0013/Pos3/Pos3_images/img_channel099_position003_time000000248_z000.tif',\n",
       " '/home/nathan/data/kraken/ras/ND0013/Pos3/Pos3_images/img_channel099_position003_time000000249_z000.tif',\n",
       " '/home/nathan/data/kraken/ras/ND0013/Pos3/Pos3_images/img_channel099_position003_time000000250_z000.tif',\n",
       " '/home/nathan/data/kraken/ras/ND0013/Pos3/Pos3_images/img_channel099_position003_time000000251_z000.tif',\n",
       " '/home/nathan/data/kraken/ras/ND0013/Pos3/Pos3_images/img_channel099_position003_time000000252_z000.tif',\n",
       " '/home/nathan/data/kraken/ras/ND0013/Pos3/Pos3_images/img_channel099_position003_time000000253_z000.tif',\n",
       " '/home/nathan/data/kraken/ras/ND0013/Pos3/Pos3_images/img_channel099_position003_time000000254_z000.tif',\n",
       " '/home/nathan/data/kraken/ras/ND0013/Pos3/Pos3_images/img_channel099_position003_time000000255_z000.tif',\n",
       " '/home/nathan/data/kraken/ras/ND0013/Pos3/Pos3_images/img_channel099_position003_time000000256_z000.tif',\n",
       " '/home/nathan/data/kraken/ras/ND0013/Pos3/Pos3_images/img_channel099_position003_time000000257_z000.tif',\n",
       " '/home/nathan/data/kraken/ras/ND0013/Pos3/Pos3_images/img_channel099_position003_time000000258_z000.tif',\n",
       " '/home/nathan/data/kraken/ras/ND0013/Pos3/Pos3_images/img_channel099_position003_time000000259_z000.tif',\n",
       " '/home/nathan/data/kraken/ras/ND0013/Pos3/Pos3_images/img_channel099_position003_time000000260_z000.tif',\n",
       " '/home/nathan/data/kraken/ras/ND0013/Pos3/Pos3_images/img_channel099_position003_time000000261_z000.tif',\n",
       " '/home/nathan/data/kraken/ras/ND0013/Pos3/Pos3_images/img_channel099_position003_time000000262_z000.tif',\n",
       " '/home/nathan/data/kraken/ras/ND0013/Pos3/Pos3_images/img_channel099_position003_time000000263_z000.tif',\n",
       " '/home/nathan/data/kraken/ras/ND0013/Pos3/Pos3_images/img_channel099_position003_time000000264_z000.tif',\n",
       " '/home/nathan/data/kraken/ras/ND0013/Pos3/Pos3_images/img_channel099_position003_time000000265_z000.tif',\n",
       " '/home/nathan/data/kraken/ras/ND0013/Pos3/Pos3_images/img_channel099_position003_time000000266_z000.tif',\n",
       " '/home/nathan/data/kraken/ras/ND0013/Pos3/Pos3_images/img_channel099_position003_time000000267_z000.tif',\n",
       " '/home/nathan/data/kraken/ras/ND0013/Pos3/Pos3_images/img_channel099_position003_time000000268_z000.tif',\n",
       " '/home/nathan/data/kraken/ras/ND0013/Pos3/Pos3_images/img_channel099_position003_time000000269_z000.tif',\n",
       " '/home/nathan/data/kraken/ras/ND0013/Pos3/Pos3_images/img_channel099_position003_time000000270_z000.tif',\n",
       " '/home/nathan/data/kraken/ras/ND0013/Pos3/Pos3_images/img_channel099_position003_time000000271_z000.tif',\n",
       " '/home/nathan/data/kraken/ras/ND0013/Pos3/Pos3_images/img_channel099_position003_time000000272_z000.tif',\n",
       " '/home/nathan/data/kraken/ras/ND0013/Pos3/Pos3_images/img_channel099_position003_time000000273_z000.tif',\n",
       " '/home/nathan/data/kraken/ras/ND0013/Pos3/Pos3_images/img_channel099_position003_time000000274_z000.tif',\n",
       " '/home/nathan/data/kraken/ras/ND0013/Pos3/Pos3_images/img_channel099_position003_time000000275_z000.tif',\n",
       " '/home/nathan/data/kraken/ras/ND0013/Pos3/Pos3_images/img_channel099_position003_time000000276_z000.tif',\n",
       " '/home/nathan/data/kraken/ras/ND0013/Pos3/Pos3_images/img_channel099_position003_time000000277_z000.tif',\n",
       " '/home/nathan/data/kraken/ras/ND0013/Pos3/Pos3_images/img_channel099_position003_time000000278_z000.tif',\n",
       " '/home/nathan/data/kraken/ras/ND0013/Pos3/Pos3_images/img_channel099_position003_time000000279_z000.tif',\n",
       " '/home/nathan/data/kraken/ras/ND0013/Pos3/Pos3_images/img_channel099_position003_time000000280_z000.tif',\n",
       " '/home/nathan/data/kraken/ras/ND0013/Pos3/Pos3_images/img_channel099_position003_time000000281_z000.tif',\n",
       " '/home/nathan/data/kraken/ras/ND0013/Pos3/Pos3_images/img_channel099_position003_time000000282_z000.tif',\n",
       " '/home/nathan/data/kraken/ras/ND0013/Pos3/Pos3_images/img_channel099_position003_time000000283_z000.tif',\n",
       " '/home/nathan/data/kraken/ras/ND0013/Pos3/Pos3_images/img_channel099_position003_time000000284_z000.tif',\n",
       " '/home/nathan/data/kraken/ras/ND0013/Pos3/Pos3_images/img_channel099_position003_time000000285_z000.tif',\n",
       " '/home/nathan/data/kraken/ras/ND0013/Pos3/Pos3_images/img_channel099_position003_time000000286_z000.tif',\n",
       " '/home/nathan/data/kraken/ras/ND0013/Pos3/Pos3_images/img_channel099_position003_time000000287_z000.tif',\n",
       " '/home/nathan/data/kraken/ras/ND0013/Pos3/Pos3_images/img_channel099_position003_time000000288_z000.tif',\n",
       " '/home/nathan/data/kraken/ras/ND0013/Pos3/Pos3_images/img_channel099_position003_time000000289_z000.tif',\n",
       " '/home/nathan/data/kraken/ras/ND0013/Pos3/Pos3_images/img_channel099_position003_time000000290_z000.tif',\n",
       " '/home/nathan/data/kraken/ras/ND0013/Pos3/Pos3_images/img_channel099_position003_time000000291_z000.tif',\n",
       " '/home/nathan/data/kraken/ras/ND0013/Pos3/Pos3_images/img_channel099_position003_time000000292_z000.tif',\n",
       " '/home/nathan/data/kraken/ras/ND0013/Pos3/Pos3_images/img_channel099_position003_time000000293_z000.tif',\n",
       " '/home/nathan/data/kraken/ras/ND0013/Pos3/Pos3_images/img_channel099_position003_time000000294_z000.tif',\n",
       " '/home/nathan/data/kraken/ras/ND0013/Pos3/Pos3_images/img_channel099_position003_time000000295_z000.tif',\n",
       " '/home/nathan/data/kraken/ras/ND0013/Pos3/Pos3_images/img_channel099_position003_time000000296_z000.tif',\n",
       " '/home/nathan/data/kraken/ras/ND0013/Pos3/Pos3_images/img_channel099_position003_time000000297_z000.tif',\n",
       " '/home/nathan/data/kraken/ras/ND0013/Pos3/Pos3_images/img_channel099_position003_time000000298_z000.tif',\n",
       " '/home/nathan/data/kraken/ras/ND0013/Pos3/Pos3_images/img_channel099_position003_time000000299_z000.tif',\n",
       " '/home/nathan/data/kraken/ras/ND0013/Pos3/Pos3_images/img_channel099_position003_time000000300_z000.tif',\n",
       " '/home/nathan/data/kraken/ras/ND0013/Pos3/Pos3_images/img_channel099_position003_time000000301_z000.tif',\n",
       " '/home/nathan/data/kraken/ras/ND0013/Pos3/Pos3_images/img_channel099_position003_time000000302_z000.tif',\n",
       " '/home/nathan/data/kraken/ras/ND0013/Pos3/Pos3_images/img_channel099_position003_time000000303_z000.tif',\n",
       " '/home/nathan/data/kraken/ras/ND0013/Pos3/Pos3_images/img_channel099_position003_time000000304_z000.tif',\n",
       " '/home/nathan/data/kraken/ras/ND0013/Pos3/Pos3_images/img_channel099_position003_time000000305_z000.tif',\n",
       " '/home/nathan/data/kraken/ras/ND0013/Pos3/Pos3_images/img_channel099_position003_time000000306_z000.tif',\n",
       " '/home/nathan/data/kraken/ras/ND0013/Pos3/Pos3_images/img_channel099_position003_time000000307_z000.tif',\n",
       " '/home/nathan/data/kraken/ras/ND0013/Pos3/Pos3_images/img_channel099_position003_time000000308_z000.tif',\n",
       " '/home/nathan/data/kraken/ras/ND0013/Pos3/Pos3_images/img_channel099_position003_time000000309_z000.tif',\n",
       " '/home/nathan/data/kraken/ras/ND0013/Pos3/Pos3_images/img_channel099_position003_time000000310_z000.tif',\n",
       " '/home/nathan/data/kraken/ras/ND0013/Pos3/Pos3_images/img_channel099_position003_time000000311_z000.tif',\n",
       " '/home/nathan/data/kraken/ras/ND0013/Pos3/Pos3_images/img_channel099_position003_time000000312_z000.tif',\n",
       " '/home/nathan/data/kraken/ras/ND0013/Pos3/Pos3_images/img_channel099_position003_time000000313_z000.tif',\n",
       " '/home/nathan/data/kraken/ras/ND0013/Pos3/Pos3_images/img_channel099_position003_time000000314_z000.tif',\n",
       " '/home/nathan/data/kraken/ras/ND0013/Pos3/Pos3_images/img_channel099_position003_time000000315_z000.tif',\n",
       " '/home/nathan/data/kraken/ras/ND0013/Pos3/Pos3_images/img_channel099_position003_time000000316_z000.tif',\n",
       " '/home/nathan/data/kraken/ras/ND0013/Pos3/Pos3_images/img_channel099_position003_time000000317_z000.tif',\n",
       " '/home/nathan/data/kraken/ras/ND0013/Pos3/Pos3_images/img_channel099_position003_time000000318_z000.tif',\n",
       " '/home/nathan/data/kraken/ras/ND0013/Pos3/Pos3_images/img_channel099_position003_time000000319_z000.tif',\n",
       " '/home/nathan/data/kraken/ras/ND0013/Pos3/Pos3_images/img_channel099_position003_time000000320_z000.tif',\n",
       " '/home/nathan/data/kraken/ras/ND0013/Pos3/Pos3_images/img_channel099_position003_time000000321_z000.tif',\n",
       " '/home/nathan/data/kraken/ras/ND0013/Pos3/Pos3_images/img_channel099_position003_time000000322_z000.tif',\n",
       " '/home/nathan/data/kraken/ras/ND0013/Pos3/Pos3_images/img_channel099_position003_time000000323_z000.tif',\n",
       " '/home/nathan/data/kraken/ras/ND0013/Pos3/Pos3_images/img_channel099_position003_time000000324_z000.tif',\n",
       " '/home/nathan/data/kraken/ras/ND0013/Pos3/Pos3_images/img_channel099_position003_time000000325_z000.tif',\n",
       " '/home/nathan/data/kraken/ras/ND0013/Pos3/Pos3_images/img_channel099_position003_time000000326_z000.tif',\n",
       " '/home/nathan/data/kraken/ras/ND0013/Pos3/Pos3_images/img_channel099_position003_time000000327_z000.tif',\n",
       " '/home/nathan/data/kraken/ras/ND0013/Pos3/Pos3_images/img_channel099_position003_time000000328_z000.tif',\n",
       " '/home/nathan/data/kraken/ras/ND0013/Pos3/Pos3_images/img_channel099_position003_time000000329_z000.tif',\n",
       " '/home/nathan/data/kraken/ras/ND0013/Pos3/Pos3_images/img_channel099_position003_time000000330_z000.tif',\n",
       " '/home/nathan/data/kraken/ras/ND0013/Pos3/Pos3_images/img_channel099_position003_time000000331_z000.tif',\n",
       " '/home/nathan/data/kraken/ras/ND0013/Pos3/Pos3_images/img_channel099_position003_time000000332_z000.tif',\n",
       " '/home/nathan/data/kraken/ras/ND0013/Pos3/Pos3_images/img_channel099_position003_time000000333_z000.tif',\n",
       " '/home/nathan/data/kraken/ras/ND0013/Pos3/Pos3_images/img_channel099_position003_time000000334_z000.tif',\n",
       " '/home/nathan/data/kraken/ras/ND0013/Pos3/Pos3_images/img_channel099_position003_time000000335_z000.tif',\n",
       " '/home/nathan/data/kraken/ras/ND0013/Pos3/Pos3_images/img_channel099_position003_time000000336_z000.tif',\n",
       " '/home/nathan/data/kraken/ras/ND0013/Pos3/Pos3_images/img_channel099_position003_time000000337_z000.tif',\n",
       " '/home/nathan/data/kraken/ras/ND0013/Pos3/Pos3_images/img_channel099_position003_time000000338_z000.tif',\n",
       " '/home/nathan/data/kraken/ras/ND0013/Pos3/Pos3_images/img_channel099_position003_time000000339_z000.tif',\n",
       " '/home/nathan/data/kraken/ras/ND0013/Pos3/Pos3_images/img_channel099_position003_time000000340_z000.tif',\n",
       " '/home/nathan/data/kraken/ras/ND0013/Pos3/Pos3_images/img_channel099_position003_time000000342_z000.tif',\n",
       " '/home/nathan/data/kraken/ras/ND0013/Pos3/Pos3_images/img_channel099_position003_time000000343_z000.tif',\n",
       " '/home/nathan/data/kraken/ras/ND0013/Pos3/Pos3_images/img_channel099_position003_time000000344_z000.tif',\n",
       " '/home/nathan/data/kraken/ras/ND0013/Pos3/Pos3_images/img_channel099_position003_time000000345_z000.tif',\n",
       " '/home/nathan/data/kraken/ras/ND0013/Pos3/Pos3_images/img_channel099_position003_time000000346_z000.tif',\n",
       " '/home/nathan/data/kraken/ras/ND0013/Pos3/Pos3_images/img_channel099_position003_time000000347_z000.tif',\n",
       " '/home/nathan/data/kraken/ras/ND0013/Pos3/Pos3_images/img_channel099_position003_time000000348_z000.tif',\n",
       " '/home/nathan/data/kraken/ras/ND0013/Pos3/Pos3_images/img_channel099_position003_time000000349_z000.tif',\n",
       " '/home/nathan/data/kraken/ras/ND0013/Pos3/Pos3_images/img_channel099_position003_time000000350_z000.tif',\n",
       " '/home/nathan/data/kraken/ras/ND0013/Pos3/Pos3_images/img_channel099_position003_time000000351_z000.tif',\n",
       " '/home/nathan/data/kraken/ras/ND0013/Pos3/Pos3_images/img_channel099_position003_time000000352_z000.tif',\n",
       " '/home/nathan/data/kraken/ras/ND0013/Pos3/Pos3_images/img_channel099_position003_time000000353_z000.tif',\n",
       " '/home/nathan/data/kraken/ras/ND0013/Pos3/Pos3_images/img_channel099_position003_time000000354_z000.tif',\n",
       " '/home/nathan/data/kraken/ras/ND0013/Pos3/Pos3_images/img_channel099_position003_time000000355_z000.tif',\n",
       " '/home/nathan/data/kraken/ras/ND0013/Pos3/Pos3_images/img_channel099_position003_time000000356_z000.tif',\n",
       " '/home/nathan/data/kraken/ras/ND0013/Pos3/Pos3_images/img_channel099_position003_time000000357_z000.tif',\n",
       " '/home/nathan/data/kraken/ras/ND0013/Pos3/Pos3_images/img_channel099_position003_time000000358_z000.tif',\n",
       " '/home/nathan/data/kraken/ras/ND0013/Pos3/Pos3_images/img_channel099_position003_time000000359_z000.tif',\n",
       " '/home/nathan/data/kraken/ras/ND0013/Pos3/Pos3_images/img_channel099_position003_time000000360_z000.tif',\n",
       " '/home/nathan/data/kraken/ras/ND0013/Pos3/Pos3_images/img_channel099_position003_time000000361_z000.tif',\n",
       " '/home/nathan/data/kraken/ras/ND0013/Pos3/Pos3_images/img_channel099_position003_time000000362_z000.tif',\n",
       " '/home/nathan/data/kraken/ras/ND0013/Pos3/Pos3_images/img_channel099_position003_time000000363_z000.tif',\n",
       " '/home/nathan/data/kraken/ras/ND0013/Pos3/Pos3_images/img_channel099_position003_time000000364_z000.tif',\n",
       " '/home/nathan/data/kraken/ras/ND0013/Pos3/Pos3_images/img_channel099_position003_time000000365_z000.tif',\n",
       " '/home/nathan/data/kraken/ras/ND0013/Pos3/Pos3_images/img_channel099_position003_time000000366_z000.tif',\n",
       " '/home/nathan/data/kraken/ras/ND0013/Pos3/Pos3_images/img_channel099_position003_time000000367_z000.tif',\n",
       " '/home/nathan/data/kraken/ras/ND0013/Pos3/Pos3_images/img_channel099_position003_time000000368_z000.tif',\n",
       " '/home/nathan/data/kraken/ras/ND0013/Pos3/Pos3_images/img_channel099_position003_time000000369_z000.tif',\n",
       " '/home/nathan/data/kraken/ras/ND0013/Pos3/Pos3_images/img_channel099_position003_time000000370_z000.tif',\n",
       " '/home/nathan/data/kraken/ras/ND0013/Pos3/Pos3_images/img_channel099_position003_time000000371_z000.tif',\n",
       " '/home/nathan/data/kraken/ras/ND0013/Pos3/Pos3_images/img_channel099_position003_time000000372_z000.tif',\n",
       " '/home/nathan/data/kraken/ras/ND0013/Pos3/Pos3_images/img_channel099_position003_time000000373_z000.tif',\n",
       " '/home/nathan/data/kraken/ras/ND0013/Pos3/Pos3_images/img_channel099_position003_time000000374_z000.tif',\n",
       " '/home/nathan/data/kraken/ras/ND0013/Pos3/Pos3_images/img_channel099_position003_time000000375_z000.tif',\n",
       " '/home/nathan/data/kraken/ras/ND0013/Pos3/Pos3_images/img_channel099_position003_time000000376_z000.tif',\n",
       " '/home/nathan/data/kraken/ras/ND0013/Pos3/Pos3_images/img_channel099_position003_time000000377_z000.tif',\n",
       " '/home/nathan/data/kraken/ras/ND0013/Pos3/Pos3_images/img_channel099_position003_time000000378_z000.tif',\n",
       " '/home/nathan/data/kraken/ras/ND0013/Pos3/Pos3_images/img_channel099_position003_time000000379_z000.tif',\n",
       " '/home/nathan/data/kraken/ras/ND0013/Pos3/Pos3_images/img_channel099_position003_time000000380_z000.tif',\n",
       " '/home/nathan/data/kraken/ras/ND0013/Pos3/Pos3_images/img_channel099_position003_time000000381_z000.tif',\n",
       " '/home/nathan/data/kraken/ras/ND0013/Pos3/Pos3_images/img_channel099_position003_time000000382_z000.tif',\n",
       " '/home/nathan/data/kraken/ras/ND0013/Pos3/Pos3_images/img_channel099_position003_time000000383_z000.tif',\n",
       " '/home/nathan/data/kraken/ras/ND0013/Pos3/Pos3_images/img_channel099_position003_time000000384_z000.tif',\n",
       " '/home/nathan/data/kraken/ras/ND0013/Pos3/Pos3_images/img_channel099_position003_time000000385_z000.tif',\n",
       " '/home/nathan/data/kraken/ras/ND0013/Pos3/Pos3_images/img_channel099_position003_time000000386_z000.tif',\n",
       " '/home/nathan/data/kraken/ras/ND0013/Pos3/Pos3_images/img_channel099_position003_time000000387_z000.tif',\n",
       " '/home/nathan/data/kraken/ras/ND0013/Pos3/Pos3_images/img_channel099_position003_time000000388_z000.tif',\n",
       " '/home/nathan/data/kraken/ras/ND0013/Pos3/Pos3_images/img_channel099_position003_time000000389_z000.tif',\n",
       " '/home/nathan/data/kraken/ras/ND0013/Pos3/Pos3_images/img_channel099_position003_time000000390_z000.tif',\n",
       " '/home/nathan/data/kraken/ras/ND0013/Pos3/Pos3_images/img_channel099_position003_time000000391_z000.tif',\n",
       " '/home/nathan/data/kraken/ras/ND0013/Pos3/Pos3_images/img_channel099_position003_time000000392_z000.tif',\n",
       " '/home/nathan/data/kraken/ras/ND0013/Pos3/Pos3_images/img_channel099_position003_time000000393_z000.tif',\n",
       " '/home/nathan/data/kraken/ras/ND0013/Pos3/Pos3_images/img_channel099_position003_time000000394_z000.tif',\n",
       " '/home/nathan/data/kraken/ras/ND0013/Pos3/Pos3_images/img_channel099_position003_time000000395_z000.tif',\n",
       " '/home/nathan/data/kraken/ras/ND0013/Pos3/Pos3_images/img_channel099_position003_time000000396_z000.tif',\n",
       " '/home/nathan/data/kraken/ras/ND0013/Pos3/Pos3_images/img_channel099_position003_time000000397_z000.tif',\n",
       " '/home/nathan/data/kraken/ras/ND0013/Pos3/Pos3_images/img_channel099_position003_time000000398_z000.tif',\n",
       " '/home/nathan/data/kraken/ras/ND0013/Pos3/Pos3_images/img_channel099_position003_time000000399_z000.tif',\n",
       " '/home/nathan/data/kraken/ras/ND0013/Pos3/Pos3_images/img_channel099_position003_time000000400_z000.tif',\n",
       " '/home/nathan/data/kraken/ras/ND0013/Pos3/Pos3_images/img_channel099_position003_time000000401_z000.tif',\n",
       " '/home/nathan/data/kraken/ras/ND0013/Pos3/Pos3_images/img_channel099_position003_time000000402_z000.tif',\n",
       " '/home/nathan/data/kraken/ras/ND0013/Pos3/Pos3_images/img_channel099_position003_time000000403_z000.tif',\n",
       " '/home/nathan/data/kraken/ras/ND0013/Pos3/Pos3_images/img_channel099_position003_time000000404_z000.tif',\n",
       " '/home/nathan/data/kraken/ras/ND0013/Pos3/Pos3_images/img_channel099_position003_time000000405_z000.tif',\n",
       " '/home/nathan/data/kraken/ras/ND0013/Pos3/Pos3_images/img_channel099_position003_time000000406_z000.tif',\n",
       " '/home/nathan/data/kraken/ras/ND0013/Pos3/Pos3_images/img_channel099_position003_time000000407_z000.tif',\n",
       " '/home/nathan/data/kraken/ras/ND0013/Pos3/Pos3_images/img_channel099_position003_time000000408_z000.tif',\n",
       " '/home/nathan/data/kraken/ras/ND0013/Pos3/Pos3_images/img_channel099_position003_time000000409_z000.tif',\n",
       " '/home/nathan/data/kraken/ras/ND0013/Pos3/Pos3_images/img_channel099_position003_time000000410_z000.tif',\n",
       " '/home/nathan/data/kraken/ras/ND0013/Pos3/Pos3_images/img_channel099_position003_time000000411_z000.tif',\n",
       " '/home/nathan/data/kraken/ras/ND0013/Pos3/Pos3_images/img_channel099_position003_time000000412_z000.tif',\n",
       " '/home/nathan/data/kraken/ras/ND0013/Pos3/Pos3_images/img_channel099_position003_time000000413_z000.tif',\n",
       " '/home/nathan/data/kraken/ras/ND0013/Pos3/Pos3_images/img_channel099_position003_time000000414_z000.tif',\n",
       " '/home/nathan/data/kraken/ras/ND0013/Pos3/Pos3_images/img_channel099_position003_time000000416_z000.tif',\n",
       " '/home/nathan/data/kraken/ras/ND0013/Pos3/Pos3_images/img_channel099_position003_time000000417_z000.tif',\n",
       " '/home/nathan/data/kraken/ras/ND0013/Pos3/Pos3_images/img_channel099_position003_time000000418_z000.tif',\n",
       " '/home/nathan/data/kraken/ras/ND0013/Pos3/Pos3_images/img_channel099_position003_time000000419_z000.tif',\n",
       " '/home/nathan/data/kraken/ras/ND0013/Pos3/Pos3_images/img_channel099_position003_time000000420_z000.tif',\n",
       " '/home/nathan/data/kraken/ras/ND0013/Pos3/Pos3_images/img_channel099_position003_time000000421_z000.tif',\n",
       " '/home/nathan/data/kraken/ras/ND0013/Pos3/Pos3_images/img_channel099_position003_time000000422_z000.tif',\n",
       " '/home/nathan/data/kraken/ras/ND0013/Pos3/Pos3_images/img_channel099_position003_time000000423_z000.tif',\n",
       " '/home/nathan/data/kraken/ras/ND0013/Pos3/Pos3_images/img_channel099_position003_time000000424_z000.tif',\n",
       " '/home/nathan/data/kraken/ras/ND0013/Pos3/Pos3_images/img_channel099_position003_time000000425_z000.tif',\n",
       " '/home/nathan/data/kraken/ras/ND0013/Pos3/Pos3_images/img_channel099_position003_time000000426_z000.tif',\n",
       " '/home/nathan/data/kraken/ras/ND0013/Pos3/Pos3_images/img_channel099_position003_time000000427_z000.tif',\n",
       " '/home/nathan/data/kraken/ras/ND0013/Pos3/Pos3_images/img_channel099_position003_time000000428_z000.tif',\n",
       " '/home/nathan/data/kraken/ras/ND0013/Pos3/Pos3_images/img_channel099_position003_time000000429_z000.tif',\n",
       " '/home/nathan/data/kraken/ras/ND0013/Pos3/Pos3_images/img_channel099_position003_time000000430_z000.tif',\n",
       " '/home/nathan/data/kraken/ras/ND0013/Pos3/Pos3_images/img_channel099_position003_time000000431_z000.tif',\n",
       " '/home/nathan/data/kraken/ras/ND0013/Pos3/Pos3_images/img_channel099_position003_time000000432_z000.tif',\n",
       " '/home/nathan/data/kraken/ras/ND0013/Pos3/Pos3_images/img_channel099_position003_time000000433_z000.tif',\n",
       " '/home/nathan/data/kraken/ras/ND0013/Pos3/Pos3_images/img_channel099_position003_time000000434_z000.tif',\n",
       " '/home/nathan/data/kraken/ras/ND0013/Pos3/Pos3_images/img_channel099_position003_time000000435_z000.tif',\n",
       " '/home/nathan/data/kraken/ras/ND0013/Pos3/Pos3_images/img_channel099_position003_time000000436_z000.tif',\n",
       " '/home/nathan/data/kraken/ras/ND0013/Pos3/Pos3_images/img_channel099_position003_time000000437_z000.tif',\n",
       " '/home/nathan/data/kraken/ras/ND0013/Pos3/Pos3_images/img_channel099_position003_time000000438_z000.tif',\n",
       " '/home/nathan/data/kraken/ras/ND0013/Pos3/Pos3_images/img_channel099_position003_time000000439_z000.tif',\n",
       " '/home/nathan/data/kraken/ras/ND0013/Pos3/Pos3_images/img_channel099_position003_time000000440_z000.tif',\n",
       " '/home/nathan/data/kraken/ras/ND0013/Pos3/Pos3_images/img_channel099_position003_time000000441_z000.tif',\n",
       " '/home/nathan/data/kraken/ras/ND0013/Pos3/Pos3_images/img_channel099_position003_time000000442_z000.tif',\n",
       " '/home/nathan/data/kraken/ras/ND0013/Pos3/Pos3_images/img_channel099_position003_time000000443_z000.tif',\n",
       " '/home/nathan/data/kraken/ras/ND0013/Pos3/Pos3_images/img_channel099_position003_time000000444_z000.tif',\n",
       " '/home/nathan/data/kraken/ras/ND0013/Pos3/Pos3_images/img_channel099_position003_time000000445_z000.tif',\n",
       " '/home/nathan/data/kraken/ras/ND0013/Pos3/Pos3_images/img_channel099_position003_time000000446_z000.tif',\n",
       " '/home/nathan/data/kraken/ras/ND0013/Pos3/Pos3_images/img_channel099_position003_time000000447_z000.tif',\n",
       " '/home/nathan/data/kraken/ras/ND0013/Pos3/Pos3_images/img_channel099_position003_time000000448_z000.tif',\n",
       " '/home/nathan/data/kraken/ras/ND0013/Pos3/Pos3_images/img_channel099_position003_time000000449_z000.tif',\n",
       " '/home/nathan/data/kraken/ras/ND0013/Pos3/Pos3_images/img_channel099_position003_time000000450_z000.tif',\n",
       " '/home/nathan/data/kraken/ras/ND0013/Pos3/Pos3_images/img_channel099_position003_time000000451_z000.tif',\n",
       " '/home/nathan/data/kraken/ras/ND0013/Pos3/Pos3_images/img_channel099_position003_time000000452_z000.tif',\n",
       " '/home/nathan/data/kraken/ras/ND0013/Pos3/Pos3_images/img_channel099_position003_time000000453_z000.tif',\n",
       " '/home/nathan/data/kraken/ras/ND0013/Pos3/Pos3_images/img_channel099_position003_time000000454_z000.tif',\n",
       " '/home/nathan/data/kraken/ras/ND0013/Pos3/Pos3_images/img_channel099_position003_time000000455_z000.tif',\n",
       " '/home/nathan/data/kraken/ras/ND0013/Pos3/Pos3_images/img_channel099_position003_time000000456_z000.tif',\n",
       " '/home/nathan/data/kraken/ras/ND0013/Pos3/Pos3_images/img_channel099_position003_time000000457_z000.tif',\n",
       " '/home/nathan/data/kraken/ras/ND0013/Pos3/Pos3_images/img_channel099_position003_time000000458_z000.tif',\n",
       " '/home/nathan/data/kraken/ras/ND0013/Pos3/Pos3_images/img_channel099_position003_time000000459_z000.tif',\n",
       " '/home/nathan/data/kraken/ras/ND0013/Pos3/Pos3_images/img_channel099_position003_time000000460_z000.tif',\n",
       " '/home/nathan/data/kraken/ras/ND0013/Pos3/Pos3_images/img_channel099_position003_time000000461_z000.tif',\n",
       " '/home/nathan/data/kraken/ras/ND0013/Pos3/Pos3_images/img_channel099_position003_time000000462_z000.tif',\n",
       " '/home/nathan/data/kraken/ras/ND0013/Pos3/Pos3_images/img_channel099_position003_time000000463_z000.tif',\n",
       " '/home/nathan/data/kraken/ras/ND0013/Pos3/Pos3_images/img_channel099_position003_time000000464_z000.tif',\n",
       " '/home/nathan/data/kraken/ras/ND0013/Pos3/Pos3_images/img_channel099_position003_time000000465_z000.tif',\n",
       " '/home/nathan/data/kraken/ras/ND0013/Pos3/Pos3_images/img_channel099_position003_time000000466_z000.tif',\n",
       " '/home/nathan/data/kraken/ras/ND0013/Pos3/Pos3_images/img_channel099_position003_time000000467_z000.tif',\n",
       " '/home/nathan/data/kraken/ras/ND0013/Pos3/Pos3_images/img_channel099_position003_time000000468_z000.tif',\n",
       " '/home/nathan/data/kraken/ras/ND0013/Pos3/Pos3_images/img_channel099_position003_time000000469_z000.tif',\n",
       " '/home/nathan/data/kraken/ras/ND0013/Pos3/Pos3_images/img_channel099_position003_time000000470_z000.tif',\n",
       " '/home/nathan/data/kraken/ras/ND0013/Pos3/Pos3_images/img_channel099_position003_time000000471_z000.tif',\n",
       " '/home/nathan/data/kraken/ras/ND0013/Pos3/Pos3_images/img_channel099_position003_time000000472_z000.tif',\n",
       " '/home/nathan/data/kraken/ras/ND0013/Pos3/Pos3_images/img_channel099_position003_time000000473_z000.tif',\n",
       " '/home/nathan/data/kraken/ras/ND0013/Pos3/Pos3_images/img_channel099_position003_time000000474_z000.tif',\n",
       " '/home/nathan/data/kraken/ras/ND0013/Pos3/Pos3_images/img_channel099_position003_time000000475_z000.tif',\n",
       " '/home/nathan/data/kraken/ras/ND0013/Pos3/Pos3_images/img_channel099_position003_time000000476_z000.tif',\n",
       " '/home/nathan/data/kraken/ras/ND0013/Pos3/Pos3_images/img_channel099_position003_time000000477_z000.tif',\n",
       " '/home/nathan/data/kraken/ras/ND0013/Pos3/Pos3_images/img_channel099_position003_time000000478_z000.tif',\n",
       " '/home/nathan/data/kraken/ras/ND0013/Pos3/Pos3_images/img_channel099_position003_time000000479_z000.tif',\n",
       " '/home/nathan/data/kraken/ras/ND0013/Pos3/Pos3_images/img_channel099_position003_time000000480_z000.tif',\n",
       " '/home/nathan/data/kraken/ras/ND0013/Pos3/Pos3_images/img_channel099_position003_time000000481_z000.tif',\n",
       " '/home/nathan/data/kraken/ras/ND0013/Pos3/Pos3_images/img_channel099_position003_time000000482_z000.tif',\n",
       " '/home/nathan/data/kraken/ras/ND0013/Pos3/Pos3_images/img_channel099_position003_time000000483_z000.tif',\n",
       " '/home/nathan/data/kraken/ras/ND0013/Pos3/Pos3_images/img_channel099_position003_time000000484_z000.tif',\n",
       " '/home/nathan/data/kraken/ras/ND0013/Pos3/Pos3_images/img_channel099_position003_time000000485_z000.tif',\n",
       " '/home/nathan/data/kraken/ras/ND0013/Pos3/Pos3_images/img_channel099_position003_time000000486_z000.tif',\n",
       " '/home/nathan/data/kraken/ras/ND0013/Pos3/Pos3_images/img_channel099_position003_time000000487_z000.tif',\n",
       " '/home/nathan/data/kraken/ras/ND0013/Pos3/Pos3_images/img_channel099_position003_time000000488_z000.tif',\n",
       " '/home/nathan/data/kraken/ras/ND0013/Pos3/Pos3_images/img_channel099_position003_time000000489_z000.tif',\n",
       " '/home/nathan/data/kraken/ras/ND0013/Pos3/Pos3_images/img_channel099_position003_time000000490_z000.tif',\n",
       " '/home/nathan/data/kraken/ras/ND0013/Pos3/Pos3_images/img_channel099_position003_time000000491_z000.tif',\n",
       " '/home/nathan/data/kraken/ras/ND0013/Pos3/Pos3_images/img_channel099_position003_time000000492_z000.tif',\n",
       " '/home/nathan/data/kraken/ras/ND0013/Pos3/Pos3_images/img_channel099_position003_time000000493_z000.tif',\n",
       " '/home/nathan/data/kraken/ras/ND0013/Pos3/Pos3_images/img_channel099_position003_time000000494_z000.tif',\n",
       " '/home/nathan/data/kraken/ras/ND0013/Pos3/Pos3_images/img_channel099_position003_time000000495_z000.tif',\n",
       " '/home/nathan/data/kraken/ras/ND0013/Pos3/Pos3_images/img_channel099_position003_time000000496_z000.tif',\n",
       " '/home/nathan/data/kraken/ras/ND0013/Pos3/Pos3_images/img_channel099_position003_time000000497_z000.tif',\n",
       " '/home/nathan/data/kraken/ras/ND0013/Pos3/Pos3_images/img_channel099_position003_time000000498_z000.tif',\n",
       " '/home/nathan/data/kraken/ras/ND0013/Pos3/Pos3_images/img_channel099_position003_time000000499_z000.tif',\n",
       " '/home/nathan/data/kraken/ras/ND0013/Pos3/Pos3_images/img_channel099_position003_time000000500_z000.tif',\n",
       " '/home/nathan/data/kraken/ras/ND0013/Pos3/Pos3_images/img_channel099_position003_time000000501_z000.tif',\n",
       " '/home/nathan/data/kraken/ras/ND0013/Pos3/Pos3_images/img_channel099_position003_time000000502_z000.tif',\n",
       " '/home/nathan/data/kraken/ras/ND0013/Pos3/Pos3_images/img_channel099_position003_time000000503_z000.tif',\n",
       " '/home/nathan/data/kraken/ras/ND0013/Pos3/Pos3_images/img_channel099_position003_time000000504_z000.tif',\n",
       " '/home/nathan/data/kraken/ras/ND0013/Pos3/Pos3_images/img_channel099_position003_time000000505_z000.tif',\n",
       " '/home/nathan/data/kraken/ras/ND0013/Pos3/Pos3_images/img_channel099_position003_time000000506_z000.tif',\n",
       " '/home/nathan/data/kraken/ras/ND0013/Pos3/Pos3_images/img_channel099_position003_time000000507_z000.tif',\n",
       " '/home/nathan/data/kraken/ras/ND0013/Pos3/Pos3_images/img_channel099_position003_time000000508_z000.tif',\n",
       " '/home/nathan/data/kraken/ras/ND0013/Pos3/Pos3_images/img_channel099_position003_time000000509_z000.tif',\n",
       " '/home/nathan/data/kraken/ras/ND0013/Pos3/Pos3_images/img_channel099_position003_time000000510_z000.tif',\n",
       " '/home/nathan/data/kraken/ras/ND0013/Pos3/Pos3_images/img_channel099_position003_time000000511_z000.tif',\n",
       " '/home/nathan/data/kraken/ras/ND0013/Pos3/Pos3_images/img_channel099_position003_time000000512_z000.tif',\n",
       " '/home/nathan/data/kraken/ras/ND0013/Pos3/Pos3_images/img_channel099_position003_time000000513_z000.tif',\n",
       " '/home/nathan/data/kraken/ras/ND0013/Pos3/Pos3_images/img_channel099_position003_time000000514_z000.tif',\n",
       " '/home/nathan/data/kraken/ras/ND0013/Pos3/Pos3_images/img_channel099_position003_time000000515_z000.tif',\n",
       " '/home/nathan/data/kraken/ras/ND0013/Pos3/Pos3_images/img_channel099_position003_time000000516_z000.tif',\n",
       " '/home/nathan/data/kraken/ras/ND0013/Pos3/Pos3_images/img_channel099_position003_time000000517_z000.tif',\n",
       " '/home/nathan/data/kraken/ras/ND0013/Pos3/Pos3_images/img_channel099_position003_time000000518_z000.tif',\n",
       " '/home/nathan/data/kraken/ras/ND0013/Pos3/Pos3_images/img_channel099_position003_time000000519_z000.tif',\n",
       " '/home/nathan/data/kraken/ras/ND0013/Pos3/Pos3_images/img_channel099_position003_time000000520_z000.tif',\n",
       " '/home/nathan/data/kraken/ras/ND0013/Pos3/Pos3_images/img_channel099_position003_time000000521_z000.tif',\n",
       " '/home/nathan/data/kraken/ras/ND0013/Pos3/Pos3_images/img_channel099_position003_time000000522_z000.tif',\n",
       " '/home/nathan/data/kraken/ras/ND0013/Pos3/Pos3_images/img_channel099_position003_time000000523_z000.tif',\n",
       " '/home/nathan/data/kraken/ras/ND0013/Pos3/Pos3_images/img_channel099_position003_time000000524_z000.tif',\n",
       " '/home/nathan/data/kraken/ras/ND0013/Pos3/Pos3_images/img_channel099_position003_time000000525_z000.tif',\n",
       " '/home/nathan/data/kraken/ras/ND0013/Pos3/Pos3_images/img_channel099_position003_time000000526_z000.tif',\n",
       " '/home/nathan/data/kraken/ras/ND0013/Pos3/Pos3_images/img_channel099_position003_time000000527_z000.tif',\n",
       " '/home/nathan/data/kraken/ras/ND0013/Pos3/Pos3_images/img_channel099_position003_time000000528_z000.tif',\n",
       " '/home/nathan/data/kraken/ras/ND0013/Pos3/Pos3_images/img_channel099_position003_time000000529_z000.tif',\n",
       " '/home/nathan/data/kraken/ras/ND0013/Pos3/Pos3_images/img_channel099_position003_time000000530_z000.tif',\n",
       " '/home/nathan/data/kraken/ras/ND0013/Pos3/Pos3_images/img_channel099_position003_time000000531_z000.tif',\n",
       " '/home/nathan/data/kraken/ras/ND0013/Pos3/Pos3_images/img_channel099_position003_time000000532_z000.tif',\n",
       " '/home/nathan/data/kraken/ras/ND0013/Pos3/Pos3_images/img_channel099_position003_time000000533_z000.tif',\n",
       " '/home/nathan/data/kraken/ras/ND0013/Pos3/Pos3_images/img_channel099_position003_time000000534_z000.tif',\n",
       " '/home/nathan/data/kraken/ras/ND0013/Pos3/Pos3_images/img_channel099_position003_time000000535_z000.tif',\n",
       " '/home/nathan/data/kraken/ras/ND0013/Pos3/Pos3_images/img_channel099_position003_time000000536_z000.tif',\n",
       " '/home/nathan/data/kraken/ras/ND0013/Pos3/Pos3_images/img_channel099_position003_time000000537_z000.tif',\n",
       " '/home/nathan/data/kraken/ras/ND0013/Pos3/Pos3_images/img_channel099_position003_time000000538_z000.tif',\n",
       " '/home/nathan/data/kraken/ras/ND0013/Pos3/Pos3_images/img_channel099_position003_time000000539_z000.tif',\n",
       " '/home/nathan/data/kraken/ras/ND0013/Pos3/Pos3_images/img_channel099_position003_time000000540_z000.tif',\n",
       " '/home/nathan/data/kraken/ras/ND0013/Pos3/Pos3_images/img_channel099_position003_time000000541_z000.tif',\n",
       " '/home/nathan/data/kraken/ras/ND0013/Pos3/Pos3_images/img_channel099_position003_time000000542_z000.tif',\n",
       " '/home/nathan/data/kraken/ras/ND0013/Pos3/Pos3_images/img_channel099_position003_time000000543_z000.tif',\n",
       " '/home/nathan/data/kraken/ras/ND0013/Pos3/Pos3_images/img_channel099_position003_time000000544_z000.tif',\n",
       " '/home/nathan/data/kraken/ras/ND0013/Pos3/Pos3_images/img_channel099_position003_time000000545_z000.tif',\n",
       " '/home/nathan/data/kraken/ras/ND0013/Pos3/Pos3_images/img_channel099_position003_time000000546_z000.tif',\n",
       " '/home/nathan/data/kraken/ras/ND0013/Pos3/Pos3_images/img_channel099_position003_time000000547_z000.tif',\n",
       " '/home/nathan/data/kraken/ras/ND0013/Pos3/Pos3_images/img_channel099_position003_time000000548_z000.tif',\n",
       " '/home/nathan/data/kraken/ras/ND0013/Pos3/Pos3_images/img_channel099_position003_time000000549_z000.tif',\n",
       " '/home/nathan/data/kraken/ras/ND0013/Pos3/Pos3_images/img_channel099_position003_time000000550_z000.tif',\n",
       " '/home/nathan/data/kraken/ras/ND0013/Pos3/Pos3_images/img_channel099_position003_time000000551_z000.tif',\n",
       " '/home/nathan/data/kraken/ras/ND0013/Pos3/Pos3_images/img_channel099_position003_time000000552_z000.tif',\n",
       " '/home/nathan/data/kraken/ras/ND0013/Pos3/Pos3_images/img_channel099_position003_time000000553_z000.tif',\n",
       " '/home/nathan/data/kraken/ras/ND0013/Pos3/Pos3_images/img_channel099_position003_time000000554_z000.tif',\n",
       " '/home/nathan/data/kraken/ras/ND0013/Pos3/Pos3_images/img_channel099_position003_time000000555_z000.tif',\n",
       " '/home/nathan/data/kraken/ras/ND0013/Pos3/Pos3_images/img_channel099_position003_time000000556_z000.tif',\n",
       " '/home/nathan/data/kraken/ras/ND0013/Pos3/Pos3_images/img_channel099_position003_time000000557_z000.tif',\n",
       " '/home/nathan/data/kraken/ras/ND0013/Pos3/Pos3_images/img_channel099_position003_time000000558_z000.tif',\n",
       " '/home/nathan/data/kraken/ras/ND0013/Pos3/Pos3_images/img_channel099_position003_time000000559_z000.tif',\n",
       " '/home/nathan/data/kraken/ras/ND0013/Pos3/Pos3_images/img_channel099_position003_time000000560_z000.tif',\n",
       " '/home/nathan/data/kraken/ras/ND0013/Pos3/Pos3_images/img_channel099_position003_time000000561_z000.tif',\n",
       " '/home/nathan/data/kraken/ras/ND0013/Pos3/Pos3_images/img_channel099_position003_time000000562_z000.tif',\n",
       " '/home/nathan/data/kraken/ras/ND0013/Pos3/Pos3_images/img_channel099_position003_time000000563_z000.tif',\n",
       " '/home/nathan/data/kraken/ras/ND0013/Pos3/Pos3_images/img_channel099_position003_time000000564_z000.tif',\n",
       " '/home/nathan/data/kraken/ras/ND0013/Pos3/Pos3_images/img_channel099_position003_time000000565_z000.tif',\n",
       " '/home/nathan/data/kraken/ras/ND0013/Pos3/Pos3_images/img_channel099_position003_time000000566_z000.tif',\n",
       " '/home/nathan/data/kraken/ras/ND0013/Pos3/Pos3_images/img_channel099_position003_time000000567_z000.tif',\n",
       " '/home/nathan/data/kraken/ras/ND0013/Pos3/Pos3_images/img_channel099_position003_time000000568_z000.tif',\n",
       " '/home/nathan/data/kraken/ras/ND0013/Pos3/Pos3_images/img_channel099_position003_time000000569_z000.tif',\n",
       " '/home/nathan/data/kraken/ras/ND0013/Pos3/Pos3_images/img_channel099_position003_time000000570_z000.tif',\n",
       " '/home/nathan/data/kraken/ras/ND0013/Pos3/Pos3_images/img_channel099_position003_time000000571_z000.tif',\n",
       " '/home/nathan/data/kraken/ras/ND0013/Pos3/Pos3_images/img_channel099_position003_time000000572_z000.tif',\n",
       " '/home/nathan/data/kraken/ras/ND0013/Pos3/Pos3_images/img_channel099_position003_time000000573_z000.tif',\n",
       " '/home/nathan/data/kraken/ras/ND0013/Pos3/Pos3_images/img_channel099_position003_time000000574_z000.tif',\n",
       " '/home/nathan/data/kraken/ras/ND0013/Pos3/Pos3_images/img_channel099_position003_time000000575_z000.tif',\n",
       " '/home/nathan/data/kraken/ras/ND0013/Pos3/Pos3_images/img_channel099_position003_time000000576_z000.tif',\n",
       " '/home/nathan/data/kraken/ras/ND0013/Pos3/Pos3_images/img_channel099_position003_time000000577_z000.tif',\n",
       " '/home/nathan/data/kraken/ras/ND0013/Pos3/Pos3_images/img_channel099_position003_time000000578_z000.tif',\n",
       " '/home/nathan/data/kraken/ras/ND0013/Pos3/Pos3_images/img_channel099_position003_time000000579_z000.tif',\n",
       " '/home/nathan/data/kraken/ras/ND0013/Pos3/Pos3_images/img_channel099_position003_time000000580_z000.tif',\n",
       " '/home/nathan/data/kraken/ras/ND0013/Pos3/Pos3_images/img_channel099_position003_time000000581_z000.tif',\n",
       " '/home/nathan/data/kraken/ras/ND0013/Pos3/Pos3_images/img_channel099_position003_time000000582_z000.tif',\n",
       " '/home/nathan/data/kraken/ras/ND0013/Pos3/Pos3_images/img_channel099_position003_time000000583_z000.tif',\n",
       " '/home/nathan/data/kraken/ras/ND0013/Pos3/Pos3_images/img_channel099_position003_time000000584_z000.tif',\n",
       " '/home/nathan/data/kraken/ras/ND0013/Pos3/Pos3_images/img_channel099_position003_time000000585_z000.tif',\n",
       " '/home/nathan/data/kraken/ras/ND0013/Pos3/Pos3_images/img_channel099_position003_time000000586_z000.tif',\n",
       " '/home/nathan/data/kraken/ras/ND0013/Pos3/Pos3_images/img_channel099_position003_time000000587_z000.tif',\n",
       " '/home/nathan/data/kraken/ras/ND0013/Pos3/Pos3_images/img_channel099_position003_time000000588_z000.tif',\n",
       " '/home/nathan/data/kraken/ras/ND0013/Pos3/Pos3_images/img_channel099_position003_time000000589_z000.tif',\n",
       " '/home/nathan/data/kraken/ras/ND0013/Pos3/Pos3_images/img_channel099_position003_time000000590_z000.tif',\n",
       " '/home/nathan/data/kraken/ras/ND0013/Pos3/Pos3_images/img_channel099_position003_time000000591_z000.tif',\n",
       " '/home/nathan/data/kraken/ras/ND0013/Pos3/Pos3_images/img_channel099_position003_time000000592_z000.tif',\n",
       " '/home/nathan/data/kraken/ras/ND0013/Pos3/Pos3_images/img_channel099_position003_time000000593_z000.tif',\n",
       " '/home/nathan/data/kraken/ras/ND0013/Pos3/Pos3_images/img_channel099_position003_time000000594_z000.tif',\n",
       " '/home/nathan/data/kraken/ras/ND0013/Pos3/Pos3_images/img_channel099_position003_time000000596_z000.tif',\n",
       " '/home/nathan/data/kraken/ras/ND0013/Pos3/Pos3_images/img_channel099_position003_time000000597_z000.tif',\n",
       " '/home/nathan/data/kraken/ras/ND0013/Pos3/Pos3_images/img_channel099_position003_time000000598_z000.tif',\n",
       " '/home/nathan/data/kraken/ras/ND0013/Pos3/Pos3_images/img_channel099_position003_time000000599_z000.tif',\n",
       " '/home/nathan/data/kraken/ras/ND0013/Pos3/Pos3_images/img_channel099_position003_time000000600_z000.tif',\n",
       " '/home/nathan/data/kraken/ras/ND0013/Pos3/Pos3_images/img_channel099_position003_time000000601_z000.tif',\n",
       " '/home/nathan/data/kraken/ras/ND0013/Pos3/Pos3_images/img_channel099_position003_time000000602_z000.tif',\n",
       " '/home/nathan/data/kraken/ras/ND0013/Pos3/Pos3_images/img_channel099_position003_time000000603_z000.tif',\n",
       " '/home/nathan/data/kraken/ras/ND0013/Pos3/Pos3_images/img_channel099_position003_time000000604_z000.tif',\n",
       " '/home/nathan/data/kraken/ras/ND0013/Pos3/Pos3_images/img_channel099_position003_time000000605_z000.tif',\n",
       " '/home/nathan/data/kraken/ras/ND0013/Pos3/Pos3_images/img_channel099_position003_time000000606_z000.tif',\n",
       " '/home/nathan/data/kraken/ras/ND0013/Pos3/Pos3_images/img_channel099_position003_time000000607_z000.tif',\n",
       " '/home/nathan/data/kraken/ras/ND0013/Pos3/Pos3_images/img_channel099_position003_time000000608_z000.tif',\n",
       " '/home/nathan/data/kraken/ras/ND0013/Pos3/Pos3_images/img_channel099_position003_time000000609_z000.tif',\n",
       " '/home/nathan/data/kraken/ras/ND0013/Pos3/Pos3_images/img_channel099_position003_time000000610_z000.tif',\n",
       " '/home/nathan/data/kraken/ras/ND0013/Pos3/Pos3_images/img_channel099_position003_time000000611_z000.tif',\n",
       " '/home/nathan/data/kraken/ras/ND0013/Pos3/Pos3_images/img_channel099_position003_time000000612_z000.tif',\n",
       " '/home/nathan/data/kraken/ras/ND0013/Pos3/Pos3_images/img_channel099_position003_time000000613_z000.tif',\n",
       " '/home/nathan/data/kraken/ras/ND0013/Pos3/Pos3_images/img_channel099_position003_time000000614_z000.tif',\n",
       " '/home/nathan/data/kraken/ras/ND0013/Pos3/Pos3_images/img_channel099_position003_time000000615_z000.tif',\n",
       " '/home/nathan/data/kraken/ras/ND0013/Pos3/Pos3_images/img_channel099_position003_time000000616_z000.tif',\n",
       " '/home/nathan/data/kraken/ras/ND0013/Pos3/Pos3_images/img_channel099_position003_time000000617_z000.tif',\n",
       " '/home/nathan/data/kraken/ras/ND0013/Pos3/Pos3_images/img_channel099_position003_time000000618_z000.tif',\n",
       " '/home/nathan/data/kraken/ras/ND0013/Pos3/Pos3_images/img_channel099_position003_time000000619_z000.tif',\n",
       " '/home/nathan/data/kraken/ras/ND0013/Pos3/Pos3_images/img_channel099_position003_time000000620_z000.tif',\n",
       " '/home/nathan/data/kraken/ras/ND0013/Pos3/Pos3_images/img_channel099_position003_time000000621_z000.tif',\n",
       " '/home/nathan/data/kraken/ras/ND0013/Pos3/Pos3_images/img_channel099_position003_time000000622_z000.tif',\n",
       " '/home/nathan/data/kraken/ras/ND0013/Pos3/Pos3_images/img_channel099_position003_time000000623_z000.tif',\n",
       " '/home/nathan/data/kraken/ras/ND0013/Pos3/Pos3_images/img_channel099_position003_time000000624_z000.tif',\n",
       " '/home/nathan/data/kraken/ras/ND0013/Pos3/Pos3_images/img_channel099_position003_time000000625_z000.tif',\n",
       " '/home/nathan/data/kraken/ras/ND0013/Pos3/Pos3_images/img_channel099_position003_time000000626_z000.tif',\n",
       " '/home/nathan/data/kraken/ras/ND0013/Pos3/Pos3_images/img_channel099_position003_time000000627_z000.tif',\n",
       " '/home/nathan/data/kraken/ras/ND0013/Pos3/Pos3_images/img_channel099_position003_time000000628_z000.tif',\n",
       " '/home/nathan/data/kraken/ras/ND0013/Pos3/Pos3_images/img_channel099_position003_time000000629_z000.tif',\n",
       " '/home/nathan/data/kraken/ras/ND0013/Pos3/Pos3_images/img_channel099_position003_time000000630_z000.tif',\n",
       " '/home/nathan/data/kraken/ras/ND0013/Pos3/Pos3_images/img_channel099_position003_time000000632_z000.tif',\n",
       " '/home/nathan/data/kraken/ras/ND0013/Pos3/Pos3_images/img_channel099_position003_time000000633_z000.tif',\n",
       " '/home/nathan/data/kraken/ras/ND0013/Pos3/Pos3_images/img_channel099_position003_time000000634_z000.tif',\n",
       " '/home/nathan/data/kraken/ras/ND0013/Pos3/Pos3_images/img_channel099_position003_time000000635_z000.tif',\n",
       " '/home/nathan/data/kraken/ras/ND0013/Pos3/Pos3_images/img_channel099_position003_time000000636_z000.tif',\n",
       " '/home/nathan/data/kraken/ras/ND0013/Pos3/Pos3_images/img_channel099_position003_time000000637_z000.tif',\n",
       " '/home/nathan/data/kraken/ras/ND0013/Pos3/Pos3_images/img_channel099_position003_time000000638_z000.tif',\n",
       " '/home/nathan/data/kraken/ras/ND0013/Pos3/Pos3_images/img_channel099_position003_time000000639_z000.tif',\n",
       " '/home/nathan/data/kraken/ras/ND0013/Pos3/Pos3_images/img_channel099_position003_time000000640_z000.tif',\n",
       " '/home/nathan/data/kraken/ras/ND0013/Pos3/Pos3_images/img_channel099_position003_time000000641_z000.tif',\n",
       " '/home/nathan/data/kraken/ras/ND0013/Pos3/Pos3_images/img_channel099_position003_time000000642_z000.tif',\n",
       " '/home/nathan/data/kraken/ras/ND0013/Pos3/Pos3_images/img_channel099_position003_time000000643_z000.tif',\n",
       " '/home/nathan/data/kraken/ras/ND0013/Pos3/Pos3_images/img_channel099_position003_time000000644_z000.tif',\n",
       " '/home/nathan/data/kraken/ras/ND0013/Pos3/Pos3_images/img_channel099_position003_time000000645_z000.tif',\n",
       " '/home/nathan/data/kraken/ras/ND0013/Pos3/Pos3_images/img_channel099_position003_time000000646_z000.tif',\n",
       " '/home/nathan/data/kraken/ras/ND0013/Pos3/Pos3_images/img_channel099_position003_time000000648_z000.tif',\n",
       " '/home/nathan/data/kraken/ras/ND0013/Pos3/Pos3_images/img_channel099_position003_time000000649_z000.tif',\n",
       " '/home/nathan/data/kraken/ras/ND0013/Pos3/Pos3_images/img_channel099_position003_time000000650_z000.tif',\n",
       " '/home/nathan/data/kraken/ras/ND0013/Pos3/Pos3_images/img_channel099_position003_time000000651_z000.tif',\n",
       " '/home/nathan/data/kraken/ras/ND0013/Pos3/Pos3_images/img_channel099_position003_time000000652_z000.tif',\n",
       " '/home/nathan/data/kraken/ras/ND0013/Pos3/Pos3_images/img_channel099_position003_time000000653_z000.tif',\n",
       " '/home/nathan/data/kraken/ras/ND0013/Pos3/Pos3_images/img_channel099_position003_time000000654_z000.tif',\n",
       " '/home/nathan/data/kraken/ras/ND0013/Pos3/Pos3_images/img_channel099_position003_time000000655_z000.tif',\n",
       " '/home/nathan/data/kraken/ras/ND0013/Pos3/Pos3_images/img_channel099_position003_time000000656_z000.tif',\n",
       " '/home/nathan/data/kraken/ras/ND0013/Pos3/Pos3_images/img_channel099_position003_time000000657_z000.tif',\n",
       " '/home/nathan/data/kraken/ras/ND0013/Pos3/Pos3_images/img_channel099_position003_time000000658_z000.tif',\n",
       " '/home/nathan/data/kraken/ras/ND0013/Pos3/Pos3_images/img_channel099_position003_time000000659_z000.tif',\n",
       " '/home/nathan/data/kraken/ras/ND0013/Pos3/Pos3_images/img_channel099_position003_time000000660_z000.tif',\n",
       " '/home/nathan/data/kraken/ras/ND0013/Pos3/Pos3_images/img_channel099_position003_time000000661_z000.tif',\n",
       " '/home/nathan/data/kraken/ras/ND0013/Pos3/Pos3_images/img_channel099_position003_time000000662_z000.tif',\n",
       " '/home/nathan/data/kraken/ras/ND0013/Pos3/Pos3_images/img_channel099_position003_time000000663_z000.tif',\n",
       " '/home/nathan/data/kraken/ras/ND0013/Pos3/Pos3_images/img_channel099_position003_time000000664_z000.tif',\n",
       " '/home/nathan/data/kraken/ras/ND0013/Pos3/Pos3_images/img_channel099_position003_time000000665_z000.tif',\n",
       " '/home/nathan/data/kraken/ras/ND0013/Pos3/Pos3_images/img_channel099_position003_time000000666_z000.tif',\n",
       " '/home/nathan/data/kraken/ras/ND0013/Pos3/Pos3_images/img_channel099_position003_time000000667_z000.tif',\n",
       " '/home/nathan/data/kraken/ras/ND0013/Pos3/Pos3_images/img_channel099_position003_time000000668_z000.tif',\n",
       " '/home/nathan/data/kraken/ras/ND0013/Pos3/Pos3_images/img_channel099_position003_time000000669_z000.tif',\n",
       " '/home/nathan/data/kraken/ras/ND0013/Pos3/Pos3_images/img_channel099_position003_time000000670_z000.tif',\n",
       " '/home/nathan/data/kraken/ras/ND0013/Pos3/Pos3_images/img_channel099_position003_time000000671_z000.tif',\n",
       " '/home/nathan/data/kraken/ras/ND0013/Pos3/Pos3_images/img_channel099_position003_time000000672_z000.tif',\n",
       " '/home/nathan/data/kraken/ras/ND0013/Pos3/Pos3_images/img_channel099_position003_time000000673_z000.tif',\n",
       " '/home/nathan/data/kraken/ras/ND0013/Pos3/Pos3_images/img_channel099_position003_time000000674_z000.tif',\n",
       " '/home/nathan/data/kraken/ras/ND0013/Pos3/Pos3_images/img_channel099_position003_time000000675_z000.tif',\n",
       " '/home/nathan/data/kraken/ras/ND0013/Pos3/Pos3_images/img_channel099_position003_time000000676_z000.tif',\n",
       " '/home/nathan/data/kraken/ras/ND0013/Pos3/Pos3_images/img_channel099_position003_time000000677_z000.tif',\n",
       " '/home/nathan/data/kraken/ras/ND0013/Pos3/Pos3_images/img_channel099_position003_time000000678_z000.tif',\n",
       " '/home/nathan/data/kraken/ras/ND0013/Pos3/Pos3_images/img_channel099_position003_time000000679_z000.tif',\n",
       " '/home/nathan/data/kraken/ras/ND0013/Pos3/Pos3_images/img_channel099_position003_time000000680_z000.tif',\n",
       " '/home/nathan/data/kraken/ras/ND0013/Pos3/Pos3_images/img_channel099_position003_time000000681_z000.tif',\n",
       " '/home/nathan/data/kraken/ras/ND0013/Pos3/Pos3_images/img_channel099_position003_time000000682_z000.tif',\n",
       " '/home/nathan/data/kraken/ras/ND0013/Pos3/Pos3_images/img_channel099_position003_time000000683_z000.tif',\n",
       " '/home/nathan/data/kraken/ras/ND0013/Pos3/Pos3_images/img_channel099_position003_time000000684_z000.tif',\n",
       " '/home/nathan/data/kraken/ras/ND0013/Pos3/Pos3_images/img_channel099_position003_time000000685_z000.tif',\n",
       " '/home/nathan/data/kraken/ras/ND0013/Pos3/Pos3_images/img_channel099_position003_time000000686_z000.tif',\n",
       " '/home/nathan/data/kraken/ras/ND0013/Pos3/Pos3_images/img_channel099_position003_time000000687_z000.tif',\n",
       " '/home/nathan/data/kraken/ras/ND0013/Pos3/Pos3_images/img_channel099_position003_time000000688_z000.tif',\n",
       " '/home/nathan/data/kraken/ras/ND0013/Pos3/Pos3_images/img_channel099_position003_time000000689_z000.tif',\n",
       " '/home/nathan/data/kraken/ras/ND0013/Pos3/Pos3_images/img_channel099_position003_time000000690_z000.tif',\n",
       " '/home/nathan/data/kraken/ras/ND0013/Pos3/Pos3_images/img_channel099_position003_time000000691_z000.tif',\n",
       " '/home/nathan/data/kraken/ras/ND0013/Pos3/Pos3_images/img_channel099_position003_time000000692_z000.tif',\n",
       " '/home/nathan/data/kraken/ras/ND0013/Pos3/Pos3_images/img_channel099_position003_time000000693_z000.tif',\n",
       " '/home/nathan/data/kraken/ras/ND0013/Pos3/Pos3_images/img_channel099_position003_time000000694_z000.tif',\n",
       " '/home/nathan/data/kraken/ras/ND0013/Pos3/Pos3_images/img_channel099_position003_time000000695_z000.tif',\n",
       " '/home/nathan/data/kraken/ras/ND0013/Pos3/Pos3_images/img_channel099_position003_time000000696_z000.tif',\n",
       " '/home/nathan/data/kraken/ras/ND0013/Pos3/Pos3_images/img_channel099_position003_time000000697_z000.tif',\n",
       " '/home/nathan/data/kraken/ras/ND0013/Pos3/Pos3_images/img_channel099_position003_time000000698_z000.tif',\n",
       " '/home/nathan/data/kraken/ras/ND0013/Pos3/Pos3_images/img_channel099_position003_time000000699_z000.tif',\n",
       " '/home/nathan/data/kraken/ras/ND0013/Pos3/Pos3_images/img_channel099_position003_time000000700_z000.tif',\n",
       " '/home/nathan/data/kraken/ras/ND0013/Pos3/Pos3_images/img_channel099_position003_time000000701_z000.tif',\n",
       " '/home/nathan/data/kraken/ras/ND0013/Pos3/Pos3_images/img_channel099_position003_time000000702_z000.tif',\n",
       " '/home/nathan/data/kraken/ras/ND0013/Pos3/Pos3_images/img_channel099_position003_time000000703_z000.tif',\n",
       " '/home/nathan/data/kraken/ras/ND0013/Pos3/Pos3_images/img_channel099_position003_time000000704_z000.tif',\n",
       " '/home/nathan/data/kraken/ras/ND0013/Pos3/Pos3_images/img_channel099_position003_time000000705_z000.tif',\n",
       " '/home/nathan/data/kraken/ras/ND0013/Pos3/Pos3_images/img_channel099_position003_time000000706_z000.tif',\n",
       " '/home/nathan/data/kraken/ras/ND0013/Pos3/Pos3_images/img_channel099_position003_time000000707_z000.tif',\n",
       " '/home/nathan/data/kraken/ras/ND0013/Pos3/Pos3_images/img_channel099_position003_time000000708_z000.tif',\n",
       " '/home/nathan/data/kraken/ras/ND0013/Pos3/Pos3_images/img_channel099_position003_time000000709_z000.tif',\n",
       " '/home/nathan/data/kraken/ras/ND0013/Pos3/Pos3_images/img_channel099_position003_time000000710_z000.tif',\n",
       " '/home/nathan/data/kraken/ras/ND0013/Pos3/Pos3_images/img_channel099_position003_time000000711_z000.tif',\n",
       " '/home/nathan/data/kraken/ras/ND0013/Pos3/Pos3_images/img_channel099_position003_time000000712_z000.tif',\n",
       " '/home/nathan/data/kraken/ras/ND0013/Pos3/Pos3_images/img_channel099_position003_time000000713_z000.tif',\n",
       " '/home/nathan/data/kraken/ras/ND0013/Pos3/Pos3_images/img_channel099_position003_time000000714_z000.tif',\n",
       " '/home/nathan/data/kraken/ras/ND0013/Pos3/Pos3_images/img_channel099_position003_time000000715_z000.tif',\n",
       " '/home/nathan/data/kraken/ras/ND0013/Pos3/Pos3_images/img_channel099_position003_time000000716_z000.tif',\n",
       " '/home/nathan/data/kraken/ras/ND0013/Pos3/Pos3_images/img_channel099_position003_time000000717_z000.tif',\n",
       " '/home/nathan/data/kraken/ras/ND0013/Pos3/Pos3_images/img_channel099_position003_time000000718_z000.tif',\n",
       " '/home/nathan/data/kraken/ras/ND0013/Pos3/Pos3_images/img_channel099_position003_time000000719_z000.tif',\n",
       " '/home/nathan/data/kraken/ras/ND0013/Pos3/Pos3_images/img_channel099_position003_time000000720_z000.tif',\n",
       " '/home/nathan/data/kraken/ras/ND0013/Pos3/Pos3_images/img_channel099_position003_time000000721_z000.tif',\n",
       " '/home/nathan/data/kraken/ras/ND0013/Pos3/Pos3_images/img_channel099_position003_time000000722_z000.tif',\n",
       " '/home/nathan/data/kraken/ras/ND0013/Pos3/Pos3_images/img_channel099_position003_time000000723_z000.tif',\n",
       " '/home/nathan/data/kraken/ras/ND0013/Pos3/Pos3_images/img_channel099_position003_time000000724_z000.tif',\n",
       " '/home/nathan/data/kraken/ras/ND0013/Pos3/Pos3_images/img_channel099_position003_time000000725_z000.tif',\n",
       " '/home/nathan/data/kraken/ras/ND0013/Pos3/Pos3_images/img_channel099_position003_time000000726_z000.tif',\n",
       " '/home/nathan/data/kraken/ras/ND0013/Pos3/Pos3_images/img_channel099_position003_time000000727_z000.tif',\n",
       " '/home/nathan/data/kraken/ras/ND0013/Pos3/Pos3_images/img_channel099_position003_time000000728_z000.tif',\n",
       " '/home/nathan/data/kraken/ras/ND0013/Pos3/Pos3_images/img_channel099_position003_time000000729_z000.tif',\n",
       " '/home/nathan/data/kraken/ras/ND0013/Pos3/Pos3_images/img_channel099_position003_time000000730_z000.tif',\n",
       " '/home/nathan/data/kraken/ras/ND0013/Pos3/Pos3_images/img_channel099_position003_time000000731_z000.tif',\n",
       " '/home/nathan/data/kraken/ras/ND0013/Pos3/Pos3_images/img_channel099_position003_time000000732_z000.tif',\n",
       " '/home/nathan/data/kraken/ras/ND0013/Pos3/Pos3_images/img_channel099_position003_time000000733_z000.tif',\n",
       " '/home/nathan/data/kraken/ras/ND0013/Pos3/Pos3_images/img_channel099_position003_time000000734_z000.tif',\n",
       " '/home/nathan/data/kraken/ras/ND0013/Pos3/Pos3_images/img_channel099_position003_time000000735_z000.tif',\n",
       " '/home/nathan/data/kraken/ras/ND0013/Pos3/Pos3_images/img_channel099_position003_time000000736_z000.tif',\n",
       " '/home/nathan/data/kraken/ras/ND0013/Pos3/Pos3_images/img_channel099_position003_time000000737_z000.tif',\n",
       " '/home/nathan/data/kraken/ras/ND0013/Pos3/Pos3_images/img_channel099_position003_time000000738_z000.tif',\n",
       " '/home/nathan/data/kraken/ras/ND0013/Pos3/Pos3_images/img_channel099_position003_time000000739_z000.tif',\n",
       " '/home/nathan/data/kraken/ras/ND0013/Pos3/Pos3_images/img_channel099_position003_time000000740_z000.tif',\n",
       " '/home/nathan/data/kraken/ras/ND0013/Pos3/Pos3_images/img_channel099_position003_time000000741_z000.tif',\n",
       " '/home/nathan/data/kraken/ras/ND0013/Pos3/Pos3_images/img_channel099_position003_time000000742_z000.tif',\n",
       " '/home/nathan/data/kraken/ras/ND0013/Pos3/Pos3_images/img_channel099_position003_time000000743_z000.tif',\n",
       " '/home/nathan/data/kraken/ras/ND0013/Pos3/Pos3_images/img_channel099_position003_time000000744_z000.tif',\n",
       " '/home/nathan/data/kraken/ras/ND0013/Pos3/Pos3_images/img_channel099_position003_time000000745_z000.tif',\n",
       " '/home/nathan/data/kraken/ras/ND0013/Pos3/Pos3_images/img_channel099_position003_time000000746_z000.tif',\n",
       " '/home/nathan/data/kraken/ras/ND0013/Pos3/Pos3_images/img_channel099_position003_time000000747_z000.tif',\n",
       " '/home/nathan/data/kraken/ras/ND0013/Pos3/Pos3_images/img_channel099_position003_time000000748_z000.tif',\n",
       " '/home/nathan/data/kraken/ras/ND0013/Pos3/Pos3_images/img_channel099_position003_time000000749_z000.tif',\n",
       " '/home/nathan/data/kraken/ras/ND0013/Pos3/Pos3_images/img_channel099_position003_time000000750_z000.tif',\n",
       " '/home/nathan/data/kraken/ras/ND0013/Pos3/Pos3_images/img_channel099_position003_time000000751_z000.tif',\n",
       " '/home/nathan/data/kraken/ras/ND0013/Pos3/Pos3_images/img_channel099_position003_time000000752_z000.tif',\n",
       " '/home/nathan/data/kraken/ras/ND0013/Pos3/Pos3_images/img_channel099_position003_time000000753_z000.tif',\n",
       " '/home/nathan/data/kraken/ras/ND0013/Pos3/Pos3_images/img_channel099_position003_time000000754_z000.tif',\n",
       " '/home/nathan/data/kraken/ras/ND0013/Pos3/Pos3_images/img_channel099_position003_time000000755_z000.tif',\n",
       " '/home/nathan/data/kraken/ras/ND0013/Pos3/Pos3_images/img_channel099_position003_time000000756_z000.tif',\n",
       " '/home/nathan/data/kraken/ras/ND0013/Pos3/Pos3_images/img_channel099_position003_time000000757_z000.tif',\n",
       " '/home/nathan/data/kraken/ras/ND0013/Pos3/Pos3_images/img_channel099_position003_time000000758_z000.tif',\n",
       " '/home/nathan/data/kraken/ras/ND0013/Pos3/Pos3_images/img_channel099_position003_time000000759_z000.tif',\n",
       " '/home/nathan/data/kraken/ras/ND0013/Pos3/Pos3_images/img_channel099_position003_time000000760_z000.tif',\n",
       " '/home/nathan/data/kraken/ras/ND0013/Pos3/Pos3_images/img_channel099_position003_time000000761_z000.tif',\n",
       " '/home/nathan/data/kraken/ras/ND0013/Pos3/Pos3_images/img_channel099_position003_time000000762_z000.tif',\n",
       " '/home/nathan/data/kraken/ras/ND0013/Pos3/Pos3_images/img_channel099_position003_time000000763_z000.tif',\n",
       " '/home/nathan/data/kraken/ras/ND0013/Pos3/Pos3_images/img_channel099_position003_time000000764_z000.tif',\n",
       " '/home/nathan/data/kraken/ras/ND0013/Pos3/Pos3_images/img_channel099_position003_time000000765_z000.tif',\n",
       " '/home/nathan/data/kraken/ras/ND0013/Pos3/Pos3_images/img_channel099_position003_time000000766_z000.tif',\n",
       " '/home/nathan/data/kraken/ras/ND0013/Pos3/Pos3_images/img_channel099_position003_time000000767_z000.tif',\n",
       " '/home/nathan/data/kraken/ras/ND0013/Pos3/Pos3_images/img_channel099_position003_time000000768_z000.tif',\n",
       " '/home/nathan/data/kraken/ras/ND0013/Pos3/Pos3_images/img_channel099_position003_time000000769_z000.tif',\n",
       " '/home/nathan/data/kraken/ras/ND0013/Pos3/Pos3_images/img_channel099_position003_time000000770_z000.tif',\n",
       " '/home/nathan/data/kraken/ras/ND0013/Pos3/Pos3_images/img_channel099_position003_time000000771_z000.tif',\n",
       " '/home/nathan/data/kraken/ras/ND0013/Pos3/Pos3_images/img_channel099_position003_time000000772_z000.tif',\n",
       " '/home/nathan/data/kraken/ras/ND0013/Pos3/Pos3_images/img_channel099_position003_time000000773_z000.tif',\n",
       " '/home/nathan/data/kraken/ras/ND0013/Pos3/Pos3_images/img_channel099_position003_time000000774_z000.tif',\n",
       " '/home/nathan/data/kraken/ras/ND0013/Pos3/Pos3_images/img_channel099_position003_time000000775_z000.tif',\n",
       " '/home/nathan/data/kraken/ras/ND0013/Pos3/Pos3_images/img_channel099_position003_time000000776_z000.tif',\n",
       " '/home/nathan/data/kraken/ras/ND0013/Pos3/Pos3_images/img_channel099_position003_time000000777_z000.tif',\n",
       " '/home/nathan/data/kraken/ras/ND0013/Pos3/Pos3_images/img_channel099_position003_time000000778_z000.tif',\n",
       " '/home/nathan/data/kraken/ras/ND0013/Pos3/Pos3_images/img_channel099_position003_time000000779_z000.tif',\n",
       " '/home/nathan/data/kraken/ras/ND0013/Pos3/Pos3_images/img_channel099_position003_time000000780_z000.tif',\n",
       " '/home/nathan/data/kraken/ras/ND0013/Pos3/Pos3_images/img_channel099_position003_time000000781_z000.tif',\n",
       " '/home/nathan/data/kraken/ras/ND0013/Pos3/Pos3_images/img_channel099_position003_time000000782_z000.tif',\n",
       " '/home/nathan/data/kraken/ras/ND0013/Pos3/Pos3_images/img_channel099_position003_time000000783_z000.tif',\n",
       " '/home/nathan/data/kraken/ras/ND0013/Pos3/Pos3_images/img_channel099_position003_time000000784_z000.tif',\n",
       " '/home/nathan/data/kraken/ras/ND0013/Pos3/Pos3_images/img_channel099_position003_time000000785_z000.tif',\n",
       " '/home/nathan/data/kraken/ras/ND0013/Pos3/Pos3_images/img_channel099_position003_time000000786_z000.tif',\n",
       " '/home/nathan/data/kraken/ras/ND0013/Pos3/Pos3_images/img_channel099_position003_time000000787_z000.tif',\n",
       " '/home/nathan/data/kraken/ras/ND0013/Pos3/Pos3_images/img_channel099_position003_time000000788_z000.tif',\n",
       " '/home/nathan/data/kraken/ras/ND0013/Pos3/Pos3_images/img_channel099_position003_time000000789_z000.tif',\n",
       " '/home/nathan/data/kraken/ras/ND0013/Pos3/Pos3_images/img_channel099_position003_time000000790_z000.tif',\n",
       " '/home/nathan/data/kraken/ras/ND0013/Pos3/Pos3_images/img_channel099_position003_time000000791_z000.tif',\n",
       " '/home/nathan/data/kraken/ras/ND0013/Pos3/Pos3_images/img_channel099_position003_time000000792_z000.tif',\n",
       " '/home/nathan/data/kraken/ras/ND0013/Pos3/Pos3_images/img_channel099_position003_time000000793_z000.tif',\n",
       " '/home/nathan/data/kraken/ras/ND0013/Pos3/Pos3_images/img_channel099_position003_time000000794_z000.tif',\n",
       " '/home/nathan/data/kraken/ras/ND0013/Pos3/Pos3_images/img_channel099_position003_time000000795_z000.tif',\n",
       " '/home/nathan/data/kraken/ras/ND0013/Pos3/Pos3_images/img_channel099_position003_time000000796_z000.tif',\n",
       " '/home/nathan/data/kraken/ras/ND0013/Pos3/Pos3_images/img_channel099_position003_time000000797_z000.tif',\n",
       " '/home/nathan/data/kraken/ras/ND0013/Pos3/Pos3_images/img_channel099_position003_time000000798_z000.tif',\n",
       " '/home/nathan/data/kraken/ras/ND0013/Pos3/Pos3_images/img_channel099_position003_time000000799_z000.tif',\n",
       " '/home/nathan/data/kraken/ras/ND0013/Pos3/Pos3_images/img_channel099_position003_time000000800_z000.tif',\n",
       " '/home/nathan/data/kraken/ras/ND0013/Pos3/Pos3_images/img_channel099_position003_time000000801_z000.tif',\n",
       " '/home/nathan/data/kraken/ras/ND0013/Pos3/Pos3_images/img_channel099_position003_time000000802_z000.tif',\n",
       " '/home/nathan/data/kraken/ras/ND0013/Pos3/Pos3_images/img_channel099_position003_time000000803_z000.tif',\n",
       " '/home/nathan/data/kraken/ras/ND0013/Pos3/Pos3_images/img_channel099_position003_time000000804_z000.tif',\n",
       " '/home/nathan/data/kraken/ras/ND0013/Pos3/Pos3_images/img_channel099_position003_time000000805_z000.tif',\n",
       " '/home/nathan/data/kraken/ras/ND0013/Pos3/Pos3_images/img_channel099_position003_time000000806_z000.tif',\n",
       " '/home/nathan/data/kraken/ras/ND0013/Pos3/Pos3_images/img_channel099_position003_time000000807_z000.tif',\n",
       " '/home/nathan/data/kraken/ras/ND0013/Pos3/Pos3_images/img_channel099_position003_time000000808_z000.tif',\n",
       " '/home/nathan/data/kraken/ras/ND0013/Pos3/Pos3_images/img_channel099_position003_time000000809_z000.tif',\n",
       " '/home/nathan/data/kraken/ras/ND0013/Pos3/Pos3_images/img_channel099_position003_time000000810_z000.tif',\n",
       " '/home/nathan/data/kraken/ras/ND0013/Pos3/Pos3_images/img_channel099_position003_time000000811_z000.tif',\n",
       " '/home/nathan/data/kraken/ras/ND0013/Pos3/Pos3_images/img_channel099_position003_time000000812_z000.tif',\n",
       " '/home/nathan/data/kraken/ras/ND0013/Pos3/Pos3_images/img_channel099_position003_time000000813_z000.tif',\n",
       " '/home/nathan/data/kraken/ras/ND0013/Pos3/Pos3_images/img_channel099_position003_time000000814_z000.tif',\n",
       " '/home/nathan/data/kraken/ras/ND0013/Pos3/Pos3_images/img_channel099_position003_time000000815_z000.tif',\n",
       " '/home/nathan/data/kraken/ras/ND0013/Pos3/Pos3_images/img_channel099_position003_time000000816_z000.tif',\n",
       " '/home/nathan/data/kraken/ras/ND0013/Pos3/Pos3_images/img_channel099_position003_time000000817_z000.tif',\n",
       " '/home/nathan/data/kraken/ras/ND0013/Pos3/Pos3_images/img_channel099_position003_time000000818_z000.tif',\n",
       " '/home/nathan/data/kraken/ras/ND0013/Pos3/Pos3_images/img_channel099_position003_time000000819_z000.tif',\n",
       " '/home/nathan/data/kraken/ras/ND0013/Pos3/Pos3_images/img_channel099_position003_time000000820_z000.tif',\n",
       " '/home/nathan/data/kraken/ras/ND0013/Pos3/Pos3_images/img_channel099_position003_time000000821_z000.tif',\n",
       " '/home/nathan/data/kraken/ras/ND0013/Pos3/Pos3_images/img_channel099_position003_time000000822_z000.tif',\n",
       " '/home/nathan/data/kraken/ras/ND0013/Pos3/Pos3_images/img_channel099_position003_time000000823_z000.tif',\n",
       " '/home/nathan/data/kraken/ras/ND0013/Pos3/Pos3_images/img_channel099_position003_time000000824_z000.tif',\n",
       " '/home/nathan/data/kraken/ras/ND0013/Pos3/Pos3_images/img_channel099_position003_time000000825_z000.tif',\n",
       " '/home/nathan/data/kraken/ras/ND0013/Pos3/Pos3_images/img_channel099_position003_time000000826_z000.tif',\n",
       " '/home/nathan/data/kraken/ras/ND0013/Pos3/Pos3_images/img_channel099_position003_time000000827_z000.tif',\n",
       " '/home/nathan/data/kraken/ras/ND0013/Pos3/Pos3_images/img_channel099_position003_time000000828_z000.tif',\n",
       " '/home/nathan/data/kraken/ras/ND0013/Pos3/Pos3_images/img_channel099_position003_time000000829_z000.tif',\n",
       " '/home/nathan/data/kraken/ras/ND0013/Pos3/Pos3_images/img_channel099_position003_time000000830_z000.tif',\n",
       " '/home/nathan/data/kraken/ras/ND0013/Pos3/Pos3_images/img_channel099_position003_time000000831_z000.tif',\n",
       " '/home/nathan/data/kraken/ras/ND0013/Pos3/Pos3_images/img_channel099_position003_time000000832_z000.tif',\n",
       " '/home/nathan/data/kraken/ras/ND0013/Pos3/Pos3_images/img_channel099_position003_time000000833_z000.tif',\n",
       " '/home/nathan/data/kraken/ras/ND0013/Pos3/Pos3_images/img_channel099_position003_time000000834_z000.tif',\n",
       " '/home/nathan/data/kraken/ras/ND0013/Pos3/Pos3_images/img_channel099_position003_time000000835_z000.tif',\n",
       " '/home/nathan/data/kraken/ras/ND0013/Pos3/Pos3_images/img_channel099_position003_time000000836_z000.tif',\n",
       " '/home/nathan/data/kraken/ras/ND0013/Pos3/Pos3_images/img_channel099_position003_time000000837_z000.tif',\n",
       " '/home/nathan/data/kraken/ras/ND0013/Pos3/Pos3_images/img_channel099_position003_time000000838_z000.tif',\n",
       " '/home/nathan/data/kraken/ras/ND0013/Pos3/Pos3_images/img_channel099_position003_time000000839_z000.tif',\n",
       " '/home/nathan/data/kraken/ras/ND0013/Pos3/Pos3_images/img_channel099_position003_time000000840_z000.tif',\n",
       " '/home/nathan/data/kraken/ras/ND0013/Pos3/Pos3_images/img_channel099_position003_time000000841_z000.tif',\n",
       " '/home/nathan/data/kraken/ras/ND0013/Pos3/Pos3_images/img_channel099_position003_time000000842_z000.tif',\n",
       " '/home/nathan/data/kraken/ras/ND0013/Pos3/Pos3_images/img_channel099_position003_time000000843_z000.tif',\n",
       " '/home/nathan/data/kraken/ras/ND0013/Pos3/Pos3_images/img_channel099_position003_time000000844_z000.tif',\n",
       " '/home/nathan/data/kraken/ras/ND0013/Pos3/Pos3_images/img_channel099_position003_time000000845_z000.tif',\n",
       " '/home/nathan/data/kraken/ras/ND0013/Pos3/Pos3_images/img_channel099_position003_time000000846_z000.tif',\n",
       " '/home/nathan/data/kraken/ras/ND0013/Pos3/Pos3_images/img_channel099_position003_time000000847_z000.tif',\n",
       " '/home/nathan/data/kraken/ras/ND0013/Pos3/Pos3_images/img_channel099_position003_time000000849_z000.tif',\n",
       " '/home/nathan/data/kraken/ras/ND0013/Pos3/Pos3_images/img_channel099_position003_time000000850_z000.tif',\n",
       " '/home/nathan/data/kraken/ras/ND0013/Pos3/Pos3_images/img_channel099_position003_time000000851_z000.tif',\n",
       " '/home/nathan/data/kraken/ras/ND0013/Pos3/Pos3_images/img_channel099_position003_time000000852_z000.tif',\n",
       " '/home/nathan/data/kraken/ras/ND0013/Pos3/Pos3_images/img_channel099_position003_time000000853_z000.tif',\n",
       " '/home/nathan/data/kraken/ras/ND0013/Pos3/Pos3_images/img_channel099_position003_time000000854_z000.tif',\n",
       " '/home/nathan/data/kraken/ras/ND0013/Pos3/Pos3_images/img_channel099_position003_time000000855_z000.tif',\n",
       " '/home/nathan/data/kraken/ras/ND0013/Pos3/Pos3_images/img_channel099_position003_time000000856_z000.tif',\n",
       " '/home/nathan/data/kraken/ras/ND0013/Pos3/Pos3_images/img_channel099_position003_time000000857_z000.tif',\n",
       " '/home/nathan/data/kraken/ras/ND0013/Pos3/Pos3_images/img_channel099_position003_time000000858_z000.tif',\n",
       " '/home/nathan/data/kraken/ras/ND0013/Pos3/Pos3_images/img_channel099_position003_time000000859_z000.tif',\n",
       " '/home/nathan/data/kraken/ras/ND0013/Pos3/Pos3_images/img_channel099_position003_time000000860_z000.tif',\n",
       " '/home/nathan/data/kraken/ras/ND0013/Pos3/Pos3_images/img_channel099_position003_time000000861_z000.tif',\n",
       " '/home/nathan/data/kraken/ras/ND0013/Pos3/Pos3_images/img_channel099_position003_time000000862_z000.tif',\n",
       " '/home/nathan/data/kraken/ras/ND0013/Pos3/Pos3_images/img_channel099_position003_time000000863_z000.tif',\n",
       " '/home/nathan/data/kraken/ras/ND0013/Pos3/Pos3_images/img_channel099_position003_time000000864_z000.tif',\n",
       " '/home/nathan/data/kraken/ras/ND0013/Pos3/Pos3_images/img_channel099_position003_time000000865_z000.tif',\n",
       " '/home/nathan/data/kraken/ras/ND0013/Pos3/Pos3_images/img_channel099_position003_time000000866_z000.tif',\n",
       " '/home/nathan/data/kraken/ras/ND0013/Pos3/Pos3_images/img_channel099_position003_time000000867_z000.tif',\n",
       " '/home/nathan/data/kraken/ras/ND0013/Pos3/Pos3_images/img_channel099_position003_time000000868_z000.tif',\n",
       " '/home/nathan/data/kraken/ras/ND0013/Pos3/Pos3_images/img_channel099_position003_time000000869_z000.tif',\n",
       " '/home/nathan/data/kraken/ras/ND0013/Pos3/Pos3_images/img_channel099_position003_time000000870_z000.tif',\n",
       " '/home/nathan/data/kraken/ras/ND0013/Pos3/Pos3_images/img_channel099_position003_time000000871_z000.tif',\n",
       " '/home/nathan/data/kraken/ras/ND0013/Pos3/Pos3_images/img_channel099_position003_time000000872_z000.tif',\n",
       " '/home/nathan/data/kraken/ras/ND0013/Pos3/Pos3_images/img_channel099_position003_time000000873_z000.tif',\n",
       " '/home/nathan/data/kraken/ras/ND0013/Pos3/Pos3_images/img_channel099_position003_time000000874_z000.tif',\n",
       " '/home/nathan/data/kraken/ras/ND0013/Pos3/Pos3_images/img_channel099_position003_time000000875_z000.tif',\n",
       " '/home/nathan/data/kraken/ras/ND0013/Pos3/Pos3_images/img_channel099_position003_time000000876_z000.tif',\n",
       " '/home/nathan/data/kraken/ras/ND0013/Pos3/Pos3_images/img_channel099_position003_time000000877_z000.tif',\n",
       " '/home/nathan/data/kraken/ras/ND0013/Pos3/Pos3_images/img_channel099_position003_time000000878_z000.tif',\n",
       " '/home/nathan/data/kraken/ras/ND0013/Pos3/Pos3_images/img_channel099_position003_time000000879_z000.tif',\n",
       " '/home/nathan/data/kraken/ras/ND0013/Pos3/Pos3_images/img_channel099_position003_time000000880_z000.tif',\n",
       " '/home/nathan/data/kraken/ras/ND0013/Pos3/Pos3_images/img_channel099_position003_time000000881_z000.tif',\n",
       " '/home/nathan/data/kraken/ras/ND0013/Pos3/Pos3_images/img_channel099_position003_time000000882_z000.tif',\n",
       " '/home/nathan/data/kraken/ras/ND0013/Pos3/Pos3_images/img_channel099_position003_time000000883_z000.tif',\n",
       " '/home/nathan/data/kraken/ras/ND0013/Pos3/Pos3_images/img_channel099_position003_time000000884_z000.tif',\n",
       " '/home/nathan/data/kraken/ras/ND0013/Pos3/Pos3_images/img_channel099_position003_time000000885_z000.tif',\n",
       " '/home/nathan/data/kraken/ras/ND0013/Pos3/Pos3_images/img_channel099_position003_time000000886_z000.tif',\n",
       " '/home/nathan/data/kraken/ras/ND0013/Pos3/Pos3_images/img_channel099_position003_time000000887_z000.tif',\n",
       " '/home/nathan/data/kraken/ras/ND0013/Pos3/Pos3_images/img_channel099_position003_time000000888_z000.tif',\n",
       " '/home/nathan/data/kraken/ras/ND0013/Pos3/Pos3_images/img_channel099_position003_time000000889_z000.tif',\n",
       " '/home/nathan/data/kraken/ras/ND0013/Pos3/Pos3_images/img_channel099_position003_time000000890_z000.tif',\n",
       " '/home/nathan/data/kraken/ras/ND0013/Pos3/Pos3_images/img_channel099_position003_time000000891_z000.tif',\n",
       " '/home/nathan/data/kraken/ras/ND0013/Pos3/Pos3_images/img_channel099_position003_time000000892_z000.tif',\n",
       " '/home/nathan/data/kraken/ras/ND0013/Pos3/Pos3_images/img_channel099_position003_time000000893_z000.tif',\n",
       " '/home/nathan/data/kraken/ras/ND0013/Pos3/Pos3_images/img_channel099_position003_time000000894_z000.tif',\n",
       " '/home/nathan/data/kraken/ras/ND0013/Pos3/Pos3_images/img_channel099_position003_time000000895_z000.tif',\n",
       " '/home/nathan/data/kraken/ras/ND0013/Pos3/Pos3_images/img_channel099_position003_time000000896_z000.tif',\n",
       " '/home/nathan/data/kraken/ras/ND0013/Pos3/Pos3_images/img_channel099_position003_time000000897_z000.tif',\n",
       " '/home/nathan/data/kraken/ras/ND0013/Pos3/Pos3_images/img_channel099_position003_time000000898_z000.tif',\n",
       " '/home/nathan/data/kraken/ras/ND0013/Pos3/Pos3_images/img_channel099_position003_time000000899_z000.tif',\n",
       " '/home/nathan/data/kraken/ras/ND0013/Pos3/Pos3_images/img_channel099_position003_time000000900_z000.tif',\n",
       " '/home/nathan/data/kraken/ras/ND0013/Pos3/Pos3_images/img_channel099_position003_time000000901_z000.tif',\n",
       " '/home/nathan/data/kraken/ras/ND0013/Pos3/Pos3_images/img_channel099_position003_time000000902_z000.tif',\n",
       " '/home/nathan/data/kraken/ras/ND0013/Pos3/Pos3_images/img_channel099_position003_time000000903_z000.tif',\n",
       " '/home/nathan/data/kraken/ras/ND0013/Pos3/Pos3_images/img_channel099_position003_time000000904_z000.tif',\n",
       " '/home/nathan/data/kraken/ras/ND0013/Pos3/Pos3_images/img_channel099_position003_time000000905_z000.tif',\n",
       " '/home/nathan/data/kraken/ras/ND0013/Pos3/Pos3_images/img_channel099_position003_time000000906_z000.tif',\n",
       " '/home/nathan/data/kraken/ras/ND0013/Pos3/Pos3_images/img_channel099_position003_time000000907_z000.tif',\n",
       " '/home/nathan/data/kraken/ras/ND0013/Pos3/Pos3_images/img_channel099_position003_time000000908_z000.tif',\n",
       " '/home/nathan/data/kraken/ras/ND0013/Pos3/Pos3_images/img_channel099_position003_time000000909_z000.tif',\n",
       " '/home/nathan/data/kraken/ras/ND0013/Pos3/Pos3_images/img_channel099_position003_time000000910_z000.tif',\n",
       " '/home/nathan/data/kraken/ras/ND0013/Pos3/Pos3_images/img_channel099_position003_time000000911_z000.tif',\n",
       " '/home/nathan/data/kraken/ras/ND0013/Pos3/Pos3_images/img_channel099_position003_time000000912_z000.tif',\n",
       " '/home/nathan/data/kraken/ras/ND0013/Pos3/Pos3_images/img_channel099_position003_time000000913_z000.tif',\n",
       " '/home/nathan/data/kraken/ras/ND0013/Pos3/Pos3_images/img_channel099_position003_time000000914_z000.tif',\n",
       " '/home/nathan/data/kraken/ras/ND0013/Pos3/Pos3_images/img_channel099_position003_time000000915_z000.tif',\n",
       " '/home/nathan/data/kraken/ras/ND0013/Pos3/Pos3_images/img_channel099_position003_time000000916_z000.tif',\n",
       " '/home/nathan/data/kraken/ras/ND0013/Pos3/Pos3_images/img_channel099_position003_time000000917_z000.tif',\n",
       " '/home/nathan/data/kraken/ras/ND0013/Pos3/Pos3_images/img_channel099_position003_time000000918_z000.tif',\n",
       " '/home/nathan/data/kraken/ras/ND0013/Pos3/Pos3_images/img_channel099_position003_time000000919_z000.tif',\n",
       " '/home/nathan/data/kraken/ras/ND0013/Pos3/Pos3_images/img_channel099_position003_time000000920_z000.tif',\n",
       " '/home/nathan/data/kraken/ras/ND0013/Pos3/Pos3_images/img_channel099_position003_time000000921_z000.tif',\n",
       " '/home/nathan/data/kraken/ras/ND0013/Pos3/Pos3_images/img_channel099_position003_time000000922_z000.tif',\n",
       " '/home/nathan/data/kraken/ras/ND0013/Pos3/Pos3_images/img_channel099_position003_time000000923_z000.tif',\n",
       " '/home/nathan/data/kraken/ras/ND0013/Pos3/Pos3_images/img_channel099_position003_time000000924_z000.tif',\n",
       " '/home/nathan/data/kraken/ras/ND0013/Pos3/Pos3_images/img_channel099_position003_time000000925_z000.tif',\n",
       " '/home/nathan/data/kraken/ras/ND0013/Pos3/Pos3_images/img_channel099_position003_time000000926_z000.tif',\n",
       " '/home/nathan/data/kraken/ras/ND0013/Pos3/Pos3_images/img_channel099_position003_time000000927_z000.tif',\n",
       " '/home/nathan/data/kraken/ras/ND0013/Pos3/Pos3_images/img_channel099_position003_time000000928_z000.tif',\n",
       " '/home/nathan/data/kraken/ras/ND0013/Pos3/Pos3_images/img_channel099_position003_time000000929_z000.tif',\n",
       " '/home/nathan/data/kraken/ras/ND0013/Pos3/Pos3_images/img_channel099_position003_time000000930_z000.tif',\n",
       " '/home/nathan/data/kraken/ras/ND0013/Pos3/Pos3_images/img_channel099_position003_time000000931_z000.tif',\n",
       " '/home/nathan/data/kraken/ras/ND0013/Pos3/Pos3_images/img_channel099_position003_time000000932_z000.tif',\n",
       " '/home/nathan/data/kraken/ras/ND0013/Pos3/Pos3_images/img_channel099_position003_time000000933_z000.tif',\n",
       " '/home/nathan/data/kraken/ras/ND0013/Pos3/Pos3_images/img_channel099_position003_time000000934_z000.tif',\n",
       " '/home/nathan/data/kraken/ras/ND0013/Pos3/Pos3_images/img_channel099_position003_time000000935_z000.tif',\n",
       " '/home/nathan/data/kraken/ras/ND0013/Pos3/Pos3_images/img_channel099_position003_time000000936_z000.tif',\n",
       " '/home/nathan/data/kraken/ras/ND0013/Pos3/Pos3_images/img_channel099_position003_time000000937_z000.tif',\n",
       " '/home/nathan/data/kraken/ras/ND0013/Pos3/Pos3_images/img_channel099_position003_time000000938_z000.tif',\n",
       " '/home/nathan/data/kraken/ras/ND0013/Pos3/Pos3_images/img_channel099_position003_time000000939_z000.tif',\n",
       " '/home/nathan/data/kraken/ras/ND0013/Pos3/Pos3_images/img_channel099_position003_time000000940_z000.tif',\n",
       " '/home/nathan/data/kraken/ras/ND0013/Pos3/Pos3_images/img_channel099_position003_time000000941_z000.tif',\n",
       " '/home/nathan/data/kraken/ras/ND0013/Pos3/Pos3_images/img_channel099_position003_time000000942_z000.tif',\n",
       " '/home/nathan/data/kraken/ras/ND0013/Pos3/Pos3_images/img_channel099_position003_time000000943_z000.tif',\n",
       " '/home/nathan/data/kraken/ras/ND0013/Pos3/Pos3_images/img_channel099_position003_time000000944_z000.tif',\n",
       " '/home/nathan/data/kraken/ras/ND0013/Pos3/Pos3_images/img_channel099_position003_time000000945_z000.tif',\n",
       " '/home/nathan/data/kraken/ras/ND0013/Pos3/Pos3_images/img_channel099_position003_time000000946_z000.tif',\n",
       " '/home/nathan/data/kraken/ras/ND0013/Pos3/Pos3_images/img_channel099_position003_time000000947_z000.tif',\n",
       " '/home/nathan/data/kraken/ras/ND0013/Pos3/Pos3_images/img_channel099_position003_time000000948_z000.tif',\n",
       " '/home/nathan/data/kraken/ras/ND0013/Pos3/Pos3_images/img_channel099_position003_time000000949_z000.tif',\n",
       " '/home/nathan/data/kraken/ras/ND0013/Pos3/Pos3_images/img_channel099_position003_time000000950_z000.tif',\n",
       " '/home/nathan/data/kraken/ras/ND0013/Pos3/Pos3_images/img_channel099_position003_time000000951_z000.tif',\n",
       " '/home/nathan/data/kraken/ras/ND0013/Pos3/Pos3_images/img_channel099_position003_time000000952_z000.tif',\n",
       " '/home/nathan/data/kraken/ras/ND0013/Pos3/Pos3_images/img_channel099_position003_time000000953_z000.tif',\n",
       " '/home/nathan/data/kraken/ras/ND0013/Pos3/Pos3_images/img_channel099_position003_time000000954_z000.tif',\n",
       " '/home/nathan/data/kraken/ras/ND0013/Pos3/Pos3_images/img_channel099_position003_time000000955_z000.tif',\n",
       " '/home/nathan/data/kraken/ras/ND0013/Pos3/Pos3_images/img_channel099_position003_time000000956_z000.tif',\n",
       " '/home/nathan/data/kraken/ras/ND0013/Pos3/Pos3_images/img_channel099_position003_time000000957_z000.tif',\n",
       " '/home/nathan/data/kraken/ras/ND0013/Pos3/Pos3_images/img_channel099_position003_time000000958_z000.tif',\n",
       " '/home/nathan/data/kraken/ras/ND0013/Pos3/Pos3_images/img_channel099_position003_time000000959_z000.tif',\n",
       " '/home/nathan/data/kraken/ras/ND0013/Pos3/Pos3_images/img_channel099_position003_time000000960_z000.tif',\n",
       " '/home/nathan/data/kraken/ras/ND0013/Pos3/Pos3_images/img_channel099_position003_time000000961_z000.tif',\n",
       " '/home/nathan/data/kraken/ras/ND0013/Pos3/Pos3_images/img_channel099_position003_time000000962_z000.tif',\n",
       " '/home/nathan/data/kraken/ras/ND0013/Pos3/Pos3_images/img_channel099_position003_time000000963_z000.tif',\n",
       " '/home/nathan/data/kraken/ras/ND0013/Pos3/Pos3_images/img_channel099_position003_time000000964_z000.tif',\n",
       " '/home/nathan/data/kraken/ras/ND0013/Pos3/Pos3_images/img_channel099_position003_time000000965_z000.tif',\n",
       " '/home/nathan/data/kraken/ras/ND0013/Pos3/Pos3_images/img_channel099_position003_time000000966_z000.tif',\n",
       " '/home/nathan/data/kraken/ras/ND0013/Pos3/Pos3_images/img_channel099_position003_time000000967_z000.tif',\n",
       " '/home/nathan/data/kraken/ras/ND0013/Pos3/Pos3_images/img_channel099_position003_time000000968_z000.tif',\n",
       " '/home/nathan/data/kraken/ras/ND0013/Pos3/Pos3_images/img_channel099_position003_time000000969_z000.tif',\n",
       " '/home/nathan/data/kraken/ras/ND0013/Pos3/Pos3_images/img_channel099_position003_time000000970_z000.tif',\n",
       " '/home/nathan/data/kraken/ras/ND0013/Pos3/Pos3_images/img_channel099_position003_time000000971_z000.tif',\n",
       " '/home/nathan/data/kraken/ras/ND0013/Pos3/Pos3_images/img_channel099_position003_time000000972_z000.tif',\n",
       " '/home/nathan/data/kraken/ras/ND0013/Pos3/Pos3_images/img_channel099_position003_time000000973_z000.tif',\n",
       " '/home/nathan/data/kraken/ras/ND0013/Pos3/Pos3_images/img_channel099_position003_time000000974_z000.tif',\n",
       " '/home/nathan/data/kraken/ras/ND0013/Pos3/Pos3_images/img_channel099_position003_time000000975_z000.tif',\n",
       " '/home/nathan/data/kraken/ras/ND0013/Pos3/Pos3_images/img_channel099_position003_time000000976_z000.tif',\n",
       " '/home/nathan/data/kraken/ras/ND0013/Pos3/Pos3_images/img_channel099_position003_time000000977_z000.tif',\n",
       " '/home/nathan/data/kraken/ras/ND0013/Pos3/Pos3_images/img_channel099_position003_time000000978_z000.tif',\n",
       " '/home/nathan/data/kraken/ras/ND0013/Pos3/Pos3_images/img_channel099_position003_time000000979_z000.tif',\n",
       " '/home/nathan/data/kraken/ras/ND0013/Pos3/Pos3_images/img_channel099_position003_time000000980_z000.tif',\n",
       " '/home/nathan/data/kraken/ras/ND0013/Pos3/Pos3_images/img_channel099_position003_time000000981_z000.tif',\n",
       " '/home/nathan/data/kraken/ras/ND0013/Pos3/Pos3_images/img_channel099_position003_time000000982_z000.tif',\n",
       " '/home/nathan/data/kraken/ras/ND0013/Pos3/Pos3_images/img_channel099_position003_time000000983_z000.tif',\n",
       " '/home/nathan/data/kraken/ras/ND0013/Pos3/Pos3_images/img_channel099_position003_time000000984_z000.tif',\n",
       " '/home/nathan/data/kraken/ras/ND0013/Pos3/Pos3_images/img_channel099_position003_time000000985_z000.tif',\n",
       " '/home/nathan/data/kraken/ras/ND0013/Pos3/Pos3_images/img_channel099_position003_time000000986_z000.tif',\n",
       " '/home/nathan/data/kraken/ras/ND0013/Pos3/Pos3_images/img_channel099_position003_time000000987_z000.tif',\n",
       " '/home/nathan/data/kraken/ras/ND0013/Pos3/Pos3_images/img_channel099_position003_time000000988_z000.tif',\n",
       " '/home/nathan/data/kraken/ras/ND0013/Pos3/Pos3_images/img_channel099_position003_time000000989_z000.tif',\n",
       " '/home/nathan/data/kraken/ras/ND0013/Pos3/Pos3_images/img_channel099_position003_time000000990_z000.tif',\n",
       " '/home/nathan/data/kraken/ras/ND0013/Pos3/Pos3_images/img_channel099_position003_time000000991_z000.tif',\n",
       " '/home/nathan/data/kraken/ras/ND0013/Pos3/Pos3_images/img_channel099_position003_time000000992_z000.tif',\n",
       " '/home/nathan/data/kraken/ras/ND0013/Pos3/Pos3_images/img_channel099_position003_time000000993_z000.tif',\n",
       " '/home/nathan/data/kraken/ras/ND0013/Pos3/Pos3_images/img_channel099_position003_time000000994_z000.tif',\n",
       " '/home/nathan/data/kraken/ras/ND0013/Pos3/Pos3_images/img_channel099_position003_time000000995_z000.tif',\n",
       " '/home/nathan/data/kraken/ras/ND0013/Pos3/Pos3_images/img_channel099_position003_time000000996_z000.tif',\n",
       " '/home/nathan/data/kraken/ras/ND0013/Pos3/Pos3_images/img_channel099_position003_time000000997_z000.tif',\n",
       " '/home/nathan/data/kraken/ras/ND0013/Pos3/Pos3_images/img_channel099_position003_time000000998_z000.tif',\n",
       " '/home/nathan/data/kraken/ras/ND0013/Pos3/Pos3_images/img_channel099_position003_time000000999_z000.tif',\n",
       " '/home/nathan/data/kraken/ras/ND0013/Pos3/Pos3_images/img_channel099_position003_time000001000_z000.tif',\n",
       " '/home/nathan/data/kraken/ras/ND0013/Pos3/Pos3_images/img_channel099_position003_time000001001_z000.tif',\n",
       " '/home/nathan/data/kraken/ras/ND0013/Pos3/Pos3_images/img_channel099_position003_time000001002_z000.tif',\n",
       " '/home/nathan/data/kraken/ras/ND0013/Pos3/Pos3_images/img_channel099_position003_time000001003_z000.tif',\n",
       " '/home/nathan/data/kraken/ras/ND0013/Pos3/Pos3_images/img_channel099_position003_time000001004_z000.tif',\n",
       " '/home/nathan/data/kraken/ras/ND0013/Pos3/Pos3_images/img_channel099_position003_time000001005_z000.tif',\n",
       " '/home/nathan/data/kraken/ras/ND0013/Pos3/Pos3_images/img_channel099_position003_time000001007_z000.tif',\n",
       " '/home/nathan/data/kraken/ras/ND0013/Pos3/Pos3_images/img_channel099_position003_time000001008_z000.tif',\n",
       " ...]"
      ]
     },
     "execution_count": 34,
     "metadata": {},
     "output_type": "execute_result"
    }
   ],
   "source": [
    "mask_files"
   ]
  },
  {
   "cell_type": "code",
   "execution_count": 25,
   "id": "bd3a3c6b",
   "metadata": {},
   "outputs": [],
   "source": [
    "import pandas as pd"
   ]
  },
  {
   "cell_type": "code",
   "execution_count": 72,
   "id": "ecc84d3e",
   "metadata": {},
   "outputs": [
    {
     "data": {
      "text/plain": [
       "{'ND0010': [10, 11],\n",
       " 'ND0011': [6, 7],\n",
       " 'ND0012': [3, 4, 6, 7, 8, 9, 10],\n",
       " 'ND0013': [3, 4, 5, 6, 7, 8, 9, 10]}"
      ]
     },
     "execution_count": 72,
     "metadata": {},
     "output_type": "execute_result"
    }
   ],
   "source": [
    "expts_9010"
   ]
  },
  {
   "cell_type": "code",
   "execution_count": 217,
   "id": "da3b8033",
   "metadata": {
    "scrolled": true
   },
   "outputs": [
    {
     "name": "stdout",
     "output_type": "stream",
     "text": [
      "ND0010 Pos 6\n",
      "ND0010 Pos 7\n",
      "ND0012 Pos 5\n",
      "ND0010 Pos 6\n",
      "ND0010 Pos 7\n",
      "ND0012 Pos 5\n",
      "ND0010 Pos 6\n",
      "ND0010 Pos 7\n",
      "ND0012 Pos 5\n",
      "ND0010 Pos 6\n",
      "ND0010 Pos 7\n",
      "ND0012 Pos 5\n",
      "ND0010 Pos 6\n",
      "ND0010 Pos 7\n",
      "ND0012 Pos 5\n",
      "ND0010 Pos 6\n",
      "ND0010 Pos 7\n",
      "ND0012 Pos 5\n",
      "ND0010 Pos 6\n",
      "ND0010 Pos 7\n",
      "ND0012 Pos 5\n",
      "ND0010 Pos 6\n",
      "ND0010 Pos 7\n",
      "ND0012 Pos 5\n",
      "8min 30s ± 1min 6s per loop (mean ± std. dev. of 7 runs, 1 loop each)\n"
     ]
    }
   ],
   "source": [
    "%%timeit\n",
    "cell_count_9901 = {}\n",
    "root_dir = '/home/nathan/data/kraken/ras'\n",
    "for expt in (expts_9901):\n",
    "    N = {'wt':[], 'ras': []}\n",
    "    for pos in (expts_9901[expt]):\n",
    "        print(expt, 'Pos', pos)\n",
    "        N = {'wt':[], 'ras': []}\n",
    "        mask_path = f'{root_dir}/{expt}/Pos{pos}/Pos{pos}_images/*channel099*'\n",
    "        masks = sorted(glob.glob(mask_path))\n",
    "        for i in image_generator(masks):\n",
    "                count_gfp = nd.label(i == 1)[-1]\n",
    "                count_rfp = nd.label(i == 2)[-1]\n",
    "                N['wt'].append(count_gfp)\n",
    "                N['ras'].append(coaunt_rfp)\n",
    "        cell_count_9901[f'{expt}/Pos{pos}'] = N"
   ]
  },
  {
   "cell_type": "code",
   "execution_count": 221,
   "id": "068cd85f",
   "metadata": {
    "scrolled": true
   },
   "outputs": [
    {
     "ename": "KeyError",
     "evalue": "'ND0010'",
     "output_type": "error",
     "traceback": [
      "\u001b[0;31m---------------------------------------------------------------------------\u001b[0m",
      "\u001b[0;31mKeyError\u001b[0m                                  Traceback (most recent call last)",
      "\u001b[0;32m<ipython-input-221-49b4684df83e>\u001b[0m in \u001b[0;36m<module>\u001b[0;34m\u001b[0m\n\u001b[0;32m----> 1\u001b[0;31m \u001b[0mcell_count_9901\u001b[0m\u001b[0;34m[\u001b[0m\u001b[0mexpt\u001b[0m\u001b[0;34m]\u001b[0m\u001b[0;34m\u001b[0m\u001b[0;34m\u001b[0m\u001b[0m\n\u001b[0m",
      "\u001b[0;31mKeyError\u001b[0m: 'ND0010'"
     ]
    }
   ],
   "source": []
  },
  {
   "cell_type": "code",
   "execution_count": 219,
   "id": "bd68bd56",
   "metadata": {},
   "outputs": [
    {
     "data": {
      "text/plain": [
       "{}"
      ]
     },
     "execution_count": 219,
     "metadata": {},
     "output_type": "execute_result"
    }
   ],
   "source": [
    "cell_count_9901"
   ]
  },
  {
   "cell_type": "code",
   "execution_count": 95,
   "id": "6697efac",
   "metadata": {},
   "outputs": [],
   "source": [
    "from matplotlib.pyplot import cm"
   ]
  },
  {
   "cell_type": "code",
   "execution_count": 149,
   "id": "f9d35066",
   "metadata": {},
   "outputs": [],
   "source": [
    "import matplotlib.pyplot as plt\n",
    "plt.rcParams['figure.figsize'] = [10, 5]"
   ]
  },
  {
   "cell_type": "code",
   "execution_count": 210,
   "id": "3ba49377",
   "metadata": {},
   "outputs": [
    {
     "data": {
      "text/plain": [
       "1188"
      ]
     },
     "execution_count": 210,
     "metadata": {},
     "output_type": "execute_result"
    }
   ],
   "source": [
    "len(cell_count_9901['ND0010/Pos6']['wt'])"
   ]
  },
  {
   "cell_type": "code",
   "execution_count": 212,
   "id": "7cdeeeb8",
   "metadata": {},
   "outputs": [],
   "source": [
    "length = 1200# len(cell_count['ND0010/Pos10']['wt'])\n",
    "max_N_cell = 1000"
   ]
  },
  {
   "cell_type": "code",
   "execution_count": 218,
   "id": "20ae2c87",
   "metadata": {},
   "outputs": [
    {
     "data": {
      "text/plain": [
       "<Figure size 720x360 with 0 Axes>"
      ]
     },
     "metadata": {},
     "output_type": "display_data"
    },
    {
     "data": {
      "image/png": "[encoded data removed]",
      "text/plain": [
       "<Figure size 864x1008 with 1 Axes>"
      ]
     },
     "metadata": {
      "needs_background": "light"
     },
     "output_type": "display_data"
    }
   ],
   "source": [
    "plt.clf()\n",
    "fig, ax = plt.subplots(1,1, figsize = (12,14))\n",
    "ax.set_prop_cycle(color=[\n",
    "    '#1f77b4', '#aec7e8', '#ff7f0e', '#ffbb78', '#2ca02c', '#98df8a',\n",
    "    '#d62728', '#ff9896', '#9467bd', '#c5b0d5', '#8c564b', '#c49c94',\n",
    "    '#e377c2', '#f7b6d2', '#7f7f7f', '#c7c7c7', '#bcbd22', '#dbdb8d',\n",
    "    '#17becf', '#9edae5'])\n",
    "ax.spines[:].set_visible(False)\n",
    "ax.xaxis.tick_bottom()\n",
    "ax.yaxis.tick_left()\n",
    "ax.set_xlim(0, length)\n",
    "ax.set_ylim(0, max_N_cell)\n",
    "# # Set a fixed location and format for ticks.\n",
    "ax.set_xticks(range(0, length, 100))\n",
    "ax.set_yticks(range(0, max_N_cell, 100))\n",
    "# # Use automatic StrMethodFormatter creation\n",
    "ax.xaxis.set_major_formatter('{x:.0f}')# frames')\n",
    "ax.yaxis.set_major_formatter('{x:.0f}')#' cells')\n",
    "# # Provide tick lines across the plot to help your viewers trace along\n",
    "# the axis ticks. Make sure that the lines are light and small so they\n",
    "# don't obscure the primary data lines.\n",
    "ax.grid(True, 'major', 'y', ls='--', lw=.5, c='k', alpha=.3)\n",
    "# Remove the tick marks; they are unnecessary with the tick lines we just\n",
    "# plotted. Make sure your axis ticks are large enough to be easily read.\n",
    "# You don't want your viewers squinting to read your plot.\n",
    "ax.tick_params(axis='both', which='both', labelsize=14,\n",
    "               bottom=False, top=False, labelbottom=True,\n",
    "               left=False, right=False, labelleft=True)\n",
    "wt_count = []\n",
    "for expt in cell_count_9901:\n",
    "    wt_count = movingaverage(cell_count_9901[expt]['wt'], 100)\n",
    "    line, = ax.plot(wt_count, lw = 2.5)\n",
    "    y_pos = wt_count[-1] + 20\n",
    "    ax.text(length, y_pos, expt, fontsize=14, color=line.get_color())\n",
    "\n",
    "    ras_count = movingaverage(cell_count_9901[expt]['ras'], 100)\n",
    "    line, = ax.plot(ras_count)\n",
    "plt.show()"
   ]
  },
  {
   "cell_type": "code",
   "execution_count": 174,
   "id": "98d809e4",
   "metadata": {
    "scrolled": false
   },
   "outputs": [
    {
     "data": {
      "text/plain": [
       "<Figure size 720x360 with 0 Axes>"
      ]
     },
     "metadata": {},
     "output_type": "display_data"
    },
    {
     "data": {
      "image/png": "[encoded data removed]",
      "text/plain": [
       "<Figure size 720x360 with 1 Axes>"
      ]
     },
     "metadata": {
      "needs_background": "light"
     },
     "output_type": "display_data"
    }
   ],
   "source": [
    "plt.clf()\n",
    "fig, ax = plt.subplots(1,1)#, figsize = (12,14))\n",
    "ax.set_prop_cycle(color=[\n",
    "    '#1f77b4', '#aec7e8', '#ff7f0e', '#ffbb78', '#2ca02c', '#98df8a',\n",
    "    '#d62728', '#ff9896', '#9467bd', '#c5b0d5', '#8c564b', '#c49c94',\n",
    "    '#e377c2', '#f7b6d2', '#7f7f7f', '#c7c7c7', '#bcbd22', '#dbdb8d',\n",
    "    '#17becf', '#9edae5'])\n",
    "ax.spines[:].set_visible(False)\n",
    "ax.xaxis.tick_bottom()\n",
    "ax.yaxis.tick_left()\n",
    "ax.set_xlim(0, 120)\n",
    "ax.set_ylim(0, 25)\n",
    "# Set a fixed location and format for ticks.\n",
    "ax.set_xticks(range(0, 120, 40))\n",
    "ax.set_yticks(range(0, 25, 5))\n",
    "# Use automatic StrMethodFormatter creation\n",
    "ax.xaxis.set_major_formatter('{x:.0f} frames')\n",
    "ax.yaxis.set_major_formatter('{x:.0f} cells')\n",
    "# Provide tick lines across the plot to help your viewers trace along\n",
    "# the axis ticks. Make sure that the lines are light and small so they\n",
    "# don't obscure the primary data lines.\n",
    "ax.grid(True, 'major', 'y', ls='--', lw=.5, c='k', alpha=.3)\n",
    "# Remove the tick marks; they are unnecessary with the tick lines we just\n",
    "# plotted. Make sure your axis ticks are large enough to be easily read.\n",
    "# You don't want your viewers squinting to read your plot.\n",
    "ax.tick_params(axis='both', which='both', labelsize=14,\n",
    "               bottom=False, top=False, labelbottom=True,\n",
    "               left=False, right=False, labelleft=True)\n",
    "for expt in cell_count:\n",
    "    #plt.plot(cell_count[expt]['wt'], label = f'wild-type cell count {expt}')\n",
    "    #c = next(color)\n",
    "    wt_count = movingaverage(cell_count[expt]['wt'], 100)\n",
    "    line, = ax.plot(wt_count, label = f'wt {expt}', lw = 2.5)# c=c)\n",
    "    y_pos = movingaverage(cell_count[expt]['wt'], 100)[-1] - 0.5\n",
    "    ax.text(120, y_pos, expt, fontsize=14, color=line.get_color())\n",
    "    #plt.plot(cell_count['ras'], label = 'Ras cell count')\n",
    "   # c = next(color)\n",
    "    ras_count = movingaverage(cell_count[expt]['ras'], 100)\n",
    "    #ax.plot(movingaverage(cell_count[expt]['ras'], 100), label = f'ras {expt}',)# c=c, )\n",
    "# plt.legend(loc = 'upper left', bbox_to_anchor=(1, 2))\n",
    "#plt.show()"
   ]
  },
  {
   "cell_type": "code",
   "execution_count": 169,
   "id": "2b9f02c6",
   "metadata": {},
   "outputs": [
    {
     "data": {
      "text/plain": [
       "6.79"
      ]
     },
     "execution_count": 169,
     "metadata": {},
     "output_type": "execute_result"
    }
   ],
   "source": [
    "y_pos"
   ]
  },
  {
   "cell_type": "code",
   "execution_count": 85,
   "id": "1c188f35",
   "metadata": {},
   "outputs": [
    {
     "data": {
      "text/plain": [
       "{'wt': [50,\n",
       "  50,\n",
       "  50,\n",
       "  49,\n",
       "  51,\n",
       "  49,\n",
       "  52,\n",
       "  52,\n",
       "  53,\n",
       "  55,\n",
       "  57,\n",
       "  58,\n",
       "  55,\n",
       "  58,\n",
       "  57,\n",
       "  58,\n",
       "  58,\n",
       "  58,\n",
       "  59,\n",
       "  62],\n",
       " 'ras': [5, 5, 5, 5, 5, 5, 5, 6, 5, 8, 7, 7, 6, 8, 7, 7, 6, 8, 8, 7]}"
      ]
     },
     "execution_count": 85,
     "metadata": {},
     "output_type": "execute_result"
    }
   ],
   "source": [
    "cell_count['ND0010/Pos10']"
   ]
  },
  {
   "cell_type": "code",
   "execution_count": 38,
   "id": "25429faa",
   "metadata": {},
   "outputs": [
    {
     "data": {
      "text/plain": [
       "2788"
      ]
     },
     "execution_count": 38,
     "metadata": {},
     "output_type": "execute_result"
    }
   ],
   "source": [
    "len(N['wt'])"
   ]
  },
  {
   "cell_type": "code",
   "execution_count": 39,
   "id": "70c04a24",
   "metadata": {},
   "outputs": [],
   "source": [
    "cell_count = pd.DataFrame(data=N)"
   ]
  },
  {
   "cell_type": "code",
   "execution_count": 40,
   "id": "77f8c70e",
   "metadata": {},
   "outputs": [
    {
     "data": {
      "text/html": [
       "<div>\n",
       "<style scoped>\n",
       "    .dataframe tbody tr th:only-of-type {\n",
       "        vertical-align: middle;\n",
       "    }\n",
       "\n",
       "    .dataframe tbody tr th {\n",
       "        vertical-align: top;\n",
       "    }\n",
       "\n",
       "    .dataframe thead th {\n",
       "        text-align: right;\n",
       "    }\n",
       "</style>\n",
       "<table border=\"1\" class=\"dataframe\">\n",
       "  <thead>\n",
       "    <tr style=\"text-align: right;\">\n",
       "      <th></th>\n",
       "      <th>wt</th>\n",
       "      <th>ras</th>\n",
       "    </tr>\n",
       "  </thead>\n",
       "  <tbody>\n",
       "    <tr>\n",
       "      <th>0</th>\n",
       "      <td>38</td>\n",
       "      <td>13</td>\n",
       "    </tr>\n",
       "    <tr>\n",
       "      <th>1</th>\n",
       "      <td>41</td>\n",
       "      <td>14</td>\n",
       "    </tr>\n",
       "    <tr>\n",
       "      <th>2</th>\n",
       "      <td>36</td>\n",
       "      <td>13</td>\n",
       "    </tr>\n",
       "    <tr>\n",
       "      <th>3</th>\n",
       "      <td>40</td>\n",
       "      <td>13</td>\n",
       "    </tr>\n",
       "    <tr>\n",
       "      <th>4</th>\n",
       "      <td>29</td>\n",
       "      <td>12</td>\n",
       "    </tr>\n",
       "    <tr>\n",
       "      <th>...</th>\n",
       "      <td>...</td>\n",
       "      <td>...</td>\n",
       "    </tr>\n",
       "    <tr>\n",
       "      <th>2783</th>\n",
       "      <td>348</td>\n",
       "      <td>89</td>\n",
       "    </tr>\n",
       "    <tr>\n",
       "      <th>2784</th>\n",
       "      <td>357</td>\n",
       "      <td>90</td>\n",
       "    </tr>\n",
       "    <tr>\n",
       "      <th>2785</th>\n",
       "      <td>345</td>\n",
       "      <td>90</td>\n",
       "    </tr>\n",
       "    <tr>\n",
       "      <th>2786</th>\n",
       "      <td>357</td>\n",
       "      <td>89</td>\n",
       "    </tr>\n",
       "    <tr>\n",
       "      <th>2787</th>\n",
       "      <td>364</td>\n",
       "      <td>89</td>\n",
       "    </tr>\n",
       "  </tbody>\n",
       "</table>\n",
       "<p>2788 rows × 2 columns</p>\n",
       "</div>"
      ],
      "text/plain": [
       "       wt  ras\n",
       "0      38   13\n",
       "1      41   14\n",
       "2      36   13\n",
       "3      40   13\n",
       "4      29   12\n",
       "...   ...  ...\n",
       "2783  348   89\n",
       "2784  357   90\n",
       "2785  345   90\n",
       "2786  357   89\n",
       "2787  364   89\n",
       "\n",
       "[2788 rows x 2 columns]"
      ]
     },
     "execution_count": 40,
     "metadata": {},
     "output_type": "execute_result"
    }
   ],
   "source": [
    "cell_count"
   ]
  },
  {
   "cell_type": "code",
   "execution_count": 44,
   "id": "e7523ace",
   "metadata": {},
   "outputs": [],
   "source": [
    "import numpy as np"
   ]
  },
  {
   "cell_type": "code",
   "execution_count": 47,
   "id": "92d01b1c",
   "metadata": {},
   "outputs": [
    {
     "data": {
      "text/plain": [
       "array([  3.26607867, 468.18406454])"
      ]
     },
     "execution_count": 47,
     "metadata": {},
     "output_type": "execute_result"
    }
   ],
   "source": [
    "np.polyfit(cell_count['wt'], np.arange(0, len(cell_count['wt'])), 10)"
   ]
  },
  {
   "cell_type": "code",
   "execution_count": 54,
   "id": "07d42dc3",
   "metadata": {},
   "outputs": [],
   "source": [
    "def movingaverage(interval, window_size):\n",
    "    window= np.ones(int(window_size))/float(window_size)\n",
    "    return np.convolve(interval, window, 'same')\n"
   ]
  },
  {
   "cell_type": "code",
   "execution_count": 55,
   "id": "58d77e2f",
   "metadata": {},
   "outputs": [],
   "source": [
    "y_av = movingaverage(cell_count['wt'], 10)\n"
   ]
  },
  {
   "cell_type": "code",
   "execution_count": 59,
   "id": "4aa12349",
   "metadata": {},
   "outputs": [
    {
     "data": {
      "image/png": "[encoded data removed]",
      "text/plain": [
       "<Figure size 640x480 with 1 Axes>"
      ]
     },
     "metadata": {},
     "output_type": "display_data"
    }
   ],
   "source": [
    "plt.clf()\n",
    "plt.plot(cell_count['wt'], label = 'wild-type cell count')\n",
    "plt.plot(movingaverage(cell_count['wt'], 100), label = 'wt moving avg')\n",
    "plt.plot(cell_count['ras'], label = 'Ras cell count')\n",
    "plt.plot(movingaverage(cell_count['ras'], 100), label = 'ras moving avg')\n",
    "plt.legend(loc = 'upper left')\n",
    "plt.show()"
   ]
  },
  {
   "cell_type": "code",
   "execution_count": 60,
   "id": "6251e26e",
   "metadata": {},
   "outputs": [],
   "source": [
    "N = {'wild-type cells': [], 'ras cells': []}\n",
    "cell_count = pd.DataFrame(data=N)"
   ]
  },
  {
   "cell_type": "code",
   "execution_count": 62,
   "id": "77135c3e",
   "metadata": {},
   "outputs": [],
   "source": [
    "for n, i in enumerate(image_generator(mask_files[0:100])):\n",
    "        count_gfp = nd.label(i == 1)[-1]\n",
    "        count_rfp = nd.label(i == 2)[-1]\n",
    "        cell_count['wild-type count'] = [n, nd.label(i == 1)[-1]]\n",
    "        cell_count['ras count'] = [n, nd.label(i == 2)[-1]]"
   ]
  },
  {
   "cell_type": "code",
   "execution_count": 85,
   "id": "be325295",
   "metadata": {},
   "outputs": [
    {
     "data": {
      "image/png": "[encoded data removed]",
      "text/plain": [
       "<Figure size 640x480 with 1 Axes>"
      ]
     },
     "metadata": {},
     "output_type": "display_data"
    }
   ],
   "source": [
    "plt.imshow(i)\n",
    "plt.show()"
   ]
  },
  {
   "cell_type": "code",
   "execution_count": 84,
   "id": "e8f9f7b6",
   "metadata": {},
   "outputs": [
    {
     "data": {
      "text/plain": [
       "(338381, 9110)"
      ]
     },
     "execution_count": 84,
     "metadata": {},
     "output_type": "execute_result"
    }
   ],
   "source": [
    "count_gfp, count_rfp"
   ]
  },
  {
   "cell_type": "code",
   "execution_count": 56,
   "id": "ba962db5",
   "metadata": {},
   "outputs": [
    {
     "data": {
      "text/plain": [
       "2391"
      ]
     },
     "execution_count": 56,
     "metadata": {},
     "output_type": "execute_result"
    }
   ],
   "source": [
    "len(gfp_objs)"
   ]
  },
  {
   "cell_type": "code",
   "execution_count": 57,
   "id": "a99d5fff",
   "metadata": {},
   "outputs": [
    {
     "data": {
      "text/plain": [
       "1188"
      ]
     },
     "execution_count": 57,
     "metadata": {},
     "output_type": "execute_result"
    }
   ],
   "source": [
    "len(rfp_objs)"
   ]
  },
  {
   "cell_type": "markdown",
   "id": "ac3aa62c",
   "metadata": {},
   "source": [
    "# testing nd0010 pos3"
   ]
  },
  {
   "cell_type": "markdown",
   "id": "3a9e2369",
   "metadata": {},
   "source": [
    "### manually count each segment in each frame according to type"
   ]
  },
  {
   "cell_type": "code",
   "execution_count": 86,
   "id": "8e0e146d",
   "metadata": {},
   "outputs": [],
   "source": [
    "count_gfp, count_rfp = 0, 0\n",
    "\n",
    "for i in image_generator(glob.glob('/home/nathan/data/kraken/ras/ND0010/Pos3/Pos3_images/*channel099*')):\n",
    "        count_gfp += nd.label(i == 1)[-1]\n",
    "        count_rfp += nd.label(i == 2)[-1]"
   ]
  },
  {
   "cell_type": "markdown",
   "id": "6aea4ac0",
   "metadata": {},
   "source": [
    "# manual count"
   ]
  },
  {
   "cell_type": "code",
   "execution_count": 92,
   "id": "6122cbee",
   "metadata": {},
   "outputs": [
    {
     "data": {
      "text/plain": [
       "657125"
      ]
     },
     "execution_count": 92,
     "metadata": {},
     "output_type": "execute_result"
    }
   ],
   "source": [
    "count_rfp"
   ]
  },
  {
   "cell_type": "markdown",
   "id": "bda97ab3",
   "metadata": {},
   "source": [
    "# obj count from .h5"
   ]
  },
  {
   "cell_type": "code",
   "execution_count": 89,
   "id": "c498b1ec",
   "metadata": {},
   "outputs": [
    {
     "name": "stderr",
     "output_type": "stream",
     "text": [
      "[INFO][2022/02/03 08:01:01 pm] Opening HDF file: /home/nathan/data/kraken/ras/ND0010/Pos3/objects_type_1.h5...\n",
      "[INFO][2022/02/03 08:01:02 pm] Loading objects/obj_type_2 (1184, 5) (1184 filtered: None)\n",
      "[INFO][2022/02/03 08:01:02 pm] Closing HDF file: /home/nathan/data/kraken/ras/ND0010/Pos3/objects_type_1.h5\n"
     ]
    }
   ],
   "source": [
    "with btrack.dataio.HDF5FileHandler(\n",
    "     '/home/nathan/data/kraken/ras/ND0010/Pos3/objects_type_1.h5', 'r', obj_type='obj_type_2',\n",
    ") as hdf:\n",
    "    rfp_objs = hdf.objects"
   ]
  },
  {
   "cell_type": "code",
   "execution_count": 91,
   "id": "b8f173ad",
   "metadata": {},
   "outputs": [
    {
     "data": {
      "text/plain": [
       "1184"
      ]
     },
     "execution_count": 91,
     "metadata": {},
     "output_type": "execute_result"
    }
   ],
   "source": [
    "len(rfp_objs)"
   ]
  },
  {
   "cell_type": "markdown",
   "id": "61a1db09",
   "metadata": {},
   "source": [
    "# testing relocalisation nd10pos3"
   ]
  },
  {
   "cell_type": "code",
   "execution_count": 93,
   "id": "3c47bf61",
   "metadata": {},
   "outputs": [
    {
     "name": "stderr",
     "output_type": "stream",
     "text": [
      "[INFO][2022/02/04 09:56:33 am] Opening HDF file: /home/nathan/data/kraken/ras/ND0010/Pos3/objects_type_2.h5...\n",
      "[INFO][2022/02/04 09:56:34 am] Loading objects/obj_type_2 (1184, 5) (1184 filtered: None)\n",
      "[INFO][2022/02/04 09:56:34 am] Closing HDF file: /home/nathan/data/kraken/ras/ND0010/Pos3/objects_type_2.h5\n"
     ]
    }
   ],
   "source": [
    "with btrack.dataio.HDF5FileHandler(\n",
    "     '/home/nathan/data/kraken/ras/ND0010/Pos3/objects_type_2.h5', 'r', obj_type='obj_type_2',\n",
    ") as hdf:\n",
    "    rfp_objs = hdf.objects"
   ]
  },
  {
   "cell_type": "code",
   "execution_count": 96,
   "id": "8e9bdd12",
   "metadata": {},
   "outputs": [
    {
     "data": {
      "text/plain": [
       "(1184, 657125)"
      ]
     },
     "execution_count": 96,
     "metadata": {},
     "output_type": "execute_result"
    }
   ],
   "source": [
    "len(rfp_objs), count_rfp"
   ]
  },
  {
   "cell_type": "code",
   "execution_count": 102,
   "id": "ca62b3fa",
   "metadata": {},
   "outputs": [
    {
     "data": {
      "text/plain": [
       "1188"
      ]
     },
     "execution_count": 102,
     "metadata": {},
     "output_type": "execute_result"
    }
   ],
   "source": [
    "[obj.t for obj in rfp_objs][-1]"
   ]
  },
  {
   "cell_type": "code",
   "execution_count": 103,
   "id": "5a141102",
   "metadata": {},
   "outputs": [
    {
     "data": {
      "text/plain": [
       "1189"
      ]
     },
     "execution_count": 103,
     "metadata": {},
     "output_type": "execute_result"
    }
   ],
   "source": [
    "len(glob.glob('/home/nathan/data/kraken/ras/ND0010/Pos3/Pos3_images/*channel099*'))"
   ]
  },
  {
   "cell_type": "code",
   "execution_count": 109,
   "id": "51c61de3",
   "metadata": {},
   "outputs": [],
   "source": [
    "from skimage.io import imshow, imread"
   ]
  },
  {
   "cell_type": "code",
   "execution_count": 108,
   "id": "030c93fc",
   "metadata": {},
   "outputs": [
    {
     "data": {
      "text/plain": [
       "'/home/nathan/data/kraken/ras/ND0010/Pos3/Pos3_images/img_channel099_position003_time000000040_z000.tif'"
      ]
     },
     "execution_count": 108,
     "metadata": {},
     "output_type": "execute_result"
    }
   ],
   "source": [
    "glob.glob('/home/nathan/data/kraken/ras/ND0010/Pos3/Pos3_images/*channel099*')[500]"
   ]
  },
  {
   "cell_type": "code",
   "execution_count": 115,
   "id": "b55ace57",
   "metadata": {},
   "outputs": [
    {
     "data": {
      "image/png": "[encoded data removed]",
      "text/plain": [
       "<Figure size 640x480 with 1 Axes>"
      ]
     },
     "metadata": {},
     "output_type": "display_data"
    }
   ],
   "source": [
    "plt.clf()\n",
    "plt.imshow(imread(glob.glob('/home/nathan/data/kraken/ras/ND0010/Pos3/Pos3_images/*channel099*')[500]))\n",
    "plt.show()"
   ]
  },
  {
   "cell_type": "code",
   "execution_count": null,
   "id": "9d181624",
   "metadata": {},
   "outputs": [],
   "source": []
  }
 ],
 "metadata": {
  "kernelspec": {
   "display_name": "CellX",
   "language": "python",
   "name": "cellx"
  },
  "language_info": {
   "codemirror_mode": {
    "name": "ipython",
    "version": 3
   },
   "file_extension": ".py",
   "mimetype": "text/x-python",
   "name": "python",
   "nbconvert_exporter": "python",
   "pygments_lexer": "ipython3",
   "version": "3.9.7"
  }
 },
 "nbformat": 4,
 "nbformat_minor": 5
}
