{
 "cells": [
  {
   "cell_type": "markdown",
   "id": "7ee35928",
   "metadata": {},
   "source": [
    "# Napari image viewer\n",
    "\n",
    "Uses the octopuslite dask image loader to automatically sort and load images from multichannel time lapse experiments. Can also use btrack to load associated tracks and segmentation images."
   ]
  },
  {
   "cell_type": "code",
   "execution_count": 1,
   "id": "0dac561f",
   "metadata": {},
   "outputs": [],
   "source": [
    "import napari\n",
    "from octopuslite import DaskOctopusLiteLoader\n",
    "import glob, os\n",
    "import numpy as np\n",
    "from datetime import datetime\n",
    "from skimage.io import imread\n",
    "from tqdm.auto import tqdm\n",
    "import pandas as pd\n",
    "import warnings\n",
    "warnings.filterwarnings('ignore')\n",
    "\n",
    "def compute(dask_image_stack, N = None):\n",
    "    \n",
    "    \"\"\"lazy hack to get around dask not loading transformed stacks in one go\"\"\"\n",
    "    \n",
    "    if N == None:\n",
    "        N = (0, len(dask_image_stack) )\n",
    "        \n",
    "    return np.stack([frame.compute().astype(np.uint8) for frame in tqdm(dask_image_stack[N[0]:N[1]], total = N[1]-N[0])], axis = 0)"
   ]
  },
  {
   "cell_type": "code",
   "execution_count": 2,
   "id": "356f3d96",
   "metadata": {
    "scrolled": true
   },
   "outputs": [
    {
     "data": {
      "text/html": [
       "<div>\n",
       "<style scoped>\n",
       "    .dataframe tbody tr th:only-of-type {\n",
       "        vertical-align: middle;\n",
       "    }\n",
       "\n",
       "    .dataframe tbody tr th {\n",
       "        vertical-align: top;\n",
       "    }\n",
       "\n",
       "    .dataframe thead th {\n",
       "        text-align: right;\n",
       "    }\n",
       "</style>\n",
       "<table border=\"1\" class=\"dataframe\">\n",
       "  <thead>\n",
       "    <tr style=\"text-align: right;\">\n",
       "      <th></th>\n",
       "      <th>EXP n˚</th>\n",
       "      <th>POSITION</th>\n",
       "      <th>CELL TYPE</th>\n",
       "    </tr>\n",
       "  </thead>\n",
       "  <tbody>\n",
       "    <tr>\n",
       "      <th>0</th>\n",
       "      <td>ND0013</td>\n",
       "      <td>Pos3</td>\n",
       "      <td>90:10 wt:ras+</td>\n",
       "    </tr>\n",
       "    <tr>\n",
       "      <th>1</th>\n",
       "      <td>ND0013</td>\n",
       "      <td>Pos4</td>\n",
       "      <td>90:10 wt:ras+</td>\n",
       "    </tr>\n",
       "    <tr>\n",
       "      <th>2</th>\n",
       "      <td>ND0013</td>\n",
       "      <td>Pos5</td>\n",
       "      <td>90:10 wt:ras+</td>\n",
       "    </tr>\n",
       "    <tr>\n",
       "      <th>3</th>\n",
       "      <td>ND0013</td>\n",
       "      <td>Pos6</td>\n",
       "      <td>90:10 wt:ras+</td>\n",
       "    </tr>\n",
       "    <tr>\n",
       "      <th>4</th>\n",
       "      <td>ND0013</td>\n",
       "      <td>Pos7</td>\n",
       "      <td>90:10 wt:ras+</td>\n",
       "    </tr>\n",
       "    <tr>\n",
       "      <th>...</th>\n",
       "      <td>...</td>\n",
       "      <td>...</td>\n",
       "      <td>...</td>\n",
       "    </tr>\n",
       "    <tr>\n",
       "      <th>101</th>\n",
       "      <td>ND0025</td>\n",
       "      <td>Pos9</td>\n",
       "      <td>97.5:2.5 wt:ras+</td>\n",
       "    </tr>\n",
       "    <tr>\n",
       "      <th>102</th>\n",
       "      <td>ND0025</td>\n",
       "      <td>Pos10</td>\n",
       "      <td>97.5:2.5 wt:ras+</td>\n",
       "    </tr>\n",
       "    <tr>\n",
       "      <th>103</th>\n",
       "      <td>ND0025</td>\n",
       "      <td>Pos11</td>\n",
       "      <td>97.5:2.5 wt:ras+</td>\n",
       "    </tr>\n",
       "    <tr>\n",
       "      <th>104</th>\n",
       "      <td>ND0025</td>\n",
       "      <td>Pos12</td>\n",
       "      <td>97.5:2.5 wt:ras+</td>\n",
       "    </tr>\n",
       "    <tr>\n",
       "      <th>105</th>\n",
       "      <td>ND0025</td>\n",
       "      <td>Pos13</td>\n",
       "      <td>97.5:2.5 wt:ras+</td>\n",
       "    </tr>\n",
       "  </tbody>\n",
       "</table>\n",
       "<p>106 rows × 3 columns</p>\n",
       "</div>"
      ],
      "text/plain": [
       "     EXP n˚ POSITION         CELL TYPE\n",
       "0    ND0013     Pos3     90:10 wt:ras+\n",
       "1    ND0013     Pos4     90:10 wt:ras+\n",
       "2    ND0013     Pos5     90:10 wt:ras+\n",
       "3    ND0013     Pos6     90:10 wt:ras+\n",
       "4    ND0013     Pos7     90:10 wt:ras+\n",
       "..      ...      ...               ...\n",
       "101  ND0025     Pos9  97.5:2.5 wt:ras+\n",
       "102  ND0025    Pos10  97.5:2.5 wt:ras+\n",
       "103  ND0025    Pos11  97.5:2.5 wt:ras+\n",
       "104  ND0025    Pos12  97.5:2.5 wt:ras+\n",
       "105  ND0025    Pos13  97.5:2.5 wt:ras+\n",
       "\n",
       "[106 rows x 3 columns]"
      ]
     },
     "execution_count": 2,
     "metadata": {},
     "output_type": "execute_result"
    }
   ],
   "source": [
    "### load experiment information\n",
    "expt_info = pd.read_csv('extrusion_expts.csv', )\n",
    "del expt_info['Unnamed: 0']\n",
    "expt_info"
   ]
  },
  {
   "cell_type": "code",
   "execution_count": 7,
   "id": "b6617978",
   "metadata": {},
   "outputs": [],
   "source": [
    "### Set root directory (server or local)\n",
    "root_dir = '/home/nathan/data/kraken/ras/'#'/media/nathan/Transcend/Nathan/data/kraken/ras'\n",
    "### make output directory for .csv list of extrusion coordinates\n",
    "os.makedirs('extrusions', exist_ok = True)"
   ]
  },
  {
   "cell_type": "code",
   "execution_count": 4,
   "id": "c73b45e3",
   "metadata": {},
   "outputs": [],
   "source": [
    "### exclude certain expts if you wish\n",
    "expt_info = expt_info[((expt_info['CELL TYPE'] == '99:1 wt:ras+'))]# & (expt_info['POSITION'] == 'Pos3')& (expt_info['POSITION'] == 'Pos4'))]"
   ]
  },
  {
   "cell_type": "markdown",
   "id": "9c9927ec",
   "metadata": {},
   "source": [
    "# save out cell ID to dict"
   ]
  },
  {
   "cell_type": "code",
   "execution_count": 5,
   "id": "b44380da",
   "metadata": {},
   "outputs": [],
   "source": [
    "import btrack\n",
    "import json\n",
    "from btrack.utils import tracks_to_napari\n",
    "extr_dict_address = '/home/nathan/data/kraken/ras/experiment_information/extrusions/extrusion_dict.json'"
   ]
  },
  {
   "cell_type": "code",
   "execution_count": 6,
   "id": "4cde078d",
   "metadata": {},
   "outputs": [
    {
     "data": {
      "text/plain": [
       "{'ND0025_Pos6_620_RFP': '874',\n",
       " 'ND0025_Pos6_262_RFP': '968',\n",
       " 'ND0025_Pos6_2_RFP': '940',\n",
       " 'ND0025_Pos7_930_RFP': '1030',\n",
       " 'ND0025_Pos7_958_RFP': '1136',\n",
       " 'ND0025_Pos5_1_RFP': '420',\n",
       " 'ND0014_Pos5_11_RFP': '194.0',\n",
       " 'ND0014_Pos5_488_RFP_frag': '276.0',\n",
       " 'ND0014_Pos5_1317_RFP_frag': '592.0',\n",
       " 'ND0014_Pos5_2535_RFP_frag': '898.0',\n",
       " 'ND0014_Pos7_1_RFP_frag': '145.0',\n",
       " 'ND0014_Pos8_482_RFP': '900.0',\n",
       " 'ND0014_Pos8_481_RFP': '1426.0',\n",
       " 'ND0014_Pos9_1_RFP': '877.0',\n",
       " 'ND0017_Pos7_1012_RFP_frag': '679.0',\n",
       " 'ND0017_Pos7_547_RFP': '615.0',\n",
       " 'ND0017_Pos7_814_RFP': '775.0',\n",
       " 'ND0017_Pos7_1627_RFP_frag': '775.0',\n",
       " 'ND0017_Pos7_1627_RFP': '952.0',\n",
       " 'ND0021_Pos4_4_RFP': '860.0',\n",
       " 'ND0021_Pos7_321_RFP': '1151.0',\n",
       " 'ND0021_Pos7_320_RFP': '1139.0',\n",
       " 'ND0021_Pos7_177_RFP': '1181.0',\n",
       " 'ND0021_Pos7_178_RFP': '1146.0',\n",
       " 'ND0021_Pos7_507_RFP': '1234.0',\n",
       " 'ND0021_Pos7_506_RFP': '1234.0',\n",
       " 'ND0021_Pos7_598_RFP': '1293.0',\n",
       " 'ND0021_Pos7_599_RFP': '1293.0',\n",
       " 'ND0022_Pos3_4_RFP_frag': '31.0',\n",
       " 'ND0022_Pos3_907_RFP_frag': '821.0',\n",
       " 'ND0022_Pos3_910_RFP_frag': '821.0',\n",
       " 'ND0022_Pos3_940_RFP_frag': '821.0',\n",
       " 'ND0022_Pos3_840_RFP_frag': '890.0',\n",
       " 'ND0022_Pos3_1158_RFP_frag': '1000.0',\n",
       " 'ND0022_Pos3_1197_RFP_frag': '1000.0',\n",
       " 'ND0022_Pos3_1226_RFP_frag': '1063.0',\n",
       " 'ND0022_Pos3_976_RFP': '1109.0',\n",
       " 'ND0022_Pos4_1812_RFP': '1294.0',\n",
       " 'ND0022_Pos4_643_RFP': '1294.0',\n",
       " 'ND0022_Pos4_1486_RFP': '1382.0',\n",
       " 'ND0022_Pos5_2_RFP': '209.0',\n",
       " 'ND0022_Pos5_1025_RFP_frag': '691.0',\n",
       " 'ND0022_Pos5_785_RFP': '821.0',\n",
       " 'ND0022_Pos5_782_RFP': '884.0',\n",
       " 'ND0022_Pos5_358_RFP': '840.0',\n",
       " 'ND0022_Pos5_262_RFP': '992.0',\n",
       " 'ND0022_Pos5_1205_RFP': '1279.0',\n",
       " 'ND0022_Pos6_7_RFP_frag': '89.0',\n",
       " 'ND0022_Pos6_1_RFP': '200.0',\n",
       " 'ND0022_Pos7_15_RFP': '964.0',\n",
       " 'ND0022_Pos7_728_RFP': '1014.0',\n",
       " 'ND0022_Pos7_1125_RFP_frag': '1198.0',\n",
       " 'ND0022_Pos7_1113_RFP_frag': '1140.0',\n",
       " 'ND0022_Pos7_1112_RFP_frag': '1140.0',\n",
       " 'ND0022_Pos7_1842_RFP_frag': '1320.0',\n",
       " 'ND0022_Pos7_1841_RFP_frag': '1320.0',\n",
       " 'ND0022_Pos7_1062_RFP': '1320.0',\n",
       " 'ND0022_Pos7_1104_RFP': '1326.0',\n",
       " 'ND0022_Pos7_1226_RFP': '1390.0',\n",
       " 'ND0022_Pos7_2017_RFP_frag': '1390.0',\n",
       " 'ND0024_Pos3_320_RFP': '680.0',\n",
       " 'ND0024_Pos4_276_RFP': '527.0',\n",
       " 'ND0024_Pos4_1349_RFP': '953.0',\n",
       " 'ND0024_Pos4_1570_RFP': '1073.0',\n",
       " 'ND0024_Pos4_1881_RFP': '1126.0',\n",
       " 'ND0024_Pos4_1306_RFP': '1126.0',\n",
       " 'ND0024_Pos4_3228_RFP_frag': '1126.0',\n",
       " 'ND0024_Pos4_3162_RFP_frag': '1126.0',\n",
       " 'ND0024_Pos4_1264_RFP': '1126.0',\n",
       " 'ND0024_Pos4_2890_RFP_frag': '1041.0',\n",
       " 'ND0024_Pos5_675_RFP_frag': '640.0',\n",
       " 'ND0024_Pos5_1053_RFP': '1185.0',\n",
       " 'ND0024_Pos5_1179_RFP': '1189.0',\n",
       " 'ND0024_Pos5_1183_RFP': '1189.0',\n",
       " 'ND0024_Pos5_1092_RFP_frag': '1056.0',\n",
       " 'ND0024_Pos6_7_RFP': '596.0',\n",
       " 'ND0024_Pos6_473_RFP': '782.0',\n",
       " 'ND0024_Pos6_638_RFP': '850.0',\n",
       " 'ND0024_Pos6_775_RFP_frag': '850.0',\n",
       " 'ND0024_Pos6_776_RFP_frag': '850.0',\n",
       " 'ND0024_Pos6_639_RFP': '850.0',\n",
       " 'ND0024_Pos6_754_RFP': '920.0',\n",
       " 'ND0024_Pos6_1145_RFP_frag': '1080.0',\n",
       " 'ND0024_Pos6_406_RFP': '1100.0',\n",
       " 'ND0024_Pos6_812_RFP': '1131.0',\n",
       " 'ND0024_Pos6_1353_RFP_frag': '1131.0',\n",
       " 'ND0024_Pos6_1354_RFP_frag': '1131.0',\n",
       " 'ND0024_Pos7_8_RFP': '1030.0',\n",
       " 'ND0025_Pos3_2_RFP': '830.0',\n",
       " 'ND0025_Pos4_1275_RFP_frag': '1090.0',\n",
       " 'ND0025_Pos4_26_RFP': '1090.0',\n",
       " 'ND0025_Pos4_207_RFP': '1090.0'}"
      ]
     },
     "execution_count": 6,
     "metadata": {},
     "output_type": "execute_result"
    }
   ],
   "source": [
    "## backup\n",
    "with open(extr_dict_address) as f:\n",
    "    extru_dict = json.load(f)\n",
    "extru_dict"
   ]
  },
  {
   "cell_type": "code",
   "execution_count": 7,
   "id": "6f3e3a78",
   "metadata": {},
   "outputs": [],
   "source": [
    "# with open(extr_dict_address, 'w',) as json_file:\n",
    "#         json.dump(extru_dict, json_file)"
   ]
  },
  {
   "cell_type": "code",
   "execution_count": 11,
   "id": "6bfb6c14",
   "metadata": {
    "scrolled": true
   },
   "outputs": [
    {
     "data": {
      "application/vnd.jupyter.widget-view+json": {
       "model_id": "72052fa3e8a04004a9a0aaf66e70520c",
       "version_major": 2,
       "version_minor": 0
      },
      "text/plain": [
       "Progress throughout valid expts:   0%|          | 0/51 [00:00<?, ?it/s]"
      ]
     },
     "metadata": {},
     "output_type": "display_data"
    },
    {
     "name": "stdout",
     "output_type": "stream",
     "text": [
      "Loading experiment ND0025 Pos6\n",
      "Using cropping: (1200, 1600)\n"
     ]
    },
    {
     "name": "stderr",
     "output_type": "stream",
     "text": [
      "[INFO][2022/05/25 09:35:09 am] Opening HDF file: /home/nathan/data/kraken/ras//ND0025/Pos6/tracks.h5...\n",
      "[INFO][2022/05/25 09:35:09 am] Loading tracks/obj_type_2\n",
      "[INFO][2022/05/25 09:35:09 am] Loading objects/obj_type_2 (5950, 5) (5950 filtered: None)\n",
      "[INFO][2022/05/25 09:35:09 am] Closing HDF file: /home/nathan/data/kraken/ras//ND0025/Pos6/tracks.h5\n"
     ]
    },
    {
     "name": "stdout",
     "output_type": "stream",
     "text": [
      "This track only extends back 28.0 frames/ 1.8666666666666667 hours\n",
      "ND0025_Pos6_696_RFP_frag:874\n",
      "ND0025_Pos6_2_RFP:940\n",
      "ND0025_Pos6_634_RFP:1010\n"
     ]
    }
   ],
   "source": [
    "### iterate over each competitive experiment\n",
    "for i, expt_pos in tqdm(expt_info.iterrows(), desc = 'Progress throughout valid expts', total = len(expt_info)):\n",
    "    ### get expt info\n",
    "    expt = expt_pos['EXP n˚']\n",
    "    pos = expt_pos['POSITION']\n",
    "    expt, pos = 'ND0025', 'Pos6'\n",
    "    print(f'Loading experiment {expt} {pos}')\n",
    "    ### load images using dask\n",
    "    image_path = f'{root_dir}/{expt}/{pos}/{pos}_images'\n",
    "    transform_path = f'{root_dir}/{expt}/{pos}/transform_tensor.npy'\n",
    "    tracks_path = f'{root_dir}/{expt}/{pos}/tracks.h5'\n",
    "#     if not os.path.exists(transform_path) or not os.path.exists(tracks_path):\n",
    "#         print('No transformation tensor exists, skipping experiment')\n",
    "#         continue\n",
    "#     if len([i for i in extru_dict if f'{expt}_{pos}' in i]) > 0:\n",
    "#         print('Looks like this expt already done, skipping to next')\n",
    "#         continue\n",
    "    images = DaskOctopusLiteLoader(image_path, transforms=transform_path, crop = (1200, 1600))\n",
    "    ### (optional) load images into memory for quicker scrolling\n",
    "    stack_gfp = images['gfp']#compute(images['gfp'])\n",
    "    stack_rfp = images['rfp']#compute(images['rfp'])\n",
    "    with btrack.dataio.HDF5FileHandler(tracks_path,#.replace('tracks', 'tracks_ras_improved'), \n",
    "                                   'r', obj_type='obj_type_2'\n",
    "                                  ) as h:\n",
    "        tracks = h.tracks\n",
    "    visualise_rfp_tracks, rfp_properties, rfp_graph = tracks_to_napari(tracks, ndim = 2)\n",
    "    ### open napari\n",
    "    viewer = napari.Viewer()\n",
    "    ### add images to napari\n",
    "    gfp_layer = viewer.add_image(stack_gfp, name=f\"gfp {expt}, {pos}\", \n",
    "                     contrast_limits=[0,119],\n",
    "                     blending = 'additive', colormap = 'green')\n",
    "    mask_layer = viewer.add_labels((images['mask']==2).astype(int), name = 'masks',\n",
    "               blending = 'additive',)\n",
    "    viewer.add_image(stack_rfp, name=f\"rfp {expt}, {pos}\", \n",
    "                     contrast_limits=[0,55], \n",
    "                     blending = 'additive', colormap = 'magenta')\n",
    "    tracker_layer = viewer.add_tracks(visualise_rfp_tracks, properties=rfp_properties,)# graph = rfp_graph)\n",
    "    \n",
    "    @viewer.bind_key('r')\n",
    "    def write_apoptosis(event=None):\n",
    "        position = viewer.cursor.position\n",
    "        cell_ID = tracker_layer._get_value(position)\n",
    "        time = position[0]\n",
    "        cell_track = [track for track in tracks if track.ID == cell_ID][0]\n",
    "        if cell_track.t[0] > time - 150:\n",
    "            import warnings\n",
    "            warnings.warn(f\"This track only extends back {time - cell_track.t[0]} frames/ {(time - cell_track.t[0])/15} hours\")\n",
    "            print(f\"This track only extends back {time - cell_track.t[0]} frames/ {(time - cell_track.t[0])/15} hours\")\n",
    "            extru_dict[f'{expt}_{pos}_{cell_ID}_RFP_frag'] = str(time)\n",
    "            print(f'{expt}_{pos}_{cell_ID}_RFP_frag:{int(time)}')\n",
    "        else:\n",
    "            extru_dict[f'{expt}_{pos}_{cell_ID}_RFP'] = str(time)\n",
    "            print(f'{expt}_{pos}_{cell_ID}_RFP:{int(time)}')\n",
    "    ### open at start of time lapse\n",
    "    viewer.dims.current_step = (0,0,0)\n",
    "    ### only open next experiment after closing current one\n",
    "    viewer.show(block=True)\n",
    "    ### \n",
    "    with open(extr_dict_address, 'w',) as json_file:\n",
    "        json.dump(extru_dict, json_file)\n",
    "        \n",
    "    break"
   ]
  },
  {
   "cell_type": "code",
   "execution_count": 17,
   "id": "fcc4b8b0",
   "metadata": {},
   "outputs": [
    {
     "data": {
      "text/plain": [
       "92"
      ]
     },
     "execution_count": 17,
     "metadata": {},
     "output_type": "execute_result"
    }
   ],
   "source": [
    "len(extru_dict)"
   ]
  },
  {
   "cell_type": "markdown",
   "id": "c6990d26",
   "metadata": {},
   "source": [
    "# save out points layer"
   ]
  },
  {
   "cell_type": "code",
   "execution_count": null,
   "id": "585fabc4",
   "metadata": {},
   "outputs": [],
   "source": [
    "### iterate over each competitive experiment\n",
    "for i, expt_pos in tqdm(expt_info.iterrows(), desc = 'Progress throughout valid expts', total = len(expt_info)):\n",
    "    ### get expt info\n",
    "    expt = expt_pos['EXP n˚']\n",
    "    pos = expt_pos['POSITION']\n",
    "    print(f'Loading experiment {expt} {pos}')\n",
    "    ### load images using dask\n",
    "    image_path = f'{root_dir}/{expt}/{pos}/{pos}_images'\n",
    "    ### check if already done this experiment\n",
    "    fn = f'extrusions/{expt}_{pos}_extrusions.csv'\n",
    "    if os.path.exists(fn):\n",
    "        date_time = datetime.now().strftime(\"%m.%d.%Y.%H:%M:%S\")\n",
    "        fn = f'extrusions/{expt}_{pos}_extrusions_updated_{date_time}.csv'\n",
    "        continue ### comment out this line if you dont want to skip if already exists\n",
    "    transform_path = f'{root_dir}/{expt}/{pos}/transform_tensor.npy'\n",
    "    if not os.path.exists(transform_path):\n",
    "        print('No transformation tensor exists, skipping experiment')\n",
    "        continue\n",
    "    images = DaskOctopusLiteLoader(image_path, transforms=transform_path)\n",
    "    ### (optional) load images into memory for quicker scrolling\n",
    "    stack_gfp = images['gfp']#compute(images['gfp'])\n",
    "    stack_rfp = images['rfp']#compute(images['rfp'])\n",
    "    ### open napari\n",
    "    viewer = napari.Viewer()\n",
    "    ### add images to napari\n",
    "    viewer.add_image(stack_gfp, name=f\"gfp {expt}, {pos}\", \n",
    "                     contrast_limits=[0,119],\n",
    "                     blending = 'additive', colormap = 'green')\n",
    "#     viewer.add_image(stack_bf, name=f\"bf {expt}, {pos}\", \n",
    "#                      contrast_limits=[0,255],\n",
    "#                      blending = 'additive')\n",
    "    viewer.add_image(stack_rfp, name=f\"rfp {expt}, {pos}\", \n",
    "                     contrast_limits=[0,55], \n",
    "                     blending = 'additive', colormap = 'magenta')\n",
    "    ### add point layer for labelling extrusion\n",
    "    points_layer = viewer.add_points(np.empty((0,3)), ndim = 3,face_color='orange', name = 'extrusions', out_of_slice_display=True)\n",
    "    ### open at start of time lapse\n",
    "    viewer.dims.current_step = (0,0,0)\n",
    "    ### only open next experiment after closing current one\n",
    "    viewer.show(block=True)\n",
    "    ### save out list of extrusion coords\n",
    "    points_layer.save(fn)"
   ]
  }
 ],
 "metadata": {
  "kernelspec": {
   "display_name": "CellX",
   "language": "python",
   "name": "cellx"
  },
  "language_info": {
   "codemirror_mode": {
    "name": "ipython",
    "version": 3
   },
   "file_extension": ".py",
   "mimetype": "text/x-python",
   "name": "python",
   "nbconvert_exporter": "python",
   "pygments_lexer": "ipython3",
   "version": "3.9.7"
  }
 },
 "nbformat": 4,
 "nbformat_minor": 5
}
