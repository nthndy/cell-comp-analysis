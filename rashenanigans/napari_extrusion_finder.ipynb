{
 "cells": [
  {
   "cell_type": "markdown",
   "id": "a4cf9a6b",
   "metadata": {},
   "source": [
    "# Napari image viewer\n",
    "\n",
    "Uses the octopuslite dask image loader to automatically sort and load images from multichannel time lapse experiments. Can also use btrack to load associated tracks and segmentation images."
   ]
  },
  {
   "cell_type": "code",
   "execution_count": null,
   "id": "3a23b02f",
   "metadata": {},
   "outputs": [],
   "source": [
    "import napari\n",
    "from octopuslite import DaskOctopusLiteLoader\n",
    "import glob\n",
    "import numpy as np\n",
    "from skimage.io import imread\n",
    "from tqdm.auto import tqdm\n",
    "import pandas as pd"
   ]
  },
  {
   "cell_type": "code",
   "execution_count": null,
   "id": "a78811bc",
   "metadata": {},
   "outputs": [],
   "source": [
    "expt_info = pd.read_csv('/home/nathan/data/kraken/ras/experiment_info_april22.csv', header = [1])"
   ]
  },
  {
   "cell_type": "code",
   "execution_count": null,
   "id": "65c90eef",
   "metadata": {},
   "outputs": [],
   "source": [
    "expt_info"
   ]
  },
  {
   "cell_type": "code",
   "execution_count": null,
   "id": "98df0655",
   "metadata": {},
   "outputs": [],
   "source": [
    "expt_info.loc[(expt_info['Useable (in radial analysis)'] == True)]"
   ]
  },
  {
   "cell_type": "code",
   "execution_count": null,
   "id": "8cb88e0d",
   "metadata": {},
   "outputs": [],
   "source": [
    "expt_pos_list = expt_info.loc[(expt_info['Useable (in radial analysis)'] ==  True)][['EXP n˚','POSITION', 'CELL TYPE']]\n"
   ]
  },
  {
   "cell_type": "code",
   "execution_count": null,
   "id": "b29a0fc8",
   "metadata": {},
   "outputs": [],
   "source": [
    "expt_pos_list"
   ]
  },
  {
   "cell_type": "code",
   "execution_count": null,
   "id": "9a43b9ec",
   "metadata": {},
   "outputs": [],
   "source": [
    "root_dir = '/home/nathan/data/kraken/ras'\n",
    "viewer = napari.Viewer()\n",
    "for i, expt_pos in tqdm(expt_pos_list.iterrows(), desc = 'Progress throughout valid expts', total = len(expt_pos_list)):\n",
    "    expt = expt_pos['EXP n˚']\n",
    "    pos = expt_pos['POSITION']\n",
    "    image_path = f'{root_dir}/{expt}/{pos}/{pos}_images'\n",
    "    images = DaskOctopusLiteLoader(image_path)\n",
    "#     stack_gfp = []\n",
    "#     for i in tqdm(images.files('gfp'), total = len(images.files('gfp'))):\n",
    "#         img_gfp = imread(i)\n",
    "#         stack_gfp.append(img_gfp)\n",
    "#     stack_gfp = np.stack(stack_gfp, axis = 0)\n",
    "    stack_bf = []\n",
    "    for i in tqdm(images.files('brightfield'), total = len(images.files('gfp'))):\n",
    "        img_bf = imread(i)\n",
    "        stack_bf.append(img_bf)\n",
    "    stack_bf = np.stack(stack_bf, axis = 0)\n",
    "    stack_rfp = []\n",
    "    for i in tqdm(images.files('rfp'), total = len(images.files('rfp'))):\n",
    "        img_rfp = imread(i.replace('channel001', 'channel002'))\n",
    "        stack_rfp.append(img_rfp)\n",
    "    stack_rfp = np.stack(stack_rfp, axis = 0)\n",
    "#     viewer.add_image(stack_gfp, name=f\"gfp {expt}, {pos}\", \n",
    "#                      contrast_limits=[0,255],\n",
    "#                      blending = 'additive', colormap = 'green')\n",
    "    viewer.add_image(stack_bf, name=f\"bf {expt}, {pos}\", \n",
    "                     contrast_limits=[0,255],\n",
    "                     blending = 'additive')\n",
    "    viewer.add_image(stack_rfp, name=f\"rfp {expt}, {pos}\", \n",
    "                     contrast_limits=[0,55], \n",
    "                     blending = 'additive', colormap = 'magenta')\n",
    "    viewer.dims.current_step = (0,0,0)\n",
    "    viewer.show(block=True)\n",
    "    \n",
    "    break"
   ]
  },
  {
   "cell_type": "code",
   "execution_count": null,
   "id": "95aa955c",
   "metadata": {},
   "outputs": [],
   "source": [
    "stack_rfp = []\n",
    "for i in tqdm(images.files('rfp'), total = len(images.files('rfp'))):\n",
    "    img_rfp = imread(i.replace('channel001', 'channel002'))\n",
    "    stack_rfp.append(img_rfp)\n",
    "stack_rfp = np.stack(stack_rfp, axis = 0)"
   ]
  },
  {
   "cell_type": "code",
   "execution_count": null,
   "id": "7f9995ae",
   "metadata": {},
   "outputs": [],
   "source": [
    "viewer.add_image(stack_rfp, name=f\"rfp {expt}, {pos}\", \n",
    "                 contrast_limits=[0,55], \n",
    "                 blending = 'additive', colormap = 'magenta')"
   ]
  },
  {
   "cell_type": "markdown",
   "id": "9cc54637",
   "metadata": {},
   "source": [
    "# Load images"
   ]
  },
  {
   "cell_type": "code",
   "execution_count": null,
   "id": "5206859a",
   "metadata": {
    "scrolled": true
   },
   "outputs": [],
   "source": [
    "# define experiment ID and select a position\n",
    "expt = 'ND0013'\n",
    "pos = 'Pos7'\n",
    "# point to where the data is\n",
    "\n",
    "image_path = f'{root_dir}/{expt}/{pos}/{pos}_images'"
   ]
  },
  {
   "cell_type": "code",
   "execution_count": null,
   "id": "72347393",
   "metadata": {
    "scrolled": true
   },
   "outputs": [],
   "source": [
    "# lazily load images\n",
    "images = DaskOctopusLiteLoader(image_path)"
   ]
  },
  {
   "cell_type": "code",
   "execution_count": null,
   "id": "632a1c79",
   "metadata": {},
   "outputs": [],
   "source": [
    "files = images.files('gfp')"
   ]
  },
  {
   "cell_type": "code",
   "execution_count": null,
   "id": "82f771a6",
   "metadata": {
    "scrolled": false
   },
   "outputs": [],
   "source": [
    "stack_gfp = []\n",
    "for i in tqdm(images.files('gfp'), total = len(images.files('gfp'))):\n",
    "    img_gfp = imread(i)\n",
    "    stack_gfp.append(img_gfp)\n",
    "stack_gfp = np.stack(stack_gfp, axis = 0)\n",
    "stack_rfp = []\n",
    "for i in tqdm(images.files('rfp'), total = len(images.files('rfp'))):\n",
    "    img_rfp = imread(i.replace('channel001', 'channel002'))\n",
    "    stack_rfp.append(img_rfp)\n",
    "stack_rfp = np.stack(stack_rfp, axis = 0)"
   ]
  },
  {
   "cell_type": "code",
   "execution_count": null,
   "id": "54c3aacb",
   "metadata": {},
   "outputs": [],
   "source": [
    "viewer = napari.Viewer()\n",
    "\n",
    "viewer.add_image(stack_gfp, name=\"gfp\", \n",
    "                 contrast_limits=[0,255],\n",
    "                 blending = 'additive', colormap = 'green')\n",
    "viewer.add_image(stack_rfp, name=\"rfp\", \n",
    "                 contrast_limits=[0,55], \n",
    "                 blending = 'additive', colormap = 'magenta')"
   ]
  },
  {
   "cell_type": "markdown",
   "id": "ffd3ac2c",
   "metadata": {},
   "source": [
    "# Edit list of coords post finding"
   ]
  },
  {
   "cell_type": "code",
   "execution_count": null,
   "id": "bb1c8ac1",
   "metadata": {},
   "outputs": [],
   "source": [
    "transform_tensor = np.load(transform_path)\n",
    "img = imread(files[0])\n",
    "shape = img.shape\n",
    "dims = img.ndim\n",
    "cslice = lambda d: slice(\n",
    "    int((shape[d] - crop[d]) // 2), int((shape[d] - crop[d]) // 2 + crop[d])\n",
    ")\n",
    "crops = tuple([cslice(d) for d in range(dims)])"
   ]
  }
 ],
 "metadata": {
  "kernelspec": {
   "display_name": "CellX",
   "language": "python",
   "name": "cellx"
  },
  "language_info": {
   "codemirror_mode": {
    "name": "ipython",
    "version": 3
   },
   "file_extension": ".py",
   "mimetype": "text/x-python",
   "name": "python",
   "nbconvert_exporter": "python",
   "pygments_lexer": "ipython3",
   "version": "3.9.7"
  }
 },
 "nbformat": 4,
 "nbformat_minor": 5
}
