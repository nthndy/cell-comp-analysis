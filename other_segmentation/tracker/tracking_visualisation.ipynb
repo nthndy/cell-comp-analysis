{
 "cells": [
  {
   "cell_type": "code",
   "execution_count": null,
   "metadata": {},
   "outputs": [
    {
     "name": "stderr",
     "output_type": "stream",
     "text": [
      "[INFO][2020/08/14 03:42:30 pm] Opening HDF file: /home/nathan/data/SHARC/fucci/fucci1_171201/tracks/tracks_cellpose/cellpose_nuclear.h5\n",
      "[INFO][2020/08/14 03:42:30 pm] Loading obj_type_1 (160396, 5) (160396 filtered: None)...\n",
      "[INFO][2020/08/14 03:42:33 pm] Loading tracks: obj_type_1...\n",
      "[WARNING][2020/08/14 03:42:33 pm] Cannot filter objects by area\n",
      "[INFO][2020/08/14 03:42:33 pm] Loading obj_type_1 (160396, 5) (160396 filtered: area>=50)...\n",
      "[INFO][2020/08/14 03:42:38 pm] Closing HDF file: /home/nathan/data/SHARC/fucci/fucci1_171201/tracks/tracks_cellpose/cellpose_nuclear.h5\n"
     ]
    }
   ],
   "source": [
    "import arboretum\n",
    "\n",
    "from skimage import io\n",
    "\n",
    "\n",
    "seg = io.imread('/home/nathan/data/kraken/fucci/2017_10_18/pos16/other_mask_data/cellpose_nuclear.tif')\n",
    "\n",
    "#arboretum.run(segmentation = seg)\n",
    "\n",
    "arboretum.run()"
   ]
  }
 ],
 "metadata": {
  "kernelspec": {
   "display_name": "Python 3",
   "language": "python",
   "name": "python3"
  },
  "language_info": {
   "codemirror_mode": {
    "name": "ipython",
    "version": 3
   },
   "file_extension": ".py",
   "mimetype": "text/x-python",
   "name": "python",
   "nbconvert_exporter": "python",
   "pygments_lexer": "ipython3",
   "version": "3.7.6"
  }
 },
 "nbformat": 4,
 "nbformat_minor": 4
}
