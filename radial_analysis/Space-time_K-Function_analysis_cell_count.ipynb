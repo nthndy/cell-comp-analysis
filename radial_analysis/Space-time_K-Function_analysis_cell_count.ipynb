{
 "cells": [
  {
   "cell_type": "markdown",
   "id": "eb869bf7",
   "metadata": {},
   "source": [
    "# Space-time K-function analysis for cell counts\n",
    "\n",
    "This time using the webpage cited in the Levayer paper which I ended up finding on web archive.\n",
    "\n",
    "https://web.archive.org/web/20210513032304/https://www.seas.upenn.edu/~ese502/\n",
    "\n",
    "Particularly this chapter:\n",
    "https://web.archive.org/web/20210507072822/https://www.seas.upenn.edu/~ese502/NOTEBOOK/Part_I/6_Space_Time_Processes.pdf"
   ]
  },
  {
   "cell_type": "code",
   "execution_count": 1,
   "id": "112c9ccd",
   "metadata": {},
   "outputs": [],
   "source": [
    "import pandas as pd\n",
    "import numpy as np\n",
    "from tqdm.auto import tqdm\n",
    "from dataio import load_radial_df\n",
    "from render import render_from_df\n",
    "import glob\n",
    "import matplotlib.pyplot as plt\n",
    "%matplotlib inline"
   ]
  },
  {
   "cell_type": "markdown",
   "id": "974644dc",
   "metadata": {},
   "source": [
    "# Space-Time Point Processes\n",
    "\n",
    "Event sequences exhibit space-time clustering if events that are close in space tend to be closer in time than would be expected by chance alone. Consider a space-time pattern of events\n",
    "\n",
    "<img src=\"https://latex.codecogs.com/svg.image?\\left\\{e_{i}=(s_{i},t_{i}:i=1,...,n)&space;\\right\\}\" title=\"eq\" />\n",
    "\n",
    "in region R where s<sub>i</sub> denotes location of an event e<sub>i</sub> in R and t<sub>i</sub> denotes the time at which it occurs. If we are interested in the numbers of events that are close to e<sub>i</sub> then for each spatial distance h and time increment Δ it is natural to define the corresponding space-time neighbourhood of e<sub>i</sub> by the Cartesian product \n",
    "\n",
    "<img src=\"https://latex.codecogs.com/svg.image?C_{(h,&space;\\Delta)}(e_{i})=\\left\\{&space;(s,t):\\left\\|s_{i}&space;-s\\right\\|\\leq&space;h,\\left|t_{i}-t&space;\\right|\\leq&space;\\Delta\\right\\}\" title=\"eq\" />\n",
    "\n",
    "<img src=\"https://latex.codecogs.com/svg.image?=&space;\\left\\{s:\\left\\|s_{i}&space;-s\\right\\|\\leq&space;h\\right\\}&space;\\times&space;\\left\\{t:\\left\\|t_{i}&space;-s\\right\\|\\leq&space;\\Delta\\right\\}\" title=\"eq\" />\n",
    "\n",
    "Which corresponds to cylindrical neighbourhoods in space-time. As in two dimensions, one can define a relevant space-time region as the Cartesian product of RxT, with the default time interval usually taken to be the smallest time interval containing all event times. "
   ]
  },
  {
   "cell_type": "markdown",
   "id": "da9778ea",
   "metadata": {},
   "source": [
    "Thus, the extension of the K-functions is completely straightforward and the space-time indicator functions are the same, but with an added temporal dimension condition.\n",
    "\n",
    "<img src=\"https://latex.codecogs.com/svg.image?I_{(h,&space;\\Delta)}\\left(d_{i&space;j},&space;t_{i&space;j}\\right)=&space;\\begin{cases}1,&space;&&space;\\left(d_{i&space;j}&space;\\leq&space;h\\right)&space;\\text&space;{&space;and&space;}\\left(t_{i&space;j}&space;\\leq&space;\\Delta\\right)&space;\\\\&space;0,&space;&&space;\\text&space;{&space;otherwise&space;}\\end{cases}\">\n",
    "\n",
    "Which results in the space-time K-function of the expected number of addition events within space-time distance (h, Δ) of a randomly selected event as\n",
    "\n",
    "\n",
    "<img src=\"https://latex.codecogs.com/svg.image?K(h,&space;\\Delta)=\\frac{1}{\\lambda_{s&space;t}}&space;\\sum_{j&space;\\neq&space;i}&space;E\\left[I_{(h,&space;\\Delta)}\\left(d_{i&space;j},&space;t_{i&space;j}\\right)\\right]\">\n",
    "\n",
    "For any given pattern of size n, the pooled form of this function is \n",
    "\n",
    "<img src=\"https://latex.codecogs.com/svg.image?K(h,&space;\\Delta)=\\frac{1}{n&space;\\cdot&space;\\lambda_{s&space;t}}&space;\\sum_{i=1}^{n}&space;\\sum_{j&space;\\neq&space;i}&space;E\\left[I_{(h,&space;\\Delta)}\\left(d_{i&space;j},&space;t_{i&space;j}\\right)\\right]\">\n",
    "\n",
    "and this implies that the natural estimator of K(h, Δ) is given by the sample space-time K-function:\n",
    "\n",
    "<img src=\"https://latex.codecogs.com/svg.image?\\hat{K}(h,&space;\\Delta)=\\frac{1}{n&space;\\cdot&space;\\lambda_{s&space;t}}&space;\\sum_{i=1}^{n}&space;\\sum_{j&space;\\neq&space;i}&space;I_{(h,&space;\\Delta)}\\left(d_{i&space;j},&space;t_{i&space;j}\\right)\">\n",
    "\n",
    "Where the sample estimate, lambda_st, of the space-time intensity is given by \n",
    "\n",
    "<img src=\"https://latex.codecogs.com/svg.image?\\hat{\\lambda}_{\\mathrm{st}}=\\frac{n}{a(R)&space;\\cdot\\left(t_{\\max&space;}-t_{\\min&space;}\\right)}\">"
   ]
  },
  {
   "cell_type": "markdown",
   "id": "ab217050",
   "metadata": {},
   "source": [
    "#### Implementing this analysis on a dataset of wild-type division localisations around N = 1 Scribble<sup>KD</sup> apoptosis\n",
    "\n"
   ]
  },
  {
   "cell_type": "code",
   "execution_count": 2,
   "id": "a9c718a9",
   "metadata": {},
   "outputs": [
    {
     "data": {
      "text/plain": [
       "1"
      ]
     },
     "execution_count": 2,
     "metadata": {},
     "output_type": "execute_result"
    }
   ],
   "source": [
    "file_list = glob.glob('/home/nathan/data/results/radial_analysis_output/follow/raw_lists/1600.1600/scr_apop_wt_div_xyt/1600.1600/*')\n",
    "file_list = [file for file in file_list if 'GV0796_Pos3_Scr_-9_' in file and 'cells' in file]\n",
    "len(file_list)"
   ]
  },
  {
   "cell_type": "code",
   "execution_count": 3,
   "id": "b07b5548",
   "metadata": {},
   "outputs": [
    {
     "data": {
      "application/vnd.jupyter.widget-view+json": {
       "model_id": "99b452f2d59e4511af9e3fef9c29d8d5",
       "version_major": 2,
       "version_minor": 0
      },
      "text/plain": [
       "  0%|          | 0/1 [00:00<?, ?it/s]"
      ]
     },
     "metadata": {},
     "output_type": "display_data"
    },
    {
     "name": "stderr",
     "output_type": "stream",
     "text": [
      "/home/nathan/analysis/cell-comp-analysis/radial_analysis/dataio.py:90: FutureWarning: The default value of regex will change from True to False in a future version.\n",
      "  df['Cell ID'] = df['Cell ID'].str.replace('[()]', '')\n",
      "/home/nathan/analysis/cell-comp-analysis/radial_analysis/dataio.py:91: FutureWarning: The default value of regex will change from True to False in a future version.\n",
      "  df['y'] = df['y'].str.replace('[()]', '')\n"
     ]
    },
    {
     "name": "stdout",
     "output_type": "stream",
     "text": [
      "Number of focal cells included in cumulative scan: 1\n"
     ]
    }
   ],
   "source": [
    "### loading all division localisations regardless of whether or not the scan leaves the FOV etc. (still cropping edge effects and loading all info)\n",
    "df = load_radial_df(file_list, crop_amount = 20, streamline = False)# R = 100, crop_amount = True, streamline = False, strict_filtering = True)"
   ]
  },
  {
   "cell_type": "code",
   "execution_count": 4,
   "id": "b136bf9e",
   "metadata": {},
   "outputs": [],
   "source": [
    "### renaming columns to fit with nomenclature of K-function\n",
    "df = df.rename(columns={'Distance from apoptosis': 'dij', 'Time since apoptosis': 'tij'})"
   ]
  },
  {
   "cell_type": "markdown",
   "id": "6053eabe",
   "metadata": {},
   "source": [
    "The following dataframe shows the distance (dij) and time (tij) of division events from a central focal apoptotic event. "
   ]
  },
  {
   "cell_type": "code",
   "execution_count": 5,
   "id": "4619d51c",
   "metadata": {},
   "outputs": [
    {
     "data": {
      "text/html": [
       "<div>\n",
       "<style scoped>\n",
       "    .dataframe tbody tr th:only-of-type {\n",
       "        vertical-align: middle;\n",
       "    }\n",
       "\n",
       "    .dataframe tbody tr th {\n",
       "        vertical-align: top;\n",
       "    }\n",
       "\n",
       "    .dataframe thead th {\n",
       "        text-align: right;\n",
       "    }\n",
       "</style>\n",
       "<table border=\"1\" class=\"dataframe\">\n",
       "  <thead>\n",
       "    <tr style=\"text-align: right;\">\n",
       "      <th></th>\n",
       "      <th>Cell ID</th>\n",
       "      <th>dij</th>\n",
       "      <th>Frame</th>\n",
       "      <th>x</th>\n",
       "      <th>y</th>\n",
       "      <th>tij</th>\n",
       "      <th>Focal ID</th>\n",
       "    </tr>\n",
       "  </thead>\n",
       "  <tbody>\n",
       "    <tr>\n",
       "      <th>0</th>\n",
       "      <td>100</td>\n",
       "      <td>362.666667</td>\n",
       "      <td>0</td>\n",
       "      <td>732</td>\n",
       "      <td>1203</td>\n",
       "      <td>-29.866667</td>\n",
       "      <td>GV0796_Pos3_Scr_-9</td>\n",
       "    </tr>\n",
       "    <tr>\n",
       "      <th>1</th>\n",
       "      <td>92</td>\n",
       "      <td>287.333333</td>\n",
       "      <td>0</td>\n",
       "      <td>746</td>\n",
       "      <td>837</td>\n",
       "      <td>-29.866667</td>\n",
       "      <td>GV0796_Pos3_Scr_-9</td>\n",
       "    </tr>\n",
       "    <tr>\n",
       "      <th>2</th>\n",
       "      <td>93</td>\n",
       "      <td>331.000000</td>\n",
       "      <td>0</td>\n",
       "      <td>35</td>\n",
       "      <td>1383</td>\n",
       "      <td>-29.866667</td>\n",
       "      <td>GV0796_Pos3_Scr_-9</td>\n",
       "    </tr>\n",
       "    <tr>\n",
       "      <th>3</th>\n",
       "      <td>94</td>\n",
       "      <td>314.666667</td>\n",
       "      <td>0</td>\n",
       "      <td>30</td>\n",
       "      <td>1334</td>\n",
       "      <td>-29.866667</td>\n",
       "      <td>GV0796_Pos3_Scr_-9</td>\n",
       "    </tr>\n",
       "    <tr>\n",
       "      <th>4</th>\n",
       "      <td>95</td>\n",
       "      <td>289.333333</td>\n",
       "      <td>0</td>\n",
       "      <td>49</td>\n",
       "      <td>1258</td>\n",
       "      <td>-29.866667</td>\n",
       "      <td>GV0796_Pos3_Scr_-9</td>\n",
       "    </tr>\n",
       "    <tr>\n",
       "      <th>...</th>\n",
       "      <td>...</td>\n",
       "      <td>...</td>\n",
       "      <td>...</td>\n",
       "      <td>...</td>\n",
       "      <td>...</td>\n",
       "      <td>...</td>\n",
       "      <td>...</td>\n",
       "    </tr>\n",
       "    <tr>\n",
       "      <th>611512</th>\n",
       "      <td>6331</td>\n",
       "      <td>287.000000</td>\n",
       "      <td>1000</td>\n",
       "      <td>805</td>\n",
       "      <td>983</td>\n",
       "      <td>36.800000</td>\n",
       "      <td>GV0796_Pos3_Scr_-9</td>\n",
       "    </tr>\n",
       "    <tr>\n",
       "      <th>611513</th>\n",
       "      <td>6332</td>\n",
       "      <td>253.000000</td>\n",
       "      <td>1000</td>\n",
       "      <td>947</td>\n",
       "      <td>202</td>\n",
       "      <td>36.800000</td>\n",
       "      <td>GV0796_Pos3_Scr_-9</td>\n",
       "    </tr>\n",
       "    <tr>\n",
       "      <th>611514</th>\n",
       "      <td>6333</td>\n",
       "      <td>253.333333</td>\n",
       "      <td>1000</td>\n",
       "      <td>940</td>\n",
       "      <td>170</td>\n",
       "      <td>36.800000</td>\n",
       "      <td>GV0796_Pos3_Scr_-9</td>\n",
       "    </tr>\n",
       "    <tr>\n",
       "      <th>611515</th>\n",
       "      <td>6336</td>\n",
       "      <td>85.333333</td>\n",
       "      <td>1000</td>\n",
       "      <td>60</td>\n",
       "      <td>154</td>\n",
       "      <td>36.800000</td>\n",
       "      <td>GV0796_Pos3_Scr_-9</td>\n",
       "    </tr>\n",
       "    <tr>\n",
       "      <th>611516</th>\n",
       "      <td>6338</td>\n",
       "      <td>348.333333</td>\n",
       "      <td>1000</td>\n",
       "      <td>25</td>\n",
       "      <td>1394</td>\n",
       "      <td>36.800000</td>\n",
       "      <td>GV0796_Pos3_Scr_-9</td>\n",
       "    </tr>\n",
       "  </tbody>\n",
       "</table>\n",
       "<p>611517 rows × 7 columns</p>\n",
       "</div>"
      ],
      "text/plain": [
       "        Cell ID         dij  Frame    x     y        tij            Focal ID\n",
       "0           100  362.666667      0  732  1203 -29.866667  GV0796_Pos3_Scr_-9\n",
       "1            92  287.333333      0  746   837 -29.866667  GV0796_Pos3_Scr_-9\n",
       "2            93  331.000000      0   35  1383 -29.866667  GV0796_Pos3_Scr_-9\n",
       "3            94  314.666667      0   30  1334 -29.866667  GV0796_Pos3_Scr_-9\n",
       "4            95  289.333333      0   49  1258 -29.866667  GV0796_Pos3_Scr_-9\n",
       "...         ...         ...    ...  ...   ...        ...                 ...\n",
       "611512     6331  287.000000   1000  805   983  36.800000  GV0796_Pos3_Scr_-9\n",
       "611513     6332  253.000000   1000  947   202  36.800000  GV0796_Pos3_Scr_-9\n",
       "611514     6333  253.333333   1000  940   170  36.800000  GV0796_Pos3_Scr_-9\n",
       "611515     6336   85.333333   1000   60   154  36.800000  GV0796_Pos3_Scr_-9\n",
       "611516     6338  348.333333   1000   25  1394  36.800000  GV0796_Pos3_Scr_-9\n",
       "\n",
       "[611517 rows x 7 columns]"
      ]
     },
     "execution_count": 5,
     "metadata": {},
     "output_type": "execute_result"
    }
   ],
   "source": [
    "df"
   ]
  },
  {
   "cell_type": "code",
   "execution_count": 6,
   "id": "7a9112dd",
   "metadata": {
    "scrolled": true
   },
   "outputs": [
    {
     "name": "stdout",
     "output_type": "stream",
     "text": [
      "Total number of cell count events, n =  4579\n",
      "Total number of focal apoptotic events, n =  1\n"
     ]
    }
   ],
   "source": [
    "n1 = len(set(df['Cell ID']))\n",
    "print('Total number of cell count events, n = ', n1)\n",
    "n2 = len(set(df['Focal ID'])) #len(file_list)\n",
    "print('Total number of focal apoptotic events, n = ', n2)"
   ]
  },
  {
   "cell_type": "code",
   "execution_count": 7,
   "id": "e4a84a6b",
   "metadata": {},
   "outputs": [
    {
     "name": "stdout",
     "output_type": "stream",
     "text": [
      "Default time interval, T =  66.66666666666666\n"
     ]
    }
   ],
   "source": [
    "T = max(df['tij']) - min(df['tij'])\n",
    "print('Default time interval, T = ', T)"
   ]
  },
  {
   "cell_type": "code",
   "execution_count": 8,
   "id": "6b31775d",
   "metadata": {},
   "outputs": [
    {
     "name": "stdout",
     "output_type": "stream",
     "text": [
      "Total area (FOV) in micrometres, a(R) = 201067 microns squared\n"
     ]
    }
   ],
   "source": [
    "x_range = max(df['x']) - min(df['x'])\n",
    "y_range = max(df['y']) - min(df['y'])\n",
    "### convert from pixels to micrometres (/3)\n",
    "a = (x_range/3)*(y_range/3)\n",
    "print('Total area (FOV) in micrometres, a(R) =', round(a), 'microns squared')"
   ]
  },
  {
   "cell_type": "code",
   "execution_count": 9,
   "id": "624a937d",
   "metadata": {},
   "outputs": [
    {
     "name": "stdout",
     "output_type": "stream",
     "text": [
      "Space-time intensity parameter, lambda_st =  0.00034160311671087534\n",
      "Space-time intensity parameter for cell counts, lambda_1 =  0.00034160311671087534\n",
      "Space-time intensity parameter for apoptotic events, lambda_2 =  7.460212201591513e-08\n"
     ]
    }
   ],
   "source": [
    "n = n1\n",
    "lambda_st = n/(a*T)\n",
    "print('Space-time intensity parameter, lambda_st = ', lambda_st)\n",
    "lambda_1 = n1/(a*T)\n",
    "print('Space-time intensity parameter for cell counts, lambda_1 = ', lambda_1)\n",
    "lambda_2 = n2/(a*T)\n",
    "print('Space-time intensity parameter for apoptotic events, lambda_2 = ', lambda_2)"
   ]
  },
  {
   "cell_type": "code",
   "execution_count": 10,
   "id": "d74ee70a",
   "metadata": {},
   "outputs": [],
   "source": [
    "delta_ = np.linspace(-5,5, 100)\n",
    "h_ = np.linspace(0,100, 100)"
   ]
  },
  {
   "cell_type": "code",
   "execution_count": 11,
   "id": "cc191ef2",
   "metadata": {},
   "outputs": [],
   "source": [
    "def K_st_func(h_, delta_, n, lambda_st, df):\n",
    "    K_st = np.zeros((len(h_), len(delta_)))\n",
    "    for i, h in tqdm(enumerate(h_), total = len(delta_), desc = 'Iterating over space-time'):\n",
    "        for j, delta in enumerate(delta_):\n",
    "                ### if delta is negative, then needs to be greater than or less than zero\n",
    "                if delta < 0:\n",
    "                    K_st[i, j] = (1/(n * lambda_st)) * len(df[((df['tij']) <= 0) & ((df['tij']) >= (delta)) & (df['dij'] <= h)])\n",
    "                ### if delta is positive, then has to be greater than zero less than delta\n",
    "                else: \n",
    "                    K_st[i, j] = (1/(n * lambda_st)) * len(df[((df['tij']) >= 0) & ((df['tij']) <= (delta)) & (df['dij'] <= h)])\n",
    "\n",
    "    return K_st"
   ]
  },
  {
   "cell_type": "code",
   "execution_count": 12,
   "id": "d52ebce3",
   "metadata": {},
   "outputs": [
    {
     "data": {
      "application/vnd.jupyter.widget-view+json": {
       "model_id": "38914cde4eee482c8a51ed52cfd19880",
       "version_major": 2,
       "version_minor": 0
      },
      "text/plain": [
       "Iterating over space-time:   0%|          | 0/100 [00:00<?, ?it/s]"
      ]
     },
     "metadata": {},
     "output_type": "display_data"
    }
   ],
   "source": [
    "K_st = K_st_func(h_, delta_, n, lambda_st, df)"
   ]
  },
  {
   "cell_type": "code",
   "execution_count": 13,
   "id": "15d91572",
   "metadata": {},
   "outputs": [
    {
     "data": {
      "text/plain": [
       "Text(0.5, 1.0, 'Space-time K-function \\n for N = 1 focal apoptosis')"
      ]
     },
     "execution_count": 13,
     "metadata": {},
     "output_type": "execute_result"
    },
    {
     "data": {
      "image/png": "[encoded data removed]",
      "text/plain": [
       "<Figure size 432x288 with 2 Axes>"
      ]
     },
     "metadata": {
      "needs_background": "light"
     },
     "output_type": "display_data"
    }
   ],
   "source": [
    "pc = plt.pcolormesh(delta_, h_, K_st, )\n",
    "plt.colorbar(label = 'Expected number of additional events',)\n",
    "plt.xlabel('Time since apoptosis (hours)')\n",
    "plt.ylabel('Distance from apoptosis (microns)')\n",
    "plt.title('Space-time K-function \\n for N = 1 focal apoptosis')"
   ]
  },
  {
   "cell_type": "markdown",
   "id": "36f24b95",
   "metadata": {},
   "source": [
    "## Temporal indistinguishability hypothesis\n",
    "\n",
    "Random permutations of different time points to see if the K-function patterns still hold."
   ]
  },
  {
   "cell_type": "code",
   "execution_count": 14,
   "id": "485cb926",
   "metadata": {},
   "outputs": [
    {
     "data": {
      "text/html": [
       "<div>\n",
       "<style scoped>\n",
       "    .dataframe tbody tr th:only-of-type {\n",
       "        vertical-align: middle;\n",
       "    }\n",
       "\n",
       "    .dataframe tbody tr th {\n",
       "        vertical-align: top;\n",
       "    }\n",
       "\n",
       "    .dataframe thead th {\n",
       "        text-align: right;\n",
       "    }\n",
       "</style>\n",
       "<table border=\"1\" class=\"dataframe\">\n",
       "  <thead>\n",
       "    <tr style=\"text-align: right;\">\n",
       "      <th></th>\n",
       "      <th>Cell ID</th>\n",
       "      <th>dij</th>\n",
       "      <th>Frame</th>\n",
       "      <th>x</th>\n",
       "      <th>y</th>\n",
       "      <th>tij</th>\n",
       "      <th>Focal ID</th>\n",
       "    </tr>\n",
       "  </thead>\n",
       "  <tbody>\n",
       "    <tr>\n",
       "      <th>0</th>\n",
       "      <td>100</td>\n",
       "      <td>362.666667</td>\n",
       "      <td>0</td>\n",
       "      <td>732</td>\n",
       "      <td>1203</td>\n",
       "      <td>-29.866667</td>\n",
       "      <td>GV0796_Pos3_Scr_-9</td>\n",
       "    </tr>\n",
       "    <tr>\n",
       "      <th>1</th>\n",
       "      <td>92</td>\n",
       "      <td>287.333333</td>\n",
       "      <td>0</td>\n",
       "      <td>746</td>\n",
       "      <td>837</td>\n",
       "      <td>-29.866667</td>\n",
       "      <td>GV0796_Pos3_Scr_-9</td>\n",
       "    </tr>\n",
       "    <tr>\n",
       "      <th>2</th>\n",
       "      <td>93</td>\n",
       "      <td>331.000000</td>\n",
       "      <td>0</td>\n",
       "      <td>35</td>\n",
       "      <td>1383</td>\n",
       "      <td>-29.866667</td>\n",
       "      <td>GV0796_Pos3_Scr_-9</td>\n",
       "    </tr>\n",
       "    <tr>\n",
       "      <th>3</th>\n",
       "      <td>94</td>\n",
       "      <td>314.666667</td>\n",
       "      <td>0</td>\n",
       "      <td>30</td>\n",
       "      <td>1334</td>\n",
       "      <td>-29.866667</td>\n",
       "      <td>GV0796_Pos3_Scr_-9</td>\n",
       "    </tr>\n",
       "    <tr>\n",
       "      <th>4</th>\n",
       "      <td>95</td>\n",
       "      <td>289.333333</td>\n",
       "      <td>0</td>\n",
       "      <td>49</td>\n",
       "      <td>1258</td>\n",
       "      <td>-29.866667</td>\n",
       "      <td>GV0796_Pos3_Scr_-9</td>\n",
       "    </tr>\n",
       "    <tr>\n",
       "      <th>...</th>\n",
       "      <td>...</td>\n",
       "      <td>...</td>\n",
       "      <td>...</td>\n",
       "      <td>...</td>\n",
       "      <td>...</td>\n",
       "      <td>...</td>\n",
       "      <td>...</td>\n",
       "    </tr>\n",
       "    <tr>\n",
       "      <th>611512</th>\n",
       "      <td>6331</td>\n",
       "      <td>287.000000</td>\n",
       "      <td>1000</td>\n",
       "      <td>805</td>\n",
       "      <td>983</td>\n",
       "      <td>36.800000</td>\n",
       "      <td>GV0796_Pos3_Scr_-9</td>\n",
       "    </tr>\n",
       "    <tr>\n",
       "      <th>611513</th>\n",
       "      <td>6332</td>\n",
       "      <td>253.000000</td>\n",
       "      <td>1000</td>\n",
       "      <td>947</td>\n",
       "      <td>202</td>\n",
       "      <td>36.800000</td>\n",
       "      <td>GV0796_Pos3_Scr_-9</td>\n",
       "    </tr>\n",
       "    <tr>\n",
       "      <th>611514</th>\n",
       "      <td>6333</td>\n",
       "      <td>253.333333</td>\n",
       "      <td>1000</td>\n",
       "      <td>940</td>\n",
       "      <td>170</td>\n",
       "      <td>36.800000</td>\n",
       "      <td>GV0796_Pos3_Scr_-9</td>\n",
       "    </tr>\n",
       "    <tr>\n",
       "      <th>611515</th>\n",
       "      <td>6336</td>\n",
       "      <td>85.333333</td>\n",
       "      <td>1000</td>\n",
       "      <td>60</td>\n",
       "      <td>154</td>\n",
       "      <td>36.800000</td>\n",
       "      <td>GV0796_Pos3_Scr_-9</td>\n",
       "    </tr>\n",
       "    <tr>\n",
       "      <th>611516</th>\n",
       "      <td>6338</td>\n",
       "      <td>348.333333</td>\n",
       "      <td>1000</td>\n",
       "      <td>25</td>\n",
       "      <td>1394</td>\n",
       "      <td>36.800000</td>\n",
       "      <td>GV0796_Pos3_Scr_-9</td>\n",
       "    </tr>\n",
       "  </tbody>\n",
       "</table>\n",
       "<p>611517 rows × 7 columns</p>\n",
       "</div>"
      ],
      "text/plain": [
       "        Cell ID         dij  Frame    x     y        tij            Focal ID\n",
       "0           100  362.666667      0  732  1203 -29.866667  GV0796_Pos3_Scr_-9\n",
       "1            92  287.333333      0  746   837 -29.866667  GV0796_Pos3_Scr_-9\n",
       "2            93  331.000000      0   35  1383 -29.866667  GV0796_Pos3_Scr_-9\n",
       "3            94  314.666667      0   30  1334 -29.866667  GV0796_Pos3_Scr_-9\n",
       "4            95  289.333333      0   49  1258 -29.866667  GV0796_Pos3_Scr_-9\n",
       "...         ...         ...    ...  ...   ...        ...                 ...\n",
       "611512     6331  287.000000   1000  805   983  36.800000  GV0796_Pos3_Scr_-9\n",
       "611513     6332  253.000000   1000  947   202  36.800000  GV0796_Pos3_Scr_-9\n",
       "611514     6333  253.333333   1000  940   170  36.800000  GV0796_Pos3_Scr_-9\n",
       "611515     6336   85.333333   1000   60   154  36.800000  GV0796_Pos3_Scr_-9\n",
       "611516     6338  348.333333   1000   25  1394  36.800000  GV0796_Pos3_Scr_-9\n",
       "\n",
       "[611517 rows x 7 columns]"
      ]
     },
     "execution_count": 14,
     "metadata": {},
     "output_type": "execute_result"
    }
   ],
   "source": [
    "df"
   ]
  },
  {
   "cell_type": "markdown",
   "id": "72d23944",
   "metadata": {},
   "source": [
    "The cell below mixes the order of the time points of the events for N different permutations, naming the new shuffled time points t<sub>pi</sub> and the indices of the permutations as tau."
   ]
  },
  {
   "cell_type": "code",
   "execution_count": 15,
   "id": "56d124b8",
   "metadata": {
    "scrolled": true
   },
   "outputs": [
    {
     "data": {
      "application/vnd.jupyter.widget-view+json": {
       "model_id": "357191625a9442949caf6975708bf886",
       "version_major": 2,
       "version_minor": 0
      },
      "text/plain": [
       "  0%|          | 0/20 [00:00<?, ?it/s]"
      ]
     },
     "metadata": {},
     "output_type": "display_data"
    }
   ],
   "source": [
    "### define the number of permutations to make\n",
    "N = 20\n",
    "for tau in tqdm(range(N)):\n",
    "    df[f'tpi τ = {tau}'] = df['tij'].sample(frac=1).reset_index(drop = True)"
   ]
  },
  {
   "cell_type": "code",
   "execution_count": 18,
   "id": "9bca77c4",
   "metadata": {},
   "outputs": [
    {
     "data": {
      "text/html": [
       "<div>\n",
       "<style scoped>\n",
       "    .dataframe tbody tr th:only-of-type {\n",
       "        vertical-align: middle;\n",
       "    }\n",
       "\n",
       "    .dataframe tbody tr th {\n",
       "        vertical-align: top;\n",
       "    }\n",
       "\n",
       "    .dataframe thead th {\n",
       "        text-align: right;\n",
       "    }\n",
       "</style>\n",
       "<table border=\"1\" class=\"dataframe\">\n",
       "  <thead>\n",
       "    <tr style=\"text-align: right;\">\n",
       "      <th></th>\n",
       "      <th>Cell ID</th>\n",
       "      <th>dij</th>\n",
       "      <th>Frame</th>\n",
       "      <th>x</th>\n",
       "      <th>y</th>\n",
       "      <th>tij</th>\n",
       "      <th>Focal ID</th>\n",
       "      <th>tpi τ = 0</th>\n",
       "      <th>tpi τ = 1</th>\n",
       "      <th>tpi τ = 2</th>\n",
       "      <th>...</th>\n",
       "      <th>tpi τ = 10</th>\n",
       "      <th>tpi τ = 11</th>\n",
       "      <th>tpi τ = 12</th>\n",
       "      <th>tpi τ = 13</th>\n",
       "      <th>tpi τ = 14</th>\n",
       "      <th>tpi τ = 15</th>\n",
       "      <th>tpi τ = 16</th>\n",
       "      <th>tpi τ = 17</th>\n",
       "      <th>tpi τ = 18</th>\n",
       "      <th>tpi τ = 19</th>\n",
       "    </tr>\n",
       "  </thead>\n",
       "  <tbody>\n",
       "    <tr>\n",
       "      <th>0</th>\n",
       "      <td>100</td>\n",
       "      <td>362.666667</td>\n",
       "      <td>0</td>\n",
       "      <td>732</td>\n",
       "      <td>1203</td>\n",
       "      <td>-29.866667</td>\n",
       "      <td>GV0796_Pos3_Scr_-9</td>\n",
       "      <td>13.400000</td>\n",
       "      <td>30.600000</td>\n",
       "      <td>32.333333</td>\n",
       "      <td>...</td>\n",
       "      <td>34.066667</td>\n",
       "      <td>9.133333</td>\n",
       "      <td>-12.600000</td>\n",
       "      <td>27.933333</td>\n",
       "      <td>11.933333</td>\n",
       "      <td>11.600000</td>\n",
       "      <td>31.866667</td>\n",
       "      <td>22.000000</td>\n",
       "      <td>28.200000</td>\n",
       "      <td>8.266667</td>\n",
       "    </tr>\n",
       "    <tr>\n",
       "      <th>1</th>\n",
       "      <td>92</td>\n",
       "      <td>287.333333</td>\n",
       "      <td>0</td>\n",
       "      <td>746</td>\n",
       "      <td>837</td>\n",
       "      <td>-29.866667</td>\n",
       "      <td>GV0796_Pos3_Scr_-9</td>\n",
       "      <td>22.200000</td>\n",
       "      <td>1.000000</td>\n",
       "      <td>36.666667</td>\n",
       "      <td>...</td>\n",
       "      <td>3.200000</td>\n",
       "      <td>-2.666667</td>\n",
       "      <td>-21.533333</td>\n",
       "      <td>28.133333</td>\n",
       "      <td>34.466667</td>\n",
       "      <td>19.600000</td>\n",
       "      <td>9.533333</td>\n",
       "      <td>32.333333</td>\n",
       "      <td>28.266667</td>\n",
       "      <td>13.933333</td>\n",
       "    </tr>\n",
       "    <tr>\n",
       "      <th>2</th>\n",
       "      <td>93</td>\n",
       "      <td>331.000000</td>\n",
       "      <td>0</td>\n",
       "      <td>35</td>\n",
       "      <td>1383</td>\n",
       "      <td>-29.866667</td>\n",
       "      <td>GV0796_Pos3_Scr_-9</td>\n",
       "      <td>-5.200000</td>\n",
       "      <td>27.066667</td>\n",
       "      <td>26.600000</td>\n",
       "      <td>...</td>\n",
       "      <td>29.266667</td>\n",
       "      <td>21.800000</td>\n",
       "      <td>20.600000</td>\n",
       "      <td>24.200000</td>\n",
       "      <td>-9.266667</td>\n",
       "      <td>26.733333</td>\n",
       "      <td>-7.866667</td>\n",
       "      <td>27.533333</td>\n",
       "      <td>-5.066667</td>\n",
       "      <td>-13.733333</td>\n",
       "    </tr>\n",
       "    <tr>\n",
       "      <th>3</th>\n",
       "      <td>94</td>\n",
       "      <td>314.666667</td>\n",
       "      <td>0</td>\n",
       "      <td>30</td>\n",
       "      <td>1334</td>\n",
       "      <td>-29.866667</td>\n",
       "      <td>GV0796_Pos3_Scr_-9</td>\n",
       "      <td>22.066667</td>\n",
       "      <td>33.133333</td>\n",
       "      <td>25.933333</td>\n",
       "      <td>...</td>\n",
       "      <td>3.000000</td>\n",
       "      <td>14.066667</td>\n",
       "      <td>36.533333</td>\n",
       "      <td>31.266667</td>\n",
       "      <td>4.600000</td>\n",
       "      <td>24.933333</td>\n",
       "      <td>-5.866667</td>\n",
       "      <td>25.000000</td>\n",
       "      <td>7.666667</td>\n",
       "      <td>30.866667</td>\n",
       "    </tr>\n",
       "    <tr>\n",
       "      <th>4</th>\n",
       "      <td>95</td>\n",
       "      <td>289.333333</td>\n",
       "      <td>0</td>\n",
       "      <td>49</td>\n",
       "      <td>1258</td>\n",
       "      <td>-29.866667</td>\n",
       "      <td>GV0796_Pos3_Scr_-9</td>\n",
       "      <td>31.266667</td>\n",
       "      <td>15.600000</td>\n",
       "      <td>11.200000</td>\n",
       "      <td>...</td>\n",
       "      <td>21.800000</td>\n",
       "      <td>28.733333</td>\n",
       "      <td>34.466667</td>\n",
       "      <td>34.400000</td>\n",
       "      <td>27.533333</td>\n",
       "      <td>-6.800000</td>\n",
       "      <td>8.333333</td>\n",
       "      <td>13.266667</td>\n",
       "      <td>8.866667</td>\n",
       "      <td>18.466667</td>\n",
       "    </tr>\n",
       "    <tr>\n",
       "      <th>...</th>\n",
       "      <td>...</td>\n",
       "      <td>...</td>\n",
       "      <td>...</td>\n",
       "      <td>...</td>\n",
       "      <td>...</td>\n",
       "      <td>...</td>\n",
       "      <td>...</td>\n",
       "      <td>...</td>\n",
       "      <td>...</td>\n",
       "      <td>...</td>\n",
       "      <td>...</td>\n",
       "      <td>...</td>\n",
       "      <td>...</td>\n",
       "      <td>...</td>\n",
       "      <td>...</td>\n",
       "      <td>...</td>\n",
       "      <td>...</td>\n",
       "      <td>...</td>\n",
       "      <td>...</td>\n",
       "      <td>...</td>\n",
       "      <td>...</td>\n",
       "    </tr>\n",
       "    <tr>\n",
       "      <th>611512</th>\n",
       "      <td>6331</td>\n",
       "      <td>287.000000</td>\n",
       "      <td>1000</td>\n",
       "      <td>805</td>\n",
       "      <td>983</td>\n",
       "      <td>36.800000</td>\n",
       "      <td>GV0796_Pos3_Scr_-9</td>\n",
       "      <td>10.533333</td>\n",
       "      <td>-8.466667</td>\n",
       "      <td>-16.666667</td>\n",
       "      <td>...</td>\n",
       "      <td>-10.400000</td>\n",
       "      <td>30.333333</td>\n",
       "      <td>-3.933333</td>\n",
       "      <td>-3.866667</td>\n",
       "      <td>31.333333</td>\n",
       "      <td>25.533333</td>\n",
       "      <td>1.133333</td>\n",
       "      <td>28.200000</td>\n",
       "      <td>31.400000</td>\n",
       "      <td>33.600000</td>\n",
       "    </tr>\n",
       "    <tr>\n",
       "      <th>611513</th>\n",
       "      <td>6332</td>\n",
       "      <td>253.000000</td>\n",
       "      <td>1000</td>\n",
       "      <td>947</td>\n",
       "      <td>202</td>\n",
       "      <td>36.800000</td>\n",
       "      <td>GV0796_Pos3_Scr_-9</td>\n",
       "      <td>19.333333</td>\n",
       "      <td>18.800000</td>\n",
       "      <td>16.866667</td>\n",
       "      <td>...</td>\n",
       "      <td>32.533333</td>\n",
       "      <td>25.266667</td>\n",
       "      <td>31.800000</td>\n",
       "      <td>12.866667</td>\n",
       "      <td>33.400000</td>\n",
       "      <td>26.933333</td>\n",
       "      <td>8.400000</td>\n",
       "      <td>24.133333</td>\n",
       "      <td>17.666667</td>\n",
       "      <td>2.666667</td>\n",
       "    </tr>\n",
       "    <tr>\n",
       "      <th>611514</th>\n",
       "      <td>6333</td>\n",
       "      <td>253.333333</td>\n",
       "      <td>1000</td>\n",
       "      <td>940</td>\n",
       "      <td>170</td>\n",
       "      <td>36.800000</td>\n",
       "      <td>GV0796_Pos3_Scr_-9</td>\n",
       "      <td>19.533333</td>\n",
       "      <td>19.666667</td>\n",
       "      <td>-5.600000</td>\n",
       "      <td>...</td>\n",
       "      <td>10.266667</td>\n",
       "      <td>13.400000</td>\n",
       "      <td>-1.333333</td>\n",
       "      <td>29.666667</td>\n",
       "      <td>0.200000</td>\n",
       "      <td>30.066667</td>\n",
       "      <td>-2.733333</td>\n",
       "      <td>28.066667</td>\n",
       "      <td>-8.800000</td>\n",
       "      <td>31.533333</td>\n",
       "    </tr>\n",
       "    <tr>\n",
       "      <th>611515</th>\n",
       "      <td>6336</td>\n",
       "      <td>85.333333</td>\n",
       "      <td>1000</td>\n",
       "      <td>60</td>\n",
       "      <td>154</td>\n",
       "      <td>36.800000</td>\n",
       "      <td>GV0796_Pos3_Scr_-9</td>\n",
       "      <td>10.800000</td>\n",
       "      <td>26.066667</td>\n",
       "      <td>26.600000</td>\n",
       "      <td>...</td>\n",
       "      <td>25.266667</td>\n",
       "      <td>31.533333</td>\n",
       "      <td>13.666667</td>\n",
       "      <td>-17.600000</td>\n",
       "      <td>27.466667</td>\n",
       "      <td>3.133333</td>\n",
       "      <td>-12.533333</td>\n",
       "      <td>26.200000</td>\n",
       "      <td>11.466667</td>\n",
       "      <td>21.466667</td>\n",
       "    </tr>\n",
       "    <tr>\n",
       "      <th>611516</th>\n",
       "      <td>6338</td>\n",
       "      <td>348.333333</td>\n",
       "      <td>1000</td>\n",
       "      <td>25</td>\n",
       "      <td>1394</td>\n",
       "      <td>36.800000</td>\n",
       "      <td>GV0796_Pos3_Scr_-9</td>\n",
       "      <td>18.600000</td>\n",
       "      <td>0.533333</td>\n",
       "      <td>2.666667</td>\n",
       "      <td>...</td>\n",
       "      <td>5.666667</td>\n",
       "      <td>31.133333</td>\n",
       "      <td>17.466667</td>\n",
       "      <td>28.933333</td>\n",
       "      <td>7.866667</td>\n",
       "      <td>25.933333</td>\n",
       "      <td>25.733333</td>\n",
       "      <td>21.200000</td>\n",
       "      <td>25.266667</td>\n",
       "      <td>32.600000</td>\n",
       "    </tr>\n",
       "  </tbody>\n",
       "</table>\n",
       "<p>611517 rows × 27 columns</p>\n",
       "</div>"
      ],
      "text/plain": [
       "        Cell ID         dij  Frame    x     y        tij            Focal ID  \\\n",
       "0           100  362.666667      0  732  1203 -29.866667  GV0796_Pos3_Scr_-9   \n",
       "1            92  287.333333      0  746   837 -29.866667  GV0796_Pos3_Scr_-9   \n",
       "2            93  331.000000      0   35  1383 -29.866667  GV0796_Pos3_Scr_-9   \n",
       "3            94  314.666667      0   30  1334 -29.866667  GV0796_Pos3_Scr_-9   \n",
       "4            95  289.333333      0   49  1258 -29.866667  GV0796_Pos3_Scr_-9   \n",
       "...         ...         ...    ...  ...   ...        ...                 ...   \n",
       "611512     6331  287.000000   1000  805   983  36.800000  GV0796_Pos3_Scr_-9   \n",
       "611513     6332  253.000000   1000  947   202  36.800000  GV0796_Pos3_Scr_-9   \n",
       "611514     6333  253.333333   1000  940   170  36.800000  GV0796_Pos3_Scr_-9   \n",
       "611515     6336   85.333333   1000   60   154  36.800000  GV0796_Pos3_Scr_-9   \n",
       "611516     6338  348.333333   1000   25  1394  36.800000  GV0796_Pos3_Scr_-9   \n",
       "\n",
       "        tpi τ = 0  tpi τ = 1  tpi τ = 2  ...  tpi τ = 10  tpi τ = 11  \\\n",
       "0       13.400000  30.600000  32.333333  ...   34.066667    9.133333   \n",
       "1       22.200000   1.000000  36.666667  ...    3.200000   -2.666667   \n",
       "2       -5.200000  27.066667  26.600000  ...   29.266667   21.800000   \n",
       "3       22.066667  33.133333  25.933333  ...    3.000000   14.066667   \n",
       "4       31.266667  15.600000  11.200000  ...   21.800000   28.733333   \n",
       "...           ...        ...        ...  ...         ...         ...   \n",
       "611512  10.533333  -8.466667 -16.666667  ...  -10.400000   30.333333   \n",
       "611513  19.333333  18.800000  16.866667  ...   32.533333   25.266667   \n",
       "611514  19.533333  19.666667  -5.600000  ...   10.266667   13.400000   \n",
       "611515  10.800000  26.066667  26.600000  ...   25.266667   31.533333   \n",
       "611516  18.600000   0.533333   2.666667  ...    5.666667   31.133333   \n",
       "\n",
       "        tpi τ = 12  tpi τ = 13  tpi τ = 14  tpi τ = 15  tpi τ = 16  \\\n",
       "0       -12.600000   27.933333   11.933333   11.600000   31.866667   \n",
       "1       -21.533333   28.133333   34.466667   19.600000    9.533333   \n",
       "2        20.600000   24.200000   -9.266667   26.733333   -7.866667   \n",
       "3        36.533333   31.266667    4.600000   24.933333   -5.866667   \n",
       "4        34.466667   34.400000   27.533333   -6.800000    8.333333   \n",
       "...            ...         ...         ...         ...         ...   \n",
       "611512   -3.933333   -3.866667   31.333333   25.533333    1.133333   \n",
       "611513   31.800000   12.866667   33.400000   26.933333    8.400000   \n",
       "611514   -1.333333   29.666667    0.200000   30.066667   -2.733333   \n",
       "611515   13.666667  -17.600000   27.466667    3.133333  -12.533333   \n",
       "611516   17.466667   28.933333    7.866667   25.933333   25.733333   \n",
       "\n",
       "        tpi τ = 17  tpi τ = 18  tpi τ = 19  \n",
       "0        22.000000   28.200000    8.266667  \n",
       "1        32.333333   28.266667   13.933333  \n",
       "2        27.533333   -5.066667  -13.733333  \n",
       "3        25.000000    7.666667   30.866667  \n",
       "4        13.266667    8.866667   18.466667  \n",
       "...            ...         ...         ...  \n",
       "611512   28.200000   31.400000   33.600000  \n",
       "611513   24.133333   17.666667    2.666667  \n",
       "611514   28.066667   -8.800000   31.533333  \n",
       "611515   26.200000   11.466667   21.466667  \n",
       "611516   21.200000   25.266667   32.600000  \n",
       "\n",
       "[611517 rows x 27 columns]"
      ]
     },
     "execution_count": 18,
     "metadata": {},
     "output_type": "execute_result"
    }
   ],
   "source": [
    "df"
   ]
  },
  {
   "cell_type": "code",
   "execution_count": 17,
   "id": "2553a012",
   "metadata": {},
   "outputs": [],
   "source": [
    "def K_st_tau_func(h_, delta_, n, lambda_st, df, tau):\n",
    "    K_st_tau = np.zeros((len(h_), len(delta_)))\n",
    "    for i, h in enumerate(h_):\n",
    "        for j, delta in (enumerate(delta_)):#, total = len(delta_), desc = 'Iterating over space-time'):\n",
    "            ### if delta is negative, then needs to be greater than or less than zero\n",
    "            if delta < 0:\n",
    "                K_st_tau[i, j] = (1/(n * lambda_st)) * len(df[((df[f'tpi τ = {tau}']) <= 0) & ((df['tij']) >= (delta)) & (df['dij'] <= h)])\n",
    "            ### if delta is positive, then has to be greater than zero less than delta\n",
    "            else: \n",
    "                K_st_tau[i, j] = (1/(n * lambda_st)) * len(df[((df[f'tpi τ = {tau}']) >= 0) & ((df['tij']) <= (delta)) & (df['dij'] <= h)])\n",
    "\n",
    "    return K_st_tau"
   ]
  },
  {
   "cell_type": "markdown",
   "id": "2e3e1a0e",
   "metadata": {},
   "source": [
    "Now calculating the space-time K-function for each permutation of time points"
   ]
  },
  {
   "cell_type": "code",
   "execution_count": 18,
   "id": "a489e30c",
   "metadata": {
    "scrolled": true
   },
   "outputs": [
    {
     "data": {
      "application/vnd.jupyter.widget-view+json": {
       "model_id": "20967cf94dad45318a9d74c83d9ad457",
       "version_major": 2,
       "version_minor": 0
      },
      "text/plain": [
       "Progress through tau:   0%|          | 0/20 [00:00<?, ?it/s]"
      ]
     },
     "metadata": {},
     "output_type": "display_data"
    }
   ],
   "source": [
    "K_st_tau = {}\n",
    "for tau in tqdm(range(N), desc = 'Progress through tau'):\n",
    "#     if tau in K_st_tau.keys():\n",
    "#         continue\n",
    "    K_st_tau[tau] = K_st_tau_func(h_, delta_, n, lambda_st, df, tau)"
   ]
  },
  {
   "cell_type": "markdown",
   "id": "d1cdaa54",
   "metadata": {},
   "source": [
    "Checking to see if any two of the randomly time-indices-switched K-function arrays are identical (they should not be)"
   ]
  },
  {
   "cell_type": "code",
   "execution_count": 24,
   "id": "d6b9177f",
   "metadata": {},
   "outputs": [],
   "source": [
    "def arrays_equal(a, b):\n",
    "    if a.shape != b.shape:\n",
    "        return False\n",
    "    for ai, bi in zip(a.flat, b.flat):\n",
    "        if ai != bi:\n",
    "            return False\n",
    "    return True"
   ]
  },
  {
   "cell_type": "code",
   "execution_count": 26,
   "id": "d3ff4d41",
   "metadata": {},
   "outputs": [
    {
     "data": {
      "application/vnd.jupyter.widget-view+json": {
       "model_id": "628964beb00f47348197bd8536181079",
       "version_major": 2,
       "version_minor": 0
      },
      "text/plain": [
       "  0%|          | 0/190 [00:00<?, ?it/s]"
      ]
     },
     "metadata": {},
     "output_type": "display_data"
    }
   ],
   "source": [
    "import itertools\n",
    "for a, b in tqdm(itertools.combinations(K_st_tau, 2), total = 190):\n",
    "    array1 = K_st_tau[a]\n",
    "    array2 = K_st_tau[b]\n",
    "    if arrays_equal(array1, array2) == True:\n",
    "        print(a, b, 'are equal')"
   ]
  },
  {
   "cell_type": "markdown",
   "id": "1363b94f",
   "metadata": {},
   "source": [
    "Saving out space-time K-function permutations"
   ]
  },
  {
   "cell_type": "code",
   "execution_count": 20,
   "id": "8ad48079",
   "metadata": {},
   "outputs": [],
   "source": [
    "import pickle\n",
    "# with open('K_st_tau_20_cell_count.pkl', 'wb') as f:\n",
    "#     pickle.dump(K_st_tau, f)"
   ]
  },
  {
   "cell_type": "code",
   "execution_count": 21,
   "id": "332f54f2",
   "metadata": {},
   "outputs": [],
   "source": [
    "with open('K_st_tau_20_cell_count.pkl', 'rb') as handle:\n",
    "    K_st_tau = pickle.load(handle)"
   ]
  },
  {
   "cell_type": "markdown",
   "id": "3682e751",
   "metadata": {},
   "source": [
    "## Random labelling test\n",
    "\n",
    "For the observed sample space-time K-function (K_st), under temporal indistinguishability hypothesis each observed value should be a typical sample from the list of values of the simulated random relabelings (K_st_tau). \n",
    "If we let M<sup>0</sup><sub>+</sub> denote the number of simulated random relabellings where\n",
    "![original image](https://cdn.mathpix.com/snip/images/Wvkoq-491AhCE2m_G6zGw_L_3ED-5hRLSt7cNqDAC5M.original.fullsize.png)\n",
    "\n",
    "then the probability of obtaining a value as large as the observed K-function value under this hypothesis is estimated by the space-time clustering p-value\n",
    "\n",
    "![original image](https://cdn.mathpix.com/snip/images/526PhmFLMC_EuYZD2w1DfvWRy6jzb4JdlYYX_LGj0II.original.fullsize.png)\n",
    "\n",
    "Similarly, if we let M0_minus denote the number of simulated random relabelling with \n",
    "\n",
    "![original image](https://cdn.mathpix.com/snip/images/ggXq7evPggixcgZ_Fi-46YcEWPo77kqt_-dkqGqwgqw.original.fullsize.png)\n",
    "\n",
    "then the estimated probaility of obtaining a value as small as the original observed K-function under this hypothesis is given by the space-time dispersion p-value\n",
    "\n",
    "![original image](https://cdn.mathpix.com/snip/images/FC8MktUTmWsfNpj8lo4j4eewvhiOyZhsaxH5egDg6ME.original.fullsize.png)"
   ]
  },
  {
   "cell_type": "code",
   "execution_count": 22,
   "id": "906b87eb",
   "metadata": {
    "scrolled": true
   },
   "outputs": [
    {
     "data": {
      "application/vnd.jupyter.widget-view+json": {
       "model_id": "9f95e7c732e34e7d920562c4d29c635b",
       "version_major": 2,
       "version_minor": 0
      },
      "text/plain": [
       "  0%|          | 0/100 [00:00<?, ?it/s]"
      ]
     },
     "metadata": {},
     "output_type": "display_data"
    }
   ],
   "source": [
    "N = len(K_st_tau)\n",
    "P_st_clust = np.zeros(K_st.shape)\n",
    "P_st_disp = np.zeros(K_st.shape)\n",
    "\n",
    "for i, h in enumerate(tqdm(h_, total = len(h_))):\n",
    "    for j, delta in enumerate(delta_):\n",
    "        M0_plus = len([tau for tau in K_st_tau if K_st_tau[tau][i,j] >= K_st[i,j]])\n",
    "        P_st_clust[i,j] = (M0_plus + 1)/(N+1)\n",
    "        M0_minus = len([tau for tau in K_st_tau if K_st_tau[tau][i,j] <= K_st[i,j]])\n",
    "        P_st_disp[i,j] = (M0_minus + 1)/(N+1)\n",
    "    "
   ]
  },
  {
   "cell_type": "code",
   "execution_count": 23,
   "id": "28fe28d7",
   "metadata": {},
   "outputs": [
    {
     "data": {
      "text/plain": [
       "Text(0.5, 1.0, 'Space-time clustering p-value contour map \\n for N = 1 focal apoptosis')"
      ]
     },
     "execution_count": 23,
     "metadata": {},
     "output_type": "execute_result"
    },
    {
     "data": {
      "image/png": "[encoded data removed]",
      "text/plain": [
       "<Figure size 432x288 with 2 Axes>"
      ]
     },
     "metadata": {
      "needs_background": "light"
     },
     "output_type": "display_data"
    }
   ],
   "source": [
    "pc = plt.pcolormesh(delta_, h_, P_st_clust, cmap = 'Reds', )\n",
    "plt.colorbar(label = 'P-value',)\n",
    "plt.xlabel('Time since apoptosis (hours)')\n",
    "plt.ylabel('Distance (microns)')\n",
    "plt.title('Space-time clustering p-value contour map \\n for N = 1 focal apoptosis')"
   ]
  },
  {
   "cell_type": "code",
   "execution_count": 30,
   "id": "e5157abf",
   "metadata": {},
   "outputs": [
    {
     "data": {
      "text/plain": [
       "Text(0.5, 1.0, 'P-value contour map of space-time clustering of \\nN = 4579 wild-type cells around \\nN = 1 focal apoptosis calculated from \\nN = 20 permutations of time values\\n')"
      ]
     },
     "execution_count": 30,
     "metadata": {},
     "output_type": "execute_result"
    },
    {
     "data": {
      "image/png": "[encoded data removed]",
      "text/plain": [
       "<Figure size 432x288 with 2 Axes>"
      ]
     },
     "metadata": {
      "needs_background": "light"
     },
     "output_type": "display_data"
    }
   ],
   "source": [
    "clip_clust = np.zeros((100,100))\n",
    "clip_clust[P_st_clust <0.05] = P_st_clust[P_st_clust <0.05]\n",
    "pc = plt.pcolormesh(delta_, h_, clip_clust, cmap = 'Reds', )\n",
    "plt.colorbar(label = 'Clipped P-value: p < 0.05',)\n",
    "plt.xlabel('Time since apoptosis (hours)')\n",
    "plt.ylabel('Distance (microns)')\n",
    "plt.title(f'P-value contour map of space-time clustering of \\nN = {n1} wild-type cells around \\nN = {n2} focal apoptosis calculated from \\nN = {N} permutations of time values\\n')\n",
    "#plt.savefig('p-value-division-clustering_100um_10hrs_clipped_p-0.05_fullrange.pdf', bbox_inches = 'tight')"
   ]
  },
  {
   "cell_type": "code",
   "execution_count": 31,
   "id": "cbe5abe2",
   "metadata": {},
   "outputs": [
    {
     "data": {
      "text/plain": [
       "Text(0.5, 1.0, 'Space-time dispersion p-value contour map \\n for N = 1 focal apoptosis')"
      ]
     },
     "execution_count": 31,
     "metadata": {},
     "output_type": "execute_result"
    },
    {
     "data": {
      "image/png": "[encoded data removed]",
      "text/plain": [
       "<Figure size 432x288 with 2 Axes>"
      ]
     },
     "metadata": {
      "needs_background": "light"
     },
     "output_type": "display_data"
    }
   ],
   "source": [
    "pc = plt.pcolormesh(delta_, h_, P_st_disp, cmap = 'Blues_r', )\n",
    "plt.colorbar(label = 'P-value',)\n",
    "plt.xlabel('Time since apoptosis (hours)')\n",
    "plt.ylabel('Distance (microns)')\n",
    "plt.title('Space-time dispersion p-value contour map \\n for N = 1 focal apoptosis')"
   ]
  },
  {
   "cell_type": "code",
   "execution_count": 32,
   "id": "1b52e1ac",
   "metadata": {},
   "outputs": [
    {
     "data": {
      "text/plain": [
       "Text(0.5, 1.0, 'P-value contour map of space-time dispersion of \\nN = 4579 wild-type cells around \\nN = 1 focal apoptosis calculated from \\nN = 20 permutations of time values\\n')"
      ]
     },
     "execution_count": 32,
     "metadata": {},
     "output_type": "execute_result"
    },
    {
     "data": {
      "image/png": "[encoded data removed]",
      "text/plain": [
       "<Figure size 432x288 with 2 Axes>"
      ]
     },
     "metadata": {
      "needs_background": "light"
     },
     "output_type": "display_data"
    }
   ],
   "source": [
    "clip_disp = np.zeros((100,100))\n",
    "clip_disp[P_st_disp <0.05] = P_st_disp[P_st_disp <0.05]\n",
    "pc = plt.pcolormesh(delta_, h_, clip_disp, cmap = 'Blues', )\n",
    "plt.colorbar(label = 'P-value',)\n",
    "plt.xlabel('Time since apoptosis (hours)')\n",
    "plt.ylabel('Distance (microns)')\n",
    "plt.title(f'P-value contour map of space-time dispersion of \\nN = {n1} wild-type cells around \\nN = {n2} focal apoptosis calculated from \\nN = {N} permutations of time values\\n')\n",
    "#plt.savefig('p-value-division-dispersion_100um_10hrs_clipped_p-0.05_fullrange.pdf', bbox_inches = 'tight')"
   ]
  },
  {
   "cell_type": "markdown",
   "id": "f8850397",
   "metadata": {},
   "source": [
    "# Yesterday's rendering, why are they different?"
   ]
  },
  {
   "cell_type": "code",
   "execution_count": 30,
   "id": "162c2b07",
   "metadata": {},
   "outputs": [
    {
     "data": {
      "text/plain": [
       "Text(0.5, 1.0, 'Space-time clustering p-value contour map \\n for N = 1 focal apoptosis')"
      ]
     },
     "execution_count": 30,
     "metadata": {},
     "output_type": "execute_result"
    },
    {
     "data": {
      "image/png": "[encoded data removed]",
      "text/plain": [
       "<Figure size 432x288 with 2 Axes>"
      ]
     },
     "metadata": {
      "needs_background": "light"
     },
     "output_type": "display_data"
    }
   ],
   "source": [
    "pc = plt.pcolormesh(delta_, h_, P_st_clust, cmap = 'Reds', )\n",
    "plt.colorbar(label = 'P-value',)\n",
    "plt.xlabel('Time since apoptosis (hours)')\n",
    "plt.ylabel('Distance (microns)')\n",
    "plt.title('Space-time clustering p-value contour map \\n for N = 1 focal apoptosis')"
   ]
  },
  {
   "cell_type": "code",
   "execution_count": 32,
   "id": "7c66672d",
   "metadata": {},
   "outputs": [
    {
     "data": {
      "text/plain": [
       "Text(0.5, 1.0, 'Space-time clustering p-value contour map \\n for N = 1 focal apoptosis')"
      ]
     },
     "execution_count": 32,
     "metadata": {},
     "output_type": "execute_result"
    },
    {
     "data": {
      "image/png": "[encoded data removed]",
      "text/plain": [
       "<Figure size 432x288 with 2 Axes>"
      ]
     },
     "metadata": {
      "needs_background": "light"
     },
     "output_type": "display_data"
    }
   ],
   "source": [
    "pc = plt.pcolormesh(delta_, h_, P_st_clust, cmap = 'Reds', )\n",
    "plt.colorbar(label = 'P-value',)\n",
    "plt.clim(0, 0.05)\n",
    "plt.xlabel('Time since apoptosis (hours)')\n",
    "plt.ylabel('Distance (microns)')\n",
    "plt.title('Space-time clustering p-value contour map \\n for N = 1 focal apoptosis')"
   ]
  },
  {
   "cell_type": "code",
   "execution_count": 31,
   "id": "5afa6610",
   "metadata": {},
   "outputs": [
    {
     "data": {
      "text/plain": [
       "Text(0.5, 1.0, 'Space-time dispersion p-value contour map \\n for N = 1 focal apoptosis')"
      ]
     },
     "execution_count": 31,
     "metadata": {},
     "output_type": "execute_result"
    },
    {
     "data": {
      "image/png": "[encoded data removed]",
      "text/plain": [
       "<Figure size 432x288 with 2 Axes>"
      ]
     },
     "metadata": {
      "needs_background": "light"
     },
     "output_type": "display_data"
    }
   ],
   "source": [
    "pc = plt.pcolormesh(delta_, h_, P_st_disp, cmap = 'Blues_r', )\n",
    "plt.colorbar(label = 'P-value',)\n",
    "plt.xlabel('Time since apoptosis (hours)')\n",
    "plt.ylabel('Distance (microns)')\n",
    "plt.title('Space-time dispersion p-value contour map \\n for N = 1 focal apoptosis')"
   ]
  },
  {
   "cell_type": "code",
   "execution_count": 33,
   "id": "2e59e363",
   "metadata": {},
   "outputs": [
    {
     "data": {
      "text/plain": [
       "Text(0.5, 1.0, 'Space-time dispersion p-value contour map \\n for N = 1 focal apoptosis')"
      ]
     },
     "execution_count": 33,
     "metadata": {},
     "output_type": "execute_result"
    },
    {
     "data": {
      "image/png": "[encoded data removed]",
      "text/plain": [
       "<Figure size 432x288 with 2 Axes>"
      ]
     },
     "metadata": {
      "needs_background": "light"
     },
     "output_type": "display_data"
    }
   ],
   "source": [
    "pc = plt.pcolormesh(delta_, h_, P_st_disp, cmap = 'Blues_r', )\n",
    "plt.colorbar(label = 'P-value',)\n",
    "plt.clim(0,0.05)\n",
    "plt.xlabel('Time since apoptosis (hours)')\n",
    "plt.ylabel('Distance (microns)')\n",
    "plt.title('Space-time dispersion p-value contour map \\n for N = 1 focal apoptosis')"
   ]
  },
  {
   "cell_type": "markdown",
   "id": "34807039",
   "metadata": {},
   "source": [
    "These plots seem to suggest no strong clustering but there is evidence for dispersion beyond the immediate local neighbourhood across all time. The dispersion plot indicates that there might be significantly less instances of division events occuring in neighbourhoods further away than would be detected under the temporal indistinguishability hypothesis. Not going to dwell too long on the conclusion of this analysis as it is only N=1, instead I need to scale up to all central focal events."
   ]
  },
  {
   "cell_type": "markdown",
   "id": "325101c8",
   "metadata": {},
   "source": [
    "# Repeating analysis but over cumulative K-function measure...\n",
    "\n",
    "Will surely need to generate new K-function tau values, ie. randomly swap the time indices of all new events found in cumulative measure. This could take ages. \n",
    "\n",
    "But how do I cumulatively measure a K-function? Assume all central focal events are the same single event? But then I have repeat measures of division events occurring... But the relevant distances to each focal event for each division event will be different, so not strictly a repeat measurement."
   ]
  },
  {
   "cell_type": "code",
   "execution_count": null,
   "id": "7965b592",
   "metadata": {},
   "outputs": [],
   "source": [
    "file_list = glob.glob('/home/nathan/data/results/radial_analysis_output/follow/raw_lists/1600.1600/scr_apop_wt_div_xyt/1600.1600/*')\n",
    "file_list = [file for file in file_list if 'cells' in file]\n",
    "len(file_list)\n",
    "### cropping data\n",
    "file_list = file_list[0:100]\n",
    "print(len(file_list)\n",
    ")"
   ]
  },
  {
   "cell_type": "code",
   "execution_count": null,
   "id": "a96a7892",
   "metadata": {},
   "outputs": [],
   "source": [
    "### loading all division localisations regardless of whether or not the scan leaves the FOV etc. (still cropping edge effects and loading all info)\n",
    "df = load_radial_df(file_list, crop_amount = 20, streamline = True)# R = 100, crop_amount = True, streamline = False, strict_filtering = True)"
   ]
  },
  {
   "cell_type": "code",
   "execution_count": null,
   "id": "5f238b6e",
   "metadata": {},
   "outputs": [],
   "source": [
    "### renaming columns to fit with nomenclature of K-function\n",
    "df = df.rename(columns={'Distance from apoptosis': 'dij', 'Time since apoptosis': 'tij'})"
   ]
  },
  {
   "cell_type": "code",
   "execution_count": null,
   "id": "ede43c18",
   "metadata": {},
   "outputs": [],
   "source": [
    "df"
   ]
  },
  {
   "cell_type": "code",
   "execution_count": null,
   "id": "a42abe2a",
   "metadata": {},
   "outputs": [],
   "source": [
    "n1 = len(df)#len(set(df['Cell ID']))\n",
    "print('Total number of cell count events, n = ', n1)\n",
    "n2 = len(set(df['Focal ID'])) #len(file_list)\n",
    "print('Total number of focal apoptotic events, n = ', n2)"
   ]
  },
  {
   "cell_type": "code",
   "execution_count": null,
   "id": "8c425c8c",
   "metadata": {},
   "outputs": [],
   "source": [
    "T = max(df['tij']) - min(df['tij'])\n",
    "print('Default time interval, T = ', T)"
   ]
  },
  {
   "cell_type": "code",
   "execution_count": null,
   "id": "2bd3660d",
   "metadata": {},
   "outputs": [],
   "source": [
    "x_range = 1200#max(df['x']) - min(df['x'])\n",
    "y_range = 1600#max(df['y']) - min(df['y'])\n",
    "### convert from pixels to micrometres (/3)\n",
    "a = (x_range/3)*(y_range/3)\n",
    "print('Total area (FOV) in micrometres, a(R) =', round(a), 'microns squared')"
   ]
  },
  {
   "cell_type": "code",
   "execution_count": null,
   "id": "8d7cd11a",
   "metadata": {},
   "outputs": [],
   "source": [
    "n = n1\n",
    "lambda_st = n/(a*T)\n",
    "print('Space-time intensity parameter, lambda_st = ', lambda_st)\n",
    "lambda_1 = n1/(a*T)\n",
    "print('Space-time intensity parameter for division events, lambda_1 = ', lambda_1)\n",
    "lambda_2 = n2/(a*T)\n",
    "print('Space-time intensity parameter for apoptotic events, lambda_2 = ', lambda_2)"
   ]
  },
  {
   "cell_type": "code",
   "execution_count": null,
   "id": "df25c560",
   "metadata": {},
   "outputs": [],
   "source": [
    "delta_ = np.linspace(-5,5, 100)\n",
    "h_ = np.linspace(0,100, 100)"
   ]
  },
  {
   "cell_type": "code",
   "execution_count": null,
   "id": "8b79a39f",
   "metadata": {},
   "outputs": [],
   "source": [
    "n"
   ]
  },
  {
   "cell_type": "code",
   "execution_count": null,
   "id": "0561020f",
   "metadata": {},
   "outputs": [],
   "source": [
    "K_st = K_st_func(h_, delta_, n, lambda_st, df)"
   ]
  },
  {
   "cell_type": "code",
   "execution_count": null,
   "id": "a431e14f",
   "metadata": {},
   "outputs": [],
   "source": [
    "pc = plt.pcolormesh(delta_, h_, K_st, )\n",
    "plt.colorbar(label = 'Expected number of additional events',)\n",
    "plt.xlabel('Time since apoptosis (hours)')\n",
    "plt.ylabel('Distance from apoptosis (microns)')\n",
    "plt.title(f'Space-time K-function \\n for N = {n2} focal apoptosis')"
   ]
  },
  {
   "cell_type": "markdown",
   "id": "162b279d",
   "metadata": {},
   "source": [
    "Why is this plot symmetrical? Is it symmetrical? It only appears symmetrical around the zero values"
   ]
  },
  {
   "cell_type": "code",
   "execution_count": null,
   "id": "0e462b3f",
   "metadata": {},
   "outputs": [],
   "source": [
    "pc = plt.pcolormesh(delta_, h_, (np.fliplr(K_st) == K_st), )\n",
    "plt.colorbar(label = 'Symmetrical values around apoptosis point',)\n",
    "plt.xlabel('Time since apoptosis (hours)')\n",
    "plt.ylabel('Distance from apoptosis (microns)')\n",
    "plt.title(f'Checking temporal symmetry of space-time K-function plot')"
   ]
  },
  {
   "cell_type": "markdown",
   "id": "85b2d833",
   "metadata": {},
   "source": [
    "### Cumulative temporal indistinguishability test\n",
    "\n",
    "Random permutations of different time points to see if the K-function patterns still hold."
   ]
  },
  {
   "cell_type": "code",
   "execution_count": null,
   "id": "ad7756ab",
   "metadata": {},
   "outputs": [],
   "source": [
    "df"
   ]
  },
  {
   "cell_type": "code",
   "execution_count": null,
   "id": "51f44343",
   "metadata": {
    "scrolled": true
   },
   "outputs": [],
   "source": [
    "### define the number of permutations to make\n",
    "N = 20\n",
    "for tau in tqdm(range(N)):\n",
    "    df[f'tpi τ = {tau}'] = df['tij'].sample(frac=1).reset_index(drop = True)"
   ]
  },
  {
   "cell_type": "code",
   "execution_count": null,
   "id": "a0081fc2",
   "metadata": {},
   "outputs": [],
   "source": [
    "df"
   ]
  },
  {
   "cell_type": "markdown",
   "id": "b4adc52c",
   "metadata": {},
   "source": [
    "Only iterating over 100 different permuations as I've parallelised the calculation over different notebooks. Still looks like it will take over 12 hours!"
   ]
  },
  {
   "cell_type": "code",
   "execution_count": null,
   "id": "cf45d303",
   "metadata": {
    "scrolled": true
   },
   "outputs": [],
   "source": [
    "K_st_tau = {}\n",
    "for tau in tqdm(range(N), desc = 'Progress through tau'):\n",
    "    K_st_tau[tau] = K_st_tau_func(h_, delta_, n, lambda_st, df, tau)"
   ]
  },
  {
   "cell_type": "code",
   "execution_count": null,
   "id": "0724d6ca",
   "metadata": {},
   "outputs": [],
   "source": [
    "import pickle\n",
    "with open('K_st_tau_20_cell_count.pkl', 'wb') as f:\n",
    "    pickle.dump(K_st_tau, f)"
   ]
  },
  {
   "cell_type": "code",
   "execution_count": null,
   "id": "15363cc3",
   "metadata": {},
   "outputs": [],
   "source": [
    "from natsort import natsorted"
   ]
  },
  {
   "cell_type": "code",
   "execution_count": null,
   "id": "88c315fd",
   "metadata": {},
   "outputs": [],
   "source": [
    "natsorted(glob.glob('K_st_tau_*.pkl'))"
   ]
  },
  {
   "cell_type": "code",
   "execution_count": null,
   "id": "f1252065",
   "metadata": {},
   "outputs": [],
   "source": [
    "for fn in natsorted(glob.glob('K_st_tau_*.pkl')):\n",
    "\n",
    "    with open(f'{fn}', 'rb') as handle:\n",
    "        b = pickle.load(handle)\n",
    "        \n",
    "    for i in b:\n",
    "        K_st_tau[i] = b[i]"
   ]
  },
  {
   "cell_type": "code",
   "execution_count": null,
   "id": "b442c1c0",
   "metadata": {},
   "outputs": [],
   "source": [
    "len(K_st_tau)"
   ]
  },
  {
   "cell_type": "markdown",
   "id": "e27f6703",
   "metadata": {},
   "source": [
    "Checking to see if any two of the randomly time-indices-switched K-function arrays are identical (they should not be)"
   ]
  },
  {
   "cell_type": "code",
   "execution_count": null,
   "id": "ee456b7d",
   "metadata": {},
   "outputs": [],
   "source": [
    "def arrays_equal(a, b):\n",
    "    if a.shape != b.shape:\n",
    "        return False\n",
    "    for ai, bi in zip(a.flat, b.flat):\n",
    "        if ai != bi:\n",
    "            return False\n",
    "    return True"
   ]
  },
  {
   "cell_type": "code",
   "execution_count": null,
   "id": "e771ea2d",
   "metadata": {},
   "outputs": [],
   "source": [
    "import itertools\n",
    "for a, b in tqdm(itertools.combinations(K_st_tau, 2), total = 499500):\n",
    "    array1 = K_st_tau[a]\n",
    "    array2 = K_st_tau[b]\n",
    "    if arrays_equal(array1, array2) == True:\n",
    "        print(a, b, 'are equal')"
   ]
  },
  {
   "cell_type": "code",
   "execution_count": null,
   "id": "81e345b4",
   "metadata": {},
   "outputs": [],
   "source": [
    "N = len(K_st_tau)\n",
    "P_st_clust = np.zeros(K_st.shape)\n",
    "P_st_disp = np.zeros(K_st.shape)\n",
    "\n",
    "for i, h in enumerate(tqdm(h_, total = len(h_))):\n",
    "    for j, delta in enumerate(delta_):\n",
    "        M0_plus = len([tau for tau in K_st_tau if K_st_tau[tau][i,j] >= K_st[i,j]])\n",
    "        P_st_clust[i,j] = (M0_plus + 1)/(N+1)\n",
    "        M0_minus = len([tau for tau in K_st_tau if K_st_tau[tau][i,j] <= K_st[i,j]])\n",
    "        P_st_disp[i,j] = (M0_minus + 1)/(N+1)\n",
    "    "
   ]
  },
  {
   "cell_type": "code",
   "execution_count": null,
   "id": "a4705191",
   "metadata": {},
   "outputs": [],
   "source": [
    "pc = plt.pcolormesh(delta_, h_, P_st_clust, cmap = 'Reds_r', )\n",
    "plt.colorbar(label = 'P-value',)\n",
    "plt.xlabel('Time since apoptosis (hours)')\n",
    "plt.ylabel('Distance (microns)')\n",
    "plt.title(f'P-value contour map of space-time clustering of \\nN = {n1} wild-type cells around \\nN = {n2} focal apoptosis calculated from \\nN = {N} permutations of time values\\n')\n",
    "plt.savefig"
   ]
  },
  {
   "cell_type": "code",
   "execution_count": null,
   "id": "9ffc09b0",
   "metadata": {},
   "outputs": [],
   "source": [
    "pc = plt.pcolormesh(delta_, h_, np.clip(P_st_clust, a_min = 0, a_max = 0.05), cmap = 'Reds_r', )\n",
    "plt.colorbar(label = 'Clipped P-value at p = 0.05',)\n",
    "plt.xlabel('Time since apoptosis (hours)')\n",
    "plt.ylabel('Distance (microns)')\n",
    "plt.title(f'Space-time clustering of wild-type cells\\n p-value contour map for N = {N} focal apoptosis\\n')"
   ]
  },
  {
   "cell_type": "code",
   "execution_count": null,
   "id": "0b39c604",
   "metadata": {},
   "outputs": [],
   "source": [
    "plt.imshow(P_st_clust[0:20, 50:100])\n",
    "plt.colorbar()\n",
    "plt.clim(0,0.05)"
   ]
  },
  {
   "cell_type": "code",
   "execution_count": null,
   "id": "143fabd8",
   "metadata": {},
   "outputs": [],
   "source": [
    "pc = plt.pcolormesh(delta_, h_, P_st_disp, cmap = 'Blues_r', )\n",
    "plt.colorbar(label = 'P-value',)\n",
    "plt.xlabel('Time since apoptosis (hours)')\n",
    "plt.ylabel('Distance (microns)')\n",
    "plt.title(f'Space-time dispersion of wild-type cells\\n p-value contour map for N = {N} focal apoptosis\\n')"
   ]
  },
  {
   "cell_type": "code",
   "execution_count": null,
   "id": "c27ad6da",
   "metadata": {},
   "outputs": [],
   "source": [
    "pc = plt.pcolormesh(delta_, h_, P_st_disp, cmap = 'Blues_r', )\n",
    "plt.colorbar(label = 'P-value',)\n",
    "plt.clim(0,0.05)\n",
    "plt.xlabel('Time since apoptosis (hours)')\n",
    "plt.ylabel('Distance (microns)')\n",
    "plt.title(f'Space-time dispersion of wild-type cells\\n p-value contour map for N = {N} focal apoptosis\\n')"
   ]
  },
  {
   "cell_type": "markdown",
   "id": "10c87529",
   "metadata": {},
   "source": [
    "# Checking the orientation of the plots"
   ]
  },
  {
   "cell_type": "code",
   "execution_count": null,
   "id": "6280fef8",
   "metadata": {},
   "outputs": [],
   "source": [
    "from skimage.io import imshow"
   ]
  },
  {
   "cell_type": "code",
   "execution_count": null,
   "id": "6b334ea5",
   "metadata": {},
   "outputs": [],
   "source": [
    "imshow(K_st)"
   ]
  },
  {
   "cell_type": "code",
   "execution_count": null,
   "id": "626cbd1c",
   "metadata": {},
   "outputs": [],
   "source": [
    "imshow(K_st_tau[488])"
   ]
  },
  {
   "cell_type": "code",
   "execution_count": null,
   "id": "77d516de",
   "metadata": {},
   "outputs": [],
   "source": [
    "imshow(P_st_clust)"
   ]
  },
  {
   "cell_type": "code",
   "execution_count": null,
   "id": "65f4b51f",
   "metadata": {
    "scrolled": true
   },
   "outputs": [],
   "source": [
    "for j, delta in enumerate(delta_):\n",
    "    print(j, delta)"
   ]
  }
 ],
 "metadata": {
  "kernelspec": {
   "display_name": "CellX",
   "language": "python",
   "name": "cellx"
  },
  "language_info": {
   "codemirror_mode": {
    "name": "ipython",
    "version": 3
   },
   "file_extension": ".py",
   "mimetype": "text/x-python",
   "name": "python",
   "nbconvert_exporter": "python",
   "pygments_lexer": "ipython3",
   "version": "3.9.7"
  }
 },
 "nbformat": 4,
 "nbformat_minor": 5
}
