{
 "cells": [
  {
   "cell_type": "markdown",
   "metadata": {},
   "source": [
    "# Plotting the output from Cumulative event counter"
   ]
  },
  {
   "cell_type": "markdown",
   "metadata": {},
   "source": [
    "### Shortened notebook just for plotting\n",
    "\n",
    "1. ~Load dictionary of apoptoses and their corresponding times to base the spatiotemporal scans around~ \n",
    "2. ~Load corresponding tracking data and specify scan parameters~\n",
    "3. ~Iteratively calculate spatiotemporal distribution of cellular events around apoptoses, saving each distribution out as a .npy distance-time heatmap~\n",
    "4. **Compile list of spatiotemporal heatmaps as cumulative heatmap**\n",
    "5. ~Misc. section: comparing different experimental conditions~"
   ]
  },
  {
   "cell_type": "code",
   "execution_count": 1,
   "metadata": {},
   "outputs": [],
   "source": [
    "import calculate_radial_analysis as calculate\n",
    "import tools\n",
    "import render\n",
    "\n",
    "import json\n",
    "import glob\n",
    "import os\n",
    "import re\n",
    "import numpy as np\n",
    "from natsort import natsorted\n",
    "from tqdm import tqdm\n",
    "import matplotlib.pyplot as plt\n",
    "from pathlib import Path"
   ]
  },
  {
   "cell_type": "markdown",
   "metadata": {},
   "source": [
    "# Automatically read parameters from input directory"
   ]
  },
  {
   "cell_type": "code",
   "execution_count": 2,
   "metadata": {},
   "outputs": [
    {
     "data": {
      "text/plain": [
       "{'radius': 800,\n",
       " 't_range': 800,\n",
       " 'num_bins': 10,\n",
       " 'focal_cell': 'scr',\n",
       " 'focal_event': 'div',\n",
       " 'subject_cell': 'wt',\n",
       " 'subject_event': 'div',\n",
       " 'save_parent_dir': ''}"
      ]
     },
     "execution_count": 2,
     "metadata": {},
     "output_type": "execute_result"
    }
   ],
   "source": [
    "single_cell_heatmap_location = '/home/nathan/data/results/radial_analysis_output/follow/individual_spatiotemporal_heatmaps/800.800.10/scr_div_wt_div'\n",
    "analysis_info = single_cell_heatmap_location.split('individual_spatiotemporal_heatmaps/')[1]\n",
    "\n",
    "### read params into input dict\n",
    "input_dict={}\n",
    "input_dict['radius'], input_dict['t_range'], input_dict['num_bins'] = list(map(int,analysis_info.split('/')[0].split('.') ))\n",
    "input_dict['focal_cell'], input_dict['focal_event'], input_dict['subject_cell'], input_dict['subject_event'] = analysis_info.split('/')[1].split('_')\n",
    "input_dict['save_parent_dir'] = ''#os.path.join('/home/nathan/data/kraken/h2b/giulia/radial_analysis_output/follow/cumulative_plots/scr_div_wt_div')\n",
    "input_dict"
   ]
  },
  {
   "cell_type": "markdown",
   "metadata": {},
   "source": [
    "## 4) Compile individual heatmaps into cumulative plots "
   ]
  },
  {
   "cell_type": "markdown",
   "metadata": {},
   "source": [
    "Compile cumulative heatmap by iteratively adding single-apoptosis heatmaps from previous output or different pre-established output "
   ]
  },
  {
   "cell_type": "code",
   "execution_count": 3,
   "metadata": {},
   "outputs": [],
   "source": [
    "N_cells, N_events = np.zeros((input_dict['num_bins'], input_dict['num_bins'])), np.zeros((input_dict['num_bins'], input_dict['num_bins']))\n",
    "N = 0\n",
    "for heatmap_ID in natsorted(os.listdir(single_cell_heatmap_location)):\n",
    "    ##### filter for experiment type\n",
    "    expt_ID = (heatmap_ID.split('_'))[0]+'/'+(heatmap_ID.split('_'))[1]\n",
    "    if expt_ID not in []:# hack to circumvent expt filter # ninety_ten:\n",
    "        if 'N_cells' in heatmap_ID:\n",
    "            N_cells += np.load(os.path.join(single_cell_heatmap_location,heatmap_ID))\n",
    "        if 'N_events' in heatmap_ID:\n",
    "            N_events += np.load(os.path.join(single_cell_heatmap_location,heatmap_ID))\n",
    "            N+=1\n",
    "P_events = N_events/N_cells\n",
    "input_dict['N'] = N"
   ]
  },
  {
   "cell_type": "code",
   "execution_count": 4,
   "metadata": {},
   "outputs": [
    {
     "name": "stdout",
     "output_type": "stream",
     "text": [
      "The number of wt cells counted is equal to =  42981347.0\n"
     ]
    }
   ],
   "source": [
    "print(\"The number of {} cells counted is equal to = \".format(input_dict['subject_cell']), N_cells.sum())"
   ]
  },
  {
   "cell_type": "markdown",
   "metadata": {},
   "source": [
    "# Plot using `input_dict` specifying only the options you want to change from the default\n",
    "\n",
    "Default is to read the number of bins from the input shape, plot with apoptotic spatial bin, without bin labels and with International System of Units (SI) "
   ]
  },
  {
   "cell_type": "code",
   "execution_count": 8,
   "metadata": {},
   "outputs": [
    {
     "name": "stdout",
     "output_type": "stream",
     "text": [
      "{'radius': 800, 't_range': 800, 'num_bins': 10, 'focal_cell': 'scr', 'focal_event': 'div', 'subject_cell': 'wt', 'subject_event': 'div', 'save_parent_dir': '', 'N': 748, 'input_type': 'N_events', 'input_2d_hist': array([[  27.,   31.,   43.,   57.,   77.,   84.,  113.,  165.,  192.,\n",
      "         222.],\n",
      "       [  83.,  134.,  185.,  269.,  367.,  444.,  520.,  589.,  634.,\n",
      "         670.],\n",
      "       [  96.,  158.,  264.,  390.,  579.,  718.,  825.,  911.,  973.,\n",
      "        1083.],\n",
      "       [ 140.,  197.,  330.,  475.,  730.,  900., 1036., 1182., 1258.,\n",
      "        1447.],\n",
      "       [ 167.,  262.,  376.,  584.,  823., 1020., 1253., 1446., 1577.,\n",
      "        1661.],\n",
      "       [ 186.,  298.,  445.,  645.,  945., 1132., 1401., 1550., 1679.,\n",
      "        1901.],\n",
      "       [ 190.,  300.,  439.,  691., 1037., 1201., 1455., 1680., 1828.,\n",
      "        2076.],\n",
      "       [ 166.,  330.,  456.,  709.,  994., 1260., 1540., 1709., 1761.,\n",
      "        2059.],\n",
      "       [ 173.,  294.,  516.,  687.,  989., 1222., 1551., 1733., 1837.,\n",
      "        2100.],\n",
      "       [ 158.,  265.,  410.,  679.,  968., 1185., 1392., 1625., 1754.,\n",
      "        2045.]]), 'bin_labels': True}\n",
      "Filename scr_div_wt_div/Spatiotemporal dist. of wild-type divisions \n",
      " around Scribble divisions (N=748) 800.800.10.pdf already exists, saving as updated copy\n"
     ]
    },
    {
     "name": "stderr",
     "output_type": "stream",
     "text": [
      "/home/nathan/analysis/cell-comp-analysis/radial_analysis/render.py:599: UserWarning: FixedFormatter should only be used together with FixedLocator\n",
      "  ax.set_yticklabels(\n"
     ]
    },
    {
     "name": "stdout",
     "output_type": "stream",
     "text": [
      "Plot saved at  scr_div_wt_div/Spatiotemporal dist. of wild-type divisions \n",
      " around Scribble divisions (N=748) 800.800.10 (updated 20210906-173356).pdf\n"
     ]
    },
    {
     "data": {
      "image/png": "[encoded data removed]",
      "text/plain": [
       "<Figure size 640x480 with 2 Axes>"
      ]
     },
     "metadata": {},
     "output_type": "display_data"
    }
   ],
   "source": [
    "input_dict['input_type'] = 'N_events'\n",
    "input_dict['input_2d_hist'] = N_events\n",
    "# input_dict['include_apop_bin'] = True\n",
    "input_dict['bin_labels'] = True\n",
    "# input_dict['SI'] = True\n",
    "print(input_dict)\n",
    "render.auto_plot_cumulative(input_dict)\n",
    "plt.show()"
   ]
  },
  {
   "cell_type": "markdown",
   "metadata": {},
   "source": [
    "# Legacy method"
   ]
  },
  {
   "cell_type": "markdown",
   "metadata": {},
   "source": [
    "### Set parameters"
   ]
  },
  {
   "cell_type": "code",
   "execution_count": null,
   "metadata": {},
   "outputs": [],
   "source": [
    "#params = {}\n",
    "num_bins = 10\n",
    "radius = 800\n",
    "t_range = 800\n",
    "\n",
    "focal_cell = 'Scr'#'Scr'#'WT'\n",
    "focal_event = 'DIVISION'#'APOPTOSIS'\n",
    "subject_cell = 'WT' #'WT'\n",
    "subject_event = 'DIVISION'\n",
    "\n",
    "save_parent_dir = '/home/nathan/data/kraken/h2b/giulia/radial_analysis_output/cumulative_plots/400.400.10/scr_div_wt_div' #'/home/nathan/data/kraken/h2b/giulia/radial_analysis_output/cumulative_plots/scr_apop_wt_div'\n",
    "single_cell_heatmap_location = '/home/nathan/data/results/radial_analysis_output/follow/scr_div_wt_div/individual_spatiotemporal_heatmaps/800.800.10/scr_div_wt_div'# '/home/nathan/data/kraken/h2b/giulia/radial_analysis_output/follow/individual_spatiotemporal_heatmaps/800.800.20/wt_control_wt_div'"
   ]
  },
  {
   "cell_type": "markdown",
   "metadata": {},
   "source": [
    "Function to plot heatmaps: \n",
    "\n",
    "`render.auto_plot_cumulative_old(input_2d_hist, input_type, num_bins, radius, t_range, title, expt_label, cb_label, save_path, SI = True)`\n",
    "\n",
    "Where the variables needed are as follows:\n",
    "\n",
    "- `input_2d_hist` = Input 2D histogram\n",
    "- `input_type` = String version of input variable name\n",
    "- `num_bins` = Number of bins the histogram is sorted into\n",
    "- `radius` = Spatial extent of scan\n",
    "- `t_range` = Temporal range of scan\n",
    "- `focal_cell` = Cell type that is the focal point of the scan \n",
    "- `focal_event` = Event type that is the focal point of the scan \n",
    "- `subject_cell` = Cell type that is scanned over\n",
    "- `subject_event` = Event type that is the scanned over \n",
    "- `save_parent_dir` = Root directory into which different plots will be saved according to scan parameters, if empty then plots not saved out \n",
    "- `cbar_lim` = Tuple that is the limits of the colorbar, if left blank then will be automatically decided\n",
    "- `include_apop_bin` = Boolean option to include the first spatial bin (which for 40px/13um bins usually only includes the site of apoptosis)\n",
    "- `SI` = If True then plots the xy in SI base unit instead of pixel/frames\n",
    "\n",
    "Also have an option for plotting with default text `auto_plot_cumulative_defaulttext`"
   ]
  },
  {
   "cell_type": "code",
   "execution_count": null,
   "metadata": {},
   "outputs": [],
   "source": [
    "render.auto_plot_cumulative_old(N_events,\n",
    "                     'N_events',\n",
    "                      N,\n",
    "                      num_bins  ,\n",
    "                      radius ,\n",
    "                      t_range , \n",
    "                      focal_cell, \n",
    "                      focal_event, \n",
    "                      subject_cell, \n",
    "                      subject_event, \n",
    "                      '',#save_parent_dir ,\n",
    "                      '',#cbar_lim = (0, 0.0025),\n",
    "                      include_apop_bin = True, \n",
    "                      bin_labels = True,      \n",
    "                      SI = True)\n",
    "plt.show()"
   ]
  },
  {
   "cell_type": "code",
   "execution_count": null,
   "metadata": {},
   "outputs": [],
   "source": [
    "render.auto_plot_cumulative_old(N_cells,\n",
    "                     'N_cells',\n",
    "                      N,\n",
    "                      num_bins  ,\n",
    "                      radius ,\n",
    "                      t_range , \n",
    "                      focal_cell, \n",
    "                      focal_event, \n",
    "                      subject_cell, \n",
    "                      subject_event, \n",
    "                      '',#save_parent_dir ,\n",
    "                      '',#cbar_lim = (0, 0.0025),\n",
    "                      include_apop_bin = True,\n",
    "                      bin_labels = True,\n",
    "                      SI = True)\n",
    "plt.show()"
   ]
  },
  {
   "cell_type": "code",
   "execution_count": null,
   "metadata": {},
   "outputs": [],
   "source": [
    "render.auto_plot_cumulative_old(P_events,\n",
    "                     'P_events',\n",
    "                      N,\n",
    "                      num_bins  ,\n",
    "                      radius ,\n",
    "                      t_range , \n",
    "                      focal_cell, \n",
    "                      focal_event, \n",
    "                      subject_cell, \n",
    "                      subject_event,\n",
    "                      '',#save_parent_dir ,\n",
    "                      '',#cbar_lim = (0, 0.0025),\n",
    "                      include_apop_bin = False,      \n",
    "                      SI = True)"
   ]
  },
  {
   "cell_type": "markdown",
   "metadata": {},
   "source": [
    "# Coarse-graining preexisting plots"
   ]
  },
  {
   "cell_type": "markdown",
   "metadata": {},
   "source": [
    "crop so that there is an equal number of bins on each side of apop point (crop two bins from top so that apop spatial bin isnt excluded)"
   ]
  },
  {
   "cell_type": "code",
   "execution_count": null,
   "metadata": {},
   "outputs": [],
   "source": [
    "N_cells_crop = N_cells[:-2,1:-1]\n",
    "N_events_crop = N_events[:-2,1:-1]"
   ]
  },
  {
   "cell_type": "code",
   "execution_count": null,
   "metadata": {},
   "outputs": [],
   "source": [
    "def coarse_array(array, coarseness):\n",
    "# This function takes a coarseness factor and reshapes an array according to that. Ie. a 8x8 array with coarseness factor 2 becomes a 4x4 array with each new element the sum of the previous 4\n",
    "    temp = array.reshape((array.shape[0] // coarseness, coarseness,\n",
    "                                array.shape[1] // coarseness, coarseness))\n",
    "    coarse_array = np.sum(temp, axis=(1,3))\n",
    "    \n",
    "    return coarse_array"
   ]
  },
  {
   "cell_type": "code",
   "execution_count": null,
   "metadata": {},
   "outputs": [],
   "source": [
    "N_cells_coarse = coarse_array(N_cells_crop, 2)\n",
    "N_events_coarse = coarse_array(N_events_crop, 2)"
   ]
  },
  {
   "cell_type": "code",
   "execution_count": null,
   "metadata": {},
   "outputs": [],
   "source": [
    "P_events_coarse = N_events_coarse/N_cells_coarse"
   ]
  },
  {
   "cell_type": "code",
   "execution_count": null,
   "metadata": {},
   "outputs": [],
   "source": [
    "save_parent_dir = '/home/nathan/data/kraken/h2b/giulia/radial_analysis_output/follow/cumulative_plots/'"
   ]
  },
  {
   "cell_type": "code",
   "execution_count": null,
   "metadata": {},
   "outputs": [],
   "source": [
    "render.auto_plot_cumulative(P_events_coarse,\n",
    "                     'P_events',\n",
    "                      N,\n",
    "                      4  ,\n",
    "                      320 ,\n",
    "                      320 , \n",
    "                      focal_cell, \n",
    "                      focal_event, \n",
    "                      subject_cell, \n",
    "                      subject_event, \n",
    "                      save_parent_dir ,\n",
    "                      '',#cbar_lim = (0, 0.0017),\n",
    "                      include_apop_bin = True,      \n",
    "                      SI = True)"
   ]
  },
  {
   "cell_type": "code",
   "execution_count": null,
   "metadata": {},
   "outputs": [],
   "source": [
    "render.auto_plot_cumulative(N_events_coarse,\n",
    "                     'N_events',\n",
    "                      N,\n",
    "                      4  ,\n",
    "                      320 ,\n",
    "                      320 , \n",
    "                      focal_cell, \n",
    "                      focal_event, \n",
    "                      subject_cell, \n",
    "                      subject_event, \n",
    "                      save_parent_dir ,\n",
    "                      '',#cbar_lim = (0, 0.002),\n",
    "                      include_apop_bin = True,      \n",
    "                      SI = True)"
   ]
  },
  {
   "cell_type": "code",
   "execution_count": null,
   "metadata": {},
   "outputs": [],
   "source": [
    "render.auto_plot_cumulative(N_cells_coarse,\n",
    "                     'N_cells',\n",
    "                      N,\n",
    "                      4  ,\n",
    "                      320 ,\n",
    "                      320 , \n",
    "                      focal_cell, \n",
    "                      focal_event, \n",
    "                      subject_cell, \n",
    "                      subject_event, \n",
    "                      save_parent_dir ,\n",
    "                      '',#cbar_lim = (0, 0.002),\n",
    "                      include_apop_bin = True,      \n",
    "                      SI = True)"
   ]
  },
  {
   "cell_type": "markdown",
   "metadata": {},
   "source": [
    "# Completely automated cumulative graph generation from single cell graph directory"
   ]
  },
  {
   "cell_type": "code",
   "execution_count": null,
   "metadata": {},
   "outputs": [],
   "source": [
    "root_dir = '/home/nathan/data/kraken/h2b/giulia/radial_analysis_output/follow/individual_spatiotemporal_heatmaps/400.400.10/'\n",
    "save_parent_dir = os.path.join('/home/nathan/data/kraken/h2b/giulia/radial_analysis_output/follow/cumulative_plots/spatial_crop_cbarlim_0_0.002')"
   ]
  },
  {
   "cell_type": "code",
   "execution_count": null,
   "metadata": {},
   "outputs": [],
   "source": [
    "list_of_graph_types = os.listdir(root_dir)\n",
    "\n",
    "for graph_type in list_of_graph_types:\n",
    "    single_cell_heatmap_location = os.path.join(root_dir,graph_type)\n",
    "\n",
    "    analysis_info = single_cell_heatmap_location.split('individual_spatiotemporal_heatmaps/')[1]\n",
    "\n",
    "    radius, t_range, num_bins = list(map(int,analysis_info.split('/')[0].split('.') ))\n",
    "\n",
    "    focal_cell, focal_event , subject_cell, subject_event = analysis_info.split('/')[1].split('_')\n",
    "    \n",
    "    N_cells, N_events = np.zeros((num_bins, num_bins)), np.zeros((num_bins, num_bins))\n",
    "    N = 0\n",
    "    for heatmap_ID in natsorted(os.listdir(single_cell_heatmap_location)):\n",
    "        if 'N_cells' in heatmap_ID:\n",
    "            N_cells += np.load(os.path.join(single_cell_heatmap_location,heatmap_ID))\n",
    "        if 'N_events' in heatmap_ID:\n",
    "            N_events += np.load(os.path.join(single_cell_heatmap_location,heatmap_ID))\n",
    "            N+=1\n",
    "    P_events = N_events/N_cells\n",
    "    \n",
    "    render.auto_plot_cumulative(P_events,\n",
    "                                 'P_events',\n",
    "                                  N,\n",
    "                                  num_bins  ,\n",
    "                                  radius ,\n",
    "                                  t_range , \n",
    "                                  focal_cell, \n",
    "                                  focal_event, \n",
    "                                  subject_cell, \n",
    "                                  subject_event, \n",
    "                                  save_parent_dir ,\n",
    "                                  cbar_lim = (0, 0.002),\n",
    "                                  include_apop_bin = False,      \n",
    "                                  SI = True)\n",
    "    plt.clf()\n",
    "    \n",
    "    render.auto_plot_cumulative(N_events,\n",
    "                                 'N_events',\n",
    "                                  N,\n",
    "                                  num_bins  ,\n",
    "                                  radius ,\n",
    "                                  t_range , \n",
    "                                  focal_cell, \n",
    "                                  focal_event, \n",
    "                                  subject_cell, \n",
    "                                  subject_event, \n",
    "                                  save_parent_dir ,\n",
    "                                  '',#cbar_lim = (0, 0.0025),\n",
    "                                  include_apop_bin = False,      \n",
    "                                  SI = True)\n",
    "    plt.clf()\n",
    "    \n",
    "    render.auto_plot_cumulative(N_cells,\n",
    "                                 'N_cells',\n",
    "                                  N,\n",
    "                                  num_bins  ,\n",
    "                                  radius ,\n",
    "                                  t_range , \n",
    "                                  focal_cell, \n",
    "                                  focal_event, \n",
    "                                  subject_cell, \n",
    "                                  subject_event, \n",
    "                                  save_parent_dir ,\n",
    "                                  '',#cbar_lim = (0, 0.0025),\n",
    "                                  include_apop_bin = False,      \n",
    "                                  SI = True)\n",
    "    plt.clf()"
   ]
  },
  {
   "cell_type": "markdown",
   "metadata": {},
   "source": [
    "# New plot that shows many arrays randomly sampled from cumulative array "
   ]
  },
  {
   "cell_type": "code",
   "execution_count": null,
   "metadata": {},
   "outputs": [],
   "source": [
    "array1 = np.load('/home/nathan/data/kraken/h2b/giulia/radial_analysis_output/individual_spatiotemporal_heatmaps/800,20/scr_apop_wt_div/temporal_occupancy_adjusted/GV0794_Pos4_70_RFP_N_cells.npy')"
   ]
  },
  {
   "cell_type": "code",
   "execution_count": null,
   "metadata": {},
   "outputs": [],
   "source": [
    "array2 = np.load('/home/nathan/data/kraken/h2b/giulia/radial_analysis_output/individual_spatiotemporal_heatmaps/800,20/scr_apop_wt_div/temporal_occupancy_adjusted/GV0794_Pos6_8_RFP_N_cells.npy')"
   ]
  },
  {
   "cell_type": "code",
   "execution_count": null,
   "metadata": {},
   "outputs": [],
   "source": [
    "combined_array = array1*array2        cb = plt.colorbar(label = 'label')\n",
    "        ax = cb.ax\n",
    "        text = ax.yaxis.label\n",
    "        font = matplotlib.font_manager.FontProperties(family='Liberation Mono')\n",
    "        text.set_font_properties(font)\n"
   ]
  },
  {
   "cell_type": "code",
   "execution_count": null,
   "metadata": {},
   "outputs": [],
   "source": [
    "arrays = [array1, array2]"
   ]
  },
  {
   "cell_type": "code",
   "execution_count": null,
   "metadata": {},
   "outputs": [],
   "source": [
    "for array in arrays:\n",
    "    for i in array:\n",
    "        for j in i:\n",
    "            if j == np.nan:\n",
    "                continue\n",
    "            else:\n",
    "                print(j)"
   ]
  },
  {
   "cell_type": "code",
   "execution_count": null,
   "metadata": {},
   "outputs": [],
   "source": [
    "fig = plt.figure()\n",
    "a = fig.add_subplot(1, 3, 1)\n",
    "imgplot = plt.imshow(array1)\n",
    "a.set_title('array1')\n",
    "a = fig.add_subplot(1, 3, 2)\n",
    "imgplot = plt.imshow(array2)\n",
    "a.set_title('array2')\n",
    "a = fig.add_subplot(1, 3, 3)\n",
    "imgplot = plt.imshow(combined_array)\n",
    "a.set_title('combined')"
   ]
  },
  {
   "cell_type": "code",
   "execution_count": null,
   "metadata": {},
   "outputs": [],
   "source": [
    "ninety_ten = [\n",
    "# 'GV0794/Pos3',\n",
    " 'GV0794/Pos8',\n",
    " #'GV0794/Pos15',\n",
    " 'GV0795/Pos3',\n",
    " 'GV0795/Pos8',\n",
    " 'GV0795/Pos16',\n",
    " 'GV0796/Pos3',\n",
    " 'GV0796/Pos8',\n",
    " 'GV0796/Pos19',\n",
    " 'GV0796/Pos20',\n",
    " 'GV0797/Pos3',\n",
    " 'GV0797/Pos8',\n",
    " 'GV0797/Pos18',\n",
    " #'GV0797/Pos19',\n",
    " 'GV0798/Pos3',\n",
    " 'GV0798/Pos8',\n",
    " 'GV0798/Pos18',\n",
    " 'GV0798/Pos19',\n",
    " 'GV0800/Pos3',\n",
    " 'GV0800/Pos8',\n",
    " 'GV0800/Pos15',\n",
    " 'GV0801/Pos3',\n",
    " 'GV0802/Pos3',\n",
    " #'GV0804/Pos3',\n",
    " 'GV0805/Pos3',\n",
    " 'GV0806/Pos3',\n",
    " 'GV0807/Pos3']\n",
    "\n",
    "controls = [\n",
    "# 'GV0812/Pos0',\n",
    "#  'GV0812/Pos1',\n",
    "#  'GV0812/Pos2',\n",
    "#  'GV0812/Pos3',\n",
    "#  'GV0812/Pos4',\n",
    "#  'GV0812/Pos5',\n",
    " 'GV0813/Pos0',\n",
    " 'GV0813/Pos1',\n",
    " 'GV0813/Pos2',\n",
    " 'GV0813/Pos3',\n",
    " 'GV0813/Pos4',\n",
    " 'GV0813/Pos5',\n",
    " 'GV0814/Pos0',\n",
    " 'GV0814/Pos11',\n",
    " 'GV0814/Pos12',\n",
    " 'GV0814/Pos23',\n",
    " 'GV0815/Pos0',\n",
    " 'GV0815/Pos11',\n",
    " 'GV0815/Pos12',\n",
    " 'GV0815/Pos23',\n",
    " 'GV0816/Pos0',\n",
    " 'GV0816/Pos13',\n",
    " 'GV0816/Pos14',\n",
    " 'GV0816/Pos23',\n",
    " 'GV0817/Pos0',\n",
    " 'GV0817/Pos11',\n",
    " 'GV0817/Pos12',\n",
    " 'GV0817/Pos23',\n",
    " 'GV0818/Pos12',\n",
    " 'GV0818/Pos13',\n",
    " 'GV0819/Pos0',\n",
    " 'GV0819/Pos1',\n",
    " 'GV0819/Pos2',\n",
    " 'GV0819/Pos3',\n",
    " 'GV0819/Pos4',\n",
    " 'GV0819/Pos5',\n",
    " 'GV0820/Pos0',\n",
    " 'GV0820/Pos1',\n",
    " 'GV0820/Pos2',\n",
    " 'GV0820/Pos3',\n",
    " 'GV0820/Pos4',\n",
    " 'GV0820/Pos5']\n",
    "\n",
    "ten_ninety = [\n",
    "    'GV0794/Pos5',\n",
    " 'GV0794/Pos6',\n",
    " 'GV0795/Pos5',\n",
    " 'GV0795/Pos6',\n",
    " 'GV0795/Pos18',\n",
    " 'GV0796/Pos5',\n",
    " 'GV0796/Pos6',\n",
    " 'GV0796/Pos23',\n",
    " 'GV0796/Pos24',\n",
    " 'GV0797/Pos5',\n",
    " 'GV0797/Pos6',\n",
    " 'GV0797/Pos22',\n",
    " 'GV0797/Pos23',\n",
    " 'GV0798/Pos5',\n",
    " 'GV0798/Pos6',\n",
    " 'GV0798/Pos22',\n",
    " 'GV0798/Pos23',\n",
    " 'GV0800/Pos5',\n",
    " 'GV0800/Pos6',\n",
    " 'GV0800/Pos17',\n",
    " 'GV0801/Pos5',\n",
    " 'GV0802/Pos5',\n",
    " 'GV0804/Pos5',\n",
    " 'GV0805/Pos5',\n",
    " 'GV0806/Pos5',\n",
    " 'GV0807/Pos5']\n",
    "\n",
    "fifty_fifty = ['GV0794/Pos4',\n",
    " 'GV0794/Pos7',\n",
    " #'GV0794/Pos16',\n",
    " 'GV0795/Pos4',\n",
    " 'GV0795/Pos7',\n",
    " 'GV0795/Pos17',\n",
    " 'GV0796/Pos4',\n",
    " 'GV0796/Pos7',\n",
    " 'GV0796/Pos21',\n",
    " 'GV0796/Pos22',\n",
    " 'GV0797/Pos4',\n",
    " 'GV0797/Pos7',\n",
    " 'GV0797/Pos20',\n",
    " 'GV0797/Pos21',\n",
    " 'GV0798/Pos4',\n",
    " 'GV0798/Pos7',\n",
    " 'GV0798/Pos20',\n",
    " 'GV0798/Pos21',\n",
    " 'GV0800/Pos4', \n",
    " 'GV0800/Pos7',\n",
    " 'GV0800/Pos16',\n",
    " 'GV0801/Pos4',\n",
    " 'GV0802/Pos4',\n",
    " 'GV0804/Pos4',\n",
    " 'GV0805/Pos4',\n",
    " 'GV0806/Pos4',\n",
    " 'GV0807/Pos4']"
   ]
  }
 ],
 "metadata": {
  "kernelspec": {
   "display_name": "CellX",
   "language": "python",
   "name": "cellx"
  },
  "language_info": {
   "codemirror_mode": {
    "name": "ipython",
    "version": 3
   },
   "file_extension": ".py",
   "mimetype": "text/x-python",
   "name": "python",
   "nbconvert_exporter": "python",
   "pygments_lexer": "ipython3",
   "version": "3.9.6"
  }
 },
 "nbformat": 4,
 "nbformat_minor": 4
}
