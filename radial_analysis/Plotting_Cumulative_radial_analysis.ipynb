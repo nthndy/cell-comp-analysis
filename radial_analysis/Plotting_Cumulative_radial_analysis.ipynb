{
 "cells": [
  {
   "cell_type": "markdown",
   "metadata": {},
   "source": [
    "# Plotting the output from Cumulative event counter"
   ]
  },
  {
   "cell_type": "markdown",
   "metadata": {},
   "source": [
    "### Shortened notebook just for plotting\n",
    "\n",
    "1. ~Load dictionary of apoptoses and their corresponding times to base the spatiotemporal scans around~ \n",
    "2. ~Load corresponding tracking data and specify scan parameters~\n",
    "3. ~Iteratively calculate spatiotemporal distribution of cellular events around apoptoses, saving each distribution out as a .npy distance-time heatmap~\n",
    "4. **Compile list of spatiotemporal heatmaps as cumulative heatmap**\n",
    "5. ~Misc. section: comparing different experimental conditions~"
   ]
  },
  {
   "cell_type": "code",
   "execution_count": 1,
   "metadata": {},
   "outputs": [],
   "source": [
    "import calculate_radial_analysis as calculate\n",
    "import tools\n",
    "import render\n",
    "\n",
    "import json\n",
    "import glob\n",
    "import os\n",
    "import re\n",
    "import numpy as np\n",
    "from natsort import natsorted\n",
    "from tqdm import tqdm\n",
    "import matplotlib.pyplot as plt\n",
    "from pathlib import Path"
   ]
  },
  {
   "cell_type": "markdown",
   "metadata": {},
   "source": [
    "# Set parameters"
   ]
  },
  {
   "cell_type": "code",
   "execution_count": 2,
   "metadata": {},
   "outputs": [],
   "source": [
    "#params = {}\n",
    "num_bins = 10\n",
    "radius = 400\n",
    "t_range = 400\n",
    "\n",
    "focal_cell = 'Scr'#'WT'\n",
    "focal_event = 'APOPTOSIS'#'APOPTOSIS'\n",
    "subject_cell = 'WT' #'WT'\n",
    "subject_event = 'DIVISION'\n",
    "\n",
    "save_parent_dir = '/home/nathan/data/kraken/h2b/giulia/radial_analysis_output/cumulative_plots/scr_apop_wt_div'\n",
    "single_cell_heatmap_location = '/home/nathan/data/kraken/h2b/giulia/radial_analysis_output/follow/individual_spatiotemporal_heatmaps/400.400.10/scr_apop_wt_div'"
   ]
  },
  {
   "cell_type": "markdown",
   "metadata": {},
   "source": [
    "# Automatically read parameters from input directory"
   ]
  },
  {
   "cell_type": "code",
   "execution_count": 3,
   "metadata": {},
   "outputs": [],
   "source": [
    "single_cell_heatmap_location = '/home/nathan/data/kraken/h2b/giulia/radial_analysis_output/follow/individual_spatiotemporal_heatmaps/400.400.10/wt_control_scr_div'\n",
    "\n",
    "analysis_info = single_cell_heatmap_location.split('individual_spatiotemporal_heatmaps/')[1]\n",
    "\n",
    "radius, t_range, num_bins = list(map(int,analysis_info.split('/')[0].split('.') ))\n",
    "\n",
    "focal_cell, focal_event , subject_cell, subject_event = analysis_info.split('/')[1].split('_')\n",
    "\n",
    "save_parent_dir = os.path.join('/home/nathan/data/kraken/h2b/giulia/radial_analysis_output/follow/cumulative_plots/spatial_crop_cbar_lim_0.00025')"
   ]
  },
  {
   "cell_type": "markdown",
   "metadata": {},
   "source": [
    "## 4) Compile individual heatmaps into cumulative plots "
   ]
  },
  {
   "cell_type": "markdown",
   "metadata": {},
   "source": [
    "Compile cumulative heatmap by iteratively adding single-apoptosis heatmaps from previous output or different pre-established output "
   ]
  },
  {
   "cell_type": "code",
   "execution_count": 4,
   "metadata": {},
   "outputs": [
    {
     "data": {
      "text/plain": [
       "3750"
      ]
     },
     "execution_count": 4,
     "metadata": {},
     "output_type": "execute_result"
    }
   ],
   "source": [
    "N_cells, N_events = np.zeros((num_bins, num_bins)), np.zeros((num_bins, num_bins))\n",
    "N = 0\n",
    "for heatmap_ID in natsorted(os.listdir(single_cell_heatmap_location)):\n",
    "    if 'N_cells' in heatmap_ID:\n",
    "        N_cells += np.load(os.path.join(single_cell_heatmap_location,heatmap_ID))\n",
    "    if 'N_events' in heatmap_ID:\n",
    "        N_events += np.load(os.path.join(single_cell_heatmap_location,heatmap_ID))\n",
    "        N+=1\n",
    "P_events = N_events/N_cells\n",
    "N"
   ]
  },
  {
   "cell_type": "code",
   "execution_count": 5,
   "metadata": {},
   "outputs": [
    {
     "name": "stdout",
     "output_type": "stream",
     "text": [
      "The number of scr cells counted is equal to =  7431330.0\n"
     ]
    }
   ],
   "source": [
    "print(\"The number of {} cells counted is equal to = \".format(subject_cell), N_cells.sum())"
   ]
  },
  {
   "cell_type": "markdown",
   "metadata": {},
   "source": [
    "Function to plot heatmaps: \n",
    "\n",
    "`render.auto_plot_cumulative(input_2d_hist, input_type, num_bins, radius, t_range, title, expt_label, cb_label, save_path, SI = True)`\n",
    "\n",
    "Where the variables needed are as follows:\n",
    "\n",
    "- `input_2d_hist` = Input 2D histogram\n",
    "- `input_type` = String version of input variable name\n",
    "- `num_bins` = Number of bins the histogram is sorted into\n",
    "- `radius` = Spatial extent of scan\n",
    "- `t_range` = Temporal range of scan\n",
    "- `focal_cell` = Cell type that is the focal point of the scan \n",
    "- `focal_event` = Event type that is the focal point of the scan \n",
    "- `subject_cell` = Cell type that is scanned over\n",
    "- `subject_event` = Event type that is the scanned over \n",
    "- `save_parent_dir` = Root directory into which different plots will be saved according to scan parameters, if empty then plots not saved out \n",
    "- `cbar_lim` = Tuple that is the limits of the colorbar, if left blank then will be automatically decided\n",
    "- `include_apop_bin` = Boolean option to include the first spatial bin (which for 40px/13um bins usually only includes the site of apoptosis)\n",
    "- `SI` = If True then plots the xy in SI base unit instead of pixel/frames\n",
    "\n",
    "There is also a legacy function `auto_plot_cumulative_defaulttext` which plots in the system default text. "
   ]
  },
  {
   "cell_type": "code",
   "execution_count": 7,
   "metadata": {},
   "outputs": [
    {
     "data": {
      "text/plain": [
       "<matplotlib.image.AxesImage at 0x7fe7844a9bd0>"
      ]
     },
     "execution_count": 7,
     "metadata": {},
     "output_type": "execute_result"
    },
    {
     "data": {
      "image/png": "[encoded data removed]",
      "text/plain": [
       "<Figure size 432x288 with 2 Axes>"
      ]
     },
     "metadata": {
      "needs_background": "light"
     },
     "output_type": "display_data"
    }
   ],
   "source": [
    "render.auto_plot_cumulative(P_events,\n",
    "                     'P_events',\n",
    "                      N,\n",
    "                      num_bins  ,\n",
    "                      radius ,\n",
    "                      t_range , \n",
    "                      focal_cell, \n",
    "                      focal_event, \n",
    "                      subject_cell, \n",
    "                      subject_event, \n",
    "                      '',#save_parent_dir ,\n",
    "                      '',#cbar_lim = (0, 0.0025),\n",
    "                      include_apop_bin = False,      \n",
    "                      SI = True)"
   ]
  },
  {
   "cell_type": "code",
   "execution_count": 6,
   "metadata": {},
   "outputs": [
    {
     "data": {
      "text/plain": [
       "<matplotlib.image.AxesImage at 0x7fe784827510>"
      ]
     },
     "execution_count": 6,
     "metadata": {},
     "output_type": "execute_result"
    },
    {
     "data": {
      "image/png": "[encoded data removed]",
      "text/plain": [
       "<Figure size 432x288 with 2 Axes>"
      ]
     },
     "metadata": {
      "needs_background": "light"
     },
     "output_type": "display_data"
    }
   ],
   "source": [
    "render.auto_plot_cumulative_defaulttext(P_events,\n",
    "                     'P_events',\n",
    "                      N,\n",
    "                      num_bins  ,\n",
    "                      radius ,\n",
    "                      t_range , \n",
    "                      focal_cell, \n",
    "                      focal_event, \n",
    "                      subject_cell, \n",
    "                      subject_event,\n",
    "                      '',#save_parent_dir ,\n",
    "                      '',#cbar_lim = (0, 0.0025),\n",
    "                      include_apop_bin = False,      \n",
    "                      SI = True)"
   ]
  },
  {
   "cell_type": "markdown",
   "metadata": {},
   "source": [
    "# Completely automated cumulative graph generation from single cell graph directory"
   ]
  },
  {
   "cell_type": "code",
   "execution_count": 27,
   "metadata": {},
   "outputs": [],
   "source": [
    "root_dir = '/home/nathan/data/kraken/h2b/giulia/radial_analysis_output/follow/individual_spatiotemporal_heatmaps/400.400.10/'\n",
    "save_parent_dir = os.path.join('/home/nathan/data/kraken/h2b/giulia/radial_analysis_output/follow/cumulative_plots/spatial_crop_cbarlim_0_0.002')"
   ]
  },
  {
   "cell_type": "code",
   "execution_count": 28,
   "metadata": {},
   "outputs": [
    {
     "name": "stdout",
     "output_type": "stream",
     "text": [
      "Filename /home/nathan/data/kraken/h2b/giulia/radial_analysis_output/follow/cumulative_plots/spatial_crop_cbarlim_0_0.002/400.400.10/scr_apop_scr_div/Spatiotemporal dist. of probability of Scribble divisions \n",
      " around Scribble apoptoses (N=1839).pdf already exists, saving as updated copy\n",
      "Plot saved at  /home/nathan/data/kraken/h2b/giulia/radial_analysis_output/follow/cumulative_plots/spatial_crop_cbarlim_0_0.002/400.400.10/scr_apop_scr_div/Spatiotemporal dist. of probability of Scribble divisions \n",
      " around Scribble apoptoses (N=1839) (updated 20210605-182104).pdf\n",
      "Plot saved at  /home/nathan/data/kraken/h2b/giulia/radial_analysis_output/follow/cumulative_plots/spatial_crop_cbarlim_0_0.002/400.400.10/scr_apop_scr_div/Spatiotemporal dist. of Scribble divisions \n",
      " around Scribble apoptoses (N=1839).pdf\n",
      "Plot saved at  /home/nathan/data/kraken/h2b/giulia/radial_analysis_output/follow/cumulative_plots/spatial_crop_cbarlim_0_0.002/400.400.10/scr_apop_scr_div/Spatiotemporal dist. of Scribble cells \n",
      " around Scribble apoptoses (N=1839).pdf\n",
      "Filename /home/nathan/data/kraken/h2b/giulia/radial_analysis_output/follow/cumulative_plots/spatial_crop_cbarlim_0_0.002/400.400.10/wt_apop_scr_div/Spatiotemporal dist. of probability of Scribble divisions \n",
      " around wild-type apoptoses (N=385).pdf already exists, saving as updated copy\n",
      "Plot saved at  /home/nathan/data/kraken/h2b/giulia/radial_analysis_output/follow/cumulative_plots/spatial_crop_cbarlim_0_0.002/400.400.10/wt_apop_scr_div/Spatiotemporal dist. of probability of Scribble divisions \n",
      " around wild-type apoptoses (N=385) (updated 20210605-182105).pdf\n",
      "Plot saved at  /home/nathan/data/kraken/h2b/giulia/radial_analysis_output/follow/cumulative_plots/spatial_crop_cbarlim_0_0.002/400.400.10/wt_apop_scr_div/Spatiotemporal dist. of Scribble divisions \n",
      " around wild-type apoptoses (N=385).pdf\n",
      "Plot saved at  /home/nathan/data/kraken/h2b/giulia/radial_analysis_output/follow/cumulative_plots/spatial_crop_cbarlim_0_0.002/400.400.10/wt_apop_scr_div/Spatiotemporal dist. of Scribble cells \n",
      " around wild-type apoptoses (N=385).pdf\n",
      "Filename /home/nathan/data/kraken/h2b/giulia/radial_analysis_output/follow/cumulative_plots/spatial_crop_cbarlim_0_0.002/400.400.10/wt_cont_scr_div/Spatiotemporal dist. of probability of Scribble divisions \n",
      " around wild-type random time points (N=3750).pdf already exists, saving as updated copy\n",
      "Plot saved at  /home/nathan/data/kraken/h2b/giulia/radial_analysis_output/follow/cumulative_plots/spatial_crop_cbarlim_0_0.002/400.400.10/wt_cont_scr_div/Spatiotemporal dist. of probability of Scribble divisions \n",
      " around wild-type random time points (N=3750) (updated 20210605-182108).pdf\n",
      "Plot saved at  /home/nathan/data/kraken/h2b/giulia/radial_analysis_output/follow/cumulative_plots/spatial_crop_cbarlim_0_0.002/400.400.10/wt_cont_scr_div/Spatiotemporal dist. of Scribble divisions \n",
      " around wild-type random time points (N=3750).pdf\n",
      "Plot saved at  /home/nathan/data/kraken/h2b/giulia/radial_analysis_output/follow/cumulative_plots/spatial_crop_cbarlim_0_0.002/400.400.10/wt_cont_scr_div/Spatiotemporal dist. of Scribble cells \n",
      " around wild-type random time points (N=3750).pdf\n",
      "Filename /home/nathan/data/kraken/h2b/giulia/radial_analysis_output/follow/cumulative_plots/spatial_crop_cbarlim_0_0.002/400.400.10/wt_cont_wt_div/Spatiotemporal dist. of probability of wild-type divisions \n",
      " around wild-type random time points (N=2453).pdf already exists, saving as updated copy\n",
      "Plot saved at  /home/nathan/data/kraken/h2b/giulia/radial_analysis_output/follow/cumulative_plots/spatial_crop_cbarlim_0_0.002/400.400.10/wt_cont_wt_div/Spatiotemporal dist. of probability of wild-type divisions \n",
      " around wild-type random time points (N=2453) (updated 20210605-182110).pdf\n",
      "Plot saved at  /home/nathan/data/kraken/h2b/giulia/radial_analysis_output/follow/cumulative_plots/spatial_crop_cbarlim_0_0.002/400.400.10/wt_cont_wt_div/Spatiotemporal dist. of wild-type divisions \n",
      " around wild-type random time points (N=2453).pdf\n",
      "Plot saved at  /home/nathan/data/kraken/h2b/giulia/radial_analysis_output/follow/cumulative_plots/spatial_crop_cbarlim_0_0.002/400.400.10/wt_cont_wt_div/Spatiotemporal dist. of wild-type cells \n",
      " around wild-type random time points (N=2453).pdf\n",
      "Filename /home/nathan/data/kraken/h2b/giulia/radial_analysis_output/follow/cumulative_plots/spatial_crop_cbarlim_0_0.002/400.400.10/wt_apop_wt_div/Spatiotemporal dist. of probability of wild-type divisions \n",
      " around wild-type apoptoses (N=385).pdf already exists, saving as updated copy\n",
      "Plot saved at  /home/nathan/data/kraken/h2b/giulia/radial_analysis_output/follow/cumulative_plots/spatial_crop_cbarlim_0_0.002/400.400.10/wt_apop_wt_div/Spatiotemporal dist. of probability of wild-type divisions \n",
      " around wild-type apoptoses (N=385) (updated 20210605-182111).pdf\n",
      "Plot saved at  /home/nathan/data/kraken/h2b/giulia/radial_analysis_output/follow/cumulative_plots/spatial_crop_cbarlim_0_0.002/400.400.10/wt_apop_wt_div/Spatiotemporal dist. of wild-type divisions \n",
      " around wild-type apoptoses (N=385).pdf\n",
      "Plot saved at  /home/nathan/data/kraken/h2b/giulia/radial_analysis_output/follow/cumulative_plots/spatial_crop_cbarlim_0_0.002/400.400.10/wt_apop_wt_div/Spatiotemporal dist. of wild-type cells \n",
      " around wild-type apoptoses (N=385).pdf\n",
      "Filename /home/nathan/data/kraken/h2b/giulia/radial_analysis_output/follow/cumulative_plots/spatial_crop_cbarlim_0_0.002/400.400.10/scr_apop_wt_div/Spatiotemporal dist. of probability of wild-type divisions \n",
      " around Scribble apoptoses (N=1839).pdf already exists, saving as updated copy\n",
      "Plot saved at  /home/nathan/data/kraken/h2b/giulia/radial_analysis_output/follow/cumulative_plots/spatial_crop_cbarlim_0_0.002/400.400.10/scr_apop_wt_div/Spatiotemporal dist. of probability of wild-type divisions \n",
      " around Scribble apoptoses (N=1839) (updated 20210605-182113).pdf\n",
      "Plot saved at  /home/nathan/data/kraken/h2b/giulia/radial_analysis_output/follow/cumulative_plots/spatial_crop_cbarlim_0_0.002/400.400.10/scr_apop_wt_div/Spatiotemporal dist. of wild-type divisions \n",
      " around Scribble apoptoses (N=1839).pdf\n",
      "Plot saved at  /home/nathan/data/kraken/h2b/giulia/radial_analysis_output/follow/cumulative_plots/spatial_crop_cbarlim_0_0.002/400.400.10/scr_apop_wt_div/Spatiotemporal dist. of wild-type cells \n",
      " around Scribble apoptoses (N=1839).pdf\n"
     ]
    },
    {
     "data": {
      "text/plain": [
       "<Figure size 432x288 with 0 Axes>"
      ]
     },
     "metadata": {},
     "output_type": "display_data"
    }
   ],
   "source": [
    "list_of_graph_types = os.listdir(root_dir)\n",
    "\n",
    "for graph_type in list_of_graph_types:\n",
    "    single_cell_heatmap_location = os.path.join(root_dir,graph_type)\n",
    "\n",
    "    analysis_info = single_cell_heatmap_location.split('individual_spatiotemporal_heatmaps/')[1]\n",
    "\n",
    "    radius, t_range, num_bins = list(map(int,analysis_info.split('/')[0].split('.') ))\n",
    "\n",
    "    focal_cell, focal_event , subject_cell, subject_event = analysis_info.split('/')[1].split('_')\n",
    "    \n",
    "    N_cells, N_events = np.zeros((num_bins, num_bins)), np.zeros((num_bins, num_bins))\n",
    "    N = 0\n",
    "    for heatmap_ID in natsorted(os.listdir(single_cell_heatmap_location)):\n",
    "        if 'N_cells' in heatmap_ID:\n",
    "            N_cells += np.load(os.path.join(single_cell_heatmap_location,heatmap_ID))\n",
    "        if 'N_events' in heatmap_ID:\n",
    "            N_events += np.load(os.path.join(single_cell_heatmap_location,heatmap_ID))\n",
    "            N+=1\n",
    "    P_events = N_events/N_cells\n",
    "    \n",
    "    render.auto_plot_cumulative(P_events,\n",
    "                                 'P_events',\n",
    "                                  N,\n",
    "                                  num_bins  ,\n",
    "                                  radius ,\n",
    "                                  t_range , \n",
    "                                  focal_cell, \n",
    "                                  focal_event, \n",
    "                                  subject_cell, \n",
    "                                  subject_event, \n",
    "                                  save_parent_dir ,\n",
    "                                  cbar_lim = (0, 0.002),\n",
    "                                  include_apop_bin = False,      \n",
    "                                  SI = True)\n",
    "    plt.clf()\n",
    "    \n",
    "    render.auto_plot_cumulative(N_events,\n",
    "                                 'N_events',\n",
    "                                  N,\n",
    "                                  num_bins  ,\n",
    "                                  radius ,\n",
    "                                  t_range , \n",
    "                                  focal_cell, \n",
    "                                  focal_event, \n",
    "                                  subject_cell, \n",
    "                                  subject_event, \n",
    "                                  save_parent_dir ,\n",
    "                                  '',#cbar_lim = (0, 0.0025),\n",
    "                                  include_apop_bin = False,      \n",
    "                                  SI = True)\n",
    "    plt.clf()\n",
    "    \n",
    "    render.auto_plot_cumulative(N_cells,\n",
    "                                 'N_cells',\n",
    "                                  N,\n",
    "                                  num_bins  ,\n",
    "                                  radius ,\n",
    "                                  t_range , \n",
    "                                  focal_cell, \n",
    "                                  focal_event, \n",
    "                                  subject_cell, \n",
    "                                  subject_event, \n",
    "                                  save_parent_dir ,\n",
    "                                  '',#cbar_lim = (0, 0.0025),\n",
    "                                  include_apop_bin = False,      \n",
    "                                  SI = True)\n",
    "    plt.clf()"
   ]
  },
  {
   "cell_type": "markdown",
   "metadata": {},
   "source": [
    "# New plot that shows many arrays randomly sampled from cumulative array "
   ]
  },
  {
   "cell_type": "code",
   "execution_count": null,
   "metadata": {},
   "outputs": [],
   "source": [
    "array1 = np.load('/home/nathan/data/kraken/h2b/giulia/radial_analysis_output/individual_spatiotemporal_heatmaps/800,20/scr_apop_wt_div/temporal_occupancy_adjusted/GV0794_Pos4_70_RFP_N_cells.npy')"
   ]
  },
  {
   "cell_type": "code",
   "execution_count": null,
   "metadata": {},
   "outputs": [],
   "source": [
    "array2 = np.load('/home/nathan/data/kraken/h2b/giulia/radial_analysis_output/individual_spatiotemporal_heatmaps/800,20/scr_apop_wt_div/temporal_occupancy_adjusted/GV0794_Pos6_8_RFP_N_cells.npy')"
   ]
  },
  {
   "cell_type": "code",
   "execution_count": null,
   "metadata": {},
   "outputs": [],
   "source": [
    "combined_array = array1*array2        cb = plt.colorbar(label = 'label')\n",
    "        ax = cb.ax\n",
    "        text = ax.yaxis.label\n",
    "        font = matplotlib.font_manager.FontProperties(family='Liberation Mono')\n",
    "        text.set_font_properties(font)\n"
   ]
  },
  {
   "cell_type": "code",
   "execution_count": null,
   "metadata": {},
   "outputs": [],
   "source": [
    "arrays = [array1, array2]"
   ]
  },
  {
   "cell_type": "code",
   "execution_count": null,
   "metadata": {},
   "outputs": [],
   "source": [
    "for array in arrays:\n",
    "    for i in array:\n",
    "        for j in i:\n",
    "            if j == np.nan:\n",
    "                continue\n",
    "            else:\n",
    "                print(j)"
   ]
  },
  {
   "cell_type": "code",
   "execution_count": null,
   "metadata": {},
   "outputs": [],
   "source": [
    "fig = plt.figure()\n",
    "a = fig.add_subplot(1, 3, 1)\n",
    "imgplot = plt.imshow(array1)\n",
    "a.set_title('array1')\n",
    "a = fig.add_subplot(1, 3, 2)\n",
    "imgplot = plt.imshow(array2)\n",
    "a.set_title('array2')\n",
    "a = fig.add_subplot(1, 3, 3)\n",
    "imgplot = plt.imshow(combined_array)\n",
    "a.set_title('combined')"
   ]
  }
 ],
 "metadata": {
  "kernelspec": {
   "display_name": "Python 3",
   "language": "python",
   "name": "python3"
  },
  "language_info": {
   "codemirror_mode": {
    "name": "ipython",
    "version": 3
   },
   "file_extension": ".py",
   "mimetype": "text/x-python",
   "name": "python",
   "nbconvert_exporter": "python",
   "pygments_lexer": "ipython3",
   "version": "3.7.4"
  }
 },
 "nbformat": 4,
 "nbformat_minor": 4
}
