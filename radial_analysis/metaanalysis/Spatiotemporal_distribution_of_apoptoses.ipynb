{
 "cells": [
  {
   "cell_type": "markdown",
   "metadata": {},
   "source": [
    "# Spatiotemporal distribution of apoptoses"
   ]
  },
  {
   "cell_type": "markdown",
   "metadata": {},
   "source": [
    "### This notebook counts the xyt positions of a series of apoptosis events - a meta-analysis of the cumulative event counter\n",
    "\n",
    "1. Load dictionary of apoptoses and theur corresponding times\n",
    "2. Load corresponding tracking data\n",
    "3. Iteratively calculate the xyt positioning of all apoptoses\n",
    "4. Plot as graphs"
   ]
  },
  {
   "cell_type": "code",
   "execution_count": 1,
   "metadata": {},
   "outputs": [],
   "source": [
    "import calculate_radial_analysis as calculate\n",
    "import tools\n",
    "import render\n",
    "\n",
    "import json\n",
    "import glob\n",
    "import os\n",
    "import re\n",
    "import numpy as np\n",
    "from natsort import natsorted\n",
    "from tqdm import tqdm\n",
    "import matplotlib.pyplot as plt"
   ]
  },
  {
   "cell_type": "markdown",
   "metadata": {},
   "source": [
    "## 1) Apoptosis dictionary loader\n",
    "Specify cell type to filter out unwanted apoptoses, want end result of apop_dict that takes the format of :`apop_dict = {apop_ID:apop_time}` \n",
    "\n",
    "where `apop_ID` takes the format of: `GV{experiment_ID}_Pos{position_ID}_{cell_ID}_{cell_type}` \n",
    "\n",
    "For example: \n",
    "\n",
    "```\n",
    "apop_dict = {'GV0794_Pos4_393_GFP': '766',\n",
    "             'GV0794_Pos7_364_GFP': '550',\n",
    "             'GV0794_Pos7_457_GFP': '805',\n",
    "             'GV0794_Pos7_369_GFP': '833',\n",
    "             'GV0794_Pos7_292_GFP': '884',\n",
    "             'GV0795_Pos4_358_GFP': '628',\n",
    "             'GV0795_Pos4_18_GFP': '855',\n",
    "             'GV0795_Pos4_1356_GFP': '992',\n",
    "             'GV0795_Pos4_359_GFP': '1133',\n",
    "             'GV0796_Pos4_542_GFP': '581',\n",
    "             'GV0796_Pos4_1334_GFP': '719',\n",
    "             'GV0796_Pos4_1586_GFP': '785'}\n",
    " ```"
   ]
  },
  {
   "cell_type": "code",
   "execution_count": 82,
   "metadata": {},
   "outputs": [
    {
     "data": {
      "text/plain": [
       "{'GV0819_Pos0_677_GFP': '635',\n",
       " 'GV0819_Pos0_913_GFP': '855',\n",
       " 'GV0819_Pos0_898_GFP': '866',\n",
       " 'GV0819_Pos0_22_GFP': '874',\n",
       " 'GV0819_Pos0_1_GFP': '887',\n",
       " 'GV0819_Pos0_1831_GFP': '906',\n",
       " 'GV0819_Pos0_897_GFP': '944',\n",
       " 'GV0819_Pos0_847_GFP': '944',\n",
       " 'GV0819_Pos0_846_GFP': '944',\n",
       " 'GV0819_Pos0_1712_GFP': '932',\n",
       " 'GV0819_Pos0_2151_GFP': '920',\n",
       " 'GV0819_Pos0_673_GFP': '957',\n",
       " 'GV0819_Pos0_1319_GFP': '939',\n",
       " 'GV0819_Pos0_2622_GFP': '1005',\n",
       " 'GV0819_Pos0_1622_GFP': '1005',\n",
       " 'GV0819_Pos0_98_GFP': '928',\n",
       " 'GV0819_Pos0_2345_GFP': '1003',\n",
       " 'GV0819_Pos0_643_GFP': '1003',\n",
       " 'GV0819_Pos0_1588_GFP': '1003',\n",
       " 'GV0819_Pos0_1587_GFP': '1003',\n",
       " 'GV0819_Pos0_843_GFP': '1033',\n",
       " 'GV0819_Pos0_2269_GFP': '1023',\n",
       " 'GV0819_Pos0_2268_GFP': '1023',\n",
       " 'GV0819_Pos0_1371_GFP': '1014',\n",
       " 'GV0819_Pos0_1370_GFP': '1000',\n",
       " 'GV0819_Pos0_838_GFP': '1007',\n",
       " 'GV0819_Pos0_912_GFP': '1046',\n",
       " 'GV0819_Pos0_1272_GFP': '1101',\n",
       " 'GV0819_Pos0_144_GFP': '1101',\n",
       " 'GV0819_Pos0_1210_GFP': '1100',\n",
       " 'GV0819_Pos0_1211_GFP': '1100',\n",
       " 'GV0819_Pos0_3087_GFP': '1099',\n",
       " 'GV0819_Pos0_3037_GFP': '1099',\n",
       " 'GV0819_Pos0_1740_GFP': '1099',\n",
       " 'GV0819_Pos0_1742_GFP': '1099',\n",
       " 'GV0819_Pos0_829_GFP': '1066',\n",
       " 'GV0819_Pos0_1074_GFP': '1084',\n",
       " 'GV0819_Pos0_2369_GFP': '1113',\n",
       " 'GV0819_Pos0_2308_GFP': '1113',\n",
       " 'GV0819_Pos0_3216_GFP': '1113',\n",
       " 'GV0819_Pos0_2206_GFP': '1157',\n",
       " 'GV0819_Pos0_2018_GFP': '1129',\n",
       " 'GV0819_Pos0_2009_GFP': '1129',\n",
       " 'GV0819_Pos0_412_GFP': '1167',\n",
       " 'GV0819_Pos0_1737_GFP': '1151',\n",
       " 'GV0819_Pos0_2886_GFP': '1161',\n",
       " 'GV0814_Pos12_354_GFP': '653',\n",
       " 'GV0814_Pos12_3629_GFP': '1056',\n",
       " 'GV0795_Pos4_358_GFP': '628',\n",
       " 'GV0795_Pos4_18_GFP': '855',\n",
       " 'GV0795_Pos4_1356_GFP': '992',\n",
       " 'GV0795_Pos4_359_GFP': '1133',\n",
       " 'GV0817_Pos0_7_GFP': '746',\n",
       " 'GV0817_Pos0_901_GFP': '838',\n",
       " 'GV0817_Pos0_1108_GFP': '876',\n",
       " 'GV0817_Pos0_1541_GFP': '903',\n",
       " 'GV0817_Pos0_2082_GFP': '941',\n",
       " 'GV0817_Pos0_737_GFP': '939',\n",
       " 'GV0817_Pos0_1731_GFP': '976',\n",
       " 'GV0817_Pos0_1542_GFP': '973',\n",
       " 'GV0817_Pos0_687_GFP': '977',\n",
       " 'GV0817_Pos0_1440_GFP': '1037',\n",
       " 'GV0817_Pos0_1928_GFP': '1053',\n",
       " 'GV0817_Pos0_224_GFP': '1099',\n",
       " 'GV0817_Pos0_2109_GFP': '1074',\n",
       " 'GV0817_Pos0_2855_GFP': '1129',\n",
       " 'GV0817_Pos0_2188_GFP': '1160',\n",
       " 'GV0817_Pos0_2181_GFP': '1172',\n",
       " 'GV0813_Pos1_886_GFP': '598',\n",
       " 'GV0819_Pos3_586_GFP': '593',\n",
       " 'GV0819_Pos3_741_GFP': '844',\n",
       " 'GV0819_Pos4_1586_GFP': '862',\n",
       " 'GV0819_Pos4_2425_GFP': '1048',\n",
       " 'GV0819_Pos4_2609_GFP': '1074',\n",
       " 'GV0800_Pos6_361_GFP': '847',\n",
       " 'GV0800_Pos6_302_GFP': '955',\n",
       " 'GV0797_Pos8_1104_GFP': '458',\n",
       " 'GV0806_Pos3_571_GFP': '281',\n",
       " 'GV0796_Pos7_44_GFP': '99',\n",
       " 'GV0796_Pos7_541_GFP': '462',\n",
       " 'GV0796_Pos7_803_GFP': '629',\n",
       " 'GV0796_Pos19_77_GFP': '180',\n",
       " 'GV0796_Pos19_441_GFP': '426',\n",
       " 'GV0796_Pos19_431_GFP': '516',\n",
       " 'GV0796_Pos19_2161_GFP': '859',\n",
       " 'GV0796_Pos19_1960_GFP': '986',\n",
       " 'GV0797_Pos7_724_GFP': '337',\n",
       " 'GV0797_Pos7_192_GFP': '338',\n",
       " 'GV0797_Pos7_230_GFP': '409',\n",
       " 'GV0797_Pos7_1103_GFP': '434',\n",
       " 'GV0797_Pos7_1029_GFP': '600',\n",
       " 'GV0796_Pos21_2923_GFP': '943',\n",
       " 'GV0796_Pos21_788_GFP': '740',\n",
       " 'GV0816_Pos23_5_GFP': '43',\n",
       " 'GV0816_Pos23_1_GFP': '401',\n",
       " 'GV0816_Pos23_755_GFP': '768',\n",
       " 'GV0816_Pos23_757_GFP': '770',\n",
       " 'GV0816_Pos23_773_GFP': '791',\n",
       " 'GV0816_Pos23_772_GFP': '798',\n",
       " 'GV0816_Pos23_696_GFP': '775',\n",
       " 'GV0800_Pos17_7_GFP': '98',\n",
       " 'GV0800_Pos17_1010_GFP': '978',\n",
       " 'GV0800_Pos17_1009_GFP': '982',\n",
       " 'GV0800_Pos17_868_GFP': '1017',\n",
       " 'GV0800_Pos17_869_GFP': '1015',\n",
       " 'GV0800_Pos17_1001_GFP': '1156',\n",
       " 'GV0800_Pos17_1002_GFP': '1156',\n",
       " 'GV0806_Pos5_124_GFP': '1067',\n",
       " 'GV0800_Pos4_480_GFP': '716',\n",
       " 'GV0820_Pos5_47_GFP': '191',\n",
       " 'GV0820_Pos5_48_GFP': '548',\n",
       " 'GV0820_Pos5_417_GFP': '768',\n",
       " 'GV0820_Pos5_1837_GFP': '989',\n",
       " 'GV0813_Pos0_137_GFP': '930',\n",
       " 'GV0813_Pos0_356_GFP': '955',\n",
       " 'GV0813_Pos0_260_GFP': '975',\n",
       " 'GV0813_Pos0_111_GFP': '981',\n",
       " 'GV0813_Pos0_223_GFP': '1002',\n",
       " 'GV0813_Pos0_636_GFP': '957',\n",
       " 'GV0813_Pos4_404_GFP': '466',\n",
       " 'GV0813_Pos4_596_GFP': '526',\n",
       " 'GV0813_Pos4_403_GFP': '535',\n",
       " 'GV0813_Pos4_7_GFP': '606',\n",
       " 'GV0813_Pos4_1000_GFP': '692',\n",
       " 'GV0819_Pos2_119_GFP': '297',\n",
       " 'GV0819_Pos2_481_GFP': '447',\n",
       " 'GV0819_Pos2_513_GFP': '653',\n",
       " 'GV0819_Pos2_143_GFP': '878',\n",
       " 'GV0819_Pos2_1617_GFP': '965',\n",
       " 'GV0820_Pos4_684_GFP': '740',\n",
       " 'GV0820_Pos4_1034_GFP': '960',\n",
       " 'GV0820_Pos4_1634_GFP': '900',\n",
       " 'GV0800_Pos8_263_GFP': '530',\n",
       " 'GV0800_Pos8_49_GFP': '844',\n",
       " 'GV0813_Pos3_362_GFP': '440',\n",
       " 'GV0813_Pos3_15_GFP': '356',\n",
       " 'GV0813_Pos3_33_GFP': '332',\n",
       " 'GV0813_Pos3_341_GFP': '566',\n",
       " 'GV0813_Pos3_513_GFP': '580',\n",
       " 'GV0813_Pos3_514_GFP': '601',\n",
       " 'GV0813_Pos3_599_GFP': '831',\n",
       " 'GV0813_Pos3_304_GFP': '810',\n",
       " 'GV0813_Pos3_535_GFP': '814',\n",
       " 'GV0813_Pos3_813_GFP': '898',\n",
       " 'GV0813_Pos3_1298_GFP': '914',\n",
       " 'GV0813_Pos3_538_GFP': '881',\n",
       " 'GV0813_Pos3_122_GFP': '899',\n",
       " 'GV0798_Pos23_72_GFP': '586',\n",
       " 'GV0798_Pos23_261_GFP': '657',\n",
       " 'GV0798_Pos23_976_GFP': '922',\n",
       " 'GV0798_Pos23_536_GFP': '829',\n",
       " 'GV0807_Pos5_1493_GFP': '1115',\n",
       " 'GV0820_Pos3_1521_GFP': '950',\n",
       " 'GV0820_Pos3_605_GFP': '871',\n",
       " 'GV0820_Pos3_1364_GFP': '984',\n",
       " 'GV0820_Pos3_2143_GFP': '984',\n",
       " 'GV0820_Pos3_2006_GFP': '984',\n",
       " 'GV0820_Pos3_2146_GFP': '983',\n",
       " 'GV0820_Pos3_1639_GFP': '1027',\n",
       " 'GV0796_Pos20_28_GFP': '276',\n",
       " 'GV0805_Pos3_682_GFP': '568',\n",
       " 'GV0805_Pos3_50_GFP': '839',\n",
       " 'GV0805_Pos3_4_GFP': '846',\n",
       " 'GV0806_Pos4_165_GFP': '375',\n",
       " 'GV0806_Pos4_1452_GFP': '687',\n",
       " 'GV0806_Pos4_1471_GFP': '687',\n",
       " 'GV0806_Pos4_944_GFP': '680',\n",
       " 'GV0806_Pos4_1258_GFP': '932',\n",
       " 'GV0796_Pos3_1599_GFP': '501',\n",
       " 'GV0797_Pos19_451_GFP': '179',\n",
       " 'GV0797_Pos19_546_GFP': '320',\n",
       " 'GV0797_Pos19_1229_GFP': '623',\n",
       " 'GV0817_Pos12_363_GFP': '699',\n",
       " 'GV0817_Pos12_1193_GFP': '1090',\n",
       " 'GV0804_Pos4_1013_GFP': '903',\n",
       " 'GV0804_Pos4_1774_GFP': '1106',\n",
       " 'GV0797_Pos4_290_GFP': '283',\n",
       " 'GV0797_Pos4_1397_GFP': '397',\n",
       " 'GV0797_Pos4_825_GFP': '492',\n",
       " 'GV0797_Pos4_1823_GFP': '552',\n",
       " 'GV0797_Pos4_1006_GFP': '552',\n",
       " 'GV0797_Pos4_1487_GFP': '535',\n",
       " 'GV0797_Pos4_1486_GFP': '644',\n",
       " 'GV0797_Pos4_2398_GFP': '623',\n",
       " 'GV0797_Pos4_2468_GFP': '623',\n",
       " 'GV0814_Pos0_578_GFP': '935',\n",
       " 'GV0814_Pos0_597_GFP': '898',\n",
       " 'GV0814_Pos0_452_GFP': '1023',\n",
       " 'GV0814_Pos0_1322_GFP': '1135',\n",
       " 'GV0814_Pos0_453_GFP': '1163',\n",
       " 'GV0814_Pos0_26_GFP': '1161',\n",
       " 'GV0814_Pos0_357_GFP': '1157',\n",
       " 'GV0800_Pos15_91_GFP': '131',\n",
       " 'GV0800_Pos15_1412_GFP': '843',\n",
       " 'GV0798_Pos6_11_GFP': '155',\n",
       " 'GV0820_Pos0_35_GFP': '128',\n",
       " 'GV0820_Pos0_28_GFP': '670',\n",
       " 'GV0820_Pos0_930_GFP': '698',\n",
       " 'GV0820_Pos0_739_GFP': '716',\n",
       " 'GV0820_Pos0_501_GFP': '741',\n",
       " 'GV0820_Pos0_19_GFP': '724',\n",
       " 'GV0820_Pos0_589_GFP': '724',\n",
       " 'GV0820_Pos0_709_GFP': '825',\n",
       " 'GV0820_Pos0_1329_GFP': '952',\n",
       " 'GV0820_Pos0_854_GFP': '976',\n",
       " 'GV0820_Pos0_784_GFP': '972',\n",
       " 'GV0820_Pos0_1837_GFP': '1009',\n",
       " 'GV0820_Pos0_2191_GFP': '1010',\n",
       " 'GV0820_Pos0_710_GFP': '956',\n",
       " 'GV0820_Pos0_1231_GFP': '1046',\n",
       " 'GV0798_Pos18_353_GFP': '322',\n",
       " 'GV0815_Pos12_1143_GFP': '780',\n",
       " 'GV0815_Pos12_1142_GFP': '857',\n",
       " 'GV0815_Pos12_799_GFP': '874',\n",
       " 'GV0815_Pos12_1521_GFP': '1110',\n",
       " 'GV0815_Pos12_817_GFP': '1069',\n",
       " 'GV0815_Pos12_2169_GFP': '1137',\n",
       " 'GV0813_Pos2_589_GFP': '695',\n",
       " 'GV0813_Pos2_717_GFP': '972',\n",
       " 'GV0819_Pos1_34_GFP': '501',\n",
       " 'GV0819_Pos1_425_GFP': '491',\n",
       " 'GV0819_Pos1_653_GFP': '527',\n",
       " 'GV0819_Pos1_739_GFP': '527',\n",
       " 'GV0819_Pos1_1068_GFP': '692',\n",
       " 'GV0819_Pos1_941_GFP': '692',\n",
       " 'GV0819_Pos1_942_GFP': '692',\n",
       " 'GV0819_Pos1_1745_GFP': '925',\n",
       " 'GV0819_Pos1_798_GFP': '987',\n",
       " 'GV0816_Pos14_7_GFP': '139',\n",
       " 'GV0816_Pos14_537_GFP': '849',\n",
       " 'GV0816_Pos14_496_GFP': '982',\n",
       " 'GV0800_Pos7_278_GFP': '242',\n",
       " 'GV0800_Pos7_206_GFP': '539',\n",
       " 'GV0800_Pos7_511_GFP': '578',\n",
       " 'GV0800_Pos7_397_GFP': '602',\n",
       " 'GV0800_Pos7_445_GFP': '686',\n",
       " 'GV0800_Pos7_921_GFP': '970',\n",
       " 'GV0800_Pos7_2097_GFP': '971',\n",
       " 'GV0800_Pos7_1616_GFP': '971',\n",
       " 'GV0800_Pos7_1160_GFP': '926',\n",
       " 'GV0797_Pos21_93_GFP': '20',\n",
       " 'GV0797_Pos21_77_GFP': '135',\n",
       " 'GV0797_Pos21_732_GFP': '298',\n",
       " 'GV0797_Pos21_5_GFP': '386',\n",
       " 'GV0797_Pos21_7_GFP': '484',\n",
       " 'GV0797_Pos21_101_GFP': '379',\n",
       " 'GV0797_Pos21_94_GFP': '392',\n",
       " 'GV0797_Pos21_787_GFP': '344',\n",
       " 'GV0797_Pos21_1545_GFP': '510',\n",
       " 'GV0797_Pos21_1544_GFP': '510',\n",
       " 'GV0815_Pos23_185_GFP': '555',\n",
       " 'GV0815_Pos23_634_GFP': '705',\n",
       " 'GV0820_Pos2_406_GFP': '635',\n",
       " 'GV0820_Pos2_1232_GFP': '979',\n",
       " 'GV0807_Pos4_982_GFP': '763',\n",
       " 'GV0807_Pos4_14_GFP': '990',\n",
       " 'GV0815_Pos0_145_GFP': '73',\n",
       " 'GV0815_Pos0_641_GFP': '691',\n",
       " 'GV0815_Pos0_981_GFP': '652',\n",
       " 'GV0815_Pos0_42_GFP': '792',\n",
       " 'GV0815_Pos0_2046_GFP': '911',\n",
       " 'GV0815_Pos0_436_GFP': '1052',\n",
       " 'GV0815_Pos0_2221_GFP': '1033',\n",
       " 'GV0815_Pos0_1487_GFP': '1060',\n",
       " 'GV0815_Pos0_444_GFP': '1124',\n",
       " 'GV0815_Pos0_620_GFP': '1132',\n",
       " 'GV0815_Pos0_1133_GFP': '1175',\n",
       " 'GV0815_Pos0_949_GFP': '1175',\n",
       " 'GV0814_Pos11_1120_GFP': '756',\n",
       " 'GV0814_Pos11_1878_GFP': '767',\n",
       " 'GV0814_Pos11_1981_GFP': '957',\n",
       " 'GV0814_Pos11_3733_GFP': '1069',\n",
       " 'GV0814_Pos11_2242_GFP': '1051',\n",
       " 'GV0814_Pos11_2469_GFP': '1106',\n",
       " 'GV0814_Pos11_1212_GFP': '1133',\n",
       " 'GV0814_Pos11_4428_GFP': '1152',\n",
       " 'GV0797_Pos22_281_GFP': '524',\n",
       " 'GV0818_Pos13_353_GFP': '557',\n",
       " 'GV0818_Pos13_1205_GFP': '715',\n",
       " 'GV0818_Pos13_1365_GFP': '787',\n",
       " 'GV0818_Pos13_3452_GFP': '960',\n",
       " 'GV0818_Pos13_3451_GFP': '961',\n",
       " 'GV0815_Pos11_536_GFP': '505',\n",
       " 'GV0815_Pos11_255_GFP': '532',\n",
       " 'GV0815_Pos11_2851_GFP': '1019',\n",
       " 'GV0815_Pos11_1379_GFP': '1044',\n",
       " 'GV0795_Pos3_500_GFP': '655',\n",
       " 'GV0798_Pos21_9_GFP': '0',\n",
       " 'GV0798_Pos21_39_GFP': '0',\n",
       " 'GV0798_Pos21_417_GFP': '671',\n",
       " 'GV0818_Pos12_187_GFP': '549',\n",
       " 'GV0818_Pos12_378_GFP': '604',\n",
       " 'GV0818_Pos12_863_GFP': '632',\n",
       " 'GV0818_Pos12_932_GFP': '728',\n",
       " 'GV0818_Pos12_933_GFP': '728',\n",
       " 'GV0818_Pos12_1099_GFP': '712',\n",
       " 'GV0818_Pos12_957_GFP': '756',\n",
       " 'GV0818_Pos12_1928_GFP': '933',\n",
       " 'GV0818_Pos12_2092_GFP': '954',\n",
       " 'GV0818_Pos12_1715_GFP': '930',\n",
       " 'GV0818_Pos12_1714_GFP': '984',\n",
       " 'GV0818_Pos12_1360_GFP': '1013',\n",
       " 'GV0818_Pos12_2659_GFP': '1021',\n",
       " 'GV0818_Pos12_98_GFP': '1021',\n",
       " 'GV0818_Pos12_1463_GFP': '1021',\n",
       " 'GV0802_Pos3_2411_GFP': '843',\n",
       " 'GV0797_Pos18_833_GFP': '393',\n",
       " 'GV0797_Pos18_706_GFP': '345',\n",
       " 'GV0797_Pos18_1303_GFP': '448',\n",
       " 'GV0797_Pos18_1302_GFP': '457',\n",
       " 'GV0797_Pos18_1422_GFP': '602',\n",
       " 'GV0817_Pos11_141_GFP': '752',\n",
       " 'GV0817_Pos11_944_GFP': '827',\n",
       " 'GV0817_Pos11_393_GFP': '881',\n",
       " 'GV0817_Pos11_2358_GFP': '1086',\n",
       " 'GV0797_Pos5_971_GFP': '558',\n",
       " 'GV0797_Pos5_741_GFP': '605',\n",
       " 'GV0797_Pos5_742_GFP': '605',\n",
       " 'GV0797_Pos20_92_GFP': '273',\n",
       " 'GV0797_Pos20_39_GFP': '508',\n",
       " 'GV0797_Pos20_662_GFP': '510',\n",
       " 'GV0797_Pos20_880_GFP': '548',\n",
       " 'GV0794_Pos7_364_GFP': '550',\n",
       " 'GV0794_Pos7_457_GFP': '805',\n",
       " 'GV0794_Pos7_369_GFP': '833',\n",
       " 'GV0794_Pos7_292_GFP': '884',\n",
       " 'GV0816_Pos0_416_GFP': '679',\n",
       " 'GV0816_Pos0_668_GFP': '942',\n",
       " 'GV0798_Pos8_1325_GFP': '880',\n",
       " 'GV0798_Pos4_1955_GFP': '904',\n",
       " 'GV0816_Pos13_39_GFP': '5',\n",
       " 'GV0816_Pos13_25_GFP': '951',\n",
       " 'GV0800_Pos16_327_GFP': '507',\n",
       " 'GV0800_Pos16_259_GFP': '601',\n",
       " 'GV0800_Pos16_265_GFP': '601',\n",
       " 'GV0800_Pos16_1376_GFP': '831',\n",
       " 'GV0800_Pos16_719_GFP': '860',\n",
       " 'GV0800_Pos16_720_GFP': '902',\n",
       " 'GV0819_Pos5_1411_GFP': '871',\n",
       " 'GV0819_Pos5_1374_GFP': '976',\n",
       " 'GV0819_Pos5_1098_GFP': '1102',\n",
       " 'GV0805_Pos4_282_GFP': '369',\n",
       " 'GV0805_Pos4_686_GFP': '684',\n",
       " 'GV0805_Pos4_456_GFP': '831',\n",
       " 'GV0796_Pos4_542_GFP': '581',\n",
       " 'GV0796_Pos4_1334_GFP': '719',\n",
       " 'GV0796_Pos4_1586_GFP': '785',\n",
       " 'GV0796_Pos4_1748_GFP': '829',\n",
       " 'GV0796_Pos4_2589_GFP': '905',\n",
       " 'GV0796_Pos4_723_GFP': '891',\n",
       " 'GV0796_Pos4_2259_GFP': '913',\n",
       " 'GV0794_Pos5_1_GFP': '35',\n",
       " 'GV0817_Pos23_22_GFP': '76',\n",
       " 'GV0817_Pos23_389_GFP': '545',\n",
       " 'GV0817_Pos23_967_GFP': '636',\n",
       " 'GV0817_Pos23_216_GFP': '730',\n",
       " 'GV0817_Pos23_1183_GFP': '802',\n",
       " 'GV0817_Pos23_13_GFP': '839',\n",
       " 'GV0817_Pos23_3375_GFP': '962',\n",
       " 'GV0817_Pos23_2410_GFP': '974',\n",
       " 'GV0817_Pos23_4109_GFP': '1087',\n",
       " 'GV0817_Pos23_2771_GFP': '1092',\n",
       " 'GV0817_Pos23_3290_GFP': '1182',\n",
       " 'GV0796_Pos8_41_GFP': '87',\n",
       " 'GV0796_Pos8_423_GFP': '461',\n",
       " 'GV0797_Pos23_88_GFP': '304',\n",
       " 'GV0797_Pos23_248_GFP': '597',\n",
       " 'GV0794_Pos3_311_GFP': '731',\n",
       " 'GV0794_Pos3_142_GFP': '811',\n",
       " 'GV0802_Pos5_184_GFP': '717',\n",
       " 'GV0802_Pos5_185_GFP': '752',\n",
       " 'GV0802_Pos5_372_GFP': '979',\n",
       " 'GV0802_Pos5_141_GFP': '858',\n",
       " 'GV0801_Pos4_298_GFP': '616',\n",
       " 'GV0801_Pos4_2650_GFP': '1047',\n",
       " 'GV0801_Pos4_3147_GFP': '1119',\n",
       " 'GV0801_Pos4_1396_GFP': '1168',\n",
       " 'GV0801_Pos4_3582_GFP': '1176',\n",
       " 'GV0794_Pos4_393_GFP': '766',\n",
       " 'GV0820_Pos1_130_GFP': '202',\n",
       " 'GV0820_Pos1_412_GFP': '717',\n",
       " 'GV0820_Pos1_1427_GFP': '840',\n",
       " 'GV0820_Pos1_503_GFP': '867',\n",
       " 'GV0820_Pos1_368_GFP': '911',\n",
       " 'GV0820_Pos1_1818_GFP': '1007'}"
      ]
     },
     "execution_count": 82,
     "metadata": {},
     "output_type": "execute_result"
    }
   ],
   "source": [
    "cell_type = 'GFP'\n",
    "path_to_apop_lists = '/home/nathan/data/kraken/h2b/giulia/apoptosis_information/final/all'\n",
    "expts_apop_lists = os.listdir(path_to_apop_lists)\n",
    "apop_dict = {}\n",
    "for expt_apop_list in expts_apop_lists:\n",
    "    apop_list = open(os.path.join(path_to_apop_lists, expt_apop_list), 'r')\n",
    "    for apop_ID in apop_list:\n",
    "        if cell_type in apop_ID:\n",
    "            if 'stitched' not in apop_ID:\n",
    "                apop_dict[apop_ID.split()[0]] = apop_ID.split()[1]\n",
    "apop_dict"
   ]
  },
  {
   "cell_type": "markdown",
   "metadata": {},
   "source": [
    "## 2) Load corresponding cell tracking data"
   ]
  },
  {
   "cell_type": "code",
   "execution_count": 73,
   "metadata": {},
   "outputs": [],
   "source": [
    "### load tracking data\n",
    "path_to_hdf5 = '/home/nathan/data/kraken/h2b/giulia'\n",
    "hdf5_file_list = tools.hdf5_file_finder(path_to_hdf5)"
   ]
  },
  {
   "cell_type": "markdown",
   "metadata": {},
   "source": [
    "## 3) Iteratively find xy positions and organise into arrays\n",
    "\n",
    "This step can be time consuming\n",
    "\n",
    "Function to calculate:\n",
    "\n",
    "`tools.xy_position_counter(apop_dict, hdf5_file_list)`\n"
   ]
  },
  {
   "cell_type": "code",
   "execution_count": 22,
   "metadata": {},
   "outputs": [
    {
     "name": "stderr",
     "output_type": "stream",
     "text": [
      "  0%|          | 0/385 [00:00<?, ?it/s][INFO][2021/03/26 02:44:57 PM] Opening HDF file: /home/nathan/data/kraken/h2b/giulia/GV0819/Pos0/Pos0_aligned/HDF/segmented.hdf5...\n",
      "[INFO][2021/03/26 02:44:57 PM] Loading tracks/obj_type_1\n"
     ]
    },
    {
     "name": "stdout",
     "output_type": "stream",
     "text": [
      "ID GV0819_Pos0_677_GFP\n",
      "Loading GV0819/Pos0/\n",
      "Btrack version no.: 0.4.0\n"
     ]
    },
    {
     "name": "stderr",
     "output_type": "stream",
     "text": [
      "[INFO][2021/03/26 02:44:59 PM] Loading objects/obj_type_1 (285723, 5) (262105 filtered: area>=100)\n",
      "[INFO][2021/03/26 02:45:01 PM] Closing HDF file: /home/nathan/data/kraken/h2b/giulia/GV0819/Pos0/Pos0_aligned/HDF/segmented.hdf5\n",
      "[INFO][2021/03/26 02:45:01 PM] Opening HDF file: /home/nathan/data/kraken/h2b/giulia/GV0819/Pos0/Pos0_aligned/HDF/segmented.hdf5...\n",
      "[INFO][2021/03/26 02:45:01 PM] Loading tracks/obj_type_2\n",
      "[INFO][2021/03/26 02:45:01 PM] Loading objects/obj_type_2 (79945, 5) (62473 filtered: area>=100)\n",
      "[INFO][2021/03/26 02:45:02 PM] Closing HDF file: /home/nathan/data/kraken/h2b/giulia/GV0819/Pos0/Pos0_aligned/HDF/segmented.hdf5\n",
      " 11%|█         | 41/385 [00:05<13:42,  2.39s/it]"
     ]
    },
    {
     "name": "stdout",
     "output_type": "stream",
     "text": [
      "Track information loaded and ordered according to cell type (WT IDs >0> Scr IDs\n",
      "Loaded GV0819/Pos0/\n",
      "ID GV0819_Pos0_913_GFP\n",
      "ID GV0819_Pos0_898_GFP\n",
      "ID GV0819_Pos0_22_GFP\n",
      "ID GV0819_Pos0_1_GFP\n",
      "ID GV0819_Pos0_1831_GFP\n",
      "ID GV0819_Pos0_897_GFP\n",
      "ID GV0819_Pos0_847_GFP\n",
      "ID GV0819_Pos0_846_GFP\n",
      "ID GV0819_Pos0_1712_GFP\n",
      "ID GV0819_Pos0_2151_GFP\n",
      "ID GV0819_Pos0_673_GFP\n",
      "ID GV0819_Pos0_1319_GFP\n",
      "ID GV0819_Pos0_2622_GFP\n",
      "ID GV0819_Pos0_1622_GFP\n",
      "ID GV0819_Pos0_98_GFP\n",
      "ID GV0819_Pos0_2345_GFP\n",
      "ID GV0819_Pos0_643_GFP\n",
      "ID GV0819_Pos0_1588_GFP\n",
      "ID GV0819_Pos0_1587_GFP\n",
      "ID GV0819_Pos0_843_GFP\n",
      "ID GV0819_Pos0_2269_GFP\n",
      "ID GV0819_Pos0_2268_GFP\n",
      "ID GV0819_Pos0_1371_GFP\n",
      "ID GV0819_Pos0_1370_GFP\n",
      "ID GV0819_Pos0_838_GFP\n",
      "ID GV0819_Pos0_912_GFP\n",
      "ID GV0819_Pos0_1272_GFP\n",
      "ID GV0819_Pos0_144_GFP\n",
      "ID GV0819_Pos0_1210_GFP\n",
      "ID GV0819_Pos0_1211_GFP\n",
      "ID GV0819_Pos0_3087_GFP\n",
      "ID GV0819_Pos0_3037_GFP\n",
      "ID GV0819_Pos0_1740_GFP\n",
      "ID GV0819_Pos0_1742_GFP\n",
      "ID GV0819_Pos0_829_GFP\n",
      "ID GV0819_Pos0_1074_GFP\n",
      "ID GV0819_Pos0_2369_GFP\n",
      "ID GV0819_Pos0_2308_GFP\n",
      "ID GV0819_Pos0_3216_GFP\n",
      "ID GV0819_Pos0_2206_GFP\n"
     ]
    },
    {
     "name": "stderr",
     "output_type": "stream",
     "text": [
      "[INFO][2021/03/26 02:45:02 PM] Opening HDF file: /home/nathan/data/kraken/h2b/giulia/GV0814/Pos12/Pos12_aligned/HDF/segmented.hdf5...\n",
      "[INFO][2021/03/26 02:45:02 PM] Loading tracks/obj_type_1\n"
     ]
    },
    {
     "name": "stdout",
     "output_type": "stream",
     "text": [
      "ID GV0819_Pos0_2018_GFP\n",
      "ID GV0819_Pos0_2009_GFP\n",
      "ID GV0819_Pos0_412_GFP\n",
      "ID GV0819_Pos0_1737_GFP\n",
      "ID GV0819_Pos0_2886_GFP\n",
      "ID GV0814_Pos12_354_GFP\n",
      "Loading GV0814/Pos12/\n",
      "Btrack version no.: 0.4.0\n"
     ]
    },
    {
     "name": "stderr",
     "output_type": "stream",
     "text": [
      "[INFO][2021/03/26 02:45:05 PM] Loading objects/obj_type_1 (387469, 5) (361100 filtered: area>=100)\n",
      "[INFO][2021/03/26 02:45:08 PM] Closing HDF file: /home/nathan/data/kraken/h2b/giulia/GV0814/Pos12/Pos12_aligned/HDF/segmented.hdf5\n",
      "[INFO][2021/03/26 02:45:08 PM] Opening HDF file: /home/nathan/data/kraken/h2b/giulia/GV0814/Pos12/Pos12_aligned/HDF/segmented.hdf5...\n",
      "[INFO][2021/03/26 02:45:08 PM] Loading tracks/obj_type_2\n",
      "[INFO][2021/03/26 02:45:08 PM] Loading objects/obj_type_2 (48265, 5) (39349 filtered: area>=100)\n",
      "[INFO][2021/03/26 02:45:09 PM] Closing HDF file: /home/nathan/data/kraken/h2b/giulia/GV0814/Pos12/Pos12_aligned/HDF/segmented.hdf5\n",
      "[INFO][2021/03/26 02:45:09 PM] Opening HDF file: /home/nathan/data/kraken/h2b/giulia/GV0795/Pos4/Pos4_aligned/HDF/segmented.hdf5...\n",
      "[INFO][2021/03/26 02:45:09 PM] Loading tracks/obj_type_1\n"
     ]
    },
    {
     "name": "stdout",
     "output_type": "stream",
     "text": [
      "Track information loaded and ordered according to cell type (WT IDs >0> Scr IDs\n",
      "Loaded GV0814/Pos12/\n",
      "ID GV0814_Pos12_3629_GFP\n",
      "ID GV0795_Pos4_358_GFP\n",
      "Loading GV0795/Pos4/\n",
      "Btrack version no.: 0.4.0\n"
     ]
    },
    {
     "name": "stderr",
     "output_type": "stream",
     "text": [
      "[INFO][2021/03/26 02:45:10 PM] Loading objects/obj_type_1 (211479, 5) (197642 filtered: area>=100)\n",
      "[INFO][2021/03/26 02:45:12 PM] Closing HDF file: /home/nathan/data/kraken/h2b/giulia/GV0795/Pos4/Pos4_aligned/HDF/segmented.hdf5\n",
      "[INFO][2021/03/26 02:45:12 PM] Opening HDF file: /home/nathan/data/kraken/h2b/giulia/GV0795/Pos4/Pos4_aligned/HDF/segmented.hdf5...\n",
      "[INFO][2021/03/26 02:45:12 PM] Loading tracks/obj_type_2\n",
      "[INFO][2021/03/26 02:45:12 PM] Loading objects/obj_type_2 (49070, 5) (38203 filtered: area>=100)\n",
      "[INFO][2021/03/26 02:45:12 PM] Closing HDF file: /home/nathan/data/kraken/h2b/giulia/GV0795/Pos4/Pos4_aligned/HDF/segmented.hdf5\n",
      " 14%|█▎        | 52/385 [00:15<10:51,  1.96s/it][INFO][2021/03/26 02:45:13 PM] Opening HDF file: /home/nathan/data/kraken/h2b/giulia/GV0817/Pos0/Pos0_aligned/HDF/segmented.hdf5...\n",
      "[INFO][2021/03/26 02:45:13 PM] Loading tracks/obj_type_1\n"
     ]
    },
    {
     "name": "stdout",
     "output_type": "stream",
     "text": [
      "Track information loaded and ordered according to cell type (WT IDs >0> Scr IDs\n",
      "Loaded GV0795/Pos4/\n",
      "ID GV0795_Pos4_18_GFP\n",
      "ID GV0795_Pos4_1356_GFP\n",
      "ID GV0795_Pos4_359_GFP\n",
      "ID GV0817_Pos0_7_GFP\n",
      "Loading GV0817/Pos0/\n",
      "Btrack version no.: 0.4.0\n"
     ]
    },
    {
     "name": "stderr",
     "output_type": "stream",
     "text": [
      "[INFO][2021/03/26 02:45:14 PM] Loading objects/obj_type_1 (279987, 5) (256086 filtered: area>=100)\n",
      "[INFO][2021/03/26 02:45:16 PM] Closing HDF file: /home/nathan/data/kraken/h2b/giulia/GV0817/Pos0/Pos0_aligned/HDF/segmented.hdf5\n",
      "[INFO][2021/03/26 02:45:16 PM] Opening HDF file: /home/nathan/data/kraken/h2b/giulia/GV0817/Pos0/Pos0_aligned/HDF/segmented.hdf5...\n",
      "[INFO][2021/03/26 02:45:16 PM] Loading tracks/obj_type_2\n",
      "[INFO][2021/03/26 02:45:17 PM] Loading objects/obj_type_2 (113873, 5) (83931 filtered: area>=100)\n",
      "[INFO][2021/03/26 02:45:18 PM] Closing HDF file: /home/nathan/data/kraken/h2b/giulia/GV0817/Pos0/Pos0_aligned/HDF/segmented.hdf5\n",
      " 14%|█▍        | 53/385 [00:20<16:21,  2.96s/it][INFO][2021/03/26 02:45:18 PM] Opening HDF file: /home/nathan/data/kraken/h2b/giulia/GV0813/Pos1/Pos1_aligned/HDF/segmented.hdf5...\n",
      "[INFO][2021/03/26 02:45:18 PM] Loading tracks/obj_type_1\n"
     ]
    },
    {
     "name": "stdout",
     "output_type": "stream",
     "text": [
      "Track information loaded and ordered according to cell type (WT IDs >0> Scr IDs\n",
      "Loaded GV0817/Pos0/\n",
      "ID GV0817_Pos0_901_GFP\n",
      "ID GV0817_Pos0_1108_GFP\n",
      "ID GV0817_Pos0_1541_GFP\n",
      "ID GV0817_Pos0_2082_GFP\n",
      "ID GV0817_Pos0_737_GFP\n",
      "ID GV0817_Pos0_1731_GFP\n",
      "ID GV0817_Pos0_1542_GFP\n",
      "ID GV0817_Pos0_687_GFP\n",
      "ID GV0817_Pos0_1440_GFP\n",
      "ID GV0817_Pos0_1928_GFP\n",
      "ID GV0817_Pos0_224_GFP\n",
      "ID GV0817_Pos0_2109_GFP\n",
      "ID GV0817_Pos0_2855_GFP\n",
      "ID GV0817_Pos0_2188_GFP\n",
      "ID GV0817_Pos0_2181_GFP\n",
      "ID GV0813_Pos1_886_GFP\n",
      "Loading GV0813/Pos1/\n",
      "Btrack version no.: 0.4.0\n"
     ]
    },
    {
     "name": "stderr",
     "output_type": "stream",
     "text": [
      "[INFO][2021/03/26 02:45:19 PM] Loading objects/obj_type_1 (149696, 5) (120384 filtered: area>=100)\n",
      "[INFO][2021/03/26 02:45:20 PM] Closing HDF file: /home/nathan/data/kraken/h2b/giulia/GV0813/Pos1/Pos1_aligned/HDF/segmented.hdf5\n",
      "[INFO][2021/03/26 02:45:20 PM] Opening HDF file: /home/nathan/data/kraken/h2b/giulia/GV0813/Pos1/Pos1_aligned/HDF/segmented.hdf5...\n",
      "[INFO][2021/03/26 02:45:20 PM] Loading tracks/obj_type_2\n",
      "[INFO][2021/03/26 02:45:20 PM] Loading objects/obj_type_2 (30851, 5) (22174 filtered: area>=100)\n",
      "[INFO][2021/03/26 02:45:20 PM] Closing HDF file: /home/nathan/data/kraken/h2b/giulia/GV0813/Pos1/Pos1_aligned/HDF/segmented.hdf5\n",
      " 18%|█▊        | 69/385 [00:23<11:08,  2.12s/it][INFO][2021/03/26 02:45:20 PM] Opening HDF file: /home/nathan/data/kraken/h2b/giulia/GV0819/Pos3/Pos3_aligned/HDF/segmented.hdf5...\n",
      "[INFO][2021/03/26 02:45:20 PM] Loading tracks/obj_type_1\n"
     ]
    },
    {
     "name": "stdout",
     "output_type": "stream",
     "text": [
      "Track information loaded and ordered according to cell type (WT IDs >0> Scr IDs\n",
      "Loaded GV0813/Pos1/\n",
      "ID GV0819_Pos3_586_GFP\n",
      "Loading GV0819/Pos3/\n",
      "Btrack version no.: 0.4.0\n"
     ]
    },
    {
     "name": "stderr",
     "output_type": "stream",
     "text": [
      "[INFO][2021/03/26 02:45:23 PM] Loading objects/obj_type_1 (444670, 5) (426511 filtered: area>=100)\n",
      "[INFO][2021/03/26 02:45:27 PM] Closing HDF file: /home/nathan/data/kraken/h2b/giulia/GV0819/Pos3/Pos3_aligned/HDF/segmented.hdf5\n",
      "[INFO][2021/03/26 02:45:27 PM] Opening HDF file: /home/nathan/data/kraken/h2b/giulia/GV0819/Pos3/Pos3_aligned/HDF/segmented.hdf5...\n",
      "[INFO][2021/03/26 02:45:27 PM] Loading tracks/obj_type_2\n",
      "[INFO][2021/03/26 02:45:28 PM] Loading objects/obj_type_2 (119062, 5) (102355 filtered: area>=100)\n",
      "[INFO][2021/03/26 02:45:28 PM] Closing HDF file: /home/nathan/data/kraken/h2b/giulia/GV0819/Pos3/Pos3_aligned/HDF/segmented.hdf5\n",
      " 18%|█▊        | 70/385 [00:31<20:16,  3.86s/it][INFO][2021/03/26 02:45:28 PM] Opening HDF file: /home/nathan/data/kraken/h2b/giulia/GV0819/Pos4/Pos4_aligned/HDF/segmented.hdf5...\n",
      "[INFO][2021/03/26 02:45:28 PM] Loading tracks/obj_type_1\n"
     ]
    },
    {
     "name": "stdout",
     "output_type": "stream",
     "text": [
      "Track information loaded and ordered according to cell type (WT IDs >0> Scr IDs\n",
      "Loaded GV0819/Pos3/\n",
      "ID GV0819_Pos3_741_GFP\n",
      "ID GV0819_Pos4_1586_GFP\n",
      "Loading GV0819/Pos4/\n",
      "Btrack version no.: 0.4.0\n"
     ]
    },
    {
     "name": "stderr",
     "output_type": "stream",
     "text": [
      "[INFO][2021/03/26 02:45:31 PM] Loading objects/obj_type_1 (393596, 5) (379449 filtered: area>=100)\n",
      "[INFO][2021/03/26 02:45:34 PM] Closing HDF file: /home/nathan/data/kraken/h2b/giulia/GV0819/Pos4/Pos4_aligned/HDF/segmented.hdf5\n",
      "[INFO][2021/03/26 02:45:34 PM] Opening HDF file: /home/nathan/data/kraken/h2b/giulia/GV0819/Pos4/Pos4_aligned/HDF/segmented.hdf5...\n",
      "[INFO][2021/03/26 02:45:34 PM] Loading tracks/obj_type_2\n",
      "[INFO][2021/03/26 02:45:35 PM] Loading objects/obj_type_2 (112602, 5) (100064 filtered: area>=100)\n",
      "[INFO][2021/03/26 02:45:36 PM] Closing HDF file: /home/nathan/data/kraken/h2b/giulia/GV0819/Pos4/Pos4_aligned/HDF/segmented.hdf5\n",
      " 19%|█▊        | 72/385 [00:39<20:23,  3.91s/it][INFO][2021/03/26 02:45:36 PM] Opening HDF file: /home/nathan/data/kraken/h2b/giulia/GV0800/Pos6/Pos6_aligned/HDF/segmented.hdf5...\n",
      "[INFO][2021/03/26 02:45:36 PM] Loading tracks/obj_type_1\n"
     ]
    },
    {
     "name": "stdout",
     "output_type": "stream",
     "text": [
      "Track information loaded and ordered according to cell type (WT IDs >0> Scr IDs\n",
      "Loaded GV0819/Pos4/\n",
      "ID GV0819_Pos4_2425_GFP\n",
      "ID GV0819_Pos4_2609_GFP\n",
      "ID GV0800_Pos6_361_GFP\n",
      "Loading GV0800/Pos6/\n",
      "Btrack version no.: 0.4.0\n"
     ]
    },
    {
     "name": "stderr",
     "output_type": "stream",
     "text": [
      "[INFO][2021/03/26 02:45:37 PM] Loading objects/obj_type_1 (52406, 5) (44528 filtered: area>=100)\n",
      "[INFO][2021/03/26 02:45:37 PM] Closing HDF file: /home/nathan/data/kraken/h2b/giulia/GV0800/Pos6/Pos6_aligned/HDF/segmented.hdf5\n",
      "[INFO][2021/03/26 02:45:37 PM] Opening HDF file: /home/nathan/data/kraken/h2b/giulia/GV0800/Pos6/Pos6_aligned/HDF/segmented.hdf5...\n",
      "[INFO][2021/03/26 02:45:37 PM] Loading tracks/obj_type_2\n",
      "[INFO][2021/03/26 02:45:38 PM] Loading objects/obj_type_2 (113641, 5) (87932 filtered: area>=100)\n",
      "[INFO][2021/03/26 02:45:38 PM] Closing HDF file: /home/nathan/data/kraken/h2b/giulia/GV0800/Pos6/Pos6_aligned/HDF/segmented.hdf5\n",
      " 19%|█▉        | 75/385 [00:41<15:11,  2.94s/it][INFO][2021/03/26 02:45:38 PM] Opening HDF file: /home/nathan/data/kraken/h2b/giulia/GV0797/Pos8/Pos8_aligned/HDF/segmented.hdf5...\n",
      "[INFO][2021/03/26 02:45:38 PM] Loading tracks/obj_type_1\n"
     ]
    },
    {
     "name": "stdout",
     "output_type": "stream",
     "text": [
      "Track information loaded and ordered according to cell type (WT IDs >0> Scr IDs\n",
      "Loaded GV0800/Pos6/\n",
      "ID GV0800_Pos6_302_GFP\n",
      "ID GV0797_Pos8_1104_GFP\n",
      "Loading GV0797/Pos8/\n",
      "Btrack version no.: 0.4.0\n"
     ]
    },
    {
     "name": "stderr",
     "output_type": "stream",
     "text": [
      "[INFO][2021/03/26 02:45:40 PM] Loading objects/obj_type_1 (294496, 5) (285144 filtered: area>=100)\n",
      "[INFO][2021/03/26 02:45:43 PM] Closing HDF file: /home/nathan/data/kraken/h2b/giulia/GV0797/Pos8/Pos8_aligned/HDF/segmented.hdf5\n",
      "[INFO][2021/03/26 02:45:43 PM] Opening HDF file: /home/nathan/data/kraken/h2b/giulia/GV0797/Pos8/Pos8_aligned/HDF/segmented.hdf5...\n",
      "[INFO][2021/03/26 02:45:43 PM] Loading tracks/obj_type_2\n",
      "[INFO][2021/03/26 02:45:43 PM] Loading objects/obj_type_2 (6854, 5) (5414 filtered: area>=100)\n",
      "[INFO][2021/03/26 02:45:43 PM] Closing HDF file: /home/nathan/data/kraken/h2b/giulia/GV0797/Pos8/Pos8_aligned/HDF/segmented.hdf5\n",
      " 20%|██        | 77/385 [00:45<14:03,  2.74s/it][INFO][2021/03/26 02:45:43 PM] Opening HDF file: /home/nathan/data/kraken/h2b/giulia/GV0806/Pos3/Pos3_aligned/HDF/segmented.hdf5...\n",
      "[INFO][2021/03/26 02:45:43 PM] Loading tracks/obj_type_1\n"
     ]
    },
    {
     "name": "stdout",
     "output_type": "stream",
     "text": [
      "Track information loaded and ordered according to cell type (WT IDs >0> Scr IDs\n",
      "Loaded GV0797/Pos8/\n",
      "ID GV0806_Pos3_571_GFP\n",
      "Loading GV0806/Pos3/\n",
      "Btrack version no.: 0.4.0\n"
     ]
    },
    {
     "name": "stderr",
     "output_type": "stream",
     "text": [
      "[INFO][2021/03/26 02:45:47 PM] Loading objects/obj_type_1 (704893, 5) (675206 filtered: area>=100)\n",
      "[INFO][2021/03/26 02:45:54 PM] Closing HDF file: /home/nathan/data/kraken/h2b/giulia/GV0806/Pos3/Pos3_aligned/HDF/segmented.hdf5\n",
      "[INFO][2021/03/26 02:45:54 PM] Opening HDF file: /home/nathan/data/kraken/h2b/giulia/GV0806/Pos3/Pos3_aligned/HDF/segmented.hdf5...\n",
      "[INFO][2021/03/26 02:45:54 PM] Loading tracks/obj_type_2\n",
      "[INFO][2021/03/26 02:45:54 PM] Loading objects/obj_type_2 (18126, 5) (15960 filtered: area>=100)\n",
      "[INFO][2021/03/26 02:45:54 PM] Closing HDF file: /home/nathan/data/kraken/h2b/giulia/GV0806/Pos3/Pos3_aligned/HDF/segmented.hdf5\n",
      " 20%|██        | 78/385 [00:56<26:56,  5.27s/it][INFO][2021/03/26 02:45:54 PM] Opening HDF file: /home/nathan/data/kraken/h2b/giulia/GV0796/Pos7/Pos7_aligned/HDF/segmented.hdf5...\n",
      "[INFO][2021/03/26 02:45:54 PM] Loading tracks/obj_type_1\n"
     ]
    },
    {
     "name": "stdout",
     "output_type": "stream",
     "text": [
      "Track information loaded and ordered according to cell type (WT IDs >0> Scr IDs\n",
      "Loaded GV0806/Pos3/\n",
      "ID GV0796_Pos7_44_GFP\n",
      "Loading GV0796/Pos7/\n",
      "Btrack version no.: 0.4.0\n"
     ]
    },
    {
     "name": "stderr",
     "output_type": "stream",
     "text": [
      "[INFO][2021/03/26 02:45:57 PM] Loading objects/obj_type_1 (510473, 5) (495699 filtered: area>=100)\n",
      "[INFO][2021/03/26 02:46:02 PM] Closing HDF file: /home/nathan/data/kraken/h2b/giulia/GV0796/Pos7/Pos7_aligned/HDF/segmented.hdf5\n",
      "[INFO][2021/03/26 02:46:02 PM] Opening HDF file: /home/nathan/data/kraken/h2b/giulia/GV0796/Pos7/Pos7_aligned/HDF/segmented.hdf5...\n",
      "[INFO][2021/03/26 02:46:02 PM] Loading tracks/obj_type_2\n",
      "[INFO][2021/03/26 02:46:03 PM] Loading objects/obj_type_2 (76238, 5) (63068 filtered: area>=100)\n",
      "[INFO][2021/03/26 02:46:03 PM] Closing HDF file: /home/nathan/data/kraken/h2b/giulia/GV0796/Pos7/Pos7_aligned/HDF/segmented.hdf5\n",
      " 21%|██        | 79/385 [01:06<32:42,  6.41s/it][INFO][2021/03/26 02:46:03 PM] Opening HDF file: /home/nathan/data/kraken/h2b/giulia/GV0796/Pos19/Pos19_aligned/HDF/segmented.hdf5...\n",
      "[INFO][2021/03/26 02:46:03 PM] Loading tracks/obj_type_1\n"
     ]
    },
    {
     "name": "stdout",
     "output_type": "stream",
     "text": [
      "Track information loaded and ordered according to cell type (WT IDs >0> Scr IDs\n",
      "Loaded GV0796/Pos7/\n",
      "ID GV0796_Pos7_541_GFP\n",
      "ID GV0796_Pos7_803_GFP\n",
      "ID GV0796_Pos19_77_GFP\n",
      "Loading GV0796/Pos19/\n",
      "Btrack version no.: 0.4.0\n"
     ]
    },
    {
     "name": "stderr",
     "output_type": "stream",
     "text": [
      "[INFO][2021/03/26 02:46:06 PM] Loading objects/obj_type_1 (506574, 5) (490755 filtered: area>=100)\n",
      "[INFO][2021/03/26 02:46:11 PM] Closing HDF file: /home/nathan/data/kraken/h2b/giulia/GV0796/Pos19/Pos19_aligned/HDF/segmented.hdf5\n",
      "[INFO][2021/03/26 02:46:11 PM] Opening HDF file: /home/nathan/data/kraken/h2b/giulia/GV0796/Pos19/Pos19_aligned/HDF/segmented.hdf5...\n",
      "[INFO][2021/03/26 02:46:11 PM] Loading tracks/obj_type_2\n",
      "[INFO][2021/03/26 02:46:11 PM] Loading objects/obj_type_2 (13897, 5) (11779 filtered: area>=100)\n",
      "[INFO][2021/03/26 02:46:11 PM] Closing HDF file: /home/nathan/data/kraken/h2b/giulia/GV0796/Pos19/Pos19_aligned/HDF/segmented.hdf5\n",
      " 21%|██▏       | 82/385 [01:14<26:52,  5.32s/it][INFO][2021/03/26 02:46:12 PM] Opening HDF file: /home/nathan/data/kraken/h2b/giulia/GV0797/Pos7/Pos7_aligned/HDF/segmented.hdf5...\n",
      "[INFO][2021/03/26 02:46:12 PM] Loading tracks/obj_type_1\n"
     ]
    },
    {
     "name": "stdout",
     "output_type": "stream",
     "text": [
      "Track information loaded and ordered according to cell type (WT IDs >0> Scr IDs\n",
      "Loaded GV0796/Pos19/\n",
      "ID GV0796_Pos19_441_GFP\n",
      "ID GV0796_Pos19_431_GFP\n",
      "ID GV0796_Pos19_2161_GFP\n",
      "ID GV0796_Pos19_1960_GFP\n",
      "ID GV0797_Pos7_724_GFP\n",
      "Loading GV0797/Pos7/\n",
      "Btrack version no.: 0.4.0\n"
     ]
    },
    {
     "name": "stderr",
     "output_type": "stream",
     "text": [
      "[INFO][2021/03/26 02:46:13 PM] Loading objects/obj_type_1 (207794, 5) (196573 filtered: area>=100)\n",
      "[INFO][2021/03/26 02:46:14 PM] Closing HDF file: /home/nathan/data/kraken/h2b/giulia/GV0797/Pos7/Pos7_aligned/HDF/segmented.hdf5\n",
      "[INFO][2021/03/26 02:46:14 PM] Opening HDF file: /home/nathan/data/kraken/h2b/giulia/GV0797/Pos7/Pos7_aligned/HDF/segmented.hdf5...\n",
      "[INFO][2021/03/26 02:46:14 PM] Loading tracks/obj_type_2\n",
      "[INFO][2021/03/26 02:46:14 PM] Loading objects/obj_type_2 (22939, 5) (18826 filtered: area>=100)\n",
      "[INFO][2021/03/26 02:46:15 PM] Closing HDF file: /home/nathan/data/kraken/h2b/giulia/GV0797/Pos7/Pos7_aligned/HDF/segmented.hdf5\n",
      " 23%|██▎       | 87/385 [01:17<19:26,  3.91s/it][INFO][2021/03/26 02:46:15 PM] Opening HDF file: /home/nathan/data/kraken/h2b/giulia/GV0796/Pos21/Pos21_aligned/HDF/segmented.hdf5...\n",
      "[INFO][2021/03/26 02:46:15 PM] Loading tracks/obj_type_1\n"
     ]
    },
    {
     "name": "stdout",
     "output_type": "stream",
     "text": [
      "Track information loaded and ordered according to cell type (WT IDs >0> Scr IDs\n",
      "Loaded GV0797/Pos7/\n",
      "ID GV0797_Pos7_192_GFP\n",
      "ID GV0797_Pos7_230_GFP\n",
      "ID GV0797_Pos7_1103_GFP\n",
      "ID GV0797_Pos7_1029_GFP\n",
      "ID GV0796_Pos21_2923_GFP\n",
      "Loading GV0796/Pos21/\n",
      "Btrack version no.: 0.4.0\n"
     ]
    },
    {
     "name": "stderr",
     "output_type": "stream",
     "text": [
      "[INFO][2021/03/26 02:46:17 PM] Loading objects/obj_type_1 (307793, 5) (293005 filtered: area>=100)\n",
      "[INFO][2021/03/26 02:46:19 PM] Closing HDF file: /home/nathan/data/kraken/h2b/giulia/GV0796/Pos21/Pos21_aligned/HDF/segmented.hdf5\n",
      "[INFO][2021/03/26 02:46:19 PM] Opening HDF file: /home/nathan/data/kraken/h2b/giulia/GV0796/Pos21/Pos21_aligned/HDF/segmented.hdf5...\n",
      "[INFO][2021/03/26 02:46:19 PM] Loading tracks/obj_type_2\n",
      "[INFO][2021/03/26 02:46:19 PM] Loading objects/obj_type_2 (46439, 5) (38835 filtered: area>=100)\n",
      "[INFO][2021/03/26 02:46:20 PM] Closing HDF file: /home/nathan/data/kraken/h2b/giulia/GV0796/Pos21/Pos21_aligned/HDF/segmented.hdf5\n",
      " 24%|██▍       | 92/385 [01:23<14:58,  3.07s/it][INFO][2021/03/26 02:46:20 PM] Opening HDF file: /home/nathan/data/kraken/h2b/giulia/GV0816/Pos23/Pos23_aligned/HDF/segmented.hdf5...\n",
      "[INFO][2021/03/26 02:46:20 PM] Loading tracks/obj_type_1\n"
     ]
    },
    {
     "name": "stdout",
     "output_type": "stream",
     "text": [
      "Track information loaded and ordered according to cell type (WT IDs >0> Scr IDs\n",
      "Loaded GV0796/Pos21/\n",
      "ID GV0796_Pos21_788_GFP\n",
      "ID GV0816_Pos23_5_GFP\n",
      "Loading GV0816/Pos23/\n",
      "Btrack version no.: 0.4.0\n"
     ]
    },
    {
     "name": "stderr",
     "output_type": "stream",
     "text": [
      "[INFO][2021/03/26 02:46:21 PM] Loading objects/obj_type_1 (108996, 5) (100437 filtered: area>=100)\n",
      "[INFO][2021/03/26 02:46:22 PM] Closing HDF file: /home/nathan/data/kraken/h2b/giulia/GV0816/Pos23/Pos23_aligned/HDF/segmented.hdf5\n",
      "[INFO][2021/03/26 02:46:22 PM] Opening HDF file: /home/nathan/data/kraken/h2b/giulia/GV0816/Pos23/Pos23_aligned/HDF/segmented.hdf5...\n",
      "[INFO][2021/03/26 02:46:22 PM] Loading tracks/obj_type_2\n",
      "[INFO][2021/03/26 02:46:22 PM] Loading objects/obj_type_2 (36035, 5) (29738 filtered: area>=100)\n",
      "[INFO][2021/03/26 02:46:22 PM] Closing HDF file: /home/nathan/data/kraken/h2b/giulia/GV0816/Pos23/Pos23_aligned/HDF/segmented.hdf5\n",
      " 24%|██▍       | 94/385 [01:24<11:46,  2.43s/it][INFO][2021/03/26 02:46:22 PM] Opening HDF file: /home/nathan/data/kraken/h2b/giulia/GV0800/Pos17/Pos17_aligned/HDF/segmented.hdf5...\n",
      "[INFO][2021/03/26 02:46:22 PM] Loading tracks/obj_type_1\n"
     ]
    },
    {
     "name": "stdout",
     "output_type": "stream",
     "text": [
      "Track information loaded and ordered according to cell type (WT IDs >0> Scr IDs\n",
      "Loaded GV0816/Pos23/\n",
      "ID GV0816_Pos23_1_GFP\n",
      "ID GV0816_Pos23_755_GFP\n",
      "ID GV0816_Pos23_757_GFP\n",
      "ID GV0816_Pos23_773_GFP\n",
      "ID GV0816_Pos23_772_GFP\n",
      "ID GV0816_Pos23_696_GFP\n",
      "ID GV0800_Pos17_7_GFP\n",
      "Loading GV0800/Pos17/\n",
      "Btrack version no.: 0.4.0\n"
     ]
    },
    {
     "name": "stderr",
     "output_type": "stream",
     "text": [
      "[INFO][2021/03/26 02:46:23 PM] Loading objects/obj_type_1 (102414, 5) (89276 filtered: area>=100)\n",
      "[INFO][2021/03/26 02:46:23 PM] Closing HDF file: /home/nathan/data/kraken/h2b/giulia/GV0800/Pos17/Pos17_aligned/HDF/segmented.hdf5\n",
      "[INFO][2021/03/26 02:46:23 PM] Opening HDF file: /home/nathan/data/kraken/h2b/giulia/GV0800/Pos17/Pos17_aligned/HDF/segmented.hdf5...\n",
      "[INFO][2021/03/26 02:46:23 PM] Loading tracks/obj_type_2\n",
      "[INFO][2021/03/26 02:46:24 PM] Loading objects/obj_type_2 (83250, 5) (67284 filtered: area>=100)\n",
      "[INFO][2021/03/26 02:46:24 PM] Closing HDF file: /home/nathan/data/kraken/h2b/giulia/GV0800/Pos17/Pos17_aligned/HDF/segmented.hdf5\n",
      " 26%|██▌       | 101/385 [01:27<08:32,  1.80s/it][INFO][2021/03/26 02:46:25 PM] Opening HDF file: /home/nathan/data/kraken/h2b/giulia/GV0806/Pos5/Pos5_aligned/HDF/segmented.hdf5...\n",
      "[INFO][2021/03/26 02:46:25 PM] Loading tracks/obj_type_1\n"
     ]
    },
    {
     "name": "stdout",
     "output_type": "stream",
     "text": [
      "Track information loaded and ordered according to cell type (WT IDs >0> Scr IDs\n",
      "Loaded GV0800/Pos17/\n",
      "ID GV0800_Pos17_1010_GFP\n",
      "ID GV0800_Pos17_1009_GFP\n",
      "ID GV0800_Pos17_868_GFP\n",
      "ID GV0800_Pos17_869_GFP\n",
      "ID GV0800_Pos17_1001_GFP\n",
      "ID GV0800_Pos17_1002_GFP\n",
      "ID GV0806_Pos5_124_GFP\n",
      "Loading GV0806/Pos5/\n",
      "Btrack version no.: 0.4.0\n"
     ]
    },
    {
     "name": "stderr",
     "output_type": "stream",
     "text": [
      "[INFO][2021/03/26 02:46:25 PM] Loading objects/obj_type_1 (76725, 5) (65455 filtered: area>=100)\n",
      "[INFO][2021/03/26 02:46:26 PM] Closing HDF file: /home/nathan/data/kraken/h2b/giulia/GV0806/Pos5/Pos5_aligned/HDF/segmented.hdf5\n",
      "[INFO][2021/03/26 02:46:26 PM] Opening HDF file: /home/nathan/data/kraken/h2b/giulia/GV0806/Pos5/Pos5_aligned/HDF/segmented.hdf5...\n",
      "[INFO][2021/03/26 02:46:26 PM] Loading tracks/obj_type_2\n",
      "[INFO][2021/03/26 02:46:26 PM] Loading objects/obj_type_2 (76899, 5) (56104 filtered: area>=100)\n",
      "[INFO][2021/03/26 02:46:26 PM] Closing HDF file: /home/nathan/data/kraken/h2b/giulia/GV0806/Pos5/Pos5_aligned/HDF/segmented.hdf5\n",
      " 28%|██▊       | 108/385 [01:29<06:12,  1.34s/it][INFO][2021/03/26 02:46:26 PM] Opening HDF file: /home/nathan/data/kraken/h2b/giulia/GV0800/Pos4/Pos4_aligned/HDF/segmented.hdf5...\n",
      "[INFO][2021/03/26 02:46:26 PM] Loading tracks/obj_type_1\n"
     ]
    },
    {
     "name": "stdout",
     "output_type": "stream",
     "text": [
      "Track information loaded and ordered according to cell type (WT IDs >0> Scr IDs\n",
      "Loaded GV0806/Pos5/\n",
      "ID GV0800_Pos4_480_GFP\n",
      "Loading GV0800/Pos4/\n",
      "Btrack version no.: 0.4.0\n"
     ]
    },
    {
     "name": "stderr",
     "output_type": "stream",
     "text": [
      "[INFO][2021/03/26 02:46:28 PM] Loading objects/obj_type_1 (293631, 5) (274724 filtered: area>=100)\n",
      "[INFO][2021/03/26 02:46:31 PM] Closing HDF file: /home/nathan/data/kraken/h2b/giulia/GV0800/Pos4/Pos4_aligned/HDF/segmented.hdf5\n",
      "[INFO][2021/03/26 02:46:31 PM] Opening HDF file: /home/nathan/data/kraken/h2b/giulia/GV0800/Pos4/Pos4_aligned/HDF/segmented.hdf5...\n",
      "[INFO][2021/03/26 02:46:31 PM] Loading tracks/obj_type_2\n",
      "[INFO][2021/03/26 02:46:31 PM] Loading objects/obj_type_2 (60789, 5) (49434 filtered: area>=100)\n",
      "[INFO][2021/03/26 02:46:31 PM] Closing HDF file: /home/nathan/data/kraken/h2b/giulia/GV0800/Pos4/Pos4_aligned/HDF/segmented.hdf5\n",
      " 28%|██▊       | 109/385 [01:34<11:21,  2.47s/it][INFO][2021/03/26 02:46:31 PM] Opening HDF file: /home/nathan/data/kraken/h2b/giulia/GV0820/Pos5/Pos5_aligned/HDF/segmented.hdf5...\n",
      "[INFO][2021/03/26 02:46:31 PM] Loading tracks/obj_type_1\n"
     ]
    },
    {
     "name": "stdout",
     "output_type": "stream",
     "text": [
      "Track information loaded and ordered according to cell type (WT IDs >0> Scr IDs\n",
      "Loaded GV0800/Pos4/\n",
      "ID GV0820_Pos5_47_GFP\n",
      "Loading GV0820/Pos5/\n",
      "Btrack version no.: 0.4.0\n"
     ]
    },
    {
     "name": "stderr",
     "output_type": "stream",
     "text": [
      "[INFO][2021/03/26 02:46:32 PM] Loading objects/obj_type_1 (168718, 5) (157112 filtered: area>=100)\n",
      "[INFO][2021/03/26 02:46:34 PM] Closing HDF file: /home/nathan/data/kraken/h2b/giulia/GV0820/Pos5/Pos5_aligned/HDF/segmented.hdf5\n",
      "[INFO][2021/03/26 02:46:34 PM] Opening HDF file: /home/nathan/data/kraken/h2b/giulia/GV0820/Pos5/Pos5_aligned/HDF/segmented.hdf5...\n",
      "[INFO][2021/03/26 02:46:34 PM] Loading tracks/obj_type_2\n",
      "[INFO][2021/03/26 02:46:34 PM] Loading objects/obj_type_2 (75424, 5) (61898 filtered: area>=100)\n",
      "[INFO][2021/03/26 02:46:35 PM] Closing HDF file: /home/nathan/data/kraken/h2b/giulia/GV0820/Pos5/Pos5_aligned/HDF/segmented.hdf5\n",
      " 29%|██▊       | 110/385 [01:37<12:25,  2.71s/it][INFO][2021/03/26 02:46:35 PM] Opening HDF file: /home/nathan/data/kraken/h2b/giulia/GV0813/Pos0/Pos0_aligned/HDF/segmented.hdf5...\n",
      "[INFO][2021/03/26 02:46:35 PM] Loading tracks/obj_type_1\n"
     ]
    },
    {
     "name": "stdout",
     "output_type": "stream",
     "text": [
      "Track information loaded and ordered according to cell type (WT IDs >0> Scr IDs\n",
      "Loaded GV0820/Pos5/\n",
      "ID GV0820_Pos5_48_GFP\n",
      "ID GV0820_Pos5_417_GFP\n",
      "ID GV0820_Pos5_1837_GFP\n",
      "ID GV0813_Pos0_137_GFP\n",
      "Loading GV0813/Pos0/\n",
      "Btrack version no.: 0.4.0\n"
     ]
    },
    {
     "name": "stderr",
     "output_type": "stream",
     "text": [
      "[INFO][2021/03/26 02:46:35 PM] Loading objects/obj_type_1 (85389, 5) (80063 filtered: area>=100)\n",
      "[INFO][2021/03/26 02:46:36 PM] Closing HDF file: /home/nathan/data/kraken/h2b/giulia/GV0813/Pos0/Pos0_aligned/HDF/segmented.hdf5\n",
      "[INFO][2021/03/26 02:46:36 PM] Opening HDF file: /home/nathan/data/kraken/h2b/giulia/GV0813/Pos0/Pos0_aligned/HDF/segmented.hdf5...\n",
      "[INFO][2021/03/26 02:46:36 PM] Loading tracks/obj_type_2\n",
      "[INFO][2021/03/26 02:46:36 PM] Loading objects/obj_type_2 (20301, 5) (17076 filtered: area>=100)\n",
      "[INFO][2021/03/26 02:46:36 PM] Closing HDF file: /home/nathan/data/kraken/h2b/giulia/GV0813/Pos0/Pos0_aligned/HDF/segmented.hdf5\n",
      " 30%|██▉       | 114/385 [01:39<09:04,  2.01s/it][INFO][2021/03/26 02:46:36 PM] Opening HDF file: /home/nathan/data/kraken/h2b/giulia/GV0813/Pos4/Pos4_aligned/HDF/segmented.hdf5...\n",
      "[INFO][2021/03/26 02:46:36 PM] Loading tracks/obj_type_1\n"
     ]
    },
    {
     "name": "stdout",
     "output_type": "stream",
     "text": [
      "Track information loaded and ordered according to cell type (WT IDs >0> Scr IDs\n",
      "Loaded GV0813/Pos0/\n",
      "ID GV0813_Pos0_356_GFP\n",
      "ID GV0813_Pos0_260_GFP\n",
      "ID GV0813_Pos0_111_GFP\n",
      "ID GV0813_Pos0_223_GFP\n",
      "ID GV0813_Pos0_636_GFP\n",
      "ID GV0813_Pos4_404_GFP\n",
      "Loading GV0813/Pos4/\n",
      "Btrack version no.: 0.4.0\n"
     ]
    },
    {
     "name": "stderr",
     "output_type": "stream",
     "text": [
      "[INFO][2021/03/26 02:46:37 PM] Loading objects/obj_type_1 (150938, 5) (131031 filtered: area>=100)\n",
      "[INFO][2021/03/26 02:46:38 PM] Closing HDF file: /home/nathan/data/kraken/h2b/giulia/GV0813/Pos4/Pos4_aligned/HDF/segmented.hdf5\n",
      "[INFO][2021/03/26 02:46:38 PM] Opening HDF file: /home/nathan/data/kraken/h2b/giulia/GV0813/Pos4/Pos4_aligned/HDF/segmented.hdf5...\n",
      "[INFO][2021/03/26 02:46:38 PM] Loading tracks/obj_type_2\n",
      "[INFO][2021/03/26 02:46:38 PM] Loading objects/obj_type_2 (39270, 5) (29540 filtered: area>=100)\n",
      "[INFO][2021/03/26 02:46:39 PM] Closing HDF file: /home/nathan/data/kraken/h2b/giulia/GV0813/Pos4/Pos4_aligned/HDF/segmented.hdf5\n",
      " 31%|███       | 120/385 [01:41<06:43,  1.52s/it][INFO][2021/03/26 02:46:39 PM] Opening HDF file: /home/nathan/data/kraken/h2b/giulia/GV0819/Pos2/Pos2_aligned/HDF/segmented.hdf5...\n",
      "[INFO][2021/03/26 02:46:39 PM] Loading tracks/obj_type_1\n"
     ]
    },
    {
     "name": "stdout",
     "output_type": "stream",
     "text": [
      "Track information loaded and ordered according to cell type (WT IDs >0> Scr IDs\n",
      "Loaded GV0813/Pos4/\n",
      "ID GV0813_Pos4_596_GFP\n",
      "ID GV0813_Pos4_403_GFP\n",
      "ID GV0813_Pos4_7_GFP\n",
      "ID GV0813_Pos4_1000_GFP\n",
      "ID GV0819_Pos2_119_GFP\n",
      "Loading GV0819/Pos2/\n",
      "Btrack version no.: 0.4.0\n"
     ]
    },
    {
     "name": "stderr",
     "output_type": "stream",
     "text": [
      "[INFO][2021/03/26 02:46:40 PM] Loading objects/obj_type_1 (267623, 5) (252570 filtered: area>=100)\n",
      "[INFO][2021/03/26 02:46:42 PM] Closing HDF file: /home/nathan/data/kraken/h2b/giulia/GV0819/Pos2/Pos2_aligned/HDF/segmented.hdf5\n",
      "[INFO][2021/03/26 02:46:42 PM] Opening HDF file: /home/nathan/data/kraken/h2b/giulia/GV0819/Pos2/Pos2_aligned/HDF/segmented.hdf5...\n",
      "[INFO][2021/03/26 02:46:42 PM] Loading tracks/obj_type_2\n",
      "[INFO][2021/03/26 02:46:43 PM] Loading objects/obj_type_2 (113484, 5) (97628 filtered: area>=100)\n",
      "[INFO][2021/03/26 02:46:44 PM] Closing HDF file: /home/nathan/data/kraken/h2b/giulia/GV0819/Pos2/Pos2_aligned/HDF/segmented.hdf5\n",
      " 32%|███▏      | 125/385 [01:46<06:02,  1.39s/it][INFO][2021/03/26 02:46:44 PM] Opening HDF file: /home/nathan/data/kraken/h2b/giulia/GV0820/Pos4/Pos4_aligned/HDF/segmented.hdf5...\n",
      "[INFO][2021/03/26 02:46:44 PM] Loading tracks/obj_type_1\n"
     ]
    },
    {
     "name": "stdout",
     "output_type": "stream",
     "text": [
      "Track information loaded and ordered according to cell type (WT IDs >0> Scr IDs\n",
      "Loaded GV0819/Pos2/\n",
      "ID GV0819_Pos2_481_GFP\n",
      "ID GV0819_Pos2_513_GFP\n",
      "ID GV0819_Pos2_143_GFP\n",
      "ID GV0819_Pos2_1617_GFP\n",
      "ID GV0820_Pos4_684_GFP\n",
      "Loading GV0820/Pos4/\n",
      "Btrack version no.: 0.4.0\n"
     ]
    },
    {
     "name": "stderr",
     "output_type": "stream",
     "text": [
      "[INFO][2021/03/26 02:46:45 PM] Loading objects/obj_type_1 (189653, 5) (175798 filtered: area>=100)\n",
      "[INFO][2021/03/26 02:46:47 PM] Closing HDF file: /home/nathan/data/kraken/h2b/giulia/GV0820/Pos4/Pos4_aligned/HDF/segmented.hdf5\n",
      "[INFO][2021/03/26 02:46:47 PM] Opening HDF file: /home/nathan/data/kraken/h2b/giulia/GV0820/Pos4/Pos4_aligned/HDF/segmented.hdf5...\n",
      "[INFO][2021/03/26 02:46:47 PM] Loading tracks/obj_type_2\n",
      "[INFO][2021/03/26 02:46:47 PM] Loading objects/obj_type_2 (82474, 5) (72948 filtered: area>=100)\n",
      "[INFO][2021/03/26 02:46:48 PM] Closing HDF file: /home/nathan/data/kraken/h2b/giulia/GV0820/Pos4/Pos4_aligned/HDF/segmented.hdf5\n",
      " 34%|███▍      | 130/385 [01:50<05:05,  1.20s/it][INFO][2021/03/26 02:46:48 PM] Opening HDF file: /home/nathan/data/kraken/h2b/giulia/GV0800/Pos8/Pos8_aligned/HDF/segmented.hdf5...\n",
      "[INFO][2021/03/26 02:46:48 PM] Loading tracks/obj_type_1\n"
     ]
    },
    {
     "name": "stdout",
     "output_type": "stream",
     "text": [
      "Track information loaded and ordered according to cell type (WT IDs >0> Scr IDs\n",
      "Loaded GV0820/Pos4/\n",
      "ID GV0820_Pos4_1034_GFP\n",
      "ID GV0820_Pos4_1634_GFP\n",
      "ID GV0800_Pos8_263_GFP\n",
      "Loading GV0800/Pos8/\n",
      "Btrack version no.: 0.4.0\n"
     ]
    },
    {
     "name": "stderr",
     "output_type": "stream",
     "text": [
      "[INFO][2021/03/26 02:46:50 PM] Loading objects/obj_type_1 (412266, 5) (393638 filtered: area>=100)\n",
      "[INFO][2021/03/26 02:46:54 PM] Closing HDF file: /home/nathan/data/kraken/h2b/giulia/GV0800/Pos8/Pos8_aligned/HDF/segmented.hdf5\n",
      "[INFO][2021/03/26 02:46:54 PM] Opening HDF file: /home/nathan/data/kraken/h2b/giulia/GV0800/Pos8/Pos8_aligned/HDF/segmented.hdf5...\n",
      "[INFO][2021/03/26 02:46:54 PM] Loading tracks/obj_type_2\n",
      "[INFO][2021/03/26 02:46:54 PM] Loading objects/obj_type_2 (16111, 5) (12664 filtered: area>=100)\n",
      "[INFO][2021/03/26 02:46:54 PM] Closing HDF file: /home/nathan/data/kraken/h2b/giulia/GV0800/Pos8/Pos8_aligned/HDF/segmented.hdf5\n",
      " 35%|███▍      | 133/385 [01:56<06:10,  1.47s/it][INFO][2021/03/26 02:46:54 PM] Opening HDF file: /home/nathan/data/kraken/h2b/giulia/GV0813/Pos3/Pos3_aligned/HDF/segmented.hdf5...\n",
      "[INFO][2021/03/26 02:46:54 PM] Loading tracks/obj_type_1\n"
     ]
    },
    {
     "name": "stdout",
     "output_type": "stream",
     "text": [
      "Track information loaded and ordered according to cell type (WT IDs >0> Scr IDs\n",
      "Loaded GV0800/Pos8/\n",
      "ID GV0800_Pos8_49_GFP\n",
      "ID GV0813_Pos3_362_GFP\n",
      "Loading GV0813/Pos3/\n",
      "Btrack version no.: 0.4.0\n"
     ]
    },
    {
     "name": "stderr",
     "output_type": "stream",
     "text": [
      "[INFO][2021/03/26 02:46:55 PM] Loading objects/obj_type_1 (153611, 5) (136100 filtered: area>=100)\n",
      "[INFO][2021/03/26 02:46:56 PM] Closing HDF file: /home/nathan/data/kraken/h2b/giulia/GV0813/Pos3/Pos3_aligned/HDF/segmented.hdf5\n",
      "[INFO][2021/03/26 02:46:56 PM] Opening HDF file: /home/nathan/data/kraken/h2b/giulia/GV0813/Pos3/Pos3_aligned/HDF/segmented.hdf5...\n",
      "[INFO][2021/03/26 02:46:56 PM] Loading tracks/obj_type_2\n",
      "[INFO][2021/03/26 02:46:56 PM] Loading objects/obj_type_2 (28558, 5) (22223 filtered: area>=100)\n",
      "[INFO][2021/03/26 02:46:57 PM] Closing HDF file: /home/nathan/data/kraken/h2b/giulia/GV0813/Pos3/Pos3_aligned/HDF/segmented.hdf5\n",
      " 35%|███▌      | 135/385 [01:59<05:56,  1.42s/it][INFO][2021/03/26 02:46:57 PM] Opening HDF file: /home/nathan/data/kraken/h2b/giulia/GV0798/Pos23/Pos23_aligned/HDF/segmented.hdf5...\n",
      "[INFO][2021/03/26 02:46:57 PM] Loading tracks/obj_type_1\n"
     ]
    },
    {
     "name": "stdout",
     "output_type": "stream",
     "text": [
      "Track information loaded and ordered according to cell type (WT IDs >0> Scr IDs\n",
      "Loaded GV0813/Pos3/\n",
      "ID GV0813_Pos3_15_GFP\n",
      "ID GV0813_Pos3_33_GFP\n",
      "ID GV0813_Pos3_341_GFP\n",
      "ID GV0813_Pos3_513_GFP\n",
      "ID GV0813_Pos3_514_GFP\n",
      "ID GV0813_Pos3_599_GFP\n",
      "ID GV0813_Pos3_304_GFP\n",
      "ID GV0813_Pos3_535_GFP\n",
      "ID GV0813_Pos3_813_GFP\n",
      "ID GV0813_Pos3_1298_GFP\n",
      "ID GV0813_Pos3_538_GFP\n",
      "ID GV0813_Pos3_122_GFP\n",
      "ID GV0798_Pos23_72_GFP\n",
      "Loading GV0798/Pos23/\n",
      "Btrack version no.: 0.4.0\n"
     ]
    },
    {
     "name": "stderr",
     "output_type": "stream",
     "text": [
      "[INFO][2021/03/26 02:46:57 PM] Loading objects/obj_type_1 (122661, 5) (114306 filtered: area>=100)\n",
      "[INFO][2021/03/26 02:46:58 PM] Closing HDF file: /home/nathan/data/kraken/h2b/giulia/GV0798/Pos23/Pos23_aligned/HDF/segmented.hdf5\n",
      "[INFO][2021/03/26 02:46:58 PM] Opening HDF file: /home/nathan/data/kraken/h2b/giulia/GV0798/Pos23/Pos23_aligned/HDF/segmented.hdf5...\n",
      "[INFO][2021/03/26 02:46:58 PM] Loading tracks/obj_type_2\n",
      "[INFO][2021/03/26 02:46:59 PM] Loading objects/obj_type_2 (120909, 5) (98424 filtered: area>=100)\n",
      "[INFO][2021/03/26 02:47:00 PM] Closing HDF file: /home/nathan/data/kraken/h2b/giulia/GV0798/Pos23/Pos23_aligned/HDF/segmented.hdf5\n",
      " 38%|███▊      | 148/385 [02:02<04:13,  1.07s/it][INFO][2021/03/26 02:47:00 PM] Opening HDF file: /home/nathan/data/kraken/h2b/giulia/GV0807/Pos5/Pos5_aligned/HDF/segmented.hdf5...\n",
      "[INFO][2021/03/26 02:47:00 PM] Loading tracks/obj_type_1\n"
     ]
    },
    {
     "name": "stdout",
     "output_type": "stream",
     "text": [
      "Track information loaded and ordered according to cell type (WT IDs >0> Scr IDs\n",
      "Loaded GV0798/Pos23/\n",
      "ID GV0798_Pos23_261_GFP\n",
      "ID GV0798_Pos23_976_GFP\n",
      "ID GV0798_Pos23_536_GFP\n",
      "ID GV0807_Pos5_1493_GFP\n",
      "Loading GV0807/Pos5/\n",
      "Btrack version no.: 0.4.0\n"
     ]
    },
    {
     "name": "stderr",
     "output_type": "stream",
     "text": [
      "[INFO][2021/03/26 02:47:01 PM] Loading objects/obj_type_1 (129954, 5) (111411 filtered: area>=100)\n",
      "[INFO][2021/03/26 02:47:02 PM] Closing HDF file: /home/nathan/data/kraken/h2b/giulia/GV0807/Pos5/Pos5_aligned/HDF/segmented.hdf5\n",
      "[INFO][2021/03/26 02:47:02 PM] Opening HDF file: /home/nathan/data/kraken/h2b/giulia/GV0807/Pos5/Pos5_aligned/HDF/segmented.hdf5...\n",
      "[INFO][2021/03/26 02:47:02 PM] Loading tracks/obj_type_2\n",
      "[INFO][2021/03/26 02:47:02 PM] Loading objects/obj_type_2 (87213, 5) (74295 filtered: area>=100)\n",
      "[INFO][2021/03/26 02:47:03 PM] Closing HDF file: /home/nathan/data/kraken/h2b/giulia/GV0807/Pos5/Pos5_aligned/HDF/segmented.hdf5\n",
      " 39%|███▉      | 152/385 [02:05<03:46,  1.03it/s][INFO][2021/03/26 02:47:03 PM] Opening HDF file: /home/nathan/data/kraken/h2b/giulia/GV0820/Pos3/Pos3_aligned/HDF/segmented.hdf5...\n",
      "[INFO][2021/03/26 02:47:03 PM] Loading tracks/obj_type_1\n"
     ]
    },
    {
     "name": "stdout",
     "output_type": "stream",
     "text": [
      "Track information loaded and ordered according to cell type (WT IDs >0> Scr IDs\n",
      "Loaded GV0807/Pos5/\n",
      "ID GV0820_Pos3_1521_GFP\n",
      "Loading GV0820/Pos3/\n",
      "Btrack version no.: 0.4.0\n"
     ]
    },
    {
     "name": "stderr",
     "output_type": "stream",
     "text": [
      "[INFO][2021/03/26 02:47:04 PM] Loading objects/obj_type_1 (191590, 5) (179288 filtered: area>=100)\n",
      "[INFO][2021/03/26 02:47:05 PM] Closing HDF file: /home/nathan/data/kraken/h2b/giulia/GV0820/Pos3/Pos3_aligned/HDF/segmented.hdf5\n",
      "[INFO][2021/03/26 02:47:05 PM] Opening HDF file: /home/nathan/data/kraken/h2b/giulia/GV0820/Pos3/Pos3_aligned/HDF/segmented.hdf5...\n",
      "[INFO][2021/03/26 02:47:05 PM] Loading tracks/obj_type_2\n",
      "[INFO][2021/03/26 02:47:06 PM] Loading objects/obj_type_2 (65619, 5) (55005 filtered: area>=100)\n",
      "[INFO][2021/03/26 02:47:06 PM] Closing HDF file: /home/nathan/data/kraken/h2b/giulia/GV0820/Pos3/Pos3_aligned/HDF/segmented.hdf5\n",
      " 40%|███▉      | 153/385 [02:09<06:29,  1.68s/it][INFO][2021/03/26 02:47:06 PM] Opening HDF file: /home/nathan/data/kraken/h2b/giulia/GV0796/Pos20/Pos20_aligned/HDF/segmented.hdf5...\n",
      "[INFO][2021/03/26 02:47:06 PM] Loading tracks/obj_type_1\n"
     ]
    },
    {
     "name": "stdout",
     "output_type": "stream",
     "text": [
      "Track information loaded and ordered according to cell type (WT IDs >0> Scr IDs\n",
      "Loaded GV0820/Pos3/\n",
      "ID GV0820_Pos3_605_GFP\n",
      "ID GV0820_Pos3_1364_GFP\n",
      "ID GV0820_Pos3_2143_GFP\n",
      "ID GV0820_Pos3_2006_GFP\n",
      "ID GV0820_Pos3_2146_GFP\n",
      "ID GV0820_Pos3_1639_GFP\n",
      "ID GV0796_Pos20_28_GFP\n",
      "Loading GV0796/Pos20/\n",
      "Btrack version no.: 0.4.0\n"
     ]
    },
    {
     "name": "stderr",
     "output_type": "stream",
     "text": [
      "[INFO][2021/03/26 02:47:09 PM] Loading objects/obj_type_1 (469347, 5) (453478 filtered: area>=100)\n",
      "[INFO][2021/03/26 02:47:13 PM] Closing HDF file: /home/nathan/data/kraken/h2b/giulia/GV0796/Pos20/Pos20_aligned/HDF/segmented.hdf5\n",
      "[INFO][2021/03/26 02:47:13 PM] Opening HDF file: /home/nathan/data/kraken/h2b/giulia/GV0796/Pos20/Pos20_aligned/HDF/segmented.hdf5...\n",
      "[INFO][2021/03/26 02:47:13 PM] Loading tracks/obj_type_2\n",
      "[INFO][2021/03/26 02:47:13 PM] Loading objects/obj_type_2 (18513, 5) (14856 filtered: area>=100)\n",
      "[INFO][2021/03/26 02:47:13 PM] Closing HDF file: /home/nathan/data/kraken/h2b/giulia/GV0796/Pos20/Pos20_aligned/HDF/segmented.hdf5\n",
      " 42%|████▏     | 160/385 [02:16<05:35,  1.49s/it][INFO][2021/03/26 02:47:14 PM] Opening HDF file: /home/nathan/data/kraken/h2b/giulia/GV0805/Pos3/Pos3_aligned/HDF/segmented.hdf5...\n",
      "[INFO][2021/03/26 02:47:14 PM] Loading tracks/obj_type_1\n"
     ]
    },
    {
     "name": "stdout",
     "output_type": "stream",
     "text": [
      "Track information loaded and ordered according to cell type (WT IDs >0> Scr IDs\n",
      "Loaded GV0796/Pos20/\n",
      "ID GV0805_Pos3_682_GFP\n",
      "Loading GV0805/Pos3/\n",
      "Btrack version no.: 0.4.0\n"
     ]
    },
    {
     "name": "stderr",
     "output_type": "stream",
     "text": [
      "[INFO][2021/03/26 02:47:16 PM] Loading objects/obj_type_1 (518517, 5) (489660 filtered: area>=100)\n",
      "[INFO][2021/03/26 02:47:21 PM] Closing HDF file: /home/nathan/data/kraken/h2b/giulia/GV0805/Pos3/Pos3_aligned/HDF/segmented.hdf5\n",
      "[INFO][2021/03/26 02:47:21 PM] Opening HDF file: /home/nathan/data/kraken/h2b/giulia/GV0805/Pos3/Pos3_aligned/HDF/segmented.hdf5...\n",
      "[INFO][2021/03/26 02:47:21 PM] Loading tracks/obj_type_2\n",
      "[INFO][2021/03/26 02:47:21 PM] Loading objects/obj_type_2 (16677, 5) (12311 filtered: area>=100)\n",
      "[INFO][2021/03/26 02:47:21 PM] Closing HDF file: /home/nathan/data/kraken/h2b/giulia/GV0805/Pos3/Pos3_aligned/HDF/segmented.hdf5\n",
      " 42%|████▏     | 161/385 [02:24<12:50,  3.44s/it][INFO][2021/03/26 02:47:22 PM] Opening HDF file: /home/nathan/data/kraken/h2b/giulia/GV0806/Pos4/Pos4_aligned/HDF/segmented.hdf5...\n",
      "[INFO][2021/03/26 02:47:22 PM] Loading tracks/obj_type_1\n"
     ]
    },
    {
     "name": "stdout",
     "output_type": "stream",
     "text": [
      "Track information loaded and ordered according to cell type (WT IDs >0> Scr IDs\n",
      "Loaded GV0805/Pos3/\n",
      "ID GV0805_Pos3_50_GFP\n",
      "ID GV0805_Pos3_4_GFP\n",
      "ID GV0806_Pos4_165_GFP\n",
      "Loading GV0806/Pos4/\n",
      "Btrack version no.: 0.4.0\n"
     ]
    },
    {
     "name": "stderr",
     "output_type": "stream",
     "text": [
      "[INFO][2021/03/26 02:47:24 PM] Loading objects/obj_type_1 (509105, 5) (489414 filtered: area>=100)\n",
      "[INFO][2021/03/26 02:47:29 PM] Closing HDF file: /home/nathan/data/kraken/h2b/giulia/GV0806/Pos4/Pos4_aligned/HDF/segmented.hdf5\n",
      "[INFO][2021/03/26 02:47:29 PM] Opening HDF file: /home/nathan/data/kraken/h2b/giulia/GV0806/Pos4/Pos4_aligned/HDF/segmented.hdf5...\n",
      "[INFO][2021/03/26 02:47:29 PM] Loading tracks/obj_type_2\n",
      "[INFO][2021/03/26 02:47:29 PM] Loading objects/obj_type_2 (68404, 5) (59567 filtered: area>=100)\n",
      "[INFO][2021/03/26 02:47:30 PM] Closing HDF file: /home/nathan/data/kraken/h2b/giulia/GV0806/Pos4/Pos4_aligned/HDF/segmented.hdf5\n",
      " 43%|████▎     | 164/385 [02:33<12:12,  3.31s/it][INFO][2021/03/26 02:47:31 PM] Opening HDF file: /home/nathan/data/kraken/h2b/giulia/GV0796/Pos3/Pos3_aligned/HDF/segmented.hdf5...\n",
      "[INFO][2021/03/26 02:47:31 PM] Loading tracks/obj_type_1\n"
     ]
    },
    {
     "name": "stdout",
     "output_type": "stream",
     "text": [
      "Track information loaded and ordered according to cell type (WT IDs >0> Scr IDs\n",
      "Loaded GV0806/Pos4/\n",
      "ID GV0806_Pos4_1452_GFP\n",
      "ID GV0806_Pos4_1471_GFP\n",
      "ID GV0806_Pos4_944_GFP\n",
      "ID GV0806_Pos4_1258_GFP\n",
      "ID GV0796_Pos3_1599_GFP\n",
      "Loading GV0796/Pos3/\n",
      "Btrack version no.: 0.4.0\n"
     ]
    },
    {
     "name": "stderr",
     "output_type": "stream",
     "text": [
      "[INFO][2021/03/26 02:47:35 PM] Loading objects/obj_type_1 (683581, 5) (648688 filtered: area>=100)\n",
      "[INFO][2021/03/26 02:47:41 PM] Closing HDF file: /home/nathan/data/kraken/h2b/giulia/GV0796/Pos3/Pos3_aligned/HDF/segmented.hdf5\n",
      "[INFO][2021/03/26 02:47:41 PM] Opening HDF file: /home/nathan/data/kraken/h2b/giulia/GV0796/Pos3/Pos3_aligned/HDF/segmented.hdf5...\n",
      "[INFO][2021/03/26 02:47:41 PM] Loading tracks/obj_type_2\n",
      "[INFO][2021/03/26 02:47:41 PM] Loading objects/obj_type_2 (16040, 5) (13600 filtered: area>=100)\n",
      "[INFO][2021/03/26 02:47:41 PM] Closing HDF file: /home/nathan/data/kraken/h2b/giulia/GV0796/Pos3/Pos3_aligned/HDF/segmented.hdf5\n",
      " 44%|████▍     | 169/385 [02:44<10:38,  2.96s/it][INFO][2021/03/26 02:47:41 PM] Opening HDF file: /home/nathan/data/kraken/h2b/giulia/GV0797/Pos19/Pos19_aligned/HDF/segmented.hdf5...\n",
      "[INFO][2021/03/26 02:47:41 PM] Loading tracks/obj_type_1\n"
     ]
    },
    {
     "name": "stdout",
     "output_type": "stream",
     "text": [
      "Track information loaded and ordered according to cell type (WT IDs >0> Scr IDs\n",
      "Loaded GV0796/Pos3/\n",
      "ID GV0797_Pos19_451_GFP\n",
      "Loading GV0797/Pos19/\n",
      "Btrack version no.: 0.4.0\n"
     ]
    },
    {
     "name": "stderr",
     "output_type": "stream",
     "text": [
      "[INFO][2021/03/26 02:47:43 PM] Loading objects/obj_type_1 (309231, 5) (297729 filtered: area>=100)\n",
      "[INFO][2021/03/26 02:47:46 PM] Closing HDF file: /home/nathan/data/kraken/h2b/giulia/GV0797/Pos19/Pos19_aligned/HDF/segmented.hdf5\n",
      "[INFO][2021/03/26 02:47:46 PM] Opening HDF file: /home/nathan/data/kraken/h2b/giulia/GV0797/Pos19/Pos19_aligned/HDF/segmented.hdf5...\n",
      "[INFO][2021/03/26 02:47:46 PM] Loading tracks/obj_type_2\n",
      "[INFO][2021/03/26 02:47:46 PM] Loading objects/obj_type_2 (4035, 5) (2645 filtered: area>=100)\n",
      "[INFO][2021/03/26 02:47:46 PM] Closing HDF file: /home/nathan/data/kraken/h2b/giulia/GV0797/Pos19/Pos19_aligned/HDF/segmented.hdf5\n",
      " 44%|████▍     | 170/385 [02:48<12:37,  3.52s/it][INFO][2021/03/26 02:47:46 PM] Opening HDF file: /home/nathan/data/kraken/h2b/giulia/GV0817/Pos12/Pos12_aligned/HDF/segmented.hdf5...\n",
      "[INFO][2021/03/26 02:47:46 PM] Loading tracks/obj_type_1\n"
     ]
    },
    {
     "name": "stdout",
     "output_type": "stream",
     "text": [
      "Track information loaded and ordered according to cell type (WT IDs >0> Scr IDs\n",
      "Loaded GV0797/Pos19/\n",
      "ID GV0797_Pos19_546_GFP\n",
      "ID GV0797_Pos19_1229_GFP\n",
      "ID GV0817_Pos12_363_GFP\n",
      "Loading GV0817/Pos12/\n",
      "Btrack version no.: 0.4.0\n"
     ]
    },
    {
     "name": "stderr",
     "output_type": "stream",
     "text": [
      "[INFO][2021/03/26 02:47:47 PM] Loading objects/obj_type_1 (181283, 5) (167848 filtered: area>=100)\n",
      "[INFO][2021/03/26 02:47:49 PM] Closing HDF file: /home/nathan/data/kraken/h2b/giulia/GV0817/Pos12/Pos12_aligned/HDF/segmented.hdf5\n",
      "[INFO][2021/03/26 02:47:49 PM] Opening HDF file: /home/nathan/data/kraken/h2b/giulia/GV0817/Pos12/Pos12_aligned/HDF/segmented.hdf5...\n",
      "[INFO][2021/03/26 02:47:49 PM] Loading tracks/obj_type_2\n",
      "[INFO][2021/03/26 02:47:50 PM] Loading objects/obj_type_2 (111487, 5) (83279 filtered: area>=100)\n",
      "[INFO][2021/03/26 02:47:50 PM] Closing HDF file: /home/nathan/data/kraken/h2b/giulia/GV0817/Pos12/Pos12_aligned/HDF/segmented.hdf5\n",
      " 45%|████▍     | 173/385 [02:52<10:09,  2.88s/it][INFO][2021/03/26 02:47:50 PM] Opening HDF file: /home/nathan/data/kraken/h2b/giulia/GV0804/Pos4/Pos4_aligned/HDF/segmented.hdf5...\n",
      "[INFO][2021/03/26 02:47:50 PM] Loading tracks/obj_type_1\n"
     ]
    },
    {
     "name": "stdout",
     "output_type": "stream",
     "text": [
      "Track information loaded and ordered according to cell type (WT IDs >0> Scr IDs\n",
      "Loaded GV0817/Pos12/\n",
      "ID GV0817_Pos12_1193_GFP\n",
      "ID GV0804_Pos4_1013_GFP\n",
      "Loading GV0804/Pos4/\n",
      "Btrack version no.: 0.4.0\n"
     ]
    },
    {
     "name": "stderr",
     "output_type": "stream",
     "text": [
      "[INFO][2021/03/26 02:47:52 PM] Loading objects/obj_type_1 (271439, 5) (257929 filtered: area>=100)\n",
      "[INFO][2021/03/26 02:47:54 PM] Closing HDF file: /home/nathan/data/kraken/h2b/giulia/GV0804/Pos4/Pos4_aligned/HDF/segmented.hdf5\n",
      "[INFO][2021/03/26 02:47:54 PM] Opening HDF file: /home/nathan/data/kraken/h2b/giulia/GV0804/Pos4/Pos4_aligned/HDF/segmented.hdf5...\n",
      "[INFO][2021/03/26 02:47:54 PM] Loading tracks/obj_type_2\n",
      "[INFO][2021/03/26 02:47:54 PM] Loading objects/obj_type_2 (42112, 5) (36481 filtered: area>=100)\n",
      "[INFO][2021/03/26 02:47:55 PM] Closing HDF file: /home/nathan/data/kraken/h2b/giulia/GV0804/Pos4/Pos4_aligned/HDF/segmented.hdf5\n",
      " 45%|████▌     | 175/385 [02:57<09:24,  2.69s/it][INFO][2021/03/26 02:47:55 PM] Opening HDF file: /home/nathan/data/kraken/h2b/giulia/GV0797/Pos4/Pos4_aligned/HDF/segmented.hdf5...\n",
      "[INFO][2021/03/26 02:47:55 PM] Loading tracks/obj_type_1\n"
     ]
    },
    {
     "name": "stdout",
     "output_type": "stream",
     "text": [
      "Track information loaded and ordered according to cell type (WT IDs >0> Scr IDs\n",
      "Loaded GV0804/Pos4/\n",
      "ID GV0804_Pos4_1774_GFP\n",
      "ID GV0797_Pos4_290_GFP\n",
      "Loading GV0797/Pos4/\n",
      "Btrack version no.: 0.4.0\n"
     ]
    },
    {
     "name": "stderr",
     "output_type": "stream",
     "text": [
      "[INFO][2021/03/26 02:47:56 PM] Loading objects/obj_type_1 (298548, 5) (283305 filtered: area>=100)\n",
      "[INFO][2021/03/26 02:47:59 PM] Closing HDF file: /home/nathan/data/kraken/h2b/giulia/GV0797/Pos4/Pos4_aligned/HDF/segmented.hdf5\n",
      "[INFO][2021/03/26 02:47:59 PM] Opening HDF file: /home/nathan/data/kraken/h2b/giulia/GV0797/Pos4/Pos4_aligned/HDF/segmented.hdf5...\n",
      "[INFO][2021/03/26 02:47:59 PM] Loading tracks/obj_type_2\n",
      "[INFO][2021/03/26 02:47:59 PM] Loading objects/obj_type_2 (52032, 5) (37211 filtered: area>=100)\n",
      "[INFO][2021/03/26 02:48:00 PM] Closing HDF file: /home/nathan/data/kraken/h2b/giulia/GV0797/Pos4/Pos4_aligned/HDF/segmented.hdf5\n",
      " 46%|████▌     | 177/385 [03:02<09:08,  2.64s/it][INFO][2021/03/26 02:48:00 PM] Opening HDF file: /home/nathan/data/kraken/h2b/giulia/GV0814/Pos0/Pos0_aligned/HDF/segmented.hdf5...\n",
      "[INFO][2021/03/26 02:48:00 PM] Loading tracks/obj_type_1\n"
     ]
    },
    {
     "name": "stdout",
     "output_type": "stream",
     "text": [
      "Track information loaded and ordered according to cell type (WT IDs >0> Scr IDs\n",
      "Loaded GV0797/Pos4/\n",
      "ID GV0797_Pos4_1397_GFP\n",
      "ID GV0797_Pos4_825_GFP\n",
      "ID GV0797_Pos4_1823_GFP\n",
      "ID GV0797_Pos4_1006_GFP\n",
      "ID GV0797_Pos4_1487_GFP\n",
      "ID GV0797_Pos4_1486_GFP\n",
      "ID GV0797_Pos4_2398_GFP\n",
      "ID GV0797_Pos4_2468_GFP\n",
      "ID GV0814_Pos0_578_GFP\n",
      "Loading GV0814/Pos0/\n",
      "Btrack version no.: 0.4.0\n"
     ]
    },
    {
     "name": "stderr",
     "output_type": "stream",
     "text": [
      "[INFO][2021/03/26 02:48:00 PM] Loading objects/obj_type_1 (134206, 5) (118580 filtered: area>=100)\n",
      "[INFO][2021/03/26 02:48:01 PM] Closing HDF file: /home/nathan/data/kraken/h2b/giulia/GV0814/Pos0/Pos0_aligned/HDF/segmented.hdf5\n",
      "[INFO][2021/03/26 02:48:01 PM] Opening HDF file: /home/nathan/data/kraken/h2b/giulia/GV0814/Pos0/Pos0_aligned/HDF/segmented.hdf5...\n",
      "[INFO][2021/03/26 02:48:01 PM] Loading tracks/obj_type_2\n",
      "[INFO][2021/03/26 02:48:02 PM] Loading objects/obj_type_2 (41136, 5) (25703 filtered: area>=100)\n",
      "[INFO][2021/03/26 02:48:02 PM] Closing HDF file: /home/nathan/data/kraken/h2b/giulia/GV0814/Pos0/Pos0_aligned/HDF/segmented.hdf5\n",
      " 48%|████▊     | 186/385 [03:04<06:22,  1.92s/it][INFO][2021/03/26 02:48:02 PM] Opening HDF file: /home/nathan/data/kraken/h2b/giulia/GV0800/Pos15/Pos15_aligned/HDF/segmented.hdf5...\n",
      "[INFO][2021/03/26 02:48:02 PM] Loading tracks/obj_type_1\n"
     ]
    },
    {
     "name": "stdout",
     "output_type": "stream",
     "text": [
      "Track information loaded and ordered according to cell type (WT IDs >0> Scr IDs\n",
      "Loaded GV0814/Pos0/\n",
      "ID GV0814_Pos0_597_GFP\n",
      "ID GV0814_Pos0_452_GFP\n",
      "ID GV0814_Pos0_1322_GFP\n",
      "ID GV0814_Pos0_453_GFP\n",
      "ID GV0814_Pos0_26_GFP\n",
      "ID GV0814_Pos0_357_GFP\n",
      "ID GV0800_Pos15_91_GFP\n",
      "Loading GV0800/Pos15/\n",
      "Btrack version no.: 0.4.0\n"
     ]
    },
    {
     "name": "stderr",
     "output_type": "stream",
     "text": [
      "[INFO][2021/03/26 02:48:05 PM] Loading objects/obj_type_1 (496218, 5) (476849 filtered: area>=100)\n",
      "[INFO][2021/03/26 02:48:09 PM] Closing HDF file: /home/nathan/data/kraken/h2b/giulia/GV0800/Pos15/Pos15_aligned/HDF/segmented.hdf5\n",
      "[INFO][2021/03/26 02:48:09 PM] Opening HDF file: /home/nathan/data/kraken/h2b/giulia/GV0800/Pos15/Pos15_aligned/HDF/segmented.hdf5...\n",
      "[INFO][2021/03/26 02:48:09 PM] Loading tracks/obj_type_2\n",
      "[INFO][2021/03/26 02:48:10 PM] Loading objects/obj_type_2 (16106, 5) (13248 filtered: area>=100)\n",
      "[INFO][2021/03/26 02:48:10 PM] Closing HDF file: /home/nathan/data/kraken/h2b/giulia/GV0800/Pos15/Pos15_aligned/HDF/segmented.hdf5\n",
      " 50%|█████     | 193/385 [03:12<05:21,  1.67s/it][INFO][2021/03/26 02:48:10 PM] Opening HDF file: /home/nathan/data/kraken/h2b/giulia/GV0798/Pos6/Pos6_aligned/HDF/segmented.hdf5...\n",
      "[INFO][2021/03/26 02:48:10 PM] Loading tracks/obj_type_1\n"
     ]
    },
    {
     "name": "stdout",
     "output_type": "stream",
     "text": [
      "Track information loaded and ordered according to cell type (WT IDs >0> Scr IDs\n",
      "Loaded GV0800/Pos15/\n",
      "ID GV0800_Pos15_1412_GFP\n",
      "ID GV0798_Pos6_11_GFP\n",
      "Loading GV0798/Pos6/\n",
      "Btrack version no.: 0.4.0\n"
     ]
    },
    {
     "name": "stderr",
     "output_type": "stream",
     "text": [
      "[INFO][2021/03/26 02:48:10 PM] Loading objects/obj_type_1 (87350, 5) (79247 filtered: area>=100)\n",
      "[INFO][2021/03/26 02:48:11 PM] Closing HDF file: /home/nathan/data/kraken/h2b/giulia/GV0798/Pos6/Pos6_aligned/HDF/segmented.hdf5\n",
      "[INFO][2021/03/26 02:48:11 PM] Opening HDF file: /home/nathan/data/kraken/h2b/giulia/GV0798/Pos6/Pos6_aligned/HDF/segmented.hdf5...\n",
      "[INFO][2021/03/26 02:48:11 PM] Loading tracks/obj_type_2\n",
      "[INFO][2021/03/26 02:48:11 PM] Loading objects/obj_type_2 (81755, 5) (62545 filtered: area>=100)\n",
      "[INFO][2021/03/26 02:48:12 PM] Closing HDF file: /home/nathan/data/kraken/h2b/giulia/GV0798/Pos6/Pos6_aligned/HDF/segmented.hdf5\n",
      " 51%|█████     | 195/385 [03:14<04:43,  1.49s/it][INFO][2021/03/26 02:48:12 PM] Opening HDF file: /home/nathan/data/kraken/h2b/giulia/GV0820/Pos0/Pos0_aligned/HDF/segmented.hdf5...\n",
      "[INFO][2021/03/26 02:48:12 PM] Loading tracks/obj_type_1\n"
     ]
    },
    {
     "name": "stdout",
     "output_type": "stream",
     "text": [
      "Track information loaded and ordered according to cell type (WT IDs >0> Scr IDs\n",
      "Loaded GV0798/Pos6/\n",
      "ID GV0820_Pos0_35_GFP\n",
      "Loading GV0820/Pos0/\n",
      "Btrack version no.: 0.4.0\n"
     ]
    },
    {
     "name": "stderr",
     "output_type": "stream",
     "text": [
      "[INFO][2021/03/26 02:48:13 PM] Loading objects/obj_type_1 (204895, 5) (190534 filtered: area>=100)\n",
      "[INFO][2021/03/26 02:48:15 PM] Closing HDF file: /home/nathan/data/kraken/h2b/giulia/GV0820/Pos0/Pos0_aligned/HDF/segmented.hdf5\n",
      "[INFO][2021/03/26 02:48:15 PM] Opening HDF file: /home/nathan/data/kraken/h2b/giulia/GV0820/Pos0/Pos0_aligned/HDF/segmented.hdf5...\n",
      "[INFO][2021/03/26 02:48:15 PM] Loading tracks/obj_type_2\n",
      "[INFO][2021/03/26 02:48:15 PM] Loading objects/obj_type_2 (70432, 5) (57621 filtered: area>=100)\n",
      "[INFO][2021/03/26 02:48:16 PM] Closing HDF file: /home/nathan/data/kraken/h2b/giulia/GV0820/Pos0/Pos0_aligned/HDF/segmented.hdf5\n",
      " 51%|█████     | 196/385 [03:18<06:52,  2.18s/it][INFO][2021/03/26 02:48:16 PM] Opening HDF file: /home/nathan/data/kraken/h2b/giulia/GV0798/Pos18/Pos18_aligned/HDF/segmented.hdf5...\n",
      "[INFO][2021/03/26 02:48:16 PM] Loading tracks/obj_type_1\n"
     ]
    },
    {
     "name": "stdout",
     "output_type": "stream",
     "text": [
      "Track information loaded and ordered according to cell type (WT IDs >0> Scr IDs\n",
      "Loaded GV0820/Pos0/\n",
      "ID GV0820_Pos0_28_GFP\n",
      "ID GV0820_Pos0_930_GFP\n",
      "ID GV0820_Pos0_739_GFP\n",
      "ID GV0820_Pos0_501_GFP\n",
      "ID GV0820_Pos0_19_GFP\n",
      "ID GV0820_Pos0_589_GFP\n",
      "ID GV0820_Pos0_709_GFP\n",
      "ID GV0820_Pos0_1329_GFP\n",
      "ID GV0820_Pos0_854_GFP\n",
      "ID GV0820_Pos0_784_GFP\n",
      "ID GV0820_Pos0_1837_GFP\n",
      "ID GV0820_Pos0_2191_GFP\n",
      "ID GV0820_Pos0_710_GFP\n",
      "ID GV0820_Pos0_1231_GFP\n",
      "ID GV0798_Pos18_353_GFP\n",
      "Loading GV0798/Pos18/\n",
      "Btrack version no.: 0.4.0\n"
     ]
    },
    {
     "name": "stderr",
     "output_type": "stream",
     "text": [
      "[INFO][2021/03/26 02:48:18 PM] Loading objects/obj_type_1 (429266, 5) (414111 filtered: area>=100)\n",
      "[INFO][2021/03/26 02:48:22 PM] Closing HDF file: /home/nathan/data/kraken/h2b/giulia/GV0798/Pos18/Pos18_aligned/HDF/segmented.hdf5\n",
      "[INFO][2021/03/26 02:48:22 PM] Opening HDF file: /home/nathan/data/kraken/h2b/giulia/GV0798/Pos18/Pos18_aligned/HDF/segmented.hdf5...\n",
      "[INFO][2021/03/26 02:48:22 PM] Loading tracks/obj_type_2\n",
      "[INFO][2021/03/26 02:48:22 PM] Loading objects/obj_type_2 (9488, 5) (7986 filtered: area>=100)\n",
      "[INFO][2021/03/26 02:48:22 PM] Closing HDF file: /home/nathan/data/kraken/h2b/giulia/GV0798/Pos18/Pos18_aligned/HDF/segmented.hdf5\n",
      " 55%|█████▍    | 211/385 [03:25<04:49,  1.66s/it][INFO][2021/03/26 02:48:22 PM] Opening HDF file: /home/nathan/data/kraken/h2b/giulia/GV0815/Pos12/Pos12_aligned/HDF/segmented.hdf5...\n",
      "[INFO][2021/03/26 02:48:22 PM] Loading tracks/obj_type_1\n"
     ]
    },
    {
     "name": "stdout",
     "output_type": "stream",
     "text": [
      "Track information loaded and ordered according to cell type (WT IDs >0> Scr IDs\n",
      "Loaded GV0798/Pos18/\n",
      "ID GV0815_Pos12_1143_GFP\n",
      "Loading GV0815/Pos12/\n",
      "Btrack version no.: 0.4.0\n"
     ]
    },
    {
     "name": "stderr",
     "output_type": "stream",
     "text": [
      "[INFO][2021/03/26 02:48:24 PM] Loading objects/obj_type_1 (224299, 5) (200430 filtered: area>=100)\n",
      "[INFO][2021/03/26 02:48:25 PM] Closing HDF file: /home/nathan/data/kraken/h2b/giulia/GV0815/Pos12/Pos12_aligned/HDF/segmented.hdf5\n",
      "[INFO][2021/03/26 02:48:25 PM] Opening HDF file: /home/nathan/data/kraken/h2b/giulia/GV0815/Pos12/Pos12_aligned/HDF/segmented.hdf5...\n",
      "[INFO][2021/03/26 02:48:25 PM] Loading tracks/obj_type_2\n",
      "[INFO][2021/03/26 02:48:26 PM] Loading objects/obj_type_2 (51057, 5) (39432 filtered: area>=100)\n",
      "[INFO][2021/03/26 02:48:26 PM] Closing HDF file: /home/nathan/data/kraken/h2b/giulia/GV0815/Pos12/Pos12_aligned/HDF/segmented.hdf5\n",
      " 55%|█████▌    | 212/385 [03:28<06:34,  2.28s/it][INFO][2021/03/26 02:48:26 PM] Opening HDF file: /home/nathan/data/kraken/h2b/giulia/GV0813/Pos2/Pos2_aligned/HDF/segmented.hdf5...\n",
      "[INFO][2021/03/26 02:48:26 PM] Loading tracks/obj_type_1\n"
     ]
    },
    {
     "name": "stdout",
     "output_type": "stream",
     "text": [
      "Track information loaded and ordered according to cell type (WT IDs >0> Scr IDs\n",
      "Loaded GV0815/Pos12/\n",
      "ID GV0815_Pos12_1142_GFP\n",
      "ID GV0815_Pos12_799_GFP\n",
      "ID GV0815_Pos12_1521_GFP\n",
      "ID GV0815_Pos12_817_GFP\n",
      "ID GV0815_Pos12_2169_GFP\n",
      "ID GV0813_Pos2_589_GFP\n",
      "Loading GV0813/Pos2/\n",
      "Btrack version no.: 0.4.0\n"
     ]
    },
    {
     "name": "stderr",
     "output_type": "stream",
     "text": [
      "[INFO][2021/03/26 02:48:27 PM] Loading objects/obj_type_1 (142719, 5) (105609 filtered: area>=100)\n",
      "[INFO][2021/03/26 02:48:28 PM] Closing HDF file: /home/nathan/data/kraken/h2b/giulia/GV0813/Pos2/Pos2_aligned/HDF/segmented.hdf5\n",
      "[INFO][2021/03/26 02:48:28 PM] Opening HDF file: /home/nathan/data/kraken/h2b/giulia/GV0813/Pos2/Pos2_aligned/HDF/segmented.hdf5...\n",
      "[INFO][2021/03/26 02:48:28 PM] Loading tracks/obj_type_2\n",
      "[INFO][2021/03/26 02:48:28 PM] Loading objects/obj_type_2 (22756, 5) (19093 filtered: area>=100)\n",
      "[INFO][2021/03/26 02:48:28 PM] Closing HDF file: /home/nathan/data/kraken/h2b/giulia/GV0813/Pos2/Pos2_aligned/HDF/segmented.hdf5\n",
      " 57%|█████▋    | 218/385 [03:31<04:46,  1.71s/it][INFO][2021/03/26 02:48:28 PM] Opening HDF file: /home/nathan/data/kraken/h2b/giulia/GV0819/Pos1/Pos1_aligned/HDF/segmented.hdf5...\n",
      "[INFO][2021/03/26 02:48:28 PM] Loading tracks/obj_type_1\n"
     ]
    },
    {
     "name": "stdout",
     "output_type": "stream",
     "text": [
      "Track information loaded and ordered according to cell type (WT IDs >0> Scr IDs\n",
      "Loaded GV0813/Pos2/\n",
      "ID GV0813_Pos2_717_GFP\n",
      "ID GV0819_Pos1_34_GFP\n",
      "Loading GV0819/Pos1/\n",
      "Btrack version no.: 0.4.0\n"
     ]
    },
    {
     "name": "stderr",
     "output_type": "stream",
     "text": [
      "[INFO][2021/03/26 02:48:30 PM] Loading objects/obj_type_1 (291961, 5) (262012 filtered: area>=100)\n",
      "[INFO][2021/03/26 02:48:32 PM] Closing HDF file: /home/nathan/data/kraken/h2b/giulia/GV0819/Pos1/Pos1_aligned/HDF/segmented.hdf5\n",
      "[INFO][2021/03/26 02:48:32 PM] Opening HDF file: /home/nathan/data/kraken/h2b/giulia/GV0819/Pos1/Pos1_aligned/HDF/segmented.hdf5...\n",
      "[INFO][2021/03/26 02:48:32 PM] Loading tracks/obj_type_2\n",
      "[INFO][2021/03/26 02:48:33 PM] Loading objects/obj_type_2 (51130, 5) (42876 filtered: area>=100)\n",
      "[INFO][2021/03/26 02:48:33 PM] Closing HDF file: /home/nathan/data/kraken/h2b/giulia/GV0819/Pos1/Pos1_aligned/HDF/segmented.hdf5\n",
      " 57%|█████▋    | 220/385 [03:35<05:10,  1.88s/it][INFO][2021/03/26 02:48:33 PM] Opening HDF file: /home/nathan/data/kraken/h2b/giulia/GV0816/Pos14/Pos14_aligned/HDF/segmented.hdf5...\n",
      "[INFO][2021/03/26 02:48:33 PM] Loading tracks/obj_type_1\n"
     ]
    },
    {
     "name": "stdout",
     "output_type": "stream",
     "text": [
      "Track information loaded and ordered according to cell type (WT IDs >0> Scr IDs\n",
      "Loaded GV0819/Pos1/\n",
      "ID GV0819_Pos1_425_GFP\n",
      "ID GV0819_Pos1_653_GFP\n",
      "ID GV0819_Pos1_739_GFP\n",
      "ID GV0819_Pos1_1068_GFP\n",
      "ID GV0819_Pos1_941_GFP\n",
      "ID GV0819_Pos1_942_GFP\n",
      "ID GV0819_Pos1_1745_GFP\n",
      "ID GV0819_Pos1_798_GFP\n",
      "ID GV0816_Pos14_7_GFP\n",
      "Loading GV0816/Pos14/\n",
      "Btrack version no.: 0.4.0\n"
     ]
    },
    {
     "name": "stderr",
     "output_type": "stream",
     "text": [
      "[INFO][2021/03/26 02:48:33 PM] Loading objects/obj_type_1 (84243, 5) (76143 filtered: area>=100)\n",
      "[INFO][2021/03/26 02:48:34 PM] Closing HDF file: /home/nathan/data/kraken/h2b/giulia/GV0816/Pos14/Pos14_aligned/HDF/segmented.hdf5\n",
      "[INFO][2021/03/26 02:48:34 PM] Opening HDF file: /home/nathan/data/kraken/h2b/giulia/GV0816/Pos14/Pos14_aligned/HDF/segmented.hdf5...\n",
      "[INFO][2021/03/26 02:48:34 PM] Loading tracks/obj_type_2\n",
      "[INFO][2021/03/26 02:48:34 PM] Loading objects/obj_type_2 (50447, 5) (39807 filtered: area>=100)\n",
      "[INFO][2021/03/26 02:48:35 PM] Closing HDF file: /home/nathan/data/kraken/h2b/giulia/GV0816/Pos14/Pos14_aligned/HDF/segmented.hdf5\n",
      " 59%|█████▉    | 229/385 [03:37<03:35,  1.38s/it][INFO][2021/03/26 02:48:35 PM] Opening HDF file: /home/nathan/data/kraken/h2b/giulia/GV0800/Pos7/Pos7_aligned/HDF/segmented.hdf5...\n",
      "[INFO][2021/03/26 02:48:35 PM] Loading tracks/obj_type_1\n"
     ]
    },
    {
     "name": "stdout",
     "output_type": "stream",
     "text": [
      "Track information loaded and ordered according to cell type (WT IDs >0> Scr IDs\n",
      "Loaded GV0816/Pos14/\n",
      "ID GV0816_Pos14_537_GFP\n",
      "ID GV0816_Pos14_496_GFP\n",
      "ID GV0800_Pos7_278_GFP\n",
      "Loading GV0800/Pos7/\n",
      "Btrack version no.: 0.4.0\n"
     ]
    },
    {
     "name": "stderr",
     "output_type": "stream",
     "text": [
      "[INFO][2021/03/26 02:48:37 PM] Loading objects/obj_type_1 (299894, 5) (277008 filtered: area>=100)\n",
      "[INFO][2021/03/26 02:48:39 PM] Closing HDF file: /home/nathan/data/kraken/h2b/giulia/GV0800/Pos7/Pos7_aligned/HDF/segmented.hdf5\n",
      "[INFO][2021/03/26 02:48:39 PM] Opening HDF file: /home/nathan/data/kraken/h2b/giulia/GV0800/Pos7/Pos7_aligned/HDF/segmented.hdf5...\n",
      "[INFO][2021/03/26 02:48:39 PM] Loading tracks/obj_type_2\n",
      "[INFO][2021/03/26 02:48:39 PM] Loading objects/obj_type_2 (53124, 5) (43280 filtered: area>=100)\n",
      "[INFO][2021/03/26 02:48:40 PM] Closing HDF file: /home/nathan/data/kraken/h2b/giulia/GV0800/Pos7/Pos7_aligned/HDF/segmented.hdf5\n",
      " 60%|██████    | 232/385 [03:42<03:41,  1.45s/it][INFO][2021/03/26 02:48:40 PM] Opening HDF file: /home/nathan/data/kraken/h2b/giulia/GV0797/Pos21/Pos21_aligned/HDF/segmented.hdf5...\n",
      "[INFO][2021/03/26 02:48:40 PM] Loading tracks/obj_type_1\n"
     ]
    },
    {
     "name": "stdout",
     "output_type": "stream",
     "text": [
      "Track information loaded and ordered according to cell type (WT IDs >0> Scr IDs\n",
      "Loaded GV0800/Pos7/\n",
      "ID GV0800_Pos7_206_GFP\n",
      "ID GV0800_Pos7_511_GFP\n",
      "ID GV0800_Pos7_397_GFP\n",
      "ID GV0800_Pos7_445_GFP\n",
      "ID GV0800_Pos7_921_GFP\n",
      "ID GV0800_Pos7_2097_GFP\n",
      "ID GV0800_Pos7_1616_GFP\n",
      "ID GV0800_Pos7_1160_GFP\n",
      "ID GV0797_Pos21_93_GFP\n",
      "Loading GV0797/Pos21/\n",
      "Btrack version no.: 0.4.0\n"
     ]
    },
    {
     "name": "stderr",
     "output_type": "stream",
     "text": [
      "[INFO][2021/03/26 02:48:41 PM] Loading objects/obj_type_1 (211568, 5) (195992 filtered: area>=100)\n",
      "[INFO][2021/03/26 02:48:43 PM] Closing HDF file: /home/nathan/data/kraken/h2b/giulia/GV0797/Pos21/Pos21_aligned/HDF/segmented.hdf5\n",
      "[INFO][2021/03/26 02:48:43 PM] Opening HDF file: /home/nathan/data/kraken/h2b/giulia/GV0797/Pos21/Pos21_aligned/HDF/segmented.hdf5...\n",
      "[INFO][2021/03/26 02:48:43 PM] Loading tracks/obj_type_2\n",
      "[INFO][2021/03/26 02:48:43 PM] Loading objects/obj_type_2 (26227, 5) (20975 filtered: area>=100)\n",
      "[INFO][2021/03/26 02:48:43 PM] Closing HDF file: /home/nathan/data/kraken/h2b/giulia/GV0797/Pos21/Pos21_aligned/HDF/segmented.hdf5\n",
      " 63%|██████▎   | 241/385 [03:46<02:43,  1.13s/it][INFO][2021/03/26 02:48:43 PM] Opening HDF file: /home/nathan/data/kraken/h2b/giulia/GV0815/Pos23/Pos23_aligned/HDF/segmented.hdf5...\n",
      "[INFO][2021/03/26 02:48:43 PM] Loading tracks/obj_type_1\n"
     ]
    },
    {
     "name": "stdout",
     "output_type": "stream",
     "text": [
      "Track information loaded and ordered according to cell type (WT IDs >0> Scr IDs\n",
      "Loaded GV0797/Pos21/\n",
      "ID GV0797_Pos21_77_GFP\n",
      "ID GV0797_Pos21_732_GFP\n",
      "ID GV0797_Pos21_5_GFP\n",
      "ID GV0797_Pos21_7_GFP\n",
      "ID GV0797_Pos21_101_GFP\n",
      "ID GV0797_Pos21_94_GFP\n",
      "ID GV0797_Pos21_787_GFP\n",
      "ID GV0797_Pos21_1545_GFP\n",
      "ID GV0797_Pos21_1544_GFP\n",
      "ID GV0815_Pos23_185_GFP\n",
      "Loading GV0815/Pos23/\n",
      "Btrack version no.: 0.4.0\n"
     ]
    },
    {
     "name": "stderr",
     "output_type": "stream",
     "text": [
      "[INFO][2021/03/26 02:48:44 PM] Loading objects/obj_type_1 (182687, 5) (160127 filtered: area>=100)\n",
      "[INFO][2021/03/26 02:48:46 PM] Closing HDF file: /home/nathan/data/kraken/h2b/giulia/GV0815/Pos23/Pos23_aligned/HDF/segmented.hdf5\n",
      "[INFO][2021/03/26 02:48:46 PM] Opening HDF file: /home/nathan/data/kraken/h2b/giulia/GV0815/Pos23/Pos23_aligned/HDF/segmented.hdf5...\n",
      "[INFO][2021/03/26 02:48:46 PM] Loading tracks/obj_type_2\n",
      "[INFO][2021/03/26 02:48:46 PM] Loading objects/obj_type_2 (48093, 5) (41816 filtered: area>=100)\n",
      "[INFO][2021/03/26 02:48:46 PM] Closing HDF file: /home/nathan/data/kraken/h2b/giulia/GV0815/Pos23/Pos23_aligned/HDF/segmented.hdf5\n",
      " 65%|██████▌   | 251/385 [03:49<01:58,  1.13it/s][INFO][2021/03/26 02:48:46 PM] Opening HDF file: /home/nathan/data/kraken/h2b/giulia/GV0820/Pos2/Pos2_aligned/HDF/segmented.hdf5...\n",
      "[INFO][2021/03/26 02:48:46 PM] Loading tracks/obj_type_1\n"
     ]
    },
    {
     "name": "stdout",
     "output_type": "stream",
     "text": [
      "Track information loaded and ordered according to cell type (WT IDs >0> Scr IDs\n",
      "Loaded GV0815/Pos23/\n",
      "ID GV0815_Pos23_634_GFP\n",
      "ID GV0820_Pos2_406_GFP\n",
      "Loading GV0820/Pos2/\n",
      "Btrack version no.: 0.4.0\n"
     ]
    },
    {
     "name": "stderr",
     "output_type": "stream",
     "text": [
      "[INFO][2021/03/26 02:48:47 PM] Loading objects/obj_type_1 (187834, 5) (174544 filtered: area>=100)\n",
      "[INFO][2021/03/26 02:48:49 PM] Closing HDF file: /home/nathan/data/kraken/h2b/giulia/GV0820/Pos2/Pos2_aligned/HDF/segmented.hdf5\n",
      "[INFO][2021/03/26 02:48:49 PM] Opening HDF file: /home/nathan/data/kraken/h2b/giulia/GV0820/Pos2/Pos2_aligned/HDF/segmented.hdf5...\n",
      "[INFO][2021/03/26 02:48:49 PM] Loading tracks/obj_type_2\n",
      "[INFO][2021/03/26 02:48:49 PM] Loading objects/obj_type_2 (73959, 5) (62237 filtered: area>=100)\n",
      "[INFO][2021/03/26 02:48:50 PM] Closing HDF file: /home/nathan/data/kraken/h2b/giulia/GV0820/Pos2/Pos2_aligned/HDF/segmented.hdf5\n",
      " 66%|██████▌   | 253/385 [03:52<02:33,  1.16s/it][INFO][2021/03/26 02:48:50 PM] Opening HDF file: /home/nathan/data/kraken/h2b/giulia/GV0807/Pos4/Pos4_aligned/HDF/segmented.hdf5...\n",
      "[INFO][2021/03/26 02:48:50 PM] Loading tracks/obj_type_1\n"
     ]
    },
    {
     "name": "stdout",
     "output_type": "stream",
     "text": [
      "Track information loaded and ordered according to cell type (WT IDs >0> Scr IDs\n",
      "Loaded GV0820/Pos2/\n",
      "ID GV0820_Pos2_1232_GFP\n",
      "ID GV0807_Pos4_982_GFP\n",
      "Loading GV0807/Pos4/\n",
      "Btrack version no.: 0.4.0\n"
     ]
    },
    {
     "name": "stderr",
     "output_type": "stream",
     "text": [
      "[INFO][2021/03/26 02:48:52 PM] Loading objects/obj_type_1 (313526, 5) (300454 filtered: area>=100)\n",
      "[INFO][2021/03/26 02:48:55 PM] Closing HDF file: /home/nathan/data/kraken/h2b/giulia/GV0807/Pos4/Pos4_aligned/HDF/segmented.hdf5\n",
      "[INFO][2021/03/26 02:48:55 PM] Opening HDF file: /home/nathan/data/kraken/h2b/giulia/GV0807/Pos4/Pos4_aligned/HDF/segmented.hdf5...\n",
      "[INFO][2021/03/26 02:48:55 PM] Loading tracks/obj_type_2\n",
      "[INFO][2021/03/26 02:48:55 PM] Loading objects/obj_type_2 (38098, 5) (31521 filtered: area>=100)\n",
      "[INFO][2021/03/26 02:48:55 PM] Closing HDF file: /home/nathan/data/kraken/h2b/giulia/GV0807/Pos4/Pos4_aligned/HDF/segmented.hdf5\n",
      " 66%|██████▌   | 255/385 [03:58<03:27,  1.60s/it][INFO][2021/03/26 02:48:55 PM] Opening HDF file: /home/nathan/data/kraken/h2b/giulia/GV0815/Pos0/Pos0_aligned/HDF/segmented.hdf5...\n",
      "[INFO][2021/03/26 02:48:55 PM] Loading tracks/obj_type_1\n"
     ]
    },
    {
     "name": "stdout",
     "output_type": "stream",
     "text": [
      "Track information loaded and ordered according to cell type (WT IDs >0> Scr IDs\n",
      "Loaded GV0807/Pos4/\n",
      "ID GV0807_Pos4_14_GFP\n",
      "ID GV0815_Pos0_145_GFP\n",
      "Loading GV0815/Pos0/\n",
      "Btrack version no.: 0.4.0\n"
     ]
    },
    {
     "name": "stderr",
     "output_type": "stream",
     "text": [
      "[INFO][2021/03/26 02:48:57 PM] Loading objects/obj_type_1 (286968, 5) (261403 filtered: area>=100)\n",
      "[INFO][2021/03/26 02:48:59 PM] Closing HDF file: /home/nathan/data/kraken/h2b/giulia/GV0815/Pos0/Pos0_aligned/HDF/segmented.hdf5\n",
      "[INFO][2021/03/26 02:48:59 PM] Opening HDF file: /home/nathan/data/kraken/h2b/giulia/GV0815/Pos0/Pos0_aligned/HDF/segmented.hdf5...\n",
      "[INFO][2021/03/26 02:48:59 PM] Loading tracks/obj_type_2\n",
      "[INFO][2021/03/26 02:49:00 PM] Loading objects/obj_type_2 (85143, 5) (68895 filtered: area>=100)\n",
      "[INFO][2021/03/26 02:49:00 PM] Closing HDF file: /home/nathan/data/kraken/h2b/giulia/GV0815/Pos0/Pos0_aligned/HDF/segmented.hdf5\n",
      " 67%|██████▋   | 257/385 [04:02<03:59,  1.87s/it][INFO][2021/03/26 02:49:00 PM] Opening HDF file: /home/nathan/data/kraken/h2b/giulia/GV0814/Pos11/Pos11_aligned/HDF/segmented.hdf5...\n",
      "[INFO][2021/03/26 02:49:00 PM] Loading tracks/obj_type_1\n"
     ]
    },
    {
     "name": "stdout",
     "output_type": "stream",
     "text": [
      "Track information loaded and ordered according to cell type (WT IDs >0> Scr IDs\n",
      "Loaded GV0815/Pos0/\n",
      "ID GV0815_Pos0_641_GFP\n",
      "ID GV0815_Pos0_981_GFP\n",
      "ID GV0815_Pos0_42_GFP\n",
      "ID GV0815_Pos0_2046_GFP\n",
      "ID GV0815_Pos0_436_GFP\n",
      "ID GV0815_Pos0_2221_GFP\n",
      "ID GV0815_Pos0_1487_GFP\n",
      "ID GV0815_Pos0_444_GFP\n",
      "ID GV0815_Pos0_620_GFP\n",
      "ID GV0815_Pos0_1133_GFP\n",
      "ID GV0815_Pos0_949_GFP\n",
      "ID GV0814_Pos11_1120_GFP\n",
      "Loading GV0814/Pos11/\n",
      "Btrack version no.: 0.4.0\n"
     ]
    },
    {
     "name": "stderr",
     "output_type": "stream",
     "text": [
      "[INFO][2021/03/26 02:49:02 PM] Loading objects/obj_type_1 (391111, 5) (347066 filtered: area>=100)\n",
      "[INFO][2021/03/26 02:49:06 PM] Closing HDF file: /home/nathan/data/kraken/h2b/giulia/GV0814/Pos11/Pos11_aligned/HDF/segmented.hdf5\n",
      "[INFO][2021/03/26 02:49:06 PM] Opening HDF file: /home/nathan/data/kraken/h2b/giulia/GV0814/Pos11/Pos11_aligned/HDF/segmented.hdf5...\n",
      "[INFO][2021/03/26 02:49:06 PM] Loading tracks/obj_type_2\n",
      "[INFO][2021/03/26 02:49:06 PM] Loading objects/obj_type_2 (26609, 5) (20891 filtered: area>=100)\n",
      "[INFO][2021/03/26 02:49:06 PM] Closing HDF file: /home/nathan/data/kraken/h2b/giulia/GV0814/Pos11/Pos11_aligned/HDF/segmented.hdf5\n",
      " 70%|██████▉   | 269/385 [04:09<02:49,  1.46s/it][INFO][2021/03/26 02:49:06 PM] Opening HDF file: /home/nathan/data/kraken/h2b/giulia/GV0797/Pos22/Pos22_aligned/HDF/segmented.hdf5...\n",
      "[INFO][2021/03/26 02:49:06 PM] Loading tracks/obj_type_1\n"
     ]
    },
    {
     "name": "stdout",
     "output_type": "stream",
     "text": [
      "Track information loaded and ordered according to cell type (WT IDs >0> Scr IDs\n",
      "Loaded GV0814/Pos11/\n",
      "ID GV0814_Pos11_1878_GFP\n",
      "ID GV0814_Pos11_1981_GFP\n",
      "ID GV0814_Pos11_3733_GFP\n",
      "ID GV0814_Pos11_2242_GFP\n",
      "ID GV0814_Pos11_2469_GFP\n",
      "ID GV0814_Pos11_1212_GFP\n",
      "ID GV0814_Pos11_4428_GFP\n",
      "ID GV0797_Pos22_281_GFP\n",
      "Loading GV0797/Pos22/\n",
      "Btrack version no.: 0.4.0\n"
     ]
    },
    {
     "name": "stderr",
     "output_type": "stream",
     "text": [
      "[INFO][2021/03/26 02:49:06 PM] Loading objects/obj_type_1 (34660, 5) (27773 filtered: area>=100)\n",
      "[INFO][2021/03/26 02:49:07 PM] Closing HDF file: /home/nathan/data/kraken/h2b/giulia/GV0797/Pos22/Pos22_aligned/HDF/segmented.hdf5\n",
      "[INFO][2021/03/26 02:49:07 PM] Opening HDF file: /home/nathan/data/kraken/h2b/giulia/GV0797/Pos22/Pos22_aligned/HDF/segmented.hdf5...\n",
      "[INFO][2021/03/26 02:49:07 PM] Loading tracks/obj_type_2\n",
      "[INFO][2021/03/26 02:49:07 PM] Loading objects/obj_type_2 (53322, 5) (37156 filtered: area>=100)\n",
      "[INFO][2021/03/26 02:49:07 PM] Closing HDF file: /home/nathan/data/kraken/h2b/giulia/GV0797/Pos22/Pos22_aligned/HDF/segmented.hdf5\n",
      " 72%|███████▏  | 277/385 [04:10<01:54,  1.06s/it][INFO][2021/03/26 02:49:07 PM] Opening HDF file: /home/nathan/data/kraken/h2b/giulia/GV0818/Pos13/Pos13_aligned/HDF/segmented.hdf5...\n",
      "[INFO][2021/03/26 02:49:07 PM] Loading tracks/obj_type_1\n"
     ]
    },
    {
     "name": "stdout",
     "output_type": "stream",
     "text": [
      "Track information loaded and ordered according to cell type (WT IDs >0> Scr IDs\n",
      "Loaded GV0797/Pos22/\n",
      "ID GV0818_Pos13_353_GFP\n",
      "Loading GV0818/Pos13/\n",
      "Btrack version no.: 0.4.0\n"
     ]
    },
    {
     "name": "stderr",
     "output_type": "stream",
     "text": [
      "[INFO][2021/03/26 02:49:09 PM] Loading objects/obj_type_1 (380641, 5) (364472 filtered: area>=100)\n",
      "[INFO][2021/03/26 02:49:13 PM] Closing HDF file: /home/nathan/data/kraken/h2b/giulia/GV0818/Pos13/Pos13_aligned/HDF/segmented.hdf5\n",
      "[INFO][2021/03/26 02:49:13 PM] Opening HDF file: /home/nathan/data/kraken/h2b/giulia/GV0818/Pos13/Pos13_aligned/HDF/segmented.hdf5...\n",
      "[INFO][2021/03/26 02:49:13 PM] Loading tracks/obj_type_2\n",
      "[INFO][2021/03/26 02:49:13 PM] Loading objects/obj_type_2 (48215, 5) (40565 filtered: area>=100)\n",
      "[INFO][2021/03/26 02:49:14 PM] Closing HDF file: /home/nathan/data/kraken/h2b/giulia/GV0818/Pos13/Pos13_aligned/HDF/segmented.hdf5\n",
      " 72%|███████▏  | 278/385 [04:16<04:38,  2.60s/it][INFO][2021/03/26 02:49:14 PM] Opening HDF file: /home/nathan/data/kraken/h2b/giulia/GV0815/Pos11/Pos11_aligned/HDF/segmented.hdf5...\n",
      "[INFO][2021/03/26 02:49:14 PM] Loading tracks/obj_type_1\n"
     ]
    },
    {
     "name": "stdout",
     "output_type": "stream",
     "text": [
      "Track information loaded and ordered according to cell type (WT IDs >0> Scr IDs\n",
      "Loaded GV0818/Pos13/\n",
      "ID GV0818_Pos13_1205_GFP\n",
      "ID GV0818_Pos13_1365_GFP\n",
      "ID GV0818_Pos13_3452_GFP\n",
      "ID GV0818_Pos13_3451_GFP\n",
      "ID GV0815_Pos11_536_GFP\n",
      "Loading GV0815/Pos11/\n",
      "Btrack version no.: 0.4.0\n"
     ]
    },
    {
     "name": "stderr",
     "output_type": "stream",
     "text": [
      "[INFO][2021/03/26 02:49:16 PM] Loading objects/obj_type_1 (383799, 5) (364840 filtered: area>=100)\n",
      "[INFO][2021/03/26 02:49:19 PM] Closing HDF file: /home/nathan/data/kraken/h2b/giulia/GV0815/Pos11/Pos11_aligned/HDF/segmented.hdf5\n",
      "[INFO][2021/03/26 02:49:19 PM] Opening HDF file: /home/nathan/data/kraken/h2b/giulia/GV0815/Pos11/Pos11_aligned/HDF/segmented.hdf5...\n",
      "[INFO][2021/03/26 02:49:19 PM] Loading tracks/obj_type_2\n",
      "[INFO][2021/03/26 02:49:19 PM] Loading objects/obj_type_2 (61591, 5) (47352 filtered: area>=100)\n",
      "[INFO][2021/03/26 02:49:20 PM] Closing HDF file: /home/nathan/data/kraken/h2b/giulia/GV0815/Pos11/Pos11_aligned/HDF/segmented.hdf5\n",
      " 74%|███████▎  | 283/385 [04:22<03:44,  2.20s/it][INFO][2021/03/26 02:49:20 PM] Opening HDF file: /home/nathan/data/kraken/h2b/giulia/GV0795/Pos3/Pos3_aligned/HDF/segmented.hdf5...\n",
      "[INFO][2021/03/26 02:49:20 PM] Loading tracks/obj_type_1\n"
     ]
    },
    {
     "name": "stdout",
     "output_type": "stream",
     "text": [
      "Track information loaded and ordered according to cell type (WT IDs >0> Scr IDs\n",
      "Loaded GV0815/Pos11/\n",
      "ID GV0815_Pos11_255_GFP\n",
      "ID GV0815_Pos11_2851_GFP\n",
      "ID GV0815_Pos11_1379_GFP\n",
      "ID GV0795_Pos3_500_GFP\n",
      "Loading GV0795/Pos3/\n",
      "Btrack version no.: 0.4.0\n"
     ]
    },
    {
     "name": "stderr",
     "output_type": "stream",
     "text": [
      "[INFO][2021/03/26 02:49:22 PM] Loading objects/obj_type_1 (274100, 5) (263837 filtered: area>=100)\n",
      "[INFO][2021/03/26 02:49:24 PM] Closing HDF file: /home/nathan/data/kraken/h2b/giulia/GV0795/Pos3/Pos3_aligned/HDF/segmented.hdf5\n",
      "[INFO][2021/03/26 02:49:24 PM] Opening HDF file: /home/nathan/data/kraken/h2b/giulia/GV0795/Pos3/Pos3_aligned/HDF/segmented.hdf5...\n",
      "[INFO][2021/03/26 02:49:24 PM] Loading tracks/obj_type_2\n",
      "[INFO][2021/03/26 02:49:24 PM] Loading objects/obj_type_2 (16554, 5) (13970 filtered: area>=100)\n",
      "[INFO][2021/03/26 02:49:24 PM] Closing HDF file: /home/nathan/data/kraken/h2b/giulia/GV0795/Pos3/Pos3_aligned/HDF/segmented.hdf5\n",
      " 75%|███████▍  | 287/385 [04:27<03:03,  1.88s/it][INFO][2021/03/26 02:49:24 PM] Opening HDF file: /home/nathan/data/kraken/h2b/giulia/GV0798/Pos21/Pos21_aligned/HDF/segmented.hdf5...\n",
      "[INFO][2021/03/26 02:49:24 PM] Loading tracks/obj_type_1\n"
     ]
    },
    {
     "name": "stdout",
     "output_type": "stream",
     "text": [
      "Track information loaded and ordered according to cell type (WT IDs >0> Scr IDs\n",
      "Loaded GV0795/Pos3/\n",
      "ID GV0798_Pos21_9_GFP\n",
      "Loading GV0798/Pos21/\n",
      "Btrack version no.: 0.4.0\n"
     ]
    },
    {
     "name": "stderr",
     "output_type": "stream",
     "text": [
      "[INFO][2021/03/26 02:49:26 PM] Loading objects/obj_type_1 (332657, 5) (316064 filtered: area>=100)\n",
      "[INFO][2021/03/26 02:49:29 PM] Closing HDF file: /home/nathan/data/kraken/h2b/giulia/GV0798/Pos21/Pos21_aligned/HDF/segmented.hdf5\n",
      "[INFO][2021/03/26 02:49:29 PM] Opening HDF file: /home/nathan/data/kraken/h2b/giulia/GV0798/Pos21/Pos21_aligned/HDF/segmented.hdf5...\n",
      "[INFO][2021/03/26 02:49:29 PM] Loading tracks/obj_type_2\n",
      "[INFO][2021/03/26 02:49:29 PM] Loading objects/obj_type_2 (59184, 5) (40538 filtered: area>=100)\n",
      "[INFO][2021/03/26 02:49:30 PM] Closing HDF file: /home/nathan/data/kraken/h2b/giulia/GV0798/Pos21/Pos21_aligned/HDF/segmented.hdf5\n",
      " 75%|███████▍  | 288/385 [04:32<04:51,  3.00s/it][INFO][2021/03/26 02:49:30 PM] Opening HDF file: /home/nathan/data/kraken/h2b/giulia/GV0818/Pos12/Pos12_aligned/HDF/segmented.hdf5...\n",
      "[INFO][2021/03/26 02:49:30 PM] Loading tracks/obj_type_1\n"
     ]
    },
    {
     "name": "stdout",
     "output_type": "stream",
     "text": [
      "Track information loaded and ordered according to cell type (WT IDs >0> Scr IDs\n",
      "Loaded GV0798/Pos21/\n",
      "ID GV0798_Pos21_39_GFP\n",
      "ID GV0798_Pos21_417_GFP\n",
      "ID GV0818_Pos12_187_GFP\n",
      "Loading GV0818/Pos12/\n",
      "Btrack version no.: 0.4.0\n"
     ]
    },
    {
     "name": "stderr",
     "output_type": "stream",
     "text": [
      "[INFO][2021/03/26 02:49:31 PM] Loading objects/obj_type_1 (238100, 5) (221047 filtered: area>=100)\n",
      "[INFO][2021/03/26 02:49:33 PM] Closing HDF file: /home/nathan/data/kraken/h2b/giulia/GV0818/Pos12/Pos12_aligned/HDF/segmented.hdf5\n",
      "[INFO][2021/03/26 02:49:33 PM] Opening HDF file: /home/nathan/data/kraken/h2b/giulia/GV0818/Pos12/Pos12_aligned/HDF/segmented.hdf5...\n",
      "[INFO][2021/03/26 02:49:33 PM] Loading tracks/obj_type_2\n",
      "[INFO][2021/03/26 02:49:34 PM] Loading objects/obj_type_2 (70950, 5) (59685 filtered: area>=100)\n",
      "[INFO][2021/03/26 02:49:34 PM] Closing HDF file: /home/nathan/data/kraken/h2b/giulia/GV0818/Pos12/Pos12_aligned/HDF/segmented.hdf5\n",
      " 76%|███████▌  | 291/385 [04:37<03:57,  2.52s/it][INFO][2021/03/26 02:49:34 PM] Opening HDF file: /home/nathan/data/kraken/h2b/giulia/GV0802/Pos3/Pos3_aligned/HDF/segmented.hdf5...\n",
      "[INFO][2021/03/26 02:49:34 PM] Loading tracks/obj_type_1\n"
     ]
    },
    {
     "name": "stdout",
     "output_type": "stream",
     "text": [
      "Track information loaded and ordered according to cell type (WT IDs >0> Scr IDs\n",
      "Loaded GV0818/Pos12/\n",
      "ID GV0818_Pos12_378_GFP\n",
      "ID GV0818_Pos12_863_GFP\n",
      "ID GV0818_Pos12_932_GFP\n",
      "ID GV0818_Pos12_933_GFP\n",
      "ID GV0818_Pos12_1099_GFP\n",
      "ID GV0818_Pos12_957_GFP\n",
      "ID GV0818_Pos12_1928_GFP\n",
      "ID GV0818_Pos12_2092_GFP\n",
      "ID GV0818_Pos12_1715_GFP\n",
      "ID GV0818_Pos12_1714_GFP\n",
      "ID GV0818_Pos12_1360_GFP\n",
      "ID GV0818_Pos12_2659_GFP\n",
      "ID GV0818_Pos12_98_GFP\n",
      "ID GV0818_Pos12_1463_GFP\n",
      "ID GV0802_Pos3_2411_GFP\n",
      "Loading GV0802/Pos3/\n",
      "Btrack version no.: 0.4.0\n"
     ]
    },
    {
     "name": "stderr",
     "output_type": "stream",
     "text": [
      "[INFO][2021/03/26 02:49:38 PM] Loading objects/obj_type_1 (660140, 5) (631868 filtered: area>=100)\n",
      "[INFO][2021/03/26 02:49:44 PM] Closing HDF file: /home/nathan/data/kraken/h2b/giulia/GV0802/Pos3/Pos3_aligned/HDF/segmented.hdf5\n",
      "[INFO][2021/03/26 02:49:44 PM] Opening HDF file: /home/nathan/data/kraken/h2b/giulia/GV0802/Pos3/Pos3_aligned/HDF/segmented.hdf5...\n",
      "[INFO][2021/03/26 02:49:44 PM] Loading tracks/obj_type_2\n",
      "[INFO][2021/03/26 02:49:44 PM] Loading objects/obj_type_2 (23947, 5) (20889 filtered: area>=100)\n",
      "[INFO][2021/03/26 02:49:44 PM] Closing HDF file: /home/nathan/data/kraken/h2b/giulia/GV0802/Pos3/Pos3_aligned/HDF/segmented.hdf5\n",
      " 79%|███████▉  | 306/385 [04:47<02:35,  1.97s/it][INFO][2021/03/26 02:49:44 PM] Opening HDF file: /home/nathan/data/kraken/h2b/giulia/GV0797/Pos18/Pos18_aligned/HDF/segmented.hdf5...\n",
      "[INFO][2021/03/26 02:49:44 PM] Loading tracks/obj_type_1\n"
     ]
    },
    {
     "name": "stdout",
     "output_type": "stream",
     "text": [
      "Track information loaded and ordered according to cell type (WT IDs >0> Scr IDs\n",
      "Loaded GV0802/Pos3/\n",
      "ID GV0797_Pos18_833_GFP\n",
      "Loading GV0797/Pos18/\n",
      "Btrack version no.: 0.4.0\n"
     ]
    },
    {
     "name": "stderr",
     "output_type": "stream",
     "text": [
      "[INFO][2021/03/26 02:49:46 PM] Loading objects/obj_type_1 (274136, 5) (262171 filtered: area>=100)\n",
      "[INFO][2021/03/26 02:49:48 PM] Closing HDF file: /home/nathan/data/kraken/h2b/giulia/GV0797/Pos18/Pos18_aligned/HDF/segmented.hdf5\n",
      "[INFO][2021/03/26 02:49:48 PM] Opening HDF file: /home/nathan/data/kraken/h2b/giulia/GV0797/Pos18/Pos18_aligned/HDF/segmented.hdf5...\n",
      "[INFO][2021/03/26 02:49:48 PM] Loading tracks/obj_type_2\n",
      "[INFO][2021/03/26 02:49:48 PM] Loading objects/obj_type_2 (17638, 5) (13852 filtered: area>=100)\n",
      "[INFO][2021/03/26 02:49:49 PM] Closing HDF file: /home/nathan/data/kraken/h2b/giulia/GV0797/Pos18/Pos18_aligned/HDF/segmented.hdf5\n",
      " 80%|███████▉  | 307/385 [04:51<03:30,  2.70s/it][INFO][2021/03/26 02:49:49 PM] Opening HDF file: /home/nathan/data/kraken/h2b/giulia/GV0817/Pos11/Pos11_aligned/HDF/segmented.hdf5...\n",
      "[INFO][2021/03/26 02:49:49 PM] Loading tracks/obj_type_1\n"
     ]
    },
    {
     "name": "stdout",
     "output_type": "stream",
     "text": [
      "Track information loaded and ordered according to cell type (WT IDs >0> Scr IDs\n",
      "Loaded GV0797/Pos18/\n",
      "ID GV0797_Pos18_706_GFP\n",
      "ID GV0797_Pos18_1303_GFP\n",
      "ID GV0797_Pos18_1302_GFP\n",
      "ID GV0797_Pos18_1422_GFP\n",
      "ID GV0817_Pos11_141_GFP\n",
      "Loading GV0817/Pos11/\n",
      "Btrack version no.: 0.4.0\n"
     ]
    },
    {
     "name": "stderr",
     "output_type": "stream",
     "text": [
      "[INFO][2021/03/26 02:49:50 PM] Loading objects/obj_type_1 (278388, 5) (263033 filtered: area>=100)\n",
      "[INFO][2021/03/26 02:49:53 PM] Closing HDF file: /home/nathan/data/kraken/h2b/giulia/GV0817/Pos11/Pos11_aligned/HDF/segmented.hdf5\n",
      "[INFO][2021/03/26 02:49:53 PM] Opening HDF file: /home/nathan/data/kraken/h2b/giulia/GV0817/Pos11/Pos11_aligned/HDF/segmented.hdf5...\n",
      "[INFO][2021/03/26 02:49:53 PM] Loading tracks/obj_type_2\n",
      "[INFO][2021/03/26 02:49:53 PM] Loading objects/obj_type_2 (103313, 5) (85256 filtered: area>=100)\n",
      "[INFO][2021/03/26 02:49:54 PM] Closing HDF file: /home/nathan/data/kraken/h2b/giulia/GV0817/Pos11/Pos11_aligned/HDF/segmented.hdf5\n",
      " 81%|████████  | 312/385 [04:57<02:42,  2.22s/it][INFO][2021/03/26 02:49:54 PM] Opening HDF file: /home/nathan/data/kraken/h2b/giulia/GV0797/Pos5/Pos5_aligned/HDF/segmented.hdf5...\n",
      "[INFO][2021/03/26 02:49:54 PM] Loading tracks/obj_type_1\n"
     ]
    },
    {
     "name": "stdout",
     "output_type": "stream",
     "text": [
      "Track information loaded and ordered according to cell type (WT IDs >0> Scr IDs\n",
      "Loaded GV0817/Pos11/\n",
      "ID GV0817_Pos11_944_GFP\n",
      "ID GV0817_Pos11_393_GFP\n",
      "ID GV0817_Pos11_2358_GFP\n",
      "ID GV0797_Pos5_971_GFP\n",
      "Loading GV0797/Pos5/\n",
      "Btrack version no.: 0.4.0\n"
     ]
    },
    {
     "name": "stderr",
     "output_type": "stream",
     "text": [
      "[INFO][2021/03/26 02:49:55 PM] Loading objects/obj_type_1 (83742, 5) (65837 filtered: area>=100)\n",
      "[INFO][2021/03/26 02:49:55 PM] Closing HDF file: /home/nathan/data/kraken/h2b/giulia/GV0797/Pos5/Pos5_aligned/HDF/segmented.hdf5\n",
      "[INFO][2021/03/26 02:49:55 PM] Opening HDF file: /home/nathan/data/kraken/h2b/giulia/GV0797/Pos5/Pos5_aligned/HDF/segmented.hdf5...\n",
      "[INFO][2021/03/26 02:49:55 PM] Loading tracks/obj_type_2\n",
      "[INFO][2021/03/26 02:49:55 PM] Loading objects/obj_type_2 (22517, 5) (15314 filtered: area>=100)\n",
      "[INFO][2021/03/26 02:49:56 PM] Closing HDF file: /home/nathan/data/kraken/h2b/giulia/GV0797/Pos5/Pos5_aligned/HDF/segmented.hdf5\n",
      " 82%|████████▏ | 316/385 [04:58<01:54,  1.66s/it][INFO][2021/03/26 02:49:56 PM] Opening HDF file: /home/nathan/data/kraken/h2b/giulia/GV0797/Pos20/Pos20_aligned/HDF/segmented.hdf5...\n",
      "[INFO][2021/03/26 02:49:56 PM] Loading tracks/obj_type_1\n"
     ]
    },
    {
     "name": "stdout",
     "output_type": "stream",
     "text": [
      "Track information loaded and ordered according to cell type (WT IDs >0> Scr IDs\n",
      "Loaded GV0797/Pos5/\n",
      "ID GV0797_Pos5_741_GFP\n",
      "ID GV0797_Pos5_742_GFP\n",
      "ID GV0797_Pos20_92_GFP\n",
      "Loading GV0797/Pos20/\n",
      "Btrack version no.: 0.4.0\n"
     ]
    },
    {
     "name": "stderr",
     "output_type": "stream",
     "text": [
      "[INFO][2021/03/26 02:49:57 PM] Loading objects/obj_type_1 (193103, 5) (183703 filtered: area>=100)\n",
      "[INFO][2021/03/26 02:49:58 PM] Closing HDF file: /home/nathan/data/kraken/h2b/giulia/GV0797/Pos20/Pos20_aligned/HDF/segmented.hdf5\n",
      "[INFO][2021/03/26 02:49:58 PM] Opening HDF file: /home/nathan/data/kraken/h2b/giulia/GV0797/Pos20/Pos20_aligned/HDF/segmented.hdf5...\n",
      "[INFO][2021/03/26 02:49:58 PM] Loading tracks/obj_type_2\n",
      "[INFO][2021/03/26 02:49:58 PM] Loading objects/obj_type_2 (12311, 5) (8874 filtered: area>=100)\n",
      "[INFO][2021/03/26 02:49:59 PM] Closing HDF file: /home/nathan/data/kraken/h2b/giulia/GV0797/Pos20/Pos20_aligned/HDF/segmented.hdf5\n",
      " 83%|████████▎ | 319/385 [05:01<01:35,  1.45s/it][INFO][2021/03/26 02:49:59 PM] Opening HDF file: /home/nathan/data/kraken/h2b/giulia/GV0794/Pos7/Pos7_aligned/HDF/segmented.hdf5...\n",
      "[INFO][2021/03/26 02:49:59 PM] Loading tracks/obj_type_1\n"
     ]
    },
    {
     "name": "stdout",
     "output_type": "stream",
     "text": [
      "Track information loaded and ordered according to cell type (WT IDs >0> Scr IDs\n",
      "Loaded GV0797/Pos20/\n",
      "ID GV0797_Pos20_39_GFP\n",
      "ID GV0797_Pos20_662_GFP\n",
      "ID GV0797_Pos20_880_GFP\n",
      "ID GV0794_Pos7_364_GFP\n",
      "Loading GV0794/Pos7/\n",
      "Btrack version no.: 0.4.0\n"
     ]
    },
    {
     "name": "stderr",
     "output_type": "stream",
     "text": [
      "[INFO][2021/03/26 02:49:59 PM] Loading objects/obj_type_1 (110774, 5) (102450 filtered: area>=100)\n",
      "[INFO][2021/03/26 02:50:00 PM] Closing HDF file: /home/nathan/data/kraken/h2b/giulia/GV0794/Pos7/Pos7_aligned/HDF/segmented.hdf5\n",
      "[INFO][2021/03/26 02:50:00 PM] Opening HDF file: /home/nathan/data/kraken/h2b/giulia/GV0794/Pos7/Pos7_aligned/HDF/segmented.hdf5...\n",
      "[INFO][2021/03/26 02:50:00 PM] Loading tracks/obj_type_2\n",
      "[INFO][2021/03/26 02:50:00 PM] Loading objects/obj_type_2 (20793, 5) (17016 filtered: area>=100)\n",
      "[INFO][2021/03/26 02:50:00 PM] Closing HDF file: /home/nathan/data/kraken/h2b/giulia/GV0794/Pos7/Pos7_aligned/HDF/segmented.hdf5\n",
      " 84%|████████▍ | 323/385 [05:03<01:11,  1.15s/it][INFO][2021/03/26 02:50:00 PM] Opening HDF file: /home/nathan/data/kraken/h2b/giulia/GV0816/Pos0/Pos0_aligned/HDF/segmented.hdf5...\n",
      "[INFO][2021/03/26 02:50:00 PM] Loading tracks/obj_type_1\n"
     ]
    },
    {
     "name": "stdout",
     "output_type": "stream",
     "text": [
      "Track information loaded and ordered according to cell type (WT IDs >0> Scr IDs\n",
      "Loaded GV0794/Pos7/\n",
      "ID GV0794_Pos7_457_GFP\n",
      "ID GV0794_Pos7_369_GFP\n",
      "ID GV0794_Pos7_292_GFP\n",
      "ID GV0816_Pos0_416_GFP\n",
      "Loading GV0816/Pos0/\n",
      "Btrack version no.: 0.4.0\n"
     ]
    },
    {
     "name": "stderr",
     "output_type": "stream",
     "text": [
      "[INFO][2021/03/26 02:50:01 PM] Loading objects/obj_type_1 (90368, 5) (81699 filtered: area>=100)\n",
      "[INFO][2021/03/26 02:50:01 PM] Closing HDF file: /home/nathan/data/kraken/h2b/giulia/GV0816/Pos0/Pos0_aligned/HDF/segmented.hdf5\n",
      "[INFO][2021/03/26 02:50:01 PM] Opening HDF file: /home/nathan/data/kraken/h2b/giulia/GV0816/Pos0/Pos0_aligned/HDF/segmented.hdf5...\n",
      "[INFO][2021/03/26 02:50:01 PM] Loading tracks/obj_type_2\n",
      "[INFO][2021/03/26 02:50:02 PM] Loading objects/obj_type_2 (24057, 5) (17173 filtered: area>=100)\n",
      "[INFO][2021/03/26 02:50:02 PM] Closing HDF file: /home/nathan/data/kraken/h2b/giulia/GV0816/Pos0/Pos0_aligned/HDF/segmented.hdf5\n",
      " 85%|████████▍ | 327/385 [05:04<00:53,  1.08it/s][INFO][2021/03/26 02:50:02 PM] Opening HDF file: /home/nathan/data/kraken/h2b/giulia/GV0798/Pos8/Pos8_aligned/HDF/segmented.hdf5...\n",
      "[INFO][2021/03/26 02:50:02 PM] Loading tracks/obj_type_1\n"
     ]
    },
    {
     "name": "stdout",
     "output_type": "stream",
     "text": [
      "Track information loaded and ordered according to cell type (WT IDs >0> Scr IDs\n",
      "Loaded GV0816/Pos0/\n",
      "ID GV0816_Pos0_668_GFP\n",
      "ID GV0798_Pos8_1325_GFP\n",
      "Loading GV0798/Pos8/\n",
      "Btrack version no.: 0.4.0\n"
     ]
    },
    {
     "name": "stderr",
     "output_type": "stream",
     "text": [
      "[INFO][2021/03/26 02:50:04 PM] Loading objects/obj_type_1 (286320, 5) (277358 filtered: area>=100)\n",
      "[INFO][2021/03/26 02:50:06 PM] Closing HDF file: /home/nathan/data/kraken/h2b/giulia/GV0798/Pos8/Pos8_aligned/HDF/segmented.hdf5\n",
      "[INFO][2021/03/26 02:50:06 PM] Opening HDF file: /home/nathan/data/kraken/h2b/giulia/GV0798/Pos8/Pos8_aligned/HDF/segmented.hdf5...\n",
      "[INFO][2021/03/26 02:50:06 PM] Loading tracks/obj_type_2\n",
      "[INFO][2021/03/26 02:50:06 PM] Loading objects/obj_type_2 (9028, 5) (8305 filtered: area>=100)\n",
      "[INFO][2021/03/26 02:50:06 PM] Closing HDF file: /home/nathan/data/kraken/h2b/giulia/GV0798/Pos8/Pos8_aligned/HDF/segmented.hdf5\n",
      " 85%|████████▌ | 329/385 [05:08<01:11,  1.27s/it][INFO][2021/03/26 02:50:06 PM] Opening HDF file: /home/nathan/data/kraken/h2b/giulia/GV0798/Pos4/Pos4_aligned/HDF/segmented.hdf5...\n",
      "[INFO][2021/03/26 02:50:06 PM] Loading tracks/obj_type_1\n"
     ]
    },
    {
     "name": "stdout",
     "output_type": "stream",
     "text": [
      "Track information loaded and ordered according to cell type (WT IDs >0> Scr IDs\n",
      "Loaded GV0798/Pos8/\n",
      "ID GV0798_Pos4_1955_GFP\n",
      "Loading GV0798/Pos4/\n",
      "Btrack version no.: 0.4.0\n"
     ]
    },
    {
     "name": "stderr",
     "output_type": "stream",
     "text": [
      "[INFO][2021/03/26 02:50:07 PM] Loading objects/obj_type_1 (233782, 5) (224796 filtered: area>=100)\n",
      "[INFO][2021/03/26 02:50:10 PM] Closing HDF file: /home/nathan/data/kraken/h2b/giulia/GV0798/Pos4/Pos4_aligned/HDF/segmented.hdf5\n",
      "[INFO][2021/03/26 02:50:10 PM] Opening HDF file: /home/nathan/data/kraken/h2b/giulia/GV0798/Pos4/Pos4_aligned/HDF/segmented.hdf5...\n",
      "[INFO][2021/03/26 02:50:10 PM] Loading tracks/obj_type_2\n",
      "[INFO][2021/03/26 02:50:10 PM] Loading objects/obj_type_2 (33185, 5) (26688 filtered: area>=100)\n",
      "[INFO][2021/03/26 02:50:10 PM] Closing HDF file: /home/nathan/data/kraken/h2b/giulia/GV0798/Pos4/Pos4_aligned/HDF/segmented.hdf5\n",
      " 86%|████████▌ | 330/385 [05:12<01:53,  2.06s/it][INFO][2021/03/26 02:50:10 PM] Opening HDF file: /home/nathan/data/kraken/h2b/giulia/GV0816/Pos13/Pos13_aligned/HDF/segmented.hdf5...\n",
      "[INFO][2021/03/26 02:50:10 PM] Loading tracks/obj_type_1\n"
     ]
    },
    {
     "name": "stdout",
     "output_type": "stream",
     "text": [
      "Track information loaded and ordered according to cell type (WT IDs >0> Scr IDs\n",
      "Loaded GV0798/Pos4/\n",
      "ID GV0816_Pos13_39_GFP\n",
      "Loading GV0816/Pos13/\n",
      "Btrack version no.: 0.4.0\n"
     ]
    },
    {
     "name": "stderr",
     "output_type": "stream",
     "text": [
      "[INFO][2021/03/26 02:50:11 PM] Loading objects/obj_type_1 (115677, 5) (105175 filtered: area>=100)\n",
      "[INFO][2021/03/26 02:50:12 PM] Closing HDF file: /home/nathan/data/kraken/h2b/giulia/GV0816/Pos13/Pos13_aligned/HDF/segmented.hdf5\n",
      "[INFO][2021/03/26 02:50:12 PM] Opening HDF file: /home/nathan/data/kraken/h2b/giulia/GV0816/Pos13/Pos13_aligned/HDF/segmented.hdf5...\n",
      "[INFO][2021/03/26 02:50:12 PM] Loading tracks/obj_type_2\n",
      "[INFO][2021/03/26 02:50:12 PM] Loading objects/obj_type_2 (55169, 5) (45321 filtered: area>=100)\n",
      "[INFO][2021/03/26 02:50:12 PM] Closing HDF file: /home/nathan/data/kraken/h2b/giulia/GV0816/Pos13/Pos13_aligned/HDF/segmented.hdf5\n",
      " 86%|████████▌ | 331/385 [05:15<01:57,  2.19s/it][INFO][2021/03/26 02:50:12 PM] Opening HDF file: /home/nathan/data/kraken/h2b/giulia/GV0800/Pos16/Pos16_aligned/HDF/segmented.hdf5...\n",
      "[INFO][2021/03/26 02:50:12 PM] Loading tracks/obj_type_1\n"
     ]
    },
    {
     "name": "stdout",
     "output_type": "stream",
     "text": [
      "Track information loaded and ordered according to cell type (WT IDs >0> Scr IDs\n",
      "Loaded GV0816/Pos13/\n",
      "ID GV0816_Pos13_25_GFP\n",
      "ID GV0800_Pos16_327_GFP\n",
      "Loading GV0800/Pos16/\n",
      "Btrack version no.: 0.4.0\n"
     ]
    },
    {
     "name": "stderr",
     "output_type": "stream",
     "text": [
      "[INFO][2021/03/26 02:50:15 PM] Loading objects/obj_type_1 (361372, 5) (345214 filtered: area>=100)\n",
      "[INFO][2021/03/26 02:50:18 PM] Closing HDF file: /home/nathan/data/kraken/h2b/giulia/GV0800/Pos16/Pos16_aligned/HDF/segmented.hdf5\n",
      "[INFO][2021/03/26 02:50:18 PM] Opening HDF file: /home/nathan/data/kraken/h2b/giulia/GV0800/Pos16/Pos16_aligned/HDF/segmented.hdf5...\n",
      "[INFO][2021/03/26 02:50:18 PM] Loading tracks/obj_type_2\n",
      "[INFO][2021/03/26 02:50:18 PM] Loading objects/obj_type_2 (88705, 5) (75574 filtered: area>=100)\n",
      "[INFO][2021/03/26 02:50:19 PM] Closing HDF file: /home/nathan/data/kraken/h2b/giulia/GV0800/Pos16/Pos16_aligned/HDF/segmented.hdf5\n",
      " 86%|████████▋ | 333/385 [05:21<02:08,  2.47s/it][INFO][2021/03/26 02:50:19 PM] Opening HDF file: /home/nathan/data/kraken/h2b/giulia/GV0819/Pos5/Pos5_aligned/HDF/segmented.hdf5...\n",
      "[INFO][2021/03/26 02:50:19 PM] Loading tracks/obj_type_1\n"
     ]
    },
    {
     "name": "stdout",
     "output_type": "stream",
     "text": [
      "Track information loaded and ordered according to cell type (WT IDs >0> Scr IDs\n",
      "Loaded GV0800/Pos16/\n",
      "ID GV0800_Pos16_259_GFP\n",
      "ID GV0800_Pos16_265_GFP\n",
      "ID GV0800_Pos16_1376_GFP\n",
      "ID GV0800_Pos16_719_GFP\n",
      "ID GV0800_Pos16_720_GFP\n",
      "ID GV0819_Pos5_1411_GFP\n",
      "Loading GV0819/Pos5/\n",
      "Btrack version no.: 0.4.0\n"
     ]
    },
    {
     "name": "stderr",
     "output_type": "stream",
     "text": [
      "[INFO][2021/03/26 02:50:21 PM] Loading objects/obj_type_1 (305714, 5) (290346 filtered: area>=100)\n",
      "[INFO][2021/03/26 02:50:23 PM] Closing HDF file: /home/nathan/data/kraken/h2b/giulia/GV0819/Pos5/Pos5_aligned/HDF/segmented.hdf5\n",
      "[INFO][2021/03/26 02:50:23 PM] Opening HDF file: /home/nathan/data/kraken/h2b/giulia/GV0819/Pos5/Pos5_aligned/HDF/segmented.hdf5...\n",
      "[INFO][2021/03/26 02:50:23 PM] Loading tracks/obj_type_2\n",
      "[INFO][2021/03/26 02:50:24 PM] Loading objects/obj_type_2 (84463, 5) (70183 filtered: area>=100)\n",
      "[INFO][2021/03/26 02:50:24 PM] Closing HDF file: /home/nathan/data/kraken/h2b/giulia/GV0819/Pos5/Pos5_aligned/HDF/segmented.hdf5\n",
      " 88%|████████▊ | 339/385 [05:27<01:32,  2.01s/it][INFO][2021/03/26 02:50:24 PM] Opening HDF file: /home/nathan/data/kraken/h2b/giulia/GV0805/Pos4/Pos4_aligned/HDF/segmented.hdf5...\n",
      "[INFO][2021/03/26 02:50:24 PM] Loading tracks/obj_type_1\n"
     ]
    },
    {
     "name": "stdout",
     "output_type": "stream",
     "text": [
      "Track information loaded and ordered according to cell type (WT IDs >0> Scr IDs\n",
      "Loaded GV0819/Pos5/\n",
      "ID GV0819_Pos5_1374_GFP\n",
      "ID GV0819_Pos5_1098_GFP\n",
      "ID GV0805_Pos4_282_GFP\n",
      "Loading GV0805/Pos4/\n",
      "Btrack version no.: 0.4.0\n"
     ]
    },
    {
     "name": "stderr",
     "output_type": "stream",
     "text": [
      "[INFO][2021/03/26 02:50:26 PM] Loading objects/obj_type_1 (349354, 5) (331443 filtered: area>=100)\n",
      "[INFO][2021/03/26 02:50:30 PM] Closing HDF file: /home/nathan/data/kraken/h2b/giulia/GV0805/Pos4/Pos4_aligned/HDF/segmented.hdf5\n",
      "[INFO][2021/03/26 02:50:30 PM] Opening HDF file: /home/nathan/data/kraken/h2b/giulia/GV0805/Pos4/Pos4_aligned/HDF/segmented.hdf5...\n",
      "[INFO][2021/03/26 02:50:30 PM] Loading tracks/obj_type_2\n",
      "[INFO][2021/03/26 02:50:30 PM] Loading objects/obj_type_2 (54322, 5) (47931 filtered: area>=100)\n",
      "[INFO][2021/03/26 02:50:30 PM] Closing HDF file: /home/nathan/data/kraken/h2b/giulia/GV0805/Pos4/Pos4_aligned/HDF/segmented.hdf5\n",
      " 89%|████████▉ | 342/385 [05:33<01:26,  2.00s/it][INFO][2021/03/26 02:50:30 PM] Opening HDF file: /home/nathan/data/kraken/h2b/giulia/GV0796/Pos4/Pos4_aligned/HDF/segmented.hdf5...\n",
      "[INFO][2021/03/26 02:50:30 PM] Loading tracks/obj_type_1\n"
     ]
    },
    {
     "name": "stdout",
     "output_type": "stream",
     "text": [
      "Track information loaded and ordered according to cell type (WT IDs >0> Scr IDs\n",
      "Loaded GV0805/Pos4/\n",
      "ID GV0805_Pos4_686_GFP\n",
      "ID GV0805_Pos4_456_GFP\n",
      "ID GV0796_Pos4_542_GFP\n",
      "Loading GV0796/Pos4/\n",
      "Btrack version no.: 0.4.0\n"
     ]
    },
    {
     "name": "stderr",
     "output_type": "stream",
     "text": [
      "[INFO][2021/03/26 02:50:33 PM] Loading objects/obj_type_1 (441082, 5) (424178 filtered: area>=100)\n",
      "[INFO][2021/03/26 02:50:37 PM] Closing HDF file: /home/nathan/data/kraken/h2b/giulia/GV0796/Pos4/Pos4_aligned/HDF/segmented.hdf5\n",
      "[INFO][2021/03/26 02:50:37 PM] Opening HDF file: /home/nathan/data/kraken/h2b/giulia/GV0796/Pos4/Pos4_aligned/HDF/segmented.hdf5...\n",
      "[INFO][2021/03/26 02:50:37 PM] Loading tracks/obj_type_2\n",
      "[INFO][2021/03/26 02:50:37 PM] Loading objects/obj_type_2 (72743, 5) (60501 filtered: area>=100)\n",
      "[INFO][2021/03/26 02:50:38 PM] Closing HDF file: /home/nathan/data/kraken/h2b/giulia/GV0796/Pos4/Pos4_aligned/HDF/segmented.hdf5\n",
      " 90%|████████▉ | 345/385 [05:40<01:26,  2.17s/it][INFO][2021/03/26 02:50:38 PM] Opening HDF file: /home/nathan/data/kraken/h2b/giulia/GV0794/Pos5/Pos5_aligned/HDF/segmented.hdf5...\n",
      "[INFO][2021/03/26 02:50:38 PM] Loading tracks/obj_type_1\n"
     ]
    },
    {
     "name": "stdout",
     "output_type": "stream",
     "text": [
      "Track information loaded and ordered according to cell type (WT IDs >0> Scr IDs\n",
      "Loaded GV0796/Pos4/\n",
      "ID GV0796_Pos4_1334_GFP\n",
      "ID GV0796_Pos4_1586_GFP\n",
      "ID GV0796_Pos4_1748_GFP\n",
      "ID GV0796_Pos4_2589_GFP\n",
      "ID GV0796_Pos4_723_GFP\n",
      "ID GV0796_Pos4_2259_GFP\n",
      "ID GV0794_Pos5_1_GFP\n",
      "Loading GV0794/Pos5/\n",
      "Btrack version no.: 0.4.0\n"
     ]
    },
    {
     "name": "stderr",
     "output_type": "stream",
     "text": [
      "[INFO][2021/03/26 02:50:38 PM] Loading objects/obj_type_1 (31315, 5) (20377 filtered: area>=100)\n",
      "[INFO][2021/03/26 02:50:38 PM] Closing HDF file: /home/nathan/data/kraken/h2b/giulia/GV0794/Pos5/Pos5_aligned/HDF/segmented.hdf5\n",
      "[INFO][2021/03/26 02:50:38 PM] Opening HDF file: /home/nathan/data/kraken/h2b/giulia/GV0794/Pos5/Pos5_aligned/HDF/segmented.hdf5...\n",
      "[INFO][2021/03/26 02:50:38 PM] Loading tracks/obj_type_2\n",
      "[INFO][2021/03/26 02:50:39 PM] Loading objects/obj_type_2 (61992, 5) (46754 filtered: area>=100)\n",
      "[INFO][2021/03/26 02:50:39 PM] Closing HDF file: /home/nathan/data/kraken/h2b/giulia/GV0794/Pos5/Pos5_aligned/HDF/segmented.hdf5\n",
      " 91%|█████████▏| 352/385 [05:42<00:52,  1.58s/it][INFO][2021/03/26 02:50:39 PM] Opening HDF file: /home/nathan/data/kraken/h2b/giulia/GV0817/Pos23/Pos23_aligned/HDF/segmented.hdf5...\n",
      "[INFO][2021/03/26 02:50:39 PM] Loading tracks/obj_type_1\n"
     ]
    },
    {
     "name": "stdout",
     "output_type": "stream",
     "text": [
      "Track information loaded and ordered according to cell type (WT IDs >0> Scr IDs\n",
      "Loaded GV0794/Pos5/\n",
      "ID GV0817_Pos23_22_GFP\n",
      "Loading GV0817/Pos23/\n",
      "Btrack version no.: 0.4.0\n"
     ]
    },
    {
     "name": "stderr",
     "output_type": "stream",
     "text": [
      "[INFO][2021/03/26 02:50:42 PM] Loading objects/obj_type_1 (450270, 5) (428734 filtered: area>=100)\n",
      "[INFO][2021/03/26 02:50:46 PM] Closing HDF file: /home/nathan/data/kraken/h2b/giulia/GV0817/Pos23/Pos23_aligned/HDF/segmented.hdf5\n",
      "[INFO][2021/03/26 02:50:46 PM] Opening HDF file: /home/nathan/data/kraken/h2b/giulia/GV0817/Pos23/Pos23_aligned/HDF/segmented.hdf5...\n",
      "[INFO][2021/03/26 02:50:46 PM] Loading tracks/obj_type_2\n",
      "[INFO][2021/03/26 02:50:46 PM] Loading objects/obj_type_2 (96198, 5) (80996 filtered: area>=100)\n",
      "[INFO][2021/03/26 02:50:47 PM] Closing HDF file: /home/nathan/data/kraken/h2b/giulia/GV0817/Pos23/Pos23_aligned/HDF/segmented.hdf5\n",
      " 92%|█████████▏| 353/385 [05:49<01:47,  3.36s/it][INFO][2021/03/26 02:50:47 PM] Opening HDF file: /home/nathan/data/kraken/h2b/giulia/GV0796/Pos8/Pos8_aligned/HDF/segmented.hdf5...\n",
      "[INFO][2021/03/26 02:50:47 PM] Loading tracks/obj_type_1\n"
     ]
    },
    {
     "name": "stdout",
     "output_type": "stream",
     "text": [
      "Track information loaded and ordered according to cell type (WT IDs >0> Scr IDs\n",
      "Loaded GV0817/Pos23/\n",
      "ID GV0817_Pos23_389_GFP\n",
      "ID GV0817_Pos23_967_GFP\n",
      "ID GV0817_Pos23_216_GFP\n",
      "ID GV0817_Pos23_1183_GFP\n",
      "ID GV0817_Pos23_13_GFP\n",
      "ID GV0817_Pos23_3375_GFP\n",
      "ID GV0817_Pos23_2410_GFP\n",
      "ID GV0817_Pos23_4109_GFP\n",
      "ID GV0817_Pos23_2771_GFP\n",
      "ID GV0817_Pos23_3290_GFP\n",
      "ID GV0796_Pos8_41_GFP\n",
      "Loading GV0796/Pos8/\n",
      "Btrack version no.: 0.4.0\n"
     ]
    },
    {
     "name": "stderr",
     "output_type": "stream",
     "text": [
      "[INFO][2021/03/26 02:50:50 PM] Loading objects/obj_type_1 (459180, 5) (445430 filtered: area>=100)\n",
      "[INFO][2021/03/26 02:50:54 PM] Closing HDF file: /home/nathan/data/kraken/h2b/giulia/GV0796/Pos8/Pos8_aligned/HDF/segmented.hdf5\n",
      "[INFO][2021/03/26 02:50:54 PM] Opening HDF file: /home/nathan/data/kraken/h2b/giulia/GV0796/Pos8/Pos8_aligned/HDF/segmented.hdf5...\n",
      "[INFO][2021/03/26 02:50:54 PM] Loading tracks/obj_type_2\n",
      "[INFO][2021/03/26 02:50:54 PM] Loading objects/obj_type_2 (10613, 5) (8656 filtered: area>=100)\n",
      "[INFO][2021/03/26 02:50:54 PM] Closing HDF file: /home/nathan/data/kraken/h2b/giulia/GV0796/Pos8/Pos8_aligned/HDF/segmented.hdf5\n",
      " 95%|█████████▍| 364/385 [05:57<00:53,  2.56s/it][INFO][2021/03/26 02:50:55 PM] Opening HDF file: /home/nathan/data/kraken/h2b/giulia/GV0797/Pos23/Pos23_aligned/HDF/segmented.hdf5...\n",
      "[INFO][2021/03/26 02:50:55 PM] Loading tracks/obj_type_1\n",
      "[INFO][2021/03/26 02:50:55 PM] Loading objects/obj_type_1 (23980, 5) (18959 filtered: area>=100)\n"
     ]
    },
    {
     "name": "stdout",
     "output_type": "stream",
     "text": [
      "Track information loaded and ordered according to cell type (WT IDs >0> Scr IDs\n",
      "Loaded GV0796/Pos8/\n",
      "ID GV0796_Pos8_423_GFP\n",
      "ID GV0797_Pos23_88_GFP\n",
      "Loading GV0797/Pos23/\n",
      "Btrack version no.: 0.4.0\n"
     ]
    },
    {
     "name": "stderr",
     "output_type": "stream",
     "text": [
      "[INFO][2021/03/26 02:50:55 PM] Closing HDF file: /home/nathan/data/kraken/h2b/giulia/GV0797/Pos23/Pos23_aligned/HDF/segmented.hdf5\n",
      "[INFO][2021/03/26 02:50:55 PM] Opening HDF file: /home/nathan/data/kraken/h2b/giulia/GV0797/Pos23/Pos23_aligned/HDF/segmented.hdf5...\n",
      "[INFO][2021/03/26 02:50:55 PM] Loading tracks/obj_type_2\n",
      "[INFO][2021/03/26 02:50:55 PM] Loading objects/obj_type_2 (34897, 5) (24894 filtered: area>=100)\n",
      "[INFO][2021/03/26 02:50:55 PM] Closing HDF file: /home/nathan/data/kraken/h2b/giulia/GV0797/Pos23/Pos23_aligned/HDF/segmented.hdf5\n",
      " 95%|█████████▌| 366/385 [05:58<00:36,  1.92s/it][INFO][2021/03/26 02:50:55 PM] Opening HDF file: /home/nathan/data/kraken/h2b/giulia/GV0794/Pos3/Pos3_aligned/HDF/segmented.hdf5...\n",
      "[INFO][2021/03/26 02:50:55 PM] Loading tracks/obj_type_1\n"
     ]
    },
    {
     "name": "stdout",
     "output_type": "stream",
     "text": [
      "Track information loaded and ordered according to cell type (WT IDs >0> Scr IDs\n",
      "Loaded GV0797/Pos23/\n",
      "ID GV0797_Pos23_248_GFP\n",
      "ID GV0794_Pos3_311_GFP\n",
      "Loading GV0794/Pos3/\n",
      "Btrack version no.: 0.4.0\n"
     ]
    },
    {
     "name": "stderr",
     "output_type": "stream",
     "text": [
      "[INFO][2021/03/26 02:50:56 PM] Loading objects/obj_type_1 (57736, 5) (54429 filtered: area>=100)\n",
      "[INFO][2021/03/26 02:50:56 PM] Closing HDF file: /home/nathan/data/kraken/h2b/giulia/GV0794/Pos3/Pos3_aligned/HDF/segmented.hdf5\n",
      "[INFO][2021/03/26 02:50:56 PM] Opening HDF file: /home/nathan/data/kraken/h2b/giulia/GV0794/Pos3/Pos3_aligned/HDF/segmented.hdf5...\n",
      "[INFO][2021/03/26 02:50:56 PM] Loading tracks/obj_type_2\n",
      "[INFO][2021/03/26 02:50:56 PM] Loading objects/obj_type_2 (5835, 5) (5227 filtered: area>=100)\n",
      "[INFO][2021/03/26 02:50:56 PM] Closing HDF file: /home/nathan/data/kraken/h2b/giulia/GV0794/Pos3/Pos3_aligned/HDF/segmented.hdf5\n",
      " 96%|█████████▌| 368/385 [05:58<00:24,  1.46s/it][INFO][2021/03/26 02:50:56 PM] Opening HDF file: /home/nathan/data/kraken/h2b/giulia/GV0802/Pos5/Pos5_aligned/HDF/segmented.hdf5...\n",
      "[INFO][2021/03/26 02:50:56 PM] Loading tracks/obj_type_1\n"
     ]
    },
    {
     "name": "stdout",
     "output_type": "stream",
     "text": [
      "Track information loaded and ordered according to cell type (WT IDs >0> Scr IDs\n",
      "Loaded GV0794/Pos3/\n",
      "ID GV0794_Pos3_142_GFP\n",
      "ID GV0802_Pos5_184_GFP\n",
      "Loading GV0802/Pos5/\n",
      "Btrack version no.: 0.4.0\n"
     ]
    },
    {
     "name": "stderr",
     "output_type": "stream",
     "text": [
      "[INFO][2021/03/26 02:50:56 PM] Loading objects/obj_type_1 (49875, 5) (41993 filtered: area>=100)\n",
      "[INFO][2021/03/26 02:50:57 PM] Closing HDF file: /home/nathan/data/kraken/h2b/giulia/GV0802/Pos5/Pos5_aligned/HDF/segmented.hdf5\n",
      "[INFO][2021/03/26 02:50:57 PM] Opening HDF file: /home/nathan/data/kraken/h2b/giulia/GV0802/Pos5/Pos5_aligned/HDF/segmented.hdf5...\n",
      "[INFO][2021/03/26 02:50:57 PM] Loading tracks/obj_type_2\n",
      "[INFO][2021/03/26 02:50:57 PM] Loading objects/obj_type_2 (87129, 5) (71072 filtered: area>=100)\n",
      "[INFO][2021/03/26 02:50:58 PM] Closing HDF file: /home/nathan/data/kraken/h2b/giulia/GV0802/Pos5/Pos5_aligned/HDF/segmented.hdf5\n",
      " 96%|█████████▌| 370/385 [06:00<00:19,  1.27s/it][INFO][2021/03/26 02:50:58 PM] Opening HDF file: /home/nathan/data/kraken/h2b/giulia/GV0801/Pos4/Pos4_aligned/HDF/segmented.hdf5...\n",
      "[INFO][2021/03/26 02:50:58 PM] Loading tracks/obj_type_1\n"
     ]
    },
    {
     "name": "stdout",
     "output_type": "stream",
     "text": [
      "Track information loaded and ordered according to cell type (WT IDs >0> Scr IDs\n",
      "Loaded GV0802/Pos5/\n",
      "ID GV0802_Pos5_185_GFP\n",
      "ID GV0802_Pos5_372_GFP\n",
      "ID GV0802_Pos5_141_GFP\n",
      "ID GV0801_Pos4_298_GFP\n",
      "Loading GV0801/Pos4/\n",
      "Btrack version no.: 0.4.0\n"
     ]
    },
    {
     "name": "stderr",
     "output_type": "stream",
     "text": [
      "[INFO][2021/03/26 02:51:00 PM] Loading objects/obj_type_1 (315086, 5) (299584 filtered: area>=100)\n",
      "[INFO][2021/03/26 02:51:02 PM] Closing HDF file: /home/nathan/data/kraken/h2b/giulia/GV0801/Pos4/Pos4_aligned/HDF/segmented.hdf5\n",
      "[INFO][2021/03/26 02:51:02 PM] Opening HDF file: /home/nathan/data/kraken/h2b/giulia/GV0801/Pos4/Pos4_aligned/HDF/segmented.hdf5...\n",
      "[INFO][2021/03/26 02:51:02 PM] Loading tracks/obj_type_2\n",
      "[INFO][2021/03/26 02:51:03 PM] Loading objects/obj_type_2 (60246, 5) (49441 filtered: area>=100)\n",
      "[INFO][2021/03/26 02:51:03 PM] Closing HDF file: /home/nathan/data/kraken/h2b/giulia/GV0801/Pos4/Pos4_aligned/HDF/segmented.hdf5\n",
      " 97%|█████████▋| 374/385 [06:05<00:14,  1.28s/it][INFO][2021/03/26 02:51:03 PM] Opening HDF file: /home/nathan/data/kraken/h2b/giulia/GV0794/Pos4/Pos4_aligned/HDF/segmented.hdf5...\n",
      "[INFO][2021/03/26 02:51:03 PM] Loading tracks/obj_type_1\n"
     ]
    },
    {
     "name": "stdout",
     "output_type": "stream",
     "text": [
      "Track information loaded and ordered according to cell type (WT IDs >0> Scr IDs\n",
      "Loaded GV0801/Pos4/\n",
      "ID GV0801_Pos4_2650_GFP\n",
      "ID GV0801_Pos4_3147_GFP\n",
      "ID GV0801_Pos4_1396_GFP\n",
      "ID GV0801_Pos4_3582_GFP\n",
      "ID GV0794_Pos4_393_GFP\n",
      "Loading GV0794/Pos4/\n",
      "Btrack version no.: 0.4.0\n"
     ]
    },
    {
     "name": "stderr",
     "output_type": "stream",
     "text": [
      "[INFO][2021/03/26 02:51:03 PM] Loading objects/obj_type_1 (69360, 5) (64986 filtered: area>=100)\n",
      "[INFO][2021/03/26 02:51:04 PM] Closing HDF file: /home/nathan/data/kraken/h2b/giulia/GV0794/Pos4/Pos4_aligned/HDF/segmented.hdf5\n",
      "[INFO][2021/03/26 02:51:04 PM] Opening HDF file: /home/nathan/data/kraken/h2b/giulia/GV0794/Pos4/Pos4_aligned/HDF/segmented.hdf5...\n",
      "[INFO][2021/03/26 02:51:04 PM] Loading tracks/obj_type_2\n",
      "[INFO][2021/03/26 02:51:04 PM] Loading objects/obj_type_2 (13865, 5) (10538 filtered: area>=100)\n",
      "[INFO][2021/03/26 02:51:04 PM] Closing HDF file: /home/nathan/data/kraken/h2b/giulia/GV0794/Pos4/Pos4_aligned/HDF/segmented.hdf5\n",
      " 98%|█████████▊| 379/385 [06:07<00:05,  1.02it/s][INFO][2021/03/26 02:51:04 PM] Opening HDF file: /home/nathan/data/kraken/h2b/giulia/GV0820/Pos1/Pos1_aligned/HDF/segmented.hdf5...\n",
      "[INFO][2021/03/26 02:51:04 PM] Loading tracks/obj_type_1\n"
     ]
    },
    {
     "name": "stdout",
     "output_type": "stream",
     "text": [
      "Track information loaded and ordered according to cell type (WT IDs >0> Scr IDs\n",
      "Loaded GV0794/Pos4/\n",
      "ID GV0820_Pos1_130_GFP\n",
      "Loading GV0820/Pos1/\n",
      "Btrack version no.: 0.4.0\n"
     ]
    },
    {
     "name": "stderr",
     "output_type": "stream",
     "text": [
      "[INFO][2021/03/26 02:51:06 PM] Loading objects/obj_type_1 (205829, 5) (191939 filtered: area>=100)\n",
      "[INFO][2021/03/26 02:51:07 PM] Closing HDF file: /home/nathan/data/kraken/h2b/giulia/GV0820/Pos1/Pos1_aligned/HDF/segmented.hdf5\n",
      "[INFO][2021/03/26 02:51:07 PM] Opening HDF file: /home/nathan/data/kraken/h2b/giulia/GV0820/Pos1/Pos1_aligned/HDF/segmented.hdf5...\n",
      "[INFO][2021/03/26 02:51:07 PM] Loading tracks/obj_type_2\n",
      "[INFO][2021/03/26 02:51:08 PM] Loading objects/obj_type_2 (93902, 5) (77327 filtered: area>=100)\n",
      "[INFO][2021/03/26 02:51:08 PM] Closing HDF file: /home/nathan/data/kraken/h2b/giulia/GV0820/Pos1/Pos1_aligned/HDF/segmented.hdf5\n",
      "100%|██████████| 385/385 [06:11<00:00,  1.04it/s]"
     ]
    },
    {
     "name": "stdout",
     "output_type": "stream",
     "text": [
      "Track information loaded and ordered according to cell type (WT IDs >0> Scr IDs\n",
      "Loaded GV0820/Pos1/\n",
      "ID GV0820_Pos1_412_GFP\n",
      "ID GV0820_Pos1_1427_GFP\n",
      "ID GV0820_Pos1_503_GFP\n",
      "ID GV0820_Pos1_368_GFP\n",
      "ID GV0820_Pos1_1818_GFP\n"
     ]
    },
    {
     "name": "stderr",
     "output_type": "stream",
     "text": [
      "\n"
     ]
    }
   ],
   "source": [
    "list_xy, cell_count, expt_count, error_log = tools.xy_position_counter(apop_dict, hdf5_file_list, apop_dict, num_bins=20)\n",
    "x, y = [xy[0] for xy in list_xy],[xy[1] for xy in list_xy]"
   ]
  },
  {
   "cell_type": "markdown",
   "metadata": {},
   "source": [
    "### Save out xy measurements"
   ]
  },
  {
   "cell_type": "code",
   "execution_count": 23,
   "metadata": {
    "scrolled": true
   },
   "outputs": [],
   "source": [
    "with open(\"/home/nathan/data/kraken/h2b/giulia/apoptosis_information/scr_apops_xy.txt\", \"w\") as output:\n",
    "    for row in list_xy:\n",
    "        output.write(\"%s\\n\" % row)"
   ]
  },
  {
   "cell_type": "markdown",
   "metadata": {},
   "source": [
    "### Read xy measurements from output"
   ]
  },
  {
   "cell_type": "code",
   "execution_count": 125,
   "metadata": {},
   "outputs": [],
   "source": [
    "list_xy = []\n",
    "with open(\"/home/nathan/data/kraken/h2b/giulia/apoptosis_information/wt_apops_xy.txt\", \"r\") as read_file:\n",
    "    list_xy = [eval(line.strip()) for line in read_file]\n",
    "x, y = [xy[0] for xy in list_xy],[xy[1] for xy in list_xy]"
   ]
  },
  {
   "cell_type": "markdown",
   "metadata": {},
   "source": [
    "## 4) Plot as graphical representation\n",
    "\n",
    "Transpose dimensions for python"
   ]
  },
  {
   "cell_type": "code",
   "execution_count": 124,
   "metadata": {},
   "outputs": [
    {
     "data": {
      "image/png": "[encoded data removed]",
      "text/plain": [
       "<Figure size 432x288 with 1 Axes>"
      ]
     },
     "metadata": {
      "needs_background": "light"
     },
     "output_type": "display_data"
    }
   ],
   "source": [
    "plt.scatter(y,x, s=10, c = '#d00027')\n",
    "plt.xlabel('x coordinate')\n",
    "plt.ylabel('y coordinate')\n",
    "plt.xlim(0,1600)\n",
    "plt.ylim(0,1200)\n",
    "plt.title('Spatial distribution of Scribble apoptoses in 122\\n different wild-type:Scribble competition experiments')\n",
    "plt.savefig('/home/nathan/data/kraken/h2b/giulia/apoptosis_information/spatial_dist_scr_apop.pdf')"
   ]
  },
  {
   "cell_type": "code",
   "execution_count": 121,
   "metadata": {},
   "outputs": [
    {
     "data": {
      "image/png": "[encoded data removed]",
      "text/plain": [
       "<Figure size 432x288 with 2 Axes>"
      ]
     },
     "metadata": {
      "needs_background": "light"
     },
     "output_type": "display_data"
    }
   ],
   "source": [
    "plt.hist2d(y,x, bins = 20, cmap = 'Reds')\n",
    "plt.colorbar(label ='Number of apoptoses')\n",
    "plt.xlabel('x coordinate')\n",
    "plt.ylabel('y coordinate')\n",
    "\n",
    "plt.title('Spatial distribution of Scribble apoptoses in 122\\n different wild-type:Scribble competition experiments')\n",
    "plt.savefig('/home/nathan/data/kraken/h2b/giulia/apoptosis_information/binned_spatial_dist_scr_apop.pdf')"
   ]
  },
  {
   "cell_type": "code",
   "execution_count": 126,
   "metadata": {},
   "outputs": [
    {
     "data": {
      "image/png": "[encoded data removed]",
      "text/plain": [
       "<Figure size 432x288 with 1 Axes>"
      ]
     },
     "metadata": {
      "needs_background": "light"
     },
     "output_type": "display_data"
    }
   ],
   "source": [
    "plt.scatter(y,x, s=10, c = '#00B2A9')\n",
    "plt.xlabel('x coordinate')\n",
    "plt.ylabel('y coordinate')\n",
    "plt.xlim(0,1600)\n",
    "plt.ylim(0,1200)\n",
    "plt.title('Spatial distribution of wild-type apoptoses in 122\\n different wild-type:Scribble competition experiments')\n",
    "plt.savefig('/home/nathan/data/kraken/h2b/giulia/apoptosis_information/spatial_dist_wt_apop.pdf')"
   ]
  },
  {
   "cell_type": "code",
   "execution_count": 130,
   "metadata": {},
   "outputs": [
    {
     "data": {
      "image/png": "[encoded data removed]",
      "text/plain": [
       "<Figure size 432x288 with 2 Axes>"
      ]
     },
     "metadata": {
      "needs_background": "light"
     },
     "output_type": "display_data"
    }
   ],
   "source": [
    "plt.hist2d(y,x, bins = 20, cmap = 'Greens')\n",
    "plt.colorbar(label ='Number of apoptoses')\n",
    "plt.xlabel('x coordinate')\n",
    "plt.ylabel('y coordinate')\n",
    "\n",
    "plt.title('Spatial distribution of wild-type apoptoses in 122\\n different wild-type:Scribble competition experiments')\n",
    "plt.savefig('/home/nathan/data/kraken/h2b/giulia/apoptosis_information/binned_spatial_dist_wt_apop.pdf')"
   ]
  },
  {
   "cell_type": "markdown",
   "metadata": {},
   "source": [
    "Find temporal distribution. This would be more meaningful if each timepoint in an experimental movie is tied to the confluency of the cellular monolayer at that timepoint. This current analysis is lacking as `t=0` can represent completely different tissue scenarios over different experiments. Segmentation is stored in hdf5 tracking files though, this could be a future avenue of analysis. "
   ]
  },
  {
   "cell_type": "code",
   "execution_count": 83,
   "metadata": {},
   "outputs": [],
   "source": [
    "t = []\n",
    "for i in apop_dict:\n",
    "    t.append(int(apop_dict[i]))\n",
    "t = sorted(t)"
   ]
  },
  {
   "cell_type": "code",
   "execution_count": 79,
   "metadata": {},
   "outputs": [
    {
     "data": {
      "image/png": "[encoded data removed]",
      "text/plain": [
       "<Figure size 864x432 with 1 Axes>"
      ]
     },
     "metadata": {
      "needs_background": "light"
     },
     "output_type": "display_data"
    }
   ],
   "source": [
    "fig = plt.figure(figsize = (12,6))\n",
    "n, bins, patches = plt.hist(t, bins = int((len(t)/10)), color= '#d00027')\n",
    "plt.xticks([i for i in range(0,1200,100)])\n",
    "plt.xlim(0,1162)\n",
    "plt.ylabel('Frequency')\n",
    "plt.xlabel('Apoptosis time point')\n",
    "plt.title('Temporal distribution of all Scribble apoptoses in 122 different wild-type:Scribble competition experiments')\n",
    "plt.savefig('/home/nathan/data/kraken/h2b/giulia/apoptosis_information/temp_dist_scr_apop.pdf')\n",
    "plt.show()"
   ]
  },
  {
   "cell_type": "code",
   "execution_count": 90,
   "metadata": {},
   "outputs": [
    {
     "data": {
      "image/png": "[encoded data removed]",
      "text/plain": [
       "<Figure size 864x432 with 1 Axes>"
      ]
     },
     "metadata": {
      "needs_background": "light"
     },
     "output_type": "display_data"
    }
   ],
   "source": [
    "fig = plt.figure(figsize = (12,6))\n",
    "n, bins, patches = plt.hist(t, bins = int((len(t)/5)), color= '#00B2A9')\n",
    "plt.xticks([i for i in range(0,1200,100)])\n",
    "plt.xlim(0,1162)\n",
    "plt.ylabel('Frequency')\n",
    "plt.xlabel('Apoptosis time point')\n",
    "plt.title('Temporal distribution of all wild-type apoptoses in 122 different wild-type:Scribble competition experiments')\n",
    "plt.savefig('/home/nathan/data/kraken/h2b/giulia/apoptosis_information/temp_dist_wt_apop.pdf')\n",
    "plt.show()"
   ]
  }
 ],
 "metadata": {
  "kernelspec": {
   "display_name": "Python 3",
   "language": "python",
   "name": "python3"
  },
  "language_info": {
   "codemirror_mode": {
    "name": "ipython",
    "version": 3
   },
   "file_extension": ".py",
   "mimetype": "text/x-python",
   "name": "python",
   "nbconvert_exporter": "python",
   "pygments_lexer": "ipython3",
   "version": "3.9.7"
  }
 },
 "nbformat": 4,
 "nbformat_minor": 4
}
