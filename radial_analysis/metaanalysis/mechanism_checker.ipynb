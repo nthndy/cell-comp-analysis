{
 "cells": [
  {
   "cell_type": "markdown",
   "metadata": {},
   "source": [
    "# Hypothesis mechanism checker\n",
    "\n",
    "This notebook serves as a hypothesis checker to analyse previously generated spatio-temporal radial heatmaps in lieu of certain new ideas etc etc etc"
   ]
  },
  {
   "cell_type": "code",
   "execution_count": 3,
   "metadata": {},
   "outputs": [],
   "source": [
    "import os\n",
    "import numpy as np\n",
    "import sys\n",
    "sys.path.append('../')\n",
    "import render\n",
    "import matplotlib.pyplot as plt\n",
    "%matplotlib inline\n",
    "plt.rcParams['figure.figsize'] = [10,6]"
   ]
  },
  {
   "cell_type": "markdown",
   "metadata": {},
   "source": [
    "### Distribution of wild-type divisions around Scr<sup>KD</sup> apoptoses\n",
    "\n",
    "Hypothesis #1 is that the generally diffuse low probabilities of wt division is indicative of a mechanical mechanism of competition. This means that the competition is not apparent on a single-cell level via measuring coincidences of divisions and apoptoses, rather the competition is driven by mechanical forces that operate over several cell diameters.\n",
    "\n",
    "One way to measure this is to see if the P(div) around a Scr apop is above a background rate across different time scales."
   ]
  },
  {
   "cell_type": "markdown",
   "metadata": {},
   "source": [
    "##### Loading heatmaps "
   ]
  },
  {
   "cell_type": "code",
   "execution_count": 4,
   "metadata": {},
   "outputs": [],
   "source": [
    "canon_arrays = np.load('/home/nathan/data/results/radial_analysis_output/follow/arrays/scr_apop_wt_div_N_cell_N_event_P_event_800.800.10.npz')\n",
    "control_arrays = np.load('/home/nathan/data/results/radial_analysis_output/follow/arrays/wt_control_wt_div_N_cell_N_event_P_event_800.800.10.npz')"
   ]
  },
  {
   "cell_type": "markdown",
   "metadata": {},
   "source": [
    "Array key: \n",
    "\n",
    "    arr_0 = N_cells\n",
    "    arr_1 = N_events\n",
    "    arr_2 = P_events\n",
    "    \n",
    "Array dimensionality:\n",
    "\n",
    "    y = radial dimension\n",
    "    x = temporal dimension"
   ]
  },
  {
   "cell_type": "code",
   "execution_count": 5,
   "metadata": {},
   "outputs": [
    {
     "name": "stdout",
     "output_type": "stream",
     "text": [
      "arr_0\n",
      "arr_1\n",
      "arr_2\n"
     ]
    }
   ],
   "source": [
    "for i in canon_arrays:\n",
    "    print(i)"
   ]
  },
  {
   "cell_type": "code",
   "execution_count": 6,
   "metadata": {},
   "outputs": [
    {
     "data": {
      "text/plain": [
       "array([[0.00207791, 0.00224084, 0.00141168, 0.00132865, 0.00141313,\n",
       "        0.00091527, 0.00105961, 0.00105217, 0.00113566, 0.00111346],\n",
       "       [0.00197637, 0.00177525, 0.00163802, 0.0015011 , 0.00134412,\n",
       "        0.0012967 , 0.00134064, 0.00128581, 0.00126718, 0.00118534],\n",
       "       [0.00175041, 0.0017683 , 0.0017051 , 0.00156908, 0.00148989,\n",
       "        0.00137225, 0.00140396, 0.00138051, 0.00134145, 0.00129904],\n",
       "       [0.00191597, 0.00168858, 0.00178383, 0.00166355, 0.00152496,\n",
       "        0.00138755, 0.00140474, 0.00143284, 0.00131253, 0.00133735],\n",
       "       [0.00171874, 0.00172032, 0.001738  , 0.00161022, 0.00153505,\n",
       "        0.00142475, 0.00142009, 0.00142066, 0.0013129 , 0.00129414],\n",
       "       [0.00184081, 0.00184503, 0.00173159, 0.00167957, 0.00156042,\n",
       "        0.00148146, 0.00145129, 0.00143947, 0.00136   , 0.00127561],\n",
       "       [0.00186075, 0.00181038, 0.00169634, 0.00164578, 0.00154604,\n",
       "        0.00146484, 0.00145331, 0.00143062, 0.0013681 , 0.00131944],\n",
       "       [0.00185229, 0.00192518, 0.00175653, 0.00164237, 0.00153566,\n",
       "        0.00146306, 0.00142862, 0.00140816, 0.00135349, 0.00129118],\n",
       "       [0.00180829, 0.00184179, 0.00176287, 0.00167389, 0.00157632,\n",
       "        0.00148661, 0.00145236, 0.00137692, 0.00140213, 0.00135745],\n",
       "       [0.00199441, 0.00178073, 0.00180449, 0.00169882, 0.001532  ,\n",
       "        0.00148653, 0.00151939, 0.00136858, 0.00136372, 0.00130514]])"
      ]
     },
     "execution_count": 6,
     "metadata": {},
     "output_type": "execute_result"
    }
   ],
   "source": [
    "canon_arrays['arr_2']"
   ]
  },
  {
   "cell_type": "code",
   "execution_count": 7,
   "metadata": {},
   "outputs": [],
   "source": [
    "P_events = canon_arrays['arr_2']\n",
    "P_events_c = control_arrays['arr_2']"
   ]
  },
  {
   "cell_type": "markdown",
   "metadata": {},
   "source": [
    "How these plots are typically displayed"
   ]
  },
  {
   "cell_type": "code",
   "execution_count": 8,
   "metadata": {},
   "outputs": [],
   "source": [
    "## set a few params in inout dict\n",
    "#input_dict = {'input_2d_hist':P_events, 'input_type':'P_events', 'N': 1839, 'radius': 800, 't_range': 800, 'focal_cell':'Scr', 'focal_event':'apop', 'subject_cell':'wt', 'subject_event': 'div', 'include_apop_bin':True, 'SI':True}"
   ]
  },
  {
   "cell_type": "code",
   "execution_count": 9,
   "metadata": {},
   "outputs": [],
   "source": [
    "input_dict = {'input_2d_hist':P_events}"
   ]
  },
  {
   "cell_type": "code",
   "execution_count": 10,
   "metadata": {},
   "outputs": [
    {
     "name": "stdout",
     "output_type": "stream",
     "text": [
      "Enter the scan radius800\n",
      "Enter the scan time range800\n",
      "Input the title of your plottest\n",
      "Input the label for your colorbarcool\n",
      "What is the focal event of the radial scan?ok\n"
     ]
    },
    {
     "data": {
      "image/png": "[encoded data removed]",
      "text/plain": [
       "<Figure size 720x432 with 2 Axes>"
      ]
     },
     "metadata": {
      "needs_background": "light"
     },
     "output_type": "display_data"
    }
   ],
   "source": [
    "render.auto_plot_cumulative(input_dict)"
   ]
  },
  {
   "cell_type": "markdown",
   "metadata": {},
   "source": [
    "try working with classes?"
   ]
  },
  {
   "cell_type": "code",
   "execution_count": 14,
   "metadata": {},
   "outputs": [],
   "source": [
    "class plot:\n",
    "    num_bins: int = 10\n",
    "    radius: int = 800\n",
    "    t_range: int = 800\n",
    "    N: int = 1839\n",
    "    focal_cell: str = 'Scr'\n",
    "    focal_event: str = 'apop'\n",
    "    subject_cell: str = 'wt'\n",
    "    subject_event: str = 'div'\n",
    "    include_apop_bin: bool = True\n",
    "    SI: bool = True\n",
    "    "
   ]
  },
  {
   "cell_type": "code",
   "execution_count": 15,
   "metadata": {},
   "outputs": [
    {
     "data": {
      "text/plain": [
       "10"
      ]
     },
     "execution_count": 15,
     "metadata": {},
     "output_type": "execute_result"
    }
   ],
   "source": [
    "plot.num_bins"
   ]
  },
  {
   "cell_type": "code",
   "execution_count": 36,
   "metadata": {},
   "outputs": [],
   "source": [
    "class Plot:\n",
    "    def __init__(self, num_bins, radius, t_range, SI: bool = True):\n",
    "        self.num_bins = num_bins\n",
    "        self.radius = radius\n",
    "        self.t_range = t_range\n",
    "        self.SI = SI\n",
    "        ### is there a way to have optional inpout to this\n",
    "        \n",
    "    def kymo_labels(self, label_freq):\n",
    "        # label_freq = 1\n",
    "        radial_bin = self.radius / self.num_bins\n",
    "        temporal_bin = self.t_range / self.num_bins\n",
    "\n",
    "        if self.SI == True:\n",
    "            time_scale_factor = 4 / 60  ## each frame is 4 minutes\n",
    "            distance_scale_factor = 1 / 3  ## each pixel is 0.3recur micrometers\n",
    "        else:\n",
    "            time_scale_factor, distance_scale_factor = 1, 1\n",
    "\n",
    "        ### generate labels for axis micrometers/hours\n",
    "        xlocs = np.arange(\n",
    "            -0.5, self.num_bins, label_freq\n",
    "        )  ## -0.5 to start at far left border of first bin\n",
    "        xlabels = []\n",
    "        for m in np.arange(int(-self.num_bins / 2), int(self.num_bins / 2) + 1, label_freq):\n",
    "            xlabels.append(\n",
    "                str(int(((temporal_bin) * m) * time_scale_factor))\n",
    "            )  # + \",\" + str(int(((temporal_bin)*m+temporal_bin)*time_scale_factor)))\n",
    "\n",
    "        ylocs = np.arange(\n",
    "            -0.5, self.num_bins, label_freq\n",
    "        )  ## -0.5 to start at far top border of first bin\n",
    "        ylabels = []\n",
    "        for m in np.arange(self.num_bins, 0 - 1, -label_freq):\n",
    "            ylabels.append(\n",
    "                str(int(((radial_bin) * m) * distance_scale_factor))\n",
    "            )  # + \",\" + str(int(((radial_bin)*(m-1)*distance_scale_factor))))\n",
    "\n",
    "        return xlocs, xlabels, ylocs, ylabels"
   ]
  },
  {
   "cell_type": "code",
   "execution_count": 37,
   "metadata": {},
   "outputs": [],
   "source": [
    "plot1 = Plot(40, 800, 800, True)"
   ]
  },
  {
   "cell_type": "code",
   "execution_count": 41,
   "metadata": {},
   "outputs": [
    {
     "data": {
      "text/plain": [
       "(array([-0.5,  1.5,  3.5,  5.5,  7.5,  9.5, 11.5, 13.5, 15.5, 17.5, 19.5,\n",
       "        21.5, 23.5, 25.5, 27.5, 29.5, 31.5, 33.5, 35.5, 37.5, 39.5]),\n",
       " ['-26',\n",
       "  '-24',\n",
       "  '-21',\n",
       "  '-18',\n",
       "  '-16',\n",
       "  '-13',\n",
       "  '-10',\n",
       "  '-8',\n",
       "  '-5',\n",
       "  '-2',\n",
       "  '0',\n",
       "  '2',\n",
       "  '5',\n",
       "  '8',\n",
       "  '10',\n",
       "  '13',\n",
       "  '16',\n",
       "  '18',\n",
       "  '21',\n",
       "  '24',\n",
       "  '26'],\n",
       " array([-0.5,  1.5,  3.5,  5.5,  7.5,  9.5, 11.5, 13.5, 15.5, 17.5, 19.5,\n",
       "        21.5, 23.5, 25.5, 27.5, 29.5, 31.5, 33.5, 35.5, 37.5, 39.5]),\n",
       " ['266',\n",
       "  '253',\n",
       "  '240',\n",
       "  '226',\n",
       "  '213',\n",
       "  '200',\n",
       "  '186',\n",
       "  '173',\n",
       "  '160',\n",
       "  '146',\n",
       "  '133',\n",
       "  '120',\n",
       "  '106',\n",
       "  '93',\n",
       "  '80',\n",
       "  '66',\n",
       "  '53',\n",
       "  '40',\n",
       "  '26',\n",
       "  '13',\n",
       "  '0'])"
      ]
     },
     "execution_count": 41,
     "metadata": {},
     "output_type": "execute_result"
    }
   ],
   "source": [
    "plot1.kymo_labels(label_freq = 2)"
   ]
  },
  {
   "cell_type": "code",
   "execution_count": 11,
   "metadata": {},
   "outputs": [],
   "source": [
    "from dataclasses import dataclass "
   ]
  },
  {
   "cell_type": "code",
   "execution_count": 19,
   "metadata": {},
   "outputs": [],
   "source": [
    "@dataclass\n",
    "class heatmap:\n",
    "    array: np.ndarray\n",
    "    num_bins: int #= heatmap.array.shape[0]\n",
    "    radius: int\n",
    "    t_range: int\n",
    "        \n",
    "    #assert heatmap.array.shape[0] == heatmap.array.shape[1], \"Wrong shaped array\" "
   ]
  },
  {
   "cell_type": "code",
   "execution_count": 21,
   "metadata": {},
   "outputs": [],
   "source": [
    "heatmap.array = np.ones((10,10))"
   ]
  },
  {
   "cell_type": "code",
   "execution_count": 22,
   "metadata": {},
   "outputs": [
    {
     "data": {
      "text/plain": [
       "array([[1., 1., 1., 1., 1., 1., 1., 1., 1., 1.],\n",
       "       [1., 1., 1., 1., 1., 1., 1., 1., 1., 1.],\n",
       "       [1., 1., 1., 1., 1., 1., 1., 1., 1., 1.],\n",
       "       [1., 1., 1., 1., 1., 1., 1., 1., 1., 1.],\n",
       "       [1., 1., 1., 1., 1., 1., 1., 1., 1., 1.],\n",
       "       [1., 1., 1., 1., 1., 1., 1., 1., 1., 1.],\n",
       "       [1., 1., 1., 1., 1., 1., 1., 1., 1., 1.],\n",
       "       [1., 1., 1., 1., 1., 1., 1., 1., 1., 1.],\n",
       "       [1., 1., 1., 1., 1., 1., 1., 1., 1., 1.],\n",
       "       [1., 1., 1., 1., 1., 1., 1., 1., 1., 1.]])"
      ]
     },
     "execution_count": 22,
     "metadata": {},
     "output_type": "execute_result"
    }
   ],
   "source": [
    "heatmap.array "
   ]
  },
  {
   "cell_type": "code",
   "execution_count": 17,
   "metadata": {},
   "outputs": [],
   "source": [
    "heatmap.num_bins = heatmap.array.shape[0]"
   ]
  },
  {
   "cell_type": "code",
   "execution_count": 18,
   "metadata": {},
   "outputs": [
    {
     "data": {
      "text/plain": [
       "10"
      ]
     },
     "execution_count": 18,
     "metadata": {},
     "output_type": "execute_result"
    }
   ],
   "source": [
    "heatmap.num_bins"
   ]
  },
  {
   "cell_type": "code",
   "execution_count": 23,
   "metadata": {},
   "outputs": [],
   "source": [
    "heatmap.radius = 100"
   ]
  },
  {
   "cell_type": "code",
   "execution_count": 25,
   "metadata": {},
   "outputs": [
    {
     "ename": "AttributeError",
     "evalue": "type object 'heatmap' has no attribute 't_range'",
     "output_type": "error",
     "traceback": [
      "\u001b[0;31m---------------------------------------------------------------------------\u001b[0m",
      "\u001b[0;31mAttributeError\u001b[0m                            Traceback (most recent call last)",
      "\u001b[0;32m<ipython-input-25-03298d0825f4>\u001b[0m in \u001b[0;36m<module>\u001b[0;34m\u001b[0m\n\u001b[0;32m----> 1\u001b[0;31m \u001b[0mheatmap\u001b[0m\u001b[0;34m.\u001b[0m\u001b[0mt_range\u001b[0m\u001b[0;34m\u001b[0m\u001b[0;34m\u001b[0m\u001b[0m\n\u001b[0m",
      "\u001b[0;31mAttributeError\u001b[0m: type object 'heatmap' has no attribute 't_range'"
     ]
    }
   ],
   "source": [
    "heatmap.t_range"
   ]
  },
  {
   "cell_type": "code",
   "execution_count": 203,
   "metadata": {},
   "outputs": [],
   "source": [
    "class Heatmap:\n",
    "    def __init__(self, array, radius, t_range, \n",
    "                 **scan_details):\n",
    "                 \n",
    "        self.array = array\n",
    "        ### is the below debugging line strictly necessary?\n",
    "        #assert isinstance(self.array, np.ndarray), 'Input heatmap not ndarray'\n",
    "        \n",
    "        self.radius = radius\n",
    "        self.t_range = t_range\n",
    "        \n",
    "        self.num_bins = array.shape[0]\n",
    "        \n",
    "        self.scan_details = scan_details\n",
    "        \n",
    "    def xy_labels(self, label_freq: int = 1, SI:bool = True):\n",
    "        radial_bin = self.radius / self.num_bins\n",
    "        temporal_bin = self.t_range / self.num_bins\n",
    "\n",
    "        if SI == True:\n",
    "            time_scale_factor = 4 / 60  ## each frame is 4 minutes\n",
    "            distance_scale_factor = 1 / 3  ## each pixel is 0.3recur micrometers\n",
    "        else:\n",
    "            time_scale_factor, distance_scale_factor = 1, 1\n",
    "\n",
    "        ### generate labels for axis micrometers/hours\n",
    "        xlocs = np.arange(\n",
    "            -0.5, self.num_bins, label_freq\n",
    "        )  ## -0.5 to start at far left border of first bin\n",
    "        xlabels = []\n",
    "        for m in np.arange(int(-self.num_bins / 2), int(self.num_bins / 2) + 1, label_freq):\n",
    "            xlabels.append(\n",
    "                str(int(((temporal_bin) * m) * time_scale_factor))\n",
    "            )  # + \",\" + str(int(((temporal_bin)*m+temporal_bin)*time_scale_factor)))\n",
    "\n",
    "        ylocs = np.arange(\n",
    "            -0.5, self.num_bins, label_freq\n",
    "        )  ## -0.5 to start at far top border of first bin\n",
    "        ylabels = []\n",
    "        for m in np.arange(self.num_bins, 0 - 1, -label_freq):\n",
    "            ylabels.append(\n",
    "                str(int(((radial_bin) * m) * distance_scale_factor))\n",
    "            )  # + \",\" + str(int(((radial_bin)*(m-1)*distance_scale_factor))))\n",
    "\n",
    "        return xlocs, xlabels, ylocs, ylabels\n",
    "    \n",
    "    def plot_titles(self, SI: bool = True):\n",
    "        if 'input_type' not in self.scan_details:\n",
    "            title = input('Input the title of your plot')\n",
    "            cb_label = input('Input the label for your colorbar')\n",
    "            focal_event_name = self.scan_details.get('focal_event', input('What is the focal event of the radial scan?'))\n",
    "            x_axis_label = f\"Time since {focal_event_name} \"\n",
    "            y_axis_label = f\"Distance from {focal_event_name} \"\n",
    "        #else get focal cell etc details or ask for them if not present\n",
    "        else:\n",
    "            focal_cell_name = self.scan_details.get('focal_cell', input('What is the focal cell of the radial scan?'))\n",
    "            focal_event_name = self.scan_details.get('focal_event', input('What is the focal event of the radial scan?'))\n",
    "            subject_cell_name = self.scan_details.get('subject_cell', input('What is the subject cell of the radial scan?'))\n",
    "            subject_event_name = self.scan_details.get('subject_event', input('What is the subject event of the radial scan?'))\n",
    "            N = int(input_dict.get('N', input('Enter the number of focal events')))\n",
    "            # now check which input type is specified\n",
    "            if self.scan_details.get('input_type') == \"N_cells\":\n",
    "                title = f\"Spatiotemporal dist. of {subject_cell_name} cells \\n around {focal_cell_name} {focal_event_name} (N={N})\"\n",
    "                cb_label = f\"Number of {subject_cell_name} cell apperances\"\n",
    "\n",
    "            elif self.scan_details.get('input_type') == \"N_events\":\n",
    "                title = f\"Spatiotemporal dist. of {subject_cell_name} {subject_event_name} \\n around {focal_cell_name} {focal_event_name} (N={N})\"\n",
    "                cb_label = f\"Number of {subject_cell_name} {subject_event_name}\"\n",
    "\n",
    "            elif self.scan_details.get('input_type') == \"P_events\":\n",
    "                title = f\"Spatiotemporal dist. of probability of {subject_cell_name} {subject_event_name} \\n around {focal_cell_name} {focal_event_name} (N={N})\"\n",
    "                cb_label = f\"Probability of {subject_cell_name} {subject_event_name}\"\n",
    "\n",
    "            elif self.scan_details.get('input_type') == \"CV\":\n",
    "                title = f\"Coefficient of variation of probability of {subject_cell_name} {subject_event_name} \\n around {focal_cell_name} {focal_event_name} (N={N})\"\n",
    "                cb_label = \"Coefficient of variation\"\n",
    "\n",
    "            elif self.scan_details.get('input_type') == \"stat_rel\":\n",
    "                title = f\"Statisticall relevant areas of probability of {subject_cell_name} {subject_event_name} \\n around {focal_cell_name} {focal_event_name} (N={N})\"\n",
    "                cb_label = \"Relevant areas are set equal to 1\"\n",
    "\n",
    "            elif self.scan_details.get('input_type') == \"dP\":\n",
    "                title = f\"Difference in probability between \\ncanonical and control analysis \\ni.e. probability of {subject_event_name} above background\"\n",
    "                cb_label = \"Difference in probability\\n above background\"\n",
    "            else:\n",
    "                print('input_type not recognised')\n",
    "        if SI == True:\n",
    "            time_unit = \"(Hours)\"\n",
    "            distance_unit = \"(Micrometers)\"\n",
    "        else:\n",
    "            time_unit = \"(Frames)\"\n",
    "            distance_unit = \"(Pixels)\"\n",
    "            \n",
    "        x_axis_label = f\"Time since {focal_event_name} {time_unit}\"\n",
    "        y_axis_label = f\"Distance from {focal_event_name} {distance_unit}\"\n",
    "        \n",
    "        return title, cb_label, x_axis_label, y_axis_label"
   ]
  },
  {
   "cell_type": "code",
   "execution_count": 204,
   "metadata": {},
   "outputs": [],
   "source": [
    "heatmap1 = Heatmap(np.ones((10,10)), 800, 800)\n",
    "heatmap2 = Heatmap(np.zeros((10,10)), 400, 400)"
   ]
  },
  {
   "cell_type": "code",
   "execution_count": 205,
   "metadata": {},
   "outputs": [
    {
     "data": {
      "text/plain": [
       "{}"
      ]
     },
     "execution_count": 205,
     "metadata": {},
     "output_type": "execute_result"
    }
   ],
   "source": [
    "heatmap1.scan_details"
   ]
  },
  {
   "cell_type": "code",
   "execution_count": 211,
   "metadata": {},
   "outputs": [],
   "source": [
    "heatmap1.scan_details = {'focal_cell':'scr', 'focal_event':'apop', 'input_type': 'N_cells'}"
   ]
  },
  {
   "cell_type": "code",
   "execution_count": 208,
   "metadata": {},
   "outputs": [
    {
     "data": {
      "text/plain": [
       "'scr'"
      ]
     },
     "execution_count": 208,
     "metadata": {},
     "output_type": "execute_result"
    }
   ],
   "source": [
    "heatmap1.scan_details['focal_cell']"
   ]
  },
  {
   "cell_type": "code",
   "execution_count": 209,
   "metadata": {},
   "outputs": [
    {
     "data": {
      "text/plain": [
       "(array([-0.5,  0.5,  1.5,  2.5,  3.5,  4.5,  5.5,  6.5,  7.5,  8.5,  9.5]),\n",
       " ['-400',\n",
       "  '-320',\n",
       "  '-240',\n",
       "  '-160',\n",
       "  '-80',\n",
       "  '0',\n",
       "  '80',\n",
       "  '160',\n",
       "  '240',\n",
       "  '320',\n",
       "  '400'],\n",
       " array([-0.5,  0.5,  1.5,  2.5,  3.5,  4.5,  5.5,  6.5,  7.5,  8.5,  9.5]),\n",
       " ['800', '720', '640', '560', '480', '400', '320', '240', '160', '80', '0'])"
      ]
     },
     "execution_count": 209,
     "metadata": {},
     "output_type": "execute_result"
    }
   ],
   "source": [
    "heatmap1.xy_labels(label_freq=1, SI = False)"
   ]
  },
  {
   "cell_type": "code",
   "execution_count": 213,
   "metadata": {},
   "outputs": [
    {
     "name": "stdout",
     "output_type": "stream",
     "text": [
      "What is the focal cell of the radial scan?a\n",
      "What is the focal event of the radial scan? s\n",
      "What is the subject cell of the radial scan?c\n",
      "What is the subject event of the radial scan?d\n",
      "Enter the number of focal events10\n"
     ]
    },
    {
     "data": {
      "text/plain": [
       "('Spatiotemporal dist. of c cells \\n around scr apop (N=10)',\n",
       " 'Number of c cell apperances',\n",
       " 'Time since apop (Hours)',\n",
       " 'Distance from apop (Micrometers)')"
      ]
     },
     "execution_count": 213,
     "metadata": {},
     "output_type": "execute_result"
    }
   ],
   "source": [
    "heatmap1.plot_titles() "
   ]
  },
  {
   "cell_type": "markdown",
   "metadata": {},
   "source": [
    "what is going on here ^^^"
   ]
  },
  {
   "cell_type": "code",
   "execution_count": null,
   "metadata": {},
   "outputs": [],
   "source": []
  },
  {
   "cell_type": "code",
   "execution_count": null,
   "metadata": {},
   "outputs": [],
   "source": []
  },
  {
   "cell_type": "code",
   "execution_count": null,
   "metadata": {},
   "outputs": [],
   "source": []
  },
  {
   "cell_type": "code",
   "execution_count": null,
   "metadata": {},
   "outputs": [],
   "source": []
  },
  {
   "cell_type": "code",
   "execution_count": null,
   "metadata": {},
   "outputs": [],
   "source": [
    "render.auto_plot_cumulative(input_dict)"
   ]
  },
  {
   "cell_type": "code",
   "execution_count": null,
   "metadata": {},
   "outputs": [],
   "source": [
    "P_events[:, 1]\n",
    "# this radial column is of interest"
   ]
  },
  {
   "cell_type": "markdown",
   "metadata": {},
   "source": [
    "#### Plotting radial columns"
   ]
  },
  {
   "cell_type": "code",
   "execution_count": null,
   "metadata": {},
   "outputs": [],
   "source": [
    "for n, i in enumerate(P_events.transpose()):\n",
    "    plt.plot(i, label = f'Temporal bin {n}')\n",
    "plt.legend(loc = 'upper right', fontsize = 'xx-small')\n",
    "plt.xlabel('Increasing radial bins')\n",
    "plt.ylabel('Probability')\n",
    "plt.title('Spatial distribution of probability of wild-type \\n division around $Scr^{KD}$ apoptoses')"
   ]
  },
  {
   "cell_type": "code",
   "execution_count": null,
   "metadata": {},
   "outputs": [],
   "source": [
    "for n, i in enumerate(P_events_c.transpose()):\n",
    "    plt.plot(i, label = f'Temporal bin {n}')\n",
    "plt.legend(loc = 'upper right', fontsize = 'xx-small')\n",
    "plt.xlabel('Increasing radial bins')\n",
    "plt.ylabel('Probability')\n",
    "plt.title('Spatial distribution of probability of wild-type \\n division around random wild-type points')\n",
    "plt.show()"
   ]
  },
  {
   "cell_type": "markdown",
   "metadata": {},
   "source": [
    "#### Plotting temporal rows\n",
    "\n",
    "Just to confirm"
   ]
  },
  {
   "cell_type": "code",
   "execution_count": null,
   "metadata": {},
   "outputs": [],
   "source": [
    "for n, i in enumerate(P_events):\n",
    "    plt.plot(i, label = f'Temporal bin {n}')\n",
    "plt.legend(loc = 'upper right', fontsize = 'xx-small')\n",
    "plt.xlabel('Increasing radial bins')\n",
    "plt.ylabel('Probability')\n",
    "plt.title('Spatial distribution of probability of wild-type \\n division around $Scr^{KD}$ apoptoses')\n",
    "plt.show()"
   ]
  },
  {
   "cell_type": "markdown",
   "metadata": {},
   "source": [
    "### Difference between radial columns canon and background control"
   ]
  },
  {
   "cell_type": "code",
   "execution_count": null,
   "metadata": {},
   "outputs": [],
   "source": [
    "radius = 800\n",
    "num_bins = 10"
   ]
  },
  {
   "cell_type": "code",
   "execution_count": null,
   "metadata": {
    "scrolled": false
   },
   "outputs": [],
   "source": [
    "plt.clf()\n",
    "for i in range(len(P_events)):\n",
    "    plt.plot(P_events[:,i] - P_events_c[:,i], label = f'Temporal bin {i}')\n",
    "plt.legend(loc = 'upper right', fontsize = 'xx-small')\n",
    "plt.xticks(ticks = range(-1, num_bins), labels = np.linspace(0, radius, num_bins +1, dtype = 'uint'), rotation = 'vertical')\n",
    "plt.xlabel('Radial distance from apoptoses')\n",
    "plt.ylabel('Probability')\n",
    "plt.hlines(y = 0, xmin = 0, xmax= 10, color = 'black')\n",
    "plt.title('Spatial distribution of probability of wild-type \\n division around $Scr^{KD}$ apoptoses above background')\n",
    "plt.show()"
   ]
  },
  {
   "cell_type": "markdown",
   "metadata": {},
   "source": [
    "# Conclusion "
   ]
  },
  {
   "cell_type": "markdown",
   "metadata": {},
   "source": [
    "This seems to suggest that the overall rate of division is generally below background levels for each timepoint before and after the apoptosis event\n",
    "\n",
    "If it were above background levels you could posit that there is an increased chance of division across all spatial bins and that this is evidence for mechanical competition at play via division events. However this is not the case, fuelling my suspicion that division events aren't driving the competition, they are merely a side effect of the competition.\n",
    "\n",
    "Should I change the radial analysis to measure other events beside division?"
   ]
  },
  {
   "cell_type": "markdown",
   "metadata": {},
   "source": [
    "# Measuring radial distribution of cell density (N_cells/area)"
   ]
  },
  {
   "cell_type": "code",
   "execution_count": null,
   "metadata": {},
   "outputs": [],
   "source": [
    "N_cells = canon_arrays['arr_0']"
   ]
  },
  {
   "cell_type": "code",
   "execution_count": null,
   "metadata": {},
   "outputs": [],
   "source": [
    "N_cells"
   ]
  },
  {
   "cell_type": "markdown",
   "metadata": {},
   "source": [
    "Need a 10x10 array where each row is the area of that spatial bin (first in pixels)"
   ]
  },
  {
   "cell_type": "code",
   "execution_count": null,
   "metadata": {},
   "outputs": [],
   "source": [
    "def bin_area(bin_num):\n",
    "    import math\n",
    "    bin_size = 80\n",
    "    area = (math.pi * ((bin_num*bin_size)**2)) - (math.pi * ((bin_num-1)*bin_size)**2)\n",
    "    return area"
   ]
  },
  {
   "cell_type": "code",
   "execution_count": null,
   "metadata": {},
   "outputs": [],
   "source": [
    "bin_area(3)"
   ]
  },
  {
   "cell_type": "code",
   "execution_count": null,
   "metadata": {},
   "outputs": [],
   "source": [
    "area_array = np.zeros((num_bins,num_bins))\n",
    "for i in range(len(area_array)):\n",
    "               area_array[i,:] = bin_area(i+1)\n",
    "area_array"
   ]
  },
  {
   "cell_type": "code",
   "execution_count": null,
   "metadata": {},
   "outputs": [],
   "source": [
    "dens_cells = N_cells/area_array"
   ]
  },
  {
   "cell_type": "code",
   "execution_count": null,
   "metadata": {},
   "outputs": [],
   "source": [
    "%matplotlib inline\n",
    "plt.rcParams['figure.figsize'] = [10,6]\n",
    "plt.clf()\n",
    "plt.imshow(np.flipud(dens_cells))\n",
    "plt.colorbar()\n",
    "\n",
    "plt.show()"
   ]
  },
  {
   "cell_type": "code",
   "execution_count": null,
   "metadata": {},
   "outputs": [],
   "source": [
    "### set new params\n",
    "input_dict_dens = {'input_2d_hist': dens_cells, \n",
    "                   'input_type': 'D_cells', \n",
    "                   'N':1839,\n",
    "                   'radius': radius, 't_range': t_range, \n",
    "                   'focal_cell':'Scr', 'focal_event':'apop', \n",
    "                   'subject_cell':'wt', 'subject_event': 'density', \n",
    "                   'include_apop_bin':True, 'SI':True\n",
    "                   }"
   ]
  },
  {
   "cell_type": "code",
   "execution_count": null,
   "metadata": {},
   "outputs": [],
   "source": [
    "render.auto_plot_cumulative(input_dict_dens)"
   ]
  },
  {
   "cell_type": "code",
   "execution_count": null,
   "metadata": {},
   "outputs": [],
   "source": [
    "plt.plot(dens_cells[1,:])\n",
    "plt.show()"
   ]
  },
  {
   "cell_type": "markdown",
   "metadata": {},
   "source": [
    "# Control example"
   ]
  },
  {
   "cell_type": "code",
   "execution_count": null,
   "metadata": {},
   "outputs": [],
   "source": [
    "N_cells_c = control_arrays['arr_0']"
   ]
  },
  {
   "cell_type": "code",
   "execution_count": null,
   "metadata": {},
   "outputs": [],
   "source": [
    "dens_cells_c = N_cells_c/area_array"
   ]
  },
  {
   "cell_type": "code",
   "execution_count": null,
   "metadata": {},
   "outputs": [],
   "source": [
    "%matplotlib inline\n",
    "plt.rcParams['figure.figsize'] = [10,6]\n",
    "plt.clf()\n",
    "plt.imshow(np.flipud(dens_cells_c))\n",
    "plt.colorbar()\n",
    "\n",
    "plt.show()"
   ]
  },
  {
   "cell_type": "markdown",
   "metadata": {},
   "source": [
    "### Conc: looks like the increase in \"density\" seems to be a result of the scan becoming stationary post apoptosis, but why? It's because of the track lengths, ie there are fewer tracks that extend back that far\n",
    "\n",
    "# Need to do (N_cells/N_apops)/bin_area"
   ]
  },
  {
   "cell_type": "markdown",
   "metadata": {},
   "source": [
    "# Occupancy plot needed ie. number of focal apops that feature in that spatiotemporal bin"
   ]
  },
  {
   "cell_type": "code",
   "execution_count": null,
   "metadata": {},
   "outputs": [],
   "source": []
  },
  {
   "cell_type": "markdown",
   "metadata": {},
   "source": [
    "# Checking out other ranges"
   ]
  },
  {
   "cell_type": "code",
   "execution_count": null,
   "metadata": {},
   "outputs": [],
   "source": [
    "radius, t_range, num_bins = 400, 400, 10\n"
   ]
  },
  {
   "cell_type": "markdown",
   "metadata": {},
   "source": [
    "# Changing autoplot function to be more versatile\n",
    "\n",
    "make into a class a la DaskOctopusLiteLoader?"
   ]
  },
  {
   "cell_type": "code",
   "execution_count": null,
   "metadata": {},
   "outputs": [],
   "source": [
    "from dataclasses import dataclass"
   ]
  },
  {
   "cell_type": "code",
   "execution_count": null,
   "metadata": {},
   "outputs": [],
   "source": [
    "@dataclass\n",
    "class input_dict_2:\n",
    "    include_apop_bin: bool = True\n",
    "    array: tuple = (0,1)\n",
    "    \n",
    "    @property\n",
    "    def afunction(self):\n",
    "        return self"
   ]
  },
  {
   "cell_type": "code",
   "execution_count": null,
   "metadata": {},
   "outputs": [],
   "source": [
    "input_dict"
   ]
  },
  {
   "cell_type": "code",
   "execution_count": null,
   "metadata": {},
   "outputs": [],
   "source": [
    "input_dict2 = {'array':[0,1,2], 'include_apop_bin': 'test'}"
   ]
  },
  {
   "cell_type": "code",
   "execution_count": null,
   "metadata": {},
   "outputs": [],
   "source": [
    "include_apop_bin = input_dict2.get('test')"
   ]
  },
  {
   "cell_type": "code",
   "execution_count": null,
   "metadata": {},
   "outputs": [],
   "source": [
    "## label unit formatting\n",
    "if input_dict2.get('SI') == True or input_dict2.get('SI') == None:\n",
    "    time_unit = \"(Hours)\"\n",
    "    distance_unit = \"(Micrometers)\"\n",
    "else:\n",
    "    time_unit = \"(Frames)\"\n",
    "    distance_unit = \"(Pixels)\" "
   ]
  },
  {
   "cell_type": "code",
   "execution_count": null,
   "metadata": {},
   "outputs": [],
   "source": [
    "distance_unit"
   ]
  },
  {
   "cell_type": "code",
   "execution_count": null,
   "metadata": {},
   "outputs": [],
   "source": [
    "label_freq = 4 if num_bins > 20 else 1"
   ]
  },
  {
   "cell_type": "code",
   "execution_count": null,
   "metadata": {},
   "outputs": [],
   "source": [
    "input_dict = {'test':'cool'}"
   ]
  },
  {
   "cell_type": "code",
   "execution_count": null,
   "metadata": {},
   "outputs": [],
   "source": [
    "input_dict.get('input_2d_hist', print(('No heatmap input found')))"
   ]
  },
  {
   "cell_type": "code",
   "execution_count": null,
   "metadata": {},
   "outputs": [],
   "source": [
    "def do_something_dangerous(self):\n",
    "    raise Exception(\"Boo!\")\n",
    "    print('fail')"
   ]
  },
  {
   "cell_type": "code",
   "execution_count": null,
   "metadata": {},
   "outputs": [],
   "source": [
    "def auto_plot_cumulative(\n",
    "input_dict\n",
    "):\n",
    "    plt.clf()\n",
    "    ### read input parameters and data\n",
    "    input_2d_hist = input_dict.get('input_2d_hist', print('No heatmap input found'))\n",
    "    N = input_dict.get('N', input('Enter the number of focal events'))\n",
    "    radius = input_dict.get('radius', input('Enter the scan radius'))             \n",
    "    t_range = input_dict.get('t_range', input('Enter the scan time range')  \n",
    "    \n",
    "    ### default to have standard measures\n",
    "    SI = input_dict.get('SI', True)\n",
    "   \n",
    "    ### default to read the number of bins from the array shape\n",
    "    num_bins = input_dict.get('num_bins', input_2d_hist.shape[0])\n",
    "    ### default is to have no cbar_lim\n",
    "    cbar_lim = input_dict.get('cbar_lim', False)\n",
    "   \n",
    "    ### set the label frequency according to the num bins\n",
    "    label_freq = 4 if num_bins > 20 else 1\n",
    "    \n",
    "    # get correctly spaced labels\n",
    "    xlocs, xlabels, ylocs, ylabels = kymo_labels(\n",
    "        num_bins, label_freq, radius, t_range, SI\n",
    "    )\n",
    "    \n",
    "    # get scan details\n",
    "    focal_cell_name = input_dict.get('focal_cell', input('What is the focal cell of the radial scan?'))\n",
    "    focal_event_name = input_dict.get('focal_event', input('What is the focal event of the radial scan?'))\n",
    "    subject_cell_name = input_dict.get('subject_cell', input('What is the subject cell of the radial scan?'))\n",
    "    subject_event_name = input_dict.get('subject_event', input('What is the subject event of the radial scan?'))\n",
    "    \n",
    "    # title formatting, if input type unrecognised or not entered then manual entry prompted\n",
    "    if input_dict.get('input_type') == \"N_cells\":\n",
    "        title = f\"Spatiotemporal dist. of {subj_cell_name} cells \\n around {focal_cell_name} {focal_event_name} (N={N})\"\n",
    "        cb_label = f\"Number of {subj_cell_name} cell apperances\"\n",
    "        \n",
    "    elif input_dict.get('input_type') == \"N_events\":\n",
    "        title = f\"Spatiotemporal dist. of {subj_cell_name} {subj_event_name} \\n around {focal_cell_name} {focal_event_name} (N={N})\"\n",
    "        cb_label = f\"Number of {subj_cell_name} {subj_event_name}\"\n",
    "        \n",
    "    elif input_dict.get('input_type') == \"P_events\":\n",
    "        title = f\"Spatiotemporal dist. of probability of {subj_cell_name} {subj_event_name} \\n around {focal_cell_name} {focal_event_name} (N={N})\"\n",
    "        cb_label = f\"Probability of {subj_cell_name} {subj_event_name}\"\n",
    "        \n",
    "    elif input_dict.get('input_type') == \"CV\":\n",
    "        title = f\"Coefficient of variation of probability of {subj_cell_name} {subj_event_name} \\n around {focal_cell_name} {focal_event_name} (N={N})\"\n",
    "        cb_label = \"Coefficient of variation\"\n",
    "        \n",
    "    elif input_dict.get('input_type') == \"stat_rel\":\n",
    "        title = f\"Statisticall relevant areas of probability of {subj_cell_name} {subj_event_name} \\n around {focal_cell_name} {focal_event_name} (N={N})\"\n",
    "        cb_label = \"Relevant areas are set equal to 1\"\n",
    "        \n",
    "    elif input_dict.get('input_type') == \"dP\":\n",
    "        title = f\"Difference in probability between \\ncanonical and control analysis \\ni.e. probability of {subject_event_name} above background\"\n",
    "        cb_label = \"Difference in probability\\n above background\"\n",
    "    else: \n",
    "        title = input('Input the title of your plot')\n",
    "        cb_label = input('Input the label for your colorbar')\n",
    "        \n",
    "    ## label unit formatting\n",
    "    if SI == True:\n",
    "        time_unit = \"(Hours)\"\n",
    "        distance_unit = \"(Micrometers)\"\n",
    "    else:\n",
    "        time_unit = \"(Frames)\"\n",
    "        distance_unit = \"(Pixels)\"\n",
    "\n",
    "    ## plotting\n",
    "    font = {\"fontname\": \"Liberation Mono\"}\n",
    "    plt.xticks(xlocs, xlabels, rotation=\"vertical\", **font)\n",
    "    plt.yticks(ylocs, ylabels, **font)\n",
    "    plt.xlabel(\"Time since apoptosis \" + time_unit, **font)\n",
    "    plt.ylabel(\"Distance from apoptosis \" + distance_unit, **font)\n",
    "    plt.title(title + \"\\n\", fontweight=\"bold\", **font)\n",
    "    \n",
    "    ### default is to include the apoptotic spatial bin\n",
    "    include_apop_bin = input_dict.get('include_apop_bin', True)\n",
    "    ## if include_apop_bin is true then the spatial bin containing the apoptotic cell (ie the central spatial bin of the radial scan) will be show in the graph, if false then it is cropped which ends up with a plot showing only the relevant local env not the site of apop (better imo)\n",
    "    if include_apop_bin == True:\n",
    "        final_hist = np.flipud(input_2d_hist)  ## flip for desired graph orientation\n",
    "    else:\n",
    "        final_hist = np.flipud(input_2d_hist[1:-1, :])\n",
    "\n",
    "    ## apop location marker\n",
    "    if num_bins == 10:\n",
    "        if include_apop_bin == True:\n",
    "            plt.scatter(\n",
    "                num_bins / 2 - 0.5, num_bins - 0.75, s=20, c=\"white\", marker=\"v\"\n",
    "            )\n",
    "            plt.text(\n",
    "                num_bins + 0.15,\n",
    "                num_bins + 1.5,\n",
    "                \"Apoptosis location \\nshown by inverted \\nwhite triangle\",\n",
    "                **font,\n",
    "            )\n",
    "        else:\n",
    "            plt.scatter(\n",
    "                num_bins / 2 - 0.5, num_bins - 2 - 0.75, s=20, c=\"white\", marker=\"v\"\n",
    "            )\n",
    "            plt.text(\n",
    "                num_bins + 0.15,\n",
    "                num_bins + 1.5 - 2,\n",
    "                \"Apoptosis location \\nshown by inverted \\nwhite triangle\",\n",
    "                **font,\n",
    "            )\n",
    "    if num_bins == 20:\n",
    "        if include_apop_bin == True:\n",
    "            plt.scatter(num_bins / 2 - 0.5, num_bins - 0.9, s=20, c=\"white\", marker=\"v\")\n",
    "            plt.text(\n",
    "                num_bins + 0.3,\n",
    "                num_bins + 3.5,\n",
    "                \"Apoptosis location \\nshown by inverted \\nwhite triangle\",\n",
    "                **font,\n",
    "            )\n",
    "        else:\n",
    "            plt.scatter(num_bins / 2 - 0.5, num_bins - 1.8, s=20, c=\"white\", marker=\"v\")\n",
    "            plt.text(\n",
    "                num_bins + 0.3,\n",
    "                num_bins + 2.5,\n",
    "                \"Apoptosis location \\nshown by inverted \\nwhite triangle\",\n",
    "                **font,\n",
    "            )\n",
    "    \n",
    "    ### default is to have no cbar_lim\n",
    "    cbar_lim = input_dict.get('cbar_lim', False)\n",
    "    ## colorbar\n",
    "    if cbar_lim == False:\n",
    "        if include_apop_bin == False:\n",
    "            plt.clim(\n",
    "                vmin=np.min(input_2d_hist[1:-1, :]), vmax=np.max(input_2d_hist[1:-1, :])\n",
    "            )\n",
    "        else:\n",
    "            plt.clim(vmin=np.min(input_2d_hist), vmax=np.max(input_2d_hist))\n",
    "        cb = plt.colorbar(\n",
    "            label=cb_label\n",
    "        )  ### matplotlib.cm.ScalarMappable(norm = ???cmap='PiYG'), use this in conjunction with norm to set cbar equal to diff piyg coloourscheme\n",
    "        ax = cb.ax\n",
    "        text = ax.yaxis.label\n",
    "        font = matplotlib.font_manager.FontProperties(family=\"Liberation Mono\")\n",
    "        text.set_font_properties(font)\n",
    "        ax.set_yticklabels(\n",
    "            np.round(ax.get_yticks(), 5), **{\"fontname\": \"Liberation Mono\"}\n",
    "        )  ### cropped to 5dp\n",
    "    else:\n",
    "        cbar_lim = input_dict['cbar_lim']\n",
    "        plt.clim(vmin=cbar_lim[0], vmax=cbar_lim[1])\n",
    "        cb = plt.colorbar(label=cb_label)\n",
    "        ax = cb.ax\n",
    "        text = ax.yaxis.label\n",
    "        font = matplotlib.font_manager.FontProperties(family=\"Liberation Mono\")\n",
    "        text.set_font_properties(font)\n",
    "        ax.set_yticklabels(\n",
    "            np.round(ax.get_yticks(), 5), **{\"fontname\": \"Liberation Mono\"}\n",
    "        )\n",
    "\n",
    "    ### default to have no bin labels\n",
    "    bin_labels = input_dict.get('bin_labels', False)\n",
    "    ## bin labels\n",
    "    if bin_labels == True:\n",
    "        flipped = np.flipud(input_2d_hist)\n",
    "        if input_type == \"P_events\":\n",
    "            for i in range(len(input_2d_hist)):\n",
    "                for j in range(len(input_2d_hist)):\n",
    "                    text = plt.text(\n",
    "                        j,\n",
    "                        i,\n",
    "                        round(flipped[i, j], 5),\n",
    "                        ha=\"center\",\n",
    "                        va=\"center\",\n",
    "                        color=\"w\",\n",
    "                        fontsize=\"xx-small\",\n",
    "                    )\n",
    "        elif input_type == \"dP\":\n",
    "            for i in range(len(input_2d_hist)):\n",
    "                for j in range(len(input_2d_hist)):\n",
    "                    text = plt.text(\n",
    "                        j,\n",
    "                        i,\n",
    "                        round(flipped[i, j], 6),\n",
    "                        ha=\"center\",\n",
    "                        va=\"center\",\n",
    "                        color=\"w\",\n",
    "                        fontsize=\"xx-small\",\n",
    "                    )\n",
    "        elif input_type == \"CV\":\n",
    "            for i in range(len(input_2d_hist)):\n",
    "                for j in range(len(input_2d_hist)):\n",
    "                    text = plt.text(\n",
    "                        j,\n",
    "                        i,\n",
    "                        round(flipped[i, j], 3),\n",
    "                        ha=\"center\",\n",
    "                        va=\"center\",\n",
    "                        color=\"w\",\n",
    "                        fontsize=\"xx-small\",\n",
    "                    )\n",
    "        if input_type == \"stat_rel\":\n",
    "            for i in range(len(input_2d_hist)):\n",
    "                for j in range(len(input_2d_hist)):\n",
    "                    text = plt.text(\n",
    "                        j,\n",
    "                        i,\n",
    "                        int(flipped[i, j]),\n",
    "                        ha=\"center\",\n",
    "                        va=\"center\",\n",
    "                        color=\"w\",\n",
    "                        fontsize=\"xx-small\",\n",
    "                    )\n",
    "        else:\n",
    "            for i in range(len(input_2d_hist)):\n",
    "                for j in range(len(input_2d_hist)):\n",
    "                    text = plt.text(\n",
    "                        j,\n",
    "                        i,\n",
    "                        int(flipped[i, j]),\n",
    "                        ha=\"center\",\n",
    "                        va=\"center\",\n",
    "                        color=\"w\",\n",
    "                        fontsize=\"xx-small\",\n",
    "                    )\n",
    "    ## save out?\n",
    "    if 'save_parent_dir' not in input_dict:\n",
    "        plt.imshow(final_hist)\n",
    "        return   # ,cmap = 'PiYG')\n",
    "    else:\n",
    "        ## output save path formatting\n",
    "        save_parent_dir = input_dict['save_parent_dir']\n",
    "        save_dir_name = \"{}_{}_{}_{}\".format(\n",
    "            focal_cell.lower(),\n",
    "            focal_event.lower()[0:3]\n",
    "            if focal_event == \"DIVISION\"\n",
    "            else focal_event.lower()[0:4],\n",
    "            subject_cell.lower(),\n",
    "            subject_event.lower()[0:3]\n",
    "            if subject_event == \"DIVISION\"\n",
    "            else subject_event.lower()[0:4],\n",
    "        )\n",
    "        save_path = os.path.join(save_parent_dir, save_dir_name)\n",
    "        # if (\n",
    "        #     not input_type == \"dP\"\n",
    "        # ):  ### combined type does not require segregated folders for canon control\n",
    "        Path(save_path).mkdir(parents=True, exist_ok=True)\n",
    "\n",
    "        ## filename\n",
    "        fn = save_path + \"/\" + title + f\" {radius}.{t_range}.{num_bins}.pdf\"\n",
    "        ## failsafe overwriting block\n",
    "        if os.path.exists(fn):\n",
    "            print(\"Filename\", fn, \"already exists, saving as updated copy\")\n",
    "            fn = fn.replace(\n",
    "                \".pdf\", \" (updated {}).pdf\".format(time.strftime(\"%Y%m%d-%H%M%S\"))\n",
    "            )\n",
    "        plt.imshow(final_hist)\n",
    "        plt.plot()\n",
    "        plt.savefig(fn, dpi=300, bbox_inches=\"tight\")\n",
    "        print(\"Plot saved at \", fn)\n",
    "\n",
    "        return plt.imshow(final_hist)"
   ]
  },
  {
   "cell_type": "code",
   "execution_count": null,
   "metadata": {},
   "outputs": [],
   "source": [
    "def auto_plot_cumulative(\n",
    "input_dict\n",
    "):\n",
    "    plt.clf()\n",
    "    ### read input parameters and data\n",
    "    input_2d_hist = input_dict['input_2d_hist']\n",
    "    input_type = input_dict['input_type']         # make this string input\n",
    "    N = input_dict['N']\n",
    "    radius = input_dict['radius']                 # can i make this read from preexisting        \n",
    "    t_range = input_dict['t_range']               # ditto\n",
    "    focal_cell = input_dict['focal_cell']         # make string input that just prints?\n",
    "    focal_event = input_dict['focal_event']    \n",
    "    subject_cell = input_dict['subject_cell']\n",
    "    subject_event = input_dict['subject_event']\n",
    "\n",
    "    ### set the default params if param entry in dict is empty\n",
    "    ### default is to include the apoptotic spatial bin\n",
    "    if 'include_apop_bin' not in input_dict:\n",
    "        include_apop_bin = True\n",
    "    else:\n",
    "        include_apop_bin = input_dict['include_apop_bin']\n",
    "    ### default to have standard measures\n",
    "    if 'SI' not in input_dict:\n",
    "        SI = True\n",
    "    else:\n",
    "        SI = input_dict['SI']\n",
    "    ### default to have no bin labels\n",
    "    if 'bin_labels' not in input_dict:\n",
    "        bin_labels = False\n",
    "    else:\n",
    "        bin_labels = input_dict['bin_labels']\n",
    "    ### default to read the number of bins from the array shape\n",
    "    if 'num_bins' not in input_dict:\n",
    "        num_bins = input_2d_hist.shape[0]\n",
    "    else:\n",
    "        num_bins = input_dict['num_bins']\n",
    "    ### default is to have no cbar_lim\n",
    "    if 'cbar_lim' not in input_dict:\n",
    "        cbar_lim = False\n",
    "    else:\n",
    "        cbar_lim = input_dict['cbar_lim']\n",
    "\n",
    "    ### set the label frequency according to the num bins\n",
    "    if num_bins > 20:\n",
    "        label_freq = 4\n",
    "    else:\n",
    "        label_freq = 1\n",
    "    xlocs, xlabels, ylocs, ylabels = kymo_labels(\n",
    "        num_bins, label_freq, radius, t_range, SI\n",
    "    )\n",
    "\n",
    "    ## formatting cell and event names\n",
    "    focal_event_name = (\n",
    "        \"apoptoses\" if \"apop\" in focal_event.lower() else \"divisions\"\n",
    "    )  # focal_event == 'APOPTOSIS' or 'apop' else 'divisions'\n",
    "    focal_cell_name = \"wild-type\" if \"wt\" in focal_cell.lower() else \"Scribble\"\n",
    "    subj_event_name = \"apoptoses\" if \"apop\" in subject_event.lower() else \"divisions\"\n",
    "    subj_cell_name = \"wild-type\" if \"wt\" in subject_cell.lower() else \"Scribble\"\n",
    "\n",
    "    if focal_event == \"control\":\n",
    "        focal_event_name = \"random time points\"\n",
    "\n",
    "    title = (\n",
    "        \"Spatiotemporal dist. of probability of {} {} \\n around {} {} (N={})\".format(\n",
    "            subj_cell_name, subj_event_name, focal_cell_name, focal_event_name, N\n",
    "        )\n",
    "    )\n",
    "\n",
    "    ## title formatting\n",
    "    if input_type == \"N_cells\":\n",
    "        title = \"Spatiotemporal dist. of {} cells \\n around {} {} (N={})\".format(\n",
    "            subj_cell_name, focal_cell_name, focal_event_name, N\n",
    "        )\n",
    "        cb_label = f\"Number of {subj_cell_name} cell apperances\"\n",
    "    if input_type == \"N_events\":\n",
    "        title = \"Spatiotemporal dist. of {} {} \\n around {} {} (N={})\".format(\n",
    "            subj_cell_name, subj_event_name, focal_cell_name, focal_event_name, N\n",
    "        )\n",
    "        cb_label = f\"Number of {subj_cell_name} {subj_event_name}\"\n",
    "    if input_type == \"P_events\":\n",
    "        title = \"Spatiotemporal dist. of probability of {} {} \\n around {} {} (N={})\".format(\n",
    "            subj_cell_name, subj_event_name, focal_cell_name, focal_event_name, N\n",
    "        )\n",
    "        cb_label = f\"Probability of {subj_cell_name} {subj_event_name}\"\n",
    "    if input_type == \"CV\":\n",
    "        title = \"Coefficient of variation of probability of {} {} \\n around {} {} (N={})\".format(\n",
    "            subj_cell_name, subj_event_name, focal_cell_name, focal_event_name, N\n",
    "        )\n",
    "        cb_label = \"Coefficient of variation\"\n",
    "    if input_type == \"stat_rel\":\n",
    "        title = \"Statisticall relevant areas of probability of {} {} \\n around {} {} (N={})\".format(\n",
    "            subj_cell_name, subj_event_name, focal_cell_name, focal_event_name, N\n",
    "        )\n",
    "        cb_label = \"Relevant areas are set equal to 1\"\n",
    "    if input_type == \"dP\":\n",
    "        title = \"Difference in probability between \\ncanonical and control analysis \\ni.e. probability of division above background\".format(\n",
    "            subj_cell_name, subj_event_name, focal_cell_name, focal_event_name, N\n",
    "        )\n",
    "        cb_label = \"Difference in probability\\n above background\"\n",
    "\n",
    "    ## label unit formatting\n",
    "    if SI == True:\n",
    "        time_unit = \"(Hours)\"\n",
    "        distance_unit = \"(Micrometers)\"\n",
    "    else:\n",
    "        time_unit = \"(Frames)\"\n",
    "        distance_unit = \"(Pixels)\"\n",
    "\n",
    "    ## plotting\n",
    "    font = {\"fontname\": \"Liberation Mono\"}\n",
    "    plt.xticks(xlocs, xlabels, rotation=\"vertical\", **font)\n",
    "    plt.yticks(ylocs, ylabels, **font)\n",
    "    plt.xlabel(\"Time since apoptosis \" + time_unit, **font)\n",
    "    plt.ylabel(\"Distance from apoptosis \" + distance_unit, **font)\n",
    "    plt.title(title + \"\\n\", fontweight=\"bold\", **font)\n",
    "\n",
    "    ## if include_apop_bin is true then the spatial bin containing the apoptotic cell (ie the central spatial bin of the radial scan) will be show in the graph, if false then it is cropped which ends up with a plot showing only the relevant local env not the site of apop (better imo)\n",
    "    if include_apop_bin == True:\n",
    "        final_hist = np.flipud(input_2d_hist)  ## flip for desired graph orientation\n",
    "    else:\n",
    "        final_hist = np.flipud(input_2d_hist[1:-1, :])\n",
    "\n",
    "    ## apop location marker\n",
    "    if num_bins == 10:\n",
    "        if include_apop_bin == True:\n",
    "            plt.scatter(\n",
    "                num_bins / 2 - 0.5, num_bins - 0.75, s=20, c=\"white\", marker=\"v\"\n",
    "            )\n",
    "            plt.text(\n",
    "                num_bins + 0.15,\n",
    "                num_bins + 1.5,\n",
    "                \"Apoptosis location \\nshown by inverted \\nwhite triangle\",\n",
    "                **font,\n",
    "            )\n",
    "        else:\n",
    "            plt.scatter(\n",
    "                num_bins / 2 - 0.5, num_bins - 2 - 0.75, s=20, c=\"white\", marker=\"v\"\n",
    "            )\n",
    "            plt.text(\n",
    "                num_bins + 0.15,\n",
    "                num_bins + 1.5 - 2,\n",
    "                \"Apoptosis location \\nshown by inverted \\nwhite triangle\",\n",
    "                **font,\n",
    "            )\n",
    "    if num_bins == 20:\n",
    "        if include_apop_bin == True:\n",
    "            plt.scatter(num_bins / 2 - 0.5, num_bins - 0.9, s=20, c=\"white\", marker=\"v\")\n",
    "            plt.text(\n",
    "                num_bins + 0.3,\n",
    "                num_bins + 3.5,\n",
    "                \"Apoptosis location \\nshown by inverted \\nwhite triangle\",\n",
    "                **font,\n",
    "            )\n",
    "        else:\n",
    "            plt.scatter(num_bins / 2 - 0.5, num_bins - 1.8, s=20, c=\"white\", marker=\"v\")\n",
    "            plt.text(\n",
    "                num_bins + 0.3,\n",
    "                num_bins + 2.5,\n",
    "                \"Apoptosis location \\nshown by inverted \\nwhite triangle\",\n",
    "                **font,\n",
    "            )\n",
    "\n",
    "    ## colorbar\n",
    "    if cbar_lim == False:\n",
    "        if include_apop_bin == False:\n",
    "            plt.clim(\n",
    "                vmin=np.min(input_2d_hist[1:-1, :]), vmax=np.max(input_2d_hist[1:-1, :])\n",
    "            )\n",
    "        else:\n",
    "            plt.clim(vmin=np.min(input_2d_hist), vmax=np.max(input_2d_hist))\n",
    "        cb = plt.colorbar(\n",
    "            label=cb_label\n",
    "        )  ### matplotlib.cm.ScalarMappable(norm = ???cmap='PiYG'), use this in conjunction with norm to set cbar equal to diff piyg coloourscheme\n",
    "        ax = cb.ax\n",
    "        text = ax.yaxis.label\n",
    "        font = matplotlib.font_manager.FontProperties(family=\"Liberation Mono\")\n",
    "        text.set_font_properties(font)\n",
    "        ax.set_yticklabels(\n",
    "            np.round(ax.get_yticks(), 5), **{\"fontname\": \"Liberation Mono\"}\n",
    "        )  ### cropped to 5dp\n",
    "    else:\n",
    "        cbar_lim = input_dict['cbar_lim']\n",
    "        plt.clim(vmin=cbar_lim[0], vmax=cbar_lim[1])\n",
    "        cb = plt.colorbar(label=cb_label)\n",
    "        ax = cb.ax\n",
    "        text = ax.yaxis.label\n",
    "        font = matplotlib.font_manager.FontProperties(family=\"Liberation Mono\")\n",
    "        text.set_font_properties(font)\n",
    "        ax.set_yticklabels(\n",
    "            np.round(ax.get_yticks(), 5), **{\"fontname\": \"Liberation Mono\"}\n",
    "        )\n",
    "\n",
    "    ## bin labels\n",
    "    if bin_labels == True:\n",
    "        flipped = np.flipud(input_2d_hist)\n",
    "        if input_type == \"P_events\":\n",
    "            for i in range(len(input_2d_hist)):\n",
    "                for j in range(len(input_2d_hist)):\n",
    "                    text = plt.text(\n",
    "                        j,\n",
    "                        i,\n",
    "                        round(flipped[i, j], 5),\n",
    "                        ha=\"center\",\n",
    "                        va=\"center\",\n",
    "                        color=\"w\",\n",
    "                        fontsize=\"xx-small\",\n",
    "                    )\n",
    "        elif input_type == \"dP\":\n",
    "            for i in range(len(input_2d_hist)):\n",
    "                for j in range(len(input_2d_hist)):\n",
    "                    text = plt.text(\n",
    "                        j,\n",
    "                        i,\n",
    "                        round(flipped[i, j], 6),\n",
    "                        ha=\"center\",\n",
    "                        va=\"center\",\n",
    "                        color=\"w\",\n",
    "                        fontsize=\"xx-small\",\n",
    "                    )\n",
    "        elif input_type == \"CV\":\n",
    "            for i in range(len(input_2d_hist)):\n",
    "                for j in range(len(input_2d_hist)):\n",
    "                    text = plt.text(\n",
    "                        j,\n",
    "                        i,\n",
    "                        round(flipped[i, j], 3),\n",
    "                        ha=\"center\",\n",
    "                        va=\"center\",\n",
    "                        color=\"w\",\n",
    "                        fontsize=\"xx-small\",\n",
    "                    )\n",
    "        if input_type == \"stat_rel\":\n",
    "            for i in range(len(input_2d_hist)):\n",
    "                for j in range(len(input_2d_hist)):\n",
    "                    text = plt.text(\n",
    "                        j,\n",
    "                        i,\n",
    "                        int(flipped[i, j]),\n",
    "                        ha=\"center\",\n",
    "                        va=\"center\",\n",
    "                        color=\"w\",\n",
    "                        fontsize=\"xx-small\",\n",
    "                    )\n",
    "        else:\n",
    "            for i in range(len(input_2d_hist)):\n",
    "                for j in range(len(input_2d_hist)):\n",
    "                    text = plt.text(\n",
    "                        j,\n",
    "                        i,\n",
    "                        int(flipped[i, j]),\n",
    "                        ha=\"center\",\n",
    "                        va=\"center\",\n",
    "                        color=\"w\",\n",
    "                        fontsize=\"xx-small\",\n",
    "                    )\n",
    "    ## save out?\n",
    "    if 'save_parent_dir' not in input_dict:\n",
    "        plt.imshow(final_hist)\n",
    "        return   # ,cmap = 'PiYG')\n",
    "    else:\n",
    "        ## output save path formatting\n",
    "        save_parent_dir = input_dict['save_parent_dir']\n",
    "        save_dir_name = \"{}_{}_{}_{}\".format(\n",
    "            focal_cell.lower(),\n",
    "            focal_event.lower()[0:3]\n",
    "            if focal_event == \"DIVISION\"\n",
    "            else focal_event.lower()[0:4],\n",
    "            subject_cell.lower(),\n",
    "            subject_event.lower()[0:3]\n",
    "            if subject_event == \"DIVISION\"\n",
    "            else subject_event.lower()[0:4],\n",
    "        )\n",
    "        save_path = os.path.join(save_parent_dir, save_dir_name)\n",
    "        # if (\n",
    "        #     not input_type == \"dP\"\n",
    "        # ):  ### combined type does not require segregated folders for canon control\n",
    "        Path(save_path).mkdir(parents=True, exist_ok=True)\n",
    "\n",
    "        ## filename\n",
    "        fn = save_path + \"/\" + title + f\" {radius}.{t_range}.{num_bins}.pdf\"\n",
    "        ## failsafe overwriting block\n",
    "        if os.path.exists(fn):\n",
    "            print(\"Filename\", fn, \"already exists, saving as updated copy\")\n",
    "            fn = fn.replace(\n",
    "                \".pdf\", \" (updated {}).pdf\".format(time.strftime(\"%Y%m%d-%H%M%S\"))\n",
    "            )\n",
    "        plt.imshow(final_hist)\n",
    "        plt.plot()\n",
    "        plt.savefig(fn, dpi=300, bbox_inches=\"tight\")\n",
    "        print(\"Plot saved at \", fn)\n",
    "\n",
    "        return plt.imshow(final_hist)"
   ]
  }
 ],
 "metadata": {
  "kernelspec": {
   "display_name": "Python 3",
   "language": "python",
   "name": "python3"
  },
  "language_info": {
   "codemirror_mode": {
    "name": "ipython",
    "version": 3
   },
   "file_extension": ".py",
   "mimetype": "text/x-python",
   "name": "python",
   "nbconvert_exporter": "python",
   "pygments_lexer": "ipython3",
   "version": "3.7.6"
  }
 },
 "nbformat": 4,
 "nbformat_minor": 5
}
