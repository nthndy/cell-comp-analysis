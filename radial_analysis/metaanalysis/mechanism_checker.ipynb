{
 "cells": [
  {
   "cell_type": "markdown",
   "metadata": {},
   "source": [
    "# Hypothesis mechanism checker\n",
    "\n",
    "This notebook serves as a hypothesis checker to analyse previously generated spatio-temporal radial heatmaps in lieu of certain new ideas etc etc etc"
   ]
  },
  {
   "cell_type": "code",
   "execution_count": 1,
   "metadata": {},
   "outputs": [],
   "source": [
    "import os\n",
    "import numpy as np\n",
    "import sys\n",
    "sys.path.append('../')\n",
    "import render\n",
    "import matplotlib.pyplot as plt\n",
    "%matplotlib inline\n",
    "plt.rcParams['figure.figsize'] = [10,6]"
   ]
  },
  {
   "cell_type": "markdown",
   "metadata": {},
   "source": [
    "### Distribution of wild-type divisions around Scr<sup>KD</sup> apoptoses\n",
    "\n",
    "Hypothesis #1 is that the generally diffuse low probabilities of wt division is indicative of a mechanical mechanism of competition. This means that the competition is not apparent on a single-cell level via measuring coincidences of divisions and apoptoses, rather the competition is driven by mechanical forces that operate over several cell diameters.\n",
    "\n",
    "One way to measure this is to see if the P(div) around a Scr apop is above a background rate across different time scales."
   ]
  },
  {
   "cell_type": "markdown",
   "metadata": {},
   "source": [
    "##### Loading heatmaps "
   ]
  },
  {
   "cell_type": "code",
   "execution_count": 2,
   "metadata": {},
   "outputs": [],
   "source": [
    "canon_arrays = np.load('/home/nathan/data/results/radial_analysis_output/follow/arrays/scr_apop_wt_div_N_cell_N_event_P_event_800.800.10.npz')\n",
    "control_arrays = np.load('/home/nathan/data/results/radial_analysis_output/follow/arrays/wt_control_wt_div_N_cell_N_event_P_event_800.800.10.npz')"
   ]
  },
  {
   "cell_type": "markdown",
   "metadata": {},
   "source": [
    "Array key: \n",
    "\n",
    "    arr_0 = N_cells\n",
    "    arr_1 = N_events\n",
    "    arr_2 = P_events\n",
    "    \n",
    "Array dimensionality:\n",
    "\n",
    "    y = radial dimension\n",
    "    x = temporal dimension"
   ]
  },
  {
   "cell_type": "code",
   "execution_count": 3,
   "metadata": {},
   "outputs": [
    {
     "name": "stdout",
     "output_type": "stream",
     "text": [
      "arr_0\n",
      "arr_1\n",
      "arr_2\n"
     ]
    }
   ],
   "source": [
    "for i in canon_arrays:\n",
    "    print(i)"
   ]
  },
  {
   "cell_type": "code",
   "execution_count": 4,
   "metadata": {},
   "outputs": [
    {
     "data": {
      "text/plain": [
       "array([[0.00207791, 0.00224084, 0.00141168, 0.00132865, 0.00141313,\n",
       "        0.00091527, 0.00105961, 0.00105217, 0.00113566, 0.00111346],\n",
       "       [0.00197637, 0.00177525, 0.00163802, 0.0015011 , 0.00134412,\n",
       "        0.0012967 , 0.00134064, 0.00128581, 0.00126718, 0.00118534],\n",
       "       [0.00175041, 0.0017683 , 0.0017051 , 0.00156908, 0.00148989,\n",
       "        0.00137225, 0.00140396, 0.00138051, 0.00134145, 0.00129904],\n",
       "       [0.00191597, 0.00168858, 0.00178383, 0.00166355, 0.00152496,\n",
       "        0.00138755, 0.00140474, 0.00143284, 0.00131253, 0.00133735],\n",
       "       [0.00171874, 0.00172032, 0.001738  , 0.00161022, 0.00153505,\n",
       "        0.00142475, 0.00142009, 0.00142066, 0.0013129 , 0.00129414],\n",
       "       [0.00184081, 0.00184503, 0.00173159, 0.00167957, 0.00156042,\n",
       "        0.00148146, 0.00145129, 0.00143947, 0.00136   , 0.00127561],\n",
       "       [0.00186075, 0.00181038, 0.00169634, 0.00164578, 0.00154604,\n",
       "        0.00146484, 0.00145331, 0.00143062, 0.0013681 , 0.00131944],\n",
       "       [0.00185229, 0.00192518, 0.00175653, 0.00164237, 0.00153566,\n",
       "        0.00146306, 0.00142862, 0.00140816, 0.00135349, 0.00129118],\n",
       "       [0.00180829, 0.00184179, 0.00176287, 0.00167389, 0.00157632,\n",
       "        0.00148661, 0.00145236, 0.00137692, 0.00140213, 0.00135745],\n",
       "       [0.00199441, 0.00178073, 0.00180449, 0.00169882, 0.001532  ,\n",
       "        0.00148653, 0.00151939, 0.00136858, 0.00136372, 0.00130514]])"
      ]
     },
     "execution_count": 4,
     "metadata": {},
     "output_type": "execute_result"
    }
   ],
   "source": [
    "canon_arrays['arr_2']"
   ]
  },
  {
   "cell_type": "code",
   "execution_count": 5,
   "metadata": {},
   "outputs": [],
   "source": [
    "P_events = canon_arrays['arr_2']\n",
    "P_events_c = control_arrays['arr_2']"
   ]
  },
  {
   "cell_type": "markdown",
   "metadata": {},
   "source": [
    "How these plots are typically displayed"
   ]
  },
  {
   "cell_type": "code",
   "execution_count": 8,
   "metadata": {},
   "outputs": [],
   "source": [
    "## set a few params in inout dict\n",
    "#input_dict = {'input_2d_hist':P_events, 'input_type':'P_events', 'N': 1839, 'radius': 800, 't_range': 800, 'focal_cell':'Scr', 'focal_event':'apop', 'subject_cell':'wt', 'subject_event': 'div', 'include_apop_bin':True, 'SI':True}"
   ]
  },
  {
   "cell_type": "code",
   "execution_count": 6,
   "metadata": {},
   "outputs": [],
   "source": [
    "input_dict = {'input_2d_hist':P_events}"
   ]
  },
  {
   "cell_type": "code",
   "execution_count": 7,
   "metadata": {},
   "outputs": [
    {
     "name": "stdout",
     "output_type": "stream",
     "text": [
      "Enter the scan radius800\n",
      "Enter the scan time range800\n",
      "Input the title of your plottest title\n",
      "Input the label for your colorbartest label\n",
      "What is the focal event of the radial scan?a test\n"
     ]
    },
    {
     "data": {
      "image/png": "[encoded data removed]",
      "text/plain": [
       "<Figure size 720x432 with 2 Axes>"
      ]
     },
     "metadata": {
      "needs_background": "light"
     },
     "output_type": "display_data"
    }
   ],
   "source": [
    "render.auto_plot_cumulative(input_dict)"
   ]
  },
  {
   "cell_type": "markdown",
   "metadata": {},
   "source": [
    "#### Plotting radial columns"
   ]
  },
  {
   "cell_type": "code",
   "execution_count": null,
   "metadata": {},
   "outputs": [],
   "source": [
    "for n, i in enumerate(P_events.transpose()):\n",
    "    plt.plot(i, label = f'Temporal bin {n}')\n",
    "plt.legend(loc = 'upper right', fontsize = 'xx-small')\n",
    "plt.xlabel('Increasing radial bins')\n",
    "plt.ylabel('Probability')\n",
    "plt.title('Spatial distribution of probability of wild-type \\n division around $Scr^{KD}$ apoptoses')"
   ]
  },
  {
   "cell_type": "code",
   "execution_count": null,
   "metadata": {},
   "outputs": [],
   "source": [
    "for n, i in enumerate(P_events_c.transpose()):\n",
    "    plt.plot(i, label = f'Temporal bin {n}')\n",
    "plt.legend(loc = 'upper right', fontsize = 'xx-small')\n",
    "plt.xlabel('Increasing radial bins')\n",
    "plt.ylabel('Probability')\n",
    "plt.title('Spatial distribution of probability of wild-type \\n division around random wild-type points')\n",
    "plt.show()"
   ]
  },
  {
   "cell_type": "markdown",
   "metadata": {},
   "source": [
    "#### Plotting temporal rows\n",
    "\n",
    "Just to confirm"
   ]
  },
  {
   "cell_type": "code",
   "execution_count": null,
   "metadata": {},
   "outputs": [],
   "source": [
    "for n, i in enumerate(P_events):\n",
    "    plt.plot(i, label = f'Temporal bin {n}')\n",
    "plt.legend(loc = 'upper right', fontsize = 'xx-small')\n",
    "plt.xlabel('Increasing radial bins')\n",
    "plt.ylabel('Probability')\n",
    "plt.title('Spatial distribution of probability of wild-type \\n division around $Scr^{KD}$ apoptoses')\n",
    "plt.show()"
   ]
  },
  {
   "cell_type": "markdown",
   "metadata": {},
   "source": [
    "### Difference between radial columns canon and background control"
   ]
  },
  {
   "cell_type": "code",
   "execution_count": null,
   "metadata": {},
   "outputs": [],
   "source": [
    "radius = 800\n",
    "num_bins = 10"
   ]
  },
  {
   "cell_type": "code",
   "execution_count": null,
   "metadata": {
    "scrolled": false
   },
   "outputs": [],
   "source": [
    "plt.clf()\n",
    "for i in range(len(P_events)):\n",
    "    plt.plot(P_events[:,i] - P_events_c[:,i], label = f'Temporal bin {i}')\n",
    "plt.legend(loc = 'upper right', fontsize = 'xx-small')\n",
    "plt.xticks(ticks = range(-1, num_bins), labels = np.linspace(0, radius, num_bins +1, dtype = 'uint'), rotation = 'vertical')\n",
    "plt.xlabel('Radial distance from apoptoses')\n",
    "plt.ylabel('Probability')\n",
    "plt.hlines(y = 0, xmin = 0, xmax= 10, color = 'black')\n",
    "plt.title('Spatial distribution of probability of wild-type \\n division around $Scr^{KD}$ apoptoses above background')\n",
    "plt.show()"
   ]
  },
  {
   "cell_type": "markdown",
   "metadata": {},
   "source": [
    "# Conclusion "
   ]
  },
  {
   "cell_type": "markdown",
   "metadata": {},
   "source": [
    "This seems to suggest that the overall rate of division is generally below background levels for each timepoint before and after the apoptosis event\n",
    "\n",
    "If it were above background levels you could posit that there is an increased chance of division across all spatial bins and that this is evidence for mechanical competition at play via division events. However this is not the case, fuelling my suspicion that division events aren't driving the competition, they are merely a side effect of the competition.\n",
    "\n",
    "Should I change the radial analysis to measure other events beside division?"
   ]
  },
  {
   "cell_type": "markdown",
   "metadata": {},
   "source": [
    "# Measuring radial distribution of cell density (N_cells/area)"
   ]
  },
  {
   "cell_type": "code",
   "execution_count": null,
   "metadata": {},
   "outputs": [],
   "source": [
    "N_cells = canon_arrays['arr_0']"
   ]
  },
  {
   "cell_type": "code",
   "execution_count": null,
   "metadata": {},
   "outputs": [],
   "source": [
    "N_cells"
   ]
  },
  {
   "cell_type": "markdown",
   "metadata": {},
   "source": [
    "Need a 10x10 array where each row is the area of that spatial bin (first in pixels)"
   ]
  },
  {
   "cell_type": "code",
   "execution_count": null,
   "metadata": {},
   "outputs": [],
   "source": [
    "def bin_area(bin_num):\n",
    "    import math\n",
    "    bin_size = 80\n",
    "    area = (math.pi * ((bin_num*bin_size)**2)) - (math.pi * ((bin_num-1)*bin_size)**2)\n",
    "    return area"
   ]
  },
  {
   "cell_type": "code",
   "execution_count": null,
   "metadata": {},
   "outputs": [],
   "source": [
    "bin_area(3)"
   ]
  },
  {
   "cell_type": "code",
   "execution_count": null,
   "metadata": {},
   "outputs": [],
   "source": [
    "area_array = np.zeros((num_bins,num_bins))\n",
    "for i in range(len(area_array)):\n",
    "               area_array[i,:] = bin_area(i+1)\n",
    "area_array"
   ]
  },
  {
   "cell_type": "code",
   "execution_count": null,
   "metadata": {},
   "outputs": [],
   "source": [
    "dens_cells = N_cells/area_array"
   ]
  },
  {
   "cell_type": "code",
   "execution_count": null,
   "metadata": {},
   "outputs": [],
   "source": [
    "%matplotlib inline\n",
    "plt.rcParams['figure.figsize'] = [10,6]\n",
    "plt.clf()\n",
    "plt.imshow(np.flipud(dens_cells))\n",
    "plt.colorbar()\n",
    "\n",
    "plt.show()"
   ]
  },
  {
   "cell_type": "code",
   "execution_count": null,
   "metadata": {},
   "outputs": [],
   "source": [
    "### set new params\n",
    "input_dict_dens = {'input_2d_hist': dens_cells, \n",
    "                   'input_type': 'D_cells', \n",
    "                   'N':1839,\n",
    "                   'radius': radius, 't_range': t_range, \n",
    "                   'focal_cell':'Scr', 'focal_event':'apop', \n",
    "                   'subject_cell':'wt', 'subject_event': 'density', \n",
    "                   'include_apop_bin':True, 'SI':True\n",
    "                   }"
   ]
  },
  {
   "cell_type": "code",
   "execution_count": null,
   "metadata": {},
   "outputs": [],
   "source": [
    "render.auto_plot_cumulative(input_dict_dens)"
   ]
  },
  {
   "cell_type": "code",
   "execution_count": null,
   "metadata": {},
   "outputs": [],
   "source": [
    "plt.plot(dens_cells[1,:])\n",
    "plt.show()"
   ]
  },
  {
   "cell_type": "markdown",
   "metadata": {},
   "source": [
    "# Control example"
   ]
  },
  {
   "cell_type": "code",
   "execution_count": null,
   "metadata": {},
   "outputs": [],
   "source": [
    "N_cells_c = control_arrays['arr_0']"
   ]
  },
  {
   "cell_type": "code",
   "execution_count": null,
   "metadata": {},
   "outputs": [],
   "source": [
    "dens_cells_c = N_cells_c/area_array"
   ]
  },
  {
   "cell_type": "code",
   "execution_count": null,
   "metadata": {},
   "outputs": [],
   "source": [
    "%matplotlib inline\n",
    "plt.rcParams['figure.figsize'] = [10,6]\n",
    "plt.clf()\n",
    "plt.imshow(np.flipud(dens_cells_c))\n",
    "plt.colorbar()\n",
    "\n",
    "plt.show()"
   ]
  },
  {
   "cell_type": "markdown",
   "metadata": {},
   "source": [
    "### Conc: looks like the increase in \"density\" seems to be a result of the scan becoming stationary post apoptosis, but why? It's because of the track lengths, ie there are fewer tracks that extend back that far\n",
    "\n",
    "# Need to do (N_cells/N_apops)/bin_area"
   ]
  },
  {
   "cell_type": "markdown",
   "metadata": {},
   "source": [
    "# Occupancy plot needed ie. number of focal apops that feature in that spatiotemporal bin"
   ]
  },
  {
   "cell_type": "code",
   "execution_count": null,
   "metadata": {},
   "outputs": [],
   "source": []
  },
  {
   "cell_type": "markdown",
   "metadata": {},
   "source": [
    "# Checking out other ranges"
   ]
  },
  {
   "cell_type": "code",
   "execution_count": null,
   "metadata": {},
   "outputs": [],
   "source": [
    "radius, t_range, num_bins = 400, 400, 10\n"
   ]
  },
  {
   "cell_type": "markdown",
   "metadata": {},
   "source": [
    "# Changing autoplot function to be more versatile\n",
    "\n",
    "make into a class a la DaskOctopusLiteLoader?"
   ]
  },
  {
   "cell_type": "code",
   "execution_count": null,
   "metadata": {},
   "outputs": [],
   "source": [
    "from dataclasses import dataclass"
   ]
  },
  {
   "cell_type": "code",
   "execution_count": null,
   "metadata": {},
   "outputs": [],
   "source": [
    "@dataclass\n",
    "class input_dict_2:\n",
    "    include_apop_bin: bool = True\n",
    "    array: tuple = (0,1)\n",
    "    \n",
    "    @property\n",
    "    def afunction(self):\n",
    "        return self"
   ]
  },
  {
   "cell_type": "code",
   "execution_count": null,
   "metadata": {},
   "outputs": [],
   "source": [
    "input_dict"
   ]
  },
  {
   "cell_type": "code",
   "execution_count": null,
   "metadata": {},
   "outputs": [],
   "source": [
    "input_dict2 = {'array':[0,1,2], 'include_apop_bin': 'test'}"
   ]
  },
  {
   "cell_type": "code",
   "execution_count": null,
   "metadata": {},
   "outputs": [],
   "source": [
    "include_apop_bin = input_dict2.get('test')"
   ]
  },
  {
   "cell_type": "code",
   "execution_count": null,
   "metadata": {},
   "outputs": [],
   "source": [
    "## label unit formatting\n",
    "if input_dict2.get('SI') == True or input_dict2.get('SI') == None:\n",
    "    time_unit = \"(Hours)\"\n",
    "    distance_unit = \"(Micrometers)\"\n",
    "else:\n",
    "    time_unit = \"(Frames)\"\n",
    "    distance_unit = \"(Pixels)\" "
   ]
  },
  {
   "cell_type": "code",
   "execution_count": null,
   "metadata": {},
   "outputs": [],
   "source": [
    "distance_unit"
   ]
  },
  {
   "cell_type": "code",
   "execution_count": null,
   "metadata": {},
   "outputs": [],
   "source": [
    "label_freq = 4 if num_bins > 20 else 1"
   ]
  },
  {
   "cell_type": "code",
   "execution_count": null,
   "metadata": {},
   "outputs": [],
   "source": [
    "input_dict = {'test':'cool'}"
   ]
  },
  {
   "cell_type": "code",
   "execution_count": null,
   "metadata": {},
   "outputs": [],
   "source": [
    "input_dict.get('input_2d_hist', print(('No heatmap input found')))"
   ]
  },
  {
   "cell_type": "code",
   "execution_count": null,
   "metadata": {},
   "outputs": [],
   "source": [
    "def do_something_dangerous(self):\n",
    "    raise Exception(\"Boo!\")\n",
    "    print('fail')"
   ]
  },
  {
   "cell_type": "code",
   "execution_count": null,
   "metadata": {},
   "outputs": [],
   "source": [
    "def auto_plot_cumulative(\n",
    "input_dict\n",
    "):\n",
    "    plt.clf()\n",
    "    ### read input parameters and data\n",
    "    input_2d_hist = input_dict.get('input_2d_hist', print('No heatmap input found'))\n",
    "    N = input_dict.get('N', input('Enter the number of focal events'))\n",
    "    radius = input_dict.get('radius', input('Enter the scan radius'))             \n",
    "    t_range = input_dict.get('t_range', input('Enter the scan time range')  \n",
    "    \n",
    "    ### default to have standard measures\n",
    "    SI = input_dict.get('SI', True)\n",
    "   \n",
    "    ### default to read the number of bins from the array shape\n",
    "    num_bins = input_dict.get('num_bins', input_2d_hist.shape[0])\n",
    "    ### default is to have no cbar_lim\n",
    "    cbar_lim = input_dict.get('cbar_lim', False)\n",
    "   \n",
    "    ### set the label frequency according to the num bins\n",
    "    label_freq = 4 if num_bins > 20 else 1\n",
    "    \n",
    "    # get correctly spaced labels\n",
    "    xlocs, xlabels, ylocs, ylabels = kymo_labels(\n",
    "        num_bins, label_freq, radius, t_range, SI\n",
    "    )\n",
    "    \n",
    "    # get scan details\n",
    "    focal_cell_name = input_dict.get('focal_cell', input('What is the focal cell of the radial scan?'))\n",
    "    focal_event_name = input_dict.get('focal_event', input('What is the focal event of the radial scan?'))\n",
    "    subject_cell_name = input_dict.get('subject_cell', input('What is the subject cell of the radial scan?'))\n",
    "    subject_event_name = input_dict.get('subject_event', input('What is the subject event of the radial scan?'))\n",
    "    \n",
    "    # title formatting, if input type unrecognised or not entered then manual entry prompted\n",
    "    if input_dict.get('input_type') == \"N_cells\":\n",
    "        title = f\"Spatiotemporal dist. of {subj_cell_name} cells \\n around {focal_cell_name} {focal_event_name} (N={N})\"\n",
    "        cb_label = f\"Number of {subj_cell_name} cell apperances\"\n",
    "        \n",
    "    elif input_dict.get('input_type') == \"N_events\":\n",
    "        title = f\"Spatiotemporal dist. of {subj_cell_name} {subj_event_name} \\n around {focal_cell_name} {focal_event_name} (N={N})\"\n",
    "        cb_label = f\"Number of {subj_cell_name} {subj_event_name}\"\n",
    "        \n",
    "    elif input_dict.get('input_type') == \"P_events\":\n",
    "        title = f\"Spatiotemporal dist. of probability of {subj_cell_name} {subj_event_name} \\n around {focal_cell_name} {focal_event_name} (N={N})\"\n",
    "        cb_label = f\"Probability of {subj_cell_name} {subj_event_name}\"\n",
    "        \n",
    "    elif input_dict.get('input_type') == \"CV\":\n",
    "        title = f\"Coefficient of variation of probability of {subj_cell_name} {subj_event_name} \\n around {focal_cell_name} {focal_event_name} (N={N})\"\n",
    "        cb_label = \"Coefficient of variation\"\n",
    "        \n",
    "    elif input_dict.get('input_type') == \"stat_rel\":\n",
    "        title = f\"Statisticall relevant areas of probability of {subj_cell_name} {subj_event_name} \\n around {focal_cell_name} {focal_event_name} (N={N})\"\n",
    "        cb_label = \"Relevant areas are set equal to 1\"\n",
    "        \n",
    "    elif input_dict.get('input_type') == \"dP\":\n",
    "        title = f\"Difference in probability between \\ncanonical and control analysis \\ni.e. probability of {subject_event_name} above background\"\n",
    "        cb_label = \"Difference in probability\\n above background\"\n",
    "    else: \n",
    "        title = input('Input the title of your plot')\n",
    "        cb_label = input('Input the label for your colorbar')\n",
    "        \n",
    "    ## label unit formatting\n",
    "    if SI == True:\n",
    "        time_unit = \"(Hours)\"\n",
    "        distance_unit = \"(Micrometers)\"\n",
    "    else:\n",
    "        time_unit = \"(Frames)\"\n",
    "        distance_unit = \"(Pixels)\"\n",
    "\n",
    "    ## plotting\n",
    "    font = {\"fontname\": \"Liberation Mono\"}\n",
    "    plt.xticks(xlocs, xlabels, rotation=\"vertical\", **font)\n",
    "    plt.yticks(ylocs, ylabels, **font)\n",
    "    plt.xlabel(\"Time since apoptosis \" + time_unit, **font)\n",
    "    plt.ylabel(\"Distance from apoptosis \" + distance_unit, **font)\n",
    "    plt.title(title + \"\\n\", fontweight=\"bold\", **font)\n",
    "    \n",
    "    ### default is to include the apoptotic spatial bin\n",
    "    include_apop_bin = input_dict.get('include_apop_bin', True)\n",
    "    ## if include_apop_bin is true then the spatial bin containing the apoptotic cell (ie the central spatial bin of the radial scan) will be show in the graph, if false then it is cropped which ends up with a plot showing only the relevant local env not the site of apop (better imo)\n",
    "    if include_apop_bin == True:\n",
    "        final_hist = np.flipud(input_2d_hist)  ## flip for desired graph orientation\n",
    "    else:\n",
    "        final_hist = np.flipud(input_2d_hist[1:-1, :])\n",
    "\n",
    "    ## apop location marker\n",
    "    if num_bins == 10:\n",
    "        if include_apop_bin == True:\n",
    "            plt.scatter(\n",
    "                num_bins / 2 - 0.5, num_bins - 0.75, s=20, c=\"white\", marker=\"v\"\n",
    "            )\n",
    "            plt.text(\n",
    "                num_bins + 0.15,\n",
    "                num_bins + 1.5,\n",
    "                \"Apoptosis location \\nshown by inverted \\nwhite triangle\",\n",
    "                **font,\n",
    "            )\n",
    "        else:\n",
    "            plt.scatter(\n",
    "                num_bins / 2 - 0.5, num_bins - 2 - 0.75, s=20, c=\"white\", marker=\"v\"\n",
    "            )\n",
    "            plt.text(\n",
    "                num_bins + 0.15,\n",
    "                num_bins + 1.5 - 2,\n",
    "                \"Apoptosis location \\nshown by inverted \\nwhite triangle\",\n",
    "                **font,\n",
    "            )\n",
    "    if num_bins == 20:\n",
    "        if include_apop_bin == True:\n",
    "            plt.scatter(num_bins / 2 - 0.5, num_bins - 0.9, s=20, c=\"white\", marker=\"v\")\n",
    "            plt.text(\n",
    "                num_bins + 0.3,\n",
    "                num_bins + 3.5,\n",
    "                \"Apoptosis location \\nshown by inverted \\nwhite triangle\",\n",
    "                **font,\n",
    "            )\n",
    "        else:\n",
    "            plt.scatter(num_bins / 2 - 0.5, num_bins - 1.8, s=20, c=\"white\", marker=\"v\")\n",
    "            plt.text(\n",
    "                num_bins + 0.3,\n",
    "                num_bins + 2.5,\n",
    "                \"Apoptosis location \\nshown by inverted \\nwhite triangle\",\n",
    "                **font,\n",
    "            )\n",
    "    \n",
    "    ### default is to have no cbar_lim\n",
    "    cbar_lim = input_dict.get('cbar_lim', False)\n",
    "    ## colorbar\n",
    "    if cbar_lim == False:\n",
    "        if include_apop_bin == False:\n",
    "            plt.clim(\n",
    "                vmin=np.min(input_2d_hist[1:-1, :]), vmax=np.max(input_2d_hist[1:-1, :])\n",
    "            )\n",
    "        else:\n",
    "            plt.clim(vmin=np.min(input_2d_hist), vmax=np.max(input_2d_hist))\n",
    "        cb = plt.colorbar(\n",
    "            label=cb_label\n",
    "        )  ### matplotlib.cm.ScalarMappable(norm = ???cmap='PiYG'), use this in conjunction with norm to set cbar equal to diff piyg coloourscheme\n",
    "        ax = cb.ax\n",
    "        text = ax.yaxis.label\n",
    "        font = matplotlib.font_manager.FontProperties(family=\"Liberation Mono\")\n",
    "        text.set_font_properties(font)\n",
    "        ax.set_yticklabels(\n",
    "            np.round(ax.get_yticks(), 5), **{\"fontname\": \"Liberation Mono\"}\n",
    "        )  ### cropped to 5dp\n",
    "    else:\n",
    "        cbar_lim = input_dict['cbar_lim']\n",
    "        plt.clim(vmin=cbar_lim[0], vmax=cbar_lim[1])\n",
    "        cb = plt.colorbar(label=cb_label)\n",
    "        ax = cb.ax\n",
    "        text = ax.yaxis.label\n",
    "        font = matplotlib.font_manager.FontProperties(family=\"Liberation Mono\")\n",
    "        text.set_font_properties(font)\n",
    "        ax.set_yticklabels(\n",
    "            np.round(ax.get_yticks(), 5), **{\"fontname\": \"Liberation Mono\"}\n",
    "        )\n",
    "\n",
    "    ### default to have no bin labels\n",
    "    bin_labels = input_dict.get('bin_labels', False)\n",
    "    ## bin labels\n",
    "    if bin_labels == True:\n",
    "        flipped = np.flipud(input_2d_hist)\n",
    "        if input_type == \"P_events\":\n",
    "            for i in range(len(input_2d_hist)):\n",
    "                for j in range(len(input_2d_hist)):\n",
    "                    text = plt.text(\n",
    "                        j,\n",
    "                        i,\n",
    "                        round(flipped[i, j], 5),\n",
    "                        ha=\"center\",\n",
    "                        va=\"center\",\n",
    "                        color=\"w\",\n",
    "                        fontsize=\"xx-small\",\n",
    "                    )\n",
    "        elif input_type == \"dP\":\n",
    "            for i in range(len(input_2d_hist)):\n",
    "                for j in range(len(input_2d_hist)):\n",
    "                    text = plt.text(\n",
    "                        j,\n",
    "                        i,\n",
    "                        round(flipped[i, j], 6),\n",
    "                        ha=\"center\",\n",
    "                        va=\"center\",\n",
    "                        color=\"w\",\n",
    "                        fontsize=\"xx-small\",\n",
    "                    )\n",
    "        elif input_type == \"CV\":\n",
    "            for i in range(len(input_2d_hist)):\n",
    "                for j in range(len(input_2d_hist)):\n",
    "                    text = plt.text(\n",
    "                        j,\n",
    "                        i,\n",
    "                        round(flipped[i, j], 3),\n",
    "                        ha=\"center\",\n",
    "                        va=\"center\",\n",
    "                        color=\"w\",\n",
    "                        fontsize=\"xx-small\",\n",
    "                    )\n",
    "        if input_type == \"stat_rel\":\n",
    "            for i in range(len(input_2d_hist)):\n",
    "                for j in range(len(input_2d_hist)):\n",
    "                    text = plt.text(\n",
    "                        j,\n",
    "                        i,\n",
    "                        int(flipped[i, j]),\n",
    "                        ha=\"center\",\n",
    "                        va=\"center\",\n",
    "                        color=\"w\",\n",
    "                        fontsize=\"xx-small\",\n",
    "                    )\n",
    "        else:\n",
    "            for i in range(len(input_2d_hist)):\n",
    "                for j in range(len(input_2d_hist)):\n",
    "                    text = plt.text(\n",
    "                        j,\n",
    "                        i,\n",
    "                        int(flipped[i, j]),\n",
    "                        ha=\"center\",\n",
    "                        va=\"center\",\n",
    "                        color=\"w\",\n",
    "                        fontsize=\"xx-small\",\n",
    "                    )\n",
    "    ## save out?\n",
    "    if 'save_parent_dir' not in input_dict:\n",
    "        plt.imshow(final_hist)\n",
    "        return   # ,cmap = 'PiYG')\n",
    "    else:\n",
    "        ## output save path formatting\n",
    "        save_parent_dir = input_dict['save_parent_dir']\n",
    "        save_dir_name = \"{}_{}_{}_{}\".format(\n",
    "            focal_cell.lower(),\n",
    "            focal_event.lower()[0:3]\n",
    "            if focal_event == \"DIVISION\"\n",
    "            else focal_event.lower()[0:4],\n",
    "            subject_cell.lower(),\n",
    "            subject_event.lower()[0:3]\n",
    "            if subject_event == \"DIVISION\"\n",
    "            else subject_event.lower()[0:4],\n",
    "        )\n",
    "        save_path = os.path.join(save_parent_dir, save_dir_name)\n",
    "        # if (\n",
    "        #     not input_type == \"dP\"\n",
    "        # ):  ### combined type does not require segregated folders for canon control\n",
    "        Path(save_path).mkdir(parents=True, exist_ok=True)\n",
    "\n",
    "        ## filename\n",
    "        fn = save_path + \"/\" + title + f\" {radius}.{t_range}.{num_bins}.pdf\"\n",
    "        ## failsafe overwriting block\n",
    "        if os.path.exists(fn):\n",
    "            print(\"Filename\", fn, \"already exists, saving as updated copy\")\n",
    "            fn = fn.replace(\n",
    "                \".pdf\", \" (updated {}).pdf\".format(time.strftime(\"%Y%m%d-%H%M%S\"))\n",
    "            )\n",
    "        plt.imshow(final_hist)\n",
    "        plt.plot()\n",
    "        plt.savefig(fn, dpi=300, bbox_inches=\"tight\")\n",
    "        print(\"Plot saved at \", fn)\n",
    "\n",
    "        return plt.imshow(final_hist)"
   ]
  },
  {
   "cell_type": "code",
   "execution_count": null,
   "metadata": {},
   "outputs": [],
   "source": [
    "def auto_plot_cumulative(\n",
    "input_dict\n",
    "):\n",
    "    plt.clf()\n",
    "    ### read input parameters and data\n",
    "    input_2d_hist = input_dict['input_2d_hist']\n",
    "    input_type = input_dict['input_type']         # make this string input\n",
    "    N = input_dict['N']\n",
    "    radius = input_dict['radius']                 # can i make this read from preexisting        \n",
    "    t_range = input_dict['t_range']               # ditto\n",
    "    focal_cell = input_dict['focal_cell']         # make string input that just prints?\n",
    "    focal_event = input_dict['focal_event']    \n",
    "    subject_cell = input_dict['subject_cell']\n",
    "    subject_event = input_dict['subject_event']\n",
    "\n",
    "    ### set the default params if param entry in dict is empty\n",
    "    ### default is to include the apoptotic spatial bin\n",
    "    if 'include_apop_bin' not in input_dict:\n",
    "        include_apop_bin = True\n",
    "    else:\n",
    "        include_apop_bin = input_dict['include_apop_bin']\n",
    "    ### default to have standard measures\n",
    "    if 'SI' not in input_dict:\n",
    "        SI = True\n",
    "    else:\n",
    "        SI = input_dict['SI']\n",
    "    ### default to have no bin labels\n",
    "    if 'bin_labels' not in input_dict:\n",
    "        bin_labels = False\n",
    "    else:\n",
    "        bin_labels = input_dict['bin_labels']\n",
    "    ### default to read the number of bins from the array shape\n",
    "    if 'num_bins' not in input_dict:\n",
    "        num_bins = input_2d_hist.shape[0]\n",
    "    else:\n",
    "        num_bins = input_dict['num_bins']\n",
    "    ### default is to have no cbar_lim\n",
    "    if 'cbar_lim' not in input_dict:\n",
    "        cbar_lim = False\n",
    "    else:\n",
    "        cbar_lim = input_dict['cbar_lim']\n",
    "\n",
    "    ### set the label frequency according to the num bins\n",
    "    if num_bins > 20:\n",
    "        label_freq = 4\n",
    "    else:\n",
    "        label_freq = 1\n",
    "    xlocs, xlabels, ylocs, ylabels = kymo_labels(\n",
    "        num_bins, label_freq, radius, t_range, SI\n",
    "    )\n",
    "\n",
    "    ## formatting cell and event names\n",
    "    focal_event_name = (\n",
    "        \"apoptoses\" if \"apop\" in focal_event.lower() else \"divisions\"\n",
    "    )  # focal_event == 'APOPTOSIS' or 'apop' else 'divisions'\n",
    "    focal_cell_name = \"wild-type\" if \"wt\" in focal_cell.lower() else \"Scribble\"\n",
    "    subj_event_name = \"apoptoses\" if \"apop\" in subject_event.lower() else \"divisions\"\n",
    "    subj_cell_name = \"wild-type\" if \"wt\" in subject_cell.lower() else \"Scribble\"\n",
    "\n",
    "    if focal_event == \"control\":\n",
    "        focal_event_name = \"random time points\"\n",
    "\n",
    "    title = (\n",
    "        \"Spatiotemporal dist. of probability of {} {} \\n around {} {} (N={})\".format(\n",
    "            subj_cell_name, subj_event_name, focal_cell_name, focal_event_name, N\n",
    "        )\n",
    "    )\n",
    "\n",
    "    ## title formatting\n",
    "    if input_type == \"N_cells\":\n",
    "        title = \"Spatiotemporal dist. of {} cells \\n around {} {} (N={})\".format(\n",
    "            subj_cell_name, focal_cell_name, focal_event_name, N\n",
    "        )\n",
    "        cb_label = f\"Number of {subj_cell_name} cell apperances\"\n",
    "    if input_type == \"N_events\":\n",
    "        title = \"Spatiotemporal dist. of {} {} \\n around {} {} (N={})\".format(\n",
    "            subj_cell_name, subj_event_name, focal_cell_name, focal_event_name, N\n",
    "        )\n",
    "        cb_label = f\"Number of {subj_cell_name} {subj_event_name}\"\n",
    "    if input_type == \"P_events\":\n",
    "        title = \"Spatiotemporal dist. of probability of {} {} \\n around {} {} (N={})\".format(\n",
    "            subj_cell_name, subj_event_name, focal_cell_name, focal_event_name, N\n",
    "        )\n",
    "        cb_label = f\"Probability of {subj_cell_name} {subj_event_name}\"\n",
    "    if input_type == \"CV\":\n",
    "        title = \"Coefficient of variation of probability of {} {} \\n around {} {} (N={})\".format(\n",
    "            subj_cell_name, subj_event_name, focal_cell_name, focal_event_name, N\n",
    "        )\n",
    "        cb_label = \"Coefficient of variation\"\n",
    "    if input_type == \"stat_rel\":\n",
    "        title = \"Statisticall relevant areas of probability of {} {} \\n around {} {} (N={})\".format(\n",
    "            subj_cell_name, subj_event_name, focal_cell_name, focal_event_name, N\n",
    "        )\n",
    "        cb_label = \"Relevant areas are set equal to 1\"\n",
    "    if input_type == \"dP\":\n",
    "        title = \"Difference in probability between \\ncanonical and control analysis \\ni.e. probability of division above background\".format(\n",
    "            subj_cell_name, subj_event_name, focal_cell_name, focal_event_name, N\n",
    "        )\n",
    "        cb_label = \"Difference in probability\\n above background\"\n",
    "\n",
    "    ## label unit formatting\n",
    "    if SI == True:\n",
    "        time_unit = \"(Hours)\"\n",
    "        distance_unit = \"(Micrometers)\"\n",
    "    else:\n",
    "        time_unit = \"(Frames)\"\n",
    "        distance_unit = \"(Pixels)\"\n",
    "\n",
    "    ## plotting\n",
    "    font = {\"fontname\": \"Liberation Mono\"}\n",
    "    plt.xticks(xlocs, xlabels, rotation=\"vertical\", **font)\n",
    "    plt.yticks(ylocs, ylabels, **font)\n",
    "    plt.xlabel(\"Time since apoptosis \" + time_unit, **font)\n",
    "    plt.ylabel(\"Distance from apoptosis \" + distance_unit, **font)\n",
    "    plt.title(title + \"\\n\", fontweight=\"bold\", **font)\n",
    "\n",
    "    ## if include_apop_bin is true then the spatial bin containing the apoptotic cell (ie the central spatial bin of the radial scan) will be show in the graph, if false then it is cropped which ends up with a plot showing only the relevant local env not the site of apop (better imo)\n",
    "    if include_apop_bin == True:\n",
    "        final_hist = np.flipud(input_2d_hist)  ## flip for desired graph orientation\n",
    "    else:\n",
    "        final_hist = np.flipud(input_2d_hist[1:-1, :])\n",
    "\n",
    "    ## apop location marker\n",
    "    if num_bins == 10:\n",
    "        if include_apop_bin == True:\n",
    "            plt.scatter(\n",
    "                num_bins / 2 - 0.5, num_bins - 0.75, s=20, c=\"white\", marker=\"v\"\n",
    "            )\n",
    "            plt.text(\n",
    "                num_bins + 0.15,\n",
    "                num_bins + 1.5,\n",
    "                \"Apoptosis location \\nshown by inverted \\nwhite triangle\",\n",
    "                **font,\n",
    "            )\n",
    "        else:\n",
    "            plt.scatter(\n",
    "                num_bins / 2 - 0.5, num_bins - 2 - 0.75, s=20, c=\"white\", marker=\"v\"\n",
    "            )\n",
    "            plt.text(\n",
    "                num_bins + 0.15,\n",
    "                num_bins + 1.5 - 2,\n",
    "                \"Apoptosis location \\nshown by inverted \\nwhite triangle\",\n",
    "                **font,\n",
    "            )\n",
    "    if num_bins == 20:\n",
    "        if include_apop_bin == True:\n",
    "            plt.scatter(num_bins / 2 - 0.5, num_bins - 0.9, s=20, c=\"white\", marker=\"v\")\n",
    "            plt.text(\n",
    "                num_bins + 0.3,\n",
    "                num_bins + 3.5,\n",
    "                \"Apoptosis location \\nshown by inverted \\nwhite triangle\",\n",
    "                **font,\n",
    "            )\n",
    "        else:\n",
    "            plt.scatter(num_bins / 2 - 0.5, num_bins - 1.8, s=20, c=\"white\", marker=\"v\")\n",
    "            plt.text(\n",
    "                num_bins + 0.3,\n",
    "                num_bins + 2.5,\n",
    "                \"Apoptosis location \\nshown by inverted \\nwhite triangle\",\n",
    "                **font,\n",
    "            )\n",
    "\n",
    "    ## colorbar\n",
    "    if cbar_lim == False:\n",
    "        if include_apop_bin == False:\n",
    "            plt.clim(\n",
    "                vmin=np.min(input_2d_hist[1:-1, :]), vmax=np.max(input_2d_hist[1:-1, :])\n",
    "            )\n",
    "        else:\n",
    "            plt.clim(vmin=np.min(input_2d_hist), vmax=np.max(input_2d_hist))\n",
    "        cb = plt.colorbar(\n",
    "            label=cb_label\n",
    "        )  ### matplotlib.cm.ScalarMappable(norm = ???cmap='PiYG'), use this in conjunction with norm to set cbar equal to diff piyg coloourscheme\n",
    "        ax = cb.ax\n",
    "        text = ax.yaxis.label\n",
    "        font = matplotlib.font_manager.FontProperties(family=\"Liberation Mono\")\n",
    "        text.set_font_properties(font)\n",
    "        ax.set_yticklabels(\n",
    "            np.round(ax.get_yticks(), 5), **{\"fontname\": \"Liberation Mono\"}\n",
    "        )  ### cropped to 5dp\n",
    "    else:\n",
    "        cbar_lim = input_dict['cbar_lim']\n",
    "        plt.clim(vmin=cbar_lim[0], vmax=cbar_lim[1])\n",
    "        cb = plt.colorbar(label=cb_label)\n",
    "        ax = cb.ax\n",
    "        text = ax.yaxis.label\n",
    "        font = matplotlib.font_manager.FontProperties(family=\"Liberation Mono\")\n",
    "        text.set_font_properties(font)\n",
    "        ax.set_yticklabels(\n",
    "            np.round(ax.get_yticks(), 5), **{\"fontname\": \"Liberation Mono\"}\n",
    "        )\n",
    "\n",
    "    ## bin labels\n",
    "    if bin_labels == True:\n",
    "        flipped = np.flipud(input_2d_hist)\n",
    "        if input_type == \"P_events\":\n",
    "            for i in range(len(input_2d_hist)):\n",
    "                for j in range(len(input_2d_hist)):\n",
    "                    text = plt.text(\n",
    "                        j,\n",
    "                        i,\n",
    "                        round(flipped[i, j], 5),\n",
    "                        ha=\"center\",\n",
    "                        va=\"center\",\n",
    "                        color=\"w\",\n",
    "                        fontsize=\"xx-small\",\n",
    "                    )\n",
    "        elif input_type == \"dP\":\n",
    "            for i in range(len(input_2d_hist)):\n",
    "                for j in range(len(input_2d_hist)):\n",
    "                    text = plt.text(\n",
    "                        j,\n",
    "                        i,\n",
    "                        round(flipped[i, j], 6),\n",
    "                        ha=\"center\",\n",
    "                        va=\"center\",\n",
    "                        color=\"w\",\n",
    "                        fontsize=\"xx-small\",\n",
    "                    )\n",
    "        elif input_type == \"CV\":\n",
    "            for i in range(len(input_2d_hist)):\n",
    "                for j in range(len(input_2d_hist)):\n",
    "                    text = plt.text(\n",
    "                        j,\n",
    "                        i,\n",
    "                        round(flipped[i, j], 3),\n",
    "                        ha=\"center\",\n",
    "                        va=\"center\",\n",
    "                        color=\"w\",\n",
    "                        fontsize=\"xx-small\",\n",
    "                    )\n",
    "        if input_type == \"stat_rel\":\n",
    "            for i in range(len(input_2d_hist)):\n",
    "                for j in range(len(input_2d_hist)):\n",
    "                    text = plt.text(\n",
    "                        j,\n",
    "                        i,\n",
    "                        int(flipped[i, j]),\n",
    "                        ha=\"center\",\n",
    "                        va=\"center\",\n",
    "                        color=\"w\",\n",
    "                        fontsize=\"xx-small\",\n",
    "                    )\n",
    "        else:\n",
    "            for i in range(len(input_2d_hist)):\n",
    "                for j in range(len(input_2d_hist)):\n",
    "                    text = plt.text(\n",
    "                        j,\n",
    "                        i,\n",
    "                        int(flipped[i, j]),\n",
    "                        ha=\"center\",\n",
    "                        va=\"center\",\n",
    "                        color=\"w\",\n",
    "                        fontsize=\"xx-small\",\n",
    "                    )\n",
    "    ## save out?\n",
    "    if 'save_parent_dir' not in input_dict:\n",
    "        plt.imshow(final_hist)\n",
    "        return   # ,cmap = 'PiYG')\n",
    "    else:\n",
    "        ## output save path formatting\n",
    "        save_parent_dir = input_dict['save_parent_dir']\n",
    "        save_dir_name = \"{}_{}_{}_{}\".format(\n",
    "            focal_cell.lower(),\n",
    "            focal_event.lower()[0:3]\n",
    "            if focal_event == \"DIVISION\"\n",
    "            else focal_event.lower()[0:4],\n",
    "            subject_cell.lower(),\n",
    "            subject_event.lower()[0:3]\n",
    "            if subject_event == \"DIVISION\"\n",
    "            else subject_event.lower()[0:4],\n",
    "        )\n",
    "        save_path = os.path.join(save_parent_dir, save_dir_name)\n",
    "        # if (\n",
    "        #     not input_type == \"dP\"\n",
    "        # ):  ### combined type does not require segregated folders for canon control\n",
    "        Path(save_path).mkdir(parents=True, exist_ok=True)\n",
    "\n",
    "        ## filename\n",
    "        fn = save_path + \"/\" + title + f\" {radius}.{t_range}.{num_bins}.pdf\"\n",
    "        ## failsafe overwriting block\n",
    "        if os.path.exists(fn):\n",
    "            print(\"Filename\", fn, \"already exists, saving as updated copy\")\n",
    "            fn = fn.replace(\n",
    "                \".pdf\", \" (updated {}).pdf\".format(time.strftime(\"%Y%m%d-%H%M%S\"))\n",
    "            )\n",
    "        plt.imshow(final_hist)\n",
    "        plt.plot()\n",
    "        plt.savefig(fn, dpi=300, bbox_inches=\"tight\")\n",
    "        print(\"Plot saved at \", fn)\n",
    "\n",
    "        return plt.imshow(final_hist)"
   ]
  }
 ],
 "metadata": {
  "kernelspec": {
   "display_name": "Python 3",
   "language": "python",
   "name": "python3"
  },
  "language_info": {
   "codemirror_mode": {
    "name": "ipython",
    "version": 3
   },
   "file_extension": ".py",
   "mimetype": "text/x-python",
   "name": "python",
   "nbconvert_exporter": "python",
   "pygments_lexer": "ipython3",
   "version": "3.7.6"
  }
 },
 "nbformat": 4,
 "nbformat_minor": 5
}
