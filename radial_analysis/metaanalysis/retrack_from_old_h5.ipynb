{
 "cells": [
  {
   "cell_type": "markdown",
   "metadata": {},
   "source": [
    "# code to retrack data from old btrack versions"
   ]
  },
  {
   "cell_type": "markdown",
   "metadata": {},
   "source": [
    "First, make sure you have the latest version of btrack installed:\n",
    "\n",
    "```sh\n",
    "pip install --upgrade -e git+git://github.com/quantumjot/BayesianTracker.git\n",
    "```"
   ]
  },
  {
   "cell_type": "code",
   "execution_count": 3,
   "metadata": {},
   "outputs": [],
   "source": [
    "import os\n",
    "import napari\n",
    "import btrack\n",
    "import numpy as np\n",
    "\n",
    "import csv"
   ]
  },
  {
   "cell_type": "code",
   "execution_count": 17,
   "metadata": {
    "scrolled": true
   },
   "outputs": [
    {
     "name": "stdout",
     "output_type": "stream",
     "text": [
      "GV0794/Pos2\n",
      "GV0794/Pos9\n",
      "GV0794/Pos14\n",
      "GV0795/Pos2\n",
      "GV0795/Pos9\n",
      "GV0795/Pos15\n",
      "GV0796/Pos2\n",
      "GV0796/Pos9\n",
      "GV0796/Pos17\n",
      "GV0796/Pos18\n",
      "GV0797/Pos2\n",
      "GV0797/Pos9\n",
      "GV0797/Pos16\n",
      "GV0797/Pos17\n",
      "GV0798/Pos2\n",
      "GV0798/Pos9\n",
      "GV0798/Pos16\n",
      "GV0798/Pos17\n",
      "GV0800/Pos2\n",
      "GV0800/Pos9\n",
      "GV0800/Pos14\n",
      "GV0801/Pos2\n",
      "GV0802/Pos2\n",
      "GV0804/Pos2\n",
      "GV0805/Pos2\n",
      "GV0806/Pos2\n",
      "GV0807/Pos2\n",
      "GV0801/Pos8\n",
      "GV0804/Pos10\n",
      "GV0804/Pos11\n",
      "GV0805/Pos8\n",
      "GV0806/Pos8\n",
      "GV0801/Pos7\n",
      "GV0804/Pos8\n",
      "GV0804/Pos9\n",
      "GV0805/Pos7\n",
      "GV0806/Pos7\n",
      "GV0801/Pos6\n",
      "GV0804/Pos6\n",
      "GV0804/Pos7\n",
      "GV0805/Pos6\n",
      "GV0806/Pos6\n"
     ]
    }
   ],
   "source": [
    "expt_list = []\n",
    "with open('/home/nathan/data/kraken/h2b/giulia/control_expts.csv', newline='') as csvfile:\n",
    "            control_expts_csv = csv.reader(csvfile, delimiter='\\n')#, quotechar='|')\n",
    "            for row in control_expts_csv:\n",
    "                expt_list.append(row[0])"
   ]
  },
  {
   "cell_type": "code",
   "execution_count": null,
   "metadata": {},
   "outputs": [],
   "source": [
    "root_path = '/run/user/1000/gvfs/smb-share:server=lowe-sn00.biochem.ucl.ac.uk,share=lowegrp/Data/Giulia/\n",
    "for expt in expt_list:\n",
    "    expt_ID = expt.split('/')[0]\n",
    "    pos_ID = expt.split('/')[1]\n",
    "    PATH = os.path.join(root_path, expt_ID, pos_ID, pos_ID+'_aligned')\n",
    "    OLDFILE = os.path.join(PATH, 'segmented.hdf5')\n",
    "    NEWFILE = os.path.join(PATH, 'retracked.h5')\n",
    "    \n",
    "    if os.path.exists(OLDFILE):\n",
    "        print(OLDFILE, 'found')\n",
    "    else:\n",
    "        print(OLDFILE, 'NOT FOUND')"
   ]
  },
  {
   "cell_type": "code",
   "execution_count": 2,
   "metadata": {},
   "outputs": [],
   "source": [
    "PATH = \"/Users/arl/Downloads/\"\n",
    "PATH = {}/{}/{}_aligned/HDF'\n",
    "OLDFILE = os.path.join(PATH, 'segmented.hdf5')\n",
    "NEWFILE = os.path.join(PATH, 'retracked.h5')"
   ]
  },
  {
   "cell_type": "code",
   "execution_count": 3,
   "metadata": {},
   "outputs": [],
   "source": [
    "obj_types = ['obj_type_1', 'obj_type_2']\n",
    "obj_models = [\n",
    "    'MDCK_config_scribble_dense.json',\n",
    "    'MDCK_config_scribble_dense.json'\n",
    "]"
   ]
  },
  {
   "cell_type": "markdown",
   "metadata": {},
   "source": [
    "### grab the segmentation"
   ]
  },
  {
   "cell_type": "code",
   "execution_count": 4,
   "metadata": {},
   "outputs": [
    {
     "name": "stderr",
     "output_type": "stream",
     "text": [
      "[INFO][2021/06/29 06:00:11 PM] Opening HDF file: /Users/arl/Downloads/segmented.hdf5...\n",
      "[INFO][2021/06/29 06:00:18 PM] Loading segmentation (1194, 1200, 1600)\n",
      "[INFO][2021/06/29 06:00:18 PM] Closing HDF file: /Users/arl/Downloads/segmented.hdf5\n"
     ]
    }
   ],
   "source": [
    "with btrack.dataio.HDF5FileHandler(OLDFILE, 'r') as hdf:\n",
    "    segmentation = hdf.segmentation"
   ]
  },
  {
   "cell_type": "markdown",
   "metadata": {},
   "source": [
    "### iterate over the cell types, reorganise the data and retrack, writing out the files"
   ]
  },
  {
   "cell_type": "code",
   "execution_count": 5,
   "metadata": {},
   "outputs": [
    {
     "name": "stderr",
     "output_type": "stream",
     "text": [
      "[INFO][2021/06/29 06:00:18 PM] Opening HDF file: /Users/arl/Downloads/segmented.hdf5...\n",
      "[INFO][2021/06/29 06:00:18 PM] Loading objects/obj_type_1 (34604, 5) (34604 filtered: None)\n",
      "[INFO][2021/06/29 06:00:18 PM] Closing HDF file: /Users/arl/Downloads/segmented.hdf5\n",
      "[INFO][2021/06/29 06:00:18 PM] Loaded btrack: /Users/arl/Dropbox/Code/py3/BayesianTracker/btrack/libs/libtracker.dylib\n",
      "[INFO][2021/06/29 06:00:18 PM] btrack (v0.4.1) library imported\n",
      "[INFO][2021/06/29 06:00:18 PM] Setting max XYZ search radius to: 100\n",
      "[INFO][2021/06/29 06:00:18 PM] Starting BayesianTracker session\n",
      "[INFO][2021/06/29 06:00:18 PM] Loading configuration file: /Users/arl/Dropbox/Code/py3/BayesianTracker/models/MDCK_config_scribble_dense.json\n",
      "[INFO][2021/06/29 06:00:18 PM] Loading motion model: b'MDCK_motion'\n",
      "[INFO][2021/06/29 06:00:18 PM] Setting max XYZ search radius to: 50\n",
      "[INFO][2021/06/29 06:00:18 PM] Objects are of type: <class 'list'>\n",
      "[INFO][2021/06/29 06:00:18 PM] Set volume to ((0, 1600), (0, 1200), (-100000.0, 100000.0))\n",
      "[INFO][2021/06/29 06:00:18 PM] Starting tracking... \n",
      "[INFO][2021/06/29 06:00:18 PM] Tracking objects in frames 0 to 99 (of 1194)...\n",
      "[INFO][2021/06/29 06:00:18 PM]  - Timing (Bayesian updates: 0.02ms, Linking: 0.03ms)\n",
      "[INFO][2021/06/29 06:00:18 PM]  - Probabilities (Link: 1.00000, Lost: 1.00000)\n",
      "[INFO][2021/06/29 06:00:18 PM]  - Stats (Active: 7, Lost: 194, Conflicts resolved: 20)\n",
      "[INFO][2021/06/29 06:00:18 PM] Tracking objects in frames 100 to 199 (of 1194)...\n",
      "[INFO][2021/06/29 06:00:18 PM]  - Timing (Bayesian updates: 0.04ms, Linking: 0.04ms)\n",
      "[INFO][2021/06/29 06:00:18 PM]  - Probabilities (Link: 0.98716, Lost: 1.00000)\n",
      "[INFO][2021/06/29 06:00:18 PM]  - Stats (Active: 11, Lost: 463, Conflicts resolved: 37)\n",
      "[INFO][2021/06/29 06:00:18 PM] Tracking objects in frames 200 to 299 (of 1194)...\n",
      "[INFO][2021/06/29 06:00:18 PM]  - Timing (Bayesian updates: 0.02ms, Linking: 0.03ms)\n",
      "[INFO][2021/06/29 06:00:18 PM]  - Probabilities (Link: 0.99990, Lost: 1.00000)\n",
      "[INFO][2021/06/29 06:00:18 PM]  - Stats (Active: 8, Lost: 798, Conflicts resolved: 61)\n",
      "[INFO][2021/06/29 06:00:18 PM] Tracking objects in frames 300 to 399 (of 1194)...\n",
      "[INFO][2021/06/29 06:00:18 PM]  - Timing (Bayesian updates: 0.05ms, Linking: 0.05ms)\n",
      "[INFO][2021/06/29 06:00:18 PM]  - Probabilities (Link: 1.00000, Lost: 1.00000)\n",
      "[INFO][2021/06/29 06:00:18 PM]  - Stats (Active: 13, Lost: 1288, Conflicts resolved: 115)\n",
      "[INFO][2021/06/29 06:00:18 PM] Tracking objects in frames 400 to 499 (of 1194)...\n",
      "[INFO][2021/06/29 06:00:18 PM]  - Timing (Bayesian updates: 0.05ms, Linking: 0.05ms)\n",
      "[INFO][2021/06/29 06:00:18 PM]  - Probabilities (Link: 0.98030, Lost: 0.75044)\n",
      "[INFO][2021/06/29 06:00:18 PM]  - Stats (Active: 12, Lost: 1828, Conflicts resolved: 183)\n",
      "[INFO][2021/06/29 06:00:18 PM] Tracking objects in frames 500 to 599 (of 1194)...\n",
      "[INFO][2021/06/29 06:00:18 PM]  - Timing (Bayesian updates: 0.08ms, Linking: 0.06ms)\n",
      "[INFO][2021/06/29 06:00:18 PM]  - Probabilities (Link: 1.00000, Lost: 1.00000)\n",
      "[INFO][2021/06/29 06:00:18 PM]  - Stats (Active: 17, Lost: 2384, Conflicts resolved: 263)\n",
      "[INFO][2021/06/29 06:00:18 PM] Tracking objects in frames 600 to 699 (of 1194)...\n",
      "[INFO][2021/06/29 06:00:18 PM]  - Timing (Bayesian updates: 0.10ms, Linking: 0.08ms)\n",
      "[INFO][2021/06/29 06:00:18 PM]  - Probabilities (Link: 0.99994, Lost: 1.00000)\n",
      "[INFO][2021/06/29 06:00:18 PM]  - Stats (Active: 16, Lost: 2810, Conflicts resolved: 322)\n",
      "[INFO][2021/06/29 06:00:18 PM] Tracking objects in frames 700 to 799 (of 1194)...\n",
      "[INFO][2021/06/29 06:00:18 PM]  - Timing (Bayesian updates: 0.09ms, Linking: 0.08ms)\n",
      "[INFO][2021/06/29 06:00:18 PM]  - Probabilities (Link: 0.99994, Lost: 0.56174)\n",
      "[INFO][2021/06/29 06:00:18 PM]  - Stats (Active: 15, Lost: 3161, Conflicts resolved: 411)\n",
      "[INFO][2021/06/29 06:00:18 PM] Tracking objects in frames 800 to 899 (of 1194)...\n",
      "[INFO][2021/06/29 06:00:18 PM]  - Timing (Bayesian updates: 0.13ms, Linking: 0.09ms)\n",
      "[INFO][2021/06/29 06:00:18 PM]  - Probabilities (Link: 0.99994, Lost: 0.99999)\n",
      "[INFO][2021/06/29 06:00:18 PM]  - Stats (Active: 18, Lost: 3430, Conflicts resolved: 470)\n",
      "[INFO][2021/06/29 06:00:18 PM] Tracking objects in frames 900 to 999 (of 1194)...\n",
      "[INFO][2021/06/29 06:00:18 PM]  - Timing (Bayesian updates: 0.17ms, Linking: 0.10ms)\n",
      "[INFO][2021/06/29 06:00:18 PM]  - Probabilities (Link: 1.00000, Lost: 1.00000)\n",
      "[INFO][2021/06/29 06:00:18 PM]  - Stats (Active: 18, Lost: 3668, Conflicts resolved: 534)\n",
      "[INFO][2021/06/29 06:00:18 PM] Tracking objects in frames 1000 to 1099 (of 1194)...\n",
      "[INFO][2021/06/29 06:00:18 PM]  - Timing (Bayesian updates: 0.19ms, Linking: 0.11ms)\n",
      "[INFO][2021/06/29 06:00:18 PM]  - Probabilities (Link: 1.00000, Lost: 1.00000)\n",
      "[INFO][2021/06/29 06:00:18 PM]  - Stats (Active: 19, Lost: 3935, Conflicts resolved: 608)\n",
      "[INFO][2021/06/29 06:00:18 PM] Tracking objects in frames 1100 to 1194 (of 1194)...\n",
      "[INFO][2021/06/29 06:00:18 PM]  - Timing (Bayesian updates: 0.39ms, Linking: 0.18ms)\n",
      "[INFO][2021/06/29 06:00:18 PM]  - Probabilities (Link: 1.00000, Lost: 1.00000)\n",
      "[INFO][2021/06/29 06:00:18 PM] SUCCESS.\n",
      "[INFO][2021/06/29 06:00:18 PM]  - Found 10534 tracks in 1194 frames (in 0.0s)\n",
      "[INFO][2021/06/29 06:00:19 PM]  - Inserted 0 dummy objects to fill tracking gaps\n",
      "[INFO][2021/06/29 06:00:19 PM] Loading hypothesis model: MDCK_hypothesis_scribble_dense\n",
      "[INFO][2021/06/29 06:00:19 PM] Calculating hypotheses (relax: True)...\n",
      "[INFO][2021/06/29 06:00:19 PM] Setting up constraints matrix for global optimisation...\n",
      "[INFO][2021/06/29 06:00:20 PM] Optimizing...\n",
      "[INFO][2021/06/29 06:00:21 PM] Optimization complete. (Solution: optimal)\n",
      "[INFO][2021/06/29 06:00:21 PM]  - Fates.FALSE_POSITIVE: 307 (of 10534)\n",
      "[INFO][2021/06/29 06:00:21 PM]  - Fates.LINK: 127 (of 19291)\n",
      "[INFO][2021/06/29 06:00:21 PM]  - Fates.DIVIDE: 30 (of 10056)\n",
      "[INFO][2021/06/29 06:00:21 PM]  - Fates.APOPTOSIS: 91 (of 129)\n",
      "[INFO][2021/06/29 06:00:21 PM]  - Fates.INITIALIZE_BORDER: 9835 (of 9885)\n",
      "[INFO][2021/06/29 06:00:21 PM]  - Fates.INITIALIZE_FRONT: 3 (of 6)\n",
      "[INFO][2021/06/29 06:00:21 PM]  - Fates.INITIALIZE_LAZY: 202 (of 643)\n",
      "[INFO][2021/06/29 06:00:21 PM]  - Fates.TERMINATE_BORDER: 9835 (of 9885)\n",
      "[INFO][2021/06/29 06:00:21 PM]  - Fates.TERMINATE_BACK: 22 (of 29)\n",
      "[INFO][2021/06/29 06:00:21 PM]  - Fates.TERMINATE_LAZY: 122 (of 620)\n",
      "[INFO][2021/06/29 06:00:21 PM]  - TOTAL: 61078 hypotheses\n",
      "[INFO][2021/06/29 06:00:21 PM] Completed optimization with 10407 tracks\n",
      "[INFO][2021/06/29 06:00:21 PM] Opening HDF file: /Users/arl/Downloads/retracked.h5...\n",
      "[INFO][2021/06/29 06:00:21 PM] Writing objects/obj_type_1\n",
      "[INFO][2021/06/29 06:00:21 PM] Writing labels/obj_type_1\n",
      "[INFO][2021/06/29 06:00:21 PM] Writing properties/obj_type_1\n",
      "[INFO][2021/06/29 06:00:21 PM] Writing tracks/obj_type_1\n",
      "[INFO][2021/06/29 06:00:22 PM] Writing dummies/obj_type_1\n",
      "[INFO][2021/06/29 06:00:22 PM] Writing LBEP/obj_type_1\n",
      "[INFO][2021/06/29 06:00:22 PM] Writing fates/obj_type_1\n",
      "[INFO][2021/06/29 06:00:22 PM] Closing HDF file: /Users/arl/Downloads/retracked.h5\n",
      "[INFO][2021/06/29 06:00:22 PM] Ending BayesianTracker session\n",
      "[INFO][2021/06/29 06:00:22 PM] Opening HDF file: /Users/arl/Downloads/segmented.hdf5...\n",
      "[INFO][2021/06/29 06:00:22 PM] Loading objects/obj_type_2 (202724, 5) (202724 filtered: None)\n",
      "[INFO][2021/06/29 06:00:24 PM] Closing HDF file: /Users/arl/Downloads/segmented.hdf5\n",
      "[INFO][2021/06/29 06:00:24 PM] Loaded btrack: /Users/arl/Dropbox/Code/py3/BayesianTracker/btrack/libs/libtracker.dylib\n",
      "[INFO][2021/06/29 06:00:24 PM] btrack (v0.4.1) library imported\n",
      "[INFO][2021/06/29 06:00:24 PM] Setting max XYZ search radius to: 100\n",
      "[INFO][2021/06/29 06:00:24 PM] Starting BayesianTracker session\n",
      "[INFO][2021/06/29 06:00:24 PM] Loading configuration file: /Users/arl/Dropbox/Code/py3/BayesianTracker/models/MDCK_config_scribble_dense.json\n",
      "[INFO][2021/06/29 06:00:24 PM] Loading motion model: b'MDCK_motion'\n",
      "[INFO][2021/06/29 06:00:24 PM] Setting max XYZ search radius to: 50\n",
      "[INFO][2021/06/29 06:00:24 PM] Objects are of type: <class 'list'>\n",
      "[INFO][2021/06/29 06:00:24 PM] Set volume to ((0, 1600), (0, 1200), (-100000.0, 100000.0))\n",
      "[INFO][2021/06/29 06:00:24 PM] Starting tracking... \n",
      "[INFO][2021/06/29 06:00:24 PM] Tracking objects in frames 0 to 99 (of 1194)...\n",
      "[INFO][2021/06/29 06:00:24 PM]  - Timing (Bayesian updates: 0.46ms, Linking: 0.16ms)\n"
     ]
    },
    {
     "name": "stderr",
     "output_type": "stream",
     "text": [
      "[INFO][2021/06/29 06:00:24 PM]  - Probabilities (Link: 1.00000, Lost: 0.73882)\n",
      "[INFO][2021/06/29 06:00:24 PM]  - Stats (Active: 42, Lost: 440, Conflicts resolved: 194)\n",
      "[INFO][2021/06/29 06:00:24 PM] Tracking objects in frames 100 to 199 (of 1194)...\n",
      "[INFO][2021/06/29 06:00:24 PM]  - Timing (Bayesian updates: 0.46ms, Linking: 0.15ms)\n",
      "[INFO][2021/06/29 06:00:24 PM]  - Probabilities (Link: 1.00000, Lost: 0.61940)\n",
      "[INFO][2021/06/29 06:00:24 PM]  - Stats (Active: 39, Lost: 816, Conflicts resolved: 398)\n",
      "[INFO][2021/06/29 06:00:24 PM] Tracking objects in frames 200 to 299 (of 1194)...\n",
      "[INFO][2021/06/29 06:00:25 PM]  - Timing (Bayesian updates: 0.68ms, Linking: 0.21ms)\n",
      "[INFO][2021/06/29 06:00:25 PM]  - Probabilities (Link: 1.00000, Lost: 1.00000)\n",
      "[INFO][2021/06/29 06:00:25 PM]  - Stats (Active: 54, Lost: 1223, Conflicts resolved: 580)\n",
      "[INFO][2021/06/29 06:00:25 PM] Tracking objects in frames 300 to 399 (of 1194)...\n",
      "[INFO][2021/06/29 06:00:25 PM]  - Timing (Bayesian updates: 1.01ms, Linking: 0.23ms)\n",
      "[INFO][2021/06/29 06:00:25 PM]  - Probabilities (Link: 1.00000, Lost: 0.55605)\n",
      "[INFO][2021/06/29 06:00:25 PM]  - Stats (Active: 62, Lost: 1755, Conflicts resolved: 812)\n",
      "[INFO][2021/06/29 06:00:25 PM] Tracking objects in frames 400 to 499 (of 1194)...\n",
      "[INFO][2021/06/29 06:00:25 PM]  - Timing (Bayesian updates: 1.47ms, Linking: 0.28ms)\n",
      "[INFO][2021/06/29 06:00:25 PM]  - Probabilities (Link: 1.00000, Lost: 0.85834)\n",
      "[INFO][2021/06/29 06:00:25 PM]  - Stats (Active: 73, Lost: 2222, Conflicts resolved: 1028)\n",
      "[INFO][2021/06/29 06:00:25 PM] Tracking objects in frames 500 to 599 (of 1194)...\n",
      "[INFO][2021/06/29 06:00:25 PM]  - Timing (Bayesian updates: 2.45ms, Linking: 0.39ms)\n",
      "[INFO][2021/06/29 06:00:25 PM]  - Probabilities (Link: 1.00000, Lost: 1.00000)\n",
      "[INFO][2021/06/29 06:00:25 PM]  - Stats (Active: 101, Lost: 2709, Conflicts resolved: 1212)\n",
      "[INFO][2021/06/29 06:00:25 PM] Tracking objects in frames 600 to 699 (of 1194)...\n",
      "[INFO][2021/06/29 06:00:25 PM]  - Timing (Bayesian updates: 3.37ms, Linking: 0.45ms)\n",
      "[INFO][2021/06/29 06:00:25 PM]  - Probabilities (Link: 1.00000, Lost: 1.00000)\n",
      "[INFO][2021/06/29 06:00:25 PM]  - Stats (Active: 112, Lost: 3489, Conflicts resolved: 1492)\n",
      "[INFO][2021/06/29 06:00:25 PM] Tracking objects in frames 700 to 799 (of 1194)...\n",
      "[INFO][2021/06/29 06:00:26 PM]  - Timing (Bayesian updates: 7.54ms, Linking: 0.74ms)\n",
      "[INFO][2021/06/29 06:00:26 PM]  - Probabilities (Link: 1.00000, Lost: 0.99942)\n",
      "[INFO][2021/06/29 06:00:26 PM]  - Stats (Active: 158, Lost: 4366, Conflicts resolved: 1780)\n",
      "[INFO][2021/06/29 06:00:26 PM] Tracking objects in frames 800 to 899 (of 1194)...\n",
      "[INFO][2021/06/29 06:00:27 PM]  - Timing (Bayesian updates: 13.56ms, Linking: 0.86ms)\n",
      "[INFO][2021/06/29 06:00:27 PM]  - Probabilities (Link: 1.00000, Lost: 1.00000)\n",
      "[INFO][2021/06/29 06:00:27 PM]  - Stats (Active: 197, Lost: 5590, Conflicts resolved: 2186)\n",
      "[INFO][2021/06/29 06:00:27 PM] Tracking objects in frames 900 to 999 (of 1194)...\n",
      "[INFO][2021/06/29 06:00:29 PM]  - Timing (Bayesian updates: 22.91ms, Linking: 1.10ms)\n",
      "[INFO][2021/06/29 06:00:29 PM]  - Probabilities (Link: 1.00000, Lost: 1.00000)\n",
      "[INFO][2021/06/29 06:00:29 PM]  - Stats (Active: 236, Lost: 6895, Conflicts resolved: 2572)\n",
      "[INFO][2021/06/29 06:00:29 PM] Tracking objects in frames 1000 to 1099 (of 1194)...\n",
      "[INFO][2021/06/29 06:00:33 PM]  - Timing (Bayesian updates: 49.47ms, Linking: 1.62ms)\n",
      "[INFO][2021/06/29 06:00:33 PM]  - Probabilities (Link: 1.00000, Lost: 0.80567)\n",
      "[INFO][2021/06/29 06:00:33 PM]  - Stats (Active: 322, Lost: 8447, Conflicts resolved: 3091)\n",
      "[INFO][2021/06/29 06:00:33 PM] Tracking objects in frames 1100 to 1194 (of 1194)...\n",
      "[INFO][2021/06/29 06:00:39 PM]  - Timing (Bayesian updates: 83.25ms, Linking: 2.12ms)\n",
      "[INFO][2021/06/29 06:00:39 PM]  - Probabilities (Link: 0.99999, Lost: 1.00000)\n",
      "[INFO][2021/06/29 06:00:39 PM] SUCCESS.\n",
      "[INFO][2021/06/29 06:00:39 PM]  - Found 30869 tracks in 1194 frames (in 0.0s)\n",
      "[INFO][2021/06/29 06:00:39 PM]  - Inserted 0 dummy objects to fill tracking gaps\n",
      "[INFO][2021/06/29 06:00:39 PM] Loading hypothesis model: MDCK_hypothesis_scribble_dense\n",
      "[INFO][2021/06/29 06:00:39 PM] Calculating hypotheses (relax: True)...\n",
      "[INFO][2021/06/29 06:00:40 PM] Setting up constraints matrix for global optimisation...\n",
      "[INFO][2021/06/29 06:00:53 PM] Optimizing...\n",
      "[INFO][2021/06/29 06:00:58 PM] Optimization complete. (Solution: optimal)\n",
      "[INFO][2021/06/29 06:00:58 PM]  - Fates.FALSE_POSITIVE: 386 (of 30869)\n",
      "[INFO][2021/06/29 06:00:58 PM]  - Fates.LINK: 629 (of 59300)\n",
      "[INFO][2021/06/29 06:00:58 PM]  - Fates.DIVIDE: 301 (of 33289)\n",
      "[INFO][2021/06/29 06:00:58 PM]  - Fates.APOPTOSIS: 99 (of 148)\n",
      "[INFO][2021/06/29 06:00:58 PM]  - Fates.INITIALIZE_BORDER: 28667 (of 28857)\n",
      "[INFO][2021/06/29 06:00:58 PM]  - Fates.INITIALIZE_FRONT: 35 (of 37)\n",
      "[INFO][2021/06/29 06:00:58 PM]  - Fates.INITIALIZE_LAZY: 550 (of 1975)\n",
      "[INFO][2021/06/29 06:00:58 PM]  - Fates.TERMINATE_BORDER: 28660 (of 28831)\n",
      "[INFO][2021/06/29 06:00:58 PM]  - Fates.TERMINATE_BACK: 386 (of 404)\n",
      "[INFO][2021/06/29 06:00:58 PM]  - Fates.TERMINATE_LAZY: 408 (of 1634)\n",
      "[INFO][2021/06/29 06:00:58 PM]  - TOTAL: 185344 hypotheses\n",
      "[INFO][2021/06/29 06:00:58 PM] Completed optimization with 30240 tracks\n",
      "[INFO][2021/06/29 06:00:58 PM] Opening HDF file: /Users/arl/Downloads/retracked.h5...\n",
      "[INFO][2021/06/29 06:00:59 PM] Writing objects/obj_type_2\n",
      "[INFO][2021/06/29 06:00:59 PM] Writing labels/obj_type_2\n",
      "[INFO][2021/06/29 06:00:59 PM] Writing properties/obj_type_2\n",
      "[INFO][2021/06/29 06:01:01 PM] Writing tracks/obj_type_2\n",
      "[INFO][2021/06/29 06:01:01 PM] Writing dummies/obj_type_2\n",
      "[INFO][2021/06/29 06:01:01 PM] Writing LBEP/obj_type_2\n",
      "[INFO][2021/06/29 06:01:01 PM] Writing fates/obj_type_2\n",
      "[INFO][2021/06/29 06:01:01 PM] Closing HDF file: /Users/arl/Downloads/retracked.h5\n",
      "[INFO][2021/06/29 06:01:02 PM] Ending BayesianTracker session\n"
     ]
    }
   ],
   "source": [
    "for obj_type, obj_model in zip(obj_types, obj_models):\n",
    "\n",
    "    with btrack.dataio.HDF5FileHandler(OLDFILE, 'r', obj_type=obj_type) as hdf:\n",
    "        objects = hdf.objects\n",
    "        area = hdf._hdf['objects'][obj_type]['area'][:]\n",
    "        \n",
    "    for idx, obj in enumerate(objects):\n",
    "        obj.properties = {'area': area[idx]}\n",
    "        \n",
    "    # make a filtered list of objects for tracking\n",
    "    filtered_objects = [o for o in objects if o.properties['area']>100.]\n",
    "    \n",
    "    with btrack.BayesianTracker() as tracker:\n",
    "\n",
    "        # configure the tracker using a config file\n",
    "        tracker.configure_from_file(\n",
    "            os.path.join(\"/Users/arl/Dropbox/Code/py3/BayesianTracker/models/\", obj_model)\n",
    "        )\n",
    "        tracker.max_search_radius = 50\n",
    "\n",
    "        # append the objects to be tracked\n",
    "        tracker.append(filtered_objects)\n",
    "\n",
    "        # set the volume\n",
    "        tracker.volume=((0, 1600), (0, 1200), (-1e5, 1e5))\n",
    "\n",
    "        # track them (in interactive mode)\n",
    "        tracker.track_interactive(step_size=100)\n",
    "\n",
    "        # generate hypotheses and run the global optimizer\n",
    "        tracker.optimize()\n",
    "\n",
    "        tracker.export(\n",
    "            NEWFILE, \n",
    "            obj_type=obj_type, \n",
    "            filter_by='area>100'\n",
    "        )\n",
    "        \n",
    "        tracks = tracker.tracks"
   ]
  },
  {
   "cell_type": "markdown",
   "metadata": {},
   "source": [
    "### finally, write the segmentation back to the file"
   ]
  },
  {
   "cell_type": "code",
   "execution_count": 6,
   "metadata": {},
   "outputs": [
    {
     "name": "stderr",
     "output_type": "stream",
     "text": [
      "[INFO][2021/06/29 06:01:02 PM] Opening HDF file: /Users/arl/Downloads/retracked.h5...\n",
      "[INFO][2021/06/29 06:01:30 PM] Closing HDF file: /Users/arl/Downloads/retracked.h5\n"
     ]
    },
    {
     "name": "stdout",
     "output_type": "stream",
     "text": [
      "btrack version:  0.4.1\n"
     ]
    }
   ],
   "source": [
    "with btrack.dataio.HDF5FileHandler(NEWFILE, 'a') as hdf:\n",
    "    hdf.write_segmentation(segmentation)\n",
    "    print('btrack version: ', hdf._hdf['tracks']['obj_type_1'].attrs['version'])"
   ]
  },
  {
   "cell_type": "code",
   "execution_count": null,
   "metadata": {},
   "outputs": [],
   "source": []
  },
  {
   "cell_type": "code",
   "execution_count": 7,
   "metadata": {},
   "outputs": [
    {
     "data": {
      "text/html": [
       "<table border=\"1\" class=\"dataframe\">\n",
       "  <thead>\n",
       "    <tr style=\"text-align: right;\">\n",
       "      <th></th>\n",
       "      <th>ID</th>\n",
       "      <th>x</th>\n",
       "      <th>y</th>\n",
       "      <th>z</th>\n",
       "      <th>t</th>\n",
       "      <th>dummy</th>\n",
       "      <th>states</th>\n",
       "      <th>label</th>\n",
       "      <th>prob</th>\n",
       "      <th>area</th>\n",
       "    </tr>\n",
       "  </thead>\n",
       "  <tbody>\n",
       "    <tr>\n",
       "      <th>0</th>\n",
       "      <td>0</td>\n",
       "      <td>95.124084</td>\n",
       "      <td>972.700745</td>\n",
       "      <td>0.0</td>\n",
       "      <td>0</td>\n",
       "      <td>False</td>\n",
       "      <td>0</td>\n",
       "      <td>4</td>\n",
       "      <td>0.0</td>\n",
       "      <td>411</td>\n",
       "    </tr>\n",
       "  </tbody>\n",
       "</table>"
      ],
      "text/plain": [
       "{'ID': 0, 'x': 95.12408447265625, 'y': 972.7007446289062, 'z': 0.0, 't': 0, 'dummy': False, 'states': 0, 'label': 4, 'prob': 0.0, 'area': 411}"
      ]
     },
     "execution_count": 7,
     "metadata": {},
     "output_type": "execute_result"
    }
   ],
   "source": [
    "objects[0]"
   ]
  },
  {
   "cell_type": "code",
   "execution_count": null,
   "metadata": {},
   "outputs": [],
   "source": []
  }
 ],
 "metadata": {
  "kernelspec": {
   "display_name": "Python 3",
   "language": "python",
   "name": "python3"
  },
  "language_info": {
   "codemirror_mode": {
    "name": "ipython",
    "version": 3
   },
   "file_extension": ".py",
   "mimetype": "text/x-python",
   "name": "python",
   "nbconvert_exporter": "python",
   "pygments_lexer": "ipython3",
   "version": "3.7.6"
  }
 },
 "nbformat": 4,
 "nbformat_minor": 5
}
