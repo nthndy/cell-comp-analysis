{
 "cells": [
  {
   "cell_type": "markdown",
   "metadata": {},
   "source": [
    "# Focal cell coordinate finder"
   ]
  },
  {
   "cell_type": "code",
   "execution_count": 1,
   "metadata": {},
   "outputs": [],
   "source": [
    "import calculate_radial_analysis as calculate\n",
    "import dataio\n",
    "\n",
    "import glob\n",
    "import os\n",
    "import re\n",
    "from tqdm.auto import tqdm\n",
    "import seaborn as sns\n",
    "import pandas as pd\n",
    "import matplotlib.pyplot as plt\n",
    "from pathlib import Path\n",
    "from natsort import natsorted\n",
    "%matplotlib inline\n",
    "import warnings\n",
    "warnings.filterwarnings('ignore')"
   ]
  },
  {
   "cell_type": "markdown",
   "metadata": {},
   "source": [
    "## 1) Event dictionary loader\n",
    "\n",
    "Specify cell type to filter out unwanted apoptoses, want end result of event_dict that takes the format of :`event_dict = {event_ID:event_time}` \n",
    "\n",
    "where `event_ID` takes the format of: `GV{experiment_ID}_Pos{position_ID}_{cell_ID}_{cell_type}` \n",
    "\n",
    "For example: \n",
    "\n",
    "```\n",
    "event_dict = {'GV0794_Pos4_393_GFP': '766',\n",
    "             'GV0794_Pos7_364_GFP': '550',\n",
    "             'GV0794_Pos7_457_GFP': '805',\n",
    "             'GV0794_Pos7_369_GFP': '833',\n",
    "             'GV0794_Pos7_292_GFP': '884',\n",
    "             'GV0795_Pos4_358_GFP': '628',\n",
    "             'GV0795_Pos4_18_GFP': '855',\n",
    "             'GV0795_Pos4_1356_GFP': '992',\n",
    "             'GV0795_Pos4_359_GFP': '1133',\n",
    "             'GV0796_Pos4_542_GFP': '581',\n",
    "             'GV0796_Pos4_1334_GFP': '719',\n",
    "             'GV0796_Pos4_1586_GFP': '785'}\n",
    " ```\n",
    " \n",
    "Function to apoptosis event dictionary from preexisting data store:\n",
    "\n",
    "`dataio.apoptosis_list_loader(path_to_apop_lists, cell_type)`\n",
    "\n",
    "Where the `path_to_apop_lists` is the directory containing the apoptosis information and the `cell_type` is either `'Scr'` or `'WT'`."
   ]
  },
  {
   "cell_type": "code",
   "execution_count": 2,
   "metadata": {},
   "outputs": [
    {
     "data": {
      "text/plain": [
       "{'GV0815_Pos23_185_GFP': '555',\n",
       " 'GV0815_Pos23_634_GFP': '705',\n",
       " 'GV0816_Pos14_7_GFP': '139',\n",
       " 'GV0816_Pos14_537_GFP': '849',\n",
       " 'GV0816_Pos14_496_GFP': '982',\n",
       " 'GV0820_Pos1_130_GFP': '202',\n",
       " 'GV0820_Pos1_412_GFP': '717',\n",
       " 'GV0820_Pos1_1427_GFP': '840',\n",
       " 'GV0820_Pos1_503_GFP': '867',\n",
       " 'GV0820_Pos1_368_GFP': '911',\n",
       " 'GV0820_Pos1_1818_GFP': '1007',\n",
       " 'GV0813_Pos1_886_GFP': '598',\n",
       " 'GV0817_Pos12_363_GFP': '699',\n",
       " 'GV0817_Pos12_1193_GFP': '1090',\n",
       " 'GV0818_Pos12_187_GFP': '549',\n",
       " 'GV0818_Pos12_378_GFP': '604',\n",
       " 'GV0818_Pos12_863_GFP': '632',\n",
       " 'GV0818_Pos12_932_GFP': '728',\n",
       " 'GV0818_Pos12_933_GFP': '728',\n",
       " 'GV0818_Pos12_1099_GFP': '712',\n",
       " 'GV0818_Pos12_957_GFP': '756',\n",
       " 'GV0818_Pos12_1928_GFP': '933',\n",
       " 'GV0818_Pos12_2092_GFP': '954',\n",
       " 'GV0818_Pos12_1715_GFP': '930',\n",
       " 'GV0818_Pos12_1714_GFP': '984',\n",
       " 'GV0818_Pos12_1360_GFP': '1013',\n",
       " 'GV0818_Pos12_2659_GFP': '1021',\n",
       " 'GV0818_Pos12_98_GFP': '1021',\n",
       " 'GV0818_Pos12_1463_GFP': '1021',\n",
       " 'GV0815_Pos11_536_GFP': '505',\n",
       " 'GV0815_Pos11_255_GFP': '532',\n",
       " 'GV0815_Pos11_2851_GFP': '1019',\n",
       " 'GV0815_Pos11_1379_GFP': '1044',\n",
       " 'GV0816_Pos0_416_GFP': '679',\n",
       " 'GV0816_Pos0_668_GFP': '942',\n",
       " 'GV0800_Pos8_263_GFP': '530',\n",
       " 'GV0800_Pos8_49_GFP': '844',\n",
       " 'GV0797_Pos18_833_GFP': '393',\n",
       " 'GV0797_Pos18_706_GFP': '345',\n",
       " 'GV0797_Pos18_1303_GFP': '448',\n",
       " 'GV0797_Pos18_1302_GFP': '457',\n",
       " 'GV0797_Pos18_1422_GFP': '602',\n",
       " 'GV0796_Pos20_28_GFP': '276',\n",
       " 'GV0796_Pos3_1599_GFP': '501',\n",
       " 'GV0820_Pos3_1521_GFP': '950',\n",
       " 'GV0820_Pos3_605_GFP': '871',\n",
       " 'GV0820_Pos3_1364_GFP': '984',\n",
       " 'GV0820_Pos3_2143_GFP': '984',\n",
       " 'GV0820_Pos3_2006_GFP': '984',\n",
       " 'GV0820_Pos3_2146_GFP': '983',\n",
       " 'GV0820_Pos3_1639_GFP': '1027',\n",
       " 'GV0797_Pos8_1104_GFP': '458',\n",
       " 'GV0798_Pos6_11_GFP': '155',\n",
       " 'GV0807_Pos5_1493_GFP': '1115',\n",
       " 'GV0797_Pos21_93_GFP': '20',\n",
       " 'GV0797_Pos21_77_GFP': '135',\n",
       " 'GV0797_Pos21_732_GFP': '298',\n",
       " 'GV0797_Pos21_5_GFP': '386',\n",
       " 'GV0797_Pos21_7_GFP': '484',\n",
       " 'GV0797_Pos21_101_GFP': '379',\n",
       " 'GV0797_Pos21_94_GFP': '392',\n",
       " 'GV0797_Pos21_787_GFP': '344',\n",
       " 'GV0797_Pos21_1545_GFP': '510',\n",
       " 'GV0797_Pos21_1544_GFP': '510',\n",
       " 'GV0798_Pos4_1955_GFP': '904',\n",
       " 'GV0815_Pos0_145_GFP': '73',\n",
       " 'GV0815_Pos0_641_GFP': '691',\n",
       " 'GV0815_Pos0_981_GFP': '652',\n",
       " 'GV0815_Pos0_42_GFP': '792',\n",
       " 'GV0815_Pos0_2046_GFP': '911',\n",
       " 'GV0815_Pos0_436_GFP': '1052',\n",
       " 'GV0815_Pos0_2221_GFP': '1033',\n",
       " 'GV0815_Pos0_1487_GFP': '1060',\n",
       " 'GV0815_Pos0_444_GFP': '1124',\n",
       " 'GV0815_Pos0_620_GFP': '1132',\n",
       " 'GV0815_Pos0_1133_GFP': '1175',\n",
       " 'GV0815_Pos0_949_GFP': '1175',\n",
       " 'GV0813_Pos4_404_GFP': '466',\n",
       " 'GV0813_Pos4_596_GFP': '526',\n",
       " 'GV0813_Pos4_403_GFP': '535',\n",
       " 'GV0813_Pos4_7_GFP': '606',\n",
       " 'GV0813_Pos4_1000_GFP': '692',\n",
       " 'GV0801_Pos4_298_GFP': '616',\n",
       " 'GV0801_Pos4_2650_GFP': '1047',\n",
       " 'GV0801_Pos4_3147_GFP': '1119',\n",
       " 'GV0801_Pos4_1396_GFP': '1168',\n",
       " 'GV0801_Pos4_3582_GFP': '1176',\n",
       " 'GV0813_Pos0_137_GFP': '930',\n",
       " 'GV0813_Pos0_356_GFP': '955',\n",
       " 'GV0813_Pos0_260_GFP': '975',\n",
       " 'GV0813_Pos0_111_GFP': '981',\n",
       " 'GV0813_Pos0_223_GFP': '1002',\n",
       " 'GV0813_Pos0_636_GFP': '957',\n",
       " 'GV0814_Pos11_1120_GFP': '756',\n",
       " 'GV0814_Pos11_1878_GFP': '767',\n",
       " 'GV0814_Pos11_1981_GFP': '957',\n",
       " 'GV0814_Pos11_3733_GFP': '1069',\n",
       " 'GV0814_Pos11_2242_GFP': '1051',\n",
       " 'GV0814_Pos11_2469_GFP': '1106',\n",
       " 'GV0814_Pos11_1212_GFP': '1133',\n",
       " 'GV0814_Pos11_4428_GFP': '1152',\n",
       " 'GV0800_Pos17_7_GFP': '98',\n",
       " 'GV0800_Pos17_1010_GFP': '978',\n",
       " 'GV0800_Pos17_1009_GFP': '982',\n",
       " 'GV0800_Pos17_868_GFP': '1017',\n",
       " 'GV0800_Pos17_869_GFP': '1015',\n",
       " 'GV0800_Pos17_1001_GFP': '1156',\n",
       " 'GV0800_Pos17_1002_GFP': '1156',\n",
       " 'GV0800_Pos7_278_GFP': '242',\n",
       " 'GV0800_Pos7_206_GFP': '539',\n",
       " 'GV0800_Pos7_511_GFP': '578',\n",
       " 'GV0800_Pos7_397_GFP': '602',\n",
       " 'GV0800_Pos7_445_GFP': '686',\n",
       " 'GV0800_Pos7_921_GFP': '970',\n",
       " 'GV0800_Pos7_2097_GFP': '971',\n",
       " 'GV0800_Pos7_1616_GFP': '971',\n",
       " 'GV0800_Pos7_1160_GFP': '926',\n",
       " 'GV0800_Pos15_91_GFP': '131',\n",
       " 'GV0800_Pos15_1412_GFP': '843',\n",
       " 'GV0820_Pos2_406_GFP': '635',\n",
       " 'GV0820_Pos2_1232_GFP': '979',\n",
       " 'GV0807_Pos4_982_GFP': '763',\n",
       " 'GV0807_Pos4_14_GFP': '990',\n",
       " 'GV0819_Pos0_677_GFP': '635',\n",
       " 'GV0819_Pos0_913_GFP': '855',\n",
       " 'GV0819_Pos0_898_GFP': '866',\n",
       " 'GV0819_Pos0_22_GFP': '874',\n",
       " 'GV0819_Pos0_1_GFP': '887',\n",
       " 'GV0819_Pos0_1831_GFP': '906',\n",
       " 'GV0819_Pos0_897_GFP': '944',\n",
       " 'GV0819_Pos0_847_GFP': '944',\n",
       " 'GV0819_Pos0_846_GFP': '944',\n",
       " 'GV0819_Pos0_1712_GFP': '932',\n",
       " 'GV0819_Pos0_2151_GFP': '920',\n",
       " 'GV0819_Pos0_673_GFP': '957',\n",
       " 'GV0819_Pos0_1319_GFP': '939',\n",
       " 'GV0819_Pos0_2622_GFP': '1005',\n",
       " 'GV0819_Pos0_1622_GFP': '1005',\n",
       " 'GV0819_Pos0_98_GFP': '928',\n",
       " 'GV0819_Pos0_2345_GFP': '1003',\n",
       " 'GV0819_Pos0_643_GFP': '1003',\n",
       " 'GV0819_Pos0_1588_GFP': '1003',\n",
       " 'GV0819_Pos0_1587_GFP': '1003',\n",
       " 'GV0819_Pos0_843_GFP': '1033',\n",
       " 'GV0819_Pos0_2269_GFP': '1023',\n",
       " 'GV0819_Pos0_2268_GFP': '1023',\n",
       " 'GV0819_Pos0_1371_GFP': '1014',\n",
       " 'GV0819_Pos0_1370_GFP': '1000',\n",
       " 'GV0819_Pos0_838_GFP': '1007',\n",
       " 'GV0819_Pos0_912_GFP': '1046',\n",
       " 'GV0819_Pos0_1272_GFP': '1101',\n",
       " 'GV0819_Pos0_144_GFP': '1101',\n",
       " 'GV0819_Pos0_1210_GFP': '1100',\n",
       " 'GV0819_Pos0_1211_GFP': '1100',\n",
       " 'GV0819_Pos0_3087_GFP': '1099',\n",
       " 'GV0819_Pos0_3037_GFP': '1099',\n",
       " 'GV0819_Pos0_1740_GFP': '1099',\n",
       " 'GV0819_Pos0_1742_GFP': '1099',\n",
       " 'GV0819_Pos0_829_GFP': '1066',\n",
       " 'GV0819_Pos0_1074_GFP': '1084',\n",
       " 'GV0819_Pos0_2369_GFP': '1113',\n",
       " 'GV0819_Pos0_2308_GFP': '1113',\n",
       " 'GV0819_Pos0_3216_GFP': '1113',\n",
       " 'GV0819_Pos0_2206_GFP': '1157',\n",
       " 'GV0819_Pos0_2018_GFP': '1129',\n",
       " 'GV0819_Pos0_2009_GFP': '1129',\n",
       " 'GV0819_Pos0_412_GFP': '1167',\n",
       " 'GV0819_Pos0_1737_GFP': '1151',\n",
       " 'GV0819_Pos0_2886_GFP': '1161',\n",
       " 'GV0819_Pos2_119_GFP': '297',\n",
       " 'GV0819_Pos2_481_GFP': '447',\n",
       " 'GV0819_Pos2_513_GFP': '653',\n",
       " 'GV0819_Pos2_143_GFP': '878',\n",
       " 'GV0819_Pos2_1617_GFP': '965',\n",
       " 'GV0820_Pos0_35_GFP': '128',\n",
       " 'GV0820_Pos0_28_GFP': '670',\n",
       " 'GV0820_Pos0_930_GFP': '698',\n",
       " 'GV0820_Pos0_739_GFP': '716',\n",
       " 'GV0820_Pos0_501_GFP': '741',\n",
       " 'GV0820_Pos0_19_GFP': '724',\n",
       " 'GV0820_Pos0_589_GFP': '724',\n",
       " 'GV0820_Pos0_709_GFP': '825',\n",
       " 'GV0820_Pos0_1329_GFP': '952',\n",
       " 'GV0820_Pos0_854_GFP': '976',\n",
       " 'GV0820_Pos0_784_GFP': '972',\n",
       " 'GV0820_Pos0_1837_GFP': '1009',\n",
       " 'GV0820_Pos0_2191_GFP': '1010',\n",
       " 'GV0820_Pos0_710_GFP': '956',\n",
       " 'GV0820_Pos0_1231_GFP': '1046',\n",
       " 'GV0795_Pos4_358_GFP': '628',\n",
       " 'GV0795_Pos4_18_GFP': '855',\n",
       " 'GV0795_Pos4_1356_GFP': '992',\n",
       " 'GV0795_Pos4_359_GFP': '1133',\n",
       " 'GV0805_Pos3_682_GFP': '568',\n",
       " 'GV0805_Pos3_50_GFP': '839',\n",
       " 'GV0805_Pos3_4_GFP': '846',\n",
       " 'GV0819_Pos4_1586_GFP': '862',\n",
       " 'GV0819_Pos4_2425_GFP': '1048',\n",
       " 'GV0819_Pos4_2609_GFP': '1074',\n",
       " 'GV0794_Pos7_364_GFP': '550',\n",
       " 'GV0794_Pos7_457_GFP': '805',\n",
       " 'GV0794_Pos7_369_GFP': '833',\n",
       " 'GV0794_Pos7_292_GFP': '884',\n",
       " 'GV0796_Pos7_44_GFP': '99',\n",
       " 'GV0796_Pos7_541_GFP': '462',\n",
       " 'GV0796_Pos7_803_GFP': '629',\n",
       " 'GV0802_Pos3_2411_GFP': '843',\n",
       " 'GV0797_Pos22_281_GFP': '524',\n",
       " 'GV0804_Pos4_1013_GFP': '903',\n",
       " 'GV0804_Pos4_1774_GFP': '1106',\n",
       " 'GV0814_Pos12_354_GFP': '653',\n",
       " 'GV0814_Pos12_3629_GFP': '1056',\n",
       " 'GV0798_Pos8_1325_GFP': '880',\n",
       " 'GV0817_Pos0_7_GFP': '746',\n",
       " 'GV0817_Pos0_901_GFP': '838',\n",
       " 'GV0817_Pos0_1108_GFP': '876',\n",
       " 'GV0817_Pos0_1541_GFP': '903',\n",
       " 'GV0817_Pos0_2082_GFP': '941',\n",
       " 'GV0817_Pos0_737_GFP': '939',\n",
       " 'GV0817_Pos0_1731_GFP': '976',\n",
       " 'GV0817_Pos0_1542_GFP': '973',\n",
       " 'GV0817_Pos0_687_GFP': '977',\n",
       " 'GV0817_Pos0_1440_GFP': '1037',\n",
       " 'GV0817_Pos0_1928_GFP': '1053',\n",
       " 'GV0817_Pos0_224_GFP': '1099',\n",
       " 'GV0817_Pos0_2109_GFP': '1074',\n",
       " 'GV0817_Pos0_2855_GFP': '1129',\n",
       " 'GV0817_Pos0_2188_GFP': '1160',\n",
       " 'GV0817_Pos0_2181_GFP': '1172',\n",
       " 'GV0795_Pos3_500_GFP': '655',\n",
       " 'GV0800_Pos4_480_GFP': '716',\n",
       " 'GV0816_Pos13_39_GFP': '5',\n",
       " 'GV0816_Pos13_25_GFP': '951',\n",
       " 'GV0805_Pos4_282_GFP': '369',\n",
       " 'GV0805_Pos4_686_GFP': '684',\n",
       " 'GV0805_Pos4_456_GFP': '831',\n",
       " 'GV0800_Pos16_327_GFP': '507',\n",
       " 'GV0800_Pos16_259_GFP': '601',\n",
       " 'GV0800_Pos16_265_GFP': '601',\n",
       " 'GV0800_Pos16_1376_GFP': '831',\n",
       " 'GV0800_Pos16_719_GFP': '860',\n",
       " 'GV0800_Pos16_720_GFP': '902',\n",
       " 'GV0796_Pos4_542_GFP': '581',\n",
       " 'GV0796_Pos4_1334_GFP': '719',\n",
       " 'GV0796_Pos4_1586_GFP': '785',\n",
       " 'GV0796_Pos4_1748_GFP': '829',\n",
       " 'GV0796_Pos4_2589_GFP': '905',\n",
       " 'GV0796_Pos4_723_GFP': '891',\n",
       " 'GV0796_Pos4_2259_GFP': '913',\n",
       " 'GV0800_Pos6_361_GFP': '847',\n",
       " 'GV0800_Pos6_302_GFP': '955',\n",
       " 'GV0794_Pos4_393_GFP': '766',\n",
       " 'GV0820_Pos4_684_GFP': '740',\n",
       " 'GV0820_Pos4_1034_GFP': '960',\n",
       " 'GV0820_Pos4_1634_GFP': '900',\n",
       " 'GV0796_Pos19_77_GFP': '180',\n",
       " 'GV0796_Pos19_441_GFP': '426',\n",
       " 'GV0796_Pos19_431_GFP': '516',\n",
       " 'GV0796_Pos19_2161_GFP': '859',\n",
       " 'GV0796_Pos19_1960_GFP': '986',\n",
       " 'GV0813_Pos3_362_GFP': '440',\n",
       " 'GV0813_Pos3_15_GFP': '356',\n",
       " 'GV0813_Pos3_33_GFP': '332',\n",
       " 'GV0813_Pos3_341_GFP': '566',\n",
       " 'GV0813_Pos3_513_GFP': '580',\n",
       " 'GV0813_Pos3_514_GFP': '601',\n",
       " 'GV0813_Pos3_599_GFP': '831',\n",
       " 'GV0813_Pos3_304_GFP': '810',\n",
       " 'GV0813_Pos3_535_GFP': '814',\n",
       " 'GV0813_Pos3_813_GFP': '898',\n",
       " 'GV0813_Pos3_1298_GFP': '914',\n",
       " 'GV0813_Pos3_538_GFP': '881',\n",
       " 'GV0813_Pos3_122_GFP': '899',\n",
       " 'GV0813_Pos2_589_GFP': '695',\n",
       " 'GV0813_Pos2_717_GFP': '972',\n",
       " 'GV0814_Pos0_578_GFP': '935',\n",
       " 'GV0814_Pos0_597_GFP': '898',\n",
       " 'GV0814_Pos0_452_GFP': '1023',\n",
       " 'GV0814_Pos0_1322_GFP': '1135',\n",
       " 'GV0814_Pos0_453_GFP': '1163',\n",
       " 'GV0814_Pos0_26_GFP': '1161',\n",
       " 'GV0814_Pos0_357_GFP': '1157',\n",
       " 'GV0797_Pos19_451_GFP': '179',\n",
       " 'GV0797_Pos19_546_GFP': '320',\n",
       " 'GV0797_Pos19_1229_GFP': '623',\n",
       " 'GV0798_Pos18_353_GFP': '322',\n",
       " 'GV0797_Pos4_290_GFP': '283',\n",
       " 'GV0797_Pos4_1397_GFP': '397',\n",
       " 'GV0797_Pos4_825_GFP': '492',\n",
       " 'GV0797_Pos4_1823_GFP': '552',\n",
       " 'GV0797_Pos4_1006_GFP': '552',\n",
       " 'GV0797_Pos4_1487_GFP': '535',\n",
       " 'GV0797_Pos4_1486_GFP': '644',\n",
       " 'GV0797_Pos4_2398_GFP': '623',\n",
       " 'GV0797_Pos4_2468_GFP': '623',\n",
       " 'GV0819_Pos5_1411_GFP': '871',\n",
       " 'GV0819_Pos5_1374_GFP': '976',\n",
       " 'GV0819_Pos5_1098_GFP': '1102',\n",
       " 'GV0797_Pos7_724_GFP': '337',\n",
       " 'GV0797_Pos7_192_GFP': '338',\n",
       " 'GV0797_Pos7_230_GFP': '409',\n",
       " 'GV0797_Pos7_1103_GFP': '434',\n",
       " 'GV0797_Pos7_1029_GFP': '600',\n",
       " 'GV0797_Pos20_92_GFP': '273',\n",
       " 'GV0797_Pos20_39_GFP': '508',\n",
       " 'GV0797_Pos20_662_GFP': '510',\n",
       " 'GV0797_Pos20_880_GFP': '548',\n",
       " 'GV0815_Pos12_1143_GFP': '780',\n",
       " 'GV0815_Pos12_1142_GFP': '857',\n",
       " 'GV0815_Pos12_799_GFP': '874',\n",
       " 'GV0815_Pos12_1521_GFP': '1110',\n",
       " 'GV0815_Pos12_817_GFP': '1069',\n",
       " 'GV0815_Pos12_2169_GFP': '1137',\n",
       " 'GV0796_Pos8_41_GFP': '87',\n",
       " 'GV0796_Pos8_423_GFP': '461',\n",
       " 'GV0819_Pos1_34_GFP': '501',\n",
       " 'GV0819_Pos1_425_GFP': '491',\n",
       " 'GV0819_Pos1_653_GFP': '527',\n",
       " 'GV0819_Pos1_739_GFP': '527',\n",
       " 'GV0819_Pos1_1068_GFP': '692',\n",
       " 'GV0819_Pos1_941_GFP': '692',\n",
       " 'GV0819_Pos1_942_GFP': '692',\n",
       " 'GV0819_Pos1_1745_GFP': '925',\n",
       " 'GV0819_Pos1_798_GFP': '987',\n",
       " 'GV0806_Pos5_124_GFP': '1067',\n",
       " 'GV0820_Pos5_47_GFP': '191',\n",
       " 'GV0820_Pos5_48_GFP': '548',\n",
       " 'GV0820_Pos5_417_GFP': '768',\n",
       " 'GV0820_Pos5_1837_GFP': '989',\n",
       " 'GV0796_Pos21_2923_GFP': '943',\n",
       " 'GV0796_Pos21_788_GFP': '740',\n",
       " 'GV0798_Pos23_72_GFP': '586',\n",
       " 'GV0798_Pos23_261_GFP': '657',\n",
       " 'GV0798_Pos23_976_GFP': '922',\n",
       " 'GV0798_Pos23_536_GFP': '829',\n",
       " 'GV0818_Pos13_353_GFP': '557',\n",
       " 'GV0818_Pos13_1205_GFP': '715',\n",
       " 'GV0818_Pos13_1365_GFP': '787',\n",
       " 'GV0818_Pos13_3452_GFP': '960',\n",
       " 'GV0818_Pos13_3451_GFP': '961',\n",
       " 'GV0817_Pos23_22_GFP': '76',\n",
       " 'GV0817_Pos23_389_GFP': '545',\n",
       " 'GV0817_Pos23_967_GFP': '636',\n",
       " 'GV0817_Pos23_216_GFP': '730',\n",
       " 'GV0817_Pos23_1183_GFP': '802',\n",
       " 'GV0817_Pos23_13_GFP': '839',\n",
       " 'GV0817_Pos23_3375_GFP': '962',\n",
       " 'GV0817_Pos23_2410_GFP': '974',\n",
       " 'GV0817_Pos23_4109_GFP': '1087',\n",
       " 'GV0817_Pos23_2771_GFP': '1092',\n",
       " 'GV0817_Pos23_3290_GFP': '1182',\n",
       " 'GV0794_Pos3_311_GFP': '731',\n",
       " 'GV0794_Pos3_142_GFP': '811',\n",
       " 'GV0806_Pos3_571_GFP': '281',\n",
       " 'GV0798_Pos21_9_GFP': '0',\n",
       " 'GV0798_Pos21_39_GFP': '0',\n",
       " 'GV0798_Pos21_417_GFP': '671',\n",
       " 'GV0816_Pos23_5_GFP': '43',\n",
       " 'GV0816_Pos23_1_GFP': '401',\n",
       " 'GV0816_Pos23_755_GFP': '768',\n",
       " 'GV0816_Pos23_757_GFP': '770',\n",
       " 'GV0816_Pos23_773_GFP': '791',\n",
       " 'GV0816_Pos23_772_GFP': '798',\n",
       " 'GV0816_Pos23_696_GFP': '775',\n",
       " 'GV0806_Pos4_165_GFP': '375',\n",
       " 'GV0806_Pos4_1452_GFP': '687',\n",
       " 'GV0806_Pos4_1471_GFP': '687',\n",
       " 'GV0806_Pos4_944_GFP': '680',\n",
       " 'GV0806_Pos4_1258_GFP': '932',\n",
       " 'GV0802_Pos5_184_GFP': '717',\n",
       " 'GV0802_Pos5_185_GFP': '752',\n",
       " 'GV0802_Pos5_372_GFP': '979',\n",
       " 'GV0802_Pos5_141_GFP': '858',\n",
       " 'GV0797_Pos23_88_GFP': '304',\n",
       " 'GV0797_Pos23_248_GFP': '597',\n",
       " 'GV0819_Pos3_586_GFP': '593',\n",
       " 'GV0819_Pos3_741_GFP': '844',\n",
       " 'GV0794_Pos5_1_GFP': '35',\n",
       " 'GV0797_Pos5_971_GFP': '558',\n",
       " 'GV0797_Pos5_741_GFP': '605',\n",
       " 'GV0797_Pos5_742_GFP': '605',\n",
       " 'GV0817_Pos11_141_GFP': '752',\n",
       " 'GV0817_Pos11_944_GFP': '827',\n",
       " 'GV0817_Pos11_393_GFP': '881',\n",
       " 'GV0817_Pos11_2358_GFP': '1086'}"
      ]
     },
     "execution_count": 2,
     "metadata": {},
     "output_type": "execute_result"
    }
   ],
   "source": [
    "path_to_apop_lists = '/home/nathan/data/kraken/scr/h2b/giulia/experiment_information/apoptoses/final/all'\n",
    "event_dict = dataio.apoptosis_list_loader(path_to_apop_lists, 'WT')\n",
    "event_dict"
   ]
  },
  {
   "cell_type": "markdown",
   "metadata": {},
   "source": [
    "## 2) Load corresponding cell tracking data and specifiy other parameters\n",
    "\n",
    "`dataio.hdf5_file_finder(parent_folder_hdf5)` loads a list of all hdf5 files when supplied with the parent directory of all the experiments. This relies on a typical sub-parent directory structure of `'GV****/Pos*/*aligned/HDF/segmented.hdf5'` (aligned folder optional)"
   ]
  },
  {
   "cell_type": "code",
   "execution_count": 3,
   "metadata": {},
   "outputs": [],
   "source": [
    "### load tracking data\n",
    "parent_folder_hdf5 = '/home/nathan/data/kraken/scr/h2b/giulia'\n",
    "hdf5_file_list = dataio.hdf5_file_finder(parent_folder_hdf5)\n"
   ]
  },
  {
   "cell_type": "code",
   "execution_count": 4,
   "metadata": {},
   "outputs": [
    {
     "data": {
      "application/vnd.jupyter.widget-view+json": {
       "model_id": "c417332b7d7c4144a2ff292d7a552d08",
       "version_major": 2,
       "version_minor": 0
      },
      "text/plain": [
       "  0%|          | 0/385 [00:00<?, ?it/s]"
      ]
     },
     "metadata": {},
     "output_type": "display_data"
    },
    {
     "name": "stderr",
     "output_type": "stream",
     "text": [
      "[INFO][2022/03/09 12:34:18 PM] Opening HDF file: /home/nathan/data/kraken/scr/h2b/giulia/GV0815/Pos23/Pos23_aligned/HDF/segmented.hdf5...\n",
      "[INFO][2022/03/09 12:34:18 PM] Loading tracks/obj_type_1\n"
     ]
    },
    {
     "name": "stdout",
     "output_type": "stream",
     "text": [
      "ID GV0815_Pos23_185_GFP experiment: GV0815/Pos23/\n",
      "Loading GV0815/Pos23/\n",
      "Btrack version no.: 0.4.3\n"
     ]
    },
    {
     "name": "stderr",
     "output_type": "stream",
     "text": [
      "[INFO][2022/03/09 12:34:20 PM] Loading objects/obj_type_1 (182687, 5) (160127 filtered: area>=100)\n",
      "[INFO][2022/03/09 12:34:21 PM] Closing HDF file: /home/nathan/data/kraken/scr/h2b/giulia/GV0815/Pos23/Pos23_aligned/HDF/segmented.hdf5\n",
      "[INFO][2022/03/09 12:34:21 PM] Opening HDF file: /home/nathan/data/kraken/scr/h2b/giulia/GV0815/Pos23/Pos23_aligned/HDF/segmented.hdf5...\n",
      "[INFO][2022/03/09 12:34:21 PM] Loading tracks/obj_type_2\n",
      "[INFO][2022/03/09 12:34:22 PM] Loading objects/obj_type_2 (48093, 5) (41816 filtered: area>=100)\n",
      "[INFO][2022/03/09 12:34:22 PM] Closing HDF file: /home/nathan/data/kraken/scr/h2b/giulia/GV0815/Pos23/Pos23_aligned/HDF/segmented.hdf5\n",
      "[INFO][2022/03/09 12:34:22 PM] Opening HDF file: /home/nathan/data/kraken/scr/h2b/giulia/GV0816/Pos14/Pos14_aligned/HDF/segmented.hdf5...\n",
      "[INFO][2022/03/09 12:34:22 PM] Loading tracks/obj_type_1\n"
     ]
    },
    {
     "name": "stdout",
     "output_type": "stream",
     "text": [
      "Track information loaded and ordered according to cell type (WT IDs >0> Scr IDs)\n",
      "Loaded GV0815/Pos23/\n",
      "ID GV0815_Pos23_634_GFP experiment: GV0815/Pos23/\n",
      "ID GV0816_Pos14_7_GFP experiment: GV0816/Pos14/\n",
      "Loading GV0816/Pos14/\n",
      "Btrack version no.: 0.4.3\n"
     ]
    },
    {
     "name": "stderr",
     "output_type": "stream",
     "text": [
      "[INFO][2022/03/09 12:34:23 PM] Loading objects/obj_type_1 (84243, 5) (76143 filtered: area>=100)\n",
      "[INFO][2022/03/09 12:34:24 PM] Closing HDF file: /home/nathan/data/kraken/scr/h2b/giulia/GV0816/Pos14/Pos14_aligned/HDF/segmented.hdf5\n",
      "[INFO][2022/03/09 12:34:24 PM] Opening HDF file: /home/nathan/data/kraken/scr/h2b/giulia/GV0816/Pos14/Pos14_aligned/HDF/segmented.hdf5...\n",
      "[INFO][2022/03/09 12:34:24 PM] Loading tracks/obj_type_2\n",
      "[INFO][2022/03/09 12:34:24 PM] Loading objects/obj_type_2 (50447, 5) (39807 filtered: area>=100)\n",
      "[INFO][2022/03/09 12:34:25 PM] Closing HDF file: /home/nathan/data/kraken/scr/h2b/giulia/GV0816/Pos14/Pos14_aligned/HDF/segmented.hdf5\n",
      "[INFO][2022/03/09 12:34:25 PM] Opening HDF file: /home/nathan/data/kraken/scr/h2b/giulia/GV0820/Pos1/Pos1_aligned/HDF/segmented.hdf5...\n",
      "[INFO][2022/03/09 12:34:25 PM] Loading tracks/obj_type_1\n"
     ]
    },
    {
     "name": "stdout",
     "output_type": "stream",
     "text": [
      "Track information loaded and ordered according to cell type (WT IDs >0> Scr IDs)\n",
      "Loaded GV0816/Pos14/\n",
      "ID GV0816_Pos14_537_GFP experiment: GV0816/Pos14/\n",
      "ID GV0816_Pos14_496_GFP experiment: GV0816/Pos14/\n",
      "ID GV0820_Pos1_130_GFP experiment: GV0820/Pos1/\n",
      "Loading GV0820/Pos1/\n",
      "Btrack version no.: 0.4.3\n"
     ]
    },
    {
     "name": "stderr",
     "output_type": "stream",
     "text": [
      "[INFO][2022/03/09 12:34:26 PM] Loading objects/obj_type_1 (205829, 5) (191939 filtered: area>=100)\n",
      "[INFO][2022/03/09 12:34:29 PM] Closing HDF file: /home/nathan/data/kraken/scr/h2b/giulia/GV0820/Pos1/Pos1_aligned/HDF/segmented.hdf5\n",
      "[INFO][2022/03/09 12:34:29 PM] Opening HDF file: /home/nathan/data/kraken/scr/h2b/giulia/GV0820/Pos1/Pos1_aligned/HDF/segmented.hdf5...\n",
      "[INFO][2022/03/09 12:34:29 PM] Loading tracks/obj_type_2\n",
      "[INFO][2022/03/09 12:34:29 PM] Loading objects/obj_type_2 (93902, 5) (77327 filtered: area>=100)\n",
      "[INFO][2022/03/09 12:34:30 PM] Closing HDF file: /home/nathan/data/kraken/scr/h2b/giulia/GV0820/Pos1/Pos1_aligned/HDF/segmented.hdf5\n",
      "[INFO][2022/03/09 12:34:30 PM] Opening HDF file: /home/nathan/data/kraken/scr/h2b/giulia/GV0813/Pos1/Pos1_aligned/HDF/segmented.hdf5...\n",
      "[INFO][2022/03/09 12:34:31 PM] Loading tracks/obj_type_1\n"
     ]
    },
    {
     "name": "stdout",
     "output_type": "stream",
     "text": [
      "Track information loaded and ordered according to cell type (WT IDs >0> Scr IDs)\n",
      "Loaded GV0820/Pos1/\n",
      "ID GV0820_Pos1_412_GFP experiment: GV0820/Pos1/\n",
      "ID GV0820_Pos1_1427_GFP experiment: GV0820/Pos1/\n",
      "ID GV0820_Pos1_503_GFP experiment: GV0820/Pos1/\n",
      "ID GV0820_Pos1_368_GFP experiment: GV0820/Pos1/\n",
      "ID GV0820_Pos1_1818_GFP experiment: GV0820/Pos1/\n",
      "ID GV0813_Pos1_886_GFP experiment: GV0813/Pos1/\n",
      "Loading GV0813/Pos1/\n",
      "Btrack version no.: 0.4.3\n"
     ]
    },
    {
     "name": "stderr",
     "output_type": "stream",
     "text": [
      "[INFO][2022/03/09 12:34:32 PM] Loading objects/obj_type_1 (149696, 5) (120384 filtered: area>=100)\n",
      "[INFO][2022/03/09 12:34:33 PM] Closing HDF file: /home/nathan/data/kraken/scr/h2b/giulia/GV0813/Pos1/Pos1_aligned/HDF/segmented.hdf5\n",
      "[INFO][2022/03/09 12:34:33 PM] Opening HDF file: /home/nathan/data/kraken/scr/h2b/giulia/GV0813/Pos1/Pos1_aligned/HDF/segmented.hdf5...\n",
      "[INFO][2022/03/09 12:34:33 PM] Loading tracks/obj_type_2\n",
      "[INFO][2022/03/09 12:34:34 PM] Loading objects/obj_type_2 (30851, 5) (22174 filtered: area>=100)\n",
      "[INFO][2022/03/09 12:34:34 PM] Closing HDF file: /home/nathan/data/kraken/scr/h2b/giulia/GV0813/Pos1/Pos1_aligned/HDF/segmented.hdf5\n",
      "[INFO][2022/03/09 12:34:34 PM] Opening HDF file: /home/nathan/data/kraken/scr/h2b/giulia/GV0817/Pos12/Pos12_aligned/HDF/segmented.hdf5...\n",
      "[INFO][2022/03/09 12:34:34 PM] Loading tracks/obj_type_1\n"
     ]
    },
    {
     "name": "stdout",
     "output_type": "stream",
     "text": [
      "Track information loaded and ordered according to cell type (WT IDs >0> Scr IDs)\n",
      "Loaded GV0813/Pos1/\n",
      "ID GV0817_Pos12_363_GFP experiment: GV0817/Pos12/\n",
      "Loading GV0817/Pos12/\n",
      "Btrack version no.: 0.4.3\n"
     ]
    },
    {
     "name": "stderr",
     "output_type": "stream",
     "text": [
      "[INFO][2022/03/09 12:34:35 PM] Loading objects/obj_type_1 (181283, 5) (167848 filtered: area>=100)\n",
      "[INFO][2022/03/09 12:34:37 PM] Closing HDF file: /home/nathan/data/kraken/scr/h2b/giulia/GV0817/Pos12/Pos12_aligned/HDF/segmented.hdf5\n",
      "[INFO][2022/03/09 12:34:37 PM] Opening HDF file: /home/nathan/data/kraken/scr/h2b/giulia/GV0817/Pos12/Pos12_aligned/HDF/segmented.hdf5...\n",
      "[INFO][2022/03/09 12:34:37 PM] Loading tracks/obj_type_2\n",
      "[INFO][2022/03/09 12:34:38 PM] Loading objects/obj_type_2 (111487, 5) (83279 filtered: area>=100)\n",
      "[INFO][2022/03/09 12:34:39 PM] Closing HDF file: /home/nathan/data/kraken/scr/h2b/giulia/GV0817/Pos12/Pos12_aligned/HDF/segmented.hdf5\n",
      "[INFO][2022/03/09 12:34:39 PM] Opening HDF file: /home/nathan/data/kraken/scr/h2b/giulia/GV0818/Pos12/Pos12_aligned/HDF/segmented.hdf5...\n",
      "[INFO][2022/03/09 12:34:39 PM] Loading tracks/obj_type_1\n"
     ]
    },
    {
     "name": "stdout",
     "output_type": "stream",
     "text": [
      "Track information loaded and ordered according to cell type (WT IDs >0> Scr IDs)\n",
      "Loaded GV0817/Pos12/\n",
      "ID GV0817_Pos12_1193_GFP experiment: GV0817/Pos12/\n",
      "ID GV0818_Pos12_187_GFP experiment: GV0818/Pos12/\n",
      "Loading GV0818/Pos12/\n",
      "Btrack version no.: 0.4.3\n"
     ]
    },
    {
     "name": "stderr",
     "output_type": "stream",
     "text": [
      "[INFO][2022/03/09 12:34:41 PM] Loading objects/obj_type_1 (238100, 5) (221047 filtered: area>=100)\n",
      "[INFO][2022/03/09 12:34:44 PM] Closing HDF file: /home/nathan/data/kraken/scr/h2b/giulia/GV0818/Pos12/Pos12_aligned/HDF/segmented.hdf5\n",
      "[INFO][2022/03/09 12:34:44 PM] Opening HDF file: /home/nathan/data/kraken/scr/h2b/giulia/GV0818/Pos12/Pos12_aligned/HDF/segmented.hdf5...\n",
      "[INFO][2022/03/09 12:34:44 PM] Loading tracks/obj_type_2\n",
      "[INFO][2022/03/09 12:34:44 PM] Loading objects/obj_type_2 (70950, 5) (59685 filtered: area>=100)\n",
      "[INFO][2022/03/09 12:34:46 PM] Closing HDF file: /home/nathan/data/kraken/scr/h2b/giulia/GV0818/Pos12/Pos12_aligned/HDF/segmented.hdf5\n",
      "[INFO][2022/03/09 12:34:46 PM] Opening HDF file: /home/nathan/data/kraken/scr/h2b/giulia/GV0815/Pos11/Pos11_aligned/HDF/segmented.hdf5...\n",
      "[INFO][2022/03/09 12:34:46 PM] Loading tracks/obj_type_1\n"
     ]
    },
    {
     "name": "stdout",
     "output_type": "stream",
     "text": [
      "Track information loaded and ordered according to cell type (WT IDs >0> Scr IDs)\n",
      "Loaded GV0818/Pos12/\n",
      "ID GV0818_Pos12_378_GFP experiment: GV0818/Pos12/\n",
      "ID GV0818_Pos12_863_GFP experiment: GV0818/Pos12/\n",
      "ID GV0818_Pos12_932_GFP experiment: GV0818/Pos12/\n",
      "ID GV0818_Pos12_933_GFP experiment: GV0818/Pos12/\n",
      "ID GV0818_Pos12_1099_GFP experiment: GV0818/Pos12/\n",
      "ID GV0818_Pos12_957_GFP experiment: GV0818/Pos12/\n",
      "ID GV0818_Pos12_1928_GFP experiment: GV0818/Pos12/\n",
      "ID GV0818_Pos12_2092_GFP experiment: GV0818/Pos12/\n",
      "ID GV0818_Pos12_1715_GFP experiment: GV0818/Pos12/\n",
      "ID GV0818_Pos12_1714_GFP experiment: GV0818/Pos12/\n",
      "ID GV0818_Pos12_1360_GFP experiment: GV0818/Pos12/\n",
      "ID GV0818_Pos12_2659_GFP experiment: GV0818/Pos12/\n",
      "ID GV0818_Pos12_98_GFP experiment: GV0818/Pos12/\n",
      "ID GV0818_Pos12_1463_GFP experiment: GV0818/Pos12/\n",
      "ID GV0815_Pos11_536_GFP experiment: GV0815/Pos11/\n",
      "Loading GV0815/Pos11/\n",
      "Btrack version no.: 0.4.3\n"
     ]
    },
    {
     "name": "stderr",
     "output_type": "stream",
     "text": [
      "[INFO][2022/03/09 12:34:48 PM] Loading objects/obj_type_1 (383799, 5) (364840 filtered: area>=100)\n",
      "[INFO][2022/03/09 12:34:53 PM] Closing HDF file: /home/nathan/data/kraken/scr/h2b/giulia/GV0815/Pos11/Pos11_aligned/HDF/segmented.hdf5\n",
      "[INFO][2022/03/09 12:34:53 PM] Opening HDF file: /home/nathan/data/kraken/scr/h2b/giulia/GV0815/Pos11/Pos11_aligned/HDF/segmented.hdf5...\n",
      "[INFO][2022/03/09 12:34:53 PM] Loading tracks/obj_type_2\n",
      "[INFO][2022/03/09 12:34:53 PM] Loading objects/obj_type_2 (61591, 5) (47352 filtered: area>=100)\n",
      "[INFO][2022/03/09 12:34:54 PM] Closing HDF file: /home/nathan/data/kraken/scr/h2b/giulia/GV0815/Pos11/Pos11_aligned/HDF/segmented.hdf5\n",
      "[INFO][2022/03/09 12:34:54 PM] Opening HDF file: /home/nathan/data/kraken/scr/h2b/giulia/GV0816/Pos0/Pos0_aligned/HDF/segmented.hdf5...\n",
      "[INFO][2022/03/09 12:34:54 PM] Loading tracks/obj_type_1\n"
     ]
    },
    {
     "name": "stdout",
     "output_type": "stream",
     "text": [
      "Track information loaded and ordered according to cell type (WT IDs >0> Scr IDs)\n",
      "Loaded GV0815/Pos11/\n",
      "ID GV0815_Pos11_255_GFP experiment: GV0815/Pos11/\n",
      "ID GV0815_Pos11_2851_GFP experiment: GV0815/Pos11/\n",
      "ID GV0815_Pos11_1379_GFP experiment: GV0815/Pos11/\n",
      "ID GV0816_Pos0_416_GFP experiment: GV0816/Pos0/\n",
      "Loading GV0816/Pos0/\n",
      "Btrack version no.: 0.4.3\n"
     ]
    },
    {
     "name": "stderr",
     "output_type": "stream",
     "text": [
      "[INFO][2022/03/09 12:34:55 PM] Loading objects/obj_type_1 (90368, 5) (81699 filtered: area>=100)\n",
      "[INFO][2022/03/09 12:34:56 PM] Closing HDF file: /home/nathan/data/kraken/scr/h2b/giulia/GV0816/Pos0/Pos0_aligned/HDF/segmented.hdf5\n",
      "[INFO][2022/03/09 12:34:56 PM] Opening HDF file: /home/nathan/data/kraken/scr/h2b/giulia/GV0816/Pos0/Pos0_aligned/HDF/segmented.hdf5...\n",
      "[INFO][2022/03/09 12:34:56 PM] Loading tracks/obj_type_2\n",
      "[INFO][2022/03/09 12:34:56 PM] Loading objects/obj_type_2 (24057, 5) (17173 filtered: area>=100)\n",
      "[INFO][2022/03/09 12:34:56 PM] Closing HDF file: /home/nathan/data/kraken/scr/h2b/giulia/GV0816/Pos0/Pos0_aligned/HDF/segmented.hdf5\n",
      "[INFO][2022/03/09 12:34:56 PM] Opening HDF file: /home/nathan/data/kraken/scr/h2b/giulia/GV0800/Pos8/Pos8_aligned/HDF/segmented.hdf5...\n",
      "[INFO][2022/03/09 12:34:56 PM] Loading tracks/obj_type_1\n"
     ]
    },
    {
     "name": "stdout",
     "output_type": "stream",
     "text": [
      "Track information loaded and ordered according to cell type (WT IDs >0> Scr IDs)\n",
      "Loaded GV0816/Pos0/\n",
      "ID GV0816_Pos0_668_GFP experiment: GV0816/Pos0/\n",
      "ID GV0800_Pos8_263_GFP experiment: GV0800/Pos8/\n",
      "Loading GV0800/Pos8/\n",
      "Btrack version no.: 0.4.3\n"
     ]
    },
    {
     "name": "stderr",
     "output_type": "stream",
     "text": [
      "[INFO][2022/03/09 12:34:59 PM] Loading objects/obj_type_1 (412266, 5) (393638 filtered: area>=100)\n",
      "[INFO][2022/03/09 12:35:04 PM] Closing HDF file: /home/nathan/data/kraken/scr/h2b/giulia/GV0800/Pos8/Pos8_aligned/HDF/segmented.hdf5\n",
      "[INFO][2022/03/09 12:35:04 PM] Opening HDF file: /home/nathan/data/kraken/scr/h2b/giulia/GV0800/Pos8/Pos8_aligned/HDF/segmented.hdf5...\n",
      "[INFO][2022/03/09 12:35:04 PM] Loading tracks/obj_type_2\n",
      "[INFO][2022/03/09 12:35:04 PM] Loading objects/obj_type_2 (16111, 5) (12664 filtered: area>=100)\n",
      "[INFO][2022/03/09 12:35:04 PM] Closing HDF file: /home/nathan/data/kraken/scr/h2b/giulia/GV0800/Pos8/Pos8_aligned/HDF/segmented.hdf5\n",
      "[INFO][2022/03/09 12:35:04 PM] Opening HDF file: /home/nathan/data/kraken/scr/h2b/giulia/GV0797/Pos18/Pos18_aligned/HDF/segmented.hdf5...\n",
      "[INFO][2022/03/09 12:35:04 PM] Loading tracks/obj_type_1\n"
     ]
    },
    {
     "name": "stdout",
     "output_type": "stream",
     "text": [
      "Track information loaded and ordered according to cell type (WT IDs >0> Scr IDs)\n",
      "Loaded GV0800/Pos8/\n",
      "ID GV0800_Pos8_49_GFP experiment: GV0800/Pos8/\n",
      "ID GV0797_Pos18_833_GFP experiment: GV0797/Pos18/\n",
      "Loading GV0797/Pos18/\n",
      "Btrack version no.: 0.4.3\n"
     ]
    },
    {
     "name": "stderr",
     "output_type": "stream",
     "text": [
      "[INFO][2022/03/09 12:35:06 PM] Loading objects/obj_type_1 (274136, 5) (262171 filtered: area>=100)\n",
      "[INFO][2022/03/09 12:35:10 PM] Closing HDF file: /home/nathan/data/kraken/scr/h2b/giulia/GV0797/Pos18/Pos18_aligned/HDF/segmented.hdf5\n",
      "[INFO][2022/03/09 12:35:10 PM] Opening HDF file: /home/nathan/data/kraken/scr/h2b/giulia/GV0797/Pos18/Pos18_aligned/HDF/segmented.hdf5...\n",
      "[INFO][2022/03/09 12:35:10 PM] Loading tracks/obj_type_2\n",
      "[INFO][2022/03/09 12:35:10 PM] Loading objects/obj_type_2 (17638, 5) (13852 filtered: area>=100)\n",
      "[INFO][2022/03/09 12:35:10 PM] Closing HDF file: /home/nathan/data/kraken/scr/h2b/giulia/GV0797/Pos18/Pos18_aligned/HDF/segmented.hdf5\n",
      "[INFO][2022/03/09 12:35:10 PM] Opening HDF file: /home/nathan/data/kraken/scr/h2b/giulia/GV0796/Pos20/Pos20_aligned/HDF/segmented.hdf5...\n",
      "[INFO][2022/03/09 12:35:10 PM] Loading tracks/obj_type_1\n"
     ]
    },
    {
     "name": "stdout",
     "output_type": "stream",
     "text": [
      "Track information loaded and ordered according to cell type (WT IDs >0> Scr IDs)\n",
      "Loaded GV0797/Pos18/\n",
      "ID GV0797_Pos18_706_GFP experiment: GV0797/Pos18/\n",
      "ID GV0797_Pos18_1303_GFP experiment: GV0797/Pos18/\n",
      "ID GV0797_Pos18_1302_GFP experiment: GV0797/Pos18/\n",
      "ID GV0797_Pos18_1422_GFP experiment: GV0797/Pos18/\n",
      "ID GV0796_Pos20_28_GFP experiment: GV0796/Pos20/\n",
      "Loading GV0796/Pos20/\n",
      "Btrack version no.: 0.4.3\n"
     ]
    },
    {
     "name": "stderr",
     "output_type": "stream",
     "text": [
      "[INFO][2022/03/09 12:35:13 PM] Loading objects/obj_type_1 (469347, 5) (453478 filtered: area>=100)\n",
      "[INFO][2022/03/09 12:35:19 PM] Closing HDF file: /home/nathan/data/kraken/scr/h2b/giulia/GV0796/Pos20/Pos20_aligned/HDF/segmented.hdf5\n",
      "[INFO][2022/03/09 12:35:19 PM] Opening HDF file: /home/nathan/data/kraken/scr/h2b/giulia/GV0796/Pos20/Pos20_aligned/HDF/segmented.hdf5...\n",
      "[INFO][2022/03/09 12:35:19 PM] Loading tracks/obj_type_2\n",
      "[INFO][2022/03/09 12:35:19 PM] Loading objects/obj_type_2 (18513, 5) (14856 filtered: area>=100)\n",
      "[INFO][2022/03/09 12:35:19 PM] Closing HDF file: /home/nathan/data/kraken/scr/h2b/giulia/GV0796/Pos20/Pos20_aligned/HDF/segmented.hdf5\n",
      "[INFO][2022/03/09 12:35:19 PM] Opening HDF file: /home/nathan/data/kraken/scr/h2b/giulia/GV0796/Pos3/Pos3_aligned/HDF/segmented.hdf5...\n",
      "[INFO][2022/03/09 12:35:20 PM] Loading tracks/obj_type_1\n"
     ]
    },
    {
     "name": "stdout",
     "output_type": "stream",
     "text": [
      "Track information loaded and ordered according to cell type (WT IDs >0> Scr IDs)\n",
      "Loaded GV0796/Pos20/\n",
      "ID GV0796_Pos3_1599_GFP experiment: GV0796/Pos3/\n",
      "Loading GV0796/Pos3/\n",
      "Btrack version no.: 0.4.3\n"
     ]
    },
    {
     "name": "stderr",
     "output_type": "stream",
     "text": [
      "[INFO][2022/03/09 12:35:24 PM] Loading objects/obj_type_1 (683581, 5) (648688 filtered: area>=100)\n",
      "[INFO][2022/03/09 12:35:33 PM] Closing HDF file: /home/nathan/data/kraken/scr/h2b/giulia/GV0796/Pos3/Pos3_aligned/HDF/segmented.hdf5\n",
      "[INFO][2022/03/09 12:35:33 PM] Opening HDF file: /home/nathan/data/kraken/scr/h2b/giulia/GV0796/Pos3/Pos3_aligned/HDF/segmented.hdf5...\n",
      "[INFO][2022/03/09 12:35:33 PM] Loading tracks/obj_type_2\n",
      "[INFO][2022/03/09 12:35:33 PM] Loading objects/obj_type_2 (16040, 5) (13600 filtered: area>=100)\n",
      "[INFO][2022/03/09 12:35:33 PM] Closing HDF file: /home/nathan/data/kraken/scr/h2b/giulia/GV0796/Pos3/Pos3_aligned/HDF/segmented.hdf5\n",
      "[INFO][2022/03/09 12:35:33 PM] Opening HDF file: /home/nathan/data/kraken/scr/h2b/giulia/GV0820/Pos3/Pos3_aligned/HDF/segmented.hdf5...\n",
      "[INFO][2022/03/09 12:35:33 PM] Loading tracks/obj_type_1\n"
     ]
    },
    {
     "name": "stdout",
     "output_type": "stream",
     "text": [
      "Track information loaded and ordered according to cell type (WT IDs >0> Scr IDs)\n",
      "Loaded GV0796/Pos3/\n",
      "ID GV0820_Pos3_1521_GFP experiment: GV0820/Pos3/\n",
      "Loading GV0820/Pos3/\n",
      "Btrack version no.: 0.4.3\n"
     ]
    },
    {
     "name": "stderr",
     "output_type": "stream",
     "text": [
      "[INFO][2022/03/09 12:35:35 PM] Loading objects/obj_type_1 (191590, 5) (179288 filtered: area>=100)\n",
      "[INFO][2022/03/09 12:35:36 PM] Closing HDF file: /home/nathan/data/kraken/scr/h2b/giulia/GV0820/Pos3/Pos3_aligned/HDF/segmented.hdf5\n",
      "[INFO][2022/03/09 12:35:36 PM] Opening HDF file: /home/nathan/data/kraken/scr/h2b/giulia/GV0820/Pos3/Pos3_aligned/HDF/segmented.hdf5...\n",
      "[INFO][2022/03/09 12:35:36 PM] Loading tracks/obj_type_2\n",
      "[INFO][2022/03/09 12:35:37 PM] Loading objects/obj_type_2 (65619, 5) (55005 filtered: area>=100)\n",
      "[INFO][2022/03/09 12:35:39 PM] Closing HDF file: /home/nathan/data/kraken/scr/h2b/giulia/GV0820/Pos3/Pos3_aligned/HDF/segmented.hdf5\n",
      "[INFO][2022/03/09 12:35:39 PM] Opening HDF file: /home/nathan/data/kraken/scr/h2b/giulia/GV0797/Pos8/Pos8_aligned/HDF/segmented.hdf5...\n",
      "[INFO][2022/03/09 12:35:39 PM] Loading tracks/obj_type_1\n"
     ]
    },
    {
     "name": "stdout",
     "output_type": "stream",
     "text": [
      "Track information loaded and ordered according to cell type (WT IDs >0> Scr IDs)\n",
      "Loaded GV0820/Pos3/\n",
      "ID GV0820_Pos3_605_GFP experiment: GV0820/Pos3/\n",
      "ID GV0820_Pos3_1364_GFP experiment: GV0820/Pos3/\n",
      "ID GV0820_Pos3_2143_GFP experiment: GV0820/Pos3/\n",
      "ID GV0820_Pos3_2006_GFP experiment: GV0820/Pos3/\n",
      "ID GV0820_Pos3_2146_GFP experiment: GV0820/Pos3/\n",
      "ID GV0820_Pos3_1639_GFP experiment: GV0820/Pos3/\n",
      "ID GV0797_Pos8_1104_GFP experiment: GV0797/Pos8/\n",
      "Loading GV0797/Pos8/\n",
      "Btrack version no.: 0.4.3\n"
     ]
    },
    {
     "name": "stderr",
     "output_type": "stream",
     "text": [
      "[INFO][2022/03/09 12:35:41 PM] Loading objects/obj_type_1 (294496, 5) (285144 filtered: area>=100)\n",
      "[INFO][2022/03/09 12:35:44 PM] Closing HDF file: /home/nathan/data/kraken/scr/h2b/giulia/GV0797/Pos8/Pos8_aligned/HDF/segmented.hdf5\n",
      "[INFO][2022/03/09 12:35:44 PM] Opening HDF file: /home/nathan/data/kraken/scr/h2b/giulia/GV0797/Pos8/Pos8_aligned/HDF/segmented.hdf5...\n",
      "[INFO][2022/03/09 12:35:44 PM] Loading tracks/obj_type_2\n",
      "[INFO][2022/03/09 12:35:44 PM] Loading objects/obj_type_2 (6854, 5) (5414 filtered: area>=100)\n",
      "[INFO][2022/03/09 12:35:44 PM] Closing HDF file: /home/nathan/data/kraken/scr/h2b/giulia/GV0797/Pos8/Pos8_aligned/HDF/segmented.hdf5\n",
      "[INFO][2022/03/09 12:35:44 PM] Opening HDF file: /home/nathan/data/kraken/scr/h2b/giulia/GV0798/Pos6/Pos6_aligned/HDF/segmented.hdf5...\n"
     ]
    },
    {
     "name": "stdout",
     "output_type": "stream",
     "text": [
      "Track information loaded and ordered according to cell type (WT IDs >0> Scr IDs)\n",
      "Loaded GV0797/Pos8/\n",
      "ID GV0798_Pos6_11_GFP experiment: GV0798/Pos6/\n",
      "Loading GV0798/Pos6/\n",
      "Btrack version no.: 0.4.3\n"
     ]
    },
    {
     "name": "stderr",
     "output_type": "stream",
     "text": [
      "[INFO][2022/03/09 12:35:44 PM] Loading tracks/obj_type_1\n",
      "[INFO][2022/03/09 12:35:45 PM] Loading objects/obj_type_1 (87350, 5) (79247 filtered: area>=100)\n",
      "[INFO][2022/03/09 12:35:46 PM] Closing HDF file: /home/nathan/data/kraken/scr/h2b/giulia/GV0798/Pos6/Pos6_aligned/HDF/segmented.hdf5\n",
      "[INFO][2022/03/09 12:35:46 PM] Opening HDF file: /home/nathan/data/kraken/scr/h2b/giulia/GV0798/Pos6/Pos6_aligned/HDF/segmented.hdf5...\n",
      "[INFO][2022/03/09 12:35:46 PM] Loading tracks/obj_type_2\n",
      "[INFO][2022/03/09 12:35:47 PM] Loading objects/obj_type_2 (81755, 5) (62545 filtered: area>=100)\n",
      "[INFO][2022/03/09 12:35:47 PM] Closing HDF file: /home/nathan/data/kraken/scr/h2b/giulia/GV0798/Pos6/Pos6_aligned/HDF/segmented.hdf5\n",
      "[INFO][2022/03/09 12:35:47 PM] Opening HDF file: /home/nathan/data/kraken/scr/h2b/giulia/GV0807/Pos5/Pos5_aligned/HDF/segmented.hdf5...\n",
      "[INFO][2022/03/09 12:35:47 PM] Loading tracks/obj_type_1\n"
     ]
    },
    {
     "name": "stdout",
     "output_type": "stream",
     "text": [
      "Track information loaded and ordered according to cell type (WT IDs >0> Scr IDs)\n",
      "Loaded GV0798/Pos6/\n",
      "ID GV0807_Pos5_1493_GFP experiment: GV0807/Pos5/\n",
      "Loading GV0807/Pos5/\n",
      "Btrack version no.: 0.4.3\n"
     ]
    },
    {
     "name": "stderr",
     "output_type": "stream",
     "text": [
      "[INFO][2022/03/09 12:35:48 PM] Loading objects/obj_type_1 (129954, 5) (111411 filtered: area>=100)\n",
      "[INFO][2022/03/09 12:35:50 PM] Closing HDF file: /home/nathan/data/kraken/scr/h2b/giulia/GV0807/Pos5/Pos5_aligned/HDF/segmented.hdf5\n",
      "[INFO][2022/03/09 12:35:50 PM] Opening HDF file: /home/nathan/data/kraken/scr/h2b/giulia/GV0807/Pos5/Pos5_aligned/HDF/segmented.hdf5...\n",
      "[INFO][2022/03/09 12:35:50 PM] Loading tracks/obj_type_2\n",
      "[INFO][2022/03/09 12:35:51 PM] Loading objects/obj_type_2 (87213, 5) (74295 filtered: area>=100)\n",
      "[INFO][2022/03/09 12:35:52 PM] Closing HDF file: /home/nathan/data/kraken/scr/h2b/giulia/GV0807/Pos5/Pos5_aligned/HDF/segmented.hdf5\n",
      "[INFO][2022/03/09 12:35:52 PM] Opening HDF file: /home/nathan/data/kraken/scr/h2b/giulia/GV0797/Pos21/Pos21_aligned/HDF/segmented.hdf5...\n",
      "[INFO][2022/03/09 12:35:52 PM] Loading tracks/obj_type_1\n"
     ]
    },
    {
     "name": "stdout",
     "output_type": "stream",
     "text": [
      "Track information loaded and ordered according to cell type (WT IDs >0> Scr IDs)\n",
      "Loaded GV0807/Pos5/\n",
      "ID GV0797_Pos21_93_GFP experiment: GV0797/Pos21/\n",
      "Loading GV0797/Pos21/\n",
      "Btrack version no.: 0.4.3\n"
     ]
    },
    {
     "name": "stderr",
     "output_type": "stream",
     "text": [
      "[INFO][2022/03/09 12:35:53 PM] Loading objects/obj_type_1 (211568, 5) (195992 filtered: area>=100)\n",
      "[INFO][2022/03/09 12:35:55 PM] Closing HDF file: /home/nathan/data/kraken/scr/h2b/giulia/GV0797/Pos21/Pos21_aligned/HDF/segmented.hdf5\n",
      "[INFO][2022/03/09 12:35:55 PM] Opening HDF file: /home/nathan/data/kraken/scr/h2b/giulia/GV0797/Pos21/Pos21_aligned/HDF/segmented.hdf5...\n",
      "[INFO][2022/03/09 12:35:55 PM] Loading tracks/obj_type_2\n",
      "[INFO][2022/03/09 12:35:56 PM] Loading objects/obj_type_2 (26227, 5) (20975 filtered: area>=100)\n",
      "[INFO][2022/03/09 12:35:56 PM] Closing HDF file: /home/nathan/data/kraken/scr/h2b/giulia/GV0797/Pos21/Pos21_aligned/HDF/segmented.hdf5\n",
      "[INFO][2022/03/09 12:35:56 PM] Opening HDF file: /home/nathan/data/kraken/scr/h2b/giulia/GV0798/Pos4/Pos4_aligned/HDF/segmented.hdf5...\n",
      "[INFO][2022/03/09 12:35:56 PM] Loading tracks/obj_type_1\n"
     ]
    },
    {
     "name": "stdout",
     "output_type": "stream",
     "text": [
      "Track information loaded and ordered according to cell type (WT IDs >0> Scr IDs)\n",
      "Loaded GV0797/Pos21/\n",
      "ID GV0797_Pos21_77_GFP experiment: GV0797/Pos21/\n",
      "ID GV0797_Pos21_732_GFP experiment: GV0797/Pos21/\n",
      "ID GV0797_Pos21_5_GFP experiment: GV0797/Pos21/\n",
      "ID GV0797_Pos21_7_GFP experiment: GV0797/Pos21/\n",
      "ID GV0797_Pos21_101_GFP experiment: GV0797/Pos21/\n",
      "ID GV0797_Pos21_94_GFP experiment: GV0797/Pos21/\n",
      "ID GV0797_Pos21_787_GFP experiment: GV0797/Pos21/\n",
      "ID GV0797_Pos21_1545_GFP experiment: GV0797/Pos21/\n",
      "ID GV0797_Pos21_1544_GFP experiment: GV0797/Pos21/\n",
      "ID GV0798_Pos4_1955_GFP experiment: GV0798/Pos4/\n",
      "Loading GV0798/Pos4/\n",
      "Btrack version no.: 0.4.3\n"
     ]
    },
    {
     "name": "stderr",
     "output_type": "stream",
     "text": [
      "[INFO][2022/03/09 12:35:58 PM] Loading objects/obj_type_1 (233782, 5) (224796 filtered: area>=100)\n",
      "[INFO][2022/03/09 12:36:00 PM] Closing HDF file: /home/nathan/data/kraken/scr/h2b/giulia/GV0798/Pos4/Pos4_aligned/HDF/segmented.hdf5\n",
      "[INFO][2022/03/09 12:36:00 PM] Opening HDF file: /home/nathan/data/kraken/scr/h2b/giulia/GV0798/Pos4/Pos4_aligned/HDF/segmented.hdf5...\n",
      "[INFO][2022/03/09 12:36:00 PM] Loading tracks/obj_type_2\n",
      "[INFO][2022/03/09 12:36:01 PM] Loading objects/obj_type_2 (33185, 5) (26688 filtered: area>=100)\n",
      "[INFO][2022/03/09 12:36:01 PM] Closing HDF file: /home/nathan/data/kraken/scr/h2b/giulia/GV0798/Pos4/Pos4_aligned/HDF/segmented.hdf5\n",
      "[INFO][2022/03/09 12:36:01 PM] Opening HDF file: /home/nathan/data/kraken/scr/h2b/giulia/GV0815/Pos0/Pos0_aligned/HDF/segmented.hdf5...\n",
      "[INFO][2022/03/09 12:36:01 PM] Loading tracks/obj_type_1\n"
     ]
    },
    {
     "name": "stdout",
     "output_type": "stream",
     "text": [
      "Track information loaded and ordered according to cell type (WT IDs >0> Scr IDs)\n",
      "Loaded GV0798/Pos4/\n",
      "ID GV0815_Pos0_145_GFP experiment: GV0815/Pos0/\n",
      "Loading GV0815/Pos0/\n",
      "Btrack version no.: 0.4.3\n"
     ]
    },
    {
     "name": "stderr",
     "output_type": "stream",
     "text": [
      "[INFO][2022/03/09 12:36:03 PM] Loading objects/obj_type_1 (286968, 5) (261403 filtered: area>=100)\n",
      "[INFO][2022/03/09 12:36:06 PM] Closing HDF file: /home/nathan/data/kraken/scr/h2b/giulia/GV0815/Pos0/Pos0_aligned/HDF/segmented.hdf5\n",
      "[INFO][2022/03/09 12:36:06 PM] Opening HDF file: /home/nathan/data/kraken/scr/h2b/giulia/GV0815/Pos0/Pos0_aligned/HDF/segmented.hdf5...\n",
      "[INFO][2022/03/09 12:36:06 PM] Loading tracks/obj_type_2\n",
      "[INFO][2022/03/09 12:36:07 PM] Loading objects/obj_type_2 (85143, 5) (68895 filtered: area>=100)\n",
      "[INFO][2022/03/09 12:36:08 PM] Closing HDF file: /home/nathan/data/kraken/scr/h2b/giulia/GV0815/Pos0/Pos0_aligned/HDF/segmented.hdf5\n",
      "[INFO][2022/03/09 12:36:08 PM] Opening HDF file: /home/nathan/data/kraken/scr/h2b/giulia/GV0813/Pos4/Pos4_aligned/HDF/segmented.hdf5...\n",
      "[INFO][2022/03/09 12:36:08 PM] Loading tracks/obj_type_1\n"
     ]
    },
    {
     "name": "stdout",
     "output_type": "stream",
     "text": [
      "Track information loaded and ordered according to cell type (WT IDs >0> Scr IDs)\n",
      "Loaded GV0815/Pos0/\n",
      "ID GV0815_Pos0_641_GFP experiment: GV0815/Pos0/\n",
      "ID GV0815_Pos0_981_GFP experiment: GV0815/Pos0/\n",
      "ID GV0815_Pos0_42_GFP experiment: GV0815/Pos0/\n",
      "ID GV0815_Pos0_2046_GFP experiment: GV0815/Pos0/\n",
      "ID GV0815_Pos0_436_GFP experiment: GV0815/Pos0/\n",
      "ID GV0815_Pos0_2221_GFP experiment: GV0815/Pos0/\n",
      "ID GV0815_Pos0_1487_GFP experiment: GV0815/Pos0/\n",
      "ID GV0815_Pos0_444_GFP experiment: GV0815/Pos0/\n",
      "ID GV0815_Pos0_620_GFP experiment: GV0815/Pos0/\n",
      "ID GV0815_Pos0_1133_GFP experiment: GV0815/Pos0/\n",
      "ID GV0815_Pos0_949_GFP experiment: GV0815/Pos0/\n",
      "ID GV0813_Pos4_404_GFP experiment: GV0813/Pos4/\n",
      "Loading GV0813/Pos4/\n",
      "Btrack version no.: 0.4.3\n"
     ]
    },
    {
     "name": "stderr",
     "output_type": "stream",
     "text": [
      "[INFO][2022/03/09 12:36:09 PM] Loading objects/obj_type_1 (150938, 5) (131031 filtered: area>=100)\n",
      "[INFO][2022/03/09 12:36:11 PM] Closing HDF file: /home/nathan/data/kraken/scr/h2b/giulia/GV0813/Pos4/Pos4_aligned/HDF/segmented.hdf5\n",
      "[INFO][2022/03/09 12:36:11 PM] Opening HDF file: /home/nathan/data/kraken/scr/h2b/giulia/GV0813/Pos4/Pos4_aligned/HDF/segmented.hdf5...\n",
      "[INFO][2022/03/09 12:36:11 PM] Loading tracks/obj_type_2\n",
      "[INFO][2022/03/09 12:36:11 PM] Loading objects/obj_type_2 (39270, 5) (29540 filtered: area>=100)\n",
      "[INFO][2022/03/09 12:36:12 PM] Closing HDF file: /home/nathan/data/kraken/scr/h2b/giulia/GV0813/Pos4/Pos4_aligned/HDF/segmented.hdf5\n",
      "[INFO][2022/03/09 12:36:12 PM] Opening HDF file: /home/nathan/data/kraken/scr/h2b/giulia/GV0801/Pos4/Pos4_aligned/HDF/segmented.hdf5...\n"
     ]
    },
    {
     "name": "stdout",
     "output_type": "stream",
     "text": [
      "Track information loaded and ordered according to cell type (WT IDs >0> Scr IDs)\n",
      "Loaded GV0813/Pos4/\n",
      "ID GV0813_Pos4_596_GFP experiment: GV0813/Pos4/\n",
      "ID GV0813_Pos4_403_GFP experiment: GV0813/Pos4/\n",
      "ID GV0813_Pos4_7_GFP experiment: GV0813/Pos4/\n",
      "ID GV0813_Pos4_1000_GFP experiment: GV0813/Pos4/\n",
      "ID GV0801_Pos4_298_GFP experiment: GV0801/Pos4/\n",
      "Loading GV0801/Pos4/\n",
      "Btrack version no.: 0.4.3\n"
     ]
    },
    {
     "name": "stderr",
     "output_type": "stream",
     "text": [
      "[INFO][2022/03/09 12:36:12 PM] Loading tracks/obj_type_1\n",
      "[INFO][2022/03/09 12:36:14 PM] Loading objects/obj_type_1 (315086, 5) (299584 filtered: area>=100)\n",
      "[INFO][2022/03/09 12:36:18 PM] Closing HDF file: /home/nathan/data/kraken/scr/h2b/giulia/GV0801/Pos4/Pos4_aligned/HDF/segmented.hdf5\n",
      "[INFO][2022/03/09 12:36:18 PM] Opening HDF file: /home/nathan/data/kraken/scr/h2b/giulia/GV0801/Pos4/Pos4_aligned/HDF/segmented.hdf5...\n",
      "[INFO][2022/03/09 12:36:18 PM] Loading tracks/obj_type_2\n",
      "[INFO][2022/03/09 12:36:18 PM] Loading objects/obj_type_2 (60246, 5) (49441 filtered: area>=100)\n",
      "[INFO][2022/03/09 12:36:19 PM] Closing HDF file: /home/nathan/data/kraken/scr/h2b/giulia/GV0801/Pos4/Pos4_aligned/HDF/segmented.hdf5\n",
      "[INFO][2022/03/09 12:36:19 PM] Opening HDF file: /home/nathan/data/kraken/scr/h2b/giulia/GV0813/Pos0/Pos0_aligned/HDF/segmented.hdf5...\n",
      "[INFO][2022/03/09 12:36:19 PM] Loading tracks/obj_type_1\n"
     ]
    },
    {
     "name": "stdout",
     "output_type": "stream",
     "text": [
      "Track information loaded and ordered according to cell type (WT IDs >0> Scr IDs)\n",
      "Loaded GV0801/Pos4/\n",
      "ID GV0801_Pos4_2650_GFP experiment: GV0801/Pos4/\n",
      "ID GV0801_Pos4_3147_GFP experiment: GV0801/Pos4/\n",
      "ID GV0801_Pos4_1396_GFP experiment: GV0801/Pos4/\n",
      "ID GV0801_Pos4_3582_GFP experiment: GV0801/Pos4/\n",
      "ID GV0813_Pos0_137_GFP experiment: GV0813/Pos0/\n",
      "Loading GV0813/Pos0/\n",
      "Btrack version no.: 0.4.3\n"
     ]
    },
    {
     "name": "stderr",
     "output_type": "stream",
     "text": [
      "[INFO][2022/03/09 12:36:20 PM] Loading objects/obj_type_1 (85389, 5) (80063 filtered: area>=100)\n",
      "[INFO][2022/03/09 12:36:21 PM] Closing HDF file: /home/nathan/data/kraken/scr/h2b/giulia/GV0813/Pos0/Pos0_aligned/HDF/segmented.hdf5\n",
      "[INFO][2022/03/09 12:36:21 PM] Opening HDF file: /home/nathan/data/kraken/scr/h2b/giulia/GV0813/Pos0/Pos0_aligned/HDF/segmented.hdf5...\n",
      "[INFO][2022/03/09 12:36:21 PM] Loading tracks/obj_type_2\n",
      "[INFO][2022/03/09 12:36:21 PM] Loading objects/obj_type_2 (20301, 5) (17076 filtered: area>=100)\n",
      "[INFO][2022/03/09 12:36:21 PM] Closing HDF file: /home/nathan/data/kraken/scr/h2b/giulia/GV0813/Pos0/Pos0_aligned/HDF/segmented.hdf5\n",
      "[INFO][2022/03/09 12:36:21 PM] Opening HDF file: /home/nathan/data/kraken/scr/h2b/giulia/GV0814/Pos11/Pos11_aligned/HDF/segmented.hdf5...\n",
      "[INFO][2022/03/09 12:36:22 PM] Loading tracks/obj_type_1\n"
     ]
    },
    {
     "name": "stdout",
     "output_type": "stream",
     "text": [
      "Track information loaded and ordered according to cell type (WT IDs >0> Scr IDs)\n",
      "Loaded GV0813/Pos0/\n",
      "ID GV0813_Pos0_356_GFP experiment: GV0813/Pos0/\n",
      "ID GV0813_Pos0_260_GFP experiment: GV0813/Pos0/\n",
      "ID GV0813_Pos0_111_GFP experiment: GV0813/Pos0/\n",
      "ID GV0813_Pos0_223_GFP experiment: GV0813/Pos0/\n",
      "ID GV0813_Pos0_636_GFP experiment: GV0813/Pos0/\n",
      "ID GV0814_Pos11_1120_GFP experiment: GV0814/Pos11/\n",
      "Loading GV0814/Pos11/\n",
      "Btrack version no.: 0.4.3\n"
     ]
    },
    {
     "name": "stderr",
     "output_type": "stream",
     "text": [
      "[INFO][2022/03/09 12:36:24 PM] Loading objects/obj_type_1 (391111, 5) (347066 filtered: area>=100)\n",
      "[INFO][2022/03/09 12:36:28 PM] Closing HDF file: /home/nathan/data/kraken/scr/h2b/giulia/GV0814/Pos11/Pos11_aligned/HDF/segmented.hdf5\n",
      "[INFO][2022/03/09 12:36:28 PM] Opening HDF file: /home/nathan/data/kraken/scr/h2b/giulia/GV0814/Pos11/Pos11_aligned/HDF/segmented.hdf5...\n",
      "[INFO][2022/03/09 12:36:28 PM] Loading tracks/obj_type_2\n",
      "[INFO][2022/03/09 12:36:29 PM] Loading objects/obj_type_2 (26609, 5) (20891 filtered: area>=100)\n",
      "[INFO][2022/03/09 12:36:29 PM] Closing HDF file: /home/nathan/data/kraken/scr/h2b/giulia/GV0814/Pos11/Pos11_aligned/HDF/segmented.hdf5\n",
      "[INFO][2022/03/09 12:36:29 PM] Opening HDF file: /home/nathan/data/kraken/scr/h2b/giulia/GV0800/Pos17/Pos17_aligned/HDF/segmented.hdf5...\n",
      "[INFO][2022/03/09 12:36:29 PM] Loading tracks/obj_type_1\n"
     ]
    },
    {
     "name": "stdout",
     "output_type": "stream",
     "text": [
      "Track information loaded and ordered according to cell type (WT IDs >0> Scr IDs)\n",
      "Loaded GV0814/Pos11/\n",
      "ID GV0814_Pos11_1878_GFP experiment: GV0814/Pos11/\n",
      "ID GV0814_Pos11_1981_GFP experiment: GV0814/Pos11/\n",
      "ID GV0814_Pos11_3733_GFP experiment: GV0814/Pos11/\n",
      "ID GV0814_Pos11_2242_GFP experiment: GV0814/Pos11/\n",
      "ID GV0814_Pos11_2469_GFP experiment: GV0814/Pos11/\n",
      "ID GV0814_Pos11_1212_GFP experiment: GV0814/Pos11/\n",
      "ID GV0814_Pos11_4428_GFP experiment: GV0814/Pos11/\n",
      "ID GV0800_Pos17_7_GFP experiment: GV0800/Pos17/\n",
      "Loading GV0800/Pos17/\n",
      "Btrack version no.: 0.4.3\n"
     ]
    },
    {
     "name": "stderr",
     "output_type": "stream",
     "text": [
      "[INFO][2022/03/09 12:36:30 PM] Loading objects/obj_type_1 (102414, 5) (89276 filtered: area>=100)\n",
      "[INFO][2022/03/09 12:36:30 PM] Closing HDF file: /home/nathan/data/kraken/scr/h2b/giulia/GV0800/Pos17/Pos17_aligned/HDF/segmented.hdf5\n",
      "[INFO][2022/03/09 12:36:30 PM] Opening HDF file: /home/nathan/data/kraken/scr/h2b/giulia/GV0800/Pos17/Pos17_aligned/HDF/segmented.hdf5...\n",
      "[INFO][2022/03/09 12:36:30 PM] Loading tracks/obj_type_2\n",
      "[INFO][2022/03/09 12:36:31 PM] Loading objects/obj_type_2 (83250, 5) (67284 filtered: area>=100)\n",
      "[INFO][2022/03/09 12:36:32 PM] Closing HDF file: /home/nathan/data/kraken/scr/h2b/giulia/GV0800/Pos17/Pos17_aligned/HDF/segmented.hdf5\n",
      "[INFO][2022/03/09 12:36:32 PM] Opening HDF file: /home/nathan/data/kraken/scr/h2b/giulia/GV0800/Pos7/Pos7_aligned/HDF/segmented.hdf5...\n",
      "[INFO][2022/03/09 12:36:32 PM] Loading tracks/obj_type_1\n"
     ]
    },
    {
     "name": "stdout",
     "output_type": "stream",
     "text": [
      "Track information loaded and ordered according to cell type (WT IDs >0> Scr IDs)\n",
      "Loaded GV0800/Pos17/\n",
      "ID GV0800_Pos17_1010_GFP experiment: GV0800/Pos17/\n",
      "ID GV0800_Pos17_1009_GFP experiment: GV0800/Pos17/\n",
      "ID GV0800_Pos17_868_GFP experiment: GV0800/Pos17/\n",
      "ID GV0800_Pos17_869_GFP experiment: GV0800/Pos17/\n",
      "ID GV0800_Pos17_1001_GFP experiment: GV0800/Pos17/\n",
      "ID GV0800_Pos17_1002_GFP experiment: GV0800/Pos17/\n",
      "ID GV0800_Pos7_278_GFP experiment: GV0800/Pos7/\n",
      "Loading GV0800/Pos7/\n",
      "Btrack version no.: 0.4.3\n"
     ]
    },
    {
     "name": "stderr",
     "output_type": "stream",
     "text": [
      "[INFO][2022/03/09 12:36:35 PM] Loading objects/obj_type_1 (299894, 5) (277008 filtered: area>=100)\n",
      "[INFO][2022/03/09 12:36:38 PM] Closing HDF file: /home/nathan/data/kraken/scr/h2b/giulia/GV0800/Pos7/Pos7_aligned/HDF/segmented.hdf5\n",
      "[INFO][2022/03/09 12:36:38 PM] Opening HDF file: /home/nathan/data/kraken/scr/h2b/giulia/GV0800/Pos7/Pos7_aligned/HDF/segmented.hdf5...\n",
      "[INFO][2022/03/09 12:36:38 PM] Loading tracks/obj_type_2\n",
      "[INFO][2022/03/09 12:36:38 PM] Loading objects/obj_type_2 (53124, 5) (43280 filtered: area>=100)\n",
      "[INFO][2022/03/09 12:36:39 PM] Closing HDF file: /home/nathan/data/kraken/scr/h2b/giulia/GV0800/Pos7/Pos7_aligned/HDF/segmented.hdf5\n",
      "[INFO][2022/03/09 12:36:39 PM] Opening HDF file: /home/nathan/data/kraken/scr/h2b/giulia/GV0800/Pos15/Pos15_aligned/HDF/segmented.hdf5...\n",
      "[INFO][2022/03/09 12:36:39 PM] Loading tracks/obj_type_1\n"
     ]
    },
    {
     "name": "stdout",
     "output_type": "stream",
     "text": [
      "Track information loaded and ordered according to cell type (WT IDs >0> Scr IDs)\n",
      "Loaded GV0800/Pos7/\n",
      "ID GV0800_Pos7_206_GFP experiment: GV0800/Pos7/\n",
      "ID GV0800_Pos7_511_GFP experiment: GV0800/Pos7/\n",
      "ID GV0800_Pos7_397_GFP experiment: GV0800/Pos7/\n",
      "ID GV0800_Pos7_445_GFP experiment: GV0800/Pos7/\n",
      "ID GV0800_Pos7_921_GFP experiment: GV0800/Pos7/\n",
      "ID GV0800_Pos7_2097_GFP experiment: GV0800/Pos7/\n",
      "ID GV0800_Pos7_1616_GFP experiment: GV0800/Pos7/\n",
      "ID GV0800_Pos7_1160_GFP experiment: GV0800/Pos7/\n",
      "ID GV0800_Pos15_91_GFP experiment: GV0800/Pos15/\n",
      "Loading GV0800/Pos15/\n",
      "Btrack version no.: 0.4.3\n"
     ]
    },
    {
     "name": "stderr",
     "output_type": "stream",
     "text": [
      "[INFO][2022/03/09 12:36:42 PM] Loading objects/obj_type_1 (496218, 5) (476849 filtered: area>=100)\n",
      "[INFO][2022/03/09 12:36:49 PM] Closing HDF file: /home/nathan/data/kraken/scr/h2b/giulia/GV0800/Pos15/Pos15_aligned/HDF/segmented.hdf5\n",
      "[INFO][2022/03/09 12:36:49 PM] Opening HDF file: /home/nathan/data/kraken/scr/h2b/giulia/GV0800/Pos15/Pos15_aligned/HDF/segmented.hdf5...\n",
      "[INFO][2022/03/09 12:36:49 PM] Loading tracks/obj_type_2\n",
      "[INFO][2022/03/09 12:36:49 PM] Loading objects/obj_type_2 (16106, 5) (13248 filtered: area>=100)\n",
      "[INFO][2022/03/09 12:36:49 PM] Closing HDF file: /home/nathan/data/kraken/scr/h2b/giulia/GV0800/Pos15/Pos15_aligned/HDF/segmented.hdf5\n",
      "[INFO][2022/03/09 12:36:49 PM] Opening HDF file: /home/nathan/data/kraken/scr/h2b/giulia/GV0820/Pos2/Pos2_aligned/HDF/segmented.hdf5...\n",
      "[INFO][2022/03/09 12:36:49 PM] Loading tracks/obj_type_1\n"
     ]
    },
    {
     "name": "stdout",
     "output_type": "stream",
     "text": [
      "Track information loaded and ordered according to cell type (WT IDs >0> Scr IDs)\n",
      "Loaded GV0800/Pos15/\n",
      "ID GV0800_Pos15_1412_GFP experiment: GV0800/Pos15/\n",
      "ID GV0820_Pos2_406_GFP experiment: GV0820/Pos2/\n",
      "Loading GV0820/Pos2/\n",
      "Btrack version no.: 0.4.3\n"
     ]
    },
    {
     "name": "stderr",
     "output_type": "stream",
     "text": [
      "[INFO][2022/03/09 12:36:50 PM] Loading objects/obj_type_1 (187834, 5) (174544 filtered: area>=100)\n",
      "[INFO][2022/03/09 12:36:52 PM] Closing HDF file: /home/nathan/data/kraken/scr/h2b/giulia/GV0820/Pos2/Pos2_aligned/HDF/segmented.hdf5\n",
      "[INFO][2022/03/09 12:36:52 PM] Opening HDF file: /home/nathan/data/kraken/scr/h2b/giulia/GV0820/Pos2/Pos2_aligned/HDF/segmented.hdf5...\n",
      "[INFO][2022/03/09 12:36:52 PM] Loading tracks/obj_type_2\n",
      "[INFO][2022/03/09 12:36:53 PM] Loading objects/obj_type_2 (73959, 5) (62237 filtered: area>=100)\n",
      "[INFO][2022/03/09 12:36:53 PM] Closing HDF file: /home/nathan/data/kraken/scr/h2b/giulia/GV0820/Pos2/Pos2_aligned/HDF/segmented.hdf5\n",
      "[INFO][2022/03/09 12:36:54 PM] Opening HDF file: /home/nathan/data/kraken/scr/h2b/giulia/GV0807/Pos4/Pos4_aligned/HDF/segmented.hdf5...\n",
      "[INFO][2022/03/09 12:36:54 PM] Loading tracks/obj_type_1\n"
     ]
    },
    {
     "name": "stdout",
     "output_type": "stream",
     "text": [
      "Track information loaded and ordered according to cell type (WT IDs >0> Scr IDs)\n",
      "Loaded GV0820/Pos2/\n",
      "ID GV0820_Pos2_1232_GFP experiment: GV0820/Pos2/\n",
      "ID GV0807_Pos4_982_GFP experiment: GV0807/Pos4/\n",
      "Loading GV0807/Pos4/\n",
      "Btrack version no.: 0.4.3\n"
     ]
    },
    {
     "name": "stderr",
     "output_type": "stream",
     "text": [
      "[INFO][2022/03/09 12:36:56 PM] Loading objects/obj_type_1 (313526, 5) (300454 filtered: area>=100)\n",
      "[INFO][2022/03/09 12:37:00 PM] Closing HDF file: /home/nathan/data/kraken/scr/h2b/giulia/GV0807/Pos4/Pos4_aligned/HDF/segmented.hdf5\n",
      "[INFO][2022/03/09 12:37:00 PM] Opening HDF file: /home/nathan/data/kraken/scr/h2b/giulia/GV0807/Pos4/Pos4_aligned/HDF/segmented.hdf5...\n",
      "[INFO][2022/03/09 12:37:00 PM] Loading tracks/obj_type_2\n",
      "[INFO][2022/03/09 12:37:00 PM] Loading objects/obj_type_2 (38098, 5) (31521 filtered: area>=100)\n",
      "[INFO][2022/03/09 12:37:01 PM] Closing HDF file: /home/nathan/data/kraken/scr/h2b/giulia/GV0807/Pos4/Pos4_aligned/HDF/segmented.hdf5\n",
      "[INFO][2022/03/09 12:37:01 PM] Opening HDF file: /home/nathan/data/kraken/scr/h2b/giulia/GV0819/Pos0/Pos0_aligned/HDF/segmented.hdf5...\n",
      "[INFO][2022/03/09 12:37:01 PM] Loading tracks/obj_type_1\n"
     ]
    },
    {
     "name": "stdout",
     "output_type": "stream",
     "text": [
      "Track information loaded and ordered according to cell type (WT IDs >0> Scr IDs)\n",
      "Loaded GV0807/Pos4/\n",
      "ID GV0807_Pos4_14_GFP experiment: GV0807/Pos4/\n",
      "ID GV0819_Pos0_677_GFP experiment: GV0819/Pos0/\n",
      "Loading GV0819/Pos0/\n",
      "Btrack version no.: 0.4.3\n"
     ]
    },
    {
     "name": "stderr",
     "output_type": "stream",
     "text": [
      "[INFO][2022/03/09 12:37:04 PM] Loading objects/obj_type_1 (285723, 5) (262105 filtered: area>=100)\n",
      "[INFO][2022/03/09 12:37:07 PM] Closing HDF file: /home/nathan/data/kraken/scr/h2b/giulia/GV0819/Pos0/Pos0_aligned/HDF/segmented.hdf5\n",
      "[INFO][2022/03/09 12:37:07 PM] Opening HDF file: /home/nathan/data/kraken/scr/h2b/giulia/GV0819/Pos0/Pos0_aligned/HDF/segmented.hdf5...\n",
      "[INFO][2022/03/09 12:37:07 PM] Loading tracks/obj_type_2\n",
      "[INFO][2022/03/09 12:37:08 PM] Loading objects/obj_type_2 (79945, 5) (62473 filtered: area>=100)\n",
      "[INFO][2022/03/09 12:37:08 PM] Closing HDF file: /home/nathan/data/kraken/scr/h2b/giulia/GV0819/Pos0/Pos0_aligned/HDF/segmented.hdf5\n"
     ]
    },
    {
     "name": "stdout",
     "output_type": "stream",
     "text": [
      "Track information loaded and ordered according to cell type (WT IDs >0> Scr IDs)\n",
      "Loaded GV0819/Pos0/\n",
      "ID GV0819_Pos0_913_GFP experiment: GV0819/Pos0/\n",
      "ID GV0819_Pos0_898_GFP experiment: GV0819/Pos0/\n",
      "ID GV0819_Pos0_22_GFP experiment: GV0819/Pos0/\n",
      "ID GV0819_Pos0_1_GFP experiment: GV0819/Pos0/\n",
      "ID GV0819_Pos0_1831_GFP experiment: GV0819/Pos0/\n",
      "ID GV0819_Pos0_897_GFP experiment: GV0819/Pos0/\n",
      "ID GV0819_Pos0_847_GFP experiment: GV0819/Pos0/\n",
      "ID GV0819_Pos0_846_GFP experiment: GV0819/Pos0/\n",
      "ID GV0819_Pos0_1712_GFP experiment: GV0819/Pos0/\n",
      "ID GV0819_Pos0_2151_GFP experiment: GV0819/Pos0/\n",
      "ID GV0819_Pos0_673_GFP experiment: GV0819/Pos0/\n",
      "ID GV0819_Pos0_1319_GFP experiment: GV0819/Pos0/\n",
      "ID GV0819_Pos0_2622_GFP experiment: GV0819/Pos0/\n",
      "ID GV0819_Pos0_1622_GFP experiment: GV0819/Pos0/\n",
      "ID GV0819_Pos0_98_GFP experiment: GV0819/Pos0/\n",
      "ID GV0819_Pos0_2345_GFP experiment: GV0819/Pos0/\n",
      "ID GV0819_Pos0_643_GFP experiment: GV0819/Pos0/\n",
      "ID GV0819_Pos0_1588_GFP experiment: GV0819/Pos0/\n",
      "ID GV0819_Pos0_1587_GFP experiment: GV0819/Pos0/\n",
      "ID GV0819_Pos0_843_GFP experiment: GV0819/Pos0/\n",
      "ID GV0819_Pos0_2269_GFP experiment: GV0819/Pos0/\n",
      "ID GV0819_Pos0_2268_GFP experiment: GV0819/Pos0/\n",
      "ID GV0819_Pos0_1371_GFP experiment: GV0819/Pos0/\n",
      "ID GV0819_Pos0_1370_GFP experiment: GV0819/Pos0/\n",
      "ID GV0819_Pos0_838_GFP experiment: GV0819/Pos0/\n",
      "ID GV0819_Pos0_912_GFP experiment: GV0819/Pos0/\n",
      "ID GV0819_Pos0_1272_GFP experiment: GV0819/Pos0/\n",
      "ID GV0819_Pos0_144_GFP experiment: GV0819/Pos0/\n",
      "ID GV0819_Pos0_1210_GFP experiment: GV0819/Pos0/\n",
      "ID GV0819_Pos0_1211_GFP experiment: GV0819/Pos0/\n",
      "ID GV0819_Pos0_3087_GFP experiment: GV0819/Pos0/\n",
      "ID GV0819_Pos0_3037_GFP experiment: GV0819/Pos0/\n",
      "ID GV0819_Pos0_1740_GFP experiment: GV0819/Pos0/\n",
      "ID GV0819_Pos0_1742_GFP experiment: GV0819/Pos0/\n",
      "ID GV0819_Pos0_829_GFP experiment: GV0819/Pos0/\n",
      "ID GV0819_Pos0_1074_GFP experiment: GV0819/Pos0/\n",
      "ID GV0819_Pos0_2369_GFP experiment: GV0819/Pos0/\n",
      "ID GV0819_Pos0_2308_GFP experiment: GV0819/Pos0/\n",
      "ID GV0819_Pos0_3216_GFP experiment: GV0819/Pos0/\n",
      "ID GV0819_Pos0_2206_GFP experiment: GV0819/Pos0/\n",
      "ID GV0819_Pos0_2018_GFP experiment: GV0819/Pos0/\n",
      "ID GV0819_Pos0_2009_GFP experiment: GV0819/Pos0/\n"
     ]
    },
    {
     "name": "stderr",
     "output_type": "stream",
     "text": [
      "[INFO][2022/03/09 12:37:09 PM] Opening HDF file: /home/nathan/data/kraken/scr/h2b/giulia/GV0819/Pos2/Pos2_aligned/HDF/segmented.hdf5...\n",
      "[INFO][2022/03/09 12:37:09 PM] Loading tracks/obj_type_1\n"
     ]
    },
    {
     "name": "stdout",
     "output_type": "stream",
     "text": [
      "ID GV0819_Pos0_412_GFP experiment: GV0819/Pos0/\n",
      "ID GV0819_Pos0_1737_GFP experiment: GV0819/Pos0/\n",
      "ID GV0819_Pos0_2886_GFP experiment: GV0819/Pos0/\n",
      "ID GV0819_Pos2_119_GFP experiment: GV0819/Pos2/\n",
      "Loading GV0819/Pos2/\n",
      "Btrack version no.: 0.4.3\n"
     ]
    },
    {
     "name": "stderr",
     "output_type": "stream",
     "text": [
      "[INFO][2022/03/09 12:37:11 PM] Loading objects/obj_type_1 (267623, 5) (252570 filtered: area>=100)\n",
      "[INFO][2022/03/09 12:37:14 PM] Closing HDF file: /home/nathan/data/kraken/scr/h2b/giulia/GV0819/Pos2/Pos2_aligned/HDF/segmented.hdf5\n",
      "[INFO][2022/03/09 12:37:14 PM] Opening HDF file: /home/nathan/data/kraken/scr/h2b/giulia/GV0819/Pos2/Pos2_aligned/HDF/segmented.hdf5...\n",
      "[INFO][2022/03/09 12:37:14 PM] Loading tracks/obj_type_2\n",
      "[INFO][2022/03/09 12:37:15 PM] Loading objects/obj_type_2 (113484, 5) (97628 filtered: area>=100)\n",
      "[INFO][2022/03/09 12:37:16 PM] Closing HDF file: /home/nathan/data/kraken/scr/h2b/giulia/GV0819/Pos2/Pos2_aligned/HDF/segmented.hdf5\n"
     ]
    },
    {
     "name": "stdout",
     "output_type": "stream",
     "text": [
      "Track information loaded and ordered according to cell type (WT IDs >0> Scr IDs)\n",
      "Loaded GV0819/Pos2/\n",
      "ID GV0819_Pos2_481_GFP experiment: GV0819/Pos2/\n",
      "ID GV0819_Pos2_513_GFP experiment: GV0819/Pos2/\n",
      "ID GV0819_Pos2_143_GFP experiment: GV0819/Pos2/\n"
     ]
    },
    {
     "name": "stderr",
     "output_type": "stream",
     "text": [
      "[INFO][2022/03/09 12:37:16 PM] Opening HDF file: /home/nathan/data/kraken/scr/h2b/giulia/GV0820/Pos0/Pos0_aligned/HDF/segmented.hdf5...\n"
     ]
    },
    {
     "name": "stdout",
     "output_type": "stream",
     "text": [
      "ID GV0819_Pos2_1617_GFP experiment: GV0819/Pos2/\n",
      "ID GV0820_Pos0_35_GFP experiment: GV0820/Pos0/\n",
      "Loading GV0820/Pos0/\n",
      "Btrack version no.: 0.4.3\n"
     ]
    },
    {
     "name": "stderr",
     "output_type": "stream",
     "text": [
      "[INFO][2022/03/09 12:37:16 PM] Loading tracks/obj_type_1\n",
      "[INFO][2022/03/09 12:37:18 PM] Loading objects/obj_type_1 (204895, 5) (190534 filtered: area>=100)\n",
      "[INFO][2022/03/09 12:37:21 PM] Closing HDF file: /home/nathan/data/kraken/scr/h2b/giulia/GV0820/Pos0/Pos0_aligned/HDF/segmented.hdf5\n",
      "[INFO][2022/03/09 12:37:21 PM] Opening HDF file: /home/nathan/data/kraken/scr/h2b/giulia/GV0820/Pos0/Pos0_aligned/HDF/segmented.hdf5...\n",
      "[INFO][2022/03/09 12:37:21 PM] Loading tracks/obj_type_2\n",
      "[INFO][2022/03/09 12:37:21 PM] Loading objects/obj_type_2 (70432, 5) (57621 filtered: area>=100)\n",
      "[INFO][2022/03/09 12:37:22 PM] Closing HDF file: /home/nathan/data/kraken/scr/h2b/giulia/GV0820/Pos0/Pos0_aligned/HDF/segmented.hdf5\n",
      "[INFO][2022/03/09 12:37:22 PM] Opening HDF file: /home/nathan/data/kraken/scr/h2b/giulia/GV0795/Pos4/Pos4_aligned/HDF/segmented.hdf5...\n",
      "[INFO][2022/03/09 12:37:22 PM] Loading tracks/obj_type_1\n"
     ]
    },
    {
     "name": "stdout",
     "output_type": "stream",
     "text": [
      "Track information loaded and ordered according to cell type (WT IDs >0> Scr IDs)\n",
      "Loaded GV0820/Pos0/\n",
      "ID GV0820_Pos0_28_GFP experiment: GV0820/Pos0/\n",
      "ID GV0820_Pos0_930_GFP experiment: GV0820/Pos0/\n",
      "ID GV0820_Pos0_739_GFP experiment: GV0820/Pos0/\n",
      "ID GV0820_Pos0_501_GFP experiment: GV0820/Pos0/\n",
      "ID GV0820_Pos0_19_GFP experiment: GV0820/Pos0/\n",
      "ID GV0820_Pos0_589_GFP experiment: GV0820/Pos0/\n",
      "ID GV0820_Pos0_709_GFP experiment: GV0820/Pos0/\n",
      "ID GV0820_Pos0_1329_GFP experiment: GV0820/Pos0/\n",
      "ID GV0820_Pos0_854_GFP experiment: GV0820/Pos0/\n",
      "ID GV0820_Pos0_784_GFP experiment: GV0820/Pos0/\n",
      "ID GV0820_Pos0_1837_GFP experiment: GV0820/Pos0/\n",
      "ID GV0820_Pos0_2191_GFP experiment: GV0820/Pos0/\n",
      "ID GV0820_Pos0_710_GFP experiment: GV0820/Pos0/\n",
      "ID GV0820_Pos0_1231_GFP experiment: GV0820/Pos0/\n",
      "ID GV0795_Pos4_358_GFP experiment: GV0795/Pos4/\n",
      "Loading GV0795/Pos4/\n",
      "Btrack version no.: 0.4.3\n"
     ]
    },
    {
     "name": "stderr",
     "output_type": "stream",
     "text": [
      "[INFO][2022/03/09 12:37:24 PM] Loading objects/obj_type_1 (211479, 5) (197642 filtered: area>=100)\n",
      "[INFO][2022/03/09 12:37:26 PM] Closing HDF file: /home/nathan/data/kraken/scr/h2b/giulia/GV0795/Pos4/Pos4_aligned/HDF/segmented.hdf5\n",
      "[INFO][2022/03/09 12:37:26 PM] Opening HDF file: /home/nathan/data/kraken/scr/h2b/giulia/GV0795/Pos4/Pos4_aligned/HDF/segmented.hdf5...\n",
      "[INFO][2022/03/09 12:37:26 PM] Loading tracks/obj_type_2\n",
      "[INFO][2022/03/09 12:37:27 PM] Loading objects/obj_type_2 (49070, 5) (38203 filtered: area>=100)\n",
      "[INFO][2022/03/09 12:37:28 PM] Closing HDF file: /home/nathan/data/kraken/scr/h2b/giulia/GV0795/Pos4/Pos4_aligned/HDF/segmented.hdf5\n",
      "[INFO][2022/03/09 12:37:28 PM] Opening HDF file: /home/nathan/data/kraken/scr/h2b/giulia/GV0805/Pos3/Pos3_aligned/HDF/segmented.hdf5...\n",
      "[INFO][2022/03/09 12:37:28 PM] Loading tracks/obj_type_1\n"
     ]
    },
    {
     "name": "stdout",
     "output_type": "stream",
     "text": [
      "Track information loaded and ordered according to cell type (WT IDs >0> Scr IDs)\n",
      "Loaded GV0795/Pos4/\n",
      "ID GV0795_Pos4_18_GFP experiment: GV0795/Pos4/\n",
      "ID GV0795_Pos4_1356_GFP experiment: GV0795/Pos4/\n",
      "ID GV0795_Pos4_359_GFP experiment: GV0795/Pos4/\n",
      "ID GV0805_Pos3_682_GFP experiment: GV0805/Pos3/\n",
      "Loading GV0805/Pos3/\n",
      "Btrack version no.: 0.4.3\n"
     ]
    },
    {
     "name": "stderr",
     "output_type": "stream",
     "text": [
      "[INFO][2022/03/09 12:37:31 PM] Loading objects/obj_type_1 (518517, 5) (489660 filtered: area>=100)\n",
      "[INFO][2022/03/09 12:37:37 PM] Closing HDF file: /home/nathan/data/kraken/scr/h2b/giulia/GV0805/Pos3/Pos3_aligned/HDF/segmented.hdf5\n",
      "[INFO][2022/03/09 12:37:37 PM] Opening HDF file: /home/nathan/data/kraken/scr/h2b/giulia/GV0805/Pos3/Pos3_aligned/HDF/segmented.hdf5...\n",
      "[INFO][2022/03/09 12:37:37 PM] Loading tracks/obj_type_2\n",
      "[INFO][2022/03/09 12:37:37 PM] Loading objects/obj_type_2 (16677, 5) (12311 filtered: area>=100)\n",
      "[INFO][2022/03/09 12:37:38 PM] Closing HDF file: /home/nathan/data/kraken/scr/h2b/giulia/GV0805/Pos3/Pos3_aligned/HDF/segmented.hdf5\n",
      "[INFO][2022/03/09 12:37:38 PM] Opening HDF file: /home/nathan/data/kraken/scr/h2b/giulia/GV0819/Pos4/Pos4_aligned/HDF/segmented.hdf5...\n",
      "[INFO][2022/03/09 12:37:38 PM] Loading tracks/obj_type_1\n"
     ]
    },
    {
     "name": "stdout",
     "output_type": "stream",
     "text": [
      "Track information loaded and ordered according to cell type (WT IDs >0> Scr IDs)\n",
      "Loaded GV0805/Pos3/\n",
      "ID GV0805_Pos3_50_GFP experiment: GV0805/Pos3/\n",
      "ID GV0805_Pos3_4_GFP experiment: GV0805/Pos3/\n",
      "ID GV0819_Pos4_1586_GFP experiment: GV0819/Pos4/\n",
      "Loading GV0819/Pos4/\n",
      "Btrack version no.: 0.4.3\n"
     ]
    },
    {
     "name": "stderr",
     "output_type": "stream",
     "text": [
      "[INFO][2022/03/09 12:37:41 PM] Loading objects/obj_type_1 (393596, 5) (379449 filtered: area>=100)\n",
      "[INFO][2022/03/09 12:37:46 PM] Closing HDF file: /home/nathan/data/kraken/scr/h2b/giulia/GV0819/Pos4/Pos4_aligned/HDF/segmented.hdf5\n",
      "[INFO][2022/03/09 12:37:46 PM] Opening HDF file: /home/nathan/data/kraken/scr/h2b/giulia/GV0819/Pos4/Pos4_aligned/HDF/segmented.hdf5...\n",
      "[INFO][2022/03/09 12:37:46 PM] Loading tracks/obj_type_2\n",
      "[INFO][2022/03/09 12:37:47 PM] Loading objects/obj_type_2 (112602, 5) (100064 filtered: area>=100)\n",
      "[INFO][2022/03/09 12:37:49 PM] Closing HDF file: /home/nathan/data/kraken/scr/h2b/giulia/GV0819/Pos4/Pos4_aligned/HDF/segmented.hdf5\n",
      "[INFO][2022/03/09 12:37:49 PM] Opening HDF file: /home/nathan/data/kraken/scr/h2b/giulia/GV0794/Pos7/Pos7_aligned/HDF/segmented.hdf5...\n",
      "[INFO][2022/03/09 12:37:49 PM] Loading tracks/obj_type_1\n"
     ]
    },
    {
     "name": "stdout",
     "output_type": "stream",
     "text": [
      "Track information loaded and ordered according to cell type (WT IDs >0> Scr IDs)\n",
      "Loaded GV0819/Pos4/\n",
      "ID GV0819_Pos4_2425_GFP experiment: GV0819/Pos4/\n",
      "ID GV0819_Pos4_2609_GFP experiment: GV0819/Pos4/\n",
      "ID GV0794_Pos7_364_GFP experiment: GV0794/Pos7/\n",
      "Loading GV0794/Pos7/\n",
      "Btrack version no.: 0.4.3\n"
     ]
    },
    {
     "name": "stderr",
     "output_type": "stream",
     "text": [
      "[INFO][2022/03/09 12:37:50 PM] Loading objects/obj_type_1 (110774, 5) (102450 filtered: area>=100)\n",
      "[INFO][2022/03/09 12:37:51 PM] Closing HDF file: /home/nathan/data/kraken/scr/h2b/giulia/GV0794/Pos7/Pos7_aligned/HDF/segmented.hdf5\n",
      "[INFO][2022/03/09 12:37:51 PM] Opening HDF file: /home/nathan/data/kraken/scr/h2b/giulia/GV0794/Pos7/Pos7_aligned/HDF/segmented.hdf5...\n",
      "[INFO][2022/03/09 12:37:51 PM] Loading tracks/obj_type_2\n",
      "[INFO][2022/03/09 12:37:51 PM] Loading objects/obj_type_2 (20793, 5) (17016 filtered: area>=100)\n",
      "[INFO][2022/03/09 12:37:51 PM] Closing HDF file: /home/nathan/data/kraken/scr/h2b/giulia/GV0794/Pos7/Pos7_aligned/HDF/segmented.hdf5\n",
      "[INFO][2022/03/09 12:37:51 PM] Opening HDF file: /home/nathan/data/kraken/scr/h2b/giulia/GV0796/Pos7/Pos7_aligned/HDF/segmented.hdf5...\n",
      "[INFO][2022/03/09 12:37:51 PM] Loading tracks/obj_type_1\n"
     ]
    },
    {
     "name": "stdout",
     "output_type": "stream",
     "text": [
      "Track information loaded and ordered according to cell type (WT IDs >0> Scr IDs)\n",
      "Loaded GV0794/Pos7/\n",
      "ID GV0794_Pos7_457_GFP experiment: GV0794/Pos7/\n",
      "ID GV0794_Pos7_369_GFP experiment: GV0794/Pos7/\n",
      "ID GV0794_Pos7_292_GFP experiment: GV0794/Pos7/\n",
      "ID GV0796_Pos7_44_GFP experiment: GV0796/Pos7/\n",
      "Loading GV0796/Pos7/\n",
      "Btrack version no.: 0.4.3\n"
     ]
    },
    {
     "name": "stderr",
     "output_type": "stream",
     "text": [
      "[INFO][2022/03/09 12:37:55 PM] Loading objects/obj_type_1 (510473, 5) (495699 filtered: area>=100)\n",
      "[INFO][2022/03/09 12:38:00 PM] Closing HDF file: /home/nathan/data/kraken/scr/h2b/giulia/GV0796/Pos7/Pos7_aligned/HDF/segmented.hdf5\n",
      "[INFO][2022/03/09 12:38:00 PM] Opening HDF file: /home/nathan/data/kraken/scr/h2b/giulia/GV0796/Pos7/Pos7_aligned/HDF/segmented.hdf5...\n",
      "[INFO][2022/03/09 12:38:00 PM] Loading tracks/obj_type_2\n",
      "[INFO][2022/03/09 12:38:01 PM] Loading objects/obj_type_2 (76238, 5) (63068 filtered: area>=100)\n",
      "[INFO][2022/03/09 12:38:02 PM] Closing HDF file: /home/nathan/data/kraken/scr/h2b/giulia/GV0796/Pos7/Pos7_aligned/HDF/segmented.hdf5\n",
      "[INFO][2022/03/09 12:38:02 PM] Opening HDF file: /home/nathan/data/kraken/scr/h2b/giulia/GV0802/Pos3/Pos3_aligned/HDF/segmented.hdf5...\n",
      "[INFO][2022/03/09 12:38:02 PM] Loading tracks/obj_type_1\n"
     ]
    },
    {
     "name": "stdout",
     "output_type": "stream",
     "text": [
      "Track information loaded and ordered according to cell type (WT IDs >0> Scr IDs)\n",
      "Loaded GV0796/Pos7/\n",
      "ID GV0796_Pos7_541_GFP experiment: GV0796/Pos7/\n",
      "ID GV0796_Pos7_803_GFP experiment: GV0796/Pos7/\n",
      "ID GV0802_Pos3_2411_GFP experiment: GV0802/Pos3/\n",
      "Loading GV0802/Pos3/\n",
      "Btrack version no.: 0.4.3\n"
     ]
    },
    {
     "name": "stderr",
     "output_type": "stream",
     "text": [
      "[INFO][2022/03/09 12:38:07 PM] Loading objects/obj_type_1 (660140, 5) (631868 filtered: area>=100)\n",
      "[INFO][2022/03/09 12:38:16 PM] Closing HDF file: /home/nathan/data/kraken/scr/h2b/giulia/GV0802/Pos3/Pos3_aligned/HDF/segmented.hdf5\n",
      "[INFO][2022/03/09 12:38:16 PM] Opening HDF file: /home/nathan/data/kraken/scr/h2b/giulia/GV0802/Pos3/Pos3_aligned/HDF/segmented.hdf5...\n",
      "[INFO][2022/03/09 12:38:16 PM] Loading tracks/obj_type_2\n",
      "[INFO][2022/03/09 12:38:16 PM] Loading objects/obj_type_2 (23947, 5) (20889 filtered: area>=100)\n",
      "[INFO][2022/03/09 12:38:16 PM] Closing HDF file: /home/nathan/data/kraken/scr/h2b/giulia/GV0802/Pos3/Pos3_aligned/HDF/segmented.hdf5\n",
      "[INFO][2022/03/09 12:38:16 PM] Opening HDF file: /home/nathan/data/kraken/scr/h2b/giulia/GV0797/Pos22/Pos22_aligned/HDF/segmented.hdf5...\n",
      "[INFO][2022/03/09 12:38:16 PM] Loading tracks/obj_type_1\n"
     ]
    },
    {
     "name": "stdout",
     "output_type": "stream",
     "text": [
      "Track information loaded and ordered according to cell type (WT IDs >0> Scr IDs)\n",
      "Loaded GV0802/Pos3/\n",
      "ID GV0797_Pos22_281_GFP experiment: GV0797/Pos22/\n",
      "Loading GV0797/Pos22/\n",
      "Btrack version no.: 0.4.3\n"
     ]
    },
    {
     "name": "stderr",
     "output_type": "stream",
     "text": [
      "[INFO][2022/03/09 12:38:16 PM] Loading objects/obj_type_1 (34660, 5) (27773 filtered: area>=100)\n",
      "[INFO][2022/03/09 12:38:17 PM] Closing HDF file: /home/nathan/data/kraken/scr/h2b/giulia/GV0797/Pos22/Pos22_aligned/HDF/segmented.hdf5\n",
      "[INFO][2022/03/09 12:38:17 PM] Opening HDF file: /home/nathan/data/kraken/scr/h2b/giulia/GV0797/Pos22/Pos22_aligned/HDF/segmented.hdf5...\n",
      "[INFO][2022/03/09 12:38:17 PM] Loading tracks/obj_type_2\n",
      "[INFO][2022/03/09 12:38:17 PM] Loading objects/obj_type_2 (53322, 5) (37156 filtered: area>=100)\n",
      "[INFO][2022/03/09 12:38:17 PM] Closing HDF file: /home/nathan/data/kraken/scr/h2b/giulia/GV0797/Pos22/Pos22_aligned/HDF/segmented.hdf5\n",
      "[INFO][2022/03/09 12:38:18 PM] Opening HDF file: /home/nathan/data/kraken/scr/h2b/giulia/GV0804/Pos4/Pos4_aligned/HDF/segmented.hdf5...\n",
      "[INFO][2022/03/09 12:38:18 PM] Loading tracks/obj_type_1\n"
     ]
    },
    {
     "name": "stdout",
     "output_type": "stream",
     "text": [
      "Track information loaded and ordered according to cell type (WT IDs >0> Scr IDs)\n",
      "Loaded GV0797/Pos22/\n",
      "ID GV0804_Pos4_1013_GFP experiment: GV0804/Pos4/\n",
      "Loading GV0804/Pos4/\n",
      "Btrack version no.: 0.4.3\n"
     ]
    },
    {
     "name": "stderr",
     "output_type": "stream",
     "text": [
      "[INFO][2022/03/09 12:38:20 PM] Loading objects/obj_type_1 (271439, 5) (257929 filtered: area>=100)\n",
      "[INFO][2022/03/09 12:38:22 PM] Closing HDF file: /home/nathan/data/kraken/scr/h2b/giulia/GV0804/Pos4/Pos4_aligned/HDF/segmented.hdf5\n",
      "[INFO][2022/03/09 12:38:22 PM] Opening HDF file: /home/nathan/data/kraken/scr/h2b/giulia/GV0804/Pos4/Pos4_aligned/HDF/segmented.hdf5...\n",
      "[INFO][2022/03/09 12:38:22 PM] Loading tracks/obj_type_2\n",
      "[INFO][2022/03/09 12:38:22 PM] Loading objects/obj_type_2 (42112, 5) (36481 filtered: area>=100)\n",
      "[INFO][2022/03/09 12:38:23 PM] Closing HDF file: /home/nathan/data/kraken/scr/h2b/giulia/GV0804/Pos4/Pos4_aligned/HDF/segmented.hdf5\n",
      "[INFO][2022/03/09 12:38:23 PM] Opening HDF file: /home/nathan/data/kraken/scr/h2b/giulia/GV0814/Pos12/Pos12_aligned/HDF/segmented.hdf5...\n",
      "[INFO][2022/03/09 12:38:23 PM] Loading tracks/obj_type_1\n"
     ]
    },
    {
     "name": "stdout",
     "output_type": "stream",
     "text": [
      "Track information loaded and ordered according to cell type (WT IDs >0> Scr IDs)\n",
      "Loaded GV0804/Pos4/\n",
      "ID GV0804_Pos4_1774_GFP experiment: GV0804/Pos4/\n",
      "ID GV0814_Pos12_354_GFP experiment: GV0814/Pos12/\n",
      "Loading GV0814/Pos12/\n",
      "Btrack version no.: 0.4.3\n"
     ]
    },
    {
     "name": "stderr",
     "output_type": "stream",
     "text": [
      "[INFO][2022/03/09 12:38:26 PM] Loading objects/obj_type_1 (387469, 5) (361100 filtered: area>=100)\n",
      "[INFO][2022/03/09 12:38:30 PM] Closing HDF file: /home/nathan/data/kraken/scr/h2b/giulia/GV0814/Pos12/Pos12_aligned/HDF/segmented.hdf5\n",
      "[INFO][2022/03/09 12:38:30 PM] Opening HDF file: /home/nathan/data/kraken/scr/h2b/giulia/GV0814/Pos12/Pos12_aligned/HDF/segmented.hdf5...\n",
      "[INFO][2022/03/09 12:38:30 PM] Loading tracks/obj_type_2\n",
      "[INFO][2022/03/09 12:38:31 PM] Loading objects/obj_type_2 (48265, 5) (39349 filtered: area>=100)\n",
      "[INFO][2022/03/09 12:38:31 PM] Closing HDF file: /home/nathan/data/kraken/scr/h2b/giulia/GV0814/Pos12/Pos12_aligned/HDF/segmented.hdf5\n",
      "[INFO][2022/03/09 12:38:31 PM] Opening HDF file: /home/nathan/data/kraken/scr/h2b/giulia/GV0798/Pos8/Pos8_aligned/HDF/segmented.hdf5...\n",
      "[INFO][2022/03/09 12:38:31 PM] Loading tracks/obj_type_1\n"
     ]
    },
    {
     "name": "stdout",
     "output_type": "stream",
     "text": [
      "Track information loaded and ordered according to cell type (WT IDs >0> Scr IDs)\n",
      "Loaded GV0814/Pos12/\n",
      "ID GV0814_Pos12_3629_GFP experiment: GV0814/Pos12/\n",
      "ID GV0798_Pos8_1325_GFP experiment: GV0798/Pos8/\n",
      "Loading GV0798/Pos8/\n",
      "Btrack version no.: 0.4.3\n"
     ]
    },
    {
     "name": "stderr",
     "output_type": "stream",
     "text": [
      "[INFO][2022/03/09 12:38:33 PM] Loading objects/obj_type_1 (286320, 5) (277358 filtered: area>=100)\n",
      "[INFO][2022/03/09 12:38:37 PM] Closing HDF file: /home/nathan/data/kraken/scr/h2b/giulia/GV0798/Pos8/Pos8_aligned/HDF/segmented.hdf5\n",
      "[INFO][2022/03/09 12:38:37 PM] Opening HDF file: /home/nathan/data/kraken/scr/h2b/giulia/GV0798/Pos8/Pos8_aligned/HDF/segmented.hdf5...\n",
      "[INFO][2022/03/09 12:38:37 PM] Loading tracks/obj_type_2\n",
      "[INFO][2022/03/09 12:38:37 PM] Loading objects/obj_type_2 (9028, 5) (8305 filtered: area>=100)\n",
      "[INFO][2022/03/09 12:38:37 PM] Closing HDF file: /home/nathan/data/kraken/scr/h2b/giulia/GV0798/Pos8/Pos8_aligned/HDF/segmented.hdf5\n",
      "[INFO][2022/03/09 12:38:38 PM] Opening HDF file: /home/nathan/data/kraken/scr/h2b/giulia/GV0817/Pos0/Pos0_aligned/HDF/segmented.hdf5...\n",
      "[INFO][2022/03/09 12:38:38 PM] Loading tracks/obj_type_1\n"
     ]
    },
    {
     "name": "stdout",
     "output_type": "stream",
     "text": [
      "Track information loaded and ordered according to cell type (WT IDs >0> Scr IDs)\n",
      "Loaded GV0798/Pos8/\n",
      "ID GV0817_Pos0_7_GFP experiment: GV0817/Pos0/\n",
      "Loading GV0817/Pos0/\n",
      "Btrack version no.: 0.4.3\n"
     ]
    },
    {
     "name": "stderr",
     "output_type": "stream",
     "text": [
      "[INFO][2022/03/09 12:38:40 PM] Loading objects/obj_type_1 (279987, 5) (256086 filtered: area>=100)\n",
      "[INFO][2022/03/09 12:38:43 PM] Closing HDF file: /home/nathan/data/kraken/scr/h2b/giulia/GV0817/Pos0/Pos0_aligned/HDF/segmented.hdf5\n",
      "[INFO][2022/03/09 12:38:43 PM] Opening HDF file: /home/nathan/data/kraken/scr/h2b/giulia/GV0817/Pos0/Pos0_aligned/HDF/segmented.hdf5...\n",
      "[INFO][2022/03/09 12:38:43 PM] Loading tracks/obj_type_2\n",
      "[INFO][2022/03/09 12:38:44 PM] Loading objects/obj_type_2 (113873, 5) (83931 filtered: area>=100)\n",
      "[INFO][2022/03/09 12:38:44 PM] Closing HDF file: /home/nathan/data/kraken/scr/h2b/giulia/GV0817/Pos0/Pos0_aligned/HDF/segmented.hdf5\n",
      "[INFO][2022/03/09 12:38:45 PM] Opening HDF file: /home/nathan/data/kraken/scr/h2b/giulia/GV0795/Pos3/Pos3_aligned/HDF/segmented.hdf5...\n",
      "[INFO][2022/03/09 12:38:45 PM] Loading tracks/obj_type_1\n"
     ]
    },
    {
     "name": "stdout",
     "output_type": "stream",
     "text": [
      "Track information loaded and ordered according to cell type (WT IDs >0> Scr IDs)\n",
      "Loaded GV0817/Pos0/\n",
      "ID GV0817_Pos0_901_GFP experiment: GV0817/Pos0/\n",
      "ID GV0817_Pos0_1108_GFP experiment: GV0817/Pos0/\n",
      "ID GV0817_Pos0_1541_GFP experiment: GV0817/Pos0/\n",
      "ID GV0817_Pos0_2082_GFP experiment: GV0817/Pos0/\n",
      "ID GV0817_Pos0_737_GFP experiment: GV0817/Pos0/\n",
      "ID GV0817_Pos0_1731_GFP experiment: GV0817/Pos0/\n",
      "ID GV0817_Pos0_1542_GFP experiment: GV0817/Pos0/\n",
      "ID GV0817_Pos0_687_GFP experiment: GV0817/Pos0/\n",
      "ID GV0817_Pos0_1440_GFP experiment: GV0817/Pos0/\n",
      "ID GV0817_Pos0_1928_GFP experiment: GV0817/Pos0/\n",
      "ID GV0817_Pos0_224_GFP experiment: GV0817/Pos0/\n",
      "ID GV0817_Pos0_2109_GFP experiment: GV0817/Pos0/\n",
      "ID GV0817_Pos0_2855_GFP experiment: GV0817/Pos0/\n",
      "ID GV0817_Pos0_2188_GFP experiment: GV0817/Pos0/\n",
      "ID GV0817_Pos0_2181_GFP experiment: GV0817/Pos0/\n",
      "ID GV0795_Pos3_500_GFP experiment: GV0795/Pos3/\n",
      "Loading GV0795/Pos3/\n",
      "Btrack version no.: 0.4.3\n"
     ]
    },
    {
     "name": "stderr",
     "output_type": "stream",
     "text": [
      "[INFO][2022/03/09 12:38:47 PM] Loading objects/obj_type_1 (274100, 5) (263837 filtered: area>=100)\n",
      "[INFO][2022/03/09 12:38:50 PM] Closing HDF file: /home/nathan/data/kraken/scr/h2b/giulia/GV0795/Pos3/Pos3_aligned/HDF/segmented.hdf5\n",
      "[INFO][2022/03/09 12:38:50 PM] Opening HDF file: /home/nathan/data/kraken/scr/h2b/giulia/GV0795/Pos3/Pos3_aligned/HDF/segmented.hdf5...\n",
      "[INFO][2022/03/09 12:38:50 PM] Loading tracks/obj_type_2\n",
      "[INFO][2022/03/09 12:38:51 PM] Loading objects/obj_type_2 (16554, 5) (13970 filtered: area>=100)\n",
      "[INFO][2022/03/09 12:38:52 PM] Closing HDF file: /home/nathan/data/kraken/scr/h2b/giulia/GV0795/Pos3/Pos3_aligned/HDF/segmented.hdf5\n",
      "[INFO][2022/03/09 12:38:52 PM] Opening HDF file: /home/nathan/data/kraken/scr/h2b/giulia/GV0800/Pos4/Pos4_aligned/HDF/segmented.hdf5...\n",
      "[INFO][2022/03/09 12:38:52 PM] Loading tracks/obj_type_1\n"
     ]
    },
    {
     "name": "stdout",
     "output_type": "stream",
     "text": [
      "Track information loaded and ordered according to cell type (WT IDs >0> Scr IDs)\n",
      "Loaded GV0795/Pos3/\n",
      "ID GV0800_Pos4_480_GFP experiment: GV0800/Pos4/\n",
      "Loading GV0800/Pos4/\n",
      "Btrack version no.: 0.4.3\n"
     ]
    },
    {
     "name": "stderr",
     "output_type": "stream",
     "text": [
      "[INFO][2022/03/09 12:38:54 PM] Loading objects/obj_type_1 (293631, 5) (274724 filtered: area>=100)\n",
      "[INFO][2022/03/09 12:38:57 PM] Closing HDF file: /home/nathan/data/kraken/scr/h2b/giulia/GV0800/Pos4/Pos4_aligned/HDF/segmented.hdf5\n",
      "[INFO][2022/03/09 12:38:57 PM] Opening HDF file: /home/nathan/data/kraken/scr/h2b/giulia/GV0800/Pos4/Pos4_aligned/HDF/segmented.hdf5...\n",
      "[INFO][2022/03/09 12:38:57 PM] Loading tracks/obj_type_2\n",
      "[INFO][2022/03/09 12:38:57 PM] Loading objects/obj_type_2 (60789, 5) (49434 filtered: area>=100)\n",
      "[INFO][2022/03/09 12:38:58 PM] Closing HDF file: /home/nathan/data/kraken/scr/h2b/giulia/GV0800/Pos4/Pos4_aligned/HDF/segmented.hdf5\n",
      "[INFO][2022/03/09 12:38:58 PM] Opening HDF file: /home/nathan/data/kraken/scr/h2b/giulia/GV0816/Pos13/Pos13_aligned/HDF/segmented.hdf5...\n",
      "[INFO][2022/03/09 12:38:58 PM] Loading tracks/obj_type_1\n"
     ]
    },
    {
     "name": "stdout",
     "output_type": "stream",
     "text": [
      "Track information loaded and ordered according to cell type (WT IDs >0> Scr IDs)\n",
      "Loaded GV0800/Pos4/\n",
      "ID GV0816_Pos13_39_GFP experiment: GV0816/Pos13/\n",
      "Loading GV0816/Pos13/\n",
      "Btrack version no.: 0.4.3\n"
     ]
    },
    {
     "name": "stderr",
     "output_type": "stream",
     "text": [
      "[INFO][2022/03/09 12:38:59 PM] Loading objects/obj_type_1 (115677, 5) (105175 filtered: area>=100)\n",
      "[INFO][2022/03/09 12:39:00 PM] Closing HDF file: /home/nathan/data/kraken/scr/h2b/giulia/GV0816/Pos13/Pos13_aligned/HDF/segmented.hdf5\n",
      "[INFO][2022/03/09 12:39:00 PM] Opening HDF file: /home/nathan/data/kraken/scr/h2b/giulia/GV0816/Pos13/Pos13_aligned/HDF/segmented.hdf5...\n",
      "[INFO][2022/03/09 12:39:00 PM] Loading tracks/obj_type_2\n",
      "[INFO][2022/03/09 12:39:01 PM] Loading objects/obj_type_2 (55169, 5) (45321 filtered: area>=100)\n",
      "[INFO][2022/03/09 12:39:02 PM] Closing HDF file: /home/nathan/data/kraken/scr/h2b/giulia/GV0816/Pos13/Pos13_aligned/HDF/segmented.hdf5\n",
      "[INFO][2022/03/09 12:39:02 PM] Opening HDF file: /home/nathan/data/kraken/scr/h2b/giulia/GV0805/Pos4/Pos4_aligned/HDF/segmented.hdf5...\n",
      "[INFO][2022/03/09 12:39:02 PM] Loading tracks/obj_type_1\n"
     ]
    },
    {
     "name": "stdout",
     "output_type": "stream",
     "text": [
      "Track information loaded and ordered according to cell type (WT IDs >0> Scr IDs)\n",
      "Loaded GV0816/Pos13/\n",
      "ID GV0816_Pos13_25_GFP experiment: GV0816/Pos13/\n",
      "ID GV0805_Pos4_282_GFP experiment: GV0805/Pos4/\n",
      "Loading GV0805/Pos4/\n",
      "Btrack version no.: 0.4.3\n"
     ]
    },
    {
     "name": "stderr",
     "output_type": "stream",
     "text": [
      "[INFO][2022/03/09 12:39:04 PM] Loading objects/obj_type_1 (349354, 5) (331443 filtered: area>=100)\n",
      "[INFO][2022/03/09 12:39:08 PM] Closing HDF file: /home/nathan/data/kraken/scr/h2b/giulia/GV0805/Pos4/Pos4_aligned/HDF/segmented.hdf5\n",
      "[INFO][2022/03/09 12:39:08 PM] Opening HDF file: /home/nathan/data/kraken/scr/h2b/giulia/GV0805/Pos4/Pos4_aligned/HDF/segmented.hdf5...\n",
      "[INFO][2022/03/09 12:39:08 PM] Loading tracks/obj_type_2\n",
      "[INFO][2022/03/09 12:39:08 PM] Loading objects/obj_type_2 (54322, 5) (47931 filtered: area>=100)\n",
      "[INFO][2022/03/09 12:39:10 PM] Closing HDF file: /home/nathan/data/kraken/scr/h2b/giulia/GV0805/Pos4/Pos4_aligned/HDF/segmented.hdf5\n",
      "[INFO][2022/03/09 12:39:10 PM] Opening HDF file: /home/nathan/data/kraken/scr/h2b/giulia/GV0800/Pos16/Pos16_aligned/HDF/segmented.hdf5...\n",
      "[INFO][2022/03/09 12:39:10 PM] Loading tracks/obj_type_1\n"
     ]
    },
    {
     "name": "stdout",
     "output_type": "stream",
     "text": [
      "Track information loaded and ordered according to cell type (WT IDs >0> Scr IDs)\n",
      "Loaded GV0805/Pos4/\n",
      "ID GV0805_Pos4_686_GFP experiment: GV0805/Pos4/\n",
      "ID GV0805_Pos4_456_GFP experiment: GV0805/Pos4/\n",
      "ID GV0800_Pos16_327_GFP experiment: GV0800/Pos16/\n",
      "Loading GV0800/Pos16/\n",
      "Btrack version no.: 0.4.3\n"
     ]
    },
    {
     "name": "stderr",
     "output_type": "stream",
     "text": [
      "[INFO][2022/03/09 12:39:13 PM] Loading objects/obj_type_1 (361372, 5) (345214 filtered: area>=100)\n",
      "[INFO][2022/03/09 12:39:17 PM] Closing HDF file: /home/nathan/data/kraken/scr/h2b/giulia/GV0800/Pos16/Pos16_aligned/HDF/segmented.hdf5\n",
      "[INFO][2022/03/09 12:39:17 PM] Opening HDF file: /home/nathan/data/kraken/scr/h2b/giulia/GV0800/Pos16/Pos16_aligned/HDF/segmented.hdf5...\n",
      "[INFO][2022/03/09 12:39:17 PM] Loading tracks/obj_type_2\n",
      "[INFO][2022/03/09 12:39:18 PM] Loading objects/obj_type_2 (88705, 5) (75574 filtered: area>=100)\n",
      "[INFO][2022/03/09 12:39:19 PM] Closing HDF file: /home/nathan/data/kraken/scr/h2b/giulia/GV0800/Pos16/Pos16_aligned/HDF/segmented.hdf5\n",
      "[INFO][2022/03/09 12:39:19 PM] Opening HDF file: /home/nathan/data/kraken/scr/h2b/giulia/GV0796/Pos4/Pos4_aligned/HDF/segmented.hdf5...\n",
      "[INFO][2022/03/09 12:39:19 PM] Loading tracks/obj_type_1\n"
     ]
    },
    {
     "name": "stdout",
     "output_type": "stream",
     "text": [
      "Track information loaded and ordered according to cell type (WT IDs >0> Scr IDs)\n",
      "Loaded GV0800/Pos16/\n",
      "ID GV0800_Pos16_259_GFP experiment: GV0800/Pos16/\n",
      "ID GV0800_Pos16_265_GFP experiment: GV0800/Pos16/\n",
      "ID GV0800_Pos16_1376_GFP experiment: GV0800/Pos16/\n",
      "ID GV0800_Pos16_719_GFP experiment: GV0800/Pos16/\n",
      "ID GV0800_Pos16_720_GFP experiment: GV0800/Pos16/\n",
      "ID GV0796_Pos4_542_GFP experiment: GV0796/Pos4/\n",
      "Loading GV0796/Pos4/\n",
      "Btrack version no.: 0.4.3\n"
     ]
    },
    {
     "name": "stderr",
     "output_type": "stream",
     "text": [
      "[INFO][2022/03/09 12:39:22 PM] Loading objects/obj_type_1 (441082, 5) (424178 filtered: area>=100)\n",
      "[INFO][2022/03/09 12:39:28 PM] Closing HDF file: /home/nathan/data/kraken/scr/h2b/giulia/GV0796/Pos4/Pos4_aligned/HDF/segmented.hdf5\n",
      "[INFO][2022/03/09 12:39:28 PM] Opening HDF file: /home/nathan/data/kraken/scr/h2b/giulia/GV0796/Pos4/Pos4_aligned/HDF/segmented.hdf5...\n",
      "[INFO][2022/03/09 12:39:28 PM] Loading tracks/obj_type_2\n",
      "[INFO][2022/03/09 12:39:28 PM] Loading objects/obj_type_2 (72743, 5) (60501 filtered: area>=100)\n",
      "[INFO][2022/03/09 12:39:29 PM] Closing HDF file: /home/nathan/data/kraken/scr/h2b/giulia/GV0796/Pos4/Pos4_aligned/HDF/segmented.hdf5\n",
      "[INFO][2022/03/09 12:39:29 PM] Opening HDF file: /home/nathan/data/kraken/scr/h2b/giulia/GV0800/Pos6/Pos6_aligned/HDF/segmented.hdf5...\n",
      "[INFO][2022/03/09 12:39:29 PM] Loading tracks/obj_type_1\n"
     ]
    },
    {
     "name": "stdout",
     "output_type": "stream",
     "text": [
      "Track information loaded and ordered according to cell type (WT IDs >0> Scr IDs)\n",
      "Loaded GV0796/Pos4/\n",
      "ID GV0796_Pos4_1334_GFP experiment: GV0796/Pos4/\n",
      "ID GV0796_Pos4_1586_GFP experiment: GV0796/Pos4/\n",
      "ID GV0796_Pos4_1748_GFP experiment: GV0796/Pos4/\n",
      "ID GV0796_Pos4_2589_GFP experiment: GV0796/Pos4/\n",
      "ID GV0796_Pos4_723_GFP experiment: GV0796/Pos4/\n",
      "ID GV0796_Pos4_2259_GFP experiment: GV0796/Pos4/\n",
      "ID GV0800_Pos6_361_GFP experiment: GV0800/Pos6/\n",
      "Loading GV0800/Pos6/\n",
      "Btrack version no.: 0.4.3\n"
     ]
    },
    {
     "name": "stderr",
     "output_type": "stream",
     "text": [
      "[INFO][2022/03/09 12:39:30 PM] Loading objects/obj_type_1 (52406, 5) (44528 filtered: area>=100)\n",
      "[INFO][2022/03/09 12:39:31 PM] Closing HDF file: /home/nathan/data/kraken/scr/h2b/giulia/GV0800/Pos6/Pos6_aligned/HDF/segmented.hdf5\n",
      "[INFO][2022/03/09 12:39:31 PM] Opening HDF file: /home/nathan/data/kraken/scr/h2b/giulia/GV0800/Pos6/Pos6_aligned/HDF/segmented.hdf5...\n",
      "[INFO][2022/03/09 12:39:31 PM] Loading tracks/obj_type_2\n",
      "[INFO][2022/03/09 12:39:32 PM] Loading objects/obj_type_2 (113641, 5) (87932 filtered: area>=100)\n",
      "[INFO][2022/03/09 12:39:32 PM] Closing HDF file: /home/nathan/data/kraken/scr/h2b/giulia/GV0800/Pos6/Pos6_aligned/HDF/segmented.hdf5\n",
      "[INFO][2022/03/09 12:39:33 PM] Opening HDF file: /home/nathan/data/kraken/scr/h2b/giulia/GV0794/Pos4/Pos4_aligned/HDF/segmented.hdf5...\n",
      "[INFO][2022/03/09 12:39:33 PM] Loading tracks/obj_type_1\n"
     ]
    },
    {
     "name": "stdout",
     "output_type": "stream",
     "text": [
      "Track information loaded and ordered according to cell type (WT IDs >0> Scr IDs)\n",
      "Loaded GV0800/Pos6/\n",
      "ID GV0800_Pos6_302_GFP experiment: GV0800/Pos6/\n",
      "ID GV0794_Pos4_393_GFP experiment: GV0794/Pos4/\n",
      "Loading GV0794/Pos4/\n",
      "Btrack version no.: 0.4.3\n"
     ]
    },
    {
     "name": "stderr",
     "output_type": "stream",
     "text": [
      "[INFO][2022/03/09 12:39:33 PM] Loading objects/obj_type_1 (69360, 5) (64986 filtered: area>=100)\n",
      "[INFO][2022/03/09 12:39:34 PM] Closing HDF file: /home/nathan/data/kraken/scr/h2b/giulia/GV0794/Pos4/Pos4_aligned/HDF/segmented.hdf5\n",
      "[INFO][2022/03/09 12:39:34 PM] Opening HDF file: /home/nathan/data/kraken/scr/h2b/giulia/GV0794/Pos4/Pos4_aligned/HDF/segmented.hdf5...\n",
      "[INFO][2022/03/09 12:39:34 PM] Loading tracks/obj_type_2\n",
      "[INFO][2022/03/09 12:39:34 PM] Loading objects/obj_type_2 (13865, 5) (10538 filtered: area>=100)\n",
      "[INFO][2022/03/09 12:39:34 PM] Closing HDF file: /home/nathan/data/kraken/scr/h2b/giulia/GV0794/Pos4/Pos4_aligned/HDF/segmented.hdf5\n",
      "[INFO][2022/03/09 12:39:34 PM] Opening HDF file: /home/nathan/data/kraken/scr/h2b/giulia/GV0820/Pos4/Pos4_aligned/HDF/segmented.hdf5...\n",
      "[INFO][2022/03/09 12:39:34 PM] Loading tracks/obj_type_1\n"
     ]
    },
    {
     "name": "stdout",
     "output_type": "stream",
     "text": [
      "Track information loaded and ordered according to cell type (WT IDs >0> Scr IDs)\n",
      "Loaded GV0794/Pos4/\n",
      "ID GV0820_Pos4_684_GFP experiment: GV0820/Pos4/\n",
      "Loading GV0820/Pos4/\n",
      "Btrack version no.: 0.4.3\n"
     ]
    },
    {
     "name": "stderr",
     "output_type": "stream",
     "text": [
      "[INFO][2022/03/09 12:39:36 PM] Loading objects/obj_type_1 (189653, 5) (175798 filtered: area>=100)\n",
      "[INFO][2022/03/09 12:39:38 PM] Closing HDF file: /home/nathan/data/kraken/scr/h2b/giulia/GV0820/Pos4/Pos4_aligned/HDF/segmented.hdf5\n",
      "[INFO][2022/03/09 12:39:38 PM] Opening HDF file: /home/nathan/data/kraken/scr/h2b/giulia/GV0820/Pos4/Pos4_aligned/HDF/segmented.hdf5...\n",
      "[INFO][2022/03/09 12:39:38 PM] Loading tracks/obj_type_2\n",
      "[INFO][2022/03/09 12:39:38 PM] Loading objects/obj_type_2 (82474, 5) (72948 filtered: area>=100)\n",
      "[INFO][2022/03/09 12:39:39 PM] Closing HDF file: /home/nathan/data/kraken/scr/h2b/giulia/GV0820/Pos4/Pos4_aligned/HDF/segmented.hdf5\n",
      "[INFO][2022/03/09 12:39:39 PM] Opening HDF file: /home/nathan/data/kraken/scr/h2b/giulia/GV0796/Pos19/Pos19_aligned/HDF/segmented.hdf5...\n",
      "[INFO][2022/03/09 12:39:39 PM] Loading tracks/obj_type_1\n"
     ]
    },
    {
     "name": "stdout",
     "output_type": "stream",
     "text": [
      "Track information loaded and ordered according to cell type (WT IDs >0> Scr IDs)\n",
      "Loaded GV0820/Pos4/\n",
      "ID GV0820_Pos4_1034_GFP experiment: GV0820/Pos4/\n",
      "ID GV0820_Pos4_1634_GFP experiment: GV0820/Pos4/\n",
      "ID GV0796_Pos19_77_GFP experiment: GV0796/Pos19/\n",
      "Loading GV0796/Pos19/\n",
      "Btrack version no.: 0.4.3\n"
     ]
    },
    {
     "name": "stderr",
     "output_type": "stream",
     "text": [
      "[INFO][2022/03/09 12:39:43 PM] Loading objects/obj_type_1 (506574, 5) (490755 filtered: area>=100)\n",
      "[INFO][2022/03/09 12:39:49 PM] Closing HDF file: /home/nathan/data/kraken/scr/h2b/giulia/GV0796/Pos19/Pos19_aligned/HDF/segmented.hdf5\n",
      "[INFO][2022/03/09 12:39:49 PM] Opening HDF file: /home/nathan/data/kraken/scr/h2b/giulia/GV0796/Pos19/Pos19_aligned/HDF/segmented.hdf5...\n",
      "[INFO][2022/03/09 12:39:49 PM] Loading tracks/obj_type_2\n",
      "[INFO][2022/03/09 12:39:49 PM] Loading objects/obj_type_2 (13897, 5) (11779 filtered: area>=100)\n",
      "[INFO][2022/03/09 12:39:49 PM] Closing HDF file: /home/nathan/data/kraken/scr/h2b/giulia/GV0796/Pos19/Pos19_aligned/HDF/segmented.hdf5\n",
      "[INFO][2022/03/09 12:39:49 PM] Opening HDF file: /home/nathan/data/kraken/scr/h2b/giulia/GV0813/Pos3/Pos3_aligned/HDF/segmented.hdf5...\n",
      "[INFO][2022/03/09 12:39:49 PM] Loading tracks/obj_type_1\n"
     ]
    },
    {
     "name": "stdout",
     "output_type": "stream",
     "text": [
      "Track information loaded and ordered according to cell type (WT IDs >0> Scr IDs)\n",
      "Loaded GV0796/Pos19/\n",
      "ID GV0796_Pos19_441_GFP experiment: GV0796/Pos19/\n",
      "ID GV0796_Pos19_431_GFP experiment: GV0796/Pos19/\n",
      "ID GV0796_Pos19_2161_GFP experiment: GV0796/Pos19/\n",
      "ID GV0796_Pos19_1960_GFP experiment: GV0796/Pos19/\n",
      "ID GV0813_Pos3_362_GFP experiment: GV0813/Pos3/\n",
      "Loading GV0813/Pos3/\n",
      "Btrack version no.: 0.4.3\n"
     ]
    },
    {
     "name": "stderr",
     "output_type": "stream",
     "text": [
      "[INFO][2022/03/09 12:39:51 PM] Loading objects/obj_type_1 (153611, 5) (136100 filtered: area>=100)\n",
      "[INFO][2022/03/09 12:39:52 PM] Closing HDF file: /home/nathan/data/kraken/scr/h2b/giulia/GV0813/Pos3/Pos3_aligned/HDF/segmented.hdf5\n",
      "[INFO][2022/03/09 12:39:52 PM] Opening HDF file: /home/nathan/data/kraken/scr/h2b/giulia/GV0813/Pos3/Pos3_aligned/HDF/segmented.hdf5...\n",
      "[INFO][2022/03/09 12:39:52 PM] Loading tracks/obj_type_2\n",
      "[INFO][2022/03/09 12:39:52 PM] Loading objects/obj_type_2 (28558, 5) (22223 filtered: area>=100)\n",
      "[INFO][2022/03/09 12:39:54 PM] Closing HDF file: /home/nathan/data/kraken/scr/h2b/giulia/GV0813/Pos3/Pos3_aligned/HDF/segmented.hdf5\n",
      "[INFO][2022/03/09 12:39:54 PM] Opening HDF file: /home/nathan/data/kraken/scr/h2b/giulia/GV0813/Pos2/Pos2_aligned/HDF/segmented.hdf5...\n",
      "[INFO][2022/03/09 12:39:54 PM] Loading tracks/obj_type_1\n"
     ]
    },
    {
     "name": "stdout",
     "output_type": "stream",
     "text": [
      "Track information loaded and ordered according to cell type (WT IDs >0> Scr IDs)\n",
      "Loaded GV0813/Pos3/\n",
      "ID GV0813_Pos3_15_GFP experiment: GV0813/Pos3/\n",
      "ID GV0813_Pos3_33_GFP experiment: GV0813/Pos3/\n",
      "ID GV0813_Pos3_341_GFP experiment: GV0813/Pos3/\n",
      "ID GV0813_Pos3_513_GFP experiment: GV0813/Pos3/\n",
      "ID GV0813_Pos3_514_GFP experiment: GV0813/Pos3/\n",
      "ID GV0813_Pos3_599_GFP experiment: GV0813/Pos3/\n",
      "ID GV0813_Pos3_304_GFP experiment: GV0813/Pos3/\n",
      "ID GV0813_Pos3_535_GFP experiment: GV0813/Pos3/\n",
      "ID GV0813_Pos3_813_GFP experiment: GV0813/Pos3/\n",
      "ID GV0813_Pos3_1298_GFP experiment: GV0813/Pos3/\n",
      "ID GV0813_Pos3_538_GFP experiment: GV0813/Pos3/\n",
      "ID GV0813_Pos3_122_GFP experiment: GV0813/Pos3/\n",
      "ID GV0813_Pos2_589_GFP experiment: GV0813/Pos2/\n",
      "Loading GV0813/Pos2/\n",
      "Btrack version no.: 0.4.3\n"
     ]
    },
    {
     "name": "stderr",
     "output_type": "stream",
     "text": [
      "[INFO][2022/03/09 12:39:55 PM] Loading objects/obj_type_1 (142719, 5) (105609 filtered: area>=100)\n",
      "[INFO][2022/03/09 12:39:56 PM] Closing HDF file: /home/nathan/data/kraken/scr/h2b/giulia/GV0813/Pos2/Pos2_aligned/HDF/segmented.hdf5\n",
      "[INFO][2022/03/09 12:39:56 PM] Opening HDF file: /home/nathan/data/kraken/scr/h2b/giulia/GV0813/Pos2/Pos2_aligned/HDF/segmented.hdf5...\n",
      "[INFO][2022/03/09 12:39:56 PM] Loading tracks/obj_type_2\n",
      "[INFO][2022/03/09 12:39:56 PM] Loading objects/obj_type_2 (22756, 5) (19093 filtered: area>=100)\n",
      "[INFO][2022/03/09 12:39:56 PM] Closing HDF file: /home/nathan/data/kraken/scr/h2b/giulia/GV0813/Pos2/Pos2_aligned/HDF/segmented.hdf5\n",
      "[INFO][2022/03/09 12:39:56 PM] Opening HDF file: /home/nathan/data/kraken/scr/h2b/giulia/GV0814/Pos0/Pos0_aligned/HDF/segmented.hdf5...\n",
      "[INFO][2022/03/09 12:39:56 PM] Loading tracks/obj_type_1\n"
     ]
    },
    {
     "name": "stdout",
     "output_type": "stream",
     "text": [
      "Track information loaded and ordered according to cell type (WT IDs >0> Scr IDs)\n",
      "Loaded GV0813/Pos2/\n",
      "ID GV0813_Pos2_717_GFP experiment: GV0813/Pos2/\n",
      "ID GV0814_Pos0_578_GFP experiment: GV0814/Pos0/\n",
      "Loading GV0814/Pos0/\n",
      "Btrack version no.: 0.4.3\n"
     ]
    },
    {
     "name": "stderr",
     "output_type": "stream",
     "text": [
      "[INFO][2022/03/09 12:39:57 PM] Loading objects/obj_type_1 (134206, 5) (118580 filtered: area>=100)\n",
      "[INFO][2022/03/09 12:39:59 PM] Closing HDF file: /home/nathan/data/kraken/scr/h2b/giulia/GV0814/Pos0/Pos0_aligned/HDF/segmented.hdf5\n",
      "[INFO][2022/03/09 12:39:59 PM] Opening HDF file: /home/nathan/data/kraken/scr/h2b/giulia/GV0814/Pos0/Pos0_aligned/HDF/segmented.hdf5...\n",
      "[INFO][2022/03/09 12:39:59 PM] Loading tracks/obj_type_2\n",
      "[INFO][2022/03/09 12:39:59 PM] Loading objects/obj_type_2 (41136, 5) (25703 filtered: area>=100)\n",
      "[INFO][2022/03/09 12:39:59 PM] Closing HDF file: /home/nathan/data/kraken/scr/h2b/giulia/GV0814/Pos0/Pos0_aligned/HDF/segmented.hdf5\n",
      "[INFO][2022/03/09 12:39:59 PM] Opening HDF file: /home/nathan/data/kraken/scr/h2b/giulia/GV0797/Pos19/Pos19_aligned/HDF/segmented.hdf5...\n",
      "[INFO][2022/03/09 12:39:59 PM] Loading tracks/obj_type_1\n"
     ]
    },
    {
     "name": "stdout",
     "output_type": "stream",
     "text": [
      "Track information loaded and ordered according to cell type (WT IDs >0> Scr IDs)\n",
      "Loaded GV0814/Pos0/\n",
      "ID GV0814_Pos0_597_GFP experiment: GV0814/Pos0/\n",
      "ID GV0814_Pos0_452_GFP experiment: GV0814/Pos0/\n",
      "ID GV0814_Pos0_1322_GFP experiment: GV0814/Pos0/\n",
      "ID GV0814_Pos0_453_GFP experiment: GV0814/Pos0/\n",
      "ID GV0814_Pos0_26_GFP experiment: GV0814/Pos0/\n",
      "ID GV0814_Pos0_357_GFP experiment: GV0814/Pos0/\n",
      "ID GV0797_Pos19_451_GFP experiment: GV0797/Pos19/\n",
      "Loading GV0797/Pos19/\n",
      "Btrack version no.: 0.4.3\n"
     ]
    },
    {
     "name": "stderr",
     "output_type": "stream",
     "text": [
      "[INFO][2022/03/09 12:40:02 PM] Loading objects/obj_type_1 (309231, 5) (297729 filtered: area>=100)\n",
      "[INFO][2022/03/09 12:40:06 PM] Closing HDF file: /home/nathan/data/kraken/scr/h2b/giulia/GV0797/Pos19/Pos19_aligned/HDF/segmented.hdf5\n",
      "[INFO][2022/03/09 12:40:06 PM] Opening HDF file: /home/nathan/data/kraken/scr/h2b/giulia/GV0797/Pos19/Pos19_aligned/HDF/segmented.hdf5...\n",
      "[INFO][2022/03/09 12:40:06 PM] Loading tracks/obj_type_2\n",
      "[INFO][2022/03/09 12:40:06 PM] Loading objects/obj_type_2 (4035, 5) (2645 filtered: area>=100)\n",
      "[INFO][2022/03/09 12:40:06 PM] Closing HDF file: /home/nathan/data/kraken/scr/h2b/giulia/GV0797/Pos19/Pos19_aligned/HDF/segmented.hdf5\n",
      "[INFO][2022/03/09 12:40:06 PM] Opening HDF file: /home/nathan/data/kraken/scr/h2b/giulia/GV0798/Pos18/Pos18_aligned/HDF/segmented.hdf5...\n",
      "[INFO][2022/03/09 12:40:06 PM] Loading tracks/obj_type_1\n"
     ]
    },
    {
     "name": "stdout",
     "output_type": "stream",
     "text": [
      "Track information loaded and ordered according to cell type (WT IDs >0> Scr IDs)\n",
      "Loaded GV0797/Pos19/\n",
      "ID GV0797_Pos19_546_GFP experiment: GV0797/Pos19/\n",
      "ID GV0797_Pos19_1229_GFP experiment: GV0797/Pos19/\n",
      "ID GV0798_Pos18_353_GFP experiment: GV0798/Pos18/\n",
      "Loading GV0798/Pos18/\n",
      "Btrack version no.: 0.4.3\n"
     ]
    },
    {
     "name": "stderr",
     "output_type": "stream",
     "text": [
      "[INFO][2022/03/09 12:40:09 PM] Loading objects/obj_type_1 (429266, 5) (414111 filtered: area>=100)\n",
      "[INFO][2022/03/09 12:40:14 PM] Closing HDF file: /home/nathan/data/kraken/scr/h2b/giulia/GV0798/Pos18/Pos18_aligned/HDF/segmented.hdf5\n",
      "[INFO][2022/03/09 12:40:14 PM] Opening HDF file: /home/nathan/data/kraken/scr/h2b/giulia/GV0798/Pos18/Pos18_aligned/HDF/segmented.hdf5...\n",
      "[INFO][2022/03/09 12:40:14 PM] Loading tracks/obj_type_2\n",
      "[INFO][2022/03/09 12:40:14 PM] Loading objects/obj_type_2 (9488, 5) (7986 filtered: area>=100)\n",
      "[INFO][2022/03/09 12:40:14 PM] Closing HDF file: /home/nathan/data/kraken/scr/h2b/giulia/GV0798/Pos18/Pos18_aligned/HDF/segmented.hdf5\n",
      "[INFO][2022/03/09 12:40:14 PM] Opening HDF file: /home/nathan/data/kraken/scr/h2b/giulia/GV0797/Pos4/Pos4_aligned/HDF/segmented.hdf5...\n",
      "[INFO][2022/03/09 12:40:14 PM] Loading tracks/obj_type_1\n"
     ]
    },
    {
     "name": "stdout",
     "output_type": "stream",
     "text": [
      "Track information loaded and ordered according to cell type (WT IDs >0> Scr IDs)\n",
      "Loaded GV0798/Pos18/\n",
      "ID GV0797_Pos4_290_GFP experiment: GV0797/Pos4/\n",
      "Loading GV0797/Pos4/\n",
      "Btrack version no.: 0.4.3\n"
     ]
    },
    {
     "name": "stderr",
     "output_type": "stream",
     "text": [
      "[INFO][2022/03/09 12:40:16 PM] Loading objects/obj_type_1 (298548, 5) (283305 filtered: area>=100)\n",
      "[INFO][2022/03/09 12:40:20 PM] Closing HDF file: /home/nathan/data/kraken/scr/h2b/giulia/GV0797/Pos4/Pos4_aligned/HDF/segmented.hdf5\n",
      "[INFO][2022/03/09 12:40:20 PM] Opening HDF file: /home/nathan/data/kraken/scr/h2b/giulia/GV0797/Pos4/Pos4_aligned/HDF/segmented.hdf5...\n",
      "[INFO][2022/03/09 12:40:20 PM] Loading tracks/obj_type_2\n",
      "[INFO][2022/03/09 12:40:21 PM] Loading objects/obj_type_2 (52032, 5) (37211 filtered: area>=100)\n",
      "[INFO][2022/03/09 12:40:22 PM] Closing HDF file: /home/nathan/data/kraken/scr/h2b/giulia/GV0797/Pos4/Pos4_aligned/HDF/segmented.hdf5\n",
      "[INFO][2022/03/09 12:40:22 PM] Opening HDF file: /home/nathan/data/kraken/scr/h2b/giulia/GV0819/Pos5/Pos5_aligned/HDF/segmented.hdf5...\n",
      "[INFO][2022/03/09 12:40:22 PM] Loading tracks/obj_type_1\n"
     ]
    },
    {
     "name": "stdout",
     "output_type": "stream",
     "text": [
      "Track information loaded and ordered according to cell type (WT IDs >0> Scr IDs)\n",
      "Loaded GV0797/Pos4/\n",
      "ID GV0797_Pos4_1397_GFP experiment: GV0797/Pos4/\n",
      "ID GV0797_Pos4_825_GFP experiment: GV0797/Pos4/\n",
      "ID GV0797_Pos4_1823_GFP experiment: GV0797/Pos4/\n",
      "ID GV0797_Pos4_1006_GFP experiment: GV0797/Pos4/\n",
      "ID GV0797_Pos4_1487_GFP experiment: GV0797/Pos4/\n",
      "ID GV0797_Pos4_1486_GFP experiment: GV0797/Pos4/\n",
      "ID GV0797_Pos4_2398_GFP experiment: GV0797/Pos4/\n",
      "ID GV0797_Pos4_2468_GFP experiment: GV0797/Pos4/\n",
      "ID GV0819_Pos5_1411_GFP experiment: GV0819/Pos5/\n",
      "Loading GV0819/Pos5/\n",
      "Btrack version no.: 0.4.3\n"
     ]
    },
    {
     "name": "stderr",
     "output_type": "stream",
     "text": [
      "[INFO][2022/03/09 12:40:24 PM] Loading objects/obj_type_1 (305714, 5) (290346 filtered: area>=100)\n",
      "[INFO][2022/03/09 12:40:27 PM] Closing HDF file: /home/nathan/data/kraken/scr/h2b/giulia/GV0819/Pos5/Pos5_aligned/HDF/segmented.hdf5\n",
      "[INFO][2022/03/09 12:40:27 PM] Opening HDF file: /home/nathan/data/kraken/scr/h2b/giulia/GV0819/Pos5/Pos5_aligned/HDF/segmented.hdf5...\n",
      "[INFO][2022/03/09 12:40:27 PM] Loading tracks/obj_type_2\n",
      "[INFO][2022/03/09 12:40:28 PM] Loading objects/obj_type_2 (84463, 5) (70183 filtered: area>=100)\n",
      "[INFO][2022/03/09 12:40:29 PM] Closing HDF file: /home/nathan/data/kraken/scr/h2b/giulia/GV0819/Pos5/Pos5_aligned/HDF/segmented.hdf5\n",
      "[INFO][2022/03/09 12:40:30 PM] Opening HDF file: /home/nathan/data/kraken/scr/h2b/giulia/GV0797/Pos7/Pos7_aligned/HDF/segmented.hdf5...\n",
      "[INFO][2022/03/09 12:40:30 PM] Loading tracks/obj_type_1\n"
     ]
    },
    {
     "name": "stdout",
     "output_type": "stream",
     "text": [
      "Track information loaded and ordered according to cell type (WT IDs >0> Scr IDs)\n",
      "Loaded GV0819/Pos5/\n",
      "ID GV0819_Pos5_1374_GFP experiment: GV0819/Pos5/\n",
      "ID GV0819_Pos5_1098_GFP experiment: GV0819/Pos5/\n",
      "ID GV0797_Pos7_724_GFP experiment: GV0797/Pos7/\n",
      "Loading GV0797/Pos7/\n",
      "Btrack version no.: 0.4.3\n"
     ]
    },
    {
     "name": "stderr",
     "output_type": "stream",
     "text": [
      "[INFO][2022/03/09 12:40:31 PM] Loading objects/obj_type_1 (207794, 5) (196573 filtered: area>=100)\n",
      "[INFO][2022/03/09 12:40:33 PM] Closing HDF file: /home/nathan/data/kraken/scr/h2b/giulia/GV0797/Pos7/Pos7_aligned/HDF/segmented.hdf5\n",
      "[INFO][2022/03/09 12:40:33 PM] Opening HDF file: /home/nathan/data/kraken/scr/h2b/giulia/GV0797/Pos7/Pos7_aligned/HDF/segmented.hdf5...\n",
      "[INFO][2022/03/09 12:40:33 PM] Loading tracks/obj_type_2\n",
      "[INFO][2022/03/09 12:40:34 PM] Loading objects/obj_type_2 (22939, 5) (18826 filtered: area>=100)\n",
      "[INFO][2022/03/09 12:40:34 PM] Closing HDF file: /home/nathan/data/kraken/scr/h2b/giulia/GV0797/Pos7/Pos7_aligned/HDF/segmented.hdf5\n",
      "[INFO][2022/03/09 12:40:34 PM] Opening HDF file: /home/nathan/data/kraken/scr/h2b/giulia/GV0797/Pos20/Pos20_aligned/HDF/segmented.hdf5...\n",
      "[INFO][2022/03/09 12:40:34 PM] Loading tracks/obj_type_1\n"
     ]
    },
    {
     "name": "stdout",
     "output_type": "stream",
     "text": [
      "Track information loaded and ordered according to cell type (WT IDs >0> Scr IDs)\n",
      "Loaded GV0797/Pos7/\n",
      "ID GV0797_Pos7_192_GFP experiment: GV0797/Pos7/\n",
      "ID GV0797_Pos7_230_GFP experiment: GV0797/Pos7/\n",
      "ID GV0797_Pos7_1103_GFP experiment: GV0797/Pos7/\n",
      "ID GV0797_Pos7_1029_GFP experiment: GV0797/Pos7/\n",
      "ID GV0797_Pos20_92_GFP experiment: GV0797/Pos20/\n",
      "Loading GV0797/Pos20/\n",
      "Btrack version no.: 0.4.3\n"
     ]
    },
    {
     "name": "stderr",
     "output_type": "stream",
     "text": [
      "[INFO][2022/03/09 12:40:35 PM] Loading objects/obj_type_1 (193103, 5) (183703 filtered: area>=100)\n",
      "[INFO][2022/03/09 12:40:37 PM] Closing HDF file: /home/nathan/data/kraken/scr/h2b/giulia/GV0797/Pos20/Pos20_aligned/HDF/segmented.hdf5\n",
      "[INFO][2022/03/09 12:40:37 PM] Opening HDF file: /home/nathan/data/kraken/scr/h2b/giulia/GV0797/Pos20/Pos20_aligned/HDF/segmented.hdf5...\n",
      "[INFO][2022/03/09 12:40:37 PM] Loading tracks/obj_type_2\n",
      "[INFO][2022/03/09 12:40:37 PM] Loading objects/obj_type_2 (12311, 5) (8874 filtered: area>=100)\n",
      "[INFO][2022/03/09 12:40:37 PM] Closing HDF file: /home/nathan/data/kraken/scr/h2b/giulia/GV0797/Pos20/Pos20_aligned/HDF/segmented.hdf5\n",
      "[INFO][2022/03/09 12:40:37 PM] Opening HDF file: /home/nathan/data/kraken/scr/h2b/giulia/GV0815/Pos12/Pos12_aligned/HDF/segmented.hdf5...\n",
      "[INFO][2022/03/09 12:40:38 PM] Loading tracks/obj_type_1\n"
     ]
    },
    {
     "name": "stdout",
     "output_type": "stream",
     "text": [
      "Track information loaded and ordered according to cell type (WT IDs >0> Scr IDs)\n",
      "Loaded GV0797/Pos20/\n",
      "ID GV0797_Pos20_39_GFP experiment: GV0797/Pos20/\n",
      "ID GV0797_Pos20_662_GFP experiment: GV0797/Pos20/\n",
      "ID GV0797_Pos20_880_GFP experiment: GV0797/Pos20/\n",
      "ID GV0815_Pos12_1143_GFP experiment: GV0815/Pos12/\n",
      "Loading GV0815/Pos12/\n",
      "Btrack version no.: 0.4.3\n"
     ]
    },
    {
     "name": "stderr",
     "output_type": "stream",
     "text": [
      "[INFO][2022/03/09 12:40:39 PM] Loading objects/obj_type_1 (224299, 5) (200430 filtered: area>=100)\n",
      "[INFO][2022/03/09 12:40:42 PM] Closing HDF file: /home/nathan/data/kraken/scr/h2b/giulia/GV0815/Pos12/Pos12_aligned/HDF/segmented.hdf5\n",
      "[INFO][2022/03/09 12:40:42 PM] Opening HDF file: /home/nathan/data/kraken/scr/h2b/giulia/GV0815/Pos12/Pos12_aligned/HDF/segmented.hdf5...\n",
      "[INFO][2022/03/09 12:40:42 PM] Loading tracks/obj_type_2\n",
      "[INFO][2022/03/09 12:40:42 PM] Loading objects/obj_type_2 (51057, 5) (39432 filtered: area>=100)\n",
      "[INFO][2022/03/09 12:40:43 PM] Closing HDF file: /home/nathan/data/kraken/scr/h2b/giulia/GV0815/Pos12/Pos12_aligned/HDF/segmented.hdf5\n",
      "[INFO][2022/03/09 12:40:43 PM] Opening HDF file: /home/nathan/data/kraken/scr/h2b/giulia/GV0796/Pos8/Pos8_aligned/HDF/segmented.hdf5...\n",
      "[INFO][2022/03/09 12:40:43 PM] Loading tracks/obj_type_1\n"
     ]
    },
    {
     "name": "stdout",
     "output_type": "stream",
     "text": [
      "Track information loaded and ordered according to cell type (WT IDs >0> Scr IDs)\n",
      "Loaded GV0815/Pos12/\n",
      "ID GV0815_Pos12_1142_GFP experiment: GV0815/Pos12/\n",
      "ID GV0815_Pos12_799_GFP experiment: GV0815/Pos12/\n",
      "ID GV0815_Pos12_1521_GFP experiment: GV0815/Pos12/\n",
      "ID GV0815_Pos12_817_GFP experiment: GV0815/Pos12/\n",
      "ID GV0815_Pos12_2169_GFP experiment: GV0815/Pos12/\n",
      "ID GV0796_Pos8_41_GFP experiment: GV0796/Pos8/\n",
      "Loading GV0796/Pos8/\n",
      "Btrack version no.: 0.4.3\n"
     ]
    },
    {
     "name": "stderr",
     "output_type": "stream",
     "text": [
      "[INFO][2022/03/09 12:40:46 PM] Loading objects/obj_type_1 (459180, 5) (445430 filtered: area>=100)\n",
      "[INFO][2022/03/09 12:40:52 PM] Closing HDF file: /home/nathan/data/kraken/scr/h2b/giulia/GV0796/Pos8/Pos8_aligned/HDF/segmented.hdf5\n",
      "[INFO][2022/03/09 12:40:52 PM] Opening HDF file: /home/nathan/data/kraken/scr/h2b/giulia/GV0796/Pos8/Pos8_aligned/HDF/segmented.hdf5...\n",
      "[INFO][2022/03/09 12:40:52 PM] Loading tracks/obj_type_2\n",
      "[INFO][2022/03/09 12:40:52 PM] Loading objects/obj_type_2 (10613, 5) (8656 filtered: area>=100)\n",
      "[INFO][2022/03/09 12:40:52 PM] Closing HDF file: /home/nathan/data/kraken/scr/h2b/giulia/GV0796/Pos8/Pos8_aligned/HDF/segmented.hdf5\n",
      "[INFO][2022/03/09 12:40:52 PM] Opening HDF file: /home/nathan/data/kraken/scr/h2b/giulia/GV0819/Pos1/Pos1_aligned/HDF/segmented.hdf5...\n",
      "[INFO][2022/03/09 12:40:52 PM] Loading tracks/obj_type_1\n"
     ]
    },
    {
     "name": "stdout",
     "output_type": "stream",
     "text": [
      "Track information loaded and ordered according to cell type (WT IDs >0> Scr IDs)\n",
      "Loaded GV0796/Pos8/\n",
      "ID GV0796_Pos8_423_GFP experiment: GV0796/Pos8/\n",
      "ID GV0819_Pos1_34_GFP experiment: GV0819/Pos1/\n",
      "Loading GV0819/Pos1/\n",
      "Btrack version no.: 0.4.3\n"
     ]
    },
    {
     "name": "stderr",
     "output_type": "stream",
     "text": [
      "[INFO][2022/03/09 12:40:54 PM] Loading objects/obj_type_1 (291961, 5) (262012 filtered: area>=100)\n",
      "[INFO][2022/03/09 12:40:57 PM] Closing HDF file: /home/nathan/data/kraken/scr/h2b/giulia/GV0819/Pos1/Pos1_aligned/HDF/segmented.hdf5\n",
      "[INFO][2022/03/09 12:40:57 PM] Opening HDF file: /home/nathan/data/kraken/scr/h2b/giulia/GV0819/Pos1/Pos1_aligned/HDF/segmented.hdf5...\n",
      "[INFO][2022/03/09 12:40:57 PM] Loading tracks/obj_type_2\n",
      "[INFO][2022/03/09 12:40:57 PM] Loading objects/obj_type_2 (51130, 5) (42876 filtered: area>=100)\n",
      "[INFO][2022/03/09 12:40:59 PM] Closing HDF file: /home/nathan/data/kraken/scr/h2b/giulia/GV0819/Pos1/Pos1_aligned/HDF/segmented.hdf5\n",
      "[INFO][2022/03/09 12:40:59 PM] Opening HDF file: /home/nathan/data/kraken/scr/h2b/giulia/GV0806/Pos5/Pos5_aligned/HDF/segmented.hdf5...\n",
      "[INFO][2022/03/09 12:40:59 PM] Loading tracks/obj_type_1\n"
     ]
    },
    {
     "name": "stdout",
     "output_type": "stream",
     "text": [
      "Track information loaded and ordered according to cell type (WT IDs >0> Scr IDs)\n",
      "Loaded GV0819/Pos1/\n",
      "ID GV0819_Pos1_425_GFP experiment: GV0819/Pos1/\n",
      "ID GV0819_Pos1_653_GFP experiment: GV0819/Pos1/\n",
      "ID GV0819_Pos1_739_GFP experiment: GV0819/Pos1/\n",
      "ID GV0819_Pos1_1068_GFP experiment: GV0819/Pos1/\n",
      "ID GV0819_Pos1_941_GFP experiment: GV0819/Pos1/\n",
      "ID GV0819_Pos1_942_GFP experiment: GV0819/Pos1/\n",
      "ID GV0819_Pos1_1745_GFP experiment: GV0819/Pos1/\n",
      "ID GV0819_Pos1_798_GFP experiment: GV0819/Pos1/\n",
      "ID GV0806_Pos5_124_GFP experiment: GV0806/Pos5/\n",
      "Loading GV0806/Pos5/\n",
      "Btrack version no.: 0.4.3\n"
     ]
    },
    {
     "name": "stderr",
     "output_type": "stream",
     "text": [
      "[INFO][2022/03/09 12:41:00 PM] Loading objects/obj_type_1 (76725, 5) (65455 filtered: area>=100)\n",
      "[INFO][2022/03/09 12:41:00 PM] Closing HDF file: /home/nathan/data/kraken/scr/h2b/giulia/GV0806/Pos5/Pos5_aligned/HDF/segmented.hdf5\n",
      "[INFO][2022/03/09 12:41:00 PM] Opening HDF file: /home/nathan/data/kraken/scr/h2b/giulia/GV0806/Pos5/Pos5_aligned/HDF/segmented.hdf5...\n",
      "[INFO][2022/03/09 12:41:00 PM] Loading tracks/obj_type_2\n",
      "[INFO][2022/03/09 12:41:01 PM] Loading objects/obj_type_2 (76899, 5) (56104 filtered: area>=100)\n",
      "[INFO][2022/03/09 12:41:01 PM] Closing HDF file: /home/nathan/data/kraken/scr/h2b/giulia/GV0806/Pos5/Pos5_aligned/HDF/segmented.hdf5\n",
      "[INFO][2022/03/09 12:41:01 PM] Opening HDF file: /home/nathan/data/kraken/scr/h2b/giulia/GV0820/Pos5/Pos5_aligned/HDF/segmented.hdf5...\n",
      "[INFO][2022/03/09 12:41:01 PM] Loading tracks/obj_type_1\n"
     ]
    },
    {
     "name": "stdout",
     "output_type": "stream",
     "text": [
      "Track information loaded and ordered according to cell type (WT IDs >0> Scr IDs)\n",
      "Loaded GV0806/Pos5/\n",
      "ID GV0820_Pos5_47_GFP experiment: GV0820/Pos5/\n",
      "Loading GV0820/Pos5/\n",
      "Btrack version no.: 0.4.3\n"
     ]
    },
    {
     "name": "stderr",
     "output_type": "stream",
     "text": [
      "[INFO][2022/03/09 12:41:03 PM] Loading objects/obj_type_1 (168718, 5) (157112 filtered: area>=100)\n",
      "[INFO][2022/03/09 12:41:04 PM] Closing HDF file: /home/nathan/data/kraken/scr/h2b/giulia/GV0820/Pos5/Pos5_aligned/HDF/segmented.hdf5\n",
      "[INFO][2022/03/09 12:41:04 PM] Opening HDF file: /home/nathan/data/kraken/scr/h2b/giulia/GV0820/Pos5/Pos5_aligned/HDF/segmented.hdf5...\n",
      "[INFO][2022/03/09 12:41:04 PM] Loading tracks/obj_type_2\n",
      "[INFO][2022/03/09 12:41:05 PM] Loading objects/obj_type_2 (75424, 5) (61898 filtered: area>=100)\n",
      "[INFO][2022/03/09 12:41:06 PM] Closing HDF file: /home/nathan/data/kraken/scr/h2b/giulia/GV0820/Pos5/Pos5_aligned/HDF/segmented.hdf5\n",
      "[INFO][2022/03/09 12:41:06 PM] Opening HDF file: /home/nathan/data/kraken/scr/h2b/giulia/GV0796/Pos21/Pos21_aligned/HDF/segmented.hdf5...\n",
      "[INFO][2022/03/09 12:41:06 PM] Loading tracks/obj_type_1\n"
     ]
    },
    {
     "name": "stdout",
     "output_type": "stream",
     "text": [
      "Track information loaded and ordered according to cell type (WT IDs >0> Scr IDs)\n",
      "Loaded GV0820/Pos5/\n",
      "ID GV0820_Pos5_48_GFP experiment: GV0820/Pos5/\n",
      "ID GV0820_Pos5_417_GFP experiment: GV0820/Pos5/\n",
      "ID GV0820_Pos5_1837_GFP experiment: GV0820/Pos5/\n",
      "ID GV0796_Pos21_2923_GFP experiment: GV0796/Pos21/\n",
      "Loading GV0796/Pos21/\n",
      "Btrack version no.: 0.4.3\n"
     ]
    },
    {
     "name": "stderr",
     "output_type": "stream",
     "text": [
      "[INFO][2022/03/09 12:41:08 PM] Loading objects/obj_type_1 (307793, 5) (293005 filtered: area>=100)\n",
      "[INFO][2022/03/09 12:41:12 PM] Closing HDF file: /home/nathan/data/kraken/scr/h2b/giulia/GV0796/Pos21/Pos21_aligned/HDF/segmented.hdf5\n",
      "[INFO][2022/03/09 12:41:12 PM] Opening HDF file: /home/nathan/data/kraken/scr/h2b/giulia/GV0796/Pos21/Pos21_aligned/HDF/segmented.hdf5...\n",
      "[INFO][2022/03/09 12:41:12 PM] Loading tracks/obj_type_2\n",
      "[INFO][2022/03/09 12:41:12 PM] Loading objects/obj_type_2 (46439, 5) (38835 filtered: area>=100)\n",
      "[INFO][2022/03/09 12:41:13 PM] Closing HDF file: /home/nathan/data/kraken/scr/h2b/giulia/GV0796/Pos21/Pos21_aligned/HDF/segmented.hdf5\n",
      "[INFO][2022/03/09 12:41:13 PM] Opening HDF file: /home/nathan/data/kraken/scr/h2b/giulia/GV0798/Pos23/Pos23_aligned/HDF/segmented.hdf5...\n",
      "[INFO][2022/03/09 12:41:13 PM] Loading tracks/obj_type_1\n"
     ]
    },
    {
     "name": "stdout",
     "output_type": "stream",
     "text": [
      "Track information loaded and ordered according to cell type (WT IDs >0> Scr IDs)\n",
      "Loaded GV0796/Pos21/\n",
      "ID GV0796_Pos21_788_GFP experiment: GV0796/Pos21/\n",
      "ID GV0798_Pos23_72_GFP experiment: GV0798/Pos23/\n",
      "Loading GV0798/Pos23/\n",
      "Btrack version no.: 0.4.3\n"
     ]
    },
    {
     "name": "stderr",
     "output_type": "stream",
     "text": [
      "[INFO][2022/03/09 12:41:14 PM] Loading objects/obj_type_1 (122661, 5) (114306 filtered: area>=100)\n",
      "[INFO][2022/03/09 12:41:15 PM] Closing HDF file: /home/nathan/data/kraken/scr/h2b/giulia/GV0798/Pos23/Pos23_aligned/HDF/segmented.hdf5\n",
      "[INFO][2022/03/09 12:41:15 PM] Opening HDF file: /home/nathan/data/kraken/scr/h2b/giulia/GV0798/Pos23/Pos23_aligned/HDF/segmented.hdf5...\n",
      "[INFO][2022/03/09 12:41:15 PM] Loading tracks/obj_type_2\n",
      "[INFO][2022/03/09 12:41:16 PM] Loading objects/obj_type_2 (120909, 5) (98424 filtered: area>=100)\n",
      "[INFO][2022/03/09 12:41:18 PM] Closing HDF file: /home/nathan/data/kraken/scr/h2b/giulia/GV0798/Pos23/Pos23_aligned/HDF/segmented.hdf5\n",
      "[INFO][2022/03/09 12:41:18 PM] Opening HDF file: /home/nathan/data/kraken/scr/h2b/giulia/GV0818/Pos13/Pos13_aligned/HDF/segmented.hdf5...\n",
      "[INFO][2022/03/09 12:41:18 PM] Loading tracks/obj_type_1\n"
     ]
    },
    {
     "name": "stdout",
     "output_type": "stream",
     "text": [
      "Track information loaded and ordered according to cell type (WT IDs >0> Scr IDs)\n",
      "Loaded GV0798/Pos23/\n",
      "ID GV0798_Pos23_261_GFP experiment: GV0798/Pos23/\n",
      "ID GV0798_Pos23_976_GFP experiment: GV0798/Pos23/\n",
      "ID GV0798_Pos23_536_GFP experiment: GV0798/Pos23/\n",
      "ID GV0818_Pos13_353_GFP experiment: GV0818/Pos13/\n",
      "Loading GV0818/Pos13/\n",
      "Btrack version no.: 0.4.3\n"
     ]
    },
    {
     "name": "stderr",
     "output_type": "stream",
     "text": [
      "[INFO][2022/03/09 12:41:20 PM] Loading objects/obj_type_1 (380641, 5) (364472 filtered: area>=100)\n",
      "[INFO][2022/03/09 12:41:25 PM] Closing HDF file: /home/nathan/data/kraken/scr/h2b/giulia/GV0818/Pos13/Pos13_aligned/HDF/segmented.hdf5\n",
      "[INFO][2022/03/09 12:41:25 PM] Opening HDF file: /home/nathan/data/kraken/scr/h2b/giulia/GV0818/Pos13/Pos13_aligned/HDF/segmented.hdf5...\n",
      "[INFO][2022/03/09 12:41:25 PM] Loading tracks/obj_type_2\n",
      "[INFO][2022/03/09 12:41:25 PM] Loading objects/obj_type_2 (48215, 5) (40565 filtered: area>=100)\n",
      "[INFO][2022/03/09 12:41:26 PM] Closing HDF file: /home/nathan/data/kraken/scr/h2b/giulia/GV0818/Pos13/Pos13_aligned/HDF/segmented.hdf5\n",
      "[INFO][2022/03/09 12:41:26 PM] Opening HDF file: /home/nathan/data/kraken/scr/h2b/giulia/GV0817/Pos23/Pos23_aligned/HDF/segmented.hdf5...\n",
      "[INFO][2022/03/09 12:41:26 PM] Loading tracks/obj_type_1\n"
     ]
    },
    {
     "name": "stdout",
     "output_type": "stream",
     "text": [
      "Track information loaded and ordered according to cell type (WT IDs >0> Scr IDs)\n",
      "Loaded GV0818/Pos13/\n",
      "ID GV0818_Pos13_1205_GFP experiment: GV0818/Pos13/\n",
      "ID GV0818_Pos13_1365_GFP experiment: GV0818/Pos13/\n",
      "ID GV0818_Pos13_3452_GFP experiment: GV0818/Pos13/\n",
      "ID GV0818_Pos13_3451_GFP experiment: GV0818/Pos13/\n",
      "ID GV0817_Pos23_22_GFP experiment: GV0817/Pos23/\n",
      "Loading GV0817/Pos23/\n",
      "Btrack version no.: 0.4.3\n"
     ]
    },
    {
     "name": "stderr",
     "output_type": "stream",
     "text": [
      "[INFO][2022/03/09 12:41:30 PM] Loading objects/obj_type_1 (450270, 5) (428734 filtered: area>=100)\n",
      "[INFO][2022/03/09 12:41:35 PM] Closing HDF file: /home/nathan/data/kraken/scr/h2b/giulia/GV0817/Pos23/Pos23_aligned/HDF/segmented.hdf5\n",
      "[INFO][2022/03/09 12:41:35 PM] Opening HDF file: /home/nathan/data/kraken/scr/h2b/giulia/GV0817/Pos23/Pos23_aligned/HDF/segmented.hdf5...\n",
      "[INFO][2022/03/09 12:41:35 PM] Loading tracks/obj_type_2\n",
      "[INFO][2022/03/09 12:41:36 PM] Loading objects/obj_type_2 (96198, 5) (80996 filtered: area>=100)\n",
      "[INFO][2022/03/09 12:41:38 PM] Closing HDF file: /home/nathan/data/kraken/scr/h2b/giulia/GV0817/Pos23/Pos23_aligned/HDF/segmented.hdf5\n",
      "[INFO][2022/03/09 12:41:38 PM] Opening HDF file: /home/nathan/data/kraken/scr/h2b/giulia/GV0794/Pos3/Pos3_aligned/HDF/segmented.hdf5...\n",
      "[INFO][2022/03/09 12:41:38 PM] Loading tracks/obj_type_1\n"
     ]
    },
    {
     "name": "stdout",
     "output_type": "stream",
     "text": [
      "Track information loaded and ordered according to cell type (WT IDs >0> Scr IDs)\n",
      "Loaded GV0817/Pos23/\n",
      "ID GV0817_Pos23_389_GFP experiment: GV0817/Pos23/\n",
      "ID GV0817_Pos23_967_GFP experiment: GV0817/Pos23/\n",
      "ID GV0817_Pos23_216_GFP experiment: GV0817/Pos23/\n",
      "ID GV0817_Pos23_1183_GFP experiment: GV0817/Pos23/\n",
      "ID GV0817_Pos23_13_GFP experiment: GV0817/Pos23/\n",
      "ID GV0817_Pos23_3375_GFP experiment: GV0817/Pos23/\n",
      "ID GV0817_Pos23_2410_GFP experiment: GV0817/Pos23/\n",
      "ID GV0817_Pos23_4109_GFP experiment: GV0817/Pos23/\n",
      "ID GV0817_Pos23_2771_GFP experiment: GV0817/Pos23/\n",
      "ID GV0817_Pos23_3290_GFP experiment: GV0817/Pos23/\n",
      "ID GV0794_Pos3_311_GFP experiment: GV0794/Pos3/\n",
      "Loading GV0794/Pos3/\n",
      "Btrack version no.: 0.4.3\n"
     ]
    },
    {
     "name": "stderr",
     "output_type": "stream",
     "text": [
      "[INFO][2022/03/09 12:41:38 PM] Loading objects/obj_type_1 (57736, 5) (54429 filtered: area>=100)\n",
      "[INFO][2022/03/09 12:41:39 PM] Closing HDF file: /home/nathan/data/kraken/scr/h2b/giulia/GV0794/Pos3/Pos3_aligned/HDF/segmented.hdf5\n",
      "[INFO][2022/03/09 12:41:39 PM] Opening HDF file: /home/nathan/data/kraken/scr/h2b/giulia/GV0794/Pos3/Pos3_aligned/HDF/segmented.hdf5...\n",
      "[INFO][2022/03/09 12:41:39 PM] Loading tracks/obj_type_2\n",
      "[INFO][2022/03/09 12:41:39 PM] Loading objects/obj_type_2 (5835, 5) (5227 filtered: area>=100)\n",
      "[INFO][2022/03/09 12:41:39 PM] Closing HDF file: /home/nathan/data/kraken/scr/h2b/giulia/GV0794/Pos3/Pos3_aligned/HDF/segmented.hdf5\n",
      "[INFO][2022/03/09 12:41:39 PM] Opening HDF file: /home/nathan/data/kraken/scr/h2b/giulia/GV0806/Pos3/Pos3_aligned/HDF/segmented.hdf5...\n",
      "[INFO][2022/03/09 12:41:39 PM] Loading tracks/obj_type_1\n"
     ]
    },
    {
     "name": "stdout",
     "output_type": "stream",
     "text": [
      "Track information loaded and ordered according to cell type (WT IDs >0> Scr IDs)\n",
      "Loaded GV0794/Pos3/\n",
      "ID GV0794_Pos3_142_GFP experiment: GV0794/Pos3/\n",
      "ID GV0806_Pos3_571_GFP experiment: GV0806/Pos3/\n",
      "Loading GV0806/Pos3/\n",
      "Btrack version no.: 0.4.3\n"
     ]
    },
    {
     "name": "stderr",
     "output_type": "stream",
     "text": [
      "[INFO][2022/03/09 12:41:44 PM] Loading objects/obj_type_1 (704893, 5) (675206 filtered: area>=100)\n",
      "[INFO][2022/03/09 12:41:52 PM] Closing HDF file: /home/nathan/data/kraken/scr/h2b/giulia/GV0806/Pos3/Pos3_aligned/HDF/segmented.hdf5\n",
      "[INFO][2022/03/09 12:41:52 PM] Opening HDF file: /home/nathan/data/kraken/scr/h2b/giulia/GV0806/Pos3/Pos3_aligned/HDF/segmented.hdf5...\n",
      "[INFO][2022/03/09 12:41:52 PM] Loading tracks/obj_type_2\n",
      "[INFO][2022/03/09 12:41:52 PM] Loading objects/obj_type_2 (18126, 5) (15960 filtered: area>=100)\n",
      "[INFO][2022/03/09 12:41:52 PM] Closing HDF file: /home/nathan/data/kraken/scr/h2b/giulia/GV0806/Pos3/Pos3_aligned/HDF/segmented.hdf5\n",
      "[INFO][2022/03/09 12:41:52 PM] Opening HDF file: /home/nathan/data/kraken/scr/h2b/giulia/GV0798/Pos21/Pos21_aligned/HDF/segmented.hdf5...\n",
      "[INFO][2022/03/09 12:41:52 PM] Loading tracks/obj_type_1\n"
     ]
    },
    {
     "name": "stdout",
     "output_type": "stream",
     "text": [
      "Track information loaded and ordered according to cell type (WT IDs >0> Scr IDs)\n",
      "Loaded GV0806/Pos3/\n",
      "ID GV0798_Pos21_9_GFP experiment: GV0798/Pos21/\n",
      "Loading GV0798/Pos21/\n",
      "Btrack version no.: 0.4.3\n"
     ]
    },
    {
     "name": "stderr",
     "output_type": "stream",
     "text": [
      "[INFO][2022/03/09 12:41:55 PM] Loading objects/obj_type_1 (332657, 5) (316064 filtered: area>=100)\n",
      "[INFO][2022/03/09 12:41:59 PM] Closing HDF file: /home/nathan/data/kraken/scr/h2b/giulia/GV0798/Pos21/Pos21_aligned/HDF/segmented.hdf5\n",
      "[INFO][2022/03/09 12:41:59 PM] Opening HDF file: /home/nathan/data/kraken/scr/h2b/giulia/GV0798/Pos21/Pos21_aligned/HDF/segmented.hdf5...\n",
      "[INFO][2022/03/09 12:41:59 PM] Loading tracks/obj_type_2\n",
      "[INFO][2022/03/09 12:41:59 PM] Loading objects/obj_type_2 (59184, 5) (40538 filtered: area>=100)\n",
      "[INFO][2022/03/09 12:41:59 PM] Closing HDF file: /home/nathan/data/kraken/scr/h2b/giulia/GV0798/Pos21/Pos21_aligned/HDF/segmented.hdf5\n",
      "[INFO][2022/03/09 12:42:00 PM] Opening HDF file: /home/nathan/data/kraken/scr/h2b/giulia/GV0816/Pos23/Pos23_aligned/HDF/segmented.hdf5...\n",
      "[INFO][2022/03/09 12:42:00 PM] Loading tracks/obj_type_1\n"
     ]
    },
    {
     "name": "stdout",
     "output_type": "stream",
     "text": [
      "Track information loaded and ordered according to cell type (WT IDs >0> Scr IDs)\n",
      "Loaded GV0798/Pos21/\n",
      "ID GV0798_Pos21_39_GFP experiment: GV0798/Pos21/\n",
      "ID GV0798_Pos21_417_GFP experiment: GV0798/Pos21/\n",
      "ID GV0816_Pos23_5_GFP experiment: GV0816/Pos23/\n",
      "Loading GV0816/Pos23/\n",
      "Btrack version no.: 0.4.3\n"
     ]
    },
    {
     "name": "stderr",
     "output_type": "stream",
     "text": [
      "[INFO][2022/03/09 12:42:01 PM] Loading objects/obj_type_1 (108996, 5) (100437 filtered: area>=100)\n",
      "[INFO][2022/03/09 12:42:02 PM] Closing HDF file: /home/nathan/data/kraken/scr/h2b/giulia/GV0816/Pos23/Pos23_aligned/HDF/segmented.hdf5\n",
      "[INFO][2022/03/09 12:42:02 PM] Opening HDF file: /home/nathan/data/kraken/scr/h2b/giulia/GV0816/Pos23/Pos23_aligned/HDF/segmented.hdf5...\n",
      "[INFO][2022/03/09 12:42:02 PM] Loading tracks/obj_type_2\n",
      "[INFO][2022/03/09 12:42:02 PM] Loading objects/obj_type_2 (36035, 5) (29738 filtered: area>=100)\n",
      "[INFO][2022/03/09 12:42:02 PM] Closing HDF file: /home/nathan/data/kraken/scr/h2b/giulia/GV0816/Pos23/Pos23_aligned/HDF/segmented.hdf5\n",
      "[INFO][2022/03/09 12:42:03 PM] Opening HDF file: /home/nathan/data/kraken/scr/h2b/giulia/GV0806/Pos4/Pos4_aligned/HDF/segmented.hdf5...\n",
      "[INFO][2022/03/09 12:42:03 PM] Loading tracks/obj_type_1\n"
     ]
    },
    {
     "name": "stdout",
     "output_type": "stream",
     "text": [
      "Track information loaded and ordered according to cell type (WT IDs >0> Scr IDs)\n",
      "Loaded GV0816/Pos23/\n",
      "ID GV0816_Pos23_1_GFP experiment: GV0816/Pos23/\n",
      "ID GV0816_Pos23_755_GFP experiment: GV0816/Pos23/\n",
      "ID GV0816_Pos23_757_GFP experiment: GV0816/Pos23/\n",
      "ID GV0816_Pos23_773_GFP experiment: GV0816/Pos23/\n",
      "ID GV0816_Pos23_772_GFP experiment: GV0816/Pos23/\n",
      "ID GV0816_Pos23_696_GFP experiment: GV0816/Pos23/\n",
      "ID GV0806_Pos4_165_GFP experiment: GV0806/Pos4/\n",
      "Loading GV0806/Pos4/\n",
      "Btrack version no.: 0.4.3\n"
     ]
    },
    {
     "name": "stderr",
     "output_type": "stream",
     "text": [
      "[INFO][2022/03/09 12:42:06 PM] Loading objects/obj_type_1 (509105, 5) (489414 filtered: area>=100)\n",
      "[INFO][2022/03/09 12:42:12 PM] Closing HDF file: /home/nathan/data/kraken/scr/h2b/giulia/GV0806/Pos4/Pos4_aligned/HDF/segmented.hdf5\n",
      "[INFO][2022/03/09 12:42:12 PM] Opening HDF file: /home/nathan/data/kraken/scr/h2b/giulia/GV0806/Pos4/Pos4_aligned/HDF/segmented.hdf5...\n",
      "[INFO][2022/03/09 12:42:12 PM] Loading tracks/obj_type_2\n",
      "[INFO][2022/03/09 12:42:13 PM] Loading objects/obj_type_2 (68404, 5) (59567 filtered: area>=100)\n",
      "[INFO][2022/03/09 12:42:14 PM] Closing HDF file: /home/nathan/data/kraken/scr/h2b/giulia/GV0806/Pos4/Pos4_aligned/HDF/segmented.hdf5\n",
      "[INFO][2022/03/09 12:42:15 PM] Opening HDF file: /home/nathan/data/kraken/scr/h2b/giulia/GV0802/Pos5/Pos5_aligned/HDF/segmented.hdf5...\n",
      "[INFO][2022/03/09 12:42:15 PM] Loading tracks/obj_type_1\n"
     ]
    },
    {
     "name": "stdout",
     "output_type": "stream",
     "text": [
      "Track information loaded and ordered according to cell type (WT IDs >0> Scr IDs)\n",
      "Loaded GV0806/Pos4/\n",
      "ID GV0806_Pos4_1452_GFP experiment: GV0806/Pos4/\n",
      "ID GV0806_Pos4_1471_GFP experiment: GV0806/Pos4/\n",
      "ID GV0806_Pos4_944_GFP experiment: GV0806/Pos4/\n",
      "ID GV0806_Pos4_1258_GFP experiment: GV0806/Pos4/\n",
      "ID GV0802_Pos5_184_GFP experiment: GV0802/Pos5/\n",
      "Loading GV0802/Pos5/\n",
      "Btrack version no.: 0.4.3\n"
     ]
    },
    {
     "name": "stderr",
     "output_type": "stream",
     "text": [
      "[INFO][2022/03/09 12:42:15 PM] Loading objects/obj_type_1 (49875, 5) (41993 filtered: area>=100)\n",
      "[INFO][2022/03/09 12:42:15 PM] Closing HDF file: /home/nathan/data/kraken/scr/h2b/giulia/GV0802/Pos5/Pos5_aligned/HDF/segmented.hdf5\n",
      "[INFO][2022/03/09 12:42:15 PM] Opening HDF file: /home/nathan/data/kraken/scr/h2b/giulia/GV0802/Pos5/Pos5_aligned/HDF/segmented.hdf5...\n",
      "[INFO][2022/03/09 12:42:15 PM] Loading tracks/obj_type_2\n",
      "[INFO][2022/03/09 12:42:16 PM] Loading objects/obj_type_2 (87129, 5) (71072 filtered: area>=100)\n",
      "[INFO][2022/03/09 12:42:17 PM] Closing HDF file: /home/nathan/data/kraken/scr/h2b/giulia/GV0802/Pos5/Pos5_aligned/HDF/segmented.hdf5\n",
      "[INFO][2022/03/09 12:42:17 PM] Opening HDF file: /home/nathan/data/kraken/scr/h2b/giulia/GV0797/Pos23/Pos23_aligned/HDF/segmented.hdf5...\n",
      "[INFO][2022/03/09 12:42:17 PM] Loading tracks/obj_type_1\n"
     ]
    },
    {
     "name": "stdout",
     "output_type": "stream",
     "text": [
      "Track information loaded and ordered according to cell type (WT IDs >0> Scr IDs)\n",
      "Loaded GV0802/Pos5/\n",
      "ID GV0802_Pos5_185_GFP experiment: GV0802/Pos5/\n",
      "ID GV0802_Pos5_372_GFP experiment: GV0802/Pos5/\n",
      "ID GV0802_Pos5_141_GFP experiment: GV0802/Pos5/\n",
      "ID GV0797_Pos23_88_GFP experiment: GV0797/Pos23/\n",
      "Loading GV0797/Pos23/\n",
      "Btrack version no.: 0.4.3\n"
     ]
    },
    {
     "name": "stderr",
     "output_type": "stream",
     "text": [
      "[INFO][2022/03/09 12:42:17 PM] Loading objects/obj_type_1 (23980, 5) (18959 filtered: area>=100)\n",
      "[INFO][2022/03/09 12:42:17 PM] Closing HDF file: /home/nathan/data/kraken/scr/h2b/giulia/GV0797/Pos23/Pos23_aligned/HDF/segmented.hdf5\n",
      "[INFO][2022/03/09 12:42:17 PM] Opening HDF file: /home/nathan/data/kraken/scr/h2b/giulia/GV0797/Pos23/Pos23_aligned/HDF/segmented.hdf5...\n",
      "[INFO][2022/03/09 12:42:17 PM] Loading tracks/obj_type_2\n",
      "[INFO][2022/03/09 12:42:18 PM] Loading objects/obj_type_2 (34897, 5) (24894 filtered: area>=100)\n",
      "[INFO][2022/03/09 12:42:18 PM] Closing HDF file: /home/nathan/data/kraken/scr/h2b/giulia/GV0797/Pos23/Pos23_aligned/HDF/segmented.hdf5\n",
      "[INFO][2022/03/09 12:42:18 PM] Opening HDF file: /home/nathan/data/kraken/scr/h2b/giulia/GV0819/Pos3/Pos3_aligned/HDF/segmented.hdf5...\n",
      "[INFO][2022/03/09 12:42:18 PM] Loading tracks/obj_type_1\n"
     ]
    },
    {
     "name": "stdout",
     "output_type": "stream",
     "text": [
      "Track information loaded and ordered according to cell type (WT IDs >0> Scr IDs)\n",
      "Loaded GV0797/Pos23/\n",
      "ID GV0797_Pos23_248_GFP experiment: GV0797/Pos23/\n",
      "ID GV0819_Pos3_586_GFP experiment: GV0819/Pos3/\n",
      "Loading GV0819/Pos3/\n",
      "Btrack version no.: 0.4.3\n"
     ]
    },
    {
     "name": "stderr",
     "output_type": "stream",
     "text": [
      "[INFO][2022/03/09 12:42:21 PM] Loading objects/obj_type_1 (444670, 5) (426511 filtered: area>=100)\n",
      "[INFO][2022/03/09 12:42:26 PM] Closing HDF file: /home/nathan/data/kraken/scr/h2b/giulia/GV0819/Pos3/Pos3_aligned/HDF/segmented.hdf5\n",
      "[INFO][2022/03/09 12:42:26 PM] Opening HDF file: /home/nathan/data/kraken/scr/h2b/giulia/GV0819/Pos3/Pos3_aligned/HDF/segmented.hdf5...\n",
      "[INFO][2022/03/09 12:42:26 PM] Loading tracks/obj_type_2\n",
      "[INFO][2022/03/09 12:42:27 PM] Loading objects/obj_type_2 (119062, 5) (102355 filtered: area>=100)\n",
      "[INFO][2022/03/09 12:42:29 PM] Closing HDF file: /home/nathan/data/kraken/scr/h2b/giulia/GV0819/Pos3/Pos3_aligned/HDF/segmented.hdf5\n",
      "[INFO][2022/03/09 12:42:29 PM] Opening HDF file: /home/nathan/data/kraken/scr/h2b/giulia/GV0794/Pos5/Pos5_aligned/HDF/segmented.hdf5...\n",
      "[INFO][2022/03/09 12:42:29 PM] Loading tracks/obj_type_1\n"
     ]
    },
    {
     "name": "stdout",
     "output_type": "stream",
     "text": [
      "Track information loaded and ordered according to cell type (WT IDs >0> Scr IDs)\n",
      "Loaded GV0819/Pos3/\n",
      "ID GV0819_Pos3_741_GFP experiment: GV0819/Pos3/\n",
      "ID GV0794_Pos5_1_GFP experiment: GV0794/Pos5/\n",
      "Loading GV0794/Pos5/\n",
      "Btrack version no.: 0.4.3\n"
     ]
    },
    {
     "name": "stderr",
     "output_type": "stream",
     "text": [
      "[INFO][2022/03/09 12:42:29 PM] Loading objects/obj_type_1 (31315, 5) (20377 filtered: area>=100)\n",
      "[INFO][2022/03/09 12:42:29 PM] Closing HDF file: /home/nathan/data/kraken/scr/h2b/giulia/GV0794/Pos5/Pos5_aligned/HDF/segmented.hdf5\n",
      "[INFO][2022/03/09 12:42:29 PM] Opening HDF file: /home/nathan/data/kraken/scr/h2b/giulia/GV0794/Pos5/Pos5_aligned/HDF/segmented.hdf5...\n",
      "[INFO][2022/03/09 12:42:29 PM] Loading tracks/obj_type_2\n",
      "[INFO][2022/03/09 12:42:30 PM] Loading objects/obj_type_2 (61992, 5) (46754 filtered: area>=100)\n",
      "[INFO][2022/03/09 12:42:30 PM] Closing HDF file: /home/nathan/data/kraken/scr/h2b/giulia/GV0794/Pos5/Pos5_aligned/HDF/segmented.hdf5\n",
      "[INFO][2022/03/09 12:42:30 PM] Opening HDF file: /home/nathan/data/kraken/scr/h2b/giulia/GV0797/Pos5/Pos5_aligned/HDF/segmented.hdf5...\n",
      "[INFO][2022/03/09 12:42:30 PM] Loading tracks/obj_type_1\n"
     ]
    },
    {
     "name": "stdout",
     "output_type": "stream",
     "text": [
      "Track information loaded and ordered according to cell type (WT IDs >0> Scr IDs)\n",
      "Loaded GV0794/Pos5/\n",
      "ID GV0797_Pos5_971_GFP experiment: GV0797/Pos5/\n",
      "Loading GV0797/Pos5/\n",
      "Btrack version no.: 0.4.3\n"
     ]
    },
    {
     "name": "stderr",
     "output_type": "stream",
     "text": [
      "[INFO][2022/03/09 12:42:31 PM] Loading objects/obj_type_1 (83742, 5) (65837 filtered: area>=100)\n",
      "[INFO][2022/03/09 12:42:32 PM] Closing HDF file: /home/nathan/data/kraken/scr/h2b/giulia/GV0797/Pos5/Pos5_aligned/HDF/segmented.hdf5\n",
      "[INFO][2022/03/09 12:42:32 PM] Opening HDF file: /home/nathan/data/kraken/scr/h2b/giulia/GV0797/Pos5/Pos5_aligned/HDF/segmented.hdf5...\n",
      "[INFO][2022/03/09 12:42:32 PM] Loading tracks/obj_type_2\n",
      "[INFO][2022/03/09 12:42:32 PM] Loading objects/obj_type_2 (22517, 5) (15314 filtered: area>=100)\n",
      "[INFO][2022/03/09 12:42:32 PM] Closing HDF file: /home/nathan/data/kraken/scr/h2b/giulia/GV0797/Pos5/Pos5_aligned/HDF/segmented.hdf5\n",
      "[INFO][2022/03/09 12:42:32 PM] Opening HDF file: /home/nathan/data/kraken/scr/h2b/giulia/GV0817/Pos11/Pos11_aligned/HDF/segmented.hdf5...\n",
      "[INFO][2022/03/09 12:42:32 PM] Loading tracks/obj_type_1\n"
     ]
    },
    {
     "name": "stdout",
     "output_type": "stream",
     "text": [
      "Track information loaded and ordered according to cell type (WT IDs >0> Scr IDs)\n",
      "Loaded GV0797/Pos5/\n",
      "ID GV0797_Pos5_741_GFP experiment: GV0797/Pos5/\n",
      "ID GV0797_Pos5_742_GFP experiment: GV0797/Pos5/\n",
      "ID GV0817_Pos11_141_GFP experiment: GV0817/Pos11/\n",
      "Loading GV0817/Pos11/\n",
      "Btrack version no.: 0.4.3\n"
     ]
    },
    {
     "name": "stderr",
     "output_type": "stream",
     "text": [
      "[INFO][2022/03/09 12:42:34 PM] Loading objects/obj_type_1 (278388, 5) (263033 filtered: area>=100)\n",
      "[INFO][2022/03/09 12:42:37 PM] Closing HDF file: /home/nathan/data/kraken/scr/h2b/giulia/GV0817/Pos11/Pos11_aligned/HDF/segmented.hdf5\n",
      "[INFO][2022/03/09 12:42:37 PM] Opening HDF file: /home/nathan/data/kraken/scr/h2b/giulia/GV0817/Pos11/Pos11_aligned/HDF/segmented.hdf5...\n",
      "[INFO][2022/03/09 12:42:37 PM] Loading tracks/obj_type_2\n",
      "[INFO][2022/03/09 12:42:38 PM] Loading objects/obj_type_2 (103313, 5) (85256 filtered: area>=100)\n",
      "[INFO][2022/03/09 12:42:39 PM] Closing HDF file: /home/nathan/data/kraken/scr/h2b/giulia/GV0817/Pos11/Pos11_aligned/HDF/segmented.hdf5\n"
     ]
    },
    {
     "name": "stdout",
     "output_type": "stream",
     "text": [
      "Track information loaded and ordered according to cell type (WT IDs >0> Scr IDs)\n",
      "Loaded GV0817/Pos11/\n",
      "ID GV0817_Pos11_944_GFP experiment: GV0817/Pos11/\n",
      "ID GV0817_Pos11_393_GFP experiment: GV0817/Pos11/\n",
      "ID GV0817_Pos11_2358_GFP experiment: GV0817/Pos11/\n"
     ]
    }
   ],
   "source": [
    "\n",
    "\n",
    "hdf5_file_path, error_log, success_log = [], [], []\n",
    " \n",
    "for apop_ID in tqdm(event_dict):\n",
    "\n",
    "    expt = \"GV\" + str(re.findall(r\"GV(\\d+)\", apop_ID)[0])\n",
    "    position = re.findall(r\"Pos(\\d+)\", apop_ID)[0]\n",
    "\n",
    "    position = \"Pos\" + position\n",
    "\n",
    "    expt_position = os.path.join(\n",
    "        expt, position, \"\"\n",
    "    )  ## additional '' here so that / added to end of string\n",
    "\n",
    "    cell_ID = int((re.findall(r\"(\\d+)_.FP\", apop_ID))[0])\n",
    "    print(\"ID\", apop_ID, \"experiment:\", expt_position)\n",
    "\n",
    "    # checks if hdf5 file path already loaded to avoid repeat loading\n",
    "    if expt_position not in hdf5_file_path:\n",
    "        ## load that track data\n",
    "        print(\"Loading\", expt_position)\n",
    "        hdf5_file_path = [\n",
    "            hdf5_file_path\n",
    "            for hdf5_file_path in hdf5_file_list\n",
    "            if expt_position in hdf5_file_path\n",
    "        ][0]\n",
    "        wt_cells, scr_cells, all_cells = dataio.load_tracking_data(hdf5_file_path)\n",
    "        print(\"Loaded\", expt_position)\n",
    "\n",
    "    if \"RFP\" in apop_ID:\n",
    "        cell_ID = -cell_ID\n",
    "\n",
    "    focal_time = int(event_dict[apop_ID])\n",
    "\n",
    "    target_cell = [cell for cell in all_cells if cell.ID == cell_ID][0]\n",
    "\n",
    "    focal_cell = pd.DataFrame(columns = ['x', 'y', 't', 'ID', 'state'])\n",
    "\n",
    "    focal_cell['x'], focal_cell['y'],focal_cell['t'], focal_cell['ID'], focal_cell['state'] =target_cell['x'], target_cell['y'],target_cell['t'], target_cell['ID'], target_cell['state']  \n",
    "\n",
    "    fn = f'/home/nathan/data/kraken/scr/h2b/giulia/experiment_information/apoptoses/apoptotic_tracks/{apop_ID}.csv'\n",
    "\n",
    "    focal_cell.to_csv(fn)"
   ]
  },
  {
   "cell_type": "code",
   "execution_count": 43,
   "metadata": {},
   "outputs": [],
   "source": [
    "### finding all scr apoptoses in uninduced datasets?"
   ]
  }
 ],
 "metadata": {
  "kernelspec": {
   "display_name": "Python 3",
   "language": "python",
   "name": "python3"
  },
  "language_info": {
   "codemirror_mode": {
    "name": "ipython",
    "version": 3
   },
   "file_extension": ".py",
   "mimetype": "text/x-python",
   "name": "python",
   "nbconvert_exporter": "python",
   "pygments_lexer": "ipython3",
   "version": "3.9.7"
  }
 },
 "nbformat": 4,
 "nbformat_minor": 4
}
