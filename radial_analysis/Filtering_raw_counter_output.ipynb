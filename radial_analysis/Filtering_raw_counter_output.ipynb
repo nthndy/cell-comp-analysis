{
 "cells": [
  {
   "cell_type": "markdown",
   "metadata": {},
   "source": [
    "# Plotting the output from Cumulative event counter"
   ]
  },
  {
   "cell_type": "markdown",
   "metadata": {},
   "source": [
    "Notebook just for compiling raw listed cell/event counter data as heatmaps only using focal apoptoses that stretch back in time for a certain duration\n",
    "\n",
    "1. Load apoptoses information\n",
    "2. Filter apoptoses based on duration and initial appearance\n",
    "3. Generate new cumulative plot based on those apoptoses\n",
    "4. Save out/load cumualtive plots\n",
    "5. Plot all varations of plot\n",
    "6. Find cell ID of divisions in ROI"
   ]
  },
  {
   "cell_type": "code",
   "execution_count": 24,
   "metadata": {},
   "outputs": [],
   "source": [
    "import csv, glob, re, os, json, shutil\n",
    "import numpy as np\n",
    "from natsort import natsorted\n",
    "import matplotlib.pyplot as plt\n",
    "from tqdm import tqdm\n",
    "import render, dataio\n",
    "import calculate_radial_analysis as calculate"
   ]
  },
  {
   "cell_type": "markdown",
   "metadata": {},
   "source": [
    "# Filtering individual apoptoses based on length\n",
    "\n",
    "Doing this because there is an notable increase in probability 26 hours prior but not every apoptotic mutant will exist 26 hours before"
   ]
  },
  {
   "cell_type": "code",
   "execution_count": 25,
   "metadata": {},
   "outputs": [],
   "source": [
    "source_dir = '/home/nathan/data/results/radial_analysis_output/follow/raw_lists/800.800/canon/800.800'"
   ]
  },
  {
   "cell_type": "code",
   "execution_count": 26,
   "metadata": {},
   "outputs": [],
   "source": [
    "apop_IDs = [fn.split('_N_cells')[0] for fn in os.listdir(source_dir) if 'N_cells' in fn]"
   ]
  },
  {
   "cell_type": "code",
   "execution_count": 27,
   "metadata": {},
   "outputs": [],
   "source": [
    "with open('/home/nathan/data/kraken/h2b/giulia/apoptosis_information/expt_movie_length.json') as json_file:\n",
    "    movie_time_range = json.load(json_file)"
   ]
  },
  {
   "cell_type": "code",
   "execution_count": 28,
   "metadata": {},
   "outputs": [],
   "source": [
    "with open('/home/nathan/data/kraken/h2b/giulia/apoptosis_information/scr_apop_dict.json') as json_file:\n",
    "    apop_dict = json.load(json_file)"
   ]
  },
  {
   "cell_type": "markdown",
   "metadata": {},
   "source": [
    "# Filter list of focal apoptoses based on length\n",
    "\n",
    "Only want focal apoptoses that extend back 21 hours i.e. 2160 minutes = 315 frames\n",
    "\n",
    "*** a more accurate measure is excluding the last bin of 80 frames (800/10) so going back 320 frames ***\n",
    "\n",
    "So I only want cells that have existed for 315 or greater frames, for this I need to load the tracks of each of the individual apop IDs and check if len(track) > 315 and if t(apop) > 315 (mutually verifiable)\n",
    "\n",
    "Could refine this criteria later as there will be many that don't extend back this far yet still are >18 or >16 hours (still areas of interest) "
   ]
  },
  {
   "cell_type": "markdown",
   "metadata": {},
   "source": [
    "#### Loading apoptotic cell track information"
   ]
  },
  {
   "cell_type": "code",
   "execution_count": null,
   "metadata": {
    "scrolled": true
   },
   "outputs": [],
   "source": [
    "previous_h5 = ''\n",
    "valid_apops = []\n",
    "hdf5_root_dir = '/home/nathan/data/kraken/h2b/giulia/'\n",
    "for ID in tqdm(apop_dict):\n",
    "    expt = ID.split('_')[0]\n",
    "    pos = ID.split('_')[1]\n",
    "    cell_ID = ID.split('_')[2]\n",
    "    ### load HDF5\n",
    "    h5_path = os.path.join(hdf5_root_dir, expt, pos, pos+'_aligned', 'HDF/segmented.hdf5')\n",
    "    if h5_path != previous_h5:\n",
    "        wt_cells, scr_cells, all_cells = dataio.load_tracking_data(h5_path)\n",
    "    cell = [cell for cell in scr_cells if cell.ID == -int(cell_ID)][0]\n",
    "    ### if there is enough time prior to apoptosis and if the track exists for that time period\n",
    "    if apop_dict[ID] > 320:\n",
    "        if len(cell) > 320:\n",
    "            valid_apops.append(ID)\n",
    "            print(ID, len(cell), apop_dict[ID])"
   ]
  },
  {
   "cell_type": "code",
   "execution_count": null,
   "metadata": {
    "scrolled": true
   },
   "outputs": [],
   "source": [
    "len(valid_apops)"
   ]
  },
  {
   "cell_type": "code",
   "execution_count": null,
   "metadata": {},
   "outputs": [],
   "source": [
    "valid_apops"
   ]
  },
  {
   "cell_type": "code",
   "execution_count": null,
   "metadata": {},
   "outputs": [],
   "source": [
    "### make dict out of new list of apop_IDs\n",
    "valid_apop_dict = {}\n",
    "for ID in valid_apops:\n",
    "    valid_apop_dict[ID] = apop_dict[ID]"
   ]
  },
  {
   "cell_type": "code",
   "execution_count": null,
   "metadata": {},
   "outputs": [],
   "source": [
    "valid_apop_dict"
   ]
  },
  {
   "cell_type": "code",
   "execution_count": null,
   "metadata": {},
   "outputs": [],
   "source": [
    "### saving out list of valid apoptoses that stretch back 21 hours\n",
    "with open('/home/nathan/data/kraken/h2b/giulia/apoptosis_information/21hr_accurate_apop_dict.json', 'w') as file:\n",
    "    json.dump(valid_apop_dict, file)"
   ]
  },
  {
   "cell_type": "code",
   "execution_count": null,
   "metadata": {},
   "outputs": [],
   "source": [
    "### loading valid apop_dict\n",
    "with open('/home/nathan/data/kraken/h2b/giulia/apoptosis_information/21hr_apop_dict.json', 'r') as file:\n",
    "    valid_apop_dict = json.load(file)"
   ]
  },
  {
   "cell_type": "code",
   "execution_count": null,
   "metadata": {},
   "outputs": [],
   "source": [
    "valid_apop_dict"
   ]
  },
  {
   "cell_type": "markdown",
   "metadata": {},
   "source": [
    "# Making new cumulative plot out of filtered apop IDs"
   ]
  },
  {
   "cell_type": "markdown",
   "metadata": {},
   "source": [
    "Create new source directory containing only apop IDs of relevance"
   ]
  },
  {
   "cell_type": "code",
   "execution_count": null,
   "metadata": {},
   "outputs": [],
   "source": [
    "### move only apop IDs of interest into new directory and rename with focal time\n",
    "for fn in natsorted(os.listdir('/home/nathan/data/results/radial_analysis_output/follow/raw_lists/800.800/canon/800.800')):\n",
    "    ID = fn.split('_N_')[0]\n",
    "    ID = ID.replace('Scr-','') + '_RFP' ### renaming filename apop ID as dict compatible\n",
    "    if ID in valid_apop_dict:\n",
    "        new_fn = fn.replace('.', '_focal_t_{}.'.format(str(valid_apop_dict[ID])))\n",
    "        shutil.copyfile(os.path.join('/home/nathan/data/results/radial_analysis_output/follow/raw_lists/800.800/canon/800.800', fn),os.path.join('/home/nathan/data/results/radial_analysis_output/follow/raw_lists/800.800/canon/21_hours_accurate', new_fn))"
   ]
  },
  {
   "cell_type": "markdown",
   "metadata": {},
   "source": [
    "Compile into numpy arrays of N_cells, N_events, P_events"
   ]
  },
  {
   "cell_type": "code",
   "execution_count": null,
   "metadata": {
    "scrolled": true
   },
   "outputs": [],
   "source": [
    "for config in ['800.800.10', '800.800.20']:#['800.800.6', '600.600.8', '600.600.6', '500.500.6' '1000.1000.10', '1000.1000.6']:\n",
    "    save_parent_dir = '/home/nathan/data/results/radial_analysis_output/follow/cumulative_plots/21_hours_accurate'\n",
    "    radius = int(config.split('.')[0])\n",
    "    t_range = int(config.split('.')[1])\n",
    "    num_bins = int(config.split('.')[2])\n",
    "    ### canon\n",
    "    raw_files_dir = os.path.join('/home/nathan/data/results/radial_analysis_output/follow/raw_lists/800.800/canon/21_hours_accurate')\n",
    "    N_cells, N_events, P_events = render.cumulative_kymo_compiler(raw_files_dir, radius, t_range, num_bins)\n",
    "    limit = np.amax(P_events)\n",
    "    N = int(len(os.listdir(raw_files_dir))/2)\n",
    "\n",
    "    ### control \n",
    "    # raw_files_dir = os.path.join('/home/nathan/data/kraken/h2b/giulia/radial_analysis_output/follow/raw_lists/1600.1600/control_ninety_ten')\n",
    "    # N_cells_c, N_events_c, P_events_c = render.cumulative_kymo_compiler(raw_files_dir, radius, t_range, num_bins)\n",
    "    # limit_c = np.amax(P_events_c)\n",
    "    # N_c = int(len(os.listdir(raw_files_dir))/2)\n",
    "\n",
    "    ### save out raw arrays for coeff var\n",
    "    fn = os.path.join(save_parent_dir,'arrays/21_hours_accurate/canon_21_hours_accurate_N_cell_N_event_P_event_{}.{}.{}.npz'.format(radius,t_range, num_bins))\n",
    "    if not os.path.exists(os.path.dirname(fn)):\n",
    "        os.makedirs(os.path.dirname(fn))\n",
    "    # fn_c = os.path.join(save_parent_dir, 'arrays/control_ninety_ten_N_cell_N_event_P_event_{}.{}.{}.npz'.format(radius,t_range, num_bins))\n",
    "    # if not os.path.exists(os.path.dirname(fn_c)):\n",
    "    #     os.makedirs(os.path.dirname(fn_c))\n",
    "    np.savez(fn, N_cells, N_events, P_events)\n",
    "    #np.savez(fn_c, N_cells_c, N_events_c, P_events_c)"
   ]
  },
  {
   "cell_type": "markdown",
   "metadata": {},
   "source": [
    "### Or load from previously compiles .npz stacks of N_cells, N_events, P_events"
   ]
  },
  {
   "cell_type": "code",
   "execution_count": null,
   "metadata": {},
   "outputs": [],
   "source": [
    "radius, t_range, num_bins = 800, 800, 10\n",
    "### load npz\n",
    "with np.load('/home/nathan/data/results/radial_analysis_output/follow/cumulative_plots/arrays/21_hours_accurate/canon_21_hours_accurate_N_cell_N_event_P_event_{}.{}.{}.npz'.format(radius, t_range, num_bins)) as data:\n",
    "    N_cells = data['arr_0']\n",
    "    N_events = data['arr_1']\n",
    "    P_events = data['arr_2']\n",
    "with np.load('/home/nathan/data/results/radial_analysis_output/follow/cumulative_plots/arrays/control_N_cell_N_event_P_event_{}.{}.{}.npz'.format(radius, t_range, num_bins)) as data:\n",
    "    N_cells_c = data['arr_0']\n",
    "    N_events_c = data['arr_1']\n",
    "    P_events_c = data['arr_2']\n",
    "N_c = 10491\n",
    "N = len(valid_apops)# 1839\n",
    "limit_c = np.amax(P_events_c)\n",
    "limit = np.amax(P_events)\n",
    "cbar_lim = tuple((0, max(limit_c, limit)))"
   ]
  },
  {
   "cell_type": "code",
   "execution_count": null,
   "metadata": {
    "scrolled": true
   },
   "outputs": [],
   "source": [
    "save_parent_dir = '/home/nathan/data/results/radial_analysis_output/follow/cumulative_plots/plots/21_hours_accurate_{}.{}.{}/'.format(radius, t_range, num_bins)\n",
    "render.MEGAPLOT(N_cells, N_events, P_events, N_cells_c, N_events_c, P_events_c, N, N_c, limit, limit_c, cbar_lim, radius, t_range, num_bins, save_parent_dir)"
   ]
  },
  {
   "cell_type": "markdown",
   "metadata": {},
   "source": [
    "# Finding cell IDs of divisions of interest"
   ]
  },
  {
   "cell_type": "code",
   "execution_count": 52,
   "metadata": {},
   "outputs": [],
   "source": [
    "### criteria\n",
    "### time would be 400 frames either side in 10 bins, isolating only the penultimate temporal bin ie  \n",
    "time_crit = (-240, -320) \n",
    "## space would be initial spatial bin 800 pixels/10 ie 80 pixels\n",
    "distance_crit = (0, 80)"
   ]
  },
  {
   "cell_type": "code",
   "execution_count": 133,
   "metadata": {},
   "outputs": [
    {
     "name": "stdout",
     "output_type": "stream",
     "text": [
      "GV0795_Pos5_Scr-16_N_events_wt_rad_800_t_range_800_focal_t_753.csv\n",
      "86 753 42.46 443\n",
      "GV0795_Pos7_Scr-416_N_events_wt_rad_800_t_range_800_focal_t_1010.csv\n",
      "455 1010 59.81 744\n",
      "GV0796_Pos3_Scr-1_N_events_wt_rad_800_t_range_800_focal_t_764.csv\n",
      "849 764 49.6 464\n",
      "GV0796_Pos3_Scr-1_N_events_wt_rad_800_t_range_800_focal_t_764.csv\n",
      "877 764 73.42 470\n",
      "GV0796_Pos3_Scr-45_N_events_wt_rad_800_t_range_800_focal_t_803.csv\n",
      "1130 803 62.92 502\n",
      "GV0796_Pos3_Scr-52_N_events_wt_rad_800_t_range_800_focal_t_828.csv\n",
      "755 828 72.47 518\n",
      "GV0796_Pos3_Scr-82_N_events_wt_rad_800_t_range_800_focal_t_794.csv\n",
      "832 794 45.95 498\n",
      "GV0796_Pos4_Scr-321_N_events_wt_rad_800_t_range_800_focal_t_646.csv\n",
      "326 646 66.42 399\n",
      "GV0796_Pos4_Scr-329_N_events_wt_rad_800_t_range_800_focal_t_695.csv\n",
      "483 695 61.62 453\n",
      "GV0796_Pos4_Scr-391_N_events_wt_rad_800_t_range_800_focal_t_800.csv\n",
      "617 800 56.46 523\n",
      "GV0796_Pos4_Scr-450_N_events_wt_rad_800_t_range_800_focal_t_822.csv\n",
      "616 822 76.03 543\n",
      "GV0796_Pos6_Scr-565_N_events_wt_rad_800_t_range_800_focal_t_863.csv\n",
      "276 863 79.57 565\n",
      "GV0796_Pos7_Scr-3_N_events_wt_rad_800_t_range_800_focal_t_710.csv\n",
      "564 710 70.16 443\n",
      "GV0796_Pos7_Scr-41_N_events_wt_rad_800_t_range_800_focal_t_550.csv\n",
      "287 550 51.13 309\n",
      "GV0796_Pos7_Scr-394_N_events_wt_rad_800_t_range_800_focal_t_815.csv\n",
      "776 815 68.74 551\n",
      "GV0796_Pos7_Scr-399_N_events_wt_rad_800_t_range_800_focal_t_735.csv\n",
      "493 735 65.5 466\n",
      "GV0796_Pos7_Scr-399_N_events_wt_rad_800_t_range_800_focal_t_735.csv\n",
      "552 735 66.77 451\n",
      "GV0796_Pos20_Scr-72_N_events_wt_rad_800_t_range_800_focal_t_889.csv\n",
      "641 889 44.93 612\n",
      "GV0796_Pos20_Scr-95_N_events_wt_rad_800_t_range_800_focal_t_875.csv\n",
      "1232 875 72.77 621\n",
      "GV0796_Pos21_Scr-252_N_events_wt_rad_800_t_range_800_focal_t_547.csv\n",
      "120 547 43.23 298\n",
      "GV0796_Pos21_Scr-646_N_events_wt_rad_800_t_range_800_focal_t_894.csv\n",
      "616 894 51.7 636\n",
      "GV0796_Pos22_Scr-11_N_events_wt_rad_800_t_range_800_focal_t_871.csv\n",
      "1043 871 79.06 623\n",
      "GV0796_Pos22_Scr-174_N_events_wt_rad_800_t_range_800_focal_t_569.csv\n",
      "142 569 69.41 250\n",
      "GV0796_Pos22_Scr-324_N_events_wt_rad_800_t_range_800_focal_t_762.csv\n",
      "593 762 48.19 445\n",
      "GV0797_Pos7_Scr-9_N_events_wt_rad_800_t_range_800_focal_t_405.csv\n",
      "2 405 58.25 106\n",
      "GV0797_Pos18_Scr-7_N_events_wt_rad_800_t_range_800_focal_t_536.csv\n",
      "167 536 68.32 224\n",
      "GV0797_Pos18_Scr-7_N_events_wt_rad_800_t_range_800_focal_t_536.csv\n",
      "228 536 60.99 284\n",
      "GV0798_Pos7_Scr-24_N_events_wt_rad_800_t_range_800_focal_t_587.csv\n",
      "141 587 36.18 302\n",
      "GV0798_Pos7_Scr-201_N_events_wt_rad_800_t_range_800_focal_t_778.csv\n",
      "343 778 48.8 470\n",
      "GV0798_Pos7_Scr-202_N_events_wt_rad_800_t_range_800_focal_t_804.csv\n",
      "466 804 77.73 548\n",
      "GV0798_Pos18_Scr-12_N_events_wt_rad_800_t_range_800_focal_t_640.csv\n",
      "211 640 64.31 394\n",
      "GV0798_Pos21_Scr-9_N_events_wt_rad_800_t_range_800_focal_t_832.csv\n",
      "422 832 68.71 532\n",
      "GV0798_Pos21_Scr-43_N_events_wt_rad_800_t_range_800_focal_t_560.csv\n",
      "134 560 61.74 278\n",
      "GV0800_Pos3_Scr-65_N_events_wt_rad_800_t_range_800_focal_t_1053.csv\n",
      "800 1053 53.67 759\n",
      "GV0800_Pos3_Scr-65_N_events_wt_rad_800_t_range_800_focal_t_1053.csv\n",
      "875 1053 45.36 794\n",
      "GV0800_Pos3_Scr-65_N_events_wt_rad_800_t_range_800_focal_t_1053.csv\n",
      "876 1053 76.63 790\n",
      "GV0800_Pos3_Scr-66_N_events_wt_rad_800_t_range_800_focal_t_721.csv\n",
      "214 721 50.6 403\n",
      "GV0800_Pos4_Scr-352_N_events_wt_rad_800_t_range_800_focal_t_812.csv\n",
      "254 812 65.15 556\n",
      "GV0800_Pos7_Scr-190_N_events_wt_rad_800_t_range_800_focal_t_808.csv\n",
      "318 808 58.29 490\n",
      "GV0800_Pos7_Scr-190_N_events_wt_rad_800_t_range_800_focal_t_808.csv\n",
      "358 808 56.85 547\n",
      "GV0800_Pos15_Scr-7_N_events_wt_rad_800_t_range_800_focal_t_848.csv\n",
      "365 848 66.26 533\n",
      "GV0800_Pos15_Scr-7_N_events_wt_rad_800_t_range_800_focal_t_848.csv\n",
      "449 848 52.15 598\n",
      "GV0800_Pos15_Scr-61_N_events_wt_rad_800_t_range_800_focal_t_722.csv\n",
      "313 722 36.21 452\n",
      "GV0800_Pos15_Scr-61_N_events_wt_rad_800_t_range_800_focal_t_722.csv\n",
      "314 722 70.75 449\n",
      "GV0800_Pos16_Scr-451_N_events_wt_rad_800_t_range_800_focal_t_1019.csv\n",
      "615 1019 54.15 706\n",
      "GV0800_Pos16_Scr-542_N_events_wt_rad_800_t_range_800_focal_t_839.csv\n",
      "177 839 59.72 592\n",
      "GV0801_Pos3_Scr-89_N_events_wt_rad_800_t_range_800_focal_t_775.csv\n",
      "286 775 69.8 523\n",
      "GV0801_Pos3_Scr-89_N_events_wt_rad_800_t_range_800_focal_t_775.csv\n",
      "287 775 58.98 533\n",
      "GV0801_Pos3_Scr-123_N_events_wt_rad_800_t_range_800_focal_t_1053.csv\n",
      "609 1053 66.06 752\n",
      "GV0801_Pos3_Scr-163_N_events_wt_rad_800_t_range_800_focal_t_1148.csv\n",
      "900 1148 71.1 861\n",
      "GV0801_Pos4_Scr-503_N_events_wt_rad_800_t_range_800_focal_t_1172.csv\n",
      "786 1172 71.65 860\n",
      "GV0801_Pos5_Scr-780_N_events_wt_rad_800_t_range_800_focal_t_939.csv\n",
      "253 939 79.63 649\n",
      "GV0802_Pos3_Scr-7_N_events_wt_rad_800_t_range_800_focal_t_718.csv\n",
      "277 718 60.57 428\n",
      "GV0802_Pos3_Scr-7_N_events_wt_rad_800_t_range_800_focal_t_718.csv\n",
      "427 718 72.18 443\n",
      "GV0802_Pos3_Scr-16_N_events_wt_rad_800_t_range_800_focal_t_888.csv\n",
      "666 888 65.3 590\n",
      "GV0802_Pos3_Scr-93_N_events_wt_rad_800_t_range_800_focal_t_760.csv\n",
      "343 760 76.85 453\n",
      "GV0802_Pos3_Scr-93_N_events_wt_rad_800_t_range_800_focal_t_760.csv\n",
      "422 760 60.5 467\n",
      "GV0802_Pos3_Scr-154_N_events_wt_rad_800_t_range_800_focal_t_1024.csv\n",
      "1037 1024 47.69 740\n",
      "GV0802_Pos3_Scr-154_N_events_wt_rad_800_t_range_800_focal_t_1024.csv\n",
      "1126 1024 75.43 773\n",
      "GV0802_Pos4_Scr-3_N_events_wt_rad_800_t_range_800_focal_t_917.csv\n",
      "451 917 54.22 639\n",
      "GV0802_Pos4_Scr-31_N_events_wt_rad_800_t_range_800_focal_t_1011.csv\n",
      "671 1011 71.21 748\n",
      "GV0802_Pos4_Scr-31_N_events_wt_rad_800_t_range_800_focal_t_1011.csv\n",
      "672 1011 75.93 756\n",
      "GV0804_Pos4_Scr-163_N_events_wt_rad_800_t_range_800_focal_t_1074.csv\n",
      "743 1074 70.11 788\n",
      "GV0804_Pos5_Scr-761_N_events_wt_rad_800_t_range_800_focal_t_928.csv\n",
      "106 928 64.54 684\n",
      "GV0804_Pos5_Scr-778_N_events_wt_rad_800_t_range_800_focal_t_978.csv\n",
      "106 978 66.68 684\n",
      "GV0805_Pos3_Scr-115_N_events_wt_rad_800_t_range_800_focal_t_1127.csv\n",
      "1177 1127 51.42 829\n",
      "GV0805_Pos3_Scr-115_N_events_wt_rad_800_t_range_800_focal_t_1127.csv\n",
      "1178 1127 69.35 864\n",
      "GV0805_Pos4_Scr-29_N_events_wt_rad_800_t_range_800_focal_t_1006.csv\n",
      "625 1006 64.36 692\n",
      "GV0805_Pos5_Scr-769_N_events_wt_rad_800_t_range_800_focal_t_1162.csv\n",
      "227 1162 76.72 881\n",
      "GV0806_Pos4_Scr-285_N_events_wt_rad_800_t_range_800_focal_t_947.csv\n",
      "654 947 75.72 665\n",
      "GV0806_Pos4_Scr-285_N_events_wt_rad_800_t_range_800_focal_t_947.csv\n",
      "842 947 72.92 666\n",
      "GV0806_Pos4_Scr-308_N_events_wt_rad_800_t_range_800_focal_t_879.csv\n",
      "407 879 75.67 569\n",
      "GV0806_Pos4_Scr-682_N_events_wt_rad_800_t_range_800_focal_t_1125.csv\n",
      "1253 1125 59.73 824\n",
      "GV0807_Pos3_Scr-4_N_events_wt_rad_800_t_range_800_focal_t_1048.csv\n",
      "526 1048 43.27 737\n",
      "GV0807_Pos3_Scr-4_N_events_wt_rad_800_t_range_800_focal_t_1048.csv\n",
      "527 1048 72.45 754\n",
      "GV0807_Pos3_Scr-5_N_events_wt_rad_800_t_range_800_focal_t_1046.csv\n",
      "621 1046 40.45 759\n",
      "GV0807_Pos3_Scr-17_N_events_wt_rad_800_t_range_800_focal_t_722.csv\n",
      "147 722 57.04 425\n",
      "GV0807_Pos3_Scr-17_N_events_wt_rad_800_t_range_800_focal_t_722.csv\n",
      "170 722 73.45 458\n",
      "GV0807_Pos4_Scr-190_N_events_wt_rad_800_t_range_800_focal_t_1103.csv\n",
      "784 1103 39.25 837\n",
      "GV0807_Pos4_Scr-382_N_events_wt_rad_800_t_range_800_focal_t_964.csv\n",
      "390 964 58.66 690\n",
      "GV0807_Pos5_Scr-354_N_events_wt_rad_800_t_range_800_focal_t_625.csv\n",
      "52 625 33.82 309\n",
      "GV0814_Pos11_Scr-189_N_events_wt_rad_800_t_range_800_focal_t_1012.csv\n",
      "1316 1012 59.26 763\n",
      "GV0815_Pos0_Scr-344_N_events_wt_rad_800_t_range_800_focal_t_798.csv\n",
      "437 798 70.42 487\n",
      "GV0815_Pos0_Scr-386_N_events_wt_rad_800_t_range_800_focal_t_697.csv\n",
      "333 697 75.27 435\n",
      "GV0815_Pos0_Scr-489_N_events_wt_rad_800_t_range_800_focal_t_983.csv\n",
      "735 983 78.37 717\n",
      "GV0815_Pos0_Scr-516_N_events_wt_rad_800_t_range_800_focal_t_851.csv\n",
      "412 851 46.98 590\n",
      "GV0815_Pos11_Scr-6_N_events_wt_rad_800_t_range_800_focal_t_1034.csv\n",
      "615 1034 61.49 737\n",
      "GV0815_Pos11_Scr-8_N_events_wt_rad_800_t_range_800_focal_t_1137.csv\n",
      "796 1137 61.84 838\n",
      "GV0815_Pos11_Scr-274_N_events_wt_rad_800_t_range_800_focal_t_1162.csv\n",
      "566 1162 75.6 865\n",
      "GV0815_Pos11_Scr-579_N_events_wt_rad_800_t_range_800_focal_t_1097.csv\n",
      "922 1097 70.31 827\n",
      "GV0815_Pos23_Scr-158_N_events_wt_rad_800_t_range_800_focal_t_585.csv\n",
      "75 585 73.5 341\n",
      "GV0816_Pos14_Scr-15_N_events_wt_rad_800_t_range_800_focal_t_644.csv\n",
      "9 644 58.04 327\n",
      "GV0816_Pos23_Scr-330_N_events_wt_rad_800_t_range_800_focal_t_888.csv\n",
      "403 888 61.13 620\n",
      "GV0817_Pos0_Scr-236_N_events_wt_rad_800_t_range_800_focal_t_1174.csv\n",
      "661 1174 74.2 878\n",
      "GV0817_Pos0_Scr-395_N_events_wt_rad_800_t_range_800_focal_t_824.csv\n",
      "340 824 72.05 526\n",
      "GV0817_Pos11_Scr-547_N_events_wt_rad_800_t_range_800_focal_t_844.csv\n",
      "399 844 65.88 554\n"
     ]
    },
    {
     "name": "stdout",
     "output_type": "stream",
     "text": [
      "GV0817_Pos23_Scr-425_N_events_wt_rad_800_t_range_800_focal_t_933.csv\n",
      "689 933 76.11 672\n",
      "GV0817_Pos23_Scr-590_N_events_wt_rad_800_t_range_800_focal_t_942.csv\n",
      "980 942 78.03 667\n",
      "GV0817_Pos23_Scr-590_N_events_wt_rad_800_t_range_800_focal_t_942.csv\n",
      "1373 942 75.24 696\n",
      "GV0817_Pos23_Scr-740_N_events_wt_rad_800_t_range_800_focal_t_1150.csv\n",
      "1111 1150 68.5 854\n",
      "GV0817_Pos23_Scr-740_N_events_wt_rad_800_t_range_800_focal_t_1150.csv\n",
      "1234 1150 53.65 853\n",
      "GV0818_Pos12_Scr-113_N_events_wt_rad_800_t_range_800_focal_t_705.csv\n",
      "189 705 65.0 418\n",
      "GV0818_Pos13_Scr-218_N_events_wt_rad_800_t_range_800_focal_t_795.csv\n",
      "403 795 79.35 486\n",
      "GV0819_Pos0_Scr-21_N_events_wt_rad_800_t_range_800_focal_t_1053.csv\n",
      "737 1053 73.37 805\n",
      "GV0819_Pos0_Scr-38_N_events_wt_rad_800_t_range_800_focal_t_533.csv\n",
      "108 533 77.79 262\n",
      "GV0819_Pos0_Scr-53_N_events_wt_rad_800_t_range_800_focal_t_1055.csv\n",
      "363 1055 71.91 752\n",
      "GV0819_Pos0_Scr-456_N_events_wt_rad_800_t_range_800_focal_t_1072.csv\n",
      "819 1072 77.76 788\n",
      "GV0819_Pos1_Scr-360_N_events_wt_rad_800_t_range_800_focal_t_1168.csv\n",
      "1123 1168 66.32 850\n",
      "GV0819_Pos2_Scr-40_N_events_wt_rad_800_t_range_800_focal_t_919.csv\n",
      "517 919 68.69 634\n",
      "GV0819_Pos2_Scr-40_N_events_wt_rad_800_t_range_800_focal_t_919.csv\n",
      "518 919 69.93 651\n",
      "GV0819_Pos2_Scr-491_N_events_wt_rad_800_t_range_800_focal_t_1056.csv\n",
      "704 1056 52.6 764\n",
      "GV0819_Pos2_Scr-548_N_events_wt_rad_800_t_range_800_focal_t_1117.csv\n",
      "887 1117 77.9 858\n",
      "GV0819_Pos3_Scr-870_N_events_wt_rad_800_t_range_800_focal_t_1016.csv\n",
      "811 1016 79.34 753\n",
      "GV0819_Pos4_Scr-15_N_events_wt_rad_800_t_range_800_focal_t_620.csv\n",
      "337 620 58.5 322\n",
      "GV0819_Pos4_Scr-339_N_events_wt_rad_800_t_range_800_focal_t_775.csv\n",
      "343 775 57.09 522\n",
      "GV0819_Pos4_Scr-339_N_events_wt_rad_800_t_range_800_focal_t_775.csv\n",
      "344 775 75.61 523\n",
      "GV0819_Pos4_Scr-410_N_events_wt_rad_800_t_range_800_focal_t_1111.csv\n",
      "870 1111 65.44 856\n",
      "GV0819_Pos4_Scr-410_N_events_wt_rad_800_t_range_800_focal_t_1111.csv\n",
      "883 1111 65.5 864\n",
      "GV0819_Pos4_Scr-417_N_events_wt_rad_800_t_range_800_focal_t_1112.csv\n",
      "1743 1112 58.24 826\n",
      "GV0819_Pos4_Scr-417_N_events_wt_rad_800_t_range_800_focal_t_1112.csv\n",
      "1777 1112 56.03 834\n",
      "GV0819_Pos4_Scr-430_N_events_wt_rad_800_t_range_800_focal_t_786.csv\n",
      "326 786 78.44 476\n",
      "GV0819_Pos4_Scr-502_N_events_wt_rad_800_t_range_800_focal_t_1145.csv\n",
      "1049 1145 70.71 884\n",
      "GV0819_Pos4_Scr-502_N_events_wt_rad_800_t_range_800_focal_t_1145.csv\n",
      "1056 1145 70.27 865\n",
      "GV0819_Pos4_Scr-573_N_events_wt_rad_800_t_range_800_focal_t_1092.csv\n",
      "947 1092 69.25 836\n",
      "GV0819_Pos4_Scr-573_N_events_wt_rad_800_t_range_800_focal_t_1092.csv\n",
      "948 1092 66.56 842\n",
      "GV0819_Pos5_Scr-199_N_events_wt_rad_800_t_range_800_focal_t_1175.csv\n",
      "685 1175 78.66 876\n",
      "GV0819_Pos5_Scr-430_N_events_wt_rad_800_t_range_800_focal_t_1094.csv\n",
      "550 1094 73.77 791\n",
      "GV0819_Pos5_Scr-556_N_events_wt_rad_800_t_range_800_focal_t_1080.csv\n",
      "468 1080 35.39 795\n",
      "GV0820_Pos0_Scr-264_N_events_wt_rad_800_t_range_800_focal_t_1023.csv\n",
      "547 1023 68.85 712\n",
      "GV0820_Pos0_Scr-500_N_events_wt_rad_800_t_range_800_focal_t_746.csv\n",
      "281 746 78.15 439\n",
      "GV0820_Pos1_Scr-813_N_events_wt_rad_800_t_range_800_focal_t_1050.csv\n",
      "665 1050 65.91 790\n",
      "GV0820_Pos4_Scr-545_N_events_wt_rad_800_t_range_800_focal_t_994.csv\n",
      "735 994 60.8 703\n",
      "GV0820_Pos4_Scr-545_N_events_wt_rad_800_t_range_800_focal_t_994.csv\n",
      "736 994 49.53 705\n"
     ]
    }
   ],
   "source": [
    "from collections import defaultdict\n",
    "## iterate over individual focal apoptoses lists of N_events and filter for all cells that go through a division at the relevant bin\n",
    "root_event_dir = '/home/nathan/data/results/radial_analysis_output/follow/raw_lists/800.800/canon/21_hours'\n",
    "list_of_focal_apops = [fn for fn in os.listdir(root_event_dir) if 'N_events' in fn]\n",
    "N_div = 0\n",
    "division_dict = defaultdict(dict)#{}#pd.DataFrame(np)\n",
    "for N_events_fn in natsorted(list_of_focal_apops):\n",
    "    expt_ID = N_events_fn.split('_')[0]\n",
    "    pos_ID = N_events_fn.split('_')[1]\n",
    "    scr_ID = N_events_fn.split('_')[2]\n",
    "    wt_ID_time_distance = []\n",
    "#     division_dict[expt_ID] = {}\n",
    "#     division_dict[expt_ID][pos_ID] = {}\n",
    "    \n",
    "    with open(os.path.join(root_event_dir, N_events_fn), 'r') as file:\n",
    "        reader = csv.reader(file, delimiter=\"\\n\")\n",
    "        focal_time = int(re.findall(r\"focal_t_(\\d+)\", N_events_fn)[0])\n",
    "        for row in reader:\n",
    "            row = eval(row[0]) ## formats each row to tuple format\n",
    "            wt_ID = row[0]\n",
    "            distance = row[1]\n",
    "            time = row[2]\n",
    "            ## filter criteria\n",
    "            if focal_time + time_crit[1] < time < focal_time + time_crit[0]:\n",
    "                if distance_crit[0] < distance < distance_crit[1]:\n",
    "                    print(N_events_fn)\n",
    "                    print(wt_ID, focal_time, distance, time)\n",
    "                    N_div+=1\n",
    "                    \n",
    "                    wt_ID_time_distance.append((wt_ID, distance, time))\n",
    "    if len(wt_ID_time_distance) > 0:\n",
    "        division_dict[expt_ID+'_'+pos_ID][scr_ID] = wt_ID_time_distance"
   ]
  },
  {
   "cell_type": "code",
   "execution_count": 126,
   "metadata": {},
   "outputs": [
    {
     "data": {
      "text/plain": [
       "133"
      ]
     },
     "execution_count": 126,
     "metadata": {},
     "output_type": "execute_result"
    }
   ],
   "source": [
    "N_div"
   ]
  },
  {
   "cell_type": "code",
   "execution_count": 135,
   "metadata": {},
   "outputs": [
    {
     "data": {
      "text/plain": [
       "defaultdict(dict,\n",
       "            {'GV0795_Pos5': {'Scr-16': [(86, 42.46, 443)]},\n",
       "             'GV0795_Pos7': {'Scr-416': [(455, 59.81, 744)]},\n",
       "             'GV0796_Pos3': {'Scr-1': [(849, 49.6, 464), (877, 73.42, 470)],\n",
       "              'Scr-45': [(1130, 62.92, 502)],\n",
       "              'Scr-52': [(755, 72.47, 518)],\n",
       "              'Scr-82': [(832, 45.95, 498)]},\n",
       "             'GV0796_Pos4': {'Scr-321': [(326, 66.42, 399)],\n",
       "              'Scr-329': [(483, 61.62, 453)],\n",
       "              'Scr-391': [(617, 56.46, 523)],\n",
       "              'Scr-450': [(616, 76.03, 543)]},\n",
       "             'GV0796_Pos6': {'Scr-565': [(276, 79.57, 565)]},\n",
       "             'GV0796_Pos7': {'Scr-3': [(564, 70.16, 443)],\n",
       "              'Scr-41': [(287, 51.13, 309)],\n",
       "              'Scr-394': [(776, 68.74, 551)],\n",
       "              'Scr-399': [(493, 65.5, 466), (552, 66.77, 451)]},\n",
       "             'GV0796_Pos20': {'Scr-72': [(641, 44.93, 612)],\n",
       "              'Scr-95': [(1232, 72.77, 621)]},\n",
       "             'GV0796_Pos21': {'Scr-252': [(120, 43.23, 298)],\n",
       "              'Scr-646': [(616, 51.7, 636)]},\n",
       "             'GV0796_Pos22': {'Scr-11': [(1043, 79.06, 623)],\n",
       "              'Scr-174': [(142, 69.41, 250)],\n",
       "              'Scr-324': [(593, 48.19, 445)]},\n",
       "             'GV0797_Pos7': {'Scr-9': [(2, 58.25, 106)]},\n",
       "             'GV0797_Pos18': {'Scr-7': [(167, 68.32, 224), (228, 60.99, 284)]},\n",
       "             'GV0798_Pos7': {'Scr-24': [(141, 36.18, 302)],\n",
       "              'Scr-201': [(343, 48.8, 470)],\n",
       "              'Scr-202': [(466, 77.73, 548)]},\n",
       "             'GV0798_Pos18': {'Scr-12': [(211, 64.31, 394)]},\n",
       "             'GV0798_Pos21': {'Scr-9': [(422, 68.71, 532)],\n",
       "              'Scr-43': [(134, 61.74, 278)]},\n",
       "             'GV0800_Pos3': {'Scr-65': [(800, 53.67, 759),\n",
       "               (875, 45.36, 794),\n",
       "               (876, 76.63, 790)],\n",
       "              'Scr-66': [(214, 50.6, 403)]},\n",
       "             'GV0800_Pos4': {'Scr-352': [(254, 65.15, 556)]},\n",
       "             'GV0800_Pos7': {'Scr-190': [(318, 58.29, 490),\n",
       "               (358, 56.85, 547)]},\n",
       "             'GV0800_Pos15': {'Scr-7': [(365, 66.26, 533), (449, 52.15, 598)],\n",
       "              'Scr-61': [(313, 36.21, 452), (314, 70.75, 449)]},\n",
       "             'GV0800_Pos16': {'Scr-451': [(615, 54.15, 706)],\n",
       "              'Scr-542': [(177, 59.72, 592)]},\n",
       "             'GV0801_Pos3': {'Scr-89': [(286, 69.8, 523), (287, 58.98, 533)],\n",
       "              'Scr-123': [(609, 66.06, 752)],\n",
       "              'Scr-163': [(900, 71.1, 861)]},\n",
       "             'GV0801_Pos4': {'Scr-503': [(786, 71.65, 860)]},\n",
       "             'GV0801_Pos5': {'Scr-780': [(253, 79.63, 649)]},\n",
       "             'GV0802_Pos3': {'Scr-7': [(277, 60.57, 428), (427, 72.18, 443)],\n",
       "              'Scr-16': [(666, 65.3, 590)],\n",
       "              'Scr-93': [(343, 76.85, 453), (422, 60.5, 467)],\n",
       "              'Scr-154': [(1037, 47.69, 740), (1126, 75.43, 773)]},\n",
       "             'GV0802_Pos4': {'Scr-3': [(451, 54.22, 639)],\n",
       "              'Scr-31': [(671, 71.21, 748), (672, 75.93, 756)]},\n",
       "             'GV0804_Pos4': {'Scr-163': [(743, 70.11, 788)]},\n",
       "             'GV0804_Pos5': {'Scr-761': [(106, 64.54, 684)],\n",
       "              'Scr-778': [(106, 66.68, 684)]},\n",
       "             'GV0805_Pos3': {'Scr-115': [(1177, 51.42, 829),\n",
       "               (1178, 69.35, 864)]},\n",
       "             'GV0805_Pos4': {'Scr-29': [(625, 64.36, 692)]},\n",
       "             'GV0805_Pos5': {'Scr-769': [(227, 76.72, 881)]},\n",
       "             'GV0806_Pos4': {'Scr-285': [(654, 75.72, 665), (842, 72.92, 666)],\n",
       "              'Scr-308': [(407, 75.67, 569)],\n",
       "              'Scr-682': [(1253, 59.73, 824)]},\n",
       "             'GV0807_Pos3': {'Scr-4': [(526, 43.27, 737), (527, 72.45, 754)],\n",
       "              'Scr-5': [(621, 40.45, 759)],\n",
       "              'Scr-17': [(147, 57.04, 425), (170, 73.45, 458)]},\n",
       "             'GV0807_Pos4': {'Scr-190': [(784, 39.25, 837)],\n",
       "              'Scr-382': [(390, 58.66, 690)]},\n",
       "             'GV0807_Pos5': {'Scr-354': [(52, 33.82, 309)]},\n",
       "             'GV0814_Pos11': {'Scr-189': [(1316, 59.26, 763)]},\n",
       "             'GV0815_Pos0': {'Scr-344': [(437, 70.42, 487)],\n",
       "              'Scr-386': [(333, 75.27, 435)],\n",
       "              'Scr-489': [(735, 78.37, 717)],\n",
       "              'Scr-516': [(412, 46.98, 590)]},\n",
       "             'GV0815_Pos11': {'Scr-6': [(615, 61.49, 737)],\n",
       "              'Scr-8': [(796, 61.84, 838)],\n",
       "              'Scr-274': [(566, 75.6, 865)],\n",
       "              'Scr-579': [(922, 70.31, 827)]},\n",
       "             'GV0815_Pos23': {'Scr-158': [(75, 73.5, 341)]},\n",
       "             'GV0816_Pos14': {'Scr-15': [(9, 58.04, 327)]},\n",
       "             'GV0816_Pos23': {'Scr-330': [(403, 61.13, 620)]},\n",
       "             'GV0817_Pos0': {'Scr-236': [(661, 74.2, 878)],\n",
       "              'Scr-395': [(340, 72.05, 526)]},\n",
       "             'GV0817_Pos11': {'Scr-547': [(399, 65.88, 554)]},\n",
       "             'GV0817_Pos23': {'Scr-425': [(689, 76.11, 672)],\n",
       "              'Scr-590': [(980, 78.03, 667), (1373, 75.24, 696)],\n",
       "              'Scr-740': [(1111, 68.5, 854), (1234, 53.65, 853)]},\n",
       "             'GV0818_Pos12': {'Scr-113': [(189, 65.0, 418)]},\n",
       "             'GV0818_Pos13': {'Scr-218': [(403, 79.35, 486)]},\n",
       "             'GV0819_Pos0': {'Scr-21': [(737, 73.37, 805)],\n",
       "              'Scr-38': [(108, 77.79, 262)],\n",
       "              'Scr-53': [(363, 71.91, 752)],\n",
       "              'Scr-456': [(819, 77.76, 788)]},\n",
       "             'GV0819_Pos1': {'Scr-360': [(1123, 66.32, 850)]},\n",
       "             'GV0819_Pos2': {'Scr-40': [(517, 68.69, 634), (518, 69.93, 651)],\n",
       "              'Scr-491': [(704, 52.6, 764)],\n",
       "              'Scr-548': [(887, 77.9, 858)]},\n",
       "             'GV0819_Pos3': {'Scr-870': [(811, 79.34, 753)]},\n",
       "             'GV0819_Pos4': {'Scr-15': [(337, 58.5, 322)],\n",
       "              'Scr-339': [(343, 57.09, 522), (344, 75.61, 523)],\n",
       "              'Scr-410': [(870, 65.44, 856), (883, 65.5, 864)],\n",
       "              'Scr-417': [(1743, 58.24, 826), (1777, 56.03, 834)],\n",
       "              'Scr-430': [(326, 78.44, 476)],\n",
       "              'Scr-502': [(1049, 70.71, 884), (1056, 70.27, 865)],\n",
       "              'Scr-573': [(947, 69.25, 836), (948, 66.56, 842)]},\n",
       "             'GV0819_Pos5': {'Scr-199': [(685, 78.66, 876)],\n",
       "              'Scr-430': [(550, 73.77, 791)],\n",
       "              'Scr-556': [(468, 35.39, 795)]},\n",
       "             'GV0820_Pos0': {'Scr-264': [(547, 68.85, 712)],\n",
       "              'Scr-500': [(281, 78.15, 439)]},\n",
       "             'GV0820_Pos1': {'Scr-813': [(665, 65.91, 790)]},\n",
       "             'GV0820_Pos4': {'Scr-545': [(735, 60.8, 703),\n",
       "               (736, 49.53, 705)]}})"
      ]
     },
     "execution_count": 135,
     "metadata": {},
     "output_type": "execute_result"
    }
   ],
   "source": [
    "division_dict"
   ]
  },
  {
   "cell_type": "code",
   "execution_count": 146,
   "metadata": {},
   "outputs": [],
   "source": [
    "with open('/home/nathan/data/results/radial_analysis_output/follow/raw_lists/ROIs/filtered_list_wt_divisions_d0-80_t-240--320.json', 'w') as fp:\n",
    "    json.dump(division_dict, fp)"
   ]
  },
  {
   "cell_type": "code",
   "execution_count": 140,
   "metadata": {},
   "outputs": [],
   "source": [
    "count2 = 0\n",
    "for pos in division_dict:\n",
    "    for scr_ID in division_dict[pos]:\n",
    "        count2 += len(division_dict[pos][scr_ID])"
   ]
  },
  {
   "cell_type": "code",
   "execution_count": 141,
   "metadata": {},
   "outputs": [
    {
     "data": {
      "text/plain": [
       "133"
      ]
     },
     "execution_count": 141,
     "metadata": {},
     "output_type": "execute_result"
    }
   ],
   "source": [
    "count2"
   ]
  }
 ],
 "metadata": {
  "kernelspec": {
   "display_name": "CellX",
   "language": "python",
   "name": "cellx"
  },
  "language_info": {
   "codemirror_mode": {
    "name": "ipython",
    "version": 3
   },
   "file_extension": ".py",
   "mimetype": "text/x-python",
   "name": "python",
   "nbconvert_exporter": "python",
   "pygments_lexer": "ipython3",
   "version": "3.9.6"
  }
 },
 "nbformat": 4,
 "nbformat_minor": 4
}
