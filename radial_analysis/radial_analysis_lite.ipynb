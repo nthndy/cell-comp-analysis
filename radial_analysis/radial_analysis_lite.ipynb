{
 "cells": [
  {
   "cell_type": "markdown",
   "metadata": {},
   "source": [
    "# Cumulative event counter"
   ]
  },
  {
   "cell_type": "markdown",
   "metadata": {},
   "source": [
    "### This notebook counts the cumulative spatio-temporal distribution of cellular events in the local neighbourhood of a series of apoptosis events\n",
    "\n",
    "1. Load dictionary of ~apoptoses~ events and their corresponding times to base the spatiotemporal scans around \n",
    "2. Load corresponding tracking data and specify scan parameters\n",
    "3. Iteratively calculate spatiotemporal distribution of cellular events around apoptoses, saving each distribution out a list of events/cell apperances"
   ]
  },
  {
   "cell_type": "code",
   "execution_count": 1,
   "metadata": {},
   "outputs": [],
   "source": [
    "import calculate_radial_analysis as calculate\n",
    "import dataio\n",
    "\n",
    "import glob\n",
    "import os\n",
    "import re\n",
    "from tqdm.auto import tqdm\n",
    "import seaborn as sns\n",
    "import pandas as pd\n",
    "import matplotlib.pyplot as plt\n",
    "from pathlib import Path\n",
    "from natsort import natsorted\n",
    "%matplotlib inline\n",
    "import warnings\n",
    "warnings.filterwarnings('ignore')"
   ]
  },
  {
   "cell_type": "code",
   "execution_count": 2,
   "metadata": {},
   "outputs": [],
   "source": [
    "import importlib"
   ]
  },
  {
   "cell_type": "markdown",
   "metadata": {},
   "source": [
    "## 1) Event dictionary loader\n",
    "\n",
    "Specify cell type to filter out unwanted apoptoses, want end result of event_dict that takes the format of :`event_dict = {event_ID:event_time}` \n",
    "\n",
    "where `event_ID` takes the format of: `GV{experiment_ID}_Pos{position_ID}_{cell_ID}_{cell_type}` \n",
    "\n",
    "For example: \n",
    "\n",
    "```\n",
    "event_dict = {'GV0794_Pos4_393_GFP': '766',\n",
    "             'GV0794_Pos7_364_GFP': '550',\n",
    "             'GV0794_Pos7_457_GFP': '805',\n",
    "             'GV0794_Pos7_369_GFP': '833',\n",
    "             'GV0794_Pos7_292_GFP': '884',\n",
    "             'GV0795_Pos4_358_GFP': '628',\n",
    "             'GV0795_Pos4_18_GFP': '855',\n",
    "             'GV0795_Pos4_1356_GFP': '992',\n",
    "             'GV0795_Pos4_359_GFP': '1133',\n",
    "             'GV0796_Pos4_542_GFP': '581',\n",
    "             'GV0796_Pos4_1334_GFP': '719',\n",
    "             'GV0796_Pos4_1586_GFP': '785'}\n",
    " ```\n",
    " \n",
    "Function to apoptosis event dictionary from preexisting data store:\n",
    "\n",
    "`dataio.apoptosis_list_loader(path_to_apop_lists, cell_type)`\n",
    "\n",
    "Where the `path_to_apop_lists` is the directory containing the apoptosis information and the `cell_type` is either `'Scr'` or `'WT'`."
   ]
  },
  {
   "cell_type": "code",
   "execution_count": 3,
   "metadata": {},
   "outputs": [
    {
     "data": {
      "text/plain": [
       "{'{\"ND0025_Pos7_930_RFP\":': '\"1030\",'}"
      ]
     },
     "execution_count": 3,
     "metadata": {},
     "output_type": "execute_result"
    }
   ],
   "source": [
    "path_to_apop_lists = '/home/nathan/data/kraken/ras/experiment_information/extrusions/'#'/home/nathan/data/kraken/scr/h2b/giulia/experiment_information/apoptoses/final/all'\n",
    "event_dict = dataio.apoptosis_list_loader(path_to_apop_lists, 'Scr')\n",
    "event_dict"
   ]
  },
  {
   "cell_type": "markdown",
   "metadata": {},
   "source": [
    "or if event dictionary already compiled"
   ]
  },
  {
   "cell_type": "code",
   "execution_count": 4,
   "metadata": {
    "scrolled": true
   },
   "outputs": [
    {
     "data": {
      "text/plain": [
       "{'ND0025_Pos7_930_RFP': '1030',\n",
       " 'ND0025_Pos7_958_RFP': '1136',\n",
       " 'ND0025_Pos5_1_RFP': '420',\n",
       " 'ND0014_Pos5_11_RFP': '194',\n",
       " 'ND0014_Pos5_488_RFP_frag': '276',\n",
       " 'ND0014_Pos5_1317_RFP_frag': '592',\n",
       " 'ND0014_Pos5_2535_RFP_frag': '898',\n",
       " 'ND0014_Pos7_1_RFP_frag': '145',\n",
       " 'ND0014_Pos8_482_RFP': '900',\n",
       " 'ND0014_Pos8_481_RFP': '1426',\n",
       " 'ND0014_Pos9_1_RFP': '877',\n",
       " 'ND0017_Pos7_1012_RFP_frag': '679',\n",
       " 'ND0017_Pos7_547_RFP': '615',\n",
       " 'ND0017_Pos7_814_RFP': '775',\n",
       " 'ND0017_Pos7_1627_RFP_frag': '775',\n",
       " 'ND0017_Pos7_1627_RFP': '952',\n",
       " 'ND0021_Pos4_4_RFP': '860',\n",
       " 'ND0021_Pos7_321_RFP': '1151',\n",
       " 'ND0021_Pos7_320_RFP': '1139',\n",
       " 'ND0021_Pos7_177_RFP': '1181',\n",
       " 'ND0021_Pos7_178_RFP': '1146',\n",
       " 'ND0021_Pos7_507_RFP': '1234',\n",
       " 'ND0021_Pos7_506_RFP': '1234',\n",
       " 'ND0021_Pos7_598_RFP': '1293',\n",
       " 'ND0021_Pos7_599_RFP': '1293',\n",
       " 'ND0022_Pos3_4_RFP_frag': '31',\n",
       " 'ND0022_Pos3_907_RFP_frag': '821',\n",
       " 'ND0022_Pos3_910_RFP_frag': '821',\n",
       " 'ND0022_Pos3_940_RFP_frag': '821',\n",
       " 'ND0022_Pos3_840_RFP_frag': '890',\n",
       " 'ND0022_Pos3_1158_RFP_frag': '1000',\n",
       " 'ND0022_Pos3_1197_RFP_frag': '1000',\n",
       " 'ND0022_Pos3_1226_RFP_frag': '1063',\n",
       " 'ND0022_Pos3_976_RFP': '1109',\n",
       " 'ND0022_Pos4_1812_RFP': '1294',\n",
       " 'ND0022_Pos4_643_RFP': '1294',\n",
       " 'ND0022_Pos4_1486_RFP': '1382',\n",
       " 'ND0022_Pos5_2_RFP': '209',\n",
       " 'ND0022_Pos5_1025_RFP_frag': '691',\n",
       " 'ND0022_Pos5_785_RFP': '821',\n",
       " 'ND0022_Pos5_782_RFP': '884',\n",
       " 'ND0022_Pos5_358_RFP': '840',\n",
       " 'ND0022_Pos5_262_RFP': '992',\n",
       " 'ND0022_Pos5_1205_RFP': '1279',\n",
       " 'ND0022_Pos6_7_RFP_frag': '89',\n",
       " 'ND0022_Pos6_1_RFP': '200',\n",
       " 'ND0022_Pos7_15_RFP': '964',\n",
       " 'ND0022_Pos7_728_RFP': '1014',\n",
       " 'ND0022_Pos7_1125_RFP_frag': '1198',\n",
       " 'ND0022_Pos7_1113_RFP_frag': '1140',\n",
       " 'ND0022_Pos7_1112_RFP_frag': '1140',\n",
       " 'ND0022_Pos7_1842_RFP_frag': '1320',\n",
       " 'ND0022_Pos7_1841_RFP_frag': '1320',\n",
       " 'ND0022_Pos7_1062_RFP': '1320',\n",
       " 'ND0022_Pos7_1104_RFP': '1326',\n",
       " 'ND0022_Pos7_1226_RFP': '1390',\n",
       " 'ND0022_Pos7_2017_RFP_frag': '1390',\n",
       " 'ND0024_Pos3_320_RFP': '680',\n",
       " 'ND0024_Pos4_276_RFP': '527',\n",
       " 'ND0024_Pos4_1349_RFP': '953',\n",
       " 'ND0024_Pos4_1570_RFP': '1073',\n",
       " 'ND0024_Pos4_1881_RFP': '1126',\n",
       " 'ND0024_Pos4_1306_RFP': '1126',\n",
       " 'ND0024_Pos4_3228_RFP_frag': '1126',\n",
       " 'ND0024_Pos4_3162_RFP_frag': '1126',\n",
       " 'ND0024_Pos4_1264_RFP': '1126',\n",
       " 'ND0024_Pos4_2890_RFP_frag': '1041',\n",
       " 'ND0024_Pos5_675_RFP_frag': '640',\n",
       " 'ND0024_Pos5_1053_RFP': '1185',\n",
       " 'ND0024_Pos5_1179_RFP': '1189',\n",
       " 'ND0024_Pos5_1183_RFP': '1189',\n",
       " 'ND0024_Pos5_1092_RFP_frag': '1056',\n",
       " 'ND0024_Pos6_7_RFP': '596',\n",
       " 'ND0024_Pos6_473_RFP': '782',\n",
       " 'ND0024_Pos6_638_RFP': '850',\n",
       " 'ND0024_Pos6_775_RFP_frag': '850',\n",
       " 'ND0024_Pos6_776_RFP_frag': '850',\n",
       " 'ND0024_Pos6_639_RFP': '850',\n",
       " 'ND0024_Pos6_754_RFP': '920',\n",
       " 'ND0024_Pos6_1145_RFP_frag': '1080',\n",
       " 'ND0024_Pos6_406_RFP': '1100',\n",
       " 'ND0024_Pos6_812_RFP': '1131',\n",
       " 'ND0024_Pos6_1353_RFP_frag': '1131',\n",
       " 'ND0024_Pos6_1354_RFP_frag': '1131',\n",
       " 'ND0024_Pos7_8_RFP': '1030',\n",
       " 'ND0025_Pos3_2_RFP': '830',\n",
       " 'ND0025_Pos4_1275_RFP_frag': '1090',\n",
       " 'ND0025_Pos4_26_RFP': '1090',\n",
       " 'ND0025_Pos4_207_RFP': '1090',\n",
       " 'ND0025_Pos6_696_RFP_frag': '874',\n",
       " 'ND0025_Pos6_634_RFP': '1010'}"
      ]
     },
     "execution_count": 4,
     "metadata": {},
     "output_type": "execute_result"
    }
   ],
   "source": [
    "event_dict = dataio.event_dict_loader('/home/nathan/data/kraken/ras/experiment_information/extrusions/extrusion_dict.json')\n",
    "event_dict"
   ]
  },
  {
   "cell_type": "code",
   "execution_count": 7,
   "metadata": {},
   "outputs": [],
   "source": [
    "### creating a control measure by swapping RFP IDs with GFP\n",
    "import random\n",
    "control_dict = {}\n",
    "for i in event_dict:\n",
    "    control_dict[i.replace('RFP', 'GFP')] = int(random.uniform(0,1000))"
   ]
  },
  {
   "cell_type": "code",
   "execution_count": 8,
   "metadata": {
    "scrolled": true
   },
   "outputs": [
    {
     "data": {
      "text/plain": [
       "{'ND0025_Pos7_930_GFP': 114,\n",
       " 'ND0025_Pos7_958_GFP': 926,\n",
       " 'ND0025_Pos5_1_GFP': 820,\n",
       " 'ND0014_Pos5_11_GFP': 117,\n",
       " 'ND0014_Pos5_488_GFP_frag': 757,\n",
       " 'ND0014_Pos5_1317_GFP_frag': 525,\n",
       " 'ND0014_Pos5_2535_GFP_frag': 974,\n",
       " 'ND0014_Pos7_1_GFP_frag': 811,\n",
       " 'ND0014_Pos8_482_GFP': 431,\n",
       " 'ND0014_Pos8_481_GFP': 583,\n",
       " 'ND0014_Pos9_1_GFP': 411,\n",
       " 'ND0017_Pos7_1012_GFP_frag': 621,\n",
       " 'ND0017_Pos7_547_GFP': 576,\n",
       " 'ND0017_Pos7_814_GFP': 931,\n",
       " 'ND0017_Pos7_1627_GFP_frag': 337,\n",
       " 'ND0017_Pos7_1627_GFP': 565,\n",
       " 'ND0021_Pos4_4_GFP': 450,\n",
       " 'ND0021_Pos7_321_GFP': 840,\n",
       " 'ND0021_Pos7_320_GFP': 554,\n",
       " 'ND0021_Pos7_177_GFP': 449,\n",
       " 'ND0021_Pos7_178_GFP': 793,\n",
       " 'ND0021_Pos7_507_GFP': 940,\n",
       " 'ND0021_Pos7_506_GFP': 841,\n",
       " 'ND0021_Pos7_598_GFP': 139,\n",
       " 'ND0021_Pos7_599_GFP': 38,\n",
       " 'ND0022_Pos3_4_GFP_frag': 520,\n",
       " 'ND0022_Pos3_907_GFP_frag': 78,\n",
       " 'ND0022_Pos3_910_GFP_frag': 734,\n",
       " 'ND0022_Pos3_940_GFP_frag': 389,\n",
       " 'ND0022_Pos3_840_GFP_frag': 581,\n",
       " 'ND0022_Pos3_1158_GFP_frag': 945,\n",
       " 'ND0022_Pos3_1197_GFP_frag': 246,\n",
       " 'ND0022_Pos3_1226_GFP_frag': 648,\n",
       " 'ND0022_Pos3_976_GFP': 108,\n",
       " 'ND0022_Pos4_1812_GFP': 217,\n",
       " 'ND0022_Pos4_643_GFP': 948,\n",
       " 'ND0022_Pos4_1486_GFP': 201,\n",
       " 'ND0022_Pos5_2_GFP': 367,\n",
       " 'ND0022_Pos5_1025_GFP_frag': 304,\n",
       " 'ND0022_Pos5_785_GFP': 905,\n",
       " 'ND0022_Pos5_782_GFP': 74,\n",
       " 'ND0022_Pos5_358_GFP': 402,\n",
       " 'ND0022_Pos5_262_GFP': 806,\n",
       " 'ND0022_Pos5_1205_GFP': 112,\n",
       " 'ND0022_Pos6_7_GFP_frag': 165,\n",
       " 'ND0022_Pos6_1_GFP': 66,\n",
       " 'ND0022_Pos7_15_GFP': 933,\n",
       " 'ND0022_Pos7_728_GFP': 342,\n",
       " 'ND0022_Pos7_1125_GFP_frag': 742,\n",
       " 'ND0022_Pos7_1113_GFP_frag': 642,\n",
       " 'ND0022_Pos7_1112_GFP_frag': 740,\n",
       " 'ND0022_Pos7_1842_GFP_frag': 488,\n",
       " 'ND0022_Pos7_1841_GFP_frag': 431,\n",
       " 'ND0022_Pos7_1062_GFP': 888,\n",
       " 'ND0022_Pos7_1104_GFP': 708,\n",
       " 'ND0022_Pos7_1226_GFP': 64,\n",
       " 'ND0022_Pos7_2017_GFP_frag': 881,\n",
       " 'ND0024_Pos3_320_GFP': 540,\n",
       " 'ND0024_Pos4_276_GFP': 292,\n",
       " 'ND0024_Pos4_1349_GFP': 528,\n",
       " 'ND0024_Pos4_1570_GFP': 407,\n",
       " 'ND0024_Pos4_1881_GFP': 555,\n",
       " 'ND0024_Pos4_1306_GFP': 194,\n",
       " 'ND0024_Pos4_3228_GFP_frag': 936,\n",
       " 'ND0024_Pos4_3162_GFP_frag': 260,\n",
       " 'ND0024_Pos4_1264_GFP': 300,\n",
       " 'ND0024_Pos4_2890_GFP_frag': 75,\n",
       " 'ND0024_Pos5_675_GFP_frag': 999,\n",
       " 'ND0024_Pos5_1053_GFP': 47,\n",
       " 'ND0024_Pos5_1179_GFP': 175,\n",
       " 'ND0024_Pos5_1183_GFP': 958,\n",
       " 'ND0024_Pos5_1092_GFP_frag': 611,\n",
       " 'ND0024_Pos6_7_GFP': 927,\n",
       " 'ND0024_Pos6_473_GFP': 54,\n",
       " 'ND0024_Pos6_638_GFP': 544,\n",
       " 'ND0024_Pos6_775_GFP_frag': 668,\n",
       " 'ND0024_Pos6_776_GFP_frag': 311,\n",
       " 'ND0024_Pos6_639_GFP': 453,\n",
       " 'ND0024_Pos6_754_GFP': 130,\n",
       " 'ND0024_Pos6_1145_GFP_frag': 439,\n",
       " 'ND0024_Pos6_406_GFP': 522,\n",
       " 'ND0024_Pos6_812_GFP': 704,\n",
       " 'ND0024_Pos6_1353_GFP_frag': 170,\n",
       " 'ND0024_Pos6_1354_GFP_frag': 268,\n",
       " 'ND0024_Pos7_8_GFP': 804,\n",
       " 'ND0025_Pos3_2_GFP': 567,\n",
       " 'ND0025_Pos4_1275_GFP_frag': 407,\n",
       " 'ND0025_Pos4_26_GFP': 22,\n",
       " 'ND0025_Pos4_207_GFP': 814,\n",
       " 'ND0025_Pos6_696_GFP_frag': 506,\n",
       " 'ND0025_Pos6_634_GFP': 403}"
      ]
     },
     "execution_count": 8,
     "metadata": {},
     "output_type": "execute_result"
    }
   ],
   "source": [
    "control_dict"
   ]
  },
  {
   "cell_type": "markdown",
   "metadata": {},
   "source": [
    "## 2) Load corresponding cell tracking data and specifiy other parameters\n",
    "\n",
    "`dataio.hdf5_file_finder(parent_folder_hdf5)` loads a list of all hdf5 files when supplied with the parent directory of all the experiments. This relies on a typical sub-parent directory structure of `'GV****/Pos*/*aligned/HDF/segmented.hdf5'` (aligned folder optional)"
   ]
  },
  {
   "cell_type": "code",
   "execution_count": 10,
   "metadata": {},
   "outputs": [],
   "source": [
    "### load tracking data\n",
    "parent_folder_hdf5 = '/home/nathan/data/kraken/ras/'\n",
    "hdf5_file_list = dataio.hdf5_file_finder(parent_folder_hdf5)\n",
    "\n",
    "### specify output path and neighbourhood scan parameters\n",
    "radius, t_range = 1600, 1600\n",
    "output_path = f'./ras_radial_analysis_beta/control'\n",
    "Path(output_path).mkdir(parents=True, exist_ok=True)"
   ]
  },
  {
   "cell_type": "code",
   "execution_count": 8,
   "metadata": {},
   "outputs": [
    {
     "data": {
      "text/plain": [
       "<module 'calculate_radial_analysis' from '/home/nathan/analysis/cell-comp-analysis/radial_analysis/calculate_radial_analysis.py'>"
      ]
     },
     "execution_count": 8,
     "metadata": {},
     "output_type": "execute_result"
    }
   ],
   "source": [
    "importlib.reload(calculate)"
   ]
  },
  {
   "cell_type": "code",
   "execution_count": 10,
   "metadata": {},
   "outputs": [
    {
     "name": "stdout",
     "output_type": "stream",
     "text": [
      "1600 1600\n"
     ]
    },
    {
     "data": {
      "application/vnd.jupyter.widget-view+json": {
       "model_id": "",
       "version_major": 2,
       "version_minor": 0
      },
      "text/plain": [
       "  0%|          | 0/91 [00:00<?, ?it/s]"
      ]
     },
     "metadata": {},
     "output_type": "display_data"
    },
    {
     "name": "stderr",
     "output_type": "stream",
     "text": [
      "[INFO][2022/05/27 07:29:49 PM] Opening HDF file: /home/nathan/data/kraken/ras/ND0025/Pos7/tracks.h5...\n",
      "[INFO][2022/05/27 07:29:49 PM] Loading tracks/obj_type_1\n"
     ]
    },
    {
     "name": "stdout",
     "output_type": "stream",
     "text": [
      "ID ND0025_Pos7_930_RFP experiment: ND0025/Pos7/\n",
      "Loading ND0025/Pos7/\n",
      "Btrack version no.: 0.5.0\n"
     ]
    },
    {
     "name": "stderr",
     "output_type": "stream",
     "text": [
      "[INFO][2022/05/27 07:29:50 PM] Loading objects/obj_type_1 (197115, 5) (197115 filtered: None)\n",
      "[INFO][2022/05/27 07:29:53 PM] Closing HDF file: /home/nathan/data/kraken/ras/ND0025/Pos7/tracks.h5\n",
      "[INFO][2022/05/27 07:29:53 PM] Opening HDF file: /home/nathan/data/kraken/ras/ND0025/Pos7/tracks.h5...\n",
      "[INFO][2022/05/27 07:29:53 PM] Loading tracks/obj_type_2\n",
      "[INFO][2022/05/27 07:29:53 PM] Loading objects/obj_type_2 (12464, 5) (12464 filtered: None)\n",
      "[INFO][2022/05/27 07:29:53 PM] Closing HDF file: /home/nathan/data/kraken/ras/ND0025/Pos7/tracks.h5\n",
      "[INFO][2022/05/27 07:29:53 PM] Opening HDF file: /home/nathan/data/kraken/ras/ND0025/Pos5/tracks.h5...\n",
      "[INFO][2022/05/27 07:29:53 PM] Loading tracks/obj_type_1\n"
     ]
    },
    {
     "name": "stdout",
     "output_type": "stream",
     "text": [
      "Track information loaded and ordered according to cell type (WT IDs >0> Scr IDs)\n",
      "Loaded ND0025/Pos7/\n",
      "./ras_radial_analysis_beta/control/ND0025_Pos7_mut_-930_N_cells_wt_rad_1600_t_range_1600_focal_txy_1030_797_182.csv already exists, skipping to next focal ID\n",
      "./ras_radial_analysis_beta/control/ND0025_Pos7_mut_-930_N_events_wt_rad_1600_t_range_1600_focal_txy_1030_797_182.csv already exists, skipping to next focal ID\n",
      "ID ND0025_Pos7_958_RFP experiment: ND0025/Pos7/\n",
      "./ras_radial_analysis_beta/control/ND0025_Pos7_mut_-958_N_cells_wt_rad_1600_t_range_1600_focal_txy_1136_1167_60.csv already exists, skipping to next focal ID\n",
      "./ras_radial_analysis_beta/control/ND0025_Pos7_mut_-958_N_events_wt_rad_1600_t_range_1600_focal_txy_1136_1167_60.csv already exists, skipping to next focal ID\n",
      "ID ND0025_Pos5_1_RFP experiment: ND0025/Pos5/\n",
      "Loading ND0025/Pos5/\n",
      "Btrack version no.: 0.5.0\n"
     ]
    },
    {
     "name": "stderr",
     "output_type": "stream",
     "text": [
      "[INFO][2022/05/27 07:29:55 PM] Loading objects/obj_type_1 (419463, 5) (419463 filtered: None)\n",
      "[INFO][2022/05/27 07:30:02 PM] Closing HDF file: /home/nathan/data/kraken/ras/ND0025/Pos5/tracks.h5\n",
      "[INFO][2022/05/27 07:30:02 PM] Opening HDF file: /home/nathan/data/kraken/ras/ND0025/Pos5/tracks.h5...\n",
      "[INFO][2022/05/27 07:30:02 PM] Loading tracks/obj_type_2\n",
      "[INFO][2022/05/27 07:30:02 PM] Loading objects/obj_type_2 (7218, 5) (7218 filtered: None)\n",
      "[INFO][2022/05/27 07:30:02 PM] Closing HDF file: /home/nathan/data/kraken/ras/ND0025/Pos5/tracks.h5\n"
     ]
    },
    {
     "name": "stdout",
     "output_type": "stream",
     "text": [
      "Track information loaded and ordered according to cell type (WT IDs >0> Scr IDs)\n",
      "Loaded ND0025/Pos5/\n"
     ]
    },
    {
     "name": "stderr",
     "output_type": "stream",
     "text": [
      "[INFO][2022/05/27 07:30:02 PM] Opening HDF file: /home/nathan/data/kraken/ras/ND0014/Pos5/tracks.h5...\n",
      "[INFO][2022/05/27 07:30:02 PM] Loading tracks/obj_type_1\n"
     ]
    },
    {
     "name": "stdout",
     "output_type": "stream",
     "text": [
      "./ras_radial_analysis_beta/control/ND0025_Pos5_mut_-1_N_cells_wt_rad_1600_t_range_1600_focal_txy_420_840_582.csv already exists, skipping to next focal ID\n",
      "./ras_radial_analysis_beta/control/ND0025_Pos5_mut_-1_N_events_wt_rad_1600_t_range_1600_focal_txy_420_840_582.csv already exists, skipping to next focal ID\n",
      "ID ND0014_Pos5_11_RFP experiment: ND0014/Pos5/\n",
      "Loading ND0014/Pos5/\n",
      "Btrack version no.: 0.5.0\n"
     ]
    },
    {
     "name": "stderr",
     "output_type": "stream",
     "text": [
      "[INFO][2022/05/27 07:30:03 PM] Loading objects/obj_type_1 (249924, 5) (249924 filtered: None)\n",
      "[INFO][2022/05/27 07:30:11 PM] Closing HDF file: /home/nathan/data/kraken/ras/ND0014/Pos5/tracks.h5\n",
      "[INFO][2022/05/27 07:30:11 PM] Opening HDF file: /home/nathan/data/kraken/ras/ND0014/Pos5/tracks.h5...\n",
      "[INFO][2022/05/27 07:30:11 PM] Loading tracks/obj_type_2\n",
      "[INFO][2022/05/27 07:30:11 PM] Loading objects/obj_type_2 (62283, 5) (62283 filtered: None)\n",
      "[INFO][2022/05/27 07:30:12 PM] Closing HDF file: /home/nathan/data/kraken/ras/ND0014/Pos5/tracks.h5\n"
     ]
    },
    {
     "name": "stdout",
     "output_type": "stream",
     "text": [
      "Track information loaded and ordered according to cell type (WT IDs >0> Scr IDs)\n",
      "Loaded ND0014/Pos5/\n"
     ]
    },
    {
     "name": "stderr",
     "output_type": "stream",
     "text": [
      "[INFO][2022/05/27 07:30:13 PM] Opening HDF file: /home/nathan/data/kraken/ras/ND0014/Pos7/tracks.h5...\n",
      "[INFO][2022/05/27 07:30:13 PM] Loading tracks/obj_type_1\n"
     ]
    },
    {
     "name": "stdout",
     "output_type": "stream",
     "text": [
      "./ras_radial_analysis_beta/control/ND0014_Pos5_mut_-11_N_cells_wt_rad_1600_t_range_1600_focal_txy_194_230_361.csv already exists, skipping to next focal ID\n",
      "./ras_radial_analysis_beta/control/ND0014_Pos5_mut_-11_N_events_wt_rad_1600_t_range_1600_focal_txy_194_230_361.csv already exists, skipping to next focal ID\n",
      "ID ND0014_Pos5_488_RFP_frag experiment: ND0014/Pos5/\n",
      "./ras_radial_analysis_beta/control/ND0014_Pos5_mut_-488_N_cells_wt_rad_1600_t_range_1600_focal_txy_276_433_390.csv already exists, skipping to next focal ID\n",
      "./ras_radial_analysis_beta/control/ND0014_Pos5_mut_-488_N_events_wt_rad_1600_t_range_1600_focal_txy_276_433_390.csv already exists, skipping to next focal ID\n",
      "ID ND0014_Pos5_1317_RFP_frag experiment: ND0014/Pos5/\n",
      "./ras_radial_analysis_beta/control/ND0014_Pos5_mut_-1317_N_cells_wt_rad_1600_t_range_1600_focal_txy_592_40_897.csv already exists, skipping to next focal ID\n",
      "./ras_radial_analysis_beta/control/ND0014_Pos5_mut_-1317_N_events_wt_rad_1600_t_range_1600_focal_txy_592_40_897.csv already exists, skipping to next focal ID\n",
      "ID ND0014_Pos5_2535_RFP_frag experiment: ND0014/Pos5/\n",
      "./ras_radial_analysis_beta/control/ND0014_Pos5_mut_-2535_N_cells_wt_rad_1600_t_range_1600_focal_txy_898_698_77.csv already exists, skipping to next focal ID\n",
      "./ras_radial_analysis_beta/control/ND0014_Pos5_mut_-2535_N_events_wt_rad_1600_t_range_1600_focal_txy_898_698_77.csv already exists, skipping to next focal ID\n",
      "ID ND0014_Pos7_1_RFP_frag experiment: ND0014/Pos7/\n",
      "Loading ND0014/Pos7/\n",
      "Btrack version no.: 0.5.0\n"
     ]
    },
    {
     "name": "stderr",
     "output_type": "stream",
     "text": [
      "[INFO][2022/05/27 07:30:13 PM] Loading objects/obj_type_1 (182289, 5) (182289 filtered: None)\n",
      "[INFO][2022/05/27 07:30:18 PM] Closing HDF file: /home/nathan/data/kraken/ras/ND0014/Pos7/tracks.h5\n",
      "[INFO][2022/05/27 07:30:18 PM] Opening HDF file: /home/nathan/data/kraken/ras/ND0014/Pos7/tracks.h5...\n",
      "[INFO][2022/05/27 07:30:18 PM] Loading tracks/obj_type_2\n",
      "[INFO][2022/05/27 07:30:18 PM] Loading objects/obj_type_2 (10574, 5) (10574 filtered: None)\n",
      "[INFO][2022/05/27 07:30:18 PM] Closing HDF file: /home/nathan/data/kraken/ras/ND0014/Pos7/tracks.h5\n"
     ]
    },
    {
     "name": "stdout",
     "output_type": "stream",
     "text": [
      "Track information loaded and ordered according to cell type (WT IDs >0> Scr IDs)\n",
      "Loaded ND0014/Pos7/\n"
     ]
    },
    {
     "name": "stderr",
     "output_type": "stream",
     "text": [
      "[INFO][2022/05/27 07:30:18 PM] Opening HDF file: /home/nathan/data/kraken/ras/ND0014/Pos8/tracks.h5...\n",
      "[INFO][2022/05/27 07:30:18 PM] Loading tracks/obj_type_1\n"
     ]
    },
    {
     "name": "stdout",
     "output_type": "stream",
     "text": [
      "./ras_radial_analysis_beta/control/ND0014_Pos7_mut_-1_N_cells_wt_rad_1600_t_range_1600_focal_txy_145_1130_434.csv already exists, skipping to next focal ID\n",
      "./ras_radial_analysis_beta/control/ND0014_Pos7_mut_-1_N_events_wt_rad_1600_t_range_1600_focal_txy_145_1130_434.csv already exists, skipping to next focal ID\n",
      "ID ND0014_Pos8_482_RFP experiment: ND0014/Pos8/\n",
      "Loading ND0014/Pos8/\n",
      "Btrack version no.: 0.5.0\n"
     ]
    },
    {
     "name": "stderr",
     "output_type": "stream",
     "text": [
      "[INFO][2022/05/27 07:30:19 PM] Loading objects/obj_type_1 (285628, 5) (285628 filtered: None)\n",
      "[INFO][2022/05/27 07:30:24 PM] Closing HDF file: /home/nathan/data/kraken/ras/ND0014/Pos8/tracks.h5\n",
      "[INFO][2022/05/27 07:30:24 PM] Opening HDF file: /home/nathan/data/kraken/ras/ND0014/Pos8/tracks.h5...\n",
      "[INFO][2022/05/27 07:30:24 PM] Loading tracks/obj_type_2\n",
      "[INFO][2022/05/27 07:30:25 PM] Loading objects/obj_type_2 (29467, 5) (29467 filtered: None)\n",
      "[INFO][2022/05/27 07:30:25 PM] Closing HDF file: /home/nathan/data/kraken/ras/ND0014/Pos8/tracks.h5\n"
     ]
    },
    {
     "name": "stdout",
     "output_type": "stream",
     "text": [
      "Track information loaded and ordered according to cell type (WT IDs >0> Scr IDs)\n",
      "Loaded ND0014/Pos8/\n",
      "./ras_radial_analysis_beta/control/ND0014_Pos8_mut_-482_N_cells_wt_rad_1600_t_range_1600_focal_txy_900_1096_474.csv already exists, skipping to next focal ID\n",
      "./ras_radial_analysis_beta/control/ND0014_Pos8_mut_-482_N_events_wt_rad_1600_t_range_1600_focal_txy_900_1096_474.csv already exists, skipping to next focal ID\n",
      "ID ND0014_Pos8_481_RFP experiment: ND0014/Pos8/\n"
     ]
    },
    {
     "name": "stderr",
     "output_type": "stream",
     "text": [
      "[INFO][2022/05/27 07:47:10 PM] Opening HDF file: /home/nathan/data/kraken/ras/ND0014/Pos9/tracks.h5...\n",
      "[INFO][2022/05/27 07:47:10 PM] Loading tracks/obj_type_1\n"
     ]
    },
    {
     "name": "stdout",
     "output_type": "stream",
     "text": [
      "ID ND0014_Pos9_1_RFP experiment: ND0014/Pos9/\n",
      "Loading ND0014/Pos9/\n",
      "Btrack version no.: 0.5.0\n"
     ]
    },
    {
     "name": "stderr",
     "output_type": "stream",
     "text": [
      "[INFO][2022/05/27 07:47:11 PM] Loading objects/obj_type_1 (444747, 5) (444747 filtered: None)\n",
      "[INFO][2022/05/27 07:47:19 PM] Closing HDF file: /home/nathan/data/kraken/ras/ND0014/Pos9/tracks.h5\n",
      "[INFO][2022/05/27 07:47:19 PM] Opening HDF file: /home/nathan/data/kraken/ras/ND0014/Pos9/tracks.h5...\n",
      "[INFO][2022/05/27 07:47:19 PM] Loading tracks/obj_type_2\n",
      "[INFO][2022/05/27 07:47:19 PM] Loading objects/obj_type_2 (7231, 5) (7231 filtered: None)\n",
      "[INFO][2022/05/27 07:47:19 PM] Closing HDF file: /home/nathan/data/kraken/ras/ND0014/Pos9/tracks.h5\n"
     ]
    },
    {
     "name": "stdout",
     "output_type": "stream",
     "text": [
      "Track information loaded and ordered according to cell type (WT IDs >0> Scr IDs)\n",
      "Loaded ND0014/Pos9/\n"
     ]
    },
    {
     "name": "stderr",
     "output_type": "stream",
     "text": [
      "[INFO][2022/05/27 08:02:26 PM] Opening HDF file: /home/nathan/data/kraken/ras/ND0017/Pos7/tracks.h5...\n",
      "[INFO][2022/05/27 08:02:26 PM] Loading tracks/obj_type_1\n"
     ]
    },
    {
     "name": "stdout",
     "output_type": "stream",
     "text": [
      "ID ND0017_Pos7_1012_RFP_frag experiment: ND0017/Pos7/\n",
      "Loading ND0017/Pos7/\n",
      "Btrack version no.: 0.5.0\n"
     ]
    },
    {
     "name": "stderr",
     "output_type": "stream",
     "text": [
      "[INFO][2022/05/27 08:02:26 PM] Loading objects/obj_type_1 (470131, 5) (470131 filtered: None)\n",
      "[INFO][2022/05/27 08:02:35 PM] Closing HDF file: /home/nathan/data/kraken/ras/ND0017/Pos7/tracks.h5\n",
      "[INFO][2022/05/27 08:02:35 PM] Opening HDF file: /home/nathan/data/kraken/ras/ND0017/Pos7/tracks.h5...\n",
      "[INFO][2022/05/27 08:02:35 PM] Loading tracks/obj_type_2\n",
      "[INFO][2022/05/27 08:02:35 PM] Loading objects/obj_type_2 (22567, 5) (22567 filtered: None)\n",
      "[INFO][2022/05/27 08:02:35 PM] Closing HDF file: /home/nathan/data/kraken/ras/ND0017/Pos7/tracks.h5\n"
     ]
    },
    {
     "name": "stdout",
     "output_type": "stream",
     "text": [
      "Track information loaded and ordered according to cell type (WT IDs >0> Scr IDs)\n",
      "Loaded ND0017/Pos7/\n",
      "ID ND0017_Pos7_547_RFP experiment: ND0017/Pos7/\n",
      "ID ND0017_Pos7_814_RFP experiment: ND0017/Pos7/\n",
      "ID ND0017_Pos7_1627_RFP_frag experiment: ND0017/Pos7/\n",
      "ID ND0017_Pos7_1627_RFP experiment: ND0017/Pos7/\n"
     ]
    },
    {
     "name": "stderr",
     "output_type": "stream",
     "text": [
      "[INFO][2022/05/27 08:36:16 PM] Opening HDF file: /home/nathan/data/kraken/ras/ND0021/Pos4/tracks.h5...\n",
      "[INFO][2022/05/27 08:36:16 PM] Loading tracks/obj_type_1\n"
     ]
    },
    {
     "name": "stdout",
     "output_type": "stream",
     "text": [
      "ID ND0021_Pos4_4_RFP experiment: ND0021/Pos4/\n",
      "Loading ND0021/Pos4/\n",
      "Btrack version no.: 0.5.0\n"
     ]
    },
    {
     "name": "stderr",
     "output_type": "stream",
     "text": [
      "[INFO][2022/05/27 08:36:17 PM] Loading objects/obj_type_1 (1488513, 5) (1488513 filtered: None)\n",
      "[INFO][2022/05/27 08:36:42 PM] Closing HDF file: /home/nathan/data/kraken/ras/ND0021/Pos4/tracks.h5\n",
      "[INFO][2022/05/27 08:36:42 PM] Opening HDF file: /home/nathan/data/kraken/ras/ND0021/Pos4/tracks.h5...\n",
      "[INFO][2022/05/27 08:36:42 PM] Loading tracks/obj_type_2\n",
      "[INFO][2022/05/27 08:36:42 PM] Loading objects/obj_type_2 (51348, 5) (51348 filtered: None)\n",
      "[INFO][2022/05/27 08:36:43 PM] Closing HDF file: /home/nathan/data/kraken/ras/ND0021/Pos4/tracks.h5\n"
     ]
    },
    {
     "name": "stdout",
     "output_type": "stream",
     "text": [
      "Track information loaded and ordered according to cell type (WT IDs >0> Scr IDs)\n",
      "Loaded ND0021/Pos4/\n"
     ]
    },
    {
     "name": "stderr",
     "output_type": "stream",
     "text": [
      "[INFO][2022/05/27 09:22:06 PM] Opening HDF file: /home/nathan/data/kraken/ras/ND0021/Pos7/tracks.h5...\n",
      "[INFO][2022/05/27 09:22:06 PM] Loading tracks/obj_type_1\n"
     ]
    },
    {
     "name": "stdout",
     "output_type": "stream",
     "text": [
      "ID ND0021_Pos7_321_RFP experiment: ND0021/Pos7/\n",
      "Loading ND0021/Pos7/\n",
      "Btrack version no.: 0.5.0\n"
     ]
    },
    {
     "name": "stderr",
     "output_type": "stream",
     "text": [
      "[INFO][2022/05/27 09:22:07 PM] Loading objects/obj_type_1 (1481271, 5) (1481271 filtered: None)\n",
      "[INFO][2022/05/27 09:22:31 PM] Closing HDF file: /home/nathan/data/kraken/ras/ND0021/Pos7/tracks.h5\n",
      "[INFO][2022/05/27 09:22:31 PM] Opening HDF file: /home/nathan/data/kraken/ras/ND0021/Pos7/tracks.h5...\n",
      "[INFO][2022/05/27 09:22:31 PM] Loading tracks/obj_type_2\n",
      "[INFO][2022/05/27 09:22:31 PM] Loading objects/obj_type_2 (38441, 5) (38441 filtered: None)\n",
      "[INFO][2022/05/27 09:22:32 PM] Closing HDF file: /home/nathan/data/kraken/ras/ND0021/Pos7/tracks.h5\n"
     ]
    },
    {
     "name": "stdout",
     "output_type": "stream",
     "text": [
      "Track information loaded and ordered according to cell type (WT IDs >0> Scr IDs)\n",
      "Loaded ND0021/Pos7/\n",
      "ID ND0021_Pos7_320_RFP experiment: ND0021/Pos7/\n",
      "ID ND0021_Pos7_177_RFP experiment: ND0021/Pos7/\n",
      "ID ND0021_Pos7_178_RFP experiment: ND0021/Pos7/\n",
      "ID ND0021_Pos7_507_RFP experiment: ND0021/Pos7/\n",
      "ID ND0021_Pos7_506_RFP experiment: ND0021/Pos7/\n",
      "ID ND0021_Pos7_598_RFP experiment: ND0021/Pos7/\n",
      "ID ND0021_Pos7_599_RFP experiment: ND0021/Pos7/\n"
     ]
    },
    {
     "name": "stderr",
     "output_type": "stream",
     "text": [
      "[INFO][2022/05/28 01:37:58 AM] Opening HDF file: /home/nathan/data/kraken/ras/ND0022/Pos3/tracks.h5...\n",
      "[INFO][2022/05/28 01:37:58 AM] Loading tracks/obj_type_1\n"
     ]
    },
    {
     "name": "stdout",
     "output_type": "stream",
     "text": [
      "ID ND0022_Pos3_4_RFP_frag experiment: ND0022/Pos3/\n",
      "Loading ND0022/Pos3/\n",
      "Btrack version no.: 0.5.0\n"
     ]
    },
    {
     "name": "stderr",
     "output_type": "stream",
     "text": [
      "[INFO][2022/05/28 01:37:59 AM] Loading objects/obj_type_1 (404850, 5) (404850 filtered: None)\n",
      "[INFO][2022/05/28 01:38:06 AM] Closing HDF file: /home/nathan/data/kraken/ras/ND0022/Pos3/tracks.h5\n",
      "[INFO][2022/05/28 01:38:06 AM] Opening HDF file: /home/nathan/data/kraken/ras/ND0022/Pos3/tracks.h5...\n",
      "[INFO][2022/05/28 01:38:06 AM] Loading tracks/obj_type_2\n",
      "[INFO][2022/05/28 01:38:06 AM] Loading objects/obj_type_2 (15790, 5) (15790 filtered: None)\n",
      "[INFO][2022/05/28 01:38:06 AM] Closing HDF file: /home/nathan/data/kraken/ras/ND0022/Pos3/tracks.h5\n"
     ]
    },
    {
     "name": "stdout",
     "output_type": "stream",
     "text": [
      "Track information loaded and ordered according to cell type (WT IDs >0> Scr IDs)\n",
      "Loaded ND0022/Pos3/\n",
      "ID ND0022_Pos3_907_RFP_frag experiment: ND0022/Pos3/\n",
      "ID ND0022_Pos3_910_RFP_frag experiment: ND0022/Pos3/\n",
      "ID ND0022_Pos3_940_RFP_frag experiment: ND0022/Pos3/\n",
      "ID ND0022_Pos3_840_RFP_frag experiment: ND0022/Pos3/\n",
      "ID ND0022_Pos3_1158_RFP_frag experiment: ND0022/Pos3/\n",
      "ID ND0022_Pos3_1197_RFP_frag experiment: ND0022/Pos3/\n",
      "ID ND0022_Pos3_1226_RFP_frag experiment: ND0022/Pos3/\n",
      "ID ND0022_Pos3_976_RFP experiment: ND0022/Pos3/\n"
     ]
    },
    {
     "name": "stderr",
     "output_type": "stream",
     "text": [
      "[INFO][2022/05/28 02:37:31 AM] Opening HDF file: /home/nathan/data/kraken/ras/ND0022/Pos4/tracks.h5...\n",
      "[INFO][2022/05/28 02:37:31 AM] Loading tracks/obj_type_1\n"
     ]
    },
    {
     "name": "stdout",
     "output_type": "stream",
     "text": [
      "ID ND0022_Pos4_1812_RFP experiment: ND0022/Pos4/\n",
      "Loading ND0022/Pos4/\n",
      "Btrack version no.: 0.5.0\n"
     ]
    },
    {
     "name": "stderr",
     "output_type": "stream",
     "text": [
      "[INFO][2022/05/28 02:37:31 AM] Loading objects/obj_type_1 (813379, 5) (813379 filtered: None)\n",
      "[INFO][2022/05/28 02:37:44 AM] Closing HDF file: /home/nathan/data/kraken/ras/ND0022/Pos4/tracks.h5\n",
      "[INFO][2022/05/28 02:37:44 AM] Opening HDF file: /home/nathan/data/kraken/ras/ND0022/Pos4/tracks.h5...\n",
      "[INFO][2022/05/28 02:37:44 AM] Loading tracks/obj_type_2\n",
      "[INFO][2022/05/28 02:37:44 AM] Loading objects/obj_type_2 (18889, 5) (18889 filtered: None)\n",
      "[INFO][2022/05/28 02:37:45 AM] Closing HDF file: /home/nathan/data/kraken/ras/ND0022/Pos4/tracks.h5\n"
     ]
    },
    {
     "name": "stdout",
     "output_type": "stream",
     "text": [
      "Track information loaded and ordered according to cell type (WT IDs >0> Scr IDs)\n",
      "Loaded ND0022/Pos4/\n",
      "ID ND0022_Pos4_643_RFP experiment: ND0022/Pos4/\n",
      "ID ND0022_Pos4_1486_RFP experiment: ND0022/Pos4/\n"
     ]
    },
    {
     "name": "stderr",
     "output_type": "stream",
     "text": [
      "[INFO][2022/05/28 03:19:46 AM] Opening HDF file: /home/nathan/data/kraken/ras/ND0022/Pos5/tracks.h5...\n",
      "[INFO][2022/05/28 03:19:46 AM] Loading tracks/obj_type_1\n"
     ]
    },
    {
     "name": "stdout",
     "output_type": "stream",
     "text": [
      "ID ND0022_Pos5_2_RFP experiment: ND0022/Pos5/\n",
      "Loading ND0022/Pos5/\n",
      "Btrack version no.: 0.5.0\n"
     ]
    },
    {
     "name": "stderr",
     "output_type": "stream",
     "text": [
      "[INFO][2022/05/28 03:19:46 AM] Loading objects/obj_type_1 (254578, 5) (254578 filtered: None)\n",
      "[INFO][2022/05/28 03:19:50 AM] Closing HDF file: /home/nathan/data/kraken/ras/ND0022/Pos5/tracks.h5\n",
      "[INFO][2022/05/28 03:19:50 AM] Opening HDF file: /home/nathan/data/kraken/ras/ND0022/Pos5/tracks.h5...\n",
      "[INFO][2022/05/28 03:19:50 AM] Loading tracks/obj_type_2\n",
      "[INFO][2022/05/28 03:19:50 AM] Loading objects/obj_type_2 (20446, 5) (20446 filtered: None)\n",
      "[INFO][2022/05/28 03:19:51 AM] Closing HDF file: /home/nathan/data/kraken/ras/ND0022/Pos5/tracks.h5\n"
     ]
    },
    {
     "name": "stdout",
     "output_type": "stream",
     "text": [
      "Track information loaded and ordered according to cell type (WT IDs >0> Scr IDs)\n",
      "Loaded ND0022/Pos5/\n",
      "ID ND0022_Pos5_1025_RFP_frag experiment: ND0022/Pos5/\n",
      "ID ND0022_Pos5_785_RFP experiment: ND0022/Pos5/\n",
      "ID ND0022_Pos5_782_RFP experiment: ND0022/Pos5/\n",
      "ID ND0022_Pos5_358_RFP experiment: ND0022/Pos5/\n",
      "ID ND0022_Pos5_262_RFP experiment: ND0022/Pos5/\n",
      "ID ND0022_Pos5_1205_RFP experiment: ND0022/Pos5/\n"
     ]
    },
    {
     "name": "stderr",
     "output_type": "stream",
     "text": [
      "[INFO][2022/05/28 04:06:52 AM] Opening HDF file: /home/nathan/data/kraken/ras/ND0022/Pos6/tracks.h5...\n",
      "[INFO][2022/05/28 04:06:52 AM] Loading tracks/obj_type_1\n"
     ]
    },
    {
     "name": "stdout",
     "output_type": "stream",
     "text": [
      "ID ND0022_Pos6_7_RFP_frag experiment: ND0022/Pos6/\n",
      "Loading ND0022/Pos6/\n",
      "Btrack version no.: 0.5.0\n"
     ]
    },
    {
     "name": "stderr",
     "output_type": "stream",
     "text": [
      "[INFO][2022/05/28 04:06:53 AM] Loading objects/obj_type_1 (1291409, 5) (1291409 filtered: None)\n",
      "[INFO][2022/05/28 04:07:10 AM] Closing HDF file: /home/nathan/data/kraken/ras/ND0022/Pos6/tracks.h5\n",
      "[INFO][2022/05/28 04:07:10 AM] Opening HDF file: /home/nathan/data/kraken/ras/ND0022/Pos6/tracks.h5...\n",
      "[INFO][2022/05/28 04:07:10 AM] Loading tracks/obj_type_2\n",
      "[INFO][2022/05/28 04:07:10 AM] Loading objects/obj_type_2 (15847, 5) (15847 filtered: None)\n",
      "[INFO][2022/05/28 04:07:10 AM] Closing HDF file: /home/nathan/data/kraken/ras/ND0022/Pos6/tracks.h5\n"
     ]
    },
    {
     "name": "stdout",
     "output_type": "stream",
     "text": [
      "Track information loaded and ordered according to cell type (WT IDs >0> Scr IDs)\n",
      "Loaded ND0022/Pos6/\n",
      "ID ND0022_Pos6_1_RFP experiment: ND0022/Pos6/\n"
     ]
    },
    {
     "name": "stderr",
     "output_type": "stream",
     "text": [
      "[INFO][2022/05/28 04:34:40 AM] Opening HDF file: /home/nathan/data/kraken/ras/ND0022/Pos7/tracks.h5...\n",
      "[INFO][2022/05/28 04:34:40 AM] Loading tracks/obj_type_1\n"
     ]
    },
    {
     "name": "stdout",
     "output_type": "stream",
     "text": [
      "ID ND0022_Pos7_15_RFP experiment: ND0022/Pos7/\n",
      "Loading ND0022/Pos7/\n",
      "Btrack version no.: 0.5.0\n"
     ]
    },
    {
     "name": "stderr",
     "output_type": "stream",
     "text": [
      "[INFO][2022/05/28 04:34:40 AM] Loading objects/obj_type_1 (465089, 5) (465089 filtered: None)\n",
      "[INFO][2022/05/28 04:34:51 AM] Closing HDF file: /home/nathan/data/kraken/ras/ND0022/Pos7/tracks.h5\n",
      "[INFO][2022/05/28 04:34:51 AM] Opening HDF file: /home/nathan/data/kraken/ras/ND0022/Pos7/tracks.h5...\n",
      "[INFO][2022/05/28 04:34:51 AM] Loading tracks/obj_type_2\n",
      "[INFO][2022/05/28 04:34:51 AM] Loading objects/obj_type_2 (14348, 5) (14348 filtered: None)\n",
      "[INFO][2022/05/28 04:34:51 AM] Closing HDF file: /home/nathan/data/kraken/ras/ND0022/Pos7/tracks.h5\n"
     ]
    },
    {
     "name": "stdout",
     "output_type": "stream",
     "text": [
      "Track information loaded and ordered according to cell type (WT IDs >0> Scr IDs)\n",
      "Loaded ND0022/Pos7/\n",
      "ID ND0022_Pos7_728_RFP experiment: ND0022/Pos7/\n",
      "ID ND0022_Pos7_1125_RFP_frag experiment: ND0022/Pos7/\n",
      "ID ND0022_Pos7_1113_RFP_frag experiment: ND0022/Pos7/\n",
      "ID ND0022_Pos7_1112_RFP_frag experiment: ND0022/Pos7/\n",
      "ID ND0022_Pos7_1842_RFP_frag experiment: ND0022/Pos7/\n",
      "ID ND0022_Pos7_1841_RFP_frag experiment: ND0022/Pos7/\n",
      "ID ND0022_Pos7_1062_RFP experiment: ND0022/Pos7/\n",
      "ID ND0022_Pos7_1104_RFP experiment: ND0022/Pos7/\n",
      "ID ND0022_Pos7_1226_RFP experiment: ND0022/Pos7/\n",
      "ID ND0022_Pos7_2017_RFP_frag experiment: ND0022/Pos7/\n"
     ]
    },
    {
     "name": "stderr",
     "output_type": "stream",
     "text": [
      "[INFO][2022/05/28 06:09:27 AM] Opening HDF file: /home/nathan/data/kraken/ras/ND0024/Pos3/tracks.h5...\n",
      "[INFO][2022/05/28 06:09:27 AM] Loading tracks/obj_type_1\n"
     ]
    },
    {
     "name": "stdout",
     "output_type": "stream",
     "text": [
      "ID ND0024_Pos3_320_RFP experiment: ND0024/Pos3/\n",
      "Loading ND0024/Pos3/\n",
      "Btrack version no.: 0.5.0\n"
     ]
    },
    {
     "name": "stderr",
     "output_type": "stream",
     "text": [
      "[INFO][2022/05/28 06:09:27 AM] Loading objects/obj_type_1 (636597, 5) (636597 filtered: None)\n",
      "[INFO][2022/05/28 06:09:36 AM] Closing HDF file: /home/nathan/data/kraken/ras/ND0024/Pos3/tracks.h5\n",
      "[INFO][2022/05/28 06:09:36 AM] Opening HDF file: /home/nathan/data/kraken/ras/ND0024/Pos3/tracks.h5...\n",
      "[INFO][2022/05/28 06:09:36 AM] Loading tracks/obj_type_2\n",
      "[INFO][2022/05/28 06:09:36 AM] Loading objects/obj_type_2 (16475, 5) (16475 filtered: None)\n",
      "[INFO][2022/05/28 06:09:36 AM] Closing HDF file: /home/nathan/data/kraken/ras/ND0024/Pos3/tracks.h5\n"
     ]
    },
    {
     "name": "stdout",
     "output_type": "stream",
     "text": [
      "Track information loaded and ordered according to cell type (WT IDs >0> Scr IDs)\n",
      "Loaded ND0024/Pos3/\n"
     ]
    },
    {
     "name": "stderr",
     "output_type": "stream",
     "text": [
      "[INFO][2022/05/28 06:24:54 AM] Opening HDF file: /home/nathan/data/kraken/ras/ND0024/Pos4/tracks.h5...\n",
      "[INFO][2022/05/28 06:24:54 AM] Loading tracks/obj_type_1\n"
     ]
    },
    {
     "name": "stdout",
     "output_type": "stream",
     "text": [
      "ID ND0024_Pos4_276_RFP experiment: ND0024/Pos4/\n",
      "Loading ND0024/Pos4/\n",
      "Btrack version no.: 0.5.0\n"
     ]
    },
    {
     "name": "stderr",
     "output_type": "stream",
     "text": [
      "[INFO][2022/05/28 06:24:54 AM] Loading objects/obj_type_1 (586398, 5) (586398 filtered: None)\n",
      "[INFO][2022/05/28 06:25:05 AM] Closing HDF file: /home/nathan/data/kraken/ras/ND0024/Pos4/tracks.h5\n",
      "[INFO][2022/05/28 06:25:05 AM] Opening HDF file: /home/nathan/data/kraken/ras/ND0024/Pos4/tracks.h5...\n",
      "[INFO][2022/05/28 06:25:05 AM] Loading tracks/obj_type_2\n",
      "[INFO][2022/05/28 06:25:05 AM] Loading objects/obj_type_2 (33390, 5) (33390 filtered: None)\n",
      "[INFO][2022/05/28 06:25:05 AM] Closing HDF file: /home/nathan/data/kraken/ras/ND0024/Pos4/tracks.h5\n"
     ]
    },
    {
     "name": "stdout",
     "output_type": "stream",
     "text": [
      "Track information loaded and ordered according to cell type (WT IDs >0> Scr IDs)\n",
      "Loaded ND0024/Pos4/\n",
      "ID ND0024_Pos4_1349_RFP experiment: ND0024/Pos4/\n",
      "ID ND0024_Pos4_1570_RFP experiment: ND0024/Pos4/\n",
      "ID ND0024_Pos4_1881_RFP experiment: ND0024/Pos4/\n",
      "ID ND0024_Pos4_1306_RFP experiment: ND0024/Pos4/\n",
      "ID ND0024_Pos4_3228_RFP_frag experiment: ND0024/Pos4/\n",
      "ID ND0024_Pos4_3162_RFP_frag experiment: ND0024/Pos4/\n",
      "ID ND0024_Pos4_1264_RFP experiment: ND0024/Pos4/\n",
      "ID ND0024_Pos4_2890_RFP_frag experiment: ND0024/Pos4/\n"
     ]
    },
    {
     "name": "stderr",
     "output_type": "stream",
     "text": [
      "[INFO][2022/05/28 07:53:54 AM] Opening HDF file: /home/nathan/data/kraken/ras/ND0024/Pos5/tracks.h5...\n",
      "[INFO][2022/05/28 07:53:54 AM] Loading tracks/obj_type_1\n"
     ]
    },
    {
     "name": "stdout",
     "output_type": "stream",
     "text": [
      "ID ND0024_Pos5_675_RFP_frag experiment: ND0024/Pos5/\n",
      "Loading ND0024/Pos5/\n",
      "Btrack version no.: 0.5.0\n"
     ]
    },
    {
     "name": "stderr",
     "output_type": "stream",
     "text": [
      "[INFO][2022/05/28 07:53:54 AM] Loading objects/obj_type_1 (418489, 5) (418489 filtered: None)\n",
      "[INFO][2022/05/28 07:54:01 AM] Closing HDF file: /home/nathan/data/kraken/ras/ND0024/Pos5/tracks.h5\n",
      "[INFO][2022/05/28 07:54:01 AM] Opening HDF file: /home/nathan/data/kraken/ras/ND0024/Pos5/tracks.h5...\n",
      "[INFO][2022/05/28 07:54:01 AM] Loading tracks/obj_type_2\n",
      "[INFO][2022/05/28 07:54:01 AM] Loading objects/obj_type_2 (14355, 5) (14355 filtered: None)\n",
      "[INFO][2022/05/28 07:54:01 AM] Closing HDF file: /home/nathan/data/kraken/ras/ND0024/Pos5/tracks.h5\n"
     ]
    },
    {
     "name": "stdout",
     "output_type": "stream",
     "text": [
      "Track information loaded and ordered according to cell type (WT IDs >0> Scr IDs)\n",
      "Loaded ND0024/Pos5/\n",
      "ID ND0024_Pos5_1053_RFP experiment: ND0024/Pos5/\n",
      "ID ND0024_Pos5_1179_RFP experiment: ND0024/Pos5/\n",
      "ID ND0024_Pos5_1183_RFP experiment: ND0024/Pos5/\n",
      "ID ND0024_Pos5_1092_RFP_frag experiment: ND0024/Pos5/\n"
     ]
    },
    {
     "name": "stderr",
     "output_type": "stream",
     "text": [
      "[INFO][2022/05/28 08:18:07 AM] Opening HDF file: /home/nathan/data/kraken/ras/ND0024/Pos6/tracks.h5...\n",
      "[INFO][2022/05/28 08:18:07 AM] Loading tracks/obj_type_1\n"
     ]
    },
    {
     "name": "stdout",
     "output_type": "stream",
     "text": [
      "ID ND0024_Pos6_7_RFP experiment: ND0024/Pos6/\n",
      "Loading ND0024/Pos6/\n",
      "Btrack version no.: 0.5.0\n"
     ]
    },
    {
     "name": "stderr",
     "output_type": "stream",
     "text": [
      "[INFO][2022/05/28 08:18:07 AM] Loading objects/obj_type_1 (484009, 5) (484009 filtered: None)\n",
      "[INFO][2022/05/28 08:18:16 AM] Closing HDF file: /home/nathan/data/kraken/ras/ND0024/Pos6/tracks.h5\n",
      "[INFO][2022/05/28 08:18:16 AM] Opening HDF file: /home/nathan/data/kraken/ras/ND0024/Pos6/tracks.h5...\n",
      "[INFO][2022/05/28 08:18:16 AM] Loading tracks/obj_type_2\n",
      "[INFO][2022/05/28 08:18:16 AM] Loading objects/obj_type_2 (46805, 5) (46805 filtered: None)\n",
      "[INFO][2022/05/28 08:18:16 AM] Closing HDF file: /home/nathan/data/kraken/ras/ND0024/Pos6/tracks.h5\n"
     ]
    },
    {
     "name": "stdout",
     "output_type": "stream",
     "text": [
      "Track information loaded and ordered according to cell type (WT IDs >0> Scr IDs)\n",
      "Loaded ND0024/Pos6/\n",
      "ID ND0024_Pos6_473_RFP experiment: ND0024/Pos6/\n",
      "ID ND0024_Pos6_638_RFP experiment: ND0024/Pos6/\n",
      "ID ND0024_Pos6_775_RFP_frag experiment: ND0024/Pos6/\n",
      "ID ND0024_Pos6_776_RFP_frag experiment: ND0024/Pos6/\n",
      "ID ND0024_Pos6_639_RFP experiment: ND0024/Pos6/\n",
      "ID ND0024_Pos6_754_RFP experiment: ND0024/Pos6/\n",
      "ID ND0024_Pos6_1145_RFP_frag experiment: ND0024/Pos6/\n",
      "ID ND0024_Pos6_406_RFP experiment: ND0024/Pos6/\n",
      "ID ND0024_Pos6_812_RFP experiment: ND0024/Pos6/\n",
      "ID ND0024_Pos6_1353_RFP_frag experiment: ND0024/Pos6/\n",
      "ID ND0024_Pos6_1354_RFP_frag experiment: ND0024/Pos6/\n"
     ]
    },
    {
     "name": "stderr",
     "output_type": "stream",
     "text": [
      "[INFO][2022/05/28 10:13:45 AM] Opening HDF file: /home/nathan/data/kraken/ras/ND0024/Pos7/tracks.h5...\n",
      "[INFO][2022/05/28 10:13:45 AM] Loading tracks/obj_type_1\n"
     ]
    },
    {
     "name": "stdout",
     "output_type": "stream",
     "text": [
      "ID ND0024_Pos7_8_RFP experiment: ND0024/Pos7/\n",
      "Loading ND0024/Pos7/\n",
      "Btrack version no.: 0.5.0\n"
     ]
    },
    {
     "name": "stderr",
     "output_type": "stream",
     "text": [
      "[INFO][2022/05/28 10:13:46 AM] Loading objects/obj_type_1 (296680, 5) (296680 filtered: None)\n",
      "[INFO][2022/05/28 10:13:51 AM] Closing HDF file: /home/nathan/data/kraken/ras/ND0024/Pos7/tracks.h5\n",
      "[INFO][2022/05/28 10:13:51 AM] Opening HDF file: /home/nathan/data/kraken/ras/ND0024/Pos7/tracks.h5...\n",
      "[INFO][2022/05/28 10:13:51 AM] Loading tracks/obj_type_2\n",
      "[INFO][2022/05/28 10:13:51 AM] Loading objects/obj_type_2 (11337, 5) (11337 filtered: None)\n",
      "[INFO][2022/05/28 10:13:52 AM] Closing HDF file: /home/nathan/data/kraken/ras/ND0024/Pos7/tracks.h5\n"
     ]
    },
    {
     "name": "stdout",
     "output_type": "stream",
     "text": [
      "Track information loaded and ordered according to cell type (WT IDs >0> Scr IDs)\n",
      "Loaded ND0024/Pos7/\n"
     ]
    },
    {
     "name": "stderr",
     "output_type": "stream",
     "text": [
      "[INFO][2022/05/28 10:29:01 AM] Opening HDF file: /home/nathan/data/kraken/ras/ND0025/Pos3/tracks.h5...\n",
      "[INFO][2022/05/28 10:29:01 AM] Loading tracks/obj_type_1\n"
     ]
    },
    {
     "name": "stdout",
     "output_type": "stream",
     "text": [
      "ID ND0025_Pos3_2_RFP experiment: ND0025/Pos3/\n",
      "Loading ND0025/Pos3/\n",
      "Btrack version no.: 0.5.0\n"
     ]
    },
    {
     "name": "stderr",
     "output_type": "stream",
     "text": [
      "[INFO][2022/05/28 10:29:01 AM] Loading objects/obj_type_1 (200555, 5) (200555 filtered: None)\n",
      "[INFO][2022/05/28 10:29:04 AM] Closing HDF file: /home/nathan/data/kraken/ras/ND0025/Pos3/tracks.h5\n",
      "[INFO][2022/05/28 10:29:04 AM] Opening HDF file: /home/nathan/data/kraken/ras/ND0025/Pos3/tracks.h5...\n",
      "[INFO][2022/05/28 10:29:04 AM] Loading tracks/obj_type_2\n",
      "[INFO][2022/05/28 10:29:04 AM] Loading objects/obj_type_2 (4490, 5) (4490 filtered: None)\n",
      "[INFO][2022/05/28 10:29:04 AM] Closing HDF file: /home/nathan/data/kraken/ras/ND0025/Pos3/tracks.h5\n"
     ]
    },
    {
     "name": "stdout",
     "output_type": "stream",
     "text": [
      "Track information loaded and ordered according to cell type (WT IDs >0> Scr IDs)\n",
      "Loaded ND0025/Pos3/\n"
     ]
    },
    {
     "name": "stderr",
     "output_type": "stream",
     "text": [
      "[INFO][2022/05/28 10:34:59 AM] Opening HDF file: /home/nathan/data/kraken/ras/ND0025/Pos4/tracks.h5...\n",
      "[INFO][2022/05/28 10:34:59 AM] Loading tracks/obj_type_1\n",
      "[INFO][2022/05/28 10:35:00 AM] Loading objects/obj_type_1 (180679, 5) (180679 filtered: None)\n"
     ]
    },
    {
     "name": "stdout",
     "output_type": "stream",
     "text": [
      "ID ND0025_Pos4_1275_RFP_frag experiment: ND0025/Pos4/\n",
      "Loading ND0025/Pos4/\n",
      "Btrack version no.: 0.5.0\n"
     ]
    },
    {
     "name": "stderr",
     "output_type": "stream",
     "text": [
      "[INFO][2022/05/28 10:35:02 AM] Closing HDF file: /home/nathan/data/kraken/ras/ND0025/Pos4/tracks.h5\n",
      "[INFO][2022/05/28 10:35:02 AM] Opening HDF file: /home/nathan/data/kraken/ras/ND0025/Pos4/tracks.h5...\n",
      "[INFO][2022/05/28 10:35:02 AM] Loading tracks/obj_type_2\n",
      "[INFO][2022/05/28 10:35:02 AM] Loading objects/obj_type_2 (10302, 5) (10302 filtered: None)\n",
      "[INFO][2022/05/28 10:35:03 AM] Closing HDF file: /home/nathan/data/kraken/ras/ND0025/Pos4/tracks.h5\n"
     ]
    },
    {
     "name": "stdout",
     "output_type": "stream",
     "text": [
      "Track information loaded and ordered according to cell type (WT IDs >0> Scr IDs)\n",
      "Loaded ND0025/Pos4/\n",
      "ID ND0025_Pos4_26_RFP experiment: ND0025/Pos4/\n",
      "ID ND0025_Pos4_207_RFP experiment: ND0025/Pos4/\n"
     ]
    },
    {
     "name": "stderr",
     "output_type": "stream",
     "text": [
      "[INFO][2022/05/28 10:50:37 AM] Opening HDF file: /home/nathan/data/kraken/ras/ND0025/Pos6/tracks.h5...\n",
      "[INFO][2022/05/28 10:50:37 AM] Loading tracks/obj_type_1\n"
     ]
    },
    {
     "name": "stdout",
     "output_type": "stream",
     "text": [
      "ID ND0025_Pos6_696_RFP_frag experiment: ND0025/Pos6/\n",
      "Loading ND0025/Pos6/\n",
      "Btrack version no.: 0.5.0\n"
     ]
    },
    {
     "name": "stderr",
     "output_type": "stream",
     "text": [
      "[INFO][2022/05/28 10:50:37 AM] Loading objects/obj_type_1 (392143, 5) (392143 filtered: None)\n",
      "[INFO][2022/05/28 10:50:43 AM] Closing HDF file: /home/nathan/data/kraken/ras/ND0025/Pos6/tracks.h5\n",
      "[INFO][2022/05/28 10:50:43 AM] Opening HDF file: /home/nathan/data/kraken/ras/ND0025/Pos6/tracks.h5...\n",
      "[INFO][2022/05/28 10:50:43 AM] Loading tracks/obj_type_2\n",
      "[INFO][2022/05/28 10:50:43 AM] Loading objects/obj_type_2 (5950, 5) (5950 filtered: None)\n",
      "[INFO][2022/05/28 10:50:43 AM] Closing HDF file: /home/nathan/data/kraken/ras/ND0025/Pos6/tracks.h5\n"
     ]
    },
    {
     "name": "stdout",
     "output_type": "stream",
     "text": [
      "Track information loaded and ordered according to cell type (WT IDs >0> Scr IDs)\n",
      "Loaded ND0025/Pos6/\n",
      "ID ND0025_Pos6_634_RFP experiment: ND0025/Pos6/\n"
     ]
    },
    {
     "data": {
      "text/plain": [
       "(91,\n",
       " [],\n",
       " ['ND0025_Pos7_930_RFP raw lists saved out successfully',\n",
       "  'ND0025_Pos7_958_RFP raw lists saved out successfully',\n",
       "  'ND0025_Pos5_1_RFP raw lists saved out successfully',\n",
       "  'ND0014_Pos5_11_RFP raw lists saved out successfully',\n",
       "  'ND0014_Pos5_488_RFP_frag raw lists saved out successfully',\n",
       "  'ND0014_Pos5_1317_RFP_frag raw lists saved out successfully',\n",
       "  'ND0014_Pos5_2535_RFP_frag raw lists saved out successfully',\n",
       "  'ND0014_Pos7_1_RFP_frag raw lists saved out successfully',\n",
       "  'ND0014_Pos8_482_RFP raw lists saved out successfully',\n",
       "  'ND0014_Pos8_481_RFP raw lists saved out successfully',\n",
       "  'ND0014_Pos9_1_RFP raw lists saved out successfully',\n",
       "  'ND0017_Pos7_1012_RFP_frag raw lists saved out successfully',\n",
       "  'ND0017_Pos7_547_RFP raw lists saved out successfully',\n",
       "  'ND0017_Pos7_814_RFP raw lists saved out successfully',\n",
       "  'ND0017_Pos7_1627_RFP_frag raw lists saved out successfully',\n",
       "  'ND0017_Pos7_1627_RFP raw lists saved out successfully',\n",
       "  'ND0021_Pos4_4_RFP raw lists saved out successfully',\n",
       "  'ND0021_Pos7_321_RFP raw lists saved out successfully',\n",
       "  'ND0021_Pos7_320_RFP raw lists saved out successfully',\n",
       "  'ND0021_Pos7_177_RFP raw lists saved out successfully',\n",
       "  'ND0021_Pos7_178_RFP raw lists saved out successfully',\n",
       "  'ND0021_Pos7_507_RFP raw lists saved out successfully',\n",
       "  'ND0021_Pos7_506_RFP raw lists saved out successfully',\n",
       "  'ND0021_Pos7_598_RFP raw lists saved out successfully',\n",
       "  'ND0021_Pos7_599_RFP raw lists saved out successfully',\n",
       "  'ND0022_Pos3_4_RFP_frag raw lists saved out successfully',\n",
       "  'ND0022_Pos3_907_RFP_frag raw lists saved out successfully',\n",
       "  'ND0022_Pos3_910_RFP_frag raw lists saved out successfully',\n",
       "  'ND0022_Pos3_940_RFP_frag raw lists saved out successfully',\n",
       "  'ND0022_Pos3_840_RFP_frag raw lists saved out successfully',\n",
       "  'ND0022_Pos3_1158_RFP_frag raw lists saved out successfully',\n",
       "  'ND0022_Pos3_1197_RFP_frag raw lists saved out successfully',\n",
       "  'ND0022_Pos3_1226_RFP_frag raw lists saved out successfully',\n",
       "  'ND0022_Pos3_976_RFP raw lists saved out successfully',\n",
       "  'ND0022_Pos4_1812_RFP raw lists saved out successfully',\n",
       "  'ND0022_Pos4_643_RFP raw lists saved out successfully',\n",
       "  'ND0022_Pos4_1486_RFP raw lists saved out successfully',\n",
       "  'ND0022_Pos5_2_RFP raw lists saved out successfully',\n",
       "  'ND0022_Pos5_1025_RFP_frag raw lists saved out successfully',\n",
       "  'ND0022_Pos5_785_RFP raw lists saved out successfully',\n",
       "  'ND0022_Pos5_782_RFP raw lists saved out successfully',\n",
       "  'ND0022_Pos5_358_RFP raw lists saved out successfully',\n",
       "  'ND0022_Pos5_262_RFP raw lists saved out successfully',\n",
       "  'ND0022_Pos5_1205_RFP raw lists saved out successfully',\n",
       "  'ND0022_Pos6_7_RFP_frag raw lists saved out successfully',\n",
       "  'ND0022_Pos6_1_RFP raw lists saved out successfully',\n",
       "  'ND0022_Pos7_15_RFP raw lists saved out successfully',\n",
       "  'ND0022_Pos7_728_RFP raw lists saved out successfully',\n",
       "  'ND0022_Pos7_1125_RFP_frag raw lists saved out successfully',\n",
       "  'ND0022_Pos7_1113_RFP_frag raw lists saved out successfully',\n",
       "  'ND0022_Pos7_1112_RFP_frag raw lists saved out successfully',\n",
       "  'ND0022_Pos7_1842_RFP_frag raw lists saved out successfully',\n",
       "  'ND0022_Pos7_1841_RFP_frag raw lists saved out successfully',\n",
       "  'ND0022_Pos7_1062_RFP raw lists saved out successfully',\n",
       "  'ND0022_Pos7_1104_RFP raw lists saved out successfully',\n",
       "  'ND0022_Pos7_1226_RFP raw lists saved out successfully',\n",
       "  'ND0022_Pos7_2017_RFP_frag raw lists saved out successfully',\n",
       "  'ND0024_Pos3_320_RFP raw lists saved out successfully',\n",
       "  'ND0024_Pos4_276_RFP raw lists saved out successfully',\n",
       "  'ND0024_Pos4_1349_RFP raw lists saved out successfully',\n",
       "  'ND0024_Pos4_1570_RFP raw lists saved out successfully',\n",
       "  'ND0024_Pos4_1881_RFP raw lists saved out successfully',\n",
       "  'ND0024_Pos4_1306_RFP raw lists saved out successfully',\n",
       "  'ND0024_Pos4_3228_RFP_frag raw lists saved out successfully',\n",
       "  'ND0024_Pos4_3162_RFP_frag raw lists saved out successfully',\n",
       "  'ND0024_Pos4_1264_RFP raw lists saved out successfully',\n",
       "  'ND0024_Pos4_2890_RFP_frag raw lists saved out successfully',\n",
       "  'ND0024_Pos5_675_RFP_frag raw lists saved out successfully',\n",
       "  'ND0024_Pos5_1053_RFP raw lists saved out successfully',\n",
       "  'ND0024_Pos5_1179_RFP raw lists saved out successfully',\n",
       "  'ND0024_Pos5_1183_RFP raw lists saved out successfully',\n",
       "  'ND0024_Pos5_1092_RFP_frag raw lists saved out successfully',\n",
       "  'ND0024_Pos6_7_RFP raw lists saved out successfully',\n",
       "  'ND0024_Pos6_473_RFP raw lists saved out successfully',\n",
       "  'ND0024_Pos6_638_RFP raw lists saved out successfully',\n",
       "  'ND0024_Pos6_775_RFP_frag raw lists saved out successfully',\n",
       "  'ND0024_Pos6_776_RFP_frag raw lists saved out successfully',\n",
       "  'ND0024_Pos6_639_RFP raw lists saved out successfully',\n",
       "  'ND0024_Pos6_754_RFP raw lists saved out successfully',\n",
       "  'ND0024_Pos6_1145_RFP_frag raw lists saved out successfully',\n",
       "  'ND0024_Pos6_406_RFP raw lists saved out successfully',\n",
       "  'ND0024_Pos6_812_RFP raw lists saved out successfully',\n",
       "  'ND0024_Pos6_1353_RFP_frag raw lists saved out successfully',\n",
       "  'ND0024_Pos6_1354_RFP_frag raw lists saved out successfully',\n",
       "  'ND0024_Pos7_8_RFP raw lists saved out successfully',\n",
       "  'ND0025_Pos3_2_RFP raw lists saved out successfully',\n",
       "  'ND0025_Pos4_1275_RFP_frag raw lists saved out successfully',\n",
       "  'ND0025_Pos4_26_RFP raw lists saved out successfully',\n",
       "  'ND0025_Pos4_207_RFP raw lists saved out successfully',\n",
       "  'ND0025_Pos6_696_RFP_frag raw lists saved out successfully',\n",
       "  'ND0025_Pos6_634_RFP raw lists saved out successfully'])"
      ]
     },
     "execution_count": 10,
     "metadata": {},
     "output_type": "execute_result"
    }
   ],
   "source": [
    "calculate.radial_scan('WT', ## 'Scr',\n",
    "    'DIVIDE', \n",
    "    event_dict, \n",
    "    hdf5_file_list, \n",
    "    radius, \n",
    "    t_range, \n",
    "   # num_bins, \n",
    "    output_path)"
   ]
  },
  {
   "cell_type": "code",
   "execution_count": null,
   "metadata": {},
   "outputs": [],
   "source": []
  },
  {
   "cell_type": "code",
   "execution_count": 11,
   "metadata": {
    "scrolled": true
   },
   "outputs": [
    {
     "name": "stdout",
     "output_type": "stream",
     "text": [
      "1600 1600\n"
     ]
    },
    {
     "data": {
      "application/vnd.jupyter.widget-view+json": {
       "model_id": "41f86e552d9844f8ab4e35316a952ab6",
       "version_major": 2,
       "version_minor": 0
      },
      "text/plain": [
       "  0%|          | 0/91 [00:00<?, ?it/s]"
      ]
     },
     "metadata": {},
     "output_type": "display_data"
    },
    {
     "name": "stderr",
     "output_type": "stream",
     "text": [
      "[INFO][2022/06/01 02:55:37 PM] Opening HDF file: /home/nathan/data/kraken/ras/ND0025/Pos7/tracks.h5...\n",
      "[INFO][2022/06/01 02:55:37 PM] Loading tracks/obj_type_1\n"
     ]
    },
    {
     "name": "stdout",
     "output_type": "stream",
     "text": [
      "ID ND0025_Pos7_930_GFP experiment: ND0025/Pos7/\n",
      "Loading ND0025/Pos7/\n",
      "Btrack version no.: 0.5.0\n"
     ]
    },
    {
     "name": "stderr",
     "output_type": "stream",
     "text": [
      "[INFO][2022/06/01 02:55:37 PM] Loading objects/obj_type_1 (197115, 5) (197115 filtered: None)\n",
      "[INFO][2022/06/01 02:55:41 PM] Closing HDF file: /home/nathan/data/kraken/ras/ND0025/Pos7/tracks.h5\n",
      "[INFO][2022/06/01 02:55:41 PM] Opening HDF file: /home/nathan/data/kraken/ras/ND0025/Pos7/tracks.h5...\n",
      "[INFO][2022/06/01 02:55:41 PM] Loading tracks/obj_type_2\n",
      "[INFO][2022/06/01 02:55:41 PM] Loading objects/obj_type_2 (12464, 5) (12464 filtered: None)\n",
      "[INFO][2022/06/01 02:55:41 PM] Closing HDF file: /home/nathan/data/kraken/ras/ND0025/Pos7/tracks.h5\n",
      "[INFO][2022/06/01 02:55:41 PM] Opening HDF file: /home/nathan/data/kraken/ras/ND0025/Pos5/tracks.h5...\n",
      "[INFO][2022/06/01 02:55:41 PM] Loading tracks/obj_type_1\n"
     ]
    },
    {
     "name": "stdout",
     "output_type": "stream",
     "text": [
      "Track information loaded and ordered according to cell type (WT IDs >0> Scr IDs)\n",
      "Loaded ND0025/Pos7/\n",
      "Focal time not in frame\n",
      "ID ND0025_Pos7_958_GFP experiment: ND0025/Pos7/\n",
      "Focal time not in frame\n",
      "ID ND0025_Pos5_1_GFP experiment: ND0025/Pos5/\n",
      "Loading ND0025/Pos5/\n",
      "Btrack version no.: 0.5.0\n"
     ]
    },
    {
     "name": "stderr",
     "output_type": "stream",
     "text": [
      "[INFO][2022/06/01 02:55:41 PM] Loading objects/obj_type_1 (419463, 5) (419463 filtered: None)\n",
      "[INFO][2022/06/01 02:55:49 PM] Closing HDF file: /home/nathan/data/kraken/ras/ND0025/Pos5/tracks.h5\n",
      "[INFO][2022/06/01 02:55:49 PM] Opening HDF file: /home/nathan/data/kraken/ras/ND0025/Pos5/tracks.h5...\n",
      "[INFO][2022/06/01 02:55:49 PM] Loading tracks/obj_type_2\n",
      "[INFO][2022/06/01 02:55:49 PM] Loading objects/obj_type_2 (7218, 5) (7218 filtered: None)\n",
      "[INFO][2022/06/01 02:55:49 PM] Closing HDF file: /home/nathan/data/kraken/ras/ND0025/Pos5/tracks.h5\n"
     ]
    },
    {
     "name": "stdout",
     "output_type": "stream",
     "text": [
      "Track information loaded and ordered according to cell type (WT IDs >0> Scr IDs)\n",
      "Loaded ND0025/Pos5/\n"
     ]
    },
    {
     "name": "stderr",
     "output_type": "stream",
     "text": [
      "[INFO][2022/06/01 03:00:07 PM] Opening HDF file: /home/nathan/data/kraken/ras/ND0014/Pos5/tracks.h5...\n",
      "[INFO][2022/06/01 03:00:07 PM] Loading tracks/obj_type_1\n"
     ]
    },
    {
     "name": "stdout",
     "output_type": "stream",
     "text": [
      "ID ND0014_Pos5_11_GFP experiment: ND0014/Pos5/\n",
      "Loading ND0014/Pos5/\n",
      "Btrack version no.: 0.5.0\n"
     ]
    },
    {
     "name": "stderr",
     "output_type": "stream",
     "text": [
      "[INFO][2022/06/01 03:00:07 PM] Loading objects/obj_type_1 (249924, 5) (249924 filtered: None)\n",
      "[INFO][2022/06/01 03:00:16 PM] Closing HDF file: /home/nathan/data/kraken/ras/ND0014/Pos5/tracks.h5\n",
      "[INFO][2022/06/01 03:00:16 PM] Opening HDF file: /home/nathan/data/kraken/ras/ND0014/Pos5/tracks.h5...\n",
      "[INFO][2022/06/01 03:00:16 PM] Loading tracks/obj_type_2\n",
      "[INFO][2022/06/01 03:00:17 PM] Loading objects/obj_type_2 (62283, 5) (62283 filtered: None)\n",
      "[INFO][2022/06/01 03:00:18 PM] Closing HDF file: /home/nathan/data/kraken/ras/ND0014/Pos5/tracks.h5\n",
      "[INFO][2022/06/01 03:00:18 PM] Opening HDF file: /home/nathan/data/kraken/ras/ND0014/Pos7/tracks.h5...\n",
      "[INFO][2022/06/01 03:00:18 PM] Loading tracks/obj_type_1\n"
     ]
    },
    {
     "name": "stdout",
     "output_type": "stream",
     "text": [
      "Track information loaded and ordered according to cell type (WT IDs >0> Scr IDs)\n",
      "Loaded ND0014/Pos5/\n",
      "Focal time not in frame\n",
      "ID ND0014_Pos5_488_GFP_frag experiment: ND0014/Pos5/\n",
      "Focal time not in frame\n",
      "ID ND0014_Pos5_1317_GFP_frag experiment: ND0014/Pos5/\n",
      "ID ND0014_Pos5_2535_GFP_frag experiment: ND0014/Pos5/\n",
      "Focal time not in frame\n",
      "ID ND0014_Pos7_1_GFP_frag experiment: ND0014/Pos7/\n",
      "Loading ND0014/Pos7/\n",
      "Btrack version no.: 0.5.0\n"
     ]
    },
    {
     "name": "stderr",
     "output_type": "stream",
     "text": [
      "[INFO][2022/06/01 03:00:18 PM] Loading objects/obj_type_1 (182289, 5) (182289 filtered: None)\n",
      "[INFO][2022/06/01 03:00:23 PM] Closing HDF file: /home/nathan/data/kraken/ras/ND0014/Pos7/tracks.h5\n",
      "[INFO][2022/06/01 03:00:23 PM] Opening HDF file: /home/nathan/data/kraken/ras/ND0014/Pos7/tracks.h5...\n",
      "[INFO][2022/06/01 03:00:23 PM] Loading tracks/obj_type_2\n",
      "[INFO][2022/06/01 03:00:23 PM] Loading objects/obj_type_2 (10574, 5) (10574 filtered: None)\n",
      "[INFO][2022/06/01 03:00:23 PM] Closing HDF file: /home/nathan/data/kraken/ras/ND0014/Pos7/tracks.h5\n",
      "[INFO][2022/06/01 03:00:23 PM] Opening HDF file: /home/nathan/data/kraken/ras/ND0014/Pos8/tracks.h5...\n",
      "[INFO][2022/06/01 03:00:23 PM] Loading tracks/obj_type_1\n"
     ]
    },
    {
     "name": "stdout",
     "output_type": "stream",
     "text": [
      "Track information loaded and ordered according to cell type (WT IDs >0> Scr IDs)\n",
      "Loaded ND0014/Pos7/\n",
      "Focal time not in frame\n",
      "ID ND0014_Pos8_482_GFP experiment: ND0014/Pos8/\n",
      "Loading ND0014/Pos8/\n",
      "Btrack version no.: 0.5.0\n"
     ]
    },
    {
     "name": "stderr",
     "output_type": "stream",
     "text": [
      "[INFO][2022/06/01 03:00:24 PM] Loading objects/obj_type_1 (285628, 5) (285628 filtered: None)\n",
      "[INFO][2022/06/01 03:00:30 PM] Closing HDF file: /home/nathan/data/kraken/ras/ND0014/Pos8/tracks.h5\n",
      "[INFO][2022/06/01 03:00:30 PM] Opening HDF file: /home/nathan/data/kraken/ras/ND0014/Pos8/tracks.h5...\n",
      "[INFO][2022/06/01 03:00:30 PM] Loading tracks/obj_type_2\n",
      "[INFO][2022/06/01 03:00:30 PM] Loading objects/obj_type_2 (29467, 5) (29467 filtered: None)\n",
      "[INFO][2022/06/01 03:00:31 PM] Closing HDF file: /home/nathan/data/kraken/ras/ND0014/Pos8/tracks.h5\n",
      "[INFO][2022/06/01 03:00:31 PM] Opening HDF file: /home/nathan/data/kraken/ras/ND0014/Pos9/tracks.h5...\n",
      "[INFO][2022/06/01 03:00:31 PM] Loading tracks/obj_type_1\n"
     ]
    },
    {
     "name": "stdout",
     "output_type": "stream",
     "text": [
      "Track information loaded and ordered according to cell type (WT IDs >0> Scr IDs)\n",
      "Loaded ND0014/Pos8/\n",
      "Focal time not in frame\n",
      "ID ND0014_Pos8_481_GFP experiment: ND0014/Pos8/\n",
      "Focal time not in frame\n",
      "ID ND0014_Pos9_1_GFP experiment: ND0014/Pos9/\n",
      "Loading ND0014/Pos9/\n",
      "Btrack version no.: 0.5.0\n"
     ]
    },
    {
     "name": "stderr",
     "output_type": "stream",
     "text": [
      "[INFO][2022/06/01 03:00:31 PM] Loading objects/obj_type_1 (444747, 5) (444747 filtered: None)\n",
      "[INFO][2022/06/01 03:00:41 PM] Closing HDF file: /home/nathan/data/kraken/ras/ND0014/Pos9/tracks.h5\n",
      "[INFO][2022/06/01 03:00:41 PM] Opening HDF file: /home/nathan/data/kraken/ras/ND0014/Pos9/tracks.h5...\n",
      "[INFO][2022/06/01 03:00:41 PM] Loading tracks/obj_type_2\n",
      "[INFO][2022/06/01 03:00:41 PM] Loading objects/obj_type_2 (7231, 5) (7231 filtered: None)\n",
      "[INFO][2022/06/01 03:00:41 PM] Closing HDF file: /home/nathan/data/kraken/ras/ND0014/Pos9/tracks.h5\n"
     ]
    },
    {
     "name": "stdout",
     "output_type": "stream",
     "text": [
      "Track information loaded and ordered according to cell type (WT IDs >0> Scr IDs)\n",
      "Loaded ND0014/Pos9/\n"
     ]
    },
    {
     "name": "stderr",
     "output_type": "stream",
     "text": [
      "[INFO][2022/06/01 03:04:31 PM] Opening HDF file: /home/nathan/data/kraken/ras/ND0017/Pos7/tracks.h5...\n",
      "[INFO][2022/06/01 03:04:31 PM] Loading tracks/obj_type_1\n"
     ]
    },
    {
     "name": "stdout",
     "output_type": "stream",
     "text": [
      "ID ND0017_Pos7_1012_GFP_frag experiment: ND0017/Pos7/\n",
      "Loading ND0017/Pos7/\n",
      "Btrack version no.: 0.5.0\n"
     ]
    },
    {
     "name": "stderr",
     "output_type": "stream",
     "text": [
      "[INFO][2022/06/01 03:04:31 PM] Loading objects/obj_type_1 (470131, 5) (470131 filtered: None)\n",
      "[INFO][2022/06/01 03:04:43 PM] Closing HDF file: /home/nathan/data/kraken/ras/ND0017/Pos7/tracks.h5\n",
      "[INFO][2022/06/01 03:04:43 PM] Opening HDF file: /home/nathan/data/kraken/ras/ND0017/Pos7/tracks.h5...\n",
      "[INFO][2022/06/01 03:04:43 PM] Loading tracks/obj_type_2\n",
      "[INFO][2022/06/01 03:04:43 PM] Loading objects/obj_type_2 (22567, 5) (22567 filtered: None)\n",
      "[INFO][2022/06/01 03:04:43 PM] Closing HDF file: /home/nathan/data/kraken/ras/ND0017/Pos7/tracks.h5\n",
      "[INFO][2022/06/01 03:04:43 PM] Opening HDF file: /home/nathan/data/kraken/ras/ND0021/Pos4/tracks.h5...\n",
      "[INFO][2022/06/01 03:04:43 PM] Loading tracks/obj_type_1\n"
     ]
    },
    {
     "name": "stdout",
     "output_type": "stream",
     "text": [
      "Track information loaded and ordered according to cell type (WT IDs >0> Scr IDs)\n",
      "Loaded ND0017/Pos7/\n",
      "ID ND0017_Pos7_547_GFP experiment: ND0017/Pos7/\n",
      "ID ND0017_Pos7_814_GFP experiment: ND0017/Pos7/\n",
      "ID ND0017_Pos7_1627_GFP_frag experiment: ND0017/Pos7/\n",
      "Focal time not in frame\n",
      "ID ND0017_Pos7_1627_GFP experiment: ND0017/Pos7/\n",
      "Focal time not in frame\n",
      "ID ND0021_Pos4_4_GFP experiment: ND0021/Pos4/\n",
      "Loading ND0021/Pos4/\n",
      "Btrack version no.: 0.5.0\n"
     ]
    },
    {
     "name": "stderr",
     "output_type": "stream",
     "text": [
      "[INFO][2022/06/01 03:04:44 PM] Loading objects/obj_type_1 (1488513, 5) (1488513 filtered: None)\n",
      "[INFO][2022/06/01 03:05:19 PM] Closing HDF file: /home/nathan/data/kraken/ras/ND0021/Pos4/tracks.h5\n",
      "[INFO][2022/06/01 03:05:19 PM] Opening HDF file: /home/nathan/data/kraken/ras/ND0021/Pos4/tracks.h5...\n",
      "[INFO][2022/06/01 03:05:19 PM] Loading tracks/obj_type_2\n",
      "[INFO][2022/06/01 03:05:19 PM] Loading objects/obj_type_2 (51348, 5) (51348 filtered: None)\n",
      "[INFO][2022/06/01 03:05:20 PM] Closing HDF file: /home/nathan/data/kraken/ras/ND0021/Pos4/tracks.h5\n",
      "[INFO][2022/06/01 03:05:21 PM] Opening HDF file: /home/nathan/data/kraken/ras/ND0021/Pos7/tracks.h5...\n",
      "[INFO][2022/06/01 03:05:21 PM] Loading tracks/obj_type_1\n"
     ]
    },
    {
     "name": "stdout",
     "output_type": "stream",
     "text": [
      "Track information loaded and ordered according to cell type (WT IDs >0> Scr IDs)\n",
      "Loaded ND0021/Pos4/\n",
      "Focal time not in frame\n",
      "ID ND0021_Pos7_321_GFP experiment: ND0021/Pos7/\n",
      "Loading ND0021/Pos7/\n",
      "Btrack version no.: 0.5.0\n"
     ]
    },
    {
     "name": "stderr",
     "output_type": "stream",
     "text": [
      "[INFO][2022/06/01 03:05:22 PM] Loading objects/obj_type_1 (1481271, 5) (1481271 filtered: None)\n",
      "[INFO][2022/06/01 03:05:51 PM] Closing HDF file: /home/nathan/data/kraken/ras/ND0021/Pos7/tracks.h5\n",
      "[INFO][2022/06/01 03:05:51 PM] Opening HDF file: /home/nathan/data/kraken/ras/ND0021/Pos7/tracks.h5...\n",
      "[INFO][2022/06/01 03:05:51 PM] Loading tracks/obj_type_2\n",
      "[INFO][2022/06/01 03:05:51 PM] Loading objects/obj_type_2 (38441, 5) (38441 filtered: None)\n",
      "[INFO][2022/06/01 03:05:52 PM] Closing HDF file: /home/nathan/data/kraken/ras/ND0021/Pos7/tracks.h5\n"
     ]
    },
    {
     "name": "stdout",
     "output_type": "stream",
     "text": [
      "Track information loaded and ordered according to cell type (WT IDs >0> Scr IDs)\n",
      "Loaded ND0021/Pos7/\n",
      "Focal time not in frame\n",
      "ID ND0021_Pos7_320_GFP experiment: ND0021/Pos7/\n",
      "Focal time not in frame\n",
      "ID ND0021_Pos7_177_GFP experiment: ND0021/Pos7/\n",
      "Focal time not in frame\n",
      "ID ND0021_Pos7_178_GFP experiment: ND0021/Pos7/\n"
     ]
    },
    {
     "name": "stderr",
     "output_type": "stream",
     "text": [
      "[INFO][2022/06/01 03:19:26 PM] Opening HDF file: /home/nathan/data/kraken/ras/ND0022/Pos3/tracks.h5...\n",
      "[INFO][2022/06/01 03:19:26 PM] Loading tracks/obj_type_1\n"
     ]
    },
    {
     "name": "stdout",
     "output_type": "stream",
     "text": [
      "ID ND0021_Pos7_507_GFP experiment: ND0021/Pos7/\n",
      "Focal time not in frame\n",
      "ID ND0021_Pos7_506_GFP experiment: ND0021/Pos7/\n",
      "Focal time not in frame\n",
      "ID ND0021_Pos7_598_GFP experiment: ND0021/Pos7/\n",
      "Focal time not in frame\n",
      "ID ND0021_Pos7_599_GFP experiment: ND0021/Pos7/\n",
      "Focal time not in frame\n",
      "ID ND0022_Pos3_4_GFP_frag experiment: ND0022/Pos3/\n",
      "Loading ND0022/Pos3/\n",
      "Btrack version no.: 0.5.0\n"
     ]
    },
    {
     "name": "stderr",
     "output_type": "stream",
     "text": [
      "[INFO][2022/06/01 03:19:26 PM] Loading objects/obj_type_1 (404850, 5) (404850 filtered: None)\n",
      "[INFO][2022/06/01 03:19:35 PM] Closing HDF file: /home/nathan/data/kraken/ras/ND0022/Pos3/tracks.h5\n",
      "[INFO][2022/06/01 03:19:35 PM] Opening HDF file: /home/nathan/data/kraken/ras/ND0022/Pos3/tracks.h5...\n",
      "[INFO][2022/06/01 03:19:35 PM] Loading tracks/obj_type_2\n",
      "[INFO][2022/06/01 03:19:36 PM] Loading objects/obj_type_2 (15790, 5) (15790 filtered: None)\n",
      "[INFO][2022/06/01 03:19:36 PM] Closing HDF file: /home/nathan/data/kraken/ras/ND0022/Pos3/tracks.h5\n"
     ]
    },
    {
     "name": "stdout",
     "output_type": "stream",
     "text": [
      "Track information loaded and ordered according to cell type (WT IDs >0> Scr IDs)\n",
      "Loaded ND0022/Pos3/\n"
     ]
    },
    {
     "name": "stderr",
     "output_type": "stream",
     "text": [
      "[INFO][2022/06/01 03:34:29 PM] Opening HDF file: /home/nathan/data/kraken/ras/ND0022/Pos4/tracks.h5...\n",
      "[INFO][2022/06/01 03:34:29 PM] Loading tracks/obj_type_1\n"
     ]
    },
    {
     "name": "stdout",
     "output_type": "stream",
     "text": [
      "ID ND0022_Pos3_907_GFP_frag experiment: ND0022/Pos3/\n",
      "Focal time not in frame\n",
      "ID ND0022_Pos3_910_GFP_frag experiment: ND0022/Pos3/\n",
      "Focal time not in frame\n",
      "ID ND0022_Pos3_940_GFP_frag experiment: ND0022/Pos3/\n",
      "Focal time not in frame\n",
      "ID ND0022_Pos3_840_GFP_frag experiment: ND0022/Pos3/\n",
      "Focal time not in frame\n",
      "ID ND0022_Pos3_1158_GFP_frag experiment: ND0022/Pos3/\n",
      "Focal time not in frame\n",
      "ID ND0022_Pos3_1197_GFP_frag experiment: ND0022/Pos3/\n",
      "Focal time not in frame\n",
      "ID ND0022_Pos3_1226_GFP_frag experiment: ND0022/Pos3/\n",
      "Focal time not in frame\n",
      "ID ND0022_Pos3_976_GFP experiment: ND0022/Pos3/\n",
      "Focal time not in frame\n",
      "ID ND0022_Pos4_1812_GFP experiment: ND0022/Pos4/\n",
      "Loading ND0022/Pos4/\n",
      "Btrack version no.: 0.5.0\n"
     ]
    },
    {
     "name": "stderr",
     "output_type": "stream",
     "text": [
      "[INFO][2022/06/01 03:34:31 PM] Loading objects/obj_type_1 (813379, 5) (813379 filtered: None)\n",
      "[INFO][2022/06/01 03:34:46 PM] Closing HDF file: /home/nathan/data/kraken/ras/ND0022/Pos4/tracks.h5\n",
      "[INFO][2022/06/01 03:34:46 PM] Opening HDF file: /home/nathan/data/kraken/ras/ND0022/Pos4/tracks.h5...\n",
      "[INFO][2022/06/01 03:34:46 PM] Loading tracks/obj_type_2\n",
      "[INFO][2022/06/01 03:34:46 PM] Loading objects/obj_type_2 (18889, 5) (18889 filtered: None)\n",
      "[INFO][2022/06/01 03:34:46 PM] Closing HDF file: /home/nathan/data/kraken/ras/ND0022/Pos4/tracks.h5\n",
      "[INFO][2022/06/01 03:34:46 PM] Opening HDF file: /home/nathan/data/kraken/ras/ND0022/Pos5/tracks.h5...\n",
      "[INFO][2022/06/01 03:34:46 PM] Loading tracks/obj_type_1\n"
     ]
    },
    {
     "name": "stdout",
     "output_type": "stream",
     "text": [
      "Track information loaded and ordered according to cell type (WT IDs >0> Scr IDs)\n",
      "Loaded ND0022/Pos4/\n",
      "Focal time not in frame\n",
      "ID ND0022_Pos4_643_GFP experiment: ND0022/Pos4/\n",
      "Focal time not in frame\n",
      "ID ND0022_Pos4_1486_GFP experiment: ND0022/Pos4/\n",
      "Focal time not in frame\n",
      "ID ND0022_Pos5_2_GFP experiment: ND0022/Pos5/\n",
      "Loading ND0022/Pos5/\n",
      "Btrack version no.: 0.5.0\n"
     ]
    },
    {
     "name": "stderr",
     "output_type": "stream",
     "text": [
      "[INFO][2022/06/01 03:34:46 PM] Loading objects/obj_type_1 (254578, 5) (254578 filtered: None)\n",
      "[INFO][2022/06/01 03:34:53 PM] Closing HDF file: /home/nathan/data/kraken/ras/ND0022/Pos5/tracks.h5\n",
      "[INFO][2022/06/01 03:34:53 PM] Opening HDF file: /home/nathan/data/kraken/ras/ND0022/Pos5/tracks.h5...\n",
      "[INFO][2022/06/01 03:34:53 PM] Loading tracks/obj_type_2\n",
      "[INFO][2022/06/01 03:34:53 PM] Loading objects/obj_type_2 (20446, 5) (20446 filtered: None)\n",
      "[INFO][2022/06/01 03:34:53 PM] Closing HDF file: /home/nathan/data/kraken/ras/ND0022/Pos5/tracks.h5\n",
      "[INFO][2022/06/01 03:34:54 PM] Opening HDF file: /home/nathan/data/kraken/ras/ND0022/Pos6/tracks.h5...\n",
      "[INFO][2022/06/01 03:34:54 PM] Loading tracks/obj_type_1\n"
     ]
    },
    {
     "name": "stdout",
     "output_type": "stream",
     "text": [
      "Track information loaded and ordered according to cell type (WT IDs >0> Scr IDs)\n",
      "Loaded ND0022/Pos5/\n",
      "Focal time not in frame\n",
      "ID ND0022_Pos5_1025_GFP_frag experiment: ND0022/Pos5/\n",
      "Focal time not in frame\n",
      "ID ND0022_Pos5_785_GFP experiment: ND0022/Pos5/\n",
      "Focal time not in frame\n",
      "ID ND0022_Pos5_782_GFP experiment: ND0022/Pos5/\n",
      "Focal time not in frame\n",
      "ID ND0022_Pos5_358_GFP experiment: ND0022/Pos5/\n",
      "Focal time not in frame\n",
      "ID ND0022_Pos5_262_GFP experiment: ND0022/Pos5/\n",
      "Focal time not in frame\n",
      "ID ND0022_Pos5_1205_GFP experiment: ND0022/Pos5/\n",
      "Focal time not in frame\n",
      "ID ND0022_Pos6_7_GFP_frag experiment: ND0022/Pos6/\n",
      "Loading ND0022/Pos6/\n",
      "Btrack version no.: 0.5.0\n"
     ]
    },
    {
     "name": "stderr",
     "output_type": "stream",
     "text": [
      "[INFO][2022/06/01 03:34:55 PM] Loading objects/obj_type_1 (1291409, 5) (1291409 filtered: None)\n",
      "[INFO][2022/06/01 03:35:19 PM] Closing HDF file: /home/nathan/data/kraken/ras/ND0022/Pos6/tracks.h5\n",
      "[INFO][2022/06/01 03:35:19 PM] Opening HDF file: /home/nathan/data/kraken/ras/ND0022/Pos6/tracks.h5...\n",
      "[INFO][2022/06/01 03:35:19 PM] Loading tracks/obj_type_2\n",
      "[INFO][2022/06/01 03:35:20 PM] Loading objects/obj_type_2 (15847, 5) (15847 filtered: None)\n",
      "[INFO][2022/06/01 03:35:20 PM] Closing HDF file: /home/nathan/data/kraken/ras/ND0022/Pos6/tracks.h5\n"
     ]
    },
    {
     "name": "stdout",
     "output_type": "stream",
     "text": [
      "Track information loaded and ordered according to cell type (WT IDs >0> Scr IDs)\n",
      "Loaded ND0022/Pos6/\n",
      "Focal time not in frame\n",
      "ID ND0022_Pos6_1_GFP experiment: ND0022/Pos6/\n"
     ]
    },
    {
     "name": "stderr",
     "output_type": "stream",
     "text": [
      "[INFO][2022/06/01 04:23:55 PM] Opening HDF file: /home/nathan/data/kraken/ras/ND0022/Pos7/tracks.h5...\n",
      "[INFO][2022/06/01 04:23:55 PM] Loading tracks/obj_type_1\n"
     ]
    },
    {
     "name": "stdout",
     "output_type": "stream",
     "text": [
      "ID ND0022_Pos7_15_GFP experiment: ND0022/Pos7/\n",
      "Loading ND0022/Pos7/\n",
      "Btrack version no.: 0.5.0\n"
     ]
    },
    {
     "name": "stderr",
     "output_type": "stream",
     "text": [
      "[INFO][2022/06/01 04:23:56 PM] Loading objects/obj_type_1 (465089, 5) (465089 filtered: None)\n",
      "[INFO][2022/06/01 04:24:06 PM] Closing HDF file: /home/nathan/data/kraken/ras/ND0022/Pos7/tracks.h5\n",
      "[INFO][2022/06/01 04:24:06 PM] Opening HDF file: /home/nathan/data/kraken/ras/ND0022/Pos7/tracks.h5...\n",
      "[INFO][2022/06/01 04:24:06 PM] Loading tracks/obj_type_2\n",
      "[INFO][2022/06/01 04:24:06 PM] Loading objects/obj_type_2 (14348, 5) (14348 filtered: None)\n",
      "[INFO][2022/06/01 04:24:06 PM] Closing HDF file: /home/nathan/data/kraken/ras/ND0022/Pos7/tracks.h5\n",
      "[INFO][2022/06/01 04:24:06 PM] Opening HDF file: /home/nathan/data/kraken/ras/ND0024/Pos3/tracks.h5...\n",
      "[INFO][2022/06/01 04:24:06 PM] Loading tracks/obj_type_1\n"
     ]
    },
    {
     "name": "stdout",
     "output_type": "stream",
     "text": [
      "Track information loaded and ordered according to cell type (WT IDs >0> Scr IDs)\n",
      "Loaded ND0022/Pos7/\n",
      "Focal time not in frame\n",
      "ID ND0022_Pos7_728_GFP experiment: ND0022/Pos7/\n",
      "Focal time not in frame\n",
      "ID ND0022_Pos7_1125_GFP_frag experiment: ND0022/Pos7/\n",
      "Focal time not in frame\n",
      "ID ND0022_Pos7_1113_GFP_frag experiment: ND0022/Pos7/\n",
      "Focal time not in frame\n",
      "ID ND0022_Pos7_1112_GFP_frag experiment: ND0022/Pos7/\n",
      "Focal time not in frame\n",
      "ID ND0022_Pos7_1842_GFP_frag experiment: ND0022/Pos7/\n",
      "Focal time not in frame\n",
      "ID ND0022_Pos7_1841_GFP_frag experiment: ND0022/Pos7/\n",
      "Focal time not in frame\n",
      "ID ND0022_Pos7_1062_GFP experiment: ND0022/Pos7/\n",
      "Focal time not in frame\n",
      "ID ND0022_Pos7_1104_GFP experiment: ND0022/Pos7/\n",
      "ID ND0022_Pos7_1226_GFP experiment: ND0022/Pos7/\n",
      "Focal time not in frame\n",
      "ID ND0022_Pos7_2017_GFP_frag experiment: ND0022/Pos7/\n",
      "Focal time not in frame\n",
      "ID ND0024_Pos3_320_GFP experiment: ND0024/Pos3/\n",
      "Loading ND0024/Pos3/\n",
      "Btrack version no.: 0.5.0\n"
     ]
    },
    {
     "name": "stderr",
     "output_type": "stream",
     "text": [
      "[INFO][2022/06/01 04:24:07 PM] Loading objects/obj_type_1 (636597, 5) (636597 filtered: None)\n",
      "[INFO][2022/06/01 04:24:21 PM] Closing HDF file: /home/nathan/data/kraken/ras/ND0024/Pos3/tracks.h5\n",
      "[INFO][2022/06/01 04:24:21 PM] Opening HDF file: /home/nathan/data/kraken/ras/ND0024/Pos3/tracks.h5...\n",
      "[INFO][2022/06/01 04:24:21 PM] Loading tracks/obj_type_2\n",
      "[INFO][2022/06/01 04:24:21 PM] Loading objects/obj_type_2 (16475, 5) (16475 filtered: None)\n",
      "[INFO][2022/06/01 04:24:21 PM] Closing HDF file: /home/nathan/data/kraken/ras/ND0024/Pos3/tracks.h5\n",
      "[INFO][2022/06/01 04:24:22 PM] Opening HDF file: /home/nathan/data/kraken/ras/ND0024/Pos4/tracks.h5...\n",
      "[INFO][2022/06/01 04:24:22 PM] Loading tracks/obj_type_1\n"
     ]
    },
    {
     "name": "stdout",
     "output_type": "stream",
     "text": [
      "Track information loaded and ordered according to cell type (WT IDs >0> Scr IDs)\n",
      "Loaded ND0024/Pos3/\n",
      "Focal time not in frame\n",
      "ID ND0024_Pos4_276_GFP experiment: ND0024/Pos4/\n",
      "Loading ND0024/Pos4/\n",
      "Btrack version no.: 0.5.0\n"
     ]
    },
    {
     "name": "stderr",
     "output_type": "stream",
     "text": [
      "[INFO][2022/06/01 04:24:22 PM] Loading objects/obj_type_1 (586398, 5) (586398 filtered: None)\n",
      "[INFO][2022/06/01 04:24:36 PM] Closing HDF file: /home/nathan/data/kraken/ras/ND0024/Pos4/tracks.h5\n",
      "[INFO][2022/06/01 04:24:36 PM] Opening HDF file: /home/nathan/data/kraken/ras/ND0024/Pos4/tracks.h5...\n",
      "[INFO][2022/06/01 04:24:36 PM] Loading tracks/obj_type_2\n",
      "[INFO][2022/06/01 04:24:36 PM] Loading objects/obj_type_2 (33390, 5) (33390 filtered: None)\n",
      "[INFO][2022/06/01 04:24:36 PM] Closing HDF file: /home/nathan/data/kraken/ras/ND0024/Pos4/tracks.h5\n",
      "[INFO][2022/06/01 04:24:38 PM] Opening HDF file: /home/nathan/data/kraken/ras/ND0024/Pos5/tracks.h5...\n",
      "[INFO][2022/06/01 04:24:38 PM] Loading tracks/obj_type_1\n"
     ]
    },
    {
     "name": "stdout",
     "output_type": "stream",
     "text": [
      "Track information loaded and ordered according to cell type (WT IDs >0> Scr IDs)\n",
      "Loaded ND0024/Pos4/\n",
      "Focal time not in frame\n",
      "ID ND0024_Pos4_1349_GFP experiment: ND0024/Pos4/\n",
      "Focal time not in frame\n",
      "ID ND0024_Pos4_1570_GFP experiment: ND0024/Pos4/\n",
      "Focal time not in frame\n",
      "ID ND0024_Pos4_1881_GFP experiment: ND0024/Pos4/\n",
      "Focal time not in frame\n",
      "ID ND0024_Pos4_1306_GFP experiment: ND0024/Pos4/\n",
      "Focal time not in frame\n",
      "ID ND0024_Pos4_3228_GFP_frag experiment: ND0024/Pos4/\n",
      "Focal time not in frame\n",
      "ID ND0024_Pos4_3162_GFP_frag experiment: ND0024/Pos4/\n",
      "Focal time not in frame\n",
      "ID ND0024_Pos4_1264_GFP experiment: ND0024/Pos4/\n",
      "Focal time not in frame\n",
      "ID ND0024_Pos4_2890_GFP_frag experiment: ND0024/Pos4/\n",
      "ID ND0024_Pos5_675_GFP_frag experiment: ND0024/Pos5/\n",
      "Loading ND0024/Pos5/\n",
      "Btrack version no.: 0.5.0\n"
     ]
    },
    {
     "name": "stderr",
     "output_type": "stream",
     "text": [
      "[INFO][2022/06/01 04:24:38 PM] Loading objects/obj_type_1 (418489, 5) (418489 filtered: None)\n",
      "[INFO][2022/06/01 04:24:48 PM] Closing HDF file: /home/nathan/data/kraken/ras/ND0024/Pos5/tracks.h5\n",
      "[INFO][2022/06/01 04:24:48 PM] Opening HDF file: /home/nathan/data/kraken/ras/ND0024/Pos5/tracks.h5...\n",
      "[INFO][2022/06/01 04:24:48 PM] Loading tracks/obj_type_2\n",
      "[INFO][2022/06/01 04:24:49 PM] Loading objects/obj_type_2 (14355, 5) (14355 filtered: None)\n",
      "[INFO][2022/06/01 04:24:49 PM] Closing HDF file: /home/nathan/data/kraken/ras/ND0024/Pos5/tracks.h5\n"
     ]
    },
    {
     "name": "stdout",
     "output_type": "stream",
     "text": [
      "Track information loaded and ordered according to cell type (WT IDs >0> Scr IDs)\n",
      "Loaded ND0024/Pos5/\n",
      "Focal time not in frame\n",
      "ID ND0024_Pos5_1053_GFP experiment: ND0024/Pos5/\n",
      "Focal time not in frame\n",
      "ID ND0024_Pos5_1179_GFP experiment: ND0024/Pos5/\n",
      "ID ND0024_Pos5_1183_GFP experiment: ND0024/Pos5/\n",
      "Focal time not in frame\n",
      "ID ND0024_Pos5_1092_GFP_frag experiment: ND0024/Pos5/\n"
     ]
    },
    {
     "name": "stderr",
     "output_type": "stream",
     "text": [
      "[INFO][2022/06/01 04:35:28 PM] Opening HDF file: /home/nathan/data/kraken/ras/ND0024/Pos6/tracks.h5...\n",
      "[INFO][2022/06/01 04:35:28 PM] Loading tracks/obj_type_1\n"
     ]
    },
    {
     "name": "stdout",
     "output_type": "stream",
     "text": [
      "ID ND0024_Pos6_7_GFP experiment: ND0024/Pos6/\n",
      "Loading ND0024/Pos6/\n",
      "Btrack version no.: 0.5.0\n"
     ]
    },
    {
     "name": "stderr",
     "output_type": "stream",
     "text": [
      "[INFO][2022/06/01 04:35:28 PM] Loading objects/obj_type_1 (484009, 5) (484009 filtered: None)\n",
      "[INFO][2022/06/01 04:35:39 PM] Closing HDF file: /home/nathan/data/kraken/ras/ND0024/Pos6/tracks.h5\n",
      "[INFO][2022/06/01 04:35:39 PM] Opening HDF file: /home/nathan/data/kraken/ras/ND0024/Pos6/tracks.h5...\n",
      "[INFO][2022/06/01 04:35:39 PM] Loading tracks/obj_type_2\n",
      "[INFO][2022/06/01 04:35:39 PM] Loading objects/obj_type_2 (46805, 5) (46805 filtered: None)\n",
      "[INFO][2022/06/01 04:35:42 PM] Closing HDF file: /home/nathan/data/kraken/ras/ND0024/Pos6/tracks.h5\n"
     ]
    },
    {
     "name": "stdout",
     "output_type": "stream",
     "text": [
      "Track information loaded and ordered according to cell type (WT IDs >0> Scr IDs)\n",
      "Loaded ND0024/Pos6/\n",
      "Focal time not in frame\n",
      "ID ND0024_Pos6_473_GFP experiment: ND0024/Pos6/\n",
      "Focal time not in frame\n",
      "ID ND0024_Pos6_638_GFP experiment: ND0024/Pos6/\n",
      "Focal time not in frame\n",
      "ID ND0024_Pos6_775_GFP_frag experiment: ND0024/Pos6/\n",
      "ID ND0024_Pos6_776_GFP_frag experiment: ND0024/Pos6/\n",
      "Focal time not in frame\n",
      "ID ND0024_Pos6_639_GFP experiment: ND0024/Pos6/\n",
      "Focal time not in frame\n",
      "ID ND0024_Pos6_754_GFP experiment: ND0024/Pos6/\n",
      "Focal time not in frame\n",
      "ID ND0024_Pos6_1145_GFP_frag experiment: ND0024/Pos6/\n"
     ]
    },
    {
     "name": "stderr",
     "output_type": "stream",
     "text": [
      "[INFO][2022/06/01 04:48:51 PM] Opening HDF file: /home/nathan/data/kraken/ras/ND0024/Pos7/tracks.h5...\n",
      "[INFO][2022/06/01 04:48:51 PM] Loading tracks/obj_type_1\n"
     ]
    },
    {
     "name": "stdout",
     "output_type": "stream",
     "text": [
      "ID ND0024_Pos6_406_GFP experiment: ND0024/Pos6/\n",
      "Focal time not in frame\n",
      "ID ND0024_Pos6_812_GFP experiment: ND0024/Pos6/\n",
      "Focal time not in frame\n",
      "ID ND0024_Pos6_1353_GFP_frag experiment: ND0024/Pos6/\n",
      "Focal time not in frame\n",
      "ID ND0024_Pos6_1354_GFP_frag experiment: ND0024/Pos6/\n",
      "Focal time not in frame\n",
      "ID ND0024_Pos7_8_GFP experiment: ND0024/Pos7/\n",
      "Loading ND0024/Pos7/\n",
      "Btrack version no.: 0.5.0\n"
     ]
    },
    {
     "name": "stderr",
     "output_type": "stream",
     "text": [
      "[INFO][2022/06/01 04:48:52 PM] Loading objects/obj_type_1 (296680, 5) (296680 filtered: None)\n",
      "[INFO][2022/06/01 04:48:58 PM] Closing HDF file: /home/nathan/data/kraken/ras/ND0024/Pos7/tracks.h5\n",
      "[INFO][2022/06/01 04:48:58 PM] Opening HDF file: /home/nathan/data/kraken/ras/ND0024/Pos7/tracks.h5...\n",
      "[INFO][2022/06/01 04:48:58 PM] Loading tracks/obj_type_2\n",
      "[INFO][2022/06/01 04:48:58 PM] Loading objects/obj_type_2 (11337, 5) (11337 filtered: None)\n",
      "[INFO][2022/06/01 04:48:58 PM] Closing HDF file: /home/nathan/data/kraken/ras/ND0024/Pos7/tracks.h5\n"
     ]
    },
    {
     "name": "stdout",
     "output_type": "stream",
     "text": [
      "Track information loaded and ordered according to cell type (WT IDs >0> Scr IDs)\n",
      "Loaded ND0024/Pos7/\n"
     ]
    },
    {
     "name": "stderr",
     "output_type": "stream",
     "text": [
      "[INFO][2022/06/01 04:54:56 PM] Opening HDF file: /home/nathan/data/kraken/ras/ND0025/Pos3/tracks.h5...\n",
      "[INFO][2022/06/01 04:54:56 PM] Loading tracks/obj_type_1\n"
     ]
    },
    {
     "name": "stdout",
     "output_type": "stream",
     "text": [
      "ID ND0025_Pos3_2_GFP experiment: ND0025/Pos3/\n",
      "Loading ND0025/Pos3/\n",
      "Btrack version no.: 0.5.0\n"
     ]
    },
    {
     "name": "stderr",
     "output_type": "stream",
     "text": [
      "[INFO][2022/06/01 04:54:56 PM] Loading objects/obj_type_1 (200555, 5) (200555 filtered: None)\n",
      "[INFO][2022/06/01 04:55:00 PM] Closing HDF file: /home/nathan/data/kraken/ras/ND0025/Pos3/tracks.h5\n",
      "[INFO][2022/06/01 04:55:00 PM] Opening HDF file: /home/nathan/data/kraken/ras/ND0025/Pos3/tracks.h5...\n",
      "[INFO][2022/06/01 04:55:00 PM] Loading tracks/obj_type_2\n",
      "[INFO][2022/06/01 04:55:00 PM] Loading objects/obj_type_2 (4490, 5) (4490 filtered: None)\n",
      "[INFO][2022/06/01 04:55:00 PM] Closing HDF file: /home/nathan/data/kraken/ras/ND0025/Pos3/tracks.h5\n",
      "[INFO][2022/06/01 04:55:00 PM] Opening HDF file: /home/nathan/data/kraken/ras/ND0025/Pos4/tracks.h5...\n",
      "[INFO][2022/06/01 04:55:00 PM] Loading tracks/obj_type_1\n",
      "[INFO][2022/06/01 04:55:00 PM] Loading objects/obj_type_1 (180679, 5) (180679 filtered: None)\n"
     ]
    },
    {
     "name": "stdout",
     "output_type": "stream",
     "text": [
      "Track information loaded and ordered according to cell type (WT IDs >0> Scr IDs)\n",
      "Loaded ND0025/Pos3/\n",
      "Focal time not in frame\n",
      "ID ND0025_Pos4_1275_GFP_frag experiment: ND0025/Pos4/\n",
      "Loading ND0025/Pos4/\n",
      "Btrack version no.: 0.5.0\n"
     ]
    },
    {
     "name": "stderr",
     "output_type": "stream",
     "text": [
      "[INFO][2022/06/01 04:55:04 PM] Closing HDF file: /home/nathan/data/kraken/ras/ND0025/Pos4/tracks.h5\n",
      "[INFO][2022/06/01 04:55:04 PM] Opening HDF file: /home/nathan/data/kraken/ras/ND0025/Pos4/tracks.h5...\n",
      "[INFO][2022/06/01 04:55:04 PM] Loading tracks/obj_type_2\n",
      "[INFO][2022/06/01 04:55:04 PM] Loading objects/obj_type_2 (10302, 5) (10302 filtered: None)\n",
      "[INFO][2022/06/01 04:55:04 PM] Closing HDF file: /home/nathan/data/kraken/ras/ND0025/Pos4/tracks.h5\n",
      "[INFO][2022/06/01 04:55:04 PM] Opening HDF file: /home/nathan/data/kraken/ras/ND0025/Pos6/tracks.h5...\n",
      "[INFO][2022/06/01 04:55:04 PM] Loading tracks/obj_type_1\n"
     ]
    },
    {
     "name": "stdout",
     "output_type": "stream",
     "text": [
      "Track information loaded and ordered according to cell type (WT IDs >0> Scr IDs)\n",
      "Loaded ND0025/Pos4/\n",
      "Focal time not in frame\n",
      "ID ND0025_Pos4_26_GFP experiment: ND0025/Pos4/\n",
      "Focal time not in frame\n",
      "ID ND0025_Pos4_207_GFP experiment: ND0025/Pos4/\n",
      "Focal time not in frame\n",
      "ID ND0025_Pos6_696_GFP_frag experiment: ND0025/Pos6/\n",
      "Loading ND0025/Pos6/\n",
      "Btrack version no.: 0.5.0\n"
     ]
    },
    {
     "name": "stderr",
     "output_type": "stream",
     "text": [
      "[INFO][2022/06/01 04:55:04 PM] Loading objects/obj_type_1 (392143, 5) (392143 filtered: None)\n",
      "[INFO][2022/06/01 04:55:13 PM] Closing HDF file: /home/nathan/data/kraken/ras/ND0025/Pos6/tracks.h5\n",
      "[INFO][2022/06/01 04:55:13 PM] Opening HDF file: /home/nathan/data/kraken/ras/ND0025/Pos6/tracks.h5...\n",
      "[INFO][2022/06/01 04:55:13 PM] Loading tracks/obj_type_2\n",
      "[INFO][2022/06/01 04:55:13 PM] Loading objects/obj_type_2 (5950, 5) (5950 filtered: None)\n",
      "[INFO][2022/06/01 04:55:14 PM] Closing HDF file: /home/nathan/data/kraken/ras/ND0025/Pos6/tracks.h5\n"
     ]
    },
    {
     "name": "stdout",
     "output_type": "stream",
     "text": [
      "Track information loaded and ordered according to cell type (WT IDs >0> Scr IDs)\n",
      "Loaded ND0025/Pos6/\n",
      "Focal time not in frame\n",
      "ID ND0025_Pos6_634_GFP experiment: ND0025/Pos6/\n",
      "Focal time not in frame\n",
      "1600 1600\n"
     ]
    },
    {
     "data": {
      "application/vnd.jupyter.widget-view+json": {
       "model_id": "a29d7f9ad5a04c698568e22283cdbaa6",
       "version_major": 2,
       "version_minor": 0
      },
      "text/plain": [
       "  0%|          | 0/91 [00:00<?, ?it/s]"
      ]
     },
     "metadata": {},
     "output_type": "display_data"
    },
    {
     "name": "stderr",
     "output_type": "stream",
     "text": [
      "[INFO][2022/06/01 04:55:15 PM] Opening HDF file: /home/nathan/data/kraken/ras/ND0025/Pos7/tracks.h5...\n",
      "[INFO][2022/06/01 04:55:15 PM] Loading tracks/obj_type_1\n",
      "[INFO][2022/06/01 04:55:15 PM] Loading objects/obj_type_1 (197115, 5) (197115 filtered: None)\n"
     ]
    },
    {
     "name": "stdout",
     "output_type": "stream",
     "text": [
      "ID ND0025_Pos7_930_GFP experiment: ND0025/Pos7/\n",
      "Loading ND0025/Pos7/\n",
      "Btrack version no.: 0.5.0\n"
     ]
    },
    {
     "name": "stderr",
     "output_type": "stream",
     "text": [
      "[INFO][2022/06/01 04:55:18 PM] Closing HDF file: /home/nathan/data/kraken/ras/ND0025/Pos7/tracks.h5\n",
      "[INFO][2022/06/01 04:55:18 PM] Opening HDF file: /home/nathan/data/kraken/ras/ND0025/Pos7/tracks.h5...\n",
      "[INFO][2022/06/01 04:55:18 PM] Loading tracks/obj_type_2\n",
      "[INFO][2022/06/01 04:55:18 PM] Loading objects/obj_type_2 (12464, 5) (12464 filtered: None)\n",
      "[INFO][2022/06/01 04:55:19 PM] Closing HDF file: /home/nathan/data/kraken/ras/ND0025/Pos7/tracks.h5\n",
      "[INFO][2022/06/01 04:55:19 PM] Opening HDF file: /home/nathan/data/kraken/ras/ND0025/Pos5/tracks.h5...\n",
      "[INFO][2022/06/01 04:55:19 PM] Loading tracks/obj_type_1\n"
     ]
    },
    {
     "name": "stdout",
     "output_type": "stream",
     "text": [
      "Track information loaded and ordered according to cell type (WT IDs >0> Scr IDs)\n",
      "Loaded ND0025/Pos7/\n",
      "Focal time not in frame\n",
      "ID ND0025_Pos7_958_GFP experiment: ND0025/Pos7/\n",
      "Focal time not in frame\n",
      "ID ND0025_Pos5_1_GFP experiment: ND0025/Pos5/\n",
      "Loading ND0025/Pos5/\n",
      "Btrack version no.: 0.5.0\n"
     ]
    },
    {
     "name": "stderr",
     "output_type": "stream",
     "text": [
      "[INFO][2022/06/01 04:55:19 PM] Loading objects/obj_type_1 (419463, 5) (419463 filtered: None)\n",
      "[INFO][2022/06/01 04:55:27 PM] Closing HDF file: /home/nathan/data/kraken/ras/ND0025/Pos5/tracks.h5\n",
      "[INFO][2022/06/01 04:55:27 PM] Opening HDF file: /home/nathan/data/kraken/ras/ND0025/Pos5/tracks.h5...\n",
      "[INFO][2022/06/01 04:55:27 PM] Loading tracks/obj_type_2\n",
      "[INFO][2022/06/01 04:55:27 PM] Loading objects/obj_type_2 (7218, 5) (7218 filtered: None)\n",
      "[INFO][2022/06/01 04:55:27 PM] Closing HDF file: /home/nathan/data/kraken/ras/ND0025/Pos5/tracks.h5\n"
     ]
    },
    {
     "name": "stdout",
     "output_type": "stream",
     "text": [
      "Track information loaded and ordered according to cell type (WT IDs >0> Scr IDs)\n",
      "Loaded ND0025/Pos5/\n"
     ]
    },
    {
     "name": "stderr",
     "output_type": "stream",
     "text": [
      "[INFO][2022/06/01 05:00:41 PM] Opening HDF file: /home/nathan/data/kraken/ras/ND0014/Pos5/tracks.h5...\n",
      "[INFO][2022/06/01 05:00:41 PM] Loading tracks/obj_type_1\n"
     ]
    },
    {
     "name": "stdout",
     "output_type": "stream",
     "text": [
      "ID ND0014_Pos5_11_GFP experiment: ND0014/Pos5/\n",
      "Loading ND0014/Pos5/\n",
      "Btrack version no.: 0.5.0\n"
     ]
    },
    {
     "name": "stderr",
     "output_type": "stream",
     "text": [
      "[INFO][2022/06/01 05:00:42 PM] Loading objects/obj_type_1 (249924, 5) (249924 filtered: None)\n",
      "[INFO][2022/06/01 05:00:51 PM] Closing HDF file: /home/nathan/data/kraken/ras/ND0014/Pos5/tracks.h5\n",
      "[INFO][2022/06/01 05:00:51 PM] Opening HDF file: /home/nathan/data/kraken/ras/ND0014/Pos5/tracks.h5...\n",
      "[INFO][2022/06/01 05:00:51 PM] Loading tracks/obj_type_2\n",
      "[INFO][2022/06/01 05:00:51 PM] Loading objects/obj_type_2 (62283, 5) (62283 filtered: None)\n",
      "[INFO][2022/06/01 05:00:53 PM] Closing HDF file: /home/nathan/data/kraken/ras/ND0014/Pos5/tracks.h5\n",
      "[INFO][2022/06/01 05:00:53 PM] Opening HDF file: /home/nathan/data/kraken/ras/ND0014/Pos7/tracks.h5...\n",
      "[INFO][2022/06/01 05:00:53 PM] Loading tracks/obj_type_1\n"
     ]
    },
    {
     "name": "stdout",
     "output_type": "stream",
     "text": [
      "Track information loaded and ordered according to cell type (WT IDs >0> Scr IDs)\n",
      "Loaded ND0014/Pos5/\n",
      "Focal time not in frame\n",
      "ID ND0014_Pos5_488_GFP_frag experiment: ND0014/Pos5/\n",
      "Focal time not in frame\n",
      "ID ND0014_Pos5_1317_GFP_frag experiment: ND0014/Pos5/\n",
      "ID ND0014_Pos5_2535_GFP_frag experiment: ND0014/Pos5/\n",
      "Focal time not in frame\n",
      "ID ND0014_Pos7_1_GFP_frag experiment: ND0014/Pos7/\n",
      "Loading ND0014/Pos7/\n",
      "Btrack version no.: 0.5.0\n"
     ]
    },
    {
     "name": "stderr",
     "output_type": "stream",
     "text": [
      "[INFO][2022/06/01 05:00:53 PM] Loading objects/obj_type_1 (182289, 5) (182289 filtered: None)\n",
      "[INFO][2022/06/01 05:00:58 PM] Closing HDF file: /home/nathan/data/kraken/ras/ND0014/Pos7/tracks.h5\n",
      "[INFO][2022/06/01 05:00:58 PM] Opening HDF file: /home/nathan/data/kraken/ras/ND0014/Pos7/tracks.h5...\n",
      "[INFO][2022/06/01 05:00:58 PM] Loading tracks/obj_type_2\n",
      "[INFO][2022/06/01 05:00:58 PM] Loading objects/obj_type_2 (10574, 5) (10574 filtered: None)\n",
      "[INFO][2022/06/01 05:00:58 PM] Closing HDF file: /home/nathan/data/kraken/ras/ND0014/Pos7/tracks.h5\n",
      "[INFO][2022/06/01 05:00:59 PM] Opening HDF file: /home/nathan/data/kraken/ras/ND0014/Pos8/tracks.h5...\n",
      "[INFO][2022/06/01 05:00:59 PM] Loading tracks/obj_type_1\n"
     ]
    },
    {
     "name": "stdout",
     "output_type": "stream",
     "text": [
      "Track information loaded and ordered according to cell type (WT IDs >0> Scr IDs)\n",
      "Loaded ND0014/Pos7/\n",
      "Focal time not in frame\n",
      "ID ND0014_Pos8_482_GFP experiment: ND0014/Pos8/\n",
      "Loading ND0014/Pos8/\n",
      "Btrack version no.: 0.5.0\n"
     ]
    },
    {
     "name": "stderr",
     "output_type": "stream",
     "text": [
      "[INFO][2022/06/01 05:01:00 PM] Loading objects/obj_type_1 (285628, 5) (285628 filtered: None)\n",
      "[INFO][2022/06/01 05:01:06 PM] Closing HDF file: /home/nathan/data/kraken/ras/ND0014/Pos8/tracks.h5\n",
      "[INFO][2022/06/01 05:01:06 PM] Opening HDF file: /home/nathan/data/kraken/ras/ND0014/Pos8/tracks.h5...\n",
      "[INFO][2022/06/01 05:01:06 PM] Loading tracks/obj_type_2\n",
      "[INFO][2022/06/01 05:01:06 PM] Loading objects/obj_type_2 (29467, 5) (29467 filtered: None)\n",
      "[INFO][2022/06/01 05:01:07 PM] Closing HDF file: /home/nathan/data/kraken/ras/ND0014/Pos8/tracks.h5\n",
      "[INFO][2022/06/01 05:01:07 PM] Opening HDF file: /home/nathan/data/kraken/ras/ND0014/Pos9/tracks.h5...\n",
      "[INFO][2022/06/01 05:01:07 PM] Loading tracks/obj_type_1\n"
     ]
    },
    {
     "name": "stdout",
     "output_type": "stream",
     "text": [
      "Track information loaded and ordered according to cell type (WT IDs >0> Scr IDs)\n",
      "Loaded ND0014/Pos8/\n",
      "Focal time not in frame\n",
      "ID ND0014_Pos8_481_GFP experiment: ND0014/Pos8/\n",
      "Focal time not in frame\n",
      "ID ND0014_Pos9_1_GFP experiment: ND0014/Pos9/\n",
      "Loading ND0014/Pos9/\n",
      "Btrack version no.: 0.5.0\n"
     ]
    },
    {
     "name": "stderr",
     "output_type": "stream",
     "text": [
      "[INFO][2022/06/01 05:01:07 PM] Loading objects/obj_type_1 (444747, 5) (444747 filtered: None)\n",
      "[INFO][2022/06/01 05:01:17 PM] Closing HDF file: /home/nathan/data/kraken/ras/ND0014/Pos9/tracks.h5\n",
      "[INFO][2022/06/01 05:01:17 PM] Opening HDF file: /home/nathan/data/kraken/ras/ND0014/Pos9/tracks.h5...\n",
      "[INFO][2022/06/01 05:01:17 PM] Loading tracks/obj_type_2\n",
      "[INFO][2022/06/01 05:01:17 PM] Loading objects/obj_type_2 (7231, 5) (7231 filtered: None)\n",
      "[INFO][2022/06/01 05:01:17 PM] Closing HDF file: /home/nathan/data/kraken/ras/ND0014/Pos9/tracks.h5\n"
     ]
    },
    {
     "name": "stdout",
     "output_type": "stream",
     "text": [
      "Track information loaded and ordered according to cell type (WT IDs >0> Scr IDs)\n",
      "Loaded ND0014/Pos9/\n"
     ]
    },
    {
     "name": "stderr",
     "output_type": "stream",
     "text": [
      "[INFO][2022/06/01 05:05:38 PM] Opening HDF file: /home/nathan/data/kraken/ras/ND0017/Pos7/tracks.h5...\n",
      "[INFO][2022/06/01 05:05:38 PM] Loading tracks/obj_type_1\n"
     ]
    },
    {
     "name": "stdout",
     "output_type": "stream",
     "text": [
      "ID ND0017_Pos7_1012_GFP_frag experiment: ND0017/Pos7/\n",
      "Loading ND0017/Pos7/\n",
      "Btrack version no.: 0.5.0\n"
     ]
    },
    {
     "name": "stderr",
     "output_type": "stream",
     "text": [
      "[INFO][2022/06/01 05:05:38 PM] Loading objects/obj_type_1 (470131, 5) (470131 filtered: None)\n",
      "[INFO][2022/06/01 05:05:48 PM] Closing HDF file: /home/nathan/data/kraken/ras/ND0017/Pos7/tracks.h5\n",
      "[INFO][2022/06/01 05:05:48 PM] Opening HDF file: /home/nathan/data/kraken/ras/ND0017/Pos7/tracks.h5...\n",
      "[INFO][2022/06/01 05:05:48 PM] Loading tracks/obj_type_2\n",
      "[INFO][2022/06/01 05:05:49 PM] Loading objects/obj_type_2 (22567, 5) (22567 filtered: None)\n",
      "[INFO][2022/06/01 05:05:49 PM] Closing HDF file: /home/nathan/data/kraken/ras/ND0017/Pos7/tracks.h5\n",
      "[INFO][2022/06/01 05:05:49 PM] Opening HDF file: /home/nathan/data/kraken/ras/ND0021/Pos4/tracks.h5...\n",
      "[INFO][2022/06/01 05:05:49 PM] Loading tracks/obj_type_1\n"
     ]
    },
    {
     "name": "stdout",
     "output_type": "stream",
     "text": [
      "Track information loaded and ordered according to cell type (WT IDs >0> Scr IDs)\n",
      "Loaded ND0017/Pos7/\n",
      "ID ND0017_Pos7_547_GFP experiment: ND0017/Pos7/\n",
      "ID ND0017_Pos7_814_GFP experiment: ND0017/Pos7/\n",
      "ID ND0017_Pos7_1627_GFP_frag experiment: ND0017/Pos7/\n",
      "Focal time not in frame\n",
      "ID ND0017_Pos7_1627_GFP experiment: ND0017/Pos7/\n",
      "Focal time not in frame\n",
      "ID ND0021_Pos4_4_GFP experiment: ND0021/Pos4/\n",
      "Loading ND0021/Pos4/\n",
      "Btrack version no.: 0.5.0\n"
     ]
    },
    {
     "name": "stderr",
     "output_type": "stream",
     "text": [
      "[INFO][2022/06/01 05:05:52 PM] Loading objects/obj_type_1 (1488513, 5) (1488513 filtered: None)\n",
      "[INFO][2022/06/01 05:06:25 PM] Closing HDF file: /home/nathan/data/kraken/ras/ND0021/Pos4/tracks.h5\n",
      "[INFO][2022/06/01 05:06:25 PM] Opening HDF file: /home/nathan/data/kraken/ras/ND0021/Pos4/tracks.h5...\n",
      "[INFO][2022/06/01 05:06:25 PM] Loading tracks/obj_type_2\n",
      "[INFO][2022/06/01 05:06:25 PM] Loading objects/obj_type_2 (51348, 5) (51348 filtered: None)\n",
      "[INFO][2022/06/01 05:06:31 PM] Closing HDF file: /home/nathan/data/kraken/ras/ND0021/Pos4/tracks.h5\n",
      "[INFO][2022/06/01 05:06:31 PM] Opening HDF file: /home/nathan/data/kraken/ras/ND0021/Pos7/tracks.h5...\n",
      "[INFO][2022/06/01 05:06:31 PM] Loading tracks/obj_type_1\n"
     ]
    },
    {
     "name": "stdout",
     "output_type": "stream",
     "text": [
      "Track information loaded and ordered according to cell type (WT IDs >0> Scr IDs)\n",
      "Loaded ND0021/Pos4/\n",
      "Focal time not in frame\n",
      "ID ND0021_Pos7_321_GFP experiment: ND0021/Pos7/\n",
      "Loading ND0021/Pos7/\n",
      "Btrack version no.: 0.5.0\n"
     ]
    },
    {
     "name": "stderr",
     "output_type": "stream",
     "text": [
      "[INFO][2022/06/01 05:06:32 PM] Loading objects/obj_type_1 (1481271, 5) (1481271 filtered: None)\n",
      "[INFO][2022/06/01 05:07:02 PM] Closing HDF file: /home/nathan/data/kraken/ras/ND0021/Pos7/tracks.h5\n",
      "[INFO][2022/06/01 05:07:02 PM] Opening HDF file: /home/nathan/data/kraken/ras/ND0021/Pos7/tracks.h5...\n",
      "[INFO][2022/06/01 05:07:02 PM] Loading tracks/obj_type_2\n",
      "[INFO][2022/06/01 05:07:02 PM] Loading objects/obj_type_2 (38441, 5) (38441 filtered: None)\n",
      "[INFO][2022/06/01 05:07:03 PM] Closing HDF file: /home/nathan/data/kraken/ras/ND0021/Pos7/tracks.h5\n"
     ]
    },
    {
     "name": "stdout",
     "output_type": "stream",
     "text": [
      "Track information loaded and ordered according to cell type (WT IDs >0> Scr IDs)\n",
      "Loaded ND0021/Pos7/\n",
      "Focal time not in frame\n",
      "ID ND0021_Pos7_320_GFP experiment: ND0021/Pos7/\n",
      "Focal time not in frame\n",
      "ID ND0021_Pos7_177_GFP experiment: ND0021/Pos7/\n",
      "Focal time not in frame\n",
      "ID ND0021_Pos7_178_GFP experiment: ND0021/Pos7/\n",
      "Focal time not in frame\n",
      "ID ND0021_Pos7_507_GFP experiment: ND0021/Pos7/\n"
     ]
    },
    {
     "name": "stderr",
     "output_type": "stream",
     "text": [
      "[INFO][2022/06/01 05:07:05 PM] Opening HDF file: /home/nathan/data/kraken/ras/ND0022/Pos3/tracks.h5...\n",
      "[INFO][2022/06/01 05:07:05 PM] Loading tracks/obj_type_1\n"
     ]
    },
    {
     "name": "stdout",
     "output_type": "stream",
     "text": [
      "Focal time not in frame\n",
      "ID ND0021_Pos7_506_GFP experiment: ND0021/Pos7/\n",
      "Focal time not in frame\n",
      "ID ND0021_Pos7_598_GFP experiment: ND0021/Pos7/\n",
      "Focal time not in frame\n",
      "ID ND0021_Pos7_599_GFP experiment: ND0021/Pos7/\n",
      "Focal time not in frame\n",
      "ID ND0022_Pos3_4_GFP_frag experiment: ND0022/Pos3/\n",
      "Loading ND0022/Pos3/\n",
      "Btrack version no.: 0.5.0\n"
     ]
    },
    {
     "name": "stderr",
     "output_type": "stream",
     "text": [
      "[INFO][2022/06/01 05:07:06 PM] Loading objects/obj_type_1 (404850, 5) (404850 filtered: None)\n",
      "[INFO][2022/06/01 05:07:12 PM] Closing HDF file: /home/nathan/data/kraken/ras/ND0022/Pos3/tracks.h5\n",
      "[INFO][2022/06/01 05:07:12 PM] Opening HDF file: /home/nathan/data/kraken/ras/ND0022/Pos3/tracks.h5...\n",
      "[INFO][2022/06/01 05:07:12 PM] Loading tracks/obj_type_2\n",
      "[INFO][2022/06/01 05:07:12 PM] Loading objects/obj_type_2 (15790, 5) (15790 filtered: None)\n",
      "[INFO][2022/06/01 05:07:12 PM] Closing HDF file: /home/nathan/data/kraken/ras/ND0022/Pos3/tracks.h5\n"
     ]
    },
    {
     "name": "stdout",
     "output_type": "stream",
     "text": [
      "Track information loaded and ordered according to cell type (WT IDs >0> Scr IDs)\n",
      "Loaded ND0022/Pos3/\n",
      "ID ND0022_Pos3_907_GFP_frag experiment: ND0022/Pos3/\n",
      "Focal time not in frame\n",
      "ID ND0022_Pos3_910_GFP_frag experiment: ND0022/Pos3/\n",
      "Focal time not in frame\n",
      "ID ND0022_Pos3_940_GFP_frag experiment: ND0022/Pos3/\n",
      "Focal time not in frame\n",
      "ID ND0022_Pos3_840_GFP_frag experiment: ND0022/Pos3/\n",
      "Focal time not in frame\n",
      "ID ND0022_Pos3_1158_GFP_frag experiment: ND0022/Pos3/\n",
      "Focal time not in frame\n",
      "ID ND0022_Pos3_1197_GFP_frag experiment: ND0022/Pos3/\n",
      "Focal time not in frame\n",
      "ID ND0022_Pos3_1226_GFP_frag experiment: ND0022/Pos3/\n"
     ]
    },
    {
     "name": "stderr",
     "output_type": "stream",
     "text": [
      "[INFO][2022/06/01 05:45:43 PM] Opening HDF file: /home/nathan/data/kraken/ras/ND0022/Pos4/tracks.h5...\n",
      "[INFO][2022/06/01 05:45:43 PM] Loading tracks/obj_type_1\n",
      "[INFO][2022/06/01 05:45:43 PM] Loading objects/obj_type_1 (813379, 5) (813379 filtered: None)\n"
     ]
    },
    {
     "name": "stdout",
     "output_type": "stream",
     "text": [
      "ID ND0022_Pos3_976_GFP experiment: ND0022/Pos3/\n",
      "Focal time not in frame\n",
      "ID ND0022_Pos4_1812_GFP experiment: ND0022/Pos4/\n",
      "Loading ND0022/Pos4/\n",
      "Btrack version no.: 0.5.0\n"
     ]
    },
    {
     "name": "stderr",
     "output_type": "stream",
     "text": [
      "[INFO][2022/06/01 05:46:00 PM] Closing HDF file: /home/nathan/data/kraken/ras/ND0022/Pos4/tracks.h5\n",
      "[INFO][2022/06/01 05:46:00 PM] Opening HDF file: /home/nathan/data/kraken/ras/ND0022/Pos4/tracks.h5...\n",
      "[INFO][2022/06/01 05:46:00 PM] Loading tracks/obj_type_2\n",
      "[INFO][2022/06/01 05:46:00 PM] Loading objects/obj_type_2 (18889, 5) (18889 filtered: None)\n",
      "[INFO][2022/06/01 05:46:00 PM] Closing HDF file: /home/nathan/data/kraken/ras/ND0022/Pos4/tracks.h5\n"
     ]
    },
    {
     "name": "stdout",
     "output_type": "stream",
     "text": [
      "Track information loaded and ordered according to cell type (WT IDs >0> Scr IDs)\n",
      "Loaded ND0022/Pos4/\n"
     ]
    },
    {
     "name": "stderr",
     "output_type": "stream",
     "text": [
      "[INFO][2022/06/01 06:12:32 PM] Opening HDF file: /home/nathan/data/kraken/ras/ND0022/Pos5/tracks.h5...\n",
      "[INFO][2022/06/01 06:12:32 PM] Loading tracks/obj_type_1\n"
     ]
    },
    {
     "name": "stdout",
     "output_type": "stream",
     "text": [
      "ID ND0022_Pos4_643_GFP experiment: ND0022/Pos4/\n",
      "Focal time not in frame\n",
      "ID ND0022_Pos4_1486_GFP experiment: ND0022/Pos4/\n",
      "Focal time not in frame\n",
      "ID ND0022_Pos5_2_GFP experiment: ND0022/Pos5/\n",
      "Loading ND0022/Pos5/\n",
      "Btrack version no.: 0.5.0\n"
     ]
    },
    {
     "name": "stderr",
     "output_type": "stream",
     "text": [
      "[INFO][2022/06/01 06:12:32 PM] Loading objects/obj_type_1 (254578, 5) (254578 filtered: None)\n",
      "[INFO][2022/06/01 06:12:38 PM] Closing HDF file: /home/nathan/data/kraken/ras/ND0022/Pos5/tracks.h5\n",
      "[INFO][2022/06/01 06:12:38 PM] Opening HDF file: /home/nathan/data/kraken/ras/ND0022/Pos5/tracks.h5...\n",
      "[INFO][2022/06/01 06:12:38 PM] Loading tracks/obj_type_2\n",
      "[INFO][2022/06/01 06:12:38 PM] Loading objects/obj_type_2 (20446, 5) (20446 filtered: None)\n",
      "[INFO][2022/06/01 06:12:38 PM] Closing HDF file: /home/nathan/data/kraken/ras/ND0022/Pos5/tracks.h5\n",
      "[INFO][2022/06/01 06:12:38 PM] Opening HDF file: /home/nathan/data/kraken/ras/ND0022/Pos6/tracks.h5...\n",
      "[INFO][2022/06/01 06:12:38 PM] Loading tracks/obj_type_1\n"
     ]
    },
    {
     "name": "stdout",
     "output_type": "stream",
     "text": [
      "Track information loaded and ordered according to cell type (WT IDs >0> Scr IDs)\n",
      "Loaded ND0022/Pos5/\n",
      "Focal time not in frame\n",
      "ID ND0022_Pos5_1025_GFP_frag experiment: ND0022/Pos5/\n",
      "Focal time not in frame\n",
      "ID ND0022_Pos5_785_GFP experiment: ND0022/Pos5/\n",
      "Focal time not in frame\n",
      "ID ND0022_Pos5_782_GFP experiment: ND0022/Pos5/\n",
      "Focal time not in frame\n",
      "ID ND0022_Pos5_358_GFP experiment: ND0022/Pos5/\n",
      "Focal time not in frame\n",
      "ID ND0022_Pos5_262_GFP experiment: ND0022/Pos5/\n",
      "Focal time not in frame\n",
      "ID ND0022_Pos5_1205_GFP experiment: ND0022/Pos5/\n",
      "Focal time not in frame\n",
      "ID ND0022_Pos6_7_GFP_frag experiment: ND0022/Pos6/\n",
      "Loading ND0022/Pos6/\n",
      "Btrack version no.: 0.5.0\n"
     ]
    },
    {
     "name": "stderr",
     "output_type": "stream",
     "text": [
      "[INFO][2022/06/01 06:12:42 PM] Loading objects/obj_type_1 (1291409, 5) (1291409 filtered: None)\n",
      "[INFO][2022/06/01 06:13:07 PM] Closing HDF file: /home/nathan/data/kraken/ras/ND0022/Pos6/tracks.h5\n",
      "[INFO][2022/06/01 06:13:07 PM] Opening HDF file: /home/nathan/data/kraken/ras/ND0022/Pos6/tracks.h5...\n",
      "[INFO][2022/06/01 06:13:07 PM] Loading tracks/obj_type_2\n",
      "[INFO][2022/06/01 06:13:07 PM] Loading objects/obj_type_2 (15847, 5) (15847 filtered: None)\n",
      "[INFO][2022/06/01 06:13:07 PM] Closing HDF file: /home/nathan/data/kraken/ras/ND0022/Pos6/tracks.h5\n"
     ]
    },
    {
     "name": "stdout",
     "output_type": "stream",
     "text": [
      "Track information loaded and ordered according to cell type (WT IDs >0> Scr IDs)\n",
      "Loaded ND0022/Pos6/\n",
      "Focal time not in frame\n",
      "ID ND0022_Pos6_1_GFP experiment: ND0022/Pos6/\n"
     ]
    },
    {
     "name": "stderr",
     "output_type": "stream",
     "text": [
      "[INFO][2022/06/01 07:31:02 PM] Opening HDF file: /home/nathan/data/kraken/ras/ND0022/Pos7/tracks.h5...\n",
      "[INFO][2022/06/01 07:31:02 PM] Loading tracks/obj_type_1\n"
     ]
    },
    {
     "name": "stdout",
     "output_type": "stream",
     "text": [
      "ID ND0022_Pos7_15_GFP experiment: ND0022/Pos7/\n",
      "Loading ND0022/Pos7/\n",
      "Btrack version no.: 0.5.0\n"
     ]
    },
    {
     "name": "stderr",
     "output_type": "stream",
     "text": [
      "[INFO][2022/06/01 07:31:02 PM] Loading objects/obj_type_1 (465089, 5) (465089 filtered: None)\n",
      "[INFO][2022/06/01 07:31:13 PM] Closing HDF file: /home/nathan/data/kraken/ras/ND0022/Pos7/tracks.h5\n",
      "[INFO][2022/06/01 07:31:13 PM] Opening HDF file: /home/nathan/data/kraken/ras/ND0022/Pos7/tracks.h5...\n",
      "[INFO][2022/06/01 07:31:13 PM] Loading tracks/obj_type_2\n",
      "[INFO][2022/06/01 07:31:13 PM] Loading objects/obj_type_2 (14348, 5) (14348 filtered: None)\n",
      "[INFO][2022/06/01 07:31:14 PM] Closing HDF file: /home/nathan/data/kraken/ras/ND0022/Pos7/tracks.h5\n",
      "[INFO][2022/06/01 07:31:14 PM] Opening HDF file: /home/nathan/data/kraken/ras/ND0024/Pos3/tracks.h5...\n",
      "[INFO][2022/06/01 07:31:14 PM] Loading tracks/obj_type_1\n"
     ]
    },
    {
     "name": "stdout",
     "output_type": "stream",
     "text": [
      "Track information loaded and ordered according to cell type (WT IDs >0> Scr IDs)\n",
      "Loaded ND0022/Pos7/\n",
      "Focal time not in frame\n",
      "ID ND0022_Pos7_728_GFP experiment: ND0022/Pos7/\n",
      "Focal time not in frame\n",
      "ID ND0022_Pos7_1125_GFP_frag experiment: ND0022/Pos7/\n",
      "Focal time not in frame\n",
      "ID ND0022_Pos7_1113_GFP_frag experiment: ND0022/Pos7/\n",
      "Focal time not in frame\n",
      "ID ND0022_Pos7_1112_GFP_frag experiment: ND0022/Pos7/\n",
      "Focal time not in frame\n",
      "ID ND0022_Pos7_1842_GFP_frag experiment: ND0022/Pos7/\n",
      "Focal time not in frame\n",
      "ID ND0022_Pos7_1841_GFP_frag experiment: ND0022/Pos7/\n",
      "Focal time not in frame\n",
      "ID ND0022_Pos7_1062_GFP experiment: ND0022/Pos7/\n",
      "Focal time not in frame\n",
      "ID ND0022_Pos7_1104_GFP experiment: ND0022/Pos7/\n",
      "ID ND0022_Pos7_1226_GFP experiment: ND0022/Pos7/\n",
      "Focal time not in frame\n",
      "ID ND0022_Pos7_2017_GFP_frag experiment: ND0022/Pos7/\n",
      "Focal time not in frame\n",
      "ID ND0024_Pos3_320_GFP experiment: ND0024/Pos3/\n",
      "Loading ND0024/Pos3/\n",
      "Btrack version no.: 0.5.0\n"
     ]
    },
    {
     "name": "stderr",
     "output_type": "stream",
     "text": [
      "[INFO][2022/06/01 07:31:14 PM] Loading objects/obj_type_1 (636597, 5) (636597 filtered: None)\n",
      "[INFO][2022/06/01 07:31:28 PM] Closing HDF file: /home/nathan/data/kraken/ras/ND0024/Pos3/tracks.h5\n",
      "[INFO][2022/06/01 07:31:28 PM] Opening HDF file: /home/nathan/data/kraken/ras/ND0024/Pos3/tracks.h5...\n",
      "[INFO][2022/06/01 07:31:28 PM] Loading tracks/obj_type_2\n",
      "[INFO][2022/06/01 07:31:28 PM] Loading objects/obj_type_2 (16475, 5) (16475 filtered: None)\n",
      "[INFO][2022/06/01 07:31:29 PM] Closing HDF file: /home/nathan/data/kraken/ras/ND0024/Pos3/tracks.h5\n"
     ]
    },
    {
     "name": "stdout",
     "output_type": "stream",
     "text": [
      "Track information loaded and ordered according to cell type (WT IDs >0> Scr IDs)\n",
      "Loaded ND0024/Pos3/\n"
     ]
    },
    {
     "name": "stderr",
     "output_type": "stream",
     "text": [
      "[INFO][2022/06/01 07:42:44 PM] Opening HDF file: /home/nathan/data/kraken/ras/ND0024/Pos4/tracks.h5...\n",
      "[INFO][2022/06/01 07:42:44 PM] Loading tracks/obj_type_1\n"
     ]
    },
    {
     "name": "stdout",
     "output_type": "stream",
     "text": [
      "ID ND0024_Pos4_276_GFP experiment: ND0024/Pos4/\n",
      "Loading ND0024/Pos4/\n",
      "Btrack version no.: 0.5.0\n"
     ]
    },
    {
     "name": "stderr",
     "output_type": "stream",
     "text": [
      "[INFO][2022/06/01 07:42:45 PM] Loading objects/obj_type_1 (586398, 5) (586398 filtered: None)\n",
      "[INFO][2022/06/01 07:42:55 PM] Closing HDF file: /home/nathan/data/kraken/ras/ND0024/Pos4/tracks.h5\n",
      "[INFO][2022/06/01 07:42:55 PM] Opening HDF file: /home/nathan/data/kraken/ras/ND0024/Pos4/tracks.h5...\n",
      "[INFO][2022/06/01 07:42:55 PM] Loading tracks/obj_type_2\n",
      "[INFO][2022/06/01 07:42:56 PM] Loading objects/obj_type_2 (33390, 5) (33390 filtered: None)\n",
      "[INFO][2022/06/01 07:42:58 PM] Closing HDF file: /home/nathan/data/kraken/ras/ND0024/Pos4/tracks.h5\n"
     ]
    },
    {
     "name": "stdout",
     "output_type": "stream",
     "text": [
      "Track information loaded and ordered according to cell type (WT IDs >0> Scr IDs)\n",
      "Loaded ND0024/Pos4/\n",
      "Focal time not in frame\n",
      "ID ND0024_Pos4_1349_GFP experiment: ND0024/Pos4/\n",
      "Focal time not in frame\n",
      "ID ND0024_Pos4_1570_GFP experiment: ND0024/Pos4/\n",
      "Focal time not in frame\n",
      "ID ND0024_Pos4_1881_GFP experiment: ND0024/Pos4/\n",
      "Focal time not in frame\n",
      "ID ND0024_Pos4_1306_GFP experiment: ND0024/Pos4/\n"
     ]
    },
    {
     "name": "stderr",
     "output_type": "stream",
     "text": [
      "[INFO][2022/06/01 08:01:55 PM] Opening HDF file: /home/nathan/data/kraken/ras/ND0024/Pos5/tracks.h5...\n",
      "[INFO][2022/06/01 08:01:55 PM] Loading tracks/obj_type_1\n"
     ]
    },
    {
     "name": "stdout",
     "output_type": "stream",
     "text": [
      "ID ND0024_Pos4_3228_GFP_frag experiment: ND0024/Pos4/\n",
      "Focal time not in frame\n",
      "ID ND0024_Pos4_3162_GFP_frag experiment: ND0024/Pos4/\n",
      "Focal time not in frame\n",
      "ID ND0024_Pos4_1264_GFP experiment: ND0024/Pos4/\n",
      "Focal time not in frame\n",
      "ID ND0024_Pos4_2890_GFP_frag experiment: ND0024/Pos4/\n",
      "ID ND0024_Pos5_675_GFP_frag experiment: ND0024/Pos5/\n",
      "Loading ND0024/Pos5/\n",
      "Btrack version no.: 0.5.0\n"
     ]
    },
    {
     "name": "stderr",
     "output_type": "stream",
     "text": [
      "[INFO][2022/06/01 08:01:55 PM] Loading objects/obj_type_1 (418489, 5) (418489 filtered: None)\n",
      "[INFO][2022/06/01 08:02:03 PM] Closing HDF file: /home/nathan/data/kraken/ras/ND0024/Pos5/tracks.h5\n",
      "[INFO][2022/06/01 08:02:03 PM] Opening HDF file: /home/nathan/data/kraken/ras/ND0024/Pos5/tracks.h5...\n",
      "[INFO][2022/06/01 08:02:03 PM] Loading tracks/obj_type_2\n",
      "[INFO][2022/06/01 08:02:03 PM] Loading objects/obj_type_2 (14355, 5) (14355 filtered: None)\n",
      "[INFO][2022/06/01 08:02:04 PM] Closing HDF file: /home/nathan/data/kraken/ras/ND0024/Pos5/tracks.h5\n",
      "[INFO][2022/06/01 08:02:04 PM] Opening HDF file: /home/nathan/data/kraken/ras/ND0024/Pos6/tracks.h5...\n",
      "[INFO][2022/06/01 08:02:04 PM] Loading tracks/obj_type_1\n"
     ]
    },
    {
     "name": "stdout",
     "output_type": "stream",
     "text": [
      "Track information loaded and ordered according to cell type (WT IDs >0> Scr IDs)\n",
      "Loaded ND0024/Pos5/\n",
      "Focal time not in frame\n",
      "ID ND0024_Pos5_1053_GFP experiment: ND0024/Pos5/\n",
      "Focal time not in frame\n",
      "ID ND0024_Pos5_1179_GFP experiment: ND0024/Pos5/\n",
      "Focal time not in frame\n",
      "ID ND0024_Pos5_1183_GFP experiment: ND0024/Pos5/\n",
      "Focal time not in frame\n",
      "ID ND0024_Pos5_1092_GFP_frag experiment: ND0024/Pos5/\n",
      "Focal time not in frame\n",
      "ID ND0024_Pos6_7_GFP experiment: ND0024/Pos6/\n",
      "Loading ND0024/Pos6/\n",
      "Btrack version no.: 0.5.0\n"
     ]
    },
    {
     "name": "stderr",
     "output_type": "stream",
     "text": [
      "[INFO][2022/06/01 08:02:04 PM] Loading objects/obj_type_1 (484009, 5) (484009 filtered: None)\n",
      "[INFO][2022/06/01 08:02:17 PM] Closing HDF file: /home/nathan/data/kraken/ras/ND0024/Pos6/tracks.h5\n",
      "[INFO][2022/06/01 08:02:17 PM] Opening HDF file: /home/nathan/data/kraken/ras/ND0024/Pos6/tracks.h5...\n",
      "[INFO][2022/06/01 08:02:17 PM] Loading tracks/obj_type_2\n",
      "[INFO][2022/06/01 08:02:17 PM] Loading objects/obj_type_2 (46805, 5) (46805 filtered: None)\n",
      "[INFO][2022/06/01 08:02:18 PM] Closing HDF file: /home/nathan/data/kraken/ras/ND0024/Pos6/tracks.h5\n"
     ]
    },
    {
     "name": "stdout",
     "output_type": "stream",
     "text": [
      "Track information loaded and ordered according to cell type (WT IDs >0> Scr IDs)\n",
      "Loaded ND0024/Pos6/\n",
      "Focal time not in frame\n",
      "ID ND0024_Pos6_473_GFP experiment: ND0024/Pos6/\n",
      "Focal time not in frame\n",
      "ID ND0024_Pos6_638_GFP experiment: ND0024/Pos6/\n",
      "Focal time not in frame\n",
      "ID ND0024_Pos6_775_GFP_frag experiment: ND0024/Pos6/\n",
      "ID ND0024_Pos6_776_GFP_frag experiment: ND0024/Pos6/\n",
      "Focal time not in frame\n",
      "ID ND0024_Pos6_639_GFP experiment: ND0024/Pos6/\n",
      "Focal time not in frame\n",
      "ID ND0024_Pos6_754_GFP experiment: ND0024/Pos6/\n",
      "Focal time not in frame\n",
      "ID ND0024_Pos6_1145_GFP_frag experiment: ND0024/Pos6/\n",
      "ID ND0024_Pos6_406_GFP experiment: ND0024/Pos6/\n",
      "Focal time not in frame\n",
      "ID ND0024_Pos6_812_GFP experiment: ND0024/Pos6/\n"
     ]
    },
    {
     "name": "stderr",
     "output_type": "stream",
     "text": [
      "[INFO][2022/06/01 08:23:25 PM] Opening HDF file: /home/nathan/data/kraken/ras/ND0024/Pos7/tracks.h5...\n",
      "[INFO][2022/06/01 08:23:25 PM] Loading tracks/obj_type_1\n"
     ]
    },
    {
     "name": "stdout",
     "output_type": "stream",
     "text": [
      "ID ND0024_Pos6_1353_GFP_frag experiment: ND0024/Pos6/\n",
      "Focal time not in frame\n",
      "ID ND0024_Pos6_1354_GFP_frag experiment: ND0024/Pos6/\n",
      "Focal time not in frame\n",
      "ID ND0024_Pos7_8_GFP experiment: ND0024/Pos7/\n",
      "Loading ND0024/Pos7/\n",
      "Btrack version no.: 0.5.0\n"
     ]
    },
    {
     "name": "stderr",
     "output_type": "stream",
     "text": [
      "[INFO][2022/06/01 08:23:26 PM] Loading objects/obj_type_1 (296680, 5) (296680 filtered: None)\n",
      "[INFO][2022/06/01 08:23:32 PM] Closing HDF file: /home/nathan/data/kraken/ras/ND0024/Pos7/tracks.h5\n",
      "[INFO][2022/06/01 08:23:32 PM] Opening HDF file: /home/nathan/data/kraken/ras/ND0024/Pos7/tracks.h5...\n",
      "[INFO][2022/06/01 08:23:32 PM] Loading tracks/obj_type_2\n",
      "[INFO][2022/06/01 08:23:32 PM] Loading objects/obj_type_2 (11337, 5) (11337 filtered: None)\n",
      "[INFO][2022/06/01 08:23:32 PM] Closing HDF file: /home/nathan/data/kraken/ras/ND0024/Pos7/tracks.h5\n",
      "[INFO][2022/06/01 08:23:32 PM] Opening HDF file: /home/nathan/data/kraken/ras/ND0025/Pos3/tracks.h5...\n",
      "[INFO][2022/06/01 08:23:32 PM] Loading tracks/obj_type_1\n",
      "[INFO][2022/06/01 08:23:32 PM] Loading objects/obj_type_1 (200555, 5) (200555 filtered: None)\n"
     ]
    },
    {
     "name": "stdout",
     "output_type": "stream",
     "text": [
      "Track information loaded and ordered according to cell type (WT IDs >0> Scr IDs)\n",
      "Loaded ND0024/Pos7/\n",
      "Focal time not in frame\n",
      "ID ND0025_Pos3_2_GFP experiment: ND0025/Pos3/\n",
      "Loading ND0025/Pos3/\n",
      "Btrack version no.: 0.5.0\n"
     ]
    },
    {
     "name": "stderr",
     "output_type": "stream",
     "text": [
      "[INFO][2022/06/01 08:23:35 PM] Closing HDF file: /home/nathan/data/kraken/ras/ND0025/Pos3/tracks.h5\n",
      "[INFO][2022/06/01 08:23:35 PM] Opening HDF file: /home/nathan/data/kraken/ras/ND0025/Pos3/tracks.h5...\n",
      "[INFO][2022/06/01 08:23:35 PM] Loading tracks/obj_type_2\n",
      "[INFO][2022/06/01 08:23:35 PM] Loading objects/obj_type_2 (4490, 5) (4490 filtered: None)\n",
      "[INFO][2022/06/01 08:23:37 PM] Closing HDF file: /home/nathan/data/kraken/ras/ND0025/Pos3/tracks.h5\n",
      "[INFO][2022/06/01 08:23:37 PM] Opening HDF file: /home/nathan/data/kraken/ras/ND0025/Pos4/tracks.h5...\n",
      "[INFO][2022/06/01 08:23:37 PM] Loading tracks/obj_type_1\n",
      "[INFO][2022/06/01 08:23:38 PM] Loading objects/obj_type_1 (180679, 5) (180679 filtered: None)\n"
     ]
    },
    {
     "name": "stdout",
     "output_type": "stream",
     "text": [
      "Track information loaded and ordered according to cell type (WT IDs >0> Scr IDs)\n",
      "Loaded ND0025/Pos3/\n",
      "Focal time not in frame\n",
      "ID ND0025_Pos4_1275_GFP_frag experiment: ND0025/Pos4/\n",
      "Loading ND0025/Pos4/\n",
      "Btrack version no.: 0.5.0\n"
     ]
    },
    {
     "name": "stderr",
     "output_type": "stream",
     "text": [
      "[INFO][2022/06/01 08:23:40 PM] Closing HDF file: /home/nathan/data/kraken/ras/ND0025/Pos4/tracks.h5\n",
      "[INFO][2022/06/01 08:23:40 PM] Opening HDF file: /home/nathan/data/kraken/ras/ND0025/Pos4/tracks.h5...\n",
      "[INFO][2022/06/01 08:23:40 PM] Loading tracks/obj_type_2\n",
      "[INFO][2022/06/01 08:23:40 PM] Loading objects/obj_type_2 (10302, 5) (10302 filtered: None)\n",
      "[INFO][2022/06/01 08:23:40 PM] Closing HDF file: /home/nathan/data/kraken/ras/ND0025/Pos4/tracks.h5\n",
      "[INFO][2022/06/01 08:23:41 PM] Opening HDF file: /home/nathan/data/kraken/ras/ND0025/Pos6/tracks.h5...\n",
      "[INFO][2022/06/01 08:23:41 PM] Loading tracks/obj_type_1\n"
     ]
    },
    {
     "name": "stdout",
     "output_type": "stream",
     "text": [
      "Track information loaded and ordered according to cell type (WT IDs >0> Scr IDs)\n",
      "Loaded ND0025/Pos4/\n",
      "Focal time not in frame\n",
      "ID ND0025_Pos4_26_GFP experiment: ND0025/Pos4/\n",
      "Focal time not in frame\n",
      "ID ND0025_Pos4_207_GFP experiment: ND0025/Pos4/\n",
      "Focal time not in frame\n",
      "ID ND0025_Pos6_696_GFP_frag experiment: ND0025/Pos6/\n",
      "Loading ND0025/Pos6/\n",
      "Btrack version no.: 0.5.0\n"
     ]
    },
    {
     "name": "stderr",
     "output_type": "stream",
     "text": [
      "[INFO][2022/06/01 08:23:41 PM] Loading objects/obj_type_1 (392143, 5) (392143 filtered: None)\n",
      "[INFO][2022/06/01 08:23:50 PM] Closing HDF file: /home/nathan/data/kraken/ras/ND0025/Pos6/tracks.h5\n",
      "[INFO][2022/06/01 08:23:50 PM] Opening HDF file: /home/nathan/data/kraken/ras/ND0025/Pos6/tracks.h5...\n",
      "[INFO][2022/06/01 08:23:50 PM] Loading tracks/obj_type_2\n",
      "[INFO][2022/06/01 08:23:50 PM] Loading objects/obj_type_2 (5950, 5) (5950 filtered: None)\n",
      "[INFO][2022/06/01 08:23:50 PM] Closing HDF file: /home/nathan/data/kraken/ras/ND0025/Pos6/tracks.h5\n"
     ]
    },
    {
     "name": "stdout",
     "output_type": "stream",
     "text": [
      "Track information loaded and ordered according to cell type (WT IDs >0> Scr IDs)\n",
      "Loaded ND0025/Pos6/\n",
      "Focal time not in frame\n",
      "ID ND0025_Pos6_634_GFP experiment: ND0025/Pos6/\n",
      "Focal time not in frame\n",
      "1600 1600\n"
     ]
    },
    {
     "data": {
      "application/vnd.jupyter.widget-view+json": {
       "model_id": "d7e35b626d994886b66f95632810fe19",
       "version_major": 2,
       "version_minor": 0
      },
      "text/plain": [
       "  0%|          | 0/91 [00:00<?, ?it/s]"
      ]
     },
     "metadata": {},
     "output_type": "display_data"
    },
    {
     "name": "stderr",
     "output_type": "stream",
     "text": [
      "[INFO][2022/06/01 08:23:52 PM] Opening HDF file: /home/nathan/data/kraken/ras/ND0025/Pos7/tracks.h5...\n",
      "[INFO][2022/06/01 08:23:52 PM] Loading tracks/obj_type_1\n",
      "[INFO][2022/06/01 08:23:52 PM] Loading objects/obj_type_1 (197115, 5) (197115 filtered: None)\n"
     ]
    },
    {
     "name": "stdout",
     "output_type": "stream",
     "text": [
      "ID ND0025_Pos7_930_GFP experiment: ND0025/Pos7/\n",
      "Loading ND0025/Pos7/\n",
      "Btrack version no.: 0.5.0\n"
     ]
    },
    {
     "name": "stderr",
     "output_type": "stream",
     "text": [
      "[INFO][2022/06/01 08:23:55 PM] Closing HDF file: /home/nathan/data/kraken/ras/ND0025/Pos7/tracks.h5\n",
      "[INFO][2022/06/01 08:23:55 PM] Opening HDF file: /home/nathan/data/kraken/ras/ND0025/Pos7/tracks.h5...\n",
      "[INFO][2022/06/01 08:23:55 PM] Loading tracks/obj_type_2\n",
      "[INFO][2022/06/01 08:23:55 PM] Loading objects/obj_type_2 (12464, 5) (12464 filtered: None)\n",
      "[INFO][2022/06/01 08:23:55 PM] Closing HDF file: /home/nathan/data/kraken/ras/ND0025/Pos7/tracks.h5\n",
      "[INFO][2022/06/01 08:23:55 PM] Opening HDF file: /home/nathan/data/kraken/ras/ND0025/Pos5/tracks.h5...\n",
      "[INFO][2022/06/01 08:23:55 PM] Loading tracks/obj_type_1\n",
      "[INFO][2022/06/01 08:23:55 PM] Loading objects/obj_type_1 (419463, 5) (419463 filtered: None)\n"
     ]
    },
    {
     "name": "stdout",
     "output_type": "stream",
     "text": [
      "Track information loaded and ordered according to cell type (WT IDs >0> Scr IDs)\n",
      "Loaded ND0025/Pos7/\n",
      "Focal time not in frame\n",
      "ID ND0025_Pos7_958_GFP experiment: ND0025/Pos7/\n",
      "Focal time not in frame\n",
      "ID ND0025_Pos5_1_GFP experiment: ND0025/Pos5/\n",
      "Loading ND0025/Pos5/\n",
      "Btrack version no.: 0.5.0\n"
     ]
    },
    {
     "name": "stderr",
     "output_type": "stream",
     "text": [
      "[INFO][2022/06/01 08:24:03 PM] Closing HDF file: /home/nathan/data/kraken/ras/ND0025/Pos5/tracks.h5\n",
      "[INFO][2022/06/01 08:24:03 PM] Opening HDF file: /home/nathan/data/kraken/ras/ND0025/Pos5/tracks.h5...\n",
      "[INFO][2022/06/01 08:24:03 PM] Loading tracks/obj_type_2\n",
      "[INFO][2022/06/01 08:24:03 PM] Loading objects/obj_type_2 (7218, 5) (7218 filtered: None)\n",
      "[INFO][2022/06/01 08:24:04 PM] Closing HDF file: /home/nathan/data/kraken/ras/ND0025/Pos5/tracks.h5\n",
      "[INFO][2022/06/01 08:24:04 PM] Opening HDF file: /home/nathan/data/kraken/ras/ND0014/Pos5/tracks.h5...\n",
      "[INFO][2022/06/01 08:24:04 PM] Loading tracks/obj_type_1\n"
     ]
    },
    {
     "name": "stdout",
     "output_type": "stream",
     "text": [
      "Track information loaded and ordered according to cell type (WT IDs >0> Scr IDs)\n",
      "Loaded ND0025/Pos5/\n",
      "Focal time not in frame\n",
      "ID ND0014_Pos5_11_GFP experiment: ND0014/Pos5/\n",
      "Loading ND0014/Pos5/\n",
      "Btrack version no.: 0.5.0\n"
     ]
    },
    {
     "name": "stderr",
     "output_type": "stream",
     "text": [
      "[INFO][2022/06/01 08:24:04 PM] Loading objects/obj_type_1 (249924, 5) (249924 filtered: None)\n",
      "[INFO][2022/06/01 08:24:13 PM] Closing HDF file: /home/nathan/data/kraken/ras/ND0014/Pos5/tracks.h5\n",
      "[INFO][2022/06/01 08:24:13 PM] Opening HDF file: /home/nathan/data/kraken/ras/ND0014/Pos5/tracks.h5...\n",
      "[INFO][2022/06/01 08:24:13 PM] Loading tracks/obj_type_2\n",
      "[INFO][2022/06/01 08:24:14 PM] Loading objects/obj_type_2 (62283, 5) (62283 filtered: None)\n",
      "[INFO][2022/06/01 08:24:15 PM] Closing HDF file: /home/nathan/data/kraken/ras/ND0014/Pos5/tracks.h5\n"
     ]
    },
    {
     "name": "stdout",
     "output_type": "stream",
     "text": [
      "Track information loaded and ordered according to cell type (WT IDs >0> Scr IDs)\n"
     ]
    },
    {
     "name": "stderr",
     "output_type": "stream",
     "text": [
      "[INFO][2022/06/01 08:24:15 PM] Opening HDF file: /home/nathan/data/kraken/ras/ND0014/Pos7/tracks.h5...\n",
      "[INFO][2022/06/01 08:24:15 PM] Loading tracks/obj_type_1\n"
     ]
    },
    {
     "name": "stdout",
     "output_type": "stream",
     "text": [
      "Loaded ND0014/Pos5/\n",
      "Focal time not in frame\n",
      "ID ND0014_Pos5_488_GFP_frag experiment: ND0014/Pos5/\n",
      "Focal time not in frame\n",
      "ID ND0014_Pos5_1317_GFP_frag experiment: ND0014/Pos5/\n",
      "ID ND0014_Pos5_2535_GFP_frag experiment: ND0014/Pos5/\n",
      "Focal time not in frame\n",
      "ID ND0014_Pos7_1_GFP_frag experiment: ND0014/Pos7/\n",
      "Loading ND0014/Pos7/\n",
      "Btrack version no.: 0.5.0\n"
     ]
    },
    {
     "name": "stderr",
     "output_type": "stream",
     "text": [
      "[INFO][2022/06/01 08:24:15 PM] Loading objects/obj_type_1 (182289, 5) (182289 filtered: None)\n",
      "[INFO][2022/06/01 08:24:20 PM] Closing HDF file: /home/nathan/data/kraken/ras/ND0014/Pos7/tracks.h5\n",
      "[INFO][2022/06/01 08:24:20 PM] Opening HDF file: /home/nathan/data/kraken/ras/ND0014/Pos7/tracks.h5...\n",
      "[INFO][2022/06/01 08:24:20 PM] Loading tracks/obj_type_2\n",
      "[INFO][2022/06/01 08:24:20 PM] Loading objects/obj_type_2 (10574, 5) (10574 filtered: None)\n",
      "[INFO][2022/06/01 08:24:20 PM] Closing HDF file: /home/nathan/data/kraken/ras/ND0014/Pos7/tracks.h5\n"
     ]
    },
    {
     "name": "stdout",
     "output_type": "stream",
     "text": [
      "Track information loaded and ordered according to cell type (WT IDs >0> Scr IDs)\n"
     ]
    },
    {
     "name": "stderr",
     "output_type": "stream",
     "text": [
      "[INFO][2022/06/01 08:24:21 PM] Opening HDF file: /home/nathan/data/kraken/ras/ND0014/Pos8/tracks.h5...\n",
      "[INFO][2022/06/01 08:24:21 PM] Loading tracks/obj_type_1\n"
     ]
    },
    {
     "name": "stdout",
     "output_type": "stream",
     "text": [
      "Loaded ND0014/Pos7/\n",
      "Focal time not in frame\n",
      "ID ND0014_Pos8_482_GFP experiment: ND0014/Pos8/\n",
      "Loading ND0014/Pos8/\n",
      "Btrack version no.: 0.5.0\n"
     ]
    },
    {
     "name": "stderr",
     "output_type": "stream",
     "text": [
      "[INFO][2022/06/01 08:24:21 PM] Loading objects/obj_type_1 (285628, 5) (285628 filtered: None)\n",
      "[INFO][2022/06/01 08:24:27 PM] Closing HDF file: /home/nathan/data/kraken/ras/ND0014/Pos8/tracks.h5\n",
      "[INFO][2022/06/01 08:24:27 PM] Opening HDF file: /home/nathan/data/kraken/ras/ND0014/Pos8/tracks.h5...\n",
      "[INFO][2022/06/01 08:24:27 PM] Loading tracks/obj_type_2\n",
      "[INFO][2022/06/01 08:24:27 PM] Loading objects/obj_type_2 (29467, 5) (29467 filtered: None)\n",
      "[INFO][2022/06/01 08:24:28 PM] Closing HDF file: /home/nathan/data/kraken/ras/ND0014/Pos8/tracks.h5\n"
     ]
    },
    {
     "name": "stdout",
     "output_type": "stream",
     "text": [
      "Track information loaded and ordered according to cell type (WT IDs >0> Scr IDs)\n"
     ]
    },
    {
     "name": "stderr",
     "output_type": "stream",
     "text": [
      "[INFO][2022/06/01 08:24:28 PM] Opening HDF file: /home/nathan/data/kraken/ras/ND0014/Pos9/tracks.h5...\n",
      "[INFO][2022/06/01 08:24:28 PM] Loading tracks/obj_type_1\n"
     ]
    },
    {
     "name": "stdout",
     "output_type": "stream",
     "text": [
      "Loaded ND0014/Pos8/\n",
      "Focal time not in frame\n",
      "ID ND0014_Pos8_481_GFP experiment: ND0014/Pos8/\n",
      "Focal time not in frame\n",
      "ID ND0014_Pos9_1_GFP experiment: ND0014/Pos9/\n",
      "Loading ND0014/Pos9/\n",
      "Btrack version no.: 0.5.0\n"
     ]
    },
    {
     "name": "stderr",
     "output_type": "stream",
     "text": [
      "[INFO][2022/06/01 08:24:28 PM] Loading objects/obj_type_1 (444747, 5) (444747 filtered: None)\n",
      "[INFO][2022/06/01 08:24:37 PM] Closing HDF file: /home/nathan/data/kraken/ras/ND0014/Pos9/tracks.h5\n",
      "[INFO][2022/06/01 08:24:37 PM] Opening HDF file: /home/nathan/data/kraken/ras/ND0014/Pos9/tracks.h5...\n",
      "[INFO][2022/06/01 08:24:37 PM] Loading tracks/obj_type_2\n",
      "[INFO][2022/06/01 08:24:37 PM] Loading objects/obj_type_2 (7231, 5) (7231 filtered: None)\n",
      "[INFO][2022/06/01 08:24:37 PM] Closing HDF file: /home/nathan/data/kraken/ras/ND0014/Pos9/tracks.h5\n",
      "[INFO][2022/06/01 08:24:38 PM] Opening HDF file: /home/nathan/data/kraken/ras/ND0017/Pos7/tracks.h5...\n",
      "[INFO][2022/06/01 08:24:38 PM] Loading tracks/obj_type_1\n"
     ]
    },
    {
     "name": "stdout",
     "output_type": "stream",
     "text": [
      "Track information loaded and ordered according to cell type (WT IDs >0> Scr IDs)\n",
      "Loaded ND0014/Pos9/\n",
      "Focal time not in frame\n",
      "ID ND0017_Pos7_1012_GFP_frag experiment: ND0017/Pos7/\n",
      "Loading ND0017/Pos7/\n",
      "Btrack version no.: 0.5.0\n"
     ]
    },
    {
     "name": "stderr",
     "output_type": "stream",
     "text": [
      "[INFO][2022/06/01 08:24:38 PM] Loading objects/obj_type_1 (470131, 5) (470131 filtered: None)\n",
      "[INFO][2022/06/01 08:24:48 PM] Closing HDF file: /home/nathan/data/kraken/ras/ND0017/Pos7/tracks.h5\n",
      "[INFO][2022/06/01 08:24:48 PM] Opening HDF file: /home/nathan/data/kraken/ras/ND0017/Pos7/tracks.h5...\n",
      "[INFO][2022/06/01 08:24:48 PM] Loading tracks/obj_type_2\n",
      "[INFO][2022/06/01 08:24:48 PM] Loading objects/obj_type_2 (22567, 5) (22567 filtered: None)\n",
      "[INFO][2022/06/01 08:24:49 PM] Closing HDF file: /home/nathan/data/kraken/ras/ND0017/Pos7/tracks.h5\n",
      "[INFO][2022/06/01 08:24:49 PM] Opening HDF file: /home/nathan/data/kraken/ras/ND0021/Pos4/tracks.h5...\n",
      "[INFO][2022/06/01 08:24:49 PM] Loading tracks/obj_type_1\n"
     ]
    },
    {
     "name": "stdout",
     "output_type": "stream",
     "text": [
      "Track information loaded and ordered according to cell type (WT IDs >0> Scr IDs)\n",
      "Loaded ND0017/Pos7/\n",
      "ID ND0017_Pos7_547_GFP experiment: ND0017/Pos7/\n",
      "ID ND0017_Pos7_814_GFP experiment: ND0017/Pos7/\n",
      "ID ND0017_Pos7_1627_GFP_frag experiment: ND0017/Pos7/\n",
      "Focal time not in frame\n",
      "ID ND0017_Pos7_1627_GFP experiment: ND0017/Pos7/\n",
      "Focal time not in frame\n",
      "ID ND0021_Pos4_4_GFP experiment: ND0021/Pos4/\n",
      "Loading ND0021/Pos4/\n",
      "Btrack version no.: 0.5.0\n"
     ]
    },
    {
     "name": "stderr",
     "output_type": "stream",
     "text": [
      "[INFO][2022/06/01 08:24:50 PM] Loading objects/obj_type_1 (1488513, 5) (1488513 filtered: None)\n",
      "[INFO][2022/06/01 08:25:24 PM] Closing HDF file: /home/nathan/data/kraken/ras/ND0021/Pos4/tracks.h5\n",
      "[INFO][2022/06/01 08:25:24 PM] Opening HDF file: /home/nathan/data/kraken/ras/ND0021/Pos4/tracks.h5...\n",
      "[INFO][2022/06/01 08:25:24 PM] Loading tracks/obj_type_2\n",
      "[INFO][2022/06/01 08:25:24 PM] Loading objects/obj_type_2 (51348, 5) (51348 filtered: None)\n",
      "[INFO][2022/06/01 08:25:25 PM] Closing HDF file: /home/nathan/data/kraken/ras/ND0021/Pos4/tracks.h5\n"
     ]
    },
    {
     "name": "stdout",
     "output_type": "stream",
     "text": [
      "Track information loaded and ordered according to cell type (WT IDs >0> Scr IDs)\n"
     ]
    },
    {
     "name": "stderr",
     "output_type": "stream",
     "text": [
      "[INFO][2022/06/01 08:25:26 PM] Opening HDF file: /home/nathan/data/kraken/ras/ND0021/Pos7/tracks.h5...\n",
      "[INFO][2022/06/01 08:25:26 PM] Loading tracks/obj_type_1\n"
     ]
    },
    {
     "name": "stdout",
     "output_type": "stream",
     "text": [
      "Loaded ND0021/Pos4/\n",
      "Focal time not in frame\n",
      "ID ND0021_Pos7_321_GFP experiment: ND0021/Pos7/\n",
      "Loading ND0021/Pos7/\n",
      "Btrack version no.: 0.5.0\n"
     ]
    },
    {
     "name": "stderr",
     "output_type": "stream",
     "text": [
      "[INFO][2022/06/01 08:25:26 PM] Loading objects/obj_type_1 (1481271, 5) (1481271 filtered: None)\n",
      "[INFO][2022/06/01 08:25:57 PM] Closing HDF file: /home/nathan/data/kraken/ras/ND0021/Pos7/tracks.h5\n",
      "[INFO][2022/06/01 08:25:57 PM] Opening HDF file: /home/nathan/data/kraken/ras/ND0021/Pos7/tracks.h5...\n",
      "[INFO][2022/06/01 08:25:57 PM] Loading tracks/obj_type_2\n",
      "[INFO][2022/06/01 08:25:57 PM] Loading objects/obj_type_2 (38441, 5) (38441 filtered: None)\n",
      "[INFO][2022/06/01 08:25:58 PM] Closing HDF file: /home/nathan/data/kraken/ras/ND0021/Pos7/tracks.h5\n"
     ]
    },
    {
     "name": "stdout",
     "output_type": "stream",
     "text": [
      "Track information loaded and ordered according to cell type (WT IDs >0> Scr IDs)\n",
      "Loaded ND0021/Pos7/\n",
      "Focal time not in frame\n",
      "ID ND0021_Pos7_320_GFP experiment: ND0021/Pos7/\n",
      "Focal time not in frame\n",
      "ID ND0021_Pos7_177_GFP experiment: ND0021/Pos7/\n",
      "Focal time not in frame\n",
      "ID ND0021_Pos7_178_GFP experiment: ND0021/Pos7/\n",
      "Focal time not in frame\n",
      "ID ND0021_Pos7_507_GFP experiment: ND0021/Pos7/\n",
      "Focal time not in frame\n",
      "ID ND0021_Pos7_506_GFP experiment: ND0021/Pos7/\n"
     ]
    },
    {
     "name": "stderr",
     "output_type": "stream",
     "text": [
      "[INFO][2022/06/01 08:26:00 PM] Opening HDF file: /home/nathan/data/kraken/ras/ND0022/Pos3/tracks.h5...\n",
      "[INFO][2022/06/01 08:26:00 PM] Loading tracks/obj_type_1\n"
     ]
    },
    {
     "name": "stdout",
     "output_type": "stream",
     "text": [
      "Focal time not in frame\n",
      "ID ND0021_Pos7_598_GFP experiment: ND0021/Pos7/\n",
      "Focal time not in frame\n",
      "ID ND0021_Pos7_599_GFP experiment: ND0021/Pos7/\n",
      "Focal time not in frame\n",
      "ID ND0022_Pos3_4_GFP_frag experiment: ND0022/Pos3/\n",
      "Loading ND0022/Pos3/\n",
      "Btrack version no.: 0.5.0\n"
     ]
    },
    {
     "name": "stderr",
     "output_type": "stream",
     "text": [
      "[INFO][2022/06/01 08:26:00 PM] Loading objects/obj_type_1 (404850, 5) (404850 filtered: None)\n",
      "[INFO][2022/06/01 08:26:06 PM] Closing HDF file: /home/nathan/data/kraken/ras/ND0022/Pos3/tracks.h5\n",
      "[INFO][2022/06/01 08:26:06 PM] Opening HDF file: /home/nathan/data/kraken/ras/ND0022/Pos3/tracks.h5...\n",
      "[INFO][2022/06/01 08:26:06 PM] Loading tracks/obj_type_2\n",
      "[INFO][2022/06/01 08:26:06 PM] Loading objects/obj_type_2 (15790, 5) (15790 filtered: None)\n",
      "[INFO][2022/06/01 08:26:07 PM] Closing HDF file: /home/nathan/data/kraken/ras/ND0022/Pos3/tracks.h5\n"
     ]
    },
    {
     "name": "stdout",
     "output_type": "stream",
     "text": [
      "Track information loaded and ordered according to cell type (WT IDs >0> Scr IDs)\n",
      "Loaded ND0022/Pos3/\n",
      "ID ND0022_Pos3_907_GFP_frag experiment: ND0022/Pos3/\n",
      "Focal time not in frame\n",
      "ID ND0022_Pos3_910_GFP_frag experiment: ND0022/Pos3/\n",
      "Focal time not in frame\n",
      "ID ND0022_Pos3_940_GFP_frag experiment: ND0022/Pos3/\n",
      "Focal time not in frame\n",
      "ID ND0022_Pos3_840_GFP_frag experiment: ND0022/Pos3/\n",
      "Focal time not in frame\n",
      "ID ND0022_Pos3_1158_GFP_frag experiment: ND0022/Pos3/\n",
      "Focal time not in frame\n",
      "ID ND0022_Pos3_1197_GFP_frag experiment: ND0022/Pos3/\n",
      "Focal time not in frame\n",
      "ID ND0022_Pos3_1226_GFP_frag experiment: ND0022/Pos3/\n"
     ]
    },
    {
     "name": "stderr",
     "output_type": "stream",
     "text": [
      "[INFO][2022/06/01 08:52:00 PM] Opening HDF file: /home/nathan/data/kraken/ras/ND0022/Pos4/tracks.h5...\n",
      "[INFO][2022/06/01 08:52:00 PM] Loading tracks/obj_type_1\n"
     ]
    },
    {
     "name": "stdout",
     "output_type": "stream",
     "text": [
      "ID ND0022_Pos3_976_GFP experiment: ND0022/Pos3/\n",
      "Focal time not in frame\n",
      "ID ND0022_Pos4_1812_GFP experiment: ND0022/Pos4/\n",
      "Loading ND0022/Pos4/\n",
      "Btrack version no.: 0.5.0\n"
     ]
    },
    {
     "name": "stderr",
     "output_type": "stream",
     "text": [
      "[INFO][2022/06/01 08:52:00 PM] Loading objects/obj_type_1 (813379, 5) (813379 filtered: None)\n",
      "[INFO][2022/06/01 08:52:17 PM] Closing HDF file: /home/nathan/data/kraken/ras/ND0022/Pos4/tracks.h5\n",
      "[INFO][2022/06/01 08:52:17 PM] Opening HDF file: /home/nathan/data/kraken/ras/ND0022/Pos4/tracks.h5...\n",
      "[INFO][2022/06/01 08:52:17 PM] Loading tracks/obj_type_2\n",
      "[INFO][2022/06/01 08:52:18 PM] Loading objects/obj_type_2 (18889, 5) (18889 filtered: None)\n",
      "[INFO][2022/06/01 08:52:18 PM] Closing HDF file: /home/nathan/data/kraken/ras/ND0022/Pos4/tracks.h5\n"
     ]
    },
    {
     "name": "stdout",
     "output_type": "stream",
     "text": [
      "Track information loaded and ordered according to cell type (WT IDs >0> Scr IDs)\n",
      "Loaded ND0022/Pos4/\n",
      "ID ND0022_Pos4_643_GFP experiment: ND0022/Pos4/\n"
     ]
    },
    {
     "name": "stderr",
     "output_type": "stream",
     "text": [
      "[INFO][2022/06/01 09:21:20 PM] Opening HDF file: /home/nathan/data/kraken/ras/ND0022/Pos5/tracks.h5...\n",
      "[INFO][2022/06/01 09:21:20 PM] Loading tracks/obj_type_1\n",
      "[INFO][2022/06/01 09:21:20 PM] Loading objects/obj_type_1 (254578, 5) (254578 filtered: None)\n"
     ]
    },
    {
     "name": "stdout",
     "output_type": "stream",
     "text": [
      "ID ND0022_Pos4_1486_GFP experiment: ND0022/Pos4/\n",
      "Focal time not in frame\n",
      "ID ND0022_Pos5_2_GFP experiment: ND0022/Pos5/\n",
      "Loading ND0022/Pos5/\n",
      "Btrack version no.: 0.5.0\n"
     ]
    },
    {
     "name": "stderr",
     "output_type": "stream",
     "text": [
      "[INFO][2022/06/01 09:21:24 PM] Closing HDF file: /home/nathan/data/kraken/ras/ND0022/Pos5/tracks.h5\n",
      "[INFO][2022/06/01 09:21:24 PM] Opening HDF file: /home/nathan/data/kraken/ras/ND0022/Pos5/tracks.h5...\n",
      "[INFO][2022/06/01 09:21:24 PM] Loading tracks/obj_type_2\n",
      "[INFO][2022/06/01 09:21:24 PM] Loading objects/obj_type_2 (20446, 5) (20446 filtered: None)\n",
      "[INFO][2022/06/01 09:21:24 PM] Closing HDF file: /home/nathan/data/kraken/ras/ND0022/Pos5/tracks.h5\n"
     ]
    },
    {
     "name": "stdout",
     "output_type": "stream",
     "text": [
      "Track information loaded and ordered according to cell type (WT IDs >0> Scr IDs)\n",
      "Loaded ND0022/Pos5/\n"
     ]
    },
    {
     "name": "stderr",
     "output_type": "stream",
     "text": [
      "[INFO][2022/06/01 09:25:16 PM] Opening HDF file: /home/nathan/data/kraken/ras/ND0022/Pos6/tracks.h5...\n",
      "[INFO][2022/06/01 09:25:16 PM] Loading tracks/obj_type_1\n"
     ]
    },
    {
     "name": "stdout",
     "output_type": "stream",
     "text": [
      "ID ND0022_Pos5_1025_GFP_frag experiment: ND0022/Pos5/\n",
      "Focal time not in frame\n",
      "ID ND0022_Pos5_785_GFP experiment: ND0022/Pos5/\n",
      "Focal time not in frame\n",
      "ID ND0022_Pos5_782_GFP experiment: ND0022/Pos5/\n",
      "Focal time not in frame\n",
      "ID ND0022_Pos5_358_GFP experiment: ND0022/Pos5/\n",
      "Focal time not in frame\n",
      "ID ND0022_Pos5_262_GFP experiment: ND0022/Pos5/\n",
      "Focal time not in frame\n",
      "ID ND0022_Pos5_1205_GFP experiment: ND0022/Pos5/\n",
      "Focal time not in frame\n",
      "ID ND0022_Pos6_7_GFP_frag experiment: ND0022/Pos6/\n",
      "Loading ND0022/Pos6/\n",
      "Btrack version no.: 0.5.0\n"
     ]
    },
    {
     "name": "stderr",
     "output_type": "stream",
     "text": [
      "[INFO][2022/06/01 09:25:17 PM] Loading objects/obj_type_1 (1291409, 5) (1291409 filtered: None)\n",
      "[INFO][2022/06/01 09:25:40 PM] Closing HDF file: /home/nathan/data/kraken/ras/ND0022/Pos6/tracks.h5\n",
      "[INFO][2022/06/01 09:25:40 PM] Opening HDF file: /home/nathan/data/kraken/ras/ND0022/Pos6/tracks.h5...\n",
      "[INFO][2022/06/01 09:25:40 PM] Loading tracks/obj_type_2\n",
      "[INFO][2022/06/01 09:25:40 PM] Loading objects/obj_type_2 (15847, 5) (15847 filtered: None)\n",
      "[INFO][2022/06/01 09:25:41 PM] Closing HDF file: /home/nathan/data/kraken/ras/ND0022/Pos6/tracks.h5\n"
     ]
    },
    {
     "name": "stdout",
     "output_type": "stream",
     "text": [
      "Track information loaded and ordered according to cell type (WT IDs >0> Scr IDs)\n",
      "Loaded ND0022/Pos6/\n",
      "Focal time not in frame\n",
      "ID ND0022_Pos6_1_GFP experiment: ND0022/Pos6/\n"
     ]
    },
    {
     "name": "stderr",
     "output_type": "stream",
     "text": [
      "[INFO][2022/06/01 10:33:06 PM] Opening HDF file: /home/nathan/data/kraken/ras/ND0022/Pos7/tracks.h5...\n",
      "[INFO][2022/06/01 10:33:06 PM] Loading tracks/obj_type_1\n",
      "[INFO][2022/06/01 10:33:06 PM] Loading objects/obj_type_1 (465089, 5) (465089 filtered: None)\n"
     ]
    },
    {
     "name": "stdout",
     "output_type": "stream",
     "text": [
      "ID ND0022_Pos7_15_GFP experiment: ND0022/Pos7/\n",
      "Loading ND0022/Pos7/\n",
      "Btrack version no.: 0.5.0\n"
     ]
    },
    {
     "name": "stderr",
     "output_type": "stream",
     "text": [
      "[INFO][2022/06/01 10:33:17 PM] Closing HDF file: /home/nathan/data/kraken/ras/ND0022/Pos7/tracks.h5\n",
      "[INFO][2022/06/01 10:33:17 PM] Opening HDF file: /home/nathan/data/kraken/ras/ND0022/Pos7/tracks.h5...\n",
      "[INFO][2022/06/01 10:33:17 PM] Loading tracks/obj_type_2\n",
      "[INFO][2022/06/01 10:33:17 PM] Loading objects/obj_type_2 (14348, 5) (14348 filtered: None)\n",
      "[INFO][2022/06/01 10:33:17 PM] Closing HDF file: /home/nathan/data/kraken/ras/ND0022/Pos7/tracks.h5\n"
     ]
    },
    {
     "name": "stdout",
     "output_type": "stream",
     "text": [
      "Track information loaded and ordered according to cell type (WT IDs >0> Scr IDs)\n",
      "Loaded ND0022/Pos7/\n",
      "Focal time not in frame\n",
      "ID ND0022_Pos7_728_GFP experiment: ND0022/Pos7/\n",
      "Focal time not in frame\n",
      "ID ND0022_Pos7_1125_GFP_frag experiment: ND0022/Pos7/\n",
      "Focal time not in frame\n",
      "ID ND0022_Pos7_1113_GFP_frag experiment: ND0022/Pos7/\n",
      "Focal time not in frame\n",
      "ID ND0022_Pos7_1112_GFP_frag experiment: ND0022/Pos7/\n",
      "Focal time not in frame\n",
      "ID ND0022_Pos7_1842_GFP_frag experiment: ND0022/Pos7/\n",
      "Focal time not in frame\n",
      "ID ND0022_Pos7_1841_GFP_frag experiment: ND0022/Pos7/\n",
      "Focal time not in frame\n",
      "ID ND0022_Pos7_1062_GFP experiment: ND0022/Pos7/\n",
      "Focal time not in frame\n",
      "ID ND0022_Pos7_1104_GFP experiment: ND0022/Pos7/\n",
      "ID ND0022_Pos7_1226_GFP experiment: ND0022/Pos7/\n"
     ]
    },
    {
     "name": "stderr",
     "output_type": "stream",
     "text": [
      "[INFO][2022/06/01 10:39:58 PM] Opening HDF file: /home/nathan/data/kraken/ras/ND0024/Pos3/tracks.h5...\n",
      "[INFO][2022/06/01 10:39:58 PM] Loading tracks/obj_type_1\n",
      "[INFO][2022/06/01 10:39:58 PM] Loading objects/obj_type_1 (636597, 5) (636597 filtered: None)\n"
     ]
    },
    {
     "name": "stdout",
     "output_type": "stream",
     "text": [
      "ID ND0022_Pos7_2017_GFP_frag experiment: ND0022/Pos7/\n",
      "Focal time not in frame\n",
      "ID ND0024_Pos3_320_GFP experiment: ND0024/Pos3/\n",
      "Loading ND0024/Pos3/\n",
      "Btrack version no.: 0.5.0\n"
     ]
    },
    {
     "name": "stderr",
     "output_type": "stream",
     "text": [
      "[INFO][2022/06/01 10:40:12 PM] Closing HDF file: /home/nathan/data/kraken/ras/ND0024/Pos3/tracks.h5\n",
      "[INFO][2022/06/01 10:40:12 PM] Opening HDF file: /home/nathan/data/kraken/ras/ND0024/Pos3/tracks.h5...\n",
      "[INFO][2022/06/01 10:40:12 PM] Loading tracks/obj_type_2\n",
      "[INFO][2022/06/01 10:40:12 PM] Loading objects/obj_type_2 (16475, 5) (16475 filtered: None)\n",
      "[INFO][2022/06/01 10:40:13 PM] Closing HDF file: /home/nathan/data/kraken/ras/ND0024/Pos3/tracks.h5\n"
     ]
    },
    {
     "name": "stdout",
     "output_type": "stream",
     "text": [
      "Track information loaded and ordered according to cell type (WT IDs >0> Scr IDs)\n",
      "Loaded ND0024/Pos3/\n"
     ]
    },
    {
     "name": "stderr",
     "output_type": "stream",
     "text": [
      "[INFO][2022/06/01 10:53:50 PM] Opening HDF file: /home/nathan/data/kraken/ras/ND0024/Pos4/tracks.h5...\n",
      "[INFO][2022/06/01 10:53:50 PM] Loading tracks/obj_type_1\n",
      "[INFO][2022/06/01 10:53:50 PM] Loading objects/obj_type_1 (586398, 5) (586398 filtered: None)\n"
     ]
    },
    {
     "name": "stdout",
     "output_type": "stream",
     "text": [
      "ID ND0024_Pos4_276_GFP experiment: ND0024/Pos4/\n",
      "Loading ND0024/Pos4/\n",
      "Btrack version no.: 0.5.0\n"
     ]
    },
    {
     "name": "stderr",
     "output_type": "stream",
     "text": [
      "[INFO][2022/06/01 10:54:04 PM] Closing HDF file: /home/nathan/data/kraken/ras/ND0024/Pos4/tracks.h5\n",
      "[INFO][2022/06/01 10:54:04 PM] Opening HDF file: /home/nathan/data/kraken/ras/ND0024/Pos4/tracks.h5...\n",
      "[INFO][2022/06/01 10:54:04 PM] Loading tracks/obj_type_2\n",
      "[INFO][2022/06/01 10:54:04 PM] Loading objects/obj_type_2 (33390, 5) (33390 filtered: None)\n",
      "[INFO][2022/06/01 10:54:05 PM] Closing HDF file: /home/nathan/data/kraken/ras/ND0024/Pos4/tracks.h5\n"
     ]
    },
    {
     "name": "stdout",
     "output_type": "stream",
     "text": [
      "Track information loaded and ordered according to cell type (WT IDs >0> Scr IDs)\n",
      "Loaded ND0024/Pos4/\n",
      "Focal time not in frame\n",
      "ID ND0024_Pos4_1349_GFP experiment: ND0024/Pos4/\n",
      "Focal time not in frame\n",
      "ID ND0024_Pos4_1570_GFP experiment: ND0024/Pos4/\n",
      "Focal time not in frame\n",
      "ID ND0024_Pos4_1881_GFP experiment: ND0024/Pos4/\n",
      "ID ND0024_Pos4_1306_GFP experiment: ND0024/Pos4/\n"
     ]
    },
    {
     "name": "stderr",
     "output_type": "stream",
     "text": [
      "[INFO][2022/06/01 11:20:22 PM] Opening HDF file: /home/nathan/data/kraken/ras/ND0024/Pos5/tracks.h5...\n",
      "[INFO][2022/06/01 11:20:22 PM] Loading tracks/obj_type_1\n",
      "[INFO][2022/06/01 11:20:22 PM] Loading objects/obj_type_1 (418489, 5) (418489 filtered: None)\n"
     ]
    },
    {
     "name": "stdout",
     "output_type": "stream",
     "text": [
      "ID ND0024_Pos4_3228_GFP_frag experiment: ND0024/Pos4/\n",
      "Focal time not in frame\n",
      "ID ND0024_Pos4_3162_GFP_frag experiment: ND0024/Pos4/\n",
      "Focal time not in frame\n",
      "ID ND0024_Pos4_1264_GFP experiment: ND0024/Pos4/\n",
      "Focal time not in frame\n",
      "ID ND0024_Pos4_2890_GFP_frag experiment: ND0024/Pos4/\n",
      "ID ND0024_Pos5_675_GFP_frag experiment: ND0024/Pos5/\n",
      "Loading ND0024/Pos5/\n",
      "Btrack version no.: 0.5.0\n"
     ]
    },
    {
     "name": "stderr",
     "output_type": "stream",
     "text": [
      "[INFO][2022/06/01 11:20:31 PM] Closing HDF file: /home/nathan/data/kraken/ras/ND0024/Pos5/tracks.h5\n",
      "[INFO][2022/06/01 11:20:31 PM] Opening HDF file: /home/nathan/data/kraken/ras/ND0024/Pos5/tracks.h5...\n",
      "[INFO][2022/06/01 11:20:31 PM] Loading tracks/obj_type_2\n",
      "[INFO][2022/06/01 11:20:31 PM] Loading objects/obj_type_2 (14355, 5) (14355 filtered: None)\n",
      "[INFO][2022/06/01 11:20:32 PM] Closing HDF file: /home/nathan/data/kraken/ras/ND0024/Pos5/tracks.h5\n",
      "[INFO][2022/06/01 11:20:32 PM] Opening HDF file: /home/nathan/data/kraken/ras/ND0024/Pos6/tracks.h5...\n",
      "[INFO][2022/06/01 11:20:32 PM] Loading tracks/obj_type_1\n",
      "[INFO][2022/06/01 11:20:32 PM] Loading objects/obj_type_1 (484009, 5) (484009 filtered: None)\n"
     ]
    },
    {
     "name": "stdout",
     "output_type": "stream",
     "text": [
      "Track information loaded and ordered according to cell type (WT IDs >0> Scr IDs)\n",
      "Loaded ND0024/Pos5/\n",
      "Focal time not in frame\n",
      "ID ND0024_Pos5_1053_GFP experiment: ND0024/Pos5/\n",
      "Focal time not in frame\n",
      "ID ND0024_Pos5_1179_GFP experiment: ND0024/Pos5/\n",
      "Focal time not in frame\n",
      "ID ND0024_Pos5_1183_GFP experiment: ND0024/Pos5/\n",
      "Focal time not in frame\n",
      "ID ND0024_Pos5_1092_GFP_frag experiment: ND0024/Pos5/\n",
      "Focal time not in frame\n",
      "ID ND0024_Pos6_7_GFP experiment: ND0024/Pos6/\n",
      "Loading ND0024/Pos6/\n",
      "Btrack version no.: 0.5.0\n"
     ]
    },
    {
     "name": "stderr",
     "output_type": "stream",
     "text": [
      "[INFO][2022/06/01 11:20:43 PM] Closing HDF file: /home/nathan/data/kraken/ras/ND0024/Pos6/tracks.h5\n",
      "[INFO][2022/06/01 11:20:43 PM] Opening HDF file: /home/nathan/data/kraken/ras/ND0024/Pos6/tracks.h5...\n",
      "[INFO][2022/06/01 11:20:43 PM] Loading tracks/obj_type_2\n",
      "[INFO][2022/06/01 11:20:43 PM] Loading objects/obj_type_2 (46805, 5) (46805 filtered: None)\n",
      "[INFO][2022/06/01 11:20:46 PM] Closing HDF file: /home/nathan/data/kraken/ras/ND0024/Pos6/tracks.h5\n"
     ]
    },
    {
     "name": "stdout",
     "output_type": "stream",
     "text": [
      "Track information loaded and ordered according to cell type (WT IDs >0> Scr IDs)\n",
      "Loaded ND0024/Pos6/\n",
      "Focal time not in frame\n",
      "ID ND0024_Pos6_473_GFP experiment: ND0024/Pos6/\n",
      "Focal time not in frame\n",
      "ID ND0024_Pos6_638_GFP experiment: ND0024/Pos6/\n",
      "Focal time not in frame\n",
      "ID ND0024_Pos6_775_GFP_frag experiment: ND0024/Pos6/\n",
      "ID ND0024_Pos6_776_GFP_frag experiment: ND0024/Pos6/\n",
      "Focal time not in frame\n",
      "ID ND0024_Pos6_639_GFP experiment: ND0024/Pos6/\n",
      "Focal time not in frame\n",
      "ID ND0024_Pos6_754_GFP experiment: ND0024/Pos6/\n",
      "Focal time not in frame\n",
      "ID ND0024_Pos6_1145_GFP_frag experiment: ND0024/Pos6/\n"
     ]
    },
    {
     "name": "stderr",
     "output_type": "stream",
     "text": [
      "[INFO][2022/06/01 11:34:46 PM] Opening HDF file: /home/nathan/data/kraken/ras/ND0024/Pos7/tracks.h5...\n",
      "[INFO][2022/06/01 11:34:46 PM] Loading tracks/obj_type_1\n",
      "[INFO][2022/06/01 11:34:47 PM] Loading objects/obj_type_1 (296680, 5) (296680 filtered: None)\n"
     ]
    },
    {
     "name": "stdout",
     "output_type": "stream",
     "text": [
      "ID ND0024_Pos6_406_GFP experiment: ND0024/Pos6/\n",
      "Focal time not in frame\n",
      "ID ND0024_Pos6_812_GFP experiment: ND0024/Pos6/\n",
      "Focal time not in frame\n",
      "ID ND0024_Pos6_1353_GFP_frag experiment: ND0024/Pos6/\n",
      "Focal time not in frame\n",
      "ID ND0024_Pos6_1354_GFP_frag experiment: ND0024/Pos6/\n",
      "Focal time not in frame\n",
      "ID ND0024_Pos7_8_GFP experiment: ND0024/Pos7/\n",
      "Loading ND0024/Pos7/\n",
      "Btrack version no.: 0.5.0\n"
     ]
    },
    {
     "name": "stderr",
     "output_type": "stream",
     "text": [
      "[INFO][2022/06/01 11:34:53 PM] Closing HDF file: /home/nathan/data/kraken/ras/ND0024/Pos7/tracks.h5\n",
      "[INFO][2022/06/01 11:34:53 PM] Opening HDF file: /home/nathan/data/kraken/ras/ND0024/Pos7/tracks.h5...\n",
      "[INFO][2022/06/01 11:34:53 PM] Loading tracks/obj_type_2\n",
      "[INFO][2022/06/01 11:34:53 PM] Loading objects/obj_type_2 (11337, 5) (11337 filtered: None)\n",
      "[INFO][2022/06/01 11:34:53 PM] Closing HDF file: /home/nathan/data/kraken/ras/ND0024/Pos7/tracks.h5\n"
     ]
    },
    {
     "name": "stdout",
     "output_type": "stream",
     "text": [
      "Track information loaded and ordered according to cell type (WT IDs >0> Scr IDs)\n",
      "Loaded ND0024/Pos7/\n"
     ]
    },
    {
     "name": "stderr",
     "output_type": "stream",
     "text": [
      "[INFO][2022/06/01 11:39:43 PM] Opening HDF file: /home/nathan/data/kraken/ras/ND0025/Pos3/tracks.h5...\n",
      "[INFO][2022/06/01 11:39:43 PM] Loading tracks/obj_type_1\n",
      "[INFO][2022/06/01 11:39:43 PM] Loading objects/obj_type_1 (200555, 5) (200555 filtered: None)\n"
     ]
    },
    {
     "name": "stdout",
     "output_type": "stream",
     "text": [
      "ID ND0025_Pos3_2_GFP experiment: ND0025/Pos3/\n",
      "Loading ND0025/Pos3/\n",
      "Btrack version no.: 0.5.0\n"
     ]
    },
    {
     "name": "stderr",
     "output_type": "stream",
     "text": [
      "[INFO][2022/06/01 11:39:47 PM] Closing HDF file: /home/nathan/data/kraken/ras/ND0025/Pos3/tracks.h5\n",
      "[INFO][2022/06/01 11:39:47 PM] Opening HDF file: /home/nathan/data/kraken/ras/ND0025/Pos3/tracks.h5...\n",
      "[INFO][2022/06/01 11:39:47 PM] Loading tracks/obj_type_2\n",
      "[INFO][2022/06/01 11:39:47 PM] Loading objects/obj_type_2 (4490, 5) (4490 filtered: None)\n",
      "[INFO][2022/06/01 11:39:47 PM] Closing HDF file: /home/nathan/data/kraken/ras/ND0025/Pos3/tracks.h5\n",
      "[INFO][2022/06/01 11:39:47 PM] Opening HDF file: /home/nathan/data/kraken/ras/ND0025/Pos4/tracks.h5...\n",
      "[INFO][2022/06/01 11:39:47 PM] Loading tracks/obj_type_1\n",
      "[INFO][2022/06/01 11:39:48 PM] Loading objects/obj_type_1 (180679, 5) (180679 filtered: None)\n"
     ]
    },
    {
     "name": "stdout",
     "output_type": "stream",
     "text": [
      "Track information loaded and ordered according to cell type (WT IDs >0> Scr IDs)\n",
      "Loaded ND0025/Pos3/\n",
      "Focal time not in frame\n",
      "ID ND0025_Pos4_1275_GFP_frag experiment: ND0025/Pos4/\n",
      "Loading ND0025/Pos4/\n",
      "Btrack version no.: 0.5.0\n"
     ]
    },
    {
     "name": "stderr",
     "output_type": "stream",
     "text": [
      "[INFO][2022/06/01 11:39:51 PM] Closing HDF file: /home/nathan/data/kraken/ras/ND0025/Pos4/tracks.h5\n",
      "[INFO][2022/06/01 11:39:51 PM] Opening HDF file: /home/nathan/data/kraken/ras/ND0025/Pos4/tracks.h5...\n",
      "[INFO][2022/06/01 11:39:51 PM] Loading tracks/obj_type_2\n",
      "[INFO][2022/06/01 11:39:51 PM] Loading objects/obj_type_2 (10302, 5) (10302 filtered: None)\n",
      "[INFO][2022/06/01 11:39:51 PM] Closing HDF file: /home/nathan/data/kraken/ras/ND0025/Pos4/tracks.h5\n",
      "[INFO][2022/06/01 11:39:52 PM] Opening HDF file: /home/nathan/data/kraken/ras/ND0025/Pos6/tracks.h5...\n",
      "[INFO][2022/06/01 11:39:52 PM] Loading tracks/obj_type_1\n",
      "[INFO][2022/06/01 11:39:52 PM] Loading objects/obj_type_1 (392143, 5) (392143 filtered: None)\n"
     ]
    },
    {
     "name": "stdout",
     "output_type": "stream",
     "text": [
      "Track information loaded and ordered according to cell type (WT IDs >0> Scr IDs)\n",
      "Loaded ND0025/Pos4/\n",
      "Focal time not in frame\n",
      "ID ND0025_Pos4_26_GFP experiment: ND0025/Pos4/\n",
      "Focal time not in frame\n",
      "ID ND0025_Pos4_207_GFP experiment: ND0025/Pos4/\n",
      "Focal time not in frame\n",
      "ID ND0025_Pos6_696_GFP_frag experiment: ND0025/Pos6/\n",
      "Loading ND0025/Pos6/\n",
      "Btrack version no.: 0.5.0\n"
     ]
    },
    {
     "name": "stderr",
     "output_type": "stream",
     "text": [
      "[INFO][2022/06/01 11:40:00 PM] Closing HDF file: /home/nathan/data/kraken/ras/ND0025/Pos6/tracks.h5\n",
      "[INFO][2022/06/01 11:40:00 PM] Opening HDF file: /home/nathan/data/kraken/ras/ND0025/Pos6/tracks.h5...\n",
      "[INFO][2022/06/01 11:40:00 PM] Loading tracks/obj_type_2\n",
      "[INFO][2022/06/01 11:40:00 PM] Loading objects/obj_type_2 (5950, 5) (5950 filtered: None)\n",
      "[INFO][2022/06/01 11:40:00 PM] Closing HDF file: /home/nathan/data/kraken/ras/ND0025/Pos6/tracks.h5\n"
     ]
    },
    {
     "name": "stdout",
     "output_type": "stream",
     "text": [
      "Track information loaded and ordered according to cell type (WT IDs >0> Scr IDs)\n",
      "Loaded ND0025/Pos6/\n",
      "Focal time not in frame\n",
      "ID ND0025_Pos6_634_GFP experiment: ND0025/Pos6/\n",
      "Focal time not in frame\n",
      "1600 1600\n"
     ]
    },
    {
     "data": {
      "application/vnd.jupyter.widget-view+json": {
       "model_id": "8d6e1a5fd8f84922ab6866399953b7f2",
       "version_major": 2,
       "version_minor": 0
      },
      "text/plain": [
       "  0%|          | 0/91 [00:00<?, ?it/s]"
      ]
     },
     "metadata": {},
     "output_type": "display_data"
    },
    {
     "name": "stderr",
     "output_type": "stream",
     "text": [
      "[INFO][2022/06/01 11:40:01 PM] Opening HDF file: /home/nathan/data/kraken/ras/ND0025/Pos7/tracks.h5...\n",
      "[INFO][2022/06/01 11:40:01 PM] Loading tracks/obj_type_1\n",
      "[INFO][2022/06/01 11:40:01 PM] Loading objects/obj_type_1 (197115, 5) (197115 filtered: None)\n"
     ]
    },
    {
     "name": "stdout",
     "output_type": "stream",
     "text": [
      "ID ND0025_Pos7_930_GFP experiment: ND0025/Pos7/\n",
      "Loading ND0025/Pos7/\n",
      "Btrack version no.: 0.5.0\n"
     ]
    },
    {
     "name": "stderr",
     "output_type": "stream",
     "text": [
      "[INFO][2022/06/01 11:40:05 PM] Closing HDF file: /home/nathan/data/kraken/ras/ND0025/Pos7/tracks.h5\n",
      "[INFO][2022/06/01 11:40:05 PM] Opening HDF file: /home/nathan/data/kraken/ras/ND0025/Pos7/tracks.h5...\n",
      "[INFO][2022/06/01 11:40:05 PM] Loading tracks/obj_type_2\n",
      "[INFO][2022/06/01 11:40:05 PM] Loading objects/obj_type_2 (12464, 5) (12464 filtered: None)\n",
      "[INFO][2022/06/01 11:40:05 PM] Closing HDF file: /home/nathan/data/kraken/ras/ND0025/Pos7/tracks.h5\n",
      "[INFO][2022/06/01 11:40:05 PM] Opening HDF file: /home/nathan/data/kraken/ras/ND0025/Pos5/tracks.h5...\n",
      "[INFO][2022/06/01 11:40:05 PM] Loading tracks/obj_type_1\n",
      "[INFO][2022/06/01 11:40:05 PM] Loading objects/obj_type_1 (419463, 5) (419463 filtered: None)\n"
     ]
    },
    {
     "name": "stdout",
     "output_type": "stream",
     "text": [
      "Track information loaded and ordered according to cell type (WT IDs >0> Scr IDs)\n",
      "Loaded ND0025/Pos7/\n",
      "Focal time not in frame\n",
      "ID ND0025_Pos7_958_GFP experiment: ND0025/Pos7/\n",
      "Focal time not in frame\n",
      "ID ND0025_Pos5_1_GFP experiment: ND0025/Pos5/\n",
      "Loading ND0025/Pos5/\n",
      "Btrack version no.: 0.5.0\n"
     ]
    },
    {
     "name": "stderr",
     "output_type": "stream",
     "text": [
      "[INFO][2022/06/01 11:40:13 PM] Closing HDF file: /home/nathan/data/kraken/ras/ND0025/Pos5/tracks.h5\n",
      "[INFO][2022/06/01 11:40:13 PM] Opening HDF file: /home/nathan/data/kraken/ras/ND0025/Pos5/tracks.h5...\n",
      "[INFO][2022/06/01 11:40:13 PM] Loading tracks/obj_type_2\n",
      "[INFO][2022/06/01 11:40:13 PM] Loading objects/obj_type_2 (7218, 5) (7218 filtered: None)\n",
      "[INFO][2022/06/01 11:40:14 PM] Closing HDF file: /home/nathan/data/kraken/ras/ND0025/Pos5/tracks.h5\n",
      "[INFO][2022/06/01 11:40:14 PM] Opening HDF file: /home/nathan/data/kraken/ras/ND0014/Pos5/tracks.h5...\n",
      "[INFO][2022/06/01 11:40:14 PM] Loading tracks/obj_type_1\n"
     ]
    },
    {
     "name": "stdout",
     "output_type": "stream",
     "text": [
      "Track information loaded and ordered according to cell type (WT IDs >0> Scr IDs)\n",
      "Loaded ND0025/Pos5/\n",
      "Focal time not in frame\n",
      "ID ND0014_Pos5_11_GFP experiment: ND0014/Pos5/\n",
      "Loading ND0014/Pos5/\n",
      "Btrack version no.: 0.5.0\n"
     ]
    },
    {
     "name": "stderr",
     "output_type": "stream",
     "text": [
      "[INFO][2022/06/01 11:40:14 PM] Loading objects/obj_type_1 (249924, 5) (249924 filtered: None)\n",
      "[INFO][2022/06/01 11:40:22 PM] Closing HDF file: /home/nathan/data/kraken/ras/ND0014/Pos5/tracks.h5\n",
      "[INFO][2022/06/01 11:40:23 PM] Opening HDF file: /home/nathan/data/kraken/ras/ND0014/Pos5/tracks.h5...\n",
      "[INFO][2022/06/01 11:40:23 PM] Loading tracks/obj_type_2\n",
      "[INFO][2022/06/01 11:40:23 PM] Loading objects/obj_type_2 (62283, 5) (62283 filtered: None)\n",
      "[INFO][2022/06/01 11:40:25 PM] Closing HDF file: /home/nathan/data/kraken/ras/ND0014/Pos5/tracks.h5\n",
      "[INFO][2022/06/01 11:40:26 PM] Opening HDF file: /home/nathan/data/kraken/ras/ND0014/Pos7/tracks.h5...\n",
      "[INFO][2022/06/01 11:40:26 PM] Loading tracks/obj_type_1\n"
     ]
    },
    {
     "name": "stdout",
     "output_type": "stream",
     "text": [
      "Track information loaded and ordered according to cell type (WT IDs >0> Scr IDs)\n",
      "Loaded ND0014/Pos5/\n",
      "Focal time not in frame\n",
      "ID ND0014_Pos5_488_GFP_frag experiment: ND0014/Pos5/\n",
      "Focal time not in frame\n",
      "ID ND0014_Pos5_1317_GFP_frag experiment: ND0014/Pos5/\n",
      "ID ND0014_Pos5_2535_GFP_frag experiment: ND0014/Pos5/\n",
      "Focal time not in frame\n",
      "ID ND0014_Pos7_1_GFP_frag experiment: ND0014/Pos7/\n",
      "Loading ND0014/Pos7/\n",
      "Btrack version no.: 0.5.0\n"
     ]
    },
    {
     "name": "stderr",
     "output_type": "stream",
     "text": [
      "[INFO][2022/06/01 11:40:26 PM] Loading objects/obj_type_1 (182289, 5) (182289 filtered: None)\n",
      "[INFO][2022/06/01 11:40:30 PM] Closing HDF file: /home/nathan/data/kraken/ras/ND0014/Pos7/tracks.h5\n",
      "[INFO][2022/06/01 11:40:30 PM] Opening HDF file: /home/nathan/data/kraken/ras/ND0014/Pos7/tracks.h5...\n",
      "[INFO][2022/06/01 11:40:30 PM] Loading tracks/obj_type_2\n",
      "[INFO][2022/06/01 11:40:30 PM] Loading objects/obj_type_2 (10574, 5) (10574 filtered: None)\n",
      "[INFO][2022/06/01 11:40:30 PM] Closing HDF file: /home/nathan/data/kraken/ras/ND0014/Pos7/tracks.h5\n",
      "[INFO][2022/06/01 11:40:30 PM] Opening HDF file: /home/nathan/data/kraken/ras/ND0014/Pos8/tracks.h5...\n",
      "[INFO][2022/06/01 11:40:30 PM] Loading tracks/obj_type_1\n"
     ]
    },
    {
     "name": "stdout",
     "output_type": "stream",
     "text": [
      "Track information loaded and ordered according to cell type (WT IDs >0> Scr IDs)\n",
      "Loaded ND0014/Pos7/\n",
      "Focal time not in frame\n",
      "ID ND0014_Pos8_482_GFP experiment: ND0014/Pos8/\n",
      "Loading ND0014/Pos8/\n",
      "Btrack version no.: 0.5.0\n"
     ]
    },
    {
     "name": "stderr",
     "output_type": "stream",
     "text": [
      "[INFO][2022/06/01 11:40:30 PM] Loading objects/obj_type_1 (285628, 5) (285628 filtered: None)\n",
      "[INFO][2022/06/01 11:40:36 PM] Closing HDF file: /home/nathan/data/kraken/ras/ND0014/Pos8/tracks.h5\n",
      "[INFO][2022/06/01 11:40:36 PM] Opening HDF file: /home/nathan/data/kraken/ras/ND0014/Pos8/tracks.h5...\n",
      "[INFO][2022/06/01 11:40:36 PM] Loading tracks/obj_type_2\n",
      "[INFO][2022/06/01 11:40:36 PM] Loading objects/obj_type_2 (29467, 5) (29467 filtered: None)\n",
      "[INFO][2022/06/01 11:40:37 PM] Closing HDF file: /home/nathan/data/kraken/ras/ND0014/Pos8/tracks.h5\n"
     ]
    },
    {
     "name": "stdout",
     "output_type": "stream",
     "text": [
      "Track information loaded and ordered according to cell type (WT IDs >0> Scr IDs)\n"
     ]
    },
    {
     "name": "stderr",
     "output_type": "stream",
     "text": [
      "[INFO][2022/06/01 11:40:37 PM] Opening HDF file: /home/nathan/data/kraken/ras/ND0014/Pos9/tracks.h5...\n",
      "[INFO][2022/06/01 11:40:37 PM] Loading tracks/obj_type_1\n"
     ]
    },
    {
     "name": "stdout",
     "output_type": "stream",
     "text": [
      "Loaded ND0014/Pos8/\n",
      "Focal time not in frame\n",
      "ID ND0014_Pos8_481_GFP experiment: ND0014/Pos8/\n",
      "Focal time not in frame\n",
      "ID ND0014_Pos9_1_GFP experiment: ND0014/Pos9/\n",
      "Loading ND0014/Pos9/\n",
      "Btrack version no.: 0.5.0\n"
     ]
    },
    {
     "name": "stderr",
     "output_type": "stream",
     "text": [
      "[INFO][2022/06/01 11:40:37 PM] Loading objects/obj_type_1 (444747, 5) (444747 filtered: None)\n",
      "[INFO][2022/06/01 11:40:46 PM] Closing HDF file: /home/nathan/data/kraken/ras/ND0014/Pos9/tracks.h5\n",
      "[INFO][2022/06/01 11:40:46 PM] Opening HDF file: /home/nathan/data/kraken/ras/ND0014/Pos9/tracks.h5...\n",
      "[INFO][2022/06/01 11:40:46 PM] Loading tracks/obj_type_2\n",
      "[INFO][2022/06/01 11:40:46 PM] Loading objects/obj_type_2 (7231, 5) (7231 filtered: None)\n",
      "[INFO][2022/06/01 11:40:47 PM] Closing HDF file: /home/nathan/data/kraken/ras/ND0014/Pos9/tracks.h5\n"
     ]
    },
    {
     "name": "stdout",
     "output_type": "stream",
     "text": [
      "Track information loaded and ordered according to cell type (WT IDs >0> Scr IDs)\n",
      "Loaded ND0014/Pos9/\n"
     ]
    },
    {
     "name": "stderr",
     "output_type": "stream",
     "text": [
      "[INFO][2022/06/01 11:44:51 PM] Opening HDF file: /home/nathan/data/kraken/ras/ND0017/Pos7/tracks.h5...\n",
      "[INFO][2022/06/01 11:44:51 PM] Loading tracks/obj_type_1\n"
     ]
    },
    {
     "name": "stdout",
     "output_type": "stream",
     "text": [
      "ID ND0017_Pos7_1012_GFP_frag experiment: ND0017/Pos7/\n",
      "Loading ND0017/Pos7/\n",
      "Btrack version no.: 0.5.0\n"
     ]
    },
    {
     "name": "stderr",
     "output_type": "stream",
     "text": [
      "[INFO][2022/06/01 11:44:51 PM] Loading objects/obj_type_1 (470131, 5) (470131 filtered: None)\n",
      "[INFO][2022/06/01 11:45:02 PM] Closing HDF file: /home/nathan/data/kraken/ras/ND0017/Pos7/tracks.h5\n",
      "[INFO][2022/06/01 11:45:02 PM] Opening HDF file: /home/nathan/data/kraken/ras/ND0017/Pos7/tracks.h5...\n",
      "[INFO][2022/06/01 11:45:02 PM] Loading tracks/obj_type_2\n",
      "[INFO][2022/06/01 11:45:02 PM] Loading objects/obj_type_2 (22567, 5) (22567 filtered: None)\n",
      "[INFO][2022/06/01 11:45:03 PM] Closing HDF file: /home/nathan/data/kraken/ras/ND0017/Pos7/tracks.h5\n",
      "[INFO][2022/06/01 11:45:03 PM] Opening HDF file: /home/nathan/data/kraken/ras/ND0021/Pos4/tracks.h5...\n",
      "[INFO][2022/06/01 11:45:03 PM] Loading tracks/obj_type_1\n"
     ]
    },
    {
     "name": "stdout",
     "output_type": "stream",
     "text": [
      "Track information loaded and ordered according to cell type (WT IDs >0> Scr IDs)\n",
      "Loaded ND0017/Pos7/\n",
      "ID ND0017_Pos7_547_GFP experiment: ND0017/Pos7/\n",
      "ID ND0017_Pos7_814_GFP experiment: ND0017/Pos7/\n",
      "ID ND0017_Pos7_1627_GFP_frag experiment: ND0017/Pos7/\n",
      "Focal time not in frame\n",
      "ID ND0017_Pos7_1627_GFP experiment: ND0017/Pos7/\n",
      "Focal time not in frame\n",
      "ID ND0021_Pos4_4_GFP experiment: ND0021/Pos4/\n",
      "Loading ND0021/Pos4/\n",
      "Btrack version no.: 0.5.0\n"
     ]
    },
    {
     "name": "stderr",
     "output_type": "stream",
     "text": [
      "[INFO][2022/06/01 11:45:04 PM] Loading objects/obj_type_1 (1488513, 5) (1488513 filtered: None)\n",
      "[INFO][2022/06/01 11:45:38 PM] Closing HDF file: /home/nathan/data/kraken/ras/ND0021/Pos4/tracks.h5\n",
      "[INFO][2022/06/01 11:45:38 PM] Opening HDF file: /home/nathan/data/kraken/ras/ND0021/Pos4/tracks.h5...\n",
      "[INFO][2022/06/01 11:45:38 PM] Loading tracks/obj_type_2\n",
      "[INFO][2022/06/01 11:45:38 PM] Loading objects/obj_type_2 (51348, 5) (51348 filtered: None)\n",
      "[INFO][2022/06/01 11:45:39 PM] Closing HDF file: /home/nathan/data/kraken/ras/ND0021/Pos4/tracks.h5\n"
     ]
    },
    {
     "name": "stdout",
     "output_type": "stream",
     "text": [
      "Track information loaded and ordered according to cell type (WT IDs >0> Scr IDs)\n"
     ]
    },
    {
     "name": "stderr",
     "output_type": "stream",
     "text": [
      "[INFO][2022/06/01 11:45:40 PM] Opening HDF file: /home/nathan/data/kraken/ras/ND0021/Pos7/tracks.h5...\n",
      "[INFO][2022/06/01 11:45:40 PM] Loading tracks/obj_type_1\n"
     ]
    },
    {
     "name": "stdout",
     "output_type": "stream",
     "text": [
      "Loaded ND0021/Pos4/\n",
      "Focal time not in frame\n",
      "ID ND0021_Pos7_321_GFP experiment: ND0021/Pos7/\n",
      "Loading ND0021/Pos7/\n",
      "Btrack version no.: 0.5.0\n"
     ]
    },
    {
     "name": "stderr",
     "output_type": "stream",
     "text": [
      "[INFO][2022/06/01 11:45:41 PM] Loading objects/obj_type_1 (1481271, 5) (1481271 filtered: None)\n",
      "[INFO][2022/06/01 11:46:14 PM] Closing HDF file: /home/nathan/data/kraken/ras/ND0021/Pos7/tracks.h5\n",
      "[INFO][2022/06/01 11:46:14 PM] Opening HDF file: /home/nathan/data/kraken/ras/ND0021/Pos7/tracks.h5...\n",
      "[INFO][2022/06/01 11:46:14 PM] Loading tracks/obj_type_2\n",
      "[INFO][2022/06/01 11:46:14 PM] Loading objects/obj_type_2 (38441, 5) (38441 filtered: None)\n",
      "[INFO][2022/06/01 11:46:15 PM] Closing HDF file: /home/nathan/data/kraken/ras/ND0021/Pos7/tracks.h5\n"
     ]
    },
    {
     "name": "stdout",
     "output_type": "stream",
     "text": [
      "Track information loaded and ordered according to cell type (WT IDs >0> Scr IDs)\n",
      "Loaded ND0021/Pos7/\n",
      "Focal time not in frame\n",
      "ID ND0021_Pos7_320_GFP experiment: ND0021/Pos7/\n",
      "Focal time not in frame\n",
      "ID ND0021_Pos7_177_GFP experiment: ND0021/Pos7/\n",
      "Focal time not in frame\n",
      "ID ND0021_Pos7_178_GFP experiment: ND0021/Pos7/\n",
      "Focal time not in frame\n",
      "ID ND0021_Pos7_507_GFP experiment: ND0021/Pos7/\n",
      "Focal time not in frame\n",
      "ID ND0021_Pos7_506_GFP experiment: ND0021/Pos7/\n"
     ]
    },
    {
     "name": "stderr",
     "output_type": "stream",
     "text": [
      "[INFO][2022/06/01 11:46:17 PM] Opening HDF file: /home/nathan/data/kraken/ras/ND0022/Pos3/tracks.h5...\n",
      "[INFO][2022/06/01 11:46:17 PM] Loading tracks/obj_type_1\n"
     ]
    },
    {
     "name": "stdout",
     "output_type": "stream",
     "text": [
      "Focal time not in frame\n",
      "ID ND0021_Pos7_598_GFP experiment: ND0021/Pos7/\n",
      "Focal time not in frame\n",
      "ID ND0021_Pos7_599_GFP experiment: ND0021/Pos7/\n",
      "Focal time not in frame\n",
      "ID ND0022_Pos3_4_GFP_frag experiment: ND0022/Pos3/\n",
      "Loading ND0022/Pos3/\n",
      "Btrack version no.: 0.5.0\n"
     ]
    },
    {
     "name": "stderr",
     "output_type": "stream",
     "text": [
      "[INFO][2022/06/01 11:46:17 PM] Loading objects/obj_type_1 (404850, 5) (404850 filtered: None)\n",
      "[INFO][2022/06/01 11:46:24 PM] Closing HDF file: /home/nathan/data/kraken/ras/ND0022/Pos3/tracks.h5\n",
      "[INFO][2022/06/01 11:46:24 PM] Opening HDF file: /home/nathan/data/kraken/ras/ND0022/Pos3/tracks.h5...\n",
      "[INFO][2022/06/01 11:46:24 PM] Loading tracks/obj_type_2\n",
      "[INFO][2022/06/01 11:46:24 PM] Loading objects/obj_type_2 (15790, 5) (15790 filtered: None)\n",
      "[INFO][2022/06/01 11:46:24 PM] Closing HDF file: /home/nathan/data/kraken/ras/ND0022/Pos3/tracks.h5\n"
     ]
    },
    {
     "name": "stdout",
     "output_type": "stream",
     "text": [
      "Track information loaded and ordered according to cell type (WT IDs >0> Scr IDs)\n",
      "Loaded ND0022/Pos3/\n"
     ]
    },
    {
     "name": "stderr",
     "output_type": "stream",
     "text": [
      "[INFO][2022/06/02 12:14:01 AM] Opening HDF file: /home/nathan/data/kraken/ras/ND0022/Pos4/tracks.h5...\n",
      "[INFO][2022/06/02 12:14:01 AM] Loading tracks/obj_type_1\n"
     ]
    },
    {
     "name": "stdout",
     "output_type": "stream",
     "text": [
      "ID ND0022_Pos3_907_GFP_frag experiment: ND0022/Pos3/\n",
      "Focal time not in frame\n",
      "ID ND0022_Pos3_910_GFP_frag experiment: ND0022/Pos3/\n",
      "Focal time not in frame\n",
      "ID ND0022_Pos3_940_GFP_frag experiment: ND0022/Pos3/\n",
      "Focal time not in frame\n",
      "ID ND0022_Pos3_840_GFP_frag experiment: ND0022/Pos3/\n",
      "Focal time not in frame\n",
      "ID ND0022_Pos3_1158_GFP_frag experiment: ND0022/Pos3/\n",
      "Focal time not in frame\n",
      "ID ND0022_Pos3_1197_GFP_frag experiment: ND0022/Pos3/\n",
      "Focal time not in frame\n",
      "ID ND0022_Pos3_1226_GFP_frag experiment: ND0022/Pos3/\n",
      "Focal time not in frame\n",
      "ID ND0022_Pos3_976_GFP experiment: ND0022/Pos3/\n",
      "Focal time not in frame\n",
      "ID ND0022_Pos4_1812_GFP experiment: ND0022/Pos4/\n",
      "Loading ND0022/Pos4/\n",
      "Btrack version no.: 0.5.0\n"
     ]
    },
    {
     "name": "stderr",
     "output_type": "stream",
     "text": [
      "[INFO][2022/06/02 12:14:02 AM] Loading objects/obj_type_1 (813379, 5) (813379 filtered: None)\n",
      "[INFO][2022/06/02 12:14:19 AM] Closing HDF file: /home/nathan/data/kraken/ras/ND0022/Pos4/tracks.h5\n",
      "[INFO][2022/06/02 12:14:19 AM] Opening HDF file: /home/nathan/data/kraken/ras/ND0022/Pos4/tracks.h5...\n",
      "[INFO][2022/06/02 12:14:19 AM] Loading tracks/obj_type_2\n",
      "[INFO][2022/06/02 12:14:19 AM] Loading objects/obj_type_2 (18889, 5) (18889 filtered: None)\n",
      "[INFO][2022/06/02 12:14:19 AM] Closing HDF file: /home/nathan/data/kraken/ras/ND0022/Pos4/tracks.h5\n"
     ]
    },
    {
     "name": "stdout",
     "output_type": "stream",
     "text": [
      "Track information loaded and ordered according to cell type (WT IDs >0> Scr IDs)\n",
      "Loaded ND0022/Pos4/\n"
     ]
    },
    {
     "name": "stderr",
     "output_type": "stream",
     "text": [
      "[INFO][2022/06/02 12:41:43 AM] Opening HDF file: /home/nathan/data/kraken/ras/ND0022/Pos5/tracks.h5...\n",
      "[INFO][2022/06/02 12:41:43 AM] Loading tracks/obj_type_1\n",
      "[INFO][2022/06/02 12:41:43 AM] Loading objects/obj_type_1 (254578, 5) (254578 filtered: None)\n"
     ]
    },
    {
     "name": "stdout",
     "output_type": "stream",
     "text": [
      "ID ND0022_Pos4_643_GFP experiment: ND0022/Pos4/\n",
      "Focal time not in frame\n",
      "ID ND0022_Pos4_1486_GFP experiment: ND0022/Pos4/\n",
      "Focal time not in frame\n",
      "ID ND0022_Pos5_2_GFP experiment: ND0022/Pos5/\n",
      "Loading ND0022/Pos5/\n",
      "Btrack version no.: 0.5.0\n"
     ]
    },
    {
     "name": "stderr",
     "output_type": "stream",
     "text": [
      "[INFO][2022/06/02 12:41:49 AM] Closing HDF file: /home/nathan/data/kraken/ras/ND0022/Pos5/tracks.h5\n",
      "[INFO][2022/06/02 12:41:49 AM] Opening HDF file: /home/nathan/data/kraken/ras/ND0022/Pos5/tracks.h5...\n",
      "[INFO][2022/06/02 12:41:49 AM] Loading tracks/obj_type_2\n",
      "[INFO][2022/06/02 12:41:49 AM] Loading objects/obj_type_2 (20446, 5) (20446 filtered: None)\n",
      "[INFO][2022/06/02 12:41:49 AM] Closing HDF file: /home/nathan/data/kraken/ras/ND0022/Pos5/tracks.h5\n",
      "[INFO][2022/06/02 12:41:49 AM] Opening HDF file: /home/nathan/data/kraken/ras/ND0022/Pos6/tracks.h5...\n",
      "[INFO][2022/06/02 12:41:49 AM] Loading tracks/obj_type_1\n"
     ]
    },
    {
     "name": "stdout",
     "output_type": "stream",
     "text": [
      "Track information loaded and ordered according to cell type (WT IDs >0> Scr IDs)\n",
      "Loaded ND0022/Pos5/\n",
      "Focal time not in frame\n",
      "ID ND0022_Pos5_1025_GFP_frag experiment: ND0022/Pos5/\n",
      "Focal time not in frame\n",
      "ID ND0022_Pos5_785_GFP experiment: ND0022/Pos5/\n",
      "Focal time not in frame\n",
      "ID ND0022_Pos5_782_GFP experiment: ND0022/Pos5/\n",
      "Focal time not in frame\n",
      "ID ND0022_Pos5_358_GFP experiment: ND0022/Pos5/\n",
      "Focal time not in frame\n",
      "ID ND0022_Pos5_262_GFP experiment: ND0022/Pos5/\n",
      "Focal time not in frame\n",
      "ID ND0022_Pos5_1205_GFP experiment: ND0022/Pos5/\n",
      "Focal time not in frame\n",
      "ID ND0022_Pos6_7_GFP_frag experiment: ND0022/Pos6/\n",
      "Loading ND0022/Pos6/\n",
      "Btrack version no.: 0.5.0\n"
     ]
    },
    {
     "name": "stderr",
     "output_type": "stream",
     "text": [
      "[INFO][2022/06/02 12:41:50 AM] Loading objects/obj_type_1 (1291409, 5) (1291409 filtered: None)\n",
      "[INFO][2022/06/02 12:42:15 AM] Closing HDF file: /home/nathan/data/kraken/ras/ND0022/Pos6/tracks.h5\n",
      "[INFO][2022/06/02 12:42:15 AM] Opening HDF file: /home/nathan/data/kraken/ras/ND0022/Pos6/tracks.h5...\n",
      "[INFO][2022/06/02 12:42:15 AM] Loading tracks/obj_type_2\n",
      "[INFO][2022/06/02 12:42:15 AM] Loading objects/obj_type_2 (15847, 5) (15847 filtered: None)\n",
      "[INFO][2022/06/02 12:42:16 AM] Closing HDF file: /home/nathan/data/kraken/ras/ND0022/Pos6/tracks.h5\n"
     ]
    },
    {
     "name": "stdout",
     "output_type": "stream",
     "text": [
      "Track information loaded and ordered according to cell type (WT IDs >0> Scr IDs)\n",
      "Loaded ND0022/Pos6/\n",
      "Focal time not in frame\n",
      "ID ND0022_Pos6_1_GFP experiment: ND0022/Pos6/\n"
     ]
    },
    {
     "name": "stderr",
     "output_type": "stream",
     "text": [
      "[INFO][2022/06/02 01:30:22 AM] Opening HDF file: /home/nathan/data/kraken/ras/ND0022/Pos7/tracks.h5...\n",
      "[INFO][2022/06/02 01:30:22 AM] Loading tracks/obj_type_1\n",
      "[INFO][2022/06/02 01:30:23 AM] Loading objects/obj_type_1 (465089, 5) (465089 filtered: None)\n"
     ]
    },
    {
     "name": "stdout",
     "output_type": "stream",
     "text": [
      "ID ND0022_Pos7_15_GFP experiment: ND0022/Pos7/\n",
      "Loading ND0022/Pos7/\n",
      "Btrack version no.: 0.5.0\n"
     ]
    },
    {
     "name": "stderr",
     "output_type": "stream",
     "text": [
      "[INFO][2022/06/02 01:30:33 AM] Closing HDF file: /home/nathan/data/kraken/ras/ND0022/Pos7/tracks.h5\n",
      "[INFO][2022/06/02 01:30:33 AM] Opening HDF file: /home/nathan/data/kraken/ras/ND0022/Pos7/tracks.h5...\n",
      "[INFO][2022/06/02 01:30:33 AM] Loading tracks/obj_type_2\n",
      "[INFO][2022/06/02 01:30:33 AM] Loading objects/obj_type_2 (14348, 5) (14348 filtered: None)\n",
      "[INFO][2022/06/02 01:30:34 AM] Closing HDF file: /home/nathan/data/kraken/ras/ND0022/Pos7/tracks.h5\n"
     ]
    },
    {
     "name": "stdout",
     "output_type": "stream",
     "text": [
      "Track information loaded and ordered according to cell type (WT IDs >0> Scr IDs)\n",
      "Loaded ND0022/Pos7/\n",
      "ID ND0022_Pos7_728_GFP experiment: ND0022/Pos7/\n",
      "Focal time not in frame\n",
      "ID ND0022_Pos7_1125_GFP_frag experiment: ND0022/Pos7/\n",
      "Focal time not in frame\n",
      "ID ND0022_Pos7_1113_GFP_frag experiment: ND0022/Pos7/\n",
      "Focal time not in frame\n",
      "ID ND0022_Pos7_1112_GFP_frag experiment: ND0022/Pos7/\n",
      "Focal time not in frame\n",
      "ID ND0022_Pos7_1842_GFP_frag experiment: ND0022/Pos7/\n",
      "Focal time not in frame\n",
      "ID ND0022_Pos7_1841_GFP_frag experiment: ND0022/Pos7/\n",
      "Focal time not in frame\n",
      "ID ND0022_Pos7_1062_GFP experiment: ND0022/Pos7/\n",
      "Focal time not in frame\n",
      "ID ND0022_Pos7_1104_GFP experiment: ND0022/Pos7/\n",
      "ID ND0022_Pos7_1226_GFP experiment: ND0022/Pos7/\n"
     ]
    },
    {
     "name": "stderr",
     "output_type": "stream",
     "text": [
      "[INFO][2022/06/02 01:39:44 AM] Opening HDF file: /home/nathan/data/kraken/ras/ND0024/Pos3/tracks.h5...\n",
      "[INFO][2022/06/02 01:39:44 AM] Loading tracks/obj_type_1\n",
      "[INFO][2022/06/02 01:39:44 AM] Loading objects/obj_type_1 (636597, 5) (636597 filtered: None)\n"
     ]
    },
    {
     "name": "stdout",
     "output_type": "stream",
     "text": [
      "ID ND0022_Pos7_2017_GFP_frag experiment: ND0022/Pos7/\n",
      "Focal time not in frame\n",
      "ID ND0024_Pos3_320_GFP experiment: ND0024/Pos3/\n",
      "Loading ND0024/Pos3/\n",
      "Btrack version no.: 0.5.0\n"
     ]
    },
    {
     "name": "stderr",
     "output_type": "stream",
     "text": [
      "[INFO][2022/06/02 01:39:58 AM] Closing HDF file: /home/nathan/data/kraken/ras/ND0024/Pos3/tracks.h5\n",
      "[INFO][2022/06/02 01:39:58 AM] Opening HDF file: /home/nathan/data/kraken/ras/ND0024/Pos3/tracks.h5...\n",
      "[INFO][2022/06/02 01:39:58 AM] Loading tracks/obj_type_2\n",
      "[INFO][2022/06/02 01:39:58 AM] Loading objects/obj_type_2 (16475, 5) (16475 filtered: None)\n",
      "[INFO][2022/06/02 01:39:58 AM] Closing HDF file: /home/nathan/data/kraken/ras/ND0024/Pos3/tracks.h5\n"
     ]
    },
    {
     "name": "stdout",
     "output_type": "stream",
     "text": [
      "Track information loaded and ordered according to cell type (WT IDs >0> Scr IDs)\n",
      "Loaded ND0024/Pos3/\n"
     ]
    },
    {
     "name": "stderr",
     "output_type": "stream",
     "text": [
      "[INFO][2022/06/02 01:51:14 AM] Opening HDF file: /home/nathan/data/kraken/ras/ND0024/Pos4/tracks.h5...\n",
      "[INFO][2022/06/02 01:51:14 AM] Loading tracks/obj_type_1\n",
      "[INFO][2022/06/02 01:51:14 AM] Loading objects/obj_type_1 (586398, 5) (586398 filtered: None)\n"
     ]
    },
    {
     "name": "stdout",
     "output_type": "stream",
     "text": [
      "ID ND0024_Pos4_276_GFP experiment: ND0024/Pos4/\n",
      "Loading ND0024/Pos4/\n",
      "Btrack version no.: 0.5.0\n"
     ]
    },
    {
     "name": "stderr",
     "output_type": "stream",
     "text": [
      "[INFO][2022/06/02 01:51:28 AM] Closing HDF file: /home/nathan/data/kraken/ras/ND0024/Pos4/tracks.h5\n",
      "[INFO][2022/06/02 01:51:28 AM] Opening HDF file: /home/nathan/data/kraken/ras/ND0024/Pos4/tracks.h5...\n",
      "[INFO][2022/06/02 01:51:28 AM] Loading tracks/obj_type_2\n",
      "[INFO][2022/06/02 01:51:28 AM] Loading objects/obj_type_2 (33390, 5) (33390 filtered: None)\n",
      "[INFO][2022/06/02 01:51:31 AM] Closing HDF file: /home/nathan/data/kraken/ras/ND0024/Pos4/tracks.h5\n",
      "[INFO][2022/06/02 01:51:31 AM] Opening HDF file: /home/nathan/data/kraken/ras/ND0024/Pos5/tracks.h5...\n",
      "[INFO][2022/06/02 01:51:31 AM] Loading tracks/obj_type_1\n"
     ]
    },
    {
     "name": "stdout",
     "output_type": "stream",
     "text": [
      "Track information loaded and ordered according to cell type (WT IDs >0> Scr IDs)\n",
      "Loaded ND0024/Pos4/\n",
      "Focal time not in frame\n",
      "ID ND0024_Pos4_1349_GFP experiment: ND0024/Pos4/\n",
      "Focal time not in frame\n",
      "ID ND0024_Pos4_1570_GFP experiment: ND0024/Pos4/\n",
      "Focal time not in frame\n",
      "ID ND0024_Pos4_1881_GFP experiment: ND0024/Pos4/\n",
      "Focal time not in frame\n",
      "ID ND0024_Pos4_1306_GFP experiment: ND0024/Pos4/\n",
      "Focal time not in frame\n",
      "ID ND0024_Pos4_3228_GFP_frag experiment: ND0024/Pos4/\n",
      "Focal time not in frame\n",
      "ID ND0024_Pos4_3162_GFP_frag experiment: ND0024/Pos4/\n",
      "Focal time not in frame\n",
      "ID ND0024_Pos4_1264_GFP experiment: ND0024/Pos4/\n",
      "Focal time not in frame\n",
      "ID ND0024_Pos4_2890_GFP_frag experiment: ND0024/Pos4/\n",
      "ID ND0024_Pos5_675_GFP_frag experiment: ND0024/Pos5/\n",
      "Loading ND0024/Pos5/\n",
      "Btrack version no.: 0.5.0\n"
     ]
    },
    {
     "name": "stderr",
     "output_type": "stream",
     "text": [
      "[INFO][2022/06/02 01:51:31 AM] Loading objects/obj_type_1 (418489, 5) (418489 filtered: None)\n",
      "[INFO][2022/06/02 01:51:41 AM] Closing HDF file: /home/nathan/data/kraken/ras/ND0024/Pos5/tracks.h5\n",
      "[INFO][2022/06/02 01:51:41 AM] Opening HDF file: /home/nathan/data/kraken/ras/ND0024/Pos5/tracks.h5...\n",
      "[INFO][2022/06/02 01:51:41 AM] Loading tracks/obj_type_2\n",
      "[INFO][2022/06/02 01:51:41 AM] Loading objects/obj_type_2 (14355, 5) (14355 filtered: None)\n",
      "[INFO][2022/06/02 01:51:41 AM] Closing HDF file: /home/nathan/data/kraken/ras/ND0024/Pos5/tracks.h5\n",
      "[INFO][2022/06/02 01:51:42 AM] Opening HDF file: /home/nathan/data/kraken/ras/ND0024/Pos6/tracks.h5...\n",
      "[INFO][2022/06/02 01:51:42 AM] Loading tracks/obj_type_1\n"
     ]
    },
    {
     "name": "stdout",
     "output_type": "stream",
     "text": [
      "Track information loaded and ordered according to cell type (WT IDs >0> Scr IDs)\n",
      "Loaded ND0024/Pos5/\n",
      "Focal time not in frame\n",
      "ID ND0024_Pos5_1053_GFP experiment: ND0024/Pos5/\n",
      "Focal time not in frame\n",
      "ID ND0024_Pos5_1179_GFP experiment: ND0024/Pos5/\n",
      "Focal time not in frame\n",
      "ID ND0024_Pos5_1183_GFP experiment: ND0024/Pos5/\n",
      "Focal time not in frame\n",
      "ID ND0024_Pos5_1092_GFP_frag experiment: ND0024/Pos5/\n",
      "Focal time not in frame\n",
      "ID ND0024_Pos6_7_GFP experiment: ND0024/Pos6/\n",
      "Loading ND0024/Pos6/\n",
      "Btrack version no.: 0.5.0\n"
     ]
    },
    {
     "name": "stderr",
     "output_type": "stream",
     "text": [
      "[INFO][2022/06/02 01:51:42 AM] Loading objects/obj_type_1 (484009, 5) (484009 filtered: None)\n",
      "[INFO][2022/06/02 01:51:53 AM] Closing HDF file: /home/nathan/data/kraken/ras/ND0024/Pos6/tracks.h5\n",
      "[INFO][2022/06/02 01:51:53 AM] Opening HDF file: /home/nathan/data/kraken/ras/ND0024/Pos6/tracks.h5...\n",
      "[INFO][2022/06/02 01:51:53 AM] Loading tracks/obj_type_2\n",
      "[INFO][2022/06/02 01:51:53 AM] Loading objects/obj_type_2 (46805, 5) (46805 filtered: None)\n",
      "[INFO][2022/06/02 01:51:54 AM] Closing HDF file: /home/nathan/data/kraken/ras/ND0024/Pos6/tracks.h5\n"
     ]
    },
    {
     "name": "stdout",
     "output_type": "stream",
     "text": [
      "Track information loaded and ordered according to cell type (WT IDs >0> Scr IDs)\n",
      "Loaded ND0024/Pos6/\n",
      "Focal time not in frame\n",
      "ID ND0024_Pos6_473_GFP experiment: ND0024/Pos6/\n",
      "Focal time not in frame\n",
      "ID ND0024_Pos6_638_GFP experiment: ND0024/Pos6/\n",
      "Focal time not in frame\n",
      "ID ND0024_Pos6_775_GFP_frag experiment: ND0024/Pos6/\n",
      "ID ND0024_Pos6_776_GFP_frag experiment: ND0024/Pos6/\n",
      "Focal time not in frame\n",
      "ID ND0024_Pos6_639_GFP experiment: ND0024/Pos6/\n",
      "Focal time not in frame\n",
      "ID ND0024_Pos6_754_GFP experiment: ND0024/Pos6/\n",
      "Focal time not in frame\n",
      "ID ND0024_Pos6_1145_GFP_frag experiment: ND0024/Pos6/\n"
     ]
    },
    {
     "name": "stderr",
     "output_type": "stream",
     "text": [
      "[INFO][2022/06/02 02:02:40 AM] Opening HDF file: /home/nathan/data/kraken/ras/ND0024/Pos7/tracks.h5...\n",
      "[INFO][2022/06/02 02:02:40 AM] Loading tracks/obj_type_1\n",
      "[INFO][2022/06/02 02:02:40 AM] Loading objects/obj_type_1 (296680, 5) (296680 filtered: None)\n"
     ]
    },
    {
     "name": "stdout",
     "output_type": "stream",
     "text": [
      "ID ND0024_Pos6_406_GFP experiment: ND0024/Pos6/\n",
      "Focal time not in frame\n",
      "ID ND0024_Pos6_812_GFP experiment: ND0024/Pos6/\n",
      "Focal time not in frame\n",
      "ID ND0024_Pos6_1353_GFP_frag experiment: ND0024/Pos6/\n",
      "Focal time not in frame\n",
      "ID ND0024_Pos6_1354_GFP_frag experiment: ND0024/Pos6/\n",
      "Focal time not in frame\n",
      "ID ND0024_Pos7_8_GFP experiment: ND0024/Pos7/\n",
      "Loading ND0024/Pos7/\n",
      "Btrack version no.: 0.5.0\n"
     ]
    },
    {
     "name": "stderr",
     "output_type": "stream",
     "text": [
      "[INFO][2022/06/02 02:02:47 AM] Closing HDF file: /home/nathan/data/kraken/ras/ND0024/Pos7/tracks.h5\n",
      "[INFO][2022/06/02 02:02:47 AM] Opening HDF file: /home/nathan/data/kraken/ras/ND0024/Pos7/tracks.h5...\n",
      "[INFO][2022/06/02 02:02:47 AM] Loading tracks/obj_type_2\n",
      "[INFO][2022/06/02 02:02:47 AM] Loading objects/obj_type_2 (11337, 5) (11337 filtered: None)\n",
      "[INFO][2022/06/02 02:02:47 AM] Closing HDF file: /home/nathan/data/kraken/ras/ND0024/Pos7/tracks.h5\n"
     ]
    },
    {
     "name": "stdout",
     "output_type": "stream",
     "text": [
      "Track information loaded and ordered according to cell type (WT IDs >0> Scr IDs)\n",
      "Loaded ND0024/Pos7/\n"
     ]
    },
    {
     "name": "stderr",
     "output_type": "stream",
     "text": [
      "[INFO][2022/06/02 02:06:54 AM] Opening HDF file: /home/nathan/data/kraken/ras/ND0025/Pos3/tracks.h5...\n",
      "[INFO][2022/06/02 02:06:54 AM] Loading tracks/obj_type_1\n",
      "[INFO][2022/06/02 02:06:54 AM] Loading objects/obj_type_1 (200555, 5) (200555 filtered: None)\n"
     ]
    },
    {
     "name": "stdout",
     "output_type": "stream",
     "text": [
      "ID ND0025_Pos3_2_GFP experiment: ND0025/Pos3/\n",
      "Loading ND0025/Pos3/\n",
      "Btrack version no.: 0.5.0\n"
     ]
    },
    {
     "name": "stderr",
     "output_type": "stream",
     "text": [
      "[INFO][2022/06/02 02:06:58 AM] Closing HDF file: /home/nathan/data/kraken/ras/ND0025/Pos3/tracks.h5\n",
      "[INFO][2022/06/02 02:06:58 AM] Opening HDF file: /home/nathan/data/kraken/ras/ND0025/Pos3/tracks.h5...\n",
      "[INFO][2022/06/02 02:06:58 AM] Loading tracks/obj_type_2\n",
      "[INFO][2022/06/02 02:06:58 AM] Loading objects/obj_type_2 (4490, 5) (4490 filtered: None)\n",
      "[INFO][2022/06/02 02:06:58 AM] Closing HDF file: /home/nathan/data/kraken/ras/ND0025/Pos3/tracks.h5\n",
      "[INFO][2022/06/02 02:06:58 AM] Opening HDF file: /home/nathan/data/kraken/ras/ND0025/Pos4/tracks.h5...\n",
      "[INFO][2022/06/02 02:06:58 AM] Loading tracks/obj_type_1\n",
      "[INFO][2022/06/02 02:06:58 AM] Loading objects/obj_type_1 (180679, 5) (180679 filtered: None)\n"
     ]
    },
    {
     "name": "stdout",
     "output_type": "stream",
     "text": [
      "Track information loaded and ordered according to cell type (WT IDs >0> Scr IDs)\n",
      "Loaded ND0025/Pos3/\n",
      "Focal time not in frame\n",
      "ID ND0025_Pos4_1275_GFP_frag experiment: ND0025/Pos4/\n",
      "Loading ND0025/Pos4/\n",
      "Btrack version no.: 0.5.0\n"
     ]
    },
    {
     "name": "stderr",
     "output_type": "stream",
     "text": [
      "[INFO][2022/06/02 02:07:02 AM] Closing HDF file: /home/nathan/data/kraken/ras/ND0025/Pos4/tracks.h5\n",
      "[INFO][2022/06/02 02:07:02 AM] Opening HDF file: /home/nathan/data/kraken/ras/ND0025/Pos4/tracks.h5...\n",
      "[INFO][2022/06/02 02:07:02 AM] Loading tracks/obj_type_2\n",
      "[INFO][2022/06/02 02:07:02 AM] Loading objects/obj_type_2 (10302, 5) (10302 filtered: None)\n",
      "[INFO][2022/06/02 02:07:02 AM] Closing HDF file: /home/nathan/data/kraken/ras/ND0025/Pos4/tracks.h5\n",
      "[INFO][2022/06/02 02:07:03 AM] Opening HDF file: /home/nathan/data/kraken/ras/ND0025/Pos6/tracks.h5...\n",
      "[INFO][2022/06/02 02:07:03 AM] Loading tracks/obj_type_1\n",
      "[INFO][2022/06/02 02:07:03 AM] Loading objects/obj_type_1 (392143, 5) (392143 filtered: None)\n"
     ]
    },
    {
     "name": "stdout",
     "output_type": "stream",
     "text": [
      "Track information loaded and ordered according to cell type (WT IDs >0> Scr IDs)\n",
      "Loaded ND0025/Pos4/\n",
      "Focal time not in frame\n",
      "ID ND0025_Pos4_26_GFP experiment: ND0025/Pos4/\n",
      "Focal time not in frame\n",
      "ID ND0025_Pos4_207_GFP experiment: ND0025/Pos4/\n",
      "Focal time not in frame\n",
      "ID ND0025_Pos6_696_GFP_frag experiment: ND0025/Pos6/\n",
      "Loading ND0025/Pos6/\n",
      "Btrack version no.: 0.5.0\n"
     ]
    },
    {
     "name": "stderr",
     "output_type": "stream",
     "text": [
      "[INFO][2022/06/02 02:07:11 AM] Closing HDF file: /home/nathan/data/kraken/ras/ND0025/Pos6/tracks.h5\n",
      "[INFO][2022/06/02 02:07:11 AM] Opening HDF file: /home/nathan/data/kraken/ras/ND0025/Pos6/tracks.h5...\n",
      "[INFO][2022/06/02 02:07:11 AM] Loading tracks/obj_type_2\n",
      "[INFO][2022/06/02 02:07:11 AM] Loading objects/obj_type_2 (5950, 5) (5950 filtered: None)\n",
      "[INFO][2022/06/02 02:07:11 AM] Closing HDF file: /home/nathan/data/kraken/ras/ND0025/Pos6/tracks.h5\n"
     ]
    },
    {
     "name": "stdout",
     "output_type": "stream",
     "text": [
      "Track information loaded and ordered according to cell type (WT IDs >0> Scr IDs)\n",
      "Loaded ND0025/Pos6/\n",
      "Focal time not in frame\n",
      "ID ND0025_Pos6_634_GFP experiment: ND0025/Pos6/\n",
      "Focal time not in frame\n"
     ]
    }
   ],
   "source": [
    "### creating a control measure by swapping RFP IDs with GFP\n",
    "for j in [0,1,2,3]:\n",
    "    control_dict = {}\n",
    "    for i in event_dict:\n",
    "        control_dict[i.replace('RFP', 'GFP')] = int(random.uniform(0,1000))\n",
    "    output_path = f'./ras_radial_analysis_beta/control{j}'\n",
    "    Path(output_path).mkdir(parents=True, exist_ok=True)\n",
    "    calculate.radial_scan('WT', ## 'Scr',\n",
    "        'DIVIDE', \n",
    "        control_dict, \n",
    "        hdf5_file_list, \n",
    "        radius, \n",
    "        t_range, \n",
    "       # num_bins, \n",
    "        output_path)"
   ]
  },
  {
   "cell_type": "code",
   "execution_count": null,
   "metadata": {},
   "outputs": [
    {
     "name": "stdout",
     "output_type": "stream",
     "text": [
      "1600 1600\n"
     ]
    },
    {
     "data": {
      "application/vnd.jupyter.widget-view+json": {
       "model_id": "3a7a1d1135f34c1a8bc29d16d526cccc",
       "version_major": 2,
       "version_minor": 0
      },
      "text/plain": [
       "  0%|          | 0/91 [00:00<?, ?it/s]"
      ]
     },
     "metadata": {},
     "output_type": "display_data"
    },
    {
     "name": "stderr",
     "output_type": "stream",
     "text": [
      "[INFO][2022/06/02 02:07:12 AM] Opening HDF file: /home/nathan/data/kraken/ras/ND0025/Pos7/tracks.h5...\n",
      "[INFO][2022/06/02 02:07:12 AM] Loading tracks/obj_type_1\n",
      "[INFO][2022/06/02 02:07:12 AM] Loading objects/obj_type_1 (197115, 5) (197115 filtered: None)\n"
     ]
    },
    {
     "name": "stdout",
     "output_type": "stream",
     "text": [
      "ID ND0025_Pos7_930_GFP experiment: ND0025/Pos7/\n",
      "Loading ND0025/Pos7/\n",
      "Btrack version no.: 0.5.0\n"
     ]
    },
    {
     "name": "stderr",
     "output_type": "stream",
     "text": [
      "[INFO][2022/06/02 02:07:15 AM] Closing HDF file: /home/nathan/data/kraken/ras/ND0025/Pos7/tracks.h5\n",
      "[INFO][2022/06/02 02:07:15 AM] Opening HDF file: /home/nathan/data/kraken/ras/ND0025/Pos7/tracks.h5...\n",
      "[INFO][2022/06/02 02:07:15 AM] Loading tracks/obj_type_2\n",
      "[INFO][2022/06/02 02:07:15 AM] Loading objects/obj_type_2 (12464, 5) (12464 filtered: None)\n",
      "[INFO][2022/06/02 02:07:15 AM] Closing HDF file: /home/nathan/data/kraken/ras/ND0025/Pos7/tracks.h5\n",
      "[INFO][2022/06/02 02:07:15 AM] Opening HDF file: /home/nathan/data/kraken/ras/ND0025/Pos5/tracks.h5...\n",
      "[INFO][2022/06/02 02:07:15 AM] Loading tracks/obj_type_1\n",
      "[INFO][2022/06/02 02:07:16 AM] Loading objects/obj_type_1 (419463, 5) (419463 filtered: None)\n"
     ]
    },
    {
     "name": "stdout",
     "output_type": "stream",
     "text": [
      "Track information loaded and ordered according to cell type (WT IDs >0> Scr IDs)\n",
      "Loaded ND0025/Pos7/\n",
      "Focal time not in frame\n",
      "ID ND0025_Pos7_958_GFP experiment: ND0025/Pos7/\n",
      "Focal time not in frame\n",
      "ID ND0025_Pos5_1_GFP experiment: ND0025/Pos5/\n",
      "Loading ND0025/Pos5/\n",
      "Btrack version no.: 0.5.0\n"
     ]
    },
    {
     "name": "stderr",
     "output_type": "stream",
     "text": [
      "[INFO][2022/06/02 02:07:24 AM] Closing HDF file: /home/nathan/data/kraken/ras/ND0025/Pos5/tracks.h5\n",
      "[INFO][2022/06/02 02:07:24 AM] Opening HDF file: /home/nathan/data/kraken/ras/ND0025/Pos5/tracks.h5...\n",
      "[INFO][2022/06/02 02:07:24 AM] Loading tracks/obj_type_2\n",
      "[INFO][2022/06/02 02:07:24 AM] Loading objects/obj_type_2 (7218, 5) (7218 filtered: None)\n",
      "[INFO][2022/06/02 02:07:24 AM] Closing HDF file: /home/nathan/data/kraken/ras/ND0025/Pos5/tracks.h5\n",
      "[INFO][2022/06/02 02:07:24 AM] Opening HDF file: /home/nathan/data/kraken/ras/ND0014/Pos5/tracks.h5...\n",
      "[INFO][2022/06/02 02:07:24 AM] Loading tracks/obj_type_1\n"
     ]
    },
    {
     "name": "stdout",
     "output_type": "stream",
     "text": [
      "Track information loaded and ordered according to cell type (WT IDs >0> Scr IDs)\n",
      "Loaded ND0025/Pos5/\n",
      "Focal time not in frame\n",
      "ID ND0014_Pos5_11_GFP experiment: ND0014/Pos5/\n",
      "Loading ND0014/Pos5/\n",
      "Btrack version no.: 0.5.0\n"
     ]
    },
    {
     "name": "stderr",
     "output_type": "stream",
     "text": [
      "[INFO][2022/06/02 02:07:24 AM] Loading objects/obj_type_1 (249924, 5) (249924 filtered: None)\n",
      "[INFO][2022/06/02 02:07:33 AM] Closing HDF file: /home/nathan/data/kraken/ras/ND0014/Pos5/tracks.h5\n",
      "[INFO][2022/06/02 02:07:33 AM] Opening HDF file: /home/nathan/data/kraken/ras/ND0014/Pos5/tracks.h5...\n",
      "[INFO][2022/06/02 02:07:33 AM] Loading tracks/obj_type_2\n",
      "[INFO][2022/06/02 02:07:33 AM] Loading objects/obj_type_2 (62283, 5) (62283 filtered: None)\n",
      "[INFO][2022/06/02 02:07:36 AM] Closing HDF file: /home/nathan/data/kraken/ras/ND0014/Pos5/tracks.h5\n"
     ]
    },
    {
     "name": "stdout",
     "output_type": "stream",
     "text": [
      "Track information loaded and ordered according to cell type (WT IDs >0> Scr IDs)\n",
      "Loaded ND0014/Pos5/\n"
     ]
    },
    {
     "name": "stderr",
     "output_type": "stream",
     "text": [
      "[INFO][2022/06/02 02:10:25 AM] Opening HDF file: /home/nathan/data/kraken/ras/ND0014/Pos7/tracks.h5...\n",
      "[INFO][2022/06/02 02:10:25 AM] Loading tracks/obj_type_1\n"
     ]
    },
    {
     "name": "stdout",
     "output_type": "stream",
     "text": [
      "ID ND0014_Pos5_488_GFP_frag experiment: ND0014/Pos5/\n",
      "Focal time not in frame\n",
      "ID ND0014_Pos5_1317_GFP_frag experiment: ND0014/Pos5/\n",
      "ID ND0014_Pos5_2535_GFP_frag experiment: ND0014/Pos5/\n",
      "Focal time not in frame\n",
      "ID ND0014_Pos7_1_GFP_frag experiment: ND0014/Pos7/\n",
      "Loading ND0014/Pos7/\n",
      "Btrack version no.: 0.5.0\n"
     ]
    },
    {
     "name": "stderr",
     "output_type": "stream",
     "text": [
      "[INFO][2022/06/02 02:10:25 AM] Loading objects/obj_type_1 (182289, 5) (182289 filtered: None)\n",
      "[INFO][2022/06/02 02:10:29 AM] Closing HDF file: /home/nathan/data/kraken/ras/ND0014/Pos7/tracks.h5\n",
      "[INFO][2022/06/02 02:10:29 AM] Opening HDF file: /home/nathan/data/kraken/ras/ND0014/Pos7/tracks.h5...\n",
      "[INFO][2022/06/02 02:10:29 AM] Loading tracks/obj_type_2\n",
      "[INFO][2022/06/02 02:10:29 AM] Loading objects/obj_type_2 (10574, 5) (10574 filtered: None)\n",
      "[INFO][2022/06/02 02:10:29 AM] Closing HDF file: /home/nathan/data/kraken/ras/ND0014/Pos7/tracks.h5\n",
      "[INFO][2022/06/02 02:10:29 AM] Opening HDF file: /home/nathan/data/kraken/ras/ND0014/Pos8/tracks.h5...\n",
      "[INFO][2022/06/02 02:10:29 AM] Loading tracks/obj_type_1\n"
     ]
    },
    {
     "name": "stdout",
     "output_type": "stream",
     "text": [
      "Track information loaded and ordered according to cell type (WT IDs >0> Scr IDs)\n",
      "Loaded ND0014/Pos7/\n",
      "Focal time not in frame\n",
      "ID ND0014_Pos8_482_GFP experiment: ND0014/Pos8/\n",
      "Loading ND0014/Pos8/\n",
      "Btrack version no.: 0.5.0\n"
     ]
    },
    {
     "name": "stderr",
     "output_type": "stream",
     "text": [
      "[INFO][2022/06/02 02:10:29 AM] Loading objects/obj_type_1 (285628, 5) (285628 filtered: None)\n",
      "[INFO][2022/06/02 02:10:35 AM] Closing HDF file: /home/nathan/data/kraken/ras/ND0014/Pos8/tracks.h5\n",
      "[INFO][2022/06/02 02:10:35 AM] Opening HDF file: /home/nathan/data/kraken/ras/ND0014/Pos8/tracks.h5...\n",
      "[INFO][2022/06/02 02:10:35 AM] Loading tracks/obj_type_2\n",
      "[INFO][2022/06/02 02:10:35 AM] Loading objects/obj_type_2 (29467, 5) (29467 filtered: None)\n",
      "[INFO][2022/06/02 02:10:37 AM] Closing HDF file: /home/nathan/data/kraken/ras/ND0014/Pos8/tracks.h5\n",
      "[INFO][2022/06/02 02:10:37 AM] Opening HDF file: /home/nathan/data/kraken/ras/ND0014/Pos9/tracks.h5...\n",
      "[INFO][2022/06/02 02:10:37 AM] Loading tracks/obj_type_1\n"
     ]
    },
    {
     "name": "stdout",
     "output_type": "stream",
     "text": [
      "Track information loaded and ordered according to cell type (WT IDs >0> Scr IDs)\n",
      "Loaded ND0014/Pos8/\n",
      "Focal time not in frame\n",
      "ID ND0014_Pos8_481_GFP experiment: ND0014/Pos8/\n",
      "Focal time not in frame\n",
      "ID ND0014_Pos9_1_GFP experiment: ND0014/Pos9/\n",
      "Loading ND0014/Pos9/\n",
      "Btrack version no.: 0.5.0\n"
     ]
    },
    {
     "name": "stderr",
     "output_type": "stream",
     "text": [
      "[INFO][2022/06/02 02:10:38 AM] Loading objects/obj_type_1 (444747, 5) (444747 filtered: None)\n",
      "[INFO][2022/06/02 02:10:46 AM] Closing HDF file: /home/nathan/data/kraken/ras/ND0014/Pos9/tracks.h5\n",
      "[INFO][2022/06/02 02:10:46 AM] Opening HDF file: /home/nathan/data/kraken/ras/ND0014/Pos9/tracks.h5...\n",
      "[INFO][2022/06/02 02:10:46 AM] Loading tracks/obj_type_2\n",
      "[INFO][2022/06/02 02:10:46 AM] Loading objects/obj_type_2 (7231, 5) (7231 filtered: None)\n",
      "[INFO][2022/06/02 02:10:47 AM] Closing HDF file: /home/nathan/data/kraken/ras/ND0014/Pos9/tracks.h5\n",
      "[INFO][2022/06/02 02:10:48 AM] Opening HDF file: /home/nathan/data/kraken/ras/ND0017/Pos7/tracks.h5...\n",
      "[INFO][2022/06/02 02:10:48 AM] Loading tracks/obj_type_1\n",
      "[INFO][2022/06/02 02:10:48 AM] Loading objects/obj_type_1 (470131, 5) (470131 filtered: None)\n"
     ]
    },
    {
     "name": "stdout",
     "output_type": "stream",
     "text": [
      "Track information loaded and ordered according to cell type (WT IDs >0> Scr IDs)\n",
      "Loaded ND0014/Pos9/\n",
      "Focal time not in frame\n",
      "ID ND0017_Pos7_1012_GFP_frag experiment: ND0017/Pos7/\n",
      "Loading ND0017/Pos7/\n",
      "Btrack version no.: 0.5.0\n"
     ]
    },
    {
     "name": "stderr",
     "output_type": "stream",
     "text": [
      "[INFO][2022/06/02 02:10:58 AM] Closing HDF file: /home/nathan/data/kraken/ras/ND0017/Pos7/tracks.h5\n",
      "[INFO][2022/06/02 02:10:58 AM] Opening HDF file: /home/nathan/data/kraken/ras/ND0017/Pos7/tracks.h5...\n",
      "[INFO][2022/06/02 02:10:58 AM] Loading tracks/obj_type_2\n",
      "[INFO][2022/06/02 02:10:58 AM] Loading objects/obj_type_2 (22567, 5) (22567 filtered: None)\n",
      "[INFO][2022/06/02 02:10:58 AM] Closing HDF file: /home/nathan/data/kraken/ras/ND0017/Pos7/tracks.h5\n",
      "[INFO][2022/06/02 02:10:59 AM] Opening HDF file: /home/nathan/data/kraken/ras/ND0021/Pos4/tracks.h5...\n",
      "[INFO][2022/06/02 02:10:59 AM] Loading tracks/obj_type_1\n"
     ]
    },
    {
     "name": "stdout",
     "output_type": "stream",
     "text": [
      "Track information loaded and ordered according to cell type (WT IDs >0> Scr IDs)\n",
      "Loaded ND0017/Pos7/\n",
      "ID ND0017_Pos7_547_GFP experiment: ND0017/Pos7/\n",
      "ID ND0017_Pos7_814_GFP experiment: ND0017/Pos7/\n",
      "ID ND0017_Pos7_1627_GFP_frag experiment: ND0017/Pos7/\n",
      "Focal time not in frame\n",
      "ID ND0017_Pos7_1627_GFP experiment: ND0017/Pos7/\n",
      "Focal time not in frame\n",
      "ID ND0021_Pos4_4_GFP experiment: ND0021/Pos4/\n",
      "Loading ND0021/Pos4/\n",
      "Btrack version no.: 0.5.0\n"
     ]
    },
    {
     "name": "stderr",
     "output_type": "stream",
     "text": [
      "[INFO][2022/06/02 02:10:59 AM] Loading objects/obj_type_1 (1488513, 5) (1488513 filtered: None)\n",
      "[INFO][2022/06/02 02:11:38 AM] Closing HDF file: /home/nathan/data/kraken/ras/ND0021/Pos4/tracks.h5\n",
      "[INFO][2022/06/02 02:11:38 AM] Opening HDF file: /home/nathan/data/kraken/ras/ND0021/Pos4/tracks.h5...\n",
      "[INFO][2022/06/02 02:11:38 AM] Loading tracks/obj_type_2\n",
      "[INFO][2022/06/02 02:11:38 AM] Loading objects/obj_type_2 (51348, 5) (51348 filtered: None)\n",
      "[INFO][2022/06/02 02:11:39 AM] Closing HDF file: /home/nathan/data/kraken/ras/ND0021/Pos4/tracks.h5\n"
     ]
    },
    {
     "name": "stdout",
     "output_type": "stream",
     "text": [
      "Track information loaded and ordered according to cell type (WT IDs >0> Scr IDs)\n"
     ]
    },
    {
     "name": "stderr",
     "output_type": "stream",
     "text": [
      "[INFO][2022/06/02 02:11:39 AM] Opening HDF file: /home/nathan/data/kraken/ras/ND0021/Pos7/tracks.h5...\n",
      "[INFO][2022/06/02 02:11:39 AM] Loading tracks/obj_type_1\n"
     ]
    },
    {
     "name": "stdout",
     "output_type": "stream",
     "text": [
      "Loaded ND0021/Pos4/\n",
      "Focal time not in frame\n",
      "ID ND0021_Pos7_321_GFP experiment: ND0021/Pos7/\n",
      "Loading ND0021/Pos7/\n",
      "Btrack version no.: 0.5.0\n"
     ]
    },
    {
     "name": "stderr",
     "output_type": "stream",
     "text": [
      "[INFO][2022/06/02 02:11:40 AM] Loading objects/obj_type_1 (1481271, 5) (1481271 filtered: None)\n",
      "[INFO][2022/06/02 02:12:08 AM] Closing HDF file: /home/nathan/data/kraken/ras/ND0021/Pos7/tracks.h5\n",
      "[INFO][2022/06/02 02:12:08 AM] Opening HDF file: /home/nathan/data/kraken/ras/ND0021/Pos7/tracks.h5...\n",
      "[INFO][2022/06/02 02:12:08 AM] Loading tracks/obj_type_2\n",
      "[INFO][2022/06/02 02:12:08 AM] Loading objects/obj_type_2 (38441, 5) (38441 filtered: None)\n",
      "[INFO][2022/06/02 02:12:09 AM] Closing HDF file: /home/nathan/data/kraken/ras/ND0021/Pos7/tracks.h5\n"
     ]
    },
    {
     "name": "stdout",
     "output_type": "stream",
     "text": [
      "Track information loaded and ordered according to cell type (WT IDs >0> Scr IDs)\n",
      "Loaded ND0021/Pos7/\n",
      "Focal time not in frame\n",
      "ID ND0021_Pos7_320_GFP experiment: ND0021/Pos7/\n",
      "Focal time not in frame\n",
      "ID ND0021_Pos7_177_GFP experiment: ND0021/Pos7/\n",
      "Focal time not in frame\n",
      "ID ND0021_Pos7_178_GFP experiment: ND0021/Pos7/\n"
     ]
    },
    {
     "name": "stderr",
     "output_type": "stream",
     "text": [
      "[INFO][2022/06/02 02:24:06 AM] Opening HDF file: /home/nathan/data/kraken/ras/ND0022/Pos3/tracks.h5...\n",
      "[INFO][2022/06/02 02:24:06 AM] Loading tracks/obj_type_1\n",
      "[INFO][2022/06/02 02:24:06 AM] Loading objects/obj_type_1 (404850, 5) (404850 filtered: None)\n"
     ]
    },
    {
     "name": "stdout",
     "output_type": "stream",
     "text": [
      "ID ND0021_Pos7_507_GFP experiment: ND0021/Pos7/\n",
      "Focal time not in frame\n",
      "ID ND0021_Pos7_506_GFP experiment: ND0021/Pos7/\n",
      "Focal time not in frame\n",
      "ID ND0021_Pos7_598_GFP experiment: ND0021/Pos7/\n",
      "Focal time not in frame\n",
      "ID ND0021_Pos7_599_GFP experiment: ND0021/Pos7/\n",
      "Focal time not in frame\n",
      "ID ND0022_Pos3_4_GFP_frag experiment: ND0022/Pos3/\n",
      "Loading ND0022/Pos3/\n",
      "Btrack version no.: 0.5.0\n"
     ]
    },
    {
     "name": "stderr",
     "output_type": "stream",
     "text": [
      "[INFO][2022/06/02 02:24:16 AM] Closing HDF file: /home/nathan/data/kraken/ras/ND0022/Pos3/tracks.h5\n",
      "[INFO][2022/06/02 02:24:16 AM] Opening HDF file: /home/nathan/data/kraken/ras/ND0022/Pos3/tracks.h5...\n",
      "[INFO][2022/06/02 02:24:16 AM] Loading tracks/obj_type_2\n",
      "[INFO][2022/06/02 02:24:16 AM] Loading objects/obj_type_2 (15790, 5) (15790 filtered: None)\n",
      "[INFO][2022/06/02 02:24:16 AM] Closing HDF file: /home/nathan/data/kraken/ras/ND0022/Pos3/tracks.h5\n"
     ]
    },
    {
     "name": "stdout",
     "output_type": "stream",
     "text": [
      "Track information loaded and ordered according to cell type (WT IDs >0> Scr IDs)\n",
      "Loaded ND0022/Pos3/\n"
     ]
    },
    {
     "name": "stderr",
     "output_type": "stream",
     "text": [
      "[INFO][2022/06/02 02:51:56 AM] Opening HDF file: /home/nathan/data/kraken/ras/ND0022/Pos4/tracks.h5...\n",
      "[INFO][2022/06/02 02:51:56 AM] Loading tracks/obj_type_1\n",
      "[INFO][2022/06/02 02:51:57 AM] Loading objects/obj_type_1 (813379, 5) (813379 filtered: None)\n"
     ]
    },
    {
     "name": "stdout",
     "output_type": "stream",
     "text": [
      "ID ND0022_Pos3_907_GFP_frag experiment: ND0022/Pos3/\n",
      "Focal time not in frame\n",
      "ID ND0022_Pos3_910_GFP_frag experiment: ND0022/Pos3/\n",
      "Focal time not in frame\n",
      "ID ND0022_Pos3_940_GFP_frag experiment: ND0022/Pos3/\n",
      "Focal time not in frame\n",
      "ID ND0022_Pos3_840_GFP_frag experiment: ND0022/Pos3/\n",
      "Focal time not in frame\n",
      "ID ND0022_Pos3_1158_GFP_frag experiment: ND0022/Pos3/\n",
      "Focal time not in frame\n",
      "ID ND0022_Pos3_1197_GFP_frag experiment: ND0022/Pos3/\n",
      "Focal time not in frame\n",
      "ID ND0022_Pos3_1226_GFP_frag experiment: ND0022/Pos3/\n",
      "Focal time not in frame\n",
      "ID ND0022_Pos3_976_GFP experiment: ND0022/Pos3/\n",
      "Focal time not in frame\n",
      "ID ND0022_Pos4_1812_GFP experiment: ND0022/Pos4/\n",
      "Loading ND0022/Pos4/\n",
      "Btrack version no.: 0.5.0\n"
     ]
    },
    {
     "name": "stderr",
     "output_type": "stream",
     "text": [
      "[INFO][2022/06/02 02:52:13 AM] Closing HDF file: /home/nathan/data/kraken/ras/ND0022/Pos4/tracks.h5\n",
      "[INFO][2022/06/02 02:52:13 AM] Opening HDF file: /home/nathan/data/kraken/ras/ND0022/Pos4/tracks.h5...\n",
      "[INFO][2022/06/02 02:52:13 AM] Loading tracks/obj_type_2\n",
      "[INFO][2022/06/02 02:52:13 AM] Loading objects/obj_type_2 (18889, 5) (18889 filtered: None)\n",
      "[INFO][2022/06/02 02:52:13 AM] Closing HDF file: /home/nathan/data/kraken/ras/ND0022/Pos4/tracks.h5\n",
      "[INFO][2022/06/02 02:52:13 AM] Opening HDF file: /home/nathan/data/kraken/ras/ND0022/Pos5/tracks.h5...\n",
      "[INFO][2022/06/02 02:52:13 AM] Loading tracks/obj_type_1\n",
      "[INFO][2022/06/02 02:52:13 AM] Loading objects/obj_type_1 (254578, 5) (254578 filtered: None)\n"
     ]
    },
    {
     "name": "stdout",
     "output_type": "stream",
     "text": [
      "Track information loaded and ordered according to cell type (WT IDs >0> Scr IDs)\n",
      "Loaded ND0022/Pos4/\n",
      "Focal time not in frame\n",
      "ID ND0022_Pos4_643_GFP experiment: ND0022/Pos4/\n",
      "Focal time not in frame\n",
      "ID ND0022_Pos4_1486_GFP experiment: ND0022/Pos4/\n",
      "Focal time not in frame\n",
      "ID ND0022_Pos5_2_GFP experiment: ND0022/Pos5/\n",
      "Loading ND0022/Pos5/\n",
      "Btrack version no.: 0.5.0\n"
     ]
    },
    {
     "name": "stderr",
     "output_type": "stream",
     "text": [
      "[INFO][2022/06/02 02:52:19 AM] Closing HDF file: /home/nathan/data/kraken/ras/ND0022/Pos5/tracks.h5\n",
      "[INFO][2022/06/02 02:52:19 AM] Opening HDF file: /home/nathan/data/kraken/ras/ND0022/Pos5/tracks.h5...\n",
      "[INFO][2022/06/02 02:52:19 AM] Loading tracks/obj_type_2\n",
      "[INFO][2022/06/02 02:52:19 AM] Loading objects/obj_type_2 (20446, 5) (20446 filtered: None)\n",
      "[INFO][2022/06/02 02:52:20 AM] Closing HDF file: /home/nathan/data/kraken/ras/ND0022/Pos5/tracks.h5\n"
     ]
    },
    {
     "name": "stdout",
     "output_type": "stream",
     "text": [
      "Track information loaded and ordered according to cell type (WT IDs >0> Scr IDs)\n",
      "Loaded ND0022/Pos5/\n",
      "Focal time not in frame\n",
      "ID ND0022_Pos5_1025_GFP_frag experiment: ND0022/Pos5/\n",
      "Focal time not in frame\n",
      "ID ND0022_Pos5_785_GFP experiment: ND0022/Pos5/\n",
      "Focal time not in frame\n",
      "ID ND0022_Pos5_782_GFP experiment: ND0022/Pos5/\n",
      "Focal time not in frame\n",
      "ID ND0022_Pos5_358_GFP experiment: ND0022/Pos5/\n",
      "Focal time not in frame\n",
      "ID ND0022_Pos5_262_GFP experiment: ND0022/Pos5/\n"
     ]
    },
    {
     "name": "stderr",
     "output_type": "stream",
     "text": [
      "[INFO][2022/06/02 02:56:21 AM] Opening HDF file: /home/nathan/data/kraken/ras/ND0022/Pos6/tracks.h5...\n",
      "[INFO][2022/06/02 02:56:21 AM] Loading tracks/obj_type_1\n"
     ]
    },
    {
     "name": "stdout",
     "output_type": "stream",
     "text": [
      "ID ND0022_Pos5_1205_GFP experiment: ND0022/Pos5/\n",
      "Focal time not in frame\n",
      "ID ND0022_Pos6_7_GFP_frag experiment: ND0022/Pos6/\n",
      "Loading ND0022/Pos6/\n",
      "Btrack version no.: 0.5.0\n"
     ]
    },
    {
     "name": "stderr",
     "output_type": "stream",
     "text": [
      "[INFO][2022/06/02 02:56:21 AM] Loading objects/obj_type_1 (1291409, 5) (1291409 filtered: None)\n",
      "[INFO][2022/06/02 02:56:44 AM] Closing HDF file: /home/nathan/data/kraken/ras/ND0022/Pos6/tracks.h5\n",
      "[INFO][2022/06/02 02:56:44 AM] Opening HDF file: /home/nathan/data/kraken/ras/ND0022/Pos6/tracks.h5...\n",
      "[INFO][2022/06/02 02:56:44 AM] Loading tracks/obj_type_2\n",
      "[INFO][2022/06/02 02:56:44 AM] Loading objects/obj_type_2 (15847, 5) (15847 filtered: None)\n",
      "[INFO][2022/06/02 02:56:44 AM] Closing HDF file: /home/nathan/data/kraken/ras/ND0022/Pos6/tracks.h5\n"
     ]
    },
    {
     "name": "stdout",
     "output_type": "stream",
     "text": [
      "Track information loaded and ordered according to cell type (WT IDs >0> Scr IDs)\n",
      "Loaded ND0022/Pos6/\n",
      "Focal time not in frame\n",
      "ID ND0022_Pos6_1_GFP experiment: ND0022/Pos6/\n"
     ]
    },
    {
     "name": "stderr",
     "output_type": "stream",
     "text": [
      "[INFO][2022/06/02 03:55:35 AM] Opening HDF file: /home/nathan/data/kraken/ras/ND0022/Pos7/tracks.h5...\n",
      "[INFO][2022/06/02 03:55:35 AM] Loading tracks/obj_type_1\n",
      "[INFO][2022/06/02 03:55:35 AM] Loading objects/obj_type_1 (465089, 5) (465089 filtered: None)\n"
     ]
    },
    {
     "name": "stdout",
     "output_type": "stream",
     "text": [
      "ID ND0022_Pos7_15_GFP experiment: ND0022/Pos7/\n",
      "Loading ND0022/Pos7/\n",
      "Btrack version no.: 0.5.0\n"
     ]
    },
    {
     "name": "stderr",
     "output_type": "stream",
     "text": [
      "[INFO][2022/06/02 03:55:45 AM] Closing HDF file: /home/nathan/data/kraken/ras/ND0022/Pos7/tracks.h5\n",
      "[INFO][2022/06/02 03:55:45 AM] Opening HDF file: /home/nathan/data/kraken/ras/ND0022/Pos7/tracks.h5...\n",
      "[INFO][2022/06/02 03:55:45 AM] Loading tracks/obj_type_2\n",
      "[INFO][2022/06/02 03:55:45 AM] Loading objects/obj_type_2 (14348, 5) (14348 filtered: None)\n",
      "[INFO][2022/06/02 03:55:46 AM] Closing HDF file: /home/nathan/data/kraken/ras/ND0022/Pos7/tracks.h5\n",
      "[INFO][2022/06/02 03:55:46 AM] Opening HDF file: /home/nathan/data/kraken/ras/ND0024/Pos3/tracks.h5...\n",
      "[INFO][2022/06/02 03:55:46 AM] Loading tracks/obj_type_1\n"
     ]
    },
    {
     "name": "stdout",
     "output_type": "stream",
     "text": [
      "Track information loaded and ordered according to cell type (WT IDs >0> Scr IDs)\n",
      "Loaded ND0022/Pos7/\n",
      "Focal time not in frame\n",
      "ID ND0022_Pos7_728_GFP experiment: ND0022/Pos7/\n",
      "Focal time not in frame\n",
      "ID ND0022_Pos7_1125_GFP_frag experiment: ND0022/Pos7/\n",
      "Focal time not in frame\n",
      "ID ND0022_Pos7_1113_GFP_frag experiment: ND0022/Pos7/\n",
      "Focal time not in frame\n",
      "ID ND0022_Pos7_1112_GFP_frag experiment: ND0022/Pos7/\n",
      "Focal time not in frame\n",
      "ID ND0022_Pos7_1842_GFP_frag experiment: ND0022/Pos7/\n",
      "Focal time not in frame\n",
      "ID ND0022_Pos7_1841_GFP_frag experiment: ND0022/Pos7/\n",
      "Focal time not in frame\n",
      "ID ND0022_Pos7_1062_GFP experiment: ND0022/Pos7/\n",
      "Focal time not in frame\n",
      "ID ND0022_Pos7_1104_GFP experiment: ND0022/Pos7/\n",
      "ID ND0022_Pos7_1226_GFP experiment: ND0022/Pos7/\n",
      "Focal time not in frame\n",
      "ID ND0022_Pos7_2017_GFP_frag experiment: ND0022/Pos7/\n",
      "Focal time not in frame\n",
      "ID ND0024_Pos3_320_GFP experiment: ND0024/Pos3/\n",
      "Loading ND0024/Pos3/\n",
      "Btrack version no.: 0.5.0\n"
     ]
    },
    {
     "name": "stderr",
     "output_type": "stream",
     "text": [
      "[INFO][2022/06/02 03:55:46 AM] Loading objects/obj_type_1 (636597, 5) (636597 filtered: None)\n",
      "[INFO][2022/06/02 03:56:00 AM] Closing HDF file: /home/nathan/data/kraken/ras/ND0024/Pos3/tracks.h5\n",
      "[INFO][2022/06/02 03:56:00 AM] Opening HDF file: /home/nathan/data/kraken/ras/ND0024/Pos3/tracks.h5...\n",
      "[INFO][2022/06/02 03:56:00 AM] Loading tracks/obj_type_2\n",
      "[INFO][2022/06/02 03:56:00 AM] Loading objects/obj_type_2 (16475, 5) (16475 filtered: None)\n",
      "[INFO][2022/06/02 03:56:05 AM] Closing HDF file: /home/nathan/data/kraken/ras/ND0024/Pos3/tracks.h5\n"
     ]
    },
    {
     "name": "stdout",
     "output_type": "stream",
     "text": [
      "Track information loaded and ordered according to cell type (WT IDs >0> Scr IDs)\n",
      "Loaded ND0024/Pos3/\n"
     ]
    },
    {
     "name": "stderr",
     "output_type": "stream",
     "text": [
      "[INFO][2022/06/02 04:11:13 AM] Opening HDF file: /home/nathan/data/kraken/ras/ND0024/Pos4/tracks.h5...\n",
      "[INFO][2022/06/02 04:11:13 AM] Loading tracks/obj_type_1\n",
      "[INFO][2022/06/02 04:11:13 AM] Loading objects/obj_type_1 (586398, 5) (586398 filtered: None)\n"
     ]
    },
    {
     "name": "stdout",
     "output_type": "stream",
     "text": [
      "ID ND0024_Pos4_276_GFP experiment: ND0024/Pos4/\n",
      "Loading ND0024/Pos4/\n",
      "Btrack version no.: 0.5.0\n"
     ]
    },
    {
     "name": "stderr",
     "output_type": "stream",
     "text": [
      "[INFO][2022/06/02 04:11:23 AM] Closing HDF file: /home/nathan/data/kraken/ras/ND0024/Pos4/tracks.h5\n",
      "[INFO][2022/06/02 04:11:23 AM] Opening HDF file: /home/nathan/data/kraken/ras/ND0024/Pos4/tracks.h5...\n",
      "[INFO][2022/06/02 04:11:23 AM] Loading tracks/obj_type_2\n",
      "[INFO][2022/06/02 04:11:23 AM] Loading objects/obj_type_2 (33390, 5) (33390 filtered: None)\n",
      "[INFO][2022/06/02 04:11:26 AM] Closing HDF file: /home/nathan/data/kraken/ras/ND0024/Pos4/tracks.h5\n"
     ]
    },
    {
     "name": "stdout",
     "output_type": "stream",
     "text": [
      "Track information loaded and ordered according to cell type (WT IDs >0> Scr IDs)\n",
      "Loaded ND0024/Pos4/\n",
      "Focal time not in frame\n",
      "ID ND0024_Pos4_1349_GFP experiment: ND0024/Pos4/\n",
      "Focal time not in frame\n",
      "ID ND0024_Pos4_1570_GFP experiment: ND0024/Pos4/\n",
      "Focal time not in frame\n",
      "ID ND0024_Pos4_1881_GFP experiment: ND0024/Pos4/\n"
     ]
    },
    {
     "name": "stderr",
     "output_type": "stream",
     "text": [
      "[INFO][2022/06/02 04:20:54 AM] Opening HDF file: /home/nathan/data/kraken/ras/ND0024/Pos5/tracks.h5...\n",
      "[INFO][2022/06/02 04:20:54 AM] Loading tracks/obj_type_1\n",
      "[INFO][2022/06/02 04:20:54 AM] Loading objects/obj_type_1 (418489, 5) (418489 filtered: None)\n"
     ]
    },
    {
     "name": "stdout",
     "output_type": "stream",
     "text": [
      "ID ND0024_Pos4_1306_GFP experiment: ND0024/Pos4/\n",
      "Focal time not in frame\n",
      "ID ND0024_Pos4_3228_GFP_frag experiment: ND0024/Pos4/\n",
      "Focal time not in frame\n",
      "ID ND0024_Pos4_3162_GFP_frag experiment: ND0024/Pos4/\n",
      "Focal time not in frame\n",
      "ID ND0024_Pos4_1264_GFP experiment: ND0024/Pos4/\n",
      "Focal time not in frame\n",
      "ID ND0024_Pos4_2890_GFP_frag experiment: ND0024/Pos4/\n",
      "ID ND0024_Pos5_675_GFP_frag experiment: ND0024/Pos5/\n",
      "Loading ND0024/Pos5/\n",
      "Btrack version no.: 0.5.0\n"
     ]
    },
    {
     "name": "stderr",
     "output_type": "stream",
     "text": [
      "[INFO][2022/06/02 04:21:02 AM] Closing HDF file: /home/nathan/data/kraken/ras/ND0024/Pos5/tracks.h5\n",
      "[INFO][2022/06/02 04:21:02 AM] Opening HDF file: /home/nathan/data/kraken/ras/ND0024/Pos5/tracks.h5...\n",
      "[INFO][2022/06/02 04:21:02 AM] Loading tracks/obj_type_2\n",
      "[INFO][2022/06/02 04:21:02 AM] Loading objects/obj_type_2 (14355, 5) (14355 filtered: None)\n",
      "[INFO][2022/06/02 04:21:02 AM] Closing HDF file: /home/nathan/data/kraken/ras/ND0024/Pos5/tracks.h5\n",
      "[INFO][2022/06/02 04:21:02 AM] Opening HDF file: /home/nathan/data/kraken/ras/ND0024/Pos6/tracks.h5...\n",
      "[INFO][2022/06/02 04:21:02 AM] Loading tracks/obj_type_1\n",
      "[INFO][2022/06/02 04:21:03 AM] Loading objects/obj_type_1 (484009, 5) (484009 filtered: None)\n"
     ]
    },
    {
     "name": "stdout",
     "output_type": "stream",
     "text": [
      "Track information loaded and ordered according to cell type (WT IDs >0> Scr IDs)\n",
      "Loaded ND0024/Pos5/\n",
      "Focal time not in frame\n",
      "ID ND0024_Pos5_1053_GFP experiment: ND0024/Pos5/\n",
      "Focal time not in frame\n",
      "ID ND0024_Pos5_1179_GFP experiment: ND0024/Pos5/\n",
      "Focal time not in frame\n",
      "ID ND0024_Pos5_1183_GFP experiment: ND0024/Pos5/\n",
      "Focal time not in frame\n",
      "ID ND0024_Pos5_1092_GFP_frag experiment: ND0024/Pos5/\n",
      "Focal time not in frame\n",
      "ID ND0024_Pos6_7_GFP experiment: ND0024/Pos6/\n",
      "Loading ND0024/Pos6/\n",
      "Btrack version no.: 0.5.0\n"
     ]
    },
    {
     "name": "stderr",
     "output_type": "stream",
     "text": [
      "[INFO][2022/06/02 04:21:15 AM] Closing HDF file: /home/nathan/data/kraken/ras/ND0024/Pos6/tracks.h5\n",
      "[INFO][2022/06/02 04:21:16 AM] Opening HDF file: /home/nathan/data/kraken/ras/ND0024/Pos6/tracks.h5...\n",
      "[INFO][2022/06/02 04:21:16 AM] Loading tracks/obj_type_2\n",
      "[INFO][2022/06/02 04:21:16 AM] Loading objects/obj_type_2 (46805, 5) (46805 filtered: None)\n",
      "[INFO][2022/06/02 04:21:16 AM] Closing HDF file: /home/nathan/data/kraken/ras/ND0024/Pos6/tracks.h5\n"
     ]
    },
    {
     "name": "stdout",
     "output_type": "stream",
     "text": [
      "Track information loaded and ordered according to cell type (WT IDs >0> Scr IDs)\n",
      "Loaded ND0024/Pos6/\n",
      "Focal time not in frame\n",
      "ID ND0024_Pos6_473_GFP experiment: ND0024/Pos6/\n",
      "Focal time not in frame\n",
      "ID ND0024_Pos6_638_GFP experiment: ND0024/Pos6/\n",
      "Focal time not in frame\n",
      "ID ND0024_Pos6_775_GFP_frag experiment: ND0024/Pos6/\n",
      "ID ND0024_Pos6_776_GFP_frag experiment: ND0024/Pos6/\n",
      "Focal time not in frame\n",
      "ID ND0024_Pos6_639_GFP experiment: ND0024/Pos6/\n",
      "Focal time not in frame\n",
      "ID ND0024_Pos6_754_GFP experiment: ND0024/Pos6/\n",
      "Focal time not in frame\n",
      "ID ND0024_Pos6_1145_GFP_frag experiment: ND0024/Pos6/\n"
     ]
    },
    {
     "name": "stderr",
     "output_type": "stream",
     "text": [
      "[INFO][2022/06/02 04:35:47 AM] Opening HDF file: /home/nathan/data/kraken/ras/ND0024/Pos7/tracks.h5...\n",
      "[INFO][2022/06/02 04:35:47 AM] Loading tracks/obj_type_1\n",
      "[INFO][2022/06/02 04:35:47 AM] Loading objects/obj_type_1 (296680, 5) (296680 filtered: None)\n"
     ]
    },
    {
     "name": "stdout",
     "output_type": "stream",
     "text": [
      "ID ND0024_Pos6_406_GFP experiment: ND0024/Pos6/\n",
      "Focal time not in frame\n",
      "ID ND0024_Pos6_812_GFP experiment: ND0024/Pos6/\n",
      "Focal time not in frame\n",
      "ID ND0024_Pos6_1353_GFP_frag experiment: ND0024/Pos6/\n",
      "Focal time not in frame\n",
      "ID ND0024_Pos6_1354_GFP_frag experiment: ND0024/Pos6/\n",
      "Focal time not in frame\n",
      "ID ND0024_Pos7_8_GFP experiment: ND0024/Pos7/\n",
      "Loading ND0024/Pos7/\n",
      "Btrack version no.: 0.5.0\n"
     ]
    },
    {
     "name": "stderr",
     "output_type": "stream",
     "text": [
      "[INFO][2022/06/02 04:35:52 AM] Closing HDF file: /home/nathan/data/kraken/ras/ND0024/Pos7/tracks.h5\n",
      "[INFO][2022/06/02 04:35:52 AM] Opening HDF file: /home/nathan/data/kraken/ras/ND0024/Pos7/tracks.h5...\n",
      "[INFO][2022/06/02 04:35:52 AM] Loading tracks/obj_type_2\n",
      "[INFO][2022/06/02 04:35:52 AM] Loading objects/obj_type_2 (11337, 5) (11337 filtered: None)\n",
      "[INFO][2022/06/02 04:35:54 AM] Closing HDF file: /home/nathan/data/kraken/ras/ND0024/Pos7/tracks.h5\n"
     ]
    },
    {
     "name": "stdout",
     "output_type": "stream",
     "text": [
      "Track information loaded and ordered according to cell type (WT IDs >0> Scr IDs)\n",
      "Loaded ND0024/Pos7/\n"
     ]
    },
    {
     "name": "stderr",
     "output_type": "stream",
     "text": [
      "[INFO][2022/06/02 04:39:43 AM] Opening HDF file: /home/nathan/data/kraken/ras/ND0025/Pos3/tracks.h5...\n",
      "[INFO][2022/06/02 04:39:43 AM] Loading tracks/obj_type_1\n",
      "[INFO][2022/06/02 04:39:43 AM] Loading objects/obj_type_1 (200555, 5) (200555 filtered: None)\n"
     ]
    },
    {
     "name": "stdout",
     "output_type": "stream",
     "text": [
      "ID ND0025_Pos3_2_GFP experiment: ND0025/Pos3/\n",
      "Loading ND0025/Pos3/\n",
      "Btrack version no.: 0.5.0\n"
     ]
    },
    {
     "name": "stderr",
     "output_type": "stream",
     "text": [
      "[INFO][2022/06/02 04:39:46 AM] Closing HDF file: /home/nathan/data/kraken/ras/ND0025/Pos3/tracks.h5\n",
      "[INFO][2022/06/02 04:39:46 AM] Opening HDF file: /home/nathan/data/kraken/ras/ND0025/Pos3/tracks.h5...\n",
      "[INFO][2022/06/02 04:39:46 AM] Loading tracks/obj_type_2\n",
      "[INFO][2022/06/02 04:39:46 AM] Loading objects/obj_type_2 (4490, 5) (4490 filtered: None)\n",
      "[INFO][2022/06/02 04:39:46 AM] Closing HDF file: /home/nathan/data/kraken/ras/ND0025/Pos3/tracks.h5\n",
      "[INFO][2022/06/02 04:39:46 AM] Opening HDF file: /home/nathan/data/kraken/ras/ND0025/Pos4/tracks.h5...\n",
      "[INFO][2022/06/02 04:39:46 AM] Loading tracks/obj_type_1\n",
      "[INFO][2022/06/02 04:39:46 AM] Loading objects/obj_type_1 (180679, 5) (180679 filtered: None)\n"
     ]
    },
    {
     "name": "stdout",
     "output_type": "stream",
     "text": [
      "Track information loaded and ordered according to cell type (WT IDs >0> Scr IDs)\n",
      "Loaded ND0025/Pos3/\n",
      "Focal time not in frame\n",
      "ID ND0025_Pos4_1275_GFP_frag experiment: ND0025/Pos4/\n",
      "Loading ND0025/Pos4/\n",
      "Btrack version no.: 0.5.0\n"
     ]
    },
    {
     "name": "stderr",
     "output_type": "stream",
     "text": [
      "[INFO][2022/06/02 04:39:51 AM] Closing HDF file: /home/nathan/data/kraken/ras/ND0025/Pos4/tracks.h5\n",
      "[INFO][2022/06/02 04:39:51 AM] Opening HDF file: /home/nathan/data/kraken/ras/ND0025/Pos4/tracks.h5...\n",
      "[INFO][2022/06/02 04:39:51 AM] Loading tracks/obj_type_2\n",
      "[INFO][2022/06/02 04:39:51 AM] Loading objects/obj_type_2 (10302, 5) (10302 filtered: None)\n",
      "[INFO][2022/06/02 04:39:51 AM] Closing HDF file: /home/nathan/data/kraken/ras/ND0025/Pos4/tracks.h5\n",
      "[INFO][2022/06/02 04:39:51 AM] Opening HDF file: /home/nathan/data/kraken/ras/ND0025/Pos6/tracks.h5...\n",
      "[INFO][2022/06/02 04:39:51 AM] Loading tracks/obj_type_1\n",
      "[INFO][2022/06/02 04:39:51 AM] Loading objects/obj_type_1 (392143, 5) (392143 filtered: None)\n"
     ]
    },
    {
     "name": "stdout",
     "output_type": "stream",
     "text": [
      "Track information loaded and ordered according to cell type (WT IDs >0> Scr IDs)\n",
      "Loaded ND0025/Pos4/\n",
      "Focal time not in frame\n",
      "ID ND0025_Pos4_26_GFP experiment: ND0025/Pos4/\n",
      "Focal time not in frame\n",
      "ID ND0025_Pos4_207_GFP experiment: ND0025/Pos4/\n",
      "Focal time not in frame\n",
      "ID ND0025_Pos6_696_GFP_frag experiment: ND0025/Pos6/\n",
      "Loading ND0025/Pos6/\n",
      "Btrack version no.: 0.5.0\n"
     ]
    },
    {
     "name": "stderr",
     "output_type": "stream",
     "text": [
      "[INFO][2022/06/02 04:39:59 AM] Closing HDF file: /home/nathan/data/kraken/ras/ND0025/Pos6/tracks.h5\n",
      "[INFO][2022/06/02 04:39:59 AM] Opening HDF file: /home/nathan/data/kraken/ras/ND0025/Pos6/tracks.h5...\n",
      "[INFO][2022/06/02 04:39:59 AM] Loading tracks/obj_type_2\n",
      "[INFO][2022/06/02 04:39:59 AM] Loading objects/obj_type_2 (5950, 5) (5950 filtered: None)\n",
      "[INFO][2022/06/02 04:39:59 AM] Closing HDF file: /home/nathan/data/kraken/ras/ND0025/Pos6/tracks.h5\n"
     ]
    },
    {
     "name": "stdout",
     "output_type": "stream",
     "text": [
      "Track information loaded and ordered according to cell type (WT IDs >0> Scr IDs)\n",
      "Loaded ND0025/Pos6/\n",
      "Focal time not in frame\n",
      "ID ND0025_Pos6_634_GFP experiment: ND0025/Pos6/\n",
      "Focal time not in frame\n",
      "1600 1600\n"
     ]
    },
    {
     "data": {
      "application/vnd.jupyter.widget-view+json": {
       "model_id": "410a13c7396f4f5ba0c16c361f874594",
       "version_major": 2,
       "version_minor": 0
      },
      "text/plain": [
       "  0%|          | 0/91 [00:00<?, ?it/s]"
      ]
     },
     "metadata": {},
     "output_type": "display_data"
    },
    {
     "name": "stderr",
     "output_type": "stream",
     "text": [
      "[INFO][2022/06/02 04:40:00 AM] Opening HDF file: /home/nathan/data/kraken/ras/ND0025/Pos7/tracks.h5...\n",
      "[INFO][2022/06/02 04:40:00 AM] Loading tracks/obj_type_1\n",
      "[INFO][2022/06/02 04:40:00 AM] Loading objects/obj_type_1 (197115, 5) (197115 filtered: None)\n"
     ]
    },
    {
     "name": "stdout",
     "output_type": "stream",
     "text": [
      "ID ND0025_Pos7_930_GFP experiment: ND0025/Pos7/\n",
      "Loading ND0025/Pos7/\n",
      "Btrack version no.: 0.5.0\n"
     ]
    },
    {
     "name": "stderr",
     "output_type": "stream",
     "text": [
      "[INFO][2022/06/02 04:40:03 AM] Closing HDF file: /home/nathan/data/kraken/ras/ND0025/Pos7/tracks.h5\n",
      "[INFO][2022/06/02 04:40:03 AM] Opening HDF file: /home/nathan/data/kraken/ras/ND0025/Pos7/tracks.h5...\n",
      "[INFO][2022/06/02 04:40:03 AM] Loading tracks/obj_type_2\n",
      "[INFO][2022/06/02 04:40:03 AM] Loading objects/obj_type_2 (12464, 5) (12464 filtered: None)\n",
      "[INFO][2022/06/02 04:40:04 AM] Closing HDF file: /home/nathan/data/kraken/ras/ND0025/Pos7/tracks.h5\n",
      "[INFO][2022/06/02 04:40:04 AM] Opening HDF file: /home/nathan/data/kraken/ras/ND0025/Pos5/tracks.h5...\n",
      "[INFO][2022/06/02 04:40:04 AM] Loading tracks/obj_type_1\n",
      "[INFO][2022/06/02 04:40:04 AM] Loading objects/obj_type_1 (419463, 5) (419463 filtered: None)\n"
     ]
    },
    {
     "name": "stdout",
     "output_type": "stream",
     "text": [
      "Track information loaded and ordered according to cell type (WT IDs >0> Scr IDs)\n",
      "Loaded ND0025/Pos7/\n",
      "Focal time not in frame\n",
      "ID ND0025_Pos7_958_GFP experiment: ND0025/Pos7/\n",
      "Focal time not in frame\n",
      "ID ND0025_Pos5_1_GFP experiment: ND0025/Pos5/\n",
      "Loading ND0025/Pos5/\n",
      "Btrack version no.: 0.5.0\n"
     ]
    },
    {
     "name": "stderr",
     "output_type": "stream",
     "text": [
      "[INFO][2022/06/02 04:40:12 AM] Closing HDF file: /home/nathan/data/kraken/ras/ND0025/Pos5/tracks.h5\n",
      "[INFO][2022/06/02 04:40:12 AM] Opening HDF file: /home/nathan/data/kraken/ras/ND0025/Pos5/tracks.h5...\n",
      "[INFO][2022/06/02 04:40:12 AM] Loading tracks/obj_type_2\n",
      "[INFO][2022/06/02 04:40:12 AM] Loading objects/obj_type_2 (7218, 5) (7218 filtered: None)\n",
      "[INFO][2022/06/02 04:40:13 AM] Closing HDF file: /home/nathan/data/kraken/ras/ND0025/Pos5/tracks.h5\n",
      "[INFO][2022/06/02 04:40:13 AM] Opening HDF file: /home/nathan/data/kraken/ras/ND0014/Pos5/tracks.h5...\n",
      "[INFO][2022/06/02 04:40:13 AM] Loading tracks/obj_type_1\n"
     ]
    },
    {
     "name": "stdout",
     "output_type": "stream",
     "text": [
      "Track information loaded and ordered according to cell type (WT IDs >0> Scr IDs)\n",
      "Loaded ND0025/Pos5/\n",
      "Focal time not in frame\n",
      "ID ND0014_Pos5_11_GFP experiment: ND0014/Pos5/\n",
      "Loading ND0014/Pos5/\n",
      "Btrack version no.: 0.5.0\n"
     ]
    },
    {
     "name": "stderr",
     "output_type": "stream",
     "text": [
      "[INFO][2022/06/02 04:40:13 AM] Loading objects/obj_type_1 (249924, 5) (249924 filtered: None)\n",
      "[INFO][2022/06/02 04:40:22 AM] Closing HDF file: /home/nathan/data/kraken/ras/ND0014/Pos5/tracks.h5\n",
      "[INFO][2022/06/02 04:40:22 AM] Opening HDF file: /home/nathan/data/kraken/ras/ND0014/Pos5/tracks.h5...\n",
      "[INFO][2022/06/02 04:40:22 AM] Loading tracks/obj_type_2\n",
      "[INFO][2022/06/02 04:40:22 AM] Loading objects/obj_type_2 (62283, 5) (62283 filtered: None)\n",
      "[INFO][2022/06/02 04:40:24 AM] Closing HDF file: /home/nathan/data/kraken/ras/ND0014/Pos5/tracks.h5\n",
      "[INFO][2022/06/02 04:40:25 AM] Opening HDF file: /home/nathan/data/kraken/ras/ND0014/Pos7/tracks.h5...\n",
      "[INFO][2022/06/02 04:40:25 AM] Loading tracks/obj_type_1\n"
     ]
    },
    {
     "name": "stdout",
     "output_type": "stream",
     "text": [
      "Track information loaded and ordered according to cell type (WT IDs >0> Scr IDs)\n",
      "Loaded ND0014/Pos5/\n",
      "Focal time not in frame\n",
      "ID ND0014_Pos5_488_GFP_frag experiment: ND0014/Pos5/\n",
      "Focal time not in frame\n",
      "ID ND0014_Pos5_1317_GFP_frag experiment: ND0014/Pos5/\n",
      "ID ND0014_Pos5_2535_GFP_frag experiment: ND0014/Pos5/\n",
      "Focal time not in frame\n",
      "ID ND0014_Pos7_1_GFP_frag experiment: ND0014/Pos7/\n",
      "Loading ND0014/Pos7/\n",
      "Btrack version no.: 0.5.0\n"
     ]
    },
    {
     "name": "stderr",
     "output_type": "stream",
     "text": [
      "[INFO][2022/06/02 04:40:25 AM] Loading objects/obj_type_1 (182289, 5) (182289 filtered: None)\n",
      "[INFO][2022/06/02 04:40:28 AM] Closing HDF file: /home/nathan/data/kraken/ras/ND0014/Pos7/tracks.h5\n",
      "[INFO][2022/06/02 04:40:28 AM] Opening HDF file: /home/nathan/data/kraken/ras/ND0014/Pos7/tracks.h5...\n",
      "[INFO][2022/06/02 04:40:28 AM] Loading tracks/obj_type_2\n",
      "[INFO][2022/06/02 04:40:28 AM] Loading objects/obj_type_2 (10574, 5) (10574 filtered: None)\n",
      "[INFO][2022/06/02 04:40:28 AM] Closing HDF file: /home/nathan/data/kraken/ras/ND0014/Pos7/tracks.h5\n",
      "[INFO][2022/06/02 04:40:29 AM] Opening HDF file: /home/nathan/data/kraken/ras/ND0014/Pos8/tracks.h5...\n",
      "[INFO][2022/06/02 04:40:29 AM] Loading tracks/obj_type_1\n"
     ]
    },
    {
     "name": "stdout",
     "output_type": "stream",
     "text": [
      "Track information loaded and ordered according to cell type (WT IDs >0> Scr IDs)\n",
      "Loaded ND0014/Pos7/\n",
      "Focal time not in frame\n",
      "ID ND0014_Pos8_482_GFP experiment: ND0014/Pos8/\n",
      "Loading ND0014/Pos8/\n",
      "Btrack version no.: 0.5.0\n"
     ]
    },
    {
     "name": "stderr",
     "output_type": "stream",
     "text": [
      "[INFO][2022/06/02 04:40:29 AM] Loading objects/obj_type_1 (285628, 5) (285628 filtered: None)\n",
      "[INFO][2022/06/02 04:40:35 AM] Closing HDF file: /home/nathan/data/kraken/ras/ND0014/Pos8/tracks.h5\n",
      "[INFO][2022/06/02 04:40:35 AM] Opening HDF file: /home/nathan/data/kraken/ras/ND0014/Pos8/tracks.h5...\n",
      "[INFO][2022/06/02 04:40:35 AM] Loading tracks/obj_type_2\n",
      "[INFO][2022/06/02 04:40:36 AM] Loading objects/obj_type_2 (29467, 5) (29467 filtered: None)\n",
      "[INFO][2022/06/02 04:40:36 AM] Closing HDF file: /home/nathan/data/kraken/ras/ND0014/Pos8/tracks.h5\n",
      "[INFO][2022/06/02 04:40:37 AM] Opening HDF file: /home/nathan/data/kraken/ras/ND0014/Pos9/tracks.h5...\n",
      "[INFO][2022/06/02 04:40:37 AM] Loading tracks/obj_type_1\n",
      "[INFO][2022/06/02 04:40:37 AM] Loading objects/obj_type_1 (444747, 5) (444747 filtered: None)\n"
     ]
    },
    {
     "name": "stdout",
     "output_type": "stream",
     "text": [
      "Track information loaded and ordered according to cell type (WT IDs >0> Scr IDs)\n",
      "Loaded ND0014/Pos8/\n",
      "Focal time not in frame\n",
      "ID ND0014_Pos8_481_GFP experiment: ND0014/Pos8/\n",
      "Focal time not in frame\n",
      "ID ND0014_Pos9_1_GFP experiment: ND0014/Pos9/\n",
      "Loading ND0014/Pos9/\n",
      "Btrack version no.: 0.5.0\n"
     ]
    },
    {
     "name": "stderr",
     "output_type": "stream",
     "text": [
      "[INFO][2022/06/02 04:40:46 AM] Closing HDF file: /home/nathan/data/kraken/ras/ND0014/Pos9/tracks.h5\n",
      "[INFO][2022/06/02 04:40:46 AM] Opening HDF file: /home/nathan/data/kraken/ras/ND0014/Pos9/tracks.h5...\n",
      "[INFO][2022/06/02 04:40:46 AM] Loading tracks/obj_type_2\n",
      "[INFO][2022/06/02 04:40:46 AM] Loading objects/obj_type_2 (7231, 5) (7231 filtered: None)\n",
      "[INFO][2022/06/02 04:40:46 AM] Closing HDF file: /home/nathan/data/kraken/ras/ND0014/Pos9/tracks.h5\n",
      "[INFO][2022/06/02 04:40:46 AM] Opening HDF file: /home/nathan/data/kraken/ras/ND0017/Pos7/tracks.h5...\n",
      "[INFO][2022/06/02 04:40:46 AM] Loading tracks/obj_type_1\n",
      "[INFO][2022/06/02 04:40:46 AM] Loading objects/obj_type_1 (470131, 5) (470131 filtered: None)\n"
     ]
    },
    {
     "name": "stdout",
     "output_type": "stream",
     "text": [
      "Track information loaded and ordered according to cell type (WT IDs >0> Scr IDs)\n",
      "Loaded ND0014/Pos9/\n",
      "Focal time not in frame\n",
      "ID ND0017_Pos7_1012_GFP_frag experiment: ND0017/Pos7/\n",
      "Loading ND0017/Pos7/\n",
      "Btrack version no.: 0.5.0\n"
     ]
    },
    {
     "name": "stderr",
     "output_type": "stream",
     "text": [
      "[INFO][2022/06/02 04:40:57 AM] Closing HDF file: /home/nathan/data/kraken/ras/ND0017/Pos7/tracks.h5\n",
      "[INFO][2022/06/02 04:40:57 AM] Opening HDF file: /home/nathan/data/kraken/ras/ND0017/Pos7/tracks.h5...\n",
      "[INFO][2022/06/02 04:40:57 AM] Loading tracks/obj_type_2\n",
      "[INFO][2022/06/02 04:40:57 AM] Loading objects/obj_type_2 (22567, 5) (22567 filtered: None)\n",
      "[INFO][2022/06/02 04:40:57 AM] Closing HDF file: /home/nathan/data/kraken/ras/ND0017/Pos7/tracks.h5\n",
      "[INFO][2022/06/02 04:40:58 AM] Opening HDF file: /home/nathan/data/kraken/ras/ND0021/Pos4/tracks.h5...\n",
      "[INFO][2022/06/02 04:40:58 AM] Loading tracks/obj_type_1\n"
     ]
    },
    {
     "name": "stdout",
     "output_type": "stream",
     "text": [
      "Track information loaded and ordered according to cell type (WT IDs >0> Scr IDs)\n",
      "Loaded ND0017/Pos7/\n",
      "ID ND0017_Pos7_547_GFP experiment: ND0017/Pos7/\n",
      "ID ND0017_Pos7_814_GFP experiment: ND0017/Pos7/\n",
      "ID ND0017_Pos7_1627_GFP_frag experiment: ND0017/Pos7/\n",
      "Focal time not in frame\n",
      "ID ND0017_Pos7_1627_GFP experiment: ND0017/Pos7/\n",
      "Focal time not in frame\n",
      "ID ND0021_Pos4_4_GFP experiment: ND0021/Pos4/\n",
      "Loading ND0021/Pos4/\n",
      "Btrack version no.: 0.5.0\n"
     ]
    },
    {
     "name": "stderr",
     "output_type": "stream",
     "text": [
      "[INFO][2022/06/02 04:40:58 AM] Loading objects/obj_type_1 (1488513, 5) (1488513 filtered: None)\n",
      "[INFO][2022/06/02 04:41:30 AM] Closing HDF file: /home/nathan/data/kraken/ras/ND0021/Pos4/tracks.h5\n",
      "[INFO][2022/06/02 04:41:30 AM] Opening HDF file: /home/nathan/data/kraken/ras/ND0021/Pos4/tracks.h5...\n",
      "[INFO][2022/06/02 04:41:30 AM] Loading tracks/obj_type_2\n",
      "[INFO][2022/06/02 04:41:34 AM] Loading objects/obj_type_2 (51348, 5) (51348 filtered: None)\n",
      "[INFO][2022/06/02 04:41:35 AM] Closing HDF file: /home/nathan/data/kraken/ras/ND0021/Pos4/tracks.h5\n",
      "[INFO][2022/06/02 04:41:36 AM] Opening HDF file: /home/nathan/data/kraken/ras/ND0021/Pos7/tracks.h5...\n",
      "[INFO][2022/06/02 04:41:36 AM] Loading tracks/obj_type_1\n"
     ]
    },
    {
     "name": "stdout",
     "output_type": "stream",
     "text": [
      "Track information loaded and ordered according to cell type (WT IDs >0> Scr IDs)\n",
      "Loaded ND0021/Pos4/\n",
      "Focal time not in frame\n",
      "ID ND0021_Pos7_321_GFP experiment: ND0021/Pos7/\n",
      "Loading ND0021/Pos7/\n",
      "Btrack version no.: 0.5.0\n"
     ]
    },
    {
     "name": "stderr",
     "output_type": "stream",
     "text": [
      "[INFO][2022/06/02 04:41:36 AM] Loading objects/obj_type_1 (1481271, 5) (1481271 filtered: None)\n",
      "[INFO][2022/06/02 04:42:04 AM] Closing HDF file: /home/nathan/data/kraken/ras/ND0021/Pos7/tracks.h5\n",
      "[INFO][2022/06/02 04:42:04 AM] Opening HDF file: /home/nathan/data/kraken/ras/ND0021/Pos7/tracks.h5...\n",
      "[INFO][2022/06/02 04:42:04 AM] Loading tracks/obj_type_2\n",
      "[INFO][2022/06/02 04:42:04 AM] Loading objects/obj_type_2 (38441, 5) (38441 filtered: None)\n",
      "[INFO][2022/06/02 04:42:05 AM] Closing HDF file: /home/nathan/data/kraken/ras/ND0021/Pos7/tracks.h5\n"
     ]
    },
    {
     "name": "stdout",
     "output_type": "stream",
     "text": [
      "Track information loaded and ordered according to cell type (WT IDs >0> Scr IDs)\n",
      "Loaded ND0021/Pos7/\n",
      "Focal time not in frame\n",
      "ID ND0021_Pos7_320_GFP experiment: ND0021/Pos7/\n",
      "Focal time not in frame\n",
      "ID ND0021_Pos7_177_GFP experiment: ND0021/Pos7/\n",
      "Focal time not in frame\n",
      "ID ND0021_Pos7_178_GFP experiment: ND0021/Pos7/\n",
      "Focal time not in frame\n",
      "ID ND0021_Pos7_507_GFP experiment: ND0021/Pos7/\n",
      "Focal time not in frame\n",
      "ID ND0021_Pos7_506_GFP experiment: ND0021/Pos7/\n",
      "Focal time not in frame\n",
      "ID ND0021_Pos7_598_GFP experiment: ND0021/Pos7/\n"
     ]
    },
    {
     "name": "stderr",
     "output_type": "stream",
     "text": [
      "[INFO][2022/06/02 04:42:07 AM] Opening HDF file: /home/nathan/data/kraken/ras/ND0022/Pos3/tracks.h5...\n",
      "[INFO][2022/06/02 04:42:07 AM] Loading tracks/obj_type_1\n",
      "[INFO][2022/06/02 04:42:07 AM] Loading objects/obj_type_1 (404850, 5) (404850 filtered: None)\n"
     ]
    },
    {
     "name": "stdout",
     "output_type": "stream",
     "text": [
      "Focal time not in frame\n",
      "ID ND0021_Pos7_599_GFP experiment: ND0021/Pos7/\n",
      "Focal time not in frame\n",
      "ID ND0022_Pos3_4_GFP_frag experiment: ND0022/Pos3/\n",
      "Loading ND0022/Pos3/\n",
      "Btrack version no.: 0.5.0\n"
     ]
    },
    {
     "name": "stderr",
     "output_type": "stream",
     "text": [
      "[INFO][2022/06/02 04:42:16 AM] Closing HDF file: /home/nathan/data/kraken/ras/ND0022/Pos3/tracks.h5\n",
      "[INFO][2022/06/02 04:42:16 AM] Opening HDF file: /home/nathan/data/kraken/ras/ND0022/Pos3/tracks.h5...\n",
      "[INFO][2022/06/02 04:42:16 AM] Loading tracks/obj_type_2\n",
      "[INFO][2022/06/02 04:42:16 AM] Loading objects/obj_type_2 (15790, 5) (15790 filtered: None)\n",
      "[INFO][2022/06/02 04:42:16 AM] Closing HDF file: /home/nathan/data/kraken/ras/ND0022/Pos3/tracks.h5\n"
     ]
    },
    {
     "name": "stdout",
     "output_type": "stream",
     "text": [
      "Track information loaded and ordered according to cell type (WT IDs >0> Scr IDs)\n",
      "Loaded ND0022/Pos3/\n"
     ]
    },
    {
     "name": "stderr",
     "output_type": "stream",
     "text": [
      "[INFO][2022/06/02 05:06:02 AM] Opening HDF file: /home/nathan/data/kraken/ras/ND0022/Pos4/tracks.h5...\n",
      "[INFO][2022/06/02 05:06:02 AM] Loading tracks/obj_type_1\n",
      "[INFO][2022/06/02 05:06:02 AM] Loading objects/obj_type_1 (813379, 5) (813379 filtered: None)\n"
     ]
    },
    {
     "name": "stdout",
     "output_type": "stream",
     "text": [
      "ID ND0022_Pos3_907_GFP_frag experiment: ND0022/Pos3/\n",
      "Focal time not in frame\n",
      "ID ND0022_Pos3_910_GFP_frag experiment: ND0022/Pos3/\n",
      "Focal time not in frame\n",
      "ID ND0022_Pos3_940_GFP_frag experiment: ND0022/Pos3/\n",
      "Focal time not in frame\n",
      "ID ND0022_Pos3_840_GFP_frag experiment: ND0022/Pos3/\n",
      "Focal time not in frame\n",
      "ID ND0022_Pos3_1158_GFP_frag experiment: ND0022/Pos3/\n",
      "Focal time not in frame\n",
      "ID ND0022_Pos3_1197_GFP_frag experiment: ND0022/Pos3/\n",
      "Focal time not in frame\n",
      "ID ND0022_Pos3_1226_GFP_frag experiment: ND0022/Pos3/\n",
      "Focal time not in frame\n",
      "ID ND0022_Pos3_976_GFP experiment: ND0022/Pos3/\n",
      "Focal time not in frame\n",
      "ID ND0022_Pos4_1812_GFP experiment: ND0022/Pos4/\n",
      "Loading ND0022/Pos4/\n",
      "Btrack version no.: 0.5.0\n"
     ]
    },
    {
     "name": "stderr",
     "output_type": "stream",
     "text": [
      "[INFO][2022/06/02 05:06:19 AM] Closing HDF file: /home/nathan/data/kraken/ras/ND0022/Pos4/tracks.h5\n",
      "[INFO][2022/06/02 05:06:19 AM] Opening HDF file: /home/nathan/data/kraken/ras/ND0022/Pos4/tracks.h5...\n",
      "[INFO][2022/06/02 05:06:19 AM] Loading tracks/obj_type_2\n",
      "[INFO][2022/06/02 05:06:19 AM] Loading objects/obj_type_2 (18889, 5) (18889 filtered: None)\n",
      "[INFO][2022/06/02 05:06:19 AM] Closing HDF file: /home/nathan/data/kraken/ras/ND0022/Pos4/tracks.h5\n",
      "[INFO][2022/06/02 05:06:19 AM] Opening HDF file: /home/nathan/data/kraken/ras/ND0022/Pos5/tracks.h5...\n",
      "[INFO][2022/06/02 05:06:19 AM] Loading tracks/obj_type_1\n",
      "[INFO][2022/06/02 05:06:20 AM] Loading objects/obj_type_1 (254578, 5) (254578 filtered: None)\n"
     ]
    },
    {
     "name": "stdout",
     "output_type": "stream",
     "text": [
      "Track information loaded and ordered according to cell type (WT IDs >0> Scr IDs)\n",
      "Loaded ND0022/Pos4/\n",
      "Focal time not in frame\n",
      "ID ND0022_Pos4_643_GFP experiment: ND0022/Pos4/\n",
      "Focal time not in frame\n",
      "ID ND0022_Pos4_1486_GFP experiment: ND0022/Pos4/\n",
      "Focal time not in frame\n",
      "ID ND0022_Pos5_2_GFP experiment: ND0022/Pos5/\n",
      "Loading ND0022/Pos5/\n",
      "Btrack version no.: 0.5.0\n"
     ]
    },
    {
     "name": "stderr",
     "output_type": "stream",
     "text": [
      "[INFO][2022/06/02 05:06:26 AM] Closing HDF file: /home/nathan/data/kraken/ras/ND0022/Pos5/tracks.h5\n",
      "[INFO][2022/06/02 05:06:26 AM] Opening HDF file: /home/nathan/data/kraken/ras/ND0022/Pos5/tracks.h5...\n",
      "[INFO][2022/06/02 05:06:26 AM] Loading tracks/obj_type_2\n",
      "[INFO][2022/06/02 05:06:26 AM] Loading objects/obj_type_2 (20446, 5) (20446 filtered: None)\n",
      "[INFO][2022/06/02 05:06:27 AM] Closing HDF file: /home/nathan/data/kraken/ras/ND0022/Pos5/tracks.h5\n"
     ]
    },
    {
     "name": "stdout",
     "output_type": "stream",
     "text": [
      "Track information loaded and ordered according to cell type (WT IDs >0> Scr IDs)\n",
      "Loaded ND0022/Pos5/\n",
      "Focal time not in frame\n",
      "ID ND0022_Pos5_1025_GFP_frag experiment: ND0022/Pos5/\n",
      "Focal time not in frame\n",
      "ID ND0022_Pos5_785_GFP experiment: ND0022/Pos5/\n",
      "Focal time not in frame\n",
      "ID ND0022_Pos5_782_GFP experiment: ND0022/Pos5/\n",
      "Focal time not in frame\n",
      "ID ND0022_Pos5_358_GFP experiment: ND0022/Pos5/\n",
      "Focal time not in frame\n",
      "ID ND0022_Pos5_262_GFP experiment: ND0022/Pos5/\n"
     ]
    },
    {
     "name": "stderr",
     "output_type": "stream",
     "text": [
      "[INFO][2022/06/02 05:10:10 AM] Opening HDF file: /home/nathan/data/kraken/ras/ND0022/Pos6/tracks.h5...\n",
      "[INFO][2022/06/02 05:10:10 AM] Loading tracks/obj_type_1\n"
     ]
    },
    {
     "name": "stdout",
     "output_type": "stream",
     "text": [
      "ID ND0022_Pos5_1205_GFP experiment: ND0022/Pos5/\n",
      "Focal time not in frame\n",
      "ID ND0022_Pos6_7_GFP_frag experiment: ND0022/Pos6/\n",
      "Loading ND0022/Pos6/\n",
      "Btrack version no.: 0.5.0\n"
     ]
    },
    {
     "name": "stderr",
     "output_type": "stream",
     "text": [
      "[INFO][2022/06/02 05:10:10 AM] Loading objects/obj_type_1 (1291409, 5) (1291409 filtered: None)\n",
      "[INFO][2022/06/02 05:10:32 AM] Closing HDF file: /home/nathan/data/kraken/ras/ND0022/Pos6/tracks.h5\n",
      "[INFO][2022/06/02 05:10:32 AM] Opening HDF file: /home/nathan/data/kraken/ras/ND0022/Pos6/tracks.h5...\n",
      "[INFO][2022/06/02 05:10:32 AM] Loading tracks/obj_type_2\n",
      "[INFO][2022/06/02 05:10:32 AM] Loading objects/obj_type_2 (15847, 5) (15847 filtered: None)\n",
      "[INFO][2022/06/02 05:10:33 AM] Closing HDF file: /home/nathan/data/kraken/ras/ND0022/Pos6/tracks.h5\n"
     ]
    },
    {
     "name": "stdout",
     "output_type": "stream",
     "text": [
      "Track information loaded and ordered according to cell type (WT IDs >0> Scr IDs)\n",
      "Loaded ND0022/Pos6/\n",
      "Focal time not in frame\n",
      "ID ND0022_Pos6_1_GFP experiment: ND0022/Pos6/\n"
     ]
    },
    {
     "name": "stderr",
     "output_type": "stream",
     "text": [
      "[INFO][2022/06/02 06:11:20 AM] Opening HDF file: /home/nathan/data/kraken/ras/ND0022/Pos7/tracks.h5...\n",
      "[INFO][2022/06/02 06:11:20 AM] Loading tracks/obj_type_1\n",
      "[INFO][2022/06/02 06:11:20 AM] Loading objects/obj_type_1 (465089, 5) (465089 filtered: None)\n"
     ]
    },
    {
     "name": "stdout",
     "output_type": "stream",
     "text": [
      "ID ND0022_Pos7_15_GFP experiment: ND0022/Pos7/\n",
      "Loading ND0022/Pos7/\n",
      "Btrack version no.: 0.5.0\n"
     ]
    },
    {
     "name": "stderr",
     "output_type": "stream",
     "text": [
      "[INFO][2022/06/02 06:11:30 AM] Closing HDF file: /home/nathan/data/kraken/ras/ND0022/Pos7/tracks.h5\n",
      "[INFO][2022/06/02 06:11:30 AM] Opening HDF file: /home/nathan/data/kraken/ras/ND0022/Pos7/tracks.h5...\n",
      "[INFO][2022/06/02 06:11:30 AM] Loading tracks/obj_type_2\n",
      "[INFO][2022/06/02 06:11:30 AM] Loading objects/obj_type_2 (14348, 5) (14348 filtered: None)\n",
      "[INFO][2022/06/02 06:11:30 AM] Closing HDF file: /home/nathan/data/kraken/ras/ND0022/Pos7/tracks.h5\n",
      "[INFO][2022/06/02 06:11:31 AM] Opening HDF file: /home/nathan/data/kraken/ras/ND0024/Pos3/tracks.h5...\n",
      "[INFO][2022/06/02 06:11:31 AM] Loading tracks/obj_type_1\n"
     ]
    },
    {
     "name": "stdout",
     "output_type": "stream",
     "text": [
      "Track information loaded and ordered according to cell type (WT IDs >0> Scr IDs)\n",
      "Loaded ND0022/Pos7/\n",
      "Focal time not in frame\n",
      "ID ND0022_Pos7_728_GFP experiment: ND0022/Pos7/\n",
      "Focal time not in frame\n",
      "ID ND0022_Pos7_1125_GFP_frag experiment: ND0022/Pos7/\n",
      "Focal time not in frame\n",
      "ID ND0022_Pos7_1113_GFP_frag experiment: ND0022/Pos7/\n",
      "Focal time not in frame\n",
      "ID ND0022_Pos7_1112_GFP_frag experiment: ND0022/Pos7/\n",
      "Focal time not in frame\n",
      "ID ND0022_Pos7_1842_GFP_frag experiment: ND0022/Pos7/\n",
      "Focal time not in frame\n",
      "ID ND0022_Pos7_1841_GFP_frag experiment: ND0022/Pos7/\n",
      "Focal time not in frame\n",
      "ID ND0022_Pos7_1062_GFP experiment: ND0022/Pos7/\n",
      "Focal time not in frame\n",
      "ID ND0022_Pos7_1104_GFP experiment: ND0022/Pos7/\n",
      "ID ND0022_Pos7_1226_GFP experiment: ND0022/Pos7/\n",
      "Focal time not in frame\n",
      "ID ND0022_Pos7_2017_GFP_frag experiment: ND0022/Pos7/\n",
      "Focal time not in frame\n",
      "ID ND0024_Pos3_320_GFP experiment: ND0024/Pos3/\n",
      "Loading ND0024/Pos3/\n",
      "Btrack version no.: 0.5.0\n"
     ]
    },
    {
     "name": "stderr",
     "output_type": "stream",
     "text": [
      "[INFO][2022/06/02 06:11:31 AM] Loading objects/obj_type_1 (636597, 5) (636597 filtered: None)\n",
      "[INFO][2022/06/02 06:11:45 AM] Closing HDF file: /home/nathan/data/kraken/ras/ND0024/Pos3/tracks.h5\n",
      "[INFO][2022/06/02 06:11:45 AM] Opening HDF file: /home/nathan/data/kraken/ras/ND0024/Pos3/tracks.h5...\n",
      "[INFO][2022/06/02 06:11:45 AM] Loading tracks/obj_type_2\n",
      "[INFO][2022/06/02 06:11:45 AM] Loading objects/obj_type_2 (16475, 5) (16475 filtered: None)\n",
      "[INFO][2022/06/02 06:11:45 AM] Closing HDF file: /home/nathan/data/kraken/ras/ND0024/Pos3/tracks.h5\n"
     ]
    },
    {
     "name": "stdout",
     "output_type": "stream",
     "text": [
      "Track information loaded and ordered according to cell type (WT IDs >0> Scr IDs)\n"
     ]
    },
    {
     "name": "stderr",
     "output_type": "stream",
     "text": [
      "[INFO][2022/06/02 06:11:45 AM] Opening HDF file: /home/nathan/data/kraken/ras/ND0024/Pos4/tracks.h5...\n",
      "[INFO][2022/06/02 06:11:45 AM] Loading tracks/obj_type_1\n",
      "[INFO][2022/06/02 06:11:45 AM] Loading objects/obj_type_1 (586398, 5) (586398 filtered: None)\n"
     ]
    },
    {
     "name": "stdout",
     "output_type": "stream",
     "text": [
      "Loaded ND0024/Pos3/\n",
      "Focal time not in frame\n",
      "ID ND0024_Pos4_276_GFP experiment: ND0024/Pos4/\n",
      "Loading ND0024/Pos4/\n",
      "Btrack version no.: 0.5.0\n"
     ]
    },
    {
     "name": "stderr",
     "output_type": "stream",
     "text": [
      "[INFO][2022/06/02 06:11:59 AM] Closing HDF file: /home/nathan/data/kraken/ras/ND0024/Pos4/tracks.h5\n",
      "[INFO][2022/06/02 06:11:59 AM] Opening HDF file: /home/nathan/data/kraken/ras/ND0024/Pos4/tracks.h5...\n",
      "[INFO][2022/06/02 06:11:59 AM] Loading tracks/obj_type_2\n",
      "[INFO][2022/06/02 06:11:59 AM] Loading objects/obj_type_2 (33390, 5) (33390 filtered: None)\n",
      "[INFO][2022/06/02 06:12:04 AM] Closing HDF file: /home/nathan/data/kraken/ras/ND0024/Pos4/tracks.h5\n"
     ]
    },
    {
     "name": "stdout",
     "output_type": "stream",
     "text": [
      "Track information loaded and ordered according to cell type (WT IDs >0> Scr IDs)\n",
      "Loaded ND0024/Pos4/\n",
      "Focal time not in frame\n",
      "ID ND0024_Pos4_1349_GFP experiment: ND0024/Pos4/\n",
      "Focal time not in frame\n",
      "ID ND0024_Pos4_1570_GFP experiment: ND0024/Pos4/\n",
      "Focal time not in frame\n",
      "ID ND0024_Pos4_1881_GFP experiment: ND0024/Pos4/\n",
      "Focal time not in frame\n",
      "ID ND0024_Pos4_1306_GFP experiment: ND0024/Pos4/\n"
     ]
    },
    {
     "name": "stderr",
     "output_type": "stream",
     "text": [
      "[INFO][2022/06/02 06:31:04 AM] Opening HDF file: /home/nathan/data/kraken/ras/ND0024/Pos5/tracks.h5...\n",
      "[INFO][2022/06/02 06:31:04 AM] Loading tracks/obj_type_1\n",
      "[INFO][2022/06/02 06:31:04 AM] Loading objects/obj_type_1 (418489, 5) (418489 filtered: None)\n"
     ]
    },
    {
     "name": "stdout",
     "output_type": "stream",
     "text": [
      "ID ND0024_Pos4_3228_GFP_frag experiment: ND0024/Pos4/\n",
      "Focal time not in frame\n",
      "ID ND0024_Pos4_3162_GFP_frag experiment: ND0024/Pos4/\n",
      "Focal time not in frame\n",
      "ID ND0024_Pos4_1264_GFP experiment: ND0024/Pos4/\n",
      "Focal time not in frame\n",
      "ID ND0024_Pos4_2890_GFP_frag experiment: ND0024/Pos4/\n",
      "ID ND0024_Pos5_675_GFP_frag experiment: ND0024/Pos5/\n",
      "Loading ND0024/Pos5/\n",
      "Btrack version no.: 0.5.0\n"
     ]
    },
    {
     "name": "stderr",
     "output_type": "stream",
     "text": [
      "[INFO][2022/06/02 06:31:11 AM] Closing HDF file: /home/nathan/data/kraken/ras/ND0024/Pos5/tracks.h5\n",
      "[INFO][2022/06/02 06:31:11 AM] Opening HDF file: /home/nathan/data/kraken/ras/ND0024/Pos5/tracks.h5...\n",
      "[INFO][2022/06/02 06:31:11 AM] Loading tracks/obj_type_2\n",
      "[INFO][2022/06/02 06:31:11 AM] Loading objects/obj_type_2 (14355, 5) (14355 filtered: None)\n",
      "[INFO][2022/06/02 06:31:11 AM] Closing HDF file: /home/nathan/data/kraken/ras/ND0024/Pos5/tracks.h5\n",
      "[INFO][2022/06/02 06:31:11 AM] Opening HDF file: /home/nathan/data/kraken/ras/ND0024/Pos6/tracks.h5...\n",
      "[INFO][2022/06/02 06:31:11 AM] Loading tracks/obj_type_1\n",
      "[INFO][2022/06/02 06:31:11 AM] Loading objects/obj_type_1 (484009, 5) (484009 filtered: None)\n"
     ]
    },
    {
     "name": "stdout",
     "output_type": "stream",
     "text": [
      "Track information loaded and ordered according to cell type (WT IDs >0> Scr IDs)\n",
      "Loaded ND0024/Pos5/\n",
      "Focal time not in frame\n",
      "ID ND0024_Pos5_1053_GFP experiment: ND0024/Pos5/\n",
      "Focal time not in frame\n",
      "ID ND0024_Pos5_1179_GFP experiment: ND0024/Pos5/\n",
      "Focal time not in frame\n",
      "ID ND0024_Pos5_1183_GFP experiment: ND0024/Pos5/\n",
      "Focal time not in frame\n",
      "ID ND0024_Pos5_1092_GFP_frag experiment: ND0024/Pos5/\n",
      "Focal time not in frame\n",
      "ID ND0024_Pos6_7_GFP experiment: ND0024/Pos6/\n",
      "Loading ND0024/Pos6/\n",
      "Btrack version no.: 0.5.0\n"
     ]
    },
    {
     "name": "stderr",
     "output_type": "stream",
     "text": [
      "[INFO][2022/06/02 06:31:22 AM] Closing HDF file: /home/nathan/data/kraken/ras/ND0024/Pos6/tracks.h5\n",
      "[INFO][2022/06/02 06:31:22 AM] Opening HDF file: /home/nathan/data/kraken/ras/ND0024/Pos6/tracks.h5...\n",
      "[INFO][2022/06/02 06:31:22 AM] Loading tracks/obj_type_2\n",
      "[INFO][2022/06/02 06:31:22 AM] Loading objects/obj_type_2 (46805, 5) (46805 filtered: None)\n",
      "[INFO][2022/06/02 06:31:26 AM] Closing HDF file: /home/nathan/data/kraken/ras/ND0024/Pos6/tracks.h5\n"
     ]
    },
    {
     "name": "stdout",
     "output_type": "stream",
     "text": [
      "Track information loaded and ordered according to cell type (WT IDs >0> Scr IDs)\n",
      "Loaded ND0024/Pos6/\n",
      "Focal time not in frame\n",
      "ID ND0024_Pos6_473_GFP experiment: ND0024/Pos6/\n",
      "Focal time not in frame\n",
      "ID ND0024_Pos6_638_GFP experiment: ND0024/Pos6/\n",
      "Focal time not in frame\n",
      "ID ND0024_Pos6_775_GFP_frag experiment: ND0024/Pos6/\n",
      "ID ND0024_Pos6_776_GFP_frag experiment: ND0024/Pos6/\n",
      "Focal time not in frame\n",
      "ID ND0024_Pos6_639_GFP experiment: ND0024/Pos6/\n",
      "Focal time not in frame\n",
      "ID ND0024_Pos6_754_GFP experiment: ND0024/Pos6/\n",
      "Focal time not in frame\n",
      "ID ND0024_Pos6_1145_GFP_frag experiment: ND0024/Pos6/\n",
      "Focal time not in frame\n",
      "ID ND0024_Pos6_406_GFP experiment: ND0024/Pos6/\n",
      "Focal time not in frame\n",
      "ID ND0024_Pos6_812_GFP experiment: ND0024/Pos6/\n",
      "Focal time not in frame\n",
      "ID ND0024_Pos6_1353_GFP_frag experiment: ND0024/Pos6/\n"
     ]
    },
    {
     "name": "stderr",
     "output_type": "stream",
     "text": [
      "[INFO][2022/06/02 06:31:26 AM] Opening HDF file: /home/nathan/data/kraken/ras/ND0024/Pos7/tracks.h5...\n",
      "[INFO][2022/06/02 06:31:26 AM] Loading tracks/obj_type_1\n",
      "[INFO][2022/06/02 06:31:26 AM] Loading objects/obj_type_1 (296680, 5) (296680 filtered: None)\n"
     ]
    },
    {
     "name": "stdout",
     "output_type": "stream",
     "text": [
      "Focal time not in frame\n",
      "ID ND0024_Pos6_1354_GFP_frag experiment: ND0024/Pos6/\n",
      "Focal time not in frame\n",
      "ID ND0024_Pos7_8_GFP experiment: ND0024/Pos7/\n",
      "Loading ND0024/Pos7/\n",
      "Btrack version no.: 0.5.0\n"
     ]
    },
    {
     "name": "stderr",
     "output_type": "stream",
     "text": [
      "[INFO][2022/06/02 06:31:32 AM] Closing HDF file: /home/nathan/data/kraken/ras/ND0024/Pos7/tracks.h5\n",
      "[INFO][2022/06/02 06:31:32 AM] Opening HDF file: /home/nathan/data/kraken/ras/ND0024/Pos7/tracks.h5...\n",
      "[INFO][2022/06/02 06:31:32 AM] Loading tracks/obj_type_2\n",
      "[INFO][2022/06/02 06:31:32 AM] Loading objects/obj_type_2 (11337, 5) (11337 filtered: None)\n",
      "[INFO][2022/06/02 06:31:32 AM] Closing HDF file: /home/nathan/data/kraken/ras/ND0024/Pos7/tracks.h5\n"
     ]
    },
    {
     "name": "stdout",
     "output_type": "stream",
     "text": [
      "Track information loaded and ordered according to cell type (WT IDs >0> Scr IDs)\n",
      "Loaded ND0024/Pos7/\n"
     ]
    },
    {
     "name": "stderr",
     "output_type": "stream",
     "text": [
      "[INFO][2022/06/02 06:37:12 AM] Opening HDF file: /home/nathan/data/kraken/ras/ND0025/Pos3/tracks.h5...\n",
      "[INFO][2022/06/02 06:37:12 AM] Loading tracks/obj_type_1\n",
      "[INFO][2022/06/02 06:37:12 AM] Loading objects/obj_type_1 (200555, 5) (200555 filtered: None)\n"
     ]
    },
    {
     "name": "stdout",
     "output_type": "stream",
     "text": [
      "ID ND0025_Pos3_2_GFP experiment: ND0025/Pos3/\n",
      "Loading ND0025/Pos3/\n",
      "Btrack version no.: 0.5.0\n"
     ]
    },
    {
     "name": "stderr",
     "output_type": "stream",
     "text": [
      "[INFO][2022/06/02 06:37:17 AM] Closing HDF file: /home/nathan/data/kraken/ras/ND0025/Pos3/tracks.h5\n",
      "[INFO][2022/06/02 06:37:17 AM] Opening HDF file: /home/nathan/data/kraken/ras/ND0025/Pos3/tracks.h5...\n",
      "[INFO][2022/06/02 06:37:17 AM] Loading tracks/obj_type_2\n",
      "[INFO][2022/06/02 06:37:17 AM] Loading objects/obj_type_2 (4490, 5) (4490 filtered: None)\n",
      "[INFO][2022/06/02 06:37:17 AM] Closing HDF file: /home/nathan/data/kraken/ras/ND0025/Pos3/tracks.h5\n",
      "[INFO][2022/06/02 06:37:17 AM] Opening HDF file: /home/nathan/data/kraken/ras/ND0025/Pos4/tracks.h5...\n",
      "[INFO][2022/06/02 06:37:17 AM] Loading tracks/obj_type_1\n",
      "[INFO][2022/06/02 06:37:17 AM] Loading objects/obj_type_1 (180679, 5) (180679 filtered: None)\n"
     ]
    },
    {
     "name": "stdout",
     "output_type": "stream",
     "text": [
      "Track information loaded and ordered according to cell type (WT IDs >0> Scr IDs)\n",
      "Loaded ND0025/Pos3/\n",
      "Focal time not in frame\n",
      "ID ND0025_Pos4_1275_GFP_frag experiment: ND0025/Pos4/\n",
      "Loading ND0025/Pos4/\n",
      "Btrack version no.: 0.5.0\n"
     ]
    },
    {
     "name": "stderr",
     "output_type": "stream",
     "text": [
      "[INFO][2022/06/02 06:37:20 AM] Closing HDF file: /home/nathan/data/kraken/ras/ND0025/Pos4/tracks.h5\n",
      "[INFO][2022/06/02 06:37:20 AM] Opening HDF file: /home/nathan/data/kraken/ras/ND0025/Pos4/tracks.h5...\n",
      "[INFO][2022/06/02 06:37:20 AM] Loading tracks/obj_type_2\n",
      "[INFO][2022/06/02 06:37:20 AM] Loading objects/obj_type_2 (10302, 5) (10302 filtered: None)\n",
      "[INFO][2022/06/02 06:37:21 AM] Closing HDF file: /home/nathan/data/kraken/ras/ND0025/Pos4/tracks.h5\n",
      "[INFO][2022/06/02 06:37:21 AM] Opening HDF file: /home/nathan/data/kraken/ras/ND0025/Pos6/tracks.h5...\n",
      "[INFO][2022/06/02 06:37:21 AM] Loading tracks/obj_type_1\n",
      "[INFO][2022/06/02 06:37:21 AM] Loading objects/obj_type_1 (392143, 5) (392143 filtered: None)\n"
     ]
    },
    {
     "name": "stdout",
     "output_type": "stream",
     "text": [
      "Track information loaded and ordered according to cell type (WT IDs >0> Scr IDs)\n",
      "Loaded ND0025/Pos4/\n",
      "Focal time not in frame\n",
      "ID ND0025_Pos4_26_GFP experiment: ND0025/Pos4/\n",
      "Focal time not in frame\n",
      "ID ND0025_Pos4_207_GFP experiment: ND0025/Pos4/\n",
      "Focal time not in frame\n",
      "ID ND0025_Pos6_696_GFP_frag experiment: ND0025/Pos6/\n",
      "Loading ND0025/Pos6/\n",
      "Btrack version no.: 0.5.0\n"
     ]
    },
    {
     "name": "stderr",
     "output_type": "stream",
     "text": [
      "[INFO][2022/06/02 06:37:29 AM] Closing HDF file: /home/nathan/data/kraken/ras/ND0025/Pos6/tracks.h5\n",
      "[INFO][2022/06/02 06:37:29 AM] Opening HDF file: /home/nathan/data/kraken/ras/ND0025/Pos6/tracks.h5...\n",
      "[INFO][2022/06/02 06:37:29 AM] Loading tracks/obj_type_2\n",
      "[INFO][2022/06/02 06:37:29 AM] Loading objects/obj_type_2 (5950, 5) (5950 filtered: None)\n",
      "[INFO][2022/06/02 06:37:29 AM] Closing HDF file: /home/nathan/data/kraken/ras/ND0025/Pos6/tracks.h5\n"
     ]
    },
    {
     "name": "stdout",
     "output_type": "stream",
     "text": [
      "Track information loaded and ordered according to cell type (WT IDs >0> Scr IDs)\n",
      "Loaded ND0025/Pos6/\n",
      "Focal time not in frame\n",
      "ID ND0025_Pos6_634_GFP experiment: ND0025/Pos6/\n",
      "Focal time not in frame\n",
      "1600 1600\n"
     ]
    },
    {
     "data": {
      "application/vnd.jupyter.widget-view+json": {
       "model_id": "b05495b5b32d4d7ea39ddcecec953f1f",
       "version_major": 2,
       "version_minor": 0
      },
      "text/plain": [
       "  0%|          | 0/91 [00:00<?, ?it/s]"
      ]
     },
     "metadata": {},
     "output_type": "display_data"
    },
    {
     "name": "stderr",
     "output_type": "stream",
     "text": [
      "[INFO][2022/06/02 06:37:30 AM] Opening HDF file: /home/nathan/data/kraken/ras/ND0025/Pos7/tracks.h5...\n",
      "[INFO][2022/06/02 06:37:30 AM] Loading tracks/obj_type_1\n",
      "[INFO][2022/06/02 06:37:30 AM] Loading objects/obj_type_1 (197115, 5) (197115 filtered: None)\n"
     ]
    },
    {
     "name": "stdout",
     "output_type": "stream",
     "text": [
      "ID ND0025_Pos7_930_GFP experiment: ND0025/Pos7/\n",
      "Loading ND0025/Pos7/\n",
      "Btrack version no.: 0.5.0\n"
     ]
    },
    {
     "name": "stderr",
     "output_type": "stream",
     "text": [
      "[INFO][2022/06/02 06:37:33 AM] Closing HDF file: /home/nathan/data/kraken/ras/ND0025/Pos7/tracks.h5\n",
      "[INFO][2022/06/02 06:37:33 AM] Opening HDF file: /home/nathan/data/kraken/ras/ND0025/Pos7/tracks.h5...\n",
      "[INFO][2022/06/02 06:37:33 AM] Loading tracks/obj_type_2\n",
      "[INFO][2022/06/02 06:37:33 AM] Loading objects/obj_type_2 (12464, 5) (12464 filtered: None)\n",
      "[INFO][2022/06/02 06:37:34 AM] Closing HDF file: /home/nathan/data/kraken/ras/ND0025/Pos7/tracks.h5\n",
      "[INFO][2022/06/02 06:37:34 AM] Opening HDF file: /home/nathan/data/kraken/ras/ND0025/Pos5/tracks.h5...\n",
      "[INFO][2022/06/02 06:37:34 AM] Loading tracks/obj_type_1\n"
     ]
    },
    {
     "name": "stdout",
     "output_type": "stream",
     "text": [
      "Track information loaded and ordered according to cell type (WT IDs >0> Scr IDs)\n",
      "Loaded ND0025/Pos7/\n",
      "Focal time not in frame\n",
      "ID ND0025_Pos7_958_GFP experiment: ND0025/Pos7/\n",
      "Focal time not in frame\n",
      "ID ND0025_Pos5_1_GFP experiment: ND0025/Pos5/\n",
      "Loading ND0025/Pos5/\n",
      "Btrack version no.: 0.5.0\n"
     ]
    },
    {
     "name": "stderr",
     "output_type": "stream",
     "text": [
      "[INFO][2022/06/02 06:37:34 AM] Loading objects/obj_type_1 (419463, 5) (419463 filtered: None)\n",
      "[INFO][2022/06/02 06:37:42 AM] Closing HDF file: /home/nathan/data/kraken/ras/ND0025/Pos5/tracks.h5\n",
      "[INFO][2022/06/02 06:37:42 AM] Opening HDF file: /home/nathan/data/kraken/ras/ND0025/Pos5/tracks.h5...\n",
      "[INFO][2022/06/02 06:37:42 AM] Loading tracks/obj_type_2\n",
      "[INFO][2022/06/02 06:37:42 AM] Loading objects/obj_type_2 (7218, 5) (7218 filtered: None)\n",
      "[INFO][2022/06/02 06:37:42 AM] Closing HDF file: /home/nathan/data/kraken/ras/ND0025/Pos5/tracks.h5\n",
      "[INFO][2022/06/02 06:37:43 AM] Opening HDF file: /home/nathan/data/kraken/ras/ND0014/Pos5/tracks.h5...\n",
      "[INFO][2022/06/02 06:37:43 AM] Loading tracks/obj_type_1\n"
     ]
    },
    {
     "name": "stdout",
     "output_type": "stream",
     "text": [
      "Track information loaded and ordered according to cell type (WT IDs >0> Scr IDs)\n",
      "Loaded ND0025/Pos5/\n",
      "Focal time not in frame\n",
      "ID ND0014_Pos5_11_GFP experiment: ND0014/Pos5/\n",
      "Loading ND0014/Pos5/\n",
      "Btrack version no.: 0.5.0\n"
     ]
    },
    {
     "name": "stderr",
     "output_type": "stream",
     "text": [
      "[INFO][2022/06/02 06:37:43 AM] Loading objects/obj_type_1 (249924, 5) (249924 filtered: None)\n",
      "[INFO][2022/06/02 06:37:51 AM] Closing HDF file: /home/nathan/data/kraken/ras/ND0014/Pos5/tracks.h5\n",
      "[INFO][2022/06/02 06:37:51 AM] Opening HDF file: /home/nathan/data/kraken/ras/ND0014/Pos5/tracks.h5...\n",
      "[INFO][2022/06/02 06:37:51 AM] Loading tracks/obj_type_2\n",
      "[INFO][2022/06/02 06:37:51 AM] Loading objects/obj_type_2 (62283, 5) (62283 filtered: None)\n",
      "[INFO][2022/06/02 06:37:53 AM] Closing HDF file: /home/nathan/data/kraken/ras/ND0014/Pos5/tracks.h5\n",
      "[INFO][2022/06/02 06:37:54 AM] Opening HDF file: /home/nathan/data/kraken/ras/ND0014/Pos7/tracks.h5...\n",
      "[INFO][2022/06/02 06:37:54 AM] Loading tracks/obj_type_1\n"
     ]
    },
    {
     "name": "stdout",
     "output_type": "stream",
     "text": [
      "Track information loaded and ordered according to cell type (WT IDs >0> Scr IDs)\n",
      "Loaded ND0014/Pos5/\n",
      "Focal time not in frame\n",
      "ID ND0014_Pos5_488_GFP_frag experiment: ND0014/Pos5/\n",
      "Focal time not in frame\n",
      "ID ND0014_Pos5_1317_GFP_frag experiment: ND0014/Pos5/\n",
      "ID ND0014_Pos5_2535_GFP_frag experiment: ND0014/Pos5/\n",
      "Focal time not in frame\n",
      "ID ND0014_Pos7_1_GFP_frag experiment: ND0014/Pos7/\n",
      "Loading ND0014/Pos7/\n",
      "Btrack version no.: 0.5.0\n"
     ]
    },
    {
     "name": "stderr",
     "output_type": "stream",
     "text": [
      "[INFO][2022/06/02 06:37:54 AM] Loading objects/obj_type_1 (182289, 5) (182289 filtered: None)\n",
      "[INFO][2022/06/02 06:37:58 AM] Closing HDF file: /home/nathan/data/kraken/ras/ND0014/Pos7/tracks.h5\n",
      "[INFO][2022/06/02 06:37:58 AM] Opening HDF file: /home/nathan/data/kraken/ras/ND0014/Pos7/tracks.h5...\n",
      "[INFO][2022/06/02 06:37:58 AM] Loading tracks/obj_type_2\n",
      "[INFO][2022/06/02 06:37:58 AM] Loading objects/obj_type_2 (10574, 5) (10574 filtered: None)\n",
      "[INFO][2022/06/02 06:37:58 AM] Closing HDF file: /home/nathan/data/kraken/ras/ND0014/Pos7/tracks.h5\n",
      "[INFO][2022/06/02 06:37:58 AM] Opening HDF file: /home/nathan/data/kraken/ras/ND0014/Pos8/tracks.h5...\n",
      "[INFO][2022/06/02 06:37:58 AM] Loading tracks/obj_type_1\n",
      "[INFO][2022/06/02 06:37:59 AM] Loading objects/obj_type_1 (285628, 5) (285628 filtered: None)\n"
     ]
    },
    {
     "name": "stdout",
     "output_type": "stream",
     "text": [
      "Track information loaded and ordered according to cell type (WT IDs >0> Scr IDs)\n",
      "Loaded ND0014/Pos7/\n",
      "Focal time not in frame\n",
      "ID ND0014_Pos8_482_GFP experiment: ND0014/Pos8/\n",
      "Loading ND0014/Pos8/\n",
      "Btrack version no.: 0.5.0\n"
     ]
    },
    {
     "name": "stderr",
     "output_type": "stream",
     "text": [
      "[INFO][2022/06/02 06:38:04 AM] Closing HDF file: /home/nathan/data/kraken/ras/ND0014/Pos8/tracks.h5\n",
      "[INFO][2022/06/02 06:38:04 AM] Opening HDF file: /home/nathan/data/kraken/ras/ND0014/Pos8/tracks.h5...\n",
      "[INFO][2022/06/02 06:38:04 AM] Loading tracks/obj_type_2\n",
      "[INFO][2022/06/02 06:38:04 AM] Loading objects/obj_type_2 (29467, 5) (29467 filtered: None)\n",
      "[INFO][2022/06/02 06:38:05 AM] Closing HDF file: /home/nathan/data/kraken/ras/ND0014/Pos8/tracks.h5\n",
      "[INFO][2022/06/02 06:38:05 AM] Opening HDF file: /home/nathan/data/kraken/ras/ND0014/Pos9/tracks.h5...\n",
      "[INFO][2022/06/02 06:38:05 AM] Loading tracks/obj_type_1\n",
      "[INFO][2022/06/02 06:38:05 AM] Loading objects/obj_type_1 (444747, 5) (444747 filtered: None)\n"
     ]
    },
    {
     "name": "stdout",
     "output_type": "stream",
     "text": [
      "Track information loaded and ordered according to cell type (WT IDs >0> Scr IDs)\n",
      "Loaded ND0014/Pos8/\n",
      "Focal time not in frame\n",
      "ID ND0014_Pos8_481_GFP experiment: ND0014/Pos8/\n",
      "Focal time not in frame\n",
      "ID ND0014_Pos9_1_GFP experiment: ND0014/Pos9/\n",
      "Loading ND0014/Pos9/\n",
      "Btrack version no.: 0.5.0\n"
     ]
    },
    {
     "name": "stderr",
     "output_type": "stream",
     "text": [
      "[INFO][2022/06/02 06:38:14 AM] Closing HDF file: /home/nathan/data/kraken/ras/ND0014/Pos9/tracks.h5\n",
      "[INFO][2022/06/02 06:38:14 AM] Opening HDF file: /home/nathan/data/kraken/ras/ND0014/Pos9/tracks.h5...\n",
      "[INFO][2022/06/02 06:38:14 AM] Loading tracks/obj_type_2\n",
      "[INFO][2022/06/02 06:38:14 AM] Loading objects/obj_type_2 (7231, 5) (7231 filtered: None)\n",
      "[INFO][2022/06/02 06:38:14 AM] Closing HDF file: /home/nathan/data/kraken/ras/ND0014/Pos9/tracks.h5\n",
      "[INFO][2022/06/02 06:38:15 AM] Opening HDF file: /home/nathan/data/kraken/ras/ND0017/Pos7/tracks.h5...\n",
      "[INFO][2022/06/02 06:38:15 AM] Loading tracks/obj_type_1\n",
      "[INFO][2022/06/02 06:38:15 AM] Loading objects/obj_type_1 (470131, 5) (470131 filtered: None)\n"
     ]
    },
    {
     "name": "stdout",
     "output_type": "stream",
     "text": [
      "Track information loaded and ordered according to cell type (WT IDs >0> Scr IDs)\n",
      "Loaded ND0014/Pos9/\n",
      "Focal time not in frame\n",
      "ID ND0017_Pos7_1012_GFP_frag experiment: ND0017/Pos7/\n",
      "Loading ND0017/Pos7/\n",
      "Btrack version no.: 0.5.0\n"
     ]
    },
    {
     "name": "stderr",
     "output_type": "stream",
     "text": [
      "[INFO][2022/06/02 06:38:26 AM] Closing HDF file: /home/nathan/data/kraken/ras/ND0017/Pos7/tracks.h5\n",
      "[INFO][2022/06/02 06:38:26 AM] Opening HDF file: /home/nathan/data/kraken/ras/ND0017/Pos7/tracks.h5...\n",
      "[INFO][2022/06/02 06:38:26 AM] Loading tracks/obj_type_2\n",
      "[INFO][2022/06/02 06:38:26 AM] Loading objects/obj_type_2 (22567, 5) (22567 filtered: None)\n",
      "[INFO][2022/06/02 06:38:27 AM] Closing HDF file: /home/nathan/data/kraken/ras/ND0017/Pos7/tracks.h5\n",
      "[INFO][2022/06/02 06:38:27 AM] Opening HDF file: /home/nathan/data/kraken/ras/ND0021/Pos4/tracks.h5...\n",
      "[INFO][2022/06/02 06:38:27 AM] Loading tracks/obj_type_1\n"
     ]
    },
    {
     "name": "stdout",
     "output_type": "stream",
     "text": [
      "Track information loaded and ordered according to cell type (WT IDs >0> Scr IDs)\n",
      "Loaded ND0017/Pos7/\n",
      "ID ND0017_Pos7_547_GFP experiment: ND0017/Pos7/\n",
      "ID ND0017_Pos7_814_GFP experiment: ND0017/Pos7/\n",
      "ID ND0017_Pos7_1627_GFP_frag experiment: ND0017/Pos7/\n",
      "Focal time not in frame\n",
      "ID ND0017_Pos7_1627_GFP experiment: ND0017/Pos7/\n",
      "Focal time not in frame\n",
      "ID ND0021_Pos4_4_GFP experiment: ND0021/Pos4/\n",
      "Loading ND0021/Pos4/\n",
      "Btrack version no.: 0.5.0\n"
     ]
    },
    {
     "name": "stderr",
     "output_type": "stream",
     "text": [
      "[INFO][2022/06/02 06:38:27 AM] Loading objects/obj_type_1 (1488513, 5) (1488513 filtered: None)\n",
      "[INFO][2022/06/02 06:39:00 AM] Closing HDF file: /home/nathan/data/kraken/ras/ND0021/Pos4/tracks.h5\n",
      "[INFO][2022/06/02 06:39:00 AM] Opening HDF file: /home/nathan/data/kraken/ras/ND0021/Pos4/tracks.h5...\n",
      "[INFO][2022/06/02 06:39:00 AM] Loading tracks/obj_type_2\n",
      "[INFO][2022/06/02 06:39:00 AM] Loading objects/obj_type_2 (51348, 5) (51348 filtered: None)\n",
      "[INFO][2022/06/02 06:39:02 AM] Closing HDF file: /home/nathan/data/kraken/ras/ND0021/Pos4/tracks.h5\n",
      "[INFO][2022/06/02 06:39:02 AM] Opening HDF file: /home/nathan/data/kraken/ras/ND0021/Pos7/tracks.h5...\n",
      "[INFO][2022/06/02 06:39:02 AM] Loading tracks/obj_type_1\n"
     ]
    },
    {
     "name": "stdout",
     "output_type": "stream",
     "text": [
      "Track information loaded and ordered according to cell type (WT IDs >0> Scr IDs)\n",
      "Loaded ND0021/Pos4/\n",
      "Focal time not in frame\n",
      "ID ND0021_Pos7_321_GFP experiment: ND0021/Pos7/\n",
      "Loading ND0021/Pos7/\n",
      "Btrack version no.: 0.5.0\n"
     ]
    },
    {
     "name": "stderr",
     "output_type": "stream",
     "text": [
      "[INFO][2022/06/02 06:39:02 AM] Loading objects/obj_type_1 (1481271, 5) (1481271 filtered: None)\n",
      "[INFO][2022/06/02 06:39:33 AM] Closing HDF file: /home/nathan/data/kraken/ras/ND0021/Pos7/tracks.h5\n",
      "[INFO][2022/06/02 06:39:33 AM] Opening HDF file: /home/nathan/data/kraken/ras/ND0021/Pos7/tracks.h5...\n",
      "[INFO][2022/06/02 06:39:33 AM] Loading tracks/obj_type_2\n",
      "[INFO][2022/06/02 06:39:33 AM] Loading objects/obj_type_2 (38441, 5) (38441 filtered: None)\n",
      "[INFO][2022/06/02 06:39:34 AM] Closing HDF file: /home/nathan/data/kraken/ras/ND0021/Pos7/tracks.h5\n"
     ]
    },
    {
     "name": "stdout",
     "output_type": "stream",
     "text": [
      "Track information loaded and ordered according to cell type (WT IDs >0> Scr IDs)\n",
      "Loaded ND0021/Pos7/\n",
      "Focal time not in frame\n",
      "ID ND0021_Pos7_320_GFP experiment: ND0021/Pos7/\n",
      "Focal time not in frame\n",
      "ID ND0021_Pos7_177_GFP experiment: ND0021/Pos7/\n",
      "Focal time not in frame\n",
      "ID ND0021_Pos7_178_GFP experiment: ND0021/Pos7/\n",
      "Focal time not in frame\n",
      "ID ND0021_Pos7_507_GFP experiment: ND0021/Pos7/\n",
      "Focal time not in frame\n",
      "ID ND0021_Pos7_506_GFP experiment: ND0021/Pos7/\n"
     ]
    },
    {
     "name": "stderr",
     "output_type": "stream",
     "text": [
      "[INFO][2022/06/02 06:39:36 AM] Opening HDF file: /home/nathan/data/kraken/ras/ND0022/Pos3/tracks.h5...\n",
      "[INFO][2022/06/02 06:39:36 AM] Loading tracks/obj_type_1\n",
      "[INFO][2022/06/02 06:39:36 AM] Loading objects/obj_type_1 (404850, 5) (404850 filtered: None)\n"
     ]
    },
    {
     "name": "stdout",
     "output_type": "stream",
     "text": [
      "Focal time not in frame\n",
      "ID ND0021_Pos7_598_GFP experiment: ND0021/Pos7/\n",
      "Focal time not in frame\n",
      "ID ND0021_Pos7_599_GFP experiment: ND0021/Pos7/\n",
      "Focal time not in frame\n",
      "ID ND0022_Pos3_4_GFP_frag experiment: ND0022/Pos3/\n",
      "Loading ND0022/Pos3/\n",
      "Btrack version no.: 0.5.0\n"
     ]
    },
    {
     "name": "stderr",
     "output_type": "stream",
     "text": [
      "[INFO][2022/06/02 06:39:43 AM] Closing HDF file: /home/nathan/data/kraken/ras/ND0022/Pos3/tracks.h5\n",
      "[INFO][2022/06/02 06:39:43 AM] Opening HDF file: /home/nathan/data/kraken/ras/ND0022/Pos3/tracks.h5...\n",
      "[INFO][2022/06/02 06:39:43 AM] Loading tracks/obj_type_2\n",
      "[INFO][2022/06/02 06:39:43 AM] Loading objects/obj_type_2 (15790, 5) (15790 filtered: None)\n",
      "[INFO][2022/06/02 06:39:43 AM] Closing HDF file: /home/nathan/data/kraken/ras/ND0022/Pos3/tracks.h5\n"
     ]
    },
    {
     "name": "stdout",
     "output_type": "stream",
     "text": [
      "Track information loaded and ordered according to cell type (WT IDs >0> Scr IDs)\n",
      "Loaded ND0022/Pos3/\n"
     ]
    },
    {
     "name": "stderr",
     "output_type": "stream",
     "text": [
      "[INFO][2022/06/02 07:06:52 AM] Opening HDF file: /home/nathan/data/kraken/ras/ND0022/Pos4/tracks.h5...\n",
      "[INFO][2022/06/02 07:06:52 AM] Loading tracks/obj_type_1\n",
      "[INFO][2022/06/02 07:06:52 AM] Loading objects/obj_type_1 (813379, 5) (813379 filtered: None)\n"
     ]
    },
    {
     "name": "stdout",
     "output_type": "stream",
     "text": [
      "ID ND0022_Pos3_907_GFP_frag experiment: ND0022/Pos3/\n",
      "Focal time not in frame\n",
      "ID ND0022_Pos3_910_GFP_frag experiment: ND0022/Pos3/\n",
      "Focal time not in frame\n",
      "ID ND0022_Pos3_940_GFP_frag experiment: ND0022/Pos3/\n",
      "Focal time not in frame\n",
      "ID ND0022_Pos3_840_GFP_frag experiment: ND0022/Pos3/\n",
      "Focal time not in frame\n",
      "ID ND0022_Pos3_1158_GFP_frag experiment: ND0022/Pos3/\n",
      "Focal time not in frame\n",
      "ID ND0022_Pos3_1197_GFP_frag experiment: ND0022/Pos3/\n",
      "Focal time not in frame\n",
      "ID ND0022_Pos3_1226_GFP_frag experiment: ND0022/Pos3/\n",
      "Focal time not in frame\n",
      "ID ND0022_Pos3_976_GFP experiment: ND0022/Pos3/\n",
      "Focal time not in frame\n",
      "ID ND0022_Pos4_1812_GFP experiment: ND0022/Pos4/\n",
      "Loading ND0022/Pos4/\n",
      "Btrack version no.: 0.5.0\n"
     ]
    },
    {
     "name": "stderr",
     "output_type": "stream",
     "text": [
      "[INFO][2022/06/02 07:07:09 AM] Closing HDF file: /home/nathan/data/kraken/ras/ND0022/Pos4/tracks.h5\n",
      "[INFO][2022/06/02 07:07:09 AM] Opening HDF file: /home/nathan/data/kraken/ras/ND0022/Pos4/tracks.h5...\n",
      "[INFO][2022/06/02 07:07:09 AM] Loading tracks/obj_type_2\n",
      "[INFO][2022/06/02 07:07:09 AM] Loading objects/obj_type_2 (18889, 5) (18889 filtered: None)\n",
      "[INFO][2022/06/02 07:07:09 AM] Closing HDF file: /home/nathan/data/kraken/ras/ND0022/Pos4/tracks.h5\n"
     ]
    },
    {
     "name": "stdout",
     "output_type": "stream",
     "text": [
      "Track information loaded and ordered according to cell type (WT IDs >0> Scr IDs)\n",
      "Loaded ND0022/Pos4/\n",
      "ID ND0022_Pos4_643_GFP experiment: ND0022/Pos4/\n",
      "Focal time not in frame\n",
      "ID ND0022_Pos4_1486_GFP experiment: ND0022/Pos4/\n"
     ]
    },
    {
     "name": "stderr",
     "output_type": "stream",
     "text": [
      "[INFO][2022/06/02 07:42:57 AM] Opening HDF file: /home/nathan/data/kraken/ras/ND0022/Pos5/tracks.h5...\n",
      "[INFO][2022/06/02 07:42:57 AM] Loading tracks/obj_type_1\n",
      "[INFO][2022/06/02 07:42:57 AM] Loading objects/obj_type_1 (254578, 5) (254578 filtered: None)\n"
     ]
    },
    {
     "name": "stdout",
     "output_type": "stream",
     "text": [
      "ID ND0022_Pos5_2_GFP experiment: ND0022/Pos5/\n",
      "Loading ND0022/Pos5/\n",
      "Btrack version no.: 0.5.0\n"
     ]
    },
    {
     "name": "stderr",
     "output_type": "stream",
     "text": [
      "[INFO][2022/06/02 07:43:05 AM] Closing HDF file: /home/nathan/data/kraken/ras/ND0022/Pos5/tracks.h5\n",
      "[INFO][2022/06/02 07:43:05 AM] Opening HDF file: /home/nathan/data/kraken/ras/ND0022/Pos5/tracks.h5...\n",
      "[INFO][2022/06/02 07:43:05 AM] Loading tracks/obj_type_2\n",
      "[INFO][2022/06/02 07:43:05 AM] Loading objects/obj_type_2 (20446, 5) (20446 filtered: None)\n",
      "[INFO][2022/06/02 07:43:05 AM] Closing HDF file: /home/nathan/data/kraken/ras/ND0022/Pos5/tracks.h5\n"
     ]
    },
    {
     "name": "stdout",
     "output_type": "stream",
     "text": [
      "Track information loaded and ordered according to cell type (WT IDs >0> Scr IDs)\n",
      "Loaded ND0022/Pos5/\n",
      "Focal time not in frame\n",
      "ID ND0022_Pos5_1025_GFP_frag experiment: ND0022/Pos5/\n",
      "Focal time not in frame\n",
      "ID ND0022_Pos5_785_GFP experiment: ND0022/Pos5/\n",
      "Focal time not in frame\n",
      "ID ND0022_Pos5_782_GFP experiment: ND0022/Pos5/\n",
      "Focal time not in frame\n",
      "ID ND0022_Pos5_358_GFP experiment: ND0022/Pos5/\n"
     ]
    },
    {
     "name": "stderr",
     "output_type": "stream",
     "text": [
      "[INFO][2022/06/02 07:48:24 AM] Opening HDF file: /home/nathan/data/kraken/ras/ND0022/Pos6/tracks.h5...\n",
      "[INFO][2022/06/02 07:48:24 AM] Loading tracks/obj_type_1\n"
     ]
    },
    {
     "name": "stdout",
     "output_type": "stream",
     "text": [
      "ID ND0022_Pos5_262_GFP experiment: ND0022/Pos5/\n",
      "Focal time not in frame\n",
      "ID ND0022_Pos5_1205_GFP experiment: ND0022/Pos5/\n",
      "Focal time not in frame\n",
      "ID ND0022_Pos6_7_GFP_frag experiment: ND0022/Pos6/\n",
      "Loading ND0022/Pos6/\n",
      "Btrack version no.: 0.5.0\n"
     ]
    },
    {
     "name": "stderr",
     "output_type": "stream",
     "text": [
      "[INFO][2022/06/02 07:48:24 AM] Loading objects/obj_type_1 (1291409, 5) (1291409 filtered: None)\n",
      "[INFO][2022/06/02 07:48:47 AM] Closing HDF file: /home/nathan/data/kraken/ras/ND0022/Pos6/tracks.h5\n",
      "[INFO][2022/06/02 07:48:47 AM] Opening HDF file: /home/nathan/data/kraken/ras/ND0022/Pos6/tracks.h5...\n",
      "[INFO][2022/06/02 07:48:47 AM] Loading tracks/obj_type_2\n",
      "[INFO][2022/06/02 07:48:47 AM] Loading objects/obj_type_2 (15847, 5) (15847 filtered: None)\n",
      "[INFO][2022/06/02 07:48:47 AM] Closing HDF file: /home/nathan/data/kraken/ras/ND0022/Pos6/tracks.h5\n"
     ]
    },
    {
     "name": "stdout",
     "output_type": "stream",
     "text": [
      "Track information loaded and ordered according to cell type (WT IDs >0> Scr IDs)\n",
      "Loaded ND0022/Pos6/\n",
      "Focal time not in frame\n",
      "ID ND0022_Pos6_1_GFP experiment: ND0022/Pos6/\n"
     ]
    },
    {
     "name": "stderr",
     "output_type": "stream",
     "text": [
      "[INFO][2022/06/02 09:00:41 AM] Opening HDF file: /home/nathan/data/kraken/ras/ND0022/Pos7/tracks.h5...\n",
      "[INFO][2022/06/02 09:00:41 AM] Loading tracks/obj_type_1\n",
      "[INFO][2022/06/02 09:00:41 AM] Loading objects/obj_type_1 (465089, 5) (465089 filtered: None)\n"
     ]
    },
    {
     "name": "stdout",
     "output_type": "stream",
     "text": [
      "ID ND0022_Pos7_15_GFP experiment: ND0022/Pos7/\n",
      "Loading ND0022/Pos7/\n",
      "Btrack version no.: 0.5.0\n"
     ]
    },
    {
     "name": "stderr",
     "output_type": "stream",
     "text": [
      "[INFO][2022/06/02 09:00:51 AM] Closing HDF file: /home/nathan/data/kraken/ras/ND0022/Pos7/tracks.h5\n",
      "[INFO][2022/06/02 09:00:51 AM] Opening HDF file: /home/nathan/data/kraken/ras/ND0022/Pos7/tracks.h5...\n",
      "[INFO][2022/06/02 09:00:51 AM] Loading tracks/obj_type_2\n",
      "[INFO][2022/06/02 09:00:51 AM] Loading objects/obj_type_2 (14348, 5) (14348 filtered: None)\n",
      "[INFO][2022/06/02 09:00:51 AM] Closing HDF file: /home/nathan/data/kraken/ras/ND0022/Pos7/tracks.h5\n"
     ]
    },
    {
     "name": "stdout",
     "output_type": "stream",
     "text": [
      "Track information loaded and ordered according to cell type (WT IDs >0> Scr IDs)\n",
      "Loaded ND0022/Pos7/\n",
      "Focal time not in frame\n",
      "ID ND0022_Pos7_728_GFP experiment: ND0022/Pos7/\n",
      "Focal time not in frame\n",
      "ID ND0022_Pos7_1125_GFP_frag experiment: ND0022/Pos7/\n",
      "Focal time not in frame\n",
      "ID ND0022_Pos7_1113_GFP_frag experiment: ND0022/Pos7/\n",
      "Focal time not in frame\n",
      "ID ND0022_Pos7_1112_GFP_frag experiment: ND0022/Pos7/\n",
      "Focal time not in frame\n",
      "ID ND0022_Pos7_1842_GFP_frag experiment: ND0022/Pos7/\n",
      "Focal time not in frame\n",
      "ID ND0022_Pos7_1841_GFP_frag experiment: ND0022/Pos7/\n",
      "Focal time not in frame\n",
      "ID ND0022_Pos7_1062_GFP experiment: ND0022/Pos7/\n",
      "Focal time not in frame\n",
      "ID ND0022_Pos7_1104_GFP experiment: ND0022/Pos7/\n",
      "ID ND0022_Pos7_1226_GFP experiment: ND0022/Pos7/\n"
     ]
    },
    {
     "name": "stderr",
     "output_type": "stream",
     "text": [
      "[INFO][2022/06/02 09:08:21 AM] Opening HDF file: /home/nathan/data/kraken/ras/ND0024/Pos3/tracks.h5...\n",
      "[INFO][2022/06/02 09:08:21 AM] Loading tracks/obj_type_1\n",
      "[INFO][2022/06/02 09:08:21 AM] Loading objects/obj_type_1 (636597, 5) (636597 filtered: None)\n"
     ]
    },
    {
     "name": "stdout",
     "output_type": "stream",
     "text": [
      "ID ND0022_Pos7_2017_GFP_frag experiment: ND0022/Pos7/\n",
      "Focal time not in frame\n",
      "ID ND0024_Pos3_320_GFP experiment: ND0024/Pos3/\n",
      "Loading ND0024/Pos3/\n",
      "Btrack version no.: 0.5.0\n"
     ]
    },
    {
     "name": "stderr",
     "output_type": "stream",
     "text": [
      "[INFO][2022/06/02 09:08:34 AM] Closing HDF file: /home/nathan/data/kraken/ras/ND0024/Pos3/tracks.h5\n",
      "[INFO][2022/06/02 09:08:34 AM] Opening HDF file: /home/nathan/data/kraken/ras/ND0024/Pos3/tracks.h5...\n",
      "[INFO][2022/06/02 09:08:34 AM] Loading tracks/obj_type_2\n",
      "[INFO][2022/06/02 09:08:34 AM] Loading objects/obj_type_2 (16475, 5) (16475 filtered: None)\n",
      "[INFO][2022/06/02 09:08:35 AM] Closing HDF file: /home/nathan/data/kraken/ras/ND0024/Pos3/tracks.h5\n"
     ]
    },
    {
     "name": "stdout",
     "output_type": "stream",
     "text": [
      "Track information loaded and ordered according to cell type (WT IDs >0> Scr IDs)\n",
      "Loaded ND0024/Pos3/\n"
     ]
    },
    {
     "name": "stderr",
     "output_type": "stream",
     "text": [
      "[INFO][2022/06/02 09:18:03 AM] Opening HDF file: /home/nathan/data/kraken/ras/ND0024/Pos4/tracks.h5...\n",
      "[INFO][2022/06/02 09:18:03 AM] Loading tracks/obj_type_1\n",
      "[INFO][2022/06/02 09:18:03 AM] Loading objects/obj_type_1 (586398, 5) (586398 filtered: None)\n"
     ]
    },
    {
     "name": "stdout",
     "output_type": "stream",
     "text": [
      "ID ND0024_Pos4_276_GFP experiment: ND0024/Pos4/\n",
      "Loading ND0024/Pos4/\n",
      "Btrack version no.: 0.5.0\n"
     ]
    },
    {
     "name": "stderr",
     "output_type": "stream",
     "text": [
      "[INFO][2022/06/02 09:18:16 AM] Closing HDF file: /home/nathan/data/kraken/ras/ND0024/Pos4/tracks.h5\n",
      "[INFO][2022/06/02 09:18:16 AM] Opening HDF file: /home/nathan/data/kraken/ras/ND0024/Pos4/tracks.h5...\n",
      "[INFO][2022/06/02 09:18:16 AM] Loading tracks/obj_type_2\n",
      "[INFO][2022/06/02 09:18:16 AM] Loading objects/obj_type_2 (33390, 5) (33390 filtered: None)\n",
      "[INFO][2022/06/02 09:18:16 AM] Closing HDF file: /home/nathan/data/kraken/ras/ND0024/Pos4/tracks.h5\n",
      "[INFO][2022/06/02 09:18:17 AM] Opening HDF file: /home/nathan/data/kraken/ras/ND0024/Pos5/tracks.h5...\n",
      "[INFO][2022/06/02 09:18:17 AM] Loading tracks/obj_type_1\n"
     ]
    },
    {
     "name": "stdout",
     "output_type": "stream",
     "text": [
      "Track information loaded and ordered according to cell type (WT IDs >0> Scr IDs)\n",
      "Loaded ND0024/Pos4/\n",
      "Focal time not in frame\n",
      "ID ND0024_Pos4_1349_GFP experiment: ND0024/Pos4/\n",
      "Focal time not in frame\n",
      "ID ND0024_Pos4_1570_GFP experiment: ND0024/Pos4/\n",
      "Focal time not in frame\n",
      "ID ND0024_Pos4_1881_GFP experiment: ND0024/Pos4/\n",
      "Focal time not in frame\n",
      "ID ND0024_Pos4_1306_GFP experiment: ND0024/Pos4/\n",
      "Focal time not in frame\n",
      "ID ND0024_Pos4_3228_GFP_frag experiment: ND0024/Pos4/\n",
      "Focal time not in frame\n",
      "ID ND0024_Pos4_3162_GFP_frag experiment: ND0024/Pos4/\n",
      "Focal time not in frame\n",
      "ID ND0024_Pos4_1264_GFP experiment: ND0024/Pos4/\n",
      "Focal time not in frame\n",
      "ID ND0024_Pos4_2890_GFP_frag experiment: ND0024/Pos4/\n",
      "ID ND0024_Pos5_675_GFP_frag experiment: ND0024/Pos5/\n",
      "Loading ND0024/Pos5/\n",
      "Btrack version no.: 0.5.0\n"
     ]
    },
    {
     "name": "stderr",
     "output_type": "stream",
     "text": [
      "[INFO][2022/06/02 09:18:17 AM] Loading objects/obj_type_1 (418489, 5) (418489 filtered: None)\n",
      "[INFO][2022/06/02 09:18:26 AM] Closing HDF file: /home/nathan/data/kraken/ras/ND0024/Pos5/tracks.h5\n",
      "[INFO][2022/06/02 09:18:26 AM] Opening HDF file: /home/nathan/data/kraken/ras/ND0024/Pos5/tracks.h5...\n",
      "[INFO][2022/06/02 09:18:26 AM] Loading tracks/obj_type_2\n",
      "[INFO][2022/06/02 09:18:26 AM] Loading objects/obj_type_2 (14355, 5) (14355 filtered: None)\n",
      "[INFO][2022/06/02 09:18:26 AM] Closing HDF file: /home/nathan/data/kraken/ras/ND0024/Pos5/tracks.h5\n",
      "[INFO][2022/06/02 09:18:27 AM] Opening HDF file: /home/nathan/data/kraken/ras/ND0024/Pos6/tracks.h5...\n",
      "[INFO][2022/06/02 09:18:27 AM] Loading tracks/obj_type_1\n"
     ]
    },
    {
     "name": "stdout",
     "output_type": "stream",
     "text": [
      "Track information loaded and ordered according to cell type (WT IDs >0> Scr IDs)\n",
      "Loaded ND0024/Pos5/\n",
      "Focal time not in frame\n",
      "ID ND0024_Pos5_1053_GFP experiment: ND0024/Pos5/\n",
      "Focal time not in frame\n",
      "ID ND0024_Pos5_1179_GFP experiment: ND0024/Pos5/\n",
      "Focal time not in frame\n",
      "ID ND0024_Pos5_1183_GFP experiment: ND0024/Pos5/\n",
      "Focal time not in frame\n",
      "ID ND0024_Pos5_1092_GFP_frag experiment: ND0024/Pos5/\n",
      "Focal time not in frame\n",
      "ID ND0024_Pos6_7_GFP experiment: ND0024/Pos6/\n",
      "Loading ND0024/Pos6/\n",
      "Btrack version no.: 0.5.0\n"
     ]
    },
    {
     "name": "stderr",
     "output_type": "stream",
     "text": [
      "[INFO][2022/06/02 09:18:27 AM] Loading objects/obj_type_1 (484009, 5) (484009 filtered: None)\n",
      "[INFO][2022/06/02 09:18:40 AM] Closing HDF file: /home/nathan/data/kraken/ras/ND0024/Pos6/tracks.h5\n",
      "[INFO][2022/06/02 09:18:40 AM] Opening HDF file: /home/nathan/data/kraken/ras/ND0024/Pos6/tracks.h5...\n",
      "[INFO][2022/06/02 09:18:40 AM] Loading tracks/obj_type_2\n",
      "[INFO][2022/06/02 09:18:40 AM] Loading objects/obj_type_2 (46805, 5) (46805 filtered: None)\n",
      "[INFO][2022/06/02 09:18:41 AM] Closing HDF file: /home/nathan/data/kraken/ras/ND0024/Pos6/tracks.h5\n"
     ]
    },
    {
     "name": "stdout",
     "output_type": "stream",
     "text": [
      "Track information loaded and ordered according to cell type (WT IDs >0> Scr IDs)\n",
      "Loaded ND0024/Pos6/\n",
      "Focal time not in frame\n",
      "ID ND0024_Pos6_473_GFP experiment: ND0024/Pos6/\n",
      "Focal time not in frame\n",
      "ID ND0024_Pos6_638_GFP experiment: ND0024/Pos6/\n",
      "Focal time not in frame\n",
      "ID ND0024_Pos6_775_GFP_frag experiment: ND0024/Pos6/\n",
      "ID ND0024_Pos6_776_GFP_frag experiment: ND0024/Pos6/\n",
      "Focal time not in frame\n",
      "ID ND0024_Pos6_639_GFP experiment: ND0024/Pos6/\n",
      "Focal time not in frame\n",
      "ID ND0024_Pos6_754_GFP experiment: ND0024/Pos6/\n",
      "Focal time not in frame\n",
      "ID ND0024_Pos6_1145_GFP_frag experiment: ND0024/Pos6/\n",
      "Focal time not in frame\n",
      "ID ND0024_Pos6_406_GFP experiment: ND0024/Pos6/\n",
      "Focal time not in frame\n",
      "ID ND0024_Pos6_812_GFP experiment: ND0024/Pos6/\n",
      "Focal time not in frame\n",
      "ID ND0024_Pos6_1353_GFP_frag experiment: ND0024/Pos6/\n"
     ]
    },
    {
     "name": "stderr",
     "output_type": "stream",
     "text": [
      "[INFO][2022/06/02 09:18:42 AM] Opening HDF file: /home/nathan/data/kraken/ras/ND0024/Pos7/tracks.h5...\n",
      "[INFO][2022/06/02 09:18:42 AM] Loading tracks/obj_type_1\n",
      "[INFO][2022/06/02 09:18:42 AM] Loading objects/obj_type_1 (296680, 5) (296680 filtered: None)\n"
     ]
    },
    {
     "name": "stdout",
     "output_type": "stream",
     "text": [
      "Focal time not in frame\n",
      "ID ND0024_Pos6_1354_GFP_frag experiment: ND0024/Pos6/\n",
      "Focal time not in frame\n",
      "ID ND0024_Pos7_8_GFP experiment: ND0024/Pos7/\n",
      "Loading ND0024/Pos7/\n",
      "Btrack version no.: 0.5.0\n"
     ]
    },
    {
     "name": "stderr",
     "output_type": "stream",
     "text": [
      "[INFO][2022/06/02 09:18:49 AM] Closing HDF file: /home/nathan/data/kraken/ras/ND0024/Pos7/tracks.h5\n",
      "[INFO][2022/06/02 09:18:49 AM] Opening HDF file: /home/nathan/data/kraken/ras/ND0024/Pos7/tracks.h5...\n",
      "[INFO][2022/06/02 09:18:49 AM] Loading tracks/obj_type_2\n",
      "[INFO][2022/06/02 09:18:49 AM] Loading objects/obj_type_2 (11337, 5) (11337 filtered: None)\n",
      "[INFO][2022/06/02 09:18:49 AM] Closing HDF file: /home/nathan/data/kraken/ras/ND0024/Pos7/tracks.h5\n",
      "[INFO][2022/06/02 09:18:50 AM] Opening HDF file: /home/nathan/data/kraken/ras/ND0025/Pos3/tracks.h5...\n",
      "[INFO][2022/06/02 09:18:50 AM] Loading tracks/obj_type_1\n",
      "[INFO][2022/06/02 09:18:50 AM] Loading objects/obj_type_1 (200555, 5) (200555 filtered: None)\n"
     ]
    },
    {
     "name": "stdout",
     "output_type": "stream",
     "text": [
      "Track information loaded and ordered according to cell type (WT IDs >0> Scr IDs)\n",
      "Loaded ND0024/Pos7/\n",
      "Focal time not in frame\n",
      "ID ND0025_Pos3_2_GFP experiment: ND0025/Pos3/\n",
      "Loading ND0025/Pos3/\n",
      "Btrack version no.: 0.5.0\n"
     ]
    },
    {
     "name": "stderr",
     "output_type": "stream",
     "text": [
      "[INFO][2022/06/02 09:18:53 AM] Closing HDF file: /home/nathan/data/kraken/ras/ND0025/Pos3/tracks.h5\n",
      "[INFO][2022/06/02 09:18:53 AM] Opening HDF file: /home/nathan/data/kraken/ras/ND0025/Pos3/tracks.h5...\n",
      "[INFO][2022/06/02 09:18:53 AM] Loading tracks/obj_type_2\n",
      "[INFO][2022/06/02 09:18:54 AM] Loading objects/obj_type_2 (4490, 5) (4490 filtered: None)\n",
      "[INFO][2022/06/02 09:18:56 AM] Closing HDF file: /home/nathan/data/kraken/ras/ND0025/Pos3/tracks.h5\n"
     ]
    },
    {
     "name": "stdout",
     "output_type": "stream",
     "text": [
      "Track information loaded and ordered according to cell type (WT IDs >0> Scr IDs)\n"
     ]
    },
    {
     "name": "stderr",
     "output_type": "stream",
     "text": [
      "[INFO][2022/06/02 09:18:56 AM] Opening HDF file: /home/nathan/data/kraken/ras/ND0025/Pos4/tracks.h5...\n",
      "[INFO][2022/06/02 09:18:56 AM] Loading tracks/obj_type_1\n",
      "[INFO][2022/06/02 09:18:56 AM] Loading objects/obj_type_1 (180679, 5) (180679 filtered: None)\n"
     ]
    },
    {
     "name": "stdout",
     "output_type": "stream",
     "text": [
      "Loaded ND0025/Pos3/\n",
      "Focal time not in frame\n",
      "ID ND0025_Pos4_1275_GFP_frag experiment: ND0025/Pos4/\n",
      "Loading ND0025/Pos4/\n",
      "Btrack version no.: 0.5.0\n"
     ]
    },
    {
     "name": "stderr",
     "output_type": "stream",
     "text": [
      "[INFO][2022/06/02 09:18:59 AM] Closing HDF file: /home/nathan/data/kraken/ras/ND0025/Pos4/tracks.h5\n",
      "[INFO][2022/06/02 09:18:59 AM] Opening HDF file: /home/nathan/data/kraken/ras/ND0025/Pos4/tracks.h5...\n",
      "[INFO][2022/06/02 09:18:59 AM] Loading tracks/obj_type_2\n",
      "[INFO][2022/06/02 09:18:59 AM] Loading objects/obj_type_2 (10302, 5) (10302 filtered: None)\n",
      "[INFO][2022/06/02 09:18:59 AM] Closing HDF file: /home/nathan/data/kraken/ras/ND0025/Pos4/tracks.h5\n",
      "[INFO][2022/06/02 09:18:59 AM] Opening HDF file: /home/nathan/data/kraken/ras/ND0025/Pos6/tracks.h5...\n",
      "[INFO][2022/06/02 09:18:59 AM] Loading tracks/obj_type_1\n",
      "[INFO][2022/06/02 09:18:59 AM] Loading objects/obj_type_1 (392143, 5) (392143 filtered: None)\n"
     ]
    },
    {
     "name": "stdout",
     "output_type": "stream",
     "text": [
      "Track information loaded and ordered according to cell type (WT IDs >0> Scr IDs)\n",
      "Loaded ND0025/Pos4/\n",
      "Focal time not in frame\n",
      "ID ND0025_Pos4_26_GFP experiment: ND0025/Pos4/\n",
      "Focal time not in frame\n",
      "ID ND0025_Pos4_207_GFP experiment: ND0025/Pos4/\n",
      "Focal time not in frame\n",
      "ID ND0025_Pos6_696_GFP_frag experiment: ND0025/Pos6/\n",
      "Loading ND0025/Pos6/\n",
      "Btrack version no.: 0.5.0\n"
     ]
    },
    {
     "name": "stderr",
     "output_type": "stream",
     "text": [
      "[INFO][2022/06/02 09:19:09 AM] Closing HDF file: /home/nathan/data/kraken/ras/ND0025/Pos6/tracks.h5\n",
      "[INFO][2022/06/02 09:19:09 AM] Opening HDF file: /home/nathan/data/kraken/ras/ND0025/Pos6/tracks.h5...\n",
      "[INFO][2022/06/02 09:19:09 AM] Loading tracks/obj_type_2\n",
      "[INFO][2022/06/02 09:19:09 AM] Loading objects/obj_type_2 (5950, 5) (5950 filtered: None)\n",
      "[INFO][2022/06/02 09:19:09 AM] Closing HDF file: /home/nathan/data/kraken/ras/ND0025/Pos6/tracks.h5\n"
     ]
    },
    {
     "name": "stdout",
     "output_type": "stream",
     "text": [
      "Track information loaded and ordered according to cell type (WT IDs >0> Scr IDs)\n",
      "Loaded ND0025/Pos6/\n",
      "Focal time not in frame\n",
      "ID ND0025_Pos6_634_GFP experiment: ND0025/Pos6/\n",
      "Focal time not in frame\n",
      "1600 1600\n"
     ]
    },
    {
     "data": {
      "application/vnd.jupyter.widget-view+json": {
       "model_id": "a280e06d606346ceb7592675330cb47e",
       "version_major": 2,
       "version_minor": 0
      },
      "text/plain": [
       "  0%|          | 0/91 [00:00<?, ?it/s]"
      ]
     },
     "metadata": {},
     "output_type": "display_data"
    },
    {
     "name": "stderr",
     "output_type": "stream",
     "text": [
      "[INFO][2022/06/02 09:19:10 AM] Opening HDF file: /home/nathan/data/kraken/ras/ND0025/Pos7/tracks.h5...\n",
      "[INFO][2022/06/02 09:19:10 AM] Loading tracks/obj_type_1\n",
      "[INFO][2022/06/02 09:19:11 AM] Loading objects/obj_type_1 (197115, 5) (197115 filtered: None)\n"
     ]
    },
    {
     "name": "stdout",
     "output_type": "stream",
     "text": [
      "ID ND0025_Pos7_930_GFP experiment: ND0025/Pos7/\n",
      "Loading ND0025/Pos7/\n",
      "Btrack version no.: 0.5.0\n"
     ]
    },
    {
     "name": "stderr",
     "output_type": "stream",
     "text": [
      "[INFO][2022/06/02 09:19:14 AM] Closing HDF file: /home/nathan/data/kraken/ras/ND0025/Pos7/tracks.h5\n",
      "[INFO][2022/06/02 09:19:14 AM] Opening HDF file: /home/nathan/data/kraken/ras/ND0025/Pos7/tracks.h5...\n",
      "[INFO][2022/06/02 09:19:14 AM] Loading tracks/obj_type_2\n",
      "[INFO][2022/06/02 09:19:14 AM] Loading objects/obj_type_2 (12464, 5) (12464 filtered: None)\n",
      "[INFO][2022/06/02 09:19:14 AM] Closing HDF file: /home/nathan/data/kraken/ras/ND0025/Pos7/tracks.h5\n",
      "[INFO][2022/06/02 09:19:14 AM] Opening HDF file: /home/nathan/data/kraken/ras/ND0025/Pos5/tracks.h5...\n",
      "[INFO][2022/06/02 09:19:14 AM] Loading tracks/obj_type_1\n",
      "[INFO][2022/06/02 09:19:14 AM] Loading objects/obj_type_1 (419463, 5) (419463 filtered: None)\n"
     ]
    },
    {
     "name": "stdout",
     "output_type": "stream",
     "text": [
      "Track information loaded and ordered according to cell type (WT IDs >0> Scr IDs)\n",
      "Loaded ND0025/Pos7/\n",
      "Focal time not in frame\n",
      "ID ND0025_Pos7_958_GFP experiment: ND0025/Pos7/\n",
      "Focal time not in frame\n",
      "ID ND0025_Pos5_1_GFP experiment: ND0025/Pos5/\n",
      "Loading ND0025/Pos5/\n",
      "Btrack version no.: 0.5.0\n"
     ]
    },
    {
     "name": "stderr",
     "output_type": "stream",
     "text": [
      "[INFO][2022/06/02 09:19:22 AM] Closing HDF file: /home/nathan/data/kraken/ras/ND0025/Pos5/tracks.h5\n",
      "[INFO][2022/06/02 09:19:22 AM] Opening HDF file: /home/nathan/data/kraken/ras/ND0025/Pos5/tracks.h5...\n",
      "[INFO][2022/06/02 09:19:22 AM] Loading tracks/obj_type_2\n",
      "[INFO][2022/06/02 09:19:22 AM] Loading objects/obj_type_2 (7218, 5) (7218 filtered: None)\n",
      "[INFO][2022/06/02 09:19:22 AM] Closing HDF file: /home/nathan/data/kraken/ras/ND0025/Pos5/tracks.h5\n"
     ]
    },
    {
     "name": "stdout",
     "output_type": "stream",
     "text": [
      "Track information loaded and ordered according to cell type (WT IDs >0> Scr IDs)\n",
      "Loaded ND0025/Pos5/\n"
     ]
    },
    {
     "name": "stderr",
     "output_type": "stream",
     "text": [
      "[INFO][2022/06/02 09:23:26 AM] Opening HDF file: /home/nathan/data/kraken/ras/ND0014/Pos5/tracks.h5...\n",
      "[INFO][2022/06/02 09:23:26 AM] Loading tracks/obj_type_1\n"
     ]
    },
    {
     "name": "stdout",
     "output_type": "stream",
     "text": [
      "ID ND0014_Pos5_11_GFP experiment: ND0014/Pos5/\n",
      "Loading ND0014/Pos5/\n",
      "Btrack version no.: 0.5.0\n"
     ]
    },
    {
     "name": "stderr",
     "output_type": "stream",
     "text": [
      "[INFO][2022/06/02 09:23:26 AM] Loading objects/obj_type_1 (249924, 5) (249924 filtered: None)\n",
      "[INFO][2022/06/02 09:23:35 AM] Closing HDF file: /home/nathan/data/kraken/ras/ND0014/Pos5/tracks.h5\n",
      "[INFO][2022/06/02 09:23:35 AM] Opening HDF file: /home/nathan/data/kraken/ras/ND0014/Pos5/tracks.h5...\n",
      "[INFO][2022/06/02 09:23:35 AM] Loading tracks/obj_type_2\n",
      "[INFO][2022/06/02 09:23:35 AM] Loading objects/obj_type_2 (62283, 5) (62283 filtered: None)\n",
      "[INFO][2022/06/02 09:23:38 AM] Closing HDF file: /home/nathan/data/kraken/ras/ND0014/Pos5/tracks.h5\n",
      "[INFO][2022/06/02 09:23:38 AM] Opening HDF file: /home/nathan/data/kraken/ras/ND0014/Pos7/tracks.h5...\n",
      "[INFO][2022/06/02 09:23:38 AM] Loading tracks/obj_type_1\n"
     ]
    },
    {
     "name": "stdout",
     "output_type": "stream",
     "text": [
      "Track information loaded and ordered according to cell type (WT IDs >0> Scr IDs)\n",
      "Loaded ND0014/Pos5/\n",
      "Focal time not in frame\n",
      "ID ND0014_Pos5_488_GFP_frag experiment: ND0014/Pos5/\n",
      "Focal time not in frame\n",
      "ID ND0014_Pos5_1317_GFP_frag experiment: ND0014/Pos5/\n",
      "ID ND0014_Pos5_2535_GFP_frag experiment: ND0014/Pos5/\n",
      "Focal time not in frame\n",
      "ID ND0014_Pos7_1_GFP_frag experiment: ND0014/Pos7/\n",
      "Loading ND0014/Pos7/\n",
      "Btrack version no.: 0.5.0\n"
     ]
    },
    {
     "name": "stderr",
     "output_type": "stream",
     "text": [
      "[INFO][2022/06/02 09:23:38 AM] Loading objects/obj_type_1 (182289, 5) (182289 filtered: None)\n",
      "[INFO][2022/06/02 09:23:43 AM] Closing HDF file: /home/nathan/data/kraken/ras/ND0014/Pos7/tracks.h5\n",
      "[INFO][2022/06/02 09:23:43 AM] Opening HDF file: /home/nathan/data/kraken/ras/ND0014/Pos7/tracks.h5...\n",
      "[INFO][2022/06/02 09:23:43 AM] Loading tracks/obj_type_2\n",
      "[INFO][2022/06/02 09:23:43 AM] Loading objects/obj_type_2 (10574, 5) (10574 filtered: None)\n",
      "[INFO][2022/06/02 09:23:43 AM] Closing HDF file: /home/nathan/data/kraken/ras/ND0014/Pos7/tracks.h5\n",
      "[INFO][2022/06/02 09:23:43 AM] Opening HDF file: /home/nathan/data/kraken/ras/ND0014/Pos8/tracks.h5...\n",
      "[INFO][2022/06/02 09:23:43 AM] Loading tracks/obj_type_1\n",
      "[INFO][2022/06/02 09:23:43 AM] Loading objects/obj_type_1 (285628, 5) (285628 filtered: None)\n"
     ]
    },
    {
     "name": "stdout",
     "output_type": "stream",
     "text": [
      "Track information loaded and ordered according to cell type (WT IDs >0> Scr IDs)\n",
      "Loaded ND0014/Pos7/\n",
      "Focal time not in frame\n",
      "ID ND0014_Pos8_482_GFP experiment: ND0014/Pos8/\n",
      "Loading ND0014/Pos8/\n",
      "Btrack version no.: 0.5.0\n"
     ]
    },
    {
     "name": "stderr",
     "output_type": "stream",
     "text": [
      "[INFO][2022/06/02 09:23:50 AM] Closing HDF file: /home/nathan/data/kraken/ras/ND0014/Pos8/tracks.h5\n",
      "[INFO][2022/06/02 09:23:50 AM] Opening HDF file: /home/nathan/data/kraken/ras/ND0014/Pos8/tracks.h5...\n",
      "[INFO][2022/06/02 09:23:50 AM] Loading tracks/obj_type_2\n",
      "[INFO][2022/06/02 09:23:50 AM] Loading objects/obj_type_2 (29467, 5) (29467 filtered: None)\n",
      "[INFO][2022/06/02 09:23:50 AM] Closing HDF file: /home/nathan/data/kraken/ras/ND0014/Pos8/tracks.h5\n"
     ]
    },
    {
     "name": "stdout",
     "output_type": "stream",
     "text": [
      "Track information loaded and ordered according to cell type (WT IDs >0> Scr IDs)\n"
     ]
    },
    {
     "name": "stderr",
     "output_type": "stream",
     "text": [
      "[INFO][2022/06/02 09:23:50 AM] Opening HDF file: /home/nathan/data/kraken/ras/ND0014/Pos9/tracks.h5...\n",
      "[INFO][2022/06/02 09:23:50 AM] Loading tracks/obj_type_1\n",
      "[INFO][2022/06/02 09:23:51 AM] Loading objects/obj_type_1 (444747, 5) (444747 filtered: None)\n"
     ]
    },
    {
     "name": "stdout",
     "output_type": "stream",
     "text": [
      "Loaded ND0014/Pos8/\n",
      "Focal time not in frame\n",
      "ID ND0014_Pos8_481_GFP experiment: ND0014/Pos8/\n",
      "Focal time not in frame\n",
      "ID ND0014_Pos9_1_GFP experiment: ND0014/Pos9/\n",
      "Loading ND0014/Pos9/\n",
      "Btrack version no.: 0.5.0\n"
     ]
    },
    {
     "name": "stderr",
     "output_type": "stream",
     "text": [
      "[INFO][2022/06/02 09:24:00 AM] Closing HDF file: /home/nathan/data/kraken/ras/ND0014/Pos9/tracks.h5\n",
      "[INFO][2022/06/02 09:24:00 AM] Opening HDF file: /home/nathan/data/kraken/ras/ND0014/Pos9/tracks.h5...\n",
      "[INFO][2022/06/02 09:24:00 AM] Loading tracks/obj_type_2\n",
      "[INFO][2022/06/02 09:24:00 AM] Loading objects/obj_type_2 (7231, 5) (7231 filtered: None)\n",
      "[INFO][2022/06/02 09:24:00 AM] Closing HDF file: /home/nathan/data/kraken/ras/ND0014/Pos9/tracks.h5\n",
      "[INFO][2022/06/02 09:24:01 AM] Opening HDF file: /home/nathan/data/kraken/ras/ND0017/Pos7/tracks.h5...\n",
      "[INFO][2022/06/02 09:24:01 AM] Loading tracks/obj_type_1\n",
      "[INFO][2022/06/02 09:24:01 AM] Loading objects/obj_type_1 (470131, 5) (470131 filtered: None)\n"
     ]
    },
    {
     "name": "stdout",
     "output_type": "stream",
     "text": [
      "Track information loaded and ordered according to cell type (WT IDs >0> Scr IDs)\n",
      "Loaded ND0014/Pos9/\n",
      "Focal time not in frame\n",
      "ID ND0017_Pos7_1012_GFP_frag experiment: ND0017/Pos7/\n",
      "Loading ND0017/Pos7/\n",
      "Btrack version no.: 0.5.0\n"
     ]
    },
    {
     "name": "stderr",
     "output_type": "stream",
     "text": [
      "[INFO][2022/06/02 09:24:11 AM] Closing HDF file: /home/nathan/data/kraken/ras/ND0017/Pos7/tracks.h5\n",
      "[INFO][2022/06/02 09:24:11 AM] Opening HDF file: /home/nathan/data/kraken/ras/ND0017/Pos7/tracks.h5...\n",
      "[INFO][2022/06/02 09:24:11 AM] Loading tracks/obj_type_2\n",
      "[INFO][2022/06/02 09:24:11 AM] Loading objects/obj_type_2 (22567, 5) (22567 filtered: None)\n",
      "[INFO][2022/06/02 09:24:12 AM] Closing HDF file: /home/nathan/data/kraken/ras/ND0017/Pos7/tracks.h5\n",
      "[INFO][2022/06/02 09:24:12 AM] Opening HDF file: /home/nathan/data/kraken/ras/ND0021/Pos4/tracks.h5...\n",
      "[INFO][2022/06/02 09:24:12 AM] Loading tracks/obj_type_1\n"
     ]
    },
    {
     "name": "stdout",
     "output_type": "stream",
     "text": [
      "Track information loaded and ordered according to cell type (WT IDs >0> Scr IDs)\n",
      "Loaded ND0017/Pos7/\n",
      "ID ND0017_Pos7_547_GFP experiment: ND0017/Pos7/\n",
      "ID ND0017_Pos7_814_GFP experiment: ND0017/Pos7/\n",
      "ID ND0017_Pos7_1627_GFP_frag experiment: ND0017/Pos7/\n",
      "Focal time not in frame\n",
      "ID ND0017_Pos7_1627_GFP experiment: ND0017/Pos7/\n",
      "Focal time not in frame\n",
      "ID ND0021_Pos4_4_GFP experiment: ND0021/Pos4/\n",
      "Loading ND0021/Pos4/\n",
      "Btrack version no.: 0.5.0\n"
     ]
    },
    {
     "name": "stderr",
     "output_type": "stream",
     "text": [
      "[INFO][2022/06/02 09:24:12 AM] Loading objects/obj_type_1 (1488513, 5) (1488513 filtered: None)\n",
      "[INFO][2022/06/02 09:24:47 AM] Closing HDF file: /home/nathan/data/kraken/ras/ND0021/Pos4/tracks.h5\n",
      "[INFO][2022/06/02 09:24:47 AM] Opening HDF file: /home/nathan/data/kraken/ras/ND0021/Pos4/tracks.h5...\n",
      "[INFO][2022/06/02 09:24:47 AM] Loading tracks/obj_type_2\n",
      "[INFO][2022/06/02 09:24:47 AM] Loading objects/obj_type_2 (51348, 5) (51348 filtered: None)\n",
      "[INFO][2022/06/02 09:24:48 AM] Closing HDF file: /home/nathan/data/kraken/ras/ND0021/Pos4/tracks.h5\n",
      "[INFO][2022/06/02 09:24:49 AM] Opening HDF file: /home/nathan/data/kraken/ras/ND0021/Pos7/tracks.h5...\n",
      "[INFO][2022/06/02 09:24:49 AM] Loading tracks/obj_type_1\n"
     ]
    },
    {
     "name": "stdout",
     "output_type": "stream",
     "text": [
      "Track information loaded and ordered according to cell type (WT IDs >0> Scr IDs)\n",
      "Loaded ND0021/Pos4/\n",
      "Focal time not in frame\n",
      "ID ND0021_Pos7_321_GFP experiment: ND0021/Pos7/\n",
      "Loading ND0021/Pos7/\n",
      "Btrack version no.: 0.5.0\n"
     ]
    },
    {
     "name": "stderr",
     "output_type": "stream",
     "text": [
      "[INFO][2022/06/02 09:24:49 AM] Loading objects/obj_type_1 (1481271, 5) (1481271 filtered: None)\n",
      "[INFO][2022/06/02 09:25:22 AM] Closing HDF file: /home/nathan/data/kraken/ras/ND0021/Pos7/tracks.h5\n",
      "[INFO][2022/06/02 09:25:22 AM] Opening HDF file: /home/nathan/data/kraken/ras/ND0021/Pos7/tracks.h5...\n",
      "[INFO][2022/06/02 09:25:22 AM] Loading tracks/obj_type_2\n",
      "[INFO][2022/06/02 09:25:22 AM] Loading objects/obj_type_2 (38441, 5) (38441 filtered: None)\n",
      "[INFO][2022/06/02 09:25:23 AM] Closing HDF file: /home/nathan/data/kraken/ras/ND0021/Pos7/tracks.h5\n"
     ]
    },
    {
     "name": "stdout",
     "output_type": "stream",
     "text": [
      "Track information loaded and ordered according to cell type (WT IDs >0> Scr IDs)\n",
      "Loaded ND0021/Pos7/\n",
      "Focal time not in frame\n",
      "ID ND0021_Pos7_320_GFP experiment: ND0021/Pos7/\n",
      "Focal time not in frame\n",
      "ID ND0021_Pos7_177_GFP experiment: ND0021/Pos7/\n",
      "Focal time not in frame\n",
      "ID ND0021_Pos7_178_GFP experiment: ND0021/Pos7/\n",
      "Focal time not in frame\n",
      "ID ND0021_Pos7_507_GFP experiment: ND0021/Pos7/\n",
      "Focal time not in frame\n",
      "ID ND0021_Pos7_506_GFP experiment: ND0021/Pos7/\n"
     ]
    },
    {
     "name": "stderr",
     "output_type": "stream",
     "text": [
      "[INFO][2022/06/02 09:25:25 AM] Opening HDF file: /home/nathan/data/kraken/ras/ND0022/Pos3/tracks.h5...\n",
      "[INFO][2022/06/02 09:25:25 AM] Loading tracks/obj_type_1\n",
      "[INFO][2022/06/02 09:25:26 AM] Loading objects/obj_type_1 (404850, 5) (404850 filtered: None)\n"
     ]
    },
    {
     "name": "stdout",
     "output_type": "stream",
     "text": [
      "Focal time not in frame\n",
      "ID ND0021_Pos7_598_GFP experiment: ND0021/Pos7/\n",
      "Focal time not in frame\n",
      "ID ND0021_Pos7_599_GFP experiment: ND0021/Pos7/\n",
      "Focal time not in frame\n",
      "ID ND0022_Pos3_4_GFP_frag experiment: ND0022/Pos3/\n",
      "Loading ND0022/Pos3/\n",
      "Btrack version no.: 0.5.0\n"
     ]
    },
    {
     "name": "stderr",
     "output_type": "stream",
     "text": [
      "[INFO][2022/06/02 09:25:32 AM] Closing HDF file: /home/nathan/data/kraken/ras/ND0022/Pos3/tracks.h5\n",
      "[INFO][2022/06/02 09:25:32 AM] Opening HDF file: /home/nathan/data/kraken/ras/ND0022/Pos3/tracks.h5...\n",
      "[INFO][2022/06/02 09:25:32 AM] Loading tracks/obj_type_2\n",
      "[INFO][2022/06/02 09:25:32 AM] Loading objects/obj_type_2 (15790, 5) (15790 filtered: None)\n",
      "[INFO][2022/06/02 09:25:32 AM] Closing HDF file: /home/nathan/data/kraken/ras/ND0022/Pos3/tracks.h5\n"
     ]
    },
    {
     "name": "stdout",
     "output_type": "stream",
     "text": [
      "Track information loaded and ordered according to cell type (WT IDs >0> Scr IDs)\n",
      "Loaded ND0022/Pos3/\n"
     ]
    },
    {
     "name": "stderr",
     "output_type": "stream",
     "text": [
      "[INFO][2022/06/02 09:52:21 AM] Opening HDF file: /home/nathan/data/kraken/ras/ND0022/Pos4/tracks.h5...\n",
      "[INFO][2022/06/02 09:52:21 AM] Loading tracks/obj_type_1\n",
      "[INFO][2022/06/02 09:52:21 AM] Loading objects/obj_type_1 (813379, 5) (813379 filtered: None)\n"
     ]
    },
    {
     "name": "stdout",
     "output_type": "stream",
     "text": [
      "ID ND0022_Pos3_907_GFP_frag experiment: ND0022/Pos3/\n",
      "Focal time not in frame\n",
      "ID ND0022_Pos3_910_GFP_frag experiment: ND0022/Pos3/\n",
      "Focal time not in frame\n",
      "ID ND0022_Pos3_940_GFP_frag experiment: ND0022/Pos3/\n",
      "Focal time not in frame\n",
      "ID ND0022_Pos3_840_GFP_frag experiment: ND0022/Pos3/\n",
      "Focal time not in frame\n",
      "ID ND0022_Pos3_1158_GFP_frag experiment: ND0022/Pos3/\n",
      "Focal time not in frame\n",
      "ID ND0022_Pos3_1197_GFP_frag experiment: ND0022/Pos3/\n",
      "Focal time not in frame\n",
      "ID ND0022_Pos3_1226_GFP_frag experiment: ND0022/Pos3/\n",
      "Focal time not in frame\n",
      "ID ND0022_Pos3_976_GFP experiment: ND0022/Pos3/\n",
      "Focal time not in frame\n",
      "ID ND0022_Pos4_1812_GFP experiment: ND0022/Pos4/\n",
      "Loading ND0022/Pos4/\n",
      "Btrack version no.: 0.5.0\n"
     ]
    },
    {
     "name": "stderr",
     "output_type": "stream",
     "text": [
      "[INFO][2022/06/02 09:52:38 AM] Closing HDF file: /home/nathan/data/kraken/ras/ND0022/Pos4/tracks.h5\n",
      "[INFO][2022/06/02 09:52:38 AM] Opening HDF file: /home/nathan/data/kraken/ras/ND0022/Pos4/tracks.h5...\n",
      "[INFO][2022/06/02 09:52:38 AM] Loading tracks/obj_type_2\n",
      "[INFO][2022/06/02 09:52:38 AM] Loading objects/obj_type_2 (18889, 5) (18889 filtered: None)\n",
      "[INFO][2022/06/02 09:52:38 AM] Closing HDF file: /home/nathan/data/kraken/ras/ND0022/Pos4/tracks.h5\n",
      "[INFO][2022/06/02 09:52:38 AM] Opening HDF file: /home/nathan/data/kraken/ras/ND0022/Pos5/tracks.h5...\n",
      "[INFO][2022/06/02 09:52:38 AM] Loading tracks/obj_type_1\n",
      "[INFO][2022/06/02 09:52:38 AM] Loading objects/obj_type_1 (254578, 5) (254578 filtered: None)\n"
     ]
    },
    {
     "name": "stdout",
     "output_type": "stream",
     "text": [
      "Track information loaded and ordered according to cell type (WT IDs >0> Scr IDs)\n",
      "Loaded ND0022/Pos4/\n",
      "Focal time not in frame\n",
      "ID ND0022_Pos4_643_GFP experiment: ND0022/Pos4/\n",
      "Focal time not in frame\n",
      "ID ND0022_Pos4_1486_GFP experiment: ND0022/Pos4/\n",
      "Focal time not in frame\n",
      "ID ND0022_Pos5_2_GFP experiment: ND0022/Pos5/\n",
      "Loading ND0022/Pos5/\n",
      "Btrack version no.: 0.5.0\n"
     ]
    },
    {
     "name": "stderr",
     "output_type": "stream",
     "text": [
      "[INFO][2022/06/02 09:52:42 AM] Closing HDF file: /home/nathan/data/kraken/ras/ND0022/Pos5/tracks.h5\n",
      "[INFO][2022/06/02 09:52:42 AM] Opening HDF file: /home/nathan/data/kraken/ras/ND0022/Pos5/tracks.h5...\n",
      "[INFO][2022/06/02 09:52:42 AM] Loading tracks/obj_type_2\n",
      "[INFO][2022/06/02 09:52:42 AM] Loading objects/obj_type_2 (20446, 5) (20446 filtered: None)\n",
      "[INFO][2022/06/02 09:52:45 AM] Closing HDF file: /home/nathan/data/kraken/ras/ND0022/Pos5/tracks.h5\n"
     ]
    },
    {
     "name": "stdout",
     "output_type": "stream",
     "text": [
      "Track information loaded and ordered according to cell type (WT IDs >0> Scr IDs)\n",
      "Loaded ND0022/Pos5/\n",
      "Focal time not in frame\n",
      "ID ND0022_Pos5_1025_GFP_frag experiment: ND0022/Pos5/\n",
      "Focal time not in frame\n",
      "ID ND0022_Pos5_785_GFP experiment: ND0022/Pos5/\n",
      "Focal time not in frame\n",
      "ID ND0022_Pos5_782_GFP experiment: ND0022/Pos5/\n",
      "Focal time not in frame\n",
      "ID ND0022_Pos5_358_GFP experiment: ND0022/Pos5/\n"
     ]
    },
    {
     "name": "stderr",
     "output_type": "stream",
     "text": [
      "[INFO][2022/06/02 09:57:23 AM] Opening HDF file: /home/nathan/data/kraken/ras/ND0022/Pos6/tracks.h5...\n",
      "[INFO][2022/06/02 09:57:23 AM] Loading tracks/obj_type_1\n"
     ]
    },
    {
     "name": "stdout",
     "output_type": "stream",
     "text": [
      "ID ND0022_Pos5_262_GFP experiment: ND0022/Pos5/\n",
      "Focal time not in frame\n",
      "ID ND0022_Pos5_1205_GFP experiment: ND0022/Pos5/\n",
      "Focal time not in frame\n",
      "ID ND0022_Pos6_7_GFP_frag experiment: ND0022/Pos6/\n",
      "Loading ND0022/Pos6/\n",
      "Btrack version no.: 0.5.0\n"
     ]
    },
    {
     "name": "stderr",
     "output_type": "stream",
     "text": [
      "[INFO][2022/06/02 09:57:23 AM] Loading objects/obj_type_1 (1291409, 5) (1291409 filtered: None)\n",
      "[INFO][2022/06/02 09:57:45 AM] Closing HDF file: /home/nathan/data/kraken/ras/ND0022/Pos6/tracks.h5\n",
      "[INFO][2022/06/02 09:57:45 AM] Opening HDF file: /home/nathan/data/kraken/ras/ND0022/Pos6/tracks.h5...\n",
      "[INFO][2022/06/02 09:57:45 AM] Loading tracks/obj_type_2\n",
      "[INFO][2022/06/02 09:57:45 AM] Loading objects/obj_type_2 (15847, 5) (15847 filtered: None)\n",
      "[INFO][2022/06/02 09:57:45 AM] Closing HDF file: /home/nathan/data/kraken/ras/ND0022/Pos6/tracks.h5\n"
     ]
    },
    {
     "name": "stdout",
     "output_type": "stream",
     "text": [
      "Track information loaded and ordered according to cell type (WT IDs >0> Scr IDs)\n",
      "Loaded ND0022/Pos6/\n",
      "Focal time not in frame\n",
      "ID ND0022_Pos6_1_GFP experiment: ND0022/Pos6/\n"
     ]
    },
    {
     "name": "stderr",
     "output_type": "stream",
     "text": [
      "[INFO][2022/06/02 10:38:17 AM] Opening HDF file: /home/nathan/data/kraken/ras/ND0022/Pos7/tracks.h5...\n",
      "[INFO][2022/06/02 10:38:17 AM] Loading tracks/obj_type_1\n",
      "[INFO][2022/06/02 10:38:17 AM] Loading objects/obj_type_1 (465089, 5) (465089 filtered: None)\n"
     ]
    },
    {
     "name": "stdout",
     "output_type": "stream",
     "text": [
      "ID ND0022_Pos7_15_GFP experiment: ND0022/Pos7/\n",
      "Loading ND0022/Pos7/\n",
      "Btrack version no.: 0.5.0\n"
     ]
    },
    {
     "name": "stderr",
     "output_type": "stream",
     "text": [
      "[INFO][2022/06/02 10:38:27 AM] Closing HDF file: /home/nathan/data/kraken/ras/ND0022/Pos7/tracks.h5\n",
      "[INFO][2022/06/02 10:38:27 AM] Opening HDF file: /home/nathan/data/kraken/ras/ND0022/Pos7/tracks.h5...\n",
      "[INFO][2022/06/02 10:38:27 AM] Loading tracks/obj_type_2\n",
      "[INFO][2022/06/02 10:38:27 AM] Loading objects/obj_type_2 (14348, 5) (14348 filtered: None)\n",
      "[INFO][2022/06/02 10:38:27 AM] Closing HDF file: /home/nathan/data/kraken/ras/ND0022/Pos7/tracks.h5\n"
     ]
    },
    {
     "name": "stdout",
     "output_type": "stream",
     "text": [
      "Track information loaded and ordered according to cell type (WT IDs >0> Scr IDs)\n",
      "Loaded ND0022/Pos7/\n",
      "Focal time not in frame\n",
      "ID ND0022_Pos7_728_GFP experiment: ND0022/Pos7/\n",
      "Focal time not in frame\n",
      "ID ND0022_Pos7_1125_GFP_frag experiment: ND0022/Pos7/\n",
      "Focal time not in frame\n",
      "ID ND0022_Pos7_1113_GFP_frag experiment: ND0022/Pos7/\n",
      "Focal time not in frame\n",
      "ID ND0022_Pos7_1112_GFP_frag experiment: ND0022/Pos7/\n",
      "Focal time not in frame\n",
      "ID ND0022_Pos7_1842_GFP_frag experiment: ND0022/Pos7/\n"
     ]
    },
    {
     "name": "stderr",
     "output_type": "stream",
     "text": [
      "[INFO][2022/06/02 10:44:27 AM] Opening HDF file: /home/nathan/data/kraken/ras/ND0024/Pos3/tracks.h5...\n",
      "[INFO][2022/06/02 10:44:27 AM] Loading tracks/obj_type_1\n",
      "[INFO][2022/06/02 10:44:28 AM] Loading objects/obj_type_1 (636597, 5) (636597 filtered: None)\n"
     ]
    },
    {
     "name": "stdout",
     "output_type": "stream",
     "text": [
      "ID ND0022_Pos7_1841_GFP_frag experiment: ND0022/Pos7/\n",
      "Focal time not in frame\n",
      "ID ND0022_Pos7_1062_GFP experiment: ND0022/Pos7/\n",
      "Focal time not in frame\n",
      "ID ND0022_Pos7_1104_GFP experiment: ND0022/Pos7/\n",
      "ID ND0022_Pos7_1226_GFP experiment: ND0022/Pos7/\n",
      "Focal time not in frame\n",
      "ID ND0022_Pos7_2017_GFP_frag experiment: ND0022/Pos7/\n",
      "Focal time not in frame\n",
      "ID ND0024_Pos3_320_GFP experiment: ND0024/Pos3/\n",
      "Loading ND0024/Pos3/\n",
      "Btrack version no.: 0.5.0\n"
     ]
    },
    {
     "name": "stderr",
     "output_type": "stream",
     "text": [
      "[INFO][2022/06/02 10:44:42 AM] Closing HDF file: /home/nathan/data/kraken/ras/ND0024/Pos3/tracks.h5\n",
      "[INFO][2022/06/02 10:44:42 AM] Opening HDF file: /home/nathan/data/kraken/ras/ND0024/Pos3/tracks.h5...\n",
      "[INFO][2022/06/02 10:44:42 AM] Loading tracks/obj_type_2\n",
      "[INFO][2022/06/02 10:44:42 AM] Loading objects/obj_type_2 (16475, 5) (16475 filtered: None)\n",
      "[INFO][2022/06/02 10:44:42 AM] Closing HDF file: /home/nathan/data/kraken/ras/ND0024/Pos3/tracks.h5\n"
     ]
    },
    {
     "name": "stdout",
     "output_type": "stream",
     "text": [
      "Track information loaded and ordered according to cell type (WT IDs >0> Scr IDs)\n",
      "Loaded ND0024/Pos3/\n"
     ]
    },
    {
     "name": "stderr",
     "output_type": "stream",
     "text": [
      "[INFO][2022/06/02 10:55:55 AM] Opening HDF file: /home/nathan/data/kraken/ras/ND0024/Pos4/tracks.h5...\n",
      "[INFO][2022/06/02 10:55:55 AM] Loading tracks/obj_type_1\n",
      "[INFO][2022/06/02 10:55:55 AM] Loading objects/obj_type_1 (586398, 5) (586398 filtered: None)\n"
     ]
    },
    {
     "name": "stdout",
     "output_type": "stream",
     "text": [
      "ID ND0024_Pos4_276_GFP experiment: ND0024/Pos4/\n",
      "Loading ND0024/Pos4/\n",
      "Btrack version no.: 0.5.0\n"
     ]
    },
    {
     "name": "stderr",
     "output_type": "stream",
     "text": [
      "[INFO][2022/06/02 10:56:10 AM] Closing HDF file: /home/nathan/data/kraken/ras/ND0024/Pos4/tracks.h5\n",
      "[INFO][2022/06/02 10:56:10 AM] Opening HDF file: /home/nathan/data/kraken/ras/ND0024/Pos4/tracks.h5...\n",
      "[INFO][2022/06/02 10:56:10 AM] Loading tracks/obj_type_2\n",
      "[INFO][2022/06/02 10:56:10 AM] Loading objects/obj_type_2 (33390, 5) (33390 filtered: None)\n",
      "[INFO][2022/06/02 10:56:11 AM] Closing HDF file: /home/nathan/data/kraken/ras/ND0024/Pos4/tracks.h5\n"
     ]
    },
    {
     "name": "stdout",
     "output_type": "stream",
     "text": [
      "Track information loaded and ordered according to cell type (WT IDs >0> Scr IDs)\n",
      "Loaded ND0024/Pos4/\n",
      "Focal time not in frame\n",
      "ID ND0024_Pos4_1349_GFP experiment: ND0024/Pos4/\n",
      "Focal time not in frame\n",
      "ID ND0024_Pos4_1570_GFP experiment: ND0024/Pos4/\n",
      "Focal time not in frame\n",
      "ID ND0024_Pos4_1881_GFP experiment: ND0024/Pos4/\n",
      "ID ND0024_Pos4_1306_GFP experiment: ND0024/Pos4/\n"
     ]
    },
    {
     "name": "stderr",
     "output_type": "stream",
     "text": [
      "[INFO][2022/06/02 11:20:14 AM] Opening HDF file: /home/nathan/data/kraken/ras/ND0024/Pos5/tracks.h5...\n",
      "[INFO][2022/06/02 11:20:14 AM] Loading tracks/obj_type_1\n",
      "[INFO][2022/06/02 11:20:14 AM] Loading objects/obj_type_1 (418489, 5) (418489 filtered: None)\n"
     ]
    },
    {
     "name": "stdout",
     "output_type": "stream",
     "text": [
      "ID ND0024_Pos4_3228_GFP_frag experiment: ND0024/Pos4/\n",
      "Focal time not in frame\n",
      "ID ND0024_Pos4_3162_GFP_frag experiment: ND0024/Pos4/\n",
      "Focal time not in frame\n",
      "ID ND0024_Pos4_1264_GFP experiment: ND0024/Pos4/\n",
      "Focal time not in frame\n",
      "ID ND0024_Pos4_2890_GFP_frag experiment: ND0024/Pos4/\n",
      "ID ND0024_Pos5_675_GFP_frag experiment: ND0024/Pos5/\n",
      "Loading ND0024/Pos5/\n",
      "Btrack version no.: 0.5.0\n"
     ]
    },
    {
     "name": "stderr",
     "output_type": "stream",
     "text": [
      "[INFO][2022/06/02 11:20:22 AM] Closing HDF file: /home/nathan/data/kraken/ras/ND0024/Pos5/tracks.h5\n",
      "[INFO][2022/06/02 11:20:22 AM] Opening HDF file: /home/nathan/data/kraken/ras/ND0024/Pos5/tracks.h5...\n",
      "[INFO][2022/06/02 11:20:22 AM] Loading tracks/obj_type_2\n",
      "[INFO][2022/06/02 11:20:22 AM] Loading objects/obj_type_2 (14355, 5) (14355 filtered: None)\n",
      "[INFO][2022/06/02 11:20:22 AM] Closing HDF file: /home/nathan/data/kraken/ras/ND0024/Pos5/tracks.h5\n",
      "[INFO][2022/06/02 11:20:23 AM] Opening HDF file: /home/nathan/data/kraken/ras/ND0024/Pos6/tracks.h5...\n",
      "[INFO][2022/06/02 11:20:23 AM] Loading tracks/obj_type_1\n"
     ]
    },
    {
     "name": "stdout",
     "output_type": "stream",
     "text": [
      "Track information loaded and ordered according to cell type (WT IDs >0> Scr IDs)\n",
      "Loaded ND0024/Pos5/\n",
      "Focal time not in frame\n",
      "ID ND0024_Pos5_1053_GFP experiment: ND0024/Pos5/\n",
      "Focal time not in frame\n",
      "ID ND0024_Pos5_1179_GFP experiment: ND0024/Pos5/\n",
      "Focal time not in frame\n",
      "ID ND0024_Pos5_1183_GFP experiment: ND0024/Pos5/\n",
      "Focal time not in frame\n",
      "ID ND0024_Pos5_1092_GFP_frag experiment: ND0024/Pos5/\n",
      "Focal time not in frame\n",
      "ID ND0024_Pos6_7_GFP experiment: ND0024/Pos6/\n",
      "Loading ND0024/Pos6/\n",
      "Btrack version no.: 0.5.0\n"
     ]
    },
    {
     "name": "stderr",
     "output_type": "stream",
     "text": [
      "[INFO][2022/06/02 11:20:23 AM] Loading objects/obj_type_1 (484009, 5) (484009 filtered: None)\n",
      "[INFO][2022/06/02 11:20:36 AM] Closing HDF file: /home/nathan/data/kraken/ras/ND0024/Pos6/tracks.h5\n",
      "[INFO][2022/06/02 11:20:36 AM] Opening HDF file: /home/nathan/data/kraken/ras/ND0024/Pos6/tracks.h5...\n",
      "[INFO][2022/06/02 11:20:36 AM] Loading tracks/obj_type_2\n",
      "[INFO][2022/06/02 11:20:36 AM] Loading objects/obj_type_2 (46805, 5) (46805 filtered: None)\n",
      "[INFO][2022/06/02 11:20:37 AM] Closing HDF file: /home/nathan/data/kraken/ras/ND0024/Pos6/tracks.h5\n"
     ]
    },
    {
     "name": "stdout",
     "output_type": "stream",
     "text": [
      "Track information loaded and ordered according to cell type (WT IDs >0> Scr IDs)\n",
      "Loaded ND0024/Pos6/\n",
      "Focal time not in frame\n",
      "ID ND0024_Pos6_473_GFP experiment: ND0024/Pos6/\n",
      "Focal time not in frame\n",
      "ID ND0024_Pos6_638_GFP experiment: ND0024/Pos6/\n",
      "Focal time not in frame\n",
      "ID ND0024_Pos6_775_GFP_frag experiment: ND0024/Pos6/\n",
      "ID ND0024_Pos6_776_GFP_frag experiment: ND0024/Pos6/\n",
      "Focal time not in frame\n",
      "ID ND0024_Pos6_639_GFP experiment: ND0024/Pos6/\n",
      "Focal time not in frame\n",
      "ID ND0024_Pos6_754_GFP experiment: ND0024/Pos6/\n",
      "Focal time not in frame\n",
      "ID ND0024_Pos6_1145_GFP_frag experiment: ND0024/Pos6/\n",
      "ID ND0024_Pos6_406_GFP experiment: ND0024/Pos6/\n",
      "Focal time not in frame\n",
      "ID ND0024_Pos6_812_GFP experiment: ND0024/Pos6/\n"
     ]
    },
    {
     "name": "stderr",
     "output_type": "stream",
     "text": [
      "[INFO][2022/06/02 11:42:09 AM] Opening HDF file: /home/nathan/data/kraken/ras/ND0024/Pos7/tracks.h5...\n",
      "[INFO][2022/06/02 11:42:09 AM] Loading tracks/obj_type_1\n",
      "[INFO][2022/06/02 11:42:09 AM] Loading objects/obj_type_1 (296680, 5) (296680 filtered: None)\n"
     ]
    },
    {
     "name": "stdout",
     "output_type": "stream",
     "text": [
      "ID ND0024_Pos6_1353_GFP_frag experiment: ND0024/Pos6/\n",
      "Focal time not in frame\n",
      "ID ND0024_Pos6_1354_GFP_frag experiment: ND0024/Pos6/\n",
      "Focal time not in frame\n",
      "ID ND0024_Pos7_8_GFP experiment: ND0024/Pos7/\n",
      "Loading ND0024/Pos7/\n",
      "Btrack version no.: 0.5.0\n"
     ]
    },
    {
     "name": "stderr",
     "output_type": "stream",
     "text": [
      "[INFO][2022/06/02 11:42:15 AM] Closing HDF file: /home/nathan/data/kraken/ras/ND0024/Pos7/tracks.h5\n",
      "[INFO][2022/06/02 11:42:15 AM] Opening HDF file: /home/nathan/data/kraken/ras/ND0024/Pos7/tracks.h5...\n",
      "[INFO][2022/06/02 11:42:15 AM] Loading tracks/obj_type_2\n",
      "[INFO][2022/06/02 11:42:15 AM] Loading objects/obj_type_2 (11337, 5) (11337 filtered: None)\n",
      "[INFO][2022/06/02 11:42:15 AM] Closing HDF file: /home/nathan/data/kraken/ras/ND0024/Pos7/tracks.h5\n",
      "[INFO][2022/06/02 11:42:16 AM] Opening HDF file: /home/nathan/data/kraken/ras/ND0025/Pos3/tracks.h5...\n",
      "[INFO][2022/06/02 11:42:16 AM] Loading tracks/obj_type_1\n",
      "[INFO][2022/06/02 11:42:16 AM] Loading objects/obj_type_1 (200555, 5) (200555 filtered: None)\n"
     ]
    },
    {
     "name": "stdout",
     "output_type": "stream",
     "text": [
      "Track information loaded and ordered according to cell type (WT IDs >0> Scr IDs)\n",
      "Loaded ND0024/Pos7/\n",
      "Focal time not in frame\n",
      "ID ND0025_Pos3_2_GFP experiment: ND0025/Pos3/\n",
      "Loading ND0025/Pos3/\n",
      "Btrack version no.: 0.5.0\n"
     ]
    },
    {
     "name": "stderr",
     "output_type": "stream",
     "text": [
      "[INFO][2022/06/02 11:42:20 AM] Closing HDF file: /home/nathan/data/kraken/ras/ND0025/Pos3/tracks.h5\n",
      "[INFO][2022/06/02 11:42:20 AM] Opening HDF file: /home/nathan/data/kraken/ras/ND0025/Pos3/tracks.h5...\n",
      "[INFO][2022/06/02 11:42:20 AM] Loading tracks/obj_type_2\n",
      "[INFO][2022/06/02 11:42:20 AM] Loading objects/obj_type_2 (4490, 5) (4490 filtered: None)\n",
      "[INFO][2022/06/02 11:42:20 AM] Closing HDF file: /home/nathan/data/kraken/ras/ND0025/Pos3/tracks.h5\n"
     ]
    },
    {
     "name": "stdout",
     "output_type": "stream",
     "text": [
      "Track information loaded and ordered according to cell type (WT IDs >0> Scr IDs)\n"
     ]
    },
    {
     "name": "stderr",
     "output_type": "stream",
     "text": [
      "[INFO][2022/06/02 11:42:21 AM] Opening HDF file: /home/nathan/data/kraken/ras/ND0025/Pos4/tracks.h5...\n",
      "[INFO][2022/06/02 11:42:21 AM] Loading tracks/obj_type_1\n",
      "[INFO][2022/06/02 11:42:21 AM] Loading objects/obj_type_1 (180679, 5) (180679 filtered: None)\n"
     ]
    },
    {
     "name": "stdout",
     "output_type": "stream",
     "text": [
      "Loaded ND0025/Pos3/\n",
      "Focal time not in frame\n",
      "ID ND0025_Pos4_1275_GFP_frag experiment: ND0025/Pos4/\n",
      "Loading ND0025/Pos4/\n",
      "Btrack version no.: 0.5.0\n"
     ]
    },
    {
     "name": "stderr",
     "output_type": "stream",
     "text": [
      "[INFO][2022/06/02 11:42:25 AM] Closing HDF file: /home/nathan/data/kraken/ras/ND0025/Pos4/tracks.h5\n",
      "[INFO][2022/06/02 11:42:25 AM] Opening HDF file: /home/nathan/data/kraken/ras/ND0025/Pos4/tracks.h5...\n",
      "[INFO][2022/06/02 11:42:25 AM] Loading tracks/obj_type_2\n",
      "[INFO][2022/06/02 11:42:25 AM] Loading objects/obj_type_2 (10302, 5) (10302 filtered: None)\n",
      "[INFO][2022/06/02 11:42:25 AM] Closing HDF file: /home/nathan/data/kraken/ras/ND0025/Pos4/tracks.h5\n",
      "[INFO][2022/06/02 11:42:26 AM] Opening HDF file: /home/nathan/data/kraken/ras/ND0025/Pos6/tracks.h5...\n",
      "[INFO][2022/06/02 11:42:26 AM] Loading tracks/obj_type_1\n",
      "[INFO][2022/06/02 11:42:26 AM] Loading objects/obj_type_1 (392143, 5) (392143 filtered: None)\n"
     ]
    },
    {
     "name": "stdout",
     "output_type": "stream",
     "text": [
      "Track information loaded and ordered according to cell type (WT IDs >0> Scr IDs)\n",
      "Loaded ND0025/Pos4/\n",
      "Focal time not in frame\n",
      "ID ND0025_Pos4_26_GFP experiment: ND0025/Pos4/\n",
      "Focal time not in frame\n",
      "ID ND0025_Pos4_207_GFP experiment: ND0025/Pos4/\n",
      "Focal time not in frame\n",
      "ID ND0025_Pos6_696_GFP_frag experiment: ND0025/Pos6/\n",
      "Loading ND0025/Pos6/\n",
      "Btrack version no.: 0.5.0\n"
     ]
    },
    {
     "name": "stderr",
     "output_type": "stream",
     "text": [
      "[INFO][2022/06/02 11:42:34 AM] Closing HDF file: /home/nathan/data/kraken/ras/ND0025/Pos6/tracks.h5\n",
      "[INFO][2022/06/02 11:42:34 AM] Opening HDF file: /home/nathan/data/kraken/ras/ND0025/Pos6/tracks.h5...\n",
      "[INFO][2022/06/02 11:42:34 AM] Loading tracks/obj_type_2\n",
      "[INFO][2022/06/02 11:42:34 AM] Loading objects/obj_type_2 (5950, 5) (5950 filtered: None)\n",
      "[INFO][2022/06/02 11:42:35 AM] Closing HDF file: /home/nathan/data/kraken/ras/ND0025/Pos6/tracks.h5\n"
     ]
    },
    {
     "name": "stdout",
     "output_type": "stream",
     "text": [
      "Track information loaded and ordered according to cell type (WT IDs >0> Scr IDs)\n",
      "Loaded ND0025/Pos6/\n",
      "Focal time not in frame\n",
      "ID ND0025_Pos6_634_GFP experiment: ND0025/Pos6/\n",
      "Focal time not in frame\n",
      "1600 1600\n"
     ]
    },
    {
     "data": {
      "application/vnd.jupyter.widget-view+json": {
       "model_id": "cf33fad4b40b485d8a350dbb4b48ab50",
       "version_major": 2,
       "version_minor": 0
      },
      "text/plain": [
       "  0%|          | 0/91 [00:00<?, ?it/s]"
      ]
     },
     "metadata": {},
     "output_type": "display_data"
    },
    {
     "name": "stderr",
     "output_type": "stream",
     "text": [
      "[INFO][2022/06/02 11:42:36 AM] Opening HDF file: /home/nathan/data/kraken/ras/ND0025/Pos7/tracks.h5...\n",
      "[INFO][2022/06/02 11:42:36 AM] Loading tracks/obj_type_1\n",
      "[INFO][2022/06/02 11:42:36 AM] Loading objects/obj_type_1 (197115, 5) (197115 filtered: None)\n"
     ]
    },
    {
     "name": "stdout",
     "output_type": "stream",
     "text": [
      "ID ND0025_Pos7_930_GFP experiment: ND0025/Pos7/\n",
      "Loading ND0025/Pos7/\n",
      "Btrack version no.: 0.5.0\n"
     ]
    },
    {
     "name": "stderr",
     "output_type": "stream",
     "text": [
      "[INFO][2022/06/02 11:42:39 AM] Closing HDF file: /home/nathan/data/kraken/ras/ND0025/Pos7/tracks.h5\n",
      "[INFO][2022/06/02 11:42:39 AM] Opening HDF file: /home/nathan/data/kraken/ras/ND0025/Pos7/tracks.h5...\n",
      "[INFO][2022/06/02 11:42:39 AM] Loading tracks/obj_type_2\n",
      "[INFO][2022/06/02 11:42:39 AM] Loading objects/obj_type_2 (12464, 5) (12464 filtered: None)\n",
      "[INFO][2022/06/02 11:42:39 AM] Closing HDF file: /home/nathan/data/kraken/ras/ND0025/Pos7/tracks.h5\n",
      "[INFO][2022/06/02 11:42:39 AM] Opening HDF file: /home/nathan/data/kraken/ras/ND0025/Pos5/tracks.h5...\n",
      "[INFO][2022/06/02 11:42:39 AM] Loading tracks/obj_type_1\n",
      "[INFO][2022/06/02 11:42:39 AM] Loading objects/obj_type_1 (419463, 5) (419463 filtered: None)\n"
     ]
    },
    {
     "name": "stdout",
     "output_type": "stream",
     "text": [
      "Track information loaded and ordered according to cell type (WT IDs >0> Scr IDs)\n",
      "Loaded ND0025/Pos7/\n",
      "Focal time not in frame\n",
      "ID ND0025_Pos7_958_GFP experiment: ND0025/Pos7/\n",
      "Focal time not in frame\n",
      "ID ND0025_Pos5_1_GFP experiment: ND0025/Pos5/\n",
      "Loading ND0025/Pos5/\n",
      "Btrack version no.: 0.5.0\n"
     ]
    },
    {
     "name": "stderr",
     "output_type": "stream",
     "text": [
      "[INFO][2022/06/02 11:42:48 AM] Closing HDF file: /home/nathan/data/kraken/ras/ND0025/Pos5/tracks.h5\n",
      "[INFO][2022/06/02 11:42:48 AM] Opening HDF file: /home/nathan/data/kraken/ras/ND0025/Pos5/tracks.h5...\n",
      "[INFO][2022/06/02 11:42:48 AM] Loading tracks/obj_type_2\n",
      "[INFO][2022/06/02 11:42:48 AM] Loading objects/obj_type_2 (7218, 5) (7218 filtered: None)\n",
      "[INFO][2022/06/02 11:42:48 AM] Closing HDF file: /home/nathan/data/kraken/ras/ND0025/Pos5/tracks.h5\n"
     ]
    },
    {
     "name": "stdout",
     "output_type": "stream",
     "text": [
      "Track information loaded and ordered according to cell type (WT IDs >0> Scr IDs)\n",
      "Loaded ND0025/Pos5/\n"
     ]
    },
    {
     "name": "stderr",
     "output_type": "stream",
     "text": [
      "[INFO][2022/06/02 11:46:58 AM] Opening HDF file: /home/nathan/data/kraken/ras/ND0014/Pos5/tracks.h5...\n",
      "[INFO][2022/06/02 11:46:58 AM] Loading tracks/obj_type_1\n"
     ]
    },
    {
     "name": "stdout",
     "output_type": "stream",
     "text": [
      "ID ND0014_Pos5_11_GFP experiment: ND0014/Pos5/\n",
      "Loading ND0014/Pos5/\n",
      "Btrack version no.: 0.5.0\n"
     ]
    },
    {
     "name": "stderr",
     "output_type": "stream",
     "text": [
      "[INFO][2022/06/02 11:46:58 AM] Loading objects/obj_type_1 (249924, 5) (249924 filtered: None)\n",
      "[INFO][2022/06/02 11:47:08 AM] Closing HDF file: /home/nathan/data/kraken/ras/ND0014/Pos5/tracks.h5\n",
      "[INFO][2022/06/02 11:47:08 AM] Opening HDF file: /home/nathan/data/kraken/ras/ND0014/Pos5/tracks.h5...\n",
      "[INFO][2022/06/02 11:47:08 AM] Loading tracks/obj_type_2\n",
      "[INFO][2022/06/02 11:47:08 AM] Loading objects/obj_type_2 (62283, 5) (62283 filtered: None)\n",
      "[INFO][2022/06/02 11:47:10 AM] Closing HDF file: /home/nathan/data/kraken/ras/ND0014/Pos5/tracks.h5\n",
      "[INFO][2022/06/02 11:47:10 AM] Opening HDF file: /home/nathan/data/kraken/ras/ND0014/Pos7/tracks.h5...\n",
      "[INFO][2022/06/02 11:47:10 AM] Loading tracks/obj_type_1\n"
     ]
    },
    {
     "name": "stdout",
     "output_type": "stream",
     "text": [
      "Track information loaded and ordered according to cell type (WT IDs >0> Scr IDs)\n",
      "Loaded ND0014/Pos5/\n",
      "Focal time not in frame\n",
      "ID ND0014_Pos5_488_GFP_frag experiment: ND0014/Pos5/\n",
      "Focal time not in frame\n",
      "ID ND0014_Pos5_1317_GFP_frag experiment: ND0014/Pos5/\n",
      "ID ND0014_Pos5_2535_GFP_frag experiment: ND0014/Pos5/\n",
      "Focal time not in frame\n",
      "ID ND0014_Pos7_1_GFP_frag experiment: ND0014/Pos7/\n",
      "Loading ND0014/Pos7/\n",
      "Btrack version no.: 0.5.0\n"
     ]
    },
    {
     "name": "stderr",
     "output_type": "stream",
     "text": [
      "[INFO][2022/06/02 11:47:10 AM] Loading objects/obj_type_1 (182289, 5) (182289 filtered: None)\n",
      "[INFO][2022/06/02 11:47:15 AM] Closing HDF file: /home/nathan/data/kraken/ras/ND0014/Pos7/tracks.h5\n",
      "[INFO][2022/06/02 11:47:15 AM] Opening HDF file: /home/nathan/data/kraken/ras/ND0014/Pos7/tracks.h5...\n",
      "[INFO][2022/06/02 11:47:15 AM] Loading tracks/obj_type_2\n",
      "[INFO][2022/06/02 11:47:15 AM] Loading objects/obj_type_2 (10574, 5) (10574 filtered: None)\n",
      "[INFO][2022/06/02 11:47:15 AM] Closing HDF file: /home/nathan/data/kraken/ras/ND0014/Pos7/tracks.h5\n",
      "[INFO][2022/06/02 11:47:16 AM] Opening HDF file: /home/nathan/data/kraken/ras/ND0014/Pos8/tracks.h5...\n",
      "[INFO][2022/06/02 11:47:16 AM] Loading tracks/obj_type_1\n",
      "[INFO][2022/06/02 11:47:16 AM] Loading objects/obj_type_1 (285628, 5) (285628 filtered: None)\n"
     ]
    },
    {
     "name": "stdout",
     "output_type": "stream",
     "text": [
      "Track information loaded and ordered according to cell type (WT IDs >0> Scr IDs)\n",
      "Loaded ND0014/Pos7/\n",
      "Focal time not in frame\n",
      "ID ND0014_Pos8_482_GFP experiment: ND0014/Pos8/\n",
      "Loading ND0014/Pos8/\n",
      "Btrack version no.: 0.5.0\n"
     ]
    },
    {
     "name": "stderr",
     "output_type": "stream",
     "text": [
      "[INFO][2022/06/02 11:47:24 AM] Closing HDF file: /home/nathan/data/kraken/ras/ND0014/Pos8/tracks.h5\n",
      "[INFO][2022/06/02 11:47:24 AM] Opening HDF file: /home/nathan/data/kraken/ras/ND0014/Pos8/tracks.h5...\n",
      "[INFO][2022/06/02 11:47:24 AM] Loading tracks/obj_type_2\n",
      "[INFO][2022/06/02 11:47:24 AM] Loading objects/obj_type_2 (29467, 5) (29467 filtered: None)\n",
      "[INFO][2022/06/02 11:47:24 AM] Closing HDF file: /home/nathan/data/kraken/ras/ND0014/Pos8/tracks.h5\n",
      "[INFO][2022/06/02 11:47:25 AM] Opening HDF file: /home/nathan/data/kraken/ras/ND0014/Pos9/tracks.h5...\n",
      "[INFO][2022/06/02 11:47:25 AM] Loading tracks/obj_type_1\n",
      "[INFO][2022/06/02 11:47:25 AM] Loading objects/obj_type_1 (444747, 5) (444747 filtered: None)\n"
     ]
    },
    {
     "name": "stdout",
     "output_type": "stream",
     "text": [
      "Track information loaded and ordered according to cell type (WT IDs >0> Scr IDs)\n",
      "Loaded ND0014/Pos8/\n",
      "Focal time not in frame\n",
      "ID ND0014_Pos8_481_GFP experiment: ND0014/Pos8/\n",
      "Focal time not in frame\n",
      "ID ND0014_Pos9_1_GFP experiment: ND0014/Pos9/\n",
      "Loading ND0014/Pos9/\n",
      "Btrack version no.: 0.5.0\n"
     ]
    },
    {
     "name": "stderr",
     "output_type": "stream",
     "text": [
      "[INFO][2022/06/02 11:47:35 AM] Closing HDF file: /home/nathan/data/kraken/ras/ND0014/Pos9/tracks.h5\n",
      "[INFO][2022/06/02 11:47:35 AM] Opening HDF file: /home/nathan/data/kraken/ras/ND0014/Pos9/tracks.h5...\n",
      "[INFO][2022/06/02 11:47:35 AM] Loading tracks/obj_type_2\n",
      "[INFO][2022/06/02 11:47:35 AM] Loading objects/obj_type_2 (7231, 5) (7231 filtered: None)\n",
      "[INFO][2022/06/02 11:47:35 AM] Closing HDF file: /home/nathan/data/kraken/ras/ND0014/Pos9/tracks.h5\n",
      "[INFO][2022/06/02 11:47:35 AM] Opening HDF file: /home/nathan/data/kraken/ras/ND0017/Pos7/tracks.h5...\n",
      "[INFO][2022/06/02 11:47:35 AM] Loading tracks/obj_type_1\n"
     ]
    },
    {
     "name": "stdout",
     "output_type": "stream",
     "text": [
      "Track information loaded and ordered according to cell type (WT IDs >0> Scr IDs)\n",
      "Loaded ND0014/Pos9/\n",
      "Focal time not in frame\n",
      "ID ND0017_Pos7_1012_GFP_frag experiment: ND0017/Pos7/\n",
      "Loading ND0017/Pos7/\n",
      "Btrack version no.: 0.5.0\n"
     ]
    },
    {
     "name": "stderr",
     "output_type": "stream",
     "text": [
      "[INFO][2022/06/02 11:47:36 AM] Loading objects/obj_type_1 (470131, 5) (470131 filtered: None)\n",
      "[INFO][2022/06/02 11:47:46 AM] Closing HDF file: /home/nathan/data/kraken/ras/ND0017/Pos7/tracks.h5\n",
      "[INFO][2022/06/02 11:47:46 AM] Opening HDF file: /home/nathan/data/kraken/ras/ND0017/Pos7/tracks.h5...\n",
      "[INFO][2022/06/02 11:47:46 AM] Loading tracks/obj_type_2\n",
      "[INFO][2022/06/02 11:47:46 AM] Loading objects/obj_type_2 (22567, 5) (22567 filtered: None)\n",
      "[INFO][2022/06/02 11:47:49 AM] Closing HDF file: /home/nathan/data/kraken/ras/ND0017/Pos7/tracks.h5\n",
      "[INFO][2022/06/02 11:47:50 AM] Opening HDF file: /home/nathan/data/kraken/ras/ND0021/Pos4/tracks.h5...\n",
      "[INFO][2022/06/02 11:47:50 AM] Loading tracks/obj_type_1\n"
     ]
    },
    {
     "name": "stdout",
     "output_type": "stream",
     "text": [
      "Track information loaded and ordered according to cell type (WT IDs >0> Scr IDs)\n",
      "Loaded ND0017/Pos7/\n",
      "ID ND0017_Pos7_547_GFP experiment: ND0017/Pos7/\n",
      "ID ND0017_Pos7_814_GFP experiment: ND0017/Pos7/\n",
      "ID ND0017_Pos7_1627_GFP_frag experiment: ND0017/Pos7/\n",
      "Focal time not in frame\n",
      "ID ND0017_Pos7_1627_GFP experiment: ND0017/Pos7/\n",
      "Focal time not in frame\n",
      "ID ND0021_Pos4_4_GFP experiment: ND0021/Pos4/\n",
      "Loading ND0021/Pos4/\n",
      "Btrack version no.: 0.5.0\n"
     ]
    },
    {
     "name": "stderr",
     "output_type": "stream",
     "text": [
      "[INFO][2022/06/02 11:47:51 AM] Loading objects/obj_type_1 (1488513, 5) (1488513 filtered: None)\n",
      "[INFO][2022/06/02 11:48:28 AM] Closing HDF file: /home/nathan/data/kraken/ras/ND0021/Pos4/tracks.h5\n",
      "[INFO][2022/06/02 11:48:28 AM] Opening HDF file: /home/nathan/data/kraken/ras/ND0021/Pos4/tracks.h5...\n",
      "[INFO][2022/06/02 11:48:28 AM] Loading tracks/obj_type_2\n",
      "[INFO][2022/06/02 11:48:28 AM] Loading objects/obj_type_2 (51348, 5) (51348 filtered: None)\n",
      "[INFO][2022/06/02 11:48:29 AM] Closing HDF file: /home/nathan/data/kraken/ras/ND0021/Pos4/tracks.h5\n",
      "[INFO][2022/06/02 11:48:30 AM] Opening HDF file: /home/nathan/data/kraken/ras/ND0021/Pos7/tracks.h5...\n",
      "[INFO][2022/06/02 11:48:30 AM] Loading tracks/obj_type_1\n"
     ]
    },
    {
     "name": "stdout",
     "output_type": "stream",
     "text": [
      "Track information loaded and ordered according to cell type (WT IDs >0> Scr IDs)\n",
      "Loaded ND0021/Pos4/\n",
      "Focal time not in frame\n",
      "ID ND0021_Pos7_321_GFP experiment: ND0021/Pos7/\n",
      "Loading ND0021/Pos7/\n",
      "Btrack version no.: 0.5.0\n"
     ]
    },
    {
     "name": "stderr",
     "output_type": "stream",
     "text": [
      "[INFO][2022/06/02 11:48:30 AM] Loading objects/obj_type_1 (1481271, 5) (1481271 filtered: None)\n",
      "[INFO][2022/06/02 11:49:07 AM] Closing HDF file: /home/nathan/data/kraken/ras/ND0021/Pos7/tracks.h5\n",
      "[INFO][2022/06/02 11:49:07 AM] Opening HDF file: /home/nathan/data/kraken/ras/ND0021/Pos7/tracks.h5...\n",
      "[INFO][2022/06/02 11:49:07 AM] Loading tracks/obj_type_2\n",
      "[INFO][2022/06/02 11:49:07 AM] Loading objects/obj_type_2 (38441, 5) (38441 filtered: None)\n",
      "[INFO][2022/06/02 11:49:08 AM] Closing HDF file: /home/nathan/data/kraken/ras/ND0021/Pos7/tracks.h5\n"
     ]
    },
    {
     "name": "stdout",
     "output_type": "stream",
     "text": [
      "Track information loaded and ordered according to cell type (WT IDs >0> Scr IDs)\n",
      "Loaded ND0021/Pos7/\n",
      "Focal time not in frame\n",
      "ID ND0021_Pos7_320_GFP experiment: ND0021/Pos7/\n",
      "Focal time not in frame\n",
      "ID ND0021_Pos7_177_GFP experiment: ND0021/Pos7/\n"
     ]
    },
    {
     "name": "stderr",
     "output_type": "stream",
     "text": [
      "[INFO][2022/06/02 11:56:48 AM] Opening HDF file: /home/nathan/data/kraken/ras/ND0022/Pos3/tracks.h5...\n",
      "[INFO][2022/06/02 11:56:48 AM] Loading tracks/obj_type_1\n"
     ]
    },
    {
     "name": "stdout",
     "output_type": "stream",
     "text": [
      "ID ND0021_Pos7_178_GFP experiment: ND0021/Pos7/\n",
      "Focal time not in frame\n",
      "ID ND0021_Pos7_507_GFP experiment: ND0021/Pos7/\n",
      "Focal time not in frame\n",
      "ID ND0021_Pos7_506_GFP experiment: ND0021/Pos7/\n",
      "Focal time not in frame\n",
      "ID ND0021_Pos7_598_GFP experiment: ND0021/Pos7/\n",
      "Focal time not in frame\n",
      "ID ND0021_Pos7_599_GFP experiment: ND0021/Pos7/\n",
      "Focal time not in frame\n",
      "ID ND0022_Pos3_4_GFP_frag experiment: ND0022/Pos3/\n",
      "Loading ND0022/Pos3/\n",
      "Btrack version no.: 0.5.0\n"
     ]
    },
    {
     "name": "stderr",
     "output_type": "stream",
     "text": [
      "[INFO][2022/06/02 11:56:48 AM] Loading objects/obj_type_1 (404850, 5) (404850 filtered: None)\n",
      "[INFO][2022/06/02 11:56:55 AM] Closing HDF file: /home/nathan/data/kraken/ras/ND0022/Pos3/tracks.h5\n",
      "[INFO][2022/06/02 11:56:55 AM] Opening HDF file: /home/nathan/data/kraken/ras/ND0022/Pos3/tracks.h5...\n",
      "[INFO][2022/06/02 11:56:55 AM] Loading tracks/obj_type_2\n",
      "[INFO][2022/06/02 11:56:55 AM] Loading objects/obj_type_2 (15790, 5) (15790 filtered: None)\n",
      "[INFO][2022/06/02 11:56:56 AM] Closing HDF file: /home/nathan/data/kraken/ras/ND0022/Pos3/tracks.h5\n"
     ]
    },
    {
     "name": "stdout",
     "output_type": "stream",
     "text": [
      "Track information loaded and ordered according to cell type (WT IDs >0> Scr IDs)\n",
      "Loaded ND0022/Pos3/\n"
     ]
    },
    {
     "name": "stderr",
     "output_type": "stream",
     "text": [
      "[INFO][2022/06/02 12:15:40 PM] Opening HDF file: /home/nathan/data/kraken/ras/ND0022/Pos4/tracks.h5...\n",
      "[INFO][2022/06/02 12:15:40 PM] Loading tracks/obj_type_1\n",
      "[INFO][2022/06/02 12:15:41 PM] Loading objects/obj_type_1 (813379, 5) (813379 filtered: None)\n"
     ]
    },
    {
     "name": "stdout",
     "output_type": "stream",
     "text": [
      "ID ND0022_Pos3_907_GFP_frag experiment: ND0022/Pos3/\n",
      "Focal time not in frame\n",
      "ID ND0022_Pos3_910_GFP_frag experiment: ND0022/Pos3/\n",
      "Focal time not in frame\n",
      "ID ND0022_Pos3_940_GFP_frag experiment: ND0022/Pos3/\n",
      "Focal time not in frame\n",
      "ID ND0022_Pos3_840_GFP_frag experiment: ND0022/Pos3/\n",
      "Focal time not in frame\n",
      "ID ND0022_Pos3_1158_GFP_frag experiment: ND0022/Pos3/\n",
      "Focal time not in frame\n",
      "ID ND0022_Pos3_1197_GFP_frag experiment: ND0022/Pos3/\n",
      "Focal time not in frame\n",
      "ID ND0022_Pos3_1226_GFP_frag experiment: ND0022/Pos3/\n",
      "Focal time not in frame\n",
      "ID ND0022_Pos3_976_GFP experiment: ND0022/Pos3/\n",
      "Focal time not in frame\n",
      "ID ND0022_Pos4_1812_GFP experiment: ND0022/Pos4/\n",
      "Loading ND0022/Pos4/\n",
      "Btrack version no.: 0.5.0\n"
     ]
    },
    {
     "name": "stderr",
     "output_type": "stream",
     "text": [
      "[INFO][2022/06/02 12:15:57 PM] Closing HDF file: /home/nathan/data/kraken/ras/ND0022/Pos4/tracks.h5\n",
      "[INFO][2022/06/02 12:15:57 PM] Opening HDF file: /home/nathan/data/kraken/ras/ND0022/Pos4/tracks.h5...\n",
      "[INFO][2022/06/02 12:15:57 PM] Loading tracks/obj_type_2\n",
      "[INFO][2022/06/02 12:15:57 PM] Loading objects/obj_type_2 (18889, 5) (18889 filtered: None)\n",
      "[INFO][2022/06/02 12:15:58 PM] Closing HDF file: /home/nathan/data/kraken/ras/ND0022/Pos4/tracks.h5\n",
      "[INFO][2022/06/02 12:15:58 PM] Opening HDF file: /home/nathan/data/kraken/ras/ND0022/Pos5/tracks.h5...\n",
      "[INFO][2022/06/02 12:15:58 PM] Loading tracks/obj_type_1\n",
      "[INFO][2022/06/02 12:15:58 PM] Loading objects/obj_type_1 (254578, 5) (254578 filtered: None)\n"
     ]
    },
    {
     "name": "stdout",
     "output_type": "stream",
     "text": [
      "Track information loaded and ordered according to cell type (WT IDs >0> Scr IDs)\n",
      "Loaded ND0022/Pos4/\n",
      "Focal time not in frame\n",
      "ID ND0022_Pos4_643_GFP experiment: ND0022/Pos4/\n",
      "Focal time not in frame\n",
      "ID ND0022_Pos4_1486_GFP experiment: ND0022/Pos4/\n",
      "Focal time not in frame\n",
      "ID ND0022_Pos5_2_GFP experiment: ND0022/Pos5/\n",
      "Loading ND0022/Pos5/\n",
      "Btrack version no.: 0.5.0\n"
     ]
    },
    {
     "name": "stderr",
     "output_type": "stream",
     "text": [
      "[INFO][2022/06/02 12:16:04 PM] Closing HDF file: /home/nathan/data/kraken/ras/ND0022/Pos5/tracks.h5\n",
      "[INFO][2022/06/02 12:16:04 PM] Opening HDF file: /home/nathan/data/kraken/ras/ND0022/Pos5/tracks.h5...\n",
      "[INFO][2022/06/02 12:16:04 PM] Loading tracks/obj_type_2\n",
      "[INFO][2022/06/02 12:16:04 PM] Loading objects/obj_type_2 (20446, 5) (20446 filtered: None)\n",
      "[INFO][2022/06/02 12:16:05 PM] Closing HDF file: /home/nathan/data/kraken/ras/ND0022/Pos5/tracks.h5\n"
     ]
    },
    {
     "name": "stdout",
     "output_type": "stream",
     "text": [
      "Track information loaded and ordered according to cell type (WT IDs >0> Scr IDs)\n",
      "Loaded ND0022/Pos5/\n",
      "ID ND0022_Pos5_1025_GFP_frag experiment: ND0022/Pos5/\n",
      "Focal time not in frame\n",
      "ID ND0022_Pos5_785_GFP experiment: ND0022/Pos5/\n",
      "Focal time not in frame\n",
      "ID ND0022_Pos5_782_GFP experiment: ND0022/Pos5/\n",
      "Focal time not in frame\n",
      "ID ND0022_Pos5_358_GFP experiment: ND0022/Pos5/\n",
      "Focal time not in frame\n",
      "ID ND0022_Pos5_262_GFP experiment: ND0022/Pos5/\n"
     ]
    },
    {
     "name": "stderr",
     "output_type": "stream",
     "text": [
      "[INFO][2022/06/02 12:24:30 PM] Opening HDF file: /home/nathan/data/kraken/ras/ND0022/Pos6/tracks.h5...\n",
      "[INFO][2022/06/02 12:24:30 PM] Loading tracks/obj_type_1\n"
     ]
    },
    {
     "name": "stdout",
     "output_type": "stream",
     "text": [
      "ID ND0022_Pos5_1205_GFP experiment: ND0022/Pos5/\n",
      "Focal time not in frame\n",
      "ID ND0022_Pos6_7_GFP_frag experiment: ND0022/Pos6/\n",
      "Loading ND0022/Pos6/\n",
      "Btrack version no.: 0.5.0\n"
     ]
    },
    {
     "name": "stderr",
     "output_type": "stream",
     "text": [
      "[INFO][2022/06/02 12:24:30 PM] Loading objects/obj_type_1 (1291409, 5) (1291409 filtered: None)\n",
      "[INFO][2022/06/02 12:24:54 PM] Closing HDF file: /home/nathan/data/kraken/ras/ND0022/Pos6/tracks.h5\n",
      "[INFO][2022/06/02 12:24:54 PM] Opening HDF file: /home/nathan/data/kraken/ras/ND0022/Pos6/tracks.h5...\n",
      "[INFO][2022/06/02 12:24:54 PM] Loading tracks/obj_type_2\n",
      "[INFO][2022/06/02 12:24:54 PM] Loading objects/obj_type_2 (15847, 5) (15847 filtered: None)\n",
      "[INFO][2022/06/02 12:24:55 PM] Closing HDF file: /home/nathan/data/kraken/ras/ND0022/Pos6/tracks.h5\n"
     ]
    },
    {
     "name": "stdout",
     "output_type": "stream",
     "text": [
      "Track information loaded and ordered according to cell type (WT IDs >0> Scr IDs)\n",
      "Loaded ND0022/Pos6/\n",
      "Focal time not in frame\n",
      "ID ND0022_Pos6_1_GFP experiment: ND0022/Pos6/\n"
     ]
    },
    {
     "name": "stderr",
     "output_type": "stream",
     "text": [
      "[INFO][2022/06/02 01:09:43 PM] Opening HDF file: /home/nathan/data/kraken/ras/ND0022/Pos7/tracks.h5...\n",
      "[INFO][2022/06/02 01:09:43 PM] Loading tracks/obj_type_1\n",
      "[INFO][2022/06/02 01:09:44 PM] Loading objects/obj_type_1 (465089, 5) (465089 filtered: None)\n"
     ]
    },
    {
     "name": "stdout",
     "output_type": "stream",
     "text": [
      "ID ND0022_Pos7_15_GFP experiment: ND0022/Pos7/\n",
      "Loading ND0022/Pos7/\n",
      "Btrack version no.: 0.5.0\n"
     ]
    },
    {
     "name": "stderr",
     "output_type": "stream",
     "text": [
      "[INFO][2022/06/02 01:09:54 PM] Closing HDF file: /home/nathan/data/kraken/ras/ND0022/Pos7/tracks.h5\n",
      "[INFO][2022/06/02 01:09:54 PM] Opening HDF file: /home/nathan/data/kraken/ras/ND0022/Pos7/tracks.h5...\n",
      "[INFO][2022/06/02 01:09:54 PM] Loading tracks/obj_type_2\n",
      "[INFO][2022/06/02 01:09:54 PM] Loading objects/obj_type_2 (14348, 5) (14348 filtered: None)\n",
      "[INFO][2022/06/02 01:09:54 PM] Closing HDF file: /home/nathan/data/kraken/ras/ND0022/Pos7/tracks.h5\n"
     ]
    },
    {
     "name": "stdout",
     "output_type": "stream",
     "text": [
      "Track information loaded and ordered according to cell type (WT IDs >0> Scr IDs)\n",
      "Loaded ND0022/Pos7/\n",
      "Focal time not in frame\n",
      "ID ND0022_Pos7_728_GFP experiment: ND0022/Pos7/\n",
      "Focal time not in frame\n",
      "ID ND0022_Pos7_1125_GFP_frag experiment: ND0022/Pos7/\n",
      "Focal time not in frame\n",
      "ID ND0022_Pos7_1113_GFP_frag experiment: ND0022/Pos7/\n",
      "Focal time not in frame\n",
      "ID ND0022_Pos7_1112_GFP_frag experiment: ND0022/Pos7/\n",
      "Focal time not in frame\n",
      "ID ND0022_Pos7_1842_GFP_frag experiment: ND0022/Pos7/\n",
      "Focal time not in frame\n",
      "ID ND0022_Pos7_1841_GFP_frag experiment: ND0022/Pos7/\n",
      "Focal time not in frame\n",
      "ID ND0022_Pos7_1062_GFP experiment: ND0022/Pos7/\n",
      "Focal time not in frame\n",
      "ID ND0022_Pos7_1104_GFP experiment: ND0022/Pos7/\n",
      "ID ND0022_Pos7_1226_GFP experiment: ND0022/Pos7/\n"
     ]
    },
    {
     "name": "stderr",
     "output_type": "stream",
     "text": [
      "[INFO][2022/06/02 01:17:31 PM] Opening HDF file: /home/nathan/data/kraken/ras/ND0024/Pos3/tracks.h5...\n",
      "[INFO][2022/06/02 01:17:31 PM] Loading tracks/obj_type_1\n",
      "[INFO][2022/06/02 01:17:31 PM] Loading objects/obj_type_1 (636597, 5) (636597 filtered: None)\n"
     ]
    },
    {
     "name": "stdout",
     "output_type": "stream",
     "text": [
      "ID ND0022_Pos7_2017_GFP_frag experiment: ND0022/Pos7/\n",
      "Focal time not in frame\n",
      "ID ND0024_Pos3_320_GFP experiment: ND0024/Pos3/\n",
      "Loading ND0024/Pos3/\n",
      "Btrack version no.: 0.5.0\n"
     ]
    },
    {
     "name": "stderr",
     "output_type": "stream",
     "text": [
      "[INFO][2022/06/02 01:17:43 PM] Closing HDF file: /home/nathan/data/kraken/ras/ND0024/Pos3/tracks.h5\n",
      "[INFO][2022/06/02 01:17:43 PM] Opening HDF file: /home/nathan/data/kraken/ras/ND0024/Pos3/tracks.h5...\n",
      "[INFO][2022/06/02 01:17:43 PM] Loading tracks/obj_type_2\n",
      "[INFO][2022/06/02 01:17:44 PM] Loading objects/obj_type_2 (16475, 5) (16475 filtered: None)\n",
      "[INFO][2022/06/02 01:17:44 PM] Closing HDF file: /home/nathan/data/kraken/ras/ND0024/Pos3/tracks.h5\n",
      "[INFO][2022/06/02 01:17:44 PM] Opening HDF file: /home/nathan/data/kraken/ras/ND0024/Pos4/tracks.h5...\n",
      "[INFO][2022/06/02 01:17:44 PM] Loading tracks/obj_type_1\n",
      "[INFO][2022/06/02 01:17:44 PM] Loading objects/obj_type_1 (586398, 5) (586398 filtered: None)\n"
     ]
    },
    {
     "name": "stdout",
     "output_type": "stream",
     "text": [
      "Track information loaded and ordered according to cell type (WT IDs >0> Scr IDs)\n",
      "Loaded ND0024/Pos3/\n",
      "Focal time not in frame\n",
      "ID ND0024_Pos4_276_GFP experiment: ND0024/Pos4/\n",
      "Loading ND0024/Pos4/\n",
      "Btrack version no.: 0.5.0\n"
     ]
    },
    {
     "name": "stderr",
     "output_type": "stream",
     "text": [
      "[INFO][2022/06/02 01:17:59 PM] Closing HDF file: /home/nathan/data/kraken/ras/ND0024/Pos4/tracks.h5\n",
      "[INFO][2022/06/02 01:17:59 PM] Opening HDF file: /home/nathan/data/kraken/ras/ND0024/Pos4/tracks.h5...\n",
      "[INFO][2022/06/02 01:17:59 PM] Loading tracks/obj_type_2\n",
      "[INFO][2022/06/02 01:17:59 PM] Loading objects/obj_type_2 (33390, 5) (33390 filtered: None)\n",
      "[INFO][2022/06/02 01:17:59 PM] Closing HDF file: /home/nathan/data/kraken/ras/ND0024/Pos4/tracks.h5\n"
     ]
    },
    {
     "name": "stdout",
     "output_type": "stream",
     "text": [
      "Track information loaded and ordered according to cell type (WT IDs >0> Scr IDs)\n",
      "Loaded ND0024/Pos4/\n",
      "Focal time not in frame\n",
      "ID ND0024_Pos4_1349_GFP experiment: ND0024/Pos4/\n",
      "Focal time not in frame\n",
      "ID ND0024_Pos4_1570_GFP experiment: ND0024/Pos4/\n",
      "Focal time not in frame\n",
      "ID ND0024_Pos4_1881_GFP experiment: ND0024/Pos4/\n",
      "Focal time not in frame\n",
      "ID ND0024_Pos4_1306_GFP experiment: ND0024/Pos4/\n"
     ]
    },
    {
     "name": "stderr",
     "output_type": "stream",
     "text": [
      "[INFO][2022/06/02 01:36:36 PM] Opening HDF file: /home/nathan/data/kraken/ras/ND0024/Pos5/tracks.h5...\n",
      "[INFO][2022/06/02 01:36:36 PM] Loading tracks/obj_type_1\n",
      "[INFO][2022/06/02 01:36:36 PM] Loading objects/obj_type_1 (418489, 5) (418489 filtered: None)\n"
     ]
    },
    {
     "name": "stdout",
     "output_type": "stream",
     "text": [
      "ID ND0024_Pos4_3228_GFP_frag experiment: ND0024/Pos4/\n",
      "Focal time not in frame\n",
      "ID ND0024_Pos4_3162_GFP_frag experiment: ND0024/Pos4/\n",
      "Focal time not in frame\n",
      "ID ND0024_Pos4_1264_GFP experiment: ND0024/Pos4/\n",
      "Focal time not in frame\n",
      "ID ND0024_Pos4_2890_GFP_frag experiment: ND0024/Pos4/\n",
      "ID ND0024_Pos5_675_GFP_frag experiment: ND0024/Pos5/\n",
      "Loading ND0024/Pos5/\n",
      "Btrack version no.: 0.5.0\n"
     ]
    },
    {
     "name": "stderr",
     "output_type": "stream",
     "text": [
      "[INFO][2022/06/02 01:36:45 PM] Closing HDF file: /home/nathan/data/kraken/ras/ND0024/Pos5/tracks.h5\n",
      "[INFO][2022/06/02 01:36:45 PM] Opening HDF file: /home/nathan/data/kraken/ras/ND0024/Pos5/tracks.h5...\n",
      "[INFO][2022/06/02 01:36:45 PM] Loading tracks/obj_type_2\n",
      "[INFO][2022/06/02 01:36:45 PM] Loading objects/obj_type_2 (14355, 5) (14355 filtered: None)\n",
      "[INFO][2022/06/02 01:36:45 PM] Closing HDF file: /home/nathan/data/kraken/ras/ND0024/Pos5/tracks.h5\n"
     ]
    },
    {
     "name": "stdout",
     "output_type": "stream",
     "text": [
      "Track information loaded and ordered according to cell type (WT IDs >0> Scr IDs)\n",
      "Loaded ND0024/Pos5/\n",
      "Focal time not in frame\n",
      "ID ND0024_Pos5_1053_GFP experiment: ND0024/Pos5/\n",
      "Focal time not in frame\n",
      "ID ND0024_Pos5_1179_GFP experiment: ND0024/Pos5/\n",
      "Focal time not in frame\n",
      "ID ND0024_Pos5_1183_GFP experiment: ND0024/Pos5/\n",
      "Focal time not in frame\n",
      "ID ND0024_Pos5_1092_GFP_frag experiment: ND0024/Pos5/\n"
     ]
    },
    {
     "name": "stderr",
     "output_type": "stream",
     "text": [
      "[INFO][2022/06/02 01:44:46 PM] Opening HDF file: /home/nathan/data/kraken/ras/ND0024/Pos6/tracks.h5...\n",
      "[INFO][2022/06/02 01:44:46 PM] Loading tracks/obj_type_1\n",
      "[INFO][2022/06/02 01:44:46 PM] Loading objects/obj_type_1 (484009, 5) (484009 filtered: None)\n"
     ]
    },
    {
     "name": "stdout",
     "output_type": "stream",
     "text": [
      "ID ND0024_Pos6_7_GFP experiment: ND0024/Pos6/\n",
      "Loading ND0024/Pos6/\n",
      "Btrack version no.: 0.5.0\n"
     ]
    },
    {
     "name": "stderr",
     "output_type": "stream",
     "text": [
      "[INFO][2022/06/02 01:44:56 PM] Closing HDF file: /home/nathan/data/kraken/ras/ND0024/Pos6/tracks.h5\n",
      "[INFO][2022/06/02 01:44:56 PM] Opening HDF file: /home/nathan/data/kraken/ras/ND0024/Pos6/tracks.h5...\n",
      "[INFO][2022/06/02 01:44:56 PM] Loading tracks/obj_type_2\n",
      "[INFO][2022/06/02 01:44:56 PM] Loading objects/obj_type_2 (46805, 5) (46805 filtered: None)\n",
      "[INFO][2022/06/02 01:44:59 PM] Closing HDF file: /home/nathan/data/kraken/ras/ND0024/Pos6/tracks.h5\n"
     ]
    },
    {
     "name": "stdout",
     "output_type": "stream",
     "text": [
      "Track information loaded and ordered according to cell type (WT IDs >0> Scr IDs)\n",
      "Loaded ND0024/Pos6/\n"
     ]
    },
    {
     "name": "stderr",
     "output_type": "stream",
     "text": [
      "[INFO][2022/06/02 01:52:26 PM] Opening HDF file: /home/nathan/data/kraken/ras/ND0024/Pos7/tracks.h5...\n",
      "[INFO][2022/06/02 01:52:26 PM] Loading tracks/obj_type_1\n"
     ]
    },
    {
     "name": "stdout",
     "output_type": "stream",
     "text": [
      "ID ND0024_Pos6_473_GFP experiment: ND0024/Pos6/\n",
      "Focal time not in frame\n",
      "ID ND0024_Pos6_638_GFP experiment: ND0024/Pos6/\n",
      "Focal time not in frame\n",
      "ID ND0024_Pos6_775_GFP_frag experiment: ND0024/Pos6/\n",
      "ID ND0024_Pos6_776_GFP_frag experiment: ND0024/Pos6/\n",
      "Focal time not in frame\n",
      "ID ND0024_Pos6_639_GFP experiment: ND0024/Pos6/\n",
      "Focal time not in frame\n",
      "ID ND0024_Pos6_754_GFP experiment: ND0024/Pos6/\n",
      "Focal time not in frame\n",
      "ID ND0024_Pos6_1145_GFP_frag experiment: ND0024/Pos6/\n",
      "Focal time not in frame\n",
      "ID ND0024_Pos6_406_GFP experiment: ND0024/Pos6/\n",
      "Focal time not in frame\n",
      "ID ND0024_Pos6_812_GFP experiment: ND0024/Pos6/\n",
      "Focal time not in frame\n",
      "ID ND0024_Pos6_1353_GFP_frag experiment: ND0024/Pos6/\n",
      "Focal time not in frame\n",
      "ID ND0024_Pos6_1354_GFP_frag experiment: ND0024/Pos6/\n",
      "Focal time not in frame\n",
      "ID ND0024_Pos7_8_GFP experiment: ND0024/Pos7/\n",
      "Loading ND0024/Pos7/\n",
      "Btrack version no.: 0.5.0\n"
     ]
    },
    {
     "name": "stderr",
     "output_type": "stream",
     "text": [
      "[INFO][2022/06/02 01:52:26 PM] Loading objects/obj_type_1 (296680, 5) (296680 filtered: None)\n",
      "[INFO][2022/06/02 01:52:32 PM] Closing HDF file: /home/nathan/data/kraken/ras/ND0024/Pos7/tracks.h5\n",
      "[INFO][2022/06/02 01:52:32 PM] Opening HDF file: /home/nathan/data/kraken/ras/ND0024/Pos7/tracks.h5...\n",
      "[INFO][2022/06/02 01:52:32 PM] Loading tracks/obj_type_2\n",
      "[INFO][2022/06/02 01:52:32 PM] Loading objects/obj_type_2 (11337, 5) (11337 filtered: None)\n",
      "[INFO][2022/06/02 01:52:33 PM] Closing HDF file: /home/nathan/data/kraken/ras/ND0024/Pos7/tracks.h5\n"
     ]
    },
    {
     "name": "stdout",
     "output_type": "stream",
     "text": [
      "Track information loaded and ordered according to cell type (WT IDs >0> Scr IDs)\n",
      "Loaded ND0024/Pos7/\n"
     ]
    },
    {
     "name": "stderr",
     "output_type": "stream",
     "text": [
      "[INFO][2022/06/02 01:57:37 PM] Opening HDF file: /home/nathan/data/kraken/ras/ND0025/Pos3/tracks.h5...\n",
      "[INFO][2022/06/02 01:57:37 PM] Loading tracks/obj_type_1\n",
      "[INFO][2022/06/02 01:57:37 PM] Loading objects/obj_type_1 (200555, 5) (200555 filtered: None)\n"
     ]
    },
    {
     "name": "stdout",
     "output_type": "stream",
     "text": [
      "ID ND0025_Pos3_2_GFP experiment: ND0025/Pos3/\n",
      "Loading ND0025/Pos3/\n",
      "Btrack version no.: 0.5.0\n"
     ]
    },
    {
     "name": "stderr",
     "output_type": "stream",
     "text": [
      "[INFO][2022/06/02 01:57:41 PM] Closing HDF file: /home/nathan/data/kraken/ras/ND0025/Pos3/tracks.h5\n",
      "[INFO][2022/06/02 01:57:41 PM] Opening HDF file: /home/nathan/data/kraken/ras/ND0025/Pos3/tracks.h5...\n",
      "[INFO][2022/06/02 01:57:41 PM] Loading tracks/obj_type_2\n",
      "[INFO][2022/06/02 01:57:41 PM] Loading objects/obj_type_2 (4490, 5) (4490 filtered: None)\n",
      "[INFO][2022/06/02 01:57:41 PM] Closing HDF file: /home/nathan/data/kraken/ras/ND0025/Pos3/tracks.h5\n",
      "[INFO][2022/06/02 01:57:41 PM] Opening HDF file: /home/nathan/data/kraken/ras/ND0025/Pos4/tracks.h5...\n",
      "[INFO][2022/06/02 01:57:41 PM] Loading tracks/obj_type_1\n",
      "[INFO][2022/06/02 01:57:41 PM] Loading objects/obj_type_1 (180679, 5) (180679 filtered: None)\n"
     ]
    },
    {
     "name": "stdout",
     "output_type": "stream",
     "text": [
      "Track information loaded and ordered according to cell type (WT IDs >0> Scr IDs)\n",
      "Loaded ND0025/Pos3/\n",
      "Focal time not in frame\n",
      "ID ND0025_Pos4_1275_GFP_frag experiment: ND0025/Pos4/\n",
      "Loading ND0025/Pos4/\n",
      "Btrack version no.: 0.5.0\n"
     ]
    },
    {
     "name": "stderr",
     "output_type": "stream",
     "text": [
      "[INFO][2022/06/02 01:57:45 PM] Closing HDF file: /home/nathan/data/kraken/ras/ND0025/Pos4/tracks.h5\n",
      "[INFO][2022/06/02 01:57:45 PM] Opening HDF file: /home/nathan/data/kraken/ras/ND0025/Pos4/tracks.h5...\n",
      "[INFO][2022/06/02 01:57:45 PM] Loading tracks/obj_type_2\n",
      "[INFO][2022/06/02 01:57:45 PM] Loading objects/obj_type_2 (10302, 5) (10302 filtered: None)\n",
      "[INFO][2022/06/02 01:57:45 PM] Closing HDF file: /home/nathan/data/kraken/ras/ND0025/Pos4/tracks.h5\n",
      "[INFO][2022/06/02 01:57:45 PM] Opening HDF file: /home/nathan/data/kraken/ras/ND0025/Pos6/tracks.h5...\n",
      "[INFO][2022/06/02 01:57:45 PM] Loading tracks/obj_type_1\n",
      "[INFO][2022/06/02 01:57:45 PM] Loading objects/obj_type_1 (392143, 5) (392143 filtered: None)\n"
     ]
    },
    {
     "name": "stdout",
     "output_type": "stream",
     "text": [
      "Track information loaded and ordered according to cell type (WT IDs >0> Scr IDs)\n",
      "Loaded ND0025/Pos4/\n",
      "Focal time not in frame\n",
      "ID ND0025_Pos4_26_GFP experiment: ND0025/Pos4/\n",
      "Focal time not in frame\n",
      "ID ND0025_Pos4_207_GFP experiment: ND0025/Pos4/\n",
      "Focal time not in frame\n",
      "ID ND0025_Pos6_696_GFP_frag experiment: ND0025/Pos6/\n",
      "Loading ND0025/Pos6/\n",
      "Btrack version no.: 0.5.0\n"
     ]
    },
    {
     "name": "stderr",
     "output_type": "stream",
     "text": [
      "[INFO][2022/06/02 01:57:54 PM] Closing HDF file: /home/nathan/data/kraken/ras/ND0025/Pos6/tracks.h5\n",
      "[INFO][2022/06/02 01:57:54 PM] Opening HDF file: /home/nathan/data/kraken/ras/ND0025/Pos6/tracks.h5...\n",
      "[INFO][2022/06/02 01:57:54 PM] Loading tracks/obj_type_2\n",
      "[INFO][2022/06/02 01:57:54 PM] Loading objects/obj_type_2 (5950, 5) (5950 filtered: None)\n",
      "[INFO][2022/06/02 01:57:54 PM] Closing HDF file: /home/nathan/data/kraken/ras/ND0025/Pos6/tracks.h5\n"
     ]
    },
    {
     "name": "stdout",
     "output_type": "stream",
     "text": [
      "Track information loaded and ordered according to cell type (WT IDs >0> Scr IDs)\n",
      "Loaded ND0025/Pos6/\n",
      "Focal time not in frame\n",
      "ID ND0025_Pos6_634_GFP experiment: ND0025/Pos6/\n",
      "Focal time not in frame\n",
      "1600 1600\n"
     ]
    },
    {
     "data": {
      "application/vnd.jupyter.widget-view+json": {
       "model_id": "d52e7f6dbb234b90baa3ee5ef4a116be",
       "version_major": 2,
       "version_minor": 0
      },
      "text/plain": [
       "  0%|          | 0/91 [00:00<?, ?it/s]"
      ]
     },
     "metadata": {},
     "output_type": "display_data"
    },
    {
     "name": "stderr",
     "output_type": "stream",
     "text": [
      "[INFO][2022/06/02 01:57:55 PM] Opening HDF file: /home/nathan/data/kraken/ras/ND0025/Pos7/tracks.h5...\n",
      "[INFO][2022/06/02 01:57:55 PM] Loading tracks/obj_type_1\n",
      "[INFO][2022/06/02 01:57:55 PM] Loading objects/obj_type_1 (197115, 5) (197115 filtered: None)\n"
     ]
    },
    {
     "name": "stdout",
     "output_type": "stream",
     "text": [
      "ID ND0025_Pos7_930_GFP experiment: ND0025/Pos7/\n",
      "Loading ND0025/Pos7/\n",
      "Btrack version no.: 0.5.0\n"
     ]
    },
    {
     "name": "stderr",
     "output_type": "stream",
     "text": [
      "[INFO][2022/06/02 01:57:58 PM] Closing HDF file: /home/nathan/data/kraken/ras/ND0025/Pos7/tracks.h5\n",
      "[INFO][2022/06/02 01:57:58 PM] Opening HDF file: /home/nathan/data/kraken/ras/ND0025/Pos7/tracks.h5...\n",
      "[INFO][2022/06/02 01:57:58 PM] Loading tracks/obj_type_2\n",
      "[INFO][2022/06/02 01:57:58 PM] Loading objects/obj_type_2 (12464, 5) (12464 filtered: None)\n",
      "[INFO][2022/06/02 01:57:59 PM] Closing HDF file: /home/nathan/data/kraken/ras/ND0025/Pos7/tracks.h5\n",
      "[INFO][2022/06/02 01:57:59 PM] Opening HDF file: /home/nathan/data/kraken/ras/ND0025/Pos5/tracks.h5...\n",
      "[INFO][2022/06/02 01:57:59 PM] Loading tracks/obj_type_1\n",
      "[INFO][2022/06/02 01:57:59 PM] Loading objects/obj_type_1 (419463, 5) (419463 filtered: None)\n"
     ]
    },
    {
     "name": "stdout",
     "output_type": "stream",
     "text": [
      "Track information loaded and ordered according to cell type (WT IDs >0> Scr IDs)\n",
      "Loaded ND0025/Pos7/\n",
      "Focal time not in frame\n",
      "ID ND0025_Pos7_958_GFP experiment: ND0025/Pos7/\n",
      "Focal time not in frame\n",
      "ID ND0025_Pos5_1_GFP experiment: ND0025/Pos5/\n",
      "Loading ND0025/Pos5/\n",
      "Btrack version no.: 0.5.0\n"
     ]
    },
    {
     "name": "stderr",
     "output_type": "stream",
     "text": [
      "[INFO][2022/06/02 01:58:07 PM] Closing HDF file: /home/nathan/data/kraken/ras/ND0025/Pos5/tracks.h5\n",
      "[INFO][2022/06/02 01:58:07 PM] Opening HDF file: /home/nathan/data/kraken/ras/ND0025/Pos5/tracks.h5...\n",
      "[INFO][2022/06/02 01:58:07 PM] Loading tracks/obj_type_2\n",
      "[INFO][2022/06/02 01:58:07 PM] Loading objects/obj_type_2 (7218, 5) (7218 filtered: None)\n",
      "[INFO][2022/06/02 01:58:07 PM] Closing HDF file: /home/nathan/data/kraken/ras/ND0025/Pos5/tracks.h5\n",
      "[INFO][2022/06/02 01:58:07 PM] Opening HDF file: /home/nathan/data/kraken/ras/ND0014/Pos5/tracks.h5...\n",
      "[INFO][2022/06/02 01:58:07 PM] Loading tracks/obj_type_1\n"
     ]
    },
    {
     "name": "stdout",
     "output_type": "stream",
     "text": [
      "Track information loaded and ordered according to cell type (WT IDs >0> Scr IDs)\n",
      "Loaded ND0025/Pos5/\n",
      "Focal time not in frame\n",
      "ID ND0014_Pos5_11_GFP experiment: ND0014/Pos5/\n",
      "Loading ND0014/Pos5/\n",
      "Btrack version no.: 0.5.0\n"
     ]
    },
    {
     "name": "stderr",
     "output_type": "stream",
     "text": [
      "[INFO][2022/06/02 01:58:08 PM] Loading objects/obj_type_1 (249924, 5) (249924 filtered: None)\n",
      "[INFO][2022/06/02 01:58:17 PM] Closing HDF file: /home/nathan/data/kraken/ras/ND0014/Pos5/tracks.h5\n",
      "[INFO][2022/06/02 01:58:17 PM] Opening HDF file: /home/nathan/data/kraken/ras/ND0014/Pos5/tracks.h5...\n",
      "[INFO][2022/06/02 01:58:17 PM] Loading tracks/obj_type_2\n",
      "[INFO][2022/06/02 01:58:17 PM] Loading objects/obj_type_2 (62283, 5) (62283 filtered: None)\n",
      "[INFO][2022/06/02 01:58:19 PM] Closing HDF file: /home/nathan/data/kraken/ras/ND0014/Pos5/tracks.h5\n",
      "[INFO][2022/06/02 01:58:20 PM] Opening HDF file: /home/nathan/data/kraken/ras/ND0014/Pos7/tracks.h5...\n",
      "[INFO][2022/06/02 01:58:20 PM] Loading tracks/obj_type_1\n"
     ]
    },
    {
     "name": "stdout",
     "output_type": "stream",
     "text": [
      "Track information loaded and ordered according to cell type (WT IDs >0> Scr IDs)\n",
      "Loaded ND0014/Pos5/\n",
      "Focal time not in frame\n",
      "ID ND0014_Pos5_488_GFP_frag experiment: ND0014/Pos5/\n",
      "Focal time not in frame\n",
      "ID ND0014_Pos5_1317_GFP_frag experiment: ND0014/Pos5/\n",
      "ID ND0014_Pos5_2535_GFP_frag experiment: ND0014/Pos5/\n",
      "Focal time not in frame\n",
      "ID ND0014_Pos7_1_GFP_frag experiment: ND0014/Pos7/\n",
      "Loading ND0014/Pos7/\n",
      "Btrack version no.: 0.5.0\n"
     ]
    },
    {
     "name": "stderr",
     "output_type": "stream",
     "text": [
      "[INFO][2022/06/02 01:58:20 PM] Loading objects/obj_type_1 (182289, 5) (182289 filtered: None)\n",
      "[INFO][2022/06/02 01:58:24 PM] Closing HDF file: /home/nathan/data/kraken/ras/ND0014/Pos7/tracks.h5\n",
      "[INFO][2022/06/02 01:58:24 PM] Opening HDF file: /home/nathan/data/kraken/ras/ND0014/Pos7/tracks.h5...\n",
      "[INFO][2022/06/02 01:58:24 PM] Loading tracks/obj_type_2\n",
      "[INFO][2022/06/02 01:58:24 PM] Loading objects/obj_type_2 (10574, 5) (10574 filtered: None)\n",
      "[INFO][2022/06/02 01:58:24 PM] Closing HDF file: /home/nathan/data/kraken/ras/ND0014/Pos7/tracks.h5\n"
     ]
    },
    {
     "name": "stdout",
     "output_type": "stream",
     "text": [
      "Track information loaded and ordered according to cell type (WT IDs >0> Scr IDs)\n"
     ]
    },
    {
     "name": "stderr",
     "output_type": "stream",
     "text": [
      "[INFO][2022/06/02 01:58:24 PM] Opening HDF file: /home/nathan/data/kraken/ras/ND0014/Pos8/tracks.h5...\n",
      "[INFO][2022/06/02 01:58:24 PM] Loading tracks/obj_type_1\n",
      "[INFO][2022/06/02 01:58:24 PM] Loading objects/obj_type_1 (285628, 5) (285628 filtered: None)\n"
     ]
    },
    {
     "name": "stdout",
     "output_type": "stream",
     "text": [
      "Loaded ND0014/Pos7/\n",
      "Focal time not in frame\n",
      "ID ND0014_Pos8_482_GFP experiment: ND0014/Pos8/\n",
      "Loading ND0014/Pos8/\n",
      "Btrack version no.: 0.5.0\n"
     ]
    },
    {
     "name": "stderr",
     "output_type": "stream",
     "text": [
      "[INFO][2022/06/02 01:58:30 PM] Closing HDF file: /home/nathan/data/kraken/ras/ND0014/Pos8/tracks.h5\n",
      "[INFO][2022/06/02 01:58:30 PM] Opening HDF file: /home/nathan/data/kraken/ras/ND0014/Pos8/tracks.h5...\n",
      "[INFO][2022/06/02 01:58:30 PM] Loading tracks/obj_type_2\n",
      "[INFO][2022/06/02 01:58:30 PM] Loading objects/obj_type_2 (29467, 5) (29467 filtered: None)\n",
      "[INFO][2022/06/02 01:58:32 PM] Closing HDF file: /home/nathan/data/kraken/ras/ND0014/Pos8/tracks.h5\n"
     ]
    },
    {
     "name": "stdout",
     "output_type": "stream",
     "text": [
      "Track information loaded and ordered according to cell type (WT IDs >0> Scr IDs)\n"
     ]
    },
    {
     "name": "stderr",
     "output_type": "stream",
     "text": [
      "[INFO][2022/06/02 01:58:32 PM] Opening HDF file: /home/nathan/data/kraken/ras/ND0014/Pos9/tracks.h5...\n",
      "[INFO][2022/06/02 01:58:32 PM] Loading tracks/obj_type_1\n",
      "[INFO][2022/06/02 01:58:32 PM] Loading objects/obj_type_1 (444747, 5) (444747 filtered: None)\n"
     ]
    },
    {
     "name": "stdout",
     "output_type": "stream",
     "text": [
      "Loaded ND0014/Pos8/\n",
      "Focal time not in frame\n",
      "ID ND0014_Pos8_481_GFP experiment: ND0014/Pos8/\n",
      "Focal time not in frame\n",
      "ID ND0014_Pos9_1_GFP experiment: ND0014/Pos9/\n",
      "Loading ND0014/Pos9/\n",
      "Btrack version no.: 0.5.0\n"
     ]
    },
    {
     "name": "stderr",
     "output_type": "stream",
     "text": [
      "[INFO][2022/06/02 01:58:41 PM] Closing HDF file: /home/nathan/data/kraken/ras/ND0014/Pos9/tracks.h5\n",
      "[INFO][2022/06/02 01:58:41 PM] Opening HDF file: /home/nathan/data/kraken/ras/ND0014/Pos9/tracks.h5...\n",
      "[INFO][2022/06/02 01:58:41 PM] Loading tracks/obj_type_2\n",
      "[INFO][2022/06/02 01:58:41 PM] Loading objects/obj_type_2 (7231, 5) (7231 filtered: None)\n",
      "[INFO][2022/06/02 01:58:42 PM] Closing HDF file: /home/nathan/data/kraken/ras/ND0014/Pos9/tracks.h5\n",
      "[INFO][2022/06/02 01:58:42 PM] Opening HDF file: /home/nathan/data/kraken/ras/ND0017/Pos7/tracks.h5...\n",
      "[INFO][2022/06/02 01:58:42 PM] Loading tracks/obj_type_1\n"
     ]
    },
    {
     "name": "stdout",
     "output_type": "stream",
     "text": [
      "Track information loaded and ordered according to cell type (WT IDs >0> Scr IDs)\n",
      "Loaded ND0014/Pos9/\n",
      "Focal time not in frame\n",
      "ID ND0017_Pos7_1012_GFP_frag experiment: ND0017/Pos7/\n",
      "Loading ND0017/Pos7/\n",
      "Btrack version no.: 0.5.0\n"
     ]
    },
    {
     "name": "stderr",
     "output_type": "stream",
     "text": [
      "[INFO][2022/06/02 01:58:42 PM] Loading objects/obj_type_1 (470131, 5) (470131 filtered: None)\n",
      "[INFO][2022/06/02 01:58:53 PM] Closing HDF file: /home/nathan/data/kraken/ras/ND0017/Pos7/tracks.h5\n",
      "[INFO][2022/06/02 01:58:53 PM] Opening HDF file: /home/nathan/data/kraken/ras/ND0017/Pos7/tracks.h5...\n",
      "[INFO][2022/06/02 01:58:53 PM] Loading tracks/obj_type_2\n",
      "[INFO][2022/06/02 01:58:53 PM] Loading objects/obj_type_2 (22567, 5) (22567 filtered: None)\n",
      "[INFO][2022/06/02 01:58:53 PM] Closing HDF file: /home/nathan/data/kraken/ras/ND0017/Pos7/tracks.h5\n",
      "[INFO][2022/06/02 01:58:54 PM] Opening HDF file: /home/nathan/data/kraken/ras/ND0021/Pos4/tracks.h5...\n",
      "[INFO][2022/06/02 01:58:54 PM] Loading tracks/obj_type_1\n"
     ]
    },
    {
     "name": "stdout",
     "output_type": "stream",
     "text": [
      "Track information loaded and ordered according to cell type (WT IDs >0> Scr IDs)\n",
      "Loaded ND0017/Pos7/\n",
      "ID ND0017_Pos7_547_GFP experiment: ND0017/Pos7/\n",
      "ID ND0017_Pos7_814_GFP experiment: ND0017/Pos7/\n",
      "ID ND0017_Pos7_1627_GFP_frag experiment: ND0017/Pos7/\n",
      "Focal time not in frame\n",
      "ID ND0017_Pos7_1627_GFP experiment: ND0017/Pos7/\n",
      "Focal time not in frame\n",
      "ID ND0021_Pos4_4_GFP experiment: ND0021/Pos4/\n",
      "Loading ND0021/Pos4/\n",
      "Btrack version no.: 0.5.0\n"
     ]
    },
    {
     "name": "stderr",
     "output_type": "stream",
     "text": [
      "[INFO][2022/06/02 01:58:54 PM] Loading objects/obj_type_1 (1488513, 5) (1488513 filtered: None)\n",
      "[INFO][2022/06/02 01:59:31 PM] Closing HDF file: /home/nathan/data/kraken/ras/ND0021/Pos4/tracks.h5\n",
      "[INFO][2022/06/02 01:59:31 PM] Opening HDF file: /home/nathan/data/kraken/ras/ND0021/Pos4/tracks.h5...\n",
      "[INFO][2022/06/02 01:59:31 PM] Loading tracks/obj_type_2\n",
      "[INFO][2022/06/02 01:59:31 PM] Loading objects/obj_type_2 (51348, 5) (51348 filtered: None)\n",
      "[INFO][2022/06/02 01:59:37 PM] Closing HDF file: /home/nathan/data/kraken/ras/ND0021/Pos4/tracks.h5\n"
     ]
    },
    {
     "name": "stdout",
     "output_type": "stream",
     "text": [
      "Track information loaded and ordered according to cell type (WT IDs >0> Scr IDs)\n",
      "Loaded ND0021/Pos4/\n"
     ]
    },
    {
     "name": "stderr",
     "output_type": "stream",
     "text": [
      "[INFO][2022/06/02 02:17:01 PM] Opening HDF file: /home/nathan/data/kraken/ras/ND0021/Pos7/tracks.h5...\n",
      "[INFO][2022/06/02 02:17:01 PM] Loading tracks/obj_type_1\n"
     ]
    },
    {
     "name": "stdout",
     "output_type": "stream",
     "text": [
      "ID ND0021_Pos7_321_GFP experiment: ND0021/Pos7/\n",
      "Loading ND0021/Pos7/\n",
      "Btrack version no.: 0.5.0\n"
     ]
    },
    {
     "name": "stderr",
     "output_type": "stream",
     "text": [
      "[INFO][2022/06/02 02:17:02 PM] Loading objects/obj_type_1 (1481271, 5) (1481271 filtered: None)\n",
      "[INFO][2022/06/02 02:17:33 PM] Closing HDF file: /home/nathan/data/kraken/ras/ND0021/Pos7/tracks.h5\n",
      "[INFO][2022/06/02 02:17:33 PM] Opening HDF file: /home/nathan/data/kraken/ras/ND0021/Pos7/tracks.h5...\n",
      "[INFO][2022/06/02 02:17:33 PM] Loading tracks/obj_type_2\n",
      "[INFO][2022/06/02 02:17:33 PM] Loading objects/obj_type_2 (38441, 5) (38441 filtered: None)\n",
      "[INFO][2022/06/02 02:17:34 PM] Closing HDF file: /home/nathan/data/kraken/ras/ND0021/Pos7/tracks.h5\n"
     ]
    },
    {
     "name": "stdout",
     "output_type": "stream",
     "text": [
      "Track information loaded and ordered according to cell type (WT IDs >0> Scr IDs)\n",
      "Loaded ND0021/Pos7/\n",
      "Focal time not in frame\n",
      "ID ND0021_Pos7_320_GFP experiment: ND0021/Pos7/\n",
      "Focal time not in frame\n",
      "ID ND0021_Pos7_177_GFP experiment: ND0021/Pos7/\n",
      "Focal time not in frame\n",
      "ID ND0021_Pos7_178_GFP experiment: ND0021/Pos7/\n"
     ]
    },
    {
     "name": "stderr",
     "output_type": "stream",
     "text": [
      "[INFO][2022/06/02 02:17:34 PM] Opening HDF file: /home/nathan/data/kraken/ras/ND0022/Pos3/tracks.h5...\n",
      "[INFO][2022/06/02 02:17:34 PM] Loading tracks/obj_type_1\n"
     ]
    },
    {
     "name": "stdout",
     "output_type": "stream",
     "text": [
      "Focal time not in frame\n",
      "ID ND0021_Pos7_507_GFP experiment: ND0021/Pos7/\n",
      "Focal time not in frame\n",
      "ID ND0021_Pos7_506_GFP experiment: ND0021/Pos7/\n",
      "Focal time not in frame\n",
      "ID ND0021_Pos7_598_GFP experiment: ND0021/Pos7/\n",
      "Focal time not in frame\n",
      "ID ND0021_Pos7_599_GFP experiment: ND0021/Pos7/\n",
      "Focal time not in frame\n",
      "ID ND0022_Pos3_4_GFP_frag experiment: ND0022/Pos3/\n",
      "Loading ND0022/Pos3/\n",
      "Btrack version no.: 0.5.0\n"
     ]
    },
    {
     "name": "stderr",
     "output_type": "stream",
     "text": [
      "[INFO][2022/06/02 02:17:34 PM] Loading objects/obj_type_1 (404850, 5) (404850 filtered: None)\n",
      "[INFO][2022/06/02 02:17:47 PM] Closing HDF file: /home/nathan/data/kraken/ras/ND0022/Pos3/tracks.h5\n",
      "[INFO][2022/06/02 02:17:47 PM] Opening HDF file: /home/nathan/data/kraken/ras/ND0022/Pos3/tracks.h5...\n",
      "[INFO][2022/06/02 02:17:47 PM] Loading tracks/obj_type_2\n",
      "[INFO][2022/06/02 02:17:47 PM] Loading objects/obj_type_2 (15790, 5) (15790 filtered: None)\n",
      "[INFO][2022/06/02 02:17:47 PM] Closing HDF file: /home/nathan/data/kraken/ras/ND0022/Pos3/tracks.h5\n"
     ]
    },
    {
     "name": "stdout",
     "output_type": "stream",
     "text": [
      "Track information loaded and ordered according to cell type (WT IDs >0> Scr IDs)\n",
      "Loaded ND0022/Pos3/\n"
     ]
    },
    {
     "name": "stderr",
     "output_type": "stream",
     "text": [
      "[INFO][2022/06/02 02:42:44 PM] Opening HDF file: /home/nathan/data/kraken/ras/ND0022/Pos4/tracks.h5...\n",
      "[INFO][2022/06/02 02:42:44 PM] Loading tracks/obj_type_1\n",
      "[INFO][2022/06/02 02:42:44 PM] Loading objects/obj_type_1 (813379, 5) (813379 filtered: None)\n"
     ]
    },
    {
     "name": "stdout",
     "output_type": "stream",
     "text": [
      "ID ND0022_Pos3_907_GFP_frag experiment: ND0022/Pos3/\n",
      "Focal time not in frame\n",
      "ID ND0022_Pos3_910_GFP_frag experiment: ND0022/Pos3/\n",
      "Focal time not in frame\n",
      "ID ND0022_Pos3_940_GFP_frag experiment: ND0022/Pos3/\n",
      "Focal time not in frame\n",
      "ID ND0022_Pos3_840_GFP_frag experiment: ND0022/Pos3/\n",
      "Focal time not in frame\n",
      "ID ND0022_Pos3_1158_GFP_frag experiment: ND0022/Pos3/\n",
      "Focal time not in frame\n",
      "ID ND0022_Pos3_1197_GFP_frag experiment: ND0022/Pos3/\n",
      "Focal time not in frame\n",
      "ID ND0022_Pos3_1226_GFP_frag experiment: ND0022/Pos3/\n",
      "Focal time not in frame\n",
      "ID ND0022_Pos3_976_GFP experiment: ND0022/Pos3/\n",
      "Focal time not in frame\n",
      "ID ND0022_Pos4_1812_GFP experiment: ND0022/Pos4/\n",
      "Loading ND0022/Pos4/\n",
      "Btrack version no.: 0.5.0\n"
     ]
    },
    {
     "name": "stderr",
     "output_type": "stream",
     "text": [
      "[INFO][2022/06/02 02:43:00 PM] Closing HDF file: /home/nathan/data/kraken/ras/ND0022/Pos4/tracks.h5\n",
      "[INFO][2022/06/02 02:43:00 PM] Opening HDF file: /home/nathan/data/kraken/ras/ND0022/Pos4/tracks.h5...\n",
      "[INFO][2022/06/02 02:43:00 PM] Loading tracks/obj_type_2\n",
      "[INFO][2022/06/02 02:43:00 PM] Loading objects/obj_type_2 (18889, 5) (18889 filtered: None)\n",
      "[INFO][2022/06/02 02:43:00 PM] Closing HDF file: /home/nathan/data/kraken/ras/ND0022/Pos4/tracks.h5\n"
     ]
    },
    {
     "name": "stdout",
     "output_type": "stream",
     "text": [
      "Track information loaded and ordered according to cell type (WT IDs >0> Scr IDs)\n",
      "Loaded ND0022/Pos4/\n",
      "Focal time not in frame\n",
      "ID ND0022_Pos4_643_GFP experiment: ND0022/Pos4/\n",
      "ID ND0022_Pos4_1486_GFP experiment: ND0022/Pos4/\n"
     ]
    },
    {
     "name": "stderr",
     "output_type": "stream",
     "text": [
      "[INFO][2022/06/02 02:59:43 PM] Opening HDF file: /home/nathan/data/kraken/ras/ND0022/Pos5/tracks.h5...\n",
      "[INFO][2022/06/02 02:59:43 PM] Loading tracks/obj_type_1\n"
     ]
    },
    {
     "name": "stdout",
     "output_type": "stream",
     "text": [
      "ID ND0022_Pos5_2_GFP experiment: ND0022/Pos5/\n",
      "Loading ND0022/Pos5/\n",
      "Btrack version no.: 0.5.0\n"
     ]
    },
    {
     "name": "stderr",
     "output_type": "stream",
     "text": [
      "[INFO][2022/06/02 02:59:44 PM] Loading objects/obj_type_1 (254578, 5) (254578 filtered: None)\n",
      "[INFO][2022/06/02 02:59:50 PM] Closing HDF file: /home/nathan/data/kraken/ras/ND0022/Pos5/tracks.h5\n",
      "[INFO][2022/06/02 02:59:50 PM] Opening HDF file: /home/nathan/data/kraken/ras/ND0022/Pos5/tracks.h5...\n",
      "[INFO][2022/06/02 02:59:50 PM] Loading tracks/obj_type_2\n",
      "[INFO][2022/06/02 02:59:50 PM] Loading objects/obj_type_2 (20446, 5) (20446 filtered: None)\n",
      "[INFO][2022/06/02 02:59:50 PM] Closing HDF file: /home/nathan/data/kraken/ras/ND0022/Pos5/tracks.h5\n",
      "[INFO][2022/06/02 02:59:50 PM] Opening HDF file: /home/nathan/data/kraken/ras/ND0022/Pos6/tracks.h5...\n",
      "[INFO][2022/06/02 02:59:50 PM] Loading tracks/obj_type_1\n"
     ]
    },
    {
     "name": "stdout",
     "output_type": "stream",
     "text": [
      "Track information loaded and ordered according to cell type (WT IDs >0> Scr IDs)\n",
      "Loaded ND0022/Pos5/\n",
      "Focal time not in frame\n",
      "ID ND0022_Pos5_1025_GFP_frag experiment: ND0022/Pos5/\n",
      "Focal time not in frame\n",
      "ID ND0022_Pos5_785_GFP experiment: ND0022/Pos5/\n",
      "Focal time not in frame\n",
      "ID ND0022_Pos5_782_GFP experiment: ND0022/Pos5/\n",
      "Focal time not in frame\n",
      "ID ND0022_Pos5_358_GFP experiment: ND0022/Pos5/\n",
      "Focal time not in frame\n",
      "ID ND0022_Pos5_262_GFP experiment: ND0022/Pos5/\n",
      "Focal time not in frame\n",
      "ID ND0022_Pos5_1205_GFP experiment: ND0022/Pos5/\n",
      "Focal time not in frame\n",
      "ID ND0022_Pos6_7_GFP_frag experiment: ND0022/Pos6/\n",
      "Loading ND0022/Pos6/\n",
      "Btrack version no.: 0.5.0\n"
     ]
    },
    {
     "name": "stderr",
     "output_type": "stream",
     "text": [
      "[INFO][2022/06/02 02:59:51 PM] Loading objects/obj_type_1 (1291409, 5) (1291409 filtered: None)\n",
      "[INFO][2022/06/02 03:00:18 PM] Closing HDF file: /home/nathan/data/kraken/ras/ND0022/Pos6/tracks.h5\n",
      "[INFO][2022/06/02 03:00:18 PM] Opening HDF file: /home/nathan/data/kraken/ras/ND0022/Pos6/tracks.h5...\n",
      "[INFO][2022/06/02 03:00:18 PM] Loading tracks/obj_type_2\n",
      "[INFO][2022/06/02 03:00:18 PM] Loading objects/obj_type_2 (15847, 5) (15847 filtered: None)\n",
      "[INFO][2022/06/02 03:00:18 PM] Closing HDF file: /home/nathan/data/kraken/ras/ND0022/Pos6/tracks.h5\n"
     ]
    },
    {
     "name": "stdout",
     "output_type": "stream",
     "text": [
      "Track information loaded and ordered according to cell type (WT IDs >0> Scr IDs)\n",
      "Loaded ND0022/Pos6/\n",
      "Focal time not in frame\n",
      "ID ND0022_Pos6_1_GFP experiment: ND0022/Pos6/\n"
     ]
    },
    {
     "name": "stderr",
     "output_type": "stream",
     "text": [
      "[INFO][2022/06/02 04:04:17 PM] Opening HDF file: /home/nathan/data/kraken/ras/ND0022/Pos7/tracks.h5...\n",
      "[INFO][2022/06/02 04:04:17 PM] Loading tracks/obj_type_1\n"
     ]
    },
    {
     "name": "stdout",
     "output_type": "stream",
     "text": [
      "ID ND0022_Pos7_15_GFP experiment: ND0022/Pos7/\n",
      "Loading ND0022/Pos7/\n",
      "Btrack version no.: 0.5.0\n"
     ]
    },
    {
     "name": "stderr",
     "output_type": "stream",
     "text": [
      "[INFO][2022/06/02 04:04:18 PM] Loading objects/obj_type_1 (465089, 5) (465089 filtered: None)\n",
      "[INFO][2022/06/02 04:04:28 PM] Closing HDF file: /home/nathan/data/kraken/ras/ND0022/Pos7/tracks.h5\n",
      "[INFO][2022/06/02 04:04:28 PM] Opening HDF file: /home/nathan/data/kraken/ras/ND0022/Pos7/tracks.h5...\n",
      "[INFO][2022/06/02 04:04:28 PM] Loading tracks/obj_type_2\n",
      "[INFO][2022/06/02 04:04:28 PM] Loading objects/obj_type_2 (14348, 5) (14348 filtered: None)\n",
      "[INFO][2022/06/02 04:04:28 PM] Closing HDF file: /home/nathan/data/kraken/ras/ND0022/Pos7/tracks.h5\n",
      "[INFO][2022/06/02 04:04:28 PM] Opening HDF file: /home/nathan/data/kraken/ras/ND0024/Pos3/tracks.h5...\n",
      "[INFO][2022/06/02 04:04:28 PM] Loading tracks/obj_type_1\n"
     ]
    },
    {
     "name": "stdout",
     "output_type": "stream",
     "text": [
      "Track information loaded and ordered according to cell type (WT IDs >0> Scr IDs)\n",
      "Loaded ND0022/Pos7/\n",
      "Focal time not in frame\n",
      "ID ND0022_Pos7_728_GFP experiment: ND0022/Pos7/\n",
      "Focal time not in frame\n",
      "ID ND0022_Pos7_1125_GFP_frag experiment: ND0022/Pos7/\n",
      "Focal time not in frame\n",
      "ID ND0022_Pos7_1113_GFP_frag experiment: ND0022/Pos7/\n",
      "Focal time not in frame\n",
      "ID ND0022_Pos7_1112_GFP_frag experiment: ND0022/Pos7/\n",
      "Focal time not in frame\n",
      "ID ND0022_Pos7_1842_GFP_frag experiment: ND0022/Pos7/\n",
      "Focal time not in frame\n",
      "ID ND0022_Pos7_1841_GFP_frag experiment: ND0022/Pos7/\n",
      "Focal time not in frame\n",
      "ID ND0022_Pos7_1062_GFP experiment: ND0022/Pos7/\n",
      "Focal time not in frame\n",
      "ID ND0022_Pos7_1104_GFP experiment: ND0022/Pos7/\n",
      "ID ND0022_Pos7_1226_GFP experiment: ND0022/Pos7/\n",
      "Focal time not in frame\n",
      "ID ND0022_Pos7_2017_GFP_frag experiment: ND0022/Pos7/\n",
      "Focal time not in frame\n",
      "ID ND0024_Pos3_320_GFP experiment: ND0024/Pos3/\n",
      "Loading ND0024/Pos3/\n",
      "Btrack version no.: 0.5.0\n"
     ]
    },
    {
     "name": "stderr",
     "output_type": "stream",
     "text": [
      "[INFO][2022/06/02 04:04:29 PM] Loading objects/obj_type_1 (636597, 5) (636597 filtered: None)\n",
      "[INFO][2022/06/02 04:04:43 PM] Closing HDF file: /home/nathan/data/kraken/ras/ND0024/Pos3/tracks.h5\n",
      "[INFO][2022/06/02 04:04:43 PM] Opening HDF file: /home/nathan/data/kraken/ras/ND0024/Pos3/tracks.h5...\n",
      "[INFO][2022/06/02 04:04:43 PM] Loading tracks/obj_type_2\n",
      "[INFO][2022/06/02 04:04:43 PM] Loading objects/obj_type_2 (16475, 5) (16475 filtered: None)\n",
      "[INFO][2022/06/02 04:04:48 PM] Closing HDF file: /home/nathan/data/kraken/ras/ND0024/Pos3/tracks.h5\n"
     ]
    },
    {
     "name": "stdout",
     "output_type": "stream",
     "text": [
      "Track information loaded and ordered according to cell type (WT IDs >0> Scr IDs)\n",
      "Loaded ND0024/Pos3/\n"
     ]
    },
    {
     "name": "stderr",
     "output_type": "stream",
     "text": [
      "[INFO][2022/06/02 04:21:53 PM] Opening HDF file: /home/nathan/data/kraken/ras/ND0024/Pos4/tracks.h5...\n",
      "[INFO][2022/06/02 04:21:53 PM] Loading tracks/obj_type_1\n",
      "[INFO][2022/06/02 04:21:53 PM] Loading objects/obj_type_1 (586398, 5) (586398 filtered: None)\n"
     ]
    },
    {
     "name": "stdout",
     "output_type": "stream",
     "text": [
      "ID ND0024_Pos4_276_GFP experiment: ND0024/Pos4/\n",
      "Loading ND0024/Pos4/\n",
      "Btrack version no.: 0.5.0\n"
     ]
    },
    {
     "name": "stderr",
     "output_type": "stream",
     "text": [
      "[INFO][2022/06/02 04:22:03 PM] Closing HDF file: /home/nathan/data/kraken/ras/ND0024/Pos4/tracks.h5\n",
      "[INFO][2022/06/02 04:22:03 PM] Opening HDF file: /home/nathan/data/kraken/ras/ND0024/Pos4/tracks.h5...\n",
      "[INFO][2022/06/02 04:22:03 PM] Loading tracks/obj_type_2\n",
      "[INFO][2022/06/02 04:22:03 PM] Loading objects/obj_type_2 (33390, 5) (33390 filtered: None)\n",
      "[INFO][2022/06/02 04:22:03 PM] Closing HDF file: /home/nathan/data/kraken/ras/ND0024/Pos4/tracks.h5\n"
     ]
    },
    {
     "name": "stdout",
     "output_type": "stream",
     "text": [
      "Track information loaded and ordered according to cell type (WT IDs >0> Scr IDs)\n",
      "Loaded ND0024/Pos4/\n",
      "Focal time not in frame\n",
      "ID ND0024_Pos4_1349_GFP experiment: ND0024/Pos4/\n",
      "Focal time not in frame\n",
      "ID ND0024_Pos4_1570_GFP experiment: ND0024/Pos4/\n",
      "Focal time not in frame\n",
      "ID ND0024_Pos4_1881_GFP experiment: ND0024/Pos4/\n",
      "Focal time not in frame\n",
      "ID ND0024_Pos4_1306_GFP experiment: ND0024/Pos4/\n"
     ]
    }
   ],
   "source": [
    "### creating a control measure by swapping RFP IDs with GFP\n",
    "for j in [4,5,6,7,8,9,10,11,12]:\n",
    "    control_dict = {}\n",
    "    for i in event_dict:\n",
    "        control_dict[i.replace('RFP', 'GFP')] = int(random.uniform(0,1000))\n",
    "    output_path = f'./ras_radial_analysis_beta/control{j}'\n",
    "    Path(output_path).mkdir(parents=True, exist_ok=True)\n",
    "    calculate.radial_scan('WT', ## 'Scr',\n",
    "        'DIVIDE', \n",
    "        control_dict, \n",
    "        hdf5_file_list, \n",
    "        radius, \n",
    "        t_range, \n",
    "       # num_bins, \n",
    "        output_path)"
   ]
  },
  {
   "cell_type": "markdown",
   "metadata": {},
   "source": [
    "#### switching the coords of the output files and switching to feathers"
   ]
  },
  {
   "cell_type": "code",
   "execution_count": 40,
   "metadata": {},
   "outputs": [],
   "source": [
    "fns = glob.glob('./ras_radial_analysis_beta/csv/*/*.csv')"
   ]
  },
  {
   "cell_type": "code",
   "execution_count": 50,
   "metadata": {},
   "outputs": [
    {
     "data": {
      "application/vnd.jupyter.widget-view+json": {
       "model_id": "10ebf24ad97e41f0ac3a561b510adcb2",
       "version_major": 2,
       "version_minor": 0
      },
      "text/plain": [
       "  0%|          | 0/434 [00:00<?, ?it/s]"
      ]
     },
     "metadata": {},
     "output_type": "display_data"
    }
   ],
   "source": [
    "for file in tqdm(fns):\n",
    "    apop_ID = file.split('/')[-1].split('_N_')[0]\n",
    "    apo_t, apo_x, apo_y = [int(re.search(r'txy_(\\d+)_(\\d+)_(\\d+)', file)[i]) for i in range(1,4)]\n",
    "    df = pd.read_csv(file, names = ['Cell ID', 'Distance from apoptosis', 'Frame', 'y', 'x']) ### SWITCH COORDS\n",
    "    ### tidy up dataframe\n",
    "    if len(df) == 0:\n",
    "        continue\n",
    "    df['Cell ID'] = df['Cell ID'].str.replace('[()]', '')\n",
    "    df['x'] = df['x'].str.replace('[()]', '')\n",
    "    df = df.astype(int)\n",
    "    ### normalise time\n",
    "    df['Time since apoptosis'] = df['Frame'] - apo_t\n",
    "    ### add apop ID to dataframe\n",
    "    df['Focal ID'] = [apop_ID] * len(df)\n",
    "    new_fn = file.replace('csv', 'feather')\n",
    "    df.to_feather(new_fn)"
   ]
  },
  {
   "cell_type": "markdown",
   "metadata": {},
   "source": [
    "#### organising output into fragmented and unfragmented output"
   ]
  },
  {
   "cell_type": "code",
   "execution_count": 8,
   "metadata": {},
   "outputs": [],
   "source": [
    "frag_list = [i for i in event_dict if 'frag' in i]"
   ]
  },
  {
   "cell_type": "code",
   "execution_count": 18,
   "metadata": {},
   "outputs": [],
   "source": [
    "fns = glob.glob('./ras_radial_analysis_beta/all/*.csv')"
   ]
  },
  {
   "cell_type": "code",
   "execution_count": 20,
   "metadata": {},
   "outputs": [],
   "source": [
    "from shutil import copy"
   ]
  },
  {
   "cell_type": "code",
   "execution_count": 23,
   "metadata": {},
   "outputs": [],
   "source": [
    "for fn in fns:\n",
    "    for i in frag_list:\n",
    "        expt, pos, ID, _, _ = i.split('_')\n",
    "        formatted_ID = f'{expt}_{pos}_mut_-{ID}'\n",
    "        if formatted_ID in fn:\n",
    "            new_fn = fn.replace('all', 'frag')\n",
    "            copy(fn, new_fn)\n",
    "        else:\n",
    "            new_fn = fn.replace('all', 'unfrag')\n",
    "            copy(fn, new_fn)"
   ]
  },
  {
   "cell_type": "markdown",
   "metadata": {},
   "source": [
    "# Compile individual scans into cumulative dataframes \n",
    "\n",
    "As this is quite data intensive I am cropping the number of scans at 1000/1839 at the moment"
   ]
  },
  {
   "cell_type": "code",
   "execution_count": null,
   "metadata": {},
   "outputs": [],
   "source": [
    "files = natsorted(glob.glob(f'{output_path}/{radius}.{t_range}/*.csv'))\n",
    "event_files = [file for file in files if 'N_events' in file]"
   ]
  },
  {
   "cell_type": "code",
   "execution_count": null,
   "metadata": {},
   "outputs": [],
   "source": [
    "event_files"
   ]
  },
  {
   "cell_type": "code",
   "execution_count": null,
   "metadata": {},
   "outputs": [],
   "source": [
    "N_events_df = load_radial_df(event_files, \n",
    "                             R = 300, \n",
    "                             crop_amount = 20, ### how much to crop the spatial measurements to avoid boundary effects\n",
    "                             streamline = False,\n",
    "                            strict_filtering=True)"
   ]
  },
  {
   "cell_type": "code",
   "execution_count": null,
   "metadata": {},
   "outputs": [],
   "source": [
    "R = 0\n",
    "crop_amount = 0\n",
    "x_range = range(R, 1200 - R)\n",
    "y_range = range(R, 1600 - R)\n",
    "file = cell_count_files[0]\n",
    "    ### get apop id to load apop xyt file\n",
    "apop_ID = file.split('/')[-1].split('_N_')[0]\n",
    "if 'Scr' in apop_ID:\n",
    "    apop_ID = apop_ID.replace('Scr_-','')+'_RFP'\n",
    "if 'wt' in apop_ID:\n",
    "    print('Need to configure this')\n",
    "### load full apo xyt\n",
    "apo_xyt_fn = os.path.join('/home/nathan/data/kraken/scr/h2b/giulia/experiment_information/apoptoses/apoptotic_tracks',\n",
    "                         f'{apop_ID}.csv')\n",
    "apo_df = pd.read_csv(apo_xyt_fn)\n",
    "del apo_df['Unnamed: 0']\n",
    "### see if any of the frames of the focal cell leave the FOV\n",
    "frames_outside_fov = []\n",
    "for apo_x, apo_y, apo_t in zip(apo_df['x'], apo_df['y'], apo_df['t']):\n",
    "    if int(apo_x) not in x_range or int(apo_y) not in  y_range:\n",
    "        frames_outside_fov.append(apo_t)\n",
    "#print('Frames outside the FOV for ', apop_ID, frames_outside_fov)\n",
    "### if filtering is strict then exclude any focal cell that leves fov\n",
    "\n",
    "### if filtering is present but not strict then just exclude time points outside fov\n",
    "apo_t, apo_x, apo_y = [int(re.search('txy_(\\d+)_(\\d+)_(\\d+)', file)[i]) for i in range(1,4)]\n",
    "### load dataframe\n",
    "df = pd.read_csv(file, names = ['Cell ID', 'Distance from apoptosis', 'Frame', 'x', 'y'])\n",
    "### tidy up dataframe\n",
    "df['Cell ID'] = df['Cell ID'].str.replace('[()]', '')\n",
    "df['y'] = df['y'].str.replace('[()]', '')\n",
    "df = df.astype(int)\n",
    "### normalise time\n",
    "df['Time since apoptosis'] = df['Frame'] - apo_t\n",
    "### eliminate boundary counts spatially\n",
    "\n",
    "df['Time since apoptosis (hours)'] = round(df['Time since apoptosis']*(4/60), 2)\n",
    "df['Distance from apoptosis (μm)'] = round(df['Distance from apoptosis']/3, 2)\n",
    "del df['Time since apoptosis'], df['Distance from apoptosis']"
   ]
  },
  {
   "cell_type": "code",
   "execution_count": null,
   "metadata": {},
   "outputs": [],
   "source": [
    "N_cell_df = df"
   ]
  },
  {
   "cell_type": "code",
   "execution_count": null,
   "metadata": {},
   "outputs": [],
   "source": [
    "N_cell_df"
   ]
  },
  {
   "cell_type": "code",
   "execution_count": null,
   "metadata": {},
   "outputs": [],
   "source": [
    "N_event_df"
   ]
  },
  {
   "cell_type": "code",
   "execution_count": null,
   "metadata": {},
   "outputs": [],
   "source": [
    "N_event_df = df"
   ]
  },
  {
   "cell_type": "code",
   "execution_count": null,
   "metadata": {},
   "outputs": [],
   "source": [
    "N_events_df"
   ]
  },
  {
   "cell_type": "markdown",
   "metadata": {},
   "source": [
    "# Distribution of events"
   ]
  },
  {
   "cell_type": "code",
   "execution_count": null,
   "metadata": {},
   "outputs": [],
   "source": [
    "sns.histplot(N_events_df, x = 'x', y = 'y', cbar = True,)\n",
    "plt.title('Spatial distribution of wild-type divisions')"
   ]
  },
  {
   "cell_type": "markdown",
   "metadata": {},
   "source": [
    "#### Spatiotemporal distributions"
   ]
  },
  {
   "cell_type": "code",
   "execution_count": null,
   "metadata": {},
   "outputs": [],
   "source": [
    "sns.histplot(N_events_df, x = 'x', y = 'Time since apoptosis', cbar = True)\n",
    "plt.title('Spatio-temporal distribution of wild-type divisions')"
   ]
  },
  {
   "cell_type": "code",
   "execution_count": null,
   "metadata": {},
   "outputs": [],
   "source": [
    "sns.histplot(N_events_df, x = 'y', y = 'Time since apoptosis', cbar = True)\n",
    "plt.title('Spatio-temporal distribution of wild-type divisions')"
   ]
  },
  {
   "cell_type": "code",
   "execution_count": null,
   "metadata": {},
   "outputs": [],
   "source": [
    "sns.histplot(N_events_df, x = 'x', y = 'Frame', cbar = True)\n",
    "plt.title('Spatio-temporal distribution of wild-type divisions')"
   ]
  },
  {
   "cell_type": "code",
   "execution_count": null,
   "metadata": {},
   "outputs": [],
   "source": [
    "sns.histplot(N_events_df, x = 'y', y = 'Frame', cbar = True)\n",
    "plt.title('Spatio-temporal distribution of wild-type divisions')"
   ]
  },
  {
   "cell_type": "code",
   "execution_count": null,
   "metadata": {},
   "outputs": [],
   "source": [
    "sns.histplot(N_events_df, x = 'Distance from apoptosis', y = 'Frame', cbar = True)\n",
    "plt.title('Spatio-temporal distribution of wild-type divisions')"
   ]
  },
  {
   "cell_type": "markdown",
   "metadata": {},
   "source": [
    "### Loading cell counts for probability plot\n",
    "\n",
    "Has to be streamlined for full list"
   ]
  },
  {
   "cell_type": "code",
   "execution_count": null,
   "metadata": {},
   "outputs": [],
   "source": [
    "cell_count_files = [file for file in files if 'N_cell' in file]"
   ]
  },
  {
   "cell_type": "code",
   "execution_count": null,
   "metadata": {},
   "outputs": [],
   "source": [
    "cell_count_files"
   ]
  },
  {
   "cell_type": "code",
   "execution_count": null,
   "metadata": {},
   "outputs": [],
   "source": [
    "N_cells_df = load_radial_df(cell_count_files, \n",
    "                            R = 300, \n",
    "                            crop_amount = 20, \n",
    "                            streamline = True, \n",
    "                           strict_filtering=True) ### N_cells is large so streamlining advised"
   ]
  },
  {
   "cell_type": "code",
   "execution_count": null,
   "metadata": {},
   "outputs": [],
   "source": [
    "N_cells_df"
   ]
  },
  {
   "cell_type": "markdown",
   "metadata": {},
   "source": [
    "# Plotting the ratio of N_events to N_cells (i.e. P_events) \n",
    "\n",
    "These graphs are not cropped or using filtered apoptoses"
   ]
  },
  {
   "cell_type": "code",
   "execution_count": null,
   "metadata": {},
   "outputs": [],
   "source": [
    "bins = 40"
   ]
  },
  {
   "cell_type": "code",
   "execution_count": null,
   "metadata": {
    "scrolled": true
   },
   "outputs": [],
   "source": [
    "N_events, xedges, yedges, _ = plt.hist2d(N_event_df['Time since apoptosis (hours)'], N_event_df['Distance from apoptosis (μm)'],\n",
    "                      bins=bins, cmap='RdPu')\n",
    "plt.colorbar(label = 'Number of wild-type divisions')\n",
    "plt.title('Distribution of wild-type divisions \\naround a Scribble apoptosis')\n",
    "plt.ylabel('Distance from apoptoses (μm)')\n",
    "plt.xlabel('Time since apoptoses (hours)')"
   ]
  },
  {
   "cell_type": "code",
   "execution_count": null,
   "metadata": {},
   "outputs": [],
   "source": [
    "N_events, xedges, yedges, _ = plt.hist2d(N_cell_df['Time since apoptosis (hours)'], N_cell_df['Distance from apoptosis (μm)'],\n",
    "                      bins=bins, cmap='RdPu')\n",
    "plt.colorbar(label = 'Number of wild-type cells')\n",
    "plt.title('Distribution of wild-type cells \\naround a Scribble apoptosis')\n",
    "plt.ylabel('Distance from apoptoses (μm)')\n",
    "plt.xlabel('Time since apoptoses (hours)')"
   ]
  },
  {
   "cell_type": "code",
   "execution_count": null,
   "metadata": {},
   "outputs": [],
   "source": [
    "N_events, xedges, yedges, _ = plt.hist2d(N_events_df['Time since apoptosis'], N_events_df['Distance from apoptosis'],\n",
    "                      bins=bins, cmap='Blues')\n",
    "plt.colorbar(label = 'Number of wild-type divisions')\n",
    "plt.title('Distribution of wild-type divisions \\naround Scribble apoptoses (N = 1839)')\n",
    "plt.ylabel('Distance from apoptoses (μm)')\n",
    "plt.xlabel('Time since apoptoses (hours)')"
   ]
  },
  {
   "cell_type": "code",
   "execution_count": null,
   "metadata": {},
   "outputs": [],
   "source": [
    "N_cells, xedges, yedges, _ = plt.hist2d(N_cells_df['Time since apoptosis'], N_cells_df['Distance from apoptosis'],\n",
    "                      bins=bins, cmap='Blues')\n",
    "plt.colorbar(label = 'Number of wild-type cells')\n",
    "plt.title('Distribution of wild-type cells \\naround Scribble apoptoses (N = 1839)')\n",
    "plt.ylabel('Distance from apoptoses (μm)')\n",
    "plt.xlabel('Time since apoptoses (hours)')"
   ]
  },
  {
   "cell_type": "code",
   "execution_count": null,
   "metadata": {},
   "outputs": [],
   "source": [
    "P_events = N_events/N_cells\n",
    "pc = plt.pcolormesh(xedges, yedges, P_events.T, cmap = 'Blues')\n",
    "plt.colorbar(label = 'Probability of wild-type division \\n(No. divisions/No. cells)')\n",
    "plt.title('Distribution of wild-type division probability \\naround Scribble apoptoses (N = 1839)')\n",
    "plt.ylabel('Distance from apoptoses (μm)')\n",
    "plt.xlabel('Time since apoptoses (hours)')"
   ]
  },
  {
   "cell_type": "markdown",
   "metadata": {},
   "source": [
    "#### Investigating the brightest box \n",
    "\n",
    "2 mitosis isn't anything to be going and drawing any conclusions from?"
   ]
  },
  {
   "cell_type": "code",
   "execution_count": null,
   "metadata": {},
   "outputs": [],
   "source": [
    "N_events.T[0,0]"
   ]
  },
  {
   "cell_type": "code",
   "execution_count": null,
   "metadata": {},
   "outputs": [],
   "source": [
    "N_cells.T[0,0]"
   ]
  },
  {
   "cell_type": "code",
   "execution_count": null,
   "metadata": {
    "scrolled": false
   },
   "outputs": [],
   "source": [
    "N_events.T[0,0]/N_cells[0,0]"
   ]
  },
  {
   "cell_type": "markdown",
   "metadata": {},
   "source": [
    "# Constraining the spatiotemporal range of the plots"
   ]
  },
  {
   "cell_type": "code",
   "execution_count": null,
   "metadata": {},
   "outputs": [],
   "source": [
    "t_min, t_max = -20,20 ## in hours\n",
    "R_max = 150 ## in micrometers"
   ]
  },
  {
   "cell_type": "code",
   "execution_count": null,
   "metadata": {},
   "outputs": [],
   "source": [
    "bins = 10"
   ]
  },
  {
   "cell_type": "code",
   "execution_count": null,
   "metadata": {},
   "outputs": [],
   "source": [
    "N_events_constrained_df = N_events_df.loc[(N_events_df['Time since apoptosis'] >= t_min) & (N_events_df['Time since apoptosis'] <= t_max) & (N_events_df['Distance from apoptosis'] <= R_max)]\n",
    "N_cells_constrained_df = N_cells_df.loc[(N_cells_df['Time since apoptosis'] >= t_min) & (N_cells_df['Time since apoptosis'] <= t_max) & (N_cells_df['Distance from apoptosis'] <= R_max)]"
   ]
  },
  {
   "cell_type": "code",
   "execution_count": null,
   "metadata": {},
   "outputs": [],
   "source": [
    "N_events_constrained_df"
   ]
  },
  {
   "cell_type": "code",
   "execution_count": null,
   "metadata": {},
   "outputs": [],
   "source": [
    "N_events, xedges, yedges, _ = plt.hist2d(N_events_constrained_df['Time since apoptosis'], N_events_constrained_df['Distance from apoptosis'],\n",
    "                      bins=bins, cmap='Blues')\n",
    "plt.colorbar(label = 'Number of wild-type divisions')\n",
    "plt.title('Distribution of wild-type divisions \\naround Scribble apoptoses (N = 1839)')\n",
    "plt.ylabel('Distance from apoptoses (μm)')\n",
    "plt.xlabel('Time since apoptoses (hours)')"
   ]
  },
  {
   "cell_type": "code",
   "execution_count": null,
   "metadata": {},
   "outputs": [],
   "source": [
    "N_cells, xedges, yedges, _ = plt.hist2d(N_cells_constrained_df['Time since apoptosis'], N_cells_constrained_df['Distance from apoptosis'],\n",
    "                      bins=bins, cmap='Blues')\n",
    "plt.colorbar(label = 'Number of wild-type cells')\n",
    "plt.title('Distribution of wild-type cells \\naround Scribble apoptoses (N = 1839)')\n",
    "plt.ylabel('Distance from apoptoses (μm)')\n",
    "plt.xlabel('Time since apoptoses (hours)')"
   ]
  },
  {
   "cell_type": "code",
   "execution_count": null,
   "metadata": {},
   "outputs": [],
   "source": [
    "P_events = N_events/N_cells\n",
    "pc = plt.pcolormesh(xedges, yedges, P_events.T, cmap = 'Blues')\n",
    "plt.colorbar(label = 'Probability of wild-type division \\n(No. divisions/No. cells)',)\n",
    "plt.title('Distribution of wild-type division probability \\naround Scribble apoptoses (N = 1839)')\n",
    "plt.ylabel('Distance from apoptoses (μm)')\n",
    "plt.xlabel('Time since apoptoses (hours)')"
   ]
  },
  {
   "cell_type": "code",
   "execution_count": null,
   "metadata": {},
   "outputs": [],
   "source": [
    "N_events[0,0]"
   ]
  },
  {
   "cell_type": "code",
   "execution_count": null,
   "metadata": {},
   "outputs": [],
   "source": [
    "N_cells[0,0]"
   ]
  },
  {
   "cell_type": "code",
   "execution_count": null,
   "metadata": {},
   "outputs": [],
   "source": [
    "N_events[0,0]/N_cells[0,0]"
   ]
  },
  {
   "cell_type": "markdown",
   "metadata": {},
   "source": [
    "Same same kinda graph as previous times I have generated it. So what makes -20 hours so important? And if I change the bounds of the plot/bins does it's importance fail?"
   ]
  },
  {
   "cell_type": "markdown",
   "metadata": {},
   "source": [
    "# Cropping based on radial scan not leaving the FOV\n",
    "\n",
    "For a radial scan of maximum extent 300 pixels (100um, ie 5 cell radii)\n",
    "\n"
   ]
  },
  {
   "cell_type": "code",
   "execution_count": null,
   "metadata": {},
   "outputs": [],
   "source": [
    "cell_count_files"
   ]
  },
  {
   "cell_type": "code",
   "execution_count": null,
   "metadata": {},
   "outputs": [],
   "source": [
    "N_events_df = load_radial_df(event_files,#[0:1000], \n",
    "                            R = 300, \n",
    "                            crop_amount = 20, \n",
    "                            streamline = True, \n",
    "                            strict_filtering = False)"
   ]
  },
  {
   "cell_type": "code",
   "execution_count": null,
   "metadata": {},
   "outputs": [],
   "source": [
    "N_cells_df = load_radial_df(cell_count_files,#[0:1000], \n",
    "                            R = 300, \n",
    "                            crop_amount = 20, \n",
    "                            streamline = True, \n",
    "                            strict_filtering = False)"
   ]
  },
  {
   "cell_type": "code",
   "execution_count": null,
   "metadata": {},
   "outputs": [],
   "source": [
    "N_events_df"
   ]
  },
  {
   "cell_type": "code",
   "execution_count": null,
   "metadata": {},
   "outputs": [],
   "source": [
    "N_cells_df"
   ]
  },
  {
   "cell_type": "markdown",
   "metadata": {},
   "source": [
    "#### Focal apoptotic scans that leave the FOV are excluded"
   ]
  },
  {
   "cell_type": "code",
   "execution_count": null,
   "metadata": {},
   "outputs": [],
   "source": [
    "t_range = (-10,10)\n",
    "R_max = 100\n",
    "bins = (20, 5)\n",
    "P_events, xedges, yedges, N_events, N_cells = render(N_events_df, N_cells_df, bins, t_range, R_max)\n",
    "pc = plt.pcolormesh(xedges, yedges, P_events.T, cmap = 'Reds', )\n",
    "plt.colorbar(label = 'Probability of wild-type division \\n(No. divisions/No. cells)',)\n",
    "plt.title('Distribution of wild-type division probability \\naround Scribble apoptoses (N = 1839)')\n",
    "plt.ylabel('Distance from apoptoses (μm)')\n",
    "plt.xlabel('Time since apoptoses (hours)')"
   ]
  },
  {
   "cell_type": "markdown",
   "metadata": {},
   "source": [
    "## Testing filtering of time frames outside FOV"
   ]
  },
  {
   "cell_type": "code",
   "execution_count": null,
   "metadata": {},
   "outputs": [],
   "source": [
    "N_events_df = load_radial_df(event_files[0:1000], \n",
    "                            R = 300, \n",
    "                            crop_amount = 20, \n",
    "                            streamline = True, \n",
    "                            strict_filtering = False)"
   ]
  },
  {
   "cell_type": "code",
   "execution_count": null,
   "metadata": {},
   "outputs": [],
   "source": [
    "N_cells_df = load_radial_df(cell_count_files[0:1000],\n",
    "                            R = 300, \n",
    "                            crop_amount = 20, \n",
    "                            streamline = True, \n",
    "                            strict_filtering = False)"
   ]
  },
  {
   "cell_type": "code",
   "execution_count": null,
   "metadata": {},
   "outputs": [],
   "source": [
    "N_events_df"
   ]
  },
  {
   "cell_type": "code",
   "execution_count": null,
   "metadata": {},
   "outputs": [],
   "source": [
    "N_cells_df"
   ]
  },
  {
   "cell_type": "markdown",
   "metadata": {},
   "source": [
    "### Time points where the focal apoptotic scan leaves the FOV are excluded"
   ]
  },
  {
   "cell_type": "code",
   "execution_count": null,
   "metadata": {},
   "outputs": [],
   "source": [
    "t_range = (-10,10)\n",
    "R_max = 100\n",
    "bins = (20, 5)\n",
    "P_events, xedges, yedges, N_events, N_cells = render(N_events_df, N_cells_df, bins, t_range, R_max)\n",
    "pc = plt.pcolormesh(xedges, yedges, P_events.T, cmap = 'Reds', )\n",
    "plt.colorbar(label = 'Probability of wild-type division \\n(No. divisions/No. cells)',)\n",
    "plt.title('Distribution of wild-type division probability \\naround Scribble apoptoses (N = 1839)')\n",
    "plt.ylabel('Distance from apoptoses (μm)')\n",
    "plt.xlabel('Time since apoptoses (hours)')"
   ]
  },
  {
   "cell_type": "markdown",
   "metadata": {},
   "source": [
    "# No filtering"
   ]
  },
  {
   "cell_type": "code",
   "execution_count": null,
   "metadata": {},
   "outputs": [],
   "source": [
    "N_events_df = load_radial_df(event_files[0:1000], \n",
    "                            R = 0, \n",
    "                            crop_amount = 20, \n",
    "                            streamline = True, \n",
    "                            strict_filtering = False)"
   ]
  },
  {
   "cell_type": "code",
   "execution_count": null,
   "metadata": {},
   "outputs": [],
   "source": [
    "N_events_df"
   ]
  },
  {
   "cell_type": "code",
   "execution_count": null,
   "metadata": {},
   "outputs": [],
   "source": [
    "N_cells_df = load_radial_df(cell_count_files[0:1000], \n",
    "                            R = 0, \n",
    "                            crop_amount = 20, \n",
    "                            streamline = True, \n",
    "                            strict_filtering = False)"
   ]
  },
  {
   "cell_type": "markdown",
   "metadata": {},
   "source": [
    "### All apoptoses are included regardless of whether they leave the FOV"
   ]
  },
  {
   "cell_type": "code",
   "execution_count": null,
   "metadata": {},
   "outputs": [],
   "source": [
    "t_range = (-10,10)\n",
    "R_max = 100\n",
    "bins = (20, 5)\n",
    "P_events, xedges, yedges, N_events, N_cells = render(N_events_df, N_cells_df, bins, t_range, R_max)\n",
    "pc = plt.pcolormesh(xedges, yedges, P_events.T, cmap = 'Reds', )\n",
    "plt.colorbar(label = 'Probability of wild-type division \\n(No. divisions/No. cells)',)\n",
    "plt.title('Distribution of wild-type division probability \\naround Scribble apoptoses (N = 1839)')\n",
    "plt.ylabel('Distance from apoptoses (μm)')\n",
    "plt.xlabel('Time since apoptoses (hours)')"
   ]
  },
  {
   "cell_type": "markdown",
   "metadata": {},
   "source": [
    "#### Old plots showing the distribution of focal time point xy locations when they were filtered"
   ]
  },
  {
   "cell_type": "code",
   "execution_count": null,
   "metadata": {
    "scrolled": true
   },
   "outputs": [],
   "source": [
    "sns.histplot(N_events_apop_xy_df, x = 'x', y = 'y', cbar = True,)\n",
    "plt.title(f'Spatial distribution of filtered Scr. apoptoses (R = {R})')"
   ]
  },
  {
   "cell_type": "code",
   "execution_count": null,
   "metadata": {},
   "outputs": [],
   "source": [
    "N_apop_events"
   ]
  },
  {
   "cell_type": "markdown",
   "metadata": {},
   "source": [
    "### Now filter the N_cell counts too"
   ]
  },
  {
   "cell_type": "code",
   "execution_count": null,
   "metadata": {
    "scrolled": false
   },
   "outputs": [],
   "source": [
    "sns.histplot(N_cells_apop_xy_df, x = 'x', y = 'y', cbar = True,)\n",
    "plt.title(f'Spatial distribution of filtered Scr. apoptoses (R = {R})')"
   ]
  },
  {
   "cell_type": "code",
   "execution_count": null,
   "metadata": {},
   "outputs": [],
   "source": [
    "N_apop_cells"
   ]
  },
  {
   "cell_type": "code",
   "execution_count": null,
   "metadata": {},
   "outputs": [],
   "source": [
    "### checking the exclusion of apoptoses is consistent\n",
    "N_apop_cells == N_apop_events"
   ]
  },
  {
   "cell_type": "markdown",
   "metadata": {},
   "source": [
    "# Plotting filtered focal apoptoses"
   ]
  },
  {
   "cell_type": "code",
   "execution_count": null,
   "metadata": {},
   "outputs": [],
   "source": [
    "bins = 40"
   ]
  },
  {
   "cell_type": "code",
   "execution_count": null,
   "metadata": {},
   "outputs": [],
   "source": [
    "N_events, xedges, yedges, _ = plt.hist2d(N_events_df['Time since apoptosis'], N_events_df['Distance from apoptosis'],\n",
    "                      bins=bins, cmap='Blues')\n",
    "plt.colorbar(label = 'Number of wild-type divisions')\n",
    "plt.title('Distribution of wild-type divisions \\naround Scribble apoptoses (N = 1000)')\n",
    "plt.ylabel('Distance from apoptoses (μm)')\n",
    "plt.xlabel('Time since apoptoses (hours)')"
   ]
  },
  {
   "cell_type": "code",
   "execution_count": null,
   "metadata": {},
   "outputs": [],
   "source": [
    "N_cells, xedges, yedges, _ = plt.hist2d(N_cells_df['Time since apoptosis'], N_cells_df['Distance from apoptosis'],\n",
    "                      bins=bins, cmap='Blues')\n",
    "plt.colorbar(label = 'Number of wild-type cells')\n",
    "plt.title('Distribution of wild-type cells \\naround Scribble apoptoses (N = 1000)')\n",
    "plt.ylabel('Distance from apoptoses (μm)')\n",
    "plt.xlabel('Time since apoptoses (hours)')"
   ]
  },
  {
   "cell_type": "code",
   "execution_count": null,
   "metadata": {},
   "outputs": [],
   "source": [
    "P_events = N_events/N_cells\n",
    "pc = plt.pcolormesh(xedges, yedges, P_events.T, cmap = 'Blues')\n",
    "plt.colorbar(label = 'Probability of wild-type division \\n(No. divisions/No. cells)',)\n",
    "plt.title('Distribution of wild-type division probability \\naround Scribble apoptoses (N = 1839)')\n",
    "plt.ylabel('Distance from apoptoses (μm)')\n",
    "plt.xlabel('Time since apoptoses (hours)')"
   ]
  },
  {
   "cell_type": "markdown",
   "metadata": {},
   "source": [
    "# Constraining the spatiotemporal range of the plots"
   ]
  },
  {
   "cell_type": "markdown",
   "metadata": {},
   "source": [
    "### This binning is 2hours/25um "
   ]
  },
  {
   "cell_type": "code",
   "execution_count": null,
   "metadata": {},
   "outputs": [],
   "source": [
    "P_events = N_events/N_cells\n",
    "pc = plt.pcolormesh(xedges, yedges, P_events.T, cmap = 'Reds',)\n",
    "plt.colorbar(label = 'Probability of wild-type division \\n(No. divisions/No. cells)',)\n",
    "plt.title('Distribution of wild-type division probability \\naround Scribble apoptoses (N = 1839)')\n",
    "plt.ylabel('Distance from apoptoses (μm)')\n",
    "plt.xlabel('Time since apoptoses (hours)')"
   ]
  },
  {
   "cell_type": "markdown",
   "metadata": {},
   "source": [
    "# Testing different bin sizes"
   ]
  },
  {
   "cell_type": "markdown",
   "metadata": {},
   "source": [
    "#### Strict filtering"
   ]
  },
  {
   "cell_type": "code",
   "execution_count": null,
   "metadata": {},
   "outputs": [],
   "source": [
    "t_range = (-10,10)\n",
    "R_max = 200\n",
    "bins = (10, 10)\n",
    "P_events, xedges, yedges,  N_events, N_cells = render(N_events_df, N_cells_df, bins, t_range, R_max)\n",
    "pc = plt.pcolormesh(xedges, yedges, P_events.T, cmap = 'Reds', )\n",
    "plt.colorbar(label = 'Probability of wild-type division \\n(No. divisions/No. cells)',)\n",
    "plt.title('Distribution of wild-type division probability \\naround filtered Scribble apoptoses (N = 257)')\n",
    "plt.ylabel('Distance from apoptoses (μm)')\n",
    "plt.xlabel('Time since apoptoses (hours)')"
   ]
  },
  {
   "cell_type": "markdown",
   "metadata": {},
   "source": [
    "#### No filtering"
   ]
  },
  {
   "cell_type": "code",
   "execution_count": null,
   "metadata": {},
   "outputs": [],
   "source": [
    "t_range = (-10,10)\n",
    "R_max = 200\n",
    "bins = (10, 10)\n",
    "P_events, xedges, yedges,  N_events, N_cells = render(bins, t_range, R_max)\n",
    "pc = plt.pcolormesh(xedges, yedges, P_events.T, cmap = 'Reds', )\n",
    "plt.colorbar(label = 'Probability of wild-type division \\n(No. divisions/No. cells)',)\n",
    "plt.title('Distribution of wild-type division probability \\naround Scribble apoptoses (N = 1839)')\n",
    "plt.ylabel('Distance from apoptoses (μm)')\n",
    "plt.xlabel('Time since apoptoses (hours)')"
   ]
  },
  {
   "cell_type": "markdown",
   "metadata": {},
   "source": [
    "#### Strict filtering"
   ]
  },
  {
   "cell_type": "code",
   "execution_count": null,
   "metadata": {},
   "outputs": [],
   "source": [
    "t_range = (-5,5)\n",
    "R_max = 100\n",
    "bins = (10, 10)\n",
    "P_events, xedges, yedges,  N_events, N_cells = render(N_events_df, N_cells_df, bins, t_range, R_max)\n",
    "pc = plt.pcolormesh(xedges, yedges, P_events.T, cmap = 'Reds', )\n",
    "plt.colorbar(label = 'Probability of wild-type division \\n(No. divisions/No. cells)',)\n",
    "plt.title('Distribution of wild-type division probability \\naround filtered Scribble apoptoses (N = 257)')\n",
    "plt.ylabel('Distance from apoptoses (μm)')\n",
    "plt.xlabel('Time since apoptoses (hours)')"
   ]
  },
  {
   "cell_type": "code",
   "execution_count": null,
   "metadata": {},
   "outputs": [],
   "source": [
    "t_range = (-5,5)\n",
    "R_max = 100\n",
    "bins = (10, 10)\n",
    "P_events, xedges, yedges, N_events, N_cells = render(bins, t_range, R_max)\n",
    "pc = plt.pcolormesh(xedges, yedges, P_events.T, cmap = 'Reds', )\n",
    "plt.colorbar(label = 'Probability of wild-type division \\n(No. divisions/No. cells)',)\n",
    "plt.title('Distribution of wild-type division probability \\naround Scribble apoptoses (N = 1839)')\n",
    "plt.ylabel('Distance from apoptoses (μm)')\n",
    "plt.xlabel('Time since apoptoses (hours)')"
   ]
  },
  {
   "cell_type": "code",
   "execution_count": null,
   "metadata": {},
   "outputs": [],
   "source": [
    "t_range = (-10,10)\n",
    "R_max = 100\n",
    "bins = (10, 10)\n",
    "P_events, xedges, yedges, N_events, N_cells = render(bins, t_range, R_max)\n",
    "pc = plt.pcolormesh(xedges, yedges, P_events.T, cmap = 'Reds', )\n",
    "plt.colorbar(label = 'Probability of wild-type division \\n(No. divisions/No. cells)',)\n",
    "plt.title('Distribution of wild-type division probability \\naround Scribble apoptoses (N = 1839)')\n",
    "plt.ylabel('Distance from apoptoses (μm)')\n",
    "plt.xlabel('Time since apoptoses (hours)')"
   ]
  },
  {
   "cell_type": "code",
   "execution_count": null,
   "metadata": {},
   "outputs": [],
   "source": [
    "t_range = (-10,10)\n",
    "R_max = 200\n",
    "bins = (20, 10)\n",
    "P_events, xedges, yedges, N_events, N_cells = render(bins, t_range, R_max)\n",
    "pc = plt.pcolormesh(xedges, yedges, P_events.T, cmap = 'Reds', )\n",
    "plt.colorbar(label = 'Probability of wild-type division \\n(No. divisions/No. cells)',)\n",
    "plt.title('Distribution of wild-type division probability \\naround Scribble apoptoses (N = 1839)')\n",
    "plt.ylabel('Distance from apoptoses (μm)')\n",
    "plt.xlabel('Time since apoptoses (hours)')"
   ]
  },
  {
   "cell_type": "markdown",
   "metadata": {},
   "source": [
    "#### Strict filtering"
   ]
  },
  {
   "cell_type": "code",
   "execution_count": null,
   "metadata": {},
   "outputs": [],
   "source": [
    "t_range = (-10,10)\n",
    "R_max = 200\n",
    "bins = (40, 10)\n",
    "P_events, xedges, yedges,  N_events, N_cells = render(N_events_df, N_cells_df, bins, t_range, R_max)\n",
    "pc = plt.pcolormesh(xedges, yedges, P_events.T, cmap = 'Reds', )\n",
    "plt.colorbar(label = 'Probability of wild-type division \\n(No. divisions/No. cells)',)\n",
    "plt.title('Distribution of wild-type division probability \\naround filtered Scribble apoptoses (N = 257)')\n",
    "plt.ylabel('Distance from apoptoses (μm)')\n",
    "plt.xlabel('Time since apoptoses (hours)')"
   ]
  },
  {
   "cell_type": "code",
   "execution_count": null,
   "metadata": {},
   "outputs": [],
   "source": [
    "t_range = (-10,10)\n",
    "R_max = 200\n",
    "bins = (40, 10)\n",
    "P_events, xedges, yedges, N_events, N_cells = render(bins, t_range, R_max)\n",
    "pc = plt.pcolormesh(xedges, yedges, P_events.T, cmap = 'Reds', )\n",
    "plt.colorbar(label = 'Probability of wild-type division \\n(No. divisions/No. cells)',)\n",
    "plt.title('Distribution of wild-type division probability \\naround Scribble apoptoses (N = 1839)')\n",
    "plt.ylabel('Distance from apoptoses (μm)')\n",
    "plt.xlabel('Time since apoptoses (hours)')"
   ]
  },
  {
   "cell_type": "code",
   "execution_count": null,
   "metadata": {},
   "outputs": [],
   "source": [
    "t_range = (-10,10)\n",
    "R_max = 200\n",
    "bins = (80, 10)\n",
    "P_events, xedges, yedges, N_events, N_cells = render(bins, t_range, R_max)\n",
    "pc = plt.pcolormesh(xedges, yedges, P_events.T, cmap = 'Reds', )\n",
    "plt.colorbar(label = 'Probability of wild-type division \\n(No. divisions/No. cells)',)\n",
    "plt.title('Distribution of wild-type division probability \\naround Scribble apoptoses (N = 1839)')\n",
    "plt.ylabel('Distance from apoptoses (μm)')\n",
    "plt.xlabel('Time since apoptoses (hours)')"
   ]
  },
  {
   "cell_type": "code",
   "execution_count": null,
   "metadata": {},
   "outputs": [],
   "source": [
    "t_range = (-10,10)\n",
    "R_max = 200\n",
    "bins = (100, 10)\n",
    "P_events, xedges, yedges, N_events, N_cells = render(bins, t_range, R_max)\n",
    "pc = plt.pcolormesh(xedges, yedges, P_events.T, cmap = 'Reds', )\n",
    "plt.colorbar(label = 'Probability of wild-type division \\n(No. divisions/No. cells)',)\n",
    "plt.title('Distribution of wild-type division probability \\naround Scribble apoptoses (N = 1839)')\n",
    "plt.ylabel('Distance from apoptoses (μm)')\n",
    "plt.xlabel('Time since apoptoses (hours)')"
   ]
  },
  {
   "cell_type": "code",
   "execution_count": null,
   "metadata": {},
   "outputs": [],
   "source": [
    "t_range = (-10,10)\n",
    "R_max = 1000\n",
    "bins = (10, 10)\n",
    "P_events, xedges, yedges, N_events, N_cells = render(bins, t_range, R_max)\n",
    "pc = plt.pcolormesh(xedges, yedges, P_events.T, cmap = 'Reds', )\n",
    "plt.colorbar(label = 'Probability of wild-type division \\n(No. divisions/No. cells)',)\n",
    "plt.title('Distribution of wild-type division probability \\naround Scribble apoptoses (N = 1839)')\n",
    "plt.ylabel('Distance from apoptoses (μm)')\n",
    "plt.xlabel('Time since apoptoses (hours)')"
   ]
  },
  {
   "cell_type": "code",
   "execution_count": null,
   "metadata": {},
   "outputs": [],
   "source": [
    "t_range = (-4,10)\n",
    "R_max = 100\n",
    "bins = (20, 5)\n",
    "P_events, xedges, yedges, N_events, N_cells = render(N_events_df, N_cells_df, bins, t_range, R_max)\n",
    "pc = plt.pcolormesh(xedges, yedges, P_events.T, cmap = 'Reds', )\n",
    "plt.colorbar(label = 'Probability of wild-type division \\n(No. divisions/No. cells)',)\n",
    "plt.title('Distribution of wild-type division probability \\naround Scribble apoptoses (N = 1839)')\n",
    "plt.ylabel('Distance from apoptoses (μm)')\n",
    "plt.xlabel('Time since apoptoses (hours)')"
   ]
  },
  {
   "cell_type": "markdown",
   "metadata": {},
   "source": [
    "#### Divisions are more homogenously distributed post apoptoses, constraining focal scan plot to post apoptosis"
   ]
  },
  {
   "cell_type": "code",
   "execution_count": null,
   "metadata": {},
   "outputs": [],
   "source": [
    "t_range = (-10,10)\n",
    "R_max = 100\n",
    "bins = (10, 5)\n",
    "P_events, xedges, yedges, N_events, N_cells = render(N_events_df, N_cells_df, bins, t_range, R_max)\n",
    "pc = plt.pcolormesh(xedges, yedges, P_events.T, cmap = 'Reds', )\n",
    "plt.colorbar(label = 'Probability of wild-type division \\n(No. divisions/No. cells)',)\n",
    "plt.title('Distribution of wild-type division probability \\naround Scribble apoptoses (N = 457)')\n",
    "plt.ylabel('Distance from apoptoses (μm)')\n",
    "plt.xlabel('Time since apoptoses (hours)')"
   ]
  },
  {
   "cell_type": "markdown",
   "metadata": {},
   "source": [
    "# Smooth plot"
   ]
  },
  {
   "cell_type": "code",
   "execution_count": null,
   "metadata": {},
   "outputs": [],
   "source": [
    "import scipy.ndimage as sp"
   ]
  },
  {
   "cell_type": "markdown",
   "metadata": {},
   "source": [
    "#### gaussian filter"
   ]
  },
  {
   "cell_type": "code",
   "execution_count": null,
   "metadata": {},
   "outputs": [],
   "source": [
    "smooth_P_events = sp.filters.gaussian_filter(N_events/N_cells, sigma = 4, order = 1)\n",
    "pc = plt.pcolormesh(xedges, yedges, smooth_P_events.T, cmap = 'Blues', )\n",
    "plt.colorbar(label = 'Probability of wild-type division \\n(No. divisions/No. cells)',)\n",
    "plt.title('Distribution of wild-type division probability \\naround Scribble apoptoses (N = 1839)')\n",
    "plt.ylabel('Distance from apoptoses (μm)')\n",
    "plt.xlabel('Time since apoptoses (hours)')"
   ]
  },
  {
   "cell_type": "markdown",
   "metadata": {},
   "source": [
    "#### contourf"
   ]
  },
  {
   "cell_type": "code",
   "execution_count": null,
   "metadata": {},
   "outputs": [],
   "source": [
    "fig, (ax0, ax1) = plt.subplots(nrows=2)\n",
    "cmap = plt.get_cmap('PiYG')\n",
    "im = ax0.pcolormesh(xedges, yedges, P_events.T, cmap=cmap, )#norm=norm)\n",
    "fig.colorbar(im, ax=ax0)\n",
    "ax0.set_title('pcolormesh with levels')\n",
    "\n",
    "\n",
    "# contours are *point* based plots, so convert our bound into point\n",
    "# centers\n",
    "cf = ax1.contourf(P_events.T, #levels=levels,\n",
    "                  cmap=cmap)\n",
    "fig.colorbar(cf, ax=ax1)\n",
    "ax1.set_title('contourf with levels')\n",
    "\n",
    "# adjust spacing between subplots so `ax1` title and `ax0` tick labels\n",
    "# don't overlap\n",
    "fig.tight_layout()\n",
    "\n",
    "plt.show()"
   ]
  },
  {
   "cell_type": "code",
   "execution_count": null,
   "metadata": {},
   "outputs": [],
   "source": [
    "from matplotlib.ticker import MaxNLocator"
   ]
  },
  {
   "cell_type": "code",
   "execution_count": null,
   "metadata": {},
   "outputs": [],
   "source": [
    "P_events, xedges, yedges = render(bins = (15), t_range = (-60,20), R_max = 150)\n",
    "fig, (ax0, ax1) = plt.subplots(nrows=2)\n",
    "cmap = plt.get_cmap('Blues')\n",
    "im = ax0.pcolormesh(xedges, yedges, P_events.T, cmap=cmap, )#norm=norm)\n",
    "fig.colorbar(im, ax=ax0)\n",
    "ax0.set_title('pcolormesh with levels')\n",
    "\n",
    "levels = MaxNLocator(nbins=15).tick_values(P_events.min(), P_events.max())\n",
    "# contours are *point* based plots, so convert our bound into point\n",
    "# centers\n",
    "cf = ax1.contourf(xedges[0:-1], yedges[0:-1], P_events.T, #levels=levels,\n",
    "                  cmap=cmap)\n",
    "fig.colorbar(cf, ax=ax1)\n",
    "ax1.set_title('contourf with levels')\n",
    "\n",
    "# adjust spacing between subplots so `ax1` title and `ax0` tick labels\n",
    "# don't overlap\n",
    "fig.tight_layout()\n",
    "\n",
    "plt.show()"
   ]
  },
  {
   "cell_type": "code",
   "execution_count": null,
   "metadata": {},
   "outputs": [],
   "source": [
    "P_events, xedges, yedges = render(bins = (10), t_range = (-20,20), R_max =100)\n",
    "pc = plt.contourf(xedges[0:-1], yedges[0:-1], P_events.T, cmap = 'viridis', )\n",
    "plt.colorbar(label = 'Probability of wild-type division \\n(No. divisions/No. cells)',)\n",
    "plt.title('Distribution of wild-type division probability \\naround Scribble apoptoses (N = 1839)')\n",
    "plt.ylabel('Distance from apoptoses (μm)')\n",
    "plt.xlabel('Time since apoptoses (hours)')"
   ]
  },
  {
   "cell_type": "code",
   "execution_count": null,
   "metadata": {},
   "outputs": [],
   "source": [
    "P_events, xedges, yedges = render(bins = (10), t_range = (-12,12), R_max =100)\n",
    "pc = plt.contourf(xedges[0:-1], yedges[0:-1], P_events.T, cmap = 'viridis', )\n",
    "plt.colorbar(label = 'Probability of wild-type division \\n(No. divisions/No. cells)',)\n",
    "plt.title('Distribution of wild-type division probability \\naround Scribble apoptoses (N = 1839)')\n",
    "plt.ylabel('Distance from apoptoses (μm)')\n",
    "plt.xlabel('Time since apoptoses (hours)')"
   ]
  },
  {
   "cell_type": "markdown",
   "metadata": {},
   "source": [
    "## Investigating the number of events in each plot"
   ]
  },
  {
   "cell_type": "code",
   "execution_count": null,
   "metadata": {
    "scrolled": true
   },
   "outputs": [],
   "source": [
    "ax = sns.heatmap(N_events, xticklabels=xedges, yticklabels=yedges, cmap = 'Blues', annot= True)\n",
    "ax.invert_yaxis()"
   ]
  },
  {
   "cell_type": "code",
   "execution_count": null,
   "metadata": {},
   "outputs": [],
   "source": [
    "ax = sns.heatmap(N_cells, xticklabels=xedges, yticklabels=yedges, cmap = 'Blues', annot= True)\n",
    "ax.invert_yaxis()"
   ]
  },
  {
   "cell_type": "code",
   "execution_count": null,
   "metadata": {},
   "outputs": [],
   "source": [
    "np.flipud(N_events.T)"
   ]
  },
  {
   "cell_type": "markdown",
   "metadata": {},
   "source": [
    "# Control measures\n",
    "\n",
    "### 1. Wild-type divisions around random wild-type points\n",
    "\n",
    "I have some skepticism about this method as it seems too randomised, leading it to pick up some potential boundary effects of scanning in space and time, i.e. it's suspicious that the peaks in probability are repeated in near pre-apoptotic time.\n",
    "\n",
    "### 2. Wild-type divisions around wild-type apoptoses\n",
    "\n",
    "Processed\n",
    "\n",
    "### 3. Wild-type divisions around Scr. apoptoses in uninduced experiments\n",
    "\n",
    "Need to find Scr. apoptoses in uninduced experiments.\n",
    "\n",
    "#### Shall I filter these control measures for scans within the FOV?"
   ]
  },
  {
   "cell_type": "markdown",
   "metadata": {},
   "source": [
    "# Loading control measure #1"
   ]
  },
  {
   "cell_type": "code",
   "execution_count": null,
   "metadata": {},
   "outputs": [],
   "source": [
    "files = natsorted(glob.glob(f'/home/nathan/data/results/radial_analysis_output/follow/raw_lists/1600.1600/wt_control_wt_div_xyt/1600.1600/*.csv'))"
   ]
  },
  {
   "cell_type": "code",
   "execution_count": null,
   "metadata": {},
   "outputs": [],
   "source": [
    "files"
   ]
  },
  {
   "cell_type": "code",
   "execution_count": null,
   "metadata": {},
   "outputs": [],
   "source": [
    "len(files)"
   ]
  },
  {
   "cell_type": "markdown",
   "metadata": {},
   "source": [
    "### Limiting the number of control radial scans to include as 15,000 is far too many\n",
    "\n",
    "Will pick 1839 as that's the same as the previous scans"
   ]
  },
  {
   "cell_type": "code",
   "execution_count": null,
   "metadata": {},
   "outputs": [],
   "source": [
    "output_path = f'/home/nathan/data/results/radial_analysis_output/follow/raw_lists/1600.1600/wt_control_wt_div_xyt/'\n",
    "radius, t_range = 1600,1600"
   ]
  },
  {
   "cell_type": "code",
   "execution_count": null,
   "metadata": {},
   "outputs": [],
   "source": [
    "files = natsorted(glob.glob(f'{output_path}{radius}.{t_range}/*.csv'))[0:2000]\n",
    "event_files = [file for file in files if 'N_events' in file]\n",
    "cell_count_files = [file for file in files if 'N_cells' in file]"
   ]
  },
  {
   "cell_type": "code",
   "execution_count": null,
   "metadata": {},
   "outputs": [],
   "source": [
    "for n, i in enumerate((event_files)):\n",
    "    print(os.path.basename(event_files[n]))\n",
    "    print(os.path.basename(cell_count_files[n]))"
   ]
  },
  {
   "cell_type": "code",
   "execution_count": null,
   "metadata": {},
   "outputs": [],
   "source": [
    "len(event_files)"
   ]
  },
  {
   "cell_type": "code",
   "execution_count": null,
   "metadata": {},
   "outputs": [],
   "source": [
    "control_N_event_df = load_radial_df(event_files)"
   ]
  },
  {
   "cell_type": "code",
   "execution_count": null,
   "metadata": {},
   "outputs": [],
   "source": [
    "control_N_cell_df = load_radial_df(cell_count_files)"
   ]
  },
  {
   "cell_type": "code",
   "execution_count": null,
   "metadata": {},
   "outputs": [],
   "source": [
    "t_range = (-10,10)\n",
    "R_max = 200\n",
    "bins = (10, 10)\n",
    "P_events_c, xedges, yedges,  N_events, N_cells = render(control_N_event_df, control_N_cell_df, bins, t_range, R_max)\n",
    "pc = plt.pcolormesh(xedges, yedges, P_events_c.T, cmap = 'Reds', )\n",
    "plt.colorbar(label = 'Probability of wild-type division \\n(No. divisions/No. cells)',)\n",
    "plt.title('Distribution of wild-type division probability \\naround random wild-type timepoints (N = 1000)')\n",
    "plt.ylabel('Distance from apoptoses (μm)')\n",
    "plt.xlabel('Time since apoptoses (hours)')"
   ]
  },
  {
   "cell_type": "code",
   "execution_count": null,
   "metadata": {},
   "outputs": [],
   "source": [
    "t_range = (-20,10)\n",
    "R_max = 200\n",
    "bins = (10, 10)\n",
    "P_events_c, xedges, yedges,  N_events_c, N_cells_c = render(control_N_event_df, control_N_cell_df, bins, t_range, R_max)\n",
    "pc = plt.pcolormesh(xedges, yedges, P_events_c.T, cmap = 'Reds', )\n",
    "plt.colorbar(label = 'Probability of wild-type division \\n(No. divisions/No. cells)',)\n",
    "plt.title('Distribution of wild-type division probability \\naround random wild-type timepoints (N = 1839)')\n",
    "plt.ylabel('Distance from apoptoses (μm)')\n",
    "plt.xlabel('Time since apoptoses (hours)')"
   ]
  },
  {
   "cell_type": "markdown",
   "metadata": {},
   "source": [
    "#### checking against reloaded normal plot"
   ]
  },
  {
   "cell_type": "code",
   "execution_count": null,
   "metadata": {},
   "outputs": [],
   "source": [
    "output_path = f'/home/nathan/data/results/radial_analysis_output/follow/raw_lists/1600.1600/scr_apop_wt_div_xyt/'\n",
    "radius, t_range = 1600,1600\n",
    "\n",
    "files = natsorted(glob.glob(f'{output_path}{radius}.{t_range}/*.csv'))[0:(1839*2)]\n",
    "event_files = [file for file in files if 'N_events' in file]\n",
    "cell_count_files = [file for file in files if 'N_cells' in file]"
   ]
  },
  {
   "cell_type": "code",
   "execution_count": null,
   "metadata": {},
   "outputs": [],
   "source": [
    "N_events_df"
   ]
  },
  {
   "cell_type": "code",
   "execution_count": null,
   "metadata": {},
   "outputs": [],
   "source": [
    "N_event_df = load_radial_df(event_files)\n",
    "\n",
    "N_cell_df = load_radial_df(cell_count_files)"
   ]
  },
  {
   "cell_type": "code",
   "execution_count": null,
   "metadata": {},
   "outputs": [],
   "source": [
    "t_range = (-10,10)\n",
    "R_max = 200\n",
    "bins = (10, 10)\n",
    "P_events, xedges, yedges,  N_events, N_cells = render(N_events_df, N_cells_df, bins, t_range, R_max)\n",
    "pc = plt.pcolormesh(xedges, yedges, P_events.T, cmap = 'Reds', )\n",
    "plt.colorbar(label = 'Probability of wild-type division \\n(No. divisions/No. cells)',)\n",
    "plt.title('Distribution of wild-type division probability \\naround filtered Scr. apoptoses (N = 1000)')\n",
    "plt.ylabel('Distance from apoptoses (μm)')\n",
    "plt.xlabel('Time since apoptoses (hours)')"
   ]
  },
  {
   "cell_type": "code",
   "execution_count": null,
   "metadata": {},
   "outputs": [],
   "source": [
    "t_range = (-10,10)\n",
    "R_max = 200\n",
    "bins = (10, 10)\n",
    "P_events, xedges, yedges,  N_events, N_cells = render(N_event_df, N_cell_df, bins, t_range, R_max)\n",
    "pc = plt.pcolormesh(xedges, yedges, P_events.T, cmap = 'Reds', )\n",
    "plt.colorbar(label = 'Probability of wild-type division \\n(No. divisions/No. cells)',)\n",
    "plt.title('Distribution of wild-type division probability \\naround Scr. apoptoses (N = 1839)')\n",
    "plt.ylabel('Distance from apoptoses (μm)')\n",
    "plt.xlabel('Time since apoptoses (hours)')"
   ]
  },
  {
   "cell_type": "markdown",
   "metadata": {},
   "source": [
    "## Probability above background"
   ]
  },
  {
   "cell_type": "code",
   "execution_count": null,
   "metadata": {},
   "outputs": [],
   "source": [
    "t_range = (-5,5)\n",
    "R_max = 100\n",
    "bins = (10, 10)\n",
    "P_events, xedges, yedges,  N_events, N_cells = render(N_events_df, N_cells_df, bins, t_range, R_max)\n",
    "P_events_c, xedges, yedges,  N_events_c, N_cells_c = render(control_N_event_df, control_N_cell_df, bins, t_range, R_max)\n",
    "\n",
    "pc = plt.pcolormesh(xedges, yedges, P_events.T - P_events_c.T, cmap = 'PiYG', )\n",
    "plt.colorbar(label = 'Probability of wild-type division \\n(No. divisions/No. cells)',)\n",
    "plt.title('Distribution of wild-type division probability \\naround filtered Scr. apoptoses (N = 1000) \\n above background')\n",
    "plt.ylabel('Distance from apoptoses (μm)')\n",
    "plt.xlabel('Time since apoptoses (hours)')"
   ]
  },
  {
   "cell_type": "code",
   "execution_count": null,
   "metadata": {},
   "outputs": [],
   "source": [
    "t_range = (-20,20)\n",
    "R_max = 200\n",
    "bins = (10, 10)\n",
    "P_events, xedges, yedges,  N_events, N_cells = render(N_events_df, N_cells_df, bins, t_range, R_max)\n",
    "P_events_c, xedges, yedges,  N_events_c, N_cells_c = render(control_N_event_df, control_N_cell_df, bins, t_range, R_max)\n",
    "\n",
    "pc = plt.pcolormesh(xedges, yedges, P_events.T - P_events_c.T, cmap = 'PiYG', )\n",
    "plt.colorbar(label = 'Probability of wild-type division \\n(No. divisions/No. cells)',)\n",
    "plt.title('Distribution of wild-type division probability \\naround random Scr. apoptoses (N = 1839) \\n above background')\n",
    "plt.ylabel('Distance from apoptoses (μm)')\n",
    "plt.xlabel('Time since apoptoses (hours)')"
   ]
  },
  {
   "cell_type": "code",
   "execution_count": null,
   "metadata": {},
   "outputs": [],
   "source": [
    "t_range = (-5,5)\n",
    "R_max = 100\n",
    "bins = (10, 10)\n",
    "P_events, xedges, yedges,  N_events, N_cells = render(N_event_df, N_cell_df, bins, t_range, R_max)\n",
    "P_events_c, xedges, yedges,  N_events_c, N_cells_c = render(control_N_event_df, control_N_cell_df, bins, t_range, R_max)\n",
    "\n",
    "pc = plt.pcolormesh(xedges, yedges, P_events.T - P_events_c.T, cmap = 'PiYG', )\n",
    "plt.colorbar(label = 'Probability of wild-type division \\n(No. divisions/No. cells)',)\n",
    "plt.title('Distribution of wild-type division probability \\naround random Scr. apoptoses (N = 1839) \\n above background')\n",
    "plt.ylabel('Distance from apoptoses (μm)')\n",
    "plt.xlabel('Time since apoptoses (hours)')"
   ]
  },
  {
   "cell_type": "code",
   "execution_count": null,
   "metadata": {},
   "outputs": [],
   "source": [
    "t_range = (0,5)\n",
    "R_max = 100\n",
    "bins = (10, 10)\n",
    "P_events, xedges, yedges,  N_events, N_cells = render(N_event_df, N_cell_df, bins, t_range, R_max)\n",
    "P_events_c, xedges, yedges,  N_events_c, N_cells_c = render(control_N_event_df, control_N_cell_df, bins, t_range, R_max)\n",
    "\n",
    "pc = plt.pcolormesh(xedges, yedges, P_events.T - P_events_c.T, cmap = 'PiYG', )\n",
    "plt.colorbar(label = 'Probability of wild-type division \\n(No. divisions/No. cells)',)\n",
    "plt.title('Distribution of wild-type division probability \\naround Scr. apoptoses (N = 1839) \\n above background')\n",
    "plt.ylabel('Distance from apoptoses (μm)')\n",
    "plt.xlabel('Time since apoptoses (hours)')"
   ]
  },
  {
   "cell_type": "code",
   "execution_count": null,
   "metadata": {},
   "outputs": [],
   "source": [
    "t_range = (-4,10)\n",
    "R_max = 200\n",
    "bins = (10, 10)\n",
    "P_events, xedges, yedges,  N_events, N_cells = render(N_event_df, N_cell_df, bins, t_range, R_max)\n",
    "P_events_c, xedges, yedges,  N_events_c, N_cells_c = render(control_N_event_df, control_N_cell_df, bins, t_range, R_max)\n",
    "\n",
    "pc = plt.pcolormesh(xedges, yedges, P_events.T - P_events_c.T, cmap = 'PiYG', )\n",
    "plt.colorbar(label = 'Probability of wild-type division \\n(No. divisions/No. cells)',)\n",
    "plt.title('Distribution of wild-type division probability \\naround Scr. apoptoses (N = 1839) \\n above background')\n",
    "plt.ylabel('Distance from apoptoses (μm)')\n",
    "plt.xlabel('Time since apoptoses (hours)')"
   ]
  },
  {
   "cell_type": "code",
   "execution_count": null,
   "metadata": {},
   "outputs": [],
   "source": [
    "t_range = (-2,8)\n",
    "R_max = 60\n",
    "bins = (10, 10)\n",
    "P_events, xedges, yedges,  N_events, N_cells = render(N_event_df, N_cell_df, bins, t_range, R_max)\n",
    "P_events_c, xedges, yedges,  N_events_c, N_cells_c = render(control_N_event_df, control_N_cell_df, bins, t_range, R_max)\n",
    "\n",
    "pc = plt.pcolormesh(xedges, yedges, P_events.T - P_events_c.T, cmap = 'PiYG', )\n",
    "plt.colorbar(label = 'Probability of wild-type division \\n(No. divisions/No. cells)',)\n",
    "plt.title('Distribution of wild-type division probability \\naround Scr. apoptoses (N = 1839) \\n above background')\n",
    "plt.ylabel('Distance from apoptoses (μm)')\n",
    "plt.xlabel('Time since apoptoses (hours)')"
   ]
  },
  {
   "cell_type": "code",
   "execution_count": null,
   "metadata": {},
   "outputs": [],
   "source": [
    "t_range = (-4,4)\n",
    "R_max = 100\n",
    "bins = (16, 4)\n",
    "P_events, xedges, yedges,  N_events, N_cells = render(N_event_df, N_cell_df, bins, t_range, R_max)\n",
    "P_events_c, xedges, yedges,  N_events_c, N_cells_c = render(control_N_event_df, control_N_cell_df, bins, t_range, R_max)\n",
    "\n",
    "pc = plt.pcolormesh(xedges, yedges, P_events.T - P_events_c.T, cmap = 'PiYG', )\n",
    "plt.colorbar(label = 'Probability of wild-type division \\n(No. divisions/No. cells)',)\n",
    "plt.title('Distribution of wild-type division probability \\naround Scr. apoptoses (N = 1839) \\n above background')\n",
    "plt.ylabel('Distance from apoptoses (μm)')\n",
    "plt.xlabel('Time since apoptoses (hours)')"
   ]
  },
  {
   "cell_type": "markdown",
   "metadata": {},
   "source": [
    "# Control measure #2 \n",
    "\n",
    "### Wild-type divisions around wild-type apoptoses"
   ]
  },
  {
   "cell_type": "code",
   "execution_count": null,
   "metadata": {},
   "outputs": [],
   "source": [
    "control_2_file_path = '/home/nathan/data/results/radial_analysis_output/follow/raw_lists/1600.1600/wt_apop_wt_div_xyt/1600.1600'"
   ]
  },
  {
   "cell_type": "code",
   "execution_count": null,
   "metadata": {},
   "outputs": [],
   "source": [
    "files = natsorted(glob.glob(f'{control_2_file_path}/*.csv'))\n",
    "event_files = [file for file in files if 'N_events' in file]\n",
    "cell_count_files = [file for file in files if 'N_cells' in file]"
   ]
  },
  {
   "cell_type": "code",
   "execution_count": null,
   "metadata": {},
   "outputs": [],
   "source": [
    "len(event_files)"
   ]
  },
  {
   "cell_type": "code",
   "execution_count": null,
   "metadata": {},
   "outputs": [],
   "source": [
    "control_2_N_events_df = load_radial_df(event_files)\n",
    "\n",
    "control_2_N_cells_df = load_radial_df(cell_count_files)"
   ]
  },
  {
   "cell_type": "code",
   "execution_count": null,
   "metadata": {},
   "outputs": [],
   "source": [
    "t_range = (-12,12)\n",
    "R_max = 200\n",
    "bins = (10,10)\n",
    "P_events, xedges, yedges,  N_events, N_cells = render(N_events_df, N_cells_df, bins, t_range, R_max)\n",
    "P_events_c, xedges, yedges,  N_events_c, N_cells_c = render(control_2_N_events_df, control_2_N_cells_df, bins, t_range, R_max)\n",
    "\n",
    "pc = plt.pcolormesh(xedges, yedges, P_events.T - P_events_c.T, cmap = 'PiYG', )\n",
    "plt.colorbar(label = 'Probability of wild-type division \\n(No. divisions/No. cells)',)\n",
    "plt.title('Distribution of wild-type division probability \\naround Scr. apoptoses (N = 1839) \\n above background')\n",
    "plt.ylabel('Distance from apoptoses (μm)')\n",
    "plt.xlabel('Time since apoptoses (hours)')"
   ]
  },
  {
   "cell_type": "code",
   "execution_count": null,
   "metadata": {},
   "outputs": [],
   "source": [
    "t_range = (-6,6)\n",
    "R_max = 200\n",
    "bins = (10,10)\n",
    "P_events, xedges, yedges,  N_events, N_cells = render(N_events_df, N_cells_df, bins, t_range, R_max)\n",
    "P_events_c, xedges, yedges,  N_events_c, N_cells_c = render(control_2_N_events_df, control_2_N_cells_df, bins, t_range, R_max)\n",
    "\n",
    "pc = plt.pcolormesh(xedges, yedges, P_events.T - P_events_c.T, cmap = 'PiYG', )\n",
    "plt.colorbar(label = 'Probability of wild-type division \\n(No. divisions/No. cells)',)\n",
    "plt.title('Distribution of wild-type division probability \\naround Scr. apoptoses (N = 1839) \\n above background')\n",
    "plt.ylabel('Distance from apoptoses (μm)')\n",
    "plt.xlabel('Time since apoptoses (hours)')"
   ]
  },
  {
   "cell_type": "code",
   "execution_count": null,
   "metadata": {},
   "outputs": [],
   "source": [
    "t_range = (0,6)\n",
    "R_max = 200\n",
    "bins = (12,10)\n",
    "P_events, xedges, yedges,  N_events, N_cells = render(N_events_df, N_cells_df, bins, t_range, R_max)\n",
    "P_events_c, xedges, yedges,  N_events_c, N_cells_c = render(control_2_N_events_df, control_2_N_cells_df, bins, t_range, R_max)\n",
    "\n",
    "pc = plt.pcolormesh(xedges, yedges, P_events.T - P_events_c.T, cmap = 'PiYG', )\n",
    "plt.colorbar(label = 'Probability of wild-type division \\n(No. divisions/No. cells)',)\n",
    "plt.title('Distribution of wild-type division probability \\naround Scr. apoptoses (N = 1839) \\n above background')\n",
    "plt.ylabel('Distance from apoptoses (μm)')\n",
    "plt.xlabel('Time since apoptoses (hours)')"
   ]
  },
  {
   "cell_type": "markdown",
   "metadata": {},
   "source": [
    "# Conclusion from two control measures\n",
    "\n",
    "There seems to be a noticeable peak in probability of division in the immediate neighbourhood at approx. 2 and 5 and 10 hours beforehand... why? "
   ]
  },
  {
   "cell_type": "markdown",
   "metadata": {},
   "source": [
    "#### Trying density plots"
   ]
  },
  {
   "cell_type": "code",
   "execution_count": null,
   "metadata": {},
   "outputs": [],
   "source": [
    "N_events_df[0:100]"
   ]
  },
  {
   "cell_type": "markdown",
   "metadata": {},
   "source": [
    "#### Need to work out way to do ratio of two smoothed density plots"
   ]
  },
  {
   "cell_type": "code",
   "execution_count": null,
   "metadata": {},
   "outputs": [],
   "source": [
    "sns.kdeplot(data=N_events_df, x=\"Time since apoptosis\", y=\"Distance from apoptosis\")\n"
   ]
  }
 ],
 "metadata": {
  "kernelspec": {
   "display_name": "CellX",
   "language": "python",
   "name": "cellx"
  },
  "language_info": {
   "codemirror_mode": {
    "name": "ipython",
    "version": 3
   },
   "file_extension": ".py",
   "mimetype": "text/x-python",
   "name": "python",
   "nbconvert_exporter": "python",
   "pygments_lexer": "ipython3",
   "version": "3.9.7"
  }
 },
 "nbformat": 4,
 "nbformat_minor": 4
}
