{
 "cells": [
  {
   "cell_type": "markdown",
   "id": "860e9d8c",
   "metadata": {},
   "source": [
    "# Revisiting the unfinished K-function analysis\n",
    "\n",
    "This time using the webpage cited in the Levayer paper which I ended up finding on web archive.\n",
    "\n",
    "https://web.archive.org/web/20210513032304/https://www.seas.upenn.edu/~ese502/"
   ]
  },
  {
   "cell_type": "markdown",
   "id": "c38de415",
   "metadata": {},
   "source": [
    "#### Analysis of point patterns\n",
    "\n",
    "If I see a case of local clustering, I have to ask how likely it is that this case could simply be a coincidence. To do so, I must model the probability of local clustering patterns. I will begin by asking what would the point patterns look like if points were randomly distributed. This requires a statistical model of randomly located points. \n",
    "\n",
    "##### Spatial Laplace Principle\n",
    "\n",
    "The Laplce Principle of probability theory asserts that if there is no information to indicate that either of two events is more likely, then they should be treated as equally likely, i.e., as having the same probability of occuring. \n",
    "To develop a model of randomly located points, consider a region square of S, divide it up into halves, then the probability of finding an event in one half is 1/2. Continue doing so until you have S divided up into a grid of N cells, each with the same probability of 1/N of finding an event in that region. \n",
    "Considering a subregion of S, C (a cell), the probability that C will contain the event point is at least as large as the sum of probabilities of all cells _inside_ C and is no greater than the sum of probabilities of cells that _intersect_ C. Hence, by allowing n to become arbitrarily large, it is evident that these two sums will converge to the same limit, i.e. the fractional area of S inside C. Hence the probability Pr(C|S) that a random point in S lies in any cell C (belong to) S is proportional to the area of C^2. This must hold for any pair of nested regions C, R, S, (derivation online), resulting in the Spatial Laplace Principle. \n",
    "\n",
    "*Complete Spatial Randomness (dervied online)*\n",
    "\n",
    "\"However, as was noted in the Housing Abandonment example above, simple area may\n",
    "not always be the most relevant reference measure (backcloth). In particular, while one\n",
    "can imagine a randomly located abandoned house, such houses are very unlikely to\n",
    "appear in the middle of a public park, let alone the middle of a street. So here it makes\n",
    "much more sense to look at the existing housing distribution, and to treat a “randomly\n",
    "located abandoned house” as a random sample from this distribution. Here the Laplace\n",
    "principle is still at work, but now with respect to houses. For if housing abandonments\n",
    "are spatially random, then each house should have that same chance of being abandoned.\n",
    "Similarly, in the Larynx cancer example, if such cancers are spatially random, then each\n",
    "individual should have the same chance of contracting this disease. So here, the existing\n",
    "population distribution becomes the relevant reference measure. \"\n",
    "\n",
    "Think about this example with regard to division events only happening in areas where there are cells anyway.\n",
    "\n",
    "\n",
    "#### Ripley's correction\n",
    "\n",
    "A method for avoiding edge effects whilst not creating a buffer zone and throwing away valuable data (see more in section 4.3)"
   ]
  },
  {
   "cell_type": "markdown",
   "id": "91de09e2",
   "metadata": {},
   "source": [
    "# Testing Spatial Randomness\n",
    "\n",
    "3.3 Redwood seedling example \n",
    "(with my own data)\n",
    " \n",
    "First with xy data, then will try R,t"
   ]
  },
  {
   "cell_type": "code",
   "execution_count": 71,
   "id": "d9e47f41",
   "metadata": {},
   "outputs": [],
   "source": [
    "import pandas as pd\n",
    "import numpy as np\n",
    "from tqdm.auto import tqdm"
   ]
  },
  {
   "cell_type": "markdown",
   "id": "5aafdf75",
   "metadata": {},
   "source": [
    "List of cell instances"
   ]
  },
  {
   "cell_type": "code",
   "execution_count": 2,
   "id": "81a8494d",
   "metadata": {},
   "outputs": [],
   "source": [
    "fn = '/home/nathan/data/results/radial_analysis_output/follow/raw_lists/1600.1600/scr_apop_wt_div_xyt/1600.1600/GV0806_Pos3_Scr_-12_N_cells_wt_rad_1600_t_range_1600_focal_txy_870_208_461.csv'"
   ]
  },
  {
   "cell_type": "code",
   "execution_count": 9,
   "id": "3492c4ff",
   "metadata": {},
   "outputs": [],
   "source": [
    "focal_t, focal_x, focal_y = 870, 208, 461"
   ]
  },
  {
   "cell_type": "markdown",
   "id": "133174d8",
   "metadata": {},
   "source": [
    "List of division events"
   ]
  },
  {
   "cell_type": "code",
   "execution_count": 25,
   "id": "5a62ea16",
   "metadata": {},
   "outputs": [],
   "source": [
    "fn = '/home/nathan/data/results/radial_analysis_output/follow/raw_lists/1600.1600/scr_apop_wt_div_xyt/1600.1600/GV0796_Pos7_Scr_-5_N_events_wt_rad_1600_t_range_1600_focal_txy_204_755_269.csv'"
   ]
  },
  {
   "cell_type": "code",
   "execution_count": 109,
   "id": "8381d57b",
   "metadata": {},
   "outputs": [],
   "source": [
    "focal_t, focal_x, focal_y = 204, 755, 269"
   ]
  },
  {
   "cell_type": "code",
   "execution_count": 33,
   "id": "b86bd3aa",
   "metadata": {},
   "outputs": [],
   "source": [
    "df = pd.read_csv(fn, names=['Cell ID', 'Distance', 'Frame', 'x', 'y'])"
   ]
  },
  {
   "cell_type": "code",
   "execution_count": 34,
   "id": "a679d441",
   "metadata": {},
   "outputs": [
    {
     "name": "stderr",
     "output_type": "stream",
     "text": [
      "<ipython-input-34-f3edf9962f42>:2: FutureWarning: The default value of regex will change from True to False in a future version.\n",
      "  df['Cell ID'] = df['Cell ID'].str.replace('[()]', '')\n",
      "<ipython-input-34-f3edf9962f42>:3: FutureWarning: The default value of regex will change from True to False in a future version.\n",
      "  df['y'] = df['y'].str.replace('[()]', '')\n"
     ]
    }
   ],
   "source": [
    "## tidy up df and convert from pixels and frames to aligned time and um\n",
    "df['Cell ID'] = df['Cell ID'].str.replace('[()]', '')\n",
    "df['y'] = df['y'].str.replace('[()]', '')\n",
    "df['Distance'] = round(df['Distance']/3)\n",
    "df['x'] = round(df['x'].astype(int)/3)\n",
    "df['y'] = round(df['y'].astype(int)/3)\n",
    "df['Time'] = round((df['Frame'] - focal_t)*(4/60), 3)"
   ]
  },
  {
   "cell_type": "code",
   "execution_count": 35,
   "id": "b7326818",
   "metadata": {},
   "outputs": [
    {
     "data": {
      "text/html": [
       "<div>\n",
       "<style scoped>\n",
       "    .dataframe tbody tr th:only-of-type {\n",
       "        vertical-align: middle;\n",
       "    }\n",
       "\n",
       "    .dataframe tbody tr th {\n",
       "        vertical-align: top;\n",
       "    }\n",
       "\n",
       "    .dataframe thead th {\n",
       "        text-align: right;\n",
       "    }\n",
       "</style>\n",
       "<table border=\"1\" class=\"dataframe\">\n",
       "  <thead>\n",
       "    <tr style=\"text-align: right;\">\n",
       "      <th></th>\n",
       "      <th>Cell ID</th>\n",
       "      <th>Distance</th>\n",
       "      <th>Frame</th>\n",
       "      <th>x</th>\n",
       "      <th>y</th>\n",
       "      <th>Time</th>\n",
       "    </tr>\n",
       "  </thead>\n",
       "  <tbody>\n",
       "    <tr>\n",
       "      <th>0</th>\n",
       "      <td>80</td>\n",
       "      <td>227.0</td>\n",
       "      <td>477</td>\n",
       "      <td>207.0</td>\n",
       "      <td>312.0</td>\n",
       "      <td>18.200</td>\n",
       "    </tr>\n",
       "    <tr>\n",
       "      <th>1</th>\n",
       "      <td>79</td>\n",
       "      <td>215.0</td>\n",
       "      <td>262</td>\n",
       "      <td>48.0</td>\n",
       "      <td>159.0</td>\n",
       "      <td>3.867</td>\n",
       "    </tr>\n",
       "    <tr>\n",
       "      <th>2</th>\n",
       "      <td>78</td>\n",
       "      <td>374.0</td>\n",
       "      <td>79</td>\n",
       "      <td>25.0</td>\n",
       "      <td>378.0</td>\n",
       "      <td>-8.333</td>\n",
       "    </tr>\n",
       "    <tr>\n",
       "      <th>3</th>\n",
       "      <td>77</td>\n",
       "      <td>335.0</td>\n",
       "      <td>213</td>\n",
       "      <td>13.0</td>\n",
       "      <td>325.0</td>\n",
       "      <td>0.600</td>\n",
       "    </tr>\n",
       "    <tr>\n",
       "      <th>4</th>\n",
       "      <td>75</td>\n",
       "      <td>298.0</td>\n",
       "      <td>97</td>\n",
       "      <td>45.0</td>\n",
       "      <td>294.0</td>\n",
       "      <td>-7.133</td>\n",
       "    </tr>\n",
       "    <tr>\n",
       "      <th>...</th>\n",
       "      <td>...</td>\n",
       "      <td>...</td>\n",
       "      <td>...</td>\n",
       "      <td>...</td>\n",
       "      <td>...</td>\n",
       "      <td>...</td>\n",
       "    </tr>\n",
       "    <tr>\n",
       "      <th>876</th>\n",
       "      <td>3934</td>\n",
       "      <td>158.0</td>\n",
       "      <td>940</td>\n",
       "      <td>397.0</td>\n",
       "      <td>151.0</td>\n",
       "      <td>49.067</td>\n",
       "    </tr>\n",
       "    <tr>\n",
       "      <th>877</th>\n",
       "      <td>4061</td>\n",
       "      <td>256.0</td>\n",
       "      <td>970</td>\n",
       "      <td>2.0</td>\n",
       "      <td>36.0</td>\n",
       "      <td>51.067</td>\n",
       "    </tr>\n",
       "    <tr>\n",
       "      <th>878</th>\n",
       "      <td>4066</td>\n",
       "      <td>484.0</td>\n",
       "      <td>963</td>\n",
       "      <td>56.0</td>\n",
       "      <td>532.0</td>\n",
       "      <td>50.600</td>\n",
       "    </tr>\n",
       "    <tr>\n",
       "      <th>879</th>\n",
       "      <td>4085</td>\n",
       "      <td>147.0</td>\n",
       "      <td>986</td>\n",
       "      <td>398.0</td>\n",
       "      <td>83.0</td>\n",
       "      <td>52.133</td>\n",
       "    </tr>\n",
       "    <tr>\n",
       "      <th>880</th>\n",
       "      <td>4184</td>\n",
       "      <td>464.0</td>\n",
       "      <td>982</td>\n",
       "      <td>110.0</td>\n",
       "      <td>532.0</td>\n",
       "      <td>51.867</td>\n",
       "    </tr>\n",
       "  </tbody>\n",
       "</table>\n",
       "<p>881 rows × 6 columns</p>\n",
       "</div>"
      ],
      "text/plain": [
       "    Cell ID  Distance  Frame      x      y    Time\n",
       "0        80     227.0    477  207.0  312.0  18.200\n",
       "1        79     215.0    262   48.0  159.0   3.867\n",
       "2        78     374.0     79   25.0  378.0  -8.333\n",
       "3        77     335.0    213   13.0  325.0   0.600\n",
       "4        75     298.0     97   45.0  294.0  -7.133\n",
       "..      ...       ...    ...    ...    ...     ...\n",
       "876    3934     158.0    940  397.0  151.0  49.067\n",
       "877    4061     256.0    970    2.0   36.0  51.067\n",
       "878    4066     484.0    963   56.0  532.0  50.600\n",
       "879    4085     147.0    986  398.0   83.0  52.133\n",
       "880    4184     464.0    982  110.0  532.0  51.867\n",
       "\n",
       "[881 rows x 6 columns]"
      ]
     },
     "execution_count": 35,
     "metadata": {},
     "output_type": "execute_result"
    }
   ],
   "source": [
    "df"
   ]
  },
  {
   "cell_type": "markdown",
   "id": "e0c8e93a",
   "metadata": {},
   "source": [
    "Mean NN distance"
   ]
  },
  {
   "cell_type": "code",
   "execution_count": 86,
   "id": "fd925c10",
   "metadata": {},
   "outputs": [
    {
     "name": "stdout",
     "output_type": "stream",
     "text": [
      "Area and number of counts are (respectively): 213333.33333333334 881\n",
      "Estimated point density for this experiment is: 0.0041296875\n"
     ]
    }
   ],
   "source": [
    "### lambda_d = estimated point density \n",
    "### lambda_d = n/a(R)\n",
    "### n = number of data points\n",
    "### a = a(R) = area of complete region (FOV)\n",
    "n = len(df)\n",
    "a = (1200/3) * (1600/3)\n",
    "lambda_d = n/a\n",
    "print('Area and number of counts are (respectively):', a, n)\n",
    "print('Estimated point density for this experiment is:', lambda_d)"
   ]
  },
  {
   "cell_type": "markdown",
   "id": "86d78db6",
   "metadata": {},
   "source": [
    "Assuming m = n (i.e. the number of subcells/quadrats that we partition R into), the corresponding estimates of the mean and standard deviation of nn-distances under Complete Spatial Randomness are given by"
   ]
  },
  {
   "cell_type": "code",
   "execution_count": 88,
   "id": "f4b1203d",
   "metadata": {},
   "outputs": [
    {
     "name": "stdout",
     "output_type": "stream",
     "text": [
      "Mean value under CSR: 7.780569918442348 micrometers\n",
      "Standard deviation under CSR: 0.13702355538616814\n"
     ]
    }
   ],
   "source": [
    "mean_nn_csr = 1/(2*np.sqrt(lambda_d))\n",
    "print('Mean value under CSR:', mean_nn_csr, 'micrometers')\n",
    "st_dev_nn_csr = np.sqrt((4-np.pi)/(n*4*np.pi*lambda_d))\n",
    "print('Standard deviation under CSR:', st_dev_nn_csr)"
   ]
  },
  {
   "cell_type": "markdown",
   "id": "16e401ed",
   "metadata": {},
   "source": [
    "These are the theoretical values showing the average distance (and st.dev.) between division events assuming complete spatial randomness. **However this is over all time...**\n",
    "\n",
    "Continuing regardless, I will calculate a mean nn-distance for the time-independent division event dataset to see if it is different from the CSR hypothesis. "
   ]
  },
  {
   "cell_type": "code",
   "execution_count": 90,
   "id": "6245551b",
   "metadata": {
    "scrolled": true
   },
   "outputs": [
    {
     "data": {
      "application/vnd.jupyter.widget-view+json": {
       "model_id": "",
       "version_major": 2,
       "version_minor": 0
      },
      "text/plain": [
       "  0%|          | 0/881 [00:00<?, ?it/s]"
      ]
     },
     "metadata": {},
     "output_type": "display_data"
    },
    {
     "name": "stdout",
     "output_type": "stream",
     "text": [
      "Average nearest-neighbour distance between time independent division events: 7.81563487050898\n"
     ]
    }
   ],
   "source": [
    "from itertools import combinations\n",
    "\n",
    "def dist(p1, p2):\n",
    "    (x1, y1), (x2, y2) = p1, p2\n",
    "    return np.sqrt((x2 - x1)**2 + (y2 - y1)**2)\n",
    "\n",
    "x = df['x']\n",
    "y = df['y']\n",
    "\n",
    "points = list(zip(x,y))\n",
    "### average distances between all points, not just nearest neighbours\n",
    "# distances = [dist(p1, p2) for p1, p2 in combinations(points, 2)]\n",
    "# avg_distance = sum(distances) / len(distances)\n",
    "nearest_neighbours = []\n",
    "for p1 in tqdm(points):\n",
    "    nearest_neighbours.append(np.min([dist(p1, p2) for p2 in points if p2 != p1]))\n",
    "df['NN distance'] = nearest_neighbours\n",
    "avg_NN_distance = np.mean(df['NN distance'])\n",
    "print('Average nearest-neighbour distance between time independent division events:', avg_NN_distance)"
   ]
  },
  {
   "cell_type": "markdown",
   "id": "51685913",
   "metadata": {},
   "source": [
    "Given that the observed average distance is very similar to the hypothetical case of CSR, this suggests that the division events are close enough to the CSR case to be random. To verify this statistically, let us compute the standardized mean."
   ]
  },
  {
   "cell_type": "code",
   "execution_count": 91,
   "id": "d344d173",
   "metadata": {},
   "outputs": [
    {
     "name": "stdout",
     "output_type": "stream",
     "text": [
      "Standardised mean is: 0.25590455573722176\n"
     ]
    }
   ],
   "source": [
    "### standardised mean is written as Z_mean\n",
    "Z_mean = (avg_NN_distance - mean_nn_csr)/st_dev_nn_csr\n",
    "print('Standardised mean is:', Z_mean)"
   ]
  },
  {
   "cell_type": "markdown",
   "id": "37318c1d",
   "metadata": {},
   "source": [
    "A significant clustering is evident if \n",
    "\n",
    "`Z_mean <= -|Z_alpha|`\n",
    "\n",
    "and (I think) a significant dispersion is evident if\n",
    "\n",
    "`Z_mean >= |Z_alpha|`\n",
    "\n",
    "The strength of significance depends on the alpha values chosen according to this table\n",
    "\n",
    "| Significance | alpha | Z_alpha|\n",
    "|--------------|-------|------|\n",
    "| Strong       | 0.01  | 2.33 |\n",
    "| Standard     | 0.05  | 1.65 |\n",
    "| Weak         | 0.10  | 1.28 |\n",
    "\n",
    "Relating this back to my data suggests the distribution of division points over all time is not showing any significant clustering or dispersion over all time, something one would expect given it is a time-dependent phenomena occuring over many, many hours. I will calculate a p-value for this when I come across it later in the chapter."
   ]
  },
  {
   "cell_type": "markdown",
   "id": "02dc3394",
   "metadata": {},
   "source": [
    "# Repeating for a (r, t) distance from apoptosis"
   ]
  },
  {
   "cell_type": "markdown",
   "id": "b639a157",
   "metadata": {},
   "source": [
    "Mean NN distance"
   ]
  },
  {
   "cell_type": "code",
   "execution_count": 98,
   "id": "f214b55d",
   "metadata": {},
   "outputs": [
    {
     "name": "stdout",
     "output_type": "stream",
     "text": [
      "Area and number of counts are (respectively): 56888.8888888889 881\n",
      "Estimated point density for this experiment is: 0.015486328124999997\n"
     ]
    }
   ],
   "source": [
    "### lambda_d = estimated point density \n",
    "### lambda_d = n/a(R)\n",
    "### n = number of data points\n",
    "### a = a(R) = area of complete region (FOV)\n",
    "n = len(df)\n",
    "a = (1600/3)*(1600*(4/60)) #(1200/3) * (1600/3)\n",
    "lambda_d = n/a\n",
    "print('Area and number of counts are (respectively):', a, n)\n",
    "print('Estimated point density for this experiment is:', lambda_d)"
   ]
  },
  {
   "cell_type": "markdown",
   "id": "033237c7",
   "metadata": {},
   "source": [
    "Assuming m = n (i.e. the number of subcells/quadrats that we partition R into), the corresponding estimates of the mean and standard deviation of nn-distances under Complete Spatial Randomness are given by"
   ]
  },
  {
   "cell_type": "code",
   "execution_count": 99,
   "id": "d06f0126",
   "metadata": {},
   "outputs": [
    {
     "name": "stdout",
     "output_type": "stream",
     "text": [
      "Mean value under CSR: 4.017869029083949 micrometers\n",
      "Standard deviation under CSR: 0.07075865973983451\n"
     ]
    }
   ],
   "source": [
    "mean_nn_csr = 1/(2*np.sqrt(lambda_d))\n",
    "print('Mean value under CSR:', mean_nn_csr, 'micrometers')\n",
    "st_dev_nn_csr = np.sqrt((4-np.pi)/(n*4*np.pi*lambda_d))\n",
    "print('Standard deviation under CSR:', st_dev_nn_csr)"
   ]
  },
  {
   "cell_type": "markdown",
   "id": "47ec40e3",
   "metadata": {},
   "source": [
    "These are the theoretical values showing the average distance (and st.dev.) between division events assuming complete spatial randomness. **However this is over all time...**\n",
    "\n",
    "Continuing regardless, I will calculate a mean nn-distance for the time-independent division event dataset to see if it is different from the CSR hypothesis. "
   ]
  },
  {
   "cell_type": "code",
   "execution_count": 100,
   "id": "3b74a8e7",
   "metadata": {
    "scrolled": true
   },
   "outputs": [
    {
     "data": {
      "application/vnd.jupyter.widget-view+json": {
       "model_id": "6764c90835a24c10917863ae94118cdf",
       "version_major": 2,
       "version_minor": 0
      },
      "text/plain": [
       "  0%|          | 0/881 [00:00<?, ?it/s]"
      ]
     },
     "metadata": {},
     "output_type": "display_data"
    },
    {
     "name": "stdout",
     "output_type": "stream",
     "text": [
      "Average nearest-neighbour distance between time independent division events: 2.829653099007175\n"
     ]
    }
   ],
   "source": [
    "from itertools import combinations\n",
    "\n",
    "def dist(p1, p2):\n",
    "    (x1, y1), (x2, y2) = p1, p2\n",
    "    return np.sqrt((x2 - x1)**2 + (y2 - y1)**2)\n",
    "\n",
    "x = df['Distance']\n",
    "y = df['Time']\n",
    "\n",
    "points = list(zip(x,y))\n",
    "### average distances between all points, not just nearest neighbours\n",
    "# distances = [dist(p1, p2) for p1, p2 in combinations(points, 2)]\n",
    "# avg_distance = sum(distances) / len(distances)\n",
    "nearest_neighbours = []\n",
    "for p1 in tqdm(points):\n",
    "    nearest_neighbours.append(np.min([dist(p1, p2) for p2 in points if p2 != p1]))\n",
    "df['NN distance'] = nearest_neighbours\n",
    "avg_NN_distance = np.mean(df['NN distance'])\n",
    "print('Average nearest-neighbour distance between time independent division events:', avg_NN_distance)"
   ]
  },
  {
   "cell_type": "markdown",
   "id": "fc4ddc8b",
   "metadata": {},
   "source": [
    "Given that the observed average distance is very similar to the hypothetical case of CSR, this suggests that the division events are close enough to the CSR case to be random. To verify this statistically, let us compute the standardized mean."
   ]
  },
  {
   "cell_type": "code",
   "execution_count": 101,
   "id": "0dff5069",
   "metadata": {},
   "outputs": [
    {
     "name": "stdout",
     "output_type": "stream",
     "text": [
      "Standardised mean is: -16.79251606016291\n"
     ]
    }
   ],
   "source": [
    "### standardised mean is written as Z_mean\n",
    "Z_mean = (avg_NN_distance - mean_nn_csr)/st_dev_nn_csr\n",
    "print('Standardised mean is:', Z_mean)"
   ]
  },
  {
   "cell_type": "markdown",
   "id": "92a7bcdd",
   "metadata": {},
   "source": [
    "A significant clustering is evident if \n",
    "\n",
    "`Z_mean <= -|Z_alpha|`\n",
    "\n",
    "and (I think) a significant dispersion is evident if\n",
    "\n",
    "`Z_mean >= |Z_alpha|`\n",
    "\n",
    "The strength of significance depends on the alpha values chosen according to this table\n",
    "\n",
    "| Significance | alpha | Z_alpha|\n",
    "|--------------|-------|------|\n",
    "| Strong       | 0.01  | 2.33 |\n",
    "| Standard     | 0.05  | 1.65 |\n",
    "| Weak         | 0.10  | 1.28 |\n",
    "\n",
    "Relating this back to my data suggests the distribution of division (r,t) over all time **is showing a significant clustering over all time.*** However, I am unsure if I can just substitute the x,y dimensions for r,t like I have. I will either deny or confirm this when I visit the space-time chapter in a little while. Again, I will calculate a p-value when it is discussed later in the chapter. "
   ]
  },
  {
   "cell_type": "markdown",
   "id": "d91d5d1b",
   "metadata": {},
   "source": [
    "In order to assess clustering or dispersion over different scales, we introduce \n",
    "# K-Function Analysis of Point Patterns\n",
    "that allows 'scale' to become a fundamental variable in the analysis. If one to analyse, using the previous nearest neighbour technique, a set of data that was locally clustered but globally dispersed then it would only pick up the prior clustering features. There is no way to analyse multiple scales using NN approach without some form of re-aggregation of the dataset (i.e. classifying one cluster as a single data point). Recall that the quadrat method was criticized for being too dependent on the\n",
    "scale of individual cells. Hence the key idea of K-functions is to turn this dependency into a virtue by explicitly incorporating “scale” as a variable in the analysis. Thus, rather\n",
    "than fixing the scale and locations of cell grids, we now consider randomly sampled cells\n",
    "of varying sizes. Thus, we consider for a given point process with density lambda_d: What is the expected number of point events within distance h from any randomly sampled point event? If we divide this by lambda_d then we eliminate any obvious \"density effects\", resulting in the K-Function of\n",
    "\n",
    "`K(h) = 1/lambda_d * E(number of additional events within distance, h, of an arbitrary event)`\n",
    "\n",
    "Assuming that edge effects are ignored (revisit later as Ripley's correction) the K-function reduces simply to area under the CSR hypothesis. "
   ]
  },
  {
   "cell_type": "code",
   "execution_count": 103,
   "id": "bfae16a0",
   "metadata": {},
   "outputs": [
    {
     "name": "stdout",
     "output_type": "stream",
     "text": [
      "K-function assuming CSR for 100 micrometre radius: 31415.926535897932\n"
     ]
    }
   ],
   "source": [
    "### for a circle of radius, h, 100 micrometres\n",
    "h = 100\n",
    "Kh = np.pi*h**2 \n",
    "print('K-function assuming CSR for 100 micrometre radius:', Kh)"
   ]
  },
  {
   "cell_type": "markdown",
   "id": "2c46d538",
   "metadata": {},
   "source": [
    "When `K(h) > np.pi * h**2` this implied a mean point count higher than would be expected under CSR and indicates some degree of clustering at scale h. If it is lower than the CSR case then it indicates some degree of dispersion at scale h. (L functions serve to elimiante the need for considering the above values, meaning that an L(h) value above 0 indicates clustering at scale h, whereas below indicates dispersion at scale h, see below).\n",
    "\n",
    "# Estimation of the actual K-function\n",
    "\n",
    "For any distance h we define the indicator function Ih for point pairs as \n",
    "\n",
    "`I(dij) = 1 if dij < h, 0 if dij > h`\n",
    "\n",
    "Then the K-function can now be defined as \n",
    "\n",
    "`Kh = 1/lambda_d * E[np.sum(I(dij))]`\n",
    "\n",
    "Calculating this based on the xy coords of the number of division events, as previously done:"
   ]
  },
  {
   "cell_type": "code",
   "execution_count": 104,
   "id": "f1a5f15b",
   "metadata": {},
   "outputs": [
    {
     "name": "stdout",
     "output_type": "stream",
     "text": [
      "Area and number of counts are (respectively): 213333.33333333334 881\n",
      "Estimated point density for this experiment is: 0.0041296875\n"
     ]
    }
   ],
   "source": [
    "### lambda_d = estimated point density \n",
    "### lambda_d = n/a(R)\n",
    "### n = number of data points\n",
    "### a = a(R) = area of complete region (FOV)\n",
    "n = len(df)\n",
    "a = (1200/3) * (1600/3)\n",
    "lambda_d = n/a\n",
    "print('Area and number of counts are (respectively):', a, n)\n",
    "print('Estimated point density for this experiment is:', lambda_d)"
   ]
  },
  {
   "cell_type": "code",
   "execution_count": 105,
   "id": "3192dc90",
   "metadata": {},
   "outputs": [],
   "source": [
    "x = df['x']\n",
    "y = df['y']\n",
    "points = list(zip(x,y))\n",
    "### p1 is a given point event 's' \n",
    "### will take to be the apoptoses location (converted to micrometres)\n",
    "p1 = focal_x/3, focal_y/3\n",
    "### h is the distance of scan area\n",
    "h = 100"
   ]
  },
  {
   "cell_type": "code",
   "execution_count": 187,
   "id": "9d4695ff",
   "metadata": {},
   "outputs": [],
   "source": [
    "p1 = focal_x/3, focal_y/3\n",
    "N_events_within_h = len([dist(p1, p2) for p2 in points if dist(p1, p2) <= h])\n",
    "### can also be calculated as below\n",
    "##len([distance for distance in df['Distance'] if distance <= h])"
   ]
  },
  {
   "cell_type": "code",
   "execution_count": 141,
   "id": "65f229de",
   "metadata": {},
   "outputs": [
    {
     "name": "stdout",
     "output_type": "stream",
     "text": [
      "K(100) is: 32690.12485811578 which seems high, but is correct for a temporally incorrect analogy\n"
     ]
    }
   ],
   "source": [
    "Kh = (1/lambda_d) * N_events_within_h\n",
    "print('K(100) is:', Kh, 'which seems high, but is correct for a temporally incorrect analogy')"
   ]
  },
  {
   "cell_type": "code",
   "execution_count": 173,
   "id": "54b664fc",
   "metadata": {},
   "outputs": [],
   "source": [
    "def Kh(h):\n",
    "    return ((1/lambda_d)* len([distance for distance in df['Distance'] if distance <= h]))\n",
    "    #return ((1/lambda_d)* len([dist(p1, p2) for p2 in points if dist(p1, p2) <= h]))"
   ]
  },
  {
   "cell_type": "code",
   "execution_count": 147,
   "id": "638f8d46",
   "metadata": {},
   "outputs": [
    {
     "name": "stdout",
     "output_type": "stream",
     "text": [
      "K(h), h for a range of different h values\n"
     ]
    },
    {
     "data": {
      "text/plain": [
       "[(0.0, 10),\n",
       " (1210.7453651153994, 20),\n",
       " (3390.087022323118, 30),\n",
       " (5811.577752553917, 40),\n",
       " (7748.770336738556, 50),\n",
       " (11623.155505107834, 60),\n",
       " (16950.435111615592, 70),\n",
       " (20582.67120696179, 80),\n",
       " (26152.099886492626, 90),\n",
       " (32690.12485811578, 100),\n",
       " (35838.06280741582, 110),\n",
       " (40196.74612183126, 120),\n",
       " (44313.28036322362, 130),\n",
       " (48914.112750662134, 140),\n",
       " (55694.28679530837, 150),\n",
       " (62474.460839954605, 160),\n",
       " (66348.84600832389, 170),\n",
       " (70707.52932273933, 180),\n",
       " (76034.80892924708, 190)]"
      ]
     },
     "execution_count": 147,
     "metadata": {},
     "output_type": "execute_result"
    }
   ],
   "source": [
    "print('K(h), h for a range of different h values')\n",
    "[(Kh(h), h) for h in  range(10, 200, 10)]"
   ]
  },
  {
   "cell_type": "markdown",
   "id": "56c53d59",
   "metadata": {},
   "source": [
    "Therefore the L(h) function, defined as \n",
    "\n",
    "`L(h) = np.sqrt(K(h)/np.pi) - h`\n",
    "\n",
    "which if L(h) > 0 indicates clustering at scale h and if L(h) < 0 at scale h indicates dispersion"
   ]
  },
  {
   "cell_type": "code",
   "execution_count": 193,
   "id": "a22f67d1",
   "metadata": {},
   "outputs": [],
   "source": [
    "def Lh(h):\n",
    "    return np.sqrt(Kh(h)/np.pi) - h"
   ]
  },
  {
   "cell_type": "code",
   "execution_count": 150,
   "id": "afd91fe7",
   "metadata": {},
   "outputs": [
    {
     "name": "stdout",
     "output_type": "stream",
     "text": [
      "L(h), h for a range of different h values\n"
     ]
    },
    {
     "data": {
      "text/plain": [
       "[(-10.0, 10),\n",
       " (-0.36859099892636493, 20),\n",
       " (2.8496303514791137, 30),\n",
       " (3.010262181991955, 40),\n",
       " (-0.3360271026211308, 50),\n",
       " (0.8256960989956497, 60),\n",
       " (3.454006501647612, 70),\n",
       " (0.9423728911278744, 80),\n",
       " (1.2385441484934745, 90),\n",
       " (2.0077934420735346, 100),\n",
       " (-3.193587770789378, 110),\n",
       " (-6.884918410501783, 120),\n",
       " (-11.234031689005633, 130),\n",
       " (-15.220812382655865, 140),\n",
       " (-16.853306121023024, 150),\n",
       " (-18.981424913738266, 160),\n",
       " (-24.674525215516923, 170),\n",
       " (-29.97698306240406, 180),\n",
       " (-34.42805080518238, 190)]"
      ]
     },
     "execution_count": 150,
     "metadata": {},
     "output_type": "execute_result"
    }
   ],
   "source": [
    "print('L(h), h for a range of different h values')\n",
    "[(Lh(h), h) for h in  range(10, 200, 10)]"
   ]
  },
  {
   "cell_type": "code",
   "execution_count": 165,
   "id": "5963a028",
   "metadata": {},
   "outputs": [],
   "source": [
    "import seaborn as sns\n",
    "import matplotlib.pyplot as plt\n",
    "%matplotlib inline\n",
    "sns.set_theme()\n",
    "sns.set_style('whitegrid')"
   ]
  },
  {
   "cell_type": "code",
   "execution_count": 176,
   "id": "cb4c474b",
   "metadata": {
    "scrolled": false
   },
   "outputs": [
    {
     "data": {
      "text/plain": [
       "Text(0.5, 1.0, 'L-function for a series of division events \\naround a single apoptosis')"
      ]
     },
     "execution_count": 176,
     "metadata": {},
     "output_type": "execute_result"
    },
    {
     "data": {
      "image/png": "[encoded data removed]",
      "text/plain": [
       "<Figure size 432x288 with 1 Axes>"
      ]
     },
     "metadata": {},
     "output_type": "display_data"
    }
   ],
   "source": [
    "h_ = np.linspace(0, 200, num = 2000)\n",
    "sns.lineplot( x = h_, y = [Lh(h) for h in h_])\n",
    "plt.xlabel('Scale radius \"h\" in micrometres')\n",
    "plt.ylabel('L(h)')\n",
    "plt.title(f'L-function for a series of division events \\naround a single apoptosis')"
   ]
  },
  {
   "cell_type": "markdown",
   "id": "0c32e5e5",
   "metadata": {},
   "source": [
    "Now how do we incorporate edge effects into this example? Need a suitably random distribution of events and to calculate the L(h) function for that, then overlay the two. "
   ]
  },
  {
   "cell_type": "code",
   "execution_count": 184,
   "id": "ef8c44e5",
   "metadata": {},
   "outputs": [],
   "source": [
    "import random\n",
    "\n",
    "x_rand = []\n",
    "y_rand = []\n",
    "for _ in range(n):\n",
    "    x_rand.append(random.randint(0, 1201))\n",
    "    y_rand.append(random.randint(0, 1601))\n",
    "    \n",
    "rand_points = list(zip(x_rand, y_rand))"
   ]
  },
  {
   "cell_type": "code",
   "execution_count": 185,
   "id": "8b2155c9",
   "metadata": {},
   "outputs": [
    {
     "data": {
      "text/plain": [
       "[(260, 661),\n",
       " (895, 1327),\n",
       " (393, 787),\n",
       " (1102, 822),\n",
       " (942, 840),\n",
       " (574, 1136),\n",
       " (389, 885),\n",
       " (1165, 115),\n",
       " (653, 1393),\n",
       " (1041, 1210),\n",
       " (1026, 973),\n",
       " (751, 1473),\n",
       " (141, 1230),\n",
       " (479, 986),\n",
       " (13, 1108),\n",
       " (1196, 1254),\n",
       " (1017, 1215),\n",
       " (807, 37),\n",
       " (1078, 871),\n",
       " (845, 456),\n",
       " (1179, 1058),\n",
       " (643, 491),\n",
       " (1057, 1585),\n",
       " (879, 676),\n",
       " (187, 782),\n",
       " (20, 474),\n",
       " (667, 22),\n",
       " (485, 502),\n",
       " (598, 378),\n",
       " (822, 1515),\n",
       " (522, 839),\n",
       " (3, 401),\n",
       " (975, 225),\n",
       " (492, 1222),\n",
       " (844, 1206),\n",
       " (918, 346),\n",
       " (1027, 618),\n",
       " (1132, 1447),\n",
       " (1153, 445),\n",
       " (289, 1599),\n",
       " (1178, 583),\n",
       " (550, 1021),\n",
       " (104, 471),\n",
       " (700, 1275),\n",
       " (202, 824),\n",
       " (81, 177),\n",
       " (625, 169),\n",
       " (902, 421),\n",
       " (107, 935),\n",
       " (791, 1157),\n",
       " (1004, 74),\n",
       " (713, 1125),\n",
       " (317, 1570),\n",
       " (572, 1180),\n",
       " (1120, 873),\n",
       " (276, 23),\n",
       " (300, 1356),\n",
       " (1135, 1493),\n",
       " (835, 1470),\n",
       " (416, 811),\n",
       " (772, 171),\n",
       " (1155, 1068),\n",
       " (921, 785),\n",
       " (315, 822),\n",
       " (313, 1079),\n",
       " (966, 1458),\n",
       " (234, 453),\n",
       " (175, 356),\n",
       " (612, 1090),\n",
       " (1188, 1152),\n",
       " (851, 671),\n",
       " (1201, 1374),\n",
       " (936, 864),\n",
       " (181, 959),\n",
       " (659, 1510),\n",
       " (747, 599),\n",
       " (275, 920),\n",
       " (307, 700),\n",
       " (986, 1265),\n",
       " (920, 847),\n",
       " (199, 847),\n",
       " (803, 542),\n",
       " (1157, 737),\n",
       " (0, 246),\n",
       " (1196, 1495),\n",
       " (27, 16),\n",
       " (501, 683),\n",
       " (210, 226),\n",
       " (724, 861),\n",
       " (248, 271),\n",
       " (930, 12),\n",
       " (283, 581),\n",
       " (36, 1440),\n",
       " (25, 1199),\n",
       " (535, 885),\n",
       " (271, 440),\n",
       " (452, 1369),\n",
       " (1039, 177),\n",
       " (818, 1178),\n",
       " (53, 721),\n",
       " (404, 413),\n",
       " (741, 52),\n",
       " (35, 1202),\n",
       " (762, 29),\n",
       " (845, 1457),\n",
       " (407, 1141),\n",
       " (533, 1308),\n",
       " (206, 945),\n",
       " (668, 1532),\n",
       " (1101, 1325),\n",
       " (821, 214),\n",
       " (1053, 55),\n",
       " (732, 993),\n",
       " (858, 15),\n",
       " (271, 856),\n",
       " (450, 73),\n",
       " (131, 1192),\n",
       " (252, 755),\n",
       " (1096, 431),\n",
       " (887, 1206),\n",
       " (57, 450),\n",
       " (884, 323),\n",
       " (216, 477),\n",
       " (949, 1127),\n",
       " (1100, 785),\n",
       " (432, 424),\n",
       " (1069, 1417),\n",
       " (236, 552),\n",
       " (577, 1036),\n",
       " (600, 708),\n",
       " (762, 793),\n",
       " (289, 1239),\n",
       " (718, 91),\n",
       " (256, 504),\n",
       " (262, 94),\n",
       " (286, 574),\n",
       " (820, 52),\n",
       " (714, 103),\n",
       " (1064, 170),\n",
       " (1160, 980),\n",
       " (513, 873),\n",
       " (1015, 582),\n",
       " (235, 1455),\n",
       " (988, 451),\n",
       " (384, 1568),\n",
       " (281, 951),\n",
       " (955, 510),\n",
       " (1070, 985),\n",
       " (503, 175),\n",
       " (900, 1464),\n",
       " (1031, 165),\n",
       " (617, 522),\n",
       " (893, 1473),\n",
       " (1066, 824),\n",
       " (969, 296),\n",
       " (370, 753),\n",
       " (287, 188),\n",
       " (207, 360),\n",
       " (218, 1401),\n",
       " (40, 880),\n",
       " (143, 959),\n",
       " (1078, 130),\n",
       " (59, 1168),\n",
       " (754, 692),\n",
       " (1121, 470),\n",
       " (729, 636),\n",
       " (571, 695),\n",
       " (278, 368),\n",
       " (1151, 371),\n",
       " (194, 1146),\n",
       " (243, 1243),\n",
       " (573, 0),\n",
       " (1037, 8),\n",
       " (956, 463),\n",
       " (619, 1428),\n",
       " (279, 1325),\n",
       " (448, 937),\n",
       " (864, 1346),\n",
       " (995, 1349),\n",
       " (252, 803),\n",
       " (699, 134),\n",
       " (287, 775),\n",
       " (932, 1245),\n",
       " (69, 905),\n",
       " (533, 413),\n",
       " (325, 557),\n",
       " (103, 651),\n",
       " (1024, 1444),\n",
       " (860, 990),\n",
       " (763, 135),\n",
       " (1006, 690),\n",
       " (170, 757),\n",
       " (62, 974),\n",
       " (718, 779),\n",
       " (549, 1104),\n",
       " (682, 1223),\n",
       " (476, 374),\n",
       " (812, 1495),\n",
       " (481, 531),\n",
       " (78, 289),\n",
       " (626, 1362),\n",
       " (280, 1213),\n",
       " (175, 271),\n",
       " (376, 812),\n",
       " (611, 1025),\n",
       " (693, 1235),\n",
       " (145, 676),\n",
       " (886, 408),\n",
       " (346, 165),\n",
       " (1105, 747),\n",
       " (404, 779),\n",
       " (372, 53),\n",
       " (235, 82),\n",
       " (826, 122),\n",
       " (525, 1366),\n",
       " (819, 1315),\n",
       " (661, 729),\n",
       " (485, 617),\n",
       " (181, 953),\n",
       " (941, 461),\n",
       " (216, 349),\n",
       " (550, 581),\n",
       " (566, 1458),\n",
       " (1040, 1430),\n",
       " (75, 236),\n",
       " (1098, 169),\n",
       " (814, 738),\n",
       " (251, 542),\n",
       " (694, 613),\n",
       " (912, 651),\n",
       " (251, 7),\n",
       " (1193, 1335),\n",
       " (684, 527),\n",
       " (701, 949),\n",
       " (440, 1552),\n",
       " (1168, 395),\n",
       " (193, 1131),\n",
       " (515, 279),\n",
       " (22, 1552),\n",
       " (1185, 422),\n",
       " (531, 986),\n",
       " (961, 1065),\n",
       " (479, 433),\n",
       " (577, 367),\n",
       " (1186, 305),\n",
       " (892, 412),\n",
       " (309, 937),\n",
       " (404, 140),\n",
       " (715, 758),\n",
       " (466, 984),\n",
       " (866, 466),\n",
       " (495, 1597),\n",
       " (341, 1458),\n",
       " (556, 167),\n",
       " (44, 1298),\n",
       " (1102, 1288),\n",
       " (717, 920),\n",
       " (58, 1302),\n",
       " (310, 1329),\n",
       " (1054, 364),\n",
       " (205, 1203),\n",
       " (802, 816),\n",
       " (744, 1547),\n",
       " (537, 808),\n",
       " (97, 610),\n",
       " (518, 1402),\n",
       " (1080, 385),\n",
       " (166, 376),\n",
       " (1152, 1347),\n",
       " (1017, 1448),\n",
       " (357, 334),\n",
       " (741, 1257),\n",
       " (1019, 1300),\n",
       " (449, 1578),\n",
       " (1033, 473),\n",
       " (443, 349),\n",
       " (1030, 5),\n",
       " (1113, 819),\n",
       " (745, 938),\n",
       " (815, 346),\n",
       " (963, 1423),\n",
       " (766, 210),\n",
       " (7, 607),\n",
       " (612, 1197),\n",
       " (919, 930),\n",
       " (85, 570),\n",
       " (14, 345),\n",
       " (95, 1249),\n",
       " (621, 86),\n",
       " (903, 1192),\n",
       " (1016, 501),\n",
       " (525, 1195),\n",
       " (533, 1019),\n",
       " (233, 964),\n",
       " (286, 519),\n",
       " (291, 1087),\n",
       " (676, 1291),\n",
       " (994, 1470),\n",
       " (1186, 489),\n",
       " (863, 44),\n",
       " (268, 1293),\n",
       " (202, 491),\n",
       " (471, 173),\n",
       " (934, 722),\n",
       " (559, 908),\n",
       " (271, 1231),\n",
       " (829, 1024),\n",
       " (602, 685),\n",
       " (203, 525),\n",
       " (319, 1115),\n",
       " (127, 222),\n",
       " (635, 342),\n",
       " (568, 1434),\n",
       " (894, 551),\n",
       " (26, 470),\n",
       " (87, 1159),\n",
       " (605, 760),\n",
       " (522, 389),\n",
       " (93, 1548),\n",
       " (3, 395),\n",
       " (808, 143),\n",
       " (1173, 1168),\n",
       " (749, 1053),\n",
       " (1133, 1115),\n",
       " (983, 1179),\n",
       " (811, 719),\n",
       " (598, 1251),\n",
       " (514, 188),\n",
       " (11, 1042),\n",
       " (8, 990),\n",
       " (650, 1367),\n",
       " (1151, 1400),\n",
       " (666, 1163),\n",
       " (491, 90),\n",
       " (1016, 961),\n",
       " (750, 720),\n",
       " (1120, 670),\n",
       " (814, 1462),\n",
       " (1093, 185),\n",
       " (1089, 1045),\n",
       " (426, 216),\n",
       " (588, 613),\n",
       " (1102, 401),\n",
       " (540, 815),\n",
       " (599, 517),\n",
       " (826, 741),\n",
       " (469, 708),\n",
       " (242, 1143),\n",
       " (8, 204),\n",
       " (374, 1589),\n",
       " (242, 524),\n",
       " (808, 1204),\n",
       " (739, 101),\n",
       " (470, 969),\n",
       " (850, 945),\n",
       " (47, 941),\n",
       " (537, 1054),\n",
       " (11, 251),\n",
       " (1115, 382),\n",
       " (50, 1285),\n",
       " (1003, 9),\n",
       " (456, 592),\n",
       " (1029, 1252),\n",
       " (414, 1515),\n",
       " (449, 387),\n",
       " (61, 1601),\n",
       " (536, 1406),\n",
       " (544, 414),\n",
       " (379, 1009),\n",
       " (205, 590),\n",
       " (891, 396),\n",
       " (840, 536),\n",
       " (540, 168),\n",
       " (1124, 1290),\n",
       " (8, 460),\n",
       " (811, 897),\n",
       " (721, 1222),\n",
       " (1026, 437),\n",
       " (969, 302),\n",
       " (1115, 743),\n",
       " (242, 422),\n",
       " (232, 1076),\n",
       " (625, 632),\n",
       " (124, 947),\n",
       " (649, 515),\n",
       " (1191, 1254),\n",
       " (1053, 416),\n",
       " (486, 948),\n",
       " (418, 805),\n",
       " (948, 1248),\n",
       " (487, 954),\n",
       " (351, 577),\n",
       " (831, 679),\n",
       " (407, 1522),\n",
       " (66, 505),\n",
       " (827, 1234),\n",
       " (19, 2),\n",
       " (805, 1569),\n",
       " (1027, 1425),\n",
       " (550, 1011),\n",
       " (348, 660),\n",
       " (463, 164),\n",
       " (334, 592),\n",
       " (887, 313),\n",
       " (86, 786),\n",
       " (1188, 1287),\n",
       " (900, 358),\n",
       " (757, 723),\n",
       " (100, 1420),\n",
       " (994, 410),\n",
       " (56, 569),\n",
       " (834, 959),\n",
       " (120, 932),\n",
       " (93, 1436),\n",
       " (35, 1511),\n",
       " (113, 879),\n",
       " (1000, 887),\n",
       " (1084, 1448),\n",
       " (701, 1529),\n",
       " (44, 767),\n",
       " (851, 1149),\n",
       " (351, 865),\n",
       " (540, 1198),\n",
       " (432, 541),\n",
       " (211, 243),\n",
       " (620, 951),\n",
       " (19, 1237),\n",
       " (1106, 792),\n",
       " (598, 355),\n",
       " (303, 841),\n",
       " (965, 907),\n",
       " (640, 1034),\n",
       " (1165, 1572),\n",
       " (267, 996),\n",
       " (710, 1560),\n",
       " (396, 526),\n",
       " (569, 80),\n",
       " (1150, 948),\n",
       " (999, 646),\n",
       " (614, 1328),\n",
       " (1184, 1273),\n",
       " (333, 162),\n",
       " (654, 195),\n",
       " (213, 639),\n",
       " (15, 133),\n",
       " (485, 549),\n",
       " (137, 85),\n",
       " (274, 1585),\n",
       " (12, 578),\n",
       " (11, 944),\n",
       " (1023, 867),\n",
       " (71, 520),\n",
       " (711, 660),\n",
       " (155, 697),\n",
       " (961, 579),\n",
       " (653, 1599),\n",
       " (155, 1077),\n",
       " (415, 1586),\n",
       " (684, 2),\n",
       " (869, 1469),\n",
       " (468, 224),\n",
       " (155, 792),\n",
       " (84, 781),\n",
       " (635, 210),\n",
       " (357, 144),\n",
       " (1190, 1229),\n",
       " (108, 1597),\n",
       " (497, 1440),\n",
       " (63, 1196),\n",
       " (571, 212),\n",
       " (810, 872),\n",
       " (836, 748),\n",
       " (707, 939),\n",
       " (826, 77),\n",
       " (952, 703),\n",
       " (484, 1195),\n",
       " (99, 1454),\n",
       " (346, 176),\n",
       " (343, 728),\n",
       " (1041, 1070),\n",
       " (712, 1146),\n",
       " (463, 1390),\n",
       " (61, 911),\n",
       " (1133, 1530),\n",
       " (653, 92),\n",
       " (845, 365),\n",
       " (204, 1059),\n",
       " (268, 289),\n",
       " (185, 1516),\n",
       " (1135, 1219),\n",
       " (1132, 1132),\n",
       " (43, 571),\n",
       " (113, 1227),\n",
       " (826, 1247),\n",
       " (965, 417),\n",
       " (259, 92),\n",
       " (240, 1212),\n",
       " (563, 1081),\n",
       " (183, 44),\n",
       " (772, 391),\n",
       " (213, 402),\n",
       " (929, 240),\n",
       " (364, 1254),\n",
       " (619, 487),\n",
       " (750, 1083),\n",
       " (39, 312),\n",
       " (312, 1316),\n",
       " (294, 819),\n",
       " (683, 1475),\n",
       " (598, 1080),\n",
       " (727, 1484),\n",
       " (361, 106),\n",
       " (616, 918),\n",
       " (938, 392),\n",
       " (686, 706),\n",
       " (457, 456),\n",
       " (660, 797),\n",
       " (756, 540),\n",
       " (775, 95),\n",
       " (95, 334),\n",
       " (865, 1323),\n",
       " (181, 221),\n",
       " (2, 83),\n",
       " (852, 21),\n",
       " (277, 1258),\n",
       " (607, 50),\n",
       " (634, 775),\n",
       " (201, 231),\n",
       " (201, 44),\n",
       " (68, 319),\n",
       " (735, 1018),\n",
       " (460, 178),\n",
       " (314, 907),\n",
       " (701, 1260),\n",
       " (150, 1447),\n",
       " (934, 562),\n",
       " (684, 1518),\n",
       " (988, 731),\n",
       " (828, 442),\n",
       " (545, 532),\n",
       " (409, 596),\n",
       " (1196, 1104),\n",
       " (696, 407),\n",
       " (237, 856),\n",
       " (557, 1559),\n",
       " (271, 1357),\n",
       " (968, 1565),\n",
       " (200, 801),\n",
       " (151, 530),\n",
       " (597, 1418),\n",
       " (343, 921),\n",
       " (92, 409),\n",
       " (347, 66),\n",
       " (1049, 357),\n",
       " (1025, 1551),\n",
       " (193, 1061),\n",
       " (876, 855),\n",
       " (767, 1424),\n",
       " (1162, 36),\n",
       " (975, 1439),\n",
       " (137, 318),\n",
       " (947, 486),\n",
       " (397, 592),\n",
       " (608, 1324),\n",
       " (114, 1428),\n",
       " (1121, 248),\n",
       " (17, 682),\n",
       " (968, 1209),\n",
       " (210, 195),\n",
       " (92, 1247),\n",
       " (304, 157),\n",
       " (677, 1171),\n",
       " (812, 614),\n",
       " (198, 1557),\n",
       " (772, 1028),\n",
       " (191, 117),\n",
       " (1118, 82),\n",
       " (919, 951),\n",
       " (59, 703),\n",
       " (1127, 5),\n",
       " (777, 1496),\n",
       " (489, 132),\n",
       " (425, 121),\n",
       " (399, 1130),\n",
       " (591, 841),\n",
       " (970, 1278),\n",
       " (641, 924),\n",
       " (1024, 65),\n",
       " (404, 499),\n",
       " (996, 841),\n",
       " (85, 891),\n",
       " (699, 656),\n",
       " (1177, 540),\n",
       " (961, 1544),\n",
       " (1107, 418),\n",
       " (474, 1124),\n",
       " (863, 559),\n",
       " (833, 365),\n",
       " (497, 569),\n",
       " (848, 677),\n",
       " (426, 879),\n",
       " (812, 339),\n",
       " (131, 1535),\n",
       " (850, 987),\n",
       " (1056, 1136),\n",
       " (1191, 279),\n",
       " (207, 649),\n",
       " (418, 1367),\n",
       " (609, 188),\n",
       " (42, 1241),\n",
       " (731, 808),\n",
       " (721, 1448),\n",
       " (132, 1295),\n",
       " (1150, 1377),\n",
       " (767, 986),\n",
       " (115, 534),\n",
       " (279, 321),\n",
       " (831, 1206),\n",
       " (1143, 456),\n",
       " (915, 657),\n",
       " (345, 908),\n",
       " (640, 1313),\n",
       " (524, 610),\n",
       " (852, 1009),\n",
       " (1003, 459),\n",
       " (367, 216),\n",
       " (49, 91),\n",
       " (168, 198),\n",
       " (717, 495),\n",
       " (530, 865),\n",
       " (822, 1329),\n",
       " (243, 866),\n",
       " (906, 544),\n",
       " (652, 1262),\n",
       " (1121, 881),\n",
       " (551, 1397),\n",
       " (639, 106),\n",
       " (272, 202),\n",
       " (772, 1453),\n",
       " (634, 1317),\n",
       " (582, 1185),\n",
       " (546, 268),\n",
       " (315, 252),\n",
       " (167, 1218),\n",
       " (895, 435),\n",
       " (681, 1264),\n",
       " (1022, 492),\n",
       " (237, 1057),\n",
       " (536, 1297),\n",
       " (609, 62),\n",
       " (155, 1377),\n",
       " (987, 136),\n",
       " (806, 318),\n",
       " (702, 540),\n",
       " (559, 1198),\n",
       " (329, 1597),\n",
       " (530, 584),\n",
       " (899, 598),\n",
       " (71, 907),\n",
       " (333, 66),\n",
       " (177, 732),\n",
       " (339, 629),\n",
       " (918, 1450),\n",
       " (511, 278),\n",
       " (884, 163),\n",
       " (566, 1357),\n",
       " (69, 456),\n",
       " (338, 287),\n",
       " (490, 1333),\n",
       " (485, 13),\n",
       " (357, 283),\n",
       " (1050, 507),\n",
       " (532, 1441),\n",
       " (780, 653),\n",
       " (1159, 519),\n",
       " (127, 1376),\n",
       " (752, 243),\n",
       " (356, 337),\n",
       " (517, 1568),\n",
       " (571, 526),\n",
       " (128, 443),\n",
       " (989, 124),\n",
       " (279, 457),\n",
       " (579, 1282),\n",
       " (937, 1544),\n",
       " (101, 34),\n",
       " (103, 82),\n",
       " (1068, 969),\n",
       " (817, 1577),\n",
       " (579, 915),\n",
       " (445, 747),\n",
       " (407, 330),\n",
       " (523, 1065),\n",
       " (590, 1149),\n",
       " (791, 584),\n",
       " (204, 117),\n",
       " (361, 1059),\n",
       " (452, 1491),\n",
       " (955, 842),\n",
       " (1106, 1478),\n",
       " (860, 522),\n",
       " (57, 420),\n",
       " (309, 691),\n",
       " (692, 851),\n",
       " (1000, 47),\n",
       " (191, 689),\n",
       " (717, 1181),\n",
       " (190, 774),\n",
       " (330, 176),\n",
       " (614, 981),\n",
       " (500, 730),\n",
       " (899, 1070),\n",
       " (38, 1198),\n",
       " (629, 1176),\n",
       " (725, 246),\n",
       " (711, 738),\n",
       " (785, 389),\n",
       " (202, 884),\n",
       " (546, 759),\n",
       " (1027, 1005),\n",
       " (1017, 1090),\n",
       " (695, 844),\n",
       " (92, 393),\n",
       " (1188, 638),\n",
       " (46, 352),\n",
       " (880, 863),\n",
       " (1184, 392),\n",
       " (135, 729),\n",
       " (908, 1497),\n",
       " (446, 1164),\n",
       " (1150, 952),\n",
       " (921, 32),\n",
       " (441, 204),\n",
       " (880, 1302),\n",
       " (1081, 1523),\n",
       " (261, 1295),\n",
       " (1071, 1367),\n",
       " (1167, 1434),\n",
       " (412, 163),\n",
       " (16, 397),\n",
       " (1049, 550),\n",
       " (552, 449),\n",
       " (1145, 907),\n",
       " (346, 1416),\n",
       " (995, 1398),\n",
       " (879, 510),\n",
       " (790, 288),\n",
       " (1181, 1508),\n",
       " (557, 36),\n",
       " (754, 1221),\n",
       " (1182, 307),\n",
       " (499, 1187),\n",
       " (488, 1506),\n",
       " (300, 845),\n",
       " (779, 114),\n",
       " (741, 1188),\n",
       " (381, 274),\n",
       " (223, 1262),\n",
       " (1123, 228),\n",
       " (985, 104),\n",
       " (624, 27),\n",
       " (1096, 946),\n",
       " (504, 1351),\n",
       " (137, 1485),\n",
       " (173, 1203),\n",
       " (660, 1151),\n",
       " (678, 1270),\n",
       " (1004, 356),\n",
       " (238, 1404),\n",
       " (786, 800),\n",
       " (796, 790),\n",
       " (218, 1417),\n",
       " (57, 41),\n",
       " (1056, 314),\n",
       " (699, 1287),\n",
       " (1093, 754),\n",
       " (890, 546),\n",
       " (65, 464),\n",
       " (199, 563),\n",
       " (877, 655),\n",
       " (524, 1166),\n",
       " (1171, 117),\n",
       " (171, 120),\n",
       " (2, 364),\n",
       " (603, 691),\n",
       " (174, 1448),\n",
       " (529, 1060),\n",
       " (1003, 1466),\n",
       " (276, 1384),\n",
       " (146, 1315),\n",
       " (1153, 1286),\n",
       " (495, 532),\n",
       " (767, 721),\n",
       " (327, 663),\n",
       " (756, 1585),\n",
       " (249, 353),\n",
       " (802, 1065),\n",
       " (921, 156),\n",
       " (730, 877),\n",
       " (506, 1445),\n",
       " (760, 1285),\n",
       " (284, 1349),\n",
       " (1074, 948),\n",
       " (987, 286),\n",
       " (881, 1477),\n",
       " (404, 1083),\n",
       " (119, 1339),\n",
       " (624, 1010),\n",
       " (1102, 1437),\n",
       " (687, 359),\n",
       " (167, 465),\n",
       " (322, 704),\n",
       " (56, 420),\n",
       " (246, 1091),\n",
       " (291, 834),\n",
       " (42, 1413),\n",
       " (1135, 1287),\n",
       " (298, 637),\n",
       " (183, 1010),\n",
       " (1051, 1463),\n",
       " (536, 1089),\n",
       " (452, 376),\n",
       " (918, 452),\n",
       " (792, 207),\n",
       " (4, 1022),\n",
       " (1139, 167),\n",
       " (990, 949),\n",
       " (34, 997),\n",
       " (260, 1052),\n",
       " (1096, 882),\n",
       " (1200, 953),\n",
       " (1115, 802),\n",
       " (379, 1238),\n",
       " (1136, 367),\n",
       " (1198, 1553),\n",
       " (752, 867),\n",
       " (926, 394),\n",
       " (404, 221),\n",
       " (206, 621),\n",
       " (1087, 1238),\n",
       " (444, 1404),\n",
       " (257, 469),\n",
       " (306, 89),\n",
       " (738, 802),\n",
       " (85, 139),\n",
       " (1118, 363),\n",
       " (1095, 1447),\n",
       " (502, 1121),\n",
       " (400, 1087),\n",
       " (24, 1068),\n",
       " (258, 700),\n",
       " (418, 528),\n",
       " (59, 1089),\n",
       " (1006, 671),\n",
       " (605, 1073),\n",
       " (572, 561),\n",
       " (780, 948),\n",
       " (712, 1258),\n",
       " (818, 52),\n",
       " (1159, 1328),\n",
       " (1076, 322),\n",
       " (354, 146),\n",
       " (85, 1351),\n",
       " (458, 755),\n",
       " (106, 933),\n",
       " (291, 854),\n",
       " (616, 1031),\n",
       " (649, 657),\n",
       " (180, 828),\n",
       " (76, 941),\n",
       " (865, 1109),\n",
       " (971, 886),\n",
       " (255, 136),\n",
       " (1076, 1088),\n",
       " (981, 1206),\n",
       " (745, 244),\n",
       " (799, 1474),\n",
       " (250, 234),\n",
       " (346, 860),\n",
       " (468, 628),\n",
       " (1089, 1235)]"
      ]
     },
     "execution_count": 185,
     "metadata": {},
     "output_type": "execute_result"
    }
   ],
   "source": [
    "rand_points"
   ]
  },
  {
   "cell_type": "code",
   "execution_count": 192,
   "id": "872fc8a6",
   "metadata": {},
   "outputs": [],
   "source": [
    "### lambda_d will be the same as same n being used and same area\n",
    "### p1 will be the same (focal apoptotic point)\n",
    "### redefining Kh and Lhto use new random data\n",
    "def rand_Kh(h):\n",
    "    return ((1/lambda_d)* len([dist(p1, p2) for p2 in rand_points if dist(p1, p2) <= h]))\n",
    "def rand_Lh(h):\n",
    "    return np.sqrt(rand_Kh(h)/np.pi) - h"
   ]
  },
  {
   "cell_type": "code",
   "execution_count": 196,
   "id": "52a37e3a",
   "metadata": {},
   "outputs": [
    {
     "data": {
      "text/plain": [
       "Text(0.5, 1.0, 'L-function for a series of random events \\naround a single apoptosis')"
      ]
     },
     "execution_count": 196,
     "metadata": {},
     "output_type": "execute_result"
    },
    {
     "data": {
      "image/png": "[encoded data removed]",
      "text/plain": [
       "<Figure size 432x288 with 1 Axes>"
      ]
     },
     "metadata": {},
     "output_type": "display_data"
    }
   ],
   "source": [
    "h_ = np.linspace(0, 200, num = 2000)\n",
    "sns.lineplot( x = h_, y = [rand_Lh(h) for h in h_])\n",
    "plt.xlabel('Scale radius \"h\" in micrometres')\n",
    "plt.ylabel('L(h)')\n",
    "plt.title(f'L-function for a series of random events \\naround a single apoptosis')"
   ]
  },
  {
   "cell_type": "code",
   "execution_count": 206,
   "id": "59102ac5",
   "metadata": {},
   "outputs": [
    {
     "data": {
      "text/plain": [
       "Text(0.5, 1.0, 'L-function overlay for a series of random and division events \\naround a single apoptosis')"
      ]
     },
     "execution_count": 206,
     "metadata": {},
     "output_type": "execute_result"
    },
    {
     "data": {
      "image/png": "[encoded data removed]",
      "text/plain": [
       "<Figure size 432x288 with 1 Axes>"
      ]
     },
     "metadata": {},
     "output_type": "display_data"
    }
   ],
   "source": [
    "fig, ax = plt.subplots()\n",
    "sns.lineplot( x = h_, y = [rand_Lh(h) for h in h_], ax = ax)\n",
    "sns.lineplot( x = h_, y = [Lh(h) for h in h_], ax = ax)\n",
    "plt.xlabel('Scale radius \"h\" in micrometres')\n",
    "plt.ylabel('L(h)')\n",
    "fig.legend(labels=['Random L-function','Division event L-function'], loc = 5)\n",
    "plt.title(f'L-function overlay for a series of random and division events \\naround a single apoptosis')"
   ]
  },
  {
   "cell_type": "markdown",
   "id": "d7ac9a72",
   "metadata": {},
   "source": [
    "The overlay of a random L-function plot with the division event L-function indicates that for the most part the L-function is above the random case, which points to relative dispersion of division events in the immediate local environment of h < 20, and then a generalised clustering of events beyond that. INTERESTING. Or is it? Hold yer horses.\n",
    "As a reminder, if L(h) > 0 that indicates clustering at scale h and if L(h) < 0 at scale h indicates dispersion.\n",
    "This makes sens as the immediate local environment where h < 15 is likely occupied by the central apoptotic focal cell, which is reflected in the division event L-function and not in the random control plot. "
   ]
  },
  {
   "cell_type": "code",
   "execution_count": 209,
   "id": "fa410a3a",
   "metadata": {},
   "outputs": [
    {
     "data": {
      "text/plain": [
       "Text(0.5, 1.0, 'L-function above random for a series of division events \\naround a single apoptosis')"
      ]
     },
     "execution_count": 209,
     "metadata": {},
     "output_type": "execute_result"
    },
    {
     "data": {
      "image/png": "[encoded data removed]",
      "text/plain": [
       "<Figure size 432x288 with 1 Axes>"
      ]
     },
     "metadata": {},
     "output_type": "display_data"
    }
   ],
   "source": [
    "h_ = np.linspace(0, 200, num = 2000)\n",
    "sns.lineplot( x = h_, y =[Lh(h) - rand_Lh(h) for h in h_])\n",
    "plt.xlabel('Scale radius \"h\" in micrometres')\n",
    "plt.ylabel('L(h)')\n",
    "plt.title(f'L-function above random for a series of division events \\naround a single apoptosis')"
   ]
  },
  {
   "cell_type": "markdown",
   "id": "8fba4faf",
   "metadata": {},
   "source": [
    "But observe even these benchmark comparisons have\n",
    "little meaning at scales so large that circles of radius h around all pattern points lie\n",
    "mostly outside the relevant region R (the FOV). For this reason, the commonly accepted rule-ofthumb is that for any given point pattern, n S , one should not consider h-values larger\n",
    "that half the maximum pairwise distance between pattern points."
   ]
  },
  {
   "cell_type": "code",
   "execution_count": 210,
   "id": "329afda8",
   "metadata": {},
   "outputs": [],
   "source": [
    "### maximum pairwise distance between pattern points\n",
    "hmax = np.max(df['Distance'])\n",
    "h_hat = hmax/2"
   ]
  },
  {
   "cell_type": "markdown",
   "id": "dae6c87c",
   "metadata": {},
   "source": [
    "#### Was my random simulation of points truly accurate?\n",
    "\n",
    "Or can I use a Poission distribution?"
   ]
  },
  {
   "cell_type": "code",
   "execution_count": 222,
   "id": "f3b0df3a",
   "metadata": {},
   "outputs": [],
   "source": [
    "from skimage.io import imshow"
   ]
  },
  {
   "cell_type": "code",
   "execution_count": 236,
   "id": "fbdfff37",
   "metadata": {},
   "outputs": [],
   "source": [
    "poisson = np.random.poisson(lam = lambda_d, size = (int(1200/3), int(1600/3)))"
   ]
  },
  {
   "cell_type": "code",
   "execution_count": 246,
   "id": "2a3b55c3",
   "metadata": {},
   "outputs": [
    {
     "data": {
      "text/plain": [
       "<matplotlib.image.AxesImage at 0x7f866d34a880>"
      ]
     },
     "execution_count": 246,
     "metadata": {},
     "output_type": "execute_result"
    },
    {
     "data": {
      "image/png": "[encoded data removed]",
      "text/plain": [
       "<Figure size 432x288 with 2 Axes>"
      ]
     },
     "metadata": {},
     "output_type": "display_data"
    }
   ],
   "source": [
    "imshow(poisson)"
   ]
  },
  {
   "cell_type": "code",
   "execution_count": 247,
   "id": "cd364799",
   "metadata": {},
   "outputs": [],
   "source": [
    "ii = np.nonzero(poisson)"
   ]
  },
  {
   "cell_type": "code",
   "execution_count": 248,
   "id": "55e5ad05",
   "metadata": {},
   "outputs": [
    {
     "data": {
      "text/plain": [
       "875"
      ]
     },
     "execution_count": 248,
     "metadata": {},
     "output_type": "execute_result"
    }
   ],
   "source": [
    "len(ii[0])"
   ]
  },
  {
   "cell_type": "code",
   "execution_count": 254,
   "id": "0f10ce9e",
   "metadata": {},
   "outputs": [],
   "source": [
    "pois_rand_points = tuple(zip(*ii))"
   ]
  },
  {
   "cell_type": "code",
   "execution_count": 255,
   "id": "d8577dd1",
   "metadata": {},
   "outputs": [],
   "source": [
    "### lambda_d will be different as diff n\n",
    "n_pois = len(pois_rand_points)\n",
    "lambda_d_pois = n_pois/a\n",
    "### p1 will be the same (focal apoptotic point)\n",
    "### redefining Kh and Lhto use new random data\n",
    "def pois_rand_Kh(h):\n",
    "    return ((1/lambda_d_pois)* len([dist(p1, p2) for p2 in pois_rand_points if dist(p1, p2) <= h]))\n",
    "def pois_rand_Lh(h):\n",
    "    return np.sqrt(pois_rand_Kh(h)/np.pi) - h"
   ]
  },
  {
   "cell_type": "code",
   "execution_count": 256,
   "id": "d563123f",
   "metadata": {},
   "outputs": [
    {
     "data": {
      "text/plain": [
       "Text(0.5, 1.0, 'L-function for a series of random events \\naround a single apoptosis')"
      ]
     },
     "execution_count": 256,
     "metadata": {},
     "output_type": "execute_result"
    },
    {
     "data": {
      "image/png": "[encoded data removed]",
      "text/plain": [
       "<Figure size 432x288 with 1 Axes>"
      ]
     },
     "metadata": {},
     "output_type": "display_data"
    }
   ],
   "source": [
    "h_ = np.linspace(0, 200, num = 2000)\n",
    "sns.lineplot( x = h_, y = [pois_rand_Lh(h) for h in h_])\n",
    "plt.xlabel('Scale radius \"h\" in micrometres')\n",
    "plt.ylabel('L(h)')\n",
    "plt.title(f'L-function for a series of random events \\naround a single apoptosis')"
   ]
  },
  {
   "cell_type": "code",
   "execution_count": 257,
   "id": "25c621fd",
   "metadata": {},
   "outputs": [
    {
     "data": {
      "text/plain": [
       "Text(0.5, 1.0, 'L-function overlay for a series of random and division events \\naround a single apoptosis')"
      ]
     },
     "execution_count": 257,
     "metadata": {},
     "output_type": "execute_result"
    },
    {
     "data": {
      "image/png": "[encoded data removed]",
      "text/plain": [
       "<Figure size 432x288 with 1 Axes>"
      ]
     },
     "metadata": {},
     "output_type": "display_data"
    }
   ],
   "source": [
    "fig, ax = plt.subplots()\n",
    "sns.lineplot( x = h_, y = [pois_rand_Lh(h) for h in h_], ax = ax)\n",
    "sns.lineplot( x = h_, y = [Lh(h) for h in h_], ax = ax)\n",
    "plt.xlabel('Scale radius \"h\" in micrometres')\n",
    "plt.ylabel('L(h)')\n",
    "fig.legend(labels=['Random L-function','Division event L-function'], loc = 5)\n",
    "plt.title(f'L-function overlay for a series of random and division events \\naround a single apoptosis')"
   ]
  },
  {
   "cell_type": "markdown",
   "id": "74326213",
   "metadata": {},
   "source": [
    "The overlay of a random L-function plot with the division event L-function indicates that for the most part the L-function is inline with the Poisson random case. There is a similar indication of relative dispersion in the immediate environment whereas a stronger case for clustering in the 15-30 local neighbourhood. There is also not a strong indication of clustering or dispersion of events beyond that. INTERESTING."
   ]
  },
  {
   "cell_type": "code",
   "execution_count": 262,
   "id": "d50e5979",
   "metadata": {},
   "outputs": [
    {
     "data": {
      "text/plain": [
       "Text(0.5, 1.0, 'L-function above random for a series of division events \\naround a single apoptosis')"
      ]
     },
     "execution_count": 262,
     "metadata": {},
     "output_type": "execute_result"
    },
    {
     "data": {
      "image/png": "[encoded data removed]",
      "text/plain": [
       "<Figure size 432x288 with 1 Axes>"
      ]
     },
     "metadata": {},
     "output_type": "display_data"
    }
   ],
   "source": [
    "h_ = np.linspace(0, 200, num = 2000)\n",
    "sns.lineplot( x = h_, y =[Lh(h) - pois_rand_Lh(h) for h in h_])\n",
    "plt.xlabel('Scale radius \"h\" in micrometres')\n",
    "plt.ylabel('L(h)')\n",
    "plt.hlines(y = 0, xmin = 0, xmax =200, linestyles='dashed')\n",
    "plt.title(f'L-function above random for a series of division events \\naround a single apoptosis')"
   ]
  },
  {
   "cell_type": "markdown",
   "id": "39f14d59",
   "metadata": {},
   "source": [
    "#### Plotting upper and lower envelopes for non-Poisson randomness\n",
    "\n",
    "First simulate N random patterns i. Let N = 99. \n",
    "Then choose a selection of h-values and compute Lh for each value of h and i. Form the lower and upper envelope functions by considering the min and the max of the calculated Lh. Plot the L-values for the upper and lower. "
   ]
  },
  {
   "cell_type": "code",
   "execution_count": 319,
   "id": "3db317a2",
   "metadata": {},
   "outputs": [
    {
     "data": {
      "application/vnd.jupyter.widget-view+json": {
       "model_id": "1d06871bf4e84df59a3829529f865932",
       "version_major": 2,
       "version_minor": 0
      },
      "text/plain": [
       "  0%|          | 0/1000 [00:00<?, ?it/s]"
      ]
     },
     "metadata": {},
     "output_type": "display_data"
    }
   ],
   "source": [
    "N_random_patterns = {}\n",
    "n = len(df)\n",
    "for i in tqdm(range(1000)):\n",
    "    x_rand = []\n",
    "    y_rand = []\n",
    "    for _ in range(n):\n",
    "        x_rand.append(random.randint(0, 1201))\n",
    "        y_rand.append(random.randint(0, 1601))\n",
    "\n",
    "    rand_points = list(zip(x_rand, y_rand))\n",
    "   \n",
    "    N_random_patterns[i] = rand_points"
   ]
  },
  {
   "cell_type": "code",
   "execution_count": 279,
   "id": "9e0d8302",
   "metadata": {},
   "outputs": [],
   "source": [
    "def env_rand_Kh(h, env_rand_points, lambda_d_env):\n",
    "    return ((1/lambda_d_env)* len([dist(p1, p2) for p2 in env_rand_points if dist(p1, p2) <= h]))\n",
    "def env_rand_Lh(h, env_rand_points, lambda_d_env):\n",
    "    return np.sqrt(env_rand_Kh(h, env_rand_points, lambda_d_env)/np.pi) - h"
   ]
  },
  {
   "cell_type": "code",
   "execution_count": 280,
   "id": "d080ae01",
   "metadata": {},
   "outputs": [],
   "source": [
    "h_ = np.linspace(0, 200, 100)"
   ]
  },
  {
   "cell_type": "code",
   "execution_count": 320,
   "id": "ce7dfd63",
   "metadata": {},
   "outputs": [
    {
     "data": {
      "application/vnd.jupyter.widget-view+json": {
       "model_id": "2c08b8aac56b4b55991503d879e9f9ec",
       "version_major": 2,
       "version_minor": 0
      },
      "text/plain": [
       "  0%|          | 0/1000 [00:00<?, ?it/s]"
      ]
     },
     "metadata": {},
     "output_type": "display_data"
    }
   ],
   "source": [
    "Lh_env_i = {}\n",
    "for i in tqdm(range(1000)):\n",
    "    env_rand_points = N_random_patterns[i]\n",
    "    n_env = len(env_rand_points)\n",
    "    lambda_d_env = n_env/a\n",
    " \n",
    "    Lh_env = [env_rand_Lh(h, env_rand_points, lambda_d_env) for h in h_]\n",
    "    Lh_env_i[i] = Lh_env\n",
    "    "
   ]
  },
  {
   "cell_type": "code",
   "execution_count": 321,
   "id": "7ee04cbe",
   "metadata": {},
   "outputs": [],
   "source": [
    "min_Lh, max_Lh = [], []\n",
    "for n, h in enumerate(h_):\n",
    "    vals = []\n",
    "    for i in range(1000):\n",
    "        vals.append(Lh_env_i[i][n])\n",
    "    min_Lh.append(np.min(vals))\n",
    "    max_Lh.append(np.max(vals))\n",
    "    "
   ]
  },
  {
   "cell_type": "code",
   "execution_count": 322,
   "id": "a3a96210",
   "metadata": {},
   "outputs": [
    {
     "data": {
      "text/plain": [
       "Text(0.5, 1.0, 'Minimum, Maximum and observed L-function overlay for division events \\naround a single apoptosis')"
      ]
     },
     "execution_count": 322,
     "metadata": {},
     "output_type": "execute_result"
    },
    {
     "data": {
      "image/png": "[encoded data removed]",
      "text/plain": [
       "<Figure size 432x288 with 1 Axes>"
      ]
     },
     "metadata": {},
     "output_type": "display_data"
    }
   ],
   "source": [
    "fig, ax = plt.subplots()\n",
    "sns.lineplot( x= h_, y =min_Lh)\n",
    "sns.lineplot( x= h_, y =max_Lh)\n",
    "sns.lineplot( x = h_, y =[Lh(h) for h in h_])\n",
    "plt.xlabel('Scale radius \"h\" in micrometres')\n",
    "plt.ylabel('L(h)')\n",
    "fig.legend(labels=['minimum envelope L-function','maximum envelope L-function','Division event L-function'], loc = 10)\n",
    "plt.title(f'Minimum, Maximum and observed L-function overlay for division events \\naround a single apoptosis')"
   ]
  },
  {
   "cell_type": "markdown",
   "id": "91f1162e",
   "metadata": {},
   "source": [
    "#### Plotting upper and lower envelopes for Poisson distribution of random points\n",
    "\n",
    "First simulate N random patterns i. Let N = 99. \n",
    "Then choose a selection of h-values and compute Lh for each value of h and i. Form the lower and upper envelope functions by considering the min and the max of the calculated Lh. Plot the L-values for the upper and lower. "
   ]
  },
  {
   "cell_type": "code",
   "execution_count": 323,
   "id": "afdc0764",
   "metadata": {},
   "outputs": [
    {
     "data": {
      "application/vnd.jupyter.widget-view+json": {
       "model_id": "9b6f18b14c85469d956bdc9dd68da639",
       "version_major": 2,
       "version_minor": 0
      },
      "text/plain": [
       "  0%|          | 0/1000 [00:00<?, ?it/s]"
      ]
     },
     "metadata": {},
     "output_type": "display_data"
    }
   ],
   "source": [
    "N_random_patterns = {}\n",
    "### range is the number of simulations of random data coordinates\n",
    "for i in tqdm(range(1000)):\n",
    "    poisson = np.random.poisson(lam = lambda_d, size = (int(1200/3), int(1600/3)))\n",
    "    ii = np.nonzero(poisson)\n",
    "    N_random_patterns[i] = tuple(zip(*ii))"
   ]
  },
  {
   "cell_type": "code",
   "execution_count": 279,
   "id": "6b7e98cb",
   "metadata": {},
   "outputs": [],
   "source": [
    "def env_rand_Kh(h, env_rand_points, lambda_d_env):\n",
    "    return ((1/lambda_d_env)* len([dist(p1, p2) for p2 in env_rand_points if dist(p1, p2) <= h]))\n",
    "def env_rand_Lh(h, env_rand_points, lambda_d_env):\n",
    "    return np.sqrt(env_rand_Kh(h, env_rand_points, lambda_d_env)/np.pi) - h"
   ]
  },
  {
   "cell_type": "code",
   "execution_count": 280,
   "id": "3e097129",
   "metadata": {},
   "outputs": [],
   "source": [
    "h_ = np.linspace(0, 200, 100)"
   ]
  },
  {
   "cell_type": "code",
   "execution_count": 324,
   "id": "0b666ef2",
   "metadata": {},
   "outputs": [
    {
     "data": {
      "application/vnd.jupyter.widget-view+json": {
       "model_id": "8fabcad9a04b4b7898461dc78084d3ae",
       "version_major": 2,
       "version_minor": 0
      },
      "text/plain": [
       "  0%|          | 0/1000 [00:00<?, ?it/s]"
      ]
     },
     "metadata": {},
     "output_type": "display_data"
    }
   ],
   "source": [
    "Lh_env_i = {}\n",
    "for i in tqdm(range(1000)):\n",
    "    env_rand_points = N_random_patterns[i]\n",
    "    n_env = len(env_rand_points)\n",
    "    lambda_d_env = n_env/a\n",
    " \n",
    "    Lh_env = [env_rand_Lh(h, env_rand_points, lambda_d_env) for h in h_]\n",
    "    Lh_env_i[i] = Lh_env\n",
    "    "
   ]
  },
  {
   "cell_type": "code",
   "execution_count": 325,
   "id": "443070a5",
   "metadata": {},
   "outputs": [],
   "source": [
    "min_Lh, max_Lh = [], []\n",
    "for n, h in enumerate(h_):\n",
    "    vals = []\n",
    "    for i in range(99):\n",
    "        vals.append(Lh_env_i[i][n])\n",
    "    min_Lh.append(np.min(vals))\n",
    "    max_Lh.append(np.max(vals))\n",
    "    "
   ]
  },
  {
   "cell_type": "code",
   "execution_count": 326,
   "id": "b96a63e5",
   "metadata": {},
   "outputs": [
    {
     "data": {
      "text/plain": [
       "Text(0.5, 1.0, 'Minimum, Maximum and observed L-function overlay for division events \\naround a single apoptosis')"
      ]
     },
     "execution_count": 326,
     "metadata": {},
     "output_type": "execute_result"
    },
    {
     "data": {
      "image/png": "[encoded data removed]",
      "text/plain": [
       "<Figure size 432x288 with 1 Axes>"
      ]
     },
     "metadata": {},
     "output_type": "display_data"
    }
   ],
   "source": [
    "fig, ax = plt.subplots()\n",
    "sns.lineplot( x= h_, y =min_Lh)\n",
    "sns.lineplot( x= h_, y =max_Lh)\n",
    "sns.lineplot( x = h_, y =[Lh(h) for h in h_])\n",
    "plt.xlabel('Scale radius \"h\" in micrometres')\n",
    "plt.ylabel('L(h)')\n",
    "fig.legend(labels=['minimum envelope L-function','maximum envelope L-function','Division event L-function'], loc = 10)\n",
    "plt.title(f'Minimum, Maximum and observed L-function overlay for division events \\naround a single apoptosis')"
   ]
  },
  {
   "cell_type": "markdown",
   "id": "7f6058b6",
   "metadata": {},
   "source": [
    "#### Tomorrow: attempt Comparative Analyses of Point Patterns and Space-Time K-function"
   ]
  }
 ],
 "metadata": {
  "kernelspec": {
   "display_name": "CellX",
   "language": "python",
   "name": "cellx"
  },
  "language_info": {
   "codemirror_mode": {
    "name": "ipython",
    "version": 3
   },
   "file_extension": ".py",
   "mimetype": "text/x-python",
   "name": "python",
   "nbconvert_exporter": "python",
   "pygments_lexer": "ipython3",
   "version": "3.9.7"
  }
 },
 "nbformat": 4,
 "nbformat_minor": 5
}
