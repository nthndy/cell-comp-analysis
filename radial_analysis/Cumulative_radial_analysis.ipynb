{
 "cells": [
  {
   "cell_type": "markdown",
   "metadata": {},
   "source": [
    "# Cumulative event counter"
   ]
  },
  {
   "cell_type": "markdown",
   "metadata": {},
   "source": [
    "### This notebook counts the cumulative spatio-temporal distribution of cellular events in the local neighbourhood of a series of apoptosis events\n",
    "\n",
    "1. Load dictionary of ~apoptoses~ events and their corresponding times to base the spatiotemporal scans around \n",
    "2. Load corresponding tracking data and specify scan parameters\n",
    "3. Iteratively calculate spatiotemporal distribution of cellular events around apoptoses, saving each distribution out as a .npy distance-time heatmap\n",
    "4. Compile list of spatiotemporal heatmaps as cumulative heatmap\n",
    "5. Misc. section: comparing different experimental conditions"
   ]
  },
  {
   "cell_type": "code",
   "execution_count": 1,
   "metadata": {},
   "outputs": [],
   "source": [
    "import calculate_radial_analysis as calculate\n",
    "import tools\n",
    "import render\n",
    "import dataio\n",
    "\n",
    "import json\n",
    "import glob\n",
    "import os\n",
    "import re\n",
    "import numpy as np\n",
    "from natsort import natsorted\n",
    "from tqdm import tqdm\n",
    "import matplotlib.pyplot as plt\n",
    "from pathlib import Path"
   ]
  },
  {
   "cell_type": "markdown",
   "metadata": {},
   "source": [
    "## 1) Event dictionary loader\n",
    "\n",
    "Specify cell type to filter out unwanted apoptoses, want end result of event_dict that takes the format of :`event_dict = {event_ID:event_time}` \n",
    "\n",
    "where `event_ID` takes the format of: `GV{experiment_ID}_Pos{position_ID}_{cell_ID}_{cell_type}` \n",
    "\n",
    "For example: \n",
    "\n",
    "```\n",
    "event_dict = {'GV0794_Pos4_393_GFP': '766',\n",
    "             'GV0794_Pos7_364_GFP': '550',\n",
    "             'GV0794_Pos7_457_GFP': '805',\n",
    "             'GV0794_Pos7_369_GFP': '833',\n",
    "             'GV0794_Pos7_292_GFP': '884',\n",
    "             'GV0795_Pos4_358_GFP': '628',\n",
    "             'GV0795_Pos4_18_GFP': '855',\n",
    "             'GV0795_Pos4_1356_GFP': '992',\n",
    "             'GV0795_Pos4_359_GFP': '1133',\n",
    "             'GV0796_Pos4_542_GFP': '581',\n",
    "             'GV0796_Pos4_1334_GFP': '719',\n",
    "             'GV0796_Pos4_1586_GFP': '785'}\n",
    " ```\n",
    " \n",
    "Function to apoptosis event dictionary from preexisting data store:\n",
    "\n",
    "`dataio.apoptosis_list_loader(path_to_apop_lists, cell_type)`\n",
    "\n",
    "Where the `path_to_apop_lists` is the directory containing the apoptosis information and the `cell_type` is either `'Scr'` or `'WT'`."
   ]
  },
  {
   "cell_type": "code",
   "execution_count": 2,
   "metadata": {},
   "outputs": [
    {
     "data": {
      "text/plain": [
       "{'GV0804_Pos4_179_RFP': '625',\n",
       " 'GV0804_Pos4_249_RFP': '850',\n",
       " 'GV0804_Pos4_110_RFP': '851',\n",
       " 'GV0804_Pos4_292_RFP': '902',\n",
       " 'GV0804_Pos4_342_RFP': '999',\n",
       " 'GV0804_Pos4_343_RFP': '1002',\n",
       " 'GV0804_Pos4_231_RFP': '1010',\n",
       " 'GV0804_Pos4_339_RFP': '1009',\n",
       " 'GV0804_Pos4_333_RFP': '1014',\n",
       " 'GV0804_Pos4_353_RFP': '1050',\n",
       " 'GV0804_Pos4_351_RFP': '1084',\n",
       " 'GV0804_Pos4_163_RFP': '1074',\n",
       " 'GV0804_Pos4_217_RFP': '1142',\n",
       " 'GV0794_Pos4_6_RFP': '469',\n",
       " 'GV0794_Pos4_73_RFP': '773',\n",
       " 'GV0794_Pos4_70_RFP': '820',\n",
       " 'GV0794_Pos7_52_RFP': '195',\n",
       " 'GV0794_Pos7_192_RFP': '258',\n",
       " 'GV0794_Pos7_352_RFP': '749',\n",
       " 'GV0794_Pos7_328_RFP': '827',\n",
       " 'GV0794_Pos7_329_RFP': '846',\n",
       " 'GV0794_Pos7_360_RFP': '874',\n",
       " 'GV0794_Pos7_429_RFP': '889',\n",
       " 'GV0795_Pos4_1_RFP': '6',\n",
       " 'GV0795_Pos4_7_RFP': '8',\n",
       " 'GV0795_Pos4_103_RFP': '472',\n",
       " 'GV0795_Pos4_284_RFP': '639',\n",
       " 'GV0795_Pos4_235_RFP': '642',\n",
       " 'GV0795_Pos4_234_RFP': '671',\n",
       " 'GV0795_Pos4_285_RFP': '654',\n",
       " 'GV0795_Pos4_223_RFP': '418',\n",
       " 'GV0795_Pos4_323_RFP': '956',\n",
       " 'GV0795_Pos4_78_RFP': '955',\n",
       " 'GV0795_Pos4_359_RFP': '734',\n",
       " 'GV0795_Pos4_423_RFP': '740',\n",
       " 'GV0795_Pos4_248_RFP': '768',\n",
       " 'GV0795_Pos4_192_RFP': '385',\n",
       " 'GV0795_Pos4_322_RFP': '826',\n",
       " 'GV0795_Pos4_49_RFP': '835',\n",
       " 'GV0795_Pos4_432_RFP': '833',\n",
       " 'GV0795_Pos4_3_RFP': '857',\n",
       " 'GV0795_Pos4_419_RFP': '900',\n",
       " 'GV0795_Pos4_487_RFP': '880',\n",
       " 'GV0795_Pos4_355_RFP': '905',\n",
       " 'GV0795_Pos4_418_RFP': '950',\n",
       " 'GV0795_Pos4_35_RFP': '1022',\n",
       " 'GV0795_Pos4_309_RFP': '1006',\n",
       " 'GV0795_Pos4_636_RFP': '1047',\n",
       " 'GV0795_Pos4_703_RFP': '1080',\n",
       " 'GV0795_Pos7_37_RFP': '177',\n",
       " 'GV0795_Pos7_390_RFP': '713',\n",
       " 'GV0795_Pos7_421_RFP': '648',\n",
       " 'GV0795_Pos7_460_RFP': '807',\n",
       " 'GV0795_Pos7_263_RFP': '555',\n",
       " 'GV0795_Pos7_264_RFP': '459',\n",
       " 'GV0795_Pos7_680_RFP': '728',\n",
       " 'GV0795_Pos7_874_RFP': '809',\n",
       " 'GV0795_Pos7_873_RFP': '809',\n",
       " 'GV0795_Pos7_255_RFP': '789',\n",
       " 'GV0795_Pos7_850_RFP': '832',\n",
       " 'GV0795_Pos7_1030_RFP': '920',\n",
       " 'GV0795_Pos7_1029_RFP': '921',\n",
       " 'GV0795_Pos7_823_RFP': '937',\n",
       " 'GV0795_Pos7_308_RFP': '859',\n",
       " 'GV0795_Pos7_488_RFP': '751',\n",
       " 'GV0795_Pos7_410_RFP': '962',\n",
       " 'GV0795_Pos7_416_RFP': '1010',\n",
       " 'GV0795_Pos7_1119_RFP': '1008',\n",
       " 'GV0795_Pos7_468_RFP': '1080',\n",
       " 'GV0796_Pos4_13_RFP': '279',\n",
       " 'GV0796_Pos4_33_RFP': '280',\n",
       " 'GV0796_Pos4_372_RFP': '400',\n",
       " 'GV0796_Pos4_377_RFP': '400',\n",
       " 'GV0796_Pos4_27_RFP': '441',\n",
       " 'GV0796_Pos4_214_RFP': '440',\n",
       " 'GV0796_Pos4_469_RFP': '461',\n",
       " 'GV0796_Pos4_468_RFP': '461',\n",
       " 'GV0796_Pos4_399_RFP': '498',\n",
       " 'GV0796_Pos4_400_RFP': '542',\n",
       " 'GV0796_Pos4_287_RFP': '570',\n",
       " 'GV0796_Pos4_285_RFP': '589',\n",
       " 'GV0796_Pos4_522_RFP': '557',\n",
       " 'GV0796_Pos4_687_RFP': '573',\n",
       " 'GV0796_Pos4_322_RFP': '587',\n",
       " 'GV0796_Pos4_623_RFP': '580',\n",
       " 'GV0796_Pos4_328_RFP': '635',\n",
       " 'GV0796_Pos4_321_RFP': '646',\n",
       " 'GV0796_Pos4_7_RFP': '666',\n",
       " 'GV0796_Pos4_78_RFP': '692',\n",
       " 'GV0796_Pos4_28_RFP': '694',\n",
       " 'GV0796_Pos4_329_RFP': '695',\n",
       " 'GV0796_Pos4_2_RFP': '698',\n",
       " 'GV0796_Pos4_801_RFP': '835',\n",
       " 'GV0796_Pos4_757_RFP': '777',\n",
       " 'GV0796_Pos4_967_RFP': '793',\n",
       " 'GV0796_Pos4_912_RFP': '809',\n",
       " 'GV0796_Pos4_391_RFP': '800',\n",
       " 'GV0796_Pos4_450_RFP': '822',\n",
       " 'GV0796_Pos4_250_RFP': '942',\n",
       " 'GV0796_Pos4_855_RFP': '861',\n",
       " 'GV0796_Pos7_39_RFP': '20',\n",
       " 'GV0796_Pos7_40_RFP': '2',\n",
       " 'GV0796_Pos7_48_RFP': '1',\n",
       " 'GV0796_Pos7_72_RFP': '17',\n",
       " 'GV0796_Pos7_6_RFP': '131',\n",
       " 'GV0796_Pos7_5_RFP': '204',\n",
       " 'GV0796_Pos7_85_RFP': '482',\n",
       " 'GV0796_Pos7_443_RFP': '617',\n",
       " 'GV0796_Pos7_41_RFP': '550',\n",
       " 'GV0796_Pos7_412_RFP': '612',\n",
       " 'GV0796_Pos7_413_RFP': '627',\n",
       " 'GV0796_Pos7_446_RFP': '834',\n",
       " 'GV0796_Pos7_385_RFP': '647',\n",
       " 'GV0796_Pos7_3_RFP': '710',\n",
       " 'GV0796_Pos7_327_RFP': '761',\n",
       " 'GV0796_Pos7_618_RFP': '679',\n",
       " 'GV0796_Pos7_153_RFP': '697',\n",
       " 'GV0796_Pos7_506_RFP': '725',\n",
       " 'GV0796_Pos7_395_RFP': '627',\n",
       " 'GV0796_Pos7_399_RFP': '735',\n",
       " 'GV0796_Pos7_695_RFP': '780',\n",
       " 'GV0796_Pos7_394_RFP': '815',\n",
       " 'GV0796_Pos7_445_RFP': '864',\n",
       " 'GV0796_Pos7_460_RFP': '870',\n",
       " 'GV0796_Pos7_403_RFP': '789',\n",
       " 'GV0796_Pos7_609_RFP': '811',\n",
       " 'GV0797_Pos4_12_RFP': '104',\n",
       " 'GV0797_Pos4_18_RFP': '111',\n",
       " 'GV0797_Pos4_7_RFP': '157',\n",
       " 'GV0797_Pos4_24_RFP': '145',\n",
       " 'GV0797_Pos4_240_RFP': '171',\n",
       " 'GV0797_Pos4_23_RFP': '154',\n",
       " 'GV0797_Pos4_96_RFP': '164',\n",
       " 'GV0797_Pos4_95_RFP': '186',\n",
       " 'GV0797_Pos4_223_RFP': '269',\n",
       " 'GV0797_Pos4_224_RFP': '299',\n",
       " 'GV0797_Pos4_164_RFP': '152',\n",
       " 'GV0797_Pos4_6_RFP': '156',\n",
       " 'GV0797_Pos4_3_RFP': '207',\n",
       " 'GV0797_Pos4_36_RFP': '207',\n",
       " 'GV0797_Pos4_185_RFP': '211',\n",
       " 'GV0797_Pos4_183_RFP': '222',\n",
       " 'GV0797_Pos4_64_RFP': '216',\n",
       " 'GV0797_Pos4_46_RFP': '233',\n",
       " 'GV0797_Pos4_41_RFP': '233',\n",
       " 'GV0797_Pos4_157_RFP': '274',\n",
       " 'GV0797_Pos4_63_RFP': '222',\n",
       " 'GV0797_Pos4_55_RFP': '300',\n",
       " 'GV0797_Pos4_26_RFP': '283',\n",
       " 'GV0797_Pos4_27_RFP': '294',\n",
       " 'GV0797_Pos4_15_RFP': '304',\n",
       " 'GV0797_Pos4_144_RFP': '316',\n",
       " 'GV0797_Pos4_11_RFP': '330',\n",
       " 'GV0797_Pos4_142_RFP': '347',\n",
       " 'GV0797_Pos4_58_RFP': '344',\n",
       " 'GV0797_Pos4_751_RFP': '476',\n",
       " 'GV0797_Pos4_37_RFP': '477',\n",
       " 'GV0797_Pos4_750_RFP': '492',\n",
       " 'GV0797_Pos4_892_RFP': '539',\n",
       " 'GV0797_Pos4_948_RFP': '579',\n",
       " 'GV0797_Pos4_34_RFP': '559',\n",
       " 'GV0797_Pos4_28_RFP': '642',\n",
       " 'GV0797_Pos4_917_RFP': '623',\n",
       " 'GV0797_Pos4_545_RFP': '601',\n",
       " 'GV0797_Pos7_14_RFP': '99',\n",
       " 'GV0797_Pos7_45_RFP': '201',\n",
       " 'GV0797_Pos7_5_RFP': '254',\n",
       " 'GV0797_Pos7_146_RFP': '388',\n",
       " 'GV0797_Pos7_145_RFP': '398',\n",
       " 'GV0797_Pos7_30_RFP': '393',\n",
       " 'GV0797_Pos7_106_RFP': '424',\n",
       " 'GV0797_Pos7_9_RFP': '405',\n",
       " 'GV0797_Pos7_204_RFP': '487',\n",
       " 'GV0797_Pos7_105_RFP': '473',\n",
       " 'GV0797_Pos7_200_RFP': '486',\n",
       " 'GV0797_Pos7_199_RFP': '625',\n",
       " 'GV0797_Pos7_208_RFP': '475',\n",
       " 'GV0797_Pos7_207_RFP': '475',\n",
       " 'GV0797_Pos7_203_RFP': '516',\n",
       " 'GV0798_Pos4_27_RFP': '2',\n",
       " 'GV0798_Pos4_22_RFP': '39',\n",
       " 'GV0798_Pos4_344_RFP': '679',\n",
       " 'GV0798_Pos4_253_RFP': '701',\n",
       " 'GV0798_Pos4_302_RFP': '724',\n",
       " 'GV0798_Pos4_255_RFP': '751',\n",
       " 'GV0798_Pos7_91_RFP': '163',\n",
       " 'GV0798_Pos7_92_RFP': '164',\n",
       " 'GV0798_Pos7_77_RFP': '123',\n",
       " 'GV0798_Pos7_22_RFP': '502',\n",
       " 'GV0798_Pos7_24_RFP': '587',\n",
       " 'GV0798_Pos7_148_RFP': '526',\n",
       " 'GV0798_Pos7_149_RFP': '661',\n",
       " 'GV0798_Pos7_38_RFP': '684',\n",
       " 'GV0798_Pos7_224_RFP': '782',\n",
       " 'GV0798_Pos7_182_RFP': '741',\n",
       " 'GV0798_Pos7_202_RFP': '804',\n",
       " 'GV0798_Pos7_201_RFP': '778',\n",
       " 'GV0798_Pos7_123_RFP': '555',\n",
       " 'GV0798_Pos7_274_RFP': '751',\n",
       " 'GV0800_Pos4_7_RFP': '31',\n",
       " 'GV0800_Pos4_33_RFP': '235',\n",
       " 'GV0800_Pos4_24_RFP': '264',\n",
       " 'GV0800_Pos4_482_RFP': '696',\n",
       " 'GV0800_Pos4_374_RFP': '802',\n",
       " 'GV0800_Pos4_351_RFP': '781',\n",
       " 'GV0800_Pos4_352_RFP': '812',\n",
       " 'GV0800_Pos4_471_RFP': '870',\n",
       " 'GV0800_Pos4_274_RFP': '928',\n",
       " 'GV0800_Pos4_477_RFP': '891',\n",
       " 'GV0800_Pos4_373_RFP': '924',\n",
       " 'GV0800_Pos4_759_RFP': '951',\n",
       " 'GV0800_Pos4_607_RFP': '1017',\n",
       " 'GV0800_Pos4_836_RFP': '1025',\n",
       " 'GV0800_Pos4_925_RFP': '1136',\n",
       " 'GV0800_Pos4_947_RFP': '1136',\n",
       " 'GV0800_Pos4_915_RFP': '1116',\n",
       " 'GV0800_Pos7_7_RFP': '1',\n",
       " 'GV0800_Pos7_27_RFP': '12',\n",
       " 'GV0800_Pos7_52_RFP': '169',\n",
       " 'GV0800_Pos7_165_RFP': '164',\n",
       " 'GV0800_Pos7_29_RFP': '302',\n",
       " 'GV0800_Pos7_368_RFP': '510',\n",
       " 'GV0800_Pos7_393_RFP': '558',\n",
       " 'GV0800_Pos7_392_RFP': '560',\n",
       " 'GV0800_Pos7_456_RFP': '652',\n",
       " 'GV0800_Pos7_440_RFP': '674',\n",
       " 'GV0800_Pos7_14_RFP': '647',\n",
       " 'GV0800_Pos7_299_RFP': '650',\n",
       " 'GV0800_Pos7_297_RFP': '678',\n",
       " 'GV0800_Pos7_279_RFP': '694',\n",
       " 'GV0800_Pos7_16_RFP': '675',\n",
       " 'GV0800_Pos7_361_RFP': '801',\n",
       " 'GV0800_Pos7_373_RFP': '804',\n",
       " 'GV0800_Pos7_190_RFP': '808',\n",
       " 'GV0800_Pos7_598_RFP': '1020',\n",
       " 'GV0800_Pos7_667_RFP': '1005',\n",
       " 'GV0800_Pos7_669_RFP': '1005',\n",
       " 'GV0795_Pos17_13_RFP': '14',\n",
       " 'GV0795_Pos17_16_RFP': '7',\n",
       " 'GV0795_Pos17_26_RFP': '59',\n",
       " 'GV0795_Pos17_6_RFP': '117',\n",
       " 'GV0795_Pos17_4_RFP': '438',\n",
       " 'GV0795_Pos17_115_RFP': '651',\n",
       " 'GV0795_Pos17_152_RFP': '719',\n",
       " 'GV0795_Pos17_151_RFP': '770',\n",
       " 'GV0795_Pos17_129_RFP': '784',\n",
       " 'GV0795_Pos17_121_RFP': '815',\n",
       " 'GV0795_Pos17_11_RFP': '844',\n",
       " 'GV0795_Pos17_128_RFP': '869',\n",
       " 'GV0795_Pos17_258_RFP': '876',\n",
       " 'GV0795_Pos17_209_RFP': '891',\n",
       " 'GV0795_Pos17_267_RFP': '954',\n",
       " 'GV0795_Pos17_471_RFP': '980',\n",
       " 'GV0795_Pos17_98_RFP': '1100',\n",
       " 'GV0795_Pos17_132_RFP': '991',\n",
       " 'GV0796_Pos21_13_RFP': '71',\n",
       " 'GV0796_Pos21_16_RFP': '131',\n",
       " 'GV0796_Pos21_30_RFP': '136',\n",
       " 'GV0796_Pos21_23_RFP': '244',\n",
       " 'GV0796_Pos21_14_RFP': '272',\n",
       " 'GV0796_Pos21_230_RFP': '343',\n",
       " 'GV0796_Pos21_314_RFP': '451',\n",
       " 'GV0796_Pos21_252_RFP': '547',\n",
       " 'GV0796_Pos21_282_RFP': '642',\n",
       " 'GV0796_Pos21_18_RFP': '679',\n",
       " 'GV0796_Pos21_676_RFP': '719',\n",
       " 'GV0796_Pos21_675_RFP': '720',\n",
       " 'GV0796_Pos21_336_RFP': '763',\n",
       " 'GV0796_Pos21_339_RFP': '740',\n",
       " 'GV0796_Pos21_406_RFP': '769',\n",
       " 'GV0796_Pos21_697_RFP': '737',\n",
       " 'GV0796_Pos21_425_RFP': '798',\n",
       " 'GV0796_Pos21_702_RFP': '794',\n",
       " 'GV0796_Pos21_257_RFP': '860',\n",
       " 'GV0796_Pos21_312_RFP': '869',\n",
       " 'GV0796_Pos21_388_RFP': '863',\n",
       " 'GV0796_Pos21_646_RFP': '894',\n",
       " 'GV0796_Pos21_665_RFP': '911',\n",
       " 'GV0796_Pos21_405_RFP': '890',\n",
       " 'GV0796_Pos22_28_RFP': '225',\n",
       " 'GV0796_Pos22_370_RFP': '445',\n",
       " 'GV0796_Pos22_330_RFP': '471',\n",
       " 'GV0796_Pos22_339_RFP': '524',\n",
       " 'GV0796_Pos22_409_RFP': '524',\n",
       " 'GV0796_Pos22_291_RFP': '532',\n",
       " 'GV0796_Pos22_406_RFP': '503',\n",
       " 'GV0796_Pos22_174_RFP': '569',\n",
       " 'GV0796_Pos22_468_RFP': '618',\n",
       " 'GV0796_Pos22_346_RFP': '634',\n",
       " 'GV0796_Pos22_520_RFP': '670',\n",
       " 'GV0796_Pos22_519_RFP': '671',\n",
       " 'GV0796_Pos22_595_RFP': '701',\n",
       " 'GV0796_Pos22_596_RFP': '701',\n",
       " 'GV0796_Pos22_11_RFP': '871',\n",
       " 'GV0796_Pos22_324_RFP': '762',\n",
       " 'GV0796_Pos22_657_RFP': '781',\n",
       " 'GV0796_Pos22_658_RFP': '781',\n",
       " 'GV0796_Pos22_659_RFP': '808',\n",
       " 'GV0796_Pos22_588_RFP': '859',\n",
       " 'GV0797_Pos20_14_RFP': '9',\n",
       " 'GV0797_Pos20_16_RFP': '8',\n",
       " 'GV0797_Pos20_17_RFP': '288',\n",
       " 'GV0797_Pos20_7_RFP': '248',\n",
       " 'GV0797_Pos20_48_RFP': '582',\n",
       " 'GV0797_Pos20_145_RFP': '562',\n",
       " 'GV0797_Pos20_146_RFP': '562',\n",
       " 'GV0797_Pos21_78_RFP': '186',\n",
       " 'GV0797_Pos21_54_RFP': '238',\n",
       " 'GV0797_Pos21_55_RFP': '268',\n",
       " 'GV0797_Pos21_83_RFP': '372',\n",
       " 'GV0797_Pos21_302_RFP': '380',\n",
       " 'GV0797_Pos21_22_RFP': '476',\n",
       " 'GV0797_Pos21_335_RFP': '506',\n",
       " 'GV0797_Pos21_334_RFP': '607',\n",
       " 'GV0797_Pos21_35_RFP': '634',\n",
       " 'GV0798_Pos20_239_RFP': '491',\n",
       " 'GV0798_Pos20_246_RFP': '501',\n",
       " 'GV0798_Pos20_267_RFP': '643',\n",
       " 'GV0798_Pos20_311_RFP': '638',\n",
       " 'GV0798_Pos20_263_RFP': '729',\n",
       " 'GV0798_Pos20_240_RFP': '729',\n",
       " 'GV0798_Pos20_173_RFP': '805',\n",
       " 'GV0798_Pos20_310_RFP': '819',\n",
       " 'GV0798_Pos20_343_RFP': '784',\n",
       " 'GV0798_Pos20_442_RFP': '794',\n",
       " 'GV0798_Pos20_502_RFP': '812',\n",
       " 'GV0798_Pos20_503_RFP': '812',\n",
       " 'GV0798_Pos20_514_RFP': '818',\n",
       " 'GV0798_Pos20_513_RFP': '819',\n",
       " 'GV0798_Pos20_441_RFP': '837',\n",
       " 'GV0798_Pos20_190_RFP': '873',\n",
       " 'GV0798_Pos20_581_RFP': '888',\n",
       " 'GV0798_Pos20_580_RFP': '899',\n",
       " 'GV0798_Pos21_28_RFP': '150',\n",
       " 'GV0798_Pos21_32_RFP': '290',\n",
       " 'GV0798_Pos21_3_RFP': '327',\n",
       " 'GV0798_Pos21_398_RFP': '478',\n",
       " 'GV0798_Pos21_43_RFP': '560',\n",
       " 'GV0798_Pos21_850_RFP': '668',\n",
       " 'GV0798_Pos21_133_RFP': '599',\n",
       " 'GV0798_Pos21_365_RFP': '657',\n",
       " 'GV0798_Pos21_558_RFP': '799',\n",
       " 'GV0798_Pos21_7_RFP': '723',\n",
       " 'GV0798_Pos21_906_RFP': '726',\n",
       " 'GV0798_Pos21_582_RFP': '710',\n",
       " 'GV0798_Pos21_4_RFP': '921',\n",
       " 'GV0798_Pos21_9_RFP': '832',\n",
       " 'GV0798_Pos21_13_RFP': '809',\n",
       " 'GV0801_Pos4_14_RFP': '7',\n",
       " 'GV0801_Pos4_392_RFP': '460',\n",
       " 'GV0801_Pos4_373_RFP': '596',\n",
       " 'GV0801_Pos4_37_RFP': '644',\n",
       " 'GV0801_Pos4_280_RFP': '668',\n",
       " 'GV0801_Pos4_416_RFP': '629',\n",
       " 'GV0801_Pos4_374_RFP': '747',\n",
       " 'GV0801_Pos4_580_RFP': '772',\n",
       " 'GV0801_Pos4_25_RFP': '811',\n",
       " 'GV0801_Pos4_149_RFP': '819',\n",
       " 'GV0801_Pos4_10_RFP': '912',\n",
       " 'GV0801_Pos4_535_RFP': '1004',\n",
       " 'GV0801_Pos4_487_RFP': '1112',\n",
       " 'GV0801_Pos4_503_RFP': '1172',\n",
       " 'GV0802_Pos4_23_RFP': '4',\n",
       " 'GV0802_Pos4_28_RFP': '11',\n",
       " 'GV0802_Pos4_18_RFP': '33',\n",
       " 'GV0802_Pos4_12_RFP': '347',\n",
       " 'GV0802_Pos4_198_RFP': '479',\n",
       " 'GV0802_Pos4_275_RFP': '525',\n",
       " 'GV0802_Pos4_245_RFP': '630',\n",
       " 'GV0802_Pos4_353_RFP': '783',\n",
       " 'GV0802_Pos4_272_RFP': '809',\n",
       " 'GV0802_Pos4_276_RFP': '857',\n",
       " 'GV0802_Pos4_3_RFP': '917',\n",
       " 'GV0802_Pos4_31_RFP': '1011',\n",
       " 'GV0805_Pos4_2_RFP': '558',\n",
       " 'GV0805_Pos4_33_RFP': '674',\n",
       " 'GV0805_Pos4_327_RFP': '690',\n",
       " 'GV0805_Pos4_434_RFP': '844',\n",
       " 'GV0805_Pos4_433_RFP': '844',\n",
       " 'GV0805_Pos4_405_RFP': '900',\n",
       " 'GV0805_Pos4_303_RFP': '872',\n",
       " 'GV0805_Pos4_454_RFP': '875',\n",
       " 'GV0805_Pos4_453_RFP': '875',\n",
       " 'GV0805_Pos4_471_RFP': '904',\n",
       " 'GV0805_Pos4_305_RFP': '973',\n",
       " 'GV0805_Pos4_468_RFP': '885',\n",
       " 'GV0805_Pos4_374_RFP': '903',\n",
       " 'GV0805_Pos4_302_RFP': '1059',\n",
       " 'GV0805_Pos4_701_RFP': '1059',\n",
       " 'GV0805_Pos4_702_RFP': '1064',\n",
       " 'GV0805_Pos4_592_RFP': '992',\n",
       " 'GV0805_Pos4_373_RFP': '1070',\n",
       " 'GV0805_Pos4_745_RFP': '1102',\n",
       " 'GV0805_Pos4_806_RFP': '1130',\n",
       " 'GV0805_Pos4_29_RFP': '1006',\n",
       " 'GV0805_Pos4_30_RFP': '1173',\n",
       " 'GV0805_Pos4_84_RFP': '1104',\n",
       " 'GV0806_Pos4_2_RFP': '142',\n",
       " 'GV0806_Pos4_51_RFP': '218',\n",
       " 'GV0806_Pos4_242_RFP': '380',\n",
       " 'GV0806_Pos4_156_RFP': '120',\n",
       " 'GV0806_Pos4_233_RFP': '400',\n",
       " 'GV0806_Pos4_337_RFP': '516',\n",
       " 'GV0806_Pos4_455_RFP': '543',\n",
       " 'GV0806_Pos4_415_RFP': '550',\n",
       " 'GV0806_Pos4_479_RFP': '580',\n",
       " 'GV0806_Pos4_409_RFP': '678',\n",
       " 'GV0806_Pos4_408_RFP': '681',\n",
       " 'GV0806_Pos4_26_RFP': '810',\n",
       " 'GV0806_Pos4_32_RFP': '851',\n",
       " 'GV0806_Pos4_308_RFP': '879',\n",
       " 'GV0806_Pos4_276_RFP': '792',\n",
       " 'GV0806_Pos4_285_RFP': '947',\n",
       " 'GV0806_Pos4_608_RFP': '927',\n",
       " 'GV0806_Pos4_560_RFP': '700',\n",
       " 'GV0806_Pos4_665_RFP': '791',\n",
       " 'GV0806_Pos4_664_RFP': '790',\n",
       " 'GV0806_Pos4_331_RFP': '863',\n",
       " 'GV0806_Pos4_138_RFP': '1053',\n",
       " 'GV0806_Pos4_284_RFP': '1070',\n",
       " 'GV0806_Pos4_682_RFP': '1125',\n",
       " 'GV0806_Pos4_752_RFP': '1117',\n",
       " 'GV0807_Pos4_12_RFP': '128',\n",
       " 'GV0807_Pos4_16_RFP': '276',\n",
       " 'GV0807_Pos4_23_RFP': '494',\n",
       " 'GV0807_Pos4_276_RFP': '490',\n",
       " 'GV0807_Pos4_345_RFP': '646',\n",
       " 'GV0807_Pos4_330_RFP': '667',\n",
       " 'GV0807_Pos4_191_RFP': '672',\n",
       " 'GV0807_Pos4_429_RFP': '803',\n",
       " 'GV0807_Pos4_50_RFP': '956',\n",
       " 'GV0807_Pos4_382_RFP': '964',\n",
       " 'GV0807_Pos4_381_RFP': '1042',\n",
       " 'GV0807_Pos4_190_RFP': '1103',\n",
       " 'GV0807_Pos4_377_RFP': '1126',\n",
       " 'GV0807_Pos4_169_RFP': '892',\n",
       " 'GV0820_Pos0_268_RFP': '233',\n",
       " 'GV0820_Pos0_267_RFP': '472',\n",
       " 'GV0820_Pos0_7_RFP': '546',\n",
       " 'GV0820_Pos0_580_RFP': '593',\n",
       " 'GV0820_Pos0_668_RFP': '650',\n",
       " 'GV0820_Pos0_667_RFP': '695',\n",
       " 'GV0820_Pos0_793_RFP': '758',\n",
       " 'GV0820_Pos0_500_RFP': '746',\n",
       " 'GV0820_Pos0_703_RFP': '754',\n",
       " 'GV0820_Pos0_11_RFP': '746',\n",
       " 'GV0820_Pos0_794_RFP': '812',\n",
       " 'GV0820_Pos0_579_RFP': '812',\n",
       " 'GV0820_Pos0_837_RFP': '851',\n",
       " 'GV0820_Pos0_93_RFP': '875',\n",
       " 'GV0820_Pos0_509_RFP': '930',\n",
       " 'GV0820_Pos0_750_RFP': '922',\n",
       " 'GV0820_Pos0_995_RFP': '918',\n",
       " 'GV0820_Pos0_994_RFP': '918',\n",
       " 'GV0820_Pos0_484_RFP': '798',\n",
       " 'GV0820_Pos0_845_RFP': '991',\n",
       " 'GV0820_Pos0_485_RFP': '1028',\n",
       " 'GV0820_Pos0_145_RFP': '1044',\n",
       " 'GV0820_Pos0_264_RFP': '1023',\n",
       " 'GV0820_Pos1_553_RFP': '474',\n",
       " 'GV0820_Pos1_16_RFP': '613',\n",
       " 'GV0820_Pos1_427_RFP': '588',\n",
       " 'GV0820_Pos1_489_RFP': '534',\n",
       " 'GV0820_Pos1_671_RFP': '631',\n",
       " 'GV0820_Pos1_990_RFP': '696',\n",
       " 'GV0820_Pos1_970_RFP': '714',\n",
       " 'GV0820_Pos1_902_RFP': '661',\n",
       " 'GV0820_Pos1_817_RFP': '693',\n",
       " 'GV0820_Pos1_895_RFP': '751',\n",
       " 'GV0820_Pos1_785_RFP': '665',\n",
       " 'GV0820_Pos1_499_RFP': '729',\n",
       " 'GV0820_Pos1_704_RFP': '789',\n",
       " 'GV0820_Pos1_672_RFP': '917',\n",
       " 'GV0820_Pos1_1516_RFP': '914',\n",
       " 'GV0820_Pos1_1500_RFP': '981',\n",
       " 'GV0820_Pos1_1570_RFP': '1027',\n",
       " 'GV0820_Pos1_1104_RFP': '1052',\n",
       " 'GV0820_Pos1_813_RFP': '1050',\n",
       " 'GV0820_Pos1_1450_RFP': '1053',\n",
       " 'GV0820_Pos1_1038_RFP': '893',\n",
       " 'GV0820_Pos1_1411_RFP': '893',\n",
       " 'GV0820_Pos2_29_RFP': '12',\n",
       " 'GV0820_Pos2_47_RFP': '33',\n",
       " 'GV0820_Pos2_94_RFP': '50',\n",
       " 'GV0820_Pos2_256_RFP': '295',\n",
       " 'GV0820_Pos2_375_RFP': '563',\n",
       " 'GV0820_Pos2_377_RFP': '563',\n",
       " 'GV0820_Pos2_317_RFP': '504',\n",
       " 'GV0820_Pos2_25_RFP': '647',\n",
       " 'GV0820_Pos2_438_RFP': '610',\n",
       " 'GV0820_Pos2_43_RFP': '611',\n",
       " 'GV0820_Pos2_54_RFP': '741',\n",
       " 'GV0820_Pos2_439_RFP': '659',\n",
       " 'GV0820_Pos2_422_RFP': '792',\n",
       " 'GV0820_Pos2_423_RFP': '793',\n",
       " 'GV0820_Pos2_687_RFP': '786',\n",
       " 'GV0820_Pos2_686_RFP': '786',\n",
       " 'GV0820_Pos2_659_RFP': '831',\n",
       " 'GV0820_Pos2_50_RFP': '951',\n",
       " 'GV0820_Pos2_700_RFP': '996',\n",
       " 'GV0820_Pos2_441_RFP': '785',\n",
       " 'GV0820_Pos2_51_RFP': '832',\n",
       " 'GV0820_Pos2_793_RFP': '861',\n",
       " 'GV0820_Pos2_258_RFP': '1032',\n",
       " 'GV0820_Pos3_40_RFP': '18',\n",
       " 'GV0820_Pos3_11_RFP': '8',\n",
       " 'GV0820_Pos3_8_RFP': '171',\n",
       " 'GV0820_Pos3_21_RFP': '675',\n",
       " 'GV0820_Pos3_376_RFP': '683',\n",
       " 'GV0820_Pos3_377_RFP': '683',\n",
       " 'GV0820_Pos3_10_RFP': '720',\n",
       " 'GV0820_Pos3_509_RFP': '762',\n",
       " 'GV0820_Pos3_545_RFP': '779',\n",
       " 'GV0820_Pos3_508_RFP': '788',\n",
       " 'GV0820_Pos3_400_RFP': '815',\n",
       " 'GV0820_Pos3_536_RFP': '725',\n",
       " 'GV0820_Pos3_535_RFP': '725',\n",
       " 'GV0820_Pos3_441_RFP': '831',\n",
       " 'GV0820_Pos3_544_RFP': '833',\n",
       " 'GV0820_Pos3_442_RFP': '874',\n",
       " 'GV0820_Pos3_747_RFP': '938',\n",
       " 'GV0820_Pos3_746_RFP': '938',\n",
       " 'GV0820_Pos3_38_RFP': '945',\n",
       " 'GV0820_Pos3_6_RFP': '1002',\n",
       " 'GV0820_Pos3_19_RFP': '942',\n",
       " 'GV0820_Pos4_354_RFP': '451',\n",
       " 'GV0820_Pos4_398_RFP': '595',\n",
       " 'GV0820_Pos4_355_RFP': '606',\n",
       " 'GV0820_Pos4_464_RFP': '568',\n",
       " 'GV0820_Pos4_88_RFP': '565',\n",
       " 'GV0820_Pos4_1_RFP': '588',\n",
       " 'GV0820_Pos4_25_RFP': '675',\n",
       " 'GV0820_Pos4_535_RFP': '676',\n",
       " 'GV0820_Pos4_534_RFP': '692',\n",
       " 'GV0820_Pos4_418_RFP': '694',\n",
       " 'GV0820_Pos4_417_RFP': '700',\n",
       " 'GV0820_Pos4_399_RFP': '706',\n",
       " 'GV0820_Pos4_743_RFP': '852',\n",
       " 'GV0820_Pos4_814_RFP': '851',\n",
       " 'GV0820_Pos4_813_RFP': '851',\n",
       " 'GV0820_Pos4_796_RFP': '857',\n",
       " 'GV0820_Pos4_53_RFP': '926',\n",
       " 'GV0820_Pos4_779_RFP': '917',\n",
       " 'GV0820_Pos4_754_RFP': '931',\n",
       " 'GV0820_Pos4_545_RFP': '994',\n",
       " 'GV0820_Pos4_744_RFP': '980',\n",
       " 'GV0820_Pos4_544_RFP': '955',\n",
       " 'GV0820_Pos4_883_RFP': '957',\n",
       " 'GV0820_Pos4_755_RFP': '949',\n",
       " 'GV0820_Pos5_48_RFP': '50',\n",
       " 'GV0820_Pos5_3_RFP': '295',\n",
       " 'GV0820_Pos5_429_RFP': '502',\n",
       " 'GV0820_Pos5_11_RFP': '554',\n",
       " 'GV0820_Pos5_410_RFP': '559',\n",
       " 'GV0820_Pos5_417_RFP': '568',\n",
       " 'GV0820_Pos5_305_RFP': '560',\n",
       " 'GV0820_Pos5_343_RFP': '564',\n",
       " 'GV0820_Pos5_31_RFP': '601',\n",
       " 'GV0820_Pos5_463_RFP': '624',\n",
       " 'GV0820_Pos5_38_RFP': '613',\n",
       " 'GV0820_Pos5_90_RFP': '628',\n",
       " 'GV0820_Pos5_395_RFP': '700',\n",
       " 'GV0820_Pos5_266_RFP': '776',\n",
       " 'GV0820_Pos5_34_RFP': '820',\n",
       " 'GV0820_Pos5_44_RFP': '923',\n",
       " 'GV0820_Pos5_420_RFP': '958',\n",
       " 'GV0820_Pos5_10_RFP': '936',\n",
       " 'GV0820_Pos5_445_RFP': '983',\n",
       " 'GV0820_Pos5_302_RFP': '1030',\n",
       " 'GV0820_Pos5_562_RFP': '997',\n",
       " 'GV0820_Pos5_972_RFP': '1012',\n",
       " 'GV0796_Pos5_504_RFP': '442',\n",
       " 'GV0796_Pos5_72_RFP': '486',\n",
       " 'GV0796_Pos5_943_RFP': '675',\n",
       " 'GV0796_Pos5_358_RFP': '722',\n",
       " 'GV0796_Pos5_651_RFP': '790',\n",
       " 'GV0796_Pos5_1365_RFP': '834',\n",
       " 'GV0796_Pos5_1006_RFP': '582',\n",
       " 'GV0796_Pos5_763_RFP': '787',\n",
       " 'GV0796_Pos5_1243_RFP': '821',\n",
       " 'GV0796_Pos5_1481_RFP': '853',\n",
       " 'GV0796_Pos5_1242_RFP': '892',\n",
       " 'GV0796_Pos5_88_RFP': '336',\n",
       " 'GV0796_Pos5_244_RFP': '340',\n",
       " 'GV0796_Pos5_56_RFP': '880',\n",
       " 'GV0796_Pos5_583_RFP': '909',\n",
       " 'GV0796_Pos5_1522_RFP': '915',\n",
       " 'GV0796_Pos5_1521_RFP': '978',\n",
       " 'GV0796_Pos5_1324_RFP': '926',\n",
       " 'GV0796_Pos5_996_RFP': '858',\n",
       " 'GV0796_Pos5_73_RFP': '9',\n",
       " 'GV0796_Pos5_103_RFP': '79',\n",
       " 'GV0796_Pos5_80_RFP': '349',\n",
       " 'GV0796_Pos5_17_RFP': '427',\n",
       " 'GV0796_Pos5_436_RFP': '585',\n",
       " 'GV0796_Pos5_928_RFP': '608',\n",
       " 'GV0796_Pos5_293_RFP': '651',\n",
       " 'GV0796_Pos5_857_RFP': '654',\n",
       " 'GV0796_Pos5_858_RFP': '657',\n",
       " 'GV0796_Pos5_673_RFP': '773',\n",
       " 'GV0796_Pos5_1188_RFP': '810',\n",
       " 'GV0796_Pos5_11_RFP': '28',\n",
       " 'GV0796_Pos5_12_RFP': '72',\n",
       " 'GV0796_Pos5_175_RFP': '539',\n",
       " 'GV0796_Pos5_470_RFP': '551',\n",
       " 'GV0796_Pos5_527_RFP': '630',\n",
       " 'GV0796_Pos5_459_RFP': '653',\n",
       " 'GV0796_Pos5_687_RFP': '827',\n",
       " 'GV0796_Pos5_718_RFP': '820',\n",
       " 'GV0796_Pos5_30_RFP': '842',\n",
       " 'GV0796_Pos5_613_RFP': '863',\n",
       " 'GV0796_Pos5_717_RFP': '875',\n",
       " 'GV0796_Pos5_404_RFP': '925',\n",
       " 'GV0796_Pos5_37_RFP': '871',\n",
       " 'GV0796_Pos5_281_RFP': '380',\n",
       " 'GV0796_Pos5_235_RFP': '973',\n",
       " 'GV0796_Pos5_828_RFP': '643',\n",
       " 'GV0796_Pos5_1070_RFP': '677',\n",
       " 'GV0796_Pos5_703_RFP': '687',\n",
       " 'GV0796_Pos5_704_RFP': '755',\n",
       " 'GV0796_Pos5_1509_RFP': '826',\n",
       " 'GV0796_Pos5_1510_RFP': '828',\n",
       " 'GV0796_Pos5_979_RFP': '837',\n",
       " 'GV0796_Pos5_930_RFP': '868',\n",
       " 'GV0796_Pos5_1455_RFP': '902',\n",
       " 'GV0796_Pos5_1456_RFP': '902',\n",
       " 'GV0796_Pos5_1458_RFP': '935',\n",
       " 'GV0796_Pos5_1581_RFP': '977',\n",
       " 'GV0796_Pos6_570_RFP': '521',\n",
       " 'GV0796_Pos6_569_RFP': '522',\n",
       " 'GV0796_Pos6_60_RFP': '573',\n",
       " 'GV0796_Pos6_57_RFP': '271',\n",
       " 'GV0796_Pos6_344_RFP': '559',\n",
       " 'GV0796_Pos6_39_RFP': '576',\n",
       " 'GV0796_Pos6_664_RFP': '913',\n",
       " 'GV0796_Pos6_565_RFP': '863',\n",
       " 'GV0796_Pos6_566_RFP': '854',\n",
       " 'GV0796_Pos6_841_RFP': '725',\n",
       " 'GV0796_Pos6_541_RFP': '732',\n",
       " 'GV0796_Pos6_839_RFP': '736',\n",
       " 'GV0796_Pos6_579_RFP': '760',\n",
       " 'GV0796_Pos6_542_RFP': '790',\n",
       " 'GV0796_Pos6_201_RFP': '572',\n",
       " 'GV0796_Pos6_881_RFP': '909',\n",
       " 'GV0796_Pos6_7_RFP': '918',\n",
       " 'GV0796_Pos6_638_RFP': '928',\n",
       " 'GV0796_Pos6_1063_RFP': '929',\n",
       " 'GV0796_Pos6_30_RFP': '92',\n",
       " 'GV0796_Pos6_86_RFP': '272',\n",
       " 'GV0796_Pos6_1022_RFP': '787',\n",
       " 'GV0796_Pos6_1146_RFP': '894',\n",
       " 'GV0796_Pos6_885_RFP': '912',\n",
       " 'GV0796_Pos6_1021_RFP': '975',\n",
       " 'GV0796_Pos6_18_RFP': '292',\n",
       " 'GV0797_Pos5_20_RFP': '238',\n",
       " 'GV0797_Pos5_15_RFP': '417',\n",
       " 'GV0797_Pos5_13_RFP': '264',\n",
       " 'GV0797_Pos5_129_RFP': '277',\n",
       " 'GV0797_Pos5_65_RFP': '308',\n",
       " 'GV0797_Pos5_103_RFP': '383',\n",
       " 'GV0797_Pos5_6_RFP': '443',\n",
       " 'GV0797_Pos6_9_RFP': '6',\n",
       " 'GV0797_Pos6_55_RFP': '97',\n",
       " 'GV0797_Pos6_13_RFP': '193',\n",
       " 'GV0797_Pos6_268_RFP': '227',\n",
       " 'GV0797_Pos6_293_RFP': '312',\n",
       " 'GV0797_Pos6_110_RFP': '399',\n",
       " 'GV0797_Pos6_670_RFP': '364',\n",
       " 'GV0797_Pos6_745_RFP': '456',\n",
       " 'GV0797_Pos6_806_RFP': '487',\n",
       " 'GV0797_Pos6_805_RFP': '493',\n",
       " 'GV0797_Pos6_598_RFP': '418',\n",
       " 'GV0797_Pos6_10_RFP': '552',\n",
       " 'GV0797_Pos6_111_RFP': '540',\n",
       " 'GV0797_Pos6_748_RFP': '633',\n",
       " 'GV0797_Pos6_434_RFP': '240',\n",
       " 'GV0797_Pos6_11_RFP': '263',\n",
       " 'GV0797_Pos6_16_RFP': '325',\n",
       " 'GV0797_Pos6_357_RFP': '519',\n",
       " 'GV0797_Pos6_246_RFP': '618',\n",
       " 'GV0797_Pos6_531_RFP': '511',\n",
       " 'GV0797_Pos6_551_RFP': '528',\n",
       " 'GV0797_Pos6_53_RFP': '364',\n",
       " 'GV0797_Pos6_56_RFP': '397',\n",
       " 'GV0797_Pos6_46_RFP': '536',\n",
       " 'GV0798_Pos5_281_RFP': '744',\n",
       " 'GV0798_Pos5_364_RFP': '703',\n",
       " 'GV0798_Pos5_406_RFP': '694',\n",
       " 'GV0798_Pos5_374_RFP': '736',\n",
       " 'GV0798_Pos5_696_RFP': '852',\n",
       " 'GV0798_Pos5_682_RFP': '801',\n",
       " 'GV0798_Pos5_41_RFP': '0',\n",
       " 'GV0798_Pos5_407_RFP': '850',\n",
       " 'GV0798_Pos5_767_RFP': '848',\n",
       " 'GV0798_Pos5_17_RFP': '27',\n",
       " 'GV0798_Pos5_829_RFP': '844',\n",
       " 'GV0798_Pos5_830_RFP': '844',\n",
       " 'GV0798_Pos5_355_RFP': '585',\n",
       " 'GV0798_Pos5_493_RFP': '729',\n",
       " 'GV0798_Pos5_365_RFP': '638',\n",
       " 'GV0798_Pos5_491_RFP': '615',\n",
       " 'GV0798_Pos5_456_RFP': '743',\n",
       " 'GV0798_Pos5_810_RFP': '825',\n",
       " 'GV0798_Pos5_29_RFP': '84',\n",
       " 'GV0798_Pos5_786_RFP': '802',\n",
       " 'GV0798_Pos6_1222_RFP': '794',\n",
       " 'GV0798_Pos6_1221_RFP': '806',\n",
       " 'GV0798_Pos6_175_RFP': '205',\n",
       " 'GV0798_Pos6_1429_RFP': '877',\n",
       " 'GV0798_Pos6_8_RFP': '891',\n",
       " 'GV0798_Pos6_976_RFP': '843',\n",
       " 'GV0798_Pos6_3_RFP': '175',\n",
       " 'GV0798_Pos6_763_RFP': '759',\n",
       " 'GV0798_Pos6_603_RFP': '813',\n",
       " 'GV0798_Pos6_80_RFP': '747',\n",
       " 'GV0798_Pos6_54_RFP': '796',\n",
       " 'GV0798_Pos6_1_RFP': '19',\n",
       " 'GV0798_Pos6_28_RFP': '170',\n",
       " 'GV0798_Pos6_7_RFP': '193',\n",
       " 'GV0798_Pos6_655_RFP': '608',\n",
       " 'GV0798_Pos6_654_RFP': '630',\n",
       " 'GV0798_Pos6_832_RFP': '652',\n",
       " 'GV0798_Pos6_831_RFP': '652',\n",
       " 'GV0798_Pos6_102_RFP': '145',\n",
       " 'GV0798_Pos6_64_RFP': '210',\n",
       " 'GV0798_Pos6_414_RFP': '304',\n",
       " 'GV0798_Pos6_60_RFP': '0',\n",
       " 'GV0800_Pos5_17_RFP': '86',\n",
       " 'GV0800_Pos5_35_RFP': '17',\n",
       " 'GV0800_Pos5_155_RFP': '295',\n",
       " 'GV0800_Pos5_240_RFP': '805',\n",
       " 'GV0800_Pos5_293_RFP': '831',\n",
       " 'GV0800_Pos5_239_RFP': '911',\n",
       " 'GV0800_Pos5_461_RFP': '915',\n",
       " 'GV0800_Pos5_453_RFP': '915',\n",
       " 'GV0800_Pos5_381_RFP': '989',\n",
       " 'GV0800_Pos5_542_RFP': '983',\n",
       " 'GV0800_Pos5_415_RFP': '1014',\n",
       " 'GV0800_Pos5_16_RFP': '1112',\n",
       " 'GV0800_Pos5_435_RFP': '1132',\n",
       " 'GV0800_Pos5_25_RFP': '1134',\n",
       " 'GV0800_Pos5_246_RFP': '1137',\n",
       " 'GV0800_Pos5_425_RFP': '1077',\n",
       " 'GV0800_Pos5_447_RFP': '1098',\n",
       " 'GV0800_Pos5_496_RFP': '998',\n",
       " 'GV0800_Pos5_723_RFP': '1105',\n",
       " 'GV0800_Pos6_18_RFP': '0',\n",
       " 'GV0800_Pos6_2_RFP': '1',\n",
       " 'GV0800_Pos6_91_RFP': '41',\n",
       " 'GV0800_Pos6_23_RFP': '26',\n",
       " 'GV0800_Pos6_78_RFP': '146',\n",
       " 'GV0800_Pos6_198_RFP': '351',\n",
       " 'GV0800_Pos6_571_RFP': '349',\n",
       " 'GV0800_Pos6_1020_RFP': '636',\n",
       " 'GV0800_Pos6_754_RFP': '633',\n",
       " 'GV0800_Pos6_184_RFP': '630',\n",
       " 'GV0800_Pos6_1275_RFP': '648',\n",
       " 'GV0800_Pos6_329_RFP': '654',\n",
       " 'GV0800_Pos6_1274_RFP': '758',\n",
       " 'GV0800_Pos6_755_RFP': '765',\n",
       " 'GV0800_Pos6_852_RFP': '798',\n",
       " 'GV0800_Pos6_853_RFP': '813',\n",
       " 'GV0800_Pos6_1194_RFP': '847',\n",
       " 'GV0800_Pos6_1205_RFP': '842',\n",
       " 'GV0800_Pos6_1236_RFP': '786',\n",
       " 'GV0800_Pos6_1254_RFP': '962',\n",
       " 'GV0800_Pos6_895_RFP': '911',\n",
       " 'GV0800_Pos6_1794_RFP': '928',\n",
       " 'GV0800_Pos6_1556_RFP': '977',\n",
       " 'GV0800_Pos6_1963_RFP': '1014',\n",
       " 'GV0800_Pos6_1509_RFP': '1041',\n",
       " 'GV0800_Pos6_2041_RFP': '1042',\n",
       " 'GV0800_Pos6_1878_RFP': '984',\n",
       " 'GV0800_Pos6_1879_RFP': '992',\n",
       " 'GV0801_Pos5_45_RFP': '22',\n",
       " 'GV0801_Pos5_18_RFP': '53',\n",
       " 'GV0801_Pos5_36_RFP': '186',\n",
       " 'GV0801_Pos5_56_RFP': '217',\n",
       " 'GV0801_Pos5_105_RFP': '439',\n",
       " 'GV0801_Pos5_841_RFP': '509',\n",
       " 'GV0801_Pos5_894_RFP': '679',\n",
       " 'GV0801_Pos5_890_RFP': '687',\n",
       " 'GV0801_Pos5_773_RFP': '700',\n",
       " 'GV0801_Pos5_807_RFP': '778',\n",
       " 'GV0801_Pos5_782_RFP': '794',\n",
       " 'GV0801_Pos5_64_RFP': '815',\n",
       " 'GV0801_Pos5_1345_RFP': '830',\n",
       " 'GV0801_Pos5_1093_RFP': '851',\n",
       " 'GV0801_Pos5_1092_RFP': '851',\n",
       " 'GV0801_Pos5_793_RFP': '893',\n",
       " 'GV0801_Pos5_781_RFP': '877',\n",
       " 'GV0801_Pos5_780_RFP': '939',\n",
       " 'GV0801_Pos5_1031_RFP': '891',\n",
       " 'GV0801_Pos5_38_RFP': '914',\n",
       " 'GV0801_Pos5_1710_RFP': '952',\n",
       " 'GV0801_Pos5_1709_RFP': '952',\n",
       " 'GV0801_Pos5_847_RFP': '972',\n",
       " 'GV0801_Pos5_792_RFP': '980',\n",
       " 'GV0801_Pos5_1235_RFP': '959',\n",
       " 'GV0801_Pos5_1677_RFP': '987',\n",
       " 'GV0801_Pos5_74_RFP': '1029',\n",
       " 'GV0801_Pos5_1372_RFP': '1053',\n",
       " 'GV0801_Pos5_1654_RFP': '1050',\n",
       " 'GV0801_Pos5_860_RFP': '1062',\n",
       " 'GV0801_Pos5_1030_RFP': '1046',\n",
       " 'GV0801_Pos5_15_RFP': '1077',\n",
       " 'GV0801_Pos5_2031_RFP': '1109',\n",
       " 'GV0801_Pos5_2306_RFP': '1158',\n",
       " 'GV0801_Pos5_115_RFP': '1127',\n",
       " 'GV0802_Pos5_12_RFP': '12',\n",
       " 'GV0802_Pos5_40_RFP': '123',\n",
       " 'GV0802_Pos5_53_RFP': '215',\n",
       " 'GV0802_Pos5_34_RFP': '352',\n",
       " 'GV0802_Pos5_598_RFP': '668',\n",
       " 'GV0802_Pos5_655_RFP': '667',\n",
       " 'GV0802_Pos5_380_RFP': '693',\n",
       " 'GV0802_Pos5_269_RFP': '701',\n",
       " 'GV0802_Pos5_530_RFP': '706',\n",
       " 'GV0802_Pos5_425_RFP': '643',\n",
       " 'GV0802_Pos5_36_RFP': '757',\n",
       " 'GV0802_Pos5_531_RFP': '794',\n",
       " 'GV0802_Pos5_382_RFP': '778',\n",
       " 'GV0802_Pos5_751_RFP': '877',\n",
       " 'GV0802_Pos5_270_RFP': '896',\n",
       " 'GV0802_Pos5_706_RFP': '925',\n",
       " 'GV0802_Pos5_470_RFP': '918',\n",
       " 'GV0802_Pos5_356_RFP': '1079',\n",
       " 'GV0802_Pos5_1023_RFP': '1091',\n",
       " 'GV0802_Pos5_1090_RFP': '1031',\n",
       " 'GV0802_Pos5_705_RFP': '1098',\n",
       " 'GV0802_Pos5_707_RFP': '1109',\n",
       " 'GV0802_Pos5_736_RFP': '1122',\n",
       " 'GV0802_Pos5_990_RFP': '1093',\n",
       " 'GV0804_Pos5_28_RFP': '208',\n",
       " 'GV0804_Pos5_797_RFP': '485',\n",
       " 'GV0804_Pos5_661_RFP': '512',\n",
       " 'GV0804_Pos5_686_RFP': '565',\n",
       " 'GV0804_Pos5_883_RFP': '607',\n",
       " 'GV0804_Pos5_621_RFP': '663',\n",
       " 'GV0804_Pos5_828_RFP': '714',\n",
       " 'GV0804_Pos5_826_RFP': '707',\n",
       " 'GV0804_Pos5_771_RFP': '707',\n",
       " 'GV0804_Pos5_688_RFP': '689',\n",
       " 'GV0804_Pos5_865_RFP': '663',\n",
       " 'GV0804_Pos5_838_RFP': '798',\n",
       " 'GV0804_Pos5_1094_RFP': '822',\n",
       " 'GV0804_Pos5_1058_RFP': '857',\n",
       " 'GV0804_Pos5_1154_RFP': '866',\n",
       " 'GV0804_Pos5_689_RFP': '881',\n",
       " 'GV0804_Pos5_933_RFP': '871',\n",
       " 'GV0804_Pos5_1274_RFP': '936',\n",
       " 'GV0804_Pos5_1275_RFP': '936',\n",
       " 'GV0804_Pos5_1059_RFP': '938',\n",
       " 'GV0804_Pos5_761_RFP': '928',\n",
       " 'GV0804_Pos5_1155_RFP': '909',\n",
       " 'GV0804_Pos5_778_RFP': '978',\n",
       " 'GV0804_Pos5_709_RFP': '1021',\n",
       " 'GV0804_Pos5_662_RFP': '1044',\n",
       " 'GV0804_Pos5_701_RFP': '878',\n",
       " 'GV0804_Pos5_943_RFP': '1032',\n",
       " 'GV0804_Pos5_918_RFP': '729',\n",
       " 'GV0804_Pos5_934_RFP': '675',\n",
       " 'GV0805_Pos5_890_RFP': '688',\n",
       " 'GV0805_Pos5_599_RFP': '468',\n",
       " 'GV0805_Pos5_24_RFP': '263',\n",
       " 'GV0805_Pos5_13_RFP': '151',\n",
       " 'GV0805_Pos5_772_RFP': '582',\n",
       " 'GV0805_Pos5_809_RFP': '612',\n",
       " 'GV0805_Pos5_1064_RFP': '654',\n",
       " 'GV0805_Pos5_483_RFP': '673',\n",
       " 'GV0805_Pos5_484_RFP': '703',\n",
       " 'GV0805_Pos5_640_RFP': '771',\n",
       " 'GV0805_Pos5_1274_RFP': '796',\n",
       " 'GV0805_Pos5_1273_RFP': '809',\n",
       " 'GV0805_Pos5_1300_RFP': '790',\n",
       " 'GV0805_Pos5_1050_RFP': '648',\n",
       " 'GV0805_Pos5_580_RFP': '656',\n",
       " 'GV0805_Pos5_843_RFP': '661',\n",
       " 'GV0805_Pos5_1398_RFP': '842',\n",
       " 'GV0805_Pos5_1397_RFP': '859',\n",
       " 'GV0805_Pos5_1469_RFP': '935',\n",
       " 'GV0805_Pos5_891_RFP': '933',\n",
       " 'GV0805_Pos5_1049_RFP': '865',\n",
       " 'GV0805_Pos5_1468_RFP': '1064',\n",
       " 'GV0805_Pos5_352_RFP': '1103',\n",
       " 'GV0805_Pos5_1333_RFP': '1141',\n",
       " 'GV0805_Pos5_1987_RFP': '1153',\n",
       " 'GV0805_Pos5_247_RFP': '1143',\n",
       " 'GV0805_Pos5_1794_RFP': '1143',\n",
       " 'GV0805_Pos5_832_RFP': '927',\n",
       " 'GV0805_Pos5_1804_RFP': '1138',\n",
       " 'GV0805_Pos5_769_RFP': '1162',\n",
       " 'GV0805_Pos5_639_RFP': '841',\n",
       " 'GV0805_Pos5_1675_RFP': '1009',\n",
       " 'GV0806_Pos5_4_RFP': '48',\n",
       " 'GV0806_Pos5_44_RFP': '50',\n",
       " 'GV0806_Pos5_353_RFP': '588',\n",
       " 'GV0806_Pos5_393_RFP': '689',\n",
       " 'GV0806_Pos5_431_RFP': '710',\n",
       " 'GV0806_Pos5_567_RFP': '723',\n",
       " 'GV0806_Pos5_352_RFP': '771',\n",
       " 'GV0806_Pos5_783_RFP': '873',\n",
       " 'GV0806_Pos5_380_RFP': '889',\n",
       " 'GV0806_Pos5_973_RFP': '911',\n",
       " 'GV0806_Pos5_1044_RFP': '1004',\n",
       " 'GV0807_Pos5_4_RFP': '14',\n",
       " 'GV0807_Pos5_52_RFP': '31',\n",
       " 'GV0807_Pos5_301_RFP': '224',\n",
       " 'GV0807_Pos5_459_RFP': '503',\n",
       " 'GV0807_Pos5_402_RFP': '618',\n",
       " 'GV0807_Pos5_354_RFP': '625',\n",
       " 'GV0807_Pos5_679_RFP': '650',\n",
       " 'GV0807_Pos5_950_RFP': '829',\n",
       " 'GV0807_Pos5_952_RFP': '837',\n",
       " 'GV0807_Pos5_334_RFP': '847',\n",
       " 'GV0807_Pos5_733_RFP': '833',\n",
       " 'GV0807_Pos5_916_RFP': '839',\n",
       " 'GV0807_Pos5_677_RFP': '899',\n",
       " 'GV0807_Pos5_1128_RFP': '931',\n",
       " 'GV0807_Pos5_460_RFP': '674',\n",
       " 'GV0807_Pos5_51_RFP': '898',\n",
       " 'GV0807_Pos5_977_RFP': '916',\n",
       " 'GV0807_Pos5_1149_RFP': '956',\n",
       " 'GV0807_Pos5_815_RFP': '1044',\n",
       " 'GV0807_Pos5_2_RFP': '1062',\n",
       " 'GV0807_Pos5_1281_RFP': '1126',\n",
       " 'GV0807_Pos5_1448_RFP': '1127',\n",
       " 'GV0807_Pos5_1427_RFP': '1133',\n",
       " 'GV0807_Pos5_1489_RFP': '1158',\n",
       " 'GV0807_Pos5_944_RFP': '1160',\n",
       " 'GV0807_Pos5_819_RFP': '956',\n",
       " 'GV0807_Pos5_793_RFP': '1093',\n",
       " 'GV0800_Pos16_15_RFP': '27',\n",
       " 'GV0800_Pos16_29_RFP': '4',\n",
       " 'GV0800_Pos16_8_RFP': '66',\n",
       " 'GV0800_Pos16_24_RFP': '37',\n",
       " 'GV0800_Pos16_31_RFP': '192',\n",
       " 'GV0800_Pos16_505_RFP': '536',\n",
       " 'GV0800_Pos16_63_RFP': '543',\n",
       " 'GV0800_Pos16_496_RFP': '659',\n",
       " 'GV0800_Pos16_23_RFP': '688',\n",
       " 'GV0800_Pos16_572_RFP': '746',\n",
       " 'GV0800_Pos16_542_RFP': '839',\n",
       " 'GV0800_Pos16_583_RFP': '840',\n",
       " 'GV0800_Pos16_580_RFP': '795',\n",
       " 'GV0800_Pos16_10_RFP': '813',\n",
       " 'GV0800_Pos16_584_RFP': '802',\n",
       " 'GV0800_Pos16_478_RFP': '738',\n",
       " 'GV0800_Pos16_849_RFP': '997',\n",
       " 'GV0800_Pos16_803_RFP': '957',\n",
       " 'GV0800_Pos16_522_RFP': '956',\n",
       " 'GV0800_Pos16_451_RFP': '1019',\n",
       " 'GV0800_Pos16_489_RFP': '983',\n",
       " 'GV0800_Pos16_504_RFP': '1063',\n",
       " 'GV0800_Pos16_13_RFP': '1110',\n",
       " 'GV0800_Pos16_528_RFP': '1016',\n",
       " 'GV0800_Pos16_1155_RFP': '1121',\n",
       " 'GV0800_Pos16_632_RFP': '1027',\n",
       " 'GV0800_Pos16_1044_RFP': '1117',\n",
       " 'GV0795_Pos18_379_RFP': '518',\n",
       " 'GV0795_Pos18_413_RFP': '665',\n",
       " 'GV0795_Pos18_854_RFP': '1013',\n",
       " 'GV0795_Pos18_855_RFP': '1051',\n",
       " 'GV0795_Pos18_1179_RFP': '1063',\n",
       " 'GV0795_Pos18_409_RFP': '719',\n",
       " 'GV0795_Pos18_684_RFP': '765',\n",
       " 'GV0795_Pos18_802_RFP': '765',\n",
       " 'GV0795_Pos18_46_RFP': '31',\n",
       " 'GV0795_Pos18_521_RFP': '707',\n",
       " 'GV0795_Pos18_3_RFP': '827',\n",
       " 'GV0795_Pos18_715_RFP': '892',\n",
       " 'GV0795_Pos18_28_RFP': '911',\n",
       " 'GV0795_Pos18_12_RFP': '876',\n",
       " 'GV0795_Pos18_19_RFP': '10',\n",
       " 'GV0795_Pos18_728_RFP': '820',\n",
       " 'GV0796_Pos23_66_RFP': '22',\n",
       " 'GV0796_Pos23_87_RFP': '26',\n",
       " 'GV0796_Pos23_62_RFP': '15',\n",
       " 'GV0796_Pos23_74_RFP': '293',\n",
       " 'GV0796_Pos23_18_RFP': '239',\n",
       " 'GV0796_Pos23_202_RFP': '588',\n",
       " 'GV0796_Pos23_786_RFP': '573',\n",
       " 'GV0796_Pos23_15_RFP': '824',\n",
       " 'GV0796_Pos23_1896_RFP': '946',\n",
       " 'GV0796_Pos23_2215_RFP': '946',\n",
       " 'GV0796_Pos23_890_RFP': '743',\n",
       " 'GV0796_Pos23_771_RFP': '832',\n",
       " 'GV0796_Pos23_968_RFP': '700',\n",
       " 'GV0796_Pos23_969_RFP': '793',\n",
       " 'GV0796_Pos23_1773_RFP': '869',\n",
       " 'GV0796_Pos23_1253_RFP': '634',\n",
       " 'GV0796_Pos23_16_RFP': '4',\n",
       " 'GV0796_Pos23_80_RFP': '354',\n",
       " 'GV0796_Pos23_525_RFP': '989',\n",
       " 'GV0796_Pos23_1767_RFP': '923',\n",
       " 'GV0796_Pos23_203_RFP': '210',\n",
       " 'GV0796_Pos23_36_RFP': '212',\n",
       " 'GV0796_Pos23_174_RFP': '359',\n",
       " 'GV0796_Pos23_655_RFP': '612',\n",
       " 'GV0796_Pos23_717_RFP': '670',\n",
       " ...}"
      ]
     },
     "execution_count": 2,
     "metadata": {},
     "output_type": "execute_result"
    }
   ],
   "source": [
    "path_to_apop_lists = '/media/nathan/Transcend/Nathan/data/kraken/h2b/apoptosis_information/final/all'\n",
    "event_dict = dataio.apoptosis_list_loader(path_to_apop_lists, 'Scr')\n",
    "event_dict"
   ]
  },
  {
   "cell_type": "markdown",
   "metadata": {},
   "source": [
    "### Update: \n",
    "\n",
    "Currently implementing focal scan around divisions (originally was just apoptoses)"
   ]
  },
  {
   "cell_type": "code",
   "execution_count": 3,
   "metadata": {},
   "outputs": [
    {
     "ename": "FileNotFoundError",
     "evalue": "[Errno 2] No such file or directory: '/home/nathan/data/kraken/h2b/giulia/experiment_information/divisions/scr_div_dict_confident.json'",
     "output_type": "error",
     "traceback": [
      "\u001b[0;31m---------------------------------------------------------------------------\u001b[0m",
      "\u001b[0;31mFileNotFoundError\u001b[0m                         Traceback (most recent call last)",
      "\u001b[0;32m/tmp/ipykernel_293432/3062930172.py\u001b[0m in \u001b[0;36m<module>\u001b[0;34m\u001b[0m\n\u001b[0;32m----> 1\u001b[0;31m \u001b[0;32mwith\u001b[0m \u001b[0mopen\u001b[0m\u001b[0;34m(\u001b[0m\u001b[0;34m'/home/nathan/data/kraken/h2b/giulia/experiment_information/divisions/scr_div_dict_confident.json'\u001b[0m\u001b[0;34m,\u001b[0m \u001b[0;34m'r'\u001b[0m\u001b[0;34m)\u001b[0m \u001b[0;32mas\u001b[0m \u001b[0mfile\u001b[0m\u001b[0;34m:\u001b[0m\u001b[0;34m\u001b[0m\u001b[0;34m\u001b[0m\u001b[0m\n\u001b[0m\u001b[1;32m      2\u001b[0m     \u001b[0mevent_dict\u001b[0m \u001b[0;34m=\u001b[0m \u001b[0mjson\u001b[0m\u001b[0;34m.\u001b[0m\u001b[0mload\u001b[0m\u001b[0;34m(\u001b[0m\u001b[0mfile\u001b[0m\u001b[0;34m)\u001b[0m\u001b[0;34m\u001b[0m\u001b[0;34m\u001b[0m\u001b[0m\n\u001b[1;32m      3\u001b[0m \u001b[0mevent_dict\u001b[0m\u001b[0;34m\u001b[0m\u001b[0;34m\u001b[0m\u001b[0m\n",
      "\u001b[0;31mFileNotFoundError\u001b[0m: [Errno 2] No such file or directory: '/home/nathan/data/kraken/h2b/giulia/experiment_information/divisions/scr_div_dict_confident.json'"
     ]
    }
   ],
   "source": [
    "with open('/home/nathan/data/kraken/h2b/giulia/experiment_information/divisions/scr_div_dict_confident.json', 'r') as file:\n",
    "    event_dict = json.load(file)\n",
    "event_dict"
   ]
  },
  {
   "cell_type": "code",
   "execution_count": null,
   "metadata": {},
   "outputs": [],
   "source": [
    "### optional parallelisation step\n",
    "N_focal = len(event_dict)\n",
    "para_frac_min, para_frac_max = int(0*N_focal), int(1*N_focal)  ## ie only do first 1/4 of all apops\n",
    "delete_list =[]\n",
    "for i, j in enumerate(event_dict):\n",
    "    if not para_frac_min <= i< para_frac_max: \n",
    "        delete_list.append(j)\n",
    "for i in delete_list:\n",
    "    del event_dict[i]\n",
    "print(\"Length of modified dict vs original:\", len(event_dict), \"/\", N_focal)"
   ]
  },
  {
   "cell_type": "markdown",
   "metadata": {},
   "source": [
    "## 2) Load corresponding cell tracking data and specifiy other parameters\n",
    "\n",
    "`dataio.hdf5_file_finder(parent_folder_hdf5)` loads a list of all hdf5 files when supplied with the parent directory of all the experiments. This relies on a typical sub-parent directory structure of `'GV****/Pos*/*aligned/HDF/segmented.hdf5'` (aligned folder optional)"
   ]
  },
  {
   "cell_type": "code",
   "execution_count": 3,
   "metadata": {},
   "outputs": [],
   "source": [
    "### load tracking data\n",
    "parent_folder_hdf5 = '/media/nathan/Transcend/Nathan/data/kraken/h2b'\n",
    "hdf5_file_list = dataio.hdf5_file_finder(parent_folder_hdf5)\n",
    "\n",
    "### specify output path and neighbourhood scan parameters\n",
    "radius, t_range, num_bins = 50, 50, 10#800, 800, 20#400, 400, 10\n",
    "output_path = '/media/nathan/Transcend/Nathan/data/analysis_results/radial_analysis_output/follow/feb_2022/{}.{}.{}/scr_apop_wt_div'.format(radius, t_range, num_bins)\n",
    "Path(output_path).mkdir(parents=True, exist_ok=True)"
   ]
  },
  {
   "cell_type": "markdown",
   "metadata": {},
   "source": [
    "## 3) Iteratively calculate and save out individual heatmaps\n",
    "\n",
    "This step can be time consuming (sequential scans around 385 apoptoses took 7 hours on i7)\n",
    "\n",
    "Function to calculate:\n",
    "\n",
    "`calculate.iterative_heatmap_generator(subject_cells = 'WT', subject_event = 'DIVIDE', apop_dict, hdf5_file_list, radius, t_range, num_bins, output_path)`\n",
    "\n",
    "Where the necessary input variables are as follows:\n",
    "- `subject_cells` = The population of cells to scan over looking for events, 'WT'/'Scr'/'All'\n",
    "- `subject_event` = The event type to look for, 'DIVIDE' or 'APOPTOSIS'\n",
    "- `apop_dict` = Previously defined python dictionary of {apoptosis ID: apoptosis time}\n",
    "- `hdf5_file_list` = List of locations of tracking files\n",
    "- `radius` = Distance to scan over around apoptosis\n",
    "- `t_range` = Time range to scan over around apoptosis (will scan t_range/2 before and after apoptosis)\n",
    "- `num_bins` = Number of bins the histogram is sorted into\n",
    "- `output_path` = Empty directory to save out individual apoptosis heatmap .npy arrays into\n"
   ]
  },
  {
   "cell_type": "code",
   "execution_count": 4,
   "metadata": {
    "scrolled": true
   },
   "outputs": [
    {
     "name": "stdout",
     "output_type": "stream",
     "text": [
      "If you want to save out raw list of cell IDs, distance and frames, enter 'y', else just press entery\n"
     ]
    },
    {
     "data": {
      "application/vnd.jupyter.widget-view+json": {
       "model_id": "50760e04dd2f4a94a070222d15dec5b5",
       "version_major": 2,
       "version_minor": 0
      },
      "text/plain": [
       "  0%|          | 0/1839 [00:00<?, ?it/s]"
      ]
     },
     "metadata": {},
     "output_type": "display_data"
    },
    {
     "name": "stderr",
     "output_type": "stream",
     "text": [
      "[INFO][2022/02/21 05:46:33 PM] Opening HDF file: /media/nathan/Transcend/Nathan/data/kraken/h2b/GV0804/Pos4/Pos4_aligned/HDF/segmented.hdf5...\n",
      "[INFO][2022/02/21 05:46:33 PM] Loading tracks/obj_type_1\n"
     ]
    },
    {
     "name": "stdout",
     "output_type": "stream",
     "text": [
      "ID GV0804_Pos4_179_RFP\n",
      "Loading GV0804/Pos4/\n",
      "Btrack version no.: 0.4.2\n"
     ]
    },
    {
     "name": "stderr",
     "output_type": "stream",
     "text": [
      "[INFO][2022/02/21 05:46:34 PM] Loading objects/obj_type_1 (271439, 5) (257929 filtered: area>=100)\n",
      "[INFO][2022/02/21 05:46:38 PM] Closing HDF file: /media/nathan/Transcend/Nathan/data/kraken/h2b/GV0804/Pos4/Pos4_aligned/HDF/segmented.hdf5\n",
      "[INFO][2022/02/21 05:46:38 PM] Opening HDF file: /media/nathan/Transcend/Nathan/data/kraken/h2b/GV0804/Pos4/Pos4_aligned/HDF/segmented.hdf5...\n",
      "[INFO][2022/02/21 05:46:38 PM] Loading tracks/obj_type_2\n",
      "[INFO][2022/02/21 05:46:38 PM] Loading objects/obj_type_2 (42112, 5) (36481 filtered: area>=100)\n",
      "[INFO][2022/02/21 05:46:38 PM] Closing HDF file: /media/nathan/Transcend/Nathan/data/kraken/h2b/GV0804/Pos4/Pos4_aligned/HDF/segmented.hdf5\n"
     ]
    },
    {
     "name": "stdout",
     "output_type": "stream",
     "text": [
      "Track information loaded and ordered according to cell type (WT IDs >0> Scr IDs)\n",
      "Loaded GV0804/Pos4/\n",
      "ID GV0804_Pos4_249_RFP\n",
      "ID GV0804_Pos4_110_RFP\n",
      "ID GV0804_Pos4_292_RFP\n",
      "ID GV0804_Pos4_342_RFP\n",
      "ID GV0804_Pos4_343_RFP\n",
      "ID GV0804_Pos4_231_RFP\n",
      "ID GV0804_Pos4_339_RFP\n",
      "ID GV0804_Pos4_333_RFP\n",
      "ID GV0804_Pos4_353_RFP\n",
      "ID GV0804_Pos4_351_RFP\n",
      "ID GV0804_Pos4_163_RFP\n",
      "ID GV0804_Pos4_217_RFP\n"
     ]
    },
    {
     "name": "stderr",
     "output_type": "stream",
     "text": [
      "[INFO][2022/02/21 05:47:55 PM] Opening HDF file: /media/nathan/Transcend/Nathan/data/kraken/h2b/GV0794/Pos4/Pos4_aligned/HDF/segmented.hdf5...\n",
      "[INFO][2022/02/21 05:47:55 PM] Loading tracks/obj_type_1\n"
     ]
    },
    {
     "name": "stdout",
     "output_type": "stream",
     "text": [
      "ID GV0794_Pos4_6_RFP\n",
      "Loading GV0794/Pos4/\n",
      "Btrack version no.: 0.4.2\n"
     ]
    },
    {
     "name": "stderr",
     "output_type": "stream",
     "text": [
      "[INFO][2022/02/21 05:47:55 PM] Loading objects/obj_type_1 (69360, 5) (64986 filtered: area>=100)\n",
      "[INFO][2022/02/21 05:47:56 PM] Closing HDF file: /media/nathan/Transcend/Nathan/data/kraken/h2b/GV0794/Pos4/Pos4_aligned/HDF/segmented.hdf5\n",
      "[INFO][2022/02/21 05:47:56 PM] Opening HDF file: /media/nathan/Transcend/Nathan/data/kraken/h2b/GV0794/Pos4/Pos4_aligned/HDF/segmented.hdf5...\n",
      "[INFO][2022/02/21 05:47:56 PM] Loading tracks/obj_type_2\n",
      "[INFO][2022/02/21 05:47:56 PM] Loading objects/obj_type_2 (13865, 5) (10538 filtered: area>=100)\n",
      "[INFO][2022/02/21 05:47:56 PM] Closing HDF file: /media/nathan/Transcend/Nathan/data/kraken/h2b/GV0794/Pos4/Pos4_aligned/HDF/segmented.hdf5\n"
     ]
    },
    {
     "name": "stdout",
     "output_type": "stream",
     "text": [
      "Track information loaded and ordered according to cell type (WT IDs >0> Scr IDs)\n",
      "Loaded GV0794/Pos4/\n",
      "ID GV0794_Pos4_73_RFP\n",
      "ID GV0794_Pos4_70_RFP\n"
     ]
    },
    {
     "name": "stderr",
     "output_type": "stream",
     "text": [
      "[INFO][2022/02/21 05:48:01 PM] Opening HDF file: /media/nathan/Transcend/Nathan/data/kraken/h2b/GV0794/Pos7/Pos7_aligned/HDF/segmented.hdf5...\n",
      "[INFO][2022/02/21 05:48:01 PM] Loading tracks/obj_type_1\n"
     ]
    },
    {
     "name": "stdout",
     "output_type": "stream",
     "text": [
      "ID GV0794_Pos7_52_RFP\n",
      "Loading GV0794/Pos7/\n",
      "Btrack version no.: 0.4.2\n"
     ]
    },
    {
     "name": "stderr",
     "output_type": "stream",
     "text": [
      "[INFO][2022/02/21 05:48:02 PM] Loading objects/obj_type_1 (110774, 5) (102450 filtered: area>=100)\n",
      "[INFO][2022/02/21 05:48:03 PM] Closing HDF file: /media/nathan/Transcend/Nathan/data/kraken/h2b/GV0794/Pos7/Pos7_aligned/HDF/segmented.hdf5\n",
      "[INFO][2022/02/21 05:48:03 PM] Opening HDF file: /media/nathan/Transcend/Nathan/data/kraken/h2b/GV0794/Pos7/Pos7_aligned/HDF/segmented.hdf5...\n",
      "[INFO][2022/02/21 05:48:03 PM] Loading tracks/obj_type_2\n",
      "[INFO][2022/02/21 05:48:03 PM] Loading objects/obj_type_2 (20793, 5) (17016 filtered: area>=100)\n",
      "[INFO][2022/02/21 05:48:04 PM] Closing HDF file: /media/nathan/Transcend/Nathan/data/kraken/h2b/GV0794/Pos7/Pos7_aligned/HDF/segmented.hdf5\n"
     ]
    },
    {
     "name": "stdout",
     "output_type": "stream",
     "text": [
      "Track information loaded and ordered according to cell type (WT IDs >0> Scr IDs)\n",
      "Loaded GV0794/Pos7/\n",
      "ID GV0794_Pos7_192_RFP\n",
      "ID GV0794_Pos7_352_RFP\n",
      "ID GV0794_Pos7_328_RFP\n",
      "ID GV0794_Pos7_329_RFP\n",
      "ID GV0794_Pos7_360_RFP\n",
      "ID GV0794_Pos7_429_RFP\n"
     ]
    },
    {
     "name": "stderr",
     "output_type": "stream",
     "text": [
      "[INFO][2022/02/21 05:48:21 PM] Opening HDF file: /media/nathan/Transcend/Nathan/data/kraken/h2b/GV0795/Pos4/Pos4_aligned/HDF/segmented.hdf5...\n",
      "[INFO][2022/02/21 05:48:21 PM] Loading tracks/obj_type_1\n"
     ]
    },
    {
     "name": "stdout",
     "output_type": "stream",
     "text": [
      "ID GV0795_Pos4_1_RFP\n",
      "Loading GV0795/Pos4/\n",
      "Btrack version no.: 0.4.2\n"
     ]
    },
    {
     "name": "stderr",
     "output_type": "stream",
     "text": [
      "[INFO][2022/02/21 05:48:23 PM] Loading objects/obj_type_1 (211479, 5) (197642 filtered: area>=100)\n",
      "[INFO][2022/02/21 05:48:25 PM] Closing HDF file: /media/nathan/Transcend/Nathan/data/kraken/h2b/GV0795/Pos4/Pos4_aligned/HDF/segmented.hdf5\n",
      "[INFO][2022/02/21 05:48:25 PM] Opening HDF file: /media/nathan/Transcend/Nathan/data/kraken/h2b/GV0795/Pos4/Pos4_aligned/HDF/segmented.hdf5...\n",
      "[INFO][2022/02/21 05:48:25 PM] Loading tracks/obj_type_2\n",
      "[INFO][2022/02/21 05:48:26 PM] Loading objects/obj_type_2 (49070, 5) (38203 filtered: area>=100)\n",
      "[INFO][2022/02/21 05:48:26 PM] Closing HDF file: /media/nathan/Transcend/Nathan/data/kraken/h2b/GV0795/Pos4/Pos4_aligned/HDF/segmented.hdf5\n"
     ]
    },
    {
     "name": "stdout",
     "output_type": "stream",
     "text": [
      "Track information loaded and ordered according to cell type (WT IDs >0> Scr IDs)\n",
      "Loaded GV0795/Pos4/\n",
      "ID GV0795_Pos4_7_RFP\n",
      "ID GV0795_Pos4_103_RFP\n",
      "ID GV0795_Pos4_284_RFP\n",
      "ID GV0795_Pos4_235_RFP\n",
      "ID GV0795_Pos4_234_RFP\n",
      "ID GV0795_Pos4_285_RFP\n",
      "ID GV0795_Pos4_223_RFP\n",
      "ID GV0795_Pos4_323_RFP\n",
      "ID GV0795_Pos4_78_RFP\n",
      "ID GV0795_Pos4_359_RFP\n",
      "ID GV0795_Pos4_423_RFP\n",
      "ID GV0795_Pos4_248_RFP\n",
      "ID GV0795_Pos4_192_RFP\n",
      "ID GV0795_Pos4_322_RFP\n",
      "ID GV0795_Pos4_49_RFP\n",
      "ID GV0795_Pos4_432_RFP\n",
      "ID GV0795_Pos4_3_RFP\n",
      "ID GV0795_Pos4_419_RFP\n",
      "ID GV0795_Pos4_487_RFP\n",
      "ID GV0795_Pos4_355_RFP\n",
      "ID GV0795_Pos4_418_RFP\n",
      "ID GV0795_Pos4_35_RFP\n",
      "ID GV0795_Pos4_309_RFP\n",
      "ID GV0795_Pos4_636_RFP\n",
      "ID GV0795_Pos4_703_RFP\n"
     ]
    },
    {
     "name": "stderr",
     "output_type": "stream",
     "text": [
      "[INFO][2022/02/21 05:50:21 PM] Opening HDF file: /media/nathan/Transcend/Nathan/data/kraken/h2b/GV0795/Pos7/Pos7_aligned/HDF/segmented.hdf5...\n",
      "[INFO][2022/02/21 05:50:21 PM] Loading tracks/obj_type_1\n"
     ]
    },
    {
     "name": "stdout",
     "output_type": "stream",
     "text": [
      "ID GV0795_Pos7_37_RFP\n",
      "Loading GV0795/Pos7/\n",
      "Btrack version no.: 0.4.2\n"
     ]
    },
    {
     "name": "stderr",
     "output_type": "stream",
     "text": [
      "[INFO][2022/02/21 05:50:23 PM] Loading objects/obj_type_1 (199943, 5) (183929 filtered: area>=100)\n",
      "[INFO][2022/02/21 05:50:25 PM] Closing HDF file: /media/nathan/Transcend/Nathan/data/kraken/h2b/GV0795/Pos7/Pos7_aligned/HDF/segmented.hdf5\n",
      "[INFO][2022/02/21 05:50:25 PM] Opening HDF file: /media/nathan/Transcend/Nathan/data/kraken/h2b/GV0795/Pos7/Pos7_aligned/HDF/segmented.hdf5...\n",
      "[INFO][2022/02/21 05:50:25 PM] Loading tracks/obj_type_2\n",
      "[INFO][2022/02/21 05:50:26 PM] Loading objects/obj_type_2 (80612, 5) (63990 filtered: area>=100)\n",
      "[INFO][2022/02/21 05:50:27 PM] Closing HDF file: /media/nathan/Transcend/Nathan/data/kraken/h2b/GV0795/Pos7/Pos7_aligned/HDF/segmented.hdf5\n"
     ]
    },
    {
     "name": "stdout",
     "output_type": "stream",
     "text": [
      "Track information loaded and ordered according to cell type (WT IDs >0> Scr IDs)\n",
      "Loaded GV0795/Pos7/\n",
      "ID GV0795_Pos7_390_RFP\n",
      "ID GV0795_Pos7_421_RFP\n",
      "ID GV0795_Pos7_460_RFP\n",
      "ID GV0795_Pos7_263_RFP\n",
      "ID GV0795_Pos7_264_RFP\n",
      "ID GV0795_Pos7_680_RFP\n",
      "ID GV0795_Pos7_874_RFP\n",
      "ID GV0795_Pos7_873_RFP\n",
      "ID GV0795_Pos7_255_RFP\n",
      "ID GV0795_Pos7_850_RFP\n",
      "ID GV0795_Pos7_1030_RFP\n",
      "ID GV0795_Pos7_1029_RFP\n",
      "ID GV0795_Pos7_823_RFP\n",
      "ID GV0795_Pos7_308_RFP\n",
      "ID GV0795_Pos7_488_RFP\n",
      "ID GV0795_Pos7_410_RFP\n",
      "ID GV0795_Pos7_416_RFP\n",
      "ID GV0795_Pos7_1119_RFP\n",
      "ID GV0795_Pos7_468_RFP\n"
     ]
    },
    {
     "name": "stderr",
     "output_type": "stream",
     "text": [
      "[INFO][2022/02/21 05:51:51 PM] Opening HDF file: /media/nathan/Transcend/Nathan/data/kraken/h2b/GV0796/Pos4/Pos4_aligned/HDF/segmented.hdf5...\n",
      "[INFO][2022/02/21 05:51:51 PM] Loading tracks/obj_type_1\n"
     ]
    },
    {
     "name": "stdout",
     "output_type": "stream",
     "text": [
      "ID GV0796_Pos4_13_RFP\n",
      "Loading GV0796/Pos4/\n",
      "Btrack version no.: 0.4.2\n"
     ]
    },
    {
     "name": "stderr",
     "output_type": "stream",
     "text": [
      "[INFO][2022/02/21 05:51:54 PM] Loading objects/obj_type_1 (441082, 5) (424178 filtered: area>=100)\n",
      "[INFO][2022/02/21 05:51:59 PM] Closing HDF file: /media/nathan/Transcend/Nathan/data/kraken/h2b/GV0796/Pos4/Pos4_aligned/HDF/segmented.hdf5\n",
      "[INFO][2022/02/21 05:51:59 PM] Opening HDF file: /media/nathan/Transcend/Nathan/data/kraken/h2b/GV0796/Pos4/Pos4_aligned/HDF/segmented.hdf5...\n",
      "[INFO][2022/02/21 05:51:59 PM] Loading tracks/obj_type_2\n",
      "[INFO][2022/02/21 05:52:00 PM] Loading objects/obj_type_2 (72743, 5) (60501 filtered: area>=100)\n",
      "[INFO][2022/02/21 05:52:01 PM] Closing HDF file: /media/nathan/Transcend/Nathan/data/kraken/h2b/GV0796/Pos4/Pos4_aligned/HDF/segmented.hdf5\n"
     ]
    },
    {
     "name": "stdout",
     "output_type": "stream",
     "text": [
      "Track information loaded and ordered according to cell type (WT IDs >0> Scr IDs)\n",
      "Loaded GV0796/Pos4/\n",
      "ID GV0796_Pos4_33_RFP\n",
      "ID GV0796_Pos4_372_RFP\n",
      "ID GV0796_Pos4_377_RFP\n",
      "ID GV0796_Pos4_27_RFP\n",
      "ID GV0796_Pos4_214_RFP\n",
      "ID GV0796_Pos4_469_RFP\n",
      "ID GV0796_Pos4_468_RFP\n",
      "ID GV0796_Pos4_399_RFP\n",
      "ID GV0796_Pos4_400_RFP\n",
      "ID GV0796_Pos4_287_RFP\n",
      "ID GV0796_Pos4_285_RFP\n",
      "ID GV0796_Pos4_522_RFP\n",
      "ID GV0796_Pos4_687_RFP\n",
      "ID GV0796_Pos4_322_RFP\n",
      "ID GV0796_Pos4_623_RFP\n",
      "ID GV0796_Pos4_328_RFP\n",
      "ID GV0796_Pos4_321_RFP\n",
      "ID GV0796_Pos4_7_RFP\n",
      "ID GV0796_Pos4_78_RFP\n",
      "ID GV0796_Pos4_28_RFP\n",
      "ID GV0796_Pos4_329_RFP\n",
      "ID GV0796_Pos4_2_RFP\n",
      "ID GV0796_Pos4_801_RFP\n",
      "ID GV0796_Pos4_757_RFP\n",
      "ID GV0796_Pos4_967_RFP\n",
      "ID GV0796_Pos4_912_RFP\n",
      "ID GV0796_Pos4_391_RFP\n",
      "ID GV0796_Pos4_450_RFP\n",
      "ID GV0796_Pos4_250_RFP\n",
      "ID GV0796_Pos4_855_RFP\n"
     ]
    },
    {
     "name": "stderr",
     "output_type": "stream",
     "text": [
      "[INFO][2022/02/21 05:56:43 PM] Opening HDF file: /media/nathan/Transcend/Nathan/data/kraken/h2b/GV0796/Pos7/Pos7_aligned/HDF/segmented.hdf5...\n",
      "[INFO][2022/02/21 05:56:43 PM] Loading tracks/obj_type_1\n"
     ]
    },
    {
     "name": "stdout",
     "output_type": "stream",
     "text": [
      "ID GV0796_Pos7_39_RFP\n",
      "Loading GV0796/Pos7/\n",
      "Btrack version no.: 0.4.2\n"
     ]
    },
    {
     "name": "stderr",
     "output_type": "stream",
     "text": [
      "[INFO][2022/02/21 05:56:47 PM] Loading objects/obj_type_1 (510473, 5) (495699 filtered: area>=100)\n",
      "[INFO][2022/02/21 05:56:55 PM] Closing HDF file: /media/nathan/Transcend/Nathan/data/kraken/h2b/GV0796/Pos7/Pos7_aligned/HDF/segmented.hdf5\n",
      "[INFO][2022/02/21 05:56:55 PM] Opening HDF file: /media/nathan/Transcend/Nathan/data/kraken/h2b/GV0796/Pos7/Pos7_aligned/HDF/segmented.hdf5...\n",
      "[INFO][2022/02/21 05:56:55 PM] Loading tracks/obj_type_2\n",
      "[INFO][2022/02/21 05:56:56 PM] Loading objects/obj_type_2 (76238, 5) (63068 filtered: area>=100)\n",
      "[INFO][2022/02/21 05:56:57 PM] Closing HDF file: /media/nathan/Transcend/Nathan/data/kraken/h2b/GV0796/Pos7/Pos7_aligned/HDF/segmented.hdf5\n"
     ]
    },
    {
     "name": "stdout",
     "output_type": "stream",
     "text": [
      "Track information loaded and ordered according to cell type (WT IDs >0> Scr IDs)\n",
      "Loaded GV0796/Pos7/\n",
      "ID GV0796_Pos7_40_RFP\n",
      "ID GV0796_Pos7_48_RFP\n",
      "ID GV0796_Pos7_72_RFP\n",
      "ID GV0796_Pos7_6_RFP\n",
      "ID GV0796_Pos7_5_RFP\n",
      "ID GV0796_Pos7_85_RFP\n",
      "ID GV0796_Pos7_443_RFP\n",
      "ID GV0796_Pos7_41_RFP\n",
      "ID GV0796_Pos7_412_RFP\n",
      "ID GV0796_Pos7_413_RFP\n",
      "ID GV0796_Pos7_446_RFP\n",
      "ID GV0796_Pos7_385_RFP\n",
      "ID GV0796_Pos7_3_RFP\n",
      "ID GV0796_Pos7_327_RFP\n",
      "ID GV0796_Pos7_618_RFP\n",
      "ID GV0796_Pos7_153_RFP\n",
      "ID GV0796_Pos7_506_RFP\n",
      "ID GV0796_Pos7_395_RFP\n",
      "ID GV0796_Pos7_399_RFP\n",
      "ID GV0796_Pos7_695_RFP\n",
      "ID GV0796_Pos7_394_RFP\n",
      "ID GV0796_Pos7_445_RFP\n",
      "ID GV0796_Pos7_460_RFP\n",
      "ID GV0796_Pos7_403_RFP\n",
      "ID GV0796_Pos7_609_RFP\n"
     ]
    },
    {
     "name": "stderr",
     "output_type": "stream",
     "text": [
      "[INFO][2022/02/21 06:01:45 PM] Opening HDF file: /media/nathan/Transcend/Nathan/data/kraken/h2b/GV0797/Pos4/Pos4_aligned/HDF/segmented.hdf5...\n",
      "[INFO][2022/02/21 06:01:45 PM] Loading tracks/obj_type_1\n"
     ]
    },
    {
     "name": "stdout",
     "output_type": "stream",
     "text": [
      "ID GV0797_Pos4_12_RFP\n",
      "Loading GV0797/Pos4/\n",
      "Btrack version no.: 0.4.2\n"
     ]
    },
    {
     "name": "stderr",
     "output_type": "stream",
     "text": [
      "[INFO][2022/02/21 06:01:47 PM] Loading objects/obj_type_1 (298548, 5) (283305 filtered: area>=100)\n",
      "[INFO][2022/02/21 06:01:51 PM] Closing HDF file: /media/nathan/Transcend/Nathan/data/kraken/h2b/GV0797/Pos4/Pos4_aligned/HDF/segmented.hdf5\n",
      "[INFO][2022/02/21 06:01:51 PM] Opening HDF file: /media/nathan/Transcend/Nathan/data/kraken/h2b/GV0797/Pos4/Pos4_aligned/HDF/segmented.hdf5...\n",
      "[INFO][2022/02/21 06:01:51 PM] Loading tracks/obj_type_2\n",
      "[INFO][2022/02/21 06:01:52 PM] Loading objects/obj_type_2 (52032, 5) (37211 filtered: area>=100)\n",
      "[INFO][2022/02/21 06:01:53 PM] Closing HDF file: /media/nathan/Transcend/Nathan/data/kraken/h2b/GV0797/Pos4/Pos4_aligned/HDF/segmented.hdf5\n"
     ]
    },
    {
     "name": "stdout",
     "output_type": "stream",
     "text": [
      "Track information loaded and ordered according to cell type (WT IDs >0> Scr IDs)\n",
      "Loaded GV0797/Pos4/\n",
      "ID GV0797_Pos4_18_RFP\n",
      "ID GV0797_Pos4_7_RFP\n",
      "ID GV0797_Pos4_24_RFP\n",
      "ID GV0797_Pos4_240_RFP\n",
      "ID GV0797_Pos4_23_RFP\n",
      "ID GV0797_Pos4_96_RFP\n",
      "ID GV0797_Pos4_95_RFP\n",
      "ID GV0797_Pos4_223_RFP\n",
      "ID GV0797_Pos4_224_RFP\n",
      "ID GV0797_Pos4_164_RFP\n",
      "ID GV0797_Pos4_6_RFP\n",
      "ID GV0797_Pos4_3_RFP\n",
      "ID GV0797_Pos4_36_RFP\n",
      "ID GV0797_Pos4_185_RFP\n",
      "ID GV0797_Pos4_183_RFP\n",
      "ID GV0797_Pos4_64_RFP\n",
      "ID GV0797_Pos4_46_RFP\n",
      "ID GV0797_Pos4_41_RFP\n",
      "ID GV0797_Pos4_157_RFP\n",
      "ID GV0797_Pos4_63_RFP\n",
      "ID GV0797_Pos4_55_RFP\n",
      "ID GV0797_Pos4_26_RFP\n",
      "ID GV0797_Pos4_27_RFP\n",
      "ID GV0797_Pos4_15_RFP\n",
      "ID GV0797_Pos4_144_RFP\n",
      "ID GV0797_Pos4_11_RFP\n",
      "ID GV0797_Pos4_142_RFP\n",
      "ID GV0797_Pos4_58_RFP\n",
      "ID GV0797_Pos4_751_RFP\n",
      "ID GV0797_Pos4_37_RFP\n",
      "ID GV0797_Pos4_750_RFP\n",
      "ID GV0797_Pos4_892_RFP\n",
      "ID GV0797_Pos4_948_RFP\n",
      "ID GV0797_Pos4_34_RFP\n",
      "ID GV0797_Pos4_28_RFP\n",
      "ID GV0797_Pos4_917_RFP\n",
      "ID GV0797_Pos4_545_RFP\n"
     ]
    },
    {
     "name": "stderr",
     "output_type": "stream",
     "text": [
      "[INFO][2022/02/21 06:05:43 PM] Opening HDF file: /media/nathan/Transcend/Nathan/data/kraken/h2b/GV0797/Pos7/Pos7_aligned/HDF/segmented.hdf5...\n",
      "[INFO][2022/02/21 06:05:43 PM] Loading tracks/obj_type_1\n"
     ]
    },
    {
     "name": "stdout",
     "output_type": "stream",
     "text": [
      "ID GV0797_Pos7_14_RFP\n",
      "Loading GV0797/Pos7/\n",
      "Btrack version no.: 0.4.2\n"
     ]
    },
    {
     "name": "stderr",
     "output_type": "stream",
     "text": [
      "[INFO][2022/02/21 06:05:44 PM] Loading objects/obj_type_1 (207794, 5) (196573 filtered: area>=100)\n",
      "[INFO][2022/02/21 06:05:47 PM] Closing HDF file: /media/nathan/Transcend/Nathan/data/kraken/h2b/GV0797/Pos7/Pos7_aligned/HDF/segmented.hdf5\n",
      "[INFO][2022/02/21 06:05:47 PM] Opening HDF file: /media/nathan/Transcend/Nathan/data/kraken/h2b/GV0797/Pos7/Pos7_aligned/HDF/segmented.hdf5...\n",
      "[INFO][2022/02/21 06:05:47 PM] Loading tracks/obj_type_2\n",
      "[INFO][2022/02/21 06:05:47 PM] Loading objects/obj_type_2 (22939, 5) (18826 filtered: area>=100)\n",
      "[INFO][2022/02/21 06:05:47 PM] Closing HDF file: /media/nathan/Transcend/Nathan/data/kraken/h2b/GV0797/Pos7/Pos7_aligned/HDF/segmented.hdf5\n"
     ]
    },
    {
     "name": "stdout",
     "output_type": "stream",
     "text": [
      "Track information loaded and ordered according to cell type (WT IDs >0> Scr IDs)\n",
      "Loaded GV0797/Pos7/\n",
      "ID GV0797_Pos7_45_RFP\n",
      "ID GV0797_Pos7_5_RFP\n",
      "ID GV0797_Pos7_146_RFP\n",
      "ID GV0797_Pos7_145_RFP\n",
      "ID GV0797_Pos7_30_RFP\n",
      "ID GV0797_Pos7_106_RFP\n",
      "ID GV0797_Pos7_9_RFP\n",
      "ID GV0797_Pos7_204_RFP\n",
      "ID GV0797_Pos7_105_RFP\n",
      "ID GV0797_Pos7_200_RFP\n",
      "ID GV0797_Pos7_199_RFP\n",
      "ID GV0797_Pos7_208_RFP\n",
      "ID GV0797_Pos7_207_RFP\n",
      "ID GV0797_Pos7_203_RFP\n"
     ]
    },
    {
     "name": "stderr",
     "output_type": "stream",
     "text": [
      "[INFO][2022/02/21 06:06:54 PM] Opening HDF file: /media/nathan/Transcend/Nathan/data/kraken/h2b/GV0798/Pos4/Pos4_aligned/HDF/segmented.hdf5...\n",
      "[INFO][2022/02/21 06:06:54 PM] Loading tracks/obj_type_1\n"
     ]
    },
    {
     "name": "stdout",
     "output_type": "stream",
     "text": [
      "ID GV0798_Pos4_27_RFP\n",
      "Loading GV0798/Pos4/\n",
      "Btrack version no.: 0.4.2\n"
     ]
    },
    {
     "name": "stderr",
     "output_type": "stream",
     "text": [
      "[INFO][2022/02/21 06:06:56 PM] Loading objects/obj_type_1 (233782, 5) (224796 filtered: area>=100)\n",
      "[INFO][2022/02/21 06:07:00 PM] Closing HDF file: /media/nathan/Transcend/Nathan/data/kraken/h2b/GV0798/Pos4/Pos4_aligned/HDF/segmented.hdf5\n",
      "[INFO][2022/02/21 06:07:00 PM] Opening HDF file: /media/nathan/Transcend/Nathan/data/kraken/h2b/GV0798/Pos4/Pos4_aligned/HDF/segmented.hdf5...\n",
      "[INFO][2022/02/21 06:07:00 PM] Loading tracks/obj_type_2\n",
      "[INFO][2022/02/21 06:07:00 PM] Loading objects/obj_type_2 (33185, 5) (26688 filtered: area>=100)\n",
      "[INFO][2022/02/21 06:07:00 PM] Closing HDF file: /media/nathan/Transcend/Nathan/data/kraken/h2b/GV0798/Pos4/Pos4_aligned/HDF/segmented.hdf5\n"
     ]
    },
    {
     "name": "stdout",
     "output_type": "stream",
     "text": [
      "Track information loaded and ordered according to cell type (WT IDs >0> Scr IDs)\n",
      "Loaded GV0798/Pos4/\n",
      "ID GV0798_Pos4_22_RFP\n",
      "ID GV0798_Pos4_344_RFP\n",
      "ID GV0798_Pos4_253_RFP\n",
      "ID GV0798_Pos4_302_RFP\n",
      "ID GV0798_Pos4_255_RFP\n"
     ]
    },
    {
     "name": "stderr",
     "output_type": "stream",
     "text": [
      "[INFO][2022/02/21 06:07:28 PM] Opening HDF file: /media/nathan/Transcend/Nathan/data/kraken/h2b/GV0798/Pos7/Pos7_aligned/HDF/segmented.hdf5...\n",
      "[INFO][2022/02/21 06:07:28 PM] Loading tracks/obj_type_1\n"
     ]
    },
    {
     "name": "stdout",
     "output_type": "stream",
     "text": [
      "ID GV0798_Pos7_91_RFP\n",
      "Loading GV0798/Pos7/\n",
      "Btrack version no.: 0.4.2\n"
     ]
    },
    {
     "name": "stderr",
     "output_type": "stream",
     "text": [
      "[INFO][2022/02/21 06:07:30 PM] Loading objects/obj_type_1 (264968, 5) (250270 filtered: area>=100)\n",
      "[INFO][2022/02/21 06:07:34 PM] Closing HDF file: /media/nathan/Transcend/Nathan/data/kraken/h2b/GV0798/Pos7/Pos7_aligned/HDF/segmented.hdf5\n",
      "[INFO][2022/02/21 06:07:34 PM] Opening HDF file: /media/nathan/Transcend/Nathan/data/kraken/h2b/GV0798/Pos7/Pos7_aligned/HDF/segmented.hdf5...\n",
      "[INFO][2022/02/21 06:07:34 PM] Loading tracks/obj_type_2\n",
      "[INFO][2022/02/21 06:07:35 PM] Loading objects/obj_type_2 (34780, 5) (28039 filtered: area>=100)\n",
      "[INFO][2022/02/21 06:07:35 PM] Closing HDF file: /media/nathan/Transcend/Nathan/data/kraken/h2b/GV0798/Pos7/Pos7_aligned/HDF/segmented.hdf5\n"
     ]
    },
    {
     "name": "stdout",
     "output_type": "stream",
     "text": [
      "Track information loaded and ordered according to cell type (WT IDs >0> Scr IDs)\n",
      "Loaded GV0798/Pos7/\n",
      "ID GV0798_Pos7_92_RFP\n",
      "ID GV0798_Pos7_77_RFP\n",
      "ID GV0798_Pos7_22_RFP\n",
      "ID GV0798_Pos7_24_RFP\n",
      "ID GV0798_Pos7_148_RFP\n",
      "ID GV0798_Pos7_149_RFP\n",
      "ID GV0798_Pos7_38_RFP\n",
      "ID GV0798_Pos7_224_RFP\n",
      "ID GV0798_Pos7_182_RFP\n",
      "ID GV0798_Pos7_202_RFP\n",
      "ID GV0798_Pos7_201_RFP\n",
      "ID GV0798_Pos7_123_RFP\n",
      "ID GV0798_Pos7_274_RFP\n"
     ]
    },
    {
     "name": "stderr",
     "output_type": "stream",
     "text": [
      "[INFO][2022/02/21 06:08:59 PM] Opening HDF file: /media/nathan/Transcend/Nathan/data/kraken/h2b/GV0800/Pos4/Pos4_aligned/HDF/segmented.hdf5...\n",
      "[INFO][2022/02/21 06:08:59 PM] Loading tracks/obj_type_1\n"
     ]
    },
    {
     "name": "stdout",
     "output_type": "stream",
     "text": [
      "ID GV0800_Pos4_7_RFP\n",
      "Loading GV0800/Pos4/\n",
      "Btrack version no.: 0.4.2\n"
     ]
    },
    {
     "name": "stderr",
     "output_type": "stream",
     "text": [
      "[INFO][2022/02/21 06:09:01 PM] Loading objects/obj_type_1 (293631, 5) (274724 filtered: area>=100)\n",
      "[INFO][2022/02/21 06:09:05 PM] Closing HDF file: /media/nathan/Transcend/Nathan/data/kraken/h2b/GV0800/Pos4/Pos4_aligned/HDF/segmented.hdf5\n",
      "[INFO][2022/02/21 06:09:05 PM] Opening HDF file: /media/nathan/Transcend/Nathan/data/kraken/h2b/GV0800/Pos4/Pos4_aligned/HDF/segmented.hdf5...\n",
      "[INFO][2022/02/21 06:09:05 PM] Loading tracks/obj_type_2\n",
      "[INFO][2022/02/21 06:09:05 PM] Loading objects/obj_type_2 (60789, 5) (49434 filtered: area>=100)\n",
      "[INFO][2022/02/21 06:09:06 PM] Closing HDF file: /media/nathan/Transcend/Nathan/data/kraken/h2b/GV0800/Pos4/Pos4_aligned/HDF/segmented.hdf5\n"
     ]
    },
    {
     "name": "stdout",
     "output_type": "stream",
     "text": [
      "Track information loaded and ordered according to cell type (WT IDs >0> Scr IDs)\n",
      "Loaded GV0800/Pos4/\n",
      "ID GV0800_Pos4_33_RFP\n",
      "ID GV0800_Pos4_24_RFP\n",
      "ID GV0800_Pos4_482_RFP\n",
      "ID GV0800_Pos4_374_RFP\n",
      "ID GV0800_Pos4_351_RFP\n",
      "ID GV0800_Pos4_352_RFP\n",
      "ID GV0800_Pos4_471_RFP\n",
      "ID GV0800_Pos4_274_RFP\n",
      "ID GV0800_Pos4_477_RFP\n",
      "ID GV0800_Pos4_373_RFP\n",
      "ID GV0800_Pos4_759_RFP\n",
      "ID GV0800_Pos4_607_RFP\n",
      "ID GV0800_Pos4_836_RFP\n",
      "ID GV0800_Pos4_925_RFP\n",
      "ID GV0800_Pos4_947_RFP\n",
      "ID GV0800_Pos4_915_RFP\n"
     ]
    },
    {
     "name": "stderr",
     "output_type": "stream",
     "text": [
      "[INFO][2022/02/21 06:10:59 PM] Opening HDF file: /media/nathan/Transcend/Nathan/data/kraken/h2b/GV0800/Pos7/Pos7_aligned/HDF/segmented.hdf5...\n",
      "[INFO][2022/02/21 06:10:59 PM] Loading tracks/obj_type_1\n"
     ]
    },
    {
     "name": "stdout",
     "output_type": "stream",
     "text": [
      "ID GV0800_Pos7_7_RFP\n",
      "Loading GV0800/Pos7/\n",
      "Btrack version no.: 0.4.2\n"
     ]
    },
    {
     "name": "stderr",
     "output_type": "stream",
     "text": [
      "[INFO][2022/02/21 06:11:01 PM] Loading objects/obj_type_1 (299894, 5) (277008 filtered: area>=100)\n",
      "[INFO][2022/02/21 06:11:05 PM] Closing HDF file: /media/nathan/Transcend/Nathan/data/kraken/h2b/GV0800/Pos7/Pos7_aligned/HDF/segmented.hdf5\n",
      "[INFO][2022/02/21 06:11:05 PM] Opening HDF file: /media/nathan/Transcend/Nathan/data/kraken/h2b/GV0800/Pos7/Pos7_aligned/HDF/segmented.hdf5...\n",
      "[INFO][2022/02/21 06:11:05 PM] Loading tracks/obj_type_2\n",
      "[INFO][2022/02/21 06:11:06 PM] Loading objects/obj_type_2 (53124, 5) (43280 filtered: area>=100)\n",
      "[INFO][2022/02/21 06:11:07 PM] Closing HDF file: /media/nathan/Transcend/Nathan/data/kraken/h2b/GV0800/Pos7/Pos7_aligned/HDF/segmented.hdf5\n"
     ]
    },
    {
     "name": "stdout",
     "output_type": "stream",
     "text": [
      "Track information loaded and ordered according to cell type (WT IDs >0> Scr IDs)\n",
      "Loaded GV0800/Pos7/\n",
      "ID GV0800_Pos7_27_RFP\n",
      "ID GV0800_Pos7_52_RFP\n",
      "ID GV0800_Pos7_165_RFP\n",
      "ID GV0800_Pos7_29_RFP\n",
      "ID GV0800_Pos7_368_RFP\n",
      "ID GV0800_Pos7_393_RFP\n",
      "ID GV0800_Pos7_392_RFP\n",
      "ID GV0800_Pos7_456_RFP\n",
      "ID GV0800_Pos7_440_RFP\n",
      "ID GV0800_Pos7_14_RFP\n",
      "ID GV0800_Pos7_299_RFP\n",
      "ID GV0800_Pos7_297_RFP\n",
      "ID GV0800_Pos7_279_RFP\n",
      "ID GV0800_Pos7_16_RFP\n",
      "ID GV0800_Pos7_361_RFP\n",
      "ID GV0800_Pos7_373_RFP\n",
      "ID GV0800_Pos7_190_RFP\n",
      "ID GV0800_Pos7_598_RFP\n",
      "ID GV0800_Pos7_667_RFP\n",
      "ID GV0800_Pos7_669_RFP\n"
     ]
    },
    {
     "name": "stderr",
     "output_type": "stream",
     "text": [
      "[INFO][2022/02/21 06:13:22 PM] Opening HDF file: /media/nathan/Transcend/Nathan/data/kraken/h2b/GV0795/Pos17/Pos17_aligned/HDF/segmented.hdf5...\n",
      "[INFO][2022/02/21 06:13:22 PM] Loading tracks/obj_type_1\n"
     ]
    },
    {
     "name": "stdout",
     "output_type": "stream",
     "text": [
      "ID GV0795_Pos17_13_RFP\n",
      "Loading GV0795/Pos17/\n",
      "Btrack version no.: 0.4.2\n"
     ]
    },
    {
     "name": "stderr",
     "output_type": "stream",
     "text": [
      "[INFO][2022/02/21 06:13:24 PM] Loading objects/obj_type_1 (142287, 5) (125195 filtered: area>=100)\n",
      "[INFO][2022/02/21 06:13:26 PM] Closing HDF file: /media/nathan/Transcend/Nathan/data/kraken/h2b/GV0795/Pos17/Pos17_aligned/HDF/segmented.hdf5\n",
      "[INFO][2022/02/21 06:13:26 PM] Opening HDF file: /media/nathan/Transcend/Nathan/data/kraken/h2b/GV0795/Pos17/Pos17_aligned/HDF/segmented.hdf5...\n",
      "[INFO][2022/02/21 06:13:26 PM] Loading tracks/obj_type_2\n",
      "[INFO][2022/02/21 06:13:26 PM] Loading objects/obj_type_2 (36319, 5) (29965 filtered: area>=100)\n",
      "[INFO][2022/02/21 06:13:27 PM] Closing HDF file: /media/nathan/Transcend/Nathan/data/kraken/h2b/GV0795/Pos17/Pos17_aligned/HDF/segmented.hdf5\n"
     ]
    },
    {
     "name": "stdout",
     "output_type": "stream",
     "text": [
      "Track information loaded and ordered according to cell type (WT IDs >0> Scr IDs)\n",
      "Loaded GV0795/Pos17/\n",
      "ID GV0795_Pos17_16_RFP\n",
      "ID GV0795_Pos17_26_RFP\n",
      "ID GV0795_Pos17_6_RFP\n",
      "ID GV0795_Pos17_4_RFP\n",
      "ID GV0795_Pos17_115_RFP\n",
      "ID GV0795_Pos17_152_RFP\n",
      "ID GV0795_Pos17_151_RFP\n",
      "ID GV0795_Pos17_129_RFP\n",
      "ID GV0795_Pos17_121_RFP\n",
      "ID GV0795_Pos17_11_RFP\n",
      "ID GV0795_Pos17_128_RFP\n",
      "ID GV0795_Pos17_258_RFP\n",
      "ID GV0795_Pos17_209_RFP\n",
      "ID GV0795_Pos17_267_RFP\n",
      "ID GV0795_Pos17_471_RFP\n",
      "ID GV0795_Pos17_98_RFP\n",
      "ID GV0795_Pos17_132_RFP\n"
     ]
    },
    {
     "name": "stderr",
     "output_type": "stream",
     "text": [
      "[INFO][2022/02/21 06:14:36 PM] Opening HDF file: /media/nathan/Transcend/Nathan/data/kraken/h2b/GV0796/Pos21/Pos21_aligned/HDF/segmented.hdf5...\n",
      "[INFO][2022/02/21 06:14:36 PM] Loading tracks/obj_type_1\n"
     ]
    },
    {
     "name": "stdout",
     "output_type": "stream",
     "text": [
      "ID GV0796_Pos21_13_RFP\n",
      "Loading GV0796/Pos21/\n",
      "Btrack version no.: 0.4.2\n"
     ]
    },
    {
     "name": "stderr",
     "output_type": "stream",
     "text": [
      "[INFO][2022/02/21 06:14:39 PM] Loading objects/obj_type_1 (307793, 5) (293005 filtered: area>=100)\n",
      "[INFO][2022/02/21 06:14:43 PM] Closing HDF file: /media/nathan/Transcend/Nathan/data/kraken/h2b/GV0796/Pos21/Pos21_aligned/HDF/segmented.hdf5\n",
      "[INFO][2022/02/21 06:14:43 PM] Opening HDF file: /media/nathan/Transcend/Nathan/data/kraken/h2b/GV0796/Pos21/Pos21_aligned/HDF/segmented.hdf5...\n",
      "[INFO][2022/02/21 06:14:43 PM] Loading tracks/obj_type_2\n",
      "[INFO][2022/02/21 06:14:44 PM] Loading objects/obj_type_2 (46439, 5) (38835 filtered: area>=100)\n",
      "[INFO][2022/02/21 06:14:45 PM] Closing HDF file: /media/nathan/Transcend/Nathan/data/kraken/h2b/GV0796/Pos21/Pos21_aligned/HDF/segmented.hdf5\n"
     ]
    },
    {
     "name": "stdout",
     "output_type": "stream",
     "text": [
      "Track information loaded and ordered according to cell type (WT IDs >0> Scr IDs)\n",
      "Loaded GV0796/Pos21/\n",
      "ID GV0796_Pos21_16_RFP\n",
      "ID GV0796_Pos21_30_RFP\n",
      "ID GV0796_Pos21_23_RFP\n",
      "ID GV0796_Pos21_14_RFP\n",
      "ID GV0796_Pos21_230_RFP\n",
      "ID GV0796_Pos21_314_RFP\n",
      "ID GV0796_Pos21_252_RFP\n",
      "ID GV0796_Pos21_282_RFP\n",
      "ID GV0796_Pos21_18_RFP\n",
      "ID GV0796_Pos21_676_RFP\n",
      "ID GV0796_Pos21_675_RFP\n",
      "ID GV0796_Pos21_336_RFP\n",
      "ID GV0796_Pos21_339_RFP\n",
      "ID GV0796_Pos21_406_RFP\n",
      "ID GV0796_Pos21_697_RFP\n",
      "ID GV0796_Pos21_425_RFP\n",
      "ID GV0796_Pos21_702_RFP\n",
      "ID GV0796_Pos21_257_RFP\n",
      "ID GV0796_Pos21_312_RFP\n",
      "ID GV0796_Pos21_388_RFP\n",
      "ID GV0796_Pos21_646_RFP\n",
      "ID GV0796_Pos21_665_RFP\n",
      "ID GV0796_Pos21_405_RFP\n"
     ]
    },
    {
     "name": "stderr",
     "output_type": "stream",
     "text": [
      "[INFO][2022/02/21 06:17:42 PM] Opening HDF file: /media/nathan/Transcend/Nathan/data/kraken/h2b/GV0796/Pos22/Pos22_aligned/HDF/segmented.hdf5...\n",
      "[INFO][2022/02/21 06:17:42 PM] Loading tracks/obj_type_1\n"
     ]
    },
    {
     "name": "stdout",
     "output_type": "stream",
     "text": [
      "ID GV0796_Pos22_28_RFP\n",
      "Loading GV0796/Pos22/\n",
      "Btrack version no.: 0.4.2\n"
     ]
    },
    {
     "name": "stderr",
     "output_type": "stream",
     "text": [
      "[INFO][2022/02/21 06:17:45 PM] Loading objects/obj_type_1 (388884, 5) (377860 filtered: area>=100)\n",
      "[INFO][2022/02/21 06:17:51 PM] Closing HDF file: /media/nathan/Transcend/Nathan/data/kraken/h2b/GV0796/Pos22/Pos22_aligned/HDF/segmented.hdf5\n",
      "[INFO][2022/02/21 06:17:51 PM] Opening HDF file: /media/nathan/Transcend/Nathan/data/kraken/h2b/GV0796/Pos22/Pos22_aligned/HDF/segmented.hdf5...\n",
      "[INFO][2022/02/21 06:17:51 PM] Loading tracks/obj_type_2\n",
      "[INFO][2022/02/21 06:17:51 PM] Loading objects/obj_type_2 (63131, 5) (54866 filtered: area>=100)\n",
      "[INFO][2022/02/21 06:17:53 PM] Closing HDF file: /media/nathan/Transcend/Nathan/data/kraken/h2b/GV0796/Pos22/Pos22_aligned/HDF/segmented.hdf5\n"
     ]
    },
    {
     "name": "stdout",
     "output_type": "stream",
     "text": [
      "Track information loaded and ordered according to cell type (WT IDs >0> Scr IDs)\n",
      "Loaded GV0796/Pos22/\n",
      "ID GV0796_Pos22_370_RFP\n",
      "ID GV0796_Pos22_330_RFP\n",
      "ID GV0796_Pos22_339_RFP\n",
      "ID GV0796_Pos22_409_RFP\n",
      "ID GV0796_Pos22_291_RFP\n",
      "ID GV0796_Pos22_406_RFP\n",
      "ID GV0796_Pos22_174_RFP\n",
      "ID GV0796_Pos22_468_RFP\n",
      "ID GV0796_Pos22_346_RFP\n",
      "ID GV0796_Pos22_520_RFP\n",
      "ID GV0796_Pos22_519_RFP\n",
      "ID GV0796_Pos22_595_RFP\n",
      "ID GV0796_Pos22_596_RFP\n",
      "ID GV0796_Pos22_11_RFP\n",
      "ID GV0796_Pos22_324_RFP\n",
      "ID GV0796_Pos22_657_RFP\n",
      "ID GV0796_Pos22_658_RFP\n",
      "ID GV0796_Pos22_659_RFP\n",
      "ID GV0796_Pos22_588_RFP\n"
     ]
    },
    {
     "name": "stderr",
     "output_type": "stream",
     "text": [
      "[INFO][2022/02/21 06:20:11 PM] Opening HDF file: /media/nathan/Transcend/Nathan/data/kraken/h2b/GV0797/Pos20/Pos20_aligned/HDF/segmented.hdf5...\n",
      "[INFO][2022/02/21 06:20:11 PM] Loading tracks/obj_type_1\n"
     ]
    },
    {
     "name": "stdout",
     "output_type": "stream",
     "text": [
      "ID GV0797_Pos20_14_RFP\n",
      "Loading GV0797/Pos20/\n",
      "Btrack version no.: 0.4.2\n"
     ]
    },
    {
     "name": "stderr",
     "output_type": "stream",
     "text": [
      "[INFO][2022/02/21 06:20:12 PM] Loading objects/obj_type_1 (193103, 5) (183703 filtered: area>=100)\n",
      "[INFO][2022/02/21 06:20:15 PM] Closing HDF file: /media/nathan/Transcend/Nathan/data/kraken/h2b/GV0797/Pos20/Pos20_aligned/HDF/segmented.hdf5\n",
      "[INFO][2022/02/21 06:20:15 PM] Opening HDF file: /media/nathan/Transcend/Nathan/data/kraken/h2b/GV0797/Pos20/Pos20_aligned/HDF/segmented.hdf5...\n",
      "[INFO][2022/02/21 06:20:15 PM] Loading tracks/obj_type_2\n",
      "[INFO][2022/02/21 06:20:15 PM] Loading objects/obj_type_2 (12311, 5) (8874 filtered: area>=100)\n",
      "[INFO][2022/02/21 06:20:15 PM] Closing HDF file: /media/nathan/Transcend/Nathan/data/kraken/h2b/GV0797/Pos20/Pos20_aligned/HDF/segmented.hdf5\n"
     ]
    },
    {
     "name": "stdout",
     "output_type": "stream",
     "text": [
      "Track information loaded and ordered according to cell type (WT IDs >0> Scr IDs)\n",
      "Loaded GV0797/Pos20/\n",
      "ID GV0797_Pos20_16_RFP\n",
      "ID GV0797_Pos20_17_RFP\n",
      "ID GV0797_Pos20_7_RFP\n",
      "ID GV0797_Pos20_48_RFP\n",
      "ID GV0797_Pos20_145_RFP\n",
      "ID GV0797_Pos20_146_RFP\n"
     ]
    },
    {
     "name": "stderr",
     "output_type": "stream",
     "text": [
      "[INFO][2022/02/21 06:20:38 PM] Opening HDF file: /media/nathan/Transcend/Nathan/data/kraken/h2b/GV0797/Pos21/Pos21_aligned/HDF/segmented.hdf5...\n",
      "[INFO][2022/02/21 06:20:38 PM] Loading tracks/obj_type_1\n"
     ]
    },
    {
     "name": "stdout",
     "output_type": "stream",
     "text": [
      "ID GV0797_Pos21_78_RFP\n",
      "Loading GV0797/Pos21/\n",
      "Btrack version no.: 0.4.2\n"
     ]
    },
    {
     "name": "stderr",
     "output_type": "stream",
     "text": [
      "[INFO][2022/02/21 06:20:40 PM] Loading objects/obj_type_1 (211568, 5) (195992 filtered: area>=100)\n",
      "[INFO][2022/02/21 06:20:43 PM] Closing HDF file: /media/nathan/Transcend/Nathan/data/kraken/h2b/GV0797/Pos21/Pos21_aligned/HDF/segmented.hdf5\n",
      "[INFO][2022/02/21 06:20:43 PM] Opening HDF file: /media/nathan/Transcend/Nathan/data/kraken/h2b/GV0797/Pos21/Pos21_aligned/HDF/segmented.hdf5...\n",
      "[INFO][2022/02/21 06:20:43 PM] Loading tracks/obj_type_2\n",
      "[INFO][2022/02/21 06:20:43 PM] Loading objects/obj_type_2 (26227, 5) (20975 filtered: area>=100)\n",
      "[INFO][2022/02/21 06:20:43 PM] Closing HDF file: /media/nathan/Transcend/Nathan/data/kraken/h2b/GV0797/Pos21/Pos21_aligned/HDF/segmented.hdf5\n"
     ]
    },
    {
     "name": "stdout",
     "output_type": "stream",
     "text": [
      "Track information loaded and ordered according to cell type (WT IDs >0> Scr IDs)\n",
      "Loaded GV0797/Pos21/\n",
      "ID GV0797_Pos21_54_RFP\n",
      "ID GV0797_Pos21_55_RFP\n",
      "ID GV0797_Pos21_83_RFP\n",
      "ID GV0797_Pos21_302_RFP\n",
      "ID GV0797_Pos21_22_RFP\n",
      "ID GV0797_Pos21_335_RFP\n",
      "ID GV0797_Pos21_334_RFP\n",
      "ID GV0797_Pos21_35_RFP\n"
     ]
    },
    {
     "name": "stderr",
     "output_type": "stream",
     "text": [
      "[INFO][2022/02/21 06:21:31 PM] Opening HDF file: /media/nathan/Transcend/Nathan/data/kraken/h2b/GV0798/Pos20/Pos20_aligned/HDF/segmented.hdf5...\n",
      "[INFO][2022/02/21 06:21:31 PM] Loading tracks/obj_type_1\n"
     ]
    },
    {
     "name": "stdout",
     "output_type": "stream",
     "text": [
      "ID GV0798_Pos20_239_RFP\n",
      "Loading GV0798/Pos20/\n",
      "Btrack version no.: 0.4.2\n"
     ]
    },
    {
     "name": "stderr",
     "output_type": "stream",
     "text": [
      "[INFO][2022/02/21 06:21:32 PM] Loading objects/obj_type_1 (192967, 5) (184679 filtered: area>=100)\n",
      "[INFO][2022/02/21 06:21:35 PM] Closing HDF file: /media/nathan/Transcend/Nathan/data/kraken/h2b/GV0798/Pos20/Pos20_aligned/HDF/segmented.hdf5\n",
      "[INFO][2022/02/21 06:21:35 PM] Opening HDF file: /media/nathan/Transcend/Nathan/data/kraken/h2b/GV0798/Pos20/Pos20_aligned/HDF/segmented.hdf5...\n",
      "[INFO][2022/02/21 06:21:35 PM] Loading tracks/obj_type_2\n",
      "[INFO][2022/02/21 06:21:35 PM] Loading objects/obj_type_2 (51909, 5) (44768 filtered: area>=100)\n",
      "[INFO][2022/02/21 06:21:36 PM] Closing HDF file: /media/nathan/Transcend/Nathan/data/kraken/h2b/GV0798/Pos20/Pos20_aligned/HDF/segmented.hdf5\n"
     ]
    },
    {
     "name": "stdout",
     "output_type": "stream",
     "text": [
      "Track information loaded and ordered according to cell type (WT IDs >0> Scr IDs)\n",
      "Loaded GV0798/Pos20/\n",
      "ID GV0798_Pos20_246_RFP\n",
      "ID GV0798_Pos20_267_RFP\n",
      "ID GV0798_Pos20_311_RFP\n",
      "ID GV0798_Pos20_263_RFP\n",
      "ID GV0798_Pos20_240_RFP\n",
      "ID GV0798_Pos20_173_RFP\n",
      "ID GV0798_Pos20_310_RFP\n",
      "ID GV0798_Pos20_343_RFP\n",
      "ID GV0798_Pos20_442_RFP\n",
      "ID GV0798_Pos20_502_RFP\n",
      "ID GV0798_Pos20_503_RFP\n",
      "ID GV0798_Pos20_514_RFP\n",
      "ID GV0798_Pos20_513_RFP\n",
      "ID GV0798_Pos20_441_RFP\n",
      "ID GV0798_Pos20_190_RFP\n",
      "ID GV0798_Pos20_581_RFP\n",
      "ID GV0798_Pos20_580_RFP\n"
     ]
    },
    {
     "name": "stderr",
     "output_type": "stream",
     "text": [
      "[INFO][2022/02/21 06:22:43 PM] Opening HDF file: /media/nathan/Transcend/Nathan/data/kraken/h2b/GV0798/Pos21/Pos21_aligned/HDF/segmented.hdf5...\n",
      "[INFO][2022/02/21 06:22:43 PM] Loading tracks/obj_type_1\n"
     ]
    },
    {
     "name": "stdout",
     "output_type": "stream",
     "text": [
      "ID GV0798_Pos21_28_RFP\n",
      "Loading GV0798/Pos21/\n",
      "Btrack version no.: 0.4.2\n"
     ]
    },
    {
     "name": "stderr",
     "output_type": "stream",
     "text": [
      "[INFO][2022/02/21 06:22:46 PM] Loading objects/obj_type_1 (332657, 5) (316064 filtered: area>=100)\n",
      "[INFO][2022/02/21 06:22:50 PM] Closing HDF file: /media/nathan/Transcend/Nathan/data/kraken/h2b/GV0798/Pos21/Pos21_aligned/HDF/segmented.hdf5\n",
      "[INFO][2022/02/21 06:22:50 PM] Opening HDF file: /media/nathan/Transcend/Nathan/data/kraken/h2b/GV0798/Pos21/Pos21_aligned/HDF/segmented.hdf5...\n",
      "[INFO][2022/02/21 06:22:50 PM] Loading tracks/obj_type_2\n",
      "[INFO][2022/02/21 06:22:51 PM] Loading objects/obj_type_2 (59184, 5) (40538 filtered: area>=100)\n",
      "[INFO][2022/02/21 06:22:52 PM] Closing HDF file: /media/nathan/Transcend/Nathan/data/kraken/h2b/GV0798/Pos21/Pos21_aligned/HDF/segmented.hdf5\n"
     ]
    },
    {
     "name": "stdout",
     "output_type": "stream",
     "text": [
      "Track information loaded and ordered according to cell type (WT IDs >0> Scr IDs)\n",
      "Loaded GV0798/Pos21/\n",
      "ID GV0798_Pos21_32_RFP\n",
      "ID GV0798_Pos21_3_RFP\n",
      "ID GV0798_Pos21_398_RFP\n",
      "ID GV0798_Pos21_43_RFP\n",
      "ID GV0798_Pos21_850_RFP\n",
      "ID GV0798_Pos21_133_RFP\n",
      "ID GV0798_Pos21_365_RFP\n",
      "ID GV0798_Pos21_558_RFP\n",
      "ID GV0798_Pos21_7_RFP\n",
      "ID GV0798_Pos21_906_RFP\n",
      "ID GV0798_Pos21_582_RFP\n",
      "ID GV0798_Pos21_4_RFP\n",
      "ID GV0798_Pos21_9_RFP\n",
      "ID GV0798_Pos21_13_RFP\n"
     ]
    },
    {
     "name": "stderr",
     "output_type": "stream",
     "text": [
      "[INFO][2022/02/21 06:25:28 PM] Opening HDF file: /media/nathan/Transcend/Nathan/data/kraken/h2b/GV0801/Pos4/Pos4_aligned/HDF/segmented.hdf5...\n",
      "[INFO][2022/02/21 06:25:28 PM] Loading tracks/obj_type_1\n"
     ]
    },
    {
     "name": "stdout",
     "output_type": "stream",
     "text": [
      "ID GV0801_Pos4_14_RFP\n",
      "Loading GV0801/Pos4/\n",
      "Btrack version no.: 0.4.2\n"
     ]
    },
    {
     "name": "stderr",
     "output_type": "stream",
     "text": [
      "[INFO][2022/02/21 06:25:30 PM] Loading objects/obj_type_1 (315086, 5) (299584 filtered: area>=100)\n",
      "[INFO][2022/02/21 06:25:37 PM] Closing HDF file: /media/nathan/Transcend/Nathan/data/kraken/h2b/GV0801/Pos4/Pos4_aligned/HDF/segmented.hdf5\n",
      "[INFO][2022/02/21 06:25:37 PM] Opening HDF file: /media/nathan/Transcend/Nathan/data/kraken/h2b/GV0801/Pos4/Pos4_aligned/HDF/segmented.hdf5...\n",
      "[INFO][2022/02/21 06:25:37 PM] Loading tracks/obj_type_2\n",
      "[INFO][2022/02/21 06:25:37 PM] Loading objects/obj_type_2 (60246, 5) (49441 filtered: area>=100)\n",
      "[INFO][2022/02/21 06:25:38 PM] Closing HDF file: /media/nathan/Transcend/Nathan/data/kraken/h2b/GV0801/Pos4/Pos4_aligned/HDF/segmented.hdf5\n"
     ]
    },
    {
     "name": "stdout",
     "output_type": "stream",
     "text": [
      "Track information loaded and ordered according to cell type (WT IDs >0> Scr IDs)\n",
      "Loaded GV0801/Pos4/\n",
      "ID GV0801_Pos4_392_RFP\n",
      "ID GV0801_Pos4_373_RFP\n",
      "ID GV0801_Pos4_37_RFP\n",
      "ID GV0801_Pos4_280_RFP\n",
      "ID GV0801_Pos4_416_RFP\n",
      "ID GV0801_Pos4_374_RFP\n",
      "ID GV0801_Pos4_580_RFP\n",
      "ID GV0801_Pos4_25_RFP\n",
      "ID GV0801_Pos4_149_RFP\n",
      "ID GV0801_Pos4_10_RFP\n",
      "ID GV0801_Pos4_535_RFP\n",
      "ID GV0801_Pos4_487_RFP\n",
      "ID GV0801_Pos4_503_RFP\n"
     ]
    },
    {
     "name": "stderr",
     "output_type": "stream",
     "text": [
      "[INFO][2022/02/21 06:27:50 PM] Opening HDF file: /media/nathan/Transcend/Nathan/data/kraken/h2b/GV0802/Pos4/Pos4_aligned/HDF/segmented.hdf5...\n",
      "[INFO][2022/02/21 06:27:50 PM] Loading tracks/obj_type_1\n"
     ]
    },
    {
     "name": "stdout",
     "output_type": "stream",
     "text": [
      "ID GV0802_Pos4_23_RFP\n",
      "Loading GV0802/Pos4/\n",
      "Btrack version no.: 0.4.2\n"
     ]
    },
    {
     "name": "stderr",
     "output_type": "stream",
     "text": [
      "[INFO][2022/02/21 06:27:53 PM] Loading objects/obj_type_1 (351066, 5) (338199 filtered: area>=100)\n",
      "[INFO][2022/02/21 06:27:58 PM] Closing HDF file: /media/nathan/Transcend/Nathan/data/kraken/h2b/GV0802/Pos4/Pos4_aligned/HDF/segmented.hdf5\n",
      "[INFO][2022/02/21 06:27:58 PM] Opening HDF file: /media/nathan/Transcend/Nathan/data/kraken/h2b/GV0802/Pos4/Pos4_aligned/HDF/segmented.hdf5...\n",
      "[INFO][2022/02/21 06:27:58 PM] Loading tracks/obj_type_2\n",
      "[INFO][2022/02/21 06:27:58 PM] Loading objects/obj_type_2 (32989, 5) (27879 filtered: area>=100)\n",
      "[INFO][2022/02/21 06:27:59 PM] Closing HDF file: /media/nathan/Transcend/Nathan/data/kraken/h2b/GV0802/Pos4/Pos4_aligned/HDF/segmented.hdf5\n"
     ]
    },
    {
     "name": "stdout",
     "output_type": "stream",
     "text": [
      "Track information loaded and ordered according to cell type (WT IDs >0> Scr IDs)\n",
      "Loaded GV0802/Pos4/\n",
      "ID GV0802_Pos4_28_RFP\n",
      "ID GV0802_Pos4_18_RFP\n",
      "ID GV0802_Pos4_12_RFP\n",
      "ID GV0802_Pos4_198_RFP\n",
      "ID GV0802_Pos4_275_RFP\n",
      "ID GV0802_Pos4_245_RFP\n",
      "ID GV0802_Pos4_353_RFP\n",
      "ID GV0802_Pos4_272_RFP\n",
      "ID GV0802_Pos4_276_RFP\n",
      "ID GV0802_Pos4_3_RFP\n",
      "ID GV0802_Pos4_31_RFP\n"
     ]
    },
    {
     "name": "stderr",
     "output_type": "stream",
     "text": [
      "[INFO][2022/02/21 06:29:45 PM] Opening HDF file: /media/nathan/Transcend/Nathan/data/kraken/h2b/GV0805/Pos4/Pos4_aligned/HDF/segmented.hdf5...\n",
      "[INFO][2022/02/21 06:29:45 PM] Loading tracks/obj_type_1\n"
     ]
    },
    {
     "name": "stdout",
     "output_type": "stream",
     "text": [
      "ID GV0805_Pos4_2_RFP\n",
      "Loading GV0805/Pos4/\n",
      "Btrack version no.: 0.4.2\n"
     ]
    },
    {
     "name": "stderr",
     "output_type": "stream",
     "text": [
      "[INFO][2022/02/21 06:29:48 PM] Loading objects/obj_type_1 (349354, 5) (331443 filtered: area>=100)\n",
      "[INFO][2022/02/21 06:29:53 PM] Closing HDF file: /media/nathan/Transcend/Nathan/data/kraken/h2b/GV0805/Pos4/Pos4_aligned/HDF/segmented.hdf5\n",
      "[INFO][2022/02/21 06:29:53 PM] Opening HDF file: /media/nathan/Transcend/Nathan/data/kraken/h2b/GV0805/Pos4/Pos4_aligned/HDF/segmented.hdf5...\n",
      "[INFO][2022/02/21 06:29:53 PM] Loading tracks/obj_type_2\n",
      "[INFO][2022/02/21 06:29:54 PM] Loading objects/obj_type_2 (54322, 5) (47931 filtered: area>=100)\n",
      "[INFO][2022/02/21 06:29:55 PM] Closing HDF file: /media/nathan/Transcend/Nathan/data/kraken/h2b/GV0805/Pos4/Pos4_aligned/HDF/segmented.hdf5\n"
     ]
    },
    {
     "name": "stdout",
     "output_type": "stream",
     "text": [
      "Track information loaded and ordered according to cell type (WT IDs >0> Scr IDs)\n",
      "Loaded GV0805/Pos4/\n",
      "ID GV0805_Pos4_33_RFP\n",
      "ID GV0805_Pos4_327_RFP\n",
      "ID GV0805_Pos4_434_RFP\n",
      "ID GV0805_Pos4_433_RFP\n",
      "ID GV0805_Pos4_405_RFP\n",
      "ID GV0805_Pos4_303_RFP\n",
      "ID GV0805_Pos4_454_RFP\n",
      "ID GV0805_Pos4_453_RFP\n",
      "ID GV0805_Pos4_471_RFP\n",
      "ID GV0805_Pos4_305_RFP\n",
      "ID GV0805_Pos4_468_RFP\n",
      "ID GV0805_Pos4_374_RFP\n",
      "ID GV0805_Pos4_302_RFP\n",
      "ID GV0805_Pos4_701_RFP\n",
      "ID GV0805_Pos4_702_RFP\n",
      "ID GV0805_Pos4_592_RFP\n",
      "ID GV0805_Pos4_373_RFP\n",
      "ID GV0805_Pos4_745_RFP\n",
      "ID GV0805_Pos4_806_RFP\n",
      "ID GV0805_Pos4_29_RFP\n",
      "ID GV0805_Pos4_30_RFP\n",
      "ID GV0805_Pos4_84_RFP\n"
     ]
    },
    {
     "name": "stderr",
     "output_type": "stream",
     "text": [
      "[INFO][2022/02/21 06:33:31 PM] Opening HDF file: /media/nathan/Transcend/Nathan/data/kraken/h2b/GV0806/Pos4/Pos4_aligned/HDF/segmented.hdf5...\n",
      "[INFO][2022/02/21 06:33:31 PM] Loading tracks/obj_type_1\n"
     ]
    },
    {
     "name": "stdout",
     "output_type": "stream",
     "text": [
      "ID GV0806_Pos4_2_RFP\n",
      "Loading GV0806/Pos4/\n",
      "Btrack version no.: 0.4.2\n"
     ]
    },
    {
     "name": "stderr",
     "output_type": "stream",
     "text": [
      "[INFO][2022/02/21 06:33:35 PM] Loading objects/obj_type_1 (509105, 5) (489414 filtered: area>=100)\n",
      "[INFO][2022/02/21 06:33:41 PM] Closing HDF file: /media/nathan/Transcend/Nathan/data/kraken/h2b/GV0806/Pos4/Pos4_aligned/HDF/segmented.hdf5\n",
      "[INFO][2022/02/21 06:33:41 PM] Opening HDF file: /media/nathan/Transcend/Nathan/data/kraken/h2b/GV0806/Pos4/Pos4_aligned/HDF/segmented.hdf5...\n",
      "[INFO][2022/02/21 06:33:41 PM] Loading tracks/obj_type_2\n",
      "[INFO][2022/02/21 06:33:42 PM] Loading objects/obj_type_2 (68404, 5) (59567 filtered: area>=100)\n",
      "[INFO][2022/02/21 06:33:43 PM] Closing HDF file: /media/nathan/Transcend/Nathan/data/kraken/h2b/GV0806/Pos4/Pos4_aligned/HDF/segmented.hdf5\n"
     ]
    },
    {
     "name": "stdout",
     "output_type": "stream",
     "text": [
      "Track information loaded and ordered according to cell type (WT IDs >0> Scr IDs)\n",
      "Loaded GV0806/Pos4/\n",
      "ID GV0806_Pos4_51_RFP\n",
      "ID GV0806_Pos4_242_RFP\n",
      "ID GV0806_Pos4_156_RFP\n",
      "ID GV0806_Pos4_233_RFP\n",
      "ID GV0806_Pos4_337_RFP\n",
      "ID GV0806_Pos4_455_RFP\n",
      "ID GV0806_Pos4_415_RFP\n",
      "ID GV0806_Pos4_479_RFP\n",
      "ID GV0806_Pos4_409_RFP\n",
      "ID GV0806_Pos4_408_RFP\n",
      "ID GV0806_Pos4_26_RFP\n",
      "ID GV0806_Pos4_32_RFP\n",
      "ID GV0806_Pos4_308_RFP\n",
      "ID GV0806_Pos4_276_RFP\n",
      "ID GV0806_Pos4_285_RFP\n",
      "ID GV0806_Pos4_608_RFP\n",
      "ID GV0806_Pos4_560_RFP\n",
      "ID GV0806_Pos4_665_RFP\n",
      "ID GV0806_Pos4_664_RFP\n",
      "ID GV0806_Pos4_331_RFP\n",
      "ID GV0806_Pos4_138_RFP\n",
      "ID GV0806_Pos4_284_RFP\n",
      "ID GV0806_Pos4_682_RFP\n",
      "ID GV0806_Pos4_752_RFP\n"
     ]
    },
    {
     "name": "stderr",
     "output_type": "stream",
     "text": [
      "[INFO][2022/02/21 06:39:02 PM] Opening HDF file: /media/nathan/Transcend/Nathan/data/kraken/h2b/GV0807/Pos4/Pos4_aligned/HDF/segmented.hdf5...\n",
      "[INFO][2022/02/21 06:39:02 PM] Loading tracks/obj_type_1\n"
     ]
    },
    {
     "name": "stdout",
     "output_type": "stream",
     "text": [
      "ID GV0807_Pos4_12_RFP\n",
      "Loading GV0807/Pos4/\n",
      "Btrack version no.: 0.4.2\n"
     ]
    },
    {
     "name": "stderr",
     "output_type": "stream",
     "text": [
      "[INFO][2022/02/21 06:39:04 PM] Loading objects/obj_type_1 (313526, 5) (300454 filtered: area>=100)\n",
      "[INFO][2022/02/21 06:39:09 PM] Closing HDF file: /media/nathan/Transcend/Nathan/data/kraken/h2b/GV0807/Pos4/Pos4_aligned/HDF/segmented.hdf5\n",
      "[INFO][2022/02/21 06:39:09 PM] Opening HDF file: /media/nathan/Transcend/Nathan/data/kraken/h2b/GV0807/Pos4/Pos4_aligned/HDF/segmented.hdf5...\n",
      "[INFO][2022/02/21 06:39:09 PM] Loading tracks/obj_type_2\n",
      "[INFO][2022/02/21 06:39:09 PM] Loading objects/obj_type_2 (38098, 5) (31521 filtered: area>=100)\n",
      "[INFO][2022/02/21 06:39:10 PM] Closing HDF file: /media/nathan/Transcend/Nathan/data/kraken/h2b/GV0807/Pos4/Pos4_aligned/HDF/segmented.hdf5\n"
     ]
    },
    {
     "name": "stdout",
     "output_type": "stream",
     "text": [
      "Track information loaded and ordered according to cell type (WT IDs >0> Scr IDs)\n",
      "Loaded GV0807/Pos4/\n",
      "ID GV0807_Pos4_16_RFP\n",
      "ID GV0807_Pos4_23_RFP\n",
      "ID GV0807_Pos4_276_RFP\n",
      "ID GV0807_Pos4_345_RFP\n",
      "ID GV0807_Pos4_330_RFP\n",
      "ID GV0807_Pos4_191_RFP\n",
      "ID GV0807_Pos4_429_RFP\n",
      "ID GV0807_Pos4_50_RFP\n",
      "ID GV0807_Pos4_382_RFP\n",
      "ID GV0807_Pos4_381_RFP\n",
      "ID GV0807_Pos4_190_RFP\n",
      "ID GV0807_Pos4_377_RFP\n",
      "ID GV0807_Pos4_169_RFP\n"
     ]
    },
    {
     "name": "stderr",
     "output_type": "stream",
     "text": [
      "[INFO][2022/02/21 06:41:26 PM] Opening HDF file: /media/nathan/Transcend/Nathan/data/kraken/h2b/GV0820/Pos0/Pos0_aligned/HDF/segmented.hdf5...\n",
      "[INFO][2022/02/21 06:41:26 PM] Loading tracks/obj_type_1\n"
     ]
    },
    {
     "name": "stdout",
     "output_type": "stream",
     "text": [
      "ID GV0820_Pos0_268_RFP\n",
      "Loading GV0820/Pos0/\n",
      "Btrack version no.: 0.4.2\n"
     ]
    },
    {
     "name": "stderr",
     "output_type": "stream",
     "text": [
      "[INFO][2022/02/21 06:41:27 PM] Loading objects/obj_type_1 (204895, 5) (190534 filtered: area>=100)\n",
      "[INFO][2022/02/21 06:41:30 PM] Closing HDF file: /media/nathan/Transcend/Nathan/data/kraken/h2b/GV0820/Pos0/Pos0_aligned/HDF/segmented.hdf5\n",
      "[INFO][2022/02/21 06:41:30 PM] Opening HDF file: /media/nathan/Transcend/Nathan/data/kraken/h2b/GV0820/Pos0/Pos0_aligned/HDF/segmented.hdf5...\n",
      "[INFO][2022/02/21 06:41:30 PM] Loading tracks/obj_type_2\n",
      "[INFO][2022/02/21 06:41:30 PM] Loading objects/obj_type_2 (70432, 5) (57621 filtered: area>=100)\n",
      "[INFO][2022/02/21 06:41:31 PM] Closing HDF file: /media/nathan/Transcend/Nathan/data/kraken/h2b/GV0820/Pos0/Pos0_aligned/HDF/segmented.hdf5\n"
     ]
    },
    {
     "name": "stdout",
     "output_type": "stream",
     "text": [
      "Track information loaded and ordered according to cell type (WT IDs >0> Scr IDs)\n",
      "Loaded GV0820/Pos0/\n",
      "ID GV0820_Pos0_267_RFP\n",
      "ID GV0820_Pos0_7_RFP\n",
      "ID GV0820_Pos0_580_RFP\n",
      "ID GV0820_Pos0_668_RFP\n",
      "ID GV0820_Pos0_667_RFP\n",
      "ID GV0820_Pos0_793_RFP\n",
      "ID GV0820_Pos0_500_RFP\n",
      "ID GV0820_Pos0_703_RFP\n",
      "ID GV0820_Pos0_11_RFP\n",
      "ID GV0820_Pos0_794_RFP\n",
      "ID GV0820_Pos0_579_RFP\n",
      "ID GV0820_Pos0_837_RFP\n",
      "ID GV0820_Pos0_93_RFP\n",
      "ID GV0820_Pos0_509_RFP\n",
      "ID GV0820_Pos0_750_RFP\n",
      "ID GV0820_Pos0_995_RFP\n",
      "ID GV0820_Pos0_994_RFP\n",
      "ID GV0820_Pos0_484_RFP\n",
      "ID GV0820_Pos0_845_RFP\n",
      "ID GV0820_Pos0_485_RFP\n",
      "ID GV0820_Pos0_145_RFP\n",
      "ID GV0820_Pos0_264_RFP\n"
     ]
    },
    {
     "name": "stderr",
     "output_type": "stream",
     "text": [
      "[INFO][2022/02/21 06:43:58 PM] Opening HDF file: /media/nathan/Transcend/Nathan/data/kraken/h2b/GV0820/Pos1/Pos1_aligned/HDF/segmented.hdf5...\n",
      "[INFO][2022/02/21 06:43:58 PM] Loading tracks/obj_type_1\n"
     ]
    },
    {
     "name": "stdout",
     "output_type": "stream",
     "text": [
      "ID GV0820_Pos1_553_RFP\n",
      "Loading GV0820/Pos1/\n",
      "Btrack version no.: 0.4.2\n"
     ]
    },
    {
     "name": "stderr",
     "output_type": "stream",
     "text": [
      "[INFO][2022/02/21 06:44:00 PM] Loading objects/obj_type_1 (205829, 5) (191939 filtered: area>=100)\n",
      "[INFO][2022/02/21 06:44:02 PM] Closing HDF file: /media/nathan/Transcend/Nathan/data/kraken/h2b/GV0820/Pos1/Pos1_aligned/HDF/segmented.hdf5\n",
      "[INFO][2022/02/21 06:44:02 PM] Opening HDF file: /media/nathan/Transcend/Nathan/data/kraken/h2b/GV0820/Pos1/Pos1_aligned/HDF/segmented.hdf5...\n",
      "[INFO][2022/02/21 06:44:02 PM] Loading tracks/obj_type_2\n",
      "[INFO][2022/02/21 06:44:03 PM] Loading objects/obj_type_2 (93902, 5) (77327 filtered: area>=100)\n",
      "[INFO][2022/02/21 06:44:04 PM] Closing HDF file: /media/nathan/Transcend/Nathan/data/kraken/h2b/GV0820/Pos1/Pos1_aligned/HDF/segmented.hdf5\n"
     ]
    },
    {
     "name": "stdout",
     "output_type": "stream",
     "text": [
      "Track information loaded and ordered according to cell type (WT IDs >0> Scr IDs)\n",
      "Loaded GV0820/Pos1/\n",
      "ID GV0820_Pos1_16_RFP\n",
      "ID GV0820_Pos1_427_RFP\n",
      "ID GV0820_Pos1_489_RFP\n",
      "ID GV0820_Pos1_671_RFP\n",
      "ID GV0820_Pos1_990_RFP\n",
      "ID GV0820_Pos1_970_RFP\n",
      "ID GV0820_Pos1_902_RFP\n",
      "ID GV0820_Pos1_817_RFP\n",
      "ID GV0820_Pos1_895_RFP\n",
      "ID GV0820_Pos1_785_RFP\n",
      "ID GV0820_Pos1_499_RFP\n",
      "ID GV0820_Pos1_704_RFP\n",
      "ID GV0820_Pos1_672_RFP\n",
      "ID GV0820_Pos1_1516_RFP\n",
      "ID GV0820_Pos1_1500_RFP\n",
      "ID GV0820_Pos1_1570_RFP\n",
      "ID GV0820_Pos1_1104_RFP\n",
      "ID GV0820_Pos1_813_RFP\n",
      "ID GV0820_Pos1_1450_RFP\n",
      "ID GV0820_Pos1_1038_RFP\n",
      "ID GV0820_Pos1_1411_RFP\n"
     ]
    },
    {
     "name": "stderr",
     "output_type": "stream",
     "text": [
      "[INFO][2022/02/21 06:45:53 PM] Opening HDF file: /media/nathan/Transcend/Nathan/data/kraken/h2b/GV0820/Pos2/Pos2_aligned/HDF/segmented.hdf5...\n",
      "[INFO][2022/02/21 06:45:53 PM] Loading tracks/obj_type_1\n"
     ]
    },
    {
     "name": "stdout",
     "output_type": "stream",
     "text": [
      "ID GV0820_Pos2_29_RFP\n",
      "Loading GV0820/Pos2/\n",
      "Btrack version no.: 0.4.2\n"
     ]
    },
    {
     "name": "stderr",
     "output_type": "stream",
     "text": [
      "[INFO][2022/02/21 06:45:54 PM] Loading objects/obj_type_1 (187834, 5) (174544 filtered: area>=100)\n",
      "[INFO][2022/02/21 06:45:57 PM] Closing HDF file: /media/nathan/Transcend/Nathan/data/kraken/h2b/GV0820/Pos2/Pos2_aligned/HDF/segmented.hdf5\n",
      "[INFO][2022/02/21 06:45:57 PM] Opening HDF file: /media/nathan/Transcend/Nathan/data/kraken/h2b/GV0820/Pos2/Pos2_aligned/HDF/segmented.hdf5...\n",
      "[INFO][2022/02/21 06:45:57 PM] Loading tracks/obj_type_2\n",
      "[INFO][2022/02/21 06:45:57 PM] Loading objects/obj_type_2 (73959, 5) (62237 filtered: area>=100)\n",
      "[INFO][2022/02/21 06:45:58 PM] Closing HDF file: /media/nathan/Transcend/Nathan/data/kraken/h2b/GV0820/Pos2/Pos2_aligned/HDF/segmented.hdf5\n"
     ]
    },
    {
     "name": "stdout",
     "output_type": "stream",
     "text": [
      "Track information loaded and ordered according to cell type (WT IDs >0> Scr IDs)\n",
      "Loaded GV0820/Pos2/\n",
      "ID GV0820_Pos2_47_RFP\n",
      "ID GV0820_Pos2_94_RFP\n",
      "ID GV0820_Pos2_256_RFP\n",
      "ID GV0820_Pos2_375_RFP\n",
      "ID GV0820_Pos2_377_RFP\n",
      "ID GV0820_Pos2_317_RFP\n",
      "ID GV0820_Pos2_25_RFP\n",
      "ID GV0820_Pos2_438_RFP\n",
      "ID GV0820_Pos2_43_RFP\n",
      "ID GV0820_Pos2_54_RFP\n",
      "ID GV0820_Pos2_439_RFP\n",
      "ID GV0820_Pos2_422_RFP\n",
      "ID GV0820_Pos2_423_RFP\n",
      "ID GV0820_Pos2_687_RFP\n",
      "ID GV0820_Pos2_686_RFP\n",
      "ID GV0820_Pos2_659_RFP\n",
      "ID GV0820_Pos2_50_RFP\n",
      "ID GV0820_Pos2_700_RFP\n",
      "ID GV0820_Pos2_441_RFP\n",
      "ID GV0820_Pos2_51_RFP\n",
      "ID GV0820_Pos2_793_RFP\n",
      "ID GV0820_Pos2_258_RFP\n"
     ]
    },
    {
     "name": "stderr",
     "output_type": "stream",
     "text": [
      "[INFO][2022/02/21 06:47:44 PM] Opening HDF file: /media/nathan/Transcend/Nathan/data/kraken/h2b/GV0820/Pos3/Pos3_aligned/HDF/segmented.hdf5...\n",
      "[INFO][2022/02/21 06:47:44 PM] Loading tracks/obj_type_1\n"
     ]
    },
    {
     "name": "stdout",
     "output_type": "stream",
     "text": [
      "ID GV0820_Pos3_40_RFP\n",
      "Loading GV0820/Pos3/\n",
      "Btrack version no.: 0.4.2\n"
     ]
    },
    {
     "name": "stderr",
     "output_type": "stream",
     "text": [
      "[INFO][2022/02/21 06:47:45 PM] Loading objects/obj_type_1 (191590, 5) (179288 filtered: area>=100)\n",
      "[INFO][2022/02/21 06:47:48 PM] Closing HDF file: /media/nathan/Transcend/Nathan/data/kraken/h2b/GV0820/Pos3/Pos3_aligned/HDF/segmented.hdf5\n",
      "[INFO][2022/02/21 06:47:48 PM] Opening HDF file: /media/nathan/Transcend/Nathan/data/kraken/h2b/GV0820/Pos3/Pos3_aligned/HDF/segmented.hdf5...\n",
      "[INFO][2022/02/21 06:47:48 PM] Loading tracks/obj_type_2\n",
      "[INFO][2022/02/21 06:47:48 PM] Loading objects/obj_type_2 (65619, 5) (55005 filtered: area>=100)\n",
      "[INFO][2022/02/21 06:47:49 PM] Closing HDF file: /media/nathan/Transcend/Nathan/data/kraken/h2b/GV0820/Pos3/Pos3_aligned/HDF/segmented.hdf5\n"
     ]
    },
    {
     "name": "stdout",
     "output_type": "stream",
     "text": [
      "Track information loaded and ordered according to cell type (WT IDs >0> Scr IDs)\n",
      "Loaded GV0820/Pos3/\n",
      "ID GV0820_Pos3_11_RFP\n",
      "ID GV0820_Pos3_8_RFP\n",
      "ID GV0820_Pos3_21_RFP\n",
      "ID GV0820_Pos3_376_RFP\n",
      "ID GV0820_Pos3_377_RFP\n",
      "ID GV0820_Pos3_10_RFP\n",
      "ID GV0820_Pos3_509_RFP\n",
      "ID GV0820_Pos3_545_RFP\n",
      "ID GV0820_Pos3_508_RFP\n",
      "ID GV0820_Pos3_400_RFP\n",
      "ID GV0820_Pos3_536_RFP\n",
      "ID GV0820_Pos3_535_RFP\n",
      "ID GV0820_Pos3_441_RFP\n",
      "ID GV0820_Pos3_544_RFP\n",
      "ID GV0820_Pos3_442_RFP\n",
      "ID GV0820_Pos3_747_RFP\n",
      "ID GV0820_Pos3_746_RFP\n",
      "ID GV0820_Pos3_38_RFP\n",
      "ID GV0820_Pos3_6_RFP\n",
      "ID GV0820_Pos3_19_RFP\n"
     ]
    },
    {
     "name": "stderr",
     "output_type": "stream",
     "text": [
      "[INFO][2022/02/21 06:49:42 PM] Opening HDF file: /media/nathan/Transcend/Nathan/data/kraken/h2b/GV0820/Pos4/Pos4_aligned/HDF/segmented.hdf5...\n",
      "[INFO][2022/02/21 06:49:42 PM] Loading tracks/obj_type_1\n"
     ]
    },
    {
     "name": "stdout",
     "output_type": "stream",
     "text": [
      "ID GV0820_Pos4_354_RFP\n",
      "Loading GV0820/Pos4/\n",
      "Btrack version no.: 0.4.2\n"
     ]
    },
    {
     "name": "stderr",
     "output_type": "stream",
     "text": [
      "[INFO][2022/02/21 06:49:43 PM] Loading objects/obj_type_1 (189653, 5) (175798 filtered: area>=100)\n",
      "[INFO][2022/02/21 06:49:46 PM] Closing HDF file: /media/nathan/Transcend/Nathan/data/kraken/h2b/GV0820/Pos4/Pos4_aligned/HDF/segmented.hdf5\n",
      "[INFO][2022/02/21 06:49:46 PM] Opening HDF file: /media/nathan/Transcend/Nathan/data/kraken/h2b/GV0820/Pos4/Pos4_aligned/HDF/segmented.hdf5...\n",
      "[INFO][2022/02/21 06:49:46 PM] Loading tracks/obj_type_2\n",
      "[INFO][2022/02/21 06:49:46 PM] Loading objects/obj_type_2 (82474, 5) (72948 filtered: area>=100)\n",
      "[INFO][2022/02/21 06:49:47 PM] Closing HDF file: /media/nathan/Transcend/Nathan/data/kraken/h2b/GV0820/Pos4/Pos4_aligned/HDF/segmented.hdf5\n"
     ]
    },
    {
     "name": "stdout",
     "output_type": "stream",
     "text": [
      "Track information loaded and ordered according to cell type (WT IDs >0> Scr IDs)\n",
      "Loaded GV0820/Pos4/\n",
      "ID GV0820_Pos4_398_RFP\n",
      "ID GV0820_Pos4_355_RFP\n",
      "ID GV0820_Pos4_464_RFP\n",
      "ID GV0820_Pos4_88_RFP\n",
      "ID GV0820_Pos4_1_RFP\n",
      "ID GV0820_Pos4_25_RFP\n",
      "ID GV0820_Pos4_535_RFP\n",
      "ID GV0820_Pos4_534_RFP\n",
      "ID GV0820_Pos4_418_RFP\n",
      "ID GV0820_Pos4_417_RFP\n",
      "ID GV0820_Pos4_399_RFP\n",
      "ID GV0820_Pos4_743_RFP\n",
      "ID GV0820_Pos4_814_RFP\n",
      "ID GV0820_Pos4_813_RFP\n",
      "ID GV0820_Pos4_796_RFP\n",
      "ID GV0820_Pos4_53_RFP\n",
      "ID GV0820_Pos4_779_RFP\n",
      "ID GV0820_Pos4_754_RFP\n",
      "ID GV0820_Pos4_545_RFP\n",
      "ID GV0820_Pos4_744_RFP\n",
      "ID GV0820_Pos4_544_RFP\n",
      "ID GV0820_Pos4_883_RFP\n",
      "ID GV0820_Pos4_755_RFP\n"
     ]
    },
    {
     "name": "stderr",
     "output_type": "stream",
     "text": [
      "[INFO][2022/02/21 06:51:45 PM] Opening HDF file: /media/nathan/Transcend/Nathan/data/kraken/h2b/GV0820/Pos5/Pos5_aligned/HDF/segmented.hdf5...\n",
      "[INFO][2022/02/21 06:51:45 PM] Loading tracks/obj_type_1\n"
     ]
    },
    {
     "name": "stdout",
     "output_type": "stream",
     "text": [
      "ID GV0820_Pos5_48_RFP\n",
      "Loading GV0820/Pos5/\n",
      "Btrack version no.: 0.4.2\n"
     ]
    },
    {
     "name": "stderr",
     "output_type": "stream",
     "text": [
      "[INFO][2022/02/21 06:51:47 PM] Loading objects/obj_type_1 (168718, 5) (157112 filtered: area>=100)\n",
      "[INFO][2022/02/21 06:51:49 PM] Closing HDF file: /media/nathan/Transcend/Nathan/data/kraken/h2b/GV0820/Pos5/Pos5_aligned/HDF/segmented.hdf5\n",
      "[INFO][2022/02/21 06:51:49 PM] Opening HDF file: /media/nathan/Transcend/Nathan/data/kraken/h2b/GV0820/Pos5/Pos5_aligned/HDF/segmented.hdf5...\n",
      "[INFO][2022/02/21 06:51:49 PM] Loading tracks/obj_type_2\n",
      "[INFO][2022/02/21 06:51:50 PM] Loading objects/obj_type_2 (75424, 5) (61898 filtered: area>=100)\n",
      "[INFO][2022/02/21 06:51:51 PM] Closing HDF file: /media/nathan/Transcend/Nathan/data/kraken/h2b/GV0820/Pos5/Pos5_aligned/HDF/segmented.hdf5\n"
     ]
    },
    {
     "name": "stdout",
     "output_type": "stream",
     "text": [
      "Track information loaded and ordered according to cell type (WT IDs >0> Scr IDs)\n",
      "Loaded GV0820/Pos5/\n",
      "ID GV0820_Pos5_3_RFP\n",
      "ID GV0820_Pos5_429_RFP\n",
      "ID GV0820_Pos5_11_RFP\n",
      "ID GV0820_Pos5_410_RFP\n",
      "ID GV0820_Pos5_417_RFP\n",
      "ID GV0820_Pos5_305_RFP\n",
      "ID GV0820_Pos5_343_RFP\n",
      "ID GV0820_Pos5_31_RFP\n",
      "ID GV0820_Pos5_463_RFP\n",
      "ID GV0820_Pos5_38_RFP\n",
      "ID GV0820_Pos5_90_RFP\n",
      "ID GV0820_Pos5_395_RFP\n",
      "ID GV0820_Pos5_266_RFP\n",
      "ID GV0820_Pos5_34_RFP\n",
      "ID GV0820_Pos5_44_RFP\n",
      "ID GV0820_Pos5_420_RFP\n",
      "ID GV0820_Pos5_10_RFP\n",
      "ID GV0820_Pos5_445_RFP\n",
      "ID GV0820_Pos5_302_RFP\n",
      "ID GV0820_Pos5_562_RFP\n",
      "ID GV0820_Pos5_972_RFP\n"
     ]
    },
    {
     "name": "stderr",
     "output_type": "stream",
     "text": [
      "[INFO][2022/02/21 06:53:48 PM] Opening HDF file: /media/nathan/Transcend/Nathan/data/kraken/h2b/GV0796/Pos5/Pos5_aligned/HDF/segmented.hdf5...\n",
      "[INFO][2022/02/21 06:53:48 PM] Loading tracks/obj_type_1\n"
     ]
    },
    {
     "name": "stdout",
     "output_type": "stream",
     "text": [
      "ID GV0796_Pos5_504_RFP\n",
      "Loading GV0796/Pos5/\n",
      "Btrack version no.: 0.4.2\n"
     ]
    },
    {
     "name": "stderr",
     "output_type": "stream",
     "text": [
      "[INFO][2022/02/21 06:53:48 PM] Loading objects/obj_type_1 (111905, 5) (102407 filtered: area>=100)\n",
      "[INFO][2022/02/21 06:53:50 PM] Closing HDF file: /media/nathan/Transcend/Nathan/data/kraken/h2b/GV0796/Pos5/Pos5_aligned/HDF/segmented.hdf5\n",
      "[INFO][2022/02/21 06:53:50 PM] Opening HDF file: /media/nathan/Transcend/Nathan/data/kraken/h2b/GV0796/Pos5/Pos5_aligned/HDF/segmented.hdf5...\n",
      "[INFO][2022/02/21 06:53:50 PM] Loading tracks/obj_type_2\n",
      "[INFO][2022/02/21 06:53:50 PM] Loading objects/obj_type_2 (125793, 5) (96319 filtered: area>=100)\n",
      "[INFO][2022/02/21 06:53:52 PM] Closing HDF file: /media/nathan/Transcend/Nathan/data/kraken/h2b/GV0796/Pos5/Pos5_aligned/HDF/segmented.hdf5\n"
     ]
    },
    {
     "name": "stdout",
     "output_type": "stream",
     "text": [
      "Track information loaded and ordered according to cell type (WT IDs >0> Scr IDs)\n",
      "Loaded GV0796/Pos5/\n",
      "ID GV0796_Pos5_72_RFP\n",
      "ID GV0796_Pos5_943_RFP\n",
      "ID GV0796_Pos5_358_RFP\n",
      "ID GV0796_Pos5_651_RFP\n",
      "ID GV0796_Pos5_1365_RFP\n",
      "ID GV0796_Pos5_1006_RFP\n",
      "ID GV0796_Pos5_763_RFP\n",
      "ID GV0796_Pos5_1243_RFP\n",
      "ID GV0796_Pos5_1481_RFP\n",
      "ID GV0796_Pos5_1242_RFP\n",
      "ID GV0796_Pos5_88_RFP\n",
      "ID GV0796_Pos5_244_RFP\n",
      "ID GV0796_Pos5_56_RFP\n",
      "ID GV0796_Pos5_583_RFP\n",
      "ID GV0796_Pos5_1522_RFP\n",
      "ID GV0796_Pos5_1521_RFP\n",
      "ID GV0796_Pos5_1324_RFP\n",
      "ID GV0796_Pos5_996_RFP\n",
      "ID GV0796_Pos5_73_RFP\n",
      "ID GV0796_Pos5_103_RFP\n",
      "ID GV0796_Pos5_80_RFP\n",
      "ID GV0796_Pos5_17_RFP\n",
      "ID GV0796_Pos5_436_RFP\n",
      "ID GV0796_Pos5_928_RFP\n",
      "ID GV0796_Pos5_293_RFP\n",
      "ID GV0796_Pos5_857_RFP\n",
      "ID GV0796_Pos5_858_RFP\n",
      "ID GV0796_Pos5_673_RFP\n",
      "ID GV0796_Pos5_1188_RFP\n",
      "ID GV0796_Pos5_11_RFP\n",
      "ID GV0796_Pos5_12_RFP\n",
      "ID GV0796_Pos5_175_RFP\n",
      "ID GV0796_Pos5_470_RFP\n",
      "ID GV0796_Pos5_527_RFP\n",
      "ID GV0796_Pos5_459_RFP\n",
      "ID GV0796_Pos5_687_RFP\n",
      "ID GV0796_Pos5_718_RFP\n",
      "ID GV0796_Pos5_30_RFP\n",
      "ID GV0796_Pos5_613_RFP\n",
      "ID GV0796_Pos5_717_RFP\n",
      "ID GV0796_Pos5_404_RFP\n",
      "ID GV0796_Pos5_37_RFP\n",
      "ID GV0796_Pos5_281_RFP\n",
      "ID GV0796_Pos5_235_RFP\n",
      "ID GV0796_Pos5_828_RFP\n",
      "ID GV0796_Pos5_1070_RFP\n",
      "ID GV0796_Pos5_703_RFP\n",
      "ID GV0796_Pos5_704_RFP\n",
      "ID GV0796_Pos5_1509_RFP\n",
      "ID GV0796_Pos5_1510_RFP\n",
      "ID GV0796_Pos5_979_RFP\n",
      "ID GV0796_Pos5_930_RFP\n",
      "ID GV0796_Pos5_1455_RFP\n",
      "ID GV0796_Pos5_1456_RFP\n",
      "ID GV0796_Pos5_1458_RFP\n",
      "ID GV0796_Pos5_1581_RFP\n"
     ]
    },
    {
     "name": "stderr",
     "output_type": "stream",
     "text": [
      "[INFO][2022/02/21 06:57:02 PM] Opening HDF file: /media/nathan/Transcend/Nathan/data/kraken/h2b/GV0796/Pos6/Pos6_aligned/HDF/segmented.hdf5...\n",
      "[INFO][2022/02/21 06:57:02 PM] Loading tracks/obj_type_1\n"
     ]
    },
    {
     "name": "stdout",
     "output_type": "stream",
     "text": [
      "ID GV0796_Pos6_570_RFP\n",
      "Loading GV0796/Pos6/\n",
      "Btrack version no.: 0.4.2\n"
     ]
    },
    {
     "name": "stderr",
     "output_type": "stream",
     "text": [
      "[INFO][2022/02/21 06:57:03 PM] Loading objects/obj_type_1 (70354, 5) (57413 filtered: area>=100)\n",
      "[INFO][2022/02/21 06:57:04 PM] Closing HDF file: /media/nathan/Transcend/Nathan/data/kraken/h2b/GV0796/Pos6/Pos6_aligned/HDF/segmented.hdf5\n",
      "[INFO][2022/02/21 06:57:04 PM] Opening HDF file: /media/nathan/Transcend/Nathan/data/kraken/h2b/GV0796/Pos6/Pos6_aligned/HDF/segmented.hdf5...\n",
      "[INFO][2022/02/21 06:57:04 PM] Loading tracks/obj_type_2\n",
      "[INFO][2022/02/21 06:57:04 PM] Loading objects/obj_type_2 (88276, 5) (68435 filtered: area>=100)\n",
      "[INFO][2022/02/21 06:57:05 PM] Closing HDF file: /media/nathan/Transcend/Nathan/data/kraken/h2b/GV0796/Pos6/Pos6_aligned/HDF/segmented.hdf5\n"
     ]
    },
    {
     "name": "stdout",
     "output_type": "stream",
     "text": [
      "Track information loaded and ordered according to cell type (WT IDs >0> Scr IDs)\n",
      "Loaded GV0796/Pos6/\n",
      "ID GV0796_Pos6_569_RFP\n",
      "ID GV0796_Pos6_60_RFP\n",
      "ID GV0796_Pos6_57_RFP\n",
      "ID GV0796_Pos6_344_RFP\n",
      "ID GV0796_Pos6_39_RFP\n",
      "ID GV0796_Pos6_664_RFP\n",
      "ID GV0796_Pos6_565_RFP\n",
      "ID GV0796_Pos6_566_RFP\n",
      "ID GV0796_Pos6_841_RFP\n",
      "ID GV0796_Pos6_541_RFP\n",
      "ID GV0796_Pos6_839_RFP\n",
      "ID GV0796_Pos6_579_RFP\n",
      "ID GV0796_Pos6_542_RFP\n",
      "ID GV0796_Pos6_201_RFP\n",
      "ID GV0796_Pos6_881_RFP\n",
      "ID GV0796_Pos6_7_RFP\n",
      "ID GV0796_Pos6_638_RFP\n",
      "ID GV0796_Pos6_1063_RFP\n",
      "ID GV0796_Pos6_30_RFP\n",
      "ID GV0796_Pos6_86_RFP\n",
      "ID GV0796_Pos6_1022_RFP\n",
      "ID GV0796_Pos6_1146_RFP\n",
      "ID GV0796_Pos6_885_RFP\n",
      "ID GV0796_Pos6_1021_RFP\n",
      "ID GV0796_Pos6_18_RFP\n"
     ]
    },
    {
     "name": "stderr",
     "output_type": "stream",
     "text": [
      "[INFO][2022/02/21 06:57:57 PM] Opening HDF file: /media/nathan/Transcend/Nathan/data/kraken/h2b/GV0797/Pos5/Pos5_aligned/HDF/segmented.hdf5...\n",
      "[INFO][2022/02/21 06:57:57 PM] Loading tracks/obj_type_1\n"
     ]
    },
    {
     "name": "stdout",
     "output_type": "stream",
     "text": [
      "ID GV0797_Pos5_20_RFP\n",
      "Loading GV0797/Pos5/\n",
      "Btrack version no.: 0.4.2\n"
     ]
    },
    {
     "name": "stderr",
     "output_type": "stream",
     "text": [
      "[INFO][2022/02/21 06:57:58 PM] Loading objects/obj_type_1 (83742, 5) (65837 filtered: area>=100)\n",
      "[INFO][2022/02/21 06:57:59 PM] Closing HDF file: /media/nathan/Transcend/Nathan/data/kraken/h2b/GV0797/Pos5/Pos5_aligned/HDF/segmented.hdf5\n",
      "[INFO][2022/02/21 06:57:59 PM] Opening HDF file: /media/nathan/Transcend/Nathan/data/kraken/h2b/GV0797/Pos5/Pos5_aligned/HDF/segmented.hdf5...\n",
      "[INFO][2022/02/21 06:57:59 PM] Loading tracks/obj_type_2\n",
      "[INFO][2022/02/21 06:57:59 PM] Loading objects/obj_type_2 (22517, 5) (15314 filtered: area>=100)\n",
      "[INFO][2022/02/21 06:57:59 PM] Closing HDF file: /media/nathan/Transcend/Nathan/data/kraken/h2b/GV0797/Pos5/Pos5_aligned/HDF/segmented.hdf5\n"
     ]
    },
    {
     "name": "stdout",
     "output_type": "stream",
     "text": [
      "Track information loaded and ordered according to cell type (WT IDs >0> Scr IDs)\n",
      "Loaded GV0797/Pos5/\n",
      "ID GV0797_Pos5_15_RFP\n",
      "ID GV0797_Pos5_13_RFP\n",
      "ID GV0797_Pos5_129_RFP\n",
      "ID GV0797_Pos5_65_RFP\n",
      "ID GV0797_Pos5_103_RFP\n",
      "ID GV0797_Pos5_6_RFP\n"
     ]
    },
    {
     "name": "stderr",
     "output_type": "stream",
     "text": [
      "[INFO][2022/02/21 06:58:15 PM] Opening HDF file: /media/nathan/Transcend/Nathan/data/kraken/h2b/GV0797/Pos6/Pos6_aligned/HDF/segmented.hdf5...\n",
      "[INFO][2022/02/21 06:58:15 PM] Loading tracks/obj_type_1\n"
     ]
    },
    {
     "name": "stdout",
     "output_type": "stream",
     "text": [
      "ID GV0797_Pos6_9_RFP\n",
      "Loading GV0797/Pos6/\n",
      "Btrack version no.: 0.4.2\n"
     ]
    },
    {
     "name": "stderr",
     "output_type": "stream",
     "text": [
      "[INFO][2022/02/21 06:58:16 PM] Loading objects/obj_type_1 (53866, 5) (44492 filtered: area>=100)\n",
      "[INFO][2022/02/21 06:58:16 PM] Closing HDF file: /media/nathan/Transcend/Nathan/data/kraken/h2b/GV0797/Pos6/Pos6_aligned/HDF/segmented.hdf5\n",
      "[INFO][2022/02/21 06:58:16 PM] Opening HDF file: /media/nathan/Transcend/Nathan/data/kraken/h2b/GV0797/Pos6/Pos6_aligned/HDF/segmented.hdf5...\n",
      "[INFO][2022/02/21 06:58:16 PM] Loading tracks/obj_type_2\n",
      "[INFO][2022/02/21 06:58:17 PM] Loading objects/obj_type_2 (60337, 5) (42952 filtered: area>=100)\n",
      "[INFO][2022/02/21 06:58:18 PM] Closing HDF file: /media/nathan/Transcend/Nathan/data/kraken/h2b/GV0797/Pos6/Pos6_aligned/HDF/segmented.hdf5\n"
     ]
    },
    {
     "name": "stdout",
     "output_type": "stream",
     "text": [
      "Track information loaded and ordered according to cell type (WT IDs >0> Scr IDs)\n",
      "Loaded GV0797/Pos6/\n",
      "ID GV0797_Pos6_55_RFP\n",
      "ID GV0797_Pos6_13_RFP\n",
      "ID GV0797_Pos6_268_RFP\n",
      "ID GV0797_Pos6_293_RFP\n",
      "ID GV0797_Pos6_110_RFP\n",
      "ID GV0797_Pos6_670_RFP\n",
      "ID GV0797_Pos6_745_RFP\n",
      "ID GV0797_Pos6_806_RFP\n",
      "ID GV0797_Pos6_805_RFP\n",
      "ID GV0797_Pos6_598_RFP\n",
      "ID GV0797_Pos6_10_RFP\n",
      "ID GV0797_Pos6_111_RFP\n",
      "ID GV0797_Pos6_748_RFP\n",
      "ID GV0797_Pos6_434_RFP\n",
      "ID GV0797_Pos6_11_RFP\n",
      "ID GV0797_Pos6_16_RFP\n",
      "ID GV0797_Pos6_357_RFP\n",
      "ID GV0797_Pos6_246_RFP\n",
      "ID GV0797_Pos6_531_RFP\n",
      "ID GV0797_Pos6_551_RFP\n",
      "ID GV0797_Pos6_53_RFP\n",
      "ID GV0797_Pos6_56_RFP\n",
      "ID GV0797_Pos6_46_RFP\n"
     ]
    },
    {
     "name": "stderr",
     "output_type": "stream",
     "text": [
      "[INFO][2022/02/21 06:58:51 PM] Opening HDF file: /media/nathan/Transcend/Nathan/data/kraken/h2b/GV0798/Pos5/Pos5_aligned/HDF/segmented.hdf5...\n",
      "[INFO][2022/02/21 06:58:51 PM] Loading tracks/obj_type_1\n"
     ]
    },
    {
     "name": "stdout",
     "output_type": "stream",
     "text": [
      "ID GV0798_Pos5_281_RFP\n",
      "Loading GV0798/Pos5/\n",
      "Btrack version no.: 0.4.2\n"
     ]
    },
    {
     "name": "stderr",
     "output_type": "stream",
     "text": [
      "[INFO][2022/02/21 06:58:51 PM] Loading objects/obj_type_1 (40829, 5) (33345 filtered: area>=100)\n",
      "[INFO][2022/02/21 06:58:51 PM] Closing HDF file: /media/nathan/Transcend/Nathan/data/kraken/h2b/GV0798/Pos5/Pos5_aligned/HDF/segmented.hdf5\n",
      "[INFO][2022/02/21 06:58:51 PM] Opening HDF file: /media/nathan/Transcend/Nathan/data/kraken/h2b/GV0798/Pos5/Pos5_aligned/HDF/segmented.hdf5...\n",
      "[INFO][2022/02/21 06:58:51 PM] Loading tracks/obj_type_2\n",
      "[INFO][2022/02/21 06:58:52 PM] Loading objects/obj_type_2 (62601, 5) (49976 filtered: area>=100)\n",
      "[INFO][2022/02/21 06:58:52 PM] Closing HDF file: /media/nathan/Transcend/Nathan/data/kraken/h2b/GV0798/Pos5/Pos5_aligned/HDF/segmented.hdf5\n"
     ]
    },
    {
     "name": "stdout",
     "output_type": "stream",
     "text": [
      "Track information loaded and ordered according to cell type (WT IDs >0> Scr IDs)\n",
      "Loaded GV0798/Pos5/\n",
      "ID GV0798_Pos5_364_RFP\n",
      "ID GV0798_Pos5_406_RFP\n",
      "ID GV0798_Pos5_374_RFP\n",
      "ID GV0798_Pos5_696_RFP\n",
      "ID GV0798_Pos5_682_RFP\n",
      "ID GV0798_Pos5_41_RFP\n",
      "ID GV0798_Pos5_407_RFP\n",
      "ID GV0798_Pos5_767_RFP\n",
      "ID GV0798_Pos5_17_RFP\n",
      "ID GV0798_Pos5_829_RFP\n",
      "ID GV0798_Pos5_830_RFP\n",
      "ID GV0798_Pos5_355_RFP\n",
      "ID GV0798_Pos5_493_RFP\n",
      "ID GV0798_Pos5_365_RFP\n",
      "ID GV0798_Pos5_491_RFP\n",
      "ID GV0798_Pos5_456_RFP\n",
      "ID GV0798_Pos5_810_RFP\n",
      "ID GV0798_Pos5_29_RFP\n",
      "ID GV0798_Pos5_786_RFP\n"
     ]
    },
    {
     "name": "stderr",
     "output_type": "stream",
     "text": [
      "[INFO][2022/02/21 06:59:13 PM] Opening HDF file: /media/nathan/Transcend/Nathan/data/kraken/h2b/GV0798/Pos6/Pos6_aligned/HDF/segmented.hdf5...\n",
      "[INFO][2022/02/21 06:59:13 PM] Loading tracks/obj_type_1\n"
     ]
    },
    {
     "name": "stdout",
     "output_type": "stream",
     "text": [
      "ID GV0798_Pos6_1222_RFP\n",
      "Loading GV0798/Pos6/\n",
      "Btrack version no.: 0.4.2\n"
     ]
    },
    {
     "name": "stderr",
     "output_type": "stream",
     "text": [
      "[INFO][2022/02/21 06:59:13 PM] Loading objects/obj_type_1 (87350, 5) (79247 filtered: area>=100)\n",
      "[INFO][2022/02/21 06:59:15 PM] Closing HDF file: /media/nathan/Transcend/Nathan/data/kraken/h2b/GV0798/Pos6/Pos6_aligned/HDF/segmented.hdf5\n",
      "[INFO][2022/02/21 06:59:15 PM] Opening HDF file: /media/nathan/Transcend/Nathan/data/kraken/h2b/GV0798/Pos6/Pos6_aligned/HDF/segmented.hdf5...\n",
      "[INFO][2022/02/21 06:59:15 PM] Loading tracks/obj_type_2\n",
      "[INFO][2022/02/21 06:59:15 PM] Loading objects/obj_type_2 (81755, 5) (62545 filtered: area>=100)\n",
      "[INFO][2022/02/21 06:59:16 PM] Closing HDF file: /media/nathan/Transcend/Nathan/data/kraken/h2b/GV0798/Pos6/Pos6_aligned/HDF/segmented.hdf5\n"
     ]
    },
    {
     "name": "stdout",
     "output_type": "stream",
     "text": [
      "Track information loaded and ordered according to cell type (WT IDs >0> Scr IDs)\n",
      "Loaded GV0798/Pos6/\n",
      "ID GV0798_Pos6_1221_RFP\n",
      "ID GV0798_Pos6_175_RFP\n",
      "ID GV0798_Pos6_1429_RFP\n",
      "ID GV0798_Pos6_8_RFP\n",
      "ID GV0798_Pos6_976_RFP\n",
      "ID GV0798_Pos6_3_RFP\n",
      "ID GV0798_Pos6_763_RFP\n",
      "ID GV0798_Pos6_603_RFP\n",
      "ID GV0798_Pos6_80_RFP\n",
      "ID GV0798_Pos6_54_RFP\n",
      "ID GV0798_Pos6_1_RFP\n",
      "ID GV0798_Pos6_28_RFP\n",
      "ID GV0798_Pos6_7_RFP\n",
      "ID GV0798_Pos6_655_RFP\n",
      "ID GV0798_Pos6_654_RFP\n",
      "ID GV0798_Pos6_832_RFP\n",
      "ID GV0798_Pos6_831_RFP\n",
      "ID GV0798_Pos6_102_RFP\n",
      "ID GV0798_Pos6_64_RFP\n",
      "ID GV0798_Pos6_414_RFP\n",
      "ID GV0798_Pos6_60_RFP\n"
     ]
    },
    {
     "name": "stderr",
     "output_type": "stream",
     "text": [
      "[INFO][2022/02/21 07:00:07 PM] Opening HDF file: /media/nathan/Transcend/Nathan/data/kraken/h2b/GV0800/Pos5/Pos5_aligned/HDF/segmented.hdf5...\n",
      "[INFO][2022/02/21 07:00:07 PM] Loading tracks/obj_type_1\n"
     ]
    },
    {
     "name": "stdout",
     "output_type": "stream",
     "text": [
      "ID GV0800_Pos5_17_RFP\n",
      "Loading GV0800/Pos5/\n",
      "Btrack version no.: 0.4.2\n"
     ]
    },
    {
     "name": "stderr",
     "output_type": "stream",
     "text": [
      "[INFO][2022/02/21 07:00:08 PM] Loading objects/obj_type_1 (39998, 5) (30974 filtered: area>=100)\n",
      "[INFO][2022/02/21 07:00:08 PM] Closing HDF file: /media/nathan/Transcend/Nathan/data/kraken/h2b/GV0800/Pos5/Pos5_aligned/HDF/segmented.hdf5\n",
      "[INFO][2022/02/21 07:00:08 PM] Opening HDF file: /media/nathan/Transcend/Nathan/data/kraken/h2b/GV0800/Pos5/Pos5_aligned/HDF/segmented.hdf5...\n",
      "[INFO][2022/02/21 07:00:08 PM] Loading tracks/obj_type_2\n",
      "[INFO][2022/02/21 07:00:08 PM] Loading objects/obj_type_2 (56244, 5) (41825 filtered: area>=100)\n",
      "[INFO][2022/02/21 07:00:09 PM] Closing HDF file: /media/nathan/Transcend/Nathan/data/kraken/h2b/GV0800/Pos5/Pos5_aligned/HDF/segmented.hdf5\n"
     ]
    },
    {
     "name": "stdout",
     "output_type": "stream",
     "text": [
      "Track information loaded and ordered according to cell type (WT IDs >0> Scr IDs)\n",
      "Loaded GV0800/Pos5/\n",
      "ID GV0800_Pos5_35_RFP\n",
      "ID GV0800_Pos5_155_RFP\n",
      "ID GV0800_Pos5_240_RFP\n",
      "ID GV0800_Pos5_293_RFP\n",
      "ID GV0800_Pos5_239_RFP\n",
      "ID GV0800_Pos5_461_RFP\n",
      "ID GV0800_Pos5_453_RFP\n",
      "ID GV0800_Pos5_381_RFP\n",
      "ID GV0800_Pos5_542_RFP\n",
      "ID GV0800_Pos5_415_RFP\n",
      "ID GV0800_Pos5_16_RFP\n",
      "ID GV0800_Pos5_435_RFP\n",
      "ID GV0800_Pos5_25_RFP\n",
      "ID GV0800_Pos5_246_RFP\n",
      "ID GV0800_Pos5_425_RFP\n",
      "ID GV0800_Pos5_447_RFP\n",
      "ID GV0800_Pos5_496_RFP\n"
     ]
    },
    {
     "name": "stderr",
     "output_type": "stream",
     "text": [
      "[INFO][2022/02/21 07:00:35 PM] Opening HDF file: /media/nathan/Transcend/Nathan/data/kraken/h2b/GV0800/Pos6/Pos6_aligned/HDF/segmented.hdf5...\n",
      "[INFO][2022/02/21 07:00:35 PM] Loading tracks/obj_type_1\n"
     ]
    },
    {
     "name": "stdout",
     "output_type": "stream",
     "text": [
      "ID GV0800_Pos5_723_RFP\n",
      "ID GV0800_Pos6_18_RFP\n",
      "Loading GV0800/Pos6/\n",
      "Btrack version no.: 0.4.2\n"
     ]
    },
    {
     "name": "stderr",
     "output_type": "stream",
     "text": [
      "[INFO][2022/02/21 07:00:35 PM] Loading objects/obj_type_1 (52406, 5) (44528 filtered: area>=100)\n",
      "[INFO][2022/02/21 07:00:36 PM] Closing HDF file: /media/nathan/Transcend/Nathan/data/kraken/h2b/GV0800/Pos6/Pos6_aligned/HDF/segmented.hdf5\n",
      "[INFO][2022/02/21 07:00:36 PM] Opening HDF file: /media/nathan/Transcend/Nathan/data/kraken/h2b/GV0800/Pos6/Pos6_aligned/HDF/segmented.hdf5...\n",
      "[INFO][2022/02/21 07:00:36 PM] Loading tracks/obj_type_2\n",
      "[INFO][2022/02/21 07:00:36 PM] Loading objects/obj_type_2 (113641, 5) (87932 filtered: area>=100)\n",
      "[INFO][2022/02/21 07:00:38 PM] Closing HDF file: /media/nathan/Transcend/Nathan/data/kraken/h2b/GV0800/Pos6/Pos6_aligned/HDF/segmented.hdf5\n"
     ]
    },
    {
     "name": "stdout",
     "output_type": "stream",
     "text": [
      "Track information loaded and ordered according to cell type (WT IDs >0> Scr IDs)\n",
      "Loaded GV0800/Pos6/\n",
      "ID GV0800_Pos6_2_RFP\n",
      "ID GV0800_Pos6_91_RFP\n",
      "ID GV0800_Pos6_23_RFP\n",
      "ID GV0800_Pos6_78_RFP\n",
      "ID GV0800_Pos6_198_RFP\n",
      "ID GV0800_Pos6_571_RFP\n",
      "ID GV0800_Pos6_1020_RFP\n",
      "ID GV0800_Pos6_754_RFP\n",
      "ID GV0800_Pos6_184_RFP\n",
      "ID GV0800_Pos6_1275_RFP\n",
      "ID GV0800_Pos6_329_RFP\n",
      "ID GV0800_Pos6_1274_RFP\n",
      "ID GV0800_Pos6_755_RFP\n",
      "ID GV0800_Pos6_852_RFP\n",
      "ID GV0800_Pos6_853_RFP\n",
      "ID GV0800_Pos6_1194_RFP\n",
      "ID GV0800_Pos6_1205_RFP\n",
      "ID GV0800_Pos6_1236_RFP\n",
      "ID GV0800_Pos6_1254_RFP\n",
      "ID GV0800_Pos6_895_RFP\n",
      "ID GV0800_Pos6_1794_RFP\n",
      "ID GV0800_Pos6_1556_RFP\n",
      "ID GV0800_Pos6_1963_RFP\n",
      "ID GV0800_Pos6_1509_RFP\n",
      "ID GV0800_Pos6_2041_RFP\n",
      "ID GV0800_Pos6_1878_RFP\n",
      "ID GV0800_Pos6_1879_RFP\n"
     ]
    },
    {
     "name": "stderr",
     "output_type": "stream",
     "text": [
      "[INFO][2022/02/21 07:01:13 PM] Opening HDF file: /media/nathan/Transcend/Nathan/data/kraken/h2b/GV0801/Pos5/Pos5_aligned/HDF/segmented.hdf5...\n",
      "[INFO][2022/02/21 07:01:13 PM] Loading tracks/obj_type_1\n"
     ]
    },
    {
     "name": "stdout",
     "output_type": "stream",
     "text": [
      "ID GV0801_Pos5_45_RFP\n",
      "Loading GV0801/Pos5/\n",
      "Btrack version no.: 0.4.2\n"
     ]
    },
    {
     "name": "stderr",
     "output_type": "stream",
     "text": [
      "[INFO][2022/02/21 07:01:14 PM] Loading objects/obj_type_1 (109693, 5) (98799 filtered: area>=100)\n",
      "[INFO][2022/02/21 07:01:15 PM] Closing HDF file: /media/nathan/Transcend/Nathan/data/kraken/h2b/GV0801/Pos5/Pos5_aligned/HDF/segmented.hdf5\n",
      "[INFO][2022/02/21 07:01:15 PM] Opening HDF file: /media/nathan/Transcend/Nathan/data/kraken/h2b/GV0801/Pos5/Pos5_aligned/HDF/segmented.hdf5...\n",
      "[INFO][2022/02/21 07:01:15 PM] Loading tracks/obj_type_2\n",
      "[INFO][2022/02/21 07:01:16 PM] Loading objects/obj_type_2 (172185, 5) (145089 filtered: area>=100)\n",
      "[INFO][2022/02/21 07:01:18 PM] Closing HDF file: /media/nathan/Transcend/Nathan/data/kraken/h2b/GV0801/Pos5/Pos5_aligned/HDF/segmented.hdf5\n"
     ]
    },
    {
     "name": "stdout",
     "output_type": "stream",
     "text": [
      "Track information loaded and ordered according to cell type (WT IDs >0> Scr IDs)\n",
      "Loaded GV0801/Pos5/\n",
      "ID GV0801_Pos5_18_RFP\n",
      "ID GV0801_Pos5_36_RFP\n",
      "ID GV0801_Pos5_56_RFP\n",
      "ID GV0801_Pos5_105_RFP\n",
      "ID GV0801_Pos5_841_RFP\n",
      "ID GV0801_Pos5_894_RFP\n",
      "ID GV0801_Pos5_890_RFP\n",
      "ID GV0801_Pos5_773_RFP\n",
      "ID GV0801_Pos5_807_RFP\n",
      "ID GV0801_Pos5_782_RFP\n",
      "ID GV0801_Pos5_64_RFP\n",
      "ID GV0801_Pos5_1345_RFP\n",
      "ID GV0801_Pos5_1093_RFP\n",
      "ID GV0801_Pos5_1092_RFP\n",
      "ID GV0801_Pos5_793_RFP\n",
      "ID GV0801_Pos5_781_RFP\n",
      "ID GV0801_Pos5_780_RFP\n",
      "ID GV0801_Pos5_1031_RFP\n",
      "ID GV0801_Pos5_38_RFP\n",
      "ID GV0801_Pos5_1710_RFP\n",
      "ID GV0801_Pos5_1709_RFP\n",
      "ID GV0801_Pos5_847_RFP\n",
      "ID GV0801_Pos5_792_RFP\n",
      "ID GV0801_Pos5_1235_RFP\n",
      "ID GV0801_Pos5_1677_RFP\n",
      "ID GV0801_Pos5_74_RFP\n",
      "ID GV0801_Pos5_1372_RFP\n",
      "ID GV0801_Pos5_1654_RFP\n",
      "ID GV0801_Pos5_860_RFP\n",
      "ID GV0801_Pos5_1030_RFP\n",
      "ID GV0801_Pos5_15_RFP\n",
      "ID GV0801_Pos5_2031_RFP\n",
      "ID GV0801_Pos5_2306_RFP\n",
      "ID GV0801_Pos5_115_RFP\n"
     ]
    },
    {
     "name": "stderr",
     "output_type": "stream",
     "text": [
      "[INFO][2022/02/21 07:03:47 PM] Opening HDF file: /media/nathan/Transcend/Nathan/data/kraken/h2b/GV0802/Pos5/Pos5_aligned/HDF/segmented.hdf5...\n",
      "[INFO][2022/02/21 07:03:47 PM] Loading tracks/obj_type_1\n"
     ]
    },
    {
     "name": "stdout",
     "output_type": "stream",
     "text": [
      "ID GV0802_Pos5_12_RFP\n",
      "Loading GV0802/Pos5/\n",
      "Btrack version no.: 0.4.2\n"
     ]
    },
    {
     "name": "stderr",
     "output_type": "stream",
     "text": [
      "[INFO][2022/02/21 07:03:48 PM] Loading objects/obj_type_1 (49875, 5) (41993 filtered: area>=100)\n",
      "[INFO][2022/02/21 07:03:48 PM] Closing HDF file: /media/nathan/Transcend/Nathan/data/kraken/h2b/GV0802/Pos5/Pos5_aligned/HDF/segmented.hdf5\n",
      "[INFO][2022/02/21 07:03:48 PM] Opening HDF file: /media/nathan/Transcend/Nathan/data/kraken/h2b/GV0802/Pos5/Pos5_aligned/HDF/segmented.hdf5...\n",
      "[INFO][2022/02/21 07:03:48 PM] Loading tracks/obj_type_2\n",
      "[INFO][2022/02/21 07:03:49 PM] Loading objects/obj_type_2 (87129, 5) (71072 filtered: area>=100)\n",
      "[INFO][2022/02/21 07:03:50 PM] Closing HDF file: /media/nathan/Transcend/Nathan/data/kraken/h2b/GV0802/Pos5/Pos5_aligned/HDF/segmented.hdf5\n"
     ]
    },
    {
     "name": "stdout",
     "output_type": "stream",
     "text": [
      "Track information loaded and ordered according to cell type (WT IDs >0> Scr IDs)\n",
      "Loaded GV0802/Pos5/\n",
      "ID GV0802_Pos5_40_RFP\n",
      "ID GV0802_Pos5_53_RFP\n",
      "ID GV0802_Pos5_34_RFP\n",
      "ID GV0802_Pos5_598_RFP\n",
      "ID GV0802_Pos5_655_RFP\n",
      "ID GV0802_Pos5_380_RFP\n",
      "ID GV0802_Pos5_269_RFP\n",
      "ID GV0802_Pos5_530_RFP\n",
      "ID GV0802_Pos5_425_RFP\n",
      "ID GV0802_Pos5_36_RFP\n",
      "ID GV0802_Pos5_531_RFP\n",
      "ID GV0802_Pos5_382_RFP\n",
      "ID GV0802_Pos5_751_RFP\n",
      "ID GV0802_Pos5_270_RFP\n",
      "ID GV0802_Pos5_706_RFP\n",
      "ID GV0802_Pos5_470_RFP\n",
      "ID GV0802_Pos5_356_RFP\n",
      "ID GV0802_Pos5_1023_RFP\n",
      "ID GV0802_Pos5_1090_RFP\n",
      "ID GV0802_Pos5_705_RFP\n",
      "ID GV0802_Pos5_707_RFP\n",
      "ID GV0802_Pos5_736_RFP\n",
      "ID GV0802_Pos5_990_RFP\n"
     ]
    },
    {
     "name": "stderr",
     "output_type": "stream",
     "text": [
      "[INFO][2022/02/21 07:04:29 PM] Opening HDF file: /media/nathan/Transcend/Nathan/data/kraken/h2b/GV0804/Pos5/Pos5_aligned/HDF/segmented.hdf5...\n",
      "[INFO][2022/02/21 07:04:29 PM] Loading tracks/obj_type_1\n"
     ]
    },
    {
     "name": "stdout",
     "output_type": "stream",
     "text": [
      "ID GV0804_Pos5_28_RFP\n",
      "Loading GV0804/Pos5/\n",
      "Btrack version no.: 0.4.2\n"
     ]
    },
    {
     "name": "stderr",
     "output_type": "stream",
     "text": [
      "[INFO][2022/02/21 07:04:30 PM] Loading objects/obj_type_1 (108652, 5) (92224 filtered: area>=100)\n",
      "[INFO][2022/02/21 07:04:31 PM] Closing HDF file: /media/nathan/Transcend/Nathan/data/kraken/h2b/GV0804/Pos5/Pos5_aligned/HDF/segmented.hdf5\n",
      "[INFO][2022/02/21 07:04:31 PM] Opening HDF file: /media/nathan/Transcend/Nathan/data/kraken/h2b/GV0804/Pos5/Pos5_aligned/HDF/segmented.hdf5...\n",
      "[INFO][2022/02/21 07:04:31 PM] Loading tracks/obj_type_2\n",
      "[INFO][2022/02/21 07:04:31 PM] Loading objects/obj_type_2 (93166, 5) (75916 filtered: area>=100)\n",
      "[INFO][2022/02/21 07:04:32 PM] Closing HDF file: /media/nathan/Transcend/Nathan/data/kraken/h2b/GV0804/Pos5/Pos5_aligned/HDF/segmented.hdf5\n"
     ]
    },
    {
     "name": "stdout",
     "output_type": "stream",
     "text": [
      "Track information loaded and ordered according to cell type (WT IDs >0> Scr IDs)\n",
      "Loaded GV0804/Pos5/\n",
      "ID GV0804_Pos5_797_RFP\n",
      "ID GV0804_Pos5_661_RFP\n",
      "ID GV0804_Pos5_686_RFP\n",
      "ID GV0804_Pos5_883_RFP\n",
      "ID GV0804_Pos5_621_RFP\n",
      "ID GV0804_Pos5_828_RFP\n",
      "ID GV0804_Pos5_826_RFP\n",
      "ID GV0804_Pos5_771_RFP\n",
      "ID GV0804_Pos5_688_RFP\n",
      "ID GV0804_Pos5_865_RFP\n",
      "ID GV0804_Pos5_838_RFP\n",
      "ID GV0804_Pos5_1094_RFP\n",
      "ID GV0804_Pos5_1058_RFP\n",
      "ID GV0804_Pos5_1154_RFP\n",
      "ID GV0804_Pos5_689_RFP\n",
      "ID GV0804_Pos5_933_RFP\n",
      "ID GV0804_Pos5_1274_RFP\n",
      "ID GV0804_Pos5_1275_RFP\n",
      "ID GV0804_Pos5_1059_RFP\n",
      "ID GV0804_Pos5_761_RFP\n",
      "ID GV0804_Pos5_1155_RFP\n",
      "ID GV0804_Pos5_778_RFP\n",
      "ID GV0804_Pos5_709_RFP\n",
      "ID GV0804_Pos5_662_RFP\n",
      "ID GV0804_Pos5_701_RFP\n",
      "ID GV0804_Pos5_943_RFP\n",
      "ID GV0804_Pos5_918_RFP\n",
      "ID GV0804_Pos5_934_RFP\n"
     ]
    },
    {
     "name": "stderr",
     "output_type": "stream",
     "text": [
      "[INFO][2022/02/21 07:05:59 PM] Opening HDF file: /media/nathan/Transcend/Nathan/data/kraken/h2b/GV0805/Pos5/Pos5_aligned/HDF/segmented.hdf5...\n",
      "[INFO][2022/02/21 07:05:59 PM] Loading tracks/obj_type_1\n"
     ]
    },
    {
     "name": "stdout",
     "output_type": "stream",
     "text": [
      "ID GV0805_Pos5_890_RFP\n",
      "Loading GV0805/Pos5/\n",
      "Btrack version no.: 0.4.2\n"
     ]
    },
    {
     "name": "stderr",
     "output_type": "stream",
     "text": [
      "[INFO][2022/02/21 07:06:00 PM] Loading objects/obj_type_1 (59442, 5) (48237 filtered: area>=100)\n",
      "[INFO][2022/02/21 07:06:01 PM] Closing HDF file: /media/nathan/Transcend/Nathan/data/kraken/h2b/GV0805/Pos5/Pos5_aligned/HDF/segmented.hdf5\n",
      "[INFO][2022/02/21 07:06:01 PM] Opening HDF file: /media/nathan/Transcend/Nathan/data/kraken/h2b/GV0805/Pos5/Pos5_aligned/HDF/segmented.hdf5...\n",
      "[INFO][2022/02/21 07:06:01 PM] Loading tracks/obj_type_2\n",
      "[INFO][2022/02/21 07:06:01 PM] Loading objects/obj_type_2 (110498, 5) (92236 filtered: area>=100)\n",
      "[INFO][2022/02/21 07:06:03 PM] Closing HDF file: /media/nathan/Transcend/Nathan/data/kraken/h2b/GV0805/Pos5/Pos5_aligned/HDF/segmented.hdf5\n"
     ]
    },
    {
     "name": "stdout",
     "output_type": "stream",
     "text": [
      "Track information loaded and ordered according to cell type (WT IDs >0> Scr IDs)\n",
      "Loaded GV0805/Pos5/\n",
      "ID GV0805_Pos5_599_RFP\n",
      "ID GV0805_Pos5_24_RFP\n",
      "ID GV0805_Pos5_13_RFP\n",
      "ID GV0805_Pos5_772_RFP\n",
      "ID GV0805_Pos5_809_RFP\n",
      "ID GV0805_Pos5_1064_RFP\n",
      "ID GV0805_Pos5_483_RFP\n",
      "ID GV0805_Pos5_484_RFP\n",
      "ID GV0805_Pos5_640_RFP\n",
      "ID GV0805_Pos5_1274_RFP\n",
      "ID GV0805_Pos5_1273_RFP\n",
      "ID GV0805_Pos5_1300_RFP\n",
      "ID GV0805_Pos5_1050_RFP\n",
      "ID GV0805_Pos5_580_RFP\n",
      "ID GV0805_Pos5_843_RFP\n",
      "ID GV0805_Pos5_1398_RFP\n",
      "ID GV0805_Pos5_1397_RFP\n",
      "ID GV0805_Pos5_1469_RFP\n",
      "ID GV0805_Pos5_891_RFP\n",
      "ID GV0805_Pos5_1049_RFP\n",
      "ID GV0805_Pos5_1468_RFP\n",
      "ID GV0805_Pos5_352_RFP\n",
      "ID GV0805_Pos5_1333_RFP\n",
      "ID GV0805_Pos5_1987_RFP\n",
      "ID GV0805_Pos5_247_RFP\n",
      "ID GV0805_Pos5_1794_RFP\n",
      "ID GV0805_Pos5_832_RFP\n",
      "ID GV0805_Pos5_1804_RFP\n",
      "ID GV0805_Pos5_769_RFP\n",
      "ID GV0805_Pos5_639_RFP\n",
      "ID GV0805_Pos5_1675_RFP\n"
     ]
    },
    {
     "name": "stderr",
     "output_type": "stream",
     "text": [
      "[INFO][2022/02/21 07:06:54 PM] Opening HDF file: /media/nathan/Transcend/Nathan/data/kraken/h2b/GV0806/Pos5/Pos5_aligned/HDF/segmented.hdf5...\n",
      "[INFO][2022/02/21 07:06:54 PM] Loading tracks/obj_type_1\n"
     ]
    },
    {
     "name": "stdout",
     "output_type": "stream",
     "text": [
      "ID GV0806_Pos5_4_RFP\n",
      "Loading GV0806/Pos5/\n",
      "Btrack version no.: 0.4.2\n"
     ]
    },
    {
     "name": "stderr",
     "output_type": "stream",
     "text": [
      "[INFO][2022/02/21 07:06:55 PM] Loading objects/obj_type_1 (76725, 5) (65455 filtered: area>=100)\n",
      "[INFO][2022/02/21 07:06:56 PM] Closing HDF file: /media/nathan/Transcend/Nathan/data/kraken/h2b/GV0806/Pos5/Pos5_aligned/HDF/segmented.hdf5\n",
      "[INFO][2022/02/21 07:06:56 PM] Opening HDF file: /media/nathan/Transcend/Nathan/data/kraken/h2b/GV0806/Pos5/Pos5_aligned/HDF/segmented.hdf5...\n",
      "[INFO][2022/02/21 07:06:56 PM] Loading tracks/obj_type_2\n",
      "[INFO][2022/02/21 07:06:56 PM] Loading objects/obj_type_2 (76899, 5) (56104 filtered: area>=100)\n",
      "[INFO][2022/02/21 07:06:57 PM] Closing HDF file: /media/nathan/Transcend/Nathan/data/kraken/h2b/GV0806/Pos5/Pos5_aligned/HDF/segmented.hdf5\n"
     ]
    },
    {
     "name": "stdout",
     "output_type": "stream",
     "text": [
      "Track information loaded and ordered according to cell type (WT IDs >0> Scr IDs)\n",
      "Loaded GV0806/Pos5/\n",
      "ID GV0806_Pos5_44_RFP\n",
      "ID GV0806_Pos5_353_RFP\n",
      "ID GV0806_Pos5_393_RFP\n",
      "ID GV0806_Pos5_431_RFP\n",
      "ID GV0806_Pos5_567_RFP\n",
      "ID GV0806_Pos5_352_RFP\n",
      "ID GV0806_Pos5_783_RFP\n",
      "ID GV0806_Pos5_380_RFP\n",
      "ID GV0806_Pos5_973_RFP\n",
      "ID GV0806_Pos5_1044_RFP\n"
     ]
    },
    {
     "name": "stderr",
     "output_type": "stream",
     "text": [
      "[INFO][2022/02/21 07:07:16 PM] Opening HDF file: /media/nathan/Transcend/Nathan/data/kraken/h2b/GV0807/Pos5/Pos5_aligned/HDF/segmented.hdf5...\n",
      "[INFO][2022/02/21 07:07:16 PM] Loading tracks/obj_type_1\n"
     ]
    },
    {
     "name": "stdout",
     "output_type": "stream",
     "text": [
      "ID GV0807_Pos5_4_RFP\n",
      "Loading GV0807/Pos5/\n",
      "Btrack version no.: 0.4.2\n"
     ]
    },
    {
     "name": "stderr",
     "output_type": "stream",
     "text": [
      "[INFO][2022/02/21 07:07:17 PM] Loading objects/obj_type_1 (129954, 5) (111411 filtered: area>=100)\n",
      "[INFO][2022/02/21 07:07:19 PM] Closing HDF file: /media/nathan/Transcend/Nathan/data/kraken/h2b/GV0807/Pos5/Pos5_aligned/HDF/segmented.hdf5\n",
      "[INFO][2022/02/21 07:07:19 PM] Opening HDF file: /media/nathan/Transcend/Nathan/data/kraken/h2b/GV0807/Pos5/Pos5_aligned/HDF/segmented.hdf5...\n",
      "[INFO][2022/02/21 07:07:19 PM] Loading tracks/obj_type_2\n",
      "[INFO][2022/02/21 07:07:19 PM] Loading objects/obj_type_2 (87213, 5) (74295 filtered: area>=100)\n",
      "[INFO][2022/02/21 07:07:20 PM] Closing HDF file: /media/nathan/Transcend/Nathan/data/kraken/h2b/GV0807/Pos5/Pos5_aligned/HDF/segmented.hdf5\n"
     ]
    },
    {
     "name": "stdout",
     "output_type": "stream",
     "text": [
      "Track information loaded and ordered according to cell type (WT IDs >0> Scr IDs)\n",
      "Loaded GV0807/Pos5/\n",
      "ID GV0807_Pos5_52_RFP\n",
      "ID GV0807_Pos5_301_RFP\n",
      "ID GV0807_Pos5_459_RFP\n",
      "ID GV0807_Pos5_402_RFP\n",
      "ID GV0807_Pos5_354_RFP\n",
      "ID GV0807_Pos5_679_RFP\n",
      "ID GV0807_Pos5_950_RFP\n",
      "ID GV0807_Pos5_952_RFP\n",
      "ID GV0807_Pos5_334_RFP\n",
      "ID GV0807_Pos5_733_RFP\n",
      "ID GV0807_Pos5_916_RFP\n",
      "ID GV0807_Pos5_677_RFP\n",
      "ID GV0807_Pos5_1128_RFP\n",
      "ID GV0807_Pos5_460_RFP\n",
      "ID GV0807_Pos5_51_RFP\n",
      "ID GV0807_Pos5_977_RFP\n",
      "ID GV0807_Pos5_1149_RFP\n",
      "ID GV0807_Pos5_815_RFP\n",
      "ID GV0807_Pos5_2_RFP\n",
      "ID GV0807_Pos5_1281_RFP\n",
      "ID GV0807_Pos5_1448_RFP\n",
      "ID GV0807_Pos5_1427_RFP\n",
      "ID GV0807_Pos5_1489_RFP\n",
      "ID GV0807_Pos5_944_RFP\n",
      "ID GV0807_Pos5_819_RFP\n",
      "ID GV0807_Pos5_793_RFP\n"
     ]
    },
    {
     "name": "stderr",
     "output_type": "stream",
     "text": [
      "[INFO][2022/02/21 07:08:41 PM] Opening HDF file: /media/nathan/Transcend/Nathan/data/kraken/h2b/GV0800/Pos16/Pos16_aligned/HDF/segmented.hdf5...\n",
      "[INFO][2022/02/21 07:08:41 PM] Loading tracks/obj_type_1\n"
     ]
    },
    {
     "name": "stdout",
     "output_type": "stream",
     "text": [
      "ID GV0800_Pos16_15_RFP\n",
      "Loading GV0800/Pos16/\n",
      "Btrack version no.: 0.4.2\n"
     ]
    },
    {
     "name": "stderr",
     "output_type": "stream",
     "text": [
      "[INFO][2022/02/21 07:08:44 PM] Loading objects/obj_type_1 (361372, 5) (345214 filtered: area>=100)\n",
      "[INFO][2022/02/21 07:08:48 PM] Closing HDF file: /media/nathan/Transcend/Nathan/data/kraken/h2b/GV0800/Pos16/Pos16_aligned/HDF/segmented.hdf5\n",
      "[INFO][2022/02/21 07:08:49 PM] Opening HDF file: /media/nathan/Transcend/Nathan/data/kraken/h2b/GV0800/Pos16/Pos16_aligned/HDF/segmented.hdf5...\n",
      "[INFO][2022/02/21 07:08:49 PM] Loading tracks/obj_type_2\n",
      "[INFO][2022/02/21 07:08:49 PM] Loading objects/obj_type_2 (88705, 5) (75574 filtered: area>=100)\n",
      "[INFO][2022/02/21 07:08:50 PM] Closing HDF file: /media/nathan/Transcend/Nathan/data/kraken/h2b/GV0800/Pos16/Pos16_aligned/HDF/segmented.hdf5\n"
     ]
    },
    {
     "name": "stdout",
     "output_type": "stream",
     "text": [
      "Track information loaded and ordered according to cell type (WT IDs >0> Scr IDs)\n",
      "Loaded GV0800/Pos16/\n",
      "ID GV0800_Pos16_29_RFP\n",
      "ID GV0800_Pos16_8_RFP\n",
      "ID GV0800_Pos16_24_RFP\n",
      "ID GV0800_Pos16_31_RFP\n",
      "ID GV0800_Pos16_505_RFP\n",
      "ID GV0800_Pos16_63_RFP\n",
      "ID GV0800_Pos16_496_RFP\n",
      "ID GV0800_Pos16_23_RFP\n",
      "ID GV0800_Pos16_572_RFP\n",
      "ID GV0800_Pos16_542_RFP\n",
      "ID GV0800_Pos16_583_RFP\n",
      "ID GV0800_Pos16_580_RFP\n",
      "ID GV0800_Pos16_10_RFP\n",
      "ID GV0800_Pos16_584_RFP\n",
      "ID GV0800_Pos16_478_RFP\n",
      "ID GV0800_Pos16_849_RFP\n",
      "ID GV0800_Pos16_803_RFP\n",
      "ID GV0800_Pos16_522_RFP\n",
      "ID GV0800_Pos16_451_RFP\n",
      "ID GV0800_Pos16_489_RFP\n",
      "ID GV0800_Pos16_504_RFP\n",
      "ID GV0800_Pos16_13_RFP\n",
      "ID GV0800_Pos16_528_RFP\n",
      "ID GV0800_Pos16_1155_RFP\n",
      "ID GV0800_Pos16_632_RFP\n",
      "ID GV0800_Pos16_1044_RFP\n"
     ]
    },
    {
     "name": "stderr",
     "output_type": "stream",
     "text": [
      "[INFO][2022/02/21 07:12:50 PM] Opening HDF file: /media/nathan/Transcend/Nathan/data/kraken/h2b/GV0795/Pos18/Pos18_aligned/HDF/segmented.hdf5...\n",
      "[INFO][2022/02/21 07:12:50 PM] Loading tracks/obj_type_1\n"
     ]
    },
    {
     "name": "stdout",
     "output_type": "stream",
     "text": [
      "ID GV0795_Pos18_379_RFP\n",
      "Loading GV0795/Pos18/\n",
      "Btrack version no.: 0.4.2\n"
     ]
    },
    {
     "name": "stderr",
     "output_type": "stream",
     "text": [
      "[INFO][2022/02/21 07:12:50 PM] Loading objects/obj_type_1 (41273, 5) (28239 filtered: area>=100)\n",
      "[INFO][2022/02/21 07:12:50 PM] Closing HDF file: /media/nathan/Transcend/Nathan/data/kraken/h2b/GV0795/Pos18/Pos18_aligned/HDF/segmented.hdf5\n",
      "[INFO][2022/02/21 07:12:50 PM] Opening HDF file: /media/nathan/Transcend/Nathan/data/kraken/h2b/GV0795/Pos18/Pos18_aligned/HDF/segmented.hdf5...\n",
      "[INFO][2022/02/21 07:12:50 PM] Loading tracks/obj_type_2\n",
      "[INFO][2022/02/21 07:12:51 PM] Loading objects/obj_type_2 (71063, 5) (58416 filtered: area>=100)\n",
      "[INFO][2022/02/21 07:12:52 PM] Closing HDF file: /media/nathan/Transcend/Nathan/data/kraken/h2b/GV0795/Pos18/Pos18_aligned/HDF/segmented.hdf5\n"
     ]
    },
    {
     "name": "stdout",
     "output_type": "stream",
     "text": [
      "Track information loaded and ordered according to cell type (WT IDs >0> Scr IDs)\n",
      "Loaded GV0795/Pos18/\n",
      "ID GV0795_Pos18_413_RFP\n",
      "ID GV0795_Pos18_854_RFP\n",
      "ID GV0795_Pos18_855_RFP\n",
      "ID GV0795_Pos18_1179_RFP\n",
      "ID GV0795_Pos18_409_RFP\n",
      "ID GV0795_Pos18_684_RFP\n",
      "ID GV0795_Pos18_802_RFP\n",
      "ID GV0795_Pos18_46_RFP\n",
      "ID GV0795_Pos18_521_RFP\n",
      "ID GV0795_Pos18_3_RFP\n",
      "ID GV0795_Pos18_715_RFP\n",
      "ID GV0795_Pos18_28_RFP\n",
      "ID GV0795_Pos18_12_RFP\n",
      "ID GV0795_Pos18_19_RFP\n",
      "ID GV0795_Pos18_728_RFP\n"
     ]
    },
    {
     "name": "stderr",
     "output_type": "stream",
     "text": [
      "[INFO][2022/02/21 07:13:13 PM] Opening HDF file: /media/nathan/Transcend/Nathan/data/kraken/h2b/GV0796/Pos23/Pos23_aligned/HDF/segmented.hdf5...\n",
      "[INFO][2022/02/21 07:13:13 PM] Loading tracks/obj_type_1\n"
     ]
    },
    {
     "name": "stdout",
     "output_type": "stream",
     "text": [
      "ID GV0796_Pos23_66_RFP\n",
      "Loading GV0796/Pos23/\n",
      "Btrack version no.: 0.4.2\n"
     ]
    },
    {
     "name": "stderr",
     "output_type": "stream",
     "text": [
      "[INFO][2022/02/21 07:13:13 PM] Loading objects/obj_type_1 (95277, 5) (83305 filtered: area>=100)\n",
      "[INFO][2022/02/21 07:13:14 PM] Closing HDF file: /media/nathan/Transcend/Nathan/data/kraken/h2b/GV0796/Pos23/Pos23_aligned/HDF/segmented.hdf5\n",
      "[INFO][2022/02/21 07:13:14 PM] Opening HDF file: /media/nathan/Transcend/Nathan/data/kraken/h2b/GV0796/Pos23/Pos23_aligned/HDF/segmented.hdf5...\n",
      "[INFO][2022/02/21 07:13:14 PM] Loading tracks/obj_type_2\n",
      "[INFO][2022/02/21 07:13:15 PM] Loading objects/obj_type_2 (126378, 5) (98072 filtered: area>=100)\n",
      "[INFO][2022/02/21 07:13:16 PM] Closing HDF file: /media/nathan/Transcend/Nathan/data/kraken/h2b/GV0796/Pos23/Pos23_aligned/HDF/segmented.hdf5\n"
     ]
    },
    {
     "name": "stdout",
     "output_type": "stream",
     "text": [
      "Track information loaded and ordered according to cell type (WT IDs >0> Scr IDs)\n",
      "Loaded GV0796/Pos23/\n",
      "ID GV0796_Pos23_87_RFP\n",
      "ID GV0796_Pos23_62_RFP\n",
      "ID GV0796_Pos23_74_RFP\n",
      "ID GV0796_Pos23_18_RFP\n",
      "ID GV0796_Pos23_202_RFP\n",
      "ID GV0796_Pos23_786_RFP\n",
      "ID GV0796_Pos23_15_RFP\n",
      "ID GV0796_Pos23_1896_RFP\n",
      "ID GV0796_Pos23_2215_RFP\n",
      "ID GV0796_Pos23_890_RFP\n",
      "ID GV0796_Pos23_771_RFP\n",
      "ID GV0796_Pos23_968_RFP\n",
      "ID GV0796_Pos23_969_RFP\n",
      "ID GV0796_Pos23_1773_RFP\n",
      "ID GV0796_Pos23_1253_RFP\n",
      "ID GV0796_Pos23_16_RFP\n",
      "ID GV0796_Pos23_80_RFP\n",
      "ID GV0796_Pos23_525_RFP\n",
      "ID GV0796_Pos23_1767_RFP\n",
      "ID GV0796_Pos23_203_RFP\n",
      "ID GV0796_Pos23_36_RFP\n",
      "ID GV0796_Pos23_174_RFP\n",
      "ID GV0796_Pos23_655_RFP\n",
      "ID GV0796_Pos23_717_RFP\n",
      "ID GV0796_Pos23_718_RFP\n",
      "ID GV0796_Pos23_526_RFP\n",
      "ID GV0796_Pos23_323_RFP\n",
      "ID GV0796_Pos23_798_RFP\n",
      "ID GV0796_Pos23_1306_RFP\n",
      "ID GV0796_Pos23_1073_RFP\n",
      "ID GV0796_Pos23_799_RFP\n",
      "ID GV0796_Pos23_1412_RFP\n",
      "ID GV0796_Pos23_1898_RFP\n",
      "ID GV0796_Pos23_485_RFP\n",
      "ID GV0796_Pos23_1466_RFP\n",
      "ID GV0796_Pos23_770_RFP\n"
     ]
    },
    {
     "name": "stderr",
     "output_type": "stream",
     "text": [
      "[INFO][2022/02/21 07:14:40 PM] Opening HDF file: /media/nathan/Transcend/Nathan/data/kraken/h2b/GV0796/Pos24/Pos24_aligned/HDF/segmented.hdf5...\n",
      "[INFO][2022/02/21 07:14:40 PM] Loading tracks/obj_type_1\n"
     ]
    },
    {
     "name": "stdout",
     "output_type": "stream",
     "text": [
      "ID GV0796_Pos24_765_RFP\n",
      "Loading GV0796/Pos24/\n",
      "Btrack version no.: 0.4.2\n"
     ]
    },
    {
     "name": "stderr",
     "output_type": "stream",
     "text": [
      "[INFO][2022/02/21 07:14:40 PM] Loading objects/obj_type_1 (85037, 5) (73583 filtered: area>=100)\n",
      "[INFO][2022/02/21 07:14:41 PM] Closing HDF file: /media/nathan/Transcend/Nathan/data/kraken/h2b/GV0796/Pos24/Pos24_aligned/HDF/segmented.hdf5\n",
      "[INFO][2022/02/21 07:14:41 PM] Opening HDF file: /media/nathan/Transcend/Nathan/data/kraken/h2b/GV0796/Pos24/Pos24_aligned/HDF/segmented.hdf5...\n",
      "[INFO][2022/02/21 07:14:41 PM] Loading tracks/obj_type_2\n",
      "[INFO][2022/02/21 07:14:42 PM] Loading objects/obj_type_2 (132294, 5) (100961 filtered: area>=100)\n",
      "[INFO][2022/02/21 07:14:44 PM] Closing HDF file: /media/nathan/Transcend/Nathan/data/kraken/h2b/GV0796/Pos24/Pos24_aligned/HDF/segmented.hdf5\n"
     ]
    },
    {
     "name": "stdout",
     "output_type": "stream",
     "text": [
      "Track information loaded and ordered according to cell type (WT IDs >0> Scr IDs)\n",
      "Loaded GV0796/Pos24/\n",
      "ID GV0796_Pos24_946_RFP\n",
      "ID GV0796_Pos24_2105_RFP\n",
      "ID GV0796_Pos24_56_RFP\n",
      "ID GV0796_Pos24_529_RFP\n",
      "ID GV0796_Pos24_856_RFP\n",
      "ID GV0796_Pos24_1017_RFP\n",
      "ID GV0796_Pos24_1015_RFP\n",
      "ID GV0796_Pos24_1730_RFP\n",
      "ID GV0796_Pos24_792_RFP\n",
      "ID GV0796_Pos24_272_RFP\n",
      "ID GV0796_Pos24_18_RFP\n",
      "ID GV0796_Pos24_1066_RFP\n",
      "ID GV0796_Pos24_1059_RFP\n",
      "ID GV0796_Pos24_1536_RFP\n",
      "ID GV0796_Pos24_1039_RFP\n",
      "ID GV0796_Pos24_1108_RFP\n",
      "ID GV0796_Pos24_25_RFP\n",
      "ID GV0796_Pos24_731_RFP\n",
      "ID GV0796_Pos24_1080_RFP\n",
      "ID GV0796_Pos24_35_RFP\n",
      "ID GV0796_Pos24_1415_RFP\n",
      "ID GV0796_Pos24_65_RFP\n",
      "ID GV0796_Pos24_1002_RFP\n",
      "ID GV0796_Pos24_900_RFP\n",
      "ID GV0796_Pos24_1047_RFP\n",
      "ID GV0796_Pos24_1378_RFP\n",
      "ID GV0796_Pos24_799_RFP\n",
      "ID GV0796_Pos24_1128_RFP\n",
      "ID GV0796_Pos24_1007_RFP\n",
      "ID GV0796_Pos24_1006_RFP\n",
      "ID GV0796_Pos24_1127_RFP\n",
      "ID GV0796_Pos24_1811_RFP\n",
      "ID GV0796_Pos24_873_RFP\n"
     ]
    },
    {
     "name": "stderr",
     "output_type": "stream",
     "text": [
      "[INFO][2022/02/21 07:16:02 PM] Opening HDF file: /media/nathan/Transcend/Nathan/data/kraken/h2b/GV0797/Pos22/Pos22_aligned/HDF/segmented.hdf5...\n",
      "[INFO][2022/02/21 07:16:02 PM] Loading tracks/obj_type_1\n"
     ]
    },
    {
     "name": "stdout",
     "output_type": "stream",
     "text": [
      "ID GV0797_Pos22_42_RFP\n",
      "Loading GV0797/Pos22/\n",
      "Btrack version no.: 0.4.2\n"
     ]
    },
    {
     "name": "stderr",
     "output_type": "stream",
     "text": [
      "[INFO][2022/02/21 07:16:02 PM] Loading objects/obj_type_1 (34660, 5) (27773 filtered: area>=100)\n",
      "[INFO][2022/02/21 07:16:03 PM] Closing HDF file: /media/nathan/Transcend/Nathan/data/kraken/h2b/GV0797/Pos22/Pos22_aligned/HDF/segmented.hdf5\n",
      "[INFO][2022/02/21 07:16:03 PM] Opening HDF file: /media/nathan/Transcend/Nathan/data/kraken/h2b/GV0797/Pos22/Pos22_aligned/HDF/segmented.hdf5...\n",
      "[INFO][2022/02/21 07:16:03 PM] Loading tracks/obj_type_2\n",
      "[INFO][2022/02/21 07:16:03 PM] Loading objects/obj_type_2 (53322, 5) (37156 filtered: area>=100)\n",
      "[INFO][2022/02/21 07:16:04 PM] Closing HDF file: /media/nathan/Transcend/Nathan/data/kraken/h2b/GV0797/Pos22/Pos22_aligned/HDF/segmented.hdf5\n"
     ]
    },
    {
     "name": "stdout",
     "output_type": "stream",
     "text": [
      "Track information loaded and ordered according to cell type (WT IDs >0> Scr IDs)\n",
      "Loaded GV0797/Pos22/\n",
      "ID GV0797_Pos22_37_RFP\n",
      "ID GV0797_Pos22_122_RFP\n",
      "ID GV0797_Pos22_854_RFP\n",
      "ID GV0797_Pos22_473_RFP\n",
      "ID GV0797_Pos22_121_RFP\n",
      "ID GV0797_Pos22_686_RFP\n",
      "ID GV0797_Pos22_451_RFP\n",
      "ID GV0797_Pos22_448_RFP\n",
      "ID GV0797_Pos22_236_RFP\n",
      "ID GV0797_Pos22_335_RFP\n",
      "ID GV0797_Pos22_802_RFP\n"
     ]
    },
    {
     "name": "stderr",
     "output_type": "stream",
     "text": [
      "[INFO][2022/02/21 07:16:13 PM] Opening HDF file: /media/nathan/Transcend/Nathan/data/kraken/h2b/GV0797/Pos23/Pos23_aligned/HDF/segmented.hdf5...\n",
      "[INFO][2022/02/21 07:16:13 PM] Loading tracks/obj_type_1\n"
     ]
    },
    {
     "name": "stdout",
     "output_type": "stream",
     "text": [
      "ID GV0797_Pos23_31_RFP\n",
      "Loading GV0797/Pos23/\n",
      "Btrack version no.: 0.4.2\n"
     ]
    },
    {
     "name": "stderr",
     "output_type": "stream",
     "text": [
      "[INFO][2022/02/21 07:16:14 PM] Loading objects/obj_type_1 (23980, 5) (18959 filtered: area>=100)\n",
      "[INFO][2022/02/21 07:16:14 PM] Closing HDF file: /media/nathan/Transcend/Nathan/data/kraken/h2b/GV0797/Pos23/Pos23_aligned/HDF/segmented.hdf5\n",
      "[INFO][2022/02/21 07:16:14 PM] Opening HDF file: /media/nathan/Transcend/Nathan/data/kraken/h2b/GV0797/Pos23/Pos23_aligned/HDF/segmented.hdf5...\n",
      "[INFO][2022/02/21 07:16:14 PM] Loading tracks/obj_type_2\n",
      "[INFO][2022/02/21 07:16:14 PM] Loading objects/obj_type_2 (34897, 5) (24894 filtered: area>=100)\n",
      "[INFO][2022/02/21 07:16:14 PM] Closing HDF file: /media/nathan/Transcend/Nathan/data/kraken/h2b/GV0797/Pos23/Pos23_aligned/HDF/segmented.hdf5\n"
     ]
    },
    {
     "name": "stdout",
     "output_type": "stream",
     "text": [
      "Track information loaded and ordered according to cell type (WT IDs >0> Scr IDs)\n",
      "Loaded GV0797/Pos23/\n",
      "ID GV0797_Pos23_26_RFP\n",
      "ID GV0797_Pos23_260_RFP\n",
      "ID GV0797_Pos23_125_RFP\n",
      "ID GV0797_Pos23_336_RFP\n",
      "ID GV0797_Pos23_252_RFP\n",
      "ID GV0797_Pos23_301_RFP\n",
      "ID GV0797_Pos23_36_RFP\n",
      "ID GV0797_Pos23_319_RFP\n",
      "ID GV0797_Pos23_556_RFP\n"
     ]
    },
    {
     "name": "stderr",
     "output_type": "stream",
     "text": [
      "[INFO][2022/02/21 07:16:18 PM] Opening HDF file: /media/nathan/Transcend/Nathan/data/kraken/h2b/GV0798/Pos22/Pos22_aligned/HDF/segmented.hdf5...\n",
      "[INFO][2022/02/21 07:16:19 PM] Loading tracks/obj_type_1\n"
     ]
    },
    {
     "name": "stdout",
     "output_type": "stream",
     "text": [
      "ID GV0798_Pos22_34_RFP\n",
      "Loading GV0798/Pos22/\n",
      "Btrack version no.: 0.4.2\n"
     ]
    },
    {
     "name": "stderr",
     "output_type": "stream",
     "text": [
      "[INFO][2022/02/21 07:16:19 PM] Loading objects/obj_type_1 (54200, 5) (44110 filtered: area>=100)\n",
      "[INFO][2022/02/21 07:16:20 PM] Closing HDF file: /media/nathan/Transcend/Nathan/data/kraken/h2b/GV0798/Pos22/Pos22_aligned/HDF/segmented.hdf5\n",
      "[INFO][2022/02/21 07:16:20 PM] Opening HDF file: /media/nathan/Transcend/Nathan/data/kraken/h2b/GV0798/Pos22/Pos22_aligned/HDF/segmented.hdf5...\n",
      "[INFO][2022/02/21 07:16:20 PM] Loading tracks/obj_type_2\n",
      "[INFO][2022/02/21 07:16:20 PM] Loading objects/obj_type_2 (43364, 5) (33560 filtered: area>=100)\n",
      "[INFO][2022/02/21 07:16:20 PM] Closing HDF file: /media/nathan/Transcend/Nathan/data/kraken/h2b/GV0798/Pos22/Pos22_aligned/HDF/segmented.hdf5\n"
     ]
    },
    {
     "name": "stdout",
     "output_type": "stream",
     "text": [
      "Track information loaded and ordered according to cell type (WT IDs >0> Scr IDs)\n",
      "Loaded GV0798/Pos22/\n",
      "ID GV0798_Pos22_36_RFP\n",
      "ID GV0798_Pos22_37_RFP\n",
      "ID GV0798_Pos22_358_RFP\n",
      "ID GV0798_Pos22_26_RFP\n",
      "ID GV0798_Pos22_696_RFP\n",
      "ID GV0798_Pos22_9_RFP\n",
      "ID GV0798_Pos22_10_RFP\n",
      "ID GV0798_Pos22_31_RFP\n",
      "ID GV0798_Pos22_652_RFP\n",
      "ID GV0798_Pos22_6_RFP\n",
      "ID GV0798_Pos22_744_RFP\n",
      "ID GV0798_Pos22_549_RFP\n",
      "ID GV0798_Pos22_669_RFP\n"
     ]
    },
    {
     "name": "stderr",
     "output_type": "stream",
     "text": [
      "[INFO][2022/02/21 07:16:45 PM] Opening HDF file: /media/nathan/Transcend/Nathan/data/kraken/h2b/GV0798/Pos23/Pos23_aligned/HDF/segmented.hdf5...\n",
      "[INFO][2022/02/21 07:16:45 PM] Loading tracks/obj_type_1\n"
     ]
    },
    {
     "name": "stdout",
     "output_type": "stream",
     "text": [
      "ID GV0798_Pos23_937_RFP\n",
      "Loading GV0798/Pos23/\n",
      "Btrack version no.: 0.4.2\n"
     ]
    },
    {
     "name": "stderr",
     "output_type": "stream",
     "text": [
      "[INFO][2022/02/21 07:16:46 PM] Loading objects/obj_type_1 (122661, 5) (114306 filtered: area>=100)\n",
      "[INFO][2022/02/21 07:16:48 PM] Closing HDF file: /media/nathan/Transcend/Nathan/data/kraken/h2b/GV0798/Pos23/Pos23_aligned/HDF/segmented.hdf5\n",
      "[INFO][2022/02/21 07:16:48 PM] Opening HDF file: /media/nathan/Transcend/Nathan/data/kraken/h2b/GV0798/Pos23/Pos23_aligned/HDF/segmented.hdf5...\n",
      "[INFO][2022/02/21 07:16:48 PM] Loading tracks/obj_type_2\n",
      "[INFO][2022/02/21 07:16:49 PM] Loading objects/obj_type_2 (120909, 5) (98424 filtered: area>=100)\n",
      "[INFO][2022/02/21 07:16:50 PM] Closing HDF file: /media/nathan/Transcend/Nathan/data/kraken/h2b/GV0798/Pos23/Pos23_aligned/HDF/segmented.hdf5\n"
     ]
    },
    {
     "name": "stdout",
     "output_type": "stream",
     "text": [
      "Track information loaded and ordered according to cell type (WT IDs >0> Scr IDs)\n",
      "Loaded GV0798/Pos23/\n",
      "ID GV0798_Pos23_1339_RFP\n",
      "ID GV0798_Pos23_42_RFP\n",
      "ID GV0798_Pos23_15_RFP\n",
      "ID GV0798_Pos23_773_RFP\n",
      "ID GV0798_Pos23_6_RFP\n",
      "ID GV0798_Pos23_1236_RFP\n",
      "ID GV0798_Pos23_996_RFP\n",
      "ID GV0798_Pos23_1234_RFP\n",
      "ID GV0798_Pos23_43_RFP\n",
      "ID GV0798_Pos23_46_RFP\n",
      "ID GV0798_Pos23_799_RFP\n",
      "ID GV0798_Pos23_720_RFP\n",
      "ID GV0798_Pos23_721_RFP\n",
      "ID GV0798_Pos23_1217_RFP\n",
      "ID GV0798_Pos23_1532_RFP\n",
      "ID GV0798_Pos23_1533_RFP\n",
      "ID GV0798_Pos23_570_RFP\n",
      "ID GV0798_Pos23_596_RFP\n",
      "ID GV0798_Pos23_858_RFP\n",
      "ID GV0798_Pos23_995_RFP\n",
      "ID GV0798_Pos23_697_RFP\n",
      "ID GV0798_Pos23_1268_RFP\n",
      "ID GV0798_Pos23_1233_RFP\n",
      "ID GV0798_Pos23_1224_RFP\n",
      "ID GV0798_Pos23_1229_RFP\n",
      "ID GV0798_Pos23_1227_RFP\n",
      "ID GV0798_Pos23_1208_RFP\n",
      "ID GV0798_Pos23_692_RFP\n",
      "ID GV0798_Pos23_57_RFP\n",
      "ID GV0798_Pos23_91_RFP\n",
      "ID GV0798_Pos23_659_RFP\n",
      "ID GV0798_Pos23_62_RFP\n",
      "ID GV0798_Pos23_97_RFP\n",
      "ID GV0798_Pos23_488_RFP\n",
      "ID GV0798_Pos23_1424_RFP\n",
      "ID GV0798_Pos23_53_RFP\n",
      "ID GV0798_Pos23_83_RFP\n",
      "ID GV0798_Pos23_660_RFP\n",
      "ID GV0798_Pos23_25_RFP\n",
      "ID GV0798_Pos23_1249_RFP\n",
      "ID GV0798_Pos23_2102_RFP\n",
      "ID GV0798_Pos23_2103_RFP\n"
     ]
    },
    {
     "name": "stderr",
     "output_type": "stream",
     "text": [
      "[INFO][2022/02/21 07:19:02 PM] Opening HDF file: /media/nathan/Transcend/Nathan/data/kraken/h2b/GV0800/Pos17/Pos17_aligned/HDF/segmented.hdf5...\n",
      "[INFO][2022/02/21 07:19:02 PM] Loading tracks/obj_type_1\n"
     ]
    },
    {
     "name": "stdout",
     "output_type": "stream",
     "text": [
      "ID GV0800_Pos17_23_RFP\n",
      "Loading GV0800/Pos17/\n",
      "Btrack version no.: 0.4.2\n"
     ]
    },
    {
     "name": "stderr",
     "output_type": "stream",
     "text": [
      "[INFO][2022/02/21 07:19:02 PM] Loading objects/obj_type_1 (102414, 5) (89276 filtered: area>=100)\n",
      "[INFO][2022/02/21 07:19:04 PM] Closing HDF file: /media/nathan/Transcend/Nathan/data/kraken/h2b/GV0800/Pos17/Pos17_aligned/HDF/segmented.hdf5\n",
      "[INFO][2022/02/21 07:19:04 PM] Opening HDF file: /media/nathan/Transcend/Nathan/data/kraken/h2b/GV0800/Pos17/Pos17_aligned/HDF/segmented.hdf5...\n",
      "[INFO][2022/02/21 07:19:04 PM] Loading tracks/obj_type_2\n",
      "[INFO][2022/02/21 07:19:05 PM] Loading objects/obj_type_2 (83250, 5) (67284 filtered: area>=100)\n",
      "[INFO][2022/02/21 07:19:05 PM] Closing HDF file: /media/nathan/Transcend/Nathan/data/kraken/h2b/GV0800/Pos17/Pos17_aligned/HDF/segmented.hdf5\n"
     ]
    },
    {
     "name": "stdout",
     "output_type": "stream",
     "text": [
      "Track information loaded and ordered according to cell type (WT IDs >0> Scr IDs)\n",
      "Loaded GV0800/Pos17/\n",
      "ID GV0800_Pos17_48_RFP\n",
      "ID GV0800_Pos17_359_RFP\n",
      "ID GV0800_Pos17_518_RFP\n",
      "ID GV0800_Pos17_587_RFP\n",
      "ID GV0800_Pos17_385_RFP\n",
      "ID GV0800_Pos17_462_RFP\n",
      "ID GV0800_Pos17_380_RFP\n",
      "ID GV0800_Pos17_519_RFP\n",
      "ID GV0800_Pos17_727_RFP\n",
      "ID GV0800_Pos17_728_RFP\n",
      "ID GV0800_Pos17_804_RFP\n",
      "ID GV0800_Pos17_917_RFP\n",
      "ID GV0800_Pos17_716_RFP\n",
      "ID GV0800_Pos17_753_RFP\n"
     ]
    },
    {
     "name": "stderr",
     "output_type": "stream",
     "text": [
      "[INFO][2022/02/21 07:19:42 PM] Opening HDF file: /media/nathan/Transcend/Nathan/data/kraken/h2b/GV0794/Pos8/Pos8_aligned/HDF/segmented.hdf5...\n",
      "[INFO][2022/02/21 07:19:42 PM] Loading tracks/obj_type_1\n"
     ]
    },
    {
     "name": "stdout",
     "output_type": "stream",
     "text": [
      "ID GV0794_Pos8_23_RFP\n",
      "Loading GV0794/Pos8/\n",
      "Btrack version no.: 0.4.2\n"
     ]
    },
    {
     "name": "stderr",
     "output_type": "stream",
     "text": [
      "[INFO][2022/02/21 07:19:42 PM] Loading objects/obj_type_1 (101301, 5) (96819 filtered: area>=100)\n",
      "[INFO][2022/02/21 07:19:44 PM] Closing HDF file: /media/nathan/Transcend/Nathan/data/kraken/h2b/GV0794/Pos8/Pos8_aligned/HDF/segmented.hdf5\n",
      "[INFO][2022/02/21 07:19:44 PM] Opening HDF file: /media/nathan/Transcend/Nathan/data/kraken/h2b/GV0794/Pos8/Pos8_aligned/HDF/segmented.hdf5...\n",
      "[INFO][2022/02/21 07:19:44 PM] Loading tracks/obj_type_2\n",
      "[INFO][2022/02/21 07:19:44 PM] Loading objects/obj_type_2 (4133, 5) (3527 filtered: area>=100)\n",
      "[INFO][2022/02/21 07:19:44 PM] Closing HDF file: /media/nathan/Transcend/Nathan/data/kraken/h2b/GV0794/Pos8/Pos8_aligned/HDF/segmented.hdf5\n"
     ]
    },
    {
     "name": "stdout",
     "output_type": "stream",
     "text": [
      "Track information loaded and ordered according to cell type (WT IDs >0> Scr IDs)\n",
      "Loaded GV0794/Pos8/\n"
     ]
    },
    {
     "name": "stderr",
     "output_type": "stream",
     "text": [
      "[INFO][2022/02/21 07:19:46 PM] Opening HDF file: /media/nathan/Transcend/Nathan/data/kraken/h2b/GV0795/Pos3/Pos3_aligned/HDF/segmented.hdf5...\n",
      "[INFO][2022/02/21 07:19:46 PM] Loading tracks/obj_type_1\n"
     ]
    },
    {
     "name": "stdout",
     "output_type": "stream",
     "text": [
      "ID GV0795_Pos3_1_RFP\n",
      "Loading GV0795/Pos3/\n",
      "Btrack version no.: 0.4.2\n"
     ]
    },
    {
     "name": "stderr",
     "output_type": "stream",
     "text": [
      "[INFO][2022/02/21 07:19:48 PM] Loading objects/obj_type_1 (274100, 5) (263837 filtered: area>=100)\n",
      "[INFO][2022/02/21 07:19:52 PM] Closing HDF file: /media/nathan/Transcend/Nathan/data/kraken/h2b/GV0795/Pos3/Pos3_aligned/HDF/segmented.hdf5\n",
      "[INFO][2022/02/21 07:19:52 PM] Opening HDF file: /media/nathan/Transcend/Nathan/data/kraken/h2b/GV0795/Pos3/Pos3_aligned/HDF/segmented.hdf5...\n",
      "[INFO][2022/02/21 07:19:52 PM] Loading tracks/obj_type_2\n",
      "[INFO][2022/02/21 07:19:52 PM] Loading objects/obj_type_2 (16554, 5) (13970 filtered: area>=100)\n",
      "[INFO][2022/02/21 07:19:52 PM] Closing HDF file: /media/nathan/Transcend/Nathan/data/kraken/h2b/GV0795/Pos3/Pos3_aligned/HDF/segmented.hdf5\n"
     ]
    },
    {
     "name": "stdout",
     "output_type": "stream",
     "text": [
      "Track information loaded and ordered according to cell type (WT IDs >0> Scr IDs)\n",
      "Loaded GV0795/Pos3/\n",
      "ID GV0795_Pos3_66_RFP\n",
      "ID GV0795_Pos3_167_RFP\n",
      "ID GV0795_Pos3_7_RFP\n",
      "ID GV0795_Pos3_45_RFP\n",
      "ID GV0795_Pos3_347_RFP\n",
      "ID GV0795_Pos3_296_RFP\n",
      "ID GV0795_Pos3_310_RFP\n"
     ]
    },
    {
     "name": "stderr",
     "output_type": "stream",
     "text": [
      "[INFO][2022/02/21 07:20:37 PM] Opening HDF file: /media/nathan/Transcend/Nathan/data/kraken/h2b/GV0795/Pos8/Pos8_aligned/HDF/segmented.hdf5...\n",
      "[INFO][2022/02/21 07:20:37 PM] Loading tracks/obj_type_1\n"
     ]
    },
    {
     "name": "stdout",
     "output_type": "stream",
     "text": [
      "ID GV0795_Pos8_5_RFP\n",
      "Loading GV0795/Pos8/\n",
      "Btrack version no.: 0.4.2\n"
     ]
    },
    {
     "name": "stderr",
     "output_type": "stream",
     "text": [
      "[INFO][2022/02/21 07:20:39 PM] Loading objects/obj_type_1 (273725, 5) (262060 filtered: area>=100)\n",
      "[INFO][2022/02/21 07:20:43 PM] Closing HDF file: /media/nathan/Transcend/Nathan/data/kraken/h2b/GV0795/Pos8/Pos8_aligned/HDF/segmented.hdf5\n",
      "[INFO][2022/02/21 07:20:43 PM] Opening HDF file: /media/nathan/Transcend/Nathan/data/kraken/h2b/GV0795/Pos8/Pos8_aligned/HDF/segmented.hdf5...\n",
      "[INFO][2022/02/21 07:20:43 PM] Loading tracks/obj_type_2\n",
      "[INFO][2022/02/21 07:20:43 PM] Loading objects/obj_type_2 (12522, 5) (9142 filtered: area>=100)\n",
      "[INFO][2022/02/21 07:20:43 PM] Closing HDF file: /media/nathan/Transcend/Nathan/data/kraken/h2b/GV0795/Pos8/Pos8_aligned/HDF/segmented.hdf5\n"
     ]
    },
    {
     "name": "stdout",
     "output_type": "stream",
     "text": [
      "Track information loaded and ordered according to cell type (WT IDs >0> Scr IDs)\n",
      "Loaded GV0795/Pos8/\n",
      "ID GV0795_Pos8_3_RFP\n",
      "ID GV0795_Pos8_1_RFP\n",
      "ID GV0795_Pos8_144_RFP\n",
      "ID GV0795_Pos8_234_RFP\n",
      "ID GV0795_Pos8_233_RFP\n",
      "ID GV0795_Pos8_7_RFP\n"
     ]
    },
    {
     "name": "stderr",
     "output_type": "stream",
     "text": [
      "[INFO][2022/02/21 07:21:31 PM] Opening HDF file: /media/nathan/Transcend/Nathan/data/kraken/h2b/GV0796/Pos3/Pos3_aligned/HDF/segmented.hdf5...\n",
      "[INFO][2022/02/21 07:21:31 PM] Loading tracks/obj_type_1\n"
     ]
    },
    {
     "name": "stdout",
     "output_type": "stream",
     "text": [
      "ID GV0796_Pos3_9_RFP\n",
      "Loading GV0796/Pos3/\n",
      "Btrack version no.: 0.4.2\n"
     ]
    },
    {
     "name": "stderr",
     "output_type": "stream",
     "text": [
      "[INFO][2022/02/21 07:21:36 PM] Loading objects/obj_type_1 (683581, 5) (648688 filtered: area>=100)\n",
      "[INFO][2022/02/21 07:21:45 PM] Closing HDF file: /media/nathan/Transcend/Nathan/data/kraken/h2b/GV0796/Pos3/Pos3_aligned/HDF/segmented.hdf5\n",
      "[INFO][2022/02/21 07:21:45 PM] Opening HDF file: /media/nathan/Transcend/Nathan/data/kraken/h2b/GV0796/Pos3/Pos3_aligned/HDF/segmented.hdf5...\n",
      "[INFO][2022/02/21 07:21:45 PM] Loading tracks/obj_type_2\n",
      "[INFO][2022/02/21 07:21:45 PM] Loading objects/obj_type_2 (16040, 5) (13600 filtered: area>=100)\n",
      "[INFO][2022/02/21 07:21:45 PM] Closing HDF file: /media/nathan/Transcend/Nathan/data/kraken/h2b/GV0796/Pos3/Pos3_aligned/HDF/segmented.hdf5\n"
     ]
    },
    {
     "name": "stdout",
     "output_type": "stream",
     "text": [
      "Track information loaded and ordered according to cell type (WT IDs >0> Scr IDs)\n",
      "Loaded GV0796/Pos3/\n",
      "ID GV0796_Pos3_46_RFP\n",
      "ID GV0796_Pos3_92_RFP\n",
      "ID GV0796_Pos3_1_RFP\n",
      "ID GV0796_Pos3_45_RFP\n",
      "ID GV0796_Pos3_82_RFP\n",
      "ID GV0796_Pos3_174_RFP\n",
      "ID GV0796_Pos3_221_RFP\n",
      "ID GV0796_Pos3_145_RFP\n",
      "ID GV0796_Pos3_52_RFP\n"
     ]
    },
    {
     "name": "stderr",
     "output_type": "stream",
     "text": [
      "[INFO][2022/02/21 07:25:10 PM] Opening HDF file: /media/nathan/Transcend/Nathan/data/kraken/h2b/GV0796/Pos8/Pos8_aligned/HDF/segmented.hdf5...\n"
     ]
    },
    {
     "name": "stdout",
     "output_type": "stream",
     "text": [
      "ID GV0796_Pos8_1_RFP\n",
      "Loading GV0796/Pos8/\n",
      "Btrack version no.: 0.4.2\n"
     ]
    },
    {
     "name": "stderr",
     "output_type": "stream",
     "text": [
      "[INFO][2022/02/21 07:25:10 PM] Loading tracks/obj_type_1\n",
      "[INFO][2022/02/21 07:25:13 PM] Loading objects/obj_type_1 (459180, 5) (445430 filtered: area>=100)\n",
      "[INFO][2022/02/21 07:25:21 PM] Closing HDF file: /media/nathan/Transcend/Nathan/data/kraken/h2b/GV0796/Pos8/Pos8_aligned/HDF/segmented.hdf5\n",
      "[INFO][2022/02/21 07:25:21 PM] Opening HDF file: /media/nathan/Transcend/Nathan/data/kraken/h2b/GV0796/Pos8/Pos8_aligned/HDF/segmented.hdf5...\n",
      "[INFO][2022/02/21 07:25:21 PM] Loading tracks/obj_type_2\n",
      "[INFO][2022/02/21 07:25:21 PM] Loading objects/obj_type_2 (10613, 5) (8656 filtered: area>=100)\n",
      "[INFO][2022/02/21 07:25:21 PM] Closing HDF file: /media/nathan/Transcend/Nathan/data/kraken/h2b/GV0796/Pos8/Pos8_aligned/HDF/segmented.hdf5\n"
     ]
    },
    {
     "name": "stdout",
     "output_type": "stream",
     "text": [
      "Track information loaded and ordered according to cell type (WT IDs >0> Scr IDs)\n",
      "Loaded GV0796/Pos8/\n",
      "ID GV0796_Pos8_31_RFP\n",
      "ID GV0796_Pos8_17_RFP\n"
     ]
    },
    {
     "name": "stderr",
     "output_type": "stream",
     "text": [
      "[INFO][2022/02/21 07:25:55 PM] Opening HDF file: /media/nathan/Transcend/Nathan/data/kraken/h2b/GV0797/Pos3/Pos3_aligned/HDF/segmented.hdf5...\n",
      "[INFO][2022/02/21 07:25:55 PM] Loading tracks/obj_type_1\n"
     ]
    },
    {
     "name": "stdout",
     "output_type": "stream",
     "text": [
      "ID GV0797_Pos3_2_RFP\n",
      "Loading GV0797/Pos3/\n",
      "Btrack version no.: 0.4.2\n"
     ]
    },
    {
     "name": "stderr",
     "output_type": "stream",
     "text": [
      "[INFO][2022/02/21 07:25:58 PM] Loading objects/obj_type_1 (449659, 5) (433455 filtered: area>=100)\n",
      "[INFO][2022/02/21 07:26:06 PM] Closing HDF file: /media/nathan/Transcend/Nathan/data/kraken/h2b/GV0797/Pos3/Pos3_aligned/HDF/segmented.hdf5\n",
      "[INFO][2022/02/21 07:26:06 PM] Opening HDF file: /media/nathan/Transcend/Nathan/data/kraken/h2b/GV0797/Pos3/Pos3_aligned/HDF/segmented.hdf5...\n",
      "[INFO][2022/02/21 07:26:06 PM] Loading tracks/obj_type_2\n",
      "[INFO][2022/02/21 07:26:06 PM] Loading objects/obj_type_2 (13399, 5) (10705 filtered: area>=100)\n",
      "[INFO][2022/02/21 07:26:06 PM] Closing HDF file: /media/nathan/Transcend/Nathan/data/kraken/h2b/GV0797/Pos3/Pos3_aligned/HDF/segmented.hdf5\n"
     ]
    },
    {
     "name": "stdout",
     "output_type": "stream",
     "text": [
      "Track information loaded and ordered according to cell type (WT IDs >0> Scr IDs)\n",
      "Loaded GV0797/Pos3/\n",
      "ID GV0797_Pos3_11_RFP\n",
      "ID GV0797_Pos3_9_RFP\n",
      "ID GV0797_Pos3_54_RFP\n",
      "ID GV0797_Pos3_53_RFP\n",
      "ID GV0797_Pos3_72_RFP\n",
      "ID GV0797_Pos3_71_RFP\n",
      "ID GV0797_Pos3_61_RFP\n",
      "ID GV0797_Pos3_10_RFP\n",
      "ID GV0797_Pos3_199_RFP\n",
      "ID GV0797_Pos3_8_RFP\n"
     ]
    },
    {
     "name": "stderr",
     "output_type": "stream",
     "text": [
      "[INFO][2022/02/21 07:28:19 PM] Opening HDF file: /media/nathan/Transcend/Nathan/data/kraken/h2b/GV0797/Pos8/Pos8_aligned/HDF/segmented.hdf5...\n"
     ]
    },
    {
     "name": "stdout",
     "output_type": "stream",
     "text": [
      "ID GV0797_Pos8_3_RFP\n",
      "Loading GV0797/Pos8/\n",
      "Btrack version no.: 0.4.2\n"
     ]
    },
    {
     "name": "stderr",
     "output_type": "stream",
     "text": [
      "[INFO][2022/02/21 07:28:19 PM] Loading tracks/obj_type_1\n",
      "[INFO][2022/02/21 07:28:21 PM] Loading objects/obj_type_1 (294496, 5) (285144 filtered: area>=100)\n",
      "[INFO][2022/02/21 07:28:26 PM] Closing HDF file: /media/nathan/Transcend/Nathan/data/kraken/h2b/GV0797/Pos8/Pos8_aligned/HDF/segmented.hdf5\n",
      "[INFO][2022/02/21 07:28:26 PM] Opening HDF file: /media/nathan/Transcend/Nathan/data/kraken/h2b/GV0797/Pos8/Pos8_aligned/HDF/segmented.hdf5...\n",
      "[INFO][2022/02/21 07:28:26 PM] Loading tracks/obj_type_2\n",
      "[INFO][2022/02/21 07:28:26 PM] Loading objects/obj_type_2 (6854, 5) (5414 filtered: area>=100)\n",
      "[INFO][2022/02/21 07:28:26 PM] Closing HDF file: /media/nathan/Transcend/Nathan/data/kraken/h2b/GV0797/Pos8/Pos8_aligned/HDF/segmented.hdf5\n"
     ]
    },
    {
     "name": "stdout",
     "output_type": "stream",
     "text": [
      "Track information loaded and ordered according to cell type (WT IDs >0> Scr IDs)\n",
      "Loaded GV0797/Pos8/\n",
      "ID GV0797_Pos8_5_RFP\n",
      "ID GV0797_Pos8_11_RFP\n",
      "ID GV0797_Pos8_59_RFP\n"
     ]
    },
    {
     "name": "stderr",
     "output_type": "stream",
     "text": [
      "[INFO][2022/02/21 07:28:57 PM] Opening HDF file: /media/nathan/Transcend/Nathan/data/kraken/h2b/GV0798/Pos8/Pos8_aligned/HDF/segmented.hdf5...\n",
      "[INFO][2022/02/21 07:28:57 PM] Loading tracks/obj_type_1\n"
     ]
    },
    {
     "name": "stdout",
     "output_type": "stream",
     "text": [
      "ID GV0798_Pos8_86_RFP\n",
      "Loading GV0798/Pos8/\n",
      "Btrack version no.: 0.4.2\n"
     ]
    },
    {
     "name": "stderr",
     "output_type": "stream",
     "text": [
      "[INFO][2022/02/21 07:29:00 PM] Loading objects/obj_type_1 (286320, 5) (277358 filtered: area>=100)\n",
      "[INFO][2022/02/21 07:29:04 PM] Closing HDF file: /media/nathan/Transcend/Nathan/data/kraken/h2b/GV0798/Pos8/Pos8_aligned/HDF/segmented.hdf5\n",
      "[INFO][2022/02/21 07:29:04 PM] Opening HDF file: /media/nathan/Transcend/Nathan/data/kraken/h2b/GV0798/Pos8/Pos8_aligned/HDF/segmented.hdf5...\n",
      "[INFO][2022/02/21 07:29:04 PM] Loading tracks/obj_type_2\n",
      "[INFO][2022/02/21 07:29:04 PM] Loading objects/obj_type_2 (9028, 5) (8305 filtered: area>=100)\n",
      "[INFO][2022/02/21 07:29:04 PM] Closing HDF file: /media/nathan/Transcend/Nathan/data/kraken/h2b/GV0798/Pos8/Pos8_aligned/HDF/segmented.hdf5\n"
     ]
    },
    {
     "name": "stdout",
     "output_type": "stream",
     "text": [
      "Track information loaded and ordered according to cell type (WT IDs >0> Scr IDs)\n",
      "Loaded GV0798/Pos8/\n",
      "ID GV0798_Pos8_8_RFP\n",
      "ID GV0798_Pos8_77_RFP\n",
      "ID GV0798_Pos8_16_RFP\n"
     ]
    },
    {
     "name": "stderr",
     "output_type": "stream",
     "text": [
      "[INFO][2022/02/21 07:29:45 PM] Opening HDF file: /media/nathan/Transcend/Nathan/data/kraken/h2b/GV0800/Pos3/Pos3_aligned/HDF/segmented.hdf5...\n",
      "[INFO][2022/02/21 07:29:45 PM] Loading tracks/obj_type_1\n"
     ]
    },
    {
     "name": "stdout",
     "output_type": "stream",
     "text": [
      "ID GV0800_Pos3_9_RFP\n",
      "Loading GV0800/Pos3/\n",
      "Btrack version no.: 0.4.2\n"
     ]
    },
    {
     "name": "stderr",
     "output_type": "stream",
     "text": [
      "[INFO][2022/02/21 07:29:49 PM] Loading objects/obj_type_1 (466461, 5) (444022 filtered: area>=100)\n",
      "[INFO][2022/02/21 07:29:56 PM] Closing HDF file: /media/nathan/Transcend/Nathan/data/kraken/h2b/GV0800/Pos3/Pos3_aligned/HDF/segmented.hdf5\n",
      "[INFO][2022/02/21 07:29:56 PM] Opening HDF file: /media/nathan/Transcend/Nathan/data/kraken/h2b/GV0800/Pos3/Pos3_aligned/HDF/segmented.hdf5...\n",
      "[INFO][2022/02/21 07:29:56 PM] Loading tracks/obj_type_2\n",
      "[INFO][2022/02/21 07:29:56 PM] Loading objects/obj_type_2 (9696, 5) (7037 filtered: area>=100)\n",
      "[INFO][2022/02/21 07:29:56 PM] Closing HDF file: /media/nathan/Transcend/Nathan/data/kraken/h2b/GV0800/Pos3/Pos3_aligned/HDF/segmented.hdf5\n"
     ]
    },
    {
     "name": "stdout",
     "output_type": "stream",
     "text": [
      "Track information loaded and ordered according to cell type (WT IDs >0> Scr IDs)\n",
      "Loaded GV0800/Pos3/\n",
      "ID GV0800_Pos3_66_RFP\n",
      "ID GV0800_Pos3_65_RFP\n"
     ]
    },
    {
     "name": "stderr",
     "output_type": "stream",
     "text": [
      "[INFO][2022/02/21 07:30:33 PM] Opening HDF file: /media/nathan/Transcend/Nathan/data/kraken/h2b/GV0800/Pos8/Pos8_aligned/HDF/segmented.hdf5...\n",
      "[INFO][2022/02/21 07:30:34 PM] Loading tracks/obj_type_1\n"
     ]
    },
    {
     "name": "stdout",
     "output_type": "stream",
     "text": [
      "ID GV0800_Pos8_9_RFP\n",
      "Loading GV0800/Pos8/\n",
      "Btrack version no.: 0.4.2\n"
     ]
    },
    {
     "name": "stderr",
     "output_type": "stream",
     "text": [
      "[INFO][2022/02/21 07:30:37 PM] Loading objects/obj_type_1 (412266, 5) (393638 filtered: area>=100)\n",
      "[INFO][2022/02/21 07:30:43 PM] Closing HDF file: /media/nathan/Transcend/Nathan/data/kraken/h2b/GV0800/Pos8/Pos8_aligned/HDF/segmented.hdf5\n",
      "[INFO][2022/02/21 07:30:43 PM] Opening HDF file: /media/nathan/Transcend/Nathan/data/kraken/h2b/GV0800/Pos8/Pos8_aligned/HDF/segmented.hdf5...\n",
      "[INFO][2022/02/21 07:30:43 PM] Loading tracks/obj_type_2\n",
      "[INFO][2022/02/21 07:30:43 PM] Loading objects/obj_type_2 (16111, 5) (12664 filtered: area>=100)\n",
      "[INFO][2022/02/21 07:30:44 PM] Closing HDF file: /media/nathan/Transcend/Nathan/data/kraken/h2b/GV0800/Pos8/Pos8_aligned/HDF/segmented.hdf5\n"
     ]
    },
    {
     "name": "stdout",
     "output_type": "stream",
     "text": [
      "Track information loaded and ordered according to cell type (WT IDs >0> Scr IDs)\n",
      "Loaded GV0800/Pos8/\n",
      "ID GV0800_Pos8_74_RFP\n",
      "ID GV0800_Pos8_75_RFP\n",
      "ID GV0800_Pos8_118_RFP\n",
      "ID GV0800_Pos8_160_RFP\n",
      "ID GV0800_Pos8_162_RFP\n"
     ]
    },
    {
     "name": "stderr",
     "output_type": "stream",
     "text": [
      "[INFO][2022/02/21 07:31:26 PM] Opening HDF file: /media/nathan/Transcend/Nathan/data/kraken/h2b/GV0801/Pos3/Pos3_aligned/HDF/segmented.hdf5...\n",
      "[INFO][2022/02/21 07:31:26 PM] Loading tracks/obj_type_1\n"
     ]
    },
    {
     "name": "stdout",
     "output_type": "stream",
     "text": [
      "ID GV0801_Pos3_9_RFP\n",
      "Loading GV0801/Pos3/\n",
      "Btrack version no.: 0.4.2\n"
     ]
    },
    {
     "name": "stderr",
     "output_type": "stream",
     "text": [
      "[INFO][2022/02/21 07:31:30 PM] Loading objects/obj_type_1 (467654, 5) (443294 filtered: area>=100)\n",
      "[INFO][2022/02/21 07:31:36 PM] Closing HDF file: /media/nathan/Transcend/Nathan/data/kraken/h2b/GV0801/Pos3/Pos3_aligned/HDF/segmented.hdf5\n",
      "[INFO][2022/02/21 07:31:36 PM] Opening HDF file: /media/nathan/Transcend/Nathan/data/kraken/h2b/GV0801/Pos3/Pos3_aligned/HDF/segmented.hdf5...\n",
      "[INFO][2022/02/21 07:31:36 PM] Loading tracks/obj_type_2\n",
      "[INFO][2022/02/21 07:31:37 PM] Loading objects/obj_type_2 (30547, 5) (26081 filtered: area>=100)\n",
      "[INFO][2022/02/21 07:31:37 PM] Closing HDF file: /media/nathan/Transcend/Nathan/data/kraken/h2b/GV0801/Pos3/Pos3_aligned/HDF/segmented.hdf5\n"
     ]
    },
    {
     "name": "stdout",
     "output_type": "stream",
     "text": [
      "Track information loaded and ordered according to cell type (WT IDs >0> Scr IDs)\n",
      "Loaded GV0801/Pos3/\n",
      "ID GV0801_Pos3_198_RFP\n",
      "ID GV0801_Pos3_89_RFP\n",
      "ID GV0801_Pos3_194_RFP\n",
      "ID GV0801_Pos3_131_RFP\n",
      "ID GV0801_Pos3_126_RFP\n",
      "ID GV0801_Pos3_124_RFP\n",
      "ID GV0801_Pos3_123_RFP\n",
      "ID GV0801_Pos3_163_RFP\n",
      "ID GV0801_Pos3_18_RFP\n",
      "ID GV0801_Pos3_162_RFP\n"
     ]
    },
    {
     "name": "stderr",
     "output_type": "stream",
     "text": [
      "[INFO][2022/02/21 07:34:16 PM] Opening HDF file: /media/nathan/Transcend/Nathan/data/kraken/h2b/GV0802/Pos3/Pos3_aligned/HDF/segmented.hdf5...\n"
     ]
    },
    {
     "name": "stdout",
     "output_type": "stream",
     "text": [
      "ID GV0802_Pos3_10_RFP\n",
      "Loading GV0802/Pos3/\n",
      "Btrack version no.: 0.4.2\n"
     ]
    },
    {
     "name": "stderr",
     "output_type": "stream",
     "text": [
      "[INFO][2022/02/21 07:34:17 PM] Loading tracks/obj_type_1\n",
      "[INFO][2022/02/21 07:34:22 PM] Loading objects/obj_type_1 (660140, 5) (631868 filtered: area>=100)\n",
      "[INFO][2022/02/21 07:34:32 PM] Closing HDF file: /media/nathan/Transcend/Nathan/data/kraken/h2b/GV0802/Pos3/Pos3_aligned/HDF/segmented.hdf5\n",
      "[INFO][2022/02/21 07:34:32 PM] Opening HDF file: /media/nathan/Transcend/Nathan/data/kraken/h2b/GV0802/Pos3/Pos3_aligned/HDF/segmented.hdf5...\n",
      "[INFO][2022/02/21 07:34:32 PM] Loading tracks/obj_type_2\n",
      "[INFO][2022/02/21 07:34:32 PM] Loading objects/obj_type_2 (23947, 5) (20889 filtered: area>=100)\n",
      "[INFO][2022/02/21 07:34:32 PM] Closing HDF file: /media/nathan/Transcend/Nathan/data/kraken/h2b/GV0802/Pos3/Pos3_aligned/HDF/segmented.hdf5\n"
     ]
    },
    {
     "name": "stdout",
     "output_type": "stream",
     "text": [
      "Track information loaded and ordered according to cell type (WT IDs >0> Scr IDs)\n",
      "Loaded GV0802/Pos3/\n",
      "ID GV0802_Pos3_4_RFP\n",
      "ID GV0802_Pos3_110_RFP\n",
      "ID GV0802_Pos3_109_RFP\n",
      "ID GV0802_Pos3_106_RFP\n",
      "ID GV0802_Pos3_128_RFP\n",
      "ID GV0802_Pos3_7_RFP\n",
      "ID GV0802_Pos3_93_RFP\n",
      "ID GV0802_Pos3_91_RFP\n",
      "ID GV0802_Pos3_131_RFP\n",
      "ID GV0802_Pos3_16_RFP\n",
      "ID GV0802_Pos3_154_RFP\n"
     ]
    },
    {
     "name": "stderr",
     "output_type": "stream",
     "text": [
      "[INFO][2022/02/21 07:37:46 PM] Opening HDF file: /media/nathan/Transcend/Nathan/data/kraken/h2b/GV0805/Pos3/Pos3_aligned/HDF/segmented.hdf5...\n",
      "[INFO][2022/02/21 07:37:46 PM] Loading tracks/obj_type_1\n"
     ]
    },
    {
     "name": "stdout",
     "output_type": "stream",
     "text": [
      "ID GV0805_Pos3_5_RFP\n",
      "Loading GV0805/Pos3/\n",
      "Btrack version no.: 0.4.2\n"
     ]
    },
    {
     "name": "stderr",
     "output_type": "stream",
     "text": [
      "[INFO][2022/02/21 07:37:51 PM] Loading objects/obj_type_1 (518517, 5) (489660 filtered: area>=100)\n",
      "[INFO][2022/02/21 07:37:58 PM] Closing HDF file: /media/nathan/Transcend/Nathan/data/kraken/h2b/GV0805/Pos3/Pos3_aligned/HDF/segmented.hdf5\n",
      "[INFO][2022/02/21 07:37:58 PM] Opening HDF file: /media/nathan/Transcend/Nathan/data/kraken/h2b/GV0805/Pos3/Pos3_aligned/HDF/segmented.hdf5...\n",
      "[INFO][2022/02/21 07:37:58 PM] Loading tracks/obj_type_2\n",
      "[INFO][2022/02/21 07:37:59 PM] Loading objects/obj_type_2 (16677, 5) (12311 filtered: area>=100)\n",
      "[INFO][2022/02/21 07:37:59 PM] Closing HDF file: /media/nathan/Transcend/Nathan/data/kraken/h2b/GV0805/Pos3/Pos3_aligned/HDF/segmented.hdf5\n"
     ]
    },
    {
     "name": "stdout",
     "output_type": "stream",
     "text": [
      "Track information loaded and ordered according to cell type (WT IDs >0> Scr IDs)\n",
      "Loaded GV0805/Pos3/\n",
      "ID GV0805_Pos3_4_RFP\n",
      "ID GV0805_Pos3_162_RFP\n",
      "ID GV0805_Pos3_164_RFP\n",
      "ID GV0805_Pos3_115_RFP\n"
     ]
    },
    {
     "name": "stderr",
     "output_type": "stream",
     "text": [
      "[INFO][2022/02/21 07:39:02 PM] Opening HDF file: /media/nathan/Transcend/Nathan/data/kraken/h2b/GV0806/Pos3/Pos3_aligned/HDF/segmented.hdf5...\n",
      "[INFO][2022/02/21 07:39:02 PM] Loading tracks/obj_type_1\n"
     ]
    },
    {
     "name": "stdout",
     "output_type": "stream",
     "text": [
      "ID GV0806_Pos3_9_RFP\n",
      "Loading GV0806/Pos3/\n",
      "Btrack version no.: 0.4.2\n"
     ]
    },
    {
     "name": "stderr",
     "output_type": "stream",
     "text": [
      "[INFO][2022/02/21 07:39:08 PM] Loading objects/obj_type_1 (704893, 5) (675206 filtered: area>=100)\n",
      "[INFO][2022/02/21 07:39:19 PM] Closing HDF file: /media/nathan/Transcend/Nathan/data/kraken/h2b/GV0806/Pos3/Pos3_aligned/HDF/segmented.hdf5\n",
      "[INFO][2022/02/21 07:39:19 PM] Opening HDF file: /media/nathan/Transcend/Nathan/data/kraken/h2b/GV0806/Pos3/Pos3_aligned/HDF/segmented.hdf5...\n",
      "[INFO][2022/02/21 07:39:19 PM] Loading tracks/obj_type_2\n",
      "[INFO][2022/02/21 07:39:19 PM] Loading objects/obj_type_2 (18126, 5) (15960 filtered: area>=100)\n",
      "[INFO][2022/02/21 07:39:19 PM] Closing HDF file: /media/nathan/Transcend/Nathan/data/kraken/h2b/GV0806/Pos3/Pos3_aligned/HDF/segmented.hdf5\n"
     ]
    },
    {
     "name": "stdout",
     "output_type": "stream",
     "text": [
      "Track information loaded and ordered according to cell type (WT IDs >0> Scr IDs)\n",
      "Loaded GV0806/Pos3/\n",
      "ID GV0806_Pos3_11_RFP\n",
      "ID GV0806_Pos3_108_RFP\n",
      "ID GV0806_Pos3_97_RFP\n",
      "ID GV0806_Pos3_12_RFP\n",
      "ID GV0806_Pos3_195_RFP\n"
     ]
    },
    {
     "name": "stderr",
     "output_type": "stream",
     "text": [
      "[INFO][2022/02/21 07:41:04 PM] Opening HDF file: /media/nathan/Transcend/Nathan/data/kraken/h2b/GV0807/Pos3/Pos3_aligned/HDF/segmented.hdf5...\n",
      "[INFO][2022/02/21 07:41:04 PM] Loading tracks/obj_type_1\n"
     ]
    },
    {
     "name": "stdout",
     "output_type": "stream",
     "text": [
      "ID GV0807_Pos3_18_RFP\n",
      "Loading GV0807/Pos3/\n",
      "Btrack version no.: 0.4.2\n"
     ]
    },
    {
     "name": "stderr",
     "output_type": "stream",
     "text": [
      "[INFO][2022/02/21 07:41:07 PM] Loading objects/obj_type_1 (408973, 5) (388394 filtered: area>=100)\n",
      "[INFO][2022/02/21 07:41:12 PM] Closing HDF file: /media/nathan/Transcend/Nathan/data/kraken/h2b/GV0807/Pos3/Pos3_aligned/HDF/segmented.hdf5\n",
      "[INFO][2022/02/21 07:41:12 PM] Opening HDF file: /media/nathan/Transcend/Nathan/data/kraken/h2b/GV0807/Pos3/Pos3_aligned/HDF/segmented.hdf5...\n",
      "[INFO][2022/02/21 07:41:12 PM] Loading tracks/obj_type_2\n",
      "[INFO][2022/02/21 07:41:13 PM] Loading objects/obj_type_2 (12115, 5) (8894 filtered: area>=100)\n",
      "[INFO][2022/02/21 07:41:13 PM] Closing HDF file: /media/nathan/Transcend/Nathan/data/kraken/h2b/GV0807/Pos3/Pos3_aligned/HDF/segmented.hdf5\n"
     ]
    },
    {
     "name": "stdout",
     "output_type": "stream",
     "text": [
      "Track information loaded and ordered according to cell type (WT IDs >0> Scr IDs)\n",
      "Loaded GV0807/Pos3/\n",
      "ID GV0807_Pos3_17_RFP\n",
      "ID GV0807_Pos3_51_RFP\n",
      "ID GV0807_Pos3_1_RFP\n",
      "ID GV0807_Pos3_5_RFP\n",
      "ID GV0807_Pos3_4_RFP\n"
     ]
    },
    {
     "name": "stderr",
     "output_type": "stream",
     "text": [
      "[INFO][2022/02/21 07:42:39 PM] Opening HDF file: /media/nathan/Transcend/Nathan/data/kraken/h2b/GV0813/Pos0/Pos0_aligned/HDF/segmented.hdf5...\n",
      "[INFO][2022/02/21 07:42:39 PM] Loading tracks/obj_type_1\n"
     ]
    },
    {
     "name": "stdout",
     "output_type": "stream",
     "text": [
      "ID GV0813_Pos0_13_RFP\n",
      "Loading GV0813/Pos0/\n",
      "Btrack version no.: 0.4.2\n"
     ]
    },
    {
     "name": "stderr",
     "output_type": "stream",
     "text": [
      "[INFO][2022/02/21 07:42:39 PM] Loading objects/obj_type_1 (85389, 5) (80063 filtered: area>=100)\n",
      "[INFO][2022/02/21 07:42:40 PM] Closing HDF file: /media/nathan/Transcend/Nathan/data/kraken/h2b/GV0813/Pos0/Pos0_aligned/HDF/segmented.hdf5\n",
      "[INFO][2022/02/21 07:42:40 PM] Opening HDF file: /media/nathan/Transcend/Nathan/data/kraken/h2b/GV0813/Pos0/Pos0_aligned/HDF/segmented.hdf5...\n",
      "[INFO][2022/02/21 07:42:40 PM] Loading tracks/obj_type_2\n",
      "[INFO][2022/02/21 07:42:40 PM] Loading objects/obj_type_2 (20301, 5) (17076 filtered: area>=100)\n",
      "[INFO][2022/02/21 07:42:40 PM] Closing HDF file: /media/nathan/Transcend/Nathan/data/kraken/h2b/GV0813/Pos0/Pos0_aligned/HDF/segmented.hdf5\n"
     ]
    },
    {
     "name": "stdout",
     "output_type": "stream",
     "text": [
      "Track information loaded and ordered according to cell type (WT IDs >0> Scr IDs)\n",
      "Loaded GV0813/Pos0/\n",
      "ID GV0813_Pos0_14_RFP\n",
      "ID GV0813_Pos0_115_RFP\n",
      "ID GV0813_Pos0_10_RFP\n",
      "ID GV0813_Pos0_12_RFP\n"
     ]
    },
    {
     "name": "stderr",
     "output_type": "stream",
     "text": [
      "[INFO][2022/02/21 07:42:52 PM] Opening HDF file: /media/nathan/Transcend/Nathan/data/kraken/h2b/GV0813/Pos1/Pos1_aligned/HDF/segmented.hdf5...\n",
      "[INFO][2022/02/21 07:42:52 PM] Loading tracks/obj_type_1\n"
     ]
    },
    {
     "name": "stdout",
     "output_type": "stream",
     "text": [
      "ID GV0813_Pos1_92_RFP\n",
      "Loading GV0813/Pos1/\n",
      "Btrack version no.: 0.4.2\n"
     ]
    },
    {
     "name": "stderr",
     "output_type": "stream",
     "text": [
      "[INFO][2022/02/21 07:42:53 PM] Loading objects/obj_type_1 (149696, 5) (120384 filtered: area>=100)\n",
      "[INFO][2022/02/21 07:42:55 PM] Closing HDF file: /media/nathan/Transcend/Nathan/data/kraken/h2b/GV0813/Pos1/Pos1_aligned/HDF/segmented.hdf5\n",
      "[INFO][2022/02/21 07:42:55 PM] Opening HDF file: /media/nathan/Transcend/Nathan/data/kraken/h2b/GV0813/Pos1/Pos1_aligned/HDF/segmented.hdf5...\n",
      "[INFO][2022/02/21 07:42:55 PM] Loading tracks/obj_type_2\n",
      "[INFO][2022/02/21 07:42:55 PM] Loading objects/obj_type_2 (30851, 5) (22174 filtered: area>=100)\n",
      "[INFO][2022/02/21 07:42:55 PM] Closing HDF file: /media/nathan/Transcend/Nathan/data/kraken/h2b/GV0813/Pos1/Pos1_aligned/HDF/segmented.hdf5\n"
     ]
    },
    {
     "name": "stdout",
     "output_type": "stream",
     "text": [
      "Track information loaded and ordered according to cell type (WT IDs >0> Scr IDs)\n",
      "Loaded GV0813/Pos1/\n",
      "ID GV0813_Pos1_1_RFP\n",
      "ID GV0813_Pos1_2_RFP\n",
      "ID GV0813_Pos1_386_RFP\n",
      "ID GV0813_Pos1_335_RFP\n",
      "ID GV0813_Pos1_170_RFP\n",
      "ID GV0813_Pos1_185_RFP\n",
      "ID GV0813_Pos1_184_RFP\n",
      "ID GV0813_Pos1_271_RFP\n",
      "ID GV0813_Pos1_300_RFP\n",
      "ID GV0813_Pos1_510_RFP\n",
      "ID GV0813_Pos1_325_RFP\n",
      "ID GV0813_Pos1_10_RFP\n",
      "ID GV0813_Pos1_171_RFP\n"
     ]
    },
    {
     "name": "stderr",
     "output_type": "stream",
     "text": [
      "[INFO][2022/02/21 07:44:09 PM] Opening HDF file: /media/nathan/Transcend/Nathan/data/kraken/h2b/GV0813/Pos2/Pos2_aligned/HDF/segmented.hdf5...\n",
      "[INFO][2022/02/21 07:44:09 PM] Loading tracks/obj_type_1\n"
     ]
    },
    {
     "name": "stdout",
     "output_type": "stream",
     "text": [
      "ID GV0813_Pos2_15_RFP\n",
      "Loading GV0813/Pos2/\n",
      "Btrack version no.: 0.4.2\n"
     ]
    },
    {
     "name": "stderr",
     "output_type": "stream",
     "text": [
      "[INFO][2022/02/21 07:44:10 PM] Loading objects/obj_type_1 (142719, 5) (105609 filtered: area>=100)\n",
      "[INFO][2022/02/21 07:44:11 PM] Closing HDF file: /media/nathan/Transcend/Nathan/data/kraken/h2b/GV0813/Pos2/Pos2_aligned/HDF/segmented.hdf5\n",
      "[INFO][2022/02/21 07:44:11 PM] Opening HDF file: /media/nathan/Transcend/Nathan/data/kraken/h2b/GV0813/Pos2/Pos2_aligned/HDF/segmented.hdf5...\n",
      "[INFO][2022/02/21 07:44:11 PM] Loading tracks/obj_type_2\n",
      "[INFO][2022/02/21 07:44:12 PM] Loading objects/obj_type_2 (22756, 5) (19093 filtered: area>=100)\n",
      "[INFO][2022/02/21 07:44:12 PM] Closing HDF file: /media/nathan/Transcend/Nathan/data/kraken/h2b/GV0813/Pos2/Pos2_aligned/HDF/segmented.hdf5\n"
     ]
    },
    {
     "name": "stdout",
     "output_type": "stream",
     "text": [
      "Track information loaded and ordered according to cell type (WT IDs >0> Scr IDs)\n",
      "Loaded GV0813/Pos2/\n",
      "ID GV0813_Pos2_52_RFP\n",
      "ID GV0813_Pos2_95_RFP\n",
      "ID GV0813_Pos2_157_RFP\n",
      "ID GV0813_Pos2_143_RFP\n",
      "ID GV0813_Pos2_21_RFP\n",
      "ID GV0813_Pos2_144_RFP\n"
     ]
    },
    {
     "name": "stderr",
     "output_type": "stream",
     "text": [
      "[INFO][2022/02/21 07:44:41 PM] Opening HDF file: /media/nathan/Transcend/Nathan/data/kraken/h2b/GV0813/Pos3/Pos3_aligned/HDF/segmented.hdf5...\n",
      "[INFO][2022/02/21 07:44:41 PM] Loading tracks/obj_type_1\n"
     ]
    },
    {
     "name": "stdout",
     "output_type": "stream",
     "text": [
      "ID GV0813_Pos3_4_RFP\n",
      "Loading GV0813/Pos3/\n",
      "Btrack version no.: 0.4.2\n"
     ]
    },
    {
     "name": "stderr",
     "output_type": "stream",
     "text": [
      "[INFO][2022/02/21 07:44:42 PM] Loading objects/obj_type_1 (153611, 5) (136100 filtered: area>=100)\n",
      "[INFO][2022/02/21 07:44:43 PM] Closing HDF file: /media/nathan/Transcend/Nathan/data/kraken/h2b/GV0813/Pos3/Pos3_aligned/HDF/segmented.hdf5\n",
      "[INFO][2022/02/21 07:44:43 PM] Opening HDF file: /media/nathan/Transcend/Nathan/data/kraken/h2b/GV0813/Pos3/Pos3_aligned/HDF/segmented.hdf5...\n",
      "[INFO][2022/02/21 07:44:43 PM] Loading tracks/obj_type_2\n",
      "[INFO][2022/02/21 07:44:44 PM] Loading objects/obj_type_2 (28558, 5) (22223 filtered: area>=100)\n",
      "[INFO][2022/02/21 07:44:44 PM] Closing HDF file: /media/nathan/Transcend/Nathan/data/kraken/h2b/GV0813/Pos3/Pos3_aligned/HDF/segmented.hdf5\n"
     ]
    },
    {
     "name": "stdout",
     "output_type": "stream",
     "text": [
      "Track information loaded and ordered according to cell type (WT IDs >0> Scr IDs)\n",
      "Loaded GV0813/Pos3/\n",
      "ID GV0813_Pos3_100_RFP\n",
      "ID GV0813_Pos3_180_RFP\n",
      "ID GV0813_Pos3_59_RFP\n",
      "ID GV0813_Pos3_220_RFP\n",
      "ID GV0813_Pos3_81_RFP\n",
      "ID GV0813_Pos3_239_RFP\n",
      "ID GV0813_Pos3_222_RFP\n",
      "ID GV0813_Pos3_377_RFP\n",
      "ID GV0813_Pos3_216_RFP\n"
     ]
    },
    {
     "name": "stderr",
     "output_type": "stream",
     "text": [
      "[INFO][2022/02/21 07:45:24 PM] Opening HDF file: /media/nathan/Transcend/Nathan/data/kraken/h2b/GV0813/Pos4/Pos4_aligned/HDF/segmented.hdf5...\n",
      "[INFO][2022/02/21 07:45:24 PM] Loading tracks/obj_type_1\n"
     ]
    },
    {
     "name": "stdout",
     "output_type": "stream",
     "text": [
      "ID GV0813_Pos4_190_RFP\n",
      "Loading GV0813/Pos4/\n",
      "Btrack version no.: 0.4.2\n"
     ]
    },
    {
     "name": "stderr",
     "output_type": "stream",
     "text": [
      "[INFO][2022/02/21 07:45:25 PM] Loading objects/obj_type_1 (150938, 5) (131031 filtered: area>=100)\n",
      "[INFO][2022/02/21 07:45:27 PM] Closing HDF file: /media/nathan/Transcend/Nathan/data/kraken/h2b/GV0813/Pos4/Pos4_aligned/HDF/segmented.hdf5\n",
      "[INFO][2022/02/21 07:45:27 PM] Opening HDF file: /media/nathan/Transcend/Nathan/data/kraken/h2b/GV0813/Pos4/Pos4_aligned/HDF/segmented.hdf5...\n",
      "[INFO][2022/02/21 07:45:27 PM] Loading tracks/obj_type_2\n",
      "[INFO][2022/02/21 07:45:27 PM] Loading objects/obj_type_2 (39270, 5) (29540 filtered: area>=100)\n",
      "[INFO][2022/02/21 07:45:27 PM] Closing HDF file: /media/nathan/Transcend/Nathan/data/kraken/h2b/GV0813/Pos4/Pos4_aligned/HDF/segmented.hdf5\n"
     ]
    },
    {
     "name": "stdout",
     "output_type": "stream",
     "text": [
      "Track information loaded and ordered according to cell type (WT IDs >0> Scr IDs)\n",
      "Loaded GV0813/Pos4/\n",
      "ID GV0813_Pos4_99_RFP\n",
      "ID GV0813_Pos4_513_RFP\n",
      "ID GV0813_Pos4_514_RFP\n",
      "ID GV0813_Pos4_11_RFP\n",
      "ID GV0813_Pos4_276_RFP\n"
     ]
    },
    {
     "name": "stderr",
     "output_type": "stream",
     "text": [
      "[INFO][2022/02/21 07:45:56 PM] Opening HDF file: /media/nathan/Transcend/Nathan/data/kraken/h2b/GV0813/Pos5/Pos5_aligned/HDF/segmented.hdf5...\n",
      "[INFO][2022/02/21 07:45:56 PM] Loading tracks/obj_type_1\n"
     ]
    },
    {
     "name": "stdout",
     "output_type": "stream",
     "text": [
      "ID GV0813_Pos5_212_RFP\n",
      "Loading GV0813/Pos5/\n",
      "Btrack version no.: 0.4.2\n"
     ]
    },
    {
     "name": "stderr",
     "output_type": "stream",
     "text": [
      "[INFO][2022/02/21 07:45:57 PM] Loading objects/obj_type_1 (160205, 5) (133425 filtered: area>=100)\n",
      "[INFO][2022/02/21 07:45:59 PM] Closing HDF file: /media/nathan/Transcend/Nathan/data/kraken/h2b/GV0813/Pos5/Pos5_aligned/HDF/segmented.hdf5\n",
      "[INFO][2022/02/21 07:45:59 PM] Opening HDF file: /media/nathan/Transcend/Nathan/data/kraken/h2b/GV0813/Pos5/Pos5_aligned/HDF/segmented.hdf5...\n",
      "[INFO][2022/02/21 07:45:59 PM] Loading tracks/obj_type_2\n",
      "[INFO][2022/02/21 07:45:59 PM] Loading objects/obj_type_2 (23703, 5) (19617 filtered: area>=100)\n",
      "[INFO][2022/02/21 07:46:00 PM] Closing HDF file: /media/nathan/Transcend/Nathan/data/kraken/h2b/GV0813/Pos5/Pos5_aligned/HDF/segmented.hdf5\n"
     ]
    },
    {
     "name": "stdout",
     "output_type": "stream",
     "text": [
      "Track information loaded and ordered according to cell type (WT IDs >0> Scr IDs)\n",
      "Loaded GV0813/Pos5/\n",
      "ID GV0813_Pos5_340_RFP\n",
      "ID GV0813_Pos5_210_RFP\n",
      "ID GV0813_Pos5_155_RFP\n"
     ]
    },
    {
     "name": "stderr",
     "output_type": "stream",
     "text": [
      "[INFO][2022/02/21 07:46:15 PM] Opening HDF file: /media/nathan/Transcend/Nathan/data/kraken/h2b/GV0814/Pos0/Pos0_aligned/HDF/segmented.hdf5...\n",
      "[INFO][2022/02/21 07:46:15 PM] Loading tracks/obj_type_1\n"
     ]
    },
    {
     "name": "stdout",
     "output_type": "stream",
     "text": [
      "ID GV0814_Pos0_30_RFP\n",
      "Loading GV0814/Pos0/\n",
      "Btrack version no.: 0.4.2\n"
     ]
    },
    {
     "name": "stderr",
     "output_type": "stream",
     "text": [
      "[INFO][2022/02/21 07:46:16 PM] Loading objects/obj_type_1 (134206, 5) (118580 filtered: area>=100)\n",
      "[INFO][2022/02/21 07:46:18 PM] Closing HDF file: /media/nathan/Transcend/Nathan/data/kraken/h2b/GV0814/Pos0/Pos0_aligned/HDF/segmented.hdf5\n",
      "[INFO][2022/02/21 07:46:18 PM] Opening HDF file: /media/nathan/Transcend/Nathan/data/kraken/h2b/GV0814/Pos0/Pos0_aligned/HDF/segmented.hdf5...\n",
      "[INFO][2022/02/21 07:46:18 PM] Loading tracks/obj_type_2\n",
      "[INFO][2022/02/21 07:46:18 PM] Loading objects/obj_type_2 (41136, 5) (25703 filtered: area>=100)\n",
      "[INFO][2022/02/21 07:46:19 PM] Closing HDF file: /media/nathan/Transcend/Nathan/data/kraken/h2b/GV0814/Pos0/Pos0_aligned/HDF/segmented.hdf5\n"
     ]
    },
    {
     "name": "stdout",
     "output_type": "stream",
     "text": [
      "Track information loaded and ordered according to cell type (WT IDs >0> Scr IDs)\n",
      "Loaded GV0814/Pos0/\n",
      "ID GV0814_Pos0_27_RFP\n",
      "ID GV0814_Pos0_15_RFP\n",
      "ID GV0814_Pos0_29_RFP\n",
      "ID GV0814_Pos0_23_RFP\n",
      "ID GV0814_Pos0_22_RFP\n",
      "ID GV0814_Pos0_462_RFP\n",
      "ID GV0814_Pos0_465_RFP\n",
      "ID GV0814_Pos0_662_RFP\n",
      "ID GV0814_Pos0_522_RFP\n",
      "ID GV0814_Pos0_18_RFP\n",
      "ID GV0814_Pos0_782_RFP\n",
      "ID GV0814_Pos0_357_RFP\n",
      "ID GV0814_Pos0_386_RFP\n",
      "ID GV0814_Pos0_579_RFP\n",
      "ID GV0814_Pos0_13_RFP\n",
      "ID GV0814_Pos0_759_RFP\n",
      "ID GV0814_Pos0_515_RFP\n"
     ]
    },
    {
     "name": "stderr",
     "output_type": "stream",
     "text": [
      "[INFO][2022/02/21 07:47:27 PM] Opening HDF file: /media/nathan/Transcend/Nathan/data/kraken/h2b/GV0815/Pos0/Pos0_aligned/HDF/segmented.hdf5...\n",
      "[INFO][2022/02/21 07:47:27 PM] Loading tracks/obj_type_1\n"
     ]
    },
    {
     "name": "stdout",
     "output_type": "stream",
     "text": [
      "ID GV0815_Pos0_230_RFP\n",
      "Loading GV0815/Pos0/\n",
      "Btrack version no.: 0.4.2\n"
     ]
    },
    {
     "name": "stderr",
     "output_type": "stream",
     "text": [
      "[INFO][2022/02/21 07:47:29 PM] Loading objects/obj_type_1 (286968, 5) (261403 filtered: area>=100)\n",
      "[INFO][2022/02/21 07:47:32 PM] Closing HDF file: /media/nathan/Transcend/Nathan/data/kraken/h2b/GV0815/Pos0/Pos0_aligned/HDF/segmented.hdf5\n",
      "[INFO][2022/02/21 07:47:32 PM] Opening HDF file: /media/nathan/Transcend/Nathan/data/kraken/h2b/GV0815/Pos0/Pos0_aligned/HDF/segmented.hdf5...\n",
      "[INFO][2022/02/21 07:47:32 PM] Loading tracks/obj_type_2\n",
      "[INFO][2022/02/21 07:47:33 PM] Loading objects/obj_type_2 (85143, 5) (68895 filtered: area>=100)\n",
      "[INFO][2022/02/21 07:47:34 PM] Closing HDF file: /media/nathan/Transcend/Nathan/data/kraken/h2b/GV0815/Pos0/Pos0_aligned/HDF/segmented.hdf5\n"
     ]
    },
    {
     "name": "stdout",
     "output_type": "stream",
     "text": [
      "Track information loaded and ordered according to cell type (WT IDs >0> Scr IDs)\n",
      "Loaded GV0815/Pos0/\n",
      "ID GV0815_Pos0_8_RFP\n",
      "ID GV0815_Pos0_354_RFP\n",
      "ID GV0815_Pos0_465_RFP\n",
      "ID GV0815_Pos0_537_RFP\n",
      "ID GV0815_Pos0_557_RFP\n",
      "ID GV0815_Pos0_543_RFP\n",
      "ID GV0815_Pos0_542_RFP\n",
      "ID GV0815_Pos0_570_RFP\n",
      "ID GV0815_Pos0_568_RFP\n",
      "ID GV0815_Pos0_393_RFP\n",
      "ID GV0815_Pos0_386_RFP\n",
      "ID GV0815_Pos0_344_RFP\n",
      "ID GV0815_Pos0_572_RFP\n",
      "ID GV0815_Pos0_714_RFP\n",
      "ID GV0815_Pos0_516_RFP\n",
      "ID GV0815_Pos0_158_RFP\n",
      "ID GV0815_Pos0_498_RFP\n",
      "ID GV0815_Pos0_685_RFP\n",
      "ID GV0815_Pos0_825_RFP\n",
      "ID GV0815_Pos0_489_RFP\n",
      "ID GV0815_Pos0_13_RFP\n",
      "ID GV0815_Pos0_844_RFP\n",
      "ID GV0815_Pos0_390_RFP\n",
      "ID GV0815_Pos0_207_RFP\n",
      "ID GV0815_Pos0_17_RFP\n",
      "ID GV0815_Pos0_42_RFP\n",
      "ID GV0815_Pos0_802_RFP\n",
      "ID GV0815_Pos0_453_RFP\n",
      "ID GV0815_Pos0_750_RFP\n",
      "ID GV0815_Pos0_966_RFP\n"
     ]
    },
    {
     "name": "stderr",
     "output_type": "stream",
     "text": [
      "[INFO][2022/02/21 07:52:05 PM] Opening HDF file: /media/nathan/Transcend/Nathan/data/kraken/h2b/GV0816/Pos0/Pos0_aligned/HDF/segmented.hdf5...\n",
      "[INFO][2022/02/21 07:52:05 PM] Loading tracks/obj_type_1\n"
     ]
    },
    {
     "name": "stdout",
     "output_type": "stream",
     "text": [
      "ID GV0816_Pos0_406_RFP\n",
      "Loading GV0816/Pos0/\n",
      "Btrack version no.: 0.4.2\n"
     ]
    },
    {
     "name": "stderr",
     "output_type": "stream",
     "text": [
      "[INFO][2022/02/21 07:52:06 PM] Loading objects/obj_type_1 (90368, 5) (81699 filtered: area>=100)\n",
      "[INFO][2022/02/21 07:52:07 PM] Closing HDF file: /media/nathan/Transcend/Nathan/data/kraken/h2b/GV0816/Pos0/Pos0_aligned/HDF/segmented.hdf5\n",
      "[INFO][2022/02/21 07:52:07 PM] Opening HDF file: /media/nathan/Transcend/Nathan/data/kraken/h2b/GV0816/Pos0/Pos0_aligned/HDF/segmented.hdf5...\n",
      "[INFO][2022/02/21 07:52:07 PM] Loading tracks/obj_type_2\n",
      "[INFO][2022/02/21 07:52:07 PM] Loading objects/obj_type_2 (24057, 5) (17173 filtered: area>=100)\n",
      "[INFO][2022/02/21 07:52:07 PM] Closing HDF file: /media/nathan/Transcend/Nathan/data/kraken/h2b/GV0816/Pos0/Pos0_aligned/HDF/segmented.hdf5\n"
     ]
    },
    {
     "name": "stdout",
     "output_type": "stream",
     "text": [
      "Track information loaded and ordered according to cell type (WT IDs >0> Scr IDs)\n",
      "Loaded GV0816/Pos0/\n",
      "ID GV0816_Pos0_351_RFP\n",
      "ID GV0816_Pos0_374_RFP\n",
      "ID GV0816_Pos0_526_RFP\n",
      "ID GV0816_Pos0_343_RFP\n"
     ]
    },
    {
     "name": "stderr",
     "output_type": "stream",
     "text": [
      "[INFO][2022/02/21 07:52:21 PM] Opening HDF file: /media/nathan/Transcend/Nathan/data/kraken/h2b/GV0817/Pos0/Pos0_aligned/HDF/segmented.hdf5...\n",
      "[INFO][2022/02/21 07:52:21 PM] Loading tracks/obj_type_1\n"
     ]
    },
    {
     "name": "stdout",
     "output_type": "stream",
     "text": [
      "ID GV0817_Pos0_51_RFP\n",
      "Loading GV0817/Pos0/\n",
      "Btrack version no.: 0.4.2\n"
     ]
    },
    {
     "name": "stderr",
     "output_type": "stream",
     "text": [
      "[INFO][2022/02/21 07:52:23 PM] Loading objects/obj_type_1 (279987, 5) (256086 filtered: area>=100)\n",
      "[INFO][2022/02/21 07:52:27 PM] Closing HDF file: /media/nathan/Transcend/Nathan/data/kraken/h2b/GV0817/Pos0/Pos0_aligned/HDF/segmented.hdf5\n",
      "[INFO][2022/02/21 07:52:27 PM] Opening HDF file: /media/nathan/Transcend/Nathan/data/kraken/h2b/GV0817/Pos0/Pos0_aligned/HDF/segmented.hdf5...\n",
      "[INFO][2022/02/21 07:52:27 PM] Loading tracks/obj_type_2\n",
      "[INFO][2022/02/21 07:52:28 PM] Loading objects/obj_type_2 (113873, 5) (83931 filtered: area>=100)\n",
      "[INFO][2022/02/21 07:52:29 PM] Closing HDF file: /media/nathan/Transcend/Nathan/data/kraken/h2b/GV0817/Pos0/Pos0_aligned/HDF/segmented.hdf5\n"
     ]
    },
    {
     "name": "stdout",
     "output_type": "stream",
     "text": [
      "Track information loaded and ordered according to cell type (WT IDs >0> Scr IDs)\n",
      "Loaded GV0817/Pos0/\n",
      "ID GV0817_Pos0_367_RFP\n",
      "ID GV0817_Pos0_366_RFP\n",
      "ID GV0817_Pos0_425_RFP\n",
      "ID GV0817_Pos0_326_RFP\n",
      "ID GV0817_Pos0_552_RFP\n",
      "ID GV0817_Pos0_396_RFP\n",
      "ID GV0817_Pos0_758_RFP\n",
      "ID GV0817_Pos0_496_RFP\n",
      "ID GV0817_Pos0_801_RFP\n",
      "ID GV0817_Pos0_447_RFP\n",
      "ID GV0817_Pos0_405_RFP\n",
      "ID GV0817_Pos0_586_RFP\n",
      "ID GV0817_Pos0_610_RFP\n",
      "ID GV0817_Pos0_1084_RFP\n",
      "ID GV0817_Pos0_426_RFP\n",
      "ID GV0817_Pos0_395_RFP\n",
      "ID GV0817_Pos0_566_RFP\n",
      "ID GV0817_Pos0_495_RFP\n",
      "ID GV0817_Pos0_465_RFP\n",
      "ID GV0817_Pos0_984_RFP\n",
      "ID GV0817_Pos0_800_RFP\n",
      "ID GV0817_Pos0_1452_RFP\n",
      "ID GV0817_Pos0_846_RFP\n",
      "ID GV0817_Pos0_1624_RFP\n",
      "ID GV0817_Pos0_480_RFP\n",
      "ID GV0817_Pos0_327_RFP\n",
      "ID GV0817_Pos0_1526_RFP\n",
      "ID GV0817_Pos0_458_RFP\n",
      "ID GV0817_Pos0_817_RFP\n",
      "ID GV0817_Pos0_236_RFP\n"
     ]
    },
    {
     "name": "stderr",
     "output_type": "stream",
     "text": [
      "[INFO][2022/02/21 07:56:38 PM] Opening HDF file: /media/nathan/Transcend/Nathan/data/kraken/h2b/GV0819/Pos0/Pos0_aligned/HDF/segmented.hdf5...\n",
      "[INFO][2022/02/21 07:56:38 PM] Loading tracks/obj_type_1\n"
     ]
    },
    {
     "name": "stdout",
     "output_type": "stream",
     "text": [
      "ID GV0819_Pos0_23_RFP\n",
      "Loading GV0819/Pos0/\n",
      "Btrack version no.: 0.4.2\n"
     ]
    },
    {
     "name": "stderr",
     "output_type": "stream",
     "text": [
      "[INFO][2022/02/21 07:56:40 PM] Loading objects/obj_type_1 (285723, 5) (262105 filtered: area>=100)\n",
      "[INFO][2022/02/21 07:56:45 PM] Closing HDF file: /media/nathan/Transcend/Nathan/data/kraken/h2b/GV0819/Pos0/Pos0_aligned/HDF/segmented.hdf5\n",
      "[INFO][2022/02/21 07:56:45 PM] Opening HDF file: /media/nathan/Transcend/Nathan/data/kraken/h2b/GV0819/Pos0/Pos0_aligned/HDF/segmented.hdf5...\n",
      "[INFO][2022/02/21 07:56:45 PM] Loading tracks/obj_type_2\n",
      "[INFO][2022/02/21 07:56:45 PM] Loading objects/obj_type_2 (79945, 5) (62473 filtered: area>=100)\n",
      "[INFO][2022/02/21 07:56:46 PM] Closing HDF file: /media/nathan/Transcend/Nathan/data/kraken/h2b/GV0819/Pos0/Pos0_aligned/HDF/segmented.hdf5\n"
     ]
    },
    {
     "name": "stdout",
     "output_type": "stream",
     "text": [
      "Track information loaded and ordered according to cell type (WT IDs >0> Scr IDs)\n",
      "Loaded GV0819/Pos0/\n",
      "ID GV0819_Pos0_495_RFP\n",
      "ID GV0819_Pos0_493_RFP\n",
      "ID GV0819_Pos0_494_RFP\n",
      "ID GV0819_Pos0_736_RFP\n",
      "ID GV0819_Pos0_740_RFP\n",
      "ID GV0819_Pos0_38_RFP\n",
      "ID GV0819_Pos0_642_RFP\n",
      "ID GV0819_Pos0_786_RFP\n",
      "ID GV0819_Pos0_909_RFP\n",
      "ID GV0819_Pos0_895_RFP\n",
      "ID GV0819_Pos0_448_RFP\n",
      "ID GV0819_Pos0_527_RFP\n",
      "ID GV0819_Pos0_53_RFP\n",
      "ID GV0819_Pos0_167_RFP\n",
      "ID GV0819_Pos0_456_RFP\n",
      "ID GV0819_Pos0_21_RFP\n",
      "ID GV0819_Pos0_1366_RFP\n",
      "ID GV0819_Pos0_1376_RFP\n",
      "ID GV0819_Pos0_930_RFP\n",
      "ID GV0819_Pos0_1088_RFP\n"
     ]
    },
    {
     "name": "stderr",
     "output_type": "stream",
     "text": [
      "[INFO][2022/02/21 07:59:39 PM] Opening HDF file: /media/nathan/Transcend/Nathan/data/kraken/h2b/GV0819/Pos1/Pos1_aligned/HDF/segmented.hdf5...\n"
     ]
    },
    {
     "name": "stdout",
     "output_type": "stream",
     "text": [
      "ID GV0819_Pos1_30_RFP\n",
      "Loading GV0819/Pos1/\n",
      "Btrack version no.: 0.4.2\n"
     ]
    },
    {
     "name": "stderr",
     "output_type": "stream",
     "text": [
      "[INFO][2022/02/21 07:59:40 PM] Loading tracks/obj_type_1\n",
      "[INFO][2022/02/21 07:59:42 PM] Loading objects/obj_type_1 (291961, 5) (262012 filtered: area>=100)\n",
      "[INFO][2022/02/21 07:59:46 PM] Closing HDF file: /media/nathan/Transcend/Nathan/data/kraken/h2b/GV0819/Pos1/Pos1_aligned/HDF/segmented.hdf5\n",
      "[INFO][2022/02/21 07:59:46 PM] Opening HDF file: /media/nathan/Transcend/Nathan/data/kraken/h2b/GV0819/Pos1/Pos1_aligned/HDF/segmented.hdf5...\n",
      "[INFO][2022/02/21 07:59:46 PM] Loading tracks/obj_type_2\n",
      "[INFO][2022/02/21 07:59:46 PM] Loading objects/obj_type_2 (51130, 5) (42876 filtered: area>=100)\n",
      "[INFO][2022/02/21 07:59:47 PM] Closing HDF file: /media/nathan/Transcend/Nathan/data/kraken/h2b/GV0819/Pos1/Pos1_aligned/HDF/segmented.hdf5\n"
     ]
    },
    {
     "name": "stdout",
     "output_type": "stream",
     "text": [
      "Track information loaded and ordered according to cell type (WT IDs >0> Scr IDs)\n",
      "Loaded GV0819/Pos1/\n",
      "ID GV0819_Pos1_37_RFP\n",
      "ID GV0819_Pos1_382_RFP\n",
      "ID GV0819_Pos1_16_RFP\n",
      "ID GV0819_Pos1_374_RFP\n",
      "ID GV0819_Pos1_434_RFP\n",
      "ID GV0819_Pos1_24_RFP\n",
      "ID GV0819_Pos1_470_RFP\n",
      "ID GV0819_Pos1_504_RFP\n",
      "ID GV0819_Pos1_503_RFP\n",
      "ID GV0819_Pos1_240_RFP\n",
      "ID GV0819_Pos1_360_RFP\n"
     ]
    },
    {
     "name": "stderr",
     "output_type": "stream",
     "text": [
      "[INFO][2022/02/21 08:01:39 PM] Opening HDF file: /media/nathan/Transcend/Nathan/data/kraken/h2b/GV0819/Pos2/Pos2_aligned/HDF/segmented.hdf5...\n"
     ]
    },
    {
     "name": "stdout",
     "output_type": "stream",
     "text": [
      "ID GV0819_Pos2_569_RFP\n",
      "Loading GV0819/Pos2/\n",
      "Btrack version no.: 0.4.2\n"
     ]
    },
    {
     "name": "stderr",
     "output_type": "stream",
     "text": [
      "[INFO][2022/02/21 08:01:39 PM] Loading tracks/obj_type_1\n",
      "[INFO][2022/02/21 08:01:41 PM] Loading objects/obj_type_1 (267623, 5) (252570 filtered: area>=100)\n",
      "[INFO][2022/02/21 08:01:45 PM] Closing HDF file: /media/nathan/Transcend/Nathan/data/kraken/h2b/GV0819/Pos2/Pos2_aligned/HDF/segmented.hdf5\n",
      "[INFO][2022/02/21 08:01:45 PM] Opening HDF file: /media/nathan/Transcend/Nathan/data/kraken/h2b/GV0819/Pos2/Pos2_aligned/HDF/segmented.hdf5...\n",
      "[INFO][2022/02/21 08:01:45 PM] Loading tracks/obj_type_2\n",
      "[INFO][2022/02/21 08:01:46 PM] Loading objects/obj_type_2 (113484, 5) (97628 filtered: area>=100)\n",
      "[INFO][2022/02/21 08:01:47 PM] Closing HDF file: /media/nathan/Transcend/Nathan/data/kraken/h2b/GV0819/Pos2/Pos2_aligned/HDF/segmented.hdf5\n"
     ]
    },
    {
     "name": "stdout",
     "output_type": "stream",
     "text": [
      "Track information loaded and ordered according to cell type (WT IDs >0> Scr IDs)\n",
      "Loaded GV0819/Pos2/\n",
      "ID GV0819_Pos2_568_RFP\n",
      "ID GV0819_Pos2_673_RFP\n",
      "ID GV0819_Pos2_473_RFP\n",
      "ID GV0819_Pos2_45_RFP\n",
      "ID GV0819_Pos2_802_RFP\n",
      "ID GV0819_Pos2_13_RFP\n",
      "ID GV0819_Pos2_11_RFP\n",
      "ID GV0819_Pos2_468_RFP\n",
      "ID GV0819_Pos2_1024_RFP\n",
      "ID GV0819_Pos2_829_RFP\n",
      "ID GV0819_Pos2_605_RFP\n",
      "ID GV0819_Pos2_830_RFP\n",
      "ID GV0819_Pos2_549_RFP\n",
      "ID GV0819_Pos2_40_RFP\n",
      "ID GV0819_Pos2_491_RFP\n",
      "ID GV0819_Pos2_657_RFP\n",
      "ID GV0819_Pos2_826_RFP\n",
      "ID GV0819_Pos2_889_RFP\n",
      "ID GV0819_Pos2_858_RFP\n",
      "ID GV0819_Pos2_746_RFP\n",
      "ID GV0819_Pos2_1513_RFP\n",
      "ID GV0819_Pos2_548_RFP\n",
      "ID GV0819_Pos2_913_RFP\n",
      "ID GV0819_Pos2_762_RFP\n",
      "ID GV0819_Pos2_900_RFP\n",
      "ID GV0819_Pos2_490_RFP\n",
      "ID GV0819_Pos2_599_RFP\n",
      "ID GV0819_Pos2_1453_RFP\n",
      "ID GV0819_Pos2_679_RFP\n"
     ]
    },
    {
     "name": "stderr",
     "output_type": "stream",
     "text": [
      "[INFO][2022/02/21 08:06:02 PM] Opening HDF file: /media/nathan/Transcend/Nathan/data/kraken/h2b/GV0819/Pos3/Pos3_aligned/HDF/segmented.hdf5...\n",
      "[INFO][2022/02/21 08:06:02 PM] Loading tracks/obj_type_1\n"
     ]
    },
    {
     "name": "stdout",
     "output_type": "stream",
     "text": [
      "ID GV0819_Pos3_110_RFP\n",
      "Loading GV0819/Pos3/\n",
      "Btrack version no.: 0.4.2\n"
     ]
    },
    {
     "name": "stderr",
     "output_type": "stream",
     "text": [
      "[INFO][2022/02/21 08:06:05 PM] Loading objects/obj_type_1 (444670, 5) (426511 filtered: area>=100)\n",
      "[INFO][2022/02/21 08:06:11 PM] Closing HDF file: /media/nathan/Transcend/Nathan/data/kraken/h2b/GV0819/Pos3/Pos3_aligned/HDF/segmented.hdf5\n",
      "[INFO][2022/02/21 08:06:11 PM] Opening HDF file: /media/nathan/Transcend/Nathan/data/kraken/h2b/GV0819/Pos3/Pos3_aligned/HDF/segmented.hdf5...\n",
      "[INFO][2022/02/21 08:06:11 PM] Loading tracks/obj_type_2\n",
      "[INFO][2022/02/21 08:06:12 PM] Loading objects/obj_type_2 (119062, 5) (102355 filtered: area>=100)\n",
      "[INFO][2022/02/21 08:06:13 PM] Closing HDF file: /media/nathan/Transcend/Nathan/data/kraken/h2b/GV0819/Pos3/Pos3_aligned/HDF/segmented.hdf5\n"
     ]
    },
    {
     "name": "stdout",
     "output_type": "stream",
     "text": [
      "Track information loaded and ordered according to cell type (WT IDs >0> Scr IDs)\n",
      "Loaded GV0819/Pos3/\n",
      "ID GV0819_Pos3_8_RFP\n",
      "ID GV0819_Pos3_406_RFP\n",
      "ID GV0819_Pos3_717_RFP\n",
      "ID GV0819_Pos3_647_RFP\n",
      "ID GV0819_Pos3_493_RFP\n",
      "ID GV0819_Pos3_607_RFP\n",
      "ID GV0819_Pos3_744_RFP\n",
      "ID GV0819_Pos3_746_RFP\n",
      "ID GV0819_Pos3_1087_RFP\n",
      "ID GV0819_Pos3_936_RFP\n",
      "ID GV0819_Pos3_1092_RFP\n",
      "ID GV0819_Pos3_158_RFP\n",
      "ID GV0819_Pos3_887_RFP\n",
      "ID GV0819_Pos3_324_RFP\n",
      "ID GV0819_Pos3_1171_RFP\n",
      "ID GV0819_Pos3_1172_RFP\n",
      "ID GV0819_Pos3_1180_RFP\n",
      "ID GV0819_Pos3_1181_RFP\n",
      "ID GV0819_Pos3_54_RFP\n",
      "ID GV0819_Pos3_1135_RFP\n",
      "ID GV0819_Pos3_702_RFP\n",
      "ID GV0819_Pos3_66_RFP\n",
      "ID GV0819_Pos3_1419_RFP\n",
      "ID GV0819_Pos3_48_RFP\n",
      "ID GV0819_Pos3_17_RFP\n",
      "ID GV0819_Pos3_1099_RFP\n",
      "ID GV0819_Pos3_774_RFP\n",
      "ID GV0819_Pos3_1735_RFP\n",
      "ID GV0819_Pos3_494_RFP\n",
      "ID GV0819_Pos3_606_RFP\n",
      "ID GV0819_Pos3_1659_RFP\n",
      "ID GV0819_Pos3_870_RFP\n",
      "ID GV0819_Pos3_319_RFP\n",
      "ID GV0819_Pos3_823_RFP\n"
     ]
    },
    {
     "name": "stderr",
     "output_type": "stream",
     "text": [
      "[INFO][2022/02/21 08:13:14 PM] Opening HDF file: /media/nathan/Transcend/Nathan/data/kraken/h2b/GV0819/Pos4/Pos4_aligned/HDF/segmented.hdf5...\n"
     ]
    },
    {
     "name": "stdout",
     "output_type": "stream",
     "text": [
      "ID GV0819_Pos4_70_RFP\n",
      "Loading GV0819/Pos4/\n",
      "Btrack version no.: 0.4.2\n"
     ]
    },
    {
     "name": "stderr",
     "output_type": "stream",
     "text": [
      "[INFO][2022/02/21 08:13:15 PM] Loading tracks/obj_type_1\n",
      "[INFO][2022/02/21 08:13:18 PM] Loading objects/obj_type_1 (393596, 5) (379449 filtered: area>=100)\n",
      "[INFO][2022/02/21 08:13:23 PM] Closing HDF file: /media/nathan/Transcend/Nathan/data/kraken/h2b/GV0819/Pos4/Pos4_aligned/HDF/segmented.hdf5\n",
      "[INFO][2022/02/21 08:13:23 PM] Opening HDF file: /media/nathan/Transcend/Nathan/data/kraken/h2b/GV0819/Pos4/Pos4_aligned/HDF/segmented.hdf5...\n",
      "[INFO][2022/02/21 08:13:23 PM] Loading tracks/obj_type_2\n",
      "[INFO][2022/02/21 08:13:25 PM] Loading objects/obj_type_2 (112602, 5) (100064 filtered: area>=100)\n",
      "[INFO][2022/02/21 08:13:26 PM] Closing HDF file: /media/nathan/Transcend/Nathan/data/kraken/h2b/GV0819/Pos4/Pos4_aligned/HDF/segmented.hdf5\n"
     ]
    },
    {
     "name": "stdout",
     "output_type": "stream",
     "text": [
      "Track information loaded and ordered according to cell type (WT IDs >0> Scr IDs)\n",
      "Loaded GV0819/Pos4/\n",
      "ID GV0819_Pos4_52_RFP\n",
      "ID GV0819_Pos4_15_RFP\n",
      "ID GV0819_Pos4_201_RFP\n",
      "ID GV0819_Pos4_389_RFP\n",
      "ID GV0819_Pos4_603_RFP\n",
      "ID GV0819_Pos4_572_RFP\n",
      "ID GV0819_Pos4_339_RFP\n",
      "ID GV0819_Pos4_338_RFP\n",
      "ID GV0819_Pos4_430_RFP\n",
      "ID GV0819_Pos4_309_RFP\n",
      "ID GV0819_Pos4_429_RFP\n",
      "ID GV0819_Pos4_428_RFP\n",
      "ID GV0819_Pos4_10_RFP\n",
      "ID GV0819_Pos4_448_RFP\n",
      "ID GV0819_Pos4_625_RFP\n",
      "ID GV0819_Pos4_341_RFP\n",
      "ID GV0819_Pos4_417_RFP\n",
      "ID GV0819_Pos4_573_RFP\n",
      "ID GV0819_Pos4_502_RFP\n",
      "ID GV0819_Pos4_1112_RFP\n",
      "ID GV0819_Pos4_624_RFP\n",
      "ID GV0819_Pos4_1382_RFP\n",
      "ID GV0819_Pos4_1354_RFP\n",
      "ID GV0819_Pos4_410_RFP\n",
      "ID GV0819_Pos4_715_RFP\n",
      "ID GV0819_Pos4_1144_RFP\n",
      "ID GV0819_Pos4_633_RFP\n",
      "ID GV0819_Pos4_60_RFP\n",
      "ID GV0819_Pos4_463_RFP\n",
      "ID GV0819_Pos4_1222_RFP\n",
      "ID GV0819_Pos4_409_RFP\n",
      "ID GV0819_Pos4_753_RFP\n"
     ]
    },
    {
     "name": "stderr",
     "output_type": "stream",
     "text": [
      "[INFO][2022/02/21 08:20:08 PM] Opening HDF file: /media/nathan/Transcend/Nathan/data/kraken/h2b/GV0819/Pos5/Pos5_aligned/HDF/segmented.hdf5...\n",
      "[INFO][2022/02/21 08:20:08 PM] Loading tracks/obj_type_1\n"
     ]
    },
    {
     "name": "stdout",
     "output_type": "stream",
     "text": [
      "ID GV0819_Pos5_4_RFP\n",
      "Loading GV0819/Pos5/\n",
      "Btrack version no.: 0.4.2\n"
     ]
    },
    {
     "name": "stderr",
     "output_type": "stream",
     "text": [
      "[INFO][2022/02/21 08:20:11 PM] Loading objects/obj_type_1 (305714, 5) (290346 filtered: area>=100)\n",
      "[INFO][2022/02/21 08:20:14 PM] Closing HDF file: /media/nathan/Transcend/Nathan/data/kraken/h2b/GV0819/Pos5/Pos5_aligned/HDF/segmented.hdf5\n",
      "[INFO][2022/02/21 08:20:14 PM] Opening HDF file: /media/nathan/Transcend/Nathan/data/kraken/h2b/GV0819/Pos5/Pos5_aligned/HDF/segmented.hdf5...\n",
      "[INFO][2022/02/21 08:20:14 PM] Loading tracks/obj_type_2\n",
      "[INFO][2022/02/21 08:20:15 PM] Loading objects/obj_type_2 (84463, 5) (70183 filtered: area>=100)\n",
      "[INFO][2022/02/21 08:20:17 PM] Closing HDF file: /media/nathan/Transcend/Nathan/data/kraken/h2b/GV0819/Pos5/Pos5_aligned/HDF/segmented.hdf5\n"
     ]
    },
    {
     "name": "stdout",
     "output_type": "stream",
     "text": [
      "Track information loaded and ordered according to cell type (WT IDs >0> Scr IDs)\n",
      "Loaded GV0819/Pos5/\n",
      "ID GV0819_Pos5_147_RFP\n",
      "ID GV0819_Pos5_146_RFP\n",
      "ID GV0819_Pos5_13_RFP\n",
      "ID GV0819_Pos5_270_RFP\n",
      "ID GV0819_Pos5_206_RFP\n",
      "ID GV0819_Pos5_269_RFP\n",
      "ID GV0819_Pos5_258_RFP\n",
      "ID GV0819_Pos5_345_RFP\n",
      "ID GV0819_Pos5_378_RFP\n",
      "ID GV0819_Pos5_394_RFP\n",
      "ID GV0819_Pos5_342_RFP\n",
      "ID GV0819_Pos5_30_RFP\n",
      "ID GV0819_Pos5_477_RFP\n",
      "ID GV0819_Pos5_417_RFP\n",
      "ID GV0819_Pos5_380_RFP\n",
      "ID GV0819_Pos5_241_RFP\n",
      "ID GV0819_Pos5_332_RFP\n",
      "ID GV0819_Pos5_680_RFP\n",
      "ID GV0819_Pos5_49_RFP\n",
      "ID GV0819_Pos5_408_RFP\n",
      "ID GV0819_Pos5_339_RFP\n",
      "ID GV0819_Pos5_791_RFP\n",
      "ID GV0819_Pos5_591_RFP\n",
      "ID GV0819_Pos5_592_RFP\n",
      "ID GV0819_Pos5_430_RFP\n",
      "ID GV0819_Pos5_1099_RFP\n",
      "ID GV0819_Pos5_556_RFP\n",
      "ID GV0819_Pos5_549_RFP\n",
      "ID GV0819_Pos5_199_RFP\n",
      "ID GV0819_Pos5_501_RFP\n"
     ]
    },
    {
     "name": "stderr",
     "output_type": "stream",
     "text": [
      "[INFO][2022/02/21 08:24:04 PM] Opening HDF file: /media/nathan/Transcend/Nathan/data/kraken/h2b/GV0794/Pos5/Pos5_aligned/HDF/segmented.hdf5...\n",
      "[INFO][2022/02/21 08:24:04 PM] Loading tracks/obj_type_1\n"
     ]
    },
    {
     "name": "stdout",
     "output_type": "stream",
     "text": [
      "ID GV0794_Pos5_303_RFP\n",
      "Loading GV0794/Pos5/\n",
      "Btrack version no.: 0.4.2\n"
     ]
    },
    {
     "name": "stderr",
     "output_type": "stream",
     "text": [
      "[INFO][2022/02/21 08:24:04 PM] Loading objects/obj_type_1 (31315, 5) (20377 filtered: area>=100)\n",
      "[INFO][2022/02/21 08:24:04 PM] Closing HDF file: /media/nathan/Transcend/Nathan/data/kraken/h2b/GV0794/Pos5/Pos5_aligned/HDF/segmented.hdf5\n",
      "[INFO][2022/02/21 08:24:04 PM] Opening HDF file: /media/nathan/Transcend/Nathan/data/kraken/h2b/GV0794/Pos5/Pos5_aligned/HDF/segmented.hdf5...\n",
      "[INFO][2022/02/21 08:24:04 PM] Loading tracks/obj_type_2\n",
      "[INFO][2022/02/21 08:24:05 PM] Loading objects/obj_type_2 (61992, 5) (46754 filtered: area>=100)\n",
      "[INFO][2022/02/21 08:24:05 PM] Closing HDF file: /media/nathan/Transcend/Nathan/data/kraken/h2b/GV0794/Pos5/Pos5_aligned/HDF/segmented.hdf5\n"
     ]
    },
    {
     "name": "stdout",
     "output_type": "stream",
     "text": [
      "Track information loaded and ordered according to cell type (WT IDs >0> Scr IDs)\n",
      "Loaded GV0794/Pos5/\n",
      "ID GV0794_Pos5_298_RFP\n",
      "ID GV0794_Pos5_848_RFP\n",
      "ID GV0794_Pos5_283_RFP\n"
     ]
    },
    {
     "name": "stderr",
     "output_type": "stream",
     "text": [
      "[INFO][2022/02/21 08:24:10 PM] Opening HDF file: /media/nathan/Transcend/Nathan/data/kraken/h2b/GV0794/Pos6/Pos6_aligned/HDF/segmented.hdf5...\n",
      "[INFO][2022/02/21 08:24:10 PM] Loading tracks/obj_type_1\n",
      "[INFO][2022/02/21 08:24:10 PM] Loading objects/obj_type_1 (13419, 5) (11379 filtered: area>=100)\n"
     ]
    },
    {
     "name": "stdout",
     "output_type": "stream",
     "text": [
      "ID GV0794_Pos6_95_RFP\n",
      "Loading GV0794/Pos6/\n",
      "Btrack version no.: 0.4.2\n"
     ]
    },
    {
     "name": "stderr",
     "output_type": "stream",
     "text": [
      "[INFO][2022/02/21 08:24:10 PM] Closing HDF file: /media/nathan/Transcend/Nathan/data/kraken/h2b/GV0794/Pos6/Pos6_aligned/HDF/segmented.hdf5\n",
      "[INFO][2022/02/21 08:24:10 PM] Opening HDF file: /media/nathan/Transcend/Nathan/data/kraken/h2b/GV0794/Pos6/Pos6_aligned/HDF/segmented.hdf5...\n",
      "[INFO][2022/02/21 08:24:10 PM] Loading tracks/obj_type_2\n",
      "[INFO][2022/02/21 08:24:11 PM] Loading objects/obj_type_2 (69258, 5) (48810 filtered: area>=100)\n",
      "[INFO][2022/02/21 08:24:11 PM] Closing HDF file: /media/nathan/Transcend/Nathan/data/kraken/h2b/GV0794/Pos6/Pos6_aligned/HDF/segmented.hdf5\n"
     ]
    },
    {
     "name": "stdout",
     "output_type": "stream",
     "text": [
      "Track information loaded and ordered according to cell type (WT IDs >0> Scr IDs)\n",
      "Loaded GV0794/Pos6/\n",
      "ID GV0794_Pos6_19_RFP\n",
      "ID GV0794_Pos6_559_RFP\n",
      "ID GV0794_Pos6_1_RFP\n",
      "ID GV0794_Pos6_112_RFP\n",
      "ID GV0794_Pos6_8_RFP\n"
     ]
    },
    {
     "name": "stderr",
     "output_type": "stream",
     "text": [
      "[INFO][2022/02/21 08:24:14 PM] Opening HDF file: /media/nathan/Transcend/Nathan/data/kraken/h2b/GV0795/Pos5/Pos5_aligned/HDF/segmented.hdf5...\n",
      "[INFO][2022/02/21 08:24:14 PM] Loading tracks/obj_type_1\n"
     ]
    },
    {
     "name": "stdout",
     "output_type": "stream",
     "text": [
      "ID GV0795_Pos5_155_RFP\n",
      "Loading GV0795/Pos5/\n",
      "Btrack version no.: 0.4.2\n"
     ]
    },
    {
     "name": "stderr",
     "output_type": "stream",
     "text": [
      "[INFO][2022/02/21 08:24:15 PM] Loading objects/obj_type_1 (83531, 5) (74420 filtered: area>=100)\n",
      "[INFO][2022/02/21 08:24:16 PM] Closing HDF file: /media/nathan/Transcend/Nathan/data/kraken/h2b/GV0795/Pos5/Pos5_aligned/HDF/segmented.hdf5\n",
      "[INFO][2022/02/21 08:24:16 PM] Opening HDF file: /media/nathan/Transcend/Nathan/data/kraken/h2b/GV0795/Pos5/Pos5_aligned/HDF/segmented.hdf5...\n",
      "[INFO][2022/02/21 08:24:16 PM] Loading tracks/obj_type_2\n",
      "[INFO][2022/02/21 08:24:17 PM] Loading objects/obj_type_2 (98959, 5) (78503 filtered: area>=100)\n",
      "[INFO][2022/02/21 08:24:18 PM] Closing HDF file: /media/nathan/Transcend/Nathan/data/kraken/h2b/GV0795/Pos5/Pos5_aligned/HDF/segmented.hdf5\n"
     ]
    },
    {
     "name": "stdout",
     "output_type": "stream",
     "text": [
      "Track information loaded and ordered according to cell type (WT IDs >0> Scr IDs)\n",
      "Loaded GV0795/Pos5/\n",
      "ID GV0795_Pos5_339_RFP\n",
      "ID GV0795_Pos5_338_RFP\n",
      "ID GV0795_Pos5_498_RFP\n",
      "ID GV0795_Pos5_43_RFP\n",
      "ID GV0795_Pos5_295_RFP\n",
      "ID GV0795_Pos5_16_RFP\n",
      "ID GV0795_Pos5_904_RFP\n",
      "ID GV0795_Pos5_172_RFP\n",
      "ID GV0795_Pos5_322_RFP\n",
      "ID GV0795_Pos5_1000_RFP\n"
     ]
    },
    {
     "name": "stderr",
     "output_type": "stream",
     "text": [
      "[INFO][2022/02/21 08:24:47 PM] Opening HDF file: /media/nathan/Transcend/Nathan/data/kraken/h2b/GV0795/Pos6/Pos6_aligned/HDF/segmented.hdf5...\n",
      "[INFO][2022/02/21 08:24:47 PM] Loading tracks/obj_type_1\n"
     ]
    },
    {
     "name": "stdout",
     "output_type": "stream",
     "text": [
      "ID GV0795_Pos6_41_RFP\n",
      "Loading GV0795/Pos6/\n",
      "Btrack version no.: 0.4.2\n"
     ]
    },
    {
     "name": "stderr",
     "output_type": "stream",
     "text": [
      "[INFO][2022/02/21 08:24:48 PM] Loading objects/obj_type_1 (52858, 5) (43022 filtered: area>=100)\n",
      "[INFO][2022/02/21 08:24:48 PM] Closing HDF file: /media/nathan/Transcend/Nathan/data/kraken/h2b/GV0795/Pos6/Pos6_aligned/HDF/segmented.hdf5\n",
      "[INFO][2022/02/21 08:24:48 PM] Opening HDF file: /media/nathan/Transcend/Nathan/data/kraken/h2b/GV0795/Pos6/Pos6_aligned/HDF/segmented.hdf5...\n",
      "[INFO][2022/02/21 08:24:48 PM] Loading tracks/obj_type_2\n",
      "[INFO][2022/02/21 08:24:49 PM] Loading objects/obj_type_2 (95556, 5) (72517 filtered: area>=100)\n",
      "[INFO][2022/02/21 08:24:50 PM] Closing HDF file: /media/nathan/Transcend/Nathan/data/kraken/h2b/GV0795/Pos6/Pos6_aligned/HDF/segmented.hdf5\n"
     ]
    },
    {
     "name": "stdout",
     "output_type": "stream",
     "text": [
      "Track information loaded and ordered according to cell type (WT IDs >0> Scr IDs)\n",
      "Loaded GV0795/Pos6/\n",
      "ID GV0795_Pos6_762_RFP\n",
      "ID GV0795_Pos6_380_RFP\n",
      "ID GV0795_Pos6_185_RFP\n",
      "ID GV0795_Pos6_252_RFP\n",
      "ID GV0795_Pos6_184_RFP\n",
      "ID GV0795_Pos6_259_RFP\n",
      "ID GV0795_Pos6_736_RFP\n",
      "ID GV0795_Pos6_734_RFP\n",
      "ID GV0795_Pos6_417_RFP\n",
      "ID GV0795_Pos6_1093_RFP\n",
      "ID GV0795_Pos6_372_RFP\n",
      "ID GV0795_Pos6_34_RFP\n",
      "ID GV0795_Pos6_1094_RFP\n",
      "ID GV0795_Pos6_1041_RFP\n",
      "ID GV0795_Pos6_1353_RFP\n",
      "ID GV0795_Pos6_425_RFP\n",
      "ID GV0795_Pos6_426_RFP\n",
      "ID GV0795_Pos6_48_RFP\n",
      "ID GV0795_Pos6_19_RFP\n",
      "ID GV0795_Pos6_653_RFP\n",
      "ID GV0795_Pos6_413_RFP\n",
      "ID GV0795_Pos6_96_RFP\n",
      "ID GV0795_Pos6_414_RFP\n",
      "ID GV0795_Pos6_97_RFP\n",
      "ID GV0795_Pos6_654_RFP\n",
      "ID GV0795_Pos6_578_RFP\n",
      "ID GV0795_Pos6_1026_RFP\n",
      "ID GV0795_Pos6_11_RFP\n",
      "ID GV0795_Pos6_619_RFP\n",
      "ID GV0795_Pos6_700_RFP\n",
      "ID GV0795_Pos6_579_RFP\n",
      "ID GV0795_Pos6_967_RFP\n",
      "ID GV0795_Pos6_160_RFP\n"
     ]
    },
    {
     "name": "stderr",
     "output_type": "stream",
     "text": [
      "[INFO][2022/02/21 08:25:55 PM] Opening HDF file: /media/nathan/Transcend/Nathan/data/kraken/h2b/GV0795/Pos16/Pos16_aligned/HDF/segmented.hdf5...\n",
      "[INFO][2022/02/21 08:25:55 PM] Loading tracks/obj_type_1\n"
     ]
    },
    {
     "name": "stdout",
     "output_type": "stream",
     "text": [
      "ID GV0795_Pos16_5_RFP\n",
      "Loading GV0795/Pos16/\n",
      "Btrack version no.: 0.4.2\n"
     ]
    },
    {
     "name": "stderr",
     "output_type": "stream",
     "text": [
      "[INFO][2022/02/21 08:25:58 PM] Loading objects/obj_type_1 (406228, 5) (386644 filtered: area>=100)\n",
      "[INFO][2022/02/21 08:26:03 PM] Closing HDF file: /media/nathan/Transcend/Nathan/data/kraken/h2b/GV0795/Pos16/Pos16_aligned/HDF/segmented.hdf5\n",
      "[INFO][2022/02/21 08:26:03 PM] Opening HDF file: /media/nathan/Transcend/Nathan/data/kraken/h2b/GV0795/Pos16/Pos16_aligned/HDF/segmented.hdf5...\n",
      "[INFO][2022/02/21 08:26:03 PM] Loading tracks/obj_type_2\n",
      "[INFO][2022/02/21 08:26:03 PM] Loading objects/obj_type_2 (8324, 5) (6993 filtered: area>=100)\n",
      "[INFO][2022/02/21 08:26:03 PM] Closing HDF file: /media/nathan/Transcend/Nathan/data/kraken/h2b/GV0795/Pos16/Pos16_aligned/HDF/segmented.hdf5\n"
     ]
    },
    {
     "name": "stdout",
     "output_type": "stream",
     "text": [
      "Track information loaded and ordered according to cell type (WT IDs >0> Scr IDs)\n",
      "Loaded GV0795/Pos16/\n",
      "ID GV0795_Pos16_37_RFP\n"
     ]
    },
    {
     "name": "stderr",
     "output_type": "stream",
     "text": [
      "[INFO][2022/02/21 08:26:30 PM] Opening HDF file: /media/nathan/Transcend/Nathan/data/kraken/h2b/GV0796/Pos19/Pos19_aligned/HDF/segmented.hdf5...\n",
      "[INFO][2022/02/21 08:26:30 PM] Loading tracks/obj_type_1\n"
     ]
    },
    {
     "name": "stdout",
     "output_type": "stream",
     "text": [
      "ID GV0796_Pos19_9_RFP\n",
      "Loading GV0796/Pos19/\n",
      "Btrack version no.: 0.4.2\n"
     ]
    },
    {
     "name": "stderr",
     "output_type": "stream",
     "text": [
      "[INFO][2022/02/21 08:26:34 PM] Loading objects/obj_type_1 (506574, 5) (490755 filtered: area>=100)\n",
      "[INFO][2022/02/21 08:26:41 PM] Closing HDF file: /media/nathan/Transcend/Nathan/data/kraken/h2b/GV0796/Pos19/Pos19_aligned/HDF/segmented.hdf5\n",
      "[INFO][2022/02/21 08:26:41 PM] Opening HDF file: /media/nathan/Transcend/Nathan/data/kraken/h2b/GV0796/Pos19/Pos19_aligned/HDF/segmented.hdf5...\n",
      "[INFO][2022/02/21 08:26:41 PM] Loading tracks/obj_type_2\n",
      "[INFO][2022/02/21 08:26:41 PM] Loading objects/obj_type_2 (13897, 5) (11779 filtered: area>=100)\n",
      "[INFO][2022/02/21 08:26:41 PM] Closing HDF file: /media/nathan/Transcend/Nathan/data/kraken/h2b/GV0796/Pos19/Pos19_aligned/HDF/segmented.hdf5\n"
     ]
    },
    {
     "name": "stdout",
     "output_type": "stream",
     "text": [
      "Track information loaded and ordered according to cell type (WT IDs >0> Scr IDs)\n",
      "Loaded GV0796/Pos19/\n",
      "ID GV0796_Pos19_3_RFP\n",
      "ID GV0796_Pos19_58_RFP\n",
      "ID GV0796_Pos19_69_RFP\n",
      "ID GV0796_Pos19_70_RFP\n",
      "ID GV0796_Pos19_125_RFP\n"
     ]
    },
    {
     "name": "stderr",
     "output_type": "stream",
     "text": [
      "[INFO][2022/02/21 08:27:53 PM] Opening HDF file: /media/nathan/Transcend/Nathan/data/kraken/h2b/GV0796/Pos20/Pos20_aligned/HDF/segmented.hdf5...\n",
      "[INFO][2022/02/21 08:27:53 PM] Loading tracks/obj_type_1\n"
     ]
    },
    {
     "name": "stdout",
     "output_type": "stream",
     "text": [
      "ID GV0796_Pos20_7_RFP\n",
      "Loading GV0796/Pos20/\n",
      "Btrack version no.: 0.4.2\n"
     ]
    },
    {
     "name": "stderr",
     "output_type": "stream",
     "text": [
      "[INFO][2022/02/21 08:27:57 PM] Loading objects/obj_type_1 (469347, 5) (453478 filtered: area>=100)\n",
      "[INFO][2022/02/21 08:28:04 PM] Closing HDF file: /media/nathan/Transcend/Nathan/data/kraken/h2b/GV0796/Pos20/Pos20_aligned/HDF/segmented.hdf5\n",
      "[INFO][2022/02/21 08:28:04 PM] Opening HDF file: /media/nathan/Transcend/Nathan/data/kraken/h2b/GV0796/Pos20/Pos20_aligned/HDF/segmented.hdf5...\n",
      "[INFO][2022/02/21 08:28:04 PM] Loading tracks/obj_type_2\n",
      "[INFO][2022/02/21 08:28:05 PM] Loading objects/obj_type_2 (18513, 5) (14856 filtered: area>=100)\n",
      "[INFO][2022/02/21 08:28:05 PM] Closing HDF file: /media/nathan/Transcend/Nathan/data/kraken/h2b/GV0796/Pos20/Pos20_aligned/HDF/segmented.hdf5\n"
     ]
    },
    {
     "name": "stdout",
     "output_type": "stream",
     "text": [
      "Track information loaded and ordered according to cell type (WT IDs >0> Scr IDs)\n",
      "Loaded GV0796/Pos20/\n",
      "ID GV0796_Pos20_4_RFP\n",
      "ID GV0796_Pos20_73_RFP\n",
      "ID GV0796_Pos20_79_RFP\n",
      "ID GV0796_Pos20_5_RFP\n",
      "ID GV0796_Pos20_124_RFP\n",
      "ID GV0796_Pos20_95_RFP\n",
      "ID GV0796_Pos20_82_RFP\n",
      "ID GV0796_Pos20_72_RFP\n"
     ]
    },
    {
     "name": "stderr",
     "output_type": "stream",
     "text": [
      "[INFO][2022/02/21 08:29:54 PM] Opening HDF file: /media/nathan/Transcend/Nathan/data/kraken/h2b/GV0797/Pos18/Pos18_aligned/HDF/segmented.hdf5...\n",
      "[INFO][2022/02/21 08:29:54 PM] Loading tracks/obj_type_1\n"
     ]
    },
    {
     "name": "stdout",
     "output_type": "stream",
     "text": [
      "ID GV0797_Pos18_46_RFP\n",
      "Loading GV0797/Pos18/\n",
      "Btrack version no.: 0.4.2\n"
     ]
    },
    {
     "name": "stderr",
     "output_type": "stream",
     "text": [
      "[INFO][2022/02/21 08:29:56 PM] Loading objects/obj_type_1 (274136, 5) (262171 filtered: area>=100)\n",
      "[INFO][2022/02/21 08:30:00 PM] Closing HDF file: /media/nathan/Transcend/Nathan/data/kraken/h2b/GV0797/Pos18/Pos18_aligned/HDF/segmented.hdf5\n",
      "[INFO][2022/02/21 08:30:00 PM] Opening HDF file: /media/nathan/Transcend/Nathan/data/kraken/h2b/GV0797/Pos18/Pos18_aligned/HDF/segmented.hdf5...\n",
      "[INFO][2022/02/21 08:30:00 PM] Loading tracks/obj_type_2\n",
      "[INFO][2022/02/21 08:30:00 PM] Loading objects/obj_type_2 (17638, 5) (13852 filtered: area>=100)\n",
      "[INFO][2022/02/21 08:30:01 PM] Closing HDF file: /media/nathan/Transcend/Nathan/data/kraken/h2b/GV0797/Pos18/Pos18_aligned/HDF/segmented.hdf5\n"
     ]
    },
    {
     "name": "stdout",
     "output_type": "stream",
     "text": [
      "Track information loaded and ordered according to cell type (WT IDs >0> Scr IDs)\n",
      "Loaded GV0797/Pos18/\n",
      "ID GV0797_Pos18_17_RFP\n",
      "ID GV0797_Pos18_135_RFP\n",
      "ID GV0797_Pos18_134_RFP\n",
      "ID GV0797_Pos18_7_RFP\n",
      "ID GV0797_Pos18_218_RFP\n",
      "ID GV0797_Pos18_250_RFP\n"
     ]
    },
    {
     "name": "stderr",
     "output_type": "stream",
     "text": [
      "[INFO][2022/02/21 08:30:38 PM] Opening HDF file: /media/nathan/Transcend/Nathan/data/kraken/h2b/GV0797/Pos19/Pos19_aligned/HDF/segmented.hdf5...\n",
      "[INFO][2022/02/21 08:30:38 PM] Loading tracks/obj_type_1\n"
     ]
    },
    {
     "name": "stdout",
     "output_type": "stream",
     "text": [
      "ID GV0797_Pos19_7_RFP\n",
      "Loading GV0797/Pos19/\n",
      "Btrack version no.: 0.4.2\n"
     ]
    },
    {
     "name": "stderr",
     "output_type": "stream",
     "text": [
      "[INFO][2022/02/21 08:30:40 PM] Loading objects/obj_type_1 (309231, 5) (297729 filtered: area>=100)\n",
      "[INFO][2022/02/21 08:30:45 PM] Closing HDF file: /media/nathan/Transcend/Nathan/data/kraken/h2b/GV0797/Pos19/Pos19_aligned/HDF/segmented.hdf5\n",
      "[INFO][2022/02/21 08:30:45 PM] Opening HDF file: /media/nathan/Transcend/Nathan/data/kraken/h2b/GV0797/Pos19/Pos19_aligned/HDF/segmented.hdf5...\n",
      "[INFO][2022/02/21 08:30:45 PM] Loading tracks/obj_type_2\n",
      "[INFO][2022/02/21 08:30:45 PM] Loading objects/obj_type_2 (4035, 5) (2645 filtered: area>=100)\n",
      "[INFO][2022/02/21 08:30:45 PM] Closing HDF file: /media/nathan/Transcend/Nathan/data/kraken/h2b/GV0797/Pos19/Pos19_aligned/HDF/segmented.hdf5\n"
     ]
    },
    {
     "name": "stdout",
     "output_type": "stream",
     "text": [
      "Track information loaded and ordered according to cell type (WT IDs >0> Scr IDs)\n",
      "Loaded GV0797/Pos19/\n",
      "ID GV0797_Pos19_8_RFP\n"
     ]
    },
    {
     "name": "stderr",
     "output_type": "stream",
     "text": [
      "[INFO][2022/02/21 08:30:55 PM] Opening HDF file: /media/nathan/Transcend/Nathan/data/kraken/h2b/GV0798/Pos18/Pos18_aligned/HDF/segmented.hdf5...\n",
      "[INFO][2022/02/21 08:30:55 PM] Loading tracks/obj_type_1\n"
     ]
    },
    {
     "name": "stdout",
     "output_type": "stream",
     "text": [
      "ID GV0798_Pos18_12_RFP\n",
      "Loading GV0798/Pos18/\n",
      "Btrack version no.: 0.4.2\n"
     ]
    },
    {
     "name": "stderr",
     "output_type": "stream",
     "text": [
      "[INFO][2022/02/21 08:30:57 PM] Loading objects/obj_type_1 (429266, 5) (414111 filtered: area>=100)\n",
      "[INFO][2022/02/21 08:31:03 PM] Closing HDF file: /media/nathan/Transcend/Nathan/data/kraken/h2b/GV0798/Pos18/Pos18_aligned/HDF/segmented.hdf5\n",
      "[INFO][2022/02/21 08:31:03 PM] Opening HDF file: /media/nathan/Transcend/Nathan/data/kraken/h2b/GV0798/Pos18/Pos18_aligned/HDF/segmented.hdf5...\n",
      "[INFO][2022/02/21 08:31:03 PM] Loading tracks/obj_type_2\n",
      "[INFO][2022/02/21 08:31:03 PM] Loading objects/obj_type_2 (9488, 5) (7986 filtered: area>=100)\n",
      "[INFO][2022/02/21 08:31:04 PM] Closing HDF file: /media/nathan/Transcend/Nathan/data/kraken/h2b/GV0798/Pos18/Pos18_aligned/HDF/segmented.hdf5\n"
     ]
    },
    {
     "name": "stdout",
     "output_type": "stream",
     "text": [
      "Track information loaded and ordered according to cell type (WT IDs >0> Scr IDs)\n",
      "Loaded GV0798/Pos18/\n",
      "ID GV0798_Pos18_1292_RFP\n"
     ]
    },
    {
     "name": "stderr",
     "output_type": "stream",
     "text": [
      "[INFO][2022/02/21 08:31:21 PM] Opening HDF file: /media/nathan/Transcend/Nathan/data/kraken/h2b/GV0800/Pos15/Pos15_aligned/HDF/segmented.hdf5...\n",
      "[INFO][2022/02/21 08:31:21 PM] Loading tracks/obj_type_1\n"
     ]
    },
    {
     "name": "stdout",
     "output_type": "stream",
     "text": [
      "ID GV0800_Pos15_68_RFP\n",
      "Loading GV0800/Pos15/\n",
      "Btrack version no.: 0.4.2\n"
     ]
    },
    {
     "name": "stderr",
     "output_type": "stream",
     "text": [
      "[INFO][2022/02/21 08:31:24 PM] Loading objects/obj_type_1 (496218, 5) (476849 filtered: area>=100)\n",
      "[INFO][2022/02/21 08:31:31 PM] Closing HDF file: /media/nathan/Transcend/Nathan/data/kraken/h2b/GV0800/Pos15/Pos15_aligned/HDF/segmented.hdf5\n",
      "[INFO][2022/02/21 08:31:31 PM] Opening HDF file: /media/nathan/Transcend/Nathan/data/kraken/h2b/GV0800/Pos15/Pos15_aligned/HDF/segmented.hdf5...\n",
      "[INFO][2022/02/21 08:31:31 PM] Loading tracks/obj_type_2\n",
      "[INFO][2022/02/21 08:31:31 PM] Loading objects/obj_type_2 (16106, 5) (13248 filtered: area>=100)\n",
      "[INFO][2022/02/21 08:31:31 PM] Closing HDF file: /media/nathan/Transcend/Nathan/data/kraken/h2b/GV0800/Pos15/Pos15_aligned/HDF/segmented.hdf5\n"
     ]
    },
    {
     "name": "stdout",
     "output_type": "stream",
     "text": [
      "Track information loaded and ordered according to cell type (WT IDs >0> Scr IDs)\n",
      "Loaded GV0800/Pos15/\n",
      "ID GV0800_Pos15_19_RFP\n",
      "ID GV0800_Pos15_61_RFP\n",
      "ID GV0800_Pos15_118_RFP\n",
      "ID GV0800_Pos15_119_RFP\n",
      "ID GV0800_Pos15_7_RFP\n"
     ]
    },
    {
     "name": "stderr",
     "output_type": "stream",
     "text": [
      "[INFO][2022/02/21 08:32:50 PM] Opening HDF file: /media/nathan/Transcend/Nathan/data/kraken/h2b/GV0814/Pos11/Pos11_aligned/HDF/segmented.hdf5...\n",
      "[INFO][2022/02/21 08:32:50 PM] Loading tracks/obj_type_1\n"
     ]
    },
    {
     "name": "stdout",
     "output_type": "stream",
     "text": [
      "ID GV0814_Pos11_19_RFP\n",
      "Loading GV0814/Pos11/\n",
      "Btrack version no.: 0.4.2\n"
     ]
    },
    {
     "name": "stderr",
     "output_type": "stream",
     "text": [
      "[INFO][2022/02/21 08:32:53 PM] Loading objects/obj_type_1 (391111, 5) (347066 filtered: area>=100)\n",
      "[INFO][2022/02/21 08:32:58 PM] Closing HDF file: /media/nathan/Transcend/Nathan/data/kraken/h2b/GV0814/Pos11/Pos11_aligned/HDF/segmented.hdf5\n",
      "[INFO][2022/02/21 08:32:58 PM] Opening HDF file: /media/nathan/Transcend/Nathan/data/kraken/h2b/GV0814/Pos11/Pos11_aligned/HDF/segmented.hdf5...\n",
      "[INFO][2022/02/21 08:32:58 PM] Loading tracks/obj_type_2\n",
      "[INFO][2022/02/21 08:32:58 PM] Loading objects/obj_type_2 (26609, 5) (20891 filtered: area>=100)\n",
      "[INFO][2022/02/21 08:32:58 PM] Closing HDF file: /media/nathan/Transcend/Nathan/data/kraken/h2b/GV0814/Pos11/Pos11_aligned/HDF/segmented.hdf5\n"
     ]
    },
    {
     "name": "stdout",
     "output_type": "stream",
     "text": [
      "Track information loaded and ordered according to cell type (WT IDs >0> Scr IDs)\n",
      "Loaded GV0814/Pos11/\n",
      "ID GV0814_Pos11_16_RFP\n",
      "ID GV0814_Pos11_139_RFP\n",
      "ID GV0814_Pos11_146_RFP\n",
      "ID GV0814_Pos11_132_RFP\n",
      "ID GV0814_Pos11_145_RFP\n",
      "ID GV0814_Pos11_175_RFP\n",
      "ID GV0814_Pos11_140_RFP\n",
      "ID GV0814_Pos11_131_RFP\n",
      "ID GV0814_Pos11_222_RFP\n",
      "ID GV0814_Pos11_12_RFP\n",
      "ID GV0814_Pos11_223_RFP\n",
      "ID GV0814_Pos11_189_RFP\n",
      "ID GV0814_Pos11_2_RFP\n"
     ]
    },
    {
     "name": "stderr",
     "output_type": "stream",
     "text": [
      "[INFO][2022/02/21 08:35:30 PM] Opening HDF file: /media/nathan/Transcend/Nathan/data/kraken/h2b/GV0814/Pos12/Pos12_aligned/HDF/segmented.hdf5...\n",
      "[INFO][2022/02/21 08:35:30 PM] Loading tracks/obj_type_1\n"
     ]
    },
    {
     "name": "stdout",
     "output_type": "stream",
     "text": [
      "ID GV0814_Pos12_176_RFP\n",
      "Loading GV0814/Pos12/\n",
      "Btrack version no.: 0.4.2\n"
     ]
    },
    {
     "name": "stderr",
     "output_type": "stream",
     "text": [
      "[INFO][2022/02/21 08:35:33 PM] Loading objects/obj_type_1 (387469, 5) (361100 filtered: area>=100)\n",
      "[INFO][2022/02/21 08:35:39 PM] Closing HDF file: /media/nathan/Transcend/Nathan/data/kraken/h2b/GV0814/Pos12/Pos12_aligned/HDF/segmented.hdf5\n",
      "[INFO][2022/02/21 08:35:39 PM] Opening HDF file: /media/nathan/Transcend/Nathan/data/kraken/h2b/GV0814/Pos12/Pos12_aligned/HDF/segmented.hdf5...\n",
      "[INFO][2022/02/21 08:35:39 PM] Loading tracks/obj_type_2\n",
      "[INFO][2022/02/21 08:35:39 PM] Loading objects/obj_type_2 (48265, 5) (39349 filtered: area>=100)\n",
      "[INFO][2022/02/21 08:35:41 PM] Closing HDF file: /media/nathan/Transcend/Nathan/data/kraken/h2b/GV0814/Pos12/Pos12_aligned/HDF/segmented.hdf5\n"
     ]
    },
    {
     "name": "stdout",
     "output_type": "stream",
     "text": [
      "Track information loaded and ordered according to cell type (WT IDs >0> Scr IDs)\n",
      "Loaded GV0814/Pos12/\n",
      "ID GV0814_Pos12_28_RFP\n",
      "ID GV0814_Pos12_318_RFP\n",
      "ID GV0814_Pos12_177_RFP\n",
      "ID GV0814_Pos12_463_RFP\n",
      "ID GV0814_Pos12_200_RFP\n",
      "ID GV0814_Pos12_755_RFP\n",
      "ID GV0814_Pos12_485_RFP\n"
     ]
    },
    {
     "name": "stderr",
     "output_type": "stream",
     "text": [
      "[INFO][2022/02/21 08:37:18 PM] Opening HDF file: /media/nathan/Transcend/Nathan/data/kraken/h2b/GV0814/Pos23/Pos23_aligned/HDF/segmented.hdf5...\n",
      "[INFO][2022/02/21 08:37:18 PM] Loading tracks/obj_type_1\n"
     ]
    },
    {
     "name": "stdout",
     "output_type": "stream",
     "text": [
      "ID GV0814_Pos23_116_RFP\n",
      "Loading GV0814/Pos23/\n",
      "Btrack version no.: 0.4.2\n"
     ]
    },
    {
     "name": "stderr",
     "output_type": "stream",
     "text": [
      "[INFO][2022/02/21 08:37:20 PM] Loading objects/obj_type_1 (215153, 5) (177391 filtered: area>=100)\n",
      "[INFO][2022/02/21 08:37:22 PM] Closing HDF file: /media/nathan/Transcend/Nathan/data/kraken/h2b/GV0814/Pos23/Pos23_aligned/HDF/segmented.hdf5\n",
      "[INFO][2022/02/21 08:37:22 PM] Opening HDF file: /media/nathan/Transcend/Nathan/data/kraken/h2b/GV0814/Pos23/Pos23_aligned/HDF/segmented.hdf5...\n",
      "[INFO][2022/02/21 08:37:22 PM] Loading tracks/obj_type_2\n",
      "[INFO][2022/02/21 08:37:22 PM] Loading objects/obj_type_2 (14323, 5) (12020 filtered: area>=100)\n",
      "[INFO][2022/02/21 08:37:23 PM] Closing HDF file: /media/nathan/Transcend/Nathan/data/kraken/h2b/GV0814/Pos23/Pos23_aligned/HDF/segmented.hdf5\n"
     ]
    },
    {
     "name": "stdout",
     "output_type": "stream",
     "text": [
      "Track information loaded and ordered according to cell type (WT IDs >0> Scr IDs)\n",
      "Loaded GV0814/Pos23/\n",
      "ID GV0814_Pos23_184_RFP\n",
      "ID GV0814_Pos23_3_RFP\n"
     ]
    },
    {
     "name": "stderr",
     "output_type": "stream",
     "text": [
      "[INFO][2022/02/21 08:37:46 PM] Opening HDF file: /media/nathan/Transcend/Nathan/data/kraken/h2b/GV0815/Pos11/Pos11_aligned/HDF/segmented.hdf5...\n",
      "[INFO][2022/02/21 08:37:46 PM] Loading tracks/obj_type_1\n"
     ]
    },
    {
     "name": "stdout",
     "output_type": "stream",
     "text": [
      "ID GV0815_Pos11_4_RFP\n",
      "Loading GV0815/Pos11/\n",
      "Btrack version no.: 0.4.2\n"
     ]
    },
    {
     "name": "stderr",
     "output_type": "stream",
     "text": [
      "[INFO][2022/02/21 08:37:49 PM] Loading objects/obj_type_1 (383799, 5) (364840 filtered: area>=100)\n",
      "[INFO][2022/02/21 08:37:54 PM] Closing HDF file: /media/nathan/Transcend/Nathan/data/kraken/h2b/GV0815/Pos11/Pos11_aligned/HDF/segmented.hdf5\n",
      "[INFO][2022/02/21 08:37:54 PM] Opening HDF file: /media/nathan/Transcend/Nathan/data/kraken/h2b/GV0815/Pos11/Pos11_aligned/HDF/segmented.hdf5...\n",
      "[INFO][2022/02/21 08:37:54 PM] Loading tracks/obj_type_2\n",
      "[INFO][2022/02/21 08:37:54 PM] Loading objects/obj_type_2 (61591, 5) (47352 filtered: area>=100)\n",
      "[INFO][2022/02/21 08:37:55 PM] Closing HDF file: /media/nathan/Transcend/Nathan/data/kraken/h2b/GV0815/Pos11/Pos11_aligned/HDF/segmented.hdf5\n"
     ]
    },
    {
     "name": "stdout",
     "output_type": "stream",
     "text": [
      "Track information loaded and ordered according to cell type (WT IDs >0> Scr IDs)\n",
      "Loaded GV0815/Pos11/\n",
      "ID GV0815_Pos11_199_RFP\n",
      "ID GV0815_Pos11_279_RFP\n",
      "ID GV0815_Pos11_283_RFP\n",
      "ID GV0815_Pos11_277_RFP\n",
      "ID GV0815_Pos11_284_RFP\n",
      "ID GV0815_Pos11_297_RFP\n",
      "ID GV0815_Pos11_173_RFP\n",
      "ID GV0815_Pos11_355_RFP\n",
      "ID GV0815_Pos11_450_RFP\n",
      "ID GV0815_Pos11_10_RFP\n",
      "ID GV0815_Pos11_358_RFP\n",
      "ID GV0815_Pos11_607_RFP\n",
      "ID GV0815_Pos11_9_RFP\n",
      "ID GV0815_Pos11_657_RFP\n",
      "ID GV0815_Pos11_6_RFP\n",
      "ID GV0815_Pos11_742_RFP\n",
      "ID GV0815_Pos11_787_RFP\n",
      "ID GV0815_Pos11_579_RFP\n",
      "ID GV0815_Pos11_8_RFP\n",
      "ID GV0815_Pos11_829_RFP\n",
      "ID GV0815_Pos11_274_RFP\n"
     ]
    },
    {
     "name": "stderr",
     "output_type": "stream",
     "text": [
      "[INFO][2022/02/21 08:42:07 PM] Opening HDF file: /media/nathan/Transcend/Nathan/data/kraken/h2b/GV0815/Pos12/Pos12_aligned/HDF/segmented.hdf5...\n",
      "[INFO][2022/02/21 08:42:07 PM] Loading tracks/obj_type_1\n"
     ]
    },
    {
     "name": "stdout",
     "output_type": "stream",
     "text": [
      "ID GV0815_Pos12_13_RFP\n",
      "Loading GV0815/Pos12/\n",
      "Btrack version no.: 0.4.2\n"
     ]
    },
    {
     "name": "stderr",
     "output_type": "stream",
     "text": [
      "[INFO][2022/02/21 08:42:09 PM] Loading objects/obj_type_1 (224299, 5) (200430 filtered: area>=100)\n",
      "[INFO][2022/02/21 08:42:11 PM] Closing HDF file: /media/nathan/Transcend/Nathan/data/kraken/h2b/GV0815/Pos12/Pos12_aligned/HDF/segmented.hdf5\n",
      "[INFO][2022/02/21 08:42:12 PM] Opening HDF file: /media/nathan/Transcend/Nathan/data/kraken/h2b/GV0815/Pos12/Pos12_aligned/HDF/segmented.hdf5...\n",
      "[INFO][2022/02/21 08:42:12 PM] Loading tracks/obj_type_2\n",
      "[INFO][2022/02/21 08:42:12 PM] Loading objects/obj_type_2 (51057, 5) (39432 filtered: area>=100)\n",
      "[INFO][2022/02/21 08:42:12 PM] Closing HDF file: /media/nathan/Transcend/Nathan/data/kraken/h2b/GV0815/Pos12/Pos12_aligned/HDF/segmented.hdf5\n"
     ]
    },
    {
     "name": "stdout",
     "output_type": "stream",
     "text": [
      "Track information loaded and ordered according to cell type (WT IDs >0> Scr IDs)\n",
      "Loaded GV0815/Pos12/\n",
      "ID GV0815_Pos12_69_RFP\n",
      "ID GV0815_Pos12_68_RFP\n",
      "ID GV0815_Pos12_67_RFP\n",
      "ID GV0815_Pos12_257_RFP\n",
      "ID GV0815_Pos12_59_RFP\n",
      "ID GV0815_Pos12_82_RFP\n",
      "ID GV0815_Pos12_307_RFP\n",
      "ID GV0815_Pos12_16_RFP\n",
      "ID GV0815_Pos12_206_RFP\n",
      "ID GV0815_Pos12_332_RFP\n",
      "ID GV0815_Pos12_165_RFP\n",
      "ID GV0815_Pos12_22_RFP\n",
      "ID GV0815_Pos12_562_RFP\n",
      "ID GV0815_Pos12_563_RFP\n",
      "ID GV0815_Pos12_339_RFP\n",
      "ID GV0815_Pos12_655_RFP\n",
      "ID GV0815_Pos12_373_RFP\n",
      "ID GV0815_Pos12_58_RFP\n"
     ]
    },
    {
     "name": "stderr",
     "output_type": "stream",
     "text": [
      "[INFO][2022/02/21 08:44:06 PM] Opening HDF file: /media/nathan/Transcend/Nathan/data/kraken/h2b/GV0815/Pos23/Pos23_aligned/HDF/segmented.hdf5...\n"
     ]
    },
    {
     "name": "stdout",
     "output_type": "stream",
     "text": [
      "ID GV0815_Pos23_158_RFP\n",
      "Loading GV0815/Pos23/\n",
      "Btrack version no.: 0.4.2\n"
     ]
    },
    {
     "name": "stderr",
     "output_type": "stream",
     "text": [
      "[INFO][2022/02/21 08:44:06 PM] Loading tracks/obj_type_1\n",
      "[INFO][2022/02/21 08:44:08 PM] Loading objects/obj_type_1 (182687, 5) (160127 filtered: area>=100)\n",
      "[INFO][2022/02/21 08:44:10 PM] Closing HDF file: /media/nathan/Transcend/Nathan/data/kraken/h2b/GV0815/Pos23/Pos23_aligned/HDF/segmented.hdf5\n",
      "[INFO][2022/02/21 08:44:10 PM] Opening HDF file: /media/nathan/Transcend/Nathan/data/kraken/h2b/GV0815/Pos23/Pos23_aligned/HDF/segmented.hdf5...\n",
      "[INFO][2022/02/21 08:44:10 PM] Loading tracks/obj_type_2\n",
      "[INFO][2022/02/21 08:44:10 PM] Loading objects/obj_type_2 (48093, 5) (41816 filtered: area>=100)\n",
      "[INFO][2022/02/21 08:44:11 PM] Closing HDF file: /media/nathan/Transcend/Nathan/data/kraken/h2b/GV0815/Pos23/Pos23_aligned/HDF/segmented.hdf5\n"
     ]
    },
    {
     "name": "stdout",
     "output_type": "stream",
     "text": [
      "Track information loaded and ordered according to cell type (WT IDs >0> Scr IDs)\n",
      "Loaded GV0815/Pos23/\n",
      "ID GV0815_Pos23_173_RFP\n",
      "ID GV0815_Pos23_270_RFP\n",
      "ID GV0815_Pos23_215_RFP\n",
      "ID GV0815_Pos23_364_RFP\n",
      "ID GV0815_Pos23_365_RFP\n",
      "ID GV0815_Pos23_536_RFP\n",
      "ID GV0815_Pos23_157_RFP\n"
     ]
    },
    {
     "name": "stderr",
     "output_type": "stream",
     "text": [
      "[INFO][2022/02/21 08:44:56 PM] Opening HDF file: /media/nathan/Transcend/Nathan/data/kraken/h2b/GV0816/Pos13/Pos13_aligned/HDF/segmented.hdf5...\n"
     ]
    },
    {
     "name": "stdout",
     "output_type": "stream",
     "text": [
      "ID GV0816_Pos13_37_RFP\n",
      "Loading GV0816/Pos13/\n",
      "Btrack version no.: 0.4.2\n"
     ]
    },
    {
     "name": "stderr",
     "output_type": "stream",
     "text": [
      "[INFO][2022/02/21 08:44:57 PM] Loading tracks/obj_type_1\n",
      "[INFO][2022/02/21 08:44:58 PM] Loading objects/obj_type_1 (115677, 5) (105175 filtered: area>=100)\n",
      "[INFO][2022/02/21 08:44:59 PM] Closing HDF file: /media/nathan/Transcend/Nathan/data/kraken/h2b/GV0816/Pos13/Pos13_aligned/HDF/segmented.hdf5\n",
      "[INFO][2022/02/21 08:44:59 PM] Opening HDF file: /media/nathan/Transcend/Nathan/data/kraken/h2b/GV0816/Pos13/Pos13_aligned/HDF/segmented.hdf5...\n",
      "[INFO][2022/02/21 08:44:59 PM] Loading tracks/obj_type_2\n",
      "[INFO][2022/02/21 08:44:59 PM] Loading objects/obj_type_2 (55169, 5) (45321 filtered: area>=100)\n",
      "[INFO][2022/02/21 08:45:00 PM] Closing HDF file: /media/nathan/Transcend/Nathan/data/kraken/h2b/GV0816/Pos13/Pos13_aligned/HDF/segmented.hdf5\n"
     ]
    },
    {
     "name": "stdout",
     "output_type": "stream",
     "text": [
      "Track information loaded and ordered according to cell type (WT IDs >0> Scr IDs)\n",
      "Loaded GV0816/Pos13/\n",
      "ID GV0816_Pos13_53_RFP\n",
      "ID GV0816_Pos13_57_RFP\n",
      "ID GV0816_Pos13_45_RFP\n",
      "ID GV0816_Pos13_43_RFP\n",
      "ID GV0816_Pos13_415_RFP\n",
      "ID GV0816_Pos13_478_RFP\n",
      "ID GV0816_Pos13_635_RFP\n",
      "ID GV0816_Pos13_679_RFP\n",
      "ID GV0816_Pos13_42_RFP\n"
     ]
    },
    {
     "name": "stderr",
     "output_type": "stream",
     "text": [
      "[INFO][2022/02/21 08:45:25 PM] Opening HDF file: /media/nathan/Transcend/Nathan/data/kraken/h2b/GV0816/Pos14/Pos14_aligned/HDF/segmented.hdf5...\n",
      "[INFO][2022/02/21 08:45:25 PM] Loading tracks/obj_type_1\n"
     ]
    },
    {
     "name": "stdout",
     "output_type": "stream",
     "text": [
      "ID GV0816_Pos14_50_RFP\n",
      "Loading GV0816/Pos14/\n",
      "Btrack version no.: 0.4.2\n"
     ]
    },
    {
     "name": "stderr",
     "output_type": "stream",
     "text": [
      "[INFO][2022/02/21 08:45:25 PM] Loading objects/obj_type_1 (84243, 5) (76143 filtered: area>=100)\n",
      "[INFO][2022/02/21 08:45:26 PM] Closing HDF file: /media/nathan/Transcend/Nathan/data/kraken/h2b/GV0816/Pos14/Pos14_aligned/HDF/segmented.hdf5\n",
      "[INFO][2022/02/21 08:45:26 PM] Opening HDF file: /media/nathan/Transcend/Nathan/data/kraken/h2b/GV0816/Pos14/Pos14_aligned/HDF/segmented.hdf5...\n",
      "[INFO][2022/02/21 08:45:26 PM] Loading tracks/obj_type_2\n",
      "[INFO][2022/02/21 08:45:27 PM] Loading objects/obj_type_2 (50447, 5) (39807 filtered: area>=100)\n",
      "[INFO][2022/02/21 08:45:27 PM] Closing HDF file: /media/nathan/Transcend/Nathan/data/kraken/h2b/GV0816/Pos14/Pos14_aligned/HDF/segmented.hdf5\n"
     ]
    },
    {
     "name": "stdout",
     "output_type": "stream",
     "text": [
      "Track information loaded and ordered according to cell type (WT IDs >0> Scr IDs)\n",
      "Loaded GV0816/Pos14/\n",
      "ID GV0816_Pos14_37_RFP\n",
      "ID GV0816_Pos14_42_RFP\n",
      "ID GV0816_Pos14_506_RFP\n",
      "ID GV0816_Pos14_518_RFP\n",
      "ID GV0816_Pos14_15_RFP\n",
      "ID GV0816_Pos14_6_RFP\n",
      "ID GV0816_Pos14_242_RFP\n",
      "ID GV0816_Pos14_436_RFP\n",
      "ID GV0816_Pos14_28_RFP\n"
     ]
    },
    {
     "name": "stderr",
     "output_type": "stream",
     "text": [
      "[INFO][2022/02/21 08:45:53 PM] Opening HDF file: /media/nathan/Transcend/Nathan/data/kraken/h2b/GV0816/Pos23/Pos23_aligned/HDF/segmented.hdf5...\n",
      "[INFO][2022/02/21 08:45:53 PM] Loading tracks/obj_type_1\n"
     ]
    },
    {
     "name": "stdout",
     "output_type": "stream",
     "text": [
      "ID GV0816_Pos23_8_RFP\n",
      "Loading GV0816/Pos23/\n",
      "Btrack version no.: 0.4.2\n"
     ]
    },
    {
     "name": "stderr",
     "output_type": "stream",
     "text": [
      "[INFO][2022/02/21 08:45:54 PM] Loading objects/obj_type_1 (108996, 5) (100437 filtered: area>=100)\n",
      "[INFO][2022/02/21 08:45:55 PM] Closing HDF file: /media/nathan/Transcend/Nathan/data/kraken/h2b/GV0816/Pos23/Pos23_aligned/HDF/segmented.hdf5\n",
      "[INFO][2022/02/21 08:45:55 PM] Opening HDF file: /media/nathan/Transcend/Nathan/data/kraken/h2b/GV0816/Pos23/Pos23_aligned/HDF/segmented.hdf5...\n",
      "[INFO][2022/02/21 08:45:55 PM] Loading tracks/obj_type_2\n",
      "[INFO][2022/02/21 08:45:56 PM] Loading objects/obj_type_2 (36035, 5) (29738 filtered: area>=100)\n",
      "[INFO][2022/02/21 08:45:56 PM] Closing HDF file: /media/nathan/Transcend/Nathan/data/kraken/h2b/GV0816/Pos23/Pos23_aligned/HDF/segmented.hdf5\n"
     ]
    },
    {
     "name": "stdout",
     "output_type": "stream",
     "text": [
      "Track information loaded and ordered according to cell type (WT IDs >0> Scr IDs)\n",
      "Loaded GV0816/Pos23/\n",
      "ID GV0816_Pos23_30_RFP\n",
      "ID GV0816_Pos23_36_RFP\n",
      "ID GV0816_Pos23_426_RFP\n",
      "ID GV0816_Pos23_269_RFP\n",
      "ID GV0816_Pos23_330_RFP\n",
      "ID GV0816_Pos23_526_RFP\n"
     ]
    },
    {
     "name": "stderr",
     "output_type": "stream",
     "text": [
      "[INFO][2022/02/21 08:46:09 PM] Opening HDF file: /media/nathan/Transcend/Nathan/data/kraken/h2b/GV0817/Pos11/Pos11_aligned/HDF/segmented.hdf5...\n",
      "[INFO][2022/02/21 08:46:09 PM] Loading tracks/obj_type_1\n"
     ]
    },
    {
     "name": "stdout",
     "output_type": "stream",
     "text": [
      "ID GV0817_Pos11_615_RFP\n",
      "Loading GV0817/Pos11/\n",
      "Btrack version no.: 0.4.2\n"
     ]
    },
    {
     "name": "stderr",
     "output_type": "stream",
     "text": [
      "[INFO][2022/02/21 08:46:12 PM] Loading objects/obj_type_1 (278388, 5) (263033 filtered: area>=100)\n",
      "[INFO][2022/02/21 08:46:15 PM] Closing HDF file: /media/nathan/Transcend/Nathan/data/kraken/h2b/GV0817/Pos11/Pos11_aligned/HDF/segmented.hdf5\n",
      "[INFO][2022/02/21 08:46:15 PM] Opening HDF file: /media/nathan/Transcend/Nathan/data/kraken/h2b/GV0817/Pos11/Pos11_aligned/HDF/segmented.hdf5...\n",
      "[INFO][2022/02/21 08:46:15 PM] Loading tracks/obj_type_2\n",
      "[INFO][2022/02/21 08:46:16 PM] Loading objects/obj_type_2 (103313, 5) (85256 filtered: area>=100)\n",
      "[INFO][2022/02/21 08:46:18 PM] Closing HDF file: /media/nathan/Transcend/Nathan/data/kraken/h2b/GV0817/Pos11/Pos11_aligned/HDF/segmented.hdf5\n"
     ]
    },
    {
     "name": "stdout",
     "output_type": "stream",
     "text": [
      "Track information loaded and ordered according to cell type (WT IDs >0> Scr IDs)\n",
      "Loaded GV0817/Pos11/\n",
      "ID GV0817_Pos11_639_RFP\n",
      "ID GV0817_Pos11_141_RFP\n",
      "ID GV0817_Pos11_51_RFP\n",
      "ID GV0817_Pos11_374_RFP\n",
      "ID GV0817_Pos11_267_RFP\n",
      "ID GV0817_Pos11_722_RFP\n",
      "ID GV0817_Pos11_474_RFP\n",
      "ID GV0817_Pos11_778_RFP\n",
      "ID GV0817_Pos11_458_RFP\n",
      "ID GV0817_Pos11_37_RFP\n",
      "ID GV0817_Pos11_668_RFP\n",
      "ID GV0817_Pos11_656_RFP\n",
      "ID GV0817_Pos11_509_RFP\n",
      "ID GV0817_Pos11_655_RFP\n",
      "ID GV0817_Pos11_547_RFP\n",
      "ID GV0817_Pos11_720_RFP\n",
      "ID GV0817_Pos11_396_RFP\n",
      "ID GV0817_Pos11_701_RFP\n",
      "ID GV0817_Pos11_801_RFP\n",
      "ID GV0817_Pos11_978_RFP\n",
      "ID GV0817_Pos11_1173_RFP\n"
     ]
    },
    {
     "name": "stderr",
     "output_type": "stream",
     "text": [
      "[INFO][2022/02/21 08:48:53 PM] Opening HDF file: /media/nathan/Transcend/Nathan/data/kraken/h2b/GV0817/Pos12/Pos12_aligned/HDF/segmented.hdf5...\n",
      "[INFO][2022/02/21 08:48:53 PM] Loading tracks/obj_type_1\n"
     ]
    },
    {
     "name": "stdout",
     "output_type": "stream",
     "text": [
      "ID GV0817_Pos12_53_RFP\n",
      "Loading GV0817/Pos12/\n",
      "Btrack version no.: 0.4.2\n"
     ]
    },
    {
     "name": "stderr",
     "output_type": "stream",
     "text": [
      "[INFO][2022/02/21 08:48:55 PM] Loading objects/obj_type_1 (181283, 5) (167848 filtered: area>=100)\n",
      "[INFO][2022/02/21 08:48:57 PM] Closing HDF file: /media/nathan/Transcend/Nathan/data/kraken/h2b/GV0817/Pos12/Pos12_aligned/HDF/segmented.hdf5\n",
      "[INFO][2022/02/21 08:48:57 PM] Opening HDF file: /media/nathan/Transcend/Nathan/data/kraken/h2b/GV0817/Pos12/Pos12_aligned/HDF/segmented.hdf5...\n",
      "[INFO][2022/02/21 08:48:57 PM] Loading tracks/obj_type_2\n",
      "[INFO][2022/02/21 08:48:58 PM] Loading objects/obj_type_2 (111487, 5) (83279 filtered: area>=100)\n",
      "[INFO][2022/02/21 08:48:59 PM] Closing HDF file: /media/nathan/Transcend/Nathan/data/kraken/h2b/GV0817/Pos12/Pos12_aligned/HDF/segmented.hdf5\n"
     ]
    },
    {
     "name": "stdout",
     "output_type": "stream",
     "text": [
      "Track information loaded and ordered according to cell type (WT IDs >0> Scr IDs)\n",
      "Loaded GV0817/Pos12/\n",
      "ID GV0817_Pos12_678_RFP\n",
      "ID GV0817_Pos12_482_RFP\n",
      "ID GV0817_Pos12_564_RFP\n",
      "ID GV0817_Pos12_563_RFP\n",
      "ID GV0817_Pos12_193_RFP\n",
      "ID GV0817_Pos12_676_RFP\n",
      "ID GV0817_Pos12_316_RFP\n",
      "ID GV0817_Pos12_780_RFP\n",
      "ID GV0817_Pos12_870_RFP\n",
      "ID GV0817_Pos12_685_RFP\n",
      "ID GV0817_Pos12_771_RFP\n",
      "ID GV0817_Pos12_1001_RFP\n",
      "ID GV0817_Pos12_815_RFP\n",
      "ID GV0817_Pos12_874_RFP\n",
      "ID GV0817_Pos12_951_RFP\n",
      "ID GV0817_Pos12_789_RFP\n",
      "ID GV0817_Pos12_975_RFP\n",
      "ID GV0817_Pos12_302_RFP\n",
      "ID GV0817_Pos12_873_RFP\n",
      "ID GV0817_Pos12_1194_RFP\n",
      "ID GV0817_Pos12_1284_RFP\n",
      "ID GV0817_Pos12_1276_RFP\n",
      "ID GV0817_Pos12_823_RFP\n",
      "ID GV0817_Pos12_569_RFP\n",
      "ID GV0817_Pos12_417_RFP\n",
      "ID GV0817_Pos12_1562_RFP\n",
      "ID GV0817_Pos12_1015_RFP\n",
      "ID GV0817_Pos12_483_RFP\n",
      "ID GV0817_Pos12_748_RFP\n",
      "ID GV0817_Pos12_608_RFP\n"
     ]
    },
    {
     "name": "stderr",
     "output_type": "stream",
     "text": [
      "[INFO][2022/02/21 08:51:26 PM] Opening HDF file: /media/nathan/Transcend/Nathan/data/kraken/h2b/GV0817/Pos23/Pos23_aligned/HDF/segmented.hdf5...\n"
     ]
    },
    {
     "name": "stdout",
     "output_type": "stream",
     "text": [
      "ID GV0817_Pos23_51_RFP\n",
      "Loading GV0817/Pos23/\n",
      "Btrack version no.: 0.4.2\n"
     ]
    },
    {
     "name": "stderr",
     "output_type": "stream",
     "text": [
      "[INFO][2022/02/21 08:51:27 PM] Loading tracks/obj_type_1\n",
      "[INFO][2022/02/21 08:51:30 PM] Loading objects/obj_type_1 (450270, 5) (428734 filtered: area>=100)\n",
      "[INFO][2022/02/21 08:51:37 PM] Closing HDF file: /media/nathan/Transcend/Nathan/data/kraken/h2b/GV0817/Pos23/Pos23_aligned/HDF/segmented.hdf5\n",
      "[INFO][2022/02/21 08:51:37 PM] Opening HDF file: /media/nathan/Transcend/Nathan/data/kraken/h2b/GV0817/Pos23/Pos23_aligned/HDF/segmented.hdf5...\n",
      "[INFO][2022/02/21 08:51:37 PM] Loading tracks/obj_type_2\n",
      "[INFO][2022/02/21 08:51:38 PM] Loading objects/obj_type_2 (96198, 5) (80996 filtered: area>=100)\n",
      "[INFO][2022/02/21 08:51:39 PM] Closing HDF file: /media/nathan/Transcend/Nathan/data/kraken/h2b/GV0817/Pos23/Pos23_aligned/HDF/segmented.hdf5\n"
     ]
    },
    {
     "name": "stdout",
     "output_type": "stream",
     "text": [
      "Track information loaded and ordered according to cell type (WT IDs >0> Scr IDs)\n",
      "Loaded GV0817/Pos23/\n",
      "ID GV0817_Pos23_16_RFP\n",
      "ID GV0817_Pos23_317_RFP\n",
      "ID GV0817_Pos23_409_RFP\n",
      "ID GV0817_Pos23_435_RFP\n",
      "ID GV0817_Pos23_198_RFP\n",
      "ID GV0817_Pos23_334_RFP\n",
      "ID GV0817_Pos23_643_RFP\n",
      "ID GV0817_Pos23_461_RFP\n",
      "ID GV0817_Pos23_653_RFP\n",
      "ID GV0817_Pos23_48_RFP\n",
      "ID GV0817_Pos23_96_RFP\n",
      "ID GV0817_Pos23_577_RFP\n",
      "ID GV0817_Pos23_578_RFP\n",
      "ID GV0817_Pos23_650_RFP\n",
      "ID GV0817_Pos23_697_RFP\n",
      "ID GV0817_Pos23_651_RFP\n",
      "ID GV0817_Pos23_472_RFP\n",
      "ID GV0817_Pos23_696_RFP\n",
      "ID GV0817_Pos23_351_RFP\n",
      "ID GV0817_Pos23_590_RFP\n",
      "ID GV0817_Pos23_721_RFP\n",
      "ID GV0817_Pos23_383_RFP\n",
      "ID GV0817_Pos23_425_RFP\n",
      "ID GV0817_Pos23_553_RFP\n",
      "ID GV0817_Pos23_45_RFP\n",
      "ID GV0817_Pos23_908_RFP\n",
      "ID GV0817_Pos23_740_RFP\n",
      "ID GV0817_Pos23_1426_RFP\n",
      "ID GV0817_Pos23_1295_RFP\n"
     ]
    },
    {
     "name": "stderr",
     "output_type": "stream",
     "text": [
      "[INFO][2022/02/21 08:57:54 PM] Opening HDF file: /media/nathan/Transcend/Nathan/data/kraken/h2b/GV0818/Pos12/Pos12_aligned/HDF/segmented.hdf5...\n",
      "[INFO][2022/02/21 08:57:54 PM] Loading tracks/obj_type_1\n"
     ]
    },
    {
     "name": "stdout",
     "output_type": "stream",
     "text": [
      "ID GV0818_Pos12_320_RFP\n",
      "Loading GV0818/Pos12/\n",
      "Btrack version no.: 0.4.2\n"
     ]
    },
    {
     "name": "stderr",
     "output_type": "stream",
     "text": [
      "[INFO][2022/02/21 08:57:56 PM] Loading objects/obj_type_1 (238100, 5) (221047 filtered: area>=100)\n",
      "[INFO][2022/02/21 08:57:59 PM] Closing HDF file: /media/nathan/Transcend/Nathan/data/kraken/h2b/GV0818/Pos12/Pos12_aligned/HDF/segmented.hdf5\n",
      "[INFO][2022/02/21 08:57:59 PM] Opening HDF file: /media/nathan/Transcend/Nathan/data/kraken/h2b/GV0818/Pos12/Pos12_aligned/HDF/segmented.hdf5...\n",
      "[INFO][2022/02/21 08:57:59 PM] Loading tracks/obj_type_2\n",
      "[INFO][2022/02/21 08:58:00 PM] Loading objects/obj_type_2 (70950, 5) (59685 filtered: area>=100)\n",
      "[INFO][2022/02/21 08:58:01 PM] Closing HDF file: /media/nathan/Transcend/Nathan/data/kraken/h2b/GV0818/Pos12/Pos12_aligned/HDF/segmented.hdf5\n"
     ]
    },
    {
     "name": "stdout",
     "output_type": "stream",
     "text": [
      "Track information loaded and ordered according to cell type (WT IDs >0> Scr IDs)\n",
      "Loaded GV0818/Pos12/\n",
      "ID GV0818_Pos12_322_RFP\n",
      "ID GV0818_Pos12_324_RFP\n",
      "ID GV0818_Pos12_295_RFP\n",
      "ID GV0818_Pos12_582_RFP\n",
      "ID GV0818_Pos12_585_RFP\n",
      "ID GV0818_Pos12_574_RFP\n",
      "ID GV0818_Pos12_113_RFP\n",
      "ID GV0818_Pos12_323_RFP\n",
      "ID GV0818_Pos12_662_RFP\n",
      "ID GV0818_Pos12_706_RFP\n",
      "ID GV0818_Pos12_316_RFP\n",
      "ID GV0818_Pos12_336_RFP\n",
      "ID GV0818_Pos12_321_RFP\n",
      "ID GV0818_Pos12_398_RFP\n",
      "ID GV0818_Pos12_806_RFP\n",
      "ID GV0818_Pos12_263_RFP\n",
      "ID GV0818_Pos12_892_RFP\n",
      "ID GV0818_Pos12_817_RFP\n",
      "ID GV0818_Pos12_255_RFP\n"
     ]
    },
    {
     "name": "stderr",
     "output_type": "stream",
     "text": [
      "[INFO][2022/02/21 09:00:01 PM] Opening HDF file: /media/nathan/Transcend/Nathan/data/kraken/h2b/GV0818/Pos13/Pos13_aligned/HDF/segmented.hdf5...\n"
     ]
    },
    {
     "name": "stdout",
     "output_type": "stream",
     "text": [
      "ID GV0818_Pos13_108_RFP\n",
      "Loading GV0818/Pos13/\n",
      "Btrack version no.: 0.4.2\n"
     ]
    },
    {
     "name": "stderr",
     "output_type": "stream",
     "text": [
      "[INFO][2022/02/21 09:00:01 PM] Loading tracks/obj_type_1\n",
      "[INFO][2022/02/21 09:00:04 PM] Loading objects/obj_type_1 (380641, 5) (364472 filtered: area>=100)\n",
      "[INFO][2022/02/21 09:00:09 PM] Closing HDF file: /media/nathan/Transcend/Nathan/data/kraken/h2b/GV0818/Pos13/Pos13_aligned/HDF/segmented.hdf5\n",
      "[INFO][2022/02/21 09:00:09 PM] Opening HDF file: /media/nathan/Transcend/Nathan/data/kraken/h2b/GV0818/Pos13/Pos13_aligned/HDF/segmented.hdf5...\n",
      "[INFO][2022/02/21 09:00:09 PM] Loading tracks/obj_type_2\n",
      "[INFO][2022/02/21 09:00:10 PM] Loading objects/obj_type_2 (48215, 5) (40565 filtered: area>=100)\n",
      "[INFO][2022/02/21 09:00:10 PM] Closing HDF file: /media/nathan/Transcend/Nathan/data/kraken/h2b/GV0818/Pos13/Pos13_aligned/HDF/segmented.hdf5\n"
     ]
    },
    {
     "name": "stdout",
     "output_type": "stream",
     "text": [
      "Track information loaded and ordered according to cell type (WT IDs >0> Scr IDs)\n",
      "Loaded GV0818/Pos13/\n",
      "ID GV0818_Pos13_107_RFP\n",
      "ID GV0818_Pos13_267_RFP\n",
      "ID GV0818_Pos13_306_RFP\n",
      "ID GV0818_Pos13_276_RFP\n",
      "ID GV0818_Pos13_27_RFP\n",
      "ID GV0818_Pos13_218_RFP\n",
      "ID GV0818_Pos13_282_RFP\n",
      "ID GV0818_Pos13_281_RFP\n",
      "ID GV0818_Pos13_457_RFP\n",
      "ID GV0818_Pos13_614_RFP\n",
      "ID GV0818_Pos13_214_RFP\n",
      "ID GV0818_Pos13_712_RFP\n",
      "ID GV0818_Pos13_357_RFP\n",
      "ID GV0818_Pos13_525_RFP\n",
      "ID GV0818_Pos13_539_RFP\n"
     ]
    }
   ],
   "source": [
    "N_cells, error_log, success_log = calculate.iterative_heatmap_generator(\n",
    "    'WT', ## 'Scr',\n",
    "    'DIVIDE', \n",
    "    event_dict, \n",
    "    hdf5_file_list, \n",
    "    radius, \n",
    "    t_range, \n",
    "    num_bins, \n",
    "    output_path)"
   ]
  },
  {
   "cell_type": "code",
   "execution_count": 8,
   "metadata": {},
   "outputs": [
    {
     "data": {
      "text/plain": [
       "array([[0.000e+00, 0.000e+00, 0.000e+00, 0.000e+00, 0.000e+00, 1.500e+01,\n",
       "        6.300e+01, 4.100e+01, 4.600e+01, 4.900e+01],\n",
       "       [0.000e+00, 1.000e+00, 0.000e+00, 0.000e+00, 1.000e+00, 3.900e+01,\n",
       "        1.390e+02, 1.530e+02, 1.570e+02, 1.890e+02],\n",
       "       [0.000e+00, 0.000e+00, 1.000e+00, 1.000e+00, 3.000e+00, 8.500e+01,\n",
       "        2.260e+02, 2.650e+02, 2.750e+02, 2.900e+02],\n",
       "       [2.000e+00, 4.000e+00, 0.000e+00, 4.000e+00, 1.000e+00, 1.180e+02,\n",
       "        2.970e+02, 3.630e+02, 4.560e+02, 4.530e+02],\n",
       "       [1.200e+01, 1.200e+01, 1.200e+01, 3.000e+00, 9.000e+00, 1.490e+02,\n",
       "        4.300e+02, 4.170e+02, 5.100e+02, 6.130e+02],\n",
       "       [6.800e+01, 4.300e+01, 6.400e+01, 7.600e+01, 1.030e+02, 3.160e+02,\n",
       "        6.000e+02, 6.960e+02, 6.960e+02, 7.950e+02],\n",
       "       [2.680e+02, 2.940e+02, 3.010e+02, 2.710e+02, 2.790e+02, 5.120e+02,\n",
       "        8.600e+02, 9.420e+02, 1.064e+03, 1.097e+03],\n",
       "       [6.060e+02, 5.540e+02, 5.840e+02, 6.220e+02, 6.610e+02, 9.800e+02,\n",
       "        1.320e+03, 1.495e+03, 1.509e+03, 1.514e+03],\n",
       "       [9.270e+02, 1.061e+03, 1.090e+03, 1.083e+03, 1.085e+03, 1.534e+03,\n",
       "        1.855e+03, 1.761e+03, 1.857e+03, 1.716e+03],\n",
       "       [1.371e+03, 1.347e+03, 1.422e+03, 1.355e+03, 1.429e+03, 1.864e+03,\n",
       "        2.055e+03, 2.131e+03, 1.992e+03, 2.008e+03]])"
      ]
     },
     "execution_count": 8,
     "metadata": {},
     "output_type": "execute_result"
    }
   ],
   "source": [
    "N_cells ## scope of analysis (number of apoptoses scanned around)"
   ]
  },
  {
   "cell_type": "code",
   "execution_count": 9,
   "metadata": {},
   "outputs": [
    {
     "data": {
      "text/plain": [
       "0"
      ]
     },
     "execution_count": 9,
     "metadata": {},
     "output_type": "execute_result"
    }
   ],
   "source": [
    "len(error_log)"
   ]
  },
  {
   "cell_type": "code",
   "execution_count": 10,
   "metadata": {
    "scrolled": true
   },
   "outputs": [
    {
     "data": {
      "text/plain": [
       "([],\n",
       " ['/media/nathan/Transcend/Nathan/data/analysis_results/radial_analysis_output/follow/feb_2022/50.50.10/scr_apop_wt_div/GV0804_Pos4_179_RFP_N_cells / /media/nathan/Transcend/Nathan/data/analysis_results/radial_analysis_output/follow/feb_2022/50.50.10/scr_apop_wt_div/GV0804_Pos4_179_RFP_N_events saved out successfully',\n",
       "  '/media/nathan/Transcend/Nathan/data/analysis_results/radial_analysis_output/follow/feb_2022/50.50.10/scr_apop_wt_div/GV0804_Pos4_249_RFP_N_cells / /media/nathan/Transcend/Nathan/data/analysis_results/radial_analysis_output/follow/feb_2022/50.50.10/scr_apop_wt_div/GV0804_Pos4_249_RFP_N_events saved out successfully',\n",
       "  '/media/nathan/Transcend/Nathan/data/analysis_results/radial_analysis_output/follow/feb_2022/50.50.10/scr_apop_wt_div/GV0804_Pos4_110_RFP_N_cells / /media/nathan/Transcend/Nathan/data/analysis_results/radial_analysis_output/follow/feb_2022/50.50.10/scr_apop_wt_div/GV0804_Pos4_110_RFP_N_events saved out successfully',\n",
       "  '/media/nathan/Transcend/Nathan/data/analysis_results/radial_analysis_output/follow/feb_2022/50.50.10/scr_apop_wt_div/GV0804_Pos4_292_RFP_N_cells / /media/nathan/Transcend/Nathan/data/analysis_results/radial_analysis_output/follow/feb_2022/50.50.10/scr_apop_wt_div/GV0804_Pos4_292_RFP_N_events saved out successfully',\n",
       "  '/media/nathan/Transcend/Nathan/data/analysis_results/radial_analysis_output/follow/feb_2022/50.50.10/scr_apop_wt_div/GV0804_Pos4_342_RFP_N_cells / /media/nathan/Transcend/Nathan/data/analysis_results/radial_analysis_output/follow/feb_2022/50.50.10/scr_apop_wt_div/GV0804_Pos4_342_RFP_N_events saved out successfully',\n",
       "  '/media/nathan/Transcend/Nathan/data/analysis_results/radial_analysis_output/follow/feb_2022/50.50.10/scr_apop_wt_div/GV0804_Pos4_343_RFP_N_cells / /media/nathan/Transcend/Nathan/data/analysis_results/radial_analysis_output/follow/feb_2022/50.50.10/scr_apop_wt_div/GV0804_Pos4_343_RFP_N_events saved out successfully',\n",
       "  '/media/nathan/Transcend/Nathan/data/analysis_results/radial_analysis_output/follow/feb_2022/50.50.10/scr_apop_wt_div/GV0804_Pos4_231_RFP_N_cells / /media/nathan/Transcend/Nathan/data/analysis_results/radial_analysis_output/follow/feb_2022/50.50.10/scr_apop_wt_div/GV0804_Pos4_231_RFP_N_events saved out successfully',\n",
       "  '/media/nathan/Transcend/Nathan/data/analysis_results/radial_analysis_output/follow/feb_2022/50.50.10/scr_apop_wt_div/GV0804_Pos4_339_RFP_N_cells / /media/nathan/Transcend/Nathan/data/analysis_results/radial_analysis_output/follow/feb_2022/50.50.10/scr_apop_wt_div/GV0804_Pos4_339_RFP_N_events saved out successfully',\n",
       "  '/media/nathan/Transcend/Nathan/data/analysis_results/radial_analysis_output/follow/feb_2022/50.50.10/scr_apop_wt_div/GV0804_Pos4_333_RFP_N_cells / /media/nathan/Transcend/Nathan/data/analysis_results/radial_analysis_output/follow/feb_2022/50.50.10/scr_apop_wt_div/GV0804_Pos4_333_RFP_N_events saved out successfully',\n",
       "  '/media/nathan/Transcend/Nathan/data/analysis_results/radial_analysis_output/follow/feb_2022/50.50.10/scr_apop_wt_div/GV0804_Pos4_353_RFP_N_cells / /media/nathan/Transcend/Nathan/data/analysis_results/radial_analysis_output/follow/feb_2022/50.50.10/scr_apop_wt_div/GV0804_Pos4_353_RFP_N_events saved out successfully',\n",
       "  '/media/nathan/Transcend/Nathan/data/analysis_results/radial_analysis_output/follow/feb_2022/50.50.10/scr_apop_wt_div/GV0804_Pos4_351_RFP_N_cells / /media/nathan/Transcend/Nathan/data/analysis_results/radial_analysis_output/follow/feb_2022/50.50.10/scr_apop_wt_div/GV0804_Pos4_351_RFP_N_events saved out successfully',\n",
       "  '/media/nathan/Transcend/Nathan/data/analysis_results/radial_analysis_output/follow/feb_2022/50.50.10/scr_apop_wt_div/GV0804_Pos4_163_RFP_N_cells / /media/nathan/Transcend/Nathan/data/analysis_results/radial_analysis_output/follow/feb_2022/50.50.10/scr_apop_wt_div/GV0804_Pos4_163_RFP_N_events saved out successfully',\n",
       "  '/media/nathan/Transcend/Nathan/data/analysis_results/radial_analysis_output/follow/feb_2022/50.50.10/scr_apop_wt_div/GV0804_Pos4_217_RFP_N_cells / /media/nathan/Transcend/Nathan/data/analysis_results/radial_analysis_output/follow/feb_2022/50.50.10/scr_apop_wt_div/GV0804_Pos4_217_RFP_N_events saved out successfully',\n",
       "  '/media/nathan/Transcend/Nathan/data/analysis_results/radial_analysis_output/follow/feb_2022/50.50.10/scr_apop_wt_div/GV0794_Pos4_6_RFP_N_cells / /media/nathan/Transcend/Nathan/data/analysis_results/radial_analysis_output/follow/feb_2022/50.50.10/scr_apop_wt_div/GV0794_Pos4_6_RFP_N_events saved out successfully',\n",
       "  '/media/nathan/Transcend/Nathan/data/analysis_results/radial_analysis_output/follow/feb_2022/50.50.10/scr_apop_wt_div/GV0794_Pos4_73_RFP_N_cells / /media/nathan/Transcend/Nathan/data/analysis_results/radial_analysis_output/follow/feb_2022/50.50.10/scr_apop_wt_div/GV0794_Pos4_73_RFP_N_events saved out successfully',\n",
       "  '/media/nathan/Transcend/Nathan/data/analysis_results/radial_analysis_output/follow/feb_2022/50.50.10/scr_apop_wt_div/GV0794_Pos4_70_RFP_N_cells / /media/nathan/Transcend/Nathan/data/analysis_results/radial_analysis_output/follow/feb_2022/50.50.10/scr_apop_wt_div/GV0794_Pos4_70_RFP_N_events saved out successfully',\n",
       "  '/media/nathan/Transcend/Nathan/data/analysis_results/radial_analysis_output/follow/feb_2022/50.50.10/scr_apop_wt_div/GV0794_Pos7_52_RFP_N_cells / /media/nathan/Transcend/Nathan/data/analysis_results/radial_analysis_output/follow/feb_2022/50.50.10/scr_apop_wt_div/GV0794_Pos7_52_RFP_N_events saved out successfully',\n",
       "  '/media/nathan/Transcend/Nathan/data/analysis_results/radial_analysis_output/follow/feb_2022/50.50.10/scr_apop_wt_div/GV0794_Pos7_192_RFP_N_cells / /media/nathan/Transcend/Nathan/data/analysis_results/radial_analysis_output/follow/feb_2022/50.50.10/scr_apop_wt_div/GV0794_Pos7_192_RFP_N_events saved out successfully',\n",
       "  '/media/nathan/Transcend/Nathan/data/analysis_results/radial_analysis_output/follow/feb_2022/50.50.10/scr_apop_wt_div/GV0794_Pos7_352_RFP_N_cells / /media/nathan/Transcend/Nathan/data/analysis_results/radial_analysis_output/follow/feb_2022/50.50.10/scr_apop_wt_div/GV0794_Pos7_352_RFP_N_events saved out successfully',\n",
       "  '/media/nathan/Transcend/Nathan/data/analysis_results/radial_analysis_output/follow/feb_2022/50.50.10/scr_apop_wt_div/GV0794_Pos7_328_RFP_N_cells / /media/nathan/Transcend/Nathan/data/analysis_results/radial_analysis_output/follow/feb_2022/50.50.10/scr_apop_wt_div/GV0794_Pos7_328_RFP_N_events saved out successfully',\n",
       "  '/media/nathan/Transcend/Nathan/data/analysis_results/radial_analysis_output/follow/feb_2022/50.50.10/scr_apop_wt_div/GV0794_Pos7_329_RFP_N_cells / /media/nathan/Transcend/Nathan/data/analysis_results/radial_analysis_output/follow/feb_2022/50.50.10/scr_apop_wt_div/GV0794_Pos7_329_RFP_N_events saved out successfully',\n",
       "  '/media/nathan/Transcend/Nathan/data/analysis_results/radial_analysis_output/follow/feb_2022/50.50.10/scr_apop_wt_div/GV0794_Pos7_360_RFP_N_cells / /media/nathan/Transcend/Nathan/data/analysis_results/radial_analysis_output/follow/feb_2022/50.50.10/scr_apop_wt_div/GV0794_Pos7_360_RFP_N_events saved out successfully',\n",
       "  '/media/nathan/Transcend/Nathan/data/analysis_results/radial_analysis_output/follow/feb_2022/50.50.10/scr_apop_wt_div/GV0794_Pos7_429_RFP_N_cells / /media/nathan/Transcend/Nathan/data/analysis_results/radial_analysis_output/follow/feb_2022/50.50.10/scr_apop_wt_div/GV0794_Pos7_429_RFP_N_events saved out successfully',\n",
       "  '/media/nathan/Transcend/Nathan/data/analysis_results/radial_analysis_output/follow/feb_2022/50.50.10/scr_apop_wt_div/GV0795_Pos4_1_RFP_N_cells / /media/nathan/Transcend/Nathan/data/analysis_results/radial_analysis_output/follow/feb_2022/50.50.10/scr_apop_wt_div/GV0795_Pos4_1_RFP_N_events saved out successfully',\n",
       "  '/media/nathan/Transcend/Nathan/data/analysis_results/radial_analysis_output/follow/feb_2022/50.50.10/scr_apop_wt_div/GV0795_Pos4_7_RFP_N_cells / /media/nathan/Transcend/Nathan/data/analysis_results/radial_analysis_output/follow/feb_2022/50.50.10/scr_apop_wt_div/GV0795_Pos4_7_RFP_N_events saved out successfully',\n",
       "  '/media/nathan/Transcend/Nathan/data/analysis_results/radial_analysis_output/follow/feb_2022/50.50.10/scr_apop_wt_div/GV0795_Pos4_103_RFP_N_cells / /media/nathan/Transcend/Nathan/data/analysis_results/radial_analysis_output/follow/feb_2022/50.50.10/scr_apop_wt_div/GV0795_Pos4_103_RFP_N_events saved out successfully',\n",
       "  '/media/nathan/Transcend/Nathan/data/analysis_results/radial_analysis_output/follow/feb_2022/50.50.10/scr_apop_wt_div/GV0795_Pos4_284_RFP_N_cells / /media/nathan/Transcend/Nathan/data/analysis_results/radial_analysis_output/follow/feb_2022/50.50.10/scr_apop_wt_div/GV0795_Pos4_284_RFP_N_events saved out successfully',\n",
       "  '/media/nathan/Transcend/Nathan/data/analysis_results/radial_analysis_output/follow/feb_2022/50.50.10/scr_apop_wt_div/GV0795_Pos4_235_RFP_N_cells / /media/nathan/Transcend/Nathan/data/analysis_results/radial_analysis_output/follow/feb_2022/50.50.10/scr_apop_wt_div/GV0795_Pos4_235_RFP_N_events saved out successfully',\n",
       "  '/media/nathan/Transcend/Nathan/data/analysis_results/radial_analysis_output/follow/feb_2022/50.50.10/scr_apop_wt_div/GV0795_Pos4_234_RFP_N_cells / /media/nathan/Transcend/Nathan/data/analysis_results/radial_analysis_output/follow/feb_2022/50.50.10/scr_apop_wt_div/GV0795_Pos4_234_RFP_N_events saved out successfully',\n",
       "  '/media/nathan/Transcend/Nathan/data/analysis_results/radial_analysis_output/follow/feb_2022/50.50.10/scr_apop_wt_div/GV0795_Pos4_285_RFP_N_cells / /media/nathan/Transcend/Nathan/data/analysis_results/radial_analysis_output/follow/feb_2022/50.50.10/scr_apop_wt_div/GV0795_Pos4_285_RFP_N_events saved out successfully',\n",
       "  '/media/nathan/Transcend/Nathan/data/analysis_results/radial_analysis_output/follow/feb_2022/50.50.10/scr_apop_wt_div/GV0795_Pos4_223_RFP_N_cells / /media/nathan/Transcend/Nathan/data/analysis_results/radial_analysis_output/follow/feb_2022/50.50.10/scr_apop_wt_div/GV0795_Pos4_223_RFP_N_events saved out successfully',\n",
       "  '/media/nathan/Transcend/Nathan/data/analysis_results/radial_analysis_output/follow/feb_2022/50.50.10/scr_apop_wt_div/GV0795_Pos4_323_RFP_N_cells / /media/nathan/Transcend/Nathan/data/analysis_results/radial_analysis_output/follow/feb_2022/50.50.10/scr_apop_wt_div/GV0795_Pos4_323_RFP_N_events saved out successfully',\n",
       "  '/media/nathan/Transcend/Nathan/data/analysis_results/radial_analysis_output/follow/feb_2022/50.50.10/scr_apop_wt_div/GV0795_Pos4_78_RFP_N_cells / /media/nathan/Transcend/Nathan/data/analysis_results/radial_analysis_output/follow/feb_2022/50.50.10/scr_apop_wt_div/GV0795_Pos4_78_RFP_N_events saved out successfully',\n",
       "  '/media/nathan/Transcend/Nathan/data/analysis_results/radial_analysis_output/follow/feb_2022/50.50.10/scr_apop_wt_div/GV0795_Pos4_359_RFP_N_cells / /media/nathan/Transcend/Nathan/data/analysis_results/radial_analysis_output/follow/feb_2022/50.50.10/scr_apop_wt_div/GV0795_Pos4_359_RFP_N_events saved out successfully',\n",
       "  '/media/nathan/Transcend/Nathan/data/analysis_results/radial_analysis_output/follow/feb_2022/50.50.10/scr_apop_wt_div/GV0795_Pos4_423_RFP_N_cells / /media/nathan/Transcend/Nathan/data/analysis_results/radial_analysis_output/follow/feb_2022/50.50.10/scr_apop_wt_div/GV0795_Pos4_423_RFP_N_events saved out successfully',\n",
       "  '/media/nathan/Transcend/Nathan/data/analysis_results/radial_analysis_output/follow/feb_2022/50.50.10/scr_apop_wt_div/GV0795_Pos4_248_RFP_N_cells / /media/nathan/Transcend/Nathan/data/analysis_results/radial_analysis_output/follow/feb_2022/50.50.10/scr_apop_wt_div/GV0795_Pos4_248_RFP_N_events saved out successfully',\n",
       "  '/media/nathan/Transcend/Nathan/data/analysis_results/radial_analysis_output/follow/feb_2022/50.50.10/scr_apop_wt_div/GV0795_Pos4_192_RFP_N_cells / /media/nathan/Transcend/Nathan/data/analysis_results/radial_analysis_output/follow/feb_2022/50.50.10/scr_apop_wt_div/GV0795_Pos4_192_RFP_N_events saved out successfully',\n",
       "  '/media/nathan/Transcend/Nathan/data/analysis_results/radial_analysis_output/follow/feb_2022/50.50.10/scr_apop_wt_div/GV0795_Pos4_322_RFP_N_cells / /media/nathan/Transcend/Nathan/data/analysis_results/radial_analysis_output/follow/feb_2022/50.50.10/scr_apop_wt_div/GV0795_Pos4_322_RFP_N_events saved out successfully',\n",
       "  '/media/nathan/Transcend/Nathan/data/analysis_results/radial_analysis_output/follow/feb_2022/50.50.10/scr_apop_wt_div/GV0795_Pos4_49_RFP_N_cells / /media/nathan/Transcend/Nathan/data/analysis_results/radial_analysis_output/follow/feb_2022/50.50.10/scr_apop_wt_div/GV0795_Pos4_49_RFP_N_events saved out successfully',\n",
       "  '/media/nathan/Transcend/Nathan/data/analysis_results/radial_analysis_output/follow/feb_2022/50.50.10/scr_apop_wt_div/GV0795_Pos4_432_RFP_N_cells / /media/nathan/Transcend/Nathan/data/analysis_results/radial_analysis_output/follow/feb_2022/50.50.10/scr_apop_wt_div/GV0795_Pos4_432_RFP_N_events saved out successfully',\n",
       "  '/media/nathan/Transcend/Nathan/data/analysis_results/radial_analysis_output/follow/feb_2022/50.50.10/scr_apop_wt_div/GV0795_Pos4_3_RFP_N_cells / /media/nathan/Transcend/Nathan/data/analysis_results/radial_analysis_output/follow/feb_2022/50.50.10/scr_apop_wt_div/GV0795_Pos4_3_RFP_N_events saved out successfully',\n",
       "  '/media/nathan/Transcend/Nathan/data/analysis_results/radial_analysis_output/follow/feb_2022/50.50.10/scr_apop_wt_div/GV0795_Pos4_419_RFP_N_cells / /media/nathan/Transcend/Nathan/data/analysis_results/radial_analysis_output/follow/feb_2022/50.50.10/scr_apop_wt_div/GV0795_Pos4_419_RFP_N_events saved out successfully',\n",
       "  '/media/nathan/Transcend/Nathan/data/analysis_results/radial_analysis_output/follow/feb_2022/50.50.10/scr_apop_wt_div/GV0795_Pos4_487_RFP_N_cells / /media/nathan/Transcend/Nathan/data/analysis_results/radial_analysis_output/follow/feb_2022/50.50.10/scr_apop_wt_div/GV0795_Pos4_487_RFP_N_events saved out successfully',\n",
       "  '/media/nathan/Transcend/Nathan/data/analysis_results/radial_analysis_output/follow/feb_2022/50.50.10/scr_apop_wt_div/GV0795_Pos4_355_RFP_N_cells / /media/nathan/Transcend/Nathan/data/analysis_results/radial_analysis_output/follow/feb_2022/50.50.10/scr_apop_wt_div/GV0795_Pos4_355_RFP_N_events saved out successfully',\n",
       "  '/media/nathan/Transcend/Nathan/data/analysis_results/radial_analysis_output/follow/feb_2022/50.50.10/scr_apop_wt_div/GV0795_Pos4_418_RFP_N_cells / /media/nathan/Transcend/Nathan/data/analysis_results/radial_analysis_output/follow/feb_2022/50.50.10/scr_apop_wt_div/GV0795_Pos4_418_RFP_N_events saved out successfully',\n",
       "  '/media/nathan/Transcend/Nathan/data/analysis_results/radial_analysis_output/follow/feb_2022/50.50.10/scr_apop_wt_div/GV0795_Pos4_35_RFP_N_cells / /media/nathan/Transcend/Nathan/data/analysis_results/radial_analysis_output/follow/feb_2022/50.50.10/scr_apop_wt_div/GV0795_Pos4_35_RFP_N_events saved out successfully',\n",
       "  '/media/nathan/Transcend/Nathan/data/analysis_results/radial_analysis_output/follow/feb_2022/50.50.10/scr_apop_wt_div/GV0795_Pos4_309_RFP_N_cells / /media/nathan/Transcend/Nathan/data/analysis_results/radial_analysis_output/follow/feb_2022/50.50.10/scr_apop_wt_div/GV0795_Pos4_309_RFP_N_events saved out successfully',\n",
       "  '/media/nathan/Transcend/Nathan/data/analysis_results/radial_analysis_output/follow/feb_2022/50.50.10/scr_apop_wt_div/GV0795_Pos4_636_RFP_N_cells / /media/nathan/Transcend/Nathan/data/analysis_results/radial_analysis_output/follow/feb_2022/50.50.10/scr_apop_wt_div/GV0795_Pos4_636_RFP_N_events saved out successfully',\n",
       "  '/media/nathan/Transcend/Nathan/data/analysis_results/radial_analysis_output/follow/feb_2022/50.50.10/scr_apop_wt_div/GV0795_Pos4_703_RFP_N_cells / /media/nathan/Transcend/Nathan/data/analysis_results/radial_analysis_output/follow/feb_2022/50.50.10/scr_apop_wt_div/GV0795_Pos4_703_RFP_N_events saved out successfully',\n",
       "  '/media/nathan/Transcend/Nathan/data/analysis_results/radial_analysis_output/follow/feb_2022/50.50.10/scr_apop_wt_div/GV0795_Pos7_37_RFP_N_cells / /media/nathan/Transcend/Nathan/data/analysis_results/radial_analysis_output/follow/feb_2022/50.50.10/scr_apop_wt_div/GV0795_Pos7_37_RFP_N_events saved out successfully',\n",
       "  '/media/nathan/Transcend/Nathan/data/analysis_results/radial_analysis_output/follow/feb_2022/50.50.10/scr_apop_wt_div/GV0795_Pos7_390_RFP_N_cells / /media/nathan/Transcend/Nathan/data/analysis_results/radial_analysis_output/follow/feb_2022/50.50.10/scr_apop_wt_div/GV0795_Pos7_390_RFP_N_events saved out successfully',\n",
       "  '/media/nathan/Transcend/Nathan/data/analysis_results/radial_analysis_output/follow/feb_2022/50.50.10/scr_apop_wt_div/GV0795_Pos7_421_RFP_N_cells / /media/nathan/Transcend/Nathan/data/analysis_results/radial_analysis_output/follow/feb_2022/50.50.10/scr_apop_wt_div/GV0795_Pos7_421_RFP_N_events saved out successfully',\n",
       "  '/media/nathan/Transcend/Nathan/data/analysis_results/radial_analysis_output/follow/feb_2022/50.50.10/scr_apop_wt_div/GV0795_Pos7_460_RFP_N_cells / /media/nathan/Transcend/Nathan/data/analysis_results/radial_analysis_output/follow/feb_2022/50.50.10/scr_apop_wt_div/GV0795_Pos7_460_RFP_N_events saved out successfully',\n",
       "  '/media/nathan/Transcend/Nathan/data/analysis_results/radial_analysis_output/follow/feb_2022/50.50.10/scr_apop_wt_div/GV0795_Pos7_263_RFP_N_cells / /media/nathan/Transcend/Nathan/data/analysis_results/radial_analysis_output/follow/feb_2022/50.50.10/scr_apop_wt_div/GV0795_Pos7_263_RFP_N_events saved out successfully',\n",
       "  '/media/nathan/Transcend/Nathan/data/analysis_results/radial_analysis_output/follow/feb_2022/50.50.10/scr_apop_wt_div/GV0795_Pos7_264_RFP_N_cells / /media/nathan/Transcend/Nathan/data/analysis_results/radial_analysis_output/follow/feb_2022/50.50.10/scr_apop_wt_div/GV0795_Pos7_264_RFP_N_events saved out successfully',\n",
       "  '/media/nathan/Transcend/Nathan/data/analysis_results/radial_analysis_output/follow/feb_2022/50.50.10/scr_apop_wt_div/GV0795_Pos7_680_RFP_N_cells / /media/nathan/Transcend/Nathan/data/analysis_results/radial_analysis_output/follow/feb_2022/50.50.10/scr_apop_wt_div/GV0795_Pos7_680_RFP_N_events saved out successfully',\n",
       "  '/media/nathan/Transcend/Nathan/data/analysis_results/radial_analysis_output/follow/feb_2022/50.50.10/scr_apop_wt_div/GV0795_Pos7_874_RFP_N_cells / /media/nathan/Transcend/Nathan/data/analysis_results/radial_analysis_output/follow/feb_2022/50.50.10/scr_apop_wt_div/GV0795_Pos7_874_RFP_N_events saved out successfully',\n",
       "  '/media/nathan/Transcend/Nathan/data/analysis_results/radial_analysis_output/follow/feb_2022/50.50.10/scr_apop_wt_div/GV0795_Pos7_873_RFP_N_cells / /media/nathan/Transcend/Nathan/data/analysis_results/radial_analysis_output/follow/feb_2022/50.50.10/scr_apop_wt_div/GV0795_Pos7_873_RFP_N_events saved out successfully',\n",
       "  '/media/nathan/Transcend/Nathan/data/analysis_results/radial_analysis_output/follow/feb_2022/50.50.10/scr_apop_wt_div/GV0795_Pos7_255_RFP_N_cells / /media/nathan/Transcend/Nathan/data/analysis_results/radial_analysis_output/follow/feb_2022/50.50.10/scr_apop_wt_div/GV0795_Pos7_255_RFP_N_events saved out successfully',\n",
       "  '/media/nathan/Transcend/Nathan/data/analysis_results/radial_analysis_output/follow/feb_2022/50.50.10/scr_apop_wt_div/GV0795_Pos7_850_RFP_N_cells / /media/nathan/Transcend/Nathan/data/analysis_results/radial_analysis_output/follow/feb_2022/50.50.10/scr_apop_wt_div/GV0795_Pos7_850_RFP_N_events saved out successfully',\n",
       "  '/media/nathan/Transcend/Nathan/data/analysis_results/radial_analysis_output/follow/feb_2022/50.50.10/scr_apop_wt_div/GV0795_Pos7_1030_RFP_N_cells / /media/nathan/Transcend/Nathan/data/analysis_results/radial_analysis_output/follow/feb_2022/50.50.10/scr_apop_wt_div/GV0795_Pos7_1030_RFP_N_events saved out successfully',\n",
       "  '/media/nathan/Transcend/Nathan/data/analysis_results/radial_analysis_output/follow/feb_2022/50.50.10/scr_apop_wt_div/GV0795_Pos7_1029_RFP_N_cells / /media/nathan/Transcend/Nathan/data/analysis_results/radial_analysis_output/follow/feb_2022/50.50.10/scr_apop_wt_div/GV0795_Pos7_1029_RFP_N_events saved out successfully',\n",
       "  '/media/nathan/Transcend/Nathan/data/analysis_results/radial_analysis_output/follow/feb_2022/50.50.10/scr_apop_wt_div/GV0795_Pos7_823_RFP_N_cells / /media/nathan/Transcend/Nathan/data/analysis_results/radial_analysis_output/follow/feb_2022/50.50.10/scr_apop_wt_div/GV0795_Pos7_823_RFP_N_events saved out successfully',\n",
       "  '/media/nathan/Transcend/Nathan/data/analysis_results/radial_analysis_output/follow/feb_2022/50.50.10/scr_apop_wt_div/GV0795_Pos7_308_RFP_N_cells / /media/nathan/Transcend/Nathan/data/analysis_results/radial_analysis_output/follow/feb_2022/50.50.10/scr_apop_wt_div/GV0795_Pos7_308_RFP_N_events saved out successfully',\n",
       "  '/media/nathan/Transcend/Nathan/data/analysis_results/radial_analysis_output/follow/feb_2022/50.50.10/scr_apop_wt_div/GV0795_Pos7_488_RFP_N_cells / /media/nathan/Transcend/Nathan/data/analysis_results/radial_analysis_output/follow/feb_2022/50.50.10/scr_apop_wt_div/GV0795_Pos7_488_RFP_N_events saved out successfully',\n",
       "  '/media/nathan/Transcend/Nathan/data/analysis_results/radial_analysis_output/follow/feb_2022/50.50.10/scr_apop_wt_div/GV0795_Pos7_410_RFP_N_cells / /media/nathan/Transcend/Nathan/data/analysis_results/radial_analysis_output/follow/feb_2022/50.50.10/scr_apop_wt_div/GV0795_Pos7_410_RFP_N_events saved out successfully',\n",
       "  '/media/nathan/Transcend/Nathan/data/analysis_results/radial_analysis_output/follow/feb_2022/50.50.10/scr_apop_wt_div/GV0795_Pos7_416_RFP_N_cells / /media/nathan/Transcend/Nathan/data/analysis_results/radial_analysis_output/follow/feb_2022/50.50.10/scr_apop_wt_div/GV0795_Pos7_416_RFP_N_events saved out successfully',\n",
       "  '/media/nathan/Transcend/Nathan/data/analysis_results/radial_analysis_output/follow/feb_2022/50.50.10/scr_apop_wt_div/GV0795_Pos7_1119_RFP_N_cells / /media/nathan/Transcend/Nathan/data/analysis_results/radial_analysis_output/follow/feb_2022/50.50.10/scr_apop_wt_div/GV0795_Pos7_1119_RFP_N_events saved out successfully',\n",
       "  '/media/nathan/Transcend/Nathan/data/analysis_results/radial_analysis_output/follow/feb_2022/50.50.10/scr_apop_wt_div/GV0795_Pos7_468_RFP_N_cells / /media/nathan/Transcend/Nathan/data/analysis_results/radial_analysis_output/follow/feb_2022/50.50.10/scr_apop_wt_div/GV0795_Pos7_468_RFP_N_events saved out successfully',\n",
       "  '/media/nathan/Transcend/Nathan/data/analysis_results/radial_analysis_output/follow/feb_2022/50.50.10/scr_apop_wt_div/GV0796_Pos4_13_RFP_N_cells / /media/nathan/Transcend/Nathan/data/analysis_results/radial_analysis_output/follow/feb_2022/50.50.10/scr_apop_wt_div/GV0796_Pos4_13_RFP_N_events saved out successfully',\n",
       "  '/media/nathan/Transcend/Nathan/data/analysis_results/radial_analysis_output/follow/feb_2022/50.50.10/scr_apop_wt_div/GV0796_Pos4_33_RFP_N_cells / /media/nathan/Transcend/Nathan/data/analysis_results/radial_analysis_output/follow/feb_2022/50.50.10/scr_apop_wt_div/GV0796_Pos4_33_RFP_N_events saved out successfully',\n",
       "  '/media/nathan/Transcend/Nathan/data/analysis_results/radial_analysis_output/follow/feb_2022/50.50.10/scr_apop_wt_div/GV0796_Pos4_372_RFP_N_cells / /media/nathan/Transcend/Nathan/data/analysis_results/radial_analysis_output/follow/feb_2022/50.50.10/scr_apop_wt_div/GV0796_Pos4_372_RFP_N_events saved out successfully',\n",
       "  '/media/nathan/Transcend/Nathan/data/analysis_results/radial_analysis_output/follow/feb_2022/50.50.10/scr_apop_wt_div/GV0796_Pos4_377_RFP_N_cells / /media/nathan/Transcend/Nathan/data/analysis_results/radial_analysis_output/follow/feb_2022/50.50.10/scr_apop_wt_div/GV0796_Pos4_377_RFP_N_events saved out successfully',\n",
       "  '/media/nathan/Transcend/Nathan/data/analysis_results/radial_analysis_output/follow/feb_2022/50.50.10/scr_apop_wt_div/GV0796_Pos4_27_RFP_N_cells / /media/nathan/Transcend/Nathan/data/analysis_results/radial_analysis_output/follow/feb_2022/50.50.10/scr_apop_wt_div/GV0796_Pos4_27_RFP_N_events saved out successfully',\n",
       "  '/media/nathan/Transcend/Nathan/data/analysis_results/radial_analysis_output/follow/feb_2022/50.50.10/scr_apop_wt_div/GV0796_Pos4_214_RFP_N_cells / /media/nathan/Transcend/Nathan/data/analysis_results/radial_analysis_output/follow/feb_2022/50.50.10/scr_apop_wt_div/GV0796_Pos4_214_RFP_N_events saved out successfully',\n",
       "  '/media/nathan/Transcend/Nathan/data/analysis_results/radial_analysis_output/follow/feb_2022/50.50.10/scr_apop_wt_div/GV0796_Pos4_469_RFP_N_cells / /media/nathan/Transcend/Nathan/data/analysis_results/radial_analysis_output/follow/feb_2022/50.50.10/scr_apop_wt_div/GV0796_Pos4_469_RFP_N_events saved out successfully',\n",
       "  '/media/nathan/Transcend/Nathan/data/analysis_results/radial_analysis_output/follow/feb_2022/50.50.10/scr_apop_wt_div/GV0796_Pos4_468_RFP_N_cells / /media/nathan/Transcend/Nathan/data/analysis_results/radial_analysis_output/follow/feb_2022/50.50.10/scr_apop_wt_div/GV0796_Pos4_468_RFP_N_events saved out successfully',\n",
       "  '/media/nathan/Transcend/Nathan/data/analysis_results/radial_analysis_output/follow/feb_2022/50.50.10/scr_apop_wt_div/GV0796_Pos4_399_RFP_N_cells / /media/nathan/Transcend/Nathan/data/analysis_results/radial_analysis_output/follow/feb_2022/50.50.10/scr_apop_wt_div/GV0796_Pos4_399_RFP_N_events saved out successfully',\n",
       "  '/media/nathan/Transcend/Nathan/data/analysis_results/radial_analysis_output/follow/feb_2022/50.50.10/scr_apop_wt_div/GV0796_Pos4_400_RFP_N_cells / /media/nathan/Transcend/Nathan/data/analysis_results/radial_analysis_output/follow/feb_2022/50.50.10/scr_apop_wt_div/GV0796_Pos4_400_RFP_N_events saved out successfully',\n",
       "  '/media/nathan/Transcend/Nathan/data/analysis_results/radial_analysis_output/follow/feb_2022/50.50.10/scr_apop_wt_div/GV0796_Pos4_287_RFP_N_cells / /media/nathan/Transcend/Nathan/data/analysis_results/radial_analysis_output/follow/feb_2022/50.50.10/scr_apop_wt_div/GV0796_Pos4_287_RFP_N_events saved out successfully',\n",
       "  '/media/nathan/Transcend/Nathan/data/analysis_results/radial_analysis_output/follow/feb_2022/50.50.10/scr_apop_wt_div/GV0796_Pos4_285_RFP_N_cells / /media/nathan/Transcend/Nathan/data/analysis_results/radial_analysis_output/follow/feb_2022/50.50.10/scr_apop_wt_div/GV0796_Pos4_285_RFP_N_events saved out successfully',\n",
       "  '/media/nathan/Transcend/Nathan/data/analysis_results/radial_analysis_output/follow/feb_2022/50.50.10/scr_apop_wt_div/GV0796_Pos4_522_RFP_N_cells / /media/nathan/Transcend/Nathan/data/analysis_results/radial_analysis_output/follow/feb_2022/50.50.10/scr_apop_wt_div/GV0796_Pos4_522_RFP_N_events saved out successfully',\n",
       "  '/media/nathan/Transcend/Nathan/data/analysis_results/radial_analysis_output/follow/feb_2022/50.50.10/scr_apop_wt_div/GV0796_Pos4_687_RFP_N_cells / /media/nathan/Transcend/Nathan/data/analysis_results/radial_analysis_output/follow/feb_2022/50.50.10/scr_apop_wt_div/GV0796_Pos4_687_RFP_N_events saved out successfully',\n",
       "  '/media/nathan/Transcend/Nathan/data/analysis_results/radial_analysis_output/follow/feb_2022/50.50.10/scr_apop_wt_div/GV0796_Pos4_322_RFP_N_cells / /media/nathan/Transcend/Nathan/data/analysis_results/radial_analysis_output/follow/feb_2022/50.50.10/scr_apop_wt_div/GV0796_Pos4_322_RFP_N_events saved out successfully',\n",
       "  '/media/nathan/Transcend/Nathan/data/analysis_results/radial_analysis_output/follow/feb_2022/50.50.10/scr_apop_wt_div/GV0796_Pos4_623_RFP_N_cells / /media/nathan/Transcend/Nathan/data/analysis_results/radial_analysis_output/follow/feb_2022/50.50.10/scr_apop_wt_div/GV0796_Pos4_623_RFP_N_events saved out successfully',\n",
       "  '/media/nathan/Transcend/Nathan/data/analysis_results/radial_analysis_output/follow/feb_2022/50.50.10/scr_apop_wt_div/GV0796_Pos4_328_RFP_N_cells / /media/nathan/Transcend/Nathan/data/analysis_results/radial_analysis_output/follow/feb_2022/50.50.10/scr_apop_wt_div/GV0796_Pos4_328_RFP_N_events saved out successfully',\n",
       "  '/media/nathan/Transcend/Nathan/data/analysis_results/radial_analysis_output/follow/feb_2022/50.50.10/scr_apop_wt_div/GV0796_Pos4_321_RFP_N_cells / /media/nathan/Transcend/Nathan/data/analysis_results/radial_analysis_output/follow/feb_2022/50.50.10/scr_apop_wt_div/GV0796_Pos4_321_RFP_N_events saved out successfully',\n",
       "  '/media/nathan/Transcend/Nathan/data/analysis_results/radial_analysis_output/follow/feb_2022/50.50.10/scr_apop_wt_div/GV0796_Pos4_7_RFP_N_cells / /media/nathan/Transcend/Nathan/data/analysis_results/radial_analysis_output/follow/feb_2022/50.50.10/scr_apop_wt_div/GV0796_Pos4_7_RFP_N_events saved out successfully',\n",
       "  '/media/nathan/Transcend/Nathan/data/analysis_results/radial_analysis_output/follow/feb_2022/50.50.10/scr_apop_wt_div/GV0796_Pos4_78_RFP_N_cells / /media/nathan/Transcend/Nathan/data/analysis_results/radial_analysis_output/follow/feb_2022/50.50.10/scr_apop_wt_div/GV0796_Pos4_78_RFP_N_events saved out successfully',\n",
       "  '/media/nathan/Transcend/Nathan/data/analysis_results/radial_analysis_output/follow/feb_2022/50.50.10/scr_apop_wt_div/GV0796_Pos4_28_RFP_N_cells / /media/nathan/Transcend/Nathan/data/analysis_results/radial_analysis_output/follow/feb_2022/50.50.10/scr_apop_wt_div/GV0796_Pos4_28_RFP_N_events saved out successfully',\n",
       "  '/media/nathan/Transcend/Nathan/data/analysis_results/radial_analysis_output/follow/feb_2022/50.50.10/scr_apop_wt_div/GV0796_Pos4_329_RFP_N_cells / /media/nathan/Transcend/Nathan/data/analysis_results/radial_analysis_output/follow/feb_2022/50.50.10/scr_apop_wt_div/GV0796_Pos4_329_RFP_N_events saved out successfully',\n",
       "  '/media/nathan/Transcend/Nathan/data/analysis_results/radial_analysis_output/follow/feb_2022/50.50.10/scr_apop_wt_div/GV0796_Pos4_2_RFP_N_cells / /media/nathan/Transcend/Nathan/data/analysis_results/radial_analysis_output/follow/feb_2022/50.50.10/scr_apop_wt_div/GV0796_Pos4_2_RFP_N_events saved out successfully',\n",
       "  '/media/nathan/Transcend/Nathan/data/analysis_results/radial_analysis_output/follow/feb_2022/50.50.10/scr_apop_wt_div/GV0796_Pos4_801_RFP_N_cells / /media/nathan/Transcend/Nathan/data/analysis_results/radial_analysis_output/follow/feb_2022/50.50.10/scr_apop_wt_div/GV0796_Pos4_801_RFP_N_events saved out successfully',\n",
       "  '/media/nathan/Transcend/Nathan/data/analysis_results/radial_analysis_output/follow/feb_2022/50.50.10/scr_apop_wt_div/GV0796_Pos4_757_RFP_N_cells / /media/nathan/Transcend/Nathan/data/analysis_results/radial_analysis_output/follow/feb_2022/50.50.10/scr_apop_wt_div/GV0796_Pos4_757_RFP_N_events saved out successfully',\n",
       "  '/media/nathan/Transcend/Nathan/data/analysis_results/radial_analysis_output/follow/feb_2022/50.50.10/scr_apop_wt_div/GV0796_Pos4_967_RFP_N_cells / /media/nathan/Transcend/Nathan/data/analysis_results/radial_analysis_output/follow/feb_2022/50.50.10/scr_apop_wt_div/GV0796_Pos4_967_RFP_N_events saved out successfully',\n",
       "  '/media/nathan/Transcend/Nathan/data/analysis_results/radial_analysis_output/follow/feb_2022/50.50.10/scr_apop_wt_div/GV0796_Pos4_912_RFP_N_cells / /media/nathan/Transcend/Nathan/data/analysis_results/radial_analysis_output/follow/feb_2022/50.50.10/scr_apop_wt_div/GV0796_Pos4_912_RFP_N_events saved out successfully',\n",
       "  '/media/nathan/Transcend/Nathan/data/analysis_results/radial_analysis_output/follow/feb_2022/50.50.10/scr_apop_wt_div/GV0796_Pos4_391_RFP_N_cells / /media/nathan/Transcend/Nathan/data/analysis_results/radial_analysis_output/follow/feb_2022/50.50.10/scr_apop_wt_div/GV0796_Pos4_391_RFP_N_events saved out successfully',\n",
       "  '/media/nathan/Transcend/Nathan/data/analysis_results/radial_analysis_output/follow/feb_2022/50.50.10/scr_apop_wt_div/GV0796_Pos4_450_RFP_N_cells / /media/nathan/Transcend/Nathan/data/analysis_results/radial_analysis_output/follow/feb_2022/50.50.10/scr_apop_wt_div/GV0796_Pos4_450_RFP_N_events saved out successfully',\n",
       "  '/media/nathan/Transcend/Nathan/data/analysis_results/radial_analysis_output/follow/feb_2022/50.50.10/scr_apop_wt_div/GV0796_Pos4_250_RFP_N_cells / /media/nathan/Transcend/Nathan/data/analysis_results/radial_analysis_output/follow/feb_2022/50.50.10/scr_apop_wt_div/GV0796_Pos4_250_RFP_N_events saved out successfully',\n",
       "  '/media/nathan/Transcend/Nathan/data/analysis_results/radial_analysis_output/follow/feb_2022/50.50.10/scr_apop_wt_div/GV0796_Pos4_855_RFP_N_cells / /media/nathan/Transcend/Nathan/data/analysis_results/radial_analysis_output/follow/feb_2022/50.50.10/scr_apop_wt_div/GV0796_Pos4_855_RFP_N_events saved out successfully',\n",
       "  '/media/nathan/Transcend/Nathan/data/analysis_results/radial_analysis_output/follow/feb_2022/50.50.10/scr_apop_wt_div/GV0796_Pos7_39_RFP_N_cells / /media/nathan/Transcend/Nathan/data/analysis_results/radial_analysis_output/follow/feb_2022/50.50.10/scr_apop_wt_div/GV0796_Pos7_39_RFP_N_events saved out successfully',\n",
       "  '/media/nathan/Transcend/Nathan/data/analysis_results/radial_analysis_output/follow/feb_2022/50.50.10/scr_apop_wt_div/GV0796_Pos7_40_RFP_N_cells / /media/nathan/Transcend/Nathan/data/analysis_results/radial_analysis_output/follow/feb_2022/50.50.10/scr_apop_wt_div/GV0796_Pos7_40_RFP_N_events saved out successfully',\n",
       "  '/media/nathan/Transcend/Nathan/data/analysis_results/radial_analysis_output/follow/feb_2022/50.50.10/scr_apop_wt_div/GV0796_Pos7_48_RFP_N_cells / /media/nathan/Transcend/Nathan/data/analysis_results/radial_analysis_output/follow/feb_2022/50.50.10/scr_apop_wt_div/GV0796_Pos7_48_RFP_N_events saved out successfully',\n",
       "  '/media/nathan/Transcend/Nathan/data/analysis_results/radial_analysis_output/follow/feb_2022/50.50.10/scr_apop_wt_div/GV0796_Pos7_72_RFP_N_cells / /media/nathan/Transcend/Nathan/data/analysis_results/radial_analysis_output/follow/feb_2022/50.50.10/scr_apop_wt_div/GV0796_Pos7_72_RFP_N_events saved out successfully',\n",
       "  '/media/nathan/Transcend/Nathan/data/analysis_results/radial_analysis_output/follow/feb_2022/50.50.10/scr_apop_wt_div/GV0796_Pos7_6_RFP_N_cells / /media/nathan/Transcend/Nathan/data/analysis_results/radial_analysis_output/follow/feb_2022/50.50.10/scr_apop_wt_div/GV0796_Pos7_6_RFP_N_events saved out successfully',\n",
       "  '/media/nathan/Transcend/Nathan/data/analysis_results/radial_analysis_output/follow/feb_2022/50.50.10/scr_apop_wt_div/GV0796_Pos7_5_RFP_N_cells / /media/nathan/Transcend/Nathan/data/analysis_results/radial_analysis_output/follow/feb_2022/50.50.10/scr_apop_wt_div/GV0796_Pos7_5_RFP_N_events saved out successfully',\n",
       "  '/media/nathan/Transcend/Nathan/data/analysis_results/radial_analysis_output/follow/feb_2022/50.50.10/scr_apop_wt_div/GV0796_Pos7_85_RFP_N_cells / /media/nathan/Transcend/Nathan/data/analysis_results/radial_analysis_output/follow/feb_2022/50.50.10/scr_apop_wt_div/GV0796_Pos7_85_RFP_N_events saved out successfully',\n",
       "  '/media/nathan/Transcend/Nathan/data/analysis_results/radial_analysis_output/follow/feb_2022/50.50.10/scr_apop_wt_div/GV0796_Pos7_443_RFP_N_cells / /media/nathan/Transcend/Nathan/data/analysis_results/radial_analysis_output/follow/feb_2022/50.50.10/scr_apop_wt_div/GV0796_Pos7_443_RFP_N_events saved out successfully',\n",
       "  '/media/nathan/Transcend/Nathan/data/analysis_results/radial_analysis_output/follow/feb_2022/50.50.10/scr_apop_wt_div/GV0796_Pos7_41_RFP_N_cells / /media/nathan/Transcend/Nathan/data/analysis_results/radial_analysis_output/follow/feb_2022/50.50.10/scr_apop_wt_div/GV0796_Pos7_41_RFP_N_events saved out successfully',\n",
       "  '/media/nathan/Transcend/Nathan/data/analysis_results/radial_analysis_output/follow/feb_2022/50.50.10/scr_apop_wt_div/GV0796_Pos7_412_RFP_N_cells / /media/nathan/Transcend/Nathan/data/analysis_results/radial_analysis_output/follow/feb_2022/50.50.10/scr_apop_wt_div/GV0796_Pos7_412_RFP_N_events saved out successfully',\n",
       "  '/media/nathan/Transcend/Nathan/data/analysis_results/radial_analysis_output/follow/feb_2022/50.50.10/scr_apop_wt_div/GV0796_Pos7_413_RFP_N_cells / /media/nathan/Transcend/Nathan/data/analysis_results/radial_analysis_output/follow/feb_2022/50.50.10/scr_apop_wt_div/GV0796_Pos7_413_RFP_N_events saved out successfully',\n",
       "  '/media/nathan/Transcend/Nathan/data/analysis_results/radial_analysis_output/follow/feb_2022/50.50.10/scr_apop_wt_div/GV0796_Pos7_446_RFP_N_cells / /media/nathan/Transcend/Nathan/data/analysis_results/radial_analysis_output/follow/feb_2022/50.50.10/scr_apop_wt_div/GV0796_Pos7_446_RFP_N_events saved out successfully',\n",
       "  '/media/nathan/Transcend/Nathan/data/analysis_results/radial_analysis_output/follow/feb_2022/50.50.10/scr_apop_wt_div/GV0796_Pos7_385_RFP_N_cells / /media/nathan/Transcend/Nathan/data/analysis_results/radial_analysis_output/follow/feb_2022/50.50.10/scr_apop_wt_div/GV0796_Pos7_385_RFP_N_events saved out successfully',\n",
       "  '/media/nathan/Transcend/Nathan/data/analysis_results/radial_analysis_output/follow/feb_2022/50.50.10/scr_apop_wt_div/GV0796_Pos7_3_RFP_N_cells / /media/nathan/Transcend/Nathan/data/analysis_results/radial_analysis_output/follow/feb_2022/50.50.10/scr_apop_wt_div/GV0796_Pos7_3_RFP_N_events saved out successfully',\n",
       "  '/media/nathan/Transcend/Nathan/data/analysis_results/radial_analysis_output/follow/feb_2022/50.50.10/scr_apop_wt_div/GV0796_Pos7_327_RFP_N_cells / /media/nathan/Transcend/Nathan/data/analysis_results/radial_analysis_output/follow/feb_2022/50.50.10/scr_apop_wt_div/GV0796_Pos7_327_RFP_N_events saved out successfully',\n",
       "  '/media/nathan/Transcend/Nathan/data/analysis_results/radial_analysis_output/follow/feb_2022/50.50.10/scr_apop_wt_div/GV0796_Pos7_618_RFP_N_cells / /media/nathan/Transcend/Nathan/data/analysis_results/radial_analysis_output/follow/feb_2022/50.50.10/scr_apop_wt_div/GV0796_Pos7_618_RFP_N_events saved out successfully',\n",
       "  '/media/nathan/Transcend/Nathan/data/analysis_results/radial_analysis_output/follow/feb_2022/50.50.10/scr_apop_wt_div/GV0796_Pos7_153_RFP_N_cells / /media/nathan/Transcend/Nathan/data/analysis_results/radial_analysis_output/follow/feb_2022/50.50.10/scr_apop_wt_div/GV0796_Pos7_153_RFP_N_events saved out successfully',\n",
       "  '/media/nathan/Transcend/Nathan/data/analysis_results/radial_analysis_output/follow/feb_2022/50.50.10/scr_apop_wt_div/GV0796_Pos7_506_RFP_N_cells / /media/nathan/Transcend/Nathan/data/analysis_results/radial_analysis_output/follow/feb_2022/50.50.10/scr_apop_wt_div/GV0796_Pos7_506_RFP_N_events saved out successfully',\n",
       "  '/media/nathan/Transcend/Nathan/data/analysis_results/radial_analysis_output/follow/feb_2022/50.50.10/scr_apop_wt_div/GV0796_Pos7_395_RFP_N_cells / /media/nathan/Transcend/Nathan/data/analysis_results/radial_analysis_output/follow/feb_2022/50.50.10/scr_apop_wt_div/GV0796_Pos7_395_RFP_N_events saved out successfully',\n",
       "  '/media/nathan/Transcend/Nathan/data/analysis_results/radial_analysis_output/follow/feb_2022/50.50.10/scr_apop_wt_div/GV0796_Pos7_399_RFP_N_cells / /media/nathan/Transcend/Nathan/data/analysis_results/radial_analysis_output/follow/feb_2022/50.50.10/scr_apop_wt_div/GV0796_Pos7_399_RFP_N_events saved out successfully',\n",
       "  '/media/nathan/Transcend/Nathan/data/analysis_results/radial_analysis_output/follow/feb_2022/50.50.10/scr_apop_wt_div/GV0796_Pos7_695_RFP_N_cells / /media/nathan/Transcend/Nathan/data/analysis_results/radial_analysis_output/follow/feb_2022/50.50.10/scr_apop_wt_div/GV0796_Pos7_695_RFP_N_events saved out successfully',\n",
       "  '/media/nathan/Transcend/Nathan/data/analysis_results/radial_analysis_output/follow/feb_2022/50.50.10/scr_apop_wt_div/GV0796_Pos7_394_RFP_N_cells / /media/nathan/Transcend/Nathan/data/analysis_results/radial_analysis_output/follow/feb_2022/50.50.10/scr_apop_wt_div/GV0796_Pos7_394_RFP_N_events saved out successfully',\n",
       "  '/media/nathan/Transcend/Nathan/data/analysis_results/radial_analysis_output/follow/feb_2022/50.50.10/scr_apop_wt_div/GV0796_Pos7_445_RFP_N_cells / /media/nathan/Transcend/Nathan/data/analysis_results/radial_analysis_output/follow/feb_2022/50.50.10/scr_apop_wt_div/GV0796_Pos7_445_RFP_N_events saved out successfully',\n",
       "  '/media/nathan/Transcend/Nathan/data/analysis_results/radial_analysis_output/follow/feb_2022/50.50.10/scr_apop_wt_div/GV0796_Pos7_460_RFP_N_cells / /media/nathan/Transcend/Nathan/data/analysis_results/radial_analysis_output/follow/feb_2022/50.50.10/scr_apop_wt_div/GV0796_Pos7_460_RFP_N_events saved out successfully',\n",
       "  '/media/nathan/Transcend/Nathan/data/analysis_results/radial_analysis_output/follow/feb_2022/50.50.10/scr_apop_wt_div/GV0796_Pos7_403_RFP_N_cells / /media/nathan/Transcend/Nathan/data/analysis_results/radial_analysis_output/follow/feb_2022/50.50.10/scr_apop_wt_div/GV0796_Pos7_403_RFP_N_events saved out successfully',\n",
       "  '/media/nathan/Transcend/Nathan/data/analysis_results/radial_analysis_output/follow/feb_2022/50.50.10/scr_apop_wt_div/GV0796_Pos7_609_RFP_N_cells / /media/nathan/Transcend/Nathan/data/analysis_results/radial_analysis_output/follow/feb_2022/50.50.10/scr_apop_wt_div/GV0796_Pos7_609_RFP_N_events saved out successfully',\n",
       "  '/media/nathan/Transcend/Nathan/data/analysis_results/radial_analysis_output/follow/feb_2022/50.50.10/scr_apop_wt_div/GV0797_Pos4_12_RFP_N_cells / /media/nathan/Transcend/Nathan/data/analysis_results/radial_analysis_output/follow/feb_2022/50.50.10/scr_apop_wt_div/GV0797_Pos4_12_RFP_N_events saved out successfully',\n",
       "  '/media/nathan/Transcend/Nathan/data/analysis_results/radial_analysis_output/follow/feb_2022/50.50.10/scr_apop_wt_div/GV0797_Pos4_18_RFP_N_cells / /media/nathan/Transcend/Nathan/data/analysis_results/radial_analysis_output/follow/feb_2022/50.50.10/scr_apop_wt_div/GV0797_Pos4_18_RFP_N_events saved out successfully',\n",
       "  '/media/nathan/Transcend/Nathan/data/analysis_results/radial_analysis_output/follow/feb_2022/50.50.10/scr_apop_wt_div/GV0797_Pos4_7_RFP_N_cells / /media/nathan/Transcend/Nathan/data/analysis_results/radial_analysis_output/follow/feb_2022/50.50.10/scr_apop_wt_div/GV0797_Pos4_7_RFP_N_events saved out successfully',\n",
       "  '/media/nathan/Transcend/Nathan/data/analysis_results/radial_analysis_output/follow/feb_2022/50.50.10/scr_apop_wt_div/GV0797_Pos4_24_RFP_N_cells / /media/nathan/Transcend/Nathan/data/analysis_results/radial_analysis_output/follow/feb_2022/50.50.10/scr_apop_wt_div/GV0797_Pos4_24_RFP_N_events saved out successfully',\n",
       "  '/media/nathan/Transcend/Nathan/data/analysis_results/radial_analysis_output/follow/feb_2022/50.50.10/scr_apop_wt_div/GV0797_Pos4_240_RFP_N_cells / /media/nathan/Transcend/Nathan/data/analysis_results/radial_analysis_output/follow/feb_2022/50.50.10/scr_apop_wt_div/GV0797_Pos4_240_RFP_N_events saved out successfully',\n",
       "  '/media/nathan/Transcend/Nathan/data/analysis_results/radial_analysis_output/follow/feb_2022/50.50.10/scr_apop_wt_div/GV0797_Pos4_23_RFP_N_cells / /media/nathan/Transcend/Nathan/data/analysis_results/radial_analysis_output/follow/feb_2022/50.50.10/scr_apop_wt_div/GV0797_Pos4_23_RFP_N_events saved out successfully',\n",
       "  '/media/nathan/Transcend/Nathan/data/analysis_results/radial_analysis_output/follow/feb_2022/50.50.10/scr_apop_wt_div/GV0797_Pos4_96_RFP_N_cells / /media/nathan/Transcend/Nathan/data/analysis_results/radial_analysis_output/follow/feb_2022/50.50.10/scr_apop_wt_div/GV0797_Pos4_96_RFP_N_events saved out successfully',\n",
       "  '/media/nathan/Transcend/Nathan/data/analysis_results/radial_analysis_output/follow/feb_2022/50.50.10/scr_apop_wt_div/GV0797_Pos4_95_RFP_N_cells / /media/nathan/Transcend/Nathan/data/analysis_results/radial_analysis_output/follow/feb_2022/50.50.10/scr_apop_wt_div/GV0797_Pos4_95_RFP_N_events saved out successfully',\n",
       "  '/media/nathan/Transcend/Nathan/data/analysis_results/radial_analysis_output/follow/feb_2022/50.50.10/scr_apop_wt_div/GV0797_Pos4_223_RFP_N_cells / /media/nathan/Transcend/Nathan/data/analysis_results/radial_analysis_output/follow/feb_2022/50.50.10/scr_apop_wt_div/GV0797_Pos4_223_RFP_N_events saved out successfully',\n",
       "  '/media/nathan/Transcend/Nathan/data/analysis_results/radial_analysis_output/follow/feb_2022/50.50.10/scr_apop_wt_div/GV0797_Pos4_224_RFP_N_cells / /media/nathan/Transcend/Nathan/data/analysis_results/radial_analysis_output/follow/feb_2022/50.50.10/scr_apop_wt_div/GV0797_Pos4_224_RFP_N_events saved out successfully',\n",
       "  '/media/nathan/Transcend/Nathan/data/analysis_results/radial_analysis_output/follow/feb_2022/50.50.10/scr_apop_wt_div/GV0797_Pos4_164_RFP_N_cells / /media/nathan/Transcend/Nathan/data/analysis_results/radial_analysis_output/follow/feb_2022/50.50.10/scr_apop_wt_div/GV0797_Pos4_164_RFP_N_events saved out successfully',\n",
       "  '/media/nathan/Transcend/Nathan/data/analysis_results/radial_analysis_output/follow/feb_2022/50.50.10/scr_apop_wt_div/GV0797_Pos4_6_RFP_N_cells / /media/nathan/Transcend/Nathan/data/analysis_results/radial_analysis_output/follow/feb_2022/50.50.10/scr_apop_wt_div/GV0797_Pos4_6_RFP_N_events saved out successfully',\n",
       "  '/media/nathan/Transcend/Nathan/data/analysis_results/radial_analysis_output/follow/feb_2022/50.50.10/scr_apop_wt_div/GV0797_Pos4_3_RFP_N_cells / /media/nathan/Transcend/Nathan/data/analysis_results/radial_analysis_output/follow/feb_2022/50.50.10/scr_apop_wt_div/GV0797_Pos4_3_RFP_N_events saved out successfully',\n",
       "  '/media/nathan/Transcend/Nathan/data/analysis_results/radial_analysis_output/follow/feb_2022/50.50.10/scr_apop_wt_div/GV0797_Pos4_36_RFP_N_cells / /media/nathan/Transcend/Nathan/data/analysis_results/radial_analysis_output/follow/feb_2022/50.50.10/scr_apop_wt_div/GV0797_Pos4_36_RFP_N_events saved out successfully',\n",
       "  '/media/nathan/Transcend/Nathan/data/analysis_results/radial_analysis_output/follow/feb_2022/50.50.10/scr_apop_wt_div/GV0797_Pos4_185_RFP_N_cells / /media/nathan/Transcend/Nathan/data/analysis_results/radial_analysis_output/follow/feb_2022/50.50.10/scr_apop_wt_div/GV0797_Pos4_185_RFP_N_events saved out successfully',\n",
       "  '/media/nathan/Transcend/Nathan/data/analysis_results/radial_analysis_output/follow/feb_2022/50.50.10/scr_apop_wt_div/GV0797_Pos4_183_RFP_N_cells / /media/nathan/Transcend/Nathan/data/analysis_results/radial_analysis_output/follow/feb_2022/50.50.10/scr_apop_wt_div/GV0797_Pos4_183_RFP_N_events saved out successfully',\n",
       "  '/media/nathan/Transcend/Nathan/data/analysis_results/radial_analysis_output/follow/feb_2022/50.50.10/scr_apop_wt_div/GV0797_Pos4_64_RFP_N_cells / /media/nathan/Transcend/Nathan/data/analysis_results/radial_analysis_output/follow/feb_2022/50.50.10/scr_apop_wt_div/GV0797_Pos4_64_RFP_N_events saved out successfully',\n",
       "  '/media/nathan/Transcend/Nathan/data/analysis_results/radial_analysis_output/follow/feb_2022/50.50.10/scr_apop_wt_div/GV0797_Pos4_46_RFP_N_cells / /media/nathan/Transcend/Nathan/data/analysis_results/radial_analysis_output/follow/feb_2022/50.50.10/scr_apop_wt_div/GV0797_Pos4_46_RFP_N_events saved out successfully',\n",
       "  '/media/nathan/Transcend/Nathan/data/analysis_results/radial_analysis_output/follow/feb_2022/50.50.10/scr_apop_wt_div/GV0797_Pos4_41_RFP_N_cells / /media/nathan/Transcend/Nathan/data/analysis_results/radial_analysis_output/follow/feb_2022/50.50.10/scr_apop_wt_div/GV0797_Pos4_41_RFP_N_events saved out successfully',\n",
       "  '/media/nathan/Transcend/Nathan/data/analysis_results/radial_analysis_output/follow/feb_2022/50.50.10/scr_apop_wt_div/GV0797_Pos4_157_RFP_N_cells / /media/nathan/Transcend/Nathan/data/analysis_results/radial_analysis_output/follow/feb_2022/50.50.10/scr_apop_wt_div/GV0797_Pos4_157_RFP_N_events saved out successfully',\n",
       "  '/media/nathan/Transcend/Nathan/data/analysis_results/radial_analysis_output/follow/feb_2022/50.50.10/scr_apop_wt_div/GV0797_Pos4_63_RFP_N_cells / /media/nathan/Transcend/Nathan/data/analysis_results/radial_analysis_output/follow/feb_2022/50.50.10/scr_apop_wt_div/GV0797_Pos4_63_RFP_N_events saved out successfully',\n",
       "  '/media/nathan/Transcend/Nathan/data/analysis_results/radial_analysis_output/follow/feb_2022/50.50.10/scr_apop_wt_div/GV0797_Pos4_55_RFP_N_cells / /media/nathan/Transcend/Nathan/data/analysis_results/radial_analysis_output/follow/feb_2022/50.50.10/scr_apop_wt_div/GV0797_Pos4_55_RFP_N_events saved out successfully',\n",
       "  '/media/nathan/Transcend/Nathan/data/analysis_results/radial_analysis_output/follow/feb_2022/50.50.10/scr_apop_wt_div/GV0797_Pos4_26_RFP_N_cells / /media/nathan/Transcend/Nathan/data/analysis_results/radial_analysis_output/follow/feb_2022/50.50.10/scr_apop_wt_div/GV0797_Pos4_26_RFP_N_events saved out successfully',\n",
       "  '/media/nathan/Transcend/Nathan/data/analysis_results/radial_analysis_output/follow/feb_2022/50.50.10/scr_apop_wt_div/GV0797_Pos4_27_RFP_N_cells / /media/nathan/Transcend/Nathan/data/analysis_results/radial_analysis_output/follow/feb_2022/50.50.10/scr_apop_wt_div/GV0797_Pos4_27_RFP_N_events saved out successfully',\n",
       "  '/media/nathan/Transcend/Nathan/data/analysis_results/radial_analysis_output/follow/feb_2022/50.50.10/scr_apop_wt_div/GV0797_Pos4_15_RFP_N_cells / /media/nathan/Transcend/Nathan/data/analysis_results/radial_analysis_output/follow/feb_2022/50.50.10/scr_apop_wt_div/GV0797_Pos4_15_RFP_N_events saved out successfully',\n",
       "  '/media/nathan/Transcend/Nathan/data/analysis_results/radial_analysis_output/follow/feb_2022/50.50.10/scr_apop_wt_div/GV0797_Pos4_144_RFP_N_cells / /media/nathan/Transcend/Nathan/data/analysis_results/radial_analysis_output/follow/feb_2022/50.50.10/scr_apop_wt_div/GV0797_Pos4_144_RFP_N_events saved out successfully',\n",
       "  '/media/nathan/Transcend/Nathan/data/analysis_results/radial_analysis_output/follow/feb_2022/50.50.10/scr_apop_wt_div/GV0797_Pos4_11_RFP_N_cells / /media/nathan/Transcend/Nathan/data/analysis_results/radial_analysis_output/follow/feb_2022/50.50.10/scr_apop_wt_div/GV0797_Pos4_11_RFP_N_events saved out successfully',\n",
       "  '/media/nathan/Transcend/Nathan/data/analysis_results/radial_analysis_output/follow/feb_2022/50.50.10/scr_apop_wt_div/GV0797_Pos4_142_RFP_N_cells / /media/nathan/Transcend/Nathan/data/analysis_results/radial_analysis_output/follow/feb_2022/50.50.10/scr_apop_wt_div/GV0797_Pos4_142_RFP_N_events saved out successfully',\n",
       "  '/media/nathan/Transcend/Nathan/data/analysis_results/radial_analysis_output/follow/feb_2022/50.50.10/scr_apop_wt_div/GV0797_Pos4_58_RFP_N_cells / /media/nathan/Transcend/Nathan/data/analysis_results/radial_analysis_output/follow/feb_2022/50.50.10/scr_apop_wt_div/GV0797_Pos4_58_RFP_N_events saved out successfully',\n",
       "  '/media/nathan/Transcend/Nathan/data/analysis_results/radial_analysis_output/follow/feb_2022/50.50.10/scr_apop_wt_div/GV0797_Pos4_751_RFP_N_cells / /media/nathan/Transcend/Nathan/data/analysis_results/radial_analysis_output/follow/feb_2022/50.50.10/scr_apop_wt_div/GV0797_Pos4_751_RFP_N_events saved out successfully',\n",
       "  '/media/nathan/Transcend/Nathan/data/analysis_results/radial_analysis_output/follow/feb_2022/50.50.10/scr_apop_wt_div/GV0797_Pos4_37_RFP_N_cells / /media/nathan/Transcend/Nathan/data/analysis_results/radial_analysis_output/follow/feb_2022/50.50.10/scr_apop_wt_div/GV0797_Pos4_37_RFP_N_events saved out successfully',\n",
       "  '/media/nathan/Transcend/Nathan/data/analysis_results/radial_analysis_output/follow/feb_2022/50.50.10/scr_apop_wt_div/GV0797_Pos4_750_RFP_N_cells / /media/nathan/Transcend/Nathan/data/analysis_results/radial_analysis_output/follow/feb_2022/50.50.10/scr_apop_wt_div/GV0797_Pos4_750_RFP_N_events saved out successfully',\n",
       "  '/media/nathan/Transcend/Nathan/data/analysis_results/radial_analysis_output/follow/feb_2022/50.50.10/scr_apop_wt_div/GV0797_Pos4_892_RFP_N_cells / /media/nathan/Transcend/Nathan/data/analysis_results/radial_analysis_output/follow/feb_2022/50.50.10/scr_apop_wt_div/GV0797_Pos4_892_RFP_N_events saved out successfully',\n",
       "  '/media/nathan/Transcend/Nathan/data/analysis_results/radial_analysis_output/follow/feb_2022/50.50.10/scr_apop_wt_div/GV0797_Pos4_948_RFP_N_cells / /media/nathan/Transcend/Nathan/data/analysis_results/radial_analysis_output/follow/feb_2022/50.50.10/scr_apop_wt_div/GV0797_Pos4_948_RFP_N_events saved out successfully',\n",
       "  '/media/nathan/Transcend/Nathan/data/analysis_results/radial_analysis_output/follow/feb_2022/50.50.10/scr_apop_wt_div/GV0797_Pos4_34_RFP_N_cells / /media/nathan/Transcend/Nathan/data/analysis_results/radial_analysis_output/follow/feb_2022/50.50.10/scr_apop_wt_div/GV0797_Pos4_34_RFP_N_events saved out successfully',\n",
       "  '/media/nathan/Transcend/Nathan/data/analysis_results/radial_analysis_output/follow/feb_2022/50.50.10/scr_apop_wt_div/GV0797_Pos4_28_RFP_N_cells / /media/nathan/Transcend/Nathan/data/analysis_results/radial_analysis_output/follow/feb_2022/50.50.10/scr_apop_wt_div/GV0797_Pos4_28_RFP_N_events saved out successfully',\n",
       "  '/media/nathan/Transcend/Nathan/data/analysis_results/radial_analysis_output/follow/feb_2022/50.50.10/scr_apop_wt_div/GV0797_Pos4_917_RFP_N_cells / /media/nathan/Transcend/Nathan/data/analysis_results/radial_analysis_output/follow/feb_2022/50.50.10/scr_apop_wt_div/GV0797_Pos4_917_RFP_N_events saved out successfully',\n",
       "  '/media/nathan/Transcend/Nathan/data/analysis_results/radial_analysis_output/follow/feb_2022/50.50.10/scr_apop_wt_div/GV0797_Pos4_545_RFP_N_cells / /media/nathan/Transcend/Nathan/data/analysis_results/radial_analysis_output/follow/feb_2022/50.50.10/scr_apop_wt_div/GV0797_Pos4_545_RFP_N_events saved out successfully',\n",
       "  '/media/nathan/Transcend/Nathan/data/analysis_results/radial_analysis_output/follow/feb_2022/50.50.10/scr_apop_wt_div/GV0797_Pos7_14_RFP_N_cells / /media/nathan/Transcend/Nathan/data/analysis_results/radial_analysis_output/follow/feb_2022/50.50.10/scr_apop_wt_div/GV0797_Pos7_14_RFP_N_events saved out successfully',\n",
       "  '/media/nathan/Transcend/Nathan/data/analysis_results/radial_analysis_output/follow/feb_2022/50.50.10/scr_apop_wt_div/GV0797_Pos7_45_RFP_N_cells / /media/nathan/Transcend/Nathan/data/analysis_results/radial_analysis_output/follow/feb_2022/50.50.10/scr_apop_wt_div/GV0797_Pos7_45_RFP_N_events saved out successfully',\n",
       "  '/media/nathan/Transcend/Nathan/data/analysis_results/radial_analysis_output/follow/feb_2022/50.50.10/scr_apop_wt_div/GV0797_Pos7_5_RFP_N_cells / /media/nathan/Transcend/Nathan/data/analysis_results/radial_analysis_output/follow/feb_2022/50.50.10/scr_apop_wt_div/GV0797_Pos7_5_RFP_N_events saved out successfully',\n",
       "  '/media/nathan/Transcend/Nathan/data/analysis_results/radial_analysis_output/follow/feb_2022/50.50.10/scr_apop_wt_div/GV0797_Pos7_146_RFP_N_cells / /media/nathan/Transcend/Nathan/data/analysis_results/radial_analysis_output/follow/feb_2022/50.50.10/scr_apop_wt_div/GV0797_Pos7_146_RFP_N_events saved out successfully',\n",
       "  '/media/nathan/Transcend/Nathan/data/analysis_results/radial_analysis_output/follow/feb_2022/50.50.10/scr_apop_wt_div/GV0797_Pos7_145_RFP_N_cells / /media/nathan/Transcend/Nathan/data/analysis_results/radial_analysis_output/follow/feb_2022/50.50.10/scr_apop_wt_div/GV0797_Pos7_145_RFP_N_events saved out successfully',\n",
       "  '/media/nathan/Transcend/Nathan/data/analysis_results/radial_analysis_output/follow/feb_2022/50.50.10/scr_apop_wt_div/GV0797_Pos7_30_RFP_N_cells / /media/nathan/Transcend/Nathan/data/analysis_results/radial_analysis_output/follow/feb_2022/50.50.10/scr_apop_wt_div/GV0797_Pos7_30_RFP_N_events saved out successfully',\n",
       "  '/media/nathan/Transcend/Nathan/data/analysis_results/radial_analysis_output/follow/feb_2022/50.50.10/scr_apop_wt_div/GV0797_Pos7_106_RFP_N_cells / /media/nathan/Transcend/Nathan/data/analysis_results/radial_analysis_output/follow/feb_2022/50.50.10/scr_apop_wt_div/GV0797_Pos7_106_RFP_N_events saved out successfully',\n",
       "  '/media/nathan/Transcend/Nathan/data/analysis_results/radial_analysis_output/follow/feb_2022/50.50.10/scr_apop_wt_div/GV0797_Pos7_9_RFP_N_cells / /media/nathan/Transcend/Nathan/data/analysis_results/radial_analysis_output/follow/feb_2022/50.50.10/scr_apop_wt_div/GV0797_Pos7_9_RFP_N_events saved out successfully',\n",
       "  '/media/nathan/Transcend/Nathan/data/analysis_results/radial_analysis_output/follow/feb_2022/50.50.10/scr_apop_wt_div/GV0797_Pos7_204_RFP_N_cells / /media/nathan/Transcend/Nathan/data/analysis_results/radial_analysis_output/follow/feb_2022/50.50.10/scr_apop_wt_div/GV0797_Pos7_204_RFP_N_events saved out successfully',\n",
       "  '/media/nathan/Transcend/Nathan/data/analysis_results/radial_analysis_output/follow/feb_2022/50.50.10/scr_apop_wt_div/GV0797_Pos7_105_RFP_N_cells / /media/nathan/Transcend/Nathan/data/analysis_results/radial_analysis_output/follow/feb_2022/50.50.10/scr_apop_wt_div/GV0797_Pos7_105_RFP_N_events saved out successfully',\n",
       "  '/media/nathan/Transcend/Nathan/data/analysis_results/radial_analysis_output/follow/feb_2022/50.50.10/scr_apop_wt_div/GV0797_Pos7_200_RFP_N_cells / /media/nathan/Transcend/Nathan/data/analysis_results/radial_analysis_output/follow/feb_2022/50.50.10/scr_apop_wt_div/GV0797_Pos7_200_RFP_N_events saved out successfully',\n",
       "  '/media/nathan/Transcend/Nathan/data/analysis_results/radial_analysis_output/follow/feb_2022/50.50.10/scr_apop_wt_div/GV0797_Pos7_199_RFP_N_cells / /media/nathan/Transcend/Nathan/data/analysis_results/radial_analysis_output/follow/feb_2022/50.50.10/scr_apop_wt_div/GV0797_Pos7_199_RFP_N_events saved out successfully',\n",
       "  '/media/nathan/Transcend/Nathan/data/analysis_results/radial_analysis_output/follow/feb_2022/50.50.10/scr_apop_wt_div/GV0797_Pos7_208_RFP_N_cells / /media/nathan/Transcend/Nathan/data/analysis_results/radial_analysis_output/follow/feb_2022/50.50.10/scr_apop_wt_div/GV0797_Pos7_208_RFP_N_events saved out successfully',\n",
       "  '/media/nathan/Transcend/Nathan/data/analysis_results/radial_analysis_output/follow/feb_2022/50.50.10/scr_apop_wt_div/GV0797_Pos7_207_RFP_N_cells / /media/nathan/Transcend/Nathan/data/analysis_results/radial_analysis_output/follow/feb_2022/50.50.10/scr_apop_wt_div/GV0797_Pos7_207_RFP_N_events saved out successfully',\n",
       "  '/media/nathan/Transcend/Nathan/data/analysis_results/radial_analysis_output/follow/feb_2022/50.50.10/scr_apop_wt_div/GV0797_Pos7_203_RFP_N_cells / /media/nathan/Transcend/Nathan/data/analysis_results/radial_analysis_output/follow/feb_2022/50.50.10/scr_apop_wt_div/GV0797_Pos7_203_RFP_N_events saved out successfully',\n",
       "  '/media/nathan/Transcend/Nathan/data/analysis_results/radial_analysis_output/follow/feb_2022/50.50.10/scr_apop_wt_div/GV0798_Pos4_27_RFP_N_cells / /media/nathan/Transcend/Nathan/data/analysis_results/radial_analysis_output/follow/feb_2022/50.50.10/scr_apop_wt_div/GV0798_Pos4_27_RFP_N_events saved out successfully',\n",
       "  '/media/nathan/Transcend/Nathan/data/analysis_results/radial_analysis_output/follow/feb_2022/50.50.10/scr_apop_wt_div/GV0798_Pos4_22_RFP_N_cells / /media/nathan/Transcend/Nathan/data/analysis_results/radial_analysis_output/follow/feb_2022/50.50.10/scr_apop_wt_div/GV0798_Pos4_22_RFP_N_events saved out successfully',\n",
       "  '/media/nathan/Transcend/Nathan/data/analysis_results/radial_analysis_output/follow/feb_2022/50.50.10/scr_apop_wt_div/GV0798_Pos4_344_RFP_N_cells / /media/nathan/Transcend/Nathan/data/analysis_results/radial_analysis_output/follow/feb_2022/50.50.10/scr_apop_wt_div/GV0798_Pos4_344_RFP_N_events saved out successfully',\n",
       "  '/media/nathan/Transcend/Nathan/data/analysis_results/radial_analysis_output/follow/feb_2022/50.50.10/scr_apop_wt_div/GV0798_Pos4_253_RFP_N_cells / /media/nathan/Transcend/Nathan/data/analysis_results/radial_analysis_output/follow/feb_2022/50.50.10/scr_apop_wt_div/GV0798_Pos4_253_RFP_N_events saved out successfully',\n",
       "  '/media/nathan/Transcend/Nathan/data/analysis_results/radial_analysis_output/follow/feb_2022/50.50.10/scr_apop_wt_div/GV0798_Pos4_302_RFP_N_cells / /media/nathan/Transcend/Nathan/data/analysis_results/radial_analysis_output/follow/feb_2022/50.50.10/scr_apop_wt_div/GV0798_Pos4_302_RFP_N_events saved out successfully',\n",
       "  '/media/nathan/Transcend/Nathan/data/analysis_results/radial_analysis_output/follow/feb_2022/50.50.10/scr_apop_wt_div/GV0798_Pos4_255_RFP_N_cells / /media/nathan/Transcend/Nathan/data/analysis_results/radial_analysis_output/follow/feb_2022/50.50.10/scr_apop_wt_div/GV0798_Pos4_255_RFP_N_events saved out successfully',\n",
       "  '/media/nathan/Transcend/Nathan/data/analysis_results/radial_analysis_output/follow/feb_2022/50.50.10/scr_apop_wt_div/GV0798_Pos7_91_RFP_N_cells / /media/nathan/Transcend/Nathan/data/analysis_results/radial_analysis_output/follow/feb_2022/50.50.10/scr_apop_wt_div/GV0798_Pos7_91_RFP_N_events saved out successfully',\n",
       "  '/media/nathan/Transcend/Nathan/data/analysis_results/radial_analysis_output/follow/feb_2022/50.50.10/scr_apop_wt_div/GV0798_Pos7_92_RFP_N_cells / /media/nathan/Transcend/Nathan/data/analysis_results/radial_analysis_output/follow/feb_2022/50.50.10/scr_apop_wt_div/GV0798_Pos7_92_RFP_N_events saved out successfully',\n",
       "  '/media/nathan/Transcend/Nathan/data/analysis_results/radial_analysis_output/follow/feb_2022/50.50.10/scr_apop_wt_div/GV0798_Pos7_77_RFP_N_cells / /media/nathan/Transcend/Nathan/data/analysis_results/radial_analysis_output/follow/feb_2022/50.50.10/scr_apop_wt_div/GV0798_Pos7_77_RFP_N_events saved out successfully',\n",
       "  '/media/nathan/Transcend/Nathan/data/analysis_results/radial_analysis_output/follow/feb_2022/50.50.10/scr_apop_wt_div/GV0798_Pos7_22_RFP_N_cells / /media/nathan/Transcend/Nathan/data/analysis_results/radial_analysis_output/follow/feb_2022/50.50.10/scr_apop_wt_div/GV0798_Pos7_22_RFP_N_events saved out successfully',\n",
       "  '/media/nathan/Transcend/Nathan/data/analysis_results/radial_analysis_output/follow/feb_2022/50.50.10/scr_apop_wt_div/GV0798_Pos7_24_RFP_N_cells / /media/nathan/Transcend/Nathan/data/analysis_results/radial_analysis_output/follow/feb_2022/50.50.10/scr_apop_wt_div/GV0798_Pos7_24_RFP_N_events saved out successfully',\n",
       "  '/media/nathan/Transcend/Nathan/data/analysis_results/radial_analysis_output/follow/feb_2022/50.50.10/scr_apop_wt_div/GV0798_Pos7_148_RFP_N_cells / /media/nathan/Transcend/Nathan/data/analysis_results/radial_analysis_output/follow/feb_2022/50.50.10/scr_apop_wt_div/GV0798_Pos7_148_RFP_N_events saved out successfully',\n",
       "  '/media/nathan/Transcend/Nathan/data/analysis_results/radial_analysis_output/follow/feb_2022/50.50.10/scr_apop_wt_div/GV0798_Pos7_149_RFP_N_cells / /media/nathan/Transcend/Nathan/data/analysis_results/radial_analysis_output/follow/feb_2022/50.50.10/scr_apop_wt_div/GV0798_Pos7_149_RFP_N_events saved out successfully',\n",
       "  '/media/nathan/Transcend/Nathan/data/analysis_results/radial_analysis_output/follow/feb_2022/50.50.10/scr_apop_wt_div/GV0798_Pos7_38_RFP_N_cells / /media/nathan/Transcend/Nathan/data/analysis_results/radial_analysis_output/follow/feb_2022/50.50.10/scr_apop_wt_div/GV0798_Pos7_38_RFP_N_events saved out successfully',\n",
       "  '/media/nathan/Transcend/Nathan/data/analysis_results/radial_analysis_output/follow/feb_2022/50.50.10/scr_apop_wt_div/GV0798_Pos7_224_RFP_N_cells / /media/nathan/Transcend/Nathan/data/analysis_results/radial_analysis_output/follow/feb_2022/50.50.10/scr_apop_wt_div/GV0798_Pos7_224_RFP_N_events saved out successfully',\n",
       "  '/media/nathan/Transcend/Nathan/data/analysis_results/radial_analysis_output/follow/feb_2022/50.50.10/scr_apop_wt_div/GV0798_Pos7_182_RFP_N_cells / /media/nathan/Transcend/Nathan/data/analysis_results/radial_analysis_output/follow/feb_2022/50.50.10/scr_apop_wt_div/GV0798_Pos7_182_RFP_N_events saved out successfully',\n",
       "  '/media/nathan/Transcend/Nathan/data/analysis_results/radial_analysis_output/follow/feb_2022/50.50.10/scr_apop_wt_div/GV0798_Pos7_202_RFP_N_cells / /media/nathan/Transcend/Nathan/data/analysis_results/radial_analysis_output/follow/feb_2022/50.50.10/scr_apop_wt_div/GV0798_Pos7_202_RFP_N_events saved out successfully',\n",
       "  '/media/nathan/Transcend/Nathan/data/analysis_results/radial_analysis_output/follow/feb_2022/50.50.10/scr_apop_wt_div/GV0798_Pos7_201_RFP_N_cells / /media/nathan/Transcend/Nathan/data/analysis_results/radial_analysis_output/follow/feb_2022/50.50.10/scr_apop_wt_div/GV0798_Pos7_201_RFP_N_events saved out successfully',\n",
       "  '/media/nathan/Transcend/Nathan/data/analysis_results/radial_analysis_output/follow/feb_2022/50.50.10/scr_apop_wt_div/GV0798_Pos7_123_RFP_N_cells / /media/nathan/Transcend/Nathan/data/analysis_results/radial_analysis_output/follow/feb_2022/50.50.10/scr_apop_wt_div/GV0798_Pos7_123_RFP_N_events saved out successfully',\n",
       "  '/media/nathan/Transcend/Nathan/data/analysis_results/radial_analysis_output/follow/feb_2022/50.50.10/scr_apop_wt_div/GV0798_Pos7_274_RFP_N_cells / /media/nathan/Transcend/Nathan/data/analysis_results/radial_analysis_output/follow/feb_2022/50.50.10/scr_apop_wt_div/GV0798_Pos7_274_RFP_N_events saved out successfully',\n",
       "  '/media/nathan/Transcend/Nathan/data/analysis_results/radial_analysis_output/follow/feb_2022/50.50.10/scr_apop_wt_div/GV0800_Pos4_7_RFP_N_cells / /media/nathan/Transcend/Nathan/data/analysis_results/radial_analysis_output/follow/feb_2022/50.50.10/scr_apop_wt_div/GV0800_Pos4_7_RFP_N_events saved out successfully',\n",
       "  '/media/nathan/Transcend/Nathan/data/analysis_results/radial_analysis_output/follow/feb_2022/50.50.10/scr_apop_wt_div/GV0800_Pos4_33_RFP_N_cells / /media/nathan/Transcend/Nathan/data/analysis_results/radial_analysis_output/follow/feb_2022/50.50.10/scr_apop_wt_div/GV0800_Pos4_33_RFP_N_events saved out successfully',\n",
       "  '/media/nathan/Transcend/Nathan/data/analysis_results/radial_analysis_output/follow/feb_2022/50.50.10/scr_apop_wt_div/GV0800_Pos4_24_RFP_N_cells / /media/nathan/Transcend/Nathan/data/analysis_results/radial_analysis_output/follow/feb_2022/50.50.10/scr_apop_wt_div/GV0800_Pos4_24_RFP_N_events saved out successfully',\n",
       "  '/media/nathan/Transcend/Nathan/data/analysis_results/radial_analysis_output/follow/feb_2022/50.50.10/scr_apop_wt_div/GV0800_Pos4_482_RFP_N_cells / /media/nathan/Transcend/Nathan/data/analysis_results/radial_analysis_output/follow/feb_2022/50.50.10/scr_apop_wt_div/GV0800_Pos4_482_RFP_N_events saved out successfully',\n",
       "  '/media/nathan/Transcend/Nathan/data/analysis_results/radial_analysis_output/follow/feb_2022/50.50.10/scr_apop_wt_div/GV0800_Pos4_374_RFP_N_cells / /media/nathan/Transcend/Nathan/data/analysis_results/radial_analysis_output/follow/feb_2022/50.50.10/scr_apop_wt_div/GV0800_Pos4_374_RFP_N_events saved out successfully',\n",
       "  '/media/nathan/Transcend/Nathan/data/analysis_results/radial_analysis_output/follow/feb_2022/50.50.10/scr_apop_wt_div/GV0800_Pos4_351_RFP_N_cells / /media/nathan/Transcend/Nathan/data/analysis_results/radial_analysis_output/follow/feb_2022/50.50.10/scr_apop_wt_div/GV0800_Pos4_351_RFP_N_events saved out successfully',\n",
       "  '/media/nathan/Transcend/Nathan/data/analysis_results/radial_analysis_output/follow/feb_2022/50.50.10/scr_apop_wt_div/GV0800_Pos4_352_RFP_N_cells / /media/nathan/Transcend/Nathan/data/analysis_results/radial_analysis_output/follow/feb_2022/50.50.10/scr_apop_wt_div/GV0800_Pos4_352_RFP_N_events saved out successfully',\n",
       "  '/media/nathan/Transcend/Nathan/data/analysis_results/radial_analysis_output/follow/feb_2022/50.50.10/scr_apop_wt_div/GV0800_Pos4_471_RFP_N_cells / /media/nathan/Transcend/Nathan/data/analysis_results/radial_analysis_output/follow/feb_2022/50.50.10/scr_apop_wt_div/GV0800_Pos4_471_RFP_N_events saved out successfully',\n",
       "  '/media/nathan/Transcend/Nathan/data/analysis_results/radial_analysis_output/follow/feb_2022/50.50.10/scr_apop_wt_div/GV0800_Pos4_274_RFP_N_cells / /media/nathan/Transcend/Nathan/data/analysis_results/radial_analysis_output/follow/feb_2022/50.50.10/scr_apop_wt_div/GV0800_Pos4_274_RFP_N_events saved out successfully',\n",
       "  '/media/nathan/Transcend/Nathan/data/analysis_results/radial_analysis_output/follow/feb_2022/50.50.10/scr_apop_wt_div/GV0800_Pos4_477_RFP_N_cells / /media/nathan/Transcend/Nathan/data/analysis_results/radial_analysis_output/follow/feb_2022/50.50.10/scr_apop_wt_div/GV0800_Pos4_477_RFP_N_events saved out successfully',\n",
       "  '/media/nathan/Transcend/Nathan/data/analysis_results/radial_analysis_output/follow/feb_2022/50.50.10/scr_apop_wt_div/GV0800_Pos4_373_RFP_N_cells / /media/nathan/Transcend/Nathan/data/analysis_results/radial_analysis_output/follow/feb_2022/50.50.10/scr_apop_wt_div/GV0800_Pos4_373_RFP_N_events saved out successfully',\n",
       "  '/media/nathan/Transcend/Nathan/data/analysis_results/radial_analysis_output/follow/feb_2022/50.50.10/scr_apop_wt_div/GV0800_Pos4_759_RFP_N_cells / /media/nathan/Transcend/Nathan/data/analysis_results/radial_analysis_output/follow/feb_2022/50.50.10/scr_apop_wt_div/GV0800_Pos4_759_RFP_N_events saved out successfully',\n",
       "  '/media/nathan/Transcend/Nathan/data/analysis_results/radial_analysis_output/follow/feb_2022/50.50.10/scr_apop_wt_div/GV0800_Pos4_607_RFP_N_cells / /media/nathan/Transcend/Nathan/data/analysis_results/radial_analysis_output/follow/feb_2022/50.50.10/scr_apop_wt_div/GV0800_Pos4_607_RFP_N_events saved out successfully',\n",
       "  '/media/nathan/Transcend/Nathan/data/analysis_results/radial_analysis_output/follow/feb_2022/50.50.10/scr_apop_wt_div/GV0800_Pos4_836_RFP_N_cells / /media/nathan/Transcend/Nathan/data/analysis_results/radial_analysis_output/follow/feb_2022/50.50.10/scr_apop_wt_div/GV0800_Pos4_836_RFP_N_events saved out successfully',\n",
       "  '/media/nathan/Transcend/Nathan/data/analysis_results/radial_analysis_output/follow/feb_2022/50.50.10/scr_apop_wt_div/GV0800_Pos4_925_RFP_N_cells / /media/nathan/Transcend/Nathan/data/analysis_results/radial_analysis_output/follow/feb_2022/50.50.10/scr_apop_wt_div/GV0800_Pos4_925_RFP_N_events saved out successfully',\n",
       "  '/media/nathan/Transcend/Nathan/data/analysis_results/radial_analysis_output/follow/feb_2022/50.50.10/scr_apop_wt_div/GV0800_Pos4_947_RFP_N_cells / /media/nathan/Transcend/Nathan/data/analysis_results/radial_analysis_output/follow/feb_2022/50.50.10/scr_apop_wt_div/GV0800_Pos4_947_RFP_N_events saved out successfully',\n",
       "  '/media/nathan/Transcend/Nathan/data/analysis_results/radial_analysis_output/follow/feb_2022/50.50.10/scr_apop_wt_div/GV0800_Pos4_915_RFP_N_cells / /media/nathan/Transcend/Nathan/data/analysis_results/radial_analysis_output/follow/feb_2022/50.50.10/scr_apop_wt_div/GV0800_Pos4_915_RFP_N_events saved out successfully',\n",
       "  '/media/nathan/Transcend/Nathan/data/analysis_results/radial_analysis_output/follow/feb_2022/50.50.10/scr_apop_wt_div/GV0800_Pos7_7_RFP_N_cells / /media/nathan/Transcend/Nathan/data/analysis_results/radial_analysis_output/follow/feb_2022/50.50.10/scr_apop_wt_div/GV0800_Pos7_7_RFP_N_events saved out successfully',\n",
       "  '/media/nathan/Transcend/Nathan/data/analysis_results/radial_analysis_output/follow/feb_2022/50.50.10/scr_apop_wt_div/GV0800_Pos7_27_RFP_N_cells / /media/nathan/Transcend/Nathan/data/analysis_results/radial_analysis_output/follow/feb_2022/50.50.10/scr_apop_wt_div/GV0800_Pos7_27_RFP_N_events saved out successfully',\n",
       "  '/media/nathan/Transcend/Nathan/data/analysis_results/radial_analysis_output/follow/feb_2022/50.50.10/scr_apop_wt_div/GV0800_Pos7_52_RFP_N_cells / /media/nathan/Transcend/Nathan/data/analysis_results/radial_analysis_output/follow/feb_2022/50.50.10/scr_apop_wt_div/GV0800_Pos7_52_RFP_N_events saved out successfully',\n",
       "  '/media/nathan/Transcend/Nathan/data/analysis_results/radial_analysis_output/follow/feb_2022/50.50.10/scr_apop_wt_div/GV0800_Pos7_165_RFP_N_cells / /media/nathan/Transcend/Nathan/data/analysis_results/radial_analysis_output/follow/feb_2022/50.50.10/scr_apop_wt_div/GV0800_Pos7_165_RFP_N_events saved out successfully',\n",
       "  '/media/nathan/Transcend/Nathan/data/analysis_results/radial_analysis_output/follow/feb_2022/50.50.10/scr_apop_wt_div/GV0800_Pos7_29_RFP_N_cells / /media/nathan/Transcend/Nathan/data/analysis_results/radial_analysis_output/follow/feb_2022/50.50.10/scr_apop_wt_div/GV0800_Pos7_29_RFP_N_events saved out successfully',\n",
       "  '/media/nathan/Transcend/Nathan/data/analysis_results/radial_analysis_output/follow/feb_2022/50.50.10/scr_apop_wt_div/GV0800_Pos7_368_RFP_N_cells / /media/nathan/Transcend/Nathan/data/analysis_results/radial_analysis_output/follow/feb_2022/50.50.10/scr_apop_wt_div/GV0800_Pos7_368_RFP_N_events saved out successfully',\n",
       "  '/media/nathan/Transcend/Nathan/data/analysis_results/radial_analysis_output/follow/feb_2022/50.50.10/scr_apop_wt_div/GV0800_Pos7_393_RFP_N_cells / /media/nathan/Transcend/Nathan/data/analysis_results/radial_analysis_output/follow/feb_2022/50.50.10/scr_apop_wt_div/GV0800_Pos7_393_RFP_N_events saved out successfully',\n",
       "  '/media/nathan/Transcend/Nathan/data/analysis_results/radial_analysis_output/follow/feb_2022/50.50.10/scr_apop_wt_div/GV0800_Pos7_392_RFP_N_cells / /media/nathan/Transcend/Nathan/data/analysis_results/radial_analysis_output/follow/feb_2022/50.50.10/scr_apop_wt_div/GV0800_Pos7_392_RFP_N_events saved out successfully',\n",
       "  '/media/nathan/Transcend/Nathan/data/analysis_results/radial_analysis_output/follow/feb_2022/50.50.10/scr_apop_wt_div/GV0800_Pos7_456_RFP_N_cells / /media/nathan/Transcend/Nathan/data/analysis_results/radial_analysis_output/follow/feb_2022/50.50.10/scr_apop_wt_div/GV0800_Pos7_456_RFP_N_events saved out successfully',\n",
       "  '/media/nathan/Transcend/Nathan/data/analysis_results/radial_analysis_output/follow/feb_2022/50.50.10/scr_apop_wt_div/GV0800_Pos7_440_RFP_N_cells / /media/nathan/Transcend/Nathan/data/analysis_results/radial_analysis_output/follow/feb_2022/50.50.10/scr_apop_wt_div/GV0800_Pos7_440_RFP_N_events saved out successfully',\n",
       "  '/media/nathan/Transcend/Nathan/data/analysis_results/radial_analysis_output/follow/feb_2022/50.50.10/scr_apop_wt_div/GV0800_Pos7_14_RFP_N_cells / /media/nathan/Transcend/Nathan/data/analysis_results/radial_analysis_output/follow/feb_2022/50.50.10/scr_apop_wt_div/GV0800_Pos7_14_RFP_N_events saved out successfully',\n",
       "  '/media/nathan/Transcend/Nathan/data/analysis_results/radial_analysis_output/follow/feb_2022/50.50.10/scr_apop_wt_div/GV0800_Pos7_299_RFP_N_cells / /media/nathan/Transcend/Nathan/data/analysis_results/radial_analysis_output/follow/feb_2022/50.50.10/scr_apop_wt_div/GV0800_Pos7_299_RFP_N_events saved out successfully',\n",
       "  '/media/nathan/Transcend/Nathan/data/analysis_results/radial_analysis_output/follow/feb_2022/50.50.10/scr_apop_wt_div/GV0800_Pos7_297_RFP_N_cells / /media/nathan/Transcend/Nathan/data/analysis_results/radial_analysis_output/follow/feb_2022/50.50.10/scr_apop_wt_div/GV0800_Pos7_297_RFP_N_events saved out successfully',\n",
       "  '/media/nathan/Transcend/Nathan/data/analysis_results/radial_analysis_output/follow/feb_2022/50.50.10/scr_apop_wt_div/GV0800_Pos7_279_RFP_N_cells / /media/nathan/Transcend/Nathan/data/analysis_results/radial_analysis_output/follow/feb_2022/50.50.10/scr_apop_wt_div/GV0800_Pos7_279_RFP_N_events saved out successfully',\n",
       "  '/media/nathan/Transcend/Nathan/data/analysis_results/radial_analysis_output/follow/feb_2022/50.50.10/scr_apop_wt_div/GV0800_Pos7_16_RFP_N_cells / /media/nathan/Transcend/Nathan/data/analysis_results/radial_analysis_output/follow/feb_2022/50.50.10/scr_apop_wt_div/GV0800_Pos7_16_RFP_N_events saved out successfully',\n",
       "  '/media/nathan/Transcend/Nathan/data/analysis_results/radial_analysis_output/follow/feb_2022/50.50.10/scr_apop_wt_div/GV0800_Pos7_361_RFP_N_cells / /media/nathan/Transcend/Nathan/data/analysis_results/radial_analysis_output/follow/feb_2022/50.50.10/scr_apop_wt_div/GV0800_Pos7_361_RFP_N_events saved out successfully',\n",
       "  '/media/nathan/Transcend/Nathan/data/analysis_results/radial_analysis_output/follow/feb_2022/50.50.10/scr_apop_wt_div/GV0800_Pos7_373_RFP_N_cells / /media/nathan/Transcend/Nathan/data/analysis_results/radial_analysis_output/follow/feb_2022/50.50.10/scr_apop_wt_div/GV0800_Pos7_373_RFP_N_events saved out successfully',\n",
       "  '/media/nathan/Transcend/Nathan/data/analysis_results/radial_analysis_output/follow/feb_2022/50.50.10/scr_apop_wt_div/GV0800_Pos7_190_RFP_N_cells / /media/nathan/Transcend/Nathan/data/analysis_results/radial_analysis_output/follow/feb_2022/50.50.10/scr_apop_wt_div/GV0800_Pos7_190_RFP_N_events saved out successfully',\n",
       "  '/media/nathan/Transcend/Nathan/data/analysis_results/radial_analysis_output/follow/feb_2022/50.50.10/scr_apop_wt_div/GV0800_Pos7_598_RFP_N_cells / /media/nathan/Transcend/Nathan/data/analysis_results/radial_analysis_output/follow/feb_2022/50.50.10/scr_apop_wt_div/GV0800_Pos7_598_RFP_N_events saved out successfully',\n",
       "  '/media/nathan/Transcend/Nathan/data/analysis_results/radial_analysis_output/follow/feb_2022/50.50.10/scr_apop_wt_div/GV0800_Pos7_667_RFP_N_cells / /media/nathan/Transcend/Nathan/data/analysis_results/radial_analysis_output/follow/feb_2022/50.50.10/scr_apop_wt_div/GV0800_Pos7_667_RFP_N_events saved out successfully',\n",
       "  '/media/nathan/Transcend/Nathan/data/analysis_results/radial_analysis_output/follow/feb_2022/50.50.10/scr_apop_wt_div/GV0800_Pos7_669_RFP_N_cells / /media/nathan/Transcend/Nathan/data/analysis_results/radial_analysis_output/follow/feb_2022/50.50.10/scr_apop_wt_div/GV0800_Pos7_669_RFP_N_events saved out successfully',\n",
       "  '/media/nathan/Transcend/Nathan/data/analysis_results/radial_analysis_output/follow/feb_2022/50.50.10/scr_apop_wt_div/GV0795_Pos17_13_RFP_N_cells / /media/nathan/Transcend/Nathan/data/analysis_results/radial_analysis_output/follow/feb_2022/50.50.10/scr_apop_wt_div/GV0795_Pos17_13_RFP_N_events saved out successfully',\n",
       "  '/media/nathan/Transcend/Nathan/data/analysis_results/radial_analysis_output/follow/feb_2022/50.50.10/scr_apop_wt_div/GV0795_Pos17_16_RFP_N_cells / /media/nathan/Transcend/Nathan/data/analysis_results/radial_analysis_output/follow/feb_2022/50.50.10/scr_apop_wt_div/GV0795_Pos17_16_RFP_N_events saved out successfully',\n",
       "  '/media/nathan/Transcend/Nathan/data/analysis_results/radial_analysis_output/follow/feb_2022/50.50.10/scr_apop_wt_div/GV0795_Pos17_26_RFP_N_cells / /media/nathan/Transcend/Nathan/data/analysis_results/radial_analysis_output/follow/feb_2022/50.50.10/scr_apop_wt_div/GV0795_Pos17_26_RFP_N_events saved out successfully',\n",
       "  '/media/nathan/Transcend/Nathan/data/analysis_results/radial_analysis_output/follow/feb_2022/50.50.10/scr_apop_wt_div/GV0795_Pos17_6_RFP_N_cells / /media/nathan/Transcend/Nathan/data/analysis_results/radial_analysis_output/follow/feb_2022/50.50.10/scr_apop_wt_div/GV0795_Pos17_6_RFP_N_events saved out successfully',\n",
       "  '/media/nathan/Transcend/Nathan/data/analysis_results/radial_analysis_output/follow/feb_2022/50.50.10/scr_apop_wt_div/GV0795_Pos17_4_RFP_N_cells / /media/nathan/Transcend/Nathan/data/analysis_results/radial_analysis_output/follow/feb_2022/50.50.10/scr_apop_wt_div/GV0795_Pos17_4_RFP_N_events saved out successfully',\n",
       "  '/media/nathan/Transcend/Nathan/data/analysis_results/radial_analysis_output/follow/feb_2022/50.50.10/scr_apop_wt_div/GV0795_Pos17_115_RFP_N_cells / /media/nathan/Transcend/Nathan/data/analysis_results/radial_analysis_output/follow/feb_2022/50.50.10/scr_apop_wt_div/GV0795_Pos17_115_RFP_N_events saved out successfully',\n",
       "  '/media/nathan/Transcend/Nathan/data/analysis_results/radial_analysis_output/follow/feb_2022/50.50.10/scr_apop_wt_div/GV0795_Pos17_152_RFP_N_cells / /media/nathan/Transcend/Nathan/data/analysis_results/radial_analysis_output/follow/feb_2022/50.50.10/scr_apop_wt_div/GV0795_Pos17_152_RFP_N_events saved out successfully',\n",
       "  '/media/nathan/Transcend/Nathan/data/analysis_results/radial_analysis_output/follow/feb_2022/50.50.10/scr_apop_wt_div/GV0795_Pos17_151_RFP_N_cells / /media/nathan/Transcend/Nathan/data/analysis_results/radial_analysis_output/follow/feb_2022/50.50.10/scr_apop_wt_div/GV0795_Pos17_151_RFP_N_events saved out successfully',\n",
       "  '/media/nathan/Transcend/Nathan/data/analysis_results/radial_analysis_output/follow/feb_2022/50.50.10/scr_apop_wt_div/GV0795_Pos17_129_RFP_N_cells / /media/nathan/Transcend/Nathan/data/analysis_results/radial_analysis_output/follow/feb_2022/50.50.10/scr_apop_wt_div/GV0795_Pos17_129_RFP_N_events saved out successfully',\n",
       "  '/media/nathan/Transcend/Nathan/data/analysis_results/radial_analysis_output/follow/feb_2022/50.50.10/scr_apop_wt_div/GV0795_Pos17_121_RFP_N_cells / /media/nathan/Transcend/Nathan/data/analysis_results/radial_analysis_output/follow/feb_2022/50.50.10/scr_apop_wt_div/GV0795_Pos17_121_RFP_N_events saved out successfully',\n",
       "  '/media/nathan/Transcend/Nathan/data/analysis_results/radial_analysis_output/follow/feb_2022/50.50.10/scr_apop_wt_div/GV0795_Pos17_11_RFP_N_cells / /media/nathan/Transcend/Nathan/data/analysis_results/radial_analysis_output/follow/feb_2022/50.50.10/scr_apop_wt_div/GV0795_Pos17_11_RFP_N_events saved out successfully',\n",
       "  '/media/nathan/Transcend/Nathan/data/analysis_results/radial_analysis_output/follow/feb_2022/50.50.10/scr_apop_wt_div/GV0795_Pos17_128_RFP_N_cells / /media/nathan/Transcend/Nathan/data/analysis_results/radial_analysis_output/follow/feb_2022/50.50.10/scr_apop_wt_div/GV0795_Pos17_128_RFP_N_events saved out successfully',\n",
       "  '/media/nathan/Transcend/Nathan/data/analysis_results/radial_analysis_output/follow/feb_2022/50.50.10/scr_apop_wt_div/GV0795_Pos17_258_RFP_N_cells / /media/nathan/Transcend/Nathan/data/analysis_results/radial_analysis_output/follow/feb_2022/50.50.10/scr_apop_wt_div/GV0795_Pos17_258_RFP_N_events saved out successfully',\n",
       "  '/media/nathan/Transcend/Nathan/data/analysis_results/radial_analysis_output/follow/feb_2022/50.50.10/scr_apop_wt_div/GV0795_Pos17_209_RFP_N_cells / /media/nathan/Transcend/Nathan/data/analysis_results/radial_analysis_output/follow/feb_2022/50.50.10/scr_apop_wt_div/GV0795_Pos17_209_RFP_N_events saved out successfully',\n",
       "  '/media/nathan/Transcend/Nathan/data/analysis_results/radial_analysis_output/follow/feb_2022/50.50.10/scr_apop_wt_div/GV0795_Pos17_267_RFP_N_cells / /media/nathan/Transcend/Nathan/data/analysis_results/radial_analysis_output/follow/feb_2022/50.50.10/scr_apop_wt_div/GV0795_Pos17_267_RFP_N_events saved out successfully',\n",
       "  '/media/nathan/Transcend/Nathan/data/analysis_results/radial_analysis_output/follow/feb_2022/50.50.10/scr_apop_wt_div/GV0795_Pos17_471_RFP_N_cells / /media/nathan/Transcend/Nathan/data/analysis_results/radial_analysis_output/follow/feb_2022/50.50.10/scr_apop_wt_div/GV0795_Pos17_471_RFP_N_events saved out successfully',\n",
       "  '/media/nathan/Transcend/Nathan/data/analysis_results/radial_analysis_output/follow/feb_2022/50.50.10/scr_apop_wt_div/GV0795_Pos17_98_RFP_N_cells / /media/nathan/Transcend/Nathan/data/analysis_results/radial_analysis_output/follow/feb_2022/50.50.10/scr_apop_wt_div/GV0795_Pos17_98_RFP_N_events saved out successfully',\n",
       "  '/media/nathan/Transcend/Nathan/data/analysis_results/radial_analysis_output/follow/feb_2022/50.50.10/scr_apop_wt_div/GV0795_Pos17_132_RFP_N_cells / /media/nathan/Transcend/Nathan/data/analysis_results/radial_analysis_output/follow/feb_2022/50.50.10/scr_apop_wt_div/GV0795_Pos17_132_RFP_N_events saved out successfully',\n",
       "  '/media/nathan/Transcend/Nathan/data/analysis_results/radial_analysis_output/follow/feb_2022/50.50.10/scr_apop_wt_div/GV0796_Pos21_13_RFP_N_cells / /media/nathan/Transcend/Nathan/data/analysis_results/radial_analysis_output/follow/feb_2022/50.50.10/scr_apop_wt_div/GV0796_Pos21_13_RFP_N_events saved out successfully',\n",
       "  '/media/nathan/Transcend/Nathan/data/analysis_results/radial_analysis_output/follow/feb_2022/50.50.10/scr_apop_wt_div/GV0796_Pos21_16_RFP_N_cells / /media/nathan/Transcend/Nathan/data/analysis_results/radial_analysis_output/follow/feb_2022/50.50.10/scr_apop_wt_div/GV0796_Pos21_16_RFP_N_events saved out successfully',\n",
       "  '/media/nathan/Transcend/Nathan/data/analysis_results/radial_analysis_output/follow/feb_2022/50.50.10/scr_apop_wt_div/GV0796_Pos21_30_RFP_N_cells / /media/nathan/Transcend/Nathan/data/analysis_results/radial_analysis_output/follow/feb_2022/50.50.10/scr_apop_wt_div/GV0796_Pos21_30_RFP_N_events saved out successfully',\n",
       "  '/media/nathan/Transcend/Nathan/data/analysis_results/radial_analysis_output/follow/feb_2022/50.50.10/scr_apop_wt_div/GV0796_Pos21_23_RFP_N_cells / /media/nathan/Transcend/Nathan/data/analysis_results/radial_analysis_output/follow/feb_2022/50.50.10/scr_apop_wt_div/GV0796_Pos21_23_RFP_N_events saved out successfully',\n",
       "  '/media/nathan/Transcend/Nathan/data/analysis_results/radial_analysis_output/follow/feb_2022/50.50.10/scr_apop_wt_div/GV0796_Pos21_14_RFP_N_cells / /media/nathan/Transcend/Nathan/data/analysis_results/radial_analysis_output/follow/feb_2022/50.50.10/scr_apop_wt_div/GV0796_Pos21_14_RFP_N_events saved out successfully',\n",
       "  '/media/nathan/Transcend/Nathan/data/analysis_results/radial_analysis_output/follow/feb_2022/50.50.10/scr_apop_wt_div/GV0796_Pos21_230_RFP_N_cells / /media/nathan/Transcend/Nathan/data/analysis_results/radial_analysis_output/follow/feb_2022/50.50.10/scr_apop_wt_div/GV0796_Pos21_230_RFP_N_events saved out successfully',\n",
       "  '/media/nathan/Transcend/Nathan/data/analysis_results/radial_analysis_output/follow/feb_2022/50.50.10/scr_apop_wt_div/GV0796_Pos21_314_RFP_N_cells / /media/nathan/Transcend/Nathan/data/analysis_results/radial_analysis_output/follow/feb_2022/50.50.10/scr_apop_wt_div/GV0796_Pos21_314_RFP_N_events saved out successfully',\n",
       "  '/media/nathan/Transcend/Nathan/data/analysis_results/radial_analysis_output/follow/feb_2022/50.50.10/scr_apop_wt_div/GV0796_Pos21_252_RFP_N_cells / /media/nathan/Transcend/Nathan/data/analysis_results/radial_analysis_output/follow/feb_2022/50.50.10/scr_apop_wt_div/GV0796_Pos21_252_RFP_N_events saved out successfully',\n",
       "  '/media/nathan/Transcend/Nathan/data/analysis_results/radial_analysis_output/follow/feb_2022/50.50.10/scr_apop_wt_div/GV0796_Pos21_282_RFP_N_cells / /media/nathan/Transcend/Nathan/data/analysis_results/radial_analysis_output/follow/feb_2022/50.50.10/scr_apop_wt_div/GV0796_Pos21_282_RFP_N_events saved out successfully',\n",
       "  '/media/nathan/Transcend/Nathan/data/analysis_results/radial_analysis_output/follow/feb_2022/50.50.10/scr_apop_wt_div/GV0796_Pos21_18_RFP_N_cells / /media/nathan/Transcend/Nathan/data/analysis_results/radial_analysis_output/follow/feb_2022/50.50.10/scr_apop_wt_div/GV0796_Pos21_18_RFP_N_events saved out successfully',\n",
       "  '/media/nathan/Transcend/Nathan/data/analysis_results/radial_analysis_output/follow/feb_2022/50.50.10/scr_apop_wt_div/GV0796_Pos21_676_RFP_N_cells / /media/nathan/Transcend/Nathan/data/analysis_results/radial_analysis_output/follow/feb_2022/50.50.10/scr_apop_wt_div/GV0796_Pos21_676_RFP_N_events saved out successfully',\n",
       "  '/media/nathan/Transcend/Nathan/data/analysis_results/radial_analysis_output/follow/feb_2022/50.50.10/scr_apop_wt_div/GV0796_Pos21_675_RFP_N_cells / /media/nathan/Transcend/Nathan/data/analysis_results/radial_analysis_output/follow/feb_2022/50.50.10/scr_apop_wt_div/GV0796_Pos21_675_RFP_N_events saved out successfully',\n",
       "  '/media/nathan/Transcend/Nathan/data/analysis_results/radial_analysis_output/follow/feb_2022/50.50.10/scr_apop_wt_div/GV0796_Pos21_336_RFP_N_cells / /media/nathan/Transcend/Nathan/data/analysis_results/radial_analysis_output/follow/feb_2022/50.50.10/scr_apop_wt_div/GV0796_Pos21_336_RFP_N_events saved out successfully',\n",
       "  '/media/nathan/Transcend/Nathan/data/analysis_results/radial_analysis_output/follow/feb_2022/50.50.10/scr_apop_wt_div/GV0796_Pos21_339_RFP_N_cells / /media/nathan/Transcend/Nathan/data/analysis_results/radial_analysis_output/follow/feb_2022/50.50.10/scr_apop_wt_div/GV0796_Pos21_339_RFP_N_events saved out successfully',\n",
       "  '/media/nathan/Transcend/Nathan/data/analysis_results/radial_analysis_output/follow/feb_2022/50.50.10/scr_apop_wt_div/GV0796_Pos21_406_RFP_N_cells / /media/nathan/Transcend/Nathan/data/analysis_results/radial_analysis_output/follow/feb_2022/50.50.10/scr_apop_wt_div/GV0796_Pos21_406_RFP_N_events saved out successfully',\n",
       "  '/media/nathan/Transcend/Nathan/data/analysis_results/radial_analysis_output/follow/feb_2022/50.50.10/scr_apop_wt_div/GV0796_Pos21_697_RFP_N_cells / /media/nathan/Transcend/Nathan/data/analysis_results/radial_analysis_output/follow/feb_2022/50.50.10/scr_apop_wt_div/GV0796_Pos21_697_RFP_N_events saved out successfully',\n",
       "  '/media/nathan/Transcend/Nathan/data/analysis_results/radial_analysis_output/follow/feb_2022/50.50.10/scr_apop_wt_div/GV0796_Pos21_425_RFP_N_cells / /media/nathan/Transcend/Nathan/data/analysis_results/radial_analysis_output/follow/feb_2022/50.50.10/scr_apop_wt_div/GV0796_Pos21_425_RFP_N_events saved out successfully',\n",
       "  '/media/nathan/Transcend/Nathan/data/analysis_results/radial_analysis_output/follow/feb_2022/50.50.10/scr_apop_wt_div/GV0796_Pos21_702_RFP_N_cells / /media/nathan/Transcend/Nathan/data/analysis_results/radial_analysis_output/follow/feb_2022/50.50.10/scr_apop_wt_div/GV0796_Pos21_702_RFP_N_events saved out successfully',\n",
       "  '/media/nathan/Transcend/Nathan/data/analysis_results/radial_analysis_output/follow/feb_2022/50.50.10/scr_apop_wt_div/GV0796_Pos21_257_RFP_N_cells / /media/nathan/Transcend/Nathan/data/analysis_results/radial_analysis_output/follow/feb_2022/50.50.10/scr_apop_wt_div/GV0796_Pos21_257_RFP_N_events saved out successfully',\n",
       "  '/media/nathan/Transcend/Nathan/data/analysis_results/radial_analysis_output/follow/feb_2022/50.50.10/scr_apop_wt_div/GV0796_Pos21_312_RFP_N_cells / /media/nathan/Transcend/Nathan/data/analysis_results/radial_analysis_output/follow/feb_2022/50.50.10/scr_apop_wt_div/GV0796_Pos21_312_RFP_N_events saved out successfully',\n",
       "  '/media/nathan/Transcend/Nathan/data/analysis_results/radial_analysis_output/follow/feb_2022/50.50.10/scr_apop_wt_div/GV0796_Pos21_388_RFP_N_cells / /media/nathan/Transcend/Nathan/data/analysis_results/radial_analysis_output/follow/feb_2022/50.50.10/scr_apop_wt_div/GV0796_Pos21_388_RFP_N_events saved out successfully',\n",
       "  '/media/nathan/Transcend/Nathan/data/analysis_results/radial_analysis_output/follow/feb_2022/50.50.10/scr_apop_wt_div/GV0796_Pos21_646_RFP_N_cells / /media/nathan/Transcend/Nathan/data/analysis_results/radial_analysis_output/follow/feb_2022/50.50.10/scr_apop_wt_div/GV0796_Pos21_646_RFP_N_events saved out successfully',\n",
       "  '/media/nathan/Transcend/Nathan/data/analysis_results/radial_analysis_output/follow/feb_2022/50.50.10/scr_apop_wt_div/GV0796_Pos21_665_RFP_N_cells / /media/nathan/Transcend/Nathan/data/analysis_results/radial_analysis_output/follow/feb_2022/50.50.10/scr_apop_wt_div/GV0796_Pos21_665_RFP_N_events saved out successfully',\n",
       "  '/media/nathan/Transcend/Nathan/data/analysis_results/radial_analysis_output/follow/feb_2022/50.50.10/scr_apop_wt_div/GV0796_Pos21_405_RFP_N_cells / /media/nathan/Transcend/Nathan/data/analysis_results/radial_analysis_output/follow/feb_2022/50.50.10/scr_apop_wt_div/GV0796_Pos21_405_RFP_N_events saved out successfully',\n",
       "  '/media/nathan/Transcend/Nathan/data/analysis_results/radial_analysis_output/follow/feb_2022/50.50.10/scr_apop_wt_div/GV0796_Pos22_28_RFP_N_cells / /media/nathan/Transcend/Nathan/data/analysis_results/radial_analysis_output/follow/feb_2022/50.50.10/scr_apop_wt_div/GV0796_Pos22_28_RFP_N_events saved out successfully',\n",
       "  '/media/nathan/Transcend/Nathan/data/analysis_results/radial_analysis_output/follow/feb_2022/50.50.10/scr_apop_wt_div/GV0796_Pos22_370_RFP_N_cells / /media/nathan/Transcend/Nathan/data/analysis_results/radial_analysis_output/follow/feb_2022/50.50.10/scr_apop_wt_div/GV0796_Pos22_370_RFP_N_events saved out successfully',\n",
       "  '/media/nathan/Transcend/Nathan/data/analysis_results/radial_analysis_output/follow/feb_2022/50.50.10/scr_apop_wt_div/GV0796_Pos22_330_RFP_N_cells / /media/nathan/Transcend/Nathan/data/analysis_results/radial_analysis_output/follow/feb_2022/50.50.10/scr_apop_wt_div/GV0796_Pos22_330_RFP_N_events saved out successfully',\n",
       "  '/media/nathan/Transcend/Nathan/data/analysis_results/radial_analysis_output/follow/feb_2022/50.50.10/scr_apop_wt_div/GV0796_Pos22_339_RFP_N_cells / /media/nathan/Transcend/Nathan/data/analysis_results/radial_analysis_output/follow/feb_2022/50.50.10/scr_apop_wt_div/GV0796_Pos22_339_RFP_N_events saved out successfully',\n",
       "  '/media/nathan/Transcend/Nathan/data/analysis_results/radial_analysis_output/follow/feb_2022/50.50.10/scr_apop_wt_div/GV0796_Pos22_409_RFP_N_cells / /media/nathan/Transcend/Nathan/data/analysis_results/radial_analysis_output/follow/feb_2022/50.50.10/scr_apop_wt_div/GV0796_Pos22_409_RFP_N_events saved out successfully',\n",
       "  '/media/nathan/Transcend/Nathan/data/analysis_results/radial_analysis_output/follow/feb_2022/50.50.10/scr_apop_wt_div/GV0796_Pos22_291_RFP_N_cells / /media/nathan/Transcend/Nathan/data/analysis_results/radial_analysis_output/follow/feb_2022/50.50.10/scr_apop_wt_div/GV0796_Pos22_291_RFP_N_events saved out successfully',\n",
       "  '/media/nathan/Transcend/Nathan/data/analysis_results/radial_analysis_output/follow/feb_2022/50.50.10/scr_apop_wt_div/GV0796_Pos22_406_RFP_N_cells / /media/nathan/Transcend/Nathan/data/analysis_results/radial_analysis_output/follow/feb_2022/50.50.10/scr_apop_wt_div/GV0796_Pos22_406_RFP_N_events saved out successfully',\n",
       "  '/media/nathan/Transcend/Nathan/data/analysis_results/radial_analysis_output/follow/feb_2022/50.50.10/scr_apop_wt_div/GV0796_Pos22_174_RFP_N_cells / /media/nathan/Transcend/Nathan/data/analysis_results/radial_analysis_output/follow/feb_2022/50.50.10/scr_apop_wt_div/GV0796_Pos22_174_RFP_N_events saved out successfully',\n",
       "  '/media/nathan/Transcend/Nathan/data/analysis_results/radial_analysis_output/follow/feb_2022/50.50.10/scr_apop_wt_div/GV0796_Pos22_468_RFP_N_cells / /media/nathan/Transcend/Nathan/data/analysis_results/radial_analysis_output/follow/feb_2022/50.50.10/scr_apop_wt_div/GV0796_Pos22_468_RFP_N_events saved out successfully',\n",
       "  '/media/nathan/Transcend/Nathan/data/analysis_results/radial_analysis_output/follow/feb_2022/50.50.10/scr_apop_wt_div/GV0796_Pos22_346_RFP_N_cells / /media/nathan/Transcend/Nathan/data/analysis_results/radial_analysis_output/follow/feb_2022/50.50.10/scr_apop_wt_div/GV0796_Pos22_346_RFP_N_events saved out successfully',\n",
       "  '/media/nathan/Transcend/Nathan/data/analysis_results/radial_analysis_output/follow/feb_2022/50.50.10/scr_apop_wt_div/GV0796_Pos22_520_RFP_N_cells / /media/nathan/Transcend/Nathan/data/analysis_results/radial_analysis_output/follow/feb_2022/50.50.10/scr_apop_wt_div/GV0796_Pos22_520_RFP_N_events saved out successfully',\n",
       "  '/media/nathan/Transcend/Nathan/data/analysis_results/radial_analysis_output/follow/feb_2022/50.50.10/scr_apop_wt_div/GV0796_Pos22_519_RFP_N_cells / /media/nathan/Transcend/Nathan/data/analysis_results/radial_analysis_output/follow/feb_2022/50.50.10/scr_apop_wt_div/GV0796_Pos22_519_RFP_N_events saved out successfully',\n",
       "  '/media/nathan/Transcend/Nathan/data/analysis_results/radial_analysis_output/follow/feb_2022/50.50.10/scr_apop_wt_div/GV0796_Pos22_595_RFP_N_cells / /media/nathan/Transcend/Nathan/data/analysis_results/radial_analysis_output/follow/feb_2022/50.50.10/scr_apop_wt_div/GV0796_Pos22_595_RFP_N_events saved out successfully',\n",
       "  '/media/nathan/Transcend/Nathan/data/analysis_results/radial_analysis_output/follow/feb_2022/50.50.10/scr_apop_wt_div/GV0796_Pos22_596_RFP_N_cells / /media/nathan/Transcend/Nathan/data/analysis_results/radial_analysis_output/follow/feb_2022/50.50.10/scr_apop_wt_div/GV0796_Pos22_596_RFP_N_events saved out successfully',\n",
       "  '/media/nathan/Transcend/Nathan/data/analysis_results/radial_analysis_output/follow/feb_2022/50.50.10/scr_apop_wt_div/GV0796_Pos22_11_RFP_N_cells / /media/nathan/Transcend/Nathan/data/analysis_results/radial_analysis_output/follow/feb_2022/50.50.10/scr_apop_wt_div/GV0796_Pos22_11_RFP_N_events saved out successfully',\n",
       "  '/media/nathan/Transcend/Nathan/data/analysis_results/radial_analysis_output/follow/feb_2022/50.50.10/scr_apop_wt_div/GV0796_Pos22_324_RFP_N_cells / /media/nathan/Transcend/Nathan/data/analysis_results/radial_analysis_output/follow/feb_2022/50.50.10/scr_apop_wt_div/GV0796_Pos22_324_RFP_N_events saved out successfully',\n",
       "  '/media/nathan/Transcend/Nathan/data/analysis_results/radial_analysis_output/follow/feb_2022/50.50.10/scr_apop_wt_div/GV0796_Pos22_657_RFP_N_cells / /media/nathan/Transcend/Nathan/data/analysis_results/radial_analysis_output/follow/feb_2022/50.50.10/scr_apop_wt_div/GV0796_Pos22_657_RFP_N_events saved out successfully',\n",
       "  '/media/nathan/Transcend/Nathan/data/analysis_results/radial_analysis_output/follow/feb_2022/50.50.10/scr_apop_wt_div/GV0796_Pos22_658_RFP_N_cells / /media/nathan/Transcend/Nathan/data/analysis_results/radial_analysis_output/follow/feb_2022/50.50.10/scr_apop_wt_div/GV0796_Pos22_658_RFP_N_events saved out successfully',\n",
       "  '/media/nathan/Transcend/Nathan/data/analysis_results/radial_analysis_output/follow/feb_2022/50.50.10/scr_apop_wt_div/GV0796_Pos22_659_RFP_N_cells / /media/nathan/Transcend/Nathan/data/analysis_results/radial_analysis_output/follow/feb_2022/50.50.10/scr_apop_wt_div/GV0796_Pos22_659_RFP_N_events saved out successfully',\n",
       "  '/media/nathan/Transcend/Nathan/data/analysis_results/radial_analysis_output/follow/feb_2022/50.50.10/scr_apop_wt_div/GV0796_Pos22_588_RFP_N_cells / /media/nathan/Transcend/Nathan/data/analysis_results/radial_analysis_output/follow/feb_2022/50.50.10/scr_apop_wt_div/GV0796_Pos22_588_RFP_N_events saved out successfully',\n",
       "  '/media/nathan/Transcend/Nathan/data/analysis_results/radial_analysis_output/follow/feb_2022/50.50.10/scr_apop_wt_div/GV0797_Pos20_14_RFP_N_cells / /media/nathan/Transcend/Nathan/data/analysis_results/radial_analysis_output/follow/feb_2022/50.50.10/scr_apop_wt_div/GV0797_Pos20_14_RFP_N_events saved out successfully',\n",
       "  '/media/nathan/Transcend/Nathan/data/analysis_results/radial_analysis_output/follow/feb_2022/50.50.10/scr_apop_wt_div/GV0797_Pos20_16_RFP_N_cells / /media/nathan/Transcend/Nathan/data/analysis_results/radial_analysis_output/follow/feb_2022/50.50.10/scr_apop_wt_div/GV0797_Pos20_16_RFP_N_events saved out successfully',\n",
       "  '/media/nathan/Transcend/Nathan/data/analysis_results/radial_analysis_output/follow/feb_2022/50.50.10/scr_apop_wt_div/GV0797_Pos20_17_RFP_N_cells / /media/nathan/Transcend/Nathan/data/analysis_results/radial_analysis_output/follow/feb_2022/50.50.10/scr_apop_wt_div/GV0797_Pos20_17_RFP_N_events saved out successfully',\n",
       "  '/media/nathan/Transcend/Nathan/data/analysis_results/radial_analysis_output/follow/feb_2022/50.50.10/scr_apop_wt_div/GV0797_Pos20_7_RFP_N_cells / /media/nathan/Transcend/Nathan/data/analysis_results/radial_analysis_output/follow/feb_2022/50.50.10/scr_apop_wt_div/GV0797_Pos20_7_RFP_N_events saved out successfully',\n",
       "  '/media/nathan/Transcend/Nathan/data/analysis_results/radial_analysis_output/follow/feb_2022/50.50.10/scr_apop_wt_div/GV0797_Pos20_48_RFP_N_cells / /media/nathan/Transcend/Nathan/data/analysis_results/radial_analysis_output/follow/feb_2022/50.50.10/scr_apop_wt_div/GV0797_Pos20_48_RFP_N_events saved out successfully',\n",
       "  '/media/nathan/Transcend/Nathan/data/analysis_results/radial_analysis_output/follow/feb_2022/50.50.10/scr_apop_wt_div/GV0797_Pos20_145_RFP_N_cells / /media/nathan/Transcend/Nathan/data/analysis_results/radial_analysis_output/follow/feb_2022/50.50.10/scr_apop_wt_div/GV0797_Pos20_145_RFP_N_events saved out successfully',\n",
       "  '/media/nathan/Transcend/Nathan/data/analysis_results/radial_analysis_output/follow/feb_2022/50.50.10/scr_apop_wt_div/GV0797_Pos20_146_RFP_N_cells / /media/nathan/Transcend/Nathan/data/analysis_results/radial_analysis_output/follow/feb_2022/50.50.10/scr_apop_wt_div/GV0797_Pos20_146_RFP_N_events saved out successfully',\n",
       "  '/media/nathan/Transcend/Nathan/data/analysis_results/radial_analysis_output/follow/feb_2022/50.50.10/scr_apop_wt_div/GV0797_Pos21_78_RFP_N_cells / /media/nathan/Transcend/Nathan/data/analysis_results/radial_analysis_output/follow/feb_2022/50.50.10/scr_apop_wt_div/GV0797_Pos21_78_RFP_N_events saved out successfully',\n",
       "  '/media/nathan/Transcend/Nathan/data/analysis_results/radial_analysis_output/follow/feb_2022/50.50.10/scr_apop_wt_div/GV0797_Pos21_54_RFP_N_cells / /media/nathan/Transcend/Nathan/data/analysis_results/radial_analysis_output/follow/feb_2022/50.50.10/scr_apop_wt_div/GV0797_Pos21_54_RFP_N_events saved out successfully',\n",
       "  '/media/nathan/Transcend/Nathan/data/analysis_results/radial_analysis_output/follow/feb_2022/50.50.10/scr_apop_wt_div/GV0797_Pos21_55_RFP_N_cells / /media/nathan/Transcend/Nathan/data/analysis_results/radial_analysis_output/follow/feb_2022/50.50.10/scr_apop_wt_div/GV0797_Pos21_55_RFP_N_events saved out successfully',\n",
       "  '/media/nathan/Transcend/Nathan/data/analysis_results/radial_analysis_output/follow/feb_2022/50.50.10/scr_apop_wt_div/GV0797_Pos21_83_RFP_N_cells / /media/nathan/Transcend/Nathan/data/analysis_results/radial_analysis_output/follow/feb_2022/50.50.10/scr_apop_wt_div/GV0797_Pos21_83_RFP_N_events saved out successfully',\n",
       "  '/media/nathan/Transcend/Nathan/data/analysis_results/radial_analysis_output/follow/feb_2022/50.50.10/scr_apop_wt_div/GV0797_Pos21_302_RFP_N_cells / /media/nathan/Transcend/Nathan/data/analysis_results/radial_analysis_output/follow/feb_2022/50.50.10/scr_apop_wt_div/GV0797_Pos21_302_RFP_N_events saved out successfully',\n",
       "  '/media/nathan/Transcend/Nathan/data/analysis_results/radial_analysis_output/follow/feb_2022/50.50.10/scr_apop_wt_div/GV0797_Pos21_22_RFP_N_cells / /media/nathan/Transcend/Nathan/data/analysis_results/radial_analysis_output/follow/feb_2022/50.50.10/scr_apop_wt_div/GV0797_Pos21_22_RFP_N_events saved out successfully',\n",
       "  '/media/nathan/Transcend/Nathan/data/analysis_results/radial_analysis_output/follow/feb_2022/50.50.10/scr_apop_wt_div/GV0797_Pos21_335_RFP_N_cells / /media/nathan/Transcend/Nathan/data/analysis_results/radial_analysis_output/follow/feb_2022/50.50.10/scr_apop_wt_div/GV0797_Pos21_335_RFP_N_events saved out successfully',\n",
       "  '/media/nathan/Transcend/Nathan/data/analysis_results/radial_analysis_output/follow/feb_2022/50.50.10/scr_apop_wt_div/GV0797_Pos21_334_RFP_N_cells / /media/nathan/Transcend/Nathan/data/analysis_results/radial_analysis_output/follow/feb_2022/50.50.10/scr_apop_wt_div/GV0797_Pos21_334_RFP_N_events saved out successfully',\n",
       "  '/media/nathan/Transcend/Nathan/data/analysis_results/radial_analysis_output/follow/feb_2022/50.50.10/scr_apop_wt_div/GV0797_Pos21_35_RFP_N_cells / /media/nathan/Transcend/Nathan/data/analysis_results/radial_analysis_output/follow/feb_2022/50.50.10/scr_apop_wt_div/GV0797_Pos21_35_RFP_N_events saved out successfully',\n",
       "  '/media/nathan/Transcend/Nathan/data/analysis_results/radial_analysis_output/follow/feb_2022/50.50.10/scr_apop_wt_div/GV0798_Pos20_239_RFP_N_cells / /media/nathan/Transcend/Nathan/data/analysis_results/radial_analysis_output/follow/feb_2022/50.50.10/scr_apop_wt_div/GV0798_Pos20_239_RFP_N_events saved out successfully',\n",
       "  '/media/nathan/Transcend/Nathan/data/analysis_results/radial_analysis_output/follow/feb_2022/50.50.10/scr_apop_wt_div/GV0798_Pos20_246_RFP_N_cells / /media/nathan/Transcend/Nathan/data/analysis_results/radial_analysis_output/follow/feb_2022/50.50.10/scr_apop_wt_div/GV0798_Pos20_246_RFP_N_events saved out successfully',\n",
       "  '/media/nathan/Transcend/Nathan/data/analysis_results/radial_analysis_output/follow/feb_2022/50.50.10/scr_apop_wt_div/GV0798_Pos20_267_RFP_N_cells / /media/nathan/Transcend/Nathan/data/analysis_results/radial_analysis_output/follow/feb_2022/50.50.10/scr_apop_wt_div/GV0798_Pos20_267_RFP_N_events saved out successfully',\n",
       "  '/media/nathan/Transcend/Nathan/data/analysis_results/radial_analysis_output/follow/feb_2022/50.50.10/scr_apop_wt_div/GV0798_Pos20_311_RFP_N_cells / /media/nathan/Transcend/Nathan/data/analysis_results/radial_analysis_output/follow/feb_2022/50.50.10/scr_apop_wt_div/GV0798_Pos20_311_RFP_N_events saved out successfully',\n",
       "  '/media/nathan/Transcend/Nathan/data/analysis_results/radial_analysis_output/follow/feb_2022/50.50.10/scr_apop_wt_div/GV0798_Pos20_263_RFP_N_cells / /media/nathan/Transcend/Nathan/data/analysis_results/radial_analysis_output/follow/feb_2022/50.50.10/scr_apop_wt_div/GV0798_Pos20_263_RFP_N_events saved out successfully',\n",
       "  '/media/nathan/Transcend/Nathan/data/analysis_results/radial_analysis_output/follow/feb_2022/50.50.10/scr_apop_wt_div/GV0798_Pos20_240_RFP_N_cells / /media/nathan/Transcend/Nathan/data/analysis_results/radial_analysis_output/follow/feb_2022/50.50.10/scr_apop_wt_div/GV0798_Pos20_240_RFP_N_events saved out successfully',\n",
       "  '/media/nathan/Transcend/Nathan/data/analysis_results/radial_analysis_output/follow/feb_2022/50.50.10/scr_apop_wt_div/GV0798_Pos20_173_RFP_N_cells / /media/nathan/Transcend/Nathan/data/analysis_results/radial_analysis_output/follow/feb_2022/50.50.10/scr_apop_wt_div/GV0798_Pos20_173_RFP_N_events saved out successfully',\n",
       "  '/media/nathan/Transcend/Nathan/data/analysis_results/radial_analysis_output/follow/feb_2022/50.50.10/scr_apop_wt_div/GV0798_Pos20_310_RFP_N_cells / /media/nathan/Transcend/Nathan/data/analysis_results/radial_analysis_output/follow/feb_2022/50.50.10/scr_apop_wt_div/GV0798_Pos20_310_RFP_N_events saved out successfully',\n",
       "  '/media/nathan/Transcend/Nathan/data/analysis_results/radial_analysis_output/follow/feb_2022/50.50.10/scr_apop_wt_div/GV0798_Pos20_343_RFP_N_cells / /media/nathan/Transcend/Nathan/data/analysis_results/radial_analysis_output/follow/feb_2022/50.50.10/scr_apop_wt_div/GV0798_Pos20_343_RFP_N_events saved out successfully',\n",
       "  '/media/nathan/Transcend/Nathan/data/analysis_results/radial_analysis_output/follow/feb_2022/50.50.10/scr_apop_wt_div/GV0798_Pos20_442_RFP_N_cells / /media/nathan/Transcend/Nathan/data/analysis_results/radial_analysis_output/follow/feb_2022/50.50.10/scr_apop_wt_div/GV0798_Pos20_442_RFP_N_events saved out successfully',\n",
       "  '/media/nathan/Transcend/Nathan/data/analysis_results/radial_analysis_output/follow/feb_2022/50.50.10/scr_apop_wt_div/GV0798_Pos20_502_RFP_N_cells / /media/nathan/Transcend/Nathan/data/analysis_results/radial_analysis_output/follow/feb_2022/50.50.10/scr_apop_wt_div/GV0798_Pos20_502_RFP_N_events saved out successfully',\n",
       "  '/media/nathan/Transcend/Nathan/data/analysis_results/radial_analysis_output/follow/feb_2022/50.50.10/scr_apop_wt_div/GV0798_Pos20_503_RFP_N_cells / /media/nathan/Transcend/Nathan/data/analysis_results/radial_analysis_output/follow/feb_2022/50.50.10/scr_apop_wt_div/GV0798_Pos20_503_RFP_N_events saved out successfully',\n",
       "  '/media/nathan/Transcend/Nathan/data/analysis_results/radial_analysis_output/follow/feb_2022/50.50.10/scr_apop_wt_div/GV0798_Pos20_514_RFP_N_cells / /media/nathan/Transcend/Nathan/data/analysis_results/radial_analysis_output/follow/feb_2022/50.50.10/scr_apop_wt_div/GV0798_Pos20_514_RFP_N_events saved out successfully',\n",
       "  '/media/nathan/Transcend/Nathan/data/analysis_results/radial_analysis_output/follow/feb_2022/50.50.10/scr_apop_wt_div/GV0798_Pos20_513_RFP_N_cells / /media/nathan/Transcend/Nathan/data/analysis_results/radial_analysis_output/follow/feb_2022/50.50.10/scr_apop_wt_div/GV0798_Pos20_513_RFP_N_events saved out successfully',\n",
       "  '/media/nathan/Transcend/Nathan/data/analysis_results/radial_analysis_output/follow/feb_2022/50.50.10/scr_apop_wt_div/GV0798_Pos20_441_RFP_N_cells / /media/nathan/Transcend/Nathan/data/analysis_results/radial_analysis_output/follow/feb_2022/50.50.10/scr_apop_wt_div/GV0798_Pos20_441_RFP_N_events saved out successfully',\n",
       "  '/media/nathan/Transcend/Nathan/data/analysis_results/radial_analysis_output/follow/feb_2022/50.50.10/scr_apop_wt_div/GV0798_Pos20_190_RFP_N_cells / /media/nathan/Transcend/Nathan/data/analysis_results/radial_analysis_output/follow/feb_2022/50.50.10/scr_apop_wt_div/GV0798_Pos20_190_RFP_N_events saved out successfully',\n",
       "  '/media/nathan/Transcend/Nathan/data/analysis_results/radial_analysis_output/follow/feb_2022/50.50.10/scr_apop_wt_div/GV0798_Pos20_581_RFP_N_cells / /media/nathan/Transcend/Nathan/data/analysis_results/radial_analysis_output/follow/feb_2022/50.50.10/scr_apop_wt_div/GV0798_Pos20_581_RFP_N_events saved out successfully',\n",
       "  '/media/nathan/Transcend/Nathan/data/analysis_results/radial_analysis_output/follow/feb_2022/50.50.10/scr_apop_wt_div/GV0798_Pos20_580_RFP_N_cells / /media/nathan/Transcend/Nathan/data/analysis_results/radial_analysis_output/follow/feb_2022/50.50.10/scr_apop_wt_div/GV0798_Pos20_580_RFP_N_events saved out successfully',\n",
       "  '/media/nathan/Transcend/Nathan/data/analysis_results/radial_analysis_output/follow/feb_2022/50.50.10/scr_apop_wt_div/GV0798_Pos21_28_RFP_N_cells / /media/nathan/Transcend/Nathan/data/analysis_results/radial_analysis_output/follow/feb_2022/50.50.10/scr_apop_wt_div/GV0798_Pos21_28_RFP_N_events saved out successfully',\n",
       "  '/media/nathan/Transcend/Nathan/data/analysis_results/radial_analysis_output/follow/feb_2022/50.50.10/scr_apop_wt_div/GV0798_Pos21_32_RFP_N_cells / /media/nathan/Transcend/Nathan/data/analysis_results/radial_analysis_output/follow/feb_2022/50.50.10/scr_apop_wt_div/GV0798_Pos21_32_RFP_N_events saved out successfully',\n",
       "  '/media/nathan/Transcend/Nathan/data/analysis_results/radial_analysis_output/follow/feb_2022/50.50.10/scr_apop_wt_div/GV0798_Pos21_3_RFP_N_cells / /media/nathan/Transcend/Nathan/data/analysis_results/radial_analysis_output/follow/feb_2022/50.50.10/scr_apop_wt_div/GV0798_Pos21_3_RFP_N_events saved out successfully',\n",
       "  '/media/nathan/Transcend/Nathan/data/analysis_results/radial_analysis_output/follow/feb_2022/50.50.10/scr_apop_wt_div/GV0798_Pos21_398_RFP_N_cells / /media/nathan/Transcend/Nathan/data/analysis_results/radial_analysis_output/follow/feb_2022/50.50.10/scr_apop_wt_div/GV0798_Pos21_398_RFP_N_events saved out successfully',\n",
       "  '/media/nathan/Transcend/Nathan/data/analysis_results/radial_analysis_output/follow/feb_2022/50.50.10/scr_apop_wt_div/GV0798_Pos21_43_RFP_N_cells / /media/nathan/Transcend/Nathan/data/analysis_results/radial_analysis_output/follow/feb_2022/50.50.10/scr_apop_wt_div/GV0798_Pos21_43_RFP_N_events saved out successfully',\n",
       "  '/media/nathan/Transcend/Nathan/data/analysis_results/radial_analysis_output/follow/feb_2022/50.50.10/scr_apop_wt_div/GV0798_Pos21_850_RFP_N_cells / /media/nathan/Transcend/Nathan/data/analysis_results/radial_analysis_output/follow/feb_2022/50.50.10/scr_apop_wt_div/GV0798_Pos21_850_RFP_N_events saved out successfully',\n",
       "  '/media/nathan/Transcend/Nathan/data/analysis_results/radial_analysis_output/follow/feb_2022/50.50.10/scr_apop_wt_div/GV0798_Pos21_133_RFP_N_cells / /media/nathan/Transcend/Nathan/data/analysis_results/radial_analysis_output/follow/feb_2022/50.50.10/scr_apop_wt_div/GV0798_Pos21_133_RFP_N_events saved out successfully',\n",
       "  '/media/nathan/Transcend/Nathan/data/analysis_results/radial_analysis_output/follow/feb_2022/50.50.10/scr_apop_wt_div/GV0798_Pos21_365_RFP_N_cells / /media/nathan/Transcend/Nathan/data/analysis_results/radial_analysis_output/follow/feb_2022/50.50.10/scr_apop_wt_div/GV0798_Pos21_365_RFP_N_events saved out successfully',\n",
       "  '/media/nathan/Transcend/Nathan/data/analysis_results/radial_analysis_output/follow/feb_2022/50.50.10/scr_apop_wt_div/GV0798_Pos21_558_RFP_N_cells / /media/nathan/Transcend/Nathan/data/analysis_results/radial_analysis_output/follow/feb_2022/50.50.10/scr_apop_wt_div/GV0798_Pos21_558_RFP_N_events saved out successfully',\n",
       "  '/media/nathan/Transcend/Nathan/data/analysis_results/radial_analysis_output/follow/feb_2022/50.50.10/scr_apop_wt_div/GV0798_Pos21_7_RFP_N_cells / /media/nathan/Transcend/Nathan/data/analysis_results/radial_analysis_output/follow/feb_2022/50.50.10/scr_apop_wt_div/GV0798_Pos21_7_RFP_N_events saved out successfully',\n",
       "  '/media/nathan/Transcend/Nathan/data/analysis_results/radial_analysis_output/follow/feb_2022/50.50.10/scr_apop_wt_div/GV0798_Pos21_906_RFP_N_cells / /media/nathan/Transcend/Nathan/data/analysis_results/radial_analysis_output/follow/feb_2022/50.50.10/scr_apop_wt_div/GV0798_Pos21_906_RFP_N_events saved out successfully',\n",
       "  '/media/nathan/Transcend/Nathan/data/analysis_results/radial_analysis_output/follow/feb_2022/50.50.10/scr_apop_wt_div/GV0798_Pos21_582_RFP_N_cells / /media/nathan/Transcend/Nathan/data/analysis_results/radial_analysis_output/follow/feb_2022/50.50.10/scr_apop_wt_div/GV0798_Pos21_582_RFP_N_events saved out successfully',\n",
       "  '/media/nathan/Transcend/Nathan/data/analysis_results/radial_analysis_output/follow/feb_2022/50.50.10/scr_apop_wt_div/GV0798_Pos21_4_RFP_N_cells / /media/nathan/Transcend/Nathan/data/analysis_results/radial_analysis_output/follow/feb_2022/50.50.10/scr_apop_wt_div/GV0798_Pos21_4_RFP_N_events saved out successfully',\n",
       "  '/media/nathan/Transcend/Nathan/data/analysis_results/radial_analysis_output/follow/feb_2022/50.50.10/scr_apop_wt_div/GV0798_Pos21_9_RFP_N_cells / /media/nathan/Transcend/Nathan/data/analysis_results/radial_analysis_output/follow/feb_2022/50.50.10/scr_apop_wt_div/GV0798_Pos21_9_RFP_N_events saved out successfully',\n",
       "  '/media/nathan/Transcend/Nathan/data/analysis_results/radial_analysis_output/follow/feb_2022/50.50.10/scr_apop_wt_div/GV0798_Pos21_13_RFP_N_cells / /media/nathan/Transcend/Nathan/data/analysis_results/radial_analysis_output/follow/feb_2022/50.50.10/scr_apop_wt_div/GV0798_Pos21_13_RFP_N_events saved out successfully',\n",
       "  '/media/nathan/Transcend/Nathan/data/analysis_results/radial_analysis_output/follow/feb_2022/50.50.10/scr_apop_wt_div/GV0801_Pos4_14_RFP_N_cells / /media/nathan/Transcend/Nathan/data/analysis_results/radial_analysis_output/follow/feb_2022/50.50.10/scr_apop_wt_div/GV0801_Pos4_14_RFP_N_events saved out successfully',\n",
       "  '/media/nathan/Transcend/Nathan/data/analysis_results/radial_analysis_output/follow/feb_2022/50.50.10/scr_apop_wt_div/GV0801_Pos4_392_RFP_N_cells / /media/nathan/Transcend/Nathan/data/analysis_results/radial_analysis_output/follow/feb_2022/50.50.10/scr_apop_wt_div/GV0801_Pos4_392_RFP_N_events saved out successfully',\n",
       "  '/media/nathan/Transcend/Nathan/data/analysis_results/radial_analysis_output/follow/feb_2022/50.50.10/scr_apop_wt_div/GV0801_Pos4_373_RFP_N_cells / /media/nathan/Transcend/Nathan/data/analysis_results/radial_analysis_output/follow/feb_2022/50.50.10/scr_apop_wt_div/GV0801_Pos4_373_RFP_N_events saved out successfully',\n",
       "  '/media/nathan/Transcend/Nathan/data/analysis_results/radial_analysis_output/follow/feb_2022/50.50.10/scr_apop_wt_div/GV0801_Pos4_37_RFP_N_cells / /media/nathan/Transcend/Nathan/data/analysis_results/radial_analysis_output/follow/feb_2022/50.50.10/scr_apop_wt_div/GV0801_Pos4_37_RFP_N_events saved out successfully',\n",
       "  '/media/nathan/Transcend/Nathan/data/analysis_results/radial_analysis_output/follow/feb_2022/50.50.10/scr_apop_wt_div/GV0801_Pos4_280_RFP_N_cells / /media/nathan/Transcend/Nathan/data/analysis_results/radial_analysis_output/follow/feb_2022/50.50.10/scr_apop_wt_div/GV0801_Pos4_280_RFP_N_events saved out successfully',\n",
       "  '/media/nathan/Transcend/Nathan/data/analysis_results/radial_analysis_output/follow/feb_2022/50.50.10/scr_apop_wt_div/GV0801_Pos4_416_RFP_N_cells / /media/nathan/Transcend/Nathan/data/analysis_results/radial_analysis_output/follow/feb_2022/50.50.10/scr_apop_wt_div/GV0801_Pos4_416_RFP_N_events saved out successfully',\n",
       "  '/media/nathan/Transcend/Nathan/data/analysis_results/radial_analysis_output/follow/feb_2022/50.50.10/scr_apop_wt_div/GV0801_Pos4_374_RFP_N_cells / /media/nathan/Transcend/Nathan/data/analysis_results/radial_analysis_output/follow/feb_2022/50.50.10/scr_apop_wt_div/GV0801_Pos4_374_RFP_N_events saved out successfully',\n",
       "  '/media/nathan/Transcend/Nathan/data/analysis_results/radial_analysis_output/follow/feb_2022/50.50.10/scr_apop_wt_div/GV0801_Pos4_580_RFP_N_cells / /media/nathan/Transcend/Nathan/data/analysis_results/radial_analysis_output/follow/feb_2022/50.50.10/scr_apop_wt_div/GV0801_Pos4_580_RFP_N_events saved out successfully',\n",
       "  '/media/nathan/Transcend/Nathan/data/analysis_results/radial_analysis_output/follow/feb_2022/50.50.10/scr_apop_wt_div/GV0801_Pos4_25_RFP_N_cells / /media/nathan/Transcend/Nathan/data/analysis_results/radial_analysis_output/follow/feb_2022/50.50.10/scr_apop_wt_div/GV0801_Pos4_25_RFP_N_events saved out successfully',\n",
       "  '/media/nathan/Transcend/Nathan/data/analysis_results/radial_analysis_output/follow/feb_2022/50.50.10/scr_apop_wt_div/GV0801_Pos4_149_RFP_N_cells / /media/nathan/Transcend/Nathan/data/analysis_results/radial_analysis_output/follow/feb_2022/50.50.10/scr_apop_wt_div/GV0801_Pos4_149_RFP_N_events saved out successfully',\n",
       "  '/media/nathan/Transcend/Nathan/data/analysis_results/radial_analysis_output/follow/feb_2022/50.50.10/scr_apop_wt_div/GV0801_Pos4_10_RFP_N_cells / /media/nathan/Transcend/Nathan/data/analysis_results/radial_analysis_output/follow/feb_2022/50.50.10/scr_apop_wt_div/GV0801_Pos4_10_RFP_N_events saved out successfully',\n",
       "  '/media/nathan/Transcend/Nathan/data/analysis_results/radial_analysis_output/follow/feb_2022/50.50.10/scr_apop_wt_div/GV0801_Pos4_535_RFP_N_cells / /media/nathan/Transcend/Nathan/data/analysis_results/radial_analysis_output/follow/feb_2022/50.50.10/scr_apop_wt_div/GV0801_Pos4_535_RFP_N_events saved out successfully',\n",
       "  '/media/nathan/Transcend/Nathan/data/analysis_results/radial_analysis_output/follow/feb_2022/50.50.10/scr_apop_wt_div/GV0801_Pos4_487_RFP_N_cells / /media/nathan/Transcend/Nathan/data/analysis_results/radial_analysis_output/follow/feb_2022/50.50.10/scr_apop_wt_div/GV0801_Pos4_487_RFP_N_events saved out successfully',\n",
       "  '/media/nathan/Transcend/Nathan/data/analysis_results/radial_analysis_output/follow/feb_2022/50.50.10/scr_apop_wt_div/GV0801_Pos4_503_RFP_N_cells / /media/nathan/Transcend/Nathan/data/analysis_results/radial_analysis_output/follow/feb_2022/50.50.10/scr_apop_wt_div/GV0801_Pos4_503_RFP_N_events saved out successfully',\n",
       "  '/media/nathan/Transcend/Nathan/data/analysis_results/radial_analysis_output/follow/feb_2022/50.50.10/scr_apop_wt_div/GV0802_Pos4_23_RFP_N_cells / /media/nathan/Transcend/Nathan/data/analysis_results/radial_analysis_output/follow/feb_2022/50.50.10/scr_apop_wt_div/GV0802_Pos4_23_RFP_N_events saved out successfully',\n",
       "  '/media/nathan/Transcend/Nathan/data/analysis_results/radial_analysis_output/follow/feb_2022/50.50.10/scr_apop_wt_div/GV0802_Pos4_28_RFP_N_cells / /media/nathan/Transcend/Nathan/data/analysis_results/radial_analysis_output/follow/feb_2022/50.50.10/scr_apop_wt_div/GV0802_Pos4_28_RFP_N_events saved out successfully',\n",
       "  '/media/nathan/Transcend/Nathan/data/analysis_results/radial_analysis_output/follow/feb_2022/50.50.10/scr_apop_wt_div/GV0802_Pos4_18_RFP_N_cells / /media/nathan/Transcend/Nathan/data/analysis_results/radial_analysis_output/follow/feb_2022/50.50.10/scr_apop_wt_div/GV0802_Pos4_18_RFP_N_events saved out successfully',\n",
       "  '/media/nathan/Transcend/Nathan/data/analysis_results/radial_analysis_output/follow/feb_2022/50.50.10/scr_apop_wt_div/GV0802_Pos4_12_RFP_N_cells / /media/nathan/Transcend/Nathan/data/analysis_results/radial_analysis_output/follow/feb_2022/50.50.10/scr_apop_wt_div/GV0802_Pos4_12_RFP_N_events saved out successfully',\n",
       "  '/media/nathan/Transcend/Nathan/data/analysis_results/radial_analysis_output/follow/feb_2022/50.50.10/scr_apop_wt_div/GV0802_Pos4_198_RFP_N_cells / /media/nathan/Transcend/Nathan/data/analysis_results/radial_analysis_output/follow/feb_2022/50.50.10/scr_apop_wt_div/GV0802_Pos4_198_RFP_N_events saved out successfully',\n",
       "  '/media/nathan/Transcend/Nathan/data/analysis_results/radial_analysis_output/follow/feb_2022/50.50.10/scr_apop_wt_div/GV0802_Pos4_275_RFP_N_cells / /media/nathan/Transcend/Nathan/data/analysis_results/radial_analysis_output/follow/feb_2022/50.50.10/scr_apop_wt_div/GV0802_Pos4_275_RFP_N_events saved out successfully',\n",
       "  '/media/nathan/Transcend/Nathan/data/analysis_results/radial_analysis_output/follow/feb_2022/50.50.10/scr_apop_wt_div/GV0802_Pos4_245_RFP_N_cells / /media/nathan/Transcend/Nathan/data/analysis_results/radial_analysis_output/follow/feb_2022/50.50.10/scr_apop_wt_div/GV0802_Pos4_245_RFP_N_events saved out successfully',\n",
       "  '/media/nathan/Transcend/Nathan/data/analysis_results/radial_analysis_output/follow/feb_2022/50.50.10/scr_apop_wt_div/GV0802_Pos4_353_RFP_N_cells / /media/nathan/Transcend/Nathan/data/analysis_results/radial_analysis_output/follow/feb_2022/50.50.10/scr_apop_wt_div/GV0802_Pos4_353_RFP_N_events saved out successfully',\n",
       "  '/media/nathan/Transcend/Nathan/data/analysis_results/radial_analysis_output/follow/feb_2022/50.50.10/scr_apop_wt_div/GV0802_Pos4_272_RFP_N_cells / /media/nathan/Transcend/Nathan/data/analysis_results/radial_analysis_output/follow/feb_2022/50.50.10/scr_apop_wt_div/GV0802_Pos4_272_RFP_N_events saved out successfully',\n",
       "  '/media/nathan/Transcend/Nathan/data/analysis_results/radial_analysis_output/follow/feb_2022/50.50.10/scr_apop_wt_div/GV0802_Pos4_276_RFP_N_cells / /media/nathan/Transcend/Nathan/data/analysis_results/radial_analysis_output/follow/feb_2022/50.50.10/scr_apop_wt_div/GV0802_Pos4_276_RFP_N_events saved out successfully',\n",
       "  '/media/nathan/Transcend/Nathan/data/analysis_results/radial_analysis_output/follow/feb_2022/50.50.10/scr_apop_wt_div/GV0802_Pos4_3_RFP_N_cells / /media/nathan/Transcend/Nathan/data/analysis_results/radial_analysis_output/follow/feb_2022/50.50.10/scr_apop_wt_div/GV0802_Pos4_3_RFP_N_events saved out successfully',\n",
       "  '/media/nathan/Transcend/Nathan/data/analysis_results/radial_analysis_output/follow/feb_2022/50.50.10/scr_apop_wt_div/GV0802_Pos4_31_RFP_N_cells / /media/nathan/Transcend/Nathan/data/analysis_results/radial_analysis_output/follow/feb_2022/50.50.10/scr_apop_wt_div/GV0802_Pos4_31_RFP_N_events saved out successfully',\n",
       "  '/media/nathan/Transcend/Nathan/data/analysis_results/radial_analysis_output/follow/feb_2022/50.50.10/scr_apop_wt_div/GV0805_Pos4_2_RFP_N_cells / /media/nathan/Transcend/Nathan/data/analysis_results/radial_analysis_output/follow/feb_2022/50.50.10/scr_apop_wt_div/GV0805_Pos4_2_RFP_N_events saved out successfully',\n",
       "  '/media/nathan/Transcend/Nathan/data/analysis_results/radial_analysis_output/follow/feb_2022/50.50.10/scr_apop_wt_div/GV0805_Pos4_33_RFP_N_cells / /media/nathan/Transcend/Nathan/data/analysis_results/radial_analysis_output/follow/feb_2022/50.50.10/scr_apop_wt_div/GV0805_Pos4_33_RFP_N_events saved out successfully',\n",
       "  '/media/nathan/Transcend/Nathan/data/analysis_results/radial_analysis_output/follow/feb_2022/50.50.10/scr_apop_wt_div/GV0805_Pos4_327_RFP_N_cells / /media/nathan/Transcend/Nathan/data/analysis_results/radial_analysis_output/follow/feb_2022/50.50.10/scr_apop_wt_div/GV0805_Pos4_327_RFP_N_events saved out successfully',\n",
       "  '/media/nathan/Transcend/Nathan/data/analysis_results/radial_analysis_output/follow/feb_2022/50.50.10/scr_apop_wt_div/GV0805_Pos4_434_RFP_N_cells / /media/nathan/Transcend/Nathan/data/analysis_results/radial_analysis_output/follow/feb_2022/50.50.10/scr_apop_wt_div/GV0805_Pos4_434_RFP_N_events saved out successfully',\n",
       "  '/media/nathan/Transcend/Nathan/data/analysis_results/radial_analysis_output/follow/feb_2022/50.50.10/scr_apop_wt_div/GV0805_Pos4_433_RFP_N_cells / /media/nathan/Transcend/Nathan/data/analysis_results/radial_analysis_output/follow/feb_2022/50.50.10/scr_apop_wt_div/GV0805_Pos4_433_RFP_N_events saved out successfully',\n",
       "  '/media/nathan/Transcend/Nathan/data/analysis_results/radial_analysis_output/follow/feb_2022/50.50.10/scr_apop_wt_div/GV0805_Pos4_405_RFP_N_cells / /media/nathan/Transcend/Nathan/data/analysis_results/radial_analysis_output/follow/feb_2022/50.50.10/scr_apop_wt_div/GV0805_Pos4_405_RFP_N_events saved out successfully',\n",
       "  '/media/nathan/Transcend/Nathan/data/analysis_results/radial_analysis_output/follow/feb_2022/50.50.10/scr_apop_wt_div/GV0805_Pos4_303_RFP_N_cells / /media/nathan/Transcend/Nathan/data/analysis_results/radial_analysis_output/follow/feb_2022/50.50.10/scr_apop_wt_div/GV0805_Pos4_303_RFP_N_events saved out successfully',\n",
       "  '/media/nathan/Transcend/Nathan/data/analysis_results/radial_analysis_output/follow/feb_2022/50.50.10/scr_apop_wt_div/GV0805_Pos4_454_RFP_N_cells / /media/nathan/Transcend/Nathan/data/analysis_results/radial_analysis_output/follow/feb_2022/50.50.10/scr_apop_wt_div/GV0805_Pos4_454_RFP_N_events saved out successfully',\n",
       "  '/media/nathan/Transcend/Nathan/data/analysis_results/radial_analysis_output/follow/feb_2022/50.50.10/scr_apop_wt_div/GV0805_Pos4_453_RFP_N_cells / /media/nathan/Transcend/Nathan/data/analysis_results/radial_analysis_output/follow/feb_2022/50.50.10/scr_apop_wt_div/GV0805_Pos4_453_RFP_N_events saved out successfully',\n",
       "  '/media/nathan/Transcend/Nathan/data/analysis_results/radial_analysis_output/follow/feb_2022/50.50.10/scr_apop_wt_div/GV0805_Pos4_471_RFP_N_cells / /media/nathan/Transcend/Nathan/data/analysis_results/radial_analysis_output/follow/feb_2022/50.50.10/scr_apop_wt_div/GV0805_Pos4_471_RFP_N_events saved out successfully',\n",
       "  '/media/nathan/Transcend/Nathan/data/analysis_results/radial_analysis_output/follow/feb_2022/50.50.10/scr_apop_wt_div/GV0805_Pos4_305_RFP_N_cells / /media/nathan/Transcend/Nathan/data/analysis_results/radial_analysis_output/follow/feb_2022/50.50.10/scr_apop_wt_div/GV0805_Pos4_305_RFP_N_events saved out successfully',\n",
       "  '/media/nathan/Transcend/Nathan/data/analysis_results/radial_analysis_output/follow/feb_2022/50.50.10/scr_apop_wt_div/GV0805_Pos4_468_RFP_N_cells / /media/nathan/Transcend/Nathan/data/analysis_results/radial_analysis_output/follow/feb_2022/50.50.10/scr_apop_wt_div/GV0805_Pos4_468_RFP_N_events saved out successfully',\n",
       "  '/media/nathan/Transcend/Nathan/data/analysis_results/radial_analysis_output/follow/feb_2022/50.50.10/scr_apop_wt_div/GV0805_Pos4_374_RFP_N_cells / /media/nathan/Transcend/Nathan/data/analysis_results/radial_analysis_output/follow/feb_2022/50.50.10/scr_apop_wt_div/GV0805_Pos4_374_RFP_N_events saved out successfully',\n",
       "  '/media/nathan/Transcend/Nathan/data/analysis_results/radial_analysis_output/follow/feb_2022/50.50.10/scr_apop_wt_div/GV0805_Pos4_302_RFP_N_cells / /media/nathan/Transcend/Nathan/data/analysis_results/radial_analysis_output/follow/feb_2022/50.50.10/scr_apop_wt_div/GV0805_Pos4_302_RFP_N_events saved out successfully',\n",
       "  '/media/nathan/Transcend/Nathan/data/analysis_results/radial_analysis_output/follow/feb_2022/50.50.10/scr_apop_wt_div/GV0805_Pos4_701_RFP_N_cells / /media/nathan/Transcend/Nathan/data/analysis_results/radial_analysis_output/follow/feb_2022/50.50.10/scr_apop_wt_div/GV0805_Pos4_701_RFP_N_events saved out successfully',\n",
       "  '/media/nathan/Transcend/Nathan/data/analysis_results/radial_analysis_output/follow/feb_2022/50.50.10/scr_apop_wt_div/GV0805_Pos4_702_RFP_N_cells / /media/nathan/Transcend/Nathan/data/analysis_results/radial_analysis_output/follow/feb_2022/50.50.10/scr_apop_wt_div/GV0805_Pos4_702_RFP_N_events saved out successfully',\n",
       "  '/media/nathan/Transcend/Nathan/data/analysis_results/radial_analysis_output/follow/feb_2022/50.50.10/scr_apop_wt_div/GV0805_Pos4_592_RFP_N_cells / /media/nathan/Transcend/Nathan/data/analysis_results/radial_analysis_output/follow/feb_2022/50.50.10/scr_apop_wt_div/GV0805_Pos4_592_RFP_N_events saved out successfully',\n",
       "  '/media/nathan/Transcend/Nathan/data/analysis_results/radial_analysis_output/follow/feb_2022/50.50.10/scr_apop_wt_div/GV0805_Pos4_373_RFP_N_cells / /media/nathan/Transcend/Nathan/data/analysis_results/radial_analysis_output/follow/feb_2022/50.50.10/scr_apop_wt_div/GV0805_Pos4_373_RFP_N_events saved out successfully',\n",
       "  '/media/nathan/Transcend/Nathan/data/analysis_results/radial_analysis_output/follow/feb_2022/50.50.10/scr_apop_wt_div/GV0805_Pos4_745_RFP_N_cells / /media/nathan/Transcend/Nathan/data/analysis_results/radial_analysis_output/follow/feb_2022/50.50.10/scr_apop_wt_div/GV0805_Pos4_745_RFP_N_events saved out successfully',\n",
       "  '/media/nathan/Transcend/Nathan/data/analysis_results/radial_analysis_output/follow/feb_2022/50.50.10/scr_apop_wt_div/GV0805_Pos4_806_RFP_N_cells / /media/nathan/Transcend/Nathan/data/analysis_results/radial_analysis_output/follow/feb_2022/50.50.10/scr_apop_wt_div/GV0805_Pos4_806_RFP_N_events saved out successfully',\n",
       "  '/media/nathan/Transcend/Nathan/data/analysis_results/radial_analysis_output/follow/feb_2022/50.50.10/scr_apop_wt_div/GV0805_Pos4_29_RFP_N_cells / /media/nathan/Transcend/Nathan/data/analysis_results/radial_analysis_output/follow/feb_2022/50.50.10/scr_apop_wt_div/GV0805_Pos4_29_RFP_N_events saved out successfully',\n",
       "  '/media/nathan/Transcend/Nathan/data/analysis_results/radial_analysis_output/follow/feb_2022/50.50.10/scr_apop_wt_div/GV0805_Pos4_30_RFP_N_cells / /media/nathan/Transcend/Nathan/data/analysis_results/radial_analysis_output/follow/feb_2022/50.50.10/scr_apop_wt_div/GV0805_Pos4_30_RFP_N_events saved out successfully',\n",
       "  '/media/nathan/Transcend/Nathan/data/analysis_results/radial_analysis_output/follow/feb_2022/50.50.10/scr_apop_wt_div/GV0805_Pos4_84_RFP_N_cells / /media/nathan/Transcend/Nathan/data/analysis_results/radial_analysis_output/follow/feb_2022/50.50.10/scr_apop_wt_div/GV0805_Pos4_84_RFP_N_events saved out successfully',\n",
       "  '/media/nathan/Transcend/Nathan/data/analysis_results/radial_analysis_output/follow/feb_2022/50.50.10/scr_apop_wt_div/GV0806_Pos4_2_RFP_N_cells / /media/nathan/Transcend/Nathan/data/analysis_results/radial_analysis_output/follow/feb_2022/50.50.10/scr_apop_wt_div/GV0806_Pos4_2_RFP_N_events saved out successfully',\n",
       "  '/media/nathan/Transcend/Nathan/data/analysis_results/radial_analysis_output/follow/feb_2022/50.50.10/scr_apop_wt_div/GV0806_Pos4_51_RFP_N_cells / /media/nathan/Transcend/Nathan/data/analysis_results/radial_analysis_output/follow/feb_2022/50.50.10/scr_apop_wt_div/GV0806_Pos4_51_RFP_N_events saved out successfully',\n",
       "  '/media/nathan/Transcend/Nathan/data/analysis_results/radial_analysis_output/follow/feb_2022/50.50.10/scr_apop_wt_div/GV0806_Pos4_242_RFP_N_cells / /media/nathan/Transcend/Nathan/data/analysis_results/radial_analysis_output/follow/feb_2022/50.50.10/scr_apop_wt_div/GV0806_Pos4_242_RFP_N_events saved out successfully',\n",
       "  '/media/nathan/Transcend/Nathan/data/analysis_results/radial_analysis_output/follow/feb_2022/50.50.10/scr_apop_wt_div/GV0806_Pos4_156_RFP_N_cells / /media/nathan/Transcend/Nathan/data/analysis_results/radial_analysis_output/follow/feb_2022/50.50.10/scr_apop_wt_div/GV0806_Pos4_156_RFP_N_events saved out successfully',\n",
       "  '/media/nathan/Transcend/Nathan/data/analysis_results/radial_analysis_output/follow/feb_2022/50.50.10/scr_apop_wt_div/GV0806_Pos4_233_RFP_N_cells / /media/nathan/Transcend/Nathan/data/analysis_results/radial_analysis_output/follow/feb_2022/50.50.10/scr_apop_wt_div/GV0806_Pos4_233_RFP_N_events saved out successfully',\n",
       "  '/media/nathan/Transcend/Nathan/data/analysis_results/radial_analysis_output/follow/feb_2022/50.50.10/scr_apop_wt_div/GV0806_Pos4_337_RFP_N_cells / /media/nathan/Transcend/Nathan/data/analysis_results/radial_analysis_output/follow/feb_2022/50.50.10/scr_apop_wt_div/GV0806_Pos4_337_RFP_N_events saved out successfully',\n",
       "  '/media/nathan/Transcend/Nathan/data/analysis_results/radial_analysis_output/follow/feb_2022/50.50.10/scr_apop_wt_div/GV0806_Pos4_455_RFP_N_cells / /media/nathan/Transcend/Nathan/data/analysis_results/radial_analysis_output/follow/feb_2022/50.50.10/scr_apop_wt_div/GV0806_Pos4_455_RFP_N_events saved out successfully',\n",
       "  '/media/nathan/Transcend/Nathan/data/analysis_results/radial_analysis_output/follow/feb_2022/50.50.10/scr_apop_wt_div/GV0806_Pos4_415_RFP_N_cells / /media/nathan/Transcend/Nathan/data/analysis_results/radial_analysis_output/follow/feb_2022/50.50.10/scr_apop_wt_div/GV0806_Pos4_415_RFP_N_events saved out successfully',\n",
       "  '/media/nathan/Transcend/Nathan/data/analysis_results/radial_analysis_output/follow/feb_2022/50.50.10/scr_apop_wt_div/GV0806_Pos4_479_RFP_N_cells / /media/nathan/Transcend/Nathan/data/analysis_results/radial_analysis_output/follow/feb_2022/50.50.10/scr_apop_wt_div/GV0806_Pos4_479_RFP_N_events saved out successfully',\n",
       "  '/media/nathan/Transcend/Nathan/data/analysis_results/radial_analysis_output/follow/feb_2022/50.50.10/scr_apop_wt_div/GV0806_Pos4_409_RFP_N_cells / /media/nathan/Transcend/Nathan/data/analysis_results/radial_analysis_output/follow/feb_2022/50.50.10/scr_apop_wt_div/GV0806_Pos4_409_RFP_N_events saved out successfully',\n",
       "  '/media/nathan/Transcend/Nathan/data/analysis_results/radial_analysis_output/follow/feb_2022/50.50.10/scr_apop_wt_div/GV0806_Pos4_408_RFP_N_cells / /media/nathan/Transcend/Nathan/data/analysis_results/radial_analysis_output/follow/feb_2022/50.50.10/scr_apop_wt_div/GV0806_Pos4_408_RFP_N_events saved out successfully',\n",
       "  '/media/nathan/Transcend/Nathan/data/analysis_results/radial_analysis_output/follow/feb_2022/50.50.10/scr_apop_wt_div/GV0806_Pos4_26_RFP_N_cells / /media/nathan/Transcend/Nathan/data/analysis_results/radial_analysis_output/follow/feb_2022/50.50.10/scr_apop_wt_div/GV0806_Pos4_26_RFP_N_events saved out successfully',\n",
       "  '/media/nathan/Transcend/Nathan/data/analysis_results/radial_analysis_output/follow/feb_2022/50.50.10/scr_apop_wt_div/GV0806_Pos4_32_RFP_N_cells / /media/nathan/Transcend/Nathan/data/analysis_results/radial_analysis_output/follow/feb_2022/50.50.10/scr_apop_wt_div/GV0806_Pos4_32_RFP_N_events saved out successfully',\n",
       "  '/media/nathan/Transcend/Nathan/data/analysis_results/radial_analysis_output/follow/feb_2022/50.50.10/scr_apop_wt_div/GV0806_Pos4_308_RFP_N_cells / /media/nathan/Transcend/Nathan/data/analysis_results/radial_analysis_output/follow/feb_2022/50.50.10/scr_apop_wt_div/GV0806_Pos4_308_RFP_N_events saved out successfully',\n",
       "  '/media/nathan/Transcend/Nathan/data/analysis_results/radial_analysis_output/follow/feb_2022/50.50.10/scr_apop_wt_div/GV0806_Pos4_276_RFP_N_cells / /media/nathan/Transcend/Nathan/data/analysis_results/radial_analysis_output/follow/feb_2022/50.50.10/scr_apop_wt_div/GV0806_Pos4_276_RFP_N_events saved out successfully',\n",
       "  '/media/nathan/Transcend/Nathan/data/analysis_results/radial_analysis_output/follow/feb_2022/50.50.10/scr_apop_wt_div/GV0806_Pos4_285_RFP_N_cells / /media/nathan/Transcend/Nathan/data/analysis_results/radial_analysis_output/follow/feb_2022/50.50.10/scr_apop_wt_div/GV0806_Pos4_285_RFP_N_events saved out successfully',\n",
       "  '/media/nathan/Transcend/Nathan/data/analysis_results/radial_analysis_output/follow/feb_2022/50.50.10/scr_apop_wt_div/GV0806_Pos4_608_RFP_N_cells / /media/nathan/Transcend/Nathan/data/analysis_results/radial_analysis_output/follow/feb_2022/50.50.10/scr_apop_wt_div/GV0806_Pos4_608_RFP_N_events saved out successfully',\n",
       "  '/media/nathan/Transcend/Nathan/data/analysis_results/radial_analysis_output/follow/feb_2022/50.50.10/scr_apop_wt_div/GV0806_Pos4_560_RFP_N_cells / /media/nathan/Transcend/Nathan/data/analysis_results/radial_analysis_output/follow/feb_2022/50.50.10/scr_apop_wt_div/GV0806_Pos4_560_RFP_N_events saved out successfully',\n",
       "  '/media/nathan/Transcend/Nathan/data/analysis_results/radial_analysis_output/follow/feb_2022/50.50.10/scr_apop_wt_div/GV0806_Pos4_665_RFP_N_cells / /media/nathan/Transcend/Nathan/data/analysis_results/radial_analysis_output/follow/feb_2022/50.50.10/scr_apop_wt_div/GV0806_Pos4_665_RFP_N_events saved out successfully',\n",
       "  '/media/nathan/Transcend/Nathan/data/analysis_results/radial_analysis_output/follow/feb_2022/50.50.10/scr_apop_wt_div/GV0806_Pos4_664_RFP_N_cells / /media/nathan/Transcend/Nathan/data/analysis_results/radial_analysis_output/follow/feb_2022/50.50.10/scr_apop_wt_div/GV0806_Pos4_664_RFP_N_events saved out successfully',\n",
       "  '/media/nathan/Transcend/Nathan/data/analysis_results/radial_analysis_output/follow/feb_2022/50.50.10/scr_apop_wt_div/GV0806_Pos4_331_RFP_N_cells / /media/nathan/Transcend/Nathan/data/analysis_results/radial_analysis_output/follow/feb_2022/50.50.10/scr_apop_wt_div/GV0806_Pos4_331_RFP_N_events saved out successfully',\n",
       "  '/media/nathan/Transcend/Nathan/data/analysis_results/radial_analysis_output/follow/feb_2022/50.50.10/scr_apop_wt_div/GV0806_Pos4_138_RFP_N_cells / /media/nathan/Transcend/Nathan/data/analysis_results/radial_analysis_output/follow/feb_2022/50.50.10/scr_apop_wt_div/GV0806_Pos4_138_RFP_N_events saved out successfully',\n",
       "  '/media/nathan/Transcend/Nathan/data/analysis_results/radial_analysis_output/follow/feb_2022/50.50.10/scr_apop_wt_div/GV0806_Pos4_284_RFP_N_cells / /media/nathan/Transcend/Nathan/data/analysis_results/radial_analysis_output/follow/feb_2022/50.50.10/scr_apop_wt_div/GV0806_Pos4_284_RFP_N_events saved out successfully',\n",
       "  '/media/nathan/Transcend/Nathan/data/analysis_results/radial_analysis_output/follow/feb_2022/50.50.10/scr_apop_wt_div/GV0806_Pos4_682_RFP_N_cells / /media/nathan/Transcend/Nathan/data/analysis_results/radial_analysis_output/follow/feb_2022/50.50.10/scr_apop_wt_div/GV0806_Pos4_682_RFP_N_events saved out successfully',\n",
       "  '/media/nathan/Transcend/Nathan/data/analysis_results/radial_analysis_output/follow/feb_2022/50.50.10/scr_apop_wt_div/GV0806_Pos4_752_RFP_N_cells / /media/nathan/Transcend/Nathan/data/analysis_results/radial_analysis_output/follow/feb_2022/50.50.10/scr_apop_wt_div/GV0806_Pos4_752_RFP_N_events saved out successfully',\n",
       "  '/media/nathan/Transcend/Nathan/data/analysis_results/radial_analysis_output/follow/feb_2022/50.50.10/scr_apop_wt_div/GV0807_Pos4_12_RFP_N_cells / /media/nathan/Transcend/Nathan/data/analysis_results/radial_analysis_output/follow/feb_2022/50.50.10/scr_apop_wt_div/GV0807_Pos4_12_RFP_N_events saved out successfully',\n",
       "  '/media/nathan/Transcend/Nathan/data/analysis_results/radial_analysis_output/follow/feb_2022/50.50.10/scr_apop_wt_div/GV0807_Pos4_16_RFP_N_cells / /media/nathan/Transcend/Nathan/data/analysis_results/radial_analysis_output/follow/feb_2022/50.50.10/scr_apop_wt_div/GV0807_Pos4_16_RFP_N_events saved out successfully',\n",
       "  '/media/nathan/Transcend/Nathan/data/analysis_results/radial_analysis_output/follow/feb_2022/50.50.10/scr_apop_wt_div/GV0807_Pos4_23_RFP_N_cells / /media/nathan/Transcend/Nathan/data/analysis_results/radial_analysis_output/follow/feb_2022/50.50.10/scr_apop_wt_div/GV0807_Pos4_23_RFP_N_events saved out successfully',\n",
       "  '/media/nathan/Transcend/Nathan/data/analysis_results/radial_analysis_output/follow/feb_2022/50.50.10/scr_apop_wt_div/GV0807_Pos4_276_RFP_N_cells / /media/nathan/Transcend/Nathan/data/analysis_results/radial_analysis_output/follow/feb_2022/50.50.10/scr_apop_wt_div/GV0807_Pos4_276_RFP_N_events saved out successfully',\n",
       "  '/media/nathan/Transcend/Nathan/data/analysis_results/radial_analysis_output/follow/feb_2022/50.50.10/scr_apop_wt_div/GV0807_Pos4_345_RFP_N_cells / /media/nathan/Transcend/Nathan/data/analysis_results/radial_analysis_output/follow/feb_2022/50.50.10/scr_apop_wt_div/GV0807_Pos4_345_RFP_N_events saved out successfully',\n",
       "  '/media/nathan/Transcend/Nathan/data/analysis_results/radial_analysis_output/follow/feb_2022/50.50.10/scr_apop_wt_div/GV0807_Pos4_330_RFP_N_cells / /media/nathan/Transcend/Nathan/data/analysis_results/radial_analysis_output/follow/feb_2022/50.50.10/scr_apop_wt_div/GV0807_Pos4_330_RFP_N_events saved out successfully',\n",
       "  '/media/nathan/Transcend/Nathan/data/analysis_results/radial_analysis_output/follow/feb_2022/50.50.10/scr_apop_wt_div/GV0807_Pos4_191_RFP_N_cells / /media/nathan/Transcend/Nathan/data/analysis_results/radial_analysis_output/follow/feb_2022/50.50.10/scr_apop_wt_div/GV0807_Pos4_191_RFP_N_events saved out successfully',\n",
       "  '/media/nathan/Transcend/Nathan/data/analysis_results/radial_analysis_output/follow/feb_2022/50.50.10/scr_apop_wt_div/GV0807_Pos4_429_RFP_N_cells / /media/nathan/Transcend/Nathan/data/analysis_results/radial_analysis_output/follow/feb_2022/50.50.10/scr_apop_wt_div/GV0807_Pos4_429_RFP_N_events saved out successfully',\n",
       "  '/media/nathan/Transcend/Nathan/data/analysis_results/radial_analysis_output/follow/feb_2022/50.50.10/scr_apop_wt_div/GV0807_Pos4_50_RFP_N_cells / /media/nathan/Transcend/Nathan/data/analysis_results/radial_analysis_output/follow/feb_2022/50.50.10/scr_apop_wt_div/GV0807_Pos4_50_RFP_N_events saved out successfully',\n",
       "  '/media/nathan/Transcend/Nathan/data/analysis_results/radial_analysis_output/follow/feb_2022/50.50.10/scr_apop_wt_div/GV0807_Pos4_382_RFP_N_cells / /media/nathan/Transcend/Nathan/data/analysis_results/radial_analysis_output/follow/feb_2022/50.50.10/scr_apop_wt_div/GV0807_Pos4_382_RFP_N_events saved out successfully',\n",
       "  '/media/nathan/Transcend/Nathan/data/analysis_results/radial_analysis_output/follow/feb_2022/50.50.10/scr_apop_wt_div/GV0807_Pos4_381_RFP_N_cells / /media/nathan/Transcend/Nathan/data/analysis_results/radial_analysis_output/follow/feb_2022/50.50.10/scr_apop_wt_div/GV0807_Pos4_381_RFP_N_events saved out successfully',\n",
       "  '/media/nathan/Transcend/Nathan/data/analysis_results/radial_analysis_output/follow/feb_2022/50.50.10/scr_apop_wt_div/GV0807_Pos4_190_RFP_N_cells / /media/nathan/Transcend/Nathan/data/analysis_results/radial_analysis_output/follow/feb_2022/50.50.10/scr_apop_wt_div/GV0807_Pos4_190_RFP_N_events saved out successfully',\n",
       "  '/media/nathan/Transcend/Nathan/data/analysis_results/radial_analysis_output/follow/feb_2022/50.50.10/scr_apop_wt_div/GV0807_Pos4_377_RFP_N_cells / /media/nathan/Transcend/Nathan/data/analysis_results/radial_analysis_output/follow/feb_2022/50.50.10/scr_apop_wt_div/GV0807_Pos4_377_RFP_N_events saved out successfully',\n",
       "  '/media/nathan/Transcend/Nathan/data/analysis_results/radial_analysis_output/follow/feb_2022/50.50.10/scr_apop_wt_div/GV0807_Pos4_169_RFP_N_cells / /media/nathan/Transcend/Nathan/data/analysis_results/radial_analysis_output/follow/feb_2022/50.50.10/scr_apop_wt_div/GV0807_Pos4_169_RFP_N_events saved out successfully',\n",
       "  '/media/nathan/Transcend/Nathan/data/analysis_results/radial_analysis_output/follow/feb_2022/50.50.10/scr_apop_wt_div/GV0820_Pos0_268_RFP_N_cells / /media/nathan/Transcend/Nathan/data/analysis_results/radial_analysis_output/follow/feb_2022/50.50.10/scr_apop_wt_div/GV0820_Pos0_268_RFP_N_events saved out successfully',\n",
       "  '/media/nathan/Transcend/Nathan/data/analysis_results/radial_analysis_output/follow/feb_2022/50.50.10/scr_apop_wt_div/GV0820_Pos0_267_RFP_N_cells / /media/nathan/Transcend/Nathan/data/analysis_results/radial_analysis_output/follow/feb_2022/50.50.10/scr_apop_wt_div/GV0820_Pos0_267_RFP_N_events saved out successfully',\n",
       "  '/media/nathan/Transcend/Nathan/data/analysis_results/radial_analysis_output/follow/feb_2022/50.50.10/scr_apop_wt_div/GV0820_Pos0_7_RFP_N_cells / /media/nathan/Transcend/Nathan/data/analysis_results/radial_analysis_output/follow/feb_2022/50.50.10/scr_apop_wt_div/GV0820_Pos0_7_RFP_N_events saved out successfully',\n",
       "  '/media/nathan/Transcend/Nathan/data/analysis_results/radial_analysis_output/follow/feb_2022/50.50.10/scr_apop_wt_div/GV0820_Pos0_580_RFP_N_cells / /media/nathan/Transcend/Nathan/data/analysis_results/radial_analysis_output/follow/feb_2022/50.50.10/scr_apop_wt_div/GV0820_Pos0_580_RFP_N_events saved out successfully',\n",
       "  '/media/nathan/Transcend/Nathan/data/analysis_results/radial_analysis_output/follow/feb_2022/50.50.10/scr_apop_wt_div/GV0820_Pos0_668_RFP_N_cells / /media/nathan/Transcend/Nathan/data/analysis_results/radial_analysis_output/follow/feb_2022/50.50.10/scr_apop_wt_div/GV0820_Pos0_668_RFP_N_events saved out successfully',\n",
       "  '/media/nathan/Transcend/Nathan/data/analysis_results/radial_analysis_output/follow/feb_2022/50.50.10/scr_apop_wt_div/GV0820_Pos0_667_RFP_N_cells / /media/nathan/Transcend/Nathan/data/analysis_results/radial_analysis_output/follow/feb_2022/50.50.10/scr_apop_wt_div/GV0820_Pos0_667_RFP_N_events saved out successfully',\n",
       "  '/media/nathan/Transcend/Nathan/data/analysis_results/radial_analysis_output/follow/feb_2022/50.50.10/scr_apop_wt_div/GV0820_Pos0_793_RFP_N_cells / /media/nathan/Transcend/Nathan/data/analysis_results/radial_analysis_output/follow/feb_2022/50.50.10/scr_apop_wt_div/GV0820_Pos0_793_RFP_N_events saved out successfully',\n",
       "  '/media/nathan/Transcend/Nathan/data/analysis_results/radial_analysis_output/follow/feb_2022/50.50.10/scr_apop_wt_div/GV0820_Pos0_500_RFP_N_cells / /media/nathan/Transcend/Nathan/data/analysis_results/radial_analysis_output/follow/feb_2022/50.50.10/scr_apop_wt_div/GV0820_Pos0_500_RFP_N_events saved out successfully',\n",
       "  '/media/nathan/Transcend/Nathan/data/analysis_results/radial_analysis_output/follow/feb_2022/50.50.10/scr_apop_wt_div/GV0820_Pos0_703_RFP_N_cells / /media/nathan/Transcend/Nathan/data/analysis_results/radial_analysis_output/follow/feb_2022/50.50.10/scr_apop_wt_div/GV0820_Pos0_703_RFP_N_events saved out successfully',\n",
       "  '/media/nathan/Transcend/Nathan/data/analysis_results/radial_analysis_output/follow/feb_2022/50.50.10/scr_apop_wt_div/GV0820_Pos0_11_RFP_N_cells / /media/nathan/Transcend/Nathan/data/analysis_results/radial_analysis_output/follow/feb_2022/50.50.10/scr_apop_wt_div/GV0820_Pos0_11_RFP_N_events saved out successfully',\n",
       "  '/media/nathan/Transcend/Nathan/data/analysis_results/radial_analysis_output/follow/feb_2022/50.50.10/scr_apop_wt_div/GV0820_Pos0_794_RFP_N_cells / /media/nathan/Transcend/Nathan/data/analysis_results/radial_analysis_output/follow/feb_2022/50.50.10/scr_apop_wt_div/GV0820_Pos0_794_RFP_N_events saved out successfully',\n",
       "  '/media/nathan/Transcend/Nathan/data/analysis_results/radial_analysis_output/follow/feb_2022/50.50.10/scr_apop_wt_div/GV0820_Pos0_579_RFP_N_cells / /media/nathan/Transcend/Nathan/data/analysis_results/radial_analysis_output/follow/feb_2022/50.50.10/scr_apop_wt_div/GV0820_Pos0_579_RFP_N_events saved out successfully',\n",
       "  '/media/nathan/Transcend/Nathan/data/analysis_results/radial_analysis_output/follow/feb_2022/50.50.10/scr_apop_wt_div/GV0820_Pos0_837_RFP_N_cells / /media/nathan/Transcend/Nathan/data/analysis_results/radial_analysis_output/follow/feb_2022/50.50.10/scr_apop_wt_div/GV0820_Pos0_837_RFP_N_events saved out successfully',\n",
       "  '/media/nathan/Transcend/Nathan/data/analysis_results/radial_analysis_output/follow/feb_2022/50.50.10/scr_apop_wt_div/GV0820_Pos0_93_RFP_N_cells / /media/nathan/Transcend/Nathan/data/analysis_results/radial_analysis_output/follow/feb_2022/50.50.10/scr_apop_wt_div/GV0820_Pos0_93_RFP_N_events saved out successfully',\n",
       "  '/media/nathan/Transcend/Nathan/data/analysis_results/radial_analysis_output/follow/feb_2022/50.50.10/scr_apop_wt_div/GV0820_Pos0_509_RFP_N_cells / /media/nathan/Transcend/Nathan/data/analysis_results/radial_analysis_output/follow/feb_2022/50.50.10/scr_apop_wt_div/GV0820_Pos0_509_RFP_N_events saved out successfully',\n",
       "  '/media/nathan/Transcend/Nathan/data/analysis_results/radial_analysis_output/follow/feb_2022/50.50.10/scr_apop_wt_div/GV0820_Pos0_750_RFP_N_cells / /media/nathan/Transcend/Nathan/data/analysis_results/radial_analysis_output/follow/feb_2022/50.50.10/scr_apop_wt_div/GV0820_Pos0_750_RFP_N_events saved out successfully',\n",
       "  '/media/nathan/Transcend/Nathan/data/analysis_results/radial_analysis_output/follow/feb_2022/50.50.10/scr_apop_wt_div/GV0820_Pos0_995_RFP_N_cells / /media/nathan/Transcend/Nathan/data/analysis_results/radial_analysis_output/follow/feb_2022/50.50.10/scr_apop_wt_div/GV0820_Pos0_995_RFP_N_events saved out successfully',\n",
       "  '/media/nathan/Transcend/Nathan/data/analysis_results/radial_analysis_output/follow/feb_2022/50.50.10/scr_apop_wt_div/GV0820_Pos0_994_RFP_N_cells / /media/nathan/Transcend/Nathan/data/analysis_results/radial_analysis_output/follow/feb_2022/50.50.10/scr_apop_wt_div/GV0820_Pos0_994_RFP_N_events saved out successfully',\n",
       "  '/media/nathan/Transcend/Nathan/data/analysis_results/radial_analysis_output/follow/feb_2022/50.50.10/scr_apop_wt_div/GV0820_Pos0_484_RFP_N_cells / /media/nathan/Transcend/Nathan/data/analysis_results/radial_analysis_output/follow/feb_2022/50.50.10/scr_apop_wt_div/GV0820_Pos0_484_RFP_N_events saved out successfully',\n",
       "  '/media/nathan/Transcend/Nathan/data/analysis_results/radial_analysis_output/follow/feb_2022/50.50.10/scr_apop_wt_div/GV0820_Pos0_845_RFP_N_cells / /media/nathan/Transcend/Nathan/data/analysis_results/radial_analysis_output/follow/feb_2022/50.50.10/scr_apop_wt_div/GV0820_Pos0_845_RFP_N_events saved out successfully',\n",
       "  '/media/nathan/Transcend/Nathan/data/analysis_results/radial_analysis_output/follow/feb_2022/50.50.10/scr_apop_wt_div/GV0820_Pos0_485_RFP_N_cells / /media/nathan/Transcend/Nathan/data/analysis_results/radial_analysis_output/follow/feb_2022/50.50.10/scr_apop_wt_div/GV0820_Pos0_485_RFP_N_events saved out successfully',\n",
       "  '/media/nathan/Transcend/Nathan/data/analysis_results/radial_analysis_output/follow/feb_2022/50.50.10/scr_apop_wt_div/GV0820_Pos0_145_RFP_N_cells / /media/nathan/Transcend/Nathan/data/analysis_results/radial_analysis_output/follow/feb_2022/50.50.10/scr_apop_wt_div/GV0820_Pos0_145_RFP_N_events saved out successfully',\n",
       "  '/media/nathan/Transcend/Nathan/data/analysis_results/radial_analysis_output/follow/feb_2022/50.50.10/scr_apop_wt_div/GV0820_Pos0_264_RFP_N_cells / /media/nathan/Transcend/Nathan/data/analysis_results/radial_analysis_output/follow/feb_2022/50.50.10/scr_apop_wt_div/GV0820_Pos0_264_RFP_N_events saved out successfully',\n",
       "  '/media/nathan/Transcend/Nathan/data/analysis_results/radial_analysis_output/follow/feb_2022/50.50.10/scr_apop_wt_div/GV0820_Pos1_553_RFP_N_cells / /media/nathan/Transcend/Nathan/data/analysis_results/radial_analysis_output/follow/feb_2022/50.50.10/scr_apop_wt_div/GV0820_Pos1_553_RFP_N_events saved out successfully',\n",
       "  '/media/nathan/Transcend/Nathan/data/analysis_results/radial_analysis_output/follow/feb_2022/50.50.10/scr_apop_wt_div/GV0820_Pos1_16_RFP_N_cells / /media/nathan/Transcend/Nathan/data/analysis_results/radial_analysis_output/follow/feb_2022/50.50.10/scr_apop_wt_div/GV0820_Pos1_16_RFP_N_events saved out successfully',\n",
       "  '/media/nathan/Transcend/Nathan/data/analysis_results/radial_analysis_output/follow/feb_2022/50.50.10/scr_apop_wt_div/GV0820_Pos1_427_RFP_N_cells / /media/nathan/Transcend/Nathan/data/analysis_results/radial_analysis_output/follow/feb_2022/50.50.10/scr_apop_wt_div/GV0820_Pos1_427_RFP_N_events saved out successfully',\n",
       "  '/media/nathan/Transcend/Nathan/data/analysis_results/radial_analysis_output/follow/feb_2022/50.50.10/scr_apop_wt_div/GV0820_Pos1_489_RFP_N_cells / /media/nathan/Transcend/Nathan/data/analysis_results/radial_analysis_output/follow/feb_2022/50.50.10/scr_apop_wt_div/GV0820_Pos1_489_RFP_N_events saved out successfully',\n",
       "  '/media/nathan/Transcend/Nathan/data/analysis_results/radial_analysis_output/follow/feb_2022/50.50.10/scr_apop_wt_div/GV0820_Pos1_671_RFP_N_cells / /media/nathan/Transcend/Nathan/data/analysis_results/radial_analysis_output/follow/feb_2022/50.50.10/scr_apop_wt_div/GV0820_Pos1_671_RFP_N_events saved out successfully',\n",
       "  '/media/nathan/Transcend/Nathan/data/analysis_results/radial_analysis_output/follow/feb_2022/50.50.10/scr_apop_wt_div/GV0820_Pos1_990_RFP_N_cells / /media/nathan/Transcend/Nathan/data/analysis_results/radial_analysis_output/follow/feb_2022/50.50.10/scr_apop_wt_div/GV0820_Pos1_990_RFP_N_events saved out successfully',\n",
       "  '/media/nathan/Transcend/Nathan/data/analysis_results/radial_analysis_output/follow/feb_2022/50.50.10/scr_apop_wt_div/GV0820_Pos1_970_RFP_N_cells / /media/nathan/Transcend/Nathan/data/analysis_results/radial_analysis_output/follow/feb_2022/50.50.10/scr_apop_wt_div/GV0820_Pos1_970_RFP_N_events saved out successfully',\n",
       "  '/media/nathan/Transcend/Nathan/data/analysis_results/radial_analysis_output/follow/feb_2022/50.50.10/scr_apop_wt_div/GV0820_Pos1_902_RFP_N_cells / /media/nathan/Transcend/Nathan/data/analysis_results/radial_analysis_output/follow/feb_2022/50.50.10/scr_apop_wt_div/GV0820_Pos1_902_RFP_N_events saved out successfully',\n",
       "  '/media/nathan/Transcend/Nathan/data/analysis_results/radial_analysis_output/follow/feb_2022/50.50.10/scr_apop_wt_div/GV0820_Pos1_817_RFP_N_cells / /media/nathan/Transcend/Nathan/data/analysis_results/radial_analysis_output/follow/feb_2022/50.50.10/scr_apop_wt_div/GV0820_Pos1_817_RFP_N_events saved out successfully',\n",
       "  '/media/nathan/Transcend/Nathan/data/analysis_results/radial_analysis_output/follow/feb_2022/50.50.10/scr_apop_wt_div/GV0820_Pos1_895_RFP_N_cells / /media/nathan/Transcend/Nathan/data/analysis_results/radial_analysis_output/follow/feb_2022/50.50.10/scr_apop_wt_div/GV0820_Pos1_895_RFP_N_events saved out successfully',\n",
       "  '/media/nathan/Transcend/Nathan/data/analysis_results/radial_analysis_output/follow/feb_2022/50.50.10/scr_apop_wt_div/GV0820_Pos1_785_RFP_N_cells / /media/nathan/Transcend/Nathan/data/analysis_results/radial_analysis_output/follow/feb_2022/50.50.10/scr_apop_wt_div/GV0820_Pos1_785_RFP_N_events saved out successfully',\n",
       "  '/media/nathan/Transcend/Nathan/data/analysis_results/radial_analysis_output/follow/feb_2022/50.50.10/scr_apop_wt_div/GV0820_Pos1_499_RFP_N_cells / /media/nathan/Transcend/Nathan/data/analysis_results/radial_analysis_output/follow/feb_2022/50.50.10/scr_apop_wt_div/GV0820_Pos1_499_RFP_N_events saved out successfully',\n",
       "  '/media/nathan/Transcend/Nathan/data/analysis_results/radial_analysis_output/follow/feb_2022/50.50.10/scr_apop_wt_div/GV0820_Pos1_704_RFP_N_cells / /media/nathan/Transcend/Nathan/data/analysis_results/radial_analysis_output/follow/feb_2022/50.50.10/scr_apop_wt_div/GV0820_Pos1_704_RFP_N_events saved out successfully',\n",
       "  '/media/nathan/Transcend/Nathan/data/analysis_results/radial_analysis_output/follow/feb_2022/50.50.10/scr_apop_wt_div/GV0820_Pos1_672_RFP_N_cells / /media/nathan/Transcend/Nathan/data/analysis_results/radial_analysis_output/follow/feb_2022/50.50.10/scr_apop_wt_div/GV0820_Pos1_672_RFP_N_events saved out successfully',\n",
       "  '/media/nathan/Transcend/Nathan/data/analysis_results/radial_analysis_output/follow/feb_2022/50.50.10/scr_apop_wt_div/GV0820_Pos1_1516_RFP_N_cells / /media/nathan/Transcend/Nathan/data/analysis_results/radial_analysis_output/follow/feb_2022/50.50.10/scr_apop_wt_div/GV0820_Pos1_1516_RFP_N_events saved out successfully',\n",
       "  '/media/nathan/Transcend/Nathan/data/analysis_results/radial_analysis_output/follow/feb_2022/50.50.10/scr_apop_wt_div/GV0820_Pos1_1500_RFP_N_cells / /media/nathan/Transcend/Nathan/data/analysis_results/radial_analysis_output/follow/feb_2022/50.50.10/scr_apop_wt_div/GV0820_Pos1_1500_RFP_N_events saved out successfully',\n",
       "  '/media/nathan/Transcend/Nathan/data/analysis_results/radial_analysis_output/follow/feb_2022/50.50.10/scr_apop_wt_div/GV0820_Pos1_1570_RFP_N_cells / /media/nathan/Transcend/Nathan/data/analysis_results/radial_analysis_output/follow/feb_2022/50.50.10/scr_apop_wt_div/GV0820_Pos1_1570_RFP_N_events saved out successfully',\n",
       "  '/media/nathan/Transcend/Nathan/data/analysis_results/radial_analysis_output/follow/feb_2022/50.50.10/scr_apop_wt_div/GV0820_Pos1_1104_RFP_N_cells / /media/nathan/Transcend/Nathan/data/analysis_results/radial_analysis_output/follow/feb_2022/50.50.10/scr_apop_wt_div/GV0820_Pos1_1104_RFP_N_events saved out successfully',\n",
       "  '/media/nathan/Transcend/Nathan/data/analysis_results/radial_analysis_output/follow/feb_2022/50.50.10/scr_apop_wt_div/GV0820_Pos1_813_RFP_N_cells / /media/nathan/Transcend/Nathan/data/analysis_results/radial_analysis_output/follow/feb_2022/50.50.10/scr_apop_wt_div/GV0820_Pos1_813_RFP_N_events saved out successfully',\n",
       "  '/media/nathan/Transcend/Nathan/data/analysis_results/radial_analysis_output/follow/feb_2022/50.50.10/scr_apop_wt_div/GV0820_Pos1_1450_RFP_N_cells / /media/nathan/Transcend/Nathan/data/analysis_results/radial_analysis_output/follow/feb_2022/50.50.10/scr_apop_wt_div/GV0820_Pos1_1450_RFP_N_events saved out successfully',\n",
       "  '/media/nathan/Transcend/Nathan/data/analysis_results/radial_analysis_output/follow/feb_2022/50.50.10/scr_apop_wt_div/GV0820_Pos1_1038_RFP_N_cells / /media/nathan/Transcend/Nathan/data/analysis_results/radial_analysis_output/follow/feb_2022/50.50.10/scr_apop_wt_div/GV0820_Pos1_1038_RFP_N_events saved out successfully',\n",
       "  '/media/nathan/Transcend/Nathan/data/analysis_results/radial_analysis_output/follow/feb_2022/50.50.10/scr_apop_wt_div/GV0820_Pos1_1411_RFP_N_cells / /media/nathan/Transcend/Nathan/data/analysis_results/radial_analysis_output/follow/feb_2022/50.50.10/scr_apop_wt_div/GV0820_Pos1_1411_RFP_N_events saved out successfully',\n",
       "  '/media/nathan/Transcend/Nathan/data/analysis_results/radial_analysis_output/follow/feb_2022/50.50.10/scr_apop_wt_div/GV0820_Pos2_29_RFP_N_cells / /media/nathan/Transcend/Nathan/data/analysis_results/radial_analysis_output/follow/feb_2022/50.50.10/scr_apop_wt_div/GV0820_Pos2_29_RFP_N_events saved out successfully',\n",
       "  '/media/nathan/Transcend/Nathan/data/analysis_results/radial_analysis_output/follow/feb_2022/50.50.10/scr_apop_wt_div/GV0820_Pos2_47_RFP_N_cells / /media/nathan/Transcend/Nathan/data/analysis_results/radial_analysis_output/follow/feb_2022/50.50.10/scr_apop_wt_div/GV0820_Pos2_47_RFP_N_events saved out successfully',\n",
       "  '/media/nathan/Transcend/Nathan/data/analysis_results/radial_analysis_output/follow/feb_2022/50.50.10/scr_apop_wt_div/GV0820_Pos2_94_RFP_N_cells / /media/nathan/Transcend/Nathan/data/analysis_results/radial_analysis_output/follow/feb_2022/50.50.10/scr_apop_wt_div/GV0820_Pos2_94_RFP_N_events saved out successfully',\n",
       "  '/media/nathan/Transcend/Nathan/data/analysis_results/radial_analysis_output/follow/feb_2022/50.50.10/scr_apop_wt_div/GV0820_Pos2_256_RFP_N_cells / /media/nathan/Transcend/Nathan/data/analysis_results/radial_analysis_output/follow/feb_2022/50.50.10/scr_apop_wt_div/GV0820_Pos2_256_RFP_N_events saved out successfully',\n",
       "  '/media/nathan/Transcend/Nathan/data/analysis_results/radial_analysis_output/follow/feb_2022/50.50.10/scr_apop_wt_div/GV0820_Pos2_375_RFP_N_cells / /media/nathan/Transcend/Nathan/data/analysis_results/radial_analysis_output/follow/feb_2022/50.50.10/scr_apop_wt_div/GV0820_Pos2_375_RFP_N_events saved out successfully',\n",
       "  '/media/nathan/Transcend/Nathan/data/analysis_results/radial_analysis_output/follow/feb_2022/50.50.10/scr_apop_wt_div/GV0820_Pos2_377_RFP_N_cells / /media/nathan/Transcend/Nathan/data/analysis_results/radial_analysis_output/follow/feb_2022/50.50.10/scr_apop_wt_div/GV0820_Pos2_377_RFP_N_events saved out successfully',\n",
       "  '/media/nathan/Transcend/Nathan/data/analysis_results/radial_analysis_output/follow/feb_2022/50.50.10/scr_apop_wt_div/GV0820_Pos2_317_RFP_N_cells / /media/nathan/Transcend/Nathan/data/analysis_results/radial_analysis_output/follow/feb_2022/50.50.10/scr_apop_wt_div/GV0820_Pos2_317_RFP_N_events saved out successfully',\n",
       "  '/media/nathan/Transcend/Nathan/data/analysis_results/radial_analysis_output/follow/feb_2022/50.50.10/scr_apop_wt_div/GV0820_Pos2_25_RFP_N_cells / /media/nathan/Transcend/Nathan/data/analysis_results/radial_analysis_output/follow/feb_2022/50.50.10/scr_apop_wt_div/GV0820_Pos2_25_RFP_N_events saved out successfully',\n",
       "  '/media/nathan/Transcend/Nathan/data/analysis_results/radial_analysis_output/follow/feb_2022/50.50.10/scr_apop_wt_div/GV0820_Pos2_438_RFP_N_cells / /media/nathan/Transcend/Nathan/data/analysis_results/radial_analysis_output/follow/feb_2022/50.50.10/scr_apop_wt_div/GV0820_Pos2_438_RFP_N_events saved out successfully',\n",
       "  '/media/nathan/Transcend/Nathan/data/analysis_results/radial_analysis_output/follow/feb_2022/50.50.10/scr_apop_wt_div/GV0820_Pos2_43_RFP_N_cells / /media/nathan/Transcend/Nathan/data/analysis_results/radial_analysis_output/follow/feb_2022/50.50.10/scr_apop_wt_div/GV0820_Pos2_43_RFP_N_events saved out successfully',\n",
       "  '/media/nathan/Transcend/Nathan/data/analysis_results/radial_analysis_output/follow/feb_2022/50.50.10/scr_apop_wt_div/GV0820_Pos2_54_RFP_N_cells / /media/nathan/Transcend/Nathan/data/analysis_results/radial_analysis_output/follow/feb_2022/50.50.10/scr_apop_wt_div/GV0820_Pos2_54_RFP_N_events saved out successfully',\n",
       "  '/media/nathan/Transcend/Nathan/data/analysis_results/radial_analysis_output/follow/feb_2022/50.50.10/scr_apop_wt_div/GV0820_Pos2_439_RFP_N_cells / /media/nathan/Transcend/Nathan/data/analysis_results/radial_analysis_output/follow/feb_2022/50.50.10/scr_apop_wt_div/GV0820_Pos2_439_RFP_N_events saved out successfully',\n",
       "  '/media/nathan/Transcend/Nathan/data/analysis_results/radial_analysis_output/follow/feb_2022/50.50.10/scr_apop_wt_div/GV0820_Pos2_422_RFP_N_cells / /media/nathan/Transcend/Nathan/data/analysis_results/radial_analysis_output/follow/feb_2022/50.50.10/scr_apop_wt_div/GV0820_Pos2_422_RFP_N_events saved out successfully',\n",
       "  '/media/nathan/Transcend/Nathan/data/analysis_results/radial_analysis_output/follow/feb_2022/50.50.10/scr_apop_wt_div/GV0820_Pos2_423_RFP_N_cells / /media/nathan/Transcend/Nathan/data/analysis_results/radial_analysis_output/follow/feb_2022/50.50.10/scr_apop_wt_div/GV0820_Pos2_423_RFP_N_events saved out successfully',\n",
       "  '/media/nathan/Transcend/Nathan/data/analysis_results/radial_analysis_output/follow/feb_2022/50.50.10/scr_apop_wt_div/GV0820_Pos2_687_RFP_N_cells / /media/nathan/Transcend/Nathan/data/analysis_results/radial_analysis_output/follow/feb_2022/50.50.10/scr_apop_wt_div/GV0820_Pos2_687_RFP_N_events saved out successfully',\n",
       "  '/media/nathan/Transcend/Nathan/data/analysis_results/radial_analysis_output/follow/feb_2022/50.50.10/scr_apop_wt_div/GV0820_Pos2_686_RFP_N_cells / /media/nathan/Transcend/Nathan/data/analysis_results/radial_analysis_output/follow/feb_2022/50.50.10/scr_apop_wt_div/GV0820_Pos2_686_RFP_N_events saved out successfully',\n",
       "  '/media/nathan/Transcend/Nathan/data/analysis_results/radial_analysis_output/follow/feb_2022/50.50.10/scr_apop_wt_div/GV0820_Pos2_659_RFP_N_cells / /media/nathan/Transcend/Nathan/data/analysis_results/radial_analysis_output/follow/feb_2022/50.50.10/scr_apop_wt_div/GV0820_Pos2_659_RFP_N_events saved out successfully',\n",
       "  '/media/nathan/Transcend/Nathan/data/analysis_results/radial_analysis_output/follow/feb_2022/50.50.10/scr_apop_wt_div/GV0820_Pos2_50_RFP_N_cells / /media/nathan/Transcend/Nathan/data/analysis_results/radial_analysis_output/follow/feb_2022/50.50.10/scr_apop_wt_div/GV0820_Pos2_50_RFP_N_events saved out successfully',\n",
       "  '/media/nathan/Transcend/Nathan/data/analysis_results/radial_analysis_output/follow/feb_2022/50.50.10/scr_apop_wt_div/GV0820_Pos2_700_RFP_N_cells / /media/nathan/Transcend/Nathan/data/analysis_results/radial_analysis_output/follow/feb_2022/50.50.10/scr_apop_wt_div/GV0820_Pos2_700_RFP_N_events saved out successfully',\n",
       "  '/media/nathan/Transcend/Nathan/data/analysis_results/radial_analysis_output/follow/feb_2022/50.50.10/scr_apop_wt_div/GV0820_Pos2_441_RFP_N_cells / /media/nathan/Transcend/Nathan/data/analysis_results/radial_analysis_output/follow/feb_2022/50.50.10/scr_apop_wt_div/GV0820_Pos2_441_RFP_N_events saved out successfully',\n",
       "  '/media/nathan/Transcend/Nathan/data/analysis_results/radial_analysis_output/follow/feb_2022/50.50.10/scr_apop_wt_div/GV0820_Pos2_51_RFP_N_cells / /media/nathan/Transcend/Nathan/data/analysis_results/radial_analysis_output/follow/feb_2022/50.50.10/scr_apop_wt_div/GV0820_Pos2_51_RFP_N_events saved out successfully',\n",
       "  '/media/nathan/Transcend/Nathan/data/analysis_results/radial_analysis_output/follow/feb_2022/50.50.10/scr_apop_wt_div/GV0820_Pos2_793_RFP_N_cells / /media/nathan/Transcend/Nathan/data/analysis_results/radial_analysis_output/follow/feb_2022/50.50.10/scr_apop_wt_div/GV0820_Pos2_793_RFP_N_events saved out successfully',\n",
       "  '/media/nathan/Transcend/Nathan/data/analysis_results/radial_analysis_output/follow/feb_2022/50.50.10/scr_apop_wt_div/GV0820_Pos2_258_RFP_N_cells / /media/nathan/Transcend/Nathan/data/analysis_results/radial_analysis_output/follow/feb_2022/50.50.10/scr_apop_wt_div/GV0820_Pos2_258_RFP_N_events saved out successfully',\n",
       "  '/media/nathan/Transcend/Nathan/data/analysis_results/radial_analysis_output/follow/feb_2022/50.50.10/scr_apop_wt_div/GV0820_Pos3_40_RFP_N_cells / /media/nathan/Transcend/Nathan/data/analysis_results/radial_analysis_output/follow/feb_2022/50.50.10/scr_apop_wt_div/GV0820_Pos3_40_RFP_N_events saved out successfully',\n",
       "  '/media/nathan/Transcend/Nathan/data/analysis_results/radial_analysis_output/follow/feb_2022/50.50.10/scr_apop_wt_div/GV0820_Pos3_11_RFP_N_cells / /media/nathan/Transcend/Nathan/data/analysis_results/radial_analysis_output/follow/feb_2022/50.50.10/scr_apop_wt_div/GV0820_Pos3_11_RFP_N_events saved out successfully',\n",
       "  '/media/nathan/Transcend/Nathan/data/analysis_results/radial_analysis_output/follow/feb_2022/50.50.10/scr_apop_wt_div/GV0820_Pos3_8_RFP_N_cells / /media/nathan/Transcend/Nathan/data/analysis_results/radial_analysis_output/follow/feb_2022/50.50.10/scr_apop_wt_div/GV0820_Pos3_8_RFP_N_events saved out successfully',\n",
       "  '/media/nathan/Transcend/Nathan/data/analysis_results/radial_analysis_output/follow/feb_2022/50.50.10/scr_apop_wt_div/GV0820_Pos3_21_RFP_N_cells / /media/nathan/Transcend/Nathan/data/analysis_results/radial_analysis_output/follow/feb_2022/50.50.10/scr_apop_wt_div/GV0820_Pos3_21_RFP_N_events saved out successfully',\n",
       "  '/media/nathan/Transcend/Nathan/data/analysis_results/radial_analysis_output/follow/feb_2022/50.50.10/scr_apop_wt_div/GV0820_Pos3_376_RFP_N_cells / /media/nathan/Transcend/Nathan/data/analysis_results/radial_analysis_output/follow/feb_2022/50.50.10/scr_apop_wt_div/GV0820_Pos3_376_RFP_N_events saved out successfully',\n",
       "  '/media/nathan/Transcend/Nathan/data/analysis_results/radial_analysis_output/follow/feb_2022/50.50.10/scr_apop_wt_div/GV0820_Pos3_377_RFP_N_cells / /media/nathan/Transcend/Nathan/data/analysis_results/radial_analysis_output/follow/feb_2022/50.50.10/scr_apop_wt_div/GV0820_Pos3_377_RFP_N_events saved out successfully',\n",
       "  '/media/nathan/Transcend/Nathan/data/analysis_results/radial_analysis_output/follow/feb_2022/50.50.10/scr_apop_wt_div/GV0820_Pos3_10_RFP_N_cells / /media/nathan/Transcend/Nathan/data/analysis_results/radial_analysis_output/follow/feb_2022/50.50.10/scr_apop_wt_div/GV0820_Pos3_10_RFP_N_events saved out successfully',\n",
       "  '/media/nathan/Transcend/Nathan/data/analysis_results/radial_analysis_output/follow/feb_2022/50.50.10/scr_apop_wt_div/GV0820_Pos3_509_RFP_N_cells / /media/nathan/Transcend/Nathan/data/analysis_results/radial_analysis_output/follow/feb_2022/50.50.10/scr_apop_wt_div/GV0820_Pos3_509_RFP_N_events saved out successfully',\n",
       "  '/media/nathan/Transcend/Nathan/data/analysis_results/radial_analysis_output/follow/feb_2022/50.50.10/scr_apop_wt_div/GV0820_Pos3_545_RFP_N_cells / /media/nathan/Transcend/Nathan/data/analysis_results/radial_analysis_output/follow/feb_2022/50.50.10/scr_apop_wt_div/GV0820_Pos3_545_RFP_N_events saved out successfully',\n",
       "  '/media/nathan/Transcend/Nathan/data/analysis_results/radial_analysis_output/follow/feb_2022/50.50.10/scr_apop_wt_div/GV0820_Pos3_508_RFP_N_cells / /media/nathan/Transcend/Nathan/data/analysis_results/radial_analysis_output/follow/feb_2022/50.50.10/scr_apop_wt_div/GV0820_Pos3_508_RFP_N_events saved out successfully',\n",
       "  '/media/nathan/Transcend/Nathan/data/analysis_results/radial_analysis_output/follow/feb_2022/50.50.10/scr_apop_wt_div/GV0820_Pos3_400_RFP_N_cells / /media/nathan/Transcend/Nathan/data/analysis_results/radial_analysis_output/follow/feb_2022/50.50.10/scr_apop_wt_div/GV0820_Pos3_400_RFP_N_events saved out successfully',\n",
       "  '/media/nathan/Transcend/Nathan/data/analysis_results/radial_analysis_output/follow/feb_2022/50.50.10/scr_apop_wt_div/GV0820_Pos3_536_RFP_N_cells / /media/nathan/Transcend/Nathan/data/analysis_results/radial_analysis_output/follow/feb_2022/50.50.10/scr_apop_wt_div/GV0820_Pos3_536_RFP_N_events saved out successfully',\n",
       "  '/media/nathan/Transcend/Nathan/data/analysis_results/radial_analysis_output/follow/feb_2022/50.50.10/scr_apop_wt_div/GV0820_Pos3_535_RFP_N_cells / /media/nathan/Transcend/Nathan/data/analysis_results/radial_analysis_output/follow/feb_2022/50.50.10/scr_apop_wt_div/GV0820_Pos3_535_RFP_N_events saved out successfully',\n",
       "  '/media/nathan/Transcend/Nathan/data/analysis_results/radial_analysis_output/follow/feb_2022/50.50.10/scr_apop_wt_div/GV0820_Pos3_441_RFP_N_cells / /media/nathan/Transcend/Nathan/data/analysis_results/radial_analysis_output/follow/feb_2022/50.50.10/scr_apop_wt_div/GV0820_Pos3_441_RFP_N_events saved out successfully',\n",
       "  '/media/nathan/Transcend/Nathan/data/analysis_results/radial_analysis_output/follow/feb_2022/50.50.10/scr_apop_wt_div/GV0820_Pos3_544_RFP_N_cells / /media/nathan/Transcend/Nathan/data/analysis_results/radial_analysis_output/follow/feb_2022/50.50.10/scr_apop_wt_div/GV0820_Pos3_544_RFP_N_events saved out successfully',\n",
       "  '/media/nathan/Transcend/Nathan/data/analysis_results/radial_analysis_output/follow/feb_2022/50.50.10/scr_apop_wt_div/GV0820_Pos3_442_RFP_N_cells / /media/nathan/Transcend/Nathan/data/analysis_results/radial_analysis_output/follow/feb_2022/50.50.10/scr_apop_wt_div/GV0820_Pos3_442_RFP_N_events saved out successfully',\n",
       "  '/media/nathan/Transcend/Nathan/data/analysis_results/radial_analysis_output/follow/feb_2022/50.50.10/scr_apop_wt_div/GV0820_Pos3_747_RFP_N_cells / /media/nathan/Transcend/Nathan/data/analysis_results/radial_analysis_output/follow/feb_2022/50.50.10/scr_apop_wt_div/GV0820_Pos3_747_RFP_N_events saved out successfully',\n",
       "  '/media/nathan/Transcend/Nathan/data/analysis_results/radial_analysis_output/follow/feb_2022/50.50.10/scr_apop_wt_div/GV0820_Pos3_746_RFP_N_cells / /media/nathan/Transcend/Nathan/data/analysis_results/radial_analysis_output/follow/feb_2022/50.50.10/scr_apop_wt_div/GV0820_Pos3_746_RFP_N_events saved out successfully',\n",
       "  '/media/nathan/Transcend/Nathan/data/analysis_results/radial_analysis_output/follow/feb_2022/50.50.10/scr_apop_wt_div/GV0820_Pos3_38_RFP_N_cells / /media/nathan/Transcend/Nathan/data/analysis_results/radial_analysis_output/follow/feb_2022/50.50.10/scr_apop_wt_div/GV0820_Pos3_38_RFP_N_events saved out successfully',\n",
       "  '/media/nathan/Transcend/Nathan/data/analysis_results/radial_analysis_output/follow/feb_2022/50.50.10/scr_apop_wt_div/GV0820_Pos3_6_RFP_N_cells / /media/nathan/Transcend/Nathan/data/analysis_results/radial_analysis_output/follow/feb_2022/50.50.10/scr_apop_wt_div/GV0820_Pos3_6_RFP_N_events saved out successfully',\n",
       "  '/media/nathan/Transcend/Nathan/data/analysis_results/radial_analysis_output/follow/feb_2022/50.50.10/scr_apop_wt_div/GV0820_Pos3_19_RFP_N_cells / /media/nathan/Transcend/Nathan/data/analysis_results/radial_analysis_output/follow/feb_2022/50.50.10/scr_apop_wt_div/GV0820_Pos3_19_RFP_N_events saved out successfully',\n",
       "  '/media/nathan/Transcend/Nathan/data/analysis_results/radial_analysis_output/follow/feb_2022/50.50.10/scr_apop_wt_div/GV0820_Pos4_354_RFP_N_cells / /media/nathan/Transcend/Nathan/data/analysis_results/radial_analysis_output/follow/feb_2022/50.50.10/scr_apop_wt_div/GV0820_Pos4_354_RFP_N_events saved out successfully',\n",
       "  '/media/nathan/Transcend/Nathan/data/analysis_results/radial_analysis_output/follow/feb_2022/50.50.10/scr_apop_wt_div/GV0820_Pos4_398_RFP_N_cells / /media/nathan/Transcend/Nathan/data/analysis_results/radial_analysis_output/follow/feb_2022/50.50.10/scr_apop_wt_div/GV0820_Pos4_398_RFP_N_events saved out successfully',\n",
       "  '/media/nathan/Transcend/Nathan/data/analysis_results/radial_analysis_output/follow/feb_2022/50.50.10/scr_apop_wt_div/GV0820_Pos4_355_RFP_N_cells / /media/nathan/Transcend/Nathan/data/analysis_results/radial_analysis_output/follow/feb_2022/50.50.10/scr_apop_wt_div/GV0820_Pos4_355_RFP_N_events saved out successfully',\n",
       "  '/media/nathan/Transcend/Nathan/data/analysis_results/radial_analysis_output/follow/feb_2022/50.50.10/scr_apop_wt_div/GV0820_Pos4_464_RFP_N_cells / /media/nathan/Transcend/Nathan/data/analysis_results/radial_analysis_output/follow/feb_2022/50.50.10/scr_apop_wt_div/GV0820_Pos4_464_RFP_N_events saved out successfully',\n",
       "  '/media/nathan/Transcend/Nathan/data/analysis_results/radial_analysis_output/follow/feb_2022/50.50.10/scr_apop_wt_div/GV0820_Pos4_88_RFP_N_cells / /media/nathan/Transcend/Nathan/data/analysis_results/radial_analysis_output/follow/feb_2022/50.50.10/scr_apop_wt_div/GV0820_Pos4_88_RFP_N_events saved out successfully',\n",
       "  '/media/nathan/Transcend/Nathan/data/analysis_results/radial_analysis_output/follow/feb_2022/50.50.10/scr_apop_wt_div/GV0820_Pos4_1_RFP_N_cells / /media/nathan/Transcend/Nathan/data/analysis_results/radial_analysis_output/follow/feb_2022/50.50.10/scr_apop_wt_div/GV0820_Pos4_1_RFP_N_events saved out successfully',\n",
       "  '/media/nathan/Transcend/Nathan/data/analysis_results/radial_analysis_output/follow/feb_2022/50.50.10/scr_apop_wt_div/GV0820_Pos4_25_RFP_N_cells / /media/nathan/Transcend/Nathan/data/analysis_results/radial_analysis_output/follow/feb_2022/50.50.10/scr_apop_wt_div/GV0820_Pos4_25_RFP_N_events saved out successfully',\n",
       "  '/media/nathan/Transcend/Nathan/data/analysis_results/radial_analysis_output/follow/feb_2022/50.50.10/scr_apop_wt_div/GV0820_Pos4_535_RFP_N_cells / /media/nathan/Transcend/Nathan/data/analysis_results/radial_analysis_output/follow/feb_2022/50.50.10/scr_apop_wt_div/GV0820_Pos4_535_RFP_N_events saved out successfully',\n",
       "  '/media/nathan/Transcend/Nathan/data/analysis_results/radial_analysis_output/follow/feb_2022/50.50.10/scr_apop_wt_div/GV0820_Pos4_534_RFP_N_cells / /media/nathan/Transcend/Nathan/data/analysis_results/radial_analysis_output/follow/feb_2022/50.50.10/scr_apop_wt_div/GV0820_Pos4_534_RFP_N_events saved out successfully',\n",
       "  '/media/nathan/Transcend/Nathan/data/analysis_results/radial_analysis_output/follow/feb_2022/50.50.10/scr_apop_wt_div/GV0820_Pos4_418_RFP_N_cells / /media/nathan/Transcend/Nathan/data/analysis_results/radial_analysis_output/follow/feb_2022/50.50.10/scr_apop_wt_div/GV0820_Pos4_418_RFP_N_events saved out successfully',\n",
       "  '/media/nathan/Transcend/Nathan/data/analysis_results/radial_analysis_output/follow/feb_2022/50.50.10/scr_apop_wt_div/GV0820_Pos4_417_RFP_N_cells / /media/nathan/Transcend/Nathan/data/analysis_results/radial_analysis_output/follow/feb_2022/50.50.10/scr_apop_wt_div/GV0820_Pos4_417_RFP_N_events saved out successfully',\n",
       "  '/media/nathan/Transcend/Nathan/data/analysis_results/radial_analysis_output/follow/feb_2022/50.50.10/scr_apop_wt_div/GV0820_Pos4_399_RFP_N_cells / /media/nathan/Transcend/Nathan/data/analysis_results/radial_analysis_output/follow/feb_2022/50.50.10/scr_apop_wt_div/GV0820_Pos4_399_RFP_N_events saved out successfully',\n",
       "  '/media/nathan/Transcend/Nathan/data/analysis_results/radial_analysis_output/follow/feb_2022/50.50.10/scr_apop_wt_div/GV0820_Pos4_743_RFP_N_cells / /media/nathan/Transcend/Nathan/data/analysis_results/radial_analysis_output/follow/feb_2022/50.50.10/scr_apop_wt_div/GV0820_Pos4_743_RFP_N_events saved out successfully',\n",
       "  '/media/nathan/Transcend/Nathan/data/analysis_results/radial_analysis_output/follow/feb_2022/50.50.10/scr_apop_wt_div/GV0820_Pos4_814_RFP_N_cells / /media/nathan/Transcend/Nathan/data/analysis_results/radial_analysis_output/follow/feb_2022/50.50.10/scr_apop_wt_div/GV0820_Pos4_814_RFP_N_events saved out successfully',\n",
       "  '/media/nathan/Transcend/Nathan/data/analysis_results/radial_analysis_output/follow/feb_2022/50.50.10/scr_apop_wt_div/GV0820_Pos4_813_RFP_N_cells / /media/nathan/Transcend/Nathan/data/analysis_results/radial_analysis_output/follow/feb_2022/50.50.10/scr_apop_wt_div/GV0820_Pos4_813_RFP_N_events saved out successfully',\n",
       "  '/media/nathan/Transcend/Nathan/data/analysis_results/radial_analysis_output/follow/feb_2022/50.50.10/scr_apop_wt_div/GV0820_Pos4_796_RFP_N_cells / /media/nathan/Transcend/Nathan/data/analysis_results/radial_analysis_output/follow/feb_2022/50.50.10/scr_apop_wt_div/GV0820_Pos4_796_RFP_N_events saved out successfully',\n",
       "  '/media/nathan/Transcend/Nathan/data/analysis_results/radial_analysis_output/follow/feb_2022/50.50.10/scr_apop_wt_div/GV0820_Pos4_53_RFP_N_cells / /media/nathan/Transcend/Nathan/data/analysis_results/radial_analysis_output/follow/feb_2022/50.50.10/scr_apop_wt_div/GV0820_Pos4_53_RFP_N_events saved out successfully',\n",
       "  '/media/nathan/Transcend/Nathan/data/analysis_results/radial_analysis_output/follow/feb_2022/50.50.10/scr_apop_wt_div/GV0820_Pos4_779_RFP_N_cells / /media/nathan/Transcend/Nathan/data/analysis_results/radial_analysis_output/follow/feb_2022/50.50.10/scr_apop_wt_div/GV0820_Pos4_779_RFP_N_events saved out successfully',\n",
       "  '/media/nathan/Transcend/Nathan/data/analysis_results/radial_analysis_output/follow/feb_2022/50.50.10/scr_apop_wt_div/GV0820_Pos4_754_RFP_N_cells / /media/nathan/Transcend/Nathan/data/analysis_results/radial_analysis_output/follow/feb_2022/50.50.10/scr_apop_wt_div/GV0820_Pos4_754_RFP_N_events saved out successfully',\n",
       "  '/media/nathan/Transcend/Nathan/data/analysis_results/radial_analysis_output/follow/feb_2022/50.50.10/scr_apop_wt_div/GV0820_Pos4_545_RFP_N_cells / /media/nathan/Transcend/Nathan/data/analysis_results/radial_analysis_output/follow/feb_2022/50.50.10/scr_apop_wt_div/GV0820_Pos4_545_RFP_N_events saved out successfully',\n",
       "  '/media/nathan/Transcend/Nathan/data/analysis_results/radial_analysis_output/follow/feb_2022/50.50.10/scr_apop_wt_div/GV0820_Pos4_744_RFP_N_cells / /media/nathan/Transcend/Nathan/data/analysis_results/radial_analysis_output/follow/feb_2022/50.50.10/scr_apop_wt_div/GV0820_Pos4_744_RFP_N_events saved out successfully',\n",
       "  '/media/nathan/Transcend/Nathan/data/analysis_results/radial_analysis_output/follow/feb_2022/50.50.10/scr_apop_wt_div/GV0820_Pos4_544_RFP_N_cells / /media/nathan/Transcend/Nathan/data/analysis_results/radial_analysis_output/follow/feb_2022/50.50.10/scr_apop_wt_div/GV0820_Pos4_544_RFP_N_events saved out successfully',\n",
       "  '/media/nathan/Transcend/Nathan/data/analysis_results/radial_analysis_output/follow/feb_2022/50.50.10/scr_apop_wt_div/GV0820_Pos4_883_RFP_N_cells / /media/nathan/Transcend/Nathan/data/analysis_results/radial_analysis_output/follow/feb_2022/50.50.10/scr_apop_wt_div/GV0820_Pos4_883_RFP_N_events saved out successfully',\n",
       "  '/media/nathan/Transcend/Nathan/data/analysis_results/radial_analysis_output/follow/feb_2022/50.50.10/scr_apop_wt_div/GV0820_Pos4_755_RFP_N_cells / /media/nathan/Transcend/Nathan/data/analysis_results/radial_analysis_output/follow/feb_2022/50.50.10/scr_apop_wt_div/GV0820_Pos4_755_RFP_N_events saved out successfully',\n",
       "  '/media/nathan/Transcend/Nathan/data/analysis_results/radial_analysis_output/follow/feb_2022/50.50.10/scr_apop_wt_div/GV0820_Pos5_48_RFP_N_cells / /media/nathan/Transcend/Nathan/data/analysis_results/radial_analysis_output/follow/feb_2022/50.50.10/scr_apop_wt_div/GV0820_Pos5_48_RFP_N_events saved out successfully',\n",
       "  '/media/nathan/Transcend/Nathan/data/analysis_results/radial_analysis_output/follow/feb_2022/50.50.10/scr_apop_wt_div/GV0820_Pos5_3_RFP_N_cells / /media/nathan/Transcend/Nathan/data/analysis_results/radial_analysis_output/follow/feb_2022/50.50.10/scr_apop_wt_div/GV0820_Pos5_3_RFP_N_events saved out successfully',\n",
       "  '/media/nathan/Transcend/Nathan/data/analysis_results/radial_analysis_output/follow/feb_2022/50.50.10/scr_apop_wt_div/GV0820_Pos5_429_RFP_N_cells / /media/nathan/Transcend/Nathan/data/analysis_results/radial_analysis_output/follow/feb_2022/50.50.10/scr_apop_wt_div/GV0820_Pos5_429_RFP_N_events saved out successfully',\n",
       "  '/media/nathan/Transcend/Nathan/data/analysis_results/radial_analysis_output/follow/feb_2022/50.50.10/scr_apop_wt_div/GV0820_Pos5_11_RFP_N_cells / /media/nathan/Transcend/Nathan/data/analysis_results/radial_analysis_output/follow/feb_2022/50.50.10/scr_apop_wt_div/GV0820_Pos5_11_RFP_N_events saved out successfully',\n",
       "  '/media/nathan/Transcend/Nathan/data/analysis_results/radial_analysis_output/follow/feb_2022/50.50.10/scr_apop_wt_div/GV0820_Pos5_410_RFP_N_cells / /media/nathan/Transcend/Nathan/data/analysis_results/radial_analysis_output/follow/feb_2022/50.50.10/scr_apop_wt_div/GV0820_Pos5_410_RFP_N_events saved out successfully',\n",
       "  '/media/nathan/Transcend/Nathan/data/analysis_results/radial_analysis_output/follow/feb_2022/50.50.10/scr_apop_wt_div/GV0820_Pos5_417_RFP_N_cells / /media/nathan/Transcend/Nathan/data/analysis_results/radial_analysis_output/follow/feb_2022/50.50.10/scr_apop_wt_div/GV0820_Pos5_417_RFP_N_events saved out successfully',\n",
       "  '/media/nathan/Transcend/Nathan/data/analysis_results/radial_analysis_output/follow/feb_2022/50.50.10/scr_apop_wt_div/GV0820_Pos5_305_RFP_N_cells / /media/nathan/Transcend/Nathan/data/analysis_results/radial_analysis_output/follow/feb_2022/50.50.10/scr_apop_wt_div/GV0820_Pos5_305_RFP_N_events saved out successfully',\n",
       "  '/media/nathan/Transcend/Nathan/data/analysis_results/radial_analysis_output/follow/feb_2022/50.50.10/scr_apop_wt_div/GV0820_Pos5_343_RFP_N_cells / /media/nathan/Transcend/Nathan/data/analysis_results/radial_analysis_output/follow/feb_2022/50.50.10/scr_apop_wt_div/GV0820_Pos5_343_RFP_N_events saved out successfully',\n",
       "  '/media/nathan/Transcend/Nathan/data/analysis_results/radial_analysis_output/follow/feb_2022/50.50.10/scr_apop_wt_div/GV0820_Pos5_31_RFP_N_cells / /media/nathan/Transcend/Nathan/data/analysis_results/radial_analysis_output/follow/feb_2022/50.50.10/scr_apop_wt_div/GV0820_Pos5_31_RFP_N_events saved out successfully',\n",
       "  '/media/nathan/Transcend/Nathan/data/analysis_results/radial_analysis_output/follow/feb_2022/50.50.10/scr_apop_wt_div/GV0820_Pos5_463_RFP_N_cells / /media/nathan/Transcend/Nathan/data/analysis_results/radial_analysis_output/follow/feb_2022/50.50.10/scr_apop_wt_div/GV0820_Pos5_463_RFP_N_events saved out successfully',\n",
       "  '/media/nathan/Transcend/Nathan/data/analysis_results/radial_analysis_output/follow/feb_2022/50.50.10/scr_apop_wt_div/GV0820_Pos5_38_RFP_N_cells / /media/nathan/Transcend/Nathan/data/analysis_results/radial_analysis_output/follow/feb_2022/50.50.10/scr_apop_wt_div/GV0820_Pos5_38_RFP_N_events saved out successfully',\n",
       "  '/media/nathan/Transcend/Nathan/data/analysis_results/radial_analysis_output/follow/feb_2022/50.50.10/scr_apop_wt_div/GV0820_Pos5_90_RFP_N_cells / /media/nathan/Transcend/Nathan/data/analysis_results/radial_analysis_output/follow/feb_2022/50.50.10/scr_apop_wt_div/GV0820_Pos5_90_RFP_N_events saved out successfully',\n",
       "  '/media/nathan/Transcend/Nathan/data/analysis_results/radial_analysis_output/follow/feb_2022/50.50.10/scr_apop_wt_div/GV0820_Pos5_395_RFP_N_cells / /media/nathan/Transcend/Nathan/data/analysis_results/radial_analysis_output/follow/feb_2022/50.50.10/scr_apop_wt_div/GV0820_Pos5_395_RFP_N_events saved out successfully',\n",
       "  '/media/nathan/Transcend/Nathan/data/analysis_results/radial_analysis_output/follow/feb_2022/50.50.10/scr_apop_wt_div/GV0820_Pos5_266_RFP_N_cells / /media/nathan/Transcend/Nathan/data/analysis_results/radial_analysis_output/follow/feb_2022/50.50.10/scr_apop_wt_div/GV0820_Pos5_266_RFP_N_events saved out successfully',\n",
       "  '/media/nathan/Transcend/Nathan/data/analysis_results/radial_analysis_output/follow/feb_2022/50.50.10/scr_apop_wt_div/GV0820_Pos5_34_RFP_N_cells / /media/nathan/Transcend/Nathan/data/analysis_results/radial_analysis_output/follow/feb_2022/50.50.10/scr_apop_wt_div/GV0820_Pos5_34_RFP_N_events saved out successfully',\n",
       "  '/media/nathan/Transcend/Nathan/data/analysis_results/radial_analysis_output/follow/feb_2022/50.50.10/scr_apop_wt_div/GV0820_Pos5_44_RFP_N_cells / /media/nathan/Transcend/Nathan/data/analysis_results/radial_analysis_output/follow/feb_2022/50.50.10/scr_apop_wt_div/GV0820_Pos5_44_RFP_N_events saved out successfully',\n",
       "  '/media/nathan/Transcend/Nathan/data/analysis_results/radial_analysis_output/follow/feb_2022/50.50.10/scr_apop_wt_div/GV0820_Pos5_420_RFP_N_cells / /media/nathan/Transcend/Nathan/data/analysis_results/radial_analysis_output/follow/feb_2022/50.50.10/scr_apop_wt_div/GV0820_Pos5_420_RFP_N_events saved out successfully',\n",
       "  '/media/nathan/Transcend/Nathan/data/analysis_results/radial_analysis_output/follow/feb_2022/50.50.10/scr_apop_wt_div/GV0820_Pos5_10_RFP_N_cells / /media/nathan/Transcend/Nathan/data/analysis_results/radial_analysis_output/follow/feb_2022/50.50.10/scr_apop_wt_div/GV0820_Pos5_10_RFP_N_events saved out successfully',\n",
       "  '/media/nathan/Transcend/Nathan/data/analysis_results/radial_analysis_output/follow/feb_2022/50.50.10/scr_apop_wt_div/GV0820_Pos5_445_RFP_N_cells / /media/nathan/Transcend/Nathan/data/analysis_results/radial_analysis_output/follow/feb_2022/50.50.10/scr_apop_wt_div/GV0820_Pos5_445_RFP_N_events saved out successfully',\n",
       "  '/media/nathan/Transcend/Nathan/data/analysis_results/radial_analysis_output/follow/feb_2022/50.50.10/scr_apop_wt_div/GV0820_Pos5_302_RFP_N_cells / /media/nathan/Transcend/Nathan/data/analysis_results/radial_analysis_output/follow/feb_2022/50.50.10/scr_apop_wt_div/GV0820_Pos5_302_RFP_N_events saved out successfully',\n",
       "  '/media/nathan/Transcend/Nathan/data/analysis_results/radial_analysis_output/follow/feb_2022/50.50.10/scr_apop_wt_div/GV0820_Pos5_562_RFP_N_cells / /media/nathan/Transcend/Nathan/data/analysis_results/radial_analysis_output/follow/feb_2022/50.50.10/scr_apop_wt_div/GV0820_Pos5_562_RFP_N_events saved out successfully',\n",
       "  '/media/nathan/Transcend/Nathan/data/analysis_results/radial_analysis_output/follow/feb_2022/50.50.10/scr_apop_wt_div/GV0820_Pos5_972_RFP_N_cells / /media/nathan/Transcend/Nathan/data/analysis_results/radial_analysis_output/follow/feb_2022/50.50.10/scr_apop_wt_div/GV0820_Pos5_972_RFP_N_events saved out successfully',\n",
       "  '/media/nathan/Transcend/Nathan/data/analysis_results/radial_analysis_output/follow/feb_2022/50.50.10/scr_apop_wt_div/GV0796_Pos5_504_RFP_N_cells / /media/nathan/Transcend/Nathan/data/analysis_results/radial_analysis_output/follow/feb_2022/50.50.10/scr_apop_wt_div/GV0796_Pos5_504_RFP_N_events saved out successfully',\n",
       "  '/media/nathan/Transcend/Nathan/data/analysis_results/radial_analysis_output/follow/feb_2022/50.50.10/scr_apop_wt_div/GV0796_Pos5_72_RFP_N_cells / /media/nathan/Transcend/Nathan/data/analysis_results/radial_analysis_output/follow/feb_2022/50.50.10/scr_apop_wt_div/GV0796_Pos5_72_RFP_N_events saved out successfully',\n",
       "  '/media/nathan/Transcend/Nathan/data/analysis_results/radial_analysis_output/follow/feb_2022/50.50.10/scr_apop_wt_div/GV0796_Pos5_943_RFP_N_cells / /media/nathan/Transcend/Nathan/data/analysis_results/radial_analysis_output/follow/feb_2022/50.50.10/scr_apop_wt_div/GV0796_Pos5_943_RFP_N_events saved out successfully',\n",
       "  '/media/nathan/Transcend/Nathan/data/analysis_results/radial_analysis_output/follow/feb_2022/50.50.10/scr_apop_wt_div/GV0796_Pos5_358_RFP_N_cells / /media/nathan/Transcend/Nathan/data/analysis_results/radial_analysis_output/follow/feb_2022/50.50.10/scr_apop_wt_div/GV0796_Pos5_358_RFP_N_events saved out successfully',\n",
       "  '/media/nathan/Transcend/Nathan/data/analysis_results/radial_analysis_output/follow/feb_2022/50.50.10/scr_apop_wt_div/GV0796_Pos5_651_RFP_N_cells / /media/nathan/Transcend/Nathan/data/analysis_results/radial_analysis_output/follow/feb_2022/50.50.10/scr_apop_wt_div/GV0796_Pos5_651_RFP_N_events saved out successfully',\n",
       "  '/media/nathan/Transcend/Nathan/data/analysis_results/radial_analysis_output/follow/feb_2022/50.50.10/scr_apop_wt_div/GV0796_Pos5_1365_RFP_N_cells / /media/nathan/Transcend/Nathan/data/analysis_results/radial_analysis_output/follow/feb_2022/50.50.10/scr_apop_wt_div/GV0796_Pos5_1365_RFP_N_events saved out successfully',\n",
       "  '/media/nathan/Transcend/Nathan/data/analysis_results/radial_analysis_output/follow/feb_2022/50.50.10/scr_apop_wt_div/GV0796_Pos5_1006_RFP_N_cells / /media/nathan/Transcend/Nathan/data/analysis_results/radial_analysis_output/follow/feb_2022/50.50.10/scr_apop_wt_div/GV0796_Pos5_1006_RFP_N_events saved out successfully',\n",
       "  '/media/nathan/Transcend/Nathan/data/analysis_results/radial_analysis_output/follow/feb_2022/50.50.10/scr_apop_wt_div/GV0796_Pos5_763_RFP_N_cells / /media/nathan/Transcend/Nathan/data/analysis_results/radial_analysis_output/follow/feb_2022/50.50.10/scr_apop_wt_div/GV0796_Pos5_763_RFP_N_events saved out successfully',\n",
       "  '/media/nathan/Transcend/Nathan/data/analysis_results/radial_analysis_output/follow/feb_2022/50.50.10/scr_apop_wt_div/GV0796_Pos5_1243_RFP_N_cells / /media/nathan/Transcend/Nathan/data/analysis_results/radial_analysis_output/follow/feb_2022/50.50.10/scr_apop_wt_div/GV0796_Pos5_1243_RFP_N_events saved out successfully',\n",
       "  '/media/nathan/Transcend/Nathan/data/analysis_results/radial_analysis_output/follow/feb_2022/50.50.10/scr_apop_wt_div/GV0796_Pos5_1481_RFP_N_cells / /media/nathan/Transcend/Nathan/data/analysis_results/radial_analysis_output/follow/feb_2022/50.50.10/scr_apop_wt_div/GV0796_Pos5_1481_RFP_N_events saved out successfully',\n",
       "  '/media/nathan/Transcend/Nathan/data/analysis_results/radial_analysis_output/follow/feb_2022/50.50.10/scr_apop_wt_div/GV0796_Pos5_1242_RFP_N_cells / /media/nathan/Transcend/Nathan/data/analysis_results/radial_analysis_output/follow/feb_2022/50.50.10/scr_apop_wt_div/GV0796_Pos5_1242_RFP_N_events saved out successfully',\n",
       "  '/media/nathan/Transcend/Nathan/data/analysis_results/radial_analysis_output/follow/feb_2022/50.50.10/scr_apop_wt_div/GV0796_Pos5_88_RFP_N_cells / /media/nathan/Transcend/Nathan/data/analysis_results/radial_analysis_output/follow/feb_2022/50.50.10/scr_apop_wt_div/GV0796_Pos5_88_RFP_N_events saved out successfully',\n",
       "  '/media/nathan/Transcend/Nathan/data/analysis_results/radial_analysis_output/follow/feb_2022/50.50.10/scr_apop_wt_div/GV0796_Pos5_244_RFP_N_cells / /media/nathan/Transcend/Nathan/data/analysis_results/radial_analysis_output/follow/feb_2022/50.50.10/scr_apop_wt_div/GV0796_Pos5_244_RFP_N_events saved out successfully',\n",
       "  '/media/nathan/Transcend/Nathan/data/analysis_results/radial_analysis_output/follow/feb_2022/50.50.10/scr_apop_wt_div/GV0796_Pos5_56_RFP_N_cells / /media/nathan/Transcend/Nathan/data/analysis_results/radial_analysis_output/follow/feb_2022/50.50.10/scr_apop_wt_div/GV0796_Pos5_56_RFP_N_events saved out successfully',\n",
       "  '/media/nathan/Transcend/Nathan/data/analysis_results/radial_analysis_output/follow/feb_2022/50.50.10/scr_apop_wt_div/GV0796_Pos5_583_RFP_N_cells / /media/nathan/Transcend/Nathan/data/analysis_results/radial_analysis_output/follow/feb_2022/50.50.10/scr_apop_wt_div/GV0796_Pos5_583_RFP_N_events saved out successfully',\n",
       "  '/media/nathan/Transcend/Nathan/data/analysis_results/radial_analysis_output/follow/feb_2022/50.50.10/scr_apop_wt_div/GV0796_Pos5_1522_RFP_N_cells / /media/nathan/Transcend/Nathan/data/analysis_results/radial_analysis_output/follow/feb_2022/50.50.10/scr_apop_wt_div/GV0796_Pos5_1522_RFP_N_events saved out successfully',\n",
       "  '/media/nathan/Transcend/Nathan/data/analysis_results/radial_analysis_output/follow/feb_2022/50.50.10/scr_apop_wt_div/GV0796_Pos5_1521_RFP_N_cells / /media/nathan/Transcend/Nathan/data/analysis_results/radial_analysis_output/follow/feb_2022/50.50.10/scr_apop_wt_div/GV0796_Pos5_1521_RFP_N_events saved out successfully',\n",
       "  '/media/nathan/Transcend/Nathan/data/analysis_results/radial_analysis_output/follow/feb_2022/50.50.10/scr_apop_wt_div/GV0796_Pos5_1324_RFP_N_cells / /media/nathan/Transcend/Nathan/data/analysis_results/radial_analysis_output/follow/feb_2022/50.50.10/scr_apop_wt_div/GV0796_Pos5_1324_RFP_N_events saved out successfully',\n",
       "  '/media/nathan/Transcend/Nathan/data/analysis_results/radial_analysis_output/follow/feb_2022/50.50.10/scr_apop_wt_div/GV0796_Pos5_996_RFP_N_cells / /media/nathan/Transcend/Nathan/data/analysis_results/radial_analysis_output/follow/feb_2022/50.50.10/scr_apop_wt_div/GV0796_Pos5_996_RFP_N_events saved out successfully',\n",
       "  '/media/nathan/Transcend/Nathan/data/analysis_results/radial_analysis_output/follow/feb_2022/50.50.10/scr_apop_wt_div/GV0796_Pos5_73_RFP_N_cells / /media/nathan/Transcend/Nathan/data/analysis_results/radial_analysis_output/follow/feb_2022/50.50.10/scr_apop_wt_div/GV0796_Pos5_73_RFP_N_events saved out successfully',\n",
       "  '/media/nathan/Transcend/Nathan/data/analysis_results/radial_analysis_output/follow/feb_2022/50.50.10/scr_apop_wt_div/GV0796_Pos5_103_RFP_N_cells / /media/nathan/Transcend/Nathan/data/analysis_results/radial_analysis_output/follow/feb_2022/50.50.10/scr_apop_wt_div/GV0796_Pos5_103_RFP_N_events saved out successfully',\n",
       "  '/media/nathan/Transcend/Nathan/data/analysis_results/radial_analysis_output/follow/feb_2022/50.50.10/scr_apop_wt_div/GV0796_Pos5_80_RFP_N_cells / /media/nathan/Transcend/Nathan/data/analysis_results/radial_analysis_output/follow/feb_2022/50.50.10/scr_apop_wt_div/GV0796_Pos5_80_RFP_N_events saved out successfully',\n",
       "  '/media/nathan/Transcend/Nathan/data/analysis_results/radial_analysis_output/follow/feb_2022/50.50.10/scr_apop_wt_div/GV0796_Pos5_17_RFP_N_cells / /media/nathan/Transcend/Nathan/data/analysis_results/radial_analysis_output/follow/feb_2022/50.50.10/scr_apop_wt_div/GV0796_Pos5_17_RFP_N_events saved out successfully',\n",
       "  '/media/nathan/Transcend/Nathan/data/analysis_results/radial_analysis_output/follow/feb_2022/50.50.10/scr_apop_wt_div/GV0796_Pos5_436_RFP_N_cells / /media/nathan/Transcend/Nathan/data/analysis_results/radial_analysis_output/follow/feb_2022/50.50.10/scr_apop_wt_div/GV0796_Pos5_436_RFP_N_events saved out successfully',\n",
       "  '/media/nathan/Transcend/Nathan/data/analysis_results/radial_analysis_output/follow/feb_2022/50.50.10/scr_apop_wt_div/GV0796_Pos5_928_RFP_N_cells / /media/nathan/Transcend/Nathan/data/analysis_results/radial_analysis_output/follow/feb_2022/50.50.10/scr_apop_wt_div/GV0796_Pos5_928_RFP_N_events saved out successfully',\n",
       "  '/media/nathan/Transcend/Nathan/data/analysis_results/radial_analysis_output/follow/feb_2022/50.50.10/scr_apop_wt_div/GV0796_Pos5_293_RFP_N_cells / /media/nathan/Transcend/Nathan/data/analysis_results/radial_analysis_output/follow/feb_2022/50.50.10/scr_apop_wt_div/GV0796_Pos5_293_RFP_N_events saved out successfully',\n",
       "  '/media/nathan/Transcend/Nathan/data/analysis_results/radial_analysis_output/follow/feb_2022/50.50.10/scr_apop_wt_div/GV0796_Pos5_857_RFP_N_cells / /media/nathan/Transcend/Nathan/data/analysis_results/radial_analysis_output/follow/feb_2022/50.50.10/scr_apop_wt_div/GV0796_Pos5_857_RFP_N_events saved out successfully',\n",
       "  '/media/nathan/Transcend/Nathan/data/analysis_results/radial_analysis_output/follow/feb_2022/50.50.10/scr_apop_wt_div/GV0796_Pos5_858_RFP_N_cells / /media/nathan/Transcend/Nathan/data/analysis_results/radial_analysis_output/follow/feb_2022/50.50.10/scr_apop_wt_div/GV0796_Pos5_858_RFP_N_events saved out successfully',\n",
       "  '/media/nathan/Transcend/Nathan/data/analysis_results/radial_analysis_output/follow/feb_2022/50.50.10/scr_apop_wt_div/GV0796_Pos5_673_RFP_N_cells / /media/nathan/Transcend/Nathan/data/analysis_results/radial_analysis_output/follow/feb_2022/50.50.10/scr_apop_wt_div/GV0796_Pos5_673_RFP_N_events saved out successfully',\n",
       "  '/media/nathan/Transcend/Nathan/data/analysis_results/radial_analysis_output/follow/feb_2022/50.50.10/scr_apop_wt_div/GV0796_Pos5_1188_RFP_N_cells / /media/nathan/Transcend/Nathan/data/analysis_results/radial_analysis_output/follow/feb_2022/50.50.10/scr_apop_wt_div/GV0796_Pos5_1188_RFP_N_events saved out successfully',\n",
       "  '/media/nathan/Transcend/Nathan/data/analysis_results/radial_analysis_output/follow/feb_2022/50.50.10/scr_apop_wt_div/GV0796_Pos5_11_RFP_N_cells / /media/nathan/Transcend/Nathan/data/analysis_results/radial_analysis_output/follow/feb_2022/50.50.10/scr_apop_wt_div/GV0796_Pos5_11_RFP_N_events saved out successfully',\n",
       "  '/media/nathan/Transcend/Nathan/data/analysis_results/radial_analysis_output/follow/feb_2022/50.50.10/scr_apop_wt_div/GV0796_Pos5_12_RFP_N_cells / /media/nathan/Transcend/Nathan/data/analysis_results/radial_analysis_output/follow/feb_2022/50.50.10/scr_apop_wt_div/GV0796_Pos5_12_RFP_N_events saved out successfully',\n",
       "  '/media/nathan/Transcend/Nathan/data/analysis_results/radial_analysis_output/follow/feb_2022/50.50.10/scr_apop_wt_div/GV0796_Pos5_175_RFP_N_cells / /media/nathan/Transcend/Nathan/data/analysis_results/radial_analysis_output/follow/feb_2022/50.50.10/scr_apop_wt_div/GV0796_Pos5_175_RFP_N_events saved out successfully',\n",
       "  '/media/nathan/Transcend/Nathan/data/analysis_results/radial_analysis_output/follow/feb_2022/50.50.10/scr_apop_wt_div/GV0796_Pos5_470_RFP_N_cells / /media/nathan/Transcend/Nathan/data/analysis_results/radial_analysis_output/follow/feb_2022/50.50.10/scr_apop_wt_div/GV0796_Pos5_470_RFP_N_events saved out successfully',\n",
       "  '/media/nathan/Transcend/Nathan/data/analysis_results/radial_analysis_output/follow/feb_2022/50.50.10/scr_apop_wt_div/GV0796_Pos5_527_RFP_N_cells / /media/nathan/Transcend/Nathan/data/analysis_results/radial_analysis_output/follow/feb_2022/50.50.10/scr_apop_wt_div/GV0796_Pos5_527_RFP_N_events saved out successfully',\n",
       "  '/media/nathan/Transcend/Nathan/data/analysis_results/radial_analysis_output/follow/feb_2022/50.50.10/scr_apop_wt_div/GV0796_Pos5_459_RFP_N_cells / /media/nathan/Transcend/Nathan/data/analysis_results/radial_analysis_output/follow/feb_2022/50.50.10/scr_apop_wt_div/GV0796_Pos5_459_RFP_N_events saved out successfully',\n",
       "  '/media/nathan/Transcend/Nathan/data/analysis_results/radial_analysis_output/follow/feb_2022/50.50.10/scr_apop_wt_div/GV0796_Pos5_687_RFP_N_cells / /media/nathan/Transcend/Nathan/data/analysis_results/radial_analysis_output/follow/feb_2022/50.50.10/scr_apop_wt_div/GV0796_Pos5_687_RFP_N_events saved out successfully',\n",
       "  '/media/nathan/Transcend/Nathan/data/analysis_results/radial_analysis_output/follow/feb_2022/50.50.10/scr_apop_wt_div/GV0796_Pos5_718_RFP_N_cells / /media/nathan/Transcend/Nathan/data/analysis_results/radial_analysis_output/follow/feb_2022/50.50.10/scr_apop_wt_div/GV0796_Pos5_718_RFP_N_events saved out successfully',\n",
       "  '/media/nathan/Transcend/Nathan/data/analysis_results/radial_analysis_output/follow/feb_2022/50.50.10/scr_apop_wt_div/GV0796_Pos5_30_RFP_N_cells / /media/nathan/Transcend/Nathan/data/analysis_results/radial_analysis_output/follow/feb_2022/50.50.10/scr_apop_wt_div/GV0796_Pos5_30_RFP_N_events saved out successfully',\n",
       "  '/media/nathan/Transcend/Nathan/data/analysis_results/radial_analysis_output/follow/feb_2022/50.50.10/scr_apop_wt_div/GV0796_Pos5_613_RFP_N_cells / /media/nathan/Transcend/Nathan/data/analysis_results/radial_analysis_output/follow/feb_2022/50.50.10/scr_apop_wt_div/GV0796_Pos5_613_RFP_N_events saved out successfully',\n",
       "  '/media/nathan/Transcend/Nathan/data/analysis_results/radial_analysis_output/follow/feb_2022/50.50.10/scr_apop_wt_div/GV0796_Pos5_717_RFP_N_cells / /media/nathan/Transcend/Nathan/data/analysis_results/radial_analysis_output/follow/feb_2022/50.50.10/scr_apop_wt_div/GV0796_Pos5_717_RFP_N_events saved out successfully',\n",
       "  '/media/nathan/Transcend/Nathan/data/analysis_results/radial_analysis_output/follow/feb_2022/50.50.10/scr_apop_wt_div/GV0796_Pos5_404_RFP_N_cells / /media/nathan/Transcend/Nathan/data/analysis_results/radial_analysis_output/follow/feb_2022/50.50.10/scr_apop_wt_div/GV0796_Pos5_404_RFP_N_events saved out successfully',\n",
       "  '/media/nathan/Transcend/Nathan/data/analysis_results/radial_analysis_output/follow/feb_2022/50.50.10/scr_apop_wt_div/GV0796_Pos5_37_RFP_N_cells / /media/nathan/Transcend/Nathan/data/analysis_results/radial_analysis_output/follow/feb_2022/50.50.10/scr_apop_wt_div/GV0796_Pos5_37_RFP_N_events saved out successfully',\n",
       "  '/media/nathan/Transcend/Nathan/data/analysis_results/radial_analysis_output/follow/feb_2022/50.50.10/scr_apop_wt_div/GV0796_Pos5_281_RFP_N_cells / /media/nathan/Transcend/Nathan/data/analysis_results/radial_analysis_output/follow/feb_2022/50.50.10/scr_apop_wt_div/GV0796_Pos5_281_RFP_N_events saved out successfully',\n",
       "  '/media/nathan/Transcend/Nathan/data/analysis_results/radial_analysis_output/follow/feb_2022/50.50.10/scr_apop_wt_div/GV0796_Pos5_235_RFP_N_cells / /media/nathan/Transcend/Nathan/data/analysis_results/radial_analysis_output/follow/feb_2022/50.50.10/scr_apop_wt_div/GV0796_Pos5_235_RFP_N_events saved out successfully',\n",
       "  '/media/nathan/Transcend/Nathan/data/analysis_results/radial_analysis_output/follow/feb_2022/50.50.10/scr_apop_wt_div/GV0796_Pos5_828_RFP_N_cells / /media/nathan/Transcend/Nathan/data/analysis_results/radial_analysis_output/follow/feb_2022/50.50.10/scr_apop_wt_div/GV0796_Pos5_828_RFP_N_events saved out successfully',\n",
       "  '/media/nathan/Transcend/Nathan/data/analysis_results/radial_analysis_output/follow/feb_2022/50.50.10/scr_apop_wt_div/GV0796_Pos5_1070_RFP_N_cells / /media/nathan/Transcend/Nathan/data/analysis_results/radial_analysis_output/follow/feb_2022/50.50.10/scr_apop_wt_div/GV0796_Pos5_1070_RFP_N_events saved out successfully',\n",
       "  '/media/nathan/Transcend/Nathan/data/analysis_results/radial_analysis_output/follow/feb_2022/50.50.10/scr_apop_wt_div/GV0796_Pos5_703_RFP_N_cells / /media/nathan/Transcend/Nathan/data/analysis_results/radial_analysis_output/follow/feb_2022/50.50.10/scr_apop_wt_div/GV0796_Pos5_703_RFP_N_events saved out successfully',\n",
       "  '/media/nathan/Transcend/Nathan/data/analysis_results/radial_analysis_output/follow/feb_2022/50.50.10/scr_apop_wt_div/GV0796_Pos5_704_RFP_N_cells / /media/nathan/Transcend/Nathan/data/analysis_results/radial_analysis_output/follow/feb_2022/50.50.10/scr_apop_wt_div/GV0796_Pos5_704_RFP_N_events saved out successfully',\n",
       "  '/media/nathan/Transcend/Nathan/data/analysis_results/radial_analysis_output/follow/feb_2022/50.50.10/scr_apop_wt_div/GV0796_Pos5_1509_RFP_N_cells / /media/nathan/Transcend/Nathan/data/analysis_results/radial_analysis_output/follow/feb_2022/50.50.10/scr_apop_wt_div/GV0796_Pos5_1509_RFP_N_events saved out successfully',\n",
       "  '/media/nathan/Transcend/Nathan/data/analysis_results/radial_analysis_output/follow/feb_2022/50.50.10/scr_apop_wt_div/GV0796_Pos5_1510_RFP_N_cells / /media/nathan/Transcend/Nathan/data/analysis_results/radial_analysis_output/follow/feb_2022/50.50.10/scr_apop_wt_div/GV0796_Pos5_1510_RFP_N_events saved out successfully',\n",
       "  '/media/nathan/Transcend/Nathan/data/analysis_results/radial_analysis_output/follow/feb_2022/50.50.10/scr_apop_wt_div/GV0796_Pos5_979_RFP_N_cells / /media/nathan/Transcend/Nathan/data/analysis_results/radial_analysis_output/follow/feb_2022/50.50.10/scr_apop_wt_div/GV0796_Pos5_979_RFP_N_events saved out successfully',\n",
       "  '/media/nathan/Transcend/Nathan/data/analysis_results/radial_analysis_output/follow/feb_2022/50.50.10/scr_apop_wt_div/GV0796_Pos5_930_RFP_N_cells / /media/nathan/Transcend/Nathan/data/analysis_results/radial_analysis_output/follow/feb_2022/50.50.10/scr_apop_wt_div/GV0796_Pos5_930_RFP_N_events saved out successfully',\n",
       "  '/media/nathan/Transcend/Nathan/data/analysis_results/radial_analysis_output/follow/feb_2022/50.50.10/scr_apop_wt_div/GV0796_Pos5_1455_RFP_N_cells / /media/nathan/Transcend/Nathan/data/analysis_results/radial_analysis_output/follow/feb_2022/50.50.10/scr_apop_wt_div/GV0796_Pos5_1455_RFP_N_events saved out successfully',\n",
       "  '/media/nathan/Transcend/Nathan/data/analysis_results/radial_analysis_output/follow/feb_2022/50.50.10/scr_apop_wt_div/GV0796_Pos5_1456_RFP_N_cells / /media/nathan/Transcend/Nathan/data/analysis_results/radial_analysis_output/follow/feb_2022/50.50.10/scr_apop_wt_div/GV0796_Pos5_1456_RFP_N_events saved out successfully',\n",
       "  '/media/nathan/Transcend/Nathan/data/analysis_results/radial_analysis_output/follow/feb_2022/50.50.10/scr_apop_wt_div/GV0796_Pos5_1458_RFP_N_cells / /media/nathan/Transcend/Nathan/data/analysis_results/radial_analysis_output/follow/feb_2022/50.50.10/scr_apop_wt_div/GV0796_Pos5_1458_RFP_N_events saved out successfully',\n",
       "  '/media/nathan/Transcend/Nathan/data/analysis_results/radial_analysis_output/follow/feb_2022/50.50.10/scr_apop_wt_div/GV0796_Pos5_1581_RFP_N_cells / /media/nathan/Transcend/Nathan/data/analysis_results/radial_analysis_output/follow/feb_2022/50.50.10/scr_apop_wt_div/GV0796_Pos5_1581_RFP_N_events saved out successfully',\n",
       "  '/media/nathan/Transcend/Nathan/data/analysis_results/radial_analysis_output/follow/feb_2022/50.50.10/scr_apop_wt_div/GV0796_Pos6_570_RFP_N_cells / /media/nathan/Transcend/Nathan/data/analysis_results/radial_analysis_output/follow/feb_2022/50.50.10/scr_apop_wt_div/GV0796_Pos6_570_RFP_N_events saved out successfully',\n",
       "  '/media/nathan/Transcend/Nathan/data/analysis_results/radial_analysis_output/follow/feb_2022/50.50.10/scr_apop_wt_div/GV0796_Pos6_569_RFP_N_cells / /media/nathan/Transcend/Nathan/data/analysis_results/radial_analysis_output/follow/feb_2022/50.50.10/scr_apop_wt_div/GV0796_Pos6_569_RFP_N_events saved out successfully',\n",
       "  '/media/nathan/Transcend/Nathan/data/analysis_results/radial_analysis_output/follow/feb_2022/50.50.10/scr_apop_wt_div/GV0796_Pos6_60_RFP_N_cells / /media/nathan/Transcend/Nathan/data/analysis_results/radial_analysis_output/follow/feb_2022/50.50.10/scr_apop_wt_div/GV0796_Pos6_60_RFP_N_events saved out successfully',\n",
       "  '/media/nathan/Transcend/Nathan/data/analysis_results/radial_analysis_output/follow/feb_2022/50.50.10/scr_apop_wt_div/GV0796_Pos6_57_RFP_N_cells / /media/nathan/Transcend/Nathan/data/analysis_results/radial_analysis_output/follow/feb_2022/50.50.10/scr_apop_wt_div/GV0796_Pos6_57_RFP_N_events saved out successfully',\n",
       "  '/media/nathan/Transcend/Nathan/data/analysis_results/radial_analysis_output/follow/feb_2022/50.50.10/scr_apop_wt_div/GV0796_Pos6_344_RFP_N_cells / /media/nathan/Transcend/Nathan/data/analysis_results/radial_analysis_output/follow/feb_2022/50.50.10/scr_apop_wt_div/GV0796_Pos6_344_RFP_N_events saved out successfully',\n",
       "  '/media/nathan/Transcend/Nathan/data/analysis_results/radial_analysis_output/follow/feb_2022/50.50.10/scr_apop_wt_div/GV0796_Pos6_39_RFP_N_cells / /media/nathan/Transcend/Nathan/data/analysis_results/radial_analysis_output/follow/feb_2022/50.50.10/scr_apop_wt_div/GV0796_Pos6_39_RFP_N_events saved out successfully',\n",
       "  '/media/nathan/Transcend/Nathan/data/analysis_results/radial_analysis_output/follow/feb_2022/50.50.10/scr_apop_wt_div/GV0796_Pos6_664_RFP_N_cells / /media/nathan/Transcend/Nathan/data/analysis_results/radial_analysis_output/follow/feb_2022/50.50.10/scr_apop_wt_div/GV0796_Pos6_664_RFP_N_events saved out successfully',\n",
       "  '/media/nathan/Transcend/Nathan/data/analysis_results/radial_analysis_output/follow/feb_2022/50.50.10/scr_apop_wt_div/GV0796_Pos6_565_RFP_N_cells / /media/nathan/Transcend/Nathan/data/analysis_results/radial_analysis_output/follow/feb_2022/50.50.10/scr_apop_wt_div/GV0796_Pos6_565_RFP_N_events saved out successfully',\n",
       "  '/media/nathan/Transcend/Nathan/data/analysis_results/radial_analysis_output/follow/feb_2022/50.50.10/scr_apop_wt_div/GV0796_Pos6_566_RFP_N_cells / /media/nathan/Transcend/Nathan/data/analysis_results/radial_analysis_output/follow/feb_2022/50.50.10/scr_apop_wt_div/GV0796_Pos6_566_RFP_N_events saved out successfully',\n",
       "  '/media/nathan/Transcend/Nathan/data/analysis_results/radial_analysis_output/follow/feb_2022/50.50.10/scr_apop_wt_div/GV0796_Pos6_841_RFP_N_cells / /media/nathan/Transcend/Nathan/data/analysis_results/radial_analysis_output/follow/feb_2022/50.50.10/scr_apop_wt_div/GV0796_Pos6_841_RFP_N_events saved out successfully',\n",
       "  '/media/nathan/Transcend/Nathan/data/analysis_results/radial_analysis_output/follow/feb_2022/50.50.10/scr_apop_wt_div/GV0796_Pos6_541_RFP_N_cells / /media/nathan/Transcend/Nathan/data/analysis_results/radial_analysis_output/follow/feb_2022/50.50.10/scr_apop_wt_div/GV0796_Pos6_541_RFP_N_events saved out successfully',\n",
       "  '/media/nathan/Transcend/Nathan/data/analysis_results/radial_analysis_output/follow/feb_2022/50.50.10/scr_apop_wt_div/GV0796_Pos6_839_RFP_N_cells / /media/nathan/Transcend/Nathan/data/analysis_results/radial_analysis_output/follow/feb_2022/50.50.10/scr_apop_wt_div/GV0796_Pos6_839_RFP_N_events saved out successfully',\n",
       "  '/media/nathan/Transcend/Nathan/data/analysis_results/radial_analysis_output/follow/feb_2022/50.50.10/scr_apop_wt_div/GV0796_Pos6_579_RFP_N_cells / /media/nathan/Transcend/Nathan/data/analysis_results/radial_analysis_output/follow/feb_2022/50.50.10/scr_apop_wt_div/GV0796_Pos6_579_RFP_N_events saved out successfully',\n",
       "  '/media/nathan/Transcend/Nathan/data/analysis_results/radial_analysis_output/follow/feb_2022/50.50.10/scr_apop_wt_div/GV0796_Pos6_542_RFP_N_cells / /media/nathan/Transcend/Nathan/data/analysis_results/radial_analysis_output/follow/feb_2022/50.50.10/scr_apop_wt_div/GV0796_Pos6_542_RFP_N_events saved out successfully',\n",
       "  '/media/nathan/Transcend/Nathan/data/analysis_results/radial_analysis_output/follow/feb_2022/50.50.10/scr_apop_wt_div/GV0796_Pos6_201_RFP_N_cells / /media/nathan/Transcend/Nathan/data/analysis_results/radial_analysis_output/follow/feb_2022/50.50.10/scr_apop_wt_div/GV0796_Pos6_201_RFP_N_events saved out successfully',\n",
       "  '/media/nathan/Transcend/Nathan/data/analysis_results/radial_analysis_output/follow/feb_2022/50.50.10/scr_apop_wt_div/GV0796_Pos6_881_RFP_N_cells / /media/nathan/Transcend/Nathan/data/analysis_results/radial_analysis_output/follow/feb_2022/50.50.10/scr_apop_wt_div/GV0796_Pos6_881_RFP_N_events saved out successfully',\n",
       "  '/media/nathan/Transcend/Nathan/data/analysis_results/radial_analysis_output/follow/feb_2022/50.50.10/scr_apop_wt_div/GV0796_Pos6_7_RFP_N_cells / /media/nathan/Transcend/Nathan/data/analysis_results/radial_analysis_output/follow/feb_2022/50.50.10/scr_apop_wt_div/GV0796_Pos6_7_RFP_N_events saved out successfully',\n",
       "  '/media/nathan/Transcend/Nathan/data/analysis_results/radial_analysis_output/follow/feb_2022/50.50.10/scr_apop_wt_div/GV0796_Pos6_638_RFP_N_cells / /media/nathan/Transcend/Nathan/data/analysis_results/radial_analysis_output/follow/feb_2022/50.50.10/scr_apop_wt_div/GV0796_Pos6_638_RFP_N_events saved out successfully',\n",
       "  '/media/nathan/Transcend/Nathan/data/analysis_results/radial_analysis_output/follow/feb_2022/50.50.10/scr_apop_wt_div/GV0796_Pos6_1063_RFP_N_cells / /media/nathan/Transcend/Nathan/data/analysis_results/radial_analysis_output/follow/feb_2022/50.50.10/scr_apop_wt_div/GV0796_Pos6_1063_RFP_N_events saved out successfully',\n",
       "  '/media/nathan/Transcend/Nathan/data/analysis_results/radial_analysis_output/follow/feb_2022/50.50.10/scr_apop_wt_div/GV0796_Pos6_30_RFP_N_cells / /media/nathan/Transcend/Nathan/data/analysis_results/radial_analysis_output/follow/feb_2022/50.50.10/scr_apop_wt_div/GV0796_Pos6_30_RFP_N_events saved out successfully',\n",
       "  '/media/nathan/Transcend/Nathan/data/analysis_results/radial_analysis_output/follow/feb_2022/50.50.10/scr_apop_wt_div/GV0796_Pos6_86_RFP_N_cells / /media/nathan/Transcend/Nathan/data/analysis_results/radial_analysis_output/follow/feb_2022/50.50.10/scr_apop_wt_div/GV0796_Pos6_86_RFP_N_events saved out successfully',\n",
       "  '/media/nathan/Transcend/Nathan/data/analysis_results/radial_analysis_output/follow/feb_2022/50.50.10/scr_apop_wt_div/GV0796_Pos6_1022_RFP_N_cells / /media/nathan/Transcend/Nathan/data/analysis_results/radial_analysis_output/follow/feb_2022/50.50.10/scr_apop_wt_div/GV0796_Pos6_1022_RFP_N_events saved out successfully',\n",
       "  '/media/nathan/Transcend/Nathan/data/analysis_results/radial_analysis_output/follow/feb_2022/50.50.10/scr_apop_wt_div/GV0796_Pos6_1146_RFP_N_cells / /media/nathan/Transcend/Nathan/data/analysis_results/radial_analysis_output/follow/feb_2022/50.50.10/scr_apop_wt_div/GV0796_Pos6_1146_RFP_N_events saved out successfully',\n",
       "  '/media/nathan/Transcend/Nathan/data/analysis_results/radial_analysis_output/follow/feb_2022/50.50.10/scr_apop_wt_div/GV0796_Pos6_885_RFP_N_cells / /media/nathan/Transcend/Nathan/data/analysis_results/radial_analysis_output/follow/feb_2022/50.50.10/scr_apop_wt_div/GV0796_Pos6_885_RFP_N_events saved out successfully',\n",
       "  '/media/nathan/Transcend/Nathan/data/analysis_results/radial_analysis_output/follow/feb_2022/50.50.10/scr_apop_wt_div/GV0796_Pos6_1021_RFP_N_cells / /media/nathan/Transcend/Nathan/data/analysis_results/radial_analysis_output/follow/feb_2022/50.50.10/scr_apop_wt_div/GV0796_Pos6_1021_RFP_N_events saved out successfully',\n",
       "  '/media/nathan/Transcend/Nathan/data/analysis_results/radial_analysis_output/follow/feb_2022/50.50.10/scr_apop_wt_div/GV0796_Pos6_18_RFP_N_cells / /media/nathan/Transcend/Nathan/data/analysis_results/radial_analysis_output/follow/feb_2022/50.50.10/scr_apop_wt_div/GV0796_Pos6_18_RFP_N_events saved out successfully',\n",
       "  '/media/nathan/Transcend/Nathan/data/analysis_results/radial_analysis_output/follow/feb_2022/50.50.10/scr_apop_wt_div/GV0797_Pos5_20_RFP_N_cells / /media/nathan/Transcend/Nathan/data/analysis_results/radial_analysis_output/follow/feb_2022/50.50.10/scr_apop_wt_div/GV0797_Pos5_20_RFP_N_events saved out successfully',\n",
       "  '/media/nathan/Transcend/Nathan/data/analysis_results/radial_analysis_output/follow/feb_2022/50.50.10/scr_apop_wt_div/GV0797_Pos5_15_RFP_N_cells / /media/nathan/Transcend/Nathan/data/analysis_results/radial_analysis_output/follow/feb_2022/50.50.10/scr_apop_wt_div/GV0797_Pos5_15_RFP_N_events saved out successfully',\n",
       "  '/media/nathan/Transcend/Nathan/data/analysis_results/radial_analysis_output/follow/feb_2022/50.50.10/scr_apop_wt_div/GV0797_Pos5_13_RFP_N_cells / /media/nathan/Transcend/Nathan/data/analysis_results/radial_analysis_output/follow/feb_2022/50.50.10/scr_apop_wt_div/GV0797_Pos5_13_RFP_N_events saved out successfully',\n",
       "  '/media/nathan/Transcend/Nathan/data/analysis_results/radial_analysis_output/follow/feb_2022/50.50.10/scr_apop_wt_div/GV0797_Pos5_129_RFP_N_cells / /media/nathan/Transcend/Nathan/data/analysis_results/radial_analysis_output/follow/feb_2022/50.50.10/scr_apop_wt_div/GV0797_Pos5_129_RFP_N_events saved out successfully',\n",
       "  '/media/nathan/Transcend/Nathan/data/analysis_results/radial_analysis_output/follow/feb_2022/50.50.10/scr_apop_wt_div/GV0797_Pos5_65_RFP_N_cells / /media/nathan/Transcend/Nathan/data/analysis_results/radial_analysis_output/follow/feb_2022/50.50.10/scr_apop_wt_div/GV0797_Pos5_65_RFP_N_events saved out successfully',\n",
       "  '/media/nathan/Transcend/Nathan/data/analysis_results/radial_analysis_output/follow/feb_2022/50.50.10/scr_apop_wt_div/GV0797_Pos5_103_RFP_N_cells / /media/nathan/Transcend/Nathan/data/analysis_results/radial_analysis_output/follow/feb_2022/50.50.10/scr_apop_wt_div/GV0797_Pos5_103_RFP_N_events saved out successfully',\n",
       "  '/media/nathan/Transcend/Nathan/data/analysis_results/radial_analysis_output/follow/feb_2022/50.50.10/scr_apop_wt_div/GV0797_Pos5_6_RFP_N_cells / /media/nathan/Transcend/Nathan/data/analysis_results/radial_analysis_output/follow/feb_2022/50.50.10/scr_apop_wt_div/GV0797_Pos5_6_RFP_N_events saved out successfully',\n",
       "  '/media/nathan/Transcend/Nathan/data/analysis_results/radial_analysis_output/follow/feb_2022/50.50.10/scr_apop_wt_div/GV0797_Pos6_9_RFP_N_cells / /media/nathan/Transcend/Nathan/data/analysis_results/radial_analysis_output/follow/feb_2022/50.50.10/scr_apop_wt_div/GV0797_Pos6_9_RFP_N_events saved out successfully',\n",
       "  '/media/nathan/Transcend/Nathan/data/analysis_results/radial_analysis_output/follow/feb_2022/50.50.10/scr_apop_wt_div/GV0797_Pos6_55_RFP_N_cells / /media/nathan/Transcend/Nathan/data/analysis_results/radial_analysis_output/follow/feb_2022/50.50.10/scr_apop_wt_div/GV0797_Pos6_55_RFP_N_events saved out successfully',\n",
       "  '/media/nathan/Transcend/Nathan/data/analysis_results/radial_analysis_output/follow/feb_2022/50.50.10/scr_apop_wt_div/GV0797_Pos6_13_RFP_N_cells / /media/nathan/Transcend/Nathan/data/analysis_results/radial_analysis_output/follow/feb_2022/50.50.10/scr_apop_wt_div/GV0797_Pos6_13_RFP_N_events saved out successfully',\n",
       "  '/media/nathan/Transcend/Nathan/data/analysis_results/radial_analysis_output/follow/feb_2022/50.50.10/scr_apop_wt_div/GV0797_Pos6_268_RFP_N_cells / /media/nathan/Transcend/Nathan/data/analysis_results/radial_analysis_output/follow/feb_2022/50.50.10/scr_apop_wt_div/GV0797_Pos6_268_RFP_N_events saved out successfully',\n",
       "  '/media/nathan/Transcend/Nathan/data/analysis_results/radial_analysis_output/follow/feb_2022/50.50.10/scr_apop_wt_div/GV0797_Pos6_293_RFP_N_cells / /media/nathan/Transcend/Nathan/data/analysis_results/radial_analysis_output/follow/feb_2022/50.50.10/scr_apop_wt_div/GV0797_Pos6_293_RFP_N_events saved out successfully',\n",
       "  '/media/nathan/Transcend/Nathan/data/analysis_results/radial_analysis_output/follow/feb_2022/50.50.10/scr_apop_wt_div/GV0797_Pos6_110_RFP_N_cells / /media/nathan/Transcend/Nathan/data/analysis_results/radial_analysis_output/follow/feb_2022/50.50.10/scr_apop_wt_div/GV0797_Pos6_110_RFP_N_events saved out successfully',\n",
       "  '/media/nathan/Transcend/Nathan/data/analysis_results/radial_analysis_output/follow/feb_2022/50.50.10/scr_apop_wt_div/GV0797_Pos6_670_RFP_N_cells / /media/nathan/Transcend/Nathan/data/analysis_results/radial_analysis_output/follow/feb_2022/50.50.10/scr_apop_wt_div/GV0797_Pos6_670_RFP_N_events saved out successfully',\n",
       "  '/media/nathan/Transcend/Nathan/data/analysis_results/radial_analysis_output/follow/feb_2022/50.50.10/scr_apop_wt_div/GV0797_Pos6_745_RFP_N_cells / /media/nathan/Transcend/Nathan/data/analysis_results/radial_analysis_output/follow/feb_2022/50.50.10/scr_apop_wt_div/GV0797_Pos6_745_RFP_N_events saved out successfully',\n",
       "  '/media/nathan/Transcend/Nathan/data/analysis_results/radial_analysis_output/follow/feb_2022/50.50.10/scr_apop_wt_div/GV0797_Pos6_806_RFP_N_cells / /media/nathan/Transcend/Nathan/data/analysis_results/radial_analysis_output/follow/feb_2022/50.50.10/scr_apop_wt_div/GV0797_Pos6_806_RFP_N_events saved out successfully',\n",
       "  '/media/nathan/Transcend/Nathan/data/analysis_results/radial_analysis_output/follow/feb_2022/50.50.10/scr_apop_wt_div/GV0797_Pos6_805_RFP_N_cells / /media/nathan/Transcend/Nathan/data/analysis_results/radial_analysis_output/follow/feb_2022/50.50.10/scr_apop_wt_div/GV0797_Pos6_805_RFP_N_events saved out successfully',\n",
       "  '/media/nathan/Transcend/Nathan/data/analysis_results/radial_analysis_output/follow/feb_2022/50.50.10/scr_apop_wt_div/GV0797_Pos6_598_RFP_N_cells / /media/nathan/Transcend/Nathan/data/analysis_results/radial_analysis_output/follow/feb_2022/50.50.10/scr_apop_wt_div/GV0797_Pos6_598_RFP_N_events saved out successfully',\n",
       "  '/media/nathan/Transcend/Nathan/data/analysis_results/radial_analysis_output/follow/feb_2022/50.50.10/scr_apop_wt_div/GV0797_Pos6_10_RFP_N_cells / /media/nathan/Transcend/Nathan/data/analysis_results/radial_analysis_output/follow/feb_2022/50.50.10/scr_apop_wt_div/GV0797_Pos6_10_RFP_N_events saved out successfully',\n",
       "  '/media/nathan/Transcend/Nathan/data/analysis_results/radial_analysis_output/follow/feb_2022/50.50.10/scr_apop_wt_div/GV0797_Pos6_111_RFP_N_cells / /media/nathan/Transcend/Nathan/data/analysis_results/radial_analysis_output/follow/feb_2022/50.50.10/scr_apop_wt_div/GV0797_Pos6_111_RFP_N_events saved out successfully',\n",
       "  '/media/nathan/Transcend/Nathan/data/analysis_results/radial_analysis_output/follow/feb_2022/50.50.10/scr_apop_wt_div/GV0797_Pos6_748_RFP_N_cells / /media/nathan/Transcend/Nathan/data/analysis_results/radial_analysis_output/follow/feb_2022/50.50.10/scr_apop_wt_div/GV0797_Pos6_748_RFP_N_events saved out successfully',\n",
       "  '/media/nathan/Transcend/Nathan/data/analysis_results/radial_analysis_output/follow/feb_2022/50.50.10/scr_apop_wt_div/GV0797_Pos6_434_RFP_N_cells / /media/nathan/Transcend/Nathan/data/analysis_results/radial_analysis_output/follow/feb_2022/50.50.10/scr_apop_wt_div/GV0797_Pos6_434_RFP_N_events saved out successfully',\n",
       "  '/media/nathan/Transcend/Nathan/data/analysis_results/radial_analysis_output/follow/feb_2022/50.50.10/scr_apop_wt_div/GV0797_Pos6_11_RFP_N_cells / /media/nathan/Transcend/Nathan/data/analysis_results/radial_analysis_output/follow/feb_2022/50.50.10/scr_apop_wt_div/GV0797_Pos6_11_RFP_N_events saved out successfully',\n",
       "  '/media/nathan/Transcend/Nathan/data/analysis_results/radial_analysis_output/follow/feb_2022/50.50.10/scr_apop_wt_div/GV0797_Pos6_16_RFP_N_cells / /media/nathan/Transcend/Nathan/data/analysis_results/radial_analysis_output/follow/feb_2022/50.50.10/scr_apop_wt_div/GV0797_Pos6_16_RFP_N_events saved out successfully',\n",
       "  '/media/nathan/Transcend/Nathan/data/analysis_results/radial_analysis_output/follow/feb_2022/50.50.10/scr_apop_wt_div/GV0797_Pos6_357_RFP_N_cells / /media/nathan/Transcend/Nathan/data/analysis_results/radial_analysis_output/follow/feb_2022/50.50.10/scr_apop_wt_div/GV0797_Pos6_357_RFP_N_events saved out successfully',\n",
       "  '/media/nathan/Transcend/Nathan/data/analysis_results/radial_analysis_output/follow/feb_2022/50.50.10/scr_apop_wt_div/GV0797_Pos6_246_RFP_N_cells / /media/nathan/Transcend/Nathan/data/analysis_results/radial_analysis_output/follow/feb_2022/50.50.10/scr_apop_wt_div/GV0797_Pos6_246_RFP_N_events saved out successfully',\n",
       "  '/media/nathan/Transcend/Nathan/data/analysis_results/radial_analysis_output/follow/feb_2022/50.50.10/scr_apop_wt_div/GV0797_Pos6_531_RFP_N_cells / /media/nathan/Transcend/Nathan/data/analysis_results/radial_analysis_output/follow/feb_2022/50.50.10/scr_apop_wt_div/GV0797_Pos6_531_RFP_N_events saved out successfully',\n",
       "  '/media/nathan/Transcend/Nathan/data/analysis_results/radial_analysis_output/follow/feb_2022/50.50.10/scr_apop_wt_div/GV0797_Pos6_551_RFP_N_cells / /media/nathan/Transcend/Nathan/data/analysis_results/radial_analysis_output/follow/feb_2022/50.50.10/scr_apop_wt_div/GV0797_Pos6_551_RFP_N_events saved out successfully',\n",
       "  '/media/nathan/Transcend/Nathan/data/analysis_results/radial_analysis_output/follow/feb_2022/50.50.10/scr_apop_wt_div/GV0797_Pos6_53_RFP_N_cells / /media/nathan/Transcend/Nathan/data/analysis_results/radial_analysis_output/follow/feb_2022/50.50.10/scr_apop_wt_div/GV0797_Pos6_53_RFP_N_events saved out successfully',\n",
       "  '/media/nathan/Transcend/Nathan/data/analysis_results/radial_analysis_output/follow/feb_2022/50.50.10/scr_apop_wt_div/GV0797_Pos6_56_RFP_N_cells / /media/nathan/Transcend/Nathan/data/analysis_results/radial_analysis_output/follow/feb_2022/50.50.10/scr_apop_wt_div/GV0797_Pos6_56_RFP_N_events saved out successfully',\n",
       "  '/media/nathan/Transcend/Nathan/data/analysis_results/radial_analysis_output/follow/feb_2022/50.50.10/scr_apop_wt_div/GV0797_Pos6_46_RFP_N_cells / /media/nathan/Transcend/Nathan/data/analysis_results/radial_analysis_output/follow/feb_2022/50.50.10/scr_apop_wt_div/GV0797_Pos6_46_RFP_N_events saved out successfully',\n",
       "  '/media/nathan/Transcend/Nathan/data/analysis_results/radial_analysis_output/follow/feb_2022/50.50.10/scr_apop_wt_div/GV0798_Pos5_281_RFP_N_cells / /media/nathan/Transcend/Nathan/data/analysis_results/radial_analysis_output/follow/feb_2022/50.50.10/scr_apop_wt_div/GV0798_Pos5_281_RFP_N_events saved out successfully',\n",
       "  '/media/nathan/Transcend/Nathan/data/analysis_results/radial_analysis_output/follow/feb_2022/50.50.10/scr_apop_wt_div/GV0798_Pos5_364_RFP_N_cells / /media/nathan/Transcend/Nathan/data/analysis_results/radial_analysis_output/follow/feb_2022/50.50.10/scr_apop_wt_div/GV0798_Pos5_364_RFP_N_events saved out successfully',\n",
       "  '/media/nathan/Transcend/Nathan/data/analysis_results/radial_analysis_output/follow/feb_2022/50.50.10/scr_apop_wt_div/GV0798_Pos5_406_RFP_N_cells / /media/nathan/Transcend/Nathan/data/analysis_results/radial_analysis_output/follow/feb_2022/50.50.10/scr_apop_wt_div/GV0798_Pos5_406_RFP_N_events saved out successfully',\n",
       "  '/media/nathan/Transcend/Nathan/data/analysis_results/radial_analysis_output/follow/feb_2022/50.50.10/scr_apop_wt_div/GV0798_Pos5_374_RFP_N_cells / /media/nathan/Transcend/Nathan/data/analysis_results/radial_analysis_output/follow/feb_2022/50.50.10/scr_apop_wt_div/GV0798_Pos5_374_RFP_N_events saved out successfully',\n",
       "  '/media/nathan/Transcend/Nathan/data/analysis_results/radial_analysis_output/follow/feb_2022/50.50.10/scr_apop_wt_div/GV0798_Pos5_696_RFP_N_cells / /media/nathan/Transcend/Nathan/data/analysis_results/radial_analysis_output/follow/feb_2022/50.50.10/scr_apop_wt_div/GV0798_Pos5_696_RFP_N_events saved out successfully',\n",
       "  '/media/nathan/Transcend/Nathan/data/analysis_results/radial_analysis_output/follow/feb_2022/50.50.10/scr_apop_wt_div/GV0798_Pos5_682_RFP_N_cells / /media/nathan/Transcend/Nathan/data/analysis_results/radial_analysis_output/follow/feb_2022/50.50.10/scr_apop_wt_div/GV0798_Pos5_682_RFP_N_events saved out successfully',\n",
       "  '/media/nathan/Transcend/Nathan/data/analysis_results/radial_analysis_output/follow/feb_2022/50.50.10/scr_apop_wt_div/GV0798_Pos5_41_RFP_N_cells / /media/nathan/Transcend/Nathan/data/analysis_results/radial_analysis_output/follow/feb_2022/50.50.10/scr_apop_wt_div/GV0798_Pos5_41_RFP_N_events saved out successfully',\n",
       "  '/media/nathan/Transcend/Nathan/data/analysis_results/radial_analysis_output/follow/feb_2022/50.50.10/scr_apop_wt_div/GV0798_Pos5_407_RFP_N_cells / /media/nathan/Transcend/Nathan/data/analysis_results/radial_analysis_output/follow/feb_2022/50.50.10/scr_apop_wt_div/GV0798_Pos5_407_RFP_N_events saved out successfully',\n",
       "  '/media/nathan/Transcend/Nathan/data/analysis_results/radial_analysis_output/follow/feb_2022/50.50.10/scr_apop_wt_div/GV0798_Pos5_767_RFP_N_cells / /media/nathan/Transcend/Nathan/data/analysis_results/radial_analysis_output/follow/feb_2022/50.50.10/scr_apop_wt_div/GV0798_Pos5_767_RFP_N_events saved out successfully',\n",
       "  '/media/nathan/Transcend/Nathan/data/analysis_results/radial_analysis_output/follow/feb_2022/50.50.10/scr_apop_wt_div/GV0798_Pos5_17_RFP_N_cells / /media/nathan/Transcend/Nathan/data/analysis_results/radial_analysis_output/follow/feb_2022/50.50.10/scr_apop_wt_div/GV0798_Pos5_17_RFP_N_events saved out successfully',\n",
       "  '/media/nathan/Transcend/Nathan/data/analysis_results/radial_analysis_output/follow/feb_2022/50.50.10/scr_apop_wt_div/GV0798_Pos5_829_RFP_N_cells / /media/nathan/Transcend/Nathan/data/analysis_results/radial_analysis_output/follow/feb_2022/50.50.10/scr_apop_wt_div/GV0798_Pos5_829_RFP_N_events saved out successfully',\n",
       "  '/media/nathan/Transcend/Nathan/data/analysis_results/radial_analysis_output/follow/feb_2022/50.50.10/scr_apop_wt_div/GV0798_Pos5_830_RFP_N_cells / /media/nathan/Transcend/Nathan/data/analysis_results/radial_analysis_output/follow/feb_2022/50.50.10/scr_apop_wt_div/GV0798_Pos5_830_RFP_N_events saved out successfully',\n",
       "  '/media/nathan/Transcend/Nathan/data/analysis_results/radial_analysis_output/follow/feb_2022/50.50.10/scr_apop_wt_div/GV0798_Pos5_355_RFP_N_cells / /media/nathan/Transcend/Nathan/data/analysis_results/radial_analysis_output/follow/feb_2022/50.50.10/scr_apop_wt_div/GV0798_Pos5_355_RFP_N_events saved out successfully',\n",
       "  '/media/nathan/Transcend/Nathan/data/analysis_results/radial_analysis_output/follow/feb_2022/50.50.10/scr_apop_wt_div/GV0798_Pos5_493_RFP_N_cells / /media/nathan/Transcend/Nathan/data/analysis_results/radial_analysis_output/follow/feb_2022/50.50.10/scr_apop_wt_div/GV0798_Pos5_493_RFP_N_events saved out successfully',\n",
       "  '/media/nathan/Transcend/Nathan/data/analysis_results/radial_analysis_output/follow/feb_2022/50.50.10/scr_apop_wt_div/GV0798_Pos5_365_RFP_N_cells / /media/nathan/Transcend/Nathan/data/analysis_results/radial_analysis_output/follow/feb_2022/50.50.10/scr_apop_wt_div/GV0798_Pos5_365_RFP_N_events saved out successfully',\n",
       "  '/media/nathan/Transcend/Nathan/data/analysis_results/radial_analysis_output/follow/feb_2022/50.50.10/scr_apop_wt_div/GV0798_Pos5_491_RFP_N_cells / /media/nathan/Transcend/Nathan/data/analysis_results/radial_analysis_output/follow/feb_2022/50.50.10/scr_apop_wt_div/GV0798_Pos5_491_RFP_N_events saved out successfully',\n",
       "  '/media/nathan/Transcend/Nathan/data/analysis_results/radial_analysis_output/follow/feb_2022/50.50.10/scr_apop_wt_div/GV0798_Pos5_456_RFP_N_cells / /media/nathan/Transcend/Nathan/data/analysis_results/radial_analysis_output/follow/feb_2022/50.50.10/scr_apop_wt_div/GV0798_Pos5_456_RFP_N_events saved out successfully',\n",
       "  '/media/nathan/Transcend/Nathan/data/analysis_results/radial_analysis_output/follow/feb_2022/50.50.10/scr_apop_wt_div/GV0798_Pos5_810_RFP_N_cells / /media/nathan/Transcend/Nathan/data/analysis_results/radial_analysis_output/follow/feb_2022/50.50.10/scr_apop_wt_div/GV0798_Pos5_810_RFP_N_events saved out successfully',\n",
       "  '/media/nathan/Transcend/Nathan/data/analysis_results/radial_analysis_output/follow/feb_2022/50.50.10/scr_apop_wt_div/GV0798_Pos5_29_RFP_N_cells / /media/nathan/Transcend/Nathan/data/analysis_results/radial_analysis_output/follow/feb_2022/50.50.10/scr_apop_wt_div/GV0798_Pos5_29_RFP_N_events saved out successfully',\n",
       "  '/media/nathan/Transcend/Nathan/data/analysis_results/radial_analysis_output/follow/feb_2022/50.50.10/scr_apop_wt_div/GV0798_Pos5_786_RFP_N_cells / /media/nathan/Transcend/Nathan/data/analysis_results/radial_analysis_output/follow/feb_2022/50.50.10/scr_apop_wt_div/GV0798_Pos5_786_RFP_N_events saved out successfully',\n",
       "  '/media/nathan/Transcend/Nathan/data/analysis_results/radial_analysis_output/follow/feb_2022/50.50.10/scr_apop_wt_div/GV0798_Pos6_1222_RFP_N_cells / /media/nathan/Transcend/Nathan/data/analysis_results/radial_analysis_output/follow/feb_2022/50.50.10/scr_apop_wt_div/GV0798_Pos6_1222_RFP_N_events saved out successfully',\n",
       "  '/media/nathan/Transcend/Nathan/data/analysis_results/radial_analysis_output/follow/feb_2022/50.50.10/scr_apop_wt_div/GV0798_Pos6_1221_RFP_N_cells / /media/nathan/Transcend/Nathan/data/analysis_results/radial_analysis_output/follow/feb_2022/50.50.10/scr_apop_wt_div/GV0798_Pos6_1221_RFP_N_events saved out successfully',\n",
       "  '/media/nathan/Transcend/Nathan/data/analysis_results/radial_analysis_output/follow/feb_2022/50.50.10/scr_apop_wt_div/GV0798_Pos6_175_RFP_N_cells / /media/nathan/Transcend/Nathan/data/analysis_results/radial_analysis_output/follow/feb_2022/50.50.10/scr_apop_wt_div/GV0798_Pos6_175_RFP_N_events saved out successfully',\n",
       "  '/media/nathan/Transcend/Nathan/data/analysis_results/radial_analysis_output/follow/feb_2022/50.50.10/scr_apop_wt_div/GV0798_Pos6_1429_RFP_N_cells / /media/nathan/Transcend/Nathan/data/analysis_results/radial_analysis_output/follow/feb_2022/50.50.10/scr_apop_wt_div/GV0798_Pos6_1429_RFP_N_events saved out successfully',\n",
       "  '/media/nathan/Transcend/Nathan/data/analysis_results/radial_analysis_output/follow/feb_2022/50.50.10/scr_apop_wt_div/GV0798_Pos6_8_RFP_N_cells / /media/nathan/Transcend/Nathan/data/analysis_results/radial_analysis_output/follow/feb_2022/50.50.10/scr_apop_wt_div/GV0798_Pos6_8_RFP_N_events saved out successfully',\n",
       "  '/media/nathan/Transcend/Nathan/data/analysis_results/radial_analysis_output/follow/feb_2022/50.50.10/scr_apop_wt_div/GV0798_Pos6_976_RFP_N_cells / /media/nathan/Transcend/Nathan/data/analysis_results/radial_analysis_output/follow/feb_2022/50.50.10/scr_apop_wt_div/GV0798_Pos6_976_RFP_N_events saved out successfully',\n",
       "  '/media/nathan/Transcend/Nathan/data/analysis_results/radial_analysis_output/follow/feb_2022/50.50.10/scr_apop_wt_div/GV0798_Pos6_3_RFP_N_cells / /media/nathan/Transcend/Nathan/data/analysis_results/radial_analysis_output/follow/feb_2022/50.50.10/scr_apop_wt_div/GV0798_Pos6_3_RFP_N_events saved out successfully',\n",
       "  '/media/nathan/Transcend/Nathan/data/analysis_results/radial_analysis_output/follow/feb_2022/50.50.10/scr_apop_wt_div/GV0798_Pos6_763_RFP_N_cells / /media/nathan/Transcend/Nathan/data/analysis_results/radial_analysis_output/follow/feb_2022/50.50.10/scr_apop_wt_div/GV0798_Pos6_763_RFP_N_events saved out successfully',\n",
       "  '/media/nathan/Transcend/Nathan/data/analysis_results/radial_analysis_output/follow/feb_2022/50.50.10/scr_apop_wt_div/GV0798_Pos6_603_RFP_N_cells / /media/nathan/Transcend/Nathan/data/analysis_results/radial_analysis_output/follow/feb_2022/50.50.10/scr_apop_wt_div/GV0798_Pos6_603_RFP_N_events saved out successfully',\n",
       "  '/media/nathan/Transcend/Nathan/data/analysis_results/radial_analysis_output/follow/feb_2022/50.50.10/scr_apop_wt_div/GV0798_Pos6_80_RFP_N_cells / /media/nathan/Transcend/Nathan/data/analysis_results/radial_analysis_output/follow/feb_2022/50.50.10/scr_apop_wt_div/GV0798_Pos6_80_RFP_N_events saved out successfully',\n",
       "  '/media/nathan/Transcend/Nathan/data/analysis_results/radial_analysis_output/follow/feb_2022/50.50.10/scr_apop_wt_div/GV0798_Pos6_54_RFP_N_cells / /media/nathan/Transcend/Nathan/data/analysis_results/radial_analysis_output/follow/feb_2022/50.50.10/scr_apop_wt_div/GV0798_Pos6_54_RFP_N_events saved out successfully',\n",
       "  '/media/nathan/Transcend/Nathan/data/analysis_results/radial_analysis_output/follow/feb_2022/50.50.10/scr_apop_wt_div/GV0798_Pos6_1_RFP_N_cells / /media/nathan/Transcend/Nathan/data/analysis_results/radial_analysis_output/follow/feb_2022/50.50.10/scr_apop_wt_div/GV0798_Pos6_1_RFP_N_events saved out successfully',\n",
       "  '/media/nathan/Transcend/Nathan/data/analysis_results/radial_analysis_output/follow/feb_2022/50.50.10/scr_apop_wt_div/GV0798_Pos6_28_RFP_N_cells / /media/nathan/Transcend/Nathan/data/analysis_results/radial_analysis_output/follow/feb_2022/50.50.10/scr_apop_wt_div/GV0798_Pos6_28_RFP_N_events saved out successfully',\n",
       "  '/media/nathan/Transcend/Nathan/data/analysis_results/radial_analysis_output/follow/feb_2022/50.50.10/scr_apop_wt_div/GV0798_Pos6_7_RFP_N_cells / /media/nathan/Transcend/Nathan/data/analysis_results/radial_analysis_output/follow/feb_2022/50.50.10/scr_apop_wt_div/GV0798_Pos6_7_RFP_N_events saved out successfully',\n",
       "  '/media/nathan/Transcend/Nathan/data/analysis_results/radial_analysis_output/follow/feb_2022/50.50.10/scr_apop_wt_div/GV0798_Pos6_655_RFP_N_cells / /media/nathan/Transcend/Nathan/data/analysis_results/radial_analysis_output/follow/feb_2022/50.50.10/scr_apop_wt_div/GV0798_Pos6_655_RFP_N_events saved out successfully',\n",
       "  '/media/nathan/Transcend/Nathan/data/analysis_results/radial_analysis_output/follow/feb_2022/50.50.10/scr_apop_wt_div/GV0798_Pos6_654_RFP_N_cells / /media/nathan/Transcend/Nathan/data/analysis_results/radial_analysis_output/follow/feb_2022/50.50.10/scr_apop_wt_div/GV0798_Pos6_654_RFP_N_events saved out successfully',\n",
       "  '/media/nathan/Transcend/Nathan/data/analysis_results/radial_analysis_output/follow/feb_2022/50.50.10/scr_apop_wt_div/GV0798_Pos6_832_RFP_N_cells / /media/nathan/Transcend/Nathan/data/analysis_results/radial_analysis_output/follow/feb_2022/50.50.10/scr_apop_wt_div/GV0798_Pos6_832_RFP_N_events saved out successfully',\n",
       "  '/media/nathan/Transcend/Nathan/data/analysis_results/radial_analysis_output/follow/feb_2022/50.50.10/scr_apop_wt_div/GV0798_Pos6_831_RFP_N_cells / /media/nathan/Transcend/Nathan/data/analysis_results/radial_analysis_output/follow/feb_2022/50.50.10/scr_apop_wt_div/GV0798_Pos6_831_RFP_N_events saved out successfully',\n",
       "  '/media/nathan/Transcend/Nathan/data/analysis_results/radial_analysis_output/follow/feb_2022/50.50.10/scr_apop_wt_div/GV0798_Pos6_102_RFP_N_cells / /media/nathan/Transcend/Nathan/data/analysis_results/radial_analysis_output/follow/feb_2022/50.50.10/scr_apop_wt_div/GV0798_Pos6_102_RFP_N_events saved out successfully',\n",
       "  '/media/nathan/Transcend/Nathan/data/analysis_results/radial_analysis_output/follow/feb_2022/50.50.10/scr_apop_wt_div/GV0798_Pos6_64_RFP_N_cells / /media/nathan/Transcend/Nathan/data/analysis_results/radial_analysis_output/follow/feb_2022/50.50.10/scr_apop_wt_div/GV0798_Pos6_64_RFP_N_events saved out successfully',\n",
       "  '/media/nathan/Transcend/Nathan/data/analysis_results/radial_analysis_output/follow/feb_2022/50.50.10/scr_apop_wt_div/GV0798_Pos6_414_RFP_N_cells / /media/nathan/Transcend/Nathan/data/analysis_results/radial_analysis_output/follow/feb_2022/50.50.10/scr_apop_wt_div/GV0798_Pos6_414_RFP_N_events saved out successfully',\n",
       "  '/media/nathan/Transcend/Nathan/data/analysis_results/radial_analysis_output/follow/feb_2022/50.50.10/scr_apop_wt_div/GV0798_Pos6_60_RFP_N_cells / /media/nathan/Transcend/Nathan/data/analysis_results/radial_analysis_output/follow/feb_2022/50.50.10/scr_apop_wt_div/GV0798_Pos6_60_RFP_N_events saved out successfully',\n",
       "  '/media/nathan/Transcend/Nathan/data/analysis_results/radial_analysis_output/follow/feb_2022/50.50.10/scr_apop_wt_div/GV0800_Pos5_17_RFP_N_cells / /media/nathan/Transcend/Nathan/data/analysis_results/radial_analysis_output/follow/feb_2022/50.50.10/scr_apop_wt_div/GV0800_Pos5_17_RFP_N_events saved out successfully',\n",
       "  '/media/nathan/Transcend/Nathan/data/analysis_results/radial_analysis_output/follow/feb_2022/50.50.10/scr_apop_wt_div/GV0800_Pos5_35_RFP_N_cells / /media/nathan/Transcend/Nathan/data/analysis_results/radial_analysis_output/follow/feb_2022/50.50.10/scr_apop_wt_div/GV0800_Pos5_35_RFP_N_events saved out successfully',\n",
       "  '/media/nathan/Transcend/Nathan/data/analysis_results/radial_analysis_output/follow/feb_2022/50.50.10/scr_apop_wt_div/GV0800_Pos5_155_RFP_N_cells / /media/nathan/Transcend/Nathan/data/analysis_results/radial_analysis_output/follow/feb_2022/50.50.10/scr_apop_wt_div/GV0800_Pos5_155_RFP_N_events saved out successfully',\n",
       "  '/media/nathan/Transcend/Nathan/data/analysis_results/radial_analysis_output/follow/feb_2022/50.50.10/scr_apop_wt_div/GV0800_Pos5_240_RFP_N_cells / /media/nathan/Transcend/Nathan/data/analysis_results/radial_analysis_output/follow/feb_2022/50.50.10/scr_apop_wt_div/GV0800_Pos5_240_RFP_N_events saved out successfully',\n",
       "  '/media/nathan/Transcend/Nathan/data/analysis_results/radial_analysis_output/follow/feb_2022/50.50.10/scr_apop_wt_div/GV0800_Pos5_293_RFP_N_cells / /media/nathan/Transcend/Nathan/data/analysis_results/radial_analysis_output/follow/feb_2022/50.50.10/scr_apop_wt_div/GV0800_Pos5_293_RFP_N_events saved out successfully',\n",
       "  '/media/nathan/Transcend/Nathan/data/analysis_results/radial_analysis_output/follow/feb_2022/50.50.10/scr_apop_wt_div/GV0800_Pos5_239_RFP_N_cells / /media/nathan/Transcend/Nathan/data/analysis_results/radial_analysis_output/follow/feb_2022/50.50.10/scr_apop_wt_div/GV0800_Pos5_239_RFP_N_events saved out successfully',\n",
       "  '/media/nathan/Transcend/Nathan/data/analysis_results/radial_analysis_output/follow/feb_2022/50.50.10/scr_apop_wt_div/GV0800_Pos5_461_RFP_N_cells / /media/nathan/Transcend/Nathan/data/analysis_results/radial_analysis_output/follow/feb_2022/50.50.10/scr_apop_wt_div/GV0800_Pos5_461_RFP_N_events saved out successfully',\n",
       "  '/media/nathan/Transcend/Nathan/data/analysis_results/radial_analysis_output/follow/feb_2022/50.50.10/scr_apop_wt_div/GV0800_Pos5_453_RFP_N_cells / /media/nathan/Transcend/Nathan/data/analysis_results/radial_analysis_output/follow/feb_2022/50.50.10/scr_apop_wt_div/GV0800_Pos5_453_RFP_N_events saved out successfully',\n",
       "  '/media/nathan/Transcend/Nathan/data/analysis_results/radial_analysis_output/follow/feb_2022/50.50.10/scr_apop_wt_div/GV0800_Pos5_381_RFP_N_cells / /media/nathan/Transcend/Nathan/data/analysis_results/radial_analysis_output/follow/feb_2022/50.50.10/scr_apop_wt_div/GV0800_Pos5_381_RFP_N_events saved out successfully',\n",
       "  '/media/nathan/Transcend/Nathan/data/analysis_results/radial_analysis_output/follow/feb_2022/50.50.10/scr_apop_wt_div/GV0800_Pos5_542_RFP_N_cells / /media/nathan/Transcend/Nathan/data/analysis_results/radial_analysis_output/follow/feb_2022/50.50.10/scr_apop_wt_div/GV0800_Pos5_542_RFP_N_events saved out successfully',\n",
       "  '/media/nathan/Transcend/Nathan/data/analysis_results/radial_analysis_output/follow/feb_2022/50.50.10/scr_apop_wt_div/GV0800_Pos5_415_RFP_N_cells / /media/nathan/Transcend/Nathan/data/analysis_results/radial_analysis_output/follow/feb_2022/50.50.10/scr_apop_wt_div/GV0800_Pos5_415_RFP_N_events saved out successfully',\n",
       "  '/media/nathan/Transcend/Nathan/data/analysis_results/radial_analysis_output/follow/feb_2022/50.50.10/scr_apop_wt_div/GV0800_Pos5_16_RFP_N_cells / /media/nathan/Transcend/Nathan/data/analysis_results/radial_analysis_output/follow/feb_2022/50.50.10/scr_apop_wt_div/GV0800_Pos5_16_RFP_N_events saved out successfully',\n",
       "  '/media/nathan/Transcend/Nathan/data/analysis_results/radial_analysis_output/follow/feb_2022/50.50.10/scr_apop_wt_div/GV0800_Pos5_435_RFP_N_cells / /media/nathan/Transcend/Nathan/data/analysis_results/radial_analysis_output/follow/feb_2022/50.50.10/scr_apop_wt_div/GV0800_Pos5_435_RFP_N_events saved out successfully',\n",
       "  '/media/nathan/Transcend/Nathan/data/analysis_results/radial_analysis_output/follow/feb_2022/50.50.10/scr_apop_wt_div/GV0800_Pos5_25_RFP_N_cells / /media/nathan/Transcend/Nathan/data/analysis_results/radial_analysis_output/follow/feb_2022/50.50.10/scr_apop_wt_div/GV0800_Pos5_25_RFP_N_events saved out successfully',\n",
       "  '/media/nathan/Transcend/Nathan/data/analysis_results/radial_analysis_output/follow/feb_2022/50.50.10/scr_apop_wt_div/GV0800_Pos5_246_RFP_N_cells / /media/nathan/Transcend/Nathan/data/analysis_results/radial_analysis_output/follow/feb_2022/50.50.10/scr_apop_wt_div/GV0800_Pos5_246_RFP_N_events saved out successfully',\n",
       "  '/media/nathan/Transcend/Nathan/data/analysis_results/radial_analysis_output/follow/feb_2022/50.50.10/scr_apop_wt_div/GV0800_Pos5_425_RFP_N_cells / /media/nathan/Transcend/Nathan/data/analysis_results/radial_analysis_output/follow/feb_2022/50.50.10/scr_apop_wt_div/GV0800_Pos5_425_RFP_N_events saved out successfully',\n",
       "  '/media/nathan/Transcend/Nathan/data/analysis_results/radial_analysis_output/follow/feb_2022/50.50.10/scr_apop_wt_div/GV0800_Pos5_447_RFP_N_cells / /media/nathan/Transcend/Nathan/data/analysis_results/radial_analysis_output/follow/feb_2022/50.50.10/scr_apop_wt_div/GV0800_Pos5_447_RFP_N_events saved out successfully',\n",
       "  '/media/nathan/Transcend/Nathan/data/analysis_results/radial_analysis_output/follow/feb_2022/50.50.10/scr_apop_wt_div/GV0800_Pos5_496_RFP_N_cells / /media/nathan/Transcend/Nathan/data/analysis_results/radial_analysis_output/follow/feb_2022/50.50.10/scr_apop_wt_div/GV0800_Pos5_496_RFP_N_events saved out successfully',\n",
       "  '/media/nathan/Transcend/Nathan/data/analysis_results/radial_analysis_output/follow/feb_2022/50.50.10/scr_apop_wt_div/GV0800_Pos5_723_RFP_N_cells / /media/nathan/Transcend/Nathan/data/analysis_results/radial_analysis_output/follow/feb_2022/50.50.10/scr_apop_wt_div/GV0800_Pos5_723_RFP_N_events saved out successfully',\n",
       "  '/media/nathan/Transcend/Nathan/data/analysis_results/radial_analysis_output/follow/feb_2022/50.50.10/scr_apop_wt_div/GV0800_Pos6_18_RFP_N_cells / /media/nathan/Transcend/Nathan/data/analysis_results/radial_analysis_output/follow/feb_2022/50.50.10/scr_apop_wt_div/GV0800_Pos6_18_RFP_N_events saved out successfully',\n",
       "  '/media/nathan/Transcend/Nathan/data/analysis_results/radial_analysis_output/follow/feb_2022/50.50.10/scr_apop_wt_div/GV0800_Pos6_2_RFP_N_cells / /media/nathan/Transcend/Nathan/data/analysis_results/radial_analysis_output/follow/feb_2022/50.50.10/scr_apop_wt_div/GV0800_Pos6_2_RFP_N_events saved out successfully',\n",
       "  '/media/nathan/Transcend/Nathan/data/analysis_results/radial_analysis_output/follow/feb_2022/50.50.10/scr_apop_wt_div/GV0800_Pos6_91_RFP_N_cells / /media/nathan/Transcend/Nathan/data/analysis_results/radial_analysis_output/follow/feb_2022/50.50.10/scr_apop_wt_div/GV0800_Pos6_91_RFP_N_events saved out successfully',\n",
       "  '/media/nathan/Transcend/Nathan/data/analysis_results/radial_analysis_output/follow/feb_2022/50.50.10/scr_apop_wt_div/GV0800_Pos6_23_RFP_N_cells / /media/nathan/Transcend/Nathan/data/analysis_results/radial_analysis_output/follow/feb_2022/50.50.10/scr_apop_wt_div/GV0800_Pos6_23_RFP_N_events saved out successfully',\n",
       "  '/media/nathan/Transcend/Nathan/data/analysis_results/radial_analysis_output/follow/feb_2022/50.50.10/scr_apop_wt_div/GV0800_Pos6_78_RFP_N_cells / /media/nathan/Transcend/Nathan/data/analysis_results/radial_analysis_output/follow/feb_2022/50.50.10/scr_apop_wt_div/GV0800_Pos6_78_RFP_N_events saved out successfully',\n",
       "  '/media/nathan/Transcend/Nathan/data/analysis_results/radial_analysis_output/follow/feb_2022/50.50.10/scr_apop_wt_div/GV0800_Pos6_198_RFP_N_cells / /media/nathan/Transcend/Nathan/data/analysis_results/radial_analysis_output/follow/feb_2022/50.50.10/scr_apop_wt_div/GV0800_Pos6_198_RFP_N_events saved out successfully',\n",
       "  '/media/nathan/Transcend/Nathan/data/analysis_results/radial_analysis_output/follow/feb_2022/50.50.10/scr_apop_wt_div/GV0800_Pos6_571_RFP_N_cells / /media/nathan/Transcend/Nathan/data/analysis_results/radial_analysis_output/follow/feb_2022/50.50.10/scr_apop_wt_div/GV0800_Pos6_571_RFP_N_events saved out successfully',\n",
       "  '/media/nathan/Transcend/Nathan/data/analysis_results/radial_analysis_output/follow/feb_2022/50.50.10/scr_apop_wt_div/GV0800_Pos6_1020_RFP_N_cells / /media/nathan/Transcend/Nathan/data/analysis_results/radial_analysis_output/follow/feb_2022/50.50.10/scr_apop_wt_div/GV0800_Pos6_1020_RFP_N_events saved out successfully',\n",
       "  '/media/nathan/Transcend/Nathan/data/analysis_results/radial_analysis_output/follow/feb_2022/50.50.10/scr_apop_wt_div/GV0800_Pos6_754_RFP_N_cells / /media/nathan/Transcend/Nathan/data/analysis_results/radial_analysis_output/follow/feb_2022/50.50.10/scr_apop_wt_div/GV0800_Pos6_754_RFP_N_events saved out successfully',\n",
       "  '/media/nathan/Transcend/Nathan/data/analysis_results/radial_analysis_output/follow/feb_2022/50.50.10/scr_apop_wt_div/GV0800_Pos6_184_RFP_N_cells / /media/nathan/Transcend/Nathan/data/analysis_results/radial_analysis_output/follow/feb_2022/50.50.10/scr_apop_wt_div/GV0800_Pos6_184_RFP_N_events saved out successfully',\n",
       "  '/media/nathan/Transcend/Nathan/data/analysis_results/radial_analysis_output/follow/feb_2022/50.50.10/scr_apop_wt_div/GV0800_Pos6_1275_RFP_N_cells / /media/nathan/Transcend/Nathan/data/analysis_results/radial_analysis_output/follow/feb_2022/50.50.10/scr_apop_wt_div/GV0800_Pos6_1275_RFP_N_events saved out successfully',\n",
       "  '/media/nathan/Transcend/Nathan/data/analysis_results/radial_analysis_output/follow/feb_2022/50.50.10/scr_apop_wt_div/GV0800_Pos6_329_RFP_N_cells / /media/nathan/Transcend/Nathan/data/analysis_results/radial_analysis_output/follow/feb_2022/50.50.10/scr_apop_wt_div/GV0800_Pos6_329_RFP_N_events saved out successfully',\n",
       "  '/media/nathan/Transcend/Nathan/data/analysis_results/radial_analysis_output/follow/feb_2022/50.50.10/scr_apop_wt_div/GV0800_Pos6_1274_RFP_N_cells / /media/nathan/Transcend/Nathan/data/analysis_results/radial_analysis_output/follow/feb_2022/50.50.10/scr_apop_wt_div/GV0800_Pos6_1274_RFP_N_events saved out successfully',\n",
       "  '/media/nathan/Transcend/Nathan/data/analysis_results/radial_analysis_output/follow/feb_2022/50.50.10/scr_apop_wt_div/GV0800_Pos6_755_RFP_N_cells / /media/nathan/Transcend/Nathan/data/analysis_results/radial_analysis_output/follow/feb_2022/50.50.10/scr_apop_wt_div/GV0800_Pos6_755_RFP_N_events saved out successfully',\n",
       "  '/media/nathan/Transcend/Nathan/data/analysis_results/radial_analysis_output/follow/feb_2022/50.50.10/scr_apop_wt_div/GV0800_Pos6_852_RFP_N_cells / /media/nathan/Transcend/Nathan/data/analysis_results/radial_analysis_output/follow/feb_2022/50.50.10/scr_apop_wt_div/GV0800_Pos6_852_RFP_N_events saved out successfully',\n",
       "  '/media/nathan/Transcend/Nathan/data/analysis_results/radial_analysis_output/follow/feb_2022/50.50.10/scr_apop_wt_div/GV0800_Pos6_853_RFP_N_cells / /media/nathan/Transcend/Nathan/data/analysis_results/radial_analysis_output/follow/feb_2022/50.50.10/scr_apop_wt_div/GV0800_Pos6_853_RFP_N_events saved out successfully',\n",
       "  '/media/nathan/Transcend/Nathan/data/analysis_results/radial_analysis_output/follow/feb_2022/50.50.10/scr_apop_wt_div/GV0800_Pos6_1194_RFP_N_cells / /media/nathan/Transcend/Nathan/data/analysis_results/radial_analysis_output/follow/feb_2022/50.50.10/scr_apop_wt_div/GV0800_Pos6_1194_RFP_N_events saved out successfully',\n",
       "  '/media/nathan/Transcend/Nathan/data/analysis_results/radial_analysis_output/follow/feb_2022/50.50.10/scr_apop_wt_div/GV0800_Pos6_1205_RFP_N_cells / /media/nathan/Transcend/Nathan/data/analysis_results/radial_analysis_output/follow/feb_2022/50.50.10/scr_apop_wt_div/GV0800_Pos6_1205_RFP_N_events saved out successfully',\n",
       "  '/media/nathan/Transcend/Nathan/data/analysis_results/radial_analysis_output/follow/feb_2022/50.50.10/scr_apop_wt_div/GV0800_Pos6_1236_RFP_N_cells / /media/nathan/Transcend/Nathan/data/analysis_results/radial_analysis_output/follow/feb_2022/50.50.10/scr_apop_wt_div/GV0800_Pos6_1236_RFP_N_events saved out successfully',\n",
       "  '/media/nathan/Transcend/Nathan/data/analysis_results/radial_analysis_output/follow/feb_2022/50.50.10/scr_apop_wt_div/GV0800_Pos6_1254_RFP_N_cells / /media/nathan/Transcend/Nathan/data/analysis_results/radial_analysis_output/follow/feb_2022/50.50.10/scr_apop_wt_div/GV0800_Pos6_1254_RFP_N_events saved out successfully',\n",
       "  '/media/nathan/Transcend/Nathan/data/analysis_results/radial_analysis_output/follow/feb_2022/50.50.10/scr_apop_wt_div/GV0800_Pos6_895_RFP_N_cells / /media/nathan/Transcend/Nathan/data/analysis_results/radial_analysis_output/follow/feb_2022/50.50.10/scr_apop_wt_div/GV0800_Pos6_895_RFP_N_events saved out successfully',\n",
       "  '/media/nathan/Transcend/Nathan/data/analysis_results/radial_analysis_output/follow/feb_2022/50.50.10/scr_apop_wt_div/GV0800_Pos6_1794_RFP_N_cells / /media/nathan/Transcend/Nathan/data/analysis_results/radial_analysis_output/follow/feb_2022/50.50.10/scr_apop_wt_div/GV0800_Pos6_1794_RFP_N_events saved out successfully',\n",
       "  '/media/nathan/Transcend/Nathan/data/analysis_results/radial_analysis_output/follow/feb_2022/50.50.10/scr_apop_wt_div/GV0800_Pos6_1556_RFP_N_cells / /media/nathan/Transcend/Nathan/data/analysis_results/radial_analysis_output/follow/feb_2022/50.50.10/scr_apop_wt_div/GV0800_Pos6_1556_RFP_N_events saved out successfully',\n",
       "  '/media/nathan/Transcend/Nathan/data/analysis_results/radial_analysis_output/follow/feb_2022/50.50.10/scr_apop_wt_div/GV0800_Pos6_1963_RFP_N_cells / /media/nathan/Transcend/Nathan/data/analysis_results/radial_analysis_output/follow/feb_2022/50.50.10/scr_apop_wt_div/GV0800_Pos6_1963_RFP_N_events saved out successfully',\n",
       "  '/media/nathan/Transcend/Nathan/data/analysis_results/radial_analysis_output/follow/feb_2022/50.50.10/scr_apop_wt_div/GV0800_Pos6_1509_RFP_N_cells / /media/nathan/Transcend/Nathan/data/analysis_results/radial_analysis_output/follow/feb_2022/50.50.10/scr_apop_wt_div/GV0800_Pos6_1509_RFP_N_events saved out successfully',\n",
       "  '/media/nathan/Transcend/Nathan/data/analysis_results/radial_analysis_output/follow/feb_2022/50.50.10/scr_apop_wt_div/GV0800_Pos6_2041_RFP_N_cells / /media/nathan/Transcend/Nathan/data/analysis_results/radial_analysis_output/follow/feb_2022/50.50.10/scr_apop_wt_div/GV0800_Pos6_2041_RFP_N_events saved out successfully',\n",
       "  '/media/nathan/Transcend/Nathan/data/analysis_results/radial_analysis_output/follow/feb_2022/50.50.10/scr_apop_wt_div/GV0800_Pos6_1878_RFP_N_cells / /media/nathan/Transcend/Nathan/data/analysis_results/radial_analysis_output/follow/feb_2022/50.50.10/scr_apop_wt_div/GV0800_Pos6_1878_RFP_N_events saved out successfully',\n",
       "  '/media/nathan/Transcend/Nathan/data/analysis_results/radial_analysis_output/follow/feb_2022/50.50.10/scr_apop_wt_div/GV0800_Pos6_1879_RFP_N_cells / /media/nathan/Transcend/Nathan/data/analysis_results/radial_analysis_output/follow/feb_2022/50.50.10/scr_apop_wt_div/GV0800_Pos6_1879_RFP_N_events saved out successfully',\n",
       "  '/media/nathan/Transcend/Nathan/data/analysis_results/radial_analysis_output/follow/feb_2022/50.50.10/scr_apop_wt_div/GV0801_Pos5_45_RFP_N_cells / /media/nathan/Transcend/Nathan/data/analysis_results/radial_analysis_output/follow/feb_2022/50.50.10/scr_apop_wt_div/GV0801_Pos5_45_RFP_N_events saved out successfully',\n",
       "  '/media/nathan/Transcend/Nathan/data/analysis_results/radial_analysis_output/follow/feb_2022/50.50.10/scr_apop_wt_div/GV0801_Pos5_18_RFP_N_cells / /media/nathan/Transcend/Nathan/data/analysis_results/radial_analysis_output/follow/feb_2022/50.50.10/scr_apop_wt_div/GV0801_Pos5_18_RFP_N_events saved out successfully',\n",
       "  '/media/nathan/Transcend/Nathan/data/analysis_results/radial_analysis_output/follow/feb_2022/50.50.10/scr_apop_wt_div/GV0801_Pos5_36_RFP_N_cells / /media/nathan/Transcend/Nathan/data/analysis_results/radial_analysis_output/follow/feb_2022/50.50.10/scr_apop_wt_div/GV0801_Pos5_36_RFP_N_events saved out successfully',\n",
       "  '/media/nathan/Transcend/Nathan/data/analysis_results/radial_analysis_output/follow/feb_2022/50.50.10/scr_apop_wt_div/GV0801_Pos5_56_RFP_N_cells / /media/nathan/Transcend/Nathan/data/analysis_results/radial_analysis_output/follow/feb_2022/50.50.10/scr_apop_wt_div/GV0801_Pos5_56_RFP_N_events saved out successfully',\n",
       "  '/media/nathan/Transcend/Nathan/data/analysis_results/radial_analysis_output/follow/feb_2022/50.50.10/scr_apop_wt_div/GV0801_Pos5_105_RFP_N_cells / /media/nathan/Transcend/Nathan/data/analysis_results/radial_analysis_output/follow/feb_2022/50.50.10/scr_apop_wt_div/GV0801_Pos5_105_RFP_N_events saved out successfully',\n",
       "  '/media/nathan/Transcend/Nathan/data/analysis_results/radial_analysis_output/follow/feb_2022/50.50.10/scr_apop_wt_div/GV0801_Pos5_841_RFP_N_cells / /media/nathan/Transcend/Nathan/data/analysis_results/radial_analysis_output/follow/feb_2022/50.50.10/scr_apop_wt_div/GV0801_Pos5_841_RFP_N_events saved out successfully',\n",
       "  '/media/nathan/Transcend/Nathan/data/analysis_results/radial_analysis_output/follow/feb_2022/50.50.10/scr_apop_wt_div/GV0801_Pos5_894_RFP_N_cells / /media/nathan/Transcend/Nathan/data/analysis_results/radial_analysis_output/follow/feb_2022/50.50.10/scr_apop_wt_div/GV0801_Pos5_894_RFP_N_events saved out successfully',\n",
       "  '/media/nathan/Transcend/Nathan/data/analysis_results/radial_analysis_output/follow/feb_2022/50.50.10/scr_apop_wt_div/GV0801_Pos5_890_RFP_N_cells / /media/nathan/Transcend/Nathan/data/analysis_results/radial_analysis_output/follow/feb_2022/50.50.10/scr_apop_wt_div/GV0801_Pos5_890_RFP_N_events saved out successfully',\n",
       "  '/media/nathan/Transcend/Nathan/data/analysis_results/radial_analysis_output/follow/feb_2022/50.50.10/scr_apop_wt_div/GV0801_Pos5_773_RFP_N_cells / /media/nathan/Transcend/Nathan/data/analysis_results/radial_analysis_output/follow/feb_2022/50.50.10/scr_apop_wt_div/GV0801_Pos5_773_RFP_N_events saved out successfully',\n",
       "  '/media/nathan/Transcend/Nathan/data/analysis_results/radial_analysis_output/follow/feb_2022/50.50.10/scr_apop_wt_div/GV0801_Pos5_807_RFP_N_cells / /media/nathan/Transcend/Nathan/data/analysis_results/radial_analysis_output/follow/feb_2022/50.50.10/scr_apop_wt_div/GV0801_Pos5_807_RFP_N_events saved out successfully',\n",
       "  '/media/nathan/Transcend/Nathan/data/analysis_results/radial_analysis_output/follow/feb_2022/50.50.10/scr_apop_wt_div/GV0801_Pos5_782_RFP_N_cells / /media/nathan/Transcend/Nathan/data/analysis_results/radial_analysis_output/follow/feb_2022/50.50.10/scr_apop_wt_div/GV0801_Pos5_782_RFP_N_events saved out successfully',\n",
       "  '/media/nathan/Transcend/Nathan/data/analysis_results/radial_analysis_output/follow/feb_2022/50.50.10/scr_apop_wt_div/GV0801_Pos5_64_RFP_N_cells / /media/nathan/Transcend/Nathan/data/analysis_results/radial_analysis_output/follow/feb_2022/50.50.10/scr_apop_wt_div/GV0801_Pos5_64_RFP_N_events saved out successfully',\n",
       "  '/media/nathan/Transcend/Nathan/data/analysis_results/radial_analysis_output/follow/feb_2022/50.50.10/scr_apop_wt_div/GV0801_Pos5_1345_RFP_N_cells / /media/nathan/Transcend/Nathan/data/analysis_results/radial_analysis_output/follow/feb_2022/50.50.10/scr_apop_wt_div/GV0801_Pos5_1345_RFP_N_events saved out successfully',\n",
       "  '/media/nathan/Transcend/Nathan/data/analysis_results/radial_analysis_output/follow/feb_2022/50.50.10/scr_apop_wt_div/GV0801_Pos5_1093_RFP_N_cells / /media/nathan/Transcend/Nathan/data/analysis_results/radial_analysis_output/follow/feb_2022/50.50.10/scr_apop_wt_div/GV0801_Pos5_1093_RFP_N_events saved out successfully',\n",
       "  '/media/nathan/Transcend/Nathan/data/analysis_results/radial_analysis_output/follow/feb_2022/50.50.10/scr_apop_wt_div/GV0801_Pos5_1092_RFP_N_cells / /media/nathan/Transcend/Nathan/data/analysis_results/radial_analysis_output/follow/feb_2022/50.50.10/scr_apop_wt_div/GV0801_Pos5_1092_RFP_N_events saved out successfully',\n",
       "  '/media/nathan/Transcend/Nathan/data/analysis_results/radial_analysis_output/follow/feb_2022/50.50.10/scr_apop_wt_div/GV0801_Pos5_793_RFP_N_cells / /media/nathan/Transcend/Nathan/data/analysis_results/radial_analysis_output/follow/feb_2022/50.50.10/scr_apop_wt_div/GV0801_Pos5_793_RFP_N_events saved out successfully',\n",
       "  '/media/nathan/Transcend/Nathan/data/analysis_results/radial_analysis_output/follow/feb_2022/50.50.10/scr_apop_wt_div/GV0801_Pos5_781_RFP_N_cells / /media/nathan/Transcend/Nathan/data/analysis_results/radial_analysis_output/follow/feb_2022/50.50.10/scr_apop_wt_div/GV0801_Pos5_781_RFP_N_events saved out successfully',\n",
       "  '/media/nathan/Transcend/Nathan/data/analysis_results/radial_analysis_output/follow/feb_2022/50.50.10/scr_apop_wt_div/GV0801_Pos5_780_RFP_N_cells / /media/nathan/Transcend/Nathan/data/analysis_results/radial_analysis_output/follow/feb_2022/50.50.10/scr_apop_wt_div/GV0801_Pos5_780_RFP_N_events saved out successfully',\n",
       "  '/media/nathan/Transcend/Nathan/data/analysis_results/radial_analysis_output/follow/feb_2022/50.50.10/scr_apop_wt_div/GV0801_Pos5_1031_RFP_N_cells / /media/nathan/Transcend/Nathan/data/analysis_results/radial_analysis_output/follow/feb_2022/50.50.10/scr_apop_wt_div/GV0801_Pos5_1031_RFP_N_events saved out successfully',\n",
       "  '/media/nathan/Transcend/Nathan/data/analysis_results/radial_analysis_output/follow/feb_2022/50.50.10/scr_apop_wt_div/GV0801_Pos5_38_RFP_N_cells / /media/nathan/Transcend/Nathan/data/analysis_results/radial_analysis_output/follow/feb_2022/50.50.10/scr_apop_wt_div/GV0801_Pos5_38_RFP_N_events saved out successfully',\n",
       "  '/media/nathan/Transcend/Nathan/data/analysis_results/radial_analysis_output/follow/feb_2022/50.50.10/scr_apop_wt_div/GV0801_Pos5_1710_RFP_N_cells / /media/nathan/Transcend/Nathan/data/analysis_results/radial_analysis_output/follow/feb_2022/50.50.10/scr_apop_wt_div/GV0801_Pos5_1710_RFP_N_events saved out successfully',\n",
       "  '/media/nathan/Transcend/Nathan/data/analysis_results/radial_analysis_output/follow/feb_2022/50.50.10/scr_apop_wt_div/GV0801_Pos5_1709_RFP_N_cells / /media/nathan/Transcend/Nathan/data/analysis_results/radial_analysis_output/follow/feb_2022/50.50.10/scr_apop_wt_div/GV0801_Pos5_1709_RFP_N_events saved out successfully',\n",
       "  '/media/nathan/Transcend/Nathan/data/analysis_results/radial_analysis_output/follow/feb_2022/50.50.10/scr_apop_wt_div/GV0801_Pos5_847_RFP_N_cells / /media/nathan/Transcend/Nathan/data/analysis_results/radial_analysis_output/follow/feb_2022/50.50.10/scr_apop_wt_div/GV0801_Pos5_847_RFP_N_events saved out successfully',\n",
       "  '/media/nathan/Transcend/Nathan/data/analysis_results/radial_analysis_output/follow/feb_2022/50.50.10/scr_apop_wt_div/GV0801_Pos5_792_RFP_N_cells / /media/nathan/Transcend/Nathan/data/analysis_results/radial_analysis_output/follow/feb_2022/50.50.10/scr_apop_wt_div/GV0801_Pos5_792_RFP_N_events saved out successfully',\n",
       "  '/media/nathan/Transcend/Nathan/data/analysis_results/radial_analysis_output/follow/feb_2022/50.50.10/scr_apop_wt_div/GV0801_Pos5_1235_RFP_N_cells / /media/nathan/Transcend/Nathan/data/analysis_results/radial_analysis_output/follow/feb_2022/50.50.10/scr_apop_wt_div/GV0801_Pos5_1235_RFP_N_events saved out successfully',\n",
       "  '/media/nathan/Transcend/Nathan/data/analysis_results/radial_analysis_output/follow/feb_2022/50.50.10/scr_apop_wt_div/GV0801_Pos5_1677_RFP_N_cells / /media/nathan/Transcend/Nathan/data/analysis_results/radial_analysis_output/follow/feb_2022/50.50.10/scr_apop_wt_div/GV0801_Pos5_1677_RFP_N_events saved out successfully',\n",
       "  '/media/nathan/Transcend/Nathan/data/analysis_results/radial_analysis_output/follow/feb_2022/50.50.10/scr_apop_wt_div/GV0801_Pos5_74_RFP_N_cells / /media/nathan/Transcend/Nathan/data/analysis_results/radial_analysis_output/follow/feb_2022/50.50.10/scr_apop_wt_div/GV0801_Pos5_74_RFP_N_events saved out successfully',\n",
       "  '/media/nathan/Transcend/Nathan/data/analysis_results/radial_analysis_output/follow/feb_2022/50.50.10/scr_apop_wt_div/GV0801_Pos5_1372_RFP_N_cells / /media/nathan/Transcend/Nathan/data/analysis_results/radial_analysis_output/follow/feb_2022/50.50.10/scr_apop_wt_div/GV0801_Pos5_1372_RFP_N_events saved out successfully',\n",
       "  '/media/nathan/Transcend/Nathan/data/analysis_results/radial_analysis_output/follow/feb_2022/50.50.10/scr_apop_wt_div/GV0801_Pos5_1654_RFP_N_cells / /media/nathan/Transcend/Nathan/data/analysis_results/radial_analysis_output/follow/feb_2022/50.50.10/scr_apop_wt_div/GV0801_Pos5_1654_RFP_N_events saved out successfully',\n",
       "  '/media/nathan/Transcend/Nathan/data/analysis_results/radial_analysis_output/follow/feb_2022/50.50.10/scr_apop_wt_div/GV0801_Pos5_860_RFP_N_cells / /media/nathan/Transcend/Nathan/data/analysis_results/radial_analysis_output/follow/feb_2022/50.50.10/scr_apop_wt_div/GV0801_Pos5_860_RFP_N_events saved out successfully',\n",
       "  '/media/nathan/Transcend/Nathan/data/analysis_results/radial_analysis_output/follow/feb_2022/50.50.10/scr_apop_wt_div/GV0801_Pos5_1030_RFP_N_cells / /media/nathan/Transcend/Nathan/data/analysis_results/radial_analysis_output/follow/feb_2022/50.50.10/scr_apop_wt_div/GV0801_Pos5_1030_RFP_N_events saved out successfully',\n",
       "  '/media/nathan/Transcend/Nathan/data/analysis_results/radial_analysis_output/follow/feb_2022/50.50.10/scr_apop_wt_div/GV0801_Pos5_15_RFP_N_cells / /media/nathan/Transcend/Nathan/data/analysis_results/radial_analysis_output/follow/feb_2022/50.50.10/scr_apop_wt_div/GV0801_Pos5_15_RFP_N_events saved out successfully',\n",
       "  '/media/nathan/Transcend/Nathan/data/analysis_results/radial_analysis_output/follow/feb_2022/50.50.10/scr_apop_wt_div/GV0801_Pos5_2031_RFP_N_cells / /media/nathan/Transcend/Nathan/data/analysis_results/radial_analysis_output/follow/feb_2022/50.50.10/scr_apop_wt_div/GV0801_Pos5_2031_RFP_N_events saved out successfully',\n",
       "  '/media/nathan/Transcend/Nathan/data/analysis_results/radial_analysis_output/follow/feb_2022/50.50.10/scr_apop_wt_div/GV0801_Pos5_2306_RFP_N_cells / /media/nathan/Transcend/Nathan/data/analysis_results/radial_analysis_output/follow/feb_2022/50.50.10/scr_apop_wt_div/GV0801_Pos5_2306_RFP_N_events saved out successfully',\n",
       "  '/media/nathan/Transcend/Nathan/data/analysis_results/radial_analysis_output/follow/feb_2022/50.50.10/scr_apop_wt_div/GV0801_Pos5_115_RFP_N_cells / /media/nathan/Transcend/Nathan/data/analysis_results/radial_analysis_output/follow/feb_2022/50.50.10/scr_apop_wt_div/GV0801_Pos5_115_RFP_N_events saved out successfully',\n",
       "  '/media/nathan/Transcend/Nathan/data/analysis_results/radial_analysis_output/follow/feb_2022/50.50.10/scr_apop_wt_div/GV0802_Pos5_12_RFP_N_cells / /media/nathan/Transcend/Nathan/data/analysis_results/radial_analysis_output/follow/feb_2022/50.50.10/scr_apop_wt_div/GV0802_Pos5_12_RFP_N_events saved out successfully',\n",
       "  '/media/nathan/Transcend/Nathan/data/analysis_results/radial_analysis_output/follow/feb_2022/50.50.10/scr_apop_wt_div/GV0802_Pos5_40_RFP_N_cells / /media/nathan/Transcend/Nathan/data/analysis_results/radial_analysis_output/follow/feb_2022/50.50.10/scr_apop_wt_div/GV0802_Pos5_40_RFP_N_events saved out successfully',\n",
       "  '/media/nathan/Transcend/Nathan/data/analysis_results/radial_analysis_output/follow/feb_2022/50.50.10/scr_apop_wt_div/GV0802_Pos5_53_RFP_N_cells / /media/nathan/Transcend/Nathan/data/analysis_results/radial_analysis_output/follow/feb_2022/50.50.10/scr_apop_wt_div/GV0802_Pos5_53_RFP_N_events saved out successfully',\n",
       "  '/media/nathan/Transcend/Nathan/data/analysis_results/radial_analysis_output/follow/feb_2022/50.50.10/scr_apop_wt_div/GV0802_Pos5_34_RFP_N_cells / /media/nathan/Transcend/Nathan/data/analysis_results/radial_analysis_output/follow/feb_2022/50.50.10/scr_apop_wt_div/GV0802_Pos5_34_RFP_N_events saved out successfully',\n",
       "  '/media/nathan/Transcend/Nathan/data/analysis_results/radial_analysis_output/follow/feb_2022/50.50.10/scr_apop_wt_div/GV0802_Pos5_598_RFP_N_cells / /media/nathan/Transcend/Nathan/data/analysis_results/radial_analysis_output/follow/feb_2022/50.50.10/scr_apop_wt_div/GV0802_Pos5_598_RFP_N_events saved out successfully',\n",
       "  '/media/nathan/Transcend/Nathan/data/analysis_results/radial_analysis_output/follow/feb_2022/50.50.10/scr_apop_wt_div/GV0802_Pos5_655_RFP_N_cells / /media/nathan/Transcend/Nathan/data/analysis_results/radial_analysis_output/follow/feb_2022/50.50.10/scr_apop_wt_div/GV0802_Pos5_655_RFP_N_events saved out successfully',\n",
       "  '/media/nathan/Transcend/Nathan/data/analysis_results/radial_analysis_output/follow/feb_2022/50.50.10/scr_apop_wt_div/GV0802_Pos5_380_RFP_N_cells / /media/nathan/Transcend/Nathan/data/analysis_results/radial_analysis_output/follow/feb_2022/50.50.10/scr_apop_wt_div/GV0802_Pos5_380_RFP_N_events saved out successfully',\n",
       "  '/media/nathan/Transcend/Nathan/data/analysis_results/radial_analysis_output/follow/feb_2022/50.50.10/scr_apop_wt_div/GV0802_Pos5_269_RFP_N_cells / /media/nathan/Transcend/Nathan/data/analysis_results/radial_analysis_output/follow/feb_2022/50.50.10/scr_apop_wt_div/GV0802_Pos5_269_RFP_N_events saved out successfully',\n",
       "  '/media/nathan/Transcend/Nathan/data/analysis_results/radial_analysis_output/follow/feb_2022/50.50.10/scr_apop_wt_div/GV0802_Pos5_530_RFP_N_cells / /media/nathan/Transcend/Nathan/data/analysis_results/radial_analysis_output/follow/feb_2022/50.50.10/scr_apop_wt_div/GV0802_Pos5_530_RFP_N_events saved out successfully',\n",
       "  '/media/nathan/Transcend/Nathan/data/analysis_results/radial_analysis_output/follow/feb_2022/50.50.10/scr_apop_wt_div/GV0802_Pos5_425_RFP_N_cells / /media/nathan/Transcend/Nathan/data/analysis_results/radial_analysis_output/follow/feb_2022/50.50.10/scr_apop_wt_div/GV0802_Pos5_425_RFP_N_events saved out successfully',\n",
       "  '/media/nathan/Transcend/Nathan/data/analysis_results/radial_analysis_output/follow/feb_2022/50.50.10/scr_apop_wt_div/GV0802_Pos5_36_RFP_N_cells / /media/nathan/Transcend/Nathan/data/analysis_results/radial_analysis_output/follow/feb_2022/50.50.10/scr_apop_wt_div/GV0802_Pos5_36_RFP_N_events saved out successfully',\n",
       "  '/media/nathan/Transcend/Nathan/data/analysis_results/radial_analysis_output/follow/feb_2022/50.50.10/scr_apop_wt_div/GV0802_Pos5_531_RFP_N_cells / /media/nathan/Transcend/Nathan/data/analysis_results/radial_analysis_output/follow/feb_2022/50.50.10/scr_apop_wt_div/GV0802_Pos5_531_RFP_N_events saved out successfully',\n",
       "  '/media/nathan/Transcend/Nathan/data/analysis_results/radial_analysis_output/follow/feb_2022/50.50.10/scr_apop_wt_div/GV0802_Pos5_382_RFP_N_cells / /media/nathan/Transcend/Nathan/data/analysis_results/radial_analysis_output/follow/feb_2022/50.50.10/scr_apop_wt_div/GV0802_Pos5_382_RFP_N_events saved out successfully',\n",
       "  '/media/nathan/Transcend/Nathan/data/analysis_results/radial_analysis_output/follow/feb_2022/50.50.10/scr_apop_wt_div/GV0802_Pos5_751_RFP_N_cells / /media/nathan/Transcend/Nathan/data/analysis_results/radial_analysis_output/follow/feb_2022/50.50.10/scr_apop_wt_div/GV0802_Pos5_751_RFP_N_events saved out successfully',\n",
       "  '/media/nathan/Transcend/Nathan/data/analysis_results/radial_analysis_output/follow/feb_2022/50.50.10/scr_apop_wt_div/GV0802_Pos5_270_RFP_N_cells / /media/nathan/Transcend/Nathan/data/analysis_results/radial_analysis_output/follow/feb_2022/50.50.10/scr_apop_wt_div/GV0802_Pos5_270_RFP_N_events saved out successfully',\n",
       "  '/media/nathan/Transcend/Nathan/data/analysis_results/radial_analysis_output/follow/feb_2022/50.50.10/scr_apop_wt_div/GV0802_Pos5_706_RFP_N_cells / /media/nathan/Transcend/Nathan/data/analysis_results/radial_analysis_output/follow/feb_2022/50.50.10/scr_apop_wt_div/GV0802_Pos5_706_RFP_N_events saved out successfully',\n",
       "  '/media/nathan/Transcend/Nathan/data/analysis_results/radial_analysis_output/follow/feb_2022/50.50.10/scr_apop_wt_div/GV0802_Pos5_470_RFP_N_cells / /media/nathan/Transcend/Nathan/data/analysis_results/radial_analysis_output/follow/feb_2022/50.50.10/scr_apop_wt_div/GV0802_Pos5_470_RFP_N_events saved out successfully',\n",
       "  '/media/nathan/Transcend/Nathan/data/analysis_results/radial_analysis_output/follow/feb_2022/50.50.10/scr_apop_wt_div/GV0802_Pos5_356_RFP_N_cells / /media/nathan/Transcend/Nathan/data/analysis_results/radial_analysis_output/follow/feb_2022/50.50.10/scr_apop_wt_div/GV0802_Pos5_356_RFP_N_events saved out successfully',\n",
       "  '/media/nathan/Transcend/Nathan/data/analysis_results/radial_analysis_output/follow/feb_2022/50.50.10/scr_apop_wt_div/GV0802_Pos5_1023_RFP_N_cells / /media/nathan/Transcend/Nathan/data/analysis_results/radial_analysis_output/follow/feb_2022/50.50.10/scr_apop_wt_div/GV0802_Pos5_1023_RFP_N_events saved out successfully',\n",
       "  '/media/nathan/Transcend/Nathan/data/analysis_results/radial_analysis_output/follow/feb_2022/50.50.10/scr_apop_wt_div/GV0802_Pos5_1090_RFP_N_cells / /media/nathan/Transcend/Nathan/data/analysis_results/radial_analysis_output/follow/feb_2022/50.50.10/scr_apop_wt_div/GV0802_Pos5_1090_RFP_N_events saved out successfully',\n",
       "  '/media/nathan/Transcend/Nathan/data/analysis_results/radial_analysis_output/follow/feb_2022/50.50.10/scr_apop_wt_div/GV0802_Pos5_705_RFP_N_cells / /media/nathan/Transcend/Nathan/data/analysis_results/radial_analysis_output/follow/feb_2022/50.50.10/scr_apop_wt_div/GV0802_Pos5_705_RFP_N_events saved out successfully',\n",
       "  '/media/nathan/Transcend/Nathan/data/analysis_results/radial_analysis_output/follow/feb_2022/50.50.10/scr_apop_wt_div/GV0802_Pos5_707_RFP_N_cells / /media/nathan/Transcend/Nathan/data/analysis_results/radial_analysis_output/follow/feb_2022/50.50.10/scr_apop_wt_div/GV0802_Pos5_707_RFP_N_events saved out successfully',\n",
       "  '/media/nathan/Transcend/Nathan/data/analysis_results/radial_analysis_output/follow/feb_2022/50.50.10/scr_apop_wt_div/GV0802_Pos5_736_RFP_N_cells / /media/nathan/Transcend/Nathan/data/analysis_results/radial_analysis_output/follow/feb_2022/50.50.10/scr_apop_wt_div/GV0802_Pos5_736_RFP_N_events saved out successfully',\n",
       "  '/media/nathan/Transcend/Nathan/data/analysis_results/radial_analysis_output/follow/feb_2022/50.50.10/scr_apop_wt_div/GV0802_Pos5_990_RFP_N_cells / /media/nathan/Transcend/Nathan/data/analysis_results/radial_analysis_output/follow/feb_2022/50.50.10/scr_apop_wt_div/GV0802_Pos5_990_RFP_N_events saved out successfully',\n",
       "  '/media/nathan/Transcend/Nathan/data/analysis_results/radial_analysis_output/follow/feb_2022/50.50.10/scr_apop_wt_div/GV0804_Pos5_28_RFP_N_cells / /media/nathan/Transcend/Nathan/data/analysis_results/radial_analysis_output/follow/feb_2022/50.50.10/scr_apop_wt_div/GV0804_Pos5_28_RFP_N_events saved out successfully',\n",
       "  '/media/nathan/Transcend/Nathan/data/analysis_results/radial_analysis_output/follow/feb_2022/50.50.10/scr_apop_wt_div/GV0804_Pos5_797_RFP_N_cells / /media/nathan/Transcend/Nathan/data/analysis_results/radial_analysis_output/follow/feb_2022/50.50.10/scr_apop_wt_div/GV0804_Pos5_797_RFP_N_events saved out successfully',\n",
       "  '/media/nathan/Transcend/Nathan/data/analysis_results/radial_analysis_output/follow/feb_2022/50.50.10/scr_apop_wt_div/GV0804_Pos5_661_RFP_N_cells / /media/nathan/Transcend/Nathan/data/analysis_results/radial_analysis_output/follow/feb_2022/50.50.10/scr_apop_wt_div/GV0804_Pos5_661_RFP_N_events saved out successfully',\n",
       "  '/media/nathan/Transcend/Nathan/data/analysis_results/radial_analysis_output/follow/feb_2022/50.50.10/scr_apop_wt_div/GV0804_Pos5_686_RFP_N_cells / /media/nathan/Transcend/Nathan/data/analysis_results/radial_analysis_output/follow/feb_2022/50.50.10/scr_apop_wt_div/GV0804_Pos5_686_RFP_N_events saved out successfully',\n",
       "  '/media/nathan/Transcend/Nathan/data/analysis_results/radial_analysis_output/follow/feb_2022/50.50.10/scr_apop_wt_div/GV0804_Pos5_883_RFP_N_cells / /media/nathan/Transcend/Nathan/data/analysis_results/radial_analysis_output/follow/feb_2022/50.50.10/scr_apop_wt_div/GV0804_Pos5_883_RFP_N_events saved out successfully',\n",
       "  '/media/nathan/Transcend/Nathan/data/analysis_results/radial_analysis_output/follow/feb_2022/50.50.10/scr_apop_wt_div/GV0804_Pos5_621_RFP_N_cells / /media/nathan/Transcend/Nathan/data/analysis_results/radial_analysis_output/follow/feb_2022/50.50.10/scr_apop_wt_div/GV0804_Pos5_621_RFP_N_events saved out successfully',\n",
       "  '/media/nathan/Transcend/Nathan/data/analysis_results/radial_analysis_output/follow/feb_2022/50.50.10/scr_apop_wt_div/GV0804_Pos5_828_RFP_N_cells / /media/nathan/Transcend/Nathan/data/analysis_results/radial_analysis_output/follow/feb_2022/50.50.10/scr_apop_wt_div/GV0804_Pos5_828_RFP_N_events saved out successfully',\n",
       "  '/media/nathan/Transcend/Nathan/data/analysis_results/radial_analysis_output/follow/feb_2022/50.50.10/scr_apop_wt_div/GV0804_Pos5_826_RFP_N_cells / /media/nathan/Transcend/Nathan/data/analysis_results/radial_analysis_output/follow/feb_2022/50.50.10/scr_apop_wt_div/GV0804_Pos5_826_RFP_N_events saved out successfully',\n",
       "  '/media/nathan/Transcend/Nathan/data/analysis_results/radial_analysis_output/follow/feb_2022/50.50.10/scr_apop_wt_div/GV0804_Pos5_771_RFP_N_cells / /media/nathan/Transcend/Nathan/data/analysis_results/radial_analysis_output/follow/feb_2022/50.50.10/scr_apop_wt_div/GV0804_Pos5_771_RFP_N_events saved out successfully',\n",
       "  '/media/nathan/Transcend/Nathan/data/analysis_results/radial_analysis_output/follow/feb_2022/50.50.10/scr_apop_wt_div/GV0804_Pos5_688_RFP_N_cells / /media/nathan/Transcend/Nathan/data/analysis_results/radial_analysis_output/follow/feb_2022/50.50.10/scr_apop_wt_div/GV0804_Pos5_688_RFP_N_events saved out successfully',\n",
       "  '/media/nathan/Transcend/Nathan/data/analysis_results/radial_analysis_output/follow/feb_2022/50.50.10/scr_apop_wt_div/GV0804_Pos5_865_RFP_N_cells / /media/nathan/Transcend/Nathan/data/analysis_results/radial_analysis_output/follow/feb_2022/50.50.10/scr_apop_wt_div/GV0804_Pos5_865_RFP_N_events saved out successfully',\n",
       "  '/media/nathan/Transcend/Nathan/data/analysis_results/radial_analysis_output/follow/feb_2022/50.50.10/scr_apop_wt_div/GV0804_Pos5_838_RFP_N_cells / /media/nathan/Transcend/Nathan/data/analysis_results/radial_analysis_output/follow/feb_2022/50.50.10/scr_apop_wt_div/GV0804_Pos5_838_RFP_N_events saved out successfully',\n",
       "  '/media/nathan/Transcend/Nathan/data/analysis_results/radial_analysis_output/follow/feb_2022/50.50.10/scr_apop_wt_div/GV0804_Pos5_1094_RFP_N_cells / /media/nathan/Transcend/Nathan/data/analysis_results/radial_analysis_output/follow/feb_2022/50.50.10/scr_apop_wt_div/GV0804_Pos5_1094_RFP_N_events saved out successfully',\n",
       "  '/media/nathan/Transcend/Nathan/data/analysis_results/radial_analysis_output/follow/feb_2022/50.50.10/scr_apop_wt_div/GV0804_Pos5_1058_RFP_N_cells / /media/nathan/Transcend/Nathan/data/analysis_results/radial_analysis_output/follow/feb_2022/50.50.10/scr_apop_wt_div/GV0804_Pos5_1058_RFP_N_events saved out successfully',\n",
       "  '/media/nathan/Transcend/Nathan/data/analysis_results/radial_analysis_output/follow/feb_2022/50.50.10/scr_apop_wt_div/GV0804_Pos5_1154_RFP_N_cells / /media/nathan/Transcend/Nathan/data/analysis_results/radial_analysis_output/follow/feb_2022/50.50.10/scr_apop_wt_div/GV0804_Pos5_1154_RFP_N_events saved out successfully',\n",
       "  '/media/nathan/Transcend/Nathan/data/analysis_results/radial_analysis_output/follow/feb_2022/50.50.10/scr_apop_wt_div/GV0804_Pos5_689_RFP_N_cells / /media/nathan/Transcend/Nathan/data/analysis_results/radial_analysis_output/follow/feb_2022/50.50.10/scr_apop_wt_div/GV0804_Pos5_689_RFP_N_events saved out successfully',\n",
       "  '/media/nathan/Transcend/Nathan/data/analysis_results/radial_analysis_output/follow/feb_2022/50.50.10/scr_apop_wt_div/GV0804_Pos5_933_RFP_N_cells / /media/nathan/Transcend/Nathan/data/analysis_results/radial_analysis_output/follow/feb_2022/50.50.10/scr_apop_wt_div/GV0804_Pos5_933_RFP_N_events saved out successfully',\n",
       "  '/media/nathan/Transcend/Nathan/data/analysis_results/radial_analysis_output/follow/feb_2022/50.50.10/scr_apop_wt_div/GV0804_Pos5_1274_RFP_N_cells / /media/nathan/Transcend/Nathan/data/analysis_results/radial_analysis_output/follow/feb_2022/50.50.10/scr_apop_wt_div/GV0804_Pos5_1274_RFP_N_events saved out successfully',\n",
       "  '/media/nathan/Transcend/Nathan/data/analysis_results/radial_analysis_output/follow/feb_2022/50.50.10/scr_apop_wt_div/GV0804_Pos5_1275_RFP_N_cells / /media/nathan/Transcend/Nathan/data/analysis_results/radial_analysis_output/follow/feb_2022/50.50.10/scr_apop_wt_div/GV0804_Pos5_1275_RFP_N_events saved out successfully',\n",
       "  '/media/nathan/Transcend/Nathan/data/analysis_results/radial_analysis_output/follow/feb_2022/50.50.10/scr_apop_wt_div/GV0804_Pos5_1059_RFP_N_cells / /media/nathan/Transcend/Nathan/data/analysis_results/radial_analysis_output/follow/feb_2022/50.50.10/scr_apop_wt_div/GV0804_Pos5_1059_RFP_N_events saved out successfully',\n",
       "  '/media/nathan/Transcend/Nathan/data/analysis_results/radial_analysis_output/follow/feb_2022/50.50.10/scr_apop_wt_div/GV0804_Pos5_761_RFP_N_cells / /media/nathan/Transcend/Nathan/data/analysis_results/radial_analysis_output/follow/feb_2022/50.50.10/scr_apop_wt_div/GV0804_Pos5_761_RFP_N_events saved out successfully',\n",
       "  '/media/nathan/Transcend/Nathan/data/analysis_results/radial_analysis_output/follow/feb_2022/50.50.10/scr_apop_wt_div/GV0804_Pos5_1155_RFP_N_cells / /media/nathan/Transcend/Nathan/data/analysis_results/radial_analysis_output/follow/feb_2022/50.50.10/scr_apop_wt_div/GV0804_Pos5_1155_RFP_N_events saved out successfully',\n",
       "  '/media/nathan/Transcend/Nathan/data/analysis_results/radial_analysis_output/follow/feb_2022/50.50.10/scr_apop_wt_div/GV0804_Pos5_778_RFP_N_cells / /media/nathan/Transcend/Nathan/data/analysis_results/radial_analysis_output/follow/feb_2022/50.50.10/scr_apop_wt_div/GV0804_Pos5_778_RFP_N_events saved out successfully',\n",
       "  '/media/nathan/Transcend/Nathan/data/analysis_results/radial_analysis_output/follow/feb_2022/50.50.10/scr_apop_wt_div/GV0804_Pos5_709_RFP_N_cells / /media/nathan/Transcend/Nathan/data/analysis_results/radial_analysis_output/follow/feb_2022/50.50.10/scr_apop_wt_div/GV0804_Pos5_709_RFP_N_events saved out successfully',\n",
       "  '/media/nathan/Transcend/Nathan/data/analysis_results/radial_analysis_output/follow/feb_2022/50.50.10/scr_apop_wt_div/GV0804_Pos5_662_RFP_N_cells / /media/nathan/Transcend/Nathan/data/analysis_results/radial_analysis_output/follow/feb_2022/50.50.10/scr_apop_wt_div/GV0804_Pos5_662_RFP_N_events saved out successfully',\n",
       "  '/media/nathan/Transcend/Nathan/data/analysis_results/radial_analysis_output/follow/feb_2022/50.50.10/scr_apop_wt_div/GV0804_Pos5_701_RFP_N_cells / /media/nathan/Transcend/Nathan/data/analysis_results/radial_analysis_output/follow/feb_2022/50.50.10/scr_apop_wt_div/GV0804_Pos5_701_RFP_N_events saved out successfully',\n",
       "  '/media/nathan/Transcend/Nathan/data/analysis_results/radial_analysis_output/follow/feb_2022/50.50.10/scr_apop_wt_div/GV0804_Pos5_943_RFP_N_cells / /media/nathan/Transcend/Nathan/data/analysis_results/radial_analysis_output/follow/feb_2022/50.50.10/scr_apop_wt_div/GV0804_Pos5_943_RFP_N_events saved out successfully',\n",
       "  '/media/nathan/Transcend/Nathan/data/analysis_results/radial_analysis_output/follow/feb_2022/50.50.10/scr_apop_wt_div/GV0804_Pos5_918_RFP_N_cells / /media/nathan/Transcend/Nathan/data/analysis_results/radial_analysis_output/follow/feb_2022/50.50.10/scr_apop_wt_div/GV0804_Pos5_918_RFP_N_events saved out successfully',\n",
       "  '/media/nathan/Transcend/Nathan/data/analysis_results/radial_analysis_output/follow/feb_2022/50.50.10/scr_apop_wt_div/GV0804_Pos5_934_RFP_N_cells / /media/nathan/Transcend/Nathan/data/analysis_results/radial_analysis_output/follow/feb_2022/50.50.10/scr_apop_wt_div/GV0804_Pos5_934_RFP_N_events saved out successfully',\n",
       "  '/media/nathan/Transcend/Nathan/data/analysis_results/radial_analysis_output/follow/feb_2022/50.50.10/scr_apop_wt_div/GV0805_Pos5_890_RFP_N_cells / /media/nathan/Transcend/Nathan/data/analysis_results/radial_analysis_output/follow/feb_2022/50.50.10/scr_apop_wt_div/GV0805_Pos5_890_RFP_N_events saved out successfully',\n",
       "  '/media/nathan/Transcend/Nathan/data/analysis_results/radial_analysis_output/follow/feb_2022/50.50.10/scr_apop_wt_div/GV0805_Pos5_599_RFP_N_cells / /media/nathan/Transcend/Nathan/data/analysis_results/radial_analysis_output/follow/feb_2022/50.50.10/scr_apop_wt_div/GV0805_Pos5_599_RFP_N_events saved out successfully',\n",
       "  '/media/nathan/Transcend/Nathan/data/analysis_results/radial_analysis_output/follow/feb_2022/50.50.10/scr_apop_wt_div/GV0805_Pos5_24_RFP_N_cells / /media/nathan/Transcend/Nathan/data/analysis_results/radial_analysis_output/follow/feb_2022/50.50.10/scr_apop_wt_div/GV0805_Pos5_24_RFP_N_events saved out successfully',\n",
       "  '/media/nathan/Transcend/Nathan/data/analysis_results/radial_analysis_output/follow/feb_2022/50.50.10/scr_apop_wt_div/GV0805_Pos5_13_RFP_N_cells / /media/nathan/Transcend/Nathan/data/analysis_results/radial_analysis_output/follow/feb_2022/50.50.10/scr_apop_wt_div/GV0805_Pos5_13_RFP_N_events saved out successfully',\n",
       "  '/media/nathan/Transcend/Nathan/data/analysis_results/radial_analysis_output/follow/feb_2022/50.50.10/scr_apop_wt_div/GV0805_Pos5_772_RFP_N_cells / /media/nathan/Transcend/Nathan/data/analysis_results/radial_analysis_output/follow/feb_2022/50.50.10/scr_apop_wt_div/GV0805_Pos5_772_RFP_N_events saved out successfully',\n",
       "  '/media/nathan/Transcend/Nathan/data/analysis_results/radial_analysis_output/follow/feb_2022/50.50.10/scr_apop_wt_div/GV0805_Pos5_809_RFP_N_cells / /media/nathan/Transcend/Nathan/data/analysis_results/radial_analysis_output/follow/feb_2022/50.50.10/scr_apop_wt_div/GV0805_Pos5_809_RFP_N_events saved out successfully',\n",
       "  '/media/nathan/Transcend/Nathan/data/analysis_results/radial_analysis_output/follow/feb_2022/50.50.10/scr_apop_wt_div/GV0805_Pos5_1064_RFP_N_cells / /media/nathan/Transcend/Nathan/data/analysis_results/radial_analysis_output/follow/feb_2022/50.50.10/scr_apop_wt_div/GV0805_Pos5_1064_RFP_N_events saved out successfully',\n",
       "  '/media/nathan/Transcend/Nathan/data/analysis_results/radial_analysis_output/follow/feb_2022/50.50.10/scr_apop_wt_div/GV0805_Pos5_483_RFP_N_cells / /media/nathan/Transcend/Nathan/data/analysis_results/radial_analysis_output/follow/feb_2022/50.50.10/scr_apop_wt_div/GV0805_Pos5_483_RFP_N_events saved out successfully',\n",
       "  '/media/nathan/Transcend/Nathan/data/analysis_results/radial_analysis_output/follow/feb_2022/50.50.10/scr_apop_wt_div/GV0805_Pos5_484_RFP_N_cells / /media/nathan/Transcend/Nathan/data/analysis_results/radial_analysis_output/follow/feb_2022/50.50.10/scr_apop_wt_div/GV0805_Pos5_484_RFP_N_events saved out successfully',\n",
       "  '/media/nathan/Transcend/Nathan/data/analysis_results/radial_analysis_output/follow/feb_2022/50.50.10/scr_apop_wt_div/GV0805_Pos5_640_RFP_N_cells / /media/nathan/Transcend/Nathan/data/analysis_results/radial_analysis_output/follow/feb_2022/50.50.10/scr_apop_wt_div/GV0805_Pos5_640_RFP_N_events saved out successfully',\n",
       "  '/media/nathan/Transcend/Nathan/data/analysis_results/radial_analysis_output/follow/feb_2022/50.50.10/scr_apop_wt_div/GV0805_Pos5_1274_RFP_N_cells / /media/nathan/Transcend/Nathan/data/analysis_results/radial_analysis_output/follow/feb_2022/50.50.10/scr_apop_wt_div/GV0805_Pos5_1274_RFP_N_events saved out successfully',\n",
       "  '/media/nathan/Transcend/Nathan/data/analysis_results/radial_analysis_output/follow/feb_2022/50.50.10/scr_apop_wt_div/GV0805_Pos5_1273_RFP_N_cells / /media/nathan/Transcend/Nathan/data/analysis_results/radial_analysis_output/follow/feb_2022/50.50.10/scr_apop_wt_div/GV0805_Pos5_1273_RFP_N_events saved out successfully',\n",
       "  '/media/nathan/Transcend/Nathan/data/analysis_results/radial_analysis_output/follow/feb_2022/50.50.10/scr_apop_wt_div/GV0805_Pos5_1300_RFP_N_cells / /media/nathan/Transcend/Nathan/data/analysis_results/radial_analysis_output/follow/feb_2022/50.50.10/scr_apop_wt_div/GV0805_Pos5_1300_RFP_N_events saved out successfully',\n",
       "  '/media/nathan/Transcend/Nathan/data/analysis_results/radial_analysis_output/follow/feb_2022/50.50.10/scr_apop_wt_div/GV0805_Pos5_1050_RFP_N_cells / /media/nathan/Transcend/Nathan/data/analysis_results/radial_analysis_output/follow/feb_2022/50.50.10/scr_apop_wt_div/GV0805_Pos5_1050_RFP_N_events saved out successfully',\n",
       "  '/media/nathan/Transcend/Nathan/data/analysis_results/radial_analysis_output/follow/feb_2022/50.50.10/scr_apop_wt_div/GV0805_Pos5_580_RFP_N_cells / /media/nathan/Transcend/Nathan/data/analysis_results/radial_analysis_output/follow/feb_2022/50.50.10/scr_apop_wt_div/GV0805_Pos5_580_RFP_N_events saved out successfully',\n",
       "  '/media/nathan/Transcend/Nathan/data/analysis_results/radial_analysis_output/follow/feb_2022/50.50.10/scr_apop_wt_div/GV0805_Pos5_843_RFP_N_cells / /media/nathan/Transcend/Nathan/data/analysis_results/radial_analysis_output/follow/feb_2022/50.50.10/scr_apop_wt_div/GV0805_Pos5_843_RFP_N_events saved out successfully',\n",
       "  '/media/nathan/Transcend/Nathan/data/analysis_results/radial_analysis_output/follow/feb_2022/50.50.10/scr_apop_wt_div/GV0805_Pos5_1398_RFP_N_cells / /media/nathan/Transcend/Nathan/data/analysis_results/radial_analysis_output/follow/feb_2022/50.50.10/scr_apop_wt_div/GV0805_Pos5_1398_RFP_N_events saved out successfully',\n",
       "  '/media/nathan/Transcend/Nathan/data/analysis_results/radial_analysis_output/follow/feb_2022/50.50.10/scr_apop_wt_div/GV0805_Pos5_1397_RFP_N_cells / /media/nathan/Transcend/Nathan/data/analysis_results/radial_analysis_output/follow/feb_2022/50.50.10/scr_apop_wt_div/GV0805_Pos5_1397_RFP_N_events saved out successfully',\n",
       "  '/media/nathan/Transcend/Nathan/data/analysis_results/radial_analysis_output/follow/feb_2022/50.50.10/scr_apop_wt_div/GV0805_Pos5_1469_RFP_N_cells / /media/nathan/Transcend/Nathan/data/analysis_results/radial_analysis_output/follow/feb_2022/50.50.10/scr_apop_wt_div/GV0805_Pos5_1469_RFP_N_events saved out successfully',\n",
       "  '/media/nathan/Transcend/Nathan/data/analysis_results/radial_analysis_output/follow/feb_2022/50.50.10/scr_apop_wt_div/GV0805_Pos5_891_RFP_N_cells / /media/nathan/Transcend/Nathan/data/analysis_results/radial_analysis_output/follow/feb_2022/50.50.10/scr_apop_wt_div/GV0805_Pos5_891_RFP_N_events saved out successfully',\n",
       "  '/media/nathan/Transcend/Nathan/data/analysis_results/radial_analysis_output/follow/feb_2022/50.50.10/scr_apop_wt_div/GV0805_Pos5_1049_RFP_N_cells / /media/nathan/Transcend/Nathan/data/analysis_results/radial_analysis_output/follow/feb_2022/50.50.10/scr_apop_wt_div/GV0805_Pos5_1049_RFP_N_events saved out successfully',\n",
       "  '/media/nathan/Transcend/Nathan/data/analysis_results/radial_analysis_output/follow/feb_2022/50.50.10/scr_apop_wt_div/GV0805_Pos5_1468_RFP_N_cells / /media/nathan/Transcend/Nathan/data/analysis_results/radial_analysis_output/follow/feb_2022/50.50.10/scr_apop_wt_div/GV0805_Pos5_1468_RFP_N_events saved out successfully',\n",
       "  '/media/nathan/Transcend/Nathan/data/analysis_results/radial_analysis_output/follow/feb_2022/50.50.10/scr_apop_wt_div/GV0805_Pos5_352_RFP_N_cells / /media/nathan/Transcend/Nathan/data/analysis_results/radial_analysis_output/follow/feb_2022/50.50.10/scr_apop_wt_div/GV0805_Pos5_352_RFP_N_events saved out successfully',\n",
       "  '/media/nathan/Transcend/Nathan/data/analysis_results/radial_analysis_output/follow/feb_2022/50.50.10/scr_apop_wt_div/GV0805_Pos5_1333_RFP_N_cells / /media/nathan/Transcend/Nathan/data/analysis_results/radial_analysis_output/follow/feb_2022/50.50.10/scr_apop_wt_div/GV0805_Pos5_1333_RFP_N_events saved out successfully',\n",
       "  '/media/nathan/Transcend/Nathan/data/analysis_results/radial_analysis_output/follow/feb_2022/50.50.10/scr_apop_wt_div/GV0805_Pos5_1987_RFP_N_cells / /media/nathan/Transcend/Nathan/data/analysis_results/radial_analysis_output/follow/feb_2022/50.50.10/scr_apop_wt_div/GV0805_Pos5_1987_RFP_N_events saved out successfully',\n",
       "  '/media/nathan/Transcend/Nathan/data/analysis_results/radial_analysis_output/follow/feb_2022/50.50.10/scr_apop_wt_div/GV0805_Pos5_247_RFP_N_cells / /media/nathan/Transcend/Nathan/data/analysis_results/radial_analysis_output/follow/feb_2022/50.50.10/scr_apop_wt_div/GV0805_Pos5_247_RFP_N_events saved out successfully',\n",
       "  '/media/nathan/Transcend/Nathan/data/analysis_results/radial_analysis_output/follow/feb_2022/50.50.10/scr_apop_wt_div/GV0805_Pos5_1794_RFP_N_cells / /media/nathan/Transcend/Nathan/data/analysis_results/radial_analysis_output/follow/feb_2022/50.50.10/scr_apop_wt_div/GV0805_Pos5_1794_RFP_N_events saved out successfully',\n",
       "  '/media/nathan/Transcend/Nathan/data/analysis_results/radial_analysis_output/follow/feb_2022/50.50.10/scr_apop_wt_div/GV0805_Pos5_832_RFP_N_cells / /media/nathan/Transcend/Nathan/data/analysis_results/radial_analysis_output/follow/feb_2022/50.50.10/scr_apop_wt_div/GV0805_Pos5_832_RFP_N_events saved out successfully',\n",
       "  '/media/nathan/Transcend/Nathan/data/analysis_results/radial_analysis_output/follow/feb_2022/50.50.10/scr_apop_wt_div/GV0805_Pos5_1804_RFP_N_cells / /media/nathan/Transcend/Nathan/data/analysis_results/radial_analysis_output/follow/feb_2022/50.50.10/scr_apop_wt_div/GV0805_Pos5_1804_RFP_N_events saved out successfully',\n",
       "  '/media/nathan/Transcend/Nathan/data/analysis_results/radial_analysis_output/follow/feb_2022/50.50.10/scr_apop_wt_div/GV0805_Pos5_769_RFP_N_cells / /media/nathan/Transcend/Nathan/data/analysis_results/radial_analysis_output/follow/feb_2022/50.50.10/scr_apop_wt_div/GV0805_Pos5_769_RFP_N_events saved out successfully',\n",
       "  '/media/nathan/Transcend/Nathan/data/analysis_results/radial_analysis_output/follow/feb_2022/50.50.10/scr_apop_wt_div/GV0805_Pos5_639_RFP_N_cells / /media/nathan/Transcend/Nathan/data/analysis_results/radial_analysis_output/follow/feb_2022/50.50.10/scr_apop_wt_div/GV0805_Pos5_639_RFP_N_events saved out successfully',\n",
       "  '/media/nathan/Transcend/Nathan/data/analysis_results/radial_analysis_output/follow/feb_2022/50.50.10/scr_apop_wt_div/GV0805_Pos5_1675_RFP_N_cells / /media/nathan/Transcend/Nathan/data/analysis_results/radial_analysis_output/follow/feb_2022/50.50.10/scr_apop_wt_div/GV0805_Pos5_1675_RFP_N_events saved out successfully',\n",
       "  '/media/nathan/Transcend/Nathan/data/analysis_results/radial_analysis_output/follow/feb_2022/50.50.10/scr_apop_wt_div/GV0806_Pos5_4_RFP_N_cells / /media/nathan/Transcend/Nathan/data/analysis_results/radial_analysis_output/follow/feb_2022/50.50.10/scr_apop_wt_div/GV0806_Pos5_4_RFP_N_events saved out successfully',\n",
       "  '/media/nathan/Transcend/Nathan/data/analysis_results/radial_analysis_output/follow/feb_2022/50.50.10/scr_apop_wt_div/GV0806_Pos5_44_RFP_N_cells / /media/nathan/Transcend/Nathan/data/analysis_results/radial_analysis_output/follow/feb_2022/50.50.10/scr_apop_wt_div/GV0806_Pos5_44_RFP_N_events saved out successfully',\n",
       "  '/media/nathan/Transcend/Nathan/data/analysis_results/radial_analysis_output/follow/feb_2022/50.50.10/scr_apop_wt_div/GV0806_Pos5_353_RFP_N_cells / /media/nathan/Transcend/Nathan/data/analysis_results/radial_analysis_output/follow/feb_2022/50.50.10/scr_apop_wt_div/GV0806_Pos5_353_RFP_N_events saved out successfully',\n",
       "  '/media/nathan/Transcend/Nathan/data/analysis_results/radial_analysis_output/follow/feb_2022/50.50.10/scr_apop_wt_div/GV0806_Pos5_393_RFP_N_cells / /media/nathan/Transcend/Nathan/data/analysis_results/radial_analysis_output/follow/feb_2022/50.50.10/scr_apop_wt_div/GV0806_Pos5_393_RFP_N_events saved out successfully',\n",
       "  '/media/nathan/Transcend/Nathan/data/analysis_results/radial_analysis_output/follow/feb_2022/50.50.10/scr_apop_wt_div/GV0806_Pos5_431_RFP_N_cells / /media/nathan/Transcend/Nathan/data/analysis_results/radial_analysis_output/follow/feb_2022/50.50.10/scr_apop_wt_div/GV0806_Pos5_431_RFP_N_events saved out successfully',\n",
       "  '/media/nathan/Transcend/Nathan/data/analysis_results/radial_analysis_output/follow/feb_2022/50.50.10/scr_apop_wt_div/GV0806_Pos5_567_RFP_N_cells / /media/nathan/Transcend/Nathan/data/analysis_results/radial_analysis_output/follow/feb_2022/50.50.10/scr_apop_wt_div/GV0806_Pos5_567_RFP_N_events saved out successfully',\n",
       "  '/media/nathan/Transcend/Nathan/data/analysis_results/radial_analysis_output/follow/feb_2022/50.50.10/scr_apop_wt_div/GV0806_Pos5_352_RFP_N_cells / /media/nathan/Transcend/Nathan/data/analysis_results/radial_analysis_output/follow/feb_2022/50.50.10/scr_apop_wt_div/GV0806_Pos5_352_RFP_N_events saved out successfully',\n",
       "  '/media/nathan/Transcend/Nathan/data/analysis_results/radial_analysis_output/follow/feb_2022/50.50.10/scr_apop_wt_div/GV0806_Pos5_783_RFP_N_cells / /media/nathan/Transcend/Nathan/data/analysis_results/radial_analysis_output/follow/feb_2022/50.50.10/scr_apop_wt_div/GV0806_Pos5_783_RFP_N_events saved out successfully',\n",
       "  '/media/nathan/Transcend/Nathan/data/analysis_results/radial_analysis_output/follow/feb_2022/50.50.10/scr_apop_wt_div/GV0806_Pos5_380_RFP_N_cells / /media/nathan/Transcend/Nathan/data/analysis_results/radial_analysis_output/follow/feb_2022/50.50.10/scr_apop_wt_div/GV0806_Pos5_380_RFP_N_events saved out successfully',\n",
       "  '/media/nathan/Transcend/Nathan/data/analysis_results/radial_analysis_output/follow/feb_2022/50.50.10/scr_apop_wt_div/GV0806_Pos5_973_RFP_N_cells / /media/nathan/Transcend/Nathan/data/analysis_results/radial_analysis_output/follow/feb_2022/50.50.10/scr_apop_wt_div/GV0806_Pos5_973_RFP_N_events saved out successfully',\n",
       "  '/media/nathan/Transcend/Nathan/data/analysis_results/radial_analysis_output/follow/feb_2022/50.50.10/scr_apop_wt_div/GV0806_Pos5_1044_RFP_N_cells / /media/nathan/Transcend/Nathan/data/analysis_results/radial_analysis_output/follow/feb_2022/50.50.10/scr_apop_wt_div/GV0806_Pos5_1044_RFP_N_events saved out successfully',\n",
       "  '/media/nathan/Transcend/Nathan/data/analysis_results/radial_analysis_output/follow/feb_2022/50.50.10/scr_apop_wt_div/GV0807_Pos5_4_RFP_N_cells / /media/nathan/Transcend/Nathan/data/analysis_results/radial_analysis_output/follow/feb_2022/50.50.10/scr_apop_wt_div/GV0807_Pos5_4_RFP_N_events saved out successfully',\n",
       "  '/media/nathan/Transcend/Nathan/data/analysis_results/radial_analysis_output/follow/feb_2022/50.50.10/scr_apop_wt_div/GV0807_Pos5_52_RFP_N_cells / /media/nathan/Transcend/Nathan/data/analysis_results/radial_analysis_output/follow/feb_2022/50.50.10/scr_apop_wt_div/GV0807_Pos5_52_RFP_N_events saved out successfully',\n",
       "  '/media/nathan/Transcend/Nathan/data/analysis_results/radial_analysis_output/follow/feb_2022/50.50.10/scr_apop_wt_div/GV0807_Pos5_301_RFP_N_cells / /media/nathan/Transcend/Nathan/data/analysis_results/radial_analysis_output/follow/feb_2022/50.50.10/scr_apop_wt_div/GV0807_Pos5_301_RFP_N_events saved out successfully',\n",
       "  '/media/nathan/Transcend/Nathan/data/analysis_results/radial_analysis_output/follow/feb_2022/50.50.10/scr_apop_wt_div/GV0807_Pos5_459_RFP_N_cells / /media/nathan/Transcend/Nathan/data/analysis_results/radial_analysis_output/follow/feb_2022/50.50.10/scr_apop_wt_div/GV0807_Pos5_459_RFP_N_events saved out successfully',\n",
       "  '/media/nathan/Transcend/Nathan/data/analysis_results/radial_analysis_output/follow/feb_2022/50.50.10/scr_apop_wt_div/GV0807_Pos5_402_RFP_N_cells / /media/nathan/Transcend/Nathan/data/analysis_results/radial_analysis_output/follow/feb_2022/50.50.10/scr_apop_wt_div/GV0807_Pos5_402_RFP_N_events saved out successfully',\n",
       "  '/media/nathan/Transcend/Nathan/data/analysis_results/radial_analysis_output/follow/feb_2022/50.50.10/scr_apop_wt_div/GV0807_Pos5_354_RFP_N_cells / /media/nathan/Transcend/Nathan/data/analysis_results/radial_analysis_output/follow/feb_2022/50.50.10/scr_apop_wt_div/GV0807_Pos5_354_RFP_N_events saved out successfully',\n",
       "  '/media/nathan/Transcend/Nathan/data/analysis_results/radial_analysis_output/follow/feb_2022/50.50.10/scr_apop_wt_div/GV0807_Pos5_679_RFP_N_cells / /media/nathan/Transcend/Nathan/data/analysis_results/radial_analysis_output/follow/feb_2022/50.50.10/scr_apop_wt_div/GV0807_Pos5_679_RFP_N_events saved out successfully',\n",
       "  '/media/nathan/Transcend/Nathan/data/analysis_results/radial_analysis_output/follow/feb_2022/50.50.10/scr_apop_wt_div/GV0807_Pos5_950_RFP_N_cells / /media/nathan/Transcend/Nathan/data/analysis_results/radial_analysis_output/follow/feb_2022/50.50.10/scr_apop_wt_div/GV0807_Pos5_950_RFP_N_events saved out successfully',\n",
       "  '/media/nathan/Transcend/Nathan/data/analysis_results/radial_analysis_output/follow/feb_2022/50.50.10/scr_apop_wt_div/GV0807_Pos5_952_RFP_N_cells / /media/nathan/Transcend/Nathan/data/analysis_results/radial_analysis_output/follow/feb_2022/50.50.10/scr_apop_wt_div/GV0807_Pos5_952_RFP_N_events saved out successfully',\n",
       "  '/media/nathan/Transcend/Nathan/data/analysis_results/radial_analysis_output/follow/feb_2022/50.50.10/scr_apop_wt_div/GV0807_Pos5_334_RFP_N_cells / /media/nathan/Transcend/Nathan/data/analysis_results/radial_analysis_output/follow/feb_2022/50.50.10/scr_apop_wt_div/GV0807_Pos5_334_RFP_N_events saved out successfully',\n",
       "  '/media/nathan/Transcend/Nathan/data/analysis_results/radial_analysis_output/follow/feb_2022/50.50.10/scr_apop_wt_div/GV0807_Pos5_733_RFP_N_cells / /media/nathan/Transcend/Nathan/data/analysis_results/radial_analysis_output/follow/feb_2022/50.50.10/scr_apop_wt_div/GV0807_Pos5_733_RFP_N_events saved out successfully',\n",
       "  '/media/nathan/Transcend/Nathan/data/analysis_results/radial_analysis_output/follow/feb_2022/50.50.10/scr_apop_wt_div/GV0807_Pos5_916_RFP_N_cells / /media/nathan/Transcend/Nathan/data/analysis_results/radial_analysis_output/follow/feb_2022/50.50.10/scr_apop_wt_div/GV0807_Pos5_916_RFP_N_events saved out successfully',\n",
       "  '/media/nathan/Transcend/Nathan/data/analysis_results/radial_analysis_output/follow/feb_2022/50.50.10/scr_apop_wt_div/GV0807_Pos5_677_RFP_N_cells / /media/nathan/Transcend/Nathan/data/analysis_results/radial_analysis_output/follow/feb_2022/50.50.10/scr_apop_wt_div/GV0807_Pos5_677_RFP_N_events saved out successfully',\n",
       "  '/media/nathan/Transcend/Nathan/data/analysis_results/radial_analysis_output/follow/feb_2022/50.50.10/scr_apop_wt_div/GV0807_Pos5_1128_RFP_N_cells / /media/nathan/Transcend/Nathan/data/analysis_results/radial_analysis_output/follow/feb_2022/50.50.10/scr_apop_wt_div/GV0807_Pos5_1128_RFP_N_events saved out successfully',\n",
       "  '/media/nathan/Transcend/Nathan/data/analysis_results/radial_analysis_output/follow/feb_2022/50.50.10/scr_apop_wt_div/GV0807_Pos5_460_RFP_N_cells / /media/nathan/Transcend/Nathan/data/analysis_results/radial_analysis_output/follow/feb_2022/50.50.10/scr_apop_wt_div/GV0807_Pos5_460_RFP_N_events saved out successfully',\n",
       "  '/media/nathan/Transcend/Nathan/data/analysis_results/radial_analysis_output/follow/feb_2022/50.50.10/scr_apop_wt_div/GV0807_Pos5_51_RFP_N_cells / /media/nathan/Transcend/Nathan/data/analysis_results/radial_analysis_output/follow/feb_2022/50.50.10/scr_apop_wt_div/GV0807_Pos5_51_RFP_N_events saved out successfully',\n",
       "  '/media/nathan/Transcend/Nathan/data/analysis_results/radial_analysis_output/follow/feb_2022/50.50.10/scr_apop_wt_div/GV0807_Pos5_977_RFP_N_cells / /media/nathan/Transcend/Nathan/data/analysis_results/radial_analysis_output/follow/feb_2022/50.50.10/scr_apop_wt_div/GV0807_Pos5_977_RFP_N_events saved out successfully',\n",
       "  '/media/nathan/Transcend/Nathan/data/analysis_results/radial_analysis_output/follow/feb_2022/50.50.10/scr_apop_wt_div/GV0807_Pos5_1149_RFP_N_cells / /media/nathan/Transcend/Nathan/data/analysis_results/radial_analysis_output/follow/feb_2022/50.50.10/scr_apop_wt_div/GV0807_Pos5_1149_RFP_N_events saved out successfully',\n",
       "  '/media/nathan/Transcend/Nathan/data/analysis_results/radial_analysis_output/follow/feb_2022/50.50.10/scr_apop_wt_div/GV0807_Pos5_815_RFP_N_cells / /media/nathan/Transcend/Nathan/data/analysis_results/radial_analysis_output/follow/feb_2022/50.50.10/scr_apop_wt_div/GV0807_Pos5_815_RFP_N_events saved out successfully',\n",
       "  '/media/nathan/Transcend/Nathan/data/analysis_results/radial_analysis_output/follow/feb_2022/50.50.10/scr_apop_wt_div/GV0807_Pos5_2_RFP_N_cells / /media/nathan/Transcend/Nathan/data/analysis_results/radial_analysis_output/follow/feb_2022/50.50.10/scr_apop_wt_div/GV0807_Pos5_2_RFP_N_events saved out successfully',\n",
       "  '/media/nathan/Transcend/Nathan/data/analysis_results/radial_analysis_output/follow/feb_2022/50.50.10/scr_apop_wt_div/GV0807_Pos5_1281_RFP_N_cells / /media/nathan/Transcend/Nathan/data/analysis_results/radial_analysis_output/follow/feb_2022/50.50.10/scr_apop_wt_div/GV0807_Pos5_1281_RFP_N_events saved out successfully',\n",
       "  '/media/nathan/Transcend/Nathan/data/analysis_results/radial_analysis_output/follow/feb_2022/50.50.10/scr_apop_wt_div/GV0807_Pos5_1448_RFP_N_cells / /media/nathan/Transcend/Nathan/data/analysis_results/radial_analysis_output/follow/feb_2022/50.50.10/scr_apop_wt_div/GV0807_Pos5_1448_RFP_N_events saved out successfully',\n",
       "  '/media/nathan/Transcend/Nathan/data/analysis_results/radial_analysis_output/follow/feb_2022/50.50.10/scr_apop_wt_div/GV0807_Pos5_1427_RFP_N_cells / /media/nathan/Transcend/Nathan/data/analysis_results/radial_analysis_output/follow/feb_2022/50.50.10/scr_apop_wt_div/GV0807_Pos5_1427_RFP_N_events saved out successfully',\n",
       "  '/media/nathan/Transcend/Nathan/data/analysis_results/radial_analysis_output/follow/feb_2022/50.50.10/scr_apop_wt_div/GV0807_Pos5_1489_RFP_N_cells / /media/nathan/Transcend/Nathan/data/analysis_results/radial_analysis_output/follow/feb_2022/50.50.10/scr_apop_wt_div/GV0807_Pos5_1489_RFP_N_events saved out successfully',\n",
       "  '/media/nathan/Transcend/Nathan/data/analysis_results/radial_analysis_output/follow/feb_2022/50.50.10/scr_apop_wt_div/GV0807_Pos5_944_RFP_N_cells / /media/nathan/Transcend/Nathan/data/analysis_results/radial_analysis_output/follow/feb_2022/50.50.10/scr_apop_wt_div/GV0807_Pos5_944_RFP_N_events saved out successfully',\n",
       "  '/media/nathan/Transcend/Nathan/data/analysis_results/radial_analysis_output/follow/feb_2022/50.50.10/scr_apop_wt_div/GV0807_Pos5_819_RFP_N_cells / /media/nathan/Transcend/Nathan/data/analysis_results/radial_analysis_output/follow/feb_2022/50.50.10/scr_apop_wt_div/GV0807_Pos5_819_RFP_N_events saved out successfully',\n",
       "  '/media/nathan/Transcend/Nathan/data/analysis_results/radial_analysis_output/follow/feb_2022/50.50.10/scr_apop_wt_div/GV0807_Pos5_793_RFP_N_cells / /media/nathan/Transcend/Nathan/data/analysis_results/radial_analysis_output/follow/feb_2022/50.50.10/scr_apop_wt_div/GV0807_Pos5_793_RFP_N_events saved out successfully',\n",
       "  '/media/nathan/Transcend/Nathan/data/analysis_results/radial_analysis_output/follow/feb_2022/50.50.10/scr_apop_wt_div/GV0800_Pos16_15_RFP_N_cells / /media/nathan/Transcend/Nathan/data/analysis_results/radial_analysis_output/follow/feb_2022/50.50.10/scr_apop_wt_div/GV0800_Pos16_15_RFP_N_events saved out successfully',\n",
       "  '/media/nathan/Transcend/Nathan/data/analysis_results/radial_analysis_output/follow/feb_2022/50.50.10/scr_apop_wt_div/GV0800_Pos16_29_RFP_N_cells / /media/nathan/Transcend/Nathan/data/analysis_results/radial_analysis_output/follow/feb_2022/50.50.10/scr_apop_wt_div/GV0800_Pos16_29_RFP_N_events saved out successfully',\n",
       "  '/media/nathan/Transcend/Nathan/data/analysis_results/radial_analysis_output/follow/feb_2022/50.50.10/scr_apop_wt_div/GV0800_Pos16_8_RFP_N_cells / /media/nathan/Transcend/Nathan/data/analysis_results/radial_analysis_output/follow/feb_2022/50.50.10/scr_apop_wt_div/GV0800_Pos16_8_RFP_N_events saved out successfully',\n",
       "  '/media/nathan/Transcend/Nathan/data/analysis_results/radial_analysis_output/follow/feb_2022/50.50.10/scr_apop_wt_div/GV0800_Pos16_24_RFP_N_cells / /media/nathan/Transcend/Nathan/data/analysis_results/radial_analysis_output/follow/feb_2022/50.50.10/scr_apop_wt_div/GV0800_Pos16_24_RFP_N_events saved out successfully',\n",
       "  '/media/nathan/Transcend/Nathan/data/analysis_results/radial_analysis_output/follow/feb_2022/50.50.10/scr_apop_wt_div/GV0800_Pos16_31_RFP_N_cells / /media/nathan/Transcend/Nathan/data/analysis_results/radial_analysis_output/follow/feb_2022/50.50.10/scr_apop_wt_div/GV0800_Pos16_31_RFP_N_events saved out successfully',\n",
       "  '/media/nathan/Transcend/Nathan/data/analysis_results/radial_analysis_output/follow/feb_2022/50.50.10/scr_apop_wt_div/GV0800_Pos16_505_RFP_N_cells / /media/nathan/Transcend/Nathan/data/analysis_results/radial_analysis_output/follow/feb_2022/50.50.10/scr_apop_wt_div/GV0800_Pos16_505_RFP_N_events saved out successfully',\n",
       "  '/media/nathan/Transcend/Nathan/data/analysis_results/radial_analysis_output/follow/feb_2022/50.50.10/scr_apop_wt_div/GV0800_Pos16_63_RFP_N_cells / /media/nathan/Transcend/Nathan/data/analysis_results/radial_analysis_output/follow/feb_2022/50.50.10/scr_apop_wt_div/GV0800_Pos16_63_RFP_N_events saved out successfully',\n",
       "  '/media/nathan/Transcend/Nathan/data/analysis_results/radial_analysis_output/follow/feb_2022/50.50.10/scr_apop_wt_div/GV0800_Pos16_496_RFP_N_cells / /media/nathan/Transcend/Nathan/data/analysis_results/radial_analysis_output/follow/feb_2022/50.50.10/scr_apop_wt_div/GV0800_Pos16_496_RFP_N_events saved out successfully',\n",
       "  '/media/nathan/Transcend/Nathan/data/analysis_results/radial_analysis_output/follow/feb_2022/50.50.10/scr_apop_wt_div/GV0800_Pos16_23_RFP_N_cells / /media/nathan/Transcend/Nathan/data/analysis_results/radial_analysis_output/follow/feb_2022/50.50.10/scr_apop_wt_div/GV0800_Pos16_23_RFP_N_events saved out successfully',\n",
       "  '/media/nathan/Transcend/Nathan/data/analysis_results/radial_analysis_output/follow/feb_2022/50.50.10/scr_apop_wt_div/GV0800_Pos16_572_RFP_N_cells / /media/nathan/Transcend/Nathan/data/analysis_results/radial_analysis_output/follow/feb_2022/50.50.10/scr_apop_wt_div/GV0800_Pos16_572_RFP_N_events saved out successfully',\n",
       "  '/media/nathan/Transcend/Nathan/data/analysis_results/radial_analysis_output/follow/feb_2022/50.50.10/scr_apop_wt_div/GV0800_Pos16_542_RFP_N_cells / /media/nathan/Transcend/Nathan/data/analysis_results/radial_analysis_output/follow/feb_2022/50.50.10/scr_apop_wt_div/GV0800_Pos16_542_RFP_N_events saved out successfully',\n",
       "  '/media/nathan/Transcend/Nathan/data/analysis_results/radial_analysis_output/follow/feb_2022/50.50.10/scr_apop_wt_div/GV0800_Pos16_583_RFP_N_cells / /media/nathan/Transcend/Nathan/data/analysis_results/radial_analysis_output/follow/feb_2022/50.50.10/scr_apop_wt_div/GV0800_Pos16_583_RFP_N_events saved out successfully',\n",
       "  '/media/nathan/Transcend/Nathan/data/analysis_results/radial_analysis_output/follow/feb_2022/50.50.10/scr_apop_wt_div/GV0800_Pos16_580_RFP_N_cells / /media/nathan/Transcend/Nathan/data/analysis_results/radial_analysis_output/follow/feb_2022/50.50.10/scr_apop_wt_div/GV0800_Pos16_580_RFP_N_events saved out successfully',\n",
       "  '/media/nathan/Transcend/Nathan/data/analysis_results/radial_analysis_output/follow/feb_2022/50.50.10/scr_apop_wt_div/GV0800_Pos16_10_RFP_N_cells / /media/nathan/Transcend/Nathan/data/analysis_results/radial_analysis_output/follow/feb_2022/50.50.10/scr_apop_wt_div/GV0800_Pos16_10_RFP_N_events saved out successfully',\n",
       "  '/media/nathan/Transcend/Nathan/data/analysis_results/radial_analysis_output/follow/feb_2022/50.50.10/scr_apop_wt_div/GV0800_Pos16_584_RFP_N_cells / /media/nathan/Transcend/Nathan/data/analysis_results/radial_analysis_output/follow/feb_2022/50.50.10/scr_apop_wt_div/GV0800_Pos16_584_RFP_N_events saved out successfully',\n",
       "  '/media/nathan/Transcend/Nathan/data/analysis_results/radial_analysis_output/follow/feb_2022/50.50.10/scr_apop_wt_div/GV0800_Pos16_478_RFP_N_cells / /media/nathan/Transcend/Nathan/data/analysis_results/radial_analysis_output/follow/feb_2022/50.50.10/scr_apop_wt_div/GV0800_Pos16_478_RFP_N_events saved out successfully',\n",
       "  '/media/nathan/Transcend/Nathan/data/analysis_results/radial_analysis_output/follow/feb_2022/50.50.10/scr_apop_wt_div/GV0800_Pos16_849_RFP_N_cells / /media/nathan/Transcend/Nathan/data/analysis_results/radial_analysis_output/follow/feb_2022/50.50.10/scr_apop_wt_div/GV0800_Pos16_849_RFP_N_events saved out successfully',\n",
       "  '/media/nathan/Transcend/Nathan/data/analysis_results/radial_analysis_output/follow/feb_2022/50.50.10/scr_apop_wt_div/GV0800_Pos16_803_RFP_N_cells / /media/nathan/Transcend/Nathan/data/analysis_results/radial_analysis_output/follow/feb_2022/50.50.10/scr_apop_wt_div/GV0800_Pos16_803_RFP_N_events saved out successfully',\n",
       "  '/media/nathan/Transcend/Nathan/data/analysis_results/radial_analysis_output/follow/feb_2022/50.50.10/scr_apop_wt_div/GV0800_Pos16_522_RFP_N_cells / /media/nathan/Transcend/Nathan/data/analysis_results/radial_analysis_output/follow/feb_2022/50.50.10/scr_apop_wt_div/GV0800_Pos16_522_RFP_N_events saved out successfully',\n",
       "  '/media/nathan/Transcend/Nathan/data/analysis_results/radial_analysis_output/follow/feb_2022/50.50.10/scr_apop_wt_div/GV0800_Pos16_451_RFP_N_cells / /media/nathan/Transcend/Nathan/data/analysis_results/radial_analysis_output/follow/feb_2022/50.50.10/scr_apop_wt_div/GV0800_Pos16_451_RFP_N_events saved out successfully',\n",
       "  '/media/nathan/Transcend/Nathan/data/analysis_results/radial_analysis_output/follow/feb_2022/50.50.10/scr_apop_wt_div/GV0800_Pos16_489_RFP_N_cells / /media/nathan/Transcend/Nathan/data/analysis_results/radial_analysis_output/follow/feb_2022/50.50.10/scr_apop_wt_div/GV0800_Pos16_489_RFP_N_events saved out successfully',\n",
       "  '/media/nathan/Transcend/Nathan/data/analysis_results/radial_analysis_output/follow/feb_2022/50.50.10/scr_apop_wt_div/GV0800_Pos16_504_RFP_N_cells / /media/nathan/Transcend/Nathan/data/analysis_results/radial_analysis_output/follow/feb_2022/50.50.10/scr_apop_wt_div/GV0800_Pos16_504_RFP_N_events saved out successfully',\n",
       "  '/media/nathan/Transcend/Nathan/data/analysis_results/radial_analysis_output/follow/feb_2022/50.50.10/scr_apop_wt_div/GV0800_Pos16_13_RFP_N_cells / /media/nathan/Transcend/Nathan/data/analysis_results/radial_analysis_output/follow/feb_2022/50.50.10/scr_apop_wt_div/GV0800_Pos16_13_RFP_N_events saved out successfully',\n",
       "  '/media/nathan/Transcend/Nathan/data/analysis_results/radial_analysis_output/follow/feb_2022/50.50.10/scr_apop_wt_div/GV0800_Pos16_528_RFP_N_cells / /media/nathan/Transcend/Nathan/data/analysis_results/radial_analysis_output/follow/feb_2022/50.50.10/scr_apop_wt_div/GV0800_Pos16_528_RFP_N_events saved out successfully',\n",
       "  '/media/nathan/Transcend/Nathan/data/analysis_results/radial_analysis_output/follow/feb_2022/50.50.10/scr_apop_wt_div/GV0800_Pos16_1155_RFP_N_cells / /media/nathan/Transcend/Nathan/data/analysis_results/radial_analysis_output/follow/feb_2022/50.50.10/scr_apop_wt_div/GV0800_Pos16_1155_RFP_N_events saved out successfully',\n",
       "  '/media/nathan/Transcend/Nathan/data/analysis_results/radial_analysis_output/follow/feb_2022/50.50.10/scr_apop_wt_div/GV0800_Pos16_632_RFP_N_cells / /media/nathan/Transcend/Nathan/data/analysis_results/radial_analysis_output/follow/feb_2022/50.50.10/scr_apop_wt_div/GV0800_Pos16_632_RFP_N_events saved out successfully',\n",
       "  '/media/nathan/Transcend/Nathan/data/analysis_results/radial_analysis_output/follow/feb_2022/50.50.10/scr_apop_wt_div/GV0800_Pos16_1044_RFP_N_cells / /media/nathan/Transcend/Nathan/data/analysis_results/radial_analysis_output/follow/feb_2022/50.50.10/scr_apop_wt_div/GV0800_Pos16_1044_RFP_N_events saved out successfully',\n",
       "  '/media/nathan/Transcend/Nathan/data/analysis_results/radial_analysis_output/follow/feb_2022/50.50.10/scr_apop_wt_div/GV0795_Pos18_379_RFP_N_cells / /media/nathan/Transcend/Nathan/data/analysis_results/radial_analysis_output/follow/feb_2022/50.50.10/scr_apop_wt_div/GV0795_Pos18_379_RFP_N_events saved out successfully',\n",
       "  '/media/nathan/Transcend/Nathan/data/analysis_results/radial_analysis_output/follow/feb_2022/50.50.10/scr_apop_wt_div/GV0795_Pos18_413_RFP_N_cells / /media/nathan/Transcend/Nathan/data/analysis_results/radial_analysis_output/follow/feb_2022/50.50.10/scr_apop_wt_div/GV0795_Pos18_413_RFP_N_events saved out successfully',\n",
       "  '/media/nathan/Transcend/Nathan/data/analysis_results/radial_analysis_output/follow/feb_2022/50.50.10/scr_apop_wt_div/GV0795_Pos18_854_RFP_N_cells / /media/nathan/Transcend/Nathan/data/analysis_results/radial_analysis_output/follow/feb_2022/50.50.10/scr_apop_wt_div/GV0795_Pos18_854_RFP_N_events saved out successfully',\n",
       "  '/media/nathan/Transcend/Nathan/data/analysis_results/radial_analysis_output/follow/feb_2022/50.50.10/scr_apop_wt_div/GV0795_Pos18_855_RFP_N_cells / /media/nathan/Transcend/Nathan/data/analysis_results/radial_analysis_output/follow/feb_2022/50.50.10/scr_apop_wt_div/GV0795_Pos18_855_RFP_N_events saved out successfully',\n",
       "  '/media/nathan/Transcend/Nathan/data/analysis_results/radial_analysis_output/follow/feb_2022/50.50.10/scr_apop_wt_div/GV0795_Pos18_1179_RFP_N_cells / /media/nathan/Transcend/Nathan/data/analysis_results/radial_analysis_output/follow/feb_2022/50.50.10/scr_apop_wt_div/GV0795_Pos18_1179_RFP_N_events saved out successfully',\n",
       "  '/media/nathan/Transcend/Nathan/data/analysis_results/radial_analysis_output/follow/feb_2022/50.50.10/scr_apop_wt_div/GV0795_Pos18_409_RFP_N_cells / /media/nathan/Transcend/Nathan/data/analysis_results/radial_analysis_output/follow/feb_2022/50.50.10/scr_apop_wt_div/GV0795_Pos18_409_RFP_N_events saved out successfully',\n",
       "  '/media/nathan/Transcend/Nathan/data/analysis_results/radial_analysis_output/follow/feb_2022/50.50.10/scr_apop_wt_div/GV0795_Pos18_684_RFP_N_cells / /media/nathan/Transcend/Nathan/data/analysis_results/radial_analysis_output/follow/feb_2022/50.50.10/scr_apop_wt_div/GV0795_Pos18_684_RFP_N_events saved out successfully',\n",
       "  '/media/nathan/Transcend/Nathan/data/analysis_results/radial_analysis_output/follow/feb_2022/50.50.10/scr_apop_wt_div/GV0795_Pos18_802_RFP_N_cells / /media/nathan/Transcend/Nathan/data/analysis_results/radial_analysis_output/follow/feb_2022/50.50.10/scr_apop_wt_div/GV0795_Pos18_802_RFP_N_events saved out successfully',\n",
       "  '/media/nathan/Transcend/Nathan/data/analysis_results/radial_analysis_output/follow/feb_2022/50.50.10/scr_apop_wt_div/GV0795_Pos18_46_RFP_N_cells / /media/nathan/Transcend/Nathan/data/analysis_results/radial_analysis_output/follow/feb_2022/50.50.10/scr_apop_wt_div/GV0795_Pos18_46_RFP_N_events saved out successfully',\n",
       "  '/media/nathan/Transcend/Nathan/data/analysis_results/radial_analysis_output/follow/feb_2022/50.50.10/scr_apop_wt_div/GV0795_Pos18_521_RFP_N_cells / /media/nathan/Transcend/Nathan/data/analysis_results/radial_analysis_output/follow/feb_2022/50.50.10/scr_apop_wt_div/GV0795_Pos18_521_RFP_N_events saved out successfully',\n",
       "  '/media/nathan/Transcend/Nathan/data/analysis_results/radial_analysis_output/follow/feb_2022/50.50.10/scr_apop_wt_div/GV0795_Pos18_3_RFP_N_cells / /media/nathan/Transcend/Nathan/data/analysis_results/radial_analysis_output/follow/feb_2022/50.50.10/scr_apop_wt_div/GV0795_Pos18_3_RFP_N_events saved out successfully',\n",
       "  '/media/nathan/Transcend/Nathan/data/analysis_results/radial_analysis_output/follow/feb_2022/50.50.10/scr_apop_wt_div/GV0795_Pos18_715_RFP_N_cells / /media/nathan/Transcend/Nathan/data/analysis_results/radial_analysis_output/follow/feb_2022/50.50.10/scr_apop_wt_div/GV0795_Pos18_715_RFP_N_events saved out successfully',\n",
       "  '/media/nathan/Transcend/Nathan/data/analysis_results/radial_analysis_output/follow/feb_2022/50.50.10/scr_apop_wt_div/GV0795_Pos18_28_RFP_N_cells / /media/nathan/Transcend/Nathan/data/analysis_results/radial_analysis_output/follow/feb_2022/50.50.10/scr_apop_wt_div/GV0795_Pos18_28_RFP_N_events saved out successfully',\n",
       "  '/media/nathan/Transcend/Nathan/data/analysis_results/radial_analysis_output/follow/feb_2022/50.50.10/scr_apop_wt_div/GV0795_Pos18_12_RFP_N_cells / /media/nathan/Transcend/Nathan/data/analysis_results/radial_analysis_output/follow/feb_2022/50.50.10/scr_apop_wt_div/GV0795_Pos18_12_RFP_N_events saved out successfully',\n",
       "  '/media/nathan/Transcend/Nathan/data/analysis_results/radial_analysis_output/follow/feb_2022/50.50.10/scr_apop_wt_div/GV0795_Pos18_19_RFP_N_cells / /media/nathan/Transcend/Nathan/data/analysis_results/radial_analysis_output/follow/feb_2022/50.50.10/scr_apop_wt_div/GV0795_Pos18_19_RFP_N_events saved out successfully',\n",
       "  '/media/nathan/Transcend/Nathan/data/analysis_results/radial_analysis_output/follow/feb_2022/50.50.10/scr_apop_wt_div/GV0795_Pos18_728_RFP_N_cells / /media/nathan/Transcend/Nathan/data/analysis_results/radial_analysis_output/follow/feb_2022/50.50.10/scr_apop_wt_div/GV0795_Pos18_728_RFP_N_events saved out successfully',\n",
       "  '/media/nathan/Transcend/Nathan/data/analysis_results/radial_analysis_output/follow/feb_2022/50.50.10/scr_apop_wt_div/GV0796_Pos23_66_RFP_N_cells / /media/nathan/Transcend/Nathan/data/analysis_results/radial_analysis_output/follow/feb_2022/50.50.10/scr_apop_wt_div/GV0796_Pos23_66_RFP_N_events saved out successfully',\n",
       "  '/media/nathan/Transcend/Nathan/data/analysis_results/radial_analysis_output/follow/feb_2022/50.50.10/scr_apop_wt_div/GV0796_Pos23_87_RFP_N_cells / /media/nathan/Transcend/Nathan/data/analysis_results/radial_analysis_output/follow/feb_2022/50.50.10/scr_apop_wt_div/GV0796_Pos23_87_RFP_N_events saved out successfully',\n",
       "  '/media/nathan/Transcend/Nathan/data/analysis_results/radial_analysis_output/follow/feb_2022/50.50.10/scr_apop_wt_div/GV0796_Pos23_62_RFP_N_cells / /media/nathan/Transcend/Nathan/data/analysis_results/radial_analysis_output/follow/feb_2022/50.50.10/scr_apop_wt_div/GV0796_Pos23_62_RFP_N_events saved out successfully',\n",
       "  '/media/nathan/Transcend/Nathan/data/analysis_results/radial_analysis_output/follow/feb_2022/50.50.10/scr_apop_wt_div/GV0796_Pos23_74_RFP_N_cells / /media/nathan/Transcend/Nathan/data/analysis_results/radial_analysis_output/follow/feb_2022/50.50.10/scr_apop_wt_div/GV0796_Pos23_74_RFP_N_events saved out successfully',\n",
       "  '/media/nathan/Transcend/Nathan/data/analysis_results/radial_analysis_output/follow/feb_2022/50.50.10/scr_apop_wt_div/GV0796_Pos23_18_RFP_N_cells / /media/nathan/Transcend/Nathan/data/analysis_results/radial_analysis_output/follow/feb_2022/50.50.10/scr_apop_wt_div/GV0796_Pos23_18_RFP_N_events saved out successfully',\n",
       "  '/media/nathan/Transcend/Nathan/data/analysis_results/radial_analysis_output/follow/feb_2022/50.50.10/scr_apop_wt_div/GV0796_Pos23_202_RFP_N_cells / /media/nathan/Transcend/Nathan/data/analysis_results/radial_analysis_output/follow/feb_2022/50.50.10/scr_apop_wt_div/GV0796_Pos23_202_RFP_N_events saved out successfully',\n",
       "  '/media/nathan/Transcend/Nathan/data/analysis_results/radial_analysis_output/follow/feb_2022/50.50.10/scr_apop_wt_div/GV0796_Pos23_786_RFP_N_cells / /media/nathan/Transcend/Nathan/data/analysis_results/radial_analysis_output/follow/feb_2022/50.50.10/scr_apop_wt_div/GV0796_Pos23_786_RFP_N_events saved out successfully',\n",
       "  '/media/nathan/Transcend/Nathan/data/analysis_results/radial_analysis_output/follow/feb_2022/50.50.10/scr_apop_wt_div/GV0796_Pos23_15_RFP_N_cells / /media/nathan/Transcend/Nathan/data/analysis_results/radial_analysis_output/follow/feb_2022/50.50.10/scr_apop_wt_div/GV0796_Pos23_15_RFP_N_events saved out successfully',\n",
       "  '/media/nathan/Transcend/Nathan/data/analysis_results/radial_analysis_output/follow/feb_2022/50.50.10/scr_apop_wt_div/GV0796_Pos23_1896_RFP_N_cells / /media/nathan/Transcend/Nathan/data/analysis_results/radial_analysis_output/follow/feb_2022/50.50.10/scr_apop_wt_div/GV0796_Pos23_1896_RFP_N_events saved out successfully',\n",
       "  '/media/nathan/Transcend/Nathan/data/analysis_results/radial_analysis_output/follow/feb_2022/50.50.10/scr_apop_wt_div/GV0796_Pos23_2215_RFP_N_cells / /media/nathan/Transcend/Nathan/data/analysis_results/radial_analysis_output/follow/feb_2022/50.50.10/scr_apop_wt_div/GV0796_Pos23_2215_RFP_N_events saved out successfully',\n",
       "  '/media/nathan/Transcend/Nathan/data/analysis_results/radial_analysis_output/follow/feb_2022/50.50.10/scr_apop_wt_div/GV0796_Pos23_890_RFP_N_cells / /media/nathan/Transcend/Nathan/data/analysis_results/radial_analysis_output/follow/feb_2022/50.50.10/scr_apop_wt_div/GV0796_Pos23_890_RFP_N_events saved out successfully',\n",
       "  '/media/nathan/Transcend/Nathan/data/analysis_results/radial_analysis_output/follow/feb_2022/50.50.10/scr_apop_wt_div/GV0796_Pos23_771_RFP_N_cells / /media/nathan/Transcend/Nathan/data/analysis_results/radial_analysis_output/follow/feb_2022/50.50.10/scr_apop_wt_div/GV0796_Pos23_771_RFP_N_events saved out successfully',\n",
       "  '/media/nathan/Transcend/Nathan/data/analysis_results/radial_analysis_output/follow/feb_2022/50.50.10/scr_apop_wt_div/GV0796_Pos23_968_RFP_N_cells / /media/nathan/Transcend/Nathan/data/analysis_results/radial_analysis_output/follow/feb_2022/50.50.10/scr_apop_wt_div/GV0796_Pos23_968_RFP_N_events saved out successfully',\n",
       "  '/media/nathan/Transcend/Nathan/data/analysis_results/radial_analysis_output/follow/feb_2022/50.50.10/scr_apop_wt_div/GV0796_Pos23_969_RFP_N_cells / /media/nathan/Transcend/Nathan/data/analysis_results/radial_analysis_output/follow/feb_2022/50.50.10/scr_apop_wt_div/GV0796_Pos23_969_RFP_N_events saved out successfully',\n",
       "  '/media/nathan/Transcend/Nathan/data/analysis_results/radial_analysis_output/follow/feb_2022/50.50.10/scr_apop_wt_div/GV0796_Pos23_1773_RFP_N_cells / /media/nathan/Transcend/Nathan/data/analysis_results/radial_analysis_output/follow/feb_2022/50.50.10/scr_apop_wt_div/GV0796_Pos23_1773_RFP_N_events saved out successfully',\n",
       "  '/media/nathan/Transcend/Nathan/data/analysis_results/radial_analysis_output/follow/feb_2022/50.50.10/scr_apop_wt_div/GV0796_Pos23_1253_RFP_N_cells / /media/nathan/Transcend/Nathan/data/analysis_results/radial_analysis_output/follow/feb_2022/50.50.10/scr_apop_wt_div/GV0796_Pos23_1253_RFP_N_events saved out successfully',\n",
       "  '/media/nathan/Transcend/Nathan/data/analysis_results/radial_analysis_output/follow/feb_2022/50.50.10/scr_apop_wt_div/GV0796_Pos23_16_RFP_N_cells / /media/nathan/Transcend/Nathan/data/analysis_results/radial_analysis_output/follow/feb_2022/50.50.10/scr_apop_wt_div/GV0796_Pos23_16_RFP_N_events saved out successfully',\n",
       "  '/media/nathan/Transcend/Nathan/data/analysis_results/radial_analysis_output/follow/feb_2022/50.50.10/scr_apop_wt_div/GV0796_Pos23_80_RFP_N_cells / /media/nathan/Transcend/Nathan/data/analysis_results/radial_analysis_output/follow/feb_2022/50.50.10/scr_apop_wt_div/GV0796_Pos23_80_RFP_N_events saved out successfully',\n",
       "  '/media/nathan/Transcend/Nathan/data/analysis_results/radial_analysis_output/follow/feb_2022/50.50.10/scr_apop_wt_div/GV0796_Pos23_525_RFP_N_cells / /media/nathan/Transcend/Nathan/data/analysis_results/radial_analysis_output/follow/feb_2022/50.50.10/scr_apop_wt_div/GV0796_Pos23_525_RFP_N_events saved out successfully',\n",
       "  '/media/nathan/Transcend/Nathan/data/analysis_results/radial_analysis_output/follow/feb_2022/50.50.10/scr_apop_wt_div/GV0796_Pos23_1767_RFP_N_cells / /media/nathan/Transcend/Nathan/data/analysis_results/radial_analysis_output/follow/feb_2022/50.50.10/scr_apop_wt_div/GV0796_Pos23_1767_RFP_N_events saved out successfully',\n",
       "  '/media/nathan/Transcend/Nathan/data/analysis_results/radial_analysis_output/follow/feb_2022/50.50.10/scr_apop_wt_div/GV0796_Pos23_203_RFP_N_cells / /media/nathan/Transcend/Nathan/data/analysis_results/radial_analysis_output/follow/feb_2022/50.50.10/scr_apop_wt_div/GV0796_Pos23_203_RFP_N_events saved out successfully',\n",
       "  '/media/nathan/Transcend/Nathan/data/analysis_results/radial_analysis_output/follow/feb_2022/50.50.10/scr_apop_wt_div/GV0796_Pos23_36_RFP_N_cells / /media/nathan/Transcend/Nathan/data/analysis_results/radial_analysis_output/follow/feb_2022/50.50.10/scr_apop_wt_div/GV0796_Pos23_36_RFP_N_events saved out successfully',\n",
       "  '/media/nathan/Transcend/Nathan/data/analysis_results/radial_analysis_output/follow/feb_2022/50.50.10/scr_apop_wt_div/GV0796_Pos23_174_RFP_N_cells / /media/nathan/Transcend/Nathan/data/analysis_results/radial_analysis_output/follow/feb_2022/50.50.10/scr_apop_wt_div/GV0796_Pos23_174_RFP_N_events saved out successfully',\n",
       "  '/media/nathan/Transcend/Nathan/data/analysis_results/radial_analysis_output/follow/feb_2022/50.50.10/scr_apop_wt_div/GV0796_Pos23_655_RFP_N_cells / /media/nathan/Transcend/Nathan/data/analysis_results/radial_analysis_output/follow/feb_2022/50.50.10/scr_apop_wt_div/GV0796_Pos23_655_RFP_N_events saved out successfully',\n",
       "  '/media/nathan/Transcend/Nathan/data/analysis_results/radial_analysis_output/follow/feb_2022/50.50.10/scr_apop_wt_div/GV0796_Pos23_717_RFP_N_cells / /media/nathan/Transcend/Nathan/data/analysis_results/radial_analysis_output/follow/feb_2022/50.50.10/scr_apop_wt_div/GV0796_Pos23_717_RFP_N_events saved out successfully',\n",
       "  ...])"
      ]
     },
     "execution_count": 10,
     "metadata": {},
     "output_type": "execute_result"
    }
   ],
   "source": [
    "error_log, success_log"
   ]
  },
  {
   "cell_type": "markdown",
   "metadata": {},
   "source": [
    "## 4) Compile individual heatmaps into cumulative plots "
   ]
  },
  {
   "cell_type": "markdown",
   "metadata": {},
   "source": [
    "Compile cumulative heatmap by iteratively adding single-apoptosis heatmaps from previous output or different pre-established output "
   ]
  },
  {
   "cell_type": "code",
   "execution_count": 5,
   "metadata": {},
   "outputs": [],
   "source": [
    "single_cell_heatmap_location = output_path\n",
    "#single_cell_heatmap_location = '/home/nathan/data/kraken/h2b/giulia/radial_analysis_output/follow/individual_spatiotemporal_heatmaps/400.400.10/scr_apop_wt_div'\n",
    "save_path = '/home/nathan/'#data/kraken/h2b/giulia/radial_analysis_output/follow/cumulative_plots/400.400.10/wt_apop_wt_div'\n",
    "Path(save_path).mkdir(parents=True, exist_ok=True)\n",
    "radius, t_range, num_bins = 50, 50, 10"
   ]
  },
  {
   "cell_type": "code",
   "execution_count": 6,
   "metadata": {},
   "outputs": [
    {
     "data": {
      "text/plain": [
       "1839"
      ]
     },
     "execution_count": 6,
     "metadata": {},
     "output_type": "execute_result"
    }
   ],
   "source": [
    "N_cells, N_events = np.zeros((num_bins, num_bins)), np.zeros((num_bins, num_bins))\n",
    "N = 0\n",
    "for heatmap_ID in natsorted(os.listdir(single_cell_heatmap_location)):\n",
    "    if 'N_cells' in heatmap_ID:\n",
    "        N_cells += np.load(os.path.join(single_cell_heatmap_location,heatmap_ID))\n",
    "    if 'N_events' in heatmap_ID:\n",
    "        N_events += np.load(os.path.join(single_cell_heatmap_location,heatmap_ID))\n",
    "        N+=1\n",
    "N"
   ]
  },
  {
   "cell_type": "code",
   "execution_count": 7,
   "metadata": {},
   "outputs": [
    {
     "name": "stdout",
     "output_type": "stream",
     "text": [
      "The number of WT. cells counted is equal to =  56037.0\n"
     ]
    }
   ],
   "source": [
    "print(\"The number of WT. cells counted is equal to = \", N_cells.sum())"
   ]
  },
  {
   "cell_type": "markdown",
   "metadata": {},
   "source": [
    "Function to plot heatmaps: \n",
    "\n",
    "`plot_cumulative(input_2d_hist, num_bins, radius, t_range, title, expt_label, cb_label, save_path, SI = True)`\n",
    "\n",
    "Where the variables needed are as follows:\n",
    "\n",
    "- `input_2d_hist` = Input 2D histogram\n",
    "- `num_bins` = Number of bins the histogram is sorted into\n",
    "- `radius` = Spatial extent of scan\n",
    "- `t_range` = Temporal range of scan\n",
    "- `title` = Title/save out filename of heatmap\n",
    "- `label` = Optional label for heatmap\n",
    "- `cb_label` = Label for colourbar\n",
    "- `save_path` = Ouput save path, if empty string then plot will not be saved out\n",
    "- `SI` = If True then plots the xy in SI base unit instead of pixel/frames"
   ]
  },
  {
   "cell_type": "code",
   "execution_count": null,
   "metadata": {},
   "outputs": [],
   "source": [
    "save_path"
   ]
  },
  {
   "cell_type": "code",
   "execution_count": 12,
   "metadata": {},
   "outputs": [
    {
     "name": "stdout",
     "output_type": "stream",
     "text": [
      "Plot saved at  /home/nathan/Spatiotemporal dist. of wild-type cells \n",
      " around Scr. apoptoses (N=1839).pdf\n"
     ]
    },
    {
     "data": {
      "text/plain": [
       "<matplotlib.image.AxesImage at 0x7f29150992e0>"
      ]
     },
     "execution_count": 12,
     "metadata": {},
     "output_type": "execute_result"
    },
    {
     "data": {
      "image/png": "[encoded data removed]",
      "text/plain": [
       "<Figure size 432x288 with 2 Axes>"
      ]
     },
     "metadata": {
      "needs_background": "light"
     },
     "output_type": "display_data"
    }
   ],
   "source": [
    "render.plot_cumulative(input_2d_hist = N_cells,\n",
    "                num_bins  = 10,\n",
    "                radius  = 50,\n",
    "                t_range = 50, \n",
    "                title = 'Spatiotemporal dist. of wild-type cells \\n around Scr. apoptoses (N={})'.format(N), \n",
    "                label = '', \n",
    "                cb_label = 'Number of wild-type cell apperances', \n",
    "                save_path = save_path,#'/home/nathan/data/kraken/h2b/giulia/radial_analysis_output/follow/cumulative_plots/400.400.10/scr_apop_wt_div',\n",
    "                SI = True) ## SI is standard "
   ]
  },
  {
   "cell_type": "code",
   "execution_count": 13,
   "metadata": {},
   "outputs": [
    {
     "name": "stdout",
     "output_type": "stream",
     "text": [
      "Plot saved at  /home/nathan/Spatiotemporal dist. of wild-type mitoses \n",
      " around Scr. apoptoses (N=1839).pdf\n"
     ]
    },
    {
     "data": {
      "text/plain": [
       "<matplotlib.image.AxesImage at 0x7f291d12aaf0>"
      ]
     },
     "execution_count": 13,
     "metadata": {},
     "output_type": "execute_result"
    },
    {
     "data": {
      "image/png": "[encoded data removed]",
      "text/plain": [
       "<Figure size 432x288 with 2 Axes>"
      ]
     },
     "metadata": {
      "needs_background": "light"
     },
     "output_type": "display_data"
    }
   ],
   "source": [
    "render.plot_cumulative(input_2d_hist = N_events,\n",
    "                num_bins  = 10,\n",
    "                radius  = 50,\n",
    "                t_range = 50, \n",
    "                title = 'Spatiotemporal dist. of wild-type mitoses \\n around Scr. apoptoses (N={})'.format(N), \n",
    "                label = '', \n",
    "                cb_label = 'Number of wild-type divisions', \n",
    "                save_path = save_path,#'/home/nathan/data/kraken/h2b/giulia/radial_analysis_output/cumulative_plots/400.400.10/scr_apop_wt_div',\n",
    "                SI = True)"
   ]
  },
  {
   "cell_type": "code",
   "execution_count": 14,
   "metadata": {},
   "outputs": [
    {
     "name": "stderr",
     "output_type": "stream",
     "text": [
      "/tmp/ipykernel_293801/4238316682.py:1: RuntimeWarning: invalid value encountered in true_divide\n",
      "  render.plot_cumulative(input_2d_hist = N_events/N_cells,\n"
     ]
    },
    {
     "name": "stdout",
     "output_type": "stream",
     "text": [
      "Plot saved at  /home/nathan/Spatiotemporal dist. of probability of wild-type division \n",
      " around Scr. apoptoses (N=1839).pdf\n"
     ]
    },
    {
     "data": {
      "text/plain": [
       "<matplotlib.image.AxesImage at 0x7f2920fe4c70>"
      ]
     },
     "execution_count": 14,
     "metadata": {},
     "output_type": "execute_result"
    },
    {
     "data": {
      "image/png": "[encoded data removed]",
      "text/plain": [
       "<Figure size 432x288 with 2 Axes>"
      ]
     },
     "metadata": {
      "needs_background": "light"
     },
     "output_type": "display_data"
    }
   ],
   "source": [
    "render.plot_cumulative(input_2d_hist = N_events/N_cells,\n",
    "                num_bins  = 10,\n",
    "                radius  = 50,\n",
    "                t_range = 50, \n",
    "                title = 'Spatiotemporal dist. of probability of wild-type division \\n around Scr. apoptoses (N={})'.format(N), \n",
    "                label = '', \n",
    "                cb_label = 'Probability of wild-type division', \n",
    "                save_path = save_path,#'/home/nathan/data/kraken/h2b/giulia/radial_analysis_output/cumulative_plots/400.400.10/scr_apop_wt_div',\n",
    "                SI = True)"
   ]
  },
  {
   "cell_type": "markdown",
   "metadata": {},
   "source": [
    "# 5) Miscellaneous section: segregating cumulative plots based on experiment type"
   ]
  },
  {
   "cell_type": "markdown",
   "metadata": {},
   "source": [
    "50:50 expt"
   ]
  },
  {
   "cell_type": "code",
   "execution_count": null,
   "metadata": {},
   "outputs": [],
   "source": [
    "single_cell_heatmap_location = '/home/nathan/data/kraken/h2b/giulia/radial_analysis_output/follow/individual_spatiotemporal_heatmaps/400.400.10/scr_apop_wt_div'\n",
    "save_path = '/home/nathan/data/kraken/h2b/giulia/radial_analysis_output/follow/cumulative_plots/400.400.10/scr_apop_wt_div/expt_types'\n",
    "Path(save_path).mkdir(parents=True, exist_ok=True)"
   ]
  },
  {
   "cell_type": "code",
   "execution_count": null,
   "metadata": {},
   "outputs": [],
   "source": [
    "expt_list_5050 = ['GV0794/Pos4',\n",
    "                 'GV0794/Pos7',\n",
    "                 'GV0794/Pos16',\n",
    "                 'GV0795/Pos4',\n",
    "                 'GV0795/Pos7',\n",
    "                 'GV0795/Pos17',\n",
    "                 'GV0796/Pos4',\n",
    "                 'GV0796/Pos7',\n",
    "                 'GV0796/Pos21',\n",
    "                 'GV0796/Pos22',\n",
    "                 'GV0797/Pos4',\n",
    "                 'GV0797/Pos7',\n",
    "                 'GV0797/Pos20',\n",
    "                 'GV0797/Pos21',\n",
    "                 'GV0798/Pos4',\n",
    "                 'GV0798/Pos7',\n",
    "                 'GV0798/Pos20',\n",
    "                 'GV0798/Pos21',\n",
    "                 'GV0800/Pos4', \n",
    "                 'GV0800/Pos7',\n",
    "                 'GV0800/Pos16',\n",
    "                 'GV0801/Pos4',\n",
    "                 'GV0802/Pos4',\n",
    "                 'GV0804/Pos4',\n",
    "                 'GV0805/Pos4',\n",
    "                 'GV0806/Pos4',\n",
    "                 'GV0807/Pos4',\n",
    "                 'GV0812/Pos0',\n",
    "                 'GV0812/Pos1',\n",
    "                 'GV0812/Pos2',\n",
    "                 'GV0812/Pos3',\n",
    "                 'GV0812/Pos4',\n",
    "                 'GV0812/Pos5',\n",
    "                 'GV0813/Pos0',\n",
    "                 'GV0813/Pos1',\n",
    "                 'GV0813/Pos2',\n",
    "                 'GV0813/Pos3',\n",
    "                 'GV0813/Pos4',\n",
    "                 'GV0813/Pos5',\n",
    "                 'GV0814/Pos0',\n",
    "                 'GV0814/Pos11',\n",
    "                 'GV0814/Pos12',\n",
    "                 'GV0814/Pos23',\n",
    "                 'GV0815/Pos0',\n",
    "                 'GV0815/Pos11',\n",
    "                 'GV0815/Pos12',\n",
    "                 'GV0815/Pos23',\n",
    "                 'GV0816/Pos0',\n",
    "                 'GV0816/Pos13',\n",
    "                 'GV0816/Pos14',\n",
    "                 'GV0816/Pos23',\n",
    "                 'GV0817/Pos0',\n",
    "                 'GV0817/Pos11',\n",
    "                 'GV0817/Pos12',\n",
    "                 'GV0817/Pos23',\n",
    "                 'GV0818/Pos12',\n",
    "                 'GV0818/Pos13',\n",
    "                 'GV0819/Pos0',\n",
    "                 'GV0819/Pos1',\n",
    "                 'GV0819/Pos2',\n",
    "                 'GV0819/Pos3',\n",
    "                 'GV0819/Pos4',\n",
    "                 'GV0819/Pos5',\n",
    "                 'GV0820/Pos0',\n",
    "                 'GV0820/Pos1',\n",
    "                 'GV0820/Pos2',\n",
    "                 'GV0820/Pos3',\n",
    "                 'GV0820/Pos4',\n",
    "                 'GV0820/Pos5']"
   ]
  },
  {
   "cell_type": "code",
   "execution_count": null,
   "metadata": {},
   "outputs": [],
   "source": [
    "N_cells, N_events = np.zeros((num_bins, num_bins)), np.zeros((num_bins, num_bins))\n",
    "N = 0\n",
    "for heatmap_ID in natsorted(os.listdir(single_cell_heatmap_location)):\n",
    "    #print(heatmap_ID.split('_P'))\n",
    "    expt = 'GV' +str(re.findall(r\"GV(\\d+)\", heatmap_ID)[0])\n",
    "    position = re.findall(r\"Pos(\\d+)\", heatmap_ID)[0]\n",
    "    if os.path.join(expt,'Pos'+position) in expt_list_5050:\n",
    "        if 'N_cells' in heatmap_ID:\n",
    "            N_cells += np.load(os.path.join(single_cell_heatmap_location,heatmap_ID))\n",
    "        if 'N_events' in heatmap_ID:\n",
    "            N_events += np.load(os.path.join(single_cell_heatmap_location,heatmap_ID))\n",
    "            N+=1\n",
    "N"
   ]
  },
  {
   "cell_type": "code",
   "execution_count": null,
   "metadata": {},
   "outputs": [],
   "source": [
    "render.plot_cumulative(input_2d_hist = N_cells,\n",
    "                num_bins  = 10,\n",
    "                radius  = 400,\n",
    "                t_range = 400, \n",
    "                title = 'Spatiotemporal dist. of wild-type cells \\n around Scribble apoptoses (N={}, 50:50 wt:scr expts only)'.format(N), \n",
    "                label = '', \n",
    "                cb_label = 'Number of cell apperances', \n",
    "                save_path = '/home/nathan/data/kraken/h2b/giulia/radial_analysis_output/follow/cumulative_plots/400.400.10/scr_apop_wt_div/expt_types',\n",
    "                SI = True) ## SI is standard "
   ]
  },
  {
   "cell_type": "code",
   "execution_count": null,
   "metadata": {},
   "outputs": [],
   "source": [
    "render.plot_cumulative(input_2d_hist = N_events,\n",
    "                num_bins  = 10,\n",
    "                radius  = 400,\n",
    "                t_range = 400, \n",
    "                title = 'Spatiotemporal dist. of wild-type division \\n around Scribble apoptoses (N={}, 50:50 wt:scr expts only)'.format(N), \n",
    "                label = '', \n",
    "                cb_label = 'Number of wild-type divisions', \n",
    "                save_path = '/home/nathan/data/kraken/h2b/giulia/radial_analysis_output/follow/cumulative_plots/400.400.10/scr_apop_wt_div/expt_types',\n",
    "                SI = True)"
   ]
  },
  {
   "cell_type": "code",
   "execution_count": null,
   "metadata": {},
   "outputs": [],
   "source": [
    "render.plot_cumulative(input_2d_hist = N_events/N_cells,\n",
    "                num_bins  = 10,\n",
    "                radius  = 400,\n",
    "                t_range = 400,  \n",
    "                title = 'Spatiotemporal dist. of probability of Scribble division \\n around wild-type apoptoses (N={}, 50:50 wt:scr expts only)'.format(N), \n",
    "                label = '', \n",
    "                cb_label = 'Probability of division', \n",
    "                save_path = '/home/nathan/data/kraken/h2b/giulia/radial_analysis_output/follow/cumulative_plots/400.400.10/scr_apop_wt_div/expt_types',\n",
    "                SI = True)"
   ]
  },
  {
   "cell_type": "markdown",
   "metadata": {},
   "source": [
    "90:10 wt:scr"
   ]
  },
  {
   "cell_type": "code",
   "execution_count": null,
   "metadata": {},
   "outputs": [],
   "source": [
    "expt_list_9010 = ['GV0794/Pos3',\n",
    " 'GV0794/Pos8',\n",
    " 'GV0794/Pos15',\n",
    " 'GV0795/Pos3',\n",
    " 'GV0795/Pos8',\n",
    " 'GV0795/Pos16',\n",
    " 'GV0796/Pos3',\n",
    " 'GV0796/Pos8',\n",
    " 'GV0796/Pos19',\n",
    " 'GV0796/Pos20',\n",
    " 'GV0797/Pos3',\n",
    " 'GV0797/Pos8',\n",
    " 'GV0797/Pos18',\n",
    " 'GV0797/Pos19',\n",
    " 'GV0798/Pos3',\n",
    " 'GV0798/Pos8',\n",
    " 'GV0798/Pos18',\n",
    " 'GV0798/Pos19',\n",
    " 'GV0800/Pos3',\n",
    " 'GV0800/Pos8',\n",
    " 'GV0800/Pos15',\n",
    " 'GV0801/Pos3',\n",
    " 'GV0802/Pos3',\n",
    " 'GV0804/Pos3',\n",
    " 'GV0805/Pos3',\n",
    " 'GV0806/Pos3',\n",
    " 'GV0807/Pos3']"
   ]
  },
  {
   "cell_type": "code",
   "execution_count": null,
   "metadata": {},
   "outputs": [],
   "source": [
    "N_cells, N_events = np.zeros((num_bins, num_bins)), np.zeros((num_bins, num_bins))\n",
    "N=0\n",
    "for heatmap_ID in natsorted(os.listdir(single_cell_heatmap_location)):\n",
    "    #print(heatmap_ID.split('_P'))\n",
    "    expt = 'GV' +str(re.findall(r\"GV(\\d+)\", heatmap_ID)[0])\n",
    "    position = re.findall(r\"Pos(\\d+)\", heatmap_ID)[0]\n",
    "    if os.path.join(expt,'Pos'+position) in expt_list_9010:\n",
    "        if 'N_cells' in heatmap_ID:\n",
    "            N_cells += np.load(os.path.join(single_cell_heatmap_location,heatmap_ID))\n",
    "        if 'N_events' in heatmap_ID:\n",
    "            N_events += np.load(os.path.join(single_cell_heatmap_location,heatmap_ID))\n",
    "            N+=1\n",
    "N"
   ]
  },
  {
   "cell_type": "code",
   "execution_count": null,
   "metadata": {},
   "outputs": [],
   "source": [
    "render.plot_cumulative(input_2d_hist = N_cells,\n",
    "                num_bins  = 10,\n",
    "                radius  = 400,\n",
    "                t_range = 400, \n",
    "                title = 'Spatiotemporal dist. of wild-type cells \\n around Scribble apoptoses (N={}, 90:10 wt:scr expts only)'.format(N), \n",
    "                label = '', \n",
    "                cb_label = 'Number of cell apperances', \n",
    "                save_path = '/home/nathan/data/kraken/h2b/giulia/radial_analysis_output/follow/cumulative_plots/400.400.10/scr_apop_wt_div/expt_types',\n",
    "                SI = True) ## SI is standard "
   ]
  },
  {
   "cell_type": "code",
   "execution_count": null,
   "metadata": {},
   "outputs": [],
   "source": [
    "render.plot_cumulative(input_2d_hist = N_events,\n",
    "                num_bins  = 10,\n",
    "                radius  = 400,\n",
    "                t_range = 400, \n",
    "                title = 'Spatiotemporal dist. of wild-type division \\n around Scribble apoptoses (N={}, 90:10 wt:scr expts only)'.format(N),\n",
    "                label = '', \n",
    "                cb_label = 'Number of wild-type divisions', \n",
    "                save_path = '/home/nathan/data/kraken/h2b/giulia/radial_analysis_output/follow/cumulative_plots/400.400.10/scr_apop_wt_div/expt_types',\n",
    "                SI = True)"
   ]
  },
  {
   "cell_type": "code",
   "execution_count": null,
   "metadata": {
    "scrolled": false
   },
   "outputs": [],
   "source": [
    "render.plot_cumulative(input_2d_hist = N_events/N_cells,\n",
    "                num_bins  = 10,\n",
    "                radius  = 400,\n",
    "                t_range = 400, \n",
    "                title = 'Spatiotemporal dist. of probability of wild-type division \\n around Scribble apoptoses (N={}, 90:10 wt:scr expts only)'.format(N),\n",
    "                label = '', \n",
    "                cb_label = 'Probability of division', \n",
    "                save_path = '/home/nathan/data/kraken/h2b/giulia/radial_analysis_output/follow/cumulative_plots/400.400.10/scr_apop_wt_div/expt_types',\n",
    "                SI = True)"
   ]
  },
  {
   "cell_type": "markdown",
   "metadata": {},
   "source": [
    "10:90 wt:scr"
   ]
  },
  {
   "cell_type": "code",
   "execution_count": null,
   "metadata": {},
   "outputs": [],
   "source": [
    "expt_list_1090 = ['GV0794/Pos5',\n",
    " 'GV0794/Pos6',\n",
    " 'GV0795/Pos5',\n",
    " 'GV0795/Pos6',\n",
    " 'GV0795/Pos18',\n",
    " 'GV0796/Pos5',\n",
    " 'GV0796/Pos6',\n",
    " 'GV0796/Pos23',\n",
    " 'GV0796/Pos24',\n",
    " 'GV0797/Pos5',\n",
    " 'GV0797/Pos6',\n",
    " 'GV0797/Pos22',\n",
    " 'GV0797/Pos23',\n",
    " 'GV0798/Pos5',\n",
    " 'GV0798/Pos6',\n",
    " 'GV0798/Pos22',\n",
    " 'GV0798/Pos23',\n",
    " 'GV0800/Pos5',\n",
    " 'GV0800/Pos6',\n",
    " 'GV0800/Pos17',\n",
    " 'GV0801/Pos5',\n",
    " 'GV0802/Pos5',\n",
    " 'GV0804/Pos5',\n",
    " 'GV0805/Pos5',\n",
    " 'GV0806/Pos5',\n",
    " 'GV0807/Pos5']"
   ]
  },
  {
   "cell_type": "code",
   "execution_count": null,
   "metadata": {},
   "outputs": [],
   "source": [
    "N_cells, N_events = np.zeros((num_bins, num_bins)), np.zeros((num_bins, num_bins))\n",
    "N=0\n",
    "for heatmap_ID in natsorted(os.listdir(single_cell_heatmap_location)):\n",
    "    #print(heatmap_ID.split('_P'))\n",
    "    expt = 'GV' +str(re.findall(r\"GV(\\d+)\", heatmap_ID)[0])\n",
    "    position = re.findall(r\"Pos(\\d+)\", heatmap_ID)[0]\n",
    "    if os.path.join(expt,'Pos'+position) in expt_list_1090:\n",
    "        if 'N_cells' in heatmap_ID:\n",
    "            N_cells += np.load(os.path.join(single_cell_heatmap_location,heatmap_ID))\n",
    "        if 'N_events' in heatmap_ID:\n",
    "            N_events += np.load(os.path.join(single_cell_heatmap_location,heatmap_ID))\n",
    "            N+=1\n",
    "N"
   ]
  },
  {
   "cell_type": "code",
   "execution_count": null,
   "metadata": {},
   "outputs": [],
   "source": [
    "render.plot_cumulative(input_2d_hist = N_cells,\n",
    "                num_bins  = 10,\n",
    "                radius  = 400,\n",
    "                t_range = 400, \n",
    "                title = 'Spatiotemporal dist. of wild-type cells around \\nScribble apoptoses (N={}, 10:90 wt:scr expts only)'.format(N), \n",
    "                label = '', \n",
    "                cb_label = 'Number of cell apperances', \n",
    "                save_path = '/home/nathan/data/kraken/h2b/giulia/radial_analysis_output/follow/cumulative_plots/400.400.10/scr_apop_wt_div/expt_types',\n",
    "                SI = True) ## SI is standard "
   ]
  },
  {
   "cell_type": "code",
   "execution_count": null,
   "metadata": {},
   "outputs": [],
   "source": [
    "render.plot_cumulative(input_2d_hist = N_events,\n",
    "                num_bins  = 10,\n",
    "                radius  = 400,\n",
    "                t_range = 400,  \n",
    "                title = 'Spatiotemporal dist. of wild-type division around \\nScribble apoptoses (N={}, 10:90 wt:scr expts only)'.format(N),\n",
    "                label = '', \n",
    "                cb_label = 'Number of wild-type divisions', \n",
    "                save_path = '/home/nathan/data/kraken/h2b/giulia/radial_analysis_output/follow/cumulative_plots/400.400.10/scr_apop_wt_div/expt_types',\n",
    "                SI = True)"
   ]
  },
  {
   "cell_type": "code",
   "execution_count": null,
   "metadata": {
    "scrolled": false
   },
   "outputs": [],
   "source": [
    "render.plot_cumulative(input_2d_hist = N_events/N_cells,\n",
    "                num_bins  = 10,\n",
    "                radius  = 400,\n",
    "                t_range = 400, \n",
    "                title = 'Spatiotemporal dist. of probability of wild-type division around \\nScribble apoptoses (N={}, 10:90 wt:scr expts only)'.format(N),\n",
    "                label = '', \n",
    "                cb_label = 'Probability of division', \n",
    "                save_path = '/home/nathan/data/kraken/h2b/giulia/radial_analysis_output/follow/cumulative_plots/400.400.10/scr_apop_wt_div/expt_types',\n",
    "                SI = True)"
   ]
  },
  {
   "cell_type": "markdown",
   "metadata": {},
   "source": [
    "Write a function to do a time evolving plot that iteratively adds single cell heat maps according to the apoptosis time?"
   ]
  }
 ],
 "metadata": {
  "kernelspec": {
   "display_name": "cellx",
   "language": "python",
   "name": "cellx"
  },
  "language_info": {
   "codemirror_mode": {
    "name": "ipython",
    "version": 3
   },
   "file_extension": ".py",
   "mimetype": "text/x-python",
   "name": "python",
   "nbconvert_exporter": "python",
   "pygments_lexer": "ipython3",
   "version": "3.9.6"
  }
 },
 "nbformat": 4,
 "nbformat_minor": 4
}
