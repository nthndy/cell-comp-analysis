{
 "cells": [
  {
   "cell_type": "markdown",
   "metadata": {},
   "source": [
    "# Cumulative event counter"
   ]
  },
  {
   "cell_type": "markdown",
   "metadata": {},
   "source": [
    "### This notebook counts the cumulative spatio-temporal distribution of cellular events in the local neighbourhood of a series of apoptosis events\n",
    "\n",
    "1. Load dictionary of apoptoses and their corresponding times to base the spatiotemporal scans around \n",
    "2. Load corresponding tracking data and specify scan parameters\n",
    "3. Iteratively calculate spatiotemporal distribution of cellular events around apoptoses, saving each distribution out as a .npy distance-time heatmap\n",
    "4. Compile list of spatiotemporal heatmaps as cumulative heatmap\n",
    "5. Misc. section: comparing different experimental conditions"
   ]
  },
  {
   "cell_type": "code",
   "execution_count": 1,
   "metadata": {},
   "outputs": [
    {
     "name": "stderr",
     "output_type": "stream",
     "text": [
      "In /home/nathan/anaconda3/lib/python3.7/site-packages/matplotlib/mpl-data/stylelib/_classic_test.mplstyle: \n",
      "The text.latex.preview rcparam was deprecated in Matplotlib 3.3 and will be removed two minor releases later.\n",
      "In /home/nathan/anaconda3/lib/python3.7/site-packages/matplotlib/mpl-data/stylelib/_classic_test.mplstyle: \n",
      "The mathtext.fallback_to_cm rcparam was deprecated in Matplotlib 3.3 and will be removed two minor releases later.\n",
      "In /home/nathan/anaconda3/lib/python3.7/site-packages/matplotlib/mpl-data/stylelib/_classic_test.mplstyle: Support for setting the 'mathtext.fallback_to_cm' rcParam is deprecated since 3.3 and will be removed two minor releases later; use 'mathtext.fallback : 'cm' instead.\n",
      "In /home/nathan/anaconda3/lib/python3.7/site-packages/matplotlib/mpl-data/stylelib/_classic_test.mplstyle: \n",
      "The validate_bool_maybe_none function was deprecated in Matplotlib 3.3 and will be removed two minor releases later.\n",
      "In /home/nathan/anaconda3/lib/python3.7/site-packages/matplotlib/mpl-data/stylelib/_classic_test.mplstyle: \n",
      "The savefig.jpeg_quality rcparam was deprecated in Matplotlib 3.3 and will be removed two minor releases later.\n",
      "In /home/nathan/anaconda3/lib/python3.7/site-packages/matplotlib/mpl-data/stylelib/_classic_test.mplstyle: \n",
      "The keymap.all_axes rcparam was deprecated in Matplotlib 3.3 and will be removed two minor releases later.\n",
      "In /home/nathan/anaconda3/lib/python3.7/site-packages/matplotlib/mpl-data/stylelib/_classic_test.mplstyle: \n",
      "The animation.avconv_path rcparam was deprecated in Matplotlib 3.3 and will be removed two minor releases later.\n",
      "In /home/nathan/anaconda3/lib/python3.7/site-packages/matplotlib/mpl-data/stylelib/_classic_test.mplstyle: \n",
      "The animation.avconv_args rcparam was deprecated in Matplotlib 3.3 and will be removed two minor releases later.\n"
     ]
    }
   ],
   "source": [
    "import calculate_radial_analysis as calculate\n",
    "import tools\n",
    "import render\n",
    "import dataio\n",
    "\n",
    "import json\n",
    "import glob\n",
    "import os\n",
    "import re\n",
    "import numpy as np\n",
    "from natsort import natsorted\n",
    "from tqdm import tqdm\n",
    "import matplotlib.pyplot as plt\n",
    "from pathlib import Path"
   ]
  },
  {
   "cell_type": "markdown",
   "metadata": {},
   "source": [
    "## 1) Apoptosis dictionary loader\n",
    "Specify cell type to filter out unwanted apoptoses, want end result of apop_dict that takes the format of :`apop_dict = {apop_ID:apop_time}` \n",
    "\n",
    "where `apop_ID` takes the format of: `GV{experiment_ID}_Pos{position_ID}_{cell_ID}_{cell_type}` \n",
    "\n",
    "For example: \n",
    "\n",
    "```\n",
    "apop_dict = {'GV0794_Pos4_393_GFP': '766',\n",
    "             'GV0794_Pos7_364_GFP': '550',\n",
    "             'GV0794_Pos7_457_GFP': '805',\n",
    "             'GV0794_Pos7_369_GFP': '833',\n",
    "             'GV0794_Pos7_292_GFP': '884',\n",
    "             'GV0795_Pos4_358_GFP': '628',\n",
    "             'GV0795_Pos4_18_GFP': '855',\n",
    "             'GV0795_Pos4_1356_GFP': '992',\n",
    "             'GV0795_Pos4_359_GFP': '1133',\n",
    "             'GV0796_Pos4_542_GFP': '581',\n",
    "             'GV0796_Pos4_1334_GFP': '719',\n",
    "             'GV0796_Pos4_1586_GFP': '785'}\n",
    " ```\n",
    " \n",
    "Function to load apoptosis dictionary from preexisting data store:\n",
    "\n",
    "`dataio.apoptosis_list_loader(path_to_apop_lists, cell_type)`\n",
    "\n",
    "Where the `path_to_apop_lists` is the directory containing the apoptosis information and the `cell_type` is either `'Scr'` or `'WT'`."
   ]
  },
  {
   "cell_type": "code",
   "execution_count": 6,
   "metadata": {},
   "outputs": [
    {
     "data": {
      "text/plain": [
       "{'GV0797_Pos21_78_RFP': '186',\n",
       " 'GV0797_Pos21_54_RFP': '238',\n",
       " 'GV0797_Pos21_55_RFP': '268',\n",
       " 'GV0797_Pos21_83_RFP': '372',\n",
       " 'GV0797_Pos21_302_RFP': '380',\n",
       " 'GV0797_Pos21_22_RFP': '476',\n",
       " 'GV0797_Pos21_335_RFP': '506',\n",
       " 'GV0797_Pos21_334_RFP': '607',\n",
       " 'GV0797_Pos21_35_RFP': '634',\n",
       " 'GV0816_Pos0_406_RFP': '774',\n",
       " 'GV0816_Pos0_351_RFP': '873',\n",
       " 'GV0816_Pos0_374_RFP': '911',\n",
       " 'GV0816_Pos0_526_RFP': '904',\n",
       " 'GV0816_Pos0_343_RFP': '943',\n",
       " 'GV0800_Pos8_9_RFP': '109',\n",
       " 'GV0800_Pos8_74_RFP': '438',\n",
       " 'GV0800_Pos8_75_RFP': '546',\n",
       " 'GV0800_Pos8_118_RFP': '699',\n",
       " 'GV0800_Pos8_160_RFP': '806',\n",
       " 'GV0800_Pos8_162_RFP': '806',\n",
       " 'GV0796_Pos21_13_RFP': '71',\n",
       " 'GV0796_Pos21_16_RFP': '131',\n",
       " 'GV0796_Pos21_30_RFP': '136',\n",
       " 'GV0796_Pos21_23_RFP': '244',\n",
       " 'GV0796_Pos21_14_RFP': '272',\n",
       " 'GV0796_Pos21_230_RFP': '343',\n",
       " 'GV0796_Pos21_314_RFP': '451',\n",
       " 'GV0796_Pos21_252_RFP': '547',\n",
       " 'GV0796_Pos21_282_RFP': '642',\n",
       " 'GV0796_Pos21_18_RFP': '679',\n",
       " 'GV0796_Pos21_676_RFP': '719',\n",
       " 'GV0796_Pos21_675_RFP': '720',\n",
       " 'GV0796_Pos21_336_RFP': '763',\n",
       " 'GV0796_Pos21_339_RFP': '740',\n",
       " 'GV0796_Pos21_406_RFP': '769',\n",
       " 'GV0796_Pos21_697_RFP': '737',\n",
       " 'GV0796_Pos21_425_RFP': '798',\n",
       " 'GV0796_Pos21_702_RFP': '794',\n",
       " 'GV0796_Pos21_257_RFP': '860',\n",
       " 'GV0796_Pos21_312_RFP': '869',\n",
       " 'GV0796_Pos21_388_RFP': '863',\n",
       " 'GV0796_Pos21_646_RFP': '894',\n",
       " 'GV0796_Pos21_665_RFP': '911',\n",
       " 'GV0796_Pos21_405_RFP': '890',\n",
       " 'GV0795_Pos8_5_RFP': '25',\n",
       " 'GV0795_Pos8_3_RFP': '126',\n",
       " 'GV0795_Pos8_1_RFP': '24',\n",
       " 'GV0795_Pos8_144_RFP': '922',\n",
       " 'GV0795_Pos8_234_RFP': '988',\n",
       " 'GV0795_Pos8_233_RFP': '1153',\n",
       " 'GV0795_Pos8_7_RFP': '1146',\n",
       " 'GV0795_Pos6_41_RFP': '42',\n",
       " 'GV0795_Pos6_762_RFP': '1175',\n",
       " 'GV0795_Pos6_380_RFP': '821',\n",
       " 'GV0795_Pos6_185_RFP': '427',\n",
       " 'GV0795_Pos6_252_RFP': '418',\n",
       " 'GV0795_Pos6_184_RFP': '343',\n",
       " 'GV0795_Pos6_259_RFP': '453',\n",
       " 'GV0795_Pos6_736_RFP': '666',\n",
       " 'GV0795_Pos6_734_RFP': '666',\n",
       " 'GV0795_Pos6_417_RFP': '965',\n",
       " 'GV0795_Pos6_1093_RFP': '1038',\n",
       " 'GV0795_Pos6_372_RFP': '861',\n",
       " 'GV0795_Pos6_34_RFP': '917',\n",
       " 'GV0795_Pos6_1094_RFP': '985',\n",
       " 'GV0795_Pos6_1041_RFP': '894',\n",
       " 'GV0795_Pos6_1353_RFP': '1075',\n",
       " 'GV0795_Pos6_425_RFP': '1145',\n",
       " 'GV0795_Pos6_426_RFP': '1169',\n",
       " 'GV0795_Pos6_48_RFP': '757',\n",
       " 'GV0795_Pos6_19_RFP': '756',\n",
       " 'GV0795_Pos6_653_RFP': '745',\n",
       " 'GV0795_Pos6_413_RFP': '641',\n",
       " 'GV0795_Pos6_96_RFP': '674',\n",
       " 'GV0795_Pos6_414_RFP': '630',\n",
       " 'GV0795_Pos6_97_RFP': '805',\n",
       " 'GV0795_Pos6_654_RFP': '806',\n",
       " 'GV0795_Pos6_578_RFP': '885',\n",
       " 'GV0795_Pos6_1026_RFP': '1111',\n",
       " 'GV0795_Pos6_11_RFP': '1035',\n",
       " 'GV0795_Pos6_619_RFP': '782',\n",
       " 'GV0795_Pos6_700_RFP': '1106',\n",
       " 'GV0795_Pos6_579_RFP': '840',\n",
       " 'GV0795_Pos6_967_RFP': '941',\n",
       " 'GV0795_Pos6_160_RFP': '803',\n",
       " 'GV0796_Pos6_570_RFP': '521',\n",
       " 'GV0796_Pos6_569_RFP': '522',\n",
       " 'GV0796_Pos6_60_RFP': '573',\n",
       " 'GV0796_Pos6_57_RFP': '271',\n",
       " 'GV0796_Pos6_344_RFP': '559',\n",
       " 'GV0796_Pos6_39_RFP': '576',\n",
       " 'GV0796_Pos6_664_RFP': '913',\n",
       " 'GV0796_Pos6_565_RFP': '863',\n",
       " 'GV0796_Pos6_566_RFP': '854',\n",
       " 'GV0796_Pos6_841_RFP': '725',\n",
       " 'GV0796_Pos6_541_RFP': '732',\n",
       " 'GV0796_Pos6_839_RFP': '736',\n",
       " 'GV0796_Pos6_579_RFP': '760',\n",
       " 'GV0796_Pos6_542_RFP': '790',\n",
       " 'GV0796_Pos6_201_RFP': '572',\n",
       " 'GV0796_Pos6_881_RFP': '909',\n",
       " 'GV0796_Pos6_7_RFP': '918',\n",
       " 'GV0796_Pos6_638_RFP': '928',\n",
       " 'GV0796_Pos6_1063_RFP': '929',\n",
       " 'GV0796_Pos6_30_RFP': '92',\n",
       " 'GV0796_Pos6_86_RFP': '272',\n",
       " 'GV0796_Pos6_1022_RFP': '787',\n",
       " 'GV0796_Pos6_1146_RFP': '894',\n",
       " 'GV0796_Pos6_885_RFP': '912',\n",
       " 'GV0796_Pos6_1021_RFP': '975',\n",
       " 'GV0796_Pos6_18_RFP': '292',\n",
       " 'GV0807_Pos5_4_RFP': '14',\n",
       " 'GV0807_Pos5_52_RFP': '31',\n",
       " 'GV0807_Pos5_301_RFP': '224',\n",
       " 'GV0807_Pos5_459_RFP': '503',\n",
       " 'GV0807_Pos5_402_RFP': '618',\n",
       " 'GV0807_Pos5_354_RFP': '625',\n",
       " 'GV0807_Pos5_679_RFP': '650',\n",
       " 'GV0807_Pos5_950_RFP': '829',\n",
       " 'GV0807_Pos5_952_RFP': '837',\n",
       " 'GV0807_Pos5_334_RFP': '847',\n",
       " 'GV0807_Pos5_733_RFP': '833',\n",
       " 'GV0807_Pos5_916_RFP': '839',\n",
       " 'GV0807_Pos5_677_RFP': '899',\n",
       " 'GV0807_Pos5_1128_RFP': '931',\n",
       " 'GV0807_Pos5_460_RFP': '674',\n",
       " 'GV0807_Pos5_51_RFP': '898',\n",
       " 'GV0807_Pos5_977_RFP': '916',\n",
       " 'GV0807_Pos5_1149_RFP': '956',\n",
       " 'GV0807_Pos5_815_RFP': '1044',\n",
       " 'GV0807_Pos5_2_RFP': '1062',\n",
       " 'GV0807_Pos5_1281_RFP': '1126',\n",
       " 'GV0807_Pos5_1448_RFP': '1127',\n",
       " 'GV0807_Pos5_1427_RFP': '1133',\n",
       " 'GV0807_Pos5_1489_RFP': '1158',\n",
       " 'GV0807_Pos5_944_RFP': '1160',\n",
       " 'GV0807_Pos5_819_RFP': '956',\n",
       " 'GV0807_Pos5_793_RFP': '1093',\n",
       " 'GV0796_Pos23_66_RFP': '22',\n",
       " 'GV0796_Pos23_87_RFP': '26',\n",
       " 'GV0796_Pos23_62_RFP': '15',\n",
       " 'GV0796_Pos23_74_RFP': '293',\n",
       " 'GV0796_Pos23_18_RFP': '239',\n",
       " 'GV0796_Pos23_202_RFP': '588',\n",
       " 'GV0796_Pos23_786_RFP': '573',\n",
       " 'GV0796_Pos23_15_RFP': '824',\n",
       " 'GV0796_Pos23_1896_RFP': '946',\n",
       " 'GV0796_Pos23_2215_RFP': '946',\n",
       " 'GV0796_Pos23_890_RFP': '743',\n",
       " 'GV0796_Pos23_771_RFP': '832',\n",
       " 'GV0796_Pos23_968_RFP': '700',\n",
       " 'GV0796_Pos23_969_RFP': '793',\n",
       " 'GV0796_Pos23_1773_RFP': '869',\n",
       " 'GV0796_Pos23_1253_RFP': '634',\n",
       " 'GV0796_Pos23_16_RFP': '4',\n",
       " 'GV0796_Pos23_80_RFP': '354',\n",
       " 'GV0796_Pos23_525_RFP': '989',\n",
       " 'GV0796_Pos23_1767_RFP': '923',\n",
       " 'GV0796_Pos23_203_RFP': '210',\n",
       " 'GV0796_Pos23_36_RFP': '212',\n",
       " 'GV0796_Pos23_174_RFP': '359',\n",
       " 'GV0796_Pos23_655_RFP': '612',\n",
       " 'GV0796_Pos23_717_RFP': '670',\n",
       " 'GV0796_Pos23_718_RFP': '678',\n",
       " 'GV0796_Pos23_526_RFP': '797',\n",
       " 'GV0796_Pos23_323_RFP': '734',\n",
       " 'GV0796_Pos23_798_RFP': '842',\n",
       " 'GV0796_Pos23_1306_RFP': '701',\n",
       " 'GV0796_Pos23_1073_RFP': '687',\n",
       " 'GV0796_Pos23_799_RFP': '720',\n",
       " 'GV0796_Pos23_1412_RFP': '701',\n",
       " 'GV0796_Pos23_1898_RFP': '834',\n",
       " 'GV0796_Pos23_485_RFP': '781',\n",
       " 'GV0796_Pos23_1466_RFP': '719',\n",
       " 'GV0796_Pos23_770_RFP': '986',\n",
       " 'GV0797_Pos23_31_RFP': '166',\n",
       " 'GV0797_Pos23_26_RFP': '60',\n",
       " 'GV0797_Pos23_260_RFP': '235',\n",
       " 'GV0797_Pos23_125_RFP': '79',\n",
       " 'GV0797_Pos23_336_RFP': '456',\n",
       " 'GV0797_Pos23_252_RFP': '207',\n",
       " 'GV0797_Pos23_301_RFP': '207',\n",
       " 'GV0797_Pos23_36_RFP': '180',\n",
       " 'GV0797_Pos23_319_RFP': '556',\n",
       " 'GV0797_Pos23_556_RFP': '638',\n",
       " 'GV0813_Pos5_212_RFP': '640',\n",
       " 'GV0813_Pos5_340_RFP': '960',\n",
       " 'GV0813_Pos5_210_RFP': '855',\n",
       " 'GV0813_Pos5_155_RFP': '961',\n",
       " 'GV0819_Pos4_70_RFP': '85',\n",
       " 'GV0819_Pos4_52_RFP': '434',\n",
       " 'GV0819_Pos4_15_RFP': '620',\n",
       " 'GV0819_Pos4_201_RFP': '606',\n",
       " 'GV0819_Pos4_389_RFP': '749',\n",
       " 'GV0819_Pos4_603_RFP': '758',\n",
       " 'GV0819_Pos4_572_RFP': '730',\n",
       " 'GV0819_Pos4_339_RFP': '775',\n",
       " 'GV0819_Pos4_338_RFP': '775',\n",
       " 'GV0819_Pos4_430_RFP': '786',\n",
       " 'GV0819_Pos4_309_RFP': '813',\n",
       " 'GV0819_Pos4_429_RFP': '865',\n",
       " 'GV0819_Pos4_428_RFP': '922',\n",
       " 'GV0819_Pos4_10_RFP': '937',\n",
       " 'GV0819_Pos4_448_RFP': '1030',\n",
       " 'GV0819_Pos4_625_RFP': '1065',\n",
       " 'GV0819_Pos4_341_RFP': '1114',\n",
       " 'GV0819_Pos4_417_RFP': '1112',\n",
       " 'GV0819_Pos4_573_RFP': '1092',\n",
       " 'GV0819_Pos4_502_RFP': '1145',\n",
       " 'GV0819_Pos4_1112_RFP': '1075',\n",
       " 'GV0819_Pos4_624_RFP': '1098',\n",
       " 'GV0819_Pos4_1382_RFP': '1098',\n",
       " 'GV0819_Pos4_1354_RFP': '1098',\n",
       " 'GV0819_Pos4_410_RFP': '1111',\n",
       " 'GV0819_Pos4_715_RFP': '1172',\n",
       " 'GV0819_Pos4_1144_RFP': '981',\n",
       " 'GV0819_Pos4_633_RFP': '1173',\n",
       " 'GV0819_Pos4_60_RFP': '920',\n",
       " 'GV0819_Pos4_463_RFP': '1014',\n",
       " 'GV0819_Pos4_1222_RFP': '1156',\n",
       " 'GV0819_Pos4_409_RFP': '1162',\n",
       " 'GV0819_Pos4_753_RFP': '1096',\n",
       " 'GV0795_Pos18_379_RFP': '518',\n",
       " 'GV0795_Pos18_413_RFP': '665',\n",
       " 'GV0795_Pos18_854_RFP': '1013',\n",
       " 'GV0795_Pos18_855_RFP': '1051',\n",
       " 'GV0795_Pos18_1179_RFP': '1063',\n",
       " 'GV0795_Pos18_409_RFP': '719',\n",
       " 'GV0795_Pos18_684_RFP': '765',\n",
       " 'GV0795_Pos18_802_RFP': '765',\n",
       " 'GV0795_Pos18_46_RFP': '31',\n",
       " 'GV0795_Pos18_521_RFP': '707',\n",
       " 'GV0795_Pos18_3_RFP': '827',\n",
       " 'GV0795_Pos18_715_RFP': '892',\n",
       " 'GV0795_Pos18_28_RFP': '911',\n",
       " 'GV0795_Pos18_12_RFP': '876',\n",
       " 'GV0795_Pos18_19_RFP': '10',\n",
       " 'GV0795_Pos18_728_RFP': '820',\n",
       " 'GV0815_Pos0_230_RFP': '251',\n",
       " 'GV0815_Pos0_8_RFP': '568',\n",
       " 'GV0815_Pos0_354_RFP': '649',\n",
       " 'GV0815_Pos0_465_RFP': '653',\n",
       " 'GV0815_Pos0_537_RFP': '633',\n",
       " 'GV0815_Pos0_557_RFP': '642',\n",
       " 'GV0815_Pos0_543_RFP': '648',\n",
       " 'GV0815_Pos0_542_RFP': '662',\n",
       " 'GV0815_Pos0_570_RFP': '718',\n",
       " 'GV0815_Pos0_568_RFP': '715',\n",
       " 'GV0815_Pos0_393_RFP': '709',\n",
       " 'GV0815_Pos0_386_RFP': '697',\n",
       " 'GV0815_Pos0_344_RFP': '798',\n",
       " 'GV0815_Pos0_572_RFP': '806',\n",
       " 'GV0815_Pos0_714_RFP': '839',\n",
       " 'GV0815_Pos0_516_RFP': '851',\n",
       " 'GV0815_Pos0_158_RFP': '858',\n",
       " 'GV0815_Pos0_498_RFP': '815',\n",
       " 'GV0815_Pos0_685_RFP': '829',\n",
       " 'GV0815_Pos0_825_RFP': '963',\n",
       " 'GV0815_Pos0_489_RFP': '983',\n",
       " 'GV0815_Pos0_13_RFP': '984',\n",
       " 'GV0815_Pos0_844_RFP': '997',\n",
       " 'GV0815_Pos0_390_RFP': '1170',\n",
       " 'GV0815_Pos0_207_RFP': '1167',\n",
       " 'GV0815_Pos0_17_RFP': '1130',\n",
       " 'GV0815_Pos0_42_RFP': '1079',\n",
       " 'GV0815_Pos0_802_RFP': '1138',\n",
       " 'GV0815_Pos0_453_RFP': '1175',\n",
       " 'GV0815_Pos0_750_RFP': '1103',\n",
       " 'GV0815_Pos0_966_RFP': '1158',\n",
       " 'GV0798_Pos18_12_RFP': '640',\n",
       " 'GV0798_Pos18_1292_RFP': '951',\n",
       " 'GV0802_Pos3_10_RFP': '72',\n",
       " 'GV0802_Pos3_4_RFP': '332',\n",
       " 'GV0802_Pos3_110_RFP': '572',\n",
       " 'GV0802_Pos3_109_RFP': '599',\n",
       " 'GV0802_Pos3_106_RFP': '604',\n",
       " 'GV0802_Pos3_128_RFP': '713',\n",
       " 'GV0802_Pos3_7_RFP': '718',\n",
       " 'GV0802_Pos3_93_RFP': '760',\n",
       " 'GV0802_Pos3_91_RFP': '698',\n",
       " 'GV0802_Pos3_131_RFP': '970',\n",
       " 'GV0802_Pos3_16_RFP': '888',\n",
       " 'GV0802_Pos3_154_RFP': '1024',\n",
       " 'GV0816_Pos23_8_RFP': '44',\n",
       " 'GV0816_Pos23_30_RFP': '19',\n",
       " 'GV0816_Pos23_36_RFP': '31',\n",
       " 'GV0816_Pos23_426_RFP': '572',\n",
       " 'GV0816_Pos23_269_RFP': '622',\n",
       " 'GV0816_Pos23_330_RFP': '888',\n",
       " 'GV0816_Pos23_526_RFP': '961',\n",
       " 'GV0800_Pos17_23_RFP': '42',\n",
       " 'GV0800_Pos17_48_RFP': '28',\n",
       " 'GV0800_Pos17_359_RFP': '432',\n",
       " 'GV0800_Pos17_518_RFP': '695',\n",
       " 'GV0800_Pos17_587_RFP': '834',\n",
       " 'GV0800_Pos17_385_RFP': '862',\n",
       " 'GV0800_Pos17_462_RFP': '962',\n",
       " 'GV0800_Pos17_380_RFP': '1050',\n",
       " 'GV0800_Pos17_519_RFP': '1065',\n",
       " 'GV0800_Pos17_727_RFP': '1075',\n",
       " 'GV0800_Pos17_728_RFP': '1074',\n",
       " 'GV0800_Pos17_804_RFP': '1110',\n",
       " 'GV0800_Pos17_917_RFP': '1125',\n",
       " 'GV0800_Pos17_716_RFP': '1107',\n",
       " 'GV0800_Pos17_753_RFP': '1007',\n",
       " 'GV0796_Pos7_39_RFP': '20',\n",
       " 'GV0796_Pos7_40_RFP': '2',\n",
       " 'GV0796_Pos7_48_RFP': '1',\n",
       " 'GV0796_Pos7_72_RFP': '17',\n",
       " 'GV0796_Pos7_6_RFP': '131',\n",
       " 'GV0796_Pos7_5_RFP': '204',\n",
       " 'GV0796_Pos7_85_RFP': '482',\n",
       " 'GV0796_Pos7_443_RFP': '617',\n",
       " 'GV0796_Pos7_41_RFP': '550',\n",
       " 'GV0796_Pos7_412_RFP': '612',\n",
       " 'GV0796_Pos7_413_RFP': '627',\n",
       " 'GV0796_Pos7_446_RFP': '834',\n",
       " 'GV0796_Pos7_385_RFP': '647',\n",
       " 'GV0796_Pos7_3_RFP': '710',\n",
       " 'GV0796_Pos7_327_RFP': '761',\n",
       " 'GV0796_Pos7_618_RFP': '679',\n",
       " 'GV0796_Pos7_153_RFP': '697',\n",
       " 'GV0796_Pos7_506_RFP': '725',\n",
       " 'GV0796_Pos7_395_RFP': '627',\n",
       " 'GV0796_Pos7_399_RFP': '735',\n",
       " 'GV0796_Pos7_695_RFP': '780',\n",
       " 'GV0796_Pos7_394_RFP': '815',\n",
       " 'GV0796_Pos7_445_RFP': '864',\n",
       " 'GV0796_Pos7_460_RFP': '870',\n",
       " 'GV0796_Pos7_403_RFP': '789',\n",
       " 'GV0796_Pos7_609_RFP': '811',\n",
       " 'GV0797_Pos7_14_RFP': '99',\n",
       " 'GV0797_Pos7_45_RFP': '201',\n",
       " 'GV0797_Pos7_5_RFP': '254',\n",
       " 'GV0797_Pos7_146_RFP': '388',\n",
       " 'GV0797_Pos7_145_RFP': '398',\n",
       " 'GV0797_Pos7_30_RFP': '393',\n",
       " 'GV0797_Pos7_106_RFP': '424',\n",
       " 'GV0797_Pos7_9_RFP': '405',\n",
       " 'GV0797_Pos7_204_RFP': '487',\n",
       " 'GV0797_Pos7_105_RFP': '473',\n",
       " 'GV0797_Pos7_200_RFP': '486',\n",
       " 'GV0797_Pos7_199_RFP': '625',\n",
       " 'GV0797_Pos7_208_RFP': '475',\n",
       " 'GV0797_Pos7_207_RFP': '475',\n",
       " 'GV0797_Pos7_203_RFP': '516',\n",
       " 'GV0813_Pos0_13_RFP': '10',\n",
       " 'GV0813_Pos0_14_RFP': '6',\n",
       " 'GV0813_Pos0_115_RFP': '941',\n",
       " 'GV0813_Pos0_10_RFP': '939',\n",
       " 'GV0813_Pos0_12_RFP': '1007',\n",
       " 'GV0802_Pos4_23_RFP': '4',\n",
       " 'GV0802_Pos4_28_RFP': '11',\n",
       " 'GV0802_Pos4_18_RFP': '33',\n",
       " 'GV0802_Pos4_12_RFP': '347',\n",
       " 'GV0802_Pos4_198_RFP': '479',\n",
       " 'GV0802_Pos4_275_RFP': '525',\n",
       " 'GV0802_Pos4_245_RFP': '630',\n",
       " 'GV0802_Pos4_353_RFP': '783',\n",
       " 'GV0802_Pos4_272_RFP': '809',\n",
       " 'GV0802_Pos4_276_RFP': '857',\n",
       " 'GV0802_Pos4_3_RFP': '917',\n",
       " 'GV0802_Pos4_31_RFP': '1011',\n",
       " 'GV0807_Pos4_12_RFP': '128',\n",
       " 'GV0807_Pos4_16_RFP': '276',\n",
       " 'GV0807_Pos4_23_RFP': '494',\n",
       " 'GV0807_Pos4_276_RFP': '490',\n",
       " 'GV0807_Pos4_345_RFP': '646',\n",
       " 'GV0807_Pos4_330_RFP': '667',\n",
       " 'GV0807_Pos4_191_RFP': '672',\n",
       " 'GV0807_Pos4_429_RFP': '803',\n",
       " 'GV0807_Pos4_50_RFP': '956',\n",
       " 'GV0807_Pos4_382_RFP': '964',\n",
       " 'GV0807_Pos4_381_RFP': '1042',\n",
       " 'GV0807_Pos4_190_RFP': '1103',\n",
       " 'GV0807_Pos4_377_RFP': '1126',\n",
       " 'GV0807_Pos4_169_RFP': '892',\n",
       " 'GV0796_Pos19_9_RFP': '205',\n",
       " 'GV0796_Pos19_3_RFP': '476',\n",
       " 'GV0796_Pos19_58_RFP': '690',\n",
       " 'GV0796_Pos19_69_RFP': '667',\n",
       " 'GV0796_Pos19_70_RFP': '731',\n",
       " 'GV0796_Pos19_125_RFP': '882',\n",
       " 'GV0797_Pos19_7_RFP': '242',\n",
       " 'GV0797_Pos19_8_RFP': '338',\n",
       " 'GV0819_Pos3_110_RFP': '25',\n",
       " 'GV0819_Pos3_8_RFP': '41',\n",
       " 'GV0819_Pos3_406_RFP': '464',\n",
       " 'GV0819_Pos3_717_RFP': '499',\n",
       " 'GV0819_Pos3_647_RFP': '543',\n",
       " 'GV0819_Pos3_493_RFP': '678',\n",
       " 'GV0819_Pos3_607_RFP': '499',\n",
       " 'GV0819_Pos3_744_RFP': '639',\n",
       " 'GV0819_Pos3_746_RFP': '639',\n",
       " 'GV0819_Pos3_1087_RFP': '695',\n",
       " 'GV0819_Pos3_936_RFP': '710',\n",
       " 'GV0819_Pos3_1092_RFP': '710',\n",
       " 'GV0819_Pos3_158_RFP': '717',\n",
       " 'GV0819_Pos3_887_RFP': '728',\n",
       " 'GV0819_Pos3_324_RFP': '753',\n",
       " 'GV0819_Pos3_1171_RFP': '760',\n",
       " 'GV0819_Pos3_1172_RFP': '764',\n",
       " 'GV0819_Pos3_1180_RFP': '772',\n",
       " 'GV0819_Pos3_1181_RFP': '763',\n",
       " 'GV0819_Pos3_54_RFP': '784',\n",
       " 'GV0819_Pos3_1135_RFP': '744',\n",
       " 'GV0819_Pos3_702_RFP': '801',\n",
       " 'GV0819_Pos3_66_RFP': '820',\n",
       " 'GV0819_Pos3_1419_RFP': '841',\n",
       " 'GV0819_Pos3_48_RFP': '897',\n",
       " 'GV0819_Pos3_17_RFP': '918',\n",
       " 'GV0819_Pos3_1099_RFP': '970',\n",
       " 'GV0819_Pos3_774_RFP': '990',\n",
       " 'GV0819_Pos3_1735_RFP': '995',\n",
       " 'GV0819_Pos3_494_RFP': '1111',\n",
       " 'GV0819_Pos3_606_RFP': '1136',\n",
       " 'GV0819_Pos3_1659_RFP': '1146',\n",
       " 'GV0819_Pos3_870_RFP': '1016',\n",
       " 'GV0819_Pos3_319_RFP': '1009',\n",
       " 'GV0819_Pos3_823_RFP': '840',\n",
       " 'GV0798_Pos4_27_RFP': '2',\n",
       " 'GV0798_Pos4_22_RFP': '39',\n",
       " 'GV0798_Pos4_344_RFP': '679',\n",
       " 'GV0798_Pos4_253_RFP': '701',\n",
       " 'GV0798_Pos4_302_RFP': '724',\n",
       " 'GV0798_Pos4_255_RFP': '751',\n",
       " 'GV0800_Pos7_7_RFP': '1',\n",
       " 'GV0800_Pos7_27_RFP': '12',\n",
       " 'GV0800_Pos7_52_RFP': '169',\n",
       " 'GV0800_Pos7_165_RFP': '164',\n",
       " 'GV0800_Pos7_29_RFP': '302',\n",
       " 'GV0800_Pos7_368_RFP': '510',\n",
       " 'GV0800_Pos7_393_RFP': '558',\n",
       " 'GV0800_Pos7_392_RFP': '560',\n",
       " 'GV0800_Pos7_456_RFP': '652',\n",
       " 'GV0800_Pos7_440_RFP': '674',\n",
       " 'GV0800_Pos7_14_RFP': '647',\n",
       " 'GV0800_Pos7_299_RFP': '650',\n",
       " 'GV0800_Pos7_297_RFP': '678',\n",
       " 'GV0800_Pos7_279_RFP': '694',\n",
       " 'GV0800_Pos7_16_RFP': '675',\n",
       " 'GV0800_Pos7_361_RFP': '801',\n",
       " 'GV0800_Pos7_373_RFP': '804',\n",
       " 'GV0800_Pos7_190_RFP': '808',\n",
       " 'GV0800_Pos7_598_RFP': '1020',\n",
       " 'GV0800_Pos7_667_RFP': '1005',\n",
       " 'GV0800_Pos7_669_RFP': '1005',\n",
       " 'GV0813_Pos1_92_RFP': '182',\n",
       " 'GV0813_Pos1_1_RFP': '274',\n",
       " 'GV0813_Pos1_2_RFP': '293',\n",
       " 'GV0813_Pos1_386_RFP': '610',\n",
       " 'GV0813_Pos1_335_RFP': '658',\n",
       " 'GV0813_Pos1_170_RFP': '587',\n",
       " 'GV0813_Pos1_185_RFP': '667',\n",
       " 'GV0813_Pos1_184_RFP': '783',\n",
       " 'GV0813_Pos1_271_RFP': '854',\n",
       " 'GV0813_Pos1_300_RFP': '872',\n",
       " 'GV0813_Pos1_510_RFP': '903',\n",
       " 'GV0813_Pos1_325_RFP': '913',\n",
       " 'GV0813_Pos1_10_RFP': '723',\n",
       " 'GV0813_Pos1_171_RFP': '762',\n",
       " 'GV0813_Pos4_190_RFP': '536',\n",
       " 'GV0813_Pos4_99_RFP': '684',\n",
       " 'GV0813_Pos4_513_RFP': '1009',\n",
       " 'GV0813_Pos4_514_RFP': '1019',\n",
       " 'GV0813_Pos4_11_RFP': '981',\n",
       " 'GV0813_Pos4_276_RFP': '1042',\n",
       " 'GV0804_Pos5_28_RFP': '208',\n",
       " 'GV0804_Pos5_797_RFP': '485',\n",
       " 'GV0804_Pos5_661_RFP': '512',\n",
       " 'GV0804_Pos5_686_RFP': '565',\n",
       " 'GV0804_Pos5_883_RFP': '607',\n",
       " 'GV0804_Pos5_621_RFP': '663',\n",
       " 'GV0804_Pos5_828_RFP': '714',\n",
       " 'GV0804_Pos5_826_RFP': '707',\n",
       " 'GV0804_Pos5_771_RFP': '707',\n",
       " 'GV0804_Pos5_688_RFP': '689',\n",
       " 'GV0804_Pos5_865_RFP': '663',\n",
       " 'GV0804_Pos5_838_RFP': '798',\n",
       " 'GV0804_Pos5_1094_RFP': '822',\n",
       " 'GV0804_Pos5_1058_RFP': '857',\n",
       " 'GV0804_Pos5_1154_RFP': '866',\n",
       " 'GV0804_Pos5_689_RFP': '881',\n",
       " 'GV0804_Pos5_933_RFP': '871',\n",
       " 'GV0804_Pos5_1274_RFP': '936',\n",
       " 'GV0804_Pos5_1275_RFP': '936',\n",
       " 'GV0804_Pos5_1059_RFP': '938',\n",
       " 'GV0804_Pos5_761_RFP': '928',\n",
       " 'GV0804_Pos5_1155_RFP': '909',\n",
       " 'GV0804_Pos5_778_RFP': '978',\n",
       " 'GV0804_Pos5_709_RFP': '1021',\n",
       " 'GV0804_Pos5_662_RFP': '1044',\n",
       " 'GV0804_Pos5_701_RFP': '878',\n",
       " 'GV0804_Pos5_943_RFP': '1032',\n",
       " 'GV0804_Pos5_918_RFP': '729',\n",
       " 'GV0804_Pos5_934_RFP': '675',\n",
       " 'GV0797_Pos8_3_RFP': '193',\n",
       " 'GV0797_Pos8_5_RFP': '251',\n",
       " 'GV0797_Pos8_11_RFP': '392',\n",
       " 'GV0797_Pos8_59_RFP': '484',\n",
       " 'GV0814_Pos0_30_RFP': '12',\n",
       " 'GV0814_Pos0_27_RFP': '18',\n",
       " 'GV0814_Pos0_15_RFP': '87',\n",
       " 'GV0814_Pos0_29_RFP': '86',\n",
       " 'GV0814_Pos0_23_RFP': '277',\n",
       " 'GV0814_Pos0_22_RFP': '285',\n",
       " 'GV0814_Pos0_462_RFP': '515',\n",
       " 'GV0814_Pos0_465_RFP': '570',\n",
       " 'GV0814_Pos0_662_RFP': '811',\n",
       " 'GV0814_Pos0_522_RFP': '855',\n",
       " 'GV0814_Pos0_18_RFP': '943',\n",
       " 'GV0814_Pos0_782_RFP': '984',\n",
       " 'GV0814_Pos0_357_RFP': '997',\n",
       " 'GV0814_Pos0_386_RFP': '1014',\n",
       " 'GV0814_Pos0_579_RFP': '1062',\n",
       " 'GV0814_Pos0_13_RFP': '1099',\n",
       " 'GV0814_Pos0_759_RFP': '1183',\n",
       " 'GV0814_Pos0_515_RFP': '1057',\n",
       " 'GV0820_Pos5_48_RFP': '50',\n",
       " 'GV0820_Pos5_3_RFP': '295',\n",
       " 'GV0820_Pos5_429_RFP': '502',\n",
       " 'GV0820_Pos5_11_RFP': '554',\n",
       " 'GV0820_Pos5_410_RFP': '559',\n",
       " 'GV0820_Pos5_417_RFP': '568',\n",
       " 'GV0820_Pos5_305_RFP': '560',\n",
       " 'GV0820_Pos5_343_RFP': '564',\n",
       " 'GV0820_Pos5_31_RFP': '601',\n",
       " 'GV0820_Pos5_463_RFP': '624',\n",
       " 'GV0820_Pos5_38_RFP': '613',\n",
       " 'GV0820_Pos5_90_RFP': '628',\n",
       " 'GV0820_Pos5_395_RFP': '700',\n",
       " 'GV0820_Pos5_266_RFP': '776',\n",
       " 'GV0820_Pos5_34_RFP': '820',\n",
       " 'GV0820_Pos5_44_RFP': '923',\n",
       " 'GV0820_Pos5_420_RFP': '958',\n",
       " 'GV0820_Pos5_10_RFP': '936',\n",
       " 'GV0820_Pos5_445_RFP': '983',\n",
       " 'GV0820_Pos5_302_RFP': '1030',\n",
       " 'GV0820_Pos5_562_RFP': '997',\n",
       " 'GV0820_Pos5_972_RFP': '1012',\n",
       " 'GV0796_Pos24_765_RFP': '613',\n",
       " 'GV0796_Pos24_946_RFP': '905',\n",
       " 'GV0796_Pos24_2105_RFP': '935',\n",
       " 'GV0796_Pos24_56_RFP': '625',\n",
       " 'GV0796_Pos24_529_RFP': '388',\n",
       " 'GV0796_Pos24_856_RFP': '493',\n",
       " 'GV0796_Pos24_1017_RFP': '730',\n",
       " 'GV0796_Pos24_1015_RFP': '855',\n",
       " 'GV0796_Pos24_1730_RFP': '894',\n",
       " 'GV0796_Pos24_792_RFP': '440',\n",
       " 'GV0796_Pos24_272_RFP': '632',\n",
       " 'GV0796_Pos24_18_RFP': '904',\n",
       " 'GV0796_Pos24_1066_RFP': '743',\n",
       " 'GV0796_Pos24_1059_RFP': '835',\n",
       " 'GV0796_Pos24_1536_RFP': '838',\n",
       " 'GV0796_Pos24_1039_RFP': '732',\n",
       " 'GV0796_Pos24_1108_RFP': '777',\n",
       " 'GV0796_Pos24_25_RFP': '823',\n",
       " 'GV0796_Pos24_731_RFP': '829',\n",
       " 'GV0796_Pos24_1080_RFP': '842',\n",
       " 'GV0796_Pos24_35_RFP': '210',\n",
       " 'GV0796_Pos24_1415_RFP': '826',\n",
       " 'GV0796_Pos24_65_RFP': '48',\n",
       " 'GV0796_Pos24_1002_RFP': '824',\n",
       " 'GV0796_Pos24_900_RFP': '844',\n",
       " 'GV0796_Pos24_1047_RFP': '862',\n",
       " 'GV0796_Pos24_1378_RFP': '860',\n",
       " 'GV0796_Pos24_799_RFP': '939',\n",
       " 'GV0796_Pos24_1128_RFP': '610',\n",
       " 'GV0796_Pos24_1007_RFP': '777',\n",
       " 'GV0796_Pos24_1006_RFP': '775',\n",
       " 'GV0796_Pos24_1127_RFP': '808',\n",
       " 'GV0796_Pos24_1811_RFP': '843',\n",
       " 'GV0796_Pos24_873_RFP': '939',\n",
       " 'GV0820_Pos2_29_RFP': '12',\n",
       " 'GV0820_Pos2_47_RFP': '33',\n",
       " 'GV0820_Pos2_94_RFP': '50',\n",
       " 'GV0820_Pos2_256_RFP': '295',\n",
       " 'GV0820_Pos2_375_RFP': '563',\n",
       " 'GV0820_Pos2_377_RFP': '563',\n",
       " 'GV0820_Pos2_317_RFP': '504',\n",
       " 'GV0820_Pos2_25_RFP': '647',\n",
       " 'GV0820_Pos2_438_RFP': '610',\n",
       " 'GV0820_Pos2_43_RFP': '611',\n",
       " 'GV0820_Pos2_54_RFP': '741',\n",
       " 'GV0820_Pos2_439_RFP': '659',\n",
       " 'GV0820_Pos2_422_RFP': '792',\n",
       " 'GV0820_Pos2_423_RFP': '793',\n",
       " 'GV0820_Pos2_687_RFP': '786',\n",
       " 'GV0820_Pos2_686_RFP': '786',\n",
       " 'GV0820_Pos2_659_RFP': '831',\n",
       " 'GV0820_Pos2_50_RFP': '951',\n",
       " 'GV0820_Pos2_700_RFP': '996',\n",
       " 'GV0820_Pos2_441_RFP': '785',\n",
       " 'GV0820_Pos2_51_RFP': '832',\n",
       " 'GV0820_Pos2_793_RFP': '861',\n",
       " 'GV0820_Pos2_258_RFP': '1032',\n",
       " 'GV0798_Pos21_28_RFP': '150',\n",
       " 'GV0798_Pos21_32_RFP': '290',\n",
       " 'GV0798_Pos21_3_RFP': '327',\n",
       " 'GV0798_Pos21_398_RFP': '478',\n",
       " 'GV0798_Pos21_43_RFP': '560',\n",
       " 'GV0798_Pos21_850_RFP': '668',\n",
       " 'GV0798_Pos21_133_RFP': '599',\n",
       " 'GV0798_Pos21_365_RFP': '657',\n",
       " 'GV0798_Pos21_558_RFP': '799',\n",
       " 'GV0798_Pos21_7_RFP': '723',\n",
       " 'GV0798_Pos21_906_RFP': '726',\n",
       " 'GV0798_Pos21_582_RFP': '710',\n",
       " 'GV0798_Pos21_4_RFP': '921',\n",
       " 'GV0798_Pos21_9_RFP': '832',\n",
       " 'GV0798_Pos21_13_RFP': '809',\n",
       " 'GV0795_Pos17_13_RFP': '14',\n",
       " 'GV0795_Pos17_16_RFP': '7',\n",
       " 'GV0795_Pos17_26_RFP': '59',\n",
       " 'GV0795_Pos17_6_RFP': '117',\n",
       " 'GV0795_Pos17_4_RFP': '438',\n",
       " 'GV0795_Pos17_115_RFP': '651',\n",
       " 'GV0795_Pos17_152_RFP': '719',\n",
       " 'GV0795_Pos17_151_RFP': '770',\n",
       " 'GV0795_Pos17_129_RFP': '784',\n",
       " 'GV0795_Pos17_121_RFP': '815',\n",
       " 'GV0795_Pos17_11_RFP': '844',\n",
       " 'GV0795_Pos17_128_RFP': '869',\n",
       " 'GV0795_Pos17_258_RFP': '876',\n",
       " 'GV0795_Pos17_209_RFP': '891',\n",
       " 'GV0795_Pos17_267_RFP': '954',\n",
       " 'GV0795_Pos17_471_RFP': '980',\n",
       " 'GV0795_Pos17_98_RFP': '1100',\n",
       " 'GV0795_Pos17_132_RFP': '991',\n",
       " 'GV0815_Pos11_4_RFP': '435',\n",
       " 'GV0815_Pos11_199_RFP': '556',\n",
       " 'GV0815_Pos11_279_RFP': '600',\n",
       " 'GV0815_Pos11_283_RFP': '626',\n",
       " 'GV0815_Pos11_277_RFP': '674',\n",
       " 'GV0815_Pos11_284_RFP': '694',\n",
       " 'GV0815_Pos11_297_RFP': '644',\n",
       " 'GV0815_Pos11_173_RFP': '713',\n",
       " 'GV0815_Pos11_355_RFP': '715',\n",
       " 'GV0815_Pos11_450_RFP': '849',\n",
       " 'GV0815_Pos11_10_RFP': '832',\n",
       " 'GV0815_Pos11_358_RFP': '845',\n",
       " 'GV0815_Pos11_607_RFP': '889',\n",
       " 'GV0815_Pos11_9_RFP': '884',\n",
       " 'GV0815_Pos11_657_RFP': '884',\n",
       " 'GV0815_Pos11_6_RFP': '1034',\n",
       " 'GV0815_Pos11_742_RFP': '1063',\n",
       " 'GV0815_Pos11_787_RFP': '1130',\n",
       " 'GV0815_Pos11_579_RFP': '1097',\n",
       " 'GV0815_Pos11_8_RFP': '1137',\n",
       " 'GV0815_Pos11_829_RFP': '1160',\n",
       " 'GV0815_Pos11_274_RFP': '1162',\n",
       " 'GV0795_Pos7_37_RFP': '177',\n",
       " 'GV0795_Pos7_390_RFP': '713',\n",
       " 'GV0795_Pos7_421_RFP': '648',\n",
       " 'GV0795_Pos7_460_RFP': '807',\n",
       " 'GV0795_Pos7_263_RFP': '555',\n",
       " 'GV0795_Pos7_264_RFP': '459',\n",
       " 'GV0795_Pos7_680_RFP': '728',\n",
       " 'GV0795_Pos7_874_RFP': '809',\n",
       " 'GV0795_Pos7_873_RFP': '809',\n",
       " 'GV0795_Pos7_255_RFP': '789',\n",
       " 'GV0795_Pos7_850_RFP': '832',\n",
       " 'GV0795_Pos7_1030_RFP': '920',\n",
       " 'GV0795_Pos7_1029_RFP': '921',\n",
       " 'GV0795_Pos7_823_RFP': '937',\n",
       " 'GV0795_Pos7_308_RFP': '859',\n",
       " 'GV0795_Pos7_488_RFP': '751',\n",
       " 'GV0795_Pos7_410_RFP': '962',\n",
       " 'GV0795_Pos7_416_RFP': '1010',\n",
       " 'GV0795_Pos7_1119_RFP': '1008',\n",
       " 'GV0795_Pos7_468_RFP': '1080',\n",
       " 'GV0800_Pos16_15_RFP': '27',\n",
       " 'GV0800_Pos16_29_RFP': '4',\n",
       " 'GV0800_Pos16_8_RFP': '66',\n",
       " 'GV0800_Pos16_24_RFP': '37',\n",
       " 'GV0800_Pos16_31_RFP': '192',\n",
       " 'GV0800_Pos16_505_RFP': '536',\n",
       " 'GV0800_Pos16_63_RFP': '543',\n",
       " 'GV0800_Pos16_496_RFP': '659',\n",
       " 'GV0800_Pos16_23_RFP': '688',\n",
       " 'GV0800_Pos16_572_RFP': '746',\n",
       " 'GV0800_Pos16_542_RFP': '839',\n",
       " 'GV0800_Pos16_583_RFP': '840',\n",
       " 'GV0800_Pos16_580_RFP': '795',\n",
       " 'GV0800_Pos16_10_RFP': '813',\n",
       " 'GV0800_Pos16_584_RFP': '802',\n",
       " 'GV0800_Pos16_478_RFP': '738',\n",
       " 'GV0800_Pos16_849_RFP': '997',\n",
       " 'GV0800_Pos16_803_RFP': '957',\n",
       " 'GV0800_Pos16_522_RFP': '956',\n",
       " 'GV0800_Pos16_451_RFP': '1019',\n",
       " 'GV0800_Pos16_489_RFP': '983',\n",
       " 'GV0800_Pos16_504_RFP': '1063',\n",
       " 'GV0800_Pos16_13_RFP': '1110',\n",
       " 'GV0800_Pos16_528_RFP': '1016',\n",
       " 'GV0800_Pos16_1155_RFP': '1121',\n",
       " 'GV0800_Pos16_632_RFP': '1027',\n",
       " 'GV0800_Pos16_1044_RFP': '1117',\n",
       " 'GV0807_Pos3_18_RFP': '503',\n",
       " 'GV0807_Pos3_17_RFP': '722',\n",
       " 'GV0807_Pos3_51_RFP': '880',\n",
       " 'GV0807_Pos3_1_RFP': '909',\n",
       " 'GV0807_Pos3_5_RFP': '1046',\n",
       " 'GV0807_Pos3_4_RFP': '1048',\n",
       " 'GV0820_Pos1_553_RFP': '474',\n",
       " 'GV0820_Pos1_16_RFP': '613',\n",
       " 'GV0820_Pos1_427_RFP': '588',\n",
       " 'GV0820_Pos1_489_RFP': '534',\n",
       " 'GV0820_Pos1_671_RFP': '631',\n",
       " 'GV0820_Pos1_990_RFP': '696',\n",
       " 'GV0820_Pos1_970_RFP': '714',\n",
       " 'GV0820_Pos1_902_RFP': '661',\n",
       " 'GV0820_Pos1_817_RFP': '693',\n",
       " 'GV0820_Pos1_895_RFP': '751',\n",
       " 'GV0820_Pos1_785_RFP': '665',\n",
       " 'GV0820_Pos1_499_RFP': '729',\n",
       " 'GV0820_Pos1_704_RFP': '789',\n",
       " 'GV0820_Pos1_672_RFP': '917',\n",
       " 'GV0820_Pos1_1516_RFP': '914',\n",
       " 'GV0820_Pos1_1500_RFP': '981',\n",
       " 'GV0820_Pos1_1570_RFP': '1027',\n",
       " 'GV0820_Pos1_1104_RFP': '1052',\n",
       " 'GV0820_Pos1_813_RFP': '1050',\n",
       " 'GV0820_Pos1_1450_RFP': '1053',\n",
       " 'GV0820_Pos1_1038_RFP': '893',\n",
       " 'GV0820_Pos1_1411_RFP': '893',\n",
       " 'GV0819_Pos2_569_RFP': '440',\n",
       " 'GV0819_Pos2_568_RFP': '439',\n",
       " 'GV0819_Pos2_673_RFP': '509',\n",
       " 'GV0819_Pos2_473_RFP': '575',\n",
       " 'GV0819_Pos2_45_RFP': '626',\n",
       " 'GV0819_Pos2_802_RFP': '670',\n",
       " 'GV0819_Pos2_13_RFP': '680',\n",
       " 'GV0819_Pos2_11_RFP': '684',\n",
       " 'GV0819_Pos2_468_RFP': '821',\n",
       " 'GV0819_Pos2_1024_RFP': '885',\n",
       " 'GV0819_Pos2_829_RFP': '901',\n",
       " 'GV0819_Pos2_605_RFP': '771',\n",
       " 'GV0819_Pos2_830_RFP': '855',\n",
       " 'GV0819_Pos2_549_RFP': '920',\n",
       " 'GV0819_Pos2_40_RFP': '919',\n",
       " 'GV0819_Pos2_491_RFP': '1056',\n",
       " 'GV0819_Pos2_657_RFP': '1054',\n",
       " 'GV0819_Pos2_826_RFP': '1062',\n",
       " 'GV0819_Pos2_889_RFP': '1078',\n",
       " 'GV0819_Pos2_858_RFP': '1080',\n",
       " 'GV0819_Pos2_746_RFP': '1033',\n",
       " 'GV0819_Pos2_1513_RFP': '1120',\n",
       " 'GV0819_Pos2_548_RFP': '1117',\n",
       " 'GV0819_Pos2_913_RFP': '985',\n",
       " 'GV0819_Pos2_762_RFP': '1024',\n",
       " 'GV0819_Pos2_900_RFP': '711',\n",
       " 'GV0819_Pos2_490_RFP': '1145',\n",
       " 'GV0819_Pos2_599_RFP': '1000',\n",
       " 'GV0819_Pos2_1453_RFP': '1104',\n",
       " 'GV0819_Pos2_679_RFP': '1126',\n",
       " 'GV0817_Pos11_615_RFP': '604',\n",
       " 'GV0817_Pos11_639_RFP': '602',\n",
       " 'GV0817_Pos11_141_RFP': '589',\n",
       " 'GV0817_Pos11_51_RFP': '548',\n",
       " 'GV0817_Pos11_374_RFP': '651',\n",
       " 'GV0817_Pos11_267_RFP': '668',\n",
       " 'GV0817_Pos11_722_RFP': '680',\n",
       " 'GV0817_Pos11_474_RFP': '702',\n",
       " 'GV0817_Pos11_778_RFP': '715',\n",
       " 'GV0817_Pos11_458_RFP': '707',\n",
       " 'GV0817_Pos11_37_RFP': '768',\n",
       " 'GV0817_Pos11_668_RFP': '789',\n",
       " 'GV0817_Pos11_656_RFP': '805',\n",
       " 'GV0817_Pos11_509_RFP': '818',\n",
       " 'GV0817_Pos11_655_RFP': '821',\n",
       " 'GV0817_Pos11_547_RFP': '844',\n",
       " 'GV0817_Pos11_720_RFP': '834',\n",
       " 'GV0817_Pos11_396_RFP': '846',\n",
       " 'GV0817_Pos11_701_RFP': '850',\n",
       " 'GV0817_Pos11_801_RFP': '970',\n",
       " 'GV0817_Pos11_978_RFP': '953',\n",
       " 'GV0817_Pos11_1173_RFP': '1000',\n",
       " 'GV0819_Pos0_23_RFP': '108',\n",
       " 'GV0819_Pos0_495_RFP': '462',\n",
       " 'GV0819_Pos0_493_RFP': '518',\n",
       " 'GV0819_Pos0_494_RFP': '624',\n",
       " 'GV0819_Pos0_736_RFP': '611',\n",
       " 'GV0819_Pos0_740_RFP': '611',\n",
       " 'GV0819_Pos0_38_RFP': '533',\n",
       " 'GV0819_Pos0_642_RFP': '665',\n",
       " 'GV0819_Pos0_786_RFP': '698',\n",
       " 'GV0819_Pos0_909_RFP': '734',\n",
       " 'GV0819_Pos0_895_RFP': '860',\n",
       " 'GV0819_Pos0_448_RFP': '769',\n",
       " 'GV0819_Pos0_527_RFP': '1103',\n",
       " 'GV0819_Pos0_53_RFP': '1055',\n",
       " 'GV0819_Pos0_167_RFP': '776',\n",
       " 'GV0819_Pos0_456_RFP': '1072',\n",
       " 'GV0819_Pos0_21_RFP': '1053',\n",
       " 'GV0819_Pos0_1366_RFP': '1155',\n",
       " 'GV0819_Pos0_1376_RFP': '1148',\n",
       " 'GV0819_Pos0_930_RFP': '932',\n",
       " 'GV0819_Pos0_1088_RFP': '1031',\n",
       " 'GV0816_Pos13_37_RFP': '7',\n",
       " 'GV0816_Pos13_53_RFP': '21',\n",
       " 'GV0816_Pos13_57_RFP': '50',\n",
       " 'GV0816_Pos13_45_RFP': '379',\n",
       " 'GV0816_Pos13_43_RFP': '490',\n",
       " 'GV0816_Pos13_415_RFP': '602',\n",
       " 'GV0816_Pos13_478_RFP': '773',\n",
       " 'GV0816_Pos13_635_RFP': '778',\n",
       " 'GV0816_Pos13_679_RFP': '778',\n",
       " 'GV0816_Pos13_42_RFP': '853',\n",
       " 'GV0798_Pos20_239_RFP': '491',\n",
       " 'GV0798_Pos20_246_RFP': '501',\n",
       " 'GV0798_Pos20_267_RFP': '643',\n",
       " 'GV0798_Pos20_311_RFP': '638',\n",
       " 'GV0798_Pos20_263_RFP': '729',\n",
       " 'GV0798_Pos20_240_RFP': '729',\n",
       " 'GV0798_Pos20_173_RFP': '805',\n",
       " 'GV0798_Pos20_310_RFP': '819',\n",
       " 'GV0798_Pos20_343_RFP': '784',\n",
       " 'GV0798_Pos20_442_RFP': '794',\n",
       " 'GV0798_Pos20_502_RFP': '812',\n",
       " 'GV0798_Pos20_503_RFP': '812',\n",
       " 'GV0798_Pos20_514_RFP': '818',\n",
       " 'GV0798_Pos20_513_RFP': '819',\n",
       " 'GV0798_Pos20_441_RFP': '837',\n",
       " 'GV0798_Pos20_190_RFP': '873',\n",
       " 'GV0798_Pos20_581_RFP': '888',\n",
       " 'GV0798_Pos20_580_RFP': '899',\n",
       " 'GV0818_Pos13_108_RFP': '210',\n",
       " 'GV0818_Pos13_107_RFP': '225',\n",
       " 'GV0818_Pos13_267_RFP': '523',\n",
       " 'GV0818_Pos13_306_RFP': '585',\n",
       " 'GV0818_Pos13_276_RFP': '574',\n",
       " 'GV0818_Pos13_27_RFP': '654',\n",
       " 'GV0818_Pos13_218_RFP': '795',\n",
       " 'GV0818_Pos13_282_RFP': '790',\n",
       " 'GV0818_Pos13_281_RFP': '747',\n",
       " 'GV0818_Pos13_457_RFP': '958',\n",
       " 'GV0818_Pos13_614_RFP': '964',\n",
       " 'GV0818_Pos13_214_RFP': '1007',\n",
       " 'GV0818_Pos13_712_RFP': '1010',\n",
       " 'GV0818_Pos13_357_RFP': '996',\n",
       " 'GV0818_Pos13_525_RFP': '916',\n",
       " 'GV0818_Pos13_539_RFP': '981',\n",
       " 'GV0815_Pos12_13_RFP': '148',\n",
       " 'GV0815_Pos12_69_RFP': '213',\n",
       " 'GV0815_Pos12_68_RFP': '239',\n",
       " 'GV0815_Pos12_67_RFP': '323',\n",
       " 'GV0815_Pos12_257_RFP': '733',\n",
       " 'GV0815_Pos12_59_RFP': '732',\n",
       " 'GV0815_Pos12_82_RFP': '757',\n",
       " 'GV0815_Pos12_307_RFP': '776',\n",
       " 'GV0815_Pos12_16_RFP': '797',\n",
       " 'GV0815_Pos12_206_RFP': '875',\n",
       " 'GV0815_Pos12_332_RFP': '851',\n",
       " 'GV0815_Pos12_165_RFP': '865',\n",
       " 'GV0815_Pos12_22_RFP': '911',\n",
       " 'GV0815_Pos12_562_RFP': '994',\n",
       " 'GV0815_Pos12_563_RFP': '991',\n",
       " 'GV0815_Pos12_339_RFP': '1041',\n",
       " 'GV0815_Pos12_655_RFP': '1119',\n",
       " 'GV0815_Pos12_373_RFP': '946',\n",
       " 'GV0815_Pos12_58_RFP': '904',\n",
       " 'GV0814_Pos23_116_RFP': '609',\n",
       " 'GV0814_Pos23_184_RFP': '790',\n",
       " 'GV0814_Pos23_3_RFP': '955',\n",
       " 'GV0795_Pos3_1_RFP': '115',\n",
       " 'GV0795_Pos3_66_RFP': '710',\n",
       " 'GV0795_Pos3_167_RFP': '742',\n",
       " 'GV0795_Pos3_7_RFP': '752',\n",
       " 'GV0795_Pos3_45_RFP': '1059',\n",
       " 'GV0795_Pos3_347_RFP': '1130',\n",
       " 'GV0795_Pos3_296_RFP': '1103',\n",
       " 'GV0795_Pos3_310_RFP': '1142',\n",
       " 'GV0798_Pos5_281_RFP': '744',\n",
       " 'GV0798_Pos5_364_RFP': '703',\n",
       " 'GV0798_Pos5_406_RFP': '694',\n",
       " 'GV0798_Pos5_374_RFP': '736',\n",
       " 'GV0798_Pos5_696_RFP': '852',\n",
       " 'GV0798_Pos5_682_RFP': '801',\n",
       " 'GV0798_Pos5_41_RFP': '0',\n",
       " 'GV0798_Pos5_407_RFP': '850',\n",
       " 'GV0798_Pos5_767_RFP': '848',\n",
       " 'GV0798_Pos5_17_RFP': '27',\n",
       " 'GV0798_Pos5_829_RFP': '844',\n",
       " 'GV0798_Pos5_830_RFP': '844',\n",
       " 'GV0798_Pos5_355_RFP': '585',\n",
       " 'GV0798_Pos5_493_RFP': '729',\n",
       " 'GV0798_Pos5_365_RFP': '638',\n",
       " 'GV0798_Pos5_491_RFP': '615',\n",
       " 'GV0798_Pos5_456_RFP': '743',\n",
       " 'GV0798_Pos5_810_RFP': '825',\n",
       " 'GV0798_Pos5_29_RFP': '84',\n",
       " 'GV0798_Pos5_786_RFP': '802',\n",
       " 'GV0796_Pos22_28_RFP': '225',\n",
       " 'GV0796_Pos22_370_RFP': '445',\n",
       " 'GV0796_Pos22_330_RFP': '471',\n",
       " 'GV0796_Pos22_339_RFP': '524',\n",
       " 'GV0796_Pos22_409_RFP': '524',\n",
       " 'GV0796_Pos22_291_RFP': '532',\n",
       " 'GV0796_Pos22_406_RFP': '503',\n",
       " 'GV0796_Pos22_174_RFP': '569',\n",
       " 'GV0796_Pos22_468_RFP': '618',\n",
       " 'GV0796_Pos22_346_RFP': '634',\n",
       " 'GV0796_Pos22_520_RFP': '670',\n",
       " 'GV0796_Pos22_519_RFP': '671',\n",
       " 'GV0796_Pos22_595_RFP': '701',\n",
       " 'GV0796_Pos22_596_RFP': '701',\n",
       " 'GV0796_Pos22_11_RFP': '871',\n",
       " 'GV0796_Pos22_324_RFP': '762',\n",
       " 'GV0796_Pos22_657_RFP': '781',\n",
       " 'GV0796_Pos22_658_RFP': '781',\n",
       " 'GV0796_Pos22_659_RFP': '808',\n",
       " 'GV0796_Pos22_588_RFP': '859',\n",
       " 'GV0814_Pos12_176_RFP': '753',\n",
       " 'GV0814_Pos12_28_RFP': '807',\n",
       " 'GV0814_Pos12_318_RFP': '802',\n",
       " 'GV0814_Pos12_177_RFP': '856',\n",
       " 'GV0814_Pos12_463_RFP': '846',\n",
       " 'GV0814_Pos12_200_RFP': '908',\n",
       " 'GV0814_Pos12_755_RFP': '1120',\n",
       " 'GV0814_Pos12_485_RFP': '1148',\n",
       " 'GV0817_Pos0_51_RFP': '313',\n",
       " 'GV0817_Pos0_367_RFP': '527',\n",
       " 'GV0817_Pos0_366_RFP': '503',\n",
       " 'GV0817_Pos0_425_RFP': '564',\n",
       " 'GV0817_Pos0_326_RFP': '579',\n",
       " 'GV0817_Pos0_552_RFP': '584',\n",
       " 'GV0817_Pos0_396_RFP': '635',\n",
       " 'GV0817_Pos0_758_RFP': '653',\n",
       " 'GV0817_Pos0_496_RFP': '699',\n",
       " 'GV0817_Pos0_801_RFP': '707',\n",
       " 'GV0817_Pos0_447_RFP': '707',\n",
       " 'GV0817_Pos0_405_RFP': '706',\n",
       " 'GV0817_Pos0_586_RFP': '733',\n",
       " 'GV0817_Pos0_610_RFP': '744',\n",
       " 'GV0817_Pos0_1084_RFP': '768',\n",
       " 'GV0817_Pos0_426_RFP': '810',\n",
       " 'GV0817_Pos0_395_RFP': '824',\n",
       " 'GV0817_Pos0_566_RFP': '859',\n",
       " 'GV0817_Pos0_495_RFP': '874',\n",
       " 'GV0817_Pos0_465_RFP': '958',\n",
       " 'GV0817_Pos0_984_RFP': '983',\n",
       " 'GV0817_Pos0_800_RFP': '954',\n",
       " 'GV0817_Pos0_1452_RFP': '972',\n",
       " 'GV0817_Pos0_846_RFP': '1056',\n",
       " 'GV0817_Pos0_1624_RFP': '1111',\n",
       " 'GV0817_Pos0_480_RFP': '1056',\n",
       " 'GV0817_Pos0_327_RFP': '1122',\n",
       " 'GV0817_Pos0_1526_RFP': '1154',\n",
       " 'GV0817_Pos0_458_RFP': '1141',\n",
       " 'GV0817_Pos0_817_RFP': '1079',\n",
       " 'GV0817_Pos0_236_RFP': '1174',\n",
       " 'GV0798_Pos23_937_RFP': '727',\n",
       " 'GV0798_Pos23_1339_RFP': '929',\n",
       " 'GV0798_Pos23_42_RFP': '81',\n",
       " 'GV0798_Pos23_15_RFP': '382',\n",
       " 'GV0798_Pos23_773_RFP': '807',\n",
       " 'GV0798_Pos23_6_RFP': '136',\n",
       " 'GV0798_Pos23_1236_RFP': '734',\n",
       " 'GV0798_Pos23_996_RFP': '760',\n",
       " 'GV0798_Pos23_1234_RFP': '788',\n",
       " 'GV0798_Pos23_43_RFP': '100',\n",
       " 'GV0798_Pos23_46_RFP': '180',\n",
       " 'GV0798_Pos23_799_RFP': '478',\n",
       " 'GV0798_Pos23_720_RFP': '722',\n",
       " 'GV0798_Pos23_721_RFP': '745',\n",
       " 'GV0798_Pos23_1217_RFP': '726',\n",
       " 'GV0798_Pos23_1532_RFP': '807',\n",
       " 'GV0798_Pos23_1533_RFP': '851',\n",
       " 'GV0798_Pos23_570_RFP': '602',\n",
       " 'GV0798_Pos23_596_RFP': '758',\n",
       " 'GV0798_Pos23_858_RFP': '802',\n",
       " 'GV0798_Pos23_995_RFP': '777',\n",
       " 'GV0798_Pos23_697_RFP': '906',\n",
       " 'GV0798_Pos23_1268_RFP': '666',\n",
       " 'GV0798_Pos23_1233_RFP': '665',\n",
       " 'GV0798_Pos23_1224_RFP': '665',\n",
       " 'GV0798_Pos23_1229_RFP': '665',\n",
       " 'GV0798_Pos23_1227_RFP': '665',\n",
       " 'GV0798_Pos23_1208_RFP': '665',\n",
       " 'GV0798_Pos23_692_RFP': '693',\n",
       " 'GV0798_Pos23_57_RFP': '799',\n",
       " 'GV0798_Pos23_91_RFP': '841',\n",
       " 'GV0798_Pos23_659_RFP': '513',\n",
       " 'GV0798_Pos23_62_RFP': '552',\n",
       " 'GV0798_Pos23_97_RFP': '699',\n",
       " 'GV0798_Pos23_488_RFP': '710',\n",
       " 'GV0798_Pos23_1424_RFP': '743',\n",
       " 'GV0798_Pos23_53_RFP': '855',\n",
       " 'GV0798_Pos23_83_RFP': '833',\n",
       " 'GV0798_Pos23_660_RFP': '577',\n",
       " 'GV0798_Pos23_25_RFP': '237',\n",
       " 'GV0798_Pos23_1249_RFP': '776',\n",
       " 'GV0798_Pos23_2102_RFP': '929',\n",
       " 'GV0798_Pos23_2103_RFP': '929',\n",
       " 'GV0817_Pos23_51_RFP': '392',\n",
       " 'GV0817_Pos23_16_RFP': '408',\n",
       " 'GV0817_Pos23_317_RFP': '506',\n",
       " 'GV0817_Pos23_409_RFP': '521',\n",
       " ...}"
      ]
     },
     "execution_count": 6,
     "metadata": {},
     "output_type": "execute_result"
    }
   ],
   "source": [
    "path_to_apop_lists = '/home/nathan/data/kraken/h2b/giulia/apoptosis_information/final/all'\n",
    "apop_dict = dataio.apoptosis_list_loader(path_to_apop_lists, 'Scr')\n",
    "apop_dict"
   ]
  },
  {
   "cell_type": "code",
   "execution_count": 10,
   "metadata": {},
   "outputs": [
    {
     "name": "stdout",
     "output_type": "stream",
     "text": [
      "Length of modified dict vs original: 385 / 385\n"
     ]
    }
   ],
   "source": [
    "### optional parallelisation step\n",
    "N_apops = len(apop_dict)\n",
    "para_frac_min, para_frac_max = int(0*N_apops), int(1*N_apops)  ## ie only do first 1/4 of all apops\n",
    "delete_list =[]\n",
    "for i, j in enumerate(apop_dict):\n",
    "    if not para_frac_min <= i< para_frac_max: \n",
    "        delete_list.append(j)\n",
    "for i in delete_list:\n",
    "    del apop_dict[i]\n",
    "print(\"Length of modified dict vs original:\", len(apop_dict), \"/\", N_apops)"
   ]
  },
  {
   "cell_type": "markdown",
   "metadata": {},
   "source": [
    "## 2) Load corresponding cell tracking data and specifiy other parameters\n",
    "\n",
    "`dataio.hdf5_file_finder(parent_folder_hdf5)` loads a list of all hdf5 files when supplied with the parent directory of all the experiments. This relies on a typical sub-parent directory structure of `'GV****/Pos*/*aligned/HDF/segmented.hdf5'` (aligned folder optional)"
   ]
  },
  {
   "cell_type": "code",
   "execution_count": 11,
   "metadata": {},
   "outputs": [],
   "source": [
    "### load tracking data\n",
    "parent_folder_hdf5 = '/home/nathan/data/kraken/h2b/giulia'\n",
    "hdf5_file_list = dataio.hdf5_file_finder(parent_folder_hdf5)\n",
    "\n",
    "### specify output path and neighbourhood scan parameters\n",
    "radius, t_range, num_bins = 400, 400, 10#800, 800, 20#400, 400, 10\n",
    "output_path = '/home/nathan/data/kraken/h2b/giulia/radial_analysis_output/follow/individual_spatiotemporal_heatmaps/{}.{}.{}/wt_apop_wt_div'.format(radius, t_range, num_bins)\n",
    "Path(output_path).mkdir(parents=True, exist_ok=True)"
   ]
  },
  {
   "cell_type": "markdown",
   "metadata": {},
   "source": [
    "## 3) Iteratively calculate and save out individual heatmaps\n",
    "\n",
    "This step can be time consuming (sequential scans around 385 apoptoses took 7 hours on i7)\n",
    "\n",
    "Function to calculate:\n",
    "\n",
    "`calculate.iterative_heatmap_generator(subject_cells = 'WT', subject_event = 'DIVIDE', apop_dict, hdf5_file_list, radius, t_range, num_bins, output_path)`\n",
    "\n",
    "Where the necessary input variables are as follows:\n",
    "- `subject_cells` = The population of cells to scan over looking for events, 'WT'/'Scr'/'All'\n",
    "- `subject_event` = The event type to look for, 'DIVIDE' or 'APOPTOSIS'\n",
    "- `apop_dict` = Previously defined python dictionary of {apoptosis ID: apoptosis time}\n",
    "- `hdf5_file_list` = List of locations of tracking files\n",
    "- `radius` = Distance to scan over around apoptosis\n",
    "- `t_range` = Time range to scan over around apoptosis (will scan t_range/2 before and after apoptosis)\n",
    "- `num_bins` = Number of bins the histogram is sorted into\n",
    "- `output_path` = Empty directory to save out individual apoptosis heatmap .npy arrays into\n"
   ]
  },
  {
   "cell_type": "code",
   "execution_count": 12,
   "metadata": {
    "scrolled": true
   },
   "outputs": [
    {
     "name": "stderr",
     "output_type": "stream",
     "text": [
      "  0%|          | 0/385 [00:00<?, ?it/s][INFO][2021/05/10 04:09:24 PM] Opening HDF file: /home/nathan/data/kraken/h2b/giulia/GV0819/Pos0/Pos0_aligned/HDF/segmented.hdf5...\n",
      "[INFO][2021/05/10 04:09:24 PM] Loading tracks/obj_type_1\n"
     ]
    },
    {
     "name": "stdout",
     "output_type": "stream",
     "text": [
      "ID GV0819_Pos0_677_GFP\n",
      "Loading GV0819/Pos0/\n",
      "Btrack version no.: 0.4.0\n"
     ]
    },
    {
     "name": "stderr",
     "output_type": "stream",
     "text": [
      "[INFO][2021/05/10 04:09:26 PM] Loading objects/obj_type_1 (285723, 5) (262105 filtered: area>=100)\n",
      "[INFO][2021/05/10 04:09:28 PM] Closing HDF file: /home/nathan/data/kraken/h2b/giulia/GV0819/Pos0/Pos0_aligned/HDF/segmented.hdf5\n",
      "[INFO][2021/05/10 04:09:28 PM] Opening HDF file: /home/nathan/data/kraken/h2b/giulia/GV0819/Pos0/Pos0_aligned/HDF/segmented.hdf5...\n",
      "[INFO][2021/05/10 04:09:28 PM] Loading tracks/obj_type_2\n",
      "[INFO][2021/05/10 04:09:29 PM] Loading objects/obj_type_2 (79945, 5) (62473 filtered: area>=100)\n",
      "[INFO][2021/05/10 04:09:30 PM] Closing HDF file: /home/nathan/data/kraken/h2b/giulia/GV0819/Pos0/Pos0_aligned/HDF/segmented.hdf5\n"
     ]
    },
    {
     "name": "stdout",
     "output_type": "stream",
     "text": [
      "Track information loaded and ordered according to cell type (WT IDs >0> Scr IDs)\n",
      "Loaded GV0819/Pos0/\n"
     ]
    },
    {
     "name": "stderr",
     "output_type": "stream",
     "text": [
      "\r",
      "  0%|          | 1/385 [01:01<6:30:33, 61.03s/it]"
     ]
    },
    {
     "name": "stdout",
     "output_type": "stream",
     "text": [
      "ID GV0819_Pos0_913_GFP\n"
     ]
    },
    {
     "name": "stderr",
     "output_type": "stream",
     "text": [
      "\r",
      "  1%|          | 2/385 [03:00<10:10:50, 95.69s/it]"
     ]
    },
    {
     "name": "stdout",
     "output_type": "stream",
     "text": [
      "ID GV0819_Pos0_898_GFP\n"
     ]
    },
    {
     "name": "stderr",
     "output_type": "stream",
     "text": [
      "\r",
      "  1%|          | 3/385 [04:33<9:59:20, 94.14s/it] "
     ]
    },
    {
     "name": "stdout",
     "output_type": "stream",
     "text": [
      "ID GV0819_Pos0_22_GFP\n"
     ]
    },
    {
     "name": "stderr",
     "output_type": "stream",
     "text": [
      "\r",
      "  1%|          | 4/385 [11:18<22:57:49, 216.98s/it]"
     ]
    },
    {
     "name": "stdout",
     "output_type": "stream",
     "text": [
      "ID GV0819_Pos0_1_GFP\n"
     ]
    },
    {
     "name": "stderr",
     "output_type": "stream",
     "text": [
      "\r",
      "  1%|▏         | 5/385 [17:29<28:45:51, 272.50s/it]"
     ]
    },
    {
     "name": "stdout",
     "output_type": "stream",
     "text": [
      "ID GV0819_Pos0_1831_GFP\n"
     ]
    },
    {
     "name": "stderr",
     "output_type": "stream",
     "text": [
      "\r",
      "  2%|▏         | 6/385 [19:25<23:04:07, 219.12s/it]"
     ]
    },
    {
     "name": "stdout",
     "output_type": "stream",
     "text": [
      "ID GV0819_Pos0_897_GFP\n"
     ]
    },
    {
     "name": "stderr",
     "output_type": "stream",
     "text": [
      "\r",
      "  2%|▏         | 7/385 [23:30<23:53:48, 227.59s/it]"
     ]
    },
    {
     "name": "stdout",
     "output_type": "stream",
     "text": [
      "ID GV0819_Pos0_847_GFP\n"
     ]
    },
    {
     "name": "stderr",
     "output_type": "stream",
     "text": [
      "\r",
      "  2%|▏         | 8/385 [26:23<22:01:53, 210.38s/it]"
     ]
    },
    {
     "name": "stdout",
     "output_type": "stream",
     "text": [
      "ID GV0819_Pos0_846_GFP\n"
     ]
    },
    {
     "name": "stderr",
     "output_type": "stream",
     "text": [
      "\r",
      "  2%|▏         | 9/385 [28:53<19:59:47, 191.46s/it]"
     ]
    },
    {
     "name": "stdout",
     "output_type": "stream",
     "text": [
      "ID GV0819_Pos0_1712_GFP\n"
     ]
    },
    {
     "name": "stderr",
     "output_type": "stream",
     "text": [
      "\r",
      "  3%|▎         | 10/385 [29:55<15:47:43, 151.64s/it]"
     ]
    },
    {
     "name": "stdout",
     "output_type": "stream",
     "text": [
      "ID GV0819_Pos0_2151_GFP\n"
     ]
    },
    {
     "name": "stderr",
     "output_type": "stream",
     "text": [
      "\r",
      "  3%|▎         | 11/385 [31:23<13:43:28, 132.11s/it]"
     ]
    },
    {
     "name": "stdout",
     "output_type": "stream",
     "text": [
      "ID GV0819_Pos0_673_GFP\n"
     ]
    },
    {
     "name": "stderr",
     "output_type": "stream",
     "text": [
      "\r",
      "  3%|▎         | 12/385 [35:12<16:43:51, 161.48s/it]"
     ]
    },
    {
     "name": "stdout",
     "output_type": "stream",
     "text": [
      "ID GV0819_Pos0_1319_GFP\n"
     ]
    },
    {
     "name": "stderr",
     "output_type": "stream",
     "text": [
      "\r",
      "  3%|▎         | 13/385 [38:14<17:19:13, 167.62s/it]"
     ]
    },
    {
     "name": "stdout",
     "output_type": "stream",
     "text": [
      "ID GV0819_Pos0_2622_GFP\n"
     ]
    },
    {
     "name": "stderr",
     "output_type": "stream",
     "text": [
      "\r",
      "  4%|▎         | 14/385 [38:48<13:08:00, 127.44s/it]"
     ]
    },
    {
     "name": "stdout",
     "output_type": "stream",
     "text": [
      "ID GV0819_Pos0_1622_GFP\n"
     ]
    },
    {
     "name": "stderr",
     "output_type": "stream",
     "text": [
      "\r",
      "  4%|▍         | 15/385 [40:32<12:22:01, 120.33s/it]"
     ]
    },
    {
     "name": "stdout",
     "output_type": "stream",
     "text": [
      "ID GV0819_Pos0_98_GFP\n"
     ]
    },
    {
     "name": "stderr",
     "output_type": "stream",
     "text": [
      "\r",
      "  4%|▍         | 16/385 [47:55<22:17:15, 217.44s/it]"
     ]
    },
    {
     "name": "stdout",
     "output_type": "stream",
     "text": [
      "ID GV0819_Pos0_2345_GFP\n"
     ]
    },
    {
     "name": "stderr",
     "output_type": "stream",
     "text": [
      "\r",
      "  4%|▍         | 17/385 [48:49<17:12:51, 168.40s/it]"
     ]
    },
    {
     "name": "stdout",
     "output_type": "stream",
     "text": [
      "ID GV0819_Pos0_643_GFP\n"
     ]
    },
    {
     "name": "stderr",
     "output_type": "stream",
     "text": [
      "\r",
      "  5%|▍         | 18/385 [51:47<17:26:28, 171.09s/it]"
     ]
    },
    {
     "name": "stdout",
     "output_type": "stream",
     "text": [
      "ID GV0819_Pos0_1588_GFP\n"
     ]
    },
    {
     "name": "stderr",
     "output_type": "stream",
     "text": [
      "\r",
      "  5%|▍         | 19/385 [54:51<17:48:09, 175.11s/it]"
     ]
    },
    {
     "name": "stdout",
     "output_type": "stream",
     "text": [
      "ID GV0819_Pos0_1587_GFP\n"
     ]
    },
    {
     "name": "stderr",
     "output_type": "stream",
     "text": [
      "\r",
      "  5%|▌         | 20/385 [57:46<17:43:49, 174.88s/it]"
     ]
    },
    {
     "name": "stdout",
     "output_type": "stream",
     "text": [
      "ID GV0819_Pos0_843_GFP\n"
     ]
    },
    {
     "name": "stderr",
     "output_type": "stream",
     "text": [
      "\r",
      "  5%|▌         | 21/385 [1:02:14<20:31:08, 202.94s/it]"
     ]
    },
    {
     "name": "stdout",
     "output_type": "stream",
     "text": [
      "ID GV0819_Pos0_2269_GFP\n"
     ]
    },
    {
     "name": "stderr",
     "output_type": "stream",
     "text": [
      "\r",
      "  6%|▌         | 22/385 [1:03:23<16:25:03, 162.82s/it]"
     ]
    },
    {
     "name": "stdout",
     "output_type": "stream",
     "text": [
      "ID GV0819_Pos0_2268_GFP\n"
     ]
    },
    {
     "name": "stderr",
     "output_type": "stream",
     "text": [
      "\r",
      "  6%|▌         | 23/385 [1:04:34<13:35:10, 135.11s/it]"
     ]
    },
    {
     "name": "stdout",
     "output_type": "stream",
     "text": [
      "ID GV0819_Pos0_1371_GFP\n"
     ]
    },
    {
     "name": "stderr",
     "output_type": "stream",
     "text": [
      "\r",
      "  6%|▌         | 24/385 [1:08:13<16:04:32, 160.31s/it]"
     ]
    },
    {
     "name": "stdout",
     "output_type": "stream",
     "text": [
      "ID GV0819_Pos0_1370_GFP\n"
     ]
    },
    {
     "name": "stderr",
     "output_type": "stream",
     "text": [
      "\r",
      "  6%|▋         | 25/385 [1:11:29<17:06:34, 171.10s/it]"
     ]
    },
    {
     "name": "stdout",
     "output_type": "stream",
     "text": [
      "ID GV0819_Pos0_838_GFP\n"
     ]
    },
    {
     "name": "stderr",
     "output_type": "stream",
     "text": [
      "\r",
      "  7%|▋         | 26/385 [1:16:05<20:12:33, 202.66s/it]"
     ]
    },
    {
     "name": "stdout",
     "output_type": "stream",
     "text": [
      "ID GV0819_Pos0_912_GFP\n"
     ]
    },
    {
     "name": "stderr",
     "output_type": "stream",
     "text": [
      "\r",
      "  7%|▋         | 27/385 [1:20:29<21:58:44, 221.02s/it]"
     ]
    },
    {
     "name": "stdout",
     "output_type": "stream",
     "text": [
      "ID GV0819_Pos0_1272_GFP\n"
     ]
    },
    {
     "name": "stderr",
     "output_type": "stream",
     "text": [
      "\r",
      "  7%|▋         | 28/385 [1:23:29<20:41:42, 208.69s/it]"
     ]
    },
    {
     "name": "stdout",
     "output_type": "stream",
     "text": [
      "ID GV0819_Pos0_144_GFP\n"
     ]
    },
    {
     "name": "stderr",
     "output_type": "stream",
     "text": [
      "\r",
      "  8%|▊         | 29/385 [1:29:34<25:15:46, 255.47s/it]"
     ]
    },
    {
     "name": "stdout",
     "output_type": "stream",
     "text": [
      "ID GV0819_Pos0_1210_GFP\n"
     ]
    },
    {
     "name": "stderr",
     "output_type": "stream",
     "text": [
      "\r",
      "  8%|▊         | 30/385 [1:32:40<23:09:21, 234.82s/it]"
     ]
    },
    {
     "name": "stdout",
     "output_type": "stream",
     "text": [
      "ID GV0819_Pos0_1211_GFP\n"
     ]
    },
    {
     "name": "stderr",
     "output_type": "stream",
     "text": [
      "\r",
      "  8%|▊         | 31/385 [1:35:03<20:21:56, 207.11s/it]"
     ]
    },
    {
     "name": "stdout",
     "output_type": "stream",
     "text": [
      "ID GV0819_Pos0_3087_GFP\n"
     ]
    },
    {
     "name": "stderr",
     "output_type": "stream",
     "text": [
      "\r",
      "  8%|▊         | 32/385 [1:35:45<15:26:44, 157.52s/it]"
     ]
    },
    {
     "name": "stdout",
     "output_type": "stream",
     "text": [
      "ID GV0819_Pos0_3037_GFP\n"
     ]
    },
    {
     "name": "stderr",
     "output_type": "stream",
     "text": [
      "\r",
      "  9%|▊         | 33/385 [1:36:13<11:36:28, 118.72s/it]"
     ]
    },
    {
     "name": "stdout",
     "output_type": "stream",
     "text": [
      "ID GV0819_Pos0_1740_GFP\n"
     ]
    },
    {
     "name": "stderr",
     "output_type": "stream",
     "text": [
      "\r",
      "  9%|▉         | 34/385 [1:38:40<12:24:25, 127.25s/it]"
     ]
    },
    {
     "name": "stdout",
     "output_type": "stream",
     "text": [
      "ID GV0819_Pos0_1742_GFP\n"
     ]
    },
    {
     "name": "stderr",
     "output_type": "stream",
     "text": [
      "\r",
      "  9%|▉         | 35/385 [1:41:16<13:12:31, 135.86s/it]"
     ]
    },
    {
     "name": "stdout",
     "output_type": "stream",
     "text": [
      "ID GV0819_Pos0_829_GFP\n"
     ]
    },
    {
     "name": "stderr",
     "output_type": "stream",
     "text": [
      "\r",
      "  9%|▉         | 36/385 [1:45:42<16:58:03, 175.03s/it]"
     ]
    },
    {
     "name": "stdout",
     "output_type": "stream",
     "text": [
      "ID GV0819_Pos0_1074_GFP\n"
     ]
    },
    {
     "name": "stderr",
     "output_type": "stream",
     "text": [
      "\r",
      " 10%|▉         | 37/385 [1:49:43<18:49:46, 194.79s/it]"
     ]
    },
    {
     "name": "stdout",
     "output_type": "stream",
     "text": [
      "ID GV0819_Pos0_2369_GFP\n"
     ]
    },
    {
     "name": "stderr",
     "output_type": "stream",
     "text": [
      "\r",
      " 10%|▉         | 38/385 [1:51:34<16:20:24, 169.52s/it]"
     ]
    },
    {
     "name": "stdout",
     "output_type": "stream",
     "text": [
      "ID GV0819_Pos0_2308_GFP\n"
     ]
    },
    {
     "name": "stderr",
     "output_type": "stream",
     "text": [
      "\r",
      " 10%|█         | 39/385 [1:53:26<14:39:06, 152.45s/it]"
     ]
    },
    {
     "name": "stdout",
     "output_type": "stream",
     "text": [
      "ID GV0819_Pos0_3216_GFP\n"
     ]
    },
    {
     "name": "stderr",
     "output_type": "stream",
     "text": [
      "\r",
      " 10%|█         | 40/385 [1:53:58<11:08:26, 116.25s/it]"
     ]
    },
    {
     "name": "stdout",
     "output_type": "stream",
     "text": [
      "ID GV0819_Pos0_2206_GFP\n"
     ]
    },
    {
     "name": "stderr",
     "output_type": "stream",
     "text": [
      "\r",
      " 11%|█         | 41/385 [1:56:16<11:44:19, 122.85s/it]"
     ]
    },
    {
     "name": "stdout",
     "output_type": "stream",
     "text": [
      "ID GV0819_Pos0_2018_GFP\n"
     ]
    },
    {
     "name": "stderr",
     "output_type": "stream",
     "text": [
      "\r",
      " 11%|█         | 42/385 [1:58:17<11:38:56, 122.26s/it]"
     ]
    },
    {
     "name": "stdout",
     "output_type": "stream",
     "text": [
      "ID GV0819_Pos0_2009_GFP\n"
     ]
    },
    {
     "name": "stderr",
     "output_type": "stream",
     "text": [
      "\r",
      " 11%|█         | 43/385 [2:00:29<11:52:29, 125.00s/it]"
     ]
    },
    {
     "name": "stdout",
     "output_type": "stream",
     "text": [
      "ID GV0819_Pos0_412_GFP\n"
     ]
    },
    {
     "name": "stderr",
     "output_type": "stream",
     "text": [
      "\r",
      " 11%|█▏        | 44/385 [2:05:58<17:38:28, 186.24s/it]"
     ]
    },
    {
     "name": "stdout",
     "output_type": "stream",
     "text": [
      "ID GV0819_Pos0_1737_GFP\n"
     ]
    },
    {
     "name": "stderr",
     "output_type": "stream",
     "text": [
      "\r",
      " 12%|█▏        | 45/385 [2:08:45<17:02:41, 180.47s/it]"
     ]
    },
    {
     "name": "stdout",
     "output_type": "stream",
     "text": [
      "ID GV0819_Pos0_2886_GFP\n"
     ]
    },
    {
     "name": "stderr",
     "output_type": "stream",
     "text": [
      " 12%|█▏        | 46/385 [2:09:44<13:33:51, 144.04s/it][INFO][2021/05/10 06:19:09 PM] Opening HDF file: /home/nathan/data/kraken/h2b/giulia/GV0814/Pos12/Pos12_aligned/HDF/segmented.hdf5...\n",
      "[INFO][2021/05/10 06:19:09 PM] Loading tracks/obj_type_1\n"
     ]
    },
    {
     "name": "stdout",
     "output_type": "stream",
     "text": [
      "ID GV0814_Pos12_354_GFP\n",
      "Loading GV0814/Pos12/\n",
      "Btrack version no.: 0.4.0\n"
     ]
    },
    {
     "name": "stderr",
     "output_type": "stream",
     "text": [
      "[INFO][2021/05/10 06:19:11 PM] Loading objects/obj_type_1 (387469, 5) (361100 filtered: area>=100)\n",
      "[INFO][2021/05/10 06:19:15 PM] Closing HDF file: /home/nathan/data/kraken/h2b/giulia/GV0814/Pos12/Pos12_aligned/HDF/segmented.hdf5\n",
      "[INFO][2021/05/10 06:19:15 PM] Opening HDF file: /home/nathan/data/kraken/h2b/giulia/GV0814/Pos12/Pos12_aligned/HDF/segmented.hdf5...\n",
      "[INFO][2021/05/10 06:19:15 PM] Loading tracks/obj_type_2\n",
      "[INFO][2021/05/10 06:19:16 PM] Loading objects/obj_type_2 (48265, 5) (39349 filtered: area>=100)\n",
      "[INFO][2021/05/10 06:19:17 PM] Closing HDF file: /home/nathan/data/kraken/h2b/giulia/GV0814/Pos12/Pos12_aligned/HDF/segmented.hdf5\n"
     ]
    },
    {
     "name": "stdout",
     "output_type": "stream",
     "text": [
      "Track information loaded and ordered according to cell type (WT IDs >0> Scr IDs)\n",
      "Loaded GV0814/Pos12/\n"
     ]
    },
    {
     "name": "stderr",
     "output_type": "stream",
     "text": [
      "\r",
      " 12%|█▏        | 47/385 [2:13:24<15:40:26, 166.94s/it]"
     ]
    },
    {
     "name": "stdout",
     "output_type": "stream",
     "text": [
      "ID GV0814_Pos12_3629_GFP\n"
     ]
    },
    {
     "name": "stderr",
     "output_type": "stream",
     "text": [
      " 12%|█▏        | 48/385 [2:14:49<13:19:04, 142.27s/it][INFO][2021/05/10 06:24:14 PM] Opening HDF file: /home/nathan/data/kraken/h2b/giulia/GV0795/Pos4/Pos4_aligned/HDF/segmented.hdf5...\n",
      "[INFO][2021/05/10 06:24:14 PM] Loading tracks/obj_type_1\n"
     ]
    },
    {
     "name": "stdout",
     "output_type": "stream",
     "text": [
      "ID GV0795_Pos4_358_GFP\n",
      "Loading GV0795/Pos4/\n",
      "Btrack version no.: 0.4.0\n"
     ]
    },
    {
     "name": "stderr",
     "output_type": "stream",
     "text": [
      "[INFO][2021/05/10 06:24:16 PM] Loading objects/obj_type_1 (211479, 5) (197642 filtered: area>=100)\n",
      "[INFO][2021/05/10 06:24:18 PM] Closing HDF file: /home/nathan/data/kraken/h2b/giulia/GV0795/Pos4/Pos4_aligned/HDF/segmented.hdf5\n",
      "[INFO][2021/05/10 06:24:18 PM] Opening HDF file: /home/nathan/data/kraken/h2b/giulia/GV0795/Pos4/Pos4_aligned/HDF/segmented.hdf5...\n",
      "[INFO][2021/05/10 06:24:18 PM] Loading tracks/obj_type_2\n",
      "[INFO][2021/05/10 06:24:19 PM] Loading objects/obj_type_2 (49070, 5) (38203 filtered: area>=100)\n",
      "[INFO][2021/05/10 06:24:19 PM] Closing HDF file: /home/nathan/data/kraken/h2b/giulia/GV0795/Pos4/Pos4_aligned/HDF/segmented.hdf5\n"
     ]
    },
    {
     "name": "stdout",
     "output_type": "stream",
     "text": [
      "Track information loaded and ordered according to cell type (WT IDs >0> Scr IDs)\n",
      "Loaded GV0795/Pos4/\n"
     ]
    },
    {
     "name": "stderr",
     "output_type": "stream",
     "text": [
      "\r",
      " 13%|█▎        | 49/385 [2:17:12<13:18:42, 142.63s/it]"
     ]
    },
    {
     "name": "stdout",
     "output_type": "stream",
     "text": [
      "ID GV0795_Pos4_18_GFP\n"
     ]
    },
    {
     "name": "stderr",
     "output_type": "stream",
     "text": [
      "\r",
      " 13%|█▎        | 50/385 [2:21:45<16:53:29, 181.52s/it]"
     ]
    },
    {
     "name": "stdout",
     "output_type": "stream",
     "text": [
      "ID GV0795_Pos4_1356_GFP\n"
     ]
    },
    {
     "name": "stderr",
     "output_type": "stream",
     "text": [
      "\r",
      " 13%|█▎        | 51/385 [2:22:26<12:56:14, 139.44s/it]"
     ]
    },
    {
     "name": "stdout",
     "output_type": "stream",
     "text": [
      "ID GV0795_Pos4_359_GFP\n"
     ]
    },
    {
     "name": "stderr",
     "output_type": "stream",
     "text": [
      " 14%|█▎        | 52/385 [2:25:44<14:31:04, 156.95s/it][INFO][2021/05/10 06:35:09 PM] Opening HDF file: /home/nathan/data/kraken/h2b/giulia/GV0817/Pos0/Pos0_aligned/HDF/segmented.hdf5...\n",
      "[INFO][2021/05/10 06:35:09 PM] Loading tracks/obj_type_1\n"
     ]
    },
    {
     "name": "stdout",
     "output_type": "stream",
     "text": [
      "ID GV0817_Pos0_7_GFP\n",
      "Loading GV0817/Pos0/\n",
      "Btrack version no.: 0.4.0\n"
     ]
    },
    {
     "name": "stderr",
     "output_type": "stream",
     "text": [
      "[INFO][2021/05/10 06:35:11 PM] Loading objects/obj_type_1 (279987, 5) (256086 filtered: area>=100)\n",
      "[INFO][2021/05/10 06:35:15 PM] Closing HDF file: /home/nathan/data/kraken/h2b/giulia/GV0817/Pos0/Pos0_aligned/HDF/segmented.hdf5\n",
      "[INFO][2021/05/10 06:35:15 PM] Opening HDF file: /home/nathan/data/kraken/h2b/giulia/GV0817/Pos0/Pos0_aligned/HDF/segmented.hdf5...\n",
      "[INFO][2021/05/10 06:35:15 PM] Loading tracks/obj_type_2\n",
      "[INFO][2021/05/10 06:35:16 PM] Loading objects/obj_type_2 (113873, 5) (83931 filtered: area>=100)\n",
      "[INFO][2021/05/10 06:35:17 PM] Closing HDF file: /home/nathan/data/kraken/h2b/giulia/GV0817/Pos0/Pos0_aligned/HDF/segmented.hdf5\n"
     ]
    },
    {
     "name": "stdout",
     "output_type": "stream",
     "text": [
      "Track information loaded and ordered according to cell type (WT IDs >0> Scr IDs)\n",
      "Loaded GV0817/Pos0/\n"
     ]
    },
    {
     "name": "stderr",
     "output_type": "stream",
     "text": [
      "\r",
      " 14%|█▍        | 53/385 [2:30:54<18:42:30, 202.86s/it]"
     ]
    },
    {
     "name": "stdout",
     "output_type": "stream",
     "text": [
      "ID GV0817_Pos0_901_GFP\n"
     ]
    },
    {
     "name": "stderr",
     "output_type": "stream",
     "text": [
      "\r",
      " 14%|█▍        | 54/385 [2:32:35<15:50:34, 172.31s/it]"
     ]
    },
    {
     "name": "stdout",
     "output_type": "stream",
     "text": [
      "ID GV0817_Pos0_1108_GFP\n"
     ]
    },
    {
     "name": "stderr",
     "output_type": "stream",
     "text": [
      "\r",
      " 14%|█▍        | 55/385 [2:34:06<13:33:33, 147.92s/it]"
     ]
    },
    {
     "name": "stdout",
     "output_type": "stream",
     "text": [
      "ID GV0817_Pos0_1541_GFP\n"
     ]
    },
    {
     "name": "stderr",
     "output_type": "stream",
     "text": [
      "\r",
      " 15%|█▍        | 56/385 [2:36:59<14:12:40, 155.50s/it]"
     ]
    },
    {
     "name": "stdout",
     "output_type": "stream",
     "text": [
      "ID GV0817_Pos0_2082_GFP\n"
     ]
    },
    {
     "name": "stderr",
     "output_type": "stream",
     "text": [
      "\r",
      " 15%|█▍        | 57/385 [2:37:49<11:17:04, 123.86s/it]"
     ]
    },
    {
     "name": "stdout",
     "output_type": "stream",
     "text": [
      "ID GV0817_Pos0_737_GFP\n"
     ]
    },
    {
     "name": "stderr",
     "output_type": "stream",
     "text": [
      "\r",
      " 15%|█▌        | 58/385 [2:40:51<12:49:50, 141.25s/it]"
     ]
    },
    {
     "name": "stdout",
     "output_type": "stream",
     "text": [
      "ID GV0817_Pos0_1731_GFP\n"
     ]
    },
    {
     "name": "stderr",
     "output_type": "stream",
     "text": [
      "\r",
      " 15%|█▌        | 59/385 [2:42:27<11:34:21, 127.80s/it]"
     ]
    },
    {
     "name": "stdout",
     "output_type": "stream",
     "text": [
      "ID GV0817_Pos0_1542_GFP\n"
     ]
    },
    {
     "name": "stderr",
     "output_type": "stream",
     "text": [
      "\r",
      " 16%|█▌        | 60/385 [2:44:23<11:12:13, 124.10s/it]"
     ]
    },
    {
     "name": "stdout",
     "output_type": "stream",
     "text": [
      "ID GV0817_Pos0_687_GFP\n"
     ]
    },
    {
     "name": "stderr",
     "output_type": "stream",
     "text": [
      "\r",
      " 16%|█▌        | 61/385 [2:48:27<14:24:17, 160.05s/it]"
     ]
    },
    {
     "name": "stdout",
     "output_type": "stream",
     "text": [
      "ID GV0817_Pos0_1440_GFP\n"
     ]
    },
    {
     "name": "stderr",
     "output_type": "stream",
     "text": [
      "\r",
      " 16%|█▌        | 62/385 [2:51:25<14:51:31, 165.61s/it]"
     ]
    },
    {
     "name": "stdout",
     "output_type": "stream",
     "text": [
      "ID GV0817_Pos0_1928_GFP\n"
     ]
    },
    {
     "name": "stderr",
     "output_type": "stream",
     "text": [
      "\r",
      " 16%|█▋        | 63/385 [2:53:06<13:05:01, 146.28s/it]"
     ]
    },
    {
     "name": "stdout",
     "output_type": "stream",
     "text": [
      "ID GV0817_Pos0_224_GFP\n"
     ]
    },
    {
     "name": "stderr",
     "output_type": "stream",
     "text": [
      "\r",
      " 17%|█▋        | 64/385 [2:57:33<16:15:52, 182.41s/it]"
     ]
    },
    {
     "name": "stdout",
     "output_type": "stream",
     "text": [
      "ID GV0817_Pos0_2109_GFP\n"
     ]
    },
    {
     "name": "stderr",
     "output_type": "stream",
     "text": [
      "\r",
      " 17%|█▋        | 65/385 [2:59:42<14:47:31, 166.41s/it]"
     ]
    },
    {
     "name": "stdout",
     "output_type": "stream",
     "text": [
      "ID GV0817_Pos0_2855_GFP\n"
     ]
    },
    {
     "name": "stderr",
     "output_type": "stream",
     "text": [
      "\r",
      " 17%|█▋        | 66/385 [3:00:50<12:08:14, 136.97s/it]"
     ]
    },
    {
     "name": "stdout",
     "output_type": "stream",
     "text": [
      "ID GV0817_Pos0_2188_GFP\n"
     ]
    },
    {
     "name": "stderr",
     "output_type": "stream",
     "text": [
      "\r",
      " 17%|█▋        | 67/385 [3:03:12<12:13:16, 138.35s/it]"
     ]
    },
    {
     "name": "stdout",
     "output_type": "stream",
     "text": [
      "ID GV0817_Pos0_2181_GFP\n"
     ]
    },
    {
     "name": "stderr",
     "output_type": "stream",
     "text": [
      " 18%|█▊        | 68/385 [3:05:31<12:11:32, 138.46s/it][INFO][2021/05/10 07:14:56 PM] Opening HDF file: /home/nathan/data/kraken/h2b/giulia/GV0813/Pos1/Pos1_aligned/HDF/segmented.hdf5...\n",
      "[INFO][2021/05/10 07:14:56 PM] Loading tracks/obj_type_1\n"
     ]
    },
    {
     "name": "stdout",
     "output_type": "stream",
     "text": [
      "ID GV0813_Pos1_886_GFP\n",
      "Loading GV0813/Pos1/\n",
      "Btrack version no.: 0.4.0\n"
     ]
    },
    {
     "name": "stderr",
     "output_type": "stream",
     "text": [
      "[INFO][2021/05/10 07:14:57 PM] Loading objects/obj_type_1 (149696, 5) (120384 filtered: area>=100)\n",
      "[INFO][2021/05/10 07:14:59 PM] Closing HDF file: /home/nathan/data/kraken/h2b/giulia/GV0813/Pos1/Pos1_aligned/HDF/segmented.hdf5\n",
      "[INFO][2021/05/10 07:14:59 PM] Opening HDF file: /home/nathan/data/kraken/h2b/giulia/GV0813/Pos1/Pos1_aligned/HDF/segmented.hdf5...\n",
      "[INFO][2021/05/10 07:14:59 PM] Loading tracks/obj_type_2\n",
      "[INFO][2021/05/10 07:14:59 PM] Loading objects/obj_type_2 (30851, 5) (22174 filtered: area>=100)\n",
      "[INFO][2021/05/10 07:14:59 PM] Closing HDF file: /home/nathan/data/kraken/h2b/giulia/GV0813/Pos1/Pos1_aligned/HDF/segmented.hdf5\n"
     ]
    },
    {
     "name": "stdout",
     "output_type": "stream",
     "text": [
      "Track information loaded and ordered according to cell type (WT IDs >0> Scr IDs)\n",
      "Loaded GV0813/Pos1/\n"
     ]
    },
    {
     "name": "stderr",
     "output_type": "stream",
     "text": [
      " 18%|█▊        | 69/385 [3:06:04<9:23:42, 107.03s/it] [INFO][2021/05/10 07:15:29 PM] Opening HDF file: /home/nathan/data/kraken/h2b/giulia/GV0819/Pos3/Pos3_aligned/HDF/segmented.hdf5...\n",
      "[INFO][2021/05/10 07:15:29 PM] Loading tracks/obj_type_1\n"
     ]
    },
    {
     "name": "stdout",
     "output_type": "stream",
     "text": [
      "ID GV0819_Pos3_586_GFP\n",
      "Loading GV0819/Pos3/\n",
      "Btrack version no.: 0.4.0\n"
     ]
    },
    {
     "name": "stderr",
     "output_type": "stream",
     "text": [
      "[INFO][2021/05/10 07:15:33 PM] Loading objects/obj_type_1 (444670, 5) (426511 filtered: area>=100)\n",
      "[INFO][2021/05/10 07:15:39 PM] Closing HDF file: /home/nathan/data/kraken/h2b/giulia/GV0819/Pos3/Pos3_aligned/HDF/segmented.hdf5\n",
      "[INFO][2021/05/10 07:15:39 PM] Opening HDF file: /home/nathan/data/kraken/h2b/giulia/GV0819/Pos3/Pos3_aligned/HDF/segmented.hdf5...\n",
      "[INFO][2021/05/10 07:15:39 PM] Loading tracks/obj_type_2\n",
      "[INFO][2021/05/10 07:15:40 PM] Loading objects/obj_type_2 (119062, 5) (102355 filtered: area>=100)\n",
      "[INFO][2021/05/10 07:15:42 PM] Closing HDF file: /home/nathan/data/kraken/h2b/giulia/GV0819/Pos3/Pos3_aligned/HDF/segmented.hdf5\n"
     ]
    },
    {
     "name": "stdout",
     "output_type": "stream",
     "text": [
      "Track information loaded and ordered according to cell type (WT IDs >0> Scr IDs)\n",
      "Loaded GV0819/Pos3/\n"
     ]
    },
    {
     "name": "stderr",
     "output_type": "stream",
     "text": [
      "\r",
      " 18%|█▊        | 70/385 [3:08:26<10:16:37, 117.45s/it]"
     ]
    },
    {
     "name": "stdout",
     "output_type": "stream",
     "text": [
      "ID GV0819_Pos3_741_GFP\n"
     ]
    },
    {
     "name": "stderr",
     "output_type": "stream",
     "text": [
      " 18%|█▊        | 71/385 [3:12:52<14:07:48, 162.00s/it][INFO][2021/05/10 07:22:17 PM] Opening HDF file: /home/nathan/data/kraken/h2b/giulia/GV0819/Pos4/Pos4_aligned/HDF/segmented.hdf5...\n",
      "[INFO][2021/05/10 07:22:17 PM] Loading tracks/obj_type_1\n"
     ]
    },
    {
     "name": "stdout",
     "output_type": "stream",
     "text": [
      "ID GV0819_Pos4_1586_GFP\n",
      "Loading GV0819/Pos4/\n",
      "Btrack version no.: 0.4.0\n"
     ]
    },
    {
     "name": "stderr",
     "output_type": "stream",
     "text": [
      "[INFO][2021/05/10 07:22:20 PM] Loading objects/obj_type_1 (393596, 5) (379449 filtered: area>=100)\n",
      "[INFO][2021/05/10 07:22:26 PM] Closing HDF file: /home/nathan/data/kraken/h2b/giulia/GV0819/Pos4/Pos4_aligned/HDF/segmented.hdf5\n",
      "[INFO][2021/05/10 07:22:26 PM] Opening HDF file: /home/nathan/data/kraken/h2b/giulia/GV0819/Pos4/Pos4_aligned/HDF/segmented.hdf5...\n",
      "[INFO][2021/05/10 07:22:26 PM] Loading tracks/obj_type_2\n",
      "[INFO][2021/05/10 07:22:27 PM] Loading objects/obj_type_2 (112602, 5) (100064 filtered: area>=100)\n",
      "[INFO][2021/05/10 07:22:29 PM] Closing HDF file: /home/nathan/data/kraken/h2b/giulia/GV0819/Pos4/Pos4_aligned/HDF/segmented.hdf5\n"
     ]
    },
    {
     "name": "stdout",
     "output_type": "stream",
     "text": [
      "Track information loaded and ordered according to cell type (WT IDs >0> Scr IDs)\n",
      "Loaded GV0819/Pos4/\n"
     ]
    },
    {
     "name": "stderr",
     "output_type": "stream",
     "text": [
      "\r",
      " 19%|█▊        | 72/385 [3:14:20<12:08:59, 139.74s/it]"
     ]
    },
    {
     "name": "stdout",
     "output_type": "stream",
     "text": [
      "ID GV0819_Pos4_2425_GFP\n"
     ]
    },
    {
     "name": "stderr",
     "output_type": "stream",
     "text": [
      "\r",
      " 19%|█▉        | 73/385 [3:16:38<12:04:33, 139.34s/it]"
     ]
    },
    {
     "name": "stdout",
     "output_type": "stream",
     "text": [
      "ID GV0819_Pos4_2609_GFP\n"
     ]
    },
    {
     "name": "stderr",
     "output_type": "stream",
     "text": [
      " 19%|█▉        | 74/385 [3:18:10<10:48:01, 125.02s/it][INFO][2021/05/10 07:27:35 PM] Opening HDF file: /home/nathan/data/kraken/h2b/giulia/GV0800/Pos6/Pos6_aligned/HDF/segmented.hdf5...\n",
      "[INFO][2021/05/10 07:27:35 PM] Loading tracks/obj_type_1\n"
     ]
    },
    {
     "name": "stdout",
     "output_type": "stream",
     "text": [
      "ID GV0800_Pos6_361_GFP\n",
      "Loading GV0800/Pos6/\n",
      "Btrack version no.: 0.4.0\n"
     ]
    },
    {
     "name": "stderr",
     "output_type": "stream",
     "text": [
      "[INFO][2021/05/10 07:27:35 PM] Loading objects/obj_type_1 (52406, 5) (44528 filtered: area>=100)\n",
      "[INFO][2021/05/10 07:27:36 PM] Closing HDF file: /home/nathan/data/kraken/h2b/giulia/GV0800/Pos6/Pos6_aligned/HDF/segmented.hdf5\n",
      "[INFO][2021/05/10 07:27:36 PM] Opening HDF file: /home/nathan/data/kraken/h2b/giulia/GV0800/Pos6/Pos6_aligned/HDF/segmented.hdf5...\n",
      "[INFO][2021/05/10 07:27:36 PM] Loading tracks/obj_type_2\n",
      "[INFO][2021/05/10 07:27:37 PM] Loading objects/obj_type_2 (113641, 5) (87932 filtered: area>=100)\n",
      "[INFO][2021/05/10 07:27:38 PM] Closing HDF file: /home/nathan/data/kraken/h2b/giulia/GV0800/Pos6/Pos6_aligned/HDF/segmented.hdf5\n"
     ]
    },
    {
     "name": "stdout",
     "output_type": "stream",
     "text": [
      "Track information loaded and ordered according to cell type (WT IDs >0> Scr IDs)\n",
      "Loaded GV0800/Pos6/\n"
     ]
    },
    {
     "name": "stderr",
     "output_type": "stream",
     "text": [
      "\r",
      " 19%|█▉        | 75/385 [3:18:26<7:56:34, 92.24s/it]  "
     ]
    },
    {
     "name": "stdout",
     "output_type": "stream",
     "text": [
      "ID GV0800_Pos6_302_GFP\n"
     ]
    },
    {
     "name": "stderr",
     "output_type": "stream",
     "text": [
      " 20%|█▉        | 76/385 [3:18:54<6:16:32, 73.11s/it][INFO][2021/05/10 07:28:19 PM] Opening HDF file: /home/nathan/data/kraken/h2b/giulia/GV0797/Pos8/Pos8_aligned/HDF/segmented.hdf5...\n",
      "[INFO][2021/05/10 07:28:19 PM] Loading tracks/obj_type_1\n"
     ]
    },
    {
     "name": "stdout",
     "output_type": "stream",
     "text": [
      "ID GV0797_Pos8_1104_GFP\n",
      "Loading GV0797/Pos8/\n",
      "Btrack version no.: 0.4.0\n"
     ]
    },
    {
     "name": "stderr",
     "output_type": "stream",
     "text": [
      "[INFO][2021/05/10 07:28:21 PM] Loading objects/obj_type_1 (294496, 5) (285144 filtered: area>=100)\n",
      "[INFO][2021/05/10 07:28:26 PM] Closing HDF file: /home/nathan/data/kraken/h2b/giulia/GV0797/Pos8/Pos8_aligned/HDF/segmented.hdf5\n",
      "[INFO][2021/05/10 07:28:26 PM] Opening HDF file: /home/nathan/data/kraken/h2b/giulia/GV0797/Pos8/Pos8_aligned/HDF/segmented.hdf5...\n",
      "[INFO][2021/05/10 07:28:26 PM] Loading tracks/obj_type_2\n",
      "[INFO][2021/05/10 07:28:26 PM] Loading objects/obj_type_2 (6854, 5) (5414 filtered: area>=100)\n",
      "[INFO][2021/05/10 07:28:26 PM] Closing HDF file: /home/nathan/data/kraken/h2b/giulia/GV0797/Pos8/Pos8_aligned/HDF/segmented.hdf5\n"
     ]
    },
    {
     "name": "stdout",
     "output_type": "stream",
     "text": [
      "Track information loaded and ordered according to cell type (WT IDs >0> Scr IDs)\n",
      "Loaded GV0797/Pos8/\n"
     ]
    },
    {
     "name": "stderr",
     "output_type": "stream",
     "text": [
      " 20%|██        | 77/385 [3:20:30<6:50:10, 79.90s/it][INFO][2021/05/10 07:29:55 PM] Opening HDF file: /home/nathan/data/kraken/h2b/giulia/GV0806/Pos3/Pos3_aligned/HDF/segmented.hdf5...\n",
      "[INFO][2021/05/10 07:29:55 PM] Loading tracks/obj_type_1\n"
     ]
    },
    {
     "name": "stdout",
     "output_type": "stream",
     "text": [
      "ID GV0806_Pos3_571_GFP\n",
      "Loading GV0806/Pos3/\n",
      "Btrack version no.: 0.4.0\n"
     ]
    },
    {
     "name": "stderr",
     "output_type": "stream",
     "text": [
      "[INFO][2021/05/10 07:30:01 PM] Loading objects/obj_type_1 (704893, 5) (675206 filtered: area>=100)\n",
      "[INFO][2021/05/10 07:30:12 PM] Closing HDF file: /home/nathan/data/kraken/h2b/giulia/GV0806/Pos3/Pos3_aligned/HDF/segmented.hdf5\n",
      "[INFO][2021/05/10 07:30:12 PM] Opening HDF file: /home/nathan/data/kraken/h2b/giulia/GV0806/Pos3/Pos3_aligned/HDF/segmented.hdf5...\n",
      "[INFO][2021/05/10 07:30:12 PM] Loading tracks/obj_type_2\n",
      "[INFO][2021/05/10 07:30:12 PM] Loading objects/obj_type_2 (18126, 5) (15960 filtered: area>=100)\n",
      "[INFO][2021/05/10 07:30:12 PM] Closing HDF file: /home/nathan/data/kraken/h2b/giulia/GV0806/Pos3/Pos3_aligned/HDF/segmented.hdf5\n"
     ]
    },
    {
     "name": "stdout",
     "output_type": "stream",
     "text": [
      "Track information loaded and ordered according to cell type (WT IDs >0> Scr IDs)\n",
      "Loaded GV0806/Pos3/\n"
     ]
    },
    {
     "name": "stderr",
     "output_type": "stream",
     "text": [
      " 20%|██        | 78/385 [3:23:45<9:45:32, 114.44s/it][INFO][2021/05/10 07:33:10 PM] Opening HDF file: /home/nathan/data/kraken/h2b/giulia/GV0796/Pos7/Pos7_aligned/HDF/segmented.hdf5...\n",
      "[INFO][2021/05/10 07:33:10 PM] Loading tracks/obj_type_1\n"
     ]
    },
    {
     "name": "stdout",
     "output_type": "stream",
     "text": [
      "ID GV0796_Pos7_44_GFP\n",
      "Loading GV0796/Pos7/\n",
      "Btrack version no.: 0.4.0\n"
     ]
    },
    {
     "name": "stderr",
     "output_type": "stream",
     "text": [
      "[INFO][2021/05/10 07:33:13 PM] Loading objects/obj_type_1 (510473, 5) (495699 filtered: area>=100)\n",
      "[INFO][2021/05/10 07:33:18 PM] Closing HDF file: /home/nathan/data/kraken/h2b/giulia/GV0796/Pos7/Pos7_aligned/HDF/segmented.hdf5\n",
      "[INFO][2021/05/10 07:33:18 PM] Opening HDF file: /home/nathan/data/kraken/h2b/giulia/GV0796/Pos7/Pos7_aligned/HDF/segmented.hdf5...\n",
      "[INFO][2021/05/10 07:33:18 PM] Loading tracks/obj_type_2\n",
      "[INFO][2021/05/10 07:33:18 PM] Loading objects/obj_type_2 (76238, 5) (63068 filtered: area>=100)\n",
      "[INFO][2021/05/10 07:33:19 PM] Closing HDF file: /home/nathan/data/kraken/h2b/giulia/GV0796/Pos7/Pos7_aligned/HDF/segmented.hdf5\n"
     ]
    },
    {
     "name": "stdout",
     "output_type": "stream",
     "text": [
      "Track information loaded and ordered according to cell type (WT IDs >0> Scr IDs)\n",
      "Loaded GV0796/Pos7/\n"
     ]
    },
    {
     "name": "stderr",
     "output_type": "stream",
     "text": [
      "\r",
      " 21%|██        | 79/385 [3:29:14<15:11:41, 178.76s/it]"
     ]
    },
    {
     "name": "stdout",
     "output_type": "stream",
     "text": [
      "ID GV0796_Pos7_541_GFP\n"
     ]
    },
    {
     "name": "stderr",
     "output_type": "stream",
     "text": [
      "\r",
      " 21%|██        | 80/385 [3:34:38<18:50:09, 222.32s/it]"
     ]
    },
    {
     "name": "stdout",
     "output_type": "stream",
     "text": [
      "ID GV0796_Pos7_803_GFP\n"
     ]
    },
    {
     "name": "stderr",
     "output_type": "stream",
     "text": [
      " 21%|██        | 81/385 [3:37:46<17:54:58, 212.17s/it][INFO][2021/05/10 07:47:11 PM] Opening HDF file: /home/nathan/data/kraken/h2b/giulia/GV0796/Pos19/Pos19_aligned/HDF/segmented.hdf5...\n",
      "[INFO][2021/05/10 07:47:11 PM] Loading tracks/obj_type_1\n"
     ]
    },
    {
     "name": "stdout",
     "output_type": "stream",
     "text": [
      "ID GV0796_Pos19_77_GFP\n",
      "Loading GV0796/Pos19/\n",
      "Btrack version no.: 0.4.0\n"
     ]
    },
    {
     "name": "stderr",
     "output_type": "stream",
     "text": [
      "[INFO][2021/05/10 07:47:14 PM] Loading objects/obj_type_1 (506574, 5) (490755 filtered: area>=100)\n",
      "[INFO][2021/05/10 07:47:19 PM] Closing HDF file: /home/nathan/data/kraken/h2b/giulia/GV0796/Pos19/Pos19_aligned/HDF/segmented.hdf5\n",
      "[INFO][2021/05/10 07:47:19 PM] Opening HDF file: /home/nathan/data/kraken/h2b/giulia/GV0796/Pos19/Pos19_aligned/HDF/segmented.hdf5...\n",
      "[INFO][2021/05/10 07:47:19 PM] Loading tracks/obj_type_2\n",
      "[INFO][2021/05/10 07:47:19 PM] Loading objects/obj_type_2 (13897, 5) (11779 filtered: area>=100)\n",
      "[INFO][2021/05/10 07:47:19 PM] Closing HDF file: /home/nathan/data/kraken/h2b/giulia/GV0796/Pos19/Pos19_aligned/HDF/segmented.hdf5\n"
     ]
    },
    {
     "name": "stdout",
     "output_type": "stream",
     "text": [
      "Track information loaded and ordered according to cell type (WT IDs >0> Scr IDs)\n",
      "Loaded GV0796/Pos19/\n"
     ]
    },
    {
     "name": "stderr",
     "output_type": "stream",
     "text": [
      "\r",
      " 21%|██▏       | 82/385 [3:43:19<20:53:27, 248.21s/it]"
     ]
    },
    {
     "name": "stdout",
     "output_type": "stream",
     "text": [
      "ID GV0796_Pos19_441_GFP\n"
     ]
    },
    {
     "name": "stderr",
     "output_type": "stream",
     "text": [
      "\r",
      " 22%|██▏       | 83/385 [3:45:55<18:30:34, 220.64s/it]"
     ]
    },
    {
     "name": "stdout",
     "output_type": "stream",
     "text": [
      "ID GV0796_Pos19_431_GFP\n"
     ]
    },
    {
     "name": "stderr",
     "output_type": "stream",
     "text": [
      "\r",
      " 22%|██▏       | 84/385 [3:49:33<18:22:29, 219.77s/it]"
     ]
    },
    {
     "name": "stdout",
     "output_type": "stream",
     "text": [
      "ID GV0796_Pos19_2161_GFP\n"
     ]
    },
    {
     "name": "stderr",
     "output_type": "stream",
     "text": [
      "\r",
      " 22%|██▏       | 85/385 [3:52:00<16:30:30, 198.10s/it]"
     ]
    },
    {
     "name": "stdout",
     "output_type": "stream",
     "text": [
      "ID GV0796_Pos19_1960_GFP\n"
     ]
    },
    {
     "name": "stderr",
     "output_type": "stream",
     "text": [
      " 22%|██▏       | 86/385 [3:55:49<17:13:48, 207.45s/it][INFO][2021/05/10 08:05:14 PM] Opening HDF file: /home/nathan/data/kraken/h2b/giulia/GV0797/Pos7/Pos7_aligned/HDF/segmented.hdf5...\n",
      "[INFO][2021/05/10 08:05:14 PM] Loading tracks/obj_type_1\n"
     ]
    },
    {
     "name": "stdout",
     "output_type": "stream",
     "text": [
      "ID GV0797_Pos7_724_GFP\n",
      "Loading GV0797/Pos7/\n",
      "Btrack version no.: 0.4.0\n"
     ]
    },
    {
     "name": "stderr",
     "output_type": "stream",
     "text": [
      "[INFO][2021/05/10 08:05:15 PM] Loading objects/obj_type_1 (207794, 5) (196573 filtered: area>=100)\n",
      "[INFO][2021/05/10 08:05:18 PM] Closing HDF file: /home/nathan/data/kraken/h2b/giulia/GV0797/Pos7/Pos7_aligned/HDF/segmented.hdf5\n",
      "[INFO][2021/05/10 08:05:18 PM] Opening HDF file: /home/nathan/data/kraken/h2b/giulia/GV0797/Pos7/Pos7_aligned/HDF/segmented.hdf5...\n",
      "[INFO][2021/05/10 08:05:18 PM] Loading tracks/obj_type_2\n",
      "[INFO][2021/05/10 08:05:18 PM] Loading objects/obj_type_2 (22939, 5) (18826 filtered: area>=100)\n",
      "[INFO][2021/05/10 08:05:18 PM] Closing HDF file: /home/nathan/data/kraken/h2b/giulia/GV0797/Pos7/Pos7_aligned/HDF/segmented.hdf5\n"
     ]
    },
    {
     "name": "stdout",
     "output_type": "stream",
     "text": [
      "Track information loaded and ordered according to cell type (WT IDs >0> Scr IDs)\n",
      "Loaded GV0797/Pos7/\n"
     ]
    },
    {
     "name": "stderr",
     "output_type": "stream",
     "text": [
      "\r",
      " 23%|██▎       | 87/385 [3:56:18<12:43:11, 153.66s/it]"
     ]
    },
    {
     "name": "stdout",
     "output_type": "stream",
     "text": [
      "ID GV0797_Pos7_192_GFP\n"
     ]
    },
    {
     "name": "stderr",
     "output_type": "stream",
     "text": [
      "\r",
      " 23%|██▎       | 88/385 [3:57:53<11:14:33, 136.27s/it]"
     ]
    },
    {
     "name": "stdout",
     "output_type": "stream",
     "text": [
      "ID GV0797_Pos7_230_GFP\n"
     ]
    },
    {
     "name": "stderr",
     "output_type": "stream",
     "text": [
      "\r",
      " 23%|██▎       | 89/385 [4:00:54<12:18:13, 149.64s/it]"
     ]
    },
    {
     "name": "stdout",
     "output_type": "stream",
     "text": [
      "ID GV0797_Pos7_1103_GFP\n"
     ]
    },
    {
     "name": "stderr",
     "output_type": "stream",
     "text": [
      "\r",
      " 23%|██▎       | 90/385 [4:01:20<9:13:05, 112.49s/it] "
     ]
    },
    {
     "name": "stdout",
     "output_type": "stream",
     "text": [
      "ID GV0797_Pos7_1029_GFP\n"
     ]
    },
    {
     "name": "stderr",
     "output_type": "stream",
     "text": [
      " 24%|██▎       | 91/385 [4:02:49<8:36:34, 105.42s/it][INFO][2021/05/10 08:12:14 PM] Opening HDF file: /home/nathan/data/kraken/h2b/giulia/GV0796/Pos21/Pos21_aligned/HDF/segmented.hdf5...\n",
      "[INFO][2021/05/10 08:12:14 PM] Loading tracks/obj_type_1\n"
     ]
    },
    {
     "name": "stdout",
     "output_type": "stream",
     "text": [
      "ID GV0796_Pos21_2923_GFP\n",
      "Loading GV0796/Pos21/\n",
      "Btrack version no.: 0.4.0\n"
     ]
    },
    {
     "name": "stderr",
     "output_type": "stream",
     "text": [
      "[INFO][2021/05/10 08:12:16 PM] Loading objects/obj_type_1 (307793, 5) (293005 filtered: area>=100)\n",
      "[INFO][2021/05/10 08:12:21 PM] Closing HDF file: /home/nathan/data/kraken/h2b/giulia/GV0796/Pos21/Pos21_aligned/HDF/segmented.hdf5\n",
      "[INFO][2021/05/10 08:12:21 PM] Opening HDF file: /home/nathan/data/kraken/h2b/giulia/GV0796/Pos21/Pos21_aligned/HDF/segmented.hdf5...\n",
      "[INFO][2021/05/10 08:12:21 PM] Loading tracks/obj_type_2\n",
      "[INFO][2021/05/10 08:12:22 PM] Loading objects/obj_type_2 (46439, 5) (38835 filtered: area>=100)\n",
      "[INFO][2021/05/10 08:12:23 PM] Closing HDF file: /home/nathan/data/kraken/h2b/giulia/GV0796/Pos21/Pos21_aligned/HDF/segmented.hdf5\n"
     ]
    },
    {
     "name": "stdout",
     "output_type": "stream",
     "text": [
      "Track information loaded and ordered according to cell type (WT IDs >0> Scr IDs)\n",
      "Loaded GV0796/Pos21/\n"
     ]
    },
    {
     "name": "stderr",
     "output_type": "stream",
     "text": [
      "\r",
      " 24%|██▍       | 92/385 [4:03:23<6:50:23, 84.04s/it] "
     ]
    },
    {
     "name": "stdout",
     "output_type": "stream",
     "text": [
      "ID GV0796_Pos21_788_GFP\n"
     ]
    },
    {
     "name": "stderr",
     "output_type": "stream",
     "text": [
      " 24%|██▍       | 93/385 [4:05:52<8:23:07, 103.38s/it][INFO][2021/05/10 08:15:16 PM] Opening HDF file: /home/nathan/data/kraken/h2b/giulia/GV0816/Pos23/Pos23_aligned/HDF/segmented.hdf5...\n",
      "[INFO][2021/05/10 08:15:16 PM] Loading tracks/obj_type_1\n"
     ]
    },
    {
     "name": "stdout",
     "output_type": "stream",
     "text": [
      "ID GV0816_Pos23_5_GFP\n",
      "Loading GV0816/Pos23/\n",
      "Btrack version no.: 0.4.0\n"
     ]
    },
    {
     "name": "stderr",
     "output_type": "stream",
     "text": [
      "[INFO][2021/05/10 08:15:17 PM] Loading objects/obj_type_1 (108996, 5) (100437 filtered: area>=100)\n",
      "[INFO][2021/05/10 08:15:19 PM] Closing HDF file: /home/nathan/data/kraken/h2b/giulia/GV0816/Pos23/Pos23_aligned/HDF/segmented.hdf5\n",
      "[INFO][2021/05/10 08:15:19 PM] Opening HDF file: /home/nathan/data/kraken/h2b/giulia/GV0816/Pos23/Pos23_aligned/HDF/segmented.hdf5...\n",
      "[INFO][2021/05/10 08:15:19 PM] Loading tracks/obj_type_2\n",
      "[INFO][2021/05/10 08:15:19 PM] Loading objects/obj_type_2 (36035, 5) (29738 filtered: area>=100)\n",
      "[INFO][2021/05/10 08:15:19 PM] Closing HDF file: /home/nathan/data/kraken/h2b/giulia/GV0816/Pos23/Pos23_aligned/HDF/segmented.hdf5\n"
     ]
    },
    {
     "name": "stdout",
     "output_type": "stream",
     "text": [
      "Track information loaded and ordered according to cell type (WT IDs >0> Scr IDs)\n",
      "Loaded GV0816/Pos23/\n"
     ]
    },
    {
     "name": "stderr",
     "output_type": "stream",
     "text": [
      "\r",
      " 24%|██▍       | 94/385 [4:06:22<6:35:22, 81.52s/it] "
     ]
    },
    {
     "name": "stdout",
     "output_type": "stream",
     "text": [
      "ID GV0816_Pos23_1_GFP\n"
     ]
    },
    {
     "name": "stderr",
     "output_type": "stream",
     "text": [
      "\r",
      " 25%|██▍       | 95/385 [4:07:36<6:22:52, 79.22s/it]"
     ]
    },
    {
     "name": "stdout",
     "output_type": "stream",
     "text": [
      "ID GV0816_Pos23_755_GFP\n"
     ]
    },
    {
     "name": "stderr",
     "output_type": "stream",
     "text": [
      "\r",
      " 25%|██▍       | 96/385 [4:08:05<5:08:27, 64.04s/it]"
     ]
    },
    {
     "name": "stdout",
     "output_type": "stream",
     "text": [
      "ID GV0816_Pos23_757_GFP\n"
     ]
    },
    {
     "name": "stderr",
     "output_type": "stream",
     "text": [
      "\r",
      " 25%|██▌       | 97/385 [4:08:16<3:51:02, 48.13s/it]"
     ]
    },
    {
     "name": "stdout",
     "output_type": "stream",
     "text": [
      "ID GV0816_Pos23_773_GFP\n"
     ]
    },
    {
     "name": "stderr",
     "output_type": "stream",
     "text": [
      "\r",
      " 25%|██▌       | 98/385 [4:08:48<3:28:17, 43.55s/it]"
     ]
    },
    {
     "name": "stdout",
     "output_type": "stream",
     "text": [
      "ID GV0816_Pos23_772_GFP\n"
     ]
    },
    {
     "name": "stderr",
     "output_type": "stream",
     "text": [
      "\r",
      " 26%|██▌       | 99/385 [4:09:22<3:13:59, 40.70s/it]"
     ]
    },
    {
     "name": "stdout",
     "output_type": "stream",
     "text": [
      "ID GV0816_Pos23_696_GFP\n"
     ]
    },
    {
     "name": "stderr",
     "output_type": "stream",
     "text": [
      " 26%|██▌       | 100/385 [4:09:41<2:41:59, 34.10s/it][INFO][2021/05/10 08:19:06 PM] Opening HDF file: /home/nathan/data/kraken/h2b/giulia/GV0800/Pos17/Pos17_aligned/HDF/segmented.hdf5...\n",
      "[INFO][2021/05/10 08:19:06 PM] Loading tracks/obj_type_1\n"
     ]
    },
    {
     "name": "stdout",
     "output_type": "stream",
     "text": [
      "ID GV0800_Pos17_7_GFP\n",
      "Loading GV0800/Pos17/\n",
      "Btrack version no.: 0.4.0\n"
     ]
    },
    {
     "name": "stderr",
     "output_type": "stream",
     "text": [
      "[INFO][2021/05/10 08:19:07 PM] Loading objects/obj_type_1 (102414, 5) (89276 filtered: area>=100)\n",
      "[INFO][2021/05/10 08:19:07 PM] Closing HDF file: /home/nathan/data/kraken/h2b/giulia/GV0800/Pos17/Pos17_aligned/HDF/segmented.hdf5\n",
      "[INFO][2021/05/10 08:19:07 PM] Opening HDF file: /home/nathan/data/kraken/h2b/giulia/GV0800/Pos17/Pos17_aligned/HDF/segmented.hdf5...\n",
      "[INFO][2021/05/10 08:19:07 PM] Loading tracks/obj_type_2\n",
      "[INFO][2021/05/10 08:19:08 PM] Loading objects/obj_type_2 (83250, 5) (67284 filtered: area>=100)\n",
      "[INFO][2021/05/10 08:19:09 PM] Closing HDF file: /home/nathan/data/kraken/h2b/giulia/GV0800/Pos17/Pos17_aligned/HDF/segmented.hdf5\n"
     ]
    },
    {
     "name": "stdout",
     "output_type": "stream",
     "text": [
      "Track information loaded and ordered according to cell type (WT IDs >0> Scr IDs)\n",
      "Loaded GV0800/Pos17/\n"
     ]
    },
    {
     "name": "stderr",
     "output_type": "stream",
     "text": [
      "\r",
      " 26%|██▌       | 101/385 [4:10:24<2:54:02, 36.77s/it]"
     ]
    },
    {
     "name": "stdout",
     "output_type": "stream",
     "text": [
      "ID GV0800_Pos17_1010_GFP\n"
     ]
    },
    {
     "name": "stderr",
     "output_type": "stream",
     "text": [
      "\r",
      " 26%|██▋       | 102/385 [4:11:00<2:52:00, 36.47s/it]"
     ]
    },
    {
     "name": "stdout",
     "output_type": "stream",
     "text": [
      "ID GV0800_Pos17_1009_GFP\n"
     ]
    },
    {
     "name": "stderr",
     "output_type": "stream",
     "text": [
      "\r",
      " 27%|██▋       | 103/385 [4:11:41<2:58:02, 37.88s/it]"
     ]
    },
    {
     "name": "stdout",
     "output_type": "stream",
     "text": [
      "ID GV0800_Pos17_868_GFP\n"
     ]
    },
    {
     "name": "stderr",
     "output_type": "stream",
     "text": [
      "\r",
      " 27%|██▋       | 104/385 [4:12:23<3:03:42, 39.23s/it]"
     ]
    },
    {
     "name": "stdout",
     "output_type": "stream",
     "text": [
      "ID GV0800_Pos17_869_GFP\n"
     ]
    },
    {
     "name": "stderr",
     "output_type": "stream",
     "text": [
      "\r",
      " 27%|██▋       | 105/385 [4:13:06<3:07:50, 40.25s/it]"
     ]
    },
    {
     "name": "stdout",
     "output_type": "stream",
     "text": [
      "ID GV0800_Pos17_1001_GFP\n"
     ]
    },
    {
     "name": "stderr",
     "output_type": "stream",
     "text": [
      "\r",
      " 28%|██▊       | 106/385 [4:14:03<3:30:39, 45.30s/it]"
     ]
    },
    {
     "name": "stdout",
     "output_type": "stream",
     "text": [
      "ID GV0800_Pos17_1002_GFP\n"
     ]
    },
    {
     "name": "stderr",
     "output_type": "stream",
     "text": [
      " 28%|██▊       | 107/385 [4:15:00<3:46:22, 48.86s/it][INFO][2021/05/10 08:24:25 PM] Opening HDF file: /home/nathan/data/kraken/h2b/giulia/GV0806/Pos5/Pos5_aligned/HDF/segmented.hdf5...\n",
      "[INFO][2021/05/10 08:24:25 PM] Loading tracks/obj_type_1\n"
     ]
    },
    {
     "name": "stdout",
     "output_type": "stream",
     "text": [
      "ID GV0806_Pos5_124_GFP\n",
      "Loading GV0806/Pos5/\n",
      "Btrack version no.: 0.4.0\n"
     ]
    },
    {
     "name": "stderr",
     "output_type": "stream",
     "text": [
      "[INFO][2021/05/10 08:24:26 PM] Loading objects/obj_type_1 (76725, 5) (65455 filtered: area>=100)\n",
      "[INFO][2021/05/10 08:24:27 PM] Closing HDF file: /home/nathan/data/kraken/h2b/giulia/GV0806/Pos5/Pos5_aligned/HDF/segmented.hdf5\n",
      "[INFO][2021/05/10 08:24:27 PM] Opening HDF file: /home/nathan/data/kraken/h2b/giulia/GV0806/Pos5/Pos5_aligned/HDF/segmented.hdf5...\n",
      "[INFO][2021/05/10 08:24:27 PM] Loading tracks/obj_type_2\n",
      "[INFO][2021/05/10 08:24:28 PM] Loading objects/obj_type_2 (76899, 5) (56104 filtered: area>=100)\n",
      "[INFO][2021/05/10 08:24:28 PM] Closing HDF file: /home/nathan/data/kraken/h2b/giulia/GV0806/Pos5/Pos5_aligned/HDF/segmented.hdf5\n"
     ]
    },
    {
     "name": "stdout",
     "output_type": "stream",
     "text": [
      "Track information loaded and ordered according to cell type (WT IDs >0> Scr IDs)\n",
      "Loaded GV0806/Pos5/\n"
     ]
    },
    {
     "name": "stderr",
     "output_type": "stream",
     "text": [
      " 28%|██▊       | 108/385 [4:16:40<4:56:09, 64.15s/it][INFO][2021/05/10 08:26:05 PM] Opening HDF file: /home/nathan/data/kraken/h2b/giulia/GV0800/Pos4/Pos4_aligned/HDF/segmented.hdf5...\n",
      "[INFO][2021/05/10 08:26:05 PM] Loading tracks/obj_type_1\n"
     ]
    },
    {
     "name": "stdout",
     "output_type": "stream",
     "text": [
      "ID GV0800_Pos4_480_GFP\n",
      "Loading GV0800/Pos4/\n",
      "Btrack version no.: 0.4.0\n"
     ]
    },
    {
     "name": "stderr",
     "output_type": "stream",
     "text": [
      "[INFO][2021/05/10 08:26:07 PM] Loading objects/obj_type_1 (293631, 5) (274724 filtered: area>=100)\n",
      "[INFO][2021/05/10 08:26:12 PM] Closing HDF file: /home/nathan/data/kraken/h2b/giulia/GV0800/Pos4/Pos4_aligned/HDF/segmented.hdf5\n",
      "[INFO][2021/05/10 08:26:12 PM] Opening HDF file: /home/nathan/data/kraken/h2b/giulia/GV0800/Pos4/Pos4_aligned/HDF/segmented.hdf5...\n",
      "[INFO][2021/05/10 08:26:12 PM] Loading tracks/obj_type_2\n",
      "[INFO][2021/05/10 08:26:12 PM] Loading objects/obj_type_2 (60789, 5) (49434 filtered: area>=100)\n",
      "[INFO][2021/05/10 08:26:13 PM] Closing HDF file: /home/nathan/data/kraken/h2b/giulia/GV0800/Pos4/Pos4_aligned/HDF/segmented.hdf5\n"
     ]
    },
    {
     "name": "stdout",
     "output_type": "stream",
     "text": [
      "Track information loaded and ordered according to cell type (WT IDs >0> Scr IDs)\n",
      "Loaded GV0800/Pos4/\n"
     ]
    },
    {
     "name": "stderr",
     "output_type": "stream",
     "text": [
      " 28%|██▊       | 109/385 [4:18:30<5:58:07, 77.85s/it][INFO][2021/05/10 08:27:55 PM] Opening HDF file: /home/nathan/data/kraken/h2b/giulia/GV0820/Pos5/Pos5_aligned/HDF/segmented.hdf5...\n",
      "[INFO][2021/05/10 08:27:55 PM] Loading tracks/obj_type_1\n"
     ]
    },
    {
     "name": "stdout",
     "output_type": "stream",
     "text": [
      "ID GV0820_Pos5_47_GFP\n",
      "Loading GV0820/Pos5/\n",
      "Btrack version no.: 0.4.0\n"
     ]
    },
    {
     "name": "stderr",
     "output_type": "stream",
     "text": [
      "[INFO][2021/05/10 08:27:56 PM] Loading objects/obj_type_1 (168718, 5) (157112 filtered: area>=100)\n",
      "[INFO][2021/05/10 08:27:59 PM] Closing HDF file: /home/nathan/data/kraken/h2b/giulia/GV0820/Pos5/Pos5_aligned/HDF/segmented.hdf5\n",
      "[INFO][2021/05/10 08:27:59 PM] Opening HDF file: /home/nathan/data/kraken/h2b/giulia/GV0820/Pos5/Pos5_aligned/HDF/segmented.hdf5...\n",
      "[INFO][2021/05/10 08:27:59 PM] Loading tracks/obj_type_2\n",
      "[INFO][2021/05/10 08:28:00 PM] Loading objects/obj_type_2 (75424, 5) (61898 filtered: area>=100)\n",
      "[INFO][2021/05/10 08:28:01 PM] Closing HDF file: /home/nathan/data/kraken/h2b/giulia/GV0820/Pos5/Pos5_aligned/HDF/segmented.hdf5\n"
     ]
    },
    {
     "name": "stdout",
     "output_type": "stream",
     "text": [
      "Track information loaded and ordered according to cell type (WT IDs >0> Scr IDs)\n",
      "Loaded GV0820/Pos5/\n"
     ]
    },
    {
     "name": "stderr",
     "output_type": "stream",
     "text": [
      "\r",
      " 29%|██▊       | 110/385 [4:20:28<6:52:23, 89.98s/it]"
     ]
    },
    {
     "name": "stdout",
     "output_type": "stream",
     "text": [
      "ID GV0820_Pos5_48_GFP\n"
     ]
    },
    {
     "name": "stderr",
     "output_type": "stream",
     "text": [
      "\r",
      " 29%|██▉       | 111/385 [4:22:42<7:50:33, 103.04s/it]"
     ]
    },
    {
     "name": "stdout",
     "output_type": "stream",
     "text": [
      "ID GV0820_Pos5_417_GFP\n"
     ]
    },
    {
     "name": "stderr",
     "output_type": "stream",
     "text": [
      "\r",
      " 29%|██▉       | 112/385 [4:24:45<8:15:55, 108.99s/it]"
     ]
    },
    {
     "name": "stdout",
     "output_type": "stream",
     "text": [
      "ID GV0820_Pos5_1837_GFP\n"
     ]
    },
    {
     "name": "stderr",
     "output_type": "stream",
     "text": [
      " 29%|██▉       | 113/385 [4:25:08<6:17:33, 83.29s/it] [INFO][2021/05/10 08:34:33 PM] Opening HDF file: /home/nathan/data/kraken/h2b/giulia/GV0813/Pos0/Pos0_aligned/HDF/segmented.hdf5...\n",
      "[INFO][2021/05/10 08:34:33 PM] Loading tracks/obj_type_1\n"
     ]
    },
    {
     "name": "stdout",
     "output_type": "stream",
     "text": [
      "ID GV0813_Pos0_137_GFP\n",
      "Loading GV0813/Pos0/\n",
      "Btrack version no.: 0.4.0\n"
     ]
    },
    {
     "name": "stderr",
     "output_type": "stream",
     "text": [
      "[INFO][2021/05/10 08:34:34 PM] Loading objects/obj_type_1 (85389, 5) (80063 filtered: area>=100)\n",
      "[INFO][2021/05/10 08:34:35 PM] Closing HDF file: /home/nathan/data/kraken/h2b/giulia/GV0813/Pos0/Pos0_aligned/HDF/segmented.hdf5\n",
      "[INFO][2021/05/10 08:34:35 PM] Opening HDF file: /home/nathan/data/kraken/h2b/giulia/GV0813/Pos0/Pos0_aligned/HDF/segmented.hdf5...\n",
      "[INFO][2021/05/10 08:34:35 PM] Loading tracks/obj_type_2\n",
      "[INFO][2021/05/10 08:34:35 PM] Loading objects/obj_type_2 (20301, 5) (17076 filtered: area>=100)\n",
      "[INFO][2021/05/10 08:34:35 PM] Closing HDF file: /home/nathan/data/kraken/h2b/giulia/GV0813/Pos0/Pos0_aligned/HDF/segmented.hdf5\n"
     ]
    },
    {
     "name": "stdout",
     "output_type": "stream",
     "text": [
      "Track information loaded and ordered according to cell type (WT IDs >0> Scr IDs)\n",
      "Loaded GV0813/Pos0/\n"
     ]
    },
    {
     "name": "stderr",
     "output_type": "stream",
     "text": [
      "\r",
      " 30%|██▉       | 114/385 [4:25:50<5:20:29, 70.96s/it]"
     ]
    },
    {
     "name": "stdout",
     "output_type": "stream",
     "text": [
      "ID GV0813_Pos0_356_GFP\n"
     ]
    },
    {
     "name": "stderr",
     "output_type": "stream",
     "text": [
      "\r",
      " 30%|██▉       | 115/385 [4:26:36<4:45:46, 63.50s/it]"
     ]
    },
    {
     "name": "stdout",
     "output_type": "stream",
     "text": [
      "ID GV0813_Pos0_260_GFP\n"
     ]
    },
    {
     "name": "stderr",
     "output_type": "stream",
     "text": [
      "\r",
      " 30%|███       | 116/385 [4:27:08<4:01:58, 53.97s/it]"
     ]
    },
    {
     "name": "stdout",
     "output_type": "stream",
     "text": [
      "ID GV0813_Pos0_111_GFP\n"
     ]
    },
    {
     "name": "stderr",
     "output_type": "stream",
     "text": [
      "\r",
      " 30%|███       | 117/385 [4:27:50<3:44:23, 50.24s/it]"
     ]
    },
    {
     "name": "stdout",
     "output_type": "stream",
     "text": [
      "ID GV0813_Pos0_223_GFP\n"
     ]
    },
    {
     "name": "stderr",
     "output_type": "stream",
     "text": [
      "\r",
      " 31%|███       | 118/385 [4:28:23<3:21:07, 45.20s/it]"
     ]
    },
    {
     "name": "stdout",
     "output_type": "stream",
     "text": [
      "ID GV0813_Pos0_636_GFP\n"
     ]
    },
    {
     "name": "stderr",
     "output_type": "stream",
     "text": [
      " 31%|███       | 119/385 [4:28:30<2:29:01, 33.61s/it][INFO][2021/05/10 08:37:54 PM] Opening HDF file: /home/nathan/data/kraken/h2b/giulia/GV0813/Pos4/Pos4_aligned/HDF/segmented.hdf5...\n",
      "[INFO][2021/05/10 08:37:54 PM] Loading tracks/obj_type_1\n"
     ]
    },
    {
     "name": "stdout",
     "output_type": "stream",
     "text": [
      "ID GV0813_Pos4_404_GFP\n",
      "Loading GV0813/Pos4/\n",
      "Btrack version no.: 0.4.0\n"
     ]
    },
    {
     "name": "stderr",
     "output_type": "stream",
     "text": [
      "[INFO][2021/05/10 08:37:55 PM] Loading objects/obj_type_1 (150938, 5) (131031 filtered: area>=100)\n",
      "[INFO][2021/05/10 08:37:56 PM] Closing HDF file: /home/nathan/data/kraken/h2b/giulia/GV0813/Pos4/Pos4_aligned/HDF/segmented.hdf5\n",
      "[INFO][2021/05/10 08:37:56 PM] Opening HDF file: /home/nathan/data/kraken/h2b/giulia/GV0813/Pos4/Pos4_aligned/HDF/segmented.hdf5...\n",
      "[INFO][2021/05/10 08:37:56 PM] Loading tracks/obj_type_2\n",
      "[INFO][2021/05/10 08:37:57 PM] Loading objects/obj_type_2 (39270, 5) (29540 filtered: area>=100)\n",
      "[INFO][2021/05/10 08:37:57 PM] Closing HDF file: /home/nathan/data/kraken/h2b/giulia/GV0813/Pos4/Pos4_aligned/HDF/segmented.hdf5\n"
     ]
    },
    {
     "name": "stdout",
     "output_type": "stream",
     "text": [
      "Track information loaded and ordered according to cell type (WT IDs >0> Scr IDs)\n",
      "Loaded GV0813/Pos4/\n"
     ]
    },
    {
     "name": "stderr",
     "output_type": "stream",
     "text": [
      "\r",
      " 31%|███       | 120/385 [4:29:50<3:30:25, 47.64s/it]"
     ]
    },
    {
     "name": "stdout",
     "output_type": "stream",
     "text": [
      "ID GV0813_Pos4_596_GFP\n"
     ]
    },
    {
     "name": "stderr",
     "output_type": "stream",
     "text": [
      "\r",
      " 31%|███▏      | 121/385 [4:30:03<2:44:33, 37.40s/it]"
     ]
    },
    {
     "name": "stdout",
     "output_type": "stream",
     "text": [
      "ID GV0813_Pos4_403_GFP\n"
     ]
    },
    {
     "name": "stderr",
     "output_type": "stream",
     "text": [
      "\r",
      " 32%|███▏      | 122/385 [4:30:43<2:46:25, 37.97s/it]"
     ]
    },
    {
     "name": "stdout",
     "output_type": "stream",
     "text": [
      "ID GV0813_Pos4_7_GFP\n"
     ]
    },
    {
     "name": "stderr",
     "output_type": "stream",
     "text": [
      "\r",
      " 32%|███▏      | 123/385 [4:32:41<4:30:22, 61.92s/it]"
     ]
    },
    {
     "name": "stdout",
     "output_type": "stream",
     "text": [
      "ID GV0813_Pos4_1000_GFP\n"
     ]
    },
    {
     "name": "stderr",
     "output_type": "stream",
     "text": [
      " 32%|███▏      | 124/385 [4:32:58<3:30:43, 48.44s/it][INFO][2021/05/10 08:42:22 PM] Opening HDF file: /home/nathan/data/kraken/h2b/giulia/GV0819/Pos2/Pos2_aligned/HDF/segmented.hdf5...\n",
      "[INFO][2021/05/10 08:42:22 PM] Loading tracks/obj_type_1\n"
     ]
    },
    {
     "name": "stdout",
     "output_type": "stream",
     "text": [
      "ID GV0819_Pos2_119_GFP\n",
      "Loading GV0819/Pos2/\n",
      "Btrack version no.: 0.4.0\n"
     ]
    },
    {
     "name": "stderr",
     "output_type": "stream",
     "text": [
      "[INFO][2021/05/10 08:42:24 PM] Loading objects/obj_type_1 (267623, 5) (252570 filtered: area>=100)\n",
      "[INFO][2021/05/10 08:42:26 PM] Closing HDF file: /home/nathan/data/kraken/h2b/giulia/GV0819/Pos2/Pos2_aligned/HDF/segmented.hdf5\n",
      "[INFO][2021/05/10 08:42:26 PM] Opening HDF file: /home/nathan/data/kraken/h2b/giulia/GV0819/Pos2/Pos2_aligned/HDF/segmented.hdf5...\n",
      "[INFO][2021/05/10 08:42:26 PM] Loading tracks/obj_type_2\n",
      "[INFO][2021/05/10 08:42:27 PM] Loading objects/obj_type_2 (113484, 5) (97628 filtered: area>=100)\n",
      "[INFO][2021/05/10 08:42:27 PM] Closing HDF file: /home/nathan/data/kraken/h2b/giulia/GV0819/Pos2/Pos2_aligned/HDF/segmented.hdf5\n"
     ]
    },
    {
     "name": "stdout",
     "output_type": "stream",
     "text": [
      "Track information loaded and ordered according to cell type (WT IDs >0> Scr IDs)\n",
      "Loaded GV0819/Pos2/\n"
     ]
    },
    {
     "name": "stderr",
     "output_type": "stream",
     "text": [
      "\r",
      " 32%|███▏      | 125/385 [4:34:09<4:00:25, 55.48s/it]"
     ]
    },
    {
     "name": "stdout",
     "output_type": "stream",
     "text": [
      "ID GV0819_Pos2_481_GFP\n"
     ]
    },
    {
     "name": "stderr",
     "output_type": "stream",
     "text": [
      "\r",
      " 33%|███▎      | 126/385 [4:34:36<3:22:16, 46.86s/it]"
     ]
    },
    {
     "name": "stdout",
     "output_type": "stream",
     "text": [
      "ID GV0819_Pos2_513_GFP\n"
     ]
    },
    {
     "name": "stderr",
     "output_type": "stream",
     "text": [
      "\r",
      " 33%|███▎      | 127/385 [4:35:53<4:00:16, 55.88s/it]"
     ]
    },
    {
     "name": "stdout",
     "output_type": "stream",
     "text": [
      "ID GV0819_Pos2_143_GFP\n"
     ]
    },
    {
     "name": "stderr",
     "output_type": "stream",
     "text": [
      "\r",
      " 33%|███▎      | 128/385 [4:38:28<6:06:38, 85.60s/it]"
     ]
    },
    {
     "name": "stdout",
     "output_type": "stream",
     "text": [
      "ID GV0819_Pos2_1617_GFP\n"
     ]
    },
    {
     "name": "stderr",
     "output_type": "stream",
     "text": [
      " 34%|███▎      | 129/385 [4:39:16<5:17:14, 74.35s/it][INFO][2021/05/10 08:48:41 PM] Opening HDF file: /home/nathan/data/kraken/h2b/giulia/GV0820/Pos4/Pos4_aligned/HDF/segmented.hdf5...\n",
      "[INFO][2021/05/10 08:48:41 PM] Loading tracks/obj_type_1\n"
     ]
    },
    {
     "name": "stdout",
     "output_type": "stream",
     "text": [
      "ID GV0820_Pos4_684_GFP\n",
      "Loading GV0820/Pos4/\n",
      "Btrack version no.: 0.4.0\n"
     ]
    },
    {
     "name": "stderr",
     "output_type": "stream",
     "text": [
      "[INFO][2021/05/10 08:48:42 PM] Loading objects/obj_type_1 (189653, 5) (175798 filtered: area>=100)\n",
      "[INFO][2021/05/10 08:48:44 PM] Closing HDF file: /home/nathan/data/kraken/h2b/giulia/GV0820/Pos4/Pos4_aligned/HDF/segmented.hdf5\n",
      "[INFO][2021/05/10 08:48:44 PM] Opening HDF file: /home/nathan/data/kraken/h2b/giulia/GV0820/Pos4/Pos4_aligned/HDF/segmented.hdf5...\n",
      "[INFO][2021/05/10 08:48:44 PM] Loading tracks/obj_type_2\n",
      "[INFO][2021/05/10 08:48:44 PM] Loading objects/obj_type_2 (82474, 5) (72948 filtered: area>=100)\n",
      "[INFO][2021/05/10 08:48:45 PM] Closing HDF file: /home/nathan/data/kraken/h2b/giulia/GV0820/Pos4/Pos4_aligned/HDF/segmented.hdf5\n"
     ]
    },
    {
     "name": "stdout",
     "output_type": "stream",
     "text": [
      "Track information loaded and ordered according to cell type (WT IDs >0> Scr IDs)\n",
      "Loaded GV0820/Pos4/\n"
     ]
    },
    {
     "name": "stderr",
     "output_type": "stream",
     "text": [
      "\r",
      " 34%|███▍      | 130/385 [4:41:25<6:26:00, 90.83s/it]"
     ]
    },
    {
     "name": "stdout",
     "output_type": "stream",
     "text": [
      "ID GV0820_Pos4_1034_GFP\n"
     ]
    },
    {
     "name": "stderr",
     "output_type": "stream",
     "text": [
      "\r",
      " 34%|███▍      | 131/385 [4:42:36<5:58:23, 84.66s/it]"
     ]
    },
    {
     "name": "stdout",
     "output_type": "stream",
     "text": [
      "ID GV0820_Pos4_1634_GFP\n"
     ]
    },
    {
     "name": "stderr",
     "output_type": "stream",
     "text": [
      " 34%|███▍      | 132/385 [4:43:05<4:46:29, 67.94s/it][INFO][2021/05/10 08:52:29 PM] Opening HDF file: /home/nathan/data/kraken/h2b/giulia/GV0800/Pos8/Pos8_aligned/HDF/segmented.hdf5...\n",
      "[INFO][2021/05/10 08:52:29 PM] Loading tracks/obj_type_1\n"
     ]
    },
    {
     "name": "stdout",
     "output_type": "stream",
     "text": [
      "ID GV0800_Pos8_263_GFP\n",
      "Loading GV0800/Pos8/\n",
      "Btrack version no.: 0.4.0\n"
     ]
    },
    {
     "name": "stderr",
     "output_type": "stream",
     "text": [
      "[INFO][2021/05/10 08:52:32 PM] Loading objects/obj_type_1 (412266, 5) (393638 filtered: area>=100)\n",
      "[INFO][2021/05/10 08:52:35 PM] Closing HDF file: /home/nathan/data/kraken/h2b/giulia/GV0800/Pos8/Pos8_aligned/HDF/segmented.hdf5\n",
      "[INFO][2021/05/10 08:52:35 PM] Opening HDF file: /home/nathan/data/kraken/h2b/giulia/GV0800/Pos8/Pos8_aligned/HDF/segmented.hdf5...\n",
      "[INFO][2021/05/10 08:52:35 PM] Loading tracks/obj_type_2\n",
      "[INFO][2021/05/10 08:52:35 PM] Loading objects/obj_type_2 (16111, 5) (12664 filtered: area>=100)\n",
      "[INFO][2021/05/10 08:52:36 PM] Closing HDF file: /home/nathan/data/kraken/h2b/giulia/GV0800/Pos8/Pos8_aligned/HDF/segmented.hdf5\n"
     ]
    },
    {
     "name": "stdout",
     "output_type": "stream",
     "text": [
      "Track information loaded and ordered according to cell type (WT IDs >0> Scr IDs)\n",
      "Loaded GV0800/Pos8/\n"
     ]
    },
    {
     "name": "stderr",
     "output_type": "stream",
     "text": [
      "\r",
      " 35%|███▍      | 133/385 [4:45:19<6:08:42, 87.79s/it]"
     ]
    },
    {
     "name": "stdout",
     "output_type": "stream",
     "text": [
      "ID GV0800_Pos8_49_GFP\n"
     ]
    },
    {
     "name": "stderr",
     "output_type": "stream",
     "text": [
      " 35%|███▍      | 134/385 [4:49:13<9:11:22, 131.80s/it][INFO][2021/05/10 08:58:38 PM] Opening HDF file: /home/nathan/data/kraken/h2b/giulia/GV0813/Pos3/Pos3_aligned/HDF/segmented.hdf5...\n",
      "[INFO][2021/05/10 08:58:38 PM] Loading tracks/obj_type_1\n"
     ]
    },
    {
     "name": "stdout",
     "output_type": "stream",
     "text": [
      "ID GV0813_Pos3_362_GFP\n",
      "Loading GV0813/Pos3/\n",
      "Btrack version no.: 0.4.0\n"
     ]
    },
    {
     "name": "stderr",
     "output_type": "stream",
     "text": [
      "[INFO][2021/05/10 08:58:39 PM] Loading objects/obj_type_1 (153611, 5) (136100 filtered: area>=100)\n",
      "[INFO][2021/05/10 08:58:40 PM] Closing HDF file: /home/nathan/data/kraken/h2b/giulia/GV0813/Pos3/Pos3_aligned/HDF/segmented.hdf5\n",
      "[INFO][2021/05/10 08:58:40 PM] Opening HDF file: /home/nathan/data/kraken/h2b/giulia/GV0813/Pos3/Pos3_aligned/HDF/segmented.hdf5...\n",
      "[INFO][2021/05/10 08:58:40 PM] Loading tracks/obj_type_2\n",
      "[INFO][2021/05/10 08:58:40 PM] Loading objects/obj_type_2 (28558, 5) (22223 filtered: area>=100)\n",
      "[INFO][2021/05/10 08:58:40 PM] Closing HDF file: /home/nathan/data/kraken/h2b/giulia/GV0813/Pos3/Pos3_aligned/HDF/segmented.hdf5\n"
     ]
    },
    {
     "name": "stdout",
     "output_type": "stream",
     "text": [
      "Track information loaded and ordered according to cell type (WT IDs >0> Scr IDs)\n",
      "Loaded GV0813/Pos3/\n"
     ]
    },
    {
     "name": "stderr",
     "output_type": "stream",
     "text": [
      "\r",
      " 35%|███▌      | 135/385 [4:49:45<7:03:36, 101.67s/it]"
     ]
    },
    {
     "name": "stdout",
     "output_type": "stream",
     "text": [
      "ID GV0813_Pos3_15_GFP\n"
     ]
    },
    {
     "name": "stderr",
     "output_type": "stream",
     "text": [
      "\r",
      " 35%|███▌      | 136/385 [4:51:08<6:39:34, 96.28s/it] "
     ]
    },
    {
     "name": "stdout",
     "output_type": "stream",
     "text": [
      "ID GV0813_Pos3_33_GFP\n"
     ]
    },
    {
     "name": "stderr",
     "output_type": "stream",
     "text": [
      "\r",
      " 36%|███▌      | 137/385 [4:52:01<5:44:13, 83.28s/it]"
     ]
    },
    {
     "name": "stdout",
     "output_type": "stream",
     "text": [
      "ID GV0813_Pos3_341_GFP\n"
     ]
    },
    {
     "name": "stderr",
     "output_type": "stream",
     "text": [
      "\r",
      " 36%|███▌      | 138/385 [4:52:39<4:46:50, 69.68s/it]"
     ]
    },
    {
     "name": "stdout",
     "output_type": "stream",
     "text": [
      "ID GV0813_Pos3_513_GFP\n"
     ]
    },
    {
     "name": "stderr",
     "output_type": "stream",
     "text": [
      "\r",
      " 36%|███▌      | 139/385 [4:53:50<4:46:59, 70.00s/it]"
     ]
    },
    {
     "name": "stdout",
     "output_type": "stream",
     "text": [
      "ID GV0813_Pos3_514_GFP\n"
     ]
    },
    {
     "name": "stderr",
     "output_type": "stream",
     "text": [
      "\r",
      " 36%|███▋      | 140/385 [4:54:36<4:15:57, 62.68s/it]"
     ]
    },
    {
     "name": "stdout",
     "output_type": "stream",
     "text": [
      "ID GV0813_Pos3_599_GFP\n"
     ]
    },
    {
     "name": "stderr",
     "output_type": "stream",
     "text": [
      "\r",
      " 37%|███▋      | 141/385 [4:55:32<4:06:56, 60.73s/it]"
     ]
    },
    {
     "name": "stdout",
     "output_type": "stream",
     "text": [
      "ID GV0813_Pos3_304_GFP\n"
     ]
    },
    {
     "name": "stderr",
     "output_type": "stream",
     "text": [
      "\r",
      " 37%|███▋      | 142/385 [4:57:19<5:02:16, 74.64s/it]"
     ]
    },
    {
     "name": "stdout",
     "output_type": "stream",
     "text": [
      "ID GV0813_Pos3_535_GFP\n"
     ]
    },
    {
     "name": "stderr",
     "output_type": "stream",
     "text": [
      "\r",
      " 37%|███▋      | 143/385 [4:58:22<4:46:37, 71.06s/it]"
     ]
    },
    {
     "name": "stdout",
     "output_type": "stream",
     "text": [
      "ID GV0813_Pos3_813_GFP\n"
     ]
    },
    {
     "name": "stderr",
     "output_type": "stream",
     "text": [
      "\r",
      " 37%|███▋      | 144/385 [4:59:08<4:15:49, 63.69s/it]"
     ]
    },
    {
     "name": "stdout",
     "output_type": "stream",
     "text": [
      "ID GV0813_Pos3_1298_GFP\n"
     ]
    },
    {
     "name": "stderr",
     "output_type": "stream",
     "text": [
      "\r",
      " 38%|███▊      | 145/385 [4:59:44<3:41:11, 55.30s/it]"
     ]
    },
    {
     "name": "stdout",
     "output_type": "stream",
     "text": [
      "ID GV0813_Pos3_538_GFP\n"
     ]
    },
    {
     "name": "stderr",
     "output_type": "stream",
     "text": [
      "\r",
      " 38%|███▊      | 146/385 [5:01:04<4:10:15, 62.83s/it]"
     ]
    },
    {
     "name": "stdout",
     "output_type": "stream",
     "text": [
      "ID GV0813_Pos3_122_GFP\n"
     ]
    },
    {
     "name": "stderr",
     "output_type": "stream",
     "text": [
      " 38%|███▊      | 147/385 [5:03:18<5:33:50, 84.16s/it][INFO][2021/05/10 09:12:43 PM] Opening HDF file: /home/nathan/data/kraken/h2b/giulia/GV0798/Pos23/Pos23_aligned/HDF/segmented.hdf5...\n",
      "[INFO][2021/05/10 09:12:43 PM] Loading tracks/obj_type_1\n"
     ]
    },
    {
     "name": "stdout",
     "output_type": "stream",
     "text": [
      "ID GV0798_Pos23_72_GFP\n",
      "Loading GV0798/Pos23/\n",
      "Btrack version no.: 0.4.0\n"
     ]
    },
    {
     "name": "stderr",
     "output_type": "stream",
     "text": [
      "[INFO][2021/05/10 09:12:44 PM] Loading objects/obj_type_1 (122661, 5) (114306 filtered: area>=100)\n",
      "[INFO][2021/05/10 09:12:45 PM] Closing HDF file: /home/nathan/data/kraken/h2b/giulia/GV0798/Pos23/Pos23_aligned/HDF/segmented.hdf5\n",
      "[INFO][2021/05/10 09:12:45 PM] Opening HDF file: /home/nathan/data/kraken/h2b/giulia/GV0798/Pos23/Pos23_aligned/HDF/segmented.hdf5...\n",
      "[INFO][2021/05/10 09:12:45 PM] Loading tracks/obj_type_2\n",
      "[INFO][2021/05/10 09:12:45 PM] Loading objects/obj_type_2 (120909, 5) (98424 filtered: area>=100)\n",
      "[INFO][2021/05/10 09:12:46 PM] Closing HDF file: /home/nathan/data/kraken/h2b/giulia/GV0798/Pos23/Pos23_aligned/HDF/segmented.hdf5\n"
     ]
    },
    {
     "name": "stdout",
     "output_type": "stream",
     "text": [
      "Track information loaded and ordered according to cell type (WT IDs >0> Scr IDs)\n",
      "Loaded GV0798/Pos23/\n"
     ]
    },
    {
     "name": "stderr",
     "output_type": "stream",
     "text": [
      "\r",
      " 38%|███▊      | 148/385 [5:04:19<5:04:57, 77.20s/it]"
     ]
    },
    {
     "name": "stdout",
     "output_type": "stream",
     "text": [
      "ID GV0798_Pos23_261_GFP\n"
     ]
    },
    {
     "name": "stderr",
     "output_type": "stream",
     "text": [
      "\r",
      " 39%|███▊      | 149/385 [5:05:26<4:51:38, 74.15s/it]"
     ]
    },
    {
     "name": "stdout",
     "output_type": "stream",
     "text": [
      "ID GV0798_Pos23_976_GFP\n"
     ]
    },
    {
     "name": "stderr",
     "output_type": "stream",
     "text": [
      "\r",
      " 39%|███▉      | 150/385 [5:05:52<3:54:00, 59.75s/it]"
     ]
    },
    {
     "name": "stdout",
     "output_type": "stream",
     "text": [
      "ID GV0798_Pos23_536_GFP\n"
     ]
    },
    {
     "name": "stderr",
     "output_type": "stream",
     "text": [
      " 39%|███▉      | 151/385 [5:06:31<3:28:36, 53.49s/it][INFO][2021/05/10 09:15:56 PM] Opening HDF file: /home/nathan/data/kraken/h2b/giulia/GV0807/Pos5/Pos5_aligned/HDF/segmented.hdf5...\n",
      "[INFO][2021/05/10 09:15:56 PM] Loading tracks/obj_type_1\n"
     ]
    },
    {
     "name": "stdout",
     "output_type": "stream",
     "text": [
      "ID GV0807_Pos5_1493_GFP\n",
      "Loading GV0807/Pos5/\n",
      "Btrack version no.: 0.4.0\n"
     ]
    },
    {
     "name": "stderr",
     "output_type": "stream",
     "text": [
      "[INFO][2021/05/10 09:15:57 PM] Loading objects/obj_type_1 (129954, 5) (111411 filtered: area>=100)\n",
      "[INFO][2021/05/10 09:15:57 PM] Closing HDF file: /home/nathan/data/kraken/h2b/giulia/GV0807/Pos5/Pos5_aligned/HDF/segmented.hdf5\n",
      "[INFO][2021/05/10 09:15:57 PM] Opening HDF file: /home/nathan/data/kraken/h2b/giulia/GV0807/Pos5/Pos5_aligned/HDF/segmented.hdf5...\n",
      "[INFO][2021/05/10 09:15:57 PM] Loading tracks/obj_type_2\n",
      "[INFO][2021/05/10 09:15:58 PM] Loading objects/obj_type_2 (87213, 5) (74295 filtered: area>=100)\n",
      "[INFO][2021/05/10 09:15:59 PM] Closing HDF file: /home/nathan/data/kraken/h2b/giulia/GV0807/Pos5/Pos5_aligned/HDF/segmented.hdf5\n"
     ]
    },
    {
     "name": "stdout",
     "output_type": "stream",
     "text": [
      "Track information loaded and ordered according to cell type (WT IDs >0> Scr IDs)\n",
      "Loaded GV0807/Pos5/\n"
     ]
    },
    {
     "name": "stderr",
     "output_type": "stream",
     "text": [
      " 39%|███▉      | 152/385 [5:06:49<2:45:52, 42.71s/it][INFO][2021/05/10 09:16:13 PM] Opening HDF file: /home/nathan/data/kraken/h2b/giulia/GV0820/Pos3/Pos3_aligned/HDF/segmented.hdf5...\n",
      "[INFO][2021/05/10 09:16:13 PM] Loading tracks/obj_type_1\n"
     ]
    },
    {
     "name": "stdout",
     "output_type": "stream",
     "text": [
      "ID GV0820_Pos3_1521_GFP\n",
      "Loading GV0820/Pos3/\n",
      "Btrack version no.: 0.4.0\n"
     ]
    },
    {
     "name": "stderr",
     "output_type": "stream",
     "text": [
      "[INFO][2021/05/10 09:16:14 PM] Loading objects/obj_type_1 (191590, 5) (179288 filtered: area>=100)\n",
      "[INFO][2021/05/10 09:16:16 PM] Closing HDF file: /home/nathan/data/kraken/h2b/giulia/GV0820/Pos3/Pos3_aligned/HDF/segmented.hdf5\n",
      "[INFO][2021/05/10 09:16:16 PM] Opening HDF file: /home/nathan/data/kraken/h2b/giulia/GV0820/Pos3/Pos3_aligned/HDF/segmented.hdf5...\n",
      "[INFO][2021/05/10 09:16:16 PM] Loading tracks/obj_type_2\n",
      "[INFO][2021/05/10 09:16:16 PM] Loading objects/obj_type_2 (65619, 5) (55005 filtered: area>=100)\n",
      "[INFO][2021/05/10 09:16:17 PM] Closing HDF file: /home/nathan/data/kraken/h2b/giulia/GV0820/Pos3/Pos3_aligned/HDF/segmented.hdf5\n"
     ]
    },
    {
     "name": "stdout",
     "output_type": "stream",
     "text": [
      "Track information loaded and ordered according to cell type (WT IDs >0> Scr IDs)\n",
      "Loaded GV0820/Pos3/\n"
     ]
    },
    {
     "name": "stderr",
     "output_type": "stream",
     "text": [
      "\r",
      " 40%|███▉      | 153/385 [5:07:31<2:44:19, 42.50s/it]"
     ]
    },
    {
     "name": "stdout",
     "output_type": "stream",
     "text": [
      "ID GV0820_Pos3_605_GFP\n"
     ]
    },
    {
     "name": "stderr",
     "output_type": "stream",
     "text": [
      "\r",
      " 40%|████      | 154/385 [5:09:02<3:40:14, 57.21s/it]"
     ]
    },
    {
     "name": "stdout",
     "output_type": "stream",
     "text": [
      "ID GV0820_Pos3_1364_GFP\n"
     ]
    },
    {
     "name": "stderr",
     "output_type": "stream",
     "text": [
      "\r",
      " 40%|████      | 155/385 [5:10:03<3:43:00, 58.17s/it]"
     ]
    },
    {
     "name": "stdout",
     "output_type": "stream",
     "text": [
      "ID GV0820_Pos3_2143_GFP\n"
     ]
    },
    {
     "name": "stderr",
     "output_type": "stream",
     "text": [
      "\r",
      " 41%|████      | 156/385 [5:10:16<2:50:14, 44.61s/it]"
     ]
    },
    {
     "name": "stdout",
     "output_type": "stream",
     "text": [
      "ID GV0820_Pos3_2006_GFP\n"
     ]
    },
    {
     "name": "stderr",
     "output_type": "stream",
     "text": [
      "\r",
      " 41%|████      | 157/385 [5:10:40<2:26:11, 38.47s/it]"
     ]
    },
    {
     "name": "stdout",
     "output_type": "stream",
     "text": [
      "ID GV0820_Pos3_2146_GFP\n"
     ]
    },
    {
     "name": "stderr",
     "output_type": "stream",
     "text": [
      "\r",
      " 41%|████      | 158/385 [5:10:52<1:56:00, 30.66s/it]"
     ]
    },
    {
     "name": "stdout",
     "output_type": "stream",
     "text": [
      "ID GV0820_Pos3_1639_GFP\n"
     ]
    },
    {
     "name": "stderr",
     "output_type": "stream",
     "text": [
      " 41%|████▏     | 159/385 [5:11:39<2:13:17, 35.39s/it][INFO][2021/05/10 09:21:03 PM] Opening HDF file: /home/nathan/data/kraken/h2b/giulia/GV0796/Pos20/Pos20_aligned/HDF/segmented.hdf5...\n",
      "[INFO][2021/05/10 09:21:03 PM] Loading tracks/obj_type_1\n"
     ]
    },
    {
     "name": "stdout",
     "output_type": "stream",
     "text": [
      "ID GV0796_Pos20_28_GFP\n",
      "Loading GV0796/Pos20/\n",
      "Btrack version no.: 0.4.0\n"
     ]
    },
    {
     "name": "stderr",
     "output_type": "stream",
     "text": [
      "[INFO][2021/05/10 09:21:06 PM] Loading objects/obj_type_1 (469347, 5) (453478 filtered: area>=100)\n",
      "[INFO][2021/05/10 09:21:10 PM] Closing HDF file: /home/nathan/data/kraken/h2b/giulia/GV0796/Pos20/Pos20_aligned/HDF/segmented.hdf5\n",
      "[INFO][2021/05/10 09:21:10 PM] Opening HDF file: /home/nathan/data/kraken/h2b/giulia/GV0796/Pos20/Pos20_aligned/HDF/segmented.hdf5...\n",
      "[INFO][2021/05/10 09:21:10 PM] Loading tracks/obj_type_2\n",
      "[INFO][2021/05/10 09:21:10 PM] Loading objects/obj_type_2 (18513, 5) (14856 filtered: area>=100)\n",
      "[INFO][2021/05/10 09:21:10 PM] Closing HDF file: /home/nathan/data/kraken/h2b/giulia/GV0796/Pos20/Pos20_aligned/HDF/segmented.hdf5\n"
     ]
    },
    {
     "name": "stdout",
     "output_type": "stream",
     "text": [
      "Track information loaded and ordered according to cell type (WT IDs >0> Scr IDs)\n",
      "Loaded GV0796/Pos20/\n"
     ]
    },
    {
     "name": "stderr",
     "output_type": "stream",
     "text": [
      " 42%|████▏     | 160/385 [5:13:33<3:42:04, 59.22s/it][INFO][2021/05/10 09:22:58 PM] Opening HDF file: /home/nathan/data/kraken/h2b/giulia/GV0805/Pos3/Pos3_aligned/HDF/segmented.hdf5...\n",
      "[INFO][2021/05/10 09:22:58 PM] Loading tracks/obj_type_1\n"
     ]
    },
    {
     "name": "stdout",
     "output_type": "stream",
     "text": [
      "ID GV0805_Pos3_682_GFP\n",
      "Loading GV0805/Pos3/\n",
      "Btrack version no.: 0.4.0\n"
     ]
    },
    {
     "name": "stderr",
     "output_type": "stream",
     "text": [
      "[INFO][2021/05/10 09:23:01 PM] Loading objects/obj_type_1 (518517, 5) (489660 filtered: area>=100)\n",
      "[INFO][2021/05/10 09:23:06 PM] Closing HDF file: /home/nathan/data/kraken/h2b/giulia/GV0805/Pos3/Pos3_aligned/HDF/segmented.hdf5\n",
      "[INFO][2021/05/10 09:23:06 PM] Opening HDF file: /home/nathan/data/kraken/h2b/giulia/GV0805/Pos3/Pos3_aligned/HDF/segmented.hdf5...\n",
      "[INFO][2021/05/10 09:23:06 PM] Loading tracks/obj_type_2\n",
      "[INFO][2021/05/10 09:23:06 PM] Loading objects/obj_type_2 (16677, 5) (12311 filtered: area>=100)\n",
      "[INFO][2021/05/10 09:23:06 PM] Closing HDF file: /home/nathan/data/kraken/h2b/giulia/GV0805/Pos3/Pos3_aligned/HDF/segmented.hdf5\n"
     ]
    },
    {
     "name": "stdout",
     "output_type": "stream",
     "text": [
      "Track information loaded and ordered according to cell type (WT IDs >0> Scr IDs)\n",
      "Loaded GV0805/Pos3/\n"
     ]
    },
    {
     "name": "stderr",
     "output_type": "stream",
     "text": [
      "\r",
      " 42%|████▏     | 161/385 [5:14:54<4:05:10, 65.67s/it]"
     ]
    },
    {
     "name": "stdout",
     "output_type": "stream",
     "text": [
      "ID GV0805_Pos3_50_GFP\n"
     ]
    },
    {
     "name": "stderr",
     "output_type": "stream",
     "text": [
      "\r",
      " 42%|████▏     | 162/385 [5:20:09<8:41:56, 140.43s/it]"
     ]
    },
    {
     "name": "stdout",
     "output_type": "stream",
     "text": [
      "ID GV0805_Pos3_4_GFP\n"
     ]
    },
    {
     "name": "stderr",
     "output_type": "stream",
     "text": [
      " 42%|████▏     | 163/385 [5:25:25<11:54:54, 193.22s/it][INFO][2021/05/10 09:34:50 PM] Opening HDF file: /home/nathan/data/kraken/h2b/giulia/GV0806/Pos4/Pos4_aligned/HDF/segmented.hdf5...\n",
      "[INFO][2021/05/10 09:34:50 PM] Loading tracks/obj_type_1\n"
     ]
    },
    {
     "name": "stdout",
     "output_type": "stream",
     "text": [
      "ID GV0806_Pos4_165_GFP\n",
      "Loading GV0806/Pos4/\n",
      "Btrack version no.: 0.4.0\n"
     ]
    },
    {
     "name": "stderr",
     "output_type": "stream",
     "text": [
      "[INFO][2021/05/10 09:34:53 PM] Loading objects/obj_type_1 (509105, 5) (489414 filtered: area>=100)\n",
      "[INFO][2021/05/10 09:34:57 PM] Closing HDF file: /home/nathan/data/kraken/h2b/giulia/GV0806/Pos4/Pos4_aligned/HDF/segmented.hdf5\n",
      "[INFO][2021/05/10 09:34:57 PM] Opening HDF file: /home/nathan/data/kraken/h2b/giulia/GV0806/Pos4/Pos4_aligned/HDF/segmented.hdf5...\n",
      "[INFO][2021/05/10 09:34:57 PM] Loading tracks/obj_type_2\n",
      "[INFO][2021/05/10 09:34:58 PM] Loading objects/obj_type_2 (68404, 5) (59567 filtered: area>=100)\n",
      "[INFO][2021/05/10 09:34:58 PM] Closing HDF file: /home/nathan/data/kraken/h2b/giulia/GV0806/Pos4/Pos4_aligned/HDF/segmented.hdf5\n"
     ]
    },
    {
     "name": "stdout",
     "output_type": "stream",
     "text": [
      "Track information loaded and ordered according to cell type (WT IDs >0> Scr IDs)\n",
      "Loaded GV0806/Pos4/\n"
     ]
    },
    {
     "name": "stderr",
     "output_type": "stream",
     "text": [
      "\r",
      " 43%|████▎     | 164/385 [5:27:31<10:36:52, 172.91s/it]"
     ]
    },
    {
     "name": "stdout",
     "output_type": "stream",
     "text": [
      "ID GV0806_Pos4_1452_GFP\n"
     ]
    },
    {
     "name": "stderr",
     "output_type": "stream",
     "text": [
      "\r",
      " 43%|████▎     | 165/385 [5:28:39<8:38:38, 141.45s/it] "
     ]
    },
    {
     "name": "stdout",
     "output_type": "stream",
     "text": [
      "ID GV0806_Pos4_1471_GFP\n"
     ]
    },
    {
     "name": "stderr",
     "output_type": "stream",
     "text": [
      "\r",
      " 43%|████▎     | 166/385 [5:29:20<6:46:51, 111.47s/it]"
     ]
    },
    {
     "name": "stdout",
     "output_type": "stream",
     "text": [
      "ID GV0806_Pos4_944_GFP\n"
     ]
    },
    {
     "name": "stderr",
     "output_type": "stream",
     "text": [
      "\r",
      " 43%|████▎     | 167/385 [5:30:57<6:29:13, 107.13s/it]"
     ]
    },
    {
     "name": "stdout",
     "output_type": "stream",
     "text": [
      "ID GV0806_Pos4_1258_GFP\n"
     ]
    },
    {
     "name": "stderr",
     "output_type": "stream",
     "text": [
      " 44%|████▎     | 168/385 [5:34:19<8:10:20, 135.58s/it][INFO][2021/05/10 09:43:44 PM] Opening HDF file: /home/nathan/data/kraken/h2b/giulia/GV0796/Pos3/Pos3_aligned/HDF/segmented.hdf5...\n",
      "[INFO][2021/05/10 09:43:44 PM] Loading tracks/obj_type_1\n"
     ]
    },
    {
     "name": "stdout",
     "output_type": "stream",
     "text": [
      "ID GV0796_Pos3_1599_GFP\n",
      "Loading GV0796/Pos3/\n",
      "Btrack version no.: 0.4.0\n"
     ]
    },
    {
     "name": "stderr",
     "output_type": "stream",
     "text": [
      "[INFO][2021/05/10 09:43:48 PM] Loading objects/obj_type_1 (683581, 5) (648688 filtered: area>=100)\n",
      "[INFO][2021/05/10 09:43:54 PM] Closing HDF file: /home/nathan/data/kraken/h2b/giulia/GV0796/Pos3/Pos3_aligned/HDF/segmented.hdf5\n",
      "[INFO][2021/05/10 09:43:54 PM] Opening HDF file: /home/nathan/data/kraken/h2b/giulia/GV0796/Pos3/Pos3_aligned/HDF/segmented.hdf5...\n",
      "[INFO][2021/05/10 09:43:54 PM] Loading tracks/obj_type_2\n",
      "[INFO][2021/05/10 09:43:54 PM] Loading objects/obj_type_2 (16040, 5) (13600 filtered: area>=100)\n",
      "[INFO][2021/05/10 09:43:54 PM] Closing HDF file: /home/nathan/data/kraken/h2b/giulia/GV0796/Pos3/Pos3_aligned/HDF/segmented.hdf5\n"
     ]
    },
    {
     "name": "stdout",
     "output_type": "stream",
     "text": [
      "Track information loaded and ordered according to cell type (WT IDs >0> Scr IDs)\n",
      "Loaded GV0796/Pos3/\n"
     ]
    },
    {
     "name": "stderr",
     "output_type": "stream",
     "text": [
      " 44%|████▍     | 169/385 [5:35:44<7:12:39, 120.18s/it][INFO][2021/05/10 09:45:08 PM] Opening HDF file: /home/nathan/data/kraken/h2b/giulia/GV0797/Pos19/Pos19_aligned/HDF/segmented.hdf5...\n",
      "[INFO][2021/05/10 09:45:08 PM] Loading tracks/obj_type_1\n"
     ]
    },
    {
     "name": "stdout",
     "output_type": "stream",
     "text": [
      "ID GV0797_Pos19_451_GFP\n",
      "Loading GV0797/Pos19/\n",
      "Btrack version no.: 0.4.0\n"
     ]
    },
    {
     "name": "stderr",
     "output_type": "stream",
     "text": [
      "[INFO][2021/05/10 09:45:10 PM] Loading objects/obj_type_1 (309231, 5) (297729 filtered: area>=100)\n",
      "[INFO][2021/05/10 09:45:13 PM] Closing HDF file: /home/nathan/data/kraken/h2b/giulia/GV0797/Pos19/Pos19_aligned/HDF/segmented.hdf5\n",
      "[INFO][2021/05/10 09:45:13 PM] Opening HDF file: /home/nathan/data/kraken/h2b/giulia/GV0797/Pos19/Pos19_aligned/HDF/segmented.hdf5...\n",
      "[INFO][2021/05/10 09:45:13 PM] Loading tracks/obj_type_2\n",
      "[INFO][2021/05/10 09:45:13 PM] Loading objects/obj_type_2 (4035, 5) (2645 filtered: area>=100)\n",
      "[INFO][2021/05/10 09:45:13 PM] Closing HDF file: /home/nathan/data/kraken/h2b/giulia/GV0797/Pos19/Pos19_aligned/HDF/segmented.hdf5\n"
     ]
    },
    {
     "name": "stdout",
     "output_type": "stream",
     "text": [
      "Track information loaded and ordered according to cell type (WT IDs >0> Scr IDs)\n",
      "Loaded GV0797/Pos19/\n"
     ]
    },
    {
     "name": "stderr",
     "output_type": "stream",
     "text": [
      "\r",
      " 44%|████▍     | 170/385 [5:37:48<7:15:28, 121.53s/it]"
     ]
    },
    {
     "name": "stdout",
     "output_type": "stream",
     "text": [
      "ID GV0797_Pos19_546_GFP\n"
     ]
    },
    {
     "name": "stderr",
     "output_type": "stream",
     "text": [
      "\r",
      " 44%|████▍     | 171/385 [5:39:33<6:55:38, 116.53s/it]"
     ]
    },
    {
     "name": "stdout",
     "output_type": "stream",
     "text": [
      "ID GV0797_Pos19_1229_GFP\n"
     ]
    },
    {
     "name": "stderr",
     "output_type": "stream",
     "text": [
      " 45%|████▍     | 172/385 [5:41:07<6:29:19, 109.67s/it][INFO][2021/05/10 09:50:32 PM] Opening HDF file: /home/nathan/data/kraken/h2b/giulia/GV0817/Pos12/Pos12_aligned/HDF/segmented.hdf5...\n",
      "[INFO][2021/05/10 09:50:32 PM] Loading tracks/obj_type_1\n"
     ]
    },
    {
     "name": "stdout",
     "output_type": "stream",
     "text": [
      "ID GV0817_Pos12_363_GFP\n",
      "Loading GV0817/Pos12/\n",
      "Btrack version no.: 0.4.0\n"
     ]
    },
    {
     "name": "stderr",
     "output_type": "stream",
     "text": [
      "[INFO][2021/05/10 09:50:33 PM] Loading objects/obj_type_1 (181283, 5) (167848 filtered: area>=100)\n",
      "[INFO][2021/05/10 09:50:34 PM] Closing HDF file: /home/nathan/data/kraken/h2b/giulia/GV0817/Pos12/Pos12_aligned/HDF/segmented.hdf5\n",
      "[INFO][2021/05/10 09:50:34 PM] Opening HDF file: /home/nathan/data/kraken/h2b/giulia/GV0817/Pos12/Pos12_aligned/HDF/segmented.hdf5...\n",
      "[INFO][2021/05/10 09:50:34 PM] Loading tracks/obj_type_2\n",
      "[INFO][2021/05/10 09:50:35 PM] Loading objects/obj_type_2 (111487, 5) (83279 filtered: area>=100)\n",
      "[INFO][2021/05/10 09:50:35 PM] Closing HDF file: /home/nathan/data/kraken/h2b/giulia/GV0817/Pos12/Pos12_aligned/HDF/segmented.hdf5\n"
     ]
    },
    {
     "name": "stdout",
     "output_type": "stream",
     "text": [
      "Track information loaded and ordered according to cell type (WT IDs >0> Scr IDs)\n",
      "Loaded GV0817/Pos12/\n"
     ]
    },
    {
     "name": "stderr",
     "output_type": "stream",
     "text": [
      "\r",
      " 45%|████▍     | 173/385 [5:41:51<5:17:45, 89.93s/it] "
     ]
    },
    {
     "name": "stdout",
     "output_type": "stream",
     "text": [
      "ID GV0817_Pos12_1193_GFP\n"
     ]
    },
    {
     "name": "stderr",
     "output_type": "stream",
     "text": [
      " 45%|████▌     | 174/385 [5:42:45<4:38:58, 79.33s/it][INFO][2021/05/10 09:52:10 PM] Opening HDF file: /home/nathan/data/kraken/h2b/giulia/GV0804/Pos4/Pos4_aligned/HDF/segmented.hdf5...\n",
      "[INFO][2021/05/10 09:52:10 PM] Loading tracks/obj_type_1\n"
     ]
    },
    {
     "name": "stdout",
     "output_type": "stream",
     "text": [
      "ID GV0804_Pos4_1013_GFP\n",
      "Loading GV0804/Pos4/\n",
      "Btrack version no.: 0.4.0\n"
     ]
    },
    {
     "name": "stderr",
     "output_type": "stream",
     "text": [
      "[INFO][2021/05/10 09:52:12 PM] Loading objects/obj_type_1 (271439, 5) (257929 filtered: area>=100)\n",
      "[INFO][2021/05/10 09:52:14 PM] Closing HDF file: /home/nathan/data/kraken/h2b/giulia/GV0804/Pos4/Pos4_aligned/HDF/segmented.hdf5\n",
      "[INFO][2021/05/10 09:52:14 PM] Opening HDF file: /home/nathan/data/kraken/h2b/giulia/GV0804/Pos4/Pos4_aligned/HDF/segmented.hdf5...\n",
      "[INFO][2021/05/10 09:52:14 PM] Loading tracks/obj_type_2\n",
      "[INFO][2021/05/10 09:52:14 PM] Loading objects/obj_type_2 (42112, 5) (36481 filtered: area>=100)\n",
      "[INFO][2021/05/10 09:52:15 PM] Closing HDF file: /home/nathan/data/kraken/h2b/giulia/GV0804/Pos4/Pos4_aligned/HDF/segmented.hdf5\n"
     ]
    },
    {
     "name": "stdout",
     "output_type": "stream",
     "text": [
      "Track information loaded and ordered according to cell type (WT IDs >0> Scr IDs)\n",
      "Loaded GV0804/Pos4/\n"
     ]
    },
    {
     "name": "stderr",
     "output_type": "stream",
     "text": [
      "\r",
      " 45%|████▌     | 175/385 [5:43:50<4:22:24, 74.98s/it]"
     ]
    },
    {
     "name": "stdout",
     "output_type": "stream",
     "text": [
      "ID GV0804_Pos4_1774_GFP\n"
     ]
    },
    {
     "name": "stderr",
     "output_type": "stream",
     "text": [
      " 46%|████▌     | 176/385 [5:44:49<4:03:51, 70.01s/it][INFO][2021/05/10 09:54:13 PM] Opening HDF file: /home/nathan/data/kraken/h2b/giulia/GV0797/Pos4/Pos4_aligned/HDF/segmented.hdf5...\n",
      "[INFO][2021/05/10 09:54:13 PM] Loading tracks/obj_type_1\n"
     ]
    },
    {
     "name": "stdout",
     "output_type": "stream",
     "text": [
      "ID GV0797_Pos4_290_GFP\n",
      "Loading GV0797/Pos4/\n",
      "Btrack version no.: 0.4.0\n"
     ]
    },
    {
     "name": "stderr",
     "output_type": "stream",
     "text": [
      "[INFO][2021/05/10 09:54:15 PM] Loading objects/obj_type_1 (298548, 5) (283305 filtered: area>=100)\n",
      "[INFO][2021/05/10 09:54:18 PM] Closing HDF file: /home/nathan/data/kraken/h2b/giulia/GV0797/Pos4/Pos4_aligned/HDF/segmented.hdf5\n",
      "[INFO][2021/05/10 09:54:18 PM] Opening HDF file: /home/nathan/data/kraken/h2b/giulia/GV0797/Pos4/Pos4_aligned/HDF/segmented.hdf5...\n",
      "[INFO][2021/05/10 09:54:18 PM] Loading tracks/obj_type_2\n",
      "[INFO][2021/05/10 09:54:18 PM] Loading objects/obj_type_2 (52032, 5) (37211 filtered: area>=100)\n",
      "[INFO][2021/05/10 09:54:18 PM] Closing HDF file: /home/nathan/data/kraken/h2b/giulia/GV0797/Pos4/Pos4_aligned/HDF/segmented.hdf5\n"
     ]
    },
    {
     "name": "stdout",
     "output_type": "stream",
     "text": [
      "Track information loaded and ordered according to cell type (WT IDs >0> Scr IDs)\n",
      "Loaded GV0797/Pos4/\n"
     ]
    },
    {
     "name": "stderr",
     "output_type": "stream",
     "text": [
      "\r",
      " 46%|████▌     | 177/385 [5:46:05<4:09:46, 72.05s/it]"
     ]
    },
    {
     "name": "stdout",
     "output_type": "stream",
     "text": [
      "ID GV0797_Pos4_1397_GFP\n"
     ]
    },
    {
     "name": "stderr",
     "output_type": "stream",
     "text": [
      "\r",
      " 46%|████▌     | 178/385 [5:46:33<3:22:15, 58.62s/it]"
     ]
    },
    {
     "name": "stdout",
     "output_type": "stream",
     "text": [
      "ID GV0797_Pos4_825_GFP\n"
     ]
    },
    {
     "name": "stderr",
     "output_type": "stream",
     "text": [
      "\r",
      " 46%|████▋     | 179/385 [5:48:01<3:51:34, 67.45s/it]"
     ]
    },
    {
     "name": "stdout",
     "output_type": "stream",
     "text": [
      "ID GV0797_Pos4_1823_GFP\n"
     ]
    },
    {
     "name": "stderr",
     "output_type": "stream",
     "text": [
      "\r",
      " 47%|████▋     | 180/385 [5:49:09<3:51:02, 67.62s/it]"
     ]
    },
    {
     "name": "stdout",
     "output_type": "stream",
     "text": [
      "ID GV0797_Pos4_1006_GFP\n"
     ]
    },
    {
     "name": "stderr",
     "output_type": "stream",
     "text": [
      "\r",
      " 47%|████▋     | 181/385 [5:50:40<4:14:15, 74.78s/it]"
     ]
    },
    {
     "name": "stdout",
     "output_type": "stream",
     "text": [
      "ID GV0797_Pos4_1487_GFP\n"
     ]
    },
    {
     "name": "stderr",
     "output_type": "stream",
     "text": [
      "\r",
      " 47%|████▋     | 182/385 [5:51:56<4:13:56, 75.05s/it]"
     ]
    },
    {
     "name": "stdout",
     "output_type": "stream",
     "text": [
      "ID GV0797_Pos4_1486_GFP\n"
     ]
    },
    {
     "name": "stderr",
     "output_type": "stream",
     "text": [
      "\r",
      " 48%|████▊     | 183/385 [5:53:21<4:23:07, 78.15s/it]"
     ]
    },
    {
     "name": "stdout",
     "output_type": "stream",
     "text": [
      "ID GV0797_Pos4_2398_GFP\n"
     ]
    },
    {
     "name": "stderr",
     "output_type": "stream",
     "text": [
      "\r",
      " 48%|████▊     | 184/385 [5:54:16<3:57:55, 71.02s/it]"
     ]
    },
    {
     "name": "stdout",
     "output_type": "stream",
     "text": [
      "ID GV0797_Pos4_2468_GFP\n"
     ]
    },
    {
     "name": "stderr",
     "output_type": "stream",
     "text": [
      " 48%|████▊     | 185/385 [5:54:56<3:25:47, 61.74s/it][INFO][2021/05/10 10:04:21 PM] Opening HDF file: /home/nathan/data/kraken/h2b/giulia/GV0814/Pos0/Pos0_aligned/HDF/segmented.hdf5...\n",
      "[INFO][2021/05/10 10:04:21 PM] Loading tracks/obj_type_1\n"
     ]
    },
    {
     "name": "stdout",
     "output_type": "stream",
     "text": [
      "ID GV0814_Pos0_578_GFP\n",
      "Loading GV0814/Pos0/\n",
      "Btrack version no.: 0.4.0\n"
     ]
    },
    {
     "name": "stderr",
     "output_type": "stream",
     "text": [
      "[INFO][2021/05/10 10:04:21 PM] Loading objects/obj_type_1 (134206, 5) (118580 filtered: area>=100)\n",
      "[INFO][2021/05/10 10:04:22 PM] Closing HDF file: /home/nathan/data/kraken/h2b/giulia/GV0814/Pos0/Pos0_aligned/HDF/segmented.hdf5\n",
      "[INFO][2021/05/10 10:04:22 PM] Opening HDF file: /home/nathan/data/kraken/h2b/giulia/GV0814/Pos0/Pos0_aligned/HDF/segmented.hdf5...\n",
      "[INFO][2021/05/10 10:04:22 PM] Loading tracks/obj_type_2\n",
      "[INFO][2021/05/10 10:04:22 PM] Loading objects/obj_type_2 (41136, 5) (25703 filtered: area>=100)\n",
      "[INFO][2021/05/10 10:04:23 PM] Closing HDF file: /home/nathan/data/kraken/h2b/giulia/GV0814/Pos0/Pos0_aligned/HDF/segmented.hdf5\n"
     ]
    },
    {
     "name": "stdout",
     "output_type": "stream",
     "text": [
      "Track information loaded and ordered according to cell type (WT IDs >0> Scr IDs)\n",
      "Loaded GV0814/Pos0/\n"
     ]
    },
    {
     "name": "stderr",
     "output_type": "stream",
     "text": [
      "\r",
      " 48%|████▊     | 186/385 [5:56:05<3:32:13, 63.99s/it]"
     ]
    },
    {
     "name": "stdout",
     "output_type": "stream",
     "text": [
      "ID GV0814_Pos0_597_GFP\n"
     ]
    },
    {
     "name": "stderr",
     "output_type": "stream",
     "text": [
      "\r",
      " 49%|████▊     | 187/385 [5:57:14<3:35:44, 65.38s/it]"
     ]
    },
    {
     "name": "stdout",
     "output_type": "stream",
     "text": [
      "ID GV0814_Pos0_452_GFP\n"
     ]
    },
    {
     "name": "stderr",
     "output_type": "stream",
     "text": [
      "\r",
      " 49%|████▉     | 188/385 [5:58:34<3:49:34, 69.92s/it]"
     ]
    },
    {
     "name": "stdout",
     "output_type": "stream",
     "text": [
      "ID GV0814_Pos0_1322_GFP\n"
     ]
    },
    {
     "name": "stderr",
     "output_type": "stream",
     "text": [
      "\r",
      " 49%|████▉     | 189/385 [5:58:54<2:58:58, 54.79s/it]"
     ]
    },
    {
     "name": "stdout",
     "output_type": "stream",
     "text": [
      "ID GV0814_Pos0_453_GFP\n"
     ]
    },
    {
     "name": "stderr",
     "output_type": "stream",
     "text": [
      "\r",
      " 49%|████▉     | 190/385 [6:00:06<3:15:28, 60.15s/it]"
     ]
    },
    {
     "name": "stdout",
     "output_type": "stream",
     "text": [
      "ID GV0814_Pos0_26_GFP\n"
     ]
    },
    {
     "name": "stderr",
     "output_type": "stream",
     "text": [
      "\r",
      " 50%|████▉     | 191/385 [6:02:19<4:24:35, 81.83s/it]"
     ]
    },
    {
     "name": "stdout",
     "output_type": "stream",
     "text": [
      "ID GV0814_Pos0_357_GFP\n"
     ]
    },
    {
     "name": "stderr",
     "output_type": "stream",
     "text": [
      " 50%|████▉     | 192/385 [6:03:45<4:27:38, 83.21s/it][INFO][2021/05/10 10:13:10 PM] Opening HDF file: /home/nathan/data/kraken/h2b/giulia/GV0800/Pos15/Pos15_aligned/HDF/segmented.hdf5...\n",
      "[INFO][2021/05/10 10:13:10 PM] Loading tracks/obj_type_1\n"
     ]
    },
    {
     "name": "stdout",
     "output_type": "stream",
     "text": [
      "ID GV0800_Pos15_91_GFP\n",
      "Loading GV0800/Pos15/\n",
      "Btrack version no.: 0.4.0\n"
     ]
    },
    {
     "name": "stderr",
     "output_type": "stream",
     "text": [
      "[INFO][2021/05/10 10:13:13 PM] Loading objects/obj_type_1 (496218, 5) (476849 filtered: area>=100)\n",
      "[INFO][2021/05/10 10:13:17 PM] Closing HDF file: /home/nathan/data/kraken/h2b/giulia/GV0800/Pos15/Pos15_aligned/HDF/segmented.hdf5\n",
      "[INFO][2021/05/10 10:13:17 PM] Opening HDF file: /home/nathan/data/kraken/h2b/giulia/GV0800/Pos15/Pos15_aligned/HDF/segmented.hdf5...\n",
      "[INFO][2021/05/10 10:13:17 PM] Loading tracks/obj_type_2\n",
      "[INFO][2021/05/10 10:13:17 PM] Loading objects/obj_type_2 (16106, 5) (13248 filtered: area>=100)\n",
      "[INFO][2021/05/10 10:13:17 PM] Closing HDF file: /home/nathan/data/kraken/h2b/giulia/GV0800/Pos15/Pos15_aligned/HDF/segmented.hdf5\n"
     ]
    },
    {
     "name": "stdout",
     "output_type": "stream",
     "text": [
      "Track information loaded and ordered according to cell type (WT IDs >0> Scr IDs)\n",
      "Loaded GV0800/Pos15/\n"
     ]
    },
    {
     "name": "stderr",
     "output_type": "stream",
     "text": [
      "\r",
      " 50%|█████     | 193/385 [6:06:08<5:23:45, 101.17s/it]"
     ]
    },
    {
     "name": "stdout",
     "output_type": "stream",
     "text": [
      "ID GV0800_Pos15_1412_GFP\n"
     ]
    },
    {
     "name": "stderr",
     "output_type": "stream",
     "text": [
      " 50%|█████     | 194/385 [6:08:29<6:00:20, 113.19s/it][INFO][2021/05/10 10:17:54 PM] Opening HDF file: /home/nathan/data/kraken/h2b/giulia/GV0798/Pos6/Pos6_aligned/HDF/segmented.hdf5...\n",
      "[INFO][2021/05/10 10:17:54 PM] Loading tracks/obj_type_1\n"
     ]
    },
    {
     "name": "stdout",
     "output_type": "stream",
     "text": [
      "ID GV0798_Pos6_11_GFP\n",
      "Loading GV0798/Pos6/\n",
      "Btrack version no.: 0.4.0\n"
     ]
    },
    {
     "name": "stderr",
     "output_type": "stream",
     "text": [
      "[INFO][2021/05/10 10:17:55 PM] Loading objects/obj_type_1 (87350, 5) (79247 filtered: area>=100)\n",
      "[INFO][2021/05/10 10:17:55 PM] Closing HDF file: /home/nathan/data/kraken/h2b/giulia/GV0798/Pos6/Pos6_aligned/HDF/segmented.hdf5\n",
      "[INFO][2021/05/10 10:17:55 PM] Opening HDF file: /home/nathan/data/kraken/h2b/giulia/GV0798/Pos6/Pos6_aligned/HDF/segmented.hdf5...\n",
      "[INFO][2021/05/10 10:17:55 PM] Loading tracks/obj_type_2\n",
      "[INFO][2021/05/10 10:17:56 PM] Loading objects/obj_type_2 (81755, 5) (62545 filtered: area>=100)\n",
      "[INFO][2021/05/10 10:17:56 PM] Closing HDF file: /home/nathan/data/kraken/h2b/giulia/GV0798/Pos6/Pos6_aligned/HDF/segmented.hdf5\n"
     ]
    },
    {
     "name": "stdout",
     "output_type": "stream",
     "text": [
      "Track information loaded and ordered according to cell type (WT IDs >0> Scr IDs)\n",
      "Loaded GV0798/Pos6/\n"
     ]
    },
    {
     "name": "stderr",
     "output_type": "stream",
     "text": [
      " 51%|█████     | 195/385 [6:09:17<4:56:19, 93.58s/it] [INFO][2021/05/10 10:18:42 PM] Opening HDF file: /home/nathan/data/kraken/h2b/giulia/GV0820/Pos0/Pos0_aligned/HDF/segmented.hdf5...\n",
      "[INFO][2021/05/10 10:18:42 PM] Loading tracks/obj_type_1\n"
     ]
    },
    {
     "name": "stdout",
     "output_type": "stream",
     "text": [
      "ID GV0820_Pos0_35_GFP\n",
      "Loading GV0820/Pos0/\n",
      "Btrack version no.: 0.4.0\n"
     ]
    },
    {
     "name": "stderr",
     "output_type": "stream",
     "text": [
      "[INFO][2021/05/10 10:18:43 PM] Loading objects/obj_type_1 (204895, 5) (190534 filtered: area>=100)\n",
      "[INFO][2021/05/10 10:18:45 PM] Closing HDF file: /home/nathan/data/kraken/h2b/giulia/GV0820/Pos0/Pos0_aligned/HDF/segmented.hdf5\n",
      "[INFO][2021/05/10 10:18:45 PM] Opening HDF file: /home/nathan/data/kraken/h2b/giulia/GV0820/Pos0/Pos0_aligned/HDF/segmented.hdf5...\n",
      "[INFO][2021/05/10 10:18:45 PM] Loading tracks/obj_type_2\n",
      "[INFO][2021/05/10 10:18:45 PM] Loading objects/obj_type_2 (70432, 5) (57621 filtered: area>=100)\n",
      "[INFO][2021/05/10 10:18:45 PM] Closing HDF file: /home/nathan/data/kraken/h2b/giulia/GV0820/Pos0/Pos0_aligned/HDF/segmented.hdf5\n"
     ]
    },
    {
     "name": "stdout",
     "output_type": "stream",
     "text": [
      "Track information loaded and ordered according to cell type (WT IDs >0> Scr IDs)\n",
      "Loaded GV0820/Pos0/\n"
     ]
    },
    {
     "name": "stderr",
     "output_type": "stream",
     "text": [
      "\r",
      " 51%|█████     | 196/385 [6:10:02<4:08:13, 78.80s/it]"
     ]
    },
    {
     "name": "stdout",
     "output_type": "stream",
     "text": [
      "ID GV0820_Pos0_28_GFP\n"
     ]
    },
    {
     "name": "stderr",
     "output_type": "stream",
     "text": [
      "\r",
      " 51%|█████     | 197/385 [6:12:16<4:59:07, 95.47s/it]"
     ]
    },
    {
     "name": "stdout",
     "output_type": "stream",
     "text": [
      "ID GV0820_Pos0_930_GFP\n"
     ]
    },
    {
     "name": "stderr",
     "output_type": "stream",
     "text": [
      "\r",
      " 51%|█████▏    | 198/385 [6:12:37<3:47:38, 73.04s/it]"
     ]
    },
    {
     "name": "stdout",
     "output_type": "stream",
     "text": [
      "ID GV0820_Pos0_739_GFP\n"
     ]
    },
    {
     "name": "stderr",
     "output_type": "stream",
     "text": [
      "\r",
      " 52%|█████▏    | 199/385 [6:14:04<3:59:49, 77.36s/it]"
     ]
    },
    {
     "name": "stdout",
     "output_type": "stream",
     "text": [
      "ID GV0820_Pos0_501_GFP\n"
     ]
    },
    {
     "name": "stderr",
     "output_type": "stream",
     "text": [
      "\r",
      " 52%|█████▏    | 200/385 [6:15:35<4:11:17, 81.50s/it]"
     ]
    },
    {
     "name": "stdout",
     "output_type": "stream",
     "text": [
      "ID GV0820_Pos0_19_GFP\n"
     ]
    },
    {
     "name": "stderr",
     "output_type": "stream",
     "text": [
      "\r",
      " 52%|█████▏    | 201/385 [6:18:49<5:53:23, 115.23s/it]"
     ]
    },
    {
     "name": "stdout",
     "output_type": "stream",
     "text": [
      "ID GV0820_Pos0_589_GFP\n"
     ]
    },
    {
     "name": "stderr",
     "output_type": "stream",
     "text": [
      "\r",
      " 52%|█████▏    | 202/385 [6:20:03<5:13:35, 102.82s/it]"
     ]
    },
    {
     "name": "stdout",
     "output_type": "stream",
     "text": [
      "ID GV0820_Pos0_709_GFP\n"
     ]
    },
    {
     "name": "stderr",
     "output_type": "stream",
     "text": [
      "\r",
      " 53%|█████▎    | 203/385 [6:21:45<5:11:26, 102.68s/it]"
     ]
    },
    {
     "name": "stdout",
     "output_type": "stream",
     "text": [
      "ID GV0820_Pos0_1329_GFP\n"
     ]
    },
    {
     "name": "stderr",
     "output_type": "stream",
     "text": [
      "\r",
      " 53%|█████▎    | 204/385 [6:22:37<4:23:25, 87.32s/it] "
     ]
    },
    {
     "name": "stdout",
     "output_type": "stream",
     "text": [
      "ID GV0820_Pos0_854_GFP\n"
     ]
    },
    {
     "name": "stderr",
     "output_type": "stream",
     "text": [
      "\r",
      " 53%|█████▎    | 205/385 [6:23:55<4:13:58, 84.66s/it]"
     ]
    },
    {
     "name": "stdout",
     "output_type": "stream",
     "text": [
      "ID GV0820_Pos0_784_GFP\n"
     ]
    },
    {
     "name": "stderr",
     "output_type": "stream",
     "text": [
      "\r",
      " 54%|█████▎    | 206/385 [6:25:15<4:07:48, 83.06s/it]"
     ]
    },
    {
     "name": "stdout",
     "output_type": "stream",
     "text": [
      "ID GV0820_Pos0_1837_GFP\n"
     ]
    },
    {
     "name": "stderr",
     "output_type": "stream",
     "text": [
      "\r",
      " 54%|█████▍    | 207/385 [6:25:55<3:28:26, 70.26s/it]"
     ]
    },
    {
     "name": "stdout",
     "output_type": "stream",
     "text": [
      "ID GV0820_Pos0_2191_GFP\n"
     ]
    },
    {
     "name": "stderr",
     "output_type": "stream",
     "text": [
      "\r",
      " 54%|█████▍    | 208/385 [6:26:23<2:49:39, 57.51s/it]"
     ]
    },
    {
     "name": "stdout",
     "output_type": "stream",
     "text": [
      "ID GV0820_Pos0_710_GFP\n"
     ]
    },
    {
     "name": "stderr",
     "output_type": "stream",
     "text": [
      "\r",
      " 54%|█████▍    | 209/385 [6:28:01<3:24:08, 69.60s/it]"
     ]
    },
    {
     "name": "stdout",
     "output_type": "stream",
     "text": [
      "ID GV0820_Pos0_1231_GFP\n"
     ]
    },
    {
     "name": "stderr",
     "output_type": "stream",
     "text": [
      " 55%|█████▍    | 210/385 [6:29:08<3:20:40, 68.80s/it][INFO][2021/05/10 10:38:32 PM] Opening HDF file: /home/nathan/data/kraken/h2b/giulia/GV0798/Pos18/Pos18_aligned/HDF/segmented.hdf5...\n",
      "[INFO][2021/05/10 10:38:32 PM] Loading tracks/obj_type_1\n"
     ]
    },
    {
     "name": "stdout",
     "output_type": "stream",
     "text": [
      "ID GV0798_Pos18_353_GFP\n",
      "Loading GV0798/Pos18/\n",
      "Btrack version no.: 0.4.0\n"
     ]
    },
    {
     "name": "stderr",
     "output_type": "stream",
     "text": [
      "[INFO][2021/05/10 10:38:35 PM] Loading objects/obj_type_1 (429266, 5) (414111 filtered: area>=100)\n",
      "[INFO][2021/05/10 10:38:39 PM] Closing HDF file: /home/nathan/data/kraken/h2b/giulia/GV0798/Pos18/Pos18_aligned/HDF/segmented.hdf5\n",
      "[INFO][2021/05/10 10:38:39 PM] Opening HDF file: /home/nathan/data/kraken/h2b/giulia/GV0798/Pos18/Pos18_aligned/HDF/segmented.hdf5...\n",
      "[INFO][2021/05/10 10:38:39 PM] Loading tracks/obj_type_2\n",
      "[INFO][2021/05/10 10:38:39 PM] Loading objects/obj_type_2 (9488, 5) (7986 filtered: area>=100)\n",
      "[INFO][2021/05/10 10:38:39 PM] Closing HDF file: /home/nathan/data/kraken/h2b/giulia/GV0798/Pos18/Pos18_aligned/HDF/segmented.hdf5\n"
     ]
    },
    {
     "name": "stdout",
     "output_type": "stream",
     "text": [
      "Track information loaded and ordered according to cell type (WT IDs >0> Scr IDs)\n",
      "Loaded GV0798/Pos18/\n"
     ]
    },
    {
     "name": "stderr",
     "output_type": "stream",
     "text": [
      " 55%|█████▍    | 211/385 [6:30:11<3:15:14, 67.32s/it][INFO][2021/05/10 10:39:36 PM] Opening HDF file: /home/nathan/data/kraken/h2b/giulia/GV0815/Pos12/Pos12_aligned/HDF/segmented.hdf5...\n",
      "[INFO][2021/05/10 10:39:36 PM] Loading tracks/obj_type_1\n"
     ]
    },
    {
     "name": "stdout",
     "output_type": "stream",
     "text": [
      "ID GV0815_Pos12_1143_GFP\n",
      "Loading GV0815/Pos12/\n",
      "Btrack version no.: 0.4.0\n"
     ]
    },
    {
     "name": "stderr",
     "output_type": "stream",
     "text": [
      "[INFO][2021/05/10 10:39:37 PM] Loading objects/obj_type_1 (224299, 5) (200430 filtered: area>=100)\n",
      "[INFO][2021/05/10 10:39:39 PM] Closing HDF file: /home/nathan/data/kraken/h2b/giulia/GV0815/Pos12/Pos12_aligned/HDF/segmented.hdf5\n",
      "[INFO][2021/05/10 10:39:39 PM] Opening HDF file: /home/nathan/data/kraken/h2b/giulia/GV0815/Pos12/Pos12_aligned/HDF/segmented.hdf5...\n",
      "[INFO][2021/05/10 10:39:39 PM] Loading tracks/obj_type_2\n",
      "[INFO][2021/05/10 10:39:39 PM] Loading objects/obj_type_2 (51057, 5) (39432 filtered: area>=100)\n",
      "[INFO][2021/05/10 10:39:40 PM] Closing HDF file: /home/nathan/data/kraken/h2b/giulia/GV0815/Pos12/Pos12_aligned/HDF/segmented.hdf5\n"
     ]
    },
    {
     "name": "stdout",
     "output_type": "stream",
     "text": [
      "Track information loaded and ordered according to cell type (WT IDs >0> Scr IDs)\n",
      "Loaded GV0815/Pos12/\n"
     ]
    },
    {
     "name": "stderr",
     "output_type": "stream",
     "text": [
      "\r",
      " 55%|█████▌    | 212/385 [6:31:24<3:18:23, 68.81s/it]"
     ]
    },
    {
     "name": "stdout",
     "output_type": "stream",
     "text": [
      "ID GV0815_Pos12_1142_GFP\n"
     ]
    },
    {
     "name": "stderr",
     "output_type": "stream",
     "text": [
      "\r",
      " 55%|█████▌    | 213/385 [6:32:01<2:50:09, 59.35s/it]"
     ]
    },
    {
     "name": "stdout",
     "output_type": "stream",
     "text": [
      "ID GV0815_Pos12_799_GFP\n"
     ]
    },
    {
     "name": "stderr",
     "output_type": "stream",
     "text": [
      "\r",
      " 56%|█████▌    | 214/385 [6:33:26<3:11:18, 67.13s/it]"
     ]
    },
    {
     "name": "stdout",
     "output_type": "stream",
     "text": [
      "ID GV0815_Pos12_1521_GFP\n"
     ]
    },
    {
     "name": "stderr",
     "output_type": "stream",
     "text": [
      "\r",
      " 56%|█████▌    | 215/385 [6:34:29<3:06:32, 65.84s/it]"
     ]
    },
    {
     "name": "stdout",
     "output_type": "stream",
     "text": [
      "ID GV0815_Pos12_817_GFP\n"
     ]
    },
    {
     "name": "stderr",
     "output_type": "stream",
     "text": [
      "\r",
      " 56%|█████▌    | 216/385 [6:36:08<3:33:42, 75.87s/it]"
     ]
    },
    {
     "name": "stdout",
     "output_type": "stream",
     "text": [
      "ID GV0815_Pos12_2169_GFP\n"
     ]
    },
    {
     "name": "stderr",
     "output_type": "stream",
     "text": [
      " 56%|█████▋    | 217/385 [6:36:31<2:47:54, 59.97s/it][INFO][2021/05/10 10:45:56 PM] Opening HDF file: /home/nathan/data/kraken/h2b/giulia/GV0813/Pos2/Pos2_aligned/HDF/segmented.hdf5...\n",
      "[INFO][2021/05/10 10:45:56 PM] Loading tracks/obj_type_1\n"
     ]
    },
    {
     "name": "stdout",
     "output_type": "stream",
     "text": [
      "ID GV0813_Pos2_589_GFP\n",
      "Loading GV0813/Pos2/\n",
      "Btrack version no.: 0.4.0\n"
     ]
    },
    {
     "name": "stderr",
     "output_type": "stream",
     "text": [
      "[INFO][2021/05/10 10:45:57 PM] Loading objects/obj_type_1 (142719, 5) (105609 filtered: area>=100)\n",
      "[INFO][2021/05/10 10:45:58 PM] Closing HDF file: /home/nathan/data/kraken/h2b/giulia/GV0813/Pos2/Pos2_aligned/HDF/segmented.hdf5\n",
      "[INFO][2021/05/10 10:45:58 PM] Opening HDF file: /home/nathan/data/kraken/h2b/giulia/GV0813/Pos2/Pos2_aligned/HDF/segmented.hdf5...\n",
      "[INFO][2021/05/10 10:45:58 PM] Loading tracks/obj_type_2\n",
      "[INFO][2021/05/10 10:45:58 PM] Loading objects/obj_type_2 (22756, 5) (19093 filtered: area>=100)\n",
      "[INFO][2021/05/10 10:45:58 PM] Closing HDF file: /home/nathan/data/kraken/h2b/giulia/GV0813/Pos2/Pos2_aligned/HDF/segmented.hdf5\n"
     ]
    },
    {
     "name": "stdout",
     "output_type": "stream",
     "text": [
      "Track information loaded and ordered according to cell type (WT IDs >0> Scr IDs)\n",
      "Loaded GV0813/Pos2/\n"
     ]
    },
    {
     "name": "stderr",
     "output_type": "stream",
     "text": [
      "\r",
      " 57%|█████▋    | 218/385 [6:37:13<2:31:27, 54.41s/it]"
     ]
    },
    {
     "name": "stdout",
     "output_type": "stream",
     "text": [
      "ID GV0813_Pos2_717_GFP\n"
     ]
    },
    {
     "name": "stderr",
     "output_type": "stream",
     "text": [
      " 57%|█████▋    | 219/385 [6:38:20<2:40:49, 58.13s/it][INFO][2021/05/10 10:47:44 PM] Opening HDF file: /home/nathan/data/kraken/h2b/giulia/GV0819/Pos1/Pos1_aligned/HDF/segmented.hdf5...\n",
      "[INFO][2021/05/10 10:47:44 PM] Loading tracks/obj_type_1\n"
     ]
    },
    {
     "name": "stdout",
     "output_type": "stream",
     "text": [
      "ID GV0819_Pos1_34_GFP\n",
      "Loading GV0819/Pos1/\n",
      "Btrack version no.: 0.4.0\n"
     ]
    },
    {
     "name": "stderr",
     "output_type": "stream",
     "text": [
      "[INFO][2021/05/10 10:47:46 PM] Loading objects/obj_type_1 (291961, 5) (262012 filtered: area>=100)\n",
      "[INFO][2021/05/10 10:47:48 PM] Closing HDF file: /home/nathan/data/kraken/h2b/giulia/GV0819/Pos1/Pos1_aligned/HDF/segmented.hdf5\n",
      "[INFO][2021/05/10 10:47:48 PM] Opening HDF file: /home/nathan/data/kraken/h2b/giulia/GV0819/Pos1/Pos1_aligned/HDF/segmented.hdf5...\n",
      "[INFO][2021/05/10 10:47:48 PM] Loading tracks/obj_type_2\n",
      "[INFO][2021/05/10 10:47:48 PM] Loading objects/obj_type_2 (51130, 5) (42876 filtered: area>=100)\n",
      "[INFO][2021/05/10 10:47:49 PM] Closing HDF file: /home/nathan/data/kraken/h2b/giulia/GV0819/Pos1/Pos1_aligned/HDF/segmented.hdf5\n"
     ]
    },
    {
     "name": "stdout",
     "output_type": "stream",
     "text": [
      "Track information loaded and ordered according to cell type (WT IDs >0> Scr IDs)\n",
      "Loaded GV0819/Pos1/\n"
     ]
    },
    {
     "name": "stderr",
     "output_type": "stream",
     "text": [
      "\r",
      " 57%|█████▋    | 220/385 [6:40:43<3:50:29, 83.81s/it]"
     ]
    },
    {
     "name": "stdout",
     "output_type": "stream",
     "text": [
      "ID GV0819_Pos1_425_GFP\n"
     ]
    },
    {
     "name": "stderr",
     "output_type": "stream",
     "text": [
      "\r",
      " 57%|█████▋    | 221/385 [6:41:55<3:39:33, 80.33s/it]"
     ]
    },
    {
     "name": "stdout",
     "output_type": "stream",
     "text": [
      "ID GV0819_Pos1_653_GFP\n"
     ]
    },
    {
     "name": "stderr",
     "output_type": "stream",
     "text": [
      "\r",
      " 58%|█████▊    | 222/385 [6:42:23<2:55:21, 64.55s/it]"
     ]
    },
    {
     "name": "stdout",
     "output_type": "stream",
     "text": [
      "ID GV0819_Pos1_739_GFP\n"
     ]
    },
    {
     "name": "stderr",
     "output_type": "stream",
     "text": [
      "\r",
      " 58%|█████▊    | 223/385 [6:42:52<2:25:19, 53.82s/it]"
     ]
    },
    {
     "name": "stdout",
     "output_type": "stream",
     "text": [
      "ID GV0819_Pos1_1068_GFP\n"
     ]
    },
    {
     "name": "stderr",
     "output_type": "stream",
     "text": [
      "\r",
      " 58%|█████▊    | 224/385 [6:43:27<2:09:18, 48.19s/it]"
     ]
    },
    {
     "name": "stdout",
     "output_type": "stream",
     "text": [
      "ID GV0819_Pos1_941_GFP\n"
     ]
    },
    {
     "name": "stderr",
     "output_type": "stream",
     "text": [
      "\r",
      " 58%|█████▊    | 225/385 [6:45:43<3:18:51, 74.57s/it]"
     ]
    },
    {
     "name": "stdout",
     "output_type": "stream",
     "text": [
      "ID GV0819_Pos1_942_GFP\n"
     ]
    },
    {
     "name": "stderr",
     "output_type": "stream",
     "text": [
      "\r",
      " 59%|█████▊    | 226/385 [6:46:31<2:56:03, 66.44s/it]"
     ]
    },
    {
     "name": "stdout",
     "output_type": "stream",
     "text": [
      "ID GV0819_Pos1_1745_GFP\n"
     ]
    },
    {
     "name": "stderr",
     "output_type": "stream",
     "text": [
      "\r",
      " 59%|█████▉    | 227/385 [6:47:25<2:45:04, 62.69s/it]"
     ]
    },
    {
     "name": "stdout",
     "output_type": "stream",
     "text": [
      "ID GV0819_Pos1_798_GFP\n"
     ]
    },
    {
     "name": "stderr",
     "output_type": "stream",
     "text": [
      " 59%|█████▉    | 228/385 [6:49:38<3:39:37, 83.93s/it][INFO][2021/05/10 10:59:03 PM] Opening HDF file: /home/nathan/data/kraken/h2b/giulia/GV0816/Pos14/Pos14_aligned/HDF/segmented.hdf5...\n",
      "[INFO][2021/05/10 10:59:03 PM] Loading tracks/obj_type_1\n"
     ]
    },
    {
     "name": "stdout",
     "output_type": "stream",
     "text": [
      "ID GV0816_Pos14_7_GFP\n",
      "Loading GV0816/Pos14/\n",
      "Btrack version no.: 0.4.0\n"
     ]
    },
    {
     "name": "stderr",
     "output_type": "stream",
     "text": [
      "[INFO][2021/05/10 10:59:03 PM] Loading objects/obj_type_1 (84243, 5) (76143 filtered: area>=100)\n",
      "[INFO][2021/05/10 10:59:04 PM] Closing HDF file: /home/nathan/data/kraken/h2b/giulia/GV0816/Pos14/Pos14_aligned/HDF/segmented.hdf5\n",
      "[INFO][2021/05/10 10:59:04 PM] Opening HDF file: /home/nathan/data/kraken/h2b/giulia/GV0816/Pos14/Pos14_aligned/HDF/segmented.hdf5...\n",
      "[INFO][2021/05/10 10:59:04 PM] Loading tracks/obj_type_2\n",
      "[INFO][2021/05/10 10:59:04 PM] Loading objects/obj_type_2 (50447, 5) (39807 filtered: area>=100)\n",
      "[INFO][2021/05/10 10:59:05 PM] Closing HDF file: /home/nathan/data/kraken/h2b/giulia/GV0816/Pos14/Pos14_aligned/HDF/segmented.hdf5\n"
     ]
    },
    {
     "name": "stdout",
     "output_type": "stream",
     "text": [
      "Track information loaded and ordered according to cell type (WT IDs >0> Scr IDs)\n",
      "Loaded GV0816/Pos14/\n"
     ]
    },
    {
     "name": "stderr",
     "output_type": "stream",
     "text": [
      "\r",
      " 59%|█████▉    | 229/385 [6:50:03<2:52:04, 66.18s/it]"
     ]
    },
    {
     "name": "stdout",
     "output_type": "stream",
     "text": [
      "ID GV0816_Pos14_537_GFP\n"
     ]
    },
    {
     "name": "stderr",
     "output_type": "stream",
     "text": [
      "\r",
      " 60%|█████▉    | 230/385 [6:50:25<2:16:44, 52.93s/it]"
     ]
    },
    {
     "name": "stdout",
     "output_type": "stream",
     "text": [
      "ID GV0816_Pos14_496_GFP\n"
     ]
    },
    {
     "name": "stderr",
     "output_type": "stream",
     "text": [
      " 60%|██████    | 231/385 [6:50:54<1:57:38, 45.83s/it][INFO][2021/05/10 11:00:19 PM] Opening HDF file: /home/nathan/data/kraken/h2b/giulia/GV0800/Pos7/Pos7_aligned/HDF/segmented.hdf5...\n",
      "[INFO][2021/05/10 11:00:19 PM] Loading tracks/obj_type_1\n"
     ]
    },
    {
     "name": "stdout",
     "output_type": "stream",
     "text": [
      "ID GV0800_Pos7_278_GFP\n",
      "Loading GV0800/Pos7/\n",
      "Btrack version no.: 0.4.0\n"
     ]
    },
    {
     "name": "stderr",
     "output_type": "stream",
     "text": [
      "[INFO][2021/05/10 11:00:21 PM] Loading objects/obj_type_1 (299894, 5) (277008 filtered: area>=100)\n",
      "[INFO][2021/05/10 11:00:23 PM] Closing HDF file: /home/nathan/data/kraken/h2b/giulia/GV0800/Pos7/Pos7_aligned/HDF/segmented.hdf5\n",
      "[INFO][2021/05/10 11:00:23 PM] Opening HDF file: /home/nathan/data/kraken/h2b/giulia/GV0800/Pos7/Pos7_aligned/HDF/segmented.hdf5...\n",
      "[INFO][2021/05/10 11:00:23 PM] Loading tracks/obj_type_2\n",
      "[INFO][2021/05/10 11:00:23 PM] Loading objects/obj_type_2 (53124, 5) (43280 filtered: area>=100)\n",
      "[INFO][2021/05/10 11:00:24 PM] Closing HDF file: /home/nathan/data/kraken/h2b/giulia/GV0800/Pos7/Pos7_aligned/HDF/segmented.hdf5\n"
     ]
    },
    {
     "name": "stdout",
     "output_type": "stream",
     "text": [
      "Track information loaded and ordered according to cell type (WT IDs >0> Scr IDs)\n",
      "Loaded GV0800/Pos7/\n"
     ]
    },
    {
     "name": "stderr",
     "output_type": "stream",
     "text": [
      "\r",
      " 60%|██████    | 232/385 [6:51:16<1:38:46, 38.73s/it]"
     ]
    },
    {
     "name": "stdout",
     "output_type": "stream",
     "text": [
      "ID GV0800_Pos7_206_GFP\n"
     ]
    },
    {
     "name": "stderr",
     "output_type": "stream",
     "text": [
      "\r",
      " 61%|██████    | 233/385 [6:52:57<2:24:58, 57.22s/it]"
     ]
    },
    {
     "name": "stdout",
     "output_type": "stream",
     "text": [
      "ID GV0800_Pos7_511_GFP\n"
     ]
    },
    {
     "name": "stderr",
     "output_type": "stream",
     "text": [
      "\r",
      " 61%|██████    | 234/385 [6:54:01<2:29:32, 59.42s/it]"
     ]
    },
    {
     "name": "stdout",
     "output_type": "stream",
     "text": [
      "ID GV0800_Pos7_397_GFP\n"
     ]
    },
    {
     "name": "stderr",
     "output_type": "stream",
     "text": [
      "\r",
      " 61%|██████    | 235/385 [6:55:22<2:44:18, 65.72s/it]"
     ]
    },
    {
     "name": "stdout",
     "output_type": "stream",
     "text": [
      "ID GV0800_Pos7_445_GFP\n"
     ]
    },
    {
     "name": "stderr",
     "output_type": "stream",
     "text": [
      "\r",
      " 61%|██████▏   | 236/385 [6:58:27<4:12:16, 101.59s/it]"
     ]
    },
    {
     "name": "stdout",
     "output_type": "stream",
     "text": [
      "ID GV0800_Pos7_921_GFP\n"
     ]
    },
    {
     "name": "stderr",
     "output_type": "stream",
     "text": [
      "\r",
      " 62%|██████▏   | 237/385 [7:00:12<4:13:14, 102.67s/it]"
     ]
    },
    {
     "name": "stdout",
     "output_type": "stream",
     "text": [
      "ID GV0800_Pos7_2097_GFP\n"
     ]
    },
    {
     "name": "stderr",
     "output_type": "stream",
     "text": [
      "\r",
      " 62%|██████▏   | 238/385 [7:00:39<3:15:33, 79.82s/it] "
     ]
    },
    {
     "name": "stdout",
     "output_type": "stream",
     "text": [
      "ID GV0800_Pos7_1616_GFP\n"
     ]
    },
    {
     "name": "stderr",
     "output_type": "stream",
     "text": [
      "\r",
      " 62%|██████▏   | 239/385 [7:01:49<3:07:02, 76.87s/it]"
     ]
    },
    {
     "name": "stdout",
     "output_type": "stream",
     "text": [
      "ID GV0800_Pos7_1160_GFP\n"
     ]
    },
    {
     "name": "stderr",
     "output_type": "stream",
     "text": [
      " 62%|██████▏   | 240/385 [7:03:37<3:28:23, 86.23s/it][INFO][2021/05/10 11:13:01 PM] Opening HDF file: /home/nathan/data/kraken/h2b/giulia/GV0797/Pos21/Pos21_aligned/HDF/segmented.hdf5...\n",
      "[INFO][2021/05/10 11:13:01 PM] Loading tracks/obj_type_1\n"
     ]
    },
    {
     "name": "stdout",
     "output_type": "stream",
     "text": [
      "ID GV0797_Pos21_93_GFP\n",
      "Loading GV0797/Pos21/\n",
      "Btrack version no.: 0.4.0\n"
     ]
    },
    {
     "name": "stderr",
     "output_type": "stream",
     "text": [
      "[INFO][2021/05/10 11:13:03 PM] Loading objects/obj_type_1 (211568, 5) (195992 filtered: area>=100)\n",
      "[INFO][2021/05/10 11:13:04 PM] Closing HDF file: /home/nathan/data/kraken/h2b/giulia/GV0797/Pos21/Pos21_aligned/HDF/segmented.hdf5\n",
      "[INFO][2021/05/10 11:13:04 PM] Opening HDF file: /home/nathan/data/kraken/h2b/giulia/GV0797/Pos21/Pos21_aligned/HDF/segmented.hdf5...\n",
      "[INFO][2021/05/10 11:13:04 PM] Loading tracks/obj_type_2\n",
      "[INFO][2021/05/10 11:13:04 PM] Loading objects/obj_type_2 (26227, 5) (20975 filtered: area>=100)\n",
      "[INFO][2021/05/10 11:13:05 PM] Closing HDF file: /home/nathan/data/kraken/h2b/giulia/GV0797/Pos21/Pos21_aligned/HDF/segmented.hdf5\n"
     ]
    },
    {
     "name": "stdout",
     "output_type": "stream",
     "text": [
      "Track information loaded and ordered according to cell type (WT IDs >0> Scr IDs)\n",
      "Loaded GV0797/Pos21/\n"
     ]
    },
    {
     "name": "stderr",
     "output_type": "stream",
     "text": [
      "\r",
      " 63%|██████▎   | 241/385 [7:05:15<3:35:44, 89.89s/it]"
     ]
    },
    {
     "name": "stdout",
     "output_type": "stream",
     "text": [
      "ID GV0797_Pos21_77_GFP\n"
     ]
    },
    {
     "name": "stderr",
     "output_type": "stream",
     "text": [
      "\r",
      " 63%|██████▎   | 242/385 [7:07:00<3:45:16, 94.52s/it]"
     ]
    },
    {
     "name": "stdout",
     "output_type": "stream",
     "text": [
      "ID GV0797_Pos21_732_GFP\n"
     ]
    },
    {
     "name": "stderr",
     "output_type": "stream",
     "text": [
      "\r",
      " 63%|██████▎   | 243/385 [7:07:17<2:48:12, 71.07s/it]"
     ]
    },
    {
     "name": "stdout",
     "output_type": "stream",
     "text": [
      "ID GV0797_Pos21_5_GFP\n"
     ]
    },
    {
     "name": "stderr",
     "output_type": "stream",
     "text": [
      "\r",
      " 63%|██████▎   | 244/385 [7:08:36<2:52:56, 73.59s/it]"
     ]
    },
    {
     "name": "stdout",
     "output_type": "stream",
     "text": [
      "ID GV0797_Pos21_7_GFP\n"
     ]
    },
    {
     "name": "stderr",
     "output_type": "stream",
     "text": [
      "\r",
      " 64%|██████▎   | 245/385 [7:10:10<3:05:56, 79.69s/it]"
     ]
    },
    {
     "name": "stdout",
     "output_type": "stream",
     "text": [
      "ID GV0797_Pos21_101_GFP\n"
     ]
    },
    {
     "name": "stderr",
     "output_type": "stream",
     "text": [
      "\r",
      " 64%|██████▍   | 246/385 [7:11:45<3:14:52, 84.12s/it]"
     ]
    },
    {
     "name": "stdout",
     "output_type": "stream",
     "text": [
      "ID GV0797_Pos21_94_GFP\n"
     ]
    },
    {
     "name": "stderr",
     "output_type": "stream",
     "text": [
      "\r",
      " 64%|██████▍   | 247/385 [7:13:37<3:33:14, 92.71s/it]"
     ]
    },
    {
     "name": "stdout",
     "output_type": "stream",
     "text": [
      "ID GV0797_Pos21_787_GFP\n"
     ]
    },
    {
     "name": "stderr",
     "output_type": "stream",
     "text": [
      "\r",
      " 64%|██████▍   | 248/385 [7:14:02<2:45:23, 72.44s/it]"
     ]
    },
    {
     "name": "stdout",
     "output_type": "stream",
     "text": [
      "ID GV0797_Pos21_1545_GFP\n"
     ]
    },
    {
     "name": "stderr",
     "output_type": "stream",
     "text": [
      "\r",
      " 65%|██████▍   | 249/385 [7:14:22<2:08:06, 56.52s/it]"
     ]
    },
    {
     "name": "stdout",
     "output_type": "stream",
     "text": [
      "ID GV0797_Pos21_1544_GFP\n"
     ]
    },
    {
     "name": "stderr",
     "output_type": "stream",
     "text": [
      " 65%|██████▍   | 250/385 [7:14:43<1:43:07, 45.83s/it][INFO][2021/05/10 11:24:08 PM] Opening HDF file: /home/nathan/data/kraken/h2b/giulia/GV0815/Pos23/Pos23_aligned/HDF/segmented.hdf5...\n",
      "[INFO][2021/05/10 11:24:08 PM] Loading tracks/obj_type_1\n"
     ]
    },
    {
     "name": "stdout",
     "output_type": "stream",
     "text": [
      "ID GV0815_Pos23_185_GFP\n",
      "Loading GV0815/Pos23/\n",
      "Btrack version no.: 0.4.0\n"
     ]
    },
    {
     "name": "stderr",
     "output_type": "stream",
     "text": [
      "[INFO][2021/05/10 11:24:09 PM] Loading objects/obj_type_1 (182687, 5) (160127 filtered: area>=100)\n",
      "[INFO][2021/05/10 11:24:10 PM] Closing HDF file: /home/nathan/data/kraken/h2b/giulia/GV0815/Pos23/Pos23_aligned/HDF/segmented.hdf5\n",
      "[INFO][2021/05/10 11:24:10 PM] Opening HDF file: /home/nathan/data/kraken/h2b/giulia/GV0815/Pos23/Pos23_aligned/HDF/segmented.hdf5...\n",
      "[INFO][2021/05/10 11:24:10 PM] Loading tracks/obj_type_2\n",
      "[INFO][2021/05/10 11:24:10 PM] Loading objects/obj_type_2 (48093, 5) (41816 filtered: area>=100)\n",
      "[INFO][2021/05/10 11:24:10 PM] Closing HDF file: /home/nathan/data/kraken/h2b/giulia/GV0815/Pos23/Pos23_aligned/HDF/segmented.hdf5\n"
     ]
    },
    {
     "name": "stdout",
     "output_type": "stream",
     "text": [
      "Track information loaded and ordered according to cell type (WT IDs >0> Scr IDs)\n",
      "Loaded GV0815/Pos23/\n"
     ]
    },
    {
     "name": "stderr",
     "output_type": "stream",
     "text": [
      "\r",
      " 65%|██████▌   | 251/385 [7:15:35<1:46:55, 47.88s/it]"
     ]
    },
    {
     "name": "stdout",
     "output_type": "stream",
     "text": [
      "ID GV0815_Pos23_634_GFP\n"
     ]
    },
    {
     "name": "stderr",
     "output_type": "stream",
     "text": [
      " 65%|██████▌   | 252/385 [7:16:10<1:37:01, 43.77s/it][INFO][2021/05/10 11:25:34 PM] Opening HDF file: /home/nathan/data/kraken/h2b/giulia/GV0820/Pos2/Pos2_aligned/HDF/segmented.hdf5...\n",
      "[INFO][2021/05/10 11:25:34 PM] Loading tracks/obj_type_1\n"
     ]
    },
    {
     "name": "stdout",
     "output_type": "stream",
     "text": [
      "ID GV0820_Pos2_406_GFP\n",
      "Loading GV0820/Pos2/\n",
      "Btrack version no.: 0.4.0\n"
     ]
    },
    {
     "name": "stderr",
     "output_type": "stream",
     "text": [
      "[INFO][2021/05/10 11:25:35 PM] Loading objects/obj_type_1 (187834, 5) (174544 filtered: area>=100)\n",
      "[INFO][2021/05/10 11:25:37 PM] Closing HDF file: /home/nathan/data/kraken/h2b/giulia/GV0820/Pos2/Pos2_aligned/HDF/segmented.hdf5\n",
      "[INFO][2021/05/10 11:25:37 PM] Opening HDF file: /home/nathan/data/kraken/h2b/giulia/GV0820/Pos2/Pos2_aligned/HDF/segmented.hdf5...\n",
      "[INFO][2021/05/10 11:25:37 PM] Loading tracks/obj_type_2\n",
      "[INFO][2021/05/10 11:25:37 PM] Loading objects/obj_type_2 (73959, 5) (62237 filtered: area>=100)\n",
      "[INFO][2021/05/10 11:25:38 PM] Closing HDF file: /home/nathan/data/kraken/h2b/giulia/GV0820/Pos2/Pos2_aligned/HDF/segmented.hdf5\n"
     ]
    },
    {
     "name": "stdout",
     "output_type": "stream",
     "text": [
      "Track information loaded and ordered according to cell type (WT IDs >0> Scr IDs)\n",
      "Loaded GV0820/Pos2/\n"
     ]
    },
    {
     "name": "stderr",
     "output_type": "stream",
     "text": [
      "\r",
      " 66%|██████▌   | 253/385 [7:17:14<1:49:39, 49.85s/it]"
     ]
    },
    {
     "name": "stdout",
     "output_type": "stream",
     "text": [
      "ID GV0820_Pos2_1232_GFP\n"
     ]
    },
    {
     "name": "stderr",
     "output_type": "stream",
     "text": [
      " 66%|██████▌   | 254/385 [7:18:03<1:48:49, 49.84s/it][INFO][2021/05/10 11:27:28 PM] Opening HDF file: /home/nathan/data/kraken/h2b/giulia/GV0807/Pos4/Pos4_aligned/HDF/segmented.hdf5...\n",
      "[INFO][2021/05/10 11:27:28 PM] Loading tracks/obj_type_1\n"
     ]
    },
    {
     "name": "stdout",
     "output_type": "stream",
     "text": [
      "ID GV0807_Pos4_982_GFP\n",
      "Loading GV0807/Pos4/\n",
      "Btrack version no.: 0.4.0\n"
     ]
    },
    {
     "name": "stderr",
     "output_type": "stream",
     "text": [
      "[INFO][2021/05/10 11:27:30 PM] Loading objects/obj_type_1 (313526, 5) (300454 filtered: area>=100)\n",
      "[INFO][2021/05/10 11:27:33 PM] Closing HDF file: /home/nathan/data/kraken/h2b/giulia/GV0807/Pos4/Pos4_aligned/HDF/segmented.hdf5\n",
      "[INFO][2021/05/10 11:27:33 PM] Opening HDF file: /home/nathan/data/kraken/h2b/giulia/GV0807/Pos4/Pos4_aligned/HDF/segmented.hdf5...\n",
      "[INFO][2021/05/10 11:27:33 PM] Loading tracks/obj_type_2\n",
      "[INFO][2021/05/10 11:27:33 PM] Loading objects/obj_type_2 (38098, 5) (31521 filtered: area>=100)\n",
      "[INFO][2021/05/10 11:27:33 PM] Closing HDF file: /home/nathan/data/kraken/h2b/giulia/GV0807/Pos4/Pos4_aligned/HDF/segmented.hdf5\n"
     ]
    },
    {
     "name": "stdout",
     "output_type": "stream",
     "text": [
      "Track information loaded and ordered according to cell type (WT IDs >0> Scr IDs)\n",
      "Loaded GV0807/Pos4/\n"
     ]
    },
    {
     "name": "stderr",
     "output_type": "stream",
     "text": [
      "\r",
      " 66%|██████▌   | 255/385 [7:18:48<1:44:45, 48.35s/it]"
     ]
    },
    {
     "name": "stdout",
     "output_type": "stream",
     "text": [
      "ID GV0807_Pos4_14_GFP\n"
     ]
    },
    {
     "name": "stderr",
     "output_type": "stream",
     "text": [
      " 66%|██████▋   | 256/385 [7:23:16<4:05:29, 114.18s/it][INFO][2021/05/10 11:32:41 PM] Opening HDF file: /home/nathan/data/kraken/h2b/giulia/GV0815/Pos0/Pos0_aligned/HDF/segmented.hdf5...\n",
      "[INFO][2021/05/10 11:32:41 PM] Loading tracks/obj_type_1\n"
     ]
    },
    {
     "name": "stdout",
     "output_type": "stream",
     "text": [
      "ID GV0815_Pos0_145_GFP\n",
      "Loading GV0815/Pos0/\n",
      "Btrack version no.: 0.4.0\n"
     ]
    },
    {
     "name": "stderr",
     "output_type": "stream",
     "text": [
      "[INFO][2021/05/10 11:32:42 PM] Loading objects/obj_type_1 (286968, 5) (261403 filtered: area>=100)\n",
      "[INFO][2021/05/10 11:32:45 PM] Closing HDF file: /home/nathan/data/kraken/h2b/giulia/GV0815/Pos0/Pos0_aligned/HDF/segmented.hdf5\n",
      "[INFO][2021/05/10 11:32:45 PM] Opening HDF file: /home/nathan/data/kraken/h2b/giulia/GV0815/Pos0/Pos0_aligned/HDF/segmented.hdf5...\n",
      "[INFO][2021/05/10 11:32:45 PM] Loading tracks/obj_type_2\n",
      "[INFO][2021/05/10 11:32:45 PM] Loading objects/obj_type_2 (85143, 5) (68895 filtered: area>=100)\n",
      "[INFO][2021/05/10 11:32:46 PM] Closing HDF file: /home/nathan/data/kraken/h2b/giulia/GV0815/Pos0/Pos0_aligned/HDF/segmented.hdf5\n"
     ]
    },
    {
     "name": "stdout",
     "output_type": "stream",
     "text": [
      "Track information loaded and ordered according to cell type (WT IDs >0> Scr IDs)\n",
      "Loaded GV0815/Pos0/\n"
     ]
    },
    {
     "name": "stderr",
     "output_type": "stream",
     "text": [
      "\r",
      " 67%|██████▋   | 257/385 [7:23:40<3:05:40, 87.04s/it] "
     ]
    },
    {
     "name": "stdout",
     "output_type": "stream",
     "text": [
      "ID GV0815_Pos0_641_GFP\n"
     ]
    },
    {
     "name": "stderr",
     "output_type": "stream",
     "text": [
      "\r",
      " 67%|██████▋   | 258/385 [7:25:00<3:00:05, 85.08s/it]"
     ]
    },
    {
     "name": "stdout",
     "output_type": "stream",
     "text": [
      "ID GV0815_Pos0_981_GFP\n"
     ]
    },
    {
     "name": "stderr",
     "output_type": "stream",
     "text": [
      "\r",
      " 67%|██████▋   | 259/385 [7:26:34<3:04:07, 87.68s/it]"
     ]
    },
    {
     "name": "stdout",
     "output_type": "stream",
     "text": [
      "ID GV0815_Pos0_42_GFP\n"
     ]
    },
    {
     "name": "stderr",
     "output_type": "stream",
     "text": [
      "\r",
      " 68%|██████▊   | 260/385 [7:30:34<4:37:57, 133.42s/it]"
     ]
    },
    {
     "name": "stdout",
     "output_type": "stream",
     "text": [
      "ID GV0815_Pos0_2046_GFP\n"
     ]
    },
    {
     "name": "stderr",
     "output_type": "stream",
     "text": [
      "\r",
      " 68%|██████▊   | 261/385 [7:31:05<3:32:20, 102.75s/it]"
     ]
    },
    {
     "name": "stdout",
     "output_type": "stream",
     "text": [
      "ID GV0815_Pos0_436_GFP\n"
     ]
    },
    {
     "name": "stderr",
     "output_type": "stream",
     "text": [
      "\r",
      " 68%|██████▊   | 262/385 [7:34:15<4:24:14, 128.90s/it]"
     ]
    },
    {
     "name": "stdout",
     "output_type": "stream",
     "text": [
      "ID GV0815_Pos0_2221_GFP\n"
     ]
    },
    {
     "name": "stderr",
     "output_type": "stream",
     "text": [
      "\r",
      " 68%|██████▊   | 263/385 [7:35:02<3:31:49, 104.18s/it]"
     ]
    },
    {
     "name": "stdout",
     "output_type": "stream",
     "text": [
      "ID GV0815_Pos0_1487_GFP\n"
     ]
    },
    {
     "name": "stderr",
     "output_type": "stream",
     "text": [
      "\r",
      " 69%|██████▊   | 264/385 [7:36:54<3:34:49, 106.53s/it]"
     ]
    },
    {
     "name": "stdout",
     "output_type": "stream",
     "text": [
      "ID GV0815_Pos0_444_GFP\n"
     ]
    },
    {
     "name": "stderr",
     "output_type": "stream",
     "text": [
      "\r",
      " 69%|██████▉   | 265/385 [7:40:09<4:26:18, 133.16s/it]"
     ]
    },
    {
     "name": "stdout",
     "output_type": "stream",
     "text": [
      "ID GV0815_Pos0_620_GFP\n"
     ]
    },
    {
     "name": "stderr",
     "output_type": "stream",
     "text": [
      "\r",
      " 69%|██████▉   | 266/385 [7:42:57<4:45:02, 143.72s/it]"
     ]
    },
    {
     "name": "stdout",
     "output_type": "stream",
     "text": [
      "ID GV0815_Pos0_1133_GFP\n"
     ]
    },
    {
     "name": "stderr",
     "output_type": "stream",
     "text": [
      "\r",
      " 69%|██████▉   | 267/385 [7:44:58<4:28:58, 136.77s/it]"
     ]
    },
    {
     "name": "stdout",
     "output_type": "stream",
     "text": [
      "ID GV0815_Pos0_949_GFP\n"
     ]
    },
    {
     "name": "stderr",
     "output_type": "stream",
     "text": [
      " 70%|██████▉   | 268/385 [7:47:15<4:26:49, 136.84s/it][INFO][2021/05/10 11:56:40 PM] Opening HDF file: /home/nathan/data/kraken/h2b/giulia/GV0814/Pos11/Pos11_aligned/HDF/segmented.hdf5...\n",
      "[INFO][2021/05/10 11:56:40 PM] Loading tracks/obj_type_1\n"
     ]
    },
    {
     "name": "stdout",
     "output_type": "stream",
     "text": [
      "ID GV0814_Pos11_1120_GFP\n",
      "Loading GV0814/Pos11/\n",
      "Btrack version no.: 0.4.0\n"
     ]
    },
    {
     "name": "stderr",
     "output_type": "stream",
     "text": [
      "[INFO][2021/05/10 11:56:42 PM] Loading objects/obj_type_1 (391111, 5) (347066 filtered: area>=100)\n",
      "[INFO][2021/05/10 11:56:45 PM] Closing HDF file: /home/nathan/data/kraken/h2b/giulia/GV0814/Pos11/Pos11_aligned/HDF/segmented.hdf5\n",
      "[INFO][2021/05/10 11:56:45 PM] Opening HDF file: /home/nathan/data/kraken/h2b/giulia/GV0814/Pos11/Pos11_aligned/HDF/segmented.hdf5...\n",
      "[INFO][2021/05/10 11:56:45 PM] Loading tracks/obj_type_2\n",
      "[INFO][2021/05/10 11:56:45 PM] Loading objects/obj_type_2 (26609, 5) (20891 filtered: area>=100)\n",
      "[INFO][2021/05/10 11:56:45 PM] Closing HDF file: /home/nathan/data/kraken/h2b/giulia/GV0814/Pos11/Pos11_aligned/HDF/segmented.hdf5\n"
     ]
    },
    {
     "name": "stdout",
     "output_type": "stream",
     "text": [
      "Track information loaded and ordered according to cell type (WT IDs >0> Scr IDs)\n",
      "Loaded GV0814/Pos11/\n"
     ]
    },
    {
     "name": "stderr",
     "output_type": "stream",
     "text": [
      "\r",
      " 70%|██████▉   | 269/385 [7:48:56<4:03:59, 126.20s/it]"
     ]
    },
    {
     "name": "stdout",
     "output_type": "stream",
     "text": [
      "ID GV0814_Pos11_1878_GFP\n"
     ]
    },
    {
     "name": "stderr",
     "output_type": "stream",
     "text": [
      "\r",
      " 70%|███████   | 270/385 [7:49:32<3:09:53, 99.07s/it] "
     ]
    },
    {
     "name": "stdout",
     "output_type": "stream",
     "text": [
      "ID GV0814_Pos11_1981_GFP\n"
     ]
    },
    {
     "name": "stderr",
     "output_type": "stream",
     "text": [
      "\r",
      " 70%|███████   | 271/385 [7:52:04<3:38:01, 114.75s/it]"
     ]
    },
    {
     "name": "stdout",
     "output_type": "stream",
     "text": [
      "ID GV0814_Pos11_3733_GFP\n"
     ]
    },
    {
     "name": "stderr",
     "output_type": "stream",
     "text": [
      "\r",
      " 71%|███████   | 272/385 [7:53:15<3:11:32, 101.70s/it]"
     ]
    },
    {
     "name": "stdout",
     "output_type": "stream",
     "text": [
      "ID GV0814_Pos11_2242_GFP\n"
     ]
    },
    {
     "name": "stderr",
     "output_type": "stream",
     "text": [
      "\r",
      " 71%|███████   | 273/385 [7:55:59<3:45:07, 120.61s/it]"
     ]
    },
    {
     "name": "stdout",
     "output_type": "stream",
     "text": [
      "ID GV0814_Pos11_2469_GFP\n"
     ]
    },
    {
     "name": "stderr",
     "output_type": "stream",
     "text": [
      "\r",
      " 71%|███████   | 274/385 [7:58:00<3:43:14, 120.67s/it]"
     ]
    },
    {
     "name": "stdout",
     "output_type": "stream",
     "text": [
      "ID GV0814_Pos11_1212_GFP\n"
     ]
    },
    {
     "name": "stderr",
     "output_type": "stream",
     "text": [
      "\r",
      " 71%|███████▏  | 275/385 [8:01:24<4:27:03, 145.67s/it]"
     ]
    },
    {
     "name": "stdout",
     "output_type": "stream",
     "text": [
      "ID GV0814_Pos11_4428_GFP\n"
     ]
    },
    {
     "name": "stderr",
     "output_type": "stream",
     "text": [
      " 72%|███████▏  | 276/385 [8:02:00<3:24:29, 112.57s/it][INFO][2021/05/11 12:11:24 AM] Opening HDF file: /home/nathan/data/kraken/h2b/giulia/GV0797/Pos22/Pos22_aligned/HDF/segmented.hdf5...\n",
      "[INFO][2021/05/11 12:11:24 AM] Loading tracks/obj_type_1\n",
      "[INFO][2021/05/11 12:11:25 AM] Loading objects/obj_type_1 (34660, 5) (27773 filtered: area>=100)\n"
     ]
    },
    {
     "name": "stdout",
     "output_type": "stream",
     "text": [
      "ID GV0797_Pos22_281_GFP\n",
      "Loading GV0797/Pos22/\n",
      "Btrack version no.: 0.4.0\n"
     ]
    },
    {
     "name": "stderr",
     "output_type": "stream",
     "text": [
      "[INFO][2021/05/11 12:11:25 AM] Closing HDF file: /home/nathan/data/kraken/h2b/giulia/GV0797/Pos22/Pos22_aligned/HDF/segmented.hdf5\n",
      "[INFO][2021/05/11 12:11:25 AM] Opening HDF file: /home/nathan/data/kraken/h2b/giulia/GV0797/Pos22/Pos22_aligned/HDF/segmented.hdf5...\n",
      "[INFO][2021/05/11 12:11:25 AM] Loading tracks/obj_type_2\n",
      "[INFO][2021/05/11 12:11:25 AM] Loading objects/obj_type_2 (53322, 5) (37156 filtered: area>=100)\n",
      "[INFO][2021/05/11 12:11:25 AM] Closing HDF file: /home/nathan/data/kraken/h2b/giulia/GV0797/Pos22/Pos22_aligned/HDF/segmented.hdf5\n"
     ]
    },
    {
     "name": "stdout",
     "output_type": "stream",
     "text": [
      "Track information loaded and ordered according to cell type (WT IDs >0> Scr IDs)\n",
      "Loaded GV0797/Pos22/\n"
     ]
    },
    {
     "name": "stderr",
     "output_type": "stream",
     "text": [
      " 72%|███████▏  | 277/385 [8:02:15<2:30:17, 83.49s/it] [INFO][2021/05/11 12:11:40 AM] Opening HDF file: /home/nathan/data/kraken/h2b/giulia/GV0818/Pos13/Pos13_aligned/HDF/segmented.hdf5...\n",
      "[INFO][2021/05/11 12:11:40 AM] Loading tracks/obj_type_1\n"
     ]
    },
    {
     "name": "stdout",
     "output_type": "stream",
     "text": [
      "ID GV0818_Pos13_353_GFP\n",
      "Loading GV0818/Pos13/\n",
      "Btrack version no.: 0.4.0\n"
     ]
    },
    {
     "name": "stderr",
     "output_type": "stream",
     "text": [
      "[INFO][2021/05/11 12:11:42 AM] Loading objects/obj_type_1 (380641, 5) (364472 filtered: area>=100)\n",
      "[INFO][2021/05/11 12:11:45 AM] Closing HDF file: /home/nathan/data/kraken/h2b/giulia/GV0818/Pos13/Pos13_aligned/HDF/segmented.hdf5\n",
      "[INFO][2021/05/11 12:11:45 AM] Opening HDF file: /home/nathan/data/kraken/h2b/giulia/GV0818/Pos13/Pos13_aligned/HDF/segmented.hdf5...\n",
      "[INFO][2021/05/11 12:11:45 AM] Loading tracks/obj_type_2\n",
      "[INFO][2021/05/11 12:11:46 AM] Loading objects/obj_type_2 (48215, 5) (40565 filtered: area>=100)\n",
      "[INFO][2021/05/11 12:11:46 AM] Closing HDF file: /home/nathan/data/kraken/h2b/giulia/GV0818/Pos13/Pos13_aligned/HDF/segmented.hdf5\n"
     ]
    },
    {
     "name": "stdout",
     "output_type": "stream",
     "text": [
      "Track information loaded and ordered according to cell type (WT IDs >0> Scr IDs)\n",
      "Loaded GV0818/Pos13/\n"
     ]
    },
    {
     "name": "stderr",
     "output_type": "stream",
     "text": [
      "\r",
      " 72%|███████▏  | 278/385 [8:04:25<2:53:29, 97.29s/it]"
     ]
    },
    {
     "name": "stdout",
     "output_type": "stream",
     "text": [
      "ID GV0818_Pos13_1205_GFP\n"
     ]
    },
    {
     "name": "stderr",
     "output_type": "stream",
     "text": [
      "\r",
      " 72%|███████▏  | 279/385 [8:05:47<2:43:46, 92.70s/it]"
     ]
    },
    {
     "name": "stdout",
     "output_type": "stream",
     "text": [
      "ID GV0818_Pos13_1365_GFP\n"
     ]
    },
    {
     "name": "stderr",
     "output_type": "stream",
     "text": [
      "\r",
      " 73%|███████▎  | 280/385 [8:07:08<2:36:06, 89.20s/it]"
     ]
    },
    {
     "name": "stdout",
     "output_type": "stream",
     "text": [
      "ID GV0818_Pos13_3452_GFP\n"
     ]
    },
    {
     "name": "stderr",
     "output_type": "stream",
     "text": [
      "\r",
      " 73%|███████▎  | 281/385 [8:07:38<2:03:53, 71.48s/it]"
     ]
    },
    {
     "name": "stdout",
     "output_type": "stream",
     "text": [
      "ID GV0818_Pos13_3451_GFP\n"
     ]
    },
    {
     "name": "stderr",
     "output_type": "stream",
     "text": [
      " 73%|███████▎  | 282/385 [8:08:06<1:40:08, 58.34s/it][INFO][2021/05/11 12:17:30 AM] Opening HDF file: /home/nathan/data/kraken/h2b/giulia/GV0815/Pos11/Pos11_aligned/HDF/segmented.hdf5...\n",
      "[INFO][2021/05/11 12:17:30 AM] Loading tracks/obj_type_1\n"
     ]
    },
    {
     "name": "stdout",
     "output_type": "stream",
     "text": [
      "ID GV0815_Pos11_536_GFP\n",
      "Loading GV0815/Pos11/\n",
      "Btrack version no.: 0.4.0\n"
     ]
    },
    {
     "name": "stderr",
     "output_type": "stream",
     "text": [
      "[INFO][2021/05/11 12:17:32 AM] Loading objects/obj_type_1 (383799, 5) (364840 filtered: area>=100)\n",
      "[INFO][2021/05/11 12:17:36 AM] Closing HDF file: /home/nathan/data/kraken/h2b/giulia/GV0815/Pos11/Pos11_aligned/HDF/segmented.hdf5\n",
      "[INFO][2021/05/11 12:17:36 AM] Opening HDF file: /home/nathan/data/kraken/h2b/giulia/GV0815/Pos11/Pos11_aligned/HDF/segmented.hdf5...\n",
      "[INFO][2021/05/11 12:17:36 AM] Loading tracks/obj_type_2\n",
      "[INFO][2021/05/11 12:17:36 AM] Loading objects/obj_type_2 (61591, 5) (47352 filtered: area>=100)\n",
      "[INFO][2021/05/11 12:17:36 AM] Closing HDF file: /home/nathan/data/kraken/h2b/giulia/GV0815/Pos11/Pos11_aligned/HDF/segmented.hdf5\n"
     ]
    },
    {
     "name": "stdout",
     "output_type": "stream",
     "text": [
      "Track information loaded and ordered according to cell type (WT IDs >0> Scr IDs)\n",
      "Loaded GV0815/Pos11/\n"
     ]
    },
    {
     "name": "stderr",
     "output_type": "stream",
     "text": [
      "\r",
      " 74%|███████▎  | 283/385 [8:08:59<1:36:28, 56.75s/it]"
     ]
    },
    {
     "name": "stdout",
     "output_type": "stream",
     "text": [
      "ID GV0815_Pos11_255_GFP\n"
     ]
    },
    {
     "name": "stderr",
     "output_type": "stream",
     "text": [
      "\r",
      " 74%|███████▍  | 284/385 [8:10:49<2:02:39, 72.87s/it]"
     ]
    },
    {
     "name": "stdout",
     "output_type": "stream",
     "text": [
      "ID GV0815_Pos11_2851_GFP\n"
     ]
    },
    {
     "name": "stderr",
     "output_type": "stream",
     "text": [
      "\r",
      " 74%|███████▍  | 285/385 [8:11:29<1:45:05, 63.05s/it]"
     ]
    },
    {
     "name": "stdout",
     "output_type": "stream",
     "text": [
      "ID GV0815_Pos11_1379_GFP\n"
     ]
    },
    {
     "name": "stderr",
     "output_type": "stream",
     "text": [
      " 74%|███████▍  | 286/385 [8:13:47<2:21:08, 85.54s/it][INFO][2021/05/11 12:23:12 AM] Opening HDF file: /home/nathan/data/kraken/h2b/giulia/GV0795/Pos3/Pos3_aligned/HDF/segmented.hdf5...\n",
      "[INFO][2021/05/11 12:23:12 AM] Loading tracks/obj_type_1\n"
     ]
    },
    {
     "name": "stdout",
     "output_type": "stream",
     "text": [
      "ID GV0795_Pos3_500_GFP\n",
      "Loading GV0795/Pos3/\n",
      "Btrack version no.: 0.4.0\n"
     ]
    },
    {
     "name": "stderr",
     "output_type": "stream",
     "text": [
      "[INFO][2021/05/11 12:23:14 AM] Loading objects/obj_type_1 (274100, 5) (263837 filtered: area>=100)\n",
      "[INFO][2021/05/11 12:23:16 AM] Closing HDF file: /home/nathan/data/kraken/h2b/giulia/GV0795/Pos3/Pos3_aligned/HDF/segmented.hdf5\n",
      "[INFO][2021/05/11 12:23:16 AM] Opening HDF file: /home/nathan/data/kraken/h2b/giulia/GV0795/Pos3/Pos3_aligned/HDF/segmented.hdf5...\n",
      "[INFO][2021/05/11 12:23:16 AM] Loading tracks/obj_type_2\n",
      "[INFO][2021/05/11 12:23:16 AM] Loading objects/obj_type_2 (16554, 5) (13970 filtered: area>=100)\n",
      "[INFO][2021/05/11 12:23:16 AM] Closing HDF file: /home/nathan/data/kraken/h2b/giulia/GV0795/Pos3/Pos3_aligned/HDF/segmented.hdf5\n"
     ]
    },
    {
     "name": "stdout",
     "output_type": "stream",
     "text": [
      "Track information loaded and ordered according to cell type (WT IDs >0> Scr IDs)\n",
      "Loaded GV0795/Pos3/\n"
     ]
    },
    {
     "name": "stderr",
     "output_type": "stream",
     "text": [
      " 75%|███████▍  | 287/385 [8:14:38<2:02:26, 74.96s/it][INFO][2021/05/11 12:24:02 AM] Opening HDF file: /home/nathan/data/kraken/h2b/giulia/GV0798/Pos21/Pos21_aligned/HDF/segmented.hdf5...\n",
      "[INFO][2021/05/11 12:24:02 AM] Loading tracks/obj_type_1\n"
     ]
    },
    {
     "name": "stdout",
     "output_type": "stream",
     "text": [
      "ID GV0798_Pos21_9_GFP\n",
      "Loading GV0798/Pos21/\n",
      "Btrack version no.: 0.4.0\n"
     ]
    },
    {
     "name": "stderr",
     "output_type": "stream",
     "text": [
      "[INFO][2021/05/11 12:24:04 AM] Loading objects/obj_type_1 (332657, 5) (316064 filtered: area>=100)\n",
      "[INFO][2021/05/11 12:24:07 AM] Closing HDF file: /home/nathan/data/kraken/h2b/giulia/GV0798/Pos21/Pos21_aligned/HDF/segmented.hdf5\n",
      "[INFO][2021/05/11 12:24:07 AM] Opening HDF file: /home/nathan/data/kraken/h2b/giulia/GV0798/Pos21/Pos21_aligned/HDF/segmented.hdf5...\n",
      "[INFO][2021/05/11 12:24:07 AM] Loading tracks/obj_type_2\n",
      "[INFO][2021/05/11 12:24:07 AM] Loading objects/obj_type_2 (59184, 5) (40538 filtered: area>=100)\n",
      "[INFO][2021/05/11 12:24:08 AM] Closing HDF file: /home/nathan/data/kraken/h2b/giulia/GV0798/Pos21/Pos21_aligned/HDF/segmented.hdf5\n"
     ]
    },
    {
     "name": "stdout",
     "output_type": "stream",
     "text": [
      "Track information loaded and ordered according to cell type (WT IDs >0> Scr IDs)\n",
      "Loaded GV0798/Pos21/\n"
     ]
    },
    {
     "name": "stderr",
     "output_type": "stream",
     "text": [
      "\r",
      " 75%|███████▍  | 288/385 [8:15:05<1:38:01, 60.64s/it]"
     ]
    },
    {
     "name": "stdout",
     "output_type": "stream",
     "text": [
      "ID GV0798_Pos21_39_GFP\n"
     ]
    },
    {
     "name": "stderr",
     "output_type": "stream",
     "text": [
      "\r",
      " 75%|███████▌  | 289/385 [8:15:23<1:16:53, 48.05s/it]"
     ]
    },
    {
     "name": "stdout",
     "output_type": "stream",
     "text": [
      "ID GV0798_Pos21_417_GFP\n"
     ]
    },
    {
     "name": "stderr",
     "output_type": "stream",
     "text": [
      " 75%|███████▌  | 290/385 [8:18:34<2:23:46, 90.80s/it][INFO][2021/05/11 12:27:59 AM] Opening HDF file: /home/nathan/data/kraken/h2b/giulia/GV0818/Pos12/Pos12_aligned/HDF/segmented.hdf5...\n",
      "[INFO][2021/05/11 12:27:59 AM] Loading tracks/obj_type_1\n"
     ]
    },
    {
     "name": "stdout",
     "output_type": "stream",
     "text": [
      "ID GV0818_Pos12_187_GFP\n",
      "Loading GV0818/Pos12/\n",
      "Btrack version no.: 0.4.0\n"
     ]
    },
    {
     "name": "stderr",
     "output_type": "stream",
     "text": [
      "[INFO][2021/05/11 12:28:00 AM] Loading objects/obj_type_1 (238100, 5) (221047 filtered: area>=100)\n",
      "[INFO][2021/05/11 12:28:02 AM] Closing HDF file: /home/nathan/data/kraken/h2b/giulia/GV0818/Pos12/Pos12_aligned/HDF/segmented.hdf5\n",
      "[INFO][2021/05/11 12:28:02 AM] Opening HDF file: /home/nathan/data/kraken/h2b/giulia/GV0818/Pos12/Pos12_aligned/HDF/segmented.hdf5...\n",
      "[INFO][2021/05/11 12:28:02 AM] Loading tracks/obj_type_2\n",
      "[INFO][2021/05/11 12:28:03 AM] Loading objects/obj_type_2 (70950, 5) (59685 filtered: area>=100)\n",
      "[INFO][2021/05/11 12:28:03 AM] Closing HDF file: /home/nathan/data/kraken/h2b/giulia/GV0818/Pos12/Pos12_aligned/HDF/segmented.hdf5\n"
     ]
    },
    {
     "name": "stdout",
     "output_type": "stream",
     "text": [
      "Track information loaded and ordered according to cell type (WT IDs >0> Scr IDs)\n",
      "Loaded GV0818/Pos12/\n"
     ]
    },
    {
     "name": "stderr",
     "output_type": "stream",
     "text": [
      "\r",
      " 76%|███████▌  | 291/385 [8:20:07<2:23:05, 91.34s/it]"
     ]
    },
    {
     "name": "stdout",
     "output_type": "stream",
     "text": [
      "ID GV0818_Pos12_378_GFP\n"
     ]
    },
    {
     "name": "stderr",
     "output_type": "stream",
     "text": [
      "\r",
      " 76%|███████▌  | 292/385 [8:21:35<2:20:05, 90.38s/it]"
     ]
    },
    {
     "name": "stdout",
     "output_type": "stream",
     "text": [
      "ID GV0818_Pos12_863_GFP\n"
     ]
    },
    {
     "name": "stderr",
     "output_type": "stream",
     "text": [
      "\r",
      " 76%|███████▌  | 293/385 [8:21:58<1:47:44, 70.27s/it]"
     ]
    },
    {
     "name": "stdout",
     "output_type": "stream",
     "text": [
      "ID GV0818_Pos12_932_GFP\n"
     ]
    },
    {
     "name": "stderr",
     "output_type": "stream",
     "text": [
      "\r",
      " 76%|███████▋  | 294/385 [8:22:57<1:41:38, 67.01s/it]"
     ]
    },
    {
     "name": "stdout",
     "output_type": "stream",
     "text": [
      "ID GV0818_Pos12_933_GFP\n"
     ]
    },
    {
     "name": "stderr",
     "output_type": "stream",
     "text": [
      "\r",
      " 77%|███████▋  | 295/385 [8:24:23<1:48:44, 72.49s/it]"
     ]
    },
    {
     "name": "stdout",
     "output_type": "stream",
     "text": [
      "ID GV0818_Pos12_1099_GFP\n"
     ]
    },
    {
     "name": "stderr",
     "output_type": "stream",
     "text": [
      "\r",
      " 77%|███████▋  | 296/385 [8:24:48<1:26:31, 58.33s/it]"
     ]
    },
    {
     "name": "stdout",
     "output_type": "stream",
     "text": [
      "ID GV0818_Pos12_957_GFP\n"
     ]
    },
    {
     "name": "stderr",
     "output_type": "stream",
     "text": [
      "\r",
      " 77%|███████▋  | 297/385 [8:25:57<1:30:17, 61.56s/it]"
     ]
    },
    {
     "name": "stdout",
     "output_type": "stream",
     "text": [
      "ID GV0818_Pos12_1928_GFP\n"
     ]
    },
    {
     "name": "stderr",
     "output_type": "stream",
     "text": [
      "\r",
      " 77%|███████▋  | 298/385 [8:26:29<1:16:18, 52.63s/it]"
     ]
    },
    {
     "name": "stdout",
     "output_type": "stream",
     "text": [
      "ID GV0818_Pos12_2092_GFP\n"
     ]
    },
    {
     "name": "stderr",
     "output_type": "stream",
     "text": [
      "\r",
      " 78%|███████▊  | 299/385 [8:27:05<1:08:20, 47.68s/it]"
     ]
    },
    {
     "name": "stdout",
     "output_type": "stream",
     "text": [
      "ID GV0818_Pos12_1715_GFP\n"
     ]
    },
    {
     "name": "stderr",
     "output_type": "stream",
     "text": [
      "\r",
      " 78%|███████▊  | 300/385 [8:28:03<1:12:06, 50.90s/it]"
     ]
    },
    {
     "name": "stdout",
     "output_type": "stream",
     "text": [
      "ID GV0818_Pos12_1714_GFP\n"
     ]
    },
    {
     "name": "stderr",
     "output_type": "stream",
     "text": [
      "\r",
      " 78%|███████▊  | 301/385 [8:28:57<1:12:21, 51.68s/it]"
     ]
    },
    {
     "name": "stdout",
     "output_type": "stream",
     "text": [
      "ID GV0818_Pos12_1360_GFP\n"
     ]
    },
    {
     "name": "stderr",
     "output_type": "stream",
     "text": [
      "\r",
      " 78%|███████▊  | 302/385 [8:30:13<1:21:35, 58.98s/it]"
     ]
    },
    {
     "name": "stdout",
     "output_type": "stream",
     "text": [
      "ID GV0818_Pos12_2659_GFP\n"
     ]
    },
    {
     "name": "stderr",
     "output_type": "stream",
     "text": [
      "\r",
      " 79%|███████▊  | 303/385 [8:30:37<1:06:21, 48.55s/it]"
     ]
    },
    {
     "name": "stdout",
     "output_type": "stream",
     "text": [
      "ID GV0818_Pos12_98_GFP\n"
     ]
    },
    {
     "name": "stderr",
     "output_type": "stream",
     "text": [
      "\r",
      " 79%|███████▉  | 304/385 [8:33:48<2:03:02, 91.14s/it]"
     ]
    },
    {
     "name": "stdout",
     "output_type": "stream",
     "text": [
      "ID GV0818_Pos12_1463_GFP\n"
     ]
    },
    {
     "name": "stderr",
     "output_type": "stream",
     "text": [
      " 79%|███████▉  | 305/385 [8:34:59<1:53:26, 85.09s/it][INFO][2021/05/11 12:44:23 AM] Opening HDF file: /home/nathan/data/kraken/h2b/giulia/GV0802/Pos3/Pos3_aligned/HDF/segmented.hdf5...\n",
      "[INFO][2021/05/11 12:44:23 AM] Loading tracks/obj_type_1\n"
     ]
    },
    {
     "name": "stdout",
     "output_type": "stream",
     "text": [
      "ID GV0802_Pos3_2411_GFP\n",
      "Loading GV0802/Pos3/\n",
      "Btrack version no.: 0.4.0\n"
     ]
    },
    {
     "name": "stderr",
     "output_type": "stream",
     "text": [
      "[INFO][2021/05/11 12:44:27 AM] Loading objects/obj_type_1 (660140, 5) (631868 filtered: area>=100)\n",
      "[INFO][2021/05/11 12:44:33 AM] Closing HDF file: /home/nathan/data/kraken/h2b/giulia/GV0802/Pos3/Pos3_aligned/HDF/segmented.hdf5\n",
      "[INFO][2021/05/11 12:44:33 AM] Opening HDF file: /home/nathan/data/kraken/h2b/giulia/GV0802/Pos3/Pos3_aligned/HDF/segmented.hdf5...\n",
      "[INFO][2021/05/11 12:44:33 AM] Loading tracks/obj_type_2\n",
      "[INFO][2021/05/11 12:44:33 AM] Loading objects/obj_type_2 (23947, 5) (20889 filtered: area>=100)\n",
      "[INFO][2021/05/11 12:44:33 AM] Closing HDF file: /home/nathan/data/kraken/h2b/giulia/GV0802/Pos3/Pos3_aligned/HDF/segmented.hdf5\n"
     ]
    },
    {
     "name": "stdout",
     "output_type": "stream",
     "text": [
      "Track information loaded and ordered according to cell type (WT IDs >0> Scr IDs)\n",
      "Loaded GV0802/Pos3/\n"
     ]
    },
    {
     "name": "stderr",
     "output_type": "stream",
     "text": [
      " 79%|███████▉  | 306/385 [8:36:54<2:03:59, 94.17s/it][INFO][2021/05/11 12:46:19 AM] Opening HDF file: /home/nathan/data/kraken/h2b/giulia/GV0797/Pos18/Pos18_aligned/HDF/segmented.hdf5...\n",
      "[INFO][2021/05/11 12:46:19 AM] Loading tracks/obj_type_1\n"
     ]
    },
    {
     "name": "stdout",
     "output_type": "stream",
     "text": [
      "ID GV0797_Pos18_833_GFP\n",
      "Loading GV0797/Pos18/\n",
      "Btrack version no.: 0.4.0\n"
     ]
    },
    {
     "name": "stderr",
     "output_type": "stream",
     "text": [
      "[INFO][2021/05/11 12:46:20 AM] Loading objects/obj_type_1 (274136, 5) (262171 filtered: area>=100)\n",
      "[INFO][2021/05/11 12:46:23 AM] Closing HDF file: /home/nathan/data/kraken/h2b/giulia/GV0797/Pos18/Pos18_aligned/HDF/segmented.hdf5\n",
      "[INFO][2021/05/11 12:46:23 AM] Opening HDF file: /home/nathan/data/kraken/h2b/giulia/GV0797/Pos18/Pos18_aligned/HDF/segmented.hdf5...\n",
      "[INFO][2021/05/11 12:46:23 AM] Loading tracks/obj_type_2\n",
      "[INFO][2021/05/11 12:46:23 AM] Loading objects/obj_type_2 (17638, 5) (13852 filtered: area>=100)\n",
      "[INFO][2021/05/11 12:46:23 AM] Closing HDF file: /home/nathan/data/kraken/h2b/giulia/GV0797/Pos18/Pos18_aligned/HDF/segmented.hdf5\n"
     ]
    },
    {
     "name": "stdout",
     "output_type": "stream",
     "text": [
      "Track information loaded and ordered according to cell type (WT IDs >0> Scr IDs)\n",
      "Loaded GV0797/Pos18/\n"
     ]
    },
    {
     "name": "stderr",
     "output_type": "stream",
     "text": [
      "\r",
      " 80%|███████▉  | 307/385 [8:37:47<1:46:17, 81.76s/it]"
     ]
    },
    {
     "name": "stdout",
     "output_type": "stream",
     "text": [
      "ID GV0797_Pos18_706_GFP\n"
     ]
    },
    {
     "name": "stderr",
     "output_type": "stream",
     "text": [
      "\r",
      " 80%|████████  | 308/385 [8:39:16<1:47:51, 84.04s/it]"
     ]
    },
    {
     "name": "stdout",
     "output_type": "stream",
     "text": [
      "ID GV0797_Pos18_1303_GFP\n"
     ]
    },
    {
     "name": "stderr",
     "output_type": "stream",
     "text": [
      "\r",
      " 80%|████████  | 309/385 [8:39:54<1:28:51, 70.16s/it]"
     ]
    },
    {
     "name": "stdout",
     "output_type": "stream",
     "text": [
      "ID GV0797_Pos18_1302_GFP\n"
     ]
    },
    {
     "name": "stderr",
     "output_type": "stream",
     "text": [
      "\r",
      " 81%|████████  | 310/385 [8:40:25<1:13:08, 58.51s/it]"
     ]
    },
    {
     "name": "stdout",
     "output_type": "stream",
     "text": [
      "ID GV0797_Pos18_1422_GFP\n"
     ]
    },
    {
     "name": "stderr",
     "output_type": "stream",
     "text": [
      " 81%|████████  | 311/385 [8:41:23<1:11:55, 58.31s/it][INFO][2021/05/11 12:50:48 AM] Opening HDF file: /home/nathan/data/kraken/h2b/giulia/GV0817/Pos11/Pos11_aligned/HDF/segmented.hdf5...\n",
      "[INFO][2021/05/11 12:50:48 AM] Loading tracks/obj_type_1\n"
     ]
    },
    {
     "name": "stdout",
     "output_type": "stream",
     "text": [
      "ID GV0817_Pos11_141_GFP\n",
      "Loading GV0817/Pos11/\n",
      "Btrack version no.: 0.4.0\n"
     ]
    },
    {
     "name": "stderr",
     "output_type": "stream",
     "text": [
      "[INFO][2021/05/11 12:50:49 AM] Loading objects/obj_type_1 (278388, 5) (263033 filtered: area>=100)\n",
      "[INFO][2021/05/11 12:50:52 AM] Closing HDF file: /home/nathan/data/kraken/h2b/giulia/GV0817/Pos11/Pos11_aligned/HDF/segmented.hdf5\n",
      "[INFO][2021/05/11 12:50:52 AM] Opening HDF file: /home/nathan/data/kraken/h2b/giulia/GV0817/Pos11/Pos11_aligned/HDF/segmented.hdf5...\n",
      "[INFO][2021/05/11 12:50:52 AM] Loading tracks/obj_type_2\n",
      "[INFO][2021/05/11 12:50:52 AM] Loading objects/obj_type_2 (103313, 5) (85256 filtered: area>=100)\n",
      "[INFO][2021/05/11 12:50:53 AM] Closing HDF file: /home/nathan/data/kraken/h2b/giulia/GV0817/Pos11/Pos11_aligned/HDF/segmented.hdf5\n"
     ]
    },
    {
     "name": "stdout",
     "output_type": "stream",
     "text": [
      "Track information loaded and ordered according to cell type (WT IDs >0> Scr IDs)\n",
      "Loaded GV0817/Pos11/\n"
     ]
    },
    {
     "name": "stderr",
     "output_type": "stream",
     "text": [
      "\r",
      " 81%|████████  | 312/385 [8:43:51<1:43:45, 85.28s/it]"
     ]
    },
    {
     "name": "stdout",
     "output_type": "stream",
     "text": [
      "ID GV0817_Pos11_944_GFP\n"
     ]
    },
    {
     "name": "stderr",
     "output_type": "stream",
     "text": [
      "\r",
      " 81%|████████▏ | 313/385 [8:44:50<1:32:42, 77.25s/it]"
     ]
    },
    {
     "name": "stdout",
     "output_type": "stream",
     "text": [
      "ID GV0817_Pos11_393_GFP\n"
     ]
    },
    {
     "name": "stderr",
     "output_type": "stream",
     "text": [
      "\r",
      " 82%|████████▏ | 314/385 [8:47:04<1:51:31, 94.25s/it]"
     ]
    },
    {
     "name": "stdout",
     "output_type": "stream",
     "text": [
      "ID GV0817_Pos11_2358_GFP\n"
     ]
    },
    {
     "name": "stderr",
     "output_type": "stream",
     "text": [
      " 82%|████████▏ | 315/385 [8:47:58<1:35:49, 82.14s/it][INFO][2021/05/11 12:57:22 AM] Opening HDF file: /home/nathan/data/kraken/h2b/giulia/GV0797/Pos5/Pos5_aligned/HDF/segmented.hdf5...\n",
      "[INFO][2021/05/11 12:57:22 AM] Loading tracks/obj_type_1\n"
     ]
    },
    {
     "name": "stdout",
     "output_type": "stream",
     "text": [
      "ID GV0797_Pos5_971_GFP\n",
      "Loading GV0797/Pos5/\n",
      "Btrack version no.: 0.4.0\n"
     ]
    },
    {
     "name": "stderr",
     "output_type": "stream",
     "text": [
      "[INFO][2021/05/11 12:57:23 AM] Loading objects/obj_type_1 (83742, 5) (65837 filtered: area>=100)\n",
      "[INFO][2021/05/11 12:57:24 AM] Closing HDF file: /home/nathan/data/kraken/h2b/giulia/GV0797/Pos5/Pos5_aligned/HDF/segmented.hdf5\n",
      "[INFO][2021/05/11 12:57:24 AM] Opening HDF file: /home/nathan/data/kraken/h2b/giulia/GV0797/Pos5/Pos5_aligned/HDF/segmented.hdf5...\n",
      "[INFO][2021/05/11 12:57:24 AM] Loading tracks/obj_type_2\n",
      "[INFO][2021/05/11 12:57:24 AM] Loading objects/obj_type_2 (22517, 5) (15314 filtered: area>=100)\n",
      "[INFO][2021/05/11 12:57:24 AM] Closing HDF file: /home/nathan/data/kraken/h2b/giulia/GV0797/Pos5/Pos5_aligned/HDF/segmented.hdf5\n"
     ]
    },
    {
     "name": "stdout",
     "output_type": "stream",
     "text": [
      "Track information loaded and ordered according to cell type (WT IDs >0> Scr IDs)\n",
      "Loaded GV0797/Pos5/\n"
     ]
    },
    {
     "name": "stderr",
     "output_type": "stream",
     "text": [
      "\r",
      " 82%|████████▏ | 316/385 [8:48:05<1:08:46, 59.80s/it]"
     ]
    },
    {
     "name": "stdout",
     "output_type": "stream",
     "text": [
      "ID GV0797_Pos5_741_GFP\n"
     ]
    },
    {
     "name": "stderr",
     "output_type": "stream",
     "text": [
      "\r",
      " 82%|████████▏ | 317/385 [8:48:23<53:36, 47.30s/it]  "
     ]
    },
    {
     "name": "stdout",
     "output_type": "stream",
     "text": [
      "ID GV0797_Pos5_742_GFP\n"
     ]
    },
    {
     "name": "stderr",
     "output_type": "stream",
     "text": [
      " 83%|████████▎ | 318/385 [8:48:45<44:08, 39.53s/it][INFO][2021/05/11 12:58:10 AM] Opening HDF file: /home/nathan/data/kraken/h2b/giulia/GV0797/Pos20/Pos20_aligned/HDF/segmented.hdf5...\n",
      "[INFO][2021/05/11 12:58:10 AM] Loading tracks/obj_type_1\n"
     ]
    },
    {
     "name": "stdout",
     "output_type": "stream",
     "text": [
      "ID GV0797_Pos20_92_GFP\n",
      "Loading GV0797/Pos20/\n",
      "Btrack version no.: 0.4.0\n"
     ]
    },
    {
     "name": "stderr",
     "output_type": "stream",
     "text": [
      "[INFO][2021/05/11 12:58:11 AM] Loading objects/obj_type_1 (193103, 5) (183703 filtered: area>=100)\n",
      "[INFO][2021/05/11 12:58:12 AM] Closing HDF file: /home/nathan/data/kraken/h2b/giulia/GV0797/Pos20/Pos20_aligned/HDF/segmented.hdf5\n",
      "[INFO][2021/05/11 12:58:12 AM] Opening HDF file: /home/nathan/data/kraken/h2b/giulia/GV0797/Pos20/Pos20_aligned/HDF/segmented.hdf5...\n",
      "[INFO][2021/05/11 12:58:12 AM] Loading tracks/obj_type_2\n",
      "[INFO][2021/05/11 12:58:12 AM] Loading objects/obj_type_2 (12311, 5) (8874 filtered: area>=100)\n",
      "[INFO][2021/05/11 12:58:12 AM] Closing HDF file: /home/nathan/data/kraken/h2b/giulia/GV0797/Pos20/Pos20_aligned/HDF/segmented.hdf5\n"
     ]
    },
    {
     "name": "stdout",
     "output_type": "stream",
     "text": [
      "Track information loaded and ordered according to cell type (WT IDs >0> Scr IDs)\n",
      "Loaded GV0797/Pos20/\n"
     ]
    },
    {
     "name": "stderr",
     "output_type": "stream",
     "text": [
      "\r",
      " 83%|████████▎ | 319/385 [8:49:37<47:34, 43.24s/it]"
     ]
    },
    {
     "name": "stdout",
     "output_type": "stream",
     "text": [
      "ID GV0797_Pos20_39_GFP\n"
     ]
    },
    {
     "name": "stderr",
     "output_type": "stream",
     "text": [
      "\r",
      " 83%|████████▎ | 320/385 [8:51:13<1:03:57, 59.04s/it]"
     ]
    },
    {
     "name": "stdout",
     "output_type": "stream",
     "text": [
      "ID GV0797_Pos20_662_GFP\n"
     ]
    },
    {
     "name": "stderr",
     "output_type": "stream",
     "text": [
      "\r",
      " 83%|████████▎ | 321/385 [8:52:05<1:00:50, 57.04s/it]"
     ]
    },
    {
     "name": "stdout",
     "output_type": "stream",
     "text": [
      "ID GV0797_Pos20_880_GFP\n"
     ]
    },
    {
     "name": "stderr",
     "output_type": "stream",
     "text": [
      " 84%|████████▎ | 322/385 [8:52:53<57:05, 54.38s/it]  [INFO][2021/05/11 01:02:18 AM] Opening HDF file: /home/nathan/data/kraken/h2b/giulia/GV0794/Pos7/Pos7_aligned/HDF/segmented.hdf5...\n",
      "[INFO][2021/05/11 01:02:18 AM] Loading tracks/obj_type_1\n"
     ]
    },
    {
     "name": "stdout",
     "output_type": "stream",
     "text": [
      "ID GV0794_Pos7_364_GFP\n",
      "Loading GV0794/Pos7/\n",
      "Btrack version no.: 0.4.0\n"
     ]
    },
    {
     "name": "stderr",
     "output_type": "stream",
     "text": [
      "[INFO][2021/05/11 01:02:19 AM] Loading objects/obj_type_1 (110774, 5) (102450 filtered: area>=100)\n",
      "[INFO][2021/05/11 01:02:19 AM] Closing HDF file: /home/nathan/data/kraken/h2b/giulia/GV0794/Pos7/Pos7_aligned/HDF/segmented.hdf5\n",
      "[INFO][2021/05/11 01:02:19 AM] Opening HDF file: /home/nathan/data/kraken/h2b/giulia/GV0794/Pos7/Pos7_aligned/HDF/segmented.hdf5...\n",
      "[INFO][2021/05/11 01:02:19 AM] Loading tracks/obj_type_2\n",
      "[INFO][2021/05/11 01:02:20 AM] Loading objects/obj_type_2 (20793, 5) (17016 filtered: area>=100)\n",
      "[INFO][2021/05/11 01:02:20 AM] Closing HDF file: /home/nathan/data/kraken/h2b/giulia/GV0794/Pos7/Pos7_aligned/HDF/segmented.hdf5\n"
     ]
    },
    {
     "name": "stdout",
     "output_type": "stream",
     "text": [
      "Track information loaded and ordered according to cell type (WT IDs >0> Scr IDs)\n",
      "Loaded GV0794/Pos7/\n"
     ]
    },
    {
     "name": "stderr",
     "output_type": "stream",
     "text": [
      "\r",
      " 84%|████████▍ | 323/385 [8:53:40<53:54, 52.17s/it]"
     ]
    },
    {
     "name": "stdout",
     "output_type": "stream",
     "text": [
      "ID GV0794_Pos7_457_GFP\n"
     ]
    },
    {
     "name": "stderr",
     "output_type": "stream",
     "text": [
      "\r",
      " 84%|████████▍ | 324/385 [8:54:20<49:18, 48.50s/it]"
     ]
    },
    {
     "name": "stdout",
     "output_type": "stream",
     "text": [
      "ID GV0794_Pos7_369_GFP\n"
     ]
    },
    {
     "name": "stderr",
     "output_type": "stream",
     "text": [
      "\r",
      " 84%|████████▍ | 325/385 [8:55:08<48:19, 48.32s/it]"
     ]
    },
    {
     "name": "stdout",
     "output_type": "stream",
     "text": [
      "ID GV0794_Pos7_292_GFP\n"
     ]
    },
    {
     "name": "stderr",
     "output_type": "stream",
     "text": [
      " 85%|████████▍ | 326/385 [8:56:09<51:21, 52.22s/it][INFO][2021/05/11 01:05:34 AM] Opening HDF file: /home/nathan/data/kraken/h2b/giulia/GV0816/Pos0/Pos0_aligned/HDF/segmented.hdf5...\n",
      "[INFO][2021/05/11 01:05:34 AM] Loading tracks/obj_type_1\n"
     ]
    },
    {
     "name": "stdout",
     "output_type": "stream",
     "text": [
      "ID GV0816_Pos0_416_GFP\n",
      "Loading GV0816/Pos0/\n",
      "Btrack version no.: 0.4.0\n"
     ]
    },
    {
     "name": "stderr",
     "output_type": "stream",
     "text": [
      "[INFO][2021/05/11 01:05:35 AM] Loading objects/obj_type_1 (90368, 5) (81699 filtered: area>=100)\n",
      "[INFO][2021/05/11 01:05:35 AM] Closing HDF file: /home/nathan/data/kraken/h2b/giulia/GV0816/Pos0/Pos0_aligned/HDF/segmented.hdf5\n",
      "[INFO][2021/05/11 01:05:35 AM] Opening HDF file: /home/nathan/data/kraken/h2b/giulia/GV0816/Pos0/Pos0_aligned/HDF/segmented.hdf5...\n",
      "[INFO][2021/05/11 01:05:35 AM] Loading tracks/obj_type_2\n",
      "[INFO][2021/05/11 01:05:36 AM] Loading objects/obj_type_2 (24057, 5) (17173 filtered: area>=100)\n",
      "[INFO][2021/05/11 01:05:36 AM] Closing HDF file: /home/nathan/data/kraken/h2b/giulia/GV0816/Pos0/Pos0_aligned/HDF/segmented.hdf5\n"
     ]
    },
    {
     "name": "stdout",
     "output_type": "stream",
     "text": [
      "Track information loaded and ordered according to cell type (WT IDs >0> Scr IDs)\n",
      "Loaded GV0816/Pos0/\n"
     ]
    },
    {
     "name": "stderr",
     "output_type": "stream",
     "text": [
      "\r",
      " 85%|████████▍ | 327/385 [8:56:48<46:35, 48.20s/it]"
     ]
    },
    {
     "name": "stdout",
     "output_type": "stream",
     "text": [
      "ID GV0816_Pos0_668_GFP\n"
     ]
    },
    {
     "name": "stderr",
     "output_type": "stream",
     "text": [
      " 85%|████████▌ | 328/385 [8:57:16<39:53, 41.98s/it][INFO][2021/05/11 01:06:40 AM] Opening HDF file: /home/nathan/data/kraken/h2b/giulia/GV0798/Pos8/Pos8_aligned/HDF/segmented.hdf5...\n",
      "[INFO][2021/05/11 01:06:40 AM] Loading tracks/obj_type_1\n"
     ]
    },
    {
     "name": "stdout",
     "output_type": "stream",
     "text": [
      "ID GV0798_Pos8_1325_GFP\n",
      "Loading GV0798/Pos8/\n",
      "Btrack version no.: 0.4.0\n"
     ]
    },
    {
     "name": "stderr",
     "output_type": "stream",
     "text": [
      "[INFO][2021/05/11 01:06:42 AM] Loading objects/obj_type_1 (286320, 5) (277358 filtered: area>=100)\n",
      "[INFO][2021/05/11 01:06:45 AM] Closing HDF file: /home/nathan/data/kraken/h2b/giulia/GV0798/Pos8/Pos8_aligned/HDF/segmented.hdf5\n",
      "[INFO][2021/05/11 01:06:45 AM] Opening HDF file: /home/nathan/data/kraken/h2b/giulia/GV0798/Pos8/Pos8_aligned/HDF/segmented.hdf5...\n",
      "[INFO][2021/05/11 01:06:45 AM] Loading tracks/obj_type_2\n",
      "[INFO][2021/05/11 01:06:45 AM] Loading objects/obj_type_2 (9028, 5) (8305 filtered: area>=100)\n",
      "[INFO][2021/05/11 01:06:45 AM] Closing HDF file: /home/nathan/data/kraken/h2b/giulia/GV0798/Pos8/Pos8_aligned/HDF/segmented.hdf5\n"
     ]
    },
    {
     "name": "stdout",
     "output_type": "stream",
     "text": [
      "Track information loaded and ordered according to cell type (WT IDs >0> Scr IDs)\n",
      "Loaded GV0798/Pos8/\n"
     ]
    },
    {
     "name": "stderr",
     "output_type": "stream",
     "text": [
      " 85%|████████▌ | 329/385 [8:58:19<45:07, 48.35s/it][INFO][2021/05/11 01:07:44 AM] Opening HDF file: /home/nathan/data/kraken/h2b/giulia/GV0798/Pos4/Pos4_aligned/HDF/segmented.hdf5...\n",
      "[INFO][2021/05/11 01:07:44 AM] Loading tracks/obj_type_1\n"
     ]
    },
    {
     "name": "stdout",
     "output_type": "stream",
     "text": [
      "ID GV0798_Pos4_1955_GFP\n",
      "Loading GV0798/Pos4/\n",
      "Btrack version no.: 0.4.0\n"
     ]
    },
    {
     "name": "stderr",
     "output_type": "stream",
     "text": [
      "[INFO][2021/05/11 01:07:45 AM] Loading objects/obj_type_1 (233782, 5) (224796 filtered: area>=100)\n",
      "[INFO][2021/05/11 01:07:47 AM] Closing HDF file: /home/nathan/data/kraken/h2b/giulia/GV0798/Pos4/Pos4_aligned/HDF/segmented.hdf5\n",
      "[INFO][2021/05/11 01:07:47 AM] Opening HDF file: /home/nathan/data/kraken/h2b/giulia/GV0798/Pos4/Pos4_aligned/HDF/segmented.hdf5...\n",
      "[INFO][2021/05/11 01:07:47 AM] Loading tracks/obj_type_2\n",
      "[INFO][2021/05/11 01:07:47 AM] Loading objects/obj_type_2 (33185, 5) (26688 filtered: area>=100)\n",
      "[INFO][2021/05/11 01:07:47 AM] Closing HDF file: /home/nathan/data/kraken/h2b/giulia/GV0798/Pos4/Pos4_aligned/HDF/segmented.hdf5\n"
     ]
    },
    {
     "name": "stdout",
     "output_type": "stream",
     "text": [
      "Track information loaded and ordered according to cell type (WT IDs >0> Scr IDs)\n",
      "Loaded GV0798/Pos4/\n"
     ]
    },
    {
     "name": "stderr",
     "output_type": "stream",
     "text": [
      " 86%|████████▌ | 330/385 [8:58:50<39:38, 43.25s/it][INFO][2021/05/11 01:08:15 AM] Opening HDF file: /home/nathan/data/kraken/h2b/giulia/GV0816/Pos13/Pos13_aligned/HDF/segmented.hdf5...\n",
      "[INFO][2021/05/11 01:08:15 AM] Loading tracks/obj_type_1\n"
     ]
    },
    {
     "name": "stdout",
     "output_type": "stream",
     "text": [
      "ID GV0816_Pos13_39_GFP\n",
      "Loading GV0816/Pos13/\n",
      "Btrack version no.: 0.4.0\n"
     ]
    },
    {
     "name": "stderr",
     "output_type": "stream",
     "text": [
      "[INFO][2021/05/11 01:08:16 AM] Loading objects/obj_type_1 (115677, 5) (105175 filtered: area>=100)\n",
      "[INFO][2021/05/11 01:08:17 AM] Closing HDF file: /home/nathan/data/kraken/h2b/giulia/GV0816/Pos13/Pos13_aligned/HDF/segmented.hdf5\n",
      "[INFO][2021/05/11 01:08:17 AM] Opening HDF file: /home/nathan/data/kraken/h2b/giulia/GV0816/Pos13/Pos13_aligned/HDF/segmented.hdf5...\n",
      "[INFO][2021/05/11 01:08:17 AM] Loading tracks/obj_type_2\n",
      "[INFO][2021/05/11 01:08:17 AM] Loading objects/obj_type_2 (55169, 5) (45321 filtered: area>=100)\n",
      "[INFO][2021/05/11 01:08:17 AM] Closing HDF file: /home/nathan/data/kraken/h2b/giulia/GV0816/Pos13/Pos13_aligned/HDF/segmented.hdf5\n"
     ]
    },
    {
     "name": "stdout",
     "output_type": "stream",
     "text": [
      "Track information loaded and ordered according to cell type (WT IDs >0> Scr IDs)\n",
      "Loaded GV0816/Pos13/\n"
     ]
    },
    {
     "name": "stderr",
     "output_type": "stream",
     "text": [
      "\r",
      " 86%|████████▌ | 331/385 [8:59:17<34:27, 38.29s/it]"
     ]
    },
    {
     "name": "stdout",
     "output_type": "stream",
     "text": [
      "ID GV0816_Pos13_25_GFP\n"
     ]
    },
    {
     "name": "stderr",
     "output_type": "stream",
     "text": [
      " 86%|████████▌ | 332/385 [9:01:09<53:14, 60.27s/it][INFO][2021/05/11 01:10:33 AM] Opening HDF file: /home/nathan/data/kraken/h2b/giulia/GV0800/Pos16/Pos16_aligned/HDF/segmented.hdf5...\n",
      "[INFO][2021/05/11 01:10:33 AM] Loading tracks/obj_type_1\n"
     ]
    },
    {
     "name": "stdout",
     "output_type": "stream",
     "text": [
      "ID GV0800_Pos16_327_GFP\n",
      "Loading GV0800/Pos16/\n",
      "Btrack version no.: 0.4.0\n"
     ]
    },
    {
     "name": "stderr",
     "output_type": "stream",
     "text": [
      "[INFO][2021/05/11 01:10:35 AM] Loading objects/obj_type_1 (361372, 5) (345214 filtered: area>=100)\n",
      "[INFO][2021/05/11 01:10:38 AM] Closing HDF file: /home/nathan/data/kraken/h2b/giulia/GV0800/Pos16/Pos16_aligned/HDF/segmented.hdf5\n",
      "[INFO][2021/05/11 01:10:38 AM] Opening HDF file: /home/nathan/data/kraken/h2b/giulia/GV0800/Pos16/Pos16_aligned/HDF/segmented.hdf5...\n",
      "[INFO][2021/05/11 01:10:38 AM] Loading tracks/obj_type_2\n",
      "[INFO][2021/05/11 01:10:39 AM] Loading objects/obj_type_2 (88705, 5) (75574 filtered: area>=100)\n",
      "[INFO][2021/05/11 01:10:39 AM] Closing HDF file: /home/nathan/data/kraken/h2b/giulia/GV0800/Pos16/Pos16_aligned/HDF/segmented.hdf5\n"
     ]
    },
    {
     "name": "stdout",
     "output_type": "stream",
     "text": [
      "Track information loaded and ordered according to cell type (WT IDs >0> Scr IDs)\n",
      "Loaded GV0800/Pos16/\n"
     ]
    },
    {
     "name": "stderr",
     "output_type": "stream",
     "text": [
      "\r",
      " 86%|████████▋ | 333/385 [9:02:25<56:25, 65.10s/it]"
     ]
    },
    {
     "name": "stdout",
     "output_type": "stream",
     "text": [
      "ID GV0800_Pos16_259_GFP\n"
     ]
    },
    {
     "name": "stderr",
     "output_type": "stream",
     "text": [
      "\r",
      " 87%|████████▋ | 334/385 [9:04:11<1:05:48, 77.43s/it]"
     ]
    },
    {
     "name": "stdout",
     "output_type": "stream",
     "text": [
      "ID GV0800_Pos16_265_GFP\n"
     ]
    },
    {
     "name": "stderr",
     "output_type": "stream",
     "text": [
      "\r",
      " 87%|████████▋ | 335/385 [9:05:58<1:11:49, 86.20s/it]"
     ]
    },
    {
     "name": "stdout",
     "output_type": "stream",
     "text": [
      "ID GV0800_Pos16_1376_GFP\n"
     ]
    },
    {
     "name": "stderr",
     "output_type": "stream",
     "text": [
      "\r",
      " 87%|████████▋ | 336/385 [9:07:03<1:05:08, 79.77s/it]"
     ]
    },
    {
     "name": "stdout",
     "output_type": "stream",
     "text": [
      "ID GV0800_Pos16_719_GFP\n"
     ]
    },
    {
     "name": "stderr",
     "output_type": "stream",
     "text": [
      "\r",
      " 88%|████████▊ | 337/385 [9:08:55<1:11:37, 89.54s/it]"
     ]
    },
    {
     "name": "stdout",
     "output_type": "stream",
     "text": [
      "ID GV0800_Pos16_720_GFP\n"
     ]
    },
    {
     "name": "stderr",
     "output_type": "stream",
     "text": [
      " 88%|████████▊ | 338/385 [9:10:55<1:17:22, 98.78s/it][INFO][2021/05/11 01:20:20 AM] Opening HDF file: /home/nathan/data/kraken/h2b/giulia/GV0819/Pos5/Pos5_aligned/HDF/segmented.hdf5...\n",
      "[INFO][2021/05/11 01:20:20 AM] Loading tracks/obj_type_1\n"
     ]
    },
    {
     "name": "stdout",
     "output_type": "stream",
     "text": [
      "ID GV0819_Pos5_1411_GFP\n",
      "Loading GV0819/Pos5/\n",
      "Btrack version no.: 0.4.0\n"
     ]
    },
    {
     "name": "stderr",
     "output_type": "stream",
     "text": [
      "[INFO][2021/05/11 01:20:22 AM] Loading objects/obj_type_1 (305714, 5) (290346 filtered: area>=100)\n",
      "[INFO][2021/05/11 01:20:24 AM] Closing HDF file: /home/nathan/data/kraken/h2b/giulia/GV0819/Pos5/Pos5_aligned/HDF/segmented.hdf5\n",
      "[INFO][2021/05/11 01:20:24 AM] Opening HDF file: /home/nathan/data/kraken/h2b/giulia/GV0819/Pos5/Pos5_aligned/HDF/segmented.hdf5...\n",
      "[INFO][2021/05/11 01:20:24 AM] Loading tracks/obj_type_2\n",
      "[INFO][2021/05/11 01:20:25 AM] Loading objects/obj_type_2 (84463, 5) (70183 filtered: area>=100)\n",
      "[INFO][2021/05/11 01:20:25 AM] Closing HDF file: /home/nathan/data/kraken/h2b/giulia/GV0819/Pos5/Pos5_aligned/HDF/segmented.hdf5\n"
     ]
    },
    {
     "name": "stdout",
     "output_type": "stream",
     "text": [
      "Track information loaded and ordered according to cell type (WT IDs >0> Scr IDs)\n",
      "Loaded GV0819/Pos5/\n"
     ]
    },
    {
     "name": "stderr",
     "output_type": "stream",
     "text": [
      "\r",
      " 88%|████████▊ | 339/385 [9:11:34<1:01:57, 80.82s/it]"
     ]
    },
    {
     "name": "stdout",
     "output_type": "stream",
     "text": [
      "ID GV0819_Pos5_1374_GFP\n"
     ]
    },
    {
     "name": "stderr",
     "output_type": "stream",
     "text": [
      "\r",
      " 88%|████████▊ | 340/385 [9:12:33<55:40, 74.24s/it]  "
     ]
    },
    {
     "name": "stdout",
     "output_type": "stream",
     "text": [
      "ID GV0819_Pos5_1098_GFP\n"
     ]
    },
    {
     "name": "stderr",
     "output_type": "stream",
     "text": [
      " 89%|████████▊ | 341/385 [9:14:09<59:14, 80.79s/it][INFO][2021/05/11 01:23:34 AM] Opening HDF file: /home/nathan/data/kraken/h2b/giulia/GV0805/Pos4/Pos4_aligned/HDF/segmented.hdf5...\n",
      "[INFO][2021/05/11 01:23:34 AM] Loading tracks/obj_type_1\n"
     ]
    },
    {
     "name": "stdout",
     "output_type": "stream",
     "text": [
      "ID GV0805_Pos4_282_GFP\n",
      "Loading GV0805/Pos4/\n",
      "Btrack version no.: 0.4.0\n"
     ]
    },
    {
     "name": "stderr",
     "output_type": "stream",
     "text": [
      "[INFO][2021/05/11 01:23:36 AM] Loading objects/obj_type_1 (349354, 5) (331443 filtered: area>=100)\n",
      "[INFO][2021/05/11 01:23:39 AM] Closing HDF file: /home/nathan/data/kraken/h2b/giulia/GV0805/Pos4/Pos4_aligned/HDF/segmented.hdf5\n",
      "[INFO][2021/05/11 01:23:39 AM] Opening HDF file: /home/nathan/data/kraken/h2b/giulia/GV0805/Pos4/Pos4_aligned/HDF/segmented.hdf5...\n",
      "[INFO][2021/05/11 01:23:39 AM] Loading tracks/obj_type_2\n",
      "[INFO][2021/05/11 01:23:39 AM] Loading objects/obj_type_2 (54322, 5) (47931 filtered: area>=100)\n",
      "[INFO][2021/05/11 01:23:40 AM] Closing HDF file: /home/nathan/data/kraken/h2b/giulia/GV0805/Pos4/Pos4_aligned/HDF/segmented.hdf5\n"
     ]
    },
    {
     "name": "stdout",
     "output_type": "stream",
     "text": [
      "Track information loaded and ordered according to cell type (WT IDs >0> Scr IDs)\n",
      "Loaded GV0805/Pos4/\n"
     ]
    },
    {
     "name": "stderr",
     "output_type": "stream",
     "text": [
      "\r",
      " 89%|████████▉ | 342/385 [9:14:58<50:58, 71.14s/it]"
     ]
    },
    {
     "name": "stdout",
     "output_type": "stream",
     "text": [
      "ID GV0805_Pos4_686_GFP\n"
     ]
    },
    {
     "name": "stderr",
     "output_type": "stream",
     "text": [
      "\r",
      " 89%|████████▉ | 343/385 [9:16:15<51:08, 73.06s/it]"
     ]
    },
    {
     "name": "stdout",
     "output_type": "stream",
     "text": [
      "ID GV0805_Pos4_456_GFP\n"
     ]
    },
    {
     "name": "stderr",
     "output_type": "stream",
     "text": [
      " 89%|████████▉ | 344/385 [9:18:53<1:07:15, 98.42s/it][INFO][2021/05/11 01:28:18 AM] Opening HDF file: /home/nathan/data/kraken/h2b/giulia/GV0796/Pos4/Pos4_aligned/HDF/segmented.hdf5...\n",
      "[INFO][2021/05/11 01:28:18 AM] Loading tracks/obj_type_1\n"
     ]
    },
    {
     "name": "stdout",
     "output_type": "stream",
     "text": [
      "ID GV0796_Pos4_542_GFP\n",
      "Loading GV0796/Pos4/\n",
      "Btrack version no.: 0.4.0\n"
     ]
    },
    {
     "name": "stderr",
     "output_type": "stream",
     "text": [
      "[INFO][2021/05/11 01:28:20 AM] Loading objects/obj_type_1 (441082, 5) (424178 filtered: area>=100)\n",
      "[INFO][2021/05/11 01:28:24 AM] Closing HDF file: /home/nathan/data/kraken/h2b/giulia/GV0796/Pos4/Pos4_aligned/HDF/segmented.hdf5\n",
      "[INFO][2021/05/11 01:28:24 AM] Opening HDF file: /home/nathan/data/kraken/h2b/giulia/GV0796/Pos4/Pos4_aligned/HDF/segmented.hdf5...\n",
      "[INFO][2021/05/11 01:28:24 AM] Loading tracks/obj_type_2\n",
      "[INFO][2021/05/11 01:28:25 AM] Loading objects/obj_type_2 (72743, 5) (60501 filtered: area>=100)\n",
      "[INFO][2021/05/11 01:28:25 AM] Closing HDF file: /home/nathan/data/kraken/h2b/giulia/GV0796/Pos4/Pos4_aligned/HDF/segmented.hdf5\n"
     ]
    },
    {
     "name": "stdout",
     "output_type": "stream",
     "text": [
      "Track information loaded and ordered according to cell type (WT IDs >0> Scr IDs)\n",
      "Loaded GV0796/Pos4/\n"
     ]
    },
    {
     "name": "stderr",
     "output_type": "stream",
     "text": [
      "\r",
      " 90%|████████▉ | 345/385 [9:21:27<1:16:49, 115.23s/it]"
     ]
    },
    {
     "name": "stdout",
     "output_type": "stream",
     "text": [
      "ID GV0796_Pos4_1334_GFP\n"
     ]
    },
    {
     "name": "stderr",
     "output_type": "stream",
     "text": [
      "\r",
      " 90%|████████▉ | 346/385 [9:23:04<1:11:18, 109.72s/it]"
     ]
    },
    {
     "name": "stdout",
     "output_type": "stream",
     "text": [
      "ID GV0796_Pos4_1586_GFP\n"
     ]
    },
    {
     "name": "stderr",
     "output_type": "stream",
     "text": [
      "\r",
      " 90%|█████████ | 347/385 [9:24:44<1:07:42, 106.92s/it]"
     ]
    },
    {
     "name": "stdout",
     "output_type": "stream",
     "text": [
      "ID GV0796_Pos4_1748_GFP\n"
     ]
    },
    {
     "name": "stderr",
     "output_type": "stream",
     "text": [
      "\r",
      " 90%|█████████ | 348/385 [9:27:02<1:11:39, 116.19s/it]"
     ]
    },
    {
     "name": "stdout",
     "output_type": "stream",
     "text": [
      "ID GV0796_Pos4_2589_GFP\n"
     ]
    },
    {
     "name": "stderr",
     "output_type": "stream",
     "text": [
      "\r",
      " 91%|█████████ | 349/385 [9:28:10<1:01:00, 101.69s/it]"
     ]
    },
    {
     "name": "stdout",
     "output_type": "stream",
     "text": [
      "ID GV0796_Pos4_723_GFP\n"
     ]
    },
    {
     "name": "stderr",
     "output_type": "stream",
     "text": [
      "\r",
      " 91%|█████████ | 350/385 [9:31:16<1:14:04, 127.00s/it]"
     ]
    },
    {
     "name": "stdout",
     "output_type": "stream",
     "text": [
      "ID GV0796_Pos4_2259_GFP\n"
     ]
    },
    {
     "name": "stderr",
     "output_type": "stream",
     "text": [
      " 91%|█████████ | 351/385 [9:32:51<1:06:32, 117.44s/it][INFO][2021/05/11 01:42:16 AM] Opening HDF file: /home/nathan/data/kraken/h2b/giulia/GV0794/Pos5/Pos5_aligned/HDF/segmented.hdf5...\n",
      "[INFO][2021/05/11 01:42:16 AM] Loading tracks/obj_type_1\n",
      "[INFO][2021/05/11 01:42:16 AM] Loading objects/obj_type_1 (31315, 5) (20377 filtered: area>=100)\n"
     ]
    },
    {
     "name": "stdout",
     "output_type": "stream",
     "text": [
      "ID GV0794_Pos5_1_GFP\n",
      "Loading GV0794/Pos5/\n",
      "Btrack version no.: 0.4.0\n"
     ]
    },
    {
     "name": "stderr",
     "output_type": "stream",
     "text": [
      "[INFO][2021/05/11 01:42:16 AM] Closing HDF file: /home/nathan/data/kraken/h2b/giulia/GV0794/Pos5/Pos5_aligned/HDF/segmented.hdf5\n",
      "[INFO][2021/05/11 01:42:16 AM] Opening HDF file: /home/nathan/data/kraken/h2b/giulia/GV0794/Pos5/Pos5_aligned/HDF/segmented.hdf5...\n",
      "[INFO][2021/05/11 01:42:16 AM] Loading tracks/obj_type_2\n",
      "[INFO][2021/05/11 01:42:17 AM] Loading objects/obj_type_2 (61992, 5) (46754 filtered: area>=100)\n",
      "[INFO][2021/05/11 01:42:17 AM] Closing HDF file: /home/nathan/data/kraken/h2b/giulia/GV0794/Pos5/Pos5_aligned/HDF/segmented.hdf5\n"
     ]
    },
    {
     "name": "stdout",
     "output_type": "stream",
     "text": [
      "Track information loaded and ordered according to cell type (WT IDs >0> Scr IDs)\n",
      "Loaded GV0794/Pos5/\n"
     ]
    },
    {
     "name": "stderr",
     "output_type": "stream",
     "text": [
      " 91%|█████████▏| 352/385 [9:32:55<45:45, 83.19s/it]   [INFO][2021/05/11 01:42:19 AM] Opening HDF file: /home/nathan/data/kraken/h2b/giulia/GV0817/Pos23/Pos23_aligned/HDF/segmented.hdf5...\n",
      "[INFO][2021/05/11 01:42:19 AM] Loading tracks/obj_type_1\n"
     ]
    },
    {
     "name": "stdout",
     "output_type": "stream",
     "text": [
      "ID GV0817_Pos23_22_GFP\n",
      "Loading GV0817/Pos23/\n",
      "Btrack version no.: 0.4.0\n"
     ]
    },
    {
     "name": "stderr",
     "output_type": "stream",
     "text": [
      "[INFO][2021/05/11 01:42:22 AM] Loading objects/obj_type_1 (450270, 5) (428734 filtered: area>=100)\n",
      "[INFO][2021/05/11 01:42:26 AM] Closing HDF file: /home/nathan/data/kraken/h2b/giulia/GV0817/Pos23/Pos23_aligned/HDF/segmented.hdf5\n",
      "[INFO][2021/05/11 01:42:26 AM] Opening HDF file: /home/nathan/data/kraken/h2b/giulia/GV0817/Pos23/Pos23_aligned/HDF/segmented.hdf5...\n",
      "[INFO][2021/05/11 01:42:26 AM] Loading tracks/obj_type_2\n",
      "[INFO][2021/05/11 01:42:26 AM] Loading objects/obj_type_2 (96198, 5) (80996 filtered: area>=100)\n",
      "[INFO][2021/05/11 01:42:27 AM] Closing HDF file: /home/nathan/data/kraken/h2b/giulia/GV0817/Pos23/Pos23_aligned/HDF/segmented.hdf5\n"
     ]
    },
    {
     "name": "stdout",
     "output_type": "stream",
     "text": [
      "Track information loaded and ordered according to cell type (WT IDs >0> Scr IDs)\n",
      "Loaded GV0817/Pos23/\n"
     ]
    },
    {
     "name": "stderr",
     "output_type": "stream",
     "text": [
      "\r",
      " 92%|█████████▏| 353/385 [9:33:58<41:14, 77.33s/it]"
     ]
    },
    {
     "name": "stdout",
     "output_type": "stream",
     "text": [
      "ID GV0817_Pos23_389_GFP\n"
     ]
    },
    {
     "name": "stderr",
     "output_type": "stream",
     "text": [
      "\r",
      " 92%|█████████▏| 354/385 [9:36:32<51:50, 100.34s/it]"
     ]
    },
    {
     "name": "stdout",
     "output_type": "stream",
     "text": [
      "ID GV0817_Pos23_967_GFP\n"
     ]
    },
    {
     "name": "stderr",
     "output_type": "stream",
     "text": [
      "\r",
      " 92%|█████████▏| 355/385 [9:37:39<45:07, 90.25s/it] "
     ]
    },
    {
     "name": "stdout",
     "output_type": "stream",
     "text": [
      "ID GV0817_Pos23_216_GFP\n"
     ]
    },
    {
     "name": "stderr",
     "output_type": "stream",
     "text": [
      "\r",
      " 92%|█████████▏| 356/385 [9:42:08<1:09:27, 143.71s/it]"
     ]
    },
    {
     "name": "stdout",
     "output_type": "stream",
     "text": [
      "ID GV0817_Pos23_1183_GFP\n"
     ]
    },
    {
     "name": "stderr",
     "output_type": "stream",
     "text": [
      "\r",
      " 93%|█████████▎| 357/385 [9:45:09<1:12:18, 154.96s/it]"
     ]
    },
    {
     "name": "stdout",
     "output_type": "stream",
     "text": [
      "ID GV0817_Pos23_13_GFP\n"
     ]
    },
    {
     "name": "stderr",
     "output_type": "stream",
     "text": [
      "\r",
      " 93%|█████████▎| 358/385 [9:50:13<1:29:53, 199.77s/it]"
     ]
    },
    {
     "name": "stdout",
     "output_type": "stream",
     "text": [
      "ID GV0817_Pos23_3375_GFP\n"
     ]
    },
    {
     "name": "stderr",
     "output_type": "stream",
     "text": [
      "\r",
      " 93%|█████████▎| 359/385 [9:50:52<1:05:38, 151.48s/it]"
     ]
    },
    {
     "name": "stdout",
     "output_type": "stream",
     "text": [
      "ID GV0817_Pos23_2410_GFP\n"
     ]
    },
    {
     "name": "stderr",
     "output_type": "stream",
     "text": [
      "\r",
      " 94%|█████████▎| 360/385 [9:53:25<1:03:21, 152.06s/it]"
     ]
    },
    {
     "name": "stdout",
     "output_type": "stream",
     "text": [
      "ID GV0817_Pos23_4109_GFP\n"
     ]
    },
    {
     "name": "stderr",
     "output_type": "stream",
     "text": [
      "\r",
      " 94%|█████████▍| 361/385 [9:54:21<49:17, 123.25s/it]  "
     ]
    },
    {
     "name": "stdout",
     "output_type": "stream",
     "text": [
      "ID GV0817_Pos23_2771_GFP\n"
     ]
    },
    {
     "name": "stderr",
     "output_type": "stream",
     "text": [
      "\r",
      " 94%|█████████▍| 362/385 [9:56:24<47:08, 122.96s/it]"
     ]
    },
    {
     "name": "stdout",
     "output_type": "stream",
     "text": [
      "ID GV0817_Pos23_3290_GFP\n"
     ]
    },
    {
     "name": "stderr",
     "output_type": "stream",
     "text": [
      " 94%|█████████▍| 363/385 [9:58:28<45:15, 123.41s/it][INFO][2021/05/11 02:07:53 AM] Opening HDF file: /home/nathan/data/kraken/h2b/giulia/GV0796/Pos8/Pos8_aligned/HDF/segmented.hdf5...\n",
      "[INFO][2021/05/11 02:07:53 AM] Loading tracks/obj_type_1\n"
     ]
    },
    {
     "name": "stdout",
     "output_type": "stream",
     "text": [
      "ID GV0796_Pos8_41_GFP\n",
      "Loading GV0796/Pos8/\n",
      "Btrack version no.: 0.4.0\n"
     ]
    },
    {
     "name": "stderr",
     "output_type": "stream",
     "text": [
      "[INFO][2021/05/11 02:07:55 AM] Loading objects/obj_type_1 (459180, 5) (445430 filtered: area>=100)\n",
      "[INFO][2021/05/11 02:07:59 AM] Closing HDF file: /home/nathan/data/kraken/h2b/giulia/GV0796/Pos8/Pos8_aligned/HDF/segmented.hdf5\n",
      "[INFO][2021/05/11 02:07:59 AM] Opening HDF file: /home/nathan/data/kraken/h2b/giulia/GV0796/Pos8/Pos8_aligned/HDF/segmented.hdf5...\n",
      "[INFO][2021/05/11 02:07:59 AM] Loading tracks/obj_type_2\n",
      "[INFO][2021/05/11 02:07:59 AM] Loading objects/obj_type_2 (10613, 5) (8656 filtered: area>=100)\n",
      "[INFO][2021/05/11 02:08:00 AM] Closing HDF file: /home/nathan/data/kraken/h2b/giulia/GV0796/Pos8/Pos8_aligned/HDF/segmented.hdf5\n"
     ]
    },
    {
     "name": "stdout",
     "output_type": "stream",
     "text": [
      "Track information loaded and ordered according to cell type (WT IDs >0> Scr IDs)\n",
      "Loaded GV0796/Pos8/\n"
     ]
    },
    {
     "name": "stderr",
     "output_type": "stream",
     "text": [
      "\r",
      " 95%|█████████▍| 364/385 [9:59:30<36:43, 104.92s/it]"
     ]
    },
    {
     "name": "stdout",
     "output_type": "stream",
     "text": [
      "ID GV0796_Pos8_423_GFP\n"
     ]
    },
    {
     "name": "stderr",
     "output_type": "stream",
     "text": [
      " 95%|█████████▍| 365/385 [10:01:47<38:09, 114.49s/it][INFO][2021/05/11 02:11:11 AM] Opening HDF file: /home/nathan/data/kraken/h2b/giulia/GV0797/Pos23/Pos23_aligned/HDF/segmented.hdf5...\n",
      "[INFO][2021/05/11 02:11:11 AM] Loading tracks/obj_type_1\n",
      "[INFO][2021/05/11 02:11:12 AM] Loading objects/obj_type_1 (23980, 5) (18959 filtered: area>=100)\n"
     ]
    },
    {
     "name": "stdout",
     "output_type": "stream",
     "text": [
      "ID GV0797_Pos23_88_GFP\n",
      "Loading GV0797/Pos23/\n",
      "Btrack version no.: 0.4.0\n"
     ]
    },
    {
     "name": "stderr",
     "output_type": "stream",
     "text": [
      "[INFO][2021/05/11 02:11:12 AM] Closing HDF file: /home/nathan/data/kraken/h2b/giulia/GV0797/Pos23/Pos23_aligned/HDF/segmented.hdf5\n",
      "[INFO][2021/05/11 02:11:12 AM] Opening HDF file: /home/nathan/data/kraken/h2b/giulia/GV0797/Pos23/Pos23_aligned/HDF/segmented.hdf5...\n",
      "[INFO][2021/05/11 02:11:12 AM] Loading tracks/obj_type_2\n",
      "[INFO][2021/05/11 02:11:12 AM] Loading objects/obj_type_2 (34897, 5) (24894 filtered: area>=100)\n",
      "[INFO][2021/05/11 02:11:12 AM] Closing HDF file: /home/nathan/data/kraken/h2b/giulia/GV0797/Pos23/Pos23_aligned/HDF/segmented.hdf5\n"
     ]
    },
    {
     "name": "stdout",
     "output_type": "stream",
     "text": [
      "Track information loaded and ordered according to cell type (WT IDs >0> Scr IDs)\n",
      "Loaded GV0797/Pos23/\n"
     ]
    },
    {
     "name": "stderr",
     "output_type": "stream",
     "text": [
      "\r",
      " 95%|█████████▌| 366/385 [10:01:51<25:46, 81.39s/it] "
     ]
    },
    {
     "name": "stdout",
     "output_type": "stream",
     "text": [
      "ID GV0797_Pos23_248_GFP\n"
     ]
    },
    {
     "name": "stderr",
     "output_type": "stream",
     "text": [
      " 95%|█████████▌| 367/385 [10:01:55<17:27, 58.18s/it][INFO][2021/05/11 02:11:20 AM] Opening HDF file: /home/nathan/data/kraken/h2b/giulia/GV0794/Pos3/Pos3_aligned/HDF/segmented.hdf5...\n",
      "[INFO][2021/05/11 02:11:20 AM] Loading tracks/obj_type_1\n"
     ]
    },
    {
     "name": "stdout",
     "output_type": "stream",
     "text": [
      "ID GV0794_Pos3_311_GFP\n",
      "Loading GV0794/Pos3/\n",
      "Btrack version no.: 0.4.0\n"
     ]
    },
    {
     "name": "stderr",
     "output_type": "stream",
     "text": [
      "[INFO][2021/05/11 02:11:20 AM] Loading objects/obj_type_1 (57736, 5) (54429 filtered: area>=100)\n",
      "[INFO][2021/05/11 02:11:20 AM] Closing HDF file: /home/nathan/data/kraken/h2b/giulia/GV0794/Pos3/Pos3_aligned/HDF/segmented.hdf5\n",
      "[INFO][2021/05/11 02:11:20 AM] Opening HDF file: /home/nathan/data/kraken/h2b/giulia/GV0794/Pos3/Pos3_aligned/HDF/segmented.hdf5...\n",
      "[INFO][2021/05/11 02:11:20 AM] Loading tracks/obj_type_2\n",
      "[INFO][2021/05/11 02:11:20 AM] Loading objects/obj_type_2 (5835, 5) (5227 filtered: area>=100)\n",
      "[INFO][2021/05/11 02:11:20 AM] Closing HDF file: /home/nathan/data/kraken/h2b/giulia/GV0794/Pos3/Pos3_aligned/HDF/segmented.hdf5\n"
     ]
    },
    {
     "name": "stdout",
     "output_type": "stream",
     "text": [
      "Track information loaded and ordered according to cell type (WT IDs >0> Scr IDs)\n",
      "Loaded GV0794/Pos3/\n"
     ]
    },
    {
     "name": "stderr",
     "output_type": "stream",
     "text": [
      "\r",
      " 96%|█████████▌| 368/385 [10:02:00<11:58, 42.29s/it]"
     ]
    },
    {
     "name": "stdout",
     "output_type": "stream",
     "text": [
      "ID GV0794_Pos3_142_GFP\n"
     ]
    },
    {
     "name": "stderr",
     "output_type": "stream",
     "text": [
      " 96%|█████████▌| 369/385 [10:02:19<09:22, 35.16s/it][INFO][2021/05/11 02:11:43 AM] Opening HDF file: /home/nathan/data/kraken/h2b/giulia/GV0802/Pos5/Pos5_aligned/HDF/segmented.hdf5...\n",
      "[INFO][2021/05/11 02:11:43 AM] Loading tracks/obj_type_1\n"
     ]
    },
    {
     "name": "stdout",
     "output_type": "stream",
     "text": [
      "ID GV0802_Pos5_184_GFP\n",
      "Loading GV0802/Pos5/\n",
      "Btrack version no.: 0.4.0\n"
     ]
    },
    {
     "name": "stderr",
     "output_type": "stream",
     "text": [
      "[INFO][2021/05/11 02:11:44 AM] Loading objects/obj_type_1 (49875, 5) (41993 filtered: area>=100)\n",
      "[INFO][2021/05/11 02:11:44 AM] Closing HDF file: /home/nathan/data/kraken/h2b/giulia/GV0802/Pos5/Pos5_aligned/HDF/segmented.hdf5\n",
      "[INFO][2021/05/11 02:11:44 AM] Opening HDF file: /home/nathan/data/kraken/h2b/giulia/GV0802/Pos5/Pos5_aligned/HDF/segmented.hdf5...\n",
      "[INFO][2021/05/11 02:11:44 AM] Loading tracks/obj_type_2\n",
      "[INFO][2021/05/11 02:11:44 AM] Loading objects/obj_type_2 (87129, 5) (71072 filtered: area>=100)\n",
      "[INFO][2021/05/11 02:11:45 AM] Closing HDF file: /home/nathan/data/kraken/h2b/giulia/GV0802/Pos5/Pos5_aligned/HDF/segmented.hdf5\n"
     ]
    },
    {
     "name": "stdout",
     "output_type": "stream",
     "text": [
      "Track information loaded and ordered according to cell type (WT IDs >0> Scr IDs)\n",
      "Loaded GV0802/Pos5/\n"
     ]
    },
    {
     "name": "stderr",
     "output_type": "stream",
     "text": [
      "\r",
      " 96%|█████████▌| 370/385 [10:02:26<06:40, 26.71s/it]"
     ]
    },
    {
     "name": "stdout",
     "output_type": "stream",
     "text": [
      "ID GV0802_Pos5_185_GFP\n"
     ]
    },
    {
     "name": "stderr",
     "output_type": "stream",
     "text": [
      "\r",
      " 96%|█████████▋| 371/385 [10:02:33<04:53, 20.94s/it]"
     ]
    },
    {
     "name": "stdout",
     "output_type": "stream",
     "text": [
      "ID GV0802_Pos5_372_GFP\n"
     ]
    },
    {
     "name": "stderr",
     "output_type": "stream",
     "text": [
      "\r",
      " 97%|█████████▋| 372/385 [10:02:44<03:55, 18.09s/it]"
     ]
    },
    {
     "name": "stdout",
     "output_type": "stream",
     "text": [
      "ID GV0802_Pos5_141_GFP\n"
     ]
    },
    {
     "name": "stderr",
     "output_type": "stream",
     "text": [
      " 97%|█████████▋| 373/385 [10:03:00<03:29, 17.43s/it][INFO][2021/05/11 02:12:25 AM] Opening HDF file: /home/nathan/data/kraken/h2b/giulia/GV0801/Pos4/Pos4_aligned/HDF/segmented.hdf5...\n",
      "[INFO][2021/05/11 02:12:25 AM] Loading tracks/obj_type_1\n"
     ]
    },
    {
     "name": "stdout",
     "output_type": "stream",
     "text": [
      "ID GV0801_Pos4_298_GFP\n",
      "Loading GV0801/Pos4/\n",
      "Btrack version no.: 0.4.0\n"
     ]
    },
    {
     "name": "stderr",
     "output_type": "stream",
     "text": [
      "[INFO][2021/05/11 02:12:27 AM] Loading objects/obj_type_1 (315086, 5) (299584 filtered: area>=100)\n",
      "[INFO][2021/05/11 02:12:30 AM] Closing HDF file: /home/nathan/data/kraken/h2b/giulia/GV0801/Pos4/Pos4_aligned/HDF/segmented.hdf5\n",
      "[INFO][2021/05/11 02:12:30 AM] Opening HDF file: /home/nathan/data/kraken/h2b/giulia/GV0801/Pos4/Pos4_aligned/HDF/segmented.hdf5...\n",
      "[INFO][2021/05/11 02:12:30 AM] Loading tracks/obj_type_2\n",
      "[INFO][2021/05/11 02:12:30 AM] Loading objects/obj_type_2 (60246, 5) (49441 filtered: area>=100)\n",
      "[INFO][2021/05/11 02:12:30 AM] Closing HDF file: /home/nathan/data/kraken/h2b/giulia/GV0801/Pos4/Pos4_aligned/HDF/segmented.hdf5\n"
     ]
    },
    {
     "name": "stdout",
     "output_type": "stream",
     "text": [
      "Track information loaded and ordered according to cell type (WT IDs >0> Scr IDs)\n",
      "Loaded GV0801/Pos4/\n"
     ]
    },
    {
     "name": "stderr",
     "output_type": "stream",
     "text": [
      "\r",
      " 97%|█████████▋| 374/385 [10:04:28<07:02, 38.37s/it]"
     ]
    },
    {
     "name": "stdout",
     "output_type": "stream",
     "text": [
      "ID GV0801_Pos4_2650_GFP\n"
     ]
    },
    {
     "name": "stderr",
     "output_type": "stream",
     "text": [
      "\r",
      " 97%|█████████▋| 375/385 [10:04:56<05:53, 35.35s/it]"
     ]
    },
    {
     "name": "stdout",
     "output_type": "stream",
     "text": [
      "ID GV0801_Pos4_3147_GFP\n"
     ]
    },
    {
     "name": "stderr",
     "output_type": "stream",
     "text": [
      "\r",
      " 98%|█████████▊| 376/385 [10:05:22<04:54, 32.72s/it]"
     ]
    },
    {
     "name": "stdout",
     "output_type": "stream",
     "text": [
      "ID GV0801_Pos4_1396_GFP\n"
     ]
    },
    {
     "name": "stderr",
     "output_type": "stream",
     "text": [
      "\r",
      " 98%|█████████▊| 377/385 [10:07:11<07:24, 55.62s/it]"
     ]
    },
    {
     "name": "stdout",
     "output_type": "stream",
     "text": [
      "ID GV0801_Pos4_3582_GFP\n"
     ]
    },
    {
     "name": "stderr",
     "output_type": "stream",
     "text": [
      " 98%|█████████▊| 378/385 [10:07:31<05:13, 44.77s/it][INFO][2021/05/11 02:16:56 AM] Opening HDF file: /home/nathan/data/kraken/h2b/giulia/GV0794/Pos4/Pos4_aligned/HDF/segmented.hdf5...\n",
      "[INFO][2021/05/11 02:16:56 AM] Loading tracks/obj_type_1\n"
     ]
    },
    {
     "name": "stdout",
     "output_type": "stream",
     "text": [
      "ID GV0794_Pos4_393_GFP\n",
      "Loading GV0794/Pos4/\n",
      "Btrack version no.: 0.4.0\n"
     ]
    },
    {
     "name": "stderr",
     "output_type": "stream",
     "text": [
      "[INFO][2021/05/11 02:16:56 AM] Loading objects/obj_type_1 (69360, 5) (64986 filtered: area>=100)\n",
      "[INFO][2021/05/11 02:16:57 AM] Closing HDF file: /home/nathan/data/kraken/h2b/giulia/GV0794/Pos4/Pos4_aligned/HDF/segmented.hdf5\n",
      "[INFO][2021/05/11 02:16:57 AM] Opening HDF file: /home/nathan/data/kraken/h2b/giulia/GV0794/Pos4/Pos4_aligned/HDF/segmented.hdf5...\n",
      "[INFO][2021/05/11 02:16:57 AM] Loading tracks/obj_type_2\n",
      "[INFO][2021/05/11 02:16:57 AM] Loading objects/obj_type_2 (13865, 5) (10538 filtered: area>=100)\n",
      "[INFO][2021/05/11 02:16:57 AM] Closing HDF file: /home/nathan/data/kraken/h2b/giulia/GV0794/Pos4/Pos4_aligned/HDF/segmented.hdf5\n"
     ]
    },
    {
     "name": "stdout",
     "output_type": "stream",
     "text": [
      "Track information loaded and ordered according to cell type (WT IDs >0> Scr IDs)\n",
      "Loaded GV0794/Pos4/\n"
     ]
    },
    {
     "name": "stderr",
     "output_type": "stream",
     "text": [
      " 98%|█████████▊| 379/385 [10:07:41<03:26, 34.48s/it][INFO][2021/05/11 02:17:06 AM] Opening HDF file: /home/nathan/data/kraken/h2b/giulia/GV0820/Pos1/Pos1_aligned/HDF/segmented.hdf5...\n",
      "[INFO][2021/05/11 02:17:06 AM] Loading tracks/obj_type_1\n"
     ]
    },
    {
     "name": "stdout",
     "output_type": "stream",
     "text": [
      "ID GV0820_Pos1_130_GFP\n",
      "Loading GV0820/Pos1/\n",
      "Btrack version no.: 0.4.0\n"
     ]
    },
    {
     "name": "stderr",
     "output_type": "stream",
     "text": [
      "[INFO][2021/05/11 02:17:07 AM] Loading objects/obj_type_1 (205829, 5) (191939 filtered: area>=100)\n",
      "[INFO][2021/05/11 02:17:09 AM] Closing HDF file: /home/nathan/data/kraken/h2b/giulia/GV0820/Pos1/Pos1_aligned/HDF/segmented.hdf5\n",
      "[INFO][2021/05/11 02:17:09 AM] Opening HDF file: /home/nathan/data/kraken/h2b/giulia/GV0820/Pos1/Pos1_aligned/HDF/segmented.hdf5...\n",
      "[INFO][2021/05/11 02:17:09 AM] Loading tracks/obj_type_2\n",
      "[INFO][2021/05/11 02:17:10 AM] Loading objects/obj_type_2 (93902, 5) (77327 filtered: area>=100)\n",
      "[INFO][2021/05/11 02:17:10 AM] Closing HDF file: /home/nathan/data/kraken/h2b/giulia/GV0820/Pos1/Pos1_aligned/HDF/segmented.hdf5\n"
     ]
    },
    {
     "name": "stdout",
     "output_type": "stream",
     "text": [
      "Track information loaded and ordered according to cell type (WT IDs >0> Scr IDs)\n",
      "Loaded GV0820/Pos1/\n"
     ]
    },
    {
     "name": "stderr",
     "output_type": "stream",
     "text": [
      "\r",
      " 99%|█████████▊| 380/385 [10:09:04<04:04, 48.92s/it]"
     ]
    },
    {
     "name": "stdout",
     "output_type": "stream",
     "text": [
      "ID GV0820_Pos1_412_GFP\n"
     ]
    },
    {
     "name": "stderr",
     "output_type": "stream",
     "text": [
      "\r",
      " 99%|█████████▉| 381/385 [10:10:14<03:40, 55.23s/it]"
     ]
    },
    {
     "name": "stdout",
     "output_type": "stream",
     "text": [
      "ID GV0820_Pos1_1427_GFP\n"
     ]
    },
    {
     "name": "stderr",
     "output_type": "stream",
     "text": [
      "\r",
      " 99%|█████████▉| 382/385 [10:10:36<02:15, 45.27s/it]"
     ]
    },
    {
     "name": "stdout",
     "output_type": "stream",
     "text": [
      "ID GV0820_Pos1_503_GFP\n"
     ]
    },
    {
     "name": "stderr",
     "output_type": "stream",
     "text": [
      "\r",
      " 99%|█████████▉| 383/385 [10:12:12<02:01, 60.53s/it]"
     ]
    },
    {
     "name": "stdout",
     "output_type": "stream",
     "text": [
      "ID GV0820_Pos1_368_GFP\n"
     ]
    },
    {
     "name": "stderr",
     "output_type": "stream",
     "text": [
      "\r",
      "100%|█████████▉| 384/385 [10:14:24<01:21, 81.88s/it]"
     ]
    },
    {
     "name": "stdout",
     "output_type": "stream",
     "text": [
      "ID GV0820_Pos1_1818_GFP\n"
     ]
    },
    {
     "name": "stderr",
     "output_type": "stream",
     "text": [
      "100%|██████████| 385/385 [10:15:06<00:00, 95.86s/it]\n"
     ]
    }
   ],
   "source": [
    "N_cells, error_log, success_log = calculate.iterative_heatmap_generator(\n",
    "    'WT', ## 'Scr',\n",
    "    'DIVIDE', \n",
    "    apop_dict, \n",
    "    hdf5_file_list, \n",
    "    radius, \n",
    "    t_range, \n",
    "    num_bins, \n",
    "    output_path)"
   ]
  },
  {
   "cell_type": "code",
   "execution_count": 13,
   "metadata": {},
   "outputs": [
    {
     "data": {
      "text/plain": [
       "385"
      ]
     },
     "execution_count": 13,
     "metadata": {},
     "output_type": "execute_result"
    }
   ],
   "source": [
    "N_cells ## scope of analysis (number of apoptoses scanned around)"
   ]
  },
  {
   "cell_type": "code",
   "execution_count": 14,
   "metadata": {},
   "outputs": [
    {
     "data": {
      "text/plain": [
       "0"
      ]
     },
     "execution_count": 14,
     "metadata": {},
     "output_type": "execute_result"
    }
   ],
   "source": [
    "len(error_log)"
   ]
  },
  {
   "cell_type": "code",
   "execution_count": 15,
   "metadata": {
    "scrolled": true
   },
   "outputs": [
    {
     "data": {
      "text/plain": [
       "([],\n",
       " ['/home/nathan/data/kraken/h2b/giulia/radial_analysis_output/follow/individual_spatiotemporal_heatmaps/400.400.10/wt_apop_wt_div/GV0819_Pos0_677_GFP_N_cells / /home/nathan/data/kraken/h2b/giulia/radial_analysis_output/follow/individual_spatiotemporal_heatmaps/400.400.10/wt_apop_wt_div/GV0819_Pos0_677_GFP_N_events saved out successfully',\n",
       "  '/home/nathan/data/kraken/h2b/giulia/radial_analysis_output/follow/individual_spatiotemporal_heatmaps/400.400.10/wt_apop_wt_div/GV0819_Pos0_913_GFP_N_cells / /home/nathan/data/kraken/h2b/giulia/radial_analysis_output/follow/individual_spatiotemporal_heatmaps/400.400.10/wt_apop_wt_div/GV0819_Pos0_913_GFP_N_events saved out successfully',\n",
       "  '/home/nathan/data/kraken/h2b/giulia/radial_analysis_output/follow/individual_spatiotemporal_heatmaps/400.400.10/wt_apop_wt_div/GV0819_Pos0_898_GFP_N_cells / /home/nathan/data/kraken/h2b/giulia/radial_analysis_output/follow/individual_spatiotemporal_heatmaps/400.400.10/wt_apop_wt_div/GV0819_Pos0_898_GFP_N_events saved out successfully',\n",
       "  '/home/nathan/data/kraken/h2b/giulia/radial_analysis_output/follow/individual_spatiotemporal_heatmaps/400.400.10/wt_apop_wt_div/GV0819_Pos0_22_GFP_N_cells / /home/nathan/data/kraken/h2b/giulia/radial_analysis_output/follow/individual_spatiotemporal_heatmaps/400.400.10/wt_apop_wt_div/GV0819_Pos0_22_GFP_N_events saved out successfully',\n",
       "  '/home/nathan/data/kraken/h2b/giulia/radial_analysis_output/follow/individual_spatiotemporal_heatmaps/400.400.10/wt_apop_wt_div/GV0819_Pos0_1_GFP_N_cells / /home/nathan/data/kraken/h2b/giulia/radial_analysis_output/follow/individual_spatiotemporal_heatmaps/400.400.10/wt_apop_wt_div/GV0819_Pos0_1_GFP_N_events saved out successfully',\n",
       "  '/home/nathan/data/kraken/h2b/giulia/radial_analysis_output/follow/individual_spatiotemporal_heatmaps/400.400.10/wt_apop_wt_div/GV0819_Pos0_1831_GFP_N_cells / /home/nathan/data/kraken/h2b/giulia/radial_analysis_output/follow/individual_spatiotemporal_heatmaps/400.400.10/wt_apop_wt_div/GV0819_Pos0_1831_GFP_N_events saved out successfully',\n",
       "  '/home/nathan/data/kraken/h2b/giulia/radial_analysis_output/follow/individual_spatiotemporal_heatmaps/400.400.10/wt_apop_wt_div/GV0819_Pos0_897_GFP_N_cells / /home/nathan/data/kraken/h2b/giulia/radial_analysis_output/follow/individual_spatiotemporal_heatmaps/400.400.10/wt_apop_wt_div/GV0819_Pos0_897_GFP_N_events saved out successfully',\n",
       "  '/home/nathan/data/kraken/h2b/giulia/radial_analysis_output/follow/individual_spatiotemporal_heatmaps/400.400.10/wt_apop_wt_div/GV0819_Pos0_847_GFP_N_cells / /home/nathan/data/kraken/h2b/giulia/radial_analysis_output/follow/individual_spatiotemporal_heatmaps/400.400.10/wt_apop_wt_div/GV0819_Pos0_847_GFP_N_events saved out successfully',\n",
       "  '/home/nathan/data/kraken/h2b/giulia/radial_analysis_output/follow/individual_spatiotemporal_heatmaps/400.400.10/wt_apop_wt_div/GV0819_Pos0_846_GFP_N_cells / /home/nathan/data/kraken/h2b/giulia/radial_analysis_output/follow/individual_spatiotemporal_heatmaps/400.400.10/wt_apop_wt_div/GV0819_Pos0_846_GFP_N_events saved out successfully',\n",
       "  '/home/nathan/data/kraken/h2b/giulia/radial_analysis_output/follow/individual_spatiotemporal_heatmaps/400.400.10/wt_apop_wt_div/GV0819_Pos0_1712_GFP_N_cells / /home/nathan/data/kraken/h2b/giulia/radial_analysis_output/follow/individual_spatiotemporal_heatmaps/400.400.10/wt_apop_wt_div/GV0819_Pos0_1712_GFP_N_events saved out successfully',\n",
       "  '/home/nathan/data/kraken/h2b/giulia/radial_analysis_output/follow/individual_spatiotemporal_heatmaps/400.400.10/wt_apop_wt_div/GV0819_Pos0_2151_GFP_N_cells / /home/nathan/data/kraken/h2b/giulia/radial_analysis_output/follow/individual_spatiotemporal_heatmaps/400.400.10/wt_apop_wt_div/GV0819_Pos0_2151_GFP_N_events saved out successfully',\n",
       "  '/home/nathan/data/kraken/h2b/giulia/radial_analysis_output/follow/individual_spatiotemporal_heatmaps/400.400.10/wt_apop_wt_div/GV0819_Pos0_673_GFP_N_cells / /home/nathan/data/kraken/h2b/giulia/radial_analysis_output/follow/individual_spatiotemporal_heatmaps/400.400.10/wt_apop_wt_div/GV0819_Pos0_673_GFP_N_events saved out successfully',\n",
       "  '/home/nathan/data/kraken/h2b/giulia/radial_analysis_output/follow/individual_spatiotemporal_heatmaps/400.400.10/wt_apop_wt_div/GV0819_Pos0_1319_GFP_N_cells / /home/nathan/data/kraken/h2b/giulia/radial_analysis_output/follow/individual_spatiotemporal_heatmaps/400.400.10/wt_apop_wt_div/GV0819_Pos0_1319_GFP_N_events saved out successfully',\n",
       "  '/home/nathan/data/kraken/h2b/giulia/radial_analysis_output/follow/individual_spatiotemporal_heatmaps/400.400.10/wt_apop_wt_div/GV0819_Pos0_2622_GFP_N_cells / /home/nathan/data/kraken/h2b/giulia/radial_analysis_output/follow/individual_spatiotemporal_heatmaps/400.400.10/wt_apop_wt_div/GV0819_Pos0_2622_GFP_N_events saved out successfully',\n",
       "  '/home/nathan/data/kraken/h2b/giulia/radial_analysis_output/follow/individual_spatiotemporal_heatmaps/400.400.10/wt_apop_wt_div/GV0819_Pos0_1622_GFP_N_cells / /home/nathan/data/kraken/h2b/giulia/radial_analysis_output/follow/individual_spatiotemporal_heatmaps/400.400.10/wt_apop_wt_div/GV0819_Pos0_1622_GFP_N_events saved out successfully',\n",
       "  '/home/nathan/data/kraken/h2b/giulia/radial_analysis_output/follow/individual_spatiotemporal_heatmaps/400.400.10/wt_apop_wt_div/GV0819_Pos0_98_GFP_N_cells / /home/nathan/data/kraken/h2b/giulia/radial_analysis_output/follow/individual_spatiotemporal_heatmaps/400.400.10/wt_apop_wt_div/GV0819_Pos0_98_GFP_N_events saved out successfully',\n",
       "  '/home/nathan/data/kraken/h2b/giulia/radial_analysis_output/follow/individual_spatiotemporal_heatmaps/400.400.10/wt_apop_wt_div/GV0819_Pos0_2345_GFP_N_cells / /home/nathan/data/kraken/h2b/giulia/radial_analysis_output/follow/individual_spatiotemporal_heatmaps/400.400.10/wt_apop_wt_div/GV0819_Pos0_2345_GFP_N_events saved out successfully',\n",
       "  '/home/nathan/data/kraken/h2b/giulia/radial_analysis_output/follow/individual_spatiotemporal_heatmaps/400.400.10/wt_apop_wt_div/GV0819_Pos0_643_GFP_N_cells / /home/nathan/data/kraken/h2b/giulia/radial_analysis_output/follow/individual_spatiotemporal_heatmaps/400.400.10/wt_apop_wt_div/GV0819_Pos0_643_GFP_N_events saved out successfully',\n",
       "  '/home/nathan/data/kraken/h2b/giulia/radial_analysis_output/follow/individual_spatiotemporal_heatmaps/400.400.10/wt_apop_wt_div/GV0819_Pos0_1588_GFP_N_cells / /home/nathan/data/kraken/h2b/giulia/radial_analysis_output/follow/individual_spatiotemporal_heatmaps/400.400.10/wt_apop_wt_div/GV0819_Pos0_1588_GFP_N_events saved out successfully',\n",
       "  '/home/nathan/data/kraken/h2b/giulia/radial_analysis_output/follow/individual_spatiotemporal_heatmaps/400.400.10/wt_apop_wt_div/GV0819_Pos0_1587_GFP_N_cells / /home/nathan/data/kraken/h2b/giulia/radial_analysis_output/follow/individual_spatiotemporal_heatmaps/400.400.10/wt_apop_wt_div/GV0819_Pos0_1587_GFP_N_events saved out successfully',\n",
       "  '/home/nathan/data/kraken/h2b/giulia/radial_analysis_output/follow/individual_spatiotemporal_heatmaps/400.400.10/wt_apop_wt_div/GV0819_Pos0_843_GFP_N_cells / /home/nathan/data/kraken/h2b/giulia/radial_analysis_output/follow/individual_spatiotemporal_heatmaps/400.400.10/wt_apop_wt_div/GV0819_Pos0_843_GFP_N_events saved out successfully',\n",
       "  '/home/nathan/data/kraken/h2b/giulia/radial_analysis_output/follow/individual_spatiotemporal_heatmaps/400.400.10/wt_apop_wt_div/GV0819_Pos0_2269_GFP_N_cells / /home/nathan/data/kraken/h2b/giulia/radial_analysis_output/follow/individual_spatiotemporal_heatmaps/400.400.10/wt_apop_wt_div/GV0819_Pos0_2269_GFP_N_events saved out successfully',\n",
       "  '/home/nathan/data/kraken/h2b/giulia/radial_analysis_output/follow/individual_spatiotemporal_heatmaps/400.400.10/wt_apop_wt_div/GV0819_Pos0_2268_GFP_N_cells / /home/nathan/data/kraken/h2b/giulia/radial_analysis_output/follow/individual_spatiotemporal_heatmaps/400.400.10/wt_apop_wt_div/GV0819_Pos0_2268_GFP_N_events saved out successfully',\n",
       "  '/home/nathan/data/kraken/h2b/giulia/radial_analysis_output/follow/individual_spatiotemporal_heatmaps/400.400.10/wt_apop_wt_div/GV0819_Pos0_1371_GFP_N_cells / /home/nathan/data/kraken/h2b/giulia/radial_analysis_output/follow/individual_spatiotemporal_heatmaps/400.400.10/wt_apop_wt_div/GV0819_Pos0_1371_GFP_N_events saved out successfully',\n",
       "  '/home/nathan/data/kraken/h2b/giulia/radial_analysis_output/follow/individual_spatiotemporal_heatmaps/400.400.10/wt_apop_wt_div/GV0819_Pos0_1370_GFP_N_cells / /home/nathan/data/kraken/h2b/giulia/radial_analysis_output/follow/individual_spatiotemporal_heatmaps/400.400.10/wt_apop_wt_div/GV0819_Pos0_1370_GFP_N_events saved out successfully',\n",
       "  '/home/nathan/data/kraken/h2b/giulia/radial_analysis_output/follow/individual_spatiotemporal_heatmaps/400.400.10/wt_apop_wt_div/GV0819_Pos0_838_GFP_N_cells / /home/nathan/data/kraken/h2b/giulia/radial_analysis_output/follow/individual_spatiotemporal_heatmaps/400.400.10/wt_apop_wt_div/GV0819_Pos0_838_GFP_N_events saved out successfully',\n",
       "  '/home/nathan/data/kraken/h2b/giulia/radial_analysis_output/follow/individual_spatiotemporal_heatmaps/400.400.10/wt_apop_wt_div/GV0819_Pos0_912_GFP_N_cells / /home/nathan/data/kraken/h2b/giulia/radial_analysis_output/follow/individual_spatiotemporal_heatmaps/400.400.10/wt_apop_wt_div/GV0819_Pos0_912_GFP_N_events saved out successfully',\n",
       "  '/home/nathan/data/kraken/h2b/giulia/radial_analysis_output/follow/individual_spatiotemporal_heatmaps/400.400.10/wt_apop_wt_div/GV0819_Pos0_1272_GFP_N_cells / /home/nathan/data/kraken/h2b/giulia/radial_analysis_output/follow/individual_spatiotemporal_heatmaps/400.400.10/wt_apop_wt_div/GV0819_Pos0_1272_GFP_N_events saved out successfully',\n",
       "  '/home/nathan/data/kraken/h2b/giulia/radial_analysis_output/follow/individual_spatiotemporal_heatmaps/400.400.10/wt_apop_wt_div/GV0819_Pos0_144_GFP_N_cells / /home/nathan/data/kraken/h2b/giulia/radial_analysis_output/follow/individual_spatiotemporal_heatmaps/400.400.10/wt_apop_wt_div/GV0819_Pos0_144_GFP_N_events saved out successfully',\n",
       "  '/home/nathan/data/kraken/h2b/giulia/radial_analysis_output/follow/individual_spatiotemporal_heatmaps/400.400.10/wt_apop_wt_div/GV0819_Pos0_1210_GFP_N_cells / /home/nathan/data/kraken/h2b/giulia/radial_analysis_output/follow/individual_spatiotemporal_heatmaps/400.400.10/wt_apop_wt_div/GV0819_Pos0_1210_GFP_N_events saved out successfully',\n",
       "  '/home/nathan/data/kraken/h2b/giulia/radial_analysis_output/follow/individual_spatiotemporal_heatmaps/400.400.10/wt_apop_wt_div/GV0819_Pos0_1211_GFP_N_cells / /home/nathan/data/kraken/h2b/giulia/radial_analysis_output/follow/individual_spatiotemporal_heatmaps/400.400.10/wt_apop_wt_div/GV0819_Pos0_1211_GFP_N_events saved out successfully',\n",
       "  '/home/nathan/data/kraken/h2b/giulia/radial_analysis_output/follow/individual_spatiotemporal_heatmaps/400.400.10/wt_apop_wt_div/GV0819_Pos0_3087_GFP_N_cells / /home/nathan/data/kraken/h2b/giulia/radial_analysis_output/follow/individual_spatiotemporal_heatmaps/400.400.10/wt_apop_wt_div/GV0819_Pos0_3087_GFP_N_events saved out successfully',\n",
       "  '/home/nathan/data/kraken/h2b/giulia/radial_analysis_output/follow/individual_spatiotemporal_heatmaps/400.400.10/wt_apop_wt_div/GV0819_Pos0_3037_GFP_N_cells / /home/nathan/data/kraken/h2b/giulia/radial_analysis_output/follow/individual_spatiotemporal_heatmaps/400.400.10/wt_apop_wt_div/GV0819_Pos0_3037_GFP_N_events saved out successfully',\n",
       "  '/home/nathan/data/kraken/h2b/giulia/radial_analysis_output/follow/individual_spatiotemporal_heatmaps/400.400.10/wt_apop_wt_div/GV0819_Pos0_1740_GFP_N_cells / /home/nathan/data/kraken/h2b/giulia/radial_analysis_output/follow/individual_spatiotemporal_heatmaps/400.400.10/wt_apop_wt_div/GV0819_Pos0_1740_GFP_N_events saved out successfully',\n",
       "  '/home/nathan/data/kraken/h2b/giulia/radial_analysis_output/follow/individual_spatiotemporal_heatmaps/400.400.10/wt_apop_wt_div/GV0819_Pos0_1742_GFP_N_cells / /home/nathan/data/kraken/h2b/giulia/radial_analysis_output/follow/individual_spatiotemporal_heatmaps/400.400.10/wt_apop_wt_div/GV0819_Pos0_1742_GFP_N_events saved out successfully',\n",
       "  '/home/nathan/data/kraken/h2b/giulia/radial_analysis_output/follow/individual_spatiotemporal_heatmaps/400.400.10/wt_apop_wt_div/GV0819_Pos0_829_GFP_N_cells / /home/nathan/data/kraken/h2b/giulia/radial_analysis_output/follow/individual_spatiotemporal_heatmaps/400.400.10/wt_apop_wt_div/GV0819_Pos0_829_GFP_N_events saved out successfully',\n",
       "  '/home/nathan/data/kraken/h2b/giulia/radial_analysis_output/follow/individual_spatiotemporal_heatmaps/400.400.10/wt_apop_wt_div/GV0819_Pos0_1074_GFP_N_cells / /home/nathan/data/kraken/h2b/giulia/radial_analysis_output/follow/individual_spatiotemporal_heatmaps/400.400.10/wt_apop_wt_div/GV0819_Pos0_1074_GFP_N_events saved out successfully',\n",
       "  '/home/nathan/data/kraken/h2b/giulia/radial_analysis_output/follow/individual_spatiotemporal_heatmaps/400.400.10/wt_apop_wt_div/GV0819_Pos0_2369_GFP_N_cells / /home/nathan/data/kraken/h2b/giulia/radial_analysis_output/follow/individual_spatiotemporal_heatmaps/400.400.10/wt_apop_wt_div/GV0819_Pos0_2369_GFP_N_events saved out successfully',\n",
       "  '/home/nathan/data/kraken/h2b/giulia/radial_analysis_output/follow/individual_spatiotemporal_heatmaps/400.400.10/wt_apop_wt_div/GV0819_Pos0_2308_GFP_N_cells / /home/nathan/data/kraken/h2b/giulia/radial_analysis_output/follow/individual_spatiotemporal_heatmaps/400.400.10/wt_apop_wt_div/GV0819_Pos0_2308_GFP_N_events saved out successfully',\n",
       "  '/home/nathan/data/kraken/h2b/giulia/radial_analysis_output/follow/individual_spatiotemporal_heatmaps/400.400.10/wt_apop_wt_div/GV0819_Pos0_3216_GFP_N_cells / /home/nathan/data/kraken/h2b/giulia/radial_analysis_output/follow/individual_spatiotemporal_heatmaps/400.400.10/wt_apop_wt_div/GV0819_Pos0_3216_GFP_N_events saved out successfully',\n",
       "  '/home/nathan/data/kraken/h2b/giulia/radial_analysis_output/follow/individual_spatiotemporal_heatmaps/400.400.10/wt_apop_wt_div/GV0819_Pos0_2206_GFP_N_cells / /home/nathan/data/kraken/h2b/giulia/radial_analysis_output/follow/individual_spatiotemporal_heatmaps/400.400.10/wt_apop_wt_div/GV0819_Pos0_2206_GFP_N_events saved out successfully',\n",
       "  '/home/nathan/data/kraken/h2b/giulia/radial_analysis_output/follow/individual_spatiotemporal_heatmaps/400.400.10/wt_apop_wt_div/GV0819_Pos0_2018_GFP_N_cells / /home/nathan/data/kraken/h2b/giulia/radial_analysis_output/follow/individual_spatiotemporal_heatmaps/400.400.10/wt_apop_wt_div/GV0819_Pos0_2018_GFP_N_events saved out successfully',\n",
       "  '/home/nathan/data/kraken/h2b/giulia/radial_analysis_output/follow/individual_spatiotemporal_heatmaps/400.400.10/wt_apop_wt_div/GV0819_Pos0_2009_GFP_N_cells / /home/nathan/data/kraken/h2b/giulia/radial_analysis_output/follow/individual_spatiotemporal_heatmaps/400.400.10/wt_apop_wt_div/GV0819_Pos0_2009_GFP_N_events saved out successfully',\n",
       "  '/home/nathan/data/kraken/h2b/giulia/radial_analysis_output/follow/individual_spatiotemporal_heatmaps/400.400.10/wt_apop_wt_div/GV0819_Pos0_412_GFP_N_cells / /home/nathan/data/kraken/h2b/giulia/radial_analysis_output/follow/individual_spatiotemporal_heatmaps/400.400.10/wt_apop_wt_div/GV0819_Pos0_412_GFP_N_events saved out successfully',\n",
       "  '/home/nathan/data/kraken/h2b/giulia/radial_analysis_output/follow/individual_spatiotemporal_heatmaps/400.400.10/wt_apop_wt_div/GV0819_Pos0_1737_GFP_N_cells / /home/nathan/data/kraken/h2b/giulia/radial_analysis_output/follow/individual_spatiotemporal_heatmaps/400.400.10/wt_apop_wt_div/GV0819_Pos0_1737_GFP_N_events saved out successfully',\n",
       "  '/home/nathan/data/kraken/h2b/giulia/radial_analysis_output/follow/individual_spatiotemporal_heatmaps/400.400.10/wt_apop_wt_div/GV0819_Pos0_2886_GFP_N_cells / /home/nathan/data/kraken/h2b/giulia/radial_analysis_output/follow/individual_spatiotemporal_heatmaps/400.400.10/wt_apop_wt_div/GV0819_Pos0_2886_GFP_N_events saved out successfully',\n",
       "  '/home/nathan/data/kraken/h2b/giulia/radial_analysis_output/follow/individual_spatiotemporal_heatmaps/400.400.10/wt_apop_wt_div/GV0814_Pos12_354_GFP_N_cells / /home/nathan/data/kraken/h2b/giulia/radial_analysis_output/follow/individual_spatiotemporal_heatmaps/400.400.10/wt_apop_wt_div/GV0814_Pos12_354_GFP_N_events saved out successfully',\n",
       "  '/home/nathan/data/kraken/h2b/giulia/radial_analysis_output/follow/individual_spatiotemporal_heatmaps/400.400.10/wt_apop_wt_div/GV0814_Pos12_3629_GFP_N_cells / /home/nathan/data/kraken/h2b/giulia/radial_analysis_output/follow/individual_spatiotemporal_heatmaps/400.400.10/wt_apop_wt_div/GV0814_Pos12_3629_GFP_N_events saved out successfully',\n",
       "  '/home/nathan/data/kraken/h2b/giulia/radial_analysis_output/follow/individual_spatiotemporal_heatmaps/400.400.10/wt_apop_wt_div/GV0795_Pos4_358_GFP_N_cells / /home/nathan/data/kraken/h2b/giulia/radial_analysis_output/follow/individual_spatiotemporal_heatmaps/400.400.10/wt_apop_wt_div/GV0795_Pos4_358_GFP_N_events saved out successfully',\n",
       "  '/home/nathan/data/kraken/h2b/giulia/radial_analysis_output/follow/individual_spatiotemporal_heatmaps/400.400.10/wt_apop_wt_div/GV0795_Pos4_18_GFP_N_cells / /home/nathan/data/kraken/h2b/giulia/radial_analysis_output/follow/individual_spatiotemporal_heatmaps/400.400.10/wt_apop_wt_div/GV0795_Pos4_18_GFP_N_events saved out successfully',\n",
       "  '/home/nathan/data/kraken/h2b/giulia/radial_analysis_output/follow/individual_spatiotemporal_heatmaps/400.400.10/wt_apop_wt_div/GV0795_Pos4_1356_GFP_N_cells / /home/nathan/data/kraken/h2b/giulia/radial_analysis_output/follow/individual_spatiotemporal_heatmaps/400.400.10/wt_apop_wt_div/GV0795_Pos4_1356_GFP_N_events saved out successfully',\n",
       "  '/home/nathan/data/kraken/h2b/giulia/radial_analysis_output/follow/individual_spatiotemporal_heatmaps/400.400.10/wt_apop_wt_div/GV0795_Pos4_359_GFP_N_cells / /home/nathan/data/kraken/h2b/giulia/radial_analysis_output/follow/individual_spatiotemporal_heatmaps/400.400.10/wt_apop_wt_div/GV0795_Pos4_359_GFP_N_events saved out successfully',\n",
       "  '/home/nathan/data/kraken/h2b/giulia/radial_analysis_output/follow/individual_spatiotemporal_heatmaps/400.400.10/wt_apop_wt_div/GV0817_Pos0_7_GFP_N_cells / /home/nathan/data/kraken/h2b/giulia/radial_analysis_output/follow/individual_spatiotemporal_heatmaps/400.400.10/wt_apop_wt_div/GV0817_Pos0_7_GFP_N_events saved out successfully',\n",
       "  '/home/nathan/data/kraken/h2b/giulia/radial_analysis_output/follow/individual_spatiotemporal_heatmaps/400.400.10/wt_apop_wt_div/GV0817_Pos0_901_GFP_N_cells / /home/nathan/data/kraken/h2b/giulia/radial_analysis_output/follow/individual_spatiotemporal_heatmaps/400.400.10/wt_apop_wt_div/GV0817_Pos0_901_GFP_N_events saved out successfully',\n",
       "  '/home/nathan/data/kraken/h2b/giulia/radial_analysis_output/follow/individual_spatiotemporal_heatmaps/400.400.10/wt_apop_wt_div/GV0817_Pos0_1108_GFP_N_cells / /home/nathan/data/kraken/h2b/giulia/radial_analysis_output/follow/individual_spatiotemporal_heatmaps/400.400.10/wt_apop_wt_div/GV0817_Pos0_1108_GFP_N_events saved out successfully',\n",
       "  '/home/nathan/data/kraken/h2b/giulia/radial_analysis_output/follow/individual_spatiotemporal_heatmaps/400.400.10/wt_apop_wt_div/GV0817_Pos0_1541_GFP_N_cells / /home/nathan/data/kraken/h2b/giulia/radial_analysis_output/follow/individual_spatiotemporal_heatmaps/400.400.10/wt_apop_wt_div/GV0817_Pos0_1541_GFP_N_events saved out successfully',\n",
       "  '/home/nathan/data/kraken/h2b/giulia/radial_analysis_output/follow/individual_spatiotemporal_heatmaps/400.400.10/wt_apop_wt_div/GV0817_Pos0_2082_GFP_N_cells / /home/nathan/data/kraken/h2b/giulia/radial_analysis_output/follow/individual_spatiotemporal_heatmaps/400.400.10/wt_apop_wt_div/GV0817_Pos0_2082_GFP_N_events saved out successfully',\n",
       "  '/home/nathan/data/kraken/h2b/giulia/radial_analysis_output/follow/individual_spatiotemporal_heatmaps/400.400.10/wt_apop_wt_div/GV0817_Pos0_737_GFP_N_cells / /home/nathan/data/kraken/h2b/giulia/radial_analysis_output/follow/individual_spatiotemporal_heatmaps/400.400.10/wt_apop_wt_div/GV0817_Pos0_737_GFP_N_events saved out successfully',\n",
       "  '/home/nathan/data/kraken/h2b/giulia/radial_analysis_output/follow/individual_spatiotemporal_heatmaps/400.400.10/wt_apop_wt_div/GV0817_Pos0_1731_GFP_N_cells / /home/nathan/data/kraken/h2b/giulia/radial_analysis_output/follow/individual_spatiotemporal_heatmaps/400.400.10/wt_apop_wt_div/GV0817_Pos0_1731_GFP_N_events saved out successfully',\n",
       "  '/home/nathan/data/kraken/h2b/giulia/radial_analysis_output/follow/individual_spatiotemporal_heatmaps/400.400.10/wt_apop_wt_div/GV0817_Pos0_1542_GFP_N_cells / /home/nathan/data/kraken/h2b/giulia/radial_analysis_output/follow/individual_spatiotemporal_heatmaps/400.400.10/wt_apop_wt_div/GV0817_Pos0_1542_GFP_N_events saved out successfully',\n",
       "  '/home/nathan/data/kraken/h2b/giulia/radial_analysis_output/follow/individual_spatiotemporal_heatmaps/400.400.10/wt_apop_wt_div/GV0817_Pos0_687_GFP_N_cells / /home/nathan/data/kraken/h2b/giulia/radial_analysis_output/follow/individual_spatiotemporal_heatmaps/400.400.10/wt_apop_wt_div/GV0817_Pos0_687_GFP_N_events saved out successfully',\n",
       "  '/home/nathan/data/kraken/h2b/giulia/radial_analysis_output/follow/individual_spatiotemporal_heatmaps/400.400.10/wt_apop_wt_div/GV0817_Pos0_1440_GFP_N_cells / /home/nathan/data/kraken/h2b/giulia/radial_analysis_output/follow/individual_spatiotemporal_heatmaps/400.400.10/wt_apop_wt_div/GV0817_Pos0_1440_GFP_N_events saved out successfully',\n",
       "  '/home/nathan/data/kraken/h2b/giulia/radial_analysis_output/follow/individual_spatiotemporal_heatmaps/400.400.10/wt_apop_wt_div/GV0817_Pos0_1928_GFP_N_cells / /home/nathan/data/kraken/h2b/giulia/radial_analysis_output/follow/individual_spatiotemporal_heatmaps/400.400.10/wt_apop_wt_div/GV0817_Pos0_1928_GFP_N_events saved out successfully',\n",
       "  '/home/nathan/data/kraken/h2b/giulia/radial_analysis_output/follow/individual_spatiotemporal_heatmaps/400.400.10/wt_apop_wt_div/GV0817_Pos0_224_GFP_N_cells / /home/nathan/data/kraken/h2b/giulia/radial_analysis_output/follow/individual_spatiotemporal_heatmaps/400.400.10/wt_apop_wt_div/GV0817_Pos0_224_GFP_N_events saved out successfully',\n",
       "  '/home/nathan/data/kraken/h2b/giulia/radial_analysis_output/follow/individual_spatiotemporal_heatmaps/400.400.10/wt_apop_wt_div/GV0817_Pos0_2109_GFP_N_cells / /home/nathan/data/kraken/h2b/giulia/radial_analysis_output/follow/individual_spatiotemporal_heatmaps/400.400.10/wt_apop_wt_div/GV0817_Pos0_2109_GFP_N_events saved out successfully',\n",
       "  '/home/nathan/data/kraken/h2b/giulia/radial_analysis_output/follow/individual_spatiotemporal_heatmaps/400.400.10/wt_apop_wt_div/GV0817_Pos0_2855_GFP_N_cells / /home/nathan/data/kraken/h2b/giulia/radial_analysis_output/follow/individual_spatiotemporal_heatmaps/400.400.10/wt_apop_wt_div/GV0817_Pos0_2855_GFP_N_events saved out successfully',\n",
       "  '/home/nathan/data/kraken/h2b/giulia/radial_analysis_output/follow/individual_spatiotemporal_heatmaps/400.400.10/wt_apop_wt_div/GV0817_Pos0_2188_GFP_N_cells / /home/nathan/data/kraken/h2b/giulia/radial_analysis_output/follow/individual_spatiotemporal_heatmaps/400.400.10/wt_apop_wt_div/GV0817_Pos0_2188_GFP_N_events saved out successfully',\n",
       "  '/home/nathan/data/kraken/h2b/giulia/radial_analysis_output/follow/individual_spatiotemporal_heatmaps/400.400.10/wt_apop_wt_div/GV0817_Pos0_2181_GFP_N_cells / /home/nathan/data/kraken/h2b/giulia/radial_analysis_output/follow/individual_spatiotemporal_heatmaps/400.400.10/wt_apop_wt_div/GV0817_Pos0_2181_GFP_N_events saved out successfully',\n",
       "  '/home/nathan/data/kraken/h2b/giulia/radial_analysis_output/follow/individual_spatiotemporal_heatmaps/400.400.10/wt_apop_wt_div/GV0813_Pos1_886_GFP_N_cells / /home/nathan/data/kraken/h2b/giulia/radial_analysis_output/follow/individual_spatiotemporal_heatmaps/400.400.10/wt_apop_wt_div/GV0813_Pos1_886_GFP_N_events saved out successfully',\n",
       "  '/home/nathan/data/kraken/h2b/giulia/radial_analysis_output/follow/individual_spatiotemporal_heatmaps/400.400.10/wt_apop_wt_div/GV0819_Pos3_586_GFP_N_cells / /home/nathan/data/kraken/h2b/giulia/radial_analysis_output/follow/individual_spatiotemporal_heatmaps/400.400.10/wt_apop_wt_div/GV0819_Pos3_586_GFP_N_events saved out successfully',\n",
       "  '/home/nathan/data/kraken/h2b/giulia/radial_analysis_output/follow/individual_spatiotemporal_heatmaps/400.400.10/wt_apop_wt_div/GV0819_Pos3_741_GFP_N_cells / /home/nathan/data/kraken/h2b/giulia/radial_analysis_output/follow/individual_spatiotemporal_heatmaps/400.400.10/wt_apop_wt_div/GV0819_Pos3_741_GFP_N_events saved out successfully',\n",
       "  '/home/nathan/data/kraken/h2b/giulia/radial_analysis_output/follow/individual_spatiotemporal_heatmaps/400.400.10/wt_apop_wt_div/GV0819_Pos4_1586_GFP_N_cells / /home/nathan/data/kraken/h2b/giulia/radial_analysis_output/follow/individual_spatiotemporal_heatmaps/400.400.10/wt_apop_wt_div/GV0819_Pos4_1586_GFP_N_events saved out successfully',\n",
       "  '/home/nathan/data/kraken/h2b/giulia/radial_analysis_output/follow/individual_spatiotemporal_heatmaps/400.400.10/wt_apop_wt_div/GV0819_Pos4_2425_GFP_N_cells / /home/nathan/data/kraken/h2b/giulia/radial_analysis_output/follow/individual_spatiotemporal_heatmaps/400.400.10/wt_apop_wt_div/GV0819_Pos4_2425_GFP_N_events saved out successfully',\n",
       "  '/home/nathan/data/kraken/h2b/giulia/radial_analysis_output/follow/individual_spatiotemporal_heatmaps/400.400.10/wt_apop_wt_div/GV0819_Pos4_2609_GFP_N_cells / /home/nathan/data/kraken/h2b/giulia/radial_analysis_output/follow/individual_spatiotemporal_heatmaps/400.400.10/wt_apop_wt_div/GV0819_Pos4_2609_GFP_N_events saved out successfully',\n",
       "  '/home/nathan/data/kraken/h2b/giulia/radial_analysis_output/follow/individual_spatiotemporal_heatmaps/400.400.10/wt_apop_wt_div/GV0800_Pos6_361_GFP_N_cells / /home/nathan/data/kraken/h2b/giulia/radial_analysis_output/follow/individual_spatiotemporal_heatmaps/400.400.10/wt_apop_wt_div/GV0800_Pos6_361_GFP_N_events saved out successfully',\n",
       "  '/home/nathan/data/kraken/h2b/giulia/radial_analysis_output/follow/individual_spatiotemporal_heatmaps/400.400.10/wt_apop_wt_div/GV0800_Pos6_302_GFP_N_cells / /home/nathan/data/kraken/h2b/giulia/radial_analysis_output/follow/individual_spatiotemporal_heatmaps/400.400.10/wt_apop_wt_div/GV0800_Pos6_302_GFP_N_events saved out successfully',\n",
       "  '/home/nathan/data/kraken/h2b/giulia/radial_analysis_output/follow/individual_spatiotemporal_heatmaps/400.400.10/wt_apop_wt_div/GV0797_Pos8_1104_GFP_N_cells / /home/nathan/data/kraken/h2b/giulia/radial_analysis_output/follow/individual_spatiotemporal_heatmaps/400.400.10/wt_apop_wt_div/GV0797_Pos8_1104_GFP_N_events saved out successfully',\n",
       "  '/home/nathan/data/kraken/h2b/giulia/radial_analysis_output/follow/individual_spatiotemporal_heatmaps/400.400.10/wt_apop_wt_div/GV0806_Pos3_571_GFP_N_cells / /home/nathan/data/kraken/h2b/giulia/radial_analysis_output/follow/individual_spatiotemporal_heatmaps/400.400.10/wt_apop_wt_div/GV0806_Pos3_571_GFP_N_events saved out successfully',\n",
       "  '/home/nathan/data/kraken/h2b/giulia/radial_analysis_output/follow/individual_spatiotemporal_heatmaps/400.400.10/wt_apop_wt_div/GV0796_Pos7_44_GFP_N_cells / /home/nathan/data/kraken/h2b/giulia/radial_analysis_output/follow/individual_spatiotemporal_heatmaps/400.400.10/wt_apop_wt_div/GV0796_Pos7_44_GFP_N_events saved out successfully',\n",
       "  '/home/nathan/data/kraken/h2b/giulia/radial_analysis_output/follow/individual_spatiotemporal_heatmaps/400.400.10/wt_apop_wt_div/GV0796_Pos7_541_GFP_N_cells / /home/nathan/data/kraken/h2b/giulia/radial_analysis_output/follow/individual_spatiotemporal_heatmaps/400.400.10/wt_apop_wt_div/GV0796_Pos7_541_GFP_N_events saved out successfully',\n",
       "  '/home/nathan/data/kraken/h2b/giulia/radial_analysis_output/follow/individual_spatiotemporal_heatmaps/400.400.10/wt_apop_wt_div/GV0796_Pos7_803_GFP_N_cells / /home/nathan/data/kraken/h2b/giulia/radial_analysis_output/follow/individual_spatiotemporal_heatmaps/400.400.10/wt_apop_wt_div/GV0796_Pos7_803_GFP_N_events saved out successfully',\n",
       "  '/home/nathan/data/kraken/h2b/giulia/radial_analysis_output/follow/individual_spatiotemporal_heatmaps/400.400.10/wt_apop_wt_div/GV0796_Pos19_77_GFP_N_cells / /home/nathan/data/kraken/h2b/giulia/radial_analysis_output/follow/individual_spatiotemporal_heatmaps/400.400.10/wt_apop_wt_div/GV0796_Pos19_77_GFP_N_events saved out successfully',\n",
       "  '/home/nathan/data/kraken/h2b/giulia/radial_analysis_output/follow/individual_spatiotemporal_heatmaps/400.400.10/wt_apop_wt_div/GV0796_Pos19_441_GFP_N_cells / /home/nathan/data/kraken/h2b/giulia/radial_analysis_output/follow/individual_spatiotemporal_heatmaps/400.400.10/wt_apop_wt_div/GV0796_Pos19_441_GFP_N_events saved out successfully',\n",
       "  '/home/nathan/data/kraken/h2b/giulia/radial_analysis_output/follow/individual_spatiotemporal_heatmaps/400.400.10/wt_apop_wt_div/GV0796_Pos19_431_GFP_N_cells / /home/nathan/data/kraken/h2b/giulia/radial_analysis_output/follow/individual_spatiotemporal_heatmaps/400.400.10/wt_apop_wt_div/GV0796_Pos19_431_GFP_N_events saved out successfully',\n",
       "  '/home/nathan/data/kraken/h2b/giulia/radial_analysis_output/follow/individual_spatiotemporal_heatmaps/400.400.10/wt_apop_wt_div/GV0796_Pos19_2161_GFP_N_cells / /home/nathan/data/kraken/h2b/giulia/radial_analysis_output/follow/individual_spatiotemporal_heatmaps/400.400.10/wt_apop_wt_div/GV0796_Pos19_2161_GFP_N_events saved out successfully',\n",
       "  '/home/nathan/data/kraken/h2b/giulia/radial_analysis_output/follow/individual_spatiotemporal_heatmaps/400.400.10/wt_apop_wt_div/GV0796_Pos19_1960_GFP_N_cells / /home/nathan/data/kraken/h2b/giulia/radial_analysis_output/follow/individual_spatiotemporal_heatmaps/400.400.10/wt_apop_wt_div/GV0796_Pos19_1960_GFP_N_events saved out successfully',\n",
       "  '/home/nathan/data/kraken/h2b/giulia/radial_analysis_output/follow/individual_spatiotemporal_heatmaps/400.400.10/wt_apop_wt_div/GV0797_Pos7_724_GFP_N_cells / /home/nathan/data/kraken/h2b/giulia/radial_analysis_output/follow/individual_spatiotemporal_heatmaps/400.400.10/wt_apop_wt_div/GV0797_Pos7_724_GFP_N_events saved out successfully',\n",
       "  '/home/nathan/data/kraken/h2b/giulia/radial_analysis_output/follow/individual_spatiotemporal_heatmaps/400.400.10/wt_apop_wt_div/GV0797_Pos7_192_GFP_N_cells / /home/nathan/data/kraken/h2b/giulia/radial_analysis_output/follow/individual_spatiotemporal_heatmaps/400.400.10/wt_apop_wt_div/GV0797_Pos7_192_GFP_N_events saved out successfully',\n",
       "  '/home/nathan/data/kraken/h2b/giulia/radial_analysis_output/follow/individual_spatiotemporal_heatmaps/400.400.10/wt_apop_wt_div/GV0797_Pos7_230_GFP_N_cells / /home/nathan/data/kraken/h2b/giulia/radial_analysis_output/follow/individual_spatiotemporal_heatmaps/400.400.10/wt_apop_wt_div/GV0797_Pos7_230_GFP_N_events saved out successfully',\n",
       "  '/home/nathan/data/kraken/h2b/giulia/radial_analysis_output/follow/individual_spatiotemporal_heatmaps/400.400.10/wt_apop_wt_div/GV0797_Pos7_1103_GFP_N_cells / /home/nathan/data/kraken/h2b/giulia/radial_analysis_output/follow/individual_spatiotemporal_heatmaps/400.400.10/wt_apop_wt_div/GV0797_Pos7_1103_GFP_N_events saved out successfully',\n",
       "  '/home/nathan/data/kraken/h2b/giulia/radial_analysis_output/follow/individual_spatiotemporal_heatmaps/400.400.10/wt_apop_wt_div/GV0797_Pos7_1029_GFP_N_cells / /home/nathan/data/kraken/h2b/giulia/radial_analysis_output/follow/individual_spatiotemporal_heatmaps/400.400.10/wt_apop_wt_div/GV0797_Pos7_1029_GFP_N_events saved out successfully',\n",
       "  '/home/nathan/data/kraken/h2b/giulia/radial_analysis_output/follow/individual_spatiotemporal_heatmaps/400.400.10/wt_apop_wt_div/GV0796_Pos21_2923_GFP_N_cells / /home/nathan/data/kraken/h2b/giulia/radial_analysis_output/follow/individual_spatiotemporal_heatmaps/400.400.10/wt_apop_wt_div/GV0796_Pos21_2923_GFP_N_events saved out successfully',\n",
       "  '/home/nathan/data/kraken/h2b/giulia/radial_analysis_output/follow/individual_spatiotemporal_heatmaps/400.400.10/wt_apop_wt_div/GV0796_Pos21_788_GFP_N_cells / /home/nathan/data/kraken/h2b/giulia/radial_analysis_output/follow/individual_spatiotemporal_heatmaps/400.400.10/wt_apop_wt_div/GV0796_Pos21_788_GFP_N_events saved out successfully',\n",
       "  '/home/nathan/data/kraken/h2b/giulia/radial_analysis_output/follow/individual_spatiotemporal_heatmaps/400.400.10/wt_apop_wt_div/GV0816_Pos23_5_GFP_N_cells / /home/nathan/data/kraken/h2b/giulia/radial_analysis_output/follow/individual_spatiotemporal_heatmaps/400.400.10/wt_apop_wt_div/GV0816_Pos23_5_GFP_N_events saved out successfully',\n",
       "  '/home/nathan/data/kraken/h2b/giulia/radial_analysis_output/follow/individual_spatiotemporal_heatmaps/400.400.10/wt_apop_wt_div/GV0816_Pos23_1_GFP_N_cells / /home/nathan/data/kraken/h2b/giulia/radial_analysis_output/follow/individual_spatiotemporal_heatmaps/400.400.10/wt_apop_wt_div/GV0816_Pos23_1_GFP_N_events saved out successfully',\n",
       "  '/home/nathan/data/kraken/h2b/giulia/radial_analysis_output/follow/individual_spatiotemporal_heatmaps/400.400.10/wt_apop_wt_div/GV0816_Pos23_755_GFP_N_cells / /home/nathan/data/kraken/h2b/giulia/radial_analysis_output/follow/individual_spatiotemporal_heatmaps/400.400.10/wt_apop_wt_div/GV0816_Pos23_755_GFP_N_events saved out successfully',\n",
       "  '/home/nathan/data/kraken/h2b/giulia/radial_analysis_output/follow/individual_spatiotemporal_heatmaps/400.400.10/wt_apop_wt_div/GV0816_Pos23_757_GFP_N_cells / /home/nathan/data/kraken/h2b/giulia/radial_analysis_output/follow/individual_spatiotemporal_heatmaps/400.400.10/wt_apop_wt_div/GV0816_Pos23_757_GFP_N_events saved out successfully',\n",
       "  '/home/nathan/data/kraken/h2b/giulia/radial_analysis_output/follow/individual_spatiotemporal_heatmaps/400.400.10/wt_apop_wt_div/GV0816_Pos23_773_GFP_N_cells / /home/nathan/data/kraken/h2b/giulia/radial_analysis_output/follow/individual_spatiotemporal_heatmaps/400.400.10/wt_apop_wt_div/GV0816_Pos23_773_GFP_N_events saved out successfully',\n",
       "  '/home/nathan/data/kraken/h2b/giulia/radial_analysis_output/follow/individual_spatiotemporal_heatmaps/400.400.10/wt_apop_wt_div/GV0816_Pos23_772_GFP_N_cells / /home/nathan/data/kraken/h2b/giulia/radial_analysis_output/follow/individual_spatiotemporal_heatmaps/400.400.10/wt_apop_wt_div/GV0816_Pos23_772_GFP_N_events saved out successfully',\n",
       "  '/home/nathan/data/kraken/h2b/giulia/radial_analysis_output/follow/individual_spatiotemporal_heatmaps/400.400.10/wt_apop_wt_div/GV0816_Pos23_696_GFP_N_cells / /home/nathan/data/kraken/h2b/giulia/radial_analysis_output/follow/individual_spatiotemporal_heatmaps/400.400.10/wt_apop_wt_div/GV0816_Pos23_696_GFP_N_events saved out successfully',\n",
       "  '/home/nathan/data/kraken/h2b/giulia/radial_analysis_output/follow/individual_spatiotemporal_heatmaps/400.400.10/wt_apop_wt_div/GV0800_Pos17_7_GFP_N_cells / /home/nathan/data/kraken/h2b/giulia/radial_analysis_output/follow/individual_spatiotemporal_heatmaps/400.400.10/wt_apop_wt_div/GV0800_Pos17_7_GFP_N_events saved out successfully',\n",
       "  '/home/nathan/data/kraken/h2b/giulia/radial_analysis_output/follow/individual_spatiotemporal_heatmaps/400.400.10/wt_apop_wt_div/GV0800_Pos17_1010_GFP_N_cells / /home/nathan/data/kraken/h2b/giulia/radial_analysis_output/follow/individual_spatiotemporal_heatmaps/400.400.10/wt_apop_wt_div/GV0800_Pos17_1010_GFP_N_events saved out successfully',\n",
       "  '/home/nathan/data/kraken/h2b/giulia/radial_analysis_output/follow/individual_spatiotemporal_heatmaps/400.400.10/wt_apop_wt_div/GV0800_Pos17_1009_GFP_N_cells / /home/nathan/data/kraken/h2b/giulia/radial_analysis_output/follow/individual_spatiotemporal_heatmaps/400.400.10/wt_apop_wt_div/GV0800_Pos17_1009_GFP_N_events saved out successfully',\n",
       "  '/home/nathan/data/kraken/h2b/giulia/radial_analysis_output/follow/individual_spatiotemporal_heatmaps/400.400.10/wt_apop_wt_div/GV0800_Pos17_868_GFP_N_cells / /home/nathan/data/kraken/h2b/giulia/radial_analysis_output/follow/individual_spatiotemporal_heatmaps/400.400.10/wt_apop_wt_div/GV0800_Pos17_868_GFP_N_events saved out successfully',\n",
       "  '/home/nathan/data/kraken/h2b/giulia/radial_analysis_output/follow/individual_spatiotemporal_heatmaps/400.400.10/wt_apop_wt_div/GV0800_Pos17_869_GFP_N_cells / /home/nathan/data/kraken/h2b/giulia/radial_analysis_output/follow/individual_spatiotemporal_heatmaps/400.400.10/wt_apop_wt_div/GV0800_Pos17_869_GFP_N_events saved out successfully',\n",
       "  '/home/nathan/data/kraken/h2b/giulia/radial_analysis_output/follow/individual_spatiotemporal_heatmaps/400.400.10/wt_apop_wt_div/GV0800_Pos17_1001_GFP_N_cells / /home/nathan/data/kraken/h2b/giulia/radial_analysis_output/follow/individual_spatiotemporal_heatmaps/400.400.10/wt_apop_wt_div/GV0800_Pos17_1001_GFP_N_events saved out successfully',\n",
       "  '/home/nathan/data/kraken/h2b/giulia/radial_analysis_output/follow/individual_spatiotemporal_heatmaps/400.400.10/wt_apop_wt_div/GV0800_Pos17_1002_GFP_N_cells / /home/nathan/data/kraken/h2b/giulia/radial_analysis_output/follow/individual_spatiotemporal_heatmaps/400.400.10/wt_apop_wt_div/GV0800_Pos17_1002_GFP_N_events saved out successfully',\n",
       "  '/home/nathan/data/kraken/h2b/giulia/radial_analysis_output/follow/individual_spatiotemporal_heatmaps/400.400.10/wt_apop_wt_div/GV0806_Pos5_124_GFP_N_cells / /home/nathan/data/kraken/h2b/giulia/radial_analysis_output/follow/individual_spatiotemporal_heatmaps/400.400.10/wt_apop_wt_div/GV0806_Pos5_124_GFP_N_events saved out successfully',\n",
       "  '/home/nathan/data/kraken/h2b/giulia/radial_analysis_output/follow/individual_spatiotemporal_heatmaps/400.400.10/wt_apop_wt_div/GV0800_Pos4_480_GFP_N_cells / /home/nathan/data/kraken/h2b/giulia/radial_analysis_output/follow/individual_spatiotemporal_heatmaps/400.400.10/wt_apop_wt_div/GV0800_Pos4_480_GFP_N_events saved out successfully',\n",
       "  '/home/nathan/data/kraken/h2b/giulia/radial_analysis_output/follow/individual_spatiotemporal_heatmaps/400.400.10/wt_apop_wt_div/GV0820_Pos5_47_GFP_N_cells / /home/nathan/data/kraken/h2b/giulia/radial_analysis_output/follow/individual_spatiotemporal_heatmaps/400.400.10/wt_apop_wt_div/GV0820_Pos5_47_GFP_N_events saved out successfully',\n",
       "  '/home/nathan/data/kraken/h2b/giulia/radial_analysis_output/follow/individual_spatiotemporal_heatmaps/400.400.10/wt_apop_wt_div/GV0820_Pos5_48_GFP_N_cells / /home/nathan/data/kraken/h2b/giulia/radial_analysis_output/follow/individual_spatiotemporal_heatmaps/400.400.10/wt_apop_wt_div/GV0820_Pos5_48_GFP_N_events saved out successfully',\n",
       "  '/home/nathan/data/kraken/h2b/giulia/radial_analysis_output/follow/individual_spatiotemporal_heatmaps/400.400.10/wt_apop_wt_div/GV0820_Pos5_417_GFP_N_cells / /home/nathan/data/kraken/h2b/giulia/radial_analysis_output/follow/individual_spatiotemporal_heatmaps/400.400.10/wt_apop_wt_div/GV0820_Pos5_417_GFP_N_events saved out successfully',\n",
       "  '/home/nathan/data/kraken/h2b/giulia/radial_analysis_output/follow/individual_spatiotemporal_heatmaps/400.400.10/wt_apop_wt_div/GV0820_Pos5_1837_GFP_N_cells / /home/nathan/data/kraken/h2b/giulia/radial_analysis_output/follow/individual_spatiotemporal_heatmaps/400.400.10/wt_apop_wt_div/GV0820_Pos5_1837_GFP_N_events saved out successfully',\n",
       "  '/home/nathan/data/kraken/h2b/giulia/radial_analysis_output/follow/individual_spatiotemporal_heatmaps/400.400.10/wt_apop_wt_div/GV0813_Pos0_137_GFP_N_cells / /home/nathan/data/kraken/h2b/giulia/radial_analysis_output/follow/individual_spatiotemporal_heatmaps/400.400.10/wt_apop_wt_div/GV0813_Pos0_137_GFP_N_events saved out successfully',\n",
       "  '/home/nathan/data/kraken/h2b/giulia/radial_analysis_output/follow/individual_spatiotemporal_heatmaps/400.400.10/wt_apop_wt_div/GV0813_Pos0_356_GFP_N_cells / /home/nathan/data/kraken/h2b/giulia/radial_analysis_output/follow/individual_spatiotemporal_heatmaps/400.400.10/wt_apop_wt_div/GV0813_Pos0_356_GFP_N_events saved out successfully',\n",
       "  '/home/nathan/data/kraken/h2b/giulia/radial_analysis_output/follow/individual_spatiotemporal_heatmaps/400.400.10/wt_apop_wt_div/GV0813_Pos0_260_GFP_N_cells / /home/nathan/data/kraken/h2b/giulia/radial_analysis_output/follow/individual_spatiotemporal_heatmaps/400.400.10/wt_apop_wt_div/GV0813_Pos0_260_GFP_N_events saved out successfully',\n",
       "  '/home/nathan/data/kraken/h2b/giulia/radial_analysis_output/follow/individual_spatiotemporal_heatmaps/400.400.10/wt_apop_wt_div/GV0813_Pos0_111_GFP_N_cells / /home/nathan/data/kraken/h2b/giulia/radial_analysis_output/follow/individual_spatiotemporal_heatmaps/400.400.10/wt_apop_wt_div/GV0813_Pos0_111_GFP_N_events saved out successfully',\n",
       "  '/home/nathan/data/kraken/h2b/giulia/radial_analysis_output/follow/individual_spatiotemporal_heatmaps/400.400.10/wt_apop_wt_div/GV0813_Pos0_223_GFP_N_cells / /home/nathan/data/kraken/h2b/giulia/radial_analysis_output/follow/individual_spatiotemporal_heatmaps/400.400.10/wt_apop_wt_div/GV0813_Pos0_223_GFP_N_events saved out successfully',\n",
       "  '/home/nathan/data/kraken/h2b/giulia/radial_analysis_output/follow/individual_spatiotemporal_heatmaps/400.400.10/wt_apop_wt_div/GV0813_Pos0_636_GFP_N_cells / /home/nathan/data/kraken/h2b/giulia/radial_analysis_output/follow/individual_spatiotemporal_heatmaps/400.400.10/wt_apop_wt_div/GV0813_Pos0_636_GFP_N_events saved out successfully',\n",
       "  '/home/nathan/data/kraken/h2b/giulia/radial_analysis_output/follow/individual_spatiotemporal_heatmaps/400.400.10/wt_apop_wt_div/GV0813_Pos4_404_GFP_N_cells / /home/nathan/data/kraken/h2b/giulia/radial_analysis_output/follow/individual_spatiotemporal_heatmaps/400.400.10/wt_apop_wt_div/GV0813_Pos4_404_GFP_N_events saved out successfully',\n",
       "  '/home/nathan/data/kraken/h2b/giulia/radial_analysis_output/follow/individual_spatiotemporal_heatmaps/400.400.10/wt_apop_wt_div/GV0813_Pos4_596_GFP_N_cells / /home/nathan/data/kraken/h2b/giulia/radial_analysis_output/follow/individual_spatiotemporal_heatmaps/400.400.10/wt_apop_wt_div/GV0813_Pos4_596_GFP_N_events saved out successfully',\n",
       "  '/home/nathan/data/kraken/h2b/giulia/radial_analysis_output/follow/individual_spatiotemporal_heatmaps/400.400.10/wt_apop_wt_div/GV0813_Pos4_403_GFP_N_cells / /home/nathan/data/kraken/h2b/giulia/radial_analysis_output/follow/individual_spatiotemporal_heatmaps/400.400.10/wt_apop_wt_div/GV0813_Pos4_403_GFP_N_events saved out successfully',\n",
       "  '/home/nathan/data/kraken/h2b/giulia/radial_analysis_output/follow/individual_spatiotemporal_heatmaps/400.400.10/wt_apop_wt_div/GV0813_Pos4_7_GFP_N_cells / /home/nathan/data/kraken/h2b/giulia/radial_analysis_output/follow/individual_spatiotemporal_heatmaps/400.400.10/wt_apop_wt_div/GV0813_Pos4_7_GFP_N_events saved out successfully',\n",
       "  '/home/nathan/data/kraken/h2b/giulia/radial_analysis_output/follow/individual_spatiotemporal_heatmaps/400.400.10/wt_apop_wt_div/GV0813_Pos4_1000_GFP_N_cells / /home/nathan/data/kraken/h2b/giulia/radial_analysis_output/follow/individual_spatiotemporal_heatmaps/400.400.10/wt_apop_wt_div/GV0813_Pos4_1000_GFP_N_events saved out successfully',\n",
       "  '/home/nathan/data/kraken/h2b/giulia/radial_analysis_output/follow/individual_spatiotemporal_heatmaps/400.400.10/wt_apop_wt_div/GV0819_Pos2_119_GFP_N_cells / /home/nathan/data/kraken/h2b/giulia/radial_analysis_output/follow/individual_spatiotemporal_heatmaps/400.400.10/wt_apop_wt_div/GV0819_Pos2_119_GFP_N_events saved out successfully',\n",
       "  '/home/nathan/data/kraken/h2b/giulia/radial_analysis_output/follow/individual_spatiotemporal_heatmaps/400.400.10/wt_apop_wt_div/GV0819_Pos2_481_GFP_N_cells / /home/nathan/data/kraken/h2b/giulia/radial_analysis_output/follow/individual_spatiotemporal_heatmaps/400.400.10/wt_apop_wt_div/GV0819_Pos2_481_GFP_N_events saved out successfully',\n",
       "  '/home/nathan/data/kraken/h2b/giulia/radial_analysis_output/follow/individual_spatiotemporal_heatmaps/400.400.10/wt_apop_wt_div/GV0819_Pos2_513_GFP_N_cells / /home/nathan/data/kraken/h2b/giulia/radial_analysis_output/follow/individual_spatiotemporal_heatmaps/400.400.10/wt_apop_wt_div/GV0819_Pos2_513_GFP_N_events saved out successfully',\n",
       "  '/home/nathan/data/kraken/h2b/giulia/radial_analysis_output/follow/individual_spatiotemporal_heatmaps/400.400.10/wt_apop_wt_div/GV0819_Pos2_143_GFP_N_cells / /home/nathan/data/kraken/h2b/giulia/radial_analysis_output/follow/individual_spatiotemporal_heatmaps/400.400.10/wt_apop_wt_div/GV0819_Pos2_143_GFP_N_events saved out successfully',\n",
       "  '/home/nathan/data/kraken/h2b/giulia/radial_analysis_output/follow/individual_spatiotemporal_heatmaps/400.400.10/wt_apop_wt_div/GV0819_Pos2_1617_GFP_N_cells / /home/nathan/data/kraken/h2b/giulia/radial_analysis_output/follow/individual_spatiotemporal_heatmaps/400.400.10/wt_apop_wt_div/GV0819_Pos2_1617_GFP_N_events saved out successfully',\n",
       "  '/home/nathan/data/kraken/h2b/giulia/radial_analysis_output/follow/individual_spatiotemporal_heatmaps/400.400.10/wt_apop_wt_div/GV0820_Pos4_684_GFP_N_cells / /home/nathan/data/kraken/h2b/giulia/radial_analysis_output/follow/individual_spatiotemporal_heatmaps/400.400.10/wt_apop_wt_div/GV0820_Pos4_684_GFP_N_events saved out successfully',\n",
       "  '/home/nathan/data/kraken/h2b/giulia/radial_analysis_output/follow/individual_spatiotemporal_heatmaps/400.400.10/wt_apop_wt_div/GV0820_Pos4_1034_GFP_N_cells / /home/nathan/data/kraken/h2b/giulia/radial_analysis_output/follow/individual_spatiotemporal_heatmaps/400.400.10/wt_apop_wt_div/GV0820_Pos4_1034_GFP_N_events saved out successfully',\n",
       "  '/home/nathan/data/kraken/h2b/giulia/radial_analysis_output/follow/individual_spatiotemporal_heatmaps/400.400.10/wt_apop_wt_div/GV0820_Pos4_1634_GFP_N_cells / /home/nathan/data/kraken/h2b/giulia/radial_analysis_output/follow/individual_spatiotemporal_heatmaps/400.400.10/wt_apop_wt_div/GV0820_Pos4_1634_GFP_N_events saved out successfully',\n",
       "  '/home/nathan/data/kraken/h2b/giulia/radial_analysis_output/follow/individual_spatiotemporal_heatmaps/400.400.10/wt_apop_wt_div/GV0800_Pos8_263_GFP_N_cells / /home/nathan/data/kraken/h2b/giulia/radial_analysis_output/follow/individual_spatiotemporal_heatmaps/400.400.10/wt_apop_wt_div/GV0800_Pos8_263_GFP_N_events saved out successfully',\n",
       "  '/home/nathan/data/kraken/h2b/giulia/radial_analysis_output/follow/individual_spatiotemporal_heatmaps/400.400.10/wt_apop_wt_div/GV0800_Pos8_49_GFP_N_cells / /home/nathan/data/kraken/h2b/giulia/radial_analysis_output/follow/individual_spatiotemporal_heatmaps/400.400.10/wt_apop_wt_div/GV0800_Pos8_49_GFP_N_events saved out successfully',\n",
       "  '/home/nathan/data/kraken/h2b/giulia/radial_analysis_output/follow/individual_spatiotemporal_heatmaps/400.400.10/wt_apop_wt_div/GV0813_Pos3_362_GFP_N_cells / /home/nathan/data/kraken/h2b/giulia/radial_analysis_output/follow/individual_spatiotemporal_heatmaps/400.400.10/wt_apop_wt_div/GV0813_Pos3_362_GFP_N_events saved out successfully',\n",
       "  '/home/nathan/data/kraken/h2b/giulia/radial_analysis_output/follow/individual_spatiotemporal_heatmaps/400.400.10/wt_apop_wt_div/GV0813_Pos3_15_GFP_N_cells / /home/nathan/data/kraken/h2b/giulia/radial_analysis_output/follow/individual_spatiotemporal_heatmaps/400.400.10/wt_apop_wt_div/GV0813_Pos3_15_GFP_N_events saved out successfully',\n",
       "  '/home/nathan/data/kraken/h2b/giulia/radial_analysis_output/follow/individual_spatiotemporal_heatmaps/400.400.10/wt_apop_wt_div/GV0813_Pos3_33_GFP_N_cells / /home/nathan/data/kraken/h2b/giulia/radial_analysis_output/follow/individual_spatiotemporal_heatmaps/400.400.10/wt_apop_wt_div/GV0813_Pos3_33_GFP_N_events saved out successfully',\n",
       "  '/home/nathan/data/kraken/h2b/giulia/radial_analysis_output/follow/individual_spatiotemporal_heatmaps/400.400.10/wt_apop_wt_div/GV0813_Pos3_341_GFP_N_cells / /home/nathan/data/kraken/h2b/giulia/radial_analysis_output/follow/individual_spatiotemporal_heatmaps/400.400.10/wt_apop_wt_div/GV0813_Pos3_341_GFP_N_events saved out successfully',\n",
       "  '/home/nathan/data/kraken/h2b/giulia/radial_analysis_output/follow/individual_spatiotemporal_heatmaps/400.400.10/wt_apop_wt_div/GV0813_Pos3_513_GFP_N_cells / /home/nathan/data/kraken/h2b/giulia/radial_analysis_output/follow/individual_spatiotemporal_heatmaps/400.400.10/wt_apop_wt_div/GV0813_Pos3_513_GFP_N_events saved out successfully',\n",
       "  '/home/nathan/data/kraken/h2b/giulia/radial_analysis_output/follow/individual_spatiotemporal_heatmaps/400.400.10/wt_apop_wt_div/GV0813_Pos3_514_GFP_N_cells / /home/nathan/data/kraken/h2b/giulia/radial_analysis_output/follow/individual_spatiotemporal_heatmaps/400.400.10/wt_apop_wt_div/GV0813_Pos3_514_GFP_N_events saved out successfully',\n",
       "  '/home/nathan/data/kraken/h2b/giulia/radial_analysis_output/follow/individual_spatiotemporal_heatmaps/400.400.10/wt_apop_wt_div/GV0813_Pos3_599_GFP_N_cells / /home/nathan/data/kraken/h2b/giulia/radial_analysis_output/follow/individual_spatiotemporal_heatmaps/400.400.10/wt_apop_wt_div/GV0813_Pos3_599_GFP_N_events saved out successfully',\n",
       "  '/home/nathan/data/kraken/h2b/giulia/radial_analysis_output/follow/individual_spatiotemporal_heatmaps/400.400.10/wt_apop_wt_div/GV0813_Pos3_304_GFP_N_cells / /home/nathan/data/kraken/h2b/giulia/radial_analysis_output/follow/individual_spatiotemporal_heatmaps/400.400.10/wt_apop_wt_div/GV0813_Pos3_304_GFP_N_events saved out successfully',\n",
       "  '/home/nathan/data/kraken/h2b/giulia/radial_analysis_output/follow/individual_spatiotemporal_heatmaps/400.400.10/wt_apop_wt_div/GV0813_Pos3_535_GFP_N_cells / /home/nathan/data/kraken/h2b/giulia/radial_analysis_output/follow/individual_spatiotemporal_heatmaps/400.400.10/wt_apop_wt_div/GV0813_Pos3_535_GFP_N_events saved out successfully',\n",
       "  '/home/nathan/data/kraken/h2b/giulia/radial_analysis_output/follow/individual_spatiotemporal_heatmaps/400.400.10/wt_apop_wt_div/GV0813_Pos3_813_GFP_N_cells / /home/nathan/data/kraken/h2b/giulia/radial_analysis_output/follow/individual_spatiotemporal_heatmaps/400.400.10/wt_apop_wt_div/GV0813_Pos3_813_GFP_N_events saved out successfully',\n",
       "  '/home/nathan/data/kraken/h2b/giulia/radial_analysis_output/follow/individual_spatiotemporal_heatmaps/400.400.10/wt_apop_wt_div/GV0813_Pos3_1298_GFP_N_cells / /home/nathan/data/kraken/h2b/giulia/radial_analysis_output/follow/individual_spatiotemporal_heatmaps/400.400.10/wt_apop_wt_div/GV0813_Pos3_1298_GFP_N_events saved out successfully',\n",
       "  '/home/nathan/data/kraken/h2b/giulia/radial_analysis_output/follow/individual_spatiotemporal_heatmaps/400.400.10/wt_apop_wt_div/GV0813_Pos3_538_GFP_N_cells / /home/nathan/data/kraken/h2b/giulia/radial_analysis_output/follow/individual_spatiotemporal_heatmaps/400.400.10/wt_apop_wt_div/GV0813_Pos3_538_GFP_N_events saved out successfully',\n",
       "  '/home/nathan/data/kraken/h2b/giulia/radial_analysis_output/follow/individual_spatiotemporal_heatmaps/400.400.10/wt_apop_wt_div/GV0813_Pos3_122_GFP_N_cells / /home/nathan/data/kraken/h2b/giulia/radial_analysis_output/follow/individual_spatiotemporal_heatmaps/400.400.10/wt_apop_wt_div/GV0813_Pos3_122_GFP_N_events saved out successfully',\n",
       "  '/home/nathan/data/kraken/h2b/giulia/radial_analysis_output/follow/individual_spatiotemporal_heatmaps/400.400.10/wt_apop_wt_div/GV0798_Pos23_72_GFP_N_cells / /home/nathan/data/kraken/h2b/giulia/radial_analysis_output/follow/individual_spatiotemporal_heatmaps/400.400.10/wt_apop_wt_div/GV0798_Pos23_72_GFP_N_events saved out successfully',\n",
       "  '/home/nathan/data/kraken/h2b/giulia/radial_analysis_output/follow/individual_spatiotemporal_heatmaps/400.400.10/wt_apop_wt_div/GV0798_Pos23_261_GFP_N_cells / /home/nathan/data/kraken/h2b/giulia/radial_analysis_output/follow/individual_spatiotemporal_heatmaps/400.400.10/wt_apop_wt_div/GV0798_Pos23_261_GFP_N_events saved out successfully',\n",
       "  '/home/nathan/data/kraken/h2b/giulia/radial_analysis_output/follow/individual_spatiotemporal_heatmaps/400.400.10/wt_apop_wt_div/GV0798_Pos23_976_GFP_N_cells / /home/nathan/data/kraken/h2b/giulia/radial_analysis_output/follow/individual_spatiotemporal_heatmaps/400.400.10/wt_apop_wt_div/GV0798_Pos23_976_GFP_N_events saved out successfully',\n",
       "  '/home/nathan/data/kraken/h2b/giulia/radial_analysis_output/follow/individual_spatiotemporal_heatmaps/400.400.10/wt_apop_wt_div/GV0798_Pos23_536_GFP_N_cells / /home/nathan/data/kraken/h2b/giulia/radial_analysis_output/follow/individual_spatiotemporal_heatmaps/400.400.10/wt_apop_wt_div/GV0798_Pos23_536_GFP_N_events saved out successfully',\n",
       "  '/home/nathan/data/kraken/h2b/giulia/radial_analysis_output/follow/individual_spatiotemporal_heatmaps/400.400.10/wt_apop_wt_div/GV0807_Pos5_1493_GFP_N_cells / /home/nathan/data/kraken/h2b/giulia/radial_analysis_output/follow/individual_spatiotemporal_heatmaps/400.400.10/wt_apop_wt_div/GV0807_Pos5_1493_GFP_N_events saved out successfully',\n",
       "  '/home/nathan/data/kraken/h2b/giulia/radial_analysis_output/follow/individual_spatiotemporal_heatmaps/400.400.10/wt_apop_wt_div/GV0820_Pos3_1521_GFP_N_cells / /home/nathan/data/kraken/h2b/giulia/radial_analysis_output/follow/individual_spatiotemporal_heatmaps/400.400.10/wt_apop_wt_div/GV0820_Pos3_1521_GFP_N_events saved out successfully',\n",
       "  '/home/nathan/data/kraken/h2b/giulia/radial_analysis_output/follow/individual_spatiotemporal_heatmaps/400.400.10/wt_apop_wt_div/GV0820_Pos3_605_GFP_N_cells / /home/nathan/data/kraken/h2b/giulia/radial_analysis_output/follow/individual_spatiotemporal_heatmaps/400.400.10/wt_apop_wt_div/GV0820_Pos3_605_GFP_N_events saved out successfully',\n",
       "  '/home/nathan/data/kraken/h2b/giulia/radial_analysis_output/follow/individual_spatiotemporal_heatmaps/400.400.10/wt_apop_wt_div/GV0820_Pos3_1364_GFP_N_cells / /home/nathan/data/kraken/h2b/giulia/radial_analysis_output/follow/individual_spatiotemporal_heatmaps/400.400.10/wt_apop_wt_div/GV0820_Pos3_1364_GFP_N_events saved out successfully',\n",
       "  '/home/nathan/data/kraken/h2b/giulia/radial_analysis_output/follow/individual_spatiotemporal_heatmaps/400.400.10/wt_apop_wt_div/GV0820_Pos3_2143_GFP_N_cells / /home/nathan/data/kraken/h2b/giulia/radial_analysis_output/follow/individual_spatiotemporal_heatmaps/400.400.10/wt_apop_wt_div/GV0820_Pos3_2143_GFP_N_events saved out successfully',\n",
       "  '/home/nathan/data/kraken/h2b/giulia/radial_analysis_output/follow/individual_spatiotemporal_heatmaps/400.400.10/wt_apop_wt_div/GV0820_Pos3_2006_GFP_N_cells / /home/nathan/data/kraken/h2b/giulia/radial_analysis_output/follow/individual_spatiotemporal_heatmaps/400.400.10/wt_apop_wt_div/GV0820_Pos3_2006_GFP_N_events saved out successfully',\n",
       "  '/home/nathan/data/kraken/h2b/giulia/radial_analysis_output/follow/individual_spatiotemporal_heatmaps/400.400.10/wt_apop_wt_div/GV0820_Pos3_2146_GFP_N_cells / /home/nathan/data/kraken/h2b/giulia/radial_analysis_output/follow/individual_spatiotemporal_heatmaps/400.400.10/wt_apop_wt_div/GV0820_Pos3_2146_GFP_N_events saved out successfully',\n",
       "  '/home/nathan/data/kraken/h2b/giulia/radial_analysis_output/follow/individual_spatiotemporal_heatmaps/400.400.10/wt_apop_wt_div/GV0820_Pos3_1639_GFP_N_cells / /home/nathan/data/kraken/h2b/giulia/radial_analysis_output/follow/individual_spatiotemporal_heatmaps/400.400.10/wt_apop_wt_div/GV0820_Pos3_1639_GFP_N_events saved out successfully',\n",
       "  '/home/nathan/data/kraken/h2b/giulia/radial_analysis_output/follow/individual_spatiotemporal_heatmaps/400.400.10/wt_apop_wt_div/GV0796_Pos20_28_GFP_N_cells / /home/nathan/data/kraken/h2b/giulia/radial_analysis_output/follow/individual_spatiotemporal_heatmaps/400.400.10/wt_apop_wt_div/GV0796_Pos20_28_GFP_N_events saved out successfully',\n",
       "  '/home/nathan/data/kraken/h2b/giulia/radial_analysis_output/follow/individual_spatiotemporal_heatmaps/400.400.10/wt_apop_wt_div/GV0805_Pos3_682_GFP_N_cells / /home/nathan/data/kraken/h2b/giulia/radial_analysis_output/follow/individual_spatiotemporal_heatmaps/400.400.10/wt_apop_wt_div/GV0805_Pos3_682_GFP_N_events saved out successfully',\n",
       "  '/home/nathan/data/kraken/h2b/giulia/radial_analysis_output/follow/individual_spatiotemporal_heatmaps/400.400.10/wt_apop_wt_div/GV0805_Pos3_50_GFP_N_cells / /home/nathan/data/kraken/h2b/giulia/radial_analysis_output/follow/individual_spatiotemporal_heatmaps/400.400.10/wt_apop_wt_div/GV0805_Pos3_50_GFP_N_events saved out successfully',\n",
       "  '/home/nathan/data/kraken/h2b/giulia/radial_analysis_output/follow/individual_spatiotemporal_heatmaps/400.400.10/wt_apop_wt_div/GV0805_Pos3_4_GFP_N_cells / /home/nathan/data/kraken/h2b/giulia/radial_analysis_output/follow/individual_spatiotemporal_heatmaps/400.400.10/wt_apop_wt_div/GV0805_Pos3_4_GFP_N_events saved out successfully',\n",
       "  '/home/nathan/data/kraken/h2b/giulia/radial_analysis_output/follow/individual_spatiotemporal_heatmaps/400.400.10/wt_apop_wt_div/GV0806_Pos4_165_GFP_N_cells / /home/nathan/data/kraken/h2b/giulia/radial_analysis_output/follow/individual_spatiotemporal_heatmaps/400.400.10/wt_apop_wt_div/GV0806_Pos4_165_GFP_N_events saved out successfully',\n",
       "  '/home/nathan/data/kraken/h2b/giulia/radial_analysis_output/follow/individual_spatiotemporal_heatmaps/400.400.10/wt_apop_wt_div/GV0806_Pos4_1452_GFP_N_cells / /home/nathan/data/kraken/h2b/giulia/radial_analysis_output/follow/individual_spatiotemporal_heatmaps/400.400.10/wt_apop_wt_div/GV0806_Pos4_1452_GFP_N_events saved out successfully',\n",
       "  '/home/nathan/data/kraken/h2b/giulia/radial_analysis_output/follow/individual_spatiotemporal_heatmaps/400.400.10/wt_apop_wt_div/GV0806_Pos4_1471_GFP_N_cells / /home/nathan/data/kraken/h2b/giulia/radial_analysis_output/follow/individual_spatiotemporal_heatmaps/400.400.10/wt_apop_wt_div/GV0806_Pos4_1471_GFP_N_events saved out successfully',\n",
       "  '/home/nathan/data/kraken/h2b/giulia/radial_analysis_output/follow/individual_spatiotemporal_heatmaps/400.400.10/wt_apop_wt_div/GV0806_Pos4_944_GFP_N_cells / /home/nathan/data/kraken/h2b/giulia/radial_analysis_output/follow/individual_spatiotemporal_heatmaps/400.400.10/wt_apop_wt_div/GV0806_Pos4_944_GFP_N_events saved out successfully',\n",
       "  '/home/nathan/data/kraken/h2b/giulia/radial_analysis_output/follow/individual_spatiotemporal_heatmaps/400.400.10/wt_apop_wt_div/GV0806_Pos4_1258_GFP_N_cells / /home/nathan/data/kraken/h2b/giulia/radial_analysis_output/follow/individual_spatiotemporal_heatmaps/400.400.10/wt_apop_wt_div/GV0806_Pos4_1258_GFP_N_events saved out successfully',\n",
       "  '/home/nathan/data/kraken/h2b/giulia/radial_analysis_output/follow/individual_spatiotemporal_heatmaps/400.400.10/wt_apop_wt_div/GV0796_Pos3_1599_GFP_N_cells / /home/nathan/data/kraken/h2b/giulia/radial_analysis_output/follow/individual_spatiotemporal_heatmaps/400.400.10/wt_apop_wt_div/GV0796_Pos3_1599_GFP_N_events saved out successfully',\n",
       "  '/home/nathan/data/kraken/h2b/giulia/radial_analysis_output/follow/individual_spatiotemporal_heatmaps/400.400.10/wt_apop_wt_div/GV0797_Pos19_451_GFP_N_cells / /home/nathan/data/kraken/h2b/giulia/radial_analysis_output/follow/individual_spatiotemporal_heatmaps/400.400.10/wt_apop_wt_div/GV0797_Pos19_451_GFP_N_events saved out successfully',\n",
       "  '/home/nathan/data/kraken/h2b/giulia/radial_analysis_output/follow/individual_spatiotemporal_heatmaps/400.400.10/wt_apop_wt_div/GV0797_Pos19_546_GFP_N_cells / /home/nathan/data/kraken/h2b/giulia/radial_analysis_output/follow/individual_spatiotemporal_heatmaps/400.400.10/wt_apop_wt_div/GV0797_Pos19_546_GFP_N_events saved out successfully',\n",
       "  '/home/nathan/data/kraken/h2b/giulia/radial_analysis_output/follow/individual_spatiotemporal_heatmaps/400.400.10/wt_apop_wt_div/GV0797_Pos19_1229_GFP_N_cells / /home/nathan/data/kraken/h2b/giulia/radial_analysis_output/follow/individual_spatiotemporal_heatmaps/400.400.10/wt_apop_wt_div/GV0797_Pos19_1229_GFP_N_events saved out successfully',\n",
       "  '/home/nathan/data/kraken/h2b/giulia/radial_analysis_output/follow/individual_spatiotemporal_heatmaps/400.400.10/wt_apop_wt_div/GV0817_Pos12_363_GFP_N_cells / /home/nathan/data/kraken/h2b/giulia/radial_analysis_output/follow/individual_spatiotemporal_heatmaps/400.400.10/wt_apop_wt_div/GV0817_Pos12_363_GFP_N_events saved out successfully',\n",
       "  '/home/nathan/data/kraken/h2b/giulia/radial_analysis_output/follow/individual_spatiotemporal_heatmaps/400.400.10/wt_apop_wt_div/GV0817_Pos12_1193_GFP_N_cells / /home/nathan/data/kraken/h2b/giulia/radial_analysis_output/follow/individual_spatiotemporal_heatmaps/400.400.10/wt_apop_wt_div/GV0817_Pos12_1193_GFP_N_events saved out successfully',\n",
       "  '/home/nathan/data/kraken/h2b/giulia/radial_analysis_output/follow/individual_spatiotemporal_heatmaps/400.400.10/wt_apop_wt_div/GV0804_Pos4_1013_GFP_N_cells / /home/nathan/data/kraken/h2b/giulia/radial_analysis_output/follow/individual_spatiotemporal_heatmaps/400.400.10/wt_apop_wt_div/GV0804_Pos4_1013_GFP_N_events saved out successfully',\n",
       "  '/home/nathan/data/kraken/h2b/giulia/radial_analysis_output/follow/individual_spatiotemporal_heatmaps/400.400.10/wt_apop_wt_div/GV0804_Pos4_1774_GFP_N_cells / /home/nathan/data/kraken/h2b/giulia/radial_analysis_output/follow/individual_spatiotemporal_heatmaps/400.400.10/wt_apop_wt_div/GV0804_Pos4_1774_GFP_N_events saved out successfully',\n",
       "  '/home/nathan/data/kraken/h2b/giulia/radial_analysis_output/follow/individual_spatiotemporal_heatmaps/400.400.10/wt_apop_wt_div/GV0797_Pos4_290_GFP_N_cells / /home/nathan/data/kraken/h2b/giulia/radial_analysis_output/follow/individual_spatiotemporal_heatmaps/400.400.10/wt_apop_wt_div/GV0797_Pos4_290_GFP_N_events saved out successfully',\n",
       "  '/home/nathan/data/kraken/h2b/giulia/radial_analysis_output/follow/individual_spatiotemporal_heatmaps/400.400.10/wt_apop_wt_div/GV0797_Pos4_1397_GFP_N_cells / /home/nathan/data/kraken/h2b/giulia/radial_analysis_output/follow/individual_spatiotemporal_heatmaps/400.400.10/wt_apop_wt_div/GV0797_Pos4_1397_GFP_N_events saved out successfully',\n",
       "  '/home/nathan/data/kraken/h2b/giulia/radial_analysis_output/follow/individual_spatiotemporal_heatmaps/400.400.10/wt_apop_wt_div/GV0797_Pos4_825_GFP_N_cells / /home/nathan/data/kraken/h2b/giulia/radial_analysis_output/follow/individual_spatiotemporal_heatmaps/400.400.10/wt_apop_wt_div/GV0797_Pos4_825_GFP_N_events saved out successfully',\n",
       "  '/home/nathan/data/kraken/h2b/giulia/radial_analysis_output/follow/individual_spatiotemporal_heatmaps/400.400.10/wt_apop_wt_div/GV0797_Pos4_1823_GFP_N_cells / /home/nathan/data/kraken/h2b/giulia/radial_analysis_output/follow/individual_spatiotemporal_heatmaps/400.400.10/wt_apop_wt_div/GV0797_Pos4_1823_GFP_N_events saved out successfully',\n",
       "  '/home/nathan/data/kraken/h2b/giulia/radial_analysis_output/follow/individual_spatiotemporal_heatmaps/400.400.10/wt_apop_wt_div/GV0797_Pos4_1006_GFP_N_cells / /home/nathan/data/kraken/h2b/giulia/radial_analysis_output/follow/individual_spatiotemporal_heatmaps/400.400.10/wt_apop_wt_div/GV0797_Pos4_1006_GFP_N_events saved out successfully',\n",
       "  '/home/nathan/data/kraken/h2b/giulia/radial_analysis_output/follow/individual_spatiotemporal_heatmaps/400.400.10/wt_apop_wt_div/GV0797_Pos4_1487_GFP_N_cells / /home/nathan/data/kraken/h2b/giulia/radial_analysis_output/follow/individual_spatiotemporal_heatmaps/400.400.10/wt_apop_wt_div/GV0797_Pos4_1487_GFP_N_events saved out successfully',\n",
       "  '/home/nathan/data/kraken/h2b/giulia/radial_analysis_output/follow/individual_spatiotemporal_heatmaps/400.400.10/wt_apop_wt_div/GV0797_Pos4_1486_GFP_N_cells / /home/nathan/data/kraken/h2b/giulia/radial_analysis_output/follow/individual_spatiotemporal_heatmaps/400.400.10/wt_apop_wt_div/GV0797_Pos4_1486_GFP_N_events saved out successfully',\n",
       "  '/home/nathan/data/kraken/h2b/giulia/radial_analysis_output/follow/individual_spatiotemporal_heatmaps/400.400.10/wt_apop_wt_div/GV0797_Pos4_2398_GFP_N_cells / /home/nathan/data/kraken/h2b/giulia/radial_analysis_output/follow/individual_spatiotemporal_heatmaps/400.400.10/wt_apop_wt_div/GV0797_Pos4_2398_GFP_N_events saved out successfully',\n",
       "  '/home/nathan/data/kraken/h2b/giulia/radial_analysis_output/follow/individual_spatiotemporal_heatmaps/400.400.10/wt_apop_wt_div/GV0797_Pos4_2468_GFP_N_cells / /home/nathan/data/kraken/h2b/giulia/radial_analysis_output/follow/individual_spatiotemporal_heatmaps/400.400.10/wt_apop_wt_div/GV0797_Pos4_2468_GFP_N_events saved out successfully',\n",
       "  '/home/nathan/data/kraken/h2b/giulia/radial_analysis_output/follow/individual_spatiotemporal_heatmaps/400.400.10/wt_apop_wt_div/GV0814_Pos0_578_GFP_N_cells / /home/nathan/data/kraken/h2b/giulia/radial_analysis_output/follow/individual_spatiotemporal_heatmaps/400.400.10/wt_apop_wt_div/GV0814_Pos0_578_GFP_N_events saved out successfully',\n",
       "  '/home/nathan/data/kraken/h2b/giulia/radial_analysis_output/follow/individual_spatiotemporal_heatmaps/400.400.10/wt_apop_wt_div/GV0814_Pos0_597_GFP_N_cells / /home/nathan/data/kraken/h2b/giulia/radial_analysis_output/follow/individual_spatiotemporal_heatmaps/400.400.10/wt_apop_wt_div/GV0814_Pos0_597_GFP_N_events saved out successfully',\n",
       "  '/home/nathan/data/kraken/h2b/giulia/radial_analysis_output/follow/individual_spatiotemporal_heatmaps/400.400.10/wt_apop_wt_div/GV0814_Pos0_452_GFP_N_cells / /home/nathan/data/kraken/h2b/giulia/radial_analysis_output/follow/individual_spatiotemporal_heatmaps/400.400.10/wt_apop_wt_div/GV0814_Pos0_452_GFP_N_events saved out successfully',\n",
       "  '/home/nathan/data/kraken/h2b/giulia/radial_analysis_output/follow/individual_spatiotemporal_heatmaps/400.400.10/wt_apop_wt_div/GV0814_Pos0_1322_GFP_N_cells / /home/nathan/data/kraken/h2b/giulia/radial_analysis_output/follow/individual_spatiotemporal_heatmaps/400.400.10/wt_apop_wt_div/GV0814_Pos0_1322_GFP_N_events saved out successfully',\n",
       "  '/home/nathan/data/kraken/h2b/giulia/radial_analysis_output/follow/individual_spatiotemporal_heatmaps/400.400.10/wt_apop_wt_div/GV0814_Pos0_453_GFP_N_cells / /home/nathan/data/kraken/h2b/giulia/radial_analysis_output/follow/individual_spatiotemporal_heatmaps/400.400.10/wt_apop_wt_div/GV0814_Pos0_453_GFP_N_events saved out successfully',\n",
       "  '/home/nathan/data/kraken/h2b/giulia/radial_analysis_output/follow/individual_spatiotemporal_heatmaps/400.400.10/wt_apop_wt_div/GV0814_Pos0_26_GFP_N_cells / /home/nathan/data/kraken/h2b/giulia/radial_analysis_output/follow/individual_spatiotemporal_heatmaps/400.400.10/wt_apop_wt_div/GV0814_Pos0_26_GFP_N_events saved out successfully',\n",
       "  '/home/nathan/data/kraken/h2b/giulia/radial_analysis_output/follow/individual_spatiotemporal_heatmaps/400.400.10/wt_apop_wt_div/GV0814_Pos0_357_GFP_N_cells / /home/nathan/data/kraken/h2b/giulia/radial_analysis_output/follow/individual_spatiotemporal_heatmaps/400.400.10/wt_apop_wt_div/GV0814_Pos0_357_GFP_N_events saved out successfully',\n",
       "  '/home/nathan/data/kraken/h2b/giulia/radial_analysis_output/follow/individual_spatiotemporal_heatmaps/400.400.10/wt_apop_wt_div/GV0800_Pos15_91_GFP_N_cells / /home/nathan/data/kraken/h2b/giulia/radial_analysis_output/follow/individual_spatiotemporal_heatmaps/400.400.10/wt_apop_wt_div/GV0800_Pos15_91_GFP_N_events saved out successfully',\n",
       "  '/home/nathan/data/kraken/h2b/giulia/radial_analysis_output/follow/individual_spatiotemporal_heatmaps/400.400.10/wt_apop_wt_div/GV0800_Pos15_1412_GFP_N_cells / /home/nathan/data/kraken/h2b/giulia/radial_analysis_output/follow/individual_spatiotemporal_heatmaps/400.400.10/wt_apop_wt_div/GV0800_Pos15_1412_GFP_N_events saved out successfully',\n",
       "  '/home/nathan/data/kraken/h2b/giulia/radial_analysis_output/follow/individual_spatiotemporal_heatmaps/400.400.10/wt_apop_wt_div/GV0798_Pos6_11_GFP_N_cells / /home/nathan/data/kraken/h2b/giulia/radial_analysis_output/follow/individual_spatiotemporal_heatmaps/400.400.10/wt_apop_wt_div/GV0798_Pos6_11_GFP_N_events saved out successfully',\n",
       "  '/home/nathan/data/kraken/h2b/giulia/radial_analysis_output/follow/individual_spatiotemporal_heatmaps/400.400.10/wt_apop_wt_div/GV0820_Pos0_35_GFP_N_cells / /home/nathan/data/kraken/h2b/giulia/radial_analysis_output/follow/individual_spatiotemporal_heatmaps/400.400.10/wt_apop_wt_div/GV0820_Pos0_35_GFP_N_events saved out successfully',\n",
       "  '/home/nathan/data/kraken/h2b/giulia/radial_analysis_output/follow/individual_spatiotemporal_heatmaps/400.400.10/wt_apop_wt_div/GV0820_Pos0_28_GFP_N_cells / /home/nathan/data/kraken/h2b/giulia/radial_analysis_output/follow/individual_spatiotemporal_heatmaps/400.400.10/wt_apop_wt_div/GV0820_Pos0_28_GFP_N_events saved out successfully',\n",
       "  '/home/nathan/data/kraken/h2b/giulia/radial_analysis_output/follow/individual_spatiotemporal_heatmaps/400.400.10/wt_apop_wt_div/GV0820_Pos0_930_GFP_N_cells / /home/nathan/data/kraken/h2b/giulia/radial_analysis_output/follow/individual_spatiotemporal_heatmaps/400.400.10/wt_apop_wt_div/GV0820_Pos0_930_GFP_N_events saved out successfully',\n",
       "  '/home/nathan/data/kraken/h2b/giulia/radial_analysis_output/follow/individual_spatiotemporal_heatmaps/400.400.10/wt_apop_wt_div/GV0820_Pos0_739_GFP_N_cells / /home/nathan/data/kraken/h2b/giulia/radial_analysis_output/follow/individual_spatiotemporal_heatmaps/400.400.10/wt_apop_wt_div/GV0820_Pos0_739_GFP_N_events saved out successfully',\n",
       "  '/home/nathan/data/kraken/h2b/giulia/radial_analysis_output/follow/individual_spatiotemporal_heatmaps/400.400.10/wt_apop_wt_div/GV0820_Pos0_501_GFP_N_cells / /home/nathan/data/kraken/h2b/giulia/radial_analysis_output/follow/individual_spatiotemporal_heatmaps/400.400.10/wt_apop_wt_div/GV0820_Pos0_501_GFP_N_events saved out successfully',\n",
       "  '/home/nathan/data/kraken/h2b/giulia/radial_analysis_output/follow/individual_spatiotemporal_heatmaps/400.400.10/wt_apop_wt_div/GV0820_Pos0_19_GFP_N_cells / /home/nathan/data/kraken/h2b/giulia/radial_analysis_output/follow/individual_spatiotemporal_heatmaps/400.400.10/wt_apop_wt_div/GV0820_Pos0_19_GFP_N_events saved out successfully',\n",
       "  '/home/nathan/data/kraken/h2b/giulia/radial_analysis_output/follow/individual_spatiotemporal_heatmaps/400.400.10/wt_apop_wt_div/GV0820_Pos0_589_GFP_N_cells / /home/nathan/data/kraken/h2b/giulia/radial_analysis_output/follow/individual_spatiotemporal_heatmaps/400.400.10/wt_apop_wt_div/GV0820_Pos0_589_GFP_N_events saved out successfully',\n",
       "  '/home/nathan/data/kraken/h2b/giulia/radial_analysis_output/follow/individual_spatiotemporal_heatmaps/400.400.10/wt_apop_wt_div/GV0820_Pos0_709_GFP_N_cells / /home/nathan/data/kraken/h2b/giulia/radial_analysis_output/follow/individual_spatiotemporal_heatmaps/400.400.10/wt_apop_wt_div/GV0820_Pos0_709_GFP_N_events saved out successfully',\n",
       "  '/home/nathan/data/kraken/h2b/giulia/radial_analysis_output/follow/individual_spatiotemporal_heatmaps/400.400.10/wt_apop_wt_div/GV0820_Pos0_1329_GFP_N_cells / /home/nathan/data/kraken/h2b/giulia/radial_analysis_output/follow/individual_spatiotemporal_heatmaps/400.400.10/wt_apop_wt_div/GV0820_Pos0_1329_GFP_N_events saved out successfully',\n",
       "  '/home/nathan/data/kraken/h2b/giulia/radial_analysis_output/follow/individual_spatiotemporal_heatmaps/400.400.10/wt_apop_wt_div/GV0820_Pos0_854_GFP_N_cells / /home/nathan/data/kraken/h2b/giulia/radial_analysis_output/follow/individual_spatiotemporal_heatmaps/400.400.10/wt_apop_wt_div/GV0820_Pos0_854_GFP_N_events saved out successfully',\n",
       "  '/home/nathan/data/kraken/h2b/giulia/radial_analysis_output/follow/individual_spatiotemporal_heatmaps/400.400.10/wt_apop_wt_div/GV0820_Pos0_784_GFP_N_cells / /home/nathan/data/kraken/h2b/giulia/radial_analysis_output/follow/individual_spatiotemporal_heatmaps/400.400.10/wt_apop_wt_div/GV0820_Pos0_784_GFP_N_events saved out successfully',\n",
       "  '/home/nathan/data/kraken/h2b/giulia/radial_analysis_output/follow/individual_spatiotemporal_heatmaps/400.400.10/wt_apop_wt_div/GV0820_Pos0_1837_GFP_N_cells / /home/nathan/data/kraken/h2b/giulia/radial_analysis_output/follow/individual_spatiotemporal_heatmaps/400.400.10/wt_apop_wt_div/GV0820_Pos0_1837_GFP_N_events saved out successfully',\n",
       "  '/home/nathan/data/kraken/h2b/giulia/radial_analysis_output/follow/individual_spatiotemporal_heatmaps/400.400.10/wt_apop_wt_div/GV0820_Pos0_2191_GFP_N_cells / /home/nathan/data/kraken/h2b/giulia/radial_analysis_output/follow/individual_spatiotemporal_heatmaps/400.400.10/wt_apop_wt_div/GV0820_Pos0_2191_GFP_N_events saved out successfully',\n",
       "  '/home/nathan/data/kraken/h2b/giulia/radial_analysis_output/follow/individual_spatiotemporal_heatmaps/400.400.10/wt_apop_wt_div/GV0820_Pos0_710_GFP_N_cells / /home/nathan/data/kraken/h2b/giulia/radial_analysis_output/follow/individual_spatiotemporal_heatmaps/400.400.10/wt_apop_wt_div/GV0820_Pos0_710_GFP_N_events saved out successfully',\n",
       "  '/home/nathan/data/kraken/h2b/giulia/radial_analysis_output/follow/individual_spatiotemporal_heatmaps/400.400.10/wt_apop_wt_div/GV0820_Pos0_1231_GFP_N_cells / /home/nathan/data/kraken/h2b/giulia/radial_analysis_output/follow/individual_spatiotemporal_heatmaps/400.400.10/wt_apop_wt_div/GV0820_Pos0_1231_GFP_N_events saved out successfully',\n",
       "  '/home/nathan/data/kraken/h2b/giulia/radial_analysis_output/follow/individual_spatiotemporal_heatmaps/400.400.10/wt_apop_wt_div/GV0798_Pos18_353_GFP_N_cells / /home/nathan/data/kraken/h2b/giulia/radial_analysis_output/follow/individual_spatiotemporal_heatmaps/400.400.10/wt_apop_wt_div/GV0798_Pos18_353_GFP_N_events saved out successfully',\n",
       "  '/home/nathan/data/kraken/h2b/giulia/radial_analysis_output/follow/individual_spatiotemporal_heatmaps/400.400.10/wt_apop_wt_div/GV0815_Pos12_1143_GFP_N_cells / /home/nathan/data/kraken/h2b/giulia/radial_analysis_output/follow/individual_spatiotemporal_heatmaps/400.400.10/wt_apop_wt_div/GV0815_Pos12_1143_GFP_N_events saved out successfully',\n",
       "  '/home/nathan/data/kraken/h2b/giulia/radial_analysis_output/follow/individual_spatiotemporal_heatmaps/400.400.10/wt_apop_wt_div/GV0815_Pos12_1142_GFP_N_cells / /home/nathan/data/kraken/h2b/giulia/radial_analysis_output/follow/individual_spatiotemporal_heatmaps/400.400.10/wt_apop_wt_div/GV0815_Pos12_1142_GFP_N_events saved out successfully',\n",
       "  '/home/nathan/data/kraken/h2b/giulia/radial_analysis_output/follow/individual_spatiotemporal_heatmaps/400.400.10/wt_apop_wt_div/GV0815_Pos12_799_GFP_N_cells / /home/nathan/data/kraken/h2b/giulia/radial_analysis_output/follow/individual_spatiotemporal_heatmaps/400.400.10/wt_apop_wt_div/GV0815_Pos12_799_GFP_N_events saved out successfully',\n",
       "  '/home/nathan/data/kraken/h2b/giulia/radial_analysis_output/follow/individual_spatiotemporal_heatmaps/400.400.10/wt_apop_wt_div/GV0815_Pos12_1521_GFP_N_cells / /home/nathan/data/kraken/h2b/giulia/radial_analysis_output/follow/individual_spatiotemporal_heatmaps/400.400.10/wt_apop_wt_div/GV0815_Pos12_1521_GFP_N_events saved out successfully',\n",
       "  '/home/nathan/data/kraken/h2b/giulia/radial_analysis_output/follow/individual_spatiotemporal_heatmaps/400.400.10/wt_apop_wt_div/GV0815_Pos12_817_GFP_N_cells / /home/nathan/data/kraken/h2b/giulia/radial_analysis_output/follow/individual_spatiotemporal_heatmaps/400.400.10/wt_apop_wt_div/GV0815_Pos12_817_GFP_N_events saved out successfully',\n",
       "  '/home/nathan/data/kraken/h2b/giulia/radial_analysis_output/follow/individual_spatiotemporal_heatmaps/400.400.10/wt_apop_wt_div/GV0815_Pos12_2169_GFP_N_cells / /home/nathan/data/kraken/h2b/giulia/radial_analysis_output/follow/individual_spatiotemporal_heatmaps/400.400.10/wt_apop_wt_div/GV0815_Pos12_2169_GFP_N_events saved out successfully',\n",
       "  '/home/nathan/data/kraken/h2b/giulia/radial_analysis_output/follow/individual_spatiotemporal_heatmaps/400.400.10/wt_apop_wt_div/GV0813_Pos2_589_GFP_N_cells / /home/nathan/data/kraken/h2b/giulia/radial_analysis_output/follow/individual_spatiotemporal_heatmaps/400.400.10/wt_apop_wt_div/GV0813_Pos2_589_GFP_N_events saved out successfully',\n",
       "  '/home/nathan/data/kraken/h2b/giulia/radial_analysis_output/follow/individual_spatiotemporal_heatmaps/400.400.10/wt_apop_wt_div/GV0813_Pos2_717_GFP_N_cells / /home/nathan/data/kraken/h2b/giulia/radial_analysis_output/follow/individual_spatiotemporal_heatmaps/400.400.10/wt_apop_wt_div/GV0813_Pos2_717_GFP_N_events saved out successfully',\n",
       "  '/home/nathan/data/kraken/h2b/giulia/radial_analysis_output/follow/individual_spatiotemporal_heatmaps/400.400.10/wt_apop_wt_div/GV0819_Pos1_34_GFP_N_cells / /home/nathan/data/kraken/h2b/giulia/radial_analysis_output/follow/individual_spatiotemporal_heatmaps/400.400.10/wt_apop_wt_div/GV0819_Pos1_34_GFP_N_events saved out successfully',\n",
       "  '/home/nathan/data/kraken/h2b/giulia/radial_analysis_output/follow/individual_spatiotemporal_heatmaps/400.400.10/wt_apop_wt_div/GV0819_Pos1_425_GFP_N_cells / /home/nathan/data/kraken/h2b/giulia/radial_analysis_output/follow/individual_spatiotemporal_heatmaps/400.400.10/wt_apop_wt_div/GV0819_Pos1_425_GFP_N_events saved out successfully',\n",
       "  '/home/nathan/data/kraken/h2b/giulia/radial_analysis_output/follow/individual_spatiotemporal_heatmaps/400.400.10/wt_apop_wt_div/GV0819_Pos1_653_GFP_N_cells / /home/nathan/data/kraken/h2b/giulia/radial_analysis_output/follow/individual_spatiotemporal_heatmaps/400.400.10/wt_apop_wt_div/GV0819_Pos1_653_GFP_N_events saved out successfully',\n",
       "  '/home/nathan/data/kraken/h2b/giulia/radial_analysis_output/follow/individual_spatiotemporal_heatmaps/400.400.10/wt_apop_wt_div/GV0819_Pos1_739_GFP_N_cells / /home/nathan/data/kraken/h2b/giulia/radial_analysis_output/follow/individual_spatiotemporal_heatmaps/400.400.10/wt_apop_wt_div/GV0819_Pos1_739_GFP_N_events saved out successfully',\n",
       "  '/home/nathan/data/kraken/h2b/giulia/radial_analysis_output/follow/individual_spatiotemporal_heatmaps/400.400.10/wt_apop_wt_div/GV0819_Pos1_1068_GFP_N_cells / /home/nathan/data/kraken/h2b/giulia/radial_analysis_output/follow/individual_spatiotemporal_heatmaps/400.400.10/wt_apop_wt_div/GV0819_Pos1_1068_GFP_N_events saved out successfully',\n",
       "  '/home/nathan/data/kraken/h2b/giulia/radial_analysis_output/follow/individual_spatiotemporal_heatmaps/400.400.10/wt_apop_wt_div/GV0819_Pos1_941_GFP_N_cells / /home/nathan/data/kraken/h2b/giulia/radial_analysis_output/follow/individual_spatiotemporal_heatmaps/400.400.10/wt_apop_wt_div/GV0819_Pos1_941_GFP_N_events saved out successfully',\n",
       "  '/home/nathan/data/kraken/h2b/giulia/radial_analysis_output/follow/individual_spatiotemporal_heatmaps/400.400.10/wt_apop_wt_div/GV0819_Pos1_942_GFP_N_cells / /home/nathan/data/kraken/h2b/giulia/radial_analysis_output/follow/individual_spatiotemporal_heatmaps/400.400.10/wt_apop_wt_div/GV0819_Pos1_942_GFP_N_events saved out successfully',\n",
       "  '/home/nathan/data/kraken/h2b/giulia/radial_analysis_output/follow/individual_spatiotemporal_heatmaps/400.400.10/wt_apop_wt_div/GV0819_Pos1_1745_GFP_N_cells / /home/nathan/data/kraken/h2b/giulia/radial_analysis_output/follow/individual_spatiotemporal_heatmaps/400.400.10/wt_apop_wt_div/GV0819_Pos1_1745_GFP_N_events saved out successfully',\n",
       "  '/home/nathan/data/kraken/h2b/giulia/radial_analysis_output/follow/individual_spatiotemporal_heatmaps/400.400.10/wt_apop_wt_div/GV0819_Pos1_798_GFP_N_cells / /home/nathan/data/kraken/h2b/giulia/radial_analysis_output/follow/individual_spatiotemporal_heatmaps/400.400.10/wt_apop_wt_div/GV0819_Pos1_798_GFP_N_events saved out successfully',\n",
       "  '/home/nathan/data/kraken/h2b/giulia/radial_analysis_output/follow/individual_spatiotemporal_heatmaps/400.400.10/wt_apop_wt_div/GV0816_Pos14_7_GFP_N_cells / /home/nathan/data/kraken/h2b/giulia/radial_analysis_output/follow/individual_spatiotemporal_heatmaps/400.400.10/wt_apop_wt_div/GV0816_Pos14_7_GFP_N_events saved out successfully',\n",
       "  '/home/nathan/data/kraken/h2b/giulia/radial_analysis_output/follow/individual_spatiotemporal_heatmaps/400.400.10/wt_apop_wt_div/GV0816_Pos14_537_GFP_N_cells / /home/nathan/data/kraken/h2b/giulia/radial_analysis_output/follow/individual_spatiotemporal_heatmaps/400.400.10/wt_apop_wt_div/GV0816_Pos14_537_GFP_N_events saved out successfully',\n",
       "  '/home/nathan/data/kraken/h2b/giulia/radial_analysis_output/follow/individual_spatiotemporal_heatmaps/400.400.10/wt_apop_wt_div/GV0816_Pos14_496_GFP_N_cells / /home/nathan/data/kraken/h2b/giulia/radial_analysis_output/follow/individual_spatiotemporal_heatmaps/400.400.10/wt_apop_wt_div/GV0816_Pos14_496_GFP_N_events saved out successfully',\n",
       "  '/home/nathan/data/kraken/h2b/giulia/radial_analysis_output/follow/individual_spatiotemporal_heatmaps/400.400.10/wt_apop_wt_div/GV0800_Pos7_278_GFP_N_cells / /home/nathan/data/kraken/h2b/giulia/radial_analysis_output/follow/individual_spatiotemporal_heatmaps/400.400.10/wt_apop_wt_div/GV0800_Pos7_278_GFP_N_events saved out successfully',\n",
       "  '/home/nathan/data/kraken/h2b/giulia/radial_analysis_output/follow/individual_spatiotemporal_heatmaps/400.400.10/wt_apop_wt_div/GV0800_Pos7_206_GFP_N_cells / /home/nathan/data/kraken/h2b/giulia/radial_analysis_output/follow/individual_spatiotemporal_heatmaps/400.400.10/wt_apop_wt_div/GV0800_Pos7_206_GFP_N_events saved out successfully',\n",
       "  '/home/nathan/data/kraken/h2b/giulia/radial_analysis_output/follow/individual_spatiotemporal_heatmaps/400.400.10/wt_apop_wt_div/GV0800_Pos7_511_GFP_N_cells / /home/nathan/data/kraken/h2b/giulia/radial_analysis_output/follow/individual_spatiotemporal_heatmaps/400.400.10/wt_apop_wt_div/GV0800_Pos7_511_GFP_N_events saved out successfully',\n",
       "  '/home/nathan/data/kraken/h2b/giulia/radial_analysis_output/follow/individual_spatiotemporal_heatmaps/400.400.10/wt_apop_wt_div/GV0800_Pos7_397_GFP_N_cells / /home/nathan/data/kraken/h2b/giulia/radial_analysis_output/follow/individual_spatiotemporal_heatmaps/400.400.10/wt_apop_wt_div/GV0800_Pos7_397_GFP_N_events saved out successfully',\n",
       "  '/home/nathan/data/kraken/h2b/giulia/radial_analysis_output/follow/individual_spatiotemporal_heatmaps/400.400.10/wt_apop_wt_div/GV0800_Pos7_445_GFP_N_cells / /home/nathan/data/kraken/h2b/giulia/radial_analysis_output/follow/individual_spatiotemporal_heatmaps/400.400.10/wt_apop_wt_div/GV0800_Pos7_445_GFP_N_events saved out successfully',\n",
       "  '/home/nathan/data/kraken/h2b/giulia/radial_analysis_output/follow/individual_spatiotemporal_heatmaps/400.400.10/wt_apop_wt_div/GV0800_Pos7_921_GFP_N_cells / /home/nathan/data/kraken/h2b/giulia/radial_analysis_output/follow/individual_spatiotemporal_heatmaps/400.400.10/wt_apop_wt_div/GV0800_Pos7_921_GFP_N_events saved out successfully',\n",
       "  '/home/nathan/data/kraken/h2b/giulia/radial_analysis_output/follow/individual_spatiotemporal_heatmaps/400.400.10/wt_apop_wt_div/GV0800_Pos7_2097_GFP_N_cells / /home/nathan/data/kraken/h2b/giulia/radial_analysis_output/follow/individual_spatiotemporal_heatmaps/400.400.10/wt_apop_wt_div/GV0800_Pos7_2097_GFP_N_events saved out successfully',\n",
       "  '/home/nathan/data/kraken/h2b/giulia/radial_analysis_output/follow/individual_spatiotemporal_heatmaps/400.400.10/wt_apop_wt_div/GV0800_Pos7_1616_GFP_N_cells / /home/nathan/data/kraken/h2b/giulia/radial_analysis_output/follow/individual_spatiotemporal_heatmaps/400.400.10/wt_apop_wt_div/GV0800_Pos7_1616_GFP_N_events saved out successfully',\n",
       "  '/home/nathan/data/kraken/h2b/giulia/radial_analysis_output/follow/individual_spatiotemporal_heatmaps/400.400.10/wt_apop_wt_div/GV0800_Pos7_1160_GFP_N_cells / /home/nathan/data/kraken/h2b/giulia/radial_analysis_output/follow/individual_spatiotemporal_heatmaps/400.400.10/wt_apop_wt_div/GV0800_Pos7_1160_GFP_N_events saved out successfully',\n",
       "  '/home/nathan/data/kraken/h2b/giulia/radial_analysis_output/follow/individual_spatiotemporal_heatmaps/400.400.10/wt_apop_wt_div/GV0797_Pos21_93_GFP_N_cells / /home/nathan/data/kraken/h2b/giulia/radial_analysis_output/follow/individual_spatiotemporal_heatmaps/400.400.10/wt_apop_wt_div/GV0797_Pos21_93_GFP_N_events saved out successfully',\n",
       "  '/home/nathan/data/kraken/h2b/giulia/radial_analysis_output/follow/individual_spatiotemporal_heatmaps/400.400.10/wt_apop_wt_div/GV0797_Pos21_77_GFP_N_cells / /home/nathan/data/kraken/h2b/giulia/radial_analysis_output/follow/individual_spatiotemporal_heatmaps/400.400.10/wt_apop_wt_div/GV0797_Pos21_77_GFP_N_events saved out successfully',\n",
       "  '/home/nathan/data/kraken/h2b/giulia/radial_analysis_output/follow/individual_spatiotemporal_heatmaps/400.400.10/wt_apop_wt_div/GV0797_Pos21_732_GFP_N_cells / /home/nathan/data/kraken/h2b/giulia/radial_analysis_output/follow/individual_spatiotemporal_heatmaps/400.400.10/wt_apop_wt_div/GV0797_Pos21_732_GFP_N_events saved out successfully',\n",
       "  '/home/nathan/data/kraken/h2b/giulia/radial_analysis_output/follow/individual_spatiotemporal_heatmaps/400.400.10/wt_apop_wt_div/GV0797_Pos21_5_GFP_N_cells / /home/nathan/data/kraken/h2b/giulia/radial_analysis_output/follow/individual_spatiotemporal_heatmaps/400.400.10/wt_apop_wt_div/GV0797_Pos21_5_GFP_N_events saved out successfully',\n",
       "  '/home/nathan/data/kraken/h2b/giulia/radial_analysis_output/follow/individual_spatiotemporal_heatmaps/400.400.10/wt_apop_wt_div/GV0797_Pos21_7_GFP_N_cells / /home/nathan/data/kraken/h2b/giulia/radial_analysis_output/follow/individual_spatiotemporal_heatmaps/400.400.10/wt_apop_wt_div/GV0797_Pos21_7_GFP_N_events saved out successfully',\n",
       "  '/home/nathan/data/kraken/h2b/giulia/radial_analysis_output/follow/individual_spatiotemporal_heatmaps/400.400.10/wt_apop_wt_div/GV0797_Pos21_101_GFP_N_cells / /home/nathan/data/kraken/h2b/giulia/radial_analysis_output/follow/individual_spatiotemporal_heatmaps/400.400.10/wt_apop_wt_div/GV0797_Pos21_101_GFP_N_events saved out successfully',\n",
       "  '/home/nathan/data/kraken/h2b/giulia/radial_analysis_output/follow/individual_spatiotemporal_heatmaps/400.400.10/wt_apop_wt_div/GV0797_Pos21_94_GFP_N_cells / /home/nathan/data/kraken/h2b/giulia/radial_analysis_output/follow/individual_spatiotemporal_heatmaps/400.400.10/wt_apop_wt_div/GV0797_Pos21_94_GFP_N_events saved out successfully',\n",
       "  '/home/nathan/data/kraken/h2b/giulia/radial_analysis_output/follow/individual_spatiotemporal_heatmaps/400.400.10/wt_apop_wt_div/GV0797_Pos21_787_GFP_N_cells / /home/nathan/data/kraken/h2b/giulia/radial_analysis_output/follow/individual_spatiotemporal_heatmaps/400.400.10/wt_apop_wt_div/GV0797_Pos21_787_GFP_N_events saved out successfully',\n",
       "  '/home/nathan/data/kraken/h2b/giulia/radial_analysis_output/follow/individual_spatiotemporal_heatmaps/400.400.10/wt_apop_wt_div/GV0797_Pos21_1545_GFP_N_cells / /home/nathan/data/kraken/h2b/giulia/radial_analysis_output/follow/individual_spatiotemporal_heatmaps/400.400.10/wt_apop_wt_div/GV0797_Pos21_1545_GFP_N_events saved out successfully',\n",
       "  '/home/nathan/data/kraken/h2b/giulia/radial_analysis_output/follow/individual_spatiotemporal_heatmaps/400.400.10/wt_apop_wt_div/GV0797_Pos21_1544_GFP_N_cells / /home/nathan/data/kraken/h2b/giulia/radial_analysis_output/follow/individual_spatiotemporal_heatmaps/400.400.10/wt_apop_wt_div/GV0797_Pos21_1544_GFP_N_events saved out successfully',\n",
       "  '/home/nathan/data/kraken/h2b/giulia/radial_analysis_output/follow/individual_spatiotemporal_heatmaps/400.400.10/wt_apop_wt_div/GV0815_Pos23_185_GFP_N_cells / /home/nathan/data/kraken/h2b/giulia/radial_analysis_output/follow/individual_spatiotemporal_heatmaps/400.400.10/wt_apop_wt_div/GV0815_Pos23_185_GFP_N_events saved out successfully',\n",
       "  '/home/nathan/data/kraken/h2b/giulia/radial_analysis_output/follow/individual_spatiotemporal_heatmaps/400.400.10/wt_apop_wt_div/GV0815_Pos23_634_GFP_N_cells / /home/nathan/data/kraken/h2b/giulia/radial_analysis_output/follow/individual_spatiotemporal_heatmaps/400.400.10/wt_apop_wt_div/GV0815_Pos23_634_GFP_N_events saved out successfully',\n",
       "  '/home/nathan/data/kraken/h2b/giulia/radial_analysis_output/follow/individual_spatiotemporal_heatmaps/400.400.10/wt_apop_wt_div/GV0820_Pos2_406_GFP_N_cells / /home/nathan/data/kraken/h2b/giulia/radial_analysis_output/follow/individual_spatiotemporal_heatmaps/400.400.10/wt_apop_wt_div/GV0820_Pos2_406_GFP_N_events saved out successfully',\n",
       "  '/home/nathan/data/kraken/h2b/giulia/radial_analysis_output/follow/individual_spatiotemporal_heatmaps/400.400.10/wt_apop_wt_div/GV0820_Pos2_1232_GFP_N_cells / /home/nathan/data/kraken/h2b/giulia/radial_analysis_output/follow/individual_spatiotemporal_heatmaps/400.400.10/wt_apop_wt_div/GV0820_Pos2_1232_GFP_N_events saved out successfully',\n",
       "  '/home/nathan/data/kraken/h2b/giulia/radial_analysis_output/follow/individual_spatiotemporal_heatmaps/400.400.10/wt_apop_wt_div/GV0807_Pos4_982_GFP_N_cells / /home/nathan/data/kraken/h2b/giulia/radial_analysis_output/follow/individual_spatiotemporal_heatmaps/400.400.10/wt_apop_wt_div/GV0807_Pos4_982_GFP_N_events saved out successfully',\n",
       "  '/home/nathan/data/kraken/h2b/giulia/radial_analysis_output/follow/individual_spatiotemporal_heatmaps/400.400.10/wt_apop_wt_div/GV0807_Pos4_14_GFP_N_cells / /home/nathan/data/kraken/h2b/giulia/radial_analysis_output/follow/individual_spatiotemporal_heatmaps/400.400.10/wt_apop_wt_div/GV0807_Pos4_14_GFP_N_events saved out successfully',\n",
       "  '/home/nathan/data/kraken/h2b/giulia/radial_analysis_output/follow/individual_spatiotemporal_heatmaps/400.400.10/wt_apop_wt_div/GV0815_Pos0_145_GFP_N_cells / /home/nathan/data/kraken/h2b/giulia/radial_analysis_output/follow/individual_spatiotemporal_heatmaps/400.400.10/wt_apop_wt_div/GV0815_Pos0_145_GFP_N_events saved out successfully',\n",
       "  '/home/nathan/data/kraken/h2b/giulia/radial_analysis_output/follow/individual_spatiotemporal_heatmaps/400.400.10/wt_apop_wt_div/GV0815_Pos0_641_GFP_N_cells / /home/nathan/data/kraken/h2b/giulia/radial_analysis_output/follow/individual_spatiotemporal_heatmaps/400.400.10/wt_apop_wt_div/GV0815_Pos0_641_GFP_N_events saved out successfully',\n",
       "  '/home/nathan/data/kraken/h2b/giulia/radial_analysis_output/follow/individual_spatiotemporal_heatmaps/400.400.10/wt_apop_wt_div/GV0815_Pos0_981_GFP_N_cells / /home/nathan/data/kraken/h2b/giulia/radial_analysis_output/follow/individual_spatiotemporal_heatmaps/400.400.10/wt_apop_wt_div/GV0815_Pos0_981_GFP_N_events saved out successfully',\n",
       "  '/home/nathan/data/kraken/h2b/giulia/radial_analysis_output/follow/individual_spatiotemporal_heatmaps/400.400.10/wt_apop_wt_div/GV0815_Pos0_42_GFP_N_cells / /home/nathan/data/kraken/h2b/giulia/radial_analysis_output/follow/individual_spatiotemporal_heatmaps/400.400.10/wt_apop_wt_div/GV0815_Pos0_42_GFP_N_events saved out successfully',\n",
       "  '/home/nathan/data/kraken/h2b/giulia/radial_analysis_output/follow/individual_spatiotemporal_heatmaps/400.400.10/wt_apop_wt_div/GV0815_Pos0_2046_GFP_N_cells / /home/nathan/data/kraken/h2b/giulia/radial_analysis_output/follow/individual_spatiotemporal_heatmaps/400.400.10/wt_apop_wt_div/GV0815_Pos0_2046_GFP_N_events saved out successfully',\n",
       "  '/home/nathan/data/kraken/h2b/giulia/radial_analysis_output/follow/individual_spatiotemporal_heatmaps/400.400.10/wt_apop_wt_div/GV0815_Pos0_436_GFP_N_cells / /home/nathan/data/kraken/h2b/giulia/radial_analysis_output/follow/individual_spatiotemporal_heatmaps/400.400.10/wt_apop_wt_div/GV0815_Pos0_436_GFP_N_events saved out successfully',\n",
       "  '/home/nathan/data/kraken/h2b/giulia/radial_analysis_output/follow/individual_spatiotemporal_heatmaps/400.400.10/wt_apop_wt_div/GV0815_Pos0_2221_GFP_N_cells / /home/nathan/data/kraken/h2b/giulia/radial_analysis_output/follow/individual_spatiotemporal_heatmaps/400.400.10/wt_apop_wt_div/GV0815_Pos0_2221_GFP_N_events saved out successfully',\n",
       "  '/home/nathan/data/kraken/h2b/giulia/radial_analysis_output/follow/individual_spatiotemporal_heatmaps/400.400.10/wt_apop_wt_div/GV0815_Pos0_1487_GFP_N_cells / /home/nathan/data/kraken/h2b/giulia/radial_analysis_output/follow/individual_spatiotemporal_heatmaps/400.400.10/wt_apop_wt_div/GV0815_Pos0_1487_GFP_N_events saved out successfully',\n",
       "  '/home/nathan/data/kraken/h2b/giulia/radial_analysis_output/follow/individual_spatiotemporal_heatmaps/400.400.10/wt_apop_wt_div/GV0815_Pos0_444_GFP_N_cells / /home/nathan/data/kraken/h2b/giulia/radial_analysis_output/follow/individual_spatiotemporal_heatmaps/400.400.10/wt_apop_wt_div/GV0815_Pos0_444_GFP_N_events saved out successfully',\n",
       "  '/home/nathan/data/kraken/h2b/giulia/radial_analysis_output/follow/individual_spatiotemporal_heatmaps/400.400.10/wt_apop_wt_div/GV0815_Pos0_620_GFP_N_cells / /home/nathan/data/kraken/h2b/giulia/radial_analysis_output/follow/individual_spatiotemporal_heatmaps/400.400.10/wt_apop_wt_div/GV0815_Pos0_620_GFP_N_events saved out successfully',\n",
       "  '/home/nathan/data/kraken/h2b/giulia/radial_analysis_output/follow/individual_spatiotemporal_heatmaps/400.400.10/wt_apop_wt_div/GV0815_Pos0_1133_GFP_N_cells / /home/nathan/data/kraken/h2b/giulia/radial_analysis_output/follow/individual_spatiotemporal_heatmaps/400.400.10/wt_apop_wt_div/GV0815_Pos0_1133_GFP_N_events saved out successfully',\n",
       "  '/home/nathan/data/kraken/h2b/giulia/radial_analysis_output/follow/individual_spatiotemporal_heatmaps/400.400.10/wt_apop_wt_div/GV0815_Pos0_949_GFP_N_cells / /home/nathan/data/kraken/h2b/giulia/radial_analysis_output/follow/individual_spatiotemporal_heatmaps/400.400.10/wt_apop_wt_div/GV0815_Pos0_949_GFP_N_events saved out successfully',\n",
       "  '/home/nathan/data/kraken/h2b/giulia/radial_analysis_output/follow/individual_spatiotemporal_heatmaps/400.400.10/wt_apop_wt_div/GV0814_Pos11_1120_GFP_N_cells / /home/nathan/data/kraken/h2b/giulia/radial_analysis_output/follow/individual_spatiotemporal_heatmaps/400.400.10/wt_apop_wt_div/GV0814_Pos11_1120_GFP_N_events saved out successfully',\n",
       "  '/home/nathan/data/kraken/h2b/giulia/radial_analysis_output/follow/individual_spatiotemporal_heatmaps/400.400.10/wt_apop_wt_div/GV0814_Pos11_1878_GFP_N_cells / /home/nathan/data/kraken/h2b/giulia/radial_analysis_output/follow/individual_spatiotemporal_heatmaps/400.400.10/wt_apop_wt_div/GV0814_Pos11_1878_GFP_N_events saved out successfully',\n",
       "  '/home/nathan/data/kraken/h2b/giulia/radial_analysis_output/follow/individual_spatiotemporal_heatmaps/400.400.10/wt_apop_wt_div/GV0814_Pos11_1981_GFP_N_cells / /home/nathan/data/kraken/h2b/giulia/radial_analysis_output/follow/individual_spatiotemporal_heatmaps/400.400.10/wt_apop_wt_div/GV0814_Pos11_1981_GFP_N_events saved out successfully',\n",
       "  '/home/nathan/data/kraken/h2b/giulia/radial_analysis_output/follow/individual_spatiotemporal_heatmaps/400.400.10/wt_apop_wt_div/GV0814_Pos11_3733_GFP_N_cells / /home/nathan/data/kraken/h2b/giulia/radial_analysis_output/follow/individual_spatiotemporal_heatmaps/400.400.10/wt_apop_wt_div/GV0814_Pos11_3733_GFP_N_events saved out successfully',\n",
       "  '/home/nathan/data/kraken/h2b/giulia/radial_analysis_output/follow/individual_spatiotemporal_heatmaps/400.400.10/wt_apop_wt_div/GV0814_Pos11_2242_GFP_N_cells / /home/nathan/data/kraken/h2b/giulia/radial_analysis_output/follow/individual_spatiotemporal_heatmaps/400.400.10/wt_apop_wt_div/GV0814_Pos11_2242_GFP_N_events saved out successfully',\n",
       "  '/home/nathan/data/kraken/h2b/giulia/radial_analysis_output/follow/individual_spatiotemporal_heatmaps/400.400.10/wt_apop_wt_div/GV0814_Pos11_2469_GFP_N_cells / /home/nathan/data/kraken/h2b/giulia/radial_analysis_output/follow/individual_spatiotemporal_heatmaps/400.400.10/wt_apop_wt_div/GV0814_Pos11_2469_GFP_N_events saved out successfully',\n",
       "  '/home/nathan/data/kraken/h2b/giulia/radial_analysis_output/follow/individual_spatiotemporal_heatmaps/400.400.10/wt_apop_wt_div/GV0814_Pos11_1212_GFP_N_cells / /home/nathan/data/kraken/h2b/giulia/radial_analysis_output/follow/individual_spatiotemporal_heatmaps/400.400.10/wt_apop_wt_div/GV0814_Pos11_1212_GFP_N_events saved out successfully',\n",
       "  '/home/nathan/data/kraken/h2b/giulia/radial_analysis_output/follow/individual_spatiotemporal_heatmaps/400.400.10/wt_apop_wt_div/GV0814_Pos11_4428_GFP_N_cells / /home/nathan/data/kraken/h2b/giulia/radial_analysis_output/follow/individual_spatiotemporal_heatmaps/400.400.10/wt_apop_wt_div/GV0814_Pos11_4428_GFP_N_events saved out successfully',\n",
       "  '/home/nathan/data/kraken/h2b/giulia/radial_analysis_output/follow/individual_spatiotemporal_heatmaps/400.400.10/wt_apop_wt_div/GV0797_Pos22_281_GFP_N_cells / /home/nathan/data/kraken/h2b/giulia/radial_analysis_output/follow/individual_spatiotemporal_heatmaps/400.400.10/wt_apop_wt_div/GV0797_Pos22_281_GFP_N_events saved out successfully',\n",
       "  '/home/nathan/data/kraken/h2b/giulia/radial_analysis_output/follow/individual_spatiotemporal_heatmaps/400.400.10/wt_apop_wt_div/GV0818_Pos13_353_GFP_N_cells / /home/nathan/data/kraken/h2b/giulia/radial_analysis_output/follow/individual_spatiotemporal_heatmaps/400.400.10/wt_apop_wt_div/GV0818_Pos13_353_GFP_N_events saved out successfully',\n",
       "  '/home/nathan/data/kraken/h2b/giulia/radial_analysis_output/follow/individual_spatiotemporal_heatmaps/400.400.10/wt_apop_wt_div/GV0818_Pos13_1205_GFP_N_cells / /home/nathan/data/kraken/h2b/giulia/radial_analysis_output/follow/individual_spatiotemporal_heatmaps/400.400.10/wt_apop_wt_div/GV0818_Pos13_1205_GFP_N_events saved out successfully',\n",
       "  '/home/nathan/data/kraken/h2b/giulia/radial_analysis_output/follow/individual_spatiotemporal_heatmaps/400.400.10/wt_apop_wt_div/GV0818_Pos13_1365_GFP_N_cells / /home/nathan/data/kraken/h2b/giulia/radial_analysis_output/follow/individual_spatiotemporal_heatmaps/400.400.10/wt_apop_wt_div/GV0818_Pos13_1365_GFP_N_events saved out successfully',\n",
       "  '/home/nathan/data/kraken/h2b/giulia/radial_analysis_output/follow/individual_spatiotemporal_heatmaps/400.400.10/wt_apop_wt_div/GV0818_Pos13_3452_GFP_N_cells / /home/nathan/data/kraken/h2b/giulia/radial_analysis_output/follow/individual_spatiotemporal_heatmaps/400.400.10/wt_apop_wt_div/GV0818_Pos13_3452_GFP_N_events saved out successfully',\n",
       "  '/home/nathan/data/kraken/h2b/giulia/radial_analysis_output/follow/individual_spatiotemporal_heatmaps/400.400.10/wt_apop_wt_div/GV0818_Pos13_3451_GFP_N_cells / /home/nathan/data/kraken/h2b/giulia/radial_analysis_output/follow/individual_spatiotemporal_heatmaps/400.400.10/wt_apop_wt_div/GV0818_Pos13_3451_GFP_N_events saved out successfully',\n",
       "  '/home/nathan/data/kraken/h2b/giulia/radial_analysis_output/follow/individual_spatiotemporal_heatmaps/400.400.10/wt_apop_wt_div/GV0815_Pos11_536_GFP_N_cells / /home/nathan/data/kraken/h2b/giulia/radial_analysis_output/follow/individual_spatiotemporal_heatmaps/400.400.10/wt_apop_wt_div/GV0815_Pos11_536_GFP_N_events saved out successfully',\n",
       "  '/home/nathan/data/kraken/h2b/giulia/radial_analysis_output/follow/individual_spatiotemporal_heatmaps/400.400.10/wt_apop_wt_div/GV0815_Pos11_255_GFP_N_cells / /home/nathan/data/kraken/h2b/giulia/radial_analysis_output/follow/individual_spatiotemporal_heatmaps/400.400.10/wt_apop_wt_div/GV0815_Pos11_255_GFP_N_events saved out successfully',\n",
       "  '/home/nathan/data/kraken/h2b/giulia/radial_analysis_output/follow/individual_spatiotemporal_heatmaps/400.400.10/wt_apop_wt_div/GV0815_Pos11_2851_GFP_N_cells / /home/nathan/data/kraken/h2b/giulia/radial_analysis_output/follow/individual_spatiotemporal_heatmaps/400.400.10/wt_apop_wt_div/GV0815_Pos11_2851_GFP_N_events saved out successfully',\n",
       "  '/home/nathan/data/kraken/h2b/giulia/radial_analysis_output/follow/individual_spatiotemporal_heatmaps/400.400.10/wt_apop_wt_div/GV0815_Pos11_1379_GFP_N_cells / /home/nathan/data/kraken/h2b/giulia/radial_analysis_output/follow/individual_spatiotemporal_heatmaps/400.400.10/wt_apop_wt_div/GV0815_Pos11_1379_GFP_N_events saved out successfully',\n",
       "  '/home/nathan/data/kraken/h2b/giulia/radial_analysis_output/follow/individual_spatiotemporal_heatmaps/400.400.10/wt_apop_wt_div/GV0795_Pos3_500_GFP_N_cells / /home/nathan/data/kraken/h2b/giulia/radial_analysis_output/follow/individual_spatiotemporal_heatmaps/400.400.10/wt_apop_wt_div/GV0795_Pos3_500_GFP_N_events saved out successfully',\n",
       "  '/home/nathan/data/kraken/h2b/giulia/radial_analysis_output/follow/individual_spatiotemporal_heatmaps/400.400.10/wt_apop_wt_div/GV0798_Pos21_9_GFP_N_cells / /home/nathan/data/kraken/h2b/giulia/radial_analysis_output/follow/individual_spatiotemporal_heatmaps/400.400.10/wt_apop_wt_div/GV0798_Pos21_9_GFP_N_events saved out successfully',\n",
       "  '/home/nathan/data/kraken/h2b/giulia/radial_analysis_output/follow/individual_spatiotemporal_heatmaps/400.400.10/wt_apop_wt_div/GV0798_Pos21_39_GFP_N_cells / /home/nathan/data/kraken/h2b/giulia/radial_analysis_output/follow/individual_spatiotemporal_heatmaps/400.400.10/wt_apop_wt_div/GV0798_Pos21_39_GFP_N_events saved out successfully',\n",
       "  '/home/nathan/data/kraken/h2b/giulia/radial_analysis_output/follow/individual_spatiotemporal_heatmaps/400.400.10/wt_apop_wt_div/GV0798_Pos21_417_GFP_N_cells / /home/nathan/data/kraken/h2b/giulia/radial_analysis_output/follow/individual_spatiotemporal_heatmaps/400.400.10/wt_apop_wt_div/GV0798_Pos21_417_GFP_N_events saved out successfully',\n",
       "  '/home/nathan/data/kraken/h2b/giulia/radial_analysis_output/follow/individual_spatiotemporal_heatmaps/400.400.10/wt_apop_wt_div/GV0818_Pos12_187_GFP_N_cells / /home/nathan/data/kraken/h2b/giulia/radial_analysis_output/follow/individual_spatiotemporal_heatmaps/400.400.10/wt_apop_wt_div/GV0818_Pos12_187_GFP_N_events saved out successfully',\n",
       "  '/home/nathan/data/kraken/h2b/giulia/radial_analysis_output/follow/individual_spatiotemporal_heatmaps/400.400.10/wt_apop_wt_div/GV0818_Pos12_378_GFP_N_cells / /home/nathan/data/kraken/h2b/giulia/radial_analysis_output/follow/individual_spatiotemporal_heatmaps/400.400.10/wt_apop_wt_div/GV0818_Pos12_378_GFP_N_events saved out successfully',\n",
       "  '/home/nathan/data/kraken/h2b/giulia/radial_analysis_output/follow/individual_spatiotemporal_heatmaps/400.400.10/wt_apop_wt_div/GV0818_Pos12_863_GFP_N_cells / /home/nathan/data/kraken/h2b/giulia/radial_analysis_output/follow/individual_spatiotemporal_heatmaps/400.400.10/wt_apop_wt_div/GV0818_Pos12_863_GFP_N_events saved out successfully',\n",
       "  '/home/nathan/data/kraken/h2b/giulia/radial_analysis_output/follow/individual_spatiotemporal_heatmaps/400.400.10/wt_apop_wt_div/GV0818_Pos12_932_GFP_N_cells / /home/nathan/data/kraken/h2b/giulia/radial_analysis_output/follow/individual_spatiotemporal_heatmaps/400.400.10/wt_apop_wt_div/GV0818_Pos12_932_GFP_N_events saved out successfully',\n",
       "  '/home/nathan/data/kraken/h2b/giulia/radial_analysis_output/follow/individual_spatiotemporal_heatmaps/400.400.10/wt_apop_wt_div/GV0818_Pos12_933_GFP_N_cells / /home/nathan/data/kraken/h2b/giulia/radial_analysis_output/follow/individual_spatiotemporal_heatmaps/400.400.10/wt_apop_wt_div/GV0818_Pos12_933_GFP_N_events saved out successfully',\n",
       "  '/home/nathan/data/kraken/h2b/giulia/radial_analysis_output/follow/individual_spatiotemporal_heatmaps/400.400.10/wt_apop_wt_div/GV0818_Pos12_1099_GFP_N_cells / /home/nathan/data/kraken/h2b/giulia/radial_analysis_output/follow/individual_spatiotemporal_heatmaps/400.400.10/wt_apop_wt_div/GV0818_Pos12_1099_GFP_N_events saved out successfully',\n",
       "  '/home/nathan/data/kraken/h2b/giulia/radial_analysis_output/follow/individual_spatiotemporal_heatmaps/400.400.10/wt_apop_wt_div/GV0818_Pos12_957_GFP_N_cells / /home/nathan/data/kraken/h2b/giulia/radial_analysis_output/follow/individual_spatiotemporal_heatmaps/400.400.10/wt_apop_wt_div/GV0818_Pos12_957_GFP_N_events saved out successfully',\n",
       "  '/home/nathan/data/kraken/h2b/giulia/radial_analysis_output/follow/individual_spatiotemporal_heatmaps/400.400.10/wt_apop_wt_div/GV0818_Pos12_1928_GFP_N_cells / /home/nathan/data/kraken/h2b/giulia/radial_analysis_output/follow/individual_spatiotemporal_heatmaps/400.400.10/wt_apop_wt_div/GV0818_Pos12_1928_GFP_N_events saved out successfully',\n",
       "  '/home/nathan/data/kraken/h2b/giulia/radial_analysis_output/follow/individual_spatiotemporal_heatmaps/400.400.10/wt_apop_wt_div/GV0818_Pos12_2092_GFP_N_cells / /home/nathan/data/kraken/h2b/giulia/radial_analysis_output/follow/individual_spatiotemporal_heatmaps/400.400.10/wt_apop_wt_div/GV0818_Pos12_2092_GFP_N_events saved out successfully',\n",
       "  '/home/nathan/data/kraken/h2b/giulia/radial_analysis_output/follow/individual_spatiotemporal_heatmaps/400.400.10/wt_apop_wt_div/GV0818_Pos12_1715_GFP_N_cells / /home/nathan/data/kraken/h2b/giulia/radial_analysis_output/follow/individual_spatiotemporal_heatmaps/400.400.10/wt_apop_wt_div/GV0818_Pos12_1715_GFP_N_events saved out successfully',\n",
       "  '/home/nathan/data/kraken/h2b/giulia/radial_analysis_output/follow/individual_spatiotemporal_heatmaps/400.400.10/wt_apop_wt_div/GV0818_Pos12_1714_GFP_N_cells / /home/nathan/data/kraken/h2b/giulia/radial_analysis_output/follow/individual_spatiotemporal_heatmaps/400.400.10/wt_apop_wt_div/GV0818_Pos12_1714_GFP_N_events saved out successfully',\n",
       "  '/home/nathan/data/kraken/h2b/giulia/radial_analysis_output/follow/individual_spatiotemporal_heatmaps/400.400.10/wt_apop_wt_div/GV0818_Pos12_1360_GFP_N_cells / /home/nathan/data/kraken/h2b/giulia/radial_analysis_output/follow/individual_spatiotemporal_heatmaps/400.400.10/wt_apop_wt_div/GV0818_Pos12_1360_GFP_N_events saved out successfully',\n",
       "  '/home/nathan/data/kraken/h2b/giulia/radial_analysis_output/follow/individual_spatiotemporal_heatmaps/400.400.10/wt_apop_wt_div/GV0818_Pos12_2659_GFP_N_cells / /home/nathan/data/kraken/h2b/giulia/radial_analysis_output/follow/individual_spatiotemporal_heatmaps/400.400.10/wt_apop_wt_div/GV0818_Pos12_2659_GFP_N_events saved out successfully',\n",
       "  '/home/nathan/data/kraken/h2b/giulia/radial_analysis_output/follow/individual_spatiotemporal_heatmaps/400.400.10/wt_apop_wt_div/GV0818_Pos12_98_GFP_N_cells / /home/nathan/data/kraken/h2b/giulia/radial_analysis_output/follow/individual_spatiotemporal_heatmaps/400.400.10/wt_apop_wt_div/GV0818_Pos12_98_GFP_N_events saved out successfully',\n",
       "  '/home/nathan/data/kraken/h2b/giulia/radial_analysis_output/follow/individual_spatiotemporal_heatmaps/400.400.10/wt_apop_wt_div/GV0818_Pos12_1463_GFP_N_cells / /home/nathan/data/kraken/h2b/giulia/radial_analysis_output/follow/individual_spatiotemporal_heatmaps/400.400.10/wt_apop_wt_div/GV0818_Pos12_1463_GFP_N_events saved out successfully',\n",
       "  '/home/nathan/data/kraken/h2b/giulia/radial_analysis_output/follow/individual_spatiotemporal_heatmaps/400.400.10/wt_apop_wt_div/GV0802_Pos3_2411_GFP_N_cells / /home/nathan/data/kraken/h2b/giulia/radial_analysis_output/follow/individual_spatiotemporal_heatmaps/400.400.10/wt_apop_wt_div/GV0802_Pos3_2411_GFP_N_events saved out successfully',\n",
       "  '/home/nathan/data/kraken/h2b/giulia/radial_analysis_output/follow/individual_spatiotemporal_heatmaps/400.400.10/wt_apop_wt_div/GV0797_Pos18_833_GFP_N_cells / /home/nathan/data/kraken/h2b/giulia/radial_analysis_output/follow/individual_spatiotemporal_heatmaps/400.400.10/wt_apop_wt_div/GV0797_Pos18_833_GFP_N_events saved out successfully',\n",
       "  '/home/nathan/data/kraken/h2b/giulia/radial_analysis_output/follow/individual_spatiotemporal_heatmaps/400.400.10/wt_apop_wt_div/GV0797_Pos18_706_GFP_N_cells / /home/nathan/data/kraken/h2b/giulia/radial_analysis_output/follow/individual_spatiotemporal_heatmaps/400.400.10/wt_apop_wt_div/GV0797_Pos18_706_GFP_N_events saved out successfully',\n",
       "  '/home/nathan/data/kraken/h2b/giulia/radial_analysis_output/follow/individual_spatiotemporal_heatmaps/400.400.10/wt_apop_wt_div/GV0797_Pos18_1303_GFP_N_cells / /home/nathan/data/kraken/h2b/giulia/radial_analysis_output/follow/individual_spatiotemporal_heatmaps/400.400.10/wt_apop_wt_div/GV0797_Pos18_1303_GFP_N_events saved out successfully',\n",
       "  '/home/nathan/data/kraken/h2b/giulia/radial_analysis_output/follow/individual_spatiotemporal_heatmaps/400.400.10/wt_apop_wt_div/GV0797_Pos18_1302_GFP_N_cells / /home/nathan/data/kraken/h2b/giulia/radial_analysis_output/follow/individual_spatiotemporal_heatmaps/400.400.10/wt_apop_wt_div/GV0797_Pos18_1302_GFP_N_events saved out successfully',\n",
       "  '/home/nathan/data/kraken/h2b/giulia/radial_analysis_output/follow/individual_spatiotemporal_heatmaps/400.400.10/wt_apop_wt_div/GV0797_Pos18_1422_GFP_N_cells / /home/nathan/data/kraken/h2b/giulia/radial_analysis_output/follow/individual_spatiotemporal_heatmaps/400.400.10/wt_apop_wt_div/GV0797_Pos18_1422_GFP_N_events saved out successfully',\n",
       "  '/home/nathan/data/kraken/h2b/giulia/radial_analysis_output/follow/individual_spatiotemporal_heatmaps/400.400.10/wt_apop_wt_div/GV0817_Pos11_141_GFP_N_cells / /home/nathan/data/kraken/h2b/giulia/radial_analysis_output/follow/individual_spatiotemporal_heatmaps/400.400.10/wt_apop_wt_div/GV0817_Pos11_141_GFP_N_events saved out successfully',\n",
       "  '/home/nathan/data/kraken/h2b/giulia/radial_analysis_output/follow/individual_spatiotemporal_heatmaps/400.400.10/wt_apop_wt_div/GV0817_Pos11_944_GFP_N_cells / /home/nathan/data/kraken/h2b/giulia/radial_analysis_output/follow/individual_spatiotemporal_heatmaps/400.400.10/wt_apop_wt_div/GV0817_Pos11_944_GFP_N_events saved out successfully',\n",
       "  '/home/nathan/data/kraken/h2b/giulia/radial_analysis_output/follow/individual_spatiotemporal_heatmaps/400.400.10/wt_apop_wt_div/GV0817_Pos11_393_GFP_N_cells / /home/nathan/data/kraken/h2b/giulia/radial_analysis_output/follow/individual_spatiotemporal_heatmaps/400.400.10/wt_apop_wt_div/GV0817_Pos11_393_GFP_N_events saved out successfully',\n",
       "  '/home/nathan/data/kraken/h2b/giulia/radial_analysis_output/follow/individual_spatiotemporal_heatmaps/400.400.10/wt_apop_wt_div/GV0817_Pos11_2358_GFP_N_cells / /home/nathan/data/kraken/h2b/giulia/radial_analysis_output/follow/individual_spatiotemporal_heatmaps/400.400.10/wt_apop_wt_div/GV0817_Pos11_2358_GFP_N_events saved out successfully',\n",
       "  '/home/nathan/data/kraken/h2b/giulia/radial_analysis_output/follow/individual_spatiotemporal_heatmaps/400.400.10/wt_apop_wt_div/GV0797_Pos5_971_GFP_N_cells / /home/nathan/data/kraken/h2b/giulia/radial_analysis_output/follow/individual_spatiotemporal_heatmaps/400.400.10/wt_apop_wt_div/GV0797_Pos5_971_GFP_N_events saved out successfully',\n",
       "  '/home/nathan/data/kraken/h2b/giulia/radial_analysis_output/follow/individual_spatiotemporal_heatmaps/400.400.10/wt_apop_wt_div/GV0797_Pos5_741_GFP_N_cells / /home/nathan/data/kraken/h2b/giulia/radial_analysis_output/follow/individual_spatiotemporal_heatmaps/400.400.10/wt_apop_wt_div/GV0797_Pos5_741_GFP_N_events saved out successfully',\n",
       "  '/home/nathan/data/kraken/h2b/giulia/radial_analysis_output/follow/individual_spatiotemporal_heatmaps/400.400.10/wt_apop_wt_div/GV0797_Pos5_742_GFP_N_cells / /home/nathan/data/kraken/h2b/giulia/radial_analysis_output/follow/individual_spatiotemporal_heatmaps/400.400.10/wt_apop_wt_div/GV0797_Pos5_742_GFP_N_events saved out successfully',\n",
       "  '/home/nathan/data/kraken/h2b/giulia/radial_analysis_output/follow/individual_spatiotemporal_heatmaps/400.400.10/wt_apop_wt_div/GV0797_Pos20_92_GFP_N_cells / /home/nathan/data/kraken/h2b/giulia/radial_analysis_output/follow/individual_spatiotemporal_heatmaps/400.400.10/wt_apop_wt_div/GV0797_Pos20_92_GFP_N_events saved out successfully',\n",
       "  '/home/nathan/data/kraken/h2b/giulia/radial_analysis_output/follow/individual_spatiotemporal_heatmaps/400.400.10/wt_apop_wt_div/GV0797_Pos20_39_GFP_N_cells / /home/nathan/data/kraken/h2b/giulia/radial_analysis_output/follow/individual_spatiotemporal_heatmaps/400.400.10/wt_apop_wt_div/GV0797_Pos20_39_GFP_N_events saved out successfully',\n",
       "  '/home/nathan/data/kraken/h2b/giulia/radial_analysis_output/follow/individual_spatiotemporal_heatmaps/400.400.10/wt_apop_wt_div/GV0797_Pos20_662_GFP_N_cells / /home/nathan/data/kraken/h2b/giulia/radial_analysis_output/follow/individual_spatiotemporal_heatmaps/400.400.10/wt_apop_wt_div/GV0797_Pos20_662_GFP_N_events saved out successfully',\n",
       "  '/home/nathan/data/kraken/h2b/giulia/radial_analysis_output/follow/individual_spatiotemporal_heatmaps/400.400.10/wt_apop_wt_div/GV0797_Pos20_880_GFP_N_cells / /home/nathan/data/kraken/h2b/giulia/radial_analysis_output/follow/individual_spatiotemporal_heatmaps/400.400.10/wt_apop_wt_div/GV0797_Pos20_880_GFP_N_events saved out successfully',\n",
       "  '/home/nathan/data/kraken/h2b/giulia/radial_analysis_output/follow/individual_spatiotemporal_heatmaps/400.400.10/wt_apop_wt_div/GV0794_Pos7_364_GFP_N_cells / /home/nathan/data/kraken/h2b/giulia/radial_analysis_output/follow/individual_spatiotemporal_heatmaps/400.400.10/wt_apop_wt_div/GV0794_Pos7_364_GFP_N_events saved out successfully',\n",
       "  '/home/nathan/data/kraken/h2b/giulia/radial_analysis_output/follow/individual_spatiotemporal_heatmaps/400.400.10/wt_apop_wt_div/GV0794_Pos7_457_GFP_N_cells / /home/nathan/data/kraken/h2b/giulia/radial_analysis_output/follow/individual_spatiotemporal_heatmaps/400.400.10/wt_apop_wt_div/GV0794_Pos7_457_GFP_N_events saved out successfully',\n",
       "  '/home/nathan/data/kraken/h2b/giulia/radial_analysis_output/follow/individual_spatiotemporal_heatmaps/400.400.10/wt_apop_wt_div/GV0794_Pos7_369_GFP_N_cells / /home/nathan/data/kraken/h2b/giulia/radial_analysis_output/follow/individual_spatiotemporal_heatmaps/400.400.10/wt_apop_wt_div/GV0794_Pos7_369_GFP_N_events saved out successfully',\n",
       "  '/home/nathan/data/kraken/h2b/giulia/radial_analysis_output/follow/individual_spatiotemporal_heatmaps/400.400.10/wt_apop_wt_div/GV0794_Pos7_292_GFP_N_cells / /home/nathan/data/kraken/h2b/giulia/radial_analysis_output/follow/individual_spatiotemporal_heatmaps/400.400.10/wt_apop_wt_div/GV0794_Pos7_292_GFP_N_events saved out successfully',\n",
       "  '/home/nathan/data/kraken/h2b/giulia/radial_analysis_output/follow/individual_spatiotemporal_heatmaps/400.400.10/wt_apop_wt_div/GV0816_Pos0_416_GFP_N_cells / /home/nathan/data/kraken/h2b/giulia/radial_analysis_output/follow/individual_spatiotemporal_heatmaps/400.400.10/wt_apop_wt_div/GV0816_Pos0_416_GFP_N_events saved out successfully',\n",
       "  '/home/nathan/data/kraken/h2b/giulia/radial_analysis_output/follow/individual_spatiotemporal_heatmaps/400.400.10/wt_apop_wt_div/GV0816_Pos0_668_GFP_N_cells / /home/nathan/data/kraken/h2b/giulia/radial_analysis_output/follow/individual_spatiotemporal_heatmaps/400.400.10/wt_apop_wt_div/GV0816_Pos0_668_GFP_N_events saved out successfully',\n",
       "  '/home/nathan/data/kraken/h2b/giulia/radial_analysis_output/follow/individual_spatiotemporal_heatmaps/400.400.10/wt_apop_wt_div/GV0798_Pos8_1325_GFP_N_cells / /home/nathan/data/kraken/h2b/giulia/radial_analysis_output/follow/individual_spatiotemporal_heatmaps/400.400.10/wt_apop_wt_div/GV0798_Pos8_1325_GFP_N_events saved out successfully',\n",
       "  '/home/nathan/data/kraken/h2b/giulia/radial_analysis_output/follow/individual_spatiotemporal_heatmaps/400.400.10/wt_apop_wt_div/GV0798_Pos4_1955_GFP_N_cells / /home/nathan/data/kraken/h2b/giulia/radial_analysis_output/follow/individual_spatiotemporal_heatmaps/400.400.10/wt_apop_wt_div/GV0798_Pos4_1955_GFP_N_events saved out successfully',\n",
       "  '/home/nathan/data/kraken/h2b/giulia/radial_analysis_output/follow/individual_spatiotemporal_heatmaps/400.400.10/wt_apop_wt_div/GV0816_Pos13_39_GFP_N_cells / /home/nathan/data/kraken/h2b/giulia/radial_analysis_output/follow/individual_spatiotemporal_heatmaps/400.400.10/wt_apop_wt_div/GV0816_Pos13_39_GFP_N_events saved out successfully',\n",
       "  '/home/nathan/data/kraken/h2b/giulia/radial_analysis_output/follow/individual_spatiotemporal_heatmaps/400.400.10/wt_apop_wt_div/GV0816_Pos13_25_GFP_N_cells / /home/nathan/data/kraken/h2b/giulia/radial_analysis_output/follow/individual_spatiotemporal_heatmaps/400.400.10/wt_apop_wt_div/GV0816_Pos13_25_GFP_N_events saved out successfully',\n",
       "  '/home/nathan/data/kraken/h2b/giulia/radial_analysis_output/follow/individual_spatiotemporal_heatmaps/400.400.10/wt_apop_wt_div/GV0800_Pos16_327_GFP_N_cells / /home/nathan/data/kraken/h2b/giulia/radial_analysis_output/follow/individual_spatiotemporal_heatmaps/400.400.10/wt_apop_wt_div/GV0800_Pos16_327_GFP_N_events saved out successfully',\n",
       "  '/home/nathan/data/kraken/h2b/giulia/radial_analysis_output/follow/individual_spatiotemporal_heatmaps/400.400.10/wt_apop_wt_div/GV0800_Pos16_259_GFP_N_cells / /home/nathan/data/kraken/h2b/giulia/radial_analysis_output/follow/individual_spatiotemporal_heatmaps/400.400.10/wt_apop_wt_div/GV0800_Pos16_259_GFP_N_events saved out successfully',\n",
       "  '/home/nathan/data/kraken/h2b/giulia/radial_analysis_output/follow/individual_spatiotemporal_heatmaps/400.400.10/wt_apop_wt_div/GV0800_Pos16_265_GFP_N_cells / /home/nathan/data/kraken/h2b/giulia/radial_analysis_output/follow/individual_spatiotemporal_heatmaps/400.400.10/wt_apop_wt_div/GV0800_Pos16_265_GFP_N_events saved out successfully',\n",
       "  '/home/nathan/data/kraken/h2b/giulia/radial_analysis_output/follow/individual_spatiotemporal_heatmaps/400.400.10/wt_apop_wt_div/GV0800_Pos16_1376_GFP_N_cells / /home/nathan/data/kraken/h2b/giulia/radial_analysis_output/follow/individual_spatiotemporal_heatmaps/400.400.10/wt_apop_wt_div/GV0800_Pos16_1376_GFP_N_events saved out successfully',\n",
       "  '/home/nathan/data/kraken/h2b/giulia/radial_analysis_output/follow/individual_spatiotemporal_heatmaps/400.400.10/wt_apop_wt_div/GV0800_Pos16_719_GFP_N_cells / /home/nathan/data/kraken/h2b/giulia/radial_analysis_output/follow/individual_spatiotemporal_heatmaps/400.400.10/wt_apop_wt_div/GV0800_Pos16_719_GFP_N_events saved out successfully',\n",
       "  '/home/nathan/data/kraken/h2b/giulia/radial_analysis_output/follow/individual_spatiotemporal_heatmaps/400.400.10/wt_apop_wt_div/GV0800_Pos16_720_GFP_N_cells / /home/nathan/data/kraken/h2b/giulia/radial_analysis_output/follow/individual_spatiotemporal_heatmaps/400.400.10/wt_apop_wt_div/GV0800_Pos16_720_GFP_N_events saved out successfully',\n",
       "  '/home/nathan/data/kraken/h2b/giulia/radial_analysis_output/follow/individual_spatiotemporal_heatmaps/400.400.10/wt_apop_wt_div/GV0819_Pos5_1411_GFP_N_cells / /home/nathan/data/kraken/h2b/giulia/radial_analysis_output/follow/individual_spatiotemporal_heatmaps/400.400.10/wt_apop_wt_div/GV0819_Pos5_1411_GFP_N_events saved out successfully',\n",
       "  '/home/nathan/data/kraken/h2b/giulia/radial_analysis_output/follow/individual_spatiotemporal_heatmaps/400.400.10/wt_apop_wt_div/GV0819_Pos5_1374_GFP_N_cells / /home/nathan/data/kraken/h2b/giulia/radial_analysis_output/follow/individual_spatiotemporal_heatmaps/400.400.10/wt_apop_wt_div/GV0819_Pos5_1374_GFP_N_events saved out successfully',\n",
       "  '/home/nathan/data/kraken/h2b/giulia/radial_analysis_output/follow/individual_spatiotemporal_heatmaps/400.400.10/wt_apop_wt_div/GV0819_Pos5_1098_GFP_N_cells / /home/nathan/data/kraken/h2b/giulia/radial_analysis_output/follow/individual_spatiotemporal_heatmaps/400.400.10/wt_apop_wt_div/GV0819_Pos5_1098_GFP_N_events saved out successfully',\n",
       "  '/home/nathan/data/kraken/h2b/giulia/radial_analysis_output/follow/individual_spatiotemporal_heatmaps/400.400.10/wt_apop_wt_div/GV0805_Pos4_282_GFP_N_cells / /home/nathan/data/kraken/h2b/giulia/radial_analysis_output/follow/individual_spatiotemporal_heatmaps/400.400.10/wt_apop_wt_div/GV0805_Pos4_282_GFP_N_events saved out successfully',\n",
       "  '/home/nathan/data/kraken/h2b/giulia/radial_analysis_output/follow/individual_spatiotemporal_heatmaps/400.400.10/wt_apop_wt_div/GV0805_Pos4_686_GFP_N_cells / /home/nathan/data/kraken/h2b/giulia/radial_analysis_output/follow/individual_spatiotemporal_heatmaps/400.400.10/wt_apop_wt_div/GV0805_Pos4_686_GFP_N_events saved out successfully',\n",
       "  '/home/nathan/data/kraken/h2b/giulia/radial_analysis_output/follow/individual_spatiotemporal_heatmaps/400.400.10/wt_apop_wt_div/GV0805_Pos4_456_GFP_N_cells / /home/nathan/data/kraken/h2b/giulia/radial_analysis_output/follow/individual_spatiotemporal_heatmaps/400.400.10/wt_apop_wt_div/GV0805_Pos4_456_GFP_N_events saved out successfully',\n",
       "  '/home/nathan/data/kraken/h2b/giulia/radial_analysis_output/follow/individual_spatiotemporal_heatmaps/400.400.10/wt_apop_wt_div/GV0796_Pos4_542_GFP_N_cells / /home/nathan/data/kraken/h2b/giulia/radial_analysis_output/follow/individual_spatiotemporal_heatmaps/400.400.10/wt_apop_wt_div/GV0796_Pos4_542_GFP_N_events saved out successfully',\n",
       "  '/home/nathan/data/kraken/h2b/giulia/radial_analysis_output/follow/individual_spatiotemporal_heatmaps/400.400.10/wt_apop_wt_div/GV0796_Pos4_1334_GFP_N_cells / /home/nathan/data/kraken/h2b/giulia/radial_analysis_output/follow/individual_spatiotemporal_heatmaps/400.400.10/wt_apop_wt_div/GV0796_Pos4_1334_GFP_N_events saved out successfully',\n",
       "  '/home/nathan/data/kraken/h2b/giulia/radial_analysis_output/follow/individual_spatiotemporal_heatmaps/400.400.10/wt_apop_wt_div/GV0796_Pos4_1586_GFP_N_cells / /home/nathan/data/kraken/h2b/giulia/radial_analysis_output/follow/individual_spatiotemporal_heatmaps/400.400.10/wt_apop_wt_div/GV0796_Pos4_1586_GFP_N_events saved out successfully',\n",
       "  '/home/nathan/data/kraken/h2b/giulia/radial_analysis_output/follow/individual_spatiotemporal_heatmaps/400.400.10/wt_apop_wt_div/GV0796_Pos4_1748_GFP_N_cells / /home/nathan/data/kraken/h2b/giulia/radial_analysis_output/follow/individual_spatiotemporal_heatmaps/400.400.10/wt_apop_wt_div/GV0796_Pos4_1748_GFP_N_events saved out successfully',\n",
       "  '/home/nathan/data/kraken/h2b/giulia/radial_analysis_output/follow/individual_spatiotemporal_heatmaps/400.400.10/wt_apop_wt_div/GV0796_Pos4_2589_GFP_N_cells / /home/nathan/data/kraken/h2b/giulia/radial_analysis_output/follow/individual_spatiotemporal_heatmaps/400.400.10/wt_apop_wt_div/GV0796_Pos4_2589_GFP_N_events saved out successfully',\n",
       "  '/home/nathan/data/kraken/h2b/giulia/radial_analysis_output/follow/individual_spatiotemporal_heatmaps/400.400.10/wt_apop_wt_div/GV0796_Pos4_723_GFP_N_cells / /home/nathan/data/kraken/h2b/giulia/radial_analysis_output/follow/individual_spatiotemporal_heatmaps/400.400.10/wt_apop_wt_div/GV0796_Pos4_723_GFP_N_events saved out successfully',\n",
       "  '/home/nathan/data/kraken/h2b/giulia/radial_analysis_output/follow/individual_spatiotemporal_heatmaps/400.400.10/wt_apop_wt_div/GV0796_Pos4_2259_GFP_N_cells / /home/nathan/data/kraken/h2b/giulia/radial_analysis_output/follow/individual_spatiotemporal_heatmaps/400.400.10/wt_apop_wt_div/GV0796_Pos4_2259_GFP_N_events saved out successfully',\n",
       "  '/home/nathan/data/kraken/h2b/giulia/radial_analysis_output/follow/individual_spatiotemporal_heatmaps/400.400.10/wt_apop_wt_div/GV0794_Pos5_1_GFP_N_cells / /home/nathan/data/kraken/h2b/giulia/radial_analysis_output/follow/individual_spatiotemporal_heatmaps/400.400.10/wt_apop_wt_div/GV0794_Pos5_1_GFP_N_events saved out successfully',\n",
       "  '/home/nathan/data/kraken/h2b/giulia/radial_analysis_output/follow/individual_spatiotemporal_heatmaps/400.400.10/wt_apop_wt_div/GV0817_Pos23_22_GFP_N_cells / /home/nathan/data/kraken/h2b/giulia/radial_analysis_output/follow/individual_spatiotemporal_heatmaps/400.400.10/wt_apop_wt_div/GV0817_Pos23_22_GFP_N_events saved out successfully',\n",
       "  '/home/nathan/data/kraken/h2b/giulia/radial_analysis_output/follow/individual_spatiotemporal_heatmaps/400.400.10/wt_apop_wt_div/GV0817_Pos23_389_GFP_N_cells / /home/nathan/data/kraken/h2b/giulia/radial_analysis_output/follow/individual_spatiotemporal_heatmaps/400.400.10/wt_apop_wt_div/GV0817_Pos23_389_GFP_N_events saved out successfully',\n",
       "  '/home/nathan/data/kraken/h2b/giulia/radial_analysis_output/follow/individual_spatiotemporal_heatmaps/400.400.10/wt_apop_wt_div/GV0817_Pos23_967_GFP_N_cells / /home/nathan/data/kraken/h2b/giulia/radial_analysis_output/follow/individual_spatiotemporal_heatmaps/400.400.10/wt_apop_wt_div/GV0817_Pos23_967_GFP_N_events saved out successfully',\n",
       "  '/home/nathan/data/kraken/h2b/giulia/radial_analysis_output/follow/individual_spatiotemporal_heatmaps/400.400.10/wt_apop_wt_div/GV0817_Pos23_216_GFP_N_cells / /home/nathan/data/kraken/h2b/giulia/radial_analysis_output/follow/individual_spatiotemporal_heatmaps/400.400.10/wt_apop_wt_div/GV0817_Pos23_216_GFP_N_events saved out successfully',\n",
       "  '/home/nathan/data/kraken/h2b/giulia/radial_analysis_output/follow/individual_spatiotemporal_heatmaps/400.400.10/wt_apop_wt_div/GV0817_Pos23_1183_GFP_N_cells / /home/nathan/data/kraken/h2b/giulia/radial_analysis_output/follow/individual_spatiotemporal_heatmaps/400.400.10/wt_apop_wt_div/GV0817_Pos23_1183_GFP_N_events saved out successfully',\n",
       "  '/home/nathan/data/kraken/h2b/giulia/radial_analysis_output/follow/individual_spatiotemporal_heatmaps/400.400.10/wt_apop_wt_div/GV0817_Pos23_13_GFP_N_cells / /home/nathan/data/kraken/h2b/giulia/radial_analysis_output/follow/individual_spatiotemporal_heatmaps/400.400.10/wt_apop_wt_div/GV0817_Pos23_13_GFP_N_events saved out successfully',\n",
       "  '/home/nathan/data/kraken/h2b/giulia/radial_analysis_output/follow/individual_spatiotemporal_heatmaps/400.400.10/wt_apop_wt_div/GV0817_Pos23_3375_GFP_N_cells / /home/nathan/data/kraken/h2b/giulia/radial_analysis_output/follow/individual_spatiotemporal_heatmaps/400.400.10/wt_apop_wt_div/GV0817_Pos23_3375_GFP_N_events saved out successfully',\n",
       "  '/home/nathan/data/kraken/h2b/giulia/radial_analysis_output/follow/individual_spatiotemporal_heatmaps/400.400.10/wt_apop_wt_div/GV0817_Pos23_2410_GFP_N_cells / /home/nathan/data/kraken/h2b/giulia/radial_analysis_output/follow/individual_spatiotemporal_heatmaps/400.400.10/wt_apop_wt_div/GV0817_Pos23_2410_GFP_N_events saved out successfully',\n",
       "  '/home/nathan/data/kraken/h2b/giulia/radial_analysis_output/follow/individual_spatiotemporal_heatmaps/400.400.10/wt_apop_wt_div/GV0817_Pos23_4109_GFP_N_cells / /home/nathan/data/kraken/h2b/giulia/radial_analysis_output/follow/individual_spatiotemporal_heatmaps/400.400.10/wt_apop_wt_div/GV0817_Pos23_4109_GFP_N_events saved out successfully',\n",
       "  '/home/nathan/data/kraken/h2b/giulia/radial_analysis_output/follow/individual_spatiotemporal_heatmaps/400.400.10/wt_apop_wt_div/GV0817_Pos23_2771_GFP_N_cells / /home/nathan/data/kraken/h2b/giulia/radial_analysis_output/follow/individual_spatiotemporal_heatmaps/400.400.10/wt_apop_wt_div/GV0817_Pos23_2771_GFP_N_events saved out successfully',\n",
       "  '/home/nathan/data/kraken/h2b/giulia/radial_analysis_output/follow/individual_spatiotemporal_heatmaps/400.400.10/wt_apop_wt_div/GV0817_Pos23_3290_GFP_N_cells / /home/nathan/data/kraken/h2b/giulia/radial_analysis_output/follow/individual_spatiotemporal_heatmaps/400.400.10/wt_apop_wt_div/GV0817_Pos23_3290_GFP_N_events saved out successfully',\n",
       "  '/home/nathan/data/kraken/h2b/giulia/radial_analysis_output/follow/individual_spatiotemporal_heatmaps/400.400.10/wt_apop_wt_div/GV0796_Pos8_41_GFP_N_cells / /home/nathan/data/kraken/h2b/giulia/radial_analysis_output/follow/individual_spatiotemporal_heatmaps/400.400.10/wt_apop_wt_div/GV0796_Pos8_41_GFP_N_events saved out successfully',\n",
       "  '/home/nathan/data/kraken/h2b/giulia/radial_analysis_output/follow/individual_spatiotemporal_heatmaps/400.400.10/wt_apop_wt_div/GV0796_Pos8_423_GFP_N_cells / /home/nathan/data/kraken/h2b/giulia/radial_analysis_output/follow/individual_spatiotemporal_heatmaps/400.400.10/wt_apop_wt_div/GV0796_Pos8_423_GFP_N_events saved out successfully',\n",
       "  '/home/nathan/data/kraken/h2b/giulia/radial_analysis_output/follow/individual_spatiotemporal_heatmaps/400.400.10/wt_apop_wt_div/GV0797_Pos23_88_GFP_N_cells / /home/nathan/data/kraken/h2b/giulia/radial_analysis_output/follow/individual_spatiotemporal_heatmaps/400.400.10/wt_apop_wt_div/GV0797_Pos23_88_GFP_N_events saved out successfully',\n",
       "  '/home/nathan/data/kraken/h2b/giulia/radial_analysis_output/follow/individual_spatiotemporal_heatmaps/400.400.10/wt_apop_wt_div/GV0797_Pos23_248_GFP_N_cells / /home/nathan/data/kraken/h2b/giulia/radial_analysis_output/follow/individual_spatiotemporal_heatmaps/400.400.10/wt_apop_wt_div/GV0797_Pos23_248_GFP_N_events saved out successfully',\n",
       "  '/home/nathan/data/kraken/h2b/giulia/radial_analysis_output/follow/individual_spatiotemporal_heatmaps/400.400.10/wt_apop_wt_div/GV0794_Pos3_311_GFP_N_cells / /home/nathan/data/kraken/h2b/giulia/radial_analysis_output/follow/individual_spatiotemporal_heatmaps/400.400.10/wt_apop_wt_div/GV0794_Pos3_311_GFP_N_events saved out successfully',\n",
       "  '/home/nathan/data/kraken/h2b/giulia/radial_analysis_output/follow/individual_spatiotemporal_heatmaps/400.400.10/wt_apop_wt_div/GV0794_Pos3_142_GFP_N_cells / /home/nathan/data/kraken/h2b/giulia/radial_analysis_output/follow/individual_spatiotemporal_heatmaps/400.400.10/wt_apop_wt_div/GV0794_Pos3_142_GFP_N_events saved out successfully',\n",
       "  '/home/nathan/data/kraken/h2b/giulia/radial_analysis_output/follow/individual_spatiotemporal_heatmaps/400.400.10/wt_apop_wt_div/GV0802_Pos5_184_GFP_N_cells / /home/nathan/data/kraken/h2b/giulia/radial_analysis_output/follow/individual_spatiotemporal_heatmaps/400.400.10/wt_apop_wt_div/GV0802_Pos5_184_GFP_N_events saved out successfully',\n",
       "  '/home/nathan/data/kraken/h2b/giulia/radial_analysis_output/follow/individual_spatiotemporal_heatmaps/400.400.10/wt_apop_wt_div/GV0802_Pos5_185_GFP_N_cells / /home/nathan/data/kraken/h2b/giulia/radial_analysis_output/follow/individual_spatiotemporal_heatmaps/400.400.10/wt_apop_wt_div/GV0802_Pos5_185_GFP_N_events saved out successfully',\n",
       "  '/home/nathan/data/kraken/h2b/giulia/radial_analysis_output/follow/individual_spatiotemporal_heatmaps/400.400.10/wt_apop_wt_div/GV0802_Pos5_372_GFP_N_cells / /home/nathan/data/kraken/h2b/giulia/radial_analysis_output/follow/individual_spatiotemporal_heatmaps/400.400.10/wt_apop_wt_div/GV0802_Pos5_372_GFP_N_events saved out successfully',\n",
       "  '/home/nathan/data/kraken/h2b/giulia/radial_analysis_output/follow/individual_spatiotemporal_heatmaps/400.400.10/wt_apop_wt_div/GV0802_Pos5_141_GFP_N_cells / /home/nathan/data/kraken/h2b/giulia/radial_analysis_output/follow/individual_spatiotemporal_heatmaps/400.400.10/wt_apop_wt_div/GV0802_Pos5_141_GFP_N_events saved out successfully',\n",
       "  '/home/nathan/data/kraken/h2b/giulia/radial_analysis_output/follow/individual_spatiotemporal_heatmaps/400.400.10/wt_apop_wt_div/GV0801_Pos4_298_GFP_N_cells / /home/nathan/data/kraken/h2b/giulia/radial_analysis_output/follow/individual_spatiotemporal_heatmaps/400.400.10/wt_apop_wt_div/GV0801_Pos4_298_GFP_N_events saved out successfully',\n",
       "  '/home/nathan/data/kraken/h2b/giulia/radial_analysis_output/follow/individual_spatiotemporal_heatmaps/400.400.10/wt_apop_wt_div/GV0801_Pos4_2650_GFP_N_cells / /home/nathan/data/kraken/h2b/giulia/radial_analysis_output/follow/individual_spatiotemporal_heatmaps/400.400.10/wt_apop_wt_div/GV0801_Pos4_2650_GFP_N_events saved out successfully',\n",
       "  '/home/nathan/data/kraken/h2b/giulia/radial_analysis_output/follow/individual_spatiotemporal_heatmaps/400.400.10/wt_apop_wt_div/GV0801_Pos4_3147_GFP_N_cells / /home/nathan/data/kraken/h2b/giulia/radial_analysis_output/follow/individual_spatiotemporal_heatmaps/400.400.10/wt_apop_wt_div/GV0801_Pos4_3147_GFP_N_events saved out successfully',\n",
       "  '/home/nathan/data/kraken/h2b/giulia/radial_analysis_output/follow/individual_spatiotemporal_heatmaps/400.400.10/wt_apop_wt_div/GV0801_Pos4_1396_GFP_N_cells / /home/nathan/data/kraken/h2b/giulia/radial_analysis_output/follow/individual_spatiotemporal_heatmaps/400.400.10/wt_apop_wt_div/GV0801_Pos4_1396_GFP_N_events saved out successfully',\n",
       "  '/home/nathan/data/kraken/h2b/giulia/radial_analysis_output/follow/individual_spatiotemporal_heatmaps/400.400.10/wt_apop_wt_div/GV0801_Pos4_3582_GFP_N_cells / /home/nathan/data/kraken/h2b/giulia/radial_analysis_output/follow/individual_spatiotemporal_heatmaps/400.400.10/wt_apop_wt_div/GV0801_Pos4_3582_GFP_N_events saved out successfully',\n",
       "  '/home/nathan/data/kraken/h2b/giulia/radial_analysis_output/follow/individual_spatiotemporal_heatmaps/400.400.10/wt_apop_wt_div/GV0794_Pos4_393_GFP_N_cells / /home/nathan/data/kraken/h2b/giulia/radial_analysis_output/follow/individual_spatiotemporal_heatmaps/400.400.10/wt_apop_wt_div/GV0794_Pos4_393_GFP_N_events saved out successfully',\n",
       "  '/home/nathan/data/kraken/h2b/giulia/radial_analysis_output/follow/individual_spatiotemporal_heatmaps/400.400.10/wt_apop_wt_div/GV0820_Pos1_130_GFP_N_cells / /home/nathan/data/kraken/h2b/giulia/radial_analysis_output/follow/individual_spatiotemporal_heatmaps/400.400.10/wt_apop_wt_div/GV0820_Pos1_130_GFP_N_events saved out successfully',\n",
       "  '/home/nathan/data/kraken/h2b/giulia/radial_analysis_output/follow/individual_spatiotemporal_heatmaps/400.400.10/wt_apop_wt_div/GV0820_Pos1_412_GFP_N_cells / /home/nathan/data/kraken/h2b/giulia/radial_analysis_output/follow/individual_spatiotemporal_heatmaps/400.400.10/wt_apop_wt_div/GV0820_Pos1_412_GFP_N_events saved out successfully',\n",
       "  '/home/nathan/data/kraken/h2b/giulia/radial_analysis_output/follow/individual_spatiotemporal_heatmaps/400.400.10/wt_apop_wt_div/GV0820_Pos1_1427_GFP_N_cells / /home/nathan/data/kraken/h2b/giulia/radial_analysis_output/follow/individual_spatiotemporal_heatmaps/400.400.10/wt_apop_wt_div/GV0820_Pos1_1427_GFP_N_events saved out successfully',\n",
       "  '/home/nathan/data/kraken/h2b/giulia/radial_analysis_output/follow/individual_spatiotemporal_heatmaps/400.400.10/wt_apop_wt_div/GV0820_Pos1_503_GFP_N_cells / /home/nathan/data/kraken/h2b/giulia/radial_analysis_output/follow/individual_spatiotemporal_heatmaps/400.400.10/wt_apop_wt_div/GV0820_Pos1_503_GFP_N_events saved out successfully',\n",
       "  '/home/nathan/data/kraken/h2b/giulia/radial_analysis_output/follow/individual_spatiotemporal_heatmaps/400.400.10/wt_apop_wt_div/GV0820_Pos1_368_GFP_N_cells / /home/nathan/data/kraken/h2b/giulia/radial_analysis_output/follow/individual_spatiotemporal_heatmaps/400.400.10/wt_apop_wt_div/GV0820_Pos1_368_GFP_N_events saved out successfully',\n",
       "  '/home/nathan/data/kraken/h2b/giulia/radial_analysis_output/follow/individual_spatiotemporal_heatmaps/400.400.10/wt_apop_wt_div/GV0820_Pos1_1818_GFP_N_cells / /home/nathan/data/kraken/h2b/giulia/radial_analysis_output/follow/individual_spatiotemporal_heatmaps/400.400.10/wt_apop_wt_div/GV0820_Pos1_1818_GFP_N_events saved out successfully'])"
      ]
     },
     "execution_count": 15,
     "metadata": {},
     "output_type": "execute_result"
    }
   ],
   "source": [
    "error_log, success_log"
   ]
  },
  {
   "cell_type": "markdown",
   "metadata": {},
   "source": [
    "## 4) Compile individual heatmaps into cumulative plots "
   ]
  },
  {
   "cell_type": "markdown",
   "metadata": {},
   "source": [
    "Compile cumulative heatmap by iteratively adding single-apoptosis heatmaps from previous output or different pre-established output "
   ]
  },
  {
   "cell_type": "code",
   "execution_count": 16,
   "metadata": {},
   "outputs": [],
   "source": [
    "single_cell_heatmap_location = output_path\n",
    "#single_cell_heatmap_location = '/home/nathan/data/kraken/h2b/giulia/radial_analysis_output/follow/individual_spatiotemporal_heatmaps/400.400.10/scr_apop_wt_div'\n",
    "save_path = '/home/nathan/data/kraken/h2b/giulia/radial_analysis_output/follow/cumulative_plots/400.400.10/wt_apop_wt_div'\n",
    "Path(save_path).mkdir(parents=True, exist_ok=True)\n",
    "radius, t_range, num_bins = 400, 400, 10"
   ]
  },
  {
   "cell_type": "code",
   "execution_count": 17,
   "metadata": {},
   "outputs": [
    {
     "data": {
      "text/plain": [
       "385"
      ]
     },
     "execution_count": 17,
     "metadata": {},
     "output_type": "execute_result"
    }
   ],
   "source": [
    "N_cells, N_events = np.zeros((num_bins, num_bins)), np.zeros((num_bins, num_bins))\n",
    "N = 0\n",
    "for heatmap_ID in natsorted(os.listdir(single_cell_heatmap_location)):\n",
    "    if 'N_cells' in heatmap_ID:\n",
    "        N_cells += np.load(os.path.join(single_cell_heatmap_location,heatmap_ID))\n",
    "    if 'N_events' in heatmap_ID:\n",
    "        N_events += np.load(os.path.join(single_cell_heatmap_location,heatmap_ID))\n",
    "        N+=1\n",
    "N"
   ]
  },
  {
   "cell_type": "code",
   "execution_count": 18,
   "metadata": {},
   "outputs": [
    {
     "name": "stdout",
     "output_type": "stream",
     "text": [
      "The number of WT. cells counted is equal to =  8179101.0\n"
     ]
    }
   ],
   "source": [
    "print(\"The number of WT. cells counted is equal to = \", N_cells.sum())"
   ]
  },
  {
   "cell_type": "markdown",
   "metadata": {},
   "source": [
    "Function to plot heatmaps: \n",
    "\n",
    "`plot_cumulative(input_2d_hist, num_bins, radius, t_range, title, expt_label, cb_label, save_path, SI = True)`\n",
    "\n",
    "Where the variables needed are as follows:\n",
    "\n",
    "- `input_2d_hist` = Input 2D histogram\n",
    "- `num_bins` = Number of bins the histogram is sorted into\n",
    "- `radius` = Spatial extent of scan\n",
    "- `t_range` = Temporal range of scan\n",
    "- `title` = Title/save out filename of heatmap\n",
    "- `label` = Optional label for heatmap\n",
    "- `cb_label` = Label for colourbar\n",
    "- `save_path` = Ouput save path, if empty string then plot will not be saved out\n",
    "- `SI` = If True then plots the xy in SI base unit instead of pixel/frames"
   ]
  },
  {
   "cell_type": "code",
   "execution_count": 33,
   "metadata": {},
   "outputs": [
    {
     "data": {
      "text/plain": [
       "'/home/nathan/data/kraken/h2b/giulia/radial_analysis_output/follow/cumulative_plots/400.400.10/scr_apop_wt_div'"
      ]
     },
     "execution_count": 33,
     "metadata": {},
     "output_type": "execute_result"
    }
   ],
   "source": [
    "save_path"
   ]
  },
  {
   "cell_type": "code",
   "execution_count": 19,
   "metadata": {},
   "outputs": [
    {
     "name": "stdout",
     "output_type": "stream",
     "text": [
      "Plot saved at  /home/nathan/data/kraken/h2b/giulia/radial_analysis_output/follow/cumulative_plots/400.400.10/wt_apop_wt_div/Spatiotemporal dist. of wild-type cells \n",
      " around wild-type apoptoses (N=385).pdf\n"
     ]
    },
    {
     "data": {
      "text/plain": [
       "<matplotlib.image.AxesImage at 0x7ff30fa3fb10>"
      ]
     },
     "execution_count": 19,
     "metadata": {},
     "output_type": "execute_result"
    },
    {
     "data": {
      "image/png": "[encoded data removed]",
      "text/plain": [
       "<Figure size 432x288 with 2 Axes>"
      ]
     },
     "metadata": {
      "needs_background": "light"
     },
     "output_type": "display_data"
    }
   ],
   "source": [
    "render.plot_cumulative(input_2d_hist = N_cells,\n",
    "                num_bins  = 10,\n",
    "                radius  = 400,\n",
    "                t_range = 400, \n",
    "                title = 'Spatiotemporal dist. of wild-type cells \\n around wild-type apoptoses (N={})'.format(N), \n",
    "                label = '', \n",
    "                cb_label = 'Number of wild-type cell apperances', \n",
    "                save_path = save_path,#'/home/nathan/data/kraken/h2b/giulia/radial_analysis_output/follow/cumulative_plots/400.400.10/scr_apop_wt_div',\n",
    "                SI = True) ## SI is standard "
   ]
  },
  {
   "cell_type": "code",
   "execution_count": 20,
   "metadata": {},
   "outputs": [
    {
     "name": "stdout",
     "output_type": "stream",
     "text": [
      "Plot saved at  /home/nathan/data/kraken/h2b/giulia/radial_analysis_output/follow/cumulative_plots/400.400.10/wt_apop_wt_div/Spatiotemporal dist. of wild-type mitoses \n",
      " around wild-type apoptoses (N=385).pdf\n"
     ]
    },
    {
     "data": {
      "text/plain": [
       "<matplotlib.image.AxesImage at 0x7ff308441210>"
      ]
     },
     "execution_count": 20,
     "metadata": {},
     "output_type": "execute_result"
    },
    {
     "data": {
      "image/png": "[encoded data removed]",
      "text/plain": [
       "<Figure size 432x288 with 2 Axes>"
      ]
     },
     "metadata": {
      "needs_background": "light"
     },
     "output_type": "display_data"
    }
   ],
   "source": [
    "render.plot_cumulative(input_2d_hist = N_events,\n",
    "                num_bins  = 10,\n",
    "                radius  = 400,\n",
    "                t_range = 400, \n",
    "                title = 'Spatiotemporal dist. of wild-type mitoses \\n around wild-type apoptoses (N={})'.format(N), \n",
    "                label = '', \n",
    "                cb_label = 'Number of wild-type divisions', \n",
    "                save_path = save_path,#'/home/nathan/data/kraken/h2b/giulia/radial_analysis_output/cumulative_plots/400.400.10/scr_apop_wt_div',\n",
    "                SI = True)"
   ]
  },
  {
   "cell_type": "code",
   "execution_count": 21,
   "metadata": {},
   "outputs": [
    {
     "name": "stdout",
     "output_type": "stream",
     "text": [
      "Plot saved at  /home/nathan/data/kraken/h2b/giulia/radial_analysis_output/follow/cumulative_plots/400.400.10/wt_apop_wt_div/Spatiotemporal dist. of probability of wild-type division \n",
      " around wild-type apoptoses (N=385).pdf\n"
     ]
    },
    {
     "data": {
      "text/plain": [
       "<matplotlib.image.AxesImage at 0x7ff3045c1a10>"
      ]
     },
     "execution_count": 21,
     "metadata": {},
     "output_type": "execute_result"
    },
    {
     "data": {
      "image/png": "[encoded data removed]",
      "text/plain": [
       "<Figure size 432x288 with 2 Axes>"
      ]
     },
     "metadata": {
      "needs_background": "light"
     },
     "output_type": "display_data"
    }
   ],
   "source": [
    "render.plot_cumulative(input_2d_hist = N_events/N_cells,\n",
    "                num_bins  = 10,\n",
    "                radius  = 400,\n",
    "                t_range = 400, \n",
    "                title = 'Spatiotemporal dist. of probability of wild-type division \\n around wild-type apoptoses (N={})'.format(N), \n",
    "                label = '', \n",
    "                cb_label = 'Probability of wild-type division', \n",
    "                save_path = save_path,#'/home/nathan/data/kraken/h2b/giulia/radial_analysis_output/cumulative_plots/400.400.10/scr_apop_wt_div',\n",
    "                SI = True)"
   ]
  },
  {
   "cell_type": "markdown",
   "metadata": {},
   "source": [
    "# 5) Miscellaneous section: segregating cumulative plots based on experiment type"
   ]
  },
  {
   "cell_type": "markdown",
   "metadata": {},
   "source": [
    "50:50 expt"
   ]
  },
  {
   "cell_type": "code",
   "execution_count": 27,
   "metadata": {},
   "outputs": [],
   "source": [
    "single_cell_heatmap_location = '/home/nathan/data/kraken/h2b/giulia/radial_analysis_output/follow/individual_spatiotemporal_heatmaps/400.400.10/scr_apop_wt_div'\n",
    "save_path = '/home/nathan/data/kraken/h2b/giulia/radial_analysis_output/follow/cumulative_plots/400.400.10/scr_apop_wt_div/expt_types'\n",
    "Path(save_path).mkdir(parents=True, exist_ok=True)"
   ]
  },
  {
   "cell_type": "code",
   "execution_count": 28,
   "metadata": {},
   "outputs": [],
   "source": [
    "expt_list_5050 = ['GV0794/Pos4',\n",
    "                 'GV0794/Pos7',\n",
    "                 'GV0794/Pos16',\n",
    "                 'GV0795/Pos4',\n",
    "                 'GV0795/Pos7',\n",
    "                 'GV0795/Pos17',\n",
    "                 'GV0796/Pos4',\n",
    "                 'GV0796/Pos7',\n",
    "                 'GV0796/Pos21',\n",
    "                 'GV0796/Pos22',\n",
    "                 'GV0797/Pos4',\n",
    "                 'GV0797/Pos7',\n",
    "                 'GV0797/Pos20',\n",
    "                 'GV0797/Pos21',\n",
    "                 'GV0798/Pos4',\n",
    "                 'GV0798/Pos7',\n",
    "                 'GV0798/Pos20',\n",
    "                 'GV0798/Pos21',\n",
    "                 'GV0800/Pos4', \n",
    "                 'GV0800/Pos7',\n",
    "                 'GV0800/Pos16',\n",
    "                 'GV0801/Pos4',\n",
    "                 'GV0802/Pos4',\n",
    "                 'GV0804/Pos4',\n",
    "                 'GV0805/Pos4',\n",
    "                 'GV0806/Pos4',\n",
    "                 'GV0807/Pos4',\n",
    "                 'GV0812/Pos0',\n",
    "                 'GV0812/Pos1',\n",
    "                 'GV0812/Pos2',\n",
    "                 'GV0812/Pos3',\n",
    "                 'GV0812/Pos4',\n",
    "                 'GV0812/Pos5',\n",
    "                 'GV0813/Pos0',\n",
    "                 'GV0813/Pos1',\n",
    "                 'GV0813/Pos2',\n",
    "                 'GV0813/Pos3',\n",
    "                 'GV0813/Pos4',\n",
    "                 'GV0813/Pos5',\n",
    "                 'GV0814/Pos0',\n",
    "                 'GV0814/Pos11',\n",
    "                 'GV0814/Pos12',\n",
    "                 'GV0814/Pos23',\n",
    "                 'GV0815/Pos0',\n",
    "                 'GV0815/Pos11',\n",
    "                 'GV0815/Pos12',\n",
    "                 'GV0815/Pos23',\n",
    "                 'GV0816/Pos0',\n",
    "                 'GV0816/Pos13',\n",
    "                 'GV0816/Pos14',\n",
    "                 'GV0816/Pos23',\n",
    "                 'GV0817/Pos0',\n",
    "                 'GV0817/Pos11',\n",
    "                 'GV0817/Pos12',\n",
    "                 'GV0817/Pos23',\n",
    "                 'GV0818/Pos12',\n",
    "                 'GV0818/Pos13',\n",
    "                 'GV0819/Pos0',\n",
    "                 'GV0819/Pos1',\n",
    "                 'GV0819/Pos2',\n",
    "                 'GV0819/Pos3',\n",
    "                 'GV0819/Pos4',\n",
    "                 'GV0819/Pos5',\n",
    "                 'GV0820/Pos0',\n",
    "                 'GV0820/Pos1',\n",
    "                 'GV0820/Pos2',\n",
    "                 'GV0820/Pos3',\n",
    "                 'GV0820/Pos4',\n",
    "                 'GV0820/Pos5']"
   ]
  },
  {
   "cell_type": "code",
   "execution_count": 37,
   "metadata": {},
   "outputs": [
    {
     "data": {
      "text/plain": [
       "1111"
      ]
     },
     "execution_count": 37,
     "metadata": {},
     "output_type": "execute_result"
    }
   ],
   "source": [
    "N_cells, N_events = np.zeros((num_bins, num_bins)), np.zeros((num_bins, num_bins))\n",
    "N = 0\n",
    "for heatmap_ID in natsorted(os.listdir(single_cell_heatmap_location)):\n",
    "    #print(heatmap_ID.split('_P'))\n",
    "    expt = 'GV' +str(re.findall(r\"GV(\\d+)\", heatmap_ID)[0])\n",
    "    position = re.findall(r\"Pos(\\d+)\", heatmap_ID)[0]\n",
    "    if os.path.join(expt,'Pos'+position) in expt_list_5050:\n",
    "        if 'N_cells' in heatmap_ID:\n",
    "            N_cells += np.load(os.path.join(single_cell_heatmap_location,heatmap_ID))\n",
    "        if 'N_events' in heatmap_ID:\n",
    "            N_events += np.load(os.path.join(single_cell_heatmap_location,heatmap_ID))\n",
    "            N+=1\n",
    "N"
   ]
  },
  {
   "cell_type": "code",
   "execution_count": 38,
   "metadata": {},
   "outputs": [
    {
     "name": "stdout",
     "output_type": "stream",
     "text": [
      "Plot saved at  /home/nathan/data/kraken/h2b/giulia/radial_analysis_output/follow/cumulative_plots/400.400.10/scr_apop_wt_div/expt_types/Spatiotemporal dist. of wild-type cells \n",
      " around Scribble apoptoses (N=1111, 50:50 wt:scr expts only).pdf\n"
     ]
    },
    {
     "data": {
      "text/plain": [
       "<matplotlib.image.AxesImage at 0x7f8816b26bd0>"
      ]
     },
     "execution_count": 38,
     "metadata": {},
     "output_type": "execute_result"
    },
    {
     "data": {
      "image/png": "[encoded data removed]",
      "text/plain": [
       "<Figure size 432x288 with 2 Axes>"
      ]
     },
     "metadata": {
      "needs_background": "light"
     },
     "output_type": "display_data"
    }
   ],
   "source": [
    "render.plot_cumulative(input_2d_hist = N_cells,\n",
    "                num_bins  = 10,\n",
    "                radius  = 400,\n",
    "                t_range = 400, \n",
    "                title = 'Spatiotemporal dist. of wild-type cells \\n around Scribble apoptoses (N={}, 50:50 wt:scr expts only)'.format(N), \n",
    "                label = '', \n",
    "                cb_label = 'Number of cell apperances', \n",
    "                save_path = '/home/nathan/data/kraken/h2b/giulia/radial_analysis_output/follow/cumulative_plots/400.400.10/scr_apop_wt_div/expt_types',\n",
    "                SI = True) ## SI is standard "
   ]
  },
  {
   "cell_type": "code",
   "execution_count": 39,
   "metadata": {},
   "outputs": [
    {
     "name": "stdout",
     "output_type": "stream",
     "text": [
      "Plot saved at  /home/nathan/data/kraken/h2b/giulia/radial_analysis_output/follow/cumulative_plots/400.400.10/scr_apop_wt_div/expt_types/Spatiotemporal dist. of wild-type division \n",
      " around Scribble apoptoses (N=1111, 50:50 wt:scr expts only).pdf\n"
     ]
    },
    {
     "data": {
      "text/plain": [
       "<matplotlib.image.AxesImage at 0x7f8816d6c9d0>"
      ]
     },
     "execution_count": 39,
     "metadata": {},
     "output_type": "execute_result"
    },
    {
     "data": {
      "image/png": "[encoded data removed]",
      "text/plain": [
       "<Figure size 432x288 with 2 Axes>"
      ]
     },
     "metadata": {
      "needs_background": "light"
     },
     "output_type": "display_data"
    }
   ],
   "source": [
    "render.plot_cumulative(input_2d_hist = N_events,\n",
    "                num_bins  = 10,\n",
    "                radius  = 400,\n",
    "                t_range = 400, \n",
    "                title = 'Spatiotemporal dist. of wild-type division \\n around Scribble apoptoses (N={}, 50:50 wt:scr expts only)'.format(N), \n",
    "                label = '', \n",
    "                cb_label = 'Number of wild-type divisions', \n",
    "                save_path = '/home/nathan/data/kraken/h2b/giulia/radial_analysis_output/follow/cumulative_plots/400.400.10/scr_apop_wt_div/expt_types',\n",
    "                SI = True)"
   ]
  },
  {
   "cell_type": "code",
   "execution_count": 40,
   "metadata": {},
   "outputs": [
    {
     "name": "stdout",
     "output_type": "stream",
     "text": [
      "Plot saved at  /home/nathan/data/kraken/h2b/giulia/radial_analysis_output/follow/cumulative_plots/400.400.10/scr_apop_wt_div/expt_types/Spatiotemporal dist. of probability of Scribble division \n",
      " around wild-type apoptoses (N=1111, 50:50 wt:scr expts only).pdf\n"
     ]
    },
    {
     "data": {
      "text/plain": [
       "<matplotlib.image.AxesImage at 0x7f8816d6c490>"
      ]
     },
     "execution_count": 40,
     "metadata": {},
     "output_type": "execute_result"
    },
    {
     "data": {
      "image/png": "[encoded data removed]",
      "text/plain": [
       "<Figure size 432x288 with 2 Axes>"
      ]
     },
     "metadata": {
      "needs_background": "light"
     },
     "output_type": "display_data"
    }
   ],
   "source": [
    "render.plot_cumulative(input_2d_hist = N_events/N_cells,\n",
    "                num_bins  = 10,\n",
    "                radius  = 400,\n",
    "                t_range = 400,  \n",
    "                title = 'Spatiotemporal dist. of probability of Scribble division \\n around wild-type apoptoses (N={}, 50:50 wt:scr expts only)'.format(N), \n",
    "                label = '', \n",
    "                cb_label = 'Probability of division', \n",
    "                save_path = '/home/nathan/data/kraken/h2b/giulia/radial_analysis_output/follow/cumulative_plots/400.400.10/scr_apop_wt_div/expt_types',\n",
    "                SI = True)"
   ]
  },
  {
   "cell_type": "markdown",
   "metadata": {},
   "source": [
    "90:10 wt:scr"
   ]
  },
  {
   "cell_type": "code",
   "execution_count": 41,
   "metadata": {},
   "outputs": [],
   "source": [
    "expt_list_9010 = ['GV0794/Pos3',\n",
    " 'GV0794/Pos8',\n",
    " 'GV0794/Pos15',\n",
    " 'GV0795/Pos3',\n",
    " 'GV0795/Pos8',\n",
    " 'GV0795/Pos16',\n",
    " 'GV0796/Pos3',\n",
    " 'GV0796/Pos8',\n",
    " 'GV0796/Pos19',\n",
    " 'GV0796/Pos20',\n",
    " 'GV0797/Pos3',\n",
    " 'GV0797/Pos8',\n",
    " 'GV0797/Pos18',\n",
    " 'GV0797/Pos19',\n",
    " 'GV0798/Pos3',\n",
    " 'GV0798/Pos8',\n",
    " 'GV0798/Pos18',\n",
    " 'GV0798/Pos19',\n",
    " 'GV0800/Pos3',\n",
    " 'GV0800/Pos8',\n",
    " 'GV0800/Pos15',\n",
    " 'GV0801/Pos3',\n",
    " 'GV0802/Pos3',\n",
    " 'GV0804/Pos3',\n",
    " 'GV0805/Pos3',\n",
    " 'GV0806/Pos3',\n",
    " 'GV0807/Pos3']"
   ]
  },
  {
   "cell_type": "code",
   "execution_count": 42,
   "metadata": {},
   "outputs": [
    {
     "data": {
      "text/plain": [
       "131"
      ]
     },
     "execution_count": 42,
     "metadata": {},
     "output_type": "execute_result"
    }
   ],
   "source": [
    "N_cells, N_events = np.zeros((num_bins, num_bins)), np.zeros((num_bins, num_bins))\n",
    "N=0\n",
    "for heatmap_ID in natsorted(os.listdir(single_cell_heatmap_location)):\n",
    "    #print(heatmap_ID.split('_P'))\n",
    "    expt = 'GV' +str(re.findall(r\"GV(\\d+)\", heatmap_ID)[0])\n",
    "    position = re.findall(r\"Pos(\\d+)\", heatmap_ID)[0]\n",
    "    if os.path.join(expt,'Pos'+position) in expt_list_9010:\n",
    "        if 'N_cells' in heatmap_ID:\n",
    "            N_cells += np.load(os.path.join(single_cell_heatmap_location,heatmap_ID))\n",
    "        if 'N_events' in heatmap_ID:\n",
    "            N_events += np.load(os.path.join(single_cell_heatmap_location,heatmap_ID))\n",
    "            N+=1\n",
    "N"
   ]
  },
  {
   "cell_type": "code",
   "execution_count": 43,
   "metadata": {},
   "outputs": [
    {
     "name": "stdout",
     "output_type": "stream",
     "text": [
      "Plot saved at  /home/nathan/data/kraken/h2b/giulia/radial_analysis_output/follow/cumulative_plots/400.400.10/scr_apop_wt_div/expt_types/Spatiotemporal dist. of wild-type cells \n",
      " around Scribble apoptoses (N=131, 90:10 wt:scr expts only).pdf\n"
     ]
    },
    {
     "data": {
      "text/plain": [
       "<matplotlib.image.AxesImage at 0x7f8816b9a1d0>"
      ]
     },
     "execution_count": 43,
     "metadata": {},
     "output_type": "execute_result"
    },
    {
     "data": {
      "image/png": "[encoded data removed]",
      "text/plain": [
       "<Figure size 432x288 with 2 Axes>"
      ]
     },
     "metadata": {
      "needs_background": "light"
     },
     "output_type": "display_data"
    }
   ],
   "source": [
    "render.plot_cumulative(input_2d_hist = N_cells,\n",
    "                num_bins  = 10,\n",
    "                radius  = 400,\n",
    "                t_range = 400, \n",
    "                title = 'Spatiotemporal dist. of wild-type cells \\n around Scribble apoptoses (N={}, 90:10 wt:scr expts only)'.format(N), \n",
    "                label = '', \n",
    "                cb_label = 'Number of cell apperances', \n",
    "                save_path = '/home/nathan/data/kraken/h2b/giulia/radial_analysis_output/follow/cumulative_plots/400.400.10/scr_apop_wt_div/expt_types',\n",
    "                SI = True) ## SI is standard "
   ]
  },
  {
   "cell_type": "code",
   "execution_count": 44,
   "metadata": {},
   "outputs": [
    {
     "name": "stdout",
     "output_type": "stream",
     "text": [
      "Plot saved at  /home/nathan/data/kraken/h2b/giulia/radial_analysis_output/follow/cumulative_plots/400.400.10/scr_apop_wt_div/expt_types/Spatiotemporal dist. of wild-type division \n",
      " around Scribble apoptoses (N=131, 90:10 wt:scr expts only).pdf\n"
     ]
    },
    {
     "data": {
      "text/plain": [
       "<matplotlib.image.AxesImage at 0x7f88181cc550>"
      ]
     },
     "execution_count": 44,
     "metadata": {},
     "output_type": "execute_result"
    },
    {
     "data": {
      "image/png": "[encoded data removed]",
      "text/plain": [
       "<Figure size 432x288 with 2 Axes>"
      ]
     },
     "metadata": {
      "needs_background": "light"
     },
     "output_type": "display_data"
    }
   ],
   "source": [
    "render.plot_cumulative(input_2d_hist = N_events,\n",
    "                num_bins  = 10,\n",
    "                radius  = 400,\n",
    "                t_range = 400, \n",
    "                title = 'Spatiotemporal dist. of wild-type division \\n around Scribble apoptoses (N={}, 90:10 wt:scr expts only)'.format(N),\n",
    "                label = '', \n",
    "                cb_label = 'Number of wild-type divisions', \n",
    "                save_path = '/home/nathan/data/kraken/h2b/giulia/radial_analysis_output/follow/cumulative_plots/400.400.10/scr_apop_wt_div/expt_types',\n",
    "                SI = True)"
   ]
  },
  {
   "cell_type": "code",
   "execution_count": 45,
   "metadata": {
    "scrolled": false
   },
   "outputs": [
    {
     "name": "stdout",
     "output_type": "stream",
     "text": [
      "Plot saved at  /home/nathan/data/kraken/h2b/giulia/radial_analysis_output/follow/cumulative_plots/400.400.10/scr_apop_wt_div/expt_types/Spatiotemporal dist. of probability of wild-type division \n",
      " around Scribble apoptoses (N=131, 90:10 wt:scr expts only).pdf\n"
     ]
    },
    {
     "data": {
      "text/plain": [
       "<matplotlib.image.AxesImage at 0x7f881698f190>"
      ]
     },
     "execution_count": 45,
     "metadata": {},
     "output_type": "execute_result"
    },
    {
     "data": {
      "image/png": "[encoded data removed]",
      "text/plain": [
       "<Figure size 432x288 with 2 Axes>"
      ]
     },
     "metadata": {
      "needs_background": "light"
     },
     "output_type": "display_data"
    }
   ],
   "source": [
    "render.plot_cumulative(input_2d_hist = N_events/N_cells,\n",
    "                num_bins  = 10,\n",
    "                radius  = 400,\n",
    "                t_range = 400, \n",
    "                title = 'Spatiotemporal dist. of probability of wild-type division \\n around Scribble apoptoses (N={}, 90:10 wt:scr expts only)'.format(N),\n",
    "                label = '', \n",
    "                cb_label = 'Probability of division', \n",
    "                save_path = '/home/nathan/data/kraken/h2b/giulia/radial_analysis_output/follow/cumulative_plots/400.400.10/scr_apop_wt_div/expt_types',\n",
    "                SI = True)"
   ]
  },
  {
   "cell_type": "markdown",
   "metadata": {},
   "source": [
    "10:90 wt:scr"
   ]
  },
  {
   "cell_type": "code",
   "execution_count": 46,
   "metadata": {},
   "outputs": [],
   "source": [
    "expt_list_1090 = ['GV0794/Pos5',\n",
    " 'GV0794/Pos6',\n",
    " 'GV0795/Pos5',\n",
    " 'GV0795/Pos6',\n",
    " 'GV0795/Pos18',\n",
    " 'GV0796/Pos5',\n",
    " 'GV0796/Pos6',\n",
    " 'GV0796/Pos23',\n",
    " 'GV0796/Pos24',\n",
    " 'GV0797/Pos5',\n",
    " 'GV0797/Pos6',\n",
    " 'GV0797/Pos22',\n",
    " 'GV0797/Pos23',\n",
    " 'GV0798/Pos5',\n",
    " 'GV0798/Pos6',\n",
    " 'GV0798/Pos22',\n",
    " 'GV0798/Pos23',\n",
    " 'GV0800/Pos5',\n",
    " 'GV0800/Pos6',\n",
    " 'GV0800/Pos17',\n",
    " 'GV0801/Pos5',\n",
    " 'GV0802/Pos5',\n",
    " 'GV0804/Pos5',\n",
    " 'GV0805/Pos5',\n",
    " 'GV0806/Pos5',\n",
    " 'GV0807/Pos5']"
   ]
  },
  {
   "cell_type": "code",
   "execution_count": 47,
   "metadata": {},
   "outputs": [
    {
     "data": {
      "text/plain": [
       "597"
      ]
     },
     "execution_count": 47,
     "metadata": {},
     "output_type": "execute_result"
    }
   ],
   "source": [
    "N_cells, N_events = np.zeros((num_bins, num_bins)), np.zeros((num_bins, num_bins))\n",
    "N=0\n",
    "for heatmap_ID in natsorted(os.listdir(single_cell_heatmap_location)):\n",
    "    #print(heatmap_ID.split('_P'))\n",
    "    expt = 'GV' +str(re.findall(r\"GV(\\d+)\", heatmap_ID)[0])\n",
    "    position = re.findall(r\"Pos(\\d+)\", heatmap_ID)[0]\n",
    "    if os.path.join(expt,'Pos'+position) in expt_list_1090:\n",
    "        if 'N_cells' in heatmap_ID:\n",
    "            N_cells += np.load(os.path.join(single_cell_heatmap_location,heatmap_ID))\n",
    "        if 'N_events' in heatmap_ID:\n",
    "            N_events += np.load(os.path.join(single_cell_heatmap_location,heatmap_ID))\n",
    "            N+=1\n",
    "N"
   ]
  },
  {
   "cell_type": "code",
   "execution_count": 48,
   "metadata": {},
   "outputs": [
    {
     "name": "stdout",
     "output_type": "stream",
     "text": [
      "Plot saved at  /home/nathan/data/kraken/h2b/giulia/radial_analysis_output/follow/cumulative_plots/400.400.10/scr_apop_wt_div/expt_types/Spatiotemporal dist. of wild-type cells around \n",
      "Scribble apoptoses (N=597, 10:90 wt:scr expts only).pdf\n"
     ]
    },
    {
     "data": {
      "text/plain": [
       "<matplotlib.image.AxesImage at 0x7f881690f650>"
      ]
     },
     "execution_count": 48,
     "metadata": {},
     "output_type": "execute_result"
    },
    {
     "data": {
      "image/png": "[encoded data removed]",
      "text/plain": [
       "<Figure size 432x288 with 2 Axes>"
      ]
     },
     "metadata": {
      "needs_background": "light"
     },
     "output_type": "display_data"
    }
   ],
   "source": [
    "render.plot_cumulative(input_2d_hist = N_cells,\n",
    "                num_bins  = 10,\n",
    "                radius  = 400,\n",
    "                t_range = 400, \n",
    "                title = 'Spatiotemporal dist. of wild-type cells around \\nScribble apoptoses (N={}, 10:90 wt:scr expts only)'.format(N), \n",
    "                label = '', \n",
    "                cb_label = 'Number of cell apperances', \n",
    "                save_path = '/home/nathan/data/kraken/h2b/giulia/radial_analysis_output/follow/cumulative_plots/400.400.10/scr_apop_wt_div/expt_types',\n",
    "                SI = True) ## SI is standard "
   ]
  },
  {
   "cell_type": "code",
   "execution_count": 49,
   "metadata": {},
   "outputs": [
    {
     "name": "stdout",
     "output_type": "stream",
     "text": [
      "Plot saved at  /home/nathan/data/kraken/h2b/giulia/radial_analysis_output/follow/cumulative_plots/400.400.10/scr_apop_wt_div/expt_types/Spatiotemporal dist. of wild-type division around \n",
      "Scribble apoptoses (N=597, 10:90 wt:scr expts only).pdf\n"
     ]
    },
    {
     "data": {
      "text/plain": [
       "<matplotlib.image.AxesImage at 0x7f8816918510>"
      ]
     },
     "execution_count": 49,
     "metadata": {},
     "output_type": "execute_result"
    },
    {
     "data": {
      "image/png": "[encoded data removed]",
      "text/plain": [
       "<Figure size 432x288 with 2 Axes>"
      ]
     },
     "metadata": {
      "needs_background": "light"
     },
     "output_type": "display_data"
    }
   ],
   "source": [
    "render.plot_cumulative(input_2d_hist = N_events,\n",
    "                num_bins  = 10,\n",
    "                radius  = 400,\n",
    "                t_range = 400,  \n",
    "                title = 'Spatiotemporal dist. of wild-type division around \\nScribble apoptoses (N={}, 10:90 wt:scr expts only)'.format(N),\n",
    "                label = '', \n",
    "                cb_label = 'Number of wild-type divisions', \n",
    "                save_path = '/home/nathan/data/kraken/h2b/giulia/radial_analysis_output/follow/cumulative_plots/400.400.10/scr_apop_wt_div/expt_types',\n",
    "                SI = True)"
   ]
  },
  {
   "cell_type": "code",
   "execution_count": 50,
   "metadata": {
    "scrolled": false
   },
   "outputs": [
    {
     "name": "stdout",
     "output_type": "stream",
     "text": [
      "Plot saved at  /home/nathan/data/kraken/h2b/giulia/radial_analysis_output/follow/cumulative_plots/400.400.10/scr_apop_wt_div/expt_types/Spatiotemporal dist. of probability of wild-type division around \n",
      "Scribble apoptoses (N=597, 10:90 wt:scr expts only).pdf\n"
     ]
    },
    {
     "data": {
      "text/plain": [
       "<matplotlib.image.AxesImage at 0x7f8816833d50>"
      ]
     },
     "execution_count": 50,
     "metadata": {},
     "output_type": "execute_result"
    },
    {
     "data": {
      "image/png": "[encoded data removed]",
      "text/plain": [
       "<Figure size 432x288 with 2 Axes>"
      ]
     },
     "metadata": {
      "needs_background": "light"
     },
     "output_type": "display_data"
    }
   ],
   "source": [
    "render.plot_cumulative(input_2d_hist = N_events/N_cells,\n",
    "                num_bins  = 10,\n",
    "                radius  = 400,\n",
    "                t_range = 400, \n",
    "                title = 'Spatiotemporal dist. of probability of wild-type division around \\nScribble apoptoses (N={}, 10:90 wt:scr expts only)'.format(N),\n",
    "                label = '', \n",
    "                cb_label = 'Probability of division', \n",
    "                save_path = '/home/nathan/data/kraken/h2b/giulia/radial_analysis_output/follow/cumulative_plots/400.400.10/scr_apop_wt_div/expt_types',\n",
    "                SI = True)"
   ]
  },
  {
   "cell_type": "markdown",
   "metadata": {},
   "source": [
    "Write a function to do a time evolving plot that iteratively adds single cell heat maps according to the apoptosis time?"
   ]
  }
 ],
 "metadata": {
  "kernelspec": {
   "display_name": "Python 3",
   "language": "python",
   "name": "python3"
  },
  "language_info": {
   "codemirror_mode": {
    "name": "ipython",
    "version": 3
   },
   "file_extension": ".py",
   "mimetype": "text/x-python",
   "name": "python",
   "nbconvert_exporter": "python",
   "pygments_lexer": "ipython3",
   "version": "3.7.4"
  }
 },
 "nbformat": 4,
 "nbformat_minor": 4
}
