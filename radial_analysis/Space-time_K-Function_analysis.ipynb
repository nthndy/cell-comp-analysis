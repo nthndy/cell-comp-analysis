{
 "cells": [
  {
   "cell_type": "markdown",
   "id": "eb869bf7",
   "metadata": {},
   "source": [
    "# Space-time K-function analysis for division counts\n",
    "\n",
    "This time using the webpage cited in the Levayer paper which I ended up finding on web archive.\n",
    "\n",
    "https://web.archive.org/web/20210513032304/https://www.seas.upenn.edu/~ese502/\n",
    "\n",
    "Particularly this chapter:\n",
    "https://web.archive.org/web/20210507072822/https://www.seas.upenn.edu/~ese502/NOTEBOOK/Part_I/6_Space_Time_Processes.pdf"
   ]
  },
  {
   "cell_type": "code",
   "execution_count": 1,
   "id": "112c9ccd",
   "metadata": {},
   "outputs": [],
   "source": [
    "import pandas as pd\n",
    "import numpy as np\n",
    "from tqdm.auto import tqdm\n",
    "from dataio import feather_load_radial_df, load_focal_df\n",
    "from render import render_from_df\n",
    "from tools import focal_xyt_finder\n",
    "import glob\n",
    "from matplotlib import colors\n",
    "import pickle\n",
    "import os\n",
    "from shapely.geometry import Polygon\n",
    "from shapely.geometry.point import Point\n",
    "import matplotlib.pyplot as plt\n",
    "%matplotlib inline\n",
    "import matplotlib\n",
    "matplotlib.rcParams['mathtext.fontset'] = 'stix'\n",
    "matplotlib.rcParams['font.family'] = 'STIXGeneral'\n",
    "#matplotlib.pyplot.title('Distribution of wild-type division probabiulity around Scribble apoptoses\\n')"
   ]
  },
  {
   "cell_type": "markdown",
   "id": "974644dc",
   "metadata": {},
   "source": [
    "# Space-Time Point Processes\n",
    "\n",
    "Event sequences exhibit space-time clustering if events that are close in space tend to be closer in time than would be expected by chance alone. Consider a space-time pattern of events\n",
    "\n",
    "<img src=\"https://latex.codecogs.com/svg.image?\\left\\{e_{i}=(s_{i},t_{i}:i=1,...,n)&space;\\right\\}\" title=\"eq\" />\n",
    "\n",
    "in region R where s<sub>i</sub> denotes location of an event e<sub>i</sub> in R and t<sub>i</sub> denotes the time at which it occurs. If we are interested in the numbers of events that are close to e<sub>i</sub> then for each spatial distance h and time increment Δ it is natural to define the corresponding space-time neighbourhood of e<sub>i</sub> by the Cartesian product \n",
    "\n",
    "<img src=\"https://latex.codecogs.com/svg.image?C_{(h,&space;\\Delta)}(e_{i})=\\left\\{&space;(s,t):\\left\\|s_{i}&space;-s\\right\\|\\leq&space;h,\\left|t_{i}-t&space;\\right|\\leq&space;\\Delta\\right\\}\" title=\"eq\" />\n",
    "\n",
    "<img src=\"https://latex.codecogs.com/svg.image?=&space;\\left\\{s:\\left\\|s_{i}&space;-s\\right\\|\\leq&space;h\\right\\}&space;\\times&space;\\left\\{t:\\left\\|t_{i}&space;-s\\right\\|\\leq&space;\\Delta\\right\\}\" title=\"eq\" />\n",
    "\n",
    "Which corresponds to cylindrical neighbourhoods in space-time. As in two dimensions, one can define a relevant space-time region as the Cartesian product of RxT, with the default time interval usually taken to be the smallest time interval containing all event times. "
   ]
  },
  {
   "cell_type": "markdown",
   "id": "da9778ea",
   "metadata": {},
   "source": [
    "Thus, the extension of the K-functions is completely straightforward and the space-time indicator functions are the same, but with an added temporal dimension condition.\n",
    "\n",
    "<img src=\"https://latex.codecogs.com/svg.image?I_{(h,&space;\\Delta)}\\left(d_{i&space;j},&space;t_{i&space;j}\\right)=&space;\\begin{cases}1,&space;&&space;\\left(d_{i&space;j}&space;\\leq&space;h\\right)&space;\\text&space;{&space;and&space;}\\left(t_{i&space;j}&space;\\leq&space;\\Delta\\right)&space;\\\\&space;0,&space;&&space;\\text&space;{&space;otherwise&space;}\\end{cases}\">\n",
    "\n",
    "Which results in the space-time K-function of the expected number of addition events within space-time distance (h, Δ) of a randomly selected event as\n",
    "\n",
    "\n",
    "<img src=\"https://latex.codecogs.com/svg.image?K(h,&space;\\Delta)=\\frac{1}{\\lambda_{s&space;t}}&space;\\sum_{j&space;\\neq&space;i}&space;E\\left[I_{(h,&space;\\Delta)}\\left(d_{i&space;j},&space;t_{i&space;j}\\right)\\right]\">\n",
    "\n",
    "For any given pattern of size n, the pooled form of this function is \n",
    "\n",
    "<img src=\"https://latex.codecogs.com/svg.image?K(h,&space;\\Delta)=\\frac{1}{n&space;\\cdot&space;\\lambda_{s&space;t}}&space;\\sum_{i=1}^{n}&space;\\sum_{j&space;\\neq&space;i}&space;E\\left[I_{(h,&space;\\Delta)}\\left(d_{i&space;j},&space;t_{i&space;j}\\right)\\right]\">\n",
    "\n",
    "and this implies that the natural estimator of K(h, Δ) is given by the sample space-time K-function:\n",
    "\n",
    "<img src=\"https://latex.codecogs.com/svg.image?\\hat{K}(h,&space;\\Delta)=\\frac{1}{n&space;\\cdot&space;\\lambda_{s&space;t}}&space;\\sum_{i=1}^{n}&space;\\sum_{j&space;\\neq&space;i}&space;I_{(h,&space;\\Delta)}\\left(d_{i&space;j},&space;t_{i&space;j}\\right)\">\n",
    "\n",
    "Where the sample estimate, lambda_st, of the space-time intensity is given by \n",
    "\n",
    "<img src=\"https://latex.codecogs.com/svg.image?\\hat{\\lambda}_{\\mathrm{st}}=\\frac{n}{a(R)&space;\\cdot\\left(t_{\\max&space;}-t_{\\min&space;}\\right)}\">\n",
    "\n",
    "Finally, we include an $\\omega_{ij}$ weighting parameter than takes into consideration how much of a set scan zone h, delta is outside of the field of view and scales the count of events accordingly, resulting in a final K_function equation as: \n",
    "\n",
    "![rendered image](https://cdn.mathpix.com/snip/images/olrrUn-Ds08eiRhlpwrR6neM0RH5NyEsUMk_yBd1NEw.rendered.fullsize.png)\n",
    "\n",
    "## Implementation over many apoptoses\n",
    "\n",
    "I am going to measure K-function a simulated single apoptosis that is actually the total distribution of all division events around apoptoses. For simplicities sake, if any of these focal apoptoses have a radial environment of size R that leaves the FOV at any time point in it's existence then I will exclude it. This means I can run both a 'follow' scan and a 'stationary' scan\n",
    "\n",
    "# Following scan\n",
    "\n",
    "Where the distance is from the event to the live focal cell location, until it undergoes apoptosis when the location is fixed. "
   ]
  },
  {
   "cell_type": "code",
   "execution_count": 2,
   "id": "2fb377c3",
   "metadata": {},
   "outputs": [
    {
     "name": "stdout",
     "output_type": "stream",
     "text": [
      "Number of individual focal scans: 81\n"
     ]
    }
   ],
   "source": [
    "file_list = glob.glob('/home/nathan/analysis/cell-comp-analysis/radial_analysis/ras_radial_analysis_beta/canon/feather/all/*')#\n",
    "file_list = [file for file in file_list if 'events' in file]\n",
    "print('Number of individual focal scans:', len(file_list))"
   ]
  },
  {
   "cell_type": "code",
   "execution_count": 78,
   "id": "12c7636c",
   "metadata": {
    "scrolled": true
   },
   "outputs": [
    {
     "data": {
      "application/vnd.jupyter.widget-view+json": {
       "model_id": "b27d08d6dc704dedb7cf117e5b6a0249",
       "version_major": 2,
       "version_minor": 0
      },
      "text/plain": [
       "  0%|          | 0/81 [00:00<?, ?it/s]"
      ]
     },
     "metadata": {},
     "output_type": "display_data"
    },
    {
     "name": "stdout",
     "output_type": "stream",
     "text": [
      "Number of focal cells included in cumulative scan: 80\n"
     ]
    }
   ],
   "source": [
    "### currently designing to load just one scan at a time for future efficiency for cell count clustering \n",
    "df = feather_load_radial_df(file_list, \n",
    "                             crop_amount = 0, ### exclude division events on edge of FOV\n",
    "                             fixed_apop_location=False, ### follow focal cell before apoptosis\n",
    "                             streamline = False, ### load all information about events\n",
    "                             strict_filtering = False, ### if the radial scan area defined by maximum R leaves the FOV then do not include that apoptosis\n",
    "                             frame_filtering = False, ### do not include the frames where the radial scan area leaves the fov\n",
    "                             #maximum_R = 300, ## pixels to micrometer\n",
    "                            ) \n",
    "### renaming columns to fit with nomenclature of K-function\n",
    "df = df.rename(columns={'Distance from apoptosis': 'dij', 'Time since apoptosis': 'tij'})"
   ]
  },
  {
   "cell_type": "markdown",
   "id": "6e52ffd4",
   "metadata": {},
   "source": [
    "### The resultant dataframe is a list of all division events, tij hours away from apoptosis and dij from the apoptotic cell fixed apoptotic location"
   ]
  },
  {
   "cell_type": "code",
   "execution_count": 79,
   "id": "74da7daf",
   "metadata": {},
   "outputs": [
    {
     "data": {
      "text/html": [
       "<div>\n",
       "<style scoped>\n",
       "    .dataframe tbody tr th:only-of-type {\n",
       "        vertical-align: middle;\n",
       "    }\n",
       "\n",
       "    .dataframe tbody tr th {\n",
       "        vertical-align: top;\n",
       "    }\n",
       "\n",
       "    .dataframe thead th {\n",
       "        text-align: right;\n",
       "    }\n",
       "</style>\n",
       "<table border=\"1\" class=\"dataframe\">\n",
       "  <thead>\n",
       "    <tr style=\"text-align: right;\">\n",
       "      <th></th>\n",
       "      <th>Cell ID</th>\n",
       "      <th>dij</th>\n",
       "      <th>Frame</th>\n",
       "      <th>y</th>\n",
       "      <th>x</th>\n",
       "      <th>tij</th>\n",
       "      <th>Focal ID</th>\n",
       "    </tr>\n",
       "  </thead>\n",
       "  <tbody>\n",
       "    <tr>\n",
       "      <th>0</th>\n",
       "      <td>73</td>\n",
       "      <td>264.000000</td>\n",
       "      <td>415</td>\n",
       "      <td>785</td>\n",
       "      <td>82</td>\n",
       "      <td>-15.000000</td>\n",
       "      <td>ND0024_Pos5_mut_-675</td>\n",
       "    </tr>\n",
       "    <tr>\n",
       "      <th>1</th>\n",
       "      <td>85</td>\n",
       "      <td>377.666667</td>\n",
       "      <td>425</td>\n",
       "      <td>1124</td>\n",
       "      <td>15</td>\n",
       "      <td>-14.333333</td>\n",
       "      <td>ND0024_Pos5_mut_-675</td>\n",
       "    </tr>\n",
       "    <tr>\n",
       "      <th>2</th>\n",
       "      <td>80</td>\n",
       "      <td>368.000000</td>\n",
       "      <td>84</td>\n",
       "      <td>1099</td>\n",
       "      <td>31</td>\n",
       "      <td>-37.066667</td>\n",
       "      <td>ND0024_Pos5_mut_-675</td>\n",
       "    </tr>\n",
       "    <tr>\n",
       "      <th>3</th>\n",
       "      <td>79</td>\n",
       "      <td>85.000000</td>\n",
       "      <td>370</td>\n",
       "      <td>61</td>\n",
       "      <td>131</td>\n",
       "      <td>-18.000000</td>\n",
       "      <td>ND0024_Pos5_mut_-675</td>\n",
       "    </tr>\n",
       "    <tr>\n",
       "      <th>4</th>\n",
       "      <td>77</td>\n",
       "      <td>359.666667</td>\n",
       "      <td>412</td>\n",
       "      <td>1083</td>\n",
       "      <td>60</td>\n",
       "      <td>-15.200000</td>\n",
       "      <td>ND0024_Pos5_mut_-675</td>\n",
       "    </tr>\n",
       "    <tr>\n",
       "      <th>...</th>\n",
       "      <td>...</td>\n",
       "      <td>...</td>\n",
       "      <td>...</td>\n",
       "      <td>...</td>\n",
       "      <td>...</td>\n",
       "      <td>...</td>\n",
       "      <td>...</td>\n",
       "    </tr>\n",
       "    <tr>\n",
       "      <th>42618</th>\n",
       "      <td>5657</td>\n",
       "      <td>258.333333</td>\n",
       "      <td>1394</td>\n",
       "      <td>144</td>\n",
       "      <td>723</td>\n",
       "      <td>34.000000</td>\n",
       "      <td>ND0022_Pos5_mut_-782</td>\n",
       "    </tr>\n",
       "    <tr>\n",
       "      <th>42619</th>\n",
       "      <td>5667</td>\n",
       "      <td>197.333333</td>\n",
       "      <td>1374</td>\n",
       "      <td>355</td>\n",
       "      <td>640</td>\n",
       "      <td>32.666667</td>\n",
       "      <td>ND0022_Pos5_mut_-782</td>\n",
       "    </tr>\n",
       "    <tr>\n",
       "      <th>42620</th>\n",
       "      <td>5756</td>\n",
       "      <td>190.000000</td>\n",
       "      <td>1384</td>\n",
       "      <td>382</td>\n",
       "      <td>633</td>\n",
       "      <td>33.333333</td>\n",
       "      <td>ND0022_Pos5_mut_-782</td>\n",
       "    </tr>\n",
       "    <tr>\n",
       "      <th>42621</th>\n",
       "      <td>5927</td>\n",
       "      <td>119.333333</td>\n",
       "      <td>1410</td>\n",
       "      <td>679</td>\n",
       "      <td>578</td>\n",
       "      <td>35.066667</td>\n",
       "      <td>ND0022_Pos5_mut_-782</td>\n",
       "    </tr>\n",
       "    <tr>\n",
       "      <th>42622</th>\n",
       "      <td>6086</td>\n",
       "      <td>276.333333</td>\n",
       "      <td>1444</td>\n",
       "      <td>173</td>\n",
       "      <td>470</td>\n",
       "      <td>37.333333</td>\n",
       "      <td>ND0022_Pos5_mut_-782</td>\n",
       "    </tr>\n",
       "  </tbody>\n",
       "</table>\n",
       "<p>42623 rows × 7 columns</p>\n",
       "</div>"
      ],
      "text/plain": [
       "       Cell ID         dij  Frame     y    x        tij              Focal ID\n",
       "0           73  264.000000    415   785   82 -15.000000  ND0024_Pos5_mut_-675\n",
       "1           85  377.666667    425  1124   15 -14.333333  ND0024_Pos5_mut_-675\n",
       "2           80  368.000000     84  1099   31 -37.066667  ND0024_Pos5_mut_-675\n",
       "3           79   85.000000    370    61  131 -18.000000  ND0024_Pos5_mut_-675\n",
       "4           77  359.666667    412  1083   60 -15.200000  ND0024_Pos5_mut_-675\n",
       "...        ...         ...    ...   ...  ...        ...                   ...\n",
       "42618     5657  258.333333   1394   144  723  34.000000  ND0022_Pos5_mut_-782\n",
       "42619     5667  197.333333   1374   355  640  32.666667  ND0022_Pos5_mut_-782\n",
       "42620     5756  190.000000   1384   382  633  33.333333  ND0022_Pos5_mut_-782\n",
       "42621     5927  119.333333   1410   679  578  35.066667  ND0022_Pos5_mut_-782\n",
       "42622     6086  276.333333   1444   173  470  37.333333  ND0022_Pos5_mut_-782\n",
       "\n",
       "[42623 rows x 7 columns]"
      ]
     },
     "execution_count": 79,
     "metadata": {},
     "output_type": "execute_result"
    }
   ],
   "source": [
    "df"
   ]
  },
  {
   "cell_type": "markdown",
   "id": "b69add80",
   "metadata": {},
   "source": [
    "### Need to define lambda_st and n for cumulative count of events"
   ]
  },
  {
   "cell_type": "code",
   "execution_count": 80,
   "id": "deb7fa36",
   "metadata": {},
   "outputs": [
    {
     "name": "stdout",
     "output_type": "stream",
     "text": [
      "Number of division events, n =  42623\n",
      "Default time interval, T =  106.6\n",
      "Total area (FOV) in micrometres, a(R) = 213022 microns squared\n",
      "Space-time intensity parameter, lambda_st =  0.001876988760153459\n"
     ]
    }
   ],
   "source": [
    "n = len(df)\n",
    "print('Number of division events, n = ', n)\n",
    "T = max(df['tij']) - min(df['tij'])\n",
    "print('Default time interval, T = ', T)\n",
    "x_range = max(df['x']) - min(df['x'])\n",
    "y_range = max(df['y']) - min(df['y'])\n",
    "### convert from pixels to micrometres (/3)\n",
    "a = (x_range/3)*(y_range/3)\n",
    "print('Total area (FOV) in micrometres, a(R) =', round(a), 'microns squared')\n",
    "lambda_st = n/(a*T)\n",
    "print('Space-time intensity parameter, lambda_st = ', lambda_st)"
   ]
  },
  {
   "cell_type": "markdown",
   "id": "150324c4",
   "metadata": {},
   "source": [
    "### Define the scope of the spatiotemporal region over which I want to run the K-function analysis. To save on computation, I trim dataframe to exclude events outside of the region of interest. Fewer chunks/bins means less computation time."
   ]
  },
  {
   "cell_type": "code",
   "execution_count": 81,
   "id": "3b6bfaa9",
   "metadata": {},
   "outputs": [],
   "source": [
    "delta_ = np.linspace(-10,10, 21)\n",
    "h_ = np.linspace(0,100, 21)"
   ]
  },
  {
   "cell_type": "code",
   "execution_count": 82,
   "id": "23d53b66",
   "metadata": {},
   "outputs": [
    {
     "data": {
      "text/plain": [
       "array([  0.,   5.,  10.,  15.,  20.,  25.,  30.,  35.,  40.,  45.,  50.,\n",
       "        55.,  60.,  65.,  70.,  75.,  80.,  85.,  90.,  95., 100.])"
      ]
     },
     "execution_count": 82,
     "metadata": {},
     "output_type": "execute_result"
    }
   ],
   "source": [
    "h_"
   ]
  },
  {
   "cell_type": "code",
   "execution_count": 83,
   "id": "dac811d1",
   "metadata": {
    "scrolled": true
   },
   "outputs": [
    {
     "data": {
      "text/plain": [
       "array([-10.,  -9.,  -8.,  -7.,  -6.,  -5.,  -4.,  -3.,  -2.,  -1.,   0.,\n",
       "         1.,   2.,   3.,   4.,   5.,   6.,   7.,   8.,   9.,  10.])"
      ]
     },
     "execution_count": 83,
     "metadata": {},
     "output_type": "execute_result"
    }
   ],
   "source": [
    "delta_"
   ]
  },
  {
   "cell_type": "code",
   "execution_count": 84,
   "id": "cd1c27c5",
   "metadata": {},
   "outputs": [],
   "source": [
    "df.drop(df.index[df['dij'] > h_.max()], inplace=True)\n",
    "df.drop(df.index[df['tij'] > delta_.max()], inplace=True)\n",
    "df.drop(df.index[df['tij'] < delta_.min()], inplace=True)\n",
    "df.reset_index(inplace=True)\n",
    "n2 = len(set(df['Focal ID']))\n",
    "n1 = len(df)"
   ]
  },
  {
   "cell_type": "code",
   "execution_count": 85,
   "id": "b71c1d41",
   "metadata": {
    "scrolled": true
   },
   "outputs": [
    {
     "data": {
      "text/plain": [
       "80"
      ]
     },
     "execution_count": 85,
     "metadata": {},
     "output_type": "execute_result"
    }
   ],
   "source": [
    "n2"
   ]
  },
  {
   "cell_type": "code",
   "execution_count": 86,
   "id": "9a66b2e8",
   "metadata": {
    "scrolled": true
   },
   "outputs": [
    {
     "data": {
      "text/html": [
       "<div>\n",
       "<style scoped>\n",
       "    .dataframe tbody tr th:only-of-type {\n",
       "        vertical-align: middle;\n",
       "    }\n",
       "\n",
       "    .dataframe tbody tr th {\n",
       "        vertical-align: top;\n",
       "    }\n",
       "\n",
       "    .dataframe thead th {\n",
       "        text-align: right;\n",
       "    }\n",
       "</style>\n",
       "<table border=\"1\" class=\"dataframe\">\n",
       "  <thead>\n",
       "    <tr style=\"text-align: right;\">\n",
       "      <th></th>\n",
       "      <th>index</th>\n",
       "      <th>Cell ID</th>\n",
       "      <th>dij</th>\n",
       "      <th>Frame</th>\n",
       "      <th>y</th>\n",
       "      <th>x</th>\n",
       "      <th>tij</th>\n",
       "      <th>Focal ID</th>\n",
       "    </tr>\n",
       "  </thead>\n",
       "  <tbody>\n",
       "    <tr>\n",
       "      <th>0</th>\n",
       "      <td>13</td>\n",
       "      <td>102</td>\n",
       "      <td>96.666667</td>\n",
       "      <td>658</td>\n",
       "      <td>341</td>\n",
       "      <td>355</td>\n",
       "      <td>1.200000</td>\n",
       "      <td>ND0024_Pos5_mut_-675</td>\n",
       "    </tr>\n",
       "    <tr>\n",
       "      <th>1</th>\n",
       "      <td>15</td>\n",
       "      <td>114</td>\n",
       "      <td>98.333333</td>\n",
       "      <td>556</td>\n",
       "      <td>346</td>\n",
       "      <td>355</td>\n",
       "      <td>-5.600000</td>\n",
       "      <td>ND0024_Pos5_mut_-675</td>\n",
       "    </tr>\n",
       "    <tr>\n",
       "      <th>2</th>\n",
       "      <td>24</td>\n",
       "      <td>96</td>\n",
       "      <td>39.666667</td>\n",
       "      <td>492</td>\n",
       "      <td>118</td>\n",
       "      <td>487</td>\n",
       "      <td>-9.866667</td>\n",
       "      <td>ND0024_Pos5_mut_-675</td>\n",
       "    </tr>\n",
       "    <tr>\n",
       "      <th>3</th>\n",
       "      <td>81</td>\n",
       "      <td>477</td>\n",
       "      <td>57.333333</td>\n",
       "      <td>574</td>\n",
       "      <td>127</td>\n",
       "      <td>542</td>\n",
       "      <td>-4.400000</td>\n",
       "      <td>ND0024_Pos5_mut_-675</td>\n",
       "    </tr>\n",
       "    <tr>\n",
       "      <th>4</th>\n",
       "      <td>82</td>\n",
       "      <td>479</td>\n",
       "      <td>51.666667</td>\n",
       "      <td>551</td>\n",
       "      <td>161</td>\n",
       "      <td>498</td>\n",
       "      <td>-5.933333</td>\n",
       "      <td>ND0024_Pos5_mut_-675</td>\n",
       "    </tr>\n",
       "    <tr>\n",
       "      <th>...</th>\n",
       "      <td>...</td>\n",
       "      <td>...</td>\n",
       "      <td>...</td>\n",
       "      <td>...</td>\n",
       "      <td>...</td>\n",
       "      <td>...</td>\n",
       "      <td>...</td>\n",
       "      <td>...</td>\n",
       "    </tr>\n",
       "    <tr>\n",
       "      <th>2398</th>\n",
       "      <td>42540</td>\n",
       "      <td>3350</td>\n",
       "      <td>54.333333</td>\n",
       "      <td>826</td>\n",
       "      <td>961</td>\n",
       "      <td>952</td>\n",
       "      <td>-3.866667</td>\n",
       "      <td>ND0022_Pos5_mut_-782</td>\n",
       "    </tr>\n",
       "    <tr>\n",
       "      <th>2399</th>\n",
       "      <td>42545</td>\n",
       "      <td>3423</td>\n",
       "      <td>95.333333</td>\n",
       "      <td>847</td>\n",
       "      <td>627</td>\n",
       "      <td>682</td>\n",
       "      <td>-2.466667</td>\n",
       "      <td>ND0022_Pos5_mut_-782</td>\n",
       "    </tr>\n",
       "    <tr>\n",
       "      <th>2400</th>\n",
       "      <td>42546</td>\n",
       "      <td>3488</td>\n",
       "      <td>65.666667</td>\n",
       "      <td>853</td>\n",
       "      <td>940</td>\n",
       "      <td>994</td>\n",
       "      <td>-2.066667</td>\n",
       "      <td>ND0022_Pos5_mut_-782</td>\n",
       "    </tr>\n",
       "    <tr>\n",
       "      <th>2401</th>\n",
       "      <td>42549</td>\n",
       "      <td>3532</td>\n",
       "      <td>62.666667</td>\n",
       "      <td>867</td>\n",
       "      <td>926</td>\n",
       "      <td>1007</td>\n",
       "      <td>-1.133333</td>\n",
       "      <td>ND0022_Pos5_mut_-782</td>\n",
       "    </tr>\n",
       "    <tr>\n",
       "      <th>2402</th>\n",
       "      <td>42550</td>\n",
       "      <td>3564</td>\n",
       "      <td>49.000000</td>\n",
       "      <td>865</td>\n",
       "      <td>945</td>\n",
       "      <td>950</td>\n",
       "      <td>-1.266667</td>\n",
       "      <td>ND0022_Pos5_mut_-782</td>\n",
       "    </tr>\n",
       "  </tbody>\n",
       "</table>\n",
       "<p>2403 rows × 8 columns</p>\n",
       "</div>"
      ],
      "text/plain": [
       "      index  Cell ID        dij  Frame    y     x       tij  \\\n",
       "0        13      102  96.666667    658  341   355  1.200000   \n",
       "1        15      114  98.333333    556  346   355 -5.600000   \n",
       "2        24       96  39.666667    492  118   487 -9.866667   \n",
       "3        81      477  57.333333    574  127   542 -4.400000   \n",
       "4        82      479  51.666667    551  161   498 -5.933333   \n",
       "...     ...      ...        ...    ...  ...   ...       ...   \n",
       "2398  42540     3350  54.333333    826  961   952 -3.866667   \n",
       "2399  42545     3423  95.333333    847  627   682 -2.466667   \n",
       "2400  42546     3488  65.666667    853  940   994 -2.066667   \n",
       "2401  42549     3532  62.666667    867  926  1007 -1.133333   \n",
       "2402  42550     3564  49.000000    865  945   950 -1.266667   \n",
       "\n",
       "                  Focal ID  \n",
       "0     ND0024_Pos5_mut_-675  \n",
       "1     ND0024_Pos5_mut_-675  \n",
       "2     ND0024_Pos5_mut_-675  \n",
       "3     ND0024_Pos5_mut_-675  \n",
       "4     ND0024_Pos5_mut_-675  \n",
       "...                    ...  \n",
       "2398  ND0022_Pos5_mut_-782  \n",
       "2399  ND0022_Pos5_mut_-782  \n",
       "2400  ND0022_Pos5_mut_-782  \n",
       "2401  ND0022_Pos5_mut_-782  \n",
       "2402  ND0022_Pos5_mut_-782  \n",
       "\n",
       "[2403 rows x 8 columns]"
      ]
     },
     "execution_count": 86,
     "metadata": {},
     "output_type": "execute_result"
    }
   ],
   "source": [
    "df"
   ]
  },
  {
   "cell_type": "markdown",
   "id": "4b256cb8",
   "metadata": {},
   "source": [
    "# Defining the function to calculate the K-function\n",
    "\n",
    "Need to iterate over all time and space subregions (h and delta) and calculate the indicator function I(h, delta). No weighting needed for this instance as it's only featuring apoptoses that stay within a 300pixel/100ums radius of the edge."
   ]
  },
  {
   "cell_type": "code",
   "execution_count": 87,
   "id": "21dcf7f8",
   "metadata": {},
   "outputs": [
    {
     "data": {
      "application/vnd.jupyter.widget-view+json": {
       "model_id": "7c94152c676b4b379ba2fe76d36ace7a",
       "version_major": 2,
       "version_minor": 0
      },
      "text/plain": [
       "Iterating over space-time:   0%|          | 0/21 [00:00<?, ?it/s]"
      ]
     },
     "metadata": {},
     "output_type": "display_data"
    }
   ],
   "source": [
    "### create placeholder array\n",
    "K_st = np.zeros((len(h_), len(delta_))) \n",
    "### iterate over space\n",
    "   \n",
    "for i, h in tqdm(enumerate(h_), total = len(h_), desc = 'Iterating over space-time'):\n",
    "    ### iterate over time\n",
    "    for j, delta in enumerate(delta_):\n",
    "        ### if no weighted count value stored then just assume all radial\n",
    "        ### scans within fov so no weighting applies and just count normal\n",
    "        if f'w({h, delta})' not in df:\n",
    "            ### if delta is negative, then needs to be greater than or less than zero\n",
    "            if delta < 0:\n",
    "                K_st[i, j] = (1/(n * lambda_st)) * (len(df[((df['tij']) <= 0) & ((df['tij']) >= (delta)) & (df['dij'] <= h)]))\n",
    "            ### if delta is positive, then has to be greater than zero less than delta\n",
    "            else: \n",
    "                K_st[i, j] = (1/(n * lambda_st)) * (len(df[((df['tij']) >= 0) & ((df['tij']) <= (delta)) & (df['dij'] <= h)]))\n",
    "        ### if there is a weighted value for that radii then count the instances of division as weighted values\n",
    "        else: \n",
    "            ### if delta is negative, then needs to be greater than or less than zero\n",
    "            if delta < 0:\n",
    "                K_st[i, j] = (1/(n * lambda_st)) * sum(df[((df['tij']) <= 0) & ((df['tij']) >= (delta)) & (df['dij'] <= h)][f'w({h, delta})'])\n",
    "            ### if delta is positive, then has to be greater than zero less than delta\n",
    "            else: \n",
    "                K_st[i, j] = (1/(n * lambda_st)) * sum(df[((df['tij']) >= 0) & ((df['tij']) <= (delta)) & (df['dij'] <= h)][f'w({h, delta})'])\n",
    "                "
   ]
  },
  {
   "cell_type": "code",
   "execution_count": 88,
   "id": "42355017",
   "metadata": {},
   "outputs": [
    {
     "data": {
      "text/plain": [
       "Text(0.5, 1.0, 'Space-time K-function \\n for N = 80 focal apoptosis')"
      ]
     },
     "execution_count": 88,
     "metadata": {},
     "output_type": "execute_result"
    },
    {
     "data": {
      "image/png": "[encoded data removed]",
      "text/plain": [
       "<Figure size 432x288 with 2 Axes>"
      ]
     },
     "metadata": {
      "needs_background": "light"
     },
     "output_type": "display_data"
    }
   ],
   "source": [
    "pc = plt.pcolormesh(delta_, h_, K_st, )\n",
    "plt.colorbar(label = 'Expected number of additional events',)\n",
    "plt.xlabel('Time since apoptosis (hours)')\n",
    "plt.ylabel('Distance from apoptosis (microns)')\n",
    "plt.title(f'Space-time K-function \\n for N = {n2} focal apoptosis')"
   ]
  },
  {
   "cell_type": "markdown",
   "id": "d35c9dc4",
   "metadata": {},
   "source": [
    "# Temporal indistinguishability test\n",
    "\n",
    "Create a set of tau_ null hypotheses sets of events with randomly shifted time points from the original data frame"
   ]
  },
  {
   "cell_type": "code",
   "execution_count": 89,
   "id": "1b83ba48",
   "metadata": {},
   "outputs": [
    {
     "name": "stderr",
     "output_type": "stream",
     "text": [
      "<ipython-input-89-1596b3a1a4d0>:4: PerformanceWarning: DataFrame is highly fragmented.  This is usually the result of calling `frame.insert` many times, which has poor performance.  Consider using pd.concat instead.  To get a de-fragmented frame, use `newframe = frame.copy()`\n",
      "  df[f'tpi τ = {tau}'] = df['tij'].sample(frac=1).reset_index(drop = True)\n"
     ]
    }
   ],
   "source": [
    "tau_ = range(0,1000)\n",
    "for tau in tau_:\n",
    "    ### create len(tau_) number of time permutations\n",
    "    df[f'tpi τ = {tau}'] = df['tij'].sample(frac=1).reset_index(drop = True)"
   ]
  },
  {
   "cell_type": "code",
   "execution_count": 90,
   "id": "ef7d50a3",
   "metadata": {},
   "outputs": [
    {
     "data": {
      "text/html": [
       "<div>\n",
       "<style scoped>\n",
       "    .dataframe tbody tr th:only-of-type {\n",
       "        vertical-align: middle;\n",
       "    }\n",
       "\n",
       "    .dataframe tbody tr th {\n",
       "        vertical-align: top;\n",
       "    }\n",
       "\n",
       "    .dataframe thead th {\n",
       "        text-align: right;\n",
       "    }\n",
       "</style>\n",
       "<table border=\"1\" class=\"dataframe\">\n",
       "  <thead>\n",
       "    <tr style=\"text-align: right;\">\n",
       "      <th></th>\n",
       "      <th>index</th>\n",
       "      <th>Cell ID</th>\n",
       "      <th>dij</th>\n",
       "      <th>Frame</th>\n",
       "      <th>y</th>\n",
       "      <th>x</th>\n",
       "      <th>tij</th>\n",
       "      <th>Focal ID</th>\n",
       "      <th>tpi τ = 0</th>\n",
       "      <th>tpi τ = 1</th>\n",
       "      <th>...</th>\n",
       "      <th>tpi τ = 990</th>\n",
       "      <th>tpi τ = 991</th>\n",
       "      <th>tpi τ = 992</th>\n",
       "      <th>tpi τ = 993</th>\n",
       "      <th>tpi τ = 994</th>\n",
       "      <th>tpi τ = 995</th>\n",
       "      <th>tpi τ = 996</th>\n",
       "      <th>tpi τ = 997</th>\n",
       "      <th>tpi τ = 998</th>\n",
       "      <th>tpi τ = 999</th>\n",
       "    </tr>\n",
       "  </thead>\n",
       "  <tbody>\n",
       "    <tr>\n",
       "      <th>0</th>\n",
       "      <td>13</td>\n",
       "      <td>102</td>\n",
       "      <td>96.666667</td>\n",
       "      <td>658</td>\n",
       "      <td>341</td>\n",
       "      <td>355</td>\n",
       "      <td>1.200000</td>\n",
       "      <td>ND0024_Pos5_mut_-675</td>\n",
       "      <td>-3.133333</td>\n",
       "      <td>-10.000000</td>\n",
       "      <td>...</td>\n",
       "      <td>0.733333</td>\n",
       "      <td>-2.866667</td>\n",
       "      <td>-4.533333</td>\n",
       "      <td>-7.066667</td>\n",
       "      <td>-4.200000</td>\n",
       "      <td>-1.666667</td>\n",
       "      <td>8.000000</td>\n",
       "      <td>2.266667</td>\n",
       "      <td>0.933333</td>\n",
       "      <td>-5.200000</td>\n",
       "    </tr>\n",
       "    <tr>\n",
       "      <th>1</th>\n",
       "      <td>15</td>\n",
       "      <td>114</td>\n",
       "      <td>98.333333</td>\n",
       "      <td>556</td>\n",
       "      <td>346</td>\n",
       "      <td>355</td>\n",
       "      <td>-5.600000</td>\n",
       "      <td>ND0024_Pos5_mut_-675</td>\n",
       "      <td>0.466667</td>\n",
       "      <td>-1.733333</td>\n",
       "      <td>...</td>\n",
       "      <td>-7.866667</td>\n",
       "      <td>0.133333</td>\n",
       "      <td>8.933333</td>\n",
       "      <td>-7.066667</td>\n",
       "      <td>-3.666667</td>\n",
       "      <td>-1.666667</td>\n",
       "      <td>-8.600000</td>\n",
       "      <td>-0.466667</td>\n",
       "      <td>0.066667</td>\n",
       "      <td>-5.866667</td>\n",
       "    </tr>\n",
       "    <tr>\n",
       "      <th>2</th>\n",
       "      <td>24</td>\n",
       "      <td>96</td>\n",
       "      <td>39.666667</td>\n",
       "      <td>492</td>\n",
       "      <td>118</td>\n",
       "      <td>487</td>\n",
       "      <td>-9.866667</td>\n",
       "      <td>ND0024_Pos5_mut_-675</td>\n",
       "      <td>-7.800000</td>\n",
       "      <td>-7.933333</td>\n",
       "      <td>...</td>\n",
       "      <td>-7.133333</td>\n",
       "      <td>7.666667</td>\n",
       "      <td>6.866667</td>\n",
       "      <td>-0.533333</td>\n",
       "      <td>-0.466667</td>\n",
       "      <td>3.600000</td>\n",
       "      <td>-6.666667</td>\n",
       "      <td>0.733333</td>\n",
       "      <td>-4.266667</td>\n",
       "      <td>2.933333</td>\n",
       "    </tr>\n",
       "    <tr>\n",
       "      <th>3</th>\n",
       "      <td>81</td>\n",
       "      <td>477</td>\n",
       "      <td>57.333333</td>\n",
       "      <td>574</td>\n",
       "      <td>127</td>\n",
       "      <td>542</td>\n",
       "      <td>-4.400000</td>\n",
       "      <td>ND0024_Pos5_mut_-675</td>\n",
       "      <td>9.200000</td>\n",
       "      <td>-0.666667</td>\n",
       "      <td>...</td>\n",
       "      <td>8.600000</td>\n",
       "      <td>6.666667</td>\n",
       "      <td>8.933333</td>\n",
       "      <td>5.600000</td>\n",
       "      <td>-9.466667</td>\n",
       "      <td>-0.133333</td>\n",
       "      <td>6.600000</td>\n",
       "      <td>7.533333</td>\n",
       "      <td>-0.266667</td>\n",
       "      <td>-7.333333</td>\n",
       "    </tr>\n",
       "    <tr>\n",
       "      <th>4</th>\n",
       "      <td>82</td>\n",
       "      <td>479</td>\n",
       "      <td>51.666667</td>\n",
       "      <td>551</td>\n",
       "      <td>161</td>\n",
       "      <td>498</td>\n",
       "      <td>-5.933333</td>\n",
       "      <td>ND0024_Pos5_mut_-675</td>\n",
       "      <td>-7.200000</td>\n",
       "      <td>7.133333</td>\n",
       "      <td>...</td>\n",
       "      <td>4.466667</td>\n",
       "      <td>-3.933333</td>\n",
       "      <td>-6.000000</td>\n",
       "      <td>-1.800000</td>\n",
       "      <td>-0.200000</td>\n",
       "      <td>1.266667</td>\n",
       "      <td>6.266667</td>\n",
       "      <td>-7.866667</td>\n",
       "      <td>7.466667</td>\n",
       "      <td>4.400000</td>\n",
       "    </tr>\n",
       "    <tr>\n",
       "      <th>...</th>\n",
       "      <td>...</td>\n",
       "      <td>...</td>\n",
       "      <td>...</td>\n",
       "      <td>...</td>\n",
       "      <td>...</td>\n",
       "      <td>...</td>\n",
       "      <td>...</td>\n",
       "      <td>...</td>\n",
       "      <td>...</td>\n",
       "      <td>...</td>\n",
       "      <td>...</td>\n",
       "      <td>...</td>\n",
       "      <td>...</td>\n",
       "      <td>...</td>\n",
       "      <td>...</td>\n",
       "      <td>...</td>\n",
       "      <td>...</td>\n",
       "      <td>...</td>\n",
       "      <td>...</td>\n",
       "      <td>...</td>\n",
       "      <td>...</td>\n",
       "    </tr>\n",
       "    <tr>\n",
       "      <th>2398</th>\n",
       "      <td>42540</td>\n",
       "      <td>3350</td>\n",
       "      <td>54.333333</td>\n",
       "      <td>826</td>\n",
       "      <td>961</td>\n",
       "      <td>952</td>\n",
       "      <td>-3.866667</td>\n",
       "      <td>ND0022_Pos5_mut_-782</td>\n",
       "      <td>-0.466667</td>\n",
       "      <td>8.000000</td>\n",
       "      <td>...</td>\n",
       "      <td>0.066667</td>\n",
       "      <td>1.666667</td>\n",
       "      <td>-2.666667</td>\n",
       "      <td>-2.533333</td>\n",
       "      <td>-3.066667</td>\n",
       "      <td>-4.066667</td>\n",
       "      <td>-3.266667</td>\n",
       "      <td>1.933333</td>\n",
       "      <td>-5.400000</td>\n",
       "      <td>-4.133333</td>\n",
       "    </tr>\n",
       "    <tr>\n",
       "      <th>2399</th>\n",
       "      <td>42545</td>\n",
       "      <td>3423</td>\n",
       "      <td>95.333333</td>\n",
       "      <td>847</td>\n",
       "      <td>627</td>\n",
       "      <td>682</td>\n",
       "      <td>-2.466667</td>\n",
       "      <td>ND0022_Pos5_mut_-782</td>\n",
       "      <td>-0.666667</td>\n",
       "      <td>5.533333</td>\n",
       "      <td>...</td>\n",
       "      <td>4.400000</td>\n",
       "      <td>-0.866667</td>\n",
       "      <td>5.933333</td>\n",
       "      <td>-4.800000</td>\n",
       "      <td>-0.933333</td>\n",
       "      <td>-7.466667</td>\n",
       "      <td>8.200000</td>\n",
       "      <td>1.533333</td>\n",
       "      <td>1.666667</td>\n",
       "      <td>7.333333</td>\n",
       "    </tr>\n",
       "    <tr>\n",
       "      <th>2400</th>\n",
       "      <td>42546</td>\n",
       "      <td>3488</td>\n",
       "      <td>65.666667</td>\n",
       "      <td>853</td>\n",
       "      <td>940</td>\n",
       "      <td>994</td>\n",
       "      <td>-2.066667</td>\n",
       "      <td>ND0022_Pos5_mut_-782</td>\n",
       "      <td>-0.266667</td>\n",
       "      <td>-5.933333</td>\n",
       "      <td>...</td>\n",
       "      <td>3.066667</td>\n",
       "      <td>1.933333</td>\n",
       "      <td>4.600000</td>\n",
       "      <td>-7.466667</td>\n",
       "      <td>1.800000</td>\n",
       "      <td>-4.400000</td>\n",
       "      <td>-7.933333</td>\n",
       "      <td>3.800000</td>\n",
       "      <td>-3.933333</td>\n",
       "      <td>1.933333</td>\n",
       "    </tr>\n",
       "    <tr>\n",
       "      <th>2401</th>\n",
       "      <td>42549</td>\n",
       "      <td>3532</td>\n",
       "      <td>62.666667</td>\n",
       "      <td>867</td>\n",
       "      <td>926</td>\n",
       "      <td>1007</td>\n",
       "      <td>-1.133333</td>\n",
       "      <td>ND0022_Pos5_mut_-782</td>\n",
       "      <td>-5.133333</td>\n",
       "      <td>9.000000</td>\n",
       "      <td>...</td>\n",
       "      <td>-1.066667</td>\n",
       "      <td>-2.666667</td>\n",
       "      <td>8.133333</td>\n",
       "      <td>-4.733333</td>\n",
       "      <td>0.133333</td>\n",
       "      <td>-5.400000</td>\n",
       "      <td>-0.333333</td>\n",
       "      <td>5.066667</td>\n",
       "      <td>6.133333</td>\n",
       "      <td>-0.933333</td>\n",
       "    </tr>\n",
       "    <tr>\n",
       "      <th>2402</th>\n",
       "      <td>42550</td>\n",
       "      <td>3564</td>\n",
       "      <td>49.000000</td>\n",
       "      <td>865</td>\n",
       "      <td>945</td>\n",
       "      <td>950</td>\n",
       "      <td>-1.266667</td>\n",
       "      <td>ND0022_Pos5_mut_-782</td>\n",
       "      <td>6.933333</td>\n",
       "      <td>-7.000000</td>\n",
       "      <td>...</td>\n",
       "      <td>5.800000</td>\n",
       "      <td>4.600000</td>\n",
       "      <td>-0.266667</td>\n",
       "      <td>0.133333</td>\n",
       "      <td>8.400000</td>\n",
       "      <td>-3.400000</td>\n",
       "      <td>-4.133333</td>\n",
       "      <td>-4.733333</td>\n",
       "      <td>-3.600000</td>\n",
       "      <td>4.666667</td>\n",
       "    </tr>\n",
       "  </tbody>\n",
       "</table>\n",
       "<p>2403 rows × 1008 columns</p>\n",
       "</div>"
      ],
      "text/plain": [
       "      index  Cell ID        dij  Frame    y     x       tij  \\\n",
       "0        13      102  96.666667    658  341   355  1.200000   \n",
       "1        15      114  98.333333    556  346   355 -5.600000   \n",
       "2        24       96  39.666667    492  118   487 -9.866667   \n",
       "3        81      477  57.333333    574  127   542 -4.400000   \n",
       "4        82      479  51.666667    551  161   498 -5.933333   \n",
       "...     ...      ...        ...    ...  ...   ...       ...   \n",
       "2398  42540     3350  54.333333    826  961   952 -3.866667   \n",
       "2399  42545     3423  95.333333    847  627   682 -2.466667   \n",
       "2400  42546     3488  65.666667    853  940   994 -2.066667   \n",
       "2401  42549     3532  62.666667    867  926  1007 -1.133333   \n",
       "2402  42550     3564  49.000000    865  945   950 -1.266667   \n",
       "\n",
       "                  Focal ID  tpi τ = 0  tpi τ = 1  ...  tpi τ = 990  \\\n",
       "0     ND0024_Pos5_mut_-675  -3.133333 -10.000000  ...     0.733333   \n",
       "1     ND0024_Pos5_mut_-675   0.466667  -1.733333  ...    -7.866667   \n",
       "2     ND0024_Pos5_mut_-675  -7.800000  -7.933333  ...    -7.133333   \n",
       "3     ND0024_Pos5_mut_-675   9.200000  -0.666667  ...     8.600000   \n",
       "4     ND0024_Pos5_mut_-675  -7.200000   7.133333  ...     4.466667   \n",
       "...                    ...        ...        ...  ...          ...   \n",
       "2398  ND0022_Pos5_mut_-782  -0.466667   8.000000  ...     0.066667   \n",
       "2399  ND0022_Pos5_mut_-782  -0.666667   5.533333  ...     4.400000   \n",
       "2400  ND0022_Pos5_mut_-782  -0.266667  -5.933333  ...     3.066667   \n",
       "2401  ND0022_Pos5_mut_-782  -5.133333   9.000000  ...    -1.066667   \n",
       "2402  ND0022_Pos5_mut_-782   6.933333  -7.000000  ...     5.800000   \n",
       "\n",
       "      tpi τ = 991  tpi τ = 992  tpi τ = 993  tpi τ = 994  tpi τ = 995  \\\n",
       "0       -2.866667    -4.533333    -7.066667    -4.200000    -1.666667   \n",
       "1        0.133333     8.933333    -7.066667    -3.666667    -1.666667   \n",
       "2        7.666667     6.866667    -0.533333    -0.466667     3.600000   \n",
       "3        6.666667     8.933333     5.600000    -9.466667    -0.133333   \n",
       "4       -3.933333    -6.000000    -1.800000    -0.200000     1.266667   \n",
       "...           ...          ...          ...          ...          ...   \n",
       "2398     1.666667    -2.666667    -2.533333    -3.066667    -4.066667   \n",
       "2399    -0.866667     5.933333    -4.800000    -0.933333    -7.466667   \n",
       "2400     1.933333     4.600000    -7.466667     1.800000    -4.400000   \n",
       "2401    -2.666667     8.133333    -4.733333     0.133333    -5.400000   \n",
       "2402     4.600000    -0.266667     0.133333     8.400000    -3.400000   \n",
       "\n",
       "      tpi τ = 996  tpi τ = 997  tpi τ = 998  tpi τ = 999  \n",
       "0        8.000000     2.266667     0.933333    -5.200000  \n",
       "1       -8.600000    -0.466667     0.066667    -5.866667  \n",
       "2       -6.666667     0.733333    -4.266667     2.933333  \n",
       "3        6.600000     7.533333    -0.266667    -7.333333  \n",
       "4        6.266667    -7.866667     7.466667     4.400000  \n",
       "...           ...          ...          ...          ...  \n",
       "2398    -3.266667     1.933333    -5.400000    -4.133333  \n",
       "2399     8.200000     1.533333     1.666667     7.333333  \n",
       "2400    -7.933333     3.800000    -3.933333     1.933333  \n",
       "2401    -0.333333     5.066667     6.133333    -0.933333  \n",
       "2402    -4.133333    -4.733333    -3.600000     4.666667  \n",
       "\n",
       "[2403 rows x 1008 columns]"
      ]
     },
     "execution_count": 90,
     "metadata": {},
     "output_type": "execute_result"
    }
   ],
   "source": [
    "df"
   ]
  },
  {
   "cell_type": "code",
   "execution_count": 91,
   "id": "e05a4843",
   "metadata": {},
   "outputs": [],
   "source": [
    "### create placeholder dict for each array of time permutation\n",
    "K_st_tau_dict = {}"
   ]
  },
  {
   "cell_type": "code",
   "execution_count": 92,
   "id": "2b74ee75",
   "metadata": {},
   "outputs": [
    {
     "data": {
      "application/vnd.jupyter.widget-view+json": {
       "model_id": "13f5c5c3259d4895bf4c0cba463d1dc1",
       "version_major": 2,
       "version_minor": 0
      },
      "text/plain": [
       "Iterating over time permutations:   0%|          | 0/1000 [00:00<?, ?it/s]"
      ]
     },
     "metadata": {},
     "output_type": "display_data"
    }
   ],
   "source": [
    "for tau in tqdm(tau_, desc = 'Iterating over time permutations'):\n",
    "    if tau in K_st_tau_dict:\n",
    "        continue\n",
    "    K_st_tau = np.zeros((len(h_), len(delta_)))  \n",
    "    ### iterate over space\n",
    "    for i, h in enumerate(h_):\n",
    "        ### iterate over time\n",
    "        for j, delta in enumerate(delta_):\n",
    "            ### if no weighted count value stored then just assume all radial\n",
    "            ### scans within fov so no weighting applies and just count normal\n",
    "            if f'w({h, delta})' not in df:\n",
    "                ### if delta is negative, then needs to be greater than or less than zero\n",
    "                if delta < 0:\n",
    "                    K_st_tau[i, j] = (1/(n * lambda_st)) * (len(df[((df[f'tpi τ = {tau}']) <= 0) & ((df[f'tpi τ = {tau}']) >= (delta)) & (df['dij'] <= h)]))\n",
    "                ### if delta is positive, then has to be greater than zero less than delta\n",
    "                else: \n",
    "                    K_st_tau[i, j] = (1/(n * lambda_st)) * (len(df[((df[f'tpi τ = {tau}']) >= 0) & ((df[f'tpi τ = {tau}']) <= (delta)) & (df['dij'] <= h)]))\n",
    "            ### if there is a weighted value for that radii then count the instances of division as weighted values\n",
    "            else: \n",
    "                ### if delta is negative, then needs to be greater than or less than zero\n",
    "                if delta < 0:\n",
    "                    K_st_tau[i, j] = (1/(n * lambda_st)) * sum(df[((df[f'tpi τ = {tau}']) <= 0) & ((df[f'tpi τ = {tau}']) >= (delta)) & (df['dij'] <= h)][f'w({h, delta})'])\n",
    "                ### if delta is positive, then has to be greater than zero less than delta\n",
    "                else: \n",
    "                    K_st_tau[i, j] = (1/(n * lambda_st)) * sum(df[((df[f'tpi τ = {tau}']) >= 0) & ((df[f'tpi τ = {tau}']) <= (delta)) & (df['dij'] <= h)][f'w({h, delta})'])\n",
    "    K_st_tau_dict[tau] = K_st_tau\n",
    "K_st_tau = K_st_tau_dict"
   ]
  },
  {
   "cell_type": "markdown",
   "id": "130b2d74",
   "metadata": {},
   "source": [
    "# Save out k functions"
   ]
  },
  {
   "cell_type": "code",
   "execution_count": 93,
   "id": "0724d6ca",
   "metadata": {},
   "outputs": [],
   "source": [
    "with open(f'K_st_RAS_UNweighted_{max(h_)}um_{max(delta_)}hrs.{P_st_clust.shape}.pkl', 'wb') as f:\n",
    "    pickle.dump(K_st, f)\n",
    "with open(f'K_st_tau_1000_RAS_UNweighted_{max(h_)}um_{max(delta_)}hrs.{P_st_clust.shape}.pkl', 'wb') as f:\n",
    "    pickle.dump(K_st_tau, f)"
   ]
  },
  {
   "cell_type": "markdown",
   "id": "0e7eac2a",
   "metadata": {},
   "source": [
    "Loading previously calculated tau permutations from parallelised processes"
   ]
  },
  {
   "cell_type": "code",
   "execution_count": 17,
   "id": "edee5e86",
   "metadata": {},
   "outputs": [],
   "source": [
    "with open('K_st_RAS_UNweighted_100.10.pkl', 'rb') as f:\n",
    "    K_st = pickle.load(f)\n",
    "with open('K_st_tau_1000_RAS_UNweighted_100.10.pkl', 'rb') as f:\n",
    "    K_st_tau = pickle.load(f)"
   ]
  },
  {
   "cell_type": "markdown",
   "id": "ac4cfa62",
   "metadata": {},
   "source": [
    "# Run p-value test"
   ]
  },
  {
   "cell_type": "markdown",
   "id": "e27f6703",
   "metadata": {},
   "source": [
    "Checking to see if any two of the randomly time-indices-switched K-function arrays are identical (they should not be)"
   ]
  },
  {
   "cell_type": "code",
   "execution_count": 94,
   "id": "ee456b7d",
   "metadata": {},
   "outputs": [],
   "source": [
    "def arrays_equal(a, b):\n",
    "    if a.shape != b.shape:\n",
    "        return False\n",
    "    for ai, bi in zip(a.flat, b.flat):\n",
    "        if ai != bi:\n",
    "            return False\n",
    "    return True"
   ]
  },
  {
   "cell_type": "code",
   "execution_count": 95,
   "id": "f9360e5b",
   "metadata": {},
   "outputs": [
    {
     "data": {
      "text/plain": [
       "1000"
      ]
     },
     "execution_count": 95,
     "metadata": {},
     "output_type": "execute_result"
    }
   ],
   "source": [
    "len(K_st_tau)"
   ]
  },
  {
   "cell_type": "code",
   "execution_count": 96,
   "id": "e771ea2d",
   "metadata": {
    "scrolled": true
   },
   "outputs": [
    {
     "data": {
      "application/vnd.jupyter.widget-view+json": {
       "model_id": "29055e75f4ae4b258eb13d63c97d5828",
       "version_major": 2,
       "version_minor": 0
      },
      "text/plain": [
       "  0%|          | 0/499500 [00:00<?, ?it/s]"
      ]
     },
     "metadata": {},
     "output_type": "display_data"
    }
   ],
   "source": [
    "import itertools\n",
    "from math import comb\n",
    "for a, b in tqdm(itertools.combinations(K_st_tau, 2), total = comb(len(K_st_tau), 2)):\n",
    "    array1 = K_st_tau[a]\n",
    "    array2 = K_st_tau[b]\n",
    "    if arrays_equal(array1, array2) == True:\n",
    "        print(a, b, 'are equal')"
   ]
  },
  {
   "cell_type": "code",
   "execution_count": 97,
   "id": "81e345b4",
   "metadata": {},
   "outputs": [
    {
     "data": {
      "application/vnd.jupyter.widget-view+json": {
       "model_id": "a6f7ecb7db36478db77ab463f50f80d4",
       "version_major": 2,
       "version_minor": 0
      },
      "text/plain": [
       "  0%|          | 0/21 [00:00<?, ?it/s]"
      ]
     },
     "metadata": {},
     "output_type": "display_data"
    }
   ],
   "source": [
    "N = len(K_st_tau)\n",
    "P_st_clust = np.zeros(K_st.shape)\n",
    "P_st_disp = np.zeros(K_st.shape)\n",
    "\n",
    "for i, h in enumerate(tqdm(h_, total = len(h_))):\n",
    "    for j, delta in enumerate(delta_):\n",
    "        M0_plus = len([tau for tau in K_st_tau if K_st_tau[tau][i,j] >= K_st[i,j]])\n",
    "        P_st_clust[i,j] = (M0_plus + 1)/(N+1)\n",
    "        M0_minus = len([tau for tau in K_st_tau if K_st_tau[tau][i,j] <= K_st[i,j]])\n",
    "        P_st_disp[i,j] = (M0_minus + 1)/(N+1)\n",
    "    "
   ]
  },
  {
   "cell_type": "code",
   "execution_count": 98,
   "id": "c6ba22a9",
   "metadata": {},
   "outputs": [
    {
     "data": {
      "image/png": "[encoded data removed]",
      "text/plain": [
       "<Figure size 432x288 with 2 Axes>"
      ]
     },
     "metadata": {
      "needs_background": "light"
     },
     "output_type": "display_data"
    }
   ],
   "source": [
    "pc = plt.pcolormesh(delta_, h_, (P_st_clust), cmap = 'PiYG',  norm=colors.LogNorm(vmin=P_st_clust.min(), \n",
    "                                                                                  vmax=P_st_clust.max()))\n",
    "plt.colorbar(label = 'P-value',)\n",
    "plt.xlabel('Time since extrusions (hours)')\n",
    "plt.ylabel('Distance from extrusions (μm)')\n",
    "plt.title('P-value contour map of space-time clustering of \\n $N_{mito.}$ = 42,623 wild-type mitoses around \\n$N_{extru.}$ = 80 focal RasV12 extrusions calculated from \\n$N_{perm.}$ = 1000 permutations of null hypotheses\\n')\n",
    "plt.savefig(f'k-function-final-results/RAS-UNweight-follow-p-value-log-division-clustering_{max(h_)}um_{max(delta_)}hrs.{P_st_clust.shape}.jpg', bbox_inches = 'tight', dpi = 314)"
   ]
  },
  {
   "cell_type": "code",
   "execution_count": 99,
   "id": "ad15f431",
   "metadata": {},
   "outputs": [
    {
     "data": {
      "image/png": "[encoded data removed]",
      "text/plain": [
       "<Figure size 432x288 with 2 Axes>"
      ]
     },
     "metadata": {
      "needs_background": "light"
     },
     "output_type": "display_data"
    }
   ],
   "source": [
    "pc = plt.pcolormesh(delta_, h_, (P_st_disp), cmap = 'PiYG',  norm=colors.LogNorm(vmin=P_st_disp.min(), \n",
    "                                                                                  vmax=P_st_disp.max()))\n",
    "plt.colorbar(label = 'P-value',)\n",
    "plt.xlabel('Time since extrusions (hours)')\n",
    "plt.ylabel('Distance from extrusions (μm)')\n",
    "plt.title('P-value contour map of space-time dispersion of \\n $N_{mito.}$ = 42,623 wild-type mitoses around \\n$N_{extru.}$ = 80 focal RasV12 extrusions calculated from \\n$N_{perm.}$ = 1000 permutations of null hypotheses\\n')\n",
    "plt.savefig(f'k-function-final-results/RAS-UNweight-follow-p-value-log-division-dispersion_{max(h_)}um_{max(delta_)}hrs.{P_st_clust.shape}.jpg', bbox_inches = 'tight', dpi = 314)"
   ]
  }
 ],
 "metadata": {
  "kernelspec": {
   "display_name": "CellX",
   "language": "python",
   "name": "cellx"
  },
  "language_info": {
   "codemirror_mode": {
    "name": "ipython",
    "version": 3
   },
   "file_extension": ".py",
   "mimetype": "text/x-python",
   "name": "python",
   "nbconvert_exporter": "python",
   "pygments_lexer": "ipython3",
   "version": "3.9.7"
  }
 },
 "nbformat": 4,
 "nbformat_minor": 5
}
