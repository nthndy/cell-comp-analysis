{
 "cells": [
  {
   "cell_type": "markdown",
   "id": "eb869bf7",
   "metadata": {},
   "source": [
    "# Space-time K-function analysis for division counts\n",
    "\n",
    "This time using the webpage cited in the Levayer paper which I ended up finding on web archive.\n",
    "\n",
    "https://web.archive.org/web/20210513032304/https://www.seas.upenn.edu/~ese502/\n",
    "\n",
    "Particularly this chapter:\n",
    "https://web.archive.org/web/20210507072822/https://www.seas.upenn.edu/~ese502/NOTEBOOK/Part_I/6_Space_Time_Processes.pdf"
   ]
  },
  {
   "cell_type": "code",
   "execution_count": 1,
   "id": "112c9ccd",
   "metadata": {},
   "outputs": [],
   "source": [
    "import pandas as pd\n",
    "import numpy as np\n",
    "from tqdm.auto import tqdm\n",
    "from dataio import load_radial_df\n",
    "from render import render_from_df\n",
    "import glob\n",
    "import matplotlib.pyplot as plt\n",
    "%matplotlib inline"
   ]
  },
  {
   "cell_type": "markdown",
   "id": "974644dc",
   "metadata": {},
   "source": [
    "# Space-Time Point Processes\n",
    "\n",
    "Event sequences exhibit space-time clustering if events that are close in space tend to be closer in time than would be expected by chance alone. Consider a space-time pattern of events\n",
    "\n",
    "<img src=\"https://latex.codecogs.com/svg.image?\\left\\{e_{i}=(s_{i},t_{i}:i=1,...,n)&space;\\right\\}\" title=\"eq\" />\n",
    "\n",
    "in region R where s<sub>i</sub> denotes location of an event e<sub>i</sub> in R and t<sub>i</sub> denotes the time at which it occurs. If we are interested in the numbers of events that are close to e<sub>i</sub> then for each spatial distance h and time increment Δ it is natural to define the corresponding space-time neighbourhood of e<sub>i</sub> by the Cartesian product \n",
    "\n",
    "<img src=\"https://latex.codecogs.com/svg.image?C_{(h,&space;\\Delta)}(e_{i})=\\left\\{&space;(s,t):\\left\\|s_{i}&space;-s\\right\\|\\leq&space;h,\\left|t_{i}-t&space;\\right|\\leq&space;\\Delta\\right\\}\" title=\"eq\" />\n",
    "\n",
    "<img src=\"https://latex.codecogs.com/svg.image?=&space;\\left\\{s:\\left\\|s_{i}&space;-s\\right\\|\\leq&space;h\\right\\}&space;\\times&space;\\left\\{t:\\left\\|t_{i}&space;-s\\right\\|\\leq&space;\\Delta\\right\\}\" title=\"eq\" />\n",
    "\n",
    "Which corresponds to cylindrical neighbourhoods in space-time. As in two dimensions, one can define a relevant space-time region as the Cartesian product of RxT, with the default time interval usually taken to be the smallest time interval containing all event times. "
   ]
  },
  {
   "cell_type": "markdown",
   "id": "da9778ea",
   "metadata": {},
   "source": [
    "Thus, the extension of the K-functions is completely straightforward and the space-time indicator functions are the same, but with an added temporal dimension condition.\n",
    "\n",
    "<img src=\"https://latex.codecogs.com/svg.image?I_{(h,&space;\\Delta)}\\left(d_{i&space;j},&space;t_{i&space;j}\\right)=&space;\\begin{cases}1,&space;&&space;\\left(d_{i&space;j}&space;\\leq&space;h\\right)&space;\\text&space;{&space;and&space;}\\left(t_{i&space;j}&space;\\leq&space;\\Delta\\right)&space;\\\\&space;0,&space;&&space;\\text&space;{&space;otherwise&space;}\\end{cases}\">\n",
    "\n",
    "Which results in the space-time K-function of the expected number of addition events within space-time distance (h, Δ) of a randomly selected event as\n",
    "\n",
    "\n",
    "<img src=\"https://latex.codecogs.com/svg.image?K(h,&space;\\Delta)=\\frac{1}{\\lambda_{s&space;t}}&space;\\sum_{j&space;\\neq&space;i}&space;E\\left[I_{(h,&space;\\Delta)}\\left(d_{i&space;j},&space;t_{i&space;j}\\right)\\right]\">\n",
    "\n",
    "For any given pattern of size n, the pooled form of this function is \n",
    "\n",
    "<img src=\"https://latex.codecogs.com/svg.image?K(h,&space;\\Delta)=\\frac{1}{n&space;\\cdot&space;\\lambda_{s&space;t}}&space;\\sum_{i=1}^{n}&space;\\sum_{j&space;\\neq&space;i}&space;E\\left[I_{(h,&space;\\Delta)}\\left(d_{i&space;j},&space;t_{i&space;j}\\right)\\right]\">\n",
    "\n",
    "and this implies that the natural estimator of K(h, Δ) is given by the sample space-time K-function:\n",
    "\n",
    "<img src=\"https://latex.codecogs.com/svg.image?\\hat{K}(h,&space;\\Delta)=\\frac{1}{n&space;\\cdot&space;\\lambda_{s&space;t}}&space;\\sum_{i=1}^{n}&space;\\sum_{j&space;\\neq&space;i}&space;I_{(h,&space;\\Delta)}\\left(d_{i&space;j},&space;t_{i&space;j}\\right)\">\n",
    "\n",
    "Where the sample estimate, lambda_st, of the space-time intensity is given by \n",
    "\n",
    "<img src=\"https://latex.codecogs.com/svg.image?\\hat{\\lambda}_{\\mathrm{st}}=\\frac{n}{a(R)&space;\\cdot\\left(t_{\\max&space;}-t_{\\min&space;}\\right)}\">"
   ]
  },
  {
   "cell_type": "code",
   "execution_count": 2,
   "id": "cc191ef2",
   "metadata": {},
   "outputs": [],
   "source": [
    "def K_st_func(h_, delta_, n, lambda_st, df):\n",
    "    K_st = np.zeros((len(h_), len(delta_)))\n",
    "    ### trim the dataframe to git rid of dij, tij > max/min h_, delta_, reducing the number of iterations needed\n",
    "    df.drop(df.index[df['dij'] > h_.max()], inplace=True)\n",
    "    df.drop(df.index[df['tij'] > delta_.max()], inplace=True)\n",
    "    df.drop(df.index[df['tij'] < delta_.min()], inplace=True)\n",
    "    for i, h in tqdm(enumerate(h_), total = len(delta_), desc = 'Iterating over space-time'):\n",
    "        for j, delta in enumerate(delta_):\n",
    "                ### if delta is negative, then needs to be greater than or less than zero\n",
    "                if delta < 0:\n",
    "                    K_st[i, j] = (1/(n * lambda_st)) * len(df[((df['tij']) <= 0) & ((df['tij']) >= (delta)) & (df['dij'] <= h)])\n",
    "                ### if delta is positive, then has to be greater than zero less than delta\n",
    "                else: \n",
    "                    K_st[i, j] = (1/(n * lambda_st)) * len(df[((df['tij']) >= 0) & ((df['tij']) <= (delta)) & (df['dij'] <= h)])\n",
    "\n",
    "    return K_st\n",
    "\n",
    "def K_st_tau_func(h_, delta_, n, lambda_st, df, tau): ### for temporal indistinguishability tests\n",
    "    K_st_tau = np.zeros((len(h_), len(delta_)))\n",
    "    ### already done by the original k func \n",
    "    ### trim the dataframe to git rid of dij, tij > max/min h_, delta_, reducing the number of iterations needed\n",
    "#     df.drop(df.index[df['dij'] > h_.max()], inplace=True)\n",
    "#     df.drop(df.index[df['tij'] > delta_.max()], inplace=True)\n",
    "#     df.drop(df.index[df['tij'] < delta_.min()], inplace=True)\n",
    "    for i, h in enumerate(h_):\n",
    "        for j, delta in (enumerate(delta_)):#, total = len(delta_), desc = 'Iterating over space-time'):\n",
    "            ### if delta is negative, then needs to be greater than or less than zero\n",
    "            if delta < 0:\n",
    "                K_st_tau[i, j] = (1/(n * lambda_st)) * len(df[((df[f'tpi τ = {tau}']) <= 0) & ((df[f'tpi τ = {tau}']) >= (delta)) & (df['dij'] <= h)])\n",
    "            ### if delta is positive, then has to be greater than zero less than delta\n",
    "            else: \n",
    "                K_st_tau[i, j] = (1/(n * lambda_st)) * len(df[((df[f'tpi τ = {tau}']) >= 0) & ((df[f'tpi τ = {tau}']) <= (delta)) & (df['dij'] <= h)])\n",
    "\n",
    "    return K_st_tau"
   ]
  },
  {
   "cell_type": "markdown",
   "id": "ab217050",
   "metadata": {},
   "source": [
    "#### Implementing this analysis on a dataset of wild-type division localisations around N = 1 Scribble<sup>KD</sup> apoptosis\n",
    "\n"
   ]
  },
  {
   "cell_type": "code",
   "execution_count": 7,
   "id": "a9c718a9",
   "metadata": {},
   "outputs": [
    {
     "data": {
      "text/plain": [
       "1"
      ]
     },
     "execution_count": 7,
     "metadata": {},
     "output_type": "execute_result"
    }
   ],
   "source": [
    "file_list = glob.glob('/home/nathan/data/results/radial_analysis_output/follow/raw_lists/1600.1600/scr_apop_wt_div_xyt/1600.1600/*')\n",
    "file_list = [file for file in file_list if 'GV0796_Pos3_Scr_-9_' in file and 'events' in file]\n",
    "len(file_list)"
   ]
  },
  {
   "cell_type": "code",
   "execution_count": 8,
   "id": "b07b5548",
   "metadata": {},
   "outputs": [
    {
     "data": {
      "application/vnd.jupyter.widget-view+json": {
       "model_id": "3d189aeb2b054fd896fd98ab4d41b7f8",
       "version_major": 2,
       "version_minor": 0
      },
      "text/plain": [
       "  0%|          | 0/1 [00:00<?, ?it/s]"
      ]
     },
     "metadata": {},
     "output_type": "display_data"
    },
    {
     "name": "stdout",
     "output_type": "stream",
     "text": [
      "Number of focal cells included in cumulative scan: 1\n"
     ]
    },
    {
     "name": "stderr",
     "output_type": "stream",
     "text": [
      "/home/nathan/analysis/cell-comp-analysis/radial_analysis/dataio.py:90: FutureWarning: The default value of regex will change from True to False in a future version.\n",
      "  df['Cell ID'] = df['Cell ID'].str.replace('[()]', '')\n",
      "/home/nathan/analysis/cell-comp-analysis/radial_analysis/dataio.py:91: FutureWarning: The default value of regex will change from True to False in a future version.\n",
      "  df['y'] = df['y'].str.replace('[()]', '')\n"
     ]
    }
   ],
   "source": [
    "### loading all division localisations regardless of whether or not the scan leaves the FOV etc. (still cropping edge effects and loading all info)\n",
    "df = load_radial_df(file_list, crop_amount = 20, streamline = False)# R = 100, crop_amount = True, streamline = False, strict_filtering = True)"
   ]
  },
  {
   "cell_type": "code",
   "execution_count": 9,
   "id": "b136bf9e",
   "metadata": {},
   "outputs": [],
   "source": [
    "### renaming columns to fit with nomenclature of K-function\n",
    "df = df.rename(columns={'Distance from apoptosis': 'dij', 'Time since apoptosis': 'tij'})"
   ]
  },
  {
   "cell_type": "markdown",
   "id": "87ffdb35",
   "metadata": {},
   "source": [
    "The following dataframe shows the distance (dij) and time (tij) of division events from a central focal apoptotic event. "
   ]
  },
  {
   "cell_type": "code",
   "execution_count": 10,
   "id": "4619d51c",
   "metadata": {},
   "outputs": [
    {
     "data": {
      "text/html": [
       "<div>\n",
       "<style scoped>\n",
       "    .dataframe tbody tr th:only-of-type {\n",
       "        vertical-align: middle;\n",
       "    }\n",
       "\n",
       "    .dataframe tbody tr th {\n",
       "        vertical-align: top;\n",
       "    }\n",
       "\n",
       "    .dataframe thead th {\n",
       "        text-align: right;\n",
       "    }\n",
       "</style>\n",
       "<table border=\"1\" class=\"dataframe\">\n",
       "  <thead>\n",
       "    <tr style=\"text-align: right;\">\n",
       "      <th></th>\n",
       "      <th>Cell ID</th>\n",
       "      <th>dij</th>\n",
       "      <th>Frame</th>\n",
       "      <th>x</th>\n",
       "      <th>y</th>\n",
       "      <th>tij</th>\n",
       "      <th>Focal ID</th>\n",
       "    </tr>\n",
       "  </thead>\n",
       "  <tbody>\n",
       "    <tr>\n",
       "      <th>0</th>\n",
       "      <td>100</td>\n",
       "      <td>322.666667</td>\n",
       "      <td>238</td>\n",
       "      <td>683</td>\n",
       "      <td>1126</td>\n",
       "      <td>-14.000000</td>\n",
       "      <td>GV0796_Pos3_Scr_-9</td>\n",
       "    </tr>\n",
       "    <tr>\n",
       "      <th>1</th>\n",
       "      <td>92</td>\n",
       "      <td>287.000000</td>\n",
       "      <td>10</td>\n",
       "      <td>732</td>\n",
       "      <td>841</td>\n",
       "      <td>-29.200000</td>\n",
       "      <td>GV0796_Pos3_Scr_-9</td>\n",
       "    </tr>\n",
       "    <tr>\n",
       "      <th>2</th>\n",
       "      <td>94</td>\n",
       "      <td>353.666667</td>\n",
       "      <td>135</td>\n",
       "      <td>68</td>\n",
       "      <td>1373</td>\n",
       "      <td>-20.866667</td>\n",
       "      <td>GV0796_Pos3_Scr_-9</td>\n",
       "    </tr>\n",
       "    <tr>\n",
       "      <th>3</th>\n",
       "      <td>95</td>\n",
       "      <td>288.000000</td>\n",
       "      <td>17</td>\n",
       "      <td>97</td>\n",
       "      <td>1218</td>\n",
       "      <td>-28.733333</td>\n",
       "      <td>GV0796_Pos3_Scr_-9</td>\n",
       "    </tr>\n",
       "    <tr>\n",
       "      <th>4</th>\n",
       "      <td>97</td>\n",
       "      <td>60.333333</td>\n",
       "      <td>223</td>\n",
       "      <td>78</td>\n",
       "      <td>162</td>\n",
       "      <td>-15.000000</td>\n",
       "      <td>GV0796_Pos3_Scr_-9</td>\n",
       "    </tr>\n",
       "    <tr>\n",
       "      <th>...</th>\n",
       "      <td>...</td>\n",
       "      <td>...</td>\n",
       "      <td>...</td>\n",
       "      <td>...</td>\n",
       "      <td>...</td>\n",
       "      <td>...</td>\n",
       "      <td>...</td>\n",
       "    </tr>\n",
       "    <tr>\n",
       "      <th>742</th>\n",
       "      <td>3621</td>\n",
       "      <td>262.000000</td>\n",
       "      <td>892</td>\n",
       "      <td>151</td>\n",
       "      <td>1149</td>\n",
       "      <td>29.600000</td>\n",
       "      <td>GV0796_Pos3_Scr_-9</td>\n",
       "    </tr>\n",
       "    <tr>\n",
       "      <th>743</th>\n",
       "      <td>4583</td>\n",
       "      <td>125.666667</td>\n",
       "      <td>879</td>\n",
       "      <td>46</td>\n",
       "      <td>707</td>\n",
       "      <td>28.733333</td>\n",
       "      <td>GV0796_Pos3_Scr_-9</td>\n",
       "    </tr>\n",
       "    <tr>\n",
       "      <th>744</th>\n",
       "      <td>4657</td>\n",
       "      <td>243.666667</td>\n",
       "      <td>963</td>\n",
       "      <td>899</td>\n",
       "      <td>132</td>\n",
       "      <td>34.333333</td>\n",
       "      <td>GV0796_Pos3_Scr_-9</td>\n",
       "    </tr>\n",
       "    <tr>\n",
       "      <th>745</th>\n",
       "      <td>4736</td>\n",
       "      <td>60.666667</td>\n",
       "      <td>976</td>\n",
       "      <td>183</td>\n",
       "      <td>184</td>\n",
       "      <td>35.200000</td>\n",
       "      <td>GV0796_Pos3_Scr_-9</td>\n",
       "    </tr>\n",
       "    <tr>\n",
       "      <th>746</th>\n",
       "      <td>5010</td>\n",
       "      <td>122.666667</td>\n",
       "      <td>966</td>\n",
       "      <td>32</td>\n",
       "      <td>39</td>\n",
       "      <td>34.533333</td>\n",
       "      <td>GV0796_Pos3_Scr_-9</td>\n",
       "    </tr>\n",
       "  </tbody>\n",
       "</table>\n",
       "<p>747 rows × 7 columns</p>\n",
       "</div>"
      ],
      "text/plain": [
       "     Cell ID         dij  Frame    x     y        tij            Focal ID\n",
       "0        100  322.666667    238  683  1126 -14.000000  GV0796_Pos3_Scr_-9\n",
       "1         92  287.000000     10  732   841 -29.200000  GV0796_Pos3_Scr_-9\n",
       "2         94  353.666667    135   68  1373 -20.866667  GV0796_Pos3_Scr_-9\n",
       "3         95  288.000000     17   97  1218 -28.733333  GV0796_Pos3_Scr_-9\n",
       "4         97   60.333333    223   78   162 -15.000000  GV0796_Pos3_Scr_-9\n",
       "..       ...         ...    ...  ...   ...        ...                 ...\n",
       "742     3621  262.000000    892  151  1149  29.600000  GV0796_Pos3_Scr_-9\n",
       "743     4583  125.666667    879   46   707  28.733333  GV0796_Pos3_Scr_-9\n",
       "744     4657  243.666667    963  899   132  34.333333  GV0796_Pos3_Scr_-9\n",
       "745     4736   60.666667    976  183   184  35.200000  GV0796_Pos3_Scr_-9\n",
       "746     5010  122.666667    966   32    39  34.533333  GV0796_Pos3_Scr_-9\n",
       "\n",
       "[747 rows x 7 columns]"
      ]
     },
     "execution_count": 10,
     "metadata": {},
     "output_type": "execute_result"
    }
   ],
   "source": [
    "df"
   ]
  },
  {
   "cell_type": "code",
   "execution_count": 11,
   "id": "7a9112dd",
   "metadata": {},
   "outputs": [
    {
     "name": "stdout",
     "output_type": "stream",
     "text": [
      "Total number of division events, n =  747\n",
      "Total number of focal apoptotic events, n =  1\n"
     ]
    }
   ],
   "source": [
    "n1 = len(set(df['Cell ID']))\n",
    "print('Total number of division events, n = ', n1)\n",
    "n2 = len(set(df['Focal ID'])) #len(file_list)\n",
    "print('Total number of focal apoptotic events, n = ', n2)"
   ]
  },
  {
   "cell_type": "code",
   "execution_count": 12,
   "id": "e4a84a6b",
   "metadata": {},
   "outputs": [
    {
     "name": "stdout",
     "output_type": "stream",
     "text": [
      "Default time interval, T =  66.33333333333333\n"
     ]
    }
   ],
   "source": [
    "T = max(df['tij']) - min(df['tij'])\n",
    "print('Default time interval, T = ', T)"
   ]
  },
  {
   "cell_type": "code",
   "execution_count": 13,
   "id": "6b31775d",
   "metadata": {},
   "outputs": [
    {
     "name": "stdout",
     "output_type": "stream",
     "text": [
      "Total area (FOV) in micrometres, a(R) = 200893 microns squared\n"
     ]
    }
   ],
   "source": [
    "x_range = max(df['x']) - min(df['x'])\n",
    "y_range = max(df['y']) - min(df['y'])\n",
    "### convert from pixels to micrometres (/3)\n",
    "a = (x_range/3)*(y_range/3)\n",
    "print('Total area (FOV) in micrometres, a(R) =', round(a), 'microns squared')"
   ]
  },
  {
   "cell_type": "code",
   "execution_count": 14,
   "id": "624a937d",
   "metadata": {},
   "outputs": [
    {
     "name": "stdout",
     "output_type": "stream",
     "text": [
      "Space-time intensity parameter, lambda_st =  5.605614853320163e-05\n",
      "Space-time intensity parameter for division events, lambda_1 =  5.605614853320163e-05\n",
      "Space-time intensity parameter for apoptotic events, lambda_2 =  7.50416981702833e-08\n"
     ]
    }
   ],
   "source": [
    "n = n1\n",
    "lambda_st = n/(a*T)\n",
    "print('Space-time intensity parameter, lambda_st = ', lambda_st)\n",
    "lambda_1 = n1/(a*T)\n",
    "print('Space-time intensity parameter for division events, lambda_1 = ', lambda_1)\n",
    "lambda_2 = n2/(a*T)\n",
    "print('Space-time intensity parameter for apoptotic events, lambda_2 = ', lambda_2)"
   ]
  },
  {
   "cell_type": "code",
   "execution_count": 15,
   "id": "d74ee70a",
   "metadata": {},
   "outputs": [],
   "source": [
    "delta_ = np.linspace(-5,5, 100)\n",
    "h_ = np.linspace(0,100, 100)"
   ]
  },
  {
   "cell_type": "code",
   "execution_count": 16,
   "id": "90b97104",
   "metadata": {},
   "outputs": [
    {
     "data": {
      "text/plain": [
       "['/home/nathan/data/results/radial_analysis_output/follow/raw_lists/1600.1600/scr_apop_wt_div_xyt/1600.1600/GV0796_Pos3_Scr_-9_N_events_wt_rad_1600_t_range_1600_focal_txy_448_205_365.csv']"
      ]
     },
     "execution_count": 16,
     "metadata": {},
     "output_type": "execute_result"
    }
   ],
   "source": [
    "file_list"
   ]
  },
  {
   "cell_type": "code",
   "execution_count": 17,
   "id": "9d5980ff",
   "metadata": {},
   "outputs": [
    {
     "data": {
      "text/html": [
       "<div>\n",
       "<style scoped>\n",
       "    .dataframe tbody tr th:only-of-type {\n",
       "        vertical-align: middle;\n",
       "    }\n",
       "\n",
       "    .dataframe tbody tr th {\n",
       "        vertical-align: top;\n",
       "    }\n",
       "\n",
       "    .dataframe thead th {\n",
       "        text-align: right;\n",
       "    }\n",
       "</style>\n",
       "<table border=\"1\" class=\"dataframe\">\n",
       "  <thead>\n",
       "    <tr style=\"text-align: right;\">\n",
       "      <th></th>\n",
       "      <th>Cell ID</th>\n",
       "      <th>dij</th>\n",
       "      <th>Frame</th>\n",
       "      <th>x</th>\n",
       "      <th>y</th>\n",
       "      <th>tij</th>\n",
       "      <th>Focal ID</th>\n",
       "    </tr>\n",
       "  </thead>\n",
       "  <tbody>\n",
       "    <tr>\n",
       "      <th>0</th>\n",
       "      <td>100</td>\n",
       "      <td>322.666667</td>\n",
       "      <td>238</td>\n",
       "      <td>683</td>\n",
       "      <td>1126</td>\n",
       "      <td>-14.000000</td>\n",
       "      <td>GV0796_Pos3_Scr_-9</td>\n",
       "    </tr>\n",
       "    <tr>\n",
       "      <th>1</th>\n",
       "      <td>92</td>\n",
       "      <td>287.000000</td>\n",
       "      <td>10</td>\n",
       "      <td>732</td>\n",
       "      <td>841</td>\n",
       "      <td>-29.200000</td>\n",
       "      <td>GV0796_Pos3_Scr_-9</td>\n",
       "    </tr>\n",
       "    <tr>\n",
       "      <th>2</th>\n",
       "      <td>94</td>\n",
       "      <td>353.666667</td>\n",
       "      <td>135</td>\n",
       "      <td>68</td>\n",
       "      <td>1373</td>\n",
       "      <td>-20.866667</td>\n",
       "      <td>GV0796_Pos3_Scr_-9</td>\n",
       "    </tr>\n",
       "    <tr>\n",
       "      <th>3</th>\n",
       "      <td>95</td>\n",
       "      <td>288.000000</td>\n",
       "      <td>17</td>\n",
       "      <td>97</td>\n",
       "      <td>1218</td>\n",
       "      <td>-28.733333</td>\n",
       "      <td>GV0796_Pos3_Scr_-9</td>\n",
       "    </tr>\n",
       "    <tr>\n",
       "      <th>4</th>\n",
       "      <td>97</td>\n",
       "      <td>60.333333</td>\n",
       "      <td>223</td>\n",
       "      <td>78</td>\n",
       "      <td>162</td>\n",
       "      <td>-15.000000</td>\n",
       "      <td>GV0796_Pos3_Scr_-9</td>\n",
       "    </tr>\n",
       "    <tr>\n",
       "      <th>...</th>\n",
       "      <td>...</td>\n",
       "      <td>...</td>\n",
       "      <td>...</td>\n",
       "      <td>...</td>\n",
       "      <td>...</td>\n",
       "      <td>...</td>\n",
       "      <td>...</td>\n",
       "    </tr>\n",
       "    <tr>\n",
       "      <th>742</th>\n",
       "      <td>3621</td>\n",
       "      <td>262.000000</td>\n",
       "      <td>892</td>\n",
       "      <td>151</td>\n",
       "      <td>1149</td>\n",
       "      <td>29.600000</td>\n",
       "      <td>GV0796_Pos3_Scr_-9</td>\n",
       "    </tr>\n",
       "    <tr>\n",
       "      <th>743</th>\n",
       "      <td>4583</td>\n",
       "      <td>125.666667</td>\n",
       "      <td>879</td>\n",
       "      <td>46</td>\n",
       "      <td>707</td>\n",
       "      <td>28.733333</td>\n",
       "      <td>GV0796_Pos3_Scr_-9</td>\n",
       "    </tr>\n",
       "    <tr>\n",
       "      <th>744</th>\n",
       "      <td>4657</td>\n",
       "      <td>243.666667</td>\n",
       "      <td>963</td>\n",
       "      <td>899</td>\n",
       "      <td>132</td>\n",
       "      <td>34.333333</td>\n",
       "      <td>GV0796_Pos3_Scr_-9</td>\n",
       "    </tr>\n",
       "    <tr>\n",
       "      <th>745</th>\n",
       "      <td>4736</td>\n",
       "      <td>60.666667</td>\n",
       "      <td>976</td>\n",
       "      <td>183</td>\n",
       "      <td>184</td>\n",
       "      <td>35.200000</td>\n",
       "      <td>GV0796_Pos3_Scr_-9</td>\n",
       "    </tr>\n",
       "    <tr>\n",
       "      <th>746</th>\n",
       "      <td>5010</td>\n",
       "      <td>122.666667</td>\n",
       "      <td>966</td>\n",
       "      <td>32</td>\n",
       "      <td>39</td>\n",
       "      <td>34.533333</td>\n",
       "      <td>GV0796_Pos3_Scr_-9</td>\n",
       "    </tr>\n",
       "  </tbody>\n",
       "</table>\n",
       "<p>747 rows × 7 columns</p>\n",
       "</div>"
      ],
      "text/plain": [
       "     Cell ID         dij  Frame    x     y        tij            Focal ID\n",
       "0        100  322.666667    238  683  1126 -14.000000  GV0796_Pos3_Scr_-9\n",
       "1         92  287.000000     10  732   841 -29.200000  GV0796_Pos3_Scr_-9\n",
       "2         94  353.666667    135   68  1373 -20.866667  GV0796_Pos3_Scr_-9\n",
       "3         95  288.000000     17   97  1218 -28.733333  GV0796_Pos3_Scr_-9\n",
       "4         97   60.333333    223   78   162 -15.000000  GV0796_Pos3_Scr_-9\n",
       "..       ...         ...    ...  ...   ...        ...                 ...\n",
       "742     3621  262.000000    892  151  1149  29.600000  GV0796_Pos3_Scr_-9\n",
       "743     4583  125.666667    879   46   707  28.733333  GV0796_Pos3_Scr_-9\n",
       "744     4657  243.666667    963  899   132  34.333333  GV0796_Pos3_Scr_-9\n",
       "745     4736   60.666667    976  183   184  35.200000  GV0796_Pos3_Scr_-9\n",
       "746     5010  122.666667    966   32    39  34.533333  GV0796_Pos3_Scr_-9\n",
       "\n",
       "[747 rows x 7 columns]"
      ]
     },
     "execution_count": 17,
     "metadata": {},
     "output_type": "execute_result"
    }
   ],
   "source": [
    "df"
   ]
  },
  {
   "cell_type": "code",
   "execution_count": 18,
   "id": "d52ebce3",
   "metadata": {},
   "outputs": [
    {
     "data": {
      "application/vnd.jupyter.widget-view+json": {
       "model_id": "a17e861a3cf842a09efc9bb99ca87c49",
       "version_major": 2,
       "version_minor": 0
      },
      "text/plain": [
       "Iterating over space-time:   0%|          | 0/100 [00:00<?, ?it/s]"
      ]
     },
     "metadata": {},
     "output_type": "display_data"
    }
   ],
   "source": [
    "K_st = K_st_func(h_, delta_, n, lambda_st, df)"
   ]
  },
  {
   "cell_type": "code",
   "execution_count": 15,
   "id": "de19d06b",
   "metadata": {},
   "outputs": [
    {
     "data": {
      "text/plain": [
       "Text(0.5, 1.0, 'Space-time K-function \\n for N = 1 focal apoptosis')"
      ]
     },
     "execution_count": 15,
     "metadata": {},
     "output_type": "execute_result"
    },
    {
     "data": {
      "image/png": "[encoded data removed]",
      "text/plain": [
       "<Figure size 432x288 with 2 Axes>"
      ]
     },
     "metadata": {
      "needs_background": "light"
     },
     "output_type": "display_data"
    }
   ],
   "source": [
    "pc = plt.pcolormesh(delta_, h_, K_st, )\n",
    "plt.colorbar(label = 'Expected number of additional events',)\n",
    "plt.xlabel('Time since apoptosis (hours)')\n",
    "plt.ylabel('Distance from apoptosis (microns)')\n",
    "plt.title('Space-time K-function \\n for N = 1 focal apoptosis')"
   ]
  },
  {
   "cell_type": "markdown",
   "id": "36f24b95",
   "metadata": {},
   "source": [
    "## Temporal indistinguishability hypothesis\n",
    "\n",
    "Random permutations of different time points to see if the K-function patterns still hold."
   ]
  },
  {
   "cell_type": "code",
   "execution_count": 16,
   "id": "485cb926",
   "metadata": {},
   "outputs": [
    {
     "data": {
      "text/html": [
       "<div>\n",
       "<style scoped>\n",
       "    .dataframe tbody tr th:only-of-type {\n",
       "        vertical-align: middle;\n",
       "    }\n",
       "\n",
       "    .dataframe tbody tr th {\n",
       "        vertical-align: top;\n",
       "    }\n",
       "\n",
       "    .dataframe thead th {\n",
       "        text-align: right;\n",
       "    }\n",
       "</style>\n",
       "<table border=\"1\" class=\"dataframe\">\n",
       "  <thead>\n",
       "    <tr style=\"text-align: right;\">\n",
       "      <th></th>\n",
       "      <th>Cell ID</th>\n",
       "      <th>dij</th>\n",
       "      <th>Frame</th>\n",
       "      <th>x</th>\n",
       "      <th>y</th>\n",
       "      <th>tij</th>\n",
       "      <th>Focal ID</th>\n",
       "    </tr>\n",
       "  </thead>\n",
       "  <tbody>\n",
       "    <tr>\n",
       "      <th>31</th>\n",
       "      <td>134</td>\n",
       "      <td>69.333333</td>\n",
       "      <td>514</td>\n",
       "      <td>412</td>\n",
       "      <td>341</td>\n",
       "      <td>4.400000</td>\n",
       "      <td>GV0796_Pos3_Scr_-9</td>\n",
       "    </tr>\n",
       "    <tr>\n",
       "      <th>52</th>\n",
       "      <td>126</td>\n",
       "      <td>47.666667</td>\n",
       "      <td>375</td>\n",
       "      <td>284</td>\n",
       "      <td>271</td>\n",
       "      <td>-4.866667</td>\n",
       "      <td>GV0796_Pos3_Scr_-9</td>\n",
       "    </tr>\n",
       "    <tr>\n",
       "      <th>138</th>\n",
       "      <td>272</td>\n",
       "      <td>97.000000</td>\n",
       "      <td>402</td>\n",
       "      <td>203</td>\n",
       "      <td>639</td>\n",
       "      <td>-3.066667</td>\n",
       "      <td>GV0796_Pos3_Scr_-9</td>\n",
       "    </tr>\n",
       "    <tr>\n",
       "      <th>170</th>\n",
       "      <td>441</td>\n",
       "      <td>81.333333</td>\n",
       "      <td>450</td>\n",
       "      <td>439</td>\n",
       "      <td>436</td>\n",
       "      <td>0.133333</td>\n",
       "      <td>GV0796_Pos3_Scr_-9</td>\n",
       "    </tr>\n",
       "    <tr>\n",
       "      <th>171</th>\n",
       "      <td>440</td>\n",
       "      <td>77.000000</td>\n",
       "      <td>460</td>\n",
       "      <td>413</td>\n",
       "      <td>468</td>\n",
       "      <td>0.800000</td>\n",
       "      <td>GV0796_Pos3_Scr_-9</td>\n",
       "    </tr>\n",
       "    <tr>\n",
       "      <th>195</th>\n",
       "      <td>527</td>\n",
       "      <td>74.333333</td>\n",
       "      <td>426</td>\n",
       "      <td>200</td>\n",
       "      <td>133</td>\n",
       "      <td>-1.466667</td>\n",
       "      <td>GV0796_Pos3_Scr_-9</td>\n",
       "    </tr>\n",
       "    <tr>\n",
       "      <th>199</th>\n",
       "      <td>534</td>\n",
       "      <td>67.333333</td>\n",
       "      <td>447</td>\n",
       "      <td>340</td>\n",
       "      <td>515</td>\n",
       "      <td>-0.066667</td>\n",
       "      <td>GV0796_Pos3_Scr_-9</td>\n",
       "    </tr>\n",
       "    <tr>\n",
       "      <th>200</th>\n",
       "      <td>535</td>\n",
       "      <td>99.666667</td>\n",
       "      <td>398</td>\n",
       "      <td>337</td>\n",
       "      <td>591</td>\n",
       "      <td>-3.333333</td>\n",
       "      <td>GV0796_Pos3_Scr_-9</td>\n",
       "    </tr>\n",
       "    <tr>\n",
       "      <th>305</th>\n",
       "      <td>849</td>\n",
       "      <td>20.333333</td>\n",
       "      <td>464</td>\n",
       "      <td>244</td>\n",
       "      <td>412</td>\n",
       "      <td>1.066667</td>\n",
       "      <td>GV0796_Pos3_Scr_-9</td>\n",
       "    </tr>\n",
       "    <tr>\n",
       "      <th>306</th>\n",
       "      <td>848</td>\n",
       "      <td>67.000000</td>\n",
       "      <td>499</td>\n",
       "      <td>295</td>\n",
       "      <td>545</td>\n",
       "      <td>3.400000</td>\n",
       "      <td>GV0796_Pos3_Scr_-9</td>\n",
       "    </tr>\n",
       "    <tr>\n",
       "      <th>317</th>\n",
       "      <td>876</td>\n",
       "      <td>82.666667</td>\n",
       "      <td>484</td>\n",
       "      <td>330</td>\n",
       "      <td>579</td>\n",
       "      <td>2.400000</td>\n",
       "      <td>GV0796_Pos3_Scr_-9</td>\n",
       "    </tr>\n",
       "    <tr>\n",
       "      <th>318</th>\n",
       "      <td>877</td>\n",
       "      <td>39.333333</td>\n",
       "      <td>470</td>\n",
       "      <td>304</td>\n",
       "      <td>430</td>\n",
       "      <td>1.466667</td>\n",
       "      <td>GV0796_Pos3_Scr_-9</td>\n",
       "    </tr>\n",
       "    <tr>\n",
       "      <th>323</th>\n",
       "      <td>894</td>\n",
       "      <td>67.000000</td>\n",
       "      <td>498</td>\n",
       "      <td>380</td>\n",
       "      <td>265</td>\n",
       "      <td>3.333333</td>\n",
       "      <td>GV0796_Pos3_Scr_-9</td>\n",
       "    </tr>\n",
       "    <tr>\n",
       "      <th>336</th>\n",
       "      <td>918</td>\n",
       "      <td>93.000000</td>\n",
       "      <td>520</td>\n",
       "      <td>453</td>\n",
       "      <td>238</td>\n",
       "      <td>4.800000</td>\n",
       "      <td>GV0796_Pos3_Scr_-9</td>\n",
       "    </tr>\n",
       "    <tr>\n",
       "      <th>361</th>\n",
       "      <td>1006</td>\n",
       "      <td>18.000000</td>\n",
       "      <td>501</td>\n",
       "      <td>163</td>\n",
       "      <td>330</td>\n",
       "      <td>3.533333</td>\n",
       "      <td>GV0796_Pos3_Scr_-9</td>\n",
       "    </tr>\n",
       "    <tr>\n",
       "      <th>396</th>\n",
       "      <td>1116</td>\n",
       "      <td>60.666667</td>\n",
       "      <td>486</td>\n",
       "      <td>111</td>\n",
       "      <td>521</td>\n",
       "      <td>2.533333</td>\n",
       "      <td>GV0796_Pos3_Scr_-9</td>\n",
       "    </tr>\n",
       "    <tr>\n",
       "      <th>440</th>\n",
       "      <td>1228</td>\n",
       "      <td>75.666667</td>\n",
       "      <td>478</td>\n",
       "      <td>67</td>\n",
       "      <td>546</td>\n",
       "      <td>2.000000</td>\n",
       "      <td>GV0796_Pos3_Scr_-9</td>\n",
       "    </tr>\n",
       "    <tr>\n",
       "      <th>509</th>\n",
       "      <td>1477</td>\n",
       "      <td>76.000000</td>\n",
       "      <td>481</td>\n",
       "      <td>24</td>\n",
       "      <td>505</td>\n",
       "      <td>2.200000</td>\n",
       "      <td>GV0796_Pos3_Scr_-9</td>\n",
       "    </tr>\n",
       "  </tbody>\n",
       "</table>\n",
       "</div>"
      ],
      "text/plain": [
       "     Cell ID        dij  Frame    x    y       tij            Focal ID\n",
       "31       134  69.333333    514  412  341  4.400000  GV0796_Pos3_Scr_-9\n",
       "52       126  47.666667    375  284  271 -4.866667  GV0796_Pos3_Scr_-9\n",
       "138      272  97.000000    402  203  639 -3.066667  GV0796_Pos3_Scr_-9\n",
       "170      441  81.333333    450  439  436  0.133333  GV0796_Pos3_Scr_-9\n",
       "171      440  77.000000    460  413  468  0.800000  GV0796_Pos3_Scr_-9\n",
       "195      527  74.333333    426  200  133 -1.466667  GV0796_Pos3_Scr_-9\n",
       "199      534  67.333333    447  340  515 -0.066667  GV0796_Pos3_Scr_-9\n",
       "200      535  99.666667    398  337  591 -3.333333  GV0796_Pos3_Scr_-9\n",
       "305      849  20.333333    464  244  412  1.066667  GV0796_Pos3_Scr_-9\n",
       "306      848  67.000000    499  295  545  3.400000  GV0796_Pos3_Scr_-9\n",
       "317      876  82.666667    484  330  579  2.400000  GV0796_Pos3_Scr_-9\n",
       "318      877  39.333333    470  304  430  1.466667  GV0796_Pos3_Scr_-9\n",
       "323      894  67.000000    498  380  265  3.333333  GV0796_Pos3_Scr_-9\n",
       "336      918  93.000000    520  453  238  4.800000  GV0796_Pos3_Scr_-9\n",
       "361     1006  18.000000    501  163  330  3.533333  GV0796_Pos3_Scr_-9\n",
       "396     1116  60.666667    486  111  521  2.533333  GV0796_Pos3_Scr_-9\n",
       "440     1228  75.666667    478   67  546  2.000000  GV0796_Pos3_Scr_-9\n",
       "509     1477  76.000000    481   24  505  2.200000  GV0796_Pos3_Scr_-9"
      ]
     },
     "execution_count": 16,
     "metadata": {},
     "output_type": "execute_result"
    }
   ],
   "source": [
    "df"
   ]
  },
  {
   "cell_type": "markdown",
   "id": "d10ab3c1",
   "metadata": {},
   "source": [
    "The cell below mixes the order of the time points of the events for N different permutations, naming the new shuffled time points t<sub>pi</sub> and the indices of the permutations as tau."
   ]
  },
  {
   "cell_type": "code",
   "execution_count": 17,
   "id": "56d124b8",
   "metadata": {
    "scrolled": true
   },
   "outputs": [
    {
     "data": {
      "application/vnd.jupyter.widget-view+json": {
       "model_id": "a65a116660594cb487bae79d7f9637e3",
       "version_major": 2,
       "version_minor": 0
      },
      "text/plain": [
       "  0%|          | 0/1000 [00:00<?, ?it/s]"
      ]
     },
     "metadata": {},
     "output_type": "display_data"
    },
    {
     "name": "stderr",
     "output_type": "stream",
     "text": [
      "<ipython-input-17-b49379d3ea8c>:4: PerformanceWarning: DataFrame is highly fragmented.  This is usually the result of calling `frame.insert` many times, which has poor performance.  Consider using pd.concat instead.  To get a de-fragmented frame, use `newframe = frame.copy()`\n",
      "  df[f'tpi τ = {tau}'] = df['tij'].sample(frac=1).reset_index(drop = True)\n"
     ]
    }
   ],
   "source": [
    "### define the number of permutations to make\n",
    "N = 1000\n",
    "for tau in tqdm(range(N)):\n",
    "    df[f'tpi τ = {tau}'] = df['tij'].sample(frac=1).reset_index(drop = True)"
   ]
  },
  {
   "cell_type": "code",
   "execution_count": 18,
   "id": "9bca77c4",
   "metadata": {},
   "outputs": [
    {
     "data": {
      "text/html": [
       "<div>\n",
       "<style scoped>\n",
       "    .dataframe tbody tr th:only-of-type {\n",
       "        vertical-align: middle;\n",
       "    }\n",
       "\n",
       "    .dataframe tbody tr th {\n",
       "        vertical-align: top;\n",
       "    }\n",
       "\n",
       "    .dataframe thead th {\n",
       "        text-align: right;\n",
       "    }\n",
       "</style>\n",
       "<table border=\"1\" class=\"dataframe\">\n",
       "  <thead>\n",
       "    <tr style=\"text-align: right;\">\n",
       "      <th></th>\n",
       "      <th>Cell ID</th>\n",
       "      <th>dij</th>\n",
       "      <th>Frame</th>\n",
       "      <th>x</th>\n",
       "      <th>y</th>\n",
       "      <th>tij</th>\n",
       "      <th>Focal ID</th>\n",
       "      <th>tpi τ = 0</th>\n",
       "      <th>tpi τ = 1</th>\n",
       "      <th>tpi τ = 2</th>\n",
       "      <th>...</th>\n",
       "      <th>tpi τ = 990</th>\n",
       "      <th>tpi τ = 991</th>\n",
       "      <th>tpi τ = 992</th>\n",
       "      <th>tpi τ = 993</th>\n",
       "      <th>tpi τ = 994</th>\n",
       "      <th>tpi τ = 995</th>\n",
       "      <th>tpi τ = 996</th>\n",
       "      <th>tpi τ = 997</th>\n",
       "      <th>tpi τ = 998</th>\n",
       "      <th>tpi τ = 999</th>\n",
       "    </tr>\n",
       "  </thead>\n",
       "  <tbody>\n",
       "    <tr>\n",
       "      <th>31</th>\n",
       "      <td>134</td>\n",
       "      <td>69.333333</td>\n",
       "      <td>514</td>\n",
       "      <td>412</td>\n",
       "      <td>341</td>\n",
       "      <td>4.400000</td>\n",
       "      <td>GV0796_Pos3_Scr_-9</td>\n",
       "      <td>NaN</td>\n",
       "      <td>NaN</td>\n",
       "      <td>NaN</td>\n",
       "      <td>...</td>\n",
       "      <td>NaN</td>\n",
       "      <td>NaN</td>\n",
       "      <td>NaN</td>\n",
       "      <td>NaN</td>\n",
       "      <td>NaN</td>\n",
       "      <td>NaN</td>\n",
       "      <td>NaN</td>\n",
       "      <td>NaN</td>\n",
       "      <td>NaN</td>\n",
       "      <td>NaN</td>\n",
       "    </tr>\n",
       "    <tr>\n",
       "      <th>52</th>\n",
       "      <td>126</td>\n",
       "      <td>47.666667</td>\n",
       "      <td>375</td>\n",
       "      <td>284</td>\n",
       "      <td>271</td>\n",
       "      <td>-4.866667</td>\n",
       "      <td>GV0796_Pos3_Scr_-9</td>\n",
       "      <td>NaN</td>\n",
       "      <td>NaN</td>\n",
       "      <td>NaN</td>\n",
       "      <td>...</td>\n",
       "      <td>NaN</td>\n",
       "      <td>NaN</td>\n",
       "      <td>NaN</td>\n",
       "      <td>NaN</td>\n",
       "      <td>NaN</td>\n",
       "      <td>NaN</td>\n",
       "      <td>NaN</td>\n",
       "      <td>NaN</td>\n",
       "      <td>NaN</td>\n",
       "      <td>NaN</td>\n",
       "    </tr>\n",
       "    <tr>\n",
       "      <th>138</th>\n",
       "      <td>272</td>\n",
       "      <td>97.000000</td>\n",
       "      <td>402</td>\n",
       "      <td>203</td>\n",
       "      <td>639</td>\n",
       "      <td>-3.066667</td>\n",
       "      <td>GV0796_Pos3_Scr_-9</td>\n",
       "      <td>NaN</td>\n",
       "      <td>NaN</td>\n",
       "      <td>NaN</td>\n",
       "      <td>...</td>\n",
       "      <td>NaN</td>\n",
       "      <td>NaN</td>\n",
       "      <td>NaN</td>\n",
       "      <td>NaN</td>\n",
       "      <td>NaN</td>\n",
       "      <td>NaN</td>\n",
       "      <td>NaN</td>\n",
       "      <td>NaN</td>\n",
       "      <td>NaN</td>\n",
       "      <td>NaN</td>\n",
       "    </tr>\n",
       "    <tr>\n",
       "      <th>170</th>\n",
       "      <td>441</td>\n",
       "      <td>81.333333</td>\n",
       "      <td>450</td>\n",
       "      <td>439</td>\n",
       "      <td>436</td>\n",
       "      <td>0.133333</td>\n",
       "      <td>GV0796_Pos3_Scr_-9</td>\n",
       "      <td>NaN</td>\n",
       "      <td>NaN</td>\n",
       "      <td>NaN</td>\n",
       "      <td>...</td>\n",
       "      <td>NaN</td>\n",
       "      <td>NaN</td>\n",
       "      <td>NaN</td>\n",
       "      <td>NaN</td>\n",
       "      <td>NaN</td>\n",
       "      <td>NaN</td>\n",
       "      <td>NaN</td>\n",
       "      <td>NaN</td>\n",
       "      <td>NaN</td>\n",
       "      <td>NaN</td>\n",
       "    </tr>\n",
       "    <tr>\n",
       "      <th>171</th>\n",
       "      <td>440</td>\n",
       "      <td>77.000000</td>\n",
       "      <td>460</td>\n",
       "      <td>413</td>\n",
       "      <td>468</td>\n",
       "      <td>0.800000</td>\n",
       "      <td>GV0796_Pos3_Scr_-9</td>\n",
       "      <td>NaN</td>\n",
       "      <td>NaN</td>\n",
       "      <td>NaN</td>\n",
       "      <td>...</td>\n",
       "      <td>NaN</td>\n",
       "      <td>NaN</td>\n",
       "      <td>NaN</td>\n",
       "      <td>NaN</td>\n",
       "      <td>NaN</td>\n",
       "      <td>NaN</td>\n",
       "      <td>NaN</td>\n",
       "      <td>NaN</td>\n",
       "      <td>NaN</td>\n",
       "      <td>NaN</td>\n",
       "    </tr>\n",
       "    <tr>\n",
       "      <th>195</th>\n",
       "      <td>527</td>\n",
       "      <td>74.333333</td>\n",
       "      <td>426</td>\n",
       "      <td>200</td>\n",
       "      <td>133</td>\n",
       "      <td>-1.466667</td>\n",
       "      <td>GV0796_Pos3_Scr_-9</td>\n",
       "      <td>NaN</td>\n",
       "      <td>NaN</td>\n",
       "      <td>NaN</td>\n",
       "      <td>...</td>\n",
       "      <td>NaN</td>\n",
       "      <td>NaN</td>\n",
       "      <td>NaN</td>\n",
       "      <td>NaN</td>\n",
       "      <td>NaN</td>\n",
       "      <td>NaN</td>\n",
       "      <td>NaN</td>\n",
       "      <td>NaN</td>\n",
       "      <td>NaN</td>\n",
       "      <td>NaN</td>\n",
       "    </tr>\n",
       "    <tr>\n",
       "      <th>199</th>\n",
       "      <td>534</td>\n",
       "      <td>67.333333</td>\n",
       "      <td>447</td>\n",
       "      <td>340</td>\n",
       "      <td>515</td>\n",
       "      <td>-0.066667</td>\n",
       "      <td>GV0796_Pos3_Scr_-9</td>\n",
       "      <td>NaN</td>\n",
       "      <td>NaN</td>\n",
       "      <td>NaN</td>\n",
       "      <td>...</td>\n",
       "      <td>NaN</td>\n",
       "      <td>NaN</td>\n",
       "      <td>NaN</td>\n",
       "      <td>NaN</td>\n",
       "      <td>NaN</td>\n",
       "      <td>NaN</td>\n",
       "      <td>NaN</td>\n",
       "      <td>NaN</td>\n",
       "      <td>NaN</td>\n",
       "      <td>NaN</td>\n",
       "    </tr>\n",
       "    <tr>\n",
       "      <th>200</th>\n",
       "      <td>535</td>\n",
       "      <td>99.666667</td>\n",
       "      <td>398</td>\n",
       "      <td>337</td>\n",
       "      <td>591</td>\n",
       "      <td>-3.333333</td>\n",
       "      <td>GV0796_Pos3_Scr_-9</td>\n",
       "      <td>NaN</td>\n",
       "      <td>NaN</td>\n",
       "      <td>NaN</td>\n",
       "      <td>...</td>\n",
       "      <td>NaN</td>\n",
       "      <td>NaN</td>\n",
       "      <td>NaN</td>\n",
       "      <td>NaN</td>\n",
       "      <td>NaN</td>\n",
       "      <td>NaN</td>\n",
       "      <td>NaN</td>\n",
       "      <td>NaN</td>\n",
       "      <td>NaN</td>\n",
       "      <td>NaN</td>\n",
       "    </tr>\n",
       "    <tr>\n",
       "      <th>305</th>\n",
       "      <td>849</td>\n",
       "      <td>20.333333</td>\n",
       "      <td>464</td>\n",
       "      <td>244</td>\n",
       "      <td>412</td>\n",
       "      <td>1.066667</td>\n",
       "      <td>GV0796_Pos3_Scr_-9</td>\n",
       "      <td>NaN</td>\n",
       "      <td>NaN</td>\n",
       "      <td>NaN</td>\n",
       "      <td>...</td>\n",
       "      <td>NaN</td>\n",
       "      <td>NaN</td>\n",
       "      <td>NaN</td>\n",
       "      <td>NaN</td>\n",
       "      <td>NaN</td>\n",
       "      <td>NaN</td>\n",
       "      <td>NaN</td>\n",
       "      <td>NaN</td>\n",
       "      <td>NaN</td>\n",
       "      <td>NaN</td>\n",
       "    </tr>\n",
       "    <tr>\n",
       "      <th>306</th>\n",
       "      <td>848</td>\n",
       "      <td>67.000000</td>\n",
       "      <td>499</td>\n",
       "      <td>295</td>\n",
       "      <td>545</td>\n",
       "      <td>3.400000</td>\n",
       "      <td>GV0796_Pos3_Scr_-9</td>\n",
       "      <td>NaN</td>\n",
       "      <td>NaN</td>\n",
       "      <td>NaN</td>\n",
       "      <td>...</td>\n",
       "      <td>NaN</td>\n",
       "      <td>NaN</td>\n",
       "      <td>NaN</td>\n",
       "      <td>NaN</td>\n",
       "      <td>NaN</td>\n",
       "      <td>NaN</td>\n",
       "      <td>NaN</td>\n",
       "      <td>NaN</td>\n",
       "      <td>NaN</td>\n",
       "      <td>NaN</td>\n",
       "    </tr>\n",
       "    <tr>\n",
       "      <th>317</th>\n",
       "      <td>876</td>\n",
       "      <td>82.666667</td>\n",
       "      <td>484</td>\n",
       "      <td>330</td>\n",
       "      <td>579</td>\n",
       "      <td>2.400000</td>\n",
       "      <td>GV0796_Pos3_Scr_-9</td>\n",
       "      <td>NaN</td>\n",
       "      <td>NaN</td>\n",
       "      <td>NaN</td>\n",
       "      <td>...</td>\n",
       "      <td>NaN</td>\n",
       "      <td>NaN</td>\n",
       "      <td>NaN</td>\n",
       "      <td>NaN</td>\n",
       "      <td>NaN</td>\n",
       "      <td>NaN</td>\n",
       "      <td>NaN</td>\n",
       "      <td>NaN</td>\n",
       "      <td>NaN</td>\n",
       "      <td>NaN</td>\n",
       "    </tr>\n",
       "    <tr>\n",
       "      <th>318</th>\n",
       "      <td>877</td>\n",
       "      <td>39.333333</td>\n",
       "      <td>470</td>\n",
       "      <td>304</td>\n",
       "      <td>430</td>\n",
       "      <td>1.466667</td>\n",
       "      <td>GV0796_Pos3_Scr_-9</td>\n",
       "      <td>NaN</td>\n",
       "      <td>NaN</td>\n",
       "      <td>NaN</td>\n",
       "      <td>...</td>\n",
       "      <td>NaN</td>\n",
       "      <td>NaN</td>\n",
       "      <td>NaN</td>\n",
       "      <td>NaN</td>\n",
       "      <td>NaN</td>\n",
       "      <td>NaN</td>\n",
       "      <td>NaN</td>\n",
       "      <td>NaN</td>\n",
       "      <td>NaN</td>\n",
       "      <td>NaN</td>\n",
       "    </tr>\n",
       "    <tr>\n",
       "      <th>323</th>\n",
       "      <td>894</td>\n",
       "      <td>67.000000</td>\n",
       "      <td>498</td>\n",
       "      <td>380</td>\n",
       "      <td>265</td>\n",
       "      <td>3.333333</td>\n",
       "      <td>GV0796_Pos3_Scr_-9</td>\n",
       "      <td>NaN</td>\n",
       "      <td>NaN</td>\n",
       "      <td>NaN</td>\n",
       "      <td>...</td>\n",
       "      <td>NaN</td>\n",
       "      <td>NaN</td>\n",
       "      <td>NaN</td>\n",
       "      <td>NaN</td>\n",
       "      <td>NaN</td>\n",
       "      <td>NaN</td>\n",
       "      <td>NaN</td>\n",
       "      <td>NaN</td>\n",
       "      <td>NaN</td>\n",
       "      <td>NaN</td>\n",
       "    </tr>\n",
       "    <tr>\n",
       "      <th>336</th>\n",
       "      <td>918</td>\n",
       "      <td>93.000000</td>\n",
       "      <td>520</td>\n",
       "      <td>453</td>\n",
       "      <td>238</td>\n",
       "      <td>4.800000</td>\n",
       "      <td>GV0796_Pos3_Scr_-9</td>\n",
       "      <td>NaN</td>\n",
       "      <td>NaN</td>\n",
       "      <td>NaN</td>\n",
       "      <td>...</td>\n",
       "      <td>NaN</td>\n",
       "      <td>NaN</td>\n",
       "      <td>NaN</td>\n",
       "      <td>NaN</td>\n",
       "      <td>NaN</td>\n",
       "      <td>NaN</td>\n",
       "      <td>NaN</td>\n",
       "      <td>NaN</td>\n",
       "      <td>NaN</td>\n",
       "      <td>NaN</td>\n",
       "    </tr>\n",
       "    <tr>\n",
       "      <th>361</th>\n",
       "      <td>1006</td>\n",
       "      <td>18.000000</td>\n",
       "      <td>501</td>\n",
       "      <td>163</td>\n",
       "      <td>330</td>\n",
       "      <td>3.533333</td>\n",
       "      <td>GV0796_Pos3_Scr_-9</td>\n",
       "      <td>NaN</td>\n",
       "      <td>NaN</td>\n",
       "      <td>NaN</td>\n",
       "      <td>...</td>\n",
       "      <td>NaN</td>\n",
       "      <td>NaN</td>\n",
       "      <td>NaN</td>\n",
       "      <td>NaN</td>\n",
       "      <td>NaN</td>\n",
       "      <td>NaN</td>\n",
       "      <td>NaN</td>\n",
       "      <td>NaN</td>\n",
       "      <td>NaN</td>\n",
       "      <td>NaN</td>\n",
       "    </tr>\n",
       "    <tr>\n",
       "      <th>396</th>\n",
       "      <td>1116</td>\n",
       "      <td>60.666667</td>\n",
       "      <td>486</td>\n",
       "      <td>111</td>\n",
       "      <td>521</td>\n",
       "      <td>2.533333</td>\n",
       "      <td>GV0796_Pos3_Scr_-9</td>\n",
       "      <td>NaN</td>\n",
       "      <td>NaN</td>\n",
       "      <td>NaN</td>\n",
       "      <td>...</td>\n",
       "      <td>NaN</td>\n",
       "      <td>NaN</td>\n",
       "      <td>NaN</td>\n",
       "      <td>NaN</td>\n",
       "      <td>NaN</td>\n",
       "      <td>NaN</td>\n",
       "      <td>NaN</td>\n",
       "      <td>NaN</td>\n",
       "      <td>NaN</td>\n",
       "      <td>NaN</td>\n",
       "    </tr>\n",
       "    <tr>\n",
       "      <th>440</th>\n",
       "      <td>1228</td>\n",
       "      <td>75.666667</td>\n",
       "      <td>478</td>\n",
       "      <td>67</td>\n",
       "      <td>546</td>\n",
       "      <td>2.000000</td>\n",
       "      <td>GV0796_Pos3_Scr_-9</td>\n",
       "      <td>NaN</td>\n",
       "      <td>NaN</td>\n",
       "      <td>NaN</td>\n",
       "      <td>...</td>\n",
       "      <td>NaN</td>\n",
       "      <td>NaN</td>\n",
       "      <td>NaN</td>\n",
       "      <td>NaN</td>\n",
       "      <td>NaN</td>\n",
       "      <td>NaN</td>\n",
       "      <td>NaN</td>\n",
       "      <td>NaN</td>\n",
       "      <td>NaN</td>\n",
       "      <td>NaN</td>\n",
       "    </tr>\n",
       "    <tr>\n",
       "      <th>509</th>\n",
       "      <td>1477</td>\n",
       "      <td>76.000000</td>\n",
       "      <td>481</td>\n",
       "      <td>24</td>\n",
       "      <td>505</td>\n",
       "      <td>2.200000</td>\n",
       "      <td>GV0796_Pos3_Scr_-9</td>\n",
       "      <td>NaN</td>\n",
       "      <td>NaN</td>\n",
       "      <td>NaN</td>\n",
       "      <td>...</td>\n",
       "      <td>NaN</td>\n",
       "      <td>NaN</td>\n",
       "      <td>NaN</td>\n",
       "      <td>NaN</td>\n",
       "      <td>NaN</td>\n",
       "      <td>NaN</td>\n",
       "      <td>NaN</td>\n",
       "      <td>NaN</td>\n",
       "      <td>NaN</td>\n",
       "      <td>NaN</td>\n",
       "    </tr>\n",
       "  </tbody>\n",
       "</table>\n",
       "<p>18 rows × 1007 columns</p>\n",
       "</div>"
      ],
      "text/plain": [
       "     Cell ID        dij  Frame    x    y       tij            Focal ID  \\\n",
       "31       134  69.333333    514  412  341  4.400000  GV0796_Pos3_Scr_-9   \n",
       "52       126  47.666667    375  284  271 -4.866667  GV0796_Pos3_Scr_-9   \n",
       "138      272  97.000000    402  203  639 -3.066667  GV0796_Pos3_Scr_-9   \n",
       "170      441  81.333333    450  439  436  0.133333  GV0796_Pos3_Scr_-9   \n",
       "171      440  77.000000    460  413  468  0.800000  GV0796_Pos3_Scr_-9   \n",
       "195      527  74.333333    426  200  133 -1.466667  GV0796_Pos3_Scr_-9   \n",
       "199      534  67.333333    447  340  515 -0.066667  GV0796_Pos3_Scr_-9   \n",
       "200      535  99.666667    398  337  591 -3.333333  GV0796_Pos3_Scr_-9   \n",
       "305      849  20.333333    464  244  412  1.066667  GV0796_Pos3_Scr_-9   \n",
       "306      848  67.000000    499  295  545  3.400000  GV0796_Pos3_Scr_-9   \n",
       "317      876  82.666667    484  330  579  2.400000  GV0796_Pos3_Scr_-9   \n",
       "318      877  39.333333    470  304  430  1.466667  GV0796_Pos3_Scr_-9   \n",
       "323      894  67.000000    498  380  265  3.333333  GV0796_Pos3_Scr_-9   \n",
       "336      918  93.000000    520  453  238  4.800000  GV0796_Pos3_Scr_-9   \n",
       "361     1006  18.000000    501  163  330  3.533333  GV0796_Pos3_Scr_-9   \n",
       "396     1116  60.666667    486  111  521  2.533333  GV0796_Pos3_Scr_-9   \n",
       "440     1228  75.666667    478   67  546  2.000000  GV0796_Pos3_Scr_-9   \n",
       "509     1477  76.000000    481   24  505  2.200000  GV0796_Pos3_Scr_-9   \n",
       "\n",
       "     tpi τ = 0  tpi τ = 1  tpi τ = 2  ...  tpi τ = 990  tpi τ = 991  \\\n",
       "31         NaN        NaN        NaN  ...          NaN          NaN   \n",
       "52         NaN        NaN        NaN  ...          NaN          NaN   \n",
       "138        NaN        NaN        NaN  ...          NaN          NaN   \n",
       "170        NaN        NaN        NaN  ...          NaN          NaN   \n",
       "171        NaN        NaN        NaN  ...          NaN          NaN   \n",
       "195        NaN        NaN        NaN  ...          NaN          NaN   \n",
       "199        NaN        NaN        NaN  ...          NaN          NaN   \n",
       "200        NaN        NaN        NaN  ...          NaN          NaN   \n",
       "305        NaN        NaN        NaN  ...          NaN          NaN   \n",
       "306        NaN        NaN        NaN  ...          NaN          NaN   \n",
       "317        NaN        NaN        NaN  ...          NaN          NaN   \n",
       "318        NaN        NaN        NaN  ...          NaN          NaN   \n",
       "323        NaN        NaN        NaN  ...          NaN          NaN   \n",
       "336        NaN        NaN        NaN  ...          NaN          NaN   \n",
       "361        NaN        NaN        NaN  ...          NaN          NaN   \n",
       "396        NaN        NaN        NaN  ...          NaN          NaN   \n",
       "440        NaN        NaN        NaN  ...          NaN          NaN   \n",
       "509        NaN        NaN        NaN  ...          NaN          NaN   \n",
       "\n",
       "     tpi τ = 992  tpi τ = 993  tpi τ = 994  tpi τ = 995  tpi τ = 996  \\\n",
       "31           NaN          NaN          NaN          NaN          NaN   \n",
       "52           NaN          NaN          NaN          NaN          NaN   \n",
       "138          NaN          NaN          NaN          NaN          NaN   \n",
       "170          NaN          NaN          NaN          NaN          NaN   \n",
       "171          NaN          NaN          NaN          NaN          NaN   \n",
       "195          NaN          NaN          NaN          NaN          NaN   \n",
       "199          NaN          NaN          NaN          NaN          NaN   \n",
       "200          NaN          NaN          NaN          NaN          NaN   \n",
       "305          NaN          NaN          NaN          NaN          NaN   \n",
       "306          NaN          NaN          NaN          NaN          NaN   \n",
       "317          NaN          NaN          NaN          NaN          NaN   \n",
       "318          NaN          NaN          NaN          NaN          NaN   \n",
       "323          NaN          NaN          NaN          NaN          NaN   \n",
       "336          NaN          NaN          NaN          NaN          NaN   \n",
       "361          NaN          NaN          NaN          NaN          NaN   \n",
       "396          NaN          NaN          NaN          NaN          NaN   \n",
       "440          NaN          NaN          NaN          NaN          NaN   \n",
       "509          NaN          NaN          NaN          NaN          NaN   \n",
       "\n",
       "     tpi τ = 997  tpi τ = 998  tpi τ = 999  \n",
       "31           NaN          NaN          NaN  \n",
       "52           NaN          NaN          NaN  \n",
       "138          NaN          NaN          NaN  \n",
       "170          NaN          NaN          NaN  \n",
       "171          NaN          NaN          NaN  \n",
       "195          NaN          NaN          NaN  \n",
       "199          NaN          NaN          NaN  \n",
       "200          NaN          NaN          NaN  \n",
       "305          NaN          NaN          NaN  \n",
       "306          NaN          NaN          NaN  \n",
       "317          NaN          NaN          NaN  \n",
       "318          NaN          NaN          NaN  \n",
       "323          NaN          NaN          NaN  \n",
       "336          NaN          NaN          NaN  \n",
       "361          NaN          NaN          NaN  \n",
       "396          NaN          NaN          NaN  \n",
       "440          NaN          NaN          NaN  \n",
       "509          NaN          NaN          NaN  \n",
       "\n",
       "[18 rows x 1007 columns]"
      ]
     },
     "execution_count": 18,
     "metadata": {},
     "output_type": "execute_result"
    }
   ],
   "source": [
    "df"
   ]
  },
  {
   "cell_type": "markdown",
   "id": "4c36baff",
   "metadata": {},
   "source": [
    "Now calculating the space-time K-function for each permutation of time points"
   ]
  },
  {
   "cell_type": "code",
   "execution_count": 19,
   "id": "a489e30c",
   "metadata": {
    "scrolled": true
   },
   "outputs": [
    {
     "data": {
      "application/vnd.jupyter.widget-view+json": {
       "model_id": "529287eb1c75424298bde7a63953b897",
       "version_major": 2,
       "version_minor": 0
      },
      "text/plain": [
       "Progress through tau:   0%|          | 0/1000 [00:00<?, ?it/s]"
      ]
     },
     "metadata": {},
     "output_type": "display_data"
    },
    {
     "ename": "KeyboardInterrupt",
     "evalue": "",
     "output_type": "error",
     "traceback": [
      "\u001b[0;31m---------------------------------------------------------------------------\u001b[0m",
      "\u001b[0;31mKeyboardInterrupt\u001b[0m                         Traceback (most recent call last)",
      "Input \u001b[0;32mIn [19]\u001b[0m, in \u001b[0;36m<cell line: 2>\u001b[0;34m()\u001b[0m\n\u001b[1;32m      1\u001b[0m K_st_tau \u001b[38;5;241m=\u001b[39m {}\n\u001b[1;32m      2\u001b[0m \u001b[38;5;28;01mfor\u001b[39;00m tau \u001b[38;5;129;01min\u001b[39;00m tqdm(\u001b[38;5;28mrange\u001b[39m(N), desc \u001b[38;5;241m=\u001b[39m \u001b[38;5;124m'\u001b[39m\u001b[38;5;124mProgress through tau\u001b[39m\u001b[38;5;124m'\u001b[39m):\n\u001b[1;32m      3\u001b[0m \u001b[38;5;66;03m#     if tau in K_st_tau.keys():\u001b[39;00m\n\u001b[1;32m      4\u001b[0m \u001b[38;5;66;03m#         continue\u001b[39;00m\n\u001b[0;32m----> 5\u001b[0m     K_st_tau[tau] \u001b[38;5;241m=\u001b[39m \u001b[43mK_st_tau_func\u001b[49m\u001b[43m(\u001b[49m\u001b[43mh_\u001b[49m\u001b[43m,\u001b[49m\u001b[43m \u001b[49m\u001b[43mdelta_\u001b[49m\u001b[43m,\u001b[49m\u001b[43m \u001b[49m\u001b[43mn\u001b[49m\u001b[43m,\u001b[49m\u001b[43m \u001b[49m\u001b[43mlambda_st\u001b[49m\u001b[43m,\u001b[49m\u001b[43m \u001b[49m\u001b[43mdf\u001b[49m\u001b[43m,\u001b[49m\u001b[43m \u001b[49m\u001b[43mtau\u001b[49m\u001b[43m)\u001b[49m\n",
      "Input \u001b[0;32mIn [2]\u001b[0m, in \u001b[0;36mK_st_tau_func\u001b[0;34m(h_, delta_, n, lambda_st, df, tau)\u001b[0m\n\u001b[1;32m     28\u001b[0m             K_st_tau[i, j] \u001b[38;5;241m=\u001b[39m (\u001b[38;5;241m1\u001b[39m\u001b[38;5;241m/\u001b[39m(n \u001b[38;5;241m*\u001b[39m lambda_st)) \u001b[38;5;241m*\u001b[39m \u001b[38;5;28mlen\u001b[39m(df[((df[\u001b[38;5;124mf\u001b[39m\u001b[38;5;124m'\u001b[39m\u001b[38;5;124mtpi τ = \u001b[39m\u001b[38;5;132;01m{\u001b[39;00mtau\u001b[38;5;132;01m}\u001b[39;00m\u001b[38;5;124m'\u001b[39m]) \u001b[38;5;241m<\u001b[39m\u001b[38;5;241m=\u001b[39m \u001b[38;5;241m0\u001b[39m) \u001b[38;5;241m&\u001b[39m ((df[\u001b[38;5;124mf\u001b[39m\u001b[38;5;124m'\u001b[39m\u001b[38;5;124mtpi τ = \u001b[39m\u001b[38;5;132;01m{\u001b[39;00mtau\u001b[38;5;132;01m}\u001b[39;00m\u001b[38;5;124m'\u001b[39m]) \u001b[38;5;241m>\u001b[39m\u001b[38;5;241m=\u001b[39m (delta)) \u001b[38;5;241m&\u001b[39m (df[\u001b[38;5;124m'\u001b[39m\u001b[38;5;124mdij\u001b[39m\u001b[38;5;124m'\u001b[39m] \u001b[38;5;241m<\u001b[39m\u001b[38;5;241m=\u001b[39m h)])\n\u001b[1;32m     29\u001b[0m         \u001b[38;5;66;03m### if delta is positive, then has to be greater than zero less than delta\u001b[39;00m\n\u001b[1;32m     30\u001b[0m         \u001b[38;5;28;01melse\u001b[39;00m: \n\u001b[0;32m---> 31\u001b[0m             K_st_tau[i, j] \u001b[38;5;241m=\u001b[39m (\u001b[38;5;241m1\u001b[39m\u001b[38;5;241m/\u001b[39m(n \u001b[38;5;241m*\u001b[39m lambda_st)) \u001b[38;5;241m*\u001b[39m \u001b[38;5;28mlen\u001b[39m(df[\u001b[43m(\u001b[49m\u001b[43m(\u001b[49m\u001b[43mdf\u001b[49m\u001b[43m[\u001b[49m\u001b[38;5;124;43mf\u001b[39;49m\u001b[38;5;124;43m'\u001b[39;49m\u001b[38;5;124;43mtpi τ = \u001b[39;49m\u001b[38;5;132;43;01m{\u001b[39;49;00m\u001b[43mtau\u001b[49m\u001b[38;5;132;43;01m}\u001b[39;49;00m\u001b[38;5;124;43m'\u001b[39;49m\u001b[43m]\u001b[49m\u001b[43m)\u001b[49m\u001b[43m \u001b[49m\u001b[38;5;241;43m>\u001b[39;49m\u001b[38;5;241;43m=\u001b[39;49m\u001b[43m \u001b[49m\u001b[38;5;241;43m0\u001b[39;49m\u001b[43m)\u001b[49m\u001b[43m \u001b[49m\u001b[38;5;241;43m&\u001b[39;49m\u001b[43m \u001b[49m\u001b[43m(\u001b[49m\u001b[43m(\u001b[49m\u001b[43mdf\u001b[49m\u001b[43m[\u001b[49m\u001b[38;5;124;43mf\u001b[39;49m\u001b[38;5;124;43m'\u001b[39;49m\u001b[38;5;124;43mtpi τ = \u001b[39;49m\u001b[38;5;132;43;01m{\u001b[39;49;00m\u001b[43mtau\u001b[49m\u001b[38;5;132;43;01m}\u001b[39;49;00m\u001b[38;5;124;43m'\u001b[39;49m\u001b[43m]\u001b[49m\u001b[43m)\u001b[49m\u001b[43m \u001b[49m\u001b[38;5;241;43m<\u001b[39;49m\u001b[38;5;241;43m=\u001b[39;49m\u001b[43m \u001b[49m\u001b[43m(\u001b[49m\u001b[43mdelta\u001b[49m\u001b[43m)\u001b[49m\u001b[43m)\u001b[49m \u001b[38;5;241m&\u001b[39m (df[\u001b[38;5;124m'\u001b[39m\u001b[38;5;124mdij\u001b[39m\u001b[38;5;124m'\u001b[39m] \u001b[38;5;241m<\u001b[39m\u001b[38;5;241m=\u001b[39m h)])\n\u001b[1;32m     33\u001b[0m \u001b[38;5;28;01mreturn\u001b[39;00m K_st_tau\n",
      "File \u001b[0;32m~/analysis/miniconda3/envs/cellx/lib/python3.9/site-packages/pandas/core/ops/common.py:69\u001b[0m, in \u001b[0;36m_unpack_zerodim_and_defer.<locals>.new_method\u001b[0;34m(self, other)\u001b[0m\n\u001b[1;32m     65\u001b[0m             \u001b[38;5;28;01mreturn\u001b[39;00m \u001b[38;5;28mNotImplemented\u001b[39m\n\u001b[1;32m     67\u001b[0m other \u001b[38;5;241m=\u001b[39m item_from_zerodim(other)\n\u001b[0;32m---> 69\u001b[0m \u001b[38;5;28;01mreturn\u001b[39;00m \u001b[43mmethod\u001b[49m\u001b[43m(\u001b[49m\u001b[38;5;28;43mself\u001b[39;49m\u001b[43m,\u001b[49m\u001b[43m \u001b[49m\u001b[43mother\u001b[49m\u001b[43m)\u001b[49m\n",
      "File \u001b[0;32m~/analysis/miniconda3/envs/cellx/lib/python3.9/site-packages/pandas/core/arraylike.py:62\u001b[0m, in \u001b[0;36mOpsMixin.__and__\u001b[0;34m(self, other)\u001b[0m\n\u001b[1;32m     60\u001b[0m \u001b[38;5;129m@unpack_zerodim_and_defer\u001b[39m(\u001b[38;5;124m\"\u001b[39m\u001b[38;5;124m__and__\u001b[39m\u001b[38;5;124m\"\u001b[39m)\n\u001b[1;32m     61\u001b[0m \u001b[38;5;28;01mdef\u001b[39;00m \u001b[38;5;21m__and__\u001b[39m(\u001b[38;5;28mself\u001b[39m, other):\n\u001b[0;32m---> 62\u001b[0m     \u001b[38;5;28;01mreturn\u001b[39;00m \u001b[38;5;28;43mself\u001b[39;49m\u001b[38;5;241;43m.\u001b[39;49m\u001b[43m_logical_method\u001b[49m\u001b[43m(\u001b[49m\u001b[43mother\u001b[49m\u001b[43m,\u001b[49m\u001b[43m \u001b[49m\u001b[43moperator\u001b[49m\u001b[38;5;241;43m.\u001b[39;49m\u001b[43mand_\u001b[49m\u001b[43m)\u001b[49m\n",
      "File \u001b[0;32m~/analysis/miniconda3/envs/cellx/lib/python3.9/site-packages/pandas/core/series.py:5513\u001b[0m, in \u001b[0;36mSeries._logical_method\u001b[0;34m(self, other, op)\u001b[0m\n\u001b[1;32m   5510\u001b[0m rvalues \u001b[38;5;241m=\u001b[39m extract_array(other, extract_numpy\u001b[38;5;241m=\u001b[39m\u001b[38;5;28;01mTrue\u001b[39;00m, extract_range\u001b[38;5;241m=\u001b[39m\u001b[38;5;28;01mTrue\u001b[39;00m)\n\u001b[1;32m   5512\u001b[0m res_values \u001b[38;5;241m=\u001b[39m ops\u001b[38;5;241m.\u001b[39mlogical_op(lvalues, rvalues, op)\n\u001b[0;32m-> 5513\u001b[0m \u001b[38;5;28;01mreturn\u001b[39;00m \u001b[38;5;28;43mself\u001b[39;49m\u001b[38;5;241;43m.\u001b[39;49m\u001b[43m_construct_result\u001b[49m\u001b[43m(\u001b[49m\u001b[43mres_values\u001b[49m\u001b[43m,\u001b[49m\u001b[43m \u001b[49m\u001b[43mname\u001b[49m\u001b[38;5;241;43m=\u001b[39;49m\u001b[43mres_name\u001b[49m\u001b[43m)\u001b[49m\n",
      "File \u001b[0;32m~/analysis/miniconda3/envs/cellx/lib/python3.9/site-packages/pandas/core/series.py:2944\u001b[0m, in \u001b[0;36mSeries._construct_result\u001b[0;34m(self, result, name)\u001b[0m\n\u001b[1;32m   2940\u001b[0m     \u001b[38;5;28;01mreturn\u001b[39;00m (res1, res2)\n\u001b[1;32m   2942\u001b[0m \u001b[38;5;66;03m# We do not pass dtype to ensure that the Series constructor\u001b[39;00m\n\u001b[1;32m   2943\u001b[0m \u001b[38;5;66;03m#  does inference in the case where `result` has object-dtype.\u001b[39;00m\n\u001b[0;32m-> 2944\u001b[0m out \u001b[38;5;241m=\u001b[39m \u001b[38;5;28;43mself\u001b[39;49m\u001b[38;5;241;43m.\u001b[39;49m\u001b[43m_constructor\u001b[49m\u001b[43m(\u001b[49m\u001b[43mresult\u001b[49m\u001b[43m,\u001b[49m\u001b[43m \u001b[49m\u001b[43mindex\u001b[49m\u001b[38;5;241;43m=\u001b[39;49m\u001b[38;5;28;43mself\u001b[39;49m\u001b[38;5;241;43m.\u001b[39;49m\u001b[43mindex\u001b[49m\u001b[43m)\u001b[49m\n\u001b[1;32m   2945\u001b[0m out \u001b[38;5;241m=\u001b[39m out\u001b[38;5;241m.\u001b[39m__finalize__(\u001b[38;5;28mself\u001b[39m)\n\u001b[1;32m   2947\u001b[0m \u001b[38;5;66;03m# Set the result's name after __finalize__ is called because __finalize__\u001b[39;00m\n\u001b[1;32m   2948\u001b[0m \u001b[38;5;66;03m#  would set it back to self.name\u001b[39;00m\n",
      "File \u001b[0;32m~/analysis/miniconda3/envs/cellx/lib/python3.9/site-packages/pandas/core/series.py:443\u001b[0m, in \u001b[0;36mSeries.__init__\u001b[0;34m(self, data, index, dtype, name, copy, fastpath)\u001b[0m\n\u001b[1;32m    441\u001b[0m manager \u001b[38;5;241m=\u001b[39m get_option(\u001b[38;5;124m\"\u001b[39m\u001b[38;5;124mmode.data_manager\u001b[39m\u001b[38;5;124m\"\u001b[39m)\n\u001b[1;32m    442\u001b[0m \u001b[38;5;28;01mif\u001b[39;00m manager \u001b[38;5;241m==\u001b[39m \u001b[38;5;124m\"\u001b[39m\u001b[38;5;124mblock\u001b[39m\u001b[38;5;124m\"\u001b[39m:\n\u001b[0;32m--> 443\u001b[0m     data \u001b[38;5;241m=\u001b[39m \u001b[43mSingleBlockManager\u001b[49m\u001b[38;5;241;43m.\u001b[39;49m\u001b[43mfrom_array\u001b[49m\u001b[43m(\u001b[49m\u001b[43mdata\u001b[49m\u001b[43m,\u001b[49m\u001b[43m \u001b[49m\u001b[43mindex\u001b[49m\u001b[43m)\u001b[49m\n\u001b[1;32m    444\u001b[0m \u001b[38;5;28;01melif\u001b[39;00m manager \u001b[38;5;241m==\u001b[39m \u001b[38;5;124m\"\u001b[39m\u001b[38;5;124marray\u001b[39m\u001b[38;5;124m\"\u001b[39m:\n\u001b[1;32m    445\u001b[0m     data \u001b[38;5;241m=\u001b[39m SingleArrayManager\u001b[38;5;241m.\u001b[39mfrom_array(data, index)\n",
      "File \u001b[0;32m~/analysis/miniconda3/envs/cellx/lib/python3.9/site-packages/pandas/core/internals/managers.py:1567\u001b[0m, in \u001b[0;36mSingleBlockManager.from_array\u001b[0;34m(cls, array, index)\u001b[0m\n\u001b[1;32m   1562\u001b[0m \u001b[38;5;129m@classmethod\u001b[39m\n\u001b[1;32m   1563\u001b[0m \u001b[38;5;28;01mdef\u001b[39;00m \u001b[38;5;21mfrom_array\u001b[39m(\u001b[38;5;28mcls\u001b[39m, array: ArrayLike, index: Index) \u001b[38;5;241m-\u001b[39m\u001b[38;5;241m>\u001b[39m SingleBlockManager:\n\u001b[1;32m   1564\u001b[0m     \u001b[38;5;124;03m\"\"\"\u001b[39;00m\n\u001b[1;32m   1565\u001b[0m \u001b[38;5;124;03m    Constructor for if we have an array that is not yet a Block.\u001b[39;00m\n\u001b[1;32m   1566\u001b[0m \u001b[38;5;124;03m    \"\"\"\u001b[39;00m\n\u001b[0;32m-> 1567\u001b[0m     block \u001b[38;5;241m=\u001b[39m \u001b[43mnew_block\u001b[49m\u001b[43m(\u001b[49m\u001b[43marray\u001b[49m\u001b[43m,\u001b[49m\u001b[43m \u001b[49m\u001b[43mplacement\u001b[49m\u001b[38;5;241;43m=\u001b[39;49m\u001b[38;5;28;43mslice\u001b[39;49m\u001b[43m(\u001b[49m\u001b[38;5;241;43m0\u001b[39;49m\u001b[43m,\u001b[49m\u001b[43m \u001b[49m\u001b[38;5;28;43mlen\u001b[39;49m\u001b[43m(\u001b[49m\u001b[43mindex\u001b[49m\u001b[43m)\u001b[49m\u001b[43m)\u001b[49m\u001b[43m,\u001b[49m\u001b[43m \u001b[49m\u001b[43mndim\u001b[49m\u001b[38;5;241;43m=\u001b[39;49m\u001b[38;5;241;43m1\u001b[39;49m\u001b[43m)\u001b[49m\n\u001b[1;32m   1568\u001b[0m     \u001b[38;5;28;01mreturn\u001b[39;00m \u001b[38;5;28mcls\u001b[39m(block, index)\n",
      "File \u001b[0;32m~/analysis/miniconda3/envs/cellx/lib/python3.9/site-packages/pandas/core/internals/blocks.py:1927\u001b[0m, in \u001b[0;36mnew_block\u001b[0;34m(values, placement, ndim, klass)\u001b[0m\n\u001b[1;32m   1924\u001b[0m \u001b[38;5;28;01mif\u001b[39;00m klass \u001b[38;5;129;01mis\u001b[39;00m \u001b[38;5;28;01mNone\u001b[39;00m:\n\u001b[1;32m   1925\u001b[0m     klass \u001b[38;5;241m=\u001b[39m get_block_type(values, values\u001b[38;5;241m.\u001b[39mdtype)\n\u001b[0;32m-> 1927\u001b[0m values \u001b[38;5;241m=\u001b[39m \u001b[43mmaybe_coerce_values\u001b[49m\u001b[43m(\u001b[49m\u001b[43mvalues\u001b[49m\u001b[43m)\u001b[49m\n\u001b[1;32m   1928\u001b[0m \u001b[38;5;28;01mreturn\u001b[39;00m klass(values, ndim\u001b[38;5;241m=\u001b[39mndim, placement\u001b[38;5;241m=\u001b[39mplacement)\n",
      "File \u001b[0;32m~/analysis/miniconda3/envs/cellx/lib/python3.9/site-packages/pandas/core/internals/blocks.py:1865\u001b[0m, in \u001b[0;36mmaybe_coerce_values\u001b[0;34m(values)\u001b[0m\n\u001b[1;32m   1862\u001b[0m \u001b[38;5;28;01mif\u001b[39;00m \u001b[38;5;28misinstance\u001b[39m(values, np\u001b[38;5;241m.\u001b[39mndarray):\n\u001b[1;32m   1863\u001b[0m     values \u001b[38;5;241m=\u001b[39m ensure_wrapped_if_datetimelike(values)\n\u001b[0;32m-> 1865\u001b[0m     \u001b[38;5;28;01mif\u001b[39;00m \u001b[38;5;28missubclass\u001b[39m(\u001b[43mvalues\u001b[49m\u001b[38;5;241;43m.\u001b[39;49m\u001b[43mdtype\u001b[49m\u001b[38;5;241;43m.\u001b[39;49m\u001b[43mtype\u001b[49m, \u001b[38;5;28mstr\u001b[39m):\n\u001b[1;32m   1866\u001b[0m         values \u001b[38;5;241m=\u001b[39m np\u001b[38;5;241m.\u001b[39marray(values, dtype\u001b[38;5;241m=\u001b[39m\u001b[38;5;28mobject\u001b[39m)\n\u001b[1;32m   1868\u001b[0m \u001b[38;5;28;01mif\u001b[39;00m \u001b[38;5;28misinstance\u001b[39m(values, (DatetimeArray, TimedeltaArray)) \u001b[38;5;129;01mand\u001b[39;00m values\u001b[38;5;241m.\u001b[39mfreq \u001b[38;5;129;01mis\u001b[39;00m \u001b[38;5;129;01mnot\u001b[39;00m \u001b[38;5;28;01mNone\u001b[39;00m:\n\u001b[1;32m   1869\u001b[0m     \u001b[38;5;66;03m# freq is only stored in DatetimeIndex/TimedeltaIndex, not in Series/DataFrame\u001b[39;00m\n",
      "\u001b[0;31mKeyboardInterrupt\u001b[0m: "
     ]
    }
   ],
   "source": [
    "K_st_tau = {}\n",
    "for tau in tqdm(range(N), desc = 'Progress through tau'):\n",
    "#     if tau in K_st_tau.keys():\n",
    "#         continue\n",
    "    K_st_tau[tau] = K_st_tau_func(h_, delta_, n, lambda_st, df, tau)"
   ]
  },
  {
   "cell_type": "code",
   "execution_count": null,
   "id": "232e39cb",
   "metadata": {},
   "outputs": [],
   "source": [
    "len(df[((df[f'tpi τ = {tau}']) <= 0) & ((df[f'tpi τ = {tau}']) >= (delta)) & (df['dij'] <= h)])"
   ]
  },
  {
   "cell_type": "markdown",
   "id": "d1cdaa54",
   "metadata": {},
   "source": [
    "Checking to see if any two of the randomly time-indices-switched K-function arrays are identical (they should not be)"
   ]
  },
  {
   "cell_type": "code",
   "execution_count": null,
   "id": "d6b9177f",
   "metadata": {},
   "outputs": [],
   "source": [
    "def arrays_equal(a, b):\n",
    "    if a.shape != b.shape:\n",
    "        return False\n",
    "    for ai, bi in zip(a.flat, b.flat):\n",
    "        if ai != bi:\n",
    "            return False\n",
    "    return True"
   ]
  },
  {
   "cell_type": "code",
   "execution_count": null,
   "id": "d3ff4d41",
   "metadata": {},
   "outputs": [],
   "source": [
    "import itertools\n",
    "for a, b in tqdm(itertools.combinations(K_st_tau, 2), total = 499500):\n",
    "    array1 = K_st_tau[a]\n",
    "    array2 = K_st_tau[b]\n",
    "    if arrays_equal(array1, array2) == True:\n",
    "        print(a, b, 'are equal')"
   ]
  },
  {
   "cell_type": "markdown",
   "id": "9486ef1e",
   "metadata": {},
   "source": [
    "Saving out space-time K-function permutations"
   ]
  },
  {
   "cell_type": "code",
   "execution_count": null,
   "id": "8ad48079",
   "metadata": {},
   "outputs": [],
   "source": [
    "import pickle\n",
    "with open('K_st_tau_1000_N=1.pkl', 'wb') as f:\n",
    "    pickle.dump(K_st_tau, f)"
   ]
  },
  {
   "cell_type": "markdown",
   "id": "a417b1f3",
   "metadata": {},
   "source": [
    "## Random labelling test\n",
    "\n",
    "For the observed sample space-time K-function (K_st), under temporal indistinguishability hypothesis each observed value should be a typical sample from the list of values of the simulated random relabelings (K_st_tau). \n",
    "If we let M<sup>0</sup><sub>+</sub> denote the number of simulated random relabellings where\n",
    "![original image](https://cdn.mathpix.com/snip/images/Wvkoq-491AhCE2m_G6zGw_L_3ED-5hRLSt7cNqDAC5M.original.fullsize.png)\n",
    "\n",
    "then the probability of obtaining a value as large as the observed K-function value under this hypothesis is estimated by the space-time clustering p-value\n",
    "\n",
    "![original image](https://cdn.mathpix.com/snip/images/526PhmFLMC_EuYZD2w1DfvWRy6jzb4JdlYYX_LGj0II.original.fullsize.png)\n",
    "\n",
    "Similarly, if we let M0_minus denote the number of simulated random relabelling with \n",
    "\n",
    "![original image](https://cdn.mathpix.com/snip/images/ggXq7evPggixcgZ_Fi-46YcEWPo77kqt_-dkqGqwgqw.original.fullsize.png)\n",
    "\n",
    "then the estimated probaility of obtaining a value as small as the original observed K-function under this hypothesis is given by the space-time dispersion p-value\n",
    "\n",
    "![original image](https://cdn.mathpix.com/snip/images/FC8MktUTmWsfNpj8lo4j4eewvhiOyZhsaxH5egDg6ME.original.fullsize.png)"
   ]
  },
  {
   "cell_type": "code",
   "execution_count": null,
   "id": "906b87eb",
   "metadata": {
    "scrolled": true
   },
   "outputs": [],
   "source": [
    "N = 1000#len(K_st_tau)\n",
    "P_st_clust = np.zeros(K_st.shape)\n",
    "P_st_disp = np.zeros(K_st.shape)\n",
    "\n",
    "for i, h in enumerate(tqdm(h_, total = len(h_))):\n",
    "    for j, delta in enumerate(delta_):\n",
    "        M0_plus = len([tau for tau in K_st_tau if K_st_tau[tau][i,j] >= K_st[i,j]])\n",
    "        P_st_clust[i,j] = (M0_plus + 1)/(N+1)\n",
    "        M0_minus = len([tau for tau in K_st_tau if K_st_tau[tau][i,j] <= K_st[i,j]])\n",
    "        P_st_disp[i,j] = (M0_minus + 1)/(N+1)\n",
    "    "
   ]
  },
  {
   "cell_type": "code",
   "execution_count": null,
   "id": "162c2b07",
   "metadata": {},
   "outputs": [],
   "source": [
    "pc = plt.pcolormesh(delta_, h_, P_st_clust, cmap = 'Reds', )\n",
    "plt.colorbar(label = 'P-value',)\n",
    "plt.xlabel('Time since apoptosis (hours)')\n",
    "plt.ylabel('Distance (microns)')\n",
    "plt.title('Space-time clustering p-value contour map \\n for N = 1 focal apoptosis')"
   ]
  },
  {
   "cell_type": "code",
   "execution_count": null,
   "id": "5afa6610",
   "metadata": {},
   "outputs": [],
   "source": [
    "pc = plt.pcolormesh(delta_, h_, P_st_disp, cmap = 'Blues_r', )\n",
    "plt.colorbar(label = 'P-value',)\n",
    "plt.xlabel('Time since apoptosis (hours)')\n",
    "plt.ylabel('Distance (microns)')\n",
    "plt.title('Space-time dispersion p-value contour map \\n for N = 1 focal apoptosis')"
   ]
  },
  {
   "cell_type": "markdown",
   "id": "9c972ea7",
   "metadata": {},
   "source": [
    "Cropped dispersion p-value plot showing a more accurate range of values for the furthest distances ie. d = 80-100 microns, across all time."
   ]
  },
  {
   "cell_type": "code",
   "execution_count": null,
   "id": "2e59e363",
   "metadata": {},
   "outputs": [],
   "source": [
    "plt.imshow(P_st_disp[80:100,:])\n",
    "plt.colorbar()"
   ]
  },
  {
   "cell_type": "markdown",
   "id": "34807039",
   "metadata": {},
   "source": [
    "These plots seem to suggest no strong clustering but there is evidence for dispersion beyond the immediate local neighbourhood across all time. The dispersion plot indicates that there might be significantly less instances of division events occuring in neighbourhoods further away than would be detected under the temporal indistinguishability hypothesis. Not going to dwell too long on the conclusion of this analysis as it is only N=1, instead I need to scale up to all central focal events."
   ]
  },
  {
   "cell_type": "markdown",
   "id": "325101c8",
   "metadata": {},
   "source": [
    "# Repeating analysis but over cumulative K-function measure...\n",
    "\n",
    "Will surely need to generate new K-function tau values, ie. randomly swap the time indices of all new events found in cumulative measure. This could take ages. \n",
    "\n",
    "But how do I cumulatively measure a K-function? Assume all central focal events are the same single event? But then I have repeat measures of division events occurring... But the relevant distances to each focal event for each division event will be different, so not strictly a repeat measurement."
   ]
  },
  {
   "cell_type": "code",
   "execution_count": 21,
   "id": "7965b592",
   "metadata": {
    "scrolled": true
   },
   "outputs": [
    {
     "data": {
      "text/plain": [
       "1839"
      ]
     },
     "execution_count": 21,
     "metadata": {},
     "output_type": "execute_result"
    }
   ],
   "source": [
    "file_list = glob.glob('/home/nathan/data/results/radial_analysis_output/follow/raw_lists/1600.1600/scr_apop_wt_div_xyt/1600.1600/*')\n",
    "file_list = [file for file in file_list if 'events' in file]\n",
    "len(file_list)"
   ]
  },
  {
   "cell_type": "code",
   "execution_count": 22,
   "id": "a96a7892",
   "metadata": {},
   "outputs": [
    {
     "data": {
      "application/vnd.jupyter.widget-view+json": {
       "model_id": "03e9e1bebf1f4ab4a4c46702a36461ad",
       "version_major": 2,
       "version_minor": 0
      },
      "text/plain": [
       "  0%|          | 0/1839 [00:00<?, ?it/s]"
      ]
     },
     "metadata": {},
     "output_type": "display_data"
    },
    {
     "name": "stderr",
     "output_type": "stream",
     "text": [
      "/home/nathan/analysis/cell-comp-analysis/radial_analysis/dataio.py:90: FutureWarning: The default value of regex will change from True to False in a future version.\n",
      "  df['Cell ID'] = df['Cell ID'].str.replace('[()]', '')\n",
      "/home/nathan/analysis/cell-comp-analysis/radial_analysis/dataio.py:91: FutureWarning: The default value of regex will change from True to False in a future version.\n",
      "  df['y'] = df['y'].str.replace('[()]', '')\n"
     ]
    },
    {
     "name": "stdout",
     "output_type": "stream",
     "text": [
      "Number of focal cells included in cumulative scan: 1839\n"
     ]
    }
   ],
   "source": [
    "### loading all division localisations regardless of whether or not the scan leaves the FOV etc. (still cropping edge effects and loading all info)\n",
    "df = load_radial_df(file_list, crop_amount = 20, streamline = False)# R = 100, crop_amount = True, streamline = False, strict_filtering = True)"
   ]
  },
  {
   "cell_type": "code",
   "execution_count": 23,
   "id": "5f238b6e",
   "metadata": {},
   "outputs": [],
   "source": [
    "### renaming columns to fit with nomenclature of K-function\n",
    "df = df.rename(columns={'Distance from apoptosis': 'dij', 'Time since apoptosis': 'tij'})"
   ]
  },
  {
   "cell_type": "code",
   "execution_count": 32,
   "id": "913b10f7",
   "metadata": {},
   "outputs": [
    {
     "data": {
      "text/html": [
       "<div>\n",
       "<style scoped>\n",
       "    .dataframe tbody tr th:only-of-type {\n",
       "        vertical-align: middle;\n",
       "    }\n",
       "\n",
       "    .dataframe tbody tr th {\n",
       "        vertical-align: top;\n",
       "    }\n",
       "\n",
       "    .dataframe thead th {\n",
       "        text-align: right;\n",
       "    }\n",
       "</style>\n",
       "<table border=\"1\" class=\"dataframe\">\n",
       "  <thead>\n",
       "    <tr style=\"text-align: right;\">\n",
       "      <th></th>\n",
       "      <th>Cell ID</th>\n",
       "      <th>dij</th>\n",
       "      <th>Frame</th>\n",
       "      <th>x</th>\n",
       "      <th>y</th>\n",
       "      <th>tij</th>\n",
       "      <th>Focal ID</th>\n",
       "    </tr>\n",
       "  </thead>\n",
       "  <tbody>\n",
       "    <tr>\n",
       "      <th>2</th>\n",
       "      <td>966</td>\n",
       "      <td>30.333333</td>\n",
       "      <td>1059</td>\n",
       "      <td>552</td>\n",
       "      <td>816</td>\n",
       "      <td>4.266667</td>\n",
       "      <td>GV0819_Pos3_Scr_-1735</td>\n",
       "    </tr>\n",
       "    <tr>\n",
       "      <th>9</th>\n",
       "      <td>1238</td>\n",
       "      <td>77.333333</td>\n",
       "      <td>960</td>\n",
       "      <td>684</td>\n",
       "      <td>708</td>\n",
       "      <td>-2.333333</td>\n",
       "      <td>GV0819_Pos3_Scr_-1735</td>\n",
       "    </tr>\n",
       "    <tr>\n",
       "      <th>16</th>\n",
       "      <td>1360</td>\n",
       "      <td>66.000000</td>\n",
       "      <td>974</td>\n",
       "      <td>461</td>\n",
       "      <td>1082</td>\n",
       "      <td>-1.400000</td>\n",
       "      <td>GV0819_Pos3_Scr_-1735</td>\n",
       "    </tr>\n",
       "    <tr>\n",
       "      <th>17</th>\n",
       "      <td>1361</td>\n",
       "      <td>70.333333</td>\n",
       "      <td>1060</td>\n",
       "      <td>506</td>\n",
       "      <td>1114</td>\n",
       "      <td>4.333333</td>\n",
       "      <td>GV0819_Pos3_Scr_-1735</td>\n",
       "    </tr>\n",
       "    <tr>\n",
       "      <th>53</th>\n",
       "      <td>1659</td>\n",
       "      <td>78.333333</td>\n",
       "      <td>969</td>\n",
       "      <td>429</td>\n",
       "      <td>683</td>\n",
       "      <td>-1.733333</td>\n",
       "      <td>GV0819_Pos3_Scr_-1735</td>\n",
       "    </tr>\n",
       "    <tr>\n",
       "      <th>...</th>\n",
       "      <td>...</td>\n",
       "      <td>...</td>\n",
       "      <td>...</td>\n",
       "      <td>...</td>\n",
       "      <td>...</td>\n",
       "      <td>...</td>\n",
       "      <td>...</td>\n",
       "    </tr>\n",
       "    <tr>\n",
       "      <th>397990</th>\n",
       "      <td>253</td>\n",
       "      <td>27.333333</td>\n",
       "      <td>633</td>\n",
       "      <td>405</td>\n",
       "      <td>517</td>\n",
       "      <td>4.000000</td>\n",
       "      <td>GV0796_Pos6_Scr_-60</td>\n",
       "    </tr>\n",
       "    <tr>\n",
       "      <th>398466</th>\n",
       "      <td>1270</td>\n",
       "      <td>99.666667</td>\n",
       "      <td>1169</td>\n",
       "      <td>54</td>\n",
       "      <td>776</td>\n",
       "      <td>1.600000</td>\n",
       "      <td>GV0819_Pos2_Scr_-490</td>\n",
       "    </tr>\n",
       "    <tr>\n",
       "      <th>398478</th>\n",
       "      <td>1355</td>\n",
       "      <td>65.333333</td>\n",
       "      <td>1109</td>\n",
       "      <td>452</td>\n",
       "      <td>854</td>\n",
       "      <td>-2.400000</td>\n",
       "      <td>GV0819_Pos2_Scr_-490</td>\n",
       "    </tr>\n",
       "    <tr>\n",
       "      <th>398496</th>\n",
       "      <td>1489</td>\n",
       "      <td>74.333333</td>\n",
       "      <td>1119</td>\n",
       "      <td>75</td>\n",
       "      <td>907</td>\n",
       "      <td>-1.733333</td>\n",
       "      <td>GV0819_Pos2_Scr_-490</td>\n",
       "    </tr>\n",
       "    <tr>\n",
       "      <th>398499</th>\n",
       "      <td>1525</td>\n",
       "      <td>59.666667</td>\n",
       "      <td>1120</td>\n",
       "      <td>124</td>\n",
       "      <td>900</td>\n",
       "      <td>-1.666667</td>\n",
       "      <td>GV0819_Pos2_Scr_-490</td>\n",
       "    </tr>\n",
       "  </tbody>\n",
       "</table>\n",
       "<p>10588 rows × 7 columns</p>\n",
       "</div>"
      ],
      "text/plain": [
       "        Cell ID        dij  Frame    x     y       tij               Focal ID\n",
       "2           966  30.333333   1059  552   816  4.266667  GV0819_Pos3_Scr_-1735\n",
       "9          1238  77.333333    960  684   708 -2.333333  GV0819_Pos3_Scr_-1735\n",
       "16         1360  66.000000    974  461  1082 -1.400000  GV0819_Pos3_Scr_-1735\n",
       "17         1361  70.333333   1060  506  1114  4.333333  GV0819_Pos3_Scr_-1735\n",
       "53         1659  78.333333    969  429   683 -1.733333  GV0819_Pos3_Scr_-1735\n",
       "...         ...        ...    ...  ...   ...       ...                    ...\n",
       "397990      253  27.333333    633  405   517  4.000000    GV0796_Pos6_Scr_-60\n",
       "398466     1270  99.666667   1169   54   776  1.600000   GV0819_Pos2_Scr_-490\n",
       "398478     1355  65.333333   1109  452   854 -2.400000   GV0819_Pos2_Scr_-490\n",
       "398496     1489  74.333333   1119   75   907 -1.733333   GV0819_Pos2_Scr_-490\n",
       "398499     1525  59.666667   1120  124   900 -1.666667   GV0819_Pos2_Scr_-490\n",
       "\n",
       "[10588 rows x 7 columns]"
      ]
     },
     "execution_count": 32,
     "metadata": {},
     "output_type": "execute_result"
    }
   ],
   "source": [
    "df"
   ]
  },
  {
   "cell_type": "code",
   "execution_count": 25,
   "id": "a42abe2a",
   "metadata": {},
   "outputs": [
    {
     "name": "stdout",
     "output_type": "stream",
     "text": [
      "Total number of division events, n =  398511\n",
      "Total number of focal apoptotic events, n =  1838\n"
     ]
    }
   ],
   "source": [
    "n1 = len(df['Cell ID'])#len(set(df['Cell ID']))\n",
    "print('Total number of division events, n = ', n1)\n",
    "n2 = len(set(df['Focal ID'])) #len(file_list)\n",
    "print('Total number of focal apoptotic events, n = ', n2)"
   ]
  },
  {
   "cell_type": "code",
   "execution_count": 26,
   "id": "8c425c8c",
   "metadata": {},
   "outputs": [
    {
     "name": "stdout",
     "output_type": "stream",
     "text": [
      "Default time interval, T =  106.6\n"
     ]
    }
   ],
   "source": [
    "T = max(df['tij']) - min(df['tij'])\n",
    "print('Default time interval, T = ', T)"
   ]
  },
  {
   "cell_type": "code",
   "execution_count": 27,
   "id": "2bd3660d",
   "metadata": {},
   "outputs": [
    {
     "name": "stdout",
     "output_type": "stream",
     "text": [
      "Total area (FOV) in micrometres, a(R) = 201067 microns squared\n"
     ]
    }
   ],
   "source": [
    "x_range = max(df['x']) - min(df['x'])\n",
    "y_range = max(df['y']) - min(df['y'])\n",
    "### convert from pixels to micrometres (/3)\n",
    "a = (x_range/3)*(y_range/3)\n",
    "print('Total area (FOV) in micrometres, a(R) =', round(a), 'microns squared')"
   ]
  },
  {
   "cell_type": "code",
   "execution_count": 28,
   "id": "8d7cd11a",
   "metadata": {},
   "outputs": [
    {
     "name": "stdout",
     "output_type": "stream",
     "text": [
      "Space-time intensity parameter, lambda_st =  0.01859272435690078\n",
      "Space-time intensity parameter for division events, lambda_1 =  0.01859272435690078\n",
      "Space-time intensity parameter for apoptotic events, lambda_2 =  8.575278315525453e-05\n"
     ]
    }
   ],
   "source": [
    "n = n1\n",
    "lambda_st = n/(a*T)\n",
    "print('Space-time intensity parameter, lambda_st = ', lambda_st)\n",
    "lambda_1 = n1/(a*T)\n",
    "print('Space-time intensity parameter for division events, lambda_1 = ', lambda_1)\n",
    "lambda_2 = n2/(a*T)\n",
    "print('Space-time intensity parameter for apoptotic events, lambda_2 = ', lambda_2)"
   ]
  },
  {
   "cell_type": "code",
   "execution_count": 29,
   "id": "df25c560",
   "metadata": {},
   "outputs": [],
   "source": [
    "delta_ = np.linspace(-5,5, 100)\n",
    "h_ = np.linspace(0,100, 100)"
   ]
  },
  {
   "cell_type": "code",
   "execution_count": 30,
   "id": "8b79a39f",
   "metadata": {},
   "outputs": [
    {
     "data": {
      "text/plain": [
       "398511"
      ]
     },
     "execution_count": 30,
     "metadata": {},
     "output_type": "execute_result"
    }
   ],
   "source": [
    "n"
   ]
  },
  {
   "cell_type": "code",
   "execution_count": 31,
   "id": "f4122a2b",
   "metadata": {},
   "outputs": [
    {
     "data": {
      "application/vnd.jupyter.widget-view+json": {
       "model_id": "087377aa88a3499d9437d62b9e58da06",
       "version_major": 2,
       "version_minor": 0
      },
      "text/plain": [
       "Iterating over space-time:   0%|          | 0/100 [00:00<?, ?it/s]"
      ]
     },
     "metadata": {},
     "output_type": "display_data"
    }
   ],
   "source": [
    "K_st = K_st_func(h_, delta_, n, lambda_st, df)"
   ]
  },
  {
   "cell_type": "code",
   "execution_count": 15,
   "id": "0561020f",
   "metadata": {},
   "outputs": [
    {
     "data": {
      "application/vnd.jupyter.widget-view+json": {
       "model_id": "ffab003ba91a4c97af39b376e4198745",
       "version_major": 2,
       "version_minor": 0
      },
      "text/plain": [
       "Iterating over space-time:   0%|          | 0/100 [00:00<?, ?it/s]"
      ]
     },
     "metadata": {},
     "output_type": "display_data"
    }
   ],
   "source": [
    "K_st = K_st_func(h_, delta_, n, lambda_st, df)"
   ]
  },
  {
   "cell_type": "code",
   "execution_count": 16,
   "id": "a431e14f",
   "metadata": {},
   "outputs": [
    {
     "data": {
      "text/plain": [
       "Text(0.5, 1.0, 'Space-time K-function \\n for N = 1838 focal apoptosis')"
      ]
     },
     "execution_count": 16,
     "metadata": {},
     "output_type": "execute_result"
    },
    {
     "data": {
      "image/png": "[encoded data removed]",
      "text/plain": [
       "<Figure size 432x288 with 2 Axes>"
      ]
     },
     "metadata": {
      "needs_background": "light"
     },
     "output_type": "display_data"
    }
   ],
   "source": [
    "pc = plt.pcolormesh(delta_, h_, K_st, )\n",
    "plt.colorbar(label = 'Expected number of additional events',)\n",
    "plt.xlabel('Time since apoptosis (hours)')\n",
    "plt.ylabel('Distance from apoptosis (microns)')\n",
    "plt.title(f'Space-time K-function \\n for N = {n2} focal apoptosis')"
   ]
  },
  {
   "cell_type": "markdown",
   "id": "d6a0db7c",
   "metadata": {},
   "source": [
    "Why is this plot symmetrical? Is it symmetrical? It only appears symmetrical around the zero values"
   ]
  },
  {
   "cell_type": "code",
   "execution_count": 34,
   "id": "71838076",
   "metadata": {},
   "outputs": [
    {
     "data": {
      "text/plain": [
       "Text(0.5, 1.0, 'Checking temporal symmetry of space-time K-function plot')"
      ]
     },
     "execution_count": 34,
     "metadata": {},
     "output_type": "execute_result"
    },
    {
     "data": {
      "image/png": "[encoded data removed]",
      "text/plain": [
       "<Figure size 432x288 with 2 Axes>"
      ]
     },
     "metadata": {
      "needs_background": "light"
     },
     "output_type": "display_data"
    }
   ],
   "source": [
    "pc = plt.pcolormesh(delta_, h_, (np.fliplr(K_st) == K_st), )\n",
    "plt.colorbar(label = 'Symmetrical values around apoptosis point',)\n",
    "plt.xlabel('Time since apoptosis (hours)')\n",
    "plt.ylabel('Distance from apoptosis (microns)')\n",
    "plt.title(f'Checking temporal symmetry of space-time K-function plot')"
   ]
  },
  {
   "cell_type": "markdown",
   "id": "946b32ba",
   "metadata": {},
   "source": [
    "The plot is only symmetrical around the zero values and looks this was as it is a cumulative measure of expected values around the origin of t = 0."
   ]
  },
  {
   "cell_type": "markdown",
   "id": "85b2d833",
   "metadata": {},
   "source": [
    "### Cumulative temporal indistinguishability test\n",
    "\n",
    "Random permutations of different time points to see if the K-function patterns still hold."
   ]
  },
  {
   "cell_type": "code",
   "execution_count": 35,
   "id": "ad7756ab",
   "metadata": {},
   "outputs": [
    {
     "data": {
      "text/html": [
       "<div>\n",
       "<style scoped>\n",
       "    .dataframe tbody tr th:only-of-type {\n",
       "        vertical-align: middle;\n",
       "    }\n",
       "\n",
       "    .dataframe tbody tr th {\n",
       "        vertical-align: top;\n",
       "    }\n",
       "\n",
       "    .dataframe thead th {\n",
       "        text-align: right;\n",
       "    }\n",
       "</style>\n",
       "<table border=\"1\" class=\"dataframe\">\n",
       "  <thead>\n",
       "    <tr style=\"text-align: right;\">\n",
       "      <th></th>\n",
       "      <th>Cell ID</th>\n",
       "      <th>dij</th>\n",
       "      <th>Frame</th>\n",
       "      <th>x</th>\n",
       "      <th>y</th>\n",
       "      <th>tij</th>\n",
       "      <th>Focal ID</th>\n",
       "    </tr>\n",
       "  </thead>\n",
       "  <tbody>\n",
       "    <tr>\n",
       "      <th>2</th>\n",
       "      <td>966</td>\n",
       "      <td>30.333333</td>\n",
       "      <td>1059</td>\n",
       "      <td>552</td>\n",
       "      <td>816</td>\n",
       "      <td>4.266667</td>\n",
       "      <td>GV0819_Pos3_Scr_-1735</td>\n",
       "    </tr>\n",
       "    <tr>\n",
       "      <th>9</th>\n",
       "      <td>1238</td>\n",
       "      <td>77.333333</td>\n",
       "      <td>960</td>\n",
       "      <td>684</td>\n",
       "      <td>708</td>\n",
       "      <td>-2.333333</td>\n",
       "      <td>GV0819_Pos3_Scr_-1735</td>\n",
       "    </tr>\n",
       "    <tr>\n",
       "      <th>16</th>\n",
       "      <td>1360</td>\n",
       "      <td>66.000000</td>\n",
       "      <td>974</td>\n",
       "      <td>461</td>\n",
       "      <td>1082</td>\n",
       "      <td>-1.400000</td>\n",
       "      <td>GV0819_Pos3_Scr_-1735</td>\n",
       "    </tr>\n",
       "    <tr>\n",
       "      <th>17</th>\n",
       "      <td>1361</td>\n",
       "      <td>70.333333</td>\n",
       "      <td>1060</td>\n",
       "      <td>506</td>\n",
       "      <td>1114</td>\n",
       "      <td>4.333333</td>\n",
       "      <td>GV0819_Pos3_Scr_-1735</td>\n",
       "    </tr>\n",
       "    <tr>\n",
       "      <th>53</th>\n",
       "      <td>1659</td>\n",
       "      <td>78.333333</td>\n",
       "      <td>969</td>\n",
       "      <td>429</td>\n",
       "      <td>683</td>\n",
       "      <td>-1.733333</td>\n",
       "      <td>GV0819_Pos3_Scr_-1735</td>\n",
       "    </tr>\n",
       "    <tr>\n",
       "      <th>...</th>\n",
       "      <td>...</td>\n",
       "      <td>...</td>\n",
       "      <td>...</td>\n",
       "      <td>...</td>\n",
       "      <td>...</td>\n",
       "      <td>...</td>\n",
       "      <td>...</td>\n",
       "    </tr>\n",
       "    <tr>\n",
       "      <th>397990</th>\n",
       "      <td>253</td>\n",
       "      <td>27.333333</td>\n",
       "      <td>633</td>\n",
       "      <td>405</td>\n",
       "      <td>517</td>\n",
       "      <td>4.000000</td>\n",
       "      <td>GV0796_Pos6_Scr_-60</td>\n",
       "    </tr>\n",
       "    <tr>\n",
       "      <th>398466</th>\n",
       "      <td>1270</td>\n",
       "      <td>99.666667</td>\n",
       "      <td>1169</td>\n",
       "      <td>54</td>\n",
       "      <td>776</td>\n",
       "      <td>1.600000</td>\n",
       "      <td>GV0819_Pos2_Scr_-490</td>\n",
       "    </tr>\n",
       "    <tr>\n",
       "      <th>398478</th>\n",
       "      <td>1355</td>\n",
       "      <td>65.333333</td>\n",
       "      <td>1109</td>\n",
       "      <td>452</td>\n",
       "      <td>854</td>\n",
       "      <td>-2.400000</td>\n",
       "      <td>GV0819_Pos2_Scr_-490</td>\n",
       "    </tr>\n",
       "    <tr>\n",
       "      <th>398496</th>\n",
       "      <td>1489</td>\n",
       "      <td>74.333333</td>\n",
       "      <td>1119</td>\n",
       "      <td>75</td>\n",
       "      <td>907</td>\n",
       "      <td>-1.733333</td>\n",
       "      <td>GV0819_Pos2_Scr_-490</td>\n",
       "    </tr>\n",
       "    <tr>\n",
       "      <th>398499</th>\n",
       "      <td>1525</td>\n",
       "      <td>59.666667</td>\n",
       "      <td>1120</td>\n",
       "      <td>124</td>\n",
       "      <td>900</td>\n",
       "      <td>-1.666667</td>\n",
       "      <td>GV0819_Pos2_Scr_-490</td>\n",
       "    </tr>\n",
       "  </tbody>\n",
       "</table>\n",
       "<p>10588 rows × 7 columns</p>\n",
       "</div>"
      ],
      "text/plain": [
       "        Cell ID        dij  Frame    x     y       tij               Focal ID\n",
       "2           966  30.333333   1059  552   816  4.266667  GV0819_Pos3_Scr_-1735\n",
       "9          1238  77.333333    960  684   708 -2.333333  GV0819_Pos3_Scr_-1735\n",
       "16         1360  66.000000    974  461  1082 -1.400000  GV0819_Pos3_Scr_-1735\n",
       "17         1361  70.333333   1060  506  1114  4.333333  GV0819_Pos3_Scr_-1735\n",
       "53         1659  78.333333    969  429   683 -1.733333  GV0819_Pos3_Scr_-1735\n",
       "...         ...        ...    ...  ...   ...       ...                    ...\n",
       "397990      253  27.333333    633  405   517  4.000000    GV0796_Pos6_Scr_-60\n",
       "398466     1270  99.666667   1169   54   776  1.600000   GV0819_Pos2_Scr_-490\n",
       "398478     1355  65.333333   1109  452   854 -2.400000   GV0819_Pos2_Scr_-490\n",
       "398496     1489  74.333333   1119   75   907 -1.733333   GV0819_Pos2_Scr_-490\n",
       "398499     1525  59.666667   1120  124   900 -1.666667   GV0819_Pos2_Scr_-490\n",
       "\n",
       "[10588 rows x 7 columns]"
      ]
     },
     "execution_count": 35,
     "metadata": {},
     "output_type": "execute_result"
    }
   ],
   "source": [
    "df"
   ]
  },
  {
   "cell_type": "code",
   "execution_count": 70,
   "id": "f74dc954",
   "metadata": {},
   "outputs": [],
   "source": [
    "df = df.reset_index()"
   ]
  },
  {
   "cell_type": "code",
   "execution_count": 71,
   "id": "63d8e7e8",
   "metadata": {},
   "outputs": [
    {
     "data": {
      "text/html": [
       "<div>\n",
       "<style scoped>\n",
       "    .dataframe tbody tr th:only-of-type {\n",
       "        vertical-align: middle;\n",
       "    }\n",
       "\n",
       "    .dataframe tbody tr th {\n",
       "        vertical-align: top;\n",
       "    }\n",
       "\n",
       "    .dataframe thead th {\n",
       "        text-align: right;\n",
       "    }\n",
       "</style>\n",
       "<table border=\"1\" class=\"dataframe\">\n",
       "  <thead>\n",
       "    <tr style=\"text-align: right;\">\n",
       "      <th></th>\n",
       "      <th>index</th>\n",
       "      <th>Cell ID</th>\n",
       "      <th>dij</th>\n",
       "      <th>Frame</th>\n",
       "      <th>x</th>\n",
       "      <th>y</th>\n",
       "      <th>tij</th>\n",
       "      <th>Focal ID</th>\n",
       "      <th>tpi τ = 0</th>\n",
       "      <th>tpi τ = 1</th>\n",
       "      <th>...</th>\n",
       "      <th>tpi τ = 990</th>\n",
       "      <th>tpi τ = 991</th>\n",
       "      <th>tpi τ = 992</th>\n",
       "      <th>tpi τ = 993</th>\n",
       "      <th>tpi τ = 994</th>\n",
       "      <th>tpi τ = 995</th>\n",
       "      <th>tpi τ = 996</th>\n",
       "      <th>tpi τ = 997</th>\n",
       "      <th>tpi τ = 998</th>\n",
       "      <th>tpi τ = 999</th>\n",
       "    </tr>\n",
       "  </thead>\n",
       "  <tbody>\n",
       "    <tr>\n",
       "      <th>0</th>\n",
       "      <td>2</td>\n",
       "      <td>966</td>\n",
       "      <td>30.333333</td>\n",
       "      <td>1059</td>\n",
       "      <td>552</td>\n",
       "      <td>816</td>\n",
       "      <td>4.266667</td>\n",
       "      <td>GV0819_Pos3_Scr_-1735</td>\n",
       "      <td>4.266667</td>\n",
       "      <td>4.266667</td>\n",
       "      <td>...</td>\n",
       "      <td>4.266667</td>\n",
       "      <td>4.266667</td>\n",
       "      <td>4.266667</td>\n",
       "      <td>4.266667</td>\n",
       "      <td>4.266667</td>\n",
       "      <td>4.266667</td>\n",
       "      <td>4.266667</td>\n",
       "      <td>4.266667</td>\n",
       "      <td>4.266667</td>\n",
       "      <td>4.266667</td>\n",
       "    </tr>\n",
       "    <tr>\n",
       "      <th>1</th>\n",
       "      <td>9</td>\n",
       "      <td>1238</td>\n",
       "      <td>77.333333</td>\n",
       "      <td>960</td>\n",
       "      <td>684</td>\n",
       "      <td>708</td>\n",
       "      <td>-2.333333</td>\n",
       "      <td>GV0819_Pos3_Scr_-1735</td>\n",
       "      <td>-2.333333</td>\n",
       "      <td>-2.333333</td>\n",
       "      <td>...</td>\n",
       "      <td>-2.333333</td>\n",
       "      <td>-2.333333</td>\n",
       "      <td>-2.333333</td>\n",
       "      <td>-2.333333</td>\n",
       "      <td>-2.333333</td>\n",
       "      <td>-2.333333</td>\n",
       "      <td>-2.333333</td>\n",
       "      <td>-2.333333</td>\n",
       "      <td>-2.333333</td>\n",
       "      <td>-2.333333</td>\n",
       "    </tr>\n",
       "    <tr>\n",
       "      <th>2</th>\n",
       "      <td>16</td>\n",
       "      <td>1360</td>\n",
       "      <td>66.000000</td>\n",
       "      <td>974</td>\n",
       "      <td>461</td>\n",
       "      <td>1082</td>\n",
       "      <td>-1.400000</td>\n",
       "      <td>GV0819_Pos3_Scr_-1735</td>\n",
       "      <td>-1.400000</td>\n",
       "      <td>-1.400000</td>\n",
       "      <td>...</td>\n",
       "      <td>-1.400000</td>\n",
       "      <td>-1.400000</td>\n",
       "      <td>-1.400000</td>\n",
       "      <td>-1.400000</td>\n",
       "      <td>-1.400000</td>\n",
       "      <td>-1.400000</td>\n",
       "      <td>-1.400000</td>\n",
       "      <td>-1.400000</td>\n",
       "      <td>-1.400000</td>\n",
       "      <td>-1.400000</td>\n",
       "    </tr>\n",
       "    <tr>\n",
       "      <th>3</th>\n",
       "      <td>17</td>\n",
       "      <td>1361</td>\n",
       "      <td>70.333333</td>\n",
       "      <td>1060</td>\n",
       "      <td>506</td>\n",
       "      <td>1114</td>\n",
       "      <td>4.333333</td>\n",
       "      <td>GV0819_Pos3_Scr_-1735</td>\n",
       "      <td>4.333333</td>\n",
       "      <td>4.333333</td>\n",
       "      <td>...</td>\n",
       "      <td>4.333333</td>\n",
       "      <td>4.333333</td>\n",
       "      <td>4.333333</td>\n",
       "      <td>4.333333</td>\n",
       "      <td>4.333333</td>\n",
       "      <td>4.333333</td>\n",
       "      <td>4.333333</td>\n",
       "      <td>4.333333</td>\n",
       "      <td>4.333333</td>\n",
       "      <td>4.333333</td>\n",
       "    </tr>\n",
       "    <tr>\n",
       "      <th>4</th>\n",
       "      <td>53</td>\n",
       "      <td>1659</td>\n",
       "      <td>78.333333</td>\n",
       "      <td>969</td>\n",
       "      <td>429</td>\n",
       "      <td>683</td>\n",
       "      <td>-1.733333</td>\n",
       "      <td>GV0819_Pos3_Scr_-1735</td>\n",
       "      <td>-1.733333</td>\n",
       "      <td>-1.733333</td>\n",
       "      <td>...</td>\n",
       "      <td>-1.733333</td>\n",
       "      <td>-1.733333</td>\n",
       "      <td>-1.733333</td>\n",
       "      <td>-1.733333</td>\n",
       "      <td>-1.733333</td>\n",
       "      <td>-1.733333</td>\n",
       "      <td>-1.733333</td>\n",
       "      <td>-1.733333</td>\n",
       "      <td>-1.733333</td>\n",
       "      <td>-1.733333</td>\n",
       "    </tr>\n",
       "    <tr>\n",
       "      <th>...</th>\n",
       "      <td>...</td>\n",
       "      <td>...</td>\n",
       "      <td>...</td>\n",
       "      <td>...</td>\n",
       "      <td>...</td>\n",
       "      <td>...</td>\n",
       "      <td>...</td>\n",
       "      <td>...</td>\n",
       "      <td>...</td>\n",
       "      <td>...</td>\n",
       "      <td>...</td>\n",
       "      <td>...</td>\n",
       "      <td>...</td>\n",
       "      <td>...</td>\n",
       "      <td>...</td>\n",
       "      <td>...</td>\n",
       "      <td>...</td>\n",
       "      <td>...</td>\n",
       "      <td>...</td>\n",
       "      <td>...</td>\n",
       "      <td>...</td>\n",
       "    </tr>\n",
       "    <tr>\n",
       "      <th>10583</th>\n",
       "      <td>397990</td>\n",
       "      <td>253</td>\n",
       "      <td>27.333333</td>\n",
       "      <td>633</td>\n",
       "      <td>405</td>\n",
       "      <td>517</td>\n",
       "      <td>4.000000</td>\n",
       "      <td>GV0796_Pos6_Scr_-60</td>\n",
       "      <td>4.000000</td>\n",
       "      <td>4.000000</td>\n",
       "      <td>...</td>\n",
       "      <td>4.000000</td>\n",
       "      <td>4.000000</td>\n",
       "      <td>4.000000</td>\n",
       "      <td>4.000000</td>\n",
       "      <td>4.000000</td>\n",
       "      <td>4.000000</td>\n",
       "      <td>4.000000</td>\n",
       "      <td>4.000000</td>\n",
       "      <td>4.000000</td>\n",
       "      <td>4.000000</td>\n",
       "    </tr>\n",
       "    <tr>\n",
       "      <th>10584</th>\n",
       "      <td>398466</td>\n",
       "      <td>1270</td>\n",
       "      <td>99.666667</td>\n",
       "      <td>1169</td>\n",
       "      <td>54</td>\n",
       "      <td>776</td>\n",
       "      <td>1.600000</td>\n",
       "      <td>GV0819_Pos2_Scr_-490</td>\n",
       "      <td>1.600000</td>\n",
       "      <td>1.600000</td>\n",
       "      <td>...</td>\n",
       "      <td>1.600000</td>\n",
       "      <td>1.600000</td>\n",
       "      <td>1.600000</td>\n",
       "      <td>1.600000</td>\n",
       "      <td>1.600000</td>\n",
       "      <td>1.600000</td>\n",
       "      <td>1.600000</td>\n",
       "      <td>1.600000</td>\n",
       "      <td>1.600000</td>\n",
       "      <td>1.600000</td>\n",
       "    </tr>\n",
       "    <tr>\n",
       "      <th>10585</th>\n",
       "      <td>398478</td>\n",
       "      <td>1355</td>\n",
       "      <td>65.333333</td>\n",
       "      <td>1109</td>\n",
       "      <td>452</td>\n",
       "      <td>854</td>\n",
       "      <td>-2.400000</td>\n",
       "      <td>GV0819_Pos2_Scr_-490</td>\n",
       "      <td>-2.400000</td>\n",
       "      <td>-2.400000</td>\n",
       "      <td>...</td>\n",
       "      <td>-2.400000</td>\n",
       "      <td>-2.400000</td>\n",
       "      <td>-2.400000</td>\n",
       "      <td>-2.400000</td>\n",
       "      <td>-2.400000</td>\n",
       "      <td>-2.400000</td>\n",
       "      <td>-2.400000</td>\n",
       "      <td>-2.400000</td>\n",
       "      <td>-2.400000</td>\n",
       "      <td>-2.400000</td>\n",
       "    </tr>\n",
       "    <tr>\n",
       "      <th>10586</th>\n",
       "      <td>398496</td>\n",
       "      <td>1489</td>\n",
       "      <td>74.333333</td>\n",
       "      <td>1119</td>\n",
       "      <td>75</td>\n",
       "      <td>907</td>\n",
       "      <td>-1.733333</td>\n",
       "      <td>GV0819_Pos2_Scr_-490</td>\n",
       "      <td>-1.733333</td>\n",
       "      <td>-1.733333</td>\n",
       "      <td>...</td>\n",
       "      <td>-1.733333</td>\n",
       "      <td>-1.733333</td>\n",
       "      <td>-1.733333</td>\n",
       "      <td>-1.733333</td>\n",
       "      <td>-1.733333</td>\n",
       "      <td>-1.733333</td>\n",
       "      <td>-1.733333</td>\n",
       "      <td>-1.733333</td>\n",
       "      <td>-1.733333</td>\n",
       "      <td>-1.733333</td>\n",
       "    </tr>\n",
       "    <tr>\n",
       "      <th>10587</th>\n",
       "      <td>398499</td>\n",
       "      <td>1525</td>\n",
       "      <td>59.666667</td>\n",
       "      <td>1120</td>\n",
       "      <td>124</td>\n",
       "      <td>900</td>\n",
       "      <td>-1.666667</td>\n",
       "      <td>GV0819_Pos2_Scr_-490</td>\n",
       "      <td>-1.666667</td>\n",
       "      <td>-1.666667</td>\n",
       "      <td>...</td>\n",
       "      <td>-1.666667</td>\n",
       "      <td>-1.666667</td>\n",
       "      <td>-1.666667</td>\n",
       "      <td>-1.666667</td>\n",
       "      <td>-1.666667</td>\n",
       "      <td>-1.666667</td>\n",
       "      <td>-1.666667</td>\n",
       "      <td>-1.666667</td>\n",
       "      <td>-1.666667</td>\n",
       "      <td>-1.666667</td>\n",
       "    </tr>\n",
       "  </tbody>\n",
       "</table>\n",
       "<p>10588 rows × 1008 columns</p>\n",
       "</div>"
      ],
      "text/plain": [
       "        index  Cell ID        dij  Frame    x     y       tij  \\\n",
       "0           2      966  30.333333   1059  552   816  4.266667   \n",
       "1           9     1238  77.333333    960  684   708 -2.333333   \n",
       "2          16     1360  66.000000    974  461  1082 -1.400000   \n",
       "3          17     1361  70.333333   1060  506  1114  4.333333   \n",
       "4          53     1659  78.333333    969  429   683 -1.733333   \n",
       "...       ...      ...        ...    ...  ...   ...       ...   \n",
       "10583  397990      253  27.333333    633  405   517  4.000000   \n",
       "10584  398466     1270  99.666667   1169   54   776  1.600000   \n",
       "10585  398478     1355  65.333333   1109  452   854 -2.400000   \n",
       "10586  398496     1489  74.333333   1119   75   907 -1.733333   \n",
       "10587  398499     1525  59.666667   1120  124   900 -1.666667   \n",
       "\n",
       "                    Focal ID  tpi τ = 0  tpi τ = 1  ...  tpi τ = 990  \\\n",
       "0      GV0819_Pos3_Scr_-1735   4.266667   4.266667  ...     4.266667   \n",
       "1      GV0819_Pos3_Scr_-1735  -2.333333  -2.333333  ...    -2.333333   \n",
       "2      GV0819_Pos3_Scr_-1735  -1.400000  -1.400000  ...    -1.400000   \n",
       "3      GV0819_Pos3_Scr_-1735   4.333333   4.333333  ...     4.333333   \n",
       "4      GV0819_Pos3_Scr_-1735  -1.733333  -1.733333  ...    -1.733333   \n",
       "...                      ...        ...        ...  ...          ...   \n",
       "10583    GV0796_Pos6_Scr_-60   4.000000   4.000000  ...     4.000000   \n",
       "10584   GV0819_Pos2_Scr_-490   1.600000   1.600000  ...     1.600000   \n",
       "10585   GV0819_Pos2_Scr_-490  -2.400000  -2.400000  ...    -2.400000   \n",
       "10586   GV0819_Pos2_Scr_-490  -1.733333  -1.733333  ...    -1.733333   \n",
       "10587   GV0819_Pos2_Scr_-490  -1.666667  -1.666667  ...    -1.666667   \n",
       "\n",
       "       tpi τ = 991  tpi τ = 992  tpi τ = 993  tpi τ = 994  tpi τ = 995  \\\n",
       "0         4.266667     4.266667     4.266667     4.266667     4.266667   \n",
       "1        -2.333333    -2.333333    -2.333333    -2.333333    -2.333333   \n",
       "2        -1.400000    -1.400000    -1.400000    -1.400000    -1.400000   \n",
       "3         4.333333     4.333333     4.333333     4.333333     4.333333   \n",
       "4        -1.733333    -1.733333    -1.733333    -1.733333    -1.733333   \n",
       "...            ...          ...          ...          ...          ...   \n",
       "10583     4.000000     4.000000     4.000000     4.000000     4.000000   \n",
       "10584     1.600000     1.600000     1.600000     1.600000     1.600000   \n",
       "10585    -2.400000    -2.400000    -2.400000    -2.400000    -2.400000   \n",
       "10586    -1.733333    -1.733333    -1.733333    -1.733333    -1.733333   \n",
       "10587    -1.666667    -1.666667    -1.666667    -1.666667    -1.666667   \n",
       "\n",
       "       tpi τ = 996  tpi τ = 997  tpi τ = 998  tpi τ = 999  \n",
       "0         4.266667     4.266667     4.266667     4.266667  \n",
       "1        -2.333333    -2.333333    -2.333333    -2.333333  \n",
       "2        -1.400000    -1.400000    -1.400000    -1.400000  \n",
       "3         4.333333     4.333333     4.333333     4.333333  \n",
       "4        -1.733333    -1.733333    -1.733333    -1.733333  \n",
       "...            ...          ...          ...          ...  \n",
       "10583     4.000000     4.000000     4.000000     4.000000  \n",
       "10584     1.600000     1.600000     1.600000     1.600000  \n",
       "10585    -2.400000    -2.400000    -2.400000    -2.400000  \n",
       "10586    -1.733333    -1.733333    -1.733333    -1.733333  \n",
       "10587    -1.666667    -1.666667    -1.666667    -1.666667  \n",
       "\n",
       "[10588 rows x 1008 columns]"
      ]
     },
     "execution_count": 71,
     "metadata": {},
     "output_type": "execute_result"
    }
   ],
   "source": [
    "df"
   ]
  },
  {
   "cell_type": "code",
   "execution_count": 80,
   "id": "0acdca5b",
   "metadata": {},
   "outputs": [
    {
     "data": {
      "application/vnd.jupyter.widget-view+json": {
       "model_id": "2d14312544a341ae8887fbc71bf02a7f",
       "version_major": 2,
       "version_minor": 0
      },
      "text/plain": [
       "  0%|          | 0/1000 [00:00<?, ?it/s]"
      ]
     },
     "metadata": {},
     "output_type": "display_data"
    },
    {
     "name": "stderr",
     "output_type": "stream",
     "text": [
      "<ipython-input-80-b49379d3ea8c>:4: PerformanceWarning: DataFrame is highly fragmented.  This is usually the result of calling `frame.insert` many times, which has poor performance.  Consider using pd.concat instead.  To get a de-fragmented frame, use `newframe = frame.copy()`\n",
      "  df[f'tpi τ = {tau}'] = df['tij'].sample(frac=1).reset_index(drop = True)\n"
     ]
    }
   ],
   "source": [
    "### define the number of permutations to make\n",
    "N = 1000\n",
    "for tau in tqdm(range(N)):\n",
    "    df[f'tpi τ = {tau}'] = df['tij'].sample(frac=1).reset_index(drop = True)"
   ]
  },
  {
   "cell_type": "code",
   "execution_count": 81,
   "id": "a0081fc2",
   "metadata": {},
   "outputs": [
    {
     "data": {
      "text/html": [
       "<div>\n",
       "<style scoped>\n",
       "    .dataframe tbody tr th:only-of-type {\n",
       "        vertical-align: middle;\n",
       "    }\n",
       "\n",
       "    .dataframe tbody tr th {\n",
       "        vertical-align: top;\n",
       "    }\n",
       "\n",
       "    .dataframe thead th {\n",
       "        text-align: right;\n",
       "    }\n",
       "</style>\n",
       "<table border=\"1\" class=\"dataframe\">\n",
       "  <thead>\n",
       "    <tr style=\"text-align: right;\">\n",
       "      <th></th>\n",
       "      <th>index</th>\n",
       "      <th>Cell ID</th>\n",
       "      <th>dij</th>\n",
       "      <th>Frame</th>\n",
       "      <th>x</th>\n",
       "      <th>y</th>\n",
       "      <th>tij</th>\n",
       "      <th>Focal ID</th>\n",
       "      <th>tpi τ = 0</th>\n",
       "      <th>tpi τ = 1</th>\n",
       "      <th>...</th>\n",
       "      <th>tpi τ = 990</th>\n",
       "      <th>tpi τ = 991</th>\n",
       "      <th>tpi τ = 992</th>\n",
       "      <th>tpi τ = 993</th>\n",
       "      <th>tpi τ = 994</th>\n",
       "      <th>tpi τ = 995</th>\n",
       "      <th>tpi τ = 996</th>\n",
       "      <th>tpi τ = 997</th>\n",
       "      <th>tpi τ = 998</th>\n",
       "      <th>tpi τ = 999</th>\n",
       "    </tr>\n",
       "  </thead>\n",
       "  <tbody>\n",
       "    <tr>\n",
       "      <th>0</th>\n",
       "      <td>2</td>\n",
       "      <td>966</td>\n",
       "      <td>30.333333</td>\n",
       "      <td>1059</td>\n",
       "      <td>552</td>\n",
       "      <td>816</td>\n",
       "      <td>4.266667</td>\n",
       "      <td>GV0819_Pos3_Scr_-1735</td>\n",
       "      <td>2.866667</td>\n",
       "      <td>-3.000000</td>\n",
       "      <td>...</td>\n",
       "      <td>2.933333</td>\n",
       "      <td>-1.800000</td>\n",
       "      <td>1.533333</td>\n",
       "      <td>-1.000000</td>\n",
       "      <td>-4.600000</td>\n",
       "      <td>2.800000</td>\n",
       "      <td>2.133333</td>\n",
       "      <td>-1.066667</td>\n",
       "      <td>4.133333</td>\n",
       "      <td>-1.333333</td>\n",
       "    </tr>\n",
       "    <tr>\n",
       "      <th>1</th>\n",
       "      <td>9</td>\n",
       "      <td>1238</td>\n",
       "      <td>77.333333</td>\n",
       "      <td>960</td>\n",
       "      <td>684</td>\n",
       "      <td>708</td>\n",
       "      <td>-2.333333</td>\n",
       "      <td>GV0819_Pos3_Scr_-1735</td>\n",
       "      <td>2.600000</td>\n",
       "      <td>-2.400000</td>\n",
       "      <td>...</td>\n",
       "      <td>4.266667</td>\n",
       "      <td>-0.066667</td>\n",
       "      <td>4.333333</td>\n",
       "      <td>-3.000000</td>\n",
       "      <td>0.333333</td>\n",
       "      <td>-4.400000</td>\n",
       "      <td>-0.933333</td>\n",
       "      <td>-3.000000</td>\n",
       "      <td>1.933333</td>\n",
       "      <td>-1.800000</td>\n",
       "    </tr>\n",
       "    <tr>\n",
       "      <th>2</th>\n",
       "      <td>16</td>\n",
       "      <td>1360</td>\n",
       "      <td>66.000000</td>\n",
       "      <td>974</td>\n",
       "      <td>461</td>\n",
       "      <td>1082</td>\n",
       "      <td>-1.400000</td>\n",
       "      <td>GV0819_Pos3_Scr_-1735</td>\n",
       "      <td>-4.200000</td>\n",
       "      <td>1.933333</td>\n",
       "      <td>...</td>\n",
       "      <td>-1.866667</td>\n",
       "      <td>0.866667</td>\n",
       "      <td>2.600000</td>\n",
       "      <td>3.733333</td>\n",
       "      <td>1.733333</td>\n",
       "      <td>-4.400000</td>\n",
       "      <td>-1.866667</td>\n",
       "      <td>3.733333</td>\n",
       "      <td>0.333333</td>\n",
       "      <td>-4.733333</td>\n",
       "    </tr>\n",
       "    <tr>\n",
       "      <th>3</th>\n",
       "      <td>17</td>\n",
       "      <td>1361</td>\n",
       "      <td>70.333333</td>\n",
       "      <td>1060</td>\n",
       "      <td>506</td>\n",
       "      <td>1114</td>\n",
       "      <td>4.333333</td>\n",
       "      <td>GV0819_Pos3_Scr_-1735</td>\n",
       "      <td>-2.400000</td>\n",
       "      <td>-3.266667</td>\n",
       "      <td>...</td>\n",
       "      <td>2.533333</td>\n",
       "      <td>-4.666667</td>\n",
       "      <td>-1.800000</td>\n",
       "      <td>-1.533333</td>\n",
       "      <td>0.866667</td>\n",
       "      <td>0.733333</td>\n",
       "      <td>-2.600000</td>\n",
       "      <td>2.333333</td>\n",
       "      <td>1.933333</td>\n",
       "      <td>-4.333333</td>\n",
       "    </tr>\n",
       "    <tr>\n",
       "      <th>4</th>\n",
       "      <td>53</td>\n",
       "      <td>1659</td>\n",
       "      <td>78.333333</td>\n",
       "      <td>969</td>\n",
       "      <td>429</td>\n",
       "      <td>683</td>\n",
       "      <td>-1.733333</td>\n",
       "      <td>GV0819_Pos3_Scr_-1735</td>\n",
       "      <td>0.133333</td>\n",
       "      <td>4.266667</td>\n",
       "      <td>...</td>\n",
       "      <td>2.600000</td>\n",
       "      <td>0.000000</td>\n",
       "      <td>3.800000</td>\n",
       "      <td>1.266667</td>\n",
       "      <td>1.666667</td>\n",
       "      <td>-3.200000</td>\n",
       "      <td>0.800000</td>\n",
       "      <td>-2.733333</td>\n",
       "      <td>0.600000</td>\n",
       "      <td>0.733333</td>\n",
       "    </tr>\n",
       "    <tr>\n",
       "      <th>...</th>\n",
       "      <td>...</td>\n",
       "      <td>...</td>\n",
       "      <td>...</td>\n",
       "      <td>...</td>\n",
       "      <td>...</td>\n",
       "      <td>...</td>\n",
       "      <td>...</td>\n",
       "      <td>...</td>\n",
       "      <td>...</td>\n",
       "      <td>...</td>\n",
       "      <td>...</td>\n",
       "      <td>...</td>\n",
       "      <td>...</td>\n",
       "      <td>...</td>\n",
       "      <td>...</td>\n",
       "      <td>...</td>\n",
       "      <td>...</td>\n",
       "      <td>...</td>\n",
       "      <td>...</td>\n",
       "      <td>...</td>\n",
       "      <td>...</td>\n",
       "    </tr>\n",
       "    <tr>\n",
       "      <th>10583</th>\n",
       "      <td>397990</td>\n",
       "      <td>253</td>\n",
       "      <td>27.333333</td>\n",
       "      <td>633</td>\n",
       "      <td>405</td>\n",
       "      <td>517</td>\n",
       "      <td>4.000000</td>\n",
       "      <td>GV0796_Pos6_Scr_-60</td>\n",
       "      <td>1.933333</td>\n",
       "      <td>1.333333</td>\n",
       "      <td>...</td>\n",
       "      <td>1.666667</td>\n",
       "      <td>0.333333</td>\n",
       "      <td>-2.400000</td>\n",
       "      <td>1.466667</td>\n",
       "      <td>-3.266667</td>\n",
       "      <td>4.200000</td>\n",
       "      <td>3.933333</td>\n",
       "      <td>-1.400000</td>\n",
       "      <td>0.733333</td>\n",
       "      <td>-3.533333</td>\n",
       "    </tr>\n",
       "    <tr>\n",
       "      <th>10584</th>\n",
       "      <td>398466</td>\n",
       "      <td>1270</td>\n",
       "      <td>99.666667</td>\n",
       "      <td>1169</td>\n",
       "      <td>54</td>\n",
       "      <td>776</td>\n",
       "      <td>1.600000</td>\n",
       "      <td>GV0819_Pos2_Scr_-490</td>\n",
       "      <td>-2.466667</td>\n",
       "      <td>-3.133333</td>\n",
       "      <td>...</td>\n",
       "      <td>1.200000</td>\n",
       "      <td>4.800000</td>\n",
       "      <td>3.133333</td>\n",
       "      <td>-1.533333</td>\n",
       "      <td>2.800000</td>\n",
       "      <td>0.466667</td>\n",
       "      <td>3.533333</td>\n",
       "      <td>4.600000</td>\n",
       "      <td>-5.000000</td>\n",
       "      <td>-1.600000</td>\n",
       "    </tr>\n",
       "    <tr>\n",
       "      <th>10585</th>\n",
       "      <td>398478</td>\n",
       "      <td>1355</td>\n",
       "      <td>65.333333</td>\n",
       "      <td>1109</td>\n",
       "      <td>452</td>\n",
       "      <td>854</td>\n",
       "      <td>-2.400000</td>\n",
       "      <td>GV0819_Pos2_Scr_-490</td>\n",
       "      <td>-0.133333</td>\n",
       "      <td>-4.333333</td>\n",
       "      <td>...</td>\n",
       "      <td>3.533333</td>\n",
       "      <td>-0.800000</td>\n",
       "      <td>-3.733333</td>\n",
       "      <td>0.800000</td>\n",
       "      <td>1.266667</td>\n",
       "      <td>0.200000</td>\n",
       "      <td>4.866667</td>\n",
       "      <td>-0.933333</td>\n",
       "      <td>4.933333</td>\n",
       "      <td>-2.000000</td>\n",
       "    </tr>\n",
       "    <tr>\n",
       "      <th>10586</th>\n",
       "      <td>398496</td>\n",
       "      <td>1489</td>\n",
       "      <td>74.333333</td>\n",
       "      <td>1119</td>\n",
       "      <td>75</td>\n",
       "      <td>907</td>\n",
       "      <td>-1.733333</td>\n",
       "      <td>GV0819_Pos2_Scr_-490</td>\n",
       "      <td>0.600000</td>\n",
       "      <td>-0.933333</td>\n",
       "      <td>...</td>\n",
       "      <td>-2.400000</td>\n",
       "      <td>2.466667</td>\n",
       "      <td>1.000000</td>\n",
       "      <td>1.533333</td>\n",
       "      <td>1.200000</td>\n",
       "      <td>3.066667</td>\n",
       "      <td>2.733333</td>\n",
       "      <td>-0.333333</td>\n",
       "      <td>2.733333</td>\n",
       "      <td>2.866667</td>\n",
       "    </tr>\n",
       "    <tr>\n",
       "      <th>10587</th>\n",
       "      <td>398499</td>\n",
       "      <td>1525</td>\n",
       "      <td>59.666667</td>\n",
       "      <td>1120</td>\n",
       "      <td>124</td>\n",
       "      <td>900</td>\n",
       "      <td>-1.666667</td>\n",
       "      <td>GV0819_Pos2_Scr_-490</td>\n",
       "      <td>1.333333</td>\n",
       "      <td>0.933333</td>\n",
       "      <td>...</td>\n",
       "      <td>1.066667</td>\n",
       "      <td>-0.800000</td>\n",
       "      <td>-3.133333</td>\n",
       "      <td>0.466667</td>\n",
       "      <td>2.133333</td>\n",
       "      <td>2.333333</td>\n",
       "      <td>-4.266667</td>\n",
       "      <td>-0.800000</td>\n",
       "      <td>3.800000</td>\n",
       "      <td>2.600000</td>\n",
       "    </tr>\n",
       "  </tbody>\n",
       "</table>\n",
       "<p>10588 rows × 1008 columns</p>\n",
       "</div>"
      ],
      "text/plain": [
       "        index  Cell ID        dij  Frame    x     y       tij  \\\n",
       "0           2      966  30.333333   1059  552   816  4.266667   \n",
       "1           9     1238  77.333333    960  684   708 -2.333333   \n",
       "2          16     1360  66.000000    974  461  1082 -1.400000   \n",
       "3          17     1361  70.333333   1060  506  1114  4.333333   \n",
       "4          53     1659  78.333333    969  429   683 -1.733333   \n",
       "...       ...      ...        ...    ...  ...   ...       ...   \n",
       "10583  397990      253  27.333333    633  405   517  4.000000   \n",
       "10584  398466     1270  99.666667   1169   54   776  1.600000   \n",
       "10585  398478     1355  65.333333   1109  452   854 -2.400000   \n",
       "10586  398496     1489  74.333333   1119   75   907 -1.733333   \n",
       "10587  398499     1525  59.666667   1120  124   900 -1.666667   \n",
       "\n",
       "                    Focal ID  tpi τ = 0  tpi τ = 1  ...  tpi τ = 990  \\\n",
       "0      GV0819_Pos3_Scr_-1735   2.866667  -3.000000  ...     2.933333   \n",
       "1      GV0819_Pos3_Scr_-1735   2.600000  -2.400000  ...     4.266667   \n",
       "2      GV0819_Pos3_Scr_-1735  -4.200000   1.933333  ...    -1.866667   \n",
       "3      GV0819_Pos3_Scr_-1735  -2.400000  -3.266667  ...     2.533333   \n",
       "4      GV0819_Pos3_Scr_-1735   0.133333   4.266667  ...     2.600000   \n",
       "...                      ...        ...        ...  ...          ...   \n",
       "10583    GV0796_Pos6_Scr_-60   1.933333   1.333333  ...     1.666667   \n",
       "10584   GV0819_Pos2_Scr_-490  -2.466667  -3.133333  ...     1.200000   \n",
       "10585   GV0819_Pos2_Scr_-490  -0.133333  -4.333333  ...     3.533333   \n",
       "10586   GV0819_Pos2_Scr_-490   0.600000  -0.933333  ...    -2.400000   \n",
       "10587   GV0819_Pos2_Scr_-490   1.333333   0.933333  ...     1.066667   \n",
       "\n",
       "       tpi τ = 991  tpi τ = 992  tpi τ = 993  tpi τ = 994  tpi τ = 995  \\\n",
       "0        -1.800000     1.533333    -1.000000    -4.600000     2.800000   \n",
       "1        -0.066667     4.333333    -3.000000     0.333333    -4.400000   \n",
       "2         0.866667     2.600000     3.733333     1.733333    -4.400000   \n",
       "3        -4.666667    -1.800000    -1.533333     0.866667     0.733333   \n",
       "4         0.000000     3.800000     1.266667     1.666667    -3.200000   \n",
       "...            ...          ...          ...          ...          ...   \n",
       "10583     0.333333    -2.400000     1.466667    -3.266667     4.200000   \n",
       "10584     4.800000     3.133333    -1.533333     2.800000     0.466667   \n",
       "10585    -0.800000    -3.733333     0.800000     1.266667     0.200000   \n",
       "10586     2.466667     1.000000     1.533333     1.200000     3.066667   \n",
       "10587    -0.800000    -3.133333     0.466667     2.133333     2.333333   \n",
       "\n",
       "       tpi τ = 996  tpi τ = 997  tpi τ = 998  tpi τ = 999  \n",
       "0         2.133333    -1.066667     4.133333    -1.333333  \n",
       "1        -0.933333    -3.000000     1.933333    -1.800000  \n",
       "2        -1.866667     3.733333     0.333333    -4.733333  \n",
       "3        -2.600000     2.333333     1.933333    -4.333333  \n",
       "4         0.800000    -2.733333     0.600000     0.733333  \n",
       "...            ...          ...          ...          ...  \n",
       "10583     3.933333    -1.400000     0.733333    -3.533333  \n",
       "10584     3.533333     4.600000    -5.000000    -1.600000  \n",
       "10585     4.866667    -0.933333     4.933333    -2.000000  \n",
       "10586     2.733333    -0.333333     2.733333     2.866667  \n",
       "10587    -4.266667    -0.800000     3.800000     2.600000  \n",
       "\n",
       "[10588 rows x 1008 columns]"
      ]
     },
     "execution_count": 81,
     "metadata": {},
     "output_type": "execute_result"
    }
   ],
   "source": [
    "df"
   ]
  },
  {
   "cell_type": "markdown",
   "id": "f901c189",
   "metadata": {},
   "source": [
    "Load previously unfinished K_tau functions"
   ]
  },
  {
   "cell_type": "code",
   "execution_count": 41,
   "id": "09e4da00",
   "metadata": {},
   "outputs": [],
   "source": [
    "from natsort import natsorted"
   ]
  },
  {
   "cell_type": "code",
   "execution_count": 45,
   "id": "a637c226",
   "metadata": {},
   "outputs": [],
   "source": [
    "import pickle"
   ]
  },
  {
   "cell_type": "code",
   "execution_count": 43,
   "id": "fb12ba7c",
   "metadata": {},
   "outputs": [
    {
     "data": {
      "text/plain": [
       "['K_st_tau_1_follow_10hrs_500um.pkl',\n",
       " 'K_st_tau_(0, 100).pkl',\n",
       " 'K_st_tau_(0, 500).pkl',\n",
       " 'K_st_tau_(0, 540)_follow.pkl',\n",
       " 'K_st_tau_(0, 561)_follow.pkl',\n",
       " 'K_st_tau_(0, 1000)_follow_10hrs_300um_coarse.pkl',\n",
       " 'K_st_tau_(0, 1000)_stationary.pkl',\n",
       " 'K_st_tau_(0, 1000)_stationary_bigger.pkl',\n",
       " 'K_st_tau_(100, 200).pkl',\n",
       " 'K_st_tau_(200, 300).pkl',\n",
       " 'K_st_tau_(200, 300)_t_shift.pkl',\n",
       " 'K_st_tau_(300, 400).pkl',\n",
       " 'K_st_tau_(400, 500).pkl']"
      ]
     },
     "execution_count": 43,
     "metadata": {},
     "output_type": "execute_result"
    }
   ],
   "source": [
    "natsorted(glob.glob('K_st_tau_*.pkl'))"
   ]
  },
  {
   "cell_type": "code",
   "execution_count": 46,
   "id": "312f0eec",
   "metadata": {},
   "outputs": [],
   "source": [
    "with open('K_st_tau_(0, 561)_follow.pkl', 'rb') as handle:\n",
    "    K_st_tau = pickle.load(handle)"
   ]
  },
  {
   "cell_type": "code",
   "execution_count": 49,
   "id": "6aafaa4f",
   "metadata": {},
   "outputs": [
    {
     "data": {
      "text/plain": [
       "563"
      ]
     },
     "execution_count": 49,
     "metadata": {},
     "output_type": "execute_result"
    }
   ],
   "source": [
    "len(K_st_tau)"
   ]
  },
  {
   "cell_type": "code",
   "execution_count": 58,
   "id": "b6692c83",
   "metadata": {},
   "outputs": [],
   "source": [
    "unfinished_taus = list(set(list(range(0,1000))) - set(list(K_st_tau.keys())))"
   ]
  },
  {
   "cell_type": "code",
   "execution_count": 69,
   "id": "c9b1dcef",
   "metadata": {},
   "outputs": [
    {
     "data": {
      "text/plain": [
       "[500,\n",
       " 501,\n",
       " 502,\n",
       " 503,\n",
       " 504,\n",
       " 505,\n",
       " 506,\n",
       " 507,\n",
       " 508,\n",
       " 509,\n",
       " 510,\n",
       " 511,\n",
       " 512,\n",
       " 513,\n",
       " 514,\n",
       " 515,\n",
       " 516,\n",
       " 517,\n",
       " 518,\n",
       " 519,\n",
       " 520,\n",
       " 521,\n",
       " 522,\n",
       " 523,\n",
       " 524,\n",
       " 525,\n",
       " 526,\n",
       " 527,\n",
       " 528,\n",
       " 529,\n",
       " 530,\n",
       " 531,\n",
       " 532,\n",
       " 533,\n",
       " 534,\n",
       " 535,\n",
       " 536,\n",
       " 537,\n",
       " 538,\n",
       " 539,\n",
       " 540,\n",
       " 541,\n",
       " 542,\n",
       " 543,\n",
       " 544,\n",
       " 545,\n",
       " 546,\n",
       " 547,\n",
       " 548,\n",
       " 549,\n",
       " 550,\n",
       " 551,\n",
       " 552,\n",
       " 553,\n",
       " 554,\n",
       " 555,\n",
       " 556,\n",
       " 557,\n",
       " 558,\n",
       " 559,\n",
       " 560,\n",
       " 561,\n",
       " 562,\n",
       " 563,\n",
       " 564,\n",
       " 565,\n",
       " 566,\n",
       " 567,\n",
       " 568,\n",
       " 569,\n",
       " 570,\n",
       " 571,\n",
       " 572,\n",
       " 573,\n",
       " 574,\n",
       " 575,\n",
       " 576,\n",
       " 577,\n",
       " 578,\n",
       " 579,\n",
       " 580,\n",
       " 581,\n",
       " 582,\n",
       " 583,\n",
       " 584,\n",
       " 585,\n",
       " 586,\n",
       " 587,\n",
       " 588,\n",
       " 589,\n",
       " 590,\n",
       " 591,\n",
       " 592,\n",
       " 593,\n",
       " 594,\n",
       " 595,\n",
       " 596,\n",
       " 597,\n",
       " 598,\n",
       " 599,\n",
       " 600,\n",
       " 601,\n",
       " 602,\n",
       " 603,\n",
       " 604,\n",
       " 605,\n",
       " 606,\n",
       " 607,\n",
       " 608,\n",
       " 609,\n",
       " 610,\n",
       " 611,\n",
       " 612,\n",
       " 613,\n",
       " 614,\n",
       " 615,\n",
       " 616,\n",
       " 617,\n",
       " 618,\n",
       " 619,\n",
       " 620,\n",
       " 621,\n",
       " 622,\n",
       " 623,\n",
       " 624,\n",
       " 625,\n",
       " 626,\n",
       " 627,\n",
       " 628,\n",
       " 629,\n",
       " 630,\n",
       " 631,\n",
       " 632,\n",
       " 633,\n",
       " 634,\n",
       " 635,\n",
       " 636,\n",
       " 637,\n",
       " 638,\n",
       " 639,\n",
       " 640,\n",
       " 641,\n",
       " 642,\n",
       " 643,\n",
       " 644,\n",
       " 645,\n",
       " 646,\n",
       " 647,\n",
       " 648,\n",
       " 649,\n",
       " 650,\n",
       " 651,\n",
       " 652,\n",
       " 653,\n",
       " 654,\n",
       " 655,\n",
       " 656,\n",
       " 657,\n",
       " 658,\n",
       " 659,\n",
       " 660,\n",
       " 661,\n",
       " 662,\n",
       " 663,\n",
       " 664,\n",
       " 665,\n",
       " 666,\n",
       " 667,\n",
       " 668,\n",
       " 669,\n",
       " 670,\n",
       " 671,\n",
       " 672,\n",
       " 673,\n",
       " 674,\n",
       " 675,\n",
       " 676,\n",
       " 677,\n",
       " 678,\n",
       " 679,\n",
       " 680,\n",
       " 681,\n",
       " 682,\n",
       " 683,\n",
       " 684,\n",
       " 685,\n",
       " 686,\n",
       " 687,\n",
       " 688,\n",
       " 689,\n",
       " 690,\n",
       " 691,\n",
       " 692,\n",
       " 693,\n",
       " 694,\n",
       " 695,\n",
       " 696,\n",
       " 697,\n",
       " 698,\n",
       " 699,\n",
       " 700,\n",
       " 701,\n",
       " 702,\n",
       " 703,\n",
       " 704,\n",
       " 705,\n",
       " 706,\n",
       " 707,\n",
       " 708,\n",
       " 709,\n",
       " 710,\n",
       " 711,\n",
       " 712,\n",
       " 713,\n",
       " 714,\n",
       " 715,\n",
       " 716,\n",
       " 717,\n",
       " 718,\n",
       " 719,\n",
       " 720,\n",
       " 721,\n",
       " 722,\n",
       " 723,\n",
       " 724,\n",
       " 725,\n",
       " 726,\n",
       " 727,\n",
       " 728,\n",
       " 729,\n",
       " 730,\n",
       " 731,\n",
       " 732,\n",
       " 733,\n",
       " 734,\n",
       " 735,\n",
       " 736,\n",
       " 737,\n",
       " 738,\n",
       " 739,\n",
       " 740,\n",
       " 741,\n",
       " 742,\n",
       " 743,\n",
       " 744,\n",
       " 745,\n",
       " 746,\n",
       " 747,\n",
       " 748,\n",
       " 749,\n",
       " 750,\n",
       " 751,\n",
       " 752,\n",
       " 753,\n",
       " 754,\n",
       " 755,\n",
       " 756,\n",
       " 757,\n",
       " 758,\n",
       " 759,\n",
       " 760,\n",
       " 761,\n",
       " 762,\n",
       " 763,\n",
       " 764,\n",
       " 765,\n",
       " 766,\n",
       " 767,\n",
       " 768,\n",
       " 769,\n",
       " 770,\n",
       " 771,\n",
       " 772,\n",
       " 773,\n",
       " 774,\n",
       " 775,\n",
       " 776,\n",
       " 777,\n",
       " 778,\n",
       " 779,\n",
       " 780,\n",
       " 781,\n",
       " 782,\n",
       " 783,\n",
       " 784,\n",
       " 785,\n",
       " 786,\n",
       " 787,\n",
       " 788,\n",
       " 789,\n",
       " 790,\n",
       " 791,\n",
       " 792,\n",
       " 793,\n",
       " 794,\n",
       " 795,\n",
       " 796,\n",
       " 797,\n",
       " 798,\n",
       " 799,\n",
       " 800,\n",
       " 801,\n",
       " 802,\n",
       " 803,\n",
       " 804,\n",
       " 805,\n",
       " 806,\n",
       " 807,\n",
       " 808,\n",
       " 809,\n",
       " 810,\n",
       " 811,\n",
       " 812,\n",
       " 813,\n",
       " 814,\n",
       " 815,\n",
       " 816,\n",
       " 817,\n",
       " 818,\n",
       " 819,\n",
       " 820,\n",
       " 821,\n",
       " 822,\n",
       " 823,\n",
       " 824,\n",
       " 825,\n",
       " 826,\n",
       " 827,\n",
       " 828,\n",
       " 829,\n",
       " 830,\n",
       " 831,\n",
       " 832,\n",
       " 833,\n",
       " 834,\n",
       " 835,\n",
       " 836,\n",
       " 837,\n",
       " 838,\n",
       " 839,\n",
       " 840,\n",
       " 841,\n",
       " 842,\n",
       " 843,\n",
       " 844,\n",
       " 845,\n",
       " 846,\n",
       " 847,\n",
       " 848,\n",
       " 849,\n",
       " 850,\n",
       " 851,\n",
       " 852,\n",
       " 853,\n",
       " 854,\n",
       " 855,\n",
       " 856,\n",
       " 857,\n",
       " 858,\n",
       " 859,\n",
       " 860,\n",
       " 861,\n",
       " 862,\n",
       " 863,\n",
       " 864,\n",
       " 865,\n",
       " 866,\n",
       " 867,\n",
       " 868,\n",
       " 869,\n",
       " 870,\n",
       " 871,\n",
       " 872,\n",
       " 873,\n",
       " 874,\n",
       " 875,\n",
       " 876,\n",
       " 877,\n",
       " 878,\n",
       " 879,\n",
       " 880,\n",
       " 881,\n",
       " 882,\n",
       " 883,\n",
       " 884,\n",
       " 885,\n",
       " 886,\n",
       " 887,\n",
       " 888,\n",
       " 889,\n",
       " 890,\n",
       " 891,\n",
       " 892,\n",
       " 893,\n",
       " 894,\n",
       " 895,\n",
       " 896,\n",
       " 897,\n",
       " 898,\n",
       " 899,\n",
       " 900,\n",
       " 901,\n",
       " 902,\n",
       " 903,\n",
       " 904,\n",
       " 905,\n",
       " 906,\n",
       " 907,\n",
       " 908,\n",
       " 909,\n",
       " 910,\n",
       " 911,\n",
       " 912,\n",
       " 913,\n",
       " 914,\n",
       " 915,\n",
       " 916,\n",
       " 917,\n",
       " 918,\n",
       " 919,\n",
       " 920,\n",
       " 921,\n",
       " 922,\n",
       " 923,\n",
       " 924,\n",
       " 925,\n",
       " 926,\n",
       " 927,\n",
       " 928,\n",
       " 929,\n",
       " 930,\n",
       " 931,\n",
       " 932,\n",
       " 933,\n",
       " 934,\n",
       " 935,\n",
       " 936]"
      ]
     },
     "execution_count": 69,
     "metadata": {},
     "output_type": "execute_result"
    }
   ],
   "source": [
    "unfinished_taus"
   ]
  },
  {
   "cell_type": "code",
   "execution_count": 83,
   "id": "cf45d303",
   "metadata": {
    "scrolled": true
   },
   "outputs": [
    {
     "data": {
      "application/vnd.jupyter.widget-view+json": {
       "model_id": "61fc5823c9a44c75a9f4b1860320c219",
       "version_major": 2,
       "version_minor": 0
      },
      "text/plain": [
       "Progress through tau:   0%|          | 0/437 [00:00<?, ?it/s]"
      ]
     },
     "metadata": {},
     "output_type": "display_data"
    }
   ],
   "source": [
    "rang = (0,1000)\n",
    "for tau in tqdm(unfinished_taus, desc = 'Progress through tau', total = len(unfinished_taus)):\n",
    "#     if tau in K_st_tau.keys():\n",
    "#         continue\n",
    "    K_st_tau[tau] = K_st_tau_func(h_, delta_, n, lambda_st, df, tau)\n",
    "    with open(f'K_st_tau_{rang}_follow.pkl', 'wb') as f:\n",
    "        pickle.dump(K_st_tau, f)"
   ]
  },
  {
   "cell_type": "code",
   "execution_count": 84,
   "id": "706ec8df",
   "metadata": {},
   "outputs": [
    {
     "data": {
      "text/plain": [
       "1000"
      ]
     },
     "execution_count": 84,
     "metadata": {},
     "output_type": "execute_result"
    }
   ],
   "source": [
    "len(K_st_tau)"
   ]
  },
  {
   "cell_type": "code",
   "execution_count": 50,
   "id": "014a3773",
   "metadata": {},
   "outputs": [
    {
     "data": {
      "text/plain": [
       "959"
      ]
     },
     "execution_count": 50,
     "metadata": {},
     "output_type": "execute_result"
    }
   ],
   "source": [
    "tau"
   ]
  },
  {
   "cell_type": "code",
   "execution_count": 54,
   "id": "0724d6ca",
   "metadata": {},
   "outputs": [],
   "source": [
    "with open(f'K_st_tau_{0,len(K_st_tau)}_follow.pkl', 'wb') as f:\n",
    "\n",
    "#with open(f'K_st_tau_{rang}_follow.pkl', 'wb') as f:\n",
    "    pickle.dump(K_st_tau, f)"
   ]
  },
  {
   "cell_type": "markdown",
   "id": "0e7eac2a",
   "metadata": {},
   "source": [
    "Loading previously calculated tau permutations from parallelised processes"
   ]
  },
  {
   "cell_type": "code",
   "execution_count": 76,
   "id": "62c4265e",
   "metadata": {},
   "outputs": [],
   "source": [
    "K_st_tau = {}\n",
    "for fn in natsorted(glob.glob('K_st_tau_(*).pkl')):\n",
    "\n",
    "    with open(f'{fn}', 'rb') as handle:\n",
    "        b = pickle.load(handle)\n",
    "        \n",
    "    for i in b:\n",
    "        K_st_tau[i] = b[i]"
   ]
  },
  {
   "cell_type": "code",
   "execution_count": 65,
   "id": "2b4fc78e",
   "metadata": {},
   "outputs": [
    {
     "data": {
      "text/plain": [
       "500"
      ]
     },
     "execution_count": 65,
     "metadata": {},
     "output_type": "execute_result"
    }
   ],
   "source": [
    "len(K_st_tau)"
   ]
  },
  {
   "cell_type": "code",
   "execution_count": 31,
   "id": "21131b23",
   "metadata": {},
   "outputs": [
    {
     "data": {
      "text/plain": [
       "<matplotlib.image.AxesImage at 0x7f76dbd2f730>"
      ]
     },
     "execution_count": 31,
     "metadata": {},
     "output_type": "execute_result"
    },
    {
     "data": {
      "image/png": "[encoded data removed]",
      "text/plain": [
       "<Figure size 432x288 with 1 Axes>"
      ]
     },
     "metadata": {
      "needs_background": "light"
     },
     "output_type": "display_data"
    }
   ],
   "source": [
    "plt.imshow(K_st_tau[299])"
   ]
  },
  {
   "cell_type": "code",
   "execution_count": 30,
   "id": "7445f2d0",
   "metadata": {},
   "outputs": [
    {
     "data": {
      "text/plain": [
       "array([[0.00000000e+00, 0.00000000e+00, 0.00000000e+00, ...,\n",
       "        0.00000000e+00, 0.00000000e+00, 0.00000000e+00],\n",
       "       [0.00000000e+00, 0.00000000e+00, 0.00000000e+00, ...,\n",
       "        1.34963600e-04, 1.34963600e-04, 1.34963600e-04],\n",
       "       [1.34963600e-04, 1.34963600e-04, 1.34963600e-04, ...,\n",
       "        2.69927201e-04, 2.69927201e-04, 2.69927201e-04],\n",
       "       ...,\n",
       "       [6.69284495e-01, 6.54033608e-01, 6.37568049e-01, ...,\n",
       "        7.50802509e-01, 7.70102304e-01, 7.93046116e-01],\n",
       "       [6.82106037e-01, 6.66450259e-01, 6.49714773e-01, ...,\n",
       "        7.64703760e-01, 7.84408446e-01, 8.07757149e-01],\n",
       "       [6.99786268e-01, 6.83590636e-01, 6.66585223e-01, ...,\n",
       "        7.82653919e-01, 8.02898459e-01, 8.27056944e-01]])"
      ]
     },
     "execution_count": 30,
     "metadata": {},
     "output_type": "execute_result"
    }
   ],
   "source": [
    "K_st_tau[299]"
   ]
  },
  {
   "cell_type": "code",
   "execution_count": 32,
   "id": "1e63ae40",
   "metadata": {},
   "outputs": [
    {
     "data": {
      "application/vnd.jupyter.widget-view+json": {
       "model_id": "020a6ffb22b747288785823ca91401e4",
       "version_major": 2,
       "version_minor": 0
      },
      "text/plain": [
       "  0%|          | 0/500 [00:00<?, ?it/s]"
      ]
     },
     "metadata": {},
     "output_type": "display_data"
    }
   ],
   "source": [
    "K_st_tau_array = []\n",
    "for i in tqdm(K_st_tau):\n",
    "    K_st_tau_array.append(K_st_tau[i])\n",
    "    \n",
    "K_st_tau_array = np.stack(K_st_tau_array, axis = 0)"
   ]
  },
  {
   "cell_type": "code",
   "execution_count": 33,
   "id": "a55d9866",
   "metadata": {},
   "outputs": [
    {
     "name": "stdout",
     "output_type": "stream",
     "text": [
      "Assistant skips harvesting pyclesperanto as it's not installed.\n"
     ]
    },
    {
     "name": "stderr",
     "output_type": "stream",
     "text": [
      "__init__.py (165): Public access to Window.qt_viewer is deprecated and will be removed in\n",
      "v0.5.0. It is considered an \"implementation detail\" of the napari\n",
      "application, not part of the napari viewer model. If your use case\n",
      "requires access to qt_viewer, please open an issue to discuss.\n"
     ]
    },
    {
     "data": {
      "text/plain": [
       "<Image layer 'K_st_tau_array' at 0x7f76d98a5df0>"
      ]
     },
     "execution_count": 33,
     "metadata": {},
     "output_type": "execute_result"
    }
   ],
   "source": [
    "import napari\n",
    "\n",
    "viewer = napari.Viewer()\n",
    "\n",
    "viewer.add_image(K_st_tau_array)"
   ]
  },
  {
   "cell_type": "markdown",
   "id": "e27f6703",
   "metadata": {},
   "source": [
    "Checking to see if any two of the randomly time-indices-switched K-function arrays are identical (they should not be)"
   ]
  },
  {
   "cell_type": "code",
   "execution_count": 62,
   "id": "ee456b7d",
   "metadata": {},
   "outputs": [],
   "source": [
    "def arrays_equal(a, b):\n",
    "    if a.shape != b.shape:\n",
    "        return False\n",
    "    for ai, bi in zip(a.flat, b.flat):\n",
    "        if ai != bi:\n",
    "            return False\n",
    "    return True"
   ]
  },
  {
   "cell_type": "code",
   "execution_count": 85,
   "id": "e771ea2d",
   "metadata": {},
   "outputs": [
    {
     "data": {
      "application/vnd.jupyter.widget-view+json": {
       "model_id": "000f4f03fa3c4a96b20829d84262d3c6",
       "version_major": 2,
       "version_minor": 0
      },
      "text/plain": [
       "  0%|          | 0/499500 [00:00<?, ?it/s]"
      ]
     },
     "metadata": {},
     "output_type": "display_data"
    },
    {
     "name": "stdout",
     "output_type": "stream",
     "text": [
      "938 937 are equal\n"
     ]
    }
   ],
   "source": [
    "import itertools\n",
    "for a, b in tqdm(itertools.combinations(K_st_tau, 2), total = 499500):\n",
    "    array1 = K_st_tau[a]\n",
    "    array2 = K_st_tau[b]\n",
    "    if arrays_equal(array1, array2) == True:\n",
    "        print(a, b, 'are equal')"
   ]
  },
  {
   "cell_type": "code",
   "execution_count": 86,
   "id": "81e345b4",
   "metadata": {},
   "outputs": [
    {
     "data": {
      "application/vnd.jupyter.widget-view+json": {
       "model_id": "2263859a341a4ccf82d53cb62ea67464",
       "version_major": 2,
       "version_minor": 0
      },
      "text/plain": [
       "  0%|          | 0/100 [00:00<?, ?it/s]"
      ]
     },
     "metadata": {},
     "output_type": "display_data"
    }
   ],
   "source": [
    "N = len(K_st_tau)\n",
    "P_st_clust = np.zeros(K_st.shape)\n",
    "P_st_disp = np.zeros(K_st.shape)\n",
    "\n",
    "for i, h in enumerate(tqdm(h_, total = len(h_))):\n",
    "    for j, delta in enumerate(delta_):\n",
    "        M0_plus = len([tau for tau in K_st_tau if K_st_tau[tau][i,j] >= K_st[i,j]])\n",
    "        P_st_clust[i,j] = (M0_plus + 1)/(N+1)\n",
    "        M0_minus = len([tau for tau in K_st_tau if K_st_tau[tau][i,j] <= K_st[i,j]])\n",
    "        P_st_disp[i,j] = (M0_minus + 1)/(N+1)\n",
    "    "
   ]
  },
  {
   "cell_type": "code",
   "execution_count": 87,
   "id": "23ddbd69",
   "metadata": {},
   "outputs": [
    {
     "data": {
      "text/plain": [
       "Text(0.5, 1.0, 'P-value contour map of space-time clustering of \\nN = 398511 wild-type divisions around \\nN = 1838 focal apoptosis calculated from \\nN = 1000 permutations of time values\\n')"
      ]
     },
     "execution_count": 87,
     "metadata": {},
     "output_type": "execute_result"
    },
    {
     "data": {
      "image/png": "[encoded data removed]",
      "text/plain": [
       "<Figure size 432x288 with 2 Axes>"
      ]
     },
     "metadata": {
      "needs_background": "light"
     },
     "output_type": "display_data"
    }
   ],
   "source": [
    "pc = plt.pcolormesh(delta_, h_, (P_st_clust), cmap = 'Reds_r', )\n",
    "plt.colorbar(label = 'P-value',)\n",
    "plt.xlabel('Time since apoptosis (hours)')\n",
    "plt.ylabel('Distance (microns)')\n",
    "plt.title(f'P-value contour map of space-time clustering of \\nN = {n1} wild-type divisions around \\nN = {n2} focal apoptosis calculated from \\nN = {N} permutations of time values\\n')\n",
    "#plt.savefig('p-value-division-clustering_100um_10hrs.pdf', bbox_inches = 'tight')"
   ]
  },
  {
   "cell_type": "code",
   "execution_count": 93,
   "id": "b6ff096f",
   "metadata": {},
   "outputs": [
    {
     "data": {
      "text/plain": [
       "Text(0.5, 1.0, 'P-value contour map of space-time dispersion of \\nN = 398511 wild-type divisions around \\nN = 1838 focal apoptosis calculated from \\nN = 1000 permutations of time values\\n')"
      ]
     },
     "execution_count": 93,
     "metadata": {},
     "output_type": "execute_result"
    },
    {
     "data": {
      "image/png": "[encoded data removed]",
      "text/plain": [
       "<Figure size 432x288 with 2 Axes>"
      ]
     },
     "metadata": {
      "needs_background": "light"
     },
     "output_type": "display_data"
    }
   ],
   "source": [
    "clip_clust = np.zeros((100,100))\n",
    "clip_clust[P_st_clust <0.1] = P_st_clust[P_st_clust <0.05]\n",
    "pc = plt.pcolormesh(delta_, h_, clip_clust, cmap = 'Blues_r', )\n",
    "plt.colorbar(label = 'P-value',)\n",
    "plt.xlabel('Time since apoptosis (hours)')\n",
    "plt.ylabel('Distance (microns)')\n",
    "plt.title(f'P-value contour map of space-time dispersion of \\nN = {n1} wild-type divisions around \\nN = {n2} focal apoptosis calculated from \\nN = {N} permutations of time values\\n')\n",
    "#plt.savefig('p-value-division-dispersion_100um_10hrs_clipped_p-0.05_fullrange.pdf', bbox_inches = 'tight')"
   ]
  },
  {
   "cell_type": "code",
   "execution_count": 90,
   "id": "3fec880c",
   "metadata": {},
   "outputs": [
    {
     "data": {
      "text/plain": [
       "Text(0.5, 1.0, 'P-value contour map of space-time dispersion of \\nN = 398511 wild-type divisions around \\nN = 1838 focal apoptosis calculated from \\nN = 1000 permutations of time values\\n')"
      ]
     },
     "execution_count": 90,
     "metadata": {},
     "output_type": "execute_result"
    },
    {
     "data": {
      "image/png": "[encoded data removed]",
      "text/plain": [
       "<Figure size 432x288 with 2 Axes>"
      ]
     },
     "metadata": {
      "needs_background": "light"
     },
     "output_type": "display_data"
    }
   ],
   "source": [
    "pc = plt.pcolormesh(delta_, h_, P_st_disp, cmap = 'Blues_r', )\n",
    "plt.colorbar(label = 'P-value',)\n",
    "plt.xlabel('Time since apoptosis (hours)')\n",
    "plt.ylabel('Distance (microns)')\n",
    "plt.title(f'P-value contour map of space-time dispersion of \\nN = {n1} wild-type divisions around \\nN = {n2} focal apoptosis calculated from \\nN = {N} permutations of time values\\n')\n",
    "#plt.savefig('p-value-division-dispersion_100um_10hrs.pdf', bbox_inches = 'tight')"
   ]
  },
  {
   "cell_type": "code",
   "execution_count": 91,
   "id": "e18d9da2",
   "metadata": {},
   "outputs": [
    {
     "data": {
      "text/plain": [
       "Text(0.5, 1.0, 'P-value contour map of space-time dispersion of \\nN = 398511 wild-type divisions around \\nN = 1838 focal apoptosis calculated from \\nN = 1000 permutations of time values\\n')"
      ]
     },
     "execution_count": 91,
     "metadata": {},
     "output_type": "execute_result"
    },
    {
     "data": {
      "image/png": "[encoded data removed]",
      "text/plain": [
       "<Figure size 432x288 with 2 Axes>"
      ]
     },
     "metadata": {
      "needs_background": "light"
     },
     "output_type": "display_data"
    }
   ],
   "source": [
    "clip_disp = np.zeros((100,100))\n",
    "clip_disp[P_st_disp <0.05] = P_st_disp[P_st_disp <0.05]\n",
    "pc = plt.pcolormesh(delta_, h_, clip_disp, cmap = 'Blues_r', )\n",
    "plt.colorbar(label = 'P-value',)\n",
    "plt.xlabel('Time since apoptosis (hours)')\n",
    "plt.ylabel('Distance (microns)')\n",
    "plt.title(f'P-value contour map of space-time dispersion of \\nN = {n1} wild-type divisions around \\nN = {n2} focal apoptosis calculated from \\nN = {N} permutations of time values\\n')\n",
    "#plt.savefig('p-value-division-dispersion_100um_10hrs_clipped_p-0.05_fullrange.pdf', bbox_inches = 'tight')"
   ]
  },
  {
   "cell_type": "code",
   "execution_count": 92,
   "id": "a649c8a8",
   "metadata": {},
   "outputs": [
    {
     "ename": "NameError",
     "evalue": "name 'clip_clust' is not defined",
     "output_type": "error",
     "traceback": [
      "\u001b[0;31m---------------------------------------------------------------------------\u001b[0m",
      "\u001b[0;31mNameError\u001b[0m                                 Traceback (most recent call last)",
      "Input \u001b[0;32mIn [92]\u001b[0m, in \u001b[0;36m<cell line: 4>\u001b[0;34m()\u001b[0m\n\u001b[1;32m      2\u001b[0m clip_disp[P_st_disp \u001b[38;5;241m<\u001b[39m\u001b[38;5;241m0.05\u001b[39m] \u001b[38;5;241m=\u001b[39m P_st_disp[P_st_disp \u001b[38;5;241m<\u001b[39m\u001b[38;5;241m0.05\u001b[39m]\n\u001b[1;32m      3\u001b[0m pc \u001b[38;5;241m=\u001b[39m plt\u001b[38;5;241m.\u001b[39mpcolormesh(delta_, h_, clip_disp, cmap \u001b[38;5;241m=\u001b[39m \u001b[38;5;124m'\u001b[39m\u001b[38;5;124mBlues\u001b[39m\u001b[38;5;124m'\u001b[39m,)\n\u001b[0;32m----> 4\u001b[0m plt\u001b[38;5;241m.\u001b[39mpcolormesh(delta_, h_, \u001b[43mclip_clust\u001b[49m, cmap \u001b[38;5;241m=\u001b[39m \u001b[38;5;124m'\u001b[39m\u001b[38;5;124mReds\u001b[39m\u001b[38;5;124m'\u001b[39m,alpha \u001b[38;5;241m=\u001b[39m \u001b[38;5;241m0.5\u001b[39m)\n\u001b[1;32m      5\u001b[0m plt\u001b[38;5;241m.\u001b[39mcolorbar(label \u001b[38;5;241m=\u001b[39m \u001b[38;5;124m'\u001b[39m\u001b[38;5;124mP-value\u001b[39m\u001b[38;5;124m'\u001b[39m, cmap \u001b[38;5;241m=\u001b[39m \u001b[38;5;124m'\u001b[39m\u001b[38;5;124mGrays\u001b[39m\u001b[38;5;124m'\u001b[39m)\n\u001b[1;32m      6\u001b[0m plt\u001b[38;5;241m.\u001b[39mclim(\u001b[38;5;241m0\u001b[39m,\u001b[38;5;241m0.05\u001b[39m)\n",
      "\u001b[0;31mNameError\u001b[0m: name 'clip_clust' is not defined"
     ]
    },
    {
     "data": {
      "image/png": "[encoded data removed]",
      "text/plain": [
       "<Figure size 432x288 with 1 Axes>"
      ]
     },
     "metadata": {
      "needs_background": "light"
     },
     "output_type": "display_data"
    }
   ],
   "source": [
    "clip_disp = np.zeros((100,100))\n",
    "clip_disp[P_st_disp <0.05] = P_st_disp[P_st_disp <0.05]\n",
    "pc = plt.pcolormesh(delta_, h_, clip_disp, cmap = 'Blues',)\n",
    "plt.pcolormesh(delta_, h_, clip_clust, cmap = 'Reds',alpha = 0.5)\n",
    "plt.colorbar(label = 'P-value', cmap = 'Grays')\n",
    "plt.clim(0,0.05)\n",
    "plt.xlabel('Time since apoptosis (hours)')\n",
    "plt.ylabel('Distance (microns)')\n",
    "plt.title(f'P-value contour map of space-time clustering (red)\\n and dispersion (blue) of N = {n1} \\nwild-type divisions around N = {n2} \\nfocal apoptosis calculated from N = {N} \\npermutations of time values\\n')\n",
    "#plt.savefig('p-value-division-cluster-dispersion-overlay_100um_10hrs_clipped_p-0.05_fullrange.pdf', bbox_inches = 'tight')"
   ]
  },
  {
   "cell_type": "code",
   "execution_count": 43,
   "id": "321c0818",
   "metadata": {},
   "outputs": [
    {
     "data": {
      "text/plain": [
       "Text(0.5, 1.0, 'P-value contour map of space-time clustering (red)\\n and dispersion (blue) of N = 398511 \\nwild-type divisions around N = 1838 \\nfocal apoptosis calculated from N = 500 \\npermutations of time values\\n')"
      ]
     },
     "execution_count": 43,
     "metadata": {},
     "output_type": "execute_result"
    },
    {
     "data": {
      "image/png": "[encoded data removed]",
      "text/plain": [
       "<Figure size 432x288 with 2 Axes>"
      ]
     },
     "metadata": {
      "needs_background": "light"
     },
     "output_type": "display_data"
    }
   ],
   "source": [
    "\n",
    "pc = plt.pcolormesh(delta_, h_, P_st_disp, cmap = 'Blues',)\n",
    "#plt.pcolormesh(delta_, h_, clip_clust, cmap = 'Reds',alpha = 0.5)\n",
    "plt.colorbar(label = 'P-value', cmap = 'Grays')\n",
    "plt.xlabel('Time since apoptosis (hours)')\n",
    "plt.ylabel('Distance (microns)')\n",
    "plt.title(f'P-value contour map of space-time clustering (red)\\n and dispersion (blue) of N = {n1} \\nwild-type divisions around N = {n2} \\nfocal apoptosis calculated from N = {N} \\npermutations of time values\\n')\n",
    "#plt.savefig('p-value-division-cluster-dispersion-overlay_100um_10hrs_clipped_p-0.05_fullrange.pdf', bbox_inches = 'tight')"
   ]
  },
  {
   "cell_type": "markdown",
   "id": "e72345e7",
   "metadata": {},
   "source": [
    "# ARXIV"
   ]
  },
  {
   "cell_type": "code",
   "execution_count": 139,
   "id": "304e77d4",
   "metadata": {},
   "outputs": [
    {
     "data": {
      "text/plain": [
       "Text(0.5, 1.0, 'P-value contour map of space-time clustering of \\nN = 398511 wild-type divisions around \\nN = 1838 focal apoptosis calculated from \\nN = 759 permutations of time values\\n')"
      ]
     },
     "execution_count": 139,
     "metadata": {},
     "output_type": "execute_result"
    },
    {
     "data": {
      "image/png": "[encoded data removed]",
      "text/plain": [
       "<Figure size 432x288 with 2 Axes>"
      ]
     },
     "metadata": {
      "needs_background": "light"
     },
     "output_type": "display_data"
    }
   ],
   "source": [
    "pc = plt.pcolormesh(delta_, h_, (P_st_clust), cmap = 'Reds_r', )\n",
    "plt.colorbar(label = 'P-value',)\n",
    "plt.xlabel('Time since apoptosis (hours)')\n",
    "plt.ylabel('Distance (microns)')\n",
    "plt.title(f'P-value contour map of space-time clustering of \\nN = {n1} wild-type divisions around \\nN = {n2} focal apoptosis calculated from \\nN = {N} permutations of time values\\n')\n",
    "#plt.savefig('p-value-division-clustering_100um_10hrs.pdf', bbox_inches = 'tight')"
   ]
  },
  {
   "cell_type": "code",
   "execution_count": 36,
   "id": "5ca778d4",
   "metadata": {},
   "outputs": [
    {
     "data": {
      "text/plain": [
       "Text(0.5, 1.0, 'P-value contour map of space-time clustering of \\nN = 398511 wild-type divisions around \\nN = 1838 focal apoptosis calculated from \\nN = 500 permutations of time values\\n')"
      ]
     },
     "execution_count": 36,
     "metadata": {},
     "output_type": "execute_result"
    },
    {
     "data": {
      "image/png": "[encoded data removed]",
      "text/plain": [
       "<Figure size 432x288 with 2 Axes>"
      ]
     },
     "metadata": {
      "needs_background": "light"
     },
     "output_type": "display_data"
    }
   ],
   "source": [
    "pc = plt.pcolormesh(delta_, h_, P_st_clust < 0.1, cmap = 'Reds', )\n",
    "plt.colorbar(label = 'Clipped P-value: 1 if p < 0.1',)\n",
    "plt.xlabel('Time since apoptosis (hours)')\n",
    "plt.ylabel('Distance (microns)')\n",
    "plt.title(f'P-value contour map of space-time clustering of \\nN = {n1} wild-type divisions around \\nN = {n2} focal apoptosis calculated from \\nN = {N} permutations of time values\\n')\n",
    "#plt.savefig('p-value-division-clustering_100um_10hrs_clipped_p-0.05.pdf', bbox_inches = 'tight')"
   ]
  },
  {
   "cell_type": "code",
   "execution_count": 37,
   "id": "f19ace3e",
   "metadata": {},
   "outputs": [
    {
     "data": {
      "text/plain": [
       "Text(0.5, 1.0, 'P-value contour map of space-time clustering of \\nN = 398511 wild-type divisions around \\nN = 1838 focal apoptosis calculated from \\nN = 500 permutations of time values\\n')"
      ]
     },
     "execution_count": 37,
     "metadata": {},
     "output_type": "execute_result"
    },
    {
     "data": {
      "image/png": "[encoded data removed]",
      "text/plain": [
       "<Figure size 432x288 with 2 Axes>"
      ]
     },
     "metadata": {
      "needs_background": "light"
     },
     "output_type": "display_data"
    }
   ],
   "source": [
    "clip_clust = np.zeros((100,100))\n",
    "clip_clust[P_st_clust <0.1] = P_st_clust[P_st_clust <0.1]\n",
    "pc = plt.pcolormesh(delta_, h_, clip_clust, cmap = 'Reds', )\n",
    "plt.colorbar(label = 'Clipped P-value: p < 0.1',)\n",
    "plt.xlabel('Time since apoptosis (hours)')\n",
    "plt.ylabel('Distance (microns)')\n",
    "plt.title(f'P-value contour map of space-time clustering of \\nN = {n1} wild-type divisions around \\nN = {n2} focal apoptosis calculated from \\nN = {N} permutations of time values\\n')\n",
    "#plt.savefig('p-value-division-clustering_100um_10hrs_clipped_p-0.05_fullrange.pdf', bbox_inches = 'tight')"
   ]
  },
  {
   "cell_type": "code",
   "execution_count": 142,
   "id": "b83f3597",
   "metadata": {},
   "outputs": [
    {
     "data": {
      "text/plain": [
       "Text(0.5, 1.0, 'P-value contour map of space-time dispersion of \\nN = 398511 wild-type divisions around \\nN = 1838 focal apoptosis calculated from \\nN = 759 permutations of time values\\n')"
      ]
     },
     "execution_count": 142,
     "metadata": {},
     "output_type": "execute_result"
    },
    {
     "data": {
      "image/png": "[encoded data removed]",
      "text/plain": [
       "<Figure size 432x288 with 2 Axes>"
      ]
     },
     "metadata": {
      "needs_background": "light"
     },
     "output_type": "display_data"
    }
   ],
   "source": [
    "pc = plt.pcolormesh(delta_, h_, P_st_disp, cmap = 'Blues_r', )\n",
    "plt.colorbar(label = 'P-value',)\n",
    "plt.xlabel('Time since apoptosis (hours)')\n",
    "plt.ylabel('Distance (microns)')\n",
    "plt.title(f'P-value contour map of space-time dispersion of \\nN = {n1} wild-type divisions around \\nN = {n2} focal apoptosis calculated from \\nN = {N} permutations of time values\\n')\n",
    "#plt.savefig('p-value-division-dispersion_100um_10hrs.pdf', bbox_inches = 'tight')"
   ]
  },
  {
   "cell_type": "code",
   "execution_count": 143,
   "id": "78cc13bc",
   "metadata": {},
   "outputs": [
    {
     "data": {
      "text/plain": [
       "Text(0.5, 1.0, 'P-value contour map of space-time dispersion of \\nN = 398511 wild-type divisions around \\nN = 1838 focal apoptosis calculated from \\nN = 759 permutations of time values\\n')"
      ]
     },
     "execution_count": 143,
     "metadata": {},
     "output_type": "execute_result"
    },
    {
     "data": {
      "image/png": "[encoded data removed]",
      "text/plain": [
       "<Figure size 432x288 with 2 Axes>"
      ]
     },
     "metadata": {
      "needs_background": "light"
     },
     "output_type": "display_data"
    }
   ],
   "source": [
    "clip_disp = np.zeros((100,100))\n",
    "clip_disp[P_st_disp <0.05] = P_st_disp[P_st_disp <0.05]\n",
    "pc = plt.pcolormesh(delta_, h_, clip_disp, cmap = 'Blues_r', )\n",
    "plt.colorbar(label = 'P-value',)\n",
    "plt.xlabel('Time since apoptosis (hours)')\n",
    "plt.ylabel('Distance (microns)')\n",
    "plt.title(f'P-value contour map of space-time dispersion of \\nN = {n1} wild-type divisions around \\nN = {n2} focal apoptosis calculated from \\nN = {N} permutations of time values\\n')\n",
    "#plt.savefig('p-value-division-dispersion_100um_10hrs_clipped_p-0.05_fullrange.pdf', bbox_inches = 'tight')"
   ]
  },
  {
   "cell_type": "code",
   "execution_count": 144,
   "id": "84cfa798",
   "metadata": {},
   "outputs": [
    {
     "data": {
      "text/plain": [
       "Text(0.5, 1.0, 'P-value contour map of space-time clustering (red)\\n and dispersion (blue) of N = 398511 \\nwild-type divisions around N = 1838 \\nfocal apoptosis calculated from N = 759 \\npermutations of time values\\n')"
      ]
     },
     "execution_count": 144,
     "metadata": {},
     "output_type": "execute_result"
    },
    {
     "data": {
      "image/png": "[encoded data removed]",
      "text/plain": [
       "<Figure size 432x288 with 2 Axes>"
      ]
     },
     "metadata": {
      "needs_background": "light"
     },
     "output_type": "display_data"
    }
   ],
   "source": [
    "clip_disp = np.zeros((100,100))\n",
    "clip_disp[P_st_disp <0.05] = P_st_disp[P_st_disp <0.05]\n",
    "pc = plt.pcolormesh(delta_, h_, clip_disp, cmap = 'Blues',)\n",
    "plt.pcolormesh(delta_, h_, clip_clust, cmap = 'Reds',alpha = 0.5)\n",
    "plt.colorbar(label = 'P-value', cmap = 'Grays')\n",
    "plt.clim(0,0.05)\n",
    "plt.xlabel('Time since apoptosis (hours)')\n",
    "plt.ylabel('Distance (microns)')\n",
    "plt.title(f'P-value contour map of space-time clustering (red)\\n and dispersion (blue) of N = {n1} \\nwild-type divisions around N = {n2} \\nfocal apoptosis calculated from N = {N} \\npermutations of time values\\n')\n",
    "#plt.savefig('p-value-division-cluster-dispersion-overlay_100um_10hrs_clipped_p-0.05_fullrange.pdf', bbox_inches = 'tight')"
   ]
  },
  {
   "cell_type": "code",
   "execution_count": 135,
   "id": "d1c05768",
   "metadata": {},
   "outputs": [
    {
     "data": {
      "text/plain": [
       "Text(0.5, 1.0, 'P-value contour map of space-time clustering (red)\\n and dispersion (blue) of N = 398511 \\nwild-type divisions around N = 1838 \\nfocal apoptosis calculated from N = 1000 \\npermutations of time values\\n')"
      ]
     },
     "execution_count": 135,
     "metadata": {},
     "output_type": "execute_result"
    },
    {
     "data": {
      "image/png": "[encoded data removed]",
      "text/plain": [
       "<Figure size 432x288 with 2 Axes>"
      ]
     },
     "metadata": {
      "needs_background": "light"
     },
     "output_type": "display_data"
    }
   ],
   "source": [
    "\n",
    "pc = plt.pcolormesh(delta_, h_, P_st_disp, cmap = 'Blues',)\n",
    "#plt.pcolormesh(delta_, h_, clip_clust, cmap = 'Reds',alpha = 0.5)\n",
    "plt.colorbar(label = 'P-value', cmap = 'Grays')\n",
    "plt.xlabel('Time since apoptosis (hours)')\n",
    "plt.ylabel('Distance (microns)')\n",
    "plt.title(f'P-value contour map of space-time clustering (red)\\n and dispersion (blue) of N = {n1} \\nwild-type divisions around N = {n2} \\nfocal apoptosis calculated from N = {N} \\npermutations of time values\\n')\n",
    "#plt.savefig('p-value-division-cluster-dispersion-overlay_100um_10hrs_clipped_p-0.05_fullrange.pdf', bbox_inches = 'tight')"
   ]
  }
 ],
 "metadata": {
  "kernelspec": {
   "display_name": "CellX",
   "language": "python",
   "name": "cellx"
  },
  "language_info": {
   "codemirror_mode": {
    "name": "ipython",
    "version": 3
   },
   "file_extension": ".py",
   "mimetype": "text/x-python",
   "name": "python",
   "nbconvert_exporter": "python",
   "pygments_lexer": "ipython3",
   "version": "3.9.7"
  }
 },
 "nbformat": 4,
 "nbformat_minor": 5
}
