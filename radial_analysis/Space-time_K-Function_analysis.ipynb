{
 "cells": [
  {
   "cell_type": "markdown",
   "id": "eb869bf7",
   "metadata": {},
   "source": [
    "# Space-time K-function analysis\n",
    "\n",
    "This time using the webpage cited in the Levayer paper which I ended up finding on web archive.\n",
    "\n",
    "https://web.archive.org/web/20210513032304/https://www.seas.upenn.edu/~ese502/\n",
    "\n",
    "Particularly this chapter:\n",
    "https://web.archive.org/web/20210507072822/https://www.seas.upenn.edu/~ese502/NOTEBOOK/Part_I/6_Space_Time_Processes.pdf"
   ]
  },
  {
   "cell_type": "code",
   "execution_count": 25,
   "id": "112c9ccd",
   "metadata": {},
   "outputs": [],
   "source": [
    "import pandas as pd\n",
    "import numpy as np\n",
    "from tqdm.auto import tqdm\n",
    "from dataio import load_radial_df\n",
    "from render import render_from_df\n",
    "import glob\n",
    "import matplotlib.pyplot as plt\n",
    "%matplotlib inline"
   ]
  },
  {
   "cell_type": "markdown",
   "id": "974644dc",
   "metadata": {},
   "source": [
    "# Space-Time Point Processes\n",
    "\n",
    "Event sequences exhibit space-time clustering if events that are close in space tend to be closer in time than would be expected by chance alone. Consider a space-time pattern of events\n",
    "\n",
    "<img src=\"https://latex.codecogs.com/svg.image?\\left\\{e_{i}=(s_{i},t_{i}:i=1,...,n)&space;\\right\\}\" title=\"eq\" />\n",
    "\n",
    "in region R where s<sub>i</sub> denotes location of an event e<sub>i</sub> in R and t<sub>i</sub> denotes the time at which it occurs. If we are interested in the numbers of events that are close to e<sub>i</sub> then for each spatial distance h and time increment Δ it is natural to define the corresponding space-time neighbourhood of e<sub>i</sub> by the Cartesian product \n",
    "\n",
    "<img src=\"https://latex.codecogs.com/svg.image?C_{(h,&space;\\Delta)}(e_{i})=\\left\\{&space;(s,t):\\left\\|s_{i}&space;-s\\right\\|\\leq&space;h,\\left|t_{i}-t&space;\\right|\\leq&space;\\Delta\\right\\}\" title=\"eq\" />\n",
    "\n",
    "<img src=\"https://latex.codecogs.com/svg.image?=&space;\\left\\{s:\\left\\|s_{i}&space;-s\\right\\|\\leq&space;h\\right\\}&space;\\times&space;\\left\\{t:\\left\\|t_{i}&space;-s\\right\\|\\leq&space;\\Delta\\right\\}\" title=\"eq\" />\n",
    "\n",
    "Which corresponds to cylindrical neighbourhoods in space-time. As in two dimensions, one can define a relevant space-time region as the Cartesian product of RxT, with the default time interval usually taken to be the smallest time interval containing all event times. "
   ]
  },
  {
   "cell_type": "markdown",
   "id": "da9778ea",
   "metadata": {},
   "source": [
    "Thus, the extension of the K-functions is completely straightforward and the space-time indicator functions are the same, but with an added temporal dimension condition.\n",
    "\n",
    "<img src=\"https://latex.codecogs.com/svg.image?I_{(h,&space;\\Delta)}\\left(d_{i&space;j},&space;t_{i&space;j}\\right)=&space;\\begin{cases}1,&space;&&space;\\left(d_{i&space;j}&space;\\leq&space;h\\right)&space;\\text&space;{&space;and&space;}\\left(t_{i&space;j}&space;\\leq&space;\\Delta\\right)&space;\\\\&space;0,&space;&&space;\\text&space;{&space;otherwise&space;}\\end{cases}\">\n",
    "\n",
    "Which results in the space-time K-function of the expected number of addition events within space-time distance (h, Δ) of a randomly selected event as\n",
    "\n",
    "\n",
    "<img src=\"https://latex.codecogs.com/svg.image?K(h,&space;\\Delta)=\\frac{1}{\\lambda_{s&space;t}}&space;\\sum_{j&space;\\neq&space;i}&space;E\\left[I_{(h,&space;\\Delta)}\\left(d_{i&space;j},&space;t_{i&space;j}\\right)\\right]\">\n",
    "\n",
    "For any given pattern of size n, the pooled form of this function is \n",
    "\n",
    "<img src=\"https://latex.codecogs.com/svg.image?K(h,&space;\\Delta)=\\frac{1}{n&space;\\cdot&space;\\lambda_{s&space;t}}&space;\\sum_{i=1}^{n}&space;\\sum_{j&space;\\neq&space;i}&space;E\\left[I_{(h,&space;\\Delta)}\\left(d_{i&space;j},&space;t_{i&space;j}\\right)\\right]\">\n",
    "\n",
    "and this implies that the natural estimator of K(h, Δ) is given by the sample space-time K-function:\n",
    "\n",
    "<img src=\"https://latex.codecogs.com/svg.image?\\hat{K}(h,&space;\\Delta)=\\frac{1}{n&space;\\cdot&space;\\lambda_{s&space;t}}&space;\\sum_{i=1}^{n}&space;\\sum_{j&space;\\neq&space;i}&space;I_{(h,&space;\\Delta)}\\left(d_{i&space;j},&space;t_{i&space;j}\\right)\">\n",
    "\n",
    "Where the sample estimate, lambda_st, of the space-time intensity is given by \n",
    "\n",
    "<img src=\"https://latex.codecogs.com/svg.image?\\hat{\\lambda}_{\\mathrm{st}}=\\frac{n}{a(R)&space;\\cdot\\left(t_{\\max&space;}-t_{\\min&space;}\\right)}\">"
   ]
  },
  {
   "cell_type": "markdown",
   "id": "ab217050",
   "metadata": {},
   "source": [
    "#### Implementing this analysis on a dataset of wild-type division localisations around N = 1 Scribble<sup>KD</sup> apoptosis\n",
    "\n"
   ]
  },
  {
   "cell_type": "code",
   "execution_count": 30,
   "id": "a9c718a9",
   "metadata": {},
   "outputs": [
    {
     "data": {
      "text/plain": [
       "1"
      ]
     },
     "execution_count": 30,
     "metadata": {},
     "output_type": "execute_result"
    }
   ],
   "source": [
    "file_list = glob.glob('/home/nathan/data/results/radial_analysis_output/follow/raw_lists/1600.1600/scr_apop_wt_div_xyt/1600.1600/*')\n",
    "file_list = [file for file in file_list if 'GV0796_Pos3_Scr_-9_' in file and 'events' in file]\n",
    "len(file_list)"
   ]
  },
  {
   "cell_type": "code",
   "execution_count": 31,
   "id": "b07b5548",
   "metadata": {},
   "outputs": [
    {
     "data": {
      "application/vnd.jupyter.widget-view+json": {
       "model_id": "d7be031ea26b4ffca083e0a4a8bb8c1b",
       "version_major": 2,
       "version_minor": 0
      },
      "text/plain": [
       "  0%|          | 0/1 [00:00<?, ?it/s]"
      ]
     },
     "metadata": {},
     "output_type": "display_data"
    },
    {
     "name": "stdout",
     "output_type": "stream",
     "text": [
      "Number of focal cells included in cumulative scan: 1\n"
     ]
    },
    {
     "name": "stderr",
     "output_type": "stream",
     "text": [
      "/home/nathan/analysis/cell-comp-analysis/radial_analysis/dataio.py:90: FutureWarning: The default value of regex will change from True to False in a future version.\n",
      "  df['Cell ID'] = df['Cell ID'].str.replace('[()]', '')\n",
      "/home/nathan/analysis/cell-comp-analysis/radial_analysis/dataio.py:91: FutureWarning: The default value of regex will change from True to False in a future version.\n",
      "  df['y'] = df['y'].str.replace('[()]', '')\n"
     ]
    }
   ],
   "source": [
    "### loading all division localisations regardless of whether or not the scan leaves the FOV etc. (still cropping edge effects and loading all info)\n",
    "df = load_radial_df(file_list, crop_amount = 20, streamline = False)# R = 100, crop_amount = True, streamline = False, strict_filtering = True)"
   ]
  },
  {
   "cell_type": "code",
   "execution_count": 32,
   "id": "b136bf9e",
   "metadata": {},
   "outputs": [],
   "source": [
    "### renaming columns to fit with nomenclature of K-function\n",
    "df = df.rename(columns={'Distance from apoptosis': 'dij', 'Time since apoptosis': 'tij'})"
   ]
  },
  {
   "cell_type": "markdown",
   "id": "7f9ecf2b",
   "metadata": {},
   "source": [
    "The following dataframe shows the distance (dij) and time (tij) of division events from a central focal apoptotic event. "
   ]
  },
  {
   "cell_type": "code",
   "execution_count": 33,
   "id": "4619d51c",
   "metadata": {},
   "outputs": [
    {
     "data": {
      "text/html": [
       "<div>\n",
       "<style scoped>\n",
       "    .dataframe tbody tr th:only-of-type {\n",
       "        vertical-align: middle;\n",
       "    }\n",
       "\n",
       "    .dataframe tbody tr th {\n",
       "        vertical-align: top;\n",
       "    }\n",
       "\n",
       "    .dataframe thead th {\n",
       "        text-align: right;\n",
       "    }\n",
       "</style>\n",
       "<table border=\"1\" class=\"dataframe\">\n",
       "  <thead>\n",
       "    <tr style=\"text-align: right;\">\n",
       "      <th></th>\n",
       "      <th>Cell ID</th>\n",
       "      <th>dij</th>\n",
       "      <th>Frame</th>\n",
       "      <th>x</th>\n",
       "      <th>y</th>\n",
       "      <th>tij</th>\n",
       "      <th>Focal ID</th>\n",
       "    </tr>\n",
       "  </thead>\n",
       "  <tbody>\n",
       "    <tr>\n",
       "      <th>0</th>\n",
       "      <td>100</td>\n",
       "      <td>322.666667</td>\n",
       "      <td>238</td>\n",
       "      <td>683</td>\n",
       "      <td>1126</td>\n",
       "      <td>-14.000000</td>\n",
       "      <td>GV0796_Pos3_Scr_-9</td>\n",
       "    </tr>\n",
       "    <tr>\n",
       "      <th>1</th>\n",
       "      <td>92</td>\n",
       "      <td>287.000000</td>\n",
       "      <td>10</td>\n",
       "      <td>732</td>\n",
       "      <td>841</td>\n",
       "      <td>-29.200000</td>\n",
       "      <td>GV0796_Pos3_Scr_-9</td>\n",
       "    </tr>\n",
       "    <tr>\n",
       "      <th>2</th>\n",
       "      <td>94</td>\n",
       "      <td>353.666667</td>\n",
       "      <td>135</td>\n",
       "      <td>68</td>\n",
       "      <td>1373</td>\n",
       "      <td>-20.866667</td>\n",
       "      <td>GV0796_Pos3_Scr_-9</td>\n",
       "    </tr>\n",
       "    <tr>\n",
       "      <th>3</th>\n",
       "      <td>95</td>\n",
       "      <td>288.000000</td>\n",
       "      <td>17</td>\n",
       "      <td>97</td>\n",
       "      <td>1218</td>\n",
       "      <td>-28.733333</td>\n",
       "      <td>GV0796_Pos3_Scr_-9</td>\n",
       "    </tr>\n",
       "    <tr>\n",
       "      <th>4</th>\n",
       "      <td>97</td>\n",
       "      <td>60.333333</td>\n",
       "      <td>223</td>\n",
       "      <td>78</td>\n",
       "      <td>162</td>\n",
       "      <td>-15.000000</td>\n",
       "      <td>GV0796_Pos3_Scr_-9</td>\n",
       "    </tr>\n",
       "    <tr>\n",
       "      <th>...</th>\n",
       "      <td>...</td>\n",
       "      <td>...</td>\n",
       "      <td>...</td>\n",
       "      <td>...</td>\n",
       "      <td>...</td>\n",
       "      <td>...</td>\n",
       "      <td>...</td>\n",
       "    </tr>\n",
       "    <tr>\n",
       "      <th>742</th>\n",
       "      <td>3621</td>\n",
       "      <td>262.000000</td>\n",
       "      <td>892</td>\n",
       "      <td>151</td>\n",
       "      <td>1149</td>\n",
       "      <td>29.600000</td>\n",
       "      <td>GV0796_Pos3_Scr_-9</td>\n",
       "    </tr>\n",
       "    <tr>\n",
       "      <th>743</th>\n",
       "      <td>4583</td>\n",
       "      <td>125.666667</td>\n",
       "      <td>879</td>\n",
       "      <td>46</td>\n",
       "      <td>707</td>\n",
       "      <td>28.733333</td>\n",
       "      <td>GV0796_Pos3_Scr_-9</td>\n",
       "    </tr>\n",
       "    <tr>\n",
       "      <th>744</th>\n",
       "      <td>4657</td>\n",
       "      <td>243.666667</td>\n",
       "      <td>963</td>\n",
       "      <td>899</td>\n",
       "      <td>132</td>\n",
       "      <td>34.333333</td>\n",
       "      <td>GV0796_Pos3_Scr_-9</td>\n",
       "    </tr>\n",
       "    <tr>\n",
       "      <th>745</th>\n",
       "      <td>4736</td>\n",
       "      <td>60.666667</td>\n",
       "      <td>976</td>\n",
       "      <td>183</td>\n",
       "      <td>184</td>\n",
       "      <td>35.200000</td>\n",
       "      <td>GV0796_Pos3_Scr_-9</td>\n",
       "    </tr>\n",
       "    <tr>\n",
       "      <th>746</th>\n",
       "      <td>5010</td>\n",
       "      <td>122.666667</td>\n",
       "      <td>966</td>\n",
       "      <td>32</td>\n",
       "      <td>39</td>\n",
       "      <td>34.533333</td>\n",
       "      <td>GV0796_Pos3_Scr_-9</td>\n",
       "    </tr>\n",
       "  </tbody>\n",
       "</table>\n",
       "<p>747 rows × 7 columns</p>\n",
       "</div>"
      ],
      "text/plain": [
       "     Cell ID         dij  Frame    x     y        tij            Focal ID\n",
       "0        100  322.666667    238  683  1126 -14.000000  GV0796_Pos3_Scr_-9\n",
       "1         92  287.000000     10  732   841 -29.200000  GV0796_Pos3_Scr_-9\n",
       "2         94  353.666667    135   68  1373 -20.866667  GV0796_Pos3_Scr_-9\n",
       "3         95  288.000000     17   97  1218 -28.733333  GV0796_Pos3_Scr_-9\n",
       "4         97   60.333333    223   78   162 -15.000000  GV0796_Pos3_Scr_-9\n",
       "..       ...         ...    ...  ...   ...        ...                 ...\n",
       "742     3621  262.000000    892  151  1149  29.600000  GV0796_Pos3_Scr_-9\n",
       "743     4583  125.666667    879   46   707  28.733333  GV0796_Pos3_Scr_-9\n",
       "744     4657  243.666667    963  899   132  34.333333  GV0796_Pos3_Scr_-9\n",
       "745     4736   60.666667    976  183   184  35.200000  GV0796_Pos3_Scr_-9\n",
       "746     5010  122.666667    966   32    39  34.533333  GV0796_Pos3_Scr_-9\n",
       "\n",
       "[747 rows x 7 columns]"
      ]
     },
     "execution_count": 33,
     "metadata": {},
     "output_type": "execute_result"
    }
   ],
   "source": [
    "df"
   ]
  },
  {
   "cell_type": "code",
   "execution_count": 34,
   "id": "7a9112dd",
   "metadata": {},
   "outputs": [
    {
     "name": "stdout",
     "output_type": "stream",
     "text": [
      "Total number of division events, n =  747\n",
      "Total number of focal apoptotic events, n =  1\n"
     ]
    }
   ],
   "source": [
    "n1 = len(set(df['Cell ID']))\n",
    "print('Total number of division events, n = ', n1)\n",
    "n2 = len(set(df['Focal ID'])) #len(file_list)\n",
    "print('Total number of focal apoptotic events, n = ', n2)"
   ]
  },
  {
   "cell_type": "code",
   "execution_count": 35,
   "id": "e4a84a6b",
   "metadata": {},
   "outputs": [
    {
     "name": "stdout",
     "output_type": "stream",
     "text": [
      "Default time interval, T =  66.33333333333333\n"
     ]
    }
   ],
   "source": [
    "T = max(df['tij']) - min(df['tij'])\n",
    "print('Default time interval, T = ', T)"
   ]
  },
  {
   "cell_type": "code",
   "execution_count": 36,
   "id": "6b31775d",
   "metadata": {},
   "outputs": [
    {
     "name": "stdout",
     "output_type": "stream",
     "text": [
      "Total area (FOV) in micrometres, a(R) = 200893 microns squared\n"
     ]
    }
   ],
   "source": [
    "x_range = max(df['x']) - min(df['x'])\n",
    "y_range = max(df['y']) - min(df['y'])\n",
    "### convert from pixels to micrometres (/3)\n",
    "a = (x_range/3)*(y_range/3)\n",
    "print('Total area (FOV) in micrometres, a(R) =', round(a), 'microns squared')"
   ]
  },
  {
   "cell_type": "code",
   "execution_count": 37,
   "id": "624a937d",
   "metadata": {},
   "outputs": [
    {
     "name": "stdout",
     "output_type": "stream",
     "text": [
      "Space-time intensity parameter, lambda_st =  5.605614853320163e-05\n",
      "Space-time intensity parameter for division events, lambda_1 =  5.605614853320163e-05\n",
      "Space-time intensity parameter for apoptotic events, lambda_2 =  7.50416981702833e-08\n"
     ]
    }
   ],
   "source": [
    "n = n1\n",
    "lambda_st = n/(a*T)\n",
    "print('Space-time intensity parameter, lambda_st = ', lambda_st)\n",
    "lambda_1 = n1/(a*T)\n",
    "print('Space-time intensity parameter for division events, lambda_1 = ', lambda_1)\n",
    "lambda_2 = n2/(a*T)\n",
    "print('Space-time intensity parameter for apoptotic events, lambda_2 = ', lambda_2)"
   ]
  },
  {
   "cell_type": "code",
   "execution_count": 38,
   "id": "d74ee70a",
   "metadata": {},
   "outputs": [],
   "source": [
    "delta_ = np.linspace(-5,5, 100)\n",
    "h_ = np.linspace(0,100, 100)"
   ]
  },
  {
   "cell_type": "code",
   "execution_count": 39,
   "id": "cc191ef2",
   "metadata": {},
   "outputs": [],
   "source": [
    "def K_st_func(h_, delta_, n, lambda_st, df):\n",
    "    K_st = np.zeros((len(h_), len(delta_)))\n",
    "    for i, h in tqdm(enumerate(h_), total = len(delta_), desc = 'Iterating over space-time'):\n",
    "        for j, delta in enumerate(delta_):\n",
    "                ### if delta is negative, then needs to be greater than or less than zero\n",
    "                if delta < 0:\n",
    "                    K_st[i, j] = (1/(n * lambda_st)) * len(df[((df['tij']) <= 0) & ((df['tij']) >= (delta)) & (df['dij'] <= h)])\n",
    "                ### if delta is positive, then has to be greater than zero less than delta\n",
    "                else: \n",
    "                    K_st[i, j] = (1/(n * lambda_st)) * len(df[((df['tij']) >= 0) & ((df['tij']) <= (delta)) & (df['dij'] <= h)])\n",
    "\n",
    "    return K_st"
   ]
  },
  {
   "cell_type": "code",
   "execution_count": 40,
   "id": "d52ebce3",
   "metadata": {},
   "outputs": [
    {
     "data": {
      "application/vnd.jupyter.widget-view+json": {
       "model_id": "f792958c4b0740349b8d8a7cbecbdc19",
       "version_major": 2,
       "version_minor": 0
      },
      "text/plain": [
       "Iterating over space-time:   0%|          | 0/100 [00:00<?, ?it/s]"
      ]
     },
     "metadata": {},
     "output_type": "display_data"
    }
   ],
   "source": [
    "K_st = K_st_func(h_, delta_, n, lambda_st, df)"
   ]
  },
  {
   "cell_type": "code",
   "execution_count": 44,
   "id": "63b994cd",
   "metadata": {},
   "outputs": [
    {
     "data": {
      "text/plain": [
       "Text(0.5, 1.0, 'Space-time K-function \\n for N = 1 focal apoptosis')"
      ]
     },
     "execution_count": 44,
     "metadata": {},
     "output_type": "execute_result"
    },
    {
     "data": {
      "image/png": "[encoded data removed]",
      "text/plain": [
       "<Figure size 432x288 with 2 Axes>"
      ]
     },
     "metadata": {
      "needs_background": "light"
     },
     "output_type": "display_data"
    }
   ],
   "source": [
    "pc = plt.pcolormesh(delta_, h_, K_st, )\n",
    "plt.colorbar(label = 'Expected number of additional events',)\n",
    "plt.xlabel('Time since apoptosis (hours)')\n",
    "plt.ylabel('Distance from apoptosis (microns)')\n",
    "plt.title('Space-time K-function \\n for N = 1 focal apoptosis')"
   ]
  },
  {
   "cell_type": "markdown",
   "id": "36f24b95",
   "metadata": {},
   "source": [
    "## Temporal indistinguishability hypothesis\n",
    "\n",
    "Random permutations of different time points to see if the K-function patterns still hold."
   ]
  },
  {
   "cell_type": "code",
   "execution_count": 45,
   "id": "485cb926",
   "metadata": {},
   "outputs": [
    {
     "data": {
      "text/html": [
       "<div>\n",
       "<style scoped>\n",
       "    .dataframe tbody tr th:only-of-type {\n",
       "        vertical-align: middle;\n",
       "    }\n",
       "\n",
       "    .dataframe tbody tr th {\n",
       "        vertical-align: top;\n",
       "    }\n",
       "\n",
       "    .dataframe thead th {\n",
       "        text-align: right;\n",
       "    }\n",
       "</style>\n",
       "<table border=\"1\" class=\"dataframe\">\n",
       "  <thead>\n",
       "    <tr style=\"text-align: right;\">\n",
       "      <th></th>\n",
       "      <th>Cell ID</th>\n",
       "      <th>dij</th>\n",
       "      <th>Frame</th>\n",
       "      <th>x</th>\n",
       "      <th>y</th>\n",
       "      <th>tij</th>\n",
       "      <th>Focal ID</th>\n",
       "    </tr>\n",
       "  </thead>\n",
       "  <tbody>\n",
       "    <tr>\n",
       "      <th>0</th>\n",
       "      <td>100</td>\n",
       "      <td>322.666667</td>\n",
       "      <td>238</td>\n",
       "      <td>683</td>\n",
       "      <td>1126</td>\n",
       "      <td>-14.000000</td>\n",
       "      <td>GV0796_Pos3_Scr_-9</td>\n",
       "    </tr>\n",
       "    <tr>\n",
       "      <th>1</th>\n",
       "      <td>92</td>\n",
       "      <td>287.000000</td>\n",
       "      <td>10</td>\n",
       "      <td>732</td>\n",
       "      <td>841</td>\n",
       "      <td>-29.200000</td>\n",
       "      <td>GV0796_Pos3_Scr_-9</td>\n",
       "    </tr>\n",
       "    <tr>\n",
       "      <th>2</th>\n",
       "      <td>94</td>\n",
       "      <td>353.666667</td>\n",
       "      <td>135</td>\n",
       "      <td>68</td>\n",
       "      <td>1373</td>\n",
       "      <td>-20.866667</td>\n",
       "      <td>GV0796_Pos3_Scr_-9</td>\n",
       "    </tr>\n",
       "    <tr>\n",
       "      <th>3</th>\n",
       "      <td>95</td>\n",
       "      <td>288.000000</td>\n",
       "      <td>17</td>\n",
       "      <td>97</td>\n",
       "      <td>1218</td>\n",
       "      <td>-28.733333</td>\n",
       "      <td>GV0796_Pos3_Scr_-9</td>\n",
       "    </tr>\n",
       "    <tr>\n",
       "      <th>4</th>\n",
       "      <td>97</td>\n",
       "      <td>60.333333</td>\n",
       "      <td>223</td>\n",
       "      <td>78</td>\n",
       "      <td>162</td>\n",
       "      <td>-15.000000</td>\n",
       "      <td>GV0796_Pos3_Scr_-9</td>\n",
       "    </tr>\n",
       "    <tr>\n",
       "      <th>...</th>\n",
       "      <td>...</td>\n",
       "      <td>...</td>\n",
       "      <td>...</td>\n",
       "      <td>...</td>\n",
       "      <td>...</td>\n",
       "      <td>...</td>\n",
       "      <td>...</td>\n",
       "    </tr>\n",
       "    <tr>\n",
       "      <th>742</th>\n",
       "      <td>3621</td>\n",
       "      <td>262.000000</td>\n",
       "      <td>892</td>\n",
       "      <td>151</td>\n",
       "      <td>1149</td>\n",
       "      <td>29.600000</td>\n",
       "      <td>GV0796_Pos3_Scr_-9</td>\n",
       "    </tr>\n",
       "    <tr>\n",
       "      <th>743</th>\n",
       "      <td>4583</td>\n",
       "      <td>125.666667</td>\n",
       "      <td>879</td>\n",
       "      <td>46</td>\n",
       "      <td>707</td>\n",
       "      <td>28.733333</td>\n",
       "      <td>GV0796_Pos3_Scr_-9</td>\n",
       "    </tr>\n",
       "    <tr>\n",
       "      <th>744</th>\n",
       "      <td>4657</td>\n",
       "      <td>243.666667</td>\n",
       "      <td>963</td>\n",
       "      <td>899</td>\n",
       "      <td>132</td>\n",
       "      <td>34.333333</td>\n",
       "      <td>GV0796_Pos3_Scr_-9</td>\n",
       "    </tr>\n",
       "    <tr>\n",
       "      <th>745</th>\n",
       "      <td>4736</td>\n",
       "      <td>60.666667</td>\n",
       "      <td>976</td>\n",
       "      <td>183</td>\n",
       "      <td>184</td>\n",
       "      <td>35.200000</td>\n",
       "      <td>GV0796_Pos3_Scr_-9</td>\n",
       "    </tr>\n",
       "    <tr>\n",
       "      <th>746</th>\n",
       "      <td>5010</td>\n",
       "      <td>122.666667</td>\n",
       "      <td>966</td>\n",
       "      <td>32</td>\n",
       "      <td>39</td>\n",
       "      <td>34.533333</td>\n",
       "      <td>GV0796_Pos3_Scr_-9</td>\n",
       "    </tr>\n",
       "  </tbody>\n",
       "</table>\n",
       "<p>747 rows × 7 columns</p>\n",
       "</div>"
      ],
      "text/plain": [
       "     Cell ID         dij  Frame    x     y        tij            Focal ID\n",
       "0        100  322.666667    238  683  1126 -14.000000  GV0796_Pos3_Scr_-9\n",
       "1         92  287.000000     10  732   841 -29.200000  GV0796_Pos3_Scr_-9\n",
       "2         94  353.666667    135   68  1373 -20.866667  GV0796_Pos3_Scr_-9\n",
       "3         95  288.000000     17   97  1218 -28.733333  GV0796_Pos3_Scr_-9\n",
       "4         97   60.333333    223   78   162 -15.000000  GV0796_Pos3_Scr_-9\n",
       "..       ...         ...    ...  ...   ...        ...                 ...\n",
       "742     3621  262.000000    892  151  1149  29.600000  GV0796_Pos3_Scr_-9\n",
       "743     4583  125.666667    879   46   707  28.733333  GV0796_Pos3_Scr_-9\n",
       "744     4657  243.666667    963  899   132  34.333333  GV0796_Pos3_Scr_-9\n",
       "745     4736   60.666667    976  183   184  35.200000  GV0796_Pos3_Scr_-9\n",
       "746     5010  122.666667    966   32    39  34.533333  GV0796_Pos3_Scr_-9\n",
       "\n",
       "[747 rows x 7 columns]"
      ]
     },
     "execution_count": 45,
     "metadata": {},
     "output_type": "execute_result"
    }
   ],
   "source": [
    "df"
   ]
  },
  {
   "cell_type": "markdown",
   "id": "74021168",
   "metadata": {},
   "source": [
    "The cell below mixes the order of the time points of the events for N different permutations, naming the new shuffled time points t<sub>pi</sub> and the indices of the permutations as tau."
   ]
  },
  {
   "cell_type": "code",
   "execution_count": 46,
   "id": "56d124b8",
   "metadata": {
    "scrolled": true
   },
   "outputs": [
    {
     "data": {
      "application/vnd.jupyter.widget-view+json": {
       "model_id": "2904065e62f34540b4e14475ee62981d",
       "version_major": 2,
       "version_minor": 0
      },
      "text/plain": [
       "  0%|          | 0/1000 [00:00<?, ?it/s]"
      ]
     },
     "metadata": {},
     "output_type": "display_data"
    },
    {
     "name": "stderr",
     "output_type": "stream",
     "text": [
      "<ipython-input-46-b49379d3ea8c>:4: PerformanceWarning: DataFrame is highly fragmented.  This is usually the result of calling `frame.insert` many times, which has poor performance.  Consider using pd.concat instead.  To get a de-fragmented frame, use `newframe = frame.copy()`\n",
      "  df[f'tpi τ = {tau}'] = df['tij'].sample(frac=1).reset_index(drop = True)\n"
     ]
    }
   ],
   "source": [
    "### define the number of permutations to make\n",
    "N = 1000\n",
    "for tau in tqdm(range(N)):\n",
    "    df[f'tpi τ = {tau}'] = df['tij'].sample(frac=1).reset_index(drop = True)"
   ]
  },
  {
   "cell_type": "code",
   "execution_count": 47,
   "id": "9bca77c4",
   "metadata": {},
   "outputs": [
    {
     "data": {
      "text/html": [
       "<div>\n",
       "<style scoped>\n",
       "    .dataframe tbody tr th:only-of-type {\n",
       "        vertical-align: middle;\n",
       "    }\n",
       "\n",
       "    .dataframe tbody tr th {\n",
       "        vertical-align: top;\n",
       "    }\n",
       "\n",
       "    .dataframe thead th {\n",
       "        text-align: right;\n",
       "    }\n",
       "</style>\n",
       "<table border=\"1\" class=\"dataframe\">\n",
       "  <thead>\n",
       "    <tr style=\"text-align: right;\">\n",
       "      <th></th>\n",
       "      <th>Cell ID</th>\n",
       "      <th>dij</th>\n",
       "      <th>Frame</th>\n",
       "      <th>x</th>\n",
       "      <th>y</th>\n",
       "      <th>tij</th>\n",
       "      <th>Focal ID</th>\n",
       "      <th>tpi τ = 0</th>\n",
       "      <th>tpi τ = 1</th>\n",
       "      <th>tpi τ = 2</th>\n",
       "      <th>...</th>\n",
       "      <th>tpi τ = 990</th>\n",
       "      <th>tpi τ = 991</th>\n",
       "      <th>tpi τ = 992</th>\n",
       "      <th>tpi τ = 993</th>\n",
       "      <th>tpi τ = 994</th>\n",
       "      <th>tpi τ = 995</th>\n",
       "      <th>tpi τ = 996</th>\n",
       "      <th>tpi τ = 997</th>\n",
       "      <th>tpi τ = 998</th>\n",
       "      <th>tpi τ = 999</th>\n",
       "    </tr>\n",
       "  </thead>\n",
       "  <tbody>\n",
       "    <tr>\n",
       "      <th>0</th>\n",
       "      <td>100</td>\n",
       "      <td>322.666667</td>\n",
       "      <td>238</td>\n",
       "      <td>683</td>\n",
       "      <td>1126</td>\n",
       "      <td>-14.000000</td>\n",
       "      <td>GV0796_Pos3_Scr_-9</td>\n",
       "      <td>4.066667</td>\n",
       "      <td>36.066667</td>\n",
       "      <td>-12.133333</td>\n",
       "      <td>...</td>\n",
       "      <td>-13.066667</td>\n",
       "      <td>-12.533333</td>\n",
       "      <td>-0.200000</td>\n",
       "      <td>23.266667</td>\n",
       "      <td>8.000000</td>\n",
       "      <td>21.066667</td>\n",
       "      <td>17.733333</td>\n",
       "      <td>-2.600000</td>\n",
       "      <td>-1.400000</td>\n",
       "      <td>-8.733333</td>\n",
       "    </tr>\n",
       "    <tr>\n",
       "      <th>1</th>\n",
       "      <td>92</td>\n",
       "      <td>287.000000</td>\n",
       "      <td>10</td>\n",
       "      <td>732</td>\n",
       "      <td>841</td>\n",
       "      <td>-29.200000</td>\n",
       "      <td>GV0796_Pos3_Scr_-9</td>\n",
       "      <td>1.866667</td>\n",
       "      <td>-16.466667</td>\n",
       "      <td>-1.200000</td>\n",
       "      <td>...</td>\n",
       "      <td>23.400000</td>\n",
       "      <td>2.200000</td>\n",
       "      <td>5.400000</td>\n",
       "      <td>20.866667</td>\n",
       "      <td>13.200000</td>\n",
       "      <td>14.066667</td>\n",
       "      <td>-13.533333</td>\n",
       "      <td>11.600000</td>\n",
       "      <td>20.866667</td>\n",
       "      <td>21.800000</td>\n",
       "    </tr>\n",
       "    <tr>\n",
       "      <th>2</th>\n",
       "      <td>94</td>\n",
       "      <td>353.666667</td>\n",
       "      <td>135</td>\n",
       "      <td>68</td>\n",
       "      <td>1373</td>\n",
       "      <td>-20.866667</td>\n",
       "      <td>GV0796_Pos3_Scr_-9</td>\n",
       "      <td>7.133333</td>\n",
       "      <td>-6.333333</td>\n",
       "      <td>-16.733333</td>\n",
       "      <td>...</td>\n",
       "      <td>17.133333</td>\n",
       "      <td>24.600000</td>\n",
       "      <td>17.266667</td>\n",
       "      <td>-11.866667</td>\n",
       "      <td>5.733333</td>\n",
       "      <td>5.466667</td>\n",
       "      <td>-12.666667</td>\n",
       "      <td>-27.666667</td>\n",
       "      <td>-12.400000</td>\n",
       "      <td>23.733333</td>\n",
       "    </tr>\n",
       "    <tr>\n",
       "      <th>3</th>\n",
       "      <td>95</td>\n",
       "      <td>288.000000</td>\n",
       "      <td>17</td>\n",
       "      <td>97</td>\n",
       "      <td>1218</td>\n",
       "      <td>-28.733333</td>\n",
       "      <td>GV0796_Pos3_Scr_-9</td>\n",
       "      <td>0.400000</td>\n",
       "      <td>2.266667</td>\n",
       "      <td>10.466667</td>\n",
       "      <td>...</td>\n",
       "      <td>35.333333</td>\n",
       "      <td>19.466667</td>\n",
       "      <td>16.266667</td>\n",
       "      <td>-17.400000</td>\n",
       "      <td>11.666667</td>\n",
       "      <td>-12.600000</td>\n",
       "      <td>30.733333</td>\n",
       "      <td>-11.666667</td>\n",
       "      <td>19.933333</td>\n",
       "      <td>19.666667</td>\n",
       "    </tr>\n",
       "    <tr>\n",
       "      <th>4</th>\n",
       "      <td>97</td>\n",
       "      <td>60.333333</td>\n",
       "      <td>223</td>\n",
       "      <td>78</td>\n",
       "      <td>162</td>\n",
       "      <td>-15.000000</td>\n",
       "      <td>GV0796_Pos3_Scr_-9</td>\n",
       "      <td>-7.333333</td>\n",
       "      <td>18.133333</td>\n",
       "      <td>-3.133333</td>\n",
       "      <td>...</td>\n",
       "      <td>-5.533333</td>\n",
       "      <td>18.400000</td>\n",
       "      <td>-14.133333</td>\n",
       "      <td>-9.733333</td>\n",
       "      <td>-0.800000</td>\n",
       "      <td>27.600000</td>\n",
       "      <td>20.866667</td>\n",
       "      <td>2.200000</td>\n",
       "      <td>19.000000</td>\n",
       "      <td>-16.933333</td>\n",
       "    </tr>\n",
       "    <tr>\n",
       "      <th>...</th>\n",
       "      <td>...</td>\n",
       "      <td>...</td>\n",
       "      <td>...</td>\n",
       "      <td>...</td>\n",
       "      <td>...</td>\n",
       "      <td>...</td>\n",
       "      <td>...</td>\n",
       "      <td>...</td>\n",
       "      <td>...</td>\n",
       "      <td>...</td>\n",
       "      <td>...</td>\n",
       "      <td>...</td>\n",
       "      <td>...</td>\n",
       "      <td>...</td>\n",
       "      <td>...</td>\n",
       "      <td>...</td>\n",
       "      <td>...</td>\n",
       "      <td>...</td>\n",
       "      <td>...</td>\n",
       "      <td>...</td>\n",
       "      <td>...</td>\n",
       "    </tr>\n",
       "    <tr>\n",
       "      <th>742</th>\n",
       "      <td>3621</td>\n",
       "      <td>262.000000</td>\n",
       "      <td>892</td>\n",
       "      <td>151</td>\n",
       "      <td>1149</td>\n",
       "      <td>29.600000</td>\n",
       "      <td>GV0796_Pos3_Scr_-9</td>\n",
       "      <td>17.266667</td>\n",
       "      <td>5.266667</td>\n",
       "      <td>19.200000</td>\n",
       "      <td>...</td>\n",
       "      <td>-0.266667</td>\n",
       "      <td>17.066667</td>\n",
       "      <td>-0.133333</td>\n",
       "      <td>-13.733333</td>\n",
       "      <td>1.600000</td>\n",
       "      <td>23.200000</td>\n",
       "      <td>4.200000</td>\n",
       "      <td>33.133333</td>\n",
       "      <td>31.200000</td>\n",
       "      <td>3.933333</td>\n",
       "    </tr>\n",
       "    <tr>\n",
       "      <th>743</th>\n",
       "      <td>4583</td>\n",
       "      <td>125.666667</td>\n",
       "      <td>879</td>\n",
       "      <td>46</td>\n",
       "      <td>707</td>\n",
       "      <td>28.733333</td>\n",
       "      <td>GV0796_Pos3_Scr_-9</td>\n",
       "      <td>-14.400000</td>\n",
       "      <td>21.800000</td>\n",
       "      <td>16.200000</td>\n",
       "      <td>...</td>\n",
       "      <td>-1.066667</td>\n",
       "      <td>-25.466667</td>\n",
       "      <td>-28.533333</td>\n",
       "      <td>-16.400000</td>\n",
       "      <td>12.333333</td>\n",
       "      <td>-10.933333</td>\n",
       "      <td>-14.933333</td>\n",
       "      <td>-4.733333</td>\n",
       "      <td>11.866667</td>\n",
       "      <td>5.466667</td>\n",
       "    </tr>\n",
       "    <tr>\n",
       "      <th>744</th>\n",
       "      <td>4657</td>\n",
       "      <td>243.666667</td>\n",
       "      <td>963</td>\n",
       "      <td>899</td>\n",
       "      <td>132</td>\n",
       "      <td>34.333333</td>\n",
       "      <td>GV0796_Pos3_Scr_-9</td>\n",
       "      <td>7.200000</td>\n",
       "      <td>-15.266667</td>\n",
       "      <td>7.200000</td>\n",
       "      <td>...</td>\n",
       "      <td>-13.466667</td>\n",
       "      <td>-0.533333</td>\n",
       "      <td>2.933333</td>\n",
       "      <td>20.733333</td>\n",
       "      <td>16.400000</td>\n",
       "      <td>-3.133333</td>\n",
       "      <td>23.200000</td>\n",
       "      <td>25.200000</td>\n",
       "      <td>22.333333</td>\n",
       "      <td>2.200000</td>\n",
       "    </tr>\n",
       "    <tr>\n",
       "      <th>745</th>\n",
       "      <td>4736</td>\n",
       "      <td>60.666667</td>\n",
       "      <td>976</td>\n",
       "      <td>183</td>\n",
       "      <td>184</td>\n",
       "      <td>35.200000</td>\n",
       "      <td>GV0796_Pos3_Scr_-9</td>\n",
       "      <td>9.400000</td>\n",
       "      <td>20.466667</td>\n",
       "      <td>-5.400000</td>\n",
       "      <td>...</td>\n",
       "      <td>-6.266667</td>\n",
       "      <td>28.733333</td>\n",
       "      <td>-29.200000</td>\n",
       "      <td>-5.666667</td>\n",
       "      <td>1.733333</td>\n",
       "      <td>0.066667</td>\n",
       "      <td>18.133333</td>\n",
       "      <td>-13.400000</td>\n",
       "      <td>-13.533333</td>\n",
       "      <td>27.733333</td>\n",
       "    </tr>\n",
       "    <tr>\n",
       "      <th>746</th>\n",
       "      <td>5010</td>\n",
       "      <td>122.666667</td>\n",
       "      <td>966</td>\n",
       "      <td>32</td>\n",
       "      <td>39</td>\n",
       "      <td>34.533333</td>\n",
       "      <td>GV0796_Pos3_Scr_-9</td>\n",
       "      <td>17.733333</td>\n",
       "      <td>-28.200000</td>\n",
       "      <td>-28.333333</td>\n",
       "      <td>...</td>\n",
       "      <td>28.466667</td>\n",
       "      <td>1.533333</td>\n",
       "      <td>29.600000</td>\n",
       "      <td>16.000000</td>\n",
       "      <td>35.733333</td>\n",
       "      <td>22.666667</td>\n",
       "      <td>-3.666667</td>\n",
       "      <td>21.266667</td>\n",
       "      <td>35.333333</td>\n",
       "      <td>-28.533333</td>\n",
       "    </tr>\n",
       "  </tbody>\n",
       "</table>\n",
       "<p>747 rows × 1007 columns</p>\n",
       "</div>"
      ],
      "text/plain": [
       "     Cell ID         dij  Frame    x     y        tij            Focal ID  \\\n",
       "0        100  322.666667    238  683  1126 -14.000000  GV0796_Pos3_Scr_-9   \n",
       "1         92  287.000000     10  732   841 -29.200000  GV0796_Pos3_Scr_-9   \n",
       "2         94  353.666667    135   68  1373 -20.866667  GV0796_Pos3_Scr_-9   \n",
       "3         95  288.000000     17   97  1218 -28.733333  GV0796_Pos3_Scr_-9   \n",
       "4         97   60.333333    223   78   162 -15.000000  GV0796_Pos3_Scr_-9   \n",
       "..       ...         ...    ...  ...   ...        ...                 ...   \n",
       "742     3621  262.000000    892  151  1149  29.600000  GV0796_Pos3_Scr_-9   \n",
       "743     4583  125.666667    879   46   707  28.733333  GV0796_Pos3_Scr_-9   \n",
       "744     4657  243.666667    963  899   132  34.333333  GV0796_Pos3_Scr_-9   \n",
       "745     4736   60.666667    976  183   184  35.200000  GV0796_Pos3_Scr_-9   \n",
       "746     5010  122.666667    966   32    39  34.533333  GV0796_Pos3_Scr_-9   \n",
       "\n",
       "     tpi τ = 0  tpi τ = 1  tpi τ = 2  ...  tpi τ = 990  tpi τ = 991  \\\n",
       "0     4.066667  36.066667 -12.133333  ...   -13.066667   -12.533333   \n",
       "1     1.866667 -16.466667  -1.200000  ...    23.400000     2.200000   \n",
       "2     7.133333  -6.333333 -16.733333  ...    17.133333    24.600000   \n",
       "3     0.400000   2.266667  10.466667  ...    35.333333    19.466667   \n",
       "4    -7.333333  18.133333  -3.133333  ...    -5.533333    18.400000   \n",
       "..         ...        ...        ...  ...          ...          ...   \n",
       "742  17.266667   5.266667  19.200000  ...    -0.266667    17.066667   \n",
       "743 -14.400000  21.800000  16.200000  ...    -1.066667   -25.466667   \n",
       "744   7.200000 -15.266667   7.200000  ...   -13.466667    -0.533333   \n",
       "745   9.400000  20.466667  -5.400000  ...    -6.266667    28.733333   \n",
       "746  17.733333 -28.200000 -28.333333  ...    28.466667     1.533333   \n",
       "\n",
       "     tpi τ = 992  tpi τ = 993  tpi τ = 994  tpi τ = 995  tpi τ = 996  \\\n",
       "0      -0.200000    23.266667     8.000000    21.066667    17.733333   \n",
       "1       5.400000    20.866667    13.200000    14.066667   -13.533333   \n",
       "2      17.266667   -11.866667     5.733333     5.466667   -12.666667   \n",
       "3      16.266667   -17.400000    11.666667   -12.600000    30.733333   \n",
       "4     -14.133333    -9.733333    -0.800000    27.600000    20.866667   \n",
       "..           ...          ...          ...          ...          ...   \n",
       "742    -0.133333   -13.733333     1.600000    23.200000     4.200000   \n",
       "743   -28.533333   -16.400000    12.333333   -10.933333   -14.933333   \n",
       "744     2.933333    20.733333    16.400000    -3.133333    23.200000   \n",
       "745   -29.200000    -5.666667     1.733333     0.066667    18.133333   \n",
       "746    29.600000    16.000000    35.733333    22.666667    -3.666667   \n",
       "\n",
       "     tpi τ = 997  tpi τ = 998  tpi τ = 999  \n",
       "0      -2.600000    -1.400000    -8.733333  \n",
       "1      11.600000    20.866667    21.800000  \n",
       "2     -27.666667   -12.400000    23.733333  \n",
       "3     -11.666667    19.933333    19.666667  \n",
       "4       2.200000    19.000000   -16.933333  \n",
       "..           ...          ...          ...  \n",
       "742    33.133333    31.200000     3.933333  \n",
       "743    -4.733333    11.866667     5.466667  \n",
       "744    25.200000    22.333333     2.200000  \n",
       "745   -13.400000   -13.533333    27.733333  \n",
       "746    21.266667    35.333333   -28.533333  \n",
       "\n",
       "[747 rows x 1007 columns]"
      ]
     },
     "execution_count": 47,
     "metadata": {},
     "output_type": "execute_result"
    }
   ],
   "source": [
    "df"
   ]
  },
  {
   "cell_type": "code",
   "execution_count": 13,
   "id": "2553a012",
   "metadata": {},
   "outputs": [],
   "source": [
    "def K_st_tau_func(h_, delta_, n, lambda_st, df, tau):\n",
    "    K_st_tau = np.zeros((len(h_), len(delta_)))\n",
    "    for i, h in enumerate(h_):\n",
    "        for j, delta in (enumerate(delta_)):#, total = len(delta_), desc = 'Iterating over space-time'):\n",
    "            ### if delta is negative, then needs to be greater than or less than zero\n",
    "            if delta < 0:\n",
    "                K_st_tau[i, j] = (1/(n * lambda_st)) * len(df[((df[f'tpi τ = {tau}']) <= 0) & ((df['tij']) >= (delta)) & (df['dij'] <= h)])\n",
    "            ### if delta is positive, then has to be greater than zero less than delta\n",
    "            else: \n",
    "                K_st_tau[i, j] = (1/(n * lambda_st)) * len(df[((df[f'tpi τ = {tau}']) >= 0) & ((df['tij']) <= (delta)) & (df['dij'] <= h)])\n",
    "\n",
    "    return K_st_tau"
   ]
  },
  {
   "cell_type": "markdown",
   "id": "fa68a556",
   "metadata": {},
   "source": [
    "Now calculating the space-time K-function for each permutation of time points"
   ]
  },
  {
   "cell_type": "code",
   "execution_count": null,
   "id": "a489e30c",
   "metadata": {
    "scrolled": true
   },
   "outputs": [],
   "source": [
    "K_st_tau = {}\n",
    "for tau in tqdm(range(N), desc = 'Progress through tau'):\n",
    "#     if tau in K_st_tau.keys():\n",
    "#         continue\n",
    "    K_st_tau[tau] = K_st_tau_func(h_, delta_, n, lambda_st, df, tau)"
   ]
  },
  {
   "cell_type": "markdown",
   "id": "d1cdaa54",
   "metadata": {},
   "source": [
    "Checking to see if any two of the randomly time-indices-switched K-function arrays are identical (they should not be)"
   ]
  },
  {
   "cell_type": "code",
   "execution_count": 190,
   "id": "d6b9177f",
   "metadata": {},
   "outputs": [],
   "source": [
    "def arrays_equal(a, b):\n",
    "    if a.shape != b.shape:\n",
    "        return False\n",
    "    for ai, bi in zip(a.flat, b.flat):\n",
    "        if ai != bi:\n",
    "            return False\n",
    "    return True"
   ]
  },
  {
   "cell_type": "code",
   "execution_count": 195,
   "id": "d3ff4d41",
   "metadata": {},
   "outputs": [
    {
     "data": {
      "application/vnd.jupyter.widget-view+json": {
       "model_id": "",
       "version_major": 2,
       "version_minor": 0
      },
      "text/plain": [
       "  0%|          | 0/499500 [00:00<?, ?it/s]"
      ]
     },
     "metadata": {},
     "output_type": "display_data"
    }
   ],
   "source": [
    "import itertools\n",
    "for a, b in tqdm(itertools.combinations(K_st_tau, 2), total = 499500):\n",
    "    array1 = K_st_tau[a]\n",
    "    array2 = K_st_tau[b]\n",
    "    if arrays_equal(array1, array2) == True:\n",
    "        print(a, b, 'are equal')"
   ]
  },
  {
   "cell_type": "markdown",
   "id": "f71ee34f",
   "metadata": {},
   "source": [
    "Saving out space-time K-function permutations"
   ]
  },
  {
   "cell_type": "code",
   "execution_count": 196,
   "id": "8ad48079",
   "metadata": {},
   "outputs": [],
   "source": [
    "import pickle\n",
    "with open('K_st_tau_1000.pkl', 'wb') as f:\n",
    "    pickle.dump(K_st_tau, f)"
   ]
  },
  {
   "cell_type": "markdown",
   "id": "8ae9fecd",
   "metadata": {},
   "source": [
    "## Random labelling test\n",
    "\n",
    "For the observed sample space-time K-function (K_st), under temporal indistinguishability hypothesis each observed value should be a typical sample from the list of values of the simulated random relabelings (K_st_tau). \n",
    "If we let M0_plus denote the number of simulated random relabellings where\n",
    "![original image](https://cdn.mathpix.com/snip/images/Wvkoq-491AhCE2m_G6zGw_L_3ED-5hRLSt7cNqDAC5M.original.fullsize.png)\n",
    "\n",
    "then the probability of obtaining a value as large as the observed K-function value under this hypothesis is estimated by the space-time clustering p-value\n",
    "\n",
    "![original image](https://cdn.mathpix.com/snip/images/526PhmFLMC_EuYZD2w1DfvWRy6jzb4JdlYYX_LGj0II.original.fullsize.png)\n",
    "\n",
    "Similarly, if we let M0_minus denote the number of simulated random relabelling with \n",
    "\n",
    "![original image](https://cdn.mathpix.com/snip/images/ggXq7evPggixcgZ_Fi-46YcEWPo77kqt_-dkqGqwgqw.original.fullsize.png)\n",
    "\n",
    "then the estimated probaility of obtaining a value as small as the original observed K-function under this hypothesis is given by the space-time dispersion p-value\n",
    "\n",
    "![original image](https://cdn.mathpix.com/snip/images/FC8MktUTmWsfNpj8lo4j4eewvhiOyZhsaxH5egDg6ME.original.fullsize.png)"
   ]
  },
  {
   "cell_type": "code",
   "execution_count": null,
   "id": "906b87eb",
   "metadata": {
    "scrolled": true
   },
   "outputs": [],
   "source": [
    "N = 1000#len(K_st_tau)\n",
    "P_st_clust = np.zeros(K_st.shape)\n",
    "P_st_disp = np.zeros(K_st.shape)\n",
    "\n",
    "for i, h in enumerate(tqdm(h_, total = len(h_))):\n",
    "    for j, delta in enumerate(delta_):\n",
    "        M0_plus = len([tau for tau in K_st_tau if K_st_tau[tau][i,j] >= K_st[i,j]])\n",
    "        P_st_clust[i,j] = (M0_plus + 1)/(N+1)\n",
    "        M0_minus = len([tau for tau in K_st_tau if K_st_tau[tau][i,j] <= K_st[i,j]])\n",
    "        P_st_disp[i,j] = (M0_minus + 1)/(N+1)\n",
    "    "
   ]
  },
  {
   "cell_type": "code",
   "execution_count": 231,
   "id": "162c2b07",
   "metadata": {},
   "outputs": [
    {
     "data": {
      "text/plain": [
       "Text(0.5, 1.0, 'Space-time clustering p-value contour map \\n for N = 1 focal apoptosis')"
      ]
     },
     "execution_count": 231,
     "metadata": {},
     "output_type": "execute_result"
    },
    {
     "data": {
      "image/png": "[encoded data removed]",
      "text/plain": [
       "<Figure size 432x288 with 2 Axes>"
      ]
     },
     "metadata": {
      "needs_background": "light"
     },
     "output_type": "display_data"
    }
   ],
   "source": [
    "pc = plt.pcolormesh(delta_, h_, P_st_clust, cmap = 'Reds', )\n",
    "plt.colorbar(label = 'P-value',)\n",
    "plt.xlabel('Time since apoptosis (hours)')\n",
    "plt.ylabel('Distance (microns)')\n",
    "plt.title('Space-time clustering p-value contour map \\n for N = 1 focal apoptosis')"
   ]
  },
  {
   "cell_type": "code",
   "execution_count": 235,
   "id": "5afa6610",
   "metadata": {},
   "outputs": [
    {
     "data": {
      "text/plain": [
       "Text(0.5, 1.0, 'Space-time dispersion p-value contour map \\n for N = 1 focal apoptosis')"
      ]
     },
     "execution_count": 235,
     "metadata": {},
     "output_type": "execute_result"
    },
    {
     "data": {
      "image/png": "[encoded data removed]",
      "text/plain": [
       "<Figure size 432x288 with 2 Axes>"
      ]
     },
     "metadata": {
      "needs_background": "light"
     },
     "output_type": "display_data"
    }
   ],
   "source": [
    "pc = plt.pcolormesh(delta_, h_, P_st_disp, cmap = 'Blues_r', )\n",
    "plt.colorbar(label = 'P-value',)\n",
    "plt.xlabel('Time since apoptosis (hours)')\n",
    "plt.ylabel('Distance (microns)')\n",
    "plt.title('Space-time dispersion p-value contour map \\n for N = 1 focal apoptosis')"
   ]
  },
  {
   "cell_type": "markdown",
   "id": "2065133d",
   "metadata": {},
   "source": [
    "Cropped dispersion p-value plot showing a more accurate range of values for the furthest distances ie. d = 80-100 microns, across all time."
   ]
  },
  {
   "cell_type": "code",
   "execution_count": 219,
   "id": "2e59e363",
   "metadata": {},
   "outputs": [
    {
     "data": {
      "text/plain": [
       "<matplotlib.colorbar.Colorbar at 0x7f871990cfd0>"
      ]
     },
     "execution_count": 219,
     "metadata": {},
     "output_type": "execute_result"
    },
    {
     "data": {
      "image/png": "[encoded data removed]",
      "text/plain": [
       "<Figure size 432x288 with 2 Axes>"
      ]
     },
     "metadata": {
      "needs_background": "light"
     },
     "output_type": "display_data"
    }
   ],
   "source": [
    "plt.imshow(P_st_disp[80:100,:])\n",
    "plt.colorbar()"
   ]
  },
  {
   "cell_type": "markdown",
   "id": "34807039",
   "metadata": {},
   "source": [
    "These plots seem to suggest no strong clustering but there is evidence for dispersion beyond the immediate local neighbourhood across all time. The dispersion plot indicates that there might be significantly less instances of division events occuring in neighbourhoods further away than would be detected under the temporal indistinguishability hypothesis. Not going to dwell too long on the conclusion of this analysis as it is only N=1, instead I need to scale up to all central focal events."
   ]
  },
  {
   "cell_type": "markdown",
   "id": "325101c8",
   "metadata": {},
   "source": [
    "# Repeating analysis but over cumulative K-function measure...\n",
    "\n",
    "Will surely need to generate new K-function tau values, ie. randomly swap the time indices of all new events found in cumulative measure. This could take ages. \n",
    "\n",
    "But how do I cumulatively measure a K-function? Assume all central focal events are the same single event? But then I have repeat measures of division events occurring... But the relevant distances to each focal event for each division event will be different, so not strictly a repeat measurement."
   ]
  },
  {
   "cell_type": "code",
   "execution_count": 49,
   "id": "7965b592",
   "metadata": {},
   "outputs": [
    {
     "data": {
      "text/plain": [
       "1839"
      ]
     },
     "execution_count": 49,
     "metadata": {},
     "output_type": "execute_result"
    }
   ],
   "source": [
    "file_list = glob.glob('/home/nathan/data/results/radial_analysis_output/follow/raw_lists/1600.1600/scr_apop_wt_div_xyt/1600.1600/*')\n",
    "file_list = [file for file in file_list if 'events' in file]\n",
    "len(file_list)"
   ]
  },
  {
   "cell_type": "code",
   "execution_count": 50,
   "id": "a96a7892",
   "metadata": {},
   "outputs": [
    {
     "data": {
      "application/vnd.jupyter.widget-view+json": {
       "model_id": "535b57243c1f4dc68e0c07998c19d95d",
       "version_major": 2,
       "version_minor": 0
      },
      "text/plain": [
       "  0%|          | 0/1839 [00:00<?, ?it/s]"
      ]
     },
     "metadata": {},
     "output_type": "display_data"
    },
    {
     "name": "stderr",
     "output_type": "stream",
     "text": [
      "/home/nathan/analysis/cell-comp-analysis/radial_analysis/dataio.py:90: FutureWarning: The default value of regex will change from True to False in a future version.\n",
      "  df['Cell ID'] = df['Cell ID'].str.replace('[()]', '')\n",
      "/home/nathan/analysis/cell-comp-analysis/radial_analysis/dataio.py:91: FutureWarning: The default value of regex will change from True to False in a future version.\n",
      "  df['y'] = df['y'].str.replace('[()]', '')\n"
     ]
    },
    {
     "name": "stdout",
     "output_type": "stream",
     "text": [
      "Number of focal cells included in cumulative scan: 1839\n"
     ]
    }
   ],
   "source": [
    "### loading all division localisations regardless of whether or not the scan leaves the FOV etc. (still cropping edge effects and loading all info)\n",
    "df = load_radial_df(file_list, crop_amount = 20, streamline = False)# R = 100, crop_amount = True, streamline = False, strict_filtering = True)"
   ]
  },
  {
   "cell_type": "code",
   "execution_count": 51,
   "id": "5f238b6e",
   "metadata": {},
   "outputs": [],
   "source": [
    "### renaming columns to fit with nomenclature of K-function\n",
    "df = df.rename(columns={'Distance from apoptosis': 'dij', 'Time since apoptosis': 'tij'})"
   ]
  },
  {
   "cell_type": "code",
   "execution_count": 52,
   "id": "ede43c18",
   "metadata": {},
   "outputs": [
    {
     "data": {
      "text/html": [
       "<div>\n",
       "<style scoped>\n",
       "    .dataframe tbody tr th:only-of-type {\n",
       "        vertical-align: middle;\n",
       "    }\n",
       "\n",
       "    .dataframe tbody tr th {\n",
       "        vertical-align: top;\n",
       "    }\n",
       "\n",
       "    .dataframe thead th {\n",
       "        text-align: right;\n",
       "    }\n",
       "</style>\n",
       "<table border=\"1\" class=\"dataframe\">\n",
       "  <thead>\n",
       "    <tr style=\"text-align: right;\">\n",
       "      <th></th>\n",
       "      <th>Cell ID</th>\n",
       "      <th>dij</th>\n",
       "      <th>Frame</th>\n",
       "      <th>x</th>\n",
       "      <th>y</th>\n",
       "      <th>tij</th>\n",
       "      <th>Focal ID</th>\n",
       "    </tr>\n",
       "  </thead>\n",
       "  <tbody>\n",
       "    <tr>\n",
       "      <th>0</th>\n",
       "      <td>709</td>\n",
       "      <td>178.333333</td>\n",
       "      <td>1072</td>\n",
       "      <td>856</td>\n",
       "      <td>1327</td>\n",
       "      <td>5.133333</td>\n",
       "      <td>GV0819_Pos3_Scr_-1735</td>\n",
       "    </tr>\n",
       "    <tr>\n",
       "      <th>1</th>\n",
       "      <td>856</td>\n",
       "      <td>186.333333</td>\n",
       "      <td>976</td>\n",
       "      <td>746</td>\n",
       "      <td>1416</td>\n",
       "      <td>-1.266667</td>\n",
       "      <td>GV0819_Pos3_Scr_-1735</td>\n",
       "    </tr>\n",
       "    <tr>\n",
       "      <th>2</th>\n",
       "      <td>966</td>\n",
       "      <td>30.333333</td>\n",
       "      <td>1059</td>\n",
       "      <td>552</td>\n",
       "      <td>816</td>\n",
       "      <td>4.266667</td>\n",
       "      <td>GV0819_Pos3_Scr_-1735</td>\n",
       "    </tr>\n",
       "    <tr>\n",
       "      <th>3</th>\n",
       "      <td>979</td>\n",
       "      <td>280.666667</td>\n",
       "      <td>999</td>\n",
       "      <td>256</td>\n",
       "      <td>107</td>\n",
       "      <td>0.266667</td>\n",
       "      <td>GV0819_Pos3_Scr_-1735</td>\n",
       "    </tr>\n",
       "    <tr>\n",
       "      <th>4</th>\n",
       "      <td>1039</td>\n",
       "      <td>241.333333</td>\n",
       "      <td>1023</td>\n",
       "      <td>1052</td>\n",
       "      <td>1405</td>\n",
       "      <td>1.866667</td>\n",
       "      <td>GV0819_Pos3_Scr_-1735</td>\n",
       "    </tr>\n",
       "    <tr>\n",
       "      <th>...</th>\n",
       "      <td>...</td>\n",
       "      <td>...</td>\n",
       "      <td>...</td>\n",
       "      <td>...</td>\n",
       "      <td>...</td>\n",
       "      <td>...</td>\n",
       "      <td>...</td>\n",
       "    </tr>\n",
       "    <tr>\n",
       "      <th>398506</th>\n",
       "      <td>1686</td>\n",
       "      <td>183.666667</td>\n",
       "      <td>1159</td>\n",
       "      <td>832</td>\n",
       "      <td>842</td>\n",
       "      <td>0.933333</td>\n",
       "      <td>GV0819_Pos2_Scr_-490</td>\n",
       "    </tr>\n",
       "    <tr>\n",
       "      <th>398507</th>\n",
       "      <td>1687</td>\n",
       "      <td>172.000000</td>\n",
       "      <td>1149</td>\n",
       "      <td>803</td>\n",
       "      <td>885</td>\n",
       "      <td>0.266667</td>\n",
       "      <td>GV0819_Pos2_Scr_-490</td>\n",
       "    </tr>\n",
       "    <tr>\n",
       "      <th>398508</th>\n",
       "      <td>1731</td>\n",
       "      <td>318.333333</td>\n",
       "      <td>941</td>\n",
       "      <td>155</td>\n",
       "      <td>25</td>\n",
       "      <td>-13.600000</td>\n",
       "      <td>GV0819_Pos2_Scr_-490</td>\n",
       "    </tr>\n",
       "    <tr>\n",
       "      <th>398509</th>\n",
       "      <td>1765</td>\n",
       "      <td>194.333333</td>\n",
       "      <td>1112</td>\n",
       "      <td>871</td>\n",
       "      <td>1037</td>\n",
       "      <td>-2.200000</td>\n",
       "      <td>GV0819_Pos2_Scr_-490</td>\n",
       "    </tr>\n",
       "    <tr>\n",
       "      <th>398510</th>\n",
       "      <td>2370</td>\n",
       "      <td>317.333333</td>\n",
       "      <td>1055</td>\n",
       "      <td>181</td>\n",
       "      <td>21</td>\n",
       "      <td>-6.000000</td>\n",
       "      <td>GV0819_Pos2_Scr_-490</td>\n",
       "    </tr>\n",
       "  </tbody>\n",
       "</table>\n",
       "<p>398511 rows × 7 columns</p>\n",
       "</div>"
      ],
      "text/plain": [
       "        Cell ID         dij  Frame     x     y        tij  \\\n",
       "0           709  178.333333   1072   856  1327   5.133333   \n",
       "1           856  186.333333    976   746  1416  -1.266667   \n",
       "2           966   30.333333   1059   552   816   4.266667   \n",
       "3           979  280.666667    999   256   107   0.266667   \n",
       "4          1039  241.333333   1023  1052  1405   1.866667   \n",
       "...         ...         ...    ...   ...   ...        ...   \n",
       "398506     1686  183.666667   1159   832   842   0.933333   \n",
       "398507     1687  172.000000   1149   803   885   0.266667   \n",
       "398508     1731  318.333333    941   155    25 -13.600000   \n",
       "398509     1765  194.333333   1112   871  1037  -2.200000   \n",
       "398510     2370  317.333333   1055   181    21  -6.000000   \n",
       "\n",
       "                     Focal ID  \n",
       "0       GV0819_Pos3_Scr_-1735  \n",
       "1       GV0819_Pos3_Scr_-1735  \n",
       "2       GV0819_Pos3_Scr_-1735  \n",
       "3       GV0819_Pos3_Scr_-1735  \n",
       "4       GV0819_Pos3_Scr_-1735  \n",
       "...                       ...  \n",
       "398506   GV0819_Pos2_Scr_-490  \n",
       "398507   GV0819_Pos2_Scr_-490  \n",
       "398508   GV0819_Pos2_Scr_-490  \n",
       "398509   GV0819_Pos2_Scr_-490  \n",
       "398510   GV0819_Pos2_Scr_-490  \n",
       "\n",
       "[398511 rows x 7 columns]"
      ]
     },
     "execution_count": 52,
     "metadata": {},
     "output_type": "execute_result"
    }
   ],
   "source": [
    "df"
   ]
  },
  {
   "cell_type": "code",
   "execution_count": 53,
   "id": "a42abe2a",
   "metadata": {},
   "outputs": [
    {
     "name": "stdout",
     "output_type": "stream",
     "text": [
      "Total number of division events, n =  398511\n",
      "Total number of focal apoptotic events, n =  1838\n"
     ]
    }
   ],
   "source": [
    "n1 = len(df['Cell ID'])#len(set(df['Cell ID']))\n",
    "print('Total number of division events, n = ', n1)\n",
    "n2 = len(set(df['Focal ID'])) #len(file_list)\n",
    "print('Total number of focal apoptotic events, n = ', n2)"
   ]
  },
  {
   "cell_type": "code",
   "execution_count": 54,
   "id": "8c425c8c",
   "metadata": {},
   "outputs": [
    {
     "name": "stdout",
     "output_type": "stream",
     "text": [
      "Default time interval, T =  106.6\n"
     ]
    }
   ],
   "source": [
    "T = max(df['tij']) - min(df['tij'])\n",
    "print('Default time interval, T = ', T)"
   ]
  },
  {
   "cell_type": "code",
   "execution_count": 55,
   "id": "2bd3660d",
   "metadata": {},
   "outputs": [
    {
     "name": "stdout",
     "output_type": "stream",
     "text": [
      "Total area (FOV) in micrometres, a(R) = 201067 microns squared\n"
     ]
    }
   ],
   "source": [
    "x_range = max(df['x']) - min(df['x'])\n",
    "y_range = max(df['y']) - min(df['y'])\n",
    "### convert from pixels to micrometres (/3)\n",
    "a = (x_range/3)*(y_range/3)\n",
    "print('Total area (FOV) in micrometres, a(R) =', round(a), 'microns squared')"
   ]
  },
  {
   "cell_type": "code",
   "execution_count": 56,
   "id": "8d7cd11a",
   "metadata": {},
   "outputs": [
    {
     "name": "stdout",
     "output_type": "stream",
     "text": [
      "Space-time intensity parameter, lambda_st =  0.01859272435690078\n",
      "Space-time intensity parameter for division events, lambda_1 =  0.01859272435690078\n",
      "Space-time intensity parameter for apoptotic events, lambda_2 =  8.575278315525453e-05\n"
     ]
    }
   ],
   "source": [
    "n = n1\n",
    "lambda_st = n/(a*T)\n",
    "print('Space-time intensity parameter, lambda_st = ', lambda_st)\n",
    "lambda_1 = n1/(a*T)\n",
    "print('Space-time intensity parameter for division events, lambda_1 = ', lambda_1)\n",
    "lambda_2 = n2/(a*T)\n",
    "print('Space-time intensity parameter for apoptotic events, lambda_2 = ', lambda_2)"
   ]
  },
  {
   "cell_type": "code",
   "execution_count": 57,
   "id": "df25c560",
   "metadata": {},
   "outputs": [],
   "source": [
    "delta_ = np.linspace(-5,5, 100)\n",
    "h_ = np.linspace(0,100, 100)"
   ]
  },
  {
   "cell_type": "code",
   "execution_count": 58,
   "id": "8b79a39f",
   "metadata": {},
   "outputs": [
    {
     "data": {
      "text/plain": [
       "398511"
      ]
     },
     "execution_count": 58,
     "metadata": {},
     "output_type": "execute_result"
    }
   ],
   "source": [
    "n"
   ]
  },
  {
   "cell_type": "code",
   "execution_count": 59,
   "id": "0561020f",
   "metadata": {},
   "outputs": [
    {
     "data": {
      "application/vnd.jupyter.widget-view+json": {
       "model_id": "3225c1556da04448af9cb52b75d1e5c1",
       "version_major": 2,
       "version_minor": 0
      },
      "text/plain": [
       "Iterating over space-time:   0%|          | 0/100 [00:00<?, ?it/s]"
      ]
     },
     "metadata": {},
     "output_type": "display_data"
    }
   ],
   "source": [
    "K_st = K_st_func(h_, delta_, n, lambda_st, df)"
   ]
  },
  {
   "cell_type": "code",
   "execution_count": 60,
   "id": "a431e14f",
   "metadata": {},
   "outputs": [
    {
     "data": {
      "text/plain": [
       "Text(0.5, 1.0, 'Space-time K-function \\n for N = 1000 focal apoptosis')"
      ]
     },
     "execution_count": 60,
     "metadata": {},
     "output_type": "execute_result"
    },
    {
     "data": {
      "image/png": "[encoded data removed]",
      "text/plain": [
       "<Figure size 432x288 with 2 Axes>"
      ]
     },
     "metadata": {
      "needs_background": "light"
     },
     "output_type": "display_data"
    }
   ],
   "source": [
    "pc = plt.pcolormesh(delta_, h_, K_st, )\n",
    "plt.colorbar(label = 'Expected number of additional events',)\n",
    "plt.xlabel('Time since apoptosis (hours)')\n",
    "plt.ylabel('Distance from apoptosis (microns)')\n",
    "plt.title(f'Space-time K-function \\n for N = {N} focal apoptosis')"
   ]
  },
  {
   "cell_type": "markdown",
   "id": "a6f402f1",
   "metadata": {},
   "source": [
    "Why is this plot symmetrical? Is it symmetrical? It only appears symmetrical around the zero values"
   ]
  },
  {
   "cell_type": "code",
   "execution_count": 74,
   "id": "2157ef34",
   "metadata": {},
   "outputs": [
    {
     "data": {
      "text/plain": [
       "Text(0.5, 1.0, 'Checking temporal symmetry of space-time K-function plot')"
      ]
     },
     "execution_count": 74,
     "metadata": {},
     "output_type": "execute_result"
    },
    {
     "data": {
      "image/png": "[encoded data removed]",
      "text/plain": [
       "<Figure size 432x288 with 2 Axes>"
      ]
     },
     "metadata": {
      "needs_background": "light"
     },
     "output_type": "display_data"
    }
   ],
   "source": [
    "pc = plt.pcolormesh(delta_, h_, (np.fliplr(K_st) == K_st), )\n",
    "plt.colorbar(label = 'Symmetrical values around apoptosis point',)\n",
    "plt.xlabel('Time since apoptosis (hours)')\n",
    "plt.ylabel('Distance from apoptosis (microns)')\n",
    "plt.title(f'Checking temporal symmetry of space-time K-function plot')"
   ]
  },
  {
   "cell_type": "markdown",
   "id": "85b2d833",
   "metadata": {},
   "source": [
    "### Cumulative temporal indistinguishability test\n",
    "\n",
    "Random permutations of different time points to see if the K-function patterns still hold."
   ]
  },
  {
   "cell_type": "code",
   "execution_count": 75,
   "id": "ad7756ab",
   "metadata": {},
   "outputs": [
    {
     "data": {
      "text/html": [
       "<div>\n",
       "<style scoped>\n",
       "    .dataframe tbody tr th:only-of-type {\n",
       "        vertical-align: middle;\n",
       "    }\n",
       "\n",
       "    .dataframe tbody tr th {\n",
       "        vertical-align: top;\n",
       "    }\n",
       "\n",
       "    .dataframe thead th {\n",
       "        text-align: right;\n",
       "    }\n",
       "</style>\n",
       "<table border=\"1\" class=\"dataframe\">\n",
       "  <thead>\n",
       "    <tr style=\"text-align: right;\">\n",
       "      <th></th>\n",
       "      <th>Cell ID</th>\n",
       "      <th>dij</th>\n",
       "      <th>Frame</th>\n",
       "      <th>x</th>\n",
       "      <th>y</th>\n",
       "      <th>tij</th>\n",
       "      <th>Focal ID</th>\n",
       "    </tr>\n",
       "  </thead>\n",
       "  <tbody>\n",
       "    <tr>\n",
       "      <th>0</th>\n",
       "      <td>709</td>\n",
       "      <td>178.333333</td>\n",
       "      <td>1072</td>\n",
       "      <td>856</td>\n",
       "      <td>1327</td>\n",
       "      <td>5.133333</td>\n",
       "      <td>GV0819_Pos3_Scr_-1735</td>\n",
       "    </tr>\n",
       "    <tr>\n",
       "      <th>1</th>\n",
       "      <td>856</td>\n",
       "      <td>186.333333</td>\n",
       "      <td>976</td>\n",
       "      <td>746</td>\n",
       "      <td>1416</td>\n",
       "      <td>-1.266667</td>\n",
       "      <td>GV0819_Pos3_Scr_-1735</td>\n",
       "    </tr>\n",
       "    <tr>\n",
       "      <th>2</th>\n",
       "      <td>966</td>\n",
       "      <td>30.333333</td>\n",
       "      <td>1059</td>\n",
       "      <td>552</td>\n",
       "      <td>816</td>\n",
       "      <td>4.266667</td>\n",
       "      <td>GV0819_Pos3_Scr_-1735</td>\n",
       "    </tr>\n",
       "    <tr>\n",
       "      <th>3</th>\n",
       "      <td>979</td>\n",
       "      <td>280.666667</td>\n",
       "      <td>999</td>\n",
       "      <td>256</td>\n",
       "      <td>107</td>\n",
       "      <td>0.266667</td>\n",
       "      <td>GV0819_Pos3_Scr_-1735</td>\n",
       "    </tr>\n",
       "    <tr>\n",
       "      <th>4</th>\n",
       "      <td>1039</td>\n",
       "      <td>241.333333</td>\n",
       "      <td>1023</td>\n",
       "      <td>1052</td>\n",
       "      <td>1405</td>\n",
       "      <td>1.866667</td>\n",
       "      <td>GV0819_Pos3_Scr_-1735</td>\n",
       "    </tr>\n",
       "    <tr>\n",
       "      <th>...</th>\n",
       "      <td>...</td>\n",
       "      <td>...</td>\n",
       "      <td>...</td>\n",
       "      <td>...</td>\n",
       "      <td>...</td>\n",
       "      <td>...</td>\n",
       "      <td>...</td>\n",
       "    </tr>\n",
       "    <tr>\n",
       "      <th>398506</th>\n",
       "      <td>1686</td>\n",
       "      <td>183.666667</td>\n",
       "      <td>1159</td>\n",
       "      <td>832</td>\n",
       "      <td>842</td>\n",
       "      <td>0.933333</td>\n",
       "      <td>GV0819_Pos2_Scr_-490</td>\n",
       "    </tr>\n",
       "    <tr>\n",
       "      <th>398507</th>\n",
       "      <td>1687</td>\n",
       "      <td>172.000000</td>\n",
       "      <td>1149</td>\n",
       "      <td>803</td>\n",
       "      <td>885</td>\n",
       "      <td>0.266667</td>\n",
       "      <td>GV0819_Pos2_Scr_-490</td>\n",
       "    </tr>\n",
       "    <tr>\n",
       "      <th>398508</th>\n",
       "      <td>1731</td>\n",
       "      <td>318.333333</td>\n",
       "      <td>941</td>\n",
       "      <td>155</td>\n",
       "      <td>25</td>\n",
       "      <td>-13.600000</td>\n",
       "      <td>GV0819_Pos2_Scr_-490</td>\n",
       "    </tr>\n",
       "    <tr>\n",
       "      <th>398509</th>\n",
       "      <td>1765</td>\n",
       "      <td>194.333333</td>\n",
       "      <td>1112</td>\n",
       "      <td>871</td>\n",
       "      <td>1037</td>\n",
       "      <td>-2.200000</td>\n",
       "      <td>GV0819_Pos2_Scr_-490</td>\n",
       "    </tr>\n",
       "    <tr>\n",
       "      <th>398510</th>\n",
       "      <td>2370</td>\n",
       "      <td>317.333333</td>\n",
       "      <td>1055</td>\n",
       "      <td>181</td>\n",
       "      <td>21</td>\n",
       "      <td>-6.000000</td>\n",
       "      <td>GV0819_Pos2_Scr_-490</td>\n",
       "    </tr>\n",
       "  </tbody>\n",
       "</table>\n",
       "<p>398511 rows × 7 columns</p>\n",
       "</div>"
      ],
      "text/plain": [
       "        Cell ID         dij  Frame     x     y        tij  \\\n",
       "0           709  178.333333   1072   856  1327   5.133333   \n",
       "1           856  186.333333    976   746  1416  -1.266667   \n",
       "2           966   30.333333   1059   552   816   4.266667   \n",
       "3           979  280.666667    999   256   107   0.266667   \n",
       "4          1039  241.333333   1023  1052  1405   1.866667   \n",
       "...         ...         ...    ...   ...   ...        ...   \n",
       "398506     1686  183.666667   1159   832   842   0.933333   \n",
       "398507     1687  172.000000   1149   803   885   0.266667   \n",
       "398508     1731  318.333333    941   155    25 -13.600000   \n",
       "398509     1765  194.333333   1112   871  1037  -2.200000   \n",
       "398510     2370  317.333333   1055   181    21  -6.000000   \n",
       "\n",
       "                     Focal ID  \n",
       "0       GV0819_Pos3_Scr_-1735  \n",
       "1       GV0819_Pos3_Scr_-1735  \n",
       "2       GV0819_Pos3_Scr_-1735  \n",
       "3       GV0819_Pos3_Scr_-1735  \n",
       "4       GV0819_Pos3_Scr_-1735  \n",
       "...                       ...  \n",
       "398506   GV0819_Pos2_Scr_-490  \n",
       "398507   GV0819_Pos2_Scr_-490  \n",
       "398508   GV0819_Pos2_Scr_-490  \n",
       "398509   GV0819_Pos2_Scr_-490  \n",
       "398510   GV0819_Pos2_Scr_-490  \n",
       "\n",
       "[398511 rows x 7 columns]"
      ]
     },
     "execution_count": 75,
     "metadata": {},
     "output_type": "execute_result"
    }
   ],
   "source": [
    "df"
   ]
  },
  {
   "cell_type": "code",
   "execution_count": 76,
   "id": "51f44343",
   "metadata": {
    "scrolled": true
   },
   "outputs": [
    {
     "data": {
      "application/vnd.jupyter.widget-view+json": {
       "model_id": "1eb38d9218d34ef09872c0fda52e6913",
       "version_major": 2,
       "version_minor": 0
      },
      "text/plain": [
       "  0%|          | 0/1000 [00:00<?, ?it/s]"
      ]
     },
     "metadata": {},
     "output_type": "display_data"
    },
    {
     "name": "stderr",
     "output_type": "stream",
     "text": [
      "<ipython-input-76-b49379d3ea8c>:4: PerformanceWarning: DataFrame is highly fragmented.  This is usually the result of calling `frame.insert` many times, which has poor performance.  Consider using pd.concat instead.  To get a de-fragmented frame, use `newframe = frame.copy()`\n",
      "  df[f'tpi τ = {tau}'] = df['tij'].sample(frac=1).reset_index(drop = True)\n"
     ]
    }
   ],
   "source": [
    "### define the number of permutations to make\n",
    "N = 1000\n",
    "for tau in tqdm(range(N)):\n",
    "    df[f'tpi τ = {tau}'] = df['tij'].sample(frac=1).reset_index(drop = True)"
   ]
  },
  {
   "cell_type": "code",
   "execution_count": 77,
   "id": "a0081fc2",
   "metadata": {},
   "outputs": [
    {
     "data": {
      "text/html": [
       "<div>\n",
       "<style scoped>\n",
       "    .dataframe tbody tr th:only-of-type {\n",
       "        vertical-align: middle;\n",
       "    }\n",
       "\n",
       "    .dataframe tbody tr th {\n",
       "        vertical-align: top;\n",
       "    }\n",
       "\n",
       "    .dataframe thead th {\n",
       "        text-align: right;\n",
       "    }\n",
       "</style>\n",
       "<table border=\"1\" class=\"dataframe\">\n",
       "  <thead>\n",
       "    <tr style=\"text-align: right;\">\n",
       "      <th></th>\n",
       "      <th>Cell ID</th>\n",
       "      <th>dij</th>\n",
       "      <th>Frame</th>\n",
       "      <th>x</th>\n",
       "      <th>y</th>\n",
       "      <th>tij</th>\n",
       "      <th>Focal ID</th>\n",
       "      <th>tpi τ = 0</th>\n",
       "      <th>tpi τ = 1</th>\n",
       "      <th>tpi τ = 2</th>\n",
       "      <th>...</th>\n",
       "      <th>tpi τ = 990</th>\n",
       "      <th>tpi τ = 991</th>\n",
       "      <th>tpi τ = 992</th>\n",
       "      <th>tpi τ = 993</th>\n",
       "      <th>tpi τ = 994</th>\n",
       "      <th>tpi τ = 995</th>\n",
       "      <th>tpi τ = 996</th>\n",
       "      <th>tpi τ = 997</th>\n",
       "      <th>tpi τ = 998</th>\n",
       "      <th>tpi τ = 999</th>\n",
       "    </tr>\n",
       "  </thead>\n",
       "  <tbody>\n",
       "    <tr>\n",
       "      <th>0</th>\n",
       "      <td>709</td>\n",
       "      <td>178.333333</td>\n",
       "      <td>1072</td>\n",
       "      <td>856</td>\n",
       "      <td>1327</td>\n",
       "      <td>5.133333</td>\n",
       "      <td>GV0819_Pos3_Scr_-1735</td>\n",
       "      <td>6.666667</td>\n",
       "      <td>35.800000</td>\n",
       "      <td>29.666667</td>\n",
       "      <td>...</td>\n",
       "      <td>20.666667</td>\n",
       "      <td>-21.333333</td>\n",
       "      <td>8.800000</td>\n",
       "      <td>-31.000000</td>\n",
       "      <td>-20.400000</td>\n",
       "      <td>3.666667</td>\n",
       "      <td>-9.000000</td>\n",
       "      <td>18.733333</td>\n",
       "      <td>33.400000</td>\n",
       "      <td>13.400000</td>\n",
       "    </tr>\n",
       "    <tr>\n",
       "      <th>1</th>\n",
       "      <td>856</td>\n",
       "      <td>186.333333</td>\n",
       "      <td>976</td>\n",
       "      <td>746</td>\n",
       "      <td>1416</td>\n",
       "      <td>-1.266667</td>\n",
       "      <td>GV0819_Pos3_Scr_-1735</td>\n",
       "      <td>15.133333</td>\n",
       "      <td>-34.200000</td>\n",
       "      <td>-8.466667</td>\n",
       "      <td>...</td>\n",
       "      <td>50.133333</td>\n",
       "      <td>34.733333</td>\n",
       "      <td>-19.866667</td>\n",
       "      <td>45.066667</td>\n",
       "      <td>-0.666667</td>\n",
       "      <td>6.266667</td>\n",
       "      <td>17.266667</td>\n",
       "      <td>7.000000</td>\n",
       "      <td>17.066667</td>\n",
       "      <td>12.400000</td>\n",
       "    </tr>\n",
       "    <tr>\n",
       "      <th>2</th>\n",
       "      <td>966</td>\n",
       "      <td>30.333333</td>\n",
       "      <td>1059</td>\n",
       "      <td>552</td>\n",
       "      <td>816</td>\n",
       "      <td>4.266667</td>\n",
       "      <td>GV0819_Pos3_Scr_-1735</td>\n",
       "      <td>19.066667</td>\n",
       "      <td>-24.666667</td>\n",
       "      <td>-1.066667</td>\n",
       "      <td>...</td>\n",
       "      <td>-3.866667</td>\n",
       "      <td>-14.400000</td>\n",
       "      <td>0.000000</td>\n",
       "      <td>-3.200000</td>\n",
       "      <td>1.866667</td>\n",
       "      <td>-4.266667</td>\n",
       "      <td>0.866667</td>\n",
       "      <td>-25.466667</td>\n",
       "      <td>8.000000</td>\n",
       "      <td>-11.933333</td>\n",
       "    </tr>\n",
       "    <tr>\n",
       "      <th>3</th>\n",
       "      <td>979</td>\n",
       "      <td>280.666667</td>\n",
       "      <td>999</td>\n",
       "      <td>256</td>\n",
       "      <td>107</td>\n",
       "      <td>0.266667</td>\n",
       "      <td>GV0819_Pos3_Scr_-1735</td>\n",
       "      <td>14.133333</td>\n",
       "      <td>14.733333</td>\n",
       "      <td>2.200000</td>\n",
       "      <td>...</td>\n",
       "      <td>22.066667</td>\n",
       "      <td>-24.866667</td>\n",
       "      <td>9.333333</td>\n",
       "      <td>22.866667</td>\n",
       "      <td>13.733333</td>\n",
       "      <td>1.800000</td>\n",
       "      <td>-15.466667</td>\n",
       "      <td>10.400000</td>\n",
       "      <td>-19.333333</td>\n",
       "      <td>8.400000</td>\n",
       "    </tr>\n",
       "    <tr>\n",
       "      <th>4</th>\n",
       "      <td>1039</td>\n",
       "      <td>241.333333</td>\n",
       "      <td>1023</td>\n",
       "      <td>1052</td>\n",
       "      <td>1405</td>\n",
       "      <td>1.866667</td>\n",
       "      <td>GV0819_Pos3_Scr_-1735</td>\n",
       "      <td>-5.733333</td>\n",
       "      <td>-7.933333</td>\n",
       "      <td>-14.866667</td>\n",
       "      <td>...</td>\n",
       "      <td>1.200000</td>\n",
       "      <td>7.266667</td>\n",
       "      <td>-9.066667</td>\n",
       "      <td>23.066667</td>\n",
       "      <td>31.400000</td>\n",
       "      <td>-27.000000</td>\n",
       "      <td>-6.666667</td>\n",
       "      <td>-9.600000</td>\n",
       "      <td>-2.866667</td>\n",
       "      <td>17.466667</td>\n",
       "    </tr>\n",
       "    <tr>\n",
       "      <th>...</th>\n",
       "      <td>...</td>\n",
       "      <td>...</td>\n",
       "      <td>...</td>\n",
       "      <td>...</td>\n",
       "      <td>...</td>\n",
       "      <td>...</td>\n",
       "      <td>...</td>\n",
       "      <td>...</td>\n",
       "      <td>...</td>\n",
       "      <td>...</td>\n",
       "      <td>...</td>\n",
       "      <td>...</td>\n",
       "      <td>...</td>\n",
       "      <td>...</td>\n",
       "      <td>...</td>\n",
       "      <td>...</td>\n",
       "      <td>...</td>\n",
       "      <td>...</td>\n",
       "      <td>...</td>\n",
       "      <td>...</td>\n",
       "      <td>...</td>\n",
       "    </tr>\n",
       "    <tr>\n",
       "      <th>398506</th>\n",
       "      <td>1686</td>\n",
       "      <td>183.666667</td>\n",
       "      <td>1159</td>\n",
       "      <td>832</td>\n",
       "      <td>842</td>\n",
       "      <td>0.933333</td>\n",
       "      <td>GV0819_Pos2_Scr_-490</td>\n",
       "      <td>12.000000</td>\n",
       "      <td>16.866667</td>\n",
       "      <td>11.733333</td>\n",
       "      <td>...</td>\n",
       "      <td>-8.800000</td>\n",
       "      <td>5.800000</td>\n",
       "      <td>25.266667</td>\n",
       "      <td>33.533333</td>\n",
       "      <td>36.800000</td>\n",
       "      <td>16.666667</td>\n",
       "      <td>10.866667</td>\n",
       "      <td>-4.933333</td>\n",
       "      <td>-13.133333</td>\n",
       "      <td>5.733333</td>\n",
       "    </tr>\n",
       "    <tr>\n",
       "      <th>398507</th>\n",
       "      <td>1687</td>\n",
       "      <td>172.000000</td>\n",
       "      <td>1149</td>\n",
       "      <td>803</td>\n",
       "      <td>885</td>\n",
       "      <td>0.266667</td>\n",
       "      <td>GV0819_Pos2_Scr_-490</td>\n",
       "      <td>-0.666667</td>\n",
       "      <td>36.466667</td>\n",
       "      <td>8.266667</td>\n",
       "      <td>...</td>\n",
       "      <td>-6.933333</td>\n",
       "      <td>14.866667</td>\n",
       "      <td>0.533333</td>\n",
       "      <td>43.533333</td>\n",
       "      <td>3.200000</td>\n",
       "      <td>-17.333333</td>\n",
       "      <td>-3.533333</td>\n",
       "      <td>-8.600000</td>\n",
       "      <td>-21.666667</td>\n",
       "      <td>23.600000</td>\n",
       "    </tr>\n",
       "    <tr>\n",
       "      <th>398508</th>\n",
       "      <td>1731</td>\n",
       "      <td>318.333333</td>\n",
       "      <td>941</td>\n",
       "      <td>155</td>\n",
       "      <td>25</td>\n",
       "      <td>-13.600000</td>\n",
       "      <td>GV0819_Pos2_Scr_-490</td>\n",
       "      <td>18.333333</td>\n",
       "      <td>-14.200000</td>\n",
       "      <td>12.266667</td>\n",
       "      <td>...</td>\n",
       "      <td>13.600000</td>\n",
       "      <td>1.533333</td>\n",
       "      <td>-3.600000</td>\n",
       "      <td>-2.066667</td>\n",
       "      <td>-8.333333</td>\n",
       "      <td>21.000000</td>\n",
       "      <td>-12.200000</td>\n",
       "      <td>8.000000</td>\n",
       "      <td>22.600000</td>\n",
       "      <td>-4.600000</td>\n",
       "    </tr>\n",
       "    <tr>\n",
       "      <th>398509</th>\n",
       "      <td>1765</td>\n",
       "      <td>194.333333</td>\n",
       "      <td>1112</td>\n",
       "      <td>871</td>\n",
       "      <td>1037</td>\n",
       "      <td>-2.200000</td>\n",
       "      <td>GV0819_Pos2_Scr_-490</td>\n",
       "      <td>14.800000</td>\n",
       "      <td>-9.533333</td>\n",
       "      <td>-28.666667</td>\n",
       "      <td>...</td>\n",
       "      <td>32.866667</td>\n",
       "      <td>-29.466667</td>\n",
       "      <td>-18.866667</td>\n",
       "      <td>25.800000</td>\n",
       "      <td>-40.000000</td>\n",
       "      <td>-21.666667</td>\n",
       "      <td>15.733333</td>\n",
       "      <td>-2.400000</td>\n",
       "      <td>2.533333</td>\n",
       "      <td>42.533333</td>\n",
       "    </tr>\n",
       "    <tr>\n",
       "      <th>398510</th>\n",
       "      <td>2370</td>\n",
       "      <td>317.333333</td>\n",
       "      <td>1055</td>\n",
       "      <td>181</td>\n",
       "      <td>21</td>\n",
       "      <td>-6.000000</td>\n",
       "      <td>GV0819_Pos2_Scr_-490</td>\n",
       "      <td>-18.933333</td>\n",
       "      <td>0.933333</td>\n",
       "      <td>-34.800000</td>\n",
       "      <td>...</td>\n",
       "      <td>5.466667</td>\n",
       "      <td>15.800000</td>\n",
       "      <td>19.466667</td>\n",
       "      <td>6.733333</td>\n",
       "      <td>-37.666667</td>\n",
       "      <td>-19.133333</td>\n",
       "      <td>-17.266667</td>\n",
       "      <td>31.266667</td>\n",
       "      <td>-4.400000</td>\n",
       "      <td>-15.866667</td>\n",
       "    </tr>\n",
       "  </tbody>\n",
       "</table>\n",
       "<p>398511 rows × 1007 columns</p>\n",
       "</div>"
      ],
      "text/plain": [
       "        Cell ID         dij  Frame     x     y        tij  \\\n",
       "0           709  178.333333   1072   856  1327   5.133333   \n",
       "1           856  186.333333    976   746  1416  -1.266667   \n",
       "2           966   30.333333   1059   552   816   4.266667   \n",
       "3           979  280.666667    999   256   107   0.266667   \n",
       "4          1039  241.333333   1023  1052  1405   1.866667   \n",
       "...         ...         ...    ...   ...   ...        ...   \n",
       "398506     1686  183.666667   1159   832   842   0.933333   \n",
       "398507     1687  172.000000   1149   803   885   0.266667   \n",
       "398508     1731  318.333333    941   155    25 -13.600000   \n",
       "398509     1765  194.333333   1112   871  1037  -2.200000   \n",
       "398510     2370  317.333333   1055   181    21  -6.000000   \n",
       "\n",
       "                     Focal ID  tpi τ = 0  tpi τ = 1  tpi τ = 2  ...  \\\n",
       "0       GV0819_Pos3_Scr_-1735   6.666667  35.800000  29.666667  ...   \n",
       "1       GV0819_Pos3_Scr_-1735  15.133333 -34.200000  -8.466667  ...   \n",
       "2       GV0819_Pos3_Scr_-1735  19.066667 -24.666667  -1.066667  ...   \n",
       "3       GV0819_Pos3_Scr_-1735  14.133333  14.733333   2.200000  ...   \n",
       "4       GV0819_Pos3_Scr_-1735  -5.733333  -7.933333 -14.866667  ...   \n",
       "...                       ...        ...        ...        ...  ...   \n",
       "398506   GV0819_Pos2_Scr_-490  12.000000  16.866667  11.733333  ...   \n",
       "398507   GV0819_Pos2_Scr_-490  -0.666667  36.466667   8.266667  ...   \n",
       "398508   GV0819_Pos2_Scr_-490  18.333333 -14.200000  12.266667  ...   \n",
       "398509   GV0819_Pos2_Scr_-490  14.800000  -9.533333 -28.666667  ...   \n",
       "398510   GV0819_Pos2_Scr_-490 -18.933333   0.933333 -34.800000  ...   \n",
       "\n",
       "        tpi τ = 990  tpi τ = 991  tpi τ = 992  tpi τ = 993  tpi τ = 994  \\\n",
       "0         20.666667   -21.333333     8.800000   -31.000000   -20.400000   \n",
       "1         50.133333    34.733333   -19.866667    45.066667    -0.666667   \n",
       "2         -3.866667   -14.400000     0.000000    -3.200000     1.866667   \n",
       "3         22.066667   -24.866667     9.333333    22.866667    13.733333   \n",
       "4          1.200000     7.266667    -9.066667    23.066667    31.400000   \n",
       "...             ...          ...          ...          ...          ...   \n",
       "398506    -8.800000     5.800000    25.266667    33.533333    36.800000   \n",
       "398507    -6.933333    14.866667     0.533333    43.533333     3.200000   \n",
       "398508    13.600000     1.533333    -3.600000    -2.066667    -8.333333   \n",
       "398509    32.866667   -29.466667   -18.866667    25.800000   -40.000000   \n",
       "398510     5.466667    15.800000    19.466667     6.733333   -37.666667   \n",
       "\n",
       "        tpi τ = 995  tpi τ = 996  tpi τ = 997  tpi τ = 998  tpi τ = 999  \n",
       "0          3.666667    -9.000000    18.733333    33.400000    13.400000  \n",
       "1          6.266667    17.266667     7.000000    17.066667    12.400000  \n",
       "2         -4.266667     0.866667   -25.466667     8.000000   -11.933333  \n",
       "3          1.800000   -15.466667    10.400000   -19.333333     8.400000  \n",
       "4        -27.000000    -6.666667    -9.600000    -2.866667    17.466667  \n",
       "...             ...          ...          ...          ...          ...  \n",
       "398506    16.666667    10.866667    -4.933333   -13.133333     5.733333  \n",
       "398507   -17.333333    -3.533333    -8.600000   -21.666667    23.600000  \n",
       "398508    21.000000   -12.200000     8.000000    22.600000    -4.600000  \n",
       "398509   -21.666667    15.733333    -2.400000     2.533333    42.533333  \n",
       "398510   -19.133333   -17.266667    31.266667    -4.400000   -15.866667  \n",
       "\n",
       "[398511 rows x 1007 columns]"
      ]
     },
     "execution_count": 77,
     "metadata": {},
     "output_type": "execute_result"
    }
   ],
   "source": [
    "df"
   ]
  },
  {
   "cell_type": "markdown",
   "id": "1fcfdbc1",
   "metadata": {},
   "source": [
    "Only iterating over 100 different permuations as I've parallelised the calculation over different notebooks. Still looks like it will take over 12 hours!"
   ]
  },
  {
   "cell_type": "code",
   "execution_count": null,
   "id": "cf45d303",
   "metadata": {
    "scrolled": true
   },
   "outputs": [
    {
     "data": {
      "application/vnd.jupyter.widget-view+json": {
       "model_id": "9a6c86b582b94932b010790c9fc1e4fa",
       "version_major": 2,
       "version_minor": 0
      },
      "text/plain": [
       "Progress through tau:   0%|          | 0/100 [00:00<?, ?it/s]"
      ]
     },
     "metadata": {},
     "output_type": "display_data"
    }
   ],
   "source": [
    "K_st_tau = {}\n",
    "for tau in tqdm(range(100), desc = 'Progress through tau'):\n",
    "    K_st_tau[tau] = K_st_tau_func(h_, delta_, n, lambda_st, df, tau)"
   ]
  },
  {
   "cell_type": "code",
   "execution_count": null,
   "id": "0724d6ca",
   "metadata": {},
   "outputs": [],
   "source": [
    "import pickle\n",
    "with open('K_st_tau_0100.pkl', 'wb') as f:\n",
    "    pickle.dump(K_st_tau, f)"
   ]
  },
  {
   "cell_type": "markdown",
   "id": "e27f6703",
   "metadata": {},
   "source": [
    "Checking to see if any two of the randomly time-indices-switched K-function arrays are identical (they should not be)"
   ]
  },
  {
   "cell_type": "code",
   "execution_count": null,
   "id": "ee456b7d",
   "metadata": {},
   "outputs": [],
   "source": [
    "def arrays_equal(a, b):\n",
    "    if a.shape != b.shape:\n",
    "        return False\n",
    "    for ai, bi in zip(a.flat, b.flat):\n",
    "        if ai != bi:\n",
    "            return False\n",
    "    return True"
   ]
  },
  {
   "cell_type": "code",
   "execution_count": null,
   "id": "e771ea2d",
   "metadata": {},
   "outputs": [],
   "source": [
    "import itertools\n",
    "for a, b in tqdm(itertools.combinations(K_st_tau, 2), total = 499500):\n",
    "    array1 = K_st_tau[a]\n",
    "    array2 = K_st_tau[b]\n",
    "    if arrays_equal(array1, array2) == True:\n",
    "        print(a, b, 'are equal')"
   ]
  },
  {
   "cell_type": "code",
   "execution_count": null,
   "id": "81e345b4",
   "metadata": {},
   "outputs": [],
   "source": [
    "N = len(K_st_tau)\n",
    "P_st_clust = np.zeros(K_st.shape)\n",
    "P_st_disp = np.zeros(K_st.shape)\n",
    "\n",
    "for i, h in enumerate(tqdm(h_, total = len(h_))):\n",
    "    for j, delta in enumerate(delta_):\n",
    "        M0_plus = len([tau for tau in K_st_tau if K_st_tau[tau][i,j] >= K_st[i,j]])\n",
    "        P_st_clust[i,j] = (M0_plus + 1)/(N+1)\n",
    "        M0_minus = len([tau for tau in K_st_tau if K_st_tau[tau][i,j] <= K_st[i,j]])\n",
    "        P_st_disp[i,j] = (M0_minus + 1)/(N+1)\n",
    "    "
   ]
  },
  {
   "cell_type": "code",
   "execution_count": null,
   "id": "c4632084",
   "metadata": {},
   "outputs": [],
   "source": [
    "pc = plt.pcolormesh(delta_, h_, P_st_clust, cmap = 'Reds', )\n",
    "plt.colorbar(label = 'P-value',)\n",
    "plt.xlabel('Time since apoptosis (hours)')\n",
    "plt.ylabel('Distance (microns)')\n",
    "plt.title('Space-time clustering p-value contour map \\n for N = 1 focal apoptosis')"
   ]
  },
  {
   "cell_type": "code",
   "execution_count": null,
   "id": "320bd46e",
   "metadata": {},
   "outputs": [],
   "source": [
    "pc = plt.pcolormesh(delta_, h_, P_st_disp, cmap = 'Blues_r', )\n",
    "plt.colorbar(label = 'P-value',)\n",
    "plt.xlabel('Time since apoptosis (hours)')\n",
    "plt.ylabel('Distance (microns)')\n",
    "plt.title('Space-time dispersion p-value contour map \\n for N = 1 focal apoptosis')"
   ]
  }
 ],
 "metadata": {
  "kernelspec": {
   "display_name": "CellX",
   "language": "python",
   "name": "cellx"
  },
  "language_info": {
   "codemirror_mode": {
    "name": "ipython",
    "version": 3
   },
   "file_extension": ".py",
   "mimetype": "text/x-python",
   "name": "python",
   "nbconvert_exporter": "python",
   "pygments_lexer": "ipython3",
   "version": "3.9.7"
  }
 },
 "nbformat": 4,
 "nbformat_minor": 5
}
