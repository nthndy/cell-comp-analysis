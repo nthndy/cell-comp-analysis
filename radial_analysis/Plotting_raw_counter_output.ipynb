{
 "cells": [
  {
   "cell_type": "markdown",
   "metadata": {},
   "source": [
    "# Plotting the output from Cumulative event counter"
   ]
  },
  {
   "cell_type": "markdown",
   "metadata": {},
   "source": [
    "Notebook just for compiling raw listed cell/event counter data as heatmaps"
   ]
  },
  {
   "cell_type": "code",
   "execution_count": 1,
   "metadata": {},
   "outputs": [],
   "source": [
    "import csv, glob, re, os, json\n",
    "import numpy as np\n",
    "from natsort import natsorted\n",
    "import matplotlib.pyplot as plt\n",
    "from tqdm import tqdm\n",
    "import render\n",
    "import calculate_radial_analysis as calculate"
   ]
  },
  {
   "cell_type": "markdown",
   "metadata": {},
   "source": [
    "# Compile bulk analysis\n",
    "\n",
    "N_cells, N_events, P_events, cropped versions, comparative versions with colour bar limits, coefficient of variation calculations, a statistical relevance calculation based on that and finally a combined P_events above background (probability - control probability)"
   ]
  },
  {
   "cell_type": "markdown",
   "metadata": {},
   "source": [
    "### Set parameters"
   ]
  },
  {
   "cell_type": "code",
   "execution_count": null,
   "metadata": {},
   "outputs": [],
   "source": [
    "# t_range = 800\n",
    "# radius = 800\n",
    "# num_bins = 10\n",
    "input_dict = {'focal_cell':'scr', 'focal_event':'div', 'subject_cell':'wt', 'subject_event':'div', 'radius': 800, 't_range': 800, 'num_bins': 10}\n",
    "save_parent_dir = '/home/nathan/data/kraken/h2b/giulia/radial_analysis_output/follow/cumulative_plots/scr_div_wt_div_{}.{}.{}'.format(radius, t_range, num_bins)\n",
    "input_dict"
   ]
  },
  {
   "cell_type": "markdown",
   "metadata": {},
   "source": [
    "### Either compile from raw lists"
   ]
  },
  {
   "cell_type": "code",
   "execution_count": null,
   "metadata": {},
   "outputs": [],
   "source": [
    "for config in ['800.800.20']:#['800.800.6', '600.600.8', '600.600.6', '500.500.6' '1000.1000.10', '1000.1000.6']:\n",
    "    radius = int(config.split('.')[0])\n",
    "    t_range = int(config.split('.')[1])\n",
    "    num_bins = int(config.split('.')[2])\n",
    "\n",
    "    ## canon\n",
    "    raw_files_dir = os.path.join('/home/nathan/data/results/radial_analysis_output/follow/raw_lists/800.800/scr_div_wt_div/800.800')\n",
    "    N_cells, N_events, P_events = render.cumulative_kymo_compiler(raw_files_dir, radius, t_range, num_bins)\n",
    "    limit = np.amax(P_events)\n",
    "    N = int(len(os.listdir(raw_files_dir))/2)\n",
    "\n",
    "    ### control \n",
    "    # raw_files_dir = os.path.join('/home/nathan/data/results/radial_analysis_output/follow/raw_lists/800.800/wt_control_wt_div/800.800')\n",
    "    # N_cells_c, N_events_c, P_events_c = render.cumulative_kymo_compiler(raw_files_dir, radius, t_range, num_bins)\n",
    "    # limit_c = np.amax(P_events_c)\n",
    "    # N_c = int(len(os.listdir(raw_files_dir))/2)\n",
    "\n",
    "    ### save out raw arrays for coeff var\n",
    "    save_parent_dir = '/home/nathan/data/results/radial_analysis_output/follow/arrays/'\n",
    "    fn = os.path.join(save_parent_dir,'scr_div_wt_div_N_cell_N_event_P_event_{}.{}.{}.npz'.format(radius,t_range, num_bins))\n",
    "    if not os.path.exists(os.path.dirname(fn)):\n",
    "        os.makedirs(os.path.dirname(fn))\n",
    "    # fn_c = os.path.join(save_parent_dir, 'arrays/control_ninety_ten_N_cell_N_event_P_event_{}.{}.{}.npz'.format(radius,t_range, num_bins))\n",
    "    # if not os.path.exists(os.path.dirname(fn_c)):\n",
    "    #     os.makedirs(os.path.dirname(fn_c))\n",
    "    np.savez(fn, N_cells, N_events, P_events)\n",
    "    # #np.savez(fn_c, N_cells_c, N_events_c, P_events_c) ## already previously saved control analysis"
   ]
  },
  {
   "cell_type": "markdown",
   "metadata": {},
   "source": [
    "### Or load from previously compiles .npz stacks of N_cells, N_events, P_events"
   ]
  },
  {
   "cell_type": "code",
   "execution_count": 3,
   "metadata": {},
   "outputs": [],
   "source": [
    "### load npz\n",
    "with np.load('/home/nathan/data/results/radial_analysis_output/follow/arrays/scr_div_wt_div_N_cell_N_event_P_event_800.800.10.npz') as data:\n",
    "    N_cells = data['arr_0']\n",
    "    N_events = data['arr_1']\n",
    "    P_events = data['arr_2']\n",
    "with np.load('/home/nathan/data/results/radial_analysis_output/follow/arrays/control_N_cell_N_event_P_event_800.800.10.npz') as data:\n",
    "    N_cells_c = data['arr_0']\n",
    "    N_events_c = data['arr_1']\n",
    "    P_events_c = data['arr_2']\n",
    "N_c = 10491\n",
    "N = 748"
   ]
  },
  {
   "cell_type": "code",
   "execution_count": 4,
   "metadata": {},
   "outputs": [],
   "source": [
    "input_dict = {'radius': 800, 't_range': 800, 'num_bins': 10}\n",
    "input_dict['N_cells'] = N_cells \n",
    "input_dict['N_events'] = N_events\n",
    "input_dict['P_events'] = P_events \n",
    "input_dict['N_cells_c'] = N_cells_c \n",
    "input_dict['N_events_c'] = N_events_c \n",
    "input_dict['P_events_c'] = P_events_c \n",
    "input_dict['N'], input_dict['N_c'] = N, N_c \n",
    "input_dict['save_parent_dir'] = '/home/nathan/data/results/radial_analysis_output/follow/cumulative_plots/scr_div_wt_div_{}.{}.{}'.format(input_dict['radius'], input_dict['t_range'], input_dict['num_bins'])"
   ]
  },
  {
   "cell_type": "code",
   "execution_count": null,
   "metadata": {
    "scrolled": true
   },
   "outputs": [],
   "source": [
    "render.MEGAPLOT(input_dict)"
   ]
  },
  {
   "cell_type": "markdown",
   "metadata": {},
   "source": [
    "# Iterating over several different scales with bulk output"
   ]
  },
  {
   "cell_type": "code",
   "execution_count": 5,
   "metadata": {},
   "outputs": [
    {
     "name": "stdout",
     "output_type": "stream",
     "text": [
      "starting dimensions radius, t_range, num_bins: 800 800 10\n",
      "Thank you for choosing MEGAPLOT\n",
      "\n",
      "\n"
     ]
    },
    {
     "name": "stderr",
     "output_type": "stream",
     "text": [
      "/home/nathan/analysis/cell-comp-analysis/radial_analysis/render.py:604: UserWarning: FixedFormatter should only be used together with FixedLocator\n",
      "  ax.set_yticklabels(\n"
     ]
    },
    {
     "name": "stdout",
     "output_type": "stream",
     "text": [
      "Plot saved at  /home/nathan/data/results/radial_analysis_output/follow/cumulative_plots/scr_div_wt_div_800.800.10/uncrop_unlim/scr_apop_wt_div/Spatiotemporal dist. of probability of wild-type divisions \n",
      " around Scribble apoptoses (N=748) 800.800.10.pdf\n"
     ]
    },
    {
     "name": "stderr",
     "output_type": "stream",
     "text": [
      "/home/nathan/analysis/cell-comp-analysis/radial_analysis/render.py:604: UserWarning: FixedFormatter should only be used together with FixedLocator\n",
      "  ax.set_yticklabels(\n"
     ]
    },
    {
     "name": "stdout",
     "output_type": "stream",
     "text": [
      "Plot saved at  /home/nathan/data/results/radial_analysis_output/follow/cumulative_plots/scr_div_wt_div_800.800.10/uncrop_unlim/scr_apop_wt_div/Spatiotemporal dist. of wild-type divisions \n",
      " around Scribble apoptoses (N=748) 800.800.10.pdf\n"
     ]
    },
    {
     "name": "stderr",
     "output_type": "stream",
     "text": [
      "/home/nathan/analysis/cell-comp-analysis/radial_analysis/render.py:604: UserWarning: FixedFormatter should only be used together with FixedLocator\n",
      "  ax.set_yticklabels(\n"
     ]
    },
    {
     "name": "stdout",
     "output_type": "stream",
     "text": [
      "Plot saved at  /home/nathan/data/results/radial_analysis_output/follow/cumulative_plots/scr_div_wt_div_800.800.10/uncrop_unlim/scr_apop_wt_div/Spatiotemporal dist. of wild-type cells \n",
      " around Scribble apoptoses (N=748) 800.800.10.pdf\n"
     ]
    },
    {
     "name": "stderr",
     "output_type": "stream",
     "text": [
      "/home/nathan/analysis/cell-comp-analysis/radial_analysis/render.py:604: UserWarning: FixedFormatter should only be used together with FixedLocator\n",
      "  ax.set_yticklabels(\n"
     ]
    },
    {
     "name": "stdout",
     "output_type": "stream",
     "text": [
      "Plot saved at  /home/nathan/data/results/radial_analysis_output/follow/cumulative_plots/scr_div_wt_div_800.800.10/uncrop_unlim/wt_cont_wt_div/Spatiotemporal dist. of probability of wild-type divisions \n",
      " around wild-type random time points (N=10491) 800.800.10.pdf\n"
     ]
    },
    {
     "name": "stderr",
     "output_type": "stream",
     "text": [
      "/home/nathan/analysis/cell-comp-analysis/radial_analysis/render.py:604: UserWarning: FixedFormatter should only be used together with FixedLocator\n",
      "  ax.set_yticklabels(\n"
     ]
    },
    {
     "name": "stdout",
     "output_type": "stream",
     "text": [
      "Plot saved at  /home/nathan/data/results/radial_analysis_output/follow/cumulative_plots/scr_div_wt_div_800.800.10/uncrop_unlim/wt_cont_wt_div/Spatiotemporal dist. of wild-type divisions \n",
      " around wild-type random time points (N=10491) 800.800.10.pdf\n"
     ]
    },
    {
     "name": "stderr",
     "output_type": "stream",
     "text": [
      "/home/nathan/analysis/cell-comp-analysis/radial_analysis/render.py:604: UserWarning: FixedFormatter should only be used together with FixedLocator\n",
      "  ax.set_yticklabels(\n"
     ]
    },
    {
     "name": "stdout",
     "output_type": "stream",
     "text": [
      "Plot saved at  /home/nathan/data/results/radial_analysis_output/follow/cumulative_plots/scr_div_wt_div_800.800.10/uncrop_unlim/wt_cont_wt_div/Spatiotemporal dist. of wild-type cells \n",
      " around wild-type random time points (N=10491) 800.800.10.pdf\n"
     ]
    },
    {
     "name": "stderr",
     "output_type": "stream",
     "text": [
      "/home/nathan/analysis/cell-comp-analysis/radial_analysis/render.py:615: UserWarning: FixedFormatter should only be used together with FixedLocator\n",
      "  ax.set_yticklabels(\n"
     ]
    },
    {
     "name": "stdout",
     "output_type": "stream",
     "text": [
      "Plot saved at  /home/nathan/data/results/radial_analysis_output/follow/cumulative_plots/scr_div_wt_div_800.800.10/cbar_lim/scr_apop_wt_div/Spatiotemporal dist. of probability of wild-type divisions \n",
      " around Scribble apoptoses (N=748) 800.800.10.pdf\n"
     ]
    },
    {
     "name": "stderr",
     "output_type": "stream",
     "text": [
      "/home/nathan/analysis/cell-comp-analysis/radial_analysis/render.py:615: UserWarning: FixedFormatter should only be used together with FixedLocator\n",
      "  ax.set_yticklabels(\n"
     ]
    },
    {
     "name": "stdout",
     "output_type": "stream",
     "text": [
      "Plot saved at  /home/nathan/data/results/radial_analysis_output/follow/cumulative_plots/scr_div_wt_div_800.800.10/cbar_lim/wt_cont_wt_div/Spatiotemporal dist. of probability of wild-type divisions \n",
      " around wild-type random time points (N=10491) 800.800.10.pdf\n"
     ]
    },
    {
     "name": "stderr",
     "output_type": "stream",
     "text": [
      "/home/nathan/analysis/cell-comp-analysis/radial_analysis/render.py:604: UserWarning: FixedFormatter should only be used together with FixedLocator\n",
      "  ax.set_yticklabels(\n"
     ]
    },
    {
     "name": "stdout",
     "output_type": "stream",
     "text": [
      "Plot saved at  /home/nathan/data/results/radial_analysis_output/follow/cumulative_plots/scr_div_wt_div_800.800.10/crop/scr_apop_wt_div/Spatiotemporal dist. of probability of wild-type divisions \n",
      " around Scribble apoptoses (N=748) 800.800.10.pdf\n"
     ]
    },
    {
     "name": "stderr",
     "output_type": "stream",
     "text": [
      "/home/nathan/analysis/cell-comp-analysis/radial_analysis/render.py:604: UserWarning: FixedFormatter should only be used together with FixedLocator\n",
      "  ax.set_yticklabels(\n"
     ]
    },
    {
     "name": "stdout",
     "output_type": "stream",
     "text": [
      "Plot saved at  /home/nathan/data/results/radial_analysis_output/follow/cumulative_plots/scr_div_wt_div_800.800.10/crop/wt_cont_wt_div/Spatiotemporal dist. of probability of wild-type divisions \n",
      " around wild-type random time points (N=10491) 800.800.10.pdf\n"
     ]
    },
    {
     "name": "stderr",
     "output_type": "stream",
     "text": [
      "/home/nathan/analysis/cell-comp-analysis/radial_analysis/render.py:615: UserWarning: FixedFormatter should only be used together with FixedLocator\n",
      "  ax.set_yticklabels(\n"
     ]
    },
    {
     "name": "stdout",
     "output_type": "stream",
     "text": [
      "Plot saved at  /home/nathan/data/results/radial_analysis_output/follow/cumulative_plots/scr_div_wt_div_800.800.10/cbar_lim_crop/scr_apop_wt_div/Spatiotemporal dist. of probability of wild-type divisions \n",
      " around Scribble apoptoses (N=748) 800.800.10.pdf\n"
     ]
    },
    {
     "name": "stderr",
     "output_type": "stream",
     "text": [
      "/home/nathan/analysis/cell-comp-analysis/radial_analysis/render.py:615: UserWarning: FixedFormatter should only be used together with FixedLocator\n",
      "  ax.set_yticklabels(\n"
     ]
    },
    {
     "name": "stdout",
     "output_type": "stream",
     "text": [
      "Plot saved at  /home/nathan/data/results/radial_analysis_output/follow/cumulative_plots/scr_div_wt_div_800.800.10/cbar_lim_crop/wt_cont_wt_div/Spatiotemporal dist. of probability of wild-type divisions \n",
      " around wild-type random time points (N=10491) 800.800.10.pdf\n"
     ]
    },
    {
     "name": "stderr",
     "output_type": "stream",
     "text": [
      "/home/nathan/analysis/cell-comp-analysis/radial_analysis/render.py:604: UserWarning: FixedFormatter should only be used together with FixedLocator\n",
      "  ax.set_yticklabels(\n"
     ]
    },
    {
     "name": "stdout",
     "output_type": "stream",
     "text": [
      "Plot saved at  /home/nathan/data/results/radial_analysis_output/follow/cumulative_plots/scr_div_wt_div_800.800.10/CV/scr_apop_wt_div/Coefficient of variation of probability of wild-type divisions \n",
      " around Scribble apoptoses (N=748) 800.800.10.pdf\n"
     ]
    },
    {
     "name": "stderr",
     "output_type": "stream",
     "text": [
      "/home/nathan/analysis/cell-comp-analysis/radial_analysis/render.py:604: UserWarning: FixedFormatter should only be used together with FixedLocator\n",
      "  ax.set_yticklabels(\n"
     ]
    },
    {
     "name": "stdout",
     "output_type": "stream",
     "text": [
      "Plot saved at  /home/nathan/data/results/radial_analysis_output/follow/cumulative_plots/scr_div_wt_div_800.800.10/CV/wt_cont_wt_div/Coefficient of variation of probability of wild-type divisions \n",
      " around wild-type random time points (N=10491) 800.800.10.pdf\n"
     ]
    },
    {
     "name": "stderr",
     "output_type": "stream",
     "text": [
      "/home/nathan/analysis/cell-comp-analysis/radial_analysis/render.py:604: UserWarning: FixedFormatter should only be used together with FixedLocator\n",
      "  ax.set_yticklabels(\n"
     ]
    },
    {
     "name": "stdout",
     "output_type": "stream",
     "text": [
      "Plot saved at  /home/nathan/data/results/radial_analysis_output/follow/cumulative_plots/scr_div_wt_div_800.800.10/CV/scr_apop_wt_div/Statisticall relevant areas of probability of wild-type divisions \n",
      " around Scribble apoptoses (N=748) 800.800.10.pdf\n"
     ]
    },
    {
     "name": "stderr",
     "output_type": "stream",
     "text": [
      "/home/nathan/analysis/cell-comp-analysis/radial_analysis/render.py:604: UserWarning: FixedFormatter should only be used together with FixedLocator\n",
      "  ax.set_yticklabels(\n"
     ]
    },
    {
     "name": "stdout",
     "output_type": "stream",
     "text": [
      "Plot saved at  /home/nathan/data/results/radial_analysis_output/follow/cumulative_plots/scr_div_wt_div_800.800.10/combined/scr_apop_wt_div/Difference in probability between \n",
      "canonical and control analysis \n",
      "i.e. probability of division above background 800.800.10.pdf\n",
      "Saving out labelled plots\n",
      "\n",
      "\n"
     ]
    },
    {
     "name": "stderr",
     "output_type": "stream",
     "text": [
      "/home/nathan/analysis/cell-comp-analysis/radial_analysis/render.py:604: UserWarning: FixedFormatter should only be used together with FixedLocator\n",
      "  ax.set_yticklabels(\n"
     ]
    },
    {
     "name": "stdout",
     "output_type": "stream",
     "text": [
      "Plot saved at  /home/nathan/data/results/radial_analysis_output/follow/cumulative_plots/scr_div_wt_div_800.800.10/labelled/uncrop_unlim/scr_apop_wt_div/Spatiotemporal dist. of probability of wild-type divisions \n",
      " around Scribble apoptoses (N=748) 800.800.10.pdf\n"
     ]
    },
    {
     "name": "stderr",
     "output_type": "stream",
     "text": [
      "/home/nathan/analysis/cell-comp-analysis/radial_analysis/render.py:604: UserWarning: FixedFormatter should only be used together with FixedLocator\n",
      "  ax.set_yticklabels(\n"
     ]
    },
    {
     "name": "stdout",
     "output_type": "stream",
     "text": [
      "Plot saved at  /home/nathan/data/results/radial_analysis_output/follow/cumulative_plots/scr_div_wt_div_800.800.10/labelled/uncrop_unlim/scr_apop_wt_div/Spatiotemporal dist. of wild-type divisions \n",
      " around Scribble apoptoses (N=748) 800.800.10.pdf\n"
     ]
    },
    {
     "name": "stderr",
     "output_type": "stream",
     "text": [
      "/home/nathan/analysis/cell-comp-analysis/radial_analysis/render.py:604: UserWarning: FixedFormatter should only be used together with FixedLocator\n",
      "  ax.set_yticklabels(\n"
     ]
    },
    {
     "name": "stdout",
     "output_type": "stream",
     "text": [
      "Plot saved at  /home/nathan/data/results/radial_analysis_output/follow/cumulative_plots/scr_div_wt_div_800.800.10/labelled/uncrop_unlim/scr_apop_wt_div/Spatiotemporal dist. of wild-type cells \n",
      " around Scribble apoptoses (N=748) 800.800.10.pdf\n"
     ]
    },
    {
     "name": "stderr",
     "output_type": "stream",
     "text": [
      "/home/nathan/analysis/cell-comp-analysis/radial_analysis/render.py:604: UserWarning: FixedFormatter should only be used together with FixedLocator\n",
      "  ax.set_yticklabels(\n"
     ]
    },
    {
     "name": "stdout",
     "output_type": "stream",
     "text": [
      "Plot saved at  /home/nathan/data/results/radial_analysis_output/follow/cumulative_plots/scr_div_wt_div_800.800.10/labelled/uncrop_unlim/wt_cont_wt_div/Spatiotemporal dist. of probability of wild-type divisions \n",
      " around wild-type random time points (N=10491) 800.800.10.pdf\n"
     ]
    },
    {
     "name": "stderr",
     "output_type": "stream",
     "text": [
      "/home/nathan/analysis/cell-comp-analysis/radial_analysis/render.py:604: UserWarning: FixedFormatter should only be used together with FixedLocator\n",
      "  ax.set_yticklabels(\n"
     ]
    },
    {
     "name": "stdout",
     "output_type": "stream",
     "text": [
      "Plot saved at  /home/nathan/data/results/radial_analysis_output/follow/cumulative_plots/scr_div_wt_div_800.800.10/labelled/uncrop_unlim/wt_cont_wt_div/Spatiotemporal dist. of wild-type divisions \n",
      " around wild-type random time points (N=10491) 800.800.10.pdf\n"
     ]
    },
    {
     "name": "stderr",
     "output_type": "stream",
     "text": [
      "/home/nathan/analysis/cell-comp-analysis/radial_analysis/render.py:604: UserWarning: FixedFormatter should only be used together with FixedLocator\n",
      "  ax.set_yticklabels(\n"
     ]
    },
    {
     "name": "stdout",
     "output_type": "stream",
     "text": [
      "Plot saved at  /home/nathan/data/results/radial_analysis_output/follow/cumulative_plots/scr_div_wt_div_800.800.10/labelled/uncrop_unlim/wt_cont_wt_div/Spatiotemporal dist. of wild-type cells \n",
      " around wild-type random time points (N=10491) 800.800.10.pdf\n"
     ]
    },
    {
     "name": "stderr",
     "output_type": "stream",
     "text": [
      "/home/nathan/analysis/cell-comp-analysis/radial_analysis/render.py:615: UserWarning: FixedFormatter should only be used together with FixedLocator\n",
      "  ax.set_yticklabels(\n"
     ]
    },
    {
     "name": "stdout",
     "output_type": "stream",
     "text": [
      "Plot saved at  /home/nathan/data/results/radial_analysis_output/follow/cumulative_plots/scr_div_wt_div_800.800.10/labelled/cbar_lim/scr_apop_wt_div/Spatiotemporal dist. of probability of wild-type divisions \n",
      " around Scribble apoptoses (N=748) 800.800.10.pdf\n"
     ]
    },
    {
     "name": "stderr",
     "output_type": "stream",
     "text": [
      "/home/nathan/analysis/cell-comp-analysis/radial_analysis/render.py:615: UserWarning: FixedFormatter should only be used together with FixedLocator\n",
      "  ax.set_yticklabels(\n"
     ]
    },
    {
     "name": "stdout",
     "output_type": "stream",
     "text": [
      "Plot saved at  /home/nathan/data/results/radial_analysis_output/follow/cumulative_plots/scr_div_wt_div_800.800.10/labelled/cbar_lim/wt_cont_wt_div/Spatiotemporal dist. of probability of wild-type divisions \n",
      " around wild-type random time points (N=10491) 800.800.10.pdf\n"
     ]
    },
    {
     "name": "stderr",
     "output_type": "stream",
     "text": [
      "/home/nathan/analysis/cell-comp-analysis/radial_analysis/render.py:604: UserWarning: FixedFormatter should only be used together with FixedLocator\n",
      "  ax.set_yticklabels(\n"
     ]
    },
    {
     "name": "stdout",
     "output_type": "stream",
     "text": [
      "Plot saved at  /home/nathan/data/results/radial_analysis_output/follow/cumulative_plots/scr_div_wt_div_800.800.10/labelled/crop/scr_apop_wt_div/Spatiotemporal dist. of probability of wild-type divisions \n",
      " around Scribble apoptoses (N=748) 800.800.10.pdf\n"
     ]
    },
    {
     "name": "stderr",
     "output_type": "stream",
     "text": [
      "/home/nathan/analysis/cell-comp-analysis/radial_analysis/render.py:604: UserWarning: FixedFormatter should only be used together with FixedLocator\n",
      "  ax.set_yticklabels(\n"
     ]
    },
    {
     "name": "stdout",
     "output_type": "stream",
     "text": [
      "Plot saved at  /home/nathan/data/results/radial_analysis_output/follow/cumulative_plots/scr_div_wt_div_800.800.10/labelled/crop/wt_cont_wt_div/Spatiotemporal dist. of probability of wild-type divisions \n",
      " around wild-type random time points (N=10491) 800.800.10.pdf\n"
     ]
    },
    {
     "name": "stderr",
     "output_type": "stream",
     "text": [
      "/home/nathan/analysis/cell-comp-analysis/radial_analysis/render.py:615: UserWarning: FixedFormatter should only be used together with FixedLocator\n",
      "  ax.set_yticklabels(\n"
     ]
    },
    {
     "name": "stdout",
     "output_type": "stream",
     "text": [
      "Plot saved at  /home/nathan/data/results/radial_analysis_output/follow/cumulative_plots/scr_div_wt_div_800.800.10/labelled/cbar_lim_crop/scr_apop_wt_div/Spatiotemporal dist. of probability of wild-type divisions \n",
      " around Scribble apoptoses (N=748) 800.800.10.pdf\n"
     ]
    },
    {
     "name": "stderr",
     "output_type": "stream",
     "text": [
      "/home/nathan/analysis/cell-comp-analysis/radial_analysis/render.py:615: UserWarning: FixedFormatter should only be used together with FixedLocator\n",
      "  ax.set_yticklabels(\n"
     ]
    },
    {
     "name": "stdout",
     "output_type": "stream",
     "text": [
      "Plot saved at  /home/nathan/data/results/radial_analysis_output/follow/cumulative_plots/scr_div_wt_div_800.800.10/labelled/cbar_lim_crop/wt_cont_wt_div/Spatiotemporal dist. of probability of wild-type divisions \n",
      " around wild-type random time points (N=10491) 800.800.10.pdf\n"
     ]
    },
    {
     "name": "stderr",
     "output_type": "stream",
     "text": [
      "/home/nathan/analysis/cell-comp-analysis/radial_analysis/render.py:604: UserWarning: FixedFormatter should only be used together with FixedLocator\n",
      "  ax.set_yticklabels(\n"
     ]
    },
    {
     "name": "stdout",
     "output_type": "stream",
     "text": [
      "Plot saved at  /home/nathan/data/results/radial_analysis_output/follow/cumulative_plots/scr_div_wt_div_800.800.10/labelled/CV/scr_apop_wt_div/Coefficient of variation of probability of wild-type divisions \n",
      " around Scribble apoptoses (N=748) 800.800.10.pdf\n"
     ]
    },
    {
     "name": "stderr",
     "output_type": "stream",
     "text": [
      "/home/nathan/analysis/cell-comp-analysis/radial_analysis/render.py:604: UserWarning: FixedFormatter should only be used together with FixedLocator\n",
      "  ax.set_yticklabels(\n"
     ]
    },
    {
     "name": "stdout",
     "output_type": "stream",
     "text": [
      "Plot saved at  /home/nathan/data/results/radial_analysis_output/follow/cumulative_plots/scr_div_wt_div_800.800.10/labelled/CV/wt_cont_wt_div/Coefficient of variation of probability of wild-type divisions \n",
      " around wild-type random time points (N=10491) 800.800.10.pdf\n"
     ]
    },
    {
     "name": "stderr",
     "output_type": "stream",
     "text": [
      "/home/nathan/analysis/cell-comp-analysis/radial_analysis/render.py:604: UserWarning: FixedFormatter should only be used together with FixedLocator\n",
      "  ax.set_yticklabels(\n"
     ]
    },
    {
     "name": "stdout",
     "output_type": "stream",
     "text": [
      "Plot saved at  /home/nathan/data/results/radial_analysis_output/follow/cumulative_plots/scr_div_wt_div_800.800.10/labelled/CV/scr_apop_wt_div/Statisticall relevant areas of probability of wild-type divisions \n",
      " around Scribble apoptoses (N=748) 800.800.10.pdf\n"
     ]
    },
    {
     "name": "stderr",
     "output_type": "stream",
     "text": [
      "/home/nathan/analysis/cell-comp-analysis/radial_analysis/render.py:604: UserWarning: FixedFormatter should only be used together with FixedLocator\n",
      "  ax.set_yticklabels(\n"
     ]
    },
    {
     "name": "stdout",
     "output_type": "stream",
     "text": [
      "Plot saved at  /home/nathan/data/results/radial_analysis_output/follow/cumulative_plots/scr_div_wt_div_800.800.10/labelled/combined/scr_apop_wt_div/Difference in probability between \n",
      "canonical and control analysis \n",
      "i.e. probability of division above background 800.800.10.pdf\n",
      "Plots saved out\n",
      "starting dimensions radius, t_range, num_bins: 800 800 20\n",
      "Thank you for choosing MEGAPLOT\n",
      "\n",
      "\n"
     ]
    },
    {
     "name": "stderr",
     "output_type": "stream",
     "text": [
      "/home/nathan/analysis/cell-comp-analysis/radial_analysis/render.py:604: UserWarning: FixedFormatter should only be used together with FixedLocator\n",
      "  ax.set_yticklabels(\n"
     ]
    },
    {
     "name": "stdout",
     "output_type": "stream",
     "text": [
      "Plot saved at  /home/nathan/data/results/radial_analysis_output/follow/cumulative_plots/scr_div_wt_div_800.800.20/uncrop_unlim/scr_apop_wt_div/Spatiotemporal dist. of probability of wild-type divisions \n",
      " around Scribble apoptoses (N=748) 800.800.20.pdf\n"
     ]
    },
    {
     "name": "stderr",
     "output_type": "stream",
     "text": [
      "/home/nathan/analysis/cell-comp-analysis/radial_analysis/render.py:604: UserWarning: FixedFormatter should only be used together with FixedLocator\n",
      "  ax.set_yticklabels(\n"
     ]
    },
    {
     "name": "stdout",
     "output_type": "stream",
     "text": [
      "Plot saved at  /home/nathan/data/results/radial_analysis_output/follow/cumulative_plots/scr_div_wt_div_800.800.20/uncrop_unlim/scr_apop_wt_div/Spatiotemporal dist. of wild-type divisions \n",
      " around Scribble apoptoses (N=748) 800.800.20.pdf\n"
     ]
    },
    {
     "name": "stderr",
     "output_type": "stream",
     "text": [
      "/home/nathan/analysis/cell-comp-analysis/radial_analysis/render.py:604: UserWarning: FixedFormatter should only be used together with FixedLocator\n",
      "  ax.set_yticklabels(\n"
     ]
    },
    {
     "name": "stdout",
     "output_type": "stream",
     "text": [
      "Plot saved at  /home/nathan/data/results/radial_analysis_output/follow/cumulative_plots/scr_div_wt_div_800.800.20/uncrop_unlim/scr_apop_wt_div/Spatiotemporal dist. of wild-type cells \n",
      " around Scribble apoptoses (N=748) 800.800.20.pdf\n"
     ]
    },
    {
     "name": "stderr",
     "output_type": "stream",
     "text": [
      "/home/nathan/analysis/cell-comp-analysis/radial_analysis/render.py:604: UserWarning: FixedFormatter should only be used together with FixedLocator\n",
      "  ax.set_yticklabels(\n"
     ]
    },
    {
     "name": "stdout",
     "output_type": "stream",
     "text": [
      "Plot saved at  /home/nathan/data/results/radial_analysis_output/follow/cumulative_plots/scr_div_wt_div_800.800.20/uncrop_unlim/wt_cont_wt_div/Spatiotemporal dist. of probability of wild-type divisions \n",
      " around wild-type random time points (N=10491) 800.800.20.pdf\n"
     ]
    },
    {
     "name": "stderr",
     "output_type": "stream",
     "text": [
      "/home/nathan/analysis/cell-comp-analysis/radial_analysis/render.py:604: UserWarning: FixedFormatter should only be used together with FixedLocator\n",
      "  ax.set_yticklabels(\n"
     ]
    },
    {
     "name": "stdout",
     "output_type": "stream",
     "text": [
      "Plot saved at  /home/nathan/data/results/radial_analysis_output/follow/cumulative_plots/scr_div_wt_div_800.800.20/uncrop_unlim/wt_cont_wt_div/Spatiotemporal dist. of wild-type divisions \n",
      " around wild-type random time points (N=10491) 800.800.20.pdf\n"
     ]
    },
    {
     "name": "stderr",
     "output_type": "stream",
     "text": [
      "/home/nathan/analysis/cell-comp-analysis/radial_analysis/render.py:604: UserWarning: FixedFormatter should only be used together with FixedLocator\n",
      "  ax.set_yticklabels(\n"
     ]
    },
    {
     "name": "stdout",
     "output_type": "stream",
     "text": [
      "Plot saved at  /home/nathan/data/results/radial_analysis_output/follow/cumulative_plots/scr_div_wt_div_800.800.20/uncrop_unlim/wt_cont_wt_div/Spatiotemporal dist. of wild-type cells \n",
      " around wild-type random time points (N=10491) 800.800.20.pdf\n"
     ]
    },
    {
     "name": "stderr",
     "output_type": "stream",
     "text": [
      "/home/nathan/analysis/cell-comp-analysis/radial_analysis/render.py:615: UserWarning: FixedFormatter should only be used together with FixedLocator\n",
      "  ax.set_yticklabels(\n"
     ]
    },
    {
     "name": "stdout",
     "output_type": "stream",
     "text": [
      "Plot saved at  /home/nathan/data/results/radial_analysis_output/follow/cumulative_plots/scr_div_wt_div_800.800.20/cbar_lim/scr_apop_wt_div/Spatiotemporal dist. of probability of wild-type divisions \n",
      " around Scribble apoptoses (N=748) 800.800.20.pdf\n"
     ]
    },
    {
     "name": "stderr",
     "output_type": "stream",
     "text": [
      "/home/nathan/analysis/cell-comp-analysis/radial_analysis/render.py:615: UserWarning: FixedFormatter should only be used together with FixedLocator\n",
      "  ax.set_yticklabels(\n"
     ]
    },
    {
     "name": "stdout",
     "output_type": "stream",
     "text": [
      "Plot saved at  /home/nathan/data/results/radial_analysis_output/follow/cumulative_plots/scr_div_wt_div_800.800.20/cbar_lim/wt_cont_wt_div/Spatiotemporal dist. of probability of wild-type divisions \n",
      " around wild-type random time points (N=10491) 800.800.20.pdf\n"
     ]
    },
    {
     "name": "stderr",
     "output_type": "stream",
     "text": [
      "/home/nathan/analysis/cell-comp-analysis/radial_analysis/render.py:604: UserWarning: FixedFormatter should only be used together with FixedLocator\n",
      "  ax.set_yticklabels(\n"
     ]
    },
    {
     "name": "stdout",
     "output_type": "stream",
     "text": [
      "Plot saved at  /home/nathan/data/results/radial_analysis_output/follow/cumulative_plots/scr_div_wt_div_800.800.20/crop/scr_apop_wt_div/Spatiotemporal dist. of probability of wild-type divisions \n",
      " around Scribble apoptoses (N=748) 800.800.20.pdf\n"
     ]
    },
    {
     "name": "stderr",
     "output_type": "stream",
     "text": [
      "/home/nathan/analysis/cell-comp-analysis/radial_analysis/render.py:604: UserWarning: FixedFormatter should only be used together with FixedLocator\n",
      "  ax.set_yticklabels(\n"
     ]
    },
    {
     "name": "stdout",
     "output_type": "stream",
     "text": [
      "Plot saved at  /home/nathan/data/results/radial_analysis_output/follow/cumulative_plots/scr_div_wt_div_800.800.20/crop/wt_cont_wt_div/Spatiotemporal dist. of probability of wild-type divisions \n",
      " around wild-type random time points (N=10491) 800.800.20.pdf\n"
     ]
    },
    {
     "name": "stderr",
     "output_type": "stream",
     "text": [
      "/home/nathan/analysis/cell-comp-analysis/radial_analysis/render.py:615: UserWarning: FixedFormatter should only be used together with FixedLocator\n",
      "  ax.set_yticklabels(\n"
     ]
    },
    {
     "name": "stdout",
     "output_type": "stream",
     "text": [
      "Plot saved at  /home/nathan/data/results/radial_analysis_output/follow/cumulative_plots/scr_div_wt_div_800.800.20/cbar_lim_crop/scr_apop_wt_div/Spatiotemporal dist. of probability of wild-type divisions \n",
      " around Scribble apoptoses (N=748) 800.800.20.pdf\n"
     ]
    },
    {
     "name": "stderr",
     "output_type": "stream",
     "text": [
      "/home/nathan/analysis/cell-comp-analysis/radial_analysis/render.py:615: UserWarning: FixedFormatter should only be used together with FixedLocator\n",
      "  ax.set_yticklabels(\n"
     ]
    },
    {
     "name": "stdout",
     "output_type": "stream",
     "text": [
      "Plot saved at  /home/nathan/data/results/radial_analysis_output/follow/cumulative_plots/scr_div_wt_div_800.800.20/cbar_lim_crop/wt_cont_wt_div/Spatiotemporal dist. of probability of wild-type divisions \n",
      " around wild-type random time points (N=10491) 800.800.20.pdf\n"
     ]
    },
    {
     "name": "stderr",
     "output_type": "stream",
     "text": [
      "/home/nathan/analysis/cell-comp-analysis/radial_analysis/render.py:942: RuntimeWarning: divide by zero encountered in true_divide\n",
      "  cv = np.nan_to_num(np.sqrt((1 - P_events) / (P_events * N_cells)), posinf=1)\n",
      "/home/nathan/analysis/cell-comp-analysis/radial_analysis/render.py:604: UserWarning: FixedFormatter should only be used together with FixedLocator\n",
      "  ax.set_yticklabels(\n"
     ]
    },
    {
     "name": "stdout",
     "output_type": "stream",
     "text": [
      "Plot saved at  /home/nathan/data/results/radial_analysis_output/follow/cumulative_plots/scr_div_wt_div_800.800.20/CV/scr_apop_wt_div/Coefficient of variation of probability of wild-type divisions \n",
      " around Scribble apoptoses (N=748) 800.800.20.pdf\n"
     ]
    },
    {
     "name": "stderr",
     "output_type": "stream",
     "text": [
      "/home/nathan/analysis/cell-comp-analysis/radial_analysis/render.py:604: UserWarning: FixedFormatter should only be used together with FixedLocator\n",
      "  ax.set_yticklabels(\n"
     ]
    },
    {
     "name": "stdout",
     "output_type": "stream",
     "text": [
      "Plot saved at  /home/nathan/data/results/radial_analysis_output/follow/cumulative_plots/scr_div_wt_div_800.800.20/CV/wt_cont_wt_div/Coefficient of variation of probability of wild-type divisions \n",
      " around wild-type random time points (N=10491) 800.800.20.pdf\n"
     ]
    },
    {
     "name": "stderr",
     "output_type": "stream",
     "text": [
      "/home/nathan/analysis/cell-comp-analysis/radial_analysis/render.py:604: UserWarning: FixedFormatter should only be used together with FixedLocator\n",
      "  ax.set_yticklabels(\n"
     ]
    },
    {
     "name": "stdout",
     "output_type": "stream",
     "text": [
      "Plot saved at  /home/nathan/data/results/radial_analysis_output/follow/cumulative_plots/scr_div_wt_div_800.800.20/CV/scr_apop_wt_div/Statisticall relevant areas of probability of wild-type divisions \n",
      " around Scribble apoptoses (N=748) 800.800.20.pdf\n"
     ]
    },
    {
     "name": "stderr",
     "output_type": "stream",
     "text": [
      "/home/nathan/analysis/cell-comp-analysis/radial_analysis/render.py:604: UserWarning: FixedFormatter should only be used together with FixedLocator\n",
      "  ax.set_yticklabels(\n"
     ]
    },
    {
     "name": "stdout",
     "output_type": "stream",
     "text": [
      "Plot saved at  /home/nathan/data/results/radial_analysis_output/follow/cumulative_plots/scr_div_wt_div_800.800.20/combined/scr_apop_wt_div/Difference in probability between \n",
      "canonical and control analysis \n",
      "i.e. probability of division above background 800.800.20.pdf\n",
      "Saving out labelled plots\n",
      "\n",
      "\n"
     ]
    },
    {
     "name": "stderr",
     "output_type": "stream",
     "text": [
      "/home/nathan/analysis/cell-comp-analysis/radial_analysis/render.py:604: UserWarning: FixedFormatter should only be used together with FixedLocator\n",
      "  ax.set_yticklabels(\n"
     ]
    },
    {
     "name": "stdout",
     "output_type": "stream",
     "text": [
      "Plot saved at  /home/nathan/data/results/radial_analysis_output/follow/cumulative_plots/scr_div_wt_div_800.800.20/labelled/uncrop_unlim/scr_apop_wt_div/Spatiotemporal dist. of probability of wild-type divisions \n",
      " around Scribble apoptoses (N=748) 800.800.20.pdf\n"
     ]
    },
    {
     "name": "stderr",
     "output_type": "stream",
     "text": [
      "/home/nathan/analysis/cell-comp-analysis/radial_analysis/render.py:604: UserWarning: FixedFormatter should only be used together with FixedLocator\n",
      "  ax.set_yticklabels(\n"
     ]
    },
    {
     "name": "stdout",
     "output_type": "stream",
     "text": [
      "Plot saved at  /home/nathan/data/results/radial_analysis_output/follow/cumulative_plots/scr_div_wt_div_800.800.20/labelled/uncrop_unlim/scr_apop_wt_div/Spatiotemporal dist. of wild-type divisions \n",
      " around Scribble apoptoses (N=748) 800.800.20.pdf\n"
     ]
    },
    {
     "name": "stderr",
     "output_type": "stream",
     "text": [
      "/home/nathan/analysis/cell-comp-analysis/radial_analysis/render.py:604: UserWarning: FixedFormatter should only be used together with FixedLocator\n",
      "  ax.set_yticklabels(\n"
     ]
    },
    {
     "name": "stdout",
     "output_type": "stream",
     "text": [
      "Plot saved at  /home/nathan/data/results/radial_analysis_output/follow/cumulative_plots/scr_div_wt_div_800.800.20/labelled/uncrop_unlim/scr_apop_wt_div/Spatiotemporal dist. of wild-type cells \n",
      " around Scribble apoptoses (N=748) 800.800.20.pdf\n"
     ]
    },
    {
     "name": "stderr",
     "output_type": "stream",
     "text": [
      "/home/nathan/analysis/cell-comp-analysis/radial_analysis/render.py:604: UserWarning: FixedFormatter should only be used together with FixedLocator\n",
      "  ax.set_yticklabels(\n"
     ]
    },
    {
     "name": "stdout",
     "output_type": "stream",
     "text": [
      "Plot saved at  /home/nathan/data/results/radial_analysis_output/follow/cumulative_plots/scr_div_wt_div_800.800.20/labelled/uncrop_unlim/wt_cont_wt_div/Spatiotemporal dist. of probability of wild-type divisions \n",
      " around wild-type random time points (N=10491) 800.800.20.pdf\n"
     ]
    },
    {
     "name": "stderr",
     "output_type": "stream",
     "text": [
      "/home/nathan/analysis/cell-comp-analysis/radial_analysis/render.py:604: UserWarning: FixedFormatter should only be used together with FixedLocator\n",
      "  ax.set_yticklabels(\n"
     ]
    },
    {
     "name": "stdout",
     "output_type": "stream",
     "text": [
      "Plot saved at  /home/nathan/data/results/radial_analysis_output/follow/cumulative_plots/scr_div_wt_div_800.800.20/labelled/uncrop_unlim/wt_cont_wt_div/Spatiotemporal dist. of wild-type divisions \n",
      " around wild-type random time points (N=10491) 800.800.20.pdf\n"
     ]
    },
    {
     "name": "stderr",
     "output_type": "stream",
     "text": [
      "/home/nathan/analysis/cell-comp-analysis/radial_analysis/render.py:604: UserWarning: FixedFormatter should only be used together with FixedLocator\n",
      "  ax.set_yticklabels(\n"
     ]
    },
    {
     "name": "stdout",
     "output_type": "stream",
     "text": [
      "Plot saved at  /home/nathan/data/results/radial_analysis_output/follow/cumulative_plots/scr_div_wt_div_800.800.20/labelled/uncrop_unlim/wt_cont_wt_div/Spatiotemporal dist. of wild-type cells \n",
      " around wild-type random time points (N=10491) 800.800.20.pdf\n"
     ]
    },
    {
     "name": "stderr",
     "output_type": "stream",
     "text": [
      "/home/nathan/analysis/cell-comp-analysis/radial_analysis/render.py:615: UserWarning: FixedFormatter should only be used together with FixedLocator\n",
      "  ax.set_yticklabels(\n"
     ]
    },
    {
     "name": "stdout",
     "output_type": "stream",
     "text": [
      "Plot saved at  /home/nathan/data/results/radial_analysis_output/follow/cumulative_plots/scr_div_wt_div_800.800.20/labelled/cbar_lim/scr_apop_wt_div/Spatiotemporal dist. of probability of wild-type divisions \n",
      " around Scribble apoptoses (N=748) 800.800.20.pdf\n"
     ]
    },
    {
     "name": "stderr",
     "output_type": "stream",
     "text": [
      "/home/nathan/analysis/cell-comp-analysis/radial_analysis/render.py:615: UserWarning: FixedFormatter should only be used together with FixedLocator\n",
      "  ax.set_yticklabels(\n"
     ]
    },
    {
     "name": "stdout",
     "output_type": "stream",
     "text": [
      "Plot saved at  /home/nathan/data/results/radial_analysis_output/follow/cumulative_plots/scr_div_wt_div_800.800.20/labelled/cbar_lim/wt_cont_wt_div/Spatiotemporal dist. of probability of wild-type divisions \n",
      " around wild-type random time points (N=10491) 800.800.20.pdf\n"
     ]
    },
    {
     "name": "stderr",
     "output_type": "stream",
     "text": [
      "/home/nathan/analysis/cell-comp-analysis/radial_analysis/render.py:604: UserWarning: FixedFormatter should only be used together with FixedLocator\n",
      "  ax.set_yticklabels(\n"
     ]
    },
    {
     "name": "stdout",
     "output_type": "stream",
     "text": [
      "Plot saved at  /home/nathan/data/results/radial_analysis_output/follow/cumulative_plots/scr_div_wt_div_800.800.20/labelled/crop/scr_apop_wt_div/Spatiotemporal dist. of probability of wild-type divisions \n",
      " around Scribble apoptoses (N=748) 800.800.20.pdf\n"
     ]
    },
    {
     "name": "stderr",
     "output_type": "stream",
     "text": [
      "/home/nathan/analysis/cell-comp-analysis/radial_analysis/render.py:604: UserWarning: FixedFormatter should only be used together with FixedLocator\n",
      "  ax.set_yticklabels(\n"
     ]
    },
    {
     "name": "stdout",
     "output_type": "stream",
     "text": [
      "Plot saved at  /home/nathan/data/results/radial_analysis_output/follow/cumulative_plots/scr_div_wt_div_800.800.20/labelled/crop/wt_cont_wt_div/Spatiotemporal dist. of probability of wild-type divisions \n",
      " around wild-type random time points (N=10491) 800.800.20.pdf\n"
     ]
    },
    {
     "name": "stderr",
     "output_type": "stream",
     "text": [
      "/home/nathan/analysis/cell-comp-analysis/radial_analysis/render.py:615: UserWarning: FixedFormatter should only be used together with FixedLocator\n",
      "  ax.set_yticklabels(\n"
     ]
    },
    {
     "name": "stdout",
     "output_type": "stream",
     "text": [
      "Plot saved at  /home/nathan/data/results/radial_analysis_output/follow/cumulative_plots/scr_div_wt_div_800.800.20/labelled/cbar_lim_crop/scr_apop_wt_div/Spatiotemporal dist. of probability of wild-type divisions \n",
      " around Scribble apoptoses (N=748) 800.800.20.pdf\n"
     ]
    },
    {
     "name": "stderr",
     "output_type": "stream",
     "text": [
      "/home/nathan/analysis/cell-comp-analysis/radial_analysis/render.py:615: UserWarning: FixedFormatter should only be used together with FixedLocator\n",
      "  ax.set_yticklabels(\n"
     ]
    },
    {
     "name": "stdout",
     "output_type": "stream",
     "text": [
      "Plot saved at  /home/nathan/data/results/radial_analysis_output/follow/cumulative_plots/scr_div_wt_div_800.800.20/labelled/cbar_lim_crop/wt_cont_wt_div/Spatiotemporal dist. of probability of wild-type divisions \n",
      " around wild-type random time points (N=10491) 800.800.20.pdf\n"
     ]
    },
    {
     "name": "stderr",
     "output_type": "stream",
     "text": [
      "/home/nathan/analysis/cell-comp-analysis/radial_analysis/render.py:1227: RuntimeWarning: divide by zero encountered in true_divide\n",
      "  cv = np.nan_to_num(np.sqrt((1 - P_events) / (P_events * N_cells)), posinf=1)\n",
      "/home/nathan/analysis/cell-comp-analysis/radial_analysis/render.py:604: UserWarning: FixedFormatter should only be used together with FixedLocator\n",
      "  ax.set_yticklabels(\n"
     ]
    },
    {
     "name": "stdout",
     "output_type": "stream",
     "text": [
      "Plot saved at  /home/nathan/data/results/radial_analysis_output/follow/cumulative_plots/scr_div_wt_div_800.800.20/labelled/CV/scr_apop_wt_div/Coefficient of variation of probability of wild-type divisions \n",
      " around Scribble apoptoses (N=748) 800.800.20.pdf\n"
     ]
    },
    {
     "name": "stderr",
     "output_type": "stream",
     "text": [
      "/home/nathan/analysis/cell-comp-analysis/radial_analysis/render.py:604: UserWarning: FixedFormatter should only be used together with FixedLocator\n",
      "  ax.set_yticklabels(\n"
     ]
    },
    {
     "name": "stdout",
     "output_type": "stream",
     "text": [
      "Plot saved at  /home/nathan/data/results/radial_analysis_output/follow/cumulative_plots/scr_div_wt_div_800.800.20/labelled/CV/wt_cont_wt_div/Coefficient of variation of probability of wild-type divisions \n",
      " around wild-type random time points (N=10491) 800.800.20.pdf\n"
     ]
    },
    {
     "name": "stderr",
     "output_type": "stream",
     "text": [
      "/home/nathan/analysis/cell-comp-analysis/radial_analysis/render.py:604: UserWarning: FixedFormatter should only be used together with FixedLocator\n",
      "  ax.set_yticklabels(\n"
     ]
    },
    {
     "name": "stdout",
     "output_type": "stream",
     "text": [
      "Plot saved at  /home/nathan/data/results/radial_analysis_output/follow/cumulative_plots/scr_div_wt_div_800.800.20/labelled/CV/scr_apop_wt_div/Statisticall relevant areas of probability of wild-type divisions \n",
      " around Scribble apoptoses (N=748) 800.800.20.pdf\n"
     ]
    },
    {
     "name": "stderr",
     "output_type": "stream",
     "text": [
      "/home/nathan/analysis/cell-comp-analysis/radial_analysis/render.py:604: UserWarning: FixedFormatter should only be used together with FixedLocator\n",
      "  ax.set_yticklabels(\n"
     ]
    },
    {
     "name": "stdout",
     "output_type": "stream",
     "text": [
      "Plot saved at  /home/nathan/data/results/radial_analysis_output/follow/cumulative_plots/scr_div_wt_div_800.800.20/labelled/combined/scr_apop_wt_div/Difference in probability between \n",
      "canonical and control analysis \n",
      "i.e. probability of division above background 800.800.20.pdf\n",
      "Plots saved out\n"
     ]
    }
   ],
   "source": [
    "for config in ['800.800.10','800.800.20']:\n",
    "    radius = int(config.split('.')[0])\n",
    "    t_range = int(config.split('.')[1])\n",
    "    num_bins = int(config.split('.')[2])\n",
    "    print('starting dimensions radius, t_range, num_bins:',radius, t_range, num_bins)\n",
    "    save_parent_dir = '/home/nathan/data/results/radial_analysis_output/follow/cumulative_plots/scr_div_wt_div_{}.{}.{}'.format(radius, t_range, num_bins)\n",
    "    ### load npz\n",
    "    with np.load('/home/nathan/data/results/radial_analysis_output/follow/arrays/scr_div_wt_div_N_cell_N_event_P_event_{}.{}.{}.npz'.format(radius, t_range, num_bins, radius, t_range, num_bins)) as data:\n",
    "        N_cells = data['arr_0']\n",
    "        N_events = data['arr_1']\n",
    "        P_events = data['arr_2']\n",
    "    with np.load('/home/nathan/data/results/radial_analysis_output/follow/arrays/control_N_cell_N_event_P_event_{}.{}.{}.npz'.format(radius, t_range, num_bins, radius, t_range, num_bins)) as data:\n",
    "        N_cells_c = data['arr_0']\n",
    "        N_events_c = data['arr_1']\n",
    "        P_events_c = data['arr_2']\n",
    "    N_c = 10491\n",
    "    N = 748\n",
    "    \n",
    "    input_dict = {'radius': radius, 't_range': t_range, 'num_bins': num_bins}\n",
    "    input_dict['N_cells'] = N_cells \n",
    "    input_dict['N_events'] = N_events\n",
    "    input_dict['P_events'] = P_events \n",
    "    input_dict['N_cells_c'] = N_cells_c \n",
    "    input_dict['N_events_c'] = N_events_c \n",
    "    input_dict['P_events_c'] = P_events_c \n",
    "    input_dict['N'], input_dict['N_c'] = N, N_c \n",
    "    input_dict['save_parent_dir'] = '/home/nathan/data/results/radial_analysis_output/follow/cumulative_plots/scr_div_wt_div_{}.{}.{}'.format(input_dict['radius'], input_dict['t_range'], input_dict['num_bins'])\n",
    "\n",
    "    render.MEGAPLOT(input_dict)"
   ]
  },
  {
   "cell_type": "code",
   "execution_count": null,
   "metadata": {},
   "outputs": [],
   "source": [
    "render.MEGAPLOT(N_cells, N_events, P_events, N_cells_c, N_events_c, P_events_c, N, N_c, limit, limit_c, cbar_lim, radius, t_range, num_bins, save_parent_dir)"
   ]
  },
  {
   "cell_type": "code",
   "execution_count": null,
   "metadata": {},
   "outputs": [],
   "source": [
    "render.auto_plot_cumulative(\n",
    "        P_events,\n",
    "        \"P_events\",\n",
    "        N,\n",
    "        num_bins,\n",
    "        radius,\n",
    "        t_range,\n",
    "        'scr',\n",
    "        'div',\n",
    "        'wt',\n",
    "        'div',\n",
    "        '',\n",
    "        \"\",  # cbar_lim = (0, 0.002),\n",
    "        include_apop_bin=True,\n",
    "        bin_labels=False,\n",
    "        SI=True,)\n",
    "plt.show()"
   ]
  },
  {
   "cell_type": "code",
   "execution_count": null,
   "metadata": {},
   "outputs": [],
   "source": [
    "plt.imshow(N_cells)\n",
    "plt.show()"
   ]
  },
  {
   "cell_type": "markdown",
   "metadata": {},
   "source": [
    "### Segregating raw lists based on experiment type"
   ]
  },
  {
   "cell_type": "code",
   "execution_count": null,
   "metadata": {},
   "outputs": [],
   "source": [
    "ninety_ten = [\n",
    "# 'GV0794/Pos3',\n",
    " 'GV0794/Pos8',\n",
    " #'GV0794/Pos15',\n",
    " 'GV0795/Pos3',\n",
    " 'GV0795/Pos8',\n",
    " 'GV0795/Pos16',\n",
    " 'GV0796/Pos3',\n",
    " 'GV0796/Pos8',\n",
    " 'GV0796/Pos19',\n",
    " 'GV0796/Pos20',\n",
    " 'GV0797/Pos3',\n",
    " 'GV0797/Pos8',\n",
    " 'GV0797/Pos18',\n",
    " #'GV0797/Pos19',\n",
    " 'GV0798/Pos3',\n",
    " 'GV0798/Pos8',\n",
    " 'GV0798/Pos18',\n",
    " 'GV0798/Pos19',\n",
    " 'GV0800/Pos3',\n",
    " 'GV0800/Pos8',\n",
    " 'GV0800/Pos15',\n",
    " 'GV0801/Pos3',\n",
    " 'GV0802/Pos3',\n",
    " #'GV0804/Pos3',\n",
    " 'GV0805/Pos3',\n",
    " 'GV0806/Pos3',\n",
    " 'GV0807/Pos3']"
   ]
  },
  {
   "cell_type": "code",
   "execution_count": null,
   "metadata": {},
   "outputs": [],
   "source": [
    "import shutil"
   ]
  },
  {
   "cell_type": "code",
   "execution_count": null,
   "metadata": {},
   "outputs": [],
   "source": [
    "for fn in os.listdir('/home/nathan/data/kraken/h2b/giulia/radial_analysis_output/follow/raw_lists/1600.1600/control'):\n",
    "    expt_ID = fn.split('_')[0]+'/'+fn.split('_')[1]\n",
    "    if expt_ID in ninety_ten:\n",
    "        shutil.copyfile(os.path.join('/home/nathan/data/kraken/h2b/giulia/radial_analysis_output/follow/raw_lists/1600.1600/control', fn),os.path.join('/home/nathan/data/kraken/h2b/giulia/radial_analysis_output/follow/raw_lists/1600.1600/control_ninety_ten', fn))"
   ]
  }
 ],
 "metadata": {
  "kernelspec": {
   "display_name": "CellX",
   "language": "python",
   "name": "cellx"
  },
  "language_info": {
   "codemirror_mode": {
    "name": "ipython",
    "version": 3
   },
   "file_extension": ".py",
   "mimetype": "text/x-python",
   "name": "python",
   "nbconvert_exporter": "python",
   "pygments_lexer": "ipython3",
   "version": "3.9.6"
  }
 },
 "nbformat": 4,
 "nbformat_minor": 4
}
