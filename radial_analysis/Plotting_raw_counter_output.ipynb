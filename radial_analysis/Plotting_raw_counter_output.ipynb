{
 "cells": [
  {
   "cell_type": "markdown",
   "metadata": {},
   "source": [
    "# Plotting the output from Cumulative event counter"
   ]
  },
  {
   "cell_type": "markdown",
   "metadata": {},
   "source": [
    "Notebook just for compiling raw listed cell/event counter data as heatmaps"
   ]
  },
  {
   "cell_type": "code",
   "execution_count": 1,
   "metadata": {},
   "outputs": [],
   "source": [
    "import csv, glob, re, os\n",
    "import numpy as np\n",
    "from natsort import natsorted\n",
    "import matplotlib.pyplot as plt\n",
    "from tqdm import tqdm\n",
    "import render"
   ]
  },
  {
   "cell_type": "markdown",
   "metadata": {},
   "source": [
    "### Set parent directory of raw .csv files"
   ]
  },
  {
   "cell_type": "code",
   "execution_count": 2,
   "metadata": {},
   "outputs": [],
   "source": [
    "raw_files_dir = '/home/nathan/data/kraken/h2b/giulia/radial_analysis_output/follow/raw_lists/1600.1600/canon'"
   ]
  },
  {
   "cell_type": "markdown",
   "metadata": {},
   "source": [
    "### Set the dimensions of the heatmap"
   ]
  },
  {
   "cell_type": "code",
   "execution_count": 3,
   "metadata": {},
   "outputs": [],
   "source": [
    "radius, t_range, num_bins = 100, 100, 40"
   ]
  },
  {
   "cell_type": "code",
   "execution_count": 13,
   "metadata": {},
   "outputs": [],
   "source": [
    "focal_cell = 'Scr'\n",
    "focal_event = 'APOPTOSIS'\n",
    "subject_cell = 'wt'\n",
    "subject_event = 'DIVISION'"
   ]
  },
  {
   "cell_type": "markdown",
   "metadata": {},
   "source": [
    "### Compile single cumulative heatmap"
   ]
  },
  {
   "cell_type": "code",
   "execution_count": null,
   "metadata": {},
   "outputs": [],
   "source": [
    "N_cells, N_events, P_events = render.cumulative_kymo_compiler(raw_files_dir, radius, t_range, num_bins)"
   ]
  },
  {
   "cell_type": "code",
   "execution_count": null,
   "metadata": {},
   "outputs": [],
   "source": [
    "render.auto_plot_cumulative(P_events,\n",
    "                     'P_events',\n",
    "                      N,\n",
    "                      num_bins  ,\n",
    "                      radius ,\n",
    "                      t_range , \n",
    "                      focal_cell, \n",
    "                      focal_event, \n",
    "                      subject_cell, \n",
    "                      subject_event, \n",
    "                      '',#save_parent_dir ,\n",
    "                      '',#cbar_lim = (0, 0.002),\n",
    "                      include_apop_bin = True,      \n",
    "                      SI = True)"
   ]
  },
  {
   "cell_type": "markdown",
   "metadata": {},
   "source": [
    "# iterative output for canon example \n",
    "bins = 10, 20 over range of radii and t_ranges\n"
   ]
  },
  {
   "cell_type": "code",
   "execution_count": null,
   "metadata": {
    "scrolled": true
   },
   "outputs": [],
   "source": [
    "radii = [100, 200, 400, 600, 800, 1000]\n",
    "t_rangii = [100, 200, 400, 600, 800, 1000]\n",
    "plt.clf()\n",
    "for num_bins in [10, 20]:\n",
    "    for i in tqdm(range(0, len(radii))):\n",
    "        radius = radii[i]\n",
    "        t_range = t_rangii[i]\n",
    "        #num_bins = 10\n",
    "        N_cells, N_events, P_events = np.zeros((num_bins, num_bins)), np.zeros((num_bins, num_bins)), np.zeros((num_bins, num_bins))\n",
    "        N_cells, N_events, P_events = render.cumulative_kymo_compiler(raw_files_dir, radius, t_range, num_bins)\n",
    "\n",
    "        save_parent_dir = '/home/nathan/data/kraken/h2b/giulia/radial_analysis_output/follow/cumulative_plots/new_method'#'{}.{}/scr_apop_wt_div'.format(radius, num_bins)\n",
    "        if not os.path.exists(save_parent_dir):\n",
    "            os.makedirs(save_parent_dir)\n",
    "\n",
    "        ### save standard plots\n",
    "        render.auto_plot_cumulative(P_events,\n",
    "                         'P_events',\n",
    "                          N,\n",
    "                          num_bins  ,\n",
    "                          radius ,\n",
    "                          t_range , \n",
    "                          focal_cell, \n",
    "                          focal_event, \n",
    "                          subject_cell, \n",
    "                          subject_event, \n",
    "                          save_parent_dir ,\n",
    "                          '',#cbar_lim = (0, 0.002),\n",
    "                          include_apop_bin = True,      \n",
    "                          SI = True)\n",
    "        plt.clf()\n",
    "        render.auto_plot_cumulative(N_events,\n",
    "                         'N_events',\n",
    "                          N,\n",
    "                          num_bins  ,\n",
    "                          radius ,\n",
    "                          t_range , \n",
    "                          focal_cell, \n",
    "                          focal_event, \n",
    "                          subject_cell, \n",
    "                          subject_event, \n",
    "                          save_parent_dir ,\n",
    "                          '',#cbar_lim = (0, 0.002),\n",
    "                          include_apop_bin = True,      \n",
    "                          SI = True)\n",
    "        plt.clf()\n",
    "        render.auto_plot_cumulative(N_cells,\n",
    "                         'N_cells',\n",
    "                          N,\n",
    "                          num_bins  ,\n",
    "                          radius ,\n",
    "                          t_range , \n",
    "                          focal_cell, \n",
    "                          focal_event, \n",
    "                          subject_cell, \n",
    "                          subject_event, \n",
    "                          save_parent_dir ,\n",
    "                          '',#cbar_lim = (0, 0.002),\n",
    "                          include_apop_bin = True,      \n",
    "                          SI = True)\n",
    "        plt.clf()"
   ]
  },
  {
   "cell_type": "markdown",
   "metadata": {},
   "source": [
    "# how to ascertain clim from plot output for comparison between canon and control"
   ]
  },
  {
   "cell_type": "code",
   "execution_count": null,
   "metadata": {},
   "outputs": [],
   "source": [
    "np.amax(P_events)"
   ]
  }
 ],
 "metadata": {
  "kernelspec": {
   "display_name": "Python 3",
   "language": "python",
   "name": "python3"
  },
  "language_info": {
   "codemirror_mode": {
    "name": "ipython",
    "version": 3
   },
   "file_extension": ".py",
   "mimetype": "text/x-python",
   "name": "python",
   "nbconvert_exporter": "python",
   "pygments_lexer": "ipython3",
   "version": "3.7.6"
  }
 },
 "nbformat": 4,
 "nbformat_minor": 4
}
