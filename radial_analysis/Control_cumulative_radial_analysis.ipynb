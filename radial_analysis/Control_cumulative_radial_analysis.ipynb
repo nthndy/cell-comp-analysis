{
 "cells": [
  {
   "cell_type": "markdown",
   "metadata": {},
   "source": [
    "# Cumulative event counter"
   ]
  },
  {
   "cell_type": "markdown",
   "metadata": {},
   "source": [
    "### This notebook counts the cumulative spatio-temporal distribution of cellular events in the local neighbourhood of a series of apoptosis events\n",
    "\n",
    "1. Load dictionary of apoptoses and their corresponding times to base the spatiotemporal scans around \n",
    "2. Load corresponding tracking data\n",
    "3. Iteratively calculate spatiotemporal distribution of cellular events around apoptoses, saving each distribution out as a .npy distance-time heatmap\n",
    "4. Compile list of spatiotemporal heatmaps as cumulative heatmap\n",
    "5. Misc. section: comparing different experimental conditions"
   ]
  },
  {
   "cell_type": "code",
   "execution_count": 1,
   "metadata": {},
   "outputs": [],
   "source": [
    "import calculate_radial_analysis as calculate\n",
    "import tools\n",
    "import render\n",
    "import dataio\n",
    "\n",
    "import json\n",
    "import glob\n",
    "import os\n",
    "import re\n",
    "import numpy as np\n",
    "from natsort import natsorted\n",
    "from tqdm import tqdm\n",
    "import matplotlib.pyplot as plt\n",
    "from pathlib import Path"
   ]
  },
  {
   "cell_type": "markdown",
   "metadata": {},
   "source": [
    "## Set parameters before beginning"
   ]
  },
  {
   "cell_type": "code",
   "execution_count": 2,
   "metadata": {},
   "outputs": [],
   "source": [
    "focal_cell = 'WT'\n",
    "radius = 400\n",
    "t_range = 400\n",
    "num_bins = 10"
   ]
  },
  {
   "cell_type": "markdown",
   "metadata": {},
   "source": [
    "## 1) Experiment type dictionary loader\n",
    "End result of expt_dict that takes the format of :`expt_dict = {expt_ID:expt_type}` \n",
    "\n",
    "where `expt_ID` takes the format of: `GV{experiment_ID}_Pos{position_ID}` \n",
    "\n",
    "For example: \n",
    "\n",
    "```\n",
    "  apop_dict = {'GV0802/Pos5':'10:90'\n",
    "                GV0807/Pos8':'50:50'\n",
    "                GV0813/Pos11':'50:50 Y27632 10 µM'\n",
    "                                                  }\n",
    " ```"
   ]
  },
  {
   "cell_type": "code",
   "execution_count": 3,
   "metadata": {
    "scrolled": true
   },
   "outputs": [
    {
     "name": "stdout",
     "output_type": "stream",
     "text": [
      "GV0812/Pos0 not in filtered expt list\n",
      "GV0812/Pos1 not in filtered expt list\n",
      "GV0812/Pos2 not in filtered expt list\n",
      "GV0812/Pos3 not in filtered expt list\n",
      "GV0812/Pos4 not in filtered expt list\n",
      "GV0812/Pos5 not in filtered expt list\n"
     ]
    },
    {
     "data": {
      "text/plain": [
       "{'GV0794/Pos4': '50:50',\n",
       " 'GV0794/Pos5': '10:90',\n",
       " 'GV0794/Pos6': '10:90',\n",
       " 'GV0794/Pos7': '50:50',\n",
       " 'GV0794/Pos8': '90:10',\n",
       " 'GV0795/Pos3': '90:10',\n",
       " 'GV0795/Pos4': '50:50',\n",
       " 'GV0795/Pos5': '10:90',\n",
       " 'GV0795/Pos6': '10:90',\n",
       " 'GV0795/Pos7': '50:50',\n",
       " 'GV0795/Pos8': '90:10',\n",
       " 'GV0795/Pos16': '90:10',\n",
       " 'GV0795/Pos17': '50:50',\n",
       " 'GV0795/Pos18': '10:90',\n",
       " 'GV0796/Pos3': '90:10',\n",
       " 'GV0796/Pos4': '50:50',\n",
       " 'GV0796/Pos5': '10:90',\n",
       " 'GV0796/Pos6': '10:90',\n",
       " 'GV0796/Pos7': '50:50',\n",
       " 'GV0796/Pos8': '90:10',\n",
       " 'GV0796/Pos19': '90:10',\n",
       " 'GV0796/Pos20': '90:10',\n",
       " 'GV0796/Pos21': '50:50',\n",
       " 'GV0796/Pos22': '50:50',\n",
       " 'GV0796/Pos23': '10:90',\n",
       " 'GV0796/Pos24': '10:90',\n",
       " 'GV0797/Pos3': '90:10',\n",
       " 'GV0797/Pos4': '50:50',\n",
       " 'GV0797/Pos5': '10:90',\n",
       " 'GV0797/Pos6': '10:90',\n",
       " 'GV0797/Pos7': '50:50',\n",
       " 'GV0797/Pos8': '90:10',\n",
       " 'GV0797/Pos18': '90:10',\n",
       " 'GV0797/Pos19': '90:10',\n",
       " 'GV0797/Pos20': '50:50',\n",
       " 'GV0797/Pos21': '50:50',\n",
       " 'GV0797/Pos22': '10:90',\n",
       " 'GV0797/Pos23': '10:90',\n",
       " 'GV0798/Pos3': '90:10',\n",
       " 'GV0798/Pos4': '50:50',\n",
       " 'GV0798/Pos5': '10:90',\n",
       " 'GV0798/Pos6': '10:90',\n",
       " 'GV0798/Pos7': '50:50',\n",
       " 'GV0798/Pos8': '90:10',\n",
       " 'GV0798/Pos18': '90:10',\n",
       " 'GV0798/Pos20': '50:50',\n",
       " 'GV0798/Pos21': '50:50',\n",
       " 'GV0798/Pos22': '10:90',\n",
       " 'GV0798/Pos23': '10:90',\n",
       " 'GV0800/Pos3': '90:10',\n",
       " 'GV0800/Pos4': '50:50',\n",
       " 'GV0800/Pos5': '10:90',\n",
       " 'GV0800/Pos6': '10:90',\n",
       " 'GV0800/Pos7': '50:50',\n",
       " 'GV0800/Pos8': '90:10',\n",
       " 'GV0800/Pos15': '90:10',\n",
       " 'GV0800/Pos16': '50:50',\n",
       " 'GV0800/Pos17': '10:90',\n",
       " 'GV0801/Pos3': '90:10',\n",
       " 'GV0801/Pos4': '50:50',\n",
       " 'GV0801/Pos5': '10:90',\n",
       " 'GV0802/Pos3': '90:10',\n",
       " 'GV0802/Pos4': '50:50',\n",
       " 'GV0802/Pos5': '10:90',\n",
       " 'GV0804/Pos4': '50:50',\n",
       " 'GV0804/Pos5': '10:90',\n",
       " 'GV0805/Pos3': '90:10',\n",
       " 'GV0805/Pos4': '50:50',\n",
       " 'GV0805/Pos5': '10:90',\n",
       " 'GV0806/Pos3': '90:10',\n",
       " 'GV0806/Pos4': '50:50',\n",
       " 'GV0806/Pos5': '10:90',\n",
       " 'GV0807/Pos3': '90:10',\n",
       " 'GV0807/Pos4': '50:50',\n",
       " 'GV0807/Pos5': '10:90'}"
      ]
     },
     "execution_count": 3,
     "metadata": {},
     "output_type": "execute_result"
    }
   ],
   "source": [
    "if focal_cell == 'Scr':\n",
    "    cell_type = 'RFP'\n",
    "if focal_cell == 'WT':\n",
    "    cell_type = 'GFP '## ie the cell type to base the analysis around, the central cell around which you want to observe the other cell type behaviours\n",
    "path_to_expt_list = '/home/nathan/data/kraken/h2b/giulia/expt_type.json'\n",
    "expt_dict = {}\n",
    "with open(path_to_expt_list) as json_file:\n",
    "    expt_dict = json.load(json_file)\n",
    "##filter out non-canonical expts\n",
    "delete_list =[]\n",
    "invalid_expts = ['GV0794/Pos3',\n",
    " 'GV0794/Pos15',\n",
    " 'GV0798/Pos19',\n",
    " 'GV0804/Pos3',\n",
    " 'GV0794/Pos16',\n",
    " 'GV0812/Pos0',\n",
    " 'GV0812/Pos1',\n",
    " 'GV0812/Pos2',\n",
    " 'GV0812/Pos3',\n",
    " 'GV0812/Pos4',\n",
    " 'GV0812/Pos5',]\n",
    "for i, j in enumerate(expt_dict):\n",
    "    if expt_dict[j] != '90:10' and expt_dict[j] != '50:50' and expt_dict[j] != '10:90': \n",
    "        delete_list.append(j)\n",
    "    if j in invalid_expts:\n",
    "        delete_list.append(j)\n",
    "for i in delete_list:\n",
    "    try:\n",
    "        del expt_dict[i]\n",
    "    except:\n",
    "        print(i, \"not in filtered expt list\")\n",
    "orig_len_expts = len(expt_dict)\n",
    "expt_dict"
   ]
  },
  {
   "cell_type": "code",
   "execution_count": 4,
   "metadata": {},
   "outputs": [
    {
     "name": "stdout",
     "output_type": "stream",
     "text": [
      "Length of modified dict vs original: 18 / 75\n"
     ]
    }
   ],
   "source": [
    "### parallelisation \n",
    "N_expts = len(expt_dict)\n",
    "para_frac_min, para_frac_max = int(0*N_expts), int(0.25*N_expts)  ## ie only do first 1/4 of all apops\n",
    "delete_list =[]\n",
    "for i, j in enumerate(expt_dict):\n",
    "    if not para_frac_min <= i< para_frac_max: \n",
    "        delete_list.append(j)\n",
    "for i in delete_list:\n",
    "    del expt_dict[i]\n",
    "print(\"Length of modified dict vs original:\", len(expt_dict), \"/\", orig_len_expts)"
   ]
  },
  {
   "cell_type": "markdown",
   "metadata": {},
   "source": [
    "## 2) Load corresponding cell tracking data"
   ]
  },
  {
   "cell_type": "code",
   "execution_count": 5,
   "metadata": {},
   "outputs": [],
   "source": [
    "### load tracking data\n",
    "path_to_hdf5 = '/home/nathan/data/kraken/h2b/giulia/'\n",
    "hdf5_file_list = dataio.hdf5_file_finder(path_to_hdf5)\n",
    "\n",
    "### specify output path and neighbourhood scan parameters\n",
    "output_path = '/home/nathan/data/kraken/h2b/giulia/radial_analysis_output/follow/individual_spatiotemporal_heatmaps/400.400.10/wt_control_wt_div'\n",
    "Path(output_path).mkdir(parents=True, exist_ok=True)"
   ]
  },
  {
   "cell_type": "markdown",
   "metadata": {},
   "source": [
    "## 3) Iteratively calculate and save out individual heatmaps\n",
    "\n",
    "This step can be time consuming (sequential scans around 385 apoptoses took 7 hours on i7)\n",
    "\n",
    "Function to calculate:\n",
    "\n",
    "`calculate.iterative_control_heatmap_generator(subject_cells = 'WT', subject_event = 'DIVIDE', expt_dict, N_cells_per_expt, hdf5_file_list, radius, t_range, num_bins, output_path)`\n",
    "\n",
    "Where the necessary input variables are as follows:\n",
    "- `focal_cells` = The population of cells to use as the focal point of the scan, 'WT'/'Scr'/'All'\n",
    "- `subject_cells` = The population of cells to scan over looking for events, 'WT'/'Scr'/'All'\n",
    "- `subject_event` = The event type to look for, 'DIVIDE' or 'APOPTOSIS'\n",
    "- `expt_dict` = Previously defined python dictionary of {experiment ID: experiment type}\n",
    "- `N_cells_per_expt` = The number of cells and corresponding heatmaps to scan/generate per experiment\n",
    "- `hdf5_file_list` = List of locations of tracking files\n",
    "- `radius` = Distance to scan over around apoptosis\n",
    "- `t_range` = Time range to scan over around apoptosis (will scan t_range/2 before and after apoptosis)\n",
    "- `num_bins` = Number of bins the histogram is sorted into\n",
    "- `output_path` = Empty directory to save out individual apoptosis heatmap .npy arrays into\n",
    "\n",
    "Note: the total number of cells scanned over, and subsequent number of heatmaps generated, will be `N_cells_per_expt` * `len(expt_dict)`"
   ]
  },
  {
   "cell_type": "code",
   "execution_count": 6,
   "metadata": {},
   "outputs": [
    {
     "name": "stdout",
     "output_type": "stream",
     "text": [
      "Total cells to be scanned over/heatmaps generated: 450\n"
     ]
    }
   ],
   "source": [
    "N_cells_per_expt = 25\n",
    "print(\"Total cells to be scanned over/heatmaps generated:\", N_cells_per_expt*len(expt_dict))"
   ]
  },
  {
   "cell_type": "code",
   "execution_count": 7,
   "metadata": {
    "scrolled": true
   },
   "outputs": [
    {
     "name": "stderr",
     "output_type": "stream",
     "text": [
      "  0%|          | 0/18 [00:00<?, ?it/s][INFO][2021/05/10 04:01:58 PM] Opening HDF file: /home/nathan/data/kraken/h2b/giulia/GV0794/Pos4/Pos4_aligned/HDF/segmented.hdf5...\n",
      "[INFO][2021/05/10 04:01:58 PM] Loading tracks/obj_type_1\n"
     ]
    },
    {
     "name": "stdout",
     "output_type": "stream",
     "text": [
      "Loading GV0794/Pos4/\n",
      "Btrack version no.: 0.4.0\n"
     ]
    },
    {
     "name": "stderr",
     "output_type": "stream",
     "text": [
      "[INFO][2021/05/10 04:01:58 PM] Loading objects/obj_type_1 (69360, 5) (64986 filtered: area>=100)\n",
      "[INFO][2021/05/10 04:01:59 PM] Closing HDF file: /home/nathan/data/kraken/h2b/giulia/GV0794/Pos4/Pos4_aligned/HDF/segmented.hdf5\n",
      "[INFO][2021/05/10 04:01:59 PM] Opening HDF file: /home/nathan/data/kraken/h2b/giulia/GV0794/Pos4/Pos4_aligned/HDF/segmented.hdf5...\n",
      "[INFO][2021/05/10 04:01:59 PM] Loading tracks/obj_type_2\n",
      "[INFO][2021/05/10 04:01:59 PM] Loading objects/obj_type_2 (13865, 5) (10538 filtered: area>=100)\n",
      "[INFO][2021/05/10 04:01:59 PM] Closing HDF file: /home/nathan/data/kraken/h2b/giulia/GV0794/Pos4/Pos4_aligned/HDF/segmented.hdf5\n"
     ]
    },
    {
     "name": "stdout",
     "output_type": "stream",
     "text": [
      "Track information loaded and ordered according to cell type (WT IDs >0> Scr IDs)\n",
      "Loaded GV0794/Pos4/\n"
     ]
    },
    {
     "name": "stderr",
     "output_type": "stream",
     "text": [
      "  6%|▌         | 1/18 [06:38<1:52:46, 398.02s/it][INFO][2021/05/10 04:08:36 PM] Opening HDF file: /home/nathan/data/kraken/h2b/giulia/GV0794/Pos5/Pos5_aligned/HDF/segmented.hdf5...\n",
      "[INFO][2021/05/10 04:08:36 PM] Loading tracks/obj_type_1\n",
      "[INFO][2021/05/10 04:08:36 PM] Loading objects/obj_type_1 (31315, 5) (20377 filtered: area>=100)\n"
     ]
    },
    {
     "name": "stdout",
     "output_type": "stream",
     "text": [
      "Loading GV0794/Pos5/\n",
      "Btrack version no.: 0.4.0\n"
     ]
    },
    {
     "name": "stderr",
     "output_type": "stream",
     "text": [
      "[INFO][2021/05/10 04:08:36 PM] Closing HDF file: /home/nathan/data/kraken/h2b/giulia/GV0794/Pos5/Pos5_aligned/HDF/segmented.hdf5\n",
      "[INFO][2021/05/10 04:08:36 PM] Opening HDF file: /home/nathan/data/kraken/h2b/giulia/GV0794/Pos5/Pos5_aligned/HDF/segmented.hdf5...\n",
      "[INFO][2021/05/10 04:08:36 PM] Loading tracks/obj_type_2\n",
      "[INFO][2021/05/10 04:08:37 PM] Loading objects/obj_type_2 (61992, 5) (46754 filtered: area>=100)\n",
      "[INFO][2021/05/10 04:08:37 PM] Closing HDF file: /home/nathan/data/kraken/h2b/giulia/GV0794/Pos5/Pos5_aligned/HDF/segmented.hdf5\n"
     ]
    },
    {
     "name": "stdout",
     "output_type": "stream",
     "text": [
      "Track information loaded and ordered according to cell type (WT IDs >0> Scr IDs)\n",
      "Loaded GV0794/Pos5/\n"
     ]
    },
    {
     "name": "stderr",
     "output_type": "stream",
     "text": [
      " 11%|█         | 2/18 [13:19<1:46:37, 399.83s/it][INFO][2021/05/10 04:15:17 PM] Opening HDF file: /home/nathan/data/kraken/h2b/giulia/GV0794/Pos6/Pos6_aligned/HDF/segmented.hdf5...\n",
      "[INFO][2021/05/10 04:15:17 PM] Loading tracks/obj_type_1\n",
      "[INFO][2021/05/10 04:15:17 PM] Loading objects/obj_type_1 (13419, 5) (11379 filtered: area>=100)\n",
      "[INFO][2021/05/10 04:15:17 PM] Closing HDF file: /home/nathan/data/kraken/h2b/giulia/GV0794/Pos6/Pos6_aligned/HDF/segmented.hdf5\n",
      "[INFO][2021/05/10 04:15:17 PM] Opening HDF file: /home/nathan/data/kraken/h2b/giulia/GV0794/Pos6/Pos6_aligned/HDF/segmented.hdf5...\n",
      "[INFO][2021/05/10 04:15:17 PM] Loading tracks/obj_type_2\n"
     ]
    },
    {
     "name": "stdout",
     "output_type": "stream",
     "text": [
      "Loading GV0794/Pos6/\n",
      "Btrack version no.: 0.4.0\n"
     ]
    },
    {
     "name": "stderr",
     "output_type": "stream",
     "text": [
      "[INFO][2021/05/10 04:15:18 PM] Loading objects/obj_type_2 (69258, 5) (48810 filtered: area>=100)\n",
      "[INFO][2021/05/10 04:15:19 PM] Closing HDF file: /home/nathan/data/kraken/h2b/giulia/GV0794/Pos6/Pos6_aligned/HDF/segmented.hdf5\n"
     ]
    },
    {
     "name": "stdout",
     "output_type": "stream",
     "text": [
      "Track information loaded and ordered according to cell type (WT IDs >0> Scr IDs)\n",
      "Loaded GV0794/Pos6/\n"
     ]
    },
    {
     "name": "stderr",
     "output_type": "stream",
     "text": [
      " 17%|█▋        | 3/18 [15:47<1:11:11, 284.80s/it][INFO][2021/05/10 04:17:45 PM] Opening HDF file: /home/nathan/data/kraken/h2b/giulia/GV0794/Pos7/Pos7_aligned/HDF/segmented.hdf5...\n",
      "[INFO][2021/05/10 04:17:45 PM] Loading tracks/obj_type_1\n"
     ]
    },
    {
     "name": "stdout",
     "output_type": "stream",
     "text": [
      "Loading GV0794/Pos7/\n",
      "Btrack version no.: 0.4.0\n"
     ]
    },
    {
     "name": "stderr",
     "output_type": "stream",
     "text": [
      "[INFO][2021/05/10 04:17:46 PM] Loading objects/obj_type_1 (110774, 5) (102450 filtered: area>=100)\n",
      "[INFO][2021/05/10 04:17:47 PM] Closing HDF file: /home/nathan/data/kraken/h2b/giulia/GV0794/Pos7/Pos7_aligned/HDF/segmented.hdf5\n",
      "[INFO][2021/05/10 04:17:47 PM] Opening HDF file: /home/nathan/data/kraken/h2b/giulia/GV0794/Pos7/Pos7_aligned/HDF/segmented.hdf5...\n",
      "[INFO][2021/05/10 04:17:47 PM] Loading tracks/obj_type_2\n",
      "[INFO][2021/05/10 04:17:47 PM] Loading objects/obj_type_2 (20793, 5) (17016 filtered: area>=100)\n",
      "[INFO][2021/05/10 04:17:48 PM] Closing HDF file: /home/nathan/data/kraken/h2b/giulia/GV0794/Pos7/Pos7_aligned/HDF/segmented.hdf5\n"
     ]
    },
    {
     "name": "stdout",
     "output_type": "stream",
     "text": [
      "Track information loaded and ordered according to cell type (WT IDs >0> Scr IDs)\n",
      "Loaded GV0794/Pos7/\n"
     ]
    },
    {
     "name": "stderr",
     "output_type": "stream",
     "text": [
      " 22%|██▏       | 4/18 [34:27<2:23:25, 614.69s/it][INFO][2021/05/10 04:36:25 PM] Opening HDF file: /home/nathan/data/kraken/h2b/giulia/GV0794/Pos8/Pos8_aligned/HDF/segmented.hdf5...\n",
      "[INFO][2021/05/10 04:36:25 PM] Loading tracks/obj_type_1\n"
     ]
    },
    {
     "name": "stdout",
     "output_type": "stream",
     "text": [
      "Loading GV0794/Pos8/\n",
      "Btrack version no.: 0.4.0\n"
     ]
    },
    {
     "name": "stderr",
     "output_type": "stream",
     "text": [
      "[INFO][2021/05/10 04:36:26 PM] Loading objects/obj_type_1 (101301, 5) (96819 filtered: area>=100)\n",
      "[INFO][2021/05/10 04:36:27 PM] Closing HDF file: /home/nathan/data/kraken/h2b/giulia/GV0794/Pos8/Pos8_aligned/HDF/segmented.hdf5\n",
      "[INFO][2021/05/10 04:36:27 PM] Opening HDF file: /home/nathan/data/kraken/h2b/giulia/GV0794/Pos8/Pos8_aligned/HDF/segmented.hdf5...\n",
      "[INFO][2021/05/10 04:36:27 PM] Loading tracks/obj_type_2\n",
      "[INFO][2021/05/10 04:36:28 PM] Loading objects/obj_type_2 (4133, 5) (3527 filtered: area>=100)\n",
      "[INFO][2021/05/10 04:36:28 PM] Closing HDF file: /home/nathan/data/kraken/h2b/giulia/GV0794/Pos8/Pos8_aligned/HDF/segmented.hdf5\n"
     ]
    },
    {
     "name": "stdout",
     "output_type": "stream",
     "text": [
      "Track information loaded and ordered according to cell type (WT IDs >0> Scr IDs)\n",
      "Loaded GV0794/Pos8/\n"
     ]
    },
    {
     "name": "stderr",
     "output_type": "stream",
     "text": [
      " 28%|██▊       | 5/18 [49:37<2:36:16, 721.25s/it][INFO][2021/05/10 04:51:36 PM] Opening HDF file: /home/nathan/data/kraken/h2b/giulia/GV0795/Pos3/Pos3_aligned/HDF/segmented.hdf5...\n",
      "[INFO][2021/05/10 04:51:36 PM] Loading tracks/obj_type_1\n"
     ]
    },
    {
     "name": "stdout",
     "output_type": "stream",
     "text": [
      "Loading GV0795/Pos3/\n",
      "Btrack version no.: 0.4.0\n"
     ]
    },
    {
     "name": "stderr",
     "output_type": "stream",
     "text": [
      "[INFO][2021/05/10 04:51:38 PM] Loading objects/obj_type_1 (274100, 5) (263837 filtered: area>=100)\n",
      "[INFO][2021/05/10 04:51:42 PM] Closing HDF file: /home/nathan/data/kraken/h2b/giulia/GV0795/Pos3/Pos3_aligned/HDF/segmented.hdf5\n",
      "[INFO][2021/05/10 04:51:42 PM] Opening HDF file: /home/nathan/data/kraken/h2b/giulia/GV0795/Pos3/Pos3_aligned/HDF/segmented.hdf5...\n",
      "[INFO][2021/05/10 04:51:42 PM] Loading tracks/obj_type_2\n",
      "[INFO][2021/05/10 04:51:42 PM] Loading objects/obj_type_2 (16554, 5) (13970 filtered: area>=100)\n",
      "[INFO][2021/05/10 04:51:43 PM] Closing HDF file: /home/nathan/data/kraken/h2b/giulia/GV0795/Pos3/Pos3_aligned/HDF/segmented.hdf5\n"
     ]
    },
    {
     "name": "stdout",
     "output_type": "stream",
     "text": [
      "Track information loaded and ordered according to cell type (WT IDs >0> Scr IDs)\n",
      "Loaded GV0795/Pos3/\n"
     ]
    },
    {
     "name": "stderr",
     "output_type": "stream",
     "text": [
      " 33%|███▎      | 6/18 [1:26:07<4:04:07, 1220.59s/it][INFO][2021/05/10 05:28:05 PM] Opening HDF file: /home/nathan/data/kraken/h2b/giulia/GV0795/Pos4/Pos4_aligned/HDF/segmented.hdf5...\n",
      "[INFO][2021/05/10 05:28:05 PM] Loading tracks/obj_type_1\n"
     ]
    },
    {
     "name": "stdout",
     "output_type": "stream",
     "text": [
      "Loading GV0795/Pos4/\n",
      "Btrack version no.: 0.4.0\n"
     ]
    },
    {
     "name": "stderr",
     "output_type": "stream",
     "text": [
      "[INFO][2021/05/10 05:28:07 PM] Loading objects/obj_type_1 (211479, 5) (197642 filtered: area>=100)\n",
      "[INFO][2021/05/10 05:28:10 PM] Closing HDF file: /home/nathan/data/kraken/h2b/giulia/GV0795/Pos4/Pos4_aligned/HDF/segmented.hdf5\n",
      "[INFO][2021/05/10 05:28:10 PM] Opening HDF file: /home/nathan/data/kraken/h2b/giulia/GV0795/Pos4/Pos4_aligned/HDF/segmented.hdf5...\n",
      "[INFO][2021/05/10 05:28:10 PM] Loading tracks/obj_type_2\n",
      "[INFO][2021/05/10 05:28:11 PM] Loading objects/obj_type_2 (49070, 5) (38203 filtered: area>=100)\n",
      "[INFO][2021/05/10 05:28:11 PM] Closing HDF file: /home/nathan/data/kraken/h2b/giulia/GV0795/Pos4/Pos4_aligned/HDF/segmented.hdf5\n"
     ]
    },
    {
     "name": "stdout",
     "output_type": "stream",
     "text": [
      "Track information loaded and ordered according to cell type (WT IDs >0> Scr IDs)\n",
      "Loaded GV0795/Pos4/\n"
     ]
    },
    {
     "name": "stderr",
     "output_type": "stream",
     "text": [
      " 39%|███▉      | 7/18 [1:57:48<4:24:34, 1443.17s/it][INFO][2021/05/10 05:59:47 PM] Opening HDF file: /home/nathan/data/kraken/h2b/giulia/GV0795/Pos5/Pos5_aligned/HDF/segmented.hdf5...\n",
      "[INFO][2021/05/10 05:59:47 PM] Loading tracks/obj_type_1\n"
     ]
    },
    {
     "name": "stdout",
     "output_type": "stream",
     "text": [
      "Loading GV0795/Pos5/\n",
      "Btrack version no.: 0.4.0\n"
     ]
    },
    {
     "name": "stderr",
     "output_type": "stream",
     "text": [
      "[INFO][2021/05/10 05:59:48 PM] Loading objects/obj_type_1 (83531, 5) (74420 filtered: area>=100)\n",
      "[INFO][2021/05/10 05:59:49 PM] Closing HDF file: /home/nathan/data/kraken/h2b/giulia/GV0795/Pos5/Pos5_aligned/HDF/segmented.hdf5\n",
      "[INFO][2021/05/10 05:59:49 PM] Opening HDF file: /home/nathan/data/kraken/h2b/giulia/GV0795/Pos5/Pos5_aligned/HDF/segmented.hdf5...\n",
      "[INFO][2021/05/10 05:59:49 PM] Loading tracks/obj_type_2\n",
      "[INFO][2021/05/10 05:59:50 PM] Loading objects/obj_type_2 (98959, 5) (78503 filtered: area>=100)\n",
      "[INFO][2021/05/10 05:59:51 PM] Closing HDF file: /home/nathan/data/kraken/h2b/giulia/GV0795/Pos5/Pos5_aligned/HDF/segmented.hdf5\n"
     ]
    },
    {
     "name": "stdout",
     "output_type": "stream",
     "text": [
      "Track information loaded and ordered according to cell type (WT IDs >0> Scr IDs)\n",
      "Loaded GV0795/Pos5/\n"
     ]
    },
    {
     "name": "stderr",
     "output_type": "stream",
     "text": [
      " 44%|████▍     | 8/18 [2:11:59<3:29:05, 1254.60s/it][INFO][2021/05/10 06:13:58 PM] Opening HDF file: /home/nathan/data/kraken/h2b/giulia/GV0795/Pos6/Pos6_aligned/HDF/segmented.hdf5...\n",
      "[INFO][2021/05/10 06:13:58 PM] Loading tracks/obj_type_1\n"
     ]
    },
    {
     "name": "stdout",
     "output_type": "stream",
     "text": [
      "Loading GV0795/Pos6/\n",
      "Btrack version no.: 0.4.0\n"
     ]
    },
    {
     "name": "stderr",
     "output_type": "stream",
     "text": [
      "[INFO][2021/05/10 06:13:58 PM] Loading objects/obj_type_1 (52858, 5) (43022 filtered: area>=100)\n",
      "[INFO][2021/05/10 06:13:58 PM] Closing HDF file: /home/nathan/data/kraken/h2b/giulia/GV0795/Pos6/Pos6_aligned/HDF/segmented.hdf5\n",
      "[INFO][2021/05/10 06:13:58 PM] Opening HDF file: /home/nathan/data/kraken/h2b/giulia/GV0795/Pos6/Pos6_aligned/HDF/segmented.hdf5...\n",
      "[INFO][2021/05/10 06:13:58 PM] Loading tracks/obj_type_2\n",
      "[INFO][2021/05/10 06:13:59 PM] Loading objects/obj_type_2 (95556, 5) (72517 filtered: area>=100)\n",
      "[INFO][2021/05/10 06:13:59 PM] Closing HDF file: /home/nathan/data/kraken/h2b/giulia/GV0795/Pos6/Pos6_aligned/HDF/segmented.hdf5\n"
     ]
    },
    {
     "name": "stdout",
     "output_type": "stream",
     "text": [
      "Track information loaded and ordered according to cell type (WT IDs >0> Scr IDs)\n",
      "Loaded GV0795/Pos6/\n"
     ]
    },
    {
     "name": "stderr",
     "output_type": "stream",
     "text": [
      " 50%|█████     | 9/18 [2:21:31<2:36:10, 1041.22s/it][INFO][2021/05/10 06:23:30 PM] Opening HDF file: /home/nathan/data/kraken/h2b/giulia/GV0795/Pos7/Pos7_aligned/HDF/segmented.hdf5...\n",
      "[INFO][2021/05/10 06:23:30 PM] Loading tracks/obj_type_1\n"
     ]
    },
    {
     "name": "stdout",
     "output_type": "stream",
     "text": [
      "Loading GV0795/Pos7/\n",
      "Btrack version no.: 0.4.0\n"
     ]
    },
    {
     "name": "stderr",
     "output_type": "stream",
     "text": [
      "[INFO][2021/05/10 06:23:31 PM] Loading objects/obj_type_1 (199943, 5) (183929 filtered: area>=100)\n",
      "[INFO][2021/05/10 06:23:34 PM] Closing HDF file: /home/nathan/data/kraken/h2b/giulia/GV0795/Pos7/Pos7_aligned/HDF/segmented.hdf5\n",
      "[INFO][2021/05/10 06:23:34 PM] Opening HDF file: /home/nathan/data/kraken/h2b/giulia/GV0795/Pos7/Pos7_aligned/HDF/segmented.hdf5...\n",
      "[INFO][2021/05/10 06:23:34 PM] Loading tracks/obj_type_2\n",
      "[INFO][2021/05/10 06:23:35 PM] Loading objects/obj_type_2 (80612, 5) (63990 filtered: area>=100)\n",
      "[INFO][2021/05/10 06:23:36 PM] Closing HDF file: /home/nathan/data/kraken/h2b/giulia/GV0795/Pos7/Pos7_aligned/HDF/segmented.hdf5\n"
     ]
    },
    {
     "name": "stdout",
     "output_type": "stream",
     "text": [
      "Track information loaded and ordered according to cell type (WT IDs >0> Scr IDs)\n",
      "Loaded GV0795/Pos7/\n"
     ]
    },
    {
     "name": "stderr",
     "output_type": "stream",
     "text": [
      " 56%|█████▌    | 10/18 [2:49:56<2:46:09, 1246.17s/it][INFO][2021/05/10 06:51:55 PM] Opening HDF file: /home/nathan/data/kraken/h2b/giulia/GV0795/Pos8/Pos8_aligned/HDF/segmented.hdf5...\n",
      "[INFO][2021/05/10 06:51:55 PM] Loading tracks/obj_type_1\n"
     ]
    },
    {
     "name": "stdout",
     "output_type": "stream",
     "text": [
      "Loading GV0795/Pos8/\n",
      "Btrack version no.: 0.4.0\n"
     ]
    },
    {
     "name": "stderr",
     "output_type": "stream",
     "text": [
      "[INFO][2021/05/10 06:51:57 PM] Loading objects/obj_type_1 (273725, 5) (262060 filtered: area>=100)\n",
      "[INFO][2021/05/10 06:52:01 PM] Closing HDF file: /home/nathan/data/kraken/h2b/giulia/GV0795/Pos8/Pos8_aligned/HDF/segmented.hdf5\n",
      "[INFO][2021/05/10 06:52:01 PM] Opening HDF file: /home/nathan/data/kraken/h2b/giulia/GV0795/Pos8/Pos8_aligned/HDF/segmented.hdf5...\n",
      "[INFO][2021/05/10 06:52:01 PM] Loading tracks/obj_type_2\n",
      "[INFO][2021/05/10 06:52:01 PM] Loading objects/obj_type_2 (12522, 5) (9142 filtered: area>=100)\n",
      "[INFO][2021/05/10 06:52:01 PM] Closing HDF file: /home/nathan/data/kraken/h2b/giulia/GV0795/Pos8/Pos8_aligned/HDF/segmented.hdf5\n"
     ]
    },
    {
     "name": "stdout",
     "output_type": "stream",
     "text": [
      "Track information loaded and ordered according to cell type (WT IDs >0> Scr IDs)\n",
      "Loaded GV0795/Pos8/\n"
     ]
    },
    {
     "name": "stderr",
     "output_type": "stream",
     "text": [
      " 61%|██████    | 11/18 [3:30:07<3:06:57, 1602.53s/it][INFO][2021/05/10 07:32:05 PM] Opening HDF file: /home/nathan/data/kraken/h2b/giulia/GV0795/Pos16/Pos16_aligned/HDF/segmented.hdf5...\n",
      "[INFO][2021/05/10 07:32:05 PM] Loading tracks/obj_type_1\n"
     ]
    },
    {
     "name": "stdout",
     "output_type": "stream",
     "text": [
      "Loading GV0795/Pos16/\n",
      "Btrack version no.: 0.4.0\n"
     ]
    },
    {
     "name": "stderr",
     "output_type": "stream",
     "text": [
      "[INFO][2021/05/10 07:32:09 PM] Loading objects/obj_type_1 (406228, 5) (386644 filtered: area>=100)\n",
      "[INFO][2021/05/10 07:32:15 PM] Closing HDF file: /home/nathan/data/kraken/h2b/giulia/GV0795/Pos16/Pos16_aligned/HDF/segmented.hdf5\n",
      "[INFO][2021/05/10 07:32:15 PM] Opening HDF file: /home/nathan/data/kraken/h2b/giulia/GV0795/Pos16/Pos16_aligned/HDF/segmented.hdf5...\n",
      "[INFO][2021/05/10 07:32:15 PM] Loading tracks/obj_type_2\n",
      "[INFO][2021/05/10 07:32:15 PM] Loading objects/obj_type_2 (8324, 5) (6993 filtered: area>=100)\n",
      "[INFO][2021/05/10 07:32:15 PM] Closing HDF file: /home/nathan/data/kraken/h2b/giulia/GV0795/Pos16/Pos16_aligned/HDF/segmented.hdf5\n"
     ]
    },
    {
     "name": "stdout",
     "output_type": "stream",
     "text": [
      "Track information loaded and ordered according to cell type (WT IDs >0> Scr IDs)\n",
      "Loaded GV0795/Pos16/\n"
     ]
    },
    {
     "name": "stderr",
     "output_type": "stream",
     "text": [
      " 67%|██████▋   | 12/18 [4:23:47<3:29:28, 2094.70s/it][INFO][2021/05/10 08:25:46 PM] Opening HDF file: /home/nathan/data/kraken/h2b/giulia/GV0795/Pos17/Pos17_aligned/HDF/segmented.hdf5...\n",
      "[INFO][2021/05/10 08:25:46 PM] Loading tracks/obj_type_1\n"
     ]
    },
    {
     "name": "stdout",
     "output_type": "stream",
     "text": [
      "Loading GV0795/Pos17/\n",
      "Btrack version no.: 0.4.0\n"
     ]
    },
    {
     "name": "stderr",
     "output_type": "stream",
     "text": [
      "[INFO][2021/05/10 08:25:47 PM] Loading objects/obj_type_1 (142287, 5) (125195 filtered: area>=100)\n",
      "[INFO][2021/05/10 08:25:49 PM] Closing HDF file: /home/nathan/data/kraken/h2b/giulia/GV0795/Pos17/Pos17_aligned/HDF/segmented.hdf5\n",
      "[INFO][2021/05/10 08:25:49 PM] Opening HDF file: /home/nathan/data/kraken/h2b/giulia/GV0795/Pos17/Pos17_aligned/HDF/segmented.hdf5...\n",
      "[INFO][2021/05/10 08:25:49 PM] Loading tracks/obj_type_2\n",
      "[INFO][2021/05/10 08:25:49 PM] Loading objects/obj_type_2 (36319, 5) (29965 filtered: area>=100)\n",
      "[INFO][2021/05/10 08:25:49 PM] Closing HDF file: /home/nathan/data/kraken/h2b/giulia/GV0795/Pos17/Pos17_aligned/HDF/segmented.hdf5\n"
     ]
    },
    {
     "name": "stdout",
     "output_type": "stream",
     "text": [
      "Track information loaded and ordered according to cell type (WT IDs >0> Scr IDs)\n",
      "Loaded GV0795/Pos17/\n"
     ]
    },
    {
     "name": "stderr",
     "output_type": "stream",
     "text": [
      " 72%|███████▏  | 13/18 [4:43:56<2:32:11, 1826.24s/it][INFO][2021/05/10 08:45:54 PM] Opening HDF file: /home/nathan/data/kraken/h2b/giulia/GV0795/Pos18/Pos18_aligned/HDF/segmented.hdf5...\n",
      "[INFO][2021/05/10 08:45:54 PM] Loading tracks/obj_type_1\n"
     ]
    },
    {
     "name": "stdout",
     "output_type": "stream",
     "text": [
      "Loading GV0795/Pos18/\n",
      "Btrack version no.: 0.4.0\n"
     ]
    },
    {
     "name": "stderr",
     "output_type": "stream",
     "text": [
      "[INFO][2021/05/10 08:45:55 PM] Loading objects/obj_type_1 (41273, 5) (28239 filtered: area>=100)\n",
      "[INFO][2021/05/10 08:45:55 PM] Closing HDF file: /home/nathan/data/kraken/h2b/giulia/GV0795/Pos18/Pos18_aligned/HDF/segmented.hdf5\n",
      "[INFO][2021/05/10 08:45:55 PM] Opening HDF file: /home/nathan/data/kraken/h2b/giulia/GV0795/Pos18/Pos18_aligned/HDF/segmented.hdf5...\n",
      "[INFO][2021/05/10 08:45:55 PM] Loading tracks/obj_type_2\n",
      "[INFO][2021/05/10 08:45:56 PM] Loading objects/obj_type_2 (71063, 5) (58416 filtered: area>=100)\n",
      "[INFO][2021/05/10 08:45:56 PM] Closing HDF file: /home/nathan/data/kraken/h2b/giulia/GV0795/Pos18/Pos18_aligned/HDF/segmented.hdf5\n"
     ]
    },
    {
     "name": "stdout",
     "output_type": "stream",
     "text": [
      "Track information loaded and ordered according to cell type (WT IDs >0> Scr IDs)\n",
      "Loaded GV0795/Pos18/\n"
     ]
    },
    {
     "name": "stderr",
     "output_type": "stream",
     "text": [
      " 78%|███████▊  | 14/18 [4:49:05<1:31:12, 1368.14s/it][INFO][2021/05/10 08:51:04 PM] Opening HDF file: /home/nathan/data/kraken/h2b/giulia/GV0796/Pos3/Pos3_aligned/HDF/segmented.hdf5...\n",
      "[INFO][2021/05/10 08:51:04 PM] Loading tracks/obj_type_1\n"
     ]
    },
    {
     "name": "stdout",
     "output_type": "stream",
     "text": [
      "Loading GV0796/Pos3/\n",
      "Btrack version no.: 0.4.0\n"
     ]
    },
    {
     "name": "stderr",
     "output_type": "stream",
     "text": [
      "[INFO][2021/05/10 08:51:08 PM] Loading objects/obj_type_1 (683581, 5) (648688 filtered: area>=100)\n",
      "[INFO][2021/05/10 08:51:14 PM] Closing HDF file: /home/nathan/data/kraken/h2b/giulia/GV0796/Pos3/Pos3_aligned/HDF/segmented.hdf5\n",
      "[INFO][2021/05/10 08:51:14 PM] Opening HDF file: /home/nathan/data/kraken/h2b/giulia/GV0796/Pos3/Pos3_aligned/HDF/segmented.hdf5...\n",
      "[INFO][2021/05/10 08:51:14 PM] Loading tracks/obj_type_2\n",
      "[INFO][2021/05/10 08:51:14 PM] Loading objects/obj_type_2 (16040, 5) (13600 filtered: area>=100)\n",
      "[INFO][2021/05/10 08:51:14 PM] Closing HDF file: /home/nathan/data/kraken/h2b/giulia/GV0796/Pos3/Pos3_aligned/HDF/segmented.hdf5\n"
     ]
    },
    {
     "name": "stdout",
     "output_type": "stream",
     "text": [
      "Track information loaded and ordered according to cell type (WT IDs >0> Scr IDs)\n",
      "Loaded GV0796/Pos3/\n"
     ]
    },
    {
     "name": "stderr",
     "output_type": "stream",
     "text": [
      " 83%|████████▎ | 15/18 [6:01:31<1:53:16, 2265.64s/it][INFO][2021/05/10 10:03:29 PM] Opening HDF file: /home/nathan/data/kraken/h2b/giulia/GV0796/Pos4/Pos4_aligned/HDF/segmented.hdf5...\n",
      "[INFO][2021/05/10 10:03:29 PM] Loading tracks/obj_type_1\n"
     ]
    },
    {
     "name": "stdout",
     "output_type": "stream",
     "text": [
      "Loading GV0796/Pos4/\n",
      "Btrack version no.: 0.4.0\n"
     ]
    },
    {
     "name": "stderr",
     "output_type": "stream",
     "text": [
      "[INFO][2021/05/10 10:03:32 PM] Loading objects/obj_type_1 (441082, 5) (424178 filtered: area>=100)\n",
      "[INFO][2021/05/10 10:03:36 PM] Closing HDF file: /home/nathan/data/kraken/h2b/giulia/GV0796/Pos4/Pos4_aligned/HDF/segmented.hdf5\n",
      "[INFO][2021/05/10 10:03:36 PM] Opening HDF file: /home/nathan/data/kraken/h2b/giulia/GV0796/Pos4/Pos4_aligned/HDF/segmented.hdf5...\n",
      "[INFO][2021/05/10 10:03:36 PM] Loading tracks/obj_type_2\n",
      "[INFO][2021/05/10 10:03:36 PM] Loading objects/obj_type_2 (72743, 5) (60501 filtered: area>=100)\n",
      "[INFO][2021/05/10 10:03:37 PM] Closing HDF file: /home/nathan/data/kraken/h2b/giulia/GV0796/Pos4/Pos4_aligned/HDF/segmented.hdf5\n"
     ]
    },
    {
     "name": "stdout",
     "output_type": "stream",
     "text": [
      "Track information loaded and ordered according to cell type (WT IDs >0> Scr IDs)\n",
      "Loaded GV0796/Pos4/\n"
     ]
    },
    {
     "name": "stderr",
     "output_type": "stream",
     "text": [
      " 89%|████████▉ | 16/18 [6:46:09<1:19:39, 2389.73s/it][INFO][2021/05/10 10:48:07 PM] Opening HDF file: /home/nathan/data/kraken/h2b/giulia/GV0796/Pos5/Pos5_aligned/HDF/segmented.hdf5...\n",
      "[INFO][2021/05/10 10:48:07 PM] Loading tracks/obj_type_1\n"
     ]
    },
    {
     "name": "stdout",
     "output_type": "stream",
     "text": [
      "Loading GV0796/Pos5/\n",
      "Btrack version no.: 0.4.0\n"
     ]
    },
    {
     "name": "stderr",
     "output_type": "stream",
     "text": [
      "[INFO][2021/05/10 10:48:08 PM] Loading objects/obj_type_1 (111905, 5) (102407 filtered: area>=100)\n",
      "[INFO][2021/05/10 10:48:09 PM] Closing HDF file: /home/nathan/data/kraken/h2b/giulia/GV0796/Pos5/Pos5_aligned/HDF/segmented.hdf5\n",
      "[INFO][2021/05/10 10:48:09 PM] Opening HDF file: /home/nathan/data/kraken/h2b/giulia/GV0796/Pos5/Pos5_aligned/HDF/segmented.hdf5...\n",
      "[INFO][2021/05/10 10:48:09 PM] Loading tracks/obj_type_2\n",
      "[INFO][2021/05/10 10:48:09 PM] Loading objects/obj_type_2 (125793, 5) (96319 filtered: area>=100)\n",
      "[INFO][2021/05/10 10:48:10 PM] Closing HDF file: /home/nathan/data/kraken/h2b/giulia/GV0796/Pos5/Pos5_aligned/HDF/segmented.hdf5\n"
     ]
    },
    {
     "name": "stdout",
     "output_type": "stream",
     "text": [
      "Track information loaded and ordered according to cell type (WT IDs >0> Scr IDs)\n",
      "Loaded GV0796/Pos5/\n"
     ]
    },
    {
     "name": "stderr",
     "output_type": "stream",
     "text": [
      " 94%|█████████▍| 17/18 [6:57:14<31:11, 1871.23s/it]  [INFO][2021/05/10 10:59:13 PM] Opening HDF file: /home/nathan/data/kraken/h2b/giulia/GV0796/Pos6/Pos6_aligned/HDF/segmented.hdf5...\n",
      "[INFO][2021/05/10 10:59:13 PM] Loading tracks/obj_type_1\n"
     ]
    },
    {
     "name": "stdout",
     "output_type": "stream",
     "text": [
      "Loading GV0796/Pos6/\n",
      "Btrack version no.: 0.4.0\n"
     ]
    },
    {
     "name": "stderr",
     "output_type": "stream",
     "text": [
      "[INFO][2021/05/10 10:59:13 PM] Loading objects/obj_type_1 (70354, 5) (57413 filtered: area>=100)\n",
      "[INFO][2021/05/10 10:59:14 PM] Closing HDF file: /home/nathan/data/kraken/h2b/giulia/GV0796/Pos6/Pos6_aligned/HDF/segmented.hdf5\n",
      "[INFO][2021/05/10 10:59:14 PM] Opening HDF file: /home/nathan/data/kraken/h2b/giulia/GV0796/Pos6/Pos6_aligned/HDF/segmented.hdf5...\n",
      "[INFO][2021/05/10 10:59:14 PM] Loading tracks/obj_type_2\n",
      "[INFO][2021/05/10 10:59:14 PM] Loading objects/obj_type_2 (88276, 5) (68435 filtered: area>=100)\n",
      "[INFO][2021/05/10 10:59:15 PM] Closing HDF file: /home/nathan/data/kraken/h2b/giulia/GV0796/Pos6/Pos6_aligned/HDF/segmented.hdf5\n"
     ]
    },
    {
     "name": "stdout",
     "output_type": "stream",
     "text": [
      "Track information loaded and ordered according to cell type (WT IDs >0> Scr IDs)\n",
      "Loaded GV0796/Pos6/\n"
     ]
    },
    {
     "name": "stderr",
     "output_type": "stream",
     "text": [
      "100%|██████████| 18/18 [7:05:06<00:00, 1417.04s/it]\n"
     ]
    }
   ],
   "source": [
    "N_cells, error_log, success_log = calculate.iterative_control_heatmap_generator(\n",
    "    'WT',\n",
    "    'WT', ## 'Scr',\n",
    "    'DIVIDE', ##random\n",
    "    expt_dict, \n",
    "    N_cells_per_expt,\n",
    "    hdf5_file_list, \n",
    "    radius, \n",
    "    t_range, \n",
    "    num_bins, \n",
    "    output_path)"
   ]
  },
  {
   "cell_type": "code",
   "execution_count": 8,
   "metadata": {},
   "outputs": [
    {
     "data": {
      "text/plain": [
       "450"
      ]
     },
     "execution_count": 8,
     "metadata": {},
     "output_type": "execute_result"
    }
   ],
   "source": [
    "N_cells ## scope of analysis (number of apoptoses scanned around)"
   ]
  },
  {
   "cell_type": "code",
   "execution_count": 9,
   "metadata": {},
   "outputs": [
    {
     "data": {
      "text/plain": [
       "0"
      ]
     },
     "execution_count": 9,
     "metadata": {},
     "output_type": "execute_result"
    }
   ],
   "source": [
    "len(error_log)"
   ]
  },
  {
   "cell_type": "code",
   "execution_count": 10,
   "metadata": {
    "scrolled": true
   },
   "outputs": [
    {
     "data": {
      "text/plain": [
       "([],\n",
       " ['/home/nathan/data/kraken/h2b/giulia/radial_analysis_output/follow/individual_spatiotemporal_heatmaps/400.400.10/wt_control_wt_div/GV0794_Pos4_ID:349_t:713_N_cells / /home/nathan/data/kraken/h2b/giulia/radial_analysis_output/follow/individual_spatiotemporal_heatmaps/400.400.10/wt_control_wt_div/GV0794_Pos4_ID:349_t:713_N_events saved out successfully',\n",
       "  '/home/nathan/data/kraken/h2b/giulia/radial_analysis_output/follow/individual_spatiotemporal_heatmaps/400.400.10/wt_control_wt_div/GV0794_Pos4_ID:498_t:914_N_cells / /home/nathan/data/kraken/h2b/giulia/radial_analysis_output/follow/individual_spatiotemporal_heatmaps/400.400.10/wt_control_wt_div/GV0794_Pos4_ID:498_t:914_N_events saved out successfully',\n",
       "  '/home/nathan/data/kraken/h2b/giulia/radial_analysis_output/follow/individual_spatiotemporal_heatmaps/400.400.10/wt_control_wt_div/GV0794_Pos4_ID:348_t:796_N_cells / /home/nathan/data/kraken/h2b/giulia/radial_analysis_output/follow/individual_spatiotemporal_heatmaps/400.400.10/wt_control_wt_div/GV0794_Pos4_ID:348_t:796_N_events saved out successfully',\n",
       "  '/home/nathan/data/kraken/h2b/giulia/radial_analysis_output/follow/individual_spatiotemporal_heatmaps/400.400.10/wt_control_wt_div/GV0794_Pos4_ID:135_t:438_N_cells / /home/nathan/data/kraken/h2b/giulia/radial_analysis_output/follow/individual_spatiotemporal_heatmaps/400.400.10/wt_control_wt_div/GV0794_Pos4_ID:135_t:438_N_events saved out successfully',\n",
       "  '/home/nathan/data/kraken/h2b/giulia/radial_analysis_output/follow/individual_spatiotemporal_heatmaps/400.400.10/wt_control_wt_div/GV0794_Pos4_ID:430_t:787_N_cells / /home/nathan/data/kraken/h2b/giulia/radial_analysis_output/follow/individual_spatiotemporal_heatmaps/400.400.10/wt_control_wt_div/GV0794_Pos4_ID:430_t:787_N_events saved out successfully',\n",
       "  '/home/nathan/data/kraken/h2b/giulia/radial_analysis_output/follow/individual_spatiotemporal_heatmaps/400.400.10/wt_control_wt_div/GV0794_Pos4_ID:102_t:380_N_cells / /home/nathan/data/kraken/h2b/giulia/radial_analysis_output/follow/individual_spatiotemporal_heatmaps/400.400.10/wt_control_wt_div/GV0794_Pos4_ID:102_t:380_N_events saved out successfully',\n",
       "  '/home/nathan/data/kraken/h2b/giulia/radial_analysis_output/follow/individual_spatiotemporal_heatmaps/400.400.10/wt_control_wt_div/GV0794_Pos4_ID:318_t:731_N_cells / /home/nathan/data/kraken/h2b/giulia/radial_analysis_output/follow/individual_spatiotemporal_heatmaps/400.400.10/wt_control_wt_div/GV0794_Pos4_ID:318_t:731_N_events saved out successfully',\n",
       "  '/home/nathan/data/kraken/h2b/giulia/radial_analysis_output/follow/individual_spatiotemporal_heatmaps/400.400.10/wt_control_wt_div/GV0794_Pos4_ID:380_t:928_N_cells / /home/nathan/data/kraken/h2b/giulia/radial_analysis_output/follow/individual_spatiotemporal_heatmaps/400.400.10/wt_control_wt_div/GV0794_Pos4_ID:380_t:928_N_events saved out successfully',\n",
       "  '/home/nathan/data/kraken/h2b/giulia/radial_analysis_output/follow/individual_spatiotemporal_heatmaps/400.400.10/wt_control_wt_div/GV0794_Pos4_ID:514_t:844_N_cells / /home/nathan/data/kraken/h2b/giulia/radial_analysis_output/follow/individual_spatiotemporal_heatmaps/400.400.10/wt_control_wt_div/GV0794_Pos4_ID:514_t:844_N_events saved out successfully',\n",
       "  '/home/nathan/data/kraken/h2b/giulia/radial_analysis_output/follow/individual_spatiotemporal_heatmaps/400.400.10/wt_control_wt_div/GV0794_Pos4_ID:565_t:934_N_cells / /home/nathan/data/kraken/h2b/giulia/radial_analysis_output/follow/individual_spatiotemporal_heatmaps/400.400.10/wt_control_wt_div/GV0794_Pos4_ID:565_t:934_N_events saved out successfully',\n",
       "  '/home/nathan/data/kraken/h2b/giulia/radial_analysis_output/follow/individual_spatiotemporal_heatmaps/400.400.10/wt_control_wt_div/GV0794_Pos4_ID:176_t:772_N_cells / /home/nathan/data/kraken/h2b/giulia/radial_analysis_output/follow/individual_spatiotemporal_heatmaps/400.400.10/wt_control_wt_div/GV0794_Pos4_ID:176_t:772_N_events saved out successfully',\n",
       "  '/home/nathan/data/kraken/h2b/giulia/radial_analysis_output/follow/individual_spatiotemporal_heatmaps/400.400.10/wt_control_wt_div/GV0794_Pos4_ID:364_t:740_N_cells / /home/nathan/data/kraken/h2b/giulia/radial_analysis_output/follow/individual_spatiotemporal_heatmaps/400.400.10/wt_control_wt_div/GV0794_Pos4_ID:364_t:740_N_events saved out successfully',\n",
       "  '/home/nathan/data/kraken/h2b/giulia/radial_analysis_output/follow/individual_spatiotemporal_heatmaps/400.400.10/wt_control_wt_div/GV0794_Pos4_ID:567_t:886_N_cells / /home/nathan/data/kraken/h2b/giulia/radial_analysis_output/follow/individual_spatiotemporal_heatmaps/400.400.10/wt_control_wt_div/GV0794_Pos4_ID:567_t:886_N_events saved out successfully',\n",
       "  '/home/nathan/data/kraken/h2b/giulia/radial_analysis_output/follow/individual_spatiotemporal_heatmaps/400.400.10/wt_control_wt_div/GV0794_Pos4_ID:552_t:831_N_cells / /home/nathan/data/kraken/h2b/giulia/radial_analysis_output/follow/individual_spatiotemporal_heatmaps/400.400.10/wt_control_wt_div/GV0794_Pos4_ID:552_t:831_N_events saved out successfully',\n",
       "  '/home/nathan/data/kraken/h2b/giulia/radial_analysis_output/follow/individual_spatiotemporal_heatmaps/400.400.10/wt_control_wt_div/GV0794_Pos4_ID:353_t:789_N_cells / /home/nathan/data/kraken/h2b/giulia/radial_analysis_output/follow/individual_spatiotemporal_heatmaps/400.400.10/wt_control_wt_div/GV0794_Pos4_ID:353_t:789_N_events saved out successfully',\n",
       "  '/home/nathan/data/kraken/h2b/giulia/radial_analysis_output/follow/individual_spatiotemporal_heatmaps/400.400.10/wt_control_wt_div/GV0794_Pos4_ID:460_t:843_N_cells / /home/nathan/data/kraken/h2b/giulia/radial_analysis_output/follow/individual_spatiotemporal_heatmaps/400.400.10/wt_control_wt_div/GV0794_Pos4_ID:460_t:843_N_events saved out successfully',\n",
       "  '/home/nathan/data/kraken/h2b/giulia/radial_analysis_output/follow/individual_spatiotemporal_heatmaps/400.400.10/wt_control_wt_div/GV0794_Pos4_ID:253_t:710_N_cells / /home/nathan/data/kraken/h2b/giulia/radial_analysis_output/follow/individual_spatiotemporal_heatmaps/400.400.10/wt_control_wt_div/GV0794_Pos4_ID:253_t:710_N_events saved out successfully',\n",
       "  '/home/nathan/data/kraken/h2b/giulia/radial_analysis_output/follow/individual_spatiotemporal_heatmaps/400.400.10/wt_control_wt_div/GV0794_Pos4_ID:226_t:627_N_cells / /home/nathan/data/kraken/h2b/giulia/radial_analysis_output/follow/individual_spatiotemporal_heatmaps/400.400.10/wt_control_wt_div/GV0794_Pos4_ID:226_t:627_N_events saved out successfully',\n",
       "  '/home/nathan/data/kraken/h2b/giulia/radial_analysis_output/follow/individual_spatiotemporal_heatmaps/400.400.10/wt_control_wt_div/GV0794_Pos4_ID:249_t:797_N_cells / /home/nathan/data/kraken/h2b/giulia/radial_analysis_output/follow/individual_spatiotemporal_heatmaps/400.400.10/wt_control_wt_div/GV0794_Pos4_ID:249_t:797_N_events saved out successfully',\n",
       "  '/home/nathan/data/kraken/h2b/giulia/radial_analysis_output/follow/individual_spatiotemporal_heatmaps/400.400.10/wt_control_wt_div/GV0794_Pos4_ID:193_t:676_N_cells / /home/nathan/data/kraken/h2b/giulia/radial_analysis_output/follow/individual_spatiotemporal_heatmaps/400.400.10/wt_control_wt_div/GV0794_Pos4_ID:193_t:676_N_events saved out successfully',\n",
       "  '/home/nathan/data/kraken/h2b/giulia/radial_analysis_output/follow/individual_spatiotemporal_heatmaps/400.400.10/wt_control_wt_div/GV0794_Pos4_ID:249_t:778_N_cells / /home/nathan/data/kraken/h2b/giulia/radial_analysis_output/follow/individual_spatiotemporal_heatmaps/400.400.10/wt_control_wt_div/GV0794_Pos4_ID:249_t:778_N_events saved out successfully',\n",
       "  '/home/nathan/data/kraken/h2b/giulia/radial_analysis_output/follow/individual_spatiotemporal_heatmaps/400.400.10/wt_control_wt_div/GV0794_Pos4_ID:201_t:585_N_cells / /home/nathan/data/kraken/h2b/giulia/radial_analysis_output/follow/individual_spatiotemporal_heatmaps/400.400.10/wt_control_wt_div/GV0794_Pos4_ID:201_t:585_N_events saved out successfully',\n",
       "  '/home/nathan/data/kraken/h2b/giulia/radial_analysis_output/follow/individual_spatiotemporal_heatmaps/400.400.10/wt_control_wt_div/GV0794_Pos4_ID:321_t:763_N_cells / /home/nathan/data/kraken/h2b/giulia/radial_analysis_output/follow/individual_spatiotemporal_heatmaps/400.400.10/wt_control_wt_div/GV0794_Pos4_ID:321_t:763_N_events saved out successfully',\n",
       "  '/home/nathan/data/kraken/h2b/giulia/radial_analysis_output/follow/individual_spatiotemporal_heatmaps/400.400.10/wt_control_wt_div/GV0794_Pos4_ID:177_t:649_N_cells / /home/nathan/data/kraken/h2b/giulia/radial_analysis_output/follow/individual_spatiotemporal_heatmaps/400.400.10/wt_control_wt_div/GV0794_Pos4_ID:177_t:649_N_events saved out successfully',\n",
       "  '/home/nathan/data/kraken/h2b/giulia/radial_analysis_output/follow/individual_spatiotemporal_heatmaps/400.400.10/wt_control_wt_div/GV0794_Pos4_ID:465_t:903_N_cells / /home/nathan/data/kraken/h2b/giulia/radial_analysis_output/follow/individual_spatiotemporal_heatmaps/400.400.10/wt_control_wt_div/GV0794_Pos4_ID:465_t:903_N_events saved out successfully',\n",
       "  '/home/nathan/data/kraken/h2b/giulia/radial_analysis_output/follow/individual_spatiotemporal_heatmaps/400.400.10/wt_control_wt_div/GV0794_Pos5_ID:549_t:921_N_cells / /home/nathan/data/kraken/h2b/giulia/radial_analysis_output/follow/individual_spatiotemporal_heatmaps/400.400.10/wt_control_wt_div/GV0794_Pos5_ID:549_t:921_N_events saved out successfully',\n",
       "  '/home/nathan/data/kraken/h2b/giulia/radial_analysis_output/follow/individual_spatiotemporal_heatmaps/400.400.10/wt_control_wt_div/GV0794_Pos5_ID:81_t:478_N_cells / /home/nathan/data/kraken/h2b/giulia/radial_analysis_output/follow/individual_spatiotemporal_heatmaps/400.400.10/wt_control_wt_div/GV0794_Pos5_ID:81_t:478_N_events saved out successfully',\n",
       "  '/home/nathan/data/kraken/h2b/giulia/radial_analysis_output/follow/individual_spatiotemporal_heatmaps/400.400.10/wt_control_wt_div/GV0794_Pos5_ID:38_t:565_N_cells / /home/nathan/data/kraken/h2b/giulia/radial_analysis_output/follow/individual_spatiotemporal_heatmaps/400.400.10/wt_control_wt_div/GV0794_Pos5_ID:38_t:565_N_events saved out successfully',\n",
       "  '/home/nathan/data/kraken/h2b/giulia/radial_analysis_output/follow/individual_spatiotemporal_heatmaps/400.400.10/wt_control_wt_div/GV0794_Pos5_ID:404_t:666_N_cells / /home/nathan/data/kraken/h2b/giulia/radial_analysis_output/follow/individual_spatiotemporal_heatmaps/400.400.10/wt_control_wt_div/GV0794_Pos5_ID:404_t:666_N_events saved out successfully',\n",
       "  '/home/nathan/data/kraken/h2b/giulia/radial_analysis_output/follow/individual_spatiotemporal_heatmaps/400.400.10/wt_control_wt_div/GV0794_Pos5_ID:134_t:391_N_cells / /home/nathan/data/kraken/h2b/giulia/radial_analysis_output/follow/individual_spatiotemporal_heatmaps/400.400.10/wt_control_wt_div/GV0794_Pos5_ID:134_t:391_N_events saved out successfully',\n",
       "  '/home/nathan/data/kraken/h2b/giulia/radial_analysis_output/follow/individual_spatiotemporal_heatmaps/400.400.10/wt_control_wt_div/GV0794_Pos5_ID:81_t:248_N_cells / /home/nathan/data/kraken/h2b/giulia/radial_analysis_output/follow/individual_spatiotemporal_heatmaps/400.400.10/wt_control_wt_div/GV0794_Pos5_ID:81_t:248_N_events saved out successfully',\n",
       "  '/home/nathan/data/kraken/h2b/giulia/radial_analysis_output/follow/individual_spatiotemporal_heatmaps/400.400.10/wt_control_wt_div/GV0794_Pos5_ID:38_t:117_N_cells / /home/nathan/data/kraken/h2b/giulia/radial_analysis_output/follow/individual_spatiotemporal_heatmaps/400.400.10/wt_control_wt_div/GV0794_Pos5_ID:38_t:117_N_events saved out successfully',\n",
       "  '/home/nathan/data/kraken/h2b/giulia/radial_analysis_output/follow/individual_spatiotemporal_heatmaps/400.400.10/wt_control_wt_div/GV0794_Pos5_ID:439_t:672_N_cells / /home/nathan/data/kraken/h2b/giulia/radial_analysis_output/follow/individual_spatiotemporal_heatmaps/400.400.10/wt_control_wt_div/GV0794_Pos5_ID:439_t:672_N_events saved out successfully',\n",
       "  '/home/nathan/data/kraken/h2b/giulia/radial_analysis_output/follow/individual_spatiotemporal_heatmaps/400.400.10/wt_control_wt_div/GV0794_Pos5_ID:469_t:752_N_cells / /home/nathan/data/kraken/h2b/giulia/radial_analysis_output/follow/individual_spatiotemporal_heatmaps/400.400.10/wt_control_wt_div/GV0794_Pos5_ID:469_t:752_N_events saved out successfully',\n",
       "  '/home/nathan/data/kraken/h2b/giulia/radial_analysis_output/follow/individual_spatiotemporal_heatmaps/400.400.10/wt_control_wt_div/GV0794_Pos5_ID:416_t:821_N_cells / /home/nathan/data/kraken/h2b/giulia/radial_analysis_output/follow/individual_spatiotemporal_heatmaps/400.400.10/wt_control_wt_div/GV0794_Pos5_ID:416_t:821_N_events saved out successfully',\n",
       "  '/home/nathan/data/kraken/h2b/giulia/radial_analysis_output/follow/individual_spatiotemporal_heatmaps/400.400.10/wt_control_wt_div/GV0794_Pos5_ID:79_t:207_N_cells / /home/nathan/data/kraken/h2b/giulia/radial_analysis_output/follow/individual_spatiotemporal_heatmaps/400.400.10/wt_control_wt_div/GV0794_Pos5_ID:79_t:207_N_events saved out successfully',\n",
       "  '/home/nathan/data/kraken/h2b/giulia/radial_analysis_output/follow/individual_spatiotemporal_heatmaps/400.400.10/wt_control_wt_div/GV0794_Pos5_ID:134_t:569_N_cells / /home/nathan/data/kraken/h2b/giulia/radial_analysis_output/follow/individual_spatiotemporal_heatmaps/400.400.10/wt_control_wt_div/GV0794_Pos5_ID:134_t:569_N_events saved out successfully',\n",
       "  '/home/nathan/data/kraken/h2b/giulia/radial_analysis_output/follow/individual_spatiotemporal_heatmaps/400.400.10/wt_control_wt_div/GV0794_Pos5_ID:487_t:721_N_cells / /home/nathan/data/kraken/h2b/giulia/radial_analysis_output/follow/individual_spatiotemporal_heatmaps/400.400.10/wt_control_wt_div/GV0794_Pos5_ID:487_t:721_N_events saved out successfully',\n",
       "  '/home/nathan/data/kraken/h2b/giulia/radial_analysis_output/follow/individual_spatiotemporal_heatmaps/400.400.10/wt_control_wt_div/GV0794_Pos5_ID:532_t:897_N_cells / /home/nathan/data/kraken/h2b/giulia/radial_analysis_output/follow/individual_spatiotemporal_heatmaps/400.400.10/wt_control_wt_div/GV0794_Pos5_ID:532_t:897_N_events saved out successfully',\n",
       "  '/home/nathan/data/kraken/h2b/giulia/radial_analysis_output/follow/individual_spatiotemporal_heatmaps/400.400.10/wt_control_wt_div/GV0794_Pos5_ID:489_t:826_N_cells / /home/nathan/data/kraken/h2b/giulia/radial_analysis_output/follow/individual_spatiotemporal_heatmaps/400.400.10/wt_control_wt_div/GV0794_Pos5_ID:489_t:826_N_events saved out successfully',\n",
       "  '/home/nathan/data/kraken/h2b/giulia/radial_analysis_output/follow/individual_spatiotemporal_heatmaps/400.400.10/wt_control_wt_div/GV0794_Pos5_ID:77_t:241_N_cells / /home/nathan/data/kraken/h2b/giulia/radial_analysis_output/follow/individual_spatiotemporal_heatmaps/400.400.10/wt_control_wt_div/GV0794_Pos5_ID:77_t:241_N_events saved out successfully',\n",
       "  '/home/nathan/data/kraken/h2b/giulia/radial_analysis_output/follow/individual_spatiotemporal_heatmaps/400.400.10/wt_control_wt_div/GV0794_Pos5_ID:70_t:343_N_cells / /home/nathan/data/kraken/h2b/giulia/radial_analysis_output/follow/individual_spatiotemporal_heatmaps/400.400.10/wt_control_wt_div/GV0794_Pos5_ID:70_t:343_N_events saved out successfully',\n",
       "  '/home/nathan/data/kraken/h2b/giulia/radial_analysis_output/follow/individual_spatiotemporal_heatmaps/400.400.10/wt_control_wt_div/GV0794_Pos5_ID:461_t:661_N_cells / /home/nathan/data/kraken/h2b/giulia/radial_analysis_output/follow/individual_spatiotemporal_heatmaps/400.400.10/wt_control_wt_div/GV0794_Pos5_ID:461_t:661_N_events saved out successfully',\n",
       "  '/home/nathan/data/kraken/h2b/giulia/radial_analysis_output/follow/individual_spatiotemporal_heatmaps/400.400.10/wt_control_wt_div/GV0794_Pos5_ID:31_t:264_N_cells / /home/nathan/data/kraken/h2b/giulia/radial_analysis_output/follow/individual_spatiotemporal_heatmaps/400.400.10/wt_control_wt_div/GV0794_Pos5_ID:31_t:264_N_events saved out successfully',\n",
       "  '/home/nathan/data/kraken/h2b/giulia/radial_analysis_output/follow/individual_spatiotemporal_heatmaps/400.400.10/wt_control_wt_div/GV0794_Pos5_ID:416_t:793_N_cells / /home/nathan/data/kraken/h2b/giulia/radial_analysis_output/follow/individual_spatiotemporal_heatmaps/400.400.10/wt_control_wt_div/GV0794_Pos5_ID:416_t:793_N_events saved out successfully',\n",
       "  '/home/nathan/data/kraken/h2b/giulia/radial_analysis_output/follow/individual_spatiotemporal_heatmaps/400.400.10/wt_control_wt_div/GV0794_Pos5_ID:77_t:401_N_cells / /home/nathan/data/kraken/h2b/giulia/radial_analysis_output/follow/individual_spatiotemporal_heatmaps/400.400.10/wt_control_wt_div/GV0794_Pos5_ID:77_t:401_N_events saved out successfully',\n",
       "  '/home/nathan/data/kraken/h2b/giulia/radial_analysis_output/follow/individual_spatiotemporal_heatmaps/400.400.10/wt_control_wt_div/GV0794_Pos5_ID:4_t:154_N_cells / /home/nathan/data/kraken/h2b/giulia/radial_analysis_output/follow/individual_spatiotemporal_heatmaps/400.400.10/wt_control_wt_div/GV0794_Pos5_ID:4_t:154_N_events saved out successfully',\n",
       "  '/home/nathan/data/kraken/h2b/giulia/radial_analysis_output/follow/individual_spatiotemporal_heatmaps/400.400.10/wt_control_wt_div/GV0794_Pos5_ID:57_t:198_N_cells / /home/nathan/data/kraken/h2b/giulia/radial_analysis_output/follow/individual_spatiotemporal_heatmaps/400.400.10/wt_control_wt_div/GV0794_Pos5_ID:57_t:198_N_events saved out successfully',\n",
       "  '/home/nathan/data/kraken/h2b/giulia/radial_analysis_output/follow/individual_spatiotemporal_heatmaps/400.400.10/wt_control_wt_div/GV0794_Pos5_ID:134_t:397_N_cells / /home/nathan/data/kraken/h2b/giulia/radial_analysis_output/follow/individual_spatiotemporal_heatmaps/400.400.10/wt_control_wt_div/GV0794_Pos5_ID:134_t:397_N_events saved out successfully',\n",
       "  '/home/nathan/data/kraken/h2b/giulia/radial_analysis_output/follow/individual_spatiotemporal_heatmaps/400.400.10/wt_control_wt_div/GV0794_Pos5_ID:469_t:745_N_cells / /home/nathan/data/kraken/h2b/giulia/radial_analysis_output/follow/individual_spatiotemporal_heatmaps/400.400.10/wt_control_wt_div/GV0794_Pos5_ID:469_t:745_N_events saved out successfully',\n",
       "  '/home/nathan/data/kraken/h2b/giulia/radial_analysis_output/follow/individual_spatiotemporal_heatmaps/400.400.10/wt_control_wt_div/GV0794_Pos6_ID:147_t:781_N_cells / /home/nathan/data/kraken/h2b/giulia/radial_analysis_output/follow/individual_spatiotemporal_heatmaps/400.400.10/wt_control_wt_div/GV0794_Pos6_ID:147_t:781_N_events saved out successfully',\n",
       "  '/home/nathan/data/kraken/h2b/giulia/radial_analysis_output/follow/individual_spatiotemporal_heatmaps/400.400.10/wt_control_wt_div/GV0794_Pos6_ID:157_t:855_N_cells / /home/nathan/data/kraken/h2b/giulia/radial_analysis_output/follow/individual_spatiotemporal_heatmaps/400.400.10/wt_control_wt_div/GV0794_Pos6_ID:157_t:855_N_events saved out successfully',\n",
       "  '/home/nathan/data/kraken/h2b/giulia/radial_analysis_output/follow/individual_spatiotemporal_heatmaps/400.400.10/wt_control_wt_div/GV0794_Pos6_ID:77_t:566_N_cells / /home/nathan/data/kraken/h2b/giulia/radial_analysis_output/follow/individual_spatiotemporal_heatmaps/400.400.10/wt_control_wt_div/GV0794_Pos6_ID:77_t:566_N_events saved out successfully',\n",
       "  '/home/nathan/data/kraken/h2b/giulia/radial_analysis_output/follow/individual_spatiotemporal_heatmaps/400.400.10/wt_control_wt_div/GV0794_Pos6_ID:157_t:863_N_cells / /home/nathan/data/kraken/h2b/giulia/radial_analysis_output/follow/individual_spatiotemporal_heatmaps/400.400.10/wt_control_wt_div/GV0794_Pos6_ID:157_t:863_N_events saved out successfully',\n",
       "  '/home/nathan/data/kraken/h2b/giulia/radial_analysis_output/follow/individual_spatiotemporal_heatmaps/400.400.10/wt_control_wt_div/GV0794_Pos6_ID:124_t:603_N_cells / /home/nathan/data/kraken/h2b/giulia/radial_analysis_output/follow/individual_spatiotemporal_heatmaps/400.400.10/wt_control_wt_div/GV0794_Pos6_ID:124_t:603_N_events saved out successfully',\n",
       "  '/home/nathan/data/kraken/h2b/giulia/radial_analysis_output/follow/individual_spatiotemporal_heatmaps/400.400.10/wt_control_wt_div/GV0794_Pos6_ID:147_t:731_N_cells / /home/nathan/data/kraken/h2b/giulia/radial_analysis_output/follow/individual_spatiotemporal_heatmaps/400.400.10/wt_control_wt_div/GV0794_Pos6_ID:147_t:731_N_events saved out successfully',\n",
       "  '/home/nathan/data/kraken/h2b/giulia/radial_analysis_output/follow/individual_spatiotemporal_heatmaps/400.400.10/wt_control_wt_div/GV0794_Pos6_ID:3_t:542_N_cells / /home/nathan/data/kraken/h2b/giulia/radial_analysis_output/follow/individual_spatiotemporal_heatmaps/400.400.10/wt_control_wt_div/GV0794_Pos6_ID:3_t:542_N_events saved out successfully',\n",
       "  '/home/nathan/data/kraken/h2b/giulia/radial_analysis_output/follow/individual_spatiotemporal_heatmaps/400.400.10/wt_control_wt_div/GV0794_Pos6_ID:139_t:690_N_cells / /home/nathan/data/kraken/h2b/giulia/radial_analysis_output/follow/individual_spatiotemporal_heatmaps/400.400.10/wt_control_wt_div/GV0794_Pos6_ID:139_t:690_N_events saved out successfully',\n",
       "  '/home/nathan/data/kraken/h2b/giulia/radial_analysis_output/follow/individual_spatiotemporal_heatmaps/400.400.10/wt_control_wt_div/GV0794_Pos6_ID:77_t:602_N_cells / /home/nathan/data/kraken/h2b/giulia/radial_analysis_output/follow/individual_spatiotemporal_heatmaps/400.400.10/wt_control_wt_div/GV0794_Pos6_ID:77_t:602_N_events saved out successfully',\n",
       "  '/home/nathan/data/kraken/h2b/giulia/radial_analysis_output/follow/individual_spatiotemporal_heatmaps/400.400.10/wt_control_wt_div/GV0794_Pos6_ID:105_t:800_N_cells / /home/nathan/data/kraken/h2b/giulia/radial_analysis_output/follow/individual_spatiotemporal_heatmaps/400.400.10/wt_control_wt_div/GV0794_Pos6_ID:105_t:800_N_events saved out successfully',\n",
       "  '/home/nathan/data/kraken/h2b/giulia/radial_analysis_output/follow/individual_spatiotemporal_heatmaps/400.400.10/wt_control_wt_div/GV0794_Pos6_ID:162_t:913_N_cells / /home/nathan/data/kraken/h2b/giulia/radial_analysis_output/follow/individual_spatiotemporal_heatmaps/400.400.10/wt_control_wt_div/GV0794_Pos6_ID:162_t:913_N_events saved out successfully',\n",
       "  '/home/nathan/data/kraken/h2b/giulia/radial_analysis_output/follow/individual_spatiotemporal_heatmaps/400.400.10/wt_control_wt_div/GV0794_Pos6_ID:128_t:583_N_cells / /home/nathan/data/kraken/h2b/giulia/radial_analysis_output/follow/individual_spatiotemporal_heatmaps/400.400.10/wt_control_wt_div/GV0794_Pos6_ID:128_t:583_N_events saved out successfully',\n",
       "  '/home/nathan/data/kraken/h2b/giulia/radial_analysis_output/follow/individual_spatiotemporal_heatmaps/400.400.10/wt_control_wt_div/GV0794_Pos6_ID:132_t:850_N_cells / /home/nathan/data/kraken/h2b/giulia/radial_analysis_output/follow/individual_spatiotemporal_heatmaps/400.400.10/wt_control_wt_div/GV0794_Pos6_ID:132_t:850_N_events saved out successfully',\n",
       "  '/home/nathan/data/kraken/h2b/giulia/radial_analysis_output/follow/individual_spatiotemporal_heatmaps/400.400.10/wt_control_wt_div/GV0794_Pos6_ID:128_t:647_N_cells / /home/nathan/data/kraken/h2b/giulia/radial_analysis_output/follow/individual_spatiotemporal_heatmaps/400.400.10/wt_control_wt_div/GV0794_Pos6_ID:128_t:647_N_events saved out successfully',\n",
       "  '/home/nathan/data/kraken/h2b/giulia/radial_analysis_output/follow/individual_spatiotemporal_heatmaps/400.400.10/wt_control_wt_div/GV0794_Pos6_ID:13_t:67_N_cells / /home/nathan/data/kraken/h2b/giulia/radial_analysis_output/follow/individual_spatiotemporal_heatmaps/400.400.10/wt_control_wt_div/GV0794_Pos6_ID:13_t:67_N_events saved out successfully',\n",
       "  '/home/nathan/data/kraken/h2b/giulia/radial_analysis_output/follow/individual_spatiotemporal_heatmaps/400.400.10/wt_control_wt_div/GV0794_Pos6_ID:157_t:875_N_cells / /home/nathan/data/kraken/h2b/giulia/radial_analysis_output/follow/individual_spatiotemporal_heatmaps/400.400.10/wt_control_wt_div/GV0794_Pos6_ID:157_t:875_N_events saved out successfully',\n",
       "  '/home/nathan/data/kraken/h2b/giulia/radial_analysis_output/follow/individual_spatiotemporal_heatmaps/400.400.10/wt_control_wt_div/GV0794_Pos6_ID:77_t:627_N_cells / /home/nathan/data/kraken/h2b/giulia/radial_analysis_output/follow/individual_spatiotemporal_heatmaps/400.400.10/wt_control_wt_div/GV0794_Pos6_ID:77_t:627_N_events saved out successfully',\n",
       "  '/home/nathan/data/kraken/h2b/giulia/radial_analysis_output/follow/individual_spatiotemporal_heatmaps/400.400.10/wt_control_wt_div/GV0794_Pos6_ID:161_t:837_N_cells / /home/nathan/data/kraken/h2b/giulia/radial_analysis_output/follow/individual_spatiotemporal_heatmaps/400.400.10/wt_control_wt_div/GV0794_Pos6_ID:161_t:837_N_events saved out successfully',\n",
       "  '/home/nathan/data/kraken/h2b/giulia/radial_analysis_output/follow/individual_spatiotemporal_heatmaps/400.400.10/wt_control_wt_div/GV0794_Pos6_ID:120_t:713_N_cells / /home/nathan/data/kraken/h2b/giulia/radial_analysis_output/follow/individual_spatiotemporal_heatmaps/400.400.10/wt_control_wt_div/GV0794_Pos6_ID:120_t:713_N_events saved out successfully',\n",
       "  '/home/nathan/data/kraken/h2b/giulia/radial_analysis_output/follow/individual_spatiotemporal_heatmaps/400.400.10/wt_control_wt_div/GV0794_Pos6_ID:120_t:535_N_cells / /home/nathan/data/kraken/h2b/giulia/radial_analysis_output/follow/individual_spatiotemporal_heatmaps/400.400.10/wt_control_wt_div/GV0794_Pos6_ID:120_t:535_N_events saved out successfully',\n",
       "  '/home/nathan/data/kraken/h2b/giulia/radial_analysis_output/follow/individual_spatiotemporal_heatmaps/400.400.10/wt_control_wt_div/GV0794_Pos6_ID:37_t:710_N_cells / /home/nathan/data/kraken/h2b/giulia/radial_analysis_output/follow/individual_spatiotemporal_heatmaps/400.400.10/wt_control_wt_div/GV0794_Pos6_ID:37_t:710_N_events saved out successfully',\n",
       "  '/home/nathan/data/kraken/h2b/giulia/radial_analysis_output/follow/individual_spatiotemporal_heatmaps/400.400.10/wt_control_wt_div/GV0794_Pos6_ID:4_t:6_N_cells / /home/nathan/data/kraken/h2b/giulia/radial_analysis_output/follow/individual_spatiotemporal_heatmaps/400.400.10/wt_control_wt_div/GV0794_Pos6_ID:4_t:6_N_events saved out successfully',\n",
       "  '/home/nathan/data/kraken/h2b/giulia/radial_analysis_output/follow/individual_spatiotemporal_heatmaps/400.400.10/wt_control_wt_div/GV0794_Pos6_ID:147_t:753_N_cells / /home/nathan/data/kraken/h2b/giulia/radial_analysis_output/follow/individual_spatiotemporal_heatmaps/400.400.10/wt_control_wt_div/GV0794_Pos6_ID:147_t:753_N_events saved out successfully',\n",
       "  '/home/nathan/data/kraken/h2b/giulia/radial_analysis_output/follow/individual_spatiotemporal_heatmaps/400.400.10/wt_control_wt_div/GV0794_Pos6_ID:146_t:732_N_cells / /home/nathan/data/kraken/h2b/giulia/radial_analysis_output/follow/individual_spatiotemporal_heatmaps/400.400.10/wt_control_wt_div/GV0794_Pos6_ID:146_t:732_N_events saved out successfully',\n",
       "  '/home/nathan/data/kraken/h2b/giulia/radial_analysis_output/follow/individual_spatiotemporal_heatmaps/400.400.10/wt_control_wt_div/GV0794_Pos6_ID:120_t:594_N_cells / /home/nathan/data/kraken/h2b/giulia/radial_analysis_output/follow/individual_spatiotemporal_heatmaps/400.400.10/wt_control_wt_div/GV0794_Pos6_ID:120_t:594_N_events saved out successfully',\n",
       "  '/home/nathan/data/kraken/h2b/giulia/radial_analysis_output/follow/individual_spatiotemporal_heatmaps/400.400.10/wt_control_wt_div/GV0794_Pos7_ID:345_t:432_N_cells / /home/nathan/data/kraken/h2b/giulia/radial_analysis_output/follow/individual_spatiotemporal_heatmaps/400.400.10/wt_control_wt_div/GV0794_Pos7_ID:345_t:432_N_events saved out successfully',\n",
       "  '/home/nathan/data/kraken/h2b/giulia/radial_analysis_output/follow/individual_spatiotemporal_heatmaps/400.400.10/wt_control_wt_div/GV0794_Pos7_ID:559_t:722_N_cells / /home/nathan/data/kraken/h2b/giulia/radial_analysis_output/follow/individual_spatiotemporal_heatmaps/400.400.10/wt_control_wt_div/GV0794_Pos7_ID:559_t:722_N_events saved out successfully',\n",
       "  '/home/nathan/data/kraken/h2b/giulia/radial_analysis_output/follow/individual_spatiotemporal_heatmaps/400.400.10/wt_control_wt_div/GV0794_Pos7_ID:173_t:328_N_cells / /home/nathan/data/kraken/h2b/giulia/radial_analysis_output/follow/individual_spatiotemporal_heatmaps/400.400.10/wt_control_wt_div/GV0794_Pos7_ID:173_t:328_N_events saved out successfully',\n",
       "  '/home/nathan/data/kraken/h2b/giulia/radial_analysis_output/follow/individual_spatiotemporal_heatmaps/400.400.10/wt_control_wt_div/GV0794_Pos7_ID:725_t:862_N_cells / /home/nathan/data/kraken/h2b/giulia/radial_analysis_output/follow/individual_spatiotemporal_heatmaps/400.400.10/wt_control_wt_div/GV0794_Pos7_ID:725_t:862_N_events saved out successfully',\n",
       "  '/home/nathan/data/kraken/h2b/giulia/radial_analysis_output/follow/individual_spatiotemporal_heatmaps/400.400.10/wt_control_wt_div/GV0794_Pos7_ID:985_t:932_N_cells / /home/nathan/data/kraken/h2b/giulia/radial_analysis_output/follow/individual_spatiotemporal_heatmaps/400.400.10/wt_control_wt_div/GV0794_Pos7_ID:985_t:932_N_events saved out successfully',\n",
       "  '/home/nathan/data/kraken/h2b/giulia/radial_analysis_output/follow/individual_spatiotemporal_heatmaps/400.400.10/wt_control_wt_div/GV0794_Pos7_ID:424_t:486_N_cells / /home/nathan/data/kraken/h2b/giulia/radial_analysis_output/follow/individual_spatiotemporal_heatmaps/400.400.10/wt_control_wt_div/GV0794_Pos7_ID:424_t:486_N_events saved out successfully',\n",
       "  '/home/nathan/data/kraken/h2b/giulia/radial_analysis_output/follow/individual_spatiotemporal_heatmaps/400.400.10/wt_control_wt_div/GV0794_Pos7_ID:448_t:635_N_cells / /home/nathan/data/kraken/h2b/giulia/radial_analysis_output/follow/individual_spatiotemporal_heatmaps/400.400.10/wt_control_wt_div/GV0794_Pos7_ID:448_t:635_N_events saved out successfully',\n",
       "  '/home/nathan/data/kraken/h2b/giulia/radial_analysis_output/follow/individual_spatiotemporal_heatmaps/400.400.10/wt_control_wt_div/GV0794_Pos7_ID:768_t:860_N_cells / /home/nathan/data/kraken/h2b/giulia/radial_analysis_output/follow/individual_spatiotemporal_heatmaps/400.400.10/wt_control_wt_div/GV0794_Pos7_ID:768_t:860_N_events saved out successfully',\n",
       "  '/home/nathan/data/kraken/h2b/giulia/radial_analysis_output/follow/individual_spatiotemporal_heatmaps/400.400.10/wt_control_wt_div/GV0794_Pos7_ID:37_t:456_N_cells / /home/nathan/data/kraken/h2b/giulia/radial_analysis_output/follow/individual_spatiotemporal_heatmaps/400.400.10/wt_control_wt_div/GV0794_Pos7_ID:37_t:456_N_events saved out successfully',\n",
       "  '/home/nathan/data/kraken/h2b/giulia/radial_analysis_output/follow/individual_spatiotemporal_heatmaps/400.400.10/wt_control_wt_div/GV0794_Pos7_ID:555_t:791_N_cells / /home/nathan/data/kraken/h2b/giulia/radial_analysis_output/follow/individual_spatiotemporal_heatmaps/400.400.10/wt_control_wt_div/GV0794_Pos7_ID:555_t:791_N_events saved out successfully',\n",
       "  '/home/nathan/data/kraken/h2b/giulia/radial_analysis_output/follow/individual_spatiotemporal_heatmaps/400.400.10/wt_control_wt_div/GV0794_Pos7_ID:613_t:702_N_cells / /home/nathan/data/kraken/h2b/giulia/radial_analysis_output/follow/individual_spatiotemporal_heatmaps/400.400.10/wt_control_wt_div/GV0794_Pos7_ID:613_t:702_N_events saved out successfully',\n",
       "  '/home/nathan/data/kraken/h2b/giulia/radial_analysis_output/follow/individual_spatiotemporal_heatmaps/400.400.10/wt_control_wt_div/GV0794_Pos7_ID:763_t:848_N_cells / /home/nathan/data/kraken/h2b/giulia/radial_analysis_output/follow/individual_spatiotemporal_heatmaps/400.400.10/wt_control_wt_div/GV0794_Pos7_ID:763_t:848_N_events saved out successfully',\n",
       "  '/home/nathan/data/kraken/h2b/giulia/radial_analysis_output/follow/individual_spatiotemporal_heatmaps/400.400.10/wt_control_wt_div/GV0794_Pos7_ID:6_t:65_N_cells / /home/nathan/data/kraken/h2b/giulia/radial_analysis_output/follow/individual_spatiotemporal_heatmaps/400.400.10/wt_control_wt_div/GV0794_Pos7_ID:6_t:65_N_events saved out successfully',\n",
       "  '/home/nathan/data/kraken/h2b/giulia/radial_analysis_output/follow/individual_spatiotemporal_heatmaps/400.400.10/wt_control_wt_div/GV0794_Pos7_ID:517_t:672_N_cells / /home/nathan/data/kraken/h2b/giulia/radial_analysis_output/follow/individual_spatiotemporal_heatmaps/400.400.10/wt_control_wt_div/GV0794_Pos7_ID:517_t:672_N_events saved out successfully',\n",
       "  '/home/nathan/data/kraken/h2b/giulia/radial_analysis_output/follow/individual_spatiotemporal_heatmaps/400.400.10/wt_control_wt_div/GV0794_Pos7_ID:364_t:483_N_cells / /home/nathan/data/kraken/h2b/giulia/radial_analysis_output/follow/individual_spatiotemporal_heatmaps/400.400.10/wt_control_wt_div/GV0794_Pos7_ID:364_t:483_N_events saved out successfully',\n",
       "  '/home/nathan/data/kraken/h2b/giulia/radial_analysis_output/follow/individual_spatiotemporal_heatmaps/400.400.10/wt_control_wt_div/GV0794_Pos7_ID:800_t:910_N_cells / /home/nathan/data/kraken/h2b/giulia/radial_analysis_output/follow/individual_spatiotemporal_heatmaps/400.400.10/wt_control_wt_div/GV0794_Pos7_ID:800_t:910_N_events saved out successfully',\n",
       "  '/home/nathan/data/kraken/h2b/giulia/radial_analysis_output/follow/individual_spatiotemporal_heatmaps/400.400.10/wt_control_wt_div/GV0794_Pos7_ID:999_t:841_N_cells / /home/nathan/data/kraken/h2b/giulia/radial_analysis_output/follow/individual_spatiotemporal_heatmaps/400.400.10/wt_control_wt_div/GV0794_Pos7_ID:999_t:841_N_events saved out successfully',\n",
       "  '/home/nathan/data/kraken/h2b/giulia/radial_analysis_output/follow/individual_spatiotemporal_heatmaps/400.400.10/wt_control_wt_div/GV0794_Pos7_ID:208_t:364_N_cells / /home/nathan/data/kraken/h2b/giulia/radial_analysis_output/follow/individual_spatiotemporal_heatmaps/400.400.10/wt_control_wt_div/GV0794_Pos7_ID:208_t:364_N_events saved out successfully',\n",
       "  '/home/nathan/data/kraken/h2b/giulia/radial_analysis_output/follow/individual_spatiotemporal_heatmaps/400.400.10/wt_control_wt_div/GV0794_Pos7_ID:340_t:420_N_cells / /home/nathan/data/kraken/h2b/giulia/radial_analysis_output/follow/individual_spatiotemporal_heatmaps/400.400.10/wt_control_wt_div/GV0794_Pos7_ID:340_t:420_N_events saved out successfully',\n",
       "  '/home/nathan/data/kraken/h2b/giulia/radial_analysis_output/follow/individual_spatiotemporal_heatmaps/400.400.10/wt_control_wt_div/GV0794_Pos7_ID:1013_t:899_N_cells / /home/nathan/data/kraken/h2b/giulia/radial_analysis_output/follow/individual_spatiotemporal_heatmaps/400.400.10/wt_control_wt_div/GV0794_Pos7_ID:1013_t:899_N_events saved out successfully',\n",
       "  '/home/nathan/data/kraken/h2b/giulia/radial_analysis_output/follow/individual_spatiotemporal_heatmaps/400.400.10/wt_control_wt_div/GV0794_Pos7_ID:807_t:912_N_cells / /home/nathan/data/kraken/h2b/giulia/radial_analysis_output/follow/individual_spatiotemporal_heatmaps/400.400.10/wt_control_wt_div/GV0794_Pos7_ID:807_t:912_N_events saved out successfully',\n",
       "  '/home/nathan/data/kraken/h2b/giulia/radial_analysis_output/follow/individual_spatiotemporal_heatmaps/400.400.10/wt_control_wt_div/GV0794_Pos7_ID:1023_t:912_N_cells / /home/nathan/data/kraken/h2b/giulia/radial_analysis_output/follow/individual_spatiotemporal_heatmaps/400.400.10/wt_control_wt_div/GV0794_Pos7_ID:1023_t:912_N_events saved out successfully',\n",
       "  '/home/nathan/data/kraken/h2b/giulia/radial_analysis_output/follow/individual_spatiotemporal_heatmaps/400.400.10/wt_control_wt_div/GV0794_Pos7_ID:207_t:563_N_cells / /home/nathan/data/kraken/h2b/giulia/radial_analysis_output/follow/individual_spatiotemporal_heatmaps/400.400.10/wt_control_wt_div/GV0794_Pos7_ID:207_t:563_N_events saved out successfully',\n",
       "  '/home/nathan/data/kraken/h2b/giulia/radial_analysis_output/follow/individual_spatiotemporal_heatmaps/400.400.10/wt_control_wt_div/GV0794_Pos7_ID:783_t:848_N_cells / /home/nathan/data/kraken/h2b/giulia/radial_analysis_output/follow/individual_spatiotemporal_heatmaps/400.400.10/wt_control_wt_div/GV0794_Pos7_ID:783_t:848_N_events saved out successfully',\n",
       "  '/home/nathan/data/kraken/h2b/giulia/radial_analysis_output/follow/individual_spatiotemporal_heatmaps/400.400.10/wt_control_wt_div/GV0794_Pos7_ID:871_t:838_N_cells / /home/nathan/data/kraken/h2b/giulia/radial_analysis_output/follow/individual_spatiotemporal_heatmaps/400.400.10/wt_control_wt_div/GV0794_Pos7_ID:871_t:838_N_events saved out successfully',\n",
       "  '/home/nathan/data/kraken/h2b/giulia/radial_analysis_output/follow/individual_spatiotemporal_heatmaps/400.400.10/wt_control_wt_div/GV0794_Pos8_ID:662_t:804_N_cells / /home/nathan/data/kraken/h2b/giulia/radial_analysis_output/follow/individual_spatiotemporal_heatmaps/400.400.10/wt_control_wt_div/GV0794_Pos8_ID:662_t:804_N_events saved out successfully',\n",
       "  '/home/nathan/data/kraken/h2b/giulia/radial_analysis_output/follow/individual_spatiotemporal_heatmaps/400.400.10/wt_control_wt_div/GV0794_Pos8_ID:509_t:781_N_cells / /home/nathan/data/kraken/h2b/giulia/radial_analysis_output/follow/individual_spatiotemporal_heatmaps/400.400.10/wt_control_wt_div/GV0794_Pos8_ID:509_t:781_N_events saved out successfully',\n",
       "  '/home/nathan/data/kraken/h2b/giulia/radial_analysis_output/follow/individual_spatiotemporal_heatmaps/400.400.10/wt_control_wt_div/GV0794_Pos8_ID:789_t:858_N_cells / /home/nathan/data/kraken/h2b/giulia/radial_analysis_output/follow/individual_spatiotemporal_heatmaps/400.400.10/wt_control_wt_div/GV0794_Pos8_ID:789_t:858_N_events saved out successfully',\n",
       "  '/home/nathan/data/kraken/h2b/giulia/radial_analysis_output/follow/individual_spatiotemporal_heatmaps/400.400.10/wt_control_wt_div/GV0794_Pos8_ID:895_t:856_N_cells / /home/nathan/data/kraken/h2b/giulia/radial_analysis_output/follow/individual_spatiotemporal_heatmaps/400.400.10/wt_control_wt_div/GV0794_Pos8_ID:895_t:856_N_events saved out successfully',\n",
       "  '/home/nathan/data/kraken/h2b/giulia/radial_analysis_output/follow/individual_spatiotemporal_heatmaps/400.400.10/wt_control_wt_div/GV0794_Pos8_ID:401_t:680_N_cells / /home/nathan/data/kraken/h2b/giulia/radial_analysis_output/follow/individual_spatiotemporal_heatmaps/400.400.10/wt_control_wt_div/GV0794_Pos8_ID:401_t:680_N_events saved out successfully',\n",
       "  '/home/nathan/data/kraken/h2b/giulia/radial_analysis_output/follow/individual_spatiotemporal_heatmaps/400.400.10/wt_control_wt_div/GV0794_Pos8_ID:624_t:874_N_cells / /home/nathan/data/kraken/h2b/giulia/radial_analysis_output/follow/individual_spatiotemporal_heatmaps/400.400.10/wt_control_wt_div/GV0794_Pos8_ID:624_t:874_N_events saved out successfully',\n",
       "  '/home/nathan/data/kraken/h2b/giulia/radial_analysis_output/follow/individual_spatiotemporal_heatmaps/400.400.10/wt_control_wt_div/GV0794_Pos8_ID:695_t:846_N_cells / /home/nathan/data/kraken/h2b/giulia/radial_analysis_output/follow/individual_spatiotemporal_heatmaps/400.400.10/wt_control_wt_div/GV0794_Pos8_ID:695_t:846_N_events saved out successfully',\n",
       "  '/home/nathan/data/kraken/h2b/giulia/radial_analysis_output/follow/individual_spatiotemporal_heatmaps/400.400.10/wt_control_wt_div/GV0794_Pos8_ID:419_t:757_N_cells / /home/nathan/data/kraken/h2b/giulia/radial_analysis_output/follow/individual_spatiotemporal_heatmaps/400.400.10/wt_control_wt_div/GV0794_Pos8_ID:419_t:757_N_events saved out successfully',\n",
       "  '/home/nathan/data/kraken/h2b/giulia/radial_analysis_output/follow/individual_spatiotemporal_heatmaps/400.400.10/wt_control_wt_div/GV0794_Pos8_ID:405_t:685_N_cells / /home/nathan/data/kraken/h2b/giulia/radial_analysis_output/follow/individual_spatiotemporal_heatmaps/400.400.10/wt_control_wt_div/GV0794_Pos8_ID:405_t:685_N_events saved out successfully',\n",
       "  '/home/nathan/data/kraken/h2b/giulia/radial_analysis_output/follow/individual_spatiotemporal_heatmaps/400.400.10/wt_control_wt_div/GV0794_Pos8_ID:683_t:818_N_cells / /home/nathan/data/kraken/h2b/giulia/radial_analysis_output/follow/individual_spatiotemporal_heatmaps/400.400.10/wt_control_wt_div/GV0794_Pos8_ID:683_t:818_N_events saved out successfully',\n",
       "  '/home/nathan/data/kraken/h2b/giulia/radial_analysis_output/follow/individual_spatiotemporal_heatmaps/400.400.10/wt_control_wt_div/GV0794_Pos8_ID:254_t:354_N_cells / /home/nathan/data/kraken/h2b/giulia/radial_analysis_output/follow/individual_spatiotemporal_heatmaps/400.400.10/wt_control_wt_div/GV0794_Pos8_ID:254_t:354_N_events saved out successfully',\n",
       "  '/home/nathan/data/kraken/h2b/giulia/radial_analysis_output/follow/individual_spatiotemporal_heatmaps/400.400.10/wt_control_wt_div/GV0794_Pos8_ID:501_t:677_N_cells / /home/nathan/data/kraken/h2b/giulia/radial_analysis_output/follow/individual_spatiotemporal_heatmaps/400.400.10/wt_control_wt_div/GV0794_Pos8_ID:501_t:677_N_events saved out successfully',\n",
       "  '/home/nathan/data/kraken/h2b/giulia/radial_analysis_output/follow/individual_spatiotemporal_heatmaps/400.400.10/wt_control_wt_div/GV0794_Pos8_ID:269_t:511_N_cells / /home/nathan/data/kraken/h2b/giulia/radial_analysis_output/follow/individual_spatiotemporal_heatmaps/400.400.10/wt_control_wt_div/GV0794_Pos8_ID:269_t:511_N_events saved out successfully',\n",
       "  '/home/nathan/data/kraken/h2b/giulia/radial_analysis_output/follow/individual_spatiotemporal_heatmaps/400.400.10/wt_control_wt_div/GV0794_Pos8_ID:638_t:926_N_cells / /home/nathan/data/kraken/h2b/giulia/radial_analysis_output/follow/individual_spatiotemporal_heatmaps/400.400.10/wt_control_wt_div/GV0794_Pos8_ID:638_t:926_N_events saved out successfully',\n",
       "  '/home/nathan/data/kraken/h2b/giulia/radial_analysis_output/follow/individual_spatiotemporal_heatmaps/400.400.10/wt_control_wt_div/GV0794_Pos8_ID:695_t:835_N_cells / /home/nathan/data/kraken/h2b/giulia/radial_analysis_output/follow/individual_spatiotemporal_heatmaps/400.400.10/wt_control_wt_div/GV0794_Pos8_ID:695_t:835_N_events saved out successfully',\n",
       "  '/home/nathan/data/kraken/h2b/giulia/radial_analysis_output/follow/individual_spatiotemporal_heatmaps/400.400.10/wt_control_wt_div/GV0794_Pos8_ID:770_t:886_N_cells / /home/nathan/data/kraken/h2b/giulia/radial_analysis_output/follow/individual_spatiotemporal_heatmaps/400.400.10/wt_control_wt_div/GV0794_Pos8_ID:770_t:886_N_events saved out successfully',\n",
       "  '/home/nathan/data/kraken/h2b/giulia/radial_analysis_output/follow/individual_spatiotemporal_heatmaps/400.400.10/wt_control_wt_div/GV0794_Pos8_ID:824_t:862_N_cells / /home/nathan/data/kraken/h2b/giulia/radial_analysis_output/follow/individual_spatiotemporal_heatmaps/400.400.10/wt_control_wt_div/GV0794_Pos8_ID:824_t:862_N_events saved out successfully',\n",
       "  '/home/nathan/data/kraken/h2b/giulia/radial_analysis_output/follow/individual_spatiotemporal_heatmaps/400.400.10/wt_control_wt_div/GV0794_Pos8_ID:647_t:937_N_cells / /home/nathan/data/kraken/h2b/giulia/radial_analysis_output/follow/individual_spatiotemporal_heatmaps/400.400.10/wt_control_wt_div/GV0794_Pos8_ID:647_t:937_N_events saved out successfully',\n",
       "  '/home/nathan/data/kraken/h2b/giulia/radial_analysis_output/follow/individual_spatiotemporal_heatmaps/400.400.10/wt_control_wt_div/GV0794_Pos8_ID:640_t:845_N_cells / /home/nathan/data/kraken/h2b/giulia/radial_analysis_output/follow/individual_spatiotemporal_heatmaps/400.400.10/wt_control_wt_div/GV0794_Pos8_ID:640_t:845_N_events saved out successfully',\n",
       "  '/home/nathan/data/kraken/h2b/giulia/radial_analysis_output/follow/individual_spatiotemporal_heatmaps/400.400.10/wt_control_wt_div/GV0794_Pos8_ID:13_t:125_N_cells / /home/nathan/data/kraken/h2b/giulia/radial_analysis_output/follow/individual_spatiotemporal_heatmaps/400.400.10/wt_control_wt_div/GV0794_Pos8_ID:13_t:125_N_events saved out successfully',\n",
       "  '/home/nathan/data/kraken/h2b/giulia/radial_analysis_output/follow/individual_spatiotemporal_heatmaps/400.400.10/wt_control_wt_div/GV0794_Pos8_ID:605_t:865_N_cells / /home/nathan/data/kraken/h2b/giulia/radial_analysis_output/follow/individual_spatiotemporal_heatmaps/400.400.10/wt_control_wt_div/GV0794_Pos8_ID:605_t:865_N_events saved out successfully',\n",
       "  '/home/nathan/data/kraken/h2b/giulia/radial_analysis_output/follow/individual_spatiotemporal_heatmaps/400.400.10/wt_control_wt_div/GV0794_Pos8_ID:398_t:638_N_cells / /home/nathan/data/kraken/h2b/giulia/radial_analysis_output/follow/individual_spatiotemporal_heatmaps/400.400.10/wt_control_wt_div/GV0794_Pos8_ID:398_t:638_N_events saved out successfully',\n",
       "  '/home/nathan/data/kraken/h2b/giulia/radial_analysis_output/follow/individual_spatiotemporal_heatmaps/400.400.10/wt_control_wt_div/GV0794_Pos8_ID:418_t:702_N_cells / /home/nathan/data/kraken/h2b/giulia/radial_analysis_output/follow/individual_spatiotemporal_heatmaps/400.400.10/wt_control_wt_div/GV0794_Pos8_ID:418_t:702_N_events saved out successfully',\n",
       "  '/home/nathan/data/kraken/h2b/giulia/radial_analysis_output/follow/individual_spatiotemporal_heatmaps/400.400.10/wt_control_wt_div/GV0794_Pos8_ID:549_t:717_N_cells / /home/nathan/data/kraken/h2b/giulia/radial_analysis_output/follow/individual_spatiotemporal_heatmaps/400.400.10/wt_control_wt_div/GV0794_Pos8_ID:549_t:717_N_events saved out successfully',\n",
       "  '/home/nathan/data/kraken/h2b/giulia/radial_analysis_output/follow/individual_spatiotemporal_heatmaps/400.400.10/wt_control_wt_div/GV0794_Pos8_ID:563_t:760_N_cells / /home/nathan/data/kraken/h2b/giulia/radial_analysis_output/follow/individual_spatiotemporal_heatmaps/400.400.10/wt_control_wt_div/GV0794_Pos8_ID:563_t:760_N_events saved out successfully',\n",
       "  '/home/nathan/data/kraken/h2b/giulia/radial_analysis_output/follow/individual_spatiotemporal_heatmaps/400.400.10/wt_control_wt_div/GV0795_Pos3_ID:1_t:204_N_cells / /home/nathan/data/kraken/h2b/giulia/radial_analysis_output/follow/individual_spatiotemporal_heatmaps/400.400.10/wt_control_wt_div/GV0795_Pos3_ID:1_t:204_N_events saved out successfully',\n",
       "  '/home/nathan/data/kraken/h2b/giulia/radial_analysis_output/follow/individual_spatiotemporal_heatmaps/400.400.10/wt_control_wt_div/GV0795_Pos3_ID:955_t:903_N_cells / /home/nathan/data/kraken/h2b/giulia/radial_analysis_output/follow/individual_spatiotemporal_heatmaps/400.400.10/wt_control_wt_div/GV0795_Pos3_ID:955_t:903_N_events saved out successfully',\n",
       "  '/home/nathan/data/kraken/h2b/giulia/radial_analysis_output/follow/individual_spatiotemporal_heatmaps/400.400.10/wt_control_wt_div/GV0795_Pos3_ID:1000_t:939_N_cells / /home/nathan/data/kraken/h2b/giulia/radial_analysis_output/follow/individual_spatiotemporal_heatmaps/400.400.10/wt_control_wt_div/GV0795_Pos3_ID:1000_t:939_N_events saved out successfully',\n",
       "  '/home/nathan/data/kraken/h2b/giulia/radial_analysis_output/follow/individual_spatiotemporal_heatmaps/400.400.10/wt_control_wt_div/GV0795_Pos3_ID:1001_t:782_N_cells / /home/nathan/data/kraken/h2b/giulia/radial_analysis_output/follow/individual_spatiotemporal_heatmaps/400.400.10/wt_control_wt_div/GV0795_Pos3_ID:1001_t:782_N_events saved out successfully',\n",
       "  '/home/nathan/data/kraken/h2b/giulia/radial_analysis_output/follow/individual_spatiotemporal_heatmaps/400.400.10/wt_control_wt_div/GV0795_Pos3_ID:367_t:579_N_cells / /home/nathan/data/kraken/h2b/giulia/radial_analysis_output/follow/individual_spatiotemporal_heatmaps/400.400.10/wt_control_wt_div/GV0795_Pos3_ID:367_t:579_N_events saved out successfully',\n",
       "  '/home/nathan/data/kraken/h2b/giulia/radial_analysis_output/follow/individual_spatiotemporal_heatmaps/400.400.10/wt_control_wt_div/GV0795_Pos3_ID:1227_t:852_N_cells / /home/nathan/data/kraken/h2b/giulia/radial_analysis_output/follow/individual_spatiotemporal_heatmaps/400.400.10/wt_control_wt_div/GV0795_Pos3_ID:1227_t:852_N_events saved out successfully',\n",
       "  '/home/nathan/data/kraken/h2b/giulia/radial_analysis_output/follow/individual_spatiotemporal_heatmaps/400.400.10/wt_control_wt_div/GV0795_Pos3_ID:1893_t:1135_N_cells / /home/nathan/data/kraken/h2b/giulia/radial_analysis_output/follow/individual_spatiotemporal_heatmaps/400.400.10/wt_control_wt_div/GV0795_Pos3_ID:1893_t:1135_N_events saved out successfully',\n",
       "  '/home/nathan/data/kraken/h2b/giulia/radial_analysis_output/follow/individual_spatiotemporal_heatmaps/400.400.10/wt_control_wt_div/GV0795_Pos3_ID:2191_t:1091_N_cells / /home/nathan/data/kraken/h2b/giulia/radial_analysis_output/follow/individual_spatiotemporal_heatmaps/400.400.10/wt_control_wt_div/GV0795_Pos3_ID:2191_t:1091_N_events saved out successfully',\n",
       "  '/home/nathan/data/kraken/h2b/giulia/radial_analysis_output/follow/individual_spatiotemporal_heatmaps/400.400.10/wt_control_wt_div/GV0795_Pos3_ID:2204_t:1171_N_cells / /home/nathan/data/kraken/h2b/giulia/radial_analysis_output/follow/individual_spatiotemporal_heatmaps/400.400.10/wt_control_wt_div/GV0795_Pos3_ID:2204_t:1171_N_events saved out successfully',\n",
       "  '/home/nathan/data/kraken/h2b/giulia/radial_analysis_output/follow/individual_spatiotemporal_heatmaps/400.400.10/wt_control_wt_div/GV0795_Pos3_ID:861_t:756_N_cells / /home/nathan/data/kraken/h2b/giulia/radial_analysis_output/follow/individual_spatiotemporal_heatmaps/400.400.10/wt_control_wt_div/GV0795_Pos3_ID:861_t:756_N_events saved out successfully',\n",
       "  '/home/nathan/data/kraken/h2b/giulia/radial_analysis_output/follow/individual_spatiotemporal_heatmaps/400.400.10/wt_control_wt_div/GV0795_Pos3_ID:486_t:564_N_cells / /home/nathan/data/kraken/h2b/giulia/radial_analysis_output/follow/individual_spatiotemporal_heatmaps/400.400.10/wt_control_wt_div/GV0795_Pos3_ID:486_t:564_N_events saved out successfully',\n",
       "  '/home/nathan/data/kraken/h2b/giulia/radial_analysis_output/follow/individual_spatiotemporal_heatmaps/400.400.10/wt_control_wt_div/GV0795_Pos3_ID:1327_t:915_N_cells / /home/nathan/data/kraken/h2b/giulia/radial_analysis_output/follow/individual_spatiotemporal_heatmaps/400.400.10/wt_control_wt_div/GV0795_Pos3_ID:1327_t:915_N_events saved out successfully',\n",
       "  '/home/nathan/data/kraken/h2b/giulia/radial_analysis_output/follow/individual_spatiotemporal_heatmaps/400.400.10/wt_control_wt_div/GV0795_Pos3_ID:1586_t:1137_N_cells / /home/nathan/data/kraken/h2b/giulia/radial_analysis_output/follow/individual_spatiotemporal_heatmaps/400.400.10/wt_control_wt_div/GV0795_Pos3_ID:1586_t:1137_N_events saved out successfully',\n",
       "  '/home/nathan/data/kraken/h2b/giulia/radial_analysis_output/follow/individual_spatiotemporal_heatmaps/400.400.10/wt_control_wt_div/GV0795_Pos3_ID:539_t:707_N_cells / /home/nathan/data/kraken/h2b/giulia/radial_analysis_output/follow/individual_spatiotemporal_heatmaps/400.400.10/wt_control_wt_div/GV0795_Pos3_ID:539_t:707_N_events saved out successfully',\n",
       "  '/home/nathan/data/kraken/h2b/giulia/radial_analysis_output/follow/individual_spatiotemporal_heatmaps/400.400.10/wt_control_wt_div/GV0795_Pos3_ID:237_t:697_N_cells / /home/nathan/data/kraken/h2b/giulia/radial_analysis_output/follow/individual_spatiotemporal_heatmaps/400.400.10/wt_control_wt_div/GV0795_Pos3_ID:237_t:697_N_events saved out successfully',\n",
       "  '/home/nathan/data/kraken/h2b/giulia/radial_analysis_output/follow/individual_spatiotemporal_heatmaps/400.400.10/wt_control_wt_div/GV0795_Pos3_ID:1768_t:1155_N_cells / /home/nathan/data/kraken/h2b/giulia/radial_analysis_output/follow/individual_spatiotemporal_heatmaps/400.400.10/wt_control_wt_div/GV0795_Pos3_ID:1768_t:1155_N_events saved out successfully',\n",
       "  '/home/nathan/data/kraken/h2b/giulia/radial_analysis_output/follow/individual_spatiotemporal_heatmaps/400.400.10/wt_control_wt_div/GV0795_Pos3_ID:990_t:869_N_cells / /home/nathan/data/kraken/h2b/giulia/radial_analysis_output/follow/individual_spatiotemporal_heatmaps/400.400.10/wt_control_wt_div/GV0795_Pos3_ID:990_t:869_N_events saved out successfully',\n",
       "  '/home/nathan/data/kraken/h2b/giulia/radial_analysis_output/follow/individual_spatiotemporal_heatmaps/400.400.10/wt_control_wt_div/GV0795_Pos3_ID:2093_t:1127_N_cells / /home/nathan/data/kraken/h2b/giulia/radial_analysis_output/follow/individual_spatiotemporal_heatmaps/400.400.10/wt_control_wt_div/GV0795_Pos3_ID:2093_t:1127_N_events saved out successfully',\n",
       "  '/home/nathan/data/kraken/h2b/giulia/radial_analysis_output/follow/individual_spatiotemporal_heatmaps/400.400.10/wt_control_wt_div/GV0795_Pos3_ID:1463_t:1045_N_cells / /home/nathan/data/kraken/h2b/giulia/radial_analysis_output/follow/individual_spatiotemporal_heatmaps/400.400.10/wt_control_wt_div/GV0795_Pos3_ID:1463_t:1045_N_events saved out successfully',\n",
       "  '/home/nathan/data/kraken/h2b/giulia/radial_analysis_output/follow/individual_spatiotemporal_heatmaps/400.400.10/wt_control_wt_div/GV0795_Pos3_ID:1250_t:1078_N_cells / /home/nathan/data/kraken/h2b/giulia/radial_analysis_output/follow/individual_spatiotemporal_heatmaps/400.400.10/wt_control_wt_div/GV0795_Pos3_ID:1250_t:1078_N_events saved out successfully',\n",
       "  '/home/nathan/data/kraken/h2b/giulia/radial_analysis_output/follow/individual_spatiotemporal_heatmaps/400.400.10/wt_control_wt_div/GV0795_Pos3_ID:1605_t:1031_N_cells / /home/nathan/data/kraken/h2b/giulia/radial_analysis_output/follow/individual_spatiotemporal_heatmaps/400.400.10/wt_control_wt_div/GV0795_Pos3_ID:1605_t:1031_N_events saved out successfully',\n",
       "  '/home/nathan/data/kraken/h2b/giulia/radial_analysis_output/follow/individual_spatiotemporal_heatmaps/400.400.10/wt_control_wt_div/GV0795_Pos3_ID:361_t:451_N_cells / /home/nathan/data/kraken/h2b/giulia/radial_analysis_output/follow/individual_spatiotemporal_heatmaps/400.400.10/wt_control_wt_div/GV0795_Pos3_ID:361_t:451_N_events saved out successfully',\n",
       "  '/home/nathan/data/kraken/h2b/giulia/radial_analysis_output/follow/individual_spatiotemporal_heatmaps/400.400.10/wt_control_wt_div/GV0795_Pos3_ID:1988_t:1148_N_cells / /home/nathan/data/kraken/h2b/giulia/radial_analysis_output/follow/individual_spatiotemporal_heatmaps/400.400.10/wt_control_wt_div/GV0795_Pos3_ID:1988_t:1148_N_events saved out successfully',\n",
       "  '/home/nathan/data/kraken/h2b/giulia/radial_analysis_output/follow/individual_spatiotemporal_heatmaps/400.400.10/wt_control_wt_div/GV0795_Pos3_ID:2182_t:1190_N_cells / /home/nathan/data/kraken/h2b/giulia/radial_analysis_output/follow/individual_spatiotemporal_heatmaps/400.400.10/wt_control_wt_div/GV0795_Pos3_ID:2182_t:1190_N_events saved out successfully',\n",
       "  '/home/nathan/data/kraken/h2b/giulia/radial_analysis_output/follow/individual_spatiotemporal_heatmaps/400.400.10/wt_control_wt_div/GV0795_Pos3_ID:285_t:399_N_cells / /home/nathan/data/kraken/h2b/giulia/radial_analysis_output/follow/individual_spatiotemporal_heatmaps/400.400.10/wt_control_wt_div/GV0795_Pos3_ID:285_t:399_N_events saved out successfully',\n",
       "  '/home/nathan/data/kraken/h2b/giulia/radial_analysis_output/follow/individual_spatiotemporal_heatmaps/400.400.10/wt_control_wt_div/GV0795_Pos4_ID:1863_t:1090_N_cells / /home/nathan/data/kraken/h2b/giulia/radial_analysis_output/follow/individual_spatiotemporal_heatmaps/400.400.10/wt_control_wt_div/GV0795_Pos4_ID:1863_t:1090_N_events saved out successfully',\n",
       "  '/home/nathan/data/kraken/h2b/giulia/radial_analysis_output/follow/individual_spatiotemporal_heatmaps/400.400.10/wt_control_wt_div/GV0795_Pos4_ID:1376_t:969_N_cells / /home/nathan/data/kraken/h2b/giulia/radial_analysis_output/follow/individual_spatiotemporal_heatmaps/400.400.10/wt_control_wt_div/GV0795_Pos4_ID:1376_t:969_N_events saved out successfully',\n",
       "  '/home/nathan/data/kraken/h2b/giulia/radial_analysis_output/follow/individual_spatiotemporal_heatmaps/400.400.10/wt_control_wt_div/GV0795_Pos4_ID:1846_t:1092_N_cells / /home/nathan/data/kraken/h2b/giulia/radial_analysis_output/follow/individual_spatiotemporal_heatmaps/400.400.10/wt_control_wt_div/GV0795_Pos4_ID:1846_t:1092_N_events saved out successfully',\n",
       "  '/home/nathan/data/kraken/h2b/giulia/radial_analysis_output/follow/individual_spatiotemporal_heatmaps/400.400.10/wt_control_wt_div/GV0795_Pos4_ID:1098_t:1049_N_cells / /home/nathan/data/kraken/h2b/giulia/radial_analysis_output/follow/individual_spatiotemporal_heatmaps/400.400.10/wt_control_wt_div/GV0795_Pos4_ID:1098_t:1049_N_events saved out successfully',\n",
       "  '/home/nathan/data/kraken/h2b/giulia/radial_analysis_output/follow/individual_spatiotemporal_heatmaps/400.400.10/wt_control_wt_div/GV0795_Pos4_ID:574_t:687_N_cells / /home/nathan/data/kraken/h2b/giulia/radial_analysis_output/follow/individual_spatiotemporal_heatmaps/400.400.10/wt_control_wt_div/GV0795_Pos4_ID:574_t:687_N_events saved out successfully',\n",
       "  '/home/nathan/data/kraken/h2b/giulia/radial_analysis_output/follow/individual_spatiotemporal_heatmaps/400.400.10/wt_control_wt_div/GV0795_Pos4_ID:436_t:715_N_cells / /home/nathan/data/kraken/h2b/giulia/radial_analysis_output/follow/individual_spatiotemporal_heatmaps/400.400.10/wt_control_wt_div/GV0795_Pos4_ID:436_t:715_N_events saved out successfully',\n",
       "  '/home/nathan/data/kraken/h2b/giulia/radial_analysis_output/follow/individual_spatiotemporal_heatmaps/400.400.10/wt_control_wt_div/GV0795_Pos4_ID:364_t:550_N_cells / /home/nathan/data/kraken/h2b/giulia/radial_analysis_output/follow/individual_spatiotemporal_heatmaps/400.400.10/wt_control_wt_div/GV0795_Pos4_ID:364_t:550_N_events saved out successfully',\n",
       "  '/home/nathan/data/kraken/h2b/giulia/radial_analysis_output/follow/individual_spatiotemporal_heatmaps/400.400.10/wt_control_wt_div/GV0795_Pos4_ID:1644_t:1136_N_cells / /home/nathan/data/kraken/h2b/giulia/radial_analysis_output/follow/individual_spatiotemporal_heatmaps/400.400.10/wt_control_wt_div/GV0795_Pos4_ID:1644_t:1136_N_events saved out successfully',\n",
       "  '/home/nathan/data/kraken/h2b/giulia/radial_analysis_output/follow/individual_spatiotemporal_heatmaps/400.400.10/wt_control_wt_div/GV0795_Pos4_ID:1267_t:967_N_cells / /home/nathan/data/kraken/h2b/giulia/radial_analysis_output/follow/individual_spatiotemporal_heatmaps/400.400.10/wt_control_wt_div/GV0795_Pos4_ID:1267_t:967_N_events saved out successfully',\n",
       "  '/home/nathan/data/kraken/h2b/giulia/radial_analysis_output/follow/individual_spatiotemporal_heatmaps/400.400.10/wt_control_wt_div/GV0795_Pos4_ID:358_t:978_N_cells / /home/nathan/data/kraken/h2b/giulia/radial_analysis_output/follow/individual_spatiotemporal_heatmaps/400.400.10/wt_control_wt_div/GV0795_Pos4_ID:358_t:978_N_events saved out successfully',\n",
       "  '/home/nathan/data/kraken/h2b/giulia/radial_analysis_output/follow/individual_spatiotemporal_heatmaps/400.400.10/wt_control_wt_div/GV0795_Pos4_ID:216_t:369_N_cells / /home/nathan/data/kraken/h2b/giulia/radial_analysis_output/follow/individual_spatiotemporal_heatmaps/400.400.10/wt_control_wt_div/GV0795_Pos4_ID:216_t:369_N_events saved out successfully',\n",
       "  '/home/nathan/data/kraken/h2b/giulia/radial_analysis_output/follow/individual_spatiotemporal_heatmaps/400.400.10/wt_control_wt_div/GV0795_Pos4_ID:1857_t:1115_N_cells / /home/nathan/data/kraken/h2b/giulia/radial_analysis_output/follow/individual_spatiotemporal_heatmaps/400.400.10/wt_control_wt_div/GV0795_Pos4_ID:1857_t:1115_N_events saved out successfully',\n",
       "  '/home/nathan/data/kraken/h2b/giulia/radial_analysis_output/follow/individual_spatiotemporal_heatmaps/400.400.10/wt_control_wt_div/GV0795_Pos4_ID:622_t:734_N_cells / /home/nathan/data/kraken/h2b/giulia/radial_analysis_output/follow/individual_spatiotemporal_heatmaps/400.400.10/wt_control_wt_div/GV0795_Pos4_ID:622_t:734_N_events saved out successfully',\n",
       "  '/home/nathan/data/kraken/h2b/giulia/radial_analysis_output/follow/individual_spatiotemporal_heatmaps/400.400.10/wt_control_wt_div/GV0795_Pos4_ID:1740_t:1041_N_cells / /home/nathan/data/kraken/h2b/giulia/radial_analysis_output/follow/individual_spatiotemporal_heatmaps/400.400.10/wt_control_wt_div/GV0795_Pos4_ID:1740_t:1041_N_events saved out successfully',\n",
       "  '/home/nathan/data/kraken/h2b/giulia/radial_analysis_output/follow/individual_spatiotemporal_heatmaps/400.400.10/wt_control_wt_div/GV0795_Pos4_ID:1367_t:1038_N_cells / /home/nathan/data/kraken/h2b/giulia/radial_analysis_output/follow/individual_spatiotemporal_heatmaps/400.400.10/wt_control_wt_div/GV0795_Pos4_ID:1367_t:1038_N_events saved out successfully',\n",
       "  '/home/nathan/data/kraken/h2b/giulia/radial_analysis_output/follow/individual_spatiotemporal_heatmaps/400.400.10/wt_control_wt_div/GV0795_Pos4_ID:1101_t:980_N_cells / /home/nathan/data/kraken/h2b/giulia/radial_analysis_output/follow/individual_spatiotemporal_heatmaps/400.400.10/wt_control_wt_div/GV0795_Pos4_ID:1101_t:980_N_events saved out successfully',\n",
       "  '/home/nathan/data/kraken/h2b/giulia/radial_analysis_output/follow/individual_spatiotemporal_heatmaps/400.400.10/wt_control_wt_div/GV0795_Pos4_ID:1322_t:1088_N_cells / /home/nathan/data/kraken/h2b/giulia/radial_analysis_output/follow/individual_spatiotemporal_heatmaps/400.400.10/wt_control_wt_div/GV0795_Pos4_ID:1322_t:1088_N_events saved out successfully',\n",
       "  '/home/nathan/data/kraken/h2b/giulia/radial_analysis_output/follow/individual_spatiotemporal_heatmaps/400.400.10/wt_control_wt_div/GV0795_Pos4_ID:661_t:753_N_cells / /home/nathan/data/kraken/h2b/giulia/radial_analysis_output/follow/individual_spatiotemporal_heatmaps/400.400.10/wt_control_wt_div/GV0795_Pos4_ID:661_t:753_N_events saved out successfully',\n",
       "  '/home/nathan/data/kraken/h2b/giulia/radial_analysis_output/follow/individual_spatiotemporal_heatmaps/400.400.10/wt_control_wt_div/GV0795_Pos4_ID:819_t:847_N_cells / /home/nathan/data/kraken/h2b/giulia/radial_analysis_output/follow/individual_spatiotemporal_heatmaps/400.400.10/wt_control_wt_div/GV0795_Pos4_ID:819_t:847_N_events saved out successfully',\n",
       "  '/home/nathan/data/kraken/h2b/giulia/radial_analysis_output/follow/individual_spatiotemporal_heatmaps/400.400.10/wt_control_wt_div/GV0795_Pos4_ID:854_t:1138_N_cells / /home/nathan/data/kraken/h2b/giulia/radial_analysis_output/follow/individual_spatiotemporal_heatmaps/400.400.10/wt_control_wt_div/GV0795_Pos4_ID:854_t:1138_N_events saved out successfully',\n",
       "  '/home/nathan/data/kraken/h2b/giulia/radial_analysis_output/follow/individual_spatiotemporal_heatmaps/400.400.10/wt_control_wt_div/GV0795_Pos4_ID:322_t:461_N_cells / /home/nathan/data/kraken/h2b/giulia/radial_analysis_output/follow/individual_spatiotemporal_heatmaps/400.400.10/wt_control_wt_div/GV0795_Pos4_ID:322_t:461_N_events saved out successfully',\n",
       "  '/home/nathan/data/kraken/h2b/giulia/radial_analysis_output/follow/individual_spatiotemporal_heatmaps/400.400.10/wt_control_wt_div/GV0795_Pos4_ID:1541_t:1089_N_cells / /home/nathan/data/kraken/h2b/giulia/radial_analysis_output/follow/individual_spatiotemporal_heatmaps/400.400.10/wt_control_wt_div/GV0795_Pos4_ID:1541_t:1089_N_events saved out successfully',\n",
       "  '/home/nathan/data/kraken/h2b/giulia/radial_analysis_output/follow/individual_spatiotemporal_heatmaps/400.400.10/wt_control_wt_div/GV0795_Pos4_ID:1799_t:1070_N_cells / /home/nathan/data/kraken/h2b/giulia/radial_analysis_output/follow/individual_spatiotemporal_heatmaps/400.400.10/wt_control_wt_div/GV0795_Pos4_ID:1799_t:1070_N_events saved out successfully',\n",
       "  '/home/nathan/data/kraken/h2b/giulia/radial_analysis_output/follow/individual_spatiotemporal_heatmaps/400.400.10/wt_control_wt_div/GV0795_Pos4_ID:308_t:624_N_cells / /home/nathan/data/kraken/h2b/giulia/radial_analysis_output/follow/individual_spatiotemporal_heatmaps/400.400.10/wt_control_wt_div/GV0795_Pos4_ID:308_t:624_N_events saved out successfully',\n",
       "  '/home/nathan/data/kraken/h2b/giulia/radial_analysis_output/follow/individual_spatiotemporal_heatmaps/400.400.10/wt_control_wt_div/GV0795_Pos4_ID:1470_t:1097_N_cells / /home/nathan/data/kraken/h2b/giulia/radial_analysis_output/follow/individual_spatiotemporal_heatmaps/400.400.10/wt_control_wt_div/GV0795_Pos4_ID:1470_t:1097_N_events saved out successfully',\n",
       "  '/home/nathan/data/kraken/h2b/giulia/radial_analysis_output/follow/individual_spatiotemporal_heatmaps/400.400.10/wt_control_wt_div/GV0795_Pos5_ID:814_t:1174_N_cells / /home/nathan/data/kraken/h2b/giulia/radial_analysis_output/follow/individual_spatiotemporal_heatmaps/400.400.10/wt_control_wt_div/GV0795_Pos5_ID:814_t:1174_N_events saved out successfully',\n",
       "  '/home/nathan/data/kraken/h2b/giulia/radial_analysis_output/follow/individual_spatiotemporal_heatmaps/400.400.10/wt_control_wt_div/GV0795_Pos5_ID:85_t:230_N_cells / /home/nathan/data/kraken/h2b/giulia/radial_analysis_output/follow/individual_spatiotemporal_heatmaps/400.400.10/wt_control_wt_div/GV0795_Pos5_ID:85_t:230_N_events saved out successfully',\n",
       "  '/home/nathan/data/kraken/h2b/giulia/radial_analysis_output/follow/individual_spatiotemporal_heatmaps/400.400.10/wt_control_wt_div/GV0795_Pos5_ID:911_t:1070_N_cells / /home/nathan/data/kraken/h2b/giulia/radial_analysis_output/follow/individual_spatiotemporal_heatmaps/400.400.10/wt_control_wt_div/GV0795_Pos5_ID:911_t:1070_N_events saved out successfully',\n",
       "  '/home/nathan/data/kraken/h2b/giulia/radial_analysis_output/follow/individual_spatiotemporal_heatmaps/400.400.10/wt_control_wt_div/GV0795_Pos5_ID:396_t:804_N_cells / /home/nathan/data/kraken/h2b/giulia/radial_analysis_output/follow/individual_spatiotemporal_heatmaps/400.400.10/wt_control_wt_div/GV0795_Pos5_ID:396_t:804_N_events saved out successfully',\n",
       "  '/home/nathan/data/kraken/h2b/giulia/radial_analysis_output/follow/individual_spatiotemporal_heatmaps/400.400.10/wt_control_wt_div/GV0795_Pos5_ID:254_t:775_N_cells / /home/nathan/data/kraken/h2b/giulia/radial_analysis_output/follow/individual_spatiotemporal_heatmaps/400.400.10/wt_control_wt_div/GV0795_Pos5_ID:254_t:775_N_events saved out successfully',\n",
       "  '/home/nathan/data/kraken/h2b/giulia/radial_analysis_output/follow/individual_spatiotemporal_heatmaps/400.400.10/wt_control_wt_div/GV0795_Pos5_ID:131_t:430_N_cells / /home/nathan/data/kraken/h2b/giulia/radial_analysis_output/follow/individual_spatiotemporal_heatmaps/400.400.10/wt_control_wt_div/GV0795_Pos5_ID:131_t:430_N_events saved out successfully',\n",
       "  '/home/nathan/data/kraken/h2b/giulia/radial_analysis_output/follow/individual_spatiotemporal_heatmaps/400.400.10/wt_control_wt_div/GV0795_Pos5_ID:464_t:936_N_cells / /home/nathan/data/kraken/h2b/giulia/radial_analysis_output/follow/individual_spatiotemporal_heatmaps/400.400.10/wt_control_wt_div/GV0795_Pos5_ID:464_t:936_N_events saved out successfully',\n",
       "  '/home/nathan/data/kraken/h2b/giulia/radial_analysis_output/follow/individual_spatiotemporal_heatmaps/400.400.10/wt_control_wt_div/GV0795_Pos5_ID:221_t:623_N_cells / /home/nathan/data/kraken/h2b/giulia/radial_analysis_output/follow/individual_spatiotemporal_heatmaps/400.400.10/wt_control_wt_div/GV0795_Pos5_ID:221_t:623_N_events saved out successfully',\n",
       "  '/home/nathan/data/kraken/h2b/giulia/radial_analysis_output/follow/individual_spatiotemporal_heatmaps/400.400.10/wt_control_wt_div/GV0795_Pos5_ID:794_t:1183_N_cells / /home/nathan/data/kraken/h2b/giulia/radial_analysis_output/follow/individual_spatiotemporal_heatmaps/400.400.10/wt_control_wt_div/GV0795_Pos5_ID:794_t:1183_N_events saved out successfully',\n",
       "  '/home/nathan/data/kraken/h2b/giulia/radial_analysis_output/follow/individual_spatiotemporal_heatmaps/400.400.10/wt_control_wt_div/GV0795_Pos5_ID:206_t:629_N_cells / /home/nathan/data/kraken/h2b/giulia/radial_analysis_output/follow/individual_spatiotemporal_heatmaps/400.400.10/wt_control_wt_div/GV0795_Pos5_ID:206_t:629_N_events saved out successfully',\n",
       "  '/home/nathan/data/kraken/h2b/giulia/radial_analysis_output/follow/individual_spatiotemporal_heatmaps/400.400.10/wt_control_wt_div/GV0795_Pos5_ID:649_t:1070_N_cells / /home/nathan/data/kraken/h2b/giulia/radial_analysis_output/follow/individual_spatiotemporal_heatmaps/400.400.10/wt_control_wt_div/GV0795_Pos5_ID:649_t:1070_N_events saved out successfully',\n",
       "  '/home/nathan/data/kraken/h2b/giulia/radial_analysis_output/follow/individual_spatiotemporal_heatmaps/400.400.10/wt_control_wt_div/GV0795_Pos5_ID:559_t:880_N_cells / /home/nathan/data/kraken/h2b/giulia/radial_analysis_output/follow/individual_spatiotemporal_heatmaps/400.400.10/wt_control_wt_div/GV0795_Pos5_ID:559_t:880_N_events saved out successfully',\n",
       "  '/home/nathan/data/kraken/h2b/giulia/radial_analysis_output/follow/individual_spatiotemporal_heatmaps/400.400.10/wt_control_wt_div/GV0795_Pos5_ID:559_t:880_N_cells / /home/nathan/data/kraken/h2b/giulia/radial_analysis_output/follow/individual_spatiotemporal_heatmaps/400.400.10/wt_control_wt_div/GV0795_Pos5_ID:559_t:880_N_events saved out successfully',\n",
       "  '/home/nathan/data/kraken/h2b/giulia/radial_analysis_output/follow/individual_spatiotemporal_heatmaps/400.400.10/wt_control_wt_div/GV0795_Pos5_ID:217_t:611_N_cells / /home/nathan/data/kraken/h2b/giulia/radial_analysis_output/follow/individual_spatiotemporal_heatmaps/400.400.10/wt_control_wt_div/GV0795_Pos5_ID:217_t:611_N_events saved out successfully',\n",
       "  '/home/nathan/data/kraken/h2b/giulia/radial_analysis_output/follow/individual_spatiotemporal_heatmaps/400.400.10/wt_control_wt_div/GV0795_Pos5_ID:418_t:852_N_cells / /home/nathan/data/kraken/h2b/giulia/radial_analysis_output/follow/individual_spatiotemporal_heatmaps/400.400.10/wt_control_wt_div/GV0795_Pos5_ID:418_t:852_N_events saved out successfully',\n",
       "  '/home/nathan/data/kraken/h2b/giulia/radial_analysis_output/follow/individual_spatiotemporal_heatmaps/400.400.10/wt_control_wt_div/GV0795_Pos5_ID:559_t:1037_N_cells / /home/nathan/data/kraken/h2b/giulia/radial_analysis_output/follow/individual_spatiotemporal_heatmaps/400.400.10/wt_control_wt_div/GV0795_Pos5_ID:559_t:1037_N_events saved out successfully',\n",
       "  '/home/nathan/data/kraken/h2b/giulia/radial_analysis_output/follow/individual_spatiotemporal_heatmaps/400.400.10/wt_control_wt_div/GV0795_Pos5_ID:356_t:750_N_cells / /home/nathan/data/kraken/h2b/giulia/radial_analysis_output/follow/individual_spatiotemporal_heatmaps/400.400.10/wt_control_wt_div/GV0795_Pos5_ID:356_t:750_N_events saved out successfully',\n",
       "  '/home/nathan/data/kraken/h2b/giulia/radial_analysis_output/follow/individual_spatiotemporal_heatmaps/400.400.10/wt_control_wt_div/GV0795_Pos5_ID:928_t:1123_N_cells / /home/nathan/data/kraken/h2b/giulia/radial_analysis_output/follow/individual_spatiotemporal_heatmaps/400.400.10/wt_control_wt_div/GV0795_Pos5_ID:928_t:1123_N_events saved out successfully',\n",
       "  '/home/nathan/data/kraken/h2b/giulia/radial_analysis_output/follow/individual_spatiotemporal_heatmaps/400.400.10/wt_control_wt_div/GV0795_Pos5_ID:841_t:1131_N_cells / /home/nathan/data/kraken/h2b/giulia/radial_analysis_output/follow/individual_spatiotemporal_heatmaps/400.400.10/wt_control_wt_div/GV0795_Pos5_ID:841_t:1131_N_events saved out successfully',\n",
       "  '/home/nathan/data/kraken/h2b/giulia/radial_analysis_output/follow/individual_spatiotemporal_heatmaps/400.400.10/wt_control_wt_div/GV0795_Pos5_ID:771_t:997_N_cells / /home/nathan/data/kraken/h2b/giulia/radial_analysis_output/follow/individual_spatiotemporal_heatmaps/400.400.10/wt_control_wt_div/GV0795_Pos5_ID:771_t:997_N_events saved out successfully',\n",
       "  '/home/nathan/data/kraken/h2b/giulia/radial_analysis_output/follow/individual_spatiotemporal_heatmaps/400.400.10/wt_control_wt_div/GV0795_Pos5_ID:848_t:1178_N_cells / /home/nathan/data/kraken/h2b/giulia/radial_analysis_output/follow/individual_spatiotemporal_heatmaps/400.400.10/wt_control_wt_div/GV0795_Pos5_ID:848_t:1178_N_events saved out successfully',\n",
       "  '/home/nathan/data/kraken/h2b/giulia/radial_analysis_output/follow/individual_spatiotemporal_heatmaps/400.400.10/wt_control_wt_div/GV0795_Pos5_ID:544_t:905_N_cells / /home/nathan/data/kraken/h2b/giulia/radial_analysis_output/follow/individual_spatiotemporal_heatmaps/400.400.10/wt_control_wt_div/GV0795_Pos5_ID:544_t:905_N_events saved out successfully',\n",
       "  '/home/nathan/data/kraken/h2b/giulia/radial_analysis_output/follow/individual_spatiotemporal_heatmaps/400.400.10/wt_control_wt_div/GV0795_Pos5_ID:320_t:680_N_cells / /home/nathan/data/kraken/h2b/giulia/radial_analysis_output/follow/individual_spatiotemporal_heatmaps/400.400.10/wt_control_wt_div/GV0795_Pos5_ID:320_t:680_N_events saved out successfully',\n",
       "  '/home/nathan/data/kraken/h2b/giulia/radial_analysis_output/follow/individual_spatiotemporal_heatmaps/400.400.10/wt_control_wt_div/GV0795_Pos5_ID:545_t:1008_N_cells / /home/nathan/data/kraken/h2b/giulia/radial_analysis_output/follow/individual_spatiotemporal_heatmaps/400.400.10/wt_control_wt_div/GV0795_Pos5_ID:545_t:1008_N_events saved out successfully',\n",
       "  '/home/nathan/data/kraken/h2b/giulia/radial_analysis_output/follow/individual_spatiotemporal_heatmaps/400.400.10/wt_control_wt_div/GV0795_Pos5_ID:741_t:1044_N_cells / /home/nathan/data/kraken/h2b/giulia/radial_analysis_output/follow/individual_spatiotemporal_heatmaps/400.400.10/wt_control_wt_div/GV0795_Pos5_ID:741_t:1044_N_events saved out successfully',\n",
       "  '/home/nathan/data/kraken/h2b/giulia/radial_analysis_output/follow/individual_spatiotemporal_heatmaps/400.400.10/wt_control_wt_div/GV0795_Pos6_ID:103_t:310_N_cells / /home/nathan/data/kraken/h2b/giulia/radial_analysis_output/follow/individual_spatiotemporal_heatmaps/400.400.10/wt_control_wt_div/GV0795_Pos6_ID:103_t:310_N_events saved out successfully',\n",
       "  '/home/nathan/data/kraken/h2b/giulia/radial_analysis_output/follow/individual_spatiotemporal_heatmaps/400.400.10/wt_control_wt_div/GV0795_Pos6_ID:117_t:462_N_cells / /home/nathan/data/kraken/h2b/giulia/radial_analysis_output/follow/individual_spatiotemporal_heatmaps/400.400.10/wt_control_wt_div/GV0795_Pos6_ID:117_t:462_N_events saved out successfully',\n",
       "  '/home/nathan/data/kraken/h2b/giulia/radial_analysis_output/follow/individual_spatiotemporal_heatmaps/400.400.10/wt_control_wt_div/GV0795_Pos6_ID:146_t:559_N_cells / /home/nathan/data/kraken/h2b/giulia/radial_analysis_output/follow/individual_spatiotemporal_heatmaps/400.400.10/wt_control_wt_div/GV0795_Pos6_ID:146_t:559_N_events saved out successfully',\n",
       "  '/home/nathan/data/kraken/h2b/giulia/radial_analysis_output/follow/individual_spatiotemporal_heatmaps/400.400.10/wt_control_wt_div/GV0795_Pos6_ID:235_t:863_N_cells / /home/nathan/data/kraken/h2b/giulia/radial_analysis_output/follow/individual_spatiotemporal_heatmaps/400.400.10/wt_control_wt_div/GV0795_Pos6_ID:235_t:863_N_events saved out successfully',\n",
       "  '/home/nathan/data/kraken/h2b/giulia/radial_analysis_output/follow/individual_spatiotemporal_heatmaps/400.400.10/wt_control_wt_div/GV0795_Pos6_ID:219_t:700_N_cells / /home/nathan/data/kraken/h2b/giulia/radial_analysis_output/follow/individual_spatiotemporal_heatmaps/400.400.10/wt_control_wt_div/GV0795_Pos6_ID:219_t:700_N_events saved out successfully',\n",
       "  '/home/nathan/data/kraken/h2b/giulia/radial_analysis_output/follow/individual_spatiotemporal_heatmaps/400.400.10/wt_control_wt_div/GV0795_Pos6_ID:141_t:546_N_cells / /home/nathan/data/kraken/h2b/giulia/radial_analysis_output/follow/individual_spatiotemporal_heatmaps/400.400.10/wt_control_wt_div/GV0795_Pos6_ID:141_t:546_N_events saved out successfully',\n",
       "  '/home/nathan/data/kraken/h2b/giulia/radial_analysis_output/follow/individual_spatiotemporal_heatmaps/400.400.10/wt_control_wt_div/GV0795_Pos6_ID:106_t:307_N_cells / /home/nathan/data/kraken/h2b/giulia/radial_analysis_output/follow/individual_spatiotemporal_heatmaps/400.400.10/wt_control_wt_div/GV0795_Pos6_ID:106_t:307_N_events saved out successfully',\n",
       "  '/home/nathan/data/kraken/h2b/giulia/radial_analysis_output/follow/individual_spatiotemporal_heatmaps/400.400.10/wt_control_wt_div/GV0795_Pos6_ID:546_t:1104_N_cells / /home/nathan/data/kraken/h2b/giulia/radial_analysis_output/follow/individual_spatiotemporal_heatmaps/400.400.10/wt_control_wt_div/GV0795_Pos6_ID:546_t:1104_N_events saved out successfully',\n",
       "  '/home/nathan/data/kraken/h2b/giulia/radial_analysis_output/follow/individual_spatiotemporal_heatmaps/400.400.10/wt_control_wt_div/GV0795_Pos6_ID:121_t:874_N_cells / /home/nathan/data/kraken/h2b/giulia/radial_analysis_output/follow/individual_spatiotemporal_heatmaps/400.400.10/wt_control_wt_div/GV0795_Pos6_ID:121_t:874_N_events saved out successfully',\n",
       "  '/home/nathan/data/kraken/h2b/giulia/radial_analysis_output/follow/individual_spatiotemporal_heatmaps/400.400.10/wt_control_wt_div/GV0795_Pos6_ID:235_t:827_N_cells / /home/nathan/data/kraken/h2b/giulia/radial_analysis_output/follow/individual_spatiotemporal_heatmaps/400.400.10/wt_control_wt_div/GV0795_Pos6_ID:235_t:827_N_events saved out successfully',\n",
       "  '/home/nathan/data/kraken/h2b/giulia/radial_analysis_output/follow/individual_spatiotemporal_heatmaps/400.400.10/wt_control_wt_div/GV0795_Pos6_ID:386_t:937_N_cells / /home/nathan/data/kraken/h2b/giulia/radial_analysis_output/follow/individual_spatiotemporal_heatmaps/400.400.10/wt_control_wt_div/GV0795_Pos6_ID:386_t:937_N_events saved out successfully',\n",
       "  '/home/nathan/data/kraken/h2b/giulia/radial_analysis_output/follow/individual_spatiotemporal_heatmaps/400.400.10/wt_control_wt_div/GV0795_Pos6_ID:146_t:478_N_cells / /home/nathan/data/kraken/h2b/giulia/radial_analysis_output/follow/individual_spatiotemporal_heatmaps/400.400.10/wt_control_wt_div/GV0795_Pos6_ID:146_t:478_N_events saved out successfully',\n",
       "  '/home/nathan/data/kraken/h2b/giulia/radial_analysis_output/follow/individual_spatiotemporal_heatmaps/400.400.10/wt_control_wt_div/GV0795_Pos6_ID:37_t:130_N_cells / /home/nathan/data/kraken/h2b/giulia/radial_analysis_output/follow/individual_spatiotemporal_heatmaps/400.400.10/wt_control_wt_div/GV0795_Pos6_ID:37_t:130_N_events saved out successfully',\n",
       "  '/home/nathan/data/kraken/h2b/giulia/radial_analysis_output/follow/individual_spatiotemporal_heatmaps/400.400.10/wt_control_wt_div/GV0795_Pos6_ID:650_t:1078_N_cells / /home/nathan/data/kraken/h2b/giulia/radial_analysis_output/follow/individual_spatiotemporal_heatmaps/400.400.10/wt_control_wt_div/GV0795_Pos6_ID:650_t:1078_N_events saved out successfully',\n",
       "  '/home/nathan/data/kraken/h2b/giulia/radial_analysis_output/follow/individual_spatiotemporal_heatmaps/400.400.10/wt_control_wt_div/GV0795_Pos6_ID:498_t:970_N_cells / /home/nathan/data/kraken/h2b/giulia/radial_analysis_output/follow/individual_spatiotemporal_heatmaps/400.400.10/wt_control_wt_div/GV0795_Pos6_ID:498_t:970_N_events saved out successfully',\n",
       "  '/home/nathan/data/kraken/h2b/giulia/radial_analysis_output/follow/individual_spatiotemporal_heatmaps/400.400.10/wt_control_wt_div/GV0795_Pos6_ID:547_t:972_N_cells / /home/nathan/data/kraken/h2b/giulia/radial_analysis_output/follow/individual_spatiotemporal_heatmaps/400.400.10/wt_control_wt_div/GV0795_Pos6_ID:547_t:972_N_events saved out successfully',\n",
       "  '/home/nathan/data/kraken/h2b/giulia/radial_analysis_output/follow/individual_spatiotemporal_heatmaps/400.400.10/wt_control_wt_div/GV0795_Pos6_ID:280_t:843_N_cells / /home/nathan/data/kraken/h2b/giulia/radial_analysis_output/follow/individual_spatiotemporal_heatmaps/400.400.10/wt_control_wt_div/GV0795_Pos6_ID:280_t:843_N_events saved out successfully',\n",
       "  '/home/nathan/data/kraken/h2b/giulia/radial_analysis_output/follow/individual_spatiotemporal_heatmaps/400.400.10/wt_control_wt_div/GV0795_Pos6_ID:385_t:928_N_cells / /home/nathan/data/kraken/h2b/giulia/radial_analysis_output/follow/individual_spatiotemporal_heatmaps/400.400.10/wt_control_wt_div/GV0795_Pos6_ID:385_t:928_N_events saved out successfully',\n",
       "  '/home/nathan/data/kraken/h2b/giulia/radial_analysis_output/follow/individual_spatiotemporal_heatmaps/400.400.10/wt_control_wt_div/GV0795_Pos6_ID:154_t:802_N_cells / /home/nathan/data/kraken/h2b/giulia/radial_analysis_output/follow/individual_spatiotemporal_heatmaps/400.400.10/wt_control_wt_div/GV0795_Pos6_ID:154_t:802_N_events saved out successfully',\n",
       "  '/home/nathan/data/kraken/h2b/giulia/radial_analysis_output/follow/individual_spatiotemporal_heatmaps/400.400.10/wt_control_wt_div/GV0795_Pos6_ID:310_t:944_N_cells / /home/nathan/data/kraken/h2b/giulia/radial_analysis_output/follow/individual_spatiotemporal_heatmaps/400.400.10/wt_control_wt_div/GV0795_Pos6_ID:310_t:944_N_events saved out successfully',\n",
       "  '/home/nathan/data/kraken/h2b/giulia/radial_analysis_output/follow/individual_spatiotemporal_heatmaps/400.400.10/wt_control_wt_div/GV0795_Pos6_ID:385_t:902_N_cells / /home/nathan/data/kraken/h2b/giulia/radial_analysis_output/follow/individual_spatiotemporal_heatmaps/400.400.10/wt_control_wt_div/GV0795_Pos6_ID:385_t:902_N_events saved out successfully',\n",
       "  '/home/nathan/data/kraken/h2b/giulia/radial_analysis_output/follow/individual_spatiotemporal_heatmaps/400.400.10/wt_control_wt_div/GV0795_Pos6_ID:414_t:949_N_cells / /home/nathan/data/kraken/h2b/giulia/radial_analysis_output/follow/individual_spatiotemporal_heatmaps/400.400.10/wt_control_wt_div/GV0795_Pos6_ID:414_t:949_N_events saved out successfully',\n",
       "  '/home/nathan/data/kraken/h2b/giulia/radial_analysis_output/follow/individual_spatiotemporal_heatmaps/400.400.10/wt_control_wt_div/GV0795_Pos6_ID:492_t:1047_N_cells / /home/nathan/data/kraken/h2b/giulia/radial_analysis_output/follow/individual_spatiotemporal_heatmaps/400.400.10/wt_control_wt_div/GV0795_Pos6_ID:492_t:1047_N_events saved out successfully',\n",
       "  '/home/nathan/data/kraken/h2b/giulia/radial_analysis_output/follow/individual_spatiotemporal_heatmaps/400.400.10/wt_control_wt_div/GV0795_Pos6_ID:50_t:150_N_cells / /home/nathan/data/kraken/h2b/giulia/radial_analysis_output/follow/individual_spatiotemporal_heatmaps/400.400.10/wt_control_wt_div/GV0795_Pos6_ID:50_t:150_N_events saved out successfully',\n",
       "  '/home/nathan/data/kraken/h2b/giulia/radial_analysis_output/follow/individual_spatiotemporal_heatmaps/400.400.10/wt_control_wt_div/GV0795_Pos6_ID:5_t:90_N_cells / /home/nathan/data/kraken/h2b/giulia/radial_analysis_output/follow/individual_spatiotemporal_heatmaps/400.400.10/wt_control_wt_div/GV0795_Pos6_ID:5_t:90_N_events saved out successfully',\n",
       "  '/home/nathan/data/kraken/h2b/giulia/radial_analysis_output/follow/individual_spatiotemporal_heatmaps/400.400.10/wt_control_wt_div/GV0795_Pos7_ID:1505_t:1049_N_cells / /home/nathan/data/kraken/h2b/giulia/radial_analysis_output/follow/individual_spatiotemporal_heatmaps/400.400.10/wt_control_wt_div/GV0795_Pos7_ID:1505_t:1049_N_events saved out successfully',\n",
       "  '/home/nathan/data/kraken/h2b/giulia/radial_analysis_output/follow/individual_spatiotemporal_heatmaps/400.400.10/wt_control_wt_div/GV0795_Pos7_ID:1103_t:932_N_cells / /home/nathan/data/kraken/h2b/giulia/radial_analysis_output/follow/individual_spatiotemporal_heatmaps/400.400.10/wt_control_wt_div/GV0795_Pos7_ID:1103_t:932_N_events saved out successfully',\n",
       "  '/home/nathan/data/kraken/h2b/giulia/radial_analysis_output/follow/individual_spatiotemporal_heatmaps/400.400.10/wt_control_wt_div/GV0795_Pos7_ID:1878_t:1118_N_cells / /home/nathan/data/kraken/h2b/giulia/radial_analysis_output/follow/individual_spatiotemporal_heatmaps/400.400.10/wt_control_wt_div/GV0795_Pos7_ID:1878_t:1118_N_events saved out successfully',\n",
       "  '/home/nathan/data/kraken/h2b/giulia/radial_analysis_output/follow/individual_spatiotemporal_heatmaps/400.400.10/wt_control_wt_div/GV0795_Pos7_ID:1667_t:1101_N_cells / /home/nathan/data/kraken/h2b/giulia/radial_analysis_output/follow/individual_spatiotemporal_heatmaps/400.400.10/wt_control_wt_div/GV0795_Pos7_ID:1667_t:1101_N_events saved out successfully',\n",
       "  '/home/nathan/data/kraken/h2b/giulia/radial_analysis_output/follow/individual_spatiotemporal_heatmaps/400.400.10/wt_control_wt_div/GV0795_Pos7_ID:2026_t:1163_N_cells / /home/nathan/data/kraken/h2b/giulia/radial_analysis_output/follow/individual_spatiotemporal_heatmaps/400.400.10/wt_control_wt_div/GV0795_Pos7_ID:2026_t:1163_N_events saved out successfully',\n",
       "  '/home/nathan/data/kraken/h2b/giulia/radial_analysis_output/follow/individual_spatiotemporal_heatmaps/400.400.10/wt_control_wt_div/GV0795_Pos7_ID:1661_t:1045_N_cells / /home/nathan/data/kraken/h2b/giulia/radial_analysis_output/follow/individual_spatiotemporal_heatmaps/400.400.10/wt_control_wt_div/GV0795_Pos7_ID:1661_t:1045_N_events saved out successfully',\n",
       "  '/home/nathan/data/kraken/h2b/giulia/radial_analysis_output/follow/individual_spatiotemporal_heatmaps/400.400.10/wt_control_wt_div/GV0795_Pos7_ID:644_t:738_N_cells / /home/nathan/data/kraken/h2b/giulia/radial_analysis_output/follow/individual_spatiotemporal_heatmaps/400.400.10/wt_control_wt_div/GV0795_Pos7_ID:644_t:738_N_events saved out successfully',\n",
       "  '/home/nathan/data/kraken/h2b/giulia/radial_analysis_output/follow/individual_spatiotemporal_heatmaps/400.400.10/wt_control_wt_div/GV0795_Pos7_ID:1206_t:927_N_cells / /home/nathan/data/kraken/h2b/giulia/radial_analysis_output/follow/individual_spatiotemporal_heatmaps/400.400.10/wt_control_wt_div/GV0795_Pos7_ID:1206_t:927_N_events saved out successfully',\n",
       "  '/home/nathan/data/kraken/h2b/giulia/radial_analysis_output/follow/individual_spatiotemporal_heatmaps/400.400.10/wt_control_wt_div/GV0795_Pos7_ID:1220_t:947_N_cells / /home/nathan/data/kraken/h2b/giulia/radial_analysis_output/follow/individual_spatiotemporal_heatmaps/400.400.10/wt_control_wt_div/GV0795_Pos7_ID:1220_t:947_N_events saved out successfully',\n",
       "  '/home/nathan/data/kraken/h2b/giulia/radial_analysis_output/follow/individual_spatiotemporal_heatmaps/400.400.10/wt_control_wt_div/GV0795_Pos7_ID:888_t:1092_N_cells / /home/nathan/data/kraken/h2b/giulia/radial_analysis_output/follow/individual_spatiotemporal_heatmaps/400.400.10/wt_control_wt_div/GV0795_Pos7_ID:888_t:1092_N_events saved out successfully',\n",
       "  '/home/nathan/data/kraken/h2b/giulia/radial_analysis_output/follow/individual_spatiotemporal_heatmaps/400.400.10/wt_control_wt_div/GV0795_Pos7_ID:1417_t:1077_N_cells / /home/nathan/data/kraken/h2b/giulia/radial_analysis_output/follow/individual_spatiotemporal_heatmaps/400.400.10/wt_control_wt_div/GV0795_Pos7_ID:1417_t:1077_N_events saved out successfully',\n",
       "  '/home/nathan/data/kraken/h2b/giulia/radial_analysis_output/follow/individual_spatiotemporal_heatmaps/400.400.10/wt_control_wt_div/GV0795_Pos7_ID:804_t:834_N_cells / /home/nathan/data/kraken/h2b/giulia/radial_analysis_output/follow/individual_spatiotemporal_heatmaps/400.400.10/wt_control_wt_div/GV0795_Pos7_ID:804_t:834_N_events saved out successfully',\n",
       "  '/home/nathan/data/kraken/h2b/giulia/radial_analysis_output/follow/individual_spatiotemporal_heatmaps/400.400.10/wt_control_wt_div/GV0795_Pos7_ID:477_t:636_N_cells / /home/nathan/data/kraken/h2b/giulia/radial_analysis_output/follow/individual_spatiotemporal_heatmaps/400.400.10/wt_control_wt_div/GV0795_Pos7_ID:477_t:636_N_events saved out successfully',\n",
       "  '/home/nathan/data/kraken/h2b/giulia/radial_analysis_output/follow/individual_spatiotemporal_heatmaps/400.400.10/wt_control_wt_div/GV0795_Pos7_ID:1253_t:927_N_cells / /home/nathan/data/kraken/h2b/giulia/radial_analysis_output/follow/individual_spatiotemporal_heatmaps/400.400.10/wt_control_wt_div/GV0795_Pos7_ID:1253_t:927_N_events saved out successfully',\n",
       "  '/home/nathan/data/kraken/h2b/giulia/radial_analysis_output/follow/individual_spatiotemporal_heatmaps/400.400.10/wt_control_wt_div/GV0795_Pos7_ID:104_t:305_N_cells / /home/nathan/data/kraken/h2b/giulia/radial_analysis_output/follow/individual_spatiotemporal_heatmaps/400.400.10/wt_control_wt_div/GV0795_Pos7_ID:104_t:305_N_events saved out successfully',\n",
       "  '/home/nathan/data/kraken/h2b/giulia/radial_analysis_output/follow/individual_spatiotemporal_heatmaps/400.400.10/wt_control_wt_div/GV0795_Pos7_ID:322_t:721_N_cells / /home/nathan/data/kraken/h2b/giulia/radial_analysis_output/follow/individual_spatiotemporal_heatmaps/400.400.10/wt_control_wt_div/GV0795_Pos7_ID:322_t:721_N_events saved out successfully',\n",
       "  '/home/nathan/data/kraken/h2b/giulia/radial_analysis_output/follow/individual_spatiotemporal_heatmaps/400.400.10/wt_control_wt_div/GV0795_Pos7_ID:1994_t:1157_N_cells / /home/nathan/data/kraken/h2b/giulia/radial_analysis_output/follow/individual_spatiotemporal_heatmaps/400.400.10/wt_control_wt_div/GV0795_Pos7_ID:1994_t:1157_N_events saved out successfully',\n",
       "  '/home/nathan/data/kraken/h2b/giulia/radial_analysis_output/follow/individual_spatiotemporal_heatmaps/400.400.10/wt_control_wt_div/GV0795_Pos7_ID:766_t:752_N_cells / /home/nathan/data/kraken/h2b/giulia/radial_analysis_output/follow/individual_spatiotemporal_heatmaps/400.400.10/wt_control_wt_div/GV0795_Pos7_ID:766_t:752_N_events saved out successfully',\n",
       "  '/home/nathan/data/kraken/h2b/giulia/radial_analysis_output/follow/individual_spatiotemporal_heatmaps/400.400.10/wt_control_wt_div/GV0795_Pos7_ID:231_t:445_N_cells / /home/nathan/data/kraken/h2b/giulia/radial_analysis_output/follow/individual_spatiotemporal_heatmaps/400.400.10/wt_control_wt_div/GV0795_Pos7_ID:231_t:445_N_events saved out successfully',\n",
       "  '/home/nathan/data/kraken/h2b/giulia/radial_analysis_output/follow/individual_spatiotemporal_heatmaps/400.400.10/wt_control_wt_div/GV0795_Pos7_ID:2116_t:1093_N_cells / /home/nathan/data/kraken/h2b/giulia/radial_analysis_output/follow/individual_spatiotemporal_heatmaps/400.400.10/wt_control_wt_div/GV0795_Pos7_ID:2116_t:1093_N_events saved out successfully',\n",
       "  '/home/nathan/data/kraken/h2b/giulia/radial_analysis_output/follow/individual_spatiotemporal_heatmaps/400.400.10/wt_control_wt_div/GV0795_Pos7_ID:1641_t:1019_N_cells / /home/nathan/data/kraken/h2b/giulia/radial_analysis_output/follow/individual_spatiotemporal_heatmaps/400.400.10/wt_control_wt_div/GV0795_Pos7_ID:1641_t:1019_N_events saved out successfully',\n",
       "  '/home/nathan/data/kraken/h2b/giulia/radial_analysis_output/follow/individual_spatiotemporal_heatmaps/400.400.10/wt_control_wt_div/GV0795_Pos7_ID:428_t:569_N_cells / /home/nathan/data/kraken/h2b/giulia/radial_analysis_output/follow/individual_spatiotemporal_heatmaps/400.400.10/wt_control_wt_div/GV0795_Pos7_ID:428_t:569_N_events saved out successfully',\n",
       "  '/home/nathan/data/kraken/h2b/giulia/radial_analysis_output/follow/individual_spatiotemporal_heatmaps/400.400.10/wt_control_wt_div/GV0795_Pos7_ID:237_t:504_N_cells / /home/nathan/data/kraken/h2b/giulia/radial_analysis_output/follow/individual_spatiotemporal_heatmaps/400.400.10/wt_control_wt_div/GV0795_Pos7_ID:237_t:504_N_events saved out successfully',\n",
       "  '/home/nathan/data/kraken/h2b/giulia/radial_analysis_output/follow/individual_spatiotemporal_heatmaps/400.400.10/wt_control_wt_div/GV0795_Pos7_ID:1663_t:1155_N_cells / /home/nathan/data/kraken/h2b/giulia/radial_analysis_output/follow/individual_spatiotemporal_heatmaps/400.400.10/wt_control_wt_div/GV0795_Pos7_ID:1663_t:1155_N_events saved out successfully',\n",
       "  '/home/nathan/data/kraken/h2b/giulia/radial_analysis_output/follow/individual_spatiotemporal_heatmaps/400.400.10/wt_control_wt_div/GV0795_Pos7_ID:538_t:755_N_cells / /home/nathan/data/kraken/h2b/giulia/radial_analysis_output/follow/individual_spatiotemporal_heatmaps/400.400.10/wt_control_wt_div/GV0795_Pos7_ID:538_t:755_N_events saved out successfully',\n",
       "  '/home/nathan/data/kraken/h2b/giulia/radial_analysis_output/follow/individual_spatiotemporal_heatmaps/400.400.10/wt_control_wt_div/GV0795_Pos8_ID:646_t:767_N_cells / /home/nathan/data/kraken/h2b/giulia/radial_analysis_output/follow/individual_spatiotemporal_heatmaps/400.400.10/wt_control_wt_div/GV0795_Pos8_ID:646_t:767_N_events saved out successfully',\n",
       "  '/home/nathan/data/kraken/h2b/giulia/radial_analysis_output/follow/individual_spatiotemporal_heatmaps/400.400.10/wt_control_wt_div/GV0795_Pos8_ID:659_t:929_N_cells / /home/nathan/data/kraken/h2b/giulia/radial_analysis_output/follow/individual_spatiotemporal_heatmaps/400.400.10/wt_control_wt_div/GV0795_Pos8_ID:659_t:929_N_events saved out successfully',\n",
       "  '/home/nathan/data/kraken/h2b/giulia/radial_analysis_output/follow/individual_spatiotemporal_heatmaps/400.400.10/wt_control_wt_div/GV0795_Pos8_ID:1902_t:1039_N_cells / /home/nathan/data/kraken/h2b/giulia/radial_analysis_output/follow/individual_spatiotemporal_heatmaps/400.400.10/wt_control_wt_div/GV0795_Pos8_ID:1902_t:1039_N_events saved out successfully',\n",
       "  '/home/nathan/data/kraken/h2b/giulia/radial_analysis_output/follow/individual_spatiotemporal_heatmaps/400.400.10/wt_control_wt_div/GV0795_Pos8_ID:98_t:437_N_cells / /home/nathan/data/kraken/h2b/giulia/radial_analysis_output/follow/individual_spatiotemporal_heatmaps/400.400.10/wt_control_wt_div/GV0795_Pos8_ID:98_t:437_N_events saved out successfully',\n",
       "  '/home/nathan/data/kraken/h2b/giulia/radial_analysis_output/follow/individual_spatiotemporal_heatmaps/400.400.10/wt_control_wt_div/GV0795_Pos8_ID:1560_t:983_N_cells / /home/nathan/data/kraken/h2b/giulia/radial_analysis_output/follow/individual_spatiotemporal_heatmaps/400.400.10/wt_control_wt_div/GV0795_Pos8_ID:1560_t:983_N_events saved out successfully',\n",
       "  '/home/nathan/data/kraken/h2b/giulia/radial_analysis_output/follow/individual_spatiotemporal_heatmaps/400.400.10/wt_control_wt_div/GV0795_Pos8_ID:1235_t:1166_N_cells / /home/nathan/data/kraken/h2b/giulia/radial_analysis_output/follow/individual_spatiotemporal_heatmaps/400.400.10/wt_control_wt_div/GV0795_Pos8_ID:1235_t:1166_N_events saved out successfully',\n",
       "  '/home/nathan/data/kraken/h2b/giulia/radial_analysis_output/follow/individual_spatiotemporal_heatmaps/400.400.10/wt_control_wt_div/GV0795_Pos8_ID:201_t:561_N_cells / /home/nathan/data/kraken/h2b/giulia/radial_analysis_output/follow/individual_spatiotemporal_heatmaps/400.400.10/wt_control_wt_div/GV0795_Pos8_ID:201_t:561_N_events saved out successfully',\n",
       "  '/home/nathan/data/kraken/h2b/giulia/radial_analysis_output/follow/individual_spatiotemporal_heatmaps/400.400.10/wt_control_wt_div/GV0795_Pos8_ID:677_t:740_N_cells / /home/nathan/data/kraken/h2b/giulia/radial_analysis_output/follow/individual_spatiotemporal_heatmaps/400.400.10/wt_control_wt_div/GV0795_Pos8_ID:677_t:740_N_events saved out successfully',\n",
       "  '/home/nathan/data/kraken/h2b/giulia/radial_analysis_output/follow/individual_spatiotemporal_heatmaps/400.400.10/wt_control_wt_div/GV0795_Pos8_ID:784_t:784_N_cells / /home/nathan/data/kraken/h2b/giulia/radial_analysis_output/follow/individual_spatiotemporal_heatmaps/400.400.10/wt_control_wt_div/GV0795_Pos8_ID:784_t:784_N_events saved out successfully',\n",
       "  '/home/nathan/data/kraken/h2b/giulia/radial_analysis_output/follow/individual_spatiotemporal_heatmaps/400.400.10/wt_control_wt_div/GV0795_Pos8_ID:1447_t:1085_N_cells / /home/nathan/data/kraken/h2b/giulia/radial_analysis_output/follow/individual_spatiotemporal_heatmaps/400.400.10/wt_control_wt_div/GV0795_Pos8_ID:1447_t:1085_N_events saved out successfully',\n",
       "  '/home/nathan/data/kraken/h2b/giulia/radial_analysis_output/follow/individual_spatiotemporal_heatmaps/400.400.10/wt_control_wt_div/GV0795_Pos8_ID:2010_t:1171_N_cells / /home/nathan/data/kraken/h2b/giulia/radial_analysis_output/follow/individual_spatiotemporal_heatmaps/400.400.10/wt_control_wt_div/GV0795_Pos8_ID:2010_t:1171_N_events saved out successfully',\n",
       "  '/home/nathan/data/kraken/h2b/giulia/radial_analysis_output/follow/individual_spatiotemporal_heatmaps/400.400.10/wt_control_wt_div/GV0795_Pos8_ID:768_t:915_N_cells / /home/nathan/data/kraken/h2b/giulia/radial_analysis_output/follow/individual_spatiotemporal_heatmaps/400.400.10/wt_control_wt_div/GV0795_Pos8_ID:768_t:915_N_events saved out successfully',\n",
       "  '/home/nathan/data/kraken/h2b/giulia/radial_analysis_output/follow/individual_spatiotemporal_heatmaps/400.400.10/wt_control_wt_div/GV0795_Pos8_ID:228_t:438_N_cells / /home/nathan/data/kraken/h2b/giulia/radial_analysis_output/follow/individual_spatiotemporal_heatmaps/400.400.10/wt_control_wt_div/GV0795_Pos8_ID:228_t:438_N_events saved out successfully',\n",
       "  '/home/nathan/data/kraken/h2b/giulia/radial_analysis_output/follow/individual_spatiotemporal_heatmaps/400.400.10/wt_control_wt_div/GV0795_Pos8_ID:1453_t:1106_N_cells / /home/nathan/data/kraken/h2b/giulia/radial_analysis_output/follow/individual_spatiotemporal_heatmaps/400.400.10/wt_control_wt_div/GV0795_Pos8_ID:1453_t:1106_N_events saved out successfully',\n",
       "  '/home/nathan/data/kraken/h2b/giulia/radial_analysis_output/follow/individual_spatiotemporal_heatmaps/400.400.10/wt_control_wt_div/GV0795_Pos8_ID:698_t:888_N_cells / /home/nathan/data/kraken/h2b/giulia/radial_analysis_output/follow/individual_spatiotemporal_heatmaps/400.400.10/wt_control_wt_div/GV0795_Pos8_ID:698_t:888_N_events saved out successfully',\n",
       "  '/home/nathan/data/kraken/h2b/giulia/radial_analysis_output/follow/individual_spatiotemporal_heatmaps/400.400.10/wt_control_wt_div/GV0795_Pos8_ID:1629_t:1064_N_cells / /home/nathan/data/kraken/h2b/giulia/radial_analysis_output/follow/individual_spatiotemporal_heatmaps/400.400.10/wt_control_wt_div/GV0795_Pos8_ID:1629_t:1064_N_events saved out successfully',\n",
       "  '/home/nathan/data/kraken/h2b/giulia/radial_analysis_output/follow/individual_spatiotemporal_heatmaps/400.400.10/wt_control_wt_div/GV0795_Pos8_ID:19_t:128_N_cells / /home/nathan/data/kraken/h2b/giulia/radial_analysis_output/follow/individual_spatiotemporal_heatmaps/400.400.10/wt_control_wt_div/GV0795_Pos8_ID:19_t:128_N_events saved out successfully',\n",
       "  '/home/nathan/data/kraken/h2b/giulia/radial_analysis_output/follow/individual_spatiotemporal_heatmaps/400.400.10/wt_control_wt_div/GV0795_Pos8_ID:1188_t:1081_N_cells / /home/nathan/data/kraken/h2b/giulia/radial_analysis_output/follow/individual_spatiotemporal_heatmaps/400.400.10/wt_control_wt_div/GV0795_Pos8_ID:1188_t:1081_N_events saved out successfully',\n",
       "  '/home/nathan/data/kraken/h2b/giulia/radial_analysis_output/follow/individual_spatiotemporal_heatmaps/400.400.10/wt_control_wt_div/GV0795_Pos8_ID:50_t:150_N_cells / /home/nathan/data/kraken/h2b/giulia/radial_analysis_output/follow/individual_spatiotemporal_heatmaps/400.400.10/wt_control_wt_div/GV0795_Pos8_ID:50_t:150_N_events saved out successfully',\n",
       "  '/home/nathan/data/kraken/h2b/giulia/radial_analysis_output/follow/individual_spatiotemporal_heatmaps/400.400.10/wt_control_wt_div/GV0795_Pos8_ID:363_t:622_N_cells / /home/nathan/data/kraken/h2b/giulia/radial_analysis_output/follow/individual_spatiotemporal_heatmaps/400.400.10/wt_control_wt_div/GV0795_Pos8_ID:363_t:622_N_events saved out successfully',\n",
       "  '/home/nathan/data/kraken/h2b/giulia/radial_analysis_output/follow/individual_spatiotemporal_heatmaps/400.400.10/wt_control_wt_div/GV0795_Pos8_ID:1468_t:1179_N_cells / /home/nathan/data/kraken/h2b/giulia/radial_analysis_output/follow/individual_spatiotemporal_heatmaps/400.400.10/wt_control_wt_div/GV0795_Pos8_ID:1468_t:1179_N_events saved out successfully',\n",
       "  '/home/nathan/data/kraken/h2b/giulia/radial_analysis_output/follow/individual_spatiotemporal_heatmaps/400.400.10/wt_control_wt_div/GV0795_Pos8_ID:322_t:614_N_cells / /home/nathan/data/kraken/h2b/giulia/radial_analysis_output/follow/individual_spatiotemporal_heatmaps/400.400.10/wt_control_wt_div/GV0795_Pos8_ID:322_t:614_N_events saved out successfully',\n",
       "  '/home/nathan/data/kraken/h2b/giulia/radial_analysis_output/follow/individual_spatiotemporal_heatmaps/400.400.10/wt_control_wt_div/GV0795_Pos8_ID:1553_t:1144_N_cells / /home/nathan/data/kraken/h2b/giulia/radial_analysis_output/follow/individual_spatiotemporal_heatmaps/400.400.10/wt_control_wt_div/GV0795_Pos8_ID:1553_t:1144_N_events saved out successfully',\n",
       "  '/home/nathan/data/kraken/h2b/giulia/radial_analysis_output/follow/individual_spatiotemporal_heatmaps/400.400.10/wt_control_wt_div/GV0795_Pos8_ID:1459_t:969_N_cells / /home/nathan/data/kraken/h2b/giulia/radial_analysis_output/follow/individual_spatiotemporal_heatmaps/400.400.10/wt_control_wt_div/GV0795_Pos8_ID:1459_t:969_N_events saved out successfully',\n",
       "  '/home/nathan/data/kraken/h2b/giulia/radial_analysis_output/follow/individual_spatiotemporal_heatmaps/400.400.10/wt_control_wt_div/GV0795_Pos8_ID:991_t:1148_N_cells / /home/nathan/data/kraken/h2b/giulia/radial_analysis_output/follow/individual_spatiotemporal_heatmaps/400.400.10/wt_control_wt_div/GV0795_Pos8_ID:991_t:1148_N_events saved out successfully',\n",
       "  '/home/nathan/data/kraken/h2b/giulia/radial_analysis_output/follow/individual_spatiotemporal_heatmaps/400.400.10/wt_control_wt_div/GV0795_Pos16_ID:2890_t:1123_N_cells / /home/nathan/data/kraken/h2b/giulia/radial_analysis_output/follow/individual_spatiotemporal_heatmaps/400.400.10/wt_control_wt_div/GV0795_Pos16_ID:2890_t:1123_N_events saved out successfully',\n",
       "  '/home/nathan/data/kraken/h2b/giulia/radial_analysis_output/follow/individual_spatiotemporal_heatmaps/400.400.10/wt_control_wt_div/GV0795_Pos16_ID:985_t:794_N_cells / /home/nathan/data/kraken/h2b/giulia/radial_analysis_output/follow/individual_spatiotemporal_heatmaps/400.400.10/wt_control_wt_div/GV0795_Pos16_ID:985_t:794_N_events saved out successfully',\n",
       "  '/home/nathan/data/kraken/h2b/giulia/radial_analysis_output/follow/individual_spatiotemporal_heatmaps/400.400.10/wt_control_wt_div/GV0795_Pos16_ID:2638_t:1059_N_cells / /home/nathan/data/kraken/h2b/giulia/radial_analysis_output/follow/individual_spatiotemporal_heatmaps/400.400.10/wt_control_wt_div/GV0795_Pos16_ID:2638_t:1059_N_events saved out successfully',\n",
       "  '/home/nathan/data/kraken/h2b/giulia/radial_analysis_output/follow/individual_spatiotemporal_heatmaps/400.400.10/wt_control_wt_div/GV0795_Pos16_ID:1674_t:1057_N_cells / /home/nathan/data/kraken/h2b/giulia/radial_analysis_output/follow/individual_spatiotemporal_heatmaps/400.400.10/wt_control_wt_div/GV0795_Pos16_ID:1674_t:1057_N_events saved out successfully',\n",
       "  '/home/nathan/data/kraken/h2b/giulia/radial_analysis_output/follow/individual_spatiotemporal_heatmaps/400.400.10/wt_control_wt_div/GV0795_Pos16_ID:2468_t:1084_N_cells / /home/nathan/data/kraken/h2b/giulia/radial_analysis_output/follow/individual_spatiotemporal_heatmaps/400.400.10/wt_control_wt_div/GV0795_Pos16_ID:2468_t:1084_N_events saved out successfully',\n",
       "  '/home/nathan/data/kraken/h2b/giulia/radial_analysis_output/follow/individual_spatiotemporal_heatmaps/400.400.10/wt_control_wt_div/GV0795_Pos16_ID:563_t:581_N_cells / /home/nathan/data/kraken/h2b/giulia/radial_analysis_output/follow/individual_spatiotemporal_heatmaps/400.400.10/wt_control_wt_div/GV0795_Pos16_ID:563_t:581_N_events saved out successfully',\n",
       "  '/home/nathan/data/kraken/h2b/giulia/radial_analysis_output/follow/individual_spatiotemporal_heatmaps/400.400.10/wt_control_wt_div/GV0795_Pos16_ID:2139_t:998_N_cells / /home/nathan/data/kraken/h2b/giulia/radial_analysis_output/follow/individual_spatiotemporal_heatmaps/400.400.10/wt_control_wt_div/GV0795_Pos16_ID:2139_t:998_N_events saved out successfully',\n",
       "  '/home/nathan/data/kraken/h2b/giulia/radial_analysis_output/follow/individual_spatiotemporal_heatmaps/400.400.10/wt_control_wt_div/GV0795_Pos16_ID:1743_t:1031_N_cells / /home/nathan/data/kraken/h2b/giulia/radial_analysis_output/follow/individual_spatiotemporal_heatmaps/400.400.10/wt_control_wt_div/GV0795_Pos16_ID:1743_t:1031_N_events saved out successfully',\n",
       "  '/home/nathan/data/kraken/h2b/giulia/radial_analysis_output/follow/individual_spatiotemporal_heatmaps/400.400.10/wt_control_wt_div/GV0795_Pos16_ID:1463_t:997_N_cells / /home/nathan/data/kraken/h2b/giulia/radial_analysis_output/follow/individual_spatiotemporal_heatmaps/400.400.10/wt_control_wt_div/GV0795_Pos16_ID:1463_t:997_N_events saved out successfully',\n",
       "  '/home/nathan/data/kraken/h2b/giulia/radial_analysis_output/follow/individual_spatiotemporal_heatmaps/400.400.10/wt_control_wt_div/GV0795_Pos16_ID:550_t:816_N_cells / /home/nathan/data/kraken/h2b/giulia/radial_analysis_output/follow/individual_spatiotemporal_heatmaps/400.400.10/wt_control_wt_div/GV0795_Pos16_ID:550_t:816_N_events saved out successfully',\n",
       "  '/home/nathan/data/kraken/h2b/giulia/radial_analysis_output/follow/individual_spatiotemporal_heatmaps/400.400.10/wt_control_wt_div/GV0795_Pos16_ID:2828_t:1151_N_cells / /home/nathan/data/kraken/h2b/giulia/radial_analysis_output/follow/individual_spatiotemporal_heatmaps/400.400.10/wt_control_wt_div/GV0795_Pos16_ID:2828_t:1151_N_events saved out successfully',\n",
       "  '/home/nathan/data/kraken/h2b/giulia/radial_analysis_output/follow/individual_spatiotemporal_heatmaps/400.400.10/wt_control_wt_div/GV0795_Pos16_ID:2248_t:1020_N_cells / /home/nathan/data/kraken/h2b/giulia/radial_analysis_output/follow/individual_spatiotemporal_heatmaps/400.400.10/wt_control_wt_div/GV0795_Pos16_ID:2248_t:1020_N_events saved out successfully',\n",
       "  '/home/nathan/data/kraken/h2b/giulia/radial_analysis_output/follow/individual_spatiotemporal_heatmaps/400.400.10/wt_control_wt_div/GV0795_Pos16_ID:1944_t:1072_N_cells / /home/nathan/data/kraken/h2b/giulia/radial_analysis_output/follow/individual_spatiotemporal_heatmaps/400.400.10/wt_control_wt_div/GV0795_Pos16_ID:1944_t:1072_N_events saved out successfully',\n",
       "  '/home/nathan/data/kraken/h2b/giulia/radial_analysis_output/follow/individual_spatiotemporal_heatmaps/400.400.10/wt_control_wt_div/GV0795_Pos16_ID:2341_t:1016_N_cells / /home/nathan/data/kraken/h2b/giulia/radial_analysis_output/follow/individual_spatiotemporal_heatmaps/400.400.10/wt_control_wt_div/GV0795_Pos16_ID:2341_t:1016_N_events saved out successfully',\n",
       "  '/home/nathan/data/kraken/h2b/giulia/radial_analysis_output/follow/individual_spatiotemporal_heatmaps/400.400.10/wt_control_wt_div/GV0795_Pos16_ID:1026_t:739_N_cells / /home/nathan/data/kraken/h2b/giulia/radial_analysis_output/follow/individual_spatiotemporal_heatmaps/400.400.10/wt_control_wt_div/GV0795_Pos16_ID:1026_t:739_N_events saved out successfully',\n",
       "  '/home/nathan/data/kraken/h2b/giulia/radial_analysis_output/follow/individual_spatiotemporal_heatmaps/400.400.10/wt_control_wt_div/GV0795_Pos16_ID:2458_t:1035_N_cells / /home/nathan/data/kraken/h2b/giulia/radial_analysis_output/follow/individual_spatiotemporal_heatmaps/400.400.10/wt_control_wt_div/GV0795_Pos16_ID:2458_t:1035_N_events saved out successfully',\n",
       "  '/home/nathan/data/kraken/h2b/giulia/radial_analysis_output/follow/individual_spatiotemporal_heatmaps/400.400.10/wt_control_wt_div/GV0795_Pos16_ID:741_t:712_N_cells / /home/nathan/data/kraken/h2b/giulia/radial_analysis_output/follow/individual_spatiotemporal_heatmaps/400.400.10/wt_control_wt_div/GV0795_Pos16_ID:741_t:712_N_events saved out successfully',\n",
       "  '/home/nathan/data/kraken/h2b/giulia/radial_analysis_output/follow/individual_spatiotemporal_heatmaps/400.400.10/wt_control_wt_div/GV0795_Pos16_ID:27_t:393_N_cells / /home/nathan/data/kraken/h2b/giulia/radial_analysis_output/follow/individual_spatiotemporal_heatmaps/400.400.10/wt_control_wt_div/GV0795_Pos16_ID:27_t:393_N_events saved out successfully',\n",
       "  '/home/nathan/data/kraken/h2b/giulia/radial_analysis_output/follow/individual_spatiotemporal_heatmaps/400.400.10/wt_control_wt_div/GV0795_Pos16_ID:241_t:410_N_cells / /home/nathan/data/kraken/h2b/giulia/radial_analysis_output/follow/individual_spatiotemporal_heatmaps/400.400.10/wt_control_wt_div/GV0795_Pos16_ID:241_t:410_N_events saved out successfully',\n",
       "  '/home/nathan/data/kraken/h2b/giulia/radial_analysis_output/follow/individual_spatiotemporal_heatmaps/400.400.10/wt_control_wt_div/GV0795_Pos16_ID:2486_t:1022_N_cells / /home/nathan/data/kraken/h2b/giulia/radial_analysis_output/follow/individual_spatiotemporal_heatmaps/400.400.10/wt_control_wt_div/GV0795_Pos16_ID:2486_t:1022_N_events saved out successfully',\n",
       "  '/home/nathan/data/kraken/h2b/giulia/radial_analysis_output/follow/individual_spatiotemporal_heatmaps/400.400.10/wt_control_wt_div/GV0795_Pos16_ID:2152_t:1103_N_cells / /home/nathan/data/kraken/h2b/giulia/radial_analysis_output/follow/individual_spatiotemporal_heatmaps/400.400.10/wt_control_wt_div/GV0795_Pos16_ID:2152_t:1103_N_events saved out successfully',\n",
       "  '/home/nathan/data/kraken/h2b/giulia/radial_analysis_output/follow/individual_spatiotemporal_heatmaps/400.400.10/wt_control_wt_div/GV0795_Pos16_ID:669_t:815_N_cells / /home/nathan/data/kraken/h2b/giulia/radial_analysis_output/follow/individual_spatiotemporal_heatmaps/400.400.10/wt_control_wt_div/GV0795_Pos16_ID:669_t:815_N_events saved out successfully',\n",
       "  '/home/nathan/data/kraken/h2b/giulia/radial_analysis_output/follow/individual_spatiotemporal_heatmaps/400.400.10/wt_control_wt_div/GV0795_Pos16_ID:2659_t:1188_N_cells / /home/nathan/data/kraken/h2b/giulia/radial_analysis_output/follow/individual_spatiotemporal_heatmaps/400.400.10/wt_control_wt_div/GV0795_Pos16_ID:2659_t:1188_N_events saved out successfully',\n",
       "  '/home/nathan/data/kraken/h2b/giulia/radial_analysis_output/follow/individual_spatiotemporal_heatmaps/400.400.10/wt_control_wt_div/GV0795_Pos16_ID:610_t:765_N_cells / /home/nathan/data/kraken/h2b/giulia/radial_analysis_output/follow/individual_spatiotemporal_heatmaps/400.400.10/wt_control_wt_div/GV0795_Pos16_ID:610_t:765_N_events saved out successfully',\n",
       "  '/home/nathan/data/kraken/h2b/giulia/radial_analysis_output/follow/individual_spatiotemporal_heatmaps/400.400.10/wt_control_wt_div/GV0795_Pos16_ID:2032_t:1122_N_cells / /home/nathan/data/kraken/h2b/giulia/radial_analysis_output/follow/individual_spatiotemporal_heatmaps/400.400.10/wt_control_wt_div/GV0795_Pos16_ID:2032_t:1122_N_events saved out successfully',\n",
       "  '/home/nathan/data/kraken/h2b/giulia/radial_analysis_output/follow/individual_spatiotemporal_heatmaps/400.400.10/wt_control_wt_div/GV0795_Pos17_ID:1199_t:1107_N_cells / /home/nathan/data/kraken/h2b/giulia/radial_analysis_output/follow/individual_spatiotemporal_heatmaps/400.400.10/wt_control_wt_div/GV0795_Pos17_ID:1199_t:1107_N_events saved out successfully',\n",
       "  '/home/nathan/data/kraken/h2b/giulia/radial_analysis_output/follow/individual_spatiotemporal_heatmaps/400.400.10/wt_control_wt_div/GV0795_Pos17_ID:412_t:775_N_cells / /home/nathan/data/kraken/h2b/giulia/radial_analysis_output/follow/individual_spatiotemporal_heatmaps/400.400.10/wt_control_wt_div/GV0795_Pos17_ID:412_t:775_N_events saved out successfully',\n",
       "  '/home/nathan/data/kraken/h2b/giulia/radial_analysis_output/follow/individual_spatiotemporal_heatmaps/400.400.10/wt_control_wt_div/GV0795_Pos17_ID:1461_t:1141_N_cells / /home/nathan/data/kraken/h2b/giulia/radial_analysis_output/follow/individual_spatiotemporal_heatmaps/400.400.10/wt_control_wt_div/GV0795_Pos17_ID:1461_t:1141_N_events saved out successfully',\n",
       "  '/home/nathan/data/kraken/h2b/giulia/radial_analysis_output/follow/individual_spatiotemporal_heatmaps/400.400.10/wt_control_wt_div/GV0795_Pos17_ID:407_t:688_N_cells / /home/nathan/data/kraken/h2b/giulia/radial_analysis_output/follow/individual_spatiotemporal_heatmaps/400.400.10/wt_control_wt_div/GV0795_Pos17_ID:407_t:688_N_events saved out successfully',\n",
       "  '/home/nathan/data/kraken/h2b/giulia/radial_analysis_output/follow/individual_spatiotemporal_heatmaps/400.400.10/wt_control_wt_div/GV0795_Pos17_ID:1039_t:945_N_cells / /home/nathan/data/kraken/h2b/giulia/radial_analysis_output/follow/individual_spatiotemporal_heatmaps/400.400.10/wt_control_wt_div/GV0795_Pos17_ID:1039_t:945_N_events saved out successfully',\n",
       "  '/home/nathan/data/kraken/h2b/giulia/radial_analysis_output/follow/individual_spatiotemporal_heatmaps/400.400.10/wt_control_wt_div/GV0795_Pos17_ID:986_t:959_N_cells / /home/nathan/data/kraken/h2b/giulia/radial_analysis_output/follow/individual_spatiotemporal_heatmaps/400.400.10/wt_control_wt_div/GV0795_Pos17_ID:986_t:959_N_events saved out successfully',\n",
       "  '/home/nathan/data/kraken/h2b/giulia/radial_analysis_output/follow/individual_spatiotemporal_heatmaps/400.400.10/wt_control_wt_div/GV0795_Pos17_ID:401_t:774_N_cells / /home/nathan/data/kraken/h2b/giulia/radial_analysis_output/follow/individual_spatiotemporal_heatmaps/400.400.10/wt_control_wt_div/GV0795_Pos17_ID:401_t:774_N_events saved out successfully',\n",
       "  '/home/nathan/data/kraken/h2b/giulia/radial_analysis_output/follow/individual_spatiotemporal_heatmaps/400.400.10/wt_control_wt_div/GV0795_Pos17_ID:1461_t:1147_N_cells / /home/nathan/data/kraken/h2b/giulia/radial_analysis_output/follow/individual_spatiotemporal_heatmaps/400.400.10/wt_control_wt_div/GV0795_Pos17_ID:1461_t:1147_N_events saved out successfully',\n",
       "  '/home/nathan/data/kraken/h2b/giulia/radial_analysis_output/follow/individual_spatiotemporal_heatmaps/400.400.10/wt_control_wt_div/GV0795_Pos17_ID:509_t:842_N_cells / /home/nathan/data/kraken/h2b/giulia/radial_analysis_output/follow/individual_spatiotemporal_heatmaps/400.400.10/wt_control_wt_div/GV0795_Pos17_ID:509_t:842_N_events saved out successfully',\n",
       "  '/home/nathan/data/kraken/h2b/giulia/radial_analysis_output/follow/individual_spatiotemporal_heatmaps/400.400.10/wt_control_wt_div/GV0795_Pos17_ID:994_t:940_N_cells / /home/nathan/data/kraken/h2b/giulia/radial_analysis_output/follow/individual_spatiotemporal_heatmaps/400.400.10/wt_control_wt_div/GV0795_Pos17_ID:994_t:940_N_events saved out successfully',\n",
       "  '/home/nathan/data/kraken/h2b/giulia/radial_analysis_output/follow/individual_spatiotemporal_heatmaps/400.400.10/wt_control_wt_div/GV0795_Pos17_ID:172_t:437_N_cells / /home/nathan/data/kraken/h2b/giulia/radial_analysis_output/follow/individual_spatiotemporal_heatmaps/400.400.10/wt_control_wt_div/GV0795_Pos17_ID:172_t:437_N_events saved out successfully',\n",
       "  '/home/nathan/data/kraken/h2b/giulia/radial_analysis_output/follow/individual_spatiotemporal_heatmaps/400.400.10/wt_control_wt_div/GV0795_Pos17_ID:834_t:974_N_cells / /home/nathan/data/kraken/h2b/giulia/radial_analysis_output/follow/individual_spatiotemporal_heatmaps/400.400.10/wt_control_wt_div/GV0795_Pos17_ID:834_t:974_N_events saved out successfully',\n",
       "  '/home/nathan/data/kraken/h2b/giulia/radial_analysis_output/follow/individual_spatiotemporal_heatmaps/400.400.10/wt_control_wt_div/GV0795_Pos17_ID:1461_t:1156_N_cells / /home/nathan/data/kraken/h2b/giulia/radial_analysis_output/follow/individual_spatiotemporal_heatmaps/400.400.10/wt_control_wt_div/GV0795_Pos17_ID:1461_t:1156_N_events saved out successfully',\n",
       "  '/home/nathan/data/kraken/h2b/giulia/radial_analysis_output/follow/individual_spatiotemporal_heatmaps/400.400.10/wt_control_wt_div/GV0795_Pos17_ID:300_t:656_N_cells / /home/nathan/data/kraken/h2b/giulia/radial_analysis_output/follow/individual_spatiotemporal_heatmaps/400.400.10/wt_control_wt_div/GV0795_Pos17_ID:300_t:656_N_events saved out successfully',\n",
       "  '/home/nathan/data/kraken/h2b/giulia/radial_analysis_output/follow/individual_spatiotemporal_heatmaps/400.400.10/wt_control_wt_div/GV0795_Pos17_ID:1346_t:1148_N_cells / /home/nathan/data/kraken/h2b/giulia/radial_analysis_output/follow/individual_spatiotemporal_heatmaps/400.400.10/wt_control_wt_div/GV0795_Pos17_ID:1346_t:1148_N_events saved out successfully',\n",
       "  '/home/nathan/data/kraken/h2b/giulia/radial_analysis_output/follow/individual_spatiotemporal_heatmaps/400.400.10/wt_control_wt_div/GV0795_Pos17_ID:20_t:128_N_cells / /home/nathan/data/kraken/h2b/giulia/radial_analysis_output/follow/individual_spatiotemporal_heatmaps/400.400.10/wt_control_wt_div/GV0795_Pos17_ID:20_t:128_N_events saved out successfully',\n",
       "  '/home/nathan/data/kraken/h2b/giulia/radial_analysis_output/follow/individual_spatiotemporal_heatmaps/400.400.10/wt_control_wt_div/GV0795_Pos17_ID:767_t:1061_N_cells / /home/nathan/data/kraken/h2b/giulia/radial_analysis_output/follow/individual_spatiotemporal_heatmaps/400.400.10/wt_control_wt_div/GV0795_Pos17_ID:767_t:1061_N_events saved out successfully',\n",
       "  '/home/nathan/data/kraken/h2b/giulia/radial_analysis_output/follow/individual_spatiotemporal_heatmaps/400.400.10/wt_control_wt_div/GV0795_Pos17_ID:490_t:695_N_cells / /home/nathan/data/kraken/h2b/giulia/radial_analysis_output/follow/individual_spatiotemporal_heatmaps/400.400.10/wt_control_wt_div/GV0795_Pos17_ID:490_t:695_N_events saved out successfully',\n",
       "  '/home/nathan/data/kraken/h2b/giulia/radial_analysis_output/follow/individual_spatiotemporal_heatmaps/400.400.10/wt_control_wt_div/GV0795_Pos17_ID:1187_t:1153_N_cells / /home/nathan/data/kraken/h2b/giulia/radial_analysis_output/follow/individual_spatiotemporal_heatmaps/400.400.10/wt_control_wt_div/GV0795_Pos17_ID:1187_t:1153_N_events saved out successfully',\n",
       "  '/home/nathan/data/kraken/h2b/giulia/radial_analysis_output/follow/individual_spatiotemporal_heatmaps/400.400.10/wt_control_wt_div/GV0795_Pos17_ID:708_t:1112_N_cells / /home/nathan/data/kraken/h2b/giulia/radial_analysis_output/follow/individual_spatiotemporal_heatmaps/400.400.10/wt_control_wt_div/GV0795_Pos17_ID:708_t:1112_N_events saved out successfully',\n",
       "  '/home/nathan/data/kraken/h2b/giulia/radial_analysis_output/follow/individual_spatiotemporal_heatmaps/400.400.10/wt_control_wt_div/GV0795_Pos17_ID:1072_t:1003_N_cells / /home/nathan/data/kraken/h2b/giulia/radial_analysis_output/follow/individual_spatiotemporal_heatmaps/400.400.10/wt_control_wt_div/GV0795_Pos17_ID:1072_t:1003_N_events saved out successfully',\n",
       "  '/home/nathan/data/kraken/h2b/giulia/radial_analysis_output/follow/individual_spatiotemporal_heatmaps/400.400.10/wt_control_wt_div/GV0795_Pos17_ID:571_t:905_N_cells / /home/nathan/data/kraken/h2b/giulia/radial_analysis_output/follow/individual_spatiotemporal_heatmaps/400.400.10/wt_control_wt_div/GV0795_Pos17_ID:571_t:905_N_events saved out successfully',\n",
       "  '/home/nathan/data/kraken/h2b/giulia/radial_analysis_output/follow/individual_spatiotemporal_heatmaps/400.400.10/wt_control_wt_div/GV0795_Pos17_ID:447_t:839_N_cells / /home/nathan/data/kraken/h2b/giulia/radial_analysis_output/follow/individual_spatiotemporal_heatmaps/400.400.10/wt_control_wt_div/GV0795_Pos17_ID:447_t:839_N_events saved out successfully',\n",
       "  '/home/nathan/data/kraken/h2b/giulia/radial_analysis_output/follow/individual_spatiotemporal_heatmaps/400.400.10/wt_control_wt_div/GV0795_Pos17_ID:396_t:677_N_cells / /home/nathan/data/kraken/h2b/giulia/radial_analysis_output/follow/individual_spatiotemporal_heatmaps/400.400.10/wt_control_wt_div/GV0795_Pos17_ID:396_t:677_N_events saved out successfully',\n",
       "  '/home/nathan/data/kraken/h2b/giulia/radial_analysis_output/follow/individual_spatiotemporal_heatmaps/400.400.10/wt_control_wt_div/GV0795_Pos17_ID:890_t:877_N_cells / /home/nathan/data/kraken/h2b/giulia/radial_analysis_output/follow/individual_spatiotemporal_heatmaps/400.400.10/wt_control_wt_div/GV0795_Pos17_ID:890_t:877_N_events saved out successfully',\n",
       "  '/home/nathan/data/kraken/h2b/giulia/radial_analysis_output/follow/individual_spatiotemporal_heatmaps/400.400.10/wt_control_wt_div/GV0795_Pos18_ID:597_t:1014_N_cells / /home/nathan/data/kraken/h2b/giulia/radial_analysis_output/follow/individual_spatiotemporal_heatmaps/400.400.10/wt_control_wt_div/GV0795_Pos18_ID:597_t:1014_N_events saved out successfully',\n",
       "  '/home/nathan/data/kraken/h2b/giulia/radial_analysis_output/follow/individual_spatiotemporal_heatmaps/400.400.10/wt_control_wt_div/GV0795_Pos18_ID:68_t:296_N_cells / /home/nathan/data/kraken/h2b/giulia/radial_analysis_output/follow/individual_spatiotemporal_heatmaps/400.400.10/wt_control_wt_div/GV0795_Pos18_ID:68_t:296_N_events saved out successfully',\n",
       "  '/home/nathan/data/kraken/h2b/giulia/radial_analysis_output/follow/individual_spatiotemporal_heatmaps/400.400.10/wt_control_wt_div/GV0795_Pos18_ID:387_t:922_N_cells / /home/nathan/data/kraken/h2b/giulia/radial_analysis_output/follow/individual_spatiotemporal_heatmaps/400.400.10/wt_control_wt_div/GV0795_Pos18_ID:387_t:922_N_events saved out successfully',\n",
       "  '/home/nathan/data/kraken/h2b/giulia/radial_analysis_output/follow/individual_spatiotemporal_heatmaps/400.400.10/wt_control_wt_div/GV0795_Pos18_ID:681_t:1166_N_cells / /home/nathan/data/kraken/h2b/giulia/radial_analysis_output/follow/individual_spatiotemporal_heatmaps/400.400.10/wt_control_wt_div/GV0795_Pos18_ID:681_t:1166_N_events saved out successfully',\n",
       "  '/home/nathan/data/kraken/h2b/giulia/radial_analysis_output/follow/individual_spatiotemporal_heatmaps/400.400.10/wt_control_wt_div/GV0795_Pos18_ID:459_t:930_N_cells / /home/nathan/data/kraken/h2b/giulia/radial_analysis_output/follow/individual_spatiotemporal_heatmaps/400.400.10/wt_control_wt_div/GV0795_Pos18_ID:459_t:930_N_events saved out successfully',\n",
       "  '/home/nathan/data/kraken/h2b/giulia/radial_analysis_output/follow/individual_spatiotemporal_heatmaps/400.400.10/wt_control_wt_div/GV0795_Pos18_ID:585_t:1056_N_cells / /home/nathan/data/kraken/h2b/giulia/radial_analysis_output/follow/individual_spatiotemporal_heatmaps/400.400.10/wt_control_wt_div/GV0795_Pos18_ID:585_t:1056_N_events saved out successfully',\n",
       "  '/home/nathan/data/kraken/h2b/giulia/radial_analysis_output/follow/individual_spatiotemporal_heatmaps/400.400.10/wt_control_wt_div/GV0795_Pos18_ID:528_t:971_N_cells / /home/nathan/data/kraken/h2b/giulia/radial_analysis_output/follow/individual_spatiotemporal_heatmaps/400.400.10/wt_control_wt_div/GV0795_Pos18_ID:528_t:971_N_events saved out successfully',\n",
       "  '/home/nathan/data/kraken/h2b/giulia/radial_analysis_output/follow/individual_spatiotemporal_heatmaps/400.400.10/wt_control_wt_div/GV0795_Pos18_ID:426_t:901_N_cells / /home/nathan/data/kraken/h2b/giulia/radial_analysis_output/follow/individual_spatiotemporal_heatmaps/400.400.10/wt_control_wt_div/GV0795_Pos18_ID:426_t:901_N_events saved out successfully',\n",
       "  '/home/nathan/data/kraken/h2b/giulia/radial_analysis_output/follow/individual_spatiotemporal_heatmaps/400.400.10/wt_control_wt_div/GV0795_Pos18_ID:106_t:569_N_cells / /home/nathan/data/kraken/h2b/giulia/radial_analysis_output/follow/individual_spatiotemporal_heatmaps/400.400.10/wt_control_wt_div/GV0795_Pos18_ID:106_t:569_N_events saved out successfully',\n",
       "  '/home/nathan/data/kraken/h2b/giulia/radial_analysis_output/follow/individual_spatiotemporal_heatmaps/400.400.10/wt_control_wt_div/GV0795_Pos18_ID:597_t:1073_N_cells / /home/nathan/data/kraken/h2b/giulia/radial_analysis_output/follow/individual_spatiotemporal_heatmaps/400.400.10/wt_control_wt_div/GV0795_Pos18_ID:597_t:1073_N_events saved out successfully',\n",
       "  '/home/nathan/data/kraken/h2b/giulia/radial_analysis_output/follow/individual_spatiotemporal_heatmaps/400.400.10/wt_control_wt_div/GV0795_Pos18_ID:147_t:598_N_cells / /home/nathan/data/kraken/h2b/giulia/radial_analysis_output/follow/individual_spatiotemporal_heatmaps/400.400.10/wt_control_wt_div/GV0795_Pos18_ID:147_t:598_N_events saved out successfully',\n",
       "  '/home/nathan/data/kraken/h2b/giulia/radial_analysis_output/follow/individual_spatiotemporal_heatmaps/400.400.10/wt_control_wt_div/GV0795_Pos18_ID:368_t:885_N_cells / /home/nathan/data/kraken/h2b/giulia/radial_analysis_output/follow/individual_spatiotemporal_heatmaps/400.400.10/wt_control_wt_div/GV0795_Pos18_ID:368_t:885_N_events saved out successfully',\n",
       "  '/home/nathan/data/kraken/h2b/giulia/radial_analysis_output/follow/individual_spatiotemporal_heatmaps/400.400.10/wt_control_wt_div/GV0795_Pos18_ID:597_t:1089_N_cells / /home/nathan/data/kraken/h2b/giulia/radial_analysis_output/follow/individual_spatiotemporal_heatmaps/400.400.10/wt_control_wt_div/GV0795_Pos18_ID:597_t:1089_N_events saved out successfully',\n",
       "  '/home/nathan/data/kraken/h2b/giulia/radial_analysis_output/follow/individual_spatiotemporal_heatmaps/400.400.10/wt_control_wt_div/GV0795_Pos18_ID:15_t:160_N_cells / /home/nathan/data/kraken/h2b/giulia/radial_analysis_output/follow/individual_spatiotemporal_heatmaps/400.400.10/wt_control_wt_div/GV0795_Pos18_ID:15_t:160_N_events saved out successfully',\n",
       "  '/home/nathan/data/kraken/h2b/giulia/radial_analysis_output/follow/individual_spatiotemporal_heatmaps/400.400.10/wt_control_wt_div/GV0795_Pos18_ID:170_t:605_N_cells / /home/nathan/data/kraken/h2b/giulia/radial_analysis_output/follow/individual_spatiotemporal_heatmaps/400.400.10/wt_control_wt_div/GV0795_Pos18_ID:170_t:605_N_events saved out successfully',\n",
       "  '/home/nathan/data/kraken/h2b/giulia/radial_analysis_output/follow/individual_spatiotemporal_heatmaps/400.400.10/wt_control_wt_div/GV0795_Pos18_ID:596_t:1049_N_cells / /home/nathan/data/kraken/h2b/giulia/radial_analysis_output/follow/individual_spatiotemporal_heatmaps/400.400.10/wt_control_wt_div/GV0795_Pos18_ID:596_t:1049_N_events saved out successfully',\n",
       "  '/home/nathan/data/kraken/h2b/giulia/radial_analysis_output/follow/individual_spatiotemporal_heatmaps/400.400.10/wt_control_wt_div/GV0795_Pos18_ID:243_t:702_N_cells / /home/nathan/data/kraken/h2b/giulia/radial_analysis_output/follow/individual_spatiotemporal_heatmaps/400.400.10/wt_control_wt_div/GV0795_Pos18_ID:243_t:702_N_events saved out successfully',\n",
       "  '/home/nathan/data/kraken/h2b/giulia/radial_analysis_output/follow/individual_spatiotemporal_heatmaps/400.400.10/wt_control_wt_div/GV0795_Pos18_ID:15_t:283_N_cells / /home/nathan/data/kraken/h2b/giulia/radial_analysis_output/follow/individual_spatiotemporal_heatmaps/400.400.10/wt_control_wt_div/GV0795_Pos18_ID:15_t:283_N_events saved out successfully',\n",
       "  '/home/nathan/data/kraken/h2b/giulia/radial_analysis_output/follow/individual_spatiotemporal_heatmaps/400.400.10/wt_control_wt_div/GV0795_Pos18_ID:207_t:682_N_cells / /home/nathan/data/kraken/h2b/giulia/radial_analysis_output/follow/individual_spatiotemporal_heatmaps/400.400.10/wt_control_wt_div/GV0795_Pos18_ID:207_t:682_N_events saved out successfully',\n",
       "  '/home/nathan/data/kraken/h2b/giulia/radial_analysis_output/follow/individual_spatiotemporal_heatmaps/400.400.10/wt_control_wt_div/GV0795_Pos18_ID:681_t:1160_N_cells / /home/nathan/data/kraken/h2b/giulia/radial_analysis_output/follow/individual_spatiotemporal_heatmaps/400.400.10/wt_control_wt_div/GV0795_Pos18_ID:681_t:1160_N_events saved out successfully',\n",
       "  '/home/nathan/data/kraken/h2b/giulia/radial_analysis_output/follow/individual_spatiotemporal_heatmaps/400.400.10/wt_control_wt_div/GV0795_Pos18_ID:693_t:1150_N_cells / /home/nathan/data/kraken/h2b/giulia/radial_analysis_output/follow/individual_spatiotemporal_heatmaps/400.400.10/wt_control_wt_div/GV0795_Pos18_ID:693_t:1150_N_events saved out successfully',\n",
       "  '/home/nathan/data/kraken/h2b/giulia/radial_analysis_output/follow/individual_spatiotemporal_heatmaps/400.400.10/wt_control_wt_div/GV0795_Pos18_ID:661_t:1165_N_cells / /home/nathan/data/kraken/h2b/giulia/radial_analysis_output/follow/individual_spatiotemporal_heatmaps/400.400.10/wt_control_wt_div/GV0795_Pos18_ID:661_t:1165_N_events saved out successfully',\n",
       "  '/home/nathan/data/kraken/h2b/giulia/radial_analysis_output/follow/individual_spatiotemporal_heatmaps/400.400.10/wt_control_wt_div/GV0795_Pos18_ID:377_t:936_N_cells / /home/nathan/data/kraken/h2b/giulia/radial_analysis_output/follow/individual_spatiotemporal_heatmaps/400.400.10/wt_control_wt_div/GV0795_Pos18_ID:377_t:936_N_events saved out successfully',\n",
       "  '/home/nathan/data/kraken/h2b/giulia/radial_analysis_output/follow/individual_spatiotemporal_heatmaps/400.400.10/wt_control_wt_div/GV0795_Pos18_ID:432_t:954_N_cells / /home/nathan/data/kraken/h2b/giulia/radial_analysis_output/follow/individual_spatiotemporal_heatmaps/400.400.10/wt_control_wt_div/GV0795_Pos18_ID:432_t:954_N_events saved out successfully',\n",
       "  '/home/nathan/data/kraken/h2b/giulia/radial_analysis_output/follow/individual_spatiotemporal_heatmaps/400.400.10/wt_control_wt_div/GV0795_Pos18_ID:692_t:1078_N_cells / /home/nathan/data/kraken/h2b/giulia/radial_analysis_output/follow/individual_spatiotemporal_heatmaps/400.400.10/wt_control_wt_div/GV0795_Pos18_ID:692_t:1078_N_events saved out successfully',\n",
       "  '/home/nathan/data/kraken/h2b/giulia/radial_analysis_output/follow/individual_spatiotemporal_heatmaps/400.400.10/wt_control_wt_div/GV0796_Pos3_ID:2627_t:700_N_cells / /home/nathan/data/kraken/h2b/giulia/radial_analysis_output/follow/individual_spatiotemporal_heatmaps/400.400.10/wt_control_wt_div/GV0796_Pos3_ID:2627_t:700_N_events saved out successfully',\n",
       "  '/home/nathan/data/kraken/h2b/giulia/radial_analysis_output/follow/individual_spatiotemporal_heatmaps/400.400.10/wt_control_wt_div/GV0796_Pos3_ID:1648_t:623_N_cells / /home/nathan/data/kraken/h2b/giulia/radial_analysis_output/follow/individual_spatiotemporal_heatmaps/400.400.10/wt_control_wt_div/GV0796_Pos3_ID:1648_t:623_N_events saved out successfully',\n",
       "  '/home/nathan/data/kraken/h2b/giulia/radial_analysis_output/follow/individual_spatiotemporal_heatmaps/400.400.10/wt_control_wt_div/GV0796_Pos3_ID:3268_t:978_N_cells / /home/nathan/data/kraken/h2b/giulia/radial_analysis_output/follow/individual_spatiotemporal_heatmaps/400.400.10/wt_control_wt_div/GV0796_Pos3_ID:3268_t:978_N_events saved out successfully',\n",
       "  '/home/nathan/data/kraken/h2b/giulia/radial_analysis_output/follow/individual_spatiotemporal_heatmaps/400.400.10/wt_control_wt_div/GV0796_Pos3_ID:780_t:366_N_cells / /home/nathan/data/kraken/h2b/giulia/radial_analysis_output/follow/individual_spatiotemporal_heatmaps/400.400.10/wt_control_wt_div/GV0796_Pos3_ID:780_t:366_N_events saved out successfully',\n",
       "  '/home/nathan/data/kraken/h2b/giulia/radial_analysis_output/follow/individual_spatiotemporal_heatmaps/400.400.10/wt_control_wt_div/GV0796_Pos3_ID:1563_t:688_N_cells / /home/nathan/data/kraken/h2b/giulia/radial_analysis_output/follow/individual_spatiotemporal_heatmaps/400.400.10/wt_control_wt_div/GV0796_Pos3_ID:1563_t:688_N_events saved out successfully',\n",
       "  '/home/nathan/data/kraken/h2b/giulia/radial_analysis_output/follow/individual_spatiotemporal_heatmaps/400.400.10/wt_control_wt_div/GV0796_Pos3_ID:3138_t:786_N_cells / /home/nathan/data/kraken/h2b/giulia/radial_analysis_output/follow/individual_spatiotemporal_heatmaps/400.400.10/wt_control_wt_div/GV0796_Pos3_ID:3138_t:786_N_events saved out successfully',\n",
       "  '/home/nathan/data/kraken/h2b/giulia/radial_analysis_output/follow/individual_spatiotemporal_heatmaps/400.400.10/wt_control_wt_div/GV0796_Pos3_ID:187_t:228_N_cells / /home/nathan/data/kraken/h2b/giulia/radial_analysis_output/follow/individual_spatiotemporal_heatmaps/400.400.10/wt_control_wt_div/GV0796_Pos3_ID:187_t:228_N_events saved out successfully',\n",
       "  '/home/nathan/data/kraken/h2b/giulia/radial_analysis_output/follow/individual_spatiotemporal_heatmaps/400.400.10/wt_control_wt_div/GV0796_Pos3_ID:3580_t:992_N_cells / /home/nathan/data/kraken/h2b/giulia/radial_analysis_output/follow/individual_spatiotemporal_heatmaps/400.400.10/wt_control_wt_div/GV0796_Pos3_ID:3580_t:992_N_events saved out successfully',\n",
       "  '/home/nathan/data/kraken/h2b/giulia/radial_analysis_output/follow/individual_spatiotemporal_heatmaps/400.400.10/wt_control_wt_div/GV0796_Pos3_ID:2412_t:709_N_cells / /home/nathan/data/kraken/h2b/giulia/radial_analysis_output/follow/individual_spatiotemporal_heatmaps/400.400.10/wt_control_wt_div/GV0796_Pos3_ID:2412_t:709_N_events saved out successfully',\n",
       "  '/home/nathan/data/kraken/h2b/giulia/radial_analysis_output/follow/individual_spatiotemporal_heatmaps/400.400.10/wt_control_wt_div/GV0796_Pos3_ID:1129_t:389_N_cells / /home/nathan/data/kraken/h2b/giulia/radial_analysis_output/follow/individual_spatiotemporal_heatmaps/400.400.10/wt_control_wt_div/GV0796_Pos3_ID:1129_t:389_N_events saved out successfully',\n",
       "  '/home/nathan/data/kraken/h2b/giulia/radial_analysis_output/follow/individual_spatiotemporal_heatmaps/400.400.10/wt_control_wt_div/GV0796_Pos3_ID:206_t:214_N_cells / /home/nathan/data/kraken/h2b/giulia/radial_analysis_output/follow/individual_spatiotemporal_heatmaps/400.400.10/wt_control_wt_div/GV0796_Pos3_ID:206_t:214_N_events saved out successfully',\n",
       "  '/home/nathan/data/kraken/h2b/giulia/radial_analysis_output/follow/individual_spatiotemporal_heatmaps/400.400.10/wt_control_wt_div/GV0796_Pos3_ID:324_t:109_N_cells / /home/nathan/data/kraken/h2b/giulia/radial_analysis_output/follow/individual_spatiotemporal_heatmaps/400.400.10/wt_control_wt_div/GV0796_Pos3_ID:324_t:109_N_events saved out successfully',\n",
       "  '/home/nathan/data/kraken/h2b/giulia/radial_analysis_output/follow/individual_spatiotemporal_heatmaps/400.400.10/wt_control_wt_div/GV0796_Pos3_ID:3123_t:751_N_cells / /home/nathan/data/kraken/h2b/giulia/radial_analysis_output/follow/individual_spatiotemporal_heatmaps/400.400.10/wt_control_wt_div/GV0796_Pos3_ID:3123_t:751_N_events saved out successfully',\n",
       "  '/home/nathan/data/kraken/h2b/giulia/radial_analysis_output/follow/individual_spatiotemporal_heatmaps/400.400.10/wt_control_wt_div/GV0796_Pos3_ID:4021_t:946_N_cells / /home/nathan/data/kraken/h2b/giulia/radial_analysis_output/follow/individual_spatiotemporal_heatmaps/400.400.10/wt_control_wt_div/GV0796_Pos3_ID:4021_t:946_N_events saved out successfully',\n",
       "  '/home/nathan/data/kraken/h2b/giulia/radial_analysis_output/follow/individual_spatiotemporal_heatmaps/400.400.10/wt_control_wt_div/GV0796_Pos3_ID:1572_t:723_N_cells / /home/nathan/data/kraken/h2b/giulia/radial_analysis_output/follow/individual_spatiotemporal_heatmaps/400.400.10/wt_control_wt_div/GV0796_Pos3_ID:1572_t:723_N_events saved out successfully',\n",
       "  '/home/nathan/data/kraken/h2b/giulia/radial_analysis_output/follow/individual_spatiotemporal_heatmaps/400.400.10/wt_control_wt_div/GV0796_Pos3_ID:776_t:319_N_cells / /home/nathan/data/kraken/h2b/giulia/radial_analysis_output/follow/individual_spatiotemporal_heatmaps/400.400.10/wt_control_wt_div/GV0796_Pos3_ID:776_t:319_N_events saved out successfully',\n",
       "  '/home/nathan/data/kraken/h2b/giulia/radial_analysis_output/follow/individual_spatiotemporal_heatmaps/400.400.10/wt_control_wt_div/GV0796_Pos3_ID:3411_t:997_N_cells / /home/nathan/data/kraken/h2b/giulia/radial_analysis_output/follow/individual_spatiotemporal_heatmaps/400.400.10/wt_control_wt_div/GV0796_Pos3_ID:3411_t:997_N_events saved out successfully',\n",
       "  '/home/nathan/data/kraken/h2b/giulia/radial_analysis_output/follow/individual_spatiotemporal_heatmaps/400.400.10/wt_control_wt_div/GV0796_Pos3_ID:2372_t:669_N_cells / /home/nathan/data/kraken/h2b/giulia/radial_analysis_output/follow/individual_spatiotemporal_heatmaps/400.400.10/wt_control_wt_div/GV0796_Pos3_ID:2372_t:669_N_events saved out successfully',\n",
       "  '/home/nathan/data/kraken/h2b/giulia/radial_analysis_output/follow/individual_spatiotemporal_heatmaps/400.400.10/wt_control_wt_div/GV0796_Pos3_ID:3187_t:867_N_cells / /home/nathan/data/kraken/h2b/giulia/radial_analysis_output/follow/individual_spatiotemporal_heatmaps/400.400.10/wt_control_wt_div/GV0796_Pos3_ID:3187_t:867_N_events saved out successfully',\n",
       "  '/home/nathan/data/kraken/h2b/giulia/radial_analysis_output/follow/individual_spatiotemporal_heatmaps/400.400.10/wt_control_wt_div/GV0796_Pos3_ID:288_t:628_N_cells / /home/nathan/data/kraken/h2b/giulia/radial_analysis_output/follow/individual_spatiotemporal_heatmaps/400.400.10/wt_control_wt_div/GV0796_Pos3_ID:288_t:628_N_events saved out successfully',\n",
       "  '/home/nathan/data/kraken/h2b/giulia/radial_analysis_output/follow/individual_spatiotemporal_heatmaps/400.400.10/wt_control_wt_div/GV0796_Pos3_ID:1339_t:834_N_cells / /home/nathan/data/kraken/h2b/giulia/radial_analysis_output/follow/individual_spatiotemporal_heatmaps/400.400.10/wt_control_wt_div/GV0796_Pos3_ID:1339_t:834_N_events saved out successfully',\n",
       "  '/home/nathan/data/kraken/h2b/giulia/radial_analysis_output/follow/individual_spatiotemporal_heatmaps/400.400.10/wt_control_wt_div/GV0796_Pos3_ID:3725_t:909_N_cells / /home/nathan/data/kraken/h2b/giulia/radial_analysis_output/follow/individual_spatiotemporal_heatmaps/400.400.10/wt_control_wt_div/GV0796_Pos3_ID:3725_t:909_N_events saved out successfully',\n",
       "  '/home/nathan/data/kraken/h2b/giulia/radial_analysis_output/follow/individual_spatiotemporal_heatmaps/400.400.10/wt_control_wt_div/GV0796_Pos3_ID:3927_t:834_N_cells / /home/nathan/data/kraken/h2b/giulia/radial_analysis_output/follow/individual_spatiotemporal_heatmaps/400.400.10/wt_control_wt_div/GV0796_Pos3_ID:3927_t:834_N_events saved out successfully',\n",
       "  '/home/nathan/data/kraken/h2b/giulia/radial_analysis_output/follow/individual_spatiotemporal_heatmaps/400.400.10/wt_control_wt_div/GV0796_Pos3_ID:2388_t:682_N_cells / /home/nathan/data/kraken/h2b/giulia/radial_analysis_output/follow/individual_spatiotemporal_heatmaps/400.400.10/wt_control_wt_div/GV0796_Pos3_ID:2388_t:682_N_events saved out successfully',\n",
       "  '/home/nathan/data/kraken/h2b/giulia/radial_analysis_output/follow/individual_spatiotemporal_heatmaps/400.400.10/wt_control_wt_div/GV0796_Pos3_ID:2105_t:663_N_cells / /home/nathan/data/kraken/h2b/giulia/radial_analysis_output/follow/individual_spatiotemporal_heatmaps/400.400.10/wt_control_wt_div/GV0796_Pos3_ID:2105_t:663_N_events saved out successfully',\n",
       "  '/home/nathan/data/kraken/h2b/giulia/radial_analysis_output/follow/individual_spatiotemporal_heatmaps/400.400.10/wt_control_wt_div/GV0796_Pos4_ID:1768_t:825_N_cells / /home/nathan/data/kraken/h2b/giulia/radial_analysis_output/follow/individual_spatiotemporal_heatmaps/400.400.10/wt_control_wt_div/GV0796_Pos4_ID:1768_t:825_N_events saved out successfully',\n",
       "  '/home/nathan/data/kraken/h2b/giulia/radial_analysis_output/follow/individual_spatiotemporal_heatmaps/400.400.10/wt_control_wt_div/GV0796_Pos4_ID:2753_t:861_N_cells / /home/nathan/data/kraken/h2b/giulia/radial_analysis_output/follow/individual_spatiotemporal_heatmaps/400.400.10/wt_control_wt_div/GV0796_Pos4_ID:2753_t:861_N_events saved out successfully',\n",
       "  '/home/nathan/data/kraken/h2b/giulia/radial_analysis_output/follow/individual_spatiotemporal_heatmaps/400.400.10/wt_control_wt_div/GV0796_Pos4_ID:2812_t:906_N_cells / /home/nathan/data/kraken/h2b/giulia/radial_analysis_output/follow/individual_spatiotemporal_heatmaps/400.400.10/wt_control_wt_div/GV0796_Pos4_ID:2812_t:906_N_events saved out successfully',\n",
       "  '/home/nathan/data/kraken/h2b/giulia/radial_analysis_output/follow/individual_spatiotemporal_heatmaps/400.400.10/wt_control_wt_div/GV0796_Pos4_ID:1585_t:862_N_cells / /home/nathan/data/kraken/h2b/giulia/radial_analysis_output/follow/individual_spatiotemporal_heatmaps/400.400.10/wt_control_wt_div/GV0796_Pos4_ID:1585_t:862_N_events saved out successfully',\n",
       "  '/home/nathan/data/kraken/h2b/giulia/radial_analysis_output/follow/individual_spatiotemporal_heatmaps/400.400.10/wt_control_wt_div/GV0796_Pos4_ID:1827_t:764_N_cells / /home/nathan/data/kraken/h2b/giulia/radial_analysis_output/follow/individual_spatiotemporal_heatmaps/400.400.10/wt_control_wt_div/GV0796_Pos4_ID:1827_t:764_N_events saved out successfully',\n",
       "  '/home/nathan/data/kraken/h2b/giulia/radial_analysis_output/follow/individual_spatiotemporal_heatmaps/400.400.10/wt_control_wt_div/GV0796_Pos4_ID:2448_t:853_N_cells / /home/nathan/data/kraken/h2b/giulia/radial_analysis_output/follow/individual_spatiotemporal_heatmaps/400.400.10/wt_control_wt_div/GV0796_Pos4_ID:2448_t:853_N_events saved out successfully',\n",
       "  '/home/nathan/data/kraken/h2b/giulia/radial_analysis_output/follow/individual_spatiotemporal_heatmaps/400.400.10/wt_control_wt_div/GV0796_Pos4_ID:1466_t:722_N_cells / /home/nathan/data/kraken/h2b/giulia/radial_analysis_output/follow/individual_spatiotemporal_heatmaps/400.400.10/wt_control_wt_div/GV0796_Pos4_ID:1466_t:722_N_events saved out successfully',\n",
       "  '/home/nathan/data/kraken/h2b/giulia/radial_analysis_output/follow/individual_spatiotemporal_heatmaps/400.400.10/wt_control_wt_div/GV0796_Pos4_ID:1273_t:704_N_cells / /home/nathan/data/kraken/h2b/giulia/radial_analysis_output/follow/individual_spatiotemporal_heatmaps/400.400.10/wt_control_wt_div/GV0796_Pos4_ID:1273_t:704_N_events saved out successfully',\n",
       "  '/home/nathan/data/kraken/h2b/giulia/radial_analysis_output/follow/individual_spatiotemporal_heatmaps/400.400.10/wt_control_wt_div/GV0796_Pos4_ID:2091_t:935_N_cells / /home/nathan/data/kraken/h2b/giulia/radial_analysis_output/follow/individual_spatiotemporal_heatmaps/400.400.10/wt_control_wt_div/GV0796_Pos4_ID:2091_t:935_N_events saved out successfully',\n",
       "  '/home/nathan/data/kraken/h2b/giulia/radial_analysis_output/follow/individual_spatiotemporal_heatmaps/400.400.10/wt_control_wt_div/GV0796_Pos4_ID:1457_t:838_N_cells / /home/nathan/data/kraken/h2b/giulia/radial_analysis_output/follow/individual_spatiotemporal_heatmaps/400.400.10/wt_control_wt_div/GV0796_Pos4_ID:1457_t:838_N_events saved out successfully',\n",
       "  '/home/nathan/data/kraken/h2b/giulia/radial_analysis_output/follow/individual_spatiotemporal_heatmaps/400.400.10/wt_control_wt_div/GV0796_Pos4_ID:2317_t:968_N_cells / /home/nathan/data/kraken/h2b/giulia/radial_analysis_output/follow/individual_spatiotemporal_heatmaps/400.400.10/wt_control_wt_div/GV0796_Pos4_ID:2317_t:968_N_events saved out successfully',\n",
       "  '/home/nathan/data/kraken/h2b/giulia/radial_analysis_output/follow/individual_spatiotemporal_heatmaps/400.400.10/wt_control_wt_div/GV0796_Pos4_ID:61_t:104_N_cells / /home/nathan/data/kraken/h2b/giulia/radial_analysis_output/follow/individual_spatiotemporal_heatmaps/400.400.10/wt_control_wt_div/GV0796_Pos4_ID:61_t:104_N_events saved out successfully',\n",
       "  '/home/nathan/data/kraken/h2b/giulia/radial_analysis_output/follow/individual_spatiotemporal_heatmaps/400.400.10/wt_control_wt_div/GV0796_Pos4_ID:665_t:457_N_cells / /home/nathan/data/kraken/h2b/giulia/radial_analysis_output/follow/individual_spatiotemporal_heatmaps/400.400.10/wt_control_wt_div/GV0796_Pos4_ID:665_t:457_N_events saved out successfully',\n",
       "  '/home/nathan/data/kraken/h2b/giulia/radial_analysis_output/follow/individual_spatiotemporal_heatmaps/400.400.10/wt_control_wt_div/GV0796_Pos4_ID:2433_t:969_N_cells / /home/nathan/data/kraken/h2b/giulia/radial_analysis_output/follow/individual_spatiotemporal_heatmaps/400.400.10/wt_control_wt_div/GV0796_Pos4_ID:2433_t:969_N_events saved out successfully',\n",
       "  '/home/nathan/data/kraken/h2b/giulia/radial_analysis_output/follow/individual_spatiotemporal_heatmaps/400.400.10/wt_control_wt_div/GV0796_Pos4_ID:2226_t:740_N_cells / /home/nathan/data/kraken/h2b/giulia/radial_analysis_output/follow/individual_spatiotemporal_heatmaps/400.400.10/wt_control_wt_div/GV0796_Pos4_ID:2226_t:740_N_events saved out successfully',\n",
       "  '/home/nathan/data/kraken/h2b/giulia/radial_analysis_output/follow/individual_spatiotemporal_heatmaps/400.400.10/wt_control_wt_div/GV0796_Pos4_ID:1428_t:680_N_cells / /home/nathan/data/kraken/h2b/giulia/radial_analysis_output/follow/individual_spatiotemporal_heatmaps/400.400.10/wt_control_wt_div/GV0796_Pos4_ID:1428_t:680_N_events saved out successfully',\n",
       "  '/home/nathan/data/kraken/h2b/giulia/radial_analysis_output/follow/individual_spatiotemporal_heatmaps/400.400.10/wt_control_wt_div/GV0796_Pos4_ID:1752_t:732_N_cells / /home/nathan/data/kraken/h2b/giulia/radial_analysis_output/follow/individual_spatiotemporal_heatmaps/400.400.10/wt_control_wt_div/GV0796_Pos4_ID:1752_t:732_N_events saved out successfully',\n",
       "  '/home/nathan/data/kraken/h2b/giulia/radial_analysis_output/follow/individual_spatiotemporal_heatmaps/400.400.10/wt_control_wt_div/GV0796_Pos4_ID:1319_t:720_N_cells / /home/nathan/data/kraken/h2b/giulia/radial_analysis_output/follow/individual_spatiotemporal_heatmaps/400.400.10/wt_control_wt_div/GV0796_Pos4_ID:1319_t:720_N_events saved out successfully',\n",
       "  '/home/nathan/data/kraken/h2b/giulia/radial_analysis_output/follow/individual_spatiotemporal_heatmaps/400.400.10/wt_control_wt_div/GV0796_Pos4_ID:1428_t:645_N_cells / /home/nathan/data/kraken/h2b/giulia/radial_analysis_output/follow/individual_spatiotemporal_heatmaps/400.400.10/wt_control_wt_div/GV0796_Pos4_ID:1428_t:645_N_events saved out successfully',\n",
       "  '/home/nathan/data/kraken/h2b/giulia/radial_analysis_output/follow/individual_spatiotemporal_heatmaps/400.400.10/wt_control_wt_div/GV0796_Pos4_ID:2957_t:919_N_cells / /home/nathan/data/kraken/h2b/giulia/radial_analysis_output/follow/individual_spatiotemporal_heatmaps/400.400.10/wt_control_wt_div/GV0796_Pos4_ID:2957_t:919_N_events saved out successfully',\n",
       "  '/home/nathan/data/kraken/h2b/giulia/radial_analysis_output/follow/individual_spatiotemporal_heatmaps/400.400.10/wt_control_wt_div/GV0796_Pos4_ID:81_t:80_N_cells / /home/nathan/data/kraken/h2b/giulia/radial_analysis_output/follow/individual_spatiotemporal_heatmaps/400.400.10/wt_control_wt_div/GV0796_Pos4_ID:81_t:80_N_events saved out successfully',\n",
       "  '/home/nathan/data/kraken/h2b/giulia/radial_analysis_output/follow/individual_spatiotemporal_heatmaps/400.400.10/wt_control_wt_div/GV0796_Pos4_ID:1162_t:502_N_cells / /home/nathan/data/kraken/h2b/giulia/radial_analysis_output/follow/individual_spatiotemporal_heatmaps/400.400.10/wt_control_wt_div/GV0796_Pos4_ID:1162_t:502_N_events saved out successfully',\n",
       "  '/home/nathan/data/kraken/h2b/giulia/radial_analysis_output/follow/individual_spatiotemporal_heatmaps/400.400.10/wt_control_wt_div/GV0796_Pos4_ID:943_t:724_N_cells / /home/nathan/data/kraken/h2b/giulia/radial_analysis_output/follow/individual_spatiotemporal_heatmaps/400.400.10/wt_control_wt_div/GV0796_Pos4_ID:943_t:724_N_events saved out successfully',\n",
       "  '/home/nathan/data/kraken/h2b/giulia/radial_analysis_output/follow/individual_spatiotemporal_heatmaps/400.400.10/wt_control_wt_div/GV0796_Pos4_ID:783_t:534_N_cells / /home/nathan/data/kraken/h2b/giulia/radial_analysis_output/follow/individual_spatiotemporal_heatmaps/400.400.10/wt_control_wt_div/GV0796_Pos4_ID:783_t:534_N_events saved out successfully',\n",
       "  '/home/nathan/data/kraken/h2b/giulia/radial_analysis_output/follow/individual_spatiotemporal_heatmaps/400.400.10/wt_control_wt_div/GV0796_Pos4_ID:2439_t:974_N_cells / /home/nathan/data/kraken/h2b/giulia/radial_analysis_output/follow/individual_spatiotemporal_heatmaps/400.400.10/wt_control_wt_div/GV0796_Pos4_ID:2439_t:974_N_events saved out successfully',\n",
       "  '/home/nathan/data/kraken/h2b/giulia/radial_analysis_output/follow/individual_spatiotemporal_heatmaps/400.400.10/wt_control_wt_div/GV0796_Pos5_ID:462_t:590_N_cells / /home/nathan/data/kraken/h2b/giulia/radial_analysis_output/follow/individual_spatiotemporal_heatmaps/400.400.10/wt_control_wt_div/GV0796_Pos5_ID:462_t:590_N_events saved out successfully',\n",
       "  '/home/nathan/data/kraken/h2b/giulia/radial_analysis_output/follow/individual_spatiotemporal_heatmaps/400.400.10/wt_control_wt_div/GV0796_Pos5_ID:706_t:816_N_cells / /home/nathan/data/kraken/h2b/giulia/radial_analysis_output/follow/individual_spatiotemporal_heatmaps/400.400.10/wt_control_wt_div/GV0796_Pos5_ID:706_t:816_N_events saved out successfully',\n",
       "  '/home/nathan/data/kraken/h2b/giulia/radial_analysis_output/follow/individual_spatiotemporal_heatmaps/400.400.10/wt_control_wt_div/GV0796_Pos5_ID:845_t:885_N_cells / /home/nathan/data/kraken/h2b/giulia/radial_analysis_output/follow/individual_spatiotemporal_heatmaps/400.400.10/wt_control_wt_div/GV0796_Pos5_ID:845_t:885_N_events saved out successfully',\n",
       "  '/home/nathan/data/kraken/h2b/giulia/radial_analysis_output/follow/individual_spatiotemporal_heatmaps/400.400.10/wt_control_wt_div/GV0796_Pos5_ID:334_t:519_N_cells / /home/nathan/data/kraken/h2b/giulia/radial_analysis_output/follow/individual_spatiotemporal_heatmaps/400.400.10/wt_control_wt_div/GV0796_Pos5_ID:334_t:519_N_events saved out successfully',\n",
       "  '/home/nathan/data/kraken/h2b/giulia/radial_analysis_output/follow/individual_spatiotemporal_heatmaps/400.400.10/wt_control_wt_div/GV0796_Pos5_ID:567_t:804_N_cells / /home/nathan/data/kraken/h2b/giulia/radial_analysis_output/follow/individual_spatiotemporal_heatmaps/400.400.10/wt_control_wt_div/GV0796_Pos5_ID:567_t:804_N_events saved out successfully',\n",
       "  '/home/nathan/data/kraken/h2b/giulia/radial_analysis_output/follow/individual_spatiotemporal_heatmaps/400.400.10/wt_control_wt_div/GV0796_Pos5_ID:514_t:613_N_cells / /home/nathan/data/kraken/h2b/giulia/radial_analysis_output/follow/individual_spatiotemporal_heatmaps/400.400.10/wt_control_wt_div/GV0796_Pos5_ID:514_t:613_N_events saved out successfully',\n",
       "  '/home/nathan/data/kraken/h2b/giulia/radial_analysis_output/follow/individual_spatiotemporal_heatmaps/400.400.10/wt_control_wt_div/GV0796_Pos5_ID:261_t:509_N_cells / /home/nathan/data/kraken/h2b/giulia/radial_analysis_output/follow/individual_spatiotemporal_heatmaps/400.400.10/wt_control_wt_div/GV0796_Pos5_ID:261_t:509_N_events saved out successfully',\n",
       "  '/home/nathan/data/kraken/h2b/giulia/radial_analysis_output/follow/individual_spatiotemporal_heatmaps/400.400.10/wt_control_wt_div/GV0796_Pos5_ID:382_t:513_N_cells / /home/nathan/data/kraken/h2b/giulia/radial_analysis_output/follow/individual_spatiotemporal_heatmaps/400.400.10/wt_control_wt_div/GV0796_Pos5_ID:382_t:513_N_events saved out successfully',\n",
       "  '/home/nathan/data/kraken/h2b/giulia/radial_analysis_output/follow/individual_spatiotemporal_heatmaps/400.400.10/wt_control_wt_div/GV0796_Pos5_ID:1011_t:905_N_cells / /home/nathan/data/kraken/h2b/giulia/radial_analysis_output/follow/individual_spatiotemporal_heatmaps/400.400.10/wt_control_wt_div/GV0796_Pos5_ID:1011_t:905_N_events saved out successfully',\n",
       "  '/home/nathan/data/kraken/h2b/giulia/radial_analysis_output/follow/individual_spatiotemporal_heatmaps/400.400.10/wt_control_wt_div/GV0796_Pos5_ID:515_t:728_N_cells / /home/nathan/data/kraken/h2b/giulia/radial_analysis_output/follow/individual_spatiotemporal_heatmaps/400.400.10/wt_control_wt_div/GV0796_Pos5_ID:515_t:728_N_events saved out successfully',\n",
       "  '/home/nathan/data/kraken/h2b/giulia/radial_analysis_output/follow/individual_spatiotemporal_heatmaps/400.400.10/wt_control_wt_div/GV0796_Pos5_ID:1005_t:895_N_cells / /home/nathan/data/kraken/h2b/giulia/radial_analysis_output/follow/individual_spatiotemporal_heatmaps/400.400.10/wt_control_wt_div/GV0796_Pos5_ID:1005_t:895_N_events saved out successfully',\n",
       "  '/home/nathan/data/kraken/h2b/giulia/radial_analysis_output/follow/individual_spatiotemporal_heatmaps/400.400.10/wt_control_wt_div/GV0796_Pos5_ID:409_t:571_N_cells / /home/nathan/data/kraken/h2b/giulia/radial_analysis_output/follow/individual_spatiotemporal_heatmaps/400.400.10/wt_control_wt_div/GV0796_Pos5_ID:409_t:571_N_events saved out successfully',\n",
       "  '/home/nathan/data/kraken/h2b/giulia/radial_analysis_output/follow/individual_spatiotemporal_heatmaps/400.400.10/wt_control_wt_div/GV0796_Pos5_ID:731_t:866_N_cells / /home/nathan/data/kraken/h2b/giulia/radial_analysis_output/follow/individual_spatiotemporal_heatmaps/400.400.10/wt_control_wt_div/GV0796_Pos5_ID:731_t:866_N_events saved out successfully',\n",
       "  '/home/nathan/data/kraken/h2b/giulia/radial_analysis_output/follow/individual_spatiotemporal_heatmaps/400.400.10/wt_control_wt_div/GV0796_Pos5_ID:1133_t:938_N_cells / /home/nathan/data/kraken/h2b/giulia/radial_analysis_output/follow/individual_spatiotemporal_heatmaps/400.400.10/wt_control_wt_div/GV0796_Pos5_ID:1133_t:938_N_events saved out successfully',\n",
       "  '/home/nathan/data/kraken/h2b/giulia/radial_analysis_output/follow/individual_spatiotemporal_heatmaps/400.400.10/wt_control_wt_div/GV0796_Pos5_ID:726_t:733_N_cells / /home/nathan/data/kraken/h2b/giulia/radial_analysis_output/follow/individual_spatiotemporal_heatmaps/400.400.10/wt_control_wt_div/GV0796_Pos5_ID:726_t:733_N_events saved out successfully',\n",
       "  '/home/nathan/data/kraken/h2b/giulia/radial_analysis_output/follow/individual_spatiotemporal_heatmaps/400.400.10/wt_control_wt_div/GV0796_Pos5_ID:462_t:576_N_cells / /home/nathan/data/kraken/h2b/giulia/radial_analysis_output/follow/individual_spatiotemporal_heatmaps/400.400.10/wt_control_wt_div/GV0796_Pos5_ID:462_t:576_N_events saved out successfully',\n",
       "  '/home/nathan/data/kraken/h2b/giulia/radial_analysis_output/follow/individual_spatiotemporal_heatmaps/400.400.10/wt_control_wt_div/GV0796_Pos5_ID:1182_t:994_N_cells / /home/nathan/data/kraken/h2b/giulia/radial_analysis_output/follow/individual_spatiotemporal_heatmaps/400.400.10/wt_control_wt_div/GV0796_Pos5_ID:1182_t:994_N_events saved out successfully',\n",
       "  '/home/nathan/data/kraken/h2b/giulia/radial_analysis_output/follow/individual_spatiotemporal_heatmaps/400.400.10/wt_control_wt_div/GV0796_Pos5_ID:548_t:609_N_cells / /home/nathan/data/kraken/h2b/giulia/radial_analysis_output/follow/individual_spatiotemporal_heatmaps/400.400.10/wt_control_wt_div/GV0796_Pos5_ID:548_t:609_N_events saved out successfully',\n",
       "  '/home/nathan/data/kraken/h2b/giulia/radial_analysis_output/follow/individual_spatiotemporal_heatmaps/400.400.10/wt_control_wt_div/GV0796_Pos5_ID:756_t:733_N_cells / /home/nathan/data/kraken/h2b/giulia/radial_analysis_output/follow/individual_spatiotemporal_heatmaps/400.400.10/wt_control_wt_div/GV0796_Pos5_ID:756_t:733_N_events saved out successfully',\n",
       "  '/home/nathan/data/kraken/h2b/giulia/radial_analysis_output/follow/individual_spatiotemporal_heatmaps/400.400.10/wt_control_wt_div/GV0796_Pos5_ID:930_t:981_N_cells / /home/nathan/data/kraken/h2b/giulia/radial_analysis_output/follow/individual_spatiotemporal_heatmaps/400.400.10/wt_control_wt_div/GV0796_Pos5_ID:930_t:981_N_events saved out successfully',\n",
       "  '/home/nathan/data/kraken/h2b/giulia/radial_analysis_output/follow/individual_spatiotemporal_heatmaps/400.400.10/wt_control_wt_div/GV0796_Pos5_ID:334_t:564_N_cells / /home/nathan/data/kraken/h2b/giulia/radial_analysis_output/follow/individual_spatiotemporal_heatmaps/400.400.10/wt_control_wt_div/GV0796_Pos5_ID:334_t:564_N_events saved out successfully',\n",
       "  '/home/nathan/data/kraken/h2b/giulia/radial_analysis_output/follow/individual_spatiotemporal_heatmaps/400.400.10/wt_control_wt_div/GV0796_Pos5_ID:701_t:752_N_cells / /home/nathan/data/kraken/h2b/giulia/radial_analysis_output/follow/individual_spatiotemporal_heatmaps/400.400.10/wt_control_wt_div/GV0796_Pos5_ID:701_t:752_N_events saved out successfully',\n",
       "  '/home/nathan/data/kraken/h2b/giulia/radial_analysis_output/follow/individual_spatiotemporal_heatmaps/400.400.10/wt_control_wt_div/GV0796_Pos5_ID:908_t:815_N_cells / /home/nathan/data/kraken/h2b/giulia/radial_analysis_output/follow/individual_spatiotemporal_heatmaps/400.400.10/wt_control_wt_div/GV0796_Pos5_ID:908_t:815_N_events saved out successfully',\n",
       "  '/home/nathan/data/kraken/h2b/giulia/radial_analysis_output/follow/individual_spatiotemporal_heatmaps/400.400.10/wt_control_wt_div/GV0796_Pos5_ID:606_t:665_N_cells / /home/nathan/data/kraken/h2b/giulia/radial_analysis_output/follow/individual_spatiotemporal_heatmaps/400.400.10/wt_control_wt_div/GV0796_Pos5_ID:606_t:665_N_events saved out successfully',\n",
       "  '/home/nathan/data/kraken/h2b/giulia/radial_analysis_output/follow/individual_spatiotemporal_heatmaps/400.400.10/wt_control_wt_div/GV0796_Pos5_ID:140_t:172_N_cells / /home/nathan/data/kraken/h2b/giulia/radial_analysis_output/follow/individual_spatiotemporal_heatmaps/400.400.10/wt_control_wt_div/GV0796_Pos5_ID:140_t:172_N_events saved out successfully',\n",
       "  '/home/nathan/data/kraken/h2b/giulia/radial_analysis_output/follow/individual_spatiotemporal_heatmaps/400.400.10/wt_control_wt_div/GV0796_Pos6_ID:286_t:476_N_cells / /home/nathan/data/kraken/h2b/giulia/radial_analysis_output/follow/individual_spatiotemporal_heatmaps/400.400.10/wt_control_wt_div/GV0796_Pos6_ID:286_t:476_N_events saved out successfully',\n",
       "  '/home/nathan/data/kraken/h2b/giulia/radial_analysis_output/follow/individual_spatiotemporal_heatmaps/400.400.10/wt_control_wt_div/GV0796_Pos6_ID:596_t:889_N_cells / /home/nathan/data/kraken/h2b/giulia/radial_analysis_output/follow/individual_spatiotemporal_heatmaps/400.400.10/wt_control_wt_div/GV0796_Pos6_ID:596_t:889_N_events saved out successfully',\n",
       "  '/home/nathan/data/kraken/h2b/giulia/radial_analysis_output/follow/individual_spatiotemporal_heatmaps/400.400.10/wt_control_wt_div/GV0796_Pos6_ID:471_t:725_N_cells / /home/nathan/data/kraken/h2b/giulia/radial_analysis_output/follow/individual_spatiotemporal_heatmaps/400.400.10/wt_control_wt_div/GV0796_Pos6_ID:471_t:725_N_events saved out successfully',\n",
       "  '/home/nathan/data/kraken/h2b/giulia/radial_analysis_output/follow/individual_spatiotemporal_heatmaps/400.400.10/wt_control_wt_div/GV0796_Pos6_ID:57_t:270_N_cells / /home/nathan/data/kraken/h2b/giulia/radial_analysis_output/follow/individual_spatiotemporal_heatmaps/400.400.10/wt_control_wt_div/GV0796_Pos6_ID:57_t:270_N_events saved out successfully',\n",
       "  '/home/nathan/data/kraken/h2b/giulia/radial_analysis_output/follow/individual_spatiotemporal_heatmaps/400.400.10/wt_control_wt_div/GV0796_Pos6_ID:621_t:930_N_cells / /home/nathan/data/kraken/h2b/giulia/radial_analysis_output/follow/individual_spatiotemporal_heatmaps/400.400.10/wt_control_wt_div/GV0796_Pos6_ID:621_t:930_N_events saved out successfully',\n",
       "  '/home/nathan/data/kraken/h2b/giulia/radial_analysis_output/follow/individual_spatiotemporal_heatmaps/400.400.10/wt_control_wt_div/GV0796_Pos6_ID:760_t:863_N_cells / /home/nathan/data/kraken/h2b/giulia/radial_analysis_output/follow/individual_spatiotemporal_heatmaps/400.400.10/wt_control_wt_div/GV0796_Pos6_ID:760_t:863_N_events saved out successfully',\n",
       "  '/home/nathan/data/kraken/h2b/giulia/radial_analysis_output/follow/individual_spatiotemporal_heatmaps/400.400.10/wt_control_wt_div/GV0796_Pos6_ID:471_t:657_N_cells / /home/nathan/data/kraken/h2b/giulia/radial_analysis_output/follow/individual_spatiotemporal_heatmaps/400.400.10/wt_control_wt_div/GV0796_Pos6_ID:471_t:657_N_events saved out successfully',\n",
       "  '/home/nathan/data/kraken/h2b/giulia/radial_analysis_output/follow/individual_spatiotemporal_heatmaps/400.400.10/wt_control_wt_div/GV0796_Pos6_ID:408_t:725_N_cells / /home/nathan/data/kraken/h2b/giulia/radial_analysis_output/follow/individual_spatiotemporal_heatmaps/400.400.10/wt_control_wt_div/GV0796_Pos6_ID:408_t:725_N_events saved out successfully',\n",
       "  '/home/nathan/data/kraken/h2b/giulia/radial_analysis_output/follow/individual_spatiotemporal_heatmaps/400.400.10/wt_control_wt_div/GV0796_Pos6_ID:517_t:738_N_cells / /home/nathan/data/kraken/h2b/giulia/radial_analysis_output/follow/individual_spatiotemporal_heatmaps/400.400.10/wt_control_wt_div/GV0796_Pos6_ID:517_t:738_N_events saved out successfully',\n",
       "  '/home/nathan/data/kraken/h2b/giulia/radial_analysis_output/follow/individual_spatiotemporal_heatmaps/400.400.10/wt_control_wt_div/GV0796_Pos6_ID:719_t:932_N_cells / /home/nathan/data/kraken/h2b/giulia/radial_analysis_output/follow/individual_spatiotemporal_heatmaps/400.400.10/wt_control_wt_div/GV0796_Pos6_ID:719_t:932_N_events saved out successfully',\n",
       "  '/home/nathan/data/kraken/h2b/giulia/radial_analysis_output/follow/individual_spatiotemporal_heatmaps/400.400.10/wt_control_wt_div/GV0796_Pos6_ID:760_t:963_N_cells / /home/nathan/data/kraken/h2b/giulia/radial_analysis_output/follow/individual_spatiotemporal_heatmaps/400.400.10/wt_control_wt_div/GV0796_Pos6_ID:760_t:963_N_events saved out successfully',\n",
       "  '/home/nathan/data/kraken/h2b/giulia/radial_analysis_output/follow/individual_spatiotemporal_heatmaps/400.400.10/wt_control_wt_div/GV0796_Pos6_ID:271_t:507_N_cells / /home/nathan/data/kraken/h2b/giulia/radial_analysis_output/follow/individual_spatiotemporal_heatmaps/400.400.10/wt_control_wt_div/GV0796_Pos6_ID:271_t:507_N_events saved out successfully',\n",
       "  '/home/nathan/data/kraken/h2b/giulia/radial_analysis_output/follow/individual_spatiotemporal_heatmaps/400.400.10/wt_control_wt_div/GV0796_Pos6_ID:692_t:916_N_cells / /home/nathan/data/kraken/h2b/giulia/radial_analysis_output/follow/individual_spatiotemporal_heatmaps/400.400.10/wt_control_wt_div/GV0796_Pos6_ID:692_t:916_N_events saved out successfully',\n",
       "  '/home/nathan/data/kraken/h2b/giulia/radial_analysis_output/follow/individual_spatiotemporal_heatmaps/400.400.10/wt_control_wt_div/GV0796_Pos6_ID:765_t:857_N_cells / /home/nathan/data/kraken/h2b/giulia/radial_analysis_output/follow/individual_spatiotemporal_heatmaps/400.400.10/wt_control_wt_div/GV0796_Pos6_ID:765_t:857_N_events saved out successfully',\n",
       "  '/home/nathan/data/kraken/h2b/giulia/radial_analysis_output/follow/individual_spatiotemporal_heatmaps/400.400.10/wt_control_wt_div/GV0796_Pos6_ID:817_t:863_N_cells / /home/nathan/data/kraken/h2b/giulia/radial_analysis_output/follow/individual_spatiotemporal_heatmaps/400.400.10/wt_control_wt_div/GV0796_Pos6_ID:817_t:863_N_events saved out successfully',\n",
       "  '/home/nathan/data/kraken/h2b/giulia/radial_analysis_output/follow/individual_spatiotemporal_heatmaps/400.400.10/wt_control_wt_div/GV0796_Pos6_ID:765_t:914_N_cells / /home/nathan/data/kraken/h2b/giulia/radial_analysis_output/follow/individual_spatiotemporal_heatmaps/400.400.10/wt_control_wt_div/GV0796_Pos6_ID:765_t:914_N_events saved out successfully',\n",
       "  '/home/nathan/data/kraken/h2b/giulia/radial_analysis_output/follow/individual_spatiotemporal_heatmaps/400.400.10/wt_control_wt_div/GV0796_Pos6_ID:213_t:332_N_cells / /home/nathan/data/kraken/h2b/giulia/radial_analysis_output/follow/individual_spatiotemporal_heatmaps/400.400.10/wt_control_wt_div/GV0796_Pos6_ID:213_t:332_N_events saved out successfully',\n",
       "  '/home/nathan/data/kraken/h2b/giulia/radial_analysis_output/follow/individual_spatiotemporal_heatmaps/400.400.10/wt_control_wt_div/GV0796_Pos6_ID:644_t:782_N_cells / /home/nathan/data/kraken/h2b/giulia/radial_analysis_output/follow/individual_spatiotemporal_heatmaps/400.400.10/wt_control_wt_div/GV0796_Pos6_ID:644_t:782_N_events saved out successfully',\n",
       "  '/home/nathan/data/kraken/h2b/giulia/radial_analysis_output/follow/individual_spatiotemporal_heatmaps/400.400.10/wt_control_wt_div/GV0796_Pos6_ID:900_t:883_N_cells / /home/nathan/data/kraken/h2b/giulia/radial_analysis_output/follow/individual_spatiotemporal_heatmaps/400.400.10/wt_control_wt_div/GV0796_Pos6_ID:900_t:883_N_events saved out successfully',\n",
       "  '/home/nathan/data/kraken/h2b/giulia/radial_analysis_output/follow/individual_spatiotemporal_heatmaps/400.400.10/wt_control_wt_div/GV0796_Pos6_ID:567_t:691_N_cells / /home/nathan/data/kraken/h2b/giulia/radial_analysis_output/follow/individual_spatiotemporal_heatmaps/400.400.10/wt_control_wt_div/GV0796_Pos6_ID:567_t:691_N_events saved out successfully',\n",
       "  '/home/nathan/data/kraken/h2b/giulia/radial_analysis_output/follow/individual_spatiotemporal_heatmaps/400.400.10/wt_control_wt_div/GV0796_Pos6_ID:411_t:713_N_cells / /home/nathan/data/kraken/h2b/giulia/radial_analysis_output/follow/individual_spatiotemporal_heatmaps/400.400.10/wt_control_wt_div/GV0796_Pos6_ID:411_t:713_N_events saved out successfully',\n",
       "  '/home/nathan/data/kraken/h2b/giulia/radial_analysis_output/follow/individual_spatiotemporal_heatmaps/400.400.10/wt_control_wt_div/GV0796_Pos6_ID:524_t:661_N_cells / /home/nathan/data/kraken/h2b/giulia/radial_analysis_output/follow/individual_spatiotemporal_heatmaps/400.400.10/wt_control_wt_div/GV0796_Pos6_ID:524_t:661_N_events saved out successfully',\n",
       "  '/home/nathan/data/kraken/h2b/giulia/radial_analysis_output/follow/individual_spatiotemporal_heatmaps/400.400.10/wt_control_wt_div/GV0796_Pos6_ID:786_t:918_N_cells / /home/nathan/data/kraken/h2b/giulia/radial_analysis_output/follow/individual_spatiotemporal_heatmaps/400.400.10/wt_control_wt_div/GV0796_Pos6_ID:786_t:918_N_events saved out successfully',\n",
       "  '/home/nathan/data/kraken/h2b/giulia/radial_analysis_output/follow/individual_spatiotemporal_heatmaps/400.400.10/wt_control_wt_div/GV0796_Pos6_ID:765_t:952_N_cells / /home/nathan/data/kraken/h2b/giulia/radial_analysis_output/follow/individual_spatiotemporal_heatmaps/400.400.10/wt_control_wt_div/GV0796_Pos6_ID:765_t:952_N_events saved out successfully',\n",
       "  '/home/nathan/data/kraken/h2b/giulia/radial_analysis_output/follow/individual_spatiotemporal_heatmaps/400.400.10/wt_control_wt_div/GV0796_Pos6_ID:706_t:839_N_cells / /home/nathan/data/kraken/h2b/giulia/radial_analysis_output/follow/individual_spatiotemporal_heatmaps/400.400.10/wt_control_wt_div/GV0796_Pos6_ID:706_t:839_N_events saved out successfully'])"
      ]
     },
     "execution_count": 10,
     "metadata": {},
     "output_type": "execute_result"
    }
   ],
   "source": [
    "error_log, success_log"
   ]
  },
  {
   "cell_type": "markdown",
   "metadata": {},
   "source": [
    "# debug - checking if i have all experiment data type"
   ]
  },
  {
   "cell_type": "code",
   "execution_count": 11,
   "metadata": {},
   "outputs": [
    {
     "data": {
      "text/plain": [
       "{'GV0794/Pos4': '50:50',\n",
       " 'GV0794/Pos5': '10:90',\n",
       " 'GV0794/Pos6': '10:90',\n",
       " 'GV0794/Pos7': '50:50',\n",
       " 'GV0794/Pos8': '90:10',\n",
       " 'GV0795/Pos3': '90:10',\n",
       " 'GV0795/Pos4': '50:50',\n",
       " 'GV0795/Pos5': '10:90',\n",
       " 'GV0795/Pos6': '10:90',\n",
       " 'GV0795/Pos7': '50:50',\n",
       " 'GV0795/Pos8': '90:10',\n",
       " 'GV0795/Pos16': '90:10',\n",
       " 'GV0795/Pos17': '50:50',\n",
       " 'GV0795/Pos18': '10:90',\n",
       " 'GV0796/Pos3': '90:10',\n",
       " 'GV0796/Pos4': '50:50',\n",
       " 'GV0796/Pos5': '10:90',\n",
       " 'GV0796/Pos6': '10:90'}"
      ]
     },
     "execution_count": 11,
     "metadata": {},
     "output_type": "execute_result"
    }
   ],
   "source": [
    "expt_dict"
   ]
  },
  {
   "cell_type": "markdown",
   "metadata": {},
   "source": [
    "## 4) Compile individual heatmaps into cumulative plots "
   ]
  },
  {
   "cell_type": "markdown",
   "metadata": {},
   "source": [
    "Compile cumulative heatmap by iteratively adding single-apoptosis heatmaps from previous output or different pre-established output "
   ]
  },
  {
   "cell_type": "code",
   "execution_count": 12,
   "metadata": {},
   "outputs": [],
   "source": [
    "#single_cell_heatmap_location = output_path\n",
    "single_cell_heatmap_location = '/home/nathan/data/kraken/h2b/giulia/radial_analysis_output/individual_spatiotemporal_heatmaps/800,20/wt_apop_scr_div'\n",
    "save_path = '/home/nathan/data/kraken/h2b/giulia/radial_analysis_output/cumulative_plots/800,20/wt_apop_scr_div'\n",
    "Path(save_path).mkdir(parents=True, exist_ok=True)\n",
    "radius, t_range, num_bins = 800, 800, 20#400, 400, 10"
   ]
  },
  {
   "cell_type": "code",
   "execution_count": null,
   "metadata": {},
   "outputs": [],
   "source": [
    "N_cells, N_events = np.zeros((num_bins, num_bins)), np.zeros((num_bins, num_bins))\n",
    "N = 0\n",
    "for heatmap_ID in natsorted(os.listdir(single_cell_heatmap_location)):\n",
    "    if 'N_cells' in heatmap_ID:\n",
    "        N_cells += np.load(os.path.join(single_cell_heatmap_location,heatmap_ID))\n",
    "    if 'N_events' in heatmap_ID:\n",
    "        N_events += np.load(os.path.join(single_cell_heatmap_location,heatmap_ID))\n",
    "        N+=1\n",
    "N"
   ]
  },
  {
   "cell_type": "code",
   "execution_count": null,
   "metadata": {},
   "outputs": [],
   "source": [
    "print(\"The number of scr. cells counted is equal to = \", N_cells.sum())"
   ]
  },
  {
   "cell_type": "markdown",
   "metadata": {},
   "source": [
    "Function to plot heatmaps: \n",
    "\n",
    "`plot_cumulative(input_2d_hist, num_bins, radius, t_range, title, expt_label, cb_label, save_path, SI = True)`\n",
    "\n",
    "Where the variables needed are as follows:\n",
    "\n",
    "- `input_2d_hist` = Input 2D histogram\n",
    "- `num_bins` = Number of bins the histogram is sorted into\n",
    "- `radius` = Spatial extent of scan\n",
    "- `t_range` = Temporal range of scan\n",
    "- `title` = Title/save out filename of heatmap\n",
    "- `label` = Optional label for heatmap\n",
    "- `cb_label` = Label for colourbar\n",
    "- `save_path` = Ouput save path, if empty string then plot will not be saved out\n",
    "- `SI` = If True then plots the xy in SI base unit instead of pixel/frames"
   ]
  },
  {
   "cell_type": "code",
   "execution_count": null,
   "metadata": {},
   "outputs": [],
   "source": [
    "render.plot_cumulative(input_2d_hist = N_cells,\n",
    "                num_bins  = 20,\n",
    "                radius  = 800,\n",
    "                t_range = 800, \n",
    "                title = 'Spatiotemporal dist. of Scribble cells \\n around wild-type apoptoses (N={})'.format(N), \n",
    "                label = '', \n",
    "                cb_label = 'Number of cell apperances', \n",
    "                save_path = '/home/nathan/data/kraken/h2b/giulia/radial_analysis_output/cumulative_plots/800,20/wt_apop_scr_div',\n",
    "                SI = True) ## SI is standard "
   ]
  },
  {
   "cell_type": "code",
   "execution_count": null,
   "metadata": {},
   "outputs": [],
   "source": [
    "render.plot_cumulative(input_2d_hist = N_events,\n",
    "                num_bins  = 20,\n",
    "                radius  = 800,\n",
    "                t_range = 800, \n",
    "                title = 'Spatiotemporal dist. of Scribble mitoses \\n around wild-type apoptoses (N={})'.format(N), \n",
    "                label = '', \n",
    "                cb_label = 'Number of Scribble divisions', \n",
    "                save_path = '/home/nathan/data/kraken/h2b/giulia/radial_analysis_output/cumulative_plots/800,20/wt_apop_scr_div',\n",
    "                SI = True)"
   ]
  },
  {
   "cell_type": "code",
   "execution_count": null,
   "metadata": {},
   "outputs": [],
   "source": [
    "render.plot_cumulative(input_2d_hist = N_events/N_cells,\n",
    "                num_bins  = 20,\n",
    "                radius  = 800,\n",
    "                t_range = 800, \n",
    "                title = 'Spatiotemporal dist. of probability of Scribble division \\n around wild-type apoptoses (N={})'.format(N), \n",
    "                label = '', \n",
    "                cb_label = 'Probability of division', \n",
    "                save_path = '/home/nathan/data/kraken/h2b/giulia/radial_analysis_output/cumulative_plots/800,20/wt_apop_scr_div',\n",
    "                SI = True)"
   ]
  },
  {
   "cell_type": "markdown",
   "metadata": {},
   "source": [
    "# 5) Miscellaneous section: segregating cumulative plots based on experiment type"
   ]
  },
  {
   "cell_type": "markdown",
   "metadata": {},
   "source": [
    "50:50 expt"
   ]
  },
  {
   "cell_type": "code",
   "execution_count": null,
   "metadata": {},
   "outputs": [],
   "source": [
    "single_cell_heatmap_location = '/home/nathan/data/kraken/h2b/giulia/radial_analysis_output/individual_spatiotemporal_heatmaps/800,20/scr_apop_wt_div'\n",
    "save_path = '/home/nathan/data/kraken/h2b/giulia/radial_analysis_output/cumulative_plots/800,20/scr_apop_wt_div/expt_types'\n",
    "Path(save_path).mkdir(parents=True, exist_ok=True)"
   ]
  },
  {
   "cell_type": "code",
   "execution_count": null,
   "metadata": {},
   "outputs": [],
   "source": [
    "expt_list_5050 = ['GV0794/Pos4',\n",
    "                 'GV0794/Pos7',\n",
    "                 'GV0794/Pos16',\n",
    "                 'GV0795/Pos4',\n",
    "                 'GV0795/Pos7',\n",
    "                 'GV0795/Pos17',\n",
    "                 'GV0796/Pos4',\n",
    "                 'GV0796/Pos7',\n",
    "                 'GV0796/Pos21',\n",
    "                 'GV0796/Pos22',\n",
    "                 'GV0797/Pos4',\n",
    "                 'GV0797/Pos7',\n",
    "                 'GV0797/Pos20',\n",
    "                 'GV0797/Pos21',\n",
    "                 'GV0798/Pos4',\n",
    "                 'GV0798/Pos7',\n",
    "                 'GV0798/Pos20',\n",
    "                 'GV0798/Pos21',\n",
    "                 'GV0800/Pos4', \n",
    "                 'GV0800/Pos7',\n",
    "                 'GV0800/Pos16',\n",
    "                 'GV0801/Pos4',\n",
    "                 'GV0802/Pos4',\n",
    "                 'GV0804/Pos4',\n",
    "                 'GV0805/Pos4',\n",
    "                 'GV0806/Pos4',\n",
    "                 'GV0807/Pos4',\n",
    "                 'GV0812/Pos0',\n",
    "                 'GV0812/Pos1',\n",
    "                 'GV0812/Pos2',\n",
    "                 'GV0812/Pos3',\n",
    "                 'GV0812/Pos4',\n",
    "                 'GV0812/Pos5',\n",
    "                 'GV0813/Pos0',\n",
    "                 'GV0813/Pos1',\n",
    "                 'GV0813/Pos2',\n",
    "                 'GV0813/Pos3',\n",
    "                 'GV0813/Pos4',\n",
    "                 'GV0813/Pos5',\n",
    "                 'GV0814/Pos0',\n",
    "                 'GV0814/Pos11',\n",
    "                 'GV0814/Pos12',\n",
    "                 'GV0814/Pos23',\n",
    "                 'GV0815/Pos0',\n",
    "                 'GV0815/Pos11',\n",
    "                 'GV0815/Pos12',\n",
    "                 'GV0815/Pos23',\n",
    "                 'GV0816/Pos0',\n",
    "                 'GV0816/Pos13',\n",
    "                 'GV0816/Pos14',\n",
    "                 'GV0816/Pos23',\n",
    "                 'GV0817/Pos0',\n",
    "                 'GV0817/Pos11',\n",
    "                 'GV0817/Pos12',\n",
    "                 'GV0817/Pos23',\n",
    "                 'GV0818/Pos12',\n",
    "                 'GV0818/Pos13',\n",
    "                 'GV0819/Pos0',\n",
    "                 'GV0819/Pos1',\n",
    "                 'GV0819/Pos2',\n",
    "                 'GV0819/Pos3',\n",
    "                 'GV0819/Pos4',\n",
    "                 'GV0819/Pos5',\n",
    "                 'GV0820/Pos0',\n",
    "                 'GV0820/Pos1',\n",
    "                 'GV0820/Pos2',\n",
    "                 'GV0820/Pos3',\n",
    "                 'GV0820/Pos4',\n",
    "                 'GV0820/Pos5']"
   ]
  },
  {
   "cell_type": "code",
   "execution_count": null,
   "metadata": {},
   "outputs": [],
   "source": [
    "N_cells, N_events = np.zeros((num_bins, num_bins)), np.zeros((num_bins, num_bins))\n",
    "N = 0\n",
    "for heatmap_ID in natsorted(os.listdir(single_cell_heatmap_location)):\n",
    "    #print(heatmap_ID.split('_P'))\n",
    "    expt = 'GV' +str(re.findall(r\"GV(\\d+)\", heatmap_ID)[0])\n",
    "    position = re.findall(r\"Pos(\\d+)\", heatmap_ID)[0]\n",
    "    if os.path.join(expt,'Pos'+position) in expt_list_5050:\n",
    "        if 'N_cells' in heatmap_ID:\n",
    "            N_cells += np.load(os.path.join(single_cell_heatmap_location,heatmap_ID))\n",
    "        if 'N_events' in heatmap_ID:\n",
    "            N_events += np.load(os.path.join(single_cell_heatmap_location,heatmap_ID))\n",
    "            N+=1\n",
    "N"
   ]
  },
  {
   "cell_type": "code",
   "execution_count": null,
   "metadata": {},
   "outputs": [],
   "source": [
    "render.plot_cumulative(input_2d_hist = N_cells,\n",
    "                num_bins  = 20,\n",
    "                radius  = 800,\n",
    "                t_range = 800, \n",
    "                title = 'Spatiotemporal dist. of wild-type cells \\n around Scribble apoptoses (N={}, 50:50 wt:scr expts only)'.format(N), \n",
    "                label = '', \n",
    "                cb_label = 'Number of cell apperances', \n",
    "                save_path = '/home/nathan/data/kraken/h2b/giulia/radial_analysis_output/cumulative_plots/800,20/scr_apop_wt_div/expt_types',\n",
    "                SI = True) ## SI is standard "
   ]
  },
  {
   "cell_type": "code",
   "execution_count": null,
   "metadata": {},
   "outputs": [],
   "source": [
    "render.plot_cumulative(input_2d_hist = N_events,\n",
    "                num_bins  = 20,\n",
    "                radius  = 800,\n",
    "                t_range = 800, \n",
    "                title = 'Spatiotemporal dist. of wild-type division \\n around Scribble apoptoses (N={}, 50:50 wt:scr expts only)'.format(N), \n",
    "                label = '', \n",
    "                cb_label = 'Number of wild-type divisions', \n",
    "                save_path = '/home/nathan/data/kraken/h2b/giulia/radial_analysis_output/cumulative_plots/800,20/scr_apop_wt_div/expt_types',\n",
    "                SI = True)"
   ]
  },
  {
   "cell_type": "code",
   "execution_count": null,
   "metadata": {},
   "outputs": [],
   "source": [
    "render.plot_cumulative(input_2d_hist = N_events/N_cells,\n",
    "                num_bins  = 20,\n",
    "                radius  = 800,\n",
    "                t_range = 800,  \n",
    "                title = 'Spatiotemporal dist. of probability of Scribble division \\n around wild-type apoptoses (N={}, 50:50 wt:scr expts only)'.format(N), \n",
    "                label = '', \n",
    "                cb_label = 'Probability of division', \n",
    "                save_path = '/home/nathan/data/kraken/h2b/giulia/radial_analysis_output/cumulative_plots/800,20/scr_apop_wt_div/expt_types',\n",
    "                SI = True)"
   ]
  },
  {
   "cell_type": "markdown",
   "metadata": {},
   "source": [
    "90:10 wt:scr"
   ]
  },
  {
   "cell_type": "code",
   "execution_count": null,
   "metadata": {},
   "outputs": [],
   "source": [
    "expt_list_9010 = ['GV0794/Pos3',\n",
    " 'GV0794/Pos8',\n",
    " 'GV0794/Pos15',\n",
    " 'GV0795/Pos3',\n",
    " 'GV0795/Pos8',\n",
    " 'GV0795/Pos16',\n",
    " 'GV0796/Pos3',\n",
    " 'GV0796/Pos8',\n",
    " 'GV0796/Pos19',\n",
    " 'GV0796/Pos20',\n",
    " 'GV0797/Pos3',\n",
    " 'GV0797/Pos8',\n",
    " 'GV0797/Pos18',\n",
    " 'GV0797/Pos19',\n",
    " 'GV0798/Pos3',\n",
    " 'GV0798/Pos8',\n",
    " 'GV0798/Pos18',\n",
    " 'GV0798/Pos19',\n",
    " 'GV0800/Pos3',\n",
    " 'GV0800/Pos8',\n",
    " 'GV0800/Pos15',\n",
    " 'GV0801/Pos3',\n",
    " 'GV0802/Pos3',\n",
    " 'GV0804/Pos3',\n",
    " 'GV0805/Pos3',\n",
    " 'GV0806/Pos3',\n",
    " 'GV0807/Pos3']"
   ]
  },
  {
   "cell_type": "code",
   "execution_count": null,
   "metadata": {},
   "outputs": [],
   "source": [
    "N_cells, N_events = np.zeros((num_bins, num_bins)), np.zeros((num_bins, num_bins))\n",
    "N=0\n",
    "for heatmap_ID in natsorted(os.listdir(single_cell_heatmap_location)):\n",
    "    #print(heatmap_ID.split('_P'))\n",
    "    expt = 'GV' +str(re.findall(r\"GV(\\d+)\", heatmap_ID)[0])\n",
    "    position = re.findall(r\"Pos(\\d+)\", heatmap_ID)[0]\n",
    "    if os.path.join(expt,'Pos'+position) in expt_list_9010:\n",
    "        if 'N_cells' in heatmap_ID:\n",
    "            N_cells += np.load(os.path.join(single_cell_heatmap_location,heatmap_ID))\n",
    "        if 'N_events' in heatmap_ID:\n",
    "            N_events += np.load(os.path.join(single_cell_heatmap_location,heatmap_ID))\n",
    "            N+=1\n",
    "N"
   ]
  },
  {
   "cell_type": "code",
   "execution_count": null,
   "metadata": {},
   "outputs": [],
   "source": [
    "render.plot_cumulative(input_2d_hist = N_cells,\n",
    "                num_bins  = 20,\n",
    "                radius  = 800,\n",
    "                t_range = 800, \n",
    "                title = 'Spatiotemporal dist. of wild-type cells \\n around Scribble apoptoses (N={}, 90:10 wt:scr expts only)'.format(N), \n",
    "                label = '', \n",
    "                cb_label = 'Number of cell apperances', \n",
    "                save_path = '/home/nathan/data/kraken/h2b/giulia/radial_analysis_output/cumulative_plots/800,20/scr_apop_wt_div/expt_types',\n",
    "                SI = True) ## SI is standard "
   ]
  },
  {
   "cell_type": "code",
   "execution_count": null,
   "metadata": {},
   "outputs": [],
   "source": [
    "render.plot_cumulative(input_2d_hist = N_events,\n",
    "                num_bins  = 20,\n",
    "                radius  = 800,\n",
    "                t_range = 800, \n",
    "                title = 'Spatiotemporal dist. of wild-type division \\n around Scribble apoptoses (N={}, 90:10 wt:scr expts only)'.format(N),\n",
    "                label = '', \n",
    "                cb_label = 'Number of wild-type divisions', \n",
    "                save_path = '/home/nathan/data/kraken/h2b/giulia/radial_analysis_output/cumulative_plots/800,20/scr_apop_wt_div/expt_types',\n",
    "                SI = True)"
   ]
  },
  {
   "cell_type": "code",
   "execution_count": null,
   "metadata": {
    "scrolled": false
   },
   "outputs": [],
   "source": [
    "render.plot_cumulative(input_2d_hist = N_events/N_cells,\n",
    "                num_bins  = 20,\n",
    "                radius  = 800,\n",
    "                t_range = 800, \n",
    "                title = 'Spatiotemporal dist. of probability of wild-type division \\n around Scribble apoptoses (N={}, 90:10 wt:scr expts only)'.format(N),\n",
    "                label = '', \n",
    "                cb_label = 'Probability of division', \n",
    "                save_path = '/home/nathan/data/kraken/h2b/giulia/radial_analysis_output/cumulative_plots/800,20/scr_apop_wt_div/expt_types',\n",
    "                SI = True)"
   ]
  },
  {
   "cell_type": "markdown",
   "metadata": {},
   "source": [
    "10:90 wt:scr"
   ]
  },
  {
   "cell_type": "code",
   "execution_count": null,
   "metadata": {},
   "outputs": [],
   "source": [
    "expt_list_1090 = ['GV0794/Pos5',\n",
    " 'GV0794/Pos6',\n",
    " 'GV0795/Pos5',\n",
    " 'GV0795/Pos6',\n",
    " 'GV0795/Pos18',\n",
    " 'GV0796/Pos5',\n",
    " 'GV0796/Pos6',\n",
    " 'GV0796/Pos23',\n",
    " 'GV0796/Pos24',\n",
    " 'GV0797/Pos5',\n",
    " 'GV0797/Pos6',\n",
    " 'GV0797/Pos22',\n",
    " 'GV0797/Pos23',\n",
    " 'GV0798/Pos5',\n",
    " 'GV0798/Pos6',\n",
    " 'GV0798/Pos22',\n",
    " 'GV0798/Pos23',\n",
    " 'GV0800/Pos5',\n",
    " 'GV0800/Pos6',\n",
    " 'GV0800/Pos17',\n",
    " 'GV0801/Pos5',\n",
    " 'GV0802/Pos5',\n",
    " 'GV0804/Pos5',\n",
    " 'GV0805/Pos5',\n",
    " 'GV0806/Pos5',\n",
    " 'GV0807/Pos5']"
   ]
  },
  {
   "cell_type": "code",
   "execution_count": null,
   "metadata": {},
   "outputs": [],
   "source": [
    "N_cells, N_events = np.zeros((num_bins, num_bins)), np.zeros((num_bins, num_bins))\n",
    "N=0\n",
    "for heatmap_ID in natsorted(os.listdir(single_cell_heatmap_location)):\n",
    "    #print(heatmap_ID.split('_P'))\n",
    "    expt = 'GV' +str(re.findall(r\"GV(\\d+)\", heatmap_ID)[0])\n",
    "    position = re.findall(r\"Pos(\\d+)\", heatmap_ID)[0]\n",
    "    if os.path.join(expt,'Pos'+position) in expt_list_1090:\n",
    "        if 'N_cells' in heatmap_ID:\n",
    "            N_cells += np.load(os.path.join(single_cell_heatmap_location,heatmap_ID))\n",
    "        if 'N_events' in heatmap_ID:\n",
    "            N_events += np.load(os.path.join(single_cell_heatmap_location,heatmap_ID))\n",
    "            N+=1\n",
    "N"
   ]
  },
  {
   "cell_type": "code",
   "execution_count": null,
   "metadata": {},
   "outputs": [],
   "source": [
    "render.plot_cumulative(input_2d_hist = N_cells,\n",
    "                num_bins  = 20,\n",
    "                radius  = 800,\n",
    "                t_range = 800, \n",
    "                title = 'Spatiotemporal dist. of wild-type cells around \\nScribble apoptoses (N={}, 10:90 wt:scr expts only)'.format(N), \n",
    "                label = '', \n",
    "                cb_label = 'Number of cell apperances', \n",
    "                save_path = '/home/nathan/data/kraken/h2b/giulia/radial_analysis_output/cumulative_plots/800,20/scr_apop_wt_div/expt_types',\n",
    "                SI = True) ## SI is standard "
   ]
  },
  {
   "cell_type": "code",
   "execution_count": null,
   "metadata": {},
   "outputs": [],
   "source": [
    "render.plot_cumulative(input_2d_hist = N_events,\n",
    "                num_bins  = 20,\n",
    "                radius  = 800,\n",
    "                t_range = 800,  \n",
    "                title = 'Spatiotemporal dist. of wild-type division around \\nScribble apoptoses (N={}, 10:90 wt:scr expts only)'.format(N),\n",
    "                label = '', \n",
    "                cb_label = 'Number of wild-type divisions', \n",
    "                save_path = '/home/nathan/data/kraken/h2b/giulia/radial_analysis_output/cumulative_plots/800,20/scr_apop_wt_div/expt_types',\n",
    "                SI = True)"
   ]
  },
  {
   "cell_type": "code",
   "execution_count": null,
   "metadata": {
    "scrolled": false
   },
   "outputs": [],
   "source": [
    "render.plot_cumulative(input_2d_hist = N_events/N_cells,\n",
    "                num_bins  = 20,\n",
    "                radius  = 800,\n",
    "                t_range = 800, \n",
    "                title = 'Spatiotemporal dist. of probability of wild-type division around \\nScribble apoptoses (N={}, 10:90 wt:scr expts only)'.format(N),\n",
    "                label = '', \n",
    "                cb_label = 'Probability of division', \n",
    "                save_path = '/home/nathan/data/kraken/h2b/giulia/radial_analysis_output/cumulative_plots/800,20/scr_apop_wt_div/expt_types',\n",
    "                SI = True)"
   ]
  },
  {
   "cell_type": "markdown",
   "metadata": {},
   "source": [
    "Write a function to do a time evolving plot that iteratively adds single cell heat maps according to the apoptosis time?"
   ]
  }
 ],
 "metadata": {
  "kernelspec": {
   "display_name": "Python 3",
   "language": "python",
   "name": "python3"
  },
  "language_info": {
   "codemirror_mode": {
    "name": "ipython",
    "version": 3
   },
   "file_extension": ".py",
   "mimetype": "text/x-python",
   "name": "python",
   "nbconvert_exporter": "python",
   "pygments_lexer": "ipython3",
   "version": "3.7.4"
  }
 },
 "nbformat": 4,
 "nbformat_minor": 4
}
