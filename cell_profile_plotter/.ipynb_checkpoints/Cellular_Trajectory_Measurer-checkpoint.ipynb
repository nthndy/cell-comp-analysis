{
 "cells": [
  {
   "cell_type": "markdown",
   "metadata": {},
   "source": [
    "# Many-cell trajectory measurement\n",
    "\n",
    "\n",
    "Designed to measure a series of time-dependent single-cell fluorescent/holographic intensities over the course of a time-lapse microscopy data set\n",
    "\n",
    "\n",
    "```\n",
    "Author: \n",
    "- Nathan J. Day (nathan.day.16@ucl.ac.uk)\n",
    "```\n",
    "\n",
    "\n",
    "### STEPS\n",
    "1. Directory organisation\n",
    "2. Load image information\n",
    "3. Load the xyt data of each cell from HDF5 tracking file (see Arboretum tracker @quantumjot github)\n",
    "4. Meta-analysis of tracks with optional filtering of anomalous tracks\n",
    "5. Measure cellular properties across all images, all cells\n",
    "6. Save information out as pandas df and .csv"
   ]
  },
  {
   "cell_type": "code",
   "execution_count": 14,
   "metadata": {},
   "outputs": [],
   "source": [
    "import matplotlib.pyplot as plt\n",
    "import numpy as np\n",
    "import pandas as pd\n",
    "import os\n",
    "from scipy import ndimage\n",
    "from skimage import io #used to be from skimage import io\n",
    "from skimage.io import imshow\n",
    "from sklearn import preprocessing\n",
    "from matplotlib import animation\n",
    "from natsort import natsorted\n",
    "import btrack\n",
    "from btrack.utils import import_HDF, import_JSON\n",
    "from tqdm.notebook import tnrange, tqdm\n",
    "from time import sleep\n",
    "from pathlib import Path"
   ]
  },
  {
   "cell_type": "markdown",
   "metadata": {},
   "source": [
    "## Measure \n",
    "\n",
    "Read cell mask information (location & area) and obtain fluorescent and phase stats. If the data already exists in a .csv and just needs to be plotted then skip to the plotter section.\n",
    "\n",
    "#### Raw data (image) location\n",
    "\n",
    "The image data needs to be organised inside the ```root_dir``` as follows:\n",
    "\n",
    "```\n",
    "phase/\n",
    "    0000_phase.tif\n",
    "    0001_phase.tif\n",
    "    ...\n",
    "gfp/\n",
    "    0000_gfp.tif\n",
    "    0001_gfp.tif\n",
    "    ...\n",
    "rfp/\n",
    "    0000_rfp.tif\n",
    "    0001_rfp.tif\n",
    "    ...\n",
    "labels/\n",
    "    0000_mask.tif\n",
    "    0001_mask.tif\n",
    "    ...    \n",
    "```"
   ]
  },
  {
   "cell_type": "code",
   "execution_count": 5,
   "metadata": {},
   "outputs": [],
   "source": [
    "root_path = \"/home/nathan/data/fucci/fucci1_171201/\"\n",
    "\n",
    "gfp_dir = os.path.join(root_path, \"gfp\")\n",
    "rfp_dir = os.path.join(root_path, \"rfp\")\n",
    "phase_dir = os.path.join(root_path, \"phase\")\n",
    "mask_dir = os.path.join(root_path, \"labels\")\n",
    "\n",
    "gfp_list = natsorted([m for m in os.listdir(gfp_dir) if m.endswith('.tif')])\n",
    "rfp_list = natsorted([m for m in os.listdir(rfp_dir) if m.endswith('.tif')])\n",
    "phase_list = natsorted([m for m in os.listdir(phase_dir) if m.endswith('.tif')])\n",
    "mask_list = natsorted([m for m in os.listdir(mask_dir) if m.endswith('.tif')])"
   ]
  },
  {
   "cell_type": "markdown",
   "metadata": {},
   "source": [
    "### Load the tracking information to obtain xyt of cells\n",
    "\n",
    "Load tracks directly from hdf5"
   ]
  },
  {
   "cell_type": "code",
   "execution_count": null,
   "metadata": {},
   "outputs": [],
   "source": [
    "filename ='/home/nathan/data/fucci/fucci1_171201/tracks/tracks_cellpose/cellpose_nuclear.h5'\n",
    "with btrack.dataio.HDF5FileHandler(filename, 'r') as h:\n",
    "    tracks = h.tracks\n",
    "tracks = (tracks[0]) #initially, tracks[0] is the tracks for cell type 0 (ie, WT or Scr etc)\n",
    "print(\"Track information loaded\")"
   ]
  },
  {
   "cell_type": "markdown",
   "metadata": {},
   "source": [
    "## Meta-analysis of tracks"
   ]
  },
  {
   "cell_type": "markdown",
   "metadata": {},
   "source": [
    "List of track lengths"
   ]
  },
  {
   "cell_type": "code",
   "execution_count": null,
   "metadata": {
    "scrolled": true
   },
   "outputs": [],
   "source": [
    "### length of tracks \n",
    "for i in range(len(tracks)):\n",
    "    print(\"track ID.\", tracks[i].ID,\"length=\", len(tracks[i]))"
   ]
  },
  {
   "cell_type": "markdown",
   "metadata": {},
   "source": [
    "Histogram of track lengths"
   ]
  },
  {
   "cell_type": "code",
   "execution_count": null,
   "metadata": {},
   "outputs": [],
   "source": [
    "#size, scale = 1000, 10\n",
    "track_lengths = [len(track) for track in tracks] \n",
    "tracks_df = pd.Series(track_lengths)\n",
    "print(max(tracks_df))\n",
    "\n",
    "tracks_df.plot.hist(grid=True, bins=25, rwidth=0.9,\n",
    "                   color='#607c8e')\n",
    "title = 'Distribution of track lengths cellpose'\n",
    "plt.title(title)\n",
    "plt.xlabel('Track length')\n",
    "plt.ylabel('Frequency')\n",
    "plt.grid(axis='y', alpha=0.75)"
   ]
  },
  {
   "cell_type": "markdown",
   "metadata": {},
   "source": [
    "### Filter track lengths if desired"
   ]
  },
  {
   "cell_type": "code",
   "execution_count": null,
   "metadata": {},
   "outputs": [],
   "source": [
    "filtered_tracks = [track for track in tracks if len(track) > 800] #excludes track lengths below 1000 frames\n",
    "track_lengths = [len(track) for track in filtered_tracks] \n",
    "track_IDs = [track.ID for track in filtered_tracks] \n",
    "print(track_IDs)\n",
    "for i in range(len(track_lengths)):\n",
    "    print(\"ID = \", track_IDs[i], \"/ Length = \", track_lengths[i])"
   ]
  },
  {
   "cell_type": "markdown",
   "metadata": {},
   "source": [
    "# The _NUMBER CRUNCH_ zone"
   ]
  },
  {
   "cell_type": "markdown",
   "metadata": {},
   "source": [
    "#### Data output directory creation "
   ]
  },
  {
   "cell_type": "code",
   "execution_count": 9,
   "metadata": {},
   "outputs": [],
   "source": [
    "mask_type = \"cellpose_nuclear\" # important to specify the origin of the masks so that results are printed correctly"
   ]
  },
  {
   "cell_type": "code",
   "execution_count": 15,
   "metadata": {},
   "outputs": [],
   "source": [
    "### DIRECTORY CREATION ###\n",
    "stats_dir = os.path.join(root_path, 'stats') \n",
    "mask_type_stats_dir = os.path.join(stats_dir, mask_type)     \n",
    "    \n",
    "Path(stats_dir).mkdir(parents=True, exist_ok=True)\n",
    "Path(mask_type_stats_dir).mkdir(parents=True, exist_ok=True)   "
   ]
  },
  {
   "cell_type": "markdown",
   "metadata": {},
   "source": [
    "## Calculations"
   ]
  },
  {
   "cell_type": "code",
   "execution_count": null,
   "metadata": {},
   "outputs": [],
   "source": [
    "print('Total calculation progress bar below (n/N cells):')\n",
    "for j, cell in enumerate(tqdm(filtered_tracks)):\n",
    "    ID = str(filtered_tracks[j].ID)\n",
    "    print('cell ID = ',ID, 'progress bar below: (n/N frames):')## add to df\n",
    "    frames = filtered_tracks[j].t\n",
    "    x = filtered_tracks[j].x \n",
    "    y = filtered_tracks[j].y\n",
    "\n",
    "    fn = \"cell_ID_\" + ID + \".csv\"\n",
    "    stat_file = os.path.normpath(os.path.join(mask_type_stats_dir, fn))\n",
    "\n",
    "    df = pd.DataFrame([], columns=['Cell ID', 'Frame', 'GFP Intensity', 'RFP Intensity', 'Phase Intensity', 'Area', 'x','y', 'mask_fn']) #is this assignment of df correct? or does it overwrite \"count_cells\" above\n",
    "\n",
    "    new_mask_list = [] #this creates a new mask list of only the necessary frames\n",
    "    new_gfp_list = []\n",
    "    new_rfp_list = []\n",
    "    new_phase_list = []\n",
    "    for k in frames:\n",
    "        new_mask_list.append(mask_list[k]) \n",
    "        new_gfp_list.append(gfp_list[k])\n",
    "        new_rfp_list.append(rfp_list[k])\n",
    "        new_phase_list.append(phase_list[k])\n",
    "\n",
    "    # below opens a mask image, uses xy coords to select specific mask, then uses that specific mask to measure other images\n",
    "    for i, mask_name in enumerate(tqdm(new_mask_list)):\n",
    "        #print(i, frames[i], mask_name, new_gfp_list[i], new_rfp_list[i], new_phase_list[i]) #sanity check to ensure correct images are being loaded+measured\n",
    "\n",
    "        mask = io.imread(os.path.normpath(os.path.join(mask_dir, mask_name))) #load mask\n",
    "        xi = int(x[i])\n",
    "        yi = int(y[i]) #x and y coords\n",
    "        labelled, n_labels = ndimage.label(mask) \n",
    "        \n",
    "        #this block returns 0-value measurements if the cell_mask is unavailable at this frame, due to tracker-interpolation\n",
    "        if (labelled[xi,yi] == 0):\n",
    "            cell_mask = None\n",
    "            area = None\n",
    "            gfp_pix_value = None\n",
    "            rfp_pix_value = None\n",
    "            phase_pix_value = None\n",
    "            \n",
    "        else:\n",
    "            cell_mask = labelled == labelled[xi,yi] #creating a new mask only including cell of interest\n",
    "            area = ndimage.sum(cell_mask)\n",
    "\n",
    "            #load images and measure\n",
    "            gfp = io.imread(os.path.join(gfp_dir,new_gfp_list[i])) #load gfp image\n",
    "            gfp_pix_value = ndimage.sum(gfp, cell_mask, 1) #measure cell_mask area of gfp image\n",
    "\n",
    "            rfp = io.imread(os.path.join(rfp_dir,new_rfp_list[i]))\n",
    "            rfp_pix_value = ndimage.sum(rfp, cell_mask, 1)\n",
    "\n",
    "            phase = io.imread(os.path.join(phase_dir,new_phase_list[i]))\n",
    "            phase_pix_value = ndimage.sum(phase, cell_mask, 1)\n",
    "\n",
    "        #store measurements in pandas df\n",
    "        df.loc[i, 'Cell ID'] = ID\n",
    "        df.loc[i, 'Frame'] = frames[i]\n",
    "        df.loc[i,'GFP Intensity'] = gfp_pix_value \n",
    "        df.loc[i,'RFP Intensity'] = rfp_pix_value\n",
    "        df.loc[i,'Phase Intensity'] = phase_pix_value \n",
    "        df.loc[i,'Area'] = area\n",
    "        df.loc[i, 'mask_fn'] = mask_name\n",
    "        df.loc[i,'x'] = xi\n",
    "        df.loc[i,'y'] = yi\n",
    "\n",
    "    df.to_csv(stat_file, index=False)  \n",
    "    #print(df)\n",
    "print(\"FINISHHHHEEEEDDDDD\")\n",
    "os.system('spd-say \"Master Nathan, your program has finished. I love you.\"')"
   ]
  }
 ],
 "metadata": {
  "kernelspec": {
   "display_name": "Python 3",
   "language": "python",
   "name": "python3"
  },
  "language_info": {
   "codemirror_mode": {
    "name": "ipython",
    "version": 3
   },
   "file_extension": ".py",
   "mimetype": "text/x-python",
   "name": "python",
   "nbconvert_exporter": "python",
   "pygments_lexer": "ipython3",
   "version": "3.7.6"
  }
 },
 "nbformat": 4,
 "nbformat_minor": 4
}
