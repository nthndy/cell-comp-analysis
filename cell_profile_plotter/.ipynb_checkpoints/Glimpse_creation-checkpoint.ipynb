{
 "cells": [
  {
   "cell_type": "markdown",
   "metadata": {},
   "source": [
    "# GLIMPSE CREATOR "
   ]
  },
  {
   "cell_type": "markdown",
   "metadata": {},
   "source": [
    "This notebook takes a cell_ID, or series of cell_IDs and crops a 'glimpse' of the cell; a series of images lasting the duration of the cells existence that are focused on the cell and it's immediate neighbourhood.\n",
    "\n",
    "Author: Nathan J. Day."
   ]
  },
  {
   "cell_type": "code",
   "execution_count": null,
   "metadata": {},
   "outputs": [],
   "source": [
    "import matplotlib.pyplot as plt\n",
    "import numpy as np\n",
    "import pandas as pd\n",
    "import os, re\n",
    "from scipy import ndimage\n",
    "from skimage.io import imshow, imsave #used to be from skimage import io\n",
    "from sklearn import preprocessing\n",
    "from matplotlib import animation\n",
    "from natsort import natsorted\n",
    "from pathlib import Path\n",
    "from skimage.external import tifffile\n",
    "from btrack.dataio import HDF5FileHandler\n",
    "import glob\n",
    "from tensorflow.python.keras.models import Model, load_model\n",
    "import json\n",
    "import zipfile\n",
    "import scipy\n",
    "from scipy.spatial import KDTree\n",
    "from skimage.transform import resize\n",
    "from multiprocessing import Pool"
   ]
  },
  {
   "cell_type": "markdown",
   "metadata": {},
   "source": [
    "### Tiff virtual stack functions"
   ]
  },
  {
   "cell_type": "code",
   "execution_count": null,
   "metadata": {},
   "outputs": [],
   "source": [
    "class VirtualTiffStack:\n",
    "    def __init__(self, folder, channel_name):\n",
    "        self.folder = folder \n",
    "        self.channel_name = channel_name\n",
    "        # find the files and store them\n",
    "        self.files = natsorted([file for file in os.listdir(os.path.join(self.folder, self.channel_name)) if file.endswith('.tif')])\n",
    "        self.glimpse = [] ### would this work like this?????\n",
    "    def __getitem__(self, idx):\n",
    "        return tifffile.imread(os.path.join(self.folder, self.channel_name, self.files[idx]))\n",
    "    def __len__(self):\n",
    "        return len(self.files) ### what this do?\n",
    "\n",
    "def str_convert(string): \n",
    "    li = list(string.split(\", \")) \n",
    "    return li "
   ]
  },
  {
   "cell_type": "markdown",
   "metadata": {},
   "source": [
    "### Directory definitions"
   ]
  },
  {
   "cell_type": "code",
   "execution_count": null,
   "metadata": {},
   "outputs": [],
   "source": [
    "mask_version = 'cellpose_nuclear'\n",
    "path = '/home/nathan/data/SHARC/fucci/fucci1_171201/'\n",
    "gfp_stack = VirtualTiffStack(path, channel_name = 'gfp')\n",
    "rfp_stack = VirtualTiffStack(path, channel_name = 'rfp')\n",
    "phase_stack = VirtualTiffStack(path, channel_name = 'phase')\n",
    "channels = ['gfp', 'rfp', 'phase']\n",
    "glimpses_folder = os.path.join(path,'glimpses')\n",
    "Path(glimpses_folder).mkdir(parents=True, exist_ok=True) ## create glimpse folder"
   ]
  },
  {
   "cell_type": "markdown",
   "metadata": {},
   "source": [
    "### Load tracking data"
   ]
  },
  {
   "cell_type": "code",
   "execution_count": null,
   "metadata": {
    "scrolled": true
   },
   "outputs": [],
   "source": [
    "tracks_file = path+'/HDF/'+ mask_version + '.h5' ### should it be hdf5?\n",
    "with HDF5FileHandler(tracks_file) as h:\n",
    "    tracks = h.tracks[0] ### only loading 'WT' cells at the moment, hence h.tracks[0]\n",
    "track_IDs = natsorted([track.ID for track in tracks]) ### CAN PUT CRITERION HERE ### for finding tracks of only certain length etc"
   ]
  },
  {
   "cell_type": "markdown",
   "metadata": {},
   "source": [
    "# Glimpse creation"
   ]
  },
  {
   "cell_type": "code",
   "execution_count": null,
   "metadata": {},
   "outputs": [],
   "source": [
    "print(\"Input cell ID\") ### prompt for which cell(s) you want glimpses for\n",
    "cells=str_convert(input())\n",
    "for cell in cells:\n",
    "    track = tracks[[i for i, j in enumerate(tracks) if tracks[i].ID == int(cell)][0]] #this list comprehension correctly picks out the index of the track of track_ID = cell\n",
    "    t, x, y = track.t, track.x, track.y\n",
    "    t = range(min(t),len(t)) ### i believe this solves the skipped frame dilemma by redefining t as being continous in the range of t, as xy are continous??? \n",
    "    glimpse_folder = os.path.join(glimpses_folder, 'cell_ID_'+ cell) ## glimpse(not plural) folder for individual cell glimpse\n",
    "    Path(glimpse_folder).mkdir(parents=True, exist_ok=True) ## create glimpse folder\n",
    "\n",
    "    for channel in channels: \n",
    "        print(channel)\n",
    "        channel_folder = os.path.join(glimpse_folder, channel)\n",
    "        Path(channel_folder).mkdir(parents=True, exist_ok=True) ## create channel folder\n",
    "        if channel == 'phase': \n",
    "            images = phase_stack#[i]\n",
    "        if channel == 'gfp': \n",
    "            images = gfp_stack#[i]   ### select relevant channel image stack\n",
    "        if channel == 'rfp': \n",
    "            images = rfp_stack#[i]\n",
    "        for j, i in enumerate(t): ## need to have something that solves skipped frames # not including the last frame bc list index out of range ie there is one more i than there\n",
    "            image = images[i]\n",
    "            x1, x2, y1, y2 = x[j]-100, x[j]+100, y[j]-100, y[j]+100 #coordinates to crop by \n",
    "            if x1 < 0:\n",
    "                x1 = 0\n",
    "            if x2 < 0:\n",
    "                x2 = 0   ### this just crops the glimpse further if the ROI coordinates go negative\n",
    "            if y1 < 0:\n",
    "                y1 = 0\n",
    "            if y2 < 0:\n",
    "                y2 = 0\n",
    "            glimpse = image[int(x1): int(x2), int(y1): int(y2)] ## glimpse creation by cropping original image\n",
    "            fn = 'cell_ID_' + cell + '_' + channel + '_t{}.tif'.format(i)\n",
    "            imsave(os.path.join(channel_folder, fn), glimpse) ### glimpse output\n",
    "    print('Glimpse cell_ID ', cell, ' saved')"
   ]
  }
 ],
 "metadata": {
  "kernelspec": {
   "display_name": "Python 3",
   "language": "python",
   "name": "python3"
  },
  "language_info": {
   "codemirror_mode": {
    "name": "ipython",
    "version": 3
   },
   "file_extension": ".py",
   "mimetype": "text/x-python",
   "name": "python",
   "nbconvert_exporter": "python",
   "pygments_lexer": "ipython3",
   "version": "3.7.6"
  }
 },
 "nbformat": 4,
 "nbformat_minor": 4
}
