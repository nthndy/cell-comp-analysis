{
 "cells": [
  {
   "cell_type": "code",
   "execution_count": 1,
   "metadata": {},
   "outputs": [],
   "source": [
    "import os, glob\n",
    "from natsort import natsorted\n",
    "from tqdm import tqdm\n",
    "import numpy as np\n",
    "import tifffile as tiff"
   ]
  },
  {
   "cell_type": "code",
   "execution_count": 2,
   "metadata": {},
   "outputs": [],
   "source": [
    "root_folder = '/run/user/1000/gvfs/smb-share:server=lowe-sn00.biochem.ucl.ac.uk,share=lowegrp/Data/Manasi/MK0000'"
   ]
  },
  {
   "cell_type": "code",
   "execution_count": 3,
   "metadata": {},
   "outputs": [
    {
     "data": {
      "text/plain": [
       "['Pos0',\n",
       " 'Pos1',\n",
       " 'Pos2',\n",
       " 'Pos3',\n",
       " 'Pos4',\n",
       " 'Pos5',\n",
       " 'Pos6',\n",
       " 'Pos7',\n",
       " 'Pos8',\n",
       " 'Pos9',\n",
       " 'Pos10',\n",
       " 'Pos11',\n",
       " 'Pos12',\n",
       " 'Pos13',\n",
       " 'Pos14',\n",
       " 'Pos15',\n",
       " 'Pos16',\n",
       " 'Pos17',\n",
       " 'Pos18',\n",
       " 'Pos19',\n",
       " 'Pos20',\n",
       " 'Pos21',\n",
       " 'Pos22',\n",
       " 'Pos23']"
      ]
     },
     "execution_count": 3,
     "metadata": {},
     "output_type": "execute_result"
    }
   ],
   "source": [
    "pos_list = natsorted([pos for pos in os.listdir(root_folder) if 'Pos' in pos])\n",
    "pos_list"
   ]
  },
  {
   "cell_type": "markdown",
   "metadata": {},
   "source": [
    "# reorganise raw files into new raw directory\n",
    "\n",
    "## dont do this until current seg job is complete!!"
   ]
  },
  {
   "cell_type": "code",
   "execution_count": 7,
   "metadata": {},
   "outputs": [
    {
     "name": "stderr",
     "output_type": "stream",
     "text": [
      "\r",
      "  0%|          | 0/24 [00:00<?, ?it/s]"
     ]
    },
    {
     "name": "stdout",
     "output_type": "stream",
     "text": [
      "/run/user/1000/gvfs/smb-share:server=lowe-sn00.biochem.ucl.ac.uk,share=lowegrp/Data/Manasi/MK0000/Pos0/Pos0_raw already created\n"
     ]
    },
    {
     "name": "stderr",
     "output_type": "stream",
     "text": [
      "\r",
      "  4%|▍         | 1/24 [01:14<28:23, 74.06s/it]"
     ]
    },
    {
     "name": "stdout",
     "output_type": "stream",
     "text": [
      "/run/user/1000/gvfs/smb-share:server=lowe-sn00.biochem.ucl.ac.uk,share=lowegrp/Data/Manasi/MK0000/Pos1/Pos1_raw already created\n"
     ]
    },
    {
     "name": "stderr",
     "output_type": "stream",
     "text": [
      "\r",
      "  8%|▊         | 2/24 [02:17<24:48, 67.65s/it]"
     ]
    },
    {
     "name": "stdout",
     "output_type": "stream",
     "text": [
      "/run/user/1000/gvfs/smb-share:server=lowe-sn00.biochem.ucl.ac.uk,share=lowegrp/Data/Manasi/MK0000/Pos2/Pos2_raw already created\n"
     ]
    },
    {
     "name": "stderr",
     "output_type": "stream",
     "text": [
      "\r",
      " 12%|█▎        | 3/24 [03:23<23:27, 67.04s/it]"
     ]
    },
    {
     "name": "stdout",
     "output_type": "stream",
     "text": [
      "/run/user/1000/gvfs/smb-share:server=lowe-sn00.biochem.ucl.ac.uk,share=lowegrp/Data/Manasi/MK0000/Pos3/Pos3_raw already created\n"
     ]
    },
    {
     "name": "stderr",
     "output_type": "stream",
     "text": [
      "\r",
      " 17%|█▋        | 4/24 [04:28<22:07, 66.37s/it]"
     ]
    },
    {
     "name": "stdout",
     "output_type": "stream",
     "text": [
      "/run/user/1000/gvfs/smb-share:server=lowe-sn00.biochem.ucl.ac.uk,share=lowegrp/Data/Manasi/MK0000/Pos4/Pos4_raw already created\n"
     ]
    },
    {
     "name": "stderr",
     "output_type": "stream",
     "text": [
      "\r",
      " 21%|██        | 5/24 [05:31<20:38, 65.16s/it]"
     ]
    },
    {
     "name": "stdout",
     "output_type": "stream",
     "text": [
      "/run/user/1000/gvfs/smb-share:server=lowe-sn00.biochem.ucl.ac.uk,share=lowegrp/Data/Manasi/MK0000/Pos5/Pos5_raw already created\n"
     ]
    },
    {
     "name": "stderr",
     "output_type": "stream",
     "text": [
      "\r",
      " 25%|██▌       | 6/24 [06:30<18:54, 63.01s/it]"
     ]
    },
    {
     "name": "stdout",
     "output_type": "stream",
     "text": [
      "/run/user/1000/gvfs/smb-share:server=lowe-sn00.biochem.ucl.ac.uk,share=lowegrp/Data/Manasi/MK0000/Pos6/Pos6_raw already created\n"
     ]
    },
    {
     "name": "stderr",
     "output_type": "stream",
     "text": [
      "\r",
      " 29%|██▉       | 7/24 [07:31<17:40, 62.36s/it]"
     ]
    },
    {
     "name": "stdout",
     "output_type": "stream",
     "text": [
      "/run/user/1000/gvfs/smb-share:server=lowe-sn00.biochem.ucl.ac.uk,share=lowegrp/Data/Manasi/MK0000/Pos7/Pos7_raw already created\n"
     ]
    },
    {
     "name": "stderr",
     "output_type": "stream",
     "text": [
      "\r",
      " 33%|███▎      | 8/24 [08:35<16:43, 62.71s/it]"
     ]
    },
    {
     "name": "stdout",
     "output_type": "stream",
     "text": [
      "/run/user/1000/gvfs/smb-share:server=lowe-sn00.biochem.ucl.ac.uk,share=lowegrp/Data/Manasi/MK0000/Pos8/Pos8_raw already created\n"
     ]
    },
    {
     "name": "stderr",
     "output_type": "stream",
     "text": [
      "\r",
      " 38%|███▊      | 9/24 [09:38<15:43, 62.90s/it]"
     ]
    },
    {
     "name": "stdout",
     "output_type": "stream",
     "text": [
      "/run/user/1000/gvfs/smb-share:server=lowe-sn00.biochem.ucl.ac.uk,share=lowegrp/Data/Manasi/MK0000/Pos9/Pos9_raw already created\n"
     ]
    },
    {
     "name": "stderr",
     "output_type": "stream",
     "text": [
      "\r",
      " 42%|████▏     | 10/24 [10:41<14:42, 63.06s/it]"
     ]
    },
    {
     "name": "stdout",
     "output_type": "stream",
     "text": [
      "/run/user/1000/gvfs/smb-share:server=lowe-sn00.biochem.ucl.ac.uk,share=lowegrp/Data/Manasi/MK0000/Pos10/Pos10_raw already created\n"
     ]
    },
    {
     "name": "stderr",
     "output_type": "stream",
     "text": [
      "\r",
      " 46%|████▌     | 11/24 [11:45<13:41, 63.17s/it]"
     ]
    },
    {
     "name": "stdout",
     "output_type": "stream",
     "text": [
      "/run/user/1000/gvfs/smb-share:server=lowe-sn00.biochem.ucl.ac.uk,share=lowegrp/Data/Manasi/MK0000/Pos11/Pos11_raw already created\n"
     ]
    },
    {
     "name": "stderr",
     "output_type": "stream",
     "text": [
      "\r",
      " 50%|█████     | 12/24 [12:43<12:19, 61.66s/it]"
     ]
    },
    {
     "name": "stdout",
     "output_type": "stream",
     "text": [
      "/run/user/1000/gvfs/smb-share:server=lowe-sn00.biochem.ucl.ac.uk,share=lowegrp/Data/Manasi/MK0000/Pos12/Pos12_raw already created\n"
     ]
    },
    {
     "name": "stderr",
     "output_type": "stream",
     "text": [
      "\r",
      " 54%|█████▍    | 13/24 [13:41<11:04, 60.39s/it]"
     ]
    },
    {
     "name": "stdout",
     "output_type": "stream",
     "text": [
      "/run/user/1000/gvfs/smb-share:server=lowe-sn00.biochem.ucl.ac.uk,share=lowegrp/Data/Manasi/MK0000/Pos13/Pos13_raw already created\n"
     ]
    },
    {
     "name": "stderr",
     "output_type": "stream",
     "text": [
      "\r",
      " 58%|█████▊    | 14/24 [14:38<09:53, 59.39s/it]"
     ]
    },
    {
     "name": "stdout",
     "output_type": "stream",
     "text": [
      "/run/user/1000/gvfs/smb-share:server=lowe-sn00.biochem.ucl.ac.uk,share=lowegrp/Data/Manasi/MK0000/Pos14/Pos14_raw already created\n"
     ]
    },
    {
     "name": "stderr",
     "output_type": "stream",
     "text": [
      "\r",
      " 62%|██████▎   | 15/24 [15:34<08:46, 58.51s/it]"
     ]
    },
    {
     "name": "stdout",
     "output_type": "stream",
     "text": [
      "/run/user/1000/gvfs/smb-share:server=lowe-sn00.biochem.ucl.ac.uk,share=lowegrp/Data/Manasi/MK0000/Pos15/Pos15_raw already created\n"
     ]
    },
    {
     "name": "stderr",
     "output_type": "stream",
     "text": [
      "\r",
      " 67%|██████▋   | 16/24 [16:47<08:22, 62.81s/it]"
     ]
    },
    {
     "name": "stdout",
     "output_type": "stream",
     "text": [
      "/run/user/1000/gvfs/smb-share:server=lowe-sn00.biochem.ucl.ac.uk,share=lowegrp/Data/Manasi/MK0000/Pos16/Pos16_raw already created\n"
     ]
    },
    {
     "name": "stderr",
     "output_type": "stream",
     "text": [
      "\r",
      " 71%|███████   | 17/24 [17:51<07:21, 63.10s/it]"
     ]
    },
    {
     "name": "stdout",
     "output_type": "stream",
     "text": [
      "/run/user/1000/gvfs/smb-share:server=lowe-sn00.biochem.ucl.ac.uk,share=lowegrp/Data/Manasi/MK0000/Pos17/Pos17_raw already created\n"
     ]
    },
    {
     "name": "stderr",
     "output_type": "stream",
     "text": [
      "\r",
      " 75%|███████▌  | 18/24 [18:54<06:19, 63.19s/it]"
     ]
    },
    {
     "name": "stdout",
     "output_type": "stream",
     "text": [
      "/run/user/1000/gvfs/smb-share:server=lowe-sn00.biochem.ucl.ac.uk,share=lowegrp/Data/Manasi/MK0000/Pos18/Pos18_raw already created\n"
     ]
    },
    {
     "name": "stderr",
     "output_type": "stream",
     "text": [
      "\r",
      " 79%|███████▉  | 19/24 [19:57<05:15, 63.15s/it]"
     ]
    },
    {
     "name": "stdout",
     "output_type": "stream",
     "text": [
      "/run/user/1000/gvfs/smb-share:server=lowe-sn00.biochem.ucl.ac.uk,share=lowegrp/Data/Manasi/MK0000/Pos19/Pos19_raw already created\n"
     ]
    },
    {
     "name": "stderr",
     "output_type": "stream",
     "text": [
      "\r",
      " 83%|████████▎ | 20/24 [21:00<04:12, 63.18s/it]"
     ]
    },
    {
     "name": "stdout",
     "output_type": "stream",
     "text": [
      "/run/user/1000/gvfs/smb-share:server=lowe-sn00.biochem.ucl.ac.uk,share=lowegrp/Data/Manasi/MK0000/Pos20/Pos20_raw already created\n"
     ]
    },
    {
     "name": "stderr",
     "output_type": "stream",
     "text": [
      "\r",
      " 88%|████████▊ | 21/24 [22:05<03:10, 63.47s/it]"
     ]
    },
    {
     "name": "stdout",
     "output_type": "stream",
     "text": [
      "/run/user/1000/gvfs/smb-share:server=lowe-sn00.biochem.ucl.ac.uk,share=lowegrp/Data/Manasi/MK0000/Pos21/Pos21_raw already created\n"
     ]
    },
    {
     "name": "stderr",
     "output_type": "stream",
     "text": [
      "\r",
      " 92%|█████████▏| 22/24 [23:07<02:06, 63.25s/it]"
     ]
    },
    {
     "name": "stdout",
     "output_type": "stream",
     "text": [
      "/run/user/1000/gvfs/smb-share:server=lowe-sn00.biochem.ucl.ac.uk,share=lowegrp/Data/Manasi/MK0000/Pos22/Pos22_raw already created\n"
     ]
    },
    {
     "name": "stderr",
     "output_type": "stream",
     "text": [
      "\r",
      " 96%|█████████▌| 23/24 [24:10<01:03, 63.00s/it]"
     ]
    },
    {
     "name": "stdout",
     "output_type": "stream",
     "text": [
      "/run/user/1000/gvfs/smb-share:server=lowe-sn00.biochem.ucl.ac.uk,share=lowegrp/Data/Manasi/MK0000/Pos23/Pos23_raw already created\n"
     ]
    },
    {
     "name": "stderr",
     "output_type": "stream",
     "text": [
      "100%|██████████| 24/24 [25:10<00:00, 62.96s/it]\n"
     ]
    }
   ],
   "source": [
    "for pos in tqdm(pos_list):\n",
    "    pos_folder = os.path.join(root_folder, pos)\n",
    "    raw_image_files = natsorted([fn for fn in os.listdir(pos_folder) if '.tif' in fn])\n",
    "    ### new raw image file directory\n",
    "    output_raw_image_dir = os.path.join(pos_folder, pos + '_raw')\n",
    "    try:\n",
    "        os.mkdir(output_raw_image_dir)\n",
    "    except:\n",
    "        print(output_raw_image_dir, 'already created')\n",
    "    for filename in raw_image_files:\n",
    "        origin_raw_im_path = os.path.join(pos_folder, filename)\n",
    "        output_raw_im_path = os.path.join(output_raw_image_dir, filename)\n",
    "        os.rename(origin_raw_im_path, output_raw_im_path)\n"
   ]
  },
  {
   "cell_type": "markdown",
   "metadata": {},
   "source": [
    "# compile into stacks"
   ]
  },
  {
   "cell_type": "code",
   "execution_count": 4,
   "metadata": {
    "scrolled": true
   },
   "outputs": [
    {
     "name": "stderr",
     "output_type": "stream",
     "text": [
      "\r",
      "  0%|          | 0/24 [00:00<?, ?it/s]"
     ]
    },
    {
     "name": "stdout",
     "output_type": "stream",
     "text": [
      "/run/user/1000/gvfs/smb-share:server=lowe-sn00.biochem.ucl.ac.uk,share=lowegrp/Data/Manasi/MK0000/Pos0/Pos0_stacks already exists\n",
      "channel002.tif already compiled, moving to next stack\n",
      "dropped frame at /run/user/1000/gvfs/smb-share:server=lowe-sn00.biochem.ucl.ac.uk,share=lowegrp/Data/Manasi/MK0000/Pos0/Pos0_raw/img_channel001_position000_time000001014_z000.tif\n",
      "channel 001 , position  Pos0  saved out\n"
     ]
    },
    {
     "name": "stderr",
     "output_type": "stream",
     "text": [
      "\r",
      "  4%|▍         | 1/24 [04:08<1:35:17, 248.59s/it]"
     ]
    },
    {
     "name": "stdout",
     "output_type": "stream",
     "text": [
      "channel 003 , position  Pos0  saved out\n",
      "channel000.tif already compiled, moving to next stack\n",
      "channel 002 , position  Pos1  saved out\n",
      "channel 001 , position  Pos1  saved out\n",
      "channel 003 , position  Pos1  saved out\n"
     ]
    },
    {
     "name": "stderr",
     "output_type": "stream",
     "text": [
      "\r",
      "  8%|▊         | 2/24 [12:15<2:22:36, 388.92s/it]"
     ]
    },
    {
     "name": "stdout",
     "output_type": "stream",
     "text": [
      "channel 000 , position  Pos1  saved out\n",
      "channel 002 , position  Pos2  saved out\n",
      "channel 001 , position  Pos2  saved out\n",
      "channel 003 , position  Pos2  saved out\n"
     ]
    },
    {
     "name": "stderr",
     "output_type": "stream",
     "text": [
      "\r",
      " 12%|█▎        | 3/24 [20:06<2:29:10, 426.20s/it]"
     ]
    },
    {
     "name": "stdout",
     "output_type": "stream",
     "text": [
      "channel 000 , position  Pos2  saved out\n",
      "channel 002 , position  Pos3  saved out\n",
      "channel 001 , position  Pos3  saved out\n",
      "channel 003 , position  Pos3  saved out\n"
     ]
    },
    {
     "name": "stderr",
     "output_type": "stream",
     "text": [
      "\r",
      " 17%|█▋        | 4/24 [27:54<2:27:39, 442.96s/it]"
     ]
    },
    {
     "name": "stdout",
     "output_type": "stream",
     "text": [
      "channel 000 , position  Pos3  saved out\n",
      "channel 002 , position  Pos4  saved out\n",
      "channel 001 , position  Pos4  saved out\n",
      "channel 003 , position  Pos4  saved out\n"
     ]
    },
    {
     "name": "stderr",
     "output_type": "stream",
     "text": [
      "\r",
      " 21%|██        | 5/24 [35:47<2:23:39, 453.63s/it]"
     ]
    },
    {
     "name": "stdout",
     "output_type": "stream",
     "text": [
      "channel 000 , position  Pos4  saved out\n",
      "channel 002 , position  Pos5  saved out\n",
      "channel 001 , position  Pos5  saved out\n",
      "channel 003 , position  Pos5  saved out\n"
     ]
    },
    {
     "name": "stderr",
     "output_type": "stream",
     "text": [
      "\r",
      " 25%|██▌       | 6/24 [44:40<2:24:13, 480.78s/it]"
     ]
    },
    {
     "name": "stdout",
     "output_type": "stream",
     "text": [
      "channel 000 , position  Pos5  saved out\n",
      "channel 002 , position  Pos6  saved out\n",
      "channel 001 , position  Pos6  saved out\n",
      "channel 003 , position  Pos6  saved out\n"
     ]
    },
    {
     "name": "stderr",
     "output_type": "stream",
     "text": [
      "\r",
      " 29%|██▉       | 7/24 [52:28<2:14:59, 476.44s/it]"
     ]
    },
    {
     "name": "stdout",
     "output_type": "stream",
     "text": [
      "channel 000 , position  Pos6  saved out\n",
      "channel 002 , position  Pos7  saved out\n",
      "channel 001 , position  Pos7  saved out\n",
      "channel 003 , position  Pos7  saved out\n"
     ]
    },
    {
     "name": "stderr",
     "output_type": "stream",
     "text": [
      "\r",
      " 33%|███▎      | 8/24 [1:00:22<2:06:48, 475.53s/it]"
     ]
    },
    {
     "name": "stdout",
     "output_type": "stream",
     "text": [
      "channel 000 , position  Pos7  saved out\n",
      "channel 002 , position  Pos8  saved out\n",
      "channel 001 , position  Pos8  saved out\n",
      "channel 003 , position  Pos8  saved out\n"
     ]
    },
    {
     "name": "stderr",
     "output_type": "stream",
     "text": [
      "\r",
      " 38%|███▊      | 9/24 [1:08:45<2:01:05, 484.38s/it]"
     ]
    },
    {
     "name": "stdout",
     "output_type": "stream",
     "text": [
      "channel 000 , position  Pos8  saved out\n",
      "channel 002 , position  Pos9  saved out\n",
      "channel 001 , position  Pos9  saved out\n",
      "channel 003 , position  Pos9  saved out\n"
     ]
    },
    {
     "name": "stderr",
     "output_type": "stream",
     "text": [
      "\r",
      " 42%|████▏     | 10/24 [1:17:08<1:54:21, 490.09s/it]"
     ]
    },
    {
     "name": "stdout",
     "output_type": "stream",
     "text": [
      "channel 000 , position  Pos9  saved out\n",
      "channel 002 , position  Pos10  saved out\n",
      "channel 001 , position  Pos10  saved out\n",
      "channel 003 , position  Pos10  saved out\n"
     ]
    },
    {
     "name": "stderr",
     "output_type": "stream",
     "text": [
      "\r",
      " 46%|████▌     | 11/24 [1:25:30<1:46:58, 493.74s/it]"
     ]
    },
    {
     "name": "stdout",
     "output_type": "stream",
     "text": [
      "channel 000 , position  Pos10  saved out\n",
      "channel 002 , position  Pos11  saved out\n",
      "channel 001 , position  Pos11  saved out\n",
      "channel 003 , position  Pos11  saved out\n"
     ]
    },
    {
     "name": "stderr",
     "output_type": "stream",
     "text": [
      "\r",
      " 50%|█████     | 12/24 [1:33:55<1:39:23, 497.00s/it]"
     ]
    },
    {
     "name": "stdout",
     "output_type": "stream",
     "text": [
      "channel 000 , position  Pos11  saved out\n",
      "channel 002 , position  Pos12  saved out\n",
      "channel 001 , position  Pos12  saved out\n",
      "channel 003 , position  Pos12  saved out\n"
     ]
    },
    {
     "name": "stderr",
     "output_type": "stream",
     "text": [
      "\r",
      " 54%|█████▍    | 13/24 [1:42:18<1:31:29, 499.03s/it]"
     ]
    },
    {
     "name": "stdout",
     "output_type": "stream",
     "text": [
      "channel 000 , position  Pos12  saved out\n",
      "channel 002 , position  Pos13  saved out\n",
      "channel 001 , position  Pos13  saved out\n",
      "channel 003 , position  Pos13  saved out\n"
     ]
    },
    {
     "name": "stderr",
     "output_type": "stream",
     "text": [
      "\r",
      " 58%|█████▊    | 14/24 [1:50:43<1:23:26, 500.62s/it]"
     ]
    },
    {
     "name": "stdout",
     "output_type": "stream",
     "text": [
      "channel 000 , position  Pos13  saved out\n",
      "channel 002 , position  Pos14  saved out\n",
      "channel 001 , position  Pos14  saved out\n",
      "channel 003 , position  Pos14  saved out\n"
     ]
    },
    {
     "name": "stderr",
     "output_type": "stream",
     "text": [
      "\r",
      " 62%|██████▎   | 15/24 [1:59:07<1:15:14, 501.64s/it]"
     ]
    },
    {
     "name": "stdout",
     "output_type": "stream",
     "text": [
      "channel 000 , position  Pos14  saved out\n",
      "/run/user/1000/gvfs/smb-share:server=lowe-sn00.biochem.ucl.ac.uk,share=lowegrp/Data/Manasi/MK0000/Pos15/Pos15_stacks already exists\n"
     ]
    },
    {
     "name": "stderr",
     "output_type": "stream",
     "text": [
      "\r",
      " 67%|██████▋   | 16/24 [1:59:07<46:46, 350.87s/it]  "
     ]
    },
    {
     "name": "stdout",
     "output_type": "stream",
     "text": [
      "channel002.tif already compiled, moving to next stack\n",
      "channel001.tif already compiled, moving to next stack\n",
      "channel003.tif already compiled, moving to next stack\n",
      "channel000.tif already compiled, moving to next stack\n",
      "channel 002 , position  Pos16  saved out\n",
      "channel 001 , position  Pos16  saved out\n",
      "channel 003 , position  Pos16  saved out\n"
     ]
    },
    {
     "name": "stderr",
     "output_type": "stream",
     "text": [
      "\r",
      " 71%|███████   | 17/24 [2:07:31<46:17, 396.77s/it]"
     ]
    },
    {
     "name": "stdout",
     "output_type": "stream",
     "text": [
      "channel 000 , position  Pos16  saved out\n",
      "channel 002 , position  Pos17  saved out\n",
      "channel 001 , position  Pos17  saved out\n",
      "channel 003 , position  Pos17  saved out\n"
     ]
    },
    {
     "name": "stderr",
     "output_type": "stream",
     "text": [
      "\r",
      " 75%|███████▌  | 18/24 [2:15:57<42:57, 429.63s/it]"
     ]
    },
    {
     "name": "stdout",
     "output_type": "stream",
     "text": [
      "channel 000 , position  Pos17  saved out\n",
      "channel 002 , position  Pos18  saved out\n",
      "channel 001 , position  Pos18  saved out\n",
      "channel 003 , position  Pos18  saved out\n"
     ]
    },
    {
     "name": "stderr",
     "output_type": "stream",
     "text": [
      "\r",
      " 79%|███████▉  | 19/24 [2:24:21<37:40, 452.01s/it]"
     ]
    },
    {
     "name": "stdout",
     "output_type": "stream",
     "text": [
      "channel 000 , position  Pos18  saved out\n",
      "channel 002 , position  Pos19  saved out\n",
      "channel 001 , position  Pos19  saved out\n",
      "channel 003 , position  Pos19  saved out\n"
     ]
    },
    {
     "name": "stderr",
     "output_type": "stream",
     "text": [
      "\r",
      " 83%|████████▎ | 20/24 [2:32:47<31:12, 468.05s/it]"
     ]
    },
    {
     "name": "stdout",
     "output_type": "stream",
     "text": [
      "channel 000 , position  Pos19  saved out\n",
      "channel 002 , position  Pos20  saved out\n",
      "channel 001 , position  Pos20  saved out\n",
      "channel 003 , position  Pos20  saved out\n"
     ]
    },
    {
     "name": "stderr",
     "output_type": "stream",
     "text": [
      "\r",
      " 88%|████████▊ | 21/24 [2:41:10<23:55, 478.58s/it]"
     ]
    },
    {
     "name": "stdout",
     "output_type": "stream",
     "text": [
      "channel 000 , position  Pos20  saved out\n",
      "channel 002 , position  Pos21  saved out\n",
      "channel 001 , position  Pos21  saved out\n",
      "channel 003 , position  Pos21  saved out\n"
     ]
    },
    {
     "name": "stderr",
     "output_type": "stream",
     "text": [
      "\r",
      " 92%|█████████▏| 22/24 [2:49:33<16:11, 485.95s/it]"
     ]
    },
    {
     "name": "stdout",
     "output_type": "stream",
     "text": [
      "channel 000 , position  Pos21  saved out\n",
      "channel 002 , position  Pos22  saved out\n",
      "channel 001 , position  Pos22  saved out\n",
      "channel 003 , position  Pos22  saved out\n"
     ]
    },
    {
     "name": "stderr",
     "output_type": "stream",
     "text": [
      "\r",
      " 96%|█████████▌| 23/24 [2:58:00<08:12, 492.25s/it]"
     ]
    },
    {
     "name": "stdout",
     "output_type": "stream",
     "text": [
      "channel 000 , position  Pos22  saved out\n",
      "channel 002 , position  Pos23  saved out\n",
      "channel 001 , position  Pos23  saved out\n",
      "channel 003 , position  Pos23  saved out\n"
     ]
    },
    {
     "name": "stderr",
     "output_type": "stream",
     "text": [
      "100%|██████████| 24/24 [3:06:25<00:00, 466.06s/it]"
     ]
    },
    {
     "name": "stdout",
     "output_type": "stream",
     "text": [
      "channel 000 , position  Pos23  saved out\n"
     ]
    },
    {
     "name": "stderr",
     "output_type": "stream",
     "text": [
      "\n"
     ]
    }
   ],
   "source": [
    "for pos in tqdm(pos_list):\n",
    "    #pos_folder = os.path.join(root_folder, pos)\n",
    "    raw_image_dir = os.path.join(root_folder, pos, pos + '_raw')\n",
    "    ### make stack folder if necessary\n",
    "    output_dir = os.path.join(root_folder,pos,pos+'_stacks')\n",
    "    os.mkdir(output_dir) if os.path.exists(output_dir) == False else print(output_dir, 'already exists')\n",
    "    ### count channels\n",
    "    file_list = natsorted(os.listdir(raw_image_dir))\n",
    "    channels = list(set([fn.split('channel')[1][0:3] for fn in file_list]))\n",
    "    for channel in channels:\n",
    "        ### if stack already compiled, skip\n",
    "        if 'channel'+channel+'.tif' in os.listdir(output_dir):\n",
    "            print('channel'+channel+'.tif', 'already compiled, moving to next stack')\n",
    "            continue\n",
    "        channel_file_list = natsorted([fn for fn in os.listdir(raw_image_dir) if 'channel'+channel in fn])\n",
    "        stack = []\n",
    "        for file in channel_file_list:\n",
    "            file = os.path.join(raw_image_dir, file)\n",
    "            try:\n",
    "                tif = np.array(tiff.imread(file),dtype=np.uint8)\n",
    "            except:\n",
    "                tif = np.zeros(tif.shape, dtype=np.uint8)\n",
    "                print('dropped frame at', file)\n",
    "            ###crop???\n",
    "#             tif_w,tif_h = np.shape(tif)[0],np.shape(tif)[1]\n",
    "#             tif = tif[int((tif_w-1200)/2):int(tif_w-(tif_w-1200)/2),int((tif_h-1600)/2):int(tif_h-(tif_h-1600)/2)] ## cropping\n",
    "            stack.append(tif)\n",
    "        stack = np.stack(stack,axis=0)\n",
    "        with tiff.TiffWriter(os.path.join(output_dir,'channel{}.tif'.format(channel)),imagej=True) as output_file:\n",
    "            output_file.save(stack)\n",
    "        print('channel',channel,', position ',pos, ' saved out')"
   ]
  },
  {
   "cell_type": "markdown",
   "metadata": {},
   "source": [
    "# reorganise masks and flow arrays into separate folders"
   ]
  },
  {
   "cell_type": "code",
   "execution_count": 8,
   "metadata": {},
   "outputs": [
    {
     "name": "stderr",
     "output_type": "stream",
     "text": [
      "  0%|          | 0/24 [00:00<?, ?it/s]\n",
      "0it [00:00, ?it/s]\u001b[A\n",
      "\n",
      "  0%|          | 0/24 [00:00<?, ?it/s]\u001b[A\n",
      " 29%|██▉       | 7/24 [00:00<00:00, 65.93it/s]\u001b[A"
     ]
    },
    {
     "name": "stdout",
     "output_type": "stream",
     "text": [
      "/run/user/1000/gvfs/smb-share:server=lowe-sn00.biochem.ucl.ac.uk,share=lowegrp/Data/Manasi/MK0000/Pos0/Pos0_cp_masks already created\n",
      "/run/user/1000/gvfs/smb-share:server=lowe-sn00.biochem.ucl.ac.uk,share=lowegrp/Data/Manasi/MK0000/Pos0/Pos0_cp_masks already created\n"
     ]
    },
    {
     "name": "stderr",
     "output_type": "stream",
     "text": [
      "\n",
      " 58%|█████▊    | 14/24 [00:00<00:00, 63.13it/s]\u001b[A\n",
      "100%|██████████| 24/24 [00:00<00:00, 63.08it/s]\u001b[A\n",
      "\n",
      "0it [00:00, ?it/s]\u001b[A\n",
      "\n",
      "  0%|          | 0/24 [00:00<?, ?it/s]\u001b[A\n",
      " 29%|██▉       | 7/24 [00:00<00:00, 66.41it/s]\u001b[A"
     ]
    },
    {
     "name": "stdout",
     "output_type": "stream",
     "text": [
      "/run/user/1000/gvfs/smb-share:server=lowe-sn00.biochem.ucl.ac.uk,share=lowegrp/Data/Manasi/MK0000/Pos0/Pos0_cp_flow_arr already created\n",
      "/run/user/1000/gvfs/smb-share:server=lowe-sn00.biochem.ucl.ac.uk,share=lowegrp/Data/Manasi/MK0000/Pos0/Pos0_cp_flow_arr already created\n"
     ]
    },
    {
     "name": "stderr",
     "output_type": "stream",
     "text": [
      "\n",
      " 58%|█████▊    | 14/24 [00:00<00:00, 63.58it/s]\u001b[A\n",
      "100%|██████████| 24/24 [00:00<00:00, 62.16it/s]\u001b[A\n",
      "  4%|▍         | 1/24 [00:00<00:19,  1.16it/s]\n",
      "0it [00:00, ?it/s]\u001b[A\n",
      "\n",
      "0it [00:00, ?it/s]\u001b[A\n",
      "\n",
      "0it [00:00, ?it/s]\u001b[A\n",
      "\n",
      "0it [00:00, ?it/s]\u001b[A\n",
      "\n",
      "0it [00:00, ?it/s]\u001b[A\n",
      "\n",
      "0it [00:00, ?it/s]\u001b[A\n",
      "\n",
      "0it [00:00, ?it/s]\u001b[A\n",
      "\n",
      "0it [00:00, ?it/s]\u001b[A\n",
      "\n",
      "0it [00:00, ?it/s]\u001b[A\n",
      "\n",
      "0it [00:00, ?it/s]\u001b[A\n",
      "\n",
      "0it [00:00, ?it/s]\u001b[A\n",
      "\n",
      "0it [00:00, ?it/s]\u001b[A\n",
      " 17%|█▋        | 4/24 [00:01<00:04,  4.94it/s]\n",
      "0it [00:00, ?it/s]\u001b[A\n",
      "\n",
      "0it [00:00, ?it/s]\u001b[A\n",
      "\n",
      "0it [00:00, ?it/s]\u001b[A\n",
      "\n",
      "0it [00:00, ?it/s]\u001b[A"
     ]
    },
    {
     "name": "stdout",
     "output_type": "stream",
     "text": [
      "/run/user/1000/gvfs/smb-share:server=lowe-sn00.biochem.ucl.ac.uk,share=lowegrp/Data/Manasi/MK0000/Pos1/Pos1_cp_masks already created\n",
      "/run/user/1000/gvfs/smb-share:server=lowe-sn00.biochem.ucl.ac.uk,share=lowegrp/Data/Manasi/MK0000/Pos1/Pos1_cp_masks already created\n",
      "/run/user/1000/gvfs/smb-share:server=lowe-sn00.biochem.ucl.ac.uk,share=lowegrp/Data/Manasi/MK0000/Pos1/Pos1_cp_flow_arr already created\n",
      "/run/user/1000/gvfs/smb-share:server=lowe-sn00.biochem.ucl.ac.uk,share=lowegrp/Data/Manasi/MK0000/Pos1/Pos1_cp_flow_arr already created\n",
      "/run/user/1000/gvfs/smb-share:server=lowe-sn00.biochem.ucl.ac.uk,share=lowegrp/Data/Manasi/MK0000/Pos2/Pos2_cp_masks already created\n",
      "/run/user/1000/gvfs/smb-share:server=lowe-sn00.biochem.ucl.ac.uk,share=lowegrp/Data/Manasi/MK0000/Pos2/Pos2_cp_masks already created\n",
      "/run/user/1000/gvfs/smb-share:server=lowe-sn00.biochem.ucl.ac.uk,share=lowegrp/Data/Manasi/MK0000/Pos2/Pos2_cp_flow_arr already created\n",
      "/run/user/1000/gvfs/smb-share:server=lowe-sn00.biochem.ucl.ac.uk,share=lowegrp/Data/Manasi/MK0000/Pos2/Pos2_cp_flow_arr already created\n",
      "/run/user/1000/gvfs/smb-share:server=lowe-sn00.biochem.ucl.ac.uk,share=lowegrp/Data/Manasi/MK0000/Pos3/Pos3_cp_masks already created\n",
      "/run/user/1000/gvfs/smb-share:server=lowe-sn00.biochem.ucl.ac.uk,share=lowegrp/Data/Manasi/MK0000/Pos3/Pos3_cp_masks already created\n",
      "/run/user/1000/gvfs/smb-share:server=lowe-sn00.biochem.ucl.ac.uk,share=lowegrp/Data/Manasi/MK0000/Pos3/Pos3_cp_flow_arr already created\n",
      "/run/user/1000/gvfs/smb-share:server=lowe-sn00.biochem.ucl.ac.uk,share=lowegrp/Data/Manasi/MK0000/Pos3/Pos3_cp_flow_arr already created\n",
      "/run/user/1000/gvfs/smb-share:server=lowe-sn00.biochem.ucl.ac.uk,share=lowegrp/Data/Manasi/MK0000/Pos4/Pos4_cp_masks already created\n",
      "/run/user/1000/gvfs/smb-share:server=lowe-sn00.biochem.ucl.ac.uk,share=lowegrp/Data/Manasi/MK0000/Pos4/Pos4_cp_masks already created\n",
      "/run/user/1000/gvfs/smb-share:server=lowe-sn00.biochem.ucl.ac.uk,share=lowegrp/Data/Manasi/MK0000/Pos4/Pos4_cp_flow_arr already created\n",
      "/run/user/1000/gvfs/smb-share:server=lowe-sn00.biochem.ucl.ac.uk,share=lowegrp/Data/Manasi/MK0000/Pos4/Pos4_cp_flow_arr already created\n"
     ]
    },
    {
     "name": "stderr",
     "output_type": "stream",
     "text": [
      "\n",
      "\n",
      "0it [00:00, ?it/s]\u001b[A\n",
      "\n",
      "0it [00:00, ?it/s]\u001b[A\n",
      "\n",
      "0it [00:00, ?it/s]\u001b[A\n",
      "\n",
      "0it [00:00, ?it/s]\u001b[A\n",
      " 25%|██▌       | 6/24 [00:01<00:02,  7.14it/s]\n",
      "0it [00:00, ?it/s]\u001b[A\n",
      "\n",
      "0it [00:00, ?it/s]\u001b[A\n",
      "\n",
      "0it [00:00, ?it/s]\u001b[A\n",
      "\n",
      "0it [00:00, ?it/s]\u001b[A\n",
      "\n",
      "0it [00:00, ?it/s]\u001b[A\n",
      "\n",
      "  0%|          | 0/21 [00:00<?, ?it/s]\u001b[A"
     ]
    },
    {
     "name": "stdout",
     "output_type": "stream",
     "text": [
      "/run/user/1000/gvfs/smb-share:server=lowe-sn00.biochem.ucl.ac.uk,share=lowegrp/Data/Manasi/MK0000/Pos5/Pos5_cp_masks already created\n",
      "/run/user/1000/gvfs/smb-share:server=lowe-sn00.biochem.ucl.ac.uk,share=lowegrp/Data/Manasi/MK0000/Pos5/Pos5_cp_masks already created\n",
      "/run/user/1000/gvfs/smb-share:server=lowe-sn00.biochem.ucl.ac.uk,share=lowegrp/Data/Manasi/MK0000/Pos5/Pos5_cp_flow_arr already created\n",
      "/run/user/1000/gvfs/smb-share:server=lowe-sn00.biochem.ucl.ac.uk,share=lowegrp/Data/Manasi/MK0000/Pos5/Pos5_cp_flow_arr already created\n",
      "/run/user/1000/gvfs/smb-share:server=lowe-sn00.biochem.ucl.ac.uk,share=lowegrp/Data/Manasi/MK0000/Pos6/Pos6_cp_masks already created\n",
      "/run/user/1000/gvfs/smb-share:server=lowe-sn00.biochem.ucl.ac.uk,share=lowegrp/Data/Manasi/MK0000/Pos6/Pos6_cp_masks already created\n",
      "/run/user/1000/gvfs/smb-share:server=lowe-sn00.biochem.ucl.ac.uk,share=lowegrp/Data/Manasi/MK0000/Pos6/Pos6_cp_flow_arr already created\n",
      "/run/user/1000/gvfs/smb-share:server=lowe-sn00.biochem.ucl.ac.uk,share=lowegrp/Data/Manasi/MK0000/Pos6/Pos6_cp_flow_arr already created\n",
      "/run/user/1000/gvfs/smb-share:server=lowe-sn00.biochem.ucl.ac.uk,share=lowegrp/Data/Manasi/MK0000/Pos7/Pos7_cp_masks already created\n",
      "/run/user/1000/gvfs/smb-share:server=lowe-sn00.biochem.ucl.ac.uk,share=lowegrp/Data/Manasi/MK0000/Pos7/Pos7_cp_masks already created\n"
     ]
    },
    {
     "name": "stderr",
     "output_type": "stream",
     "text": [
      "\n",
      " 33%|███▎      | 7/21 [00:00<00:00, 66.99it/s]\u001b[A\n",
      " 67%|██████▋   | 14/21 [00:00<00:00, 64.19it/s]\u001b[A\n",
      "100%|██████████| 21/21 [00:00<00:00, 64.15it/s]\u001b[A\n",
      "\n",
      "0it [00:00, ?it/s]\u001b[A\n",
      "\n",
      "  0%|          | 0/21 [00:00<?, ?it/s]\u001b[A\n",
      " 33%|███▎      | 7/21 [00:00<00:00, 67.53it/s]\u001b[A"
     ]
    },
    {
     "name": "stdout",
     "output_type": "stream",
     "text": [
      "/run/user/1000/gvfs/smb-share:server=lowe-sn00.biochem.ucl.ac.uk,share=lowegrp/Data/Manasi/MK0000/Pos7/Pos7_cp_flow_arr already created\n",
      "/run/user/1000/gvfs/smb-share:server=lowe-sn00.biochem.ucl.ac.uk,share=lowegrp/Data/Manasi/MK0000/Pos7/Pos7_cp_flow_arr already created\n"
     ]
    },
    {
     "name": "stderr",
     "output_type": "stream",
     "text": [
      "\n",
      " 67%|██████▋   | 14/21 [00:00<00:00, 65.20it/s]\u001b[A\n",
      "100%|██████████| 21/21 [00:00<00:00, 63.26it/s]\u001b[A\n",
      " 33%|███▎      | 8/24 [00:01<00:03,  4.18it/s]\n",
      "0it [00:00, ?it/s]\u001b[A\n",
      "\n",
      "0it [00:00, ?it/s]\u001b[A\n",
      "\n",
      "0it [00:00, ?it/s]\u001b[A\n",
      "\n",
      "0it [00:00, ?it/s]\u001b[A\n",
      "\n",
      "0it [00:00, ?it/s]\u001b[A\n",
      "\n",
      "0it [00:00, ?it/s]\u001b[A\n",
      "\n",
      "0it [00:00, ?it/s]\u001b[A\n",
      "\n",
      "0it [00:00, ?it/s]\u001b[A\n",
      " 42%|████▏     | 10/24 [00:02<00:02,  5.61it/s]\n",
      "0it [00:00, ?it/s]\u001b[A\n",
      "\n",
      "0it [00:00, ?it/s]\u001b[A\n",
      "\n",
      "0it [00:00, ?it/s]\u001b[A\n",
      "\n",
      "0it [00:00, ?it/s]\u001b[A\n",
      "\n",
      "0it [00:00, ?it/s]\u001b[A"
     ]
    },
    {
     "name": "stdout",
     "output_type": "stream",
     "text": [
      "/run/user/1000/gvfs/smb-share:server=lowe-sn00.biochem.ucl.ac.uk,share=lowegrp/Data/Manasi/MK0000/Pos8/Pos8_cp_masks already created\n",
      "/run/user/1000/gvfs/smb-share:server=lowe-sn00.biochem.ucl.ac.uk,share=lowegrp/Data/Manasi/MK0000/Pos8/Pos8_cp_masks already created\n",
      "/run/user/1000/gvfs/smb-share:server=lowe-sn00.biochem.ucl.ac.uk,share=lowegrp/Data/Manasi/MK0000/Pos8/Pos8_cp_flow_arr already created\n",
      "/run/user/1000/gvfs/smb-share:server=lowe-sn00.biochem.ucl.ac.uk,share=lowegrp/Data/Manasi/MK0000/Pos8/Pos8_cp_flow_arr already created\n",
      "/run/user/1000/gvfs/smb-share:server=lowe-sn00.biochem.ucl.ac.uk,share=lowegrp/Data/Manasi/MK0000/Pos9/Pos9_cp_masks already created\n",
      "/run/user/1000/gvfs/smb-share:server=lowe-sn00.biochem.ucl.ac.uk,share=lowegrp/Data/Manasi/MK0000/Pos9/Pos9_cp_masks already created\n",
      "/run/user/1000/gvfs/smb-share:server=lowe-sn00.biochem.ucl.ac.uk,share=lowegrp/Data/Manasi/MK0000/Pos9/Pos9_cp_flow_arr already created\n",
      "/run/user/1000/gvfs/smb-share:server=lowe-sn00.biochem.ucl.ac.uk,share=lowegrp/Data/Manasi/MK0000/Pos9/Pos9_cp_flow_arr already created\n",
      "/run/user/1000/gvfs/smb-share:server=lowe-sn00.biochem.ucl.ac.uk,share=lowegrp/Data/Manasi/MK0000/Pos10/Pos10_cp_masks already created\n",
      "/run/user/1000/gvfs/smb-share:server=lowe-sn00.biochem.ucl.ac.uk,share=lowegrp/Data/Manasi/MK0000/Pos10/Pos10_cp_masks already created\n",
      "/run/user/1000/gvfs/smb-share:server=lowe-sn00.biochem.ucl.ac.uk,share=lowegrp/Data/Manasi/MK0000/Pos10/Pos10_cp_flow_arr already created\n",
      "/run/user/1000/gvfs/smb-share:server=lowe-sn00.biochem.ucl.ac.uk,share=lowegrp/Data/Manasi/MK0000/Pos10/Pos10_cp_flow_arr already created\n",
      "/run/user/1000/gvfs/smb-share:server=lowe-sn00.biochem.ucl.ac.uk,share=lowegrp/Data/Manasi/MK0000/Pos11/Pos11_cp_masks already created\n"
     ]
    },
    {
     "name": "stderr",
     "output_type": "stream",
     "text": [
      "\n",
      "\n",
      "0it [00:00, ?it/s]\u001b[A\n",
      "\n",
      "0it [00:00, ?it/s]\u001b[A\n",
      "\n",
      "0it [00:00, ?it/s]\u001b[A\n",
      " 50%|█████     | 12/24 [00:02<00:01,  7.23it/s]\n",
      "0it [00:00, ?it/s]\u001b[A\n",
      "\n",
      "  0%|          | 0/19 [00:00<?, ?it/s]\u001b[A\n",
      " 37%|███▋      | 7/19 [00:00<00:00, 66.16it/s]\u001b[A"
     ]
    },
    {
     "name": "stdout",
     "output_type": "stream",
     "text": [
      "/run/user/1000/gvfs/smb-share:server=lowe-sn00.biochem.ucl.ac.uk,share=lowegrp/Data/Manasi/MK0000/Pos11/Pos11_cp_masks already created\n",
      "/run/user/1000/gvfs/smb-share:server=lowe-sn00.biochem.ucl.ac.uk,share=lowegrp/Data/Manasi/MK0000/Pos11/Pos11_cp_flow_arr already created\n",
      "/run/user/1000/gvfs/smb-share:server=lowe-sn00.biochem.ucl.ac.uk,share=lowegrp/Data/Manasi/MK0000/Pos11/Pos11_cp_flow_arr already created\n",
      "/run/user/1000/gvfs/smb-share:server=lowe-sn00.biochem.ucl.ac.uk,share=lowegrp/Data/Manasi/MK0000/Pos12/Pos12_cp_masks already created\n",
      "/run/user/1000/gvfs/smb-share:server=lowe-sn00.biochem.ucl.ac.uk,share=lowegrp/Data/Manasi/MK0000/Pos12/Pos12_cp_masks already created\n"
     ]
    },
    {
     "name": "stderr",
     "output_type": "stream",
     "text": [
      "\n",
      "100%|██████████| 19/19 [00:00<00:00, 63.57it/s]\u001b[A\n",
      "\n",
      "0it [00:00, ?it/s]\u001b[A\n",
      "\n",
      "  0%|          | 0/19 [00:00<?, ?it/s]\u001b[A\n",
      " 37%|███▋      | 7/19 [00:00<00:00, 64.78it/s]\u001b[A"
     ]
    },
    {
     "name": "stdout",
     "output_type": "stream",
     "text": [
      "/run/user/1000/gvfs/smb-share:server=lowe-sn00.biochem.ucl.ac.uk,share=lowegrp/Data/Manasi/MK0000/Pos12/Pos12_cp_flow_arr already created\n",
      "/run/user/1000/gvfs/smb-share:server=lowe-sn00.biochem.ucl.ac.uk,share=lowegrp/Data/Manasi/MK0000/Pos12/Pos12_cp_flow_arr already created\n"
     ]
    },
    {
     "name": "stderr",
     "output_type": "stream",
     "text": [
      "\n",
      "100%|██████████| 19/19 [00:00<00:00, 64.44it/s]\u001b[A\n",
      "\n",
      "0it [00:00, ?it/s]\u001b[A\n",
      "\n",
      "0it [00:00, ?it/s]\u001b[A\n",
      "\n",
      "0it [00:00, ?it/s]\u001b[A\n",
      "\n",
      "0it [00:00, ?it/s]\u001b[A\n",
      " 58%|█████▊    | 14/24 [00:02<00:02,  4.70it/s]\n",
      "0it [00:00, ?it/s]\u001b[A\n",
      "\n",
      "0it [00:00, ?it/s]\u001b[A\n",
      "\n",
      "0it [00:00, ?it/s]\u001b[A\n",
      "\n",
      "0it [00:00, ?it/s]\u001b[A\n",
      "\n",
      "0it [00:00, ?it/s]\u001b[A\n",
      "\n",
      "0it [00:00, ?it/s]\u001b[A\n",
      "\n",
      "0it [00:00, ?it/s]\u001b[A\n",
      "\n",
      "0it [00:00, ?it/s]\u001b[A\n",
      " 67%|██████▋   | 16/24 [00:03<00:01,  6.03it/s]\n",
      "0it [00:00, ?it/s]\u001b[A"
     ]
    },
    {
     "name": "stdout",
     "output_type": "stream",
     "text": [
      "/run/user/1000/gvfs/smb-share:server=lowe-sn00.biochem.ucl.ac.uk,share=lowegrp/Data/Manasi/MK0000/Pos13/Pos13_cp_masks already created\n",
      "/run/user/1000/gvfs/smb-share:server=lowe-sn00.biochem.ucl.ac.uk,share=lowegrp/Data/Manasi/MK0000/Pos13/Pos13_cp_masks already created\n",
      "/run/user/1000/gvfs/smb-share:server=lowe-sn00.biochem.ucl.ac.uk,share=lowegrp/Data/Manasi/MK0000/Pos13/Pos13_cp_flow_arr already created\n",
      "/run/user/1000/gvfs/smb-share:server=lowe-sn00.biochem.ucl.ac.uk,share=lowegrp/Data/Manasi/MK0000/Pos13/Pos13_cp_flow_arr already created\n",
      "/run/user/1000/gvfs/smb-share:server=lowe-sn00.biochem.ucl.ac.uk,share=lowegrp/Data/Manasi/MK0000/Pos14/Pos14_cp_masks already created\n",
      "/run/user/1000/gvfs/smb-share:server=lowe-sn00.biochem.ucl.ac.uk,share=lowegrp/Data/Manasi/MK0000/Pos14/Pos14_cp_masks already created\n",
      "/run/user/1000/gvfs/smb-share:server=lowe-sn00.biochem.ucl.ac.uk,share=lowegrp/Data/Manasi/MK0000/Pos14/Pos14_cp_flow_arr already created\n",
      "/run/user/1000/gvfs/smb-share:server=lowe-sn00.biochem.ucl.ac.uk,share=lowegrp/Data/Manasi/MK0000/Pos14/Pos14_cp_flow_arr already created\n",
      "/run/user/1000/gvfs/smb-share:server=lowe-sn00.biochem.ucl.ac.uk,share=lowegrp/Data/Manasi/MK0000/Pos15/Pos15_cp_masks already created\n",
      "/run/user/1000/gvfs/smb-share:server=lowe-sn00.biochem.ucl.ac.uk,share=lowegrp/Data/Manasi/MK0000/Pos15/Pos15_cp_masks already created\n",
      "/run/user/1000/gvfs/smb-share:server=lowe-sn00.biochem.ucl.ac.uk,share=lowegrp/Data/Manasi/MK0000/Pos15/Pos15_cp_flow_arr already created\n",
      "/run/user/1000/gvfs/smb-share:server=lowe-sn00.biochem.ucl.ac.uk,share=lowegrp/Data/Manasi/MK0000/Pos15/Pos15_cp_flow_arr already created\n",
      "/run/user/1000/gvfs/smb-share:server=lowe-sn00.biochem.ucl.ac.uk,share=lowegrp/Data/Manasi/MK0000/Pos16/Pos16_cp_masks already created\n"
     ]
    },
    {
     "name": "stderr",
     "output_type": "stream",
     "text": [
      "\n",
      "\n",
      "0it [00:00, ?it/s]\u001b[A\n",
      "\n",
      "0it [00:00, ?it/s]\u001b[A\n",
      "\n",
      "0it [00:00, ?it/s]\u001b[A\n",
      "\n",
      "0it [00:00, ?it/s]\u001b[A\n",
      "\n",
      "  0%|          | 0/20 [00:00<?, ?it/s]\u001b[A\n",
      " 35%|███▌      | 7/20 [00:00<00:00, 65.39it/s]\u001b[A"
     ]
    },
    {
     "name": "stdout",
     "output_type": "stream",
     "text": [
      "/run/user/1000/gvfs/smb-share:server=lowe-sn00.biochem.ucl.ac.uk,share=lowegrp/Data/Manasi/MK0000/Pos16/Pos16_cp_masks already created\n",
      "/run/user/1000/gvfs/smb-share:server=lowe-sn00.biochem.ucl.ac.uk,share=lowegrp/Data/Manasi/MK0000/Pos16/Pos16_cp_flow_arr already created\n",
      "/run/user/1000/gvfs/smb-share:server=lowe-sn00.biochem.ucl.ac.uk,share=lowegrp/Data/Manasi/MK0000/Pos16/Pos16_cp_flow_arr already created\n",
      "/run/user/1000/gvfs/smb-share:server=lowe-sn00.biochem.ucl.ac.uk,share=lowegrp/Data/Manasi/MK0000/Pos17/Pos17_cp_masks already created\n",
      "/run/user/1000/gvfs/smb-share:server=lowe-sn00.biochem.ucl.ac.uk,share=lowegrp/Data/Manasi/MK0000/Pos17/Pos17_cp_masks already created\n"
     ]
    },
    {
     "name": "stderr",
     "output_type": "stream",
     "text": [
      "\n",
      "100%|██████████| 20/20 [00:00<00:00, 64.73it/s]\u001b[A\n",
      "\n",
      "0it [00:00, ?it/s]\u001b[A\n",
      "\n",
      "  0%|          | 0/19 [00:00<?, ?it/s]\u001b[A\n",
      " 37%|███▋      | 7/19 [00:00<00:00, 65.51it/s]\u001b[A"
     ]
    },
    {
     "name": "stdout",
     "output_type": "stream",
     "text": [
      "/run/user/1000/gvfs/smb-share:server=lowe-sn00.biochem.ucl.ac.uk,share=lowegrp/Data/Manasi/MK0000/Pos17/Pos17_cp_flow_arr already created\n",
      "/run/user/1000/gvfs/smb-share:server=lowe-sn00.biochem.ucl.ac.uk,share=lowegrp/Data/Manasi/MK0000/Pos17/Pos17_cp_flow_arr already created\n"
     ]
    },
    {
     "name": "stderr",
     "output_type": "stream",
     "text": [
      "\n",
      "100%|██████████| 19/19 [00:00<00:00, 61.92it/s]\u001b[A\n",
      " 75%|███████▌  | 18/24 [00:03<00:01,  4.30it/s]\n",
      "0it [00:00, ?it/s]\u001b[A\n",
      "\n",
      "0it [00:00, ?it/s]\u001b[A\n",
      "\n",
      "0it [00:00, ?it/s]\u001b[A\n",
      "\n",
      "0it [00:00, ?it/s]\u001b[A\n",
      "\n",
      "0it [00:00, ?it/s]\u001b[A\n",
      "\n",
      "0it [00:00, ?it/s]\u001b[A\n",
      "\n",
      "0it [00:00, ?it/s]\u001b[A\n",
      "\n",
      "0it [00:00, ?it/s]\u001b[A\n",
      " 83%|████████▎ | 20/24 [00:03<00:00,  5.55it/s]\n",
      "0it [00:00, ?it/s]\u001b[A\n",
      "\n",
      "0it [00:00, ?it/s]\u001b[A\n",
      "\n",
      "0it [00:00, ?it/s]\u001b[A\n",
      "\n",
      "0it [00:00, ?it/s]\u001b[A\n",
      "\n",
      "0it [00:00, ?it/s]\u001b[A"
     ]
    },
    {
     "name": "stdout",
     "output_type": "stream",
     "text": [
      "/run/user/1000/gvfs/smb-share:server=lowe-sn00.biochem.ucl.ac.uk,share=lowegrp/Data/Manasi/MK0000/Pos18/Pos18_cp_masks already created\n",
      "/run/user/1000/gvfs/smb-share:server=lowe-sn00.biochem.ucl.ac.uk,share=lowegrp/Data/Manasi/MK0000/Pos18/Pos18_cp_masks already created\n",
      "/run/user/1000/gvfs/smb-share:server=lowe-sn00.biochem.ucl.ac.uk,share=lowegrp/Data/Manasi/MK0000/Pos18/Pos18_cp_flow_arr already created\n",
      "/run/user/1000/gvfs/smb-share:server=lowe-sn00.biochem.ucl.ac.uk,share=lowegrp/Data/Manasi/MK0000/Pos18/Pos18_cp_flow_arr already created\n",
      "/run/user/1000/gvfs/smb-share:server=lowe-sn00.biochem.ucl.ac.uk,share=lowegrp/Data/Manasi/MK0000/Pos19/Pos19_cp_masks already created\n",
      "/run/user/1000/gvfs/smb-share:server=lowe-sn00.biochem.ucl.ac.uk,share=lowegrp/Data/Manasi/MK0000/Pos19/Pos19_cp_masks already created\n",
      "/run/user/1000/gvfs/smb-share:server=lowe-sn00.biochem.ucl.ac.uk,share=lowegrp/Data/Manasi/MK0000/Pos19/Pos19_cp_flow_arr already created\n",
      "/run/user/1000/gvfs/smb-share:server=lowe-sn00.biochem.ucl.ac.uk,share=lowegrp/Data/Manasi/MK0000/Pos19/Pos19_cp_flow_arr already created\n",
      "/run/user/1000/gvfs/smb-share:server=lowe-sn00.biochem.ucl.ac.uk,share=lowegrp/Data/Manasi/MK0000/Pos20/Pos20_cp_masks already created\n",
      "/run/user/1000/gvfs/smb-share:server=lowe-sn00.biochem.ucl.ac.uk,share=lowegrp/Data/Manasi/MK0000/Pos20/Pos20_cp_masks already created\n",
      "/run/user/1000/gvfs/smb-share:server=lowe-sn00.biochem.ucl.ac.uk,share=lowegrp/Data/Manasi/MK0000/Pos20/Pos20_cp_flow_arr already created\n",
      "/run/user/1000/gvfs/smb-share:server=lowe-sn00.biochem.ucl.ac.uk,share=lowegrp/Data/Manasi/MK0000/Pos20/Pos20_cp_flow_arr already created\n",
      "/run/user/1000/gvfs/smb-share:server=lowe-sn00.biochem.ucl.ac.uk,share=lowegrp/Data/Manasi/MK0000/Pos21/Pos21_cp_masks already created\n"
     ]
    },
    {
     "name": "stderr",
     "output_type": "stream",
     "text": [
      "\n",
      "\n",
      "0it [00:00, ?it/s]\u001b[A\n",
      "\n",
      "0it [00:00, ?it/s]\u001b[A\n",
      "\n",
      "0it [00:00, ?it/s]\u001b[A\n",
      " 92%|█████████▏| 22/24 [00:04<00:00,  6.82it/s]\n",
      "0it [00:00, ?it/s]\u001b[A\n",
      "\n",
      "  0%|          | 0/19 [00:00<?, ?it/s]\u001b[A\n",
      " 37%|███▋      | 7/19 [00:00<00:00, 65.95it/s]\u001b[A"
     ]
    },
    {
     "name": "stdout",
     "output_type": "stream",
     "text": [
      "/run/user/1000/gvfs/smb-share:server=lowe-sn00.biochem.ucl.ac.uk,share=lowegrp/Data/Manasi/MK0000/Pos21/Pos21_cp_masks already created\n",
      "/run/user/1000/gvfs/smb-share:server=lowe-sn00.biochem.ucl.ac.uk,share=lowegrp/Data/Manasi/MK0000/Pos21/Pos21_cp_flow_arr already created\n",
      "/run/user/1000/gvfs/smb-share:server=lowe-sn00.biochem.ucl.ac.uk,share=lowegrp/Data/Manasi/MK0000/Pos21/Pos21_cp_flow_arr already created\n",
      "/run/user/1000/gvfs/smb-share:server=lowe-sn00.biochem.ucl.ac.uk,share=lowegrp/Data/Manasi/MK0000/Pos22/Pos22_cp_masks already created\n",
      "/run/user/1000/gvfs/smb-share:server=lowe-sn00.biochem.ucl.ac.uk,share=lowegrp/Data/Manasi/MK0000/Pos22/Pos22_cp_masks already created\n"
     ]
    },
    {
     "name": "stderr",
     "output_type": "stream",
     "text": [
      "\n",
      "100%|██████████| 19/19 [00:00<00:00, 63.90it/s]\u001b[A\n",
      "\n",
      "0it [00:00, ?it/s]\u001b[A\n",
      "\n",
      "  0%|          | 0/19 [00:00<?, ?it/s]\u001b[A\n",
      " 37%|███▋      | 7/19 [00:00<00:00, 62.69it/s]\u001b[A"
     ]
    },
    {
     "name": "stdout",
     "output_type": "stream",
     "text": [
      "/run/user/1000/gvfs/smb-share:server=lowe-sn00.biochem.ucl.ac.uk,share=lowegrp/Data/Manasi/MK0000/Pos22/Pos22_cp_flow_arr already created\n",
      "/run/user/1000/gvfs/smb-share:server=lowe-sn00.biochem.ucl.ac.uk,share=lowegrp/Data/Manasi/MK0000/Pos22/Pos22_cp_flow_arr already created\n"
     ]
    },
    {
     "name": "stderr",
     "output_type": "stream",
     "text": [
      "\n",
      "100%|██████████| 19/19 [00:00<00:00, 62.57it/s]\u001b[A\n",
      "\n",
      "0it [00:00, ?it/s]\u001b[A\n",
      "\n",
      "0it [00:00, ?it/s]\u001b[A\n",
      "\n",
      "0it [00:00, ?it/s]\u001b[A\n",
      "\n",
      "0it [00:00, ?it/s]\u001b[A\n",
      "100%|██████████| 24/24 [00:04<00:00,  4.99it/s]"
     ]
    },
    {
     "name": "stdout",
     "output_type": "stream",
     "text": [
      "/run/user/1000/gvfs/smb-share:server=lowe-sn00.biochem.ucl.ac.uk,share=lowegrp/Data/Manasi/MK0000/Pos23/Pos23_cp_masks already created\n",
      "/run/user/1000/gvfs/smb-share:server=lowe-sn00.biochem.ucl.ac.uk,share=lowegrp/Data/Manasi/MK0000/Pos23/Pos23_cp_masks already created\n",
      "/run/user/1000/gvfs/smb-share:server=lowe-sn00.biochem.ucl.ac.uk,share=lowegrp/Data/Manasi/MK0000/Pos23/Pos23_cp_flow_arr already created\n",
      "/run/user/1000/gvfs/smb-share:server=lowe-sn00.biochem.ucl.ac.uk,share=lowegrp/Data/Manasi/MK0000/Pos23/Pos23_cp_flow_arr already created\n"
     ]
    },
    {
     "name": "stderr",
     "output_type": "stream",
     "text": [
      "\n"
     ]
    }
   ],
   "source": [
    "\n",
    "for pos in tqdm(pos_list):\n",
    "    for file_type in ['.png', '.npy']:#file_types:\n",
    "        for channel in ['channel001', 'channel002']:#channels:\n",
    "            pos_folder = os.path.join(root_folder, pos)\n",
    "            ### collect files\n",
    "            files = natsorted([fn for fn in os.listdir(pos_folder) if channel in fn and file_type in fn])\n",
    "            \n",
    "            ### make new output folder \n",
    "            if file_type == '.png':\n",
    "                output_dir = os.path.join(pos_folder, pos + '_cp_masks')\n",
    "                try: \n",
    "                    os.mkdir(output_dir)\n",
    "                except:\n",
    "                    print(output_dir, 'already created')\n",
    "            if file_type == '.npy':\n",
    "                output_dir = os.path.join(pos_folder, pos + '_cp_flow_arr')\n",
    "                try: \n",
    "                    os.mkdir(output_dir)\n",
    "                except:\n",
    "                    print(output_dir, 'already created')                \n",
    "            for filename in tqdm(files):\n",
    "                origin_path = os.path.join(pos_folder, filename)\n",
    "                dest_path = os.path.join(output_dir, filename)\n",
    "                os.rename(origin_path, dest_path)\n",
    "            \n",
    "            #print(origin_path, dest_path)"
   ]
  },
  {
   "cell_type": "markdown",
   "metadata": {},
   "source": [
    "# check progress of segmentation job\n",
    "\n",
    "there should be 1014 images per channel per pos so a completed 2channel seg job should have 2028 images"
   ]
  },
  {
   "cell_type": "code",
   "execution_count": 9,
   "metadata": {},
   "outputs": [],
   "source": [
    "num_outputted_files_dict = {}\n",
    "\n",
    "for pos in pos_list:\n",
    "    pos_dir = os.path.join(root_folder, pos)\n",
    "    num_outputted_files_dict[pos] = len([fn for fn in os.listdir(pos_dir) if '.png' in fn])#len(glob.glob(os.path.join(pos_dir, '*.png')))"
   ]
  },
  {
   "cell_type": "code",
   "execution_count": 11,
   "metadata": {},
   "outputs": [
    {
     "data": {
      "text/plain": [
       "{'Pos0': 0,\n",
       " 'Pos1': 0,\n",
       " 'Pos2': 0,\n",
       " 'Pos3': 0,\n",
       " 'Pos4': 0,\n",
       " 'Pos5': 0,\n",
       " 'Pos6': 0,\n",
       " 'Pos7': 0,\n",
       " 'Pos8': 0,\n",
       " 'Pos9': 0,\n",
       " 'Pos10': 0,\n",
       " 'Pos11': 0,\n",
       " 'Pos12': 0,\n",
       " 'Pos13': 0,\n",
       " 'Pos14': 0,\n",
       " 'Pos15': 0,\n",
       " 'Pos16': 0,\n",
       " 'Pos17': 0,\n",
       " 'Pos18': 0,\n",
       " 'Pos19': 0,\n",
       " 'Pos20': 0,\n",
       " 'Pos21': 0,\n",
       " 'Pos22': 0,\n",
       " 'Pos23': 0}"
      ]
     },
     "execution_count": 11,
     "metadata": {},
     "output_type": "execute_result"
    }
   ],
   "source": [
    "num_outputted_files_dict "
   ]
  },
  {
   "cell_type": "code",
   "execution_count": 12,
   "metadata": {},
   "outputs": [],
   "source": [
    "num_moved_files_dict = {}\n",
    "\n",
    "for pos in pos_list:\n",
    "    mask_dir = os.path.join(root_folder, pos, pos+'_cp_masks')\n",
    "    num_moved_files_dict[pos] = len(os.listdir(mask_dir))"
   ]
  },
  {
   "cell_type": "code",
   "execution_count": 15,
   "metadata": {},
   "outputs": [
    {
     "data": {
      "text/plain": [
       "{'Pos0': 1465,\n",
       " 'Pos1': 0,\n",
       " 'Pos2': 0,\n",
       " 'Pos3': 0,\n",
       " 'Pos4': 0,\n",
       " 'Pos5': 2028,\n",
       " 'Pos6': 2028,\n",
       " 'Pos7': 1796,\n",
       " 'Pos8': 0,\n",
       " 'Pos9': 0,\n",
       " 'Pos10': 2028,\n",
       " 'Pos11': 2028,\n",
       " 'Pos12': 1766,\n",
       " 'Pos13': 0,\n",
       " 'Pos14': 0,\n",
       " 'Pos15': 2027,\n",
       " 'Pos16': 2028,\n",
       " 'Pos17': 1684,\n",
       " 'Pos18': 0,\n",
       " 'Pos19': 0,\n",
       " 'Pos20': 2028,\n",
       " 'Pos21': 2028,\n",
       " 'Pos22': 1814,\n",
       " 'Pos23': 0}"
      ]
     },
     "execution_count": 15,
     "metadata": {},
     "output_type": "execute_result"
    }
   ],
   "source": [
    "num_moved_files_dict"
   ]
  },
  {
   "cell_type": "code",
   "execution_count": 17,
   "metadata": {},
   "outputs": [
    {
     "name": "stdout",
     "output_type": "stream",
     "text": [
      "0.5084648257725181\n"
     ]
    }
   ],
   "source": [
    "### overall progress \n",
    "num_images = 0\n",
    "for i in num_moved_files_dict:\n",
    "    num_images += num_moved_files_dict[i]\n",
    "percentage_complete = num_images / (len(num_moved_files_dict) * 2028)\n",
    "print(percentage_complete)"
   ]
  }
 ],
 "metadata": {
  "kernelspec": {
   "display_name": "py3.9",
   "language": "python",
   "name": "py3.9"
  },
  "language_info": {
   "codemirror_mode": {
    "name": "ipython",
    "version": 3
   },
   "file_extension": ".py",
   "mimetype": "text/x-python",
   "name": "python",
   "nbconvert_exporter": "python",
   "pygments_lexer": "ipython3",
   "version": "3.9.4"
  }
 },
 "nbformat": 4,
 "nbformat_minor": 2
}
