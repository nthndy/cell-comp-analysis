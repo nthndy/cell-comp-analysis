{
 "cells": [
  {
   "cell_type": "markdown",
   "metadata": {},
   "source": [
    "# Segmentation to btrack BATCH PROCESS\n",
    "\n",
    "This example uses TIF files saved out from segmentation using *stardist3D*, although will work for other segmentation pipelines too."
   ]
  },
  {
   "cell_type": "code",
   "execution_count": 14,
   "metadata": {},
   "outputs": [
    {
     "name": "stdout",
     "output_type": "stream",
     "text": [
      "Btrack version 0.4.1\n",
      "Napari version 0.4.7\n"
     ]
    }
   ],
   "source": [
    "import glob\n",
    "import os\n",
    "import btrack\n",
    "print('Btrack version', btrack.__version__)\n",
    "import napari\n",
    "print('Napari version', napari.__version__)\n",
    "import numpy as np\n",
    "\n",
    "from skimage.io import imread\n",
    "from natsort import natsorted\n",
    "from napari_animation import AnimationWidget\n",
    "from tqdm import tqdm\n",
    "import tifffile as tiff\n",
    "from datetime import datetime\n",
    "\n",
    "### function to load images efficiently\n",
    "def segmentation_generator(files):\n",
    "    \"\"\"Segmentation generator\"\"\"\n",
    "    \n",
    "    for filename in files:\n",
    "        img = imread(filename)\n",
    "        yield img"
   ]
  },
  {
   "cell_type": "markdown",
   "metadata": {},
   "source": [
    "# Set root folder and find expt IDs"
   ]
  },
  {
   "cell_type": "code",
   "execution_count": 4,
   "metadata": {},
   "outputs": [],
   "source": [
    "root_folder = '/run/user/1000/gvfs/smb-share:server=lowe-sn00.biochem.ucl.ac.uk,share=lowegrp/Data/Manasi/'\n",
    "expt_IDs = natsorted([ID for ID in os.listdir(root_folder) if 'MK' in ID])\n",
    "expt = expt_IDs[0]"
   ]
  },
  {
   "cell_type": "markdown",
   "metadata": {},
   "source": [
    "# Run batch tracking job"
   ]
  },
  {
   "cell_type": "code",
   "execution_count": null,
   "metadata": {
    "scrolled": true
   },
   "outputs": [
    {
     "name": "stderr",
     "output_type": "stream",
     "text": [
      "\r",
      "  0%|          | 0/24 [00:00<?, ?it/s]"
     ]
    },
    {
     "name": "stdout",
     "output_type": "stream",
     "text": [
      "Pos0 starting\n",
      "Finding mask files Pos0\n"
     ]
    },
    {
     "name": "stderr",
     "output_type": "stream",
     "text": [
      "[INFO][2021/05/21 05:11:04 PM] Localizing objects from segmentation...\n"
     ]
    },
    {
     "name": "stdout",
     "output_type": "stream",
     "text": [
      "Filtering mask files Pos0\n",
      "Loading mask files Pos0\n",
      "Localising objects Pos0\n"
     ]
    },
    {
     "name": "stderr",
     "output_type": "stream",
     "text": [
      "[INFO][2021/05/21 05:15:02 PM] Objects are of type: <class 'dict'>\n",
      "[INFO][2021/05/21 05:15:06 PM] ...Found 563356 objects in 1014 frames.\n",
      "[INFO][2021/05/21 05:15:06 PM] Localizing objects from segmentation...\n",
      "[INFO][2021/05/21 05:15:28 PM] Objects are of type: <class 'dict'>\n",
      "[INFO][2021/05/21 05:15:28 PM] ...Found 377 objects in 419 frames.\n",
      "[INFO][2021/05/21 05:15:28 PM] Loaded btrack: /home/nathan/analysis/cell-comp-analysis/BayesianTracker/btrack/libs/libtracker.so\n",
      "[INFO][2021/05/21 05:15:28 PM] btrack (v0.4.1) library imported\n",
      "[INFO][2021/05/21 05:15:28 PM] Setting max XYZ search radius to: 100\n",
      "[INFO][2021/05/21 05:15:28 PM] Starting BayesianTracker session\n",
      "[INFO][2021/05/21 05:15:28 PM] Loading configuration file: /home/nathan/analysis/cell-comp-analysis/BayesianTracker/models/MDCK_config_new.json\n",
      "[INFO][2021/05/21 05:15:28 PM] Loading motion model: b'MDCK_motion_Kristina'\n",
      "[INFO][2021/05/21 05:15:28 PM] Setting max XYZ search radius to: 10\n",
      "[INFO][2021/05/21 05:15:28 PM] Objects are of type: <class 'list'>\n"
     ]
    },
    {
     "name": "stdout",
     "output_type": "stream",
     "text": [
      "Tracking GFP objects Pos0\n"
     ]
    },
    {
     "name": "stderr",
     "output_type": "stream",
     "text": [
      "[INFO][2021/05/21 05:15:29 PM] Set volume to ((0, 1688), (0, 1352), (-100000.0, 100000.0))\n",
      "[INFO][2021/05/21 05:15:29 PM] Starting tracking... \n",
      "[INFO][2021/05/21 05:15:29 PM] Tracking objects in frames 0 to 99 (of 1014)...\n",
      "[INFO][2021/05/21 05:15:31 PM]  - Timing (Bayesian updates: 29.36ms, Linking: 1.49ms)\n",
      "[INFO][2021/05/21 05:15:31 PM]  - Probabilities (Link: 1.00000, Lost: 1.00000)\n",
      "[INFO][2021/05/21 05:15:31 PM]  - Stats (Active: 399, Lost: 1657, Conflicts resolved: 4330)\n",
      "[INFO][2021/05/21 05:15:31 PM] Tracking objects in frames 100 to 199 (of 1014)...\n",
      "[INFO][2021/05/21 05:15:34 PM]  - Timing (Bayesian updates: 27.25ms, Linking: 1.45ms)\n",
      "[INFO][2021/05/21 05:15:34 PM]  - Probabilities (Link: 0.99999, Lost: 1.00000)\n",
      "[INFO][2021/05/21 05:15:34 PM]  - Stats (Active: 325, Lost: 2791, Conflicts resolved: 7293)\n",
      "[INFO][2021/05/21 05:15:34 PM] Tracking objects in frames 200 to 299 (of 1014)...\n",
      "[INFO][2021/05/21 05:15:38 PM]  - Timing (Bayesian updates: 45.77ms, Linking: 1.50ms)\n",
      "[INFO][2021/05/21 05:15:38 PM]  - Probabilities (Link: 0.99680, Lost: 0.74985)\n",
      "[INFO][2021/05/21 05:15:38 PM]  - Stats (Active: 404, Lost: 3616, Conflicts resolved: 9049)\n",
      "[INFO][2021/05/21 05:15:38 PM] Tracking objects in frames 300 to 399 (of 1014)...\n",
      "[INFO][2021/05/21 05:15:44 PM]  - Timing (Bayesian updates: 70.23ms, Linking: 1.88ms)\n",
      "[INFO][2021/05/21 05:15:44 PM]  - Probabilities (Link: 1.00000, Lost: 0.50886)\n",
      "[INFO][2021/05/21 05:15:44 PM]  - Stats (Active: 474, Lost: 4573, Conflicts resolved: 11181)\n",
      "[INFO][2021/05/21 05:15:44 PM] Tracking objects in frames 400 to 499 (of 1014)...\n",
      "[INFO][2021/05/21 05:15:54 PM]  - Timing (Bayesian updates: 105.99ms, Linking: 2.71ms)\n",
      "[INFO][2021/05/21 05:15:54 PM]  - Probabilities (Link: 1.00000, Lost: 1.00000)\n",
      "[INFO][2021/05/21 05:15:54 PM]  - Stats (Active: 561, Lost: 5321, Conflicts resolved: 12033)\n",
      "[INFO][2021/05/21 05:15:54 PM] Tracking objects in frames 500 to 599 (of 1014)...\n",
      "[INFO][2021/05/21 05:16:09 PM]  - Timing (Bayesian updates: 151.40ms, Linking: 3.25ms)\n",
      "[INFO][2021/05/21 05:16:09 PM]  - Probabilities (Link: 1.00000, Lost: 1.00000)\n",
      "[INFO][2021/05/21 05:16:09 PM]  - Stats (Active: 632, Lost: 7843, Conflicts resolved: 19635)\n",
      "[INFO][2021/05/21 05:16:09 PM] Tracking objects in frames 600 to 699 (of 1014)...\n",
      "[INFO][2021/05/21 05:16:30 PM]  - Timing (Bayesian updates: 217.32ms, Linking: 3.96ms)\n",
      "[INFO][2021/05/21 05:16:30 PM]  - Probabilities (Link: 0.99994, Lost: 1.00000)\n",
      "[INFO][2021/05/21 05:16:30 PM]  - Stats (Active: 738, Lost: 10425, Conflicts resolved: 26100)\n",
      "[INFO][2021/05/21 05:16:30 PM] Tracking objects in frames 700 to 799 (of 1014)...\n",
      "[INFO][2021/05/21 05:16:57 PM]  - Timing (Bayesian updates: 285.13ms, Linking: 4.33ms)\n",
      "[INFO][2021/05/21 05:16:57 PM]  - Probabilities (Link: 1.00000, Lost: 1.00000)\n",
      "[INFO][2021/05/21 05:16:57 PM]  - Stats (Active: 822, Lost: 12603, Conflicts resolved: 29772)\n",
      "[INFO][2021/05/21 05:16:57 PM] Tracking objects in frames 800 to 899 (of 1014)...\n",
      "[INFO][2021/05/21 05:17:32 PM]  - Timing (Bayesian updates: 365.74ms, Linking: 5.14ms)\n",
      "[INFO][2021/05/21 05:17:32 PM]  - Probabilities (Link: 0.99998, Lost: 1.00000)\n",
      "[INFO][2021/05/21 05:17:32 PM]  - Stats (Active: 903, Lost: 17077, Conflicts resolved: 37582)\n",
      "[INFO][2021/05/21 05:17:32 PM] Tracking objects in frames 900 to 999 (of 1014)...\n",
      "[INFO][2021/05/21 05:18:10 PM]  - Timing (Bayesian updates: 372.58ms, Linking: 5.37ms)\n",
      "[INFO][2021/05/21 05:18:10 PM]  - Probabilities (Link: 0.99971, Lost: 1.00000)\n",
      "[INFO][2021/05/21 05:18:10 PM]  - Stats (Active: 940, Lost: 21620, Conflicts resolved: 44867)\n",
      "[INFO][2021/05/21 05:18:10 PM] Tracking objects in frames 1000 to 1014 (of 1014)...\n",
      "[INFO][2021/05/21 05:18:14 PM]  - Timing (Bayesian updates: 368.94ms, Linking: 5.43ms)\n",
      "[INFO][2021/05/21 05:18:14 PM]  - Probabilities (Link: 1.00000, Lost: 1.00000)\n",
      "[INFO][2021/05/21 05:18:14 PM] SUCCESS.\n",
      "[INFO][2021/05/21 05:18:14 PM]  - Found 14043 tracks in 1014 frames (in 0.0s)\n",
      "[INFO][2021/05/21 05:18:15 PM]  - Inserted 12318 dummy objects to fill tracking gaps\n",
      "[INFO][2021/05/21 05:18:15 PM] Loading hypothesis model: MDCK_hypothesis_Kristina\n",
      "[INFO][2021/05/21 05:18:15 PM] Calculating hypotheses (relax: False)...\n",
      "[INFO][2021/05/21 05:18:15 PM] Setting up constraints matrix for global optimisation...\n",
      "[INFO][2021/05/21 05:18:15 PM] Optimizing...\n",
      "[INFO][2021/05/21 05:18:15 PM] Optimization complete. (Solution: optimal)\n",
      "[INFO][2021/05/21 05:18:15 PM]  - Fates.FALSE_POSITIVE: 11898 (of 14043)\n",
      "[INFO][2021/05/21 05:18:15 PM]  - Fates.LINK: 760 (of 10173)\n",
      "[INFO][2021/05/21 05:18:15 PM]  - Fates.DIVIDE: 78 (of 1371)\n",
      "[INFO][2021/05/21 05:18:15 PM]  - Fates.INITIALIZE_BORDER: 1195 (of 1501)\n",
      "[INFO][2021/05/21 05:18:15 PM]  - Fates.INITIALIZE_FRONT: 34 (of 254)\n",
      "[INFO][2021/05/21 05:18:15 PM]  - Fates.TERMINATE_BORDER: 1172 (of 1349)\n",
      "[INFO][2021/05/21 05:18:15 PM]  - Fates.TERMINATE_BACK: 135 (of 973)\n",
      "[INFO][2021/05/21 05:18:15 PM]  - TOTAL: 29664 hypotheses\n",
      "[INFO][2021/05/21 05:18:15 PM] Completed optimization with 13283 tracks\n",
      "[INFO][2021/05/21 05:18:15 PM] Opening HDF file: /run/user/1000/gvfs/smb-share:server=lowe-sn00.biochem.ucl.ac.uk,share=lowegrp/Data/Manasi/MK0000/Pos0/gfp_tracks_2021_05_21_05_18_15_PM.h5...\n",
      "[INFO][2021/05/21 05:18:19 PM] Writing objects/obj_type_1\n",
      "[INFO][2021/05/21 05:18:19 PM] Writing labels/obj_type_1\n",
      "[INFO][2021/05/21 05:18:19 PM] Writing properties/obj_type_1\n",
      "[INFO][2021/05/21 05:18:21 PM] Writing tracks/obj_type_1\n",
      "[INFO][2021/05/21 05:18:21 PM] Writing dummies/obj_type_1\n",
      "[INFO][2021/05/21 05:18:21 PM] Writing LBEP/obj_type_1\n",
      "[INFO][2021/05/21 05:18:21 PM] Writing fates/obj_type_1\n",
      "[INFO][2021/05/21 05:18:22 PM] Closing HDF file: /run/user/1000/gvfs/smb-share:server=lowe-sn00.biochem.ucl.ac.uk,share=lowegrp/Data/Manasi/MK0000/Pos0/gfp_tracks_2021_05_21_05_18_15_PM.h5\n",
      "[INFO][2021/05/21 05:18:22 PM] Ending BayesianTracker session\n",
      "[INFO][2021/05/21 05:18:22 PM] Loaded btrack: /home/nathan/analysis/cell-comp-analysis/BayesianTracker/btrack/libs/libtracker.so\n",
      "[INFO][2021/05/21 05:18:22 PM] btrack (v0.4.1) library imported\n",
      "[INFO][2021/05/21 05:18:22 PM] Setting max XYZ search radius to: 100\n",
      "[INFO][2021/05/21 05:18:22 PM] Starting BayesianTracker session\n",
      "[INFO][2021/05/21 05:18:22 PM] Loading configuration file: /home/nathan/analysis/cell-comp-analysis/BayesianTracker/models/MDCK_config_scribble_sparse.json\n",
      "[INFO][2021/05/21 05:18:22 PM] Loading motion model: b'MDCK_motion'\n",
      "[INFO][2021/05/21 05:18:22 PM] Setting max XYZ search radius to: 10\n",
      "[INFO][2021/05/21 05:18:22 PM] Objects are of type: <class 'list'>\n",
      "[INFO][2021/05/21 05:18:22 PM] Set volume to ((0, 1688), (0, 1352), (-100000.0, 100000.0))\n",
      "[INFO][2021/05/21 05:18:22 PM] Starting tracking... \n",
      "[INFO][2021/05/21 05:18:22 PM] Tracking objects in frames 0 to 99 (of 419)...\n",
      "[INFO][2021/05/21 05:18:22 PM]  - Timing (Bayesian updates: 0.00ms, Linking: 0.00ms)\n",
      "[INFO][2021/05/21 05:18:22 PM]  - Probabilities (Link: 0.00000, Lost: 0.00000)\n",
      "[INFO][2021/05/21 05:18:22 PM]  - Stats (Active: 0, Lost: 0, Conflicts resolved: 0)\n",
      "[INFO][2021/05/21 05:18:22 PM] Tracking objects in frames 100 to 199 (of 419)...\n",
      "[INFO][2021/05/21 05:18:22 PM]  - Timing (Bayesian updates: 0.00ms, Linking: 0.01ms)\n",
      "[INFO][2021/05/21 05:18:22 PM]  - Probabilities (Link: 0.00000, Lost: 0.00000)\n",
      "[INFO][2021/05/21 05:18:22 PM]  - Stats (Active: 0, Lost: 0, Conflicts resolved: 0)\n",
      "[INFO][2021/05/21 05:18:22 PM] Tracking objects in frames 200 to 299 (of 419)...\n",
      "[INFO][2021/05/21 05:18:22 PM]  - Timing (Bayesian updates: 0.00ms, Linking: 0.00ms)\n",
      "[INFO][2021/05/21 05:18:22 PM]  - Probabilities (Link: 0.00000, Lost: 0.99558)\n",
      "[INFO][2021/05/21 05:18:22 PM]  - Stats (Active: 0, Lost: 1, Conflicts resolved: 0)\n",
      "[INFO][2021/05/21 05:18:22 PM] Tracking objects in frames 300 to 399 (of 419)...\n",
      "[INFO][2021/05/21 05:18:22 PM]  - Timing (Bayesian updates: 0.00ms, Linking: 0.01ms)\n",
      "[INFO][2021/05/21 05:18:22 PM]  - Probabilities (Link: 0.00000, Lost: 0.99558)\n",
      "[INFO][2021/05/21 05:18:22 PM]  - Stats (Active: 0, Lost: 1, Conflicts resolved: 0)\n",
      "[INFO][2021/05/21 05:18:22 PM] Tracking objects in frames 400 to 419 (of 419)...\n",
      "[INFO][2021/05/21 05:18:22 PM]  - Timing (Bayesian updates: 0.00ms, Linking: 1.14ms)\n",
      "[INFO][2021/05/21 05:18:22 PM]  - Probabilities (Link: 0.00000, Lost: 0.99558)\n"
     ]
    },
    {
     "name": "stderr",
     "output_type": "stream",
     "text": [
      "[INFO][2021/05/21 05:18:22 PM] SUCCESS.\n",
      "[INFO][2021/05/21 05:18:22 PM]  - Found 376 tracks in 419 frames (in 0.0s)\n",
      "[INFO][2021/05/21 05:18:22 PM]  - Inserted 0 dummy objects to fill tracking gaps\n",
      "[INFO][2021/05/21 05:18:22 PM] Loading hypothesis model: MDCK_hypothesis_scribble_sparse\n",
      "[INFO][2021/05/21 05:18:22 PM] Calculating hypotheses (relax: True)...\n",
      "[INFO][2021/05/21 05:18:22 PM] Setting up constraints matrix for global optimisation...\n",
      "[INFO][2021/05/21 05:18:22 PM] Optimizing...\n",
      "[INFO][2021/05/21 05:18:22 PM] Optimization complete. (Solution: optimal)\n",
      "[INFO][2021/05/21 05:18:22 PM]  - Fates.FALSE_POSITIVE: 375 (of 376)\n",
      "[INFO][2021/05/21 05:18:22 PM]  - Fates.INITIALIZE_BORDER: 1 (of 33)\n",
      "[INFO][2021/05/21 05:18:22 PM]  - Fates.INITIALIZE_FRONT: 0 (of 1)\n",
      "[INFO][2021/05/21 05:18:22 PM]  - Fates.INITIALIZE_LAZY: 0 (of 342)\n",
      "[INFO][2021/05/21 05:18:22 PM]  - Fates.TERMINATE_BORDER: 0 (of 8)\n",
      "[INFO][2021/05/21 05:18:22 PM]  - Fates.TERMINATE_BACK: 1 (of 368)\n",
      "[INFO][2021/05/21 05:18:22 PM]  - TOTAL: 1128 hypotheses\n",
      "[INFO][2021/05/21 05:18:22 PM] Completed optimization with 376 tracks\n",
      "[INFO][2021/05/21 05:18:22 PM] Opening HDF file: /run/user/1000/gvfs/smb-share:server=lowe-sn00.biochem.ucl.ac.uk,share=lowegrp/Data/Manasi/MK0000/Pos0/rfp_tracks_2021_05_21_05_18_22_PM.h5...\n",
      "[INFO][2021/05/21 05:18:22 PM] Writing objects/obj_type_2\n",
      "[INFO][2021/05/21 05:18:22 PM] Writing labels/obj_type_2\n",
      "[INFO][2021/05/21 05:18:22 PM] Writing properties/obj_type_2\n",
      "[INFO][2021/05/21 05:18:22 PM] Writing tracks/obj_type_2\n",
      "[INFO][2021/05/21 05:18:22 PM] Writing LBEP/obj_type_2\n",
      "[INFO][2021/05/21 05:18:22 PM] Writing fates/obj_type_2\n"
     ]
    },
    {
     "name": "stdout",
     "output_type": "stream",
     "text": [
      "Tracking RFP objects Pos0\n"
     ]
    },
    {
     "name": "stderr",
     "output_type": "stream",
     "text": [
      "[INFO][2021/05/21 05:18:22 PM] Closing HDF file: /run/user/1000/gvfs/smb-share:server=lowe-sn00.biochem.ucl.ac.uk,share=lowegrp/Data/Manasi/MK0000/Pos0/rfp_tracks_2021_05_21_05_18_22_PM.h5\n",
      "[INFO][2021/05/21 05:18:22 PM] Ending BayesianTracker session\n",
      "  4%|▍         | 1/24 [07:19<2:48:18, 439.07s/it]"
     ]
    },
    {
     "name": "stdout",
     "output_type": "stream",
     "text": [
      "Finished Pos0\n",
      "Pos1 starting\n",
      "Finding mask files Pos1\n",
      "No masks found for Pos1 , continuing to next position\n",
      "Pos2 starting\n",
      "Finding mask files Pos2\n",
      "No masks found for Pos2 , continuing to next position\n",
      "Pos3 starting\n",
      "Finding mask files Pos3\n",
      "No masks found for Pos3 , continuing to next position\n",
      "Pos4 starting\n",
      "Finding mask files Pos4\n",
      "No masks found for Pos4 , continuing to next position\n",
      "Pos5 starting\n",
      "Finding mask files Pos5\n"
     ]
    },
    {
     "name": "stderr",
     "output_type": "stream",
     "text": [
      "[INFO][2021/05/21 05:18:23 PM] Localizing objects from segmentation...\n"
     ]
    },
    {
     "name": "stdout",
     "output_type": "stream",
     "text": [
      "Filtering mask files Pos5\n",
      "Loading mask files Pos5\n",
      "Localising objects Pos5\n"
     ]
    }
   ],
   "source": [
    "pos_list = natsorted([pos for pos in os.listdir(os.path.join(root_folder, expt)) if 'Pos' in pos])\n",
    "for pos in tqdm(pos_list):\n",
    "    try:\n",
    "\n",
    "        ### display info\n",
    "        print(pos, 'starting')\n",
    "\n",
    "        print('Finding mask files', pos)\n",
    "        ### find masks and sort numerically\n",
    "        mask_dir = os.path.join(root_folder,'{}/{}/{}_cp_masks'.format(expt, pos, pos))\n",
    "        files = natsorted(glob.glob(os.path.join(mask_dir, '*.png')))\n",
    "        #print(files)\n",
    "        if len(files) == 0:\n",
    "            print('No masks found for', pos, ', continuing to next position')\n",
    "            continue\n",
    "\n",
    "        print('Filtering mask files', pos)\n",
    "        ## filter files\n",
    "        gfp_files = [file for file in files if 'channel001' in file]\n",
    "        rfp_files = [file for file in files if 'channel002' in file]\n",
    "\n",
    "        print('Loading mask files', pos)\n",
    "        ### load images\n",
    "        gfp_generator = segmentation_generator(gfp_files)\n",
    "        rfp_generator = segmentation_generator(rfp_files)\n",
    "\n",
    "        print('Localising objects', pos)\n",
    "        ### localise objects in images\n",
    "        gfp_obj_from_generator = btrack.utils.segmentation_to_objects(gfp_generator, properties = ('area', 'major_axis_length'))\n",
    "        rfp_obj_from_generator = btrack.utils.segmentation_to_objects(rfp_generator, properties = ('area', 'major_axis_length'))\n",
    "\n",
    "        print('Tracking GFP objects', pos)\n",
    "        ### track gfp objects\n",
    "        # initialise a tracker session using a context manager\n",
    "        with btrack.BayesianTracker() as tracker:\n",
    "\n",
    "            # configure the tracker using a config file\n",
    "            tracker.configure_from_file('/home/nathan/analysis/cell-comp-analysis/BayesianTracker/models/MDCK_config_new.json')\n",
    "            tracker.max_search_radius = 10\n",
    "\n",
    "            # append the objects to be tracked\n",
    "            #tracker.append(gfp_obj_from_arr) #obj_from_generator)\n",
    "            tracker.append(gfp_obj_from_generator)\n",
    "\n",
    "            # set the volume\n",
    "            tracker.volume=((0, 1688),(0, 1352),(-1e5, 1e5))\n",
    "\n",
    "            # track them (in interactive mode)\n",
    "            tracker.track_interactive(step_size=100)\n",
    "\n",
    "            # generate hypotheses and run the global optimizer\n",
    "            tracker.optimize()\n",
    "            \n",
    "            ## export with guaranteed unique fn \n",
    "            date = datetime.now().strftime(\"%Y_%m_%d_%I_%M_%S_%p\")\n",
    "            tracker.export(os.path.join(root_folder, '{}/{}'.format(expt, pos), 'gfp_tracks_{}.h5'.format(date)), obj_type='obj_type_1')\n",
    "\n",
    "            # get the tracks in a format for napari visualization\n",
    "            #gfp_data, gfp_properties, gfp_graph = tracker.to_napari(ndim=2)\n",
    "            #gfp_tracks = tracker.tracks\n",
    "\n",
    "        print('Tracking RFP objects', pos)\n",
    "        ### track rfp objects \n",
    "        # initialise a tracker session using a context manager\n",
    "        with btrack.BayesianTracker() as tracker:\n",
    "\n",
    "            # configure the tracker using a config file\n",
    "            tracker.configure_from_file('/home/nathan/analysis/cell-comp-analysis/BayesianTracker/models/MDCK_config_scribble_sparse.json')\n",
    "            tracker.max_search_radius = 10\n",
    "\n",
    "            # append the objects to be tracked\n",
    "            #tracker.append(rfp_obj_from_arr) #obj_from_generator)\n",
    "            tracker.append(rfp_obj_from_generator)\n",
    "\n",
    "            # set the volume\n",
    "            tracker.volume=((0, 1688),(0, 1352),(-1e5, 1e5))\n",
    "\n",
    "            # track them (in interactive mode)\n",
    "            tracker.track_interactive(step_size=100)\n",
    "\n",
    "            # generate hypotheses and run the global optimizer\n",
    "            tracker.optimize()\n",
    "            \n",
    "            ## export with guaranteed unique fn \n",
    "            date = datetime.now().strftime(\"%Y_%m_%d_%I_%M_%S_%p\")\n",
    "            tracker.export(os.path.join(root_folder, '{}/{}'.format(expt, pos), 'rfp_tracks_{}.h5'.format(date)), obj_type='obj_type_2')\n",
    "\n",
    "            # get the tracks in a format for napari visualization\n",
    "            #rfp_data, rfp_properties, rfp_graph = tracker.to_napari(ndim=2)\n",
    "            #rfp_tracks = tracker.tracks\n",
    "        print('Finished', pos)\n",
    "        \n",
    "    except:\n",
    "        print(pos, 'Failed to generate tracking file (masks probably missing)')"
   ]
  },
  {
   "cell_type": "markdown",
   "metadata": {},
   "source": [
    "# and generate glimpses\n",
    "\n",
    "(borrowed from other notebook to run sequentially as i want to go to the pub now instead of waiting for this to finish before running glimpse creator ty v much)"
   ]
  },
  {
   "cell_type": "code",
   "execution_count": null,
   "metadata": {},
   "outputs": [],
   "source": [
    "import btrack\n",
    "import matplotlib.pyplot as plt\n",
    "import os\n",
    "from skimage.io import imread, imsave, imshow\n",
    "from tqdm import tqdm\n",
    "import numpy as np\n",
    "from pathlib import Path\n",
    "from natsort import natsorted\n",
    "import warnings\n",
    "warnings.filterwarnings('ignore') ###bc imsave throws up low contrast warnings"
   ]
  },
  {
   "cell_type": "code",
   "execution_count": null,
   "metadata": {},
   "outputs": [],
   "source": [
    "expt_root_folder = root_folder\n",
    "\n",
    "channels = ['003'] ### bf 000 gfp 001 rfp 002 irfp 003\n",
    "\n",
    "focal_time_range = (0, 800) ### this particular expt stays in focus in this time range\n",
    "\n",
    "for pos in pos_list:\n",
    "    print('starting', pos)\n",
    "    tracks_path = os.path.join(expt_root_folder,'{}/{}/gfp_tracks.h5'.format(expt, pos))\n",
    "\n",
    "    with btrack.dataio.HDF5FileHandler(tracks_path, 'r', obj_type = \"obj_type_1\") as hdf:\n",
    "        wt_tracks = hdf.tracks\n",
    "\n",
    "    ### filter tracks that should contain a full cell cycle in (1 timepoint/frame = 4min, cc time approx 200 frames based on quick look)\n",
    "    long_tracks = [track for track in wt_tracks if len(track) > 200]\n",
    "\n",
    "    ### filter tracks that spend a lot of time out of focus\n",
    "    tracks = [track for track in long_tracks if track.t[-1] < focal_time_range[1]]\n",
    "\n",
    "    ### show number of filtered tracks\n",
    "    print('number of glimpses to be generated:', len(tracks))\n",
    "\n",
    "    ### find images and set output\n",
    "    image_folder = os.path.join(expt_root_folder,expt, pos, pos+'_stacks')\n",
    "    output_dir = '/home/nathan/data/kraken/pcna/glimpses/{}/{}'.format(expt, pos)\n",
    "\n",
    "    for channel in channels:\n",
    "        ### load images\n",
    "        print('Loading image channel', channel)\n",
    "        images = imread(os.path.join(image_folder, 'channel{}.tif'.format(channel)))\n",
    "        print('Image loaded')\n",
    "        ### create output directory\n",
    "        output_ch_dir = os.path.join(output_dir, 'channel'+channel)\n",
    "        Path(output_ch_dir).mkdir(parents=True, exist_ok=True)\n",
    "        #os.mkdir(output_ch_dir) if os.path.exists(output_ch_dir) == False else print(output_ch_dir, 'already exists')\n",
    "\n",
    "        for cell in tqdm(tracks):\n",
    "            try:\n",
    "                ### get length of track/glimpse \n",
    "                length = range(cell.t[0], cell.t[-1])\n",
    "                ### get the xy coords of track/glimpse \n",
    "                y, x = cell.x, cell.y #### WHY IS THE COORDINATES TRANSPOSED???? \n",
    "\n",
    "                ### iterate over all frames cropping\n",
    "                for j, i in enumerate(length): ## need to have something that solves skipped frames # not including the last frame bc list index out of range ie there is one more i than there\n",
    "                    ### obtain correct frame\n",
    "                    image = images[i]\n",
    "                    ### obtain coordinates of bounding box of glimpse (centered on cell)\n",
    "                    x1, x2, y1, y2 = x[j], x[j]+200, y[j], y[j]+200 #coordinates to crop by, shifted bearing in mind a further coord shift (+100,+100) occurs due to image padding            \n",
    "                    ### pad image incase cell goes off FOV\n",
    "                    image = np.pad(image, 100, 'constant', constant_values = 0) \n",
    "                    ## glimpse creation by cropping original image\n",
    "                    glimpse = image[int(x1): int(x2), int(y1): int(y2)]\n",
    "                    ### fraction of track this frame is at\n",
    "                    age = round(i/cell.t[-1],3) \n",
    "                    fn = 'cell_ID_' + str(cell.ID) + '_channel' + channel + '_t{}_age{}.tif'.format(i, age)\n",
    "                    ### glimpse output\n",
    "                    imsave(os.path.join(output_ch_dir, fn), glimpse) \n",
    "                print('cell ID',cell.ID, 'glimpse saved')\n",
    "\n",
    "            except:\n",
    "                print(cell.ID, 'failed to produce glimpse')\n"
   ]
  }
 ],
 "metadata": {
  "kernelspec": {
   "display_name": "btrack",
   "language": "python",
   "name": "btrack"
  },
  "language_info": {
   "codemirror_mode": {
    "name": "ipython",
    "version": 3
   },
   "file_extension": ".py",
   "mimetype": "text/x-python",
   "name": "python",
   "nbconvert_exporter": "python",
   "pygments_lexer": "ipython3",
   "version": "3.7.10"
  }
 },
 "nbformat": 4,
 "nbformat_minor": 4
}
