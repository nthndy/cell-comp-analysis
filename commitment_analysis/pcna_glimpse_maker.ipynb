{
 "cells": [
  {
   "cell_type": "markdown",
   "metadata": {},
   "source": [
    "# PCNA Glimpse generation\n",
    "\n",
    "This notebook is designed to generate large amount of cropped images of cells with the PCNA-irfp marker for a cluster analysis"
   ]
  },
  {
   "cell_type": "code",
   "execution_count": 64,
   "metadata": {},
   "outputs": [],
   "source": [
    "import btrack\n",
    "import matplotlib.pyplot as plt\n",
    "import os, glob, re\n",
    "from skimage.io import imread, imsave, imshow\n",
    "from tqdm import tqdm\n",
    "import numpy as np\n",
    "from pathlib import Path\n",
    "import shutil\n",
    "from natsort import natsorted\n",
    "from PIL import Image\n",
    "import warnings\n",
    "warnings.filterwarnings('ignore') ###bc imsave throws up low contrast warnings"
   ]
  },
  {
   "cell_type": "markdown",
   "metadata": {},
   "source": [
    "# Set params"
   ]
  },
  {
   "cell_type": "code",
   "execution_count": 56,
   "metadata": {},
   "outputs": [],
   "source": [
    "log = []\n",
    "\n",
    "expt_root_folder = '/run/user/1000/gvfs/smb-share:server=lowe-sn00.biochem.ucl.ac.uk,share=lowegrp/Data/Manasi'\n",
    "\n",
    "expt = 'MK0000'\n",
    "\n",
    "channels = ['003'] ### bf 000 gfp 001 rfp 002 irfp 003\n",
    "\n",
    "focal_time_range = (0, 800) ### this particular expt stays in focus in this time range\n",
    "\n",
    "glimpse_size = (64,64)\n",
    "\n",
    "pos_list = natsorted([pos for pos in os.listdir(os.path.join(expt_root_folder, expt)) if 'Pos' in pos])"
   ]
  },
  {
   "cell_type": "code",
   "execution_count": 57,
   "metadata": {},
   "outputs": [
    {
     "name": "stderr",
     "output_type": "stream",
     "text": [
      "  0%|          | 0/24 [00:00<?, ?it/s][INFO][2021/05/27 06:56:52 PM] Opening HDF file: /run/user/1000/gvfs/smb-share:server=lowe-sn00.biochem.ucl.ac.uk,share=lowegrp/Data/Manasi/MK0000/Pos0/gfp_tracks_2021_05_21_05_29_08_PM.h5...\n",
      "[INFO][2021/05/27 06:56:52 PM] Loading tracks/obj_type_1\n"
     ]
    },
    {
     "name": "stdout",
     "output_type": "stream",
     "text": [
      "starting Pos0\n"
     ]
    },
    {
     "name": "stderr",
     "output_type": "stream",
     "text": [
      "[INFO][2021/05/27 06:56:52 PM] Loading objects/obj_type_1 (563356, 5) (563356 filtered: None)\n",
      "[INFO][2021/05/27 06:56:59 PM] Closing HDF file: /run/user/1000/gvfs/smb-share:server=lowe-sn00.biochem.ucl.ac.uk,share=lowegrp/Data/Manasi/MK0000/Pos0/gfp_tracks_2021_05_21_05_29_08_PM.h5\n"
     ]
    },
    {
     "name": "stdout",
     "output_type": "stream",
     "text": [
      "Pos0tracking file loaded\n",
      "Pos0number of glimpses to be generated:275\n",
      "Loading image channel 003\n"
     ]
    },
    {
     "name": "stderr",
     "output_type": "stream",
     "text": [
      "\n",
      "  0%|          | 0/275 [00:00<?, ?it/s]\u001b[A"
     ]
    },
    {
     "name": "stdout",
     "output_type": "stream",
     "text": [
      "Image loaded\n",
      "attemptingPos0cell ID173\n"
     ]
    },
    {
     "name": "stderr",
     "output_type": "stream",
     "text": [
      "\n",
      "  0%|          | 1/275 [00:00<01:11,  3.84it/s]\u001b[A"
     ]
    },
    {
     "name": "stdout",
     "output_type": "stream",
     "text": [
      "Pos0cell ID173glimpse saved\n",
      "attemptingPos0cell ID190\n"
     ]
    },
    {
     "name": "stderr",
     "output_type": "stream",
     "text": [
      "\n",
      "  1%|          | 2/275 [00:00<01:29,  3.06it/s]\u001b[A"
     ]
    },
    {
     "name": "stdout",
     "output_type": "stream",
     "text": [
      "190 failed to produce glimpse\n",
      "attemptingPos0cell ID244\n"
     ]
    },
    {
     "name": "stderr",
     "output_type": "stream",
     "text": [
      "\n",
      "  1%|          | 3/275 [00:01<01:43,  2.64it/s]\u001b[A"
     ]
    },
    {
     "name": "stdout",
     "output_type": "stream",
     "text": [
      "Pos0cell ID244glimpse saved\n",
      "attemptingPos0cell ID214\n"
     ]
    },
    {
     "name": "stderr",
     "output_type": "stream",
     "text": [
      "\n",
      "  1%|▏         | 4/275 [00:01<02:02,  2.21it/s]\u001b[A"
     ]
    },
    {
     "name": "stdout",
     "output_type": "stream",
     "text": [
      "Pos0cell ID214glimpse saved\n",
      "attemptingPos0cell ID46\n"
     ]
    },
    {
     "name": "stderr",
     "output_type": "stream",
     "text": [
      "\n",
      "  2%|▏         | 5/275 [00:02<02:13,  2.03it/s]\u001b[A"
     ]
    },
    {
     "name": "stdout",
     "output_type": "stream",
     "text": [
      "Pos0cell ID46glimpse saved\n",
      "attemptingPos0cell ID1183\n"
     ]
    },
    {
     "name": "stderr",
     "output_type": "stream",
     "text": [
      "\n",
      "  2%|▏         | 6/275 [00:02<01:53,  2.38it/s]\u001b[A"
     ]
    },
    {
     "name": "stdout",
     "output_type": "stream",
     "text": [
      "Pos0cell ID1183glimpse saved\n",
      "attemptingPos0cell ID1445\n"
     ]
    },
    {
     "name": "stderr",
     "output_type": "stream",
     "text": [
      "\n",
      "  3%|▎         | 7/275 [00:02<01:50,  2.42it/s]\u001b[A\n",
      "  3%|▎         | 8/275 [00:03<01:30,  2.94it/s]\u001b[A"
     ]
    },
    {
     "name": "stdout",
     "output_type": "stream",
     "text": [
      "Pos0cell ID1445glimpse saved\n",
      "attemptingPos0cell ID1438\n",
      "Pos0cell ID1438glimpse saved\n",
      "attemptingPos0cell ID1478\n"
     ]
    },
    {
     "name": "stderr",
     "output_type": "stream",
     "text": [
      "\n",
      "  3%|▎         | 9/275 [00:03<01:43,  2.58it/s]\u001b[A"
     ]
    },
    {
     "name": "stdout",
     "output_type": "stream",
     "text": [
      "Pos0cell ID1478glimpse saved\n",
      "attemptingPos0cell ID1580\n"
     ]
    },
    {
     "name": "stderr",
     "output_type": "stream",
     "text": [
      "\n",
      "  4%|▎         | 10/275 [00:03<01:34,  2.80it/s]\u001b[A"
     ]
    },
    {
     "name": "stdout",
     "output_type": "stream",
     "text": [
      "Pos0cell ID1580glimpse saved\n",
      "attemptingPos0cell ID1686\n"
     ]
    },
    {
     "name": "stderr",
     "output_type": "stream",
     "text": [
      "\n",
      "  4%|▍         | 11/275 [00:04<01:33,  2.83it/s]\u001b[A\n",
      "  4%|▍         | 12/275 [00:04<01:19,  3.31it/s]\u001b[A"
     ]
    },
    {
     "name": "stdout",
     "output_type": "stream",
     "text": [
      "Pos0cell ID1686glimpse saved\n",
      "attemptingPos0cell ID1936\n",
      "Pos0cell ID1936glimpse saved\n",
      "attemptingPos0cell ID1984\n"
     ]
    },
    {
     "name": "stderr",
     "output_type": "stream",
     "text": [
      "\n",
      "  5%|▍         | 13/275 [00:04<01:22,  3.19it/s]\u001b[A"
     ]
    },
    {
     "name": "stdout",
     "output_type": "stream",
     "text": [
      "Pos0cell ID1984glimpse saved\n",
      "attemptingPos0cell ID1826\n"
     ]
    },
    {
     "name": "stderr",
     "output_type": "stream",
     "text": [
      "\n",
      "  5%|▌         | 14/275 [00:05<01:23,  3.12it/s]\u001b[A"
     ]
    },
    {
     "name": "stdout",
     "output_type": "stream",
     "text": [
      "Pos0cell ID1826glimpse saved\n",
      "attemptingPos0cell ID1783\n"
     ]
    },
    {
     "name": "stderr",
     "output_type": "stream",
     "text": [
      "\n",
      "  5%|▌         | 15/275 [00:05<01:18,  3.31it/s]\u001b[A"
     ]
    },
    {
     "name": "stdout",
     "output_type": "stream",
     "text": [
      "Pos0cell ID1783glimpse saved\n",
      "attemptingPos0cell ID1796\n"
     ]
    },
    {
     "name": "stderr",
     "output_type": "stream",
     "text": [
      "\n",
      "  6%|▌         | 16/275 [00:05<01:19,  3.24it/s]\u001b[A"
     ]
    },
    {
     "name": "stdout",
     "output_type": "stream",
     "text": [
      "Pos0cell ID1796glimpse saved\n",
      "attemptingPos0cell ID1867\n"
     ]
    },
    {
     "name": "stderr",
     "output_type": "stream",
     "text": [
      "\n",
      "  6%|▌         | 17/275 [00:05<01:15,  3.43it/s]\u001b[A"
     ]
    },
    {
     "name": "stdout",
     "output_type": "stream",
     "text": [
      "Pos0cell ID1867glimpse saved\n",
      "attemptingPos0cell ID2087\n"
     ]
    },
    {
     "name": "stderr",
     "output_type": "stream",
     "text": [
      "\n",
      "  7%|▋         | 18/275 [00:06<01:18,  3.28it/s]\u001b[A"
     ]
    },
    {
     "name": "stdout",
     "output_type": "stream",
     "text": [
      "Pos0cell ID2087glimpse saved\n",
      "attemptingPos0cell ID2045\n"
     ]
    },
    {
     "name": "stderr",
     "output_type": "stream",
     "text": [
      "\n",
      "  7%|▋         | 19/275 [00:06<01:20,  3.19it/s]\u001b[A"
     ]
    },
    {
     "name": "stdout",
     "output_type": "stream",
     "text": [
      "Pos0cell ID2045glimpse saved\n",
      "attemptingPos0cell ID2072\n"
     ]
    },
    {
     "name": "stderr",
     "output_type": "stream",
     "text": [
      "\n",
      "  7%|▋         | 20/275 [00:06<01:20,  3.18it/s]\u001b[A"
     ]
    },
    {
     "name": "stdout",
     "output_type": "stream",
     "text": [
      "Pos0cell ID2072glimpse saved\n",
      "attemptingPos0cell ID2151\n"
     ]
    },
    {
     "name": "stderr",
     "output_type": "stream",
     "text": [
      "\n",
      "  8%|▊         | 21/275 [00:07<01:17,  3.28it/s]\u001b[A"
     ]
    },
    {
     "name": "stdout",
     "output_type": "stream",
     "text": [
      "Pos0cell ID2151glimpse saved\n",
      "attemptingPos0cell ID2160\n"
     ]
    },
    {
     "name": "stderr",
     "output_type": "stream",
     "text": [
      "\n",
      "  8%|▊         | 22/275 [00:07<01:17,  3.27it/s]\u001b[A\n",
      "  8%|▊         | 23/275 [00:07<01:08,  3.67it/s]\u001b[A"
     ]
    },
    {
     "name": "stdout",
     "output_type": "stream",
     "text": [
      "Pos0cell ID2160glimpse saved\n",
      "attemptingPos0cell ID2212\n",
      "Pos0cell ID2212glimpse saved\n",
      "attemptingPos0cell ID2226\n"
     ]
    },
    {
     "name": "stderr",
     "output_type": "stream",
     "text": [
      "\n",
      "  9%|▊         | 24/275 [00:07<01:11,  3.50it/s]\u001b[A"
     ]
    },
    {
     "name": "stdout",
     "output_type": "stream",
     "text": [
      "Pos0cell ID2226glimpse saved\n",
      "attemptingPos0cell ID2232\n"
     ]
    },
    {
     "name": "stderr",
     "output_type": "stream",
     "text": [
      "\n",
      "  9%|▉         | 25/275 [00:08<01:13,  3.41it/s]\u001b[A\n",
      "  9%|▉         | 26/275 [00:08<01:05,  3.80it/s]\u001b[A"
     ]
    },
    {
     "name": "stdout",
     "output_type": "stream",
     "text": [
      "Pos0cell ID2232glimpse saved\n",
      "attemptingPos0cell ID2268\n",
      "Pos0cell ID2268glimpse saved\n",
      "attemptingPos0cell ID2266\n"
     ]
    },
    {
     "name": "stderr",
     "output_type": "stream",
     "text": [
      "\n",
      " 10%|▉         | 27/275 [00:08<01:10,  3.54it/s]\u001b[A"
     ]
    },
    {
     "name": "stdout",
     "output_type": "stream",
     "text": [
      "Pos0cell ID2266glimpse saved\n",
      "attemptingPos0cell ID2288\n"
     ]
    },
    {
     "name": "stderr",
     "output_type": "stream",
     "text": [
      "\n",
      " 10%|█         | 28/275 [00:09<01:09,  3.56it/s]\u001b[A"
     ]
    },
    {
     "name": "stdout",
     "output_type": "stream",
     "text": [
      "Pos0cell ID2288glimpse saved\n",
      "attemptingPos0cell ID2312\n"
     ]
    },
    {
     "name": "stderr",
     "output_type": "stream",
     "text": [
      "\n",
      " 11%|█         | 29/275 [00:09<01:09,  3.56it/s]\u001b[A"
     ]
    },
    {
     "name": "stdout",
     "output_type": "stream",
     "text": [
      "Pos0cell ID2312glimpse saved\n",
      "attemptingPos0cell ID2321\n"
     ]
    },
    {
     "name": "stderr",
     "output_type": "stream",
     "text": [
      "\n",
      " 11%|█         | 30/275 [00:09<01:11,  3.44it/s]\u001b[A"
     ]
    },
    {
     "name": "stdout",
     "output_type": "stream",
     "text": [
      "Pos0cell ID2321glimpse saved\n",
      "attemptingPos0cell ID2351\n"
     ]
    },
    {
     "name": "stderr",
     "output_type": "stream",
     "text": [
      "\n",
      " 11%|█▏        | 31/275 [00:10<01:18,  3.11it/s]\u001b[A\n",
      " 12%|█▏        | 32/275 [00:10<01:08,  3.54it/s]\u001b[A"
     ]
    },
    {
     "name": "stdout",
     "output_type": "stream",
     "text": [
      "Pos0cell ID2351glimpse saved\n",
      "attemptingPos0cell ID2393\n",
      "Pos0cell ID2393glimpse saved\n",
      "attemptingPos0cell ID2416\n"
     ]
    },
    {
     "name": "stderr",
     "output_type": "stream",
     "text": [
      "\n",
      " 12%|█▏        | 33/275 [00:10<01:00,  3.97it/s]\u001b[A"
     ]
    },
    {
     "name": "stdout",
     "output_type": "stream",
     "text": [
      "Pos0cell ID2416glimpse saved\n",
      "attemptingPos0cell ID2441\n"
     ]
    },
    {
     "name": "stderr",
     "output_type": "stream",
     "text": [
      "\n",
      " 12%|█▏        | 34/275 [00:10<01:00,  4.01it/s]\u001b[A\n",
      " 13%|█▎        | 35/275 [00:10<00:55,  4.30it/s]\u001b[A"
     ]
    },
    {
     "name": "stdout",
     "output_type": "stream",
     "text": [
      "Pos0cell ID2441glimpse saved\n",
      "attemptingPos0cell ID2463\n",
      "Pos0cell ID2463glimpse saved\n",
      "attemptingPos0cell ID2475\n"
     ]
    },
    {
     "name": "stderr",
     "output_type": "stream",
     "text": [
      "\n",
      " 13%|█▎        | 36/275 [00:11<00:51,  4.67it/s]\u001b[A\n",
      " 13%|█▎        | 37/275 [00:11<00:48,  4.91it/s]\u001b[A"
     ]
    },
    {
     "name": "stdout",
     "output_type": "stream",
     "text": [
      "Pos0cell ID2475glimpse saved\n",
      "attemptingPos0cell ID2483\n",
      "Pos0cell ID2483glimpse saved\n",
      "attemptingPos0cell ID2499\n"
     ]
    },
    {
     "name": "stderr",
     "output_type": "stream",
     "text": [
      "\n",
      " 14%|█▍        | 38/275 [00:11<00:50,  4.67it/s]\u001b[A"
     ]
    },
    {
     "name": "stdout",
     "output_type": "stream",
     "text": [
      "Pos0cell ID2499glimpse saved\n",
      "attemptingPos0cell ID2634\n"
     ]
    },
    {
     "name": "stderr",
     "output_type": "stream",
     "text": [
      "\n",
      " 14%|█▍        | 39/275 [00:11<00:52,  4.47it/s]\u001b[A"
     ]
    },
    {
     "name": "stdout",
     "output_type": "stream",
     "text": [
      "Pos0cell ID2634glimpse saved\n",
      "attemptingPos0cell ID2642\n"
     ]
    },
    {
     "name": "stderr",
     "output_type": "stream",
     "text": [
      "\n",
      " 15%|█▍        | 40/275 [00:11<00:55,  4.20it/s]\u001b[A"
     ]
    },
    {
     "name": "stdout",
     "output_type": "stream",
     "text": [
      "Pos0cell ID2642glimpse saved\n",
      "attemptingPos0cell ID2640\n"
     ]
    },
    {
     "name": "stderr",
     "output_type": "stream",
     "text": [
      "\n",
      " 15%|█▍        | 41/275 [00:12<00:55,  4.24it/s]\u001b[A"
     ]
    },
    {
     "name": "stdout",
     "output_type": "stream",
     "text": [
      "Pos0cell ID2640glimpse saved\n",
      "attemptingPos0cell ID2653\n"
     ]
    },
    {
     "name": "stderr",
     "output_type": "stream",
     "text": [
      "\n",
      " 15%|█▌        | 42/275 [00:12<00:54,  4.24it/s]\u001b[A"
     ]
    },
    {
     "name": "stdout",
     "output_type": "stream",
     "text": [
      "Pos0cell ID2653glimpse saved\n",
      "attemptingPos0cell ID2684\n"
     ]
    },
    {
     "name": "stderr",
     "output_type": "stream",
     "text": [
      "\n",
      " 16%|█▌        | 43/275 [00:12<00:54,  4.26it/s]\u001b[A"
     ]
    },
    {
     "name": "stdout",
     "output_type": "stream",
     "text": [
      "Pos0cell ID2684glimpse saved\n",
      "attemptingPos0cell ID2690\n"
     ]
    },
    {
     "name": "stderr",
     "output_type": "stream",
     "text": [
      "\n",
      " 16%|█▌        | 44/275 [00:12<00:54,  4.26it/s]\u001b[A\n",
      " 16%|█▋        | 45/275 [00:13<00:51,  4.49it/s]\u001b[A"
     ]
    },
    {
     "name": "stdout",
     "output_type": "stream",
     "text": [
      "Pos0cell ID2690glimpse saved\n",
      "attemptingPos0cell ID2682\n",
      "Pos0cell ID2682glimpse saved\n",
      "attemptingPos0cell ID2678\n"
     ]
    },
    {
     "name": "stderr",
     "output_type": "stream",
     "text": [
      "\n",
      " 17%|█▋        | 46/275 [00:13<00:51,  4.43it/s]\u001b[A"
     ]
    },
    {
     "name": "stdout",
     "output_type": "stream",
     "text": [
      "Pos0cell ID2678glimpse saved\n",
      "attemptingPos0cell ID2672\n"
     ]
    },
    {
     "name": "stderr",
     "output_type": "stream",
     "text": [
      "\n",
      " 17%|█▋        | 47/275 [00:13<00:54,  4.18it/s]\u001b[A"
     ]
    },
    {
     "name": "stdout",
     "output_type": "stream",
     "text": [
      "Pos0cell ID2672glimpse saved\n",
      "attemptingPos0cell ID2670\n"
     ]
    },
    {
     "name": "stderr",
     "output_type": "stream",
     "text": [
      "\n",
      " 17%|█▋        | 48/275 [00:13<00:54,  4.17it/s]\u001b[A"
     ]
    },
    {
     "name": "stdout",
     "output_type": "stream",
     "text": [
      "Pos0cell ID2670glimpse saved\n",
      "attemptingPos0cell ID2583\n"
     ]
    },
    {
     "name": "stderr",
     "output_type": "stream",
     "text": [
      "\n",
      " 18%|█▊        | 49/275 [00:14<00:53,  4.23it/s]\u001b[A"
     ]
    },
    {
     "name": "stdout",
     "output_type": "stream",
     "text": [
      "Pos0cell ID2583glimpse saved\n",
      "attemptingPos0cell ID2594\n"
     ]
    },
    {
     "name": "stderr",
     "output_type": "stream",
     "text": [
      "\n",
      " 18%|█▊        | 50/275 [00:14<00:52,  4.27it/s]\u001b[A"
     ]
    },
    {
     "name": "stdout",
     "output_type": "stream",
     "text": [
      "Pos0cell ID2594glimpse saved\n",
      "attemptingPos0cell ID2593\n"
     ]
    },
    {
     "name": "stderr",
     "output_type": "stream",
     "text": [
      "\n",
      " 19%|█▊        | 51/275 [00:14<00:53,  4.16it/s]\u001b[A"
     ]
    },
    {
     "name": "stdout",
     "output_type": "stream",
     "text": [
      "Pos0cell ID2593glimpse saved\n",
      "attemptingPos0cell ID2582\n"
     ]
    },
    {
     "name": "stderr",
     "output_type": "stream",
     "text": [
      "\n",
      " 19%|█▉        | 52/275 [00:14<00:53,  4.13it/s]\u001b[A"
     ]
    },
    {
     "name": "stdout",
     "output_type": "stream",
     "text": [
      "Pos0cell ID2582glimpse saved\n",
      "attemptingPos0cell ID2577\n"
     ]
    },
    {
     "name": "stderr",
     "output_type": "stream",
     "text": [
      "\n",
      " 19%|█▉        | 53/275 [00:15<01:00,  3.66it/s]\u001b[A"
     ]
    },
    {
     "name": "stdout",
     "output_type": "stream",
     "text": [
      "Pos0cell ID2577glimpse saved\n",
      "attemptingPos0cell ID2576\n"
     ]
    },
    {
     "name": "stderr",
     "output_type": "stream",
     "text": [
      "\n",
      " 20%|█▉        | 54/275 [00:15<00:58,  3.79it/s]\u001b[A"
     ]
    },
    {
     "name": "stdout",
     "output_type": "stream",
     "text": [
      "Pos0cell ID2576glimpse saved\n",
      "attemptingPos0cell ID2630\n"
     ]
    },
    {
     "name": "stderr",
     "output_type": "stream",
     "text": [
      "\n",
      " 20%|██        | 55/275 [00:15<00:58,  3.76it/s]\u001b[A"
     ]
    },
    {
     "name": "stdout",
     "output_type": "stream",
     "text": [
      "Pos0cell ID2630glimpse saved\n",
      "attemptingPos0cell ID2602\n"
     ]
    },
    {
     "name": "stderr",
     "output_type": "stream",
     "text": [
      "\n",
      " 20%|██        | 56/275 [00:16<01:02,  3.48it/s]\u001b[A"
     ]
    },
    {
     "name": "stdout",
     "output_type": "stream",
     "text": [
      "Pos0cell ID2602glimpse saved\n",
      "attemptingPos0cell ID2610\n"
     ]
    },
    {
     "name": "stderr",
     "output_type": "stream",
     "text": [
      "\n",
      " 21%|██        | 57/275 [00:16<01:00,  3.63it/s]\u001b[A"
     ]
    },
    {
     "name": "stdout",
     "output_type": "stream",
     "text": [
      "Pos0cell ID2610glimpse saved\n",
      "attemptingPos0cell ID2702\n"
     ]
    },
    {
     "name": "stderr",
     "output_type": "stream",
     "text": [
      "\n",
      " 21%|██        | 58/275 [00:16<00:56,  3.82it/s]\u001b[A\n",
      " 21%|██▏       | 59/275 [00:16<00:52,  4.14it/s]\u001b[A"
     ]
    },
    {
     "name": "stdout",
     "output_type": "stream",
     "text": [
      "Pos0cell ID2702glimpse saved\n",
      "attemptingPos0cell ID2707\n",
      "Pos0cell ID2707glimpse saved\n",
      "attemptingPos0cell ID2720\n"
     ]
    },
    {
     "name": "stderr",
     "output_type": "stream",
     "text": [
      "\n",
      " 22%|██▏       | 60/275 [00:16<00:50,  4.25it/s]\u001b[A"
     ]
    },
    {
     "name": "stdout",
     "output_type": "stream",
     "text": [
      "Pos0cell ID2720glimpse saved\n",
      "attemptingPos0cell ID2726\n"
     ]
    },
    {
     "name": "stderr",
     "output_type": "stream",
     "text": [
      "\n",
      " 22%|██▏       | 61/275 [00:17<00:51,  4.18it/s]\u001b[A"
     ]
    },
    {
     "name": "stdout",
     "output_type": "stream",
     "text": [
      "Pos0cell ID2726glimpse saved\n",
      "attemptingPos0cell ID2733\n"
     ]
    },
    {
     "name": "stderr",
     "output_type": "stream",
     "text": [
      "\n",
      " 23%|██▎       | 62/275 [00:17<00:48,  4.39it/s]\u001b[A\n",
      " 23%|██▎       | 63/275 [00:17<00:44,  4.72it/s]\u001b[A"
     ]
    },
    {
     "name": "stdout",
     "output_type": "stream",
     "text": [
      "Pos0cell ID2733glimpse saved\n",
      "attemptingPos0cell ID2778\n",
      "Pos0cell ID2778glimpse saved\n",
      "attemptingPos0cell ID2787\n"
     ]
    },
    {
     "name": "stderr",
     "output_type": "stream",
     "text": [
      "\n",
      " 23%|██▎       | 64/275 [00:17<00:42,  4.95it/s]\u001b[A"
     ]
    },
    {
     "name": "stdout",
     "output_type": "stream",
     "text": [
      "Pos0cell ID2787glimpse saved\n",
      "attemptingPos0cell ID2785\n"
     ]
    },
    {
     "name": "stderr",
     "output_type": "stream",
     "text": [
      "\n",
      " 24%|██▎       | 65/275 [00:17<00:43,  4.86it/s]\u001b[A"
     ]
    },
    {
     "name": "stdout",
     "output_type": "stream",
     "text": [
      "Pos0cell ID2785glimpse saved\n",
      "attemptingPos0cell ID2796\n"
     ]
    },
    {
     "name": "stderr",
     "output_type": "stream",
     "text": [
      "\n",
      " 24%|██▍       | 66/275 [00:18<00:43,  4.82it/s]\u001b[A\n",
      " 24%|██▍       | 67/275 [00:18<00:40,  5.16it/s]\u001b[A"
     ]
    },
    {
     "name": "stdout",
     "output_type": "stream",
     "text": [
      "Pos0cell ID2796glimpse saved\n",
      "attemptingPos0cell ID2804\n",
      "Pos0cell ID2804glimpse saved\n",
      "attemptingPos0cell ID2810\n"
     ]
    },
    {
     "name": "stderr",
     "output_type": "stream",
     "text": [
      "\n",
      " 25%|██▍       | 68/275 [00:18<00:42,  4.83it/s]\u001b[A"
     ]
    },
    {
     "name": "stdout",
     "output_type": "stream",
     "text": [
      "Pos0cell ID2810glimpse saved\n",
      "attemptingPos0cell ID2812\n"
     ]
    },
    {
     "name": "stderr",
     "output_type": "stream",
     "text": [
      "\n",
      " 25%|██▌       | 69/275 [00:18<00:44,  4.59it/s]\u001b[A\n"
     ]
    },
    {
     "name": "stdout",
     "output_type": "stream",
     "text": [
      "Pos0cell ID2812glimpse saved\n",
      "attemptingPos0cell ID2831\n",
      "Pos0cell ID2831glimpse saved\n"
     ]
    },
    {
     "name": "stderr",
     "output_type": "stream",
     "text": [
      " 25%|██▌       | 70/275 [00:18<00:43,  4.70it/s]\u001b[A"
     ]
    },
    {
     "name": "stdout",
     "output_type": "stream",
     "text": [
      "attemptingPos0cell ID2839\n"
     ]
    },
    {
     "name": "stderr",
     "output_type": "stream",
     "text": [
      "\n",
      " 26%|██▌       | 71/275 [00:19<00:43,  4.67it/s]\u001b[A"
     ]
    },
    {
     "name": "stdout",
     "output_type": "stream",
     "text": [
      "Pos0cell ID2839glimpse saved\n",
      "attemptingPos0cell ID2841\n"
     ]
    },
    {
     "name": "stderr",
     "output_type": "stream",
     "text": [
      "\n",
      " 26%|██▌       | 72/275 [00:19<00:43,  4.66it/s]\u001b[A"
     ]
    },
    {
     "name": "stdout",
     "output_type": "stream",
     "text": [
      "Pos0cell ID2841glimpse saved\n",
      "attemptingPos0cell ID2844\n"
     ]
    },
    {
     "name": "stderr",
     "output_type": "stream",
     "text": [
      "\n",
      " 27%|██▋       | 73/275 [00:19<00:42,  4.71it/s]\u001b[A\n",
      " 27%|██▋       | 74/275 [00:19<00:41,  4.86it/s]\u001b[A"
     ]
    },
    {
     "name": "stdout",
     "output_type": "stream",
     "text": [
      "Pos0cell ID2844glimpse saved\n",
      "attemptingPos0cell ID2845\n",
      "Pos0cell ID2845glimpse saved\n",
      "attemptingPos0cell ID2860\n"
     ]
    },
    {
     "name": "stderr",
     "output_type": "stream",
     "text": [
      "\n",
      " 27%|██▋       | 75/275 [00:20<00:40,  4.95it/s]\u001b[A"
     ]
    },
    {
     "name": "stdout",
     "output_type": "stream",
     "text": [
      "Pos0cell ID2860glimpse saved\n",
      "attemptingPos0cell ID2868\n"
     ]
    },
    {
     "name": "stderr",
     "output_type": "stream",
     "text": [
      "\n",
      " 28%|██▊       | 76/275 [00:20<00:41,  4.84it/s]\u001b[A"
     ]
    },
    {
     "name": "stdout",
     "output_type": "stream",
     "text": [
      "Pos0cell ID2868glimpse saved\n",
      "attemptingPos0cell ID2876\n"
     ]
    },
    {
     "name": "stderr",
     "output_type": "stream",
     "text": [
      "\n",
      " 28%|██▊       | 77/275 [00:20<00:41,  4.79it/s]\u001b[A"
     ]
    },
    {
     "name": "stdout",
     "output_type": "stream",
     "text": [
      "Pos0cell ID2876glimpse saved\n",
      "attemptingPos0cell ID2878\n"
     ]
    },
    {
     "name": "stderr",
     "output_type": "stream",
     "text": [
      "\n",
      " 28%|██▊       | 78/275 [00:20<00:40,  4.83it/s]\u001b[A"
     ]
    },
    {
     "name": "stdout",
     "output_type": "stream",
     "text": [
      "Pos0cell ID2878glimpse saved\n",
      "attemptingPos0cell ID2879\n"
     ]
    },
    {
     "name": "stderr",
     "output_type": "stream",
     "text": [
      "\n",
      " 29%|██▊       | 79/275 [00:20<00:40,  4.85it/s]\u001b[A\n",
      " 29%|██▉       | 80/275 [00:21<00:38,  5.11it/s]\u001b[A"
     ]
    },
    {
     "name": "stdout",
     "output_type": "stream",
     "text": [
      "Pos0cell ID2879glimpse saved\n",
      "attemptingPos0cell ID2884\n",
      "Pos0cell ID2884glimpse saved\n",
      "attemptingPos0cell ID2885\n"
     ]
    },
    {
     "name": "stderr",
     "output_type": "stream",
     "text": [
      "\n",
      " 29%|██▉       | 81/275 [00:21<00:37,  5.15it/s]\u001b[A\n",
      " 30%|██▉       | 82/275 [00:21<00:36,  5.24it/s]\u001b[A"
     ]
    },
    {
     "name": "stdout",
     "output_type": "stream",
     "text": [
      "Pos0cell ID2885glimpse saved\n",
      "attemptingPos0cell ID2888\n",
      "Pos0cell ID2888glimpse saved\n",
      "attemptingPos0cell ID2890\n"
     ]
    },
    {
     "name": "stderr",
     "output_type": "stream",
     "text": [
      "\n",
      " 30%|███       | 83/275 [00:21<00:37,  5.05it/s]\u001b[A"
     ]
    },
    {
     "name": "stdout",
     "output_type": "stream",
     "text": [
      "Pos0cell ID2890glimpse saved\n",
      "attemptingPos0cell ID2895\n"
     ]
    },
    {
     "name": "stderr",
     "output_type": "stream",
     "text": [
      "\n",
      " 31%|███       | 84/275 [00:21<00:41,  4.61it/s]\u001b[A\n",
      " 31%|███       | 85/275 [00:22<00:40,  4.72it/s]"
     ]
    },
    {
     "name": "stdout",
     "output_type": "stream",
     "text": [
      "Pos0cell ID2895glimpse saved\n",
      "attemptingPos0cell ID2902\n",
      "Pos0cell ID2902glimpse saved\n"
     ]
    },
    {
     "name": "stderr",
     "output_type": "stream",
     "text": [
      "\u001b[A\n",
      " 31%|███▏      | 86/275 [00:22<00:38,  4.93it/s]\u001b[A"
     ]
    },
    {
     "name": "stdout",
     "output_type": "stream",
     "text": [
      "attemptingPos0cell ID2916\n",
      "Pos0cell ID2916glimpse saved\n",
      "attemptingPos0cell ID2919\n"
     ]
    },
    {
     "name": "stderr",
     "output_type": "stream",
     "text": [
      "\n",
      " 32%|███▏      | 87/275 [00:22<00:36,  5.10it/s]\u001b[A"
     ]
    },
    {
     "name": "stdout",
     "output_type": "stream",
     "text": [
      "Pos0cell ID2919glimpse saved\n",
      "attemptingPos0cell ID2917\n"
     ]
    },
    {
     "name": "stderr",
     "output_type": "stream",
     "text": [
      "\n",
      " 32%|███▏      | 88/275 [00:22<00:41,  4.51it/s]\u001b[A\n",
      " 32%|███▏      | 89/275 [00:22<00:39,  4.72it/s]\u001b[A"
     ]
    },
    {
     "name": "stdout",
     "output_type": "stream",
     "text": [
      "Pos0cell ID2917glimpse saved\n",
      "attemptingPos0cell ID3114\n",
      "Pos0cell ID3114glimpse saved\n",
      "attemptingPos0cell ID3117\n"
     ]
    },
    {
     "name": "stderr",
     "output_type": "stream",
     "text": [
      "\n",
      " 33%|███▎      | 90/275 [00:23<00:37,  4.99it/s]\u001b[A\n"
     ]
    },
    {
     "name": "stdout",
     "output_type": "stream",
     "text": [
      "Pos0cell ID3117glimpse saved\n",
      "attemptingPos0cell ID3120\n",
      "Pos0cell ID3120glimpse saved\n"
     ]
    },
    {
     "name": "stderr",
     "output_type": "stream",
     "text": [
      " 33%|███▎      | 91/275 [00:23<00:36,  4.99it/s]\u001b[A"
     ]
    },
    {
     "name": "stdout",
     "output_type": "stream",
     "text": [
      "attemptingPos0cell ID3118\n"
     ]
    },
    {
     "name": "stderr",
     "output_type": "stream",
     "text": [
      "\n",
      " 33%|███▎      | 92/275 [00:23<00:38,  4.76it/s]\u001b[A\n",
      " 34%|███▍      | 93/275 [00:23<00:36,  4.94it/s]\u001b[A"
     ]
    },
    {
     "name": "stdout",
     "output_type": "stream",
     "text": [
      "Pos0cell ID3118glimpse saved\n",
      "attemptingPos0cell ID3134\n",
      "Pos0cell ID3134glimpse saved\n",
      "attemptingPos0cell ID3104\n"
     ]
    },
    {
     "name": "stderr",
     "output_type": "stream",
     "text": [
      "\n",
      " 34%|███▍      | 94/275 [00:23<00:37,  4.82it/s]\u001b[A\n",
      " 35%|███▍      | 95/275 [00:24<00:36,  4.96it/s]\u001b[A"
     ]
    },
    {
     "name": "stdout",
     "output_type": "stream",
     "text": [
      "Pos0cell ID3104glimpse saved\n",
      "attemptingPos0cell ID3123\n",
      "Pos0cell ID3123glimpse saved\n",
      "attemptingPos0cell ID3124\n"
     ]
    },
    {
     "name": "stderr",
     "output_type": "stream",
     "text": [
      "\n",
      " 35%|███▍      | 96/275 [00:24<00:34,  5.26it/s]\u001b[A\n",
      " 35%|███▌      | 97/275 [00:24<00:33,  5.25it/s]\u001b[A"
     ]
    },
    {
     "name": "stdout",
     "output_type": "stream",
     "text": [
      "Pos0cell ID3124glimpse saved\n",
      "attemptingPos0cell ID3126\n",
      "Pos0cell ID3126glimpse saved\n",
      "attemptingPos0cell ID3133\n"
     ]
    },
    {
     "name": "stderr",
     "output_type": "stream",
     "text": [
      "\n",
      " 36%|███▌      | 98/275 [00:24<00:44,  4.01it/s]\u001b[A\n",
      " 36%|███▌      | 99/275 [00:25<00:41,  4.29it/s]\u001b[A"
     ]
    },
    {
     "name": "stdout",
     "output_type": "stream",
     "text": [
      "Pos0cell ID3133glimpse saved\n",
      "attemptingPos0cell ID3087\n",
      "Pos0cell ID3087glimpse saved\n",
      "attemptingPos0cell ID3136\n"
     ]
    },
    {
     "name": "stderr",
     "output_type": "stream",
     "text": [
      "\n",
      " 36%|███▋      | 100/275 [00:25<00:40,  4.37it/s]\u001b[A\n",
      " 37%|███▋      | 101/275 [00:25<00:38,  4.56it/s]\u001b[A"
     ]
    },
    {
     "name": "stdout",
     "output_type": "stream",
     "text": [
      "Pos0cell ID3136glimpse saved\n",
      "attemptingPos0cell ID3137\n",
      "Pos0cell ID3137glimpse saved\n",
      "attemptingPos0cell ID3067\n"
     ]
    },
    {
     "name": "stderr",
     "output_type": "stream",
     "text": [
      "\n",
      " 37%|███▋      | 102/275 [00:25<00:37,  4.60it/s]\u001b[A"
     ]
    },
    {
     "name": "stdout",
     "output_type": "stream",
     "text": [
      "Pos0cell ID3067glimpse saved\n",
      "attemptingPos0cell ID3069\n"
     ]
    },
    {
     "name": "stderr",
     "output_type": "stream",
     "text": [
      "\n",
      " 37%|███▋      | 103/275 [00:25<00:37,  4.58it/s]\u001b[A"
     ]
    },
    {
     "name": "stdout",
     "output_type": "stream",
     "text": [
      "Pos0cell ID3069glimpse saved\n",
      "attemptingPos0cell ID3070\n"
     ]
    },
    {
     "name": "stderr",
     "output_type": "stream",
     "text": [
      "\n",
      " 38%|███▊      | 104/275 [00:26<00:37,  4.60it/s]\u001b[A"
     ]
    },
    {
     "name": "stdout",
     "output_type": "stream",
     "text": [
      "Pos0cell ID3070glimpse saved\n",
      "attemptingPos0cell ID3073\n"
     ]
    },
    {
     "name": "stderr",
     "output_type": "stream",
     "text": [
      "\n",
      " 38%|███▊      | 105/275 [00:26<00:36,  4.69it/s]\u001b[A"
     ]
    },
    {
     "name": "stdout",
     "output_type": "stream",
     "text": [
      "Pos0cell ID3073glimpse saved\n",
      "attemptingPos0cell ID3076\n"
     ]
    },
    {
     "name": "stderr",
     "output_type": "stream",
     "text": [
      "\n",
      " 39%|███▊      | 106/275 [00:26<00:36,  4.60it/s]\u001b[A"
     ]
    },
    {
     "name": "stdout",
     "output_type": "stream",
     "text": [
      "Pos0cell ID3076glimpse saved\n",
      "attemptingPos0cell ID3077\n"
     ]
    },
    {
     "name": "stderr",
     "output_type": "stream",
     "text": [
      "\n",
      " 39%|███▉      | 107/275 [00:26<00:36,  4.65it/s]\u001b[A\n",
      " 39%|███▉      | 108/275 [00:26<00:34,  4.80it/s]\u001b[A"
     ]
    },
    {
     "name": "stdout",
     "output_type": "stream",
     "text": [
      "Pos0cell ID3077glimpse saved\n",
      "attemptingPos0cell ID3079\n",
      "Pos0cell ID3079glimpse saved\n",
      "attemptingPos0cell ID3080\n"
     ]
    },
    {
     "name": "stderr",
     "output_type": "stream",
     "text": [
      "\n",
      " 40%|███▉      | 109/275 [00:27<00:33,  4.90it/s]\u001b[A\n",
      " 40%|████      | 110/275 [00:27<00:33,  4.95it/s]\u001b[A"
     ]
    },
    {
     "name": "stdout",
     "output_type": "stream",
     "text": [
      "Pos0cell ID3080glimpse saved\n",
      "attemptingPos0cell ID3081\n",
      "Pos0cell ID3081glimpse saved\n",
      "attemptingPos0cell ID3082\n"
     ]
    },
    {
     "name": "stderr",
     "output_type": "stream",
     "text": [
      "\n",
      " 40%|████      | 111/275 [00:27<00:34,  4.82it/s]\u001b[A\n",
      " 41%|████      | 112/275 [00:27<00:33,  4.88it/s]\u001b[A"
     ]
    },
    {
     "name": "stdout",
     "output_type": "stream",
     "text": [
      "Pos0cell ID3082glimpse saved\n",
      "attemptingPos0cell ID3103\n",
      "Pos0cell ID3103glimpse saved\n",
      "attemptingPos0cell ID3085\n"
     ]
    },
    {
     "name": "stderr",
     "output_type": "stream",
     "text": [
      "\n",
      " 41%|████      | 113/275 [00:27<00:33,  4.78it/s]\u001b[A"
     ]
    },
    {
     "name": "stdout",
     "output_type": "stream",
     "text": [
      "Pos0cell ID3085glimpse saved\n",
      "attemptingPos0cell ID3086\n"
     ]
    },
    {
     "name": "stderr",
     "output_type": "stream",
     "text": [
      "\n",
      " 41%|████▏     | 114/275 [00:28<00:33,  4.81it/s]\u001b[A"
     ]
    },
    {
     "name": "stdout",
     "output_type": "stream",
     "text": [
      "Pos0cell ID3086glimpse saved\n",
      "attemptingPos0cell ID3090\n"
     ]
    },
    {
     "name": "stderr",
     "output_type": "stream",
     "text": [
      "\n",
      " 42%|████▏     | 115/275 [00:28<00:33,  4.81it/s]\u001b[A\n",
      " 42%|████▏     | 116/275 [00:28<00:31,  5.03it/s]\u001b[A"
     ]
    },
    {
     "name": "stdout",
     "output_type": "stream",
     "text": [
      "Pos0cell ID3090glimpse saved\n",
      "attemptingPos0cell ID3091\n",
      "Pos0cell ID3091glimpse saved\n",
      "attemptingPos0cell ID3092\n"
     ]
    },
    {
     "name": "stderr",
     "output_type": "stream",
     "text": [
      "\n",
      " 43%|████▎     | 117/275 [00:28<00:33,  4.70it/s]\u001b[A\n",
      " 43%|████▎     | 118/275 [00:28<00:32,  4.85it/s]\u001b[A"
     ]
    },
    {
     "name": "stdout",
     "output_type": "stream",
     "text": [
      "Pos0cell ID3092glimpse saved\n",
      "attemptingPos0cell ID3093\n",
      "Pos0cell ID3093glimpse saved\n",
      "attemptingPos0cell ID3094\n"
     ]
    },
    {
     "name": "stderr",
     "output_type": "stream",
     "text": [
      "\n",
      " 43%|████▎     | 119/275 [00:29<00:31,  4.95it/s]\u001b[A\n",
      " 44%|████▎     | 120/275 [00:29<00:30,  5.16it/s]\u001b[A"
     ]
    },
    {
     "name": "stdout",
     "output_type": "stream",
     "text": [
      "Pos0cell ID3094glimpse saved\n",
      "attemptingPos0cell ID3095\n",
      "Pos0cell ID3095glimpse saved\n",
      "attemptingPos0cell ID3098\n"
     ]
    },
    {
     "name": "stderr",
     "output_type": "stream",
     "text": [
      "\n",
      " 44%|████▍     | 121/275 [00:29<00:31,  4.90it/s]\u001b[A"
     ]
    },
    {
     "name": "stdout",
     "output_type": "stream",
     "text": [
      "Pos0cell ID3098glimpse saved\n",
      "attemptingPos0cell ID3099\n"
     ]
    },
    {
     "name": "stderr",
     "output_type": "stream",
     "text": [
      "\n",
      " 44%|████▍     | 122/275 [00:29<00:31,  4.93it/s]\u001b[A"
     ]
    },
    {
     "name": "stdout",
     "output_type": "stream",
     "text": [
      "Pos0cell ID3099glimpse saved\n",
      "attemptingPos0cell ID3102\n"
     ]
    },
    {
     "name": "stderr",
     "output_type": "stream",
     "text": [
      "\n",
      " 45%|████▍     | 123/275 [00:30<00:32,  4.73it/s]\u001b[A\n",
      " 45%|████▌     | 124/275 [00:30<00:30,  4.97it/s]\u001b[A"
     ]
    },
    {
     "name": "stdout",
     "output_type": "stream",
     "text": [
      "Pos0cell ID3102glimpse saved\n",
      "attemptingPos0cell ID3189\n",
      "Pos0cell ID3189glimpse saved\n",
      "attemptingPos0cell ID3179\n"
     ]
    },
    {
     "name": "stderr",
     "output_type": "stream",
     "text": [
      "\n",
      " 45%|████▌     | 125/275 [00:30<00:29,  5.16it/s]\u001b[A"
     ]
    },
    {
     "name": "stdout",
     "output_type": "stream",
     "text": [
      "Pos0cell ID3179glimpse saved\n",
      "attemptingPos0cell ID3180\n"
     ]
    },
    {
     "name": "stderr",
     "output_type": "stream",
     "text": [
      "\n",
      " 46%|████▌     | 126/275 [00:30<00:30,  4.83it/s]\u001b[A\n",
      " 46%|████▌     | 127/275 [00:30<00:29,  5.02it/s]\u001b[A"
     ]
    },
    {
     "name": "stdout",
     "output_type": "stream",
     "text": [
      "Pos0cell ID3180glimpse saved\n",
      "attemptingPos0cell ID3181\n",
      "Pos0cell ID3181glimpse saved\n",
      "attemptingPos0cell ID3183\n"
     ]
    },
    {
     "name": "stderr",
     "output_type": "stream",
     "text": [
      "\n",
      " 47%|████▋     | 128/275 [00:31<00:30,  4.90it/s]\u001b[A\n",
      " 47%|████▋     | 129/275 [00:31<00:29,  4.97it/s]\u001b[A"
     ]
    },
    {
     "name": "stdout",
     "output_type": "stream",
     "text": [
      "Pos0cell ID3183glimpse saved\n",
      "attemptingPos0cell ID3184\n",
      "Pos0cell ID3184glimpse saved\n",
      "attemptingPos0cell ID3186\n"
     ]
    },
    {
     "name": "stderr",
     "output_type": "stream",
     "text": [
      "\n",
      " 47%|████▋     | 130/275 [00:31<00:31,  4.62it/s]\u001b[A"
     ]
    },
    {
     "name": "stdout",
     "output_type": "stream",
     "text": [
      "Pos0cell ID3186glimpse saved\n",
      "attemptingPos0cell ID3188\n"
     ]
    },
    {
     "name": "stderr",
     "output_type": "stream",
     "text": [
      "\n",
      " 48%|████▊     | 131/275 [00:31<00:30,  4.66it/s]\u001b[A\n",
      " 48%|████▊     | 132/275 [00:31<00:29,  4.88it/s]\u001b[A"
     ]
    },
    {
     "name": "stdout",
     "output_type": "stream",
     "text": [
      "Pos0cell ID3188glimpse saved\n",
      "attemptingPos0cell ID3174\n",
      "Pos0cell ID3174glimpse saved\n",
      "attemptingPos0cell ID3191\n"
     ]
    },
    {
     "name": "stderr",
     "output_type": "stream",
     "text": [
      "\n",
      " 48%|████▊     | 133/275 [00:32<00:27,  5.09it/s]\u001b[A\n",
      " 49%|████▊     | 134/275 [00:32<00:27,  5.20it/s]\u001b[A"
     ]
    },
    {
     "name": "stdout",
     "output_type": "stream",
     "text": [
      "Pos0cell ID3191glimpse saved\n",
      "attemptingPos0cell ID3192\n",
      "Pos0cell ID3192glimpse saved\n",
      "attemptingPos0cell ID3193\n"
     ]
    },
    {
     "name": "stderr",
     "output_type": "stream",
     "text": [
      "\n",
      " 49%|████▉     | 135/275 [00:32<00:27,  5.10it/s]\u001b[A\n",
      " 49%|████▉     | 136/275 [00:32<00:27,  5.14it/s]\u001b[A"
     ]
    },
    {
     "name": "stdout",
     "output_type": "stream",
     "text": [
      "Pos0cell ID3193glimpse saved\n",
      "attemptingPos0cell ID3195\n",
      "Pos0cell ID3195glimpse saved\n",
      "attemptingPos0cell ID3196\n"
     ]
    },
    {
     "name": "stderr",
     "output_type": "stream",
     "text": [
      "\n",
      " 50%|████▉     | 137/275 [00:32<00:26,  5.19it/s]\u001b[A"
     ]
    },
    {
     "name": "stdout",
     "output_type": "stream",
     "text": [
      "Pos0cell ID3196glimpse saved\n",
      "attemptingPos0cell ID3197\n"
     ]
    },
    {
     "name": "stderr",
     "output_type": "stream",
     "text": [
      "\n",
      " 50%|█████     | 138/275 [00:32<00:27,  5.06it/s]\u001b[A\n",
      " 51%|█████     | 139/275 [00:33<00:26,  5.07it/s]\u001b[A"
     ]
    },
    {
     "name": "stdout",
     "output_type": "stream",
     "text": [
      "Pos0cell ID3197glimpse saved\n",
      "attemptingPos0cell ID3202\n",
      "Pos0cell ID3202glimpse saved\n",
      "attemptingPos0cell ID3203\n"
     ]
    },
    {
     "name": "stderr",
     "output_type": "stream",
     "text": [
      "\n",
      " 51%|█████     | 140/275 [00:33<00:25,  5.23it/s]\u001b[A\n",
      " 51%|█████▏    | 141/275 [00:33<00:25,  5.34it/s]\u001b[A"
     ]
    },
    {
     "name": "stdout",
     "output_type": "stream",
     "text": [
      "Pos0cell ID3203glimpse saved\n",
      "attemptingPos0cell ID3201\n",
      "Pos0cell ID3201glimpse saved\n",
      "attemptingPos0cell ID3156\n"
     ]
    },
    {
     "name": "stderr",
     "output_type": "stream",
     "text": [
      "\n",
      " 52%|█████▏    | 142/275 [00:33<00:24,  5.32it/s]\u001b[A"
     ]
    },
    {
     "name": "stdout",
     "output_type": "stream",
     "text": [
      "Pos0cell ID3156glimpse saved\n",
      "attemptingPos0cell ID3142\n"
     ]
    },
    {
     "name": "stderr",
     "output_type": "stream",
     "text": [
      "\n",
      " 52%|█████▏    | 143/275 [00:33<00:25,  5.20it/s]\u001b[A"
     ]
    },
    {
     "name": "stdout",
     "output_type": "stream",
     "text": [
      "Pos0cell ID3142glimpse saved\n",
      "attemptingPos0cell ID3143\n"
     ]
    },
    {
     "name": "stderr",
     "output_type": "stream",
     "text": [
      "\n",
      " 52%|█████▏    | 144/275 [00:34<00:30,  4.25it/s]\u001b[A"
     ]
    },
    {
     "name": "stdout",
     "output_type": "stream",
     "text": [
      "Pos0cell ID3143glimpse saved\n",
      "attemptingPos0cell ID3146\n"
     ]
    },
    {
     "name": "stderr",
     "output_type": "stream",
     "text": [
      "\n",
      " 53%|█████▎    | 145/275 [00:34<00:29,  4.39it/s]\u001b[A\n",
      " 53%|█████▎    | 146/275 [00:34<00:27,  4.69it/s]\u001b[A"
     ]
    },
    {
     "name": "stdout",
     "output_type": "stream",
     "text": [
      "Pos0cell ID3146glimpse saved\n",
      "attemptingPos0cell ID3151\n",
      "Pos0cell ID3151glimpse saved\n",
      "attemptingPos0cell ID3158\n"
     ]
    },
    {
     "name": "stderr",
     "output_type": "stream",
     "text": [
      "\n",
      " 53%|█████▎    | 147/275 [00:34<00:26,  4.91it/s]\u001b[A\n",
      " 54%|█████▍    | 148/275 [00:35<00:24,  5.11it/s]\u001b[A"
     ]
    },
    {
     "name": "stdout",
     "output_type": "stream",
     "text": [
      "Pos0cell ID3158glimpse saved\n",
      "attemptingPos0cell ID3160\n",
      "Pos0cell ID3160glimpse saved\n",
      "attemptingPos0cell ID3162\n"
     ]
    },
    {
     "name": "stderr",
     "output_type": "stream",
     "text": [
      "\n",
      " 54%|█████▍    | 149/275 [00:35<00:24,  5.10it/s]\u001b[A\n",
      " 55%|█████▍    | 150/275 [00:35<00:24,  5.14it/s]\u001b[A"
     ]
    },
    {
     "name": "stdout",
     "output_type": "stream",
     "text": [
      "Pos0cell ID3162glimpse saved\n",
      "attemptingPos0cell ID3164\n",
      "Pos0cell ID3164glimpse saved\n",
      "attemptingPos0cell ID3165\n"
     ]
    },
    {
     "name": "stderr",
     "output_type": "stream",
     "text": [
      "\n",
      " 55%|█████▍    | 151/275 [00:35<00:24,  5.09it/s]\u001b[A"
     ]
    },
    {
     "name": "stdout",
     "output_type": "stream",
     "text": [
      "Pos0cell ID3165glimpse saved\n",
      "attemptingPos0cell ID3167\n"
     ]
    },
    {
     "name": "stderr",
     "output_type": "stream",
     "text": [
      "\n",
      " 55%|█████▌    | 152/275 [00:35<00:27,  4.49it/s]\u001b[A\n",
      " 56%|█████▌    | 153/275 [00:36<00:26,  4.68it/s]\u001b[A"
     ]
    },
    {
     "name": "stdout",
     "output_type": "stream",
     "text": [
      "Pos0cell ID3167glimpse saved\n",
      "attemptingPos0cell ID3168\n",
      "Pos0cell ID3168glimpse saved\n",
      "attemptingPos0cell ID3169\n"
     ]
    },
    {
     "name": "stderr",
     "output_type": "stream",
     "text": [
      "\n",
      " 56%|█████▌    | 154/275 [00:36<00:25,  4.77it/s]\u001b[A"
     ]
    },
    {
     "name": "stdout",
     "output_type": "stream",
     "text": [
      "Pos0cell ID3169glimpse saved\n",
      "attemptingPos0cell ID3170\n"
     ]
    },
    {
     "name": "stderr",
     "output_type": "stream",
     "text": [
      "\n",
      " 56%|█████▋    | 155/275 [00:36<00:25,  4.69it/s]\u001b[A\n",
      " 57%|█████▋    | 156/275 [00:36<00:24,  4.96it/s]\u001b[A"
     ]
    },
    {
     "name": "stdout",
     "output_type": "stream",
     "text": [
      "Pos0cell ID3170glimpse saved\n",
      "attemptingPos0cell ID3171\n",
      "Pos0cell ID3171glimpse saved\n",
      "attemptingPos0cell ID3172\n"
     ]
    },
    {
     "name": "stderr",
     "output_type": "stream",
     "text": [
      "\n",
      " 57%|█████▋    | 157/275 [00:36<00:23,  5.03it/s]\u001b[A\n",
      " 57%|█████▋    | 158/275 [00:37<00:22,  5.19it/s]\u001b[A"
     ]
    },
    {
     "name": "stdout",
     "output_type": "stream",
     "text": [
      "Pos0cell ID3172glimpse saved\n",
      "attemptingPos0cell ID2963\n",
      "Pos0cell ID2963glimpse saved\n",
      "attemptingPos0cell ID2964\n"
     ]
    },
    {
     "name": "stderr",
     "output_type": "stream",
     "text": [
      "\n",
      " 58%|█████▊    | 159/275 [00:37<00:22,  5.22it/s]\u001b[A\n",
      " 58%|█████▊    | 160/275 [00:37<00:21,  5.37it/s]\u001b[A"
     ]
    },
    {
     "name": "stdout",
     "output_type": "stream",
     "text": [
      "Pos0cell ID2964glimpse saved\n",
      "attemptingPos0cell ID2971\n",
      "Pos0cell ID2971glimpse saved\n",
      "attemptingPos0cell ID2977\n"
     ]
    },
    {
     "name": "stderr",
     "output_type": "stream",
     "text": [
      "\n",
      " 59%|█████▊    | 161/275 [00:37<00:20,  5.47it/s]\u001b[A\n",
      " 59%|█████▉    | 162/275 [00:37<00:20,  5.42it/s]\u001b[A"
     ]
    },
    {
     "name": "stdout",
     "output_type": "stream",
     "text": [
      "Pos0cell ID2977glimpse saved\n",
      "attemptingPos0cell ID2983\n",
      "Pos0cell ID2983glimpse saved\n",
      "attemptingPos0cell ID2985\n"
     ]
    },
    {
     "name": "stderr",
     "output_type": "stream",
     "text": [
      "\n",
      " 59%|█████▉    | 163/275 [00:37<00:20,  5.52it/s]\u001b[A\n",
      " 60%|█████▉    | 164/275 [00:38<00:19,  5.61it/s]\u001b[A"
     ]
    },
    {
     "name": "stdout",
     "output_type": "stream",
     "text": [
      "Pos0cell ID2985glimpse saved\n",
      "attemptingPos0cell ID2986\n",
      "Pos0cell ID2986glimpse saved\n",
      "attemptingPos0cell ID2988\n"
     ]
    },
    {
     "name": "stderr",
     "output_type": "stream",
     "text": [
      "\n",
      " 60%|██████    | 165/275 [00:38<00:19,  5.65it/s]\u001b[A\n",
      " 60%|██████    | 166/275 [00:38<00:19,  5.65it/s]\u001b[A"
     ]
    },
    {
     "name": "stdout",
     "output_type": "stream",
     "text": [
      "Pos0cell ID2988glimpse saved\n",
      "attemptingPos0cell ID2989\n",
      "Pos0cell ID2989glimpse saved\n",
      "attemptingPos0cell ID2943\n"
     ]
    },
    {
     "name": "stderr",
     "output_type": "stream",
     "text": [
      "\n",
      " 61%|██████    | 167/275 [00:38<00:18,  5.69it/s]\u001b[A\n",
      " 61%|██████    | 168/275 [00:38<00:18,  5.67it/s]\u001b[A"
     ]
    },
    {
     "name": "stdout",
     "output_type": "stream",
     "text": [
      "Pos0cell ID2943glimpse saved\n",
      "attemptingPos0cell ID2928\n",
      "Pos0cell ID2928glimpse saved\n",
      "attemptingPos0cell ID2934\n"
     ]
    },
    {
     "name": "stderr",
     "output_type": "stream",
     "text": [
      "\n",
      " 61%|██████▏   | 169/275 [00:39<00:18,  5.68it/s]\u001b[A\n",
      " 62%|██████▏   | 170/275 [00:39<00:18,  5.71it/s]\u001b[A"
     ]
    },
    {
     "name": "stdout",
     "output_type": "stream",
     "text": [
      "Pos0cell ID2934glimpse saved\n",
      "attemptingPos0cell ID2935\n",
      "Pos0cell ID2935glimpse saved\n",
      "attemptingPos0cell ID2936\n"
     ]
    },
    {
     "name": "stderr",
     "output_type": "stream",
     "text": [
      "\n",
      " 62%|██████▏   | 171/275 [00:39<00:18,  5.64it/s]\u001b[A\n",
      " 63%|██████▎   | 172/275 [00:39<00:18,  5.68it/s]\u001b[A"
     ]
    },
    {
     "name": "stdout",
     "output_type": "stream",
     "text": [
      "Pos0cell ID2936glimpse saved\n",
      "attemptingPos0cell ID2937\n",
      "Pos0cell ID2937glimpse saved\n",
      "attemptingPos0cell ID2939\n"
     ]
    },
    {
     "name": "stderr",
     "output_type": "stream",
     "text": [
      "\n",
      " 63%|██████▎   | 173/275 [00:39<00:17,  5.67it/s]\u001b[A\n",
      " 63%|██████▎   | 174/275 [00:39<00:18,  5.61it/s]\u001b[A"
     ]
    },
    {
     "name": "stdout",
     "output_type": "stream",
     "text": [
      "Pos0cell ID2939glimpse saved\n",
      "attemptingPos0cell ID2942\n",
      "Pos0cell ID2942glimpse saved\n",
      "attemptingPos0cell ID3065\n"
     ]
    },
    {
     "name": "stderr",
     "output_type": "stream",
     "text": [
      "\n",
      " 64%|██████▎   | 175/275 [00:40<00:17,  5.74it/s]\u001b[A\n",
      " 64%|██████▍   | 176/275 [00:40<00:17,  5.75it/s]\u001b[A"
     ]
    },
    {
     "name": "stdout",
     "output_type": "stream",
     "text": [
      "Pos0cell ID3065glimpse saved\n",
      "attemptingPos0cell ID2945\n",
      "Pos0cell ID2945glimpse saved\n",
      "attemptingPos0cell ID2946\n"
     ]
    },
    {
     "name": "stderr",
     "output_type": "stream",
     "text": [
      "\n",
      " 64%|██████▍   | 177/275 [00:40<00:18,  5.40it/s]\u001b[A\n",
      " 65%|██████▍   | 178/275 [00:40<00:18,  5.32it/s]\u001b[A"
     ]
    },
    {
     "name": "stdout",
     "output_type": "stream",
     "text": [
      "Pos0cell ID2946glimpse saved\n",
      "attemptingPos0cell ID2947\n",
      "Pos0cell ID2947glimpse saved\n",
      "attemptingPos0cell ID2948\n"
     ]
    },
    {
     "name": "stderr",
     "output_type": "stream",
     "text": [
      "\n",
      " 65%|██████▌   | 179/275 [00:40<00:18,  5.32it/s]\u001b[A\n",
      " 65%|██████▌   | 180/275 [00:40<00:17,  5.44it/s]\u001b[A"
     ]
    },
    {
     "name": "stdout",
     "output_type": "stream",
     "text": [
      "Pos0cell ID2948glimpse saved\n",
      "attemptingPos0cell ID2954\n",
      "Pos0cell ID2954glimpse saved\n",
      "attemptingPos0cell ID2955\n"
     ]
    },
    {
     "name": "stderr",
     "output_type": "stream",
     "text": [
      "\n",
      " 66%|██████▌   | 181/275 [00:41<00:17,  5.39it/s]\u001b[A"
     ]
    },
    {
     "name": "stdout",
     "output_type": "stream",
     "text": [
      "Pos0cell ID2955glimpse saved\n",
      "attemptingPos0cell ID2956\n"
     ]
    },
    {
     "name": "stderr",
     "output_type": "stream",
     "text": [
      "\n",
      " 66%|██████▌   | 182/275 [00:41<00:18,  5.03it/s]\u001b[A\n",
      " 67%|██████▋   | 183/275 [00:41<00:18,  5.06it/s]\u001b[A"
     ]
    },
    {
     "name": "stdout",
     "output_type": "stream",
     "text": [
      "Pos0cell ID2956glimpse saved\n",
      "attemptingPos0cell ID2957\n",
      "Pos0cell ID2957glimpse saved\n",
      "attemptingPos0cell ID2958\n"
     ]
    },
    {
     "name": "stderr",
     "output_type": "stream",
     "text": [
      "\n",
      " 67%|██████▋   | 184/275 [00:41<00:17,  5.25it/s]\u001b[A\n",
      " 67%|██████▋   | 185/275 [00:41<00:16,  5.38it/s]\u001b[A"
     ]
    },
    {
     "name": "stdout",
     "output_type": "stream",
     "text": [
      "Pos0cell ID2958glimpse saved\n",
      "attemptingPos0cell ID3050\n",
      "Pos0cell ID3050glimpse saved\n",
      "attemptingPos0cell ID3035\n"
     ]
    },
    {
     "name": "stderr",
     "output_type": "stream",
     "text": [
      "\n",
      " 68%|██████▊   | 186/275 [00:42<00:16,  5.35it/s]\u001b[A\n",
      " 68%|██████▊   | 187/275 [00:42<00:16,  5.47it/s]\u001b[A"
     ]
    },
    {
     "name": "stdout",
     "output_type": "stream",
     "text": [
      "Pos0cell ID3035glimpse saved\n",
      "attemptingPos0cell ID3038\n",
      "Pos0cell ID3038glimpse saved\n",
      "attemptingPos0cell ID3040\n"
     ]
    },
    {
     "name": "stderr",
     "output_type": "stream",
     "text": [
      "\n",
      " 68%|██████▊   | 188/275 [00:42<00:16,  5.40it/s]\u001b[A\n",
      " 69%|██████▊   | 189/275 [00:42<00:15,  5.50it/s]\u001b[A"
     ]
    },
    {
     "name": "stdout",
     "output_type": "stream",
     "text": [
      "Pos0cell ID3040glimpse saved\n",
      "attemptingPos0cell ID3041\n",
      "Pos0cell ID3041glimpse saved\n",
      "attemptingPos0cell ID3042\n"
     ]
    },
    {
     "name": "stderr",
     "output_type": "stream",
     "text": [
      "\n",
      " 69%|██████▉   | 190/275 [00:42<00:15,  5.56it/s]\u001b[A\n",
      " 69%|██████▉   | 191/275 [00:43<00:15,  5.39it/s]\u001b[A"
     ]
    },
    {
     "name": "stdout",
     "output_type": "stream",
     "text": [
      "Pos0cell ID3042glimpse saved\n",
      "attemptingPos0cell ID3044\n",
      "Pos0cell ID3044glimpse saved\n",
      "attemptingPos0cell ID3045\n"
     ]
    },
    {
     "name": "stderr",
     "output_type": "stream",
     "text": [
      "\n",
      " 70%|██████▉   | 192/275 [00:43<00:15,  5.37it/s]\u001b[A\n",
      " 70%|███████   | 193/275 [00:43<00:14,  5.49it/s]\u001b[A"
     ]
    },
    {
     "name": "stdout",
     "output_type": "stream",
     "text": [
      "Pos0cell ID3045glimpse saved\n",
      "attemptingPos0cell ID2995\n",
      "Pos0cell ID2995glimpse saved\n",
      "attemptingPos0cell ID3052\n"
     ]
    },
    {
     "name": "stderr",
     "output_type": "stream",
     "text": [
      "\n",
      " 71%|███████   | 194/275 [00:43<00:15,  5.17it/s]\u001b[A"
     ]
    },
    {
     "name": "stdout",
     "output_type": "stream",
     "text": [
      "Pos0cell ID3052glimpse saved\n",
      "attemptingPos0cell ID3053\n"
     ]
    },
    {
     "name": "stderr",
     "output_type": "stream",
     "text": [
      "\n",
      " 71%|███████   | 195/275 [00:43<00:16,  4.91it/s]\u001b[A\n",
      " 71%|███████▏  | 196/275 [00:44<00:15,  5.13it/s]\u001b[A"
     ]
    },
    {
     "name": "stdout",
     "output_type": "stream",
     "text": [
      "Pos0cell ID3053glimpse saved\n",
      "attemptingPos0cell ID3055\n",
      "Pos0cell ID3055glimpse saved\n",
      "attemptingPos0cell ID3056\n"
     ]
    },
    {
     "name": "stderr",
     "output_type": "stream",
     "text": [
      "\n",
      " 72%|███████▏  | 197/275 [00:44<00:15,  5.03it/s]\u001b[A"
     ]
    },
    {
     "name": "stdout",
     "output_type": "stream",
     "text": [
      "Pos0cell ID3056glimpse saved\n",
      "attemptingPos0cell ID3057\n"
     ]
    },
    {
     "name": "stderr",
     "output_type": "stream",
     "text": [
      "\n",
      " 72%|███████▏  | 198/275 [00:44<00:15,  4.97it/s]\u001b[A"
     ]
    },
    {
     "name": "stdout",
     "output_type": "stream",
     "text": [
      "Pos0cell ID3057glimpse saved\n",
      "attemptingPos0cell ID3059\n"
     ]
    },
    {
     "name": "stderr",
     "output_type": "stream",
     "text": [
      "\n",
      " 72%|███████▏  | 199/275 [00:44<00:15,  4.96it/s]\u001b[A\n",
      " 73%|███████▎  | 200/275 [00:44<00:14,  5.07it/s]\u001b[A"
     ]
    },
    {
     "name": "stdout",
     "output_type": "stream",
     "text": [
      "Pos0cell ID3059glimpse saved\n",
      "attemptingPos0cell ID3064\n",
      "Pos0cell ID3064glimpse saved\n",
      "attemptingPos0cell ID2994\n"
     ]
    },
    {
     "name": "stderr",
     "output_type": "stream",
     "text": [
      "\n",
      " 73%|███████▎  | 201/275 [00:45<00:14,  5.05it/s]\u001b[A\n",
      " 73%|███████▎  | 202/275 [00:45<00:14,  5.19it/s]\u001b[A"
     ]
    },
    {
     "name": "stdout",
     "output_type": "stream",
     "text": [
      "Pos0cell ID2994glimpse saved\n",
      "attemptingPos0cell ID3030\n",
      "Pos0cell ID3030glimpse saved\n",
      "attemptingPos0cell ID2996\n"
     ]
    },
    {
     "name": "stderr",
     "output_type": "stream",
     "text": [
      "\n",
      " 74%|███████▍  | 203/275 [00:45<00:13,  5.28it/s]\u001b[A\n",
      " 74%|███████▍  | 204/275 [00:45<00:13,  5.41it/s]\u001b[A"
     ]
    },
    {
     "name": "stdout",
     "output_type": "stream",
     "text": [
      "Pos0cell ID2996glimpse saved\n",
      "attemptingPos0cell ID2999\n",
      "Pos0cell ID2999glimpse saved\n",
      "attemptingPos0cell ID3000\n"
     ]
    },
    {
     "name": "stderr",
     "output_type": "stream",
     "text": [
      "\n",
      " 75%|███████▍  | 205/275 [00:45<00:13,  5.38it/s]\u001b[A\n",
      " 75%|███████▍  | 206/275 [00:45<00:12,  5.31it/s]\u001b[A"
     ]
    },
    {
     "name": "stdout",
     "output_type": "stream",
     "text": [
      "Pos0cell ID3000glimpse saved\n",
      "attemptingPos0cell ID3001\n",
      "Pos0cell ID3001glimpse saved\n",
      "attemptingPos0cell ID3003\n"
     ]
    },
    {
     "name": "stderr",
     "output_type": "stream",
     "text": [
      "\n",
      " 75%|███████▌  | 207/275 [00:46<00:13,  5.15it/s]\u001b[A\n",
      " 76%|███████▌  | 208/275 [00:46<00:12,  5.19it/s]\u001b[A"
     ]
    },
    {
     "name": "stdout",
     "output_type": "stream",
     "text": [
      "Pos0cell ID3003glimpse saved\n",
      "attemptingPos0cell ID3004\n",
      "Pos0cell ID3004glimpse saved\n",
      "attemptingPos0cell ID3005\n"
     ]
    },
    {
     "name": "stderr",
     "output_type": "stream",
     "text": [
      "\n",
      " 76%|███████▌  | 209/275 [00:46<00:12,  5.12it/s]\u001b[A\n",
      " 76%|███████▋  | 210/275 [00:46<00:12,  5.25it/s]\u001b[A"
     ]
    },
    {
     "name": "stdout",
     "output_type": "stream",
     "text": [
      "Pos0cell ID3005glimpse saved\n",
      "attemptingPos0cell ID3006\n",
      "Pos0cell ID3006glimpse saved\n",
      "attemptingPos0cell ID3007\n"
     ]
    },
    {
     "name": "stderr",
     "output_type": "stream",
     "text": [
      "\n",
      " 77%|███████▋  | 211/275 [00:46<00:12,  5.02it/s]\u001b[A\n",
      " 77%|███████▋  | 212/275 [00:47<00:12,  5.10it/s]\u001b[A"
     ]
    },
    {
     "name": "stdout",
     "output_type": "stream",
     "text": [
      "Pos0cell ID3007glimpse saved\n",
      "attemptingPos0cell ID3008\n",
      "Pos0cell ID3008glimpse saved\n",
      "attemptingPos0cell ID3009\n"
     ]
    },
    {
     "name": "stderr",
     "output_type": "stream",
     "text": [
      "\n",
      " 77%|███████▋  | 213/275 [00:47<00:11,  5.23it/s]\u001b[A\n",
      " 78%|███████▊  | 214/275 [00:47<00:11,  5.19it/s]\u001b[A"
     ]
    },
    {
     "name": "stdout",
     "output_type": "stream",
     "text": [
      "Pos0cell ID3009glimpse saved\n",
      "attemptingPos0cell ID3011\n",
      "Pos0cell ID3011glimpse saved\n",
      "attemptingPos0cell ID3028\n"
     ]
    },
    {
     "name": "stderr",
     "output_type": "stream",
     "text": [
      "\n",
      " 78%|███████▊  | 215/275 [00:47<00:11,  5.00it/s]\u001b[A\n",
      " 79%|███████▊  | 216/275 [00:47<00:11,  5.06it/s]\u001b[A"
     ]
    },
    {
     "name": "stdout",
     "output_type": "stream",
     "text": [
      "Pos0cell ID3028glimpse saved\n",
      "attemptingPos0cell ID3027\n",
      "Pos0cell ID3027glimpse saved\n",
      "attemptingPos0cell ID3025\n"
     ]
    },
    {
     "name": "stderr",
     "output_type": "stream",
     "text": [
      "\n",
      " 79%|███████▉  | 217/275 [00:48<00:11,  5.10it/s]\u001b[A\n",
      " 79%|███████▉  | 218/275 [00:48<00:11,  5.15it/s]\u001b[A"
     ]
    },
    {
     "name": "stdout",
     "output_type": "stream",
     "text": [
      "Pos0cell ID3025glimpse saved\n",
      "attemptingPos0cell ID3023\n",
      "Pos0cell ID3023glimpse saved\n",
      "attemptingPos0cell ID3022\n"
     ]
    },
    {
     "name": "stderr",
     "output_type": "stream",
     "text": [
      "\n",
      " 80%|███████▉  | 219/275 [00:48<00:10,  5.19it/s]\u001b[A"
     ]
    },
    {
     "name": "stdout",
     "output_type": "stream",
     "text": [
      "Pos0cell ID3022glimpse saved\n",
      "attemptingPos0cell ID3020\n"
     ]
    },
    {
     "name": "stderr",
     "output_type": "stream",
     "text": [
      "\n",
      " 80%|████████  | 220/275 [00:48<00:12,  4.51it/s]\u001b[A\n",
      " 80%|████████  | 221/275 [00:48<00:11,  4.73it/s]\u001b[A"
     ]
    },
    {
     "name": "stdout",
     "output_type": "stream",
     "text": [
      "Pos0cell ID3020glimpse saved\n",
      "attemptingPos0cell ID3017\n",
      "Pos0cell ID3017glimpse saved\n",
      "attemptingPos0cell ID3014\n"
     ]
    },
    {
     "name": "stderr",
     "output_type": "stream",
     "text": [
      "\n",
      " 81%|████████  | 222/275 [00:49<00:10,  4.91it/s]\u001b[A"
     ]
    },
    {
     "name": "stdout",
     "output_type": "stream",
     "text": [
      "Pos0cell ID3014glimpse saved\n",
      "attemptingPos0cell ID3212\n"
     ]
    },
    {
     "name": "stderr",
     "output_type": "stream",
     "text": [
      "\n",
      " 81%|████████  | 223/275 [00:49<00:10,  4.76it/s]\u001b[A\n",
      " 81%|████████▏ | 224/275 [00:49<00:10,  4.83it/s]"
     ]
    },
    {
     "name": "stdout",
     "output_type": "stream",
     "text": [
      "Pos0cell ID3212glimpse saved\n",
      "attemptingPos0cell ID3210\n",
      "Pos0cell ID3210glimpse saved\n"
     ]
    },
    {
     "name": "stderr",
     "output_type": "stream",
     "text": [
      "\u001b[A\n",
      " 82%|████████▏ | 225/275 [00:49<00:09,  5.03it/s]\u001b[A"
     ]
    },
    {
     "name": "stdout",
     "output_type": "stream",
     "text": [
      "attemptingPos0cell ID3208\n",
      "Pos0cell ID3208glimpse saved\n",
      "attemptingPos0cell ID3205\n"
     ]
    },
    {
     "name": "stderr",
     "output_type": "stream",
     "text": [
      "\n",
      " 82%|████████▏ | 226/275 [00:49<00:09,  5.11it/s]\u001b[A\n",
      " 83%|████████▎ | 227/275 [00:50<00:09,  5.28it/s]\u001b[A"
     ]
    },
    {
     "name": "stdout",
     "output_type": "stream",
     "text": [
      "Pos0cell ID3205glimpse saved\n",
      "attemptingPos0cell ID3206\n",
      "Pos0cell ID3206glimpse saved\n",
      "attemptingPos0cell ID3213\n"
     ]
    },
    {
     "name": "stderr",
     "output_type": "stream",
     "text": [
      "\n",
      " 83%|████████▎ | 228/275 [00:50<00:08,  5.38it/s]\u001b[A\n",
      " 83%|████████▎ | 229/275 [00:50<00:08,  5.45it/s]\u001b[A"
     ]
    },
    {
     "name": "stdout",
     "output_type": "stream",
     "text": [
      "Pos0cell ID3213glimpse saved\n",
      "attemptingPos0cell ID3220\n",
      "Pos0cell ID3220glimpse saved\n",
      "attemptingPos0cell ID3221\n"
     ]
    },
    {
     "name": "stderr",
     "output_type": "stream",
     "text": [
      "\n",
      " 84%|████████▎ | 230/275 [00:50<00:08,  5.42it/s]\u001b[A\n",
      " 84%|████████▍ | 231/275 [00:50<00:07,  5.51it/s]\u001b[A"
     ]
    },
    {
     "name": "stdout",
     "output_type": "stream",
     "text": [
      "Pos0cell ID3221glimpse saved\n",
      "attemptingPos0cell ID3222\n",
      "Pos0cell ID3222glimpse saved\n",
      "attemptingPos0cell ID3223\n"
     ]
    },
    {
     "name": "stderr",
     "output_type": "stream",
     "text": [
      "\n",
      " 84%|████████▍ | 232/275 [00:51<00:07,  5.48it/s]\u001b[A\n",
      " 85%|████████▍ | 233/275 [00:51<00:07,  5.50it/s]\u001b[A"
     ]
    },
    {
     "name": "stdout",
     "output_type": "stream",
     "text": [
      "Pos0cell ID3223glimpse saved\n",
      "attemptingPos0cell ID3227\n",
      "Pos0cell ID3227glimpse saved\n",
      "attemptingPos0cell ID3230\n"
     ]
    },
    {
     "name": "stderr",
     "output_type": "stream",
     "text": [
      "\n",
      " 85%|████████▌ | 234/275 [00:51<00:07,  5.23it/s]\u001b[A\n",
      " 85%|████████▌ | 235/275 [00:51<00:07,  5.22it/s]\u001b[A"
     ]
    },
    {
     "name": "stdout",
     "output_type": "stream",
     "text": [
      "Pos0cell ID3230glimpse saved\n",
      "attemptingPos0cell ID3231\n",
      "Pos0cell ID3231glimpse saved\n",
      "attemptingPos0cell ID3241\n"
     ]
    },
    {
     "name": "stderr",
     "output_type": "stream",
     "text": [
      "\n",
      " 86%|████████▌ | 236/275 [00:51<00:07,  5.11it/s]\u001b[A\n",
      " 86%|████████▌ | 237/275 [00:51<00:07,  5.35it/s]\u001b[A"
     ]
    },
    {
     "name": "stdout",
     "output_type": "stream",
     "text": [
      "Pos0cell ID3241glimpse saved\n",
      "attemptingPos0cell ID3245\n",
      "Pos0cell ID3245glimpse saved\n",
      "attemptingPos0cell ID3248\n"
     ]
    },
    {
     "name": "stderr",
     "output_type": "stream",
     "text": [
      "\n",
      " 87%|████████▋ | 238/275 [00:52<00:06,  5.50it/s]\u001b[A\n",
      " 87%|████████▋ | 239/275 [00:52<00:06,  5.40it/s]\u001b[A"
     ]
    },
    {
     "name": "stdout",
     "output_type": "stream",
     "text": [
      "Pos0cell ID3248glimpse saved\n",
      "attemptingPos0cell ID3249\n",
      "Pos0cell ID3249glimpse saved\n",
      "attemptingPos0cell ID3250\n"
     ]
    },
    {
     "name": "stderr",
     "output_type": "stream",
     "text": [
      "\n",
      " 87%|████████▋ | 240/275 [00:52<00:06,  5.56it/s]\u001b[A\n",
      " 88%|████████▊ | 241/275 [00:52<00:06,  5.53it/s]\u001b[A"
     ]
    },
    {
     "name": "stdout",
     "output_type": "stream",
     "text": [
      "Pos0cell ID3250glimpse saved\n",
      "attemptingPos0cell ID3256\n",
      "Pos0cell ID3256glimpse saved\n",
      "attemptingPos0cell ID3257\n"
     ]
    },
    {
     "name": "stderr",
     "output_type": "stream",
     "text": [
      "\n",
      " 88%|████████▊ | 242/275 [00:52<00:05,  5.69it/s]\u001b[A\n",
      " 88%|████████▊ | 243/275 [00:53<00:05,  5.68it/s]\u001b[A"
     ]
    },
    {
     "name": "stdout",
     "output_type": "stream",
     "text": [
      "Pos0cell ID3257glimpse saved\n",
      "attemptingPos0cell ID3263\n",
      "Pos0cell ID3263glimpse saved\n",
      "attemptingPos0cell ID3269\n"
     ]
    },
    {
     "name": "stderr",
     "output_type": "stream",
     "text": [
      "\n",
      " 89%|████████▊ | 244/275 [00:53<00:05,  5.69it/s]\u001b[A\n",
      " 89%|████████▉ | 245/275 [00:53<00:05,  5.86it/s]\u001b[A"
     ]
    },
    {
     "name": "stdout",
     "output_type": "stream",
     "text": [
      "Pos0cell ID3269glimpse saved\n",
      "attemptingPos0cell ID3270\n",
      "Pos0cell ID3270glimpse saved\n",
      "attemptingPos0cell ID3278\n"
     ]
    },
    {
     "name": "stderr",
     "output_type": "stream",
     "text": [
      "\n",
      " 89%|████████▉ | 246/275 [00:53<00:05,  5.78it/s]\u001b[A"
     ]
    },
    {
     "name": "stdout",
     "output_type": "stream",
     "text": [
      "Pos0cell ID3278glimpse saved\n",
      "attemptingPos0cell ID3284\n"
     ]
    },
    {
     "name": "stderr",
     "output_type": "stream",
     "text": [
      "\n",
      " 90%|████████▉ | 247/275 [00:53<00:05,  5.47it/s]\u001b[A\n",
      " 90%|█████████ | 248/275 [00:53<00:04,  5.51it/s]\u001b[A"
     ]
    },
    {
     "name": "stdout",
     "output_type": "stream",
     "text": [
      "Pos0cell ID3284glimpse saved\n",
      "attemptingPos0cell ID3299\n",
      "Pos0cell ID3299glimpse saved\n",
      "attemptingPos0cell ID3316\n"
     ]
    },
    {
     "name": "stderr",
     "output_type": "stream",
     "text": [
      "\n",
      " 91%|█████████ | 249/275 [00:54<00:04,  5.51it/s]\u001b[A"
     ]
    },
    {
     "name": "stdout",
     "output_type": "stream",
     "text": [
      "Pos0cell ID3316glimpse saved\n",
      "attemptingPos0cell ID3309\n"
     ]
    },
    {
     "name": "stderr",
     "output_type": "stream",
     "text": [
      "\n",
      " 91%|█████████ | 250/275 [00:54<00:04,  5.22it/s]\u001b[A\n",
      " 91%|█████████▏| 251/275 [00:54<00:04,  5.43it/s]\u001b[A"
     ]
    },
    {
     "name": "stdout",
     "output_type": "stream",
     "text": [
      "Pos0cell ID3309glimpse saved\n",
      "attemptingPos0cell ID3326\n",
      "Pos0cell ID3326glimpse saved\n",
      "attemptingPos0cell ID3323\n"
     ]
    },
    {
     "name": "stderr",
     "output_type": "stream",
     "text": [
      "\n",
      " 92%|█████████▏| 252/275 [00:54<00:04,  5.51it/s]\u001b[A"
     ]
    },
    {
     "name": "stdout",
     "output_type": "stream",
     "text": [
      "Pos0cell ID3323glimpse saved\n",
      "attemptingPos0cell ID3319\n"
     ]
    },
    {
     "name": "stderr",
     "output_type": "stream",
     "text": [
      "\n",
      " 92%|█████████▏| 253/275 [00:54<00:04,  4.91it/s]\u001b[A\n",
      " 92%|█████████▏| 254/275 [00:55<00:04,  5.10it/s]\u001b[A"
     ]
    },
    {
     "name": "stdout",
     "output_type": "stream",
     "text": [
      "Pos0cell ID3319glimpse saved\n",
      "attemptingPos0cell ID3328\n",
      "Pos0cell ID3328glimpse saved\n",
      "attemptingPos0cell ID3332\n"
     ]
    },
    {
     "name": "stderr",
     "output_type": "stream",
     "text": [
      "\n",
      " 93%|█████████▎| 255/275 [00:55<00:03,  5.24it/s]\u001b[A\n",
      " 93%|█████████▎| 256/275 [00:55<00:03,  5.44it/s]\u001b[A"
     ]
    },
    {
     "name": "stdout",
     "output_type": "stream",
     "text": [
      "Pos0cell ID3332glimpse saved\n",
      "attemptingPos0cell ID3336\n",
      "Pos0cell ID3336glimpse saved\n",
      "attemptingPos0cell ID3335\n"
     ]
    },
    {
     "name": "stderr",
     "output_type": "stream",
     "text": [
      "\n",
      " 93%|█████████▎| 257/275 [00:55<00:03,  5.59it/s]\u001b[A\n",
      " 94%|█████████▍| 258/275 [00:55<00:02,  5.70it/s]\u001b[A"
     ]
    },
    {
     "name": "stdout",
     "output_type": "stream",
     "text": [
      "Pos0cell ID3335glimpse saved\n",
      "attemptingPos0cell ID3364\n",
      "Pos0cell ID3364glimpse saved\n",
      "attemptingPos0cell ID3376\n"
     ]
    },
    {
     "name": "stderr",
     "output_type": "stream",
     "text": [
      "\n",
      " 94%|█████████▍| 259/275 [00:55<00:02,  5.78it/s]\u001b[A\n",
      " 95%|█████████▍| 260/275 [00:56<00:02,  5.77it/s]\u001b[A"
     ]
    },
    {
     "name": "stdout",
     "output_type": "stream",
     "text": [
      "Pos0cell ID3376glimpse saved\n",
      "attemptingPos0cell ID3398\n",
      "Pos0cell ID3398glimpse saved\n",
      "attemptingPos0cell ID3401\n"
     ]
    },
    {
     "name": "stderr",
     "output_type": "stream",
     "text": [
      "\n",
      " 95%|█████████▍| 261/275 [00:56<00:02,  5.58it/s]\u001b[A"
     ]
    },
    {
     "name": "stdout",
     "output_type": "stream",
     "text": [
      "Pos0cell ID3401glimpse saved\n",
      "attemptingPos0cell ID3412\n"
     ]
    },
    {
     "name": "stderr",
     "output_type": "stream",
     "text": [
      "\n",
      " 95%|█████████▌| 262/275 [00:56<00:02,  5.12it/s]\u001b[A\n",
      " 96%|█████████▌| 263/275 [00:56<00:02,  5.25it/s]\u001b[A"
     ]
    },
    {
     "name": "stdout",
     "output_type": "stream",
     "text": [
      "Pos0cell ID3412glimpse saved\n",
      "attemptingPos0cell ID3415\n",
      "Pos0cell ID3415glimpse saved\n",
      "attemptingPos0cell ID3418\n"
     ]
    },
    {
     "name": "stderr",
     "output_type": "stream",
     "text": [
      "\n",
      " 96%|█████████▌| 264/275 [00:56<00:02,  5.17it/s]\u001b[A"
     ]
    },
    {
     "name": "stdout",
     "output_type": "stream",
     "text": [
      "Pos0cell ID3418glimpse saved\n",
      "attemptingPos0cell ID3458\n"
     ]
    },
    {
     "name": "stderr",
     "output_type": "stream",
     "text": [
      "\n",
      " 96%|█████████▋| 265/275 [00:57<00:02,  4.79it/s]\u001b[A\n",
      " 97%|█████████▋| 266/275 [00:57<00:01,  5.10it/s]\u001b[A"
     ]
    },
    {
     "name": "stdout",
     "output_type": "stream",
     "text": [
      "Pos0cell ID3458glimpse saved\n",
      "attemptingPos0cell ID3569\n",
      "Pos0cell ID3569glimpse saved\n",
      "attemptingPos0cell ID3598\n"
     ]
    },
    {
     "name": "stderr",
     "output_type": "stream",
     "text": [
      "\n",
      " 97%|█████████▋| 267/275 [00:57<00:01,  5.22it/s]\u001b[A\n",
      " 97%|█████████▋| 268/275 [00:57<00:01,  5.36it/s]\u001b[A"
     ]
    },
    {
     "name": "stdout",
     "output_type": "stream",
     "text": [
      "Pos0cell ID3598glimpse saved\n",
      "attemptingPos0cell ID3613\n",
      "Pos0cell ID3613glimpse saved\n",
      "attemptingPos0cell ID3616\n"
     ]
    },
    {
     "name": "stderr",
     "output_type": "stream",
     "text": [
      "\n",
      " 98%|█████████▊| 269/275 [00:57<00:01,  5.51it/s]\u001b[A\n",
      " 98%|█████████▊| 270/275 [00:58<00:00,  5.65it/s]\u001b[A"
     ]
    },
    {
     "name": "stdout",
     "output_type": "stream",
     "text": [
      "Pos0cell ID3616glimpse saved\n",
      "attemptingPos0cell ID3655\n",
      "Pos0cell ID3655glimpse saved\n",
      "attemptingPos0cell ID3760\n"
     ]
    },
    {
     "name": "stderr",
     "output_type": "stream",
     "text": [
      "\n",
      " 99%|█████████▊| 271/275 [00:58<00:00,  5.67it/s]\u001b[A\n",
      " 99%|█████████▉| 272/275 [00:58<00:00,  5.72it/s]\u001b[A"
     ]
    },
    {
     "name": "stdout",
     "output_type": "stream",
     "text": [
      "Pos0cell ID3760glimpse saved\n",
      "attemptingPos0cell ID3770\n",
      "Pos0cell ID3770glimpse saved\n",
      "attemptingPos0cell ID3848\n"
     ]
    },
    {
     "name": "stderr",
     "output_type": "stream",
     "text": [
      "\n",
      " 99%|█████████▉| 273/275 [00:58<00:00,  5.45it/s]\u001b[A"
     ]
    },
    {
     "name": "stdout",
     "output_type": "stream",
     "text": [
      "Pos0cell ID3848glimpse saved\n",
      "attemptingPos0cell ID3859\n"
     ]
    },
    {
     "name": "stderr",
     "output_type": "stream",
     "text": [
      "\n",
      "100%|█████████▉| 274/275 [00:58<00:00,  4.11it/s]\u001b[A\n",
      "100%|██████████| 275/275 [00:59<00:00,  4.65it/s]\u001b[A\n",
      "  4%|▍         | 1/24 [01:44<40:03, 104.51s/it]"
     ]
    },
    {
     "name": "stdout",
     "output_type": "stream",
     "text": [
      "Pos0cell ID3859glimpse saved\n",
      "attemptingPos0cell ID4671\n",
      "Pos0cell ID4671glimpse saved\n",
      "starting Pos1\n"
     ]
    },
    {
     "name": "stderr",
     "output_type": "stream",
     "text": [
      "[INFO][2021/05/27 06:58:36 PM] Opening HDF file: /run/user/1000/gvfs/smb-share:server=lowe-sn00.biochem.ucl.ac.uk,share=lowegrp/Data/Manasi/MK0000/Pos5/gfp_tracks_2021_05_21_05_32_08_PM.h5...\n",
      "[INFO][2021/05/27 06:58:36 PM] Loading tracks/obj_type_1\n"
     ]
    },
    {
     "name": "stdout",
     "output_type": "stream",
     "text": [
      "starting Pos2\n",
      "starting Pos3\n",
      "starting Pos4\n",
      "starting Pos5\n"
     ]
    },
    {
     "name": "stderr",
     "output_type": "stream",
     "text": [
      "[INFO][2021/05/27 06:58:36 PM] Loading objects/obj_type_1 (176034, 5) (176034 filtered: None)\n",
      "[INFO][2021/05/27 06:58:39 PM] Closing HDF file: /run/user/1000/gvfs/smb-share:server=lowe-sn00.biochem.ucl.ac.uk,share=lowegrp/Data/Manasi/MK0000/Pos5/gfp_tracks_2021_05_21_05_32_08_PM.h5\n"
     ]
    },
    {
     "name": "stdout",
     "output_type": "stream",
     "text": [
      "Pos5tracking file loaded\n",
      "Pos5number of glimpses to be generated:48\n",
      "Loading image channel 003\n"
     ]
    },
    {
     "name": "stderr",
     "output_type": "stream",
     "text": [
      "\n",
      "  0%|          | 0/48 [00:00<?, ?it/s]\u001b[A"
     ]
    },
    {
     "name": "stdout",
     "output_type": "stream",
     "text": [
      "Image loaded\n",
      "attemptingPos5cell ID34\n"
     ]
    },
    {
     "name": "stderr",
     "output_type": "stream",
     "text": [
      "\n",
      "  2%|▏         | 1/48 [00:00<00:29,  1.58it/s]\u001b[A"
     ]
    },
    {
     "name": "stdout",
     "output_type": "stream",
     "text": [
      "Pos5cell ID34glimpse saved\n",
      "attemptingPos5cell ID81\n"
     ]
    },
    {
     "name": "stderr",
     "output_type": "stream",
     "text": [
      "\n",
      "  4%|▍         | 2/48 [00:00<00:18,  2.51it/s]\u001b[A"
     ]
    },
    {
     "name": "stdout",
     "output_type": "stream",
     "text": [
      "Pos5cell ID81glimpse saved\n",
      "attemptingPos5cell ID85\n"
     ]
    },
    {
     "name": "stderr",
     "output_type": "stream",
     "text": [
      "\n",
      "  6%|▋         | 3/48 [00:01<00:17,  2.50it/s]\u001b[A"
     ]
    },
    {
     "name": "stdout",
     "output_type": "stream",
     "text": [
      "Pos5cell ID85glimpse saved\n",
      "attemptingPos5cell ID273\n"
     ]
    },
    {
     "name": "stderr",
     "output_type": "stream",
     "text": [
      "\n",
      "  8%|▊         | 4/48 [00:01<00:16,  2.73it/s]\u001b[A"
     ]
    },
    {
     "name": "stdout",
     "output_type": "stream",
     "text": [
      "Pos5cell ID273glimpse saved\n",
      "attemptingPos5cell ID393\n"
     ]
    },
    {
     "name": "stderr",
     "output_type": "stream",
     "text": [
      "\n",
      " 10%|█         | 5/48 [00:01<00:13,  3.22it/s]\u001b[A\n",
      " 12%|█▎        | 6/48 [00:01<00:11,  3.68it/s]\u001b[A"
     ]
    },
    {
     "name": "stdout",
     "output_type": "stream",
     "text": [
      "Pos5cell ID393glimpse saved\n",
      "attemptingPos5cell ID496\n",
      "Pos5cell ID496glimpse saved\n",
      "attemptingPos5cell ID499\n"
     ]
    },
    {
     "name": "stderr",
     "output_type": "stream",
     "text": [
      "\n",
      " 15%|█▍        | 7/48 [00:02<00:09,  4.23it/s]\u001b[A"
     ]
    },
    {
     "name": "stdout",
     "output_type": "stream",
     "text": [
      "Pos5cell ID499glimpse saved\n",
      "attemptingPos5cell ID506\n"
     ]
    },
    {
     "name": "stderr",
     "output_type": "stream",
     "text": [
      "\n",
      " 17%|█▋        | 8/48 [00:02<00:10,  3.87it/s]\u001b[A"
     ]
    },
    {
     "name": "stdout",
     "output_type": "stream",
     "text": [
      "Pos5cell ID506glimpse saved\n",
      "attemptingPos5cell ID541\n"
     ]
    },
    {
     "name": "stderr",
     "output_type": "stream",
     "text": [
      "\n",
      " 19%|█▉        | 9/48 [00:02<00:09,  4.13it/s]\u001b[A"
     ]
    },
    {
     "name": "stdout",
     "output_type": "stream",
     "text": [
      "Pos5cell ID541glimpse saved\n",
      "attemptingPos5cell ID563\n"
     ]
    },
    {
     "name": "stderr",
     "output_type": "stream",
     "text": [
      "\n",
      " 21%|██        | 10/48 [00:02<00:09,  4.01it/s]\u001b[A\n",
      " 23%|██▎       | 11/48 [00:03<00:08,  4.47it/s]\u001b[A"
     ]
    },
    {
     "name": "stdout",
     "output_type": "stream",
     "text": [
      "Pos5cell ID563glimpse saved\n",
      "attemptingPos5cell ID569\n",
      "Pos5cell ID569glimpse saved\n",
      "attemptingPos5cell ID605\n"
     ]
    },
    {
     "name": "stderr",
     "output_type": "stream",
     "text": [
      "\n",
      " 25%|██▌       | 12/48 [00:03<00:08,  4.43it/s]\u001b[A"
     ]
    },
    {
     "name": "stdout",
     "output_type": "stream",
     "text": [
      "Pos5cell ID605glimpse saved\n",
      "attemptingPos5cell ID642\n"
     ]
    },
    {
     "name": "stderr",
     "output_type": "stream",
     "text": [
      "\n",
      " 27%|██▋       | 13/48 [00:03<00:08,  4.19it/s]\u001b[A\n",
      " 29%|██▉       | 14/48 [00:03<00:07,  4.54it/s]\u001b[A"
     ]
    },
    {
     "name": "stdout",
     "output_type": "stream",
     "text": [
      "Pos5cell ID642glimpse saved\n",
      "attemptingPos5cell ID674\n",
      "Pos5cell ID674glimpse saved\n",
      "attemptingPos5cell ID712\n"
     ]
    },
    {
     "name": "stderr",
     "output_type": "stream",
     "text": [
      "\n",
      " 31%|███▏      | 15/48 [00:03<00:07,  4.56it/s]\u001b[A"
     ]
    },
    {
     "name": "stdout",
     "output_type": "stream",
     "text": [
      "Pos5cell ID712glimpse saved\n",
      "attemptingPos5cell ID721\n"
     ]
    },
    {
     "name": "stderr",
     "output_type": "stream",
     "text": [
      "\n",
      " 33%|███▎      | 16/48 [00:04<00:07,  4.55it/s]\u001b[A\n",
      " 35%|███▌      | 17/48 [00:04<00:06,  4.75it/s]\u001b[A"
     ]
    },
    {
     "name": "stdout",
     "output_type": "stream",
     "text": [
      "Pos5cell ID721glimpse saved\n",
      "attemptingPos5cell ID723\n",
      "Pos5cell ID723glimpse saved\n",
      "attemptingPos5cell ID745\n"
     ]
    },
    {
     "name": "stderr",
     "output_type": "stream",
     "text": [
      "\n",
      " 38%|███▊      | 18/48 [00:04<00:07,  3.99it/s]\u001b[A"
     ]
    },
    {
     "name": "stdout",
     "output_type": "stream",
     "text": [
      "Pos5cell ID745glimpse saved\n",
      "attemptingPos5cell ID746\n"
     ]
    },
    {
     "name": "stderr",
     "output_type": "stream",
     "text": [
      "\n",
      " 40%|███▉      | 19/48 [00:05<00:07,  3.64it/s]\u001b[A\n",
      " 42%|████▏     | 20/48 [00:05<00:07,  3.98it/s]\u001b[A"
     ]
    },
    {
     "name": "stdout",
     "output_type": "stream",
     "text": [
      "Pos5cell ID746glimpse saved\n",
      "attemptingPos5cell ID760\n",
      "Pos5cell ID760glimpse saved\n",
      "attemptingPos5cell ID783\n"
     ]
    },
    {
     "name": "stderr",
     "output_type": "stream",
     "text": [
      "\n",
      " 44%|████▍     | 21/48 [00:05<00:06,  4.27it/s]\u001b[A"
     ]
    },
    {
     "name": "stdout",
     "output_type": "stream",
     "text": [
      "Pos5cell ID783glimpse saved\n",
      "attemptingPos5cell ID789\n"
     ]
    },
    {
     "name": "stderr",
     "output_type": "stream",
     "text": [
      "\n",
      " 46%|████▌     | 22/48 [00:05<00:06,  4.04it/s]\u001b[A\n",
      " 48%|████▊     | 23/48 [00:05<00:05,  4.29it/s]"
     ]
    },
    {
     "name": "stdout",
     "output_type": "stream",
     "text": [
      "Pos5cell ID789glimpse saved\n",
      "attemptingPos5cell ID794\n",
      "Pos5cell ID794glimpse saved\n"
     ]
    },
    {
     "name": "stderr",
     "output_type": "stream",
     "text": [
      "\u001b[A\n",
      " 50%|█████     | 24/48 [00:06<00:05,  4.71it/s]\u001b[A"
     ]
    },
    {
     "name": "stdout",
     "output_type": "stream",
     "text": [
      "attemptingPos5cell ID797\n",
      "Pos5cell ID797glimpse saved\n",
      "attemptingPos5cell ID804\n"
     ]
    },
    {
     "name": "stderr",
     "output_type": "stream",
     "text": [
      "\n",
      " 52%|█████▏    | 25/48 [00:06<00:04,  5.01it/s]\u001b[A"
     ]
    },
    {
     "name": "stdout",
     "output_type": "stream",
     "text": [
      "Pos5cell ID804glimpse saved\n",
      "attemptingPos5cell ID807\n"
     ]
    },
    {
     "name": "stderr",
     "output_type": "stream",
     "text": [
      "\n",
      " 54%|█████▍    | 26/48 [00:06<00:04,  4.98it/s]\u001b[A"
     ]
    },
    {
     "name": "stdout",
     "output_type": "stream",
     "text": [
      "Pos5cell ID807glimpse saved\n",
      "attemptingPos5cell ID774\n"
     ]
    },
    {
     "name": "stderr",
     "output_type": "stream",
     "text": [
      "\n",
      " 56%|█████▋    | 27/48 [00:06<00:04,  4.55it/s]\u001b[A\n",
      " 58%|█████▊    | 28/48 [00:06<00:04,  4.85it/s]\u001b[A"
     ]
    },
    {
     "name": "stdout",
     "output_type": "stream",
     "text": [
      "Pos5cell ID774glimpse saved\n",
      "attemptingPos5cell ID777\n",
      "Pos5cell ID777glimpse saved\n",
      "attemptingPos5cell ID780\n"
     ]
    },
    {
     "name": "stderr",
     "output_type": "stream",
     "text": [
      "\n",
      " 60%|██████    | 29/48 [00:07<00:03,  4.97it/s]\u001b[A"
     ]
    },
    {
     "name": "stdout",
     "output_type": "stream",
     "text": [
      "Pos5cell ID780glimpse saved\n",
      "attemptingPos5cell ID810\n"
     ]
    },
    {
     "name": "stderr",
     "output_type": "stream",
     "text": [
      "\n",
      " 62%|██████▎   | 30/48 [00:07<00:03,  4.94it/s]\u001b[A"
     ]
    },
    {
     "name": "stdout",
     "output_type": "stream",
     "text": [
      "Pos5cell ID810glimpse saved\n",
      "attemptingPos5cell ID851\n"
     ]
    },
    {
     "name": "stderr",
     "output_type": "stream",
     "text": [
      "\n",
      " 65%|██████▍   | 31/48 [00:07<00:03,  4.87it/s]\u001b[A\n",
      " 67%|██████▋   | 32/48 [00:07<00:03,  4.95it/s]\u001b[A"
     ]
    },
    {
     "name": "stdout",
     "output_type": "stream",
     "text": [
      "Pos5cell ID851glimpse saved\n",
      "attemptingPos5cell ID855\n",
      "Pos5cell ID855glimpse saved\n",
      "attemptingPos5cell ID871\n"
     ]
    },
    {
     "name": "stderr",
     "output_type": "stream",
     "text": [
      "\n",
      " 69%|██████▉   | 33/48 [00:07<00:03,  4.60it/s]\u001b[A\n",
      " 71%|███████   | 34/48 [00:08<00:02,  4.91it/s]\u001b[A"
     ]
    },
    {
     "name": "stdout",
     "output_type": "stream",
     "text": [
      "Pos5cell ID871glimpse saved\n",
      "attemptingPos5cell ID885\n",
      "Pos5cell ID885glimpse saved\n",
      "attemptingPos5cell ID904\n"
     ]
    },
    {
     "name": "stderr",
     "output_type": "stream",
     "text": [
      "\n",
      " 73%|███████▎  | 35/48 [00:08<00:02,  5.13it/s]\u001b[A"
     ]
    },
    {
     "name": "stdout",
     "output_type": "stream",
     "text": [
      "Pos5cell ID904glimpse saved\n",
      "attemptingPos5cell ID913\n"
     ]
    },
    {
     "name": "stderr",
     "output_type": "stream",
     "text": [
      "\n",
      " 75%|███████▌  | 36/48 [00:08<00:02,  5.07it/s]\u001b[A\n"
     ]
    },
    {
     "name": "stdout",
     "output_type": "stream",
     "text": [
      "Pos5cell ID913glimpse saved\n",
      "attemptingPos5cell ID915\n",
      "Pos5cell ID915glimpse saved\n"
     ]
    },
    {
     "name": "stderr",
     "output_type": "stream",
     "text": [
      " 77%|███████▋  | 37/48 [00:08<00:02,  5.05it/s]\u001b[A\n",
      " 79%|███████▉  | 38/48 [00:08<00:01,  5.03it/s]\u001b[A"
     ]
    },
    {
     "name": "stdout",
     "output_type": "stream",
     "text": [
      "attemptingPos5cell ID916\n",
      "Pos5cell ID916glimpse saved\n",
      "attemptingPos5cell ID956\n"
     ]
    },
    {
     "name": "stderr",
     "output_type": "stream",
     "text": [
      "\n",
      " 81%|████████▏ | 39/48 [00:09<00:01,  5.07it/s]\u001b[A"
     ]
    },
    {
     "name": "stdout",
     "output_type": "stream",
     "text": [
      "Pos5cell ID956glimpse saved\n",
      "attemptingPos5cell ID974\n"
     ]
    },
    {
     "name": "stderr",
     "output_type": "stream",
     "text": [
      "\n",
      " 83%|████████▎ | 40/48 [00:09<00:01,  4.93it/s]\u001b[A\n",
      " 85%|████████▌ | 41/48 [00:09<00:01,  4.99it/s]\u001b[A"
     ]
    },
    {
     "name": "stdout",
     "output_type": "stream",
     "text": [
      "Pos5cell ID974glimpse saved\n",
      "attemptingPos5cell ID982\n",
      "Pos5cell ID982glimpse saved\n",
      "attemptingPos5cell ID994\n"
     ]
    },
    {
     "name": "stderr",
     "output_type": "stream",
     "text": [
      "\n",
      " 88%|████████▊ | 42/48 [00:09<00:01,  5.07it/s]\u001b[A"
     ]
    },
    {
     "name": "stdout",
     "output_type": "stream",
     "text": [
      "Pos5cell ID994glimpse saved\n",
      "attemptingPos5cell ID1001\n"
     ]
    },
    {
     "name": "stderr",
     "output_type": "stream",
     "text": [
      "\n",
      " 90%|████████▉ | 43/48 [00:09<00:01,  4.95it/s]\u001b[A"
     ]
    },
    {
     "name": "stdout",
     "output_type": "stream",
     "text": [
      "Pos5cell ID1001glimpse saved\n",
      "attemptingPos5cell ID1024\n"
     ]
    },
    {
     "name": "stderr",
     "output_type": "stream",
     "text": [
      "\n",
      " 92%|█████████▏| 44/48 [00:10<00:00,  4.54it/s]\u001b[A"
     ]
    },
    {
     "name": "stdout",
     "output_type": "stream",
     "text": [
      "Pos5cell ID1024glimpse saved\n",
      "attemptingPos5cell ID1031\n"
     ]
    },
    {
     "name": "stderr",
     "output_type": "stream",
     "text": [
      "\n",
      " 94%|█████████▍| 45/48 [00:10<00:00,  4.57it/s]\u001b[A\n",
      " 96%|█████████▌| 46/48 [00:10<00:00,  4.93it/s]\u001b[A"
     ]
    },
    {
     "name": "stdout",
     "output_type": "stream",
     "text": [
      "Pos5cell ID1031glimpse saved\n",
      "attemptingPos5cell ID1041\n",
      "Pos5cell ID1041glimpse saved\n",
      "attemptingPos5cell ID1046\n"
     ]
    },
    {
     "name": "stderr",
     "output_type": "stream",
     "text": [
      "\n",
      " 98%|█████████▊| 47/48 [00:10<00:00,  5.17it/s]\u001b[A\n",
      "100%|██████████| 48/48 [00:10<00:00,  4.39it/s]\u001b[A\n",
      " 25%|██▌       | 6/24 [02:37<06:37, 22.07s/it] "
     ]
    },
    {
     "name": "stdout",
     "output_type": "stream",
     "text": [
      "Pos5cell ID1046glimpse saved\n",
      "attemptingPos5cell ID1088\n",
      "Pos5cell ID1088glimpse saved\n",
      "starting Pos6\n"
     ]
    },
    {
     "name": "stderr",
     "output_type": "stream",
     "text": [
      "[INFO][2021/05/27 06:59:29 PM] Opening HDF file: /run/user/1000/gvfs/smb-share:server=lowe-sn00.biochem.ucl.ac.uk,share=lowegrp/Data/Manasi/MK0000/Pos6/gfp_tracks_2021_05_21_05_35_20_PM.h5...\n",
      "[INFO][2021/05/27 06:59:29 PM] Loading tracks/obj_type_1\n",
      "[INFO][2021/05/27 06:59:29 PM] Loading objects/obj_type_1 (203465, 5) (203465 filtered: None)\n",
      "[INFO][2021/05/27 06:59:32 PM] Closing HDF file: /run/user/1000/gvfs/smb-share:server=lowe-sn00.biochem.ucl.ac.uk,share=lowegrp/Data/Manasi/MK0000/Pos6/gfp_tracks_2021_05_21_05_35_20_PM.h5\n"
     ]
    },
    {
     "name": "stdout",
     "output_type": "stream",
     "text": [
      "Pos6tracking file loaded\n",
      "Pos6number of glimpses to be generated:63\n",
      "Loading image channel 003\n"
     ]
    },
    {
     "name": "stderr",
     "output_type": "stream",
     "text": [
      "\n",
      "  0%|          | 0/63 [00:00<?, ?it/s]\u001b[A"
     ]
    },
    {
     "name": "stdout",
     "output_type": "stream",
     "text": [
      "Image loaded\n",
      "attemptingPos6cell ID2\n"
     ]
    },
    {
     "name": "stderr",
     "output_type": "stream",
     "text": [
      "\n",
      "  2%|▏         | 1/63 [00:00<00:23,  2.66it/s]\u001b[A"
     ]
    },
    {
     "name": "stdout",
     "output_type": "stream",
     "text": [
      "Pos6cell ID2glimpse saved\n",
      "attemptingPos6cell ID44\n"
     ]
    },
    {
     "name": "stderr",
     "output_type": "stream",
     "text": [
      "\n",
      "  3%|▎         | 2/63 [00:00<00:30,  2.03it/s]\u001b[A"
     ]
    },
    {
     "name": "stdout",
     "output_type": "stream",
     "text": [
      "44 failed to produce glimpse\n",
      "attemptingPos6cell ID147\n"
     ]
    },
    {
     "name": "stderr",
     "output_type": "stream",
     "text": [
      "\n",
      "  5%|▍         | 3/63 [00:01<00:26,  2.29it/s]\u001b[A\n",
      "  6%|▋         | 4/63 [00:01<00:19,  2.99it/s]\u001b[A"
     ]
    },
    {
     "name": "stdout",
     "output_type": "stream",
     "text": [
      "147 failed to produce glimpse\n",
      "attemptingPos6cell ID215\n",
      "Pos6cell ID215glimpse saved\n",
      "attemptingPos6cell ID242\n"
     ]
    },
    {
     "name": "stderr",
     "output_type": "stream",
     "text": [
      "\n",
      "  8%|▊         | 5/63 [00:01<00:15,  3.65it/s]\u001b[A"
     ]
    },
    {
     "name": "stdout",
     "output_type": "stream",
     "text": [
      "Pos6cell ID242glimpse saved\n",
      "attemptingPos6cell ID277\n"
     ]
    },
    {
     "name": "stderr",
     "output_type": "stream",
     "text": [
      "\n",
      " 10%|▉         | 6/63 [00:02<00:20,  2.81it/s]\u001b[A"
     ]
    },
    {
     "name": "stdout",
     "output_type": "stream",
     "text": [
      "Pos6cell ID277glimpse saved\n",
      "attemptingPos6cell ID306\n"
     ]
    },
    {
     "name": "stderr",
     "output_type": "stream",
     "text": [
      "\n",
      " 11%|█         | 7/63 [00:02<00:19,  2.87it/s]\u001b[A\n",
      " 13%|█▎        | 8/63 [00:02<00:15,  3.45it/s]\u001b[A"
     ]
    },
    {
     "name": "stdout",
     "output_type": "stream",
     "text": [
      "Pos6cell ID306glimpse saved\n",
      "attemptingPos6cell ID340\n",
      "Pos6cell ID340glimpse saved\n",
      "attemptingPos6cell ID369\n"
     ]
    },
    {
     "name": "stderr",
     "output_type": "stream",
     "text": [
      "\n",
      " 14%|█▍        | 9/63 [00:02<00:13,  3.98it/s]\u001b[A"
     ]
    },
    {
     "name": "stdout",
     "output_type": "stream",
     "text": [
      "Pos6cell ID369glimpse saved\n",
      "attemptingPos6cell ID385\n"
     ]
    },
    {
     "name": "stderr",
     "output_type": "stream",
     "text": [
      "\n",
      " 16%|█▌        | 10/63 [00:03<00:13,  3.84it/s]\u001b[A"
     ]
    },
    {
     "name": "stdout",
     "output_type": "stream",
     "text": [
      "Pos6cell ID385glimpse saved\n",
      "attemptingPos6cell ID389\n"
     ]
    },
    {
     "name": "stderr",
     "output_type": "stream",
     "text": [
      "\n",
      " 17%|█▋        | 11/63 [00:03<00:13,  3.78it/s]\u001b[A"
     ]
    },
    {
     "name": "stdout",
     "output_type": "stream",
     "text": [
      "Pos6cell ID389glimpse saved\n",
      "attemptingPos6cell ID378\n"
     ]
    },
    {
     "name": "stderr",
     "output_type": "stream",
     "text": [
      "\n",
      " 19%|█▉        | 12/63 [00:03<00:12,  3.95it/s]\u001b[A"
     ]
    },
    {
     "name": "stdout",
     "output_type": "stream",
     "text": [
      "Pos6cell ID378glimpse saved\n",
      "attemptingPos6cell ID490\n"
     ]
    },
    {
     "name": "stderr",
     "output_type": "stream",
     "text": [
      "\n",
      " 21%|██        | 13/63 [00:03<00:12,  3.93it/s]\u001b[A\n",
      " 22%|██▏       | 14/63 [00:04<00:11,  4.39it/s]\u001b[A"
     ]
    },
    {
     "name": "stdout",
     "output_type": "stream",
     "text": [
      "Pos6cell ID490glimpse saved\n",
      "attemptingPos6cell ID494\n",
      "Pos6cell ID494glimpse saved\n",
      "attemptingPos6cell ID496\n"
     ]
    },
    {
     "name": "stderr",
     "output_type": "stream",
     "text": [
      "\n",
      " 24%|██▍       | 15/63 [00:04<00:11,  4.29it/s]\u001b[A"
     ]
    },
    {
     "name": "stdout",
     "output_type": "stream",
     "text": [
      "Pos6cell ID496glimpse saved\n",
      "attemptingPos6cell ID508\n"
     ]
    },
    {
     "name": "stderr",
     "output_type": "stream",
     "text": [
      "\n",
      " 25%|██▌       | 16/63 [00:04<00:13,  3.43it/s]\u001b[A\n",
      " 27%|██▋       | 17/63 [00:04<00:11,  3.88it/s]\u001b[A"
     ]
    },
    {
     "name": "stdout",
     "output_type": "stream",
     "text": [
      "Pos6cell ID508glimpse saved\n",
      "attemptingPos6cell ID531\n",
      "Pos6cell ID531glimpse saved\n",
      "attemptingPos6cell ID573\n"
     ]
    },
    {
     "name": "stderr",
     "output_type": "stream",
     "text": [
      "\n",
      " 29%|██▊       | 18/63 [00:05<00:10,  4.35it/s]\u001b[A"
     ]
    },
    {
     "name": "stdout",
     "output_type": "stream",
     "text": [
      "Pos6cell ID573glimpse saved\n",
      "attemptingPos6cell ID555\n"
     ]
    },
    {
     "name": "stderr",
     "output_type": "stream",
     "text": [
      "\n",
      " 30%|███       | 19/63 [00:05<00:11,  3.90it/s]\u001b[A"
     ]
    },
    {
     "name": "stdout",
     "output_type": "stream",
     "text": [
      "Pos6cell ID555glimpse saved\n",
      "attemptingPos6cell ID609\n"
     ]
    },
    {
     "name": "stderr",
     "output_type": "stream",
     "text": [
      "\n",
      " 32%|███▏      | 20/63 [00:05<00:11,  3.65it/s]\u001b[A"
     ]
    },
    {
     "name": "stdout",
     "output_type": "stream",
     "text": [
      "Pos6cell ID609glimpse saved\n",
      "attemptingPos6cell ID612\n"
     ]
    },
    {
     "name": "stderr",
     "output_type": "stream",
     "text": [
      "\n",
      " 33%|███▎      | 21/63 [00:05<00:10,  3.82it/s]\u001b[A"
     ]
    },
    {
     "name": "stdout",
     "output_type": "stream",
     "text": [
      "Pos6cell ID612glimpse saved\n",
      "attemptingPos6cell ID645\n"
     ]
    },
    {
     "name": "stderr",
     "output_type": "stream",
     "text": [
      "\n",
      " 35%|███▍      | 22/63 [00:06<00:10,  4.09it/s]\u001b[A\n",
      " 37%|███▋      | 23/63 [00:06<00:08,  4.54it/s]\u001b[A"
     ]
    },
    {
     "name": "stdout",
     "output_type": "stream",
     "text": [
      "Pos6cell ID645glimpse saved\n",
      "attemptingPos6cell ID638\n",
      "Pos6cell ID638glimpse saved\n",
      "attemptingPos6cell ID653\n"
     ]
    },
    {
     "name": "stderr",
     "output_type": "stream",
     "text": [
      "\n",
      " 38%|███▊      | 24/63 [00:06<00:08,  4.66it/s]\u001b[A"
     ]
    },
    {
     "name": "stdout",
     "output_type": "stream",
     "text": [
      "Pos6cell ID653glimpse saved\n",
      "attemptingPos6cell ID660\n"
     ]
    },
    {
     "name": "stderr",
     "output_type": "stream",
     "text": [
      "\n",
      " 40%|███▉      | 25/63 [00:06<00:10,  3.67it/s]\u001b[A\n",
      " 41%|████▏     | 26/63 [00:07<00:08,  4.16it/s]\u001b[A"
     ]
    },
    {
     "name": "stdout",
     "output_type": "stream",
     "text": [
      "Pos6cell ID660glimpse saved\n",
      "attemptingPos6cell ID665\n",
      "Pos6cell ID665glimpse saved\n",
      "attemptingPos6cell ID697\n"
     ]
    },
    {
     "name": "stderr",
     "output_type": "stream",
     "text": [
      "\n",
      " 43%|████▎     | 27/63 [00:07<00:07,  4.52it/s]\u001b[A"
     ]
    },
    {
     "name": "stdout",
     "output_type": "stream",
     "text": [
      "Pos6cell ID697glimpse saved\n",
      "attemptingPos6cell ID701\n"
     ]
    },
    {
     "name": "stderr",
     "output_type": "stream",
     "text": [
      "\n",
      " 44%|████▍     | 28/63 [00:07<00:07,  4.51it/s]\u001b[A"
     ]
    },
    {
     "name": "stdout",
     "output_type": "stream",
     "text": [
      "Pos6cell ID701glimpse saved\n",
      "attemptingPos6cell ID732\n"
     ]
    },
    {
     "name": "stderr",
     "output_type": "stream",
     "text": [
      "\n",
      " 46%|████▌     | 29/63 [00:07<00:08,  4.21it/s]\u001b[A\n",
      " 48%|████▊     | 30/63 [00:07<00:07,  4.45it/s]\u001b[A"
     ]
    },
    {
     "name": "stdout",
     "output_type": "stream",
     "text": [
      "Pos6cell ID732glimpse saved\n",
      "attemptingPos6cell ID719\n",
      "Pos6cell ID719glimpse saved\n",
      "attemptingPos6cell ID747\n"
     ]
    },
    {
     "name": "stderr",
     "output_type": "stream",
     "text": [
      "\n",
      " 49%|████▉     | 31/63 [00:08<00:08,  3.92it/s]\u001b[A\n",
      " 51%|█████     | 32/63 [00:08<00:07,  4.28it/s]\u001b[A"
     ]
    },
    {
     "name": "stdout",
     "output_type": "stream",
     "text": [
      "Pos6cell ID747glimpse saved\n",
      "attemptingPos6cell ID756\n",
      "Pos6cell ID756glimpse saved\n",
      "attemptingPos6cell ID787\n"
     ]
    },
    {
     "name": "stderr",
     "output_type": "stream",
     "text": [
      "\n",
      " 52%|█████▏    | 33/63 [00:08<00:06,  4.64it/s]\u001b[A"
     ]
    },
    {
     "name": "stdout",
     "output_type": "stream",
     "text": [
      "Pos6cell ID787glimpse saved\n",
      "attemptingPos6cell ID811\n"
     ]
    },
    {
     "name": "stderr",
     "output_type": "stream",
     "text": [
      "\n",
      " 54%|█████▍    | 34/63 [00:08<00:06,  4.73it/s]\u001b[A\n",
      " 56%|█████▌    | 35/63 [00:09<00:05,  4.83it/s]\u001b[A"
     ]
    },
    {
     "name": "stdout",
     "output_type": "stream",
     "text": [
      "Pos6cell ID811glimpse saved\n",
      "attemptingPos6cell ID790\n",
      "Pos6cell ID790glimpse saved\n",
      "attemptingPos6cell ID793\n"
     ]
    },
    {
     "name": "stderr",
     "output_type": "stream",
     "text": [
      "\n",
      " 57%|█████▋    | 36/63 [00:09<00:05,  4.72it/s]\u001b[A"
     ]
    },
    {
     "name": "stdout",
     "output_type": "stream",
     "text": [
      "Pos6cell ID793glimpse saved\n",
      "attemptingPos6cell ID821\n"
     ]
    },
    {
     "name": "stderr",
     "output_type": "stream",
     "text": [
      "\n",
      " 59%|█████▊    | 37/63 [00:09<00:05,  4.44it/s]\u001b[A\n",
      " 60%|██████    | 38/63 [00:09<00:05,  4.76it/s]\u001b[A"
     ]
    },
    {
     "name": "stdout",
     "output_type": "stream",
     "text": [
      "Pos6cell ID821glimpse saved\n",
      "attemptingPos6cell ID833\n",
      "Pos6cell ID833glimpse saved\n",
      "attemptingPos6cell ID871\n"
     ]
    },
    {
     "name": "stderr",
     "output_type": "stream",
     "text": [
      "\n",
      " 62%|██████▏   | 39/63 [00:09<00:05,  4.63it/s]\u001b[A\n",
      " 63%|██████▎   | 40/63 [00:10<00:04,  4.84it/s]\u001b[A"
     ]
    },
    {
     "name": "stdout",
     "output_type": "stream",
     "text": [
      "Pos6cell ID871glimpse saved\n",
      "attemptingPos6cell ID868\n",
      "Pos6cell ID868glimpse saved\n",
      "attemptingPos6cell ID874\n"
     ]
    },
    {
     "name": "stderr",
     "output_type": "stream",
     "text": [
      "\n",
      " 65%|██████▌   | 41/63 [00:10<00:04,  5.13it/s]\u001b[A\n",
      " 67%|██████▋   | 42/63 [00:10<00:03,  5.31it/s]\u001b[A"
     ]
    },
    {
     "name": "stdout",
     "output_type": "stream",
     "text": [
      "Pos6cell ID874glimpse saved\n",
      "attemptingPos6cell ID881\n",
      "Pos6cell ID881glimpse saved\n",
      "attemptingPos6cell ID882\n"
     ]
    },
    {
     "name": "stderr",
     "output_type": "stream",
     "text": [
      "\n",
      " 68%|██████▊   | 43/63 [00:10<00:04,  4.87it/s]\u001b[A"
     ]
    },
    {
     "name": "stdout",
     "output_type": "stream",
     "text": [
      "Pos6cell ID882glimpse saved\n",
      "attemptingPos6cell ID897\n"
     ]
    },
    {
     "name": "stderr",
     "output_type": "stream",
     "text": [
      "\n",
      " 70%|██████▉   | 44/63 [00:10<00:03,  4.84it/s]\u001b[A"
     ]
    },
    {
     "name": "stdout",
     "output_type": "stream",
     "text": [
      "Pos6cell ID897glimpse saved\n",
      "attemptingPos6cell ID902\n"
     ]
    },
    {
     "name": "stderr",
     "output_type": "stream",
     "text": [
      "\n",
      " 71%|███████▏  | 45/63 [00:11<00:03,  4.84it/s]\u001b[A\n",
      " 73%|███████▎  | 46/63 [00:11<00:03,  4.91it/s]\u001b[A"
     ]
    },
    {
     "name": "stdout",
     "output_type": "stream",
     "text": [
      "Pos6cell ID902glimpse saved\n",
      "attemptingPos6cell ID916\n",
      "Pos6cell ID916glimpse saved\n",
      "attemptingPos6cell ID918\n"
     ]
    },
    {
     "name": "stderr",
     "output_type": "stream",
     "text": [
      "\n",
      " 75%|███████▍  | 47/63 [00:11<00:03,  4.98it/s]\u001b[A\n",
      " 76%|███████▌  | 48/63 [00:11<00:02,  5.03it/s]\u001b[A"
     ]
    },
    {
     "name": "stdout",
     "output_type": "stream",
     "text": [
      "Pos6cell ID918glimpse saved\n",
      "attemptingPos6cell ID921\n",
      "Pos6cell ID921glimpse saved\n",
      "attemptingPos6cell ID929\n"
     ]
    },
    {
     "name": "stderr",
     "output_type": "stream",
     "text": [
      "\n",
      " 78%|███████▊  | 49/63 [00:11<00:02,  5.09it/s]\u001b[A\n",
      " 79%|███████▉  | 50/63 [00:12<00:02,  5.17it/s]\u001b[A"
     ]
    },
    {
     "name": "stdout",
     "output_type": "stream",
     "text": [
      "Pos6cell ID929glimpse saved\n",
      "attemptingPos6cell ID944\n",
      "Pos6cell ID944glimpse saved\n",
      "attemptingPos6cell ID946\n"
     ]
    },
    {
     "name": "stderr",
     "output_type": "stream",
     "text": [
      "\n",
      " 81%|████████  | 51/63 [00:12<00:02,  5.32it/s]\u001b[A\n",
      " 83%|████████▎ | 52/63 [00:12<00:02,  5.27it/s]\u001b[A"
     ]
    },
    {
     "name": "stdout",
     "output_type": "stream",
     "text": [
      "Pos6cell ID946glimpse saved\n",
      "attemptingPos6cell ID949\n",
      "Pos6cell ID949glimpse saved\n",
      "attemptingPos6cell ID958\n"
     ]
    },
    {
     "name": "stderr",
     "output_type": "stream",
     "text": [
      "\n",
      " 84%|████████▍ | 53/63 [00:12<00:01,  5.31it/s]\u001b[A\n",
      " 86%|████████▌ | 54/63 [00:12<00:01,  5.50it/s]\u001b[A"
     ]
    },
    {
     "name": "stdout",
     "output_type": "stream",
     "text": [
      "Pos6cell ID958glimpse saved\n",
      "attemptingPos6cell ID974\n",
      "Pos6cell ID974glimpse saved\n",
      "attemptingPos6cell ID970\n"
     ]
    },
    {
     "name": "stderr",
     "output_type": "stream",
     "text": [
      "\n",
      " 87%|████████▋ | 55/63 [00:12<00:01,  5.51it/s]\u001b[A"
     ]
    },
    {
     "name": "stdout",
     "output_type": "stream",
     "text": [
      "Pos6cell ID970glimpse saved\n",
      "attemptingPos6cell ID983\n"
     ]
    },
    {
     "name": "stderr",
     "output_type": "stream",
     "text": [
      "\n",
      " 89%|████████▉ | 56/63 [00:13<00:01,  5.27it/s]\u001b[A\n",
      " 90%|█████████ | 57/63 [00:13<00:01,  5.43it/s]\u001b[A"
     ]
    },
    {
     "name": "stdout",
     "output_type": "stream",
     "text": [
      "Pos6cell ID983glimpse saved\n",
      "attemptingPos6cell ID993\n",
      "Pos6cell ID993glimpse saved\n",
      "attemptingPos6cell ID999\n"
     ]
    },
    {
     "name": "stderr",
     "output_type": "stream",
     "text": [
      "\n",
      " 92%|█████████▏| 58/63 [00:13<00:00,  5.56it/s]\u001b[A\n",
      " 94%|█████████▎| 59/63 [00:13<00:00,  5.62it/s]\u001b[A"
     ]
    },
    {
     "name": "stdout",
     "output_type": "stream",
     "text": [
      "Pos6cell ID999glimpse saved\n",
      "attemptingPos6cell ID1043\n",
      "Pos6cell ID1043glimpse saved\n",
      "attemptingPos6cell ID1059\n"
     ]
    },
    {
     "name": "stderr",
     "output_type": "stream",
     "text": [
      "\n",
      " 95%|█████████▌| 60/63 [00:13<00:00,  5.70it/s]\u001b[A\n",
      " 97%|█████████▋| 61/63 [00:14<00:00,  5.80it/s]\u001b[A"
     ]
    },
    {
     "name": "stdout",
     "output_type": "stream",
     "text": [
      "Pos6cell ID1059glimpse saved\n",
      "attemptingPos6cell ID1143\n",
      "Pos6cell ID1143glimpse saved\n",
      "attemptingPos6cell ID1211\n"
     ]
    },
    {
     "name": "stderr",
     "output_type": "stream",
     "text": [
      "\n",
      " 98%|█████████▊| 62/63 [00:14<00:00,  5.77it/s]\u001b[A\n",
      "100%|██████████| 63/63 [00:14<00:00,  4.39it/s]\u001b[A\n",
      " 29%|██▉       | 7/24 [03:32<08:10, 28.83s/it][INFO][2021/05/27 07:00:24 PM] Opening HDF file: /run/user/1000/gvfs/smb-share:server=lowe-sn00.biochem.ucl.ac.uk,share=lowegrp/Data/Manasi/MK0000/Pos7/gfp_tracks_2021_05_21_05_38_33_PM.h5...\n",
      "[INFO][2021/05/27 07:00:25 PM] Loading tracks/obj_type_1\n"
     ]
    },
    {
     "name": "stdout",
     "output_type": "stream",
     "text": [
      "Pos6cell ID1211glimpse saved\n",
      "attemptingPos6cell ID1244\n",
      "Pos6cell ID1244glimpse saved\n",
      "starting Pos7\n"
     ]
    },
    {
     "name": "stderr",
     "output_type": "stream",
     "text": [
      "[INFO][2021/05/27 07:00:25 PM] Loading objects/obj_type_1 (214295, 5) (214295 filtered: None)\n",
      "[INFO][2021/05/27 07:00:28 PM] Closing HDF file: /run/user/1000/gvfs/smb-share:server=lowe-sn00.biochem.ucl.ac.uk,share=lowegrp/Data/Manasi/MK0000/Pos7/gfp_tracks_2021_05_21_05_38_33_PM.h5\n"
     ]
    },
    {
     "name": "stdout",
     "output_type": "stream",
     "text": [
      "Pos7tracking file loaded\n",
      "Pos7number of glimpses to be generated:38\n",
      "Loading image channel 003\n"
     ]
    },
    {
     "name": "stderr",
     "output_type": "stream",
     "text": [
      "\n",
      "  0%|          | 0/38 [00:00<?, ?it/s]\u001b[A"
     ]
    },
    {
     "name": "stdout",
     "output_type": "stream",
     "text": [
      "Image loaded\n",
      "attemptingPos7cell ID54\n"
     ]
    },
    {
     "name": "stderr",
     "output_type": "stream",
     "text": [
      "\n",
      "  3%|▎         | 1/38 [00:00<00:16,  2.31it/s]\u001b[A"
     ]
    },
    {
     "name": "stdout",
     "output_type": "stream",
     "text": [
      "54 failed to produce glimpse\n",
      "attemptingPos7cell ID361\n"
     ]
    },
    {
     "name": "stderr",
     "output_type": "stream",
     "text": [
      "\n",
      "  5%|▌         | 2/38 [00:00<00:15,  2.32it/s]\u001b[A\n",
      "  8%|▊         | 3/38 [00:01<00:10,  3.19it/s]\u001b[A"
     ]
    },
    {
     "name": "stdout",
     "output_type": "stream",
     "text": [
      "361 failed to produce glimpse\n",
      "attemptingPos7cell ID418\n",
      "Pos7cell ID418glimpse saved\n",
      "attemptingPos7cell ID453\n"
     ]
    },
    {
     "name": "stderr",
     "output_type": "stream",
     "text": [
      "\n",
      " 11%|█         | 4/38 [00:01<00:09,  3.58it/s]\u001b[A"
     ]
    },
    {
     "name": "stdout",
     "output_type": "stream",
     "text": [
      "Pos7cell ID453glimpse saved\n",
      "attemptingPos7cell ID534\n"
     ]
    },
    {
     "name": "stderr",
     "output_type": "stream",
     "text": [
      "\n",
      " 13%|█▎        | 5/38 [00:01<00:08,  3.98it/s]\u001b[A\n",
      " 16%|█▌        | 6/38 [00:01<00:07,  4.33it/s]\u001b[A"
     ]
    },
    {
     "name": "stdout",
     "output_type": "stream",
     "text": [
      "Pos7cell ID534glimpse saved\n",
      "attemptingPos7cell ID551\n",
      "Pos7cell ID551glimpse saved\n",
      "attemptingPos7cell ID631\n"
     ]
    },
    {
     "name": "stderr",
     "output_type": "stream",
     "text": [
      "\n",
      " 18%|█▊        | 7/38 [00:01<00:07,  4.22it/s]\u001b[A\n",
      " 21%|██        | 8/38 [00:02<00:06,  4.64it/s]\u001b[A"
     ]
    },
    {
     "name": "stdout",
     "output_type": "stream",
     "text": [
      "Pos7cell ID631glimpse saved\n",
      "attemptingPos7cell ID687\n",
      "Pos7cell ID687glimpse saved\n",
      "attemptingPos7cell ID749\n"
     ]
    },
    {
     "name": "stderr",
     "output_type": "stream",
     "text": [
      "\n",
      " 24%|██▎       | 9/38 [00:02<00:05,  4.96it/s]\u001b[A\n",
      " 26%|██▋       | 10/38 [00:02<00:05,  5.20it/s]\u001b[A"
     ]
    },
    {
     "name": "stdout",
     "output_type": "stream",
     "text": [
      "Pos7cell ID749glimpse saved\n",
      "attemptingPos7cell ID699\n",
      "Pos7cell ID699glimpse saved\n",
      "attemptingPos7cell ID711\n"
     ]
    },
    {
     "name": "stderr",
     "output_type": "stream",
     "text": [
      "\n",
      " 29%|██▉       | 11/38 [00:02<00:05,  4.56it/s]\u001b[A"
     ]
    },
    {
     "name": "stdout",
     "output_type": "stream",
     "text": [
      "Pos7cell ID711glimpse saved\n",
      "attemptingPos7cell ID766\n"
     ]
    },
    {
     "name": "stderr",
     "output_type": "stream",
     "text": [
      "\n",
      " 32%|███▏      | 12/38 [00:02<00:05,  4.38it/s]\u001b[A\n",
      " 34%|███▍      | 13/38 [00:03<00:05,  4.69it/s]\u001b[A"
     ]
    },
    {
     "name": "stdout",
     "output_type": "stream",
     "text": [
      "Pos7cell ID766glimpse saved\n",
      "attemptingPos7cell ID780\n",
      "Pos7cell ID780glimpse saved\n",
      "attemptingPos7cell ID796\n"
     ]
    },
    {
     "name": "stderr",
     "output_type": "stream",
     "text": [
      "\n",
      " 37%|███▋      | 14/38 [00:03<00:04,  4.88it/s]\u001b[A"
     ]
    },
    {
     "name": "stdout",
     "output_type": "stream",
     "text": [
      "Pos7cell ID796glimpse saved\n",
      "attemptingPos7cell ID806\n"
     ]
    },
    {
     "name": "stderr",
     "output_type": "stream",
     "text": [
      "\n",
      " 39%|███▉      | 15/38 [00:03<00:04,  4.81it/s]\u001b[A"
     ]
    },
    {
     "name": "stdout",
     "output_type": "stream",
     "text": [
      "Pos7cell ID806glimpse saved\n",
      "attemptingPos7cell ID809\n"
     ]
    },
    {
     "name": "stderr",
     "output_type": "stream",
     "text": [
      "\n",
      " 42%|████▏     | 16/38 [00:03<00:04,  4.72it/s]\u001b[A\n",
      " 45%|████▍     | 17/38 [00:03<00:04,  5.07it/s]\u001b[A"
     ]
    },
    {
     "name": "stdout",
     "output_type": "stream",
     "text": [
      "Pos7cell ID809glimpse saved\n",
      "attemptingPos7cell ID880\n",
      "Pos7cell ID880glimpse saved\n",
      "attemptingPos7cell ID899\n"
     ]
    },
    {
     "name": "stderr",
     "output_type": "stream",
     "text": [
      "\n",
      " 47%|████▋     | 18/38 [00:04<00:03,  5.14it/s]\u001b[A"
     ]
    },
    {
     "name": "stdout",
     "output_type": "stream",
     "text": [
      "Pos7cell ID899glimpse saved\n",
      "attemptingPos7cell ID904\n"
     ]
    },
    {
     "name": "stderr",
     "output_type": "stream",
     "text": [
      "\n",
      " 50%|█████     | 19/38 [00:04<00:03,  4.93it/s]\u001b[A\n",
      " 53%|█████▎    | 20/38 [00:04<00:03,  5.19it/s]\u001b[A"
     ]
    },
    {
     "name": "stdout",
     "output_type": "stream",
     "text": [
      "Pos7cell ID904glimpse saved\n",
      "attemptingPos7cell ID906\n",
      "Pos7cell ID906glimpse saved\n",
      "attemptingPos7cell ID918\n"
     ]
    },
    {
     "name": "stderr",
     "output_type": "stream",
     "text": [
      "\n",
      " 55%|█████▌    | 21/38 [00:04<00:03,  4.49it/s]\u001b[A\n",
      " 58%|█████▊    | 22/38 [00:04<00:03,  4.89it/s]\u001b[A"
     ]
    },
    {
     "name": "stdout",
     "output_type": "stream",
     "text": [
      "Pos7cell ID918glimpse saved\n",
      "attemptingPos7cell ID922\n",
      "Pos7cell ID922glimpse saved\n",
      "attemptingPos7cell ID958\n"
     ]
    },
    {
     "name": "stderr",
     "output_type": "stream",
     "text": [
      "\n",
      " 61%|██████    | 23/38 [00:05<00:02,  5.08it/s]\u001b[A\n",
      " 63%|██████▎   | 24/38 [00:05<00:02,  5.33it/s]\u001b[A"
     ]
    },
    {
     "name": "stdout",
     "output_type": "stream",
     "text": [
      "Pos7cell ID958glimpse saved\n",
      "attemptingPos7cell ID971\n",
      "Pos7cell ID971glimpse saved\n",
      "attemptingPos7cell ID973\n"
     ]
    },
    {
     "name": "stderr",
     "output_type": "stream",
     "text": [
      "\n",
      " 66%|██████▌   | 25/38 [00:05<00:02,  4.95it/s]\u001b[A"
     ]
    },
    {
     "name": "stdout",
     "output_type": "stream",
     "text": [
      "Pos7cell ID973glimpse saved\n",
      "attemptingPos7cell ID1016\n"
     ]
    },
    {
     "name": "stderr",
     "output_type": "stream",
     "text": [
      "\n",
      " 68%|██████▊   | 26/38 [00:05<00:02,  4.74it/s]\u001b[A\n",
      " 71%|███████   | 27/38 [00:05<00:02,  5.05it/s]\u001b[A"
     ]
    },
    {
     "name": "stdout",
     "output_type": "stream",
     "text": [
      "Pos7cell ID1016glimpse saved\n",
      "attemptingPos7cell ID1030\n",
      "Pos7cell ID1030glimpse saved\n",
      "attemptingPos7cell ID1077\n"
     ]
    },
    {
     "name": "stderr",
     "output_type": "stream",
     "text": [
      "\n",
      " 74%|███████▎  | 28/38 [00:06<00:01,  5.23it/s]\u001b[A\n",
      " 76%|███████▋  | 29/38 [00:06<00:01,  5.34it/s]\u001b[A"
     ]
    },
    {
     "name": "stdout",
     "output_type": "stream",
     "text": [
      "Pos7cell ID1077glimpse saved\n",
      "attemptingPos7cell ID1093\n",
      "Pos7cell ID1093glimpse saved\n",
      "attemptingPos7cell ID1094\n"
     ]
    },
    {
     "name": "stderr",
     "output_type": "stream",
     "text": [
      "\n",
      " 79%|███████▉  | 30/38 [00:06<00:01,  5.34it/s]\u001b[A\n",
      " 82%|████████▏ | 31/38 [00:06<00:01,  5.36it/s]\u001b[A"
     ]
    },
    {
     "name": "stdout",
     "output_type": "stream",
     "text": [
      "Pos7cell ID1094glimpse saved\n",
      "attemptingPos7cell ID1108\n",
      "Pos7cell ID1108glimpse saved\n",
      "attemptingPos7cell ID1125\n"
     ]
    },
    {
     "name": "stderr",
     "output_type": "stream",
     "text": [
      "\n",
      " 84%|████████▍ | 32/38 [00:06<00:01,  5.40it/s]\u001b[A\n",
      " 87%|████████▋ | 33/38 [00:07<00:00,  5.45it/s]\u001b[A"
     ]
    },
    {
     "name": "stdout",
     "output_type": "stream",
     "text": [
      "Pos7cell ID1125glimpse saved\n",
      "attemptingPos7cell ID1128\n",
      "Pos7cell ID1128glimpse saved\n",
      "attemptingPos7cell ID1139\n"
     ]
    },
    {
     "name": "stderr",
     "output_type": "stream",
     "text": [
      "\n",
      " 89%|████████▉ | 34/38 [00:07<00:00,  5.64it/s]\u001b[A\n",
      " 92%|█████████▏| 35/38 [00:07<00:00,  5.70it/s]\u001b[A"
     ]
    },
    {
     "name": "stdout",
     "output_type": "stream",
     "text": [
      "Pos7cell ID1139glimpse saved\n",
      "attemptingPos7cell ID1233\n",
      "Pos7cell ID1233glimpse saved\n",
      "attemptingPos7cell ID1278\n"
     ]
    },
    {
     "name": "stderr",
     "output_type": "stream",
     "text": [
      "\n",
      " 95%|█████████▍| 36/38 [00:07<00:00,  5.43it/s]\u001b[A\n",
      " 97%|█████████▋| 37/38 [00:07<00:00,  5.51it/s]\u001b[A"
     ]
    },
    {
     "name": "stdout",
     "output_type": "stream",
     "text": [
      "Pos7cell ID1278glimpse saved\n",
      "attemptingPos7cell ID1282\n",
      "Pos7cell ID1282glimpse saved\n",
      "attemptingPos7cell ID1306\n"
     ]
    },
    {
     "name": "stderr",
     "output_type": "stream",
     "text": [
      "\n",
      "100%|██████████| 38/38 [00:07<00:00,  4.79it/s]\u001b[A\n",
      " 33%|███▎      | 8/24 [04:22<08:55, 33.44s/it][INFO][2021/05/27 07:01:14 PM] Opening HDF file: /run/user/1000/gvfs/smb-share:server=lowe-sn00.biochem.ucl.ac.uk,share=lowegrp/Data/Manasi/MK0000/Pos10/gfp_tracks_2021_05_21_05_42_19_PM.h5...\n",
      "[INFO][2021/05/27 07:01:14 PM] Loading tracks/obj_type_1\n"
     ]
    },
    {
     "name": "stdout",
     "output_type": "stream",
     "text": [
      "Pos7cell ID1306glimpse saved\n",
      "starting Pos8\n",
      "starting Pos9\n",
      "starting Pos10\n"
     ]
    },
    {
     "name": "stderr",
     "output_type": "stream",
     "text": [
      "[INFO][2021/05/27 07:01:14 PM] Loading objects/obj_type_1 (241944, 5) (241944 filtered: None)\n",
      "[INFO][2021/05/27 07:01:18 PM] Closing HDF file: /run/user/1000/gvfs/smb-share:server=lowe-sn00.biochem.ucl.ac.uk,share=lowegrp/Data/Manasi/MK0000/Pos10/gfp_tracks_2021_05_21_05_42_19_PM.h5\n"
     ]
    },
    {
     "name": "stdout",
     "output_type": "stream",
     "text": [
      "Pos10tracking file loaded\n",
      "Pos10number of glimpses to be generated:15\n",
      "Loading image channel 003\n"
     ]
    },
    {
     "name": "stderr",
     "output_type": "stream",
     "text": [
      "\n",
      "  0%|          | 0/15 [00:00<?, ?it/s]\u001b[A"
     ]
    },
    {
     "name": "stdout",
     "output_type": "stream",
     "text": [
      "Image loaded\n",
      "attemptingPos10cell ID7\n"
     ]
    },
    {
     "name": "stderr",
     "output_type": "stream",
     "text": [
      "\n",
      "  7%|▋         | 1/15 [00:00<00:05,  2.61it/s]\u001b[A"
     ]
    },
    {
     "name": "stdout",
     "output_type": "stream",
     "text": [
      "Pos10cell ID7glimpse saved\n",
      "attemptingPos10cell ID17\n"
     ]
    },
    {
     "name": "stderr",
     "output_type": "stream",
     "text": [
      "\n",
      " 13%|█▎        | 2/15 [00:00<00:05,  2.42it/s]\u001b[A"
     ]
    },
    {
     "name": "stdout",
     "output_type": "stream",
     "text": [
      "17 failed to produce glimpse\n",
      "attemptingPos10cell ID16\n"
     ]
    },
    {
     "name": "stderr",
     "output_type": "stream",
     "text": [
      "\n",
      " 20%|██        | 3/15 [00:01<00:05,  2.22it/s]\u001b[A\n",
      " 27%|██▋       | 4/15 [00:01<00:03,  2.96it/s]\u001b[A"
     ]
    },
    {
     "name": "stdout",
     "output_type": "stream",
     "text": [
      "Pos10cell ID16glimpse saved\n",
      "attemptingPos10cell ID87\n",
      "Pos10cell ID87glimpse saved\n",
      "attemptingPos10cell ID253\n"
     ]
    },
    {
     "name": "stderr",
     "output_type": "stream",
     "text": [
      "\n",
      " 33%|███▎      | 5/15 [00:01<00:02,  3.51it/s]\u001b[A"
     ]
    },
    {
     "name": "stdout",
     "output_type": "stream",
     "text": [
      "Pos10cell ID253glimpse saved\n",
      "attemptingPos10cell ID352\n"
     ]
    },
    {
     "name": "stderr",
     "output_type": "stream",
     "text": [
      "\n",
      " 40%|████      | 6/15 [00:01<00:02,  3.73it/s]\u001b[A\n",
      " 47%|████▋     | 7/15 [00:02<00:01,  4.15it/s]\u001b[A"
     ]
    },
    {
     "name": "stdout",
     "output_type": "stream",
     "text": [
      "Pos10cell ID352glimpse saved\n",
      "attemptingPos10cell ID1083\n",
      "Pos10cell ID1083glimpse saved\n",
      "attemptingPos10cell ID1310\n"
     ]
    },
    {
     "name": "stderr",
     "output_type": "stream",
     "text": [
      "\n",
      " 53%|█████▎    | 8/15 [00:02<00:01,  4.57it/s]\u001b[A\n",
      " 60%|██████    | 9/15 [00:02<00:01,  4.89it/s]\u001b[A"
     ]
    },
    {
     "name": "stdout",
     "output_type": "stream",
     "text": [
      "Pos10cell ID1310glimpse saved\n",
      "attemptingPos10cell ID1456\n",
      "Pos10cell ID1456glimpse saved\n",
      "attemptingPos10cell ID1486\n"
     ]
    },
    {
     "name": "stderr",
     "output_type": "stream",
     "text": [
      "\n",
      " 67%|██████▋   | 10/15 [00:02<00:00,  5.05it/s]\u001b[A\n",
      " 73%|███████▎  | 11/15 [00:02<00:00,  5.29it/s]\u001b[A"
     ]
    },
    {
     "name": "stdout",
     "output_type": "stream",
     "text": [
      "Pos10cell ID1486glimpse saved\n",
      "attemptingPos10cell ID1495\n",
      "Pos10cell ID1495glimpse saved\n",
      "attemptingPos10cell ID1520\n"
     ]
    },
    {
     "name": "stderr",
     "output_type": "stream",
     "text": [
      "\n",
      " 80%|████████  | 12/15 [00:02<00:00,  5.44it/s]\u001b[A"
     ]
    },
    {
     "name": "stdout",
     "output_type": "stream",
     "text": [
      "Pos10cell ID1520glimpse saved\n",
      "attemptingPos10cell ID1536\n"
     ]
    },
    {
     "name": "stderr",
     "output_type": "stream",
     "text": [
      "\n",
      " 87%|████████▋ | 13/15 [00:03<00:00,  4.76it/s]\u001b[A\n",
      " 93%|█████████▎| 14/15 [00:03<00:00,  5.07it/s]\u001b[A"
     ]
    },
    {
     "name": "stdout",
     "output_type": "stream",
     "text": [
      "Pos10cell ID1536glimpse saved\n",
      "attemptingPos10cell ID1637\n",
      "Pos10cell ID1637glimpse saved\n",
      "attemptingPos10cell ID2348\n"
     ]
    },
    {
     "name": "stderr",
     "output_type": "stream",
     "text": [
      "\n",
      "100%|██████████| 15/15 [00:03<00:00,  4.21it/s]\u001b[A\n",
      " 46%|████▌     | 11/24 [05:07<05:17, 24.41s/it][INFO][2021/05/27 07:01:59 PM] Opening HDF file: /run/user/1000/gvfs/smb-share:server=lowe-sn00.biochem.ucl.ac.uk,share=lowegrp/Data/Manasi/MK0000/Pos11/gfp_tracks_2021_05_21_05_45_15_PM.h5...\n",
      "[INFO][2021/05/27 07:01:59 PM] Loading tracks/obj_type_1\n"
     ]
    },
    {
     "name": "stdout",
     "output_type": "stream",
     "text": [
      "Pos10cell ID2348glimpse saved\n",
      "starting Pos11\n"
     ]
    },
    {
     "name": "stderr",
     "output_type": "stream",
     "text": [
      "[INFO][2021/05/27 07:01:59 PM] Loading objects/obj_type_1 (146660, 5) (146660 filtered: None)\n",
      "[INFO][2021/05/27 07:02:01 PM] Closing HDF file: /run/user/1000/gvfs/smb-share:server=lowe-sn00.biochem.ucl.ac.uk,share=lowegrp/Data/Manasi/MK0000/Pos11/gfp_tracks_2021_05_21_05_45_15_PM.h5\n"
     ]
    },
    {
     "name": "stdout",
     "output_type": "stream",
     "text": [
      "Pos11tracking file loaded\n",
      "Pos11number of glimpses to be generated:0\n",
      "Loading image channel 003\n"
     ]
    },
    {
     "name": "stderr",
     "output_type": "stream",
     "text": [
      "\n",
      "0it [00:00, ?it/s]\u001b[A\n",
      " 50%|█████     | 12/24 [05:47<05:28, 27.40s/it][INFO][2021/05/27 07:02:39 PM] Opening HDF file: /run/user/1000/gvfs/smb-share:server=lowe-sn00.biochem.ucl.ac.uk,share=lowegrp/Data/Manasi/MK0000/Pos12/gfp_tracks_2021_05_21_05_49_29_PM.h5...\n",
      "[INFO][2021/05/27 07:02:39 PM] Loading tracks/obj_type_1\n"
     ]
    },
    {
     "name": "stdout",
     "output_type": "stream",
     "text": [
      "Image loaded\n",
      "starting Pos12\n"
     ]
    },
    {
     "name": "stderr",
     "output_type": "stream",
     "text": [
      "[INFO][2021/05/27 07:02:40 PM] Loading objects/obj_type_1 (310941, 5) (310941 filtered: None)\n",
      "[INFO][2021/05/27 07:02:44 PM] Closing HDF file: /run/user/1000/gvfs/smb-share:server=lowe-sn00.biochem.ucl.ac.uk,share=lowegrp/Data/Manasi/MK0000/Pos12/gfp_tracks_2021_05_21_05_49_29_PM.h5\n"
     ]
    },
    {
     "name": "stdout",
     "output_type": "stream",
     "text": [
      "Pos12tracking file loaded\n",
      "Pos12number of glimpses to be generated:18\n",
      "Loading image channel 003\n"
     ]
    },
    {
     "name": "stderr",
     "output_type": "stream",
     "text": [
      "\n",
      "  0%|          | 0/18 [00:00<?, ?it/s]\u001b[A"
     ]
    },
    {
     "name": "stdout",
     "output_type": "stream",
     "text": [
      "Image loaded\n",
      "attemptingPos12cell ID77\n"
     ]
    },
    {
     "name": "stderr",
     "output_type": "stream",
     "text": [
      "\n",
      "  6%|▌         | 1/18 [00:00<00:05,  2.84it/s]\u001b[A\n",
      " 11%|█         | 2/18 [00:00<00:03,  4.02it/s]\u001b[A"
     ]
    },
    {
     "name": "stdout",
     "output_type": "stream",
     "text": [
      "Pos12cell ID77glimpse saved\n",
      "attemptingPos12cell ID63\n",
      "Pos12cell ID63glimpse saved\n",
      "attemptingPos12cell ID484\n"
     ]
    },
    {
     "name": "stderr",
     "output_type": "stream",
     "text": [
      "\n",
      " 17%|█▋        | 3/18 [00:00<00:03,  4.67it/s]\u001b[A\n",
      " 22%|██▏       | 4/18 [00:00<00:02,  5.12it/s]\u001b[A"
     ]
    },
    {
     "name": "stdout",
     "output_type": "stream",
     "text": [
      "Pos12cell ID484glimpse saved\n",
      "attemptingPos12cell ID757\n",
      "Pos12cell ID757glimpse saved\n",
      "attemptingPos12cell ID912\n"
     ]
    },
    {
     "name": "stderr",
     "output_type": "stream",
     "text": [
      "\n",
      " 28%|██▊       | 5/18 [00:01<00:02,  5.35it/s]\u001b[A"
     ]
    },
    {
     "name": "stdout",
     "output_type": "stream",
     "text": [
      "Pos12cell ID912glimpse saved\n",
      "attemptingPos12cell ID1271\n"
     ]
    },
    {
     "name": "stderr",
     "output_type": "stream",
     "text": [
      "\n",
      " 33%|███▎      | 6/18 [00:01<00:03,  3.71it/s]\u001b[A\n",
      " 39%|███▉      | 7/18 [00:01<00:02,  4.12it/s]\u001b[A"
     ]
    },
    {
     "name": "stdout",
     "output_type": "stream",
     "text": [
      "1271 failed to produce glimpse\n",
      "attemptingPos12cell ID1324\n",
      "Pos12cell ID1324glimpse saved\n",
      "attemptingPos12cell ID1792\n"
     ]
    },
    {
     "name": "stderr",
     "output_type": "stream",
     "text": [
      "\n",
      " 44%|████▍     | 8/18 [00:01<00:02,  4.55it/s]\u001b[A\n",
      " 50%|█████     | 9/18 [00:01<00:01,  4.96it/s]\u001b[A"
     ]
    },
    {
     "name": "stdout",
     "output_type": "stream",
     "text": [
      "Pos12cell ID1792glimpse saved\n",
      "attemptingPos12cell ID2197\n",
      "Pos12cell ID2197glimpse saved\n",
      "attemptingPos12cell ID2280\n"
     ]
    },
    {
     "name": "stderr",
     "output_type": "stream",
     "text": [
      "\n",
      " 56%|█████▌    | 10/18 [00:02<00:01,  5.29it/s]\u001b[A\n",
      " 61%|██████    | 11/18 [00:02<00:01,  5.27it/s]\u001b[A"
     ]
    },
    {
     "name": "stdout",
     "output_type": "stream",
     "text": [
      "Pos12cell ID2280glimpse saved\n",
      "attemptingPos12cell ID2744\n",
      "Pos12cell ID2744glimpse saved\n",
      "attemptingPos12cell ID2673\n"
     ]
    },
    {
     "name": "stderr",
     "output_type": "stream",
     "text": [
      "\n",
      " 67%|██████▋   | 12/18 [00:02<00:01,  5.49it/s]\u001b[A\n",
      " 72%|███████▏  | 13/18 [00:02<00:00,  5.57it/s]\u001b[A"
     ]
    },
    {
     "name": "stdout",
     "output_type": "stream",
     "text": [
      "Pos12cell ID2673glimpse saved\n",
      "attemptingPos12cell ID3052\n",
      "Pos12cell ID3052glimpse saved\n",
      "attemptingPos12cell ID3124\n"
     ]
    },
    {
     "name": "stderr",
     "output_type": "stream",
     "text": [
      "\n",
      " 78%|███████▊  | 14/18 [00:02<00:00,  5.63it/s]\u001b[A\n",
      " 83%|████████▎ | 15/18 [00:03<00:00,  5.73it/s]\u001b[A"
     ]
    },
    {
     "name": "stdout",
     "output_type": "stream",
     "text": [
      "Pos12cell ID3124glimpse saved\n",
      "attemptingPos12cell ID3259\n",
      "Pos12cell ID3259glimpse saved\n",
      "attemptingPos12cell ID4276\n"
     ]
    },
    {
     "name": "stderr",
     "output_type": "stream",
     "text": [
      "\n",
      " 89%|████████▉ | 16/18 [00:03<00:00,  5.47it/s]\u001b[A"
     ]
    },
    {
     "name": "stdout",
     "output_type": "stream",
     "text": [
      "Pos12cell ID4276glimpse saved\n",
      "attemptingPos12cell ID4412\n"
     ]
    },
    {
     "name": "stderr",
     "output_type": "stream",
     "text": [
      "\n",
      " 94%|█████████▍| 17/18 [00:03<00:00,  5.12it/s]\u001b[A\n",
      "100%|██████████| 18/18 [00:03<00:00,  4.98it/s]\u001b[A\n",
      " 54%|█████▍    | 13/24 [06:33<05:44, 31.35s/it]"
     ]
    },
    {
     "name": "stdout",
     "output_type": "stream",
     "text": [
      "Pos12cell ID4412glimpse saved\n",
      "attemptingPos12cell ID4678\n",
      "Pos12cell ID4678glimpse saved\n",
      "starting Pos13\n",
      "starting Pos14\n",
      "starting Pos15\n"
     ]
    },
    {
     "name": "stderr",
     "output_type": "stream",
     "text": [
      "[INFO][2021/05/27 07:03:25 PM] Opening HDF file: /run/user/1000/gvfs/smb-share:server=lowe-sn00.biochem.ucl.ac.uk,share=lowegrp/Data/Manasi/MK0000/Pos15/gfp_tracks_2021_05_21_05_57_38_PM.h5...\n",
      "[INFO][2021/05/27 07:03:25 PM] Loading tracks/obj_type_1\n",
      "[INFO][2021/05/27 07:03:26 PM] Loading objects/obj_type_1 (551730, 5) (551730 filtered: None)\n",
      "[INFO][2021/05/27 07:03:33 PM] Closing HDF file: /run/user/1000/gvfs/smb-share:server=lowe-sn00.biochem.ucl.ac.uk,share=lowegrp/Data/Manasi/MK0000/Pos15/gfp_tracks_2021_05_21_05_57_38_PM.h5\n"
     ]
    },
    {
     "name": "stdout",
     "output_type": "stream",
     "text": [
      "Pos15tracking file loaded\n",
      "Pos15number of glimpses to be generated:83\n",
      "Loading image channel 003\n"
     ]
    },
    {
     "name": "stderr",
     "output_type": "stream",
     "text": [
      "\n",
      "  0%|          | 0/83 [00:00<?, ?it/s]\u001b[A\n",
      "  1%|          | 1/83 [00:00<00:14,  5.70it/s]\u001b[A"
     ]
    },
    {
     "name": "stdout",
     "output_type": "stream",
     "text": [
      "Image loaded\n",
      "attemptingPos15cell ID75\n",
      "Pos15cell ID75glimpse saved\n",
      "attemptingPos15cell ID84\n"
     ]
    },
    {
     "name": "stderr",
     "output_type": "stream",
     "text": [
      "\n",
      "  2%|▏         | 2/83 [00:00<00:18,  4.30it/s]\u001b[A"
     ]
    },
    {
     "name": "stdout",
     "output_type": "stream",
     "text": [
      "Pos15cell ID84glimpse saved\n",
      "attemptingPos15cell ID104\n"
     ]
    },
    {
     "name": "stderr",
     "output_type": "stream",
     "text": [
      "\n",
      "  4%|▎         | 3/83 [00:00<00:21,  3.78it/s]\u001b[A"
     ]
    },
    {
     "name": "stdout",
     "output_type": "stream",
     "text": [
      "Pos15cell ID104glimpse saved\n",
      "attemptingPos15cell ID24\n"
     ]
    },
    {
     "name": "stderr",
     "output_type": "stream",
     "text": [
      "\n",
      "  5%|▍         | 4/83 [00:01<00:27,  2.84it/s]\u001b[A"
     ]
    },
    {
     "name": "stdout",
     "output_type": "stream",
     "text": [
      "Pos15cell ID24glimpse saved\n",
      "attemptingPos15cell ID52\n"
     ]
    },
    {
     "name": "stderr",
     "output_type": "stream",
     "text": [
      "\n",
      "  6%|▌         | 5/83 [00:01<00:26,  3.00it/s]\u001b[A\n",
      "  7%|▋         | 6/83 [00:01<00:22,  3.48it/s]\u001b[A"
     ]
    },
    {
     "name": "stdout",
     "output_type": "stream",
     "text": [
      "Pos15cell ID52glimpse saved\n",
      "attemptingPos15cell ID37\n",
      "Pos15cell ID37glimpse saved\n",
      "attemptingPos15cell ID36\n"
     ]
    },
    {
     "name": "stderr",
     "output_type": "stream",
     "text": [
      "\n",
      "  8%|▊         | 7/83 [00:02<00:25,  2.93it/s]\u001b[A\n",
      " 10%|▉         | 8/83 [00:02<00:21,  3.52it/s]\u001b[A"
     ]
    },
    {
     "name": "stdout",
     "output_type": "stream",
     "text": [
      "Pos15cell ID36glimpse saved\n",
      "attemptingPos15cell ID177\n",
      "Pos15cell ID177glimpse saved\n",
      "attemptingPos15cell ID297\n"
     ]
    },
    {
     "name": "stderr",
     "output_type": "stream",
     "text": [
      "\n",
      " 11%|█         | 9/83 [00:02<00:25,  2.91it/s]\u001b[A"
     ]
    },
    {
     "name": "stdout",
     "output_type": "stream",
     "text": [
      "Pos15cell ID297glimpse saved\n",
      "attemptingPos15cell ID317\n"
     ]
    },
    {
     "name": "stderr",
     "output_type": "stream",
     "text": [
      "\n",
      " 12%|█▏        | 10/83 [00:03<00:25,  2.85it/s]\u001b[A\n",
      " 13%|█▎        | 11/83 [00:03<00:21,  3.36it/s]\u001b[A"
     ]
    },
    {
     "name": "stdout",
     "output_type": "stream",
     "text": [
      "Pos15cell ID317glimpse saved\n",
      "attemptingPos15cell ID364\n",
      "Pos15cell ID364glimpse saved\n",
      "attemptingPos15cell ID431\n"
     ]
    },
    {
     "name": "stderr",
     "output_type": "stream",
     "text": [
      "\n",
      " 14%|█▍        | 12/83 [00:03<00:20,  3.49it/s]\u001b[A"
     ]
    },
    {
     "name": "stdout",
     "output_type": "stream",
     "text": [
      "Pos15cell ID431glimpse saved\n",
      "attemptingPos15cell ID455\n"
     ]
    },
    {
     "name": "stderr",
     "output_type": "stream",
     "text": [
      "\n",
      " 16%|█▌        | 13/83 [00:03<00:18,  3.70it/s]\u001b[A"
     ]
    },
    {
     "name": "stdout",
     "output_type": "stream",
     "text": [
      "Pos15cell ID455glimpse saved\n",
      "attemptingPos15cell ID659\n"
     ]
    },
    {
     "name": "stderr",
     "output_type": "stream",
     "text": [
      "\n",
      " 17%|█▋        | 14/83 [00:04<00:23,  2.89it/s]\u001b[A"
     ]
    },
    {
     "name": "stdout",
     "output_type": "stream",
     "text": [
      "Pos15cell ID659glimpse saved\n",
      "attemptingPos15cell ID783\n"
     ]
    },
    {
     "name": "stderr",
     "output_type": "stream",
     "text": [
      "\n",
      " 18%|█▊        | 15/83 [00:04<00:23,  2.95it/s]\u001b[A\n",
      " 19%|█▉        | 16/83 [00:04<00:19,  3.46it/s]\u001b[A"
     ]
    },
    {
     "name": "stdout",
     "output_type": "stream",
     "text": [
      "Pos15cell ID783glimpse saved\n",
      "attemptingPos15cell ID821\n",
      "Pos15cell ID821glimpse saved\n",
      "attemptingPos15cell ID930\n"
     ]
    },
    {
     "name": "stderr",
     "output_type": "stream",
     "text": [
      "\n",
      " 20%|██        | 17/83 [00:05<00:16,  3.98it/s]\u001b[A"
     ]
    },
    {
     "name": "stdout",
     "output_type": "stream",
     "text": [
      "Pos15cell ID930glimpse saved\n",
      "attemptingPos15cell ID970\n"
     ]
    },
    {
     "name": "stderr",
     "output_type": "stream",
     "text": [
      "\n",
      " 22%|██▏       | 18/83 [00:05<00:18,  3.55it/s]\u001b[A\n",
      " 23%|██▎       | 19/83 [00:05<00:15,  4.05it/s]\u001b[A"
     ]
    },
    {
     "name": "stdout",
     "output_type": "stream",
     "text": [
      "Pos15cell ID970glimpse saved\n",
      "attemptingPos15cell ID991\n",
      "Pos15cell ID991glimpse saved\n",
      "attemptingPos15cell ID1026\n"
     ]
    },
    {
     "name": "stderr",
     "output_type": "stream",
     "text": [
      "\n",
      " 24%|██▍       | 20/83 [00:05<00:16,  3.84it/s]\u001b[A"
     ]
    },
    {
     "name": "stdout",
     "output_type": "stream",
     "text": [
      "Pos15cell ID1026glimpse saved\n",
      "attemptingPos15cell ID1110\n"
     ]
    },
    {
     "name": "stderr",
     "output_type": "stream",
     "text": [
      "\n",
      " 25%|██▌       | 21/83 [00:06<00:17,  3.53it/s]\u001b[A\n",
      " 27%|██▋       | 22/83 [00:06<00:15,  3.88it/s]\u001b[A"
     ]
    },
    {
     "name": "stdout",
     "output_type": "stream",
     "text": [
      "Pos15cell ID1110glimpse saved\n",
      "attemptingPos15cell ID1315\n",
      "Pos15cell ID1315glimpse saved\n",
      "attemptingPos15cell ID1275\n"
     ]
    },
    {
     "name": "stderr",
     "output_type": "stream",
     "text": [
      "\n",
      " 28%|██▊       | 23/83 [00:06<00:14,  4.18it/s]\u001b[A\n",
      " 29%|██▉       | 24/83 [00:06<00:12,  4.62it/s]\u001b[A"
     ]
    },
    {
     "name": "stdout",
     "output_type": "stream",
     "text": [
      "Pos15cell ID1275glimpse saved\n",
      "attemptingPos15cell ID1366\n",
      "Pos15cell ID1366glimpse saved\n",
      "attemptingPos15cell ID1376\n"
     ]
    },
    {
     "name": "stderr",
     "output_type": "stream",
     "text": [
      "\n",
      " 30%|███       | 25/83 [00:06<00:12,  4.76it/s]\u001b[A"
     ]
    },
    {
     "name": "stdout",
     "output_type": "stream",
     "text": [
      "Pos15cell ID1376glimpse saved\n",
      "attemptingPos15cell ID1389\n"
     ]
    },
    {
     "name": "stderr",
     "output_type": "stream",
     "text": [
      "\n",
      " 31%|███▏      | 26/83 [00:07<00:11,  4.77it/s]\u001b[A"
     ]
    },
    {
     "name": "stdout",
     "output_type": "stream",
     "text": [
      "Pos15cell ID1389glimpse saved\n",
      "attemptingPos15cell ID1347\n"
     ]
    },
    {
     "name": "stderr",
     "output_type": "stream",
     "text": [
      "\n",
      " 33%|███▎      | 27/83 [00:07<00:11,  4.82it/s]\u001b[A\n",
      " 34%|███▎      | 28/83 [00:07<00:10,  5.16it/s]\u001b[A"
     ]
    },
    {
     "name": "stdout",
     "output_type": "stream",
     "text": [
      "Pos15cell ID1347glimpse saved\n",
      "attemptingPos15cell ID1203\n",
      "Pos15cell ID1203glimpse saved\n",
      "attemptingPos15cell ID1207\n"
     ]
    },
    {
     "name": "stderr",
     "output_type": "stream",
     "text": [
      "\n",
      " 35%|███▍      | 29/83 [00:07<00:09,  5.40it/s]\u001b[A\n",
      " 36%|███▌      | 30/83 [00:07<00:09,  5.42it/s]\u001b[A"
     ]
    },
    {
     "name": "stdout",
     "output_type": "stream",
     "text": [
      "Pos15cell ID1207glimpse saved\n",
      "attemptingPos15cell ID1248\n",
      "Pos15cell ID1248glimpse saved\n",
      "attemptingPos15cell ID1433\n"
     ]
    },
    {
     "name": "stderr",
     "output_type": "stream",
     "text": [
      "\n",
      " 37%|███▋      | 31/83 [00:08<00:09,  5.38it/s]\u001b[A\n",
      " 39%|███▊      | 32/83 [00:08<00:09,  5.39it/s]\u001b[A"
     ]
    },
    {
     "name": "stdout",
     "output_type": "stream",
     "text": [
      "Pos15cell ID1433glimpse saved\n",
      "attemptingPos15cell ID1440\n",
      "Pos15cell ID1440glimpse saved\n",
      "attemptingPos15cell ID1464\n"
     ]
    },
    {
     "name": "stderr",
     "output_type": "stream",
     "text": [
      "\n",
      " 40%|███▉      | 33/83 [00:08<00:09,  5.42it/s]\u001b[A\n",
      " 41%|████      | 34/83 [00:08<00:08,  5.59it/s]\u001b[A"
     ]
    },
    {
     "name": "stdout",
     "output_type": "stream",
     "text": [
      "Pos15cell ID1464glimpse saved\n",
      "attemptingPos15cell ID1500\n",
      "Pos15cell ID1500glimpse saved\n",
      "attemptingPos15cell ID1513\n"
     ]
    },
    {
     "name": "stderr",
     "output_type": "stream",
     "text": [
      "\n",
      " 42%|████▏     | 35/83 [00:08<00:08,  5.64it/s]\u001b[A\n",
      " 43%|████▎     | 36/83 [00:08<00:08,  5.79it/s]\u001b[A"
     ]
    },
    {
     "name": "stdout",
     "output_type": "stream",
     "text": [
      "Pos15cell ID1513glimpse saved\n",
      "attemptingPos15cell ID1523\n",
      "Pos15cell ID1523glimpse saved\n",
      "attemptingPos15cell ID1547\n"
     ]
    },
    {
     "name": "stderr",
     "output_type": "stream",
     "text": [
      "\n",
      " 45%|████▍     | 37/83 [00:09<00:09,  4.69it/s]\u001b[A\n",
      " 46%|████▌     | 38/83 [00:09<00:09,  4.94it/s]\u001b[A"
     ]
    },
    {
     "name": "stdout",
     "output_type": "stream",
     "text": [
      "Pos15cell ID1547glimpse saved\n",
      "attemptingPos15cell ID1662\n",
      "Pos15cell ID1662glimpse saved\n",
      "attemptingPos15cell ID1733\n"
     ]
    },
    {
     "name": "stderr",
     "output_type": "stream",
     "text": [
      "\n",
      " 47%|████▋     | 39/83 [00:09<00:09,  4.74it/s]\u001b[A\n",
      " 48%|████▊     | 40/83 [00:09<00:08,  5.12it/s]\u001b[A"
     ]
    },
    {
     "name": "stdout",
     "output_type": "stream",
     "text": [
      "Pos15cell ID1733glimpse saved\n",
      "attemptingPos15cell ID1754\n",
      "Pos15cell ID1754glimpse saved\n",
      "attemptingPos15cell ID1840\n"
     ]
    },
    {
     "name": "stderr",
     "output_type": "stream",
     "text": [
      "\n",
      " 49%|████▉     | 41/83 [00:09<00:08,  5.20it/s]\u001b[A\n",
      " 51%|█████     | 42/83 [00:10<00:07,  5.48it/s]\u001b[A"
     ]
    },
    {
     "name": "stdout",
     "output_type": "stream",
     "text": [
      "Pos15cell ID1840glimpse saved\n",
      "attemptingPos15cell ID1855\n",
      "Pos15cell ID1855glimpse saved\n",
      "attemptingPos15cell ID1967\n"
     ]
    },
    {
     "name": "stderr",
     "output_type": "stream",
     "text": [
      "\n",
      " 52%|█████▏    | 43/83 [00:10<00:07,  5.15it/s]\u001b[A\n",
      " 53%|█████▎    | 44/83 [00:10<00:07,  5.27it/s]\u001b[A"
     ]
    },
    {
     "name": "stdout",
     "output_type": "stream",
     "text": [
      "Pos15cell ID1967glimpse saved\n",
      "attemptingPos15cell ID2238\n",
      "Pos15cell ID2238glimpse saved\n",
      "attemptingPos15cell ID2368\n"
     ]
    },
    {
     "name": "stderr",
     "output_type": "stream",
     "text": [
      "\n",
      " 54%|█████▍    | 45/83 [00:10<00:07,  5.31it/s]\u001b[A"
     ]
    },
    {
     "name": "stdout",
     "output_type": "stream",
     "text": [
      "Pos15cell ID2368glimpse saved\n",
      "attemptingPos15cell ID2394\n"
     ]
    },
    {
     "name": "stderr",
     "output_type": "stream",
     "text": [
      "\n",
      " 55%|█████▌    | 46/83 [00:10<00:07,  4.71it/s]\u001b[A\n",
      " 57%|█████▋    | 47/83 [00:11<00:07,  5.08it/s]\u001b[A"
     ]
    },
    {
     "name": "stdout",
     "output_type": "stream",
     "text": [
      "2394 failed to produce glimpse\n",
      "attemptingPos15cell ID2424\n",
      "Pos15cell ID2424glimpse saved\n",
      "attemptingPos15cell ID2556\n"
     ]
    },
    {
     "name": "stderr",
     "output_type": "stream",
     "text": [
      "\n",
      " 58%|█████▊    | 48/83 [00:11<00:06,  5.36it/s]\u001b[A"
     ]
    },
    {
     "name": "stdout",
     "output_type": "stream",
     "text": [
      "Pos15cell ID2556glimpse saved\n",
      "attemptingPos15cell ID2554\n"
     ]
    },
    {
     "name": "stderr",
     "output_type": "stream",
     "text": [
      "\n",
      " 59%|█████▉    | 49/83 [00:11<00:06,  5.00it/s]\u001b[A\n",
      " 60%|██████    | 50/83 [00:11<00:06,  5.04it/s]\u001b[A"
     ]
    },
    {
     "name": "stdout",
     "output_type": "stream",
     "text": [
      "Pos15cell ID2554glimpse saved\n",
      "attemptingPos15cell ID2650\n",
      "Pos15cell ID2650glimpse saved\n",
      "attemptingPos15cell ID3750\n"
     ]
    },
    {
     "name": "stderr",
     "output_type": "stream",
     "text": [
      "\n",
      " 61%|██████▏   | 51/83 [00:11<00:06,  4.91it/s]\u001b[A\n",
      " 63%|██████▎   | 52/83 [00:12<00:05,  5.25it/s]\u001b[A"
     ]
    },
    {
     "name": "stdout",
     "output_type": "stream",
     "text": [
      "Pos15cell ID3750glimpse saved\n",
      "attemptingPos15cell ID3762\n",
      "Pos15cell ID3762glimpse saved\n",
      "attemptingPos15cell ID3716\n"
     ]
    },
    {
     "name": "stderr",
     "output_type": "stream",
     "text": [
      "\n",
      " 64%|██████▍   | 53/83 [00:12<00:05,  5.05it/s]\u001b[A\n",
      " 65%|██████▌   | 54/83 [00:12<00:05,  5.38it/s]\u001b[A"
     ]
    },
    {
     "name": "stdout",
     "output_type": "stream",
     "text": [
      "Pos15cell ID3716glimpse saved\n",
      "attemptingPos15cell ID3861\n",
      "Pos15cell ID3861glimpse saved\n",
      "attemptingPos15cell ID3853\n"
     ]
    },
    {
     "name": "stderr",
     "output_type": "stream",
     "text": [
      "\n",
      " 66%|██████▋   | 55/83 [00:12<00:05,  5.28it/s]\u001b[A\n",
      " 67%|██████▋   | 56/83 [00:12<00:05,  5.30it/s]\u001b[A"
     ]
    },
    {
     "name": "stdout",
     "output_type": "stream",
     "text": [
      "Pos15cell ID3853glimpse saved\n",
      "attemptingPos15cell ID3849\n",
      "Pos15cell ID3849glimpse saved\n",
      "attemptingPos15cell ID3574\n"
     ]
    },
    {
     "name": "stderr",
     "output_type": "stream",
     "text": [
      "\n",
      " 69%|██████▊   | 57/83 [00:13<00:04,  5.47it/s]\u001b[A\n",
      " 70%|██████▉   | 58/83 [00:13<00:04,  5.69it/s]\u001b[A"
     ]
    },
    {
     "name": "stdout",
     "output_type": "stream",
     "text": [
      "Pos15cell ID3574glimpse saved\n",
      "attemptingPos15cell ID3500\n",
      "Pos15cell ID3500glimpse saved\n",
      "attemptingPos15cell ID3920\n"
     ]
    },
    {
     "name": "stderr",
     "output_type": "stream",
     "text": [
      "\n",
      " 71%|███████   | 59/83 [00:13<00:04,  5.72it/s]\u001b[A\n",
      " 72%|███████▏  | 60/83 [00:13<00:03,  5.94it/s]\u001b[A"
     ]
    },
    {
     "name": "stdout",
     "output_type": "stream",
     "text": [
      "Pos15cell ID3920glimpse saved\n",
      "attemptingPos15cell ID3928\n",
      "Pos15cell ID3928glimpse saved\n",
      "attemptingPos15cell ID3959\n"
     ]
    },
    {
     "name": "stderr",
     "output_type": "stream",
     "text": [
      "\n",
      " 73%|███████▎  | 61/83 [00:13<00:03,  6.07it/s]\u001b[A"
     ]
    },
    {
     "name": "stdout",
     "output_type": "stream",
     "text": [
      "Pos15cell ID3959glimpse saved\n",
      "attemptingPos15cell ID4123\n"
     ]
    },
    {
     "name": "stderr",
     "output_type": "stream",
     "text": [
      "\n",
      " 75%|███████▍  | 62/83 [00:13<00:03,  5.63it/s]\u001b[A\n",
      " 76%|███████▌  | 63/83 [00:14<00:03,  5.81it/s]\u001b[A"
     ]
    },
    {
     "name": "stdout",
     "output_type": "stream",
     "text": [
      "Pos15cell ID4123glimpse saved\n",
      "attemptingPos15cell ID4129\n",
      "Pos15cell ID4129glimpse saved\n",
      "attemptingPos15cell ID4079\n"
     ]
    },
    {
     "name": "stderr",
     "output_type": "stream",
     "text": [
      "\n",
      " 77%|███████▋  | 64/83 [00:14<00:03,  5.96it/s]\u001b[A\n",
      " 78%|███████▊  | 65/83 [00:14<00:03,  5.89it/s]\u001b[A"
     ]
    },
    {
     "name": "stdout",
     "output_type": "stream",
     "text": [
      "Pos15cell ID4079glimpse saved\n",
      "attemptingPos15cell ID4060\n",
      "Pos15cell ID4060glimpse saved\n",
      "attemptingPos15cell ID4203\n"
     ]
    },
    {
     "name": "stderr",
     "output_type": "stream",
     "text": [
      "\n",
      " 80%|███████▉  | 66/83 [00:14<00:02,  5.99it/s]\u001b[A\n",
      " 81%|████████  | 67/83 [00:14<00:02,  5.84it/s]\u001b[A"
     ]
    },
    {
     "name": "stdout",
     "output_type": "stream",
     "text": [
      "Pos15cell ID4203glimpse saved\n",
      "attemptingPos15cell ID4277\n",
      "Pos15cell ID4277glimpse saved\n",
      "attemptingPos15cell ID4239\n"
     ]
    },
    {
     "name": "stderr",
     "output_type": "stream",
     "text": [
      "\n",
      " 82%|████████▏ | 68/83 [00:14<00:02,  5.73it/s]\u001b[A\n",
      " 83%|████████▎ | 69/83 [00:15<00:02,  5.58it/s]\u001b[A"
     ]
    },
    {
     "name": "stdout",
     "output_type": "stream",
     "text": [
      "Pos15cell ID4239glimpse saved\n",
      "attemptingPos15cell ID4296\n",
      "Pos15cell ID4296glimpse saved\n",
      "attemptingPos15cell ID4321\n"
     ]
    },
    {
     "name": "stderr",
     "output_type": "stream",
     "text": [
      "\n",
      " 84%|████████▍ | 70/83 [00:15<00:02,  5.45it/s]\u001b[A\n",
      " 86%|████████▌ | 71/83 [00:15<00:02,  5.43it/s]\u001b[A"
     ]
    },
    {
     "name": "stdout",
     "output_type": "stream",
     "text": [
      "Pos15cell ID4321glimpse saved\n",
      "attemptingPos15cell ID4336\n",
      "Pos15cell ID4336glimpse saved\n",
      "attemptingPos15cell ID4353\n"
     ]
    },
    {
     "name": "stderr",
     "output_type": "stream",
     "text": [
      "\n",
      " 87%|████████▋ | 72/83 [00:15<00:01,  5.53it/s]\u001b[A\n",
      " 88%|████████▊ | 73/83 [00:15<00:01,  5.63it/s]\u001b[A"
     ]
    },
    {
     "name": "stdout",
     "output_type": "stream",
     "text": [
      "Pos15cell ID4353glimpse saved\n",
      "attemptingPos15cell ID4354\n",
      "Pos15cell ID4354glimpse saved\n",
      "attemptingPos15cell ID4368\n"
     ]
    },
    {
     "name": "stderr",
     "output_type": "stream",
     "text": [
      "\n",
      " 89%|████████▉ | 74/83 [00:15<00:01,  5.68it/s]\u001b[A\n",
      " 90%|█████████ | 75/83 [00:16<00:01,  5.81it/s]\u001b[A"
     ]
    },
    {
     "name": "stdout",
     "output_type": "stream",
     "text": [
      "Pos15cell ID4368glimpse saved\n",
      "attemptingPos15cell ID4397\n",
      "Pos15cell ID4397glimpse saved\n",
      "attemptingPos15cell ID4407\n"
     ]
    },
    {
     "name": "stderr",
     "output_type": "stream",
     "text": [
      "\n",
      " 92%|█████████▏| 76/83 [00:16<00:01,  5.89it/s]\u001b[A\n",
      " 93%|█████████▎| 77/83 [00:16<00:01,  5.93it/s]\u001b[A"
     ]
    },
    {
     "name": "stdout",
     "output_type": "stream",
     "text": [
      "Pos15cell ID4407glimpse saved\n",
      "attemptingPos15cell ID4421\n",
      "Pos15cell ID4421glimpse saved\n",
      "attemptingPos15cell ID4426\n"
     ]
    },
    {
     "name": "stderr",
     "output_type": "stream",
     "text": [
      "\n",
      " 94%|█████████▍| 78/83 [00:16<00:00,  6.04it/s]\u001b[A\n",
      " 95%|█████████▌| 79/83 [00:16<00:00,  5.95it/s]\u001b[A"
     ]
    },
    {
     "name": "stdout",
     "output_type": "stream",
     "text": [
      "Pos15cell ID4426glimpse saved\n",
      "attemptingPos15cell ID4441\n",
      "Pos15cell ID4441glimpse saved\n",
      "attemptingPos15cell ID4467\n"
     ]
    },
    {
     "name": "stderr",
     "output_type": "stream",
     "text": [
      "\n",
      " 96%|█████████▋| 80/83 [00:16<00:00,  6.07it/s]\u001b[A\n",
      " 98%|█████████▊| 81/83 [00:17<00:00,  5.99it/s]\u001b[A"
     ]
    },
    {
     "name": "stdout",
     "output_type": "stream",
     "text": [
      "Pos15cell ID4467glimpse saved\n",
      "attemptingPos15cell ID4486\n",
      "Pos15cell ID4486glimpse saved\n",
      "attemptingPos15cell ID4512\n"
     ]
    },
    {
     "name": "stderr",
     "output_type": "stream",
     "text": [
      "\n",
      " 99%|█████████▉| 82/83 [00:17<00:00,  5.99it/s]\u001b[A\n",
      "100%|██████████| 83/83 [00:17<00:00,  4.75it/s]\u001b[A\n",
      " 67%|██████▋   | 16/24 [07:37<03:32, 26.58s/it][INFO][2021/05/27 07:04:29 PM] Opening HDF file: /run/user/1000/gvfs/smb-share:server=lowe-sn00.biochem.ucl.ac.uk,share=lowegrp/Data/Manasi/MK0000/Pos16/gfp_tracks_2021_05_21_06_02_31_PM.h5...\n"
     ]
    },
    {
     "name": "stdout",
     "output_type": "stream",
     "text": [
      "Pos15cell ID4512glimpse saved\n",
      "attemptingPos15cell ID4513\n",
      "Pos15cell ID4513glimpse saved\n",
      "starting Pos16\n"
     ]
    },
    {
     "name": "stderr",
     "output_type": "stream",
     "text": [
      "[INFO][2021/05/27 07:04:29 PM] Loading tracks/obj_type_1\n",
      "[INFO][2021/05/27 07:04:29 PM] Loading objects/obj_type_1 (300780, 5) (300780 filtered: None)\n",
      "[INFO][2021/05/27 07:04:35 PM] Closing HDF file: /run/user/1000/gvfs/smb-share:server=lowe-sn00.biochem.ucl.ac.uk,share=lowegrp/Data/Manasi/MK0000/Pos16/gfp_tracks_2021_05_21_06_02_31_PM.h5\n"
     ]
    },
    {
     "name": "stdout",
     "output_type": "stream",
     "text": [
      "Pos16tracking file loaded\n",
      "Pos16number of glimpses to be generated:28\n",
      "Loading image channel 003\n"
     ]
    },
    {
     "name": "stderr",
     "output_type": "stream",
     "text": [
      "\n",
      "  0%|          | 0/28 [00:00<?, ?it/s]\u001b[A\n",
      "  4%|▎         | 1/28 [00:00<00:04,  5.89it/s]\u001b[A"
     ]
    },
    {
     "name": "stdout",
     "output_type": "stream",
     "text": [
      "Image loaded\n",
      "attemptingPos16cell ID245\n",
      "Pos16cell ID245glimpse saved\n",
      "attemptingPos16cell ID683\n"
     ]
    },
    {
     "name": "stderr",
     "output_type": "stream",
     "text": [
      "\n",
      "  7%|▋         | 2/28 [00:00<00:04,  5.28it/s]\u001b[A\n",
      " 11%|█         | 3/28 [00:00<00:04,  5.55it/s]\u001b[A"
     ]
    },
    {
     "name": "stdout",
     "output_type": "stream",
     "text": [
      "Pos16cell ID683glimpse saved\n",
      "attemptingPos16cell ID834\n",
      "Pos16cell ID834glimpse saved\n",
      "attemptingPos16cell ID857\n"
     ]
    },
    {
     "name": "stderr",
     "output_type": "stream",
     "text": [
      "\n",
      " 14%|█▍        | 4/28 [00:00<00:04,  5.56it/s]\u001b[A\n",
      " 18%|█▊        | 5/28 [00:00<00:03,  5.79it/s]\u001b[A"
     ]
    },
    {
     "name": "stdout",
     "output_type": "stream",
     "text": [
      "Pos16cell ID857glimpse saved\n",
      "attemptingPos16cell ID912\n",
      "Pos16cell ID912glimpse saved\n",
      "attemptingPos16cell ID1189\n"
     ]
    },
    {
     "name": "stderr",
     "output_type": "stream",
     "text": [
      "\n",
      " 21%|██▏       | 6/28 [00:01<00:04,  4.78it/s]\u001b[A"
     ]
    },
    {
     "name": "stdout",
     "output_type": "stream",
     "text": [
      "Pos16cell ID1189glimpse saved\n",
      "attemptingPos16cell ID1212\n"
     ]
    },
    {
     "name": "stderr",
     "output_type": "stream",
     "text": [
      "\n",
      " 25%|██▌       | 7/28 [00:01<00:04,  4.61it/s]\u001b[A\n",
      " 29%|██▊       | 8/28 [00:01<00:04,  4.87it/s]\u001b[A"
     ]
    },
    {
     "name": "stdout",
     "output_type": "stream",
     "text": [
      "Pos16cell ID1212glimpse saved\n",
      "attemptingPos16cell ID1268\n",
      "Pos16cell ID1268glimpse saved\n",
      "attemptingPos16cell ID1689\n"
     ]
    },
    {
     "name": "stderr",
     "output_type": "stream",
     "text": [
      "\n",
      " 32%|███▏      | 9/28 [00:01<00:04,  4.46it/s]\u001b[A\n",
      " 36%|███▌      | 10/28 [00:02<00:03,  4.68it/s]\u001b[A"
     ]
    },
    {
     "name": "stdout",
     "output_type": "stream",
     "text": [
      "Pos16cell ID1689glimpse saved\n",
      "attemptingPos16cell ID2027\n",
      "Pos16cell ID2027glimpse saved\n",
      "attemptingPos16cell ID2194\n"
     ]
    },
    {
     "name": "stderr",
     "output_type": "stream",
     "text": [
      "\n",
      " 39%|███▉      | 11/28 [00:02<00:03,  4.84it/s]\u001b[A"
     ]
    },
    {
     "name": "stdout",
     "output_type": "stream",
     "text": [
      "Pos16cell ID2194glimpse saved\n",
      "attemptingPos16cell ID2156\n"
     ]
    },
    {
     "name": "stderr",
     "output_type": "stream",
     "text": [
      "\n",
      " 43%|████▎     | 12/28 [00:02<00:03,  4.85it/s]\u001b[A"
     ]
    },
    {
     "name": "stdout",
     "output_type": "stream",
     "text": [
      "Pos16cell ID2156glimpse saved\n",
      "attemptingPos16cell ID2158\n"
     ]
    },
    {
     "name": "stderr",
     "output_type": "stream",
     "text": [
      "\n",
      " 46%|████▋     | 13/28 [00:02<00:03,  4.70it/s]\u001b[A"
     ]
    },
    {
     "name": "stdout",
     "output_type": "stream",
     "text": [
      "Pos16cell ID2158glimpse saved\n",
      "attemptingPos16cell ID2068\n"
     ]
    },
    {
     "name": "stderr",
     "output_type": "stream",
     "text": [
      "\n",
      " 50%|█████     | 14/28 [00:02<00:02,  4.73it/s]\u001b[A\n",
      " 54%|█████▎    | 15/28 [00:03<00:02,  4.99it/s]\u001b[A"
     ]
    },
    {
     "name": "stdout",
     "output_type": "stream",
     "text": [
      "Pos16cell ID2068glimpse saved\n",
      "attemptingPos16cell ID2070\n",
      "Pos16cell ID2070glimpse saved\n",
      "attemptingPos16cell ID2074\n"
     ]
    },
    {
     "name": "stderr",
     "output_type": "stream",
     "text": [
      "\n",
      " 57%|█████▋    | 16/28 [00:03<00:02,  5.25it/s]\u001b[A\n",
      " 61%|██████    | 17/28 [00:03<00:02,  5.44it/s]\u001b[A"
     ]
    },
    {
     "name": "stdout",
     "output_type": "stream",
     "text": [
      "Pos16cell ID2074glimpse saved\n",
      "attemptingPos16cell ID2106\n",
      "Pos16cell ID2106glimpse saved\n",
      "attemptingPos16cell ID2404\n"
     ]
    },
    {
     "name": "stderr",
     "output_type": "stream",
     "text": [
      "\n",
      " 64%|██████▍   | 18/28 [00:03<00:01,  5.21it/s]\u001b[A\n",
      " 68%|██████▊   | 19/28 [00:03<00:01,  5.39it/s]\u001b[A"
     ]
    },
    {
     "name": "stdout",
     "output_type": "stream",
     "text": [
      "Pos16cell ID2404glimpse saved\n",
      "attemptingPos16cell ID2408\n",
      "Pos16cell ID2408glimpse saved\n",
      "attemptingPos16cell ID2411\n"
     ]
    },
    {
     "name": "stderr",
     "output_type": "stream",
     "text": [
      "\n",
      " 71%|███████▏  | 20/28 [00:03<00:01,  5.04it/s]\u001b[A\n",
      " 75%|███████▌  | 21/28 [00:04<00:01,  5.21it/s]\u001b[A"
     ]
    },
    {
     "name": "stdout",
     "output_type": "stream",
     "text": [
      "Pos16cell ID2411glimpse saved\n",
      "attemptingPos16cell ID2430\n",
      "Pos16cell ID2430glimpse saved\n",
      "attemptingPos16cell ID2429\n"
     ]
    },
    {
     "name": "stderr",
     "output_type": "stream",
     "text": [
      "\n",
      " 79%|███████▊  | 22/28 [00:04<00:01,  5.13it/s]\u001b[A\n",
      " 82%|████████▏ | 23/28 [00:04<00:00,  5.12it/s]\u001b[A"
     ]
    },
    {
     "name": "stdout",
     "output_type": "stream",
     "text": [
      "Pos16cell ID2429glimpse saved\n",
      "attemptingPos16cell ID2462\n",
      "Pos16cell ID2462glimpse saved\n",
      "attemptingPos16cell ID2463\n"
     ]
    },
    {
     "name": "stderr",
     "output_type": "stream",
     "text": [
      "\n",
      " 86%|████████▌ | 24/28 [00:04<00:00,  4.96it/s]\u001b[A"
     ]
    },
    {
     "name": "stdout",
     "output_type": "stream",
     "text": [
      "Pos16cell ID2463glimpse saved\n",
      "attemptingPos16cell ID2478\n"
     ]
    },
    {
     "name": "stderr",
     "output_type": "stream",
     "text": [
      "\n",
      " 89%|████████▉ | 25/28 [00:04<00:00,  4.88it/s]\u001b[A\n",
      " 93%|█████████▎| 26/28 [00:05<00:00,  5.06it/s]\u001b[A"
     ]
    },
    {
     "name": "stdout",
     "output_type": "stream",
     "text": [
      "Pos16cell ID2478glimpse saved\n",
      "attemptingPos16cell ID2480\n",
      "Pos16cell ID2480glimpse saved\n",
      "attemptingPos16cell ID2521\n"
     ]
    },
    {
     "name": "stderr",
     "output_type": "stream",
     "text": [
      "\n",
      " 96%|█████████▋| 27/28 [00:05<00:00,  5.15it/s]\u001b[A\n",
      "100%|██████████| 28/28 [00:05<00:00,  5.06it/s]\u001b[A\n",
      " 71%|███████   | 17/24 [08:26<03:34, 30.66s/it][INFO][2021/05/27 07:05:18 PM] Opening HDF file: /run/user/1000/gvfs/smb-share:server=lowe-sn00.biochem.ucl.ac.uk,share=lowegrp/Data/Manasi/MK0000/Pos17/gfp_tracks_2021_05_21_06_06_39_PM.h5...\n"
     ]
    },
    {
     "name": "stdout",
     "output_type": "stream",
     "text": [
      "Pos16cell ID2521glimpse saved\n",
      "attemptingPos16cell ID2555\n",
      "2555 failed to produce glimpse\n",
      "starting Pos17\n"
     ]
    },
    {
     "name": "stderr",
     "output_type": "stream",
     "text": [
      "[INFO][2021/05/27 07:05:18 PM] Loading tracks/obj_type_1\n",
      "[INFO][2021/05/27 07:05:18 PM] Loading objects/obj_type_1 (282027, 5) (282027 filtered: None)\n",
      "[INFO][2021/05/27 07:05:23 PM] Closing HDF file: /run/user/1000/gvfs/smb-share:server=lowe-sn00.biochem.ucl.ac.uk,share=lowegrp/Data/Manasi/MK0000/Pos17/gfp_tracks_2021_05_21_06_06_39_PM.h5\n"
     ]
    },
    {
     "name": "stdout",
     "output_type": "stream",
     "text": [
      "Pos17tracking file loaded\n",
      "Pos17number of glimpses to be generated:56\n",
      "Loading image channel 003\n"
     ]
    },
    {
     "name": "stderr",
     "output_type": "stream",
     "text": [
      "\n",
      "  0%|          | 0/56 [00:00<?, ?it/s]\u001b[A"
     ]
    },
    {
     "name": "stdout",
     "output_type": "stream",
     "text": [
      "Image loaded\n",
      "attemptingPos17cell ID27\n"
     ]
    },
    {
     "name": "stderr",
     "output_type": "stream",
     "text": [
      "\n",
      "  2%|▏         | 1/56 [00:00<00:13,  4.00it/s]\u001b[A"
     ]
    },
    {
     "name": "stdout",
     "output_type": "stream",
     "text": [
      "Pos17cell ID27glimpse saved\n",
      "attemptingPos17cell ID39\n"
     ]
    },
    {
     "name": "stderr",
     "output_type": "stream",
     "text": [
      "\n",
      "  4%|▎         | 2/56 [00:00<00:12,  4.32it/s]\u001b[A"
     ]
    },
    {
     "name": "stdout",
     "output_type": "stream",
     "text": [
      "Pos17cell ID39glimpse saved\n",
      "attemptingPos17cell ID10\n"
     ]
    },
    {
     "name": "stderr",
     "output_type": "stream",
     "text": [
      "\n",
      "  5%|▌         | 3/56 [00:00<00:12,  4.33it/s]\u001b[A"
     ]
    },
    {
     "name": "stdout",
     "output_type": "stream",
     "text": [
      "Pos17cell ID10glimpse saved\n",
      "attemptingPos17cell ID46\n"
     ]
    },
    {
     "name": "stderr",
     "output_type": "stream",
     "text": [
      "\n",
      "  7%|▋         | 4/56 [00:01<00:16,  3.10it/s]\u001b[A"
     ]
    },
    {
     "name": "stdout",
     "output_type": "stream",
     "text": [
      "Pos17cell ID46glimpse saved\n",
      "attemptingPos17cell ID169\n"
     ]
    },
    {
     "name": "stderr",
     "output_type": "stream",
     "text": [
      "\n",
      "  9%|▉         | 5/56 [00:01<00:16,  3.07it/s]\u001b[A"
     ]
    },
    {
     "name": "stdout",
     "output_type": "stream",
     "text": [
      "Pos17cell ID169glimpse saved\n",
      "attemptingPos17cell ID194\n"
     ]
    },
    {
     "name": "stderr",
     "output_type": "stream",
     "text": [
      "\n",
      " 11%|█         | 6/56 [00:01<00:16,  3.06it/s]\u001b[A\n",
      " 12%|█▎        | 7/56 [00:02<00:13,  3.56it/s]\u001b[A"
     ]
    },
    {
     "name": "stdout",
     "output_type": "stream",
     "text": [
      "Pos17cell ID194glimpse saved\n",
      "attemptingPos17cell ID246\n",
      "Pos17cell ID246glimpse saved\n",
      "attemptingPos17cell ID264\n"
     ]
    },
    {
     "name": "stderr",
     "output_type": "stream",
     "text": [
      "\n",
      " 14%|█▍        | 8/56 [00:02<00:12,  3.94it/s]\u001b[A"
     ]
    },
    {
     "name": "stdout",
     "output_type": "stream",
     "text": [
      "Pos17cell ID264glimpse saved\n",
      "attemptingPos17cell ID289\n"
     ]
    },
    {
     "name": "stderr",
     "output_type": "stream",
     "text": [
      "\n",
      " 16%|█▌        | 9/56 [00:02<00:11,  4.14it/s]\u001b[A\n",
      " 18%|█▊        | 10/56 [00:02<00:10,  4.58it/s]\u001b[A"
     ]
    },
    {
     "name": "stdout",
     "output_type": "stream",
     "text": [
      "Pos17cell ID289glimpse saved\n",
      "attemptingPos17cell ID305\n",
      "Pos17cell ID305glimpse saved\n",
      "attemptingPos17cell ID306\n"
     ]
    },
    {
     "name": "stderr",
     "output_type": "stream",
     "text": [
      "\n",
      " 20%|█▉        | 11/56 [00:02<00:12,  3.72it/s]\u001b[A"
     ]
    },
    {
     "name": "stdout",
     "output_type": "stream",
     "text": [
      "Pos17cell ID306glimpse saved\n",
      "attemptingPos17cell ID330\n"
     ]
    },
    {
     "name": "stderr",
     "output_type": "stream",
     "text": [
      "\n",
      " 21%|██▏       | 12/56 [00:03<00:14,  3.05it/s]\u001b[A"
     ]
    },
    {
     "name": "stdout",
     "output_type": "stream",
     "text": [
      "Pos17cell ID330glimpse saved\n",
      "attemptingPos17cell ID331\n"
     ]
    },
    {
     "name": "stderr",
     "output_type": "stream",
     "text": [
      "\n",
      " 23%|██▎       | 13/56 [00:03<00:15,  2.77it/s]\u001b[A\n",
      " 25%|██▌       | 14/56 [00:04<00:12,  3.33it/s]\u001b[A"
     ]
    },
    {
     "name": "stdout",
     "output_type": "stream",
     "text": [
      "Pos17cell ID331glimpse saved\n",
      "attemptingPos17cell ID334\n",
      "Pos17cell ID334glimpse saved\n",
      "attemptingPos17cell ID343\n"
     ]
    },
    {
     "name": "stderr",
     "output_type": "stream",
     "text": [
      "\n",
      " 27%|██▋       | 15/56 [00:04<00:10,  3.83it/s]\u001b[A"
     ]
    },
    {
     "name": "stdout",
     "output_type": "stream",
     "text": [
      "Pos17cell ID343glimpse saved\n",
      "attemptingPos17cell ID390\n"
     ]
    },
    {
     "name": "stderr",
     "output_type": "stream",
     "text": [
      "\n",
      " 29%|██▊       | 16/56 [00:04<00:11,  3.56it/s]\u001b[A"
     ]
    },
    {
     "name": "stdout",
     "output_type": "stream",
     "text": [
      "Pos17cell ID390glimpse saved\n",
      "attemptingPos17cell ID434\n"
     ]
    },
    {
     "name": "stderr",
     "output_type": "stream",
     "text": [
      "\n",
      " 30%|███       | 17/56 [00:04<00:10,  3.88it/s]\u001b[A\n",
      " 32%|███▏      | 18/56 [00:04<00:09,  4.16it/s]"
     ]
    },
    {
     "name": "stdout",
     "output_type": "stream",
     "text": [
      "Pos17cell ID434glimpse saved\n",
      "attemptingPos17cell ID497\n",
      "Pos17cell ID497glimpse saved\n"
     ]
    },
    {
     "name": "stderr",
     "output_type": "stream",
     "text": [
      "\u001b[A"
     ]
    },
    {
     "name": "stdout",
     "output_type": "stream",
     "text": [
      "attemptingPos17cell ID514\n"
     ]
    },
    {
     "name": "stderr",
     "output_type": "stream",
     "text": [
      "\n",
      " 34%|███▍      | 19/56 [00:05<00:09,  3.71it/s]\u001b[A\n",
      " 36%|███▌      | 20/56 [00:05<00:08,  4.19it/s]\u001b[A"
     ]
    },
    {
     "name": "stdout",
     "output_type": "stream",
     "text": [
      "Pos17cell ID514glimpse saved\n",
      "attemptingPos17cell ID766\n",
      "Pos17cell ID766glimpse saved\n",
      "attemptingPos17cell ID852\n"
     ]
    },
    {
     "name": "stderr",
     "output_type": "stream",
     "text": [
      "\n",
      " 38%|███▊      | 21/56 [00:05<00:08,  4.34it/s]\u001b[A\n",
      " 39%|███▉      | 22/56 [00:05<00:07,  4.76it/s]\u001b[A"
     ]
    },
    {
     "name": "stdout",
     "output_type": "stream",
     "text": [
      "Pos17cell ID852glimpse saved\n",
      "attemptingPos17cell ID1006\n",
      "Pos17cell ID1006glimpse saved\n",
      "attemptingPos17cell ID1078\n"
     ]
    },
    {
     "name": "stderr",
     "output_type": "stream",
     "text": [
      "\n",
      " 41%|████      | 23/56 [00:06<00:07,  4.46it/s]\u001b[A\n",
      " 43%|████▎     | 24/56 [00:06<00:06,  4.73it/s]\u001b[A"
     ]
    },
    {
     "name": "stdout",
     "output_type": "stream",
     "text": [
      "Pos17cell ID1078glimpse saved\n",
      "attemptingPos17cell ID1089\n",
      "Pos17cell ID1089glimpse saved\n",
      "attemptingPos17cell ID1147\n"
     ]
    },
    {
     "name": "stderr",
     "output_type": "stream",
     "text": [
      "\n",
      " 45%|████▍     | 25/56 [00:06<00:06,  5.05it/s]\u001b[A\n",
      " 46%|████▋     | 26/56 [00:06<00:05,  5.34it/s]\u001b[A"
     ]
    },
    {
     "name": "stdout",
     "output_type": "stream",
     "text": [
      "Pos17cell ID1147glimpse saved\n",
      "attemptingPos17cell ID1484\n",
      "Pos17cell ID1484glimpse saved\n",
      "attemptingPos17cell ID1479\n"
     ]
    },
    {
     "name": "stderr",
     "output_type": "stream",
     "text": [
      "\n",
      " 48%|████▊     | 27/56 [00:06<00:05,  5.40it/s]\u001b[A\n",
      " 50%|█████     | 28/56 [00:06<00:04,  5.67it/s]\u001b[A"
     ]
    },
    {
     "name": "stdout",
     "output_type": "stream",
     "text": [
      "Pos17cell ID1479glimpse saved\n",
      "attemptingPos17cell ID1450\n",
      "Pos17cell ID1450glimpse saved\n",
      "attemptingPos17cell ID1519\n"
     ]
    },
    {
     "name": "stderr",
     "output_type": "stream",
     "text": [
      "\n",
      " 52%|█████▏    | 29/56 [00:07<00:05,  5.38it/s]\u001b[A\n",
      " 54%|█████▎    | 30/56 [00:07<00:04,  5.29it/s]\u001b[A"
     ]
    },
    {
     "name": "stdout",
     "output_type": "stream",
     "text": [
      "Pos17cell ID1519glimpse saved\n",
      "attemptingPos17cell ID1498\n",
      "Pos17cell ID1498glimpse saved\n",
      "attemptingPos17cell ID1506\n"
     ]
    },
    {
     "name": "stderr",
     "output_type": "stream",
     "text": [
      "\n",
      " 55%|█████▌    | 31/56 [00:07<00:04,  5.13it/s]\u001b[A\n",
      " 57%|█████▋    | 32/56 [00:07<00:04,  5.38it/s]\u001b[A"
     ]
    },
    {
     "name": "stdout",
     "output_type": "stream",
     "text": [
      "Pos17cell ID1506glimpse saved\n",
      "attemptingPos17cell ID1324\n",
      "Pos17cell ID1324glimpse saved\n",
      "attemptingPos17cell ID1328\n"
     ]
    },
    {
     "name": "stderr",
     "output_type": "stream",
     "text": [
      "\n",
      " 59%|█████▉    | 33/56 [00:07<00:04,  5.62it/s]\u001b[A\n",
      " 61%|██████    | 34/56 [00:08<00:03,  5.72it/s]\u001b[A"
     ]
    },
    {
     "name": "stdout",
     "output_type": "stream",
     "text": [
      "Pos17cell ID1328glimpse saved\n",
      "attemptingPos17cell ID1419\n",
      "Pos17cell ID1419glimpse saved\n",
      "attemptingPos17cell ID1381\n"
     ]
    },
    {
     "name": "stderr",
     "output_type": "stream",
     "text": [
      "\n",
      " 62%|██████▎   | 35/56 [00:08<00:03,  5.32it/s]\u001b[A\n",
      " 64%|██████▍   | 36/56 [00:08<00:03,  5.45it/s]\u001b[A"
     ]
    },
    {
     "name": "stdout",
     "output_type": "stream",
     "text": [
      "Pos17cell ID1381glimpse saved\n",
      "attemptingPos17cell ID1386\n",
      "Pos17cell ID1386glimpse saved\n",
      "attemptingPos17cell ID1577\n"
     ]
    },
    {
     "name": "stderr",
     "output_type": "stream",
     "text": [
      "\n",
      " 66%|██████▌   | 37/56 [00:08<00:03,  5.35it/s]\u001b[A\n",
      " 68%|██████▊   | 38/56 [00:08<00:03,  5.56it/s]\u001b[A"
     ]
    },
    {
     "name": "stdout",
     "output_type": "stream",
     "text": [
      "Pos17cell ID1577glimpse saved\n",
      "attemptingPos17cell ID1650\n",
      "Pos17cell ID1650glimpse saved\n",
      "attemptingPos17cell ID1647\n"
     ]
    },
    {
     "name": "stderr",
     "output_type": "stream",
     "text": [
      "\n",
      " 70%|██████▉   | 39/56 [00:08<00:02,  5.75it/s]\u001b[A\n",
      " 71%|███████▏  | 40/56 [00:09<00:02,  5.84it/s]\u001b[A"
     ]
    },
    {
     "name": "stdout",
     "output_type": "stream",
     "text": [
      "Pos17cell ID1647glimpse saved\n",
      "attemptingPos17cell ID1637\n",
      "Pos17cell ID1637glimpse saved\n",
      "attemptingPos17cell ID1672\n"
     ]
    },
    {
     "name": "stderr",
     "output_type": "stream",
     "text": [
      "\n",
      " 73%|███████▎  | 41/56 [00:09<00:02,  5.93it/s]\u001b[A"
     ]
    },
    {
     "name": "stdout",
     "output_type": "stream",
     "text": [
      "Pos17cell ID1672glimpse saved\n",
      "attemptingPos17cell ID1661\n"
     ]
    },
    {
     "name": "stderr",
     "output_type": "stream",
     "text": [
      "\n",
      " 75%|███████▌  | 42/56 [00:09<00:02,  5.57it/s]\u001b[A"
     ]
    },
    {
     "name": "stdout",
     "output_type": "stream",
     "text": [
      "Pos17cell ID1661glimpse saved\n",
      "attemptingPos17cell ID1616\n"
     ]
    },
    {
     "name": "stderr",
     "output_type": "stream",
     "text": [
      "\n",
      " 77%|███████▋  | 43/56 [00:09<00:02,  5.30it/s]\u001b[A\n",
      " 79%|███████▊  | 44/56 [00:09<00:02,  5.29it/s]\u001b[A"
     ]
    },
    {
     "name": "stdout",
     "output_type": "stream",
     "text": [
      "Pos17cell ID1616glimpse saved\n",
      "attemptingPos17cell ID1610\n",
      "Pos17cell ID1610glimpse saved\n",
      "attemptingPos17cell ID1683\n"
     ]
    },
    {
     "name": "stderr",
     "output_type": "stream",
     "text": [
      "\n",
      " 80%|████████  | 45/56 [00:10<00:02,  5.23it/s]\u001b[A\n",
      " 82%|████████▏ | 46/56 [00:10<00:01,  5.50it/s]\u001b[A"
     ]
    },
    {
     "name": "stdout",
     "output_type": "stream",
     "text": [
      "Pos17cell ID1683glimpse saved\n",
      "attemptingPos17cell ID1702\n",
      "Pos17cell ID1702glimpse saved\n",
      "attemptingPos17cell ID1694\n"
     ]
    },
    {
     "name": "stderr",
     "output_type": "stream",
     "text": [
      "\n",
      " 84%|████████▍ | 47/56 [00:10<00:01,  5.62it/s]\u001b[A\n",
      " 86%|████████▌ | 48/56 [00:10<00:01,  5.50it/s]\u001b[A"
     ]
    },
    {
     "name": "stdout",
     "output_type": "stream",
     "text": [
      "Pos17cell ID1694glimpse saved\n",
      "attemptingPos17cell ID1722\n",
      "Pos17cell ID1722glimpse saved\n",
      "attemptingPos17cell ID1735\n"
     ]
    },
    {
     "name": "stderr",
     "output_type": "stream",
     "text": [
      "\n",
      " 88%|████████▊ | 49/56 [00:10<00:01,  5.65it/s]\u001b[A\n",
      " 89%|████████▉ | 50/56 [00:10<00:01,  5.73it/s]\u001b[A"
     ]
    },
    {
     "name": "stdout",
     "output_type": "stream",
     "text": [
      "Pos17cell ID1735glimpse saved\n",
      "attemptingPos17cell ID1743\n",
      "Pos17cell ID1743glimpse saved\n",
      "attemptingPos17cell ID1747\n"
     ]
    },
    {
     "name": "stderr",
     "output_type": "stream",
     "text": [
      "\n",
      " 91%|█████████ | 51/56 [00:11<00:00,  5.76it/s]\u001b[A\n",
      " 93%|█████████▎| 52/56 [00:11<00:00,  5.78it/s]\u001b[A"
     ]
    },
    {
     "name": "stdout",
     "output_type": "stream",
     "text": [
      "Pos17cell ID1747glimpse saved\n",
      "attemptingPos17cell ID1755\n",
      "Pos17cell ID1755glimpse saved\n",
      "attemptingPos17cell ID1764\n"
     ]
    },
    {
     "name": "stderr",
     "output_type": "stream",
     "text": [
      "\n",
      " 95%|█████████▍| 53/56 [00:11<00:00,  5.72it/s]\u001b[A\n",
      " 96%|█████████▋| 54/56 [00:11<00:00,  5.79it/s]\u001b[A"
     ]
    },
    {
     "name": "stdout",
     "output_type": "stream",
     "text": [
      "Pos17cell ID1764glimpse saved\n",
      "attemptingPos17cell ID1766\n",
      "Pos17cell ID1766glimpse saved\n",
      "attemptingPos17cell ID1834\n"
     ]
    },
    {
     "name": "stderr",
     "output_type": "stream",
     "text": [
      "\n",
      " 98%|█████████▊| 55/56 [00:11<00:00,  5.81it/s]\u001b[A\n",
      "100%|██████████| 56/56 [00:11<00:00,  4.69it/s]\u001b[A\n",
      " 75%|███████▌  | 18/24 [09:20<03:33, 35.64s/it][INFO][2021/05/27 07:06:12 PM] Opening HDF file: /run/user/1000/gvfs/smb-share:server=lowe-sn00.biochem.ucl.ac.uk,share=lowegrp/Data/Manasi/MK0000/Pos20/gfp_tracks_2021_05_21_06_09_43_PM.h5...\n"
     ]
    },
    {
     "name": "stdout",
     "output_type": "stream",
     "text": [
      "Pos17cell ID1834glimpse saved\n",
      "attemptingPos17cell ID1921\n",
      "Pos17cell ID1921glimpse saved\n",
      "starting Pos18\n",
      "starting Pos19\n",
      "starting Pos20\n"
     ]
    },
    {
     "name": "stderr",
     "output_type": "stream",
     "text": [
      "[INFO][2021/05/27 07:06:12 PM] Loading tracks/obj_type_1\n",
      "[INFO][2021/05/27 07:06:12 PM] Loading objects/obj_type_1 (65956, 5) (65956 filtered: None)\n",
      "[INFO][2021/05/27 07:06:13 PM] Closing HDF file: /run/user/1000/gvfs/smb-share:server=lowe-sn00.biochem.ucl.ac.uk,share=lowegrp/Data/Manasi/MK0000/Pos20/gfp_tracks_2021_05_21_06_09_43_PM.h5\n"
     ]
    },
    {
     "name": "stdout",
     "output_type": "stream",
     "text": [
      "Pos20tracking file loaded\n",
      "Pos20number of glimpses to be generated:28\n",
      "Loading image channel 003\n"
     ]
    },
    {
     "name": "stderr",
     "output_type": "stream",
     "text": [
      "\n",
      "  0%|          | 0/28 [00:00<?, ?it/s]\u001b[A"
     ]
    },
    {
     "name": "stdout",
     "output_type": "stream",
     "text": [
      "Image loaded\n",
      "attemptingPos20cell ID165\n"
     ]
    },
    {
     "name": "stderr",
     "output_type": "stream",
     "text": [
      "\n",
      "  4%|▎         | 1/28 [00:00<00:05,  4.68it/s]\u001b[A\n"
     ]
    },
    {
     "name": "stdout",
     "output_type": "stream",
     "text": [
      "Pos20cell ID165glimpse saved\n",
      "attemptingPos20cell ID173\n",
      "Pos20cell ID173glimpse saved\n"
     ]
    },
    {
     "name": "stderr",
     "output_type": "stream",
     "text": [
      "  7%|▋         | 2/28 [00:00<00:05,  4.86it/s]\u001b[A"
     ]
    },
    {
     "name": "stdout",
     "output_type": "stream",
     "text": [
      "attemptingPos20cell ID198\n"
     ]
    },
    {
     "name": "stderr",
     "output_type": "stream",
     "text": [
      "\n",
      " 11%|█         | 3/28 [00:00<00:05,  4.60it/s]\u001b[A\n",
      " 14%|█▍        | 4/28 [00:00<00:04,  4.86it/s]\u001b[A"
     ]
    },
    {
     "name": "stdout",
     "output_type": "stream",
     "text": [
      "Pos20cell ID198glimpse saved\n",
      "attemptingPos20cell ID200\n",
      "Pos20cell ID200glimpse saved\n",
      "attemptingPos20cell ID205\n"
     ]
    },
    {
     "name": "stderr",
     "output_type": "stream",
     "text": [
      "\n",
      " 18%|█▊        | 5/28 [00:01<00:04,  5.22it/s]\u001b[A"
     ]
    },
    {
     "name": "stdout",
     "output_type": "stream",
     "text": [
      "Pos20cell ID205glimpse saved\n",
      "attemptingPos20cell ID232\n"
     ]
    },
    {
     "name": "stderr",
     "output_type": "stream",
     "text": [
      "\n",
      " 21%|██▏       | 6/28 [00:01<00:04,  4.94it/s]\u001b[A\n",
      " 25%|██▌       | 7/28 [00:01<00:04,  5.19it/s]\u001b[A"
     ]
    },
    {
     "name": "stdout",
     "output_type": "stream",
     "text": [
      "Pos20cell ID232glimpse saved\n",
      "attemptingPos20cell ID238\n",
      "Pos20cell ID238glimpse saved\n",
      "attemptingPos20cell ID279\n"
     ]
    },
    {
     "name": "stderr",
     "output_type": "stream",
     "text": [
      "\n",
      " 29%|██▊       | 8/28 [00:01<00:03,  5.42it/s]\u001b[A\n",
      " 32%|███▏      | 9/28 [00:01<00:03,  5.48it/s]\u001b[A"
     ]
    },
    {
     "name": "stdout",
     "output_type": "stream",
     "text": [
      "Pos20cell ID279glimpse saved\n",
      "attemptingPos20cell ID284\n",
      "Pos20cell ID284glimpse saved\n",
      "attemptingPos20cell ID302\n"
     ]
    },
    {
     "name": "stderr",
     "output_type": "stream",
     "text": [
      "\n",
      " 36%|███▌      | 10/28 [00:01<00:03,  5.22it/s]\u001b[A\n",
      " 39%|███▉      | 11/28 [00:02<00:03,  5.41it/s]\u001b[A"
     ]
    },
    {
     "name": "stdout",
     "output_type": "stream",
     "text": [
      "Pos20cell ID302glimpse saved\n",
      "attemptingPos20cell ID314\n",
      "Pos20cell ID314glimpse saved\n",
      "attemptingPos20cell ID312\n"
     ]
    },
    {
     "name": "stderr",
     "output_type": "stream",
     "text": [
      "\n",
      " 43%|████▎     | 12/28 [00:02<00:02,  5.55it/s]\u001b[A\n",
      " 46%|████▋     | 13/28 [00:02<00:02,  5.76it/s]\u001b[A"
     ]
    },
    {
     "name": "stdout",
     "output_type": "stream",
     "text": [
      "Pos20cell ID312glimpse saved\n",
      "attemptingPos20cell ID322\n",
      "Pos20cell ID322glimpse saved\n",
      "attemptingPos20cell ID340\n"
     ]
    },
    {
     "name": "stderr",
     "output_type": "stream",
     "text": [
      "\n",
      " 50%|█████     | 14/28 [00:02<00:02,  5.57it/s]\u001b[A\n",
      " 54%|█████▎    | 15/28 [00:02<00:02,  5.69it/s]\u001b[A"
     ]
    },
    {
     "name": "stdout",
     "output_type": "stream",
     "text": [
      "Pos20cell ID340glimpse saved\n",
      "attemptingPos20cell ID342\n",
      "Pos20cell ID342glimpse saved\n",
      "attemptingPos20cell ID349\n"
     ]
    },
    {
     "name": "stderr",
     "output_type": "stream",
     "text": [
      "\n",
      " 57%|█████▋    | 16/28 [00:03<00:02,  5.33it/s]\u001b[A"
     ]
    },
    {
     "name": "stdout",
     "output_type": "stream",
     "text": [
      "Pos20cell ID349glimpse saved\n",
      "attemptingPos20cell ID350\n"
     ]
    },
    {
     "name": "stderr",
     "output_type": "stream",
     "text": [
      "\n",
      " 61%|██████    | 17/28 [00:03<00:02,  5.08it/s]\u001b[A"
     ]
    },
    {
     "name": "stdout",
     "output_type": "stream",
     "text": [
      "Pos20cell ID350glimpse saved\n",
      "attemptingPos20cell ID365\n"
     ]
    },
    {
     "name": "stderr",
     "output_type": "stream",
     "text": [
      "\n",
      " 64%|██████▍   | 18/28 [00:03<00:02,  4.77it/s]\u001b[A\n",
      " 68%|██████▊   | 19/28 [00:03<00:01,  4.96it/s]\u001b[A"
     ]
    },
    {
     "name": "stdout",
     "output_type": "stream",
     "text": [
      "Pos20cell ID365glimpse saved\n",
      "attemptingPos20cell ID373\n",
      "Pos20cell ID373glimpse saved\n",
      "attemptingPos20cell ID371\n"
     ]
    },
    {
     "name": "stderr",
     "output_type": "stream",
     "text": [
      "\n",
      " 71%|███████▏  | 20/28 [00:03<00:01,  5.03it/s]\u001b[A\n",
      " 75%|███████▌  | 21/28 [00:04<00:01,  5.31it/s]\u001b[A"
     ]
    },
    {
     "name": "stdout",
     "output_type": "stream",
     "text": [
      "Pos20cell ID371glimpse saved\n",
      "attemptingPos20cell ID374\n",
      "Pos20cell ID374glimpse saved\n",
      "attemptingPos20cell ID382\n"
     ]
    },
    {
     "name": "stderr",
     "output_type": "stream",
     "text": [
      "\n",
      " 79%|███████▊  | 22/28 [00:04<00:01,  5.27it/s]\u001b[A\n",
      " 82%|████████▏ | 23/28 [00:04<00:00,  5.52it/s]\u001b[A"
     ]
    },
    {
     "name": "stdout",
     "output_type": "stream",
     "text": [
      "Pos20cell ID382glimpse saved\n",
      "attemptingPos20cell ID406\n",
      "Pos20cell ID406glimpse saved\n",
      "attemptingPos20cell ID407\n"
     ]
    },
    {
     "name": "stderr",
     "output_type": "stream",
     "text": [
      "\n",
      " 86%|████████▌ | 24/28 [00:04<00:00,  5.34it/s]\u001b[A\n",
      " 89%|████████▉ | 25/28 [00:04<00:00,  5.34it/s]\u001b[A"
     ]
    },
    {
     "name": "stdout",
     "output_type": "stream",
     "text": [
      "Pos20cell ID407glimpse saved\n",
      "attemptingPos20cell ID412\n",
      "Pos20cell ID412glimpse saved\n",
      "attemptingPos20cell ID420\n"
     ]
    },
    {
     "name": "stderr",
     "output_type": "stream",
     "text": [
      "\n",
      " 93%|█████████▎| 26/28 [00:04<00:00,  5.27it/s]\u001b[A\n",
      " 96%|█████████▋| 27/28 [00:05<00:00,  5.51it/s]\u001b[A"
     ]
    },
    {
     "name": "stdout",
     "output_type": "stream",
     "text": [
      "Pos20cell ID420glimpse saved\n",
      "attemptingPos20cell ID423\n",
      "Pos20cell ID423glimpse saved\n",
      "attemptingPos20cell ID437\n"
     ]
    },
    {
     "name": "stderr",
     "output_type": "stream",
     "text": [
      "\n",
      "100%|██████████| 28/28 [00:05<00:00,  5.29it/s]\u001b[A\n",
      " 88%|████████▊ | 21/24 [10:03<01:16, 25.61s/it][INFO][2021/05/27 07:06:55 PM] Opening HDF file: /run/user/1000/gvfs/smb-share:server=lowe-sn00.biochem.ucl.ac.uk,share=lowegrp/Data/Manasi/MK0000/Pos21/gfp_tracks_2021_05_21_06_12_42_PM.h5...\n",
      "[INFO][2021/05/27 07:06:55 PM] Loading tracks/obj_type_1\n",
      "[INFO][2021/05/27 07:06:56 PM] Loading objects/obj_type_1 (76667, 5) (76667 filtered: None)\n"
     ]
    },
    {
     "name": "stdout",
     "output_type": "stream",
     "text": [
      "Pos20cell ID437glimpse saved\n",
      "starting Pos21\n"
     ]
    },
    {
     "name": "stderr",
     "output_type": "stream",
     "text": [
      "[INFO][2021/05/27 07:06:56 PM] Closing HDF file: /run/user/1000/gvfs/smb-share:server=lowe-sn00.biochem.ucl.ac.uk,share=lowegrp/Data/Manasi/MK0000/Pos21/gfp_tracks_2021_05_21_06_12_42_PM.h5\n"
     ]
    },
    {
     "name": "stdout",
     "output_type": "stream",
     "text": [
      "Pos21tracking file loaded\n",
      "Pos21number of glimpses to be generated:13\n",
      "Loading image channel 003\n"
     ]
    },
    {
     "name": "stderr",
     "output_type": "stream",
     "text": [
      "\n",
      "  0%|          | 0/13 [00:00<?, ?it/s]\u001b[A"
     ]
    },
    {
     "name": "stdout",
     "output_type": "stream",
     "text": [
      "Image loaded\n",
      "attemptingPos21cell ID130\n"
     ]
    },
    {
     "name": "stderr",
     "output_type": "stream",
     "text": [
      "\n",
      "  8%|▊         | 1/13 [00:00<00:06,  1.85it/s]\u001b[A"
     ]
    },
    {
     "name": "stdout",
     "output_type": "stream",
     "text": [
      "Pos21cell ID130glimpse saved\n",
      "attemptingPos21cell ID185\n"
     ]
    },
    {
     "name": "stderr",
     "output_type": "stream",
     "text": [
      "\n",
      " 15%|█▌        | 2/13 [00:00<00:04,  2.69it/s]\u001b[A"
     ]
    },
    {
     "name": "stdout",
     "output_type": "stream",
     "text": [
      "Pos21cell ID185glimpse saved\n",
      "attemptingPos21cell ID220\n"
     ]
    },
    {
     "name": "stderr",
     "output_type": "stream",
     "text": [
      "\n",
      " 23%|██▎       | 3/13 [00:01<00:02,  3.34it/s]\u001b[A\n",
      " 31%|███       | 4/13 [00:01<00:02,  4.00it/s]\u001b[A"
     ]
    },
    {
     "name": "stdout",
     "output_type": "stream",
     "text": [
      "Pos21cell ID220glimpse saved\n",
      "attemptingPos21cell ID221\n",
      "Pos21cell ID221glimpse saved\n",
      "attemptingPos21cell ID242\n"
     ]
    },
    {
     "name": "stderr",
     "output_type": "stream",
     "text": [
      "\n",
      " 38%|███▊      | 5/13 [00:01<00:01,  4.60it/s]\u001b[A"
     ]
    },
    {
     "name": "stdout",
     "output_type": "stream",
     "text": [
      "Pos21cell ID242glimpse saved\n",
      "attemptingPos21cell ID296\n"
     ]
    },
    {
     "name": "stderr",
     "output_type": "stream",
     "text": [
      "\n",
      " 46%|████▌     | 6/13 [00:01<00:01,  4.28it/s]\u001b[A\n",
      " 54%|█████▍    | 7/13 [00:01<00:01,  4.78it/s]\u001b[A"
     ]
    },
    {
     "name": "stdout",
     "output_type": "stream",
     "text": [
      "Pos21cell ID296glimpse saved\n",
      "attemptingPos21cell ID352\n",
      "Pos21cell ID352glimpse saved\n",
      "attemptingPos21cell ID360\n"
     ]
    },
    {
     "name": "stderr",
     "output_type": "stream",
     "text": [
      "\n",
      " 62%|██████▏   | 8/13 [00:01<00:01,  4.88it/s]\u001b[A"
     ]
    },
    {
     "name": "stdout",
     "output_type": "stream",
     "text": [
      "Pos21cell ID360glimpse saved\n",
      "attemptingPos21cell ID368\n"
     ]
    },
    {
     "name": "stderr",
     "output_type": "stream",
     "text": [
      "\n",
      " 69%|██████▉   | 9/13 [00:02<00:00,  4.75it/s]\u001b[A"
     ]
    },
    {
     "name": "stdout",
     "output_type": "stream",
     "text": [
      "Pos21cell ID368glimpse saved\n",
      "attemptingPos21cell ID387\n"
     ]
    },
    {
     "name": "stderr",
     "output_type": "stream",
     "text": [
      "\n",
      " 77%|███████▋  | 10/13 [00:02<00:00,  4.52it/s]\u001b[A\n",
      " 85%|████████▍ | 11/13 [00:02<00:00,  4.76it/s]\u001b[A"
     ]
    },
    {
     "name": "stdout",
     "output_type": "stream",
     "text": [
      "Pos21cell ID387glimpse saved\n",
      "attemptingPos21cell ID388\n",
      "Pos21cell ID388glimpse saved\n",
      "attemptingPos21cell ID419\n"
     ]
    },
    {
     "name": "stderr",
     "output_type": "stream",
     "text": [
      "\n",
      " 92%|█████████▏| 12/13 [00:02<00:00,  5.15it/s]\u001b[A\n",
      "100%|██████████| 13/13 [00:02<00:00,  4.38it/s]\u001b[A\n",
      " 92%|█████████▏| 22/24 [10:45<00:57, 28.55s/it]"
     ]
    },
    {
     "name": "stdout",
     "output_type": "stream",
     "text": [
      "Pos21cell ID419glimpse saved\n",
      "attemptingPos21cell ID448\n",
      "Pos21cell ID448glimpse saved\n",
      "starting Pos22\n"
     ]
    },
    {
     "name": "stderr",
     "output_type": "stream",
     "text": [
      "[INFO][2021/05/27 07:07:37 PM] Opening HDF file: /run/user/1000/gvfs/smb-share:server=lowe-sn00.biochem.ucl.ac.uk,share=lowegrp/Data/Manasi/MK0000/Pos22/gfp_tracks_2021_05_21_06_14_53_PM.h5...\n",
      "[INFO][2021/05/27 07:07:37 PM] Loading tracks/obj_type_1\n",
      "[INFO][2021/05/27 07:07:37 PM] Loading objects/obj_type_1 (18482, 5) (18482 filtered: None)\n",
      "[INFO][2021/05/27 07:07:37 PM] Closing HDF file: /run/user/1000/gvfs/smb-share:server=lowe-sn00.biochem.ucl.ac.uk,share=lowegrp/Data/Manasi/MK0000/Pos22/gfp_tracks_2021_05_21_06_14_53_PM.h5\n"
     ]
    },
    {
     "name": "stdout",
     "output_type": "stream",
     "text": [
      "Pos22tracking file loaded\n",
      "Pos22number of glimpses to be generated:4\n",
      "Loading image channel 003\n"
     ]
    },
    {
     "name": "stderr",
     "output_type": "stream",
     "text": [
      "\n",
      "  0%|          | 0/4 [00:00<?, ?it/s]\u001b[A"
     ]
    },
    {
     "name": "stdout",
     "output_type": "stream",
     "text": [
      "Image loaded\n",
      "attemptingPos22cell ID219\n"
     ]
    },
    {
     "name": "stderr",
     "output_type": "stream",
     "text": [
      "\n",
      " 25%|██▌       | 1/4 [00:00<00:00,  4.76it/s]\u001b[A\n",
      " 50%|█████     | 2/4 [00:00<00:00,  5.59it/s]\u001b[A"
     ]
    },
    {
     "name": "stdout",
     "output_type": "stream",
     "text": [
      "Pos22cell ID219glimpse saved\n",
      "attemptingPos22cell ID224\n",
      "Pos22cell ID224glimpse saved\n",
      "attemptingPos22cell ID231\n"
     ]
    },
    {
     "name": "stderr",
     "output_type": "stream",
     "text": [
      "\n",
      " 75%|███████▌  | 3/4 [00:00<00:00,  5.89it/s]\u001b[A\n",
      "100%|██████████| 4/4 [00:00<00:00,  5.76it/s]\u001b[A\n",
      "100%|██████████| 24/24 [11:23<00:00, 28.50s/it]"
     ]
    },
    {
     "name": "stdout",
     "output_type": "stream",
     "text": [
      "Pos22cell ID231glimpse saved\n",
      "attemptingPos22cell ID280\n",
      "Pos22cell ID280glimpse saved\n",
      "starting Pos23\n"
     ]
    },
    {
     "name": "stderr",
     "output_type": "stream",
     "text": [
      "\n"
     ]
    }
   ],
   "source": [
    "for pos in tqdm(pos_list):\n",
    "    try:\n",
    "        print('starting', pos)\n",
    "        tracks_path_list = glob.glob(os.path.join(expt_root_folder,'{}/{}/gfp*.h5'.format(expt,pos)))\n",
    "        if len(tracks_path_list) == 1:\n",
    "            tracks_path = tracks_path_list[0]\n",
    "        else:\n",
    "            continue\n",
    "        with btrack.dataio.HDF5FileHandler(tracks_path, 'r', obj_type = \"obj_type_1\") as hdf:\n",
    "            wt_tracks = hdf.tracks\n",
    "\n",
    "        message = str(pos) + 'tracking file loaded'\n",
    "        log.append(message)\n",
    "        print(message)\n",
    "\n",
    "        ### filter tracks that should contain a full cell cycle in (1 timepoint/frame = 4min, cc time approx 200 frames based on quick look)\n",
    "        long_tracks = [track for track in wt_tracks if len(track) > 200]\n",
    "\n",
    "        ### filter tracks that spend a lot of time out of focus\n",
    "        tracks = [track for track in long_tracks if track.t[-1] < focal_time_range[1]]\n",
    "\n",
    "        ### show number of filtered tracks\n",
    "        message = str(pos)+'number of glimpses to be generated:'+str(len(tracks))\n",
    "        log.append(message)\n",
    "        print(message)\n",
    "\n",
    "        ### find images and set output\n",
    "        image_folder = os.path.join(expt_root_folder,expt, pos, pos+'_stacks')\n",
    "        output_dir = '/home/nathan/data/kraken/pcna/glimpses/{}/{}'.format(expt, pos)\n",
    "\n",
    "        for channel in channels:\n",
    "            ### load images\n",
    "            print('Loading image channel', channel)\n",
    "            images = imread(os.path.join(image_folder, 'channel{}.tif'.format(channel)))\n",
    "            print('Image loaded')\n",
    "            message = str(pos) + 'image loaded'\n",
    "            log.append(message)\n",
    "\n",
    "            ### create output directory\n",
    "            output_ch_dir = os.path.join(output_dir, 'channel'+channel)\n",
    "            Path(output_ch_dir).mkdir(parents=True, exist_ok=True)\n",
    "\n",
    "            for cell in tqdm(tracks):\n",
    "                try:\n",
    "                    message = 'attempting' + str(pos) + 'cell ID' + str(cell.ID)\n",
    "                    log.append(message)\n",
    "                    print(message)\n",
    "\n",
    "                    ### get length of track/glimpse \n",
    "                    length = range(cell.t[0], cell.t[-1])\n",
    "                    ### get the xy coords of track/glimpse \n",
    "                    y, x = cell.x, cell.y #### WHY IS THE COORDINATES TRANSPOSED???? \n",
    "\n",
    "                    ### iterate over all frames cropping\n",
    "                    for j, i in enumerate(length): ## need to have something that solves skipped frames # not including the last frame bc list index out of range ie there is one more i than there\n",
    "                        ### obtain correct frame\n",
    "                        image = images[i]\n",
    "                        ### get glimpse dimensions \n",
    "                        size = int(glimpse_size[0])\n",
    "                        ### obtain coordinates of bounding box of glimpse (centered on cell)\n",
    "                        x1, x2, y1, y2 = x[j], x[j]+size, y[j], y[j]+size #coordinates to crop by, shifted bearing in mind a further coord shift (+100,+100) occurs due to image padding            \n",
    "                        ### pad image incase cell goes off FOV\n",
    "                        image = np.pad(image, int(size/2), 'constant', constant_values = 0) \n",
    "                        ## glimpse creation by cropping original image\n",
    "                        glimpse = image[int(x1): int(x2), int(y1): int(y2)]\n",
    "                        ### fraction of track this frame is at\n",
    "                        age = round(j/len(cell),3)\n",
    "                        fn = str(pos)+'_cell_ID_' + str(cell.ID) + '_channel' + channel + '_t{}_age{}.tif'.format(i, age)\n",
    "                        ### glimpse output\n",
    "                        imsave(os.path.join(output_ch_dir, fn), glimpse) \n",
    "\n",
    "                    message = str(pos)+'cell ID'+ str(cell.ID) + 'glimpse saved'\n",
    "                    print(message)\n",
    "                    log.append(message)\n",
    "\n",
    "                except:\n",
    "                    message = str(cell.ID)+ 'failed to produce glimpse')\n",
    "                    log.append(message)\n",
    "                    print(message)\n",
    "    except:\n",
    "        message = 'something went big wrong on' +str(pos)\n",
    "        log.append(message)\n",
    "        print(message)"
   ]
  },
  {
   "cell_type": "code",
   "execution_count": 60,
   "metadata": {},
   "outputs": [
    {
     "data": {
      "text/plain": [
       "['Pos0tracking file loaded',\n",
       " 'Pos0number of glimpses to be generated:275',\n",
       " 'Pos0image loaded',\n",
       " 'attemptingPos0cell ID173',\n",
       " 'attemptingPos0cell ID190',\n",
       " 'attemptingPos0cell ID244',\n",
       " 'attemptingPos0cell ID214',\n",
       " 'attemptingPos0cell ID46',\n",
       " 'attemptingPos0cell ID1183',\n",
       " 'attemptingPos0cell ID1445',\n",
       " 'attemptingPos0cell ID1438',\n",
       " 'attemptingPos0cell ID1478',\n",
       " 'attemptingPos0cell ID1580',\n",
       " 'attemptingPos0cell ID1686',\n",
       " 'attemptingPos0cell ID1936',\n",
       " 'attemptingPos0cell ID1984',\n",
       " 'attemptingPos0cell ID1826',\n",
       " 'attemptingPos0cell ID1783',\n",
       " 'attemptingPos0cell ID1796',\n",
       " 'attemptingPos0cell ID1867',\n",
       " 'attemptingPos0cell ID2087',\n",
       " 'attemptingPos0cell ID2045',\n",
       " 'attemptingPos0cell ID2072',\n",
       " 'attemptingPos0cell ID2151',\n",
       " 'attemptingPos0cell ID2160',\n",
       " 'attemptingPos0cell ID2212',\n",
       " 'attemptingPos0cell ID2226',\n",
       " 'attemptingPos0cell ID2232',\n",
       " 'attemptingPos0cell ID2268',\n",
       " 'attemptingPos0cell ID2266',\n",
       " 'attemptingPos0cell ID2288',\n",
       " 'attemptingPos0cell ID2312',\n",
       " 'attemptingPos0cell ID2321',\n",
       " 'attemptingPos0cell ID2351',\n",
       " 'attemptingPos0cell ID2393',\n",
       " 'attemptingPos0cell ID2416',\n",
       " 'attemptingPos0cell ID2441',\n",
       " 'attemptingPos0cell ID2463',\n",
       " 'attemptingPos0cell ID2475',\n",
       " 'attemptingPos0cell ID2483',\n",
       " 'attemptingPos0cell ID2499',\n",
       " 'attemptingPos0cell ID2634',\n",
       " 'attemptingPos0cell ID2642',\n",
       " 'attemptingPos0cell ID2640',\n",
       " 'attemptingPos0cell ID2653',\n",
       " 'attemptingPos0cell ID2684',\n",
       " 'attemptingPos0cell ID2690',\n",
       " 'attemptingPos0cell ID2682',\n",
       " 'attemptingPos0cell ID2678',\n",
       " 'attemptingPos0cell ID2672',\n",
       " 'attemptingPos0cell ID2670',\n",
       " 'attemptingPos0cell ID2583',\n",
       " 'attemptingPos0cell ID2594',\n",
       " 'attemptingPos0cell ID2593',\n",
       " 'attemptingPos0cell ID2582',\n",
       " 'attemptingPos0cell ID2577',\n",
       " 'attemptingPos0cell ID2576',\n",
       " 'attemptingPos0cell ID2630',\n",
       " 'attemptingPos0cell ID2602',\n",
       " 'attemptingPos0cell ID2610',\n",
       " 'attemptingPos0cell ID2702',\n",
       " 'attemptingPos0cell ID2707',\n",
       " 'attemptingPos0cell ID2720',\n",
       " 'attemptingPos0cell ID2726',\n",
       " 'attemptingPos0cell ID2733',\n",
       " 'attemptingPos0cell ID2778',\n",
       " 'attemptingPos0cell ID2787',\n",
       " 'attemptingPos0cell ID2785',\n",
       " 'attemptingPos0cell ID2796',\n",
       " 'attemptingPos0cell ID2804',\n",
       " 'attemptingPos0cell ID2810',\n",
       " 'attemptingPos0cell ID2812',\n",
       " 'attemptingPos0cell ID2831',\n",
       " 'attemptingPos0cell ID2839',\n",
       " 'attemptingPos0cell ID2841',\n",
       " 'attemptingPos0cell ID2844',\n",
       " 'attemptingPos0cell ID2845',\n",
       " 'attemptingPos0cell ID2860',\n",
       " 'attemptingPos0cell ID2868',\n",
       " 'attemptingPos0cell ID2876',\n",
       " 'attemptingPos0cell ID2878',\n",
       " 'attemptingPos0cell ID2879',\n",
       " 'attemptingPos0cell ID2884',\n",
       " 'attemptingPos0cell ID2885',\n",
       " 'attemptingPos0cell ID2888',\n",
       " 'attemptingPos0cell ID2890',\n",
       " 'attemptingPos0cell ID2895',\n",
       " 'attemptingPos0cell ID2902',\n",
       " 'attemptingPos0cell ID2916',\n",
       " 'attemptingPos0cell ID2919',\n",
       " 'attemptingPos0cell ID2917',\n",
       " 'attemptingPos0cell ID3114',\n",
       " 'attemptingPos0cell ID3117',\n",
       " 'attemptingPos0cell ID3120',\n",
       " 'attemptingPos0cell ID3118',\n",
       " 'attemptingPos0cell ID3134',\n",
       " 'attemptingPos0cell ID3104',\n",
       " 'attemptingPos0cell ID3123',\n",
       " 'attemptingPos0cell ID3124',\n",
       " 'attemptingPos0cell ID3126',\n",
       " 'attemptingPos0cell ID3133',\n",
       " 'attemptingPos0cell ID3087',\n",
       " 'attemptingPos0cell ID3136',\n",
       " 'attemptingPos0cell ID3137',\n",
       " 'attemptingPos0cell ID3067',\n",
       " 'attemptingPos0cell ID3069',\n",
       " 'attemptingPos0cell ID3070',\n",
       " 'attemptingPos0cell ID3073',\n",
       " 'attemptingPos0cell ID3076',\n",
       " 'attemptingPos0cell ID3077',\n",
       " 'attemptingPos0cell ID3079',\n",
       " 'attemptingPos0cell ID3080',\n",
       " 'attemptingPos0cell ID3081',\n",
       " 'attemptingPos0cell ID3082',\n",
       " 'attemptingPos0cell ID3103',\n",
       " 'attemptingPos0cell ID3085',\n",
       " 'attemptingPos0cell ID3086',\n",
       " 'attemptingPos0cell ID3090',\n",
       " 'attemptingPos0cell ID3091',\n",
       " 'attemptingPos0cell ID3092',\n",
       " 'attemptingPos0cell ID3093',\n",
       " 'attemptingPos0cell ID3094',\n",
       " 'attemptingPos0cell ID3095',\n",
       " 'attemptingPos0cell ID3098',\n",
       " 'attemptingPos0cell ID3099',\n",
       " 'attemptingPos0cell ID3102',\n",
       " 'attemptingPos0cell ID3189',\n",
       " 'attemptingPos0cell ID3179',\n",
       " 'attemptingPos0cell ID3180',\n",
       " 'attemptingPos0cell ID3181',\n",
       " 'attemptingPos0cell ID3183',\n",
       " 'attemptingPos0cell ID3184',\n",
       " 'attemptingPos0cell ID3186',\n",
       " 'attemptingPos0cell ID3188',\n",
       " 'attemptingPos0cell ID3174',\n",
       " 'attemptingPos0cell ID3191',\n",
       " 'attemptingPos0cell ID3192',\n",
       " 'attemptingPos0cell ID3193',\n",
       " 'attemptingPos0cell ID3195',\n",
       " 'attemptingPos0cell ID3196',\n",
       " 'attemptingPos0cell ID3197',\n",
       " 'attemptingPos0cell ID3202',\n",
       " 'attemptingPos0cell ID3203',\n",
       " 'attemptingPos0cell ID3201',\n",
       " 'attemptingPos0cell ID3156',\n",
       " 'attemptingPos0cell ID3142',\n",
       " 'attemptingPos0cell ID3143',\n",
       " 'attemptingPos0cell ID3146',\n",
       " 'attemptingPos0cell ID3151',\n",
       " 'attemptingPos0cell ID3158',\n",
       " 'attemptingPos0cell ID3160',\n",
       " 'attemptingPos0cell ID3162',\n",
       " 'attemptingPos0cell ID3164',\n",
       " 'attemptingPos0cell ID3165',\n",
       " 'attemptingPos0cell ID3167',\n",
       " 'attemptingPos0cell ID3168',\n",
       " 'attemptingPos0cell ID3169',\n",
       " 'attemptingPos0cell ID3170',\n",
       " 'attemptingPos0cell ID3171',\n",
       " 'attemptingPos0cell ID3172',\n",
       " 'attemptingPos0cell ID2963',\n",
       " 'attemptingPos0cell ID2964',\n",
       " 'attemptingPos0cell ID2971',\n",
       " 'attemptingPos0cell ID2977',\n",
       " 'attemptingPos0cell ID2983',\n",
       " 'attemptingPos0cell ID2985',\n",
       " 'attemptingPos0cell ID2986',\n",
       " 'attemptingPos0cell ID2988',\n",
       " 'attemptingPos0cell ID2989',\n",
       " 'attemptingPos0cell ID2943',\n",
       " 'attemptingPos0cell ID2928',\n",
       " 'attemptingPos0cell ID2934',\n",
       " 'attemptingPos0cell ID2935',\n",
       " 'attemptingPos0cell ID2936',\n",
       " 'attemptingPos0cell ID2937',\n",
       " 'attemptingPos0cell ID2939',\n",
       " 'attemptingPos0cell ID2942',\n",
       " 'attemptingPos0cell ID3065',\n",
       " 'attemptingPos0cell ID2945',\n",
       " 'attemptingPos0cell ID2946',\n",
       " 'attemptingPos0cell ID2947',\n",
       " 'attemptingPos0cell ID2948',\n",
       " 'attemptingPos0cell ID2954',\n",
       " 'attemptingPos0cell ID2955',\n",
       " 'attemptingPos0cell ID2956',\n",
       " 'attemptingPos0cell ID2957',\n",
       " 'attemptingPos0cell ID2958',\n",
       " 'attemptingPos0cell ID3050',\n",
       " 'attemptingPos0cell ID3035',\n",
       " 'attemptingPos0cell ID3038',\n",
       " 'attemptingPos0cell ID3040',\n",
       " 'attemptingPos0cell ID3041',\n",
       " 'attemptingPos0cell ID3042',\n",
       " 'attemptingPos0cell ID3044',\n",
       " 'attemptingPos0cell ID3045',\n",
       " 'attemptingPos0cell ID2995',\n",
       " 'attemptingPos0cell ID3052',\n",
       " 'attemptingPos0cell ID3053',\n",
       " 'attemptingPos0cell ID3055',\n",
       " 'attemptingPos0cell ID3056',\n",
       " 'attemptingPos0cell ID3057',\n",
       " 'attemptingPos0cell ID3059',\n",
       " 'attemptingPos0cell ID3064',\n",
       " 'attemptingPos0cell ID2994',\n",
       " 'attemptingPos0cell ID3030',\n",
       " 'attemptingPos0cell ID2996',\n",
       " 'attemptingPos0cell ID2999',\n",
       " 'attemptingPos0cell ID3000',\n",
       " 'attemptingPos0cell ID3001',\n",
       " 'attemptingPos0cell ID3003',\n",
       " 'attemptingPos0cell ID3004',\n",
       " 'attemptingPos0cell ID3005',\n",
       " 'attemptingPos0cell ID3006',\n",
       " 'attemptingPos0cell ID3007',\n",
       " 'attemptingPos0cell ID3008',\n",
       " 'attemptingPos0cell ID3009',\n",
       " 'attemptingPos0cell ID3011',\n",
       " 'attemptingPos0cell ID3028',\n",
       " 'attemptingPos0cell ID3027',\n",
       " 'attemptingPos0cell ID3025',\n",
       " 'attemptingPos0cell ID3023',\n",
       " 'attemptingPos0cell ID3022',\n",
       " 'attemptingPos0cell ID3020',\n",
       " 'attemptingPos0cell ID3017',\n",
       " 'attemptingPos0cell ID3014',\n",
       " 'attemptingPos0cell ID3212',\n",
       " 'attemptingPos0cell ID3210',\n",
       " 'attemptingPos0cell ID3208',\n",
       " 'attemptingPos0cell ID3205',\n",
       " 'attemptingPos0cell ID3206',\n",
       " 'attemptingPos0cell ID3213',\n",
       " 'attemptingPos0cell ID3220',\n",
       " 'attemptingPos0cell ID3221',\n",
       " 'attemptingPos0cell ID3222',\n",
       " 'attemptingPos0cell ID3223',\n",
       " 'attemptingPos0cell ID3227',\n",
       " 'attemptingPos0cell ID3230',\n",
       " 'attemptingPos0cell ID3231',\n",
       " 'attemptingPos0cell ID3241',\n",
       " 'attemptingPos0cell ID3245',\n",
       " 'attemptingPos0cell ID3248',\n",
       " 'attemptingPos0cell ID3249',\n",
       " 'attemptingPos0cell ID3250',\n",
       " 'attemptingPos0cell ID3256',\n",
       " 'attemptingPos0cell ID3257',\n",
       " 'attemptingPos0cell ID3263',\n",
       " 'attemptingPos0cell ID3269',\n",
       " 'attemptingPos0cell ID3270',\n",
       " 'attemptingPos0cell ID3278',\n",
       " 'attemptingPos0cell ID3284',\n",
       " 'attemptingPos0cell ID3299',\n",
       " 'attemptingPos0cell ID3316',\n",
       " 'attemptingPos0cell ID3309',\n",
       " 'attemptingPos0cell ID3326',\n",
       " 'attemptingPos0cell ID3323',\n",
       " 'attemptingPos0cell ID3319',\n",
       " 'attemptingPos0cell ID3328',\n",
       " 'attemptingPos0cell ID3332',\n",
       " 'attemptingPos0cell ID3336',\n",
       " 'attemptingPos0cell ID3335',\n",
       " 'attemptingPos0cell ID3364',\n",
       " 'attemptingPos0cell ID3376',\n",
       " 'attemptingPos0cell ID3398',\n",
       " 'attemptingPos0cell ID3401',\n",
       " 'attemptingPos0cell ID3412',\n",
       " 'attemptingPos0cell ID3415',\n",
       " 'attemptingPos0cell ID3418',\n",
       " 'attemptingPos0cell ID3458',\n",
       " 'attemptingPos0cell ID3569',\n",
       " 'attemptingPos0cell ID3598',\n",
       " 'attemptingPos0cell ID3613',\n",
       " 'attemptingPos0cell ID3616',\n",
       " 'attemptingPos0cell ID3655',\n",
       " 'attemptingPos0cell ID3760',\n",
       " 'attemptingPos0cell ID3770',\n",
       " 'attemptingPos0cell ID3848',\n",
       " 'attemptingPos0cell ID3859',\n",
       " 'attemptingPos0cell ID4671',\n",
       " 'Pos5tracking file loaded',\n",
       " 'Pos5number of glimpses to be generated:48',\n",
       " 'Pos5image loaded',\n",
       " 'attemptingPos5cell ID34',\n",
       " 'attemptingPos5cell ID81',\n",
       " 'attemptingPos5cell ID85',\n",
       " 'attemptingPos5cell ID273',\n",
       " 'attemptingPos5cell ID393',\n",
       " 'attemptingPos5cell ID496',\n",
       " 'attemptingPos5cell ID499',\n",
       " 'attemptingPos5cell ID506',\n",
       " 'attemptingPos5cell ID541',\n",
       " 'attemptingPos5cell ID563',\n",
       " 'attemptingPos5cell ID569',\n",
       " 'attemptingPos5cell ID605',\n",
       " 'attemptingPos5cell ID642',\n",
       " 'attemptingPos5cell ID674',\n",
       " 'attemptingPos5cell ID712',\n",
       " 'attemptingPos5cell ID721',\n",
       " 'attemptingPos5cell ID723',\n",
       " 'attemptingPos5cell ID745',\n",
       " 'attemptingPos5cell ID746',\n",
       " 'attemptingPos5cell ID760',\n",
       " 'attemptingPos5cell ID783',\n",
       " 'attemptingPos5cell ID789',\n",
       " 'attemptingPos5cell ID794',\n",
       " 'attemptingPos5cell ID797',\n",
       " 'attemptingPos5cell ID804',\n",
       " 'attemptingPos5cell ID807',\n",
       " 'attemptingPos5cell ID774',\n",
       " 'attemptingPos5cell ID777',\n",
       " 'attemptingPos5cell ID780',\n",
       " 'attemptingPos5cell ID810',\n",
       " 'attemptingPos5cell ID851',\n",
       " 'attemptingPos5cell ID855',\n",
       " 'attemptingPos5cell ID871',\n",
       " 'attemptingPos5cell ID885',\n",
       " 'attemptingPos5cell ID904',\n",
       " 'attemptingPos5cell ID913',\n",
       " 'attemptingPos5cell ID915',\n",
       " 'attemptingPos5cell ID916',\n",
       " 'attemptingPos5cell ID956',\n",
       " 'attemptingPos5cell ID974',\n",
       " 'attemptingPos5cell ID982',\n",
       " 'attemptingPos5cell ID994',\n",
       " 'attemptingPos5cell ID1001',\n",
       " 'attemptingPos5cell ID1024',\n",
       " 'attemptingPos5cell ID1031',\n",
       " 'attemptingPos5cell ID1041',\n",
       " 'attemptingPos5cell ID1046',\n",
       " 'attemptingPos5cell ID1088',\n",
       " 'Pos6tracking file loaded',\n",
       " 'Pos6number of glimpses to be generated:63',\n",
       " 'Pos6image loaded',\n",
       " 'attemptingPos6cell ID2',\n",
       " 'attemptingPos6cell ID44',\n",
       " 'attemptingPos6cell ID147',\n",
       " 'attemptingPos6cell ID215',\n",
       " 'attemptingPos6cell ID242',\n",
       " 'attemptingPos6cell ID277',\n",
       " 'attemptingPos6cell ID306',\n",
       " 'attemptingPos6cell ID340',\n",
       " 'attemptingPos6cell ID369',\n",
       " 'attemptingPos6cell ID385',\n",
       " 'attemptingPos6cell ID389',\n",
       " 'attemptingPos6cell ID378',\n",
       " 'attemptingPos6cell ID490',\n",
       " 'attemptingPos6cell ID494',\n",
       " 'attemptingPos6cell ID496',\n",
       " 'attemptingPos6cell ID508',\n",
       " 'attemptingPos6cell ID531',\n",
       " 'attemptingPos6cell ID573',\n",
       " 'attemptingPos6cell ID555',\n",
       " 'attemptingPos6cell ID609',\n",
       " 'attemptingPos6cell ID612',\n",
       " 'attemptingPos6cell ID645',\n",
       " 'attemptingPos6cell ID638',\n",
       " 'attemptingPos6cell ID653',\n",
       " 'attemptingPos6cell ID660',\n",
       " 'attemptingPos6cell ID665',\n",
       " 'attemptingPos6cell ID697',\n",
       " 'attemptingPos6cell ID701',\n",
       " 'attemptingPos6cell ID732',\n",
       " 'attemptingPos6cell ID719',\n",
       " 'attemptingPos6cell ID747',\n",
       " 'attemptingPos6cell ID756',\n",
       " 'attemptingPos6cell ID787',\n",
       " 'attemptingPos6cell ID811',\n",
       " 'attemptingPos6cell ID790',\n",
       " 'attemptingPos6cell ID793',\n",
       " 'attemptingPos6cell ID821',\n",
       " 'attemptingPos6cell ID833',\n",
       " 'attemptingPos6cell ID871',\n",
       " 'attemptingPos6cell ID868',\n",
       " 'attemptingPos6cell ID874',\n",
       " 'attemptingPos6cell ID881',\n",
       " 'attemptingPos6cell ID882',\n",
       " 'attemptingPos6cell ID897',\n",
       " 'attemptingPos6cell ID902',\n",
       " 'attemptingPos6cell ID916',\n",
       " 'attemptingPos6cell ID918',\n",
       " 'attemptingPos6cell ID921',\n",
       " 'attemptingPos6cell ID929',\n",
       " 'attemptingPos6cell ID944',\n",
       " 'attemptingPos6cell ID946',\n",
       " 'attemptingPos6cell ID949',\n",
       " 'attemptingPos6cell ID958',\n",
       " 'attemptingPos6cell ID974',\n",
       " 'attemptingPos6cell ID970',\n",
       " 'attemptingPos6cell ID983',\n",
       " 'attemptingPos6cell ID993',\n",
       " 'attemptingPos6cell ID999',\n",
       " 'attemptingPos6cell ID1043',\n",
       " 'attemptingPos6cell ID1059',\n",
       " 'attemptingPos6cell ID1143',\n",
       " 'attemptingPos6cell ID1211',\n",
       " 'attemptingPos6cell ID1244',\n",
       " 'Pos7tracking file loaded',\n",
       " 'Pos7number of glimpses to be generated:38',\n",
       " 'Pos7image loaded',\n",
       " 'attemptingPos7cell ID54',\n",
       " 'attemptingPos7cell ID361',\n",
       " 'attemptingPos7cell ID418',\n",
       " 'attemptingPos7cell ID453',\n",
       " 'attemptingPos7cell ID534',\n",
       " 'attemptingPos7cell ID551',\n",
       " 'attemptingPos7cell ID631',\n",
       " 'attemptingPos7cell ID687',\n",
       " 'attemptingPos7cell ID749',\n",
       " 'attemptingPos7cell ID699',\n",
       " 'attemptingPos7cell ID711',\n",
       " 'attemptingPos7cell ID766',\n",
       " 'attemptingPos7cell ID780',\n",
       " 'attemptingPos7cell ID796',\n",
       " 'attemptingPos7cell ID806',\n",
       " 'attemptingPos7cell ID809',\n",
       " 'attemptingPos7cell ID880',\n",
       " 'attemptingPos7cell ID899',\n",
       " 'attemptingPos7cell ID904',\n",
       " 'attemptingPos7cell ID906',\n",
       " 'attemptingPos7cell ID918',\n",
       " 'attemptingPos7cell ID922',\n",
       " 'attemptingPos7cell ID958',\n",
       " 'attemptingPos7cell ID971',\n",
       " 'attemptingPos7cell ID973',\n",
       " 'attemptingPos7cell ID1016',\n",
       " 'attemptingPos7cell ID1030',\n",
       " 'attemptingPos7cell ID1077',\n",
       " 'attemptingPos7cell ID1093',\n",
       " 'attemptingPos7cell ID1094',\n",
       " 'attemptingPos7cell ID1108',\n",
       " 'attemptingPos7cell ID1125',\n",
       " 'attemptingPos7cell ID1128',\n",
       " 'attemptingPos7cell ID1139',\n",
       " 'attemptingPos7cell ID1233',\n",
       " 'attemptingPos7cell ID1278',\n",
       " 'attemptingPos7cell ID1282',\n",
       " 'attemptingPos7cell ID1306',\n",
       " 'Pos10tracking file loaded',\n",
       " 'Pos10number of glimpses to be generated:15',\n",
       " 'Pos10image loaded',\n",
       " 'attemptingPos10cell ID7',\n",
       " 'attemptingPos10cell ID17',\n",
       " 'attemptingPos10cell ID16',\n",
       " 'attemptingPos10cell ID87',\n",
       " 'attemptingPos10cell ID253',\n",
       " 'attemptingPos10cell ID352',\n",
       " 'attemptingPos10cell ID1083',\n",
       " 'attemptingPos10cell ID1310',\n",
       " 'attemptingPos10cell ID1456',\n",
       " 'attemptingPos10cell ID1486',\n",
       " 'attemptingPos10cell ID1495',\n",
       " 'attemptingPos10cell ID1520',\n",
       " 'attemptingPos10cell ID1536',\n",
       " 'attemptingPos10cell ID1637',\n",
       " 'attemptingPos10cell ID2348',\n",
       " 'Pos11tracking file loaded',\n",
       " 'Pos11number of glimpses to be generated:0',\n",
       " 'Pos11image loaded',\n",
       " 'Pos12tracking file loaded',\n",
       " 'Pos12number of glimpses to be generated:18',\n",
       " 'Pos12image loaded',\n",
       " 'attemptingPos12cell ID77',\n",
       " 'attemptingPos12cell ID63',\n",
       " 'attemptingPos12cell ID484',\n",
       " 'attemptingPos12cell ID757',\n",
       " 'attemptingPos12cell ID912',\n",
       " 'attemptingPos12cell ID1271',\n",
       " 'attemptingPos12cell ID1324',\n",
       " 'attemptingPos12cell ID1792',\n",
       " 'attemptingPos12cell ID2197',\n",
       " 'attemptingPos12cell ID2280',\n",
       " 'attemptingPos12cell ID2744',\n",
       " 'attemptingPos12cell ID2673',\n",
       " 'attemptingPos12cell ID3052',\n",
       " 'attemptingPos12cell ID3124',\n",
       " 'attemptingPos12cell ID3259',\n",
       " 'attemptingPos12cell ID4276',\n",
       " 'attemptingPos12cell ID4412',\n",
       " 'attemptingPos12cell ID4678',\n",
       " 'Pos15tracking file loaded',\n",
       " 'Pos15number of glimpses to be generated:83',\n",
       " 'Pos15image loaded',\n",
       " 'attemptingPos15cell ID75',\n",
       " 'attemptingPos15cell ID84',\n",
       " 'attemptingPos15cell ID104',\n",
       " 'attemptingPos15cell ID24',\n",
       " 'attemptingPos15cell ID52',\n",
       " 'attemptingPos15cell ID37',\n",
       " 'attemptingPos15cell ID36',\n",
       " 'attemptingPos15cell ID177',\n",
       " 'attemptingPos15cell ID297',\n",
       " 'attemptingPos15cell ID317',\n",
       " 'attemptingPos15cell ID364',\n",
       " 'attemptingPos15cell ID431',\n",
       " 'attemptingPos15cell ID455',\n",
       " 'attemptingPos15cell ID659',\n",
       " 'attemptingPos15cell ID783',\n",
       " 'attemptingPos15cell ID821',\n",
       " 'attemptingPos15cell ID930',\n",
       " 'attemptingPos15cell ID970',\n",
       " 'attemptingPos15cell ID991',\n",
       " 'attemptingPos15cell ID1026',\n",
       " 'attemptingPos15cell ID1110',\n",
       " 'attemptingPos15cell ID1315',\n",
       " 'attemptingPos15cell ID1275',\n",
       " 'attemptingPos15cell ID1366',\n",
       " 'attemptingPos15cell ID1376',\n",
       " 'attemptingPos15cell ID1389',\n",
       " 'attemptingPos15cell ID1347',\n",
       " 'attemptingPos15cell ID1203',\n",
       " 'attemptingPos15cell ID1207',\n",
       " 'attemptingPos15cell ID1248',\n",
       " 'attemptingPos15cell ID1433',\n",
       " 'attemptingPos15cell ID1440',\n",
       " 'attemptingPos15cell ID1464',\n",
       " 'attemptingPos15cell ID1500',\n",
       " 'attemptingPos15cell ID1513',\n",
       " 'attemptingPos15cell ID1523',\n",
       " 'attemptingPos15cell ID1547',\n",
       " 'attemptingPos15cell ID1662',\n",
       " 'attemptingPos15cell ID1733',\n",
       " 'attemptingPos15cell ID1754',\n",
       " 'attemptingPos15cell ID1840',\n",
       " 'attemptingPos15cell ID1855',\n",
       " 'attemptingPos15cell ID1967',\n",
       " 'attemptingPos15cell ID2238',\n",
       " 'attemptingPos15cell ID2368',\n",
       " 'attemptingPos15cell ID2394',\n",
       " 'attemptingPos15cell ID2424',\n",
       " 'attemptingPos15cell ID2556',\n",
       " 'attemptingPos15cell ID2554',\n",
       " 'attemptingPos15cell ID2650',\n",
       " 'attemptingPos15cell ID3750',\n",
       " 'attemptingPos15cell ID3762',\n",
       " 'attemptingPos15cell ID3716',\n",
       " 'attemptingPos15cell ID3861',\n",
       " 'attemptingPos15cell ID3853',\n",
       " 'attemptingPos15cell ID3849',\n",
       " 'attemptingPos15cell ID3574',\n",
       " 'attemptingPos15cell ID3500',\n",
       " 'attemptingPos15cell ID3920',\n",
       " 'attemptingPos15cell ID3928',\n",
       " 'attemptingPos15cell ID3959',\n",
       " 'attemptingPos15cell ID4123',\n",
       " 'attemptingPos15cell ID4129',\n",
       " 'attemptingPos15cell ID4079',\n",
       " 'attemptingPos15cell ID4060',\n",
       " 'attemptingPos15cell ID4203',\n",
       " 'attemptingPos15cell ID4277',\n",
       " 'attemptingPos15cell ID4239',\n",
       " 'attemptingPos15cell ID4296',\n",
       " 'attemptingPos15cell ID4321',\n",
       " 'attemptingPos15cell ID4336',\n",
       " 'attemptingPos15cell ID4353',\n",
       " 'attemptingPos15cell ID4354',\n",
       " 'attemptingPos15cell ID4368',\n",
       " 'attemptingPos15cell ID4397',\n",
       " 'attemptingPos15cell ID4407',\n",
       " 'attemptingPos15cell ID4421',\n",
       " 'attemptingPos15cell ID4426',\n",
       " 'attemptingPos15cell ID4441',\n",
       " 'attemptingPos15cell ID4467',\n",
       " 'attemptingPos15cell ID4486',\n",
       " 'attemptingPos15cell ID4512',\n",
       " 'attemptingPos15cell ID4513',\n",
       " 'Pos16tracking file loaded',\n",
       " 'Pos16number of glimpses to be generated:28',\n",
       " 'Pos16image loaded',\n",
       " 'attemptingPos16cell ID245',\n",
       " 'attemptingPos16cell ID683',\n",
       " 'attemptingPos16cell ID834',\n",
       " 'attemptingPos16cell ID857',\n",
       " 'attemptingPos16cell ID912',\n",
       " 'attemptingPos16cell ID1189',\n",
       " 'attemptingPos16cell ID1212',\n",
       " 'attemptingPos16cell ID1268',\n",
       " 'attemptingPos16cell ID1689',\n",
       " 'attemptingPos16cell ID2027',\n",
       " 'attemptingPos16cell ID2194',\n",
       " 'attemptingPos16cell ID2156',\n",
       " 'attemptingPos16cell ID2158',\n",
       " 'attemptingPos16cell ID2068',\n",
       " 'attemptingPos16cell ID2070',\n",
       " 'attemptingPos16cell ID2074',\n",
       " 'attemptingPos16cell ID2106',\n",
       " 'attemptingPos16cell ID2404',\n",
       " 'attemptingPos16cell ID2408',\n",
       " 'attemptingPos16cell ID2411',\n",
       " 'attemptingPos16cell ID2430',\n",
       " 'attemptingPos16cell ID2429',\n",
       " 'attemptingPos16cell ID2462',\n",
       " 'attemptingPos16cell ID2463',\n",
       " 'attemptingPos16cell ID2478',\n",
       " 'attemptingPos16cell ID2480',\n",
       " 'attemptingPos16cell ID2521',\n",
       " 'attemptingPos16cell ID2555',\n",
       " 'Pos17tracking file loaded',\n",
       " 'Pos17number of glimpses to be generated:56',\n",
       " 'Pos17image loaded',\n",
       " 'attemptingPos17cell ID27',\n",
       " 'attemptingPos17cell ID39',\n",
       " 'attemptingPos17cell ID10',\n",
       " 'attemptingPos17cell ID46',\n",
       " 'attemptingPos17cell ID169',\n",
       " 'attemptingPos17cell ID194',\n",
       " 'attemptingPos17cell ID246',\n",
       " 'attemptingPos17cell ID264',\n",
       " 'attemptingPos17cell ID289',\n",
       " 'attemptingPos17cell ID305',\n",
       " 'attemptingPos17cell ID306',\n",
       " 'attemptingPos17cell ID330',\n",
       " 'attemptingPos17cell ID331',\n",
       " 'attemptingPos17cell ID334',\n",
       " 'attemptingPos17cell ID343',\n",
       " 'attemptingPos17cell ID390',\n",
       " 'attemptingPos17cell ID434',\n",
       " 'attemptingPos17cell ID497',\n",
       " 'attemptingPos17cell ID514',\n",
       " 'attemptingPos17cell ID766',\n",
       " 'attemptingPos17cell ID852',\n",
       " 'attemptingPos17cell ID1006',\n",
       " 'attemptingPos17cell ID1078',\n",
       " 'attemptingPos17cell ID1089',\n",
       " 'attemptingPos17cell ID1147',\n",
       " 'attemptingPos17cell ID1484',\n",
       " 'attemptingPos17cell ID1479',\n",
       " 'attemptingPos17cell ID1450',\n",
       " 'attemptingPos17cell ID1519',\n",
       " 'attemptingPos17cell ID1498',\n",
       " 'attemptingPos17cell ID1506',\n",
       " 'attemptingPos17cell ID1324',\n",
       " 'attemptingPos17cell ID1328',\n",
       " 'attemptingPos17cell ID1419',\n",
       " 'attemptingPos17cell ID1381',\n",
       " 'attemptingPos17cell ID1386',\n",
       " 'attemptingPos17cell ID1577',\n",
       " 'attemptingPos17cell ID1650',\n",
       " 'attemptingPos17cell ID1647',\n",
       " 'attemptingPos17cell ID1637',\n",
       " 'attemptingPos17cell ID1672',\n",
       " 'attemptingPos17cell ID1661',\n",
       " 'attemptingPos17cell ID1616',\n",
       " 'attemptingPos17cell ID1610',\n",
       " 'attemptingPos17cell ID1683',\n",
       " 'attemptingPos17cell ID1702',\n",
       " 'attemptingPos17cell ID1694',\n",
       " 'attemptingPos17cell ID1722',\n",
       " 'attemptingPos17cell ID1735',\n",
       " 'attemptingPos17cell ID1743',\n",
       " 'attemptingPos17cell ID1747',\n",
       " 'attemptingPos17cell ID1755',\n",
       " 'attemptingPos17cell ID1764',\n",
       " 'attemptingPos17cell ID1766',\n",
       " 'attemptingPos17cell ID1834',\n",
       " 'attemptingPos17cell ID1921',\n",
       " 'Pos20tracking file loaded',\n",
       " 'Pos20number of glimpses to be generated:28',\n",
       " 'Pos20image loaded',\n",
       " 'attemptingPos20cell ID165',\n",
       " 'attemptingPos20cell ID173',\n",
       " 'attemptingPos20cell ID198',\n",
       " 'attemptingPos20cell ID200',\n",
       " 'attemptingPos20cell ID205',\n",
       " 'attemptingPos20cell ID232',\n",
       " 'attemptingPos20cell ID238',\n",
       " 'attemptingPos20cell ID279',\n",
       " 'attemptingPos20cell ID284',\n",
       " 'attemptingPos20cell ID302',\n",
       " 'attemptingPos20cell ID314',\n",
       " 'attemptingPos20cell ID312',\n",
       " 'attemptingPos20cell ID322',\n",
       " 'attemptingPos20cell ID340',\n",
       " 'attemptingPos20cell ID342',\n",
       " 'attemptingPos20cell ID349',\n",
       " 'attemptingPos20cell ID350',\n",
       " 'attemptingPos20cell ID365',\n",
       " 'attemptingPos20cell ID373',\n",
       " 'attemptingPos20cell ID371',\n",
       " 'attemptingPos20cell ID374',\n",
       " 'attemptingPos20cell ID382',\n",
       " 'attemptingPos20cell ID406',\n",
       " 'attemptingPos20cell ID407',\n",
       " 'attemptingPos20cell ID412',\n",
       " 'attemptingPos20cell ID420',\n",
       " 'attemptingPos20cell ID423',\n",
       " 'attemptingPos20cell ID437',\n",
       " 'Pos21tracking file loaded',\n",
       " 'Pos21number of glimpses to be generated:13',\n",
       " 'Pos21image loaded',\n",
       " 'attemptingPos21cell ID130',\n",
       " 'attemptingPos21cell ID185',\n",
       " 'attemptingPos21cell ID220',\n",
       " 'attemptingPos21cell ID221',\n",
       " 'attemptingPos21cell ID242',\n",
       " 'attemptingPos21cell ID296',\n",
       " 'attemptingPos21cell ID352',\n",
       " 'attemptingPos21cell ID360',\n",
       " 'attemptingPos21cell ID368',\n",
       " 'attemptingPos21cell ID387',\n",
       " 'attemptingPos21cell ID388',\n",
       " 'attemptingPos21cell ID419',\n",
       " 'attemptingPos21cell ID448',\n",
       " 'Pos22tracking file loaded',\n",
       " 'Pos22number of glimpses to be generated:4',\n",
       " 'Pos22image loaded',\n",
       " 'attemptingPos22cell ID219',\n",
       " 'attemptingPos22cell ID224',\n",
       " 'attemptingPos22cell ID231',\n",
       " 'attemptingPos22cell ID280']"
      ]
     },
     "execution_count": 60,
     "metadata": {},
     "output_type": "execute_result"
    }
   ],
   "source": [
    "log"
   ]
  },
  {
   "cell_type": "markdown",
   "metadata": {},
   "source": [
    "# organising output into one big folder indiscriminate of expt params"
   ]
  },
  {
   "cell_type": "code",
   "execution_count": 58,
   "metadata": {},
   "outputs": [],
   "source": [
    "### collating files\n",
    "files = []\n",
    "glimpse_parent_folder = '/home/nathan/data/kraken/pcna/glimpses/MK0000'\n",
    "pos_list = [pos for pos in os.listdir(glimpse_parent_folder) if 'Pos' in pos]\n",
    "for pos in pos_list:\n",
    "    pos_folder = os.path.join(glimpse_parent_folder, pos)\n",
    "    channel_dirs = os.listdir(pos_folder)\n",
    "    for channel in channel_dirs:\n",
    "        channel_folder = os.path.join(pos_folder, channel)\n",
    "        files.extend(glob.glob(os.path.join(channel_folder, '*.tif')))\n",
    "    "
   ]
  },
  {
   "cell_type": "code",
   "execution_count": 59,
   "metadata": {},
   "outputs": [
    {
     "name": "stderr",
     "output_type": "stream",
     "text": [
      "100%|██████████| 174706/174706 [13:34<00:00, 214.42it/s]  \n"
     ]
    }
   ],
   "source": [
    "### copying files\n",
    "output_dir = os.path.join(glimpse_parent_folder, 'all')\n",
    "Path(output_dir).mkdir(parents=True, exist_ok=True)\n",
    "for i in tqdm(files):\n",
    "    dest = os.path.join(output_dir, os.path.basename(i))\n",
    "    shutil.copyfile(i, dest)"
   ]
  },
  {
   "cell_type": "markdown",
   "metadata": {},
   "source": [
    "# cropping files down to 64px2"
   ]
  },
  {
   "cell_type": "code",
   "execution_count": 37,
   "metadata": {},
   "outputs": [
    {
     "data": {
      "image/png": "[encoded data removed]",
      "text/plain": [
       "<Figure size 432x288 with 1 Axes>"
      ]
     },
     "metadata": {
      "needs_background": "light"
     },
     "output_type": "display_data"
    }
   ],
   "source": [
    "final_shape = (64,64)\n",
    "all_patches_dir = os.path.join(glimpse_parent_folder, 'all')\n",
    "files = [fn for fn in os.listdir(all_patches_dir) if '.tif' in fn]\n",
    "\n",
    "for image_fn in ['Pos0_cell_ID_3183_channel003_t374_age0.708.tif']:# files:\n",
    "    image_path = os.path.join(all_patches_dir, image_fn)\n",
    "    image = imread(image_path)\n",
    "    shape = image.shape\n",
    "    crop_amount = (shape[0]-final_shape[0])/2\n",
    "    x1, y1, x2, y2 = int(crop_amount), int(crop_amount), int(crop_amount+final_shape[0]) , int(crop_amount+final_shape[0])\n",
    "    image = image[x1: x2, y1:y2 ]\n",
    "    imshow(image)\n",
    "    break"
   ]
  },
  {
   "cell_type": "code",
   "execution_count": 42,
   "metadata": {},
   "outputs": [],
   "source": [
    "filtered_files = natsorted([fn for fn in files if 'Pos0_cell_ID_3183' in fn])"
   ]
  },
  {
   "cell_type": "code",
   "execution_count": 43,
   "metadata": {},
   "outputs": [
    {
     "data": {
      "text/plain": [
       "['Pos0_cell_ID_3183_channel003_t308_age0.583.tif',\n",
       " 'Pos0_cell_ID_3183_channel003_t309_age0.585.tif',\n",
       " 'Pos0_cell_ID_3183_channel003_t310_age0.587.tif',\n",
       " 'Pos0_cell_ID_3183_channel003_t311_age0.589.tif',\n",
       " 'Pos0_cell_ID_3183_channel003_t312_age0.591.tif',\n",
       " 'Pos0_cell_ID_3183_channel003_t313_age0.593.tif',\n",
       " 'Pos0_cell_ID_3183_channel003_t314_age0.595.tif',\n",
       " 'Pos0_cell_ID_3183_channel003_t315_age0.597.tif',\n",
       " 'Pos0_cell_ID_3183_channel003_t316_age0.598.tif',\n",
       " 'Pos0_cell_ID_3183_channel003_t317_age0.6.tif',\n",
       " 'Pos0_cell_ID_3183_channel003_t318_age0.602.tif',\n",
       " 'Pos0_cell_ID_3183_channel003_t319_age0.604.tif',\n",
       " 'Pos0_cell_ID_3183_channel003_t320_age0.606.tif',\n",
       " 'Pos0_cell_ID_3183_channel003_t321_age0.608.tif',\n",
       " 'Pos0_cell_ID_3183_channel003_t322_age0.61.tif',\n",
       " 'Pos0_cell_ID_3183_channel003_t323_age0.612.tif',\n",
       " 'Pos0_cell_ID_3183_channel003_t324_age0.614.tif',\n",
       " 'Pos0_cell_ID_3183_channel003_t325_age0.616.tif',\n",
       " 'Pos0_cell_ID_3183_channel003_t326_age0.617.tif',\n",
       " 'Pos0_cell_ID_3183_channel003_t327_age0.619.tif',\n",
       " 'Pos0_cell_ID_3183_channel003_t328_age0.621.tif',\n",
       " 'Pos0_cell_ID_3183_channel003_t329_age0.623.tif',\n",
       " 'Pos0_cell_ID_3183_channel003_t330_age0.625.tif',\n",
       " 'Pos0_cell_ID_3183_channel003_t331_age0.627.tif',\n",
       " 'Pos0_cell_ID_3183_channel003_t332_age0.629.tif',\n",
       " 'Pos0_cell_ID_3183_channel003_t333_age0.631.tif',\n",
       " 'Pos0_cell_ID_3183_channel003_t334_age0.633.tif',\n",
       " 'Pos0_cell_ID_3183_channel003_t335_age0.634.tif',\n",
       " 'Pos0_cell_ID_3183_channel003_t336_age0.636.tif',\n",
       " 'Pos0_cell_ID_3183_channel003_t337_age0.638.tif',\n",
       " 'Pos0_cell_ID_3183_channel003_t338_age0.64.tif',\n",
       " 'Pos0_cell_ID_3183_channel003_t339_age0.642.tif',\n",
       " 'Pos0_cell_ID_3183_channel003_t340_age0.644.tif',\n",
       " 'Pos0_cell_ID_3183_channel003_t341_age0.646.tif',\n",
       " 'Pos0_cell_ID_3183_channel003_t342_age0.648.tif',\n",
       " 'Pos0_cell_ID_3183_channel003_t343_age0.65.tif',\n",
       " 'Pos0_cell_ID_3183_channel003_t344_age0.652.tif',\n",
       " 'Pos0_cell_ID_3183_channel003_t345_age0.653.tif',\n",
       " 'Pos0_cell_ID_3183_channel003_t346_age0.655.tif',\n",
       " 'Pos0_cell_ID_3183_channel003_t347_age0.657.tif',\n",
       " 'Pos0_cell_ID_3183_channel003_t348_age0.659.tif',\n",
       " 'Pos0_cell_ID_3183_channel003_t349_age0.661.tif',\n",
       " 'Pos0_cell_ID_3183_channel003_t350_age0.663.tif',\n",
       " 'Pos0_cell_ID_3183_channel003_t351_age0.665.tif',\n",
       " 'Pos0_cell_ID_3183_channel003_t352_age0.667.tif',\n",
       " 'Pos0_cell_ID_3183_channel003_t353_age0.669.tif',\n",
       " 'Pos0_cell_ID_3183_channel003_t354_age0.67.tif',\n",
       " 'Pos0_cell_ID_3183_channel003_t355_age0.672.tif',\n",
       " 'Pos0_cell_ID_3183_channel003_t356_age0.674.tif',\n",
       " 'Pos0_cell_ID_3183_channel003_t357_age0.676.tif',\n",
       " 'Pos0_cell_ID_3183_channel003_t358_age0.678.tif',\n",
       " 'Pos0_cell_ID_3183_channel003_t359_age0.68.tif',\n",
       " 'Pos0_cell_ID_3183_channel003_t360_age0.682.tif',\n",
       " 'Pos0_cell_ID_3183_channel003_t361_age0.684.tif',\n",
       " 'Pos0_cell_ID_3183_channel003_t362_age0.686.tif',\n",
       " 'Pos0_cell_ID_3183_channel003_t363_age0.688.tif',\n",
       " 'Pos0_cell_ID_3183_channel003_t364_age0.689.tif',\n",
       " 'Pos0_cell_ID_3183_channel003_t365_age0.691.tif',\n",
       " 'Pos0_cell_ID_3183_channel003_t366_age0.693.tif',\n",
       " 'Pos0_cell_ID_3183_channel003_t367_age0.695.tif',\n",
       " 'Pos0_cell_ID_3183_channel003_t368_age0.697.tif',\n",
       " 'Pos0_cell_ID_3183_channel003_t369_age0.699.tif',\n",
       " 'Pos0_cell_ID_3183_channel003_t370_age0.701.tif',\n",
       " 'Pos0_cell_ID_3183_channel003_t371_age0.703.tif',\n",
       " 'Pos0_cell_ID_3183_channel003_t372_age0.705.tif',\n",
       " 'Pos0_cell_ID_3183_channel003_t373_age0.706.tif',\n",
       " 'Pos0_cell_ID_3183_channel003_t374_age0.708.tif',\n",
       " 'Pos0_cell_ID_3183_channel003_t375_age0.71.tif',\n",
       " 'Pos0_cell_ID_3183_channel003_t376_age0.712.tif',\n",
       " 'Pos0_cell_ID_3183_channel003_t377_age0.714.tif',\n",
       " 'Pos0_cell_ID_3183_channel003_t378_age0.716.tif',\n",
       " 'Pos0_cell_ID_3183_channel003_t379_age0.718.tif',\n",
       " 'Pos0_cell_ID_3183_channel003_t380_age0.72.tif',\n",
       " 'Pos0_cell_ID_3183_channel003_t381_age0.722.tif',\n",
       " 'Pos0_cell_ID_3183_channel003_t382_age0.723.tif',\n",
       " 'Pos0_cell_ID_3183_channel003_t383_age0.725.tif',\n",
       " 'Pos0_cell_ID_3183_channel003_t384_age0.727.tif',\n",
       " 'Pos0_cell_ID_3183_channel003_t385_age0.729.tif',\n",
       " 'Pos0_cell_ID_3183_channel003_t386_age0.731.tif',\n",
       " 'Pos0_cell_ID_3183_channel003_t387_age0.733.tif',\n",
       " 'Pos0_cell_ID_3183_channel003_t388_age0.735.tif',\n",
       " 'Pos0_cell_ID_3183_channel003_t389_age0.737.tif',\n",
       " 'Pos0_cell_ID_3183_channel003_t390_age0.739.tif',\n",
       " 'Pos0_cell_ID_3183_channel003_t391_age0.741.tif',\n",
       " 'Pos0_cell_ID_3183_channel003_t392_age0.742.tif',\n",
       " 'Pos0_cell_ID_3183_channel003_t393_age0.744.tif',\n",
       " 'Pos0_cell_ID_3183_channel003_t394_age0.746.tif',\n",
       " 'Pos0_cell_ID_3183_channel003_t395_age0.748.tif',\n",
       " 'Pos0_cell_ID_3183_channel003_t396_age0.75.tif',\n",
       " 'Pos0_cell_ID_3183_channel003_t397_age0.752.tif',\n",
       " 'Pos0_cell_ID_3183_channel003_t398_age0.754.tif',\n",
       " 'Pos0_cell_ID_3183_channel003_t399_age0.756.tif',\n",
       " 'Pos0_cell_ID_3183_channel003_t400_age0.758.tif',\n",
       " 'Pos0_cell_ID_3183_channel003_t401_age0.759.tif',\n",
       " 'Pos0_cell_ID_3183_channel003_t402_age0.761.tif',\n",
       " 'Pos0_cell_ID_3183_channel003_t403_age0.763.tif',\n",
       " 'Pos0_cell_ID_3183_channel003_t404_age0.765.tif',\n",
       " 'Pos0_cell_ID_3183_channel003_t405_age0.767.tif',\n",
       " 'Pos0_cell_ID_3183_channel003_t406_age0.769.tif',\n",
       " 'Pos0_cell_ID_3183_channel003_t407_age0.771.tif',\n",
       " 'Pos0_cell_ID_3183_channel003_t408_age0.773.tif',\n",
       " 'Pos0_cell_ID_3183_channel003_t409_age0.775.tif',\n",
       " 'Pos0_cell_ID_3183_channel003_t410_age0.777.tif',\n",
       " 'Pos0_cell_ID_3183_channel003_t411_age0.778.tif',\n",
       " 'Pos0_cell_ID_3183_channel003_t412_age0.78.tif',\n",
       " 'Pos0_cell_ID_3183_channel003_t413_age0.782.tif',\n",
       " 'Pos0_cell_ID_3183_channel003_t414_age0.784.tif',\n",
       " 'Pos0_cell_ID_3183_channel003_t415_age0.786.tif',\n",
       " 'Pos0_cell_ID_3183_channel003_t416_age0.788.tif',\n",
       " 'Pos0_cell_ID_3183_channel003_t417_age0.79.tif',\n",
       " 'Pos0_cell_ID_3183_channel003_t418_age0.792.tif',\n",
       " 'Pos0_cell_ID_3183_channel003_t419_age0.794.tif',\n",
       " 'Pos0_cell_ID_3183_channel003_t420_age0.795.tif',\n",
       " 'Pos0_cell_ID_3183_channel003_t421_age0.797.tif',\n",
       " 'Pos0_cell_ID_3183_channel003_t422_age0.799.tif',\n",
       " 'Pos0_cell_ID_3183_channel003_t423_age0.801.tif',\n",
       " 'Pos0_cell_ID_3183_channel003_t424_age0.803.tif',\n",
       " 'Pos0_cell_ID_3183_channel003_t425_age0.805.tif',\n",
       " 'Pos0_cell_ID_3183_channel003_t426_age0.807.tif',\n",
       " 'Pos0_cell_ID_3183_channel003_t427_age0.809.tif',\n",
       " 'Pos0_cell_ID_3183_channel003_t428_age0.811.tif',\n",
       " 'Pos0_cell_ID_3183_channel003_t429_age0.812.tif',\n",
       " 'Pos0_cell_ID_3183_channel003_t430_age0.814.tif',\n",
       " 'Pos0_cell_ID_3183_channel003_t431_age0.816.tif',\n",
       " 'Pos0_cell_ID_3183_channel003_t432_age0.818.tif',\n",
       " 'Pos0_cell_ID_3183_channel003_t433_age0.82.tif',\n",
       " 'Pos0_cell_ID_3183_channel003_t434_age0.822.tif',\n",
       " 'Pos0_cell_ID_3183_channel003_t435_age0.824.tif',\n",
       " 'Pos0_cell_ID_3183_channel003_t436_age0.826.tif',\n",
       " 'Pos0_cell_ID_3183_channel003_t437_age0.828.tif',\n",
       " 'Pos0_cell_ID_3183_channel003_t438_age0.83.tif',\n",
       " 'Pos0_cell_ID_3183_channel003_t439_age0.831.tif',\n",
       " 'Pos0_cell_ID_3183_channel003_t440_age0.833.tif',\n",
       " 'Pos0_cell_ID_3183_channel003_t441_age0.835.tif',\n",
       " 'Pos0_cell_ID_3183_channel003_t442_age0.837.tif',\n",
       " 'Pos0_cell_ID_3183_channel003_t443_age0.839.tif',\n",
       " 'Pos0_cell_ID_3183_channel003_t444_age0.841.tif',\n",
       " 'Pos0_cell_ID_3183_channel003_t445_age0.843.tif',\n",
       " 'Pos0_cell_ID_3183_channel003_t446_age0.845.tif',\n",
       " 'Pos0_cell_ID_3183_channel003_t447_age0.847.tif',\n",
       " 'Pos0_cell_ID_3183_channel003_t448_age0.848.tif',\n",
       " 'Pos0_cell_ID_3183_channel003_t449_age0.85.tif',\n",
       " 'Pos0_cell_ID_3183_channel003_t450_age0.852.tif',\n",
       " 'Pos0_cell_ID_3183_channel003_t451_age0.854.tif',\n",
       " 'Pos0_cell_ID_3183_channel003_t452_age0.856.tif',\n",
       " 'Pos0_cell_ID_3183_channel003_t453_age0.858.tif',\n",
       " 'Pos0_cell_ID_3183_channel003_t454_age0.86.tif',\n",
       " 'Pos0_cell_ID_3183_channel003_t455_age0.862.tif',\n",
       " 'Pos0_cell_ID_3183_channel003_t456_age0.864.tif',\n",
       " 'Pos0_cell_ID_3183_channel003_t457_age0.866.tif',\n",
       " 'Pos0_cell_ID_3183_channel003_t458_age0.867.tif',\n",
       " 'Pos0_cell_ID_3183_channel003_t459_age0.869.tif',\n",
       " 'Pos0_cell_ID_3183_channel003_t460_age0.871.tif',\n",
       " 'Pos0_cell_ID_3183_channel003_t461_age0.873.tif',\n",
       " 'Pos0_cell_ID_3183_channel003_t462_age0.875.tif',\n",
       " 'Pos0_cell_ID_3183_channel003_t463_age0.877.tif',\n",
       " 'Pos0_cell_ID_3183_channel003_t464_age0.879.tif',\n",
       " 'Pos0_cell_ID_3183_channel003_t465_age0.881.tif',\n",
       " 'Pos0_cell_ID_3183_channel003_t466_age0.883.tif',\n",
       " 'Pos0_cell_ID_3183_channel003_t467_age0.884.tif',\n",
       " 'Pos0_cell_ID_3183_channel003_t468_age0.886.tif',\n",
       " 'Pos0_cell_ID_3183_channel003_t469_age0.888.tif',\n",
       " 'Pos0_cell_ID_3183_channel003_t470_age0.89.tif',\n",
       " 'Pos0_cell_ID_3183_channel003_t471_age0.892.tif',\n",
       " 'Pos0_cell_ID_3183_channel003_t472_age0.894.tif',\n",
       " 'Pos0_cell_ID_3183_channel003_t473_age0.896.tif',\n",
       " 'Pos0_cell_ID_3183_channel003_t474_age0.898.tif',\n",
       " 'Pos0_cell_ID_3183_channel003_t475_age0.9.tif',\n",
       " 'Pos0_cell_ID_3183_channel003_t476_age0.902.tif',\n",
       " 'Pos0_cell_ID_3183_channel003_t477_age0.903.tif',\n",
       " 'Pos0_cell_ID_3183_channel003_t478_age0.905.tif',\n",
       " 'Pos0_cell_ID_3183_channel003_t479_age0.907.tif',\n",
       " 'Pos0_cell_ID_3183_channel003_t480_age0.909.tif',\n",
       " 'Pos0_cell_ID_3183_channel003_t481_age0.911.tif',\n",
       " 'Pos0_cell_ID_3183_channel003_t482_age0.913.tif',\n",
       " 'Pos0_cell_ID_3183_channel003_t483_age0.915.tif',\n",
       " 'Pos0_cell_ID_3183_channel003_t484_age0.917.tif',\n",
       " 'Pos0_cell_ID_3183_channel003_t485_age0.919.tif',\n",
       " 'Pos0_cell_ID_3183_channel003_t486_age0.92.tif',\n",
       " 'Pos0_cell_ID_3183_channel003_t487_age0.922.tif',\n",
       " 'Pos0_cell_ID_3183_channel003_t488_age0.924.tif',\n",
       " 'Pos0_cell_ID_3183_channel003_t489_age0.926.tif',\n",
       " 'Pos0_cell_ID_3183_channel003_t490_age0.928.tif',\n",
       " 'Pos0_cell_ID_3183_channel003_t491_age0.93.tif',\n",
       " 'Pos0_cell_ID_3183_channel003_t492_age0.932.tif',\n",
       " 'Pos0_cell_ID_3183_channel003_t493_age0.934.tif',\n",
       " 'Pos0_cell_ID_3183_channel003_t494_age0.936.tif',\n",
       " 'Pos0_cell_ID_3183_channel003_t495_age0.938.tif',\n",
       " 'Pos0_cell_ID_3183_channel003_t496_age0.939.tif',\n",
       " 'Pos0_cell_ID_3183_channel003_t497_age0.941.tif',\n",
       " 'Pos0_cell_ID_3183_channel003_t498_age0.943.tif',\n",
       " 'Pos0_cell_ID_3183_channel003_t499_age0.945.tif',\n",
       " 'Pos0_cell_ID_3183_channel003_t500_age0.947.tif',\n",
       " 'Pos0_cell_ID_3183_channel003_t501_age0.949.tif',\n",
       " 'Pos0_cell_ID_3183_channel003_t502_age0.951.tif',\n",
       " 'Pos0_cell_ID_3183_channel003_t503_age0.953.tif',\n",
       " 'Pos0_cell_ID_3183_channel003_t504_age0.955.tif',\n",
       " 'Pos0_cell_ID_3183_channel003_t505_age0.956.tif',\n",
       " 'Pos0_cell_ID_3183_channel003_t506_age0.958.tif',\n",
       " 'Pos0_cell_ID_3183_channel003_t507_age0.96.tif',\n",
       " 'Pos0_cell_ID_3183_channel003_t508_age0.962.tif',\n",
       " 'Pos0_cell_ID_3183_channel003_t509_age0.964.tif',\n",
       " 'Pos0_cell_ID_3183_channel003_t510_age0.966.tif',\n",
       " 'Pos0_cell_ID_3183_channel003_t511_age0.968.tif',\n",
       " 'Pos0_cell_ID_3183_channel003_t512_age0.97.tif',\n",
       " 'Pos0_cell_ID_3183_channel003_t513_age0.972.tif',\n",
       " 'Pos0_cell_ID_3183_channel003_t514_age0.973.tif',\n",
       " 'Pos0_cell_ID_3183_channel003_t515_age0.975.tif',\n",
       " 'Pos0_cell_ID_3183_channel003_t516_age0.977.tif',\n",
       " 'Pos0_cell_ID_3183_channel003_t517_age0.979.tif',\n",
       " 'Pos0_cell_ID_3183_channel003_t518_age0.981.tif',\n",
       " 'Pos0_cell_ID_3183_channel003_t519_age0.983.tif',\n",
       " 'Pos0_cell_ID_3183_channel003_t520_age0.985.tif',\n",
       " 'Pos0_cell_ID_3183_channel003_t521_age0.987.tif',\n",
       " 'Pos0_cell_ID_3183_channel003_t522_age0.989.tif',\n",
       " 'Pos0_cell_ID_3183_channel003_t523_age0.991.tif',\n",
       " 'Pos0_cell_ID_3183_channel003_t524_age0.992.tif',\n",
       " 'Pos0_cell_ID_3183_channel003_t525_age0.994.tif',\n",
       " 'Pos0_cell_ID_3183_channel003_t526_age0.996.tif',\n",
       " 'Pos0_cell_ID_3183_channel003_t527_age0.998.tif']"
      ]
     },
     "execution_count": 43,
     "metadata": {},
     "output_type": "execute_result"
    }
   ],
   "source": [
    "filtered_files"
   ]
  },
  {
   "cell_type": "markdown",
   "metadata": {},
   "source": [
    "# Masking off the background"
   ]
  },
  {
   "cell_type": "code",
   "execution_count": null,
   "metadata": {},
   "outputs": [
    {
     "name": "stderr",
     "output_type": "stream",
     "text": [
      "  0%|          | 0/174706 [00:00<?, ?it/s][INFO][2021/05/30 06:44:03 PM] Opening HDF file: /run/user/1000/gvfs/smb-share:server=lowe-sn00.biochem.ucl.ac.uk,share=lowegrp/Data/Manasi/MK0000/Pos0/gfp_tracks_2021_05_28_06_28_16_PM.h5...\n",
      "INFO:worker_process:Opening HDF file: /run/user/1000/gvfs/smb-share:server=lowe-sn00.biochem.ucl.ac.uk,share=lowegrp/Data/Manasi/MK0000/Pos0/gfp_tracks_2021_05_28_06_28_16_PM.h5...\n",
      "[INFO][2021/05/30 06:44:03 PM] Loading tracks/obj_type_3\n",
      "INFO:worker_process:Loading tracks/obj_type_3\n"
     ]
    },
    {
     "name": "stdout",
     "output_type": "stream",
     "text": [
      "Pos0 46\n"
     ]
    },
    {
     "name": "stderr",
     "output_type": "stream",
     "text": [
      "[INFO][2021/05/30 06:44:03 PM] Loading objects/obj_type_3 (563356, 5) (563356 filtered: None)\n",
      "INFO:worker_process:Loading objects/obj_type_3 (563356, 5) (563356 filtered: None)\n",
      "[INFO][2021/05/30 06:44:12 PM] Closing HDF file: /run/user/1000/gvfs/smb-share:server=lowe-sn00.biochem.ucl.ac.uk,share=lowegrp/Data/Manasi/MK0000/Pos0/gfp_tracks_2021_05_28_06_28_16_PM.h5\n",
      "INFO:worker_process:Closing HDF file: /run/user/1000/gvfs/smb-share:server=lowe-sn00.biochem.ucl.ac.uk,share=lowegrp/Data/Manasi/MK0000/Pos0/gfp_tracks_2021_05_28_06_28_16_PM.h5\n"
     ]
    },
    {
     "name": "stdout",
     "output_type": "stream",
     "text": [
      "/run/user/1000/gvfs/smb-share:server=lowe-sn00.biochem.ucl.ac.uk,share=lowegrp/Data/Manasi/MK0000/Pos0/gfp_tracks_2021_05_28_06_28_16_PM.h5 loaded\n"
     ]
    },
    {
     "name": "stderr",
     "output_type": "stream",
     "text": [
      "\r",
      "  0%|          | 1/174706 [00:09<476:36:04,  9.82s/it]"
     ]
    },
    {
     "name": "stdout",
     "output_type": "stream",
     "text": [
      "Pos0 46\n",
      "/run/user/1000/gvfs/smb-share:server=lowe-sn00.biochem.ucl.ac.uk,share=lowegrp/Data/Manasi/MK0000/Pos0/gfp_tracks_2021_05_28_06_28_16_PM.h5 already loaded\n"
     ]
    },
    {
     "name": "stderr",
     "output_type": "stream",
     "text": [
      "\r",
      "  0%|          | 2/174706 [00:10<204:56:33,  4.22s/it]"
     ]
    },
    {
     "name": "stdout",
     "output_type": "stream",
     "text": [
      "Pos0 46\n",
      "/run/user/1000/gvfs/smb-share:server=lowe-sn00.biochem.ucl.ac.uk,share=lowegrp/Data/Manasi/MK0000/Pos0/gfp_tracks_2021_05_28_06_28_16_PM.h5 already loaded\n"
     ]
    },
    {
     "name": "stderr",
     "output_type": "stream",
     "text": [
      "\r",
      "  0%|          | 3/174706 [00:10<117:23:59,  2.42s/it]"
     ]
    },
    {
     "name": "stdout",
     "output_type": "stream",
     "text": [
      "Pos0 46\n",
      "/run/user/1000/gvfs/smb-share:server=lowe-sn00.biochem.ucl.ac.uk,share=lowegrp/Data/Manasi/MK0000/Pos0/gfp_tracks_2021_05_28_06_28_16_PM.h5 already loaded\n"
     ]
    },
    {
     "name": "stderr",
     "output_type": "stream",
     "text": [
      "\r",
      "  0%|          | 4/174706 [00:10<77:03:57,  1.59s/it] "
     ]
    },
    {
     "name": "stdout",
     "output_type": "stream",
     "text": [
      "Pos0 46\n",
      "/run/user/1000/gvfs/smb-share:server=lowe-sn00.biochem.ucl.ac.uk,share=lowegrp/Data/Manasi/MK0000/Pos0/gfp_tracks_2021_05_28_06_28_16_PM.h5 already loaded\n"
     ]
    },
    {
     "name": "stderr",
     "output_type": "stream",
     "text": [
      "\r",
      "  0%|          | 5/174706 [00:10<53:57:14,  1.11s/it]"
     ]
    },
    {
     "name": "stdout",
     "output_type": "stream",
     "text": [
      "Pos0 46\n",
      "/run/user/1000/gvfs/smb-share:server=lowe-sn00.biochem.ucl.ac.uk,share=lowegrp/Data/Manasi/MK0000/Pos0/gfp_tracks_2021_05_28_06_28_16_PM.h5 already loaded\n"
     ]
    },
    {
     "name": "stderr",
     "output_type": "stream",
     "text": [
      "\r",
      "  0%|          | 6/174706 [00:11<40:19:44,  1.20it/s]"
     ]
    },
    {
     "name": "stdout",
     "output_type": "stream",
     "text": [
      "Pos0 46\n",
      "/run/user/1000/gvfs/smb-share:server=lowe-sn00.biochem.ucl.ac.uk,share=lowegrp/Data/Manasi/MK0000/Pos0/gfp_tracks_2021_05_28_06_28_16_PM.h5 already loaded\n"
     ]
    },
    {
     "name": "stderr",
     "output_type": "stream",
     "text": [
      "\r",
      "  0%|          | 7/174706 [00:11<31:59:53,  1.52it/s]"
     ]
    },
    {
     "name": "stdout",
     "output_type": "stream",
     "text": [
      "Pos0 46\n",
      "/run/user/1000/gvfs/smb-share:server=lowe-sn00.biochem.ucl.ac.uk,share=lowegrp/Data/Manasi/MK0000/Pos0/gfp_tracks_2021_05_28_06_28_16_PM.h5 already loaded\n"
     ]
    },
    {
     "name": "stderr",
     "output_type": "stream",
     "text": [
      "\r",
      "  0%|          | 8/174706 [00:11<26:36:40,  1.82it/s]"
     ]
    },
    {
     "name": "stdout",
     "output_type": "stream",
     "text": [
      "Pos0 46\n",
      "/run/user/1000/gvfs/smb-share:server=lowe-sn00.biochem.ucl.ac.uk,share=lowegrp/Data/Manasi/MK0000/Pos0/gfp_tracks_2021_05_28_06_28_16_PM.h5 already loaded\n"
     ]
    },
    {
     "name": "stderr",
     "output_type": "stream",
     "text": [
      "\r",
      "  0%|          | 9/174706 [00:12<22:21:01,  2.17it/s]"
     ]
    },
    {
     "name": "stdout",
     "output_type": "stream",
     "text": [
      "Pos0 46\n",
      "/run/user/1000/gvfs/smb-share:server=lowe-sn00.biochem.ucl.ac.uk,share=lowegrp/Data/Manasi/MK0000/Pos0/gfp_tracks_2021_05_28_06_28_16_PM.h5 already loaded\n"
     ]
    },
    {
     "name": "stderr",
     "output_type": "stream",
     "text": [
      "\r",
      "  0%|          | 10/174706 [00:12<19:22:20,  2.50it/s]"
     ]
    },
    {
     "name": "stdout",
     "output_type": "stream",
     "text": [
      "Pos0 46\n",
      "/run/user/1000/gvfs/smb-share:server=lowe-sn00.biochem.ucl.ac.uk,share=lowegrp/Data/Manasi/MK0000/Pos0/gfp_tracks_2021_05_28_06_28_16_PM.h5 already loaded\n"
     ]
    },
    {
     "name": "stderr",
     "output_type": "stream",
     "text": [
      "\r",
      "  0%|          | 11/174706 [00:12<17:45:37,  2.73it/s]"
     ]
    },
    {
     "name": "stdout",
     "output_type": "stream",
     "text": [
      "Pos0 46\n",
      "/run/user/1000/gvfs/smb-share:server=lowe-sn00.biochem.ucl.ac.uk,share=lowegrp/Data/Manasi/MK0000/Pos0/gfp_tracks_2021_05_28_06_28_16_PM.h5 already loaded\n"
     ]
    },
    {
     "name": "stderr",
     "output_type": "stream",
     "text": [
      "\r",
      "  0%|          | 12/174706 [00:13<17:11:35,  2.82it/s]"
     ]
    },
    {
     "name": "stdout",
     "output_type": "stream",
     "text": [
      "Pos0 46\n",
      "/run/user/1000/gvfs/smb-share:server=lowe-sn00.biochem.ucl.ac.uk,share=lowegrp/Data/Manasi/MK0000/Pos0/gfp_tracks_2021_05_28_06_28_16_PM.h5 already loaded\n"
     ]
    },
    {
     "name": "stderr",
     "output_type": "stream",
     "text": [
      "\r",
      "  0%|          | 13/174706 [00:13<15:54:12,  3.05it/s]"
     ]
    },
    {
     "name": "stdout",
     "output_type": "stream",
     "text": [
      "Pos0 46\n",
      "/run/user/1000/gvfs/smb-share:server=lowe-sn00.biochem.ucl.ac.uk,share=lowegrp/Data/Manasi/MK0000/Pos0/gfp_tracks_2021_05_28_06_28_16_PM.h5 already loaded\n"
     ]
    },
    {
     "name": "stderr",
     "output_type": "stream",
     "text": [
      "\r",
      "  0%|          | 14/174706 [00:13<15:49:27,  3.07it/s]"
     ]
    },
    {
     "name": "stdout",
     "output_type": "stream",
     "text": [
      "Pos0 46\n",
      "/run/user/1000/gvfs/smb-share:server=lowe-sn00.biochem.ucl.ac.uk,share=lowegrp/Data/Manasi/MK0000/Pos0/gfp_tracks_2021_05_28_06_28_16_PM.h5 already loaded\n"
     ]
    },
    {
     "name": "stderr",
     "output_type": "stream",
     "text": [
      "\r",
      "  0%|          | 15/174706 [00:13<14:59:41,  3.24it/s]"
     ]
    },
    {
     "name": "stdout",
     "output_type": "stream",
     "text": [
      "Pos0 46\n",
      "/run/user/1000/gvfs/smb-share:server=lowe-sn00.biochem.ucl.ac.uk,share=lowegrp/Data/Manasi/MK0000/Pos0/gfp_tracks_2021_05_28_06_28_16_PM.h5 already loaded\n"
     ]
    },
    {
     "name": "stderr",
     "output_type": "stream",
     "text": [
      "\r",
      "  0%|          | 16/174706 [00:14<15:14:39,  3.18it/s]"
     ]
    },
    {
     "name": "stdout",
     "output_type": "stream",
     "text": [
      "Pos0 46\n",
      "/run/user/1000/gvfs/smb-share:server=lowe-sn00.biochem.ucl.ac.uk,share=lowegrp/Data/Manasi/MK0000/Pos0/gfp_tracks_2021_05_28_06_28_16_PM.h5 already loaded\n"
     ]
    },
    {
     "name": "stderr",
     "output_type": "stream",
     "text": [
      "\r",
      "  0%|          | 17/174706 [00:14<14:38:20,  3.31it/s]"
     ]
    },
    {
     "name": "stdout",
     "output_type": "stream",
     "text": [
      "Pos0 46\n",
      "/run/user/1000/gvfs/smb-share:server=lowe-sn00.biochem.ucl.ac.uk,share=lowegrp/Data/Manasi/MK0000/Pos0/gfp_tracks_2021_05_28_06_28_16_PM.h5 already loaded\n"
     ]
    },
    {
     "name": "stderr",
     "output_type": "stream",
     "text": [
      "\r",
      "  0%|          | 18/174706 [00:14<14:43:18,  3.30it/s]"
     ]
    },
    {
     "name": "stdout",
     "output_type": "stream",
     "text": [
      "Pos0 46\n",
      "/run/user/1000/gvfs/smb-share:server=lowe-sn00.biochem.ucl.ac.uk,share=lowegrp/Data/Manasi/MK0000/Pos0/gfp_tracks_2021_05_28_06_28_16_PM.h5 already loaded\n"
     ]
    },
    {
     "name": "stderr",
     "output_type": "stream",
     "text": [
      "\r",
      "  0%|          | 19/174706 [00:15<15:03:07,  3.22it/s]"
     ]
    },
    {
     "name": "stdout",
     "output_type": "stream",
     "text": [
      "Pos0 46\n",
      "/run/user/1000/gvfs/smb-share:server=lowe-sn00.biochem.ucl.ac.uk,share=lowegrp/Data/Manasi/MK0000/Pos0/gfp_tracks_2021_05_28_06_28_16_PM.h5 already loaded\n"
     ]
    },
    {
     "name": "stderr",
     "output_type": "stream",
     "text": [
      "\r",
      "  0%|          | 20/174706 [00:15<16:17:16,  2.98it/s]"
     ]
    },
    {
     "name": "stdout",
     "output_type": "stream",
     "text": [
      "Pos0 46\n",
      "/run/user/1000/gvfs/smb-share:server=lowe-sn00.biochem.ucl.ac.uk,share=lowegrp/Data/Manasi/MK0000/Pos0/gfp_tracks_2021_05_28_06_28_16_PM.h5 already loaded\n"
     ]
    },
    {
     "name": "stderr",
     "output_type": "stream",
     "text": [
      "\r",
      "  0%|          | 21/174706 [00:15<15:32:18,  3.12it/s]"
     ]
    },
    {
     "name": "stdout",
     "output_type": "stream",
     "text": [
      "Pos0 46\n",
      "/run/user/1000/gvfs/smb-share:server=lowe-sn00.biochem.ucl.ac.uk,share=lowegrp/Data/Manasi/MK0000/Pos0/gfp_tracks_2021_05_28_06_28_16_PM.h5 already loaded\n"
     ]
    },
    {
     "name": "stderr",
     "output_type": "stream",
     "text": [
      "\r",
      "  0%|          | 22/174706 [00:16<15:07:38,  3.21it/s]"
     ]
    },
    {
     "name": "stdout",
     "output_type": "stream",
     "text": [
      "Pos0 46\n",
      "/run/user/1000/gvfs/smb-share:server=lowe-sn00.biochem.ucl.ac.uk,share=lowegrp/Data/Manasi/MK0000/Pos0/gfp_tracks_2021_05_28_06_28_16_PM.h5 already loaded\n"
     ]
    },
    {
     "name": "stderr",
     "output_type": "stream",
     "text": [
      "\r",
      "  0%|          | 23/174706 [00:16<14:44:08,  3.29it/s]"
     ]
    },
    {
     "name": "stdout",
     "output_type": "stream",
     "text": [
      "Pos0 46\n",
      "/run/user/1000/gvfs/smb-share:server=lowe-sn00.biochem.ucl.ac.uk,share=lowegrp/Data/Manasi/MK0000/Pos0/gfp_tracks_2021_05_28_06_28_16_PM.h5 already loaded\n"
     ]
    },
    {
     "name": "stderr",
     "output_type": "stream",
     "text": [
      "\r",
      "  0%|          | 24/174706 [00:16<14:55:12,  3.25it/s]"
     ]
    },
    {
     "name": "stdout",
     "output_type": "stream",
     "text": [
      "Pos0 46\n",
      "/run/user/1000/gvfs/smb-share:server=lowe-sn00.biochem.ucl.ac.uk,share=lowegrp/Data/Manasi/MK0000/Pos0/gfp_tracks_2021_05_28_06_28_16_PM.h5 already loaded\n"
     ]
    },
    {
     "name": "stderr",
     "output_type": "stream",
     "text": [
      "\r",
      "  0%|          | 25/174706 [00:16<14:47:38,  3.28it/s]"
     ]
    },
    {
     "name": "stdout",
     "output_type": "stream",
     "text": [
      "Pos0 46\n",
      "/run/user/1000/gvfs/smb-share:server=lowe-sn00.biochem.ucl.ac.uk,share=lowegrp/Data/Manasi/MK0000/Pos0/gfp_tracks_2021_05_28_06_28_16_PM.h5 already loaded\n"
     ]
    },
    {
     "name": "stderr",
     "output_type": "stream",
     "text": [
      "\r",
      "  0%|          | 26/174706 [00:17<14:22:45,  3.37it/s]"
     ]
    },
    {
     "name": "stdout",
     "output_type": "stream",
     "text": [
      "Pos0 46\n",
      "/run/user/1000/gvfs/smb-share:server=lowe-sn00.biochem.ucl.ac.uk,share=lowegrp/Data/Manasi/MK0000/Pos0/gfp_tracks_2021_05_28_06_28_16_PM.h5 already loaded\n"
     ]
    },
    {
     "name": "stderr",
     "output_type": "stream",
     "text": [
      "\r",
      "  0%|          | 27/174706 [00:17<15:23:44,  3.15it/s]"
     ]
    },
    {
     "name": "stdout",
     "output_type": "stream",
     "text": [
      "Pos0 46\n",
      "/run/user/1000/gvfs/smb-share:server=lowe-sn00.biochem.ucl.ac.uk,share=lowegrp/Data/Manasi/MK0000/Pos0/gfp_tracks_2021_05_28_06_28_16_PM.h5 already loaded\n"
     ]
    },
    {
     "name": "stderr",
     "output_type": "stream",
     "text": [
      "\r",
      "  0%|          | 28/174706 [00:17<14:42:03,  3.30it/s]"
     ]
    },
    {
     "name": "stdout",
     "output_type": "stream",
     "text": [
      "Pos0 46\n",
      "/run/user/1000/gvfs/smb-share:server=lowe-sn00.biochem.ucl.ac.uk,share=lowegrp/Data/Manasi/MK0000/Pos0/gfp_tracks_2021_05_28_06_28_16_PM.h5 already loaded\n"
     ]
    },
    {
     "name": "stderr",
     "output_type": "stream",
     "text": [
      "\r",
      "  0%|          | 29/174706 [00:18<14:51:30,  3.27it/s]"
     ]
    },
    {
     "name": "stdout",
     "output_type": "stream",
     "text": [
      "Pos0 46\n",
      "/run/user/1000/gvfs/smb-share:server=lowe-sn00.biochem.ucl.ac.uk,share=lowegrp/Data/Manasi/MK0000/Pos0/gfp_tracks_2021_05_28_06_28_16_PM.h5 already loaded\n"
     ]
    },
    {
     "name": "stderr",
     "output_type": "stream",
     "text": [
      "\r",
      "  0%|          | 30/174706 [00:18<15:42:32,  3.09it/s]"
     ]
    },
    {
     "name": "stdout",
     "output_type": "stream",
     "text": [
      "Pos0 46\n",
      "/run/user/1000/gvfs/smb-share:server=lowe-sn00.biochem.ucl.ac.uk,share=lowegrp/Data/Manasi/MK0000/Pos0/gfp_tracks_2021_05_28_06_28_16_PM.h5 already loaded\n"
     ]
    },
    {
     "name": "stderr",
     "output_type": "stream",
     "text": [
      "\r",
      "  0%|          | 31/174706 [00:18<15:43:27,  3.09it/s]"
     ]
    },
    {
     "name": "stdout",
     "output_type": "stream",
     "text": [
      "Pos0 46\n",
      "/run/user/1000/gvfs/smb-share:server=lowe-sn00.biochem.ucl.ac.uk,share=lowegrp/Data/Manasi/MK0000/Pos0/gfp_tracks_2021_05_28_06_28_16_PM.h5 already loaded\n"
     ]
    },
    {
     "name": "stderr",
     "output_type": "stream",
     "text": [
      "\r",
      "  0%|          | 32/174706 [00:19<15:38:04,  3.10it/s]"
     ]
    },
    {
     "name": "stdout",
     "output_type": "stream",
     "text": [
      "Pos0 46\n",
      "/run/user/1000/gvfs/smb-share:server=lowe-sn00.biochem.ucl.ac.uk,share=lowegrp/Data/Manasi/MK0000/Pos0/gfp_tracks_2021_05_28_06_28_16_PM.h5 already loaded\n"
     ]
    },
    {
     "name": "stderr",
     "output_type": "stream",
     "text": [
      "\r",
      "  0%|          | 33/174706 [00:19<16:28:32,  2.94it/s]"
     ]
    },
    {
     "name": "stdout",
     "output_type": "stream",
     "text": [
      "Pos0 46\n",
      "/run/user/1000/gvfs/smb-share:server=lowe-sn00.biochem.ucl.ac.uk,share=lowegrp/Data/Manasi/MK0000/Pos0/gfp_tracks_2021_05_28_06_28_16_PM.h5 already loaded\n"
     ]
    },
    {
     "name": "stderr",
     "output_type": "stream",
     "text": [
      "\r",
      "  0%|          | 34/174706 [00:19<16:01:13,  3.03it/s]"
     ]
    },
    {
     "name": "stdout",
     "output_type": "stream",
     "text": [
      "Pos0 46\n",
      "/run/user/1000/gvfs/smb-share:server=lowe-sn00.biochem.ucl.ac.uk,share=lowegrp/Data/Manasi/MK0000/Pos0/gfp_tracks_2021_05_28_06_28_16_PM.h5 already loaded\n"
     ]
    },
    {
     "name": "stderr",
     "output_type": "stream",
     "text": [
      "\r",
      "  0%|          | 35/174706 [00:20<15:50:03,  3.06it/s]"
     ]
    },
    {
     "name": "stdout",
     "output_type": "stream",
     "text": [
      "Pos0 46\n",
      "/run/user/1000/gvfs/smb-share:server=lowe-sn00.biochem.ucl.ac.uk,share=lowegrp/Data/Manasi/MK0000/Pos0/gfp_tracks_2021_05_28_06_28_16_PM.h5 already loaded\n"
     ]
    },
    {
     "name": "stderr",
     "output_type": "stream",
     "text": [
      "\r",
      "  0%|          | 36/174706 [00:20<15:14:50,  3.18it/s]"
     ]
    },
    {
     "name": "stdout",
     "output_type": "stream",
     "text": [
      "Pos0 46\n",
      "/run/user/1000/gvfs/smb-share:server=lowe-sn00.biochem.ucl.ac.uk,share=lowegrp/Data/Manasi/MK0000/Pos0/gfp_tracks_2021_05_28_06_28_16_PM.h5 already loaded\n"
     ]
    },
    {
     "name": "stderr",
     "output_type": "stream",
     "text": [
      "\r",
      "  0%|          | 37/174706 [00:20<15:40:46,  3.09it/s]"
     ]
    },
    {
     "name": "stdout",
     "output_type": "stream",
     "text": [
      "Pos0 46\n",
      "/run/user/1000/gvfs/smb-share:server=lowe-sn00.biochem.ucl.ac.uk,share=lowegrp/Data/Manasi/MK0000/Pos0/gfp_tracks_2021_05_28_06_28_16_PM.h5 already loaded\n"
     ]
    },
    {
     "name": "stderr",
     "output_type": "stream",
     "text": [
      "\r",
      "  0%|          | 38/174706 [00:21<14:47:18,  3.28it/s]"
     ]
    },
    {
     "name": "stdout",
     "output_type": "stream",
     "text": [
      "Pos0 46\n",
      "/run/user/1000/gvfs/smb-share:server=lowe-sn00.biochem.ucl.ac.uk,share=lowegrp/Data/Manasi/MK0000/Pos0/gfp_tracks_2021_05_28_06_28_16_PM.h5 already loaded\n"
     ]
    },
    {
     "name": "stderr",
     "output_type": "stream",
     "text": [
      "\r",
      "  0%|          | 39/174706 [00:21<15:02:23,  3.23it/s]"
     ]
    },
    {
     "name": "stdout",
     "output_type": "stream",
     "text": [
      "Pos0 46\n",
      "/run/user/1000/gvfs/smb-share:server=lowe-sn00.biochem.ucl.ac.uk,share=lowegrp/Data/Manasi/MK0000/Pos0/gfp_tracks_2021_05_28_06_28_16_PM.h5 already loaded\n"
     ]
    },
    {
     "name": "stderr",
     "output_type": "stream",
     "text": [
      "\r",
      "  0%|          | 40/174706 [00:21<15:35:24,  3.11it/s]"
     ]
    },
    {
     "name": "stdout",
     "output_type": "stream",
     "text": [
      "Pos0 46\n",
      "/run/user/1000/gvfs/smb-share:server=lowe-sn00.biochem.ucl.ac.uk,share=lowegrp/Data/Manasi/MK0000/Pos0/gfp_tracks_2021_05_28_06_28_16_PM.h5 already loaded\n"
     ]
    },
    {
     "name": "stderr",
     "output_type": "stream",
     "text": [
      "\r",
      "  0%|          | 41/174706 [00:22<15:32:16,  3.12it/s]"
     ]
    },
    {
     "name": "stdout",
     "output_type": "stream",
     "text": [
      "Pos0 46\n",
      "/run/user/1000/gvfs/smb-share:server=lowe-sn00.biochem.ucl.ac.uk,share=lowegrp/Data/Manasi/MK0000/Pos0/gfp_tracks_2021_05_28_06_28_16_PM.h5 already loaded\n"
     ]
    },
    {
     "name": "stderr",
     "output_type": "stream",
     "text": [
      "\r",
      "  0%|          | 42/174706 [00:22<16:05:37,  3.01it/s]"
     ]
    },
    {
     "name": "stdout",
     "output_type": "stream",
     "text": [
      "Pos0 46\n",
      "/run/user/1000/gvfs/smb-share:server=lowe-sn00.biochem.ucl.ac.uk,share=lowegrp/Data/Manasi/MK0000/Pos0/gfp_tracks_2021_05_28_06_28_16_PM.h5 already loaded\n"
     ]
    },
    {
     "name": "stderr",
     "output_type": "stream",
     "text": [
      "\r",
      "  0%|          | 43/174706 [00:22<15:18:02,  3.17it/s]"
     ]
    },
    {
     "name": "stdout",
     "output_type": "stream",
     "text": [
      "Pos0 46\n",
      "/run/user/1000/gvfs/smb-share:server=lowe-sn00.biochem.ucl.ac.uk,share=lowegrp/Data/Manasi/MK0000/Pos0/gfp_tracks_2021_05_28_06_28_16_PM.h5 already loaded\n"
     ]
    },
    {
     "name": "stderr",
     "output_type": "stream",
     "text": [
      "\r",
      "  0%|          | 44/174706 [00:23<15:09:41,  3.20it/s]"
     ]
    },
    {
     "name": "stdout",
     "output_type": "stream",
     "text": [
      "Pos0 46\n",
      "/run/user/1000/gvfs/smb-share:server=lowe-sn00.biochem.ucl.ac.uk,share=lowegrp/Data/Manasi/MK0000/Pos0/gfp_tracks_2021_05_28_06_28_16_PM.h5 already loaded\n"
     ]
    },
    {
     "name": "stderr",
     "output_type": "stream",
     "text": [
      "\r",
      "  0%|          | 45/174706 [00:23<15:08:56,  3.20it/s]"
     ]
    },
    {
     "name": "stdout",
     "output_type": "stream",
     "text": [
      "Pos0 46\n",
      "/run/user/1000/gvfs/smb-share:server=lowe-sn00.biochem.ucl.ac.uk,share=lowegrp/Data/Manasi/MK0000/Pos0/gfp_tracks_2021_05_28_06_28_16_PM.h5 already loaded\n"
     ]
    },
    {
     "name": "stderr",
     "output_type": "stream",
     "text": [
      "\r",
      "  0%|          | 46/174706 [00:23<14:57:07,  3.24it/s]"
     ]
    },
    {
     "name": "stdout",
     "output_type": "stream",
     "text": [
      "Pos0 46\n",
      "/run/user/1000/gvfs/smb-share:server=lowe-sn00.biochem.ucl.ac.uk,share=lowegrp/Data/Manasi/MK0000/Pos0/gfp_tracks_2021_05_28_06_28_16_PM.h5 already loaded\n"
     ]
    },
    {
     "name": "stderr",
     "output_type": "stream",
     "text": [
      "\r",
      "  0%|          | 47/174706 [00:24<15:41:28,  3.09it/s]"
     ]
    },
    {
     "name": "stdout",
     "output_type": "stream",
     "text": [
      "Pos0 46\n",
      "/run/user/1000/gvfs/smb-share:server=lowe-sn00.biochem.ucl.ac.uk,share=lowegrp/Data/Manasi/MK0000/Pos0/gfp_tracks_2021_05_28_06_28_16_PM.h5 already loaded\n"
     ]
    },
    {
     "name": "stderr",
     "output_type": "stream",
     "text": [
      "\r",
      "  0%|          | 48/174706 [00:24<15:04:34,  3.22it/s]"
     ]
    },
    {
     "name": "stdout",
     "output_type": "stream",
     "text": [
      "Pos0 46\n",
      "/run/user/1000/gvfs/smb-share:server=lowe-sn00.biochem.ucl.ac.uk,share=lowegrp/Data/Manasi/MK0000/Pos0/gfp_tracks_2021_05_28_06_28_16_PM.h5 already loaded\n"
     ]
    },
    {
     "name": "stderr",
     "output_type": "stream",
     "text": [
      "\r",
      "  0%|          | 49/174706 [00:24<15:16:27,  3.18it/s]"
     ]
    },
    {
     "name": "stdout",
     "output_type": "stream",
     "text": [
      "Pos0 46\n",
      "/run/user/1000/gvfs/smb-share:server=lowe-sn00.biochem.ucl.ac.uk,share=lowegrp/Data/Manasi/MK0000/Pos0/gfp_tracks_2021_05_28_06_28_16_PM.h5 already loaded\n"
     ]
    },
    {
     "name": "stderr",
     "output_type": "stream",
     "text": [
      "\r",
      "  0%|          | 50/174706 [00:24<14:43:19,  3.30it/s]"
     ]
    },
    {
     "name": "stdout",
     "output_type": "stream",
     "text": [
      "Pos0 46\n",
      "/run/user/1000/gvfs/smb-share:server=lowe-sn00.biochem.ucl.ac.uk,share=lowegrp/Data/Manasi/MK0000/Pos0/gfp_tracks_2021_05_28_06_28_16_PM.h5 already loaded\n"
     ]
    },
    {
     "name": "stderr",
     "output_type": "stream",
     "text": [
      "\r",
      "  0%|          | 51/174706 [00:25<15:22:37,  3.16it/s]"
     ]
    },
    {
     "name": "stdout",
     "output_type": "stream",
     "text": [
      "Pos0 46\n",
      "/run/user/1000/gvfs/smb-share:server=lowe-sn00.biochem.ucl.ac.uk,share=lowegrp/Data/Manasi/MK0000/Pos0/gfp_tracks_2021_05_28_06_28_16_PM.h5 already loaded\n"
     ]
    },
    {
     "name": "stderr",
     "output_type": "stream",
     "text": [
      "\r",
      "  0%|          | 52/174706 [00:25<15:07:46,  3.21it/s]"
     ]
    },
    {
     "name": "stdout",
     "output_type": "stream",
     "text": [
      "Pos0 46\n",
      "/run/user/1000/gvfs/smb-share:server=lowe-sn00.biochem.ucl.ac.uk,share=lowegrp/Data/Manasi/MK0000/Pos0/gfp_tracks_2021_05_28_06_28_16_PM.h5 already loaded\n"
     ]
    },
    {
     "name": "stderr",
     "output_type": "stream",
     "text": [
      "\r",
      "  0%|          | 53/174706 [00:25<15:02:36,  3.22it/s]"
     ]
    },
    {
     "name": "stdout",
     "output_type": "stream",
     "text": [
      "Pos0 46\n",
      "/run/user/1000/gvfs/smb-share:server=lowe-sn00.biochem.ucl.ac.uk,share=lowegrp/Data/Manasi/MK0000/Pos0/gfp_tracks_2021_05_28_06_28_16_PM.h5 already loaded\n"
     ]
    },
    {
     "name": "stderr",
     "output_type": "stream",
     "text": [
      "\r",
      "  0%|          | 54/174706 [00:26<15:14:27,  3.18it/s]"
     ]
    },
    {
     "name": "stdout",
     "output_type": "stream",
     "text": [
      "Pos0 46\n",
      "/run/user/1000/gvfs/smb-share:server=lowe-sn00.biochem.ucl.ac.uk,share=lowegrp/Data/Manasi/MK0000/Pos0/gfp_tracks_2021_05_28_06_28_16_PM.h5 already loaded\n"
     ]
    },
    {
     "name": "stderr",
     "output_type": "stream",
     "text": [
      "\r",
      "  0%|          | 55/174706 [00:26<14:53:12,  3.26it/s]"
     ]
    },
    {
     "name": "stdout",
     "output_type": "stream",
     "text": [
      "Pos0 46\n",
      "/run/user/1000/gvfs/smb-share:server=lowe-sn00.biochem.ucl.ac.uk,share=lowegrp/Data/Manasi/MK0000/Pos0/gfp_tracks_2021_05_28_06_28_16_PM.h5 already loaded\n"
     ]
    },
    {
     "name": "stderr",
     "output_type": "stream",
     "text": [
      "\r",
      "  0%|          | 56/174706 [00:26<14:42:18,  3.30it/s]"
     ]
    },
    {
     "name": "stdout",
     "output_type": "stream",
     "text": [
      "Pos0 46\n",
      "/run/user/1000/gvfs/smb-share:server=lowe-sn00.biochem.ucl.ac.uk,share=lowegrp/Data/Manasi/MK0000/Pos0/gfp_tracks_2021_05_28_06_28_16_PM.h5 already loaded\n"
     ]
    },
    {
     "name": "stderr",
     "output_type": "stream",
     "text": [
      "\r",
      "  0%|          | 57/174706 [00:27<15:14:25,  3.18it/s]"
     ]
    },
    {
     "name": "stdout",
     "output_type": "stream",
     "text": [
      "Pos0 46\n",
      "/run/user/1000/gvfs/smb-share:server=lowe-sn00.biochem.ucl.ac.uk,share=lowegrp/Data/Manasi/MK0000/Pos0/gfp_tracks_2021_05_28_06_28_16_PM.h5 already loaded\n"
     ]
    },
    {
     "name": "stderr",
     "output_type": "stream",
     "text": [
      "\r",
      "  0%|          | 58/174706 [00:27<14:44:36,  3.29it/s]"
     ]
    },
    {
     "name": "stdout",
     "output_type": "stream",
     "text": [
      "Pos0 46\n",
      "/run/user/1000/gvfs/smb-share:server=lowe-sn00.biochem.ucl.ac.uk,share=lowegrp/Data/Manasi/MK0000/Pos0/gfp_tracks_2021_05_28_06_28_16_PM.h5 already loaded\n"
     ]
    },
    {
     "name": "stderr",
     "output_type": "stream",
     "text": [
      "\r",
      "  0%|          | 59/174706 [00:27<14:59:15,  3.24it/s]"
     ]
    },
    {
     "name": "stdout",
     "output_type": "stream",
     "text": [
      "Pos0 46\n",
      "/run/user/1000/gvfs/smb-share:server=lowe-sn00.biochem.ucl.ac.uk,share=lowegrp/Data/Manasi/MK0000/Pos0/gfp_tracks_2021_05_28_06_28_16_PM.h5 already loaded\n"
     ]
    },
    {
     "name": "stderr",
     "output_type": "stream",
     "text": [
      "\r",
      "  0%|          | 60/174706 [00:28<15:24:37,  3.15it/s]"
     ]
    },
    {
     "name": "stdout",
     "output_type": "stream",
     "text": [
      "Pos0 46\n",
      "/run/user/1000/gvfs/smb-share:server=lowe-sn00.biochem.ucl.ac.uk,share=lowegrp/Data/Manasi/MK0000/Pos0/gfp_tracks_2021_05_28_06_28_16_PM.h5 already loaded\n"
     ]
    },
    {
     "name": "stderr",
     "output_type": "stream",
     "text": [
      "\r",
      "  0%|          | 61/174706 [00:28<15:46:47,  3.07it/s]"
     ]
    },
    {
     "name": "stdout",
     "output_type": "stream",
     "text": [
      "Pos0 46\n",
      "/run/user/1000/gvfs/smb-share:server=lowe-sn00.biochem.ucl.ac.uk,share=lowegrp/Data/Manasi/MK0000/Pos0/gfp_tracks_2021_05_28_06_28_16_PM.h5 already loaded\n"
     ]
    },
    {
     "name": "stderr",
     "output_type": "stream",
     "text": [
      "\r",
      "  0%|          | 62/174706 [00:28<18:14:34,  2.66it/s]"
     ]
    },
    {
     "name": "stdout",
     "output_type": "stream",
     "text": [
      "Pos0 46\n",
      "/run/user/1000/gvfs/smb-share:server=lowe-sn00.biochem.ucl.ac.uk,share=lowegrp/Data/Manasi/MK0000/Pos0/gfp_tracks_2021_05_28_06_28_16_PM.h5 already loaded\n"
     ]
    },
    {
     "name": "stderr",
     "output_type": "stream",
     "text": [
      "\r",
      "  0%|          | 63/174706 [00:29<17:54:18,  2.71it/s]"
     ]
    },
    {
     "name": "stdout",
     "output_type": "stream",
     "text": [
      "Pos0 46\n",
      "/run/user/1000/gvfs/smb-share:server=lowe-sn00.biochem.ucl.ac.uk,share=lowegrp/Data/Manasi/MK0000/Pos0/gfp_tracks_2021_05_28_06_28_16_PM.h5 already loaded\n"
     ]
    },
    {
     "name": "stderr",
     "output_type": "stream",
     "text": [
      "\r",
      "  0%|          | 64/174706 [00:29<17:29:50,  2.77it/s]"
     ]
    },
    {
     "name": "stdout",
     "output_type": "stream",
     "text": [
      "Pos0 46\n",
      "/run/user/1000/gvfs/smb-share:server=lowe-sn00.biochem.ucl.ac.uk,share=lowegrp/Data/Manasi/MK0000/Pos0/gfp_tracks_2021_05_28_06_28_16_PM.h5 already loaded\n"
     ]
    },
    {
     "name": "stderr",
     "output_type": "stream",
     "text": [
      "\r",
      "  0%|          | 65/174706 [00:29<16:47:29,  2.89it/s]"
     ]
    },
    {
     "name": "stdout",
     "output_type": "stream",
     "text": [
      "Pos0 46\n",
      "/run/user/1000/gvfs/smb-share:server=lowe-sn00.biochem.ucl.ac.uk,share=lowegrp/Data/Manasi/MK0000/Pos0/gfp_tracks_2021_05_28_06_28_16_PM.h5 already loaded\n"
     ]
    },
    {
     "name": "stderr",
     "output_type": "stream",
     "text": [
      "\r",
      "  0%|          | 66/174706 [00:30<16:14:42,  2.99it/s]"
     ]
    },
    {
     "name": "stdout",
     "output_type": "stream",
     "text": [
      "Pos0 46\n",
      "/run/user/1000/gvfs/smb-share:server=lowe-sn00.biochem.ucl.ac.uk,share=lowegrp/Data/Manasi/MK0000/Pos0/gfp_tracks_2021_05_28_06_28_16_PM.h5 already loaded\n"
     ]
    },
    {
     "name": "stderr",
     "output_type": "stream",
     "text": [
      "\r",
      "  0%|          | 67/174706 [00:30<16:16:32,  2.98it/s]"
     ]
    },
    {
     "name": "stdout",
     "output_type": "stream",
     "text": [
      "Pos0 46\n",
      "/run/user/1000/gvfs/smb-share:server=lowe-sn00.biochem.ucl.ac.uk,share=lowegrp/Data/Manasi/MK0000/Pos0/gfp_tracks_2021_05_28_06_28_16_PM.h5 already loaded\n"
     ]
    },
    {
     "name": "stderr",
     "output_type": "stream",
     "text": [
      "\r",
      "  0%|          | 68/174706 [00:30<16:09:05,  3.00it/s]"
     ]
    },
    {
     "name": "stdout",
     "output_type": "stream",
     "text": [
      "Pos0 46\n",
      "/run/user/1000/gvfs/smb-share:server=lowe-sn00.biochem.ucl.ac.uk,share=lowegrp/Data/Manasi/MK0000/Pos0/gfp_tracks_2021_05_28_06_28_16_PM.h5 already loaded\n"
     ]
    },
    {
     "name": "stderr",
     "output_type": "stream",
     "text": [
      "\r",
      "  0%|          | 69/174706 [00:31<15:55:44,  3.05it/s]"
     ]
    },
    {
     "name": "stdout",
     "output_type": "stream",
     "text": [
      "Pos0 46\n",
      "/run/user/1000/gvfs/smb-share:server=lowe-sn00.biochem.ucl.ac.uk,share=lowegrp/Data/Manasi/MK0000/Pos0/gfp_tracks_2021_05_28_06_28_16_PM.h5 already loaded\n"
     ]
    },
    {
     "name": "stderr",
     "output_type": "stream",
     "text": [
      "\r",
      "  0%|          | 70/174706 [00:31<15:55:46,  3.05it/s]"
     ]
    },
    {
     "name": "stdout",
     "output_type": "stream",
     "text": [
      "Pos0 46\n",
      "/run/user/1000/gvfs/smb-share:server=lowe-sn00.biochem.ucl.ac.uk,share=lowegrp/Data/Manasi/MK0000/Pos0/gfp_tracks_2021_05_28_06_28_16_PM.h5 already loaded\n"
     ]
    },
    {
     "name": "stderr",
     "output_type": "stream",
     "text": [
      "\r",
      "  0%|          | 71/174706 [00:31<15:56:45,  3.04it/s]"
     ]
    },
    {
     "name": "stdout",
     "output_type": "stream",
     "text": [
      "Pos0 46\n",
      "/run/user/1000/gvfs/smb-share:server=lowe-sn00.biochem.ucl.ac.uk,share=lowegrp/Data/Manasi/MK0000/Pos0/gfp_tracks_2021_05_28_06_28_16_PM.h5 already loaded\n"
     ]
    },
    {
     "name": "stderr",
     "output_type": "stream",
     "text": [
      "\r",
      "  0%|          | 72/174706 [00:32<15:49:03,  3.07it/s]"
     ]
    },
    {
     "name": "stdout",
     "output_type": "stream",
     "text": [
      "Pos0 46\n",
      "/run/user/1000/gvfs/smb-share:server=lowe-sn00.biochem.ucl.ac.uk,share=lowegrp/Data/Manasi/MK0000/Pos0/gfp_tracks_2021_05_28_06_28_16_PM.h5 already loaded\n"
     ]
    },
    {
     "name": "stderr",
     "output_type": "stream",
     "text": [
      "\r",
      "  0%|          | 73/174706 [00:32<16:06:36,  3.01it/s]"
     ]
    },
    {
     "name": "stdout",
     "output_type": "stream",
     "text": [
      "Pos0 46\n",
      "/run/user/1000/gvfs/smb-share:server=lowe-sn00.biochem.ucl.ac.uk,share=lowegrp/Data/Manasi/MK0000/Pos0/gfp_tracks_2021_05_28_06_28_16_PM.h5 already loaded\n"
     ]
    },
    {
     "name": "stderr",
     "output_type": "stream",
     "text": [
      "\r",
      "  0%|          | 74/174706 [00:32<16:38:35,  2.91it/s]"
     ]
    },
    {
     "name": "stdout",
     "output_type": "stream",
     "text": [
      "Pos0 46\n",
      "/run/user/1000/gvfs/smb-share:server=lowe-sn00.biochem.ucl.ac.uk,share=lowegrp/Data/Manasi/MK0000/Pos0/gfp_tracks_2021_05_28_06_28_16_PM.h5 already loaded\n"
     ]
    },
    {
     "name": "stderr",
     "output_type": "stream",
     "text": [
      "\r",
      "  0%|          | 75/174706 [00:33<15:30:14,  3.13it/s]"
     ]
    },
    {
     "name": "stdout",
     "output_type": "stream",
     "text": [
      "Pos0 46\n",
      "/run/user/1000/gvfs/smb-share:server=lowe-sn00.biochem.ucl.ac.uk,share=lowegrp/Data/Manasi/MK0000/Pos0/gfp_tracks_2021_05_28_06_28_16_PM.h5 already loaded\n"
     ]
    },
    {
     "name": "stderr",
     "output_type": "stream",
     "text": [
      "\r",
      "  0%|          | 76/174706 [00:33<15:37:48,  3.10it/s]"
     ]
    },
    {
     "name": "stdout",
     "output_type": "stream",
     "text": [
      "Pos0 46\n",
      "/run/user/1000/gvfs/smb-share:server=lowe-sn00.biochem.ucl.ac.uk,share=lowegrp/Data/Manasi/MK0000/Pos0/gfp_tracks_2021_05_28_06_28_16_PM.h5 already loaded\n"
     ]
    },
    {
     "name": "stderr",
     "output_type": "stream",
     "text": [
      "\r",
      "  0%|          | 77/174706 [00:33<15:44:33,  3.08it/s]"
     ]
    },
    {
     "name": "stdout",
     "output_type": "stream",
     "text": [
      "Pos0 46\n",
      "/run/user/1000/gvfs/smb-share:server=lowe-sn00.biochem.ucl.ac.uk,share=lowegrp/Data/Manasi/MK0000/Pos0/gfp_tracks_2021_05_28_06_28_16_PM.h5 already loaded\n"
     ]
    },
    {
     "name": "stderr",
     "output_type": "stream",
     "text": [
      "\r",
      "  0%|          | 78/174706 [00:34<15:43:40,  3.08it/s]"
     ]
    },
    {
     "name": "stdout",
     "output_type": "stream",
     "text": [
      "Pos0 46\n",
      "/run/user/1000/gvfs/smb-share:server=lowe-sn00.biochem.ucl.ac.uk,share=lowegrp/Data/Manasi/MK0000/Pos0/gfp_tracks_2021_05_28_06_28_16_PM.h5 already loaded\n"
     ]
    },
    {
     "name": "stderr",
     "output_type": "stream",
     "text": [
      "\r",
      "  0%|          | 79/174706 [00:34<14:50:22,  3.27it/s]"
     ]
    },
    {
     "name": "stdout",
     "output_type": "stream",
     "text": [
      "Pos0 46\n",
      "/run/user/1000/gvfs/smb-share:server=lowe-sn00.biochem.ucl.ac.uk,share=lowegrp/Data/Manasi/MK0000/Pos0/gfp_tracks_2021_05_28_06_28_16_PM.h5 already loaded\n"
     ]
    },
    {
     "name": "stderr",
     "output_type": "stream",
     "text": [
      "\r",
      "  0%|          | 80/174706 [00:34<15:07:22,  3.21it/s]"
     ]
    },
    {
     "name": "stdout",
     "output_type": "stream",
     "text": [
      "Pos0 46\n",
      "/run/user/1000/gvfs/smb-share:server=lowe-sn00.biochem.ucl.ac.uk,share=lowegrp/Data/Manasi/MK0000/Pos0/gfp_tracks_2021_05_28_06_28_16_PM.h5 already loaded\n"
     ]
    },
    {
     "name": "stderr",
     "output_type": "stream",
     "text": [
      "\r",
      "  0%|          | 81/174706 [00:35<15:32:56,  3.12it/s]"
     ]
    },
    {
     "name": "stdout",
     "output_type": "stream",
     "text": [
      "Pos0 46\n",
      "/run/user/1000/gvfs/smb-share:server=lowe-sn00.biochem.ucl.ac.uk,share=lowegrp/Data/Manasi/MK0000/Pos0/gfp_tracks_2021_05_28_06_28_16_PM.h5 already loaded\n"
     ]
    },
    {
     "name": "stderr",
     "output_type": "stream",
     "text": [
      "\r",
      "  0%|          | 82/174706 [00:35<14:47:05,  3.28it/s]"
     ]
    },
    {
     "name": "stdout",
     "output_type": "stream",
     "text": [
      "Pos0 46\n",
      "/run/user/1000/gvfs/smb-share:server=lowe-sn00.biochem.ucl.ac.uk,share=lowegrp/Data/Manasi/MK0000/Pos0/gfp_tracks_2021_05_28_06_28_16_PM.h5 already loaded\n"
     ]
    },
    {
     "name": "stderr",
     "output_type": "stream",
     "text": [
      "\r",
      "  0%|          | 83/174706 [00:35<14:22:53,  3.37it/s]"
     ]
    },
    {
     "name": "stdout",
     "output_type": "stream",
     "text": [
      "Pos0 46\n",
      "/run/user/1000/gvfs/smb-share:server=lowe-sn00.biochem.ucl.ac.uk,share=lowegrp/Data/Manasi/MK0000/Pos0/gfp_tracks_2021_05_28_06_28_16_PM.h5 already loaded\n"
     ]
    },
    {
     "name": "stderr",
     "output_type": "stream",
     "text": [
      "\r",
      "  0%|          | 84/174706 [00:35<14:43:34,  3.29it/s]"
     ]
    },
    {
     "name": "stdout",
     "output_type": "stream",
     "text": [
      "Pos0 46\n",
      "/run/user/1000/gvfs/smb-share:server=lowe-sn00.biochem.ucl.ac.uk,share=lowegrp/Data/Manasi/MK0000/Pos0/gfp_tracks_2021_05_28_06_28_16_PM.h5 already loaded\n"
     ]
    },
    {
     "name": "stderr",
     "output_type": "stream",
     "text": [
      "\r",
      "  0%|          | 85/174706 [00:36<14:56:09,  3.25it/s]"
     ]
    },
    {
     "name": "stdout",
     "output_type": "stream",
     "text": [
      "Pos0 46\n",
      "/run/user/1000/gvfs/smb-share:server=lowe-sn00.biochem.ucl.ac.uk,share=lowegrp/Data/Manasi/MK0000/Pos0/gfp_tracks_2021_05_28_06_28_16_PM.h5 already loaded\n"
     ]
    },
    {
     "name": "stderr",
     "output_type": "stream",
     "text": [
      "\r",
      "  0%|          | 86/174706 [00:36<14:43:22,  3.29it/s]"
     ]
    },
    {
     "name": "stdout",
     "output_type": "stream",
     "text": [
      "Pos0 46\n",
      "/run/user/1000/gvfs/smb-share:server=lowe-sn00.biochem.ucl.ac.uk,share=lowegrp/Data/Manasi/MK0000/Pos0/gfp_tracks_2021_05_28_06_28_16_PM.h5 already loaded\n"
     ]
    },
    {
     "name": "stderr",
     "output_type": "stream",
     "text": [
      "\r",
      "  0%|          | 87/174706 [00:36<15:11:39,  3.19it/s]"
     ]
    },
    {
     "name": "stdout",
     "output_type": "stream",
     "text": [
      "Pos0 46\n",
      "/run/user/1000/gvfs/smb-share:server=lowe-sn00.biochem.ucl.ac.uk,share=lowegrp/Data/Manasi/MK0000/Pos0/gfp_tracks_2021_05_28_06_28_16_PM.h5 already loaded\n"
     ]
    },
    {
     "name": "stderr",
     "output_type": "stream",
     "text": [
      "\r",
      "  0%|          | 88/174706 [00:37<14:59:59,  3.23it/s]"
     ]
    },
    {
     "name": "stdout",
     "output_type": "stream",
     "text": [
      "Pos0 46\n",
      "/run/user/1000/gvfs/smb-share:server=lowe-sn00.biochem.ucl.ac.uk,share=lowegrp/Data/Manasi/MK0000/Pos0/gfp_tracks_2021_05_28_06_28_16_PM.h5 already loaded\n"
     ]
    },
    {
     "name": "stderr",
     "output_type": "stream",
     "text": [
      "\r",
      "  0%|          | 89/174706 [00:37<14:30:27,  3.34it/s]"
     ]
    },
    {
     "name": "stdout",
     "output_type": "stream",
     "text": [
      "Pos0 46\n",
      "/run/user/1000/gvfs/smb-share:server=lowe-sn00.biochem.ucl.ac.uk,share=lowegrp/Data/Manasi/MK0000/Pos0/gfp_tracks_2021_05_28_06_28_16_PM.h5 already loaded\n"
     ]
    },
    {
     "name": "stderr",
     "output_type": "stream",
     "text": [
      "\r",
      "  0%|          | 90/174706 [00:37<14:59:46,  3.23it/s]"
     ]
    },
    {
     "name": "stdout",
     "output_type": "stream",
     "text": [
      "Pos0 46\n",
      "/run/user/1000/gvfs/smb-share:server=lowe-sn00.biochem.ucl.ac.uk,share=lowegrp/Data/Manasi/MK0000/Pos0/gfp_tracks_2021_05_28_06_28_16_PM.h5 already loaded\n"
     ]
    },
    {
     "name": "stderr",
     "output_type": "stream",
     "text": [
      "\r",
      "  0%|          | 91/174706 [00:38<15:25:25,  3.14it/s]"
     ]
    },
    {
     "name": "stdout",
     "output_type": "stream",
     "text": [
      "Pos0 46\n",
      "/run/user/1000/gvfs/smb-share:server=lowe-sn00.biochem.ucl.ac.uk,share=lowegrp/Data/Manasi/MK0000/Pos0/gfp_tracks_2021_05_28_06_28_16_PM.h5 already loaded\n"
     ]
    },
    {
     "name": "stderr",
     "output_type": "stream",
     "text": [
      "\r",
      "  0%|          | 92/174706 [00:38<15:57:00,  3.04it/s]"
     ]
    },
    {
     "name": "stdout",
     "output_type": "stream",
     "text": [
      "Pos0 46\n",
      "/run/user/1000/gvfs/smb-share:server=lowe-sn00.biochem.ucl.ac.uk,share=lowegrp/Data/Manasi/MK0000/Pos0/gfp_tracks_2021_05_28_06_28_16_PM.h5 already loaded\n"
     ]
    },
    {
     "name": "stderr",
     "output_type": "stream",
     "text": [
      "\r",
      "  0%|          | 93/174706 [00:38<16:17:33,  2.98it/s]"
     ]
    },
    {
     "name": "stdout",
     "output_type": "stream",
     "text": [
      "Pos0 46\n",
      "/run/user/1000/gvfs/smb-share:server=lowe-sn00.biochem.ucl.ac.uk,share=lowegrp/Data/Manasi/MK0000/Pos0/gfp_tracks_2021_05_28_06_28_16_PM.h5 already loaded\n"
     ]
    },
    {
     "name": "stderr",
     "output_type": "stream",
     "text": [
      "\r",
      "  0%|          | 94/174706 [00:39<16:25:52,  2.95it/s]"
     ]
    },
    {
     "name": "stdout",
     "output_type": "stream",
     "text": [
      "Pos0 46\n",
      "/run/user/1000/gvfs/smb-share:server=lowe-sn00.biochem.ucl.ac.uk,share=lowegrp/Data/Manasi/MK0000/Pos0/gfp_tracks_2021_05_28_06_28_16_PM.h5 already loaded\n"
     ]
    },
    {
     "name": "stderr",
     "output_type": "stream",
     "text": [
      "\r",
      "  0%|          | 95/174706 [00:39<17:07:07,  2.83it/s]"
     ]
    },
    {
     "name": "stdout",
     "output_type": "stream",
     "text": [
      "Pos0 46\n",
      "/run/user/1000/gvfs/smb-share:server=lowe-sn00.biochem.ucl.ac.uk,share=lowegrp/Data/Manasi/MK0000/Pos0/gfp_tracks_2021_05_28_06_28_16_PM.h5 already loaded\n"
     ]
    },
    {
     "name": "stderr",
     "output_type": "stream",
     "text": [
      "\r",
      "  0%|          | 96/174706 [00:39<16:21:09,  2.97it/s]"
     ]
    },
    {
     "name": "stdout",
     "output_type": "stream",
     "text": [
      "Pos0 46\n",
      "/run/user/1000/gvfs/smb-share:server=lowe-sn00.biochem.ucl.ac.uk,share=lowegrp/Data/Manasi/MK0000/Pos0/gfp_tracks_2021_05_28_06_28_16_PM.h5 already loaded\n"
     ]
    },
    {
     "name": "stderr",
     "output_type": "stream",
     "text": [
      "\r",
      "  0%|          | 97/174706 [00:40<16:15:35,  2.98it/s]"
     ]
    },
    {
     "name": "stdout",
     "output_type": "stream",
     "text": [
      "Pos0 46\n",
      "/run/user/1000/gvfs/smb-share:server=lowe-sn00.biochem.ucl.ac.uk,share=lowegrp/Data/Manasi/MK0000/Pos0/gfp_tracks_2021_05_28_06_28_16_PM.h5 already loaded\n"
     ]
    },
    {
     "name": "stderr",
     "output_type": "stream",
     "text": [
      "\r",
      "  0%|          | 98/174706 [00:40<16:57:16,  2.86it/s]"
     ]
    },
    {
     "name": "stdout",
     "output_type": "stream",
     "text": [
      "Pos0 46\n",
      "/run/user/1000/gvfs/smb-share:server=lowe-sn00.biochem.ucl.ac.uk,share=lowegrp/Data/Manasi/MK0000/Pos0/gfp_tracks_2021_05_28_06_28_16_PM.h5 already loaded\n"
     ]
    },
    {
     "name": "stderr",
     "output_type": "stream",
     "text": [
      "\r",
      "  0%|          | 99/174706 [00:40<16:41:48,  2.90it/s]"
     ]
    },
    {
     "name": "stdout",
     "output_type": "stream",
     "text": [
      "Pos0 46\n",
      "/run/user/1000/gvfs/smb-share:server=lowe-sn00.biochem.ucl.ac.uk,share=lowegrp/Data/Manasi/MK0000/Pos0/gfp_tracks_2021_05_28_06_28_16_PM.h5 already loaded\n"
     ]
    },
    {
     "name": "stderr",
     "output_type": "stream",
     "text": [
      "\r",
      "  0%|          | 100/174706 [00:41<16:03:50,  3.02it/s]"
     ]
    },
    {
     "name": "stdout",
     "output_type": "stream",
     "text": [
      "Pos0 46\n",
      "/run/user/1000/gvfs/smb-share:server=lowe-sn00.biochem.ucl.ac.uk,share=lowegrp/Data/Manasi/MK0000/Pos0/gfp_tracks_2021_05_28_06_28_16_PM.h5 already loaded\n"
     ]
    },
    {
     "name": "stderr",
     "output_type": "stream",
     "text": [
      "\r",
      "  0%|          | 101/174706 [00:41<15:34:04,  3.12it/s]"
     ]
    },
    {
     "name": "stdout",
     "output_type": "stream",
     "text": [
      "Pos0 46\n",
      "/run/user/1000/gvfs/smb-share:server=lowe-sn00.biochem.ucl.ac.uk,share=lowegrp/Data/Manasi/MK0000/Pos0/gfp_tracks_2021_05_28_06_28_16_PM.h5 already loaded\n"
     ]
    },
    {
     "name": "stderr",
     "output_type": "stream",
     "text": [
      "\r",
      "  0%|          | 102/174706 [00:41<15:31:25,  3.12it/s]"
     ]
    },
    {
     "name": "stdout",
     "output_type": "stream",
     "text": [
      "Pos0 46\n",
      "/run/user/1000/gvfs/smb-share:server=lowe-sn00.biochem.ucl.ac.uk,share=lowegrp/Data/Manasi/MK0000/Pos0/gfp_tracks_2021_05_28_06_28_16_PM.h5 already loaded\n"
     ]
    },
    {
     "name": "stderr",
     "output_type": "stream",
     "text": [
      "\r",
      "  0%|          | 103/174706 [00:42<15:50:23,  3.06it/s]"
     ]
    },
    {
     "name": "stdout",
     "output_type": "stream",
     "text": [
      "Pos0 46\n",
      "/run/user/1000/gvfs/smb-share:server=lowe-sn00.biochem.ucl.ac.uk,share=lowegrp/Data/Manasi/MK0000/Pos0/gfp_tracks_2021_05_28_06_28_16_PM.h5 already loaded\n"
     ]
    },
    {
     "name": "stderr",
     "output_type": "stream",
     "text": [
      "\r",
      "  0%|          | 104/174706 [00:42<15:41:48,  3.09it/s]"
     ]
    },
    {
     "name": "stdout",
     "output_type": "stream",
     "text": [
      "Pos0 46\n",
      "/run/user/1000/gvfs/smb-share:server=lowe-sn00.biochem.ucl.ac.uk,share=lowegrp/Data/Manasi/MK0000/Pos0/gfp_tracks_2021_05_28_06_28_16_PM.h5 already loaded\n"
     ]
    },
    {
     "name": "stderr",
     "output_type": "stream",
     "text": [
      "\r",
      "  0%|          | 105/174706 [00:42<14:52:08,  3.26it/s]"
     ]
    },
    {
     "name": "stdout",
     "output_type": "stream",
     "text": [
      "Pos0 46\n",
      "/run/user/1000/gvfs/smb-share:server=lowe-sn00.biochem.ucl.ac.uk,share=lowegrp/Data/Manasi/MK0000/Pos0/gfp_tracks_2021_05_28_06_28_16_PM.h5 already loaded\n"
     ]
    },
    {
     "name": "stderr",
     "output_type": "stream",
     "text": [
      "\r",
      "  0%|          | 106/174706 [00:43<14:36:16,  3.32it/s]"
     ]
    },
    {
     "name": "stdout",
     "output_type": "stream",
     "text": [
      "Pos0 46\n",
      "/run/user/1000/gvfs/smb-share:server=lowe-sn00.biochem.ucl.ac.uk,share=lowegrp/Data/Manasi/MK0000/Pos0/gfp_tracks_2021_05_28_06_28_16_PM.h5 already loaded\n"
     ]
    },
    {
     "name": "stderr",
     "output_type": "stream",
     "text": [
      "\r",
      "  0%|          | 107/174706 [00:43<14:38:59,  3.31it/s]"
     ]
    },
    {
     "name": "stdout",
     "output_type": "stream",
     "text": [
      "Pos0 46\n",
      "/run/user/1000/gvfs/smb-share:server=lowe-sn00.biochem.ucl.ac.uk,share=lowegrp/Data/Manasi/MK0000/Pos0/gfp_tracks_2021_05_28_06_28_16_PM.h5 already loaded\n"
     ]
    },
    {
     "name": "stderr",
     "output_type": "stream",
     "text": [
      "\r",
      "  0%|          | 108/174706 [00:43<15:04:54,  3.22it/s]"
     ]
    },
    {
     "name": "stdout",
     "output_type": "stream",
     "text": [
      "Pos0 46\n",
      "/run/user/1000/gvfs/smb-share:server=lowe-sn00.biochem.ucl.ac.uk,share=lowegrp/Data/Manasi/MK0000/Pos0/gfp_tracks_2021_05_28_06_28_16_PM.h5 already loaded\n"
     ]
    },
    {
     "name": "stderr",
     "output_type": "stream",
     "text": [
      "\r",
      "  0%|          | 109/174706 [00:43<15:18:29,  3.17it/s]"
     ]
    },
    {
     "name": "stdout",
     "output_type": "stream",
     "text": [
      "Pos0 46\n",
      "/run/user/1000/gvfs/smb-share:server=lowe-sn00.biochem.ucl.ac.uk,share=lowegrp/Data/Manasi/MK0000/Pos0/gfp_tracks_2021_05_28_06_28_16_PM.h5 already loaded\n"
     ]
    },
    {
     "name": "stderr",
     "output_type": "stream",
     "text": [
      "\r",
      "  0%|          | 110/174706 [00:44<15:33:09,  3.12it/s]"
     ]
    },
    {
     "name": "stdout",
     "output_type": "stream",
     "text": [
      "Pos0 46\n",
      "/run/user/1000/gvfs/smb-share:server=lowe-sn00.biochem.ucl.ac.uk,share=lowegrp/Data/Manasi/MK0000/Pos0/gfp_tracks_2021_05_28_06_28_16_PM.h5 already loaded\n"
     ]
    },
    {
     "name": "stderr",
     "output_type": "stream",
     "text": [
      "\r",
      "  0%|          | 111/174706 [00:44<15:46:03,  3.08it/s]"
     ]
    },
    {
     "name": "stdout",
     "output_type": "stream",
     "text": [
      "Pos0 46\n",
      "/run/user/1000/gvfs/smb-share:server=lowe-sn00.biochem.ucl.ac.uk,share=lowegrp/Data/Manasi/MK0000/Pos0/gfp_tracks_2021_05_28_06_28_16_PM.h5 already loaded\n"
     ]
    },
    {
     "name": "stderr",
     "output_type": "stream",
     "text": [
      "\r",
      "  0%|          | 112/174706 [00:44<15:42:36,  3.09it/s]"
     ]
    },
    {
     "name": "stdout",
     "output_type": "stream",
     "text": [
      "Pos0 46\n",
      "/run/user/1000/gvfs/smb-share:server=lowe-sn00.biochem.ucl.ac.uk,share=lowegrp/Data/Manasi/MK0000/Pos0/gfp_tracks_2021_05_28_06_28_16_PM.h5 already loaded\n"
     ]
    },
    {
     "name": "stderr",
     "output_type": "stream",
     "text": [
      "\r",
      "  0%|          | 113/174706 [00:45<15:37:30,  3.10it/s]"
     ]
    },
    {
     "name": "stdout",
     "output_type": "stream",
     "text": [
      "Pos0 46\n",
      "/run/user/1000/gvfs/smb-share:server=lowe-sn00.biochem.ucl.ac.uk,share=lowegrp/Data/Manasi/MK0000/Pos0/gfp_tracks_2021_05_28_06_28_16_PM.h5 already loaded\n"
     ]
    },
    {
     "name": "stderr",
     "output_type": "stream",
     "text": [
      "\r",
      "  0%|          | 114/174706 [00:45<15:56:12,  3.04it/s]"
     ]
    },
    {
     "name": "stdout",
     "output_type": "stream",
     "text": [
      "Pos0 46\n",
      "/run/user/1000/gvfs/smb-share:server=lowe-sn00.biochem.ucl.ac.uk,share=lowegrp/Data/Manasi/MK0000/Pos0/gfp_tracks_2021_05_28_06_28_16_PM.h5 already loaded\n"
     ]
    },
    {
     "name": "stderr",
     "output_type": "stream",
     "text": [
      "\r",
      "  0%|          | 115/174706 [00:46<16:36:17,  2.92it/s]"
     ]
    },
    {
     "name": "stdout",
     "output_type": "stream",
     "text": [
      "Pos0 46\n",
      "/run/user/1000/gvfs/smb-share:server=lowe-sn00.biochem.ucl.ac.uk,share=lowegrp/Data/Manasi/MK0000/Pos0/gfp_tracks_2021_05_28_06_28_16_PM.h5 already loaded\n"
     ]
    },
    {
     "name": "stderr",
     "output_type": "stream",
     "text": [
      "\r",
      "  0%|          | 116/174706 [00:46<16:32:20,  2.93it/s]"
     ]
    },
    {
     "name": "stdout",
     "output_type": "stream",
     "text": [
      "Pos0 46\n",
      "/run/user/1000/gvfs/smb-share:server=lowe-sn00.biochem.ucl.ac.uk,share=lowegrp/Data/Manasi/MK0000/Pos0/gfp_tracks_2021_05_28_06_28_16_PM.h5 already loaded\n"
     ]
    },
    {
     "name": "stderr",
     "output_type": "stream",
     "text": [
      "\r",
      "  0%|          | 117/174706 [00:46<15:30:12,  3.13it/s]"
     ]
    },
    {
     "name": "stdout",
     "output_type": "stream",
     "text": [
      "Pos0 46\n",
      "/run/user/1000/gvfs/smb-share:server=lowe-sn00.biochem.ucl.ac.uk,share=lowegrp/Data/Manasi/MK0000/Pos0/gfp_tracks_2021_05_28_06_28_16_PM.h5 already loaded\n"
     ]
    },
    {
     "name": "stderr",
     "output_type": "stream",
     "text": [
      "\r",
      "  0%|          | 118/174706 [00:46<16:04:14,  3.02it/s]"
     ]
    },
    {
     "name": "stdout",
     "output_type": "stream",
     "text": [
      "Pos0 46\n",
      "/run/user/1000/gvfs/smb-share:server=lowe-sn00.biochem.ucl.ac.uk,share=lowegrp/Data/Manasi/MK0000/Pos0/gfp_tracks_2021_05_28_06_28_16_PM.h5 already loaded\n"
     ]
    },
    {
     "name": "stderr",
     "output_type": "stream",
     "text": [
      "\r",
      "  0%|          | 119/174706 [00:47<15:34:09,  3.11it/s]"
     ]
    },
    {
     "name": "stdout",
     "output_type": "stream",
     "text": [
      "Pos0 46\n",
      "/run/user/1000/gvfs/smb-share:server=lowe-sn00.biochem.ucl.ac.uk,share=lowegrp/Data/Manasi/MK0000/Pos0/gfp_tracks_2021_05_28_06_28_16_PM.h5 already loaded\n"
     ]
    },
    {
     "name": "stderr",
     "output_type": "stream",
     "text": [
      "\r",
      "  0%|          | 120/174706 [00:47<15:22:53,  3.15it/s]"
     ]
    },
    {
     "name": "stdout",
     "output_type": "stream",
     "text": [
      "Pos0 46\n",
      "/run/user/1000/gvfs/smb-share:server=lowe-sn00.biochem.ucl.ac.uk,share=lowegrp/Data/Manasi/MK0000/Pos0/gfp_tracks_2021_05_28_06_28_16_PM.h5 already loaded\n"
     ]
    },
    {
     "name": "stderr",
     "output_type": "stream",
     "text": [
      "\r",
      "  0%|          | 121/174706 [00:47<15:57:30,  3.04it/s]"
     ]
    },
    {
     "name": "stdout",
     "output_type": "stream",
     "text": [
      "Pos0 46\n",
      "/run/user/1000/gvfs/smb-share:server=lowe-sn00.biochem.ucl.ac.uk,share=lowegrp/Data/Manasi/MK0000/Pos0/gfp_tracks_2021_05_28_06_28_16_PM.h5 already loaded\n"
     ]
    },
    {
     "name": "stderr",
     "output_type": "stream",
     "text": [
      "\r",
      "  0%|          | 122/174706 [00:48<15:53:56,  3.05it/s]"
     ]
    },
    {
     "name": "stdout",
     "output_type": "stream",
     "text": [
      "Pos0 46\n",
      "/run/user/1000/gvfs/smb-share:server=lowe-sn00.biochem.ucl.ac.uk,share=lowegrp/Data/Manasi/MK0000/Pos0/gfp_tracks_2021_05_28_06_28_16_PM.h5 already loaded\n"
     ]
    },
    {
     "name": "stderr",
     "output_type": "stream",
     "text": [
      "\r",
      "  0%|          | 123/174706 [00:48<16:14:36,  2.99it/s]"
     ]
    },
    {
     "name": "stdout",
     "output_type": "stream",
     "text": [
      "Pos0 46\n",
      "/run/user/1000/gvfs/smb-share:server=lowe-sn00.biochem.ucl.ac.uk,share=lowegrp/Data/Manasi/MK0000/Pos0/gfp_tracks_2021_05_28_06_28_16_PM.h5 already loaded\n"
     ]
    },
    {
     "name": "stderr",
     "output_type": "stream",
     "text": [
      "\r",
      "  0%|          | 124/174706 [00:48<16:29:08,  2.94it/s]"
     ]
    },
    {
     "name": "stdout",
     "output_type": "stream",
     "text": [
      "Pos0 46\n",
      "/run/user/1000/gvfs/smb-share:server=lowe-sn00.biochem.ucl.ac.uk,share=lowegrp/Data/Manasi/MK0000/Pos0/gfp_tracks_2021_05_28_06_28_16_PM.h5 already loaded\n"
     ]
    },
    {
     "name": "stderr",
     "output_type": "stream",
     "text": [
      "\r",
      "  0%|          | 125/174706 [00:49<15:48:42,  3.07it/s]"
     ]
    }
   ],
   "source": [
    "masked_output_dir = os.path.join(glimpse_parent_folder, 'all_masked')\n",
    "Path(masked_output_dir).mkdir(parents=True, exist_ok=True)\n",
    "\n",
    "all_patches_dir = os.path.join(glimpse_parent_folder, 'all')\n",
    "files = natsorted([fn for fn in os.listdir(all_patches_dir) if '.tif' in fn])\n",
    "previous_tracks = []\n",
    "for fn in tqdm(files):\n",
    "    pos_name = re.findall(\"Pos\\d\", fn)[0]\n",
    "    cell_ID = int(re.findall(\"cell_ID_(\\d+)\", fn)[0])\n",
    "    \n",
    "    print(pos_name, cell_ID)\n",
    "    tracks_path_list = natsorted(glob.glob(os.path.join(expt_root_folder,'{}/{}/gfp*.h5'.format('MK0000',pos_name))))\n",
    "    if len(tracks_path_list) > 0:\n",
    "            tracks_path = tracks_path_list[-1]\n",
    "    else:\n",
    "        print(pos_name, cell_ID, 'couldnt load tracks')\n",
    "        continue\n",
    "    if tracks_path == previous_tracks:\n",
    "        print(tracks_path, 'already loaded')\n",
    "    else:\n",
    "        with btrack.dataio.HDF5FileHandler(tracks_path, 'r', obj_type = \"obj_type_3\") as hdf:\n",
    "            wt_tracks = hdf.tracks\n",
    "            print(tracks_path, 'loaded')\n",
    "            previous_tracks = tracks_path\n",
    "\n",
    "    ### load xyt, load mask, apply mask to image\n",
    "    cell = [cell for cell in wt_tracks if cell.ID == cell_ID][0]\n",
    "    time = int(re.findall(\"_t(\\d+)\", fn)[0])\n",
    "    x, y = cell.x[cell.t.index(time)], cell.y[cell.t.index(time)]\n",
    "    \n",
    "    ### load mask \n",
    "    mask_dir = os.path.join(expt_root_folder,'{}/{}/{}_cp_masks'.format('MK0000',pos_name, pos_name))\n",
    "    mask_fn = natsorted(os.listdir(mask_dir))[time]\n",
    "    mask_image = imread(os.path.join(mask_dir, mask_fn))\n",
    "    ### load corresponding image\n",
    "    image = imread(os.path.join(all_patches_dir,fn))\n",
    "    \n",
    "    ### crop mask image\n",
    "    size = int(glimpse_size[0])\n",
    "    ### obtain coordinates of bounding box of glimpse (centered on cell)\n",
    "    x1, x2, y1, y2 = x, x+size, y, y+size #coordinates to crop by, shifted bearing in mind a further coord shift (+100,+100) occurs due to image padding            \n",
    "    ### pad image incase cell goes off FOV\n",
    "    mask_image_pad = np.pad(mask_image, int(size/2), 'constant', constant_values = 0) \n",
    "    ## cropping original image\n",
    "    cropped_mask = mask_image_pad[int(y1): int(y2), int(x1): int(x2)]#[int(x1): int(x2), int(y1): int(y2)]\n",
    "    ## finding pixel value of mask of interest\n",
    "    pix_value = cropped_mask[int(size/2),int(size/2)]\n",
    "    ### isolating mask of interest and assigning binary pix value\n",
    "    true_mask = (cropped_mask == pix_value)*1\n",
    "    ### applying mask to original glimpse\n",
    "    true_glimpse = (true_mask*image).astype('uint16')\n",
    "    ### save out\n",
    "    imsave(os.path.join(masked_output_dir, fn), true_glimpse) \n"
   ]
  },
  {
   "cell_type": "code",
   "execution_count": 167,
   "metadata": {},
   "outputs": [
    {
     "data": {
      "text/plain": [
       "'Pos0_cell_ID_1445_channel003_t96_age0.0.tif'"
      ]
     },
     "execution_count": 167,
     "metadata": {},
     "output_type": "execute_result"
    }
   ],
   "source": [
    "fn"
   ]
  },
  {
   "cell_type": "code",
   "execution_count": 165,
   "metadata": {},
   "outputs": [
    {
     "data": {
      "text/plain": [
       "<matplotlib.image.AxesImage at 0x7fa8894f8b20>"
      ]
     },
     "execution_count": 165,
     "metadata": {},
     "output_type": "execute_result"
    },
    {
     "data": {
      "image/png": "[encoded data removed]",
      "text/plain": [
       "<Figure size 432x288 with 2 Axes>"
      ]
     },
     "metadata": {
      "needs_background": "light"
     },
     "output_type": "display_data"
    }
   ],
   "source": [
    "imshow(mask_image)"
   ]
  },
  {
   "cell_type": "code",
   "execution_count": 177,
   "metadata": {},
   "outputs": [
    {
     "data": {
      "text/plain": [
       "(637.6248168945312, 142.41329956054688)"
      ]
     },
     "execution_count": 177,
     "metadata": {},
     "output_type": "execute_result"
    }
   ],
   "source": [
    "x, y"
   ]
  },
  {
   "cell_type": "code",
   "execution_count": 166,
   "metadata": {},
   "outputs": [
    {
     "data": {
      "text/plain": [
       "'img_channel001_position000_time000000096_z000_cp_masks.png'"
      ]
     },
     "execution_count": 166,
     "metadata": {},
     "output_type": "execute_result"
    }
   ],
   "source": [
    "mask_fn"
   ]
  },
  {
   "cell_type": "code",
   "execution_count": 140,
   "metadata": {},
   "outputs": [],
   "source": [
    "size = int(glimpse_size[0])\n",
    "### obtain coordinates of bounding box of glimpse (centered on cell)\n",
    "x1, x2, y1, y2 = x, x+size, y, y+size #coordinates to crop by, shifted bearing in mind a further coord shift (+100,+100) occurs due to image padding            \n",
    "### pad image incase cell goes off FOV\n",
    "mask_image_pad = np.pad(mask_image, int(size/2), 'constant', constant_values = 0) \n",
    "## glimpse creation by cropping original image\n",
    "cropped_mask = mask_image_pad[int(y1): int(y2), int(x1): int(x2)]#transposed "
   ]
  },
  {
   "cell_type": "code",
   "execution_count": 168,
   "metadata": {},
   "outputs": [
    {
     "data": {
      "text/plain": [
       "<matplotlib.image.AxesImage at 0x7fa881616100>"
      ]
     },
     "execution_count": 168,
     "metadata": {},
     "output_type": "execute_result"
    },
    {
     "data": {
      "image/png": "[encoded data removed]",
      "text/plain": [
       "<Figure size 432x288 with 2 Axes>"
      ]
     },
     "metadata": {
      "needs_background": "light"
     },
     "output_type": "display_data"
    }
   ],
   "source": [
    "imshow(cropped_mask)"
   ]
  },
  {
   "cell_type": "code",
   "execution_count": 151,
   "metadata": {},
   "outputs": [
    {
     "data": {
      "text/plain": [
       "32"
      ]
     },
     "execution_count": 151,
     "metadata": {},
     "output_type": "execute_result"
    }
   ],
   "source": [
    "int(size/2)"
   ]
  },
  {
   "cell_type": "code",
   "execution_count": 170,
   "metadata": {},
   "outputs": [],
   "source": [
    "pix_value = cropped_mask[int(size/2),int(size/2)]"
   ]
  },
  {
   "cell_type": "code",
   "execution_count": 171,
   "metadata": {},
   "outputs": [
    {
     "data": {
      "text/plain": [
       "33"
      ]
     },
     "execution_count": 171,
     "metadata": {},
     "output_type": "execute_result"
    }
   ],
   "source": [
    "pix_value"
   ]
  },
  {
   "cell_type": "code",
   "execution_count": 174,
   "metadata": {},
   "outputs": [],
   "source": [
    "im_bool = (cropped_mask == pix_value)*1"
   ]
  },
  {
   "cell_type": "code",
   "execution_count": 175,
   "metadata": {},
   "outputs": [
    {
     "data": {
      "text/plain": [
       "<matplotlib.image.AxesImage at 0x7fa89c844a90>"
      ]
     },
     "execution_count": 175,
     "metadata": {},
     "output_type": "execute_result"
    },
    {
     "data": {
      "image/png": "[encoded data removed]",
      "text/plain": [
       "<Figure size 432x288 with 2 Axes>"
      ]
     },
     "metadata": {
      "needs_background": "light"
     },
     "output_type": "display_data"
    }
   ],
   "source": [
    "imshow(im_bool)"
   ]
  },
  {
   "cell_type": "code",
   "execution_count": 179,
   "metadata": {},
   "outputs": [
    {
     "data": {
      "text/plain": [
       "'/home/nathan/data/kraken/pcna/glimpses/MK0000/all/Pos0_cell_ID_1445_channel003_t96_age0.0.tif'"
      ]
     },
     "execution_count": 179,
     "metadata": {},
     "output_type": "execute_result"
    }
   ],
   "source": [
    "os.path.join(all_patches_dir, fn)"
   ]
  },
  {
   "cell_type": "code",
   "execution_count": 181,
   "metadata": {},
   "outputs": [],
   "source": [
    "image = imread(os.path.join(all_patches_dir, fn))"
   ]
  },
  {
   "cell_type": "code",
   "execution_count": 182,
   "metadata": {},
   "outputs": [
    {
     "data": {
      "text/plain": [
       "array([[0, 0, 0, ..., 0, 0, 0],\n",
       "       [0, 0, 0, ..., 0, 0, 0],\n",
       "       [0, 0, 0, ..., 0, 0, 0],\n",
       "       ...,\n",
       "       [0, 0, 0, ..., 0, 0, 0],\n",
       "       [0, 0, 0, ..., 0, 0, 0],\n",
       "       [0, 0, 0, ..., 0, 0, 0]])"
      ]
     },
     "execution_count": 182,
     "metadata": {},
     "output_type": "execute_result"
    }
   ],
   "source": [
    "image*im_bool"
   ]
  },
  {
   "cell_type": "code",
   "execution_count": 190,
   "metadata": {},
   "outputs": [
    {
     "data": {
      "text/plain": [
       "<matplotlib.image.AxesImage at 0x7fa89bc86490>"
      ]
     },
     "execution_count": 190,
     "metadata": {},
     "output_type": "execute_result"
    },
    {
     "data": {
      "image/png": "[encoded data removed]",
      "text/plain": [
       "<Figure size 432x288 with 2 Axes>"
      ]
     },
     "metadata": {
      "needs_background": "light"
     },
     "output_type": "display_data"
    }
   ],
   "source": [
    "imshow(true_glimpse)"
   ]
  },
  {
   "cell_type": "code",
   "execution_count": 191,
   "metadata": {},
   "outputs": [
    {
     "ename": "TypeError",
     "evalue": "type() takes 1 or 3 arguments",
     "output_type": "error",
     "traceback": [
      "\u001b[0;31m---------------------------------------------------------------------------\u001b[0m",
      "\u001b[0;31mTypeError\u001b[0m                                 Traceback (most recent call last)",
      "\u001b[0;32m<ipython-input-191-de889c576f85>\u001b[0m in \u001b[0;36m<module>\u001b[0;34m\u001b[0m\n\u001b[0;32m----> 1\u001b[0;31m \u001b[0mtype\u001b[0m\u001b[0;34m(\u001b[0m\u001b[0mtrue_glimpse\u001b[0m\u001b[0;34m,\u001b[0m \u001b[0mimage\u001b[0m\u001b[0;34m)\u001b[0m\u001b[0;34m\u001b[0m\u001b[0;34m\u001b[0m\u001b[0m\n\u001b[0m",
      "\u001b[0;31mTypeError\u001b[0m: type() takes 1 or 3 arguments"
     ]
    }
   ],
   "source": [
    "type(true_glimpse)"
   ]
  },
  {
   "cell_type": "code",
   "execution_count": 192,
   "metadata": {},
   "outputs": [
    {
     "data": {
      "text/plain": [
       "numpy.ndarray"
      ]
     },
     "execution_count": 192,
     "metadata": {},
     "output_type": "execute_result"
    }
   ],
   "source": [
    "type(image)"
   ]
  },
  {
   "cell_type": "code",
   "execution_count": 189,
   "metadata": {},
   "outputs": [
    {
     "data": {
      "text/plain": [
       "<matplotlib.image.AxesImage at 0x7fa8864ba580>"
      ]
     },
     "execution_count": 189,
     "metadata": {},
     "output_type": "execute_result"
    },
    {
     "data": {
      "image/png": "[encoded data removed]",
      "text/plain": [
       "<Figure size 432x288 with 1 Axes>"
      ]
     },
     "metadata": {
      "needs_background": "light"
     },
     "output_type": "display_data"
    }
   ],
   "source": [
    "imshow(image)"
   ]
  },
  {
   "cell_type": "code",
   "execution_count": 194,
   "metadata": {},
   "outputs": [
    {
     "data": {
      "text/plain": [
       "array([[0, 0, 0, ..., 0, 0, 0],\n",
       "       [0, 0, 0, ..., 0, 0, 0],\n",
       "       [0, 0, 0, ..., 0, 0, 0],\n",
       "       ...,\n",
       "       [0, 0, 0, ..., 0, 0, 0],\n",
       "       [0, 0, 0, ..., 0, 0, 0],\n",
       "       [0, 0, 0, ..., 0, 0, 0]], dtype=int64)"
      ]
     },
     "execution_count": 194,
     "metadata": {},
     "output_type": "execute_result"
    }
   ],
   "source": [
    "imread(os.path.join(masked_output_dir, 'Pos0_cell_ID_46_channel003_t0_age0.0.tif'))"
   ]
  },
  {
   "cell_type": "code",
   "execution_count": 126,
   "metadata": {},
   "outputs": [
    {
     "data": {
      "text/html": [
       "<table border=\"1\" class=\"dataframe\">\n",
       "  <thead>\n",
       "    <tr style=\"text-align: right;\">\n",
       "      <th></th>\n",
       "      <th>ID</th>\n",
       "      <th>t</th>\n",
       "      <th>x</th>\n",
       "      <th>y</th>\n",
       "      <th>z</th>\n",
       "      <th>parent</th>\n",
       "      <th>root</th>\n",
       "      <th>state</th>\n",
       "      <th>generation</th>\n",
       "      <th>dummy</th>\n",
       "      <th>major_axis_length</th>\n",
       "      <th>area</th>\n",
       "    </tr>\n",
       "  </thead>\n",
       "  <tbody>\n",
       "    <tr>\n",
       "      <th>0</th>\n",
       "      <td>46</td>\n",
       "      <td>0</td>\n",
       "      <td>41.487602</td>\n",
       "      <td>719.188599</td>\n",
       "      <td>0.000000</td>\n",
       "      <td>46</td>\n",
       "      <td>46</td>\n",
       "      <td>5</td>\n",
       "      <td>0</td>\n",
       "      <td>False</td>\n",
       "      <td>43.942135</td>\n",
       "      <td>1331.0</td>\n",
       "    </tr>\n",
       "    <tr>\n",
       "      <th>1</th>\n",
       "      <td>46</td>\n",
       "      <td>1</td>\n",
       "      <td>43.503052</td>\n",
       "      <td>723.246582</td>\n",
       "      <td>0.000000</td>\n",
       "      <td>46</td>\n",
       "      <td>46</td>\n",
       "      <td>5</td>\n",
       "      <td>0</td>\n",
       "      <td>False</td>\n",
       "      <td>43.358578</td>\n",
       "      <td>1310.0</td>\n",
       "    </tr>\n",
       "    <tr>\n",
       "      <th>2</th>\n",
       "      <td>46</td>\n",
       "      <td>2</td>\n",
       "      <td>43.790398</td>\n",
       "      <td>723.562500</td>\n",
       "      <td>0.000000</td>\n",
       "      <td>46</td>\n",
       "      <td>46</td>\n",
       "      <td>5</td>\n",
       "      <td>0</td>\n",
       "      <td>False</td>\n",
       "      <td>44.607243</td>\n",
       "      <td>1312.0</td>\n",
       "    </tr>\n",
       "    <tr>\n",
       "      <th>3</th>\n",
       "      <td>46</td>\n",
       "      <td>3</td>\n",
       "      <td>39.327244</td>\n",
       "      <td>725.302124</td>\n",
       "      <td>0.000000</td>\n",
       "      <td>46</td>\n",
       "      <td>46</td>\n",
       "      <td>5</td>\n",
       "      <td>0</td>\n",
       "      <td>False</td>\n",
       "      <td>43.106945</td>\n",
       "      <td>1314.0</td>\n",
       "    </tr>\n",
       "    <tr>\n",
       "      <th>4</th>\n",
       "      <td>46</td>\n",
       "      <td>4</td>\n",
       "      <td>35.341015</td>\n",
       "      <td>727.930115</td>\n",
       "      <td>0.000000</td>\n",
       "      <td>46</td>\n",
       "      <td>46</td>\n",
       "      <td>5</td>\n",
       "      <td>0</td>\n",
       "      <td>False</td>\n",
       "      <td>42.836525</td>\n",
       "      <td>1302.0</td>\n",
       "    </tr>\n",
       "    <tr>\n",
       "      <th>5</th>\n",
       "      <td>46</td>\n",
       "      <td>5</td>\n",
       "      <td>34.491714</td>\n",
       "      <td>729.960510</td>\n",
       "      <td>0.000000</td>\n",
       "      <td>46</td>\n",
       "      <td>46</td>\n",
       "      <td>5</td>\n",
       "      <td>0</td>\n",
       "      <td>False</td>\n",
       "      <td>41.953842</td>\n",
       "      <td>1267.0</td>\n",
       "    </tr>\n",
       "    <tr>\n",
       "      <th>6</th>\n",
       "      <td>46</td>\n",
       "      <td>6</td>\n",
       "      <td>35.250721</td>\n",
       "      <td>730.286011</td>\n",
       "      <td>0.000000</td>\n",
       "      <td>46</td>\n",
       "      <td>46</td>\n",
       "      <td>5</td>\n",
       "      <td>0</td>\n",
       "      <td>False</td>\n",
       "      <td>44.813995</td>\n",
       "      <td>1388.0</td>\n",
       "    </tr>\n",
       "    <tr>\n",
       "      <th>7</th>\n",
       "      <td>46</td>\n",
       "      <td>7</td>\n",
       "      <td>38.582970</td>\n",
       "      <td>730.583679</td>\n",
       "      <td>0.000000</td>\n",
       "      <td>46</td>\n",
       "      <td>46</td>\n",
       "      <td>5</td>\n",
       "      <td>0</td>\n",
       "      <td>False</td>\n",
       "      <td>43.882397</td>\n",
       "      <td>1374.0</td>\n",
       "    </tr>\n",
       "    <tr>\n",
       "      <th>8</th>\n",
       "      <td>46</td>\n",
       "      <td>8</td>\n",
       "      <td>39.283382</td>\n",
       "      <td>731.157654</td>\n",
       "      <td>0.000000</td>\n",
       "      <td>46</td>\n",
       "      <td>46</td>\n",
       "      <td>5</td>\n",
       "      <td>0</td>\n",
       "      <td>False</td>\n",
       "      <td>46.456879</td>\n",
       "      <td>1408.0</td>\n",
       "    </tr>\n",
       "    <tr>\n",
       "      <th>9</th>\n",
       "      <td>46</td>\n",
       "      <td>9</td>\n",
       "      <td>40.179825</td>\n",
       "      <td>731.876709</td>\n",
       "      <td>0.003984</td>\n",
       "      <td>46</td>\n",
       "      <td>46</td>\n",
       "      <td>5</td>\n",
       "      <td>0</td>\n",
       "      <td>True</td>\n",
       "      <td>NaN</td>\n",
       "      <td>NaN</td>\n",
       "    </tr>\n",
       "    <tr>\n",
       "      <th>10</th>\n",
       "      <td>46</td>\n",
       "      <td>10</td>\n",
       "      <td>35.235653</td>\n",
       "      <td>733.937866</td>\n",
       "      <td>0.000000</td>\n",
       "      <td>46</td>\n",
       "      <td>46</td>\n",
       "      <td>5</td>\n",
       "      <td>0</td>\n",
       "      <td>False</td>\n",
       "      <td>45.882450</td>\n",
       "      <td>1481.0</td>\n",
       "    </tr>\n",
       "    <tr>\n",
       "      <th>11</th>\n",
       "      <td>46</td>\n",
       "      <td>11</td>\n",
       "      <td>31.923994</td>\n",
       "      <td>735.773499</td>\n",
       "      <td>0.000000</td>\n",
       "      <td>46</td>\n",
       "      <td>46</td>\n",
       "      <td>5</td>\n",
       "      <td>0</td>\n",
       "      <td>False</td>\n",
       "      <td>43.720242</td>\n",
       "      <td>1342.0</td>\n",
       "    </tr>\n",
       "    <tr>\n",
       "      <th>12</th>\n",
       "      <td>46</td>\n",
       "      <td>12</td>\n",
       "      <td>28.444046</td>\n",
       "      <td>735.939758</td>\n",
       "      <td>0.000000</td>\n",
       "      <td>46</td>\n",
       "      <td>46</td>\n",
       "      <td>5</td>\n",
       "      <td>0</td>\n",
       "      <td>False</td>\n",
       "      <td>45.549870</td>\n",
       "      <td>1394.0</td>\n",
       "    </tr>\n",
       "    <tr>\n",
       "      <th>13</th>\n",
       "      <td>46</td>\n",
       "      <td>13</td>\n",
       "      <td>35.587109</td>\n",
       "      <td>740.618958</td>\n",
       "      <td>0.000000</td>\n",
       "      <td>46</td>\n",
       "      <td>46</td>\n",
       "      <td>5</td>\n",
       "      <td>0</td>\n",
       "      <td>False</td>\n",
       "      <td>45.287643</td>\n",
       "      <td>1412.0</td>\n",
       "    </tr>\n",
       "    <tr>\n",
       "      <th>14</th>\n",
       "      <td>46</td>\n",
       "      <td>14</td>\n",
       "      <td>26.903900</td>\n",
       "      <td>739.533447</td>\n",
       "      <td>0.000000</td>\n",
       "      <td>46</td>\n",
       "      <td>46</td>\n",
       "      <td>5</td>\n",
       "      <td>0</td>\n",
       "      <td>False</td>\n",
       "      <td>45.599403</td>\n",
       "      <td>1436.0</td>\n",
       "    </tr>\n",
       "    <tr>\n",
       "      <th>15</th>\n",
       "      <td>46</td>\n",
       "      <td>15</td>\n",
       "      <td>27.853802</td>\n",
       "      <td>740.079651</td>\n",
       "      <td>0.000000</td>\n",
       "      <td>46</td>\n",
       "      <td>46</td>\n",
       "      <td>5</td>\n",
       "      <td>0</td>\n",
       "      <td>False</td>\n",
       "      <td>45.536140</td>\n",
       "      <td>1368.0</td>\n",
       "    </tr>\n",
       "    <tr>\n",
       "      <th>16</th>\n",
       "      <td>46</td>\n",
       "      <td>16</td>\n",
       "      <td>28.297091</td>\n",
       "      <td>741.891296</td>\n",
       "      <td>0.000000</td>\n",
       "      <td>46</td>\n",
       "      <td>46</td>\n",
       "      <td>5</td>\n",
       "      <td>0</td>\n",
       "      <td>False</td>\n",
       "      <td>46.749451</td>\n",
       "      <td>1444.0</td>\n",
       "    </tr>\n",
       "    <tr>\n",
       "      <th>17</th>\n",
       "      <td>46</td>\n",
       "      <td>17</td>\n",
       "      <td>28.282976</td>\n",
       "      <td>743.893127</td>\n",
       "      <td>0.808388</td>\n",
       "      <td>46</td>\n",
       "      <td>46</td>\n",
       "      <td>5</td>\n",
       "      <td>0</td>\n",
       "      <td>True</td>\n",
       "      <td>NaN</td>\n",
       "      <td>NaN</td>\n",
       "    </tr>\n",
       "    <tr>\n",
       "      <th>18</th>\n",
       "      <td>46</td>\n",
       "      <td>18</td>\n",
       "      <td>28.268860</td>\n",
       "      <td>745.894958</td>\n",
       "      <td>1.616776</td>\n",
       "      <td>46</td>\n",
       "      <td>46</td>\n",
       "      <td>5</td>\n",
       "      <td>0</td>\n",
       "      <td>True</td>\n",
       "      <td>NaN</td>\n",
       "      <td>NaN</td>\n",
       "    </tr>\n",
       "    <tr>\n",
       "      <th>19</th>\n",
       "      <td>46</td>\n",
       "      <td>19</td>\n",
       "      <td>25.576744</td>\n",
       "      <td>741.745544</td>\n",
       "      <td>0.000000</td>\n",
       "      <td>46</td>\n",
       "      <td>46</td>\n",
       "      <td>5</td>\n",
       "      <td>0</td>\n",
       "      <td>False</td>\n",
       "      <td>46.827564</td>\n",
       "      <td>1505.0</td>\n",
       "    </tr>\n",
       "    <tr>\n",
       "      <th>20</th>\n",
       "      <td>46</td>\n",
       "      <td>20</td>\n",
       "      <td>24.300337</td>\n",
       "      <td>741.217529</td>\n",
       "      <td>0.000000</td>\n",
       "      <td>46</td>\n",
       "      <td>46</td>\n",
       "      <td>5</td>\n",
       "      <td>0</td>\n",
       "      <td>False</td>\n",
       "      <td>46.025265</td>\n",
       "      <td>1485.0</td>\n",
       "    </tr>\n",
       "    <tr>\n",
       "      <th>21</th>\n",
       "      <td>46</td>\n",
       "      <td>21</td>\n",
       "      <td>29.228237</td>\n",
       "      <td>741.868347</td>\n",
       "      <td>0.000000</td>\n",
       "      <td>46</td>\n",
       "      <td>46</td>\n",
       "      <td>5</td>\n",
       "      <td>0</td>\n",
       "      <td>False</td>\n",
       "      <td>45.460838</td>\n",
       "      <td>1367.0</td>\n",
       "    </tr>\n",
       "    <tr>\n",
       "      <th>22</th>\n",
       "      <td>46</td>\n",
       "      <td>22</td>\n",
       "      <td>19.916969</td>\n",
       "      <td>741.637268</td>\n",
       "      <td>0.000000</td>\n",
       "      <td>46</td>\n",
       "      <td>46</td>\n",
       "      <td>5</td>\n",
       "      <td>0</td>\n",
       "      <td>False</td>\n",
       "      <td>45.002670</td>\n",
       "      <td>1373.0</td>\n",
       "    </tr>\n",
       "    <tr>\n",
       "      <th>23</th>\n",
       "      <td>46</td>\n",
       "      <td>23</td>\n",
       "      <td>24.623377</td>\n",
       "      <td>744.198242</td>\n",
       "      <td>0.000000</td>\n",
       "      <td>46</td>\n",
       "      <td>46</td>\n",
       "      <td>5</td>\n",
       "      <td>0</td>\n",
       "      <td>False</td>\n",
       "      <td>47.540886</td>\n",
       "      <td>1463.0</td>\n",
       "    </tr>\n",
       "    <tr>\n",
       "      <th>24</th>\n",
       "      <td>46</td>\n",
       "      <td>24</td>\n",
       "      <td>21.940626</td>\n",
       "      <td>745.506348</td>\n",
       "      <td>0.000000</td>\n",
       "      <td>46</td>\n",
       "      <td>46</td>\n",
       "      <td>5</td>\n",
       "      <td>0</td>\n",
       "      <td>False</td>\n",
       "      <td>48.740330</td>\n",
       "      <td>1499.0</td>\n",
       "    </tr>\n",
       "    <tr>\n",
       "      <th>25</th>\n",
       "      <td>46</td>\n",
       "      <td>25</td>\n",
       "      <td>26.345469</td>\n",
       "      <td>747.264465</td>\n",
       "      <td>0.000000</td>\n",
       "      <td>46</td>\n",
       "      <td>46</td>\n",
       "      <td>5</td>\n",
       "      <td>0</td>\n",
       "      <td>False</td>\n",
       "      <td>47.073349</td>\n",
       "      <td>1346.0</td>\n",
       "    </tr>\n",
       "    <tr>\n",
       "      <th>26</th>\n",
       "      <td>46</td>\n",
       "      <td>26</td>\n",
       "      <td>23.371052</td>\n",
       "      <td>750.383545</td>\n",
       "      <td>0.000000</td>\n",
       "      <td>46</td>\n",
       "      <td>46</td>\n",
       "      <td>5</td>\n",
       "      <td>0</td>\n",
       "      <td>False</td>\n",
       "      <td>50.427292</td>\n",
       "      <td>1520.0</td>\n",
       "    </tr>\n",
       "    <tr>\n",
       "      <th>27</th>\n",
       "      <td>46</td>\n",
       "      <td>27</td>\n",
       "      <td>22.390209</td>\n",
       "      <td>746.365723</td>\n",
       "      <td>0.000000</td>\n",
       "      <td>46</td>\n",
       "      <td>46</td>\n",
       "      <td>5</td>\n",
       "      <td>0</td>\n",
       "      <td>False</td>\n",
       "      <td>48.120384</td>\n",
       "      <td>1430.0</td>\n",
       "    </tr>\n",
       "    <tr>\n",
       "      <th>28</th>\n",
       "      <td>46</td>\n",
       "      <td>28</td>\n",
       "      <td>27.188889</td>\n",
       "      <td>743.303467</td>\n",
       "      <td>0.000000</td>\n",
       "      <td>46</td>\n",
       "      <td>46</td>\n",
       "      <td>5</td>\n",
       "      <td>0</td>\n",
       "      <td>False</td>\n",
       "      <td>47.686066</td>\n",
       "      <td>1440.0</td>\n",
       "    </tr>\n",
       "    <tr>\n",
       "      <th>29</th>\n",
       "      <td>46</td>\n",
       "      <td>29</td>\n",
       "      <td>25.776388</td>\n",
       "      <td>742.502808</td>\n",
       "      <td>0.000000</td>\n",
       "      <td>46</td>\n",
       "      <td>46</td>\n",
       "      <td>5</td>\n",
       "      <td>0</td>\n",
       "      <td>False</td>\n",
       "      <td>46.125168</td>\n",
       "      <td>1440.0</td>\n",
       "    </tr>\n",
       "    <tr>\n",
       "      <th>30</th>\n",
       "      <td>46</td>\n",
       "      <td>30</td>\n",
       "      <td>22.285404</td>\n",
       "      <td>742.641602</td>\n",
       "      <td>0.000000</td>\n",
       "      <td>46</td>\n",
       "      <td>46</td>\n",
       "      <td>5</td>\n",
       "      <td>0</td>\n",
       "      <td>False</td>\n",
       "      <td>47.445522</td>\n",
       "      <td>1384.0</td>\n",
       "    </tr>\n",
       "    <tr>\n",
       "      <th>31</th>\n",
       "      <td>46</td>\n",
       "      <td>31</td>\n",
       "      <td>25.768175</td>\n",
       "      <td>740.235962</td>\n",
       "      <td>0.000000</td>\n",
       "      <td>46</td>\n",
       "      <td>46</td>\n",
       "      <td>5</td>\n",
       "      <td>0</td>\n",
       "      <td>False</td>\n",
       "      <td>46.966057</td>\n",
       "      <td>1458.0</td>\n",
       "    </tr>\n",
       "    <tr>\n",
       "      <th>32</th>\n",
       "      <td>46</td>\n",
       "      <td>32</td>\n",
       "      <td>31.463715</td>\n",
       "      <td>742.193787</td>\n",
       "      <td>0.000000</td>\n",
       "      <td>46</td>\n",
       "      <td>46</td>\n",
       "      <td>5</td>\n",
       "      <td>0</td>\n",
       "      <td>False</td>\n",
       "      <td>45.078552</td>\n",
       "      <td>1378.0</td>\n",
       "    </tr>\n",
       "    <tr>\n",
       "      <th>33</th>\n",
       "      <td>46</td>\n",
       "      <td>33</td>\n",
       "      <td>33.390614</td>\n",
       "      <td>740.909424</td>\n",
       "      <td>0.000000</td>\n",
       "      <td>46</td>\n",
       "      <td>46</td>\n",
       "      <td>5</td>\n",
       "      <td>0</td>\n",
       "      <td>False</td>\n",
       "      <td>47.109447</td>\n",
       "      <td>1513.0</td>\n",
       "    </tr>\n",
       "    <tr>\n",
       "      <th>34</th>\n",
       "      <td>46</td>\n",
       "      <td>34</td>\n",
       "      <td>32.072304</td>\n",
       "      <td>739.334229</td>\n",
       "      <td>0.000000</td>\n",
       "      <td>46</td>\n",
       "      <td>46</td>\n",
       "      <td>5</td>\n",
       "      <td>0</td>\n",
       "      <td>False</td>\n",
       "      <td>48.272564</td>\n",
       "      <td>1466.0</td>\n",
       "    </tr>\n",
       "    <tr>\n",
       "      <th>35</th>\n",
       "      <td>46</td>\n",
       "      <td>35</td>\n",
       "      <td>29.836895</td>\n",
       "      <td>739.305542</td>\n",
       "      <td>0.000000</td>\n",
       "      <td>46</td>\n",
       "      <td>46</td>\n",
       "      <td>5</td>\n",
       "      <td>0</td>\n",
       "      <td>False</td>\n",
       "      <td>46.365536</td>\n",
       "      <td>1404.0</td>\n",
       "    </tr>\n",
       "    <tr>\n",
       "      <th>36</th>\n",
       "      <td>46</td>\n",
       "      <td>36</td>\n",
       "      <td>26.238894</td>\n",
       "      <td>738.850708</td>\n",
       "      <td>0.000000</td>\n",
       "      <td>46</td>\n",
       "      <td>46</td>\n",
       "      <td>5</td>\n",
       "      <td>0</td>\n",
       "      <td>False</td>\n",
       "      <td>46.171593</td>\n",
       "      <td>1373.0</td>\n",
       "    </tr>\n",
       "    <tr>\n",
       "      <th>37</th>\n",
       "      <td>46</td>\n",
       "      <td>37</td>\n",
       "      <td>37.058231</td>\n",
       "      <td>738.640564</td>\n",
       "      <td>0.000000</td>\n",
       "      <td>46</td>\n",
       "      <td>46</td>\n",
       "      <td>5</td>\n",
       "      <td>0</td>\n",
       "      <td>False</td>\n",
       "      <td>45.887199</td>\n",
       "      <td>1391.0</td>\n",
       "    </tr>\n",
       "    <tr>\n",
       "      <th>38</th>\n",
       "      <td>46</td>\n",
       "      <td>38</td>\n",
       "      <td>29.598160</td>\n",
       "      <td>735.514587</td>\n",
       "      <td>0.000000</td>\n",
       "      <td>46</td>\n",
       "      <td>46</td>\n",
       "      <td>5</td>\n",
       "      <td>0</td>\n",
       "      <td>False</td>\n",
       "      <td>44.099693</td>\n",
       "      <td>1304.0</td>\n",
       "    </tr>\n",
       "    <tr>\n",
       "      <th>39</th>\n",
       "      <td>46</td>\n",
       "      <td>39</td>\n",
       "      <td>29.865412</td>\n",
       "      <td>737.319824</td>\n",
       "      <td>0.000000</td>\n",
       "      <td>46</td>\n",
       "      <td>46</td>\n",
       "      <td>5</td>\n",
       "      <td>0</td>\n",
       "      <td>False</td>\n",
       "      <td>45.469055</td>\n",
       "      <td>1382.0</td>\n",
       "    </tr>\n",
       "    <tr>\n",
       "      <th>40</th>\n",
       "      <td>46</td>\n",
       "      <td>40</td>\n",
       "      <td>32.483009</td>\n",
       "      <td>738.082458</td>\n",
       "      <td>0.000000</td>\n",
       "      <td>46</td>\n",
       "      <td>46</td>\n",
       "      <td>5</td>\n",
       "      <td>0</td>\n",
       "      <td>False</td>\n",
       "      <td>45.759434</td>\n",
       "      <td>1383.0</td>\n",
       "    </tr>\n",
       "    <tr>\n",
       "      <th>41</th>\n",
       "      <td>46</td>\n",
       "      <td>41</td>\n",
       "      <td>32.595505</td>\n",
       "      <td>738.526672</td>\n",
       "      <td>0.000000</td>\n",
       "      <td>46</td>\n",
       "      <td>46</td>\n",
       "      <td>5</td>\n",
       "      <td>0</td>\n",
       "      <td>False</td>\n",
       "      <td>46.042942</td>\n",
       "      <td>1424.0</td>\n",
       "    </tr>\n",
       "    <tr>\n",
       "      <th>42</th>\n",
       "      <td>46</td>\n",
       "      <td>42</td>\n",
       "      <td>33.782318</td>\n",
       "      <td>736.877441</td>\n",
       "      <td>0.000000</td>\n",
       "      <td>46</td>\n",
       "      <td>46</td>\n",
       "      <td>5</td>\n",
       "      <td>0</td>\n",
       "      <td>False</td>\n",
       "      <td>45.641335</td>\n",
       "      <td>1346.0</td>\n",
       "    </tr>\n",
       "    <tr>\n",
       "      <th>43</th>\n",
       "      <td>46</td>\n",
       "      <td>43</td>\n",
       "      <td>32.532368</td>\n",
       "      <td>737.114990</td>\n",
       "      <td>0.000000</td>\n",
       "      <td>46</td>\n",
       "      <td>46</td>\n",
       "      <td>5</td>\n",
       "      <td>0</td>\n",
       "      <td>False</td>\n",
       "      <td>45.523380</td>\n",
       "      <td>1313.0</td>\n",
       "    </tr>\n",
       "    <tr>\n",
       "      <th>44</th>\n",
       "      <td>46</td>\n",
       "      <td>44</td>\n",
       "      <td>34.515549</td>\n",
       "      <td>738.467834</td>\n",
       "      <td>0.000000</td>\n",
       "      <td>46</td>\n",
       "      <td>46</td>\n",
       "      <td>5</td>\n",
       "      <td>0</td>\n",
       "      <td>False</td>\n",
       "      <td>47.002972</td>\n",
       "      <td>1447.0</td>\n",
       "    </tr>\n",
       "    <tr>\n",
       "      <th>45</th>\n",
       "      <td>46</td>\n",
       "      <td>45</td>\n",
       "      <td>39.742069</td>\n",
       "      <td>739.653076</td>\n",
       "      <td>0.000000</td>\n",
       "      <td>46</td>\n",
       "      <td>46</td>\n",
       "      <td>5</td>\n",
       "      <td>0</td>\n",
       "      <td>False</td>\n",
       "      <td>47.276169</td>\n",
       "      <td>1450.0</td>\n",
       "    </tr>\n",
       "    <tr>\n",
       "      <th>46</th>\n",
       "      <td>46</td>\n",
       "      <td>46</td>\n",
       "      <td>33.539616</td>\n",
       "      <td>740.617432</td>\n",
       "      <td>0.000000</td>\n",
       "      <td>46</td>\n",
       "      <td>46</td>\n",
       "      <td>5</td>\n",
       "      <td>0</td>\n",
       "      <td>False</td>\n",
       "      <td>45.080029</td>\n",
       "      <td>1401.0</td>\n",
       "    </tr>\n",
       "    <tr>\n",
       "      <th>47</th>\n",
       "      <td>46</td>\n",
       "      <td>47</td>\n",
       "      <td>36.497101</td>\n",
       "      <td>741.802917</td>\n",
       "      <td>0.000000</td>\n",
       "      <td>46</td>\n",
       "      <td>46</td>\n",
       "      <td>5</td>\n",
       "      <td>0</td>\n",
       "      <td>False</td>\n",
       "      <td>44.428272</td>\n",
       "      <td>1380.0</td>\n",
       "    </tr>\n",
       "    <tr>\n",
       "      <th>48</th>\n",
       "      <td>46</td>\n",
       "      <td>48</td>\n",
       "      <td>36.311264</td>\n",
       "      <td>741.729004</td>\n",
       "      <td>0.000000</td>\n",
       "      <td>46</td>\n",
       "      <td>46</td>\n",
       "      <td>5</td>\n",
       "      <td>0</td>\n",
       "      <td>False</td>\n",
       "      <td>45.987217</td>\n",
       "      <td>1465.0</td>\n",
       "    </tr>\n",
       "    <tr>\n",
       "      <th>49</th>\n",
       "      <td>46</td>\n",
       "      <td>49</td>\n",
       "      <td>40.241863</td>\n",
       "      <td>743.413452</td>\n",
       "      <td>0.000000</td>\n",
       "      <td>46</td>\n",
       "      <td>46</td>\n",
       "      <td>5</td>\n",
       "      <td>0</td>\n",
       "      <td>False</td>\n",
       "      <td>44.480045</td>\n",
       "      <td>1352.0</td>\n",
       "    </tr>\n",
       "    <tr>\n",
       "      <th>50</th>\n",
       "      <td>46</td>\n",
       "      <td>50</td>\n",
       "      <td>37.482182</td>\n",
       "      <td>743.223999</td>\n",
       "      <td>0.000000</td>\n",
       "      <td>46</td>\n",
       "      <td>46</td>\n",
       "      <td>5</td>\n",
       "      <td>0</td>\n",
       "      <td>False</td>\n",
       "      <td>45.670441</td>\n",
       "      <td>1375.0</td>\n",
       "    </tr>\n",
       "    <tr>\n",
       "      <th>51</th>\n",
       "      <td>46</td>\n",
       "      <td>51</td>\n",
       "      <td>36.220119</td>\n",
       "      <td>742.411499</td>\n",
       "      <td>0.000000</td>\n",
       "      <td>46</td>\n",
       "      <td>46</td>\n",
       "      <td>5</td>\n",
       "      <td>0</td>\n",
       "      <td>False</td>\n",
       "      <td>46.437859</td>\n",
       "      <td>1322.0</td>\n",
       "    </tr>\n",
       "    <tr>\n",
       "      <th>52</th>\n",
       "      <td>46</td>\n",
       "      <td>52</td>\n",
       "      <td>38.981960</td>\n",
       "      <td>743.078430</td>\n",
       "      <td>0.000000</td>\n",
       "      <td>46</td>\n",
       "      <td>46</td>\n",
       "      <td>5</td>\n",
       "      <td>0</td>\n",
       "      <td>False</td>\n",
       "      <td>45.637196</td>\n",
       "      <td>1275.0</td>\n",
       "    </tr>\n",
       "    <tr>\n",
       "      <th>53</th>\n",
       "      <td>46</td>\n",
       "      <td>53</td>\n",
       "      <td>32.063908</td>\n",
       "      <td>743.276672</td>\n",
       "      <td>0.000000</td>\n",
       "      <td>46</td>\n",
       "      <td>46</td>\n",
       "      <td>5</td>\n",
       "      <td>0</td>\n",
       "      <td>False</td>\n",
       "      <td>45.673256</td>\n",
       "      <td>1377.0</td>\n",
       "    </tr>\n",
       "    <tr>\n",
       "      <th>54</th>\n",
       "      <td>46</td>\n",
       "      <td>54</td>\n",
       "      <td>39.427376</td>\n",
       "      <td>744.644104</td>\n",
       "      <td>0.000000</td>\n",
       "      <td>46</td>\n",
       "      <td>46</td>\n",
       "      <td>5</td>\n",
       "      <td>0</td>\n",
       "      <td>False</td>\n",
       "      <td>43.927277</td>\n",
       "      <td>1315.0</td>\n",
       "    </tr>\n",
       "    <tr>\n",
       "      <th>55</th>\n",
       "      <td>46</td>\n",
       "      <td>55</td>\n",
       "      <td>42.409649</td>\n",
       "      <td>743.925720</td>\n",
       "      <td>0.000000</td>\n",
       "      <td>46</td>\n",
       "      <td>46</td>\n",
       "      <td>5</td>\n",
       "      <td>0</td>\n",
       "      <td>False</td>\n",
       "      <td>44.937538</td>\n",
       "      <td>1306.0</td>\n",
       "    </tr>\n",
       "    <tr>\n",
       "      <th>56</th>\n",
       "      <td>46</td>\n",
       "      <td>56</td>\n",
       "      <td>36.307232</td>\n",
       "      <td>744.372131</td>\n",
       "      <td>0.000000</td>\n",
       "      <td>46</td>\n",
       "      <td>46</td>\n",
       "      <td>5</td>\n",
       "      <td>0</td>\n",
       "      <td>False</td>\n",
       "      <td>46.217556</td>\n",
       "      <td>1341.0</td>\n",
       "    </tr>\n",
       "    <tr>\n",
       "      <th>57</th>\n",
       "      <td>46</td>\n",
       "      <td>57</td>\n",
       "      <td>40.095203</td>\n",
       "      <td>747.864075</td>\n",
       "      <td>0.000000</td>\n",
       "      <td>46</td>\n",
       "      <td>46</td>\n",
       "      <td>5</td>\n",
       "      <td>0</td>\n",
       "      <td>False</td>\n",
       "      <td>45.733253</td>\n",
       "      <td>1376.0</td>\n",
       "    </tr>\n",
       "    <tr>\n",
       "      <th>58</th>\n",
       "      <td>46</td>\n",
       "      <td>58</td>\n",
       "      <td>40.788235</td>\n",
       "      <td>746.585266</td>\n",
       "      <td>0.000000</td>\n",
       "      <td>46</td>\n",
       "      <td>46</td>\n",
       "      <td>5</td>\n",
       "      <td>0</td>\n",
       "      <td>False</td>\n",
       "      <td>43.928295</td>\n",
       "      <td>1360.0</td>\n",
       "    </tr>\n",
       "    <tr>\n",
       "      <th>59</th>\n",
       "      <td>46</td>\n",
       "      <td>59</td>\n",
       "      <td>37.541176</td>\n",
       "      <td>747.179382</td>\n",
       "      <td>0.000000</td>\n",
       "      <td>46</td>\n",
       "      <td>46</td>\n",
       "      <td>5</td>\n",
       "      <td>0</td>\n",
       "      <td>False</td>\n",
       "      <td>44.272324</td>\n",
       "      <td>1360.0</td>\n",
       "    </tr>\n",
       "    <tr>\n",
       "      <th>60</th>\n",
       "      <td>46</td>\n",
       "      <td>60</td>\n",
       "      <td>41.501408</td>\n",
       "      <td>748.773926</td>\n",
       "      <td>0.000000</td>\n",
       "      <td>46</td>\n",
       "      <td>46</td>\n",
       "      <td>5</td>\n",
       "      <td>0</td>\n",
       "      <td>False</td>\n",
       "      <td>47.063091</td>\n",
       "      <td>1420.0</td>\n",
       "    </tr>\n",
       "    <tr>\n",
       "      <th>61</th>\n",
       "      <td>46</td>\n",
       "      <td>61</td>\n",
       "      <td>34.976578</td>\n",
       "      <td>744.720398</td>\n",
       "      <td>0.000000</td>\n",
       "      <td>46</td>\n",
       "      <td>46</td>\n",
       "      <td>5</td>\n",
       "      <td>0</td>\n",
       "      <td>False</td>\n",
       "      <td>45.999725</td>\n",
       "      <td>1409.0</td>\n",
       "    </tr>\n",
       "    <tr>\n",
       "      <th>62</th>\n",
       "      <td>46</td>\n",
       "      <td>62</td>\n",
       "      <td>39.705666</td>\n",
       "      <td>746.380432</td>\n",
       "      <td>0.000000</td>\n",
       "      <td>46</td>\n",
       "      <td>46</td>\n",
       "      <td>5</td>\n",
       "      <td>0</td>\n",
       "      <td>False</td>\n",
       "      <td>45.781837</td>\n",
       "      <td>1359.0</td>\n",
       "    </tr>\n",
       "    <tr>\n",
       "      <th>63</th>\n",
       "      <td>46</td>\n",
       "      <td>63</td>\n",
       "      <td>36.032959</td>\n",
       "      <td>745.321167</td>\n",
       "      <td>0.000000</td>\n",
       "      <td>46</td>\n",
       "      <td>46</td>\n",
       "      <td>5</td>\n",
       "      <td>0</td>\n",
       "      <td>False</td>\n",
       "      <td>45.973400</td>\n",
       "      <td>1426.0</td>\n",
       "    </tr>\n",
       "    <tr>\n",
       "      <th>64</th>\n",
       "      <td>46</td>\n",
       "      <td>64</td>\n",
       "      <td>41.162872</td>\n",
       "      <td>744.889587</td>\n",
       "      <td>0.000000</td>\n",
       "      <td>46</td>\n",
       "      <td>46</td>\n",
       "      <td>5</td>\n",
       "      <td>0</td>\n",
       "      <td>False</td>\n",
       "      <td>44.581009</td>\n",
       "      <td>1449.0</td>\n",
       "    </tr>\n",
       "    <tr>\n",
       "      <th>65</th>\n",
       "      <td>46</td>\n",
       "      <td>65</td>\n",
       "      <td>45.352516</td>\n",
       "      <td>743.567627</td>\n",
       "      <td>0.000000</td>\n",
       "      <td>46</td>\n",
       "      <td>46</td>\n",
       "      <td>5</td>\n",
       "      <td>0</td>\n",
       "      <td>False</td>\n",
       "      <td>43.604809</td>\n",
       "      <td>1390.0</td>\n",
       "    </tr>\n",
       "    <tr>\n",
       "      <th>66</th>\n",
       "      <td>46</td>\n",
       "      <td>66</td>\n",
       "      <td>42.837574</td>\n",
       "      <td>743.960327</td>\n",
       "      <td>0.000000</td>\n",
       "      <td>46</td>\n",
       "      <td>46</td>\n",
       "      <td>5</td>\n",
       "      <td>0</td>\n",
       "      <td>False</td>\n",
       "      <td>42.946156</td>\n",
       "      <td>1336.0</td>\n",
       "    </tr>\n",
       "    <tr>\n",
       "      <th>67</th>\n",
       "      <td>46</td>\n",
       "      <td>67</td>\n",
       "      <td>39.868732</td>\n",
       "      <td>746.625366</td>\n",
       "      <td>0.000000</td>\n",
       "      <td>46</td>\n",
       "      <td>46</td>\n",
       "      <td>5</td>\n",
       "      <td>0</td>\n",
       "      <td>False</td>\n",
       "      <td>44.366936</td>\n",
       "      <td>1356.0</td>\n",
       "    </tr>\n",
       "    <tr>\n",
       "      <th>68</th>\n",
       "      <td>46</td>\n",
       "      <td>68</td>\n",
       "      <td>41.314529</td>\n",
       "      <td>746.081909</td>\n",
       "      <td>0.000000</td>\n",
       "      <td>46</td>\n",
       "      <td>46</td>\n",
       "      <td>5</td>\n",
       "      <td>0</td>\n",
       "      <td>False</td>\n",
       "      <td>42.442787</td>\n",
       "      <td>1294.0</td>\n",
       "    </tr>\n",
       "    <tr>\n",
       "      <th>69</th>\n",
       "      <td>46</td>\n",
       "      <td>69</td>\n",
       "      <td>44.818840</td>\n",
       "      <td>749.020264</td>\n",
       "      <td>0.000000</td>\n",
       "      <td>46</td>\n",
       "      <td>46</td>\n",
       "      <td>5</td>\n",
       "      <td>0</td>\n",
       "      <td>False</td>\n",
       "      <td>45.775169</td>\n",
       "      <td>1380.0</td>\n",
       "    </tr>\n",
       "    <tr>\n",
       "      <th>70</th>\n",
       "      <td>46</td>\n",
       "      <td>70</td>\n",
       "      <td>43.325092</td>\n",
       "      <td>749.646423</td>\n",
       "      <td>0.000000</td>\n",
       "      <td>46</td>\n",
       "      <td>46</td>\n",
       "      <td>5</td>\n",
       "      <td>0</td>\n",
       "      <td>False</td>\n",
       "      <td>44.968403</td>\n",
       "      <td>1335.0</td>\n",
       "    </tr>\n",
       "    <tr>\n",
       "      <th>71</th>\n",
       "      <td>46</td>\n",
       "      <td>71</td>\n",
       "      <td>39.426598</td>\n",
       "      <td>751.930237</td>\n",
       "      <td>0.000000</td>\n",
       "      <td>46</td>\n",
       "      <td>46</td>\n",
       "      <td>5</td>\n",
       "      <td>0</td>\n",
       "      <td>False</td>\n",
       "      <td>46.177204</td>\n",
       "      <td>1376.0</td>\n",
       "    </tr>\n",
       "    <tr>\n",
       "      <th>72</th>\n",
       "      <td>46</td>\n",
       "      <td>72</td>\n",
       "      <td>40.634499</td>\n",
       "      <td>753.791809</td>\n",
       "      <td>0.000000</td>\n",
       "      <td>46</td>\n",
       "      <td>46</td>\n",
       "      <td>5</td>\n",
       "      <td>0</td>\n",
       "      <td>False</td>\n",
       "      <td>43.477524</td>\n",
       "      <td>1316.0</td>\n",
       "    </tr>\n",
       "    <tr>\n",
       "      <th>73</th>\n",
       "      <td>46</td>\n",
       "      <td>73</td>\n",
       "      <td>33.306637</td>\n",
       "      <td>754.673523</td>\n",
       "      <td>0.000000</td>\n",
       "      <td>46</td>\n",
       "      <td>46</td>\n",
       "      <td>5</td>\n",
       "      <td>0</td>\n",
       "      <td>False</td>\n",
       "      <td>44.291534</td>\n",
       "      <td>1311.0</td>\n",
       "    </tr>\n",
       "    <tr>\n",
       "      <th>74</th>\n",
       "      <td>46</td>\n",
       "      <td>74</td>\n",
       "      <td>41.713451</td>\n",
       "      <td>757.014648</td>\n",
       "      <td>0.000000</td>\n",
       "      <td>46</td>\n",
       "      <td>46</td>\n",
       "      <td>5</td>\n",
       "      <td>0</td>\n",
       "      <td>False</td>\n",
       "      <td>44.757603</td>\n",
       "      <td>1368.0</td>\n",
       "    </tr>\n",
       "    <tr>\n",
       "      <th>75</th>\n",
       "      <td>46</td>\n",
       "      <td>75</td>\n",
       "      <td>39.985874</td>\n",
       "      <td>759.057190</td>\n",
       "      <td>0.000000</td>\n",
       "      <td>46</td>\n",
       "      <td>46</td>\n",
       "      <td>5</td>\n",
       "      <td>0</td>\n",
       "      <td>False</td>\n",
       "      <td>45.913242</td>\n",
       "      <td>1416.0</td>\n",
       "    </tr>\n",
       "    <tr>\n",
       "      <th>76</th>\n",
       "      <td>46</td>\n",
       "      <td>76</td>\n",
       "      <td>42.395493</td>\n",
       "      <td>759.049194</td>\n",
       "      <td>0.000000</td>\n",
       "      <td>46</td>\n",
       "      <td>46</td>\n",
       "      <td>5</td>\n",
       "      <td>0</td>\n",
       "      <td>False</td>\n",
       "      <td>46.850140</td>\n",
       "      <td>1464.0</td>\n",
       "    </tr>\n",
       "    <tr>\n",
       "      <th>77</th>\n",
       "      <td>46</td>\n",
       "      <td>77</td>\n",
       "      <td>41.652428</td>\n",
       "      <td>757.284546</td>\n",
       "      <td>0.000000</td>\n",
       "      <td>46</td>\n",
       "      <td>46</td>\n",
       "      <td>5</td>\n",
       "      <td>0</td>\n",
       "      <td>False</td>\n",
       "      <td>44.942669</td>\n",
       "      <td>1381.0</td>\n",
       "    </tr>\n",
       "    <tr>\n",
       "      <th>78</th>\n",
       "      <td>46</td>\n",
       "      <td>78</td>\n",
       "      <td>42.885593</td>\n",
       "      <td>758.904663</td>\n",
       "      <td>0.000000</td>\n",
       "      <td>46</td>\n",
       "      <td>46</td>\n",
       "      <td>5</td>\n",
       "      <td>0</td>\n",
       "      <td>False</td>\n",
       "      <td>47.574070</td>\n",
       "      <td>1416.0</td>\n",
       "    </tr>\n",
       "    <tr>\n",
       "      <th>79</th>\n",
       "      <td>46</td>\n",
       "      <td>79</td>\n",
       "      <td>43.484909</td>\n",
       "      <td>760.087097</td>\n",
       "      <td>0.368857</td>\n",
       "      <td>46</td>\n",
       "      <td>46</td>\n",
       "      <td>5</td>\n",
       "      <td>0</td>\n",
       "      <td>True</td>\n",
       "      <td>NaN</td>\n",
       "      <td>NaN</td>\n",
       "    </tr>\n",
       "    <tr>\n",
       "      <th>80</th>\n",
       "      <td>46</td>\n",
       "      <td>80</td>\n",
       "      <td>44.015373</td>\n",
       "      <td>759.704407</td>\n",
       "      <td>0.000000</td>\n",
       "      <td>46</td>\n",
       "      <td>46</td>\n",
       "      <td>5</td>\n",
       "      <td>0</td>\n",
       "      <td>False</td>\n",
       "      <td>47.605145</td>\n",
       "      <td>1431.0</td>\n",
       "    </tr>\n",
       "    <tr>\n",
       "      <th>81</th>\n",
       "      <td>46</td>\n",
       "      <td>81</td>\n",
       "      <td>48.676632</td>\n",
       "      <td>761.455139</td>\n",
       "      <td>0.000000</td>\n",
       "      <td>46</td>\n",
       "      <td>46</td>\n",
       "      <td>5</td>\n",
       "      <td>0</td>\n",
       "      <td>False</td>\n",
       "      <td>47.727612</td>\n",
       "      <td>1472.0</td>\n",
       "    </tr>\n",
       "    <tr>\n",
       "      <th>82</th>\n",
       "      <td>46</td>\n",
       "      <td>82</td>\n",
       "      <td>47.179306</td>\n",
       "      <td>760.966675</td>\n",
       "      <td>0.000000</td>\n",
       "      <td>46</td>\n",
       "      <td>46</td>\n",
       "      <td>5</td>\n",
       "      <td>0</td>\n",
       "      <td>False</td>\n",
       "      <td>46.424168</td>\n",
       "      <td>1411.0</td>\n",
       "    </tr>\n",
       "    <tr>\n",
       "      <th>83</th>\n",
       "      <td>46</td>\n",
       "      <td>83</td>\n",
       "      <td>52.162994</td>\n",
       "      <td>759.765076</td>\n",
       "      <td>0.000000</td>\n",
       "      <td>46</td>\n",
       "      <td>46</td>\n",
       "      <td>5</td>\n",
       "      <td>0</td>\n",
       "      <td>False</td>\n",
       "      <td>45.265987</td>\n",
       "      <td>1362.0</td>\n",
       "    </tr>\n",
       "    <tr>\n",
       "      <th>84</th>\n",
       "      <td>46</td>\n",
       "      <td>84</td>\n",
       "      <td>55.079773</td>\n",
       "      <td>761.252869</td>\n",
       "      <td>0.000000</td>\n",
       "      <td>46</td>\n",
       "      <td>46</td>\n",
       "      <td>5</td>\n",
       "      <td>0</td>\n",
       "      <td>False</td>\n",
       "      <td>46.680683</td>\n",
       "      <td>1404.0</td>\n",
       "    </tr>\n",
       "    <tr>\n",
       "      <th>85</th>\n",
       "      <td>46</td>\n",
       "      <td>85</td>\n",
       "      <td>50.719067</td>\n",
       "      <td>760.601868</td>\n",
       "      <td>0.000000</td>\n",
       "      <td>46</td>\n",
       "      <td>46</td>\n",
       "      <td>5</td>\n",
       "      <td>0</td>\n",
       "      <td>False</td>\n",
       "      <td>45.287300</td>\n",
       "      <td>1374.0</td>\n",
       "    </tr>\n",
       "    <tr>\n",
       "      <th>86</th>\n",
       "      <td>46</td>\n",
       "      <td>86</td>\n",
       "      <td>53.140327</td>\n",
       "      <td>761.698242</td>\n",
       "      <td>0.000000</td>\n",
       "      <td>46</td>\n",
       "      <td>46</td>\n",
       "      <td>5</td>\n",
       "      <td>0</td>\n",
       "      <td>False</td>\n",
       "      <td>46.688171</td>\n",
       "      <td>1468.0</td>\n",
       "    </tr>\n",
       "    <tr>\n",
       "      <th>87</th>\n",
       "      <td>46</td>\n",
       "      <td>87</td>\n",
       "      <td>54.295376</td>\n",
       "      <td>763.336121</td>\n",
       "      <td>0.000000</td>\n",
       "      <td>46</td>\n",
       "      <td>46</td>\n",
       "      <td>5</td>\n",
       "      <td>0</td>\n",
       "      <td>False</td>\n",
       "      <td>46.783096</td>\n",
       "      <td>1449.0</td>\n",
       "    </tr>\n",
       "    <tr>\n",
       "      <th>88</th>\n",
       "      <td>46</td>\n",
       "      <td>88</td>\n",
       "      <td>53.441006</td>\n",
       "      <td>764.128296</td>\n",
       "      <td>0.000000</td>\n",
       "      <td>46</td>\n",
       "      <td>46</td>\n",
       "      <td>5</td>\n",
       "      <td>0</td>\n",
       "      <td>False</td>\n",
       "      <td>49.432030</td>\n",
       "      <td>1551.0</td>\n",
       "    </tr>\n",
       "    <tr>\n",
       "      <th>89</th>\n",
       "      <td>46</td>\n",
       "      <td>89</td>\n",
       "      <td>53.730698</td>\n",
       "      <td>764.432922</td>\n",
       "      <td>-0.387081</td>\n",
       "      <td>46</td>\n",
       "      <td>46</td>\n",
       "      <td>5</td>\n",
       "      <td>0</td>\n",
       "      <td>True</td>\n",
       "      <td>NaN</td>\n",
       "      <td>NaN</td>\n",
       "    </tr>\n",
       "    <tr>\n",
       "      <th>90</th>\n",
       "      <td>46</td>\n",
       "      <td>90</td>\n",
       "      <td>59.120667</td>\n",
       "      <td>764.440979</td>\n",
       "      <td>0.000000</td>\n",
       "      <td>46</td>\n",
       "      <td>46</td>\n",
       "      <td>5</td>\n",
       "      <td>0</td>\n",
       "      <td>False</td>\n",
       "      <td>47.678406</td>\n",
       "      <td>1558.0</td>\n",
       "    </tr>\n",
       "    <tr>\n",
       "      <th>91</th>\n",
       "      <td>46</td>\n",
       "      <td>91</td>\n",
       "      <td>63.699142</td>\n",
       "      <td>765.945374</td>\n",
       "      <td>0.000000</td>\n",
       "      <td>46</td>\n",
       "      <td>46</td>\n",
       "      <td>5</td>\n",
       "      <td>0</td>\n",
       "      <td>False</td>\n",
       "      <td>45.702888</td>\n",
       "      <td>1519.0</td>\n",
       "    </tr>\n",
       "    <tr>\n",
       "      <th>92</th>\n",
       "      <td>46</td>\n",
       "      <td>92</td>\n",
       "      <td>58.382156</td>\n",
       "      <td>769.010437</td>\n",
       "      <td>0.000000</td>\n",
       "      <td>46</td>\n",
       "      <td>46</td>\n",
       "      <td>5</td>\n",
       "      <td>0</td>\n",
       "      <td>False</td>\n",
       "      <td>46.318325</td>\n",
       "      <td>1345.0</td>\n",
       "    </tr>\n",
       "    <tr>\n",
       "      <th>93</th>\n",
       "      <td>46</td>\n",
       "      <td>93</td>\n",
       "      <td>60.526245</td>\n",
       "      <td>771.785950</td>\n",
       "      <td>0.000000</td>\n",
       "      <td>46</td>\n",
       "      <td>46</td>\n",
       "      <td>5</td>\n",
       "      <td>0</td>\n",
       "      <td>False</td>\n",
       "      <td>47.344498</td>\n",
       "      <td>1467.0</td>\n",
       "    </tr>\n",
       "    <tr>\n",
       "      <th>94</th>\n",
       "      <td>46</td>\n",
       "      <td>94</td>\n",
       "      <td>61.577538</td>\n",
       "      <td>772.255798</td>\n",
       "      <td>0.000000</td>\n",
       "      <td>46</td>\n",
       "      <td>46</td>\n",
       "      <td>5</td>\n",
       "      <td>0</td>\n",
       "      <td>False</td>\n",
       "      <td>45.389652</td>\n",
       "      <td>1380.0</td>\n",
       "    </tr>\n",
       "    <tr>\n",
       "      <th>95</th>\n",
       "      <td>46</td>\n",
       "      <td>95</td>\n",
       "      <td>59.234859</td>\n",
       "      <td>773.592346</td>\n",
       "      <td>0.000000</td>\n",
       "      <td>46</td>\n",
       "      <td>46</td>\n",
       "      <td>5</td>\n",
       "      <td>0</td>\n",
       "      <td>False</td>\n",
       "      <td>46.844894</td>\n",
       "      <td>1354.0</td>\n",
       "    </tr>\n",
       "    <tr>\n",
       "      <th>96</th>\n",
       "      <td>46</td>\n",
       "      <td>96</td>\n",
       "      <td>59.048752</td>\n",
       "      <td>773.700928</td>\n",
       "      <td>-0.896677</td>\n",
       "      <td>46</td>\n",
       "      <td>46</td>\n",
       "      <td>5</td>\n",
       "      <td>0</td>\n",
       "      <td>True</td>\n",
       "      <td>NaN</td>\n",
       "      <td>NaN</td>\n",
       "    </tr>\n",
       "    <tr>\n",
       "      <th>97</th>\n",
       "      <td>46</td>\n",
       "      <td>97</td>\n",
       "      <td>62.985580</td>\n",
       "      <td>778.754150</td>\n",
       "      <td>0.000000</td>\n",
       "      <td>46</td>\n",
       "      <td>46</td>\n",
       "      <td>5</td>\n",
       "      <td>0</td>\n",
       "      <td>False</td>\n",
       "      <td>47.201767</td>\n",
       "      <td>1387.0</td>\n",
       "    </tr>\n",
       "    <tr>\n",
       "      <th>98</th>\n",
       "      <td>46</td>\n",
       "      <td>98</td>\n",
       "      <td>62.259392</td>\n",
       "      <td>779.263733</td>\n",
       "      <td>0.000000</td>\n",
       "      <td>46</td>\n",
       "      <td>46</td>\n",
       "      <td>5</td>\n",
       "      <td>0</td>\n",
       "      <td>False</td>\n",
       "      <td>45.995449</td>\n",
       "      <td>1384.0</td>\n",
       "    </tr>\n",
       "    <tr>\n",
       "      <th>99</th>\n",
       "      <td>46</td>\n",
       "      <td>99</td>\n",
       "      <td>63.641563</td>\n",
       "      <td>779.364929</td>\n",
       "      <td>0.000000</td>\n",
       "      <td>46</td>\n",
       "      <td>46</td>\n",
       "      <td>5</td>\n",
       "      <td>0</td>\n",
       "      <td>False</td>\n",
       "      <td>48.105469</td>\n",
       "      <td>1381.0</td>\n",
       "    </tr>\n",
       "    <tr>\n",
       "      <th>100</th>\n",
       "      <td>46</td>\n",
       "      <td>100</td>\n",
       "      <td>67.066208</td>\n",
       "      <td>780.307861</td>\n",
       "      <td>0.000000</td>\n",
       "      <td>46</td>\n",
       "      <td>46</td>\n",
       "      <td>5</td>\n",
       "      <td>0</td>\n",
       "      <td>False</td>\n",
       "      <td>48.349869</td>\n",
       "      <td>1465.0</td>\n",
       "    </tr>\n",
       "    <tr>\n",
       "      <th>101</th>\n",
       "      <td>46</td>\n",
       "      <td>101</td>\n",
       "      <td>68.774559</td>\n",
       "      <td>782.141174</td>\n",
       "      <td>0.697146</td>\n",
       "      <td>46</td>\n",
       "      <td>46</td>\n",
       "      <td>5</td>\n",
       "      <td>0</td>\n",
       "      <td>True</td>\n",
       "      <td>NaN</td>\n",
       "      <td>NaN</td>\n",
       "    </tr>\n",
       "    <tr>\n",
       "      <th>102</th>\n",
       "      <td>46</td>\n",
       "      <td>102</td>\n",
       "      <td>66.489090</td>\n",
       "      <td>781.274475</td>\n",
       "      <td>0.000000</td>\n",
       "      <td>46</td>\n",
       "      <td>46</td>\n",
       "      <td>5</td>\n",
       "      <td>0</td>\n",
       "      <td>False</td>\n",
       "      <td>47.474865</td>\n",
       "      <td>1421.0</td>\n",
       "    </tr>\n",
       "    <tr>\n",
       "      <th>103</th>\n",
       "      <td>46</td>\n",
       "      <td>103</td>\n",
       "      <td>72.976364</td>\n",
       "      <td>783.412842</td>\n",
       "      <td>0.000000</td>\n",
       "      <td>46</td>\n",
       "      <td>46</td>\n",
       "      <td>5</td>\n",
       "      <td>0</td>\n",
       "      <td>False</td>\n",
       "      <td>47.051231</td>\n",
       "      <td>1354.0</td>\n",
       "    </tr>\n",
       "    <tr>\n",
       "      <th>104</th>\n",
       "      <td>46</td>\n",
       "      <td>104</td>\n",
       "      <td>66.996620</td>\n",
       "      <td>782.997314</td>\n",
       "      <td>0.000000</td>\n",
       "      <td>46</td>\n",
       "      <td>46</td>\n",
       "      <td>5</td>\n",
       "      <td>0</td>\n",
       "      <td>False</td>\n",
       "      <td>48.276699</td>\n",
       "      <td>1479.0</td>\n",
       "    </tr>\n",
       "    <tr>\n",
       "      <th>105</th>\n",
       "      <td>46</td>\n",
       "      <td>105</td>\n",
       "      <td>65.955589</td>\n",
       "      <td>780.974304</td>\n",
       "      <td>0.000000</td>\n",
       "      <td>46</td>\n",
       "      <td>46</td>\n",
       "      <td>5</td>\n",
       "      <td>0</td>\n",
       "      <td>False</td>\n",
       "      <td>47.986874</td>\n",
       "      <td>1441.0</td>\n",
       "    </tr>\n",
       "    <tr>\n",
       "      <th>106</th>\n",
       "      <td>46</td>\n",
       "      <td>106</td>\n",
       "      <td>65.724091</td>\n",
       "      <td>781.337158</td>\n",
       "      <td>0.000000</td>\n",
       "      <td>46</td>\n",
       "      <td>46</td>\n",
       "      <td>5</td>\n",
       "      <td>0</td>\n",
       "      <td>False</td>\n",
       "      <td>49.317768</td>\n",
       "      <td>1486.0</td>\n",
       "    </tr>\n",
       "    <tr>\n",
       "      <th>107</th>\n",
       "      <td>46</td>\n",
       "      <td>107</td>\n",
       "      <td>69.814354</td>\n",
       "      <td>782.400940</td>\n",
       "      <td>0.000000</td>\n",
       "      <td>46</td>\n",
       "      <td>46</td>\n",
       "      <td>5</td>\n",
       "      <td>0</td>\n",
       "      <td>False</td>\n",
       "      <td>49.647903</td>\n",
       "      <td>1519.0</td>\n",
       "    </tr>\n",
       "    <tr>\n",
       "      <th>108</th>\n",
       "      <td>46</td>\n",
       "      <td>108</td>\n",
       "      <td>69.209793</td>\n",
       "      <td>781.333130</td>\n",
       "      <td>0.000000</td>\n",
       "      <td>46</td>\n",
       "      <td>46</td>\n",
       "      <td>5</td>\n",
       "      <td>0</td>\n",
       "      <td>False</td>\n",
       "      <td>48.937145</td>\n",
       "      <td>1573.0</td>\n",
       "    </tr>\n",
       "    <tr>\n",
       "      <th>109</th>\n",
       "      <td>46</td>\n",
       "      <td>109</td>\n",
       "      <td>62.307205</td>\n",
       "      <td>778.805786</td>\n",
       "      <td>0.000000</td>\n",
       "      <td>46</td>\n",
       "      <td>46</td>\n",
       "      <td>5</td>\n",
       "      <td>0</td>\n",
       "      <td>False</td>\n",
       "      <td>48.585739</td>\n",
       "      <td>1416.0</td>\n",
       "    </tr>\n",
       "    <tr>\n",
       "      <th>110</th>\n",
       "      <td>46</td>\n",
       "      <td>110</td>\n",
       "      <td>60.622463</td>\n",
       "      <td>774.832886</td>\n",
       "      <td>0.000000</td>\n",
       "      <td>46</td>\n",
       "      <td>46</td>\n",
       "      <td>5</td>\n",
       "      <td>0</td>\n",
       "      <td>False</td>\n",
       "      <td>49.733624</td>\n",
       "      <td>1478.0</td>\n",
       "    </tr>\n",
       "    <tr>\n",
       "      <th>111</th>\n",
       "      <td>46</td>\n",
       "      <td>111</td>\n",
       "      <td>69.377663</td>\n",
       "      <td>776.174194</td>\n",
       "      <td>0.000000</td>\n",
       "      <td>46</td>\n",
       "      <td>46</td>\n",
       "      <td>5</td>\n",
       "      <td>0</td>\n",
       "      <td>False</td>\n",
       "      <td>50.286449</td>\n",
       "      <td>1504.0</td>\n",
       "    </tr>\n",
       "    <tr>\n",
       "      <th>112</th>\n",
       "      <td>46</td>\n",
       "      <td>112</td>\n",
       "      <td>68.055916</td>\n",
       "      <td>776.481995</td>\n",
       "      <td>0.000000</td>\n",
       "      <td>46</td>\n",
       "      <td>46</td>\n",
       "      <td>5</td>\n",
       "      <td>0</td>\n",
       "      <td>False</td>\n",
       "      <td>49.901810</td>\n",
       "      <td>1556.0</td>\n",
       "    </tr>\n",
       "    <tr>\n",
       "      <th>113</th>\n",
       "      <td>46</td>\n",
       "      <td>113</td>\n",
       "      <td>67.177422</td>\n",
       "      <td>776.135254</td>\n",
       "      <td>0.000000</td>\n",
       "      <td>46</td>\n",
       "      <td>46</td>\n",
       "      <td>5</td>\n",
       "      <td>0</td>\n",
       "      <td>False</td>\n",
       "      <td>51.009365</td>\n",
       "      <td>1612.0</td>\n",
       "    </tr>\n",
       "    <tr>\n",
       "      <th>114</th>\n",
       "      <td>46</td>\n",
       "      <td>114</td>\n",
       "      <td>61.430027</td>\n",
       "      <td>775.239807</td>\n",
       "      <td>0.000000</td>\n",
       "      <td>46</td>\n",
       "      <td>46</td>\n",
       "      <td>5</td>\n",
       "      <td>0</td>\n",
       "      <td>False</td>\n",
       "      <td>49.711109</td>\n",
       "      <td>1472.0</td>\n",
       "    </tr>\n",
       "    <tr>\n",
       "      <th>115</th>\n",
       "      <td>46</td>\n",
       "      <td>115</td>\n",
       "      <td>65.045929</td>\n",
       "      <td>777.567566</td>\n",
       "      <td>0.000000</td>\n",
       "      <td>46</td>\n",
       "      <td>46</td>\n",
       "      <td>5</td>\n",
       "      <td>0</td>\n",
       "      <td>False</td>\n",
       "      <td>50.243732</td>\n",
       "      <td>1524.0</td>\n",
       "    </tr>\n",
       "    <tr>\n",
       "      <th>116</th>\n",
       "      <td>46</td>\n",
       "      <td>116</td>\n",
       "      <td>63.352745</td>\n",
       "      <td>777.817322</td>\n",
       "      <td>0.000000</td>\n",
       "      <td>46</td>\n",
       "      <td>46</td>\n",
       "      <td>5</td>\n",
       "      <td>0</td>\n",
       "      <td>False</td>\n",
       "      <td>48.353458</td>\n",
       "      <td>1511.0</td>\n",
       "    </tr>\n",
       "    <tr>\n",
       "      <th>117</th>\n",
       "      <td>46</td>\n",
       "      <td>117</td>\n",
       "      <td>62.083611</td>\n",
       "      <td>777.119751</td>\n",
       "      <td>0.000000</td>\n",
       "      <td>46</td>\n",
       "      <td>46</td>\n",
       "      <td>5</td>\n",
       "      <td>0</td>\n",
       "      <td>False</td>\n",
       "      <td>48.846710</td>\n",
       "      <td>1495.0</td>\n",
       "    </tr>\n",
       "    <tr>\n",
       "      <th>118</th>\n",
       "      <td>46</td>\n",
       "      <td>118</td>\n",
       "      <td>56.709614</td>\n",
       "      <td>778.270752</td>\n",
       "      <td>0.000000</td>\n",
       "      <td>46</td>\n",
       "      <td>46</td>\n",
       "      <td>5</td>\n",
       "      <td>0</td>\n",
       "      <td>False</td>\n",
       "      <td>49.265751</td>\n",
       "      <td>1529.0</td>\n",
       "    </tr>\n",
       "    <tr>\n",
       "      <th>119</th>\n",
       "      <td>46</td>\n",
       "      <td>119</td>\n",
       "      <td>63.034550</td>\n",
       "      <td>779.394043</td>\n",
       "      <td>0.000000</td>\n",
       "      <td>46</td>\n",
       "      <td>46</td>\n",
       "      <td>5</td>\n",
       "      <td>0</td>\n",
       "      <td>False</td>\n",
       "      <td>48.804394</td>\n",
       "      <td>1505.0</td>\n",
       "    </tr>\n",
       "    <tr>\n",
       "      <th>120</th>\n",
       "      <td>46</td>\n",
       "      <td>120</td>\n",
       "      <td>62.295586</td>\n",
       "      <td>778.854736</td>\n",
       "      <td>0.000000</td>\n",
       "      <td>46</td>\n",
       "      <td>46</td>\n",
       "      <td>5</td>\n",
       "      <td>0</td>\n",
       "      <td>False</td>\n",
       "      <td>50.853436</td>\n",
       "      <td>1563.0</td>\n",
       "    </tr>\n",
       "    <tr>\n",
       "      <th>121</th>\n",
       "      <td>46</td>\n",
       "      <td>121</td>\n",
       "      <td>62.571732</td>\n",
       "      <td>779.747559</td>\n",
       "      <td>0.000000</td>\n",
       "      <td>46</td>\n",
       "      <td>46</td>\n",
       "      <td>5</td>\n",
       "      <td>0</td>\n",
       "      <td>False</td>\n",
       "      <td>47.799671</td>\n",
       "      <td>1422.0</td>\n",
       "    </tr>\n",
       "    <tr>\n",
       "      <th>122</th>\n",
       "      <td>46</td>\n",
       "      <td>122</td>\n",
       "      <td>62.369461</td>\n",
       "      <td>780.585571</td>\n",
       "      <td>0.000000</td>\n",
       "      <td>46</td>\n",
       "      <td>46</td>\n",
       "      <td>5</td>\n",
       "      <td>0</td>\n",
       "      <td>False</td>\n",
       "      <td>48.835426</td>\n",
       "      <td>1467.0</td>\n",
       "    </tr>\n",
       "    <tr>\n",
       "      <th>123</th>\n",
       "      <td>46</td>\n",
       "      <td>123</td>\n",
       "      <td>54.403183</td>\n",
       "      <td>781.235107</td>\n",
       "      <td>0.000000</td>\n",
       "      <td>46</td>\n",
       "      <td>46</td>\n",
       "      <td>5</td>\n",
       "      <td>0</td>\n",
       "      <td>False</td>\n",
       "      <td>48.165932</td>\n",
       "      <td>1446.0</td>\n",
       "    </tr>\n",
       "    <tr>\n",
       "      <th>124</th>\n",
       "      <td>46</td>\n",
       "      <td>124</td>\n",
       "      <td>60.082661</td>\n",
       "      <td>780.477844</td>\n",
       "      <td>0.000000</td>\n",
       "      <td>46</td>\n",
       "      <td>46</td>\n",
       "      <td>5</td>\n",
       "      <td>0</td>\n",
       "      <td>False</td>\n",
       "      <td>48.633835</td>\n",
       "      <td>1488.0</td>\n",
       "    </tr>\n",
       "    <tr>\n",
       "      <th>125</th>\n",
       "      <td>46</td>\n",
       "      <td>125</td>\n",
       "      <td>63.265217</td>\n",
       "      <td>779.480103</td>\n",
       "      <td>0.000000</td>\n",
       "      <td>46</td>\n",
       "      <td>46</td>\n",
       "      <td>5</td>\n",
       "      <td>0</td>\n",
       "      <td>False</td>\n",
       "      <td>52.655018</td>\n",
       "      <td>1610.0</td>\n",
       "    </tr>\n",
       "    <tr>\n",
       "      <th>126</th>\n",
       "      <td>46</td>\n",
       "      <td>126</td>\n",
       "      <td>62.410702</td>\n",
       "      <td>780.582581</td>\n",
       "      <td>0.000000</td>\n",
       "      <td>46</td>\n",
       "      <td>46</td>\n",
       "      <td>5</td>\n",
       "      <td>0</td>\n",
       "      <td>False</td>\n",
       "      <td>48.221855</td>\n",
       "      <td>1495.0</td>\n",
       "    </tr>\n",
       "    <tr>\n",
       "      <th>127</th>\n",
       "      <td>46</td>\n",
       "      <td>127</td>\n",
       "      <td>58.131863</td>\n",
       "      <td>780.919250</td>\n",
       "      <td>0.000000</td>\n",
       "      <td>46</td>\n",
       "      <td>46</td>\n",
       "      <td>5</td>\n",
       "      <td>0</td>\n",
       "      <td>False</td>\n",
       "      <td>51.410515</td>\n",
       "      <td>1585.0</td>\n",
       "    </tr>\n",
       "    <tr>\n",
       "      <th>128</th>\n",
       "      <td>46</td>\n",
       "      <td>128</td>\n",
       "      <td>67.030678</td>\n",
       "      <td>782.139709</td>\n",
       "      <td>0.000000</td>\n",
       "      <td>46</td>\n",
       "      <td>46</td>\n",
       "      <td>5</td>\n",
       "      <td>0</td>\n",
       "      <td>False</td>\n",
       "      <td>48.824974</td>\n",
       "      <td>1532.0</td>\n",
       "    </tr>\n",
       "    <tr>\n",
       "      <th>129</th>\n",
       "      <td>46</td>\n",
       "      <td>129</td>\n",
       "      <td>67.704262</td>\n",
       "      <td>784.816345</td>\n",
       "      <td>0.000000</td>\n",
       "      <td>46</td>\n",
       "      <td>46</td>\n",
       "      <td>5</td>\n",
       "      <td>0</td>\n",
       "      <td>False</td>\n",
       "      <td>47.014488</td>\n",
       "      <td>1454.0</td>\n",
       "    </tr>\n",
       "    <tr>\n",
       "      <th>130</th>\n",
       "      <td>46</td>\n",
       "      <td>130</td>\n",
       "      <td>65.666229</td>\n",
       "      <td>783.424438</td>\n",
       "      <td>0.000000</td>\n",
       "      <td>46</td>\n",
       "      <td>46</td>\n",
       "      <td>5</td>\n",
       "      <td>0</td>\n",
       "      <td>False</td>\n",
       "      <td>48.690716</td>\n",
       "      <td>1522.0</td>\n",
       "    </tr>\n",
       "    <tr>\n",
       "      <th>131</th>\n",
       "      <td>46</td>\n",
       "      <td>131</td>\n",
       "      <td>67.365097</td>\n",
       "      <td>782.750305</td>\n",
       "      <td>0.000000</td>\n",
       "      <td>46</td>\n",
       "      <td>46</td>\n",
       "      <td>5</td>\n",
       "      <td>0</td>\n",
       "      <td>False</td>\n",
       "      <td>47.390480</td>\n",
       "      <td>1490.0</td>\n",
       "    </tr>\n",
       "    <tr>\n",
       "      <th>132</th>\n",
       "      <td>46</td>\n",
       "      <td>132</td>\n",
       "      <td>65.102280</td>\n",
       "      <td>783.403931</td>\n",
       "      <td>0.000000</td>\n",
       "      <td>46</td>\n",
       "      <td>46</td>\n",
       "      <td>5</td>\n",
       "      <td>0</td>\n",
       "      <td>False</td>\n",
       "      <td>48.386581</td>\n",
       "      <td>1535.0</td>\n",
       "    </tr>\n",
       "    <tr>\n",
       "      <th>133</th>\n",
       "      <td>46</td>\n",
       "      <td>133</td>\n",
       "      <td>63.461739</td>\n",
       "      <td>783.567688</td>\n",
       "      <td>0.000000</td>\n",
       "      <td>46</td>\n",
       "      <td>46</td>\n",
       "      <td>5</td>\n",
       "      <td>0</td>\n",
       "      <td>False</td>\n",
       "      <td>47.326813</td>\n",
       "      <td>1529.0</td>\n",
       "    </tr>\n",
       "    <tr>\n",
       "      <th>134</th>\n",
       "      <td>46</td>\n",
       "      <td>134</td>\n",
       "      <td>66.247604</td>\n",
       "      <td>782.320129</td>\n",
       "      <td>0.000000</td>\n",
       "      <td>46</td>\n",
       "      <td>46</td>\n",
       "      <td>5</td>\n",
       "      <td>0</td>\n",
       "      <td>False</td>\n",
       "      <td>52.076660</td>\n",
       "      <td>1668.0</td>\n",
       "    </tr>\n",
       "    <tr>\n",
       "      <th>135</th>\n",
       "      <td>46</td>\n",
       "      <td>135</td>\n",
       "      <td>70.311226</td>\n",
       "      <td>784.622437</td>\n",
       "      <td>0.000000</td>\n",
       "      <td>46</td>\n",
       "      <td>46</td>\n",
       "      <td>5</td>\n",
       "      <td>0</td>\n",
       "      <td>False</td>\n",
       "      <td>48.656509</td>\n",
       "      <td>1568.0</td>\n",
       "    </tr>\n",
       "    <tr>\n",
       "      <th>136</th>\n",
       "      <td>46</td>\n",
       "      <td>136</td>\n",
       "      <td>73.931847</td>\n",
       "      <td>787.667908</td>\n",
       "      <td>0.000000</td>\n",
       "      <td>46</td>\n",
       "      <td>46</td>\n",
       "      <td>5</td>\n",
       "      <td>0</td>\n",
       "      <td>False</td>\n",
       "      <td>49.612835</td>\n",
       "      <td>1614.0</td>\n",
       "    </tr>\n",
       "    <tr>\n",
       "      <th>137</th>\n",
       "      <td>46</td>\n",
       "      <td>137</td>\n",
       "      <td>63.807716</td>\n",
       "      <td>784.773071</td>\n",
       "      <td>0.000000</td>\n",
       "      <td>46</td>\n",
       "      <td>46</td>\n",
       "      <td>5</td>\n",
       "      <td>0</td>\n",
       "      <td>False</td>\n",
       "      <td>48.150970</td>\n",
       "      <td>1529.0</td>\n",
       "    </tr>\n",
       "    <tr>\n",
       "      <th>138</th>\n",
       "      <td>46</td>\n",
       "      <td>138</td>\n",
       "      <td>64.879295</td>\n",
       "      <td>785.813110</td>\n",
       "      <td>0.000000</td>\n",
       "      <td>46</td>\n",
       "      <td>46</td>\n",
       "      <td>5</td>\n",
       "      <td>0</td>\n",
       "      <td>False</td>\n",
       "      <td>50.042027</td>\n",
       "      <td>1541.0</td>\n",
       "    </tr>\n",
       "    <tr>\n",
       "      <th>139</th>\n",
       "      <td>46</td>\n",
       "      <td>139</td>\n",
       "      <td>68.386444</td>\n",
       "      <td>788.067200</td>\n",
       "      <td>0.000000</td>\n",
       "      <td>46</td>\n",
       "      <td>46</td>\n",
       "      <td>5</td>\n",
       "      <td>0</td>\n",
       "      <td>False</td>\n",
       "      <td>52.747654</td>\n",
       "      <td>1682.0</td>\n",
       "    </tr>\n",
       "    <tr>\n",
       "      <th>140</th>\n",
       "      <td>46</td>\n",
       "      <td>140</td>\n",
       "      <td>73.517715</td>\n",
       "      <td>790.874451</td>\n",
       "      <td>0.000000</td>\n",
       "      <td>46</td>\n",
       "      <td>46</td>\n",
       "      <td>5</td>\n",
       "      <td>0</td>\n",
       "      <td>False</td>\n",
       "      <td>51.338737</td>\n",
       "      <td>1609.0</td>\n",
       "    </tr>\n",
       "    <tr>\n",
       "      <th>141</th>\n",
       "      <td>46</td>\n",
       "      <td>141</td>\n",
       "      <td>68.318756</td>\n",
       "      <td>789.834595</td>\n",
       "      <td>0.000000</td>\n",
       "      <td>46</td>\n",
       "      <td>46</td>\n",
       "      <td>5</td>\n",
       "      <td>0</td>\n",
       "      <td>False</td>\n",
       "      <td>51.223740</td>\n",
       "      <td>1578.0</td>\n",
       "    </tr>\n",
       "    <tr>\n",
       "      <th>142</th>\n",
       "      <td>46</td>\n",
       "      <td>142</td>\n",
       "      <td>66.545616</td>\n",
       "      <td>790.211914</td>\n",
       "      <td>0.000000</td>\n",
       "      <td>46</td>\n",
       "      <td>46</td>\n",
       "      <td>5</td>\n",
       "      <td>0</td>\n",
       "      <td>False</td>\n",
       "      <td>52.900768</td>\n",
       "      <td>1699.0</td>\n",
       "    </tr>\n",
       "    <tr>\n",
       "      <th>143</th>\n",
       "      <td>46</td>\n",
       "      <td>143</td>\n",
       "      <td>65.617722</td>\n",
       "      <td>790.756775</td>\n",
       "      <td>0.000000</td>\n",
       "      <td>46</td>\n",
       "      <td>46</td>\n",
       "      <td>5</td>\n",
       "      <td>0</td>\n",
       "      <td>False</td>\n",
       "      <td>48.562084</td>\n",
       "      <td>1546.0</td>\n",
       "    </tr>\n",
       "    <tr>\n",
       "      <th>144</th>\n",
       "      <td>46</td>\n",
       "      <td>144</td>\n",
       "      <td>73.284668</td>\n",
       "      <td>791.700684</td>\n",
       "      <td>0.000000</td>\n",
       "      <td>46</td>\n",
       "      <td>46</td>\n",
       "      <td>5</td>\n",
       "      <td>0</td>\n",
       "      <td>False</td>\n",
       "      <td>50.723640</td>\n",
       "      <td>1637.0</td>\n",
       "    </tr>\n",
       "    <tr>\n",
       "      <th>145</th>\n",
       "      <td>46</td>\n",
       "      <td>145</td>\n",
       "      <td>65.853661</td>\n",
       "      <td>791.227417</td>\n",
       "      <td>0.000000</td>\n",
       "      <td>46</td>\n",
       "      <td>46</td>\n",
       "      <td>5</td>\n",
       "      <td>0</td>\n",
       "      <td>False</td>\n",
       "      <td>50.155014</td>\n",
       "      <td>1640.0</td>\n",
       "    </tr>\n",
       "    <tr>\n",
       "      <th>146</th>\n",
       "      <td>46</td>\n",
       "      <td>146</td>\n",
       "      <td>67.770287</td>\n",
       "      <td>791.429016</td>\n",
       "      <td>0.000000</td>\n",
       "      <td>46</td>\n",
       "      <td>46</td>\n",
       "      <td>5</td>\n",
       "      <td>0</td>\n",
       "      <td>False</td>\n",
       "      <td>51.820278</td>\n",
       "      <td>1676.0</td>\n",
       "    </tr>\n",
       "    <tr>\n",
       "      <th>147</th>\n",
       "      <td>46</td>\n",
       "      <td>147</td>\n",
       "      <td>65.311623</td>\n",
       "      <td>792.171631</td>\n",
       "      <td>0.000000</td>\n",
       "      <td>46</td>\n",
       "      <td>46</td>\n",
       "      <td>5</td>\n",
       "      <td>0</td>\n",
       "      <td>False</td>\n",
       "      <td>51.900879</td>\n",
       "      <td>1643.0</td>\n",
       "    </tr>\n",
       "    <tr>\n",
       "      <th>148</th>\n",
       "      <td>46</td>\n",
       "      <td>148</td>\n",
       "      <td>71.987434</td>\n",
       "      <td>793.655273</td>\n",
       "      <td>0.000000</td>\n",
       "      <td>46</td>\n",
       "      <td>46</td>\n",
       "      <td>5</td>\n",
       "      <td>0</td>\n",
       "      <td>False</td>\n",
       "      <td>51.522900</td>\n",
       "      <td>1671.0</td>\n",
       "    </tr>\n",
       "    <tr>\n",
       "      <th>149</th>\n",
       "      <td>46</td>\n",
       "      <td>149</td>\n",
       "      <td>63.365795</td>\n",
       "      <td>791.181702</td>\n",
       "      <td>0.000000</td>\n",
       "      <td>46</td>\n",
       "      <td>46</td>\n",
       "      <td>5</td>\n",
       "      <td>0</td>\n",
       "      <td>False</td>\n",
       "      <td>50.761578</td>\n",
       "      <td>1684.0</td>\n",
       "    </tr>\n",
       "    <tr>\n",
       "      <th>150</th>\n",
       "      <td>46</td>\n",
       "      <td>150</td>\n",
       "      <td>64.349411</td>\n",
       "      <td>792.262817</td>\n",
       "      <td>0.000000</td>\n",
       "      <td>46</td>\n",
       "      <td>46</td>\n",
       "      <td>5</td>\n",
       "      <td>0</td>\n",
       "      <td>False</td>\n",
       "      <td>49.296597</td>\n",
       "      <td>1617.0</td>\n",
       "    </tr>\n",
       "    <tr>\n",
       "      <th>151</th>\n",
       "      <td>46</td>\n",
       "      <td>151</td>\n",
       "      <td>64.779480</td>\n",
       "      <td>795.467590</td>\n",
       "      <td>0.000000</td>\n",
       "      <td>46</td>\n",
       "      <td>46</td>\n",
       "      <td>5</td>\n",
       "      <td>0</td>\n",
       "      <td>False</td>\n",
       "      <td>51.090218</td>\n",
       "      <td>1696.0</td>\n",
       "    </tr>\n",
       "    <tr>\n",
       "      <th>152</th>\n",
       "      <td>46</td>\n",
       "      <td>152</td>\n",
       "      <td>63.723644</td>\n",
       "      <td>795.630127</td>\n",
       "      <td>0.000000</td>\n",
       "      <td>46</td>\n",
       "      <td>46</td>\n",
       "      <td>5</td>\n",
       "      <td>0</td>\n",
       "      <td>False</td>\n",
       "      <td>52.158333</td>\n",
       "      <td>1679.0</td>\n",
       "    </tr>\n",
       "    <tr>\n",
       "      <th>153</th>\n",
       "      <td>46</td>\n",
       "      <td>153</td>\n",
       "      <td>63.777916</td>\n",
       "      <td>795.913635</td>\n",
       "      <td>0.000000</td>\n",
       "      <td>46</td>\n",
       "      <td>46</td>\n",
       "      <td>5</td>\n",
       "      <td>0</td>\n",
       "      <td>False</td>\n",
       "      <td>51.330341</td>\n",
       "      <td>1621.0</td>\n",
       "    </tr>\n",
       "    <tr>\n",
       "      <th>154</th>\n",
       "      <td>46</td>\n",
       "      <td>154</td>\n",
       "      <td>65.511414</td>\n",
       "      <td>797.272034</td>\n",
       "      <td>0.000000</td>\n",
       "      <td>46</td>\n",
       "      <td>46</td>\n",
       "      <td>5</td>\n",
       "      <td>0</td>\n",
       "      <td>False</td>\n",
       "      <td>50.882393</td>\n",
       "      <td>1621.0</td>\n",
       "    </tr>\n",
       "    <tr>\n",
       "      <th>155</th>\n",
       "      <td>46</td>\n",
       "      <td>155</td>\n",
       "      <td>67.595062</td>\n",
       "      <td>798.385315</td>\n",
       "      <td>0.000000</td>\n",
       "      <td>46</td>\n",
       "      <td>46</td>\n",
       "      <td>5</td>\n",
       "      <td>0</td>\n",
       "      <td>False</td>\n",
       "      <td>53.837742</td>\n",
       "      <td>1783.0</td>\n",
       "    </tr>\n",
       "    <tr>\n",
       "      <th>156</th>\n",
       "      <td>46</td>\n",
       "      <td>156</td>\n",
       "      <td>59.898056</td>\n",
       "      <td>797.382446</td>\n",
       "      <td>0.000000</td>\n",
       "      <td>46</td>\n",
       "      <td>46</td>\n",
       "      <td>5</td>\n",
       "      <td>0</td>\n",
       "      <td>False</td>\n",
       "      <td>50.048763</td>\n",
       "      <td>1697.0</td>\n",
       "    </tr>\n",
       "    <tr>\n",
       "      <th>157</th>\n",
       "      <td>46</td>\n",
       "      <td>157</td>\n",
       "      <td>59.302845</td>\n",
       "      <td>795.384033</td>\n",
       "      <td>0.000000</td>\n",
       "      <td>46</td>\n",
       "      <td>46</td>\n",
       "      <td>5</td>\n",
       "      <td>0</td>\n",
       "      <td>False</td>\n",
       "      <td>50.114479</td>\n",
       "      <td>1651.0</td>\n",
       "    </tr>\n",
       "    <tr>\n",
       "      <th>158</th>\n",
       "      <td>46</td>\n",
       "      <td>158</td>\n",
       "      <td>65.736015</td>\n",
       "      <td>796.933594</td>\n",
       "      <td>0.000000</td>\n",
       "      <td>46</td>\n",
       "      <td>46</td>\n",
       "      <td>5</td>\n",
       "      <td>0</td>\n",
       "      <td>False</td>\n",
       "      <td>53.111301</td>\n",
       "      <td>1716.0</td>\n",
       "    </tr>\n",
       "    <tr>\n",
       "      <th>159</th>\n",
       "      <td>46</td>\n",
       "      <td>159</td>\n",
       "      <td>63.335575</td>\n",
       "      <td>797.985352</td>\n",
       "      <td>0.000000</td>\n",
       "      <td>46</td>\n",
       "      <td>46</td>\n",
       "      <td>5</td>\n",
       "      <td>0</td>\n",
       "      <td>False</td>\n",
       "      <td>51.103371</td>\n",
       "      <td>1636.0</td>\n",
       "    </tr>\n",
       "    <tr>\n",
       "      <th>160</th>\n",
       "      <td>46</td>\n",
       "      <td>160</td>\n",
       "      <td>62.627754</td>\n",
       "      <td>800.160828</td>\n",
       "      <td>0.000000</td>\n",
       "      <td>46</td>\n",
       "      <td>46</td>\n",
       "      <td>5</td>\n",
       "      <td>0</td>\n",
       "      <td>False</td>\n",
       "      <td>51.446148</td>\n",
       "      <td>1679.0</td>\n",
       "    </tr>\n",
       "    <tr>\n",
       "      <th>161</th>\n",
       "      <td>46</td>\n",
       "      <td>161</td>\n",
       "      <td>64.878960</td>\n",
       "      <td>798.219482</td>\n",
       "      <td>0.000000</td>\n",
       "      <td>46</td>\n",
       "      <td>46</td>\n",
       "      <td>5</td>\n",
       "      <td>0</td>\n",
       "      <td>False</td>\n",
       "      <td>54.988148</td>\n",
       "      <td>1768.0</td>\n",
       "    </tr>\n",
       "    <tr>\n",
       "      <th>162</th>\n",
       "      <td>46</td>\n",
       "      <td>162</td>\n",
       "      <td>62.320587</td>\n",
       "      <td>798.287048</td>\n",
       "      <td>0.000000</td>\n",
       "      <td>46</td>\n",
       "      <td>46</td>\n",
       "      <td>5</td>\n",
       "      <td>0</td>\n",
       "      <td>False</td>\n",
       "      <td>52.531158</td>\n",
       "      <td>1700.0</td>\n",
       "    </tr>\n",
       "    <tr>\n",
       "      <th>163</th>\n",
       "      <td>46</td>\n",
       "      <td>163</td>\n",
       "      <td>61.390633</td>\n",
       "      <td>798.546570</td>\n",
       "      <td>0.000000</td>\n",
       "      <td>46</td>\n",
       "      <td>46</td>\n",
       "      <td>5</td>\n",
       "      <td>0</td>\n",
       "      <td>False</td>\n",
       "      <td>53.575100</td>\n",
       "      <td>1751.0</td>\n",
       "    </tr>\n",
       "    <tr>\n",
       "      <th>164</th>\n",
       "      <td>46</td>\n",
       "      <td>164</td>\n",
       "      <td>64.715813</td>\n",
       "      <td>799.821045</td>\n",
       "      <td>0.000000</td>\n",
       "      <td>46</td>\n",
       "      <td>46</td>\n",
       "      <td>5</td>\n",
       "      <td>0</td>\n",
       "      <td>False</td>\n",
       "      <td>51.318977</td>\n",
       "      <td>1682.0</td>\n",
       "    </tr>\n",
       "    <tr>\n",
       "      <th>165</th>\n",
       "      <td>46</td>\n",
       "      <td>165</td>\n",
       "      <td>59.605026</td>\n",
       "      <td>798.997620</td>\n",
       "      <td>0.000000</td>\n",
       "      <td>46</td>\n",
       "      <td>46</td>\n",
       "      <td>5</td>\n",
       "      <td>0</td>\n",
       "      <td>False</td>\n",
       "      <td>52.601002</td>\n",
       "      <td>1671.0</td>\n",
       "    </tr>\n",
       "    <tr>\n",
       "      <th>166</th>\n",
       "      <td>46</td>\n",
       "      <td>166</td>\n",
       "      <td>63.418823</td>\n",
       "      <td>800.322144</td>\n",
       "      <td>0.000000</td>\n",
       "      <td>46</td>\n",
       "      <td>46</td>\n",
       "      <td>5</td>\n",
       "      <td>0</td>\n",
       "      <td>False</td>\n",
       "      <td>50.804550</td>\n",
       "      <td>1583.0</td>\n",
       "    </tr>\n",
       "    <tr>\n",
       "      <th>167</th>\n",
       "      <td>46</td>\n",
       "      <td>167</td>\n",
       "      <td>60.385670</td>\n",
       "      <td>801.436157</td>\n",
       "      <td>0.000000</td>\n",
       "      <td>46</td>\n",
       "      <td>46</td>\n",
       "      <td>5</td>\n",
       "      <td>0</td>\n",
       "      <td>False</td>\n",
       "      <td>51.914280</td>\n",
       "      <td>1605.0</td>\n",
       "    </tr>\n",
       "    <tr>\n",
       "      <th>168</th>\n",
       "      <td>46</td>\n",
       "      <td>168</td>\n",
       "      <td>61.797611</td>\n",
       "      <td>803.710266</td>\n",
       "      <td>0.000000</td>\n",
       "      <td>46</td>\n",
       "      <td>46</td>\n",
       "      <td>5</td>\n",
       "      <td>0</td>\n",
       "      <td>False</td>\n",
       "      <td>51.283669</td>\n",
       "      <td>1591.0</td>\n",
       "    </tr>\n",
       "    <tr>\n",
       "      <th>169</th>\n",
       "      <td>46</td>\n",
       "      <td>169</td>\n",
       "      <td>62.235710</td>\n",
       "      <td>803.624268</td>\n",
       "      <td>0.000000</td>\n",
       "      <td>46</td>\n",
       "      <td>46</td>\n",
       "      <td>5</td>\n",
       "      <td>0</td>\n",
       "      <td>False</td>\n",
       "      <td>50.801132</td>\n",
       "      <td>1557.0</td>\n",
       "    </tr>\n",
       "    <tr>\n",
       "      <th>170</th>\n",
       "      <td>46</td>\n",
       "      <td>170</td>\n",
       "      <td>63.565166</td>\n",
       "      <td>804.457031</td>\n",
       "      <td>0.000000</td>\n",
       "      <td>46</td>\n",
       "      <td>46</td>\n",
       "      <td>5</td>\n",
       "      <td>0</td>\n",
       "      <td>False</td>\n",
       "      <td>50.977150</td>\n",
       "      <td>1711.0</td>\n",
       "    </tr>\n",
       "    <tr>\n",
       "      <th>171</th>\n",
       "      <td>46</td>\n",
       "      <td>171</td>\n",
       "      <td>64.093597</td>\n",
       "      <td>804.771729</td>\n",
       "      <td>0.000000</td>\n",
       "      <td>46</td>\n",
       "      <td>46</td>\n",
       "      <td>5</td>\n",
       "      <td>0</td>\n",
       "      <td>False</td>\n",
       "      <td>52.227753</td>\n",
       "      <td>1656.0</td>\n",
       "    </tr>\n",
       "    <tr>\n",
       "      <th>172</th>\n",
       "      <td>46</td>\n",
       "      <td>172</td>\n",
       "      <td>63.961540</td>\n",
       "      <td>806.365112</td>\n",
       "      <td>0.000000</td>\n",
       "      <td>46</td>\n",
       "      <td>46</td>\n",
       "      <td>5</td>\n",
       "      <td>0</td>\n",
       "      <td>False</td>\n",
       "      <td>52.289688</td>\n",
       "      <td>1690.0</td>\n",
       "    </tr>\n",
       "    <tr>\n",
       "      <th>173</th>\n",
       "      <td>46</td>\n",
       "      <td>173</td>\n",
       "      <td>60.361526</td>\n",
       "      <td>806.501465</td>\n",
       "      <td>0.000000</td>\n",
       "      <td>46</td>\n",
       "      <td>46</td>\n",
       "      <td>5</td>\n",
       "      <td>0</td>\n",
       "      <td>False</td>\n",
       "      <td>52.259022</td>\n",
       "      <td>1679.0</td>\n",
       "    </tr>\n",
       "    <tr>\n",
       "      <th>174</th>\n",
       "      <td>46</td>\n",
       "      <td>174</td>\n",
       "      <td>60.387730</td>\n",
       "      <td>805.422729</td>\n",
       "      <td>0.000000</td>\n",
       "      <td>46</td>\n",
       "      <td>46</td>\n",
       "      <td>5</td>\n",
       "      <td>0</td>\n",
       "      <td>False</td>\n",
       "      <td>51.513603</td>\n",
       "      <td>1630.0</td>\n",
       "    </tr>\n",
       "    <tr>\n",
       "      <th>175</th>\n",
       "      <td>46</td>\n",
       "      <td>175</td>\n",
       "      <td>61.120167</td>\n",
       "      <td>805.239746</td>\n",
       "      <td>0.000000</td>\n",
       "      <td>46</td>\n",
       "      <td>46</td>\n",
       "      <td>5</td>\n",
       "      <td>0</td>\n",
       "      <td>False</td>\n",
       "      <td>53.369999</td>\n",
       "      <td>1681.0</td>\n",
       "    </tr>\n",
       "    <tr>\n",
       "      <th>176</th>\n",
       "      <td>46</td>\n",
       "      <td>176</td>\n",
       "      <td>59.274082</td>\n",
       "      <td>803.188965</td>\n",
       "      <td>0.000000</td>\n",
       "      <td>46</td>\n",
       "      <td>46</td>\n",
       "      <td>5</td>\n",
       "      <td>0</td>\n",
       "      <td>False</td>\n",
       "      <td>52.767712</td>\n",
       "      <td>1609.0</td>\n",
       "    </tr>\n",
       "    <tr>\n",
       "      <th>177</th>\n",
       "      <td>46</td>\n",
       "      <td>177</td>\n",
       "      <td>55.684212</td>\n",
       "      <td>803.963867</td>\n",
       "      <td>0.000000</td>\n",
       "      <td>46</td>\n",
       "      <td>46</td>\n",
       "      <td>5</td>\n",
       "      <td>0</td>\n",
       "      <td>False</td>\n",
       "      <td>51.119049</td>\n",
       "      <td>1634.0</td>\n",
       "    </tr>\n",
       "    <tr>\n",
       "      <th>178</th>\n",
       "      <td>46</td>\n",
       "      <td>178</td>\n",
       "      <td>56.645664</td>\n",
       "      <td>804.074890</td>\n",
       "      <td>0.000000</td>\n",
       "      <td>46</td>\n",
       "      <td>46</td>\n",
       "      <td>5</td>\n",
       "      <td>0</td>\n",
       "      <td>False</td>\n",
       "      <td>51.804371</td>\n",
       "      <td>1603.0</td>\n",
       "    </tr>\n",
       "    <tr>\n",
       "      <th>179</th>\n",
       "      <td>46</td>\n",
       "      <td>179</td>\n",
       "      <td>56.983418</td>\n",
       "      <td>805.911377</td>\n",
       "      <td>0.000000</td>\n",
       "      <td>46</td>\n",
       "      <td>46</td>\n",
       "      <td>5</td>\n",
       "      <td>0</td>\n",
       "      <td>False</td>\n",
       "      <td>49.791149</td>\n",
       "      <td>1568.0</td>\n",
       "    </tr>\n",
       "    <tr>\n",
       "      <th>180</th>\n",
       "      <td>46</td>\n",
       "      <td>180</td>\n",
       "      <td>57.554226</td>\n",
       "      <td>804.642273</td>\n",
       "      <td>0.000000</td>\n",
       "      <td>46</td>\n",
       "      <td>46</td>\n",
       "      <td>5</td>\n",
       "      <td>0</td>\n",
       "      <td>False</td>\n",
       "      <td>52.609497</td>\n",
       "      <td>1669.0</td>\n",
       "    </tr>\n",
       "    <tr>\n",
       "      <th>181</th>\n",
       "      <td>46</td>\n",
       "      <td>181</td>\n",
       "      <td>56.085529</td>\n",
       "      <td>805.420044</td>\n",
       "      <td>0.000000</td>\n",
       "      <td>46</td>\n",
       "      <td>46</td>\n",
       "      <td>5</td>\n",
       "      <td>0</td>\n",
       "      <td>False</td>\n",
       "      <td>52.144672</td>\n",
       "      <td>1707.0</td>\n",
       "    </tr>\n",
       "    <tr>\n",
       "      <th>182</th>\n",
       "      <td>46</td>\n",
       "      <td>182</td>\n",
       "      <td>53.158730</td>\n",
       "      <td>806.250793</td>\n",
       "      <td>0.000000</td>\n",
       "      <td>46</td>\n",
       "      <td>46</td>\n",
       "      <td>5</td>\n",
       "      <td>0</td>\n",
       "      <td>False</td>\n",
       "      <td>51.975243</td>\n",
       "      <td>1575.0</td>\n",
       "    </tr>\n",
       "    <tr>\n",
       "      <th>183</th>\n",
       "      <td>46</td>\n",
       "      <td>183</td>\n",
       "      <td>50.551514</td>\n",
       "      <td>805.333923</td>\n",
       "      <td>0.000000</td>\n",
       "      <td>46</td>\n",
       "      <td>46</td>\n",
       "      <td>5</td>\n",
       "      <td>0</td>\n",
       "      <td>False</td>\n",
       "      <td>52.743492</td>\n",
       "      <td>1650.0</td>\n",
       "    </tr>\n",
       "    <tr>\n",
       "      <th>184</th>\n",
       "      <td>46</td>\n",
       "      <td>184</td>\n",
       "      <td>49.444778</td>\n",
       "      <td>805.794739</td>\n",
       "      <td>0.000000</td>\n",
       "      <td>46</td>\n",
       "      <td>46</td>\n",
       "      <td>5</td>\n",
       "      <td>0</td>\n",
       "      <td>False</td>\n",
       "      <td>52.192822</td>\n",
       "      <td>1666.0</td>\n",
       "    </tr>\n",
       "    <tr>\n",
       "      <th>185</th>\n",
       "      <td>46</td>\n",
       "      <td>185</td>\n",
       "      <td>51.167072</td>\n",
       "      <td>807.140259</td>\n",
       "      <td>0.000000</td>\n",
       "      <td>46</td>\n",
       "      <td>46</td>\n",
       "      <td>5</td>\n",
       "      <td>0</td>\n",
       "      <td>False</td>\n",
       "      <td>51.564758</td>\n",
       "      <td>1640.0</td>\n",
       "    </tr>\n",
       "    <tr>\n",
       "      <th>186</th>\n",
       "      <td>46</td>\n",
       "      <td>186</td>\n",
       "      <td>54.874710</td>\n",
       "      <td>809.413391</td>\n",
       "      <td>0.000000</td>\n",
       "      <td>46</td>\n",
       "      <td>46</td>\n",
       "      <td>5</td>\n",
       "      <td>0</td>\n",
       "      <td>False</td>\n",
       "      <td>51.399773</td>\n",
       "      <td>1732.0</td>\n",
       "    </tr>\n",
       "    <tr>\n",
       "      <th>187</th>\n",
       "      <td>46</td>\n",
       "      <td>187</td>\n",
       "      <td>51.994720</td>\n",
       "      <td>809.299133</td>\n",
       "      <td>0.000000</td>\n",
       "      <td>46</td>\n",
       "      <td>46</td>\n",
       "      <td>5</td>\n",
       "      <td>0</td>\n",
       "      <td>False</td>\n",
       "      <td>52.904449</td>\n",
       "      <td>1705.0</td>\n",
       "    </tr>\n",
       "    <tr>\n",
       "      <th>188</th>\n",
       "      <td>46</td>\n",
       "      <td>188</td>\n",
       "      <td>46.495480</td>\n",
       "      <td>808.463562</td>\n",
       "      <td>0.000000</td>\n",
       "      <td>46</td>\n",
       "      <td>46</td>\n",
       "      <td>5</td>\n",
       "      <td>0</td>\n",
       "      <td>False</td>\n",
       "      <td>52.997200</td>\n",
       "      <td>1659.0</td>\n",
       "    </tr>\n",
       "    <tr>\n",
       "      <th>189</th>\n",
       "      <td>46</td>\n",
       "      <td>189</td>\n",
       "      <td>43.647240</td>\n",
       "      <td>809.942993</td>\n",
       "      <td>0.000000</td>\n",
       "      <td>46</td>\n",
       "      <td>46</td>\n",
       "      <td>5</td>\n",
       "      <td>0</td>\n",
       "      <td>False</td>\n",
       "      <td>51.435459</td>\n",
       "      <td>1613.0</td>\n",
       "    </tr>\n",
       "    <tr>\n",
       "      <th>190</th>\n",
       "      <td>46</td>\n",
       "      <td>190</td>\n",
       "      <td>49.217731</td>\n",
       "      <td>810.854065</td>\n",
       "      <td>0.000000</td>\n",
       "      <td>46</td>\n",
       "      <td>46</td>\n",
       "      <td>5</td>\n",
       "      <td>0</td>\n",
       "      <td>False</td>\n",
       "      <td>51.559410</td>\n",
       "      <td>1658.0</td>\n",
       "    </tr>\n",
       "    <tr>\n",
       "      <th>191</th>\n",
       "      <td>46</td>\n",
       "      <td>191</td>\n",
       "      <td>49.291367</td>\n",
       "      <td>813.406494</td>\n",
       "      <td>0.000000</td>\n",
       "      <td>46</td>\n",
       "      <td>46</td>\n",
       "      <td>5</td>\n",
       "      <td>0</td>\n",
       "      <td>False</td>\n",
       "      <td>53.722427</td>\n",
       "      <td>1668.0</td>\n",
       "    </tr>\n",
       "    <tr>\n",
       "      <th>192</th>\n",
       "      <td>46</td>\n",
       "      <td>192</td>\n",
       "      <td>45.512756</td>\n",
       "      <td>814.998108</td>\n",
       "      <td>0.000000</td>\n",
       "      <td>46</td>\n",
       "      <td>46</td>\n",
       "      <td>5</td>\n",
       "      <td>0</td>\n",
       "      <td>False</td>\n",
       "      <td>51.362411</td>\n",
       "      <td>1607.0</td>\n",
       "    </tr>\n",
       "    <tr>\n",
       "      <th>193</th>\n",
       "      <td>46</td>\n",
       "      <td>193</td>\n",
       "      <td>43.351707</td>\n",
       "      <td>814.822021</td>\n",
       "      <td>0.000000</td>\n",
       "      <td>46</td>\n",
       "      <td>46</td>\n",
       "      <td>5</td>\n",
       "      <td>0</td>\n",
       "      <td>False</td>\n",
       "      <td>53.242397</td>\n",
       "      <td>1669.0</td>\n",
       "    </tr>\n",
       "    <tr>\n",
       "      <th>194</th>\n",
       "      <td>46</td>\n",
       "      <td>194</td>\n",
       "      <td>45.148804</td>\n",
       "      <td>816.770813</td>\n",
       "      <td>0.000000</td>\n",
       "      <td>46</td>\n",
       "      <td>46</td>\n",
       "      <td>5</td>\n",
       "      <td>0</td>\n",
       "      <td>False</td>\n",
       "      <td>53.294788</td>\n",
       "      <td>1754.0</td>\n",
       "    </tr>\n",
       "    <tr>\n",
       "      <th>195</th>\n",
       "      <td>46</td>\n",
       "      <td>195</td>\n",
       "      <td>39.317535</td>\n",
       "      <td>817.140991</td>\n",
       "      <td>0.000000</td>\n",
       "      <td>46</td>\n",
       "      <td>46</td>\n",
       "      <td>5</td>\n",
       "      <td>0</td>\n",
       "      <td>False</td>\n",
       "      <td>53.005005</td>\n",
       "      <td>1688.0</td>\n",
       "    </tr>\n",
       "    <tr>\n",
       "      <th>196</th>\n",
       "      <td>46</td>\n",
       "      <td>196</td>\n",
       "      <td>42.385956</td>\n",
       "      <td>816.913635</td>\n",
       "      <td>0.000000</td>\n",
       "      <td>46</td>\n",
       "      <td>46</td>\n",
       "      <td>5</td>\n",
       "      <td>0</td>\n",
       "      <td>False</td>\n",
       "      <td>51.867813</td>\n",
       "      <td>1609.0</td>\n",
       "    </tr>\n",
       "    <tr>\n",
       "      <th>197</th>\n",
       "      <td>46</td>\n",
       "      <td>197</td>\n",
       "      <td>44.527843</td>\n",
       "      <td>817.412231</td>\n",
       "      <td>0.000000</td>\n",
       "      <td>46</td>\n",
       "      <td>46</td>\n",
       "      <td>5</td>\n",
       "      <td>0</td>\n",
       "      <td>False</td>\n",
       "      <td>52.278908</td>\n",
       "      <td>1652.0</td>\n",
       "    </tr>\n",
       "    <tr>\n",
       "      <th>198</th>\n",
       "      <td>46</td>\n",
       "      <td>198</td>\n",
       "      <td>45.134941</td>\n",
       "      <td>817.843384</td>\n",
       "      <td>0.000000</td>\n",
       "      <td>46</td>\n",
       "      <td>46</td>\n",
       "      <td>5</td>\n",
       "      <td>0</td>\n",
       "      <td>False</td>\n",
       "      <td>51.429989</td>\n",
       "      <td>1660.0</td>\n",
       "    </tr>\n",
       "    <tr>\n",
       "      <th>199</th>\n",
       "      <td>46</td>\n",
       "      <td>199</td>\n",
       "      <td>45.262760</td>\n",
       "      <td>817.368896</td>\n",
       "      <td>0.000000</td>\n",
       "      <td>46</td>\n",
       "      <td>46</td>\n",
       "      <td>5</td>\n",
       "      <td>0</td>\n",
       "      <td>False</td>\n",
       "      <td>54.182880</td>\n",
       "      <td>1724.0</td>\n",
       "    </tr>\n",
       "    <tr>\n",
       "      <th>200</th>\n",
       "      <td>46</td>\n",
       "      <td>200</td>\n",
       "      <td>42.536545</td>\n",
       "      <td>816.345032</td>\n",
       "      <td>0.000000</td>\n",
       "      <td>46</td>\n",
       "      <td>46</td>\n",
       "      <td>5</td>\n",
       "      <td>0</td>\n",
       "      <td>False</td>\n",
       "      <td>54.379135</td>\n",
       "      <td>1765.0</td>\n",
       "    </tr>\n",
       "    <tr>\n",
       "      <th>201</th>\n",
       "      <td>46</td>\n",
       "      <td>201</td>\n",
       "      <td>42.696537</td>\n",
       "      <td>819.243713</td>\n",
       "      <td>0.000000</td>\n",
       "      <td>46</td>\n",
       "      <td>46</td>\n",
       "      <td>5</td>\n",
       "      <td>0</td>\n",
       "      <td>False</td>\n",
       "      <td>52.874249</td>\n",
       "      <td>1674.0</td>\n",
       "    </tr>\n",
       "    <tr>\n",
       "      <th>202</th>\n",
       "      <td>46</td>\n",
       "      <td>202</td>\n",
       "      <td>42.369438</td>\n",
       "      <td>817.473633</td>\n",
       "      <td>0.000000</td>\n",
       "      <td>46</td>\n",
       "      <td>46</td>\n",
       "      <td>5</td>\n",
       "      <td>0</td>\n",
       "      <td>False</td>\n",
       "      <td>52.535183</td>\n",
       "      <td>1708.0</td>\n",
       "    </tr>\n",
       "    <tr>\n",
       "      <th>203</th>\n",
       "      <td>46</td>\n",
       "      <td>203</td>\n",
       "      <td>47.404255</td>\n",
       "      <td>818.997192</td>\n",
       "      <td>0.000000</td>\n",
       "      <td>46</td>\n",
       "      <td>46</td>\n",
       "      <td>5</td>\n",
       "      <td>0</td>\n",
       "      <td>False</td>\n",
       "      <td>53.044186</td>\n",
       "      <td>1786.0</td>\n",
       "    </tr>\n",
       "    <tr>\n",
       "      <th>204</th>\n",
       "      <td>46</td>\n",
       "      <td>204</td>\n",
       "      <td>47.973461</td>\n",
       "      <td>818.613770</td>\n",
       "      <td>0.000000</td>\n",
       "      <td>46</td>\n",
       "      <td>46</td>\n",
       "      <td>5</td>\n",
       "      <td>0</td>\n",
       "      <td>False</td>\n",
       "      <td>53.339424</td>\n",
       "      <td>1771.0</td>\n",
       "    </tr>\n",
       "    <tr>\n",
       "      <th>205</th>\n",
       "      <td>46</td>\n",
       "      <td>205</td>\n",
       "      <td>39.525501</td>\n",
       "      <td>816.742126</td>\n",
       "      <td>0.000000</td>\n",
       "      <td>46</td>\n",
       "      <td>46</td>\n",
       "      <td>5</td>\n",
       "      <td>0</td>\n",
       "      <td>False</td>\n",
       "      <td>53.634415</td>\n",
       "      <td>1745.0</td>\n",
       "    </tr>\n",
       "    <tr>\n",
       "      <th>206</th>\n",
       "      <td>46</td>\n",
       "      <td>206</td>\n",
       "      <td>45.580460</td>\n",
       "      <td>816.471252</td>\n",
       "      <td>0.000000</td>\n",
       "      <td>46</td>\n",
       "      <td>46</td>\n",
       "      <td>5</td>\n",
       "      <td>0</td>\n",
       "      <td>False</td>\n",
       "      <td>51.874664</td>\n",
       "      <td>1740.0</td>\n",
       "    </tr>\n",
       "    <tr>\n",
       "      <th>207</th>\n",
       "      <td>46</td>\n",
       "      <td>207</td>\n",
       "      <td>40.766823</td>\n",
       "      <td>816.289246</td>\n",
       "      <td>0.000000</td>\n",
       "      <td>46</td>\n",
       "      <td>46</td>\n",
       "      <td>5</td>\n",
       "      <td>0</td>\n",
       "      <td>False</td>\n",
       "      <td>51.973007</td>\n",
       "      <td>1694.0</td>\n",
       "    </tr>\n",
       "    <tr>\n",
       "      <th>208</th>\n",
       "      <td>46</td>\n",
       "      <td>208</td>\n",
       "      <td>40.321964</td>\n",
       "      <td>814.622986</td>\n",
       "      <td>0.000000</td>\n",
       "      <td>46</td>\n",
       "      <td>46</td>\n",
       "      <td>5</td>\n",
       "      <td>0</td>\n",
       "      <td>False</td>\n",
       "      <td>50.969570</td>\n",
       "      <td>1671.0</td>\n",
       "    </tr>\n",
       "    <tr>\n",
       "      <th>209</th>\n",
       "      <td>46</td>\n",
       "      <td>209</td>\n",
       "      <td>40.235432</td>\n",
       "      <td>813.905212</td>\n",
       "      <td>0.000000</td>\n",
       "      <td>46</td>\n",
       "      <td>46</td>\n",
       "      <td>5</td>\n",
       "      <td>0</td>\n",
       "      <td>False</td>\n",
       "      <td>51.204380</td>\n",
       "      <td>1699.0</td>\n",
       "    </tr>\n",
       "    <tr>\n",
       "      <th>210</th>\n",
       "      <td>46</td>\n",
       "      <td>210</td>\n",
       "      <td>39.944084</td>\n",
       "      <td>813.445740</td>\n",
       "      <td>0.000000</td>\n",
       "      <td>46</td>\n",
       "      <td>46</td>\n",
       "      <td>5</td>\n",
       "      <td>0</td>\n",
       "      <td>False</td>\n",
       "      <td>52.812614</td>\n",
       "      <td>1842.0</td>\n",
       "    </tr>\n",
       "    <tr>\n",
       "      <th>211</th>\n",
       "      <td>46</td>\n",
       "      <td>211</td>\n",
       "      <td>40.062870</td>\n",
       "      <td>813.908630</td>\n",
       "      <td>0.000000</td>\n",
       "      <td>46</td>\n",
       "      <td>46</td>\n",
       "      <td>5</td>\n",
       "      <td>0</td>\n",
       "      <td>False</td>\n",
       "      <td>50.038723</td>\n",
       "      <td>1686.0</td>\n",
       "    </tr>\n",
       "    <tr>\n",
       "      <th>212</th>\n",
       "      <td>46</td>\n",
       "      <td>212</td>\n",
       "      <td>37.719067</td>\n",
       "      <td>813.561218</td>\n",
       "      <td>0.000000</td>\n",
       "      <td>46</td>\n",
       "      <td>46</td>\n",
       "      <td>5</td>\n",
       "      <td>0</td>\n",
       "      <td>False</td>\n",
       "      <td>49.803974</td>\n",
       "      <td>1584.0</td>\n",
       "    </tr>\n",
       "    <tr>\n",
       "      <th>213</th>\n",
       "      <td>46</td>\n",
       "      <td>213</td>\n",
       "      <td>31.430281</td>\n",
       "      <td>811.279480</td>\n",
       "      <td>0.000000</td>\n",
       "      <td>46</td>\n",
       "      <td>46</td>\n",
       "      <td>5</td>\n",
       "      <td>0</td>\n",
       "      <td>False</td>\n",
       "      <td>50.657745</td>\n",
       "      <td>1671.0</td>\n",
       "    </tr>\n",
       "    <tr>\n",
       "      <th>214</th>\n",
       "      <td>46</td>\n",
       "      <td>214</td>\n",
       "      <td>34.604992</td>\n",
       "      <td>810.133301</td>\n",
       "      <td>0.000000</td>\n",
       "      <td>46</td>\n",
       "      <td>46</td>\n",
       "      <td>5</td>\n",
       "      <td>0</td>\n",
       "      <td>False</td>\n",
       "      <td>50.370323</td>\n",
       "      <td>1643.0</td>\n",
       "    </tr>\n",
       "    <tr>\n",
       "      <th>215</th>\n",
       "      <td>46</td>\n",
       "      <td>215</td>\n",
       "      <td>31.243210</td>\n",
       "      <td>810.213501</td>\n",
       "      <td>0.000000</td>\n",
       "      <td>46</td>\n",
       "      <td>46</td>\n",
       "      <td>5</td>\n",
       "      <td>0</td>\n",
       "      <td>False</td>\n",
       "      <td>50.245880</td>\n",
       "      <td>1583.0</td>\n",
       "    </tr>\n",
       "    <tr>\n",
       "      <th>216</th>\n",
       "      <td>46</td>\n",
       "      <td>216</td>\n",
       "      <td>34.227131</td>\n",
       "      <td>809.366516</td>\n",
       "      <td>0.000000</td>\n",
       "      <td>46</td>\n",
       "      <td>46</td>\n",
       "      <td>5</td>\n",
       "      <td>0</td>\n",
       "      <td>False</td>\n",
       "      <td>51.591087</td>\n",
       "      <td>1607.0</td>\n",
       "    </tr>\n",
       "    <tr>\n",
       "      <th>217</th>\n",
       "      <td>46</td>\n",
       "      <td>217</td>\n",
       "      <td>29.822453</td>\n",
       "      <td>807.971313</td>\n",
       "      <td>0.000000</td>\n",
       "      <td>46</td>\n",
       "      <td>46</td>\n",
       "      <td>5</td>\n",
       "      <td>0</td>\n",
       "      <td>False</td>\n",
       "      <td>52.643154</td>\n",
       "      <td>1639.0</td>\n",
       "    </tr>\n",
       "    <tr>\n",
       "      <th>218</th>\n",
       "      <td>46</td>\n",
       "      <td>218</td>\n",
       "      <td>33.488300</td>\n",
       "      <td>809.214417</td>\n",
       "      <td>0.000000</td>\n",
       "      <td>46</td>\n",
       "      <td>46</td>\n",
       "      <td>5</td>\n",
       "      <td>0</td>\n",
       "      <td>False</td>\n",
       "      <td>50.870583</td>\n",
       "      <td>1581.0</td>\n",
       "    </tr>\n",
       "    <tr>\n",
       "      <th>219</th>\n",
       "      <td>46</td>\n",
       "      <td>219</td>\n",
       "      <td>24.731783</td>\n",
       "      <td>807.922241</td>\n",
       "      <td>0.000000</td>\n",
       "      <td>46</td>\n",
       "      <td>46</td>\n",
       "      <td>5</td>\n",
       "      <td>0</td>\n",
       "      <td>False</td>\n",
       "      <td>53.436398</td>\n",
       "      <td>1633.0</td>\n",
       "    </tr>\n",
       "    <tr>\n",
       "      <th>220</th>\n",
       "      <td>46</td>\n",
       "      <td>220</td>\n",
       "      <td>30.007961</td>\n",
       "      <td>807.906921</td>\n",
       "      <td>0.000000</td>\n",
       "      <td>46</td>\n",
       "      <td>46</td>\n",
       "      <td>5</td>\n",
       "      <td>0</td>\n",
       "      <td>False</td>\n",
       "      <td>50.901978</td>\n",
       "      <td>1633.0</td>\n",
       "    </tr>\n",
       "    <tr>\n",
       "      <th>221</th>\n",
       "      <td>46</td>\n",
       "      <td>221</td>\n",
       "      <td>25.631733</td>\n",
       "      <td>809.348389</td>\n",
       "      <td>0.000000</td>\n",
       "      <td>46</td>\n",
       "      <td>46</td>\n",
       "      <td>5</td>\n",
       "      <td>0</td>\n",
       "      <td>False</td>\n",
       "      <td>52.865551</td>\n",
       "      <td>1708.0</td>\n",
       "    </tr>\n",
       "    <tr>\n",
       "      <th>222</th>\n",
       "      <td>46</td>\n",
       "      <td>222</td>\n",
       "      <td>26.941923</td>\n",
       "      <td>809.589233</td>\n",
       "      <td>0.000000</td>\n",
       "      <td>46</td>\n",
       "      <td>46</td>\n",
       "      <td>5</td>\n",
       "      <td>0</td>\n",
       "      <td>False</td>\n",
       "      <td>52.539196</td>\n",
       "      <td>1653.0</td>\n",
       "    </tr>\n",
       "    <tr>\n",
       "      <th>223</th>\n",
       "      <td>46</td>\n",
       "      <td>223</td>\n",
       "      <td>29.582569</td>\n",
       "      <td>810.782410</td>\n",
       "      <td>0.000000</td>\n",
       "      <td>46</td>\n",
       "      <td>46</td>\n",
       "      <td>5</td>\n",
       "      <td>0</td>\n",
       "      <td>False</td>\n",
       "      <td>49.011944</td>\n",
       "      <td>1526.0</td>\n",
       "    </tr>\n",
       "    <tr>\n",
       "      <th>224</th>\n",
       "      <td>46</td>\n",
       "      <td>224</td>\n",
       "      <td>25.504515</td>\n",
       "      <td>809.915100</td>\n",
       "      <td>0.000000</td>\n",
       "      <td>46</td>\n",
       "      <td>46</td>\n",
       "      <td>5</td>\n",
       "      <td>0</td>\n",
       "      <td>False</td>\n",
       "      <td>52.743549</td>\n",
       "      <td>1661.0</td>\n",
       "    </tr>\n",
       "    <tr>\n",
       "      <th>225</th>\n",
       "      <td>46</td>\n",
       "      <td>225</td>\n",
       "      <td>22.014925</td>\n",
       "      <td>810.056458</td>\n",
       "      <td>0.000000</td>\n",
       "      <td>46</td>\n",
       "      <td>46</td>\n",
       "      <td>5</td>\n",
       "      <td>0</td>\n",
       "      <td>False</td>\n",
       "      <td>49.622093</td>\n",
       "      <td>1541.0</td>\n",
       "    </tr>\n",
       "    <tr>\n",
       "      <th>226</th>\n",
       "      <td>46</td>\n",
       "      <td>226</td>\n",
       "      <td>26.215021</td>\n",
       "      <td>813.013916</td>\n",
       "      <td>0.000000</td>\n",
       "      <td>46</td>\n",
       "      <td>46</td>\n",
       "      <td>5</td>\n",
       "      <td>0</td>\n",
       "      <td>False</td>\n",
       "      <td>54.003860</td>\n",
       "      <td>1651.0</td>\n",
       "    </tr>\n",
       "    <tr>\n",
       "      <th>227</th>\n",
       "      <td>46</td>\n",
       "      <td>227</td>\n",
       "      <td>22.672926</td>\n",
       "      <td>812.358582</td>\n",
       "      <td>0.000000</td>\n",
       "      <td>46</td>\n",
       "      <td>46</td>\n",
       "      <td>5</td>\n",
       "      <td>0</td>\n",
       "      <td>False</td>\n",
       "      <td>50.261536</td>\n",
       "      <td>1651.0</td>\n",
       "    </tr>\n",
       "    <tr>\n",
       "      <th>228</th>\n",
       "      <td>46</td>\n",
       "      <td>228</td>\n",
       "      <td>22.267658</td>\n",
       "      <td>812.923157</td>\n",
       "      <td>0.000000</td>\n",
       "      <td>46</td>\n",
       "      <td>46</td>\n",
       "      <td>5</td>\n",
       "      <td>0</td>\n",
       "      <td>False</td>\n",
       "      <td>50.477440</td>\n",
       "      <td>1614.0</td>\n",
       "    </tr>\n",
       "    <tr>\n",
       "      <th>229</th>\n",
       "      <td>46</td>\n",
       "      <td>229</td>\n",
       "      <td>22.340200</td>\n",
       "      <td>813.001892</td>\n",
       "      <td>0.000000</td>\n",
       "      <td>46</td>\n",
       "      <td>46</td>\n",
       "      <td>5</td>\n",
       "      <td>0</td>\n",
       "      <td>False</td>\n",
       "      <td>50.546066</td>\n",
       "      <td>1602.0</td>\n",
       "    </tr>\n",
       "    <tr>\n",
       "      <th>230</th>\n",
       "      <td>46</td>\n",
       "      <td>230</td>\n",
       "      <td>23.703230</td>\n",
       "      <td>814.792786</td>\n",
       "      <td>0.000000</td>\n",
       "      <td>46</td>\n",
       "      <td>46</td>\n",
       "      <td>5</td>\n",
       "      <td>0</td>\n",
       "      <td>False</td>\n",
       "      <td>51.336815</td>\n",
       "      <td>1641.0</td>\n",
       "    </tr>\n",
       "    <tr>\n",
       "      <th>231</th>\n",
       "      <td>46</td>\n",
       "      <td>231</td>\n",
       "      <td>25.331526</td>\n",
       "      <td>816.224243</td>\n",
       "      <td>0.000000</td>\n",
       "      <td>46</td>\n",
       "      <td>46</td>\n",
       "      <td>5</td>\n",
       "      <td>0</td>\n",
       "      <td>False</td>\n",
       "      <td>52.224911</td>\n",
       "      <td>1659.0</td>\n",
       "    </tr>\n",
       "    <tr>\n",
       "      <th>232</th>\n",
       "      <td>46</td>\n",
       "      <td>232</td>\n",
       "      <td>22.425724</td>\n",
       "      <td>815.202881</td>\n",
       "      <td>0.000000</td>\n",
       "      <td>46</td>\n",
       "      <td>46</td>\n",
       "      <td>5</td>\n",
       "      <td>0</td>\n",
       "      <td>False</td>\n",
       "      <td>50.049946</td>\n",
       "      <td>1656.0</td>\n",
       "    </tr>\n",
       "    <tr>\n",
       "      <th>233</th>\n",
       "      <td>46</td>\n",
       "      <td>233</td>\n",
       "      <td>24.111635</td>\n",
       "      <td>814.946228</td>\n",
       "      <td>0.000000</td>\n",
       "      <td>46</td>\n",
       "      <td>46</td>\n",
       "      <td>5</td>\n",
       "      <td>0</td>\n",
       "      <td>False</td>\n",
       "      <td>51.207108</td>\n",
       "      <td>1693.0</td>\n",
       "    </tr>\n",
       "    <tr>\n",
       "      <th>234</th>\n",
       "      <td>46</td>\n",
       "      <td>234</td>\n",
       "      <td>24.530714</td>\n",
       "      <td>815.945190</td>\n",
       "      <td>0.000000</td>\n",
       "      <td>46</td>\n",
       "      <td>46</td>\n",
       "      <td>5</td>\n",
       "      <td>0</td>\n",
       "      <td>False</td>\n",
       "      <td>52.279518</td>\n",
       "      <td>1807.0</td>\n",
       "    </tr>\n",
       "    <tr>\n",
       "      <th>235</th>\n",
       "      <td>46</td>\n",
       "      <td>235</td>\n",
       "      <td>21.578299</td>\n",
       "      <td>816.857483</td>\n",
       "      <td>0.000000</td>\n",
       "      <td>46</td>\n",
       "      <td>46</td>\n",
       "      <td>5</td>\n",
       "      <td>0</td>\n",
       "      <td>False</td>\n",
       "      <td>51.923538</td>\n",
       "      <td>1705.0</td>\n",
       "    </tr>\n",
       "    <tr>\n",
       "      <th>236</th>\n",
       "      <td>46</td>\n",
       "      <td>236</td>\n",
       "      <td>21.585564</td>\n",
       "      <td>816.495911</td>\n",
       "      <td>0.000000</td>\n",
       "      <td>46</td>\n",
       "      <td>46</td>\n",
       "      <td>5</td>\n",
       "      <td>0</td>\n",
       "      <td>False</td>\n",
       "      <td>51.856579</td>\n",
       "      <td>1718.0</td>\n",
       "    </tr>\n",
       "    <tr>\n",
       "      <th>237</th>\n",
       "      <td>46</td>\n",
       "      <td>237</td>\n",
       "      <td>22.843115</td>\n",
       "      <td>817.192993</td>\n",
       "      <td>0.000000</td>\n",
       "      <td>46</td>\n",
       "      <td>46</td>\n",
       "      <td>5</td>\n",
       "      <td>0</td>\n",
       "      <td>False</td>\n",
       "      <td>51.715641</td>\n",
       "      <td>1772.0</td>\n",
       "    </tr>\n",
       "    <tr>\n",
       "      <th>238</th>\n",
       "      <td>46</td>\n",
       "      <td>238</td>\n",
       "      <td>24.166376</td>\n",
       "      <td>817.328125</td>\n",
       "      <td>0.000000</td>\n",
       "      <td>46</td>\n",
       "      <td>46</td>\n",
       "      <td>5</td>\n",
       "      <td>0</td>\n",
       "      <td>False</td>\n",
       "      <td>51.499329</td>\n",
       "      <td>1719.0</td>\n",
       "    </tr>\n",
       "    <tr>\n",
       "      <th>239</th>\n",
       "      <td>46</td>\n",
       "      <td>239</td>\n",
       "      <td>20.972141</td>\n",
       "      <td>815.442261</td>\n",
       "      <td>0.000000</td>\n",
       "      <td>46</td>\n",
       "      <td>46</td>\n",
       "      <td>5</td>\n",
       "      <td>0</td>\n",
       "      <td>False</td>\n",
       "      <td>53.019642</td>\n",
       "      <td>1723.0</td>\n",
       "    </tr>\n",
       "    <tr>\n",
       "      <th>240</th>\n",
       "      <td>46</td>\n",
       "      <td>240</td>\n",
       "      <td>25.888577</td>\n",
       "      <td>819.131104</td>\n",
       "      <td>0.000000</td>\n",
       "      <td>46</td>\n",
       "      <td>46</td>\n",
       "      <td>5</td>\n",
       "      <td>0</td>\n",
       "      <td>False</td>\n",
       "      <td>53.652630</td>\n",
       "      <td>1777.0</td>\n",
       "    </tr>\n",
       "    <tr>\n",
       "      <th>241</th>\n",
       "      <td>46</td>\n",
       "      <td>241</td>\n",
       "      <td>19.120256</td>\n",
       "      <td>817.738892</td>\n",
       "      <td>0.000000</td>\n",
       "      <td>46</td>\n",
       "      <td>46</td>\n",
       "      <td>5</td>\n",
       "      <td>0</td>\n",
       "      <td>False</td>\n",
       "      <td>50.838436</td>\n",
       "      <td>1555.0</td>\n",
       "    </tr>\n",
       "    <tr>\n",
       "      <th>242</th>\n",
       "      <td>46</td>\n",
       "      <td>242</td>\n",
       "      <td>26.932999</td>\n",
       "      <td>819.304321</td>\n",
       "      <td>0.000000</td>\n",
       "      <td>46</td>\n",
       "      <td>46</td>\n",
       "      <td>5</td>\n",
       "      <td>0</td>\n",
       "      <td>False</td>\n",
       "      <td>52.165596</td>\n",
       "      <td>1791.0</td>\n",
       "    </tr>\n",
       "    <tr>\n",
       "      <th>243</th>\n",
       "      <td>46</td>\n",
       "      <td>243</td>\n",
       "      <td>19.899752</td>\n",
       "      <td>818.505005</td>\n",
       "      <td>0.000000</td>\n",
       "      <td>46</td>\n",
       "      <td>46</td>\n",
       "      <td>5</td>\n",
       "      <td>0</td>\n",
       "      <td>False</td>\n",
       "      <td>49.536831</td>\n",
       "      <td>1606.0</td>\n",
       "    </tr>\n",
       "    <tr>\n",
       "      <th>244</th>\n",
       "      <td>46</td>\n",
       "      <td>244</td>\n",
       "      <td>25.744120</td>\n",
       "      <td>818.999451</td>\n",
       "      <td>0.000000</td>\n",
       "      <td>46</td>\n",
       "      <td>46</td>\n",
       "      <td>5</td>\n",
       "      <td>0</td>\n",
       "      <td>False</td>\n",
       "      <td>51.206509</td>\n",
       "      <td>1743.0</td>\n",
       "    </tr>\n",
       "    <tr>\n",
       "      <th>245</th>\n",
       "      <td>46</td>\n",
       "      <td>245</td>\n",
       "      <td>23.682692</td>\n",
       "      <td>820.042053</td>\n",
       "      <td>0.000000</td>\n",
       "      <td>46</td>\n",
       "      <td>46</td>\n",
       "      <td>5</td>\n",
       "      <td>0</td>\n",
       "      <td>False</td>\n",
       "      <td>51.397465</td>\n",
       "      <td>1664.0</td>\n",
       "    </tr>\n",
       "    <tr>\n",
       "      <th>246</th>\n",
       "      <td>46</td>\n",
       "      <td>246</td>\n",
       "      <td>27.499422</td>\n",
       "      <td>820.595276</td>\n",
       "      <td>0.000000</td>\n",
       "      <td>46</td>\n",
       "      <td>46</td>\n",
       "      <td>5</td>\n",
       "      <td>0</td>\n",
       "      <td>False</td>\n",
       "      <td>52.287968</td>\n",
       "      <td>1732.0</td>\n",
       "    </tr>\n",
       "    <tr>\n",
       "      <th>247</th>\n",
       "      <td>46</td>\n",
       "      <td>247</td>\n",
       "      <td>28.418047</td>\n",
       "      <td>820.918335</td>\n",
       "      <td>0.000000</td>\n",
       "      <td>46</td>\n",
       "      <td>46</td>\n",
       "      <td>5</td>\n",
       "      <td>0</td>\n",
       "      <td>False</td>\n",
       "      <td>52.257931</td>\n",
       "      <td>1751.0</td>\n",
       "    </tr>\n",
       "    <tr>\n",
       "      <th>248</th>\n",
       "      <td>46</td>\n",
       "      <td>248</td>\n",
       "      <td>24.156839</td>\n",
       "      <td>818.716370</td>\n",
       "      <td>0.000000</td>\n",
       "      <td>46</td>\n",
       "      <td>46</td>\n",
       "      <td>5</td>\n",
       "      <td>0</td>\n",
       "      <td>False</td>\n",
       "      <td>52.740681</td>\n",
       "      <td>1696.0</td>\n",
       "    </tr>\n",
       "    <tr>\n",
       "      <th>249</th>\n",
       "      <td>46</td>\n",
       "      <td>249</td>\n",
       "      <td>25.464821</td>\n",
       "      <td>819.325256</td>\n",
       "      <td>0.000000</td>\n",
       "      <td>46</td>\n",
       "      <td>46</td>\n",
       "      <td>5</td>\n",
       "      <td>0</td>\n",
       "      <td>False</td>\n",
       "      <td>52.526588</td>\n",
       "      <td>1734.0</td>\n",
       "    </tr>\n",
       "    <tr>\n",
       "      <th>250</th>\n",
       "      <td>46</td>\n",
       "      <td>250</td>\n",
       "      <td>27.543528</td>\n",
       "      <td>819.619141</td>\n",
       "      <td>0.000000</td>\n",
       "      <td>46</td>\n",
       "      <td>46</td>\n",
       "      <td>5</td>\n",
       "      <td>0</td>\n",
       "      <td>False</td>\n",
       "      <td>52.078251</td>\n",
       "      <td>1746.0</td>\n",
       "    </tr>\n",
       "    <tr>\n",
       "      <th>251</th>\n",
       "      <td>46</td>\n",
       "      <td>251</td>\n",
       "      <td>25.633663</td>\n",
       "      <td>819.629028</td>\n",
       "      <td>0.000000</td>\n",
       "      <td>46</td>\n",
       "      <td>46</td>\n",
       "      <td>5</td>\n",
       "      <td>0</td>\n",
       "      <td>False</td>\n",
       "      <td>51.728058</td>\n",
       "      <td>1717.0</td>\n",
       "    </tr>\n",
       "    <tr>\n",
       "      <th>252</th>\n",
       "      <td>46</td>\n",
       "      <td>252</td>\n",
       "      <td>29.085951</td>\n",
       "      <td>820.270325</td>\n",
       "      <td>0.000000</td>\n",
       "      <td>46</td>\n",
       "      <td>46</td>\n",
       "      <td>5</td>\n",
       "      <td>0</td>\n",
       "      <td>False</td>\n",
       "      <td>52.142487</td>\n",
       "      <td>1687.0</td>\n",
       "    </tr>\n",
       "    <tr>\n",
       "      <th>253</th>\n",
       "      <td>46</td>\n",
       "      <td>253</td>\n",
       "      <td>30.243097</td>\n",
       "      <td>820.135925</td>\n",
       "      <td>0.000000</td>\n",
       "      <td>46</td>\n",
       "      <td>46</td>\n",
       "      <td>5</td>\n",
       "      <td>0</td>\n",
       "      <td>False</td>\n",
       "      <td>52.781612</td>\n",
       "      <td>1847.0</td>\n",
       "    </tr>\n",
       "    <tr>\n",
       "      <th>254</th>\n",
       "      <td>46</td>\n",
       "      <td>254</td>\n",
       "      <td>35.865967</td>\n",
       "      <td>822.242126</td>\n",
       "      <td>0.000000</td>\n",
       "      <td>46</td>\n",
       "      <td>46</td>\n",
       "      <td>5</td>\n",
       "      <td>0</td>\n",
       "      <td>False</td>\n",
       "      <td>52.498543</td>\n",
       "      <td>1813.0</td>\n",
       "    </tr>\n",
       "    <tr>\n",
       "      <th>255</th>\n",
       "      <td>46</td>\n",
       "      <td>255</td>\n",
       "      <td>30.674208</td>\n",
       "      <td>822.072937</td>\n",
       "      <td>0.000000</td>\n",
       "      <td>46</td>\n",
       "      <td>46</td>\n",
       "      <td>5</td>\n",
       "      <td>0</td>\n",
       "      <td>False</td>\n",
       "      <td>52.891903</td>\n",
       "      <td>1768.0</td>\n",
       "    </tr>\n",
       "    <tr>\n",
       "      <th>256</th>\n",
       "      <td>46</td>\n",
       "      <td>256</td>\n",
       "      <td>25.723240</td>\n",
       "      <td>821.829102</td>\n",
       "      <td>0.000000</td>\n",
       "      <td>46</td>\n",
       "      <td>46</td>\n",
       "      <td>5</td>\n",
       "      <td>0</td>\n",
       "      <td>False</td>\n",
       "      <td>51.576084</td>\n",
       "      <td>1691.0</td>\n",
       "    </tr>\n",
       "    <tr>\n",
       "      <th>257</th>\n",
       "      <td>46</td>\n",
       "      <td>257</td>\n",
       "      <td>29.371765</td>\n",
       "      <td>822.368958</td>\n",
       "      <td>0.000000</td>\n",
       "      <td>46</td>\n",
       "      <td>46</td>\n",
       "      <td>5</td>\n",
       "      <td>0</td>\n",
       "      <td>False</td>\n",
       "      <td>55.103584</td>\n",
       "      <td>1778.0</td>\n",
       "    </tr>\n",
       "    <tr>\n",
       "      <th>258</th>\n",
       "      <td>46</td>\n",
       "      <td>258</td>\n",
       "      <td>27.228210</td>\n",
       "      <td>821.163391</td>\n",
       "      <td>0.000000</td>\n",
       "      <td>46</td>\n",
       "      <td>46</td>\n",
       "      <td>5</td>\n",
       "      <td>0</td>\n",
       "      <td>False</td>\n",
       "      <td>53.906944</td>\n",
       "      <td>1744.0</td>\n",
       "    </tr>\n",
       "    <tr>\n",
       "      <th>259</th>\n",
       "      <td>46</td>\n",
       "      <td>259</td>\n",
       "      <td>31.307421</td>\n",
       "      <td>821.063599</td>\n",
       "      <td>0.000000</td>\n",
       "      <td>46</td>\n",
       "      <td>46</td>\n",
       "      <td>5</td>\n",
       "      <td>0</td>\n",
       "      <td>False</td>\n",
       "      <td>51.905712</td>\n",
       "      <td>1698.0</td>\n",
       "    </tr>\n",
       "    <tr>\n",
       "      <th>260</th>\n",
       "      <td>46</td>\n",
       "      <td>260</td>\n",
       "      <td>26.240000</td>\n",
       "      <td>821.657776</td>\n",
       "      <td>0.000000</td>\n",
       "      <td>46</td>\n",
       "      <td>46</td>\n",
       "      <td>5</td>\n",
       "      <td>0</td>\n",
       "      <td>False</td>\n",
       "      <td>51.748516</td>\n",
       "      <td>1575.0</td>\n",
       "    </tr>\n",
       "    <tr>\n",
       "      <th>261</th>\n",
       "      <td>46</td>\n",
       "      <td>261</td>\n",
       "      <td>32.123444</td>\n",
       "      <td>821.881897</td>\n",
       "      <td>0.000000</td>\n",
       "      <td>46</td>\n",
       "      <td>46</td>\n",
       "      <td>5</td>\n",
       "      <td>0</td>\n",
       "      <td>False</td>\n",
       "      <td>51.281944</td>\n",
       "      <td>1685.0</td>\n",
       "    </tr>\n",
       "    <tr>\n",
       "      <th>262</th>\n",
       "      <td>46</td>\n",
       "      <td>262</td>\n",
       "      <td>31.457790</td>\n",
       "      <td>823.833435</td>\n",
       "      <td>0.000000</td>\n",
       "      <td>46</td>\n",
       "      <td>46</td>\n",
       "      <td>5</td>\n",
       "      <td>0</td>\n",
       "      <td>False</td>\n",
       "      <td>52.755280</td>\n",
       "      <td>1765.0</td>\n",
       "    </tr>\n",
       "    <tr>\n",
       "      <th>263</th>\n",
       "      <td>46</td>\n",
       "      <td>263</td>\n",
       "      <td>27.857941</td>\n",
       "      <td>823.542786</td>\n",
       "      <td>0.000000</td>\n",
       "      <td>46</td>\n",
       "      <td>46</td>\n",
       "      <td>5</td>\n",
       "      <td>0</td>\n",
       "      <td>False</td>\n",
       "      <td>50.669399</td>\n",
       "      <td>1612.0</td>\n",
       "    </tr>\n",
       "    <tr>\n",
       "      <th>264</th>\n",
       "      <td>46</td>\n",
       "      <td>264</td>\n",
       "      <td>32.083839</td>\n",
       "      <td>825.099609</td>\n",
       "      <td>0.000000</td>\n",
       "      <td>46</td>\n",
       "      <td>46</td>\n",
       "      <td>5</td>\n",
       "      <td>0</td>\n",
       "      <td>False</td>\n",
       "      <td>50.839005</td>\n",
       "      <td>1646.0</td>\n",
       "    </tr>\n",
       "    <tr>\n",
       "      <th>265</th>\n",
       "      <td>46</td>\n",
       "      <td>265</td>\n",
       "      <td>34.217010</td>\n",
       "      <td>826.255127</td>\n",
       "      <td>0.000000</td>\n",
       "      <td>46</td>\n",
       "      <td>46</td>\n",
       "      <td>5</td>\n",
       "      <td>0</td>\n",
       "      <td>False</td>\n",
       "      <td>51.898796</td>\n",
       "      <td>1705.0</td>\n",
       "    </tr>\n",
       "    <tr>\n",
       "      <th>266</th>\n",
       "      <td>46</td>\n",
       "      <td>266</td>\n",
       "      <td>29.774984</td>\n",
       "      <td>823.502747</td>\n",
       "      <td>0.000000</td>\n",
       "      <td>46</td>\n",
       "      <td>46</td>\n",
       "      <td>5</td>\n",
       "      <td>0</td>\n",
       "      <td>False</td>\n",
       "      <td>50.196007</td>\n",
       "      <td>1631.0</td>\n",
       "    </tr>\n",
       "    <tr>\n",
       "      <th>267</th>\n",
       "      <td>46</td>\n",
       "      <td>267</td>\n",
       "      <td>34.086048</td>\n",
       "      <td>826.432007</td>\n",
       "      <td>0.000000</td>\n",
       "      <td>46</td>\n",
       "      <td>46</td>\n",
       "      <td>5</td>\n",
       "      <td>0</td>\n",
       "      <td>False</td>\n",
       "      <td>53.220161</td>\n",
       "      <td>1720.0</td>\n",
       "    </tr>\n",
       "    <tr>\n",
       "      <th>268</th>\n",
       "      <td>46</td>\n",
       "      <td>268</td>\n",
       "      <td>32.570915</td>\n",
       "      <td>827.266235</td>\n",
       "      <td>0.000000</td>\n",
       "      <td>46</td>\n",
       "      <td>46</td>\n",
       "      <td>5</td>\n",
       "      <td>0</td>\n",
       "      <td>False</td>\n",
       "      <td>51.150562</td>\n",
       "      <td>1664.0</td>\n",
       "    </tr>\n",
       "    <tr>\n",
       "      <th>269</th>\n",
       "      <td>46</td>\n",
       "      <td>269</td>\n",
       "      <td>32.649460</td>\n",
       "      <td>828.450378</td>\n",
       "      <td>0.000000</td>\n",
       "      <td>46</td>\n",
       "      <td>46</td>\n",
       "      <td>5</td>\n",
       "      <td>0</td>\n",
       "      <td>False</td>\n",
       "      <td>52.795372</td>\n",
       "      <td>1763.0</td>\n",
       "    </tr>\n",
       "    <tr>\n",
       "      <th>270</th>\n",
       "      <td>46</td>\n",
       "      <td>270</td>\n",
       "      <td>36.870071</td>\n",
       "      <td>827.563599</td>\n",
       "      <td>0.000000</td>\n",
       "      <td>46</td>\n",
       "      <td>46</td>\n",
       "      <td>5</td>\n",
       "      <td>0</td>\n",
       "      <td>False</td>\n",
       "      <td>52.507160</td>\n",
       "      <td>1801.0</td>\n",
       "    </tr>\n",
       "    <tr>\n",
       "      <th>271</th>\n",
       "      <td>46</td>\n",
       "      <td>271</td>\n",
       "      <td>34.842251</td>\n",
       "      <td>827.273132</td>\n",
       "      <td>0.000000</td>\n",
       "      <td>46</td>\n",
       "      <td>46</td>\n",
       "      <td>5</td>\n",
       "      <td>0</td>\n",
       "      <td>False</td>\n",
       "      <td>52.171547</td>\n",
       "      <td>1794.0</td>\n",
       "    </tr>\n",
       "    <tr>\n",
       "      <th>272</th>\n",
       "      <td>46</td>\n",
       "      <td>272</td>\n",
       "      <td>30.511856</td>\n",
       "      <td>827.761108</td>\n",
       "      <td>0.000000</td>\n",
       "      <td>46</td>\n",
       "      <td>46</td>\n",
       "      <td>5</td>\n",
       "      <td>0</td>\n",
       "      <td>False</td>\n",
       "      <td>51.836647</td>\n",
       "      <td>1729.0</td>\n",
       "    </tr>\n",
       "    <tr>\n",
       "      <th>273</th>\n",
       "      <td>46</td>\n",
       "      <td>273</td>\n",
       "      <td>36.535629</td>\n",
       "      <td>830.042175</td>\n",
       "      <td>0.000000</td>\n",
       "      <td>46</td>\n",
       "      <td>46</td>\n",
       "      <td>5</td>\n",
       "      <td>0</td>\n",
       "      <td>False</td>\n",
       "      <td>51.224339</td>\n",
       "      <td>1684.0</td>\n",
       "    </tr>\n",
       "    <tr>\n",
       "      <th>274</th>\n",
       "      <td>46</td>\n",
       "      <td>274</td>\n",
       "      <td>33.808849</td>\n",
       "      <td>832.001770</td>\n",
       "      <td>0.000000</td>\n",
       "      <td>46</td>\n",
       "      <td>46</td>\n",
       "      <td>5</td>\n",
       "      <td>0</td>\n",
       "      <td>False</td>\n",
       "      <td>51.979301</td>\n",
       "      <td>1695.0</td>\n",
       "    </tr>\n",
       "    <tr>\n",
       "      <th>275</th>\n",
       "      <td>46</td>\n",
       "      <td>275</td>\n",
       "      <td>34.352875</td>\n",
       "      <td>834.156738</td>\n",
       "      <td>0.000000</td>\n",
       "      <td>46</td>\n",
       "      <td>46</td>\n",
       "      <td>5</td>\n",
       "      <td>0</td>\n",
       "      <td>False</td>\n",
       "      <td>52.964474</td>\n",
       "      <td>1774.0</td>\n",
       "    </tr>\n",
       "    <tr>\n",
       "      <th>276</th>\n",
       "      <td>46</td>\n",
       "      <td>276</td>\n",
       "      <td>32.438835</td>\n",
       "      <td>834.312927</td>\n",
       "      <td>0.000000</td>\n",
       "      <td>46</td>\n",
       "      <td>46</td>\n",
       "      <td>5</td>\n",
       "      <td>0</td>\n",
       "      <td>False</td>\n",
       "      <td>53.219025</td>\n",
       "      <td>1684.0</td>\n",
       "    </tr>\n",
       "    <tr>\n",
       "      <th>277</th>\n",
       "      <td>46</td>\n",
       "      <td>277</td>\n",
       "      <td>37.085697</td>\n",
       "      <td>832.444946</td>\n",
       "      <td>0.000000</td>\n",
       "      <td>46</td>\n",
       "      <td>46</td>\n",
       "      <td>5</td>\n",
       "      <td>0</td>\n",
       "      <td>False</td>\n",
       "      <td>52.153748</td>\n",
       "      <td>1762.0</td>\n",
       "    </tr>\n",
       "    <tr>\n",
       "      <th>278</th>\n",
       "      <td>46</td>\n",
       "      <td>278</td>\n",
       "      <td>30.758934</td>\n",
       "      <td>831.007935</td>\n",
       "      <td>0.000000</td>\n",
       "      <td>46</td>\n",
       "      <td>46</td>\n",
       "      <td>5</td>\n",
       "      <td>0</td>\n",
       "      <td>False</td>\n",
       "      <td>53.605972</td>\n",
       "      <td>1763.0</td>\n",
       "    </tr>\n",
       "    <tr>\n",
       "      <th>279</th>\n",
       "      <td>46</td>\n",
       "      <td>279</td>\n",
       "      <td>31.476162</td>\n",
       "      <td>829.911743</td>\n",
       "      <td>0.000000</td>\n",
       "      <td>46</td>\n",
       "      <td>46</td>\n",
       "      <td>5</td>\n",
       "      <td>0</td>\n",
       "      <td>False</td>\n",
       "      <td>51.904930</td>\n",
       "      <td>1699.0</td>\n",
       "    </tr>\n",
       "    <tr>\n",
       "      <th>280</th>\n",
       "      <td>46</td>\n",
       "      <td>280</td>\n",
       "      <td>33.737240</td>\n",
       "      <td>830.824829</td>\n",
       "      <td>0.000000</td>\n",
       "      <td>46</td>\n",
       "      <td>46</td>\n",
       "      <td>5</td>\n",
       "      <td>0</td>\n",
       "      <td>False</td>\n",
       "      <td>52.021214</td>\n",
       "      <td>1724.0</td>\n",
       "    </tr>\n",
       "    <tr>\n",
       "      <th>281</th>\n",
       "      <td>46</td>\n",
       "      <td>281</td>\n",
       "      <td>32.329281</td>\n",
       "      <td>831.679993</td>\n",
       "      <td>0.000000</td>\n",
       "      <td>46</td>\n",
       "      <td>46</td>\n",
       "      <td>5</td>\n",
       "      <td>0</td>\n",
       "      <td>False</td>\n",
       "      <td>51.397594</td>\n",
       "      <td>1728.0</td>\n",
       "    </tr>\n",
       "    <tr>\n",
       "      <th>282</th>\n",
       "      <td>46</td>\n",
       "      <td>282</td>\n",
       "      <td>34.740631</td>\n",
       "      <td>831.806641</td>\n",
       "      <td>0.000000</td>\n",
       "      <td>46</td>\n",
       "      <td>46</td>\n",
       "      <td>5</td>\n",
       "      <td>0</td>\n",
       "      <td>False</td>\n",
       "      <td>50.760071</td>\n",
       "      <td>1681.0</td>\n",
       "    </tr>\n",
       "    <tr>\n",
       "      <th>283</th>\n",
       "      <td>46</td>\n",
       "      <td>283</td>\n",
       "      <td>28.394375</td>\n",
       "      <td>829.159180</td>\n",
       "      <td>0.000000</td>\n",
       "      <td>46</td>\n",
       "      <td>46</td>\n",
       "      <td>5</td>\n",
       "      <td>0</td>\n",
       "      <td>False</td>\n",
       "      <td>50.335777</td>\n",
       "      <td>1671.0</td>\n",
       "    </tr>\n",
       "    <tr>\n",
       "      <th>284</th>\n",
       "      <td>46</td>\n",
       "      <td>284</td>\n",
       "      <td>33.427845</td>\n",
       "      <td>830.217896</td>\n",
       "      <td>0.000000</td>\n",
       "      <td>46</td>\n",
       "      <td>46</td>\n",
       "      <td>5</td>\n",
       "      <td>0</td>\n",
       "      <td>False</td>\n",
       "      <td>51.886425</td>\n",
       "      <td>1767.0</td>\n",
       "    </tr>\n",
       "    <tr>\n",
       "      <th>285</th>\n",
       "      <td>46</td>\n",
       "      <td>285</td>\n",
       "      <td>31.466780</td>\n",
       "      <td>829.568970</td>\n",
       "      <td>0.000000</td>\n",
       "      <td>46</td>\n",
       "      <td>46</td>\n",
       "      <td>5</td>\n",
       "      <td>0</td>\n",
       "      <td>False</td>\n",
       "      <td>52.213287</td>\n",
       "      <td>1761.0</td>\n",
       "    </tr>\n",
       "    <tr>\n",
       "      <th>286</th>\n",
       "      <td>46</td>\n",
       "      <td>286</td>\n",
       "      <td>29.406033</td>\n",
       "      <td>829.618896</td>\n",
       "      <td>0.000000</td>\n",
       "      <td>46</td>\n",
       "      <td>46</td>\n",
       "      <td>5</td>\n",
       "      <td>0</td>\n",
       "      <td>False</td>\n",
       "      <td>51.889057</td>\n",
       "      <td>1724.0</td>\n",
       "    </tr>\n",
       "    <tr>\n",
       "      <th>287</th>\n",
       "      <td>46</td>\n",
       "      <td>287</td>\n",
       "      <td>31.150581</td>\n",
       "      <td>829.188354</td>\n",
       "      <td>0.000000</td>\n",
       "      <td>46</td>\n",
       "      <td>46</td>\n",
       "      <td>5</td>\n",
       "      <td>0</td>\n",
       "      <td>False</td>\n",
       "      <td>51.495342</td>\n",
       "      <td>1720.0</td>\n",
       "    </tr>\n",
       "    <tr>\n",
       "      <th>288</th>\n",
       "      <td>46</td>\n",
       "      <td>288</td>\n",
       "      <td>28.027397</td>\n",
       "      <td>828.724915</td>\n",
       "      <td>0.000000</td>\n",
       "      <td>46</td>\n",
       "      <td>46</td>\n",
       "      <td>5</td>\n",
       "      <td>0</td>\n",
       "      <td>False</td>\n",
       "      <td>51.604336</td>\n",
       "      <td>1752.0</td>\n",
       "    </tr>\n",
       "    <tr>\n",
       "      <th>289</th>\n",
       "      <td>46</td>\n",
       "      <td>289</td>\n",
       "      <td>31.413988</td>\n",
       "      <td>829.930054</td>\n",
       "      <td>0.000000</td>\n",
       "      <td>46</td>\n",
       "      <td>46</td>\n",
       "      <td>5</td>\n",
       "      <td>0</td>\n",
       "      <td>False</td>\n",
       "      <td>52.346046</td>\n",
       "      <td>1773.0</td>\n",
       "    </tr>\n",
       "    <tr>\n",
       "      <th>290</th>\n",
       "      <td>46</td>\n",
       "      <td>290</td>\n",
       "      <td>34.201954</td>\n",
       "      <td>829.623535</td>\n",
       "      <td>0.000000</td>\n",
       "      <td>46</td>\n",
       "      <td>46</td>\n",
       "      <td>5</td>\n",
       "      <td>0</td>\n",
       "      <td>False</td>\n",
       "      <td>50.860668</td>\n",
       "      <td>1639.0</td>\n",
       "    </tr>\n",
       "    <tr>\n",
       "      <th>291</th>\n",
       "      <td>46</td>\n",
       "      <td>291</td>\n",
       "      <td>34.775333</td>\n",
       "      <td>829.645630</td>\n",
       "      <td>0.000000</td>\n",
       "      <td>46</td>\n",
       "      <td>46</td>\n",
       "      <td>5</td>\n",
       "      <td>0</td>\n",
       "      <td>False</td>\n",
       "      <td>51.613270</td>\n",
       "      <td>1727.0</td>\n",
       "    </tr>\n",
       "    <tr>\n",
       "      <th>292</th>\n",
       "      <td>46</td>\n",
       "      <td>292</td>\n",
       "      <td>32.189865</td>\n",
       "      <td>828.767029</td>\n",
       "      <td>0.000000</td>\n",
       "      <td>46</td>\n",
       "      <td>46</td>\n",
       "      <td>5</td>\n",
       "      <td>0</td>\n",
       "      <td>False</td>\n",
       "      <td>52.249722</td>\n",
       "      <td>1717.0</td>\n",
       "    </tr>\n",
       "    <tr>\n",
       "      <th>293</th>\n",
       "      <td>46</td>\n",
       "      <td>293</td>\n",
       "      <td>30.468302</td>\n",
       "      <td>827.262573</td>\n",
       "      <td>0.000000</td>\n",
       "      <td>46</td>\n",
       "      <td>46</td>\n",
       "      <td>5</td>\n",
       "      <td>0</td>\n",
       "      <td>False</td>\n",
       "      <td>52.720516</td>\n",
       "      <td>1672.0</td>\n",
       "    </tr>\n",
       "    <tr>\n",
       "      <th>294</th>\n",
       "      <td>46</td>\n",
       "      <td>294</td>\n",
       "      <td>34.314793</td>\n",
       "      <td>828.090027</td>\n",
       "      <td>0.000000</td>\n",
       "      <td>46</td>\n",
       "      <td>46</td>\n",
       "      <td>5</td>\n",
       "      <td>0</td>\n",
       "      <td>False</td>\n",
       "      <td>53.694691</td>\n",
       "      <td>1744.0</td>\n",
       "    </tr>\n",
       "    <tr>\n",
       "      <th>295</th>\n",
       "      <td>46</td>\n",
       "      <td>295</td>\n",
       "      <td>31.830645</td>\n",
       "      <td>827.774170</td>\n",
       "      <td>0.000000</td>\n",
       "      <td>46</td>\n",
       "      <td>46</td>\n",
       "      <td>5</td>\n",
       "      <td>0</td>\n",
       "      <td>False</td>\n",
       "      <td>53.031422</td>\n",
       "      <td>1736.0</td>\n",
       "    </tr>\n",
       "    <tr>\n",
       "      <th>296</th>\n",
       "      <td>46</td>\n",
       "      <td>296</td>\n",
       "      <td>33.509953</td>\n",
       "      <td>825.600098</td>\n",
       "      <td>0.000000</td>\n",
       "      <td>46</td>\n",
       "      <td>46</td>\n",
       "      <td>5</td>\n",
       "      <td>0</td>\n",
       "      <td>False</td>\n",
       "      <td>52.731148</td>\n",
       "      <td>1708.0</td>\n",
       "    </tr>\n",
       "    <tr>\n",
       "      <th>297</th>\n",
       "      <td>46</td>\n",
       "      <td>297</td>\n",
       "      <td>31.761818</td>\n",
       "      <td>828.072754</td>\n",
       "      <td>0.000000</td>\n",
       "      <td>46</td>\n",
       "      <td>46</td>\n",
       "      <td>5</td>\n",
       "      <td>0</td>\n",
       "      <td>False</td>\n",
       "      <td>51.094009</td>\n",
       "      <td>1650.0</td>\n",
       "    </tr>\n",
       "    <tr>\n",
       "      <th>298</th>\n",
       "      <td>46</td>\n",
       "      <td>298</td>\n",
       "      <td>34.183815</td>\n",
       "      <td>828.072815</td>\n",
       "      <td>0.000000</td>\n",
       "      <td>46</td>\n",
       "      <td>46</td>\n",
       "      <td>5</td>\n",
       "      <td>0</td>\n",
       "      <td>False</td>\n",
       "      <td>51.330185</td>\n",
       "      <td>1730.0</td>\n",
       "    </tr>\n",
       "    <tr>\n",
       "      <th>299</th>\n",
       "      <td>46</td>\n",
       "      <td>299</td>\n",
       "      <td>29.090801</td>\n",
       "      <td>825.273621</td>\n",
       "      <td>0.000000</td>\n",
       "      <td>46</td>\n",
       "      <td>46</td>\n",
       "      <td>5</td>\n",
       "      <td>0</td>\n",
       "      <td>False</td>\n",
       "      <td>51.309593</td>\n",
       "      <td>1685.0</td>\n",
       "    </tr>\n",
       "    <tr>\n",
       "      <th>300</th>\n",
       "      <td>46</td>\n",
       "      <td>300</td>\n",
       "      <td>35.769230</td>\n",
       "      <td>827.047913</td>\n",
       "      <td>0.000000</td>\n",
       "      <td>46</td>\n",
       "      <td>46</td>\n",
       "      <td>5</td>\n",
       "      <td>0</td>\n",
       "      <td>False</td>\n",
       "      <td>52.749985</td>\n",
       "      <td>1794.0</td>\n",
       "    </tr>\n",
       "    <tr>\n",
       "      <th>301</th>\n",
       "      <td>46</td>\n",
       "      <td>301</td>\n",
       "      <td>32.182789</td>\n",
       "      <td>826.860535</td>\n",
       "      <td>0.000000</td>\n",
       "      <td>46</td>\n",
       "      <td>46</td>\n",
       "      <td>5</td>\n",
       "      <td>0</td>\n",
       "      <td>False</td>\n",
       "      <td>52.600548</td>\n",
       "      <td>1778.0</td>\n",
       "    </tr>\n",
       "    <tr>\n",
       "      <th>302</th>\n",
       "      <td>46</td>\n",
       "      <td>302</td>\n",
       "      <td>32.907463</td>\n",
       "      <td>827.882385</td>\n",
       "      <td>0.000000</td>\n",
       "      <td>46</td>\n",
       "      <td>46</td>\n",
       "      <td>5</td>\n",
       "      <td>0</td>\n",
       "      <td>False</td>\n",
       "      <td>52.131248</td>\n",
       "      <td>1675.0</td>\n",
       "    </tr>\n",
       "    <tr>\n",
       "      <th>303</th>\n",
       "      <td>46</td>\n",
       "      <td>303</td>\n",
       "      <td>33.111797</td>\n",
       "      <td>827.919678</td>\n",
       "      <td>0.000000</td>\n",
       "      <td>46</td>\n",
       "      <td>46</td>\n",
       "      <td>5</td>\n",
       "      <td>0</td>\n",
       "      <td>False</td>\n",
       "      <td>50.806633</td>\n",
       "      <td>1619.0</td>\n",
       "    </tr>\n",
       "    <tr>\n",
       "      <th>304</th>\n",
       "      <td>46</td>\n",
       "      <td>304</td>\n",
       "      <td>39.681671</td>\n",
       "      <td>827.964661</td>\n",
       "      <td>0.000000</td>\n",
       "      <td>46</td>\n",
       "      <td>46</td>\n",
       "      <td>5</td>\n",
       "      <td>0</td>\n",
       "      <td>False</td>\n",
       "      <td>54.041695</td>\n",
       "      <td>1866.0</td>\n",
       "    </tr>\n",
       "    <tr>\n",
       "      <th>305</th>\n",
       "      <td>46</td>\n",
       "      <td>305</td>\n",
       "      <td>35.319977</td>\n",
       "      <td>826.406494</td>\n",
       "      <td>0.000000</td>\n",
       "      <td>46</td>\n",
       "      <td>46</td>\n",
       "      <td>5</td>\n",
       "      <td>0</td>\n",
       "      <td>False</td>\n",
       "      <td>52.407440</td>\n",
       "      <td>1722.0</td>\n",
       "    </tr>\n",
       "    <tr>\n",
       "      <th>306</th>\n",
       "      <td>46</td>\n",
       "      <td>306</td>\n",
       "      <td>36.239094</td>\n",
       "      <td>826.873108</td>\n",
       "      <td>0.000000</td>\n",
       "      <td>46</td>\n",
       "      <td>46</td>\n",
       "      <td>5</td>\n",
       "      <td>0</td>\n",
       "      <td>False</td>\n",
       "      <td>52.503887</td>\n",
       "      <td>1765.0</td>\n",
       "    </tr>\n",
       "    <tr>\n",
       "      <th>307</th>\n",
       "      <td>46</td>\n",
       "      <td>307</td>\n",
       "      <td>38.884636</td>\n",
       "      <td>829.138550</td>\n",
       "      <td>0.000000</td>\n",
       "      <td>46</td>\n",
       "      <td>46</td>\n",
       "      <td>5</td>\n",
       "      <td>0</td>\n",
       "      <td>False</td>\n",
       "      <td>53.626781</td>\n",
       "      <td>1725.0</td>\n",
       "    </tr>\n",
       "    <tr>\n",
       "      <th>308</th>\n",
       "      <td>46</td>\n",
       "      <td>308</td>\n",
       "      <td>27.737284</td>\n",
       "      <td>827.600830</td>\n",
       "      <td>0.000000</td>\n",
       "      <td>46</td>\n",
       "      <td>46</td>\n",
       "      <td>5</td>\n",
       "      <td>0</td>\n",
       "      <td>False</td>\n",
       "      <td>52.647556</td>\n",
       "      <td>1671.0</td>\n",
       "    </tr>\n",
       "    <tr>\n",
       "      <th>309</th>\n",
       "      <td>46</td>\n",
       "      <td>309</td>\n",
       "      <td>35.305096</td>\n",
       "      <td>828.162292</td>\n",
       "      <td>0.000000</td>\n",
       "      <td>46</td>\n",
       "      <td>46</td>\n",
       "      <td>5</td>\n",
       "      <td>0</td>\n",
       "      <td>False</td>\n",
       "      <td>53.334808</td>\n",
       "      <td>1688.0</td>\n",
       "    </tr>\n",
       "    <tr>\n",
       "      <th>310</th>\n",
       "      <td>46</td>\n",
       "      <td>310</td>\n",
       "      <td>36.088634</td>\n",
       "      <td>825.931824</td>\n",
       "      <td>0.000000</td>\n",
       "      <td>46</td>\n",
       "      <td>46</td>\n",
       "      <td>5</td>\n",
       "      <td>0</td>\n",
       "      <td>False</td>\n",
       "      <td>53.560848</td>\n",
       "      <td>1760.0</td>\n",
       "    </tr>\n",
       "    <tr>\n",
       "      <th>311</th>\n",
       "      <td>46</td>\n",
       "      <td>311</td>\n",
       "      <td>40.281994</td>\n",
       "      <td>826.212036</td>\n",
       "      <td>0.000000</td>\n",
       "      <td>46</td>\n",
       "      <td>46</td>\n",
       "      <td>5</td>\n",
       "      <td>0</td>\n",
       "      <td>False</td>\n",
       "      <td>54.842407</td>\n",
       "      <td>1844.0</td>\n",
       "    </tr>\n",
       "    <tr>\n",
       "      <th>312</th>\n",
       "      <td>46</td>\n",
       "      <td>312</td>\n",
       "      <td>39.117378</td>\n",
       "      <td>825.454102</td>\n",
       "      <td>0.000000</td>\n",
       "      <td>46</td>\n",
       "      <td>46</td>\n",
       "      <td>5</td>\n",
       "      <td>0</td>\n",
       "      <td>False</td>\n",
       "      <td>52.049454</td>\n",
       "      <td>1755.0</td>\n",
       "    </tr>\n",
       "    <tr>\n",
       "      <th>313</th>\n",
       "      <td>46</td>\n",
       "      <td>313</td>\n",
       "      <td>35.814163</td>\n",
       "      <td>825.349854</td>\n",
       "      <td>0.000000</td>\n",
       "      <td>46</td>\n",
       "      <td>46</td>\n",
       "      <td>5</td>\n",
       "      <td>0</td>\n",
       "      <td>False</td>\n",
       "      <td>50.960732</td>\n",
       "      <td>1652.0</td>\n",
       "    </tr>\n",
       "    <tr>\n",
       "      <th>314</th>\n",
       "      <td>46</td>\n",
       "      <td>314</td>\n",
       "      <td>39.356628</td>\n",
       "      <td>821.823608</td>\n",
       "      <td>0.000000</td>\n",
       "      <td>46</td>\n",
       "      <td>46</td>\n",
       "      <td>5</td>\n",
       "      <td>0</td>\n",
       "      <td>False</td>\n",
       "      <td>52.312729</td>\n",
       "      <td>1803.0</td>\n",
       "    </tr>\n",
       "    <tr>\n",
       "      <th>315</th>\n",
       "      <td>46</td>\n",
       "      <td>315</td>\n",
       "      <td>35.124790</td>\n",
       "      <td>821.868530</td>\n",
       "      <td>0.000000</td>\n",
       "      <td>46</td>\n",
       "      <td>46</td>\n",
       "      <td>5</td>\n",
       "      <td>0</td>\n",
       "      <td>False</td>\n",
       "      <td>52.784946</td>\n",
       "      <td>1795.0</td>\n",
       "    </tr>\n",
       "    <tr>\n",
       "      <th>316</th>\n",
       "      <td>46</td>\n",
       "      <td>316</td>\n",
       "      <td>37.680508</td>\n",
       "      <td>822.689758</td>\n",
       "      <td>0.000000</td>\n",
       "      <td>46</td>\n",
       "      <td>46</td>\n",
       "      <td>5</td>\n",
       "      <td>0</td>\n",
       "      <td>False</td>\n",
       "      <td>53.836746</td>\n",
       "      <td>1734.0</td>\n",
       "    </tr>\n",
       "    <tr>\n",
       "      <th>317</th>\n",
       "      <td>46</td>\n",
       "      <td>317</td>\n",
       "      <td>36.547832</td>\n",
       "      <td>823.029724</td>\n",
       "      <td>0.000000</td>\n",
       "      <td>46</td>\n",
       "      <td>46</td>\n",
       "      <td>5</td>\n",
       "      <td>0</td>\n",
       "      <td>False</td>\n",
       "      <td>51.702625</td>\n",
       "      <td>1683.0</td>\n",
       "    </tr>\n",
       "    <tr>\n",
       "      <th>318</th>\n",
       "      <td>46</td>\n",
       "      <td>318</td>\n",
       "      <td>41.097603</td>\n",
       "      <td>824.085022</td>\n",
       "      <td>0.000000</td>\n",
       "      <td>46</td>\n",
       "      <td>46</td>\n",
       "      <td>5</td>\n",
       "      <td>0</td>\n",
       "      <td>False</td>\n",
       "      <td>52.464390</td>\n",
       "      <td>1752.0</td>\n",
       "    </tr>\n",
       "    <tr>\n",
       "      <th>319</th>\n",
       "      <td>46</td>\n",
       "      <td>319</td>\n",
       "      <td>42.963943</td>\n",
       "      <td>825.456909</td>\n",
       "      <td>0.000000</td>\n",
       "      <td>46</td>\n",
       "      <td>46</td>\n",
       "      <td>5</td>\n",
       "      <td>0</td>\n",
       "      <td>False</td>\n",
       "      <td>52.624031</td>\n",
       "      <td>1775.0</td>\n",
       "    </tr>\n",
       "    <tr>\n",
       "      <th>320</th>\n",
       "      <td>46</td>\n",
       "      <td>320</td>\n",
       "      <td>41.351841</td>\n",
       "      <td>824.684387</td>\n",
       "      <td>0.000000</td>\n",
       "      <td>46</td>\n",
       "      <td>46</td>\n",
       "      <td>5</td>\n",
       "      <td>0</td>\n",
       "      <td>False</td>\n",
       "      <td>52.504723</td>\n",
       "      <td>1711.0</td>\n",
       "    </tr>\n",
       "    <tr>\n",
       "      <th>321</th>\n",
       "      <td>46</td>\n",
       "      <td>321</td>\n",
       "      <td>42.272198</td>\n",
       "      <td>826.412964</td>\n",
       "      <td>0.000000</td>\n",
       "      <td>46</td>\n",
       "      <td>46</td>\n",
       "      <td>5</td>\n",
       "      <td>0</td>\n",
       "      <td>False</td>\n",
       "      <td>52.702953</td>\n",
       "      <td>1712.0</td>\n",
       "    </tr>\n",
       "    <tr>\n",
       "      <th>322</th>\n",
       "      <td>46</td>\n",
       "      <td>322</td>\n",
       "      <td>47.216152</td>\n",
       "      <td>827.181091</td>\n",
       "      <td>0.000000</td>\n",
       "      <td>46</td>\n",
       "      <td>46</td>\n",
       "      <td>5</td>\n",
       "      <td>0</td>\n",
       "      <td>False</td>\n",
       "      <td>52.118256</td>\n",
       "      <td>1684.0</td>\n",
       "    </tr>\n",
       "    <tr>\n",
       "      <th>323</th>\n",
       "      <td>46</td>\n",
       "      <td>323</td>\n",
       "      <td>43.753857</td>\n",
       "      <td>822.744141</td>\n",
       "      <td>0.000000</td>\n",
       "      <td>46</td>\n",
       "      <td>46</td>\n",
       "      <td>5</td>\n",
       "      <td>0</td>\n",
       "      <td>False</td>\n",
       "      <td>52.116982</td>\n",
       "      <td>1751.0</td>\n",
       "    </tr>\n",
       "    <tr>\n",
       "      <th>324</th>\n",
       "      <td>46</td>\n",
       "      <td>324</td>\n",
       "      <td>38.647755</td>\n",
       "      <td>820.315735</td>\n",
       "      <td>0.000000</td>\n",
       "      <td>46</td>\n",
       "      <td>46</td>\n",
       "      <td>5</td>\n",
       "      <td>0</td>\n",
       "      <td>False</td>\n",
       "      <td>53.391251</td>\n",
       "      <td>1780.0</td>\n",
       "    </tr>\n",
       "    <tr>\n",
       "      <th>325</th>\n",
       "      <td>46</td>\n",
       "      <td>325</td>\n",
       "      <td>40.592819</td>\n",
       "      <td>819.571838</td>\n",
       "      <td>0.000000</td>\n",
       "      <td>46</td>\n",
       "      <td>46</td>\n",
       "      <td>5</td>\n",
       "      <td>0</td>\n",
       "      <td>False</td>\n",
       "      <td>53.089870</td>\n",
       "      <td>1810.0</td>\n",
       "    </tr>\n",
       "    <tr>\n",
       "      <th>326</th>\n",
       "      <td>46</td>\n",
       "      <td>326</td>\n",
       "      <td>40.096394</td>\n",
       "      <td>821.010071</td>\n",
       "      <td>0.000000</td>\n",
       "      <td>46</td>\n",
       "      <td>46</td>\n",
       "      <td>5</td>\n",
       "      <td>0</td>\n",
       "      <td>False</td>\n",
       "      <td>52.532299</td>\n",
       "      <td>1691.0</td>\n",
       "    </tr>\n",
       "    <tr>\n",
       "      <th>327</th>\n",
       "      <td>46</td>\n",
       "      <td>327</td>\n",
       "      <td>44.637852</td>\n",
       "      <td>822.466675</td>\n",
       "      <td>0.000000</td>\n",
       "      <td>46</td>\n",
       "      <td>46</td>\n",
       "      <td>5</td>\n",
       "      <td>0</td>\n",
       "      <td>False</td>\n",
       "      <td>52.623108</td>\n",
       "      <td>1770.0</td>\n",
       "    </tr>\n",
       "    <tr>\n",
       "      <th>328</th>\n",
       "      <td>46</td>\n",
       "      <td>328</td>\n",
       "      <td>42.915676</td>\n",
       "      <td>820.244324</td>\n",
       "      <td>0.000000</td>\n",
       "      <td>46</td>\n",
       "      <td>46</td>\n",
       "      <td>5</td>\n",
       "      <td>0</td>\n",
       "      <td>False</td>\n",
       "      <td>55.412113</td>\n",
       "      <td>1850.0</td>\n",
       "    </tr>\n",
       "    <tr>\n",
       "      <th>329</th>\n",
       "      <td>46</td>\n",
       "      <td>329</td>\n",
       "      <td>36.971100</td>\n",
       "      <td>817.900574</td>\n",
       "      <td>0.000000</td>\n",
       "      <td>46</td>\n",
       "      <td>46</td>\n",
       "      <td>5</td>\n",
       "      <td>0</td>\n",
       "      <td>False</td>\n",
       "      <td>53.461159</td>\n",
       "      <td>1730.0</td>\n",
       "    </tr>\n",
       "    <tr>\n",
       "      <th>330</th>\n",
       "      <td>46</td>\n",
       "      <td>330</td>\n",
       "      <td>41.417278</td>\n",
       "      <td>818.521179</td>\n",
       "      <td>0.000000</td>\n",
       "      <td>46</td>\n",
       "      <td>46</td>\n",
       "      <td>5</td>\n",
       "      <td>0</td>\n",
       "      <td>False</td>\n",
       "      <td>52.318005</td>\n",
       "      <td>1771.0</td>\n",
       "    </tr>\n",
       "    <tr>\n",
       "      <th>331</th>\n",
       "      <td>46</td>\n",
       "      <td>331</td>\n",
       "      <td>34.236385</td>\n",
       "      <td>821.369080</td>\n",
       "      <td>0.000000</td>\n",
       "      <td>46</td>\n",
       "      <td>46</td>\n",
       "      <td>5</td>\n",
       "      <td>0</td>\n",
       "      <td>False</td>\n",
       "      <td>54.116249</td>\n",
       "      <td>1726.0</td>\n",
       "    </tr>\n",
       "    <tr>\n",
       "      <th>332</th>\n",
       "      <td>46</td>\n",
       "      <td>332</td>\n",
       "      <td>30.152493</td>\n",
       "      <td>822.150757</td>\n",
       "      <td>0.000000</td>\n",
       "      <td>46</td>\n",
       "      <td>46</td>\n",
       "      <td>5</td>\n",
       "      <td>0</td>\n",
       "      <td>False</td>\n",
       "      <td>52.529884</td>\n",
       "      <td>1705.0</td>\n",
       "    </tr>\n",
       "    <tr>\n",
       "      <th>333</th>\n",
       "      <td>46</td>\n",
       "      <td>333</td>\n",
       "      <td>37.456013</td>\n",
       "      <td>821.810120</td>\n",
       "      <td>0.000000</td>\n",
       "      <td>46</td>\n",
       "      <td>46</td>\n",
       "      <td>5</td>\n",
       "      <td>0</td>\n",
       "      <td>False</td>\n",
       "      <td>53.145294</td>\n",
       "      <td>1796.0</td>\n",
       "    </tr>\n",
       "    <tr>\n",
       "      <th>334</th>\n",
       "      <td>46</td>\n",
       "      <td>334</td>\n",
       "      <td>36.872643</td>\n",
       "      <td>822.366638</td>\n",
       "      <td>0.000000</td>\n",
       "      <td>46</td>\n",
       "      <td>46</td>\n",
       "      <td>5</td>\n",
       "      <td>0</td>\n",
       "      <td>False</td>\n",
       "      <td>53.622128</td>\n",
       "      <td>1751.0</td>\n",
       "    </tr>\n",
       "    <tr>\n",
       "      <th>335</th>\n",
       "      <td>46</td>\n",
       "      <td>335</td>\n",
       "      <td>37.638699</td>\n",
       "      <td>818.916077</td>\n",
       "      <td>0.000000</td>\n",
       "      <td>46</td>\n",
       "      <td>46</td>\n",
       "      <td>5</td>\n",
       "      <td>0</td>\n",
       "      <td>False</td>\n",
       "      <td>55.609360</td>\n",
       "      <td>1907.0</td>\n",
       "    </tr>\n",
       "    <tr>\n",
       "      <th>336</th>\n",
       "      <td>46</td>\n",
       "      <td>336</td>\n",
       "      <td>40.316612</td>\n",
       "      <td>816.786499</td>\n",
       "      <td>0.000000</td>\n",
       "      <td>46</td>\n",
       "      <td>46</td>\n",
       "      <td>5</td>\n",
       "      <td>0</td>\n",
       "      <td>False</td>\n",
       "      <td>54.133812</td>\n",
       "      <td>1794.0</td>\n",
       "    </tr>\n",
       "    <tr>\n",
       "      <th>337</th>\n",
       "      <td>46</td>\n",
       "      <td>337</td>\n",
       "      <td>34.476482</td>\n",
       "      <td>818.003357</td>\n",
       "      <td>0.000000</td>\n",
       "      <td>46</td>\n",
       "      <td>46</td>\n",
       "      <td>5</td>\n",
       "      <td>0</td>\n",
       "      <td>False</td>\n",
       "      <td>54.424274</td>\n",
       "      <td>1786.0</td>\n",
       "    </tr>\n",
       "    <tr>\n",
       "      <th>338</th>\n",
       "      <td>46</td>\n",
       "      <td>338</td>\n",
       "      <td>36.058857</td>\n",
       "      <td>817.785889</td>\n",
       "      <td>0.000000</td>\n",
       "      <td>46</td>\n",
       "      <td>46</td>\n",
       "      <td>5</td>\n",
       "      <td>0</td>\n",
       "      <td>False</td>\n",
       "      <td>52.264984</td>\n",
       "      <td>1784.0</td>\n",
       "    </tr>\n",
       "    <tr>\n",
       "      <th>339</th>\n",
       "      <td>46</td>\n",
       "      <td>339</td>\n",
       "      <td>34.527473</td>\n",
       "      <td>816.589355</td>\n",
       "      <td>0.000000</td>\n",
       "      <td>46</td>\n",
       "      <td>46</td>\n",
       "      <td>5</td>\n",
       "      <td>0</td>\n",
       "      <td>False</td>\n",
       "      <td>52.949715</td>\n",
       "      <td>1729.0</td>\n",
       "    </tr>\n",
       "    <tr>\n",
       "      <th>340</th>\n",
       "      <td>46</td>\n",
       "      <td>340</td>\n",
       "      <td>35.588608</td>\n",
       "      <td>817.109314</td>\n",
       "      <td>0.000000</td>\n",
       "      <td>46</td>\n",
       "      <td>46</td>\n",
       "      <td>5</td>\n",
       "      <td>0</td>\n",
       "      <td>False</td>\n",
       "      <td>52.990215</td>\n",
       "      <td>1738.0</td>\n",
       "    </tr>\n",
       "    <tr>\n",
       "      <th>341</th>\n",
       "      <td>46</td>\n",
       "      <td>341</td>\n",
       "      <td>36.171032</td>\n",
       "      <td>816.009460</td>\n",
       "      <td>0.000000</td>\n",
       "      <td>46</td>\n",
       "      <td>46</td>\n",
       "      <td>5</td>\n",
       "      <td>0</td>\n",
       "      <td>False</td>\n",
       "      <td>52.028286</td>\n",
       "      <td>1795.0</td>\n",
       "    </tr>\n",
       "    <tr>\n",
       "      <th>342</th>\n",
       "      <td>46</td>\n",
       "      <td>342</td>\n",
       "      <td>37.030655</td>\n",
       "      <td>815.385193</td>\n",
       "      <td>0.000000</td>\n",
       "      <td>46</td>\n",
       "      <td>46</td>\n",
       "      <td>5</td>\n",
       "      <td>0</td>\n",
       "      <td>False</td>\n",
       "      <td>52.832962</td>\n",
       "      <td>1729.0</td>\n",
       "    </tr>\n",
       "    <tr>\n",
       "      <th>343</th>\n",
       "      <td>46</td>\n",
       "      <td>343</td>\n",
       "      <td>34.545300</td>\n",
       "      <td>815.116821</td>\n",
       "      <td>0.000000</td>\n",
       "      <td>46</td>\n",
       "      <td>46</td>\n",
       "      <td>5</td>\n",
       "      <td>0</td>\n",
       "      <td>False</td>\n",
       "      <td>53.085854</td>\n",
       "      <td>1755.0</td>\n",
       "    </tr>\n",
       "    <tr>\n",
       "      <th>344</th>\n",
       "      <td>46</td>\n",
       "      <td>344</td>\n",
       "      <td>38.286575</td>\n",
       "      <td>815.165466</td>\n",
       "      <td>0.000000</td>\n",
       "      <td>46</td>\n",
       "      <td>46</td>\n",
       "      <td>5</td>\n",
       "      <td>0</td>\n",
       "      <td>False</td>\n",
       "      <td>52.907753</td>\n",
       "      <td>1825.0</td>\n",
       "    </tr>\n",
       "    <tr>\n",
       "      <th>345</th>\n",
       "      <td>46</td>\n",
       "      <td>345</td>\n",
       "      <td>30.643074</td>\n",
       "      <td>816.872986</td>\n",
       "      <td>0.000000</td>\n",
       "      <td>46</td>\n",
       "      <td>46</td>\n",
       "      <td>5</td>\n",
       "      <td>0</td>\n",
       "      <td>False</td>\n",
       "      <td>50.753990</td>\n",
       "      <td>1653.0</td>\n",
       "    </tr>\n",
       "    <tr>\n",
       "      <th>346</th>\n",
       "      <td>46</td>\n",
       "      <td>346</td>\n",
       "      <td>33.502094</td>\n",
       "      <td>818.028748</td>\n",
       "      <td>0.000000</td>\n",
       "      <td>46</td>\n",
       "      <td>46</td>\n",
       "      <td>5</td>\n",
       "      <td>0</td>\n",
       "      <td>False</td>\n",
       "      <td>50.878441</td>\n",
       "      <td>1671.0</td>\n",
       "    </tr>\n",
       "    <tr>\n",
       "      <th>347</th>\n",
       "      <td>46</td>\n",
       "      <td>347</td>\n",
       "      <td>34.729153</td>\n",
       "      <td>818.082764</td>\n",
       "      <td>0.000000</td>\n",
       "      <td>46</td>\n",
       "      <td>46</td>\n",
       "      <td>5</td>\n",
       "      <td>0</td>\n",
       "      <td>False</td>\n",
       "      <td>51.592846</td>\n",
       "      <td>1691.0</td>\n",
       "    </tr>\n",
       "    <tr>\n",
       "      <th>348</th>\n",
       "      <td>46</td>\n",
       "      <td>348</td>\n",
       "      <td>33.851986</td>\n",
       "      <td>817.907349</td>\n",
       "      <td>0.000000</td>\n",
       "      <td>46</td>\n",
       "      <td>46</td>\n",
       "      <td>5</td>\n",
       "      <td>0</td>\n",
       "      <td>False</td>\n",
       "      <td>50.684433</td>\n",
       "      <td>1662.0</td>\n",
       "    </tr>\n",
       "    <tr>\n",
       "      <th>349</th>\n",
       "      <td>46</td>\n",
       "      <td>349</td>\n",
       "      <td>31.949411</td>\n",
       "      <td>818.328796</td>\n",
       "      <td>0.000000</td>\n",
       "      <td>46</td>\n",
       "      <td>46</td>\n",
       "      <td>5</td>\n",
       "      <td>0</td>\n",
       "      <td>False</td>\n",
       "      <td>52.032513</td>\n",
       "      <td>1700.0</td>\n",
       "    </tr>\n",
       "    <tr>\n",
       "      <th>350</th>\n",
       "      <td>46</td>\n",
       "      <td>350</td>\n",
       "      <td>38.045326</td>\n",
       "      <td>818.759949</td>\n",
       "      <td>0.000000</td>\n",
       "      <td>46</td>\n",
       "      <td>46</td>\n",
       "      <td>5</td>\n",
       "      <td>0</td>\n",
       "      <td>False</td>\n",
       "      <td>51.601543</td>\n",
       "      <td>1787.0</td>\n",
       "    </tr>\n",
       "    <tr>\n",
       "      <th>351</th>\n",
       "      <td>46</td>\n",
       "      <td>351</td>\n",
       "      <td>37.037426</td>\n",
       "      <td>818.383606</td>\n",
       "      <td>0.000000</td>\n",
       "      <td>46</td>\n",
       "      <td>46</td>\n",
       "      <td>5</td>\n",
       "      <td>0</td>\n",
       "      <td>False</td>\n",
       "      <td>51.962597</td>\n",
       "      <td>1710.0</td>\n",
       "    </tr>\n",
       "    <tr>\n",
       "      <th>352</th>\n",
       "      <td>46</td>\n",
       "      <td>352</td>\n",
       "      <td>34.447178</td>\n",
       "      <td>819.131470</td>\n",
       "      <td>0.000000</td>\n",
       "      <td>46</td>\n",
       "      <td>46</td>\n",
       "      <td>5</td>\n",
       "      <td>0</td>\n",
       "      <td>False</td>\n",
       "      <td>51.456154</td>\n",
       "      <td>1666.0</td>\n",
       "    </tr>\n",
       "    <tr>\n",
       "      <th>353</th>\n",
       "      <td>46</td>\n",
       "      <td>353</td>\n",
       "      <td>38.845291</td>\n",
       "      <td>817.414795</td>\n",
       "      <td>0.000000</td>\n",
       "      <td>46</td>\n",
       "      <td>46</td>\n",
       "      <td>5</td>\n",
       "      <td>0</td>\n",
       "      <td>False</td>\n",
       "      <td>52.963806</td>\n",
       "      <td>1784.0</td>\n",
       "    </tr>\n",
       "    <tr>\n",
       "      <th>354</th>\n",
       "      <td>46</td>\n",
       "      <td>354</td>\n",
       "      <td>33.929111</td>\n",
       "      <td>818.887878</td>\n",
       "      <td>0.000000</td>\n",
       "      <td>46</td>\n",
       "      <td>46</td>\n",
       "      <td>5</td>\n",
       "      <td>0</td>\n",
       "      <td>False</td>\n",
       "      <td>52.241772</td>\n",
       "      <td>1721.0</td>\n",
       "    </tr>\n",
       "    <tr>\n",
       "      <th>355</th>\n",
       "      <td>46</td>\n",
       "      <td>355</td>\n",
       "      <td>35.087204</td>\n",
       "      <td>819.766724</td>\n",
       "      <td>0.000000</td>\n",
       "      <td>46</td>\n",
       "      <td>46</td>\n",
       "      <td>5</td>\n",
       "      <td>0</td>\n",
       "      <td>False</td>\n",
       "      <td>53.322887</td>\n",
       "      <td>1766.0</td>\n",
       "    </tr>\n",
       "    <tr>\n",
       "      <th>356</th>\n",
       "      <td>46</td>\n",
       "      <td>356</td>\n",
       "      <td>35.897202</td>\n",
       "      <td>819.412354</td>\n",
       "      <td>0.000000</td>\n",
       "      <td>46</td>\n",
       "      <td>46</td>\n",
       "      <td>5</td>\n",
       "      <td>0</td>\n",
       "      <td>False</td>\n",
       "      <td>53.012718</td>\n",
       "      <td>1751.0</td>\n",
       "    </tr>\n",
       "    <tr>\n",
       "      <th>357</th>\n",
       "      <td>46</td>\n",
       "      <td>357</td>\n",
       "      <td>38.550182</td>\n",
       "      <td>820.013123</td>\n",
       "      <td>0.000000</td>\n",
       "      <td>46</td>\n",
       "      <td>46</td>\n",
       "      <td>5</td>\n",
       "      <td>0</td>\n",
       "      <td>False</td>\n",
       "      <td>55.304707</td>\n",
       "      <td>1903.0</td>\n",
       "    </tr>\n",
       "    <tr>\n",
       "      <th>358</th>\n",
       "      <td>46</td>\n",
       "      <td>358</td>\n",
       "      <td>38.582279</td>\n",
       "      <td>821.533386</td>\n",
       "      <td>0.000000</td>\n",
       "      <td>46</td>\n",
       "      <td>46</td>\n",
       "      <td>5</td>\n",
       "      <td>0</td>\n",
       "      <td>False</td>\n",
       "      <td>52.724472</td>\n",
       "      <td>1738.0</td>\n",
       "    </tr>\n",
       "    <tr>\n",
       "      <th>359</th>\n",
       "      <td>46</td>\n",
       "      <td>359</td>\n",
       "      <td>40.458744</td>\n",
       "      <td>822.677124</td>\n",
       "      <td>0.000000</td>\n",
       "      <td>46</td>\n",
       "      <td>46</td>\n",
       "      <td>5</td>\n",
       "      <td>0</td>\n",
       "      <td>False</td>\n",
       "      <td>55.181252</td>\n",
       "      <td>1818.0</td>\n",
       "    </tr>\n",
       "    <tr>\n",
       "      <th>360</th>\n",
       "      <td>46</td>\n",
       "      <td>360</td>\n",
       "      <td>37.765739</td>\n",
       "      <td>823.026672</td>\n",
       "      <td>0.000000</td>\n",
       "      <td>46</td>\n",
       "      <td>46</td>\n",
       "      <td>5</td>\n",
       "      <td>0</td>\n",
       "      <td>False</td>\n",
       "      <td>53.332035</td>\n",
       "      <td>1763.0</td>\n",
       "    </tr>\n",
       "    <tr>\n",
       "      <th>361</th>\n",
       "      <td>46</td>\n",
       "      <td>361</td>\n",
       "      <td>41.753174</td>\n",
       "      <td>822.984558</td>\n",
       "      <td>0.000000</td>\n",
       "      <td>46</td>\n",
       "      <td>46</td>\n",
       "      <td>5</td>\n",
       "      <td>0</td>\n",
       "      <td>False</td>\n",
       "      <td>54.539143</td>\n",
       "      <td>1811.0</td>\n",
       "    </tr>\n",
       "    <tr>\n",
       "      <th>362</th>\n",
       "      <td>46</td>\n",
       "      <td>362</td>\n",
       "      <td>36.133698</td>\n",
       "      <td>821.932068</td>\n",
       "      <td>0.000000</td>\n",
       "      <td>46</td>\n",
       "      <td>46</td>\n",
       "      <td>5</td>\n",
       "      <td>0</td>\n",
       "      <td>False</td>\n",
       "      <td>53.574078</td>\n",
       "      <td>1825.0</td>\n",
       "    </tr>\n",
       "    <tr>\n",
       "      <th>363</th>\n",
       "      <td>46</td>\n",
       "      <td>363</td>\n",
       "      <td>35.173088</td>\n",
       "      <td>822.217773</td>\n",
       "      <td>0.000000</td>\n",
       "      <td>46</td>\n",
       "      <td>46</td>\n",
       "      <td>5</td>\n",
       "      <td>0</td>\n",
       "      <td>False</td>\n",
       "      <td>53.666046</td>\n",
       "      <td>1791.0</td>\n",
       "    </tr>\n",
       "    <tr>\n",
       "      <th>364</th>\n",
       "      <td>46</td>\n",
       "      <td>364</td>\n",
       "      <td>36.053303</td>\n",
       "      <td>824.181946</td>\n",
       "      <td>0.000000</td>\n",
       "      <td>46</td>\n",
       "      <td>46</td>\n",
       "      <td>5</td>\n",
       "      <td>0</td>\n",
       "      <td>False</td>\n",
       "      <td>52.253426</td>\n",
       "      <td>1726.0</td>\n",
       "    </tr>\n",
       "    <tr>\n",
       "      <th>365</th>\n",
       "      <td>46</td>\n",
       "      <td>365</td>\n",
       "      <td>33.535465</td>\n",
       "      <td>822.190125</td>\n",
       "      <td>0.000000</td>\n",
       "      <td>46</td>\n",
       "      <td>46</td>\n",
       "      <td>5</td>\n",
       "      <td>0</td>\n",
       "      <td>False</td>\n",
       "      <td>52.783466</td>\n",
       "      <td>1720.0</td>\n",
       "    </tr>\n",
       "    <tr>\n",
       "      <th>366</th>\n",
       "      <td>46</td>\n",
       "      <td>366</td>\n",
       "      <td>34.727802</td>\n",
       "      <td>821.519287</td>\n",
       "      <td>0.000000</td>\n",
       "      <td>46</td>\n",
       "      <td>46</td>\n",
       "      <td>5</td>\n",
       "      <td>0</td>\n",
       "      <td>False</td>\n",
       "      <td>52.506927</td>\n",
       "      <td>1712.0</td>\n",
       "    </tr>\n",
       "    <tr>\n",
       "      <th>367</th>\n",
       "      <td>46</td>\n",
       "      <td>367</td>\n",
       "      <td>37.832382</td>\n",
       "      <td>823.009094</td>\n",
       "      <td>0.000000</td>\n",
       "      <td>46</td>\n",
       "      <td>46</td>\n",
       "      <td>5</td>\n",
       "      <td>0</td>\n",
       "      <td>False</td>\n",
       "      <td>54.480385</td>\n",
       "      <td>1754.0</td>\n",
       "    </tr>\n",
       "    <tr>\n",
       "      <th>368</th>\n",
       "      <td>46</td>\n",
       "      <td>368</td>\n",
       "      <td>37.392059</td>\n",
       "      <td>822.586121</td>\n",
       "      <td>0.000000</td>\n",
       "      <td>46</td>\n",
       "      <td>46</td>\n",
       "      <td>5</td>\n",
       "      <td>0</td>\n",
       "      <td>False</td>\n",
       "      <td>53.821846</td>\n",
       "      <td>1788.0</td>\n",
       "    </tr>\n",
       "    <tr>\n",
       "      <th>369</th>\n",
       "      <td>46</td>\n",
       "      <td>369</td>\n",
       "      <td>39.957623</td>\n",
       "      <td>821.693420</td>\n",
       "      <td>0.000000</td>\n",
       "      <td>46</td>\n",
       "      <td>46</td>\n",
       "      <td>5</td>\n",
       "      <td>0</td>\n",
       "      <td>False</td>\n",
       "      <td>54.657326</td>\n",
       "      <td>1817.0</td>\n",
       "    </tr>\n",
       "    <tr>\n",
       "      <th>370</th>\n",
       "      <td>46</td>\n",
       "      <td>370</td>\n",
       "      <td>37.546597</td>\n",
       "      <td>820.865051</td>\n",
       "      <td>0.000000</td>\n",
       "      <td>46</td>\n",
       "      <td>46</td>\n",
       "      <td>5</td>\n",
       "      <td>0</td>\n",
       "      <td>False</td>\n",
       "      <td>53.304092</td>\n",
       "      <td>1749.0</td>\n",
       "    </tr>\n",
       "    <tr>\n",
       "      <th>371</th>\n",
       "      <td>46</td>\n",
       "      <td>371</td>\n",
       "      <td>37.534149</td>\n",
       "      <td>819.164368</td>\n",
       "      <td>0.000000</td>\n",
       "      <td>46</td>\n",
       "      <td>46</td>\n",
       "      <td>5</td>\n",
       "      <td>0</td>\n",
       "      <td>False</td>\n",
       "      <td>53.665287</td>\n",
       "      <td>1801.0</td>\n",
       "    </tr>\n",
       "    <tr>\n",
       "      <th>372</th>\n",
       "      <td>46</td>\n",
       "      <td>372</td>\n",
       "      <td>35.966457</td>\n",
       "      <td>817.654358</td>\n",
       "      <td>0.000000</td>\n",
       "      <td>46</td>\n",
       "      <td>46</td>\n",
       "      <td>5</td>\n",
       "      <td>0</td>\n",
       "      <td>False</td>\n",
       "      <td>54.202187</td>\n",
       "      <td>1759.0</td>\n",
       "    </tr>\n",
       "    <tr>\n",
       "      <th>373</th>\n",
       "      <td>46</td>\n",
       "      <td>373</td>\n",
       "      <td>35.404339</td>\n",
       "      <td>815.761414</td>\n",
       "      <td>0.000000</td>\n",
       "      <td>46</td>\n",
       "      <td>46</td>\n",
       "      <td>5</td>\n",
       "      <td>0</td>\n",
       "      <td>False</td>\n",
       "      <td>53.388779</td>\n",
       "      <td>1798.0</td>\n",
       "    </tr>\n",
       "    <tr>\n",
       "      <th>374</th>\n",
       "      <td>46</td>\n",
       "      <td>374</td>\n",
       "      <td>36.689499</td>\n",
       "      <td>815.303772</td>\n",
       "      <td>0.000000</td>\n",
       "      <td>46</td>\n",
       "      <td>46</td>\n",
       "      <td>5</td>\n",
       "      <td>0</td>\n",
       "      <td>False</td>\n",
       "      <td>55.096870</td>\n",
       "      <td>1781.0</td>\n",
       "    </tr>\n",
       "    <tr>\n",
       "      <th>375</th>\n",
       "      <td>46</td>\n",
       "      <td>375</td>\n",
       "      <td>38.233604</td>\n",
       "      <td>814.369629</td>\n",
       "      <td>0.000000</td>\n",
       "      <td>46</td>\n",
       "      <td>46</td>\n",
       "      <td>5</td>\n",
       "      <td>0</td>\n",
       "      <td>False</td>\n",
       "      <td>53.004917</td>\n",
       "      <td>1845.0</td>\n",
       "    </tr>\n",
       "    <tr>\n",
       "      <th>376</th>\n",
       "      <td>46</td>\n",
       "      <td>376</td>\n",
       "      <td>38.474930</td>\n",
       "      <td>817.911255</td>\n",
       "      <td>0.000000</td>\n",
       "      <td>46</td>\n",
       "      <td>46</td>\n",
       "      <td>5</td>\n",
       "      <td>0</td>\n",
       "      <td>False</td>\n",
       "      <td>52.674507</td>\n",
       "      <td>1735.0</td>\n",
       "    </tr>\n",
       "    <tr>\n",
       "      <th>377</th>\n",
       "      <td>46</td>\n",
       "      <td>377</td>\n",
       "      <td>37.559254</td>\n",
       "      <td>816.966125</td>\n",
       "      <td>0.000000</td>\n",
       "      <td>46</td>\n",
       "      <td>46</td>\n",
       "      <td>5</td>\n",
       "      <td>0</td>\n",
       "      <td>False</td>\n",
       "      <td>52.522583</td>\n",
       "      <td>1772.0</td>\n",
       "    </tr>\n",
       "    <tr>\n",
       "      <th>378</th>\n",
       "      <td>46</td>\n",
       "      <td>378</td>\n",
       "      <td>35.343388</td>\n",
       "      <td>812.827148</td>\n",
       "      <td>0.000000</td>\n",
       "      <td>46</td>\n",
       "      <td>46</td>\n",
       "      <td>5</td>\n",
       "      <td>0</td>\n",
       "      <td>False</td>\n",
       "      <td>53.357357</td>\n",
       "      <td>1724.0</td>\n",
       "    </tr>\n",
       "    <tr>\n",
       "      <th>379</th>\n",
       "      <td>46</td>\n",
       "      <td>379</td>\n",
       "      <td>40.772415</td>\n",
       "      <td>814.773010</td>\n",
       "      <td>0.000000</td>\n",
       "      <td>46</td>\n",
       "      <td>46</td>\n",
       "      <td>5</td>\n",
       "      <td>0</td>\n",
       "      <td>False</td>\n",
       "      <td>52.132599</td>\n",
       "      <td>1740.0</td>\n",
       "    </tr>\n",
       "    <tr>\n",
       "      <th>380</th>\n",
       "      <td>46</td>\n",
       "      <td>380</td>\n",
       "      <td>41.064644</td>\n",
       "      <td>814.581787</td>\n",
       "      <td>0.000000</td>\n",
       "      <td>46</td>\n",
       "      <td>46</td>\n",
       "      <td>5</td>\n",
       "      <td>0</td>\n",
       "      <td>False</td>\n",
       "      <td>52.605648</td>\n",
       "      <td>1748.0</td>\n",
       "    </tr>\n",
       "    <tr>\n",
       "      <th>381</th>\n",
       "      <td>46</td>\n",
       "      <td>381</td>\n",
       "      <td>43.630985</td>\n",
       "      <td>817.914917</td>\n",
       "      <td>0.000000</td>\n",
       "      <td>46</td>\n",
       "      <td>46</td>\n",
       "      <td>5</td>\n",
       "      <td>0</td>\n",
       "      <td>False</td>\n",
       "      <td>54.041306</td>\n",
       "      <td>1775.0</td>\n",
       "    </tr>\n",
       "    <tr>\n",
       "      <th>382</th>\n",
       "      <td>46</td>\n",
       "      <td>382</td>\n",
       "      <td>39.087051</td>\n",
       "      <td>814.994019</td>\n",
       "      <td>0.000000</td>\n",
       "      <td>46</td>\n",
       "      <td>46</td>\n",
       "      <td>5</td>\n",
       "      <td>0</td>\n",
       "      <td>False</td>\n",
       "      <td>54.601868</td>\n",
       "      <td>1838.0</td>\n",
       "    </tr>\n",
       "    <tr>\n",
       "      <th>383</th>\n",
       "      <td>46</td>\n",
       "      <td>383</td>\n",
       "      <td>39.855400</td>\n",
       "      <td>815.038757</td>\n",
       "      <td>0.000000</td>\n",
       "      <td>46</td>\n",
       "      <td>46</td>\n",
       "      <td>5</td>\n",
       "      <td>0</td>\n",
       "      <td>False</td>\n",
       "      <td>53.308228</td>\n",
       "      <td>1805.0</td>\n",
       "    </tr>\n",
       "    <tr>\n",
       "      <th>384</th>\n",
       "      <td>46</td>\n",
       "      <td>384</td>\n",
       "      <td>41.076439</td>\n",
       "      <td>814.272095</td>\n",
       "      <td>0.000000</td>\n",
       "      <td>46</td>\n",
       "      <td>46</td>\n",
       "      <td>5</td>\n",
       "      <td>0</td>\n",
       "      <td>False</td>\n",
       "      <td>53.435452</td>\n",
       "      <td>1753.0</td>\n",
       "    </tr>\n",
       "    <tr>\n",
       "      <th>385</th>\n",
       "      <td>46</td>\n",
       "      <td>385</td>\n",
       "      <td>37.781422</td>\n",
       "      <td>814.869385</td>\n",
       "      <td>0.000000</td>\n",
       "      <td>46</td>\n",
       "      <td>46</td>\n",
       "      <td>5</td>\n",
       "      <td>0</td>\n",
       "      <td>False</td>\n",
       "      <td>53.562119</td>\n",
       "      <td>1830.0</td>\n",
       "    </tr>\n",
       "    <tr>\n",
       "      <th>386</th>\n",
       "      <td>46</td>\n",
       "      <td>386</td>\n",
       "      <td>44.168251</td>\n",
       "      <td>813.662354</td>\n",
       "      <td>0.000000</td>\n",
       "      <td>46</td>\n",
       "      <td>46</td>\n",
       "      <td>5</td>\n",
       "      <td>0</td>\n",
       "      <td>False</td>\n",
       "      <td>53.483688</td>\n",
       "      <td>1789.0</td>\n",
       "    </tr>\n",
       "    <tr>\n",
       "      <th>387</th>\n",
       "      <td>46</td>\n",
       "      <td>387</td>\n",
       "      <td>42.541920</td>\n",
       "      <td>815.037231</td>\n",
       "      <td>0.000000</td>\n",
       "      <td>46</td>\n",
       "      <td>46</td>\n",
       "      <td>5</td>\n",
       "      <td>0</td>\n",
       "      <td>False</td>\n",
       "      <td>54.852623</td>\n",
       "      <td>1825.0</td>\n",
       "    </tr>\n",
       "    <tr>\n",
       "      <th>388</th>\n",
       "      <td>46</td>\n",
       "      <td>388</td>\n",
       "      <td>44.114708</td>\n",
       "      <td>814.847961</td>\n",
       "      <td>0.000000</td>\n",
       "      <td>46</td>\n",
       "      <td>46</td>\n",
       "      <td>5</td>\n",
       "      <td>0</td>\n",
       "      <td>False</td>\n",
       "      <td>54.867878</td>\n",
       "      <td>1822.0</td>\n",
       "    </tr>\n",
       "    <tr>\n",
       "      <th>389</th>\n",
       "      <td>46</td>\n",
       "      <td>389</td>\n",
       "      <td>40.507462</td>\n",
       "      <td>816.041931</td>\n",
       "      <td>0.000000</td>\n",
       "      <td>46</td>\n",
       "      <td>46</td>\n",
       "      <td>5</td>\n",
       "      <td>0</td>\n",
       "      <td>False</td>\n",
       "      <td>53.366299</td>\n",
       "      <td>1742.0</td>\n",
       "    </tr>\n",
       "    <tr>\n",
       "      <th>390</th>\n",
       "      <td>46</td>\n",
       "      <td>390</td>\n",
       "      <td>42.448315</td>\n",
       "      <td>816.158081</td>\n",
       "      <td>0.000000</td>\n",
       "      <td>46</td>\n",
       "      <td>46</td>\n",
       "      <td>5</td>\n",
       "      <td>0</td>\n",
       "      <td>False</td>\n",
       "      <td>54.046402</td>\n",
       "      <td>1809.0</td>\n",
       "    </tr>\n",
       "    <tr>\n",
       "      <th>391</th>\n",
       "      <td>46</td>\n",
       "      <td>391</td>\n",
       "      <td>44.878574</td>\n",
       "      <td>816.977356</td>\n",
       "      <td>0.000000</td>\n",
       "      <td>46</td>\n",
       "      <td>46</td>\n",
       "      <td>5</td>\n",
       "      <td>0</td>\n",
       "      <td>False</td>\n",
       "      <td>54.072498</td>\n",
       "      <td>1853.0</td>\n",
       "    </tr>\n",
       "    <tr>\n",
       "      <th>392</th>\n",
       "      <td>46</td>\n",
       "      <td>392</td>\n",
       "      <td>45.753071</td>\n",
       "      <td>818.397217</td>\n",
       "      <td>0.000000</td>\n",
       "      <td>46</td>\n",
       "      <td>46</td>\n",
       "      <td>5</td>\n",
       "      <td>0</td>\n",
       "      <td>False</td>\n",
       "      <td>53.866875</td>\n",
       "      <td>1790.0</td>\n",
       "    </tr>\n",
       "    <tr>\n",
       "      <th>393</th>\n",
       "      <td>46</td>\n",
       "      <td>393</td>\n",
       "      <td>44.005318</td>\n",
       "      <td>817.644897</td>\n",
       "      <td>0.000000</td>\n",
       "      <td>46</td>\n",
       "      <td>46</td>\n",
       "      <td>5</td>\n",
       "      <td>0</td>\n",
       "      <td>False</td>\n",
       "      <td>55.509933</td>\n",
       "      <td>1881.0</td>\n",
       "    </tr>\n",
       "    <tr>\n",
       "      <th>394</th>\n",
       "      <td>46</td>\n",
       "      <td>394</td>\n",
       "      <td>42.858444</td>\n",
       "      <td>818.719543</td>\n",
       "      <td>0.000000</td>\n",
       "      <td>46</td>\n",
       "      <td>46</td>\n",
       "      <td>5</td>\n",
       "      <td>0</td>\n",
       "      <td>False</td>\n",
       "      <td>54.689610</td>\n",
       "      <td>1865.0</td>\n",
       "    </tr>\n",
       "    <tr>\n",
       "      <th>395</th>\n",
       "      <td>46</td>\n",
       "      <td>395</td>\n",
       "      <td>45.496716</td>\n",
       "      <td>820.895386</td>\n",
       "      <td>0.000000</td>\n",
       "      <td>46</td>\n",
       "      <td>46</td>\n",
       "      <td>5</td>\n",
       "      <td>0</td>\n",
       "      <td>False</td>\n",
       "      <td>53.612114</td>\n",
       "      <td>1826.0</td>\n",
       "    </tr>\n",
       "    <tr>\n",
       "      <th>396</th>\n",
       "      <td>46</td>\n",
       "      <td>396</td>\n",
       "      <td>40.111721</td>\n",
       "      <td>820.501648</td>\n",
       "      <td>0.000000</td>\n",
       "      <td>46</td>\n",
       "      <td>46</td>\n",
       "      <td>5</td>\n",
       "      <td>0</td>\n",
       "      <td>False</td>\n",
       "      <td>53.371895</td>\n",
       "      <td>1826.0</td>\n",
       "    </tr>\n",
       "    <tr>\n",
       "      <th>397</th>\n",
       "      <td>46</td>\n",
       "      <td>397</td>\n",
       "      <td>46.048538</td>\n",
       "      <td>819.495300</td>\n",
       "      <td>0.000000</td>\n",
       "      <td>46</td>\n",
       "      <td>46</td>\n",
       "      <td>5</td>\n",
       "      <td>0</td>\n",
       "      <td>False</td>\n",
       "      <td>53.617054</td>\n",
       "      <td>1916.0</td>\n",
       "    </tr>\n",
       "    <tr>\n",
       "      <th>398</th>\n",
       "      <td>46</td>\n",
       "      <td>398</td>\n",
       "      <td>45.099129</td>\n",
       "      <td>821.318054</td>\n",
       "      <td>0.000000</td>\n",
       "      <td>46</td>\n",
       "      <td>46</td>\n",
       "      <td>5</td>\n",
       "      <td>0</td>\n",
       "      <td>False</td>\n",
       "      <td>54.202713</td>\n",
       "      <td>1836.0</td>\n",
       "    </tr>\n",
       "    <tr>\n",
       "      <th>399</th>\n",
       "      <td>46</td>\n",
       "      <td>399</td>\n",
       "      <td>46.850994</td>\n",
       "      <td>823.667786</td>\n",
       "      <td>0.000000</td>\n",
       "      <td>46</td>\n",
       "      <td>46</td>\n",
       "      <td>5</td>\n",
       "      <td>0</td>\n",
       "      <td>False</td>\n",
       "      <td>54.786003</td>\n",
       "      <td>1812.0</td>\n",
       "    </tr>\n",
       "    <tr>\n",
       "      <th>400</th>\n",
       "      <td>46</td>\n",
       "      <td>400</td>\n",
       "      <td>47.500000</td>\n",
       "      <td>826.217468</td>\n",
       "      <td>0.000000</td>\n",
       "      <td>46</td>\n",
       "      <td>46</td>\n",
       "      <td>5</td>\n",
       "      <td>0</td>\n",
       "      <td>False</td>\n",
       "      <td>54.168938</td>\n",
       "      <td>1830.0</td>\n",
       "    </tr>\n",
       "    <tr>\n",
       "      <th>401</th>\n",
       "      <td>46</td>\n",
       "      <td>401</td>\n",
       "      <td>44.661949</td>\n",
       "      <td>825.100159</td>\n",
       "      <td>0.000000</td>\n",
       "      <td>46</td>\n",
       "      <td>46</td>\n",
       "      <td>5</td>\n",
       "      <td>0</td>\n",
       "      <td>False</td>\n",
       "      <td>54.148922</td>\n",
       "      <td>1837.0</td>\n",
       "    </tr>\n",
       "    <tr>\n",
       "      <th>402</th>\n",
       "      <td>46</td>\n",
       "      <td>402</td>\n",
       "      <td>39.808487</td>\n",
       "      <td>826.007812</td>\n",
       "      <td>0.000000</td>\n",
       "      <td>46</td>\n",
       "      <td>46</td>\n",
       "      <td>5</td>\n",
       "      <td>0</td>\n",
       "      <td>False</td>\n",
       "      <td>54.249821</td>\n",
       "      <td>1791.0</td>\n",
       "    </tr>\n",
       "    <tr>\n",
       "      <th>403</th>\n",
       "      <td>46</td>\n",
       "      <td>403</td>\n",
       "      <td>43.452099</td>\n",
       "      <td>825.033386</td>\n",
       "      <td>0.000000</td>\n",
       "      <td>46</td>\n",
       "      <td>46</td>\n",
       "      <td>5</td>\n",
       "      <td>0</td>\n",
       "      <td>False</td>\n",
       "      <td>54.337135</td>\n",
       "      <td>1858.0</td>\n",
       "    </tr>\n",
       "    <tr>\n",
       "      <th>404</th>\n",
       "      <td>46</td>\n",
       "      <td>404</td>\n",
       "      <td>37.870213</td>\n",
       "      <td>824.884521</td>\n",
       "      <td>0.000000</td>\n",
       "      <td>46</td>\n",
       "      <td>46</td>\n",
       "      <td>5</td>\n",
       "      <td>0</td>\n",
       "      <td>False</td>\n",
       "      <td>52.499886</td>\n",
       "      <td>1749.0</td>\n",
       "    </tr>\n",
       "    <tr>\n",
       "      <th>405</th>\n",
       "      <td>46</td>\n",
       "      <td>405</td>\n",
       "      <td>44.251038</td>\n",
       "      <td>828.923767</td>\n",
       "      <td>0.000000</td>\n",
       "      <td>46</td>\n",
       "      <td>46</td>\n",
       "      <td>5</td>\n",
       "      <td>0</td>\n",
       "      <td>False</td>\n",
       "      <td>54.260490</td>\n",
       "      <td>1928.0</td>\n",
       "    </tr>\n",
       "    <tr>\n",
       "      <th>406</th>\n",
       "      <td>46</td>\n",
       "      <td>406</td>\n",
       "      <td>47.093765</td>\n",
       "      <td>829.117981</td>\n",
       "      <td>0.000000</td>\n",
       "      <td>46</td>\n",
       "      <td>46</td>\n",
       "      <td>5</td>\n",
       "      <td>0</td>\n",
       "      <td>False</td>\n",
       "      <td>55.608589</td>\n",
       "      <td>1941.0</td>\n",
       "    </tr>\n",
       "    <tr>\n",
       "      <th>407</th>\n",
       "      <td>46</td>\n",
       "      <td>407</td>\n",
       "      <td>45.620022</td>\n",
       "      <td>830.012390</td>\n",
       "      <td>0.000000</td>\n",
       "      <td>46</td>\n",
       "      <td>46</td>\n",
       "      <td>5</td>\n",
       "      <td>0</td>\n",
       "      <td>False</td>\n",
       "      <td>53.005329</td>\n",
       "      <td>1858.0</td>\n",
       "    </tr>\n",
       "    <tr>\n",
       "      <th>408</th>\n",
       "      <td>46</td>\n",
       "      <td>408</td>\n",
       "      <td>45.593330</td>\n",
       "      <td>830.689087</td>\n",
       "      <td>0.000000</td>\n",
       "      <td>46</td>\n",
       "      <td>46</td>\n",
       "      <td>5</td>\n",
       "      <td>0</td>\n",
       "      <td>False</td>\n",
       "      <td>54.922684</td>\n",
       "      <td>1859.0</td>\n",
       "    </tr>\n",
       "    <tr>\n",
       "      <th>409</th>\n",
       "      <td>46</td>\n",
       "      <td>409</td>\n",
       "      <td>50.720871</td>\n",
       "      <td>831.124817</td>\n",
       "      <td>0.000000</td>\n",
       "      <td>46</td>\n",
       "      <td>46</td>\n",
       "      <td>5</td>\n",
       "      <td>0</td>\n",
       "      <td>False</td>\n",
       "      <td>54.928547</td>\n",
       "      <td>1931.0</td>\n",
       "    </tr>\n",
       "    <tr>\n",
       "      <th>410</th>\n",
       "      <td>46</td>\n",
       "      <td>410</td>\n",
       "      <td>47.238937</td>\n",
       "      <td>828.209778</td>\n",
       "      <td>0.000000</td>\n",
       "      <td>46</td>\n",
       "      <td>46</td>\n",
       "      <td>5</td>\n",
       "      <td>0</td>\n",
       "      <td>False</td>\n",
       "      <td>54.797470</td>\n",
       "      <td>1921.0</td>\n",
       "    </tr>\n",
       "    <tr>\n",
       "      <th>411</th>\n",
       "      <td>46</td>\n",
       "      <td>411</td>\n",
       "      <td>47.224380</td>\n",
       "      <td>826.684448</td>\n",
       "      <td>0.000000</td>\n",
       "      <td>46</td>\n",
       "      <td>46</td>\n",
       "      <td>5</td>\n",
       "      <td>0</td>\n",
       "      <td>False</td>\n",
       "      <td>53.925884</td>\n",
       "      <td>1854.0</td>\n",
       "    </tr>\n",
       "    <tr>\n",
       "      <th>412</th>\n",
       "      <td>46</td>\n",
       "      <td>412</td>\n",
       "      <td>47.228733</td>\n",
       "      <td>822.947021</td>\n",
       "      <td>0.000000</td>\n",
       "      <td>46</td>\n",
       "      <td>46</td>\n",
       "      <td>5</td>\n",
       "      <td>0</td>\n",
       "      <td>False</td>\n",
       "      <td>56.727772</td>\n",
       "      <td>1963.0</td>\n",
       "    </tr>\n",
       "    <tr>\n",
       "      <th>413</th>\n",
       "      <td>46</td>\n",
       "      <td>413</td>\n",
       "      <td>46.500534</td>\n",
       "      <td>822.322510</td>\n",
       "      <td>0.000000</td>\n",
       "      <td>46</td>\n",
       "      <td>46</td>\n",
       "      <td>5</td>\n",
       "      <td>0</td>\n",
       "      <td>False</td>\n",
       "      <td>54.748856</td>\n",
       "      <td>1876.0</td>\n",
       "    </tr>\n",
       "    <tr>\n",
       "      <th>414</th>\n",
       "      <td>46</td>\n",
       "      <td>414</td>\n",
       "      <td>50.957706</td>\n",
       "      <td>821.782959</td>\n",
       "      <td>0.000000</td>\n",
       "      <td>46</td>\n",
       "      <td>46</td>\n",
       "      <td>5</td>\n",
       "      <td>0</td>\n",
       "      <td>False</td>\n",
       "      <td>54.155682</td>\n",
       "      <td>1797.0</td>\n",
       "    </tr>\n",
       "    <tr>\n",
       "      <th>415</th>\n",
       "      <td>46</td>\n",
       "      <td>415</td>\n",
       "      <td>52.070827</td>\n",
       "      <td>821.304321</td>\n",
       "      <td>0.000000</td>\n",
       "      <td>46</td>\n",
       "      <td>46</td>\n",
       "      <td>5</td>\n",
       "      <td>0</td>\n",
       "      <td>False</td>\n",
       "      <td>53.953724</td>\n",
       "      <td>1906.0</td>\n",
       "    </tr>\n",
       "    <tr>\n",
       "      <th>416</th>\n",
       "      <td>46</td>\n",
       "      <td>416</td>\n",
       "      <td>48.014179</td>\n",
       "      <td>820.026245</td>\n",
       "      <td>0.000000</td>\n",
       "      <td>46</td>\n",
       "      <td>46</td>\n",
       "      <td>5</td>\n",
       "      <td>0</td>\n",
       "      <td>False</td>\n",
       "      <td>54.986706</td>\n",
       "      <td>1904.0</td>\n",
       "    </tr>\n",
       "    <tr>\n",
       "      <th>417</th>\n",
       "      <td>46</td>\n",
       "      <td>417</td>\n",
       "      <td>46.760349</td>\n",
       "      <td>818.743469</td>\n",
       "      <td>0.000000</td>\n",
       "      <td>46</td>\n",
       "      <td>46</td>\n",
       "      <td>5</td>\n",
       "      <td>0</td>\n",
       "      <td>False</td>\n",
       "      <td>53.386898</td>\n",
       "      <td>1836.0</td>\n",
       "    </tr>\n",
       "    <tr>\n",
       "      <th>418</th>\n",
       "      <td>46</td>\n",
       "      <td>418</td>\n",
       "      <td>48.848274</td>\n",
       "      <td>818.750122</td>\n",
       "      <td>0.000000</td>\n",
       "      <td>46</td>\n",
       "      <td>46</td>\n",
       "      <td>5</td>\n",
       "      <td>0</td>\n",
       "      <td>False</td>\n",
       "      <td>54.350014</td>\n",
       "      <td>1885.0</td>\n",
       "    </tr>\n",
       "    <tr>\n",
       "      <th>419</th>\n",
       "      <td>46</td>\n",
       "      <td>419</td>\n",
       "      <td>51.323143</td>\n",
       "      <td>817.977844</td>\n",
       "      <td>0.000000</td>\n",
       "      <td>46</td>\n",
       "      <td>46</td>\n",
       "      <td>5</td>\n",
       "      <td>0</td>\n",
       "      <td>False</td>\n",
       "      <td>55.591022</td>\n",
       "      <td>1897.0</td>\n",
       "    </tr>\n",
       "    <tr>\n",
       "      <th>420</th>\n",
       "      <td>46</td>\n",
       "      <td>420</td>\n",
       "      <td>50.693607</td>\n",
       "      <td>819.038574</td>\n",
       "      <td>0.000000</td>\n",
       "      <td>46</td>\n",
       "      <td>46</td>\n",
       "      <td>5</td>\n",
       "      <td>0</td>\n",
       "      <td>False</td>\n",
       "      <td>54.316727</td>\n",
       "      <td>1893.0</td>\n",
       "    </tr>\n",
       "    <tr>\n",
       "      <th>421</th>\n",
       "      <td>46</td>\n",
       "      <td>421</td>\n",
       "      <td>48.338158</td>\n",
       "      <td>818.301208</td>\n",
       "      <td>0.000000</td>\n",
       "      <td>46</td>\n",
       "      <td>46</td>\n",
       "      <td>5</td>\n",
       "      <td>0</td>\n",
       "      <td>False</td>\n",
       "      <td>54.079128</td>\n",
       "      <td>1866.0</td>\n",
       "    </tr>\n",
       "    <tr>\n",
       "      <th>422</th>\n",
       "      <td>46</td>\n",
       "      <td>422</td>\n",
       "      <td>50.643341</td>\n",
       "      <td>819.063721</td>\n",
       "      <td>0.000000</td>\n",
       "      <td>46</td>\n",
       "      <td>46</td>\n",
       "      <td>5</td>\n",
       "      <td>0</td>\n",
       "      <td>False</td>\n",
       "      <td>55.367683</td>\n",
       "      <td>1915.0</td>\n",
       "    </tr>\n",
       "    <tr>\n",
       "      <th>423</th>\n",
       "      <td>46</td>\n",
       "      <td>423</td>\n",
       "      <td>49.682087</td>\n",
       "      <td>818.508850</td>\n",
       "      <td>0.000000</td>\n",
       "      <td>46</td>\n",
       "      <td>46</td>\n",
       "      <td>5</td>\n",
       "      <td>0</td>\n",
       "      <td>False</td>\n",
       "      <td>55.077328</td>\n",
       "      <td>1859.0</td>\n",
       "    </tr>\n",
       "    <tr>\n",
       "      <th>424</th>\n",
       "      <td>46</td>\n",
       "      <td>424</td>\n",
       "      <td>48.293373</td>\n",
       "      <td>817.617859</td>\n",
       "      <td>0.000000</td>\n",
       "      <td>46</td>\n",
       "      <td>46</td>\n",
       "      <td>5</td>\n",
       "      <td>0</td>\n",
       "      <td>False</td>\n",
       "      <td>51.961151</td>\n",
       "      <td>1735.0</td>\n",
       "    </tr>\n",
       "    <tr>\n",
       "      <th>425</th>\n",
       "      <td>46</td>\n",
       "      <td>425</td>\n",
       "      <td>49.746521</td>\n",
       "      <td>817.452759</td>\n",
       "      <td>0.000000</td>\n",
       "      <td>46</td>\n",
       "      <td>46</td>\n",
       "      <td>5</td>\n",
       "      <td>0</td>\n",
       "      <td>False</td>\n",
       "      <td>56.420853</td>\n",
       "      <td>2012.0</td>\n",
       "    </tr>\n",
       "    <tr>\n",
       "      <th>426</th>\n",
       "      <td>46</td>\n",
       "      <td>426</td>\n",
       "      <td>47.649113</td>\n",
       "      <td>816.760864</td>\n",
       "      <td>0.000000</td>\n",
       "      <td>46</td>\n",
       "      <td>46</td>\n",
       "      <td>5</td>\n",
       "      <td>0</td>\n",
       "      <td>False</td>\n",
       "      <td>55.847771</td>\n",
       "      <td>1861.0</td>\n",
       "    </tr>\n",
       "    <tr>\n",
       "      <th>427</th>\n",
       "      <td>46</td>\n",
       "      <td>427</td>\n",
       "      <td>48.870136</td>\n",
       "      <td>815.997925</td>\n",
       "      <td>0.000000</td>\n",
       "      <td>46</td>\n",
       "      <td>46</td>\n",
       "      <td>5</td>\n",
       "      <td>0</td>\n",
       "      <td>False</td>\n",
       "      <td>55.830540</td>\n",
       "      <td>1902.0</td>\n",
       "    </tr>\n",
       "    <tr>\n",
       "      <th>428</th>\n",
       "      <td>46</td>\n",
       "      <td>428</td>\n",
       "      <td>45.392105</td>\n",
       "      <td>814.178467</td>\n",
       "      <td>0.000000</td>\n",
       "      <td>46</td>\n",
       "      <td>46</td>\n",
       "      <td>5</td>\n",
       "      <td>0</td>\n",
       "      <td>False</td>\n",
       "      <td>55.222858</td>\n",
       "      <td>1849.0</td>\n",
       "    </tr>\n",
       "    <tr>\n",
       "      <th>429</th>\n",
       "      <td>46</td>\n",
       "      <td>429</td>\n",
       "      <td>51.431007</td>\n",
       "      <td>813.895569</td>\n",
       "      <td>0.000000</td>\n",
       "      <td>46</td>\n",
       "      <td>46</td>\n",
       "      <td>5</td>\n",
       "      <td>0</td>\n",
       "      <td>False</td>\n",
       "      <td>54.617950</td>\n",
       "      <td>1819.0</td>\n",
       "    </tr>\n",
       "    <tr>\n",
       "      <th>430</th>\n",
       "      <td>46</td>\n",
       "      <td>430</td>\n",
       "      <td>47.648865</td>\n",
       "      <td>814.175598</td>\n",
       "      <td>0.000000</td>\n",
       "      <td>46</td>\n",
       "      <td>46</td>\n",
       "      <td>5</td>\n",
       "      <td>0</td>\n",
       "      <td>False</td>\n",
       "      <td>57.577419</td>\n",
       "      <td>1891.0</td>\n",
       "    </tr>\n",
       "    <tr>\n",
       "      <th>431</th>\n",
       "      <td>46</td>\n",
       "      <td>431</td>\n",
       "      <td>46.831352</td>\n",
       "      <td>814.049744</td>\n",
       "      <td>0.000000</td>\n",
       "      <td>46</td>\n",
       "      <td>46</td>\n",
       "      <td>5</td>\n",
       "      <td>0</td>\n",
       "      <td>False</td>\n",
       "      <td>55.555244</td>\n",
       "      <td>1850.0</td>\n",
       "    </tr>\n",
       "    <tr>\n",
       "      <th>432</th>\n",
       "      <td>46</td>\n",
       "      <td>432</td>\n",
       "      <td>47.059731</td>\n",
       "      <td>813.528320</td>\n",
       "      <td>0.000000</td>\n",
       "      <td>46</td>\n",
       "      <td>46</td>\n",
       "      <td>5</td>\n",
       "      <td>0</td>\n",
       "      <td>False</td>\n",
       "      <td>57.439571</td>\n",
       "      <td>1942.0</td>\n",
       "    </tr>\n",
       "    <tr>\n",
       "      <th>433</th>\n",
       "      <td>46</td>\n",
       "      <td>433</td>\n",
       "      <td>48.167355</td>\n",
       "      <td>813.837280</td>\n",
       "      <td>0.000000</td>\n",
       "      <td>46</td>\n",
       "      <td>46</td>\n",
       "      <td>5</td>\n",
       "      <td>0</td>\n",
       "      <td>False</td>\n",
       "      <td>58.042439</td>\n",
       "      <td>1942.0</td>\n",
       "    </tr>\n",
       "    <tr>\n",
       "      <th>434</th>\n",
       "      <td>46</td>\n",
       "      <td>434</td>\n",
       "      <td>45.265923</td>\n",
       "      <td>812.620667</td>\n",
       "      <td>0.000000</td>\n",
       "      <td>46</td>\n",
       "      <td>46</td>\n",
       "      <td>5</td>\n",
       "      <td>0</td>\n",
       "      <td>False</td>\n",
       "      <td>54.904808</td>\n",
       "      <td>1790.0</td>\n",
       "    </tr>\n",
       "    <tr>\n",
       "      <th>435</th>\n",
       "      <td>46</td>\n",
       "      <td>435</td>\n",
       "      <td>52.349606</td>\n",
       "      <td>813.338562</td>\n",
       "      <td>0.000000</td>\n",
       "      <td>46</td>\n",
       "      <td>46</td>\n",
       "      <td>5</td>\n",
       "      <td>0</td>\n",
       "      <td>False</td>\n",
       "      <td>55.551884</td>\n",
       "      <td>1905.0</td>\n",
       "    </tr>\n",
       "    <tr>\n",
       "      <th>436</th>\n",
       "      <td>46</td>\n",
       "      <td>436</td>\n",
       "      <td>49.787148</td>\n",
       "      <td>814.630310</td>\n",
       "      <td>0.000000</td>\n",
       "      <td>46</td>\n",
       "      <td>46</td>\n",
       "      <td>5</td>\n",
       "      <td>0</td>\n",
       "      <td>False</td>\n",
       "      <td>56.185917</td>\n",
       "      <td>1945.0</td>\n",
       "    </tr>\n",
       "    <tr>\n",
       "      <th>437</th>\n",
       "      <td>46</td>\n",
       "      <td>437</td>\n",
       "      <td>48.386341</td>\n",
       "      <td>813.564575</td>\n",
       "      <td>0.000000</td>\n",
       "      <td>46</td>\n",
       "      <td>46</td>\n",
       "      <td>5</td>\n",
       "      <td>0</td>\n",
       "      <td>False</td>\n",
       "      <td>55.339714</td>\n",
       "      <td>1874.0</td>\n",
       "    </tr>\n",
       "    <tr>\n",
       "      <th>438</th>\n",
       "      <td>46</td>\n",
       "      <td>438</td>\n",
       "      <td>47.108315</td>\n",
       "      <td>811.831604</td>\n",
       "      <td>0.000000</td>\n",
       "      <td>46</td>\n",
       "      <td>46</td>\n",
       "      <td>5</td>\n",
       "      <td>0</td>\n",
       "      <td>False</td>\n",
       "      <td>57.865578</td>\n",
       "      <td>1948.0</td>\n",
       "    </tr>\n",
       "    <tr>\n",
       "      <th>439</th>\n",
       "      <td>46</td>\n",
       "      <td>439</td>\n",
       "      <td>49.375000</td>\n",
       "      <td>811.358826</td>\n",
       "      <td>0.000000</td>\n",
       "      <td>46</td>\n",
       "      <td>46</td>\n",
       "      <td>5</td>\n",
       "      <td>0</td>\n",
       "      <td>False</td>\n",
       "      <td>55.195702</td>\n",
       "      <td>1920.0</td>\n",
       "    </tr>\n",
       "    <tr>\n",
       "      <th>440</th>\n",
       "      <td>46</td>\n",
       "      <td>440</td>\n",
       "      <td>43.691280</td>\n",
       "      <td>811.285156</td>\n",
       "      <td>0.000000</td>\n",
       "      <td>46</td>\n",
       "      <td>46</td>\n",
       "      <td>5</td>\n",
       "      <td>0</td>\n",
       "      <td>False</td>\n",
       "      <td>55.656254</td>\n",
       "      <td>1869.0</td>\n",
       "    </tr>\n",
       "    <tr>\n",
       "      <th>441</th>\n",
       "      <td>46</td>\n",
       "      <td>441</td>\n",
       "      <td>47.905823</td>\n",
       "      <td>811.030396</td>\n",
       "      <td>0.000000</td>\n",
       "      <td>46</td>\n",
       "      <td>46</td>\n",
       "      <td>5</td>\n",
       "      <td>0</td>\n",
       "      <td>False</td>\n",
       "      <td>58.024281</td>\n",
       "      <td>1975.0</td>\n",
       "    </tr>\n",
       "    <tr>\n",
       "      <th>442</th>\n",
       "      <td>46</td>\n",
       "      <td>442</td>\n",
       "      <td>46.076382</td>\n",
       "      <td>810.982666</td>\n",
       "      <td>0.000000</td>\n",
       "      <td>46</td>\n",
       "      <td>46</td>\n",
       "      <td>5</td>\n",
       "      <td>0</td>\n",
       "      <td>False</td>\n",
       "      <td>55.233040</td>\n",
       "      <td>1846.0</td>\n",
       "    </tr>\n",
       "    <tr>\n",
       "      <th>443</th>\n",
       "      <td>46</td>\n",
       "      <td>443</td>\n",
       "      <td>42.096184</td>\n",
       "      <td>810.692627</td>\n",
       "      <td>0.000000</td>\n",
       "      <td>46</td>\n",
       "      <td>46</td>\n",
       "      <td>5</td>\n",
       "      <td>0</td>\n",
       "      <td>False</td>\n",
       "      <td>56.445305</td>\n",
       "      <td>1913.0</td>\n",
       "    </tr>\n",
       "    <tr>\n",
       "      <th>444</th>\n",
       "      <td>46</td>\n",
       "      <td>444</td>\n",
       "      <td>43.359467</td>\n",
       "      <td>812.227173</td>\n",
       "      <td>0.000000</td>\n",
       "      <td>46</td>\n",
       "      <td>46</td>\n",
       "      <td>5</td>\n",
       "      <td>0</td>\n",
       "      <td>False</td>\n",
       "      <td>56.617405</td>\n",
       "      <td>1875.0</td>\n",
       "    </tr>\n",
       "    <tr>\n",
       "      <th>445</th>\n",
       "      <td>46</td>\n",
       "      <td>445</td>\n",
       "      <td>42.367821</td>\n",
       "      <td>810.971313</td>\n",
       "      <td>0.000000</td>\n",
       "      <td>46</td>\n",
       "      <td>46</td>\n",
       "      <td>5</td>\n",
       "      <td>0</td>\n",
       "      <td>False</td>\n",
       "      <td>57.886665</td>\n",
       "      <td>2020.0</td>\n",
       "    </tr>\n",
       "    <tr>\n",
       "      <th>446</th>\n",
       "      <td>46</td>\n",
       "      <td>446</td>\n",
       "      <td>43.342598</td>\n",
       "      <td>810.271362</td>\n",
       "      <td>0.000000</td>\n",
       "      <td>46</td>\n",
       "      <td>46</td>\n",
       "      <td>5</td>\n",
       "      <td>0</td>\n",
       "      <td>False</td>\n",
       "      <td>57.109043</td>\n",
       "      <td>1979.0</td>\n",
       "    </tr>\n",
       "    <tr>\n",
       "      <th>447</th>\n",
       "      <td>46</td>\n",
       "      <td>447</td>\n",
       "      <td>41.613708</td>\n",
       "      <td>810.880981</td>\n",
       "      <td>0.000000</td>\n",
       "      <td>46</td>\n",
       "      <td>46</td>\n",
       "      <td>5</td>\n",
       "      <td>0</td>\n",
       "      <td>False</td>\n",
       "      <td>55.284924</td>\n",
       "      <td>1882.0</td>\n",
       "    </tr>\n",
       "    <tr>\n",
       "      <th>448</th>\n",
       "      <td>46</td>\n",
       "      <td>448</td>\n",
       "      <td>42.056000</td>\n",
       "      <td>811.031494</td>\n",
       "      <td>0.000000</td>\n",
       "      <td>46</td>\n",
       "      <td>46</td>\n",
       "      <td>5</td>\n",
       "      <td>0</td>\n",
       "      <td>False</td>\n",
       "      <td>55.194298</td>\n",
       "      <td>1875.0</td>\n",
       "    </tr>\n",
       "    <tr>\n",
       "      <th>449</th>\n",
       "      <td>46</td>\n",
       "      <td>449</td>\n",
       "      <td>42.608955</td>\n",
       "      <td>811.988647</td>\n",
       "      <td>0.000000</td>\n",
       "      <td>46</td>\n",
       "      <td>46</td>\n",
       "      <td>5</td>\n",
       "      <td>0</td>\n",
       "      <td>False</td>\n",
       "      <td>55.173645</td>\n",
       "      <td>1854.0</td>\n",
       "    </tr>\n",
       "    <tr>\n",
       "      <th>450</th>\n",
       "      <td>46</td>\n",
       "      <td>450</td>\n",
       "      <td>43.024727</td>\n",
       "      <td>811.048340</td>\n",
       "      <td>0.000000</td>\n",
       "      <td>46</td>\n",
       "      <td>46</td>\n",
       "      <td>5</td>\n",
       "      <td>0</td>\n",
       "      <td>False</td>\n",
       "      <td>52.748192</td>\n",
       "      <td>1820.0</td>\n",
       "    </tr>\n",
       "    <tr>\n",
       "      <th>451</th>\n",
       "      <td>46</td>\n",
       "      <td>451</td>\n",
       "      <td>42.844910</td>\n",
       "      <td>811.401062</td>\n",
       "      <td>0.000000</td>\n",
       "      <td>46</td>\n",
       "      <td>46</td>\n",
       "      <td>5</td>\n",
       "      <td>0</td>\n",
       "      <td>False</td>\n",
       "      <td>53.857334</td>\n",
       "      <td>1915.0</td>\n",
       "    </tr>\n",
       "    <tr>\n",
       "      <th>452</th>\n",
       "      <td>46</td>\n",
       "      <td>452</td>\n",
       "      <td>41.653290</td>\n",
       "      <td>810.643677</td>\n",
       "      <td>0.000000</td>\n",
       "      <td>46</td>\n",
       "      <td>46</td>\n",
       "      <td>5</td>\n",
       "      <td>0</td>\n",
       "      <td>False</td>\n",
       "      <td>54.040466</td>\n",
       "      <td>1869.0</td>\n",
       "    </tr>\n",
       "    <tr>\n",
       "      <th>453</th>\n",
       "      <td>46</td>\n",
       "      <td>453</td>\n",
       "      <td>46.221447</td>\n",
       "      <td>809.283264</td>\n",
       "      <td>0.000000</td>\n",
       "      <td>46</td>\n",
       "      <td>46</td>\n",
       "      <td>5</td>\n",
       "      <td>0</td>\n",
       "      <td>False</td>\n",
       "      <td>56.506115</td>\n",
       "      <td>2005.0</td>\n",
       "    </tr>\n",
       "    <tr>\n",
       "      <th>454</th>\n",
       "      <td>46</td>\n",
       "      <td>454</td>\n",
       "      <td>45.981911</td>\n",
       "      <td>809.159668</td>\n",
       "      <td>0.000000</td>\n",
       "      <td>46</td>\n",
       "      <td>46</td>\n",
       "      <td>5</td>\n",
       "      <td>0</td>\n",
       "      <td>False</td>\n",
       "      <td>54.948559</td>\n",
       "      <td>1935.0</td>\n",
       "    </tr>\n",
       "    <tr>\n",
       "      <th>455</th>\n",
       "      <td>46</td>\n",
       "      <td>455</td>\n",
       "      <td>46.090370</td>\n",
       "      <td>809.247986</td>\n",
       "      <td>0.000000</td>\n",
       "      <td>46</td>\n",
       "      <td>46</td>\n",
       "      <td>5</td>\n",
       "      <td>0</td>\n",
       "      <td>False</td>\n",
       "      <td>52.869530</td>\n",
       "      <td>1859.0</td>\n",
       "    </tr>\n",
       "    <tr>\n",
       "      <th>456</th>\n",
       "      <td>46</td>\n",
       "      <td>456</td>\n",
       "      <td>41.468380</td>\n",
       "      <td>809.389587</td>\n",
       "      <td>0.000000</td>\n",
       "      <td>46</td>\n",
       "      <td>46</td>\n",
       "      <td>5</td>\n",
       "      <td>0</td>\n",
       "      <td>False</td>\n",
       "      <td>54.539238</td>\n",
       "      <td>1866.0</td>\n",
       "    </tr>\n",
       "    <tr>\n",
       "      <th>457</th>\n",
       "      <td>46</td>\n",
       "      <td>457</td>\n",
       "      <td>41.402794</td>\n",
       "      <td>809.417297</td>\n",
       "      <td>0.000000</td>\n",
       "      <td>46</td>\n",
       "      <td>46</td>\n",
       "      <td>5</td>\n",
       "      <td>0</td>\n",
       "      <td>False</td>\n",
       "      <td>53.466404</td>\n",
       "      <td>1862.0</td>\n",
       "    </tr>\n",
       "    <tr>\n",
       "      <th>458</th>\n",
       "      <td>46</td>\n",
       "      <td>458</td>\n",
       "      <td>42.855118</td>\n",
       "      <td>808.393616</td>\n",
       "      <td>0.000000</td>\n",
       "      <td>46</td>\n",
       "      <td>46</td>\n",
       "      <td>5</td>\n",
       "      <td>0</td>\n",
       "      <td>False</td>\n",
       "      <td>55.460777</td>\n",
       "      <td>1974.0</td>\n",
       "    </tr>\n",
       "    <tr>\n",
       "      <th>459</th>\n",
       "      <td>46</td>\n",
       "      <td>459</td>\n",
       "      <td>45.952358</td>\n",
       "      <td>807.127197</td>\n",
       "      <td>0.000000</td>\n",
       "      <td>46</td>\n",
       "      <td>46</td>\n",
       "      <td>5</td>\n",
       "      <td>0</td>\n",
       "      <td>False</td>\n",
       "      <td>55.841450</td>\n",
       "      <td>1973.0</td>\n",
       "    </tr>\n",
       "    <tr>\n",
       "      <th>460</th>\n",
       "      <td>46</td>\n",
       "      <td>460</td>\n",
       "      <td>47.122654</td>\n",
       "      <td>806.789673</td>\n",
       "      <td>0.000000</td>\n",
       "      <td>46</td>\n",
       "      <td>46</td>\n",
       "      <td>5</td>\n",
       "      <td>0</td>\n",
       "      <td>False</td>\n",
       "      <td>56.885830</td>\n",
       "      <td>1973.0</td>\n",
       "    </tr>\n",
       "    <tr>\n",
       "      <th>461</th>\n",
       "      <td>46</td>\n",
       "      <td>461</td>\n",
       "      <td>45.929230</td>\n",
       "      <td>804.636963</td>\n",
       "      <td>0.000000</td>\n",
       "      <td>46</td>\n",
       "      <td>46</td>\n",
       "      <td>5</td>\n",
       "      <td>0</td>\n",
       "      <td>False</td>\n",
       "      <td>58.802692</td>\n",
       "      <td>2176.0</td>\n",
       "    </tr>\n",
       "    <tr>\n",
       "      <th>462</th>\n",
       "      <td>46</td>\n",
       "      <td>462</td>\n",
       "      <td>45.788937</td>\n",
       "      <td>804.884033</td>\n",
       "      <td>0.000000</td>\n",
       "      <td>46</td>\n",
       "      <td>46</td>\n",
       "      <td>5</td>\n",
       "      <td>0</td>\n",
       "      <td>False</td>\n",
       "      <td>57.176449</td>\n",
       "      <td>2061.0</td>\n",
       "    </tr>\n",
       "    <tr>\n",
       "      <th>463</th>\n",
       "      <td>46</td>\n",
       "      <td>463</td>\n",
       "      <td>41.744473</td>\n",
       "      <td>804.147888</td>\n",
       "      <td>0.000000</td>\n",
       "      <td>46</td>\n",
       "      <td>46</td>\n",
       "      <td>5</td>\n",
       "      <td>0</td>\n",
       "      <td>False</td>\n",
       "      <td>57.290222</td>\n",
       "      <td>2035.0</td>\n",
       "    </tr>\n",
       "    <tr>\n",
       "      <th>464</th>\n",
       "      <td>46</td>\n",
       "      <td>464</td>\n",
       "      <td>47.906605</td>\n",
       "      <td>805.739624</td>\n",
       "      <td>0.000000</td>\n",
       "      <td>46</td>\n",
       "      <td>46</td>\n",
       "      <td>5</td>\n",
       "      <td>0</td>\n",
       "      <td>False</td>\n",
       "      <td>59.707695</td>\n",
       "      <td>2120.0</td>\n",
       "    </tr>\n",
       "    <tr>\n",
       "      <th>465</th>\n",
       "      <td>46</td>\n",
       "      <td>465</td>\n",
       "      <td>49.158871</td>\n",
       "      <td>803.729065</td>\n",
       "      <td>0.000000</td>\n",
       "      <td>46</td>\n",
       "      <td>46</td>\n",
       "      <td>5</td>\n",
       "      <td>0</td>\n",
       "      <td>False</td>\n",
       "      <td>58.435078</td>\n",
       "      <td>2052.0</td>\n",
       "    </tr>\n",
       "    <tr>\n",
       "      <th>466</th>\n",
       "      <td>46</td>\n",
       "      <td>466</td>\n",
       "      <td>48.511330</td>\n",
       "      <td>803.184753</td>\n",
       "      <td>0.000000</td>\n",
       "      <td>46</td>\n",
       "      <td>46</td>\n",
       "      <td>5</td>\n",
       "      <td>0</td>\n",
       "      <td>False</td>\n",
       "      <td>58.954376</td>\n",
       "      <td>2030.0</td>\n",
       "    </tr>\n",
       "    <tr>\n",
       "      <th>467</th>\n",
       "      <td>46</td>\n",
       "      <td>467</td>\n",
       "      <td>49.896618</td>\n",
       "      <td>803.321106</td>\n",
       "      <td>0.000000</td>\n",
       "      <td>46</td>\n",
       "      <td>46</td>\n",
       "      <td>5</td>\n",
       "      <td>0</td>\n",
       "      <td>False</td>\n",
       "      <td>59.096874</td>\n",
       "      <td>2099.0</td>\n",
       "    </tr>\n",
       "    <tr>\n",
       "      <th>468</th>\n",
       "      <td>46</td>\n",
       "      <td>468</td>\n",
       "      <td>43.336491</td>\n",
       "      <td>803.850952</td>\n",
       "      <td>0.000000</td>\n",
       "      <td>46</td>\n",
       "      <td>46</td>\n",
       "      <td>5</td>\n",
       "      <td>0</td>\n",
       "      <td>False</td>\n",
       "      <td>56.711430</td>\n",
       "      <td>2006.0</td>\n",
       "    </tr>\n",
       "    <tr>\n",
       "      <th>469</th>\n",
       "      <td>46</td>\n",
       "      <td>469</td>\n",
       "      <td>47.665718</td>\n",
       "      <td>802.560425</td>\n",
       "      <td>0.000000</td>\n",
       "      <td>46</td>\n",
       "      <td>46</td>\n",
       "      <td>5</td>\n",
       "      <td>0</td>\n",
       "      <td>False</td>\n",
       "      <td>59.607800</td>\n",
       "      <td>2109.0</td>\n",
       "    </tr>\n",
       "    <tr>\n",
       "      <th>470</th>\n",
       "      <td>46</td>\n",
       "      <td>470</td>\n",
       "      <td>49.575100</td>\n",
       "      <td>803.356201</td>\n",
       "      <td>0.000000</td>\n",
       "      <td>46</td>\n",
       "      <td>46</td>\n",
       "      <td>5</td>\n",
       "      <td>0</td>\n",
       "      <td>False</td>\n",
       "      <td>57.264065</td>\n",
       "      <td>2024.0</td>\n",
       "    </tr>\n",
       "    <tr>\n",
       "      <th>471</th>\n",
       "      <td>46</td>\n",
       "      <td>471</td>\n",
       "      <td>49.009537</td>\n",
       "      <td>800.991455</td>\n",
       "      <td>0.000000</td>\n",
       "      <td>46</td>\n",
       "      <td>46</td>\n",
       "      <td>5</td>\n",
       "      <td>0</td>\n",
       "      <td>False</td>\n",
       "      <td>56.169056</td>\n",
       "      <td>1992.0</td>\n",
       "    </tr>\n",
       "    <tr>\n",
       "      <th>472</th>\n",
       "      <td>46</td>\n",
       "      <td>472</td>\n",
       "      <td>49.408699</td>\n",
       "      <td>801.164917</td>\n",
       "      <td>0.000000</td>\n",
       "      <td>46</td>\n",
       "      <td>46</td>\n",
       "      <td>5</td>\n",
       "      <td>0</td>\n",
       "      <td>False</td>\n",
       "      <td>56.966465</td>\n",
       "      <td>1977.0</td>\n",
       "    </tr>\n",
       "    <tr>\n",
       "      <th>473</th>\n",
       "      <td>46</td>\n",
       "      <td>473</td>\n",
       "      <td>50.351158</td>\n",
       "      <td>801.440125</td>\n",
       "      <td>0.000000</td>\n",
       "      <td>46</td>\n",
       "      <td>46</td>\n",
       "      <td>5</td>\n",
       "      <td>0</td>\n",
       "      <td>False</td>\n",
       "      <td>56.850071</td>\n",
       "      <td>1945.0</td>\n",
       "    </tr>\n",
       "    <tr>\n",
       "      <th>474</th>\n",
       "      <td>46</td>\n",
       "      <td>474</td>\n",
       "      <td>49.994385</td>\n",
       "      <td>802.271057</td>\n",
       "      <td>0.000000</td>\n",
       "      <td>46</td>\n",
       "      <td>46</td>\n",
       "      <td>5</td>\n",
       "      <td>0</td>\n",
       "      <td>False</td>\n",
       "      <td>56.897655</td>\n",
       "      <td>1959.0</td>\n",
       "    </tr>\n",
       "    <tr>\n",
       "      <th>475</th>\n",
       "      <td>46</td>\n",
       "      <td>475</td>\n",
       "      <td>50.544922</td>\n",
       "      <td>803.522034</td>\n",
       "      <td>0.000000</td>\n",
       "      <td>46</td>\n",
       "      <td>46</td>\n",
       "      <td>5</td>\n",
       "      <td>0</td>\n",
       "      <td>False</td>\n",
       "      <td>56.002228</td>\n",
       "      <td>1881.0</td>\n",
       "    </tr>\n",
       "    <tr>\n",
       "      <th>476</th>\n",
       "      <td>46</td>\n",
       "      <td>476</td>\n",
       "      <td>52.715420</td>\n",
       "      <td>804.147827</td>\n",
       "      <td>0.000000</td>\n",
       "      <td>46</td>\n",
       "      <td>46</td>\n",
       "      <td>5</td>\n",
       "      <td>0</td>\n",
       "      <td>False</td>\n",
       "      <td>55.442833</td>\n",
       "      <td>1887.0</td>\n",
       "    </tr>\n",
       "    <tr>\n",
       "      <th>477</th>\n",
       "      <td>46</td>\n",
       "      <td>477</td>\n",
       "      <td>48.875729</td>\n",
       "      <td>800.348999</td>\n",
       "      <td>0.000000</td>\n",
       "      <td>46</td>\n",
       "      <td>46</td>\n",
       "      <td>5</td>\n",
       "      <td>0</td>\n",
       "      <td>False</td>\n",
       "      <td>55.648628</td>\n",
       "      <td>1891.0</td>\n",
       "    </tr>\n",
       "    <tr>\n",
       "      <th>478</th>\n",
       "      <td>46</td>\n",
       "      <td>478</td>\n",
       "      <td>53.107548</td>\n",
       "      <td>800.772156</td>\n",
       "      <td>0.000000</td>\n",
       "      <td>46</td>\n",
       "      <td>46</td>\n",
       "      <td>5</td>\n",
       "      <td>0</td>\n",
       "      <td>False</td>\n",
       "      <td>58.505100</td>\n",
       "      <td>2120.0</td>\n",
       "    </tr>\n",
       "    <tr>\n",
       "      <th>479</th>\n",
       "      <td>46</td>\n",
       "      <td>479</td>\n",
       "      <td>49.727501</td>\n",
       "      <td>801.593018</td>\n",
       "      <td>0.000000</td>\n",
       "      <td>46</td>\n",
       "      <td>46</td>\n",
       "      <td>5</td>\n",
       "      <td>0</td>\n",
       "      <td>False</td>\n",
       "      <td>55.788288</td>\n",
       "      <td>1978.0</td>\n",
       "    </tr>\n",
       "    <tr>\n",
       "      <th>480</th>\n",
       "      <td>46</td>\n",
       "      <td>480</td>\n",
       "      <td>48.621017</td>\n",
       "      <td>800.410828</td>\n",
       "      <td>0.000000</td>\n",
       "      <td>46</td>\n",
       "      <td>46</td>\n",
       "      <td>5</td>\n",
       "      <td>0</td>\n",
       "      <td>False</td>\n",
       "      <td>55.512913</td>\n",
       "      <td>1884.0</td>\n",
       "    </tr>\n",
       "    <tr>\n",
       "      <th>481</th>\n",
       "      <td>46</td>\n",
       "      <td>481</td>\n",
       "      <td>46.384285</td>\n",
       "      <td>799.472534</td>\n",
       "      <td>0.000000</td>\n",
       "      <td>46</td>\n",
       "      <td>46</td>\n",
       "      <td>5</td>\n",
       "      <td>0</td>\n",
       "      <td>False</td>\n",
       "      <td>56.260181</td>\n",
       "      <td>1858.0</td>\n",
       "    </tr>\n",
       "    <tr>\n",
       "      <th>482</th>\n",
       "      <td>46</td>\n",
       "      <td>482</td>\n",
       "      <td>47.841278</td>\n",
       "      <td>801.316040</td>\n",
       "      <td>0.000000</td>\n",
       "      <td>46</td>\n",
       "      <td>46</td>\n",
       "      <td>5</td>\n",
       "      <td>0</td>\n",
       "      <td>False</td>\n",
       "      <td>58.141464</td>\n",
       "      <td>2098.0</td>\n",
       "    </tr>\n",
       "    <tr>\n",
       "      <th>483</th>\n",
       "      <td>46</td>\n",
       "      <td>483</td>\n",
       "      <td>50.082764</td>\n",
       "      <td>801.929993</td>\n",
       "      <td>0.000000</td>\n",
       "      <td>46</td>\n",
       "      <td>46</td>\n",
       "      <td>5</td>\n",
       "      <td>0</td>\n",
       "      <td>False</td>\n",
       "      <td>57.384651</td>\n",
       "      <td>2042.0</td>\n",
       "    </tr>\n",
       "    <tr>\n",
       "      <th>484</th>\n",
       "      <td>46</td>\n",
       "      <td>484</td>\n",
       "      <td>48.931000</td>\n",
       "      <td>801.940247</td>\n",
       "      <td>0.000000</td>\n",
       "      <td>46</td>\n",
       "      <td>46</td>\n",
       "      <td>5</td>\n",
       "      <td>0</td>\n",
       "      <td>False</td>\n",
       "      <td>56.911312</td>\n",
       "      <td>1942.0</td>\n",
       "    </tr>\n",
       "    <tr>\n",
       "      <th>485</th>\n",
       "      <td>46</td>\n",
       "      <td>485</td>\n",
       "      <td>47.974281</td>\n",
       "      <td>798.778137</td>\n",
       "      <td>0.000000</td>\n",
       "      <td>46</td>\n",
       "      <td>46</td>\n",
       "      <td>5</td>\n",
       "      <td>0</td>\n",
       "      <td>False</td>\n",
       "      <td>57.812050</td>\n",
       "      <td>1983.0</td>\n",
       "    </tr>\n",
       "    <tr>\n",
       "      <th>486</th>\n",
       "      <td>46</td>\n",
       "      <td>486</td>\n",
       "      <td>49.887260</td>\n",
       "      <td>801.020020</td>\n",
       "      <td>0.000000</td>\n",
       "      <td>46</td>\n",
       "      <td>46</td>\n",
       "      <td>5</td>\n",
       "      <td>0</td>\n",
       "      <td>False</td>\n",
       "      <td>58.873940</td>\n",
       "      <td>2049.0</td>\n",
       "    </tr>\n",
       "    <tr>\n",
       "      <th>487</th>\n",
       "      <td>46</td>\n",
       "      <td>487</td>\n",
       "      <td>49.021164</td>\n",
       "      <td>801.942749</td>\n",
       "      <td>0.000000</td>\n",
       "      <td>46</td>\n",
       "      <td>46</td>\n",
       "      <td>5</td>\n",
       "      <td>0</td>\n",
       "      <td>False</td>\n",
       "      <td>59.467846</td>\n",
       "      <td>2079.0</td>\n",
       "    </tr>\n",
       "    <tr>\n",
       "      <th>488</th>\n",
       "      <td>46</td>\n",
       "      <td>488</td>\n",
       "      <td>49.378990</td>\n",
       "      <td>802.820312</td>\n",
       "      <td>0.000000</td>\n",
       "      <td>46</td>\n",
       "      <td>46</td>\n",
       "      <td>5</td>\n",
       "      <td>0</td>\n",
       "      <td>False</td>\n",
       "      <td>55.469662</td>\n",
       "      <td>1942.0</td>\n",
       "    </tr>\n",
       "    <tr>\n",
       "      <th>489</th>\n",
       "      <td>46</td>\n",
       "      <td>489</td>\n",
       "      <td>50.185902</td>\n",
       "      <td>800.853821</td>\n",
       "      <td>0.000000</td>\n",
       "      <td>46</td>\n",
       "      <td>46</td>\n",
       "      <td>5</td>\n",
       "      <td>0</td>\n",
       "      <td>False</td>\n",
       "      <td>57.950565</td>\n",
       "      <td>2114.0</td>\n",
       "    </tr>\n",
       "    <tr>\n",
       "      <th>490</th>\n",
       "      <td>46</td>\n",
       "      <td>490</td>\n",
       "      <td>52.630871</td>\n",
       "      <td>799.756348</td>\n",
       "      <td>0.000000</td>\n",
       "      <td>46</td>\n",
       "      <td>46</td>\n",
       "      <td>5</td>\n",
       "      <td>0</td>\n",
       "      <td>False</td>\n",
       "      <td>56.146194</td>\n",
       "      <td>1937.0</td>\n",
       "    </tr>\n",
       "    <tr>\n",
       "      <th>491</th>\n",
       "      <td>46</td>\n",
       "      <td>491</td>\n",
       "      <td>51.697475</td>\n",
       "      <td>799.316650</td>\n",
       "      <td>0.000000</td>\n",
       "      <td>46</td>\n",
       "      <td>46</td>\n",
       "      <td>5</td>\n",
       "      <td>0</td>\n",
       "      <td>False</td>\n",
       "      <td>56.228588</td>\n",
       "      <td>1980.0</td>\n",
       "    </tr>\n",
       "    <tr>\n",
       "      <th>492</th>\n",
       "      <td>46</td>\n",
       "      <td>492</td>\n",
       "      <td>51.353386</td>\n",
       "      <td>800.179993</td>\n",
       "      <td>0.000000</td>\n",
       "      <td>46</td>\n",
       "      <td>46</td>\n",
       "      <td>5</td>\n",
       "      <td>0</td>\n",
       "      <td>False</td>\n",
       "      <td>57.607910</td>\n",
       "      <td>1978.0</td>\n",
       "    </tr>\n",
       "    <tr>\n",
       "      <th>493</th>\n",
       "      <td>46</td>\n",
       "      <td>493</td>\n",
       "      <td>49.877438</td>\n",
       "      <td>800.773865</td>\n",
       "      <td>0.000000</td>\n",
       "      <td>46</td>\n",
       "      <td>46</td>\n",
       "      <td>5</td>\n",
       "      <td>0</td>\n",
       "      <td>False</td>\n",
       "      <td>57.045902</td>\n",
       "      <td>1950.0</td>\n",
       "    </tr>\n",
       "    <tr>\n",
       "      <th>494</th>\n",
       "      <td>46</td>\n",
       "      <td>494</td>\n",
       "      <td>51.899311</td>\n",
       "      <td>802.863953</td>\n",
       "      <td>0.000000</td>\n",
       "      <td>46</td>\n",
       "      <td>46</td>\n",
       "      <td>5</td>\n",
       "      <td>0</td>\n",
       "      <td>False</td>\n",
       "      <td>57.326286</td>\n",
       "      <td>2036.0</td>\n",
       "    </tr>\n",
       "    <tr>\n",
       "      <th>495</th>\n",
       "      <td>46</td>\n",
       "      <td>495</td>\n",
       "      <td>50.718304</td>\n",
       "      <td>803.697083</td>\n",
       "      <td>0.000000</td>\n",
       "      <td>46</td>\n",
       "      <td>46</td>\n",
       "      <td>5</td>\n",
       "      <td>0</td>\n",
       "      <td>False</td>\n",
       "      <td>57.098747</td>\n",
       "      <td>2027.0</td>\n",
       "    </tr>\n",
       "    <tr>\n",
       "      <th>496</th>\n",
       "      <td>46</td>\n",
       "      <td>496</td>\n",
       "      <td>50.659237</td>\n",
       "      <td>803.134705</td>\n",
       "      <td>0.000000</td>\n",
       "      <td>46</td>\n",
       "      <td>46</td>\n",
       "      <td>5</td>\n",
       "      <td>0</td>\n",
       "      <td>False</td>\n",
       "      <td>57.037983</td>\n",
       "      <td>2019.0</td>\n",
       "    </tr>\n",
       "    <tr>\n",
       "      <th>497</th>\n",
       "      <td>46</td>\n",
       "      <td>497</td>\n",
       "      <td>46.156029</td>\n",
       "      <td>802.981262</td>\n",
       "      <td>0.000000</td>\n",
       "      <td>46</td>\n",
       "      <td>46</td>\n",
       "      <td>5</td>\n",
       "      <td>0</td>\n",
       "      <td>False</td>\n",
       "      <td>56.617596</td>\n",
       "      <td>1974.0</td>\n",
       "    </tr>\n",
       "    <tr>\n",
       "      <th>498</th>\n",
       "      <td>46</td>\n",
       "      <td>498</td>\n",
       "      <td>48.387756</td>\n",
       "      <td>803.451477</td>\n",
       "      <td>0.000000</td>\n",
       "      <td>46</td>\n",
       "      <td>46</td>\n",
       "      <td>5</td>\n",
       "      <td>0</td>\n",
       "      <td>False</td>\n",
       "      <td>57.748573</td>\n",
       "      <td>2009.0</td>\n",
       "    </tr>\n",
       "    <tr>\n",
       "      <th>499</th>\n",
       "      <td>46</td>\n",
       "      <td>499</td>\n",
       "      <td>49.715843</td>\n",
       "      <td>806.143738</td>\n",
       "      <td>0.000000</td>\n",
       "      <td>46</td>\n",
       "      <td>46</td>\n",
       "      <td>5</td>\n",
       "      <td>0</td>\n",
       "      <td>False</td>\n",
       "      <td>57.861160</td>\n",
       "      <td>2108.0</td>\n",
       "    </tr>\n",
       "    <tr>\n",
       "      <th>500</th>\n",
       "      <td>46</td>\n",
       "      <td>500</td>\n",
       "      <td>48.822231</td>\n",
       "      <td>804.860229</td>\n",
       "      <td>0.000000</td>\n",
       "      <td>46</td>\n",
       "      <td>46</td>\n",
       "      <td>5</td>\n",
       "      <td>0</td>\n",
       "      <td>False</td>\n",
       "      <td>58.952038</td>\n",
       "      <td>2132.0</td>\n",
       "    </tr>\n",
       "    <tr>\n",
       "      <th>501</th>\n",
       "      <td>46</td>\n",
       "      <td>501</td>\n",
       "      <td>45.771912</td>\n",
       "      <td>805.992737</td>\n",
       "      <td>0.000000</td>\n",
       "      <td>46</td>\n",
       "      <td>46</td>\n",
       "      <td>5</td>\n",
       "      <td>0</td>\n",
       "      <td>False</td>\n",
       "      <td>57.318703</td>\n",
       "      <td>2065.0</td>\n",
       "    </tr>\n",
       "    <tr>\n",
       "      <th>502</th>\n",
       "      <td>46</td>\n",
       "      <td>502</td>\n",
       "      <td>45.421280</td>\n",
       "      <td>805.974976</td>\n",
       "      <td>0.000000</td>\n",
       "      <td>46</td>\n",
       "      <td>46</td>\n",
       "      <td>5</td>\n",
       "      <td>0</td>\n",
       "      <td>False</td>\n",
       "      <td>58.062866</td>\n",
       "      <td>2077.0</td>\n",
       "    </tr>\n",
       "    <tr>\n",
       "      <th>503</th>\n",
       "      <td>46</td>\n",
       "      <td>503</td>\n",
       "      <td>45.223804</td>\n",
       "      <td>807.815063</td>\n",
       "      <td>0.000000</td>\n",
       "      <td>46</td>\n",
       "      <td>46</td>\n",
       "      <td>5</td>\n",
       "      <td>0</td>\n",
       "      <td>False</td>\n",
       "      <td>58.610367</td>\n",
       "      <td>2109.0</td>\n",
       "    </tr>\n",
       "    <tr>\n",
       "      <th>504</th>\n",
       "      <td>46</td>\n",
       "      <td>504</td>\n",
       "      <td>41.832283</td>\n",
       "      <td>808.033447</td>\n",
       "      <td>0.000000</td>\n",
       "      <td>46</td>\n",
       "      <td>46</td>\n",
       "      <td>5</td>\n",
       "      <td>0</td>\n",
       "      <td>False</td>\n",
       "      <td>58.604061</td>\n",
       "      <td>2063.0</td>\n",
       "    </tr>\n",
       "    <tr>\n",
       "      <th>505</th>\n",
       "      <td>46</td>\n",
       "      <td>505</td>\n",
       "      <td>43.290833</td>\n",
       "      <td>807.200073</td>\n",
       "      <td>0.000000</td>\n",
       "      <td>46</td>\n",
       "      <td>46</td>\n",
       "      <td>5</td>\n",
       "      <td>0</td>\n",
       "      <td>False</td>\n",
       "      <td>59.517704</td>\n",
       "      <td>2149.0</td>\n",
       "    </tr>\n",
       "    <tr>\n",
       "      <th>506</th>\n",
       "      <td>46</td>\n",
       "      <td>506</td>\n",
       "      <td>46.575802</td>\n",
       "      <td>807.879456</td>\n",
       "      <td>0.000000</td>\n",
       "      <td>46</td>\n",
       "      <td>46</td>\n",
       "      <td>5</td>\n",
       "      <td>0</td>\n",
       "      <td>False</td>\n",
       "      <td>57.788658</td>\n",
       "      <td>2124.0</td>\n",
       "    </tr>\n",
       "    <tr>\n",
       "      <th>507</th>\n",
       "      <td>46</td>\n",
       "      <td>507</td>\n",
       "      <td>47.253445</td>\n",
       "      <td>807.301697</td>\n",
       "      <td>0.000000</td>\n",
       "      <td>46</td>\n",
       "      <td>46</td>\n",
       "      <td>5</td>\n",
       "      <td>0</td>\n",
       "      <td>False</td>\n",
       "      <td>58.550167</td>\n",
       "      <td>2032.0</td>\n",
       "    </tr>\n",
       "    <tr>\n",
       "      <th>508</th>\n",
       "      <td>46</td>\n",
       "      <td>508</td>\n",
       "      <td>47.392139</td>\n",
       "      <td>806.161072</td>\n",
       "      <td>0.000000</td>\n",
       "      <td>46</td>\n",
       "      <td>46</td>\n",
       "      <td>5</td>\n",
       "      <td>0</td>\n",
       "      <td>False</td>\n",
       "      <td>59.286747</td>\n",
       "      <td>2086.0</td>\n",
       "    </tr>\n",
       "    <tr>\n",
       "      <th>509</th>\n",
       "      <td>46</td>\n",
       "      <td>509</td>\n",
       "      <td>46.418652</td>\n",
       "      <td>804.312744</td>\n",
       "      <td>0.000000</td>\n",
       "      <td>46</td>\n",
       "      <td>46</td>\n",
       "      <td>5</td>\n",
       "      <td>0</td>\n",
       "      <td>False</td>\n",
       "      <td>57.796398</td>\n",
       "      <td>1973.0</td>\n",
       "    </tr>\n",
       "    <tr>\n",
       "      <th>510</th>\n",
       "      <td>46</td>\n",
       "      <td>510</td>\n",
       "      <td>48.921429</td>\n",
       "      <td>803.422424</td>\n",
       "      <td>0.000000</td>\n",
       "      <td>46</td>\n",
       "      <td>46</td>\n",
       "      <td>5</td>\n",
       "      <td>0</td>\n",
       "      <td>False</td>\n",
       "      <td>57.420853</td>\n",
       "      <td>1960.0</td>\n",
       "    </tr>\n",
       "    <tr>\n",
       "      <th>511</th>\n",
       "      <td>46</td>\n",
       "      <td>511</td>\n",
       "      <td>48.559631</td>\n",
       "      <td>801.188293</td>\n",
       "      <td>0.000000</td>\n",
       "      <td>46</td>\n",
       "      <td>46</td>\n",
       "      <td>5</td>\n",
       "      <td>0</td>\n",
       "      <td>False</td>\n",
       "      <td>59.815796</td>\n",
       "      <td>2071.0</td>\n",
       "    </tr>\n",
       "    <tr>\n",
       "      <th>512</th>\n",
       "      <td>46</td>\n",
       "      <td>512</td>\n",
       "      <td>48.840630</td>\n",
       "      <td>799.855347</td>\n",
       "      <td>0.000000</td>\n",
       "      <td>46</td>\n",
       "      <td>46</td>\n",
       "      <td>5</td>\n",
       "      <td>0</td>\n",
       "      <td>False</td>\n",
       "      <td>59.836178</td>\n",
       "      <td>2102.0</td>\n",
       "    </tr>\n",
       "    <tr>\n",
       "      <th>513</th>\n",
       "      <td>46</td>\n",
       "      <td>513</td>\n",
       "      <td>55.021427</td>\n",
       "      <td>799.733704</td>\n",
       "      <td>0.000000</td>\n",
       "      <td>46</td>\n",
       "      <td>46</td>\n",
       "      <td>5</td>\n",
       "      <td>0</td>\n",
       "      <td>False</td>\n",
       "      <td>61.582592</td>\n",
       "      <td>2287.0</td>\n",
       "    </tr>\n",
       "    <tr>\n",
       "      <th>514</th>\n",
       "      <td>46</td>\n",
       "      <td>514</td>\n",
       "      <td>50.656986</td>\n",
       "      <td>800.091309</td>\n",
       "      <td>0.000000</td>\n",
       "      <td>46</td>\n",
       "      <td>46</td>\n",
       "      <td>5</td>\n",
       "      <td>0</td>\n",
       "      <td>False</td>\n",
       "      <td>59.046680</td>\n",
       "      <td>2169.0</td>\n",
       "    </tr>\n",
       "    <tr>\n",
       "      <th>515</th>\n",
       "      <td>46</td>\n",
       "      <td>515</td>\n",
       "      <td>49.816795</td>\n",
       "      <td>801.319153</td>\n",
       "      <td>0.000000</td>\n",
       "      <td>46</td>\n",
       "      <td>46</td>\n",
       "      <td>5</td>\n",
       "      <td>0</td>\n",
       "      <td>False</td>\n",
       "      <td>57.992008</td>\n",
       "      <td>2096.0</td>\n",
       "    </tr>\n",
       "    <tr>\n",
       "      <th>516</th>\n",
       "      <td>46</td>\n",
       "      <td>516</td>\n",
       "      <td>49.567318</td>\n",
       "      <td>805.202393</td>\n",
       "      <td>0.000000</td>\n",
       "      <td>46</td>\n",
       "      <td>46</td>\n",
       "      <td>5</td>\n",
       "      <td>0</td>\n",
       "      <td>False</td>\n",
       "      <td>58.408428</td>\n",
       "      <td>2154.0</td>\n",
       "    </tr>\n",
       "    <tr>\n",
       "      <th>517</th>\n",
       "      <td>46</td>\n",
       "      <td>517</td>\n",
       "      <td>46.904213</td>\n",
       "      <td>804.733215</td>\n",
       "      <td>0.000000</td>\n",
       "      <td>46</td>\n",
       "      <td>46</td>\n",
       "      <td>5</td>\n",
       "      <td>0</td>\n",
       "      <td>False</td>\n",
       "      <td>58.643806</td>\n",
       "      <td>2088.0</td>\n",
       "    </tr>\n",
       "    <tr>\n",
       "      <th>518</th>\n",
       "      <td>46</td>\n",
       "      <td>518</td>\n",
       "      <td>48.127373</td>\n",
       "      <td>805.556885</td>\n",
       "      <td>0.000000</td>\n",
       "      <td>46</td>\n",
       "      <td>46</td>\n",
       "      <td>5</td>\n",
       "      <td>0</td>\n",
       "      <td>False</td>\n",
       "      <td>59.316734</td>\n",
       "      <td>2214.0</td>\n",
       "    </tr>\n",
       "    <tr>\n",
       "      <th>519</th>\n",
       "      <td>46</td>\n",
       "      <td>519</td>\n",
       "      <td>49.548759</td>\n",
       "      <td>804.347961</td>\n",
       "      <td>0.000000</td>\n",
       "      <td>46</td>\n",
       "      <td>46</td>\n",
       "      <td>5</td>\n",
       "      <td>0</td>\n",
       "      <td>False</td>\n",
       "      <td>60.087437</td>\n",
       "      <td>2256.0</td>\n",
       "    </tr>\n",
       "    <tr>\n",
       "      <th>520</th>\n",
       "      <td>46</td>\n",
       "      <td>520</td>\n",
       "      <td>50.926884</td>\n",
       "      <td>803.874268</td>\n",
       "      <td>0.000000</td>\n",
       "      <td>46</td>\n",
       "      <td>46</td>\n",
       "      <td>5</td>\n",
       "      <td>0</td>\n",
       "      <td>False</td>\n",
       "      <td>58.568710</td>\n",
       "      <td>2243.0</td>\n",
       "    </tr>\n",
       "    <tr>\n",
       "      <th>521</th>\n",
       "      <td>46</td>\n",
       "      <td>521</td>\n",
       "      <td>50.401455</td>\n",
       "      <td>803.987305</td>\n",
       "      <td>0.000000</td>\n",
       "      <td>46</td>\n",
       "      <td>46</td>\n",
       "      <td>5</td>\n",
       "      <td>0</td>\n",
       "      <td>False</td>\n",
       "      <td>58.799759</td>\n",
       "      <td>2202.0</td>\n",
       "    </tr>\n",
       "    <tr>\n",
       "      <th>522</th>\n",
       "      <td>46</td>\n",
       "      <td>522</td>\n",
       "      <td>44.881054</td>\n",
       "      <td>802.619629</td>\n",
       "      <td>0.000000</td>\n",
       "      <td>46</td>\n",
       "      <td>46</td>\n",
       "      <td>5</td>\n",
       "      <td>0</td>\n",
       "      <td>False</td>\n",
       "      <td>58.182518</td>\n",
       "      <td>2127.0</td>\n",
       "    </tr>\n",
       "    <tr>\n",
       "      <th>523</th>\n",
       "      <td>46</td>\n",
       "      <td>523</td>\n",
       "      <td>52.420937</td>\n",
       "      <td>804.165222</td>\n",
       "      <td>0.000000</td>\n",
       "      <td>46</td>\n",
       "      <td>46</td>\n",
       "      <td>5</td>\n",
       "      <td>0</td>\n",
       "      <td>False</td>\n",
       "      <td>59.605801</td>\n",
       "      <td>2264.0</td>\n",
       "    </tr>\n",
       "    <tr>\n",
       "      <th>524</th>\n",
       "      <td>46</td>\n",
       "      <td>524</td>\n",
       "      <td>45.454792</td>\n",
       "      <td>805.851257</td>\n",
       "      <td>0.000000</td>\n",
       "      <td>46</td>\n",
       "      <td>46</td>\n",
       "      <td>5</td>\n",
       "      <td>0</td>\n",
       "      <td>False</td>\n",
       "      <td>57.861282</td>\n",
       "      <td>2212.0</td>\n",
       "    </tr>\n",
       "    <tr>\n",
       "      <th>525</th>\n",
       "      <td>46</td>\n",
       "      <td>525</td>\n",
       "      <td>44.852131</td>\n",
       "      <td>805.949951</td>\n",
       "      <td>0.000000</td>\n",
       "      <td>46</td>\n",
       "      <td>46</td>\n",
       "      <td>5</td>\n",
       "      <td>0</td>\n",
       "      <td>False</td>\n",
       "      <td>58.599991</td>\n",
       "      <td>2137.0</td>\n",
       "    </tr>\n",
       "    <tr>\n",
       "      <th>526</th>\n",
       "      <td>46</td>\n",
       "      <td>526</td>\n",
       "      <td>43.504528</td>\n",
       "      <td>806.714233</td>\n",
       "      <td>0.000000</td>\n",
       "      <td>46</td>\n",
       "      <td>46</td>\n",
       "      <td>5</td>\n",
       "      <td>0</td>\n",
       "      <td>False</td>\n",
       "      <td>59.064560</td>\n",
       "      <td>2208.0</td>\n",
       "    </tr>\n",
       "    <tr>\n",
       "      <th>527</th>\n",
       "      <td>46</td>\n",
       "      <td>527</td>\n",
       "      <td>47.798981</td>\n",
       "      <td>806.007629</td>\n",
       "      <td>0.000000</td>\n",
       "      <td>46</td>\n",
       "      <td>46</td>\n",
       "      <td>5</td>\n",
       "      <td>0</td>\n",
       "      <td>False</td>\n",
       "      <td>61.265335</td>\n",
       "      <td>2358.0</td>\n",
       "    </tr>\n",
       "    <tr>\n",
       "      <th>528</th>\n",
       "      <td>46</td>\n",
       "      <td>528</td>\n",
       "      <td>40.704617</td>\n",
       "      <td>802.856140</td>\n",
       "      <td>0.000000</td>\n",
       "      <td>46</td>\n",
       "      <td>46</td>\n",
       "      <td>5</td>\n",
       "      <td>0</td>\n",
       "      <td>False</td>\n",
       "      <td>61.035572</td>\n",
       "      <td>2231.0</td>\n",
       "    </tr>\n",
       "    <tr>\n",
       "      <th>529</th>\n",
       "      <td>46</td>\n",
       "      <td>529</td>\n",
       "      <td>48.910553</td>\n",
       "      <td>802.788940</td>\n",
       "      <td>0.000000</td>\n",
       "      <td>46</td>\n",
       "      <td>46</td>\n",
       "      <td>5</td>\n",
       "      <td>0</td>\n",
       "      <td>False</td>\n",
       "      <td>63.904472</td>\n",
       "      <td>2426.0</td>\n",
       "    </tr>\n",
       "    <tr>\n",
       "      <th>530</th>\n",
       "      <td>46</td>\n",
       "      <td>530</td>\n",
       "      <td>46.042900</td>\n",
       "      <td>802.685547</td>\n",
       "      <td>0.000000</td>\n",
       "      <td>46</td>\n",
       "      <td>46</td>\n",
       "      <td>5</td>\n",
       "      <td>0</td>\n",
       "      <td>False</td>\n",
       "      <td>64.191292</td>\n",
       "      <td>2331.0</td>\n",
       "    </tr>\n",
       "    <tr>\n",
       "      <th>531</th>\n",
       "      <td>46</td>\n",
       "      <td>531</td>\n",
       "      <td>46.276722</td>\n",
       "      <td>801.749023</td>\n",
       "      <td>0.000000</td>\n",
       "      <td>46</td>\n",
       "      <td>46</td>\n",
       "      <td>5</td>\n",
       "      <td>0</td>\n",
       "      <td>False</td>\n",
       "      <td>63.270477</td>\n",
       "      <td>2367.0</td>\n",
       "    </tr>\n",
       "    <tr>\n",
       "      <th>532</th>\n",
       "      <td>46</td>\n",
       "      <td>532</td>\n",
       "      <td>43.654064</td>\n",
       "      <td>802.687073</td>\n",
       "      <td>0.000000</td>\n",
       "      <td>46</td>\n",
       "      <td>46</td>\n",
       "      <td>5</td>\n",
       "      <td>0</td>\n",
       "      <td>False</td>\n",
       "      <td>62.543560</td>\n",
       "      <td>2301.0</td>\n",
       "    </tr>\n",
       "    <tr>\n",
       "      <th>533</th>\n",
       "      <td>46</td>\n",
       "      <td>533</td>\n",
       "      <td>47.098984</td>\n",
       "      <td>803.711060</td>\n",
       "      <td>0.000000</td>\n",
       "      <td>46</td>\n",
       "      <td>46</td>\n",
       "      <td>5</td>\n",
       "      <td>0</td>\n",
       "      <td>False</td>\n",
       "      <td>61.174652</td>\n",
       "      <td>2364.0</td>\n",
       "    </tr>\n",
       "    <tr>\n",
       "      <th>534</th>\n",
       "      <td>46</td>\n",
       "      <td>534</td>\n",
       "      <td>48.649853</td>\n",
       "      <td>805.208069</td>\n",
       "      <td>0.000000</td>\n",
       "      <td>46</td>\n",
       "      <td>46</td>\n",
       "      <td>5</td>\n",
       "      <td>0</td>\n",
       "      <td>False</td>\n",
       "      <td>63.368969</td>\n",
       "      <td>2379.0</td>\n",
       "    </tr>\n",
       "    <tr>\n",
       "      <th>535</th>\n",
       "      <td>46</td>\n",
       "      <td>535</td>\n",
       "      <td>43.975033</td>\n",
       "      <td>803.259460</td>\n",
       "      <td>0.000000</td>\n",
       "      <td>46</td>\n",
       "      <td>46</td>\n",
       "      <td>5</td>\n",
       "      <td>0</td>\n",
       "      <td>False</td>\n",
       "      <td>60.963322</td>\n",
       "      <td>2243.0</td>\n",
       "    </tr>\n",
       "    <tr>\n",
       "      <th>536</th>\n",
       "      <td>46</td>\n",
       "      <td>536</td>\n",
       "      <td>47.153881</td>\n",
       "      <td>803.859924</td>\n",
       "      <td>0.000000</td>\n",
       "      <td>46</td>\n",
       "      <td>46</td>\n",
       "      <td>5</td>\n",
       "      <td>0</td>\n",
       "      <td>False</td>\n",
       "      <td>60.986454</td>\n",
       "      <td>2320.0</td>\n",
       "    </tr>\n",
       "    <tr>\n",
       "      <th>537</th>\n",
       "      <td>46</td>\n",
       "      <td>537</td>\n",
       "      <td>46.064945</td>\n",
       "      <td>803.087341</td>\n",
       "      <td>0.000000</td>\n",
       "      <td>46</td>\n",
       "      <td>46</td>\n",
       "      <td>5</td>\n",
       "      <td>0</td>\n",
       "      <td>False</td>\n",
       "      <td>62.496326</td>\n",
       "      <td>2325.0</td>\n",
       "    </tr>\n",
       "    <tr>\n",
       "      <th>538</th>\n",
       "      <td>46</td>\n",
       "      <td>538</td>\n",
       "      <td>48.908737</td>\n",
       "      <td>804.265564</td>\n",
       "      <td>0.000000</td>\n",
       "      <td>46</td>\n",
       "      <td>46</td>\n",
       "      <td>5</td>\n",
       "      <td>0</td>\n",
       "      <td>False</td>\n",
       "      <td>60.386520</td>\n",
       "      <td>2312.0</td>\n",
       "    </tr>\n",
       "    <tr>\n",
       "      <th>539</th>\n",
       "      <td>46</td>\n",
       "      <td>539</td>\n",
       "      <td>46.196308</td>\n",
       "      <td>802.283630</td>\n",
       "      <td>0.000000</td>\n",
       "      <td>46</td>\n",
       "      <td>46</td>\n",
       "      <td>5</td>\n",
       "      <td>0</td>\n",
       "      <td>False</td>\n",
       "      <td>60.594303</td>\n",
       "      <td>2221.0</td>\n",
       "    </tr>\n",
       "    <tr>\n",
       "      <th>540</th>\n",
       "      <td>46</td>\n",
       "      <td>540</td>\n",
       "      <td>49.186699</td>\n",
       "      <td>803.442383</td>\n",
       "      <td>0.000000</td>\n",
       "      <td>46</td>\n",
       "      <td>46</td>\n",
       "      <td>5</td>\n",
       "      <td>0</td>\n",
       "      <td>False</td>\n",
       "      <td>62.893356</td>\n",
       "      <td>2421.0</td>\n",
       "    </tr>\n",
       "    <tr>\n",
       "      <th>541</th>\n",
       "      <td>46</td>\n",
       "      <td>541</td>\n",
       "      <td>48.642975</td>\n",
       "      <td>803.345947</td>\n",
       "      <td>0.000000</td>\n",
       "      <td>46</td>\n",
       "      <td>46</td>\n",
       "      <td>5</td>\n",
       "      <td>0</td>\n",
       "      <td>False</td>\n",
       "      <td>62.806530</td>\n",
       "      <td>2434.0</td>\n",
       "    </tr>\n",
       "    <tr>\n",
       "      <th>542</th>\n",
       "      <td>46</td>\n",
       "      <td>542</td>\n",
       "      <td>46.829617</td>\n",
       "      <td>802.369751</td>\n",
       "      <td>0.000000</td>\n",
       "      <td>46</td>\n",
       "      <td>46</td>\n",
       "      <td>5</td>\n",
       "      <td>0</td>\n",
       "      <td>False</td>\n",
       "      <td>60.881958</td>\n",
       "      <td>2242.0</td>\n",
       "    </tr>\n",
       "    <tr>\n",
       "      <th>543</th>\n",
       "      <td>46</td>\n",
       "      <td>543</td>\n",
       "      <td>46.076717</td>\n",
       "      <td>803.899963</td>\n",
       "      <td>0.000000</td>\n",
       "      <td>46</td>\n",
       "      <td>46</td>\n",
       "      <td>5</td>\n",
       "      <td>0</td>\n",
       "      <td>False</td>\n",
       "      <td>59.822536</td>\n",
       "      <td>2229.0</td>\n",
       "    </tr>\n",
       "    <tr>\n",
       "      <th>544</th>\n",
       "      <td>46</td>\n",
       "      <td>544</td>\n",
       "      <td>50.514656</td>\n",
       "      <td>804.008789</td>\n",
       "      <td>0.000000</td>\n",
       "      <td>46</td>\n",
       "      <td>46</td>\n",
       "      <td>5</td>\n",
       "      <td>0</td>\n",
       "      <td>False</td>\n",
       "      <td>61.482311</td>\n",
       "      <td>2388.0</td>\n",
       "    </tr>\n",
       "    <tr>\n",
       "      <th>545</th>\n",
       "      <td>46</td>\n",
       "      <td>545</td>\n",
       "      <td>48.413750</td>\n",
       "      <td>803.187439</td>\n",
       "      <td>0.000000</td>\n",
       "      <td>46</td>\n",
       "      <td>46</td>\n",
       "      <td>5</td>\n",
       "      <td>0</td>\n",
       "      <td>False</td>\n",
       "      <td>61.773479</td>\n",
       "      <td>2342.0</td>\n",
       "    </tr>\n",
       "    <tr>\n",
       "      <th>546</th>\n",
       "      <td>46</td>\n",
       "      <td>546</td>\n",
       "      <td>51.784363</td>\n",
       "      <td>805.155579</td>\n",
       "      <td>0.000000</td>\n",
       "      <td>46</td>\n",
       "      <td>46</td>\n",
       "      <td>5</td>\n",
       "      <td>0</td>\n",
       "      <td>False</td>\n",
       "      <td>64.126190</td>\n",
       "      <td>2430.0</td>\n",
       "    </tr>\n",
       "    <tr>\n",
       "      <th>547</th>\n",
       "      <td>46</td>\n",
       "      <td>547</td>\n",
       "      <td>42.255112</td>\n",
       "      <td>803.560852</td>\n",
       "      <td>0.000000</td>\n",
       "      <td>46</td>\n",
       "      <td>46</td>\n",
       "      <td>5</td>\n",
       "      <td>0</td>\n",
       "      <td>False</td>\n",
       "      <td>59.402470</td>\n",
       "      <td>2152.0</td>\n",
       "    </tr>\n",
       "    <tr>\n",
       "      <th>548</th>\n",
       "      <td>46</td>\n",
       "      <td>548</td>\n",
       "      <td>42.156914</td>\n",
       "      <td>804.873413</td>\n",
       "      <td>0.000000</td>\n",
       "      <td>46</td>\n",
       "      <td>46</td>\n",
       "      <td>5</td>\n",
       "      <td>0</td>\n",
       "      <td>False</td>\n",
       "      <td>62.221764</td>\n",
       "      <td>2307.0</td>\n",
       "    </tr>\n",
       "    <tr>\n",
       "      <th>549</th>\n",
       "      <td>46</td>\n",
       "      <td>549</td>\n",
       "      <td>44.478222</td>\n",
       "      <td>805.965942</td>\n",
       "      <td>0.000000</td>\n",
       "      <td>46</td>\n",
       "      <td>46</td>\n",
       "      <td>5</td>\n",
       "      <td>0</td>\n",
       "      <td>False</td>\n",
       "      <td>61.444416</td>\n",
       "      <td>2204.0</td>\n",
       "    </tr>\n",
       "    <tr>\n",
       "      <th>550</th>\n",
       "      <td>46</td>\n",
       "      <td>550</td>\n",
       "      <td>44.864368</td>\n",
       "      <td>805.527283</td>\n",
       "      <td>0.000000</td>\n",
       "      <td>46</td>\n",
       "      <td>46</td>\n",
       "      <td>5</td>\n",
       "      <td>0</td>\n",
       "      <td>False</td>\n",
       "      <td>60.643246</td>\n",
       "      <td>2234.0</td>\n",
       "    </tr>\n",
       "    <tr>\n",
       "      <th>551</th>\n",
       "      <td>46</td>\n",
       "      <td>551</td>\n",
       "      <td>47.278221</td>\n",
       "      <td>805.510193</td>\n",
       "      <td>0.000000</td>\n",
       "      <td>46</td>\n",
       "      <td>46</td>\n",
       "      <td>5</td>\n",
       "      <td>0</td>\n",
       "      <td>False</td>\n",
       "      <td>60.135880</td>\n",
       "      <td>2250.0</td>\n",
       "    </tr>\n",
       "    <tr>\n",
       "      <th>552</th>\n",
       "      <td>46</td>\n",
       "      <td>552</td>\n",
       "      <td>43.484653</td>\n",
       "      <td>805.683960</td>\n",
       "      <td>0.000000</td>\n",
       "      <td>46</td>\n",
       "      <td>46</td>\n",
       "      <td>5</td>\n",
       "      <td>0</td>\n",
       "      <td>False</td>\n",
       "      <td>61.451347</td>\n",
       "      <td>2313.0</td>\n",
       "    </tr>\n",
       "    <tr>\n",
       "      <th>553</th>\n",
       "      <td>46</td>\n",
       "      <td>553</td>\n",
       "      <td>41.473614</td>\n",
       "      <td>806.489258</td>\n",
       "      <td>0.000000</td>\n",
       "      <td>46</td>\n",
       "      <td>46</td>\n",
       "      <td>5</td>\n",
       "      <td>0</td>\n",
       "      <td>False</td>\n",
       "      <td>62.279049</td>\n",
       "      <td>2236.0</td>\n",
       "    </tr>\n",
       "    <tr>\n",
       "      <th>554</th>\n",
       "      <td>46</td>\n",
       "      <td>554</td>\n",
       "      <td>46.450169</td>\n",
       "      <td>806.597168</td>\n",
       "      <td>0.000000</td>\n",
       "      <td>46</td>\n",
       "      <td>46</td>\n",
       "      <td>5</td>\n",
       "      <td>0</td>\n",
       "      <td>False</td>\n",
       "      <td>62.983261</td>\n",
       "      <td>2388.0</td>\n",
       "    </tr>\n",
       "    <tr>\n",
       "      <th>555</th>\n",
       "      <td>46</td>\n",
       "      <td>555</td>\n",
       "      <td>47.212910</td>\n",
       "      <td>807.658813</td>\n",
       "      <td>0.000000</td>\n",
       "      <td>46</td>\n",
       "      <td>46</td>\n",
       "      <td>5</td>\n",
       "      <td>0</td>\n",
       "      <td>False</td>\n",
       "      <td>59.561440</td>\n",
       "      <td>2339.0</td>\n",
       "    </tr>\n",
       "    <tr>\n",
       "      <th>556</th>\n",
       "      <td>46</td>\n",
       "      <td>556</td>\n",
       "      <td>50.800396</td>\n",
       "      <td>806.821838</td>\n",
       "      <td>0.000000</td>\n",
       "      <td>46</td>\n",
       "      <td>46</td>\n",
       "      <td>5</td>\n",
       "      <td>0</td>\n",
       "      <td>False</td>\n",
       "      <td>62.115913</td>\n",
       "      <td>2520.0</td>\n",
       "    </tr>\n",
       "    <tr>\n",
       "      <th>557</th>\n",
       "      <td>46</td>\n",
       "      <td>557</td>\n",
       "      <td>38.876953</td>\n",
       "      <td>805.377197</td>\n",
       "      <td>0.000000</td>\n",
       "      <td>46</td>\n",
       "      <td>46</td>\n",
       "      <td>5</td>\n",
       "      <td>0</td>\n",
       "      <td>False</td>\n",
       "      <td>58.374504</td>\n",
       "      <td>2113.0</td>\n",
       "    </tr>\n",
       "    <tr>\n",
       "      <th>558</th>\n",
       "      <td>46</td>\n",
       "      <td>558</td>\n",
       "      <td>46.569633</td>\n",
       "      <td>807.466309</td>\n",
       "      <td>0.000000</td>\n",
       "      <td>46</td>\n",
       "      <td>46</td>\n",
       "      <td>5</td>\n",
       "      <td>0</td>\n",
       "      <td>False</td>\n",
       "      <td>57.867748</td>\n",
       "      <td>2226.0</td>\n",
       "    </tr>\n",
       "    <tr>\n",
       "      <th>559</th>\n",
       "      <td>46</td>\n",
       "      <td>559</td>\n",
       "      <td>53.685947</td>\n",
       "      <td>809.446045</td>\n",
       "      <td>0.064694</td>\n",
       "      <td>46</td>\n",
       "      <td>46</td>\n",
       "      <td>5</td>\n",
       "      <td>0</td>\n",
       "      <td>True</td>\n",
       "      <td>NaN</td>\n",
       "      <td>NaN</td>\n",
       "    </tr>\n",
       "    <tr>\n",
       "      <th>560</th>\n",
       "      <td>46</td>\n",
       "      <td>560</td>\n",
       "      <td>46.574310</td>\n",
       "      <td>806.262512</td>\n",
       "      <td>0.000000</td>\n",
       "      <td>46</td>\n",
       "      <td>46</td>\n",
       "      <td>5</td>\n",
       "      <td>0</td>\n",
       "      <td>False</td>\n",
       "      <td>57.720871</td>\n",
       "      <td>2133.0</td>\n",
       "    </tr>\n",
       "    <tr>\n",
       "      <th>561</th>\n",
       "      <td>46</td>\n",
       "      <td>561</td>\n",
       "      <td>50.555756</td>\n",
       "      <td>806.593201</td>\n",
       "      <td>0.000000</td>\n",
       "      <td>46</td>\n",
       "      <td>46</td>\n",
       "      <td>5</td>\n",
       "      <td>0</td>\n",
       "      <td>False</td>\n",
       "      <td>58.297596</td>\n",
       "      <td>2242.0</td>\n",
       "    </tr>\n",
       "    <tr>\n",
       "      <th>562</th>\n",
       "      <td>46</td>\n",
       "      <td>562</td>\n",
       "      <td>51.043186</td>\n",
       "      <td>806.787659</td>\n",
       "      <td>0.000000</td>\n",
       "      <td>46</td>\n",
       "      <td>46</td>\n",
       "      <td>5</td>\n",
       "      <td>0</td>\n",
       "      <td>False</td>\n",
       "      <td>57.744717</td>\n",
       "      <td>2223.0</td>\n",
       "    </tr>\n",
       "    <tr>\n",
       "      <th>563</th>\n",
       "      <td>46</td>\n",
       "      <td>563</td>\n",
       "      <td>52.465237</td>\n",
       "      <td>806.838074</td>\n",
       "      <td>-0.070164</td>\n",
       "      <td>46</td>\n",
       "      <td>46</td>\n",
       "      <td>5</td>\n",
       "      <td>0</td>\n",
       "      <td>True</td>\n",
       "      <td>NaN</td>\n",
       "      <td>NaN</td>\n",
       "    </tr>\n",
       "    <tr>\n",
       "      <th>564</th>\n",
       "      <td>46</td>\n",
       "      <td>564</td>\n",
       "      <td>45.424675</td>\n",
       "      <td>807.947327</td>\n",
       "      <td>0.000000</td>\n",
       "      <td>46</td>\n",
       "      <td>46</td>\n",
       "      <td>5</td>\n",
       "      <td>0</td>\n",
       "      <td>False</td>\n",
       "      <td>55.797802</td>\n",
       "      <td>2164.0</td>\n",
       "    </tr>\n",
       "    <tr>\n",
       "      <th>565</th>\n",
       "      <td>46</td>\n",
       "      <td>565</td>\n",
       "      <td>47.136799</td>\n",
       "      <td>807.508423</td>\n",
       "      <td>0.000000</td>\n",
       "      <td>46</td>\n",
       "      <td>46</td>\n",
       "      <td>5</td>\n",
       "      <td>0</td>\n",
       "      <td>False</td>\n",
       "      <td>57.646301</td>\n",
       "      <td>2193.0</td>\n",
       "    </tr>\n",
       "    <tr>\n",
       "      <th>566</th>\n",
       "      <td>46</td>\n",
       "      <td>566</td>\n",
       "      <td>51.595764</td>\n",
       "      <td>806.980103</td>\n",
       "      <td>0.000000</td>\n",
       "      <td>46</td>\n",
       "      <td>46</td>\n",
       "      <td>5</td>\n",
       "      <td>0</td>\n",
       "      <td>False</td>\n",
       "      <td>57.189056</td>\n",
       "      <td>2313.0</td>\n",
       "    </tr>\n",
       "    <tr>\n",
       "      <th>567</th>\n",
       "      <td>46</td>\n",
       "      <td>567</td>\n",
       "      <td>47.913204</td>\n",
       "      <td>807.562805</td>\n",
       "      <td>0.000000</td>\n",
       "      <td>46</td>\n",
       "      <td>46</td>\n",
       "      <td>5</td>\n",
       "      <td>0</td>\n",
       "      <td>False</td>\n",
       "      <td>55.651943</td>\n",
       "      <td>2189.0</td>\n",
       "    </tr>\n",
       "    <tr>\n",
       "      <th>568</th>\n",
       "      <td>46</td>\n",
       "      <td>568</td>\n",
       "      <td>45.150368</td>\n",
       "      <td>806.482422</td>\n",
       "      <td>0.000000</td>\n",
       "      <td>46</td>\n",
       "      <td>46</td>\n",
       "      <td>5</td>\n",
       "      <td>0</td>\n",
       "      <td>False</td>\n",
       "      <td>57.776836</td>\n",
       "      <td>2301.0</td>\n",
       "    </tr>\n",
       "    <tr>\n",
       "      <th>569</th>\n",
       "      <td>46</td>\n",
       "      <td>569</td>\n",
       "      <td>47.784389</td>\n",
       "      <td>808.416992</td>\n",
       "      <td>0.000000</td>\n",
       "      <td>46</td>\n",
       "      <td>46</td>\n",
       "      <td>5</td>\n",
       "      <td>0</td>\n",
       "      <td>False</td>\n",
       "      <td>57.283470</td>\n",
       "      <td>2319.0</td>\n",
       "    </tr>\n",
       "    <tr>\n",
       "      <th>570</th>\n",
       "      <td>46</td>\n",
       "      <td>570</td>\n",
       "      <td>45.469212</td>\n",
       "      <td>807.984375</td>\n",
       "      <td>0.000000</td>\n",
       "      <td>46</td>\n",
       "      <td>46</td>\n",
       "      <td>5</td>\n",
       "      <td>0</td>\n",
       "      <td>False</td>\n",
       "      <td>59.676693</td>\n",
       "      <td>2436.0</td>\n",
       "    </tr>\n",
       "    <tr>\n",
       "      <th>571</th>\n",
       "      <td>46</td>\n",
       "      <td>571</td>\n",
       "      <td>42.157001</td>\n",
       "      <td>807.755188</td>\n",
       "      <td>0.000000</td>\n",
       "      <td>46</td>\n",
       "      <td>46</td>\n",
       "      <td>5</td>\n",
       "      <td>0</td>\n",
       "      <td>False</td>\n",
       "      <td>59.564396</td>\n",
       "      <td>2414.0</td>\n",
       "    </tr>\n",
       "    <tr>\n",
       "      <th>572</th>\n",
       "      <td>46</td>\n",
       "      <td>572</td>\n",
       "      <td>49.906513</td>\n",
       "      <td>808.751709</td>\n",
       "      <td>0.000000</td>\n",
       "      <td>46</td>\n",
       "      <td>46</td>\n",
       "      <td>5</td>\n",
       "      <td>0</td>\n",
       "      <td>False</td>\n",
       "      <td>61.138653</td>\n",
       "      <td>2610.0</td>\n",
       "    </tr>\n",
       "    <tr>\n",
       "      <th>573</th>\n",
       "      <td>46</td>\n",
       "      <td>573</td>\n",
       "      <td>47.291870</td>\n",
       "      <td>809.111267</td>\n",
       "      <td>0.000000</td>\n",
       "      <td>46</td>\n",
       "      <td>46</td>\n",
       "      <td>5</td>\n",
       "      <td>0</td>\n",
       "      <td>False</td>\n",
       "      <td>62.416451</td>\n",
       "      <td>2436.0</td>\n",
       "    </tr>\n",
       "    <tr>\n",
       "      <th>574</th>\n",
       "      <td>46</td>\n",
       "      <td>574</td>\n",
       "      <td>40.269695</td>\n",
       "      <td>809.627258</td>\n",
       "      <td>0.000000</td>\n",
       "      <td>46</td>\n",
       "      <td>46</td>\n",
       "      <td>5</td>\n",
       "      <td>0</td>\n",
       "      <td>False</td>\n",
       "      <td>61.314537</td>\n",
       "      <td>2310.0</td>\n",
       "    </tr>\n",
       "    <tr>\n",
       "      <th>575</th>\n",
       "      <td>46</td>\n",
       "      <td>575</td>\n",
       "      <td>44.731529</td>\n",
       "      <td>809.207031</td>\n",
       "      <td>0.000000</td>\n",
       "      <td>46</td>\n",
       "      <td>46</td>\n",
       "      <td>5</td>\n",
       "      <td>0</td>\n",
       "      <td>False</td>\n",
       "      <td>58.630455</td>\n",
       "      <td>2328.0</td>\n",
       "    </tr>\n",
       "    <tr>\n",
       "      <th>576</th>\n",
       "      <td>46</td>\n",
       "      <td>576</td>\n",
       "      <td>44.255783</td>\n",
       "      <td>810.161926</td>\n",
       "      <td>0.000000</td>\n",
       "      <td>46</td>\n",
       "      <td>46</td>\n",
       "      <td>5</td>\n",
       "      <td>0</td>\n",
       "      <td>False</td>\n",
       "      <td>59.023693</td>\n",
       "      <td>2334.0</td>\n",
       "    </tr>\n",
       "    <tr>\n",
       "      <th>577</th>\n",
       "      <td>46</td>\n",
       "      <td>577</td>\n",
       "      <td>47.016987</td>\n",
       "      <td>809.781738</td>\n",
       "      <td>0.000000</td>\n",
       "      <td>46</td>\n",
       "      <td>46</td>\n",
       "      <td>5</td>\n",
       "      <td>0</td>\n",
       "      <td>False</td>\n",
       "      <td>60.122215</td>\n",
       "      <td>2355.0</td>\n",
       "    </tr>\n",
       "    <tr>\n",
       "      <th>578</th>\n",
       "      <td>46</td>\n",
       "      <td>578</td>\n",
       "      <td>45.646557</td>\n",
       "      <td>808.434998</td>\n",
       "      <td>0.000000</td>\n",
       "      <td>46</td>\n",
       "      <td>46</td>\n",
       "      <td>5</td>\n",
       "      <td>0</td>\n",
       "      <td>False</td>\n",
       "      <td>61.496674</td>\n",
       "      <td>2453.0</td>\n",
       "    </tr>\n",
       "    <tr>\n",
       "      <th>579</th>\n",
       "      <td>46</td>\n",
       "      <td>579</td>\n",
       "      <td>41.919079</td>\n",
       "      <td>809.692566</td>\n",
       "      <td>0.000000</td>\n",
       "      <td>46</td>\n",
       "      <td>46</td>\n",
       "      <td>5</td>\n",
       "      <td>0</td>\n",
       "      <td>False</td>\n",
       "      <td>56.280186</td>\n",
       "      <td>2212.0</td>\n",
       "    </tr>\n",
       "    <tr>\n",
       "      <th>580</th>\n",
       "      <td>46</td>\n",
       "      <td>580</td>\n",
       "      <td>48.529514</td>\n",
       "      <td>809.988770</td>\n",
       "      <td>0.000000</td>\n",
       "      <td>46</td>\n",
       "      <td>46</td>\n",
       "      <td>5</td>\n",
       "      <td>0</td>\n",
       "      <td>False</td>\n",
       "      <td>59.033031</td>\n",
       "      <td>2321.0</td>\n",
       "    </tr>\n",
       "    <tr>\n",
       "      <th>581</th>\n",
       "      <td>46</td>\n",
       "      <td>581</td>\n",
       "      <td>45.640945</td>\n",
       "      <td>808.278320</td>\n",
       "      <td>0.000000</td>\n",
       "      <td>46</td>\n",
       "      <td>46</td>\n",
       "      <td>5</td>\n",
       "      <td>0</td>\n",
       "      <td>False</td>\n",
       "      <td>59.053410</td>\n",
       "      <td>2242.0</td>\n",
       "    </tr>\n",
       "    <tr>\n",
       "      <th>582</th>\n",
       "      <td>46</td>\n",
       "      <td>582</td>\n",
       "      <td>50.715088</td>\n",
       "      <td>809.173767</td>\n",
       "      <td>0.000000</td>\n",
       "      <td>46</td>\n",
       "      <td>46</td>\n",
       "      <td>5</td>\n",
       "      <td>0</td>\n",
       "      <td>False</td>\n",
       "      <td>59.343754</td>\n",
       "      <td>2492.0</td>\n",
       "    </tr>\n",
       "    <tr>\n",
       "      <th>583</th>\n",
       "      <td>46</td>\n",
       "      <td>583</td>\n",
       "      <td>47.630310</td>\n",
       "      <td>807.882751</td>\n",
       "      <td>0.000000</td>\n",
       "      <td>46</td>\n",
       "      <td>46</td>\n",
       "      <td>5</td>\n",
       "      <td>0</td>\n",
       "      <td>False</td>\n",
       "      <td>60.529644</td>\n",
       "      <td>2448.0</td>\n",
       "    </tr>\n",
       "    <tr>\n",
       "      <th>584</th>\n",
       "      <td>46</td>\n",
       "      <td>584</td>\n",
       "      <td>44.261574</td>\n",
       "      <td>805.997803</td>\n",
       "      <td>0.000000</td>\n",
       "      <td>46</td>\n",
       "      <td>46</td>\n",
       "      <td>5</td>\n",
       "      <td>0</td>\n",
       "      <td>False</td>\n",
       "      <td>60.131699</td>\n",
       "      <td>2290.0</td>\n",
       "    </tr>\n",
       "    <tr>\n",
       "      <th>585</th>\n",
       "      <td>46</td>\n",
       "      <td>585</td>\n",
       "      <td>49.925655</td>\n",
       "      <td>804.981079</td>\n",
       "      <td>0.000000</td>\n",
       "      <td>46</td>\n",
       "      <td>46</td>\n",
       "      <td>5</td>\n",
       "      <td>0</td>\n",
       "      <td>False</td>\n",
       "      <td>60.602158</td>\n",
       "      <td>2327.0</td>\n",
       "    </tr>\n",
       "    <tr>\n",
       "      <th>586</th>\n",
       "      <td>46</td>\n",
       "      <td>586</td>\n",
       "      <td>51.467274</td>\n",
       "      <td>805.942810</td>\n",
       "      <td>0.000000</td>\n",
       "      <td>46</td>\n",
       "      <td>46</td>\n",
       "      <td>5</td>\n",
       "      <td>0</td>\n",
       "      <td>False</td>\n",
       "      <td>60.718449</td>\n",
       "      <td>2307.0</td>\n",
       "    </tr>\n",
       "    <tr>\n",
       "      <th>587</th>\n",
       "      <td>46</td>\n",
       "      <td>587</td>\n",
       "      <td>45.733532</td>\n",
       "      <td>804.842896</td>\n",
       "      <td>0.000000</td>\n",
       "      <td>46</td>\n",
       "      <td>46</td>\n",
       "      <td>5</td>\n",
       "      <td>0</td>\n",
       "      <td>False</td>\n",
       "      <td>60.034359</td>\n",
       "      <td>2368.0</td>\n",
       "    </tr>\n",
       "    <tr>\n",
       "      <th>588</th>\n",
       "      <td>46</td>\n",
       "      <td>588</td>\n",
       "      <td>46.534821</td>\n",
       "      <td>803.532532</td>\n",
       "      <td>0.000000</td>\n",
       "      <td>46</td>\n",
       "      <td>46</td>\n",
       "      <td>5</td>\n",
       "      <td>0</td>\n",
       "      <td>False</td>\n",
       "      <td>58.300362</td>\n",
       "      <td>2197.0</td>\n",
       "    </tr>\n",
       "    <tr>\n",
       "      <th>589</th>\n",
       "      <td>46</td>\n",
       "      <td>589</td>\n",
       "      <td>50.246384</td>\n",
       "      <td>806.954956</td>\n",
       "      <td>0.000000</td>\n",
       "      <td>46</td>\n",
       "      <td>46</td>\n",
       "      <td>5</td>\n",
       "      <td>0</td>\n",
       "      <td>False</td>\n",
       "      <td>60.823246</td>\n",
       "      <td>2419.0</td>\n",
       "    </tr>\n",
       "    <tr>\n",
       "      <th>590</th>\n",
       "      <td>46</td>\n",
       "      <td>590</td>\n",
       "      <td>43.806923</td>\n",
       "      <td>805.428528</td>\n",
       "      <td>0.000000</td>\n",
       "      <td>46</td>\n",
       "      <td>46</td>\n",
       "      <td>5</td>\n",
       "      <td>0</td>\n",
       "      <td>False</td>\n",
       "      <td>59.868149</td>\n",
       "      <td>2196.0</td>\n",
       "    </tr>\n",
       "    <tr>\n",
       "      <th>591</th>\n",
       "      <td>46</td>\n",
       "      <td>591</td>\n",
       "      <td>50.021358</td>\n",
       "      <td>807.261108</td>\n",
       "      <td>0.000000</td>\n",
       "      <td>46</td>\n",
       "      <td>46</td>\n",
       "      <td>5</td>\n",
       "      <td>0</td>\n",
       "      <td>False</td>\n",
       "      <td>57.587959</td>\n",
       "      <td>2294.0</td>\n",
       "    </tr>\n",
       "    <tr>\n",
       "      <th>592</th>\n",
       "      <td>46</td>\n",
       "      <td>592</td>\n",
       "      <td>50.779591</td>\n",
       "      <td>805.006531</td>\n",
       "      <td>0.000000</td>\n",
       "      <td>46</td>\n",
       "      <td>46</td>\n",
       "      <td>5</td>\n",
       "      <td>0</td>\n",
       "      <td>False</td>\n",
       "      <td>59.747356</td>\n",
       "      <td>2450.0</td>\n",
       "    </tr>\n",
       "    <tr>\n",
       "      <th>593</th>\n",
       "      <td>46</td>\n",
       "      <td>593</td>\n",
       "      <td>47.854584</td>\n",
       "      <td>805.658936</td>\n",
       "      <td>0.000000</td>\n",
       "      <td>46</td>\n",
       "      <td>46</td>\n",
       "      <td>5</td>\n",
       "      <td>0</td>\n",
       "      <td>False</td>\n",
       "      <td>58.678780</td>\n",
       "      <td>2290.0</td>\n",
       "    </tr>\n",
       "    <tr>\n",
       "      <th>594</th>\n",
       "      <td>46</td>\n",
       "      <td>594</td>\n",
       "      <td>41.994457</td>\n",
       "      <td>805.022156</td>\n",
       "      <td>0.000000</td>\n",
       "      <td>46</td>\n",
       "      <td>46</td>\n",
       "      <td>5</td>\n",
       "      <td>0</td>\n",
       "      <td>False</td>\n",
       "      <td>58.078777</td>\n",
       "      <td>2165.0</td>\n",
       "    </tr>\n",
       "    <tr>\n",
       "      <th>595</th>\n",
       "      <td>46</td>\n",
       "      <td>595</td>\n",
       "      <td>51.997902</td>\n",
       "      <td>804.612854</td>\n",
       "      <td>0.000000</td>\n",
       "      <td>46</td>\n",
       "      <td>46</td>\n",
       "      <td>5</td>\n",
       "      <td>0</td>\n",
       "      <td>False</td>\n",
       "      <td>60.567131</td>\n",
       "      <td>2384.0</td>\n",
       "    </tr>\n",
       "    <tr>\n",
       "      <th>596</th>\n",
       "      <td>46</td>\n",
       "      <td>596</td>\n",
       "      <td>47.336235</td>\n",
       "      <td>806.557190</td>\n",
       "      <td>0.000000</td>\n",
       "      <td>46</td>\n",
       "      <td>46</td>\n",
       "      <td>5</td>\n",
       "      <td>0</td>\n",
       "      <td>False</td>\n",
       "      <td>59.256760</td>\n",
       "      <td>2299.0</td>\n",
       "    </tr>\n",
       "    <tr>\n",
       "      <th>597</th>\n",
       "      <td>46</td>\n",
       "      <td>597</td>\n",
       "      <td>49.875000</td>\n",
       "      <td>805.308655</td>\n",
       "      <td>0.000000</td>\n",
       "      <td>46</td>\n",
       "      <td>46</td>\n",
       "      <td>5</td>\n",
       "      <td>0</td>\n",
       "      <td>False</td>\n",
       "      <td>53.734364</td>\n",
       "      <td>1960.0</td>\n",
       "    </tr>\n",
       "    <tr>\n",
       "      <th>598</th>\n",
       "      <td>46</td>\n",
       "      <td>598</td>\n",
       "      <td>43.340523</td>\n",
       "      <td>803.899353</td>\n",
       "      <td>0.000000</td>\n",
       "      <td>46</td>\n",
       "      <td>46</td>\n",
       "      <td>5</td>\n",
       "      <td>0</td>\n",
       "      <td>False</td>\n",
       "      <td>47.798309</td>\n",
       "      <td>1530.0</td>\n",
       "    </tr>\n",
       "    <tr>\n",
       "      <th>599</th>\n",
       "      <td>46</td>\n",
       "      <td>599</td>\n",
       "      <td>38.737591</td>\n",
       "      <td>802.102417</td>\n",
       "      <td>-0.568790</td>\n",
       "      <td>46</td>\n",
       "      <td>46</td>\n",
       "      <td>5</td>\n",
       "      <td>0</td>\n",
       "      <td>True</td>\n",
       "      <td>NaN</td>\n",
       "      <td>NaN</td>\n",
       "    </tr>\n",
       "    <tr>\n",
       "      <th>600</th>\n",
       "      <td>46</td>\n",
       "      <td>600</td>\n",
       "      <td>34.134659</td>\n",
       "      <td>800.305542</td>\n",
       "      <td>-1.137580</td>\n",
       "      <td>46</td>\n",
       "      <td>46</td>\n",
       "      <td>5</td>\n",
       "      <td>0</td>\n",
       "      <td>True</td>\n",
       "      <td>NaN</td>\n",
       "      <td>NaN</td>\n",
       "    </tr>\n",
       "    <tr>\n",
       "      <th>601</th>\n",
       "      <td>46</td>\n",
       "      <td>601</td>\n",
       "      <td>29.531727</td>\n",
       "      <td>798.508606</td>\n",
       "      <td>-1.706371</td>\n",
       "      <td>46</td>\n",
       "      <td>46</td>\n",
       "      <td>5</td>\n",
       "      <td>0</td>\n",
       "      <td>True</td>\n",
       "      <td>NaN</td>\n",
       "      <td>NaN</td>\n",
       "    </tr>\n",
       "    <tr>\n",
       "      <th>602</th>\n",
       "      <td>46</td>\n",
       "      <td>602</td>\n",
       "      <td>24.928793</td>\n",
       "      <td>796.711670</td>\n",
       "      <td>-2.275161</td>\n",
       "      <td>46</td>\n",
       "      <td>46</td>\n",
       "      <td>5</td>\n",
       "      <td>0</td>\n",
       "      <td>True</td>\n",
       "      <td>NaN</td>\n",
       "      <td>NaN</td>\n",
       "    </tr>\n",
       "    <tr>\n",
       "      <th>603</th>\n",
       "      <td>46</td>\n",
       "      <td>603</td>\n",
       "      <td>26.512295</td>\n",
       "      <td>789.601074</td>\n",
       "      <td>0.000000</td>\n",
       "      <td>46</td>\n",
       "      <td>46</td>\n",
       "      <td>5</td>\n",
       "      <td>0</td>\n",
       "      <td>False</td>\n",
       "      <td>35.858234</td>\n",
       "      <td>732.0</td>\n",
       "    </tr>\n",
       "    <tr>\n",
       "      <th>604</th>\n",
       "      <td>46</td>\n",
       "      <td>604</td>\n",
       "      <td>23.541162</td>\n",
       "      <td>791.134399</td>\n",
       "      <td>0.000000</td>\n",
       "      <td>46</td>\n",
       "      <td>46</td>\n",
       "      <td>5</td>\n",
       "      <td>0</td>\n",
       "      <td>False</td>\n",
       "      <td>35.295799</td>\n",
       "      <td>826.0</td>\n",
       "    </tr>\n",
       "    <tr>\n",
       "      <th>605</th>\n",
       "      <td>46</td>\n",
       "      <td>605</td>\n",
       "      <td>28.291666</td>\n",
       "      <td>790.378479</td>\n",
       "      <td>0.000000</td>\n",
       "      <td>46</td>\n",
       "      <td>46</td>\n",
       "      <td>5</td>\n",
       "      <td>0</td>\n",
       "      <td>False</td>\n",
       "      <td>35.907444</td>\n",
       "      <td>864.0</td>\n",
       "    </tr>\n",
       "    <tr>\n",
       "      <th>606</th>\n",
       "      <td>46</td>\n",
       "      <td>606</td>\n",
       "      <td>28.463783</td>\n",
       "      <td>793.312439</td>\n",
       "      <td>0.000000</td>\n",
       "      <td>46</td>\n",
       "      <td>46</td>\n",
       "      <td>5</td>\n",
       "      <td>0</td>\n",
       "      <td>False</td>\n",
       "      <td>37.563484</td>\n",
       "      <td>925.0</td>\n",
       "    </tr>\n",
       "    <tr>\n",
       "      <th>607</th>\n",
       "      <td>46</td>\n",
       "      <td>607</td>\n",
       "      <td>31.496071</td>\n",
       "      <td>795.177795</td>\n",
       "      <td>0.000000</td>\n",
       "      <td>46</td>\n",
       "      <td>46</td>\n",
       "      <td>5</td>\n",
       "      <td>0</td>\n",
       "      <td>False</td>\n",
       "      <td>39.727100</td>\n",
       "      <td>1018.0</td>\n",
       "    </tr>\n",
       "    <tr>\n",
       "      <th>608</th>\n",
       "      <td>46</td>\n",
       "      <td>608</td>\n",
       "      <td>30.954588</td>\n",
       "      <td>797.913818</td>\n",
       "      <td>0.000000</td>\n",
       "      <td>46</td>\n",
       "      <td>46</td>\n",
       "      <td>5</td>\n",
       "      <td>0</td>\n",
       "      <td>False</td>\n",
       "      <td>40.541855</td>\n",
       "      <td>1079.0</td>\n",
       "    </tr>\n",
       "    <tr>\n",
       "      <th>609</th>\n",
       "      <td>46</td>\n",
       "      <td>609</td>\n",
       "      <td>28.821360</td>\n",
       "      <td>802.523315</td>\n",
       "      <td>0.000000</td>\n",
       "      <td>46</td>\n",
       "      <td>46</td>\n",
       "      <td>5</td>\n",
       "      <td>0</td>\n",
       "      <td>False</td>\n",
       "      <td>38.191483</td>\n",
       "      <td>1030.0</td>\n",
       "    </tr>\n",
       "    <tr>\n",
       "      <th>610</th>\n",
       "      <td>46</td>\n",
       "      <td>610</td>\n",
       "      <td>26.639147</td>\n",
       "      <td>803.963806</td>\n",
       "      <td>0.000000</td>\n",
       "      <td>46</td>\n",
       "      <td>46</td>\n",
       "      <td>5</td>\n",
       "      <td>0</td>\n",
       "      <td>False</td>\n",
       "      <td>38.171093</td>\n",
       "      <td>1078.0</td>\n",
       "    </tr>\n",
       "    <tr>\n",
       "      <th>611</th>\n",
       "      <td>46</td>\n",
       "      <td>611</td>\n",
       "      <td>27.983843</td>\n",
       "      <td>804.896790</td>\n",
       "      <td>0.000000</td>\n",
       "      <td>46</td>\n",
       "      <td>46</td>\n",
       "      <td>5</td>\n",
       "      <td>0</td>\n",
       "      <td>False</td>\n",
       "      <td>39.391804</td>\n",
       "      <td>1114.0</td>\n",
       "    </tr>\n",
       "    <tr>\n",
       "      <th>612</th>\n",
       "      <td>46</td>\n",
       "      <td>612</td>\n",
       "      <td>27.922943</td>\n",
       "      <td>806.209290</td>\n",
       "      <td>0.000000</td>\n",
       "      <td>46</td>\n",
       "      <td>46</td>\n",
       "      <td>5</td>\n",
       "      <td>0</td>\n",
       "      <td>False</td>\n",
       "      <td>38.970528</td>\n",
       "      <td>1142.0</td>\n",
       "    </tr>\n",
       "    <tr>\n",
       "      <th>613</th>\n",
       "      <td>46</td>\n",
       "      <td>613</td>\n",
       "      <td>31.765522</td>\n",
       "      <td>807.106201</td>\n",
       "      <td>0.000000</td>\n",
       "      <td>46</td>\n",
       "      <td>46</td>\n",
       "      <td>5</td>\n",
       "      <td>0</td>\n",
       "      <td>False</td>\n",
       "      <td>40.788563</td>\n",
       "      <td>1224.0</td>\n",
       "    </tr>\n",
       "    <tr>\n",
       "      <th>614</th>\n",
       "      <td>46</td>\n",
       "      <td>614</td>\n",
       "      <td>31.228848</td>\n",
       "      <td>808.372253</td>\n",
       "      <td>0.000000</td>\n",
       "      <td>46</td>\n",
       "      <td>46</td>\n",
       "      <td>5</td>\n",
       "      <td>0</td>\n",
       "      <td>False</td>\n",
       "      <td>40.714657</td>\n",
       "      <td>1241.0</td>\n",
       "    </tr>\n",
       "    <tr>\n",
       "      <th>615</th>\n",
       "      <td>46</td>\n",
       "      <td>615</td>\n",
       "      <td>28.062777</td>\n",
       "      <td>809.876648</td>\n",
       "      <td>0.000000</td>\n",
       "      <td>46</td>\n",
       "      <td>46</td>\n",
       "      <td>5</td>\n",
       "      <td>0</td>\n",
       "      <td>False</td>\n",
       "      <td>44.061722</td>\n",
       "      <td>1354.0</td>\n",
       "    </tr>\n",
       "    <tr>\n",
       "      <th>616</th>\n",
       "      <td>46</td>\n",
       "      <td>616</td>\n",
       "      <td>21.178423</td>\n",
       "      <td>810.834045</td>\n",
       "      <td>0.000000</td>\n",
       "      <td>46</td>\n",
       "      <td>46</td>\n",
       "      <td>5</td>\n",
       "      <td>0</td>\n",
       "      <td>False</td>\n",
       "      <td>42.229179</td>\n",
       "      <td>1205.0</td>\n",
       "    </tr>\n",
       "    <tr>\n",
       "      <th>617</th>\n",
       "      <td>46</td>\n",
       "      <td>617</td>\n",
       "      <td>20.178627</td>\n",
       "      <td>811.833862</td>\n",
       "      <td>0.000000</td>\n",
       "      <td>46</td>\n",
       "      <td>46</td>\n",
       "      <td>5</td>\n",
       "      <td>0</td>\n",
       "      <td>False</td>\n",
       "      <td>42.613804</td>\n",
       "      <td>1282.0</td>\n",
       "    </tr>\n",
       "    <tr>\n",
       "      <th>618</th>\n",
       "      <td>46</td>\n",
       "      <td>618</td>\n",
       "      <td>17.478502</td>\n",
       "      <td>813.731689</td>\n",
       "      <td>0.000000</td>\n",
       "      <td>46</td>\n",
       "      <td>46</td>\n",
       "      <td>5</td>\n",
       "      <td>0</td>\n",
       "      <td>False</td>\n",
       "      <td>41.787598</td>\n",
       "      <td>1256.0</td>\n",
       "    </tr>\n",
       "    <tr>\n",
       "      <th>619</th>\n",
       "      <td>46</td>\n",
       "      <td>619</td>\n",
       "      <td>15.052998</td>\n",
       "      <td>814.518677</td>\n",
       "      <td>0.000000</td>\n",
       "      <td>46</td>\n",
       "      <td>46</td>\n",
       "      <td>5</td>\n",
       "      <td>0</td>\n",
       "      <td>False</td>\n",
       "      <td>42.046669</td>\n",
       "      <td>1151.0</td>\n",
       "    </tr>\n",
       "    <tr>\n",
       "      <th>620</th>\n",
       "      <td>46</td>\n",
       "      <td>620</td>\n",
       "      <td>20.502666</td>\n",
       "      <td>816.710571</td>\n",
       "      <td>0.000000</td>\n",
       "      <td>46</td>\n",
       "      <td>46</td>\n",
       "      <td>5</td>\n",
       "      <td>0</td>\n",
       "      <td>False</td>\n",
       "      <td>42.150936</td>\n",
       "      <td>1313.0</td>\n",
       "    </tr>\n",
       "    <tr>\n",
       "      <th>621</th>\n",
       "      <td>46</td>\n",
       "      <td>621</td>\n",
       "      <td>16.562704</td>\n",
       "      <td>814.337952</td>\n",
       "      <td>0.000000</td>\n",
       "      <td>46</td>\n",
       "      <td>46</td>\n",
       "      <td>5</td>\n",
       "      <td>0</td>\n",
       "      <td>False</td>\n",
       "      <td>41.870068</td>\n",
       "      <td>1228.0</td>\n",
       "    </tr>\n",
       "    <tr>\n",
       "      <th>622</th>\n",
       "      <td>46</td>\n",
       "      <td>622</td>\n",
       "      <td>15.114379</td>\n",
       "      <td>812.587402</td>\n",
       "      <td>0.000000</td>\n",
       "      <td>46</td>\n",
       "      <td>46</td>\n",
       "      <td>5</td>\n",
       "      <td>0</td>\n",
       "      <td>False</td>\n",
       "      <td>43.930180</td>\n",
       "      <td>1224.0</td>\n",
       "    </tr>\n",
       "    <tr>\n",
       "      <th>623</th>\n",
       "      <td>46</td>\n",
       "      <td>623</td>\n",
       "      <td>15.391614</td>\n",
       "      <td>814.992859</td>\n",
       "      <td>0.000000</td>\n",
       "      <td>46</td>\n",
       "      <td>46</td>\n",
       "      <td>5</td>\n",
       "      <td>0</td>\n",
       "      <td>False</td>\n",
       "      <td>44.407379</td>\n",
       "      <td>1264.0</td>\n",
       "    </tr>\n",
       "    <tr>\n",
       "      <th>624</th>\n",
       "      <td>46</td>\n",
       "      <td>624</td>\n",
       "      <td>14.729200</td>\n",
       "      <td>816.997559</td>\n",
       "      <td>0.000000</td>\n",
       "      <td>46</td>\n",
       "      <td>46</td>\n",
       "      <td>5</td>\n",
       "      <td>0</td>\n",
       "      <td>False</td>\n",
       "      <td>45.087990</td>\n",
       "      <td>1226.0</td>\n",
       "    </tr>\n",
       "    <tr>\n",
       "      <th>625</th>\n",
       "      <td>46</td>\n",
       "      <td>625</td>\n",
       "      <td>16.065046</td>\n",
       "      <td>817.517212</td>\n",
       "      <td>0.000000</td>\n",
       "      <td>46</td>\n",
       "      <td>46</td>\n",
       "      <td>5</td>\n",
       "      <td>0</td>\n",
       "      <td>False</td>\n",
       "      <td>44.163929</td>\n",
       "      <td>1276.0</td>\n",
       "    </tr>\n",
       "    <tr>\n",
       "      <th>626</th>\n",
       "      <td>46</td>\n",
       "      <td>626</td>\n",
       "      <td>13.564906</td>\n",
       "      <td>817.405579</td>\n",
       "      <td>0.000000</td>\n",
       "      <td>46</td>\n",
       "      <td>46</td>\n",
       "      <td>5</td>\n",
       "      <td>0</td>\n",
       "      <td>False</td>\n",
       "      <td>44.052395</td>\n",
       "      <td>1117.0</td>\n",
       "    </tr>\n",
       "    <tr>\n",
       "      <th>627</th>\n",
       "      <td>46</td>\n",
       "      <td>627</td>\n",
       "      <td>14.398438</td>\n",
       "      <td>819.440125</td>\n",
       "      <td>0.000000</td>\n",
       "      <td>46</td>\n",
       "      <td>46</td>\n",
       "      <td>5</td>\n",
       "      <td>0</td>\n",
       "      <td>False</td>\n",
       "      <td>44.279270</td>\n",
       "      <td>1152.0</td>\n",
       "    </tr>\n",
       "    <tr>\n",
       "      <th>628</th>\n",
       "      <td>46</td>\n",
       "      <td>628</td>\n",
       "      <td>14.398354</td>\n",
       "      <td>820.013184</td>\n",
       "      <td>0.000000</td>\n",
       "      <td>46</td>\n",
       "      <td>46</td>\n",
       "      <td>5</td>\n",
       "      <td>0</td>\n",
       "      <td>False</td>\n",
       "      <td>45.625687</td>\n",
       "      <td>1215.0</td>\n",
       "    </tr>\n",
       "    <tr>\n",
       "      <th>629</th>\n",
       "      <td>46</td>\n",
       "      <td>629</td>\n",
       "      <td>12.416349</td>\n",
       "      <td>818.450562</td>\n",
       "      <td>0.000000</td>\n",
       "      <td>46</td>\n",
       "      <td>46</td>\n",
       "      <td>5</td>\n",
       "      <td>0</td>\n",
       "      <td>False</td>\n",
       "      <td>44.764763</td>\n",
       "      <td>1052.0</td>\n",
       "    </tr>\n",
       "    <tr>\n",
       "      <th>630</th>\n",
       "      <td>46</td>\n",
       "      <td>630</td>\n",
       "      <td>17.783911</td>\n",
       "      <td>818.682190</td>\n",
       "      <td>0.000000</td>\n",
       "      <td>46</td>\n",
       "      <td>46</td>\n",
       "      <td>5</td>\n",
       "      <td>0</td>\n",
       "      <td>False</td>\n",
       "      <td>43.770760</td>\n",
       "      <td>1268.0</td>\n",
       "    </tr>\n",
       "    <tr>\n",
       "      <th>631</th>\n",
       "      <td>46</td>\n",
       "      <td>631</td>\n",
       "      <td>15.731332</td>\n",
       "      <td>817.544250</td>\n",
       "      <td>0.000000</td>\n",
       "      <td>46</td>\n",
       "      <td>46</td>\n",
       "      <td>5</td>\n",
       "      <td>0</td>\n",
       "      <td>False</td>\n",
       "      <td>44.502686</td>\n",
       "      <td>1299.0</td>\n",
       "    </tr>\n",
       "    <tr>\n",
       "      <th>632</th>\n",
       "      <td>46</td>\n",
       "      <td>632</td>\n",
       "      <td>19.240643</td>\n",
       "      <td>818.815918</td>\n",
       "      <td>0.000000</td>\n",
       "      <td>46</td>\n",
       "      <td>46</td>\n",
       "      <td>5</td>\n",
       "      <td>0</td>\n",
       "      <td>False</td>\n",
       "      <td>43.489384</td>\n",
       "      <td>1309.0</td>\n",
       "    </tr>\n",
       "    <tr>\n",
       "      <th>633</th>\n",
       "      <td>46</td>\n",
       "      <td>633</td>\n",
       "      <td>21.612631</td>\n",
       "      <td>818.065247</td>\n",
       "      <td>0.000000</td>\n",
       "      <td>46</td>\n",
       "      <td>46</td>\n",
       "      <td>5</td>\n",
       "      <td>0</td>\n",
       "      <td>False</td>\n",
       "      <td>45.108921</td>\n",
       "      <td>1425.0</td>\n",
       "    </tr>\n",
       "    <tr>\n",
       "      <th>634</th>\n",
       "      <td>46</td>\n",
       "      <td>634</td>\n",
       "      <td>29.883892</td>\n",
       "      <td>819.347656</td>\n",
       "      <td>0.000000</td>\n",
       "      <td>46</td>\n",
       "      <td>46</td>\n",
       "      <td>5</td>\n",
       "      <td>0</td>\n",
       "      <td>False</td>\n",
       "      <td>44.837212</td>\n",
       "      <td>1490.0</td>\n",
       "    </tr>\n",
       "    <tr>\n",
       "      <th>635</th>\n",
       "      <td>46</td>\n",
       "      <td>635</td>\n",
       "      <td>24.474340</td>\n",
       "      <td>816.721924</td>\n",
       "      <td>0.000000</td>\n",
       "      <td>46</td>\n",
       "      <td>46</td>\n",
       "      <td>5</td>\n",
       "      <td>0</td>\n",
       "      <td>False</td>\n",
       "      <td>43.606789</td>\n",
       "      <td>1442.0</td>\n",
       "    </tr>\n",
       "    <tr>\n",
       "      <th>636</th>\n",
       "      <td>46</td>\n",
       "      <td>636</td>\n",
       "      <td>26.381382</td>\n",
       "      <td>819.550293</td>\n",
       "      <td>0.000000</td>\n",
       "      <td>46</td>\n",
       "      <td>46</td>\n",
       "      <td>5</td>\n",
       "      <td>0</td>\n",
       "      <td>False</td>\n",
       "      <td>42.305134</td>\n",
       "      <td>1332.0</td>\n",
       "    </tr>\n",
       "    <tr>\n",
       "      <th>637</th>\n",
       "      <td>46</td>\n",
       "      <td>637</td>\n",
       "      <td>27.531080</td>\n",
       "      <td>817.644592</td>\n",
       "      <td>0.000000</td>\n",
       "      <td>46</td>\n",
       "      <td>46</td>\n",
       "      <td>5</td>\n",
       "      <td>0</td>\n",
       "      <td>False</td>\n",
       "      <td>44.688259</td>\n",
       "      <td>1480.0</td>\n",
       "    </tr>\n",
       "    <tr>\n",
       "      <th>638</th>\n",
       "      <td>46</td>\n",
       "      <td>638</td>\n",
       "      <td>27.673342</td>\n",
       "      <td>818.697510</td>\n",
       "      <td>0.000000</td>\n",
       "      <td>46</td>\n",
       "      <td>46</td>\n",
       "      <td>5</td>\n",
       "      <td>0</td>\n",
       "      <td>False</td>\n",
       "      <td>45.510796</td>\n",
       "      <td>1448.0</td>\n",
       "    </tr>\n",
       "    <tr>\n",
       "      <th>639</th>\n",
       "      <td>46</td>\n",
       "      <td>639</td>\n",
       "      <td>33.529739</td>\n",
       "      <td>820.790039</td>\n",
       "      <td>0.000000</td>\n",
       "      <td>46</td>\n",
       "      <td>46</td>\n",
       "      <td>5</td>\n",
       "      <td>0</td>\n",
       "      <td>False</td>\n",
       "      <td>45.002327</td>\n",
       "      <td>1429.0</td>\n",
       "    </tr>\n",
       "    <tr>\n",
       "      <th>640</th>\n",
       "      <td>46</td>\n",
       "      <td>640</td>\n",
       "      <td>29.034405</td>\n",
       "      <td>820.223633</td>\n",
       "      <td>0.000000</td>\n",
       "      <td>46</td>\n",
       "      <td>46</td>\n",
       "      <td>5</td>\n",
       "      <td>0</td>\n",
       "      <td>False</td>\n",
       "      <td>43.340706</td>\n",
       "      <td>1337.0</td>\n",
       "    </tr>\n",
       "    <tr>\n",
       "      <th>641</th>\n",
       "      <td>46</td>\n",
       "      <td>641</td>\n",
       "      <td>29.819530</td>\n",
       "      <td>819.060181</td>\n",
       "      <td>0.000000</td>\n",
       "      <td>46</td>\n",
       "      <td>46</td>\n",
       "      <td>5</td>\n",
       "      <td>0</td>\n",
       "      <td>False</td>\n",
       "      <td>41.280495</td>\n",
       "      <td>1280.0</td>\n",
       "    </tr>\n",
       "    <tr>\n",
       "      <th>642</th>\n",
       "      <td>46</td>\n",
       "      <td>642</td>\n",
       "      <td>35.271866</td>\n",
       "      <td>818.908142</td>\n",
       "      <td>0.000000</td>\n",
       "      <td>46</td>\n",
       "      <td>46</td>\n",
       "      <td>5</td>\n",
       "      <td>0</td>\n",
       "      <td>False</td>\n",
       "      <td>43.240139</td>\n",
       "      <td>1372.0</td>\n",
       "    </tr>\n",
       "    <tr>\n",
       "      <th>643</th>\n",
       "      <td>46</td>\n",
       "      <td>643</td>\n",
       "      <td>38.957615</td>\n",
       "      <td>819.318970</td>\n",
       "      <td>0.000000</td>\n",
       "      <td>46</td>\n",
       "      <td>46</td>\n",
       "      <td>5</td>\n",
       "      <td>0</td>\n",
       "      <td>False</td>\n",
       "      <td>42.622429</td>\n",
       "      <td>1392.0</td>\n",
       "    </tr>\n",
       "    <tr>\n",
       "      <th>644</th>\n",
       "      <td>46</td>\n",
       "      <td>644</td>\n",
       "      <td>36.593544</td>\n",
       "      <td>817.311584</td>\n",
       "      <td>0.000000</td>\n",
       "      <td>46</td>\n",
       "      <td>46</td>\n",
       "      <td>5</td>\n",
       "      <td>0</td>\n",
       "      <td>False</td>\n",
       "      <td>46.350327</td>\n",
       "      <td>1518.0</td>\n",
       "    </tr>\n",
       "    <tr>\n",
       "      <th>645</th>\n",
       "      <td>46</td>\n",
       "      <td>645</td>\n",
       "      <td>37.871353</td>\n",
       "      <td>819.554199</td>\n",
       "      <td>0.000000</td>\n",
       "      <td>46</td>\n",
       "      <td>46</td>\n",
       "      <td>5</td>\n",
       "      <td>0</td>\n",
       "      <td>False</td>\n",
       "      <td>42.686806</td>\n",
       "      <td>1337.0</td>\n",
       "    </tr>\n",
       "    <tr>\n",
       "      <th>646</th>\n",
       "      <td>46</td>\n",
       "      <td>646</td>\n",
       "      <td>34.485485</td>\n",
       "      <td>817.089966</td>\n",
       "      <td>0.000000</td>\n",
       "      <td>46</td>\n",
       "      <td>46</td>\n",
       "      <td>5</td>\n",
       "      <td>0</td>\n",
       "      <td>False</td>\n",
       "      <td>43.615566</td>\n",
       "      <td>1378.0</td>\n",
       "    </tr>\n",
       "    <tr>\n",
       "      <th>647</th>\n",
       "      <td>46</td>\n",
       "      <td>647</td>\n",
       "      <td>36.347412</td>\n",
       "      <td>815.273315</td>\n",
       "      <td>0.000000</td>\n",
       "      <td>46</td>\n",
       "      <td>46</td>\n",
       "      <td>5</td>\n",
       "      <td>0</td>\n",
       "      <td>False</td>\n",
       "      <td>43.117970</td>\n",
       "      <td>1255.0</td>\n",
       "    </tr>\n",
       "    <tr>\n",
       "      <th>648</th>\n",
       "      <td>46</td>\n",
       "      <td>648</td>\n",
       "      <td>33.379158</td>\n",
       "      <td>810.964966</td>\n",
       "      <td>0.000000</td>\n",
       "      <td>46</td>\n",
       "      <td>46</td>\n",
       "      <td>5</td>\n",
       "      <td>0</td>\n",
       "      <td>False</td>\n",
       "      <td>39.519718</td>\n",
       "      <td>1142.0</td>\n",
       "    </tr>\n",
       "    <tr>\n",
       "      <th>649</th>\n",
       "      <td>46</td>\n",
       "      <td>649</td>\n",
       "      <td>43.819847</td>\n",
       "      <td>812.460327</td>\n",
       "      <td>0.000000</td>\n",
       "      <td>46</td>\n",
       "      <td>46</td>\n",
       "      <td>5</td>\n",
       "      <td>0</td>\n",
       "      <td>False</td>\n",
       "      <td>41.872925</td>\n",
       "      <td>1310.0</td>\n",
       "    </tr>\n",
       "    <tr>\n",
       "      <th>650</th>\n",
       "      <td>46</td>\n",
       "      <td>650</td>\n",
       "      <td>43.666405</td>\n",
       "      <td>815.115601</td>\n",
       "      <td>0.000000</td>\n",
       "      <td>46</td>\n",
       "      <td>46</td>\n",
       "      <td>5</td>\n",
       "      <td>0</td>\n",
       "      <td>False</td>\n",
       "      <td>42.338276</td>\n",
       "      <td>1280.0</td>\n",
       "    </tr>\n",
       "    <tr>\n",
       "      <th>651</th>\n",
       "      <td>46</td>\n",
       "      <td>651</td>\n",
       "      <td>44.736317</td>\n",
       "      <td>816.415771</td>\n",
       "      <td>0.000000</td>\n",
       "      <td>46</td>\n",
       "      <td>46</td>\n",
       "      <td>5</td>\n",
       "      <td>0</td>\n",
       "      <td>False</td>\n",
       "      <td>43.823578</td>\n",
       "      <td>1407.0</td>\n",
       "    </tr>\n",
       "    <tr>\n",
       "      <th>652</th>\n",
       "      <td>46</td>\n",
       "      <td>652</td>\n",
       "      <td>41.394379</td>\n",
       "      <td>817.914062</td>\n",
       "      <td>0.000000</td>\n",
       "      <td>46</td>\n",
       "      <td>46</td>\n",
       "      <td>5</td>\n",
       "      <td>0</td>\n",
       "      <td>False</td>\n",
       "      <td>41.019989</td>\n",
       "      <td>1245.0</td>\n",
       "    </tr>\n",
       "    <tr>\n",
       "      <th>653</th>\n",
       "      <td>46</td>\n",
       "      <td>653</td>\n",
       "      <td>42.124802</td>\n",
       "      <td>820.175659</td>\n",
       "      <td>0.000000</td>\n",
       "      <td>46</td>\n",
       "      <td>46</td>\n",
       "      <td>5</td>\n",
       "      <td>0</td>\n",
       "      <td>False</td>\n",
       "      <td>41.801613</td>\n",
       "      <td>1258.0</td>\n",
       "    </tr>\n",
       "    <tr>\n",
       "      <th>654</th>\n",
       "      <td>46</td>\n",
       "      <td>654</td>\n",
       "      <td>50.019295</td>\n",
       "      <td>821.357300</td>\n",
       "      <td>0.000000</td>\n",
       "      <td>46</td>\n",
       "      <td>46</td>\n",
       "      <td>5</td>\n",
       "      <td>0</td>\n",
       "      <td>False</td>\n",
       "      <td>44.831348</td>\n",
       "      <td>1503.0</td>\n",
       "    </tr>\n",
       "    <tr>\n",
       "      <th>655</th>\n",
       "      <td>46</td>\n",
       "      <td>655</td>\n",
       "      <td>39.927242</td>\n",
       "      <td>821.685547</td>\n",
       "      <td>0.000000</td>\n",
       "      <td>46</td>\n",
       "      <td>46</td>\n",
       "      <td>5</td>\n",
       "      <td>0</td>\n",
       "      <td>False</td>\n",
       "      <td>40.781998</td>\n",
       "      <td>1237.0</td>\n",
       "    </tr>\n",
       "    <tr>\n",
       "      <th>656</th>\n",
       "      <td>46</td>\n",
       "      <td>656</td>\n",
       "      <td>37.543831</td>\n",
       "      <td>821.443726</td>\n",
       "      <td>0.000000</td>\n",
       "      <td>46</td>\n",
       "      <td>46</td>\n",
       "      <td>5</td>\n",
       "      <td>0</td>\n",
       "      <td>False</td>\n",
       "      <td>42.561916</td>\n",
       "      <td>1289.0</td>\n",
       "    </tr>\n",
       "    <tr>\n",
       "      <th>657</th>\n",
       "      <td>46</td>\n",
       "      <td>657</td>\n",
       "      <td>41.209145</td>\n",
       "      <td>824.200134</td>\n",
       "      <td>0.000000</td>\n",
       "      <td>46</td>\n",
       "      <td>46</td>\n",
       "      <td>5</td>\n",
       "      <td>0</td>\n",
       "      <td>False</td>\n",
       "      <td>42.451656</td>\n",
       "      <td>1334.0</td>\n",
       "    </tr>\n",
       "    <tr>\n",
       "      <th>658</th>\n",
       "      <td>46</td>\n",
       "      <td>658</td>\n",
       "      <td>36.723946</td>\n",
       "      <td>825.446289</td>\n",
       "      <td>0.000000</td>\n",
       "      <td>46</td>\n",
       "      <td>46</td>\n",
       "      <td>5</td>\n",
       "      <td>0</td>\n",
       "      <td>False</td>\n",
       "      <td>41.687843</td>\n",
       "      <td>1257.0</td>\n",
       "    </tr>\n",
       "    <tr>\n",
       "      <th>659</th>\n",
       "      <td>46</td>\n",
       "      <td>659</td>\n",
       "      <td>38.853436</td>\n",
       "      <td>825.206848</td>\n",
       "      <td>0.000000</td>\n",
       "      <td>46</td>\n",
       "      <td>46</td>\n",
       "      <td>5</td>\n",
       "      <td>0</td>\n",
       "      <td>False</td>\n",
       "      <td>42.111012</td>\n",
       "      <td>1310.0</td>\n",
       "    </tr>\n",
       "    <tr>\n",
       "      <th>660</th>\n",
       "      <td>46</td>\n",
       "      <td>660</td>\n",
       "      <td>39.118607</td>\n",
       "      <td>825.039062</td>\n",
       "      <td>0.000000</td>\n",
       "      <td>46</td>\n",
       "      <td>46</td>\n",
       "      <td>5</td>\n",
       "      <td>0</td>\n",
       "      <td>False</td>\n",
       "      <td>44.133194</td>\n",
       "      <td>1408.0</td>\n",
       "    </tr>\n",
       "    <tr>\n",
       "      <th>661</th>\n",
       "      <td>46</td>\n",
       "      <td>661</td>\n",
       "      <td>43.281742</td>\n",
       "      <td>826.272461</td>\n",
       "      <td>0.000000</td>\n",
       "      <td>46</td>\n",
       "      <td>46</td>\n",
       "      <td>5</td>\n",
       "      <td>0</td>\n",
       "      <td>False</td>\n",
       "      <td>44.638237</td>\n",
       "      <td>1402.0</td>\n",
       "    </tr>\n",
       "    <tr>\n",
       "      <th>662</th>\n",
       "      <td>46</td>\n",
       "      <td>662</td>\n",
       "      <td>39.489105</td>\n",
       "      <td>826.323792</td>\n",
       "      <td>0.000000</td>\n",
       "      <td>46</td>\n",
       "      <td>46</td>\n",
       "      <td>5</td>\n",
       "      <td>0</td>\n",
       "      <td>False</td>\n",
       "      <td>42.629120</td>\n",
       "      <td>1331.0</td>\n",
       "    </tr>\n",
       "    <tr>\n",
       "      <th>663</th>\n",
       "      <td>46</td>\n",
       "      <td>663</td>\n",
       "      <td>39.069016</td>\n",
       "      <td>826.976013</td>\n",
       "      <td>0.000000</td>\n",
       "      <td>46</td>\n",
       "      <td>46</td>\n",
       "      <td>5</td>\n",
       "      <td>0</td>\n",
       "      <td>False</td>\n",
       "      <td>42.333328</td>\n",
       "      <td>1333.0</td>\n",
       "    </tr>\n",
       "    <tr>\n",
       "      <th>664</th>\n",
       "      <td>46</td>\n",
       "      <td>664</td>\n",
       "      <td>39.269913</td>\n",
       "      <td>829.252930</td>\n",
       "      <td>0.000000</td>\n",
       "      <td>46</td>\n",
       "      <td>46</td>\n",
       "      <td>5</td>\n",
       "      <td>0</td>\n",
       "      <td>False</td>\n",
       "      <td>43.423756</td>\n",
       "      <td>1356.0</td>\n",
       "    </tr>\n",
       "    <tr>\n",
       "      <th>665</th>\n",
       "      <td>46</td>\n",
       "      <td>665</td>\n",
       "      <td>34.799232</td>\n",
       "      <td>831.943298</td>\n",
       "      <td>0.000000</td>\n",
       "      <td>46</td>\n",
       "      <td>46</td>\n",
       "      <td>5</td>\n",
       "      <td>0</td>\n",
       "      <td>False</td>\n",
       "      <td>43.569527</td>\n",
       "      <td>1305.0</td>\n",
       "    </tr>\n",
       "    <tr>\n",
       "      <th>666</th>\n",
       "      <td>46</td>\n",
       "      <td>666</td>\n",
       "      <td>35.154701</td>\n",
       "      <td>832.377502</td>\n",
       "      <td>0.000000</td>\n",
       "      <td>46</td>\n",
       "      <td>46</td>\n",
       "      <td>5</td>\n",
       "      <td>0</td>\n",
       "      <td>False</td>\n",
       "      <td>44.656464</td>\n",
       "      <td>1351.0</td>\n",
       "    </tr>\n",
       "    <tr>\n",
       "      <th>667</th>\n",
       "      <td>46</td>\n",
       "      <td>667</td>\n",
       "      <td>32.447491</td>\n",
       "      <td>834.707703</td>\n",
       "      <td>0.000000</td>\n",
       "      <td>46</td>\n",
       "      <td>46</td>\n",
       "      <td>5</td>\n",
       "      <td>0</td>\n",
       "      <td>False</td>\n",
       "      <td>44.074741</td>\n",
       "      <td>1276.0</td>\n",
       "    </tr>\n",
       "    <tr>\n",
       "      <th>668</th>\n",
       "      <td>46</td>\n",
       "      <td>668</td>\n",
       "      <td>29.810551</td>\n",
       "      <td>833.291748</td>\n",
       "      <td>0.000000</td>\n",
       "      <td>46</td>\n",
       "      <td>46</td>\n",
       "      <td>5</td>\n",
       "      <td>0</td>\n",
       "      <td>False</td>\n",
       "      <td>42.808281</td>\n",
       "      <td>1251.0</td>\n",
       "    </tr>\n",
       "    <tr>\n",
       "      <th>669</th>\n",
       "      <td>46</td>\n",
       "      <td>669</td>\n",
       "      <td>25.917192</td>\n",
       "      <td>834.220825</td>\n",
       "      <td>0.000000</td>\n",
       "      <td>46</td>\n",
       "      <td>46</td>\n",
       "      <td>5</td>\n",
       "      <td>0</td>\n",
       "      <td>False</td>\n",
       "      <td>41.448875</td>\n",
       "      <td>1268.0</td>\n",
       "    </tr>\n",
       "    <tr>\n",
       "      <th>670</th>\n",
       "      <td>46</td>\n",
       "      <td>670</td>\n",
       "      <td>26.296410</td>\n",
       "      <td>835.472900</td>\n",
       "      <td>0.000000</td>\n",
       "      <td>46</td>\n",
       "      <td>46</td>\n",
       "      <td>5</td>\n",
       "      <td>0</td>\n",
       "      <td>False</td>\n",
       "      <td>41.691742</td>\n",
       "      <td>1309.0</td>\n",
       "    </tr>\n",
       "    <tr>\n",
       "      <th>671</th>\n",
       "      <td>46</td>\n",
       "      <td>671</td>\n",
       "      <td>23.980753</td>\n",
       "      <td>833.782410</td>\n",
       "      <td>0.000000</td>\n",
       "      <td>46</td>\n",
       "      <td>46</td>\n",
       "      <td>5</td>\n",
       "      <td>0</td>\n",
       "      <td>False</td>\n",
       "      <td>40.973587</td>\n",
       "      <td>1195.0</td>\n",
       "    </tr>\n",
       "    <tr>\n",
       "      <th>672</th>\n",
       "      <td>46</td>\n",
       "      <td>672</td>\n",
       "      <td>23.129702</td>\n",
       "      <td>833.835754</td>\n",
       "      <td>0.000000</td>\n",
       "      <td>46</td>\n",
       "      <td>46</td>\n",
       "      <td>5</td>\n",
       "      <td>0</td>\n",
       "      <td>False</td>\n",
       "      <td>42.665970</td>\n",
       "      <td>1303.0</td>\n",
       "    </tr>\n",
       "    <tr>\n",
       "      <th>673</th>\n",
       "      <td>46</td>\n",
       "      <td>673</td>\n",
       "      <td>20.061749</td>\n",
       "      <td>832.813965</td>\n",
       "      <td>0.000000</td>\n",
       "      <td>46</td>\n",
       "      <td>46</td>\n",
       "      <td>5</td>\n",
       "      <td>0</td>\n",
       "      <td>False</td>\n",
       "      <td>41.907803</td>\n",
       "      <td>1247.0</td>\n",
       "    </tr>\n",
       "    <tr>\n",
       "      <th>674</th>\n",
       "      <td>46</td>\n",
       "      <td>674</td>\n",
       "      <td>24.772104</td>\n",
       "      <td>833.904724</td>\n",
       "      <td>0.000000</td>\n",
       "      <td>46</td>\n",
       "      <td>46</td>\n",
       "      <td>5</td>\n",
       "      <td>0</td>\n",
       "      <td>False</td>\n",
       "      <td>41.317394</td>\n",
       "      <td>1312.0</td>\n",
       "    </tr>\n",
       "    <tr>\n",
       "      <th>675</th>\n",
       "      <td>46</td>\n",
       "      <td>675</td>\n",
       "      <td>22.226357</td>\n",
       "      <td>832.844971</td>\n",
       "      <td>0.000000</td>\n",
       "      <td>46</td>\n",
       "      <td>46</td>\n",
       "      <td>5</td>\n",
       "      <td>0</td>\n",
       "      <td>False</td>\n",
       "      <td>41.840305</td>\n",
       "      <td>1290.0</td>\n",
       "    </tr>\n",
       "    <tr>\n",
       "      <th>676</th>\n",
       "      <td>46</td>\n",
       "      <td>676</td>\n",
       "      <td>19.927319</td>\n",
       "      <td>835.382629</td>\n",
       "      <td>0.000000</td>\n",
       "      <td>46</td>\n",
       "      <td>46</td>\n",
       "      <td>5</td>\n",
       "      <td>0</td>\n",
       "      <td>False</td>\n",
       "      <td>41.245975</td>\n",
       "      <td>1197.0</td>\n",
       "    </tr>\n",
       "    <tr>\n",
       "      <th>677</th>\n",
       "      <td>46</td>\n",
       "      <td>677</td>\n",
       "      <td>26.379925</td>\n",
       "      <td>835.197754</td>\n",
       "      <td>0.000000</td>\n",
       "      <td>46</td>\n",
       "      <td>46</td>\n",
       "      <td>5</td>\n",
       "      <td>0</td>\n",
       "      <td>False</td>\n",
       "      <td>42.869698</td>\n",
       "      <td>1345.0</td>\n",
       "    </tr>\n",
       "    <tr>\n",
       "      <th>678</th>\n",
       "      <td>46</td>\n",
       "      <td>678</td>\n",
       "      <td>19.451990</td>\n",
       "      <td>835.601074</td>\n",
       "      <td>0.000000</td>\n",
       "      <td>46</td>\n",
       "      <td>46</td>\n",
       "      <td>5</td>\n",
       "      <td>0</td>\n",
       "      <td>False</td>\n",
       "      <td>41.362297</td>\n",
       "      <td>1281.0</td>\n",
       "    </tr>\n",
       "    <tr>\n",
       "      <th>679</th>\n",
       "      <td>46</td>\n",
       "      <td>679</td>\n",
       "      <td>23.732290</td>\n",
       "      <td>835.413147</td>\n",
       "      <td>0.000000</td>\n",
       "      <td>46</td>\n",
       "      <td>46</td>\n",
       "      <td>5</td>\n",
       "      <td>0</td>\n",
       "      <td>False</td>\n",
       "      <td>42.840534</td>\n",
       "      <td>1341.0</td>\n",
       "    </tr>\n",
       "    <tr>\n",
       "      <th>680</th>\n",
       "      <td>46</td>\n",
       "      <td>680</td>\n",
       "      <td>24.519827</td>\n",
       "      <td>834.784424</td>\n",
       "      <td>0.000000</td>\n",
       "      <td>46</td>\n",
       "      <td>46</td>\n",
       "      <td>5</td>\n",
       "      <td>0</td>\n",
       "      <td>False</td>\n",
       "      <td>42.752800</td>\n",
       "      <td>1387.0</td>\n",
       "    </tr>\n",
       "    <tr>\n",
       "      <th>681</th>\n",
       "      <td>46</td>\n",
       "      <td>681</td>\n",
       "      <td>21.415766</td>\n",
       "      <td>835.393372</td>\n",
       "      <td>0.000000</td>\n",
       "      <td>46</td>\n",
       "      <td>46</td>\n",
       "      <td>5</td>\n",
       "      <td>0</td>\n",
       "      <td>False</td>\n",
       "      <td>41.839054</td>\n",
       "      <td>1294.0</td>\n",
       "    </tr>\n",
       "    <tr>\n",
       "      <th>682</th>\n",
       "      <td>46</td>\n",
       "      <td>682</td>\n",
       "      <td>21.341213</td>\n",
       "      <td>835.288391</td>\n",
       "      <td>0.000000</td>\n",
       "      <td>46</td>\n",
       "      <td>46</td>\n",
       "      <td>5</td>\n",
       "      <td>0</td>\n",
       "      <td>False</td>\n",
       "      <td>42.211456</td>\n",
       "      <td>1269.0</td>\n",
       "    </tr>\n",
       "    <tr>\n",
       "      <th>683</th>\n",
       "      <td>46</td>\n",
       "      <td>683</td>\n",
       "      <td>19.863770</td>\n",
       "      <td>836.115601</td>\n",
       "      <td>0.000000</td>\n",
       "      <td>46</td>\n",
       "      <td>46</td>\n",
       "      <td>5</td>\n",
       "      <td>0</td>\n",
       "      <td>False</td>\n",
       "      <td>42.293175</td>\n",
       "      <td>1358.0</td>\n",
       "    </tr>\n",
       "    <tr>\n",
       "      <th>684</th>\n",
       "      <td>46</td>\n",
       "      <td>684</td>\n",
       "      <td>24.142857</td>\n",
       "      <td>837.153503</td>\n",
       "      <td>0.000000</td>\n",
       "      <td>46</td>\n",
       "      <td>46</td>\n",
       "      <td>5</td>\n",
       "      <td>0</td>\n",
       "      <td>False</td>\n",
       "      <td>46.046108</td>\n",
       "      <td>1407.0</td>\n",
       "    </tr>\n",
       "    <tr>\n",
       "      <th>685</th>\n",
       "      <td>46</td>\n",
       "      <td>685</td>\n",
       "      <td>20.196428</td>\n",
       "      <td>837.598633</td>\n",
       "      <td>0.000000</td>\n",
       "      <td>46</td>\n",
       "      <td>46</td>\n",
       "      <td>5</td>\n",
       "      <td>0</td>\n",
       "      <td>False</td>\n",
       "      <td>43.988857</td>\n",
       "      <td>1288.0</td>\n",
       "    </tr>\n",
       "    <tr>\n",
       "      <th>686</th>\n",
       "      <td>46</td>\n",
       "      <td>686</td>\n",
       "      <td>15.156792</td>\n",
       "      <td>834.965332</td>\n",
       "      <td>0.000000</td>\n",
       "      <td>46</td>\n",
       "      <td>46</td>\n",
       "      <td>5</td>\n",
       "      <td>0</td>\n",
       "      <td>False</td>\n",
       "      <td>39.921741</td>\n",
       "      <td>1097.0</td>\n",
       "    </tr>\n",
       "  </tbody>\n",
       "</table>"
      ],
      "text/plain": [
       "OrderedDict([('ID', 46), ('t', [0, 1, 2, 3, 4, 5, 6, 7, 8, 9, 10, 11, 12, 13, 14, 15, 16, 17, 18, 19, 20, 21, 22, 23, 24, 25, 26, 27, 28, 29, 30, 31, 32, 33, 34, 35, 36, 37, 38, 39, 40, 41, 42, 43, 44, 45, 46, 47, 48, 49, 50, 51, 52, 53, 54, 55, 56, 57, 58, 59, 60, 61, 62, 63, 64, 65, 66, 67, 68, 69, 70, 71, 72, 73, 74, 75, 76, 77, 78, 79, 80, 81, 82, 83, 84, 85, 86, 87, 88, 89, 90, 91, 92, 93, 94, 95, 96, 97, 98, 99, 100, 101, 102, 103, 104, 105, 106, 107, 108, 109, 110, 111, 112, 113, 114, 115, 116, 117, 118, 119, 120, 121, 122, 123, 124, 125, 126, 127, 128, 129, 130, 131, 132, 133, 134, 135, 136, 137, 138, 139, 140, 141, 142, 143, 144, 145, 146, 147, 148, 149, 150, 151, 152, 153, 154, 155, 156, 157, 158, 159, 160, 161, 162, 163, 164, 165, 166, 167, 168, 169, 170, 171, 172, 173, 174, 175, 176, 177, 178, 179, 180, 181, 182, 183, 184, 185, 186, 187, 188, 189, 190, 191, 192, 193, 194, 195, 196, 197, 198, 199, 200, 201, 202, 203, 204, 205, 206, 207, 208, 209, 210, 211, 212, 213, 214, 215, 216, 217, 218, 219, 220, 221, 222, 223, 224, 225, 226, 227, 228, 229, 230, 231, 232, 233, 234, 235, 236, 237, 238, 239, 240, 241, 242, 243, 244, 245, 246, 247, 248, 249, 250, 251, 252, 253, 254, 255, 256, 257, 258, 259, 260, 261, 262, 263, 264, 265, 266, 267, 268, 269, 270, 271, 272, 273, 274, 275, 276, 277, 278, 279, 280, 281, 282, 283, 284, 285, 286, 287, 288, 289, 290, 291, 292, 293, 294, 295, 296, 297, 298, 299, 300, 301, 302, 303, 304, 305, 306, 307, 308, 309, 310, 311, 312, 313, 314, 315, 316, 317, 318, 319, 320, 321, 322, 323, 324, 325, 326, 327, 328, 329, 330, 331, 332, 333, 334, 335, 336, 337, 338, 339, 340, 341, 342, 343, 344, 345, 346, 347, 348, 349, 350, 351, 352, 353, 354, 355, 356, 357, 358, 359, 360, 361, 362, 363, 364, 365, 366, 367, 368, 369, 370, 371, 372, 373, 374, 375, 376, 377, 378, 379, 380, 381, 382, 383, 384, 385, 386, 387, 388, 389, 390, 391, 392, 393, 394, 395, 396, 397, 398, 399, 400, 401, 402, 403, 404, 405, 406, 407, 408, 409, 410, 411, 412, 413, 414, 415, 416, 417, 418, 419, 420, 421, 422, 423, 424, 425, 426, 427, 428, 429, 430, 431, 432, 433, 434, 435, 436, 437, 438, 439, 440, 441, 442, 443, 444, 445, 446, 447, 448, 449, 450, 451, 452, 453, 454, 455, 456, 457, 458, 459, 460, 461, 462, 463, 464, 465, 466, 467, 468, 469, 470, 471, 472, 473, 474, 475, 476, 477, 478, 479, 480, 481, 482, 483, 484, 485, 486, 487, 488, 489, 490, 491, 492, 493, 494, 495, 496, 497, 498, 499, 500, 501, 502, 503, 504, 505, 506, 507, 508, 509, 510, 511, 512, 513, 514, 515, 516, 517, 518, 519, 520, 521, 522, 523, 524, 525, 526, 527, 528, 529, 530, 531, 532, 533, 534, 535, 536, 537, 538, 539, 540, 541, 542, 543, 544, 545, 546, 547, 548, 549, 550, 551, 552, 553, 554, 555, 556, 557, 558, 559, 560, 561, 562, 563, 564, 565, 566, 567, 568, 569, 570, 571, 572, 573, 574, 575, 576, 577, 578, 579, 580, 581, 582, 583, 584, 585, 586, 587, 588, 589, 590, 591, 592, 593, 594, 595, 596, 597, 598, 599, 600, 601, 602, 603, 604, 605, 606, 607, 608, 609, 610, 611, 612, 613, 614, 615, 616, 617, 618, 619, 620, 621, 622, 623, 624, 625, 626, 627, 628, 629, 630, 631, 632, 633, 634, 635, 636, 637, 638, 639, 640, 641, 642, 643, 644, 645, 646, 647, 648, 649, 650, 651, 652, 653, 654, 655, 656, 657, 658, 659, 660, 661, 662, 663, 664, 665, 666, 667, 668, 669, 670, 671, 672, 673, 674, 675, 676, 677, 678, 679, 680, 681, 682, 683, 684, 685, 686]), ('x', [41.48760223388672, 43.5030517578125, 43.79039764404297, 39.32724380493164, 35.34101486206055, 34.49171447753906, 35.2507209777832, 38.582969665527344, 39.283382415771484, 40.17982482910156, 35.235652923583984, 31.923994064331055, 28.444046020507812, 35.58710861206055, 26.903900146484375, 27.853801727294922, 28.297090530395508, 28.282976150512695, 28.26885986328125, 25.576744079589844, 24.300336837768555, 29.22823715209961, 19.916969299316406, 24.623376846313477, 21.94062614440918, 26.345468521118164, 23.371051788330078, 22.390209197998047, 27.188888549804688, 25.77638816833496, 22.285404205322266, 25.76817512512207, 31.463714599609375, 33.3906135559082, 32.072303771972656, 29.836894989013672, 26.238893508911133, 37.058231353759766, 29.598159790039062, 29.86541175842285, 32.483009338378906, 32.59550476074219, 33.782318115234375, 32.53236770629883, 34.51554870605469, 39.742069244384766, 33.539615631103516, 36.497100830078125, 36.31126403808594, 40.24186325073242, 37.482181549072266, 36.22011947631836, 38.98196029663086, 32.063907623291016, 39.42737579345703, 42.40964889526367, 36.30723190307617, 40.0952033996582, 40.78823471069336, 37.541175842285156, 41.501407623291016, 34.97657775878906, 39.705665588378906, 36.032958984375, 41.162872314453125, 45.352516174316406, 42.83757400512695, 39.86873245239258, 41.31452941894531, 44.81884002685547, 43.32509231567383, 39.426597595214844, 40.634498596191406, 33.306636810302734, 41.71345138549805, 39.98587417602539, 42.39549255371094, 41.652427673339844, 42.88559341430664, 43.48490905761719, 44.01537322998047, 48.676631927490234, 47.17930603027344, 52.162994384765625, 55.07977294921875, 50.71906661987305, 53.14032745361328, 54.29537582397461, 53.44100570678711, 53.73069763183594, 59.12066650390625, 63.69914245605469, 58.38215637207031, 60.5262451171875, 61.577537536621094, 59.234859466552734, 59.04875183105469, 62.98558044433594, 62.25939178466797, 63.641563415527344, 67.06620788574219, 68.7745590209961, 66.48908996582031, 72.97636413574219, 66.99662017822266, 65.9555892944336, 65.72409057617188, 69.8143539428711, 69.20979309082031, 62.30720520019531, 60.62246322631836, 69.3776626586914, 68.05591583251953, 67.17742156982422, 61.43002700805664, 65.04592895507812, 63.352745056152344, 62.08361053466797, 56.70961380004883, 63.034549713134766, 62.29558563232422, 62.57173156738281, 62.36946105957031, 54.40318298339844, 60.08266067504883, 63.26521682739258, 62.410701751708984, 58.13186264038086, 67.03067779541016, 67.70426177978516, 65.66622924804688, 67.36509704589844, 65.10227966308594, 63.46173858642578, 66.24760437011719, 70.31122589111328, 73.93184661865234, 63.807716369628906, 64.8792953491211, 68.38644409179688, 73.51771545410156, 68.31875610351562, 66.54561614990234, 65.61772155761719, 73.28466796875, 65.8536605834961, 67.7702865600586, 65.3116226196289, 71.98743438720703, 63.36579513549805, 64.34941101074219, 64.77947998046875, 63.7236442565918, 63.777915954589844, 65.51141357421875, 67.59506225585938, 59.89805603027344, 59.3028450012207, 65.73601531982422, 63.335575103759766, 62.62775421142578, 64.87895965576172, 62.320587158203125, 61.39063262939453, 64.71581268310547, 59.60502624511719, 63.4188232421875, 60.38566970825195, 61.797611236572266, 62.23571014404297, 63.56516647338867, 64.09359741210938, 63.96154022216797, 60.36152648925781, 60.38772964477539, 61.12016677856445, 59.27408218383789, 55.68421173095703, 56.64566421508789, 56.98341751098633, 57.55422592163086, 56.08552932739258, 53.158729553222656, 50.551513671875, 49.44477844238281, 51.16707229614258, 54.87471008300781, 51.994720458984375, 46.495479583740234, 43.647239685058594, 49.21773147583008, 49.29136657714844, 45.51275634765625, 43.351707458496094, 45.1488037109375, 39.317535400390625, 42.385955810546875, 44.5278434753418, 45.13494110107422, 45.262760162353516, 42.53654479980469, 42.696537017822266, 42.36943817138672, 47.40425491333008, 47.97346115112305, 39.5255012512207, 45.58045959472656, 40.766822814941406, 40.321964263916016, 40.23543167114258, 39.94408416748047, 40.062870025634766, 37.71906661987305, 31.430280685424805, 34.6049919128418, 31.243209838867188, 34.22713088989258, 29.822452545166016, 33.48830032348633, 24.731782913208008, 30.00796127319336, 25.631732940673828, 26.941923141479492, 29.582569122314453, 25.504514694213867, 22.014925003051758, 26.21502113342285, 22.67292594909668, 22.267658233642578, 22.340200424194336, 23.703229904174805, 25.331525802612305, 22.425724029541016, 24.111635208129883, 24.53071403503418, 21.578298568725586, 21.58556365966797, 22.843114852905273, 24.1663761138916, 20.97214126586914, 25.88857650756836, 19.120256423950195, 26.932998657226562, 19.899751663208008, 25.74411964416504, 23.68269157409668, 27.499422073364258, 28.418046951293945, 24.15683937072754, 25.464820861816406, 27.543527603149414, 25.633663177490234, 29.08595085144043, 30.24309730529785, 35.865966796875, 30.67420768737793, 25.72323989868164, 29.37176513671875, 27.22821044921875, 31.30742073059082, 26.239999771118164, 32.123443603515625, 31.45779037475586, 27.857940673828125, 32.083839416503906, 34.217010498046875, 29.77498435974121, 34.0860481262207, 32.57091522216797, 32.64945983886719, 36.87007141113281, 34.84225082397461, 30.511856079101562, 36.53562927246094, 33.8088493347168, 34.352874755859375, 32.43883514404297, 37.085697174072266, 30.758934020996094, 31.47616195678711, 33.737239837646484, 32.329280853271484, 34.740631103515625, 28.39437484741211, 33.4278450012207, 31.466779708862305, 29.40603256225586, 31.15058135986328, 28.02739715576172, 31.41398811340332, 34.20195388793945, 34.775333404541016, 32.18986511230469, 30.46830177307129, 34.31479263305664, 31.830644607543945, 33.509952545166016, 31.761817932128906, 34.183815002441406, 29.090801239013672, 35.769229888916016, 32.18278884887695, 32.90746307373047, 33.11179733276367, 39.681671142578125, 35.319976806640625, 36.23909378051758, 38.88463592529297, 27.73728370666504, 35.30509567260742, 36.0886344909668, 40.2819938659668, 39.11737823486328, 35.81416320800781, 39.35662841796875, 35.12479019165039, 37.68050765991211, 36.54783248901367, 41.09760284423828, 42.96394348144531, 41.35184097290039, 42.27219772338867, 47.21615219116211, 43.75385665893555, 38.64775466918945, 40.59281921386719, 40.09639358520508, 44.63785171508789, 42.91567611694336, 36.971099853515625, 41.41727828979492, 34.236385345458984, 30.15249252319336, 37.45601272583008, 36.872642517089844, 37.63869857788086, 40.316612243652344, 34.47648239135742, 36.05885696411133, 34.52747344970703, 35.58860778808594, 36.1710319519043, 37.03065490722656, 34.5452995300293, 38.28657531738281, 30.64307403564453, 33.50209426879883, 34.72915267944336, 33.851985931396484, 31.949411392211914, 38.045326232910156, 37.03742599487305, 34.44717788696289, 38.84529113769531, 33.92911148071289, 35.08720397949219, 35.89720153808594, 38.5501823425293, 38.582279205322266, 40.458744049072266, 37.76573944091797, 41.753173828125, 36.133697509765625, 35.17308807373047, 36.05330276489258, 33.535465240478516, 34.72780227661133, 37.83238220214844, 37.392059326171875, 39.95762252807617, 37.54659652709961, 37.534149169921875, 35.96645736694336, 35.40433883666992, 36.68949890136719, 38.233604431152344, 38.47492980957031, 37.55925369262695, 35.343387603759766, 40.77241516113281, 41.06464385986328, 43.630985260009766, 39.08705139160156, 39.85540008544922, 41.076438903808594, 37.78142166137695, 44.168251037597656, 42.54191970825195, 44.114707946777344, 40.50746154785156, 42.44831466674805, 44.87857437133789, 45.75307083129883, 44.00531768798828, 42.85844421386719, 45.4967155456543, 40.11172103881836, 46.04853820800781, 45.09912872314453, 46.85099411010742, 47.5, 44.661949157714844, 39.80848693847656, 43.45209884643555, 37.87021255493164, 44.25103759765625, 47.09376525878906, 45.62002182006836, 45.59333038330078, 50.72087097167969, 47.23893737792969, 47.22438049316406, 47.22873306274414, 46.50053405761719, 50.957706451416016, 52.07082748413086, 48.01417922973633, 46.76034927368164, 48.84827423095703, 51.323143005371094, 50.693607330322266, 48.338157653808594, 50.643341064453125, 49.68208694458008, 48.293373107910156, 49.74652099609375, 47.649112701416016, 48.87013626098633, 45.39210510253906, 51.431007385253906, 47.64886474609375, 46.83135223388672, 47.059730529785156, 48.167354583740234, 45.26592254638672, 52.349605560302734, 49.787147521972656, 48.3863410949707, 47.108314514160156, 49.375, 43.691280364990234, 47.90582275390625, 46.07638168334961, 42.09618377685547, 43.359466552734375, 42.367820739746094, 43.34259796142578, 41.61370849609375, 42.055999755859375, 42.60895538330078, 43.02472686767578, 42.84490966796875, 41.653289794921875, 46.2214469909668, 45.981910705566406, 46.090370178222656, 41.468379974365234, 41.402793884277344, 42.85511779785156, 45.95235824584961, 47.12265396118164, 45.929229736328125, 45.788936614990234, 41.74447250366211, 47.9066047668457, 49.158870697021484, 48.511329650878906, 49.8966178894043, 43.336490631103516, 47.66571807861328, 49.57509994506836, 49.00953674316406, 49.40869903564453, 50.351158142089844, 49.994384765625, 50.544921875, 52.71541976928711, 48.875728607177734, 53.107547760009766, 49.727500915527344, 48.62101745605469, 46.38428497314453, 47.841278076171875, 50.082763671875, 48.930999755859375, 47.974281311035156, 49.88726043701172, 49.02116394042969, 49.378990173339844, 50.1859016418457, 52.6308708190918, 51.69747543334961, 51.35338592529297, 49.877437591552734, 51.89931106567383, 50.71830368041992, 50.659236907958984, 46.156028747558594, 48.38775634765625, 49.715843200683594, 48.82223129272461, 45.77191162109375, 45.42127990722656, 45.22380447387695, 41.83228302001953, 43.29083251953125, 46.575801849365234, 47.25344467163086, 47.39213943481445, 46.41865158081055, 48.92142868041992, 48.55963134765625, 48.84062957763672, 55.021427154541016, 50.656986236572266, 49.816795349121094, 49.567317962646484, 46.904212951660156, 48.12737274169922, 49.54875946044922, 50.926883697509766, 50.40145492553711, 44.88105392456055, 52.420936584472656, 45.45479202270508, 44.85213088989258, 43.5045280456543, 47.798980712890625, 40.70461654663086, 48.910552978515625, 46.04290008544922, 46.2767219543457, 43.6540641784668, 47.09898376464844, 48.64985275268555, 43.975032806396484, 47.15388107299805, 46.064945220947266, 48.90873718261719, 46.19630813598633, 49.18669891357422, 48.642974853515625, 46.82961654663086, 46.076717376708984, 50.51465606689453, 48.41374969482422, 51.78436279296875, 42.25511169433594, 42.15691375732422, 44.47822189331055, 44.8643684387207, 47.278221130371094, 43.48465347290039, 41.47361373901367, 46.45016860961914, 47.21290969848633, 50.80039596557617, 38.876953125, 46.56963348388672, 53.68594741821289, 46.574310302734375, 50.555755615234375, 51.04318618774414, 52.46523666381836, 45.42467498779297, 47.13679885864258, 51.59576416015625, 47.913204193115234, 45.150367736816406, 47.78438949584961, 45.46921157836914, 42.15700149536133, 49.90651321411133, 47.2918701171875, 40.26969528198242, 44.731529235839844, 44.25578308105469, 47.01698684692383, 45.64655685424805, 41.9190788269043, 48.52951431274414, 45.64094543457031, 50.715087890625, 47.63031005859375, 44.261573791503906, 49.925655364990234, 51.4672737121582, 45.7335319519043, 46.534820556640625, 50.24638366699219, 43.806922912597656, 50.021358489990234, 50.77959060668945, 47.854583740234375, 41.99445724487305, 51.997901916503906, 47.33623504638672, 49.875, 43.34052276611328, 38.73759078979492, 34.13465881347656, 29.531726837158203, 24.92879295349121, 26.51229476928711, 23.541162490844727, 28.29166603088379, 28.463783264160156, 31.496070861816406, 30.954587936401367, 28.821359634399414, 26.63914680480957, 27.983842849731445, 27.922943115234375, 31.765522003173828, 31.22884750366211, 28.062776565551758, 21.178422927856445, 20.178627014160156, 17.47850227355957, 15.052997589111328, 20.502666473388672, 16.56270408630371, 15.114378929138184, 15.391613960266113, 14.72920036315918, 16.065046310424805, 13.564906120300293, 14.3984375, 14.398353576660156, 12.416349411010742, 17.783910751342773, 15.731331825256348, 19.240642547607422, 21.61263084411621, 29.883892059326172, 24.474340438842773, 26.38138198852539, 27.53108024597168, 27.673341751098633, 33.52973937988281, 29.034404754638672, 29.819530487060547, 35.27186584472656, 38.95761489868164, 36.593544006347656, 37.87135314941406, 34.4854850769043, 36.347412109375, 33.37915802001953, 43.819847106933594, 43.666404724121094, 44.7363166809082, 41.394378662109375, 42.12480163574219, 50.01929473876953, 39.927242279052734, 37.54383087158203, 41.209144592285156, 36.72394561767578, 38.85343551635742, 39.11860656738281, 43.281742095947266, 39.489105224609375, 39.06901550292969, 39.26991271972656, 34.799232482910156, 35.154701232910156, 32.44749069213867, 29.810550689697266, 25.917192459106445, 26.296409606933594, 23.98075294494629, 23.129701614379883, 20.061748504638672, 24.772104263305664, 22.226356506347656, 19.927318572998047, 26.379924774169922, 19.451990127563477, 23.732290267944336, 24.519826889038086, 21.4157657623291, 21.34121322631836, 19.86376953125, 24.14285659790039, 20.196428298950195, 15.156791687011719]), ('y', [719.1885986328125, 723.24658203125, 723.5625, 725.3021240234375, 727.9301147460938, 729.9605102539062, 730.2860107421875, 730.5836791992188, 731.1576538085938, 731.876708984375, 733.9378662109375, 735.7734985351562, 735.9397583007812, 740.6189575195312, 739.533447265625, 740.0796508789062, 741.8912963867188, 743.8931274414062, 745.8949584960938, 741.7455444335938, 741.217529296875, 741.8683471679688, 741.6372680664062, 744.1982421875, 745.50634765625, 747.2644653320312, 750.383544921875, 746.36572265625, 743.303466796875, 742.5028076171875, 742.6416015625, 740.2359619140625, 742.1937866210938, 740.909423828125, 739.334228515625, 739.3055419921875, 738.8507080078125, 738.6405639648438, 735.5145874023438, 737.31982421875, 738.0824584960938, 738.5266723632812, 736.87744140625, 737.114990234375, 738.4678344726562, 739.653076171875, 740.617431640625, 741.8029174804688, 741.72900390625, 743.4134521484375, 743.2239990234375, 742.4114990234375, 743.0784301757812, 743.2766723632812, 744.6441040039062, 743.9257202148438, 744.3721313476562, 747.8640747070312, 746.5852661132812, 747.1793823242188, 748.77392578125, 744.7203979492188, 746.3804321289062, 745.3211669921875, 744.8895874023438, 743.567626953125, 743.9603271484375, 746.6253662109375, 746.0819091796875, 749.020263671875, 749.6464233398438, 751.9302368164062, 753.7918090820312, 754.6735229492188, 757.0146484375, 759.0571899414062, 759.0491943359375, 757.2845458984375, 758.9046630859375, 760.0870971679688, 759.7044067382812, 761.4551391601562, 760.9666748046875, 759.7650756835938, 761.2528686523438, 760.6018676757812, 761.6982421875, 763.3361206054688, 764.1282958984375, 764.4329223632812, 764.4409790039062, 765.9453735351562, 769.0104370117188, 771.7859497070312, 772.2557983398438, 773.5923461914062, 773.700927734375, 778.754150390625, 779.2637329101562, 779.3649291992188, 780.307861328125, 782.1411743164062, 781.2744750976562, 783.412841796875, 782.997314453125, 780.9743041992188, 781.337158203125, 782.4009399414062, 781.3331298828125, 778.8057861328125, 774.8328857421875, 776.1741943359375, 776.4819946289062, 776.13525390625, 775.2398071289062, 777.5675659179688, 777.8173217773438, 777.1197509765625, 778.270751953125, 779.39404296875, 778.854736328125, 779.74755859375, 780.5855712890625, 781.235107421875, 780.4778442382812, 779.4801025390625, 780.5825805664062, 780.9192504882812, 782.1397094726562, 784.8163452148438, 783.4244384765625, 782.7503051757812, 783.4039306640625, 783.5676879882812, 782.3201293945312, 784.6224365234375, 787.6679077148438, 784.7730712890625, 785.8131103515625, 788.0671997070312, 790.8744506835938, 789.8345947265625, 790.2119140625, 790.7567749023438, 791.70068359375, 791.2274169921875, 791.4290161132812, 792.171630859375, 793.6552734375, 791.1817016601562, 792.2628173828125, 795.4675903320312, 795.630126953125, 795.9136352539062, 797.2720336914062, 798.3853149414062, 797.3824462890625, 795.384033203125, 796.93359375, 797.9853515625, 800.1608276367188, 798.219482421875, 798.2870483398438, 798.5465698242188, 799.821044921875, 798.9976196289062, 800.3221435546875, 801.4361572265625, 803.7102661132812, 803.624267578125, 804.45703125, 804.771728515625, 806.3651123046875, 806.50146484375, 805.4227294921875, 805.23974609375, 803.18896484375, 803.9638671875, 804.0748901367188, 805.911376953125, 804.6422729492188, 805.4200439453125, 806.2507934570312, 805.3339233398438, 805.7947387695312, 807.1402587890625, 809.4133911132812, 809.2991333007812, 808.4635620117188, 809.9429931640625, 810.8540649414062, 813.406494140625, 814.9981079101562, 814.822021484375, 816.7708129882812, 817.1409912109375, 816.9136352539062, 817.4122314453125, 817.8433837890625, 817.368896484375, 816.3450317382812, 819.2437133789062, 817.4736328125, 818.9971923828125, 818.61376953125, 816.7421264648438, 816.4712524414062, 816.2892456054688, 814.6229858398438, 813.9052124023438, 813.4457397460938, 813.9086303710938, 813.5612182617188, 811.2794799804688, 810.13330078125, 810.2135009765625, 809.3665161132812, 807.9713134765625, 809.2144165039062, 807.9222412109375, 807.9069213867188, 809.348388671875, 809.5892333984375, 810.7824096679688, 809.9151000976562, 810.0564575195312, 813.013916015625, 812.3585815429688, 812.9231567382812, 813.0018920898438, 814.7927856445312, 816.2242431640625, 815.202880859375, 814.9462280273438, 815.9451904296875, 816.8574829101562, 816.4959106445312, 817.1929931640625, 817.328125, 815.4422607421875, 819.131103515625, 817.7388916015625, 819.3043212890625, 818.5050048828125, 818.9994506835938, 820.0420532226562, 820.5952758789062, 820.9183349609375, 818.7163696289062, 819.3252563476562, 819.619140625, 819.6290283203125, 820.2703247070312, 820.1359252929688, 822.2421264648438, 822.0729370117188, 821.8291015625, 822.3689575195312, 821.1633911132812, 821.0635986328125, 821.6577758789062, 821.8818969726562, 823.8334350585938, 823.5427856445312, 825.099609375, 826.255126953125, 823.5027465820312, 826.4320068359375, 827.2662353515625, 828.4503784179688, 827.5635986328125, 827.2731323242188, 827.7611083984375, 830.0421752929688, 832.0017700195312, 834.15673828125, 834.3129272460938, 832.4449462890625, 831.0079345703125, 829.9117431640625, 830.8248291015625, 831.6799926757812, 831.806640625, 829.1591796875, 830.2178955078125, 829.5689697265625, 829.618896484375, 829.1883544921875, 828.7249145507812, 829.9300537109375, 829.62353515625, 829.6456298828125, 828.7670288085938, 827.2625732421875, 828.0900268554688, 827.774169921875, 825.60009765625, 828.07275390625, 828.0728149414062, 825.2736206054688, 827.0479125976562, 826.8605346679688, 827.8823852539062, 827.919677734375, 827.9646606445312, 826.406494140625, 826.8731079101562, 829.1385498046875, 827.600830078125, 828.1622924804688, 825.9318237304688, 826.2120361328125, 825.4541015625, 825.349853515625, 821.8236083984375, 821.8685302734375, 822.6897583007812, 823.0297241210938, 824.0850219726562, 825.4569091796875, 824.6843872070312, 826.4129638671875, 827.1810913085938, 822.744140625, 820.3157348632812, 819.5718383789062, 821.0100708007812, 822.4666748046875, 820.2443237304688, 817.9005737304688, 818.5211791992188, 821.3690795898438, 822.1507568359375, 821.8101196289062, 822.3666381835938, 818.9160766601562, 816.7864990234375, 818.0033569335938, 817.785888671875, 816.58935546875, 817.1093139648438, 816.0094604492188, 815.3851928710938, 815.1168212890625, 815.1654663085938, 816.8729858398438, 818.0287475585938, 818.082763671875, 817.9073486328125, 818.3287963867188, 818.7599487304688, 818.3836059570312, 819.1314697265625, 817.414794921875, 818.8878784179688, 819.7667236328125, 819.412353515625, 820.0131225585938, 821.5333862304688, 822.6771240234375, 823.0266723632812, 822.9845581054688, 821.9320678710938, 822.2177734375, 824.1819458007812, 822.1901245117188, 821.519287109375, 823.0090942382812, 822.5861206054688, 821.6934204101562, 820.8650512695312, 819.1643676757812, 817.6543579101562, 815.7614135742188, 815.3037719726562, 814.36962890625, 817.9112548828125, 816.9661254882812, 812.8271484375, 814.7730102539062, 814.581787109375, 817.9149169921875, 814.9940185546875, 815.0387573242188, 814.2720947265625, 814.869384765625, 813.662353515625, 815.0372314453125, 814.8479614257812, 816.0419311523438, 816.1580810546875, 816.9773559570312, 818.397216796875, 817.6448974609375, 818.7195434570312, 820.8953857421875, 820.5016479492188, 819.4953002929688, 821.3180541992188, 823.6677856445312, 826.2174682617188, 825.1001586914062, 826.0078125, 825.0333862304688, 824.884521484375, 828.9237670898438, 829.1179809570312, 830.0123901367188, 830.6890869140625, 831.1248168945312, 828.2097778320312, 826.6844482421875, 822.947021484375, 822.322509765625, 821.782958984375, 821.3043212890625, 820.0262451171875, 818.7434692382812, 818.7501220703125, 817.9778442382812, 819.03857421875, 818.3012084960938, 819.063720703125, 818.5088500976562, 817.6178588867188, 817.4527587890625, 816.7608642578125, 815.9979248046875, 814.178466796875, 813.8955688476562, 814.1755981445312, 814.0497436523438, 813.5283203125, 813.8372802734375, 812.6206665039062, 813.3385620117188, 814.6303100585938, 813.5645751953125, 811.8316040039062, 811.3588256835938, 811.28515625, 811.0303955078125, 810.982666015625, 810.692626953125, 812.2271728515625, 810.9713134765625, 810.2713623046875, 810.8809814453125, 811.031494140625, 811.9886474609375, 811.04833984375, 811.4010620117188, 810.6436767578125, 809.2832641601562, 809.15966796875, 809.2479858398438, 809.3895874023438, 809.4172973632812, 808.3936157226562, 807.127197265625, 806.7896728515625, 804.636962890625, 804.884033203125, 804.1478881835938, 805.7396240234375, 803.7290649414062, 803.1847534179688, 803.3211059570312, 803.8509521484375, 802.5604248046875, 803.356201171875, 800.991455078125, 801.1649169921875, 801.4401245117188, 802.2710571289062, 803.5220336914062, 804.1478271484375, 800.3489990234375, 800.7721557617188, 801.593017578125, 800.4108276367188, 799.4725341796875, 801.3160400390625, 801.9299926757812, 801.9402465820312, 798.7781372070312, 801.02001953125, 801.9427490234375, 802.8203125, 800.8538208007812, 799.75634765625, 799.316650390625, 800.1799926757812, 800.7738647460938, 802.8639526367188, 803.6970825195312, 803.1347045898438, 802.9812622070312, 803.4514770507812, 806.1437377929688, 804.8602294921875, 805.9927368164062, 805.9749755859375, 807.8150634765625, 808.033447265625, 807.2000732421875, 807.8794555664062, 807.3016967773438, 806.1610717773438, 804.312744140625, 803.4224243164062, 801.1882934570312, 799.8553466796875, 799.7337036132812, 800.09130859375, 801.3191528320312, 805.202392578125, 804.7332153320312, 805.556884765625, 804.3479614257812, 803.874267578125, 803.9873046875, 802.61962890625, 804.1652221679688, 805.8512573242188, 805.949951171875, 806.7142333984375, 806.0076293945312, 802.8561401367188, 802.7889404296875, 802.685546875, 801.7490234375, 802.6870727539062, 803.7110595703125, 805.2080688476562, 803.2594604492188, 803.8599243164062, 803.0873413085938, 804.2655639648438, 802.2836303710938, 803.4423828125, 803.345947265625, 802.3697509765625, 803.8999633789062, 804.0087890625, 803.1874389648438, 805.1555786132812, 803.5608520507812, 804.8734130859375, 805.9659423828125, 805.5272827148438, 805.5101928710938, 805.6839599609375, 806.4892578125, 806.59716796875, 807.6588134765625, 806.8218383789062, 805.377197265625, 807.46630859375, 809.446044921875, 806.2625122070312, 806.5932006835938, 806.7876586914062, 806.8380737304688, 807.9473266601562, 807.5084228515625, 806.9801025390625, 807.5628051757812, 806.482421875, 808.4169921875, 807.984375, 807.7551879882812, 808.751708984375, 809.1112670898438, 809.6272583007812, 809.20703125, 810.1619262695312, 809.78173828125, 808.4349975585938, 809.6925659179688, 809.98876953125, 808.2783203125, 809.1737670898438, 807.8827514648438, 805.997802734375, 804.9810791015625, 805.9428100585938, 804.8428955078125, 803.5325317382812, 806.9549560546875, 805.4285278320312, 807.2611083984375, 805.0065307617188, 805.658935546875, 805.0221557617188, 804.6128540039062, 806.5571899414062, 805.3086547851562, 803.8993530273438, 802.1024169921875, 800.3055419921875, 798.5086059570312, 796.711669921875, 789.60107421875, 791.1343994140625, 790.3784790039062, 793.3124389648438, 795.1777954101562, 797.913818359375, 802.5233154296875, 803.9638061523438, 804.8967895507812, 806.2092895507812, 807.106201171875, 808.3722534179688, 809.8766479492188, 810.8340454101562, 811.8338623046875, 813.731689453125, 814.5186767578125, 816.7105712890625, 814.3379516601562, 812.58740234375, 814.9928588867188, 816.99755859375, 817.5172119140625, 817.4055786132812, 819.4401245117188, 820.01318359375, 818.4505615234375, 818.6821899414062, 817.5442504882812, 818.81591796875, 818.0652465820312, 819.34765625, 816.721923828125, 819.55029296875, 817.6445922851562, 818.697509765625, 820.7900390625, 820.2236328125, 819.0601806640625, 818.9081420898438, 819.3189697265625, 817.3115844726562, 819.55419921875, 817.0899658203125, 815.2733154296875, 810.9649658203125, 812.4603271484375, 815.1156005859375, 816.415771484375, 817.9140625, 820.1756591796875, 821.3572998046875, 821.685546875, 821.4437255859375, 824.2001342773438, 825.4462890625, 825.2068481445312, 825.0390625, 826.2724609375, 826.3237915039062, 826.9760131835938, 829.2529296875, 831.9432983398438, 832.3775024414062, 834.7077026367188, 833.291748046875, 834.2208251953125, 835.472900390625, 833.7824096679688, 833.8357543945312, 832.81396484375, 833.9047241210938, 832.844970703125, 835.3826293945312, 835.19775390625, 835.60107421875, 835.4131469726562, 834.784423828125, 835.3933715820312, 835.2883911132812, 836.1156005859375, 837.1535034179688, 837.5986328125, 834.96533203125]), ('z', [0.0, 0.0, 0.0, 0.0, 0.0, 0.0, 0.0, 0.0, 0.0, 0.003984331618994474, 0.0, 0.0, 0.0, 0.0, 0.0, 0.0, 0.0, 0.8083879351615906, 1.6167758703231812, 0.0, 0.0, 0.0, 0.0, 0.0, 0.0, 0.0, 0.0, 0.0, 0.0, 0.0, 0.0, 0.0, 0.0, 0.0, 0.0, 0.0, 0.0, 0.0, 0.0, 0.0, 0.0, 0.0, 0.0, 0.0, 0.0, 0.0, 0.0, 0.0, 0.0, 0.0, 0.0, 0.0, 0.0, 0.0, 0.0, 0.0, 0.0, 0.0, 0.0, 0.0, 0.0, 0.0, 0.0, 0.0, 0.0, 0.0, 0.0, 0.0, 0.0, 0.0, 0.0, 0.0, 0.0, 0.0, 0.0, 0.0, 0.0, 0.0, 0.0, 0.3688567578792572, 0.0, 0.0, 0.0, 0.0, 0.0, 0.0, 0.0, 0.0, 0.0, -0.38708096742630005, 0.0, 0.0, 0.0, 0.0, 0.0, 0.0, -0.8966766595840454, 0.0, 0.0, 0.0, 0.0, 0.6971463561058044, 0.0, 0.0, 0.0, 0.0, 0.0, 0.0, 0.0, 0.0, 0.0, 0.0, 0.0, 0.0, 0.0, 0.0, 0.0, 0.0, 0.0, 0.0, 0.0, 0.0, 0.0, 0.0, 0.0, 0.0, 0.0, 0.0, 0.0, 0.0, 0.0, 0.0, 0.0, 0.0, 0.0, 0.0, 0.0, 0.0, 0.0, 0.0, 0.0, 0.0, 0.0, 0.0, 0.0, 0.0, 0.0, 0.0, 0.0, 0.0, 0.0, 0.0, 0.0, 0.0, 0.0, 0.0, 0.0, 0.0, 0.0, 0.0, 0.0, 0.0, 0.0, 0.0, 0.0, 0.0, 0.0, 0.0, 0.0, 0.0, 0.0, 0.0, 0.0, 0.0, 0.0, 0.0, 0.0, 0.0, 0.0, 0.0, 0.0, 0.0, 0.0, 0.0, 0.0, 0.0, 0.0, 0.0, 0.0, 0.0, 0.0, 0.0, 0.0, 0.0, 0.0, 0.0, 0.0, 0.0, 0.0, 0.0, 0.0, 0.0, 0.0, 0.0, 0.0, 0.0, 0.0, 0.0, 0.0, 0.0, 0.0, 0.0, 0.0, 0.0, 0.0, 0.0, 0.0, 0.0, 0.0, 0.0, 0.0, 0.0, 0.0, 0.0, 0.0, 0.0, 0.0, 0.0, 0.0, 0.0, 0.0, 0.0, 0.0, 0.0, 0.0, 0.0, 0.0, 0.0, 0.0, 0.0, 0.0, 0.0, 0.0, 0.0, 0.0, 0.0, 0.0, 0.0, 0.0, 0.0, 0.0, 0.0, 0.0, 0.0, 0.0, 0.0, 0.0, 0.0, 0.0, 0.0, 0.0, 0.0, 0.0, 0.0, 0.0, 0.0, 0.0, 0.0, 0.0, 0.0, 0.0, 0.0, 0.0, 0.0, 0.0, 0.0, 0.0, 0.0, 0.0, 0.0, 0.0, 0.0, 0.0, 0.0, 0.0, 0.0, 0.0, 0.0, 0.0, 0.0, 0.0, 0.0, 0.0, 0.0, 0.0, 0.0, 0.0, 0.0, 0.0, 0.0, 0.0, 0.0, 0.0, 0.0, 0.0, 0.0, 0.0, 0.0, 0.0, 0.0, 0.0, 0.0, 0.0, 0.0, 0.0, 0.0, 0.0, 0.0, 0.0, 0.0, 0.0, 0.0, 0.0, 0.0, 0.0, 0.0, 0.0, 0.0, 0.0, 0.0, 0.0, 0.0, 0.0, 0.0, 0.0, 0.0, 0.0, 0.0, 0.0, 0.0, 0.0, 0.0, 0.0, 0.0, 0.0, 0.0, 0.0, 0.0, 0.0, 0.0, 0.0, 0.0, 0.0, 0.0, 0.0, 0.0, 0.0, 0.0, 0.0, 0.0, 0.0, 0.0, 0.0, 0.0, 0.0, 0.0, 0.0, 0.0, 0.0, 0.0, 0.0, 0.0, 0.0, 0.0, 0.0, 0.0, 0.0, 0.0, 0.0, 0.0, 0.0, 0.0, 0.0, 0.0, 0.0, 0.0, 0.0, 0.0, 0.0, 0.0, 0.0, 0.0, 0.0, 0.0, 0.0, 0.0, 0.0, 0.0, 0.0, 0.0, 0.0, 0.0, 0.0, 0.0, 0.0, 0.0, 0.0, 0.0, 0.0, 0.0, 0.0, 0.0, 0.0, 0.0, 0.0, 0.0, 0.0, 0.0, 0.0, 0.0, 0.0, 0.0, 0.0, 0.0, 0.0, 0.0, 0.0, 0.0, 0.0, 0.0, 0.0, 0.0, 0.0, 0.0, 0.0, 0.0, 0.0, 0.0, 0.0, 0.0, 0.0, 0.0, 0.0, 0.0, 0.0, 0.0, 0.0, 0.0, 0.0, 0.0, 0.0, 0.0, 0.0, 0.0, 0.0, 0.0, 0.0, 0.0, 0.0, 0.0, 0.0, 0.0, 0.0, 0.0, 0.0, 0.0, 0.0, 0.0, 0.0, 0.0, 0.0, 0.0, 0.0, 0.0, 0.0, 0.0, 0.0, 0.0, 0.0, 0.0, 0.0, 0.0, 0.0, 0.0, 0.0, 0.0, 0.0, 0.0, 0.0, 0.0, 0.0, 0.0, 0.0, 0.0, 0.0, 0.0, 0.0, 0.0, 0.0, 0.0, 0.0, 0.0, 0.0, 0.0, 0.0, 0.0, 0.0, 0.0, 0.0, 0.0, 0.0, 0.0, 0.0, 0.0, 0.0, 0.0, 0.0, 0.0, 0.0, 0.0, 0.0, 0.0, 0.0, 0.0, 0.0, 0.0, 0.0, 0.0, 0.0, 0.0, 0.0, 0.0, 0.0, 0.0, 0.0, 0.0, 0.0, 0.0, 0.0, 0.0, 0.0, 0.0, 0.0, 0.0, 0.0, 0.0, 0.0, 0.0, 0.0, 0.0, 0.0, 0.0, 0.0, 0.0, 0.0, 0.0, 0.0, 0.0, 0.0, 0.06469442695379257, 0.0, 0.0, 0.0, -0.07016373425722122, 0.0, 0.0, 0.0, 0.0, 0.0, 0.0, 0.0, 0.0, 0.0, 0.0, 0.0, 0.0, 0.0, 0.0, 0.0, 0.0, 0.0, 0.0, 0.0, 0.0, 0.0, 0.0, 0.0, 0.0, 0.0, 0.0, 0.0, 0.0, 0.0, 0.0, 0.0, 0.0, 0.0, 0.0, 0.0, -0.5687901973724365, -1.137580394744873, -1.7063705921173096, -2.275160789489746, 0.0, 0.0, 0.0, 0.0, 0.0, 0.0, 0.0, 0.0, 0.0, 0.0, 0.0, 0.0, 0.0, 0.0, 0.0, 0.0, 0.0, 0.0, 0.0, 0.0, 0.0, 0.0, 0.0, 0.0, 0.0, 0.0, 0.0, 0.0, 0.0, 0.0, 0.0, 0.0, 0.0, 0.0, 0.0, 0.0, 0.0, 0.0, 0.0, 0.0, 0.0, 0.0, 0.0, 0.0, 0.0, 0.0, 0.0, 0.0, 0.0, 0.0, 0.0, 0.0, 0.0, 0.0, 0.0, 0.0, 0.0, 0.0, 0.0, 0.0, 0.0, 0.0, 0.0, 0.0, 0.0, 0.0, 0.0, 0.0, 0.0, 0.0, 0.0, 0.0, 0.0, 0.0, 0.0, 0.0, 0.0, 0.0, 0.0, 0.0, 0.0, 0.0, 0.0, 0.0]), ('parent', 46), ('root', 46), ('state', [5, 5, 5, 5, 5, 5, 5, 5, 5, 5, 5, 5, 5, 5, 5, 5, 5, 5, 5, 5, 5, 5, 5, 5, 5, 5, 5, 5, 5, 5, 5, 5, 5, 5, 5, 5, 5, 5, 5, 5, 5, 5, 5, 5, 5, 5, 5, 5, 5, 5, 5, 5, 5, 5, 5, 5, 5, 5, 5, 5, 5, 5, 5, 5, 5, 5, 5, 5, 5, 5, 5, 5, 5, 5, 5, 5, 5, 5, 5, 5, 5, 5, 5, 5, 5, 5, 5, 5, 5, 5, 5, 5, 5, 5, 5, 5, 5, 5, 5, 5, 5, 5, 5, 5, 5, 5, 5, 5, 5, 5, 5, 5, 5, 5, 5, 5, 5, 5, 5, 5, 5, 5, 5, 5, 5, 5, 5, 5, 5, 5, 5, 5, 5, 5, 5, 5, 5, 5, 5, 5, 5, 5, 5, 5, 5, 5, 5, 5, 5, 5, 5, 5, 5, 5, 5, 5, 5, 5, 5, 5, 5, 5, 5, 5, 5, 5, 5, 5, 5, 5, 5, 5, 5, 5, 5, 5, 5, 5, 5, 5, 5, 5, 5, 5, 5, 5, 5, 5, 5, 5, 5, 5, 5, 5, 5, 5, 5, 5, 5, 5, 5, 5, 5, 5, 5, 5, 5, 5, 5, 5, 5, 5, 5, 5, 5, 5, 5, 5, 5, 5, 5, 5, 5, 5, 5, 5, 5, 5, 5, 5, 5, 5, 5, 5, 5, 5, 5, 5, 5, 5, 5, 5, 5, 5, 5, 5, 5, 5, 5, 5, 5, 5, 5, 5, 5, 5, 5, 5, 5, 5, 5, 5, 5, 5, 5, 5, 5, 5, 5, 5, 5, 5, 5, 5, 5, 5, 5, 5, 5, 5, 5, 5, 5, 5, 5, 5, 5, 5, 5, 5, 5, 5, 5, 5, 5, 5, 5, 5, 5, 5, 5, 5, 5, 5, 5, 5, 5, 5, 5, 5, 5, 5, 5, 5, 5, 5, 5, 5, 5, 5, 5, 5, 5, 5, 5, 5, 5, 5, 5, 5, 5, 5, 5, 5, 5, 5, 5, 5, 5, 5, 5, 5, 5, 5, 5, 5, 5, 5, 5, 5, 5, 5, 5, 5, 5, 5, 5, 5, 5, 5, 5, 5, 5, 5, 5, 5, 5, 5, 5, 5, 5, 5, 5, 5, 5, 5, 5, 5, 5, 5, 5, 5, 5, 5, 5, 5, 5, 5, 5, 5, 5, 5, 5, 5, 5, 5, 5, 5, 5, 5, 5, 5, 5, 5, 5, 5, 5, 5, 5, 5, 5, 5, 5, 5, 5, 5, 5, 5, 5, 5, 5, 5, 5, 5, 5, 5, 5, 5, 5, 5, 5, 5, 5, 5, 5, 5, 5, 5, 5, 5, 5, 5, 5, 5, 5, 5, 5, 5, 5, 5, 5, 5, 5, 5, 5, 5, 5, 5, 5, 5, 5, 5, 5, 5, 5, 5, 5, 5, 5, 5, 5, 5, 5, 5, 5, 5, 5, 5, 5, 5, 5, 5, 5, 5, 5, 5, 5, 5, 5, 5, 5, 5, 5, 5, 5, 5, 5, 5, 5, 5, 5, 5, 5, 5, 5, 5, 5, 5, 5, 5, 5, 5, 5, 5, 5, 5, 5, 5, 5, 5, 5, 5, 5, 5, 5, 5, 5, 5, 5, 5, 5, 5, 5, 5, 5, 5, 5, 5, 5, 5, 5, 5, 5, 5, 5, 5, 5, 5, 5, 5, 5, 5, 5, 5, 5, 5, 5, 5, 5, 5, 5, 5, 5, 5, 5, 5, 5, 5, 5, 5, 5, 5, 5, 5, 5, 5, 5, 5, 5, 5, 5, 5, 5, 5, 5, 5, 5, 5, 5, 5, 5, 5, 5, 5, 5, 5, 5, 5, 5, 5, 5, 5, 5, 5, 5, 5, 5, 5, 5, 5, 5, 5, 5, 5, 5, 5, 5, 5, 5, 5, 5, 5, 5, 5, 5, 5, 5, 5, 5, 5, 5, 5, 5, 5, 5, 5, 5, 5, 5, 5, 5, 5, 5, 5, 5, 5, 5, 5, 5, 5, 5, 5, 5, 5, 5, 5, 5, 5, 5, 5, 5, 5, 5, 5, 5, 5, 5, 5, 5, 5, 5, 5, 5, 5, 5, 5, 5, 5, 5, 5, 5, 5, 5, 5, 5, 5, 5]), ('generation', 0), ('dummy', [False, False, False, False, False, False, False, False, False, True, False, False, False, False, False, False, False, True, True, False, False, False, False, False, False, False, False, False, False, False, False, False, False, False, False, False, False, False, False, False, False, False, False, False, False, False, False, False, False, False, False, False, False, False, False, False, False, False, False, False, False, False, False, False, False, False, False, False, False, False, False, False, False, False, False, False, False, False, False, True, False, False, False, False, False, False, False, False, False, True, False, False, False, False, False, False, True, False, False, False, False, True, False, False, False, False, False, False, False, False, False, False, False, False, False, False, False, False, False, False, False, False, False, False, False, False, False, False, False, False, False, False, False, False, False, False, False, False, False, False, False, False, False, False, False, False, False, False, False, False, False, False, False, False, False, False, False, False, False, False, False, False, False, False, False, False, False, False, False, False, False, False, False, False, False, False, False, False, False, False, False, False, False, False, False, False, False, False, False, False, False, False, False, False, False, False, False, False, False, False, False, False, False, False, False, False, False, False, False, False, False, False, False, False, False, False, False, False, False, False, False, False, False, False, False, False, False, False, False, False, False, False, False, False, False, False, False, False, False, False, False, False, False, False, False, False, False, False, False, False, False, False, False, False, False, False, False, False, False, False, False, False, False, False, False, False, False, False, False, False, False, False, False, False, False, False, False, False, False, False, False, False, False, False, False, False, False, False, False, False, False, False, False, False, False, False, False, False, False, False, False, False, False, False, False, False, False, False, False, False, False, False, False, False, False, False, False, False, False, False, False, False, False, False, False, False, False, False, False, False, False, False, False, False, False, False, False, False, False, False, False, False, False, False, False, False, False, False, False, False, False, False, False, False, False, False, False, False, False, False, False, False, False, False, False, False, False, False, False, False, False, False, False, False, False, False, False, False, False, False, False, False, False, False, False, False, False, False, False, False, False, False, False, False, False, False, False, False, False, False, False, False, False, False, False, False, False, False, False, False, False, False, False, False, False, False, False, False, False, False, False, False, False, False, False, False, False, False, False, False, False, False, False, False, False, False, False, False, False, False, False, False, False, False, False, False, False, False, False, False, False, False, False, False, False, False, False, False, False, False, False, False, False, False, False, False, False, False, False, False, False, False, False, False, False, False, False, False, False, False, False, False, False, False, False, False, False, False, False, False, False, False, False, False, False, False, False, False, False, False, False, False, False, False, False, False, False, False, False, False, False, False, False, False, False, False, False, False, False, False, False, False, False, False, False, False, False, False, False, False, False, False, False, False, False, False, False, False, False, False, False, False, False, False, False, False, False, False, False, False, False, False, False, False, False, False, False, False, False, True, False, False, False, True, False, False, False, False, False, False, False, False, False, False, False, False, False, False, False, False, False, False, False, False, False, False, False, False, False, False, False, False, False, False, False, False, False, False, False, True, True, True, True, False, False, False, False, False, False, False, False, False, False, False, False, False, False, False, False, False, False, False, False, False, False, False, False, False, False, False, False, False, False, False, False, False, False, False, False, False, False, False, False, False, False, False, False, False, False, False, False, False, False, False, False, False, False, False, False, False, False, False, False, False, False, False, False, False, False, False, False, False, False, False, False, False, False, False, False, False, False, False, False, False, False, False, False]), ('major_axis_length', array([43.94213486, 43.35857773, 44.60724258, 43.10694504, 42.83652496,\n",
       "       41.95384216, 44.81399536, 43.8823967 , 46.45687866,         nan,\n",
       "       45.8824501 , 43.72024155, 45.54986954, 45.28764343, 45.59940338,\n",
       "       45.53614044, 46.74945068,         nan,         nan, 46.82756424,\n",
       "       46.02526474, 45.46083832, 45.00267029, 47.54088593, 48.74032974,\n",
       "       47.073349  , 50.42729187, 48.12038422, 47.68606567, 46.12516785,\n",
       "       47.44552231, 46.96605682, 45.07855225, 47.10944748, 48.27256393,\n",
       "       46.36553574, 46.17159271, 45.8871994 , 44.0996933 , 45.46905518,\n",
       "       45.75943375, 46.04294205, 45.64133453, 45.52338028, 47.00297165,\n",
       "       47.27616882, 45.08002853, 44.42827225, 45.98721695, 44.48004532,\n",
       "       45.67044067, 46.43785858, 45.63719559, 45.67325592, 43.92727661,\n",
       "       44.93753815, 46.217556  , 45.73325348, 43.92829514, 44.27232361,\n",
       "       47.06309128, 45.99972534, 45.78183746, 45.97340012, 44.58100891,\n",
       "       43.60480881, 42.94615555, 44.36693573, 42.44278717, 45.77516937,\n",
       "       44.96840286, 46.17720413, 43.4775238 , 44.29153442, 44.75760269,\n",
       "       45.91324234, 46.85013962, 44.94266891, 47.57406998,         nan,\n",
       "       47.6051445 , 47.72761154, 46.42416763, 45.2659874 , 46.68068314,\n",
       "       45.28730011, 46.68817139, 46.78309631, 49.43202972,         nan,\n",
       "       47.67840576, 45.70288849, 46.31832504, 47.34449768, 45.38965225,\n",
       "       46.84489441,         nan, 47.20176697, 45.99544907, 48.10546875,\n",
       "       48.34986877,         nan, 47.47486496, 47.05123138, 48.27669907,\n",
       "       47.98687363, 49.3177681 , 49.64790344, 48.93714523, 48.58573914,\n",
       "       49.7336235 , 50.28644943, 49.90180969, 51.00936508, 49.71110916,\n",
       "       50.24373245, 48.3534584 , 48.84671021, 49.26575089, 48.80439377,\n",
       "       50.85343552, 47.79967117, 48.83542633, 48.1659317 , 48.63383484,\n",
       "       52.65501785, 48.22185516, 51.41051483, 48.82497406, 47.01448822,\n",
       "       48.69071579, 47.39048004, 48.38658142, 47.32681274, 52.07666016,\n",
       "       48.6565094 , 49.61283493, 48.15097046, 50.04202652, 52.74765396,\n",
       "       51.33873749, 51.22373962, 52.90076828, 48.5620842 , 50.72364044,\n",
       "       50.15501404, 51.82027817, 51.90087891, 51.52289963, 50.76157761,\n",
       "       49.29659653, 51.09021759, 52.15833282, 51.33034134, 50.88239288,\n",
       "       53.83774185, 50.04876328, 50.11447906, 53.11130142, 51.10337067,\n",
       "       51.44614792, 54.98814774, 52.53115845, 53.57509995, 51.31897736,\n",
       "       52.60100174, 50.80455017, 51.91427994, 51.28366852, 50.8011322 ,\n",
       "       50.97714996, 52.22775269, 52.28968811, 52.25902176, 51.51360321,\n",
       "       53.36999893, 52.76771164, 51.11904907, 51.80437088, 49.79114914,\n",
       "       52.60949707, 52.14467239, 51.97524261, 52.74349213, 52.1928215 ,\n",
       "       51.5647583 , 51.39977264, 52.90444946, 52.99720001, 51.43545914,\n",
       "       51.5594101 , 53.72242737, 51.3624115 , 53.24239731, 53.29478836,\n",
       "       53.00500488, 51.86781311, 52.27890778, 51.42998886, 54.1828804 ,\n",
       "       54.37913513, 52.8742485 , 52.53518295, 53.04418564, 53.33942413,\n",
       "       53.63441467, 51.87466431, 51.9730072 , 50.96957016, 51.20438004,\n",
       "       52.81261444, 50.03872299, 49.80397415, 50.65774536, 50.37032318,\n",
       "       50.24588013, 51.59108734, 52.64315414, 50.87058258, 53.43639755,\n",
       "       50.90197754, 52.86555099, 52.53919601, 49.01194382, 52.74354935,\n",
       "       49.6220932 , 54.00386047, 50.26153564, 50.47743988, 50.54606628,\n",
       "       51.33681488, 52.22491074, 50.04994583, 51.20710754, 52.27951813,\n",
       "       51.92353821, 51.85657883, 51.71564102, 51.49932861, 53.01964188,\n",
       "       53.65262985, 50.83843613, 52.16559601, 49.5368309 , 51.20650864,\n",
       "       51.39746475, 52.28796768, 52.25793076, 52.74068069, 52.52658844,\n",
       "       52.07825089, 51.72805786, 52.14248657, 52.7816124 , 52.49854279,\n",
       "       52.89190292, 51.57608414, 55.10358429, 53.90694427, 51.90571213,\n",
       "       51.74851608, 51.28194427, 52.75527954, 50.66939926, 50.83900452,\n",
       "       51.89879608, 50.19600677, 53.22016144, 51.15056229, 52.79537201,\n",
       "       52.50716019, 52.17154694, 51.83664703, 51.22433853, 51.97930145,\n",
       "       52.96447372, 53.21902466, 52.15374756, 53.60597229, 51.90493011,\n",
       "       52.02121353, 51.39759445, 50.7600708 , 50.33577728, 51.88642502,\n",
       "       52.21328735, 51.88905716, 51.49534225, 51.60433578, 52.34604645,\n",
       "       50.86066818, 51.61326981, 52.24972153, 52.7205162 , 53.6946907 ,\n",
       "       53.03142166, 52.73114777, 51.0940094 , 51.33018494, 51.3095932 ,\n",
       "       52.74998474, 52.60054779, 52.13124847, 50.806633  , 54.04169464,\n",
       "       52.40744019, 52.50388718, 53.62678146, 52.6475563 , 53.33480835,\n",
       "       53.56084824, 54.84240723, 52.04945374, 50.96073151, 52.31272888,\n",
       "       52.78494644, 53.83674622, 51.70262527, 52.4643898 , 52.62403107,\n",
       "       52.5047226 , 52.70295334, 52.11825562, 52.11698151, 53.39125061,\n",
       "       53.08987045, 52.53229904, 52.62310791, 55.41211319, 53.46115875,\n",
       "       52.31800461, 54.11624908, 52.52988434, 53.14529419, 53.62212753,\n",
       "       55.60935974, 54.13381195, 54.42427444, 52.26498413, 52.94971466,\n",
       "       52.9902153 , 52.02828598, 52.83296204, 53.08585358, 52.90775299,\n",
       "       50.75399017, 50.87844086, 51.59284592, 50.68443298, 52.03251266,\n",
       "       51.60154343, 51.96259689, 51.45615387, 52.96380615, 52.2417717 ,\n",
       "       53.32288742, 53.0127182 , 55.30470657, 52.72447205, 55.18125153,\n",
       "       53.33203506, 54.53914261, 53.57407761, 53.66604614, 52.2534256 ,\n",
       "       52.78346634, 52.50692749, 54.48038483, 53.82184601, 54.65732574,\n",
       "       53.30409241, 53.66528702, 54.20218658, 53.38877869, 55.09687042,\n",
       "       53.00491714, 52.67450714, 52.52258301, 53.35735703, 52.13259888,\n",
       "       52.60564804, 54.04130554, 54.60186768, 53.30822754, 53.43545151,\n",
       "       53.56211853, 53.48368835, 54.85262299, 54.86787796, 53.36629868,\n",
       "       54.04640198, 54.07249832, 53.86687469, 55.50993347, 54.68960953,\n",
       "       53.61211395, 53.37189484, 53.61705399, 54.20271301, 54.78600311,\n",
       "       54.16893768, 54.14892197, 54.24982071, 54.33713531, 52.49988556,\n",
       "       54.26049042, 55.60858917, 53.00532913, 54.92268372, 54.92854691,\n",
       "       54.79747009, 53.92588425, 56.72777176, 54.74885559, 54.15568161,\n",
       "       53.95372391, 54.98670578, 53.38689804, 54.35001373, 55.59102249,\n",
       "       54.31672668, 54.07912827, 55.36768341, 55.07732773, 51.96115112,\n",
       "       56.42085266, 55.84777069, 55.8305397 , 55.22285843, 54.61795044,\n",
       "       57.57741928, 55.55524445, 57.43957138, 58.04243851, 54.90480804,\n",
       "       55.5518837 , 56.1859169 , 55.33971405, 57.8655777 , 55.1957016 ,\n",
       "       55.65625381, 58.02428055, 55.23303986, 56.44530487, 56.61740494,\n",
       "       57.88666534, 57.10904312, 55.28492355, 55.19429779, 55.17364502,\n",
       "       52.74819183, 53.85733414, 54.04046631, 56.50611496, 54.94855881,\n",
       "       52.86952972, 54.53923798, 53.46640396, 55.46077728, 55.84144974,\n",
       "       56.88582993, 58.80269241, 57.17644882, 57.29022217, 59.70769501,\n",
       "       58.43507767, 58.95437622, 59.09687424, 56.7114296 , 59.60779953,\n",
       "       57.26406479, 56.16905594, 56.966465  , 56.85007095, 56.89765549,\n",
       "       56.00222778, 55.44283295, 55.64862823, 58.50510025, 55.78828812,\n",
       "       55.51291275, 56.26018143, 58.14146423, 57.38465118, 56.9113121 ,\n",
       "       57.81204987, 58.87393951, 59.46784592, 55.46966171, 57.95056534,\n",
       "       56.14619446, 56.2285881 , 57.60791016, 57.04590225, 57.32628632,\n",
       "       57.09874725, 57.03798294, 56.61759567, 57.7485733 , 57.86116028,\n",
       "       58.95203781, 57.3187027 , 58.06286621, 58.61036682, 58.60406113,\n",
       "       59.51770401, 57.78865814, 58.55016708, 59.28674698, 57.79639816,\n",
       "       57.42085266, 59.8157959 , 59.83617783, 61.58259201, 59.04668045,\n",
       "       57.99200821, 58.40842819, 58.64380646, 59.31673431, 60.08743668,\n",
       "       58.56871033, 58.79975891, 58.18251801, 59.60580063, 57.86128235,\n",
       "       58.59999084, 59.06455994, 61.26533508, 61.03557205, 63.90447235,\n",
       "       64.19129181, 63.27047729, 62.54356003, 61.1746521 , 63.36896896,\n",
       "       60.96332169, 60.98645401, 62.49632645, 60.38652039, 60.59430313,\n",
       "       62.89335632, 62.80653   , 60.88195801, 59.82253647, 61.48231125,\n",
       "       61.77347946, 64.12619019, 59.40246964, 62.22176361, 61.44441605,\n",
       "       60.6432457 , 60.13587952, 61.45134735, 62.27904892, 62.98326111,\n",
       "       59.56143951, 62.11591339, 58.37450409, 57.86774826,         nan,\n",
       "       57.72087097, 58.29759598, 57.74471664,         nan, 55.79780197,\n",
       "       57.64630127, 57.1890564 , 55.65194321, 57.7768364 , 57.28347015,\n",
       "       59.67669296, 59.5643959 , 61.1386528 , 62.4164505 , 61.31453705,\n",
       "       58.63045502, 59.02369308, 60.12221527, 61.49667358, 56.2801857 ,\n",
       "       59.03303146, 59.05340958, 59.34375381, 60.52964401, 60.13169861,\n",
       "       60.60215759, 60.71844864, 60.03435898, 58.30036163, 60.823246  ,\n",
       "       59.8681488 , 57.58795929, 59.74735641, 58.6787796 , 58.07877731,\n",
       "       60.56713104, 59.25675964, 53.73436356, 47.79830933,         nan,\n",
       "               nan,         nan,         nan, 35.85823441, 35.29579926,\n",
       "       35.907444  , 37.56348419, 39.72710037, 40.54185486, 38.19148254,\n",
       "       38.17109299, 39.39180374, 38.97052765, 40.78856277, 40.71465683,\n",
       "       44.0617218 , 42.22917938, 42.61380386, 41.78759766, 42.04666901,\n",
       "       42.15093613, 41.8700676 , 43.9301796 , 44.40737915, 45.08798981,\n",
       "       44.16392899, 44.05239487, 44.27927017, 45.62568665, 44.76476288,\n",
       "       43.77075958, 44.50268555, 43.4893837 , 45.10892105, 44.83721161,\n",
       "       43.60678864, 42.30513382, 44.68825912, 45.51079559, 45.00232697,\n",
       "       43.34070587, 41.28049469, 43.24013901, 42.62242889, 46.35032654,\n",
       "       42.68680573, 43.61556625, 43.11796951, 39.51971817, 41.8729248 ,\n",
       "       42.33827591, 43.82357788, 41.01998901, 41.80161285, 44.83134842,\n",
       "       40.78199768, 42.56191635, 42.45165634, 41.68784332, 42.11101151,\n",
       "       44.13319397, 44.638237  , 42.62911987, 42.33332825, 43.42375565,\n",
       "       43.56952667, 44.65646362, 44.07474136, 42.80828094, 41.44887543,\n",
       "       41.69174194, 40.97358704, 42.66596985, 41.90780258, 41.31739426,\n",
       "       41.84030533, 41.24597549, 42.86969757, 41.36229706, 42.84053421,\n",
       "       42.75279999, 41.83905411, 42.2114563 , 42.29317474, 46.04610825,\n",
       "       43.98885727, 39.92174149])), ('area', array([1331., 1310., 1312., 1314., 1302., 1267., 1388., 1374., 1408.,\n",
       "         nan, 1481., 1342., 1394., 1412., 1436., 1368., 1444.,   nan,\n",
       "         nan, 1505., 1485., 1367., 1373., 1463., 1499., 1346., 1520.,\n",
       "       1430., 1440., 1440., 1384., 1458., 1378., 1513., 1466., 1404.,\n",
       "       1373., 1391., 1304., 1382., 1383., 1424., 1346., 1313., 1447.,\n",
       "       1450., 1401., 1380., 1465., 1352., 1375., 1322., 1275., 1377.,\n",
       "       1315., 1306., 1341., 1376., 1360., 1360., 1420., 1409., 1359.,\n",
       "       1426., 1449., 1390., 1336., 1356., 1294., 1380., 1335., 1376.,\n",
       "       1316., 1311., 1368., 1416., 1464., 1381., 1416.,   nan, 1431.,\n",
       "       1472., 1411., 1362., 1404., 1374., 1468., 1449., 1551.,   nan,\n",
       "       1558., 1519., 1345., 1467., 1380., 1354.,   nan, 1387., 1384.,\n",
       "       1381., 1465.,   nan, 1421., 1354., 1479., 1441., 1486., 1519.,\n",
       "       1573., 1416., 1478., 1504., 1556., 1612., 1472., 1524., 1511.,\n",
       "       1495., 1529., 1505., 1563., 1422., 1467., 1446., 1488., 1610.,\n",
       "       1495., 1585., 1532., 1454., 1522., 1490., 1535., 1529., 1668.,\n",
       "       1568., 1614., 1529., 1541., 1682., 1609., 1578., 1699., 1546.,\n",
       "       1637., 1640., 1676., 1643., 1671., 1684., 1617., 1696., 1679.,\n",
       "       1621., 1621., 1783., 1697., 1651., 1716., 1636., 1679., 1768.,\n",
       "       1700., 1751., 1682., 1671., 1583., 1605., 1591., 1557., 1711.,\n",
       "       1656., 1690., 1679., 1630., 1681., 1609., 1634., 1603., 1568.,\n",
       "       1669., 1707., 1575., 1650., 1666., 1640., 1732., 1705., 1659.,\n",
       "       1613., 1658., 1668., 1607., 1669., 1754., 1688., 1609., 1652.,\n",
       "       1660., 1724., 1765., 1674., 1708., 1786., 1771., 1745., 1740.,\n",
       "       1694., 1671., 1699., 1842., 1686., 1584., 1671., 1643., 1583.,\n",
       "       1607., 1639., 1581., 1633., 1633., 1708., 1653., 1526., 1661.,\n",
       "       1541., 1651., 1651., 1614., 1602., 1641., 1659., 1656., 1693.,\n",
       "       1807., 1705., 1718., 1772., 1719., 1723., 1777., 1555., 1791.,\n",
       "       1606., 1743., 1664., 1732., 1751., 1696., 1734., 1746., 1717.,\n",
       "       1687., 1847., 1813., 1768., 1691., 1778., 1744., 1698., 1575.,\n",
       "       1685., 1765., 1612., 1646., 1705., 1631., 1720., 1664., 1763.,\n",
       "       1801., 1794., 1729., 1684., 1695., 1774., 1684., 1762., 1763.,\n",
       "       1699., 1724., 1728., 1681., 1671., 1767., 1761., 1724., 1720.,\n",
       "       1752., 1773., 1639., 1727., 1717., 1672., 1744., 1736., 1708.,\n",
       "       1650., 1730., 1685., 1794., 1778., 1675., 1619., 1866., 1722.,\n",
       "       1765., 1725., 1671., 1688., 1760., 1844., 1755., 1652., 1803.,\n",
       "       1795., 1734., 1683., 1752., 1775., 1711., 1712., 1684., 1751.,\n",
       "       1780., 1810., 1691., 1770., 1850., 1730., 1771., 1726., 1705.,\n",
       "       1796., 1751., 1907., 1794., 1786., 1784., 1729., 1738., 1795.,\n",
       "       1729., 1755., 1825., 1653., 1671., 1691., 1662., 1700., 1787.,\n",
       "       1710., 1666., 1784., 1721., 1766., 1751., 1903., 1738., 1818.,\n",
       "       1763., 1811., 1825., 1791., 1726., 1720., 1712., 1754., 1788.,\n",
       "       1817., 1749., 1801., 1759., 1798., 1781., 1845., 1735., 1772.,\n",
       "       1724., 1740., 1748., 1775., 1838., 1805., 1753., 1830., 1789.,\n",
       "       1825., 1822., 1742., 1809., 1853., 1790., 1881., 1865., 1826.,\n",
       "       1826., 1916., 1836., 1812., 1830., 1837., 1791., 1858., 1749.,\n",
       "       1928., 1941., 1858., 1859., 1931., 1921., 1854., 1963., 1876.,\n",
       "       1797., 1906., 1904., 1836., 1885., 1897., 1893., 1866., 1915.,\n",
       "       1859., 1735., 2012., 1861., 1902., 1849., 1819., 1891., 1850.,\n",
       "       1942., 1942., 1790., 1905., 1945., 1874., 1948., 1920., 1869.,\n",
       "       1975., 1846., 1913., 1875., 2020., 1979., 1882., 1875., 1854.,\n",
       "       1820., 1915., 1869., 2005., 1935., 1859., 1866., 1862., 1974.,\n",
       "       1973., 1973., 2176., 2061., 2035., 2120., 2052., 2030., 2099.,\n",
       "       2006., 2109., 2024., 1992., 1977., 1945., 1959., 1881., 1887.,\n",
       "       1891., 2120., 1978., 1884., 1858., 2098., 2042., 1942., 1983.,\n",
       "       2049., 2079., 1942., 2114., 1937., 1980., 1978., 1950., 2036.,\n",
       "       2027., 2019., 1974., 2009., 2108., 2132., 2065., 2077., 2109.,\n",
       "       2063., 2149., 2124., 2032., 2086., 1973., 1960., 2071., 2102.,\n",
       "       2287., 2169., 2096., 2154., 2088., 2214., 2256., 2243., 2202.,\n",
       "       2127., 2264., 2212., 2137., 2208., 2358., 2231., 2426., 2331.,\n",
       "       2367., 2301., 2364., 2379., 2243., 2320., 2325., 2312., 2221.,\n",
       "       2421., 2434., 2242., 2229., 2388., 2342., 2430., 2152., 2307.,\n",
       "       2204., 2234., 2250., 2313., 2236., 2388., 2339., 2520., 2113.,\n",
       "       2226.,   nan, 2133., 2242., 2223.,   nan, 2164., 2193., 2313.,\n",
       "       2189., 2301., 2319., 2436., 2414., 2610., 2436., 2310., 2328.,\n",
       "       2334., 2355., 2453., 2212., 2321., 2242., 2492., 2448., 2290.,\n",
       "       2327., 2307., 2368., 2197., 2419., 2196., 2294., 2450., 2290.,\n",
       "       2165., 2384., 2299., 1960., 1530.,   nan,   nan,   nan,   nan,\n",
       "        732.,  826.,  864.,  925., 1018., 1079., 1030., 1078., 1114.,\n",
       "       1142., 1224., 1241., 1354., 1205., 1282., 1256., 1151., 1313.,\n",
       "       1228., 1224., 1264., 1226., 1276., 1117., 1152., 1215., 1052.,\n",
       "       1268., 1299., 1309., 1425., 1490., 1442., 1332., 1480., 1448.,\n",
       "       1429., 1337., 1280., 1372., 1392., 1518., 1337., 1378., 1255.,\n",
       "       1142., 1310., 1280., 1407., 1245., 1258., 1503., 1237., 1289.,\n",
       "       1334., 1257., 1310., 1408., 1402., 1331., 1333., 1356., 1305.,\n",
       "       1351., 1276., 1251., 1268., 1309., 1195., 1303., 1247., 1312.,\n",
       "       1290., 1197., 1345., 1281., 1341., 1387., 1294., 1269., 1358.,\n",
       "       1407., 1288., 1097.]))])"
      ]
     },
     "execution_count": 126,
     "metadata": {},
     "output_type": "execute_result"
    }
   ],
   "source": [
    "cell"
   ]
  },
  {
   "cell_type": "code",
   "execution_count": 128,
   "metadata": {},
   "outputs": [
    {
     "data": {
      "text/plain": [
       "719.1885986328125"
      ]
     },
     "execution_count": 128,
     "metadata": {},
     "output_type": "execute_result"
    }
   ],
   "source": [
    "y"
   ]
  },
  {
   "cell_type": "code",
   "execution_count": 129,
   "metadata": {},
   "outputs": [
    {
     "data": {
      "text/plain": [
       "(41.48760223388672, 105.48760223388672, 719.1885986328125, 783.1885986328125)"
      ]
     },
     "execution_count": 129,
     "metadata": {},
     "output_type": "execute_result"
    }
   ],
   "source": [
    "x1, x2, y1, y2"
   ]
  },
  {
   "cell_type": "code",
   "execution_count": 142,
   "metadata": {},
   "outputs": [
    {
     "data": {
      "text/plain": [
       "'/run/user/1000/gvfs/smb-share:server=lowe-sn00.biochem.ucl.ac.uk,share=lowegrp/Data/Manasi/MK0000/Pos0/gfp_tracks_2021_05_28_06_28_16_PM.h5'"
      ]
     },
     "execution_count": 142,
     "metadata": {},
     "output_type": "execute_result"
    }
   ],
   "source": [
    "tracks_path"
   ]
  }
 ],
 "metadata": {
  "kernelspec": {
   "display_name": "py3.9",
   "language": "python",
   "name": "py3.9"
  },
  "language_info": {
   "codemirror_mode": {
    "name": "ipython",
    "version": 3
   },
   "file_extension": ".py",
   "mimetype": "text/x-python",
   "name": "python",
   "nbconvert_exporter": "python",
   "pygments_lexer": "ipython3",
   "version": "3.9.4"
  }
 },
 "nbformat": 4,
 "nbformat_minor": 4
}
