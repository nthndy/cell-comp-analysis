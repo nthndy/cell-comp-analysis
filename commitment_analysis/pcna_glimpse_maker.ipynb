{
 "cells": [
  {
   "cell_type": "markdown",
   "metadata": {},
   "source": [
    "# PCNA Glimpse generation\n",
    "\n",
    "This notebook is designed to generate large amount of cropped images of cells with the PCNA-irfp marker for a cluster analysis"
   ]
  },
  {
   "cell_type": "code",
   "execution_count": 1,
   "metadata": {},
   "outputs": [],
   "source": [
    "import btrack\n",
    "import matplotlib.pyplot as plt\n",
    "import os, glob, re\n",
    "from skimage.io import imread, imsave, imshow\n",
    "from tqdm import tqdm\n",
    "import numpy as np\n",
    "from pathlib import Path\n",
    "import shutil\n",
    "from natsort import natsorted\n",
    "from PIL import Image\n",
    "import warnings\n",
    "warnings.filterwarnings('ignore') ###bc imsave throws up low contrast warnings"
   ]
  },
  {
   "cell_type": "markdown",
   "metadata": {},
   "source": [
    "# Set params"
   ]
  },
  {
   "cell_type": "code",
   "execution_count": 2,
   "metadata": {},
   "outputs": [
    {
     "name": "stdout",
     "output_type": "stream",
     "text": [
      "['Position1', 'Position2', 'Position3', 'Position4', 'Position5']\n"
     ]
    }
   ],
   "source": [
    "log = []\n",
    "\n",
    "#expt_root_folder = '/home/nathan/data/confocal/pcna'#\n",
    "expt_root_folder = '/run/user/1000/gvfs/smb-share:server=lowe-sn00.biochem.ucl.ac.uk,share=lowegrp/Data/Manasi'\n",
    "\n",
    "#expt = 'MK0000'\n",
    "\n",
    "channels = '2'#['003'] ### bf 000 gfp 001 rfp 002 irfp 003\n",
    "\n",
    "#focal_time_range = (0, 800) ### this particular expt stays in focus in this time range\n",
    "\n",
    "glimpse_size = (64,64)\n",
    "\n",
    "pos_list = natsorted([pos for pos in os.listdir(expt_root_folder) if 'Pos' in pos]) # natsorted([pos for pos in os.listdir(os.path.join(expt_root_folder, expt)) if 'Pos' in pos])\n",
    "print(pos_list)"
   ]
  },
  {
   "cell_type": "code",
   "execution_count": 5,
   "metadata": {},
   "outputs": [
    {
     "data": {
      "text/plain": [
       "'/home/nathan/data/confocal/pcna/Position5/irfp_tracks_2021_08_09_05_47_51_PM.h5'"
      ]
     },
     "execution_count": 5,
     "metadata": {},
     "output_type": "execute_result"
    }
   ],
   "source": [
    "tracks_path"
   ]
  },
  {
   "cell_type": "code",
   "execution_count": 6,
   "metadata": {},
   "outputs": [
    {
     "name": "stderr",
     "output_type": "stream",
     "text": [
      "  0%|          | 0/5 [00:00<?, ?it/s][INFO][2021/08/09 05:56:28 PM] Opening HDF file: /home/nathan/data/confocal/pcna/Position1/irfp_tracks_2021_08_09_05_47_35_PM.h5...\n",
      "[INFO][2021/08/09 05:56:28 PM] Loading tracks/obj_type_1\n",
      "[INFO][2021/08/09 05:56:28 PM] Loading objects/obj_type_1 (13218, 5) (13218 filtered: None)\n",
      "[INFO][2021/08/09 05:56:28 PM] Closing HDF file: /home/nathan/data/confocal/pcna/Position1/irfp_tracks_2021_08_09_05_47_35_PM.h5\n"
     ]
    },
    {
     "name": "stdout",
     "output_type": "stream",
     "text": [
      "starting Position1\n",
      "Position1tracking file loaded\n",
      "Position1number of glimpses to be generated:246\n",
      "Loading image channel 2\n",
      "Image loaded\n"
     ]
    },
    {
     "name": "stderr",
     "output_type": "stream",
     "text": [
      "\n",
      "  0%|          | 0/246 [00:00<?, ?it/s]\u001b[A\n",
      "  4%|▍         | 11/246 [00:00<00:02, 109.29it/s]\u001b[A"
     ]
    },
    {
     "name": "stdout",
     "output_type": "stream",
     "text": [
      "attemptingPosition1cell ID46\n",
      "Position1cell ID46glimpse saved\n",
      "attemptingPosition1cell ID32\n",
      "Position1cell ID32glimpse saved\n",
      "attemptingPosition1cell ID33\n",
      "Position1cell ID33glimpse saved\n",
      "attemptingPosition1cell ID34\n",
      "Position1cell ID34glimpse saved\n",
      "attemptingPosition1cell ID35\n",
      "Position1cell ID35glimpse saved\n",
      "attemptingPosition1cell ID36\n",
      "Position1cell ID36glimpse saved\n",
      "attemptingPosition1cell ID37\n",
      "Position1cell ID37glimpse saved\n",
      "attemptingPosition1cell ID38\n",
      "Position1cell ID38glimpse saved\n",
      "attemptingPosition1cell ID39\n",
      "Position1cell ID39glimpse saved\n",
      "attemptingPosition1cell ID40\n",
      "Position1cell ID40glimpse saved\n",
      "attemptingPosition1cell ID41\n",
      "Position1cell ID41glimpse saved\n",
      "attemptingPosition1cell ID42\n",
      "Position1cell ID42glimpse saved\n",
      "attemptingPosition1cell ID43\n",
      "Position1cell ID43glimpse saved\n",
      "attemptingPosition1cell ID44\n",
      "Position1cell ID44glimpse saved\n",
      "attemptingPosition1cell ID45\n",
      "Position1cell ID45glimpse saved\n",
      "attemptingPosition1cell ID2\n",
      "Position1cell ID2glimpse saved\n",
      "attemptingPosition1cell ID47\n",
      "Position1cell ID47glimpse saved\n",
      "attemptingPosition1cell ID48\n",
      "Position1cell ID48glimpse saved\n",
      "attemptingPosition1cell ID49\n",
      "Position1cell ID49glimpse saved\n",
      "attemptingPosition1cell ID50\n"
     ]
    },
    {
     "name": "stderr",
     "output_type": "stream",
     "text": [
      "\n",
      "  9%|▉         | 22/246 [00:00<00:05, 42.28it/s] \u001b[A"
     ]
    },
    {
     "name": "stdout",
     "output_type": "stream",
     "text": [
      "Position1cell ID50glimpse saved\n",
      "attemptingPosition1cell ID51\n",
      "Position1cell ID51glimpse saved\n",
      "attemptingPosition1cell ID52\n",
      "Position1cell ID52glimpse saved\n",
      "attemptingPosition1cell ID53\n",
      "Position1cell ID53glimpse saved\n",
      "attemptingPosition1cell ID54\n",
      "Position1cell ID54glimpse saved\n",
      "attemptingPosition1cell ID55\n",
      "Position1cell ID55glimpse saved\n",
      "attemptingPosition1cell ID56\n",
      "Position1cell ID56glimpse saved\n",
      "attemptingPosition1cell ID57\n"
     ]
    },
    {
     "name": "stderr",
     "output_type": "stream",
     "text": [
      "\n",
      " 12%|█▏        | 29/246 [00:00<00:05, 37.70it/s]\u001b[A\n",
      " 15%|█▌        | 37/246 [00:00<00:04, 44.86it/s]\u001b[A"
     ]
    },
    {
     "name": "stdout",
     "output_type": "stream",
     "text": [
      "Position1cell ID57glimpse saved\n",
      "attemptingPosition1cell ID58\n",
      "Position1cell ID58glimpse saved\n",
      "attemptingPosition1cell ID59\n",
      "Position1cell ID59glimpse saved\n",
      "attemptingPosition1cell ID1\n",
      "Position1cell ID1glimpse saved\n",
      "attemptingPosition1cell ID4\n",
      "Position1cell ID4glimpse saved\n",
      "attemptingPosition1cell ID31\n",
      "Position1cell ID31glimpse saved\n",
      "attemptingPosition1cell ID3\n",
      "Position1cell ID3glimpse saved\n",
      "attemptingPosition1cell ID5\n",
      "Position1cell ID5glimpse saved\n",
      "attemptingPosition1cell ID6\n",
      "Position1cell ID6glimpse saved\n",
      "attemptingPosition1cell ID7\n",
      "Position1cell ID7glimpse saved\n",
      "attemptingPosition1cell ID8\n",
      "Position1cell ID8glimpse saved\n",
      "attemptingPosition1cell ID9\n",
      "Position1cell ID9glimpse saved\n",
      "attemptingPosition1cell ID10\n",
      "Position1cell ID10glimpse saved\n",
      "attemptingPosition1cell ID11\n"
     ]
    },
    {
     "name": "stderr",
     "output_type": "stream",
     "text": [
      "\n",
      " 18%|█▊        | 44/246 [00:00<00:04, 50.07it/s]\u001b[A\n",
      " 22%|██▏       | 54/246 [00:01<00:03, 56.83it/s]\u001b[A"
     ]
    },
    {
     "name": "stdout",
     "output_type": "stream",
     "text": [
      "Position1cell ID11glimpse saved\n",
      "attemptingPosition1cell ID12\n",
      "Position1cell ID12glimpse saved\n",
      "attemptingPosition1cell ID13\n",
      "Position1cell ID13glimpse saved\n",
      "attemptingPosition1cell ID14\n",
      "Position1cell ID14glimpse saved\n",
      "attemptingPosition1cell ID15\n",
      "Position1cell ID15glimpse saved\n",
      "attemptingPosition1cell ID16\n",
      "Position1cell ID16glimpse saved\n",
      "attemptingPosition1cell ID18\n",
      "Position1cell ID18glimpse saved\n",
      "attemptingPosition1cell ID30\n",
      "Position1cell ID30glimpse saved\n",
      "attemptingPosition1cell ID29\n",
      "Position1cell ID29glimpse saved\n",
      "attemptingPosition1cell ID28\n",
      "Position1cell ID28glimpse saved\n",
      "attemptingPosition1cell ID27\n",
      "Position1cell ID27glimpse saved\n",
      "attemptingPosition1cell ID26\n",
      "Position1cell ID26glimpse saved\n",
      "attemptingPosition1cell ID25\n",
      "Position1cell ID25glimpse saved\n",
      "attemptingPosition1cell ID23\n",
      "Position1cell ID23glimpse saved\n",
      "attemptingPosition1cell ID19\n",
      "Position1cell ID19glimpse saved\n",
      "attemptingPosition1cell ID20\n"
     ]
    },
    {
     "name": "stderr",
     "output_type": "stream",
     "text": [
      "\n",
      " 25%|██▍       | 61/246 [00:01<00:03, 50.68it/s]\u001b[A"
     ]
    },
    {
     "name": "stdout",
     "output_type": "stream",
     "text": [
      "Position1cell ID20glimpse saved\n",
      "attemptingPosition1cell ID24\n",
      "Position1cell ID24glimpse saved\n",
      "attemptingPosition1cell ID22\n",
      "Position1cell ID22glimpse saved\n",
      "attemptingPosition1cell ID21\n",
      "Position1cell ID21glimpse saved\n",
      "attemptingPosition1cell ID60\n",
      "Position1cell ID60glimpse saved\n",
      "attemptingPosition1cell ID61\n",
      "Position1cell ID61glimpse saved\n",
      "attemptingPosition1cell ID62\n",
      "Position1cell ID62glimpse saved\n",
      "attemptingPosition1cell ID63\n",
      "Position1cell ID63glimpse saved\n",
      "attemptingPosition1cell ID64\n",
      "Position1cell ID64glimpse saved\n",
      "attemptingPosition1cell ID65\n",
      "Position1cell ID65glimpse saved\n",
      "attemptingPosition1cell ID66\n",
      "Position1cell ID66glimpse saved\n",
      "attemptingPosition1cell ID67\n"
     ]
    },
    {
     "name": "stderr",
     "output_type": "stream",
     "text": [
      "\n",
      " 27%|██▋       | 67/246 [00:01<00:03, 47.93it/s]\u001b[A\n",
      " 30%|██▉       | 73/246 [00:01<00:03, 44.75it/s]\u001b[A"
     ]
    },
    {
     "name": "stdout",
     "output_type": "stream",
     "text": [
      "Position1cell ID67glimpse saved\n",
      "attemptingPosition1cell ID68\n",
      "Position1cell ID68glimpse saved\n",
      "attemptingPosition1cell ID69\n",
      "Position1cell ID69glimpse saved\n",
      "attemptingPosition1cell ID70\n",
      "Position1cell ID70glimpse saved\n",
      "attemptingPosition1cell ID74\n",
      "Position1cell ID74glimpse saved\n",
      "attemptingPosition1cell ID73\n",
      "Position1cell ID73glimpse saved\n",
      "attemptingPosition1cell ID75\n",
      "Position1cell ID75glimpse saved\n",
      "attemptingPosition1cell ID76\n",
      "Position1cell ID76glimpse saved\n",
      "attemptingPosition1cell ID77\n"
     ]
    },
    {
     "name": "stderr",
     "output_type": "stream",
     "text": [
      "\n",
      " 34%|███▍      | 84/246 [00:01<00:02, 56.99it/s]\u001b[A"
     ]
    },
    {
     "name": "stdout",
     "output_type": "stream",
     "text": [
      "Position1cell ID77glimpse saved\n",
      "attemptingPosition1cell ID80\n",
      "Position1cell ID80glimpse saved\n",
      "attemptingPosition1cell ID81\n",
      "Position1cell ID81glimpse saved\n",
      "attemptingPosition1cell ID82\n",
      "Position1cell ID82glimpse saved\n",
      "attemptingPosition1cell ID83\n",
      "Position1cell ID83glimpse saved\n",
      "attemptingPosition1cell ID84\n",
      "Position1cell ID84glimpse saved\n",
      "attemptingPosition1cell ID85\n",
      "Position1cell ID85glimpse saved\n",
      "attemptingPosition1cell ID87\n",
      "Position1cell ID87glimpse saved\n",
      "attemptingPosition1cell ID86\n",
      "Position1cell ID86glimpse saved\n",
      "attemptingPosition1cell ID89\n",
      "Position1cell ID89glimpse saved\n",
      "attemptingPosition1cell ID90\n",
      "Position1cell ID90glimpse saved\n",
      "attemptingPosition1cell ID91\n",
      "Position1cell ID91glimpse saved\n",
      "attemptingPosition1cell ID93\n",
      "Position1cell ID93glimpse saved\n",
      "attemptingPosition1cell ID94\n",
      "Position1cell ID94glimpse saved\n",
      "attemptingPosition1cell ID97\n"
     ]
    },
    {
     "name": "stderr",
     "output_type": "stream",
     "text": [
      "\n",
      " 37%|███▋      | 91/246 [00:01<00:03, 43.67it/s]\u001b[A"
     ]
    },
    {
     "name": "stdout",
     "output_type": "stream",
     "text": [
      "Position1cell ID97glimpse saved\n",
      "attemptingPosition1cell ID98\n",
      "Position1cell ID98glimpse saved\n",
      "attemptingPosition1cell ID99\n",
      "Position1cell ID99glimpse saved\n",
      "attemptingPosition1cell ID100\n",
      "Position1cell ID100glimpse saved\n",
      "attemptingPosition1cell ID102\n",
      "Position1cell ID102glimpse saved\n",
      "attemptingPosition1cell ID103\n",
      "Position1cell ID103glimpse saved\n",
      "attemptingPosition1cell ID104\n",
      "Position1cell ID104glimpse saved\n",
      "attemptingPosition1cell ID105\n",
      "Position1cell ID105glimpse saved\n",
      "attemptingPosition1cell ID106\n"
     ]
    },
    {
     "name": "stderr",
     "output_type": "stream",
     "text": [
      "\n",
      " 39%|███▉      | 97/246 [00:02<00:03, 40.24it/s]\u001b[A\n",
      " 43%|████▎     | 107/246 [00:02<00:02, 51.48it/s]\u001b[A"
     ]
    },
    {
     "name": "stdout",
     "output_type": "stream",
     "text": [
      "Position1cell ID106glimpse saved\n",
      "attemptingPosition1cell ID107\n",
      "Position1cell ID107glimpse saved\n",
      "attemptingPosition1cell ID108\n",
      "Position1cell ID108glimpse saved\n",
      "attemptingPosition1cell ID109\n",
      "Position1cell ID109glimpse saved\n",
      "attemptingPosition1cell ID111\n",
      "Position1cell ID111glimpse saved\n",
      "attemptingPosition1cell ID112\n",
      "Position1cell ID112glimpse saved\n",
      "attemptingPosition1cell ID113\n",
      "Position1cell ID113glimpse saved\n",
      "attemptingPosition1cell ID115\n",
      "Position1cell ID115glimpse saved\n",
      "attemptingPosition1cell ID117\n",
      "Position1cell ID117glimpse saved\n",
      "attemptingPosition1cell ID118\n",
      "Position1cell ID118glimpse saved\n",
      "attemptingPosition1cell ID116\n",
      "Position1cell ID116glimpse saved\n",
      "attemptingPosition1cell ID119\n",
      "Position1cell ID119glimpse saved\n",
      "attemptingPosition1cell ID120\n",
      "Position1cell ID120glimpse saved\n",
      "attemptingPosition1cell ID121\n"
     ]
    },
    {
     "name": "stderr",
     "output_type": "stream",
     "text": [
      "\n",
      " 47%|████▋     | 115/246 [00:02<00:02, 52.61it/s]\u001b[A"
     ]
    },
    {
     "name": "stdout",
     "output_type": "stream",
     "text": [
      "Position1cell ID121glimpse saved\n",
      "attemptingPosition1cell ID122\n",
      "Position1cell ID122glimpse saved\n",
      "attemptingPosition1cell ID123\n",
      "Position1cell ID123glimpse saved\n",
      "attemptingPosition1cell ID124\n",
      "Position1cell ID124glimpse saved\n",
      "attemptingPosition1cell ID125\n",
      "Position1cell ID125glimpse saved\n",
      "attemptingPosition1cell ID128\n",
      "Position1cell ID128glimpse saved\n",
      "attemptingPosition1cell ID129\n",
      "Position1cell ID129glimpse saved\n",
      "attemptingPosition1cell ID127\n",
      "Position1cell ID127glimpse saved\n",
      "attemptingPosition1cell ID126\n",
      "Position1cell ID126glimpse saved\n",
      "attemptingPosition1cell ID130\n",
      "Position1cell ID130glimpse saved\n",
      "attemptingPosition1cell ID131\n",
      "Position1cell ID131glimpse saved\n",
      "attemptingPosition1cell ID132\n"
     ]
    },
    {
     "name": "stderr",
     "output_type": "stream",
     "text": [
      "\n",
      " 49%|████▉     | 121/246 [00:02<00:02, 42.20it/s]\u001b[A\n",
      " 51%|█████     | 126/246 [00:02<00:02, 40.46it/s]\u001b[A"
     ]
    },
    {
     "name": "stdout",
     "output_type": "stream",
     "text": [
      "Position1cell ID132glimpse saved\n",
      "attemptingPosition1cell ID134\n",
      "Position1cell ID134glimpse saved\n",
      "attemptingPosition1cell ID136\n",
      "Position1cell ID136glimpse saved\n",
      "attemptingPosition1cell ID137\n",
      "Position1cell ID137glimpse saved\n",
      "attemptingPosition1cell ID138\n",
      "Position1cell ID138glimpse saved\n",
      "attemptingPosition1cell ID140\n",
      "Position1cell ID140glimpse saved\n",
      "attemptingPosition1cell ID141\n",
      "Position1cell ID141glimpse saved\n",
      "attemptingPosition1cell ID144\n"
     ]
    },
    {
     "name": "stderr",
     "output_type": "stream",
     "text": [
      "\n",
      " 54%|█████▍    | 134/246 [00:02<00:02, 47.99it/s]\u001b[A\n",
      " 57%|█████▋    | 140/246 [00:02<00:02, 48.99it/s]\u001b[A"
     ]
    },
    {
     "name": "stdout",
     "output_type": "stream",
     "text": [
      "Position1cell ID144glimpse saved\n",
      "attemptingPosition1cell ID143\n",
      "Position1cell ID143glimpse saved\n",
      "attemptingPosition1cell ID145\n",
      "Position1cell ID145glimpse saved\n",
      "attemptingPosition1cell ID146\n",
      "Position1cell ID146glimpse saved\n",
      "attemptingPosition1cell ID147\n",
      "Position1cell ID147glimpse saved\n",
      "attemptingPosition1cell ID148\n",
      "Position1cell ID148glimpse saved\n",
      "attemptingPosition1cell ID149\n",
      "Position1cell ID149glimpse saved\n",
      "attemptingPosition1cell ID150\n",
      "Position1cell ID150glimpse saved\n",
      "attemptingPosition1cell ID153\n",
      "Position1cell ID153glimpse saved\n",
      "attemptingPosition1cell ID154\n",
      "Position1cell ID154glimpse saved\n",
      "attemptingPosition1cell ID155\n",
      "Position1cell ID155glimpse saved\n",
      "attemptingPosition1cell ID156\n",
      "Position1cell ID156glimpse saved\n",
      "attemptingPosition1cell ID157\n",
      "Position1cell ID157glimpse saved\n",
      "attemptingPosition1cell ID158\n",
      "Position1cell ID158glimpse saved\n",
      "attemptingPosition1cell ID159\n",
      "Position1cell ID159glimpse saved\n",
      "attemptingPosition1cell ID160\n"
     ]
    },
    {
     "name": "stderr",
     "output_type": "stream",
     "text": [
      "\n",
      " 59%|█████▉    | 146/246 [00:03<00:02, 49.23it/s]\u001b[A"
     ]
    },
    {
     "name": "stdout",
     "output_type": "stream",
     "text": [
      "Position1cell ID160glimpse saved\n",
      "attemptingPosition1cell ID161\n",
      "Position1cell ID161glimpse saved\n",
      "attemptingPosition1cell ID162\n",
      "Position1cell ID162glimpse saved\n",
      "attemptingPosition1cell ID163\n",
      "Position1cell ID163glimpse saved\n",
      "attemptingPosition1cell ID164\n",
      "Position1cell ID164glimpse saved\n",
      "attemptingPosition1cell ID165\n",
      "Position1cell ID165glimpse saved\n",
      "attemptingPosition1cell ID167\n",
      "Position1cell ID167glimpse saved\n",
      "attemptingPosition1cell ID168\n",
      "Position1cell ID168glimpse saved\n",
      "attemptingPosition1cell ID169\n",
      "Position1cell ID169glimpse saved\n",
      "attemptingPosition1cell ID170\n",
      "Position1cell ID170glimpse saved\n",
      "attemptingPosition1cell ID171\n",
      "Position1cell ID171glimpse saved\n",
      "attemptingPosition1cell ID172\n",
      "Position1cell ID172glimpse saved\n",
      "attemptingPosition1cell ID173\n"
     ]
    },
    {
     "name": "stderr",
     "output_type": "stream",
     "text": [
      "\n",
      " 63%|██████▎   | 154/246 [00:03<00:01, 56.29it/s]\u001b[A\n",
      " 66%|██████▌   | 162/246 [00:03<00:01, 62.04it/s]\u001b[A"
     ]
    },
    {
     "name": "stdout",
     "output_type": "stream",
     "text": [
      "Position1cell ID173glimpse saved\n",
      "attemptingPosition1cell ID174\n",
      "Position1cell ID174glimpse saved\n",
      "attemptingPosition1cell ID175\n",
      "Position1cell ID175glimpse saved\n",
      "attemptingPosition1cell ID176\n",
      "Position1cell ID176glimpse saved\n",
      "attemptingPosition1cell ID177\n",
      "Position1cell ID177glimpse saved\n",
      "attemptingPosition1cell ID178\n",
      "Position1cell ID178glimpse saved\n",
      "attemptingPosition1cell ID179\n",
      "Position1cell ID179glimpse saved\n",
      "attemptingPosition1cell ID180\n",
      "Position1cell ID180glimpse saved\n",
      "attemptingPosition1cell ID181\n",
      "Position1cell ID181glimpse saved\n",
      "attemptingPosition1cell ID182\n",
      "Position1cell ID182glimpse saved\n",
      "attemptingPosition1cell ID183\n",
      "Position1cell ID183glimpse saved\n",
      "attemptingPosition1cell ID185\n",
      "Position1cell ID185glimpse saved\n",
      "attemptingPosition1cell ID187\n",
      "Position1cell ID187glimpse saved\n",
      "attemptingPosition1cell ID188\n",
      "Position1cell ID188glimpse saved\n",
      "attemptingPosition1cell ID189\n",
      "Position1cell ID189glimpse saved\n",
      "attemptingPosition1cell ID190\n",
      "Position1cell ID190glimpse saved\n",
      "attemptingPosition1cell ID191\n"
     ]
    },
    {
     "name": "stderr",
     "output_type": "stream",
     "text": [
      "\n",
      " 69%|██████▉   | 170/246 [00:03<00:01, 64.45it/s]\u001b[A\n",
      " 74%|███████▍  | 183/246 [00:03<00:00, 78.65it/s]\u001b[A"
     ]
    },
    {
     "name": "stdout",
     "output_type": "stream",
     "text": [
      "Position1cell ID191glimpse saved\n",
      "attemptingPosition1cell ID193\n",
      "Position1cell ID193glimpse saved\n",
      "attemptingPosition1cell ID194\n",
      "Position1cell ID194glimpse saved\n",
      "attemptingPosition1cell ID195\n",
      "Position1cell ID195glimpse saved\n",
      "attemptingPosition1cell ID196\n",
      "Position1cell ID196glimpse saved\n",
      "attemptingPosition1cell ID197\n",
      "Position1cell ID197glimpse saved\n",
      "attemptingPosition1cell ID198\n",
      "Position1cell ID198glimpse saved\n",
      "attemptingPosition1cell ID199\n",
      "Position1cell ID199glimpse saved\n",
      "attemptingPosition1cell ID201\n",
      "Position1cell ID201glimpse saved\n",
      "attemptingPosition1cell ID202\n",
      "Position1cell ID202glimpse saved\n",
      "attemptingPosition1cell ID203\n",
      "Position1cell ID203glimpse saved\n",
      "attemptingPosition1cell ID204\n",
      "Position1cell ID204glimpse saved\n",
      "attemptingPosition1cell ID205\n",
      "Position1cell ID205glimpse saved\n",
      "attemptingPosition1cell ID206\n",
      "Position1cell ID206glimpse saved\n",
      "attemptingPosition1cell ID207\n",
      "Position1cell ID207glimpse saved\n",
      "attemptingPosition1cell ID208\n",
      "Position1cell ID208glimpse saved\n",
      "attemptingPosition1cell ID209\n",
      "Position1cell ID209glimpse saved\n",
      "attemptingPosition1cell ID210\n",
      "Position1cell ID210glimpse saved\n",
      "attemptingPosition1cell ID211\n",
      "Position1cell ID211glimpse saved\n",
      "attemptingPosition1cell ID214\n"
     ]
    },
    {
     "name": "stderr",
     "output_type": "stream",
     "text": [
      "\n",
      " 78%|███████▊  | 192/246 [00:03<00:00, 73.50it/s]\u001b[A\n",
      " 87%|████████▋ | 213/246 [00:03<00:00, 105.71it/s]\u001b[A"
     ]
    },
    {
     "name": "stdout",
     "output_type": "stream",
     "text": [
      "Position1cell ID214glimpse saved\n",
      "attemptingPosition1cell ID212\n",
      "Position1cell ID212glimpse saved\n",
      "attemptingPosition1cell ID213\n",
      "Position1cell ID213glimpse saved\n",
      "attemptingPosition1cell ID215\n",
      "Position1cell ID215glimpse saved\n",
      "attemptingPosition1cell ID217\n",
      "Position1cell ID217glimpse saved\n",
      "attemptingPosition1cell ID218\n",
      "Position1cell ID218glimpse saved\n",
      "attemptingPosition1cell ID219\n",
      "Position1cell ID219glimpse saved\n",
      "attemptingPosition1cell ID220\n",
      "Position1cell ID220glimpse saved\n",
      "attemptingPosition1cell ID221\n",
      "Position1cell ID221glimpse saved\n",
      "attemptingPosition1cell ID222\n",
      "Position1cell ID222glimpse saved\n",
      "attemptingPosition1cell ID223\n",
      "Position1cell ID223glimpse saved\n",
      "attemptingPosition1cell ID224\n",
      "Position1cell ID224glimpse saved\n",
      "attemptingPosition1cell ID225\n",
      "Position1cell ID225glimpse saved\n",
      "attemptingPosition1cell ID230\n",
      "Position1cell ID230glimpse saved\n",
      "attemptingPosition1cell ID231\n",
      "Position1cell ID231glimpse saved\n",
      "attemptingPosition1cell ID235\n",
      "Position1cell ID235glimpse saved\n",
      "attemptingPosition1cell ID236\n",
      "Position1cell ID236glimpse saved\n",
      "attemptingPosition1cell ID233\n",
      "Position1cell ID233glimpse saved\n",
      "attemptingPosition1cell ID232\n",
      "Position1cell ID232glimpse saved\n",
      "attemptingPosition1cell ID234\n",
      "Position1cell ID234glimpse saved\n",
      "attemptingPosition1cell ID237\n",
      "Position1cell ID237glimpse saved\n",
      "attemptingPosition1cell ID238\n",
      "Position1cell ID238glimpse saved\n",
      "attemptingPosition1cell ID239\n",
      "Position1cell ID239glimpse saved\n",
      "attemptingPosition1cell ID240\n",
      "Position1cell ID240glimpse saved\n",
      "attemptingPosition1cell ID241\n",
      "Position1cell ID241glimpse saved\n",
      "attemptingPosition1cell ID242\n",
      "Position1cell ID242glimpse saved\n",
      "attemptingPosition1cell ID243\n",
      "Position1cell ID243glimpse saved\n",
      "attemptingPosition1cell ID244\n",
      "Position1cell ID244glimpse saved\n",
      "attemptingPosition1cell ID245\n",
      "Position1cell ID245glimpse saved\n",
      "attemptingPosition1cell ID246\n",
      "Position1cell ID246glimpse saved\n",
      "attemptingPosition1cell ID247\n",
      "Position1cell ID247glimpse saved\n",
      "attemptingPosition1cell ID248\n",
      "Position1cell ID248glimpse saved\n",
      "attemptingPosition1cell ID252\n",
      "Position1cell ID252glimpse saved\n",
      "attemptingPosition1cell ID251\n",
      "Position1cell ID251glimpse saved\n",
      "attemptingPosition1cell ID250\n",
      "Position1cell ID250glimpse saved\n",
      "attemptingPosition1cell ID255\n",
      "Position1cell ID255glimpse saved\n",
      "attemptingPosition1cell ID256\n"
     ]
    },
    {
     "name": "stderr",
     "output_type": "stream",
     "text": [
      "100%|██████████| 246/246 [00:03<00:00, 63.95it/s] \n",
      " 20%|██        | 1/5 [00:04<00:19,  4.90s/it][INFO][2021/08/09 05:56:33 PM] Opening HDF file: /home/nathan/data/confocal/pcna/Position2/irfp_tracks_2021_08_09_05_47_39_PM.h5...\n",
      "[INFO][2021/08/09 05:56:33 PM] Loading tracks/obj_type_1\n",
      "[INFO][2021/08/09 05:56:33 PM] Loading objects/obj_type_1 (10421, 5) (10421 filtered: None)\n",
      "[INFO][2021/08/09 05:56:33 PM] Closing HDF file: /home/nathan/data/confocal/pcna/Position2/irfp_tracks_2021_08_09_05_47_39_PM.h5\n"
     ]
    },
    {
     "name": "stdout",
     "output_type": "stream",
     "text": [
      "Position1cell ID256glimpse saved\n",
      "attemptingPosition1cell ID257\n",
      "Position1cell ID257glimpse saved\n",
      "attemptingPosition1cell ID259\n",
      "Position1cell ID259glimpse saved\n",
      "attemptingPosition1cell ID262\n",
      "Position1cell ID262glimpse saved\n",
      "attemptingPosition1cell ID261\n",
      "Position1cell ID261glimpse saved\n",
      "attemptingPosition1cell ID264\n",
      "Position1cell ID264glimpse saved\n",
      "attemptingPosition1cell ID265\n",
      "Position1cell ID265glimpse saved\n",
      "attemptingPosition1cell ID266\n",
      "Position1cell ID266glimpse saved\n",
      "attemptingPosition1cell ID267\n",
      "Position1cell ID267glimpse saved\n",
      "attemptingPosition1cell ID268\n",
      "Position1cell ID268glimpse saved\n",
      "attemptingPosition1cell ID269\n",
      "Position1cell ID269glimpse saved\n",
      "attemptingPosition1cell ID270\n",
      "Position1cell ID270glimpse saved\n",
      "attemptingPosition1cell ID274\n",
      "Position1cell ID274glimpse saved\n",
      "attemptingPosition1cell ID273\n",
      "Position1cell ID273glimpse saved\n",
      "attemptingPosition1cell ID271\n",
      "Position1cell ID271glimpse saved\n",
      "attemptingPosition1cell ID275\n",
      "Position1cell ID275glimpse saved\n",
      "attemptingPosition1cell ID276\n",
      "Position1cell ID276glimpse saved\n",
      "attemptingPosition1cell ID277\n",
      "Position1cell ID277glimpse saved\n",
      "attemptingPosition1cell ID278\n",
      "Position1cell ID278glimpse saved\n",
      "attemptingPosition1cell ID279\n",
      "Position1cell ID279glimpse saved\n",
      "attemptingPosition1cell ID280\n",
      "Position1cell ID280glimpse saved\n",
      "attemptingPosition1cell ID281\n",
      "Position1cell ID281glimpse saved\n",
      "starting Position2\n",
      "Position2tracking file loaded\n",
      "Position2number of glimpses to be generated:206\n",
      "Loading image channel 2\n",
      "Image loaded\n"
     ]
    },
    {
     "name": "stderr",
     "output_type": "stream",
     "text": [
      "\n",
      "  0%|          | 0/206 [00:00<?, ?it/s]\u001b[A\n",
      "  1%|          | 2/206 [00:00<00:12, 16.02it/s]\u001b[A"
     ]
    },
    {
     "name": "stdout",
     "output_type": "stream",
     "text": [
      "attemptingPosition2cell ID48\n",
      "Position2cell ID48glimpse saved\n",
      "attemptingPosition2cell ID33\n",
      "Position2cell ID33glimpse saved\n",
      "attemptingPosition2cell ID34\n",
      "Position2cell ID34glimpse saved\n",
      "attemptingPosition2cell ID35\n",
      "Position2cell ID35glimpse saved\n",
      "attemptingPosition2cell ID36\n"
     ]
    },
    {
     "name": "stderr",
     "output_type": "stream",
     "text": [
      "\n",
      "  4%|▍         | 8/206 [00:00<00:06, 29.06it/s]\u001b[A"
     ]
    },
    {
     "name": "stdout",
     "output_type": "stream",
     "text": [
      "Position2cell ID36glimpse saved\n",
      "attemptingPosition2cell ID37\n",
      "Position2cell ID37glimpse saved\n",
      "attemptingPosition2cell ID38\n",
      "Position2cell ID38glimpse saved\n",
      "attemptingPosition2cell ID39\n",
      "Position2cell ID39glimpse saved\n",
      "attemptingPosition2cell ID40\n",
      "Position2cell ID40glimpse saved\n",
      "attemptingPosition2cell ID41\n",
      "Position2cell ID41glimpse saved\n",
      "attemptingPosition2cell ID42\n",
      "Position2cell ID42glimpse saved\n",
      "attemptingPosition2cell ID43\n"
     ]
    },
    {
     "name": "stderr",
     "output_type": "stream",
     "text": [
      "\n",
      "  6%|▌         | 12/206 [00:00<00:06, 28.76it/s]\u001b[A\n",
      "  9%|▊         | 18/206 [00:00<00:05, 36.12it/s]\u001b[A"
     ]
    },
    {
     "name": "stdout",
     "output_type": "stream",
     "text": [
      "Position2cell ID43glimpse saved\n",
      "attemptingPosition2cell ID44\n",
      "Position2cell ID44glimpse saved\n",
      "attemptingPosition2cell ID45\n",
      "Position2cell ID45glimpse saved\n",
      "attemptingPosition2cell ID46\n",
      "Position2cell ID46glimpse saved\n",
      "attemptingPosition2cell ID47\n",
      "Position2cell ID47glimpse saved\n",
      "attemptingPosition2cell ID2\n",
      "Position2cell ID2glimpse saved\n",
      "attemptingPosition2cell ID49\n",
      "Position2cell ID49glimpse saved\n",
      "attemptingPosition2cell ID50\n",
      "Position2cell ID50glimpse saved\n",
      "attemptingPosition2cell ID51\n",
      "Position2cell ID51glimpse saved\n",
      "attemptingPosition2cell ID52\n"
     ]
    },
    {
     "name": "stderr",
     "output_type": "stream",
     "text": [
      "\n",
      " 11%|█         | 22/206 [00:00<00:06, 30.54it/s]\u001b[A\n",
      " 14%|█▎        | 28/206 [00:00<00:04, 35.82it/s]\u001b[A"
     ]
    },
    {
     "name": "stdout",
     "output_type": "stream",
     "text": [
      "Position2cell ID52glimpse saved\n",
      "attemptingPosition2cell ID53\n",
      "Position2cell ID53glimpse saved\n",
      "attemptingPosition2cell ID54\n",
      "Position2cell ID54glimpse saved\n",
      "attemptingPosition2cell ID55\n",
      "Position2cell ID55glimpse saved\n",
      "attemptingPosition2cell ID56\n",
      "Position2cell ID56glimpse saved\n",
      "attemptingPosition2cell ID57\n",
      "Position2cell ID57glimpse saved\n",
      "attemptingPosition2cell ID58\n",
      "Position2cell ID58glimpse saved\n",
      "attemptingPosition2cell ID59\n",
      "Position2cell ID59glimpse saved\n",
      "attemptingPosition2cell ID60\n",
      "Position2cell ID60glimpse saved\n",
      "attemptingPosition2cell ID61\n",
      "Position2cell ID61glimpse saved\n",
      "attemptingPosition2cell ID62\n"
     ]
    },
    {
     "name": "stderr",
     "output_type": "stream",
     "text": [
      "\n",
      " 16%|█▌        | 33/206 [00:00<00:04, 36.80it/s]\u001b[A\n",
      " 18%|█▊        | 38/206 [00:01<00:04, 39.34it/s]\u001b[A"
     ]
    },
    {
     "name": "stdout",
     "output_type": "stream",
     "text": [
      "Position2cell ID62glimpse saved\n",
      "attemptingPosition2cell ID9\n",
      "Position2cell ID9glimpse saved\n",
      "attemptingPosition2cell ID32\n",
      "Position2cell ID32glimpse saved\n",
      "attemptingPosition2cell ID4\n",
      "Position2cell ID4glimpse saved\n",
      "attemptingPosition2cell ID5\n",
      "Position2cell ID5glimpse saved\n",
      "attemptingPosition2cell ID6\n",
      "Position2cell ID6glimpse saved\n",
      "attemptingPosition2cell ID7\n",
      "Position2cell ID7glimpse saved\n",
      "attemptingPosition2cell ID8\n",
      "Position2cell ID8glimpse saved\n",
      "attemptingPosition2cell ID10\n"
     ]
    },
    {
     "name": "stderr",
     "output_type": "stream",
     "text": [
      "\n",
      " 22%|██▏       | 46/206 [00:01<00:03, 45.69it/s]\u001b[A"
     ]
    },
    {
     "name": "stdout",
     "output_type": "stream",
     "text": [
      "Position2cell ID10glimpse saved\n",
      "attemptingPosition2cell ID11\n",
      "Position2cell ID11glimpse saved\n",
      "attemptingPosition2cell ID12\n",
      "Position2cell ID12glimpse saved\n",
      "attemptingPosition2cell ID13\n",
      "Position2cell ID13glimpse saved\n",
      "attemptingPosition2cell ID14\n",
      "Position2cell ID14glimpse saved\n",
      "attemptingPosition2cell ID15\n",
      "Position2cell ID15glimpse saved\n",
      "attemptingPosition2cell ID16\n",
      "Position2cell ID16glimpse saved\n",
      "attemptingPosition2cell ID18\n",
      "Position2cell ID18glimpse saved\n",
      "attemptingPosition2cell ID31\n",
      "Position2cell ID31glimpse saved\n",
      "attemptingPosition2cell ID30\n",
      "Position2cell ID30glimpse saved\n",
      "attemptingPosition2cell ID29\n",
      "Position2cell ID29glimpse saved\n",
      "attemptingPosition2cell ID28\n",
      "Position2cell ID28glimpse saved\n",
      "attemptingPosition2cell ID27\n",
      "Position2cell ID27glimpse saved\n",
      "attemptingPosition2cell ID25\n",
      "Position2cell ID25glimpse saved\n",
      "attemptingPosition2cell ID24\n",
      "Position2cell ID24glimpse saved\n",
      "attemptingPosition2cell ID19\n",
      "Position2cell ID19glimpse saved\n",
      "attemptingPosition2cell ID22\n",
      "Position2cell ID22glimpse saved\n",
      "attemptingPosition2cell ID23\n",
      "Position2cell ID23glimpse saved\n",
      "attemptingPosition2cell ID21\n",
      "Position2cell ID21glimpse saved\n",
      "attemptingPosition2cell ID63\n",
      "Position2cell ID63glimpse saved\n",
      "attemptingPosition2cell ID64\n",
      "Position2cell ID64glimpse saved\n",
      "attemptingPosition2cell ID65\n",
      "Position2cell ID65glimpse saved\n",
      "attemptingPosition2cell ID66\n"
     ]
    },
    {
     "name": "stderr",
     "output_type": "stream",
     "text": [
      "\n",
      " 30%|██▉       | 61/206 [00:01<00:02, 70.42it/s]\u001b[A\n",
      " 36%|███▌      | 74/206 [00:01<00:01, 81.55it/s]\u001b[A"
     ]
    },
    {
     "name": "stdout",
     "output_type": "stream",
     "text": [
      "Position2cell ID66glimpse saved\n",
      "attemptingPosition2cell ID70\n",
      "Position2cell ID70glimpse saved\n",
      "attemptingPosition2cell ID69\n",
      "Position2cell ID69glimpse saved\n",
      "attemptingPosition2cell ID71\n",
      "Position2cell ID71glimpse saved\n",
      "attemptingPosition2cell ID73\n",
      "Position2cell ID73glimpse saved\n",
      "attemptingPosition2cell ID77\n",
      "Position2cell ID77glimpse saved\n",
      "attemptingPosition2cell ID79\n",
      "Position2cell ID79glimpse saved\n",
      "attemptingPosition2cell ID80\n",
      "Position2cell ID80glimpse saved\n",
      "attemptingPosition2cell ID81\n",
      "Position2cell ID81glimpse saved\n",
      "attemptingPosition2cell ID83\n",
      "Position2cell ID83glimpse saved\n",
      "attemptingPosition2cell ID82\n",
      "Position2cell ID82glimpse saved\n",
      "attemptingPosition2cell ID84\n",
      "Position2cell ID84glimpse saved\n",
      "attemptingPosition2cell ID85\n",
      "Position2cell ID85glimpse saved\n",
      "attemptingPosition2cell ID86\n",
      "Position2cell ID86glimpse saved\n",
      "attemptingPosition2cell ID87\n",
      "Position2cell ID87glimpse saved\n",
      "attemptingPosition2cell ID89\n",
      "Position2cell ID89glimpse saved\n",
      "attemptingPosition2cell ID90\n",
      "Position2cell ID90glimpse saved\n",
      "attemptingPosition2cell ID97\n",
      "Position2cell ID97glimpse saved\n",
      "attemptingPosition2cell ID99\n",
      "Position2cell ID99glimpse saved\n",
      "attemptingPosition2cell ID102\n"
     ]
    },
    {
     "name": "stderr",
     "output_type": "stream",
     "text": [
      "\n",
      " 40%|████      | 83/206 [00:01<00:01, 69.43it/s]\u001b[A"
     ]
    },
    {
     "name": "stdout",
     "output_type": "stream",
     "text": [
      "Position2cell ID102glimpse saved\n",
      "attemptingPosition2cell ID104\n",
      "Position2cell ID104glimpse saved\n",
      "attemptingPosition2cell ID106\n",
      "Position2cell ID106glimpse saved\n",
      "attemptingPosition2cell ID107\n",
      "Position2cell ID107glimpse saved\n",
      "attemptingPosition2cell ID108\n",
      "Position2cell ID108glimpse saved\n",
      "attemptingPosition2cell ID110\n",
      "Position2cell ID110glimpse saved\n",
      "attemptingPosition2cell ID111\n",
      "Position2cell ID111glimpse saved\n",
      "attemptingPosition2cell ID113\n",
      "Position2cell ID113glimpse saved\n",
      "attemptingPosition2cell ID115\n",
      "Position2cell ID115glimpse saved\n",
      "attemptingPosition2cell ID116\n",
      "Position2cell ID116glimpse saved\n",
      "attemptingPosition2cell ID118\n"
     ]
    },
    {
     "name": "stderr",
     "output_type": "stream",
     "text": [
      "\n",
      " 44%|████▍     | 91/206 [00:01<00:01, 61.51it/s]\u001b[A\n",
      " 48%|████▊     | 98/206 [00:01<00:01, 57.31it/s]\u001b[A"
     ]
    },
    {
     "name": "stdout",
     "output_type": "stream",
     "text": [
      "Position2cell ID118glimpse saved\n",
      "attemptingPosition2cell ID119\n",
      "Position2cell ID119glimpse saved\n",
      "attemptingPosition2cell ID120\n",
      "Position2cell ID120glimpse saved\n",
      "attemptingPosition2cell ID121\n",
      "Position2cell ID121glimpse saved\n",
      "attemptingPosition2cell ID122\n",
      "Position2cell ID122glimpse saved\n",
      "attemptingPosition2cell ID124\n",
      "Position2cell ID124glimpse saved\n",
      "attemptingPosition2cell ID126\n",
      "Position2cell ID126glimpse saved\n",
      "attemptingPosition2cell ID127\n",
      "Position2cell ID127glimpse saved\n",
      "attemptingPosition2cell ID128\n",
      "Position2cell ID128glimpse saved\n",
      "attemptingPosition2cell ID129\n",
      "Position2cell ID129glimpse saved\n",
      "attemptingPosition2cell ID130\n",
      "Position2cell ID130glimpse saved\n",
      "attemptingPosition2cell ID132\n",
      "Position2cell ID132glimpse saved\n",
      "attemptingPosition2cell ID134\n"
     ]
    },
    {
     "name": "stderr",
     "output_type": "stream",
     "text": [
      "\n",
      " 51%|█████     | 105/206 [00:02<00:01, 58.95it/s]\u001b[A"
     ]
    },
    {
     "name": "stdout",
     "output_type": "stream",
     "text": [
      "Position2cell ID134glimpse saved\n",
      "attemptingPosition2cell ID135\n",
      "Position2cell ID135glimpse saved\n",
      "attemptingPosition2cell ID140\n",
      "Position2cell ID140glimpse saved\n",
      "attemptingPosition2cell ID139\n",
      "Position2cell ID139glimpse saved\n",
      "attemptingPosition2cell ID137\n",
      "Position2cell ID137glimpse saved\n",
      "attemptingPosition2cell ID138\n",
      "Position2cell ID138glimpse saved\n",
      "attemptingPosition2cell ID143\n",
      "Position2cell ID143glimpse saved\n",
      "attemptingPosition2cell ID142\n",
      "Position2cell ID142glimpse saved\n",
      "attemptingPosition2cell ID144\n",
      "Position2cell ID144glimpse saved\n",
      "attemptingPosition2cell ID146\n"
     ]
    },
    {
     "name": "stderr",
     "output_type": "stream",
     "text": [
      "\n",
      " 54%|█████▍    | 112/206 [00:02<00:02, 44.57it/s]\u001b[A\n",
      " 59%|█████▉    | 122/206 [00:02<00:01, 52.84it/s]\u001b[A"
     ]
    },
    {
     "name": "stdout",
     "output_type": "stream",
     "text": [
      "Position2cell ID146glimpse saved\n",
      "attemptingPosition2cell ID147\n",
      "Position2cell ID147glimpse saved\n",
      "attemptingPosition2cell ID148\n",
      "Position2cell ID148glimpse saved\n",
      "attemptingPosition2cell ID149\n",
      "Position2cell ID149glimpse saved\n",
      "attemptingPosition2cell ID150\n",
      "Position2cell ID150glimpse saved\n",
      "attemptingPosition2cell ID152\n",
      "Position2cell ID152glimpse saved\n",
      "attemptingPosition2cell ID155\n",
      "Position2cell ID155glimpse saved\n",
      "attemptingPosition2cell ID156\n",
      "Position2cell ID156glimpse saved\n",
      "attemptingPosition2cell ID157\n",
      "Position2cell ID157glimpse saved\n",
      "attemptingPosition2cell ID158\n",
      "Position2cell ID158glimpse saved\n",
      "attemptingPosition2cell ID159\n",
      "Position2cell ID159glimpse saved\n",
      "attemptingPosition2cell ID160\n",
      "Position2cell ID160glimpse saved\n",
      "attemptingPosition2cell ID162\n",
      "Position2cell ID162glimpse saved\n",
      "attemptingPosition2cell ID163\n"
     ]
    },
    {
     "name": "stderr",
     "output_type": "stream",
     "text": [
      "\n",
      " 62%|██████▏   | 128/206 [00:02<00:01, 44.68it/s]\u001b[A"
     ]
    },
    {
     "name": "stdout",
     "output_type": "stream",
     "text": [
      "Position2cell ID163glimpse saved\n",
      "attemptingPosition2cell ID164\n",
      "Position2cell ID164glimpse saved\n",
      "attemptingPosition2cell ID166\n",
      "Position2cell ID166glimpse saved\n",
      "attemptingPosition2cell ID168\n",
      "Position2cell ID168glimpse saved\n",
      "attemptingPosition2cell ID170\n",
      "Position2cell ID170glimpse saved\n",
      "attemptingPosition2cell ID174\n",
      "Position2cell ID174glimpse saved\n",
      "attemptingPosition2cell ID173\n"
     ]
    },
    {
     "name": "stderr",
     "output_type": "stream",
     "text": [
      "\n",
      " 67%|██████▋   | 137/206 [00:02<00:01, 52.77it/s]\u001b[A\n",
      " 74%|███████▍  | 152/206 [00:02<00:00, 72.36it/s]\u001b[A"
     ]
    },
    {
     "name": "stdout",
     "output_type": "stream",
     "text": [
      "Position2cell ID173glimpse saved\n",
      "attemptingPosition2cell ID172\n",
      "Position2cell ID172glimpse saved\n",
      "attemptingPosition2cell ID175\n",
      "Position2cell ID175glimpse saved\n",
      "attemptingPosition2cell ID178\n",
      "Position2cell ID178glimpse saved\n",
      "attemptingPosition2cell ID180\n",
      "Position2cell ID180glimpse saved\n",
      "attemptingPosition2cell ID185\n",
      "Position2cell ID185glimpse saved\n",
      "attemptingPosition2cell ID182\n",
      "Position2cell ID182glimpse saved\n",
      "attemptingPosition2cell ID186\n",
      "Position2cell ID186glimpse saved\n",
      "attemptingPosition2cell ID188\n",
      "Position2cell ID188glimpse saved\n",
      "attemptingPosition2cell ID189\n",
      "Position2cell ID189glimpse saved\n",
      "attemptingPosition2cell ID191\n",
      "Position2cell ID191glimpse saved\n",
      "attemptingPosition2cell ID194\n",
      "Position2cell ID194glimpse saved\n",
      "attemptingPosition2cell ID193\n",
      "Position2cell ID193glimpse saved\n",
      "attemptingPosition2cell ID192\n",
      "Position2cell ID192glimpse saved\n",
      "attemptingPosition2cell ID195\n",
      "Position2cell ID195glimpse saved\n",
      "attemptingPosition2cell ID196\n",
      "Position2cell ID196glimpse saved\n",
      "attemptingPosition2cell ID198\n",
      "Position2cell ID198glimpse saved\n",
      "attemptingPosition2cell ID200\n",
      "Position2cell ID200glimpse saved\n",
      "attemptingPosition2cell ID201\n",
      "Position2cell ID201glimpse saved\n",
      "attemptingPosition2cell ID202\n",
      "Position2cell ID202glimpse saved\n",
      "attemptingPosition2cell ID204\n",
      "Position2cell ID204glimpse saved\n",
      "attemptingPosition2cell ID205\n",
      "Position2cell ID205glimpse saved\n",
      "attemptingPosition2cell ID206\n",
      "Position2cell ID206glimpse saved\n",
      "attemptingPosition2cell ID207\n",
      "Position2cell ID207glimpse saved\n",
      "attemptingPosition2cell ID208\n",
      "Position2cell ID208glimpse saved\n",
      "attemptingPosition2cell ID209\n",
      "Position2cell ID209glimpse saved\n",
      "attemptingPosition2cell ID210\n",
      "Position2cell ID210glimpse saved\n",
      "attemptingPosition2cell ID211\n",
      "Position2cell ID211glimpse saved\n",
      "attemptingPosition2cell ID212\n",
      "Position2cell ID212glimpse saved\n",
      "attemptingPosition2cell ID213\n",
      "Position2cell ID213glimpse saved\n",
      "attemptingPosition2cell ID214\n",
      "Position2cell ID214glimpse saved\n",
      "attemptingPosition2cell ID215\n",
      "Position2cell ID215glimpse saved\n",
      "attemptingPosition2cell ID216\n",
      "Position2cell ID216glimpse saved\n",
      "attemptingPosition2cell ID217\n",
      "Position2cell ID217glimpse saved\n",
      "attemptingPosition2cell ID218\n",
      "Position2cell ID218glimpse saved\n",
      "attemptingPosition2cell ID219\n",
      "Position2cell ID219glimpse saved\n",
      "attemptingPosition2cell ID221\n",
      "Position2cell ID221glimpse saved\n",
      "attemptingPosition2cell ID222\n",
      "Position2cell ID222glimpse saved\n",
      "attemptingPosition2cell ID223\n",
      "Position2cell ID223glimpse saved\n",
      "attemptingPosition2cell ID224\n",
      "Position2cell ID224glimpse saved\n",
      "attemptingPosition2cell ID225\n",
      "Position2cell ID225glimpse saved\n",
      "attemptingPosition2cell ID226\n"
     ]
    },
    {
     "name": "stderr",
     "output_type": "stream",
     "text": [
      "\n",
      "100%|██████████| 206/206 [00:03<00:00, 67.86it/s] \u001b[A\n",
      " 40%|████      | 2/5 [00:08<00:12,  4.22s/it][INFO][2021/08/09 05:56:37 PM] Opening HDF file: /home/nathan/data/confocal/pcna/Position3/irfp_tracks_2021_08_09_05_47_44_PM.h5...\n",
      "[INFO][2021/08/09 05:56:37 PM] Loading tracks/obj_type_1\n",
      "[INFO][2021/08/09 05:56:37 PM] Loading objects/obj_type_1 (11822, 5) (11822 filtered: None)\n"
     ]
    },
    {
     "name": "stdout",
     "output_type": "stream",
     "text": [
      "Position2cell ID226glimpse saved\n",
      "attemptingPosition2cell ID227\n",
      "Position2cell ID227glimpse saved\n",
      "attemptingPosition2cell ID228\n",
      "Position2cell ID228glimpse saved\n",
      "attemptingPosition2cell ID229\n",
      "Position2cell ID229glimpse saved\n",
      "attemptingPosition2cell ID230\n",
      "Position2cell ID230glimpse saved\n",
      "attemptingPosition2cell ID231\n",
      "Position2cell ID231glimpse saved\n",
      "attemptingPosition2cell ID232\n",
      "Position2cell ID232glimpse saved\n",
      "attemptingPosition2cell ID233\n",
      "Position2cell ID233glimpse saved\n",
      "attemptingPosition2cell ID235\n",
      "Position2cell ID235glimpse saved\n",
      "attemptingPosition2cell ID239\n",
      "Position2cell ID239glimpse saved\n",
      "attemptingPosition2cell ID238\n",
      "Position2cell ID238glimpse saved\n",
      "attemptingPosition2cell ID236\n",
      "Position2cell ID236glimpse saved\n",
      "attemptingPosition2cell ID237\n",
      "Position2cell ID237glimpse saved\n",
      "attemptingPosition2cell ID240\n",
      "Position2cell ID240glimpse saved\n",
      "attemptingPosition2cell ID241\n",
      "Position2cell ID241glimpse saved\n",
      "attemptingPosition2cell ID242\n",
      "Position2cell ID242glimpse saved\n",
      "attemptingPosition2cell ID243\n",
      "Position2cell ID243glimpse saved\n",
      "attemptingPosition2cell ID244\n",
      "Position2cell ID244glimpse saved\n",
      "attemptingPosition2cell ID246\n",
      "Position2cell ID246glimpse saved\n",
      "attemptingPosition2cell ID248\n",
      "Position2cell ID248glimpse saved\n",
      "attemptingPosition2cell ID250\n",
      "Position2cell ID250glimpse saved\n",
      "attemptingPosition2cell ID251\n",
      "Position2cell ID251glimpse saved\n",
      "attemptingPosition2cell ID252\n",
      "Position2cell ID252glimpse saved\n",
      "attemptingPosition2cell ID256\n",
      "Position2cell ID256glimpse saved\n",
      "attemptingPosition2cell ID254\n",
      "Position2cell ID254glimpse saved\n",
      "attemptingPosition2cell ID255\n",
      "Position2cell ID255glimpse saved\n",
      "attemptingPosition2cell ID253\n",
      "Position2cell ID253glimpse saved\n",
      "attemptingPosition2cell ID257\n",
      "Position2cell ID257glimpse saved\n",
      "attemptingPosition2cell ID258\n",
      "Position2cell ID258glimpse saved\n",
      "attemptingPosition2cell ID259\n",
      "Position2cell ID259glimpse saved\n",
      "attemptingPosition2cell ID260\n",
      "Position2cell ID260glimpse saved\n",
      "attemptingPosition2cell ID261\n",
      "Position2cell ID261glimpse saved\n",
      "attemptingPosition2cell ID262\n",
      "Position2cell ID262glimpse saved\n",
      "attemptingPosition2cell ID263\n",
      "Position2cell ID263glimpse saved\n",
      "attemptingPosition2cell ID266\n",
      "Position2cell ID266glimpse saved\n",
      "attemptingPosition2cell ID267\n",
      "Position2cell ID267glimpse saved\n",
      "starting Position3\n"
     ]
    },
    {
     "name": "stderr",
     "output_type": "stream",
     "text": [
      "[INFO][2021/08/09 05:56:37 PM] Closing HDF file: /home/nathan/data/confocal/pcna/Position3/irfp_tracks_2021_08_09_05_47_44_PM.h5\n"
     ]
    },
    {
     "name": "stdout",
     "output_type": "stream",
     "text": [
      "Position3tracking file loaded\n",
      "Position3number of glimpses to be generated:261\n",
      "Loading image channel 2\n",
      "Image loaded\n"
     ]
    },
    {
     "name": "stderr",
     "output_type": "stream",
     "text": [
      "\n",
      "  0%|          | 0/261 [00:00<?, ?it/s]\u001b[A\n",
      "  3%|▎         | 7/261 [00:00<00:04, 53.98it/s]\u001b[A"
     ]
    },
    {
     "name": "stdout",
     "output_type": "stream",
     "text": [
      "attemptingPosition3cell ID42\n",
      "Position3cell ID42glimpse saved\n",
      "attemptingPosition3cell ID50\n",
      "Position3cell ID50glimpse saved\n",
      "attemptingPosition3cell ID49\n",
      "Position3cell ID49glimpse saved\n",
      "attemptingPosition3cell ID48\n",
      "Position3cell ID48glimpse saved\n",
      "attemptingPosition3cell ID47\n",
      "Position3cell ID47glimpse saved\n",
      "attemptingPosition3cell ID46\n",
      "Position3cell ID46glimpse saved\n",
      "attemptingPosition3cell ID45\n",
      "Position3cell ID45glimpse saved\n",
      "attemptingPosition3cell ID44\n",
      "Position3cell ID44glimpse saved\n",
      "attemptingPosition3cell ID43\n",
      "Position3cell ID43glimpse saved\n",
      "attemptingPosition3cell ID51\n",
      "Position3cell ID51glimpse saved\n",
      "attemptingPosition3cell ID40\n",
      "Position3cell ID40glimpse saved\n",
      "attemptingPosition3cell ID39\n",
      "Position3cell ID39glimpse saved\n",
      "attemptingPosition3cell ID38\n",
      "Position3cell ID38glimpse saved\n",
      "attemptingPosition3cell ID36\n",
      "Position3cell ID36glimpse saved\n",
      "attemptingPosition3cell ID35\n",
      "Position3cell ID35glimpse saved\n",
      "attemptingPosition3cell ID34\n",
      "Position3cell ID34glimpse saved\n",
      "attemptingPosition3cell ID37\n",
      "Position3cell ID37glimpse saved\n",
      "attemptingPosition3cell ID52\n"
     ]
    },
    {
     "name": "stderr",
     "output_type": "stream",
     "text": [
      "\n",
      "  7%|▋         | 18/261 [00:00<00:03, 79.64it/s]\u001b[A\n",
      " 10%|█         | 27/261 [00:00<00:03, 63.88it/s]\u001b[A"
     ]
    },
    {
     "name": "stdout",
     "output_type": "stream",
     "text": [
      "Position3cell ID52glimpse saved\n",
      "attemptingPosition3cell ID53\n",
      "Position3cell ID53glimpse saved\n",
      "attemptingPosition3cell ID54\n",
      "Position3cell ID54glimpse saved\n",
      "attemptingPosition3cell ID56\n",
      "Position3cell ID56glimpse saved\n",
      "attemptingPosition3cell ID57\n",
      "Position3cell ID57glimpse saved\n",
      "attemptingPosition3cell ID58\n",
      "Position3cell ID58glimpse saved\n",
      "attemptingPosition3cell ID59\n",
      "Position3cell ID59glimpse saved\n",
      "attemptingPosition3cell ID60\n",
      "Position3cell ID60glimpse saved\n",
      "attemptingPosition3cell ID61\n",
      "Position3cell ID61glimpse saved\n",
      "attemptingPosition3cell ID62\n",
      "Position3cell ID62glimpse saved\n",
      "attemptingPosition3cell ID63\n",
      "Position3cell ID63glimpse saved\n",
      "attemptingPosition3cell ID64\n",
      "Position3cell ID64glimpse saved\n",
      "attemptingPosition3cell ID65\n",
      "Position3cell ID65glimpse saved\n",
      "attemptingPosition3cell ID1\n",
      "Position3cell ID1glimpse saved\n",
      "attemptingPosition3cell ID9\n",
      "Position3cell ID9glimpse saved\n",
      "attemptingPosition3cell ID17\n",
      "Position3cell ID17glimpse saved\n",
      "attemptingPosition3cell ID16\n"
     ]
    },
    {
     "name": "stderr",
     "output_type": "stream",
     "text": [
      "\n",
      " 13%|█▎        | 34/261 [00:00<00:05, 40.44it/s]\u001b[A\n",
      " 15%|█▌        | 40/261 [00:00<00:05, 40.16it/s]\u001b[A"
     ]
    },
    {
     "name": "stdout",
     "output_type": "stream",
     "text": [
      "Position3cell ID16glimpse saved\n",
      "attemptingPosition3cell ID15\n",
      "Position3cell ID15glimpse saved\n",
      "attemptingPosition3cell ID33\n",
      "Position3cell ID33glimpse saved\n",
      "attemptingPosition3cell ID12\n",
      "Position3cell ID12glimpse saved\n",
      "attemptingPosition3cell ID11\n",
      "Position3cell ID11glimpse saved\n",
      "attemptingPosition3cell ID10\n",
      "Position3cell ID10glimpse saved\n",
      "attemptingPosition3cell ID14\n",
      "Position3cell ID14glimpse saved\n",
      "attemptingPosition3cell ID8\n"
     ]
    },
    {
     "name": "stderr",
     "output_type": "stream",
     "text": [
      "\n",
      " 17%|█▋        | 45/261 [00:01<00:05, 37.66it/s]\u001b[A\n",
      " 25%|██▍       | 64/261 [00:01<00:02, 69.22it/s]\u001b[A"
     ]
    },
    {
     "name": "stdout",
     "output_type": "stream",
     "text": [
      "Position3cell ID8glimpse saved\n",
      "attemptingPosition3cell ID7\n",
      "Position3cell ID7glimpse saved\n",
      "attemptingPosition3cell ID6\n",
      "Position3cell ID6glimpse saved\n",
      "attemptingPosition3cell ID5\n",
      "Position3cell ID5glimpse saved\n",
      "attemptingPosition3cell ID4\n",
      "Position3cell ID4glimpse saved\n",
      "attemptingPosition3cell ID3\n",
      "Position3cell ID3glimpse saved\n",
      "attemptingPosition3cell ID2\n",
      "Position3cell ID2glimpse saved\n",
      "attemptingPosition3cell ID29\n",
      "Position3cell ID29glimpse saved\n",
      "attemptingPosition3cell ID31\n",
      "Position3cell ID31glimpse saved\n",
      "attemptingPosition3cell ID30\n",
      "Position3cell ID30glimpse saved\n",
      "attemptingPosition3cell ID18\n",
      "Position3cell ID18glimpse saved\n",
      "attemptingPosition3cell ID28\n",
      "Position3cell ID28glimpse saved\n",
      "attemptingPosition3cell ID27\n",
      "Position3cell ID27glimpse saved\n",
      "attemptingPosition3cell ID26\n",
      "Position3cell ID26glimpse saved\n",
      "attemptingPosition3cell ID25\n",
      "Position3cell ID25glimpse saved\n",
      "attemptingPosition3cell ID24\n",
      "Position3cell ID24glimpse saved\n",
      "attemptingPosition3cell ID23\n",
      "Position3cell ID23glimpse saved\n",
      "attemptingPosition3cell ID22\n",
      "Position3cell ID22glimpse saved\n",
      "attemptingPosition3cell ID21\n",
      "Position3cell ID21glimpse saved\n",
      "attemptingPosition3cell ID20\n",
      "Position3cell ID20glimpse saved\n",
      "attemptingPosition3cell ID19\n",
      "Position3cell ID19glimpse saved\n",
      "attemptingPosition3cell ID66\n",
      "Position3cell ID66glimpse saved\n",
      "attemptingPosition3cell ID67\n",
      "Position3cell ID67glimpse saved\n",
      "attemptingPosition3cell ID69\n",
      "Position3cell ID69glimpse saved\n",
      "attemptingPosition3cell ID70\n"
     ]
    },
    {
     "name": "stderr",
     "output_type": "stream",
     "text": [
      "\n",
      " 28%|██▊       | 73/261 [00:01<00:02, 66.56it/s]\u001b[A"
     ]
    },
    {
     "name": "stdout",
     "output_type": "stream",
     "text": [
      "Position3cell ID70glimpse saved\n",
      "attemptingPosition3cell ID71\n",
      "Position3cell ID71glimpse saved\n",
      "attemptingPosition3cell ID73\n",
      "Position3cell ID73glimpse saved\n",
      "attemptingPosition3cell ID76\n",
      "Position3cell ID76glimpse saved\n",
      "attemptingPosition3cell ID79\n",
      "Position3cell ID79glimpse saved\n",
      "attemptingPosition3cell ID78\n",
      "Position3cell ID78glimpse saved\n",
      "attemptingPosition3cell ID81\n",
      "Position3cell ID81glimpse saved\n",
      "attemptingPosition3cell ID82\n",
      "Position3cell ID82glimpse saved\n",
      "attemptingPosition3cell ID83\n",
      "Position3cell ID83glimpse saved\n",
      "attemptingPosition3cell ID84\n",
      "Position3cell ID84glimpse saved\n",
      "attemptingPosition3cell ID85\n",
      "Position3cell ID85glimpse saved\n",
      "attemptingPosition3cell ID86\n",
      "Position3cell ID86glimpse saved\n",
      "attemptingPosition3cell ID87\n",
      "Position3cell ID87glimpse saved\n",
      "attemptingPosition3cell ID89\n",
      "Position3cell ID89glimpse saved\n",
      "attemptingPosition3cell ID93\n",
      "Position3cell ID93glimpse saved\n",
      "attemptingPosition3cell ID94\n",
      "Position3cell ID94glimpse saved\n",
      "attemptingPosition3cell ID95\n",
      "Position3cell ID95glimpse saved\n",
      "attemptingPosition3cell ID97\n",
      "Position3cell ID97glimpse saved\n",
      "attemptingPosition3cell ID98\n",
      "Position3cell ID98glimpse saved\n",
      "attemptingPosition3cell ID99\n",
      "Position3cell ID99glimpse saved\n",
      "attemptingPosition3cell ID101\n"
     ]
    },
    {
     "name": "stderr",
     "output_type": "stream",
     "text": [
      "\n",
      " 33%|███▎      | 85/261 [00:01<00:02, 75.69it/s]\u001b[A\n",
      " 36%|███▌      | 94/261 [00:01<00:02, 77.22it/s]\u001b[A"
     ]
    },
    {
     "name": "stdout",
     "output_type": "stream",
     "text": [
      "Position3cell ID101glimpse saved\n",
      "attemptingPosition3cell ID102\n",
      "Position3cell ID102glimpse saved\n",
      "attemptingPosition3cell ID104\n",
      "Position3cell ID104glimpse saved\n",
      "attemptingPosition3cell ID105\n",
      "Position3cell ID105glimpse saved\n",
      "attemptingPosition3cell ID106\n",
      "Position3cell ID106glimpse saved\n",
      "attemptingPosition3cell ID107\n",
      "Position3cell ID107glimpse saved\n",
      "attemptingPosition3cell ID108\n",
      "Position3cell ID108glimpse saved\n",
      "attemptingPosition3cell ID111\n",
      "Position3cell ID111glimpse saved\n",
      "attemptingPosition3cell ID109\n",
      "Position3cell ID109glimpse saved\n",
      "attemptingPosition3cell ID113\n",
      "Position3cell ID113glimpse saved\n",
      "attemptingPosition3cell ID114\n",
      "Position3cell ID114glimpse saved\n",
      "attemptingPosition3cell ID115\n"
     ]
    },
    {
     "name": "stderr",
     "output_type": "stream",
     "text": [
      "\n",
      " 39%|███▉      | 103/261 [00:01<00:02, 56.76it/s]\u001b[A"
     ]
    },
    {
     "name": "stdout",
     "output_type": "stream",
     "text": [
      "Position3cell ID115glimpse saved\n",
      "attemptingPosition3cell ID116\n",
      "Position3cell ID116glimpse saved\n",
      "attemptingPosition3cell ID117\n",
      "Position3cell ID117glimpse saved\n",
      "attemptingPosition3cell ID119\n",
      "Position3cell ID119glimpse saved\n",
      "attemptingPosition3cell ID121\n",
      "Position3cell ID121glimpse saved\n",
      "attemptingPosition3cell ID122\n",
      "Position3cell ID122glimpse saved\n",
      "attemptingPosition3cell ID123\n",
      "Position3cell ID123glimpse saved\n",
      "attemptingPosition3cell ID124\n",
      "Position3cell ID124glimpse saved\n",
      "attemptingPosition3cell ID125\n",
      "Position3cell ID125glimpse saved\n",
      "attemptingPosition3cell ID126\n",
      "Position3cell ID126glimpse saved\n",
      "attemptingPosition3cell ID127\n"
     ]
    },
    {
     "name": "stderr",
     "output_type": "stream",
     "text": [
      "\n",
      " 42%|████▏     | 110/261 [00:01<00:02, 57.60it/s]\u001b[A\n",
      " 45%|████▍     | 117/261 [00:01<00:02, 59.97it/s]\u001b[A"
     ]
    },
    {
     "name": "stdout",
     "output_type": "stream",
     "text": [
      "Position3cell ID127glimpse saved\n",
      "attemptingPosition3cell ID128\n",
      "Position3cell ID128glimpse saved\n",
      "attemptingPosition3cell ID130\n",
      "Position3cell ID130glimpse saved\n",
      "attemptingPosition3cell ID131\n",
      "Position3cell ID131glimpse saved\n",
      "attemptingPosition3cell ID132\n",
      "Position3cell ID132glimpse saved\n",
      "attemptingPosition3cell ID133\n",
      "Position3cell ID133glimpse saved\n",
      "attemptingPosition3cell ID134\n",
      "Position3cell ID134glimpse saved\n",
      "attemptingPosition3cell ID136\n",
      "Position3cell ID136glimpse saved\n",
      "attemptingPosition3cell ID135\n",
      "Position3cell ID135glimpse saved\n",
      "attemptingPosition3cell ID138\n",
      "Position3cell ID138glimpse saved\n",
      "attemptingPosition3cell ID140\n",
      "Position3cell ID140glimpse saved\n",
      "attemptingPosition3cell ID143\n",
      "Position3cell ID143glimpse saved\n",
      "attemptingPosition3cell ID144\n",
      "Position3cell ID144glimpse saved\n",
      "attemptingPosition3cell ID145\n",
      "Position3cell ID145glimpse saved\n",
      "attemptingPosition3cell ID146\n",
      "Position3cell ID146glimpse saved\n",
      "attemptingPosition3cell ID147\n",
      "Position3cell ID147glimpse saved\n",
      "attemptingPosition3cell ID148\n",
      "Position3cell ID148glimpse saved\n",
      "attemptingPosition3cell ID149\n",
      "Position3cell ID149glimpse saved\n",
      "attemptingPosition3cell ID150\n",
      "Position3cell ID150glimpse saved\n",
      "attemptingPosition3cell ID151\n",
      "Position3cell ID151glimpse saved\n",
      "attemptingPosition3cell ID153\n",
      "Position3cell ID153glimpse saved\n",
      "attemptingPosition3cell ID157\n",
      "Position3cell ID157glimpse saved\n",
      "attemptingPosition3cell ID156\n",
      "Position3cell ID156glimpse saved\n",
      "attemptingPosition3cell ID154\n",
      "Position3cell ID154glimpse saved\n",
      "attemptingPosition3cell ID155\n",
      "Position3cell ID155glimpse saved\n",
      "attemptingPosition3cell ID158\n",
      "Position3cell ID158glimpse saved\n",
      "attemptingPosition3cell ID159\n",
      "Position3cell ID159glimpse saved\n",
      "attemptingPosition3cell ID161\n",
      "Position3cell ID161glimpse saved\n",
      "attemptingPosition3cell ID164\n",
      "Position3cell ID164glimpse saved\n",
      "attemptingPosition3cell ID166\n",
      "Position3cell ID166glimpse saved\n",
      "attemptingPosition3cell ID167\n",
      "Position3cell ID167glimpse saved\n",
      "attemptingPosition3cell ID168\n",
      "Position3cell ID168glimpse saved\n",
      "attemptingPosition3cell ID169\n",
      "Position3cell ID169glimpse saved\n",
      "attemptingPosition3cell ID170\n"
     ]
    },
    {
     "name": "stderr",
     "output_type": "stream",
     "text": [
      "\n",
      " 54%|█████▎    | 140/261 [00:02<00:01, 96.86it/s]\u001b[A"
     ]
    },
    {
     "name": "stdout",
     "output_type": "stream",
     "text": [
      "Position3cell ID170glimpse saved\n",
      "attemptingPosition3cell ID171\n",
      "Position3cell ID171glimpse saved\n",
      "attemptingPosition3cell ID172\n",
      "Position3cell ID172glimpse saved\n",
      "attemptingPosition3cell ID173\n",
      "Position3cell ID173glimpse saved\n",
      "attemptingPosition3cell ID174\n",
      "Position3cell ID174glimpse saved\n",
      "attemptingPosition3cell ID175\n",
      "Position3cell ID175glimpse saved\n",
      "attemptingPosition3cell ID176\n",
      "Position3cell ID176glimpse saved\n",
      "attemptingPosition3cell ID179\n",
      "Position3cell ID179glimpse saved\n",
      "attemptingPosition3cell ID180\n",
      "Position3cell ID180glimpse saved\n",
      "attemptingPosition3cell ID181\n",
      "Position3cell ID181glimpse saved\n",
      "attemptingPosition3cell ID183\n",
      "Position3cell ID183glimpse saved\n",
      "attemptingPosition3cell ID185\n"
     ]
    },
    {
     "name": "stderr",
     "output_type": "stream",
     "text": [
      "\n",
      " 58%|█████▊    | 151/261 [00:02<00:01, 81.17it/s]\u001b[A\n",
      " 62%|██████▏   | 161/261 [00:02<00:01, 78.44it/s]\u001b[A"
     ]
    },
    {
     "name": "stdout",
     "output_type": "stream",
     "text": [
      "Position3cell ID185glimpse saved\n",
      "attemptingPosition3cell ID187\n",
      "Position3cell ID187glimpse saved\n",
      "attemptingPosition3cell ID189\n",
      "Position3cell ID189glimpse saved\n",
      "attemptingPosition3cell ID190\n",
      "Position3cell ID190glimpse saved\n",
      "attemptingPosition3cell ID191\n",
      "Position3cell ID191glimpse saved\n",
      "attemptingPosition3cell ID192\n",
      "Position3cell ID192glimpse saved\n",
      "attemptingPosition3cell ID193\n",
      "Position3cell ID193glimpse saved\n",
      "attemptingPosition3cell ID194\n",
      "Position3cell ID194glimpse saved\n",
      "attemptingPosition3cell ID197\n",
      "Position3cell ID197glimpse saved\n",
      "attemptingPosition3cell ID196\n",
      "Position3cell ID196glimpse saved\n",
      "attemptingPosition3cell ID195\n",
      "Position3cell ID195glimpse saved\n",
      "attemptingPosition3cell ID199\n",
      "Position3cell ID199glimpse saved\n",
      "attemptingPosition3cell ID198\n",
      "Position3cell ID198glimpse saved\n",
      "attemptingPosition3cell ID201\n",
      "Position3cell ID201glimpse saved\n",
      "attemptingPosition3cell ID200\n",
      "Position3cell ID200glimpse saved\n",
      "attemptingPosition3cell ID202\n"
     ]
    },
    {
     "name": "stderr",
     "output_type": "stream",
     "text": [
      "\n",
      " 66%|██████▋   | 173/261 [00:02<00:01, 83.45it/s]\u001b[A"
     ]
    },
    {
     "name": "stdout",
     "output_type": "stream",
     "text": [
      "Position3cell ID202glimpse saved\n",
      "attemptingPosition3cell ID203\n",
      "Position3cell ID203glimpse saved\n",
      "attemptingPosition3cell ID204\n",
      "Position3cell ID204glimpse saved\n",
      "attemptingPosition3cell ID205\n",
      "Position3cell ID205glimpse saved\n",
      "attemptingPosition3cell ID206\n",
      "Position3cell ID206glimpse saved\n",
      "attemptingPosition3cell ID207\n",
      "Position3cell ID207glimpse saved\n",
      "attemptingPosition3cell ID208\n",
      "Position3cell ID208glimpse saved\n",
      "attemptingPosition3cell ID209\n",
      "Position3cell ID209glimpse saved\n",
      "attemptingPosition3cell ID210\n",
      "Position3cell ID210glimpse saved\n",
      "attemptingPosition3cell ID211\n",
      "Position3cell ID211glimpse saved\n",
      "attemptingPosition3cell ID212\n",
      "Position3cell ID212glimpse saved\n",
      "attemptingPosition3cell ID213\n",
      "Position3cell ID213glimpse saved\n",
      "attemptingPosition3cell ID214\n",
      "Position3cell ID214glimpse saved\n",
      "attemptingPosition3cell ID215\n",
      "Position3cell ID215glimpse saved\n",
      "attemptingPosition3cell ID218\n",
      "Position3cell ID218glimpse saved\n",
      "attemptingPosition3cell ID217\n",
      "Position3cell ID217glimpse saved\n",
      "attemptingPosition3cell ID219\n",
      "Position3cell ID219glimpse saved\n",
      "attemptingPosition3cell ID220\n",
      "Position3cell ID220glimpse saved\n",
      "attemptingPosition3cell ID221\n"
     ]
    },
    {
     "name": "stderr",
     "output_type": "stream",
     "text": [
      "\n",
      " 70%|███████   | 183/261 [00:02<00:00, 83.48it/s]\u001b[A\n",
      " 74%|███████▍  | 193/261 [00:02<00:00, 83.87it/s]\u001b[A"
     ]
    },
    {
     "name": "stdout",
     "output_type": "stream",
     "text": [
      "Position3cell ID221glimpse saved\n",
      "attemptingPosition3cell ID222\n",
      "Position3cell ID222glimpse saved\n",
      "attemptingPosition3cell ID223\n",
      "Position3cell ID223glimpse saved\n",
      "attemptingPosition3cell ID224\n",
      "Position3cell ID224glimpse saved\n",
      "attemptingPosition3cell ID225\n",
      "Position3cell ID225glimpse saved\n",
      "attemptingPosition3cell ID226\n",
      "Position3cell ID226glimpse saved\n",
      "attemptingPosition3cell ID228\n",
      "Position3cell ID228glimpse saved\n",
      "attemptingPosition3cell ID229\n",
      "Position3cell ID229glimpse saved\n",
      "attemptingPosition3cell ID231\n",
      "Position3cell ID231glimpse saved\n",
      "attemptingPosition3cell ID232\n",
      "Position3cell ID232glimpse saved\n",
      "attemptingPosition3cell ID233\n",
      "Position3cell ID233glimpse saved\n",
      "attemptingPosition3cell ID237\n",
      "Position3cell ID237glimpse saved\n",
      "attemptingPosition3cell ID235\n",
      "Position3cell ID235glimpse saved\n",
      "attemptingPosition3cell ID236\n",
      "Position3cell ID236glimpse saved\n",
      "attemptingPosition3cell ID238\n",
      "Position3cell ID238glimpse saved\n",
      "attemptingPosition3cell ID240\n",
      "Position3cell ID240glimpse saved\n",
      "attemptingPosition3cell ID239\n",
      "Position3cell ID239glimpse saved\n",
      "attemptingPosition3cell ID241\n",
      "Position3cell ID241glimpse saved\n",
      "attemptingPosition3cell ID242\n",
      "Position3cell ID242glimpse saved\n",
      "attemptingPosition3cell ID243\n",
      "Position3cell ID243glimpse saved\n",
      "attemptingPosition3cell ID245\n"
     ]
    },
    {
     "name": "stderr",
     "output_type": "stream",
     "text": [
      "\n",
      " 78%|███████▊  | 204/261 [00:02<00:00, 88.16it/s]\u001b[A\n",
      " 82%|████████▏ | 215/261 [00:03<00:00, 91.93it/s]\u001b[A"
     ]
    },
    {
     "name": "stdout",
     "output_type": "stream",
     "text": [
      "Position3cell ID245glimpse saved\n",
      "attemptingPosition3cell ID246\n",
      "Position3cell ID246glimpse saved\n",
      "attemptingPosition3cell ID247\n",
      "Position3cell ID247glimpse saved\n",
      "attemptingPosition3cell ID249\n",
      "Position3cell ID249glimpse saved\n",
      "attemptingPosition3cell ID250\n",
      "Position3cell ID250glimpse saved\n",
      "attemptingPosition3cell ID248\n",
      "Position3cell ID248glimpse saved\n",
      "attemptingPosition3cell ID251\n",
      "Position3cell ID251glimpse saved\n",
      "attemptingPosition3cell ID252\n",
      "Position3cell ID252glimpse saved\n",
      "attemptingPosition3cell ID253\n",
      "Position3cell ID253glimpse saved\n",
      "attemptingPosition3cell ID254\n",
      "Position3cell ID254glimpse saved\n",
      "attemptingPosition3cell ID255\n",
      "Position3cell ID255glimpse saved\n",
      "attemptingPosition3cell ID256\n",
      "Position3cell ID256glimpse saved\n",
      "attemptingPosition3cell ID257\n",
      "Position3cell ID257glimpse saved\n",
      "attemptingPosition3cell ID258\n",
      "Position3cell ID258glimpse saved\n",
      "attemptingPosition3cell ID259\n",
      "Position3cell ID259glimpse saved\n",
      "attemptingPosition3cell ID260\n",
      "Position3cell ID260glimpse saved\n",
      "attemptingPosition3cell ID261\n",
      "Position3cell ID261glimpse saved\n",
      "attemptingPosition3cell ID263\n",
      "Position3cell ID263glimpse saved\n",
      "attemptingPosition3cell ID264\n",
      "Position3cell ID264glimpse saved\n",
      "attemptingPosition3cell ID265\n",
      "Position3cell ID265glimpse saved\n",
      "attemptingPosition3cell ID266\n",
      "Position3cell ID266glimpse saved\n",
      "attemptingPosition3cell ID267\n",
      "Position3cell ID267glimpse saved\n",
      "attemptingPosition3cell ID268\n",
      "Position3cell ID268glimpse saved\n",
      "attemptingPosition3cell ID270\n"
     ]
    },
    {
     "name": "stderr",
     "output_type": "stream",
     "text": [
      "\n",
      " 87%|████████▋ | 228/261 [00:03<00:00, 101.72it/s]\u001b[A\n",
      "100%|██████████| 261/261 [00:03<00:00, 80.74it/s] \u001b[A\n",
      " 60%|██████    | 3/5 [00:12<00:08,  4.07s/it][INFO][2021/08/09 05:56:41 PM] Opening HDF file: /home/nathan/data/confocal/pcna/Position4/irfp_tracks_2021_08_09_05_47_48_PM.h5...\n",
      "[INFO][2021/08/09 05:56:41 PM] Loading tracks/obj_type_1\n",
      "[INFO][2021/08/09 05:56:41 PM] Loading objects/obj_type_1 (12717, 5) (12717 filtered: None)\n"
     ]
    },
    {
     "name": "stdout",
     "output_type": "stream",
     "text": [
      "Position3cell ID270glimpse saved\n",
      "attemptingPosition3cell ID271\n",
      "Position3cell ID271glimpse saved\n",
      "attemptingPosition3cell ID272\n",
      "Position3cell ID272glimpse saved\n",
      "attemptingPosition3cell ID273\n",
      "Position3cell ID273glimpse saved\n",
      "attemptingPosition3cell ID274\n",
      "Position3cell ID274glimpse saved\n",
      "attemptingPosition3cell ID275\n",
      "Position3cell ID275glimpse saved\n",
      "attemptingPosition3cell ID278\n",
      "Position3cell ID278glimpse saved\n",
      "attemptingPosition3cell ID277\n",
      "Position3cell ID277glimpse saved\n",
      "attemptingPosition3cell ID279\n",
      "Position3cell ID279glimpse saved\n",
      "attemptingPosition3cell ID280\n",
      "Position3cell ID280glimpse saved\n",
      "attemptingPosition3cell ID282\n",
      "Position3cell ID282glimpse saved\n",
      "attemptingPosition3cell ID283\n",
      "Position3cell ID283glimpse saved\n",
      "attemptingPosition3cell ID284\n",
      "Position3cell ID284glimpse saved\n",
      "attemptingPosition3cell ID285\n",
      "Position3cell ID285glimpse saved\n",
      "attemptingPosition3cell ID286\n",
      "Position3cell ID286glimpse saved\n",
      "attemptingPosition3cell ID287\n",
      "Position3cell ID287glimpse saved\n",
      "attemptingPosition3cell ID288\n",
      "Position3cell ID288glimpse saved\n",
      "attemptingPosition3cell ID291\n",
      "Position3cell ID291glimpse saved\n",
      "attemptingPosition3cell ID293\n",
      "Position3cell ID293glimpse saved\n",
      "attemptingPosition3cell ID296\n",
      "Position3cell ID296glimpse saved\n",
      "attemptingPosition3cell ID294\n",
      "Position3cell ID294glimpse saved\n",
      "attemptingPosition3cell ID295\n",
      "Position3cell ID295glimpse saved\n",
      "attemptingPosition3cell ID297\n",
      "Position3cell ID297glimpse saved\n",
      "attemptingPosition3cell ID298\n",
      "Position3cell ID298glimpse saved\n",
      "attemptingPosition3cell ID299\n",
      "Position3cell ID299glimpse saved\n",
      "attemptingPosition3cell ID300\n",
      "Position3cell ID300glimpse saved\n",
      "attemptingPosition3cell ID301\n",
      "Position3cell ID301glimpse saved\n",
      "attemptingPosition3cell ID302\n",
      "Position3cell ID302glimpse saved\n",
      "attemptingPosition3cell ID306\n",
      "Position3cell ID306glimpse saved\n",
      "attemptingPosition3cell ID309\n",
      "Position3cell ID309glimpse saved\n",
      "attemptingPosition3cell ID308\n",
      "Position3cell ID308glimpse saved\n",
      "attemptingPosition3cell ID310\n",
      "Position3cell ID310glimpse saved\n",
      "attemptingPosition3cell ID311\n",
      "Position3cell ID311glimpse saved\n",
      "attemptingPosition3cell ID312\n",
      "Position3cell ID312glimpse saved\n",
      "attemptingPosition3cell ID313\n",
      "Position3cell ID313glimpse saved\n",
      "attemptingPosition3cell ID314\n",
      "Position3cell ID314glimpse saved\n",
      "starting Position4\n"
     ]
    },
    {
     "name": "stderr",
     "output_type": "stream",
     "text": [
      "[INFO][2021/08/09 05:56:41 PM] Closing HDF file: /home/nathan/data/confocal/pcna/Position4/irfp_tracks_2021_08_09_05_47_48_PM.h5\n"
     ]
    },
    {
     "name": "stdout",
     "output_type": "stream",
     "text": [
      "Position4tracking file loaded\n",
      "Position4number of glimpses to be generated:200\n",
      "Loading image channel 2\n",
      "Image loaded\n"
     ]
    },
    {
     "name": "stderr",
     "output_type": "stream",
     "text": [
      "\n",
      "  0%|          | 0/200 [00:00<?, ?it/s]\u001b[A\n",
      "  1%|          | 2/200 [00:00<00:15, 13.19it/s]\u001b[A"
     ]
    },
    {
     "name": "stdout",
     "output_type": "stream",
     "text": [
      "attemptingPosition4cell ID45\n",
      "Position4cell ID45glimpse saved\n",
      "attemptingPosition4cell ID31\n",
      "Position4cell ID31glimpse saved\n",
      "attemptingPosition4cell ID32\n",
      "Position4cell ID32glimpse saved\n",
      "attemptingPosition4cell ID33\n",
      "Position4cell ID33glimpse saved\n",
      "attemptingPosition4cell ID34\n",
      "Position4cell ID34glimpse saved\n",
      "attemptingPosition4cell ID35\n",
      "Position4cell ID35glimpse saved\n",
      "attemptingPosition4cell ID36\n"
     ]
    },
    {
     "name": "stderr",
     "output_type": "stream",
     "text": [
      "\n",
      "  4%|▍         | 8/200 [00:00<00:05, 35.03it/s]\u001b[A\n",
      "  6%|▌         | 12/200 [00:00<00:06, 30.80it/s]\u001b[A"
     ]
    },
    {
     "name": "stdout",
     "output_type": "stream",
     "text": [
      "Position4cell ID36glimpse saved\n",
      "attemptingPosition4cell ID37\n",
      "Position4cell ID37glimpse saved\n",
      "attemptingPosition4cell ID38\n",
      "Position4cell ID38glimpse saved\n",
      "attemptingPosition4cell ID39\n",
      "Position4cell ID39glimpse saved\n",
      "attemptingPosition4cell ID40\n",
      "Position4cell ID40glimpse saved\n",
      "attemptingPosition4cell ID41\n",
      "Position4cell ID41glimpse saved\n",
      "attemptingPosition4cell ID42\n"
     ]
    },
    {
     "name": "stderr",
     "output_type": "stream",
     "text": [
      "\n",
      "  8%|▊         | 16/200 [00:00<00:06, 29.61it/s]\u001b[A"
     ]
    },
    {
     "name": "stdout",
     "output_type": "stream",
     "text": [
      "Position4cell ID42glimpse saved\n",
      "attemptingPosition4cell ID43\n",
      "Position4cell ID43glimpse saved\n",
      "attemptingPosition4cell ID44\n",
      "Position4cell ID44glimpse saved\n",
      "attemptingPosition4cell ID2\n",
      "Position4cell ID2glimpse saved\n",
      "attemptingPosition4cell ID46\n",
      "Position4cell ID46glimpse saved\n",
      "attemptingPosition4cell ID47\n",
      "Position4cell ID47glimpse saved\n",
      "attemptingPosition4cell ID48\n"
     ]
    },
    {
     "name": "stderr",
     "output_type": "stream",
     "text": [
      "\n",
      " 10%|█         | 20/200 [00:00<00:07, 25.70it/s]\u001b[A\n",
      " 14%|█▍        | 28/200 [00:00<00:04, 37.94it/s]\u001b[A"
     ]
    },
    {
     "name": "stdout",
     "output_type": "stream",
     "text": [
      "Position4cell ID48glimpse saved\n",
      "attemptingPosition4cell ID49\n",
      "Position4cell ID49glimpse saved\n",
      "attemptingPosition4cell ID50\n",
      "Position4cell ID50glimpse saved\n",
      "attemptingPosition4cell ID51\n",
      "Position4cell ID51glimpse saved\n",
      "attemptingPosition4cell ID52\n",
      "Position4cell ID52glimpse saved\n",
      "attemptingPosition4cell ID53\n",
      "Position4cell ID53glimpse saved\n",
      "attemptingPosition4cell ID54\n",
      "Position4cell ID54glimpse saved\n",
      "attemptingPosition4cell ID55\n",
      "Position4cell ID55glimpse saved\n",
      "attemptingPosition4cell ID56\n",
      "Position4cell ID56glimpse saved\n",
      "attemptingPosition4cell ID57\n",
      "Position4cell ID57glimpse saved\n",
      "attemptingPosition4cell ID1\n",
      "Position4cell ID1glimpse saved\n",
      "attemptingPosition4cell ID8\n",
      "Position4cell ID8glimpse saved\n",
      "attemptingPosition4cell ID30\n",
      "Position4cell ID30glimpse saved\n",
      "attemptingPosition4cell ID3\n"
     ]
    },
    {
     "name": "stderr",
     "output_type": "stream",
     "text": [
      "\n",
      " 16%|█▋        | 33/200 [00:01<00:04, 34.56it/s]\u001b[A"
     ]
    },
    {
     "name": "stdout",
     "output_type": "stream",
     "text": [
      "Position4cell ID3glimpse saved\n",
      "attemptingPosition4cell ID4\n",
      "Position4cell ID4glimpse saved\n",
      "attemptingPosition4cell ID5\n",
      "Position4cell ID5glimpse saved\n",
      "attemptingPosition4cell ID6\n",
      "Position4cell ID6glimpse saved\n",
      "attemptingPosition4cell ID7\n"
     ]
    },
    {
     "name": "stderr",
     "output_type": "stream",
     "text": [
      "\n",
      " 18%|█▊        | 37/200 [00:01<00:06, 26.23it/s]\u001b[A"
     ]
    },
    {
     "name": "stdout",
     "output_type": "stream",
     "text": [
      "Position4cell ID7glimpse saved\n",
      "attemptingPosition4cell ID10\n",
      "Position4cell ID10glimpse saved\n",
      "attemptingPosition4cell ID11\n",
      "Position4cell ID11glimpse saved\n",
      "attemptingPosition4cell ID12\n"
     ]
    },
    {
     "name": "stderr",
     "output_type": "stream",
     "text": [
      "\n",
      " 20%|██        | 41/200 [00:01<00:07, 21.49it/s]\u001b[A"
     ]
    },
    {
     "name": "stdout",
     "output_type": "stream",
     "text": [
      "Position4cell ID12glimpse saved\n",
      "attemptingPosition4cell ID13\n",
      "Position4cell ID13glimpse saved\n",
      "attemptingPosition4cell ID14\n",
      "Position4cell ID14glimpse saved\n",
      "attemptingPosition4cell ID15\n",
      "Position4cell ID15glimpse saved\n",
      "attemptingPosition4cell ID17\n",
      "Position4cell ID17glimpse saved\n",
      "attemptingPosition4cell ID29\n",
      "Position4cell ID29glimpse saved\n",
      "attemptingPosition4cell ID27\n",
      "Position4cell ID27glimpse saved\n",
      "attemptingPosition4cell ID26\n",
      "Position4cell ID26glimpse saved\n",
      "attemptingPosition4cell ID25\n",
      "Position4cell ID25glimpse saved\n",
      "attemptingPosition4cell ID24\n",
      "Position4cell ID24glimpse saved\n",
      "attemptingPosition4cell ID16\n",
      "Position4cell ID16glimpse saved\n",
      "attemptingPosition4cell ID22\n",
      "Position4cell ID22glimpse saved\n",
      "attemptingPosition4cell ID21\n",
      "Position4cell ID21glimpse saved\n",
      "attemptingPosition4cell ID20\n",
      "Position4cell ID20glimpse saved\n",
      "attemptingPosition4cell ID19\n",
      "Position4cell ID19glimpse saved\n",
      "attemptingPosition4cell ID18\n"
     ]
    },
    {
     "name": "stderr",
     "output_type": "stream",
     "text": [
      "\n",
      " 30%|██▉       | 59/200 [00:01<00:02, 48.68it/s]\u001b[A\n",
      " 34%|███▎      | 67/200 [00:01<00:02, 54.07it/s]\u001b[A"
     ]
    },
    {
     "name": "stdout",
     "output_type": "stream",
     "text": [
      "Position4cell ID18glimpse saved\n",
      "attemptingPosition4cell ID23\n",
      "Position4cell ID23glimpse saved\n",
      "attemptingPosition4cell ID58\n",
      "Position4cell ID58glimpse saved\n",
      "attemptingPosition4cell ID59\n",
      "Position4cell ID59glimpse saved\n",
      "attemptingPosition4cell ID60\n",
      "Position4cell ID60glimpse saved\n",
      "attemptingPosition4cell ID61\n",
      "Position4cell ID61glimpse saved\n",
      "attemptingPosition4cell ID63\n",
      "Position4cell ID63glimpse saved\n",
      "attemptingPosition4cell ID64\n",
      "Position4cell ID64glimpse saved\n",
      "attemptingPosition4cell ID66\n",
      "Position4cell ID66glimpse saved\n",
      "attemptingPosition4cell ID67\n",
      "Position4cell ID67glimpse saved\n",
      "attemptingPosition4cell ID68\n",
      "Position4cell ID68glimpse saved\n",
      "attemptingPosition4cell ID70\n",
      "Position4cell ID70glimpse saved\n",
      "attemptingPosition4cell ID71\n",
      "Position4cell ID71glimpse saved\n",
      "attemptingPosition4cell ID72\n",
      "Position4cell ID72glimpse saved\n",
      "attemptingPosition4cell ID74\n",
      "Position4cell ID74glimpse saved\n",
      "attemptingPosition4cell ID75\n",
      "Position4cell ID75glimpse saved\n",
      "attemptingPosition4cell ID77\n"
     ]
    },
    {
     "name": "stderr",
     "output_type": "stream",
     "text": [
      "\n",
      " 38%|███▊      | 75/200 [00:01<00:02, 48.05it/s]\u001b[A"
     ]
    },
    {
     "name": "stdout",
     "output_type": "stream",
     "text": [
      "Position4cell ID77glimpse saved\n",
      "attemptingPosition4cell ID79\n",
      "Position4cell ID79glimpse saved\n",
      "attemptingPosition4cell ID81\n",
      "Position4cell ID81glimpse saved\n",
      "attemptingPosition4cell ID86\n",
      "Position4cell ID86glimpse saved\n",
      "attemptingPosition4cell ID87\n",
      "Position4cell ID87glimpse saved\n",
      "attemptingPosition4cell ID88\n",
      "Position4cell ID88glimpse saved\n",
      "attemptingPosition4cell ID89\n",
      "Position4cell ID89glimpse saved\n",
      "attemptingPosition4cell ID90\n",
      "Position4cell ID90glimpse saved\n",
      "attemptingPosition4cell ID91\n",
      "Position4cell ID91glimpse saved\n",
      "attemptingPosition4cell ID92\n",
      "Position4cell ID92glimpse saved\n",
      "attemptingPosition4cell ID93\n",
      "Position4cell ID93glimpse saved\n",
      "attemptingPosition4cell ID94\n",
      "Position4cell ID94glimpse saved\n",
      "attemptingPosition4cell ID95\n",
      "Position4cell ID95glimpse saved\n",
      "attemptingPosition4cell ID97\n"
     ]
    },
    {
     "name": "stderr",
     "output_type": "stream",
     "text": [
      "\n",
      " 42%|████▎     | 85/200 [00:02<00:02, 53.60it/s]\u001b[A\n",
      " 46%|████▌     | 92/200 [00:02<00:02, 51.42it/s]\u001b[A"
     ]
    },
    {
     "name": "stdout",
     "output_type": "stream",
     "text": [
      "Position4cell ID97glimpse saved\n",
      "attemptingPosition4cell ID98\n",
      "Position4cell ID98glimpse saved\n",
      "attemptingPosition4cell ID99\n",
      "Position4cell ID99glimpse saved\n",
      "attemptingPosition4cell ID100\n",
      "Position4cell ID100glimpse saved\n",
      "attemptingPosition4cell ID101\n",
      "Position4cell ID101glimpse saved\n",
      "attemptingPosition4cell ID104\n",
      "Position4cell ID104glimpse saved\n",
      "attemptingPosition4cell ID106\n",
      "Position4cell ID106glimpse saved\n",
      "attemptingPosition4cell ID108\n",
      "Position4cell ID108glimpse saved\n",
      "attemptingPosition4cell ID109\n",
      "Position4cell ID109glimpse saved\n",
      "attemptingPosition4cell ID110\n",
      "Position4cell ID110glimpse saved\n",
      "attemptingPosition4cell ID111\n",
      "Position4cell ID111glimpse saved\n",
      "attemptingPosition4cell ID113\n"
     ]
    },
    {
     "name": "stderr",
     "output_type": "stream",
     "text": [
      "\n",
      " 50%|████▉     | 99/200 [00:02<00:01, 54.36it/s]\u001b[A\n"
     ]
    },
    {
     "name": "stdout",
     "output_type": "stream",
     "text": [
      "Position4cell ID113glimpse saved\n",
      "attemptingPosition4cell ID114\n",
      "Position4cell ID114glimpse saved\n",
      "attemptingPosition4cell ID115\n",
      "Position4cell ID115glimpse saved\n",
      "attemptingPosition4cell ID118\n",
      "Position4cell ID118glimpse saved\n",
      "attemptingPosition4cell ID116\n",
      "Position4cell ID116glimpse saved\n",
      "attemptingPosition4cell ID120\n",
      "Position4cell ID120glimpse saved\n",
      "attemptingPosition4cell ID121\n",
      "Position4cell ID121glimpse saved\n",
      "attemptingPosition4cell ID124\n",
      "Position4cell ID124glimpse saved\n",
      "attemptingPosition4cell ID125\n",
      "Position4cell ID125glimpse saved\n",
      "attemptingPosition4cell ID126\n",
      "Position4cell ID126glimpse saved\n",
      "attemptingPosition4cell ID127\n",
      "Position4cell ID127glimpse saved\n",
      "attemptingPosition4cell ID128\n",
      "Position4cell ID128glimpse saved\n",
      "attemptingPosition4cell ID129\n",
      "Position4cell ID129glimpse saved\n",
      "attemptingPosition4cell ID130\n",
      "Position4cell ID130glimpse saved\n",
      "attemptingPosition4cell ID131\n",
      "Position4cell ID131glimpse saved\n",
      "attemptingPosition4cell ID136\n",
      "Position4cell ID136glimpse saved\n",
      "attemptingPosition4cell ID138\n",
      "Position4cell ID138glimpse saved\n",
      "attemptingPosition4cell ID137\n",
      "Position4cell ID137glimpse saved\n",
      "attemptingPosition4cell ID140\n",
      "Position4cell ID140glimpse saved\n",
      "attemptingPosition4cell ID141\n",
      "Position4cell ID141glimpse saved\n",
      "attemptingPosition4cell ID142\n",
      "Position4cell ID142glimpse saved\n"
     ]
    },
    {
     "name": "stderr",
     "output_type": "stream",
     "text": [
      " 57%|█████▋    | 114/200 [00:02<00:01, 68.96it/s]\u001b[A\n",
      " 61%|██████    | 122/200 [00:02<00:01, 58.11it/s]\u001b[A"
     ]
    },
    {
     "name": "stdout",
     "output_type": "stream",
     "text": [
      "attemptingPosition4cell ID143\n",
      "Position4cell ID143glimpse saved\n",
      "attemptingPosition4cell ID144\n",
      "Position4cell ID144glimpse saved\n",
      "attemptingPosition4cell ID145\n",
      "Position4cell ID145glimpse saved\n",
      "attemptingPosition4cell ID146\n",
      "Position4cell ID146glimpse saved\n",
      "attemptingPosition4cell ID147\n",
      "Position4cell ID147glimpse saved\n",
      "attemptingPosition4cell ID148\n",
      "Position4cell ID148glimpse saved\n",
      "attemptingPosition4cell ID149\n",
      "Position4cell ID149glimpse saved\n",
      "attemptingPosition4cell ID151\n",
      "Position4cell ID151glimpse saved\n",
      "attemptingPosition4cell ID152\n"
     ]
    },
    {
     "name": "stderr",
     "output_type": "stream",
     "text": [
      "\n",
      " 64%|██████▍   | 129/200 [00:02<00:01, 52.90it/s]\u001b[A"
     ]
    },
    {
     "name": "stdout",
     "output_type": "stream",
     "text": [
      "Position4cell ID152glimpse saved\n",
      "attemptingPosition4cell ID154\n",
      "Position4cell ID154glimpse saved\n",
      "attemptingPosition4cell ID158\n",
      "Position4cell ID158glimpse saved\n",
      "attemptingPosition4cell ID159\n",
      "Position4cell ID159glimpse saved\n",
      "attemptingPosition4cell ID160\n",
      "Position4cell ID160glimpse saved\n",
      "attemptingPosition4cell ID161\n",
      "Position4cell ID161glimpse saved\n",
      "attemptingPosition4cell ID163\n",
      "Position4cell ID163glimpse saved\n",
      "attemptingPosition4cell ID164\n",
      "Position4cell ID164glimpse saved\n",
      "attemptingPosition4cell ID165\n",
      "Position4cell ID165glimpse saved\n",
      "attemptingPosition4cell ID168\n"
     ]
    },
    {
     "name": "stderr",
     "output_type": "stream",
     "text": [
      "\n",
      " 68%|██████▊   | 135/200 [00:03<00:01, 48.10it/s]\u001b[A\n",
      " 70%|███████   | 141/200 [00:03<00:01, 48.17it/s]\u001b[A"
     ]
    },
    {
     "name": "stdout",
     "output_type": "stream",
     "text": [
      "Position4cell ID168glimpse saved\n",
      "attemptingPosition4cell ID170\n",
      "Position4cell ID170glimpse saved\n",
      "attemptingPosition4cell ID169\n",
      "Position4cell ID169glimpse saved\n",
      "attemptingPosition4cell ID171\n",
      "Position4cell ID171glimpse saved\n",
      "attemptingPosition4cell ID172\n",
      "Position4cell ID172glimpse saved\n",
      "attemptingPosition4cell ID175\n",
      "Position4cell ID175glimpse saved\n",
      "attemptingPosition4cell ID176\n",
      "Position4cell ID176glimpse saved\n",
      "attemptingPosition4cell ID178\n",
      "Position4cell ID178glimpse saved\n",
      "attemptingPosition4cell ID179\n",
      "Position4cell ID179glimpse saved\n",
      "attemptingPosition4cell ID180\n",
      "Position4cell ID180glimpse saved\n",
      "attemptingPosition4cell ID181\n"
     ]
    },
    {
     "name": "stderr",
     "output_type": "stream",
     "text": [
      "\n",
      " 74%|███████▍  | 148/200 [00:03<00:01, 50.80it/s]\u001b[A\n",
      " 77%|███████▋  | 154/200 [00:03<00:00, 51.27it/s]\u001b[A"
     ]
    },
    {
     "name": "stdout",
     "output_type": "stream",
     "text": [
      "Position4cell ID181glimpse saved\n",
      "attemptingPosition4cell ID182\n",
      "Position4cell ID182glimpse saved\n",
      "attemptingPosition4cell ID183\n",
      "Position4cell ID183glimpse saved\n",
      "attemptingPosition4cell ID184\n",
      "Position4cell ID184glimpse saved\n",
      "attemptingPosition4cell ID185\n",
      "Position4cell ID185glimpse saved\n",
      "attemptingPosition4cell ID186\n",
      "Position4cell ID186glimpse saved\n",
      "attemptingPosition4cell ID187\n",
      "Position4cell ID187glimpse saved\n",
      "attemptingPosition4cell ID188\n",
      "Position4cell ID188glimpse saved\n",
      "attemptingPosition4cell ID189\n",
      "Position4cell ID189glimpse saved\n",
      "attemptingPosition4cell ID190\n",
      "Position4cell ID190glimpse saved\n",
      "attemptingPosition4cell ID191\n",
      "Position4cell ID191glimpse saved\n",
      "attemptingPosition4cell ID193\n",
      "Position4cell ID193glimpse saved\n",
      "attemptingPosition4cell ID194\n",
      "Position4cell ID194glimpse saved\n",
      "attemptingPosition4cell ID195\n"
     ]
    },
    {
     "name": "stderr",
     "output_type": "stream",
     "text": [
      "\n",
      " 82%|████████▎ | 165/200 [00:03<00:00, 65.47it/s]\u001b[A\n",
      " 90%|████████▉ | 179/200 [00:03<00:00, 84.27it/s]\u001b[A"
     ]
    },
    {
     "name": "stdout",
     "output_type": "stream",
     "text": [
      "Position4cell ID195glimpse saved\n",
      "attemptingPosition4cell ID196\n",
      "Position4cell ID196glimpse saved\n",
      "attemptingPosition4cell ID198\n",
      "Position4cell ID198glimpse saved\n",
      "attemptingPosition4cell ID199\n",
      "Position4cell ID199glimpse saved\n",
      "attemptingPosition4cell ID201\n",
      "Position4cell ID201glimpse saved\n",
      "attemptingPosition4cell ID202\n",
      "Position4cell ID202glimpse saved\n",
      "attemptingPosition4cell ID204\n",
      "Position4cell ID204glimpse saved\n",
      "attemptingPosition4cell ID205\n",
      "Position4cell ID205glimpse saved\n",
      "attemptingPosition4cell ID206\n",
      "Position4cell ID206glimpse saved\n",
      "attemptingPosition4cell ID207\n",
      "Position4cell ID207glimpse saved\n",
      "attemptingPosition4cell ID208\n",
      "Position4cell ID208glimpse saved\n",
      "attemptingPosition4cell ID209\n",
      "Position4cell ID209glimpse saved\n",
      "attemptingPosition4cell ID210\n",
      "Position4cell ID210glimpse saved\n",
      "attemptingPosition4cell ID211\n",
      "Position4cell ID211glimpse saved\n",
      "attemptingPosition4cell ID212\n",
      "Position4cell ID212glimpse saved\n",
      "attemptingPosition4cell ID213\n",
      "Position4cell ID213glimpse saved\n",
      "attemptingPosition4cell ID214\n",
      "Position4cell ID214glimpse saved\n",
      "attemptingPosition4cell ID217\n",
      "Position4cell ID217glimpse saved\n",
      "attemptingPosition4cell ID218\n",
      "Position4cell ID218glimpse saved\n",
      "attemptingPosition4cell ID216\n",
      "Position4cell ID216glimpse saved\n",
      "attemptingPosition4cell ID221\n",
      "Position4cell ID221glimpse saved\n",
      "attemptingPosition4cell ID222\n",
      "Position4cell ID222glimpse saved\n",
      "attemptingPosition4cell ID223\n",
      "Position4cell ID223glimpse saved\n",
      "attemptingPosition4cell ID224\n",
      "Position4cell ID224glimpse saved\n",
      "attemptingPosition4cell ID225\n",
      "Position4cell ID225glimpse saved\n",
      "attemptingPosition4cell ID226\n",
      "Position4cell ID226glimpse saved\n",
      "attemptingPosition4cell ID227\n",
      "Position4cell ID227glimpse saved\n",
      "attemptingPosition4cell ID228\n",
      "Position4cell ID228glimpse saved\n",
      "attemptingPosition4cell ID232\n"
     ]
    },
    {
     "name": "stderr",
     "output_type": "stream",
     "text": [
      "100%|██████████| 200/200 [00:03<00:00, 53.97it/s]\n",
      " 80%|████████  | 4/5 [00:16<00:04,  4.20s/it][INFO][2021/08/09 05:56:45 PM] Opening HDF file: /home/nathan/data/confocal/pcna/Position5/irfp_tracks_2021_08_09_05_47_51_PM.h5...\n",
      "[INFO][2021/08/09 05:56:45 PM] Loading tracks/obj_type_1\n",
      "[INFO][2021/08/09 05:56:45 PM] Loading objects/obj_type_1 (4647, 5) (4647 filtered: None)\n",
      "[INFO][2021/08/09 05:56:45 PM] Closing HDF file: /home/nathan/data/confocal/pcna/Position5/irfp_tracks_2021_08_09_05_47_51_PM.h5\n"
     ]
    },
    {
     "name": "stdout",
     "output_type": "stream",
     "text": [
      "Position4cell ID232glimpse saved\n",
      "attemptingPosition4cell ID230\n",
      "Position4cell ID230glimpse saved\n",
      "attemptingPosition4cell ID229\n",
      "Position4cell ID229glimpse saved\n",
      "attemptingPosition4cell ID231\n",
      "Position4cell ID231glimpse saved\n",
      "attemptingPosition4cell ID233\n",
      "Position4cell ID233glimpse saved\n",
      "attemptingPosition4cell ID235\n",
      "Position4cell ID235glimpse saved\n",
      "attemptingPosition4cell ID238\n",
      "Position4cell ID238glimpse saved\n",
      "attemptingPosition4cell ID239\n",
      "Position4cell ID239glimpse saved\n",
      "attemptingPosition4cell ID240\n",
      "Position4cell ID240glimpse saved\n",
      "attemptingPosition4cell ID241\n",
      "Position4cell ID241glimpse saved\n",
      "attemptingPosition4cell ID242\n",
      "Position4cell ID242glimpse saved\n",
      "attemptingPosition4cell ID243\n",
      "Position4cell ID243glimpse saved\n",
      "attemptingPosition4cell ID245\n",
      "Position4cell ID245glimpse saved\n",
      "attemptingPosition4cell ID246\n",
      "Position4cell ID246glimpse saved\n",
      "attemptingPosition4cell ID248\n",
      "Position4cell ID248glimpse saved\n",
      "attemptingPosition4cell ID250\n",
      "Position4cell ID250glimpse saved\n",
      "attemptingPosition4cell ID251\n",
      "Position4cell ID251glimpse saved\n",
      "attemptingPosition4cell ID252\n",
      "Position4cell ID252glimpse saved\n",
      "starting Position5\n",
      "Position5tracking file loaded\n",
      "Position5number of glimpses to be generated:65\n",
      "Loading image channel 2\n",
      "Image loaded\n"
     ]
    },
    {
     "name": "stderr",
     "output_type": "stream",
     "text": [
      "\n",
      "  0%|          | 0/65 [00:00<?, ?it/s]\u001b[A\n",
      "  5%|▍         | 3/65 [00:00<00:02, 28.42it/s]\u001b[A"
     ]
    },
    {
     "name": "stdout",
     "output_type": "stream",
     "text": [
      "attemptingPosition5cell ID12\n",
      "Position5cell ID12glimpse saved\n",
      "attemptingPosition5cell ID1\n",
      "Position5cell ID1glimpse saved\n",
      "attemptingPosition5cell ID20\n",
      "Position5cell ID20glimpse saved\n",
      "attemptingPosition5cell ID19\n",
      "Position5cell ID19glimpse saved\n",
      "attemptingPosition5cell ID18\n"
     ]
    },
    {
     "name": "stderr",
     "output_type": "stream",
     "text": [
      "\n",
      "  9%|▉         | 6/65 [00:00<00:02, 21.66it/s]\u001b[A\n",
      " 14%|█▍        | 9/65 [00:00<00:02, 19.21it/s]\u001b[A"
     ]
    },
    {
     "name": "stdout",
     "output_type": "stream",
     "text": [
      "Position5cell ID18glimpse saved\n",
      "attemptingPosition5cell ID17\n",
      "Position5cell ID17glimpse saved\n",
      "attemptingPosition5cell ID16\n",
      "Position5cell ID16glimpse saved\n",
      "attemptingPosition5cell ID15\n",
      "Position5cell ID15glimpse saved\n",
      "attemptingPosition5cell ID14\n",
      "Position5cell ID14glimpse saved\n",
      "attemptingPosition5cell ID13\n"
     ]
    },
    {
     "name": "stderr",
     "output_type": "stream",
     "text": [
      "\n",
      " 31%|███       | 20/65 [00:00<00:01, 40.36it/s]\u001b[A"
     ]
    },
    {
     "name": "stdout",
     "output_type": "stream",
     "text": [
      "Position5cell ID13glimpse saved\n",
      "attemptingPosition5cell ID11\n",
      "Position5cell ID11glimpse saved\n",
      "attemptingPosition5cell ID10\n",
      "Position5cell ID10glimpse saved\n",
      "attemptingPosition5cell ID9\n",
      "Position5cell ID9glimpse saved\n",
      "attemptingPosition5cell ID8\n",
      "Position5cell ID8glimpse saved\n",
      "attemptingPosition5cell ID7\n",
      "Position5cell ID7glimpse saved\n",
      "attemptingPosition5cell ID6\n",
      "Position5cell ID6glimpse saved\n",
      "attemptingPosition5cell ID5\n",
      "Position5cell ID5glimpse saved\n",
      "attemptingPosition5cell ID4\n",
      "Position5cell ID4glimpse saved\n",
      "attemptingPosition5cell ID3\n",
      "Position5cell ID3glimpse saved\n",
      "attemptingPosition5cell ID2\n",
      "Position5cell ID2glimpse saved\n",
      "attemptingPosition5cell ID21\n",
      "Position5cell ID21glimpse saved\n",
      "attemptingPosition5cell ID22\n",
      "Position5cell ID22glimpse saved\n",
      "attemptingPosition5cell ID23\n",
      "Position5cell ID23glimpse saved\n",
      "attemptingPosition5cell ID27\n",
      "Position5cell ID27glimpse saved\n",
      "attemptingPosition5cell ID28\n",
      "Position5cell ID28glimpse saved\n",
      "attemptingPosition5cell ID29\n"
     ]
    },
    {
     "name": "stderr",
     "output_type": "stream",
     "text": [
      "\n",
      " 45%|████▍     | 29/65 [00:00<00:00, 48.45it/s]\u001b[A\n",
      " 54%|█████▍    | 35/65 [00:00<00:00, 48.40it/s]\u001b[A"
     ]
    },
    {
     "name": "stdout",
     "output_type": "stream",
     "text": [
      "Position5cell ID29glimpse saved\n",
      "attemptingPosition5cell ID30\n",
      "Position5cell ID30glimpse saved\n",
      "attemptingPosition5cell ID33\n",
      "Position5cell ID33glimpse saved\n",
      "attemptingPosition5cell ID35\n",
      "Position5cell ID35glimpse saved\n",
      "attemptingPosition5cell ID36\n",
      "Position5cell ID36glimpse saved\n",
      "attemptingPosition5cell ID38\n",
      "Position5cell ID38glimpse saved\n",
      "attemptingPosition5cell ID41\n",
      "Position5cell ID41glimpse saved\n",
      "attemptingPosition5cell ID40\n",
      "Position5cell ID40glimpse saved\n",
      "attemptingPosition5cell ID39\n",
      "Position5cell ID39glimpse saved\n",
      "attemptingPosition5cell ID42\n",
      "Position5cell ID42glimpse saved\n",
      "attemptingPosition5cell ID46\n"
     ]
    },
    {
     "name": "stderr",
     "output_type": "stream",
     "text": [
      "\n",
      " 62%|██████▏   | 40/65 [00:01<00:00, 40.40it/s]\u001b[A"
     ]
    },
    {
     "name": "stdout",
     "output_type": "stream",
     "text": [
      "Position5cell ID46glimpse saved\n",
      "attemptingPosition5cell ID47\n",
      "Position5cell ID47glimpse saved\n",
      "attemptingPosition5cell ID51\n",
      "Position5cell ID51glimpse saved\n",
      "attemptingPosition5cell ID53\n",
      "Position5cell ID53glimpse saved\n",
      "attemptingPosition5cell ID57\n",
      "Position5cell ID57glimpse saved\n",
      "attemptingPosition5cell ID59\n",
      "Position5cell ID59glimpse saved\n",
      "attemptingPosition5cell ID60\n",
      "Position5cell ID60glimpse saved\n",
      "attemptingPosition5cell ID62\n",
      "Position5cell ID62glimpse saved\n",
      "attemptingPosition5cell ID65\n",
      "Position5cell ID65glimpse saved\n",
      "attemptingPosition5cell ID64\n",
      "Position5cell ID64glimpse saved\n",
      "attemptingPosition5cell ID63\n"
     ]
    },
    {
     "name": "stderr",
     "output_type": "stream",
     "text": [
      "\n",
      " 71%|███████   | 46/65 [00:01<00:00, 44.37it/s]\u001b[A"
     ]
    },
    {
     "name": "stdout",
     "output_type": "stream",
     "text": [
      "Position5cell ID63glimpse saved\n",
      "attemptingPosition5cell ID67\n",
      "Position5cell ID67glimpse saved\n",
      "attemptingPosition5cell ID69\n",
      "Position5cell ID69glimpse saved\n",
      "attemptingPosition5cell ID70\n",
      "Position5cell ID70glimpse saved\n",
      "attemptingPosition5cell ID71\n",
      "Position5cell ID71glimpse saved\n",
      "attemptingPosition5cell ID72\n"
     ]
    },
    {
     "name": "stderr",
     "output_type": "stream",
     "text": [
      "\n",
      " 78%|███████▊  | 51/65 [00:01<00:00, 36.01it/s]\u001b[A\n",
      " 85%|████████▍ | 55/65 [00:01<00:00, 31.96it/s]\u001b[A"
     ]
    },
    {
     "name": "stdout",
     "output_type": "stream",
     "text": [
      "Position5cell ID72glimpse saved\n",
      "attemptingPosition5cell ID73\n",
      "Position5cell ID73glimpse saved\n",
      "attemptingPosition5cell ID74\n",
      "Position5cell ID74glimpse saved\n",
      "attemptingPosition5cell ID75\n",
      "Position5cell ID75glimpse saved\n",
      "attemptingPosition5cell ID76\n",
      "Position5cell ID76glimpse saved\n",
      "attemptingPosition5cell ID77\n"
     ]
    },
    {
     "name": "stderr",
     "output_type": "stream",
     "text": [
      "100%|██████████| 65/65 [00:01<00:00, 41.24it/s]\n",
      "100%|██████████| 5/5 [00:19<00:00,  3.81s/it]"
     ]
    },
    {
     "name": "stdout",
     "output_type": "stream",
     "text": [
      "Position5cell ID77glimpse saved\n",
      "attemptingPosition5cell ID78\n",
      "Position5cell ID78glimpse saved\n",
      "attemptingPosition5cell ID80\n",
      "Position5cell ID80glimpse saved\n",
      "attemptingPosition5cell ID81\n",
      "Position5cell ID81glimpse saved\n",
      "attemptingPosition5cell ID82\n",
      "Position5cell ID82glimpse saved\n",
      "attemptingPosition5cell ID84\n",
      "Position5cell ID84glimpse saved\n",
      "attemptingPosition5cell ID85\n",
      "Position5cell ID85glimpse saved\n",
      "attemptingPosition5cell ID86\n",
      "Position5cell ID86glimpse saved\n",
      "attemptingPosition5cell ID87\n",
      "Position5cell ID87glimpse saved\n",
      "attemptingPosition5cell ID88\n",
      "Position5cell ID88glimpse saved\n"
     ]
    },
    {
     "name": "stderr",
     "output_type": "stream",
     "text": [
      "\n"
     ]
    }
   ],
   "source": [
    "for pos in tqdm(pos_list):\n",
    "    try:\n",
    "        print('starting', pos)\n",
    "        tracks_path = glob.glob(os.path.join(expt_root_folder,'{}/irfp*.h5'.format(pos)))[0] #glob.glob(os.path.join(expt_root_folder,'{}/{}/gfp*.h5'.format(expt,pos)))\n",
    "         \n",
    "\n",
    "        with btrack.dataio.HDF5FileHandler(tracks_path, 'r', obj_type = \"obj_type_1\") as hdf:\n",
    "            tracks = hdf.tracks\n",
    "\n",
    "        message = str(pos) + 'tracking file loaded'\n",
    "        log.append(message)\n",
    "        print(message)\n",
    "\n",
    "        ### filter tracks that should contain a full cell cycle in (1 timepoint/frame = 4min, cc time approx 200 frames based on quick look)\n",
    "        tracks = [track for track in tracks if len(track) > 2]#200]\n",
    "\n",
    "        ### filter tracks that spend a lot of time out of focus\n",
    "        #tracks = [track for track in tracks if track.t[-1] < focal_time_range[1]]\n",
    "\n",
    "        ### show number of filtered tracks\n",
    "        message = str(pos)+'number of glimpses to be generated:'+str(len(tracks))\n",
    "        log.append(message)\n",
    "        print(message)\n",
    "\n",
    "        ### find images and set output\n",
    "        image_folder = os.path.join(expt_root_folder, pos) #os.path.join(expt_root_folder,expt, pos, pos+'_stacks')\n",
    "        output_dir = '/home/nathan/data/confocal/pcna/glimpses/non_edge_64px/'#'{}'.format(pos)#'/home/nathan/data/kraken/pcna/glimpses/{}/{}'.format(expt, pos)\n",
    "\n",
    "        for channel in channels:\n",
    "            ### load images\n",
    "            print('Loading image channel', channel)\n",
    "            images = imread(os.path.join(image_folder, 'Chan{}*.tif'.format(channel)))#imread(os.path.join(image_folder, 'channel{}.tif'.format(channel)))\n",
    "            print('Image loaded')\n",
    "            message = str(pos) + 'image loaded'\n",
    "            log.append(message)\n",
    "\n",
    "            ### create output directory\n",
    "            output_ch_dir = output_dir#os.path.join(output_dir, 'channel'+channel)\n",
    "            Path(output_ch_dir).mkdir(parents=True, exist_ok=True)\n",
    "\n",
    "            for cell in tqdm(tracks):\n",
    "                try:\n",
    "                    message = 'attempting' + str(pos) + 'cell ID' + str(cell.ID)\n",
    "                    log.append(message)\n",
    "                    print(message)\n",
    "\n",
    "                    ### get length of track/glimpse \n",
    "                    #length = range(cell.t[0], cell.t[-1])\n",
    "                    ### get the xy coords of track/glimpse \n",
    "                    y, x = cell.x, cell.y #### WHY IS THE COORDINATES TRANSPOSED???? \n",
    "\n",
    "                    ### iterate over all frames cropping\n",
    "                    for j, i in enumerate(cell.t): ## need to have something that solves skipped frames # not including the last frame bc list index out of range ie there is one more i than there\n",
    "                        ### obtain correct frame\n",
    "                        image = images[i]\n",
    "                        ### get glimpse dimensions \n",
    "                        size = int(glimpse_size[0])\n",
    "                        ### obtains coordinates of cell and skip if cell drifts over edge\n",
    "                        x1, y1 = x[j], y[j]\n",
    "                        if not size < x1 < image.shape[0] - size:\n",
    "                            continue\n",
    "                        if not size < y1 < image.shape[0] - size:\n",
    "                            continue\n",
    "                        ### obtain coordinates of bounding box of glimpse (centered on cell)\n",
    "                        #x1, x2, y1, y2 = x[j], x[j]+size, y[j], y[j]+size #coordinates to crop by, shifted bearing in mind a further coord shift (+100,+100) occurs due to image padding            \n",
    "                        x1, x2, y1, y2 = x[j]-(size/2), x[j]+(size/2), y[j]-(size/2), y[j]+(size/2) #coordinates to crop by, shifted bearing in mind a further coord shift (+100,+100) occurs due to image padding            \n",
    "                        ### pad image incase cell goes off FOV\n",
    "                        #image = np.pad(image, int(size/2), 'constant', constant_values = 0) \n",
    "                        ## glimpse creation by cropping original image\n",
    "                        glimpse = image[int(x1): int(x2), int(y1): int(y2)]\n",
    "                        ### fraction of track this frame is at\n",
    "                        age = round(j/len(cell),3)\n",
    "                        fn = str(pos)+'_cell_ID_' + str(cell.ID) + '_channel' + channel + '_t{}_age{}.tif'.format(i, age)\n",
    "                        ### glimpse output\n",
    "                        imsave(os.path.join(output_ch_dir, fn), glimpse) \n",
    "\n",
    "                    message = str(pos)+'cell ID'+ str(cell.ID) + 'glimpse saved'\n",
    "                    print(message)\n",
    "                    log.append(message)\n",
    "\n",
    "                except:\n",
    "                    message = str(cell.ID)+ 'failed to produce glimpse'\n",
    "                    log.append(message)\n",
    "                    print(message)\n",
    "    except:\n",
    "        message = 'something went big wrong on' +str(pos)\n",
    "        log.append(message)\n",
    "        print(message)"
   ]
  },
  {
   "cell_type": "markdown",
   "metadata": {},
   "source": [
    "# cropping files down to 64px2"
   ]
  },
  {
   "cell_type": "code",
   "execution_count": 9,
   "metadata": {},
   "outputs": [],
   "source": [
    "final_shape = (32,32)\n",
    "all_patches_dir = '/home/nathan/data/confocal/pcna/glimpses/non_edge_64px'# os.path.join(glimpse_parent_folder, 'all')\n",
    "files = [fn for fn in os.listdir(all_patches_dir) if '.tif' in fn]\n",
    "output_dir = '/home/nathan/data/confocal/pcna/glimpses/non_edge_32px'\n",
    "if not os.path.exists(output_dir):\n",
    "    os.makedirs(output_dir)\n",
    "for image_fn in files:\n",
    "    image_path = os.path.join(all_patches_dir, image_fn)\n",
    "    image = imread(image_path)\n",
    "    shape = image.shape\n",
    "    crop_amount = (shape[0]-final_shape[0])/2\n",
    "    x1, y1, x2, y2 = int(crop_amount), int(crop_amount), int(crop_amount+final_shape[0]) , int(crop_amount+final_shape[0])\n",
    "    image = image[x1: x2, y1:y2 ]\n",
    "    imsave(os.path.join(output_dir, image_fn), image) \n"
   ]
  },
  {
   "cell_type": "code",
   "execution_count": 42,
   "metadata": {},
   "outputs": [],
   "source": [
    "filtered_files = natsorted([fn for fn in files if 'Pos0_cell_ID_3183' in fn])"
   ]
  },
  {
   "cell_type": "markdown",
   "metadata": {},
   "source": [
    "# Cropping to circular shape to eliminate rotational clustering"
   ]
  },
  {
   "cell_type": "code",
   "execution_count": 4,
   "metadata": {
    "scrolled": true
   },
   "outputs": [],
   "source": [
    "all_patches_dir = '/home/nathan/data/kraken/pcna/glimpses/MK0000/non_edge_masked/'#'/home/nathan/data/confocal/pcna/glimpses/non_edge_32px'# os.path.join(glimpse_parent_folder, 'all')\n",
    "files = [fn for fn in os.listdir(all_patches_dir) if '.tif' in fn]\n",
    "image_fn = files[0]\n"
   ]
  },
  {
   "cell_type": "code",
   "execution_count": 5,
   "metadata": {},
   "outputs": [
    {
     "data": {
      "text/plain": [
       "<matplotlib.image.AxesImage at 0x7f4f9b9fb7f0>"
      ]
     },
     "execution_count": 5,
     "metadata": {},
     "output_type": "execute_result"
    },
    {
     "data": {
      "image/png": "[encoded data removed]",
      "text/plain": [
       "<Figure size 432x288 with 2 Axes>"
      ]
     },
     "metadata": {
      "needs_background": "light"
     },
     "output_type": "display_data"
    }
   ],
   "source": [
    "imshow(image_path)"
   ]
  },
  {
   "cell_type": "code",
   "execution_count": 7,
   "metadata": {},
   "outputs": [
    {
     "data": {
      "text/plain": [
       "<matplotlib.image.AxesImage at 0x7f4f9c0dce50>"
      ]
     },
     "execution_count": 7,
     "metadata": {},
     "output_type": "execute_result"
    },
    {
     "data": {
      "image/png": "[encoded data removed]",
      "text/plain": [
       "<Figure size 432x288 with 2 Axes>"
      ]
     },
     "metadata": {
      "needs_background": "light"
     },
     "output_type": "display_data"
    }
   ],
   "source": [
    "image_path = os.path.join(all_patches_dir, image_fn)\n",
    "image = imread(image_path)\n",
    "lx, ly = image.shape\n",
    "X, Y = np.ogrid[0:lx, 0:ly]\n",
    "mask = (X - lx/2) ** 2 + (Y - ly/2) ** 2 > 20**2##lx * ly /10\n",
    "# Masks\n",
    "image[mask] = 0\n",
    "imshow(image)"
   ]
  },
  {
   "cell_type": "code",
   "execution_count": null,
   "metadata": {},
   "outputs": [
    {
     "name": "stderr",
     "output_type": "stream",
     "text": [
      " 38%|██████████████                       | 34420/90306 [08:45<16:46, 55.53it/s]"
     ]
    }
   ],
   "source": [
    "\n",
    "all_patches_dir = '/home/nathan/data/kraken/pcna/glimpses/MK0000/non_edge_masked/'#'/home/nathan/data/confocal/pcna/glimpses/non_edge_32px'# os.path.join(glimpse_parent_folder, 'all')\n",
    "files = [fn for fn in os.listdir(all_patches_dir) if '.tif' in fn]\n",
    "output_dir = '/home/nathan/data/kraken/pcna/glimpses/MK0000/circle_20pxR'\n",
    "if not os.path.exists(output_dir):\n",
    "    os.makedirs(output_dir)\n",
    "for image_fn in tqdm(files):\n",
    "    image_path = os.path.join(all_patches_dir, image_fn)\n",
    "    image = imread(image_path)\n",
    "    #shape = image.shape\n",
    "    lx, ly = image.shape\n",
    "    X, Y = np.ogrid[0:lx, 0:ly]\n",
    "    mask = (X - lx/2) ** 2 + (Y - ly/2) ** 2 > 20**2  ##lx * ly /10\n",
    "    # Masks\n",
    "    image[mask] = 0\n",
    "    imsave(os.path.join(output_dir, image_fn), image) "
   ]
  },
  {
   "cell_type": "markdown",
   "metadata": {},
   "source": [
    "# organising output into one big folder indiscriminate of expt params"
   ]
  },
  {
   "cell_type": "code",
   "execution_count": 58,
   "metadata": {},
   "outputs": [],
   "source": [
    "### collating files\n",
    "files = []\n",
    "glimpse_parent_folder = '/home/nathan/data/kraken/pcna/glimpses/MK0000'\n",
    "pos_list = [pos for pos in os.listdir(glimpse_parent_folder) if 'Pos' in pos]\n",
    "for pos in pos_list:\n",
    "    pos_folder = os.path.join(glimpse_parent_folder, pos)\n",
    "    channel_dirs = os.listdir(pos_folder)\n",
    "    for channel in channel_dirs:\n",
    "        channel_folder = os.path.join(pos_folder, channel)\n",
    "        files.extend(glob.glob(os.path.join(channel_folder, '*.tif')))\n",
    "    "
   ]
  },
  {
   "cell_type": "code",
   "execution_count": 59,
   "metadata": {},
   "outputs": [],
   "source": [
    "### copying files\n",
    "output_dir = os.path.join(glimpse_parent_folder, 'all')\n",
    "Path(output_dir).mkdir(parents=True, exist_ok=True)\n",
    "for i in tqdm(files):\n",
    "    dest = os.path.join(output_dir, os.path.basename(i))\n",
    "    shutil.copyfile(i, dest)"
   ]
  },
  {
   "cell_type": "markdown",
   "metadata": {},
   "source": [
    "# Masking off the background"
   ]
  },
  {
   "cell_type": "code",
   "execution_count": null,
   "metadata": {},
   "outputs": [],
   "source": [
    "masked_output_dir = os.path.join(glimpse_parent_folder, 'all_masked')\n",
    "Path(masked_output_dir).mkdir(parents=True, exist_ok=True)\n",
    "log = []\n",
    "all_patches_dir = os.path.join(glimpse_parent_folder, 'all')\n",
    "files = natsorted([fn for fn in os.listdir(all_patches_dir) if '.tif' in fn])\n",
    "previous_tracks = []\n",
    "for fn in tqdm(files):\n",
    "    try:\n",
    "        pos_name = re.findall(\"Pos\\d\", fn)[0]\n",
    "        cell_ID = int(re.findall(\"cell_ID_(\\d+)\", fn)[0])\n",
    "\n",
    "        print(pos_name, cell_ID)\n",
    "        tracks_path_list = natsorted(glob.glob(os.path.join(expt_root_folder,'{}/{}/gfp*.h5'.format('MK0000',pos_name))))\n",
    "        if len(tracks_path_list) > 0:\n",
    "                tracks_path = tracks_path_list[-1]\n",
    "        else:\n",
    "            print(pos_name, cell_ID, 'couldnt load tracks')\n",
    "            continue\n",
    "        if tracks_path == previous_tracks:\n",
    "            print(tracks_path, 'already loaded')\n",
    "        else:\n",
    "            with btrack.dataio.HDF5FileHandler(tracks_path, 'r', obj_type = \"obj_type_3\") as hdf:\n",
    "                wt_tracks = hdf.tracks\n",
    "                print(tracks_path, 'loaded')\n",
    "                previous_tracks = tracks_path\n",
    "\n",
    "        ### load xyt, load mask, apply mask to image\n",
    "        cell = [cell for cell in wt_tracks if cell.ID == cell_ID][0]\n",
    "        time = int(re.findall(\"_t(\\d+)\", fn)[0])\n",
    "        x, y = cell.x[cell.t.index(time)], cell.y[cell.t.index(time)]\n",
    "\n",
    "        ### load mask \n",
    "        mask_dir = os.path.join(expt_root_folder,'{}/{}/{}_cp_masks'.format('MK0000',pos_name, pos_name))\n",
    "        mask_fn = natsorted(os.listdir(mask_dir))[time]\n",
    "        mask_image = imread(os.path.join(mask_dir, mask_fn))\n",
    "        ### load corresponding image\n",
    "        image = imread(os.path.join(all_patches_dir,fn))\n",
    "\n",
    "        ### crop mask image\n",
    "        size = int(glimpse_size[0])\n",
    "        ### obtain coordinates of bounding box of glimpse (centered on cell)\n",
    "        x1, x2, y1, y2 = x, x+size, y, y+size #coordinates to crop by, shifted bearing in mind a further coord shift (+100,+100) occurs due to image padding            \n",
    "        ### pad image incase cell goes off FOV\n",
    "        mask_image_pad = np.pad(mask_image, int(size/2), 'constant', constant_values = 0) \n",
    "        ## cropping original image\n",
    "        cropped_mask = mask_image_pad[int(y1): int(y2), int(x1): int(x2)]#[int(x1): int(x2), int(y1): int(y2)]\n",
    "        ## finding pixel value of mask of interest\n",
    "        pix_value = cropped_mask[int(size/2),int(size/2)]\n",
    "        ### isolating mask of interest and assigning binary pix value\n",
    "        true_mask = (cropped_mask == pix_value)*1\n",
    "        ### applying mask to original glimpse\n",
    "        true_glimpse = (true_mask*image).astype('uint16')\n",
    "        ### save out\n",
    "        imsave(os.path.join(masked_output_dir, fn), true_glimpse) \n",
    "    except Exception as err:\n",
    "        message = str(err) + str(fn)\n",
    "        print(message)\n",
    "        log.append(message)"
   ]
  },
  {
   "cell_type": "code",
   "execution_count": 167,
   "metadata": {},
   "outputs": [],
   "source": [
    "fn"
   ]
  },
  {
   "cell_type": "code",
   "execution_count": 165,
   "metadata": {},
   "outputs": [],
   "source": [
    "imshow(mask_image)"
   ]
  },
  {
   "cell_type": "code",
   "execution_count": 177,
   "metadata": {},
   "outputs": [],
   "source": [
    "x, y"
   ]
  },
  {
   "cell_type": "code",
   "execution_count": 166,
   "metadata": {},
   "outputs": [],
   "source": [
    "mask_fn"
   ]
  },
  {
   "cell_type": "code",
   "execution_count": 140,
   "metadata": {},
   "outputs": [],
   "source": [
    "size = int(glimpse_size[0])\n",
    "### obtain coordinates of bounding box of glimpse (centered on cell)\n",
    "x1, x2, y1, y2 = x, x+size, y, y+size #coordinates to crop by, shifted bearing in mind a further coord shift (+100,+100) occurs due to image padding            \n",
    "### pad image incase cell goes off FOV\n",
    "mask_image_pad = np.pad(mask_image, int(size/2), 'constant', constant_values = 0) \n",
    "## glimpse creation by cropping original image\n",
    "cropped_mask = mask_image_pad[int(y1): int(y2), int(x1): int(x2)]#transposed "
   ]
  },
  {
   "cell_type": "code",
   "execution_count": 168,
   "metadata": {},
   "outputs": [],
   "source": [
    "imshow(cropped_mask)"
   ]
  },
  {
   "cell_type": "code",
   "execution_count": 151,
   "metadata": {},
   "outputs": [],
   "source": [
    "int(size/2)"
   ]
  },
  {
   "cell_type": "code",
   "execution_count": 170,
   "metadata": {},
   "outputs": [],
   "source": [
    "pix_value = cropped_mask[int(size/2),int(size/2)]"
   ]
  },
  {
   "cell_type": "code",
   "execution_count": 171,
   "metadata": {},
   "outputs": [],
   "source": [
    "pix_value"
   ]
  },
  {
   "cell_type": "code",
   "execution_count": 174,
   "metadata": {},
   "outputs": [],
   "source": [
    "im_bool = (cropped_mask == pix_value)*1"
   ]
  },
  {
   "cell_type": "code",
   "execution_count": 175,
   "metadata": {},
   "outputs": [],
   "source": [
    "imshow(im_bool)"
   ]
  },
  {
   "cell_type": "code",
   "execution_count": 179,
   "metadata": {},
   "outputs": [],
   "source": [
    "os.path.join(all_patches_dir, fn)"
   ]
  },
  {
   "cell_type": "code",
   "execution_count": 181,
   "metadata": {},
   "outputs": [],
   "source": [
    "image = imread(os.path.join(all_patches_dir, fn))"
   ]
  },
  {
   "cell_type": "code",
   "execution_count": 182,
   "metadata": {},
   "outputs": [],
   "source": [
    "image*im_bool"
   ]
  },
  {
   "cell_type": "code",
   "execution_count": 190,
   "metadata": {},
   "outputs": [],
   "source": [
    "imshow(true_glimpse)"
   ]
  },
  {
   "cell_type": "code",
   "execution_count": null,
   "metadata": {},
   "outputs": [],
   "source": [
    "type(true_glimpse)"
   ]
  },
  {
   "cell_type": "code",
   "execution_count": 192,
   "metadata": {},
   "outputs": [],
   "source": [
    "type(image)"
   ]
  },
  {
   "cell_type": "code",
   "execution_count": 189,
   "metadata": {},
   "outputs": [],
   "source": [
    "imshow(image)"
   ]
  },
  {
   "cell_type": "code",
   "execution_count": 194,
   "metadata": {},
   "outputs": [],
   "source": [
    "imread(os.path.join(masked_output_dir, 'Pos0_cell_ID_46_channel003_t0_age0.0.tif'))"
   ]
  },
  {
   "cell_type": "code",
   "execution_count": 126,
   "metadata": {},
   "outputs": [],
   "source": [
    "cell"
   ]
  },
  {
   "cell_type": "code",
   "execution_count": 128,
   "metadata": {},
   "outputs": [],
   "source": [
    "y"
   ]
  },
  {
   "cell_type": "code",
   "execution_count": 129,
   "metadata": {},
   "outputs": [],
   "source": [
    "x1, x2, y1, y2"
   ]
  },
  {
   "cell_type": "code",
   "execution_count": 142,
   "metadata": {},
   "outputs": [],
   "source": [
    "tracks_path"
   ]
  }
 ],
 "metadata": {
  "kernelspec": {
   "display_name": "Python [conda env:cell-comp-analysis]",
   "language": "python",
   "name": "conda-env-cell-comp-analysis-py"
  },
  "language_info": {
   "codemirror_mode": {
    "name": "ipython",
    "version": 3
   },
   "file_extension": ".py",
   "mimetype": "text/x-python",
   "name": "python",
   "nbconvert_exporter": "python",
   "pygments_lexer": "ipython3",
   "version": "3.9.6"
  }
 },
 "nbformat": 4,
 "nbformat_minor": 4
}
