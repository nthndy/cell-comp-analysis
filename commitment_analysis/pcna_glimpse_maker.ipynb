{
 "cells": [
  {
   "cell_type": "markdown",
   "metadata": {},
   "source": [
    "# PCNA Glimpse generation\n",
    "\n",
    "This notebook is designed to generate large amount of cropped images of cells with the PCNA-irfp marker for a cluster analysis"
   ]
  },
  {
   "cell_type": "code",
   "execution_count": null,
   "metadata": {},
   "outputs": [],
   "source": [
    "import btrack\n",
    "import matplotlib.pyplot as plt\n",
    "import os\n",
    "from skimage.io import imread, imsave, imshow\n",
    "from tqdm import tqdm\n",
    "import numpy as np\n",
    "from pathlib import Path\n",
    "from natsort import natsorted\n",
    "import warnings\n",
    "warnings.filterwarnings('ignore') ###bc imsave throws up low contrast warnings"
   ]
  },
  {
   "cell_type": "code",
   "execution_count": null,
   "metadata": {},
   "outputs": [],
   "source": [
    "expt_root_folder = root_folder\n",
    "\n",
    "channels = ['003'] ### bf 000 gfp 001 rfp 002 irfp 003\n",
    "\n",
    "focal_time_range = (0, 800) ### this particular expt stays in focus in this time range\n",
    "\n",
    "for pos in pos_list:\n",
    "    print('starting', pos)\n",
    "    tracks_path = os.path.join(expt_root_folder,'{}/{}/gfp_tracks.h5'.format(expt, pos))\n",
    "\n",
    "    with btrack.dataio.HDF5FileHandler(tracks_path, 'r', obj_type = \"obj_type_1\") as hdf:\n",
    "        wt_tracks = hdf.tracks\n",
    "\n",
    "    ### filter tracks that should contain a full cell cycle in (1 timepoint/frame = 4min, cc time approx 200 frames based on quick look)\n",
    "    long_tracks = [track for track in wt_tracks if len(track) > 200]\n",
    "\n",
    "    ### filter tracks that spend a lot of time out of focus\n",
    "    tracks = [track for track in long_tracks if track.t[-1] < focal_time_range[1]]\n",
    "\n",
    "    ### show number of filtered tracks\n",
    "    print('number of glimpses to be generated:', len(tracks))\n",
    "\n",
    "    ### find images and set output\n",
    "    image_folder = os.path.join(expt_root_folder,expt, pos, pos+'_stacks')\n",
    "    output_dir = '/home/nathan/data/kraken/pcna/glimpses/{}/{}'.format(expt, pos)\n",
    "\n",
    "    for channel in channels:\n",
    "        ### load images\n",
    "        print('Loading image channel', channel)\n",
    "        images = imread(os.path.join(image_folder, 'channel{}.tif'.format(channel)))\n",
    "        print('Image loaded')\n",
    "        ### create output directory\n",
    "        output_ch_dir = os.path.join(output_dir, 'channel'+channel)\n",
    "        Path(output_ch_dir).mkdir(parents=True, exist_ok=True)\n",
    "        #os.mkdir(output_ch_dir) if os.path.exists(output_ch_dir) == False else print(output_ch_dir, 'already exists')\n",
    "\n",
    "        for cell in tqdm(tracks):\n",
    "            try:\n",
    "                ### get length of track/glimpse \n",
    "                length = range(cell.t[0], cell.t[-1])\n",
    "                ### get the xy coords of track/glimpse \n",
    "                y, x = cell.x, cell.y #### WHY IS THE COORDINATES TRANSPOSED???? \n",
    "\n",
    "                ### iterate over all frames cropping\n",
    "                for j, i in enumerate(length): ## need to have something that solves skipped frames # not including the last frame bc list index out of range ie there is one more i than there\n",
    "                    ### obtain correct frame\n",
    "                    image = images[i]\n",
    "                    ### obtain coordinates of bounding box of glimpse (centered on cell)\n",
    "                    x1, x2, y1, y2 = x[j], x[j]+200, y[j], y[j]+200 #coordinates to crop by, shifted bearing in mind a further coord shift (+100,+100) occurs due to image padding            \n",
    "                    ### pad image incase cell goes off FOV\n",
    "                    image = np.pad(image, 100, 'constant', constant_values = 0) \n",
    "                    ## glimpse creation by cropping original image\n",
    "                    glimpse = image[int(x1): int(x2), int(y1): int(y2)]\n",
    "                    ### fraction of track this frame is at\n",
    "                    age = round(i/cell.t[-1],3) \n",
    "                    fn = 'cell_ID_' + str(cell.ID) + '_channel' + channel + '_t{}_age{}.tif'.format(i, age)\n",
    "                    ### glimpse output\n",
    "                    imsave(os.path.join(output_ch_dir, fn), glimpse) \n",
    "                print('cell ID',cell.ID, 'glimpse saved')\n",
    "\n",
    "            except:\n",
    "                print(cell.ID, 'failed to produce glimpse')\n"
   ]
  }
 ],
 "metadata": {
  "kernelspec": {
   "display_name": "Python 3",
   "language": "python",
   "name": "python3"
  },
  "language_info": {
   "codemirror_mode": {
    "name": "ipython",
    "version": 3
   },
   "file_extension": ".py",
   "mimetype": "text/x-python",
   "name": "python",
   "nbconvert_exporter": "python",
   "pygments_lexer": "ipython3",
   "version": "3.7.6"
  }
 },
 "nbformat": 4,
 "nbformat_minor": 4
}
