{
 "cells": [
  {
   "cell_type": "code",
   "execution_count": 40,
   "metadata": {},
   "outputs": [
    {
     "name": "stdout",
     "output_type": "stream",
     "text": [
      "Napari version no.: 0.4.7\n"
     ]
    }
   ],
   "source": [
    "import napari\n",
    "print(\"Napari version no.:\", napari.__version__)\n",
    "import os, glob, enum\n",
    "import numpy as np\n",
    "import tifffile as tiff\n",
    "from tqdm import tqdm\n",
    "from skimage.io import imread\n",
    "from natsort import natsorted\n",
    "from datetime import datetime"
   ]
  },
  {
   "cell_type": "code",
   "execution_count": 21,
   "metadata": {},
   "outputs": [],
   "source": [
    "data_folder = '/home/nathan/data/kraken/pcna/21_04_29/Pos2'#'/media/nathan/Transcend/Nathan/data/pcna/test_210422/Pos7'\n",
    "output_dir = os.path.join(data_folder,'stacks')"
   ]
  },
  {
   "cell_type": "code",
   "execution_count": 16,
   "metadata": {},
   "outputs": [],
   "source": [
    "@enum.unique\n",
    "class channels(enum.Enum):\n",
    "#     bf = 0 \n",
    "#     gfp = 1\n",
    "#     rfp = 2\n",
    "#     irfp = 3\n",
    "    irfp = 0"
   ]
  },
  {
   "cell_type": "code",
   "execution_count": 23,
   "metadata": {},
   "outputs": [
    {
     "name": "stderr",
     "output_type": "stream",
     "text": [
      " 20%|█▉        | 71/360 [00:00<00:00, 704.89it/s]"
     ]
    },
    {
     "name": "stdout",
     "output_type": "stream",
     "text": [
      "/home/nathan/data/kraken/pcna/21_04_29/Pos2/stacks directory created\n",
      "irfp compiling\n"
     ]
    },
    {
     "name": "stderr",
     "output_type": "stream",
     "text": [
      "100%|██████████| 360/360 [00:00<00:00, 632.23it/s]\n"
     ]
    },
    {
     "name": "stdout",
     "output_type": "stream",
     "text": [
      "irfp saved out\n"
     ]
    }
   ],
   "source": [
    "## compile stacks\n",
    "if 'stacks' not in os.listdir(data_folder):\n",
    "    os.mkdir(os.path.join(data_folder,'stacks'))\n",
    "    output_dir = os.path.join(data_folder,'stacks')\n",
    "    print(output_dir, 'directory created')\n",
    "    for channel in channels:\n",
    "        print(channel.name, 'compiling')\n",
    "        files = glob.glob(os.path.join(data_folder,'img_channel00{}*.tif'.format(channel.value)))\n",
    "        stack = []\n",
    "        for file in tqdm(natsorted(files)):\n",
    "            tif = np.array(tiff.imread(file),dtype=np.uint8)\n",
    "            tif_w,tif_h = np.shape(tif)[0],np.shape(tif)[1]\n",
    "            tif = tif[int((tif_w-1200)/2):int(tif_w-(tif_w-1200)/2),int((tif_h-1600)/2):int(tif_h-(tif_h-1600)/2)] ## cropping\n",
    "            stack.append(tif)\n",
    "        stack = np.stack(stack,axis=0)\n",
    "        with tiff.TiffWriter(os.path.join(output_dir,'{}.tif'.format(channel.name)),imagej=True) as output_file:\n",
    "            output_file.save(stack)\n",
    "        print(channel.name, 'saved out')\n",
    "else:\n",
    "    print('looks like stacks already exist bro')"
   ]
  },
  {
   "cell_type": "code",
   "execution_count": 25,
   "metadata": {},
   "outputs": [],
   "source": [
    "### load images\n",
    "stack_fn = {}\n",
    "for channel in channels:\n",
    "    stack_fn[channel.name] = glob.glob(os.path.join(output_dir, '{}.tif'.format(channel.name)))\n",
    "#gfp = imread(stack_fn['gfp'][0])\n",
    "#rfp = imread(stack_fn['rfp'][0])\n",
    "irfp = imread(stack_fn['irfp'][0])"
   ]
  },
  {
   "cell_type": "code",
   "execution_count": 41,
   "metadata": {},
   "outputs": [
    {
     "name": "stdout",
     "output_type": "stream",
     "text": [
      "Movie saved out\n"
     ]
    }
   ],
   "source": [
    "### launch napari\n",
    "with napari.gui_qt():\n",
    "    viewer = napari.Viewer()\n",
    "\n",
    "    #viewer.add_image(bf, name = \"brightfield\")\n",
    "    #viewer.add_image(gfp, name=\"gfp\", blending = \"additive\", colormap = \"green\")\n",
    "    #viewer.add_image(rfp, name=\"rfp\", contrast_limits = (0, 50), blending = \"additive\", colormap = \"magenta\")\n",
    "    viewer.add_image(irfp, name=\"irfp\", blending = \"additive\", colormap = \"cyan\")\n",
    "    \n",
    "    @viewer.bind_key('m')\n",
    "    def make_movie(viewer):\n",
    "        \"\"\"Make a movie.\"\"\"\n",
    "        num_frames = int(viewer.dims.range[0][1])\n",
    "        def _make_movie():\n",
    "            date = datetime.now().strftime(\"%Y_%m_%d-%I:%M:%S_%p\")\n",
    "            save_folder = f'/home/nathan/Documents/presentations/figures_animations/movie_{date}'\n",
    "            os.mkdir(save_folder)\n",
    "            for i in range(num_frames+1):\n",
    "                viewer.dims.set_point(0, i)\n",
    "                fn = os.path.join(save_folder, f'movie_{i}.png')\n",
    "                image = viewer.screenshot(path=fn, canvas_only=True)\n",
    "            print('Movie saved out')\n",
    "        _make_movie()"
   ]
  }
 ],
 "metadata": {
  "kernelspec": {
   "display_name": "Python 3",
   "language": "python",
   "name": "python3"
  },
  "language_info": {
   "codemirror_mode": {
    "name": "ipython",
    "version": 3
   },
   "file_extension": ".py",
   "mimetype": "text/x-python",
   "name": "python",
   "nbconvert_exporter": "python",
   "pygments_lexer": "ipython3",
   "version": "3.7.4"
  }
 },
 "nbformat": 4,
 "nbformat_minor": 2
}
