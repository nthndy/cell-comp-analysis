{
 "cells": [
  {
   "cell_type": "code",
   "execution_count": 1,
   "metadata": {},
   "outputs": [],
   "source": [
    "import glob\n",
    "import os\n",
    "\n",
    "import btrack\n",
    "import numpy as np\n",
    "\n",
    "from skimage.io import imread\n",
    "\n",
    "from tqdm import tqdm"
   ]
  },
  {
   "cell_type": "code",
   "execution_count": 2,
   "metadata": {},
   "outputs": [],
   "source": [
    "from cellx.tools.image import InfinitePaddedImage"
   ]
  },
  {
   "cell_type": "code",
   "execution_count": 3,
   "metadata": {},
   "outputs": [],
   "source": [
    "import tensorflow as tf\n",
    "from tensorflow.keras.applications import ResNet50\n",
    "\n",
    "import logging\n",
    "\n",
    "logger = tf.get_logger()\n",
    "logger.setLevel(logging.WARNING)"
   ]
  },
  {
   "cell_type": "code",
   "execution_count": 4,
   "metadata": {},
   "outputs": [],
   "source": [
    "PATH = \"/media/quantumjot/Data/Manasi/MK0000/\"\n",
    "POSITION = \"Position1\"\n",
    "CHANNELS = (\"Chan2\", )\n",
    "INPUT_SHAPE = (64, 64, 3)"
   ]
  },
  {
   "cell_type": "code",
   "execution_count": 5,
   "metadata": {},
   "outputs": [],
   "source": [
    "def segmentation_generator(position):\n",
    "    files = [\n",
    "        os.path.join(PATH, position, \"cellpose\", f\"cellpose_{position}_{i}_cp_masks.png\") \n",
    "        for i in range(150)\n",
    "    ]\n",
    "    \n",
    "    for file in files:\n",
    "        yield imread(file)"
   ]
  },
  {
   "cell_type": "code",
   "execution_count": 6,
   "metadata": {},
   "outputs": [
    {
     "name": "stderr",
     "output_type": "stream",
     "text": [
      "[INFO][2021/08/25 11:17:54 AM] Localizing objects from segmentation...\n",
      "[INFO][2021/08/25 11:17:55 AM] Objects are of type: <class 'dict'>\n",
      "[INFO][2021/08/25 11:17:55 AM] ...Found 15446 objects in 150 frames.\n"
     ]
    }
   ],
   "source": [
    "objects = btrack.utils.segmentation_to_objects(\n",
    "    segmentation_generator(POSITION), \n",
    "    properties = ('area', ), \n",
    ")"
   ]
  },
  {
   "cell_type": "code",
   "execution_count": 7,
   "metadata": {},
   "outputs": [
    {
     "data": {
      "text/html": [
       "<table border=\"1\" class=\"dataframe\">\n",
       "  <thead>\n",
       "    <tr style=\"text-align: right;\">\n",
       "      <th></th>\n",
       "      <th>ID</th>\n",
       "      <th>x</th>\n",
       "      <th>y</th>\n",
       "      <th>z</th>\n",
       "      <th>t</th>\n",
       "      <th>dummy</th>\n",
       "      <th>states</th>\n",
       "      <th>label</th>\n",
       "      <th>prob</th>\n",
       "      <th>area</th>\n",
       "    </tr>\n",
       "  </thead>\n",
       "  <tbody>\n",
       "    <tr>\n",
       "      <th>0</th>\n",
       "      <td>0</td>\n",
       "      <td>250.533784</td>\n",
       "      <td>3.141892</td>\n",
       "      <td>0.0</td>\n",
       "      <td>0</td>\n",
       "      <td>False</td>\n",
       "      <td>0</td>\n",
       "      <td>5</td>\n",
       "      <td>0.0</td>\n",
       "      <td>148</td>\n",
       "    </tr>\n",
       "  </tbody>\n",
       "</table>"
      ],
      "text/plain": [
       "{'ID': 0, 'x': 250.53378378378378, 'y': 3.141891891891892, 'z': 0.0, 't': 0, 'dummy': False, 'states': 0, 'label': 5, 'prob': 0.0, 'area': 148}"
      ]
     },
     "execution_count": 7,
     "metadata": {},
     "output_type": "execute_result"
    }
   ],
   "source": [
    "objects[0]"
   ]
  },
  {
   "cell_type": "code",
   "execution_count": 8,
   "metadata": {},
   "outputs": [],
   "source": [
    "# objects = objects[:100]"
   ]
  },
  {
   "cell_type": "code",
   "execution_count": 9,
   "metadata": {},
   "outputs": [],
   "source": [
    "def feature_generator(position, channel, objects):\n",
    "    stack = imread(os.path.join(PATH, position, f\"{channel}_Concatenated.tif\"))\n",
    "    \n",
    "    win = INPUT_SHAPE[0] // 2\n",
    "    \n",
    "    for obj in tqdm(objects):\n",
    "        idx = obj.t\n",
    "        frame = InfinitePaddedImage(stack[idx, ...])\n",
    "        \n",
    "        sx = slice(int(obj.x)-win, int(obj.x)+win, 1)\n",
    "        sy = slice(int(obj.y)-win, int(obj.y)+win, 1)\n",
    "        \n",
    "        crop = frame[sy, sx]\n",
    "        \n",
    "        yield np.stack([crop]*3, axis=-1)[np.newaxis, ...]"
   ]
  },
  {
   "cell_type": "code",
   "execution_count": 10,
   "metadata": {},
   "outputs": [
    {
     "name": "stderr",
     "output_type": "stream",
     "text": [
      "2021-08-25 11:17:56.495922: I tensorflow/core/platform/cpu_feature_guard.cc:142] This TensorFlow binary is optimized with oneAPI Deep Neural Network Library (oneDNN) to use the following CPU instructions in performance-critical operations:  AVX2 AVX512F FMA\n",
      "To enable them in other operations, rebuild TensorFlow with the appropriate compiler flags.\n",
      "2021-08-25 11:17:56.875855: I tensorflow/core/common_runtime/gpu/gpu_device.cc:1510] Created device /job:localhost/replica:0/task:0/device:GPU:0 with 30049 MB memory:  -> device: 0, name: Quadro GV100, pci bus id: 0000:65:00.0, compute capability: 7.0\n"
     ]
    }
   ],
   "source": [
    "model = ResNet50(\n",
    "    include_top=False,         \n",
    "    weights=\"imagenet\",        \n",
    "    input_shape=INPUT_SHAPE,\n",
    "    pooling='avg',\n",
    ")"
   ]
  },
  {
   "cell_type": "code",
   "execution_count": 11,
   "metadata": {},
   "outputs": [
    {
     "name": "stderr",
     "output_type": "stream",
     "text": [
      "  0%|                                                                                                     | 0/15446 [00:00<?, ?it/s]2021-08-25 11:18:05.471883: I tensorflow/compiler/mlir/mlir_graph_optimization_pass.cc:185] None of the MLIR Optimization Passes are enabled (registered 2)\n",
      "  0%|                                                                                           | 1/15446 [00:00<2:39:27,  1.61it/s]2021-08-25 11:18:06.403207: I tensorflow/stream_executor/cuda/cuda_dnn.cc:369] Loaded cuDNN version 8202\n",
      "2021-08-25 11:18:06.696809: I tensorflow/core/platform/default/subprocess.cc:304] Start cannot spawn child process: No such file or directory\n",
      "100%|█████████████████████████████████████████████████████████████████████████████████████████| 15446/15446 [04:12<00:00, 61.21it/s]\n"
     ]
    }
   ],
   "source": [
    "y = model.predict(feature_generator(POSITION, CHANNELS[0], objects))"
   ]
  },
  {
   "cell_type": "code",
   "execution_count": 12,
   "metadata": {},
   "outputs": [
    {
     "data": {
      "text/plain": [
       "(15446, 2048)"
      ]
     },
     "execution_count": 12,
     "metadata": {},
     "output_type": "execute_result"
    }
   ],
   "source": [
    "y.shape"
   ]
  },
  {
   "cell_type": "code",
   "execution_count": 13,
   "metadata": {},
   "outputs": [],
   "source": [
    "assert y.shape[0] == len(objects)"
   ]
  },
  {
   "cell_type": "code",
   "execution_count": 14,
   "metadata": {},
   "outputs": [],
   "source": [
    "for i, obj in enumerate(objects):\n",
    "    obj.properties = {'resnet-features': y[i, ...]}"
   ]
  },
  {
   "cell_type": "code",
   "execution_count": 15,
   "metadata": {
    "scrolled": false
   },
   "outputs": [
    {
     "data": {
      "text/html": [
       "<table border=\"1\" class=\"dataframe\">\n",
       "  <thead>\n",
       "    <tr style=\"text-align: right;\">\n",
       "      <th></th>\n",
       "      <th>ID</th>\n",
       "      <th>x</th>\n",
       "      <th>y</th>\n",
       "      <th>z</th>\n",
       "      <th>t</th>\n",
       "      <th>dummy</th>\n",
       "      <th>states</th>\n",
       "      <th>label</th>\n",
       "      <th>prob</th>\n",
       "      <th>area</th>\n",
       "      <th>resnet-features</th>\n",
       "    </tr>\n",
       "  </thead>\n",
       "  <tbody>\n",
       "    <tr>\n",
       "      <th>0</th>\n",
       "      <td>0</td>\n",
       "      <td>250.533784</td>\n",
       "      <td>3.141892</td>\n",
       "      <td>0.0</td>\n",
       "      <td>0</td>\n",
       "      <td>False</td>\n",
       "      <td>0</td>\n",
       "      <td>5</td>\n",
       "      <td>0.0</td>\n",
       "      <td>148</td>\n",
       "      <td>(2048,) array</td>\n",
       "    </tr>\n",
       "  </tbody>\n",
       "</table>"
      ],
      "text/plain": [
       "{'ID': 0, 'x': 250.53378378378378, 'y': 3.141891891891892, 'z': 0.0, 't': 0, 'dummy': False, 'states': 0, 'label': 5, 'prob': 0.0, 'area': 148, 'resnet-features': array([0.       , 0.       , 0.       , ..., 5.3451037, 0.       ,\n",
       "       0.       ], dtype=float32)}"
      ]
     },
     "execution_count": 15,
     "metadata": {},
     "output_type": "execute_result"
    }
   ],
   "source": [
    "objects[0]"
   ]
  },
  {
   "cell_type": "code",
   "execution_count": 16,
   "metadata": {},
   "outputs": [
    {
     "name": "stderr",
     "output_type": "stream",
     "text": [
      "[INFO][2021/08/25 11:22:18 AM] Loaded btrack: /home/quantumjot/Dropbox/Code/py3/BayesianTracker/btrack/libs/libtracker.so\n",
      "[INFO][2021/08/25 11:22:18 AM] btrack (v0.4.2) library imported\n",
      "[INFO][2021/08/25 11:22:18 AM] Setting max XYZ search radius to: 100\n",
      "[INFO][2021/08/25 11:22:18 AM] Starting BayesianTracker session\n",
      "[INFO][2021/08/25 11:22:18 AM] Loading configuration file: /home/quantumjot/Dropbox/Code/py3/BayesianTracker/models/cell_config.json\n",
      "[INFO][2021/08/25 11:22:18 AM] Loading motion model: b'cell_motion'\n",
      "[INFO][2021/08/25 11:22:18 AM] Setting max XYZ search radius to: 30\n",
      "[INFO][2021/08/25 11:22:18 AM] Objects are of type: <class 'list'>\n",
      "[INFO][2021/08/25 11:22:18 AM] Set volume to ((0, 512), (0, 512), (-100000.0, 100000.0))\n",
      "[INFO][2021/08/25 11:22:18 AM] Starting tracking... \n",
      "[INFO][2021/08/25 11:22:18 AM] Tracking objects in frames 0 to 99 (of 150)...\n"
     ]
    },
    {
     "name": "stdout",
     "output_type": "stream",
     "text": [
      "Instantiating BTRACK interface wrapper (v0.4.2, compiled Jul 13 2021 at 11:23:01)\n"
     ]
    },
    {
     "name": "stderr",
     "output_type": "stream",
     "text": [
      "[INFO][2021/08/25 11:22:18 AM]  - Timing (Bayesian updates: 2.14ms, Linking: 0.27ms)\n",
      "[INFO][2021/08/25 11:22:18 AM]  - Probabilities (Link: 0.61232, Lost: 1.00000)\n",
      "[INFO][2021/08/25 11:22:18 AM]  - Stats (Active: 104, Lost: 339, Conflicts resolved: 218)\n",
      "[INFO][2021/08/25 11:22:18 AM] Tracking objects in frames 100 to 150 (of 150)...\n",
      "[INFO][2021/08/25 11:22:18 AM]  - Timing (Bayesian updates: 4.86ms, Linking: 0.43ms)\n",
      "[INFO][2021/08/25 11:22:18 AM]  - Probabilities (Link: 1.00000, Lost: 1.00000)\n",
      "[INFO][2021/08/25 11:22:18 AM] SUCCESS.\n",
      "[INFO][2021/08/25 11:22:18 AM]  - Found 330 tracks in 150 frames (in 0.0s)\n",
      "[INFO][2021/08/25 11:22:18 AM]  - Inserted 120 dummy objects to fill tracking gaps\n",
      "[INFO][2021/08/25 11:22:18 AM] Loading hypothesis model: cell_hypothesis\n",
      "[INFO][2021/08/25 11:22:18 AM] Calculating hypotheses (relax: True)...\n",
      "[INFO][2021/08/25 11:22:18 AM] Setting up constraints matrix for global optimisation...\n",
      "[INFO][2021/08/25 11:22:18 AM] Optimizing...\n",
      "[INFO][2021/08/25 11:22:18 AM] Optimization complete. (Solution: optimal)\n",
      "[INFO][2021/08/25 11:22:18 AM]  - Fates.FALSE_POSITIVE: 16 (of 330)\n",
      "[INFO][2021/08/25 11:22:18 AM]  - Fates.LINK: 32 (of 131)\n",
      "[INFO][2021/08/25 11:22:18 AM]  - Fates.DIVIDE: 40 (of 61)\n",
      "[INFO][2021/08/25 11:22:18 AM]  - Fates.INITIALIZE_BORDER: 82 (of 103)\n",
      "[INFO][2021/08/25 11:22:18 AM]  - Fates.INITIALIZE_FRONT: 70 (of 71)\n",
      "[INFO][2021/08/25 11:22:18 AM]  - Fates.INITIALIZE_LAZY: 50 (of 156)\n",
      "[INFO][2021/08/25 11:22:18 AM]  - Fates.TERMINATE_BORDER: 79 (of 98)\n",
      "[INFO][2021/08/25 11:22:18 AM]  - Fates.TERMINATE_BACK: 151 (of 158)\n",
      "[INFO][2021/08/25 11:22:18 AM]  - Fates.TERMINATE_LAZY: 12 (of 74)\n",
      "[INFO][2021/08/25 11:22:18 AM]  - TOTAL: 1182 hypotheses\n",
      "[INFO][2021/08/25 11:22:18 AM] Completed optimization with 298 tracks\n",
      "[INFO][2021/08/25 11:22:18 AM] Opening HDF file: /media/quantumjot/Data/Manasi/MK0000/tracking.h5...\n",
      "[INFO][2021/08/25 11:22:19 AM] Writing objects/obj_type_1\n",
      "[INFO][2021/08/25 11:22:19 AM] Writing labels/obj_type_1\n",
      "[INFO][2021/08/25 11:22:19 AM] Loading objects/obj_type_1 (15446, 5) (15446 filtered: None)\n"
     ]
    },
    {
     "name": "stdout",
     "output_type": "stream",
     "text": [
      "GLPK Integer Optimizer, v4.65\n",
      "1320 rows, 1182 columns, 1765 non-zeros\n",
      "1182 integer variables, all of which are binary\n",
      "Preprocessing...\n",
      "660 rows, 1182 columns, 1765 non-zeros\n",
      "1182 integer variables, all of which are binary\n",
      "Scaling...\n",
      " A: min|aij| =  1.000e+00  max|aij| =  1.000e+00  ratio =  1.000e+00\n",
      "Problem data seem to be well scaled\n",
      "Constructing initial basis...\n",
      "Size of triangular part is 660\n",
      "Solving LP relaxation...\n",
      "GLPK Simplex Optimizer, v4.65\n",
      "660 rows, 1182 columns, 1765 non-zeros\n",
      "*     0: obj =   1.875228078e+03 inf =   0.000e+00 (220)\n",
      "*   163: obj =   7.315112464e+02 inf =   0.000e+00 (0)\n",
      "OPTIMAL LP SOLUTION FOUND\n",
      "Integer optimization begins...\n",
      "Long-step dual simplex will be used\n",
      "+   163: mip =     not found yet >=              -inf        (1; 0)\n",
      "+   163: >>>>>   7.315112464e+02 >=   7.315112464e+02   0.0% (1; 0)\n",
      "+   163: mip =   7.315112464e+02 >=     tree is empty   0.0% (0; 1)\n",
      "INTEGER OPTIMAL SOLUTION FOUND\n"
     ]
    },
    {
     "name": "stderr",
     "output_type": "stream",
     "text": [
      "[INFO][2021/08/25 11:22:19 AM] Writing properties/obj_type_1/area (15446,)\n",
      "[INFO][2021/08/25 11:22:19 AM] Writing properties/obj_type_1/resnet-features (15446, 2048)\n",
      "[INFO][2021/08/25 11:22:19 AM] Writing tracks/obj_type_1\n",
      "[INFO][2021/08/25 11:22:19 AM] Writing dummies/obj_type_1\n",
      "[INFO][2021/08/25 11:22:19 AM] Writing LBEP/obj_type_1\n",
      "[INFO][2021/08/25 11:22:19 AM] Writing fates/obj_type_1\n",
      "[INFO][2021/08/25 11:22:19 AM] Closing HDF file: /media/quantumjot/Data/Manasi/MK0000/tracking.h5\n",
      "[INFO][2021/08/25 11:22:19 AM] Ending BayesianTracker session\n"
     ]
    },
    {
     "name": "stdout",
     "output_type": "stream",
     "text": [
      "Deleting BTRACK interface wrapper\n"
     ]
    }
   ],
   "source": [
    "with btrack.BayesianTracker() as tracker:\n",
    "\n",
    "    # configure the tracker using a config file\n",
    "    tracker.configure_from_file('/home/quantumjot/Dropbox/Code/py3/BayesianTracker/models/cell_config.json')\n",
    "    tracker.max_search_radius = 30\n",
    "\n",
    "    # append the objects to be tracked\n",
    "    tracker.append(objects)\n",
    "\n",
    "    # set the volume\n",
    "    tracker.volume=((0, 512), (0, 512), (-1e5, 1e5))\n",
    "\n",
    "    # track them (in interactive mode)\n",
    "    tracker.track_interactive(step_size=100)\n",
    "\n",
    "    # generate hypotheses and run the global optimizer\n",
    "    tracker.optimize()\n",
    "\n",
    "    tracker.export(os.path.join(PATH, 'tracking.h5'), obj_type='obj_type_1')\n",
    "    \n",
    "    tracks = tracker.tracks"
   ]
  },
  {
   "cell_type": "code",
   "execution_count": 19,
   "metadata": {
    "scrolled": false
   },
   "outputs": [
    {
     "data": {
      "text/html": [
       "<table border=\"1\" class=\"dataframe\">\n",
       "  <thead>\n",
       "    <tr style=\"text-align: right;\">\n",
       "      <th></th>\n",
       "      <th>ID</th>\n",
       "      <th>t</th>\n",
       "      <th>x</th>\n",
       "      <th>y</th>\n",
       "      <th>z</th>\n",
       "      <th>parent</th>\n",
       "      <th>root</th>\n",
       "      <th>state</th>\n",
       "      <th>generation</th>\n",
       "      <th>dummy</th>\n",
       "      <th>area</th>\n",
       "      <th>resnet-features</th>\n",
       "    </tr>\n",
       "  </thead>\n",
       "  <tbody>\n",
       "    <tr>\n",
       "      <th>0</th>\n",
       "      <td>50</td>\n",
       "      <td>0</td>\n",
       "      <td>204.826087</td>\n",
       "      <td>5.821510</td>\n",
       "      <td>0.0</td>\n",
       "      <td>50</td>\n",
       "      <td>50</td>\n",
       "      <td>5</td>\n",
       "      <td>0</td>\n",
       "      <td>False</td>\n",
       "      <td>437</td>\n",
       "      <td>(2048,) array</td>\n",
       "    </tr>\n",
       "    <tr>\n",
       "      <th>1</th>\n",
       "      <td>50</td>\n",
       "      <td>1</td>\n",
       "      <td>208.464968</td>\n",
       "      <td>6.507431</td>\n",
       "      <td>0.0</td>\n",
       "      <td>50</td>\n",
       "      <td>50</td>\n",
       "      <td>5</td>\n",
       "      <td>0</td>\n",
       "      <td>False</td>\n",
       "      <td>471</td>\n",
       "      <td>(2048,) array</td>\n",
       "    </tr>\n",
       "    <tr>\n",
       "      <th>2</th>\n",
       "      <td>50</td>\n",
       "      <td>2</td>\n",
       "      <td>214.723404</td>\n",
       "      <td>4.885638</td>\n",
       "      <td>0.0</td>\n",
       "      <td>50</td>\n",
       "      <td>50</td>\n",
       "      <td>5</td>\n",
       "      <td>0</td>\n",
       "      <td>False</td>\n",
       "      <td>376</td>\n",
       "      <td>(2048,) array</td>\n",
       "    </tr>\n",
       "  </tbody>\n",
       "</table>"
      ],
      "text/plain": [
       "OrderedDict([('ID', 50), ('t', [0, 1, 2]), ('x', [204.82608695652175, 208.46496815286625, 214.72340425531914]), ('y', [5.821510297482837, 6.507430997876858, 4.88563829787234]), ('z', [0.0, 0.0, 0.0]), ('parent', 50), ('root', 50), ('state', [5, 5, 5]), ('generation', 0), ('dummy', [False, False, False]), ('area', array([437, 471, 376])), ('resnet-features', array([[0.        , 0.        , 0.01971844, ..., 6.5241017 , 0.        ,\n",
       "        0.        ],\n",
       "       [0.        , 0.        , 0.        , ..., 6.5108566 , 0.        ,\n",
       "        0.        ],\n",
       "       [0.        , 0.        , 0.        , ..., 5.519707  , 0.        ,\n",
       "        0.        ]], dtype=float32))])"
      ]
     },
     "execution_count": 19,
     "metadata": {},
     "output_type": "execute_result"
    }
   ],
   "source": [
    "tracks[1]"
   ]
  },
  {
   "cell_type": "code",
   "execution_count": null,
   "metadata": {},
   "outputs": [],
   "source": []
  }
 ],
 "metadata": {
  "kernelspec": {
   "display_name": "Python [conda env:jax]",
   "language": "python",
   "name": "conda-env-jax-py"
  },
  "language_info": {
   "codemirror_mode": {
    "name": "ipython",
    "version": 3
   },
   "file_extension": ".py",
   "mimetype": "text/x-python",
   "name": "python",
   "nbconvert_exporter": "python",
   "pygments_lexer": "ipython3",
   "version": "3.9.6"
  }
 },
 "nbformat": 4,
 "nbformat_minor": 4
}
