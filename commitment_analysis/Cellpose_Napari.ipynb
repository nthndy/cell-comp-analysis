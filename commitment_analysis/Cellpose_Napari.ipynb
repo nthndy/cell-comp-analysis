{
 "cells": [
  {
   "cell_type": "code",
   "execution_count": 1,
   "metadata": {},
   "outputs": [],
   "source": [
    "import napari\n",
    "import os, glob, enum\n",
    "from skimage.io import imread\n",
    "from tqdm import tqdm\n",
    "from natsort import natsorted\n",
    "import numpy as np\n",
    "import tifffile as tiff\n"
   ]
  },
  {
   "cell_type": "code",
   "execution_count": 2,
   "metadata": {},
   "outputs": [],
   "source": [
    "data_folder = '/run/user/1000/gvfs/smb-share:server=lowe-sn00.biochem.ucl.ac.uk,share=lowegrp/Data/Nathan/kraken/pcna_h2b/MK0000/Pos15'#'/media/nathan/Transcend/Nathan/data/pcna/test_210422/Pos7'\n",
    "output_dir = os.path.join(data_folder,'stacks')"
   ]
  },
  {
   "cell_type": "code",
   "execution_count": 3,
   "metadata": {},
   "outputs": [],
   "source": [
    "@enum.unique\n",
    "class channels(enum.Enum):\n",
    "    bf = 0 \n",
    "    gfp = 1\n",
    "    rfp = 2\n",
    "    irfp = 3"
   ]
  },
  {
   "cell_type": "code",
   "execution_count": 4,
   "metadata": {},
   "outputs": [
    {
     "name": "stdout",
     "output_type": "stream",
     "text": [
      "looks like stacks already exist bro\n"
     ]
    }
   ],
   "source": [
    "## compile stacks\n",
    "if 'stacks' not in os.listdir(data_folder) or os.listdir(os.path.join(data_folder,'stacks')) == []:\n",
    "    output_dir = os.path.join(data_folder,'stacks')\n",
    "    print('creating directory', output_dir) \n",
    "    os.mkdir(output_dir) if 'stacks' not in os.listdir(data_folder) else print(output_dir,'directory already exists')\n",
    "    for channel in channels:\n",
    "        print(channel.name, 'compiling')\n",
    "        files = glob.glob(os.path.join(data_folder,'img_channel00{}*.tif'.format(channel.value)))\n",
    "        stack = []\n",
    "        for file in tqdm(natsorted(files)):\n",
    "            tif = np.array(tiff.imread(file),dtype=np.uint8)\n",
    "            tif_w,tif_h = np.shape(tif)[0],np.shape(tif)[1]\n",
    "            tif = tif[int((tif_w-1200)/2):int(tif_w-(tif_w-1200)/2),int((tif_h-1600)/2):int(tif_h-(tif_h-1600)/2)] ## cropping\n",
    "            stack.append(tif)\n",
    "        stack = np.stack(stack,axis=0)\n",
    "        with tiff.TiffWriter(os.path.join(output_dir,'{}.tif'.format(channel.name)),imagej=True) as output_file:\n",
    "            output_file.save(stack)\n",
    "        print(channel.name, 'saved out')\n",
    "else:\n",
    "    print('looks like stacks already exist bro')"
   ]
  },
  {
   "cell_type": "code",
   "execution_count": null,
   "metadata": {},
   "outputs": [],
   "source": [
    "tif"
   ]
  },
  {
   "cell_type": "code",
   "execution_count": 5,
   "metadata": {},
   "outputs": [],
   "source": [
    "### load images\n",
    "stack_fn = {}\n",
    "for channel in channels:\n",
    "    stack_fn[channel.name] = glob.glob(os.path.join(output_dir, '{}.tif'.format(channel.name)))\n",
    "# gfp = imread(stack_fn['gfp'][0])\n",
    "# rfp = imread(stack_fn['rfp'][0])\n",
    "# irfp = imread(stack_fn['irfp'][0])\n",
    "\n",
    "### load single image\n",
    "gfp = imread(os.path.join(data_folder,'img_channel001_position015_time000000000_z000.tif'))"
   ]
  },
  {
   "cell_type": "code",
   "execution_count": 7,
   "metadata": {},
   "outputs": [
    {
     "name": "stdout",
     "output_type": "stream",
     "text": [
      "\u001b[0;31m---------------------------------------------------------------------------\u001b[0m\n",
      "\u001b[0;31mNameError\u001b[0m                                 Traceback (most recent call last)\n",
      "\u001b[0;32m~/anaconda3/envs/cellpose/lib/python3.7/site-packages/napari/_qt/qt_event_loop.py\u001b[0m in \u001b[0;36mgui_qt\u001b[0;34m(startup_logo=False, gui_exceptions=False, force=False)\u001b[0m\n",
      "\u001b[1;32m    248\u001b[0m         \u001b[0msplash\u001b[0m\u001b[0;34m.\u001b[0m\u001b[0mclose\u001b[0m\u001b[0;34m(\u001b[0m\u001b[0;34m)\u001b[0m\u001b[0;34m\u001b[0m\u001b[0;34m\u001b[0m\u001b[0m\n",
      "\u001b[1;32m    249\u001b[0m     \u001b[0;32mtry\u001b[0m\u001b[0;34m:\u001b[0m\u001b[0;34m\u001b[0m\u001b[0;34m\u001b[0m\u001b[0m\n",
      "\u001b[0;32m--> 250\u001b[0;31m         \u001b[0;32myield\u001b[0m \u001b[0mapp\u001b[0m\u001b[0;34m\u001b[0m\u001b[0;34m\u001b[0m\u001b[0m\n",
      "\u001b[0m        \u001b[0;36mapp\u001b[0m \u001b[0;34m= <PyQt5.QtWidgets.QApplication object at 0x7fadbf561e10>\u001b[0m\n",
      "\u001b[1;32m    251\u001b[0m     \u001b[0;32mexcept\u001b[0m \u001b[0mException\u001b[0m\u001b[0;34m:\u001b[0m\u001b[0;34m\u001b[0m\u001b[0;34m\u001b[0m\u001b[0m\n",
      "\u001b[1;32m    252\u001b[0m         \u001b[0mnotification_manager\u001b[0m\u001b[0;34m.\u001b[0m\u001b[0mreceive_error\u001b[0m\u001b[0;34m(\u001b[0m\u001b[0;34m*\u001b[0m\u001b[0msys\u001b[0m\u001b[0;34m.\u001b[0m\u001b[0mexc_info\u001b[0m\u001b[0;34m(\u001b[0m\u001b[0;34m)\u001b[0m\u001b[0;34m)\u001b[0m\u001b[0;34m\u001b[0m\u001b[0;34m\u001b[0m\u001b[0m\n",
      "\n",
      "\u001b[0;32m<ipython-input-7-f6f918a68b0e>\u001b[0m in \u001b[0;36m<module>\u001b[0;34m\u001b[0m\n",
      "\u001b[1;32m      4\u001b[0m \u001b[0;34m\u001b[0m\u001b[0m\n",
      "\u001b[1;32m      5\u001b[0m     \u001b[0mviewer\u001b[0m\u001b[0;34m.\u001b[0m\u001b[0madd_image\u001b[0m\u001b[0;34m(\u001b[0m\u001b[0mgfp\u001b[0m\u001b[0;34m,\u001b[0m \u001b[0mname\u001b[0m\u001b[0;34m=\u001b[0m\u001b[0;34m\"gfp\"\u001b[0m\u001b[0;34m,\u001b[0m \u001b[0mblending\u001b[0m \u001b[0;34m=\u001b[0m \u001b[0;34m\"additive\"\u001b[0m\u001b[0;34m,\u001b[0m \u001b[0mcolormap\u001b[0m \u001b[0;34m=\u001b[0m \u001b[0;34m\"green\"\u001b[0m\u001b[0;34m)\u001b[0m\u001b[0;34m\u001b[0m\u001b[0;34m\u001b[0m\u001b[0m\n",
      "\u001b[0;32m----> 6\u001b[0;31m     \u001b[0mviewer\u001b[0m\u001b[0;34m.\u001b[0m\u001b[0madd_image\u001b[0m\u001b[0;34m(\u001b[0m\u001b[0mrfp\u001b[0m\u001b[0;34m,\u001b[0m \u001b[0mname\u001b[0m\u001b[0;34m=\u001b[0m\u001b[0;34m\"rfp\"\u001b[0m\u001b[0;34m,\u001b[0m \u001b[0mcontrast_limits\u001b[0m \u001b[0;34m=\u001b[0m \u001b[0;34m(\u001b[0m\u001b[0;36m0\u001b[0m\u001b[0;34m,\u001b[0m \u001b[0;36m50\u001b[0m\u001b[0;34m)\u001b[0m\u001b[0;34m,\u001b[0m \u001b[0mblending\u001b[0m \u001b[0;34m=\u001b[0m \u001b[0;34m\"additive\"\u001b[0m\u001b[0;34m,\u001b[0m \u001b[0mcolormap\u001b[0m \u001b[0;34m=\u001b[0m \u001b[0;34m\"magenta\"\u001b[0m\u001b[0;34m)\u001b[0m\u001b[0;34m\u001b[0m\u001b[0;34m\u001b[0m\u001b[0m\n",
      "\u001b[0m        \u001b[0;36mglobal\u001b[0m \u001b[0;36mviewer.add_image\u001b[0m \u001b[0;34m= <bound method ViewerModel.add_image of Viewer(axes=Axes(visible=False, labels=True, colored=True, dashed=False, arrows=True), camera=Camera(center=(0.0, 675.5, 843.5), zoom=0.523147599288678, angles=(0.0, 0.0, 90.0), interactive=True), cursor=Cursor(position=(0.0, 0.0), scaled=True, size=1, style='standard'), dims=Dims(ndim=2, ndisplay=2, last_used=1, range=((0.0, 1351.0, 1.0), (0.0, 1687.0, 1.0)), current_step=(0, 0), order=(0, 1), axis_labels=('0', '1')), grid=GridCanvas(enabled=False, stride=1, shape=(-1, -1)), layers=[<Image layer 'gfp' at 0x7fac51662d90>], scale_bar=ScaleBar(visible=False, colored=False, ticks=True, position='bottom_right'), active_layer=<Image layer 'gfp' at 0x7fac51662d90>, help='', status='Ready', theme='dark', title='napari', mouse_move_callbacks=[], mouse_drag_callbacks=[], mouse_wheel_callbacks=[<function dims_scroll at 0x7fad8bb3e320>], _persisted_mouse_event={}, _mouse_drag_gen={}, _mouse_wheel_gen={}, keymap={})>\u001b[0m\u001b[0;34m\n",
      "        \u001b[0m\u001b[0;36mglobal\u001b[0m \u001b[0;36mrfp\u001b[0m \u001b[0;34m= \u001b[0;36mundefined\u001b[0m\u001b[0m\u001b[0;34m\n",
      "        \u001b[0m\u001b[0;36mglobal\u001b[0m \u001b[0;36mname\u001b[0m \u001b[0;34m= \u001b[0;36mundefined\u001b[0m\u001b[0m\u001b[0;34m\n",
      "        \u001b[0m\u001b[0;36mglobal\u001b[0m \u001b[0;36mcontrast_limits\u001b[0m \u001b[0;34m= \u001b[0;36mundefined\u001b[0m\u001b[0m\u001b[0;34m\n",
      "        \u001b[0m\u001b[0;36mglobal\u001b[0m \u001b[0;36mblending\u001b[0m \u001b[0;34m= \u001b[0;36mundefined\u001b[0m\u001b[0m\u001b[0;34m\n",
      "        \u001b[0m\u001b[0;36mglobal\u001b[0m \u001b[0;36mcolormap\u001b[0m \u001b[0;34m= \u001b[0;36mundefined\u001b[0m\u001b[0m\n",
      "\u001b[1;32m      7\u001b[0m     \u001b[0mviewer\u001b[0m\u001b[0;34m.\u001b[0m\u001b[0madd_image\u001b[0m\u001b[0;34m(\u001b[0m\u001b[0mirfp\u001b[0m\u001b[0;34m,\u001b[0m \u001b[0mname\u001b[0m\u001b[0;34m=\u001b[0m\u001b[0;34m\"irfp\"\u001b[0m\u001b[0;34m,\u001b[0m \u001b[0mblending\u001b[0m \u001b[0;34m=\u001b[0m \u001b[0;34m\"additive\"\u001b[0m\u001b[0;34m,\u001b[0m \u001b[0mcolormap\u001b[0m \u001b[0;34m=\u001b[0m \u001b[0;34m\"cyan\"\u001b[0m\u001b[0;34m)\u001b[0m\u001b[0;34m\u001b[0m\u001b[0;34m\u001b[0m\u001b[0m\n",
      "\n",
      "\u001b[0;31mNameError\u001b[0m: name 'rfp' is not defined\n",
      "2021-05-14 15:46:09,750 [INFO] gfp\n",
      "(1352, 1688)\n",
      "2021-05-14 15:46:09,764 [INFO] computing masks with cellprob_threshold=0.0, flow_threshold=0.4\n"
     ]
    }
   ],
   "source": [
    "### launch napari\n",
    "with napari.gui_qt():\n",
    "    viewer = napari.Viewer()\n",
    "    \n",
    "    viewer.add_image(gfp, name=\"gfp\", blending = \"additive\", colormap = \"green\")\n",
    "    viewer.add_image(rfp, name=\"rfp\", contrast_limits = (0, 50), blending = \"additive\", colormap = \"magenta\")\n",
    "    viewer.add_image(irfp, name=\"irfp\", blending = \"additive\", colormap = \"cyan\")"
   ]
  }
 ],
 "metadata": {
  "kernelspec": {
   "display_name": "cellpose",
   "language": "python",
   "name": "cellpose"
  },
  "language_info": {
   "codemirror_mode": {
    "name": "ipython",
    "version": 3
   },
   "file_extension": ".py",
   "mimetype": "text/x-python",
   "name": "python",
   "nbconvert_exporter": "python",
   "pygments_lexer": "ipython3",
   "version": "3.7.10"
  }
 },
 "nbformat": 4,
 "nbformat_minor": 2
}
