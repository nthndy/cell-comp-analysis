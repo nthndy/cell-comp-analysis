{
 "cells": [
  {
   "cell_type": "markdown",
   "metadata": {},
   "source": [
    "# Control Kymograph maker\n",
    "This notebook is for creating control kymographs"
   ]
  },
  {
   "cell_type": "code",
   "execution_count": 4,
   "metadata": {},
   "outputs": [
    {
     "name": "stdout",
     "output_type": "stream",
     "text": [
      "version no.: 0.4.0\n"
     ]
    }
   ],
   "source": [
    "import btrack\n",
    "print(\"version no.:\", btrack.__version__)\n",
    "from btrack.utils import import_HDF, import_JSON\n",
    "import numpy as np\n",
    "import matplotlib.pyplot as plt\n",
    "import os\n",
    "import re\n",
    "import timeit ## can remove after assessing speed of different methods\n",
    "from tqdm import tqdm"
   ]
  },
  {
   "cell_type": "code",
   "execution_count": 3,
   "metadata": {},
   "outputs": [],
   "source": [
    "def euclidean_distance(target_track, other_track, frame):\n",
    "    try:\n",
    "        idx0 = target_track.t.index(find_apoptosis_time(target_track, index = False)) ## could also do just ## apop_index\n",
    "        idx1 = other_track.t.index(frame) ## t.index provides the index of that frame\n",
    "    except:\n",
    "        return np.inf\n",
    "    \n",
    "    dx = target_track.x[idx0] - other_track.x[idx1]\n",
    "    dy = target_track.y[idx0] - other_track.y[idx1]\n",
    "    \n",
    "    return np.sqrt(dx**2 + dy**2)\n",
    "\n",
    "def euc_dist(target_track, other_track, frame, apop_index):\n",
    "    try:\n",
    "        idx0 = apop_index ##target_track.t.index(apop_time) ## could also do just ## apop_index\n",
    "        idx1 = other_track.t.index(frame) ## t.index provides the index of that frame\n",
    "    except:\n",
    "        return np.inf\n",
    "    \n",
    "    dx = target_track.x[idx0] - other_track.x[idx1]\n",
    "    dy = target_track.y[idx0] - other_track.y[idx1]\n",
    "    \n",
    "    return np.sqrt(dx**2 + dy**2)\n",
    "\n",
    "def euc_dist_mito(target_track, other_track, apop_index):\n",
    "    idx0 = apop_index ##target_track.t.index(apop_time) ## could also do just ## apop_index\n",
    "    idx1 = -1 ## t[-1] is the final frame, ie the frame of mitosis\n",
    "    \n",
    "    dx = target_track.x[idx0] - other_track.x[idx1]\n",
    "    dy = target_track.y[idx0] - other_track.y[idx1]\n",
    "    \n",
    "    return np.sqrt(dx**2 + dy**2)\n",
    "\n",
    "def find_apoptosis_time(target_track, index): ### if index is set to True then the index of the apoptotic time (wrt target_track) is returned\n",
    "    for i, j in enumerate(target_track.label):\n",
    "        if j == 'APOPTOSIS' and target_track.label[i+1] == 'APOPTOSIS' and target_track.label[i+2] == 'APOPTOSIS': # and target_track.label[i+3] =='APOPTOSIS' and target_track.label[i+4] =='APOPTOSIS':\n",
    "            apop_index = i\n",
    "            break\n",
    "    apop_time = target_track.t[apop_index]\n",
    "    if index == True: \n",
    "        return apop_index\n",
    "    else: \n",
    "        return apop_time\n",
    "    \n",
    "def kymo_labels(num_bins, label_freq):\n",
    "    radial_bin = radius / num_bins\n",
    "    temporal_bin = t_range*2 / num_bins\n",
    "\n",
    "    ### generate labels for axis PIXELS/FRAMES\n",
    "    xlocs = range(0, num_bins,label_freq) ## step of 2 to avoid crowding\n",
    "    xlabels = []\n",
    "    for m in range(int(-num_bins/2), int(num_bins/2),label_freq):\n",
    "        xlabels.append(str(int((temporal_bin)*m)) + \",\" + str(int((temporal_bin)*m+temporal_bin)))\n",
    "\n",
    "    ylocs = range(0, num_bins, label_freq) ## step of 2 to avoid crowding\n",
    "    ylabels = []\n",
    "    for m in range(num_bins, 0, -label_freq):\n",
    "        ylabels.append(str(int((radial_bin)*m)) + \",\" + str(int((radial_bin)*(m-1))))\n",
    "    \n",
    "    return xlocs, xlabels, ylocs, ylabels"
   ]
  },
  {
   "cell_type": "code",
   "execution_count": 2,
   "metadata": {},
   "outputs": [
    {
     "name": "stderr",
     "output_type": "stream",
     "text": [
      "[INFO][2021/01/19 07:05:32 PM] Opening HDF file: /home/nathan/data/kraken/h2b/giulia/GV0807/Pos3/Pos3_aligned/HDF/segmented.hdf5...\n",
      "[INFO][2021/01/19 07:05:32 PM] Loading tracks/obj_type_1\n",
      "[INFO][2021/01/19 07:05:34 PM] Loading objects/obj_type_1 (408973, 5) (388394 filtered: area>=100)\n",
      "[INFO][2021/01/19 07:05:37 PM] Closing HDF file: /home/nathan/data/kraken/h2b/giulia/GV0807/Pos3/Pos3_aligned/HDF/segmented.hdf5\n",
      "[INFO][2021/01/19 07:05:37 PM] Opening HDF file: /home/nathan/data/kraken/h2b/giulia/GV0807/Pos3/Pos3_aligned/HDF/segmented.hdf5...\n",
      "[INFO][2021/01/19 07:05:37 PM] Loading tracks/obj_type_2\n",
      "[INFO][2021/01/19 07:05:37 PM] Loading objects/obj_type_2 (12115, 5) (8894 filtered: area>=100)\n",
      "[INFO][2021/01/19 07:05:37 PM] Closing HDF file: /home/nathan/data/kraken/h2b/giulia/GV0807/Pos3/Pos3_aligned/HDF/segmented.hdf5\n"
     ]
    },
    {
     "name": "stdout",
     "output_type": "stream",
     "text": [
      "Track information loaded\n"
     ]
    }
   ],
   "source": [
    "expt_path = '/home/nathan/data/kraken/h2b/giulia/GV0807/'\n",
    "tracks_fn = os.path.join(expt_path, 'Pos3/Pos3_aligned/HDF/segmented.hdf5')\n",
    "with btrack.dataio.HDF5FileHandler(tracks_fn, 'r', obj_type = \"obj_type_1\") as h:\n",
    "    wt_tracks = h.tracks\n",
    "with btrack.dataio.HDF5FileHandler(tracks_fn, 'r', obj_type = \"obj_type_2\") as h:\n",
    "    scr_tracks = h.tracks\n",
    "print(\"Track information loaded\")"
   ]
  },
  {
   "cell_type": "markdown",
   "metadata": {},
   "source": [
    "# to-do:\n",
    "\n",
    "- [x] check against raw data\n",
    "- [x] bin into discrete cats, \n",
    "- [x] Check for duplicate entries - current method does count cells in every frame\n",
    "- [x] write script to count only a single incident of specific cell?\n",
    "- [x] Add labels to bins\n",
    "- [X] Add mitosis filter\n",
    "- [ ] Choose range based on micrometers/hours, not pixels/frames\n",
    "- [x] Write out in suitable format (csv?)\n",
    "- [x] Iterate over many cells\n",
    "- [ ] get true apop list\n",
    "- [ ] sub in new calcs- think about whether thats what i want to measure!\n",
    "- [ ] Iterate over many experiments\n",
    "- [x] Speed up calculation beyond 45min for R=400, t=400 (do not calculate euc dist every time, nor find_apop_time\n",
    "\n",
    "\n",
    "- [x] compare euc_dist to original\n",
    "- [x] check wts_mito"
   ]
  },
  {
   "cell_type": "markdown",
   "metadata": {},
   "source": [
    "# Iterating over many cells and calculating kymograph"
   ]
  },
  {
   "cell_type": "code",
   "execution_count": 32,
   "metadata": {},
   "outputs": [],
   "source": [
    "start = timeit.default_timer()"
   ]
  },
  {
   "cell_type": "code",
   "execution_count": 33,
   "metadata": {},
   "outputs": [
    {
     "name": "stderr",
     "output_type": "stream",
     "text": [
      "\n",
      "\n",
      "\n",
      "0it [00:00, ?it/s]\u001b[A\u001b[A\u001b[A"
     ]
    },
    {
     "name": "stdout",
     "output_type": "stream",
     "text": [
      "0 / 68\n",
      "1 / 68\n",
      "2 / 68\n",
      "3 / 68\n",
      "4 / 68\n",
      "5 / 68\n",
      "6 / 68\n",
      "7 / 68\n",
      "8 / 68\n",
      "9 / 68\n",
      "10 / 68\n",
      "11 / 68\n",
      "12 / 68\n"
     ]
    },
    {
     "name": "stderr",
     "output_type": "stream",
     "text": [
      "\n",
      "\n",
      "\n",
      "13it [00:44,  3.39s/it]\u001b[A\u001b[A\u001b[A"
     ]
    },
    {
     "name": "stdout",
     "output_type": "stream",
     "text": [
      "13 / 68\n"
     ]
    },
    {
     "name": "stderr",
     "output_type": "stream",
     "text": [
      "\n",
      "\n",
      "\n",
      "14it [01:36, 18.18s/it]\u001b[A\u001b[A\u001b[A"
     ]
    },
    {
     "name": "stdout",
     "output_type": "stream",
     "text": [
      "14 / 68\n"
     ]
    },
    {
     "name": "stderr",
     "output_type": "stream",
     "text": [
      "\n",
      "\n",
      "\n",
      "15it [02:18, 25.37s/it]\u001b[A\u001b[A\u001b[A"
     ]
    },
    {
     "name": "stdout",
     "output_type": "stream",
     "text": [
      "15 / 68\n"
     ]
    },
    {
     "name": "stderr",
     "output_type": "stream",
     "text": [
      "\n",
      "\n",
      "\n",
      "16it [03:07, 32.48s/it]\u001b[A\u001b[A\u001b[A"
     ]
    },
    {
     "name": "stdout",
     "output_type": "stream",
     "text": [
      "16 / 68\n"
     ]
    },
    {
     "name": "stderr",
     "output_type": "stream",
     "text": [
      "\n",
      "\n",
      "\n",
      "17it [03:57, 37.50s/it]\u001b[A\u001b[A\u001b[A"
     ]
    },
    {
     "name": "stdout",
     "output_type": "stream",
     "text": [
      "17 / 68\n",
      "18 / 68\n"
     ]
    },
    {
     "name": "stderr",
     "output_type": "stream",
     "text": [
      "\n",
      "\n",
      "\n",
      "19it [04:43, 33.15s/it]\u001b[A\u001b[A\u001b[A"
     ]
    },
    {
     "name": "stdout",
     "output_type": "stream",
     "text": [
      "19 / 68\n",
      "20 / 68\n"
     ]
    },
    {
     "name": "stderr",
     "output_type": "stream",
     "text": [
      "\n",
      "\n",
      "\n",
      "21it [05:28, 30.02s/it]\u001b[A\u001b[A\u001b[A"
     ]
    },
    {
     "name": "stdout",
     "output_type": "stream",
     "text": [
      "21 / 68\n"
     ]
    },
    {
     "name": "stderr",
     "output_type": "stream",
     "text": [
      "\n",
      "\n",
      "\n",
      "22it [06:13, 34.57s/it]\u001b[A\u001b[A\u001b[A"
     ]
    },
    {
     "name": "stdout",
     "output_type": "stream",
     "text": [
      "22 / 68\n"
     ]
    },
    {
     "name": "stderr",
     "output_type": "stream",
     "text": [
      "\n",
      "\n",
      "\n",
      "23it [06:59, 37.87s/it]\u001b[A\u001b[A\u001b[A"
     ]
    },
    {
     "name": "stdout",
     "output_type": "stream",
     "text": [
      "23 / 68\n",
      "24 / 68\n",
      "25 / 68\n"
     ]
    },
    {
     "name": "stderr",
     "output_type": "stream",
     "text": [
      "\n",
      "\n",
      "\n",
      "26it [07:44, 31.06s/it]\u001b[A\u001b[A\u001b[A"
     ]
    },
    {
     "name": "stdout",
     "output_type": "stream",
     "text": [
      "26 / 68\n",
      "27 / 68\n",
      "28 / 68\n",
      "29 / 68\n"
     ]
    },
    {
     "name": "stderr",
     "output_type": "stream",
     "text": [
      "\n",
      "\n",
      "\n",
      "30it [08:27, 24.96s/it]\u001b[A\u001b[A\u001b[A"
     ]
    },
    {
     "name": "stdout",
     "output_type": "stream",
     "text": [
      "30 / 68\n",
      "31 / 68\n",
      "32 / 68\n"
     ]
    },
    {
     "name": "stderr",
     "output_type": "stream",
     "text": [
      "\n",
      "\n",
      "\n",
      "33it [09:13, 22.00s/it]\u001b[A\u001b[A\u001b[A"
     ]
    },
    {
     "name": "stdout",
     "output_type": "stream",
     "text": [
      "33 / 68\n",
      "34 / 68\n",
      "35 / 68\n",
      "36 / 68\n"
     ]
    },
    {
     "name": "stderr",
     "output_type": "stream",
     "text": [
      "\n",
      "\n",
      "\n",
      "37it [09:55, 18.58s/it]\u001b[A\u001b[A\u001b[A"
     ]
    },
    {
     "name": "stdout",
     "output_type": "stream",
     "text": [
      "37 / 68\n"
     ]
    },
    {
     "name": "stderr",
     "output_type": "stream",
     "text": [
      "\n",
      "\n",
      "\n",
      "38it [10:39, 26.09s/it]\u001b[A\u001b[A\u001b[A"
     ]
    },
    {
     "name": "stdout",
     "output_type": "stream",
     "text": [
      "38 / 68\n"
     ]
    },
    {
     "name": "stderr",
     "output_type": "stream",
     "text": [
      "\n",
      "\n",
      "\n",
      "39it [11:22, 31.34s/it]\u001b[A\u001b[A\u001b[A"
     ]
    },
    {
     "name": "stdout",
     "output_type": "stream",
     "text": [
      "39 / 68\n"
     ]
    },
    {
     "name": "stderr",
     "output_type": "stream",
     "text": [
      "\n",
      "\n",
      "\n",
      "40it [12:08, 35.64s/it]\u001b[A\u001b[A\u001b[A"
     ]
    },
    {
     "name": "stdout",
     "output_type": "stream",
     "text": [
      "40 / 68\n",
      "41 / 68\n"
     ]
    },
    {
     "name": "stderr",
     "output_type": "stream",
     "text": [
      "\n",
      "\n",
      "\n",
      "42it [12:51, 31.39s/it]\u001b[A\u001b[A\u001b[A"
     ]
    },
    {
     "name": "stdout",
     "output_type": "stream",
     "text": [
      "42 / 68\n",
      "43 / 68\n",
      "44 / 68\n"
     ]
    },
    {
     "name": "stderr",
     "output_type": "stream",
     "text": [
      "\n",
      "\n",
      "\n",
      "45it [13:35, 26.37s/it]\u001b[A\u001b[A\u001b[A"
     ]
    },
    {
     "name": "stdout",
     "output_type": "stream",
     "text": [
      "45 / 68\n"
     ]
    },
    {
     "name": "stderr",
     "output_type": "stream",
     "text": [
      "\n",
      "\n",
      "\n",
      "46it [14:16, 30.75s/it]\u001b[A\u001b[A\u001b[A"
     ]
    },
    {
     "name": "stdout",
     "output_type": "stream",
     "text": [
      "46 / 68\n",
      "47 / 68\n"
     ]
    },
    {
     "name": "stderr",
     "output_type": "stream",
     "text": [
      "\n",
      "\n",
      "\n",
      "48it [14:56, 27.63s/it]\u001b[A\u001b[A\u001b[A"
     ]
    },
    {
     "name": "stdout",
     "output_type": "stream",
     "text": [
      "48 / 68\n",
      "49 / 68\n"
     ]
    },
    {
     "name": "stderr",
     "output_type": "stream",
     "text": [
      "\n",
      "\n",
      "\n",
      "50it [15:39, 25.67s/it]\u001b[A\u001b[A\u001b[A"
     ]
    },
    {
     "name": "stdout",
     "output_type": "stream",
     "text": [
      "50 / 68\n",
      "51 / 68\n"
     ]
    },
    {
     "name": "stderr",
     "output_type": "stream",
     "text": [
      "\n",
      "\n",
      "\n",
      "52it [16:19, 24.01s/it]\u001b[A\u001b[A\u001b[A"
     ]
    },
    {
     "name": "stdout",
     "output_type": "stream",
     "text": [
      "52 / 68\n"
     ]
    },
    {
     "name": "stderr",
     "output_type": "stream",
     "text": [
      "\n",
      "\n",
      "\n",
      "53it [17:01, 29.51s/it]\u001b[A\u001b[A\u001b[A"
     ]
    },
    {
     "name": "stdout",
     "output_type": "stream",
     "text": [
      "53 / 68\n"
     ]
    },
    {
     "name": "stderr",
     "output_type": "stream",
     "text": [
      "\n",
      "\n",
      "\n",
      "54it [17:43, 33.27s/it]\u001b[A\u001b[A\u001b[A"
     ]
    },
    {
     "name": "stdout",
     "output_type": "stream",
     "text": [
      "54 / 68\n",
      "55 / 68\n"
     ]
    },
    {
     "name": "stderr",
     "output_type": "stream",
     "text": [
      "\n",
      "\n",
      "\n",
      "56it [18:24, 29.47s/it]\u001b[A\u001b[A\u001b[A"
     ]
    },
    {
     "name": "stdout",
     "output_type": "stream",
     "text": [
      "56 / 68\n"
     ]
    },
    {
     "name": "stderr",
     "output_type": "stream",
     "text": [
      "\n",
      "\n",
      "\n",
      "57it [19:04, 32.50s/it]\u001b[A\u001b[A\u001b[A"
     ]
    },
    {
     "name": "stdout",
     "output_type": "stream",
     "text": [
      "57 / 68\n",
      "58 / 68\n",
      "59 / 68\n",
      "60 / 68\n",
      "61 / 68\n",
      "62 / 68\n"
     ]
    },
    {
     "name": "stderr",
     "output_type": "stream",
     "text": [
      "\n",
      "\n",
      "\n",
      "63it [19:44, 24.76s/it]\u001b[A\u001b[A\u001b[A"
     ]
    },
    {
     "name": "stdout",
     "output_type": "stream",
     "text": [
      "63 / 68\n"
     ]
    },
    {
     "name": "stderr",
     "output_type": "stream",
     "text": [
      "\n",
      "\n",
      "\n",
      "64it [20:25, 29.55s/it]\u001b[A\u001b[A\u001b[A"
     ]
    },
    {
     "name": "stdout",
     "output_type": "stream",
     "text": [
      "64 / 68\n",
      "65 / 68\n",
      "66 / 68\n",
      "67 / 68\n"
     ]
    },
    {
     "name": "stderr",
     "output_type": "stream",
     "text": [
      "\n",
      "\n",
      "\n",
      "68it [21:05, 18.61s/it]\u001b[A\u001b[A\u001b[A\n"
     ]
    }
   ],
   "source": [
    "cumu_wts, cumu_wts_mito = [], [] ## creating empty lists for cumulative \n",
    "N_cell = 0\n",
    "raw_numbers_path = os.path.join(expt_path, 'analysis/raw_numbers')\n",
    "\n",
    "scr_apops = [scr_track for scr_track in scr_tracks if scr_track.fate.name == 'APOPTOSIS']\n",
    "for i, scr_apop in tqdm(enumerate(scr_apops)):\n",
    "    print(i, \"/\", len(scr_apops))\n",
    "    target_track = scr_apop\n",
    "    if len(target_track) < 10: \n",
    "        continue\n",
    "    if target_track.ID in [1,3,4,6,10,11,16,17,18,29]:\n",
    "        continue\n",
    "    N_cell += 1\n",
    "    cell_ID = target_track.ID\n",
    "    apop_time = find_apoptosis_time(target_track, index = False)\n",
    "    apop_index = find_apoptosis_time(target_track, index = True)\n",
    "    radius = 400\n",
    "    t_range = 200 ### actual range will be twice this as it scans neg and pos\n",
    "    \n",
    "    wts = [tuple(((wt_track.ID),\n",
    "                  (round((euc_dist(target_track, wt_track, (apop_time+delta_t), apop_index)),2)),\n",
    "                  ((apop_time + delta_t)))) \n",
    "           for delta_t in range(-t_range, t_range)\n",
    "           for wt_track in wt_tracks \n",
    "               if euc_dist(target_track, wt_track, apop_time + delta_t, apop_index)<radius\n",
    "           ]\n",
    "    \n",
    "    wts_mito = [tuple(((wt_track.ID),\n",
    "                  (round((euc_dist_mito(target_track, wt_track, apop_index)),2)),\n",
    "                  (wt_track.t[-1]),\n",
    "                  (wt_track.label[-1]),\n",
    "                  (wt_track.fate.name))) \n",
    "           for wt_track in wt_tracks\n",
    "            if \n",
    "            euc_dist_mito(target_track, wt_track, apop_index)<radius and ## within the full radial extent\n",
    "            wt_track.fate.name == \"DIVIDE\" \n",
    "           ]\n",
    "    \n",
    "    ### save out results of scan\n",
    "    no_wt_fn = os.path.join(raw_numbers_path,('no_wt_Scr_ID_' + str(cell_ID) + '.csv'))\n",
    "    no_wt_mito_fn = os.path.join(raw_numbers_path, ('no_wt_mito_Scr_ID_' + str(cell_ID) + '.csv'))\n",
    "    \n",
    "    with open(no_wt_fn, 'w') as filehandle:\n",
    "        filehandle.write('%s\\n'%'ID, Distance, Frame')\n",
    "        for listitem in wts:\n",
    "            filehandle.write('%s\\n' % (re.sub(r\"[\\(\\)]\", \"\",str(listitem))))\n",
    "        \n",
    "    with open(no_wt_mito_fn, 'w') as filehandle:\n",
    "        filehandle.write('%s\\n'%'ID, Distance, Frame, State, Fate')\n",
    "        for listitem in wts_mito:\n",
    "            filehandle.write('%s\\n' % (re.sub(r\"[\\(\\)]\", \"\",str(listitem))))\n",
    "        \n",
    "    cumu_wts += wts\n",
    "    cumu_wts_mito += wts_mito\n",
    "\n",
    "cumu_wts_fn = os.path.join(raw_numbers_path, 'cumu_wts.csv')\n",
    "cumu_wts_mito_fn = os.path.join(raw_numbers_path, 'cumu_wts_mito.csv')\n",
    "\n",
    "with open(cumu_wts_fn, 'w') as filehandle:\n",
    "    filehandle.write('%s\\n'%'ID, Distance, Frame')\n",
    "    for listitem in cumu_wts:\n",
    "        filehandle.write('%s\\n' % (re.sub(r\"[\\(\\)]\", \"\",str(listitem))))\n",
    "        \n",
    "with open(cumu_wts_mito_fn, 'w') as filehandle:\n",
    "    filehandle.write('%s\\n'%'ID, Distance, Frame, State, Fate')\n",
    "    for listitem in cumu_wts_mito:\n",
    "        filehandle.write('%s\\n' % (re.sub(r\"[\\(\\)]\", \"\",str(listitem))))"
   ]
  },
  {
   "cell_type": "code",
   "execution_count": 34,
   "metadata": {},
   "outputs": [
    {
     "name": "stdout",
     "output_type": "stream",
     "text": [
      "Redesigned WT cell counter calculation time:  1268.93 seconds\n"
     ]
    }
   ],
   "source": [
    "stop = timeit.default_timer()\n",
    "\n",
    "print('Redesigned WT cell counter calculation time: ', round((stop - start),2), 'seconds') "
   ]
  },
  {
   "cell_type": "code",
   "execution_count": null,
   "metadata": {},
   "outputs": [],
   "source": [
    "os.system('spd-say \"calculation complete, objective achieved,faster, better, harder,stronger\"')"
   ]
  },
  {
   "cell_type": "markdown",
   "metadata": {},
   "source": [
    "# Plotting data from many Scr events into kymographs"
   ]
  },
  {
   "cell_type": "markdown",
   "metadata": {},
   "source": [
    "#### Getting xy variables"
   ]
  },
  {
   "cell_type": "code",
   "execution_count": 44,
   "metadata": {},
   "outputs": [],
   "source": [
    "distance = [cumu_wts[i][1] for i in range(0,len(cumu_wts))]\n",
    "time = [cumu_wts[i][2] for i in range(0,len(cumu_wts))]"
   ]
  },
  {
   "cell_type": "code",
   "execution_count": 45,
   "metadata": {},
   "outputs": [],
   "source": [
    "distance_mito = [cumu_wts_mito[i][1] for i in range(0,len(cumu_wts_mito))]\n",
    "time_mito = [cumu_wts_mito[i][2] for i in range(0,len(cumu_wts_mito))]"
   ]
  },
  {
   "cell_type": "markdown",
   "metadata": {},
   "source": [
    "#### Choose bin size for labels and to plot data into\n"
   ]
  },
  {
   "cell_type": "code",
   "execution_count": 225,
   "metadata": {},
   "outputs": [],
   "source": [
    "## choose bin size \n",
    "num_bins = 20"
   ]
  },
  {
   "cell_type": "code",
   "execution_count": 75,
   "metadata": {},
   "outputs": [
    {
     "data": {
      "image/png": "[encoded data removed]",
      "text/plain": [
       "<Figure size 432x288 with 2 Axes>"
      ]
     },
     "metadata": {
      "needs_background": "light"
     },
     "output_type": "display_data"
    }
   ],
   "source": [
    "num_bins = 20\n",
    "H_num_wt, x_autolabels, y_autolabels = np.histogram2d(time, distance, bins=num_bins)\n",
    "#H = H/bin_size ### because for every bin each cell could be counted for every frame present. Instead of reducing the count down to any instance of a cell, I want to preserve this cumulative count inside a single bin as a measure for how present that cell is in any bin. Ie a cell that is fully present will be counted fully, but only a fleeting presence of 1/20 frames will count as 1/20th of a fully presence. \n",
    "xlocs, xlabels, ylocs, ylabels = kymo_labels(num_bins, label_freq = int(num_bins*0.1)) ## 0.1 only adds ten labels to the kymograph\n",
    "plt.xlabel(\"Time from apoptosis at t=0 (frames)\")\n",
    "plt.ylabel(\"Distance from apoptosis (pixels)\")\n",
    "title = 'Cumulative kymograph centered around Scr. apop. N=' + str(N_cell)\n",
    "plt.title(title)\n",
    "plt.imshow(np.flipud(H_num_wt))\n",
    "plt.yticks(ylocs, ylabels)\n",
    "plt.xticks(xlocs, xlabels, rotation='vertical')\n",
    "plt.colorbar(label = 'No. of wild-type cell appearances')#, ticks = list(range(0, int(round(np.amax(H))),30)))\n",
    "expt_label = 'expt:\\n' + expt_path[36:42]\n",
    "plt.text(20,22,expt_label)\n",
    "save_title = 'Cumulative_kymo_no._wt.png'\n",
    "plt.savefig(os.path.join(expt_path, 'analysis', save_title), bbox_inches = 'tight', dpi = 300)"
   ]
  },
  {
   "cell_type": "code",
   "execution_count": 77,
   "metadata": {},
   "outputs": [
    {
     "data": {
      "image/png": "[encoded data removed]",
      "text/plain": [
       "<Figure size 432x288 with 2 Axes>"
      ]
     },
     "metadata": {
      "needs_background": "light"
     },
     "output_type": "display_data"
    }
   ],
   "source": [
    "num_bins = 20\n",
    "H_num_mito, x_autolabels, y_autolabels = np.histogram2d(time_mito, distance_mito, bins=num_bins)\n",
    "#H_mito = H_mito/bin_size ### because for every bin each cell could be counted for every frame present. Instead of reducing the count down to any instance of a cell, I want to preserve this cumulative count inside a single bin as a measure for how present that cell is in any bin. Ie a cell that is fully present will be counted fully, but only a fleeting presence of 1/20 frames will count as 1/20th of a fully presence. \n",
    "xlocs, xlabels, ylocs, ylabels = kymo_labels(num_bins, label_freq = int(num_bins*0.1)) ## 0.1 only adds ten labels to the kymograph\n",
    "plt.xlabel(\"Time from apoptosis at t=0 (frames)\")\n",
    "plt.ylabel(\"Distance from apoptosis (pixels)\")\n",
    "title = 'Cumulative kymograph centered around Scr. apop. N=' + str(N_cell)\n",
    "plt.title(title)\n",
    "plt.imshow(np.flipud(H_num_mito))\n",
    "plt.yticks(ylocs, ylabels)\n",
    "plt.xticks(xlocs, xlabels, rotation='vertical')\n",
    "plt.colorbar(label = 'No. of wild-type cell mitoses')#, ticks = list(range(0, int(round(np.amax(H_mito))),2)))\n",
    "expt_label = 'expt:\\n' + expt_path[36:42]\n",
    "plt.text(20,22,expt_label)\n",
    "save_title = 'Cumulative_kymo_no._wt_mito.png'\n",
    "plt.savefig(os.path.join(expt_path, 'analysis', save_title), bbox_inches = 'tight', dpi = 300)"
   ]
  },
  {
   "cell_type": "code",
   "execution_count": 80,
   "metadata": {},
   "outputs": [
    {
     "data": {
      "image/png": "[encoded data removed]",
      "text/plain": [
       "<Figure size 432x288 with 2 Axes>"
      ]
     },
     "metadata": {
      "needs_background": "light"
     },
     "output_type": "display_data"
    }
   ],
   "source": [
    "num_bins = 10\n",
    "H_prob_mito  = np.histogram2d(time_mito, distance_mito, bins=num_bins)[0]/np.histogram2d(time, distance, bins=num_bins)[0]\n",
    "xlocs, xlabels, ylocs, ylabels = kymo_labels(num_bins, label_freq = int(num_bins*0.1)) ## 0.1 only adds ten labels to the kymograph\n",
    "plt.xlabel(\"Time from apoptosis at t=0 (frames)\")\n",
    "plt.ylabel(\"Distance from apoptosis (pixels)\")\n",
    "title = 'Cumulative kymograph centered around Scr. apop. N=' + str(N_cell)\n",
    "plt.title(title)\n",
    "plt.imshow(np.flipud(H_prob_mito))\n",
    "plt.yticks(ylocs, ylabels)\n",
    "plt.xticks(xlocs, xlabels, rotation='vertical')\n",
    "plt.colorbar(label = 'Probability of wild-type cell mitoses')\n",
    "expt_label = 'expt:\\n' + expt_path[36:42]\n",
    "plt.text(10,11,expt_label)\n",
    "save_title = 'Cumulative_kymo_prob_wt_mito.png'\n",
    "plt.savefig(os.path.join(expt_path, 'analysis', save_title), bbox_inches = 'tight', dpi = 300)"
   ]
  }
 ],
 "metadata": {
  "kernelspec": {
   "display_name": "Python 3",
   "language": "python",
   "name": "python3"
  },
  "language_info": {
   "codemirror_mode": {
    "name": "ipython",
    "version": 3
   },
   "file_extension": ".py",
   "mimetype": "text/x-python",
   "name": "python",
   "nbconvert_exporter": "python",
   "pygments_lexer": "ipython3",
   "version": "3.7.6"
  }
 },
 "nbformat": 4,
 "nbformat_minor": 4
}
