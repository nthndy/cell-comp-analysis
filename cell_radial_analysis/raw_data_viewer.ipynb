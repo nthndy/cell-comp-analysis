{
 "cells": [
  {
   "cell_type": "code",
   "execution_count": 19,
   "metadata": {},
   "outputs": [
    {
     "name": "stdout",
     "output_type": "stream",
     "text": [
      "version no.: 0.4.1\n"
     ]
    }
   ],
   "source": [
    "import napari\n",
    "import btrack\n",
    "import numpy as np\n",
    "from skimage.io import imread\n",
    "from btrack.utils import tracks_to_napari\n",
    "print(\"version no.:\", napari.__version__)\n",
    "\n",
    "def find_apoptosis_index_time(target_track):\n",
    "    for i, j in enumerate(target_track.label):\n",
    "        if j == 'APOPTOSIS' and target_track.label[i+1] == 'APOPTOSIS' and target_track.label[i+2] == 'APOPTOSIS': # and target_track.label[i+3] =='APOPTOSIS' and target_track.label[i+4] =='APOPTOSIS':\n",
    "            apop_index = i\n",
    "            break\n",
    "    apop_time = target_track.t[apop_index]\n",
    "    return apop_index, apop_time\n",
    "\n",
    "def find_apoptosis_index(target_track):\n",
    "    for i, j in enumerate(target_track.label):\n",
    "        if j == 'APOPTOSIS' and target_track.label[i+1] == 'APOPTOSIS' and target_track.label[i+2] == 'APOPTOSIS': # and target_track.label[i+3] =='APOPTOSIS' and target_track.label[i+4] =='APOPTOSIS':\n",
    "            apop_index = i\n",
    "            break\n",
    "    apop_time = target_track.t[apop_index]\n",
    "    return apop_index"
   ]
  },
  {
   "cell_type": "code",
   "execution_count": 20,
   "metadata": {},
   "outputs": [],
   "source": [
    "gfp = imread('/home/nathan/data/kraken/h2b/giulia/GV0807/Pos3/stacks/gfp.tif')"
   ]
  },
  {
   "cell_type": "code",
   "execution_count": 21,
   "metadata": {},
   "outputs": [],
   "source": [
    "rfp = imread('/home/nathan/data/kraken/h2b/giulia/GV0807/Pos3/stacks/rfp.tif')"
   ]
  },
  {
   "cell_type": "code",
   "execution_count": 22,
   "metadata": {},
   "outputs": [],
   "source": [
    "gfp_raw = imread('/home/nathan/data/kraken/h2b/giulia/GV0807/Pos3/stacks/gfp_raw.tif')"
   ]
  },
  {
   "cell_type": "code",
   "execution_count": 23,
   "metadata": {},
   "outputs": [],
   "source": [
    "rfp_raw = imread('/home/nathan/data/kraken/h2b/giulia/GV0807/Pos3/stacks/rfp_raw.tif')"
   ]
  },
  {
   "cell_type": "code",
   "execution_count": null,
   "metadata": {},
   "outputs": [],
   "source": [
    "#bf = imread('/home/nathan/data/kraken/h2b/giulia/GV0807/Pos3/stacks/bf.tif')"
   ]
  },
  {
   "cell_type": "code",
   "execution_count": 24,
   "metadata": {
    "scrolled": false
   },
   "outputs": [
    {
     "name": "stderr",
     "output_type": "stream",
     "text": [
      "[INFO][2020/11/27 06:53:11 pm] Opening HDF file: /home/nathan/data/kraken/h2b/giulia/GV0807/Pos3/Pos3_aligned/HDF/segmented.hdf5...\n",
      "INFO:worker_process:Opening HDF file: /home/nathan/data/kraken/h2b/giulia/GV0807/Pos3/Pos3_aligned/HDF/segmented.hdf5...\n",
      "[INFO][2020/11/27 06:53:12 pm] Loading tracks/obj_type_1\n",
      "INFO:worker_process:Loading tracks/obj_type_1\n",
      "[INFO][2020/11/27 06:53:15 pm] Loading objects/obj_type_1 (408973, 5) (388394 filtered: area>=100)\n",
      "INFO:worker_process:Loading objects/obj_type_1 (408973, 5) (388394 filtered: area>=100)\n",
      "[INFO][2020/11/27 06:53:20 pm] Closing HDF file: /home/nathan/data/kraken/h2b/giulia/GV0807/Pos3/Pos3_aligned/HDF/segmented.hdf5\n",
      "INFO:worker_process:Closing HDF file: /home/nathan/data/kraken/h2b/giulia/GV0807/Pos3/Pos3_aligned/HDF/segmented.hdf5\n",
      "[INFO][2020/11/27 06:53:20 pm] Opening HDF file: /home/nathan/data/kraken/h2b/giulia/GV0807/Pos3/Pos3_aligned/HDF/segmented.hdf5...\n",
      "INFO:worker_process:Opening HDF file: /home/nathan/data/kraken/h2b/giulia/GV0807/Pos3/Pos3_aligned/HDF/segmented.hdf5...\n",
      "[INFO][2020/11/27 06:53:20 pm] Loading tracks/obj_type_2\n",
      "INFO:worker_process:Loading tracks/obj_type_2\n",
      "[INFO][2020/11/27 06:53:20 pm] Loading objects/obj_type_2 (12115, 5) (8894 filtered: area>=100)\n",
      "INFO:worker_process:Loading objects/obj_type_2 (12115, 5) (8894 filtered: area>=100)\n",
      "[INFO][2020/11/27 06:53:20 pm] Closing HDF file: /home/nathan/data/kraken/h2b/giulia/GV0807/Pos3/Pos3_aligned/HDF/segmented.hdf5\n",
      "INFO:worker_process:Closing HDF file: /home/nathan/data/kraken/h2b/giulia/GV0807/Pos3/Pos3_aligned/HDF/segmented.hdf5\n"
     ]
    }
   ],
   "source": [
    "with btrack.dataio.HDF5FileHandler(\"/home/nathan/data/kraken/h2b/giulia/GV0807/Pos3/Pos3_aligned/HDF/segmented.hdf5\", 'r', obj_type = \"obj_type_1\") as hdf:\n",
    "    wt_tracks = hdf.tracks\n",
    "with btrack.dataio.HDF5FileHandler(\"/home/nathan/data/kraken/h2b/giulia/GV0807/Pos3/Pos3_aligned/HDF/segmented.hdf5\", 'r', obj_type = \"obj_type_2\") as hdf:\n",
    "    scr_tracks = hdf.tracks"
   ]
  },
  {
   "cell_type": "code",
   "execution_count": 25,
   "metadata": {},
   "outputs": [],
   "source": [
    "divisions = [t for t in wt_tracks if t.fate.name == \"DIVIDE\" ]#and t.in_frame(730)]"
   ]
  },
  {
   "cell_type": "code",
   "execution_count": 26,
   "metadata": {},
   "outputs": [],
   "source": [
    "scr_apops = [t for t in scr_tracks if t.fate.name == \"APOPTOSIS\"]"
   ]
  },
  {
   "cell_type": "code",
   "execution_count": 27,
   "metadata": {},
   "outputs": [
    {
     "name": "stdout",
     "output_type": "stream",
     "text": [
      "input scribble track of interest ID\n",
      "17\n"
     ]
    }
   ],
   "source": [
    "### isolate one target scribble track of interest\n",
    "print(\"input scribble track of interest ID\")\n",
    "cell_ID = int(input())\n",
    "index = [i for i, scr_apop in enumerate(scr_apops) if scr_apop.ID == cell_ID][0]\n",
    "target_track = scr_apops[index]##### Show the first classification of each track\n",
    "apop_index, apop_time = find_apoptosis_index_time(target_track)"
   ]
  },
  {
   "cell_type": "code",
   "execution_count": 28,
   "metadata": {},
   "outputs": [],
   "source": [
    "target_tracks = [target_track for i in (1,2)]"
   ]
  },
  {
   "cell_type": "code",
   "execution_count": 29,
   "metadata": {},
   "outputs": [],
   "source": [
    "wt_data, properties, graph = tracks_to_napari(divisions, ndim = 2)"
   ]
  },
  {
   "cell_type": "code",
   "execution_count": 30,
   "metadata": {},
   "outputs": [],
   "source": [
    "scr_data, properties, graph = tracks_to_napari(scr_apops, ndim = 2)"
   ]
  },
  {
   "cell_type": "markdown",
   "metadata": {},
   "source": [
    "temp_data is just the target_track (Scr apop 17) "
   ]
  },
  {
   "cell_type": "code",
   "execution_count": null,
   "metadata": {},
   "outputs": [],
   "source": [
    "temp_data, properties, graph = tracks_to_napari(target_tracks, ndim = 2)"
   ]
  },
  {
   "cell_type": "code",
   "execution_count": null,
   "metadata": {},
   "outputs": [],
   "source": [
    "target_track"
   ]
  },
  {
   "cell_type": "markdown",
   "metadata": {},
   "source": [
    "`x = temp_data[:,3], y = temp_data[:,2]` this is how the tracks_to_napari organises itself"
   ]
  },
  {
   "cell_type": "markdown",
   "metadata": {},
   "source": [
    "# ISSUES\n",
    "#### is this corresponding to an overall shift of +20, +38? raw coords are 1688x1352"
   ]
  },
  {
   "cell_type": "code",
   "execution_count": 35,
   "metadata": {},
   "outputs": [
    {
     "name": "stdout",
     "output_type": "stream",
     "text": [
      "76\n"
     ]
    }
   ],
   "source": [
    "print(shift_y)"
   ]
  },
  {
   "cell_type": "markdown",
   "metadata": {},
   "source": [
    "#### does this actually switch the coords? i think sooooo..."
   ]
  },
  {
   "cell_type": "code",
   "execution_count": 38,
   "metadata": {},
   "outputs": [],
   "source": [
    "t,y,x = gfp_raw.shape\n",
    "shift_x = int((x - 1600)/2)\n",
    "shift_y = int((y - 1200)/2)\n",
    "\n",
    "# tmp = wt_data[:,2].copy()\n",
    "# wt_data[:,2] = wt_data[:,3]\n",
    "# wt_data[:,3] = tmp\n",
    "tmp = scr_data[:,2].copy()\n",
    "scr_data[:,2] = scr_data[:,3]\n",
    "scr_data[:,3] = tmp\n",
    "\n",
    "# wt_data[:,3] = wt_data[:,3] #+ shift_y\n",
    "# wt_data[:,2] = wt_data[:,2] #+ shift_x\n",
    "\n",
    "### BUT I SWITCH THE AXIS AROUND!!! hence shift_x needs to be added to y\n",
    "\n",
    "scr_data[:,3] = scr_data[:,3] #+ shift_x\n",
    "scr_data[:,2] = scr_data[:,2] #+ shift_y"
   ]
  },
  {
   "cell_type": "markdown",
   "metadata": {},
   "source": [
    "#### issue: coords seem to be jumbled but switching them using the above technique does not work "
   ]
  },
  {
   "cell_type": "code",
   "execution_count": null,
   "metadata": {},
   "outputs": [],
   "source": [
    "scr_data[:,3]"
   ]
  },
  {
   "cell_type": "markdown",
   "metadata": {},
   "source": [
    "#### Need to provide coords to napari as [txy]"
   ]
  },
  {
   "cell_type": "code",
   "execution_count": null,
   "metadata": {},
   "outputs": [],
   "source": [
    "apop_event = target_track.t[apop_index], target_track.x[apop_index]+shift_x, target_track.y[apop_index]+shift_y"
   ]
  },
  {
   "cell_type": "code",
   "execution_count": null,
   "metadata": {},
   "outputs": [],
   "source": [
    "cell_IDs = [1, 3, 4, 6, 10]\n",
    "apop_event = [None]* (max(cell_IDs)+1)\n",
    "for ID in cell_IDs:\n",
    "    index = [i for i, scr_apop in enumerate(scr_apops) if scr_apop.ID == ID][0]\n",
    "    target_track = scr_apops[index]##### Show the first classification of each track\n",
    "    apop_index, apop_time = find_apoptosis_index_time(target_track)\n",
    "\n",
    "    apop_event[ID] = target_track.t[apop_index], target_track.x[apop_index]+shift_x, target_track.y[apop_index]+shift_y\n",
    "   \n",
    "print(\"list_of_apop_time_coords\", [apop_event[i][0] for i in cell_IDs])"
   ]
  },
  {
   "cell_type": "code",
   "execution_count": 39,
   "metadata": {},
   "outputs": [],
   "source": [
    "with napari.gui_qt():\n",
    "    viewer = napari.Viewer()\n",
    "    #viewer.add_image(bf)\n",
    "    viewer.add_image(gfp_raw, name=\"gfp\", blending = \"additive\", colormap = \"green\")\n",
    "    viewer.add_image(rfp_raw, name=\"rfp\", blending = \"additive\", colormap = \"red\")\n",
    "    #viewer.add_points(data[:,1:])\n",
    "    viewer.add_tracks(wt_data)\n",
    "    viewer.add_tracks(scr_data)\n",
    "    #viewer.add_points((0,19, 20))\n",
    "#     viewer.add_points(apop_event[1])\n",
    "#     viewer.add_points(apop_event[3])\n",
    "#     viewer.add_points(apop_event[4])\n",
    "#     viewer.add_points(apop_event[6])\n",
    "#     viewer.add_points(apop_event[10])"
   ]
  }
 ],
 "metadata": {
  "kernelspec": {
   "display_name": "Python [conda env:napari]",
   "language": "python",
   "name": "conda-env-napari-py"
  },
  "language_info": {
   "codemirror_mode": {
    "name": "ipython",
    "version": 3
   },
   "file_extension": ".py",
   "mimetype": "text/x-python",
   "name": "python",
   "nbconvert_exporter": "python",
   "pygments_lexer": "ipython3",
   "version": "3.7.5"
  }
 },
 "nbformat": 4,
 "nbformat_minor": 4
}
