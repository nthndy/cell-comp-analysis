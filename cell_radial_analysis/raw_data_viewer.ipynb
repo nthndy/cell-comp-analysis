{
 "cells": [
  {
   "cell_type": "markdown",
   "metadata": {},
   "source": [
    "# Napari raw image data and tracks viewer\n",
    "Works as of Dec 2020 with Napari version no. 0.4.0 **with btrack plug-in installed**\n",
    "\n",
    "Author: `nathan.day.16@ucl.ac.uk`"
   ]
  },
  {
   "cell_type": "markdown",
   "metadata": {},
   "source": [
    "### Load necessary modules and functions"
   ]
  },
  {
   "cell_type": "code",
   "execution_count": 2,
   "metadata": {},
   "outputs": [
    {
     "name": "stdout",
     "output_type": "stream",
     "text": [
      "Napari version no.: 0.4.0\n"
     ]
    }
   ],
   "source": [
    "import napari\n",
    "import btrack\n",
    "import numpy as np\n",
    "from skimage.io import imread\n",
    "from btrack.utils import tracks_to_napari\n",
    "print(\"Napari version no.:\", napari.__version__)\n",
    "\n",
    "def find_apoptosis_time(target_track, index): ### if index is set to True then the index of the apoptotic time (wrt target_track) is returned\n",
    "    for i, j in enumerate(target_track.label):\n",
    "        if j == 'APOPTOSIS' and target_track.label[i+1] == 'APOPTOSIS' and target_track.label[i+2] == 'APOPTOSIS': # and target_track.label[i+3] =='APOPTOSIS' and target_track.label[i+4] =='APOPTOSIS':\n",
    "            apop_index = i\n",
    "            break\n",
    "    apop_time = target_track.t[apop_index]\n",
    "    if index == True: \n",
    "        return apop_index\n",
    "    else: \n",
    "        return apop_time"
   ]
  },
  {
   "cell_type": "markdown",
   "metadata": {},
   "source": [
    "### Load image data"
   ]
  },
  {
   "cell_type": "code",
   "execution_count": 2,
   "metadata": {},
   "outputs": [],
   "source": [
    "gfp = imread('/home/nathan/data/kraken/h2b/giulia/GV0807/Pos3/stacks/gfp.tif')"
   ]
  },
  {
   "cell_type": "code",
   "execution_count": 3,
   "metadata": {},
   "outputs": [],
   "source": [
    "rfp = imread('/home/nathan/data/kraken/h2b/giulia/GV0807/Pos3/stacks/rfp.tif')"
   ]
  },
  {
   "cell_type": "code",
   "execution_count": 4,
   "metadata": {},
   "outputs": [],
   "source": [
    "#bf = imread('/home/nathan/data/kraken/h2b/giulia/GV0807/Pos3/stacks/bf.tif')"
   ]
  },
  {
   "cell_type": "markdown",
   "metadata": {},
   "source": [
    "### Load tracking data"
   ]
  },
  {
   "cell_type": "code",
   "execution_count": 3,
   "metadata": {
    "scrolled": true
   },
   "outputs": [
    {
     "name": "stderr",
     "output_type": "stream",
     "text": [
      "[INFO][2020/12/03 05:37:53 PM] Opening HDF file: /home/nathan/data/kraken/h2b/giulia/GV0807/Pos3/Pos3_aligned/HDF/segmented.hdf5...\n",
      "[INFO][2020/12/03 05:37:53 PM] Loading tracks/obj_type_1\n",
      "[INFO][2020/12/03 05:37:55 PM] Loading objects/obj_type_1 (408973, 5) (388394 filtered: area>=100)\n",
      "[INFO][2020/12/03 05:37:58 PM] Closing HDF file: /home/nathan/data/kraken/h2b/giulia/GV0807/Pos3/Pos3_aligned/HDF/segmented.hdf5\n",
      "[INFO][2020/12/03 05:37:58 PM] Opening HDF file: /home/nathan/data/kraken/h2b/giulia/GV0807/Pos3/Pos3_aligned/HDF/segmented.hdf5...\n",
      "[INFO][2020/12/03 05:37:58 PM] Loading tracks/obj_type_2\n",
      "[INFO][2020/12/03 05:37:58 PM] Loading objects/obj_type_2 (12115, 5) (8894 filtered: area>=100)\n",
      "[INFO][2020/12/03 05:37:59 PM] Closing HDF file: /home/nathan/data/kraken/h2b/giulia/GV0807/Pos3/Pos3_aligned/HDF/segmented.hdf5\n"
     ]
    },
    {
     "name": "stdout",
     "output_type": "stream",
     "text": [
      "Tracks loaded\n"
     ]
    }
   ],
   "source": [
    "with btrack.dataio.HDF5FileHandler(\"/home/nathan/data/kraken/h2b/giulia/GV0807/Pos3/Pos3_aligned/HDF/segmented.hdf5\", 'r', obj_type = \"obj_type_1\") as hdf:\n",
    "    wt_tracks = hdf.tracks\n",
    "with btrack.dataio.HDF5FileHandler(\"/home/nathan/data/kraken/h2b/giulia/GV0807/Pos3/Pos3_aligned/HDF/segmented.hdf5\", 'r', obj_type = \"obj_type_2\") as hdf:\n",
    "    scr_tracks = hdf.tracks\n",
    "print(\"Tracks loaded\")"
   ]
  },
  {
   "cell_type": "markdown",
   "metadata": {},
   "source": [
    "### Isolate one track of interest"
   ]
  },
  {
   "cell_type": "code",
   "execution_count": 7,
   "metadata": {},
   "outputs": [
    {
     "name": "stdout",
     "output_type": "stream",
     "text": [
      "input scribble track of interest ID\n",
      "17\n"
     ]
    }
   ],
   "source": [
    "## isolate one target scribble track of interest\n",
    "print(\"input scribble track of interest ID\")\n",
    "cell_ID = int(input())\n",
    "index = [i for i, scr_tracks in enumerate(scr_tracks) if scr_tracks.ID == cell_ID][0]\n",
    "target_track = scr_tracks[index]##### Show the first classification of each track\n",
    "apop_index = find_apoptosis_time(target_track, index = True)"
   ]
  },
  {
   "cell_type": "markdown",
   "metadata": {},
   "source": [
    "### Filter tracks for specific events "
   ]
  },
  {
   "cell_type": "code",
   "execution_count": 5,
   "metadata": {},
   "outputs": [],
   "source": [
    "divisions = [t for t in wt_tracks if t.fate.name == \"DIVIDE\" ]#and t.in_frame(730)]"
   ]
  },
  {
   "cell_type": "code",
   "execution_count": 6,
   "metadata": {},
   "outputs": [],
   "source": [
    "scr_apops = [t for t in scr_tracks if t.fate.name == \"APOPTOSIS\"]"
   ]
  },
  {
   "cell_type": "code",
   "execution_count": null,
   "metadata": {},
   "outputs": [],
   "source": [
    "# wt_tracks = divisions\n",
    "# scr_tracks = scr_apops"
   ]
  },
  {
   "cell_type": "markdown",
   "metadata": {},
   "source": [
    "### Necessary coordinate shift (due to stablised images used on tracks)"
   ]
  },
  {
   "cell_type": "code",
   "execution_count": 7,
   "metadata": {},
   "outputs": [
    {
     "name": "stdout",
     "output_type": "stream",
     "text": [
      "tracks range: 1600 1200\n",
      "aligned image range: 1739 1377\n",
      "shift in x and y: 69 88\n"
     ]
    }
   ],
   "source": [
    "### finding coord range of aligned images, coords switched already\n",
    "align_x_range, align_y_range = gfp.shape[2], gfp.shape[1]\n",
    "### finding maximum extent of tracking coords\n",
    "tracks_x_range = round(max([max(track.x) for track in wt_tracks]))\n",
    "tracks_y_range = round(max([max(track.y) for track in wt_tracks])) + 2 ## sort this lazy hack out later\n",
    "\n",
    "### coord switch\n",
    "tmp = tracks_y_range\n",
    "tracks_y_range = tracks_x_range\n",
    "tracks_x_range = tmp\n",
    "\n",
    "print(\"tracks range:\", (tracks_x_range), (tracks_y_range))\n",
    "print(\"aligned image range:\", (align_x_range), (align_y_range))\n",
    "\n",
    "shift_x = int((align_x_range - tracks_x_range)/2)\n",
    "shift_y = int((align_y_range - tracks_y_range)/2)\n",
    "\n",
    "print(\"shift in x and y:\", shift_x, shift_y)"
   ]
  },
  {
   "cell_type": "markdown",
   "metadata": {},
   "source": [
    "### Apply coordinate transpose and shift"
   ]
  },
  {
   "cell_type": "code",
   "execution_count": 8,
   "metadata": {},
   "outputs": [],
   "source": [
    "wt_data, properties, graph = tracks_to_napari(wt_tracks, ndim = 2)\n",
    "scr_data, properties, graph = tracks_to_napari(scr_tracks, ndim = 2)\n",
    "\n",
    "tmp = wt_data[:,2].copy() ## copy the true_y coord\n",
    "wt_data[:,2] = wt_data[:,3]  ##assign the old_y coord as the true_x\n",
    "wt_data[:,3] = tmp ## assign the old_x as true_y\n",
    "\n",
    "wt_data[:,2] += shift_y ## TRUE_Y (vertical axis)\n",
    "wt_data[:,3] += shift_x ## TRUE_X (horizontal axis)\n",
    "\n",
    "tmp = scr_data[:,2].copy()\n",
    "scr_data[:,2] = scr_data[:,3]\n",
    "scr_data[:,3] = tmp\n",
    "\n",
    "scr_data[:,2] += shift_y ## TRUE_Y (vertical axis)\n",
    "scr_data[:,3] += shift_x ## TRUE_X (horizontal axis)\n"
   ]
  },
  {
   "cell_type": "markdown",
   "metadata": {},
   "source": [
    "### Define reference points if needed"
   ]
  },
  {
   "cell_type": "code",
   "execution_count": 9,
   "metadata": {},
   "outputs": [
    {
     "name": "stdout",
     "output_type": "stream",
     "text": [
      "txy of apoptotic event: (730, 638.5511474609375, 1158.223876953125)\n"
     ]
    }
   ],
   "source": [
    "### add_points needs to be txy\n",
    "apop_event = target_track.t[apop_index], target_track.x[apop_index]+shift_y, target_track.y[apop_index]+shift_x ## with transposed shift\n",
    "print(\"txy of apoptotic event:\", apop_event)"
   ]
  },
  {
   "cell_type": "markdown",
   "metadata": {},
   "source": [
    "### Start napari"
   ]
  },
  {
   "cell_type": "code",
   "execution_count": 10,
   "metadata": {},
   "outputs": [],
   "source": [
    "with napari.gui_qt():\n",
    "    viewer = napari.Viewer()\n",
    "    \n",
    "    #viewer.add_image(bf)\n",
    "    viewer.add_image(gfp, name=\"gfp\", blending = \"additive\", colormap = \"green\")\n",
    "    viewer.add_image(rfp, name=\"rfp\", blending = \"additive\", colormap = \"red\")\n",
    "    \n",
    "    viewer.add_tracks(wt_data)\n",
    "    viewer.add_tracks(scr_data)\n",
    "    #viewer.add_points(apop_event)\n",
    "    "
   ]
  }
 ],
 "metadata": {
  "kernelspec": {
   "display_name": "Python 3",
   "language": "python",
   "name": "python3"
  },
  "language_info": {
   "codemirror_mode": {
    "name": "ipython",
    "version": 3
   },
   "file_extension": ".py",
   "mimetype": "text/x-python",
   "name": "python",
   "nbconvert_exporter": "python",
   "pygments_lexer": "ipython3",
   "version": "3.7.6"
  }
 },
 "nbformat": 4,
 "nbformat_minor": 4
}
