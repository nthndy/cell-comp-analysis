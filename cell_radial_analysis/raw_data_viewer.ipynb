{
 "cells": [
  {
   "cell_type": "markdown",
   "metadata": {},
   "source": [
    "# Event finder & raw data checker\n",
    "\n",
    "This notebook will find competitive cellular \"events\" in the simplest definition (i.e. a loser cell apoptosis) and return information about the spatiotemporal distrubition of counterpart competitive events (i.e. winner cell mitosis)"
   ]
  },
  {
   "cell_type": "markdown",
   "metadata": {},
   "source": [
    "Contents:\n",
    "\n",
    "- Load modules\n",
    "- Load cell finding functions\n",
    "- Set experiment data path\n",
    "- Load image data\n",
    "- Load tracking data\n",
    "- Apply necessary coordinate shift for viewer\n",
    "- Isolate one track of interest (target track)\n",
    "- Find corresponding tracks/events of interest within a given spatiotemporal range (E.g. if target track is Scr apoptosis, then find all nearby wild-type mitosis)\n",
    "- Set points and regions of interest for highlighting in Napari viewer(now set as functions so this bit is automatic\n",
    "- Launch Napari image viewer if desired\n",
    "\n",
    "To-do:\n",
    "\n",
    "- [x] Reorganise structure so that scan over all R then filter\n",
    "- [x] Create radial bins and sort tracks into them\n",
    "- [ ] Create temporal bins\n",
    "- [ ] Figure out how to plot said bins into heat map image\n",
    "- [ ] Check redesigned script against raw data "
   ]
  },
  {
   "cell_type": "code",
   "execution_count": 30,
   "metadata": {},
   "outputs": [
    {
     "name": "stdout",
     "output_type": "stream",
     "text": [
      "Napari version no.: 0.4.0\n",
      "btrack version no.: 0.4.0\n"
     ]
    }
   ],
   "source": [
    "import napari\n",
    "import btrack\n",
    "import numpy as np\n",
    "from skimage.io import imread\n",
    "import os\n",
    "print(\"Napari version no.:\", napari.__version__)\n",
    "print(\"btrack version no.:\", btrack.__version__)\n",
    "from btrack.utils import import_HDF, import_JSON, tracks_to_napari\n",
    "from tqdm.notebook import tnrange, tqdm\n",
    "import matplotlib.pyplot as plt"
   ]
  },
  {
   "cell_type": "markdown",
   "metadata": {},
   "source": [
    "### Functions to measure local neighbourhood for cells of interest"
   ]
  },
  {
   "cell_type": "code",
   "execution_count": 31,
   "metadata": {},
   "outputs": [],
   "source": [
    "def euclidean_distance(target_track, other_track, frame):\n",
    "    try:\n",
    "        idx0 = target_track.t.index(find_apoptosis_time(target_track, index = False)) ## could also do just ## apop_index\n",
    "        idx1 = other_track.t.index(frame)\n",
    "    except:\n",
    "        return np.inf\n",
    "    \n",
    "    dx = target_track.x[idx0] - other_track.x[idx1]\n",
    "    dy = target_track.y[idx0] - other_track.y[idx1]\n",
    "    \n",
    "    return np.sqrt(dx**2 + dy**2)\n",
    "\n",
    "def find_apoptosis_time(target_track, index): ### if index is set to True then the index of the apoptotic time (wrt target_track) is returned\n",
    "    for i, j in enumerate(target_track.label):\n",
    "        if j == 'APOPTOSIS' and target_track.label[i+1] == 'APOPTOSIS' and target_track.label[i+2] == 'APOPTOSIS': # and target_track.label[i+3] =='APOPTOSIS' and target_track.label[i+4] =='APOPTOSIS':\n",
    "            apop_index = i\n",
    "            break\n",
    "    apop_time = target_track.t[apop_index]\n",
    "    if index == True: \n",
    "        return apop_index\n",
    "    else: \n",
    "        return apop_time\n",
    "\n",
    "def find_nearby_wt_mitosis(target_track, delta_t, radius):\n",
    "    frame = find_apoptosis_time(target_track, index = False) + delta_t \n",
    "    dividing_states = ('METAPHASE',) #('PROMETAPHASE', 'METAPHASE', 'DIVIDE')\n",
    "    wt_tracks_in_radius = [wt_track for wt_track in wt_tracks if wt_track.in_frame(frame) if euclidean_distance(target_track, wt_track, frame)<radius]\n",
    "    wt_mitosis_in_radius = [wt_track for wt_track in wt_tracks if wt_track.in_frame(frame) if euclidean_distance(target_track, wt_track, frame)<radius if wt_track.label[wt_track.t.index(frame)] in dividing_states if wt_track.fate.name == \"DIVIDE\"] ###check this\n",
    "  \n",
    "    return wt_tracks_in_radius, wt_mitosis_in_radius\n",
    "\n",
    "\n",
    "def maximum_xyt(i):\n",
    "    #### BEWARE xy coord switch!     \n",
    "    if i == 'x':\n",
    "        max_x = int((max([max(i.y) for i in wt_tracks])))\n",
    "        return max_x\n",
    "    if i == 'y':\n",
    "        max_y = int((max([max(i.x) for i in wt_tracks])))\n",
    "        return max_y\n",
    "    if i == 't':\n",
    "        max_t = int((max([max(i.t) for i in wt_tracks])))\n",
    "        return max_t\n",
    "    \n",
    "def plot_mitoses(): ## this function plots mitosis events into the napari viewer\n",
    "    apop_event = target_track.t[apop_index], target_track.x[apop_index]+shift_y, target_track.y[apop_index]+shift_x ## with transposed shift\n",
    "    t_m, x_m, y_m = np.zeros(len(wt_mitosis_in_radius)), np.zeros(len(wt_mitosis_in_radius)), np.zeros(len(wt_mitosis_in_radius))\n",
    "    mito_events = np.zeros((len(wt_mitosis_in_radius), 3)) ## 3 because of the 3 cartesian coords \n",
    "    for i, wt_mitosis in enumerate(wt_mitosis_in_radius): ## this now assumes that the mitosis time point of relevance isnt the last frame of track but the time at delta_t, need to bolster definition of mitosis\n",
    "        mito_index = [j for j, k in enumerate(wt_mitosis.t) if k == apop_event[0]+delta_t][0] ### [0] bc first item of list comprehension\n",
    "        t_m[i], x_m[i], y_m[i] = wt_mitosis.t[mito_index], wt_mitosis.x[mito_index]+shift_y, wt_mitosis.y[mito_index]+shift_x ## plus transposed coordinate shift\n",
    "        mito_events[i] = t_m[i], x_m[i], y_m[i]\n",
    "    return viewer.add_points(mito_events, name = \"Mitosis events\", symbol = \"cross\", face_color = 'pink')\n",
    "\n",
    "def plot_apoptosis(): ## this function plots apoptotic event and surrounding local environment scope (determined by radius)\n",
    "    ### add_points needs to be txy\n",
    "    apop_event = target_track.t[apop_index], target_track.x[apop_index]+shift_y, target_track.y[apop_index]+shift_x ## with transposed shift\n",
    "    ## apop_circle is the bounding box of the ellipse highlighting radial extent around apoptosis, shown at the shifted time and apop time\n",
    "    apop_circle = [((apop_event[0]+delta_t, apop_event[1]-radius, apop_event[2]-radius), \n",
    "                    (apop_event[0]+delta_t, apop_event[1]+radius, apop_event[2]-radius), \n",
    "                    (apop_event[0]+delta_t, apop_event[1]+radius, apop_event[2]+radius), \n",
    "                    (apop_event[0]+delta_t, apop_event[1]-radius, apop_event[2]+radius)), \n",
    "                    ((apop_event[0], apop_event[1]-radius, apop_event[2]-radius), \n",
    "                    (apop_event[0], apop_event[1]+radius, apop_event[2]-radius), \n",
    "                    (apop_event[0], apop_event[1]+radius, apop_event[2]+radius), \n",
    "                    (apop_event[0], apop_event[1]-radius, apop_event[2]+radius))]\n",
    "    \n",
    "    return viewer.add_points(apop_event, name = \"Apoptosis event\", symbol = 'x', face_color = \"c\"), viewer.add_shapes(apop_circle, opacity = 0.1, shape_type = 'ellipse', face_color = 'y', name = 'Radial environment')\n",
    "    \n"
   ]
  },
  {
   "cell_type": "markdown",
   "metadata": {},
   "source": [
    "### Set experiment data path "
   ]
  },
  {
   "cell_type": "code",
   "execution_count": 32,
   "metadata": {
    "scrolled": false
   },
   "outputs": [],
   "source": [
    "# print(\"Input experiment number\")\n",
    "# experiment_no = input()\n",
    "# root_path = os.path.join('/home/nathan/data/kraken/h2b/giulia/', experiment_no)\n",
    "root_path = '/home/nathan/data/kraken/h2b/giulia/GV0807'  ## this overwrites input option for ease \n",
    "gfp_path = os.path.join(root_path, 'Pos3/stacks/gfp.tif')\n",
    "rfp_path = os.path.join(root_path, 'Pos3/stacks/rfp.tif')\n",
    "bf_path = os.path.join(root_path, 'Pos3/stacks/bf.tif')\n",
    "tracks_path = os.path.join(root_path, 'Pos3/Pos3_aligned/HDF/segmented.hdf5')"
   ]
  },
  {
   "cell_type": "markdown",
   "metadata": {},
   "source": [
    "### Load image data"
   ]
  },
  {
   "cell_type": "code",
   "execution_count": 33,
   "metadata": {},
   "outputs": [],
   "source": [
    "gfp = imread(gfp_path)"
   ]
  },
  {
   "cell_type": "code",
   "execution_count": 34,
   "metadata": {},
   "outputs": [],
   "source": [
    "rfp = imread(rfp_path)"
   ]
  },
  {
   "cell_type": "code",
   "execution_count": null,
   "metadata": {},
   "outputs": [],
   "source": [
    "#bf = imread(bf_path) #3 large 1000+ frame stacks is usually too much for memory to process on 16gb ram"
   ]
  },
  {
   "cell_type": "markdown",
   "metadata": {},
   "source": [
    "### Load tracking data"
   ]
  },
  {
   "cell_type": "code",
   "execution_count": 35,
   "metadata": {},
   "outputs": [
    {
     "name": "stderr",
     "output_type": "stream",
     "text": [
      "[INFO][2020/12/11 04:47:36 PM] Opening HDF file: /home/nathan/data/kraken/h2b/giulia/GV0807/Pos3/Pos3_aligned/HDF/segmented.hdf5...\n",
      "[INFO][2020/12/11 04:47:36 PM] Loading tracks/obj_type_1\n",
      "[INFO][2020/12/11 04:47:38 PM] Loading objects/obj_type_1 (408973, 5) (388394 filtered: area>=100)\n",
      "[INFO][2020/12/11 04:47:42 PM] Closing HDF file: /home/nathan/data/kraken/h2b/giulia/GV0807/Pos3/Pos3_aligned/HDF/segmented.hdf5\n",
      "[INFO][2020/12/11 04:47:42 PM] Opening HDF file: /home/nathan/data/kraken/h2b/giulia/GV0807/Pos3/Pos3_aligned/HDF/segmented.hdf5...\n",
      "[INFO][2020/12/11 04:47:42 PM] Loading tracks/obj_type_2\n",
      "[INFO][2020/12/11 04:47:42 PM] Loading objects/obj_type_2 (12115, 5) (8894 filtered: area>=100)\n",
      "[INFO][2020/12/11 04:47:42 PM] Closing HDF file: /home/nathan/data/kraken/h2b/giulia/GV0807/Pos3/Pos3_aligned/HDF/segmented.hdf5\n"
     ]
    },
    {
     "name": "stdout",
     "output_type": "stream",
     "text": [
      "Tracks loaded\n",
      "tracks range: 1600 1200\n",
      "aligned image range: 1739 1377\n",
      "shift in x and y: 69 88\n",
      "coordinate shift applied\n"
     ]
    }
   ],
   "source": [
    "with btrack.dataio.HDF5FileHandler(tracks_path, 'r', obj_type = \"obj_type_1\") as hdf:\n",
    "    wt_tracks = hdf.tracks\n",
    "with btrack.dataio.HDF5FileHandler(tracks_path, 'r', obj_type = \"obj_type_2\") as hdf:\n",
    "    scr_tracks = hdf.tracks\n",
    "print(\"Tracks loaded\")\n",
    "\n",
    "### finding coord range of aligned images, coords switched already\n",
    "align_x_range, align_y_range = gfp.shape[2], gfp.shape[1]\n",
    "### finding maximum extent of tracking coords\n",
    "tracks_x_range = round(max([max(track.x) for track in wt_tracks]))\n",
    "tracks_y_range = round(max([max(track.y) for track in wt_tracks])) + 2 ## sort this lazy hack out later\n",
    "\n",
    "### coord switch\n",
    "tmp = tracks_y_range\n",
    "tracks_y_range = tracks_x_range\n",
    "tracks_x_range = tmp\n",
    "\n",
    "print(\"tracks range:\", (tracks_x_range), (tracks_y_range))\n",
    "print(\"aligned image range:\", (align_x_range), (align_y_range))\n",
    "\n",
    "shift_x = int((align_x_range - tracks_x_range)/2)\n",
    "shift_y = int((align_y_range - tracks_y_range)/2)\n",
    "\n",
    "print(\"shift in x and y:\", shift_x, shift_y)\n",
    "\n",
    "wt_data, properties, graph = tracks_to_napari(wt_tracks, ndim = 2)\n",
    "scr_data, properties, graph = tracks_to_napari(scr_tracks, ndim = 2)\n",
    "\n",
    "tmp = wt_data[:,2].copy() ## copy the true_y coord\n",
    "wt_data[:,2] = wt_data[:,3]  ##assign the old_y coord as the true_x\n",
    "wt_data[:,3] = tmp ## assign the old_x as true_y\n",
    "\n",
    "wt_data[:,2] += shift_y ## TRUE_Y (vertical axis)\n",
    "wt_data[:,3] += shift_x ## TRUE_X (horizontal axis)\n",
    "\n",
    "tmp = scr_data[:,2].copy()\n",
    "scr_data[:,2] = scr_data[:,3]\n",
    "scr_data[:,3] = tmp\n",
    "\n",
    "scr_data[:,2] += shift_y ## TRUE_Y (vertical axis)\n",
    "scr_data[:,3] += shift_x ## TRUE_X (horizontal axis)\n",
    "\n",
    "print(\"coordinate shift applied\")"
   ]
  },
  {
   "cell_type": "markdown",
   "metadata": {},
   "source": [
    "### Isolate one track of interest"
   ]
  },
  {
   "cell_type": "code",
   "execution_count": 6,
   "metadata": {},
   "outputs": [
    {
     "name": "stdout",
     "output_type": "stream",
     "text": [
      "input scribble track of interest ID\n",
      "17\n"
     ]
    }
   ],
   "source": [
    "## isolate one target scribble track of interest\n",
    "print(\"input scribble track of interest ID\")\n",
    "cell_ID = int(input())\n",
    "index = [i for i, scr_tracks in enumerate(scr_tracks) if scr_tracks.ID == cell_ID][0]\n",
    "target_track = scr_tracks[index]##### Show the first classification of each track\n",
    "apop_index, apop_time = find_apoptosis_time(target_track, index = True), find_apoptosis_time(target_track, index = False)  "
   ]
  },
  {
   "cell_type": "markdown",
   "metadata": {},
   "source": [
    "# Find cells of interest"
   ]
  },
  {
   "cell_type": "code",
   "execution_count": null,
   "metadata": {},
   "outputs": [],
   "source": [
    "radius = 500\n",
    "delta_t = -50\n",
    "wt_tracks_in_radius, wt_mitosis_in_radius = find_nearby_wt_mitosis(target_track, delta_t, radius)"
   ]
  },
  {
   "cell_type": "markdown",
   "metadata": {},
   "source": [
    "display ID for all tracks found in radius "
   ]
  },
  {
   "cell_type": "code",
   "execution_count": null,
   "metadata": {},
   "outputs": [],
   "source": [
    "print(\"ID for all tracks in radius:\", [j.ID for i, j in enumerate(wt_tracks_in_radius)])\n",
    "print(\"ID for all mitoses in radius:\", [j.ID for i, j in enumerate(wt_mitosis_in_radius)])"
   ]
  },
  {
   "cell_type": "markdown",
   "metadata": {},
   "source": [
    "to-do: \n",
    "- [x] take output of wt_tracks_in_radius and bin into discrete distance cats\n",
    "- [ ] bin time periods and figure way to iterate over discrete time cats\n",
    "- [ ] try new architecture based on filtering over R and T\n",
    "- [ ] plot bins into heatmap"
   ]
  },
  {
   "cell_type": "markdown",
   "metadata": {},
   "source": [
    "# sandbox"
   ]
  },
  {
   "cell_type": "code",
   "execution_count": 12,
   "metadata": {},
   "outputs": [],
   "source": [
    "radius = 500"
   ]
  },
  {
   "cell_type": "code",
   "execution_count": 14,
   "metadata": {},
   "outputs": [],
   "source": [
    "num_bins = 10\n",
    "r_bin_size = radius / num_bins\n",
    "i = 1"
   ]
  },
  {
   "cell_type": "code",
   "execution_count": 29,
   "metadata": {},
   "outputs": [
    {
     "data": {
      "text/plain": [
       "50.0"
      ]
     },
     "execution_count": 29,
     "metadata": {},
     "output_type": "execute_result"
    }
   ],
   "source": [
    "r_bin_size * (i)"
   ]
  },
  {
   "cell_type": "code",
   "execution_count": 22,
   "metadata": {},
   "outputs": [],
   "source": [
    "cells = [wt_track for wt_track in wt_tracks if (r_bin_size * (i - 1)) < euclidean_distance(target_track, wt_track, apop_time) < (r_bin_size * i)]"
   ]
  },
  {
   "cell_type": "code",
   "execution_count": 28,
   "metadata": {},
   "outputs": [
    {
     "name": "stdout",
     "output_type": "stream",
     "text": [
      "OrderedDict([('ID', 721), ('t', [631, 632, 633, 634, 635, 636, 637, 638, 639, 640, 641, 642, 643, 644, 645, 646, 647, 648, 649, 650, 651, 652, 653, 654, 655, 656, 657, 658, 659, 660, 661, 662, 663, 664, 665, 666, 667, 668, 669, 670, 671, 672, 673, 674, 675, 676, 677, 678, 679, 680, 681, 682, 683, 684, 685, 686, 687, 688, 689, 690, 691, 692, 693, 694, 695, 696, 697, 698, 699, 700, 701, 702, 703, 704, 705, 706, 707, 708, 709, 710, 711, 712, 713, 714, 715, 716, 717, 718, 719, 720, 721, 722, 723, 724, 725, 726, 727, 728, 729, 730, 731, 732, 733, 734, 735, 736, 737, 738, 739, 740, 741, 742, 743, 744, 745, 746, 747, 748, 749, 750, 751, 752, 753, 754, 755, 756, 757, 758, 759, 760, 761, 762, 763, 764, 765, 766, 767, 768, 769, 770, 771, 772, 773, 774, 775, 776, 777, 778, 779, 780, 781, 782, 783, 784, 785, 786, 787, 788, 789, 790, 791, 792, 793, 794, 795, 796, 797, 798, 799, 800, 801, 802, 803, 804, 805, 806, 807, 808, 809, 810, 811, 812, 813, 814, 815, 816, 817, 818, 819, 820, 821, 822, 823, 824, 825, 826, 827, 828, 829, 830, 831, 832, 833, 834, 835, 836, 837, 838, 839, 840, 841, 842, 843, 844, 845, 846, 847, 848, 849, 850, 851, 852, 853, 854, 855, 856, 857, 858, 859, 860, 861, 862, 863, 864, 865, 866, 867, 868, 869, 870, 871, 872, 873, 874, 875, 876, 877, 878, 879, 880, 881, 882, 883, 884, 885, 886, 887, 888, 889, 890, 891, 892, 893, 894, 895, 896, 897, 898, 899, 900, 901, 902, 903, 904, 905, 906, 907, 908, 909, 910, 911, 912, 913, 914, 915, 916, 917, 918, 919, 920, 921, 922, 923, 924, 925, 926, 927, 928, 929, 930, 931, 932, 933, 934, 935]), ('x', [536.296142578125, 531.6722412109375, 529.4126586914062, 532.923095703125, 535.025146484375, 535.4754028320312, 535.7980346679688, 535.637939453125, 535.68603515625, 536.579345703125, 537.2904663085938, 537.0394897460938, 536.5768432617188, 538.2630004882812, 539.04296875, 538.6141967773438, 540.622802734375, 541.4036865234375, 542.7420043945312, 543.8486938476562, 544.7025146484375, 545.9110107421875, 546.013916015625, 545.9228515625, 545.5868530273438, 545.6697387695312, 546.07861328125, 546.500732421875, 547.9488525390625, 548.5618286132812, 549.611083984375, 550.0140380859375, 551.2445068359375, 551.3085327148438, 551.6129150390625, 551.7470092773438, 552.1854248046875, 551.9801635742188, 552.3721923828125, 552.5064086914062, 552.0267333984375, 551.349609375, 548.0147705078125, 547.4598999023438, 545.7235107421875, 544.7858276367188, 547.7752075195312, 547.617919921875, 548.3943481445312, 550.3666381835938, 551.3478393554688, 552.4953002929688, 553.0015869140625, 554.6300048828125, 554.9983520507812, 556.0382080078125, 555.8096923828125, 555.7246704101562, 555.13525390625, 555.5032348632812, 555.7777709960938, 557.4338989257812, 558.9151000976562, 560.2780151367188, 561.7111206054688, 562.1835327148438, 562.13134765625, 560.0879516601562, 560.80029296875, 561.7630004882812, 563.3680419921875, 563.0757446289062, 564.99853515625, 564.6036987304688, 565.7111206054688, 565.1624755859375, 564.6475219726562, 564.5819091796875, 564.7173461914062, 565.3187255859375, 564.373291015625, 564.7562255859375, 563.9003295898438, 564.3047485351562, 564.1756591796875, 563.7800903320312, 563.5619506835938, 564.0834350585938, 564.1006469726562, 563.9392700195312, 563.6065063476562, 562.7769165039062, 562.3190307617188, 560.9714965820312, 557.6400756835938, 559.3248291015625, 564.511962890625, 565.5225830078125, 561.3223876953125, 560.7906494140625, 561.5164184570312, 561.1159057617188, 561.3555297851562, 560.909912109375, 561.8472290039062, 561.0084228515625, 559.6998901367188, 560.0416259765625, 560.3717651367188, 559.5226440429688, 559.244140625, 558.96533203125, 559.5208129882812, 559.743896484375, 558.6361083984375, 557.2176513671875, 557.9121704101562, 557.4165649414062, 557.3502807617188, 557.6685791015625, 557.8988037109375, 559.49462890625, 559.9302368164062, 560.2536010742188, 559.9413452148438, 560.1575317382812, 561.0944213867188, 561.5489501953125, 560.6597900390625, 561.3150024414062, 561.297119140625, 563.122802734375, 562.4905395507812, 563.3047485351562, 563.1156005859375, 562.974609375, 562.6522216796875, 562.0379028320312, 561.8463745117188, 561.7752075195312, 561.5638427734375, 562.2202758789062, 561.8840942382812, 561.0743408203125, 561.8140869140625, 561.4226684570312, 560.6629638671875, 560.744140625, 559.9814453125, 560.0691528320312, 559.7384033203125, 559.7493896484375, 559.4846801757812, 558.816162109375, 558.6181640625, 558.9344482421875, 558.7386474609375, 558.8958740234375, 558.85400390625, 558.6824951171875, 558.454345703125, 558.7338256835938, 558.7261962890625, 559.5902099609375, 559.5643920898438, 559.1026000976562, 559.364501953125, 558.5391845703125, 558.51025390625, 558.6908569335938, 558.8722534179688, 558.5281982421875, 558.7325439453125, 558.5496826171875, 557.628662109375, 558.4977416992188, 558.6746215820312, 558.12841796875, 557.8275146484375, 557.3237915039062, 555.6697387695312, 555.6525268554688, 555.066650390625, 553.9585571289062, 553.8378295898438, 553.483154296875, 553.07666015625, 553.3276977539062, 552.9281616210938, 552.4116821289062, 552.41552734375, 552.3839111328125, 552.048828125, 549.1112060546875, 549.8978271484375, 549.8504638671875, 551.1663208007812, 549.5675659179688, 548.896728515625, 548.69921875, 549.1341552734375, 548.2169189453125, 547.5914916992188, 547.2006225585938, 546.4282836914062, 545.6097412109375, 545.5977783203125, 545.6544799804688, 545.6455078125, 543.7781372070312, 543.88720703125, 543.6398315429688, 544.1841430664062, 544.0999755859375, 544.3187255859375, 545.9280395507812, 546.6787719726562, 545.9978637695312, 546.1373291015625, 544.8875732421875, 543.2807006835938, 543.4913330078125, 543.0984497070312, 542.39404296875, 541.2684936523438, 539.8720092773438, 538.9912719726562, 538.8255615234375, 539.1836547851562, 538.0827026367188, 535.8933715820312, 535.5643310546875, 535.296630859375, 535.4808959960938, 533.8638305664062, 532.2516479492188, 531.5775756835938, 532.9826049804688, 533.4558715820312, 533.1021118164062, 532.8042602539062, 533.3491821289062, 533.728271484375, 533.7933349609375, 533.8299560546875, 533.5182495117188, 534.7938842773438, 535.1419677734375, 534.7465209960938, 535.5005493164062, 535.821533203125, 535.8690795898438, 535.9715576171875, 536.5130004882812, 537.6616821289062, 538.1109619140625, 539.2161865234375, 539.5879516601562, 539.7341918945312, 539.5819091796875, 540.1546020507812, 538.9038696289062, 538.9136962890625, 539.3045043945312, 538.9956665039062, 539.7218627929688, 540.3370971679688, 540.5562133789062, 538.9229736328125, 538.6738891601562, 539.023681640625, 538.6560668945312, 538.886962890625, 539.6905517578125, 540.5700073242188, 541.8648681640625, 542.9342041015625, 544.3511962890625, 545.6856079101562, 545.5863037109375, 545.0648193359375, 546.2933959960938, 545.1403198242188, 546.1261596679688, 546.2718505859375, 546.1531982421875, 548.2703247070312, 548.3896484375, 546.5901489257812, 548.2001953125, 549.3511352539062, 549.1823120117188, 549.2907104492188, 549.575439453125, 551.3889770507812, 552.5521850585938, 555.5921020507812, 554.3095092773438, 554.0836791992188, 558.6763916015625, 557.230224609375, 555.7612915039062, 557.10693359375, 557.2923583984375, 557.4375]), ('y', [1159.6748046875, 1159.100830078125, 1158.8704833984375, 1159.023681640625, 1159.874267578125, 1159.2158203125, 1158.3819580078125, 1159.3951416015625, 1157.8663330078125, 1155.9613037109375, 1155.134521484375, 1155.280029296875, 1155.88427734375, 1155.4171142578125, 1153.10888671875, 1150.4661865234375, 1148.9334716796875, 1146.2353515625, 1143.830078125, 1142.1778564453125, 1141.5037841796875, 1140.161376953125, 1139.8621826171875, 1139.4266357421875, 1139.00146484375, 1137.7489013671875, 1137.675048828125, 1136.730712890625, 1135.2470703125, 1132.97314453125, 1131.627685546875, 1130.268798828125, 1128.47802734375, 1129.2247314453125, 1129.374755859375, 1129.5494384765625, 1129.8082275390625, 1130.3359375, 1130.0096435546875, 1130.6357421875, 1131.4591064453125, 1131.8289794921875, 1133.0755615234375, 1132.77001953125, 1131.6544189453125, 1132.2708740234375, 1131.623291015625, 1131.6229248046875, 1133.1846923828125, 1133.247802734375, 1133.4765625, 1134.2884521484375, 1135.0638427734375, 1135.8966064453125, 1137.0931396484375, 1135.6893310546875, 1135.1712646484375, 1135.7821044921875, 1135.8831787109375, 1135.0760498046875, 1134.5306396484375, 1133.9610595703125, 1132.601806640625, 1131.9237060546875, 1131.98095703125, 1132.07373046875, 1131.804443359375, 1130.8382568359375, 1130.9803466796875, 1131.3829345703125, 1131.16943359375, 1129.7025146484375, 1129.611328125, 1129.486083984375, 1131.1412353515625, 1131.921142578125, 1131.9364013671875, 1132.096435546875, 1131.7431640625, 1131.168701171875, 1130.7222900390625, 1131.116455078125, 1131.1214599609375, 1131.39794921875, 1130.992431640625, 1130.359130859375, 1130.7689208984375, 1131.4188232421875, 1132.6981201171875, 1133.08251953125, 1133.86572265625, 1133.8739013671875, 1134.161865234375, 1129.10400390625, 1126.6859130859375, 1126.6015625, 1129.422607421875, 1134.3729248046875, 1133.930908203125, 1134.943603515625, 1136.412841796875, 1136.0169677734375, 1136.672607421875, 1138.268798828125, 1138.8175048828125, 1139.7626953125, 1139.2564697265625, 1139.59912109375, 1140.5596923828125, 1140.5609130859375, 1139.8662109375, 1140.622802734375, 1141.4166259765625, 1141.3726806640625, 1142.723388671875, 1143.61572265625, 1144.861083984375, 1145.6595458984375, 1146.83056640625, 1148.0966796875, 1149.304931640625, 1149.705078125, 1149.3656005859375, 1148.993408203125, 1149.4515380859375, 1149.055908203125, 1148.61865234375, 1150.0279541015625, 1149.0966796875, 1148.5982666015625, 1148.5006103515625, 1148.4466552734375, 1149.3497314453125, 1149.0699462890625, 1148.5965576171875, 1148.2537841796875, 1147.591552734375, 1146.721923828125, 1147.3211669921875, 1146.662841796875, 1146.8277587890625, 1146.267333984375, 1146.174560546875, 1145.7484130859375, 1144.2286376953125, 1144.247314453125, 1144.753662109375, 1145.4366455078125, 1145.4005126953125, 1144.9854736328125, 1144.294921875, 1144.151123046875, 1143.93017578125, 1144.17138671875, 1144.021728515625, 1142.368896484375, 1142.2220458984375, 1141.613037109375, 1140.0462646484375, 1139.206787109375, 1139.2115478515625, 1137.2562255859375, 1137.069091796875, 1136.738037109375, 1136.9952392578125, 1136.9224853515625, 1136.327392578125, 1137.729248046875, 1137.1480712890625, 1136.6287841796875, 1136.0989990234375, 1135.673828125, 1136.62646484375, 1138.0196533203125, 1137.84130859375, 1137.7025146484375, 1140.1041259765625, 1142.55908203125, 1143.925537109375, 1145.855712890625, 1146.962158203125, 1147.2547607421875, 1147.99169921875, 1148.2093505859375, 1147.8975830078125, 1147.3775634765625, 1146.792236328125, 1146.7564697265625, 1146.960693359375, 1146.7659912109375, 1146.215576171875, 1146.619384765625, 1146.40283203125, 1145.9127197265625, 1145.5303955078125, 1145.192138671875, 1145.3004150390625, 1145.2080078125, 1144.7806396484375, 1144.33740234375, 1144.081787109375, 1143.7484130859375, 1142.979248046875, 1142.5750732421875, 1141.255859375, 1141.531005859375, 1140.8505859375, 1140.339111328125, 1140.7374267578125, 1140.373046875, 1140.2222900390625, 1139.3870849609375, 1138.2667236328125, 1138.3223876953125, 1139.47705078125, 1140.2437744140625, 1140.3692626953125, 1139.749755859375, 1140.361572265625, 1139.114501953125, 1138.59228515625, 1138.8980712890625, 1137.6968994140625, 1136.6610107421875, 1135.634765625, 1134.301513671875, 1133.296142578125, 1132.77587890625, 1133.356689453125, 1133.1087646484375, 1131.5765380859375, 1131.2552490234375, 1130.645263671875, 1130.3529052734375, 1128.5177001953125, 1126.655517578125, 1125.76611328125, 1126.302978515625, 1125.98876953125, 1124.6826171875, 1125.02783203125, 1124.88134765625, 1124.4732666015625, 1123.5933837890625, 1124.60400390625, 1123.920654296875, 1123.6041259765625, 1124.013671875, 1123.722900390625, 1125.7254638671875, 1126.407958984375, 1125.6859130859375, 1126.50048828125, 1126.5015869140625, 1128.021484375, 1127.42138671875, 1128.7135009765625, 1127.89306640625, 1126.898193359375, 1125.4644775390625, 1126.8880615234375, 1124.1180419921875, 1122.939697265625, 1123.0843505859375, 1122.958740234375, 1122.6868896484375, 1122.098388671875, 1122.13623046875, 1117.3143310546875, 1116.310546875, 1116.1849365234375, 1114.674072265625, 1114.5032958984375, 1113.5098876953125, 1113.3157958984375, 1113.7978515625, 1114.79931640625, 1115.301025390625, 1115.076416015625, 1116.16259765625, 1116.29345703125, 1115.4573974609375, 1116.7957763671875, 1117.2618408203125, 1118.5635986328125, 1118.6373291015625, 1118.0587158203125, 1119.26611328125, 1121.6383056640625, 1120.7393798828125, 1119.9888916015625, 1121.1348876953125, 1119.829833984375, 1123.7557373046875, 1122.9398193359375, 1122.9520263671875, 1120.47412109375, 1122.4886474609375, 1124.397216796875, 1126.5743408203125, 1124.58837890625, 1124.5743408203125, 1126.1505126953125, 1127.591064453125, 1125.5777587890625]), ('z', [0.0, 0.0, 0.0, 0.0, 0.0, 0.0, 0.0, 0.0, 0.0, 0.0, 0.0, 0.0, 0.0, 0.0, 0.0, 0.0, 0.0, 0.0, 0.0, 0.0, 0.0, 0.0, 0.0, 0.0, 0.0, 0.0, 0.0, 0.0, 0.0, 0.0, 0.0, 0.0, 0.0, 0.0, 0.0, 0.0, 0.0, 0.0, 0.0, 0.0, 0.0, 0.0, 0.0, 0.0, 0.0, 0.0, 0.0, 0.0, 0.0, 0.0, 0.0, 0.0, 0.0, 0.0, 0.0, 0.0, 0.0, 0.0, 0.0, 0.0, 0.0, 0.0, 0.0, 0.0, 0.0, 0.0, 0.0, 0.0, 0.0, 0.0, 0.0, 0.0, 0.0, 0.0, 0.0, 0.0, 0.0, 0.0, 0.0, 0.0, 0.0, 0.0, 0.0, 0.0, 0.0, 0.0, 0.0, 0.0, 0.0, 0.0, 0.0, 0.0, 0.0, 0.0, 0.0, 0.0, 0.0, 0.0, 0.0, 0.0, 0.0, 0.0, 0.0, 0.0, 0.0, 0.0, 0.0, 0.0, 0.0, 0.0, 0.0, 0.0, 0.0, 0.0, 0.0, 0.0, 0.0, 0.0, 0.0, 0.0, 0.0, 0.0, 0.0, 0.0, 0.0, 0.0, 0.0, 0.0, 0.0, 0.0, 0.0, 0.0, 0.0, 0.0, 0.0, 0.0, 0.0, 0.0, 0.0, 0.0, 0.0, 0.0, 0.0, 0.0, 0.0, 0.0, 0.0, 0.0, 0.0, 0.0, 0.0, 0.0, 0.0, 0.0, 0.0, 0.0, 0.0, 0.0, 0.0, 0.0, 0.0, 0.0, 0.0, 0.0, 0.0, 0.0, 0.0, 0.0, 0.0, 0.0, 0.0, 0.0, 0.0, 0.0, 0.0, 0.0, 0.0, 0.0, 0.0, 0.0, 0.0, 0.0, 0.0, 0.0, 0.0, 0.0, 0.0, 0.0, 0.0, 0.0, 0.0, 0.0, 0.0, 0.0, 0.0, 0.0, 0.0, 0.0, 0.0, 0.0, 0.0, 0.0, 0.0, 0.0, 0.0, 0.0, 0.0, 0.0, 0.0, 0.0, 0.0, 0.0, 0.0, 0.0, 0.0, 0.0, 0.0, 0.0, 0.0, 0.0, 0.0, 0.0, 0.0, 0.0, 0.0, 0.0, 0.0, 0.0, 0.0, 0.0, 0.0, 0.0, 0.0, 0.0, 0.0, 0.0, 0.0, 0.0, 0.0, 0.0, 0.0, 0.0, 0.0, 0.0, 0.0, 0.0, 0.0, 0.0, 0.0, 0.0, 0.0, 0.0, 0.0, 0.0, 0.0, 0.0, 0.0, 0.0, 0.0, 0.0, 0.0, 0.0, 0.0, 0.0, 0.0, 0.0, 0.0, 0.0, 0.0, 0.0, 0.0, 0.0, 0.0, 0.0, 0.0, 0.0, 0.0, 0.0, 0.0, 0.0, 0.0, 0.0, 0.0, 0.0, 0.0, 0.0, 0.0, 0.0, 0.0, 0.0, 0.0, 0.0, 0.0, 0.0, 0.0, 0.0, 0.0, 0.0, 0.0, 0.0, 0.0, 0.0, 0.0, 0.0, 0.0]), ('parent', 316), ('root', 39), ('state', [3, 3, 3, 3, 3, 3, 3, 0, 0, 0, 0, 0, 0, 0, 0, 0, 0, 0, 0, 0, 0, 0, 0, 0, 0, 0, 0, 0, 0, 0, 0, 0, 0, 0, 0, 0, 0, 0, 0, 0, 0, 0, 0, 0, 0, 0, 0, 0, 0, 0, 0, 0, 0, 0, 0, 0, 0, 0, 0, 0, 0, 0, 0, 0, 0, 0, 0, 0, 0, 0, 0, 0, 0, 0, 0, 0, 0, 0, 0, 0, 0, 0, 0, 0, 0, 0, 0, 0, 0, 0, 0, 0, 0, 0, 0, 0, 0, 1, 0, 0, 0, 0, 0, 0, 0, 0, 0, 0, 0, 0, 0, 0, 0, 0, 0, 0, 0, 0, 0, 0, 0, 0, 0, 0, 0, 0, 0, 0, 0, 0, 0, 0, 0, 0, 0, 0, 0, 0, 0, 0, 0, 0, 0, 0, 0, 0, 0, 0, 0, 0, 0, 0, 0, 0, 0, 0, 0, 0, 0, 0, 0, 0, 0, 0, 0, 0, 0, 0, 0, 0, 0, 0, 0, 0, 0, 0, 0, 0, 0, 0, 0, 0, 0, 0, 0, 0, 0, 0, 0, 0, 0, 0, 0, 0, 0, 0, 0, 0, 0, 0, 0, 0, 0, 0, 0, 0, 0, 0, 0, 0, 0, 0, 0, 0, 0, 0, 0, 0, 0, 0, 0, 0, 0, 0, 0, 0, 0, 0, 0, 0, 0, 0, 0, 0, 0, 0, 0, 0, 0, 0, 0, 0, 0, 0, 0, 0, 0, 0, 0, 0, 0, 0, 0, 0, 0, 0, 0, 0, 0, 0, 0, 0, 0, 0, 0, 0, 0, 0, 0, 0, 0, 0, 0, 0, 0, 0, 0, 0, 0, 0, 0, 0, 0, 0, 0, 0, 0, 0, 0, 0, 0, 0, 0, 0, 0, 0, 0, 0, 0, 0, 0, 1, 2, 2, 1]), ('generation', 4), ('dummy', [False, False, False, False, False, False, False, False, False, False, False, False, False, False, False, False, False, False, False, False, False, False, False, False, False, False, False, False, False, False, False, False, False, False, False, False, False, False, False, False, False, False, False, False, False, False, False, False, False, False, False, False, False, False, False, False, False, False, False, False, False, False, False, False, False, False, False, False, False, False, False, False, False, False, False, False, False, False, False, False, False, False, False, False, False, False, False, False, False, False, False, False, False, False, False, False, False, False, False, False, False, False, False, False, False, False, False, False, False, False, False, False, False, False, False, False, False, False, False, False, False, False, False, False, False, False, False, False, False, False, False, False, False, False, False, False, False, False, False, False, False, False, False, False, False, False, False, False, False, False, False, False, False, False, False, False, False, False, False, False, False, False, False, False, False, False, False, False, False, False, False, False, False, False, False, False, False, False, False, False, False, False, False, False, False, False, False, False, False, False, False, False, False, False, False, False, False, False, False, False, False, False, False, False, False, False, False, False, False, False, False, False, False, False, False, False, False, False, False, False, False, False, False, False, False, False, False, False, False, False, False, False, False, False, False, False, False, False, False, False, False, False, False, False, False, False, False, False, False, False, False, False, False, False, False, False, False, False, False, False, False, False, False, False, False, False, False, False, False, False, False, False, False, False, False, False, False, False, False, False, False, False, False, False, False, False, False, False, False, False, False, False, False, False, False, False, False, False, False, False, False, False, False, False, False])])\n"
     ]
    }
   ],
   "source": [
    "print(cells[0])"
   ]
  },
  {
   "cell_type": "markdown",
   "metadata": {},
   "source": [
    "distance binned but time not "
   ]
  },
  {
   "cell_type": "code",
   "execution_count": null,
   "metadata": {
    "scrolled": true
   },
   "outputs": [],
   "source": [
    "t_range = range(-200,200)\n",
    "wt_mito_ID_temporal_bins = {}\n",
    "\n",
    "## create bins automatically\n",
    "num_bins = 10\n",
    "bin_size = radius / num_bins\n",
    "## create dict for wt data storage\n",
    "wt_track_bins = {}\n",
    "wt_ID_bins = {} ## temp measure to create parallel dict just listing the IDs so that i can check algorithm works against raw data\n",
    "wt_mitosis_bins = {}\n",
    "wt_mito_ID_bins = {} ## temp measure to create parallel dict just listing the IDs so that i can check algorithm works against raw data\n",
    "\n",
    "wt_tracks_in_radius = []\n",
    "wt_mitosis_in_radius = []\n",
    "\n",
    "for delta_t in t_range:\n",
    "    ## creating temporal bin label\n",
    "    temporal_bin_label = \"frame\" + str(find_apoptosis_time(target_track, index = False) + delta_t)\n",
    "    wt_mito_ID_temporal_bins[temporal_bin_label] = {}\n",
    "    radius = 500 ## maximum radius\n",
    "    ## count all cells and mitoses within radius at delta_t\n",
    "   \n",
    "    wt_tracks_in_radius, wt_mitosis_in_radius = find_nearby_wt_mitosis(target_track, delta_t, radius)\n",
    "    print(\"time\", delta_t, \"wt\", len(wt_tracks_in_radius), \"mito\", len(wt_mitosis_in_radius))## currently returning zero hmmm\n",
    "    ## iterate over all bins\n",
    "    for i in range(num_bins):\n",
    "        ## create bin label for dict entry \n",
    "        bin_label = str((bin_size * i)) + \"< radial distance <\" + str((bin_size * (i+1))) \n",
    "        ## create empty list to store each bins data in before storing\n",
    "        wt_trackz = []\n",
    "        wt_IDs = [] ## temp measure\n",
    "        for wt_track in wt_tracks_in_radius:\n",
    "            if (bin_size * i) <= euclidean_distance(target_track, wt_track, (find_apoptosis_time(target_track, index = False) + delta_t)) <= (bin_size*(i+1)):\n",
    "                ## add track info to list for saving in dict bin entry\n",
    "                wt_trackz.append(wt_track) \n",
    "                wt_IDs.append(wt_track.ID) ## temp measure\n",
    "        ## add list of cells to dict entry\n",
    "        wt_track_bins[bin_label] = wt_tracks\n",
    "        wt_ID_bins[bin_label] = wt_IDs\n",
    "\n",
    "        wt_mito_IDs = [] ## temp measure\n",
    "        wt_mitos = []\n",
    "        for wt_mito in wt_mitosis_in_radius:\n",
    "            if (bin_size * i) <= euclidean_distance(target_track, wt_mito, (find_apoptosis_time(target_track, index = False) + delta_t)) <= (bin_size*(i+1)):\n",
    "                ## add track info to list for saving in dict bin entry\n",
    "                wt_mitos.append(wt_mito) \n",
    "                wt_mito_IDs.append(wt_mito.ID) ## temp measure\n",
    "        ## add list of cells to dict entry\n",
    "        wt_mitosis_bins[bin_label] = wt_mitos\n",
    "        wt_mito_ID_bins[bin_label] = wt_mito_IDs\n",
    "        #print(wt_mito_IDs, delta_t)\n",
    "        \n",
    "        #wt_mito_ID_temporal_bins[temporal_bin_label][bin_label] = wt_mito_IDs"
   ]
  },
  {
   "cell_type": "code",
   "execution_count": null,
   "metadata": {},
   "outputs": [],
   "source": [
    "wt_mito_ID_temporal_bins"
   ]
  },
  {
   "cell_type": "markdown",
   "metadata": {},
   "source": [
    "plotting wt_mito_ID_temporal_bins"
   ]
  },
  {
   "cell_type": "code",
   "execution_count": null,
   "metadata": {},
   "outputs": [],
   "source": [
    "wt_mito_ID_temporal_bins['frame685']"
   ]
  },
  {
   "cell_type": "code",
   "execution_count": null,
   "metadata": {},
   "outputs": [],
   "source": [
    "heatmap = np.zeros((10,400))\n",
    "\n",
    "for i, key1 in enumerate(wt_mito_ID_temporal_bins.keys()):\n",
    "    #print(i, key1)\n",
    "    for j, key2 in enumerate(wt_mito_ID_temporal_bins['frame685'].keys()):\n",
    "        #print(j,key2)\n",
    "        if len(wt_mito_ID_temporal_bins[key1][key2]) > 4:\n",
    "            print(key1, key2)\n",
    "            print(len(wt_mito_ID_temporal_bins[key1][key2]))\n",
    "        heatmap[j,i] = len(wt_mito_ID_temporal_bins[key1][key2])\n",
    "#heatmap[:,0] = wt_mito_ID_temporal_bins[i][j]"
   ]
  },
  {
   "cell_type": "code",
   "execution_count": null,
   "metadata": {},
   "outputs": [],
   "source": [
    "plt.imshow(heatmap, cmap= 'viridis', aspect = 'auto')#, #interpolation = 'nearest')\n",
    "plt.colorbar()\n",
    "plt.ylim(0,9)\n",
    "#plt.xlim(0,10)\n",
    "#plt.clim(0,3)\n",
    "plt.title(\"Number of wild-type mitosis\")\n",
    "plt.text(195,-4.5, \"Scr apoptosis -\", rotation=90)\n",
    "plt.xlabel(\"frame (unaligned)\")\n",
    "plt.ylabel(\"distance (50pixel bins)\")\n",
    "plt.savefig(\"/home/nathan/data/number_heatmap_Scr17.pdf\", transparent=True, bbox_inches=\"tight\", pad_inches=0.25, dpi = 300)\n",
    "plt.show()"
   ]
  },
  {
   "cell_type": "markdown",
   "metadata": {},
   "source": [
    "### Launch napari to check against raw data "
   ]
  },
  {
   "cell_type": "code",
   "execution_count": null,
   "metadata": {},
   "outputs": [],
   "source": [
    "with napari.gui_qt():\n",
    "    viewer = napari.Viewer()\n",
    "    \n",
    "    #viewer.add_image(bf)\n",
    "    viewer.add_image(gfp, name=\"gfp\", blending = \"additive\", colormap = \"green\")\n",
    "    viewer.add_image(rfp, name=\"rfp\", contrast_limits = (0, 50), blending = \"additive\", colormap = \"red\")\n",
    "    \n",
    "    viewer.add_tracks(wt_data)\n",
    "    viewer.add_tracks(scr_data)\n",
    "    \n",
    "    plot_mitoses() ## utilises two functions above to plot apop and mito \n",
    "    plot_apoptosis()\n",
    "    viewer.dims.set_point(0, (apop_time + delta_t)) ## open viewer at the timepoint of interest"
   ]
  }
 ],
 "metadata": {
  "kernelspec": {
   "display_name": "Python 3",
   "language": "python",
   "name": "python3"
  },
  "language_info": {
   "codemirror_mode": {
    "name": "ipython",
    "version": 3
   },
   "file_extension": ".py",
   "mimetype": "text/x-python",
   "name": "python",
   "nbconvert_exporter": "python",
   "pygments_lexer": "ipython3",
   "version": "3.7.6"
  }
 },
 "nbformat": 4,
 "nbformat_minor": 4
}
