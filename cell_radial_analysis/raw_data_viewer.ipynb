{
 "cells": [
  {
   "cell_type": "code",
   "execution_count": null,
   "metadata": {},
   "outputs": [],
   "source": [
    "import napari\n",
    "import btrack\n",
    "import numpy as np\n",
    "from skimage.io import imread\n",
    "from btrack.utils import tracks_to_napari"
   ]
  },
  {
   "cell_type": "code",
   "execution_count": 3,
   "metadata": {},
   "outputs": [],
   "source": [
    "gfp = imread('/media/nathan/Transcend/Nathan/data/kraken/h2b/giulia/GV0807/Pos3/stacks/gfp.tif')"
   ]
  },
  {
   "cell_type": "code",
   "execution_count": 6,
   "metadata": {},
   "outputs": [],
   "source": [
    "rfp = imread('/media/nathan/Transcend/Nathan/data/kraken/h2b/giulia/GV0807/Pos3/stacks/rfp.tif')"
   ]
  },
  {
   "cell_type": "code",
   "execution_count": 7,
   "metadata": {},
   "outputs": [],
   "source": [
    "bf = imread('/media/nathan/Transcend/Nathan/data/kraken/h2b/giulia/GV0807/Pos3/stacks/bf.tif')"
   ]
  },
  {
   "cell_type": "code",
   "execution_count": 17,
   "metadata": {
    "scrolled": true
   },
   "outputs": [
    {
     "name": "stderr",
     "output_type": "stream",
     "text": [
      "[INFO][2020/11/24 07:21:25 pm] Opening HDF file: /home/nathan/data/kraken/h2b/giulia/GV0807/Pos3/Pos3_aligned/HDF/segmented.hdf5...\n",
      "INFO:worker_process:Opening HDF file: /home/nathan/data/kraken/h2b/giulia/GV0807/Pos3/Pos3_aligned/HDF/segmented.hdf5...\n",
      "[INFO][2020/11/24 07:21:25 pm] Loading tracks/obj_type_1\n",
      "INFO:worker_process:Loading tracks/obj_type_1\n",
      "[INFO][2020/11/24 07:21:28 pm] Loading objects/obj_type_1 (408973, 5) (388394 filtered: area>=100)\n",
      "INFO:worker_process:Loading objects/obj_type_1 (408973, 5) (388394 filtered: area>=100)\n",
      "[INFO][2020/11/24 07:21:32 pm] Closing HDF file: /home/nathan/data/kraken/h2b/giulia/GV0807/Pos3/Pos3_aligned/HDF/segmented.hdf5\n",
      "INFO:worker_process:Closing HDF file: /home/nathan/data/kraken/h2b/giulia/GV0807/Pos3/Pos3_aligned/HDF/segmented.hdf5\n"
     ]
    }
   ],
   "source": [
    "with btrack.dataio.HDF5FileHandler(\"/home/nathan/data/kraken/h2b/giulia/GV0807/Pos3/Pos3_aligned/HDF/segmented.hdf5\", 'r', obj_type = \"obj_type_1\") as hdf:\n",
    "    wt_tracks = hdf.tracks"
   ]
  },
  {
   "cell_type": "code",
   "execution_count": 18,
   "metadata": {},
   "outputs": [],
   "source": [
    "divisions = [t for t in wt_tracks if t.fate.name == \"DIVIDE\" and t.in_frame(730)]"
   ]
  },
  {
   "cell_type": "code",
   "execution_count": 19,
   "metadata": {},
   "outputs": [
    {
     "data": {
      "text/plain": [
       "198"
      ]
     },
     "execution_count": 19,
     "metadata": {},
     "output_type": "execute_result"
    }
   ],
   "source": [
    "len(divisions)"
   ]
  },
  {
   "cell_type": "code",
   "execution_count": 20,
   "metadata": {},
   "outputs": [],
   "source": [
    "data, properties, graph = tracks_to_napari(divisions, ndim = 2)"
   ]
  },
  {
   "cell_type": "code",
   "execution_count": 24,
   "metadata": {},
   "outputs": [
    {
     "data": {
      "text/plain": [
       "(52870, 4)"
      ]
     },
     "execution_count": 24,
     "metadata": {},
     "output_type": "execute_result"
    }
   ],
   "source": [
    "data.shape"
   ]
  },
  {
   "cell_type": "code",
   "execution_count": 23,
   "metadata": {},
   "outputs": [],
   "source": [
    "tmp = data[:,2].copy()\n",
    "data[:,2] = data[:,3]\n",
    "data[:,3] = tmp"
   ]
  },
  {
   "cell_type": "code",
   "execution_count": null,
   "metadata": {},
   "outputs": [],
   "source": [
    "apop_event = "
   ]
  },
  {
   "cell_type": "code",
   "execution_count": null,
   "metadata": {},
   "outputs": [],
   "source": [
    "with napari.gui_qt():\n",
    "    viewer = napari.Viewer()\n",
    "    #viewer.add_image(bf)\n",
    "    viewer.add_image(gfp)\n",
    "    #viewer.add_image(rfp)\n",
    "    #viewer.add_points(data[:,1:])\n",
    "    viewer.add_tracks(data)"
   ]
  }
 ],
 "metadata": {
  "kernelspec": {
   "display_name": "Python 3",
   "language": "python",
   "name": "python3"
  },
  "language_info": {
   "codemirror_mode": {
    "name": "ipython",
    "version": 3
   },
   "file_extension": ".py",
   "mimetype": "text/x-python",
   "name": "python",
   "nbconvert_exporter": "python",
   "pygments_lexer": "ipython3",
   "version": "3.7.6"
  }
 },
 "nbformat": 4,
 "nbformat_minor": 4
}
