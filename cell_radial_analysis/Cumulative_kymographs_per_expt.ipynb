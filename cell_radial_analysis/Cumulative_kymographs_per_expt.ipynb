{
 "cells": [
  {
   "cell_type": "markdown",
   "metadata": {},
   "source": [
    "# Cumulative kymograph maker (per expt)\n",
    "This notebook is for generating summed kymographs over a single expt."
   ]
  },
  {
   "cell_type": "code",
   "execution_count": 1,
   "metadata": {},
   "outputs": [
    {
     "name": "stdout",
     "output_type": "stream",
     "text": [
      "version no.: 0.4.0\n"
     ]
    }
   ],
   "source": [
    "import btrack\n",
    "print(\"version no.:\", btrack.__version__)\n",
    "from btrack.utils import import_HDF, import_JSON\n",
    "import numpy as np\n",
    "import matplotlib.pyplot as plt\n",
    "import os\n",
    "import re\n",
    "import timeit ## can remove after assessing speed of different methods\n",
    "from tqdm import tqdm"
   ]
  },
  {
   "cell_type": "code",
   "execution_count": 191,
   "metadata": {},
   "outputs": [],
   "source": [
    "def euclidean_distance(target_track, other_track, frame):\n",
    "    try:\n",
    "        idx0 = target_track.t.index(find_apoptosis_time(target_track, index = False)) ## could also do just ## apop_index\n",
    "        idx1 = other_track.t.index(frame) ## t.index provides the index of that frame\n",
    "    except:\n",
    "        return np.inf\n",
    "    \n",
    "    dx = target_track.x[idx0] - other_track.x[idx1]\n",
    "    dy = target_track.y[idx0] - other_track.y[idx1]\n",
    "    \n",
    "    return np.sqrt(dx**2 + dy**2)\n",
    "\n",
    "def euc_dist(target_track, other_track, frame, apop_index):\n",
    "    try:\n",
    "        idx0 = apop_index ##target_track.t.index(apop_time) ## could also do just ## apop_index\n",
    "        idx1 = other_track.t.index(frame) ## t.index provides the index of that frame\n",
    "    except:\n",
    "        return np.inf\n",
    "    \n",
    "    dx = target_track.x[idx0] - other_track.x[idx1]\n",
    "    dy = target_track.y[idx0] - other_track.y[idx1]\n",
    "    \n",
    "    return np.sqrt(dx**2 + dy**2)\n",
    "\n",
    "def euc_dist_mito(target_track, other_track, apop_index):\n",
    "    idx0 = apop_index ##target_track.t.index(apop_time) ## could also do just ## apop_index\n",
    "    idx1 = -1 ## t[-1] is the final frame, ie the frame of mitosis\n",
    "    \n",
    "    dx = target_track.x[idx0] - other_track.x[idx1]\n",
    "    dy = target_track.y[idx0] - other_track.y[idx1]\n",
    "    \n",
    "    return np.sqrt(dx**2 + dy**2)\n",
    "\n",
    "def find_apoptosis_time(target_track, index): ### if index is set to True then the index of the apoptotic time (wrt target_track) is returned\n",
    "    try:\n",
    "        if target_track.label[0] == 'APOPTOSIS': ## if the first classification is apoptosis then thats a duff track\n",
    "            print(\"False apoptosis Scr ID:\", target_track.ID)\n",
    "            apop_index = apop_time = False\n",
    "            if index == True: \n",
    "                return apop_index\n",
    "            else: \n",
    "                return apop_time\n",
    "        else: \n",
    "            for i, j in enumerate(target_track.label):\n",
    "                if j == 'APOPTOSIS' and target_track.label[i+1] == 'APOPTOSIS' and target_track.label[i+2] == 'APOPTOSIS': # and target_track.label[i+3] =='APOPTOSIS' and target_track.label[i+4] =='APOPTOSIS':\n",
    "                    apop_index = i\n",
    "                    break\n",
    "            apop_time = target_track.t[apop_index]\n",
    "            if index == True: \n",
    "                return apop_index\n",
    "            else: \n",
    "                return apop_time\n",
    "    except: \n",
    "        print(\"False apoptosis Scr ID:\", target_track.ID)\n",
    "        apop_index = apop_time = False\n",
    "        if index == True: \n",
    "            return apop_index\n",
    "        else: \n",
    "            return apop_time\n",
    "        \n",
    "def kymo_labels(num_bins, label_freq):\n",
    "    radial_bin = radius / num_bins\n",
    "    temporal_bin = t_range*2 / num_bins\n",
    "\n",
    "    ### generate labels for axis PIXELS/FRAMES\n",
    "    xlocs = range(0, num_bins,label_freq) ## step of 2 to avoid crowding\n",
    "    xlabels = []\n",
    "    for m in range(int(-num_bins/2), int(num_bins/2),label_freq):\n",
    "        xlabels.append(str(int((temporal_bin)*m)) + \",\" + str(int((temporal_bin)*m+temporal_bin)))\n",
    "\n",
    "    ylocs = range(0, num_bins, label_freq) ## step of 2 to avoid crowding\n",
    "    ylabels = []\n",
    "    for m in range(num_bins, 0, -label_freq):\n",
    "        ylabels.append(str(int((radial_bin)*m)) + \",\" + str(int((radial_bin)*(m-1))))\n",
    "    \n",
    "    return xlocs, xlabels, ylocs, ylabels"
   ]
  },
  {
   "cell_type": "code",
   "execution_count": 4,
   "metadata": {
    "scrolled": true
   },
   "outputs": [
    {
     "name": "stderr",
     "output_type": "stream",
     "text": [
      "[INFO][2021/01/19 07:49:45 PM] Opening HDF file: /home/nathan/data/kraken/h2b/giulia/GV0812/Pos3/Pos3_aligned/HDF/segmented.hdf5...\n",
      "[INFO][2021/01/19 07:49:45 PM] Loading tracks/obj_type_1\n",
      "[INFO][2021/01/19 07:49:47 PM] Loading objects/obj_type_1 (205743, 5) (192777 filtered: area>=100)\n",
      "[INFO][2021/01/19 07:49:50 PM] Closing HDF file: /home/nathan/data/kraken/h2b/giulia/GV0812/Pos3/Pos3_aligned/HDF/segmented.hdf5\n",
      "[INFO][2021/01/19 07:49:50 PM] Opening HDF file: /home/nathan/data/kraken/h2b/giulia/GV0812/Pos3/Pos3_aligned/HDF/segmented.hdf5...\n",
      "[INFO][2021/01/19 07:49:50 PM] Loading tracks/obj_type_2\n",
      "[INFO][2021/01/19 07:49:51 PM] Loading objects/obj_type_2 (39202, 5) (33022 filtered: area>=100)\n",
      "[INFO][2021/01/19 07:49:51 PM] Closing HDF file: /home/nathan/data/kraken/h2b/giulia/GV0812/Pos3/Pos3_aligned/HDF/segmented.hdf5\n"
     ]
    },
    {
     "name": "stdout",
     "output_type": "stream",
     "text": [
      "Track information loaded\n"
     ]
    }
   ],
   "source": [
    "expt_path = '/home/nathan/data/kraken/h2b/giulia/GV0812/'\n",
    "tracks_fn = os.path.join(expt_path, 'Pos3/Pos3_aligned/HDF/segmented.hdf5')\n",
    "with btrack.dataio.HDF5FileHandler(tracks_fn, 'r', obj_type = \"obj_type_1\") as h:\n",
    "    wt_tracks = h.tracks\n",
    "with btrack.dataio.HDF5FileHandler(tracks_fn, 'r', obj_type = \"obj_type_2\") as h:\n",
    "    scr_tracks = h.tracks\n",
    "print(\"Track information loaded\")"
   ]
  },
  {
   "cell_type": "markdown",
   "metadata": {},
   "source": [
    "# to-do:\n",
    "\n",
    "- [x] check against raw data\n",
    "- [x] bin into discrete cats, \n",
    "- [x] Check for duplicate entries - current method does count cells in every frame\n",
    "- [x] write script to count only a single incident of specific cell?\n",
    "- [x] Add labels to bins\n",
    "- [X] Add mitosis filter\n",
    "- [ ] Choose range based on micrometers/hours, not pixels/frames\n",
    "- [x] Write out in suitable format (csv?)\n",
    "- [x] Iterate over many cells\n",
    "- [ ] get true apop list\n",
    "- [ ] sub in new calcs- think about whether thats what i want to measure!\n",
    "- [ ] Iterate over many experiments\n",
    "- [x] Speed up calculation beyond 45min for R=400, t=400 (do not calculate euc dist every time, nor find_apop_time\n",
    "\n",
    "\n",
    "- [x] compare euc_dist to original\n",
    "- [x] check wts_mito"
   ]
  },
  {
   "cell_type": "markdown",
   "metadata": {},
   "source": [
    "# Iterating over many cells and calculating kymograph"
   ]
  },
  {
   "cell_type": "code",
   "execution_count": 171,
   "metadata": {},
   "outputs": [
    {
     "name": "stderr",
     "output_type": "stream",
     "text": [
      "\n",
      "  0%|          | 0/89 [00:00<?, ?it/s]\u001b[A"
     ]
    },
    {
     "name": "stdout",
     "output_type": "stream",
     "text": [
      "False apoptosis Scr ID: 19\n",
      "Skipping Scr ID: 19\n",
      "False apoptosis Scr ID: 24\n",
      "Skipping Scr ID: 24\n"
     ]
    },
    {
     "name": "stderr",
     "output_type": "stream",
     "text": [
      "\n",
      "  3%|▎         | 3/89 [00:38<18:10, 12.69s/it]\u001b[A"
     ]
    },
    {
     "name": "stdout",
     "output_type": "stream",
     "text": [
      "False apoptosis Scr ID: 29\n",
      "Skipping Scr ID: 29\n",
      "False apoptosis Scr ID: 16\n",
      "Skipping Scr ID: 16\n",
      "False apoptosis Scr ID: 17\n",
      "Skipping Scr ID: 17\n",
      "False apoptosis Scr ID: 6\n",
      "Skipping Scr ID: 6\n",
      "False apoptosis Scr ID: 8\n",
      "Skipping Scr ID: 8\n",
      "False apoptosis Scr ID: 10\n",
      "Skipping Scr ID: 10\n",
      "False apoptosis Scr ID: 15\n",
      "Skipping Scr ID: 15\n",
      "False apoptosis Scr ID: 14\n",
      "Skipping Scr ID: 14\n",
      "False apoptosis Scr ID: 39\n",
      "Skipping Scr ID: 39\n",
      "False apoptosis Scr ID: 49\n",
      "Skipping Scr ID: 49\n",
      "False apoptosis Scr ID: 55\n",
      "Skipping Scr ID: 55\n",
      "False apoptosis Scr ID: 62\n",
      "Skipping Scr ID: 62\n",
      "False apoptosis Scr ID: 63\n",
      "Skipping Scr ID: 63\n",
      "False apoptosis Scr ID: 70\n",
      "Skipping Scr ID: 70\n",
      "False apoptosis Scr ID: 74\n",
      "Skipping Scr ID: 74\n",
      "False apoptosis Scr ID: 79\n",
      "Skipping Scr ID: 79\n",
      "False apoptosis Scr ID: 82\n",
      "Skipping Scr ID: 82\n",
      "False apoptosis Scr ID: 88\n",
      "Skipping Scr ID: 88\n",
      "False apoptosis Scr ID: 92\n",
      "Skipping Scr ID: 92\n",
      "False apoptosis Scr ID: 101\n",
      "Skipping Scr ID: 101\n",
      "False apoptosis Scr ID: 104\n",
      "Skipping Scr ID: 104\n",
      "False apoptosis Scr ID: 117\n",
      "Skipping Scr ID: 117\n"
     ]
    },
    {
     "name": "stderr",
     "output_type": "stream",
     "text": [
      "\n",
      " 29%|██▉       | 26/89 [00:55<09:33,  9.10s/it]\u001b[A"
     ]
    },
    {
     "name": "stdout",
     "output_type": "stream",
     "text": [
      "False apoptosis Scr ID: 150\n",
      "Skipping Scr ID: 150\n",
      "False apoptosis Scr ID: 158\n",
      "Skipping Scr ID: 158\n",
      "False apoptosis Scr ID: 162\n",
      "Skipping Scr ID: 162\n"
     ]
    },
    {
     "name": "stderr",
     "output_type": "stream",
     "text": [
      "\n",
      " 34%|███▎      | 30/89 [01:13<07:36,  7.73s/it]\u001b[A"
     ]
    },
    {
     "name": "stdout",
     "output_type": "stream",
     "text": [
      "False apoptosis Scr ID: 179\n",
      "Skipping Scr ID: 179\n",
      "False apoptosis Scr ID: 181\n",
      "Skipping Scr ID: 181\n",
      "False apoptosis Scr ID: 217\n",
      "Skipping Scr ID: 217\n"
     ]
    },
    {
     "name": "stderr",
     "output_type": "stream",
     "text": [
      "\n",
      " 38%|███▊      | 34/89 [01:31<06:14,  6.82s/it]\u001b[A"
     ]
    },
    {
     "name": "stdout",
     "output_type": "stream",
     "text": [
      "False apoptosis Scr ID: 228\n",
      "Skipping Scr ID: 228\n",
      "False apoptosis Scr ID: 252\n",
      "Skipping Scr ID: 252\n",
      "False apoptosis Scr ID: 260\n",
      "Skipping Scr ID: 260\n",
      "False apoptosis Scr ID: 284\n",
      "Skipping Scr ID: 284\n"
     ]
    },
    {
     "name": "stderr",
     "output_type": "stream",
     "text": [
      "\n",
      " 44%|████▍     | 39/89 [01:59<05:20,  6.40s/it]\u001b[A"
     ]
    },
    {
     "name": "stdout",
     "output_type": "stream",
     "text": [
      "False apoptosis Scr ID: 314\n",
      "Skipping Scr ID: 314\n",
      "False apoptosis Scr ID: 315\n",
      "Skipping Scr ID: 315\n"
     ]
    },
    {
     "name": "stderr",
     "output_type": "stream",
     "text": [
      "\n",
      " 47%|████▋     | 42/89 [02:21<05:18,  6.77s/it]\u001b[A"
     ]
    },
    {
     "name": "stdout",
     "output_type": "stream",
     "text": [
      "False apoptosis Scr ID: 353\n",
      "Skipping Scr ID: 353\n"
     ]
    },
    {
     "name": "stderr",
     "output_type": "stream",
     "text": [
      "\n",
      " 49%|████▉     | 44/89 [02:44<06:08,  8.19s/it]\u001b[A"
     ]
    },
    {
     "name": "stdout",
     "output_type": "stream",
     "text": [
      "False apoptosis Scr ID: 370\n",
      "Skipping Scr ID: 370\n",
      "False apoptosis Scr ID: 395\n",
      "Skipping Scr ID: 395\n",
      "False apoptosis Scr ID: 396\n",
      "Skipping Scr ID: 396\n",
      "False apoptosis Scr ID: 397\n",
      "Skipping Scr ID: 397\n",
      "False apoptosis Scr ID: 399\n",
      "Skipping Scr ID: 399\n"
     ]
    },
    {
     "name": "stderr",
     "output_type": "stream",
     "text": [
      "\n",
      " 56%|█████▌    | 50/89 [03:05<04:23,  6.75s/it]\u001b[A\n",
      " 57%|█████▋    | 51/89 [03:26<06:59, 11.05s/it]\u001b[A"
     ]
    },
    {
     "name": "stdout",
     "output_type": "stream",
     "text": [
      "False apoptosis Scr ID: 417\n",
      "Skipping Scr ID: 417\n",
      "False apoptosis Scr ID: 421\n",
      "Skipping Scr ID: 421\n",
      "False apoptosis Scr ID: 432\n",
      "Skipping Scr ID: 432\n",
      "False apoptosis Scr ID: 434\n",
      "Skipping Scr ID: 434\n",
      "False apoptosis Scr ID: 436\n",
      "Skipping Scr ID: 436\n",
      "False apoptosis Scr ID: 439\n",
      "Skipping Scr ID: 439\n",
      "False apoptosis Scr ID: 443\n",
      "Skipping Scr ID: 443\n",
      "False apoptosis Scr ID: 442\n",
      "Skipping Scr ID: 442\n",
      "False apoptosis Scr ID: 450\n",
      "Skipping Scr ID: 450\n",
      "False apoptosis Scr ID: 451\n",
      "Skipping Scr ID: 451\n",
      "False apoptosis Scr ID: 452\n",
      "Skipping Scr ID: 452\n",
      "False apoptosis Scr ID: 453\n",
      "Skipping Scr ID: 453\n",
      "False apoptosis Scr ID: 460\n",
      "Skipping Scr ID: 460\n",
      "False apoptosis Scr ID: 464\n",
      "Skipping Scr ID: 464\n",
      "False apoptosis Scr ID: 468\n",
      "Skipping Scr ID: 468\n"
     ]
    },
    {
     "name": "stderr",
     "output_type": "stream",
     "text": [
      "\n",
      " 75%|███████▌  | 67/89 [03:46<02:58,  8.11s/it]\u001b[A"
     ]
    },
    {
     "name": "stdout",
     "output_type": "stream",
     "text": [
      "False apoptosis Scr ID: 472\n",
      "Skipping Scr ID: 472\n",
      "False apoptosis Scr ID: 473\n",
      "Skipping Scr ID: 473\n",
      "False apoptosis Scr ID: 476\n",
      "Skipping Scr ID: 476\n",
      "False apoptosis Scr ID: 480\n",
      "Skipping Scr ID: 480\n"
     ]
    },
    {
     "name": "stderr",
     "output_type": "stream",
     "text": [
      "\n",
      "100%|██████████| 89/89 [04:06<00:00,  2.77s/it]\u001b[A\n"
     ]
    },
    {
     "name": "stdout",
     "output_type": "stream",
     "text": [
      "False apoptosis Scr ID: 485\n",
      "Skipping Scr ID: 485\n",
      "False apoptosis Scr ID: 496\n",
      "Skipping Scr ID: 496\n",
      "False apoptosis Scr ID: 497\n",
      "Skipping Scr ID: 497\n",
      "False apoptosis Scr ID: 498\n",
      "Skipping Scr ID: 498\n",
      "False apoptosis Scr ID: 503\n",
      "Skipping Scr ID: 503\n",
      "False apoptosis Scr ID: 502\n",
      "Skipping Scr ID: 502\n",
      "False apoptosis Scr ID: 504\n",
      "Skipping Scr ID: 504\n",
      "False apoptosis Scr ID: 509\n",
      "Skipping Scr ID: 509\n",
      "False apoptosis Scr ID: 511\n",
      "Skipping Scr ID: 511\n",
      "False apoptosis Scr ID: 515\n",
      "Skipping Scr ID: 515\n",
      "False apoptosis Scr ID: 520\n",
      "Skipping Scr ID: 520\n",
      "False apoptosis Scr ID: 521\n",
      "Skipping Scr ID: 521\n",
      "False apoptosis Scr ID: 524\n",
      "Skipping Scr ID: 524\n",
      "False apoptosis Scr ID: 527\n",
      "Skipping Scr ID: 527\n",
      "False apoptosis Scr ID: 528\n",
      "Skipping Scr ID: 528\n",
      "False apoptosis Scr ID: 533\n",
      "Skipping Scr ID: 533\n",
      "False apoptosis Scr ID: 535\n",
      "Skipping Scr ID: 535\n"
     ]
    }
   ],
   "source": [
    "start = timeit.default_timer()\n",
    "\n",
    "cumu_wts, cumu_wts_mito = [], [] ## creating empty lists for cumulative \n",
    "N_cell = 0\n",
    "raw_numbers_path = os.path.join(expt_path, 'analysis/raw_numbers')\n",
    "\n",
    "scr_apops = [scr_track for scr_track in scr_tracks if scr_track.fate.name == 'APOPTOSIS']\n",
    "for scr_apop in tqdm(scr_apops):\n",
    "    target_track = scr_apop\n",
    "    \n",
    "    cell_ID = target_track.ID\n",
    "    apop_time = find_apoptosis_time(target_track, index = False)\n",
    "    if apop_time == False:\n",
    "        print(\"Skipping Scr ID:\", target_track.ID)\n",
    "        continue\n",
    "    apop_index = find_apoptosis_time(target_track, index = True)\n",
    "    N_cell += 1\n",
    "    radius = 400\n",
    "    t_range = 200 ### actual range will be twice this as it scans neg and pos\n",
    "    \n",
    "    wts = [tuple(((wt_track.ID),\n",
    "                  (round((euc_dist(target_track, wt_track, (apop_time+delta_t), apop_index)),2)),\n",
    "                  ((apop_time + delta_t)))) \n",
    "           for delta_t in range(-t_range, t_range)\n",
    "           for wt_track in wt_tracks \n",
    "               if euc_dist(target_track, wt_track, apop_time + delta_t, apop_index)<radius\n",
    "           ]\n",
    "    \n",
    "    wts_mito = [tuple(((wt_track.ID),\n",
    "                  (round((euc_dist_mito(target_track, wt_track, apop_index)),2)),\n",
    "                  (wt_track.t[-1]),\n",
    "                  (wt_track.label[-1]),\n",
    "                  (wt_track.fate.name))) \n",
    "           for wt_track in wt_tracks\n",
    "            if \n",
    "            euc_dist_mito(target_track, wt_track, apop_index)<radius and ## within the full radial extent\n",
    "            wt_track.fate.name == \"DIVIDE\" \n",
    "           ]\n",
    "    \n",
    "    ### save out results of scan\n",
    "    no_wt_fn = os.path.join(raw_numbers_path,('no_wt_Scr_ID_' + str(cell_ID) + '.csv'))\n",
    "    no_wt_mito_fn = os.path.join(raw_numbers_path, ('no_wt_mito_Scr_ID_' + str(cell_ID) + '.csv'))\n",
    "    \n",
    "    with open(no_wt_fn, 'w') as filehandle:\n",
    "        filehandle.write('%s\\n'%'ID, Distance, Frame')\n",
    "        for listitem in wts:\n",
    "            filehandle.write('%s\\n' % (re.sub(r\"[\\(\\)]\", \"\",str(listitem))))\n",
    "        \n",
    "    with open(no_wt_mito_fn, 'w') as filehandle:\n",
    "        filehandle.write('%s\\n'%'ID, Distance, Frame, State, Fate')\n",
    "        for listitem in wts_mito:\n",
    "            filehandle.write('%s\\n' % (re.sub(r\"[\\(\\)]\", \"\",str(listitem))))\n",
    "        \n",
    "    cumu_wts += wts\n",
    "    cumu_wts_mito += wts_mito\n",
    "\n",
    "cumu_wts_fn = os.path.join(raw_numbers_path, 'cumu_wts.csv')\n",
    "cumu_wts_mito_fn = os.path.join(raw_numbers_path, 'cumu_wts_mito.csv')\n",
    "\n",
    "with open(cumu_wts_fn, 'w') as filehandle:\n",
    "    filehandle.write('%s\\n'%'ID, Distance, Frame')\n",
    "    for listitem in cumu_wts:\n",
    "        filehandle.write('%s\\n' % (re.sub(r\"[\\(\\)]\", \"\",str(listitem))))\n",
    "        \n",
    "with open(cumu_wts_mito_fn, 'w') as filehandle:\n",
    "    filehandle.write('%s\\n'%'ID, Distance, Frame, State, Fate')\n",
    "    for listitem in cumu_wts_mito:\n",
    "        filehandle.write('%s\\n' % (re.sub(r\"[\\(\\)]\", \"\",str(listitem))))\n",
    "        \n",
    "stop = timeit.default_timer()\n",
    "print('Redesigned WT cell counter calculation time: ', round((stop - start),2), 'seconds') "
   ]
  },
  {
   "cell_type": "code",
   "execution_count": 193,
   "metadata": {},
   "outputs": [
    {
     "data": {
      "text/plain": [
       "0"
      ]
     },
     "execution_count": 193,
     "metadata": {},
     "output_type": "execute_result"
    }
   ],
   "source": [
    "os.system('spd-say \"calculation complete, objective achieved,faster, better, harder,stronger\"')"
   ]
  },
  {
   "cell_type": "markdown",
   "metadata": {},
   "source": [
    "# Plotting data from many Scr events into kymographs"
   ]
  },
  {
   "cell_type": "markdown",
   "metadata": {},
   "source": [
    "#### Getting xy variables"
   ]
  },
  {
   "cell_type": "code",
   "execution_count": 174,
   "metadata": {},
   "outputs": [],
   "source": [
    "distance = [cumu_wts[i][1] for i in range(0,len(cumu_wts))]\n",
    "time = [cumu_wts[i][2] for i in range(0,len(cumu_wts))]"
   ]
  },
  {
   "cell_type": "code",
   "execution_count": 175,
   "metadata": {},
   "outputs": [],
   "source": [
    "distance_mito = [cumu_wts_mito[i][1] for i in range(0,len(cumu_wts_mito))]\n",
    "time_mito = [cumu_wts_mito[i][2] for i in range(0,len(cumu_wts_mito))]"
   ]
  },
  {
   "cell_type": "markdown",
   "metadata": {},
   "source": [
    "#### Choose bin size for labels and to plot data into\n"
   ]
  },
  {
   "cell_type": "code",
   "execution_count": 176,
   "metadata": {},
   "outputs": [],
   "source": [
    "## choose bin size \n",
    "num_bins = 20"
   ]
  },
  {
   "cell_type": "code",
   "execution_count": 205,
   "metadata": {},
   "outputs": [
    {
     "name": "stdout",
     "output_type": "stream",
     "text": [
      "[  0.  20.  40.  60.  80. 100. 120. 140. 160. 180. 200. 220. 240. 260.\n",
      " 280. 300. 320. 340. 360. 380. 400.]\n"
     ]
    }
   ],
   "source": [
    "time_bin_edges = np.linspace(-200,200, num_bins+1) ## 2dimensionalise\n",
    "distance_bin_edges = np.linspace(0,400, num_bins+1) ## 2dimensionalise\n",
    "\n",
    "print(distance_bin_edges"
   ]
  },
  {
   "cell_type": "code",
   "execution_count": 204,
   "metadata": {},
   "outputs": [
    {
     "data": {
      "text/plain": [
       "array([  0.72 ,  20.684,  40.648,  60.612,  80.576, 100.54 , 120.504,\n",
       "       140.468, 160.432, 180.396, 200.36 , 220.324, 240.288, 260.252,\n",
       "       280.216, 300.18 , 320.144, 340.108, 360.072, 380.036, 400.   ])"
      ]
     },
     "execution_count": 204,
     "metadata": {},
     "output_type": "execute_result"
    }
   ],
   "source": [
    "y_autolabels"
   ]
  },
  {
   "cell_type": "code",
   "execution_count": 203,
   "metadata": {},
   "outputs": [
    {
     "data": {
      "text/plain": [
       "array([ 35. ,  82.6, 130.2, 177.8, 225.4, 273. , 320.6, 368.2, 415.8,\n",
       "       463.4, 511. , 558.6, 606.2, 653.8, 701.4, 749. , 796.6, 844.2,\n",
       "       891.8, 939.4, 987. ])"
      ]
     },
     "execution_count": 203,
     "metadata": {},
     "output_type": "execute_result"
    }
   ],
   "source": [
    "x_autolabels"
   ]
  },
  {
   "cell_type": "code",
   "execution_count": 209,
   "metadata": {
    "scrolled": true
   },
   "outputs": [
    {
     "data": {
      "image/png": "[encoded data removed]",
      "text/plain": [
       "<Figure size 432x288 with 2 Axes>"
      ]
     },
     "metadata": {
      "needs_background": "light"
     },
     "output_type": "display_data"
    }
   ],
   "source": [
    "num_bins = 20\n",
    "H_num_wt, x_autolabels, y_autolabels = np.histogram2d( distance,time, bins=[time_bin_edges,distance_bin_edges])\n",
    "#H = H/bin_size ### because for every bin each cell could be counted for every frame present. Instead of reducing the count down to any instance of a cell, I want to preserve this cumulative count inside a single bin as a measure for how present that cell is in any bin. Ie a cell that is fully present will be counted fully, but only a fleeting presence of 1/20 frames will count as 1/20th of a fully presence. \n",
    "#H_num_wt[0,19] =20000 check the order of time, distance\n",
    "xlocs, xlabels, ylocs, ylabels = kymo_labels(num_bins, label_freq = int(num_bins*0.1)) ## 0.1 only adds ten labels to the kymograph\n",
    "plt.xlabel(\"Time from apoptosis at t=0 (frames)\")\n",
    "plt.ylabel(\"Distance from apoptosis (pixels)\")\n",
    "title = 'Cumulative kymograph centered around Scr. apop. N=' + str(N_cell)\n",
    "plt.title(title)\n",
    "plt.imshow(np.flipud(H_num_wt))\n",
    "plt.yticks(ylocs, ylabels)\n",
    "plt.xticks(xlocs, xlabels, rotation='vertical')\n",
    "plt.colorbar(label = 'No. of wild-type cell appearances')#, ticks = list(range(0, int(round(np.amax(H))),30)))\n",
    "expt_label = 'expt:' + expt_path[36:42] + '\\n 90:10 WT:Scr'\n",
    "plt.text(21,23,expt_label)\n",
    "save_title = 'Cumulative_kymo_no._wt.png'\n",
    "plt.savefig(os.path.join(expt_path, 'analysis', save_title), bbox_inches = 'tight', dpi = 300)"
   ]
  },
  {
   "cell_type": "code",
   "execution_count": 210,
   "metadata": {},
   "outputs": [
    {
     "data": {
      "text/plain": [
       "[<matplotlib.lines.Line2D at 0x7f0237befa10>]"
      ]
     },
     "execution_count": 210,
     "metadata": {},
     "output_type": "execute_result"
    },
    {
     "data": {
      "image/png": "[encoded data removed]",
      "text/plain": [
       "<Figure size 432x288 with 1 Axes>"
      ]
     },
     "metadata": {
      "needs_background": "light"
     },
     "output_type": "display_data"
    }
   ],
   "source": [
    "plt.plot(H_num_wt[19,:])"
   ]
  },
  {
   "cell_type": "code",
   "execution_count": 194,
   "metadata": {},
   "outputs": [
    {
     "data": {
      "text/plain": [
       "(array([  491.,  1997.,  2528.,  4536.,  6142.,  9835., 15317., 34705.,\n",
       "        51747., 50494.]),\n",
       " array([ 35. , 130.2, 225.4, 320.6, 415.8, 511. , 606.2, 701.4, 796.6,\n",
       "        891.8, 987. ]),\n",
       " <a list of 10 Patch objects>)"
      ]
     },
     "execution_count": 194,
     "metadata": {},
     "output_type": "execute_result"
    },
    {
     "data": {
      "image/png": "[encoded data removed]",
      "text/plain": [
       "<Figure size 432x288 with 1 Axes>"
      ]
     },
     "metadata": {
      "needs_background": "light"
     },
     "output_type": "display_data"
    }
   ],
   "source": [
    "plt.hist(time)"
   ]
  },
  {
   "cell_type": "code",
   "execution_count": 211,
   "metadata": {},
   "outputs": [
    {
     "data": {
      "image/png": "[encoded data removed]",
      "text/plain": [
       "<Figure size 432x288 with 2 Axes>"
      ]
     },
     "metadata": {
      "needs_background": "light"
     },
     "output_type": "display_data"
    }
   ],
   "source": [
    "num_bins = 20\n",
    "H_num_mito, x_autolabels, y_autolabels = np.histogram2d(distance_mito, time_mito,bins=num_bins)\n",
    "#H_mito = H_mito/bin_size ### because for every bin each cell could be counted for every frame present. Instead of reducing the count down to any instance of a cell, I want to preserve this cumulative count inside a single bin as a measure for how present that cell is in any bin. Ie a cell that is fully present will be counted fully, but only a fleeting presence of 1/20 frames will count as 1/20th of a fully presence. \n",
    "xlocs, xlabels, ylocs, ylabels = kymo_labels(num_bins, label_freq = int(num_bins*0.1)) ## 0.1 only adds ten labels to the kymograph\n",
    "plt.xlabel(\"Time from apoptosis at t=0 (frames)\")\n",
    "plt.ylabel(\"Distance from apoptosis (pixels)\")\n",
    "title = 'Cumulative kymograph centered around Scr. apop. N=' + str(N_cell)\n",
    "plt.title(title)\n",
    "plt.imshow(np.flipud(H_num_mito))\n",
    "plt.yticks(ylocs, ylabels)\n",
    "plt.xticks(xlocs, xlabels, rotation='vertical')\n",
    "plt.colorbar(label = 'No. of wild-type cell mitoses')#, ticks = list(range(0, int(round(np.amax(H_mito))),2)))\n",
    "expt_label = 'expt:' + expt_path[36:42] + '\\n 90:10 WT:Scr'\n",
    "plt.text(21,23,expt_label)\n",
    "save_title = 'Cumulative_kymo_no._wt_mito.png'\n",
    "plt.savefig(os.path.join(expt_path, 'analysis', save_title), bbox_inches = 'tight', dpi = 300)"
   ]
  },
  {
   "cell_type": "code",
   "execution_count": 215,
   "metadata": {},
   "outputs": [
    {
     "data": {
      "image/png": "[encoded data removed]",
      "text/plain": [
       "<Figure size 432x288 with 2 Axes>"
      ]
     },
     "metadata": {
      "needs_background": "light"
     },
     "output_type": "display_data"
    }
   ],
   "source": [
    "num_bins = 20\n",
    "H_prob_mito  = H_num_mito/(H_num_wt+1E-10)\n",
    "xlocs, xlabels, ylocs, ylabels = kymo_labels(num_bins, label_freq = int(num_bins*0.1)) ## 0.1 only adds ten labels to the kymograph\n",
    "plt.xlabel(\"Time from apoptosis at t=0 (frames)\")\n",
    "plt.ylabel(\"Distance from apoptosis (pixels)\")\n",
    "title = 'Cumulative kymograph centered around Scr. apop. N=' + str(N_cell)\n",
    "plt.title(title)\n",
    "plt.imshow(np.flipud(H_prob_mito))\n",
    "plt.yticks(ylocs, ylabels)\n",
    "plt.xticks(xlocs, xlabels, rotation='vertical')\n",
    "plt.colorbar(label = 'Probability of wild-type cell mitoses')\n",
    "expt_label = 'expt:' + expt_path[36:42] + '\\n 90:10 WT:Scr'\n",
    "plt.text(20,23,expt_label)\n",
    "save_title = 'Cumulative_kymo_prob_wt_mito.png'\n",
    "plt.savefig(os.path.join(expt_path, 'analysis', save_title), bbox_inches = 'tight', dpi = 300)"
   ]
  }
 ],
 "metadata": {
  "kernelspec": {
   "display_name": "Python 3",
   "language": "python",
   "name": "python3"
  },
  "language_info": {
   "codemirror_mode": {
    "name": "ipython",
    "version": 3
   },
   "file_extension": ".py",
   "mimetype": "text/x-python",
   "name": "python",
   "nbconvert_exporter": "python",
   "pygments_lexer": "ipython3",
   "version": "3.7.6"
  }
 },
 "nbformat": 4,
 "nbformat_minor": 4
}
