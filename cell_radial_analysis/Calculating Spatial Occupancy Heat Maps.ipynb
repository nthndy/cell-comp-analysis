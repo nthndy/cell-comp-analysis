{
 "cells": [
  {
   "cell_type": "markdown",
   "metadata": {},
   "source": [
    "# Notebook to calculate spatial occupancy heatmaps"
   ]
  },
  {
   "cell_type": "code",
   "execution_count": 47,
   "metadata": {},
   "outputs": [],
   "source": [
    "import pickle\n",
    "import matplotlib.pyplot as plt\n",
    "import numpy as np"
   ]
  },
  {
   "cell_type": "markdown",
   "metadata": {},
   "source": [
    "Scan parameters"
   ]
  },
  {
   "cell_type": "code",
   "execution_count": 2,
   "metadata": {},
   "outputs": [],
   "source": [
    "radius = 400\n",
    "t_range = 400 # (200 frames each direction)\n",
    "num_bins = 10"
   ]
  },
  {
   "cell_type": "code",
   "execution_count": 4,
   "metadata": {},
   "outputs": [],
   "source": [
    "occupancy = pickle.load( open( '/home/nathan/data/kraken/h2b/giulia/apoptosis_information/spatial_occupancy_weightmaps/follow/occupancy_dict.p', \"rb\" ) )"
   ]
  },
  {
   "cell_type": "markdown",
   "metadata": {},
   "source": [
    "Calculating how much of the x axis (time) to trim from the spatial plots"
   ]
  },
  {
   "cell_type": "code",
   "execution_count": 11,
   "metadata": {},
   "outputs": [],
   "source": [
    "dead_cell_duration_list = []\n",
    "for i in occupancy:\n",
    "    dead_cell_duration = occupancy[i]['frame_indices'][1]-occupancy[i]['apop_time']\n",
    "    dead_cell_duration_list.append(dead_cell_duration)"
   ]
  },
  {
   "cell_type": "code",
   "execution_count": 12,
   "metadata": {},
   "outputs": [
    {
     "data": {
      "text/plain": [
       "[4,\n",
       " 8,\n",
       " 3,\n",
       " 209,\n",
       " 1,\n",
       " 159,\n",
       " 151,\n",
       " 19,\n",
       " 147,\n",
       " 3,\n",
       " 15,\n",
       " 87,\n",
       " 19,\n",
       " 196,\n",
       " 58,\n",
       " 8,\n",
       " 561,\n",
       " 9,\n",
       " 19,\n",
       " 13,\n",
       " 55,\n",
       " 2,\n",
       " 20,\n",
       " 10,\n",
       " 3,\n",
       " 11,\n",
       " 109,\n",
       " 9,\n",
       " 228,\n",
       " 4,\n",
       " 17,\n",
       " 2,\n",
       " 45,\n",
       " 9,\n",
       " 283,\n",
       " 283,\n",
       " 2,\n",
       " 38,\n",
       " 161,\n",
       " 23,\n",
       " 23,\n",
       " 2,\n",
       " 4,\n",
       " 9,\n",
       " 3,\n",
       " 1,\n",
       " 3,\n",
       " 15,\n",
       " 12,\n",
       " 350,\n",
       " 15,\n",
       " 115,\n",
       " 5,\n",
       " 210,\n",
       " 68,\n",
       " 6,\n",
       " 95,\n",
       " 16,\n",
       " 3,\n",
       " 2,\n",
       " 14,\n",
       " 5,\n",
       " 1,\n",
       " 10,\n",
       " 12,\n",
       " 7,\n",
       " 124,\n",
       " 362,\n",
       " 109,\n",
       " 1,\n",
       " 1,\n",
       " 3,\n",
       " 13,\n",
       " 38,\n",
       " 2,\n",
       " 53,\n",
       " 2,\n",
       " 1,\n",
       " 80,\n",
       " 10,\n",
       " 3,\n",
       " 144,\n",
       " 3,\n",
       " 0,\n",
       " 0,\n",
       " 32,\n",
       " 19,\n",
       " 9,\n",
       " 16,\n",
       " 16,\n",
       " 5,\n",
       " 2,\n",
       " 18,\n",
       " 3,\n",
       " 1,\n",
       " 36,\n",
       " 1,\n",
       " 27,\n",
       " 227,\n",
       " 4,\n",
       " 8,\n",
       " 186,\n",
       " 4,\n",
       " 84,\n",
       " 212,\n",
       " 11,\n",
       " 23,\n",
       " 4,\n",
       " 16,\n",
       " 1,\n",
       " 1,\n",
       " 348,\n",
       " 6,\n",
       " 10,\n",
       " 14,\n",
       " 12,\n",
       " 52,\n",
       " 1,\n",
       " 3,\n",
       " 11,\n",
       " 1,\n",
       " 2,\n",
       " 406,\n",
       " 5,\n",
       " 3,\n",
       " 7,\n",
       " 242,\n",
       " 11,\n",
       " 29,\n",
       " 15,\n",
       " 3,\n",
       " 7,\n",
       " 6,\n",
       " 204,\n",
       " 0,\n",
       " 102,\n",
       " 4,\n",
       " 2,\n",
       " 3,\n",
       " 14,\n",
       " 19,\n",
       " 6,\n",
       " 246,\n",
       " 4,\n",
       " 1,\n",
       " 247,\n",
       " 266,\n",
       " 198,\n",
       " 4,\n",
       " 46,\n",
       " 9,\n",
       " 5,\n",
       " 256,\n",
       " 5,\n",
       " 9,\n",
       " 0,\n",
       " 1,\n",
       " 21,\n",
       " 2,\n",
       " 183,\n",
       " 4,\n",
       " 3,\n",
       " 68,\n",
       " 116,\n",
       " 71,\n",
       " 0,\n",
       " 182,\n",
       " 7,\n",
       " 5,\n",
       " 2,\n",
       " 186,\n",
       " 17,\n",
       " 3,\n",
       " 386,\n",
       " 30,\n",
       " 126,\n",
       " 3,\n",
       " 3,\n",
       " 297,\n",
       " 264,\n",
       " 237,\n",
       " 4,\n",
       " 12,\n",
       " 5,\n",
       " 0,\n",
       " 3,\n",
       " 0,\n",
       " 102,\n",
       " 11,\n",
       " 18,\n",
       " 0,\n",
       " 290,\n",
       " 290,\n",
       " 347,\n",
       " 2,\n",
       " 7,\n",
       " 33,\n",
       " 42,\n",
       " 477,\n",
       " 4,\n",
       " 47,\n",
       " 212,\n",
       " 4,\n",
       " 43,\n",
       " 43,\n",
       " 511,\n",
       " 181,\n",
       " 16,\n",
       " 307,\n",
       " 213,\n",
       " 25,\n",
       " 79,\n",
       " 5,\n",
       " 312,\n",
       " 130,\n",
       " 3,\n",
       " 4,\n",
       " 2,\n",
       " 2,\n",
       " 82,\n",
       " 118,\n",
       " 155,\n",
       " 79,\n",
       " 84,\n",
       " 2,\n",
       " 71,\n",
       " 89,\n",
       " 120,\n",
       " 181,\n",
       " 160,\n",
       " 3,\n",
       " 12,\n",
       " 5,\n",
       " 16,\n",
       " 4,\n",
       " 12,\n",
       " 58,\n",
       " 10,\n",
       " 57,\n",
       " 101,\n",
       " 84,\n",
       " 2,\n",
       " 97,\n",
       " 40,\n",
       " 1,\n",
       " 10,\n",
       " 2,\n",
       " 7,\n",
       " 20,\n",
       " 3,\n",
       " 2,\n",
       " 3,\n",
       " 2,\n",
       " 4,\n",
       " 1,\n",
       " 49,\n",
       " 92,\n",
       " 6,\n",
       " 1,\n",
       " 3,\n",
       " 2,\n",
       " 92,\n",
       " 73,\n",
       " 111,\n",
       " 106,\n",
       " 5,\n",
       " 4,\n",
       " 6,\n",
       " 3,\n",
       " 175,\n",
       " 74,\n",
       " 2,\n",
       " 9,\n",
       " 134,\n",
       " 10,\n",
       " 87,\n",
       " 7,\n",
       " 3,\n",
       " 23,\n",
       " 44,\n",
       " 39,\n",
       " 20,\n",
       " 8,\n",
       " 7,\n",
       " 3,\n",
       " 90,\n",
       " 76,\n",
       " 0,\n",
       " 3,\n",
       " 115,\n",
       " 85,\n",
       " 169,\n",
       " 182,\n",
       " 79,\n",
       " 69,\n",
       " 27,\n",
       " 37,\n",
       " 9,\n",
       " 39,\n",
       " 8,\n",
       " 151,\n",
       " 106,\n",
       " 92,\n",
       " 45,\n",
       " 19,\n",
       " 2,\n",
       " 7,\n",
       " 2,\n",
       " 374,\n",
       " 4,\n",
       " 3,\n",
       " 81,\n",
       " 21,\n",
       " 252,\n",
       " 319,\n",
       " 0,\n",
       " 218,\n",
       " 5,\n",
       " 3,\n",
       " 1,\n",
       " 332,\n",
       " 11,\n",
       " 224,\n",
       " 126,\n",
       " 2,\n",
       " 1,\n",
       " 2,\n",
       " 49,\n",
       " 2,\n",
       " 5,\n",
       " 3,\n",
       " 3,\n",
       " 15,\n",
       " 25,\n",
       " 2,\n",
       " 28,\n",
       " 6,\n",
       " 289,\n",
       " 63,\n",
       " 122,\n",
       " 14,\n",
       " 56,\n",
       " 186,\n",
       " 19,\n",
       " 17,\n",
       " 279,\n",
       " 8,\n",
       " 5,\n",
       " 2,\n",
       " 4,\n",
       " 2,\n",
       " 3,\n",
       " 35,\n",
       " 115,\n",
       " 19,\n",
       " 16,\n",
       " 211,\n",
       " 7,\n",
       " 125,\n",
       " 13,\n",
       " 136,\n",
       " 20,\n",
       " 4,\n",
       " 305,\n",
       " 124,\n",
       " 5,\n",
       " 22,\n",
       " 61,\n",
       " 9,\n",
       " 211,\n",
       " 28,\n",
       " 108,\n",
       " 0,\n",
       " 72,\n",
       " 151,\n",
       " 7,\n",
       " 0,\n",
       " 1,\n",
       " 91,\n",
       " 470,\n",
       " 147,\n",
       " 12,\n",
       " 151,\n",
       " 91,\n",
       " 1,\n",
       " 1,\n",
       " 18,\n",
       " 119,\n",
       " 234,\n",
       " 193,\n",
       " 5,\n",
       " 73,\n",
       " 4,\n",
       " 16,\n",
       " 38,\n",
       " 29,\n",
       " 262,\n",
       " 69,\n",
       " 3,\n",
       " 16,\n",
       " 1,\n",
       " 125,\n",
       " 295,\n",
       " 5,\n",
       " 109,\n",
       " 429,\n",
       " 98,\n",
       " 30,\n",
       " 131,\n",
       " 293,\n",
       " 8,\n",
       " 2,\n",
       " 9,\n",
       " 6,\n",
       " 143,\n",
       " 8,\n",
       " 4,\n",
       " 1,\n",
       " 4,\n",
       " 10,\n",
       " 2,\n",
       " 11,\n",
       " 6,\n",
       " 44,\n",
       " 0,\n",
       " 1,\n",
       " 58,\n",
       " 9,\n",
       " 8,\n",
       " 5,\n",
       " 1,\n",
       " 6,\n",
       " 87,\n",
       " 9,\n",
       " 347,\n",
       " 6,\n",
       " 50,\n",
       " 4,\n",
       " 3,\n",
       " 4,\n",
       " 110,\n",
       " 44,\n",
       " 12,\n",
       " 3,\n",
       " 29,\n",
       " 0,\n",
       " 528,\n",
       " 367,\n",
       " 83,\n",
       " 7,\n",
       " 2,\n",
       " 3,\n",
       " 0,\n",
       " 35,\n",
       " 317,\n",
       " 6,\n",
       " 211,\n",
       " 3,\n",
       " 7,\n",
       " 3,\n",
       " 5,\n",
       " 27,\n",
       " 100,\n",
       " 89,\n",
       " 433,\n",
       " 422,\n",
       " 34,\n",
       " 7,\n",
       " 55,\n",
       " 353,\n",
       " 0,\n",
       " 3,\n",
       " 44,\n",
       " 256,\n",
       " 2,\n",
       " 6,\n",
       " 2,\n",
       " 21,\n",
       " 106,\n",
       " 6,\n",
       " 2,\n",
       " 11,\n",
       " 1,\n",
       " 8,\n",
       " 9,\n",
       " 659,\n",
       " 21,\n",
       " 7,\n",
       " 37,\n",
       " 3,\n",
       " 27,\n",
       " 30,\n",
       " 16,\n",
       " 2,\n",
       " 312,\n",
       " 411,\n",
       " 12,\n",
       " 67,\n",
       " 8,\n",
       " 8,\n",
       " 2,\n",
       " 9,\n",
       " 42,\n",
       " 0,\n",
       " 1,\n",
       " 9,\n",
       " 34,\n",
       " 5,\n",
       " 2,\n",
       " 4,\n",
       " 213,\n",
       " 4,\n",
       " 118,\n",
       " 7,\n",
       " 83,\n",
       " 2,\n",
       " 19,\n",
       " 339,\n",
       " 0,\n",
       " 23,\n",
       " 20,\n",
       " 6,\n",
       " 291,\n",
       " 1,\n",
       " 4,\n",
       " 57,\n",
       " 38,\n",
       " 188,\n",
       " 6,\n",
       " 68,\n",
       " 63,\n",
       " 35,\n",
       " 83,\n",
       " 345,\n",
       " 117,\n",
       " 4,\n",
       " 17,\n",
       " 15,\n",
       " 123,\n",
       " 53,\n",
       " 4,\n",
       " 2,\n",
       " 25,\n",
       " 203,\n",
       " 79,\n",
       " 9,\n",
       " 2,\n",
       " 10,\n",
       " 8,\n",
       " 21,\n",
       " 5,\n",
       " 1,\n",
       " 222,\n",
       " 9,\n",
       " 136,\n",
       " 8,\n",
       " 3,\n",
       " 108,\n",
       " 4,\n",
       " 19,\n",
       " 8,\n",
       " 5,\n",
       " 5,\n",
       " 3,\n",
       " 1,\n",
       " 19,\n",
       " 87,\n",
       " 24,\n",
       " 58,\n",
       " 109,\n",
       " 39,\n",
       " 5,\n",
       " 143,\n",
       " 0,\n",
       " 4,\n",
       " 199,\n",
       " 0,\n",
       " 439,\n",
       " 5,\n",
       " 0,\n",
       " 171,\n",
       " 5,\n",
       " 63,\n",
       " 251,\n",
       " 0,\n",
       " 129,\n",
       " 5,\n",
       " 150,\n",
       " 3,\n",
       " 45,\n",
       " 8,\n",
       " 1,\n",
       " 229,\n",
       " 133,\n",
       " 43,\n",
       " 40,\n",
       " 4,\n",
       " 163,\n",
       " 0,\n",
       " 9,\n",
       " 47,\n",
       " 598,\n",
       " 5,\n",
       " 20,\n",
       " 2,\n",
       " 2,\n",
       " 170,\n",
       " 0,\n",
       " 41,\n",
       " 0,\n",
       " 880,\n",
       " 7,\n",
       " 155,\n",
       " 143,\n",
       " 98,\n",
       " 1,\n",
       " 58,\n",
       " 106,\n",
       " 0,\n",
       " 0,\n",
       " 128,\n",
       " 4,\n",
       " 153,\n",
       " 330,\n",
       " 257,\n",
       " 275,\n",
       " 7,\n",
       " 8,\n",
       " 2,\n",
       " 40,\n",
       " 215,\n",
       " 83,\n",
       " 122,\n",
       " 0,\n",
       " 218,\n",
       " 2,\n",
       " 6,\n",
       " 146,\n",
       " 6,\n",
       " 2,\n",
       " 1,\n",
       " 1,\n",
       " 3,\n",
       " 173,\n",
       " 75,\n",
       " 4,\n",
       " 3,\n",
       " 23,\n",
       " 89,\n",
       " 15,\n",
       " 1,\n",
       " 11,\n",
       " 273,\n",
       " 18,\n",
       " 5,\n",
       " 15,\n",
       " 58,\n",
       " 23,\n",
       " 426,\n",
       " 33,\n",
       " 3,\n",
       " 3,\n",
       " 30,\n",
       " 16,\n",
       " 152,\n",
       " 0,\n",
       " 1,\n",
       " 2,\n",
       " 94,\n",
       " 4,\n",
       " 25,\n",
       " 79,\n",
       " 2,\n",
       " 3,\n",
       " 5,\n",
       " 3,\n",
       " 44,\n",
       " 0,\n",
       " 67,\n",
       " 1,\n",
       " 3,\n",
       " 7,\n",
       " 13,\n",
       " 4,\n",
       " 17,\n",
       " 4,\n",
       " 351,\n",
       " 99,\n",
       " 12,\n",
       " 12,\n",
       " 197,\n",
       " 231,\n",
       " 9,\n",
       " 20,\n",
       " 4,\n",
       " 190,\n",
       " 6,\n",
       " 3,\n",
       " 123,\n",
       " 3,\n",
       " 5,\n",
       " 3,\n",
       " 2,\n",
       " 3,\n",
       " 240,\n",
       " 3,\n",
       " 220,\n",
       " 356,\n",
       " 12,\n",
       " 127,\n",
       " 398,\n",
       " 72,\n",
       " 14,\n",
       " 392,\n",
       " 16,\n",
       " 14,\n",
       " 125,\n",
       " 1,\n",
       " 2,\n",
       " 263,\n",
       " 4,\n",
       " 75,\n",
       " 2,\n",
       " 18,\n",
       " 79,\n",
       " 23,\n",
       " 0,\n",
       " 159,\n",
       " 395,\n",
       " 64,\n",
       " 241,\n",
       " 14,\n",
       " 357,\n",
       " 91,\n",
       " 100,\n",
       " 54,\n",
       " 10,\n",
       " 0,\n",
       " 0,\n",
       " 81,\n",
       " 17,\n",
       " 193,\n",
       " 7,\n",
       " 3,\n",
       " 126,\n",
       " 75,\n",
       " 20,\n",
       " 86,\n",
       " 43,\n",
       " 20,\n",
       " 15,\n",
       " 30,\n",
       " 11,\n",
       " 14,\n",
       " 4,\n",
       " 151,\n",
       " 2,\n",
       " 32,\n",
       " 406,\n",
       " 1,\n",
       " 1,\n",
       " 4,\n",
       " 10,\n",
       " 2,\n",
       " 26,\n",
       " 7,\n",
       " 4,\n",
       " 26,\n",
       " 12,\n",
       " 16,\n",
       " 6,\n",
       " 32,\n",
       " 7,\n",
       " 1,\n",
       " 84,\n",
       " 13,\n",
       " 7,\n",
       " 7,\n",
       " 2,\n",
       " 3,\n",
       " 29,\n",
       " 0,\n",
       " 5,\n",
       " 3,\n",
       " 94,\n",
       " 3,\n",
       " 167,\n",
       " 7,\n",
       " 1,\n",
       " 210,\n",
       " 4,\n",
       " 2,\n",
       " 118,\n",
       " 54,\n",
       " 14,\n",
       " 5,\n",
       " 52,\n",
       " 1,\n",
       " 5,\n",
       " 65,\n",
       " 5,\n",
       " 2,\n",
       " 2,\n",
       " 2,\n",
       " 48,\n",
       " 5,\n",
       " 22,\n",
       " 4,\n",
       " 10,\n",
       " 235,\n",
       " 27,\n",
       " 38,\n",
       " 65,\n",
       " 64,\n",
       " 58,\n",
       " 4,\n",
       " 30,\n",
       " 98,\n",
       " 2,\n",
       " 21,\n",
       " 296,\n",
       " 5,\n",
       " 8,\n",
       " 1,\n",
       " 258,\n",
       " 7,\n",
       " 1,\n",
       " 5,\n",
       " 27,\n",
       " 8,\n",
       " 9,\n",
       " 1,\n",
       " 170,\n",
       " 38,\n",
       " 97,\n",
       " 152,\n",
       " 172,\n",
       " 3,\n",
       " 1,\n",
       " 2,\n",
       " 104,\n",
       " 1,\n",
       " 4,\n",
       " 392,\n",
       " 482,\n",
       " 126,\n",
       " 0,\n",
       " 0,\n",
       " 47,\n",
       " 2,\n",
       " 9,\n",
       " 11,\n",
       " 1,\n",
       " 114,\n",
       " 355,\n",
       " 5,\n",
       " 58,\n",
       " 570,\n",
       " 177,\n",
       " 249,\n",
       " 246,\n",
       " 177,\n",
       " 33,\n",
       " 2,\n",
       " 241,\n",
       " 2,\n",
       " 43,\n",
       " 91,\n",
       " 0,\n",
       " 262,\n",
       " 78,\n",
       " 0,\n",
       " 6,\n",
       " 183,\n",
       " 0,\n",
       " 4,\n",
       " 0,\n",
       " 46,\n",
       " 22,\n",
       " 84,\n",
       " 0,\n",
       " 0,\n",
       " 50,\n",
       " 1,\n",
       " 7,\n",
       " 15,\n",
       " 9,\n",
       " 88,\n",
       " 0,\n",
       " 9,\n",
       " 12,\n",
       " 3,\n",
       " 5,\n",
       " 11,\n",
       " 2,\n",
       " 4,\n",
       " 8,\n",
       " 6,\n",
       " 5,\n",
       " 129,\n",
       " 12,\n",
       " 44,\n",
       " 1,\n",
       " 3,\n",
       " 103,\n",
       " 6,\n",
       " 188,\n",
       " 1,\n",
       " 5,\n",
       " 19,\n",
       " 110,\n",
       " 11,\n",
       " 68,\n",
       " 4,\n",
       " 54,\n",
       " 469,\n",
       " 177,\n",
       " 1,\n",
       " 4,\n",
       " 5,\n",
       " 39,\n",
       " 2,\n",
       " 1,\n",
       " 11,\n",
       " 2,\n",
       " 30,\n",
       " 2,\n",
       " 231,\n",
       " 5,\n",
       " 4,\n",
       " 65,\n",
       " 9,\n",
       " 0,\n",
       " 3,\n",
       " 29,\n",
       " 0,\n",
       " 38,\n",
       " 5,\n",
       " 241,\n",
       " 192,\n",
       " 82,\n",
       " 156,\n",
       " 17,\n",
       " 472,\n",
       " 37,\n",
       " 8,\n",
       " 5,\n",
       " 73,\n",
       " 48,\n",
       " 62,\n",
       " 23,\n",
       " 51,\n",
       " 69,\n",
       " 17,\n",
       " 298,\n",
       " 56,\n",
       " 2,\n",
       " 15,\n",
       " 2,\n",
       " 4,\n",
       " 29,\n",
       " 230,\n",
       " 206,\n",
       " 0,\n",
       " 18,\n",
       " 4,\n",
       " 14,\n",
       " 30,\n",
       " 97,\n",
       " 8,\n",
       " 7,\n",
       " 1,\n",
       " 1,\n",
       " 1,\n",
       " 4,\n",
       " 1,\n",
       " 52,\n",
       " 2,\n",
       " 111,\n",
       " 6,\n",
       " 83,\n",
       " 16,\n",
       " 40,\n",
       " 0,\n",
       " 97,\n",
       " 119,\n",
       " 34,\n",
       " 73,\n",
       " 2,\n",
       " 4,\n",
       " 2,\n",
       " 2,\n",
       " 145,\n",
       " 39,\n",
       " 0,\n",
       " 3,\n",
       " 43,\n",
       " 3,\n",
       " 3,\n",
       " 3,\n",
       " ...]"
      ]
     },
     "execution_count": 12,
     "metadata": {},
     "output_type": "execute_result"
    }
   ],
   "source": [
    "dead_cell_duration_list"
   ]
  },
  {
   "cell_type": "code",
   "execution_count": 14,
   "metadata": {},
   "outputs": [],
   "source": [
    "overlap = dead_cell_duration_list[-1]"
   ]
  },
  {
   "cell_type": "code",
   "execution_count": 16,
   "metadata": {},
   "outputs": [
    {
     "data": {
      "text/plain": [
       "69"
      ]
     },
     "execution_count": 16,
     "metadata": {},
     "output_type": "execute_result"
    }
   ],
   "source": [
    "overlap"
   ]
  },
  {
   "cell_type": "code",
   "execution_count": 15,
   "metadata": {},
   "outputs": [
    {
     "data": {
      "text/plain": [
       "{'frame_indices': (866, 1050),\n",
       " 'apop_time': 981,\n",
       " 'spatial_occupancy_v_time_heatmap': array([[1.        , 1.        , 1.        , ..., 1.        , 1.        ,\n",
       "         1.        ],\n",
       "        [1.        , 1.        , 1.        , ..., 1.        , 1.        ,\n",
       "         1.        ],\n",
       "        [1.        , 1.        , 1.        , ..., 1.        , 1.        ,\n",
       "         1.        ],\n",
       "        ...,\n",
       "        [0.6620098 , 0.66145052, 0.6604696 , ..., 0.67730237, 0.67873223,\n",
       "         0.67976364],\n",
       "        [0.60574237, 0.60545467, 0.60491113, ..., 0.61338546, 0.61397595,\n",
       "         0.61440758],\n",
       "        [0.54914967, 0.55008957, 0.55271797, ..., 0.55826482, 0.55799562,\n",
       "         0.55727825]])}"
      ]
     },
     "execution_count": 15,
     "metadata": {},
     "output_type": "execute_result"
    }
   ],
   "source": [
    "occupancy[i]"
   ]
  },
  {
   "cell_type": "code",
   "execution_count": 20,
   "metadata": {},
   "outputs": [
    {
     "data": {
      "text/plain": [
       "<matplotlib.image.AxesImage at 0x7f81bc51eed0>"
      ]
     },
     "execution_count": 20,
     "metadata": {},
     "output_type": "execute_result"
    },
    {
     "data": {
      "image/png": "[encoded data removed]",
      "text/plain": [
       "<Figure size 432x288 with 1 Axes>"
      ]
     },
     "metadata": {
      "needs_background": "light"
     },
     "output_type": "display_data"
    }
   ],
   "source": [
    "plt.imshow(occupancy[i]['spatial_occupancy_v_time_heatmap'])"
   ]
  },
  {
   "cell_type": "code",
   "execution_count": 21,
   "metadata": {},
   "outputs": [],
   "source": [
    "hm = occupancy[i]['spatial_occupancy_v_time_heatmap']"
   ]
  },
  {
   "cell_type": "code",
   "execution_count": 42,
   "metadata": {},
   "outputs": [
    {
     "data": {
      "text/plain": [
       "(20, 185)"
      ]
     },
     "execution_count": 42,
     "metadata": {},
     "output_type": "execute_result"
    }
   ],
   "source": [
    "hm.shape"
   ]
  },
  {
   "cell_type": "code",
   "execution_count": 43,
   "metadata": {},
   "outputs": [
    {
     "data": {
      "text/plain": [
       "(20, 116)"
      ]
     },
     "execution_count": 43,
     "metadata": {},
     "output_type": "execute_result"
    }
   ],
   "source": [
    "hm[:,0:-69].shape"
   ]
  },
  {
   "cell_type": "code",
   "execution_count": 41,
   "metadata": {},
   "outputs": [
    {
     "data": {
      "text/plain": [
       "<matplotlib.colorbar.Colorbar at 0x7f81b5ce7f50>"
      ]
     },
     "execution_count": 41,
     "metadata": {},
     "output_type": "execute_result"
    },
    {
     "data": {
      "image/png": "[encoded data removed]",
      "text/plain": [
       "<Figure size 432x288 with 2 Axes>"
      ]
     },
     "metadata": {
      "needs_background": "light"
     },
     "output_type": "display_data"
    }
   ],
   "source": [
    "plt.imshow(hm[0:10,0:-69], aspect = 20)\n",
    "plt.colorbar()"
   ]
  },
  {
   "cell_type": "code",
   "execution_count": 44,
   "metadata": {},
   "outputs": [
    {
     "data": {
      "text/plain": [
       "(10, 116)"
      ]
     },
     "execution_count": 44,
     "metadata": {},
     "output_type": "execute_result"
    }
   ],
   "source": [
    "cropped_hm = hm[0:10,0:-69]\n",
    "cropped_hm.shape"
   ]
  },
  {
   "cell_type": "code",
   "execution_count": 45,
   "metadata": {},
   "outputs": [
    {
     "data": {
      "text/plain": [
       "array([1., 1., 1., 1., 1., 1., 1., 1., 1., 1.])"
      ]
     },
     "execution_count": 45,
     "metadata": {},
     "output_type": "execute_result"
    }
   ],
   "source": [
    "cropped_hm[:,-1]"
   ]
  },
  {
   "cell_type": "markdown",
   "metadata": {},
   "source": [
    "# figuring out how to append zeros to before and after cell duration"
   ]
  },
  {
   "cell_type": "code",
   "execution_count": 123,
   "metadata": {},
   "outputs": [
    {
     "data": {
      "text/plain": [
       "((10, 116), (10, 1))"
      ]
     },
     "execution_count": 123,
     "metadata": {},
     "output_type": "execute_result"
    }
   ],
   "source": [
    "test_array = np.zeros((10,116))\n",
    "addition = np.ones((10,1))#np.expand_dims(cropped_hm[:,-1], axis =1)\n",
    "test_array.shape, addition.shape"
   ]
  },
  {
   "cell_type": "code",
   "execution_count": 83,
   "metadata": {},
   "outputs": [],
   "source": [
    "new = np.append(test_array, addition, axis =1)"
   ]
  },
  {
   "cell_type": "code",
   "execution_count": 78,
   "metadata": {},
   "outputs": [
    {
     "data": {
      "text/plain": [
       "(10, 117)"
      ]
     },
     "execution_count": 78,
     "metadata": {},
     "output_type": "execute_result"
    }
   ],
   "source": [
    "new.shape"
   ]
  },
  {
   "cell_type": "code",
   "execution_count": 84,
   "metadata": {},
   "outputs": [
    {
     "data": {
      "text/plain": [
       "array([[0., 0., 0., ..., 0., 0., 1.],\n",
       "       [0., 0., 0., ..., 0., 0., 1.],\n",
       "       [0., 0., 0., ..., 0., 0., 1.],\n",
       "       ...,\n",
       "       [0., 0., 0., ..., 0., 0., 1.],\n",
       "       [0., 0., 0., ..., 0., 0., 1.],\n",
       "       [0., 0., 0., ..., 0., 0., 1.]])"
      ]
     },
     "execution_count": 84,
     "metadata": {},
     "output_type": "execute_result"
    }
   ],
   "source": [
    "new"
   ]
  },
  {
   "cell_type": "code",
   "execution_count": 118,
   "metadata": {},
   "outputs": [],
   "source": [
    "new = np.hstack((test_array, addition))"
   ]
  },
  {
   "cell_type": "code",
   "execution_count": 119,
   "metadata": {},
   "outputs": [
    {
     "data": {
      "text/plain": [
       "(10, 117)"
      ]
     },
     "execution_count": 119,
     "metadata": {},
     "output_type": "execute_result"
    }
   ],
   "source": [
    "new.shape"
   ]
  },
  {
   "cell_type": "code",
   "execution_count": 120,
   "metadata": {},
   "outputs": [
    {
     "data": {
      "text/plain": [
       "array([[0., 0., 0., ..., 0., 0., 1.],\n",
       "       [0., 0., 0., ..., 0., 0., 1.],\n",
       "       [0., 0., 0., ..., 0., 0., 1.],\n",
       "       ...,\n",
       "       [0., 0., 0., ..., 0., 0., 1.],\n",
       "       [0., 0., 0., ..., 0., 0., 1.],\n",
       "       [0., 0., 0., ..., 0., 0., 1.]])"
      ]
     },
     "execution_count": 120,
     "metadata": {},
     "output_type": "execute_result"
    }
   ],
   "source": [
    "new"
   ]
  },
  {
   "cell_type": "code",
   "execution_count": 121,
   "metadata": {},
   "outputs": [],
   "source": [
    "new = np.hstack((addition, test_array))"
   ]
  },
  {
   "cell_type": "code",
   "execution_count": 122,
   "metadata": {},
   "outputs": [
    {
     "data": {
      "text/plain": [
       "array([[1., 0., 0., ..., 0., 0., 0.],\n",
       "       [1., 0., 0., ..., 0., 0., 0.],\n",
       "       [1., 0., 0., ..., 0., 0., 0.],\n",
       "       ...,\n",
       "       [1., 0., 0., ..., 0., 0., 0.],\n",
       "       [1., 0., 0., ..., 0., 0., 0.],\n",
       "       [1., 0., 0., ..., 0., 0., 0.]])"
      ]
     },
     "execution_count": 122,
     "metadata": {},
     "output_type": "execute_result"
    }
   ],
   "source": [
    "new"
   ]
  },
  {
   "cell_type": "code",
   "execution_count": 126,
   "metadata": {},
   "outputs": [
    {
     "data": {
      "text/plain": [
       "(10, 400)"
      ]
     },
     "execution_count": 126,
     "metadata": {},
     "output_type": "execute_result"
    }
   ],
   "source": [
    "for i in range(0, 200-test_array.shape[1]):\n",
    "    test_array = np.hstack((addition, test_array))\n",
    "    #test_array = np.insert(test_array, (0,:), addition, axis =1)\n",
    "for i in range(0,200):\n",
    "    test_array = np.hstack((test_array, addition))\n",
    "    #test_array = np.append(test_array, addition, axis = 1)\n",
    "test_array.shape"
   ]
  },
  {
   "cell_type": "code",
   "execution_count": 128,
   "metadata": {},
   "outputs": [
    {
     "data": {
      "text/plain": [
       "<matplotlib.image.AxesImage at 0x7f81b514c7d0>"
      ]
     },
     "execution_count": 128,
     "metadata": {},
     "output_type": "execute_result"
    },
    {
     "data": {
      "image/png": "[encoded data removed]",
      "text/plain": [
       "<Figure size 432x288 with 1 Axes>"
      ]
     },
     "metadata": {
      "needs_background": "light"
     },
     "output_type": "display_data"
    }
   ],
   "source": [
    "plt.imshow(test_array, aspect = 20)"
   ]
  },
  {
   "cell_type": "code",
   "execution_count": 143,
   "metadata": {},
   "outputs": [
    {
     "data": {
      "text/plain": [
       "((10, 116), (10, 84))"
      ]
     },
     "execution_count": 143,
     "metadata": {},
     "output_type": "execute_result"
    }
   ],
   "source": [
    "test_array = np.zeros((10,116))\n",
    "addition = np.zeros((10, int(t_range/2-test_array.shape[1])))\n",
    "test_array.shape, addition.shape"
   ]
  },
  {
   "cell_type": "code",
   "execution_count": 144,
   "metadata": {},
   "outputs": [
    {
     "data": {
      "text/plain": [
       "(10, 200)"
      ]
     },
     "execution_count": 144,
     "metadata": {},
     "output_type": "execute_result"
    }
   ],
   "source": [
    "test_array = np.hstack((addition, test_array))\n",
    "test_array.shape"
   ]
  },
  {
   "cell_type": "markdown",
   "metadata": {},
   "source": [
    "# applying that over all heatmaps"
   ]
  },
  {
   "cell_type": "code",
   "execution_count": 137,
   "metadata": {},
   "outputs": [],
   "source": [
    "t_range = 400"
   ]
  },
  {
   "cell_type": "code",
   "execution_count": 188,
   "metadata": {},
   "outputs": [
    {
     "name": "stdout",
     "output_type": "stream",
     "text": [
      "(10, 400)\n",
      "(10, 400)\n",
      "(10, 400)\n",
      "(10, 400)\n",
      "(10, 400)\n",
      "(10, 400)\n",
      "(10, 400)\n"
     ]
    }
   ],
   "source": [
    "for j, i in enumerate(occupancy):\n",
    "    ### dead_cell_duration is the time spent as an apoptotic fragment after apoptosis time point\n",
    "    dead_cell_duration = occupancy[i]['frame_indices'][1]-occupancy[i]['apop_time']\n",
    "    ### cropped_hm has this excess fragment time cropped from the end of the heatmap\n",
    "    cropped_hm = occupancy[i]['spatial_occupancy_v_time_heatmap'][0:10,0:-dead_cell_duration]\n",
    "    ### crop again to trim front of heatmap if it exists >200\n",
    "    if cropped_hm.shape[1] > 200:\n",
    "        starting_index = cropped_hm.shape[1] -int(t_range/2)\n",
    "        cropped_hm = cropped_hm[:,starting_index:]\n",
    "    ### adding a pad of zeros to before the cell exists if it is younger than t_range/2 frames\n",
    "    if cropped_hm.shape[1]<t_range/2:\n",
    "        addition = np.zeros((10,int(t_range/2-cropped_hm.shape[1])))\n",
    "        cropped_hm = np.hstack((addition, cropped_hm))\n",
    "    ### continuing the weightmap as the last frame for t_range/2 after the cell exists\n",
    "    final_slice = np.expand_dims(cropped_hm[:,-1], axis =1)\n",
    "    for n in range(0,int(t_range/2)):\n",
    "        cropped_hm = np.hstack((cropped_hm, final_slice))\n",
    "    print(cropped_hm.shape)\n",
    "    if j >5:\n",
    "        break"
   ]
  },
  {
   "cell_type": "code",
   "execution_count": 191,
   "metadata": {},
   "outputs": [
    {
     "data": {
      "text/plain": [
       "{'frame_indices': (578, 1161),\n",
       " 'apop_time': 1010,\n",
       " 'spatial_occupancy_v_time_heatmap': array([[0.5539009 , 0.59350773, 0.61604013, ..., 1.        , 1.        ,\n",
       "         1.        ],\n",
       "        [0.51800443, 0.53133374, 0.53900809, ..., 1.        , 1.        ,\n",
       "         1.        ],\n",
       "        [0.51080266, 0.51878488, 0.52335899, ..., 0.97897484, 0.971037  ,\n",
       "         0.96511654],\n",
       "        ...,\n",
       "        [0.50154324, 0.50268355, 0.503337  , ..., 0.5508186 , 0.5498543 ,\n",
       "         0.54918788],\n",
       "        [0.50130276, 0.50130424, 0.50148773, ..., 0.54309443, 0.54133352,\n",
       "         0.53695435],\n",
       "        [0.46544343, 0.46296492, 0.46250538, ..., 0.48205137, 0.48091607,\n",
       "         0.47806255]])}"
      ]
     },
     "execution_count": 191,
     "metadata": {},
     "output_type": "execute_result"
    }
   ],
   "source": [
    "occupancy[i]"
   ]
  },
  {
   "cell_type": "code",
   "execution_count": 189,
   "metadata": {},
   "outputs": [
    {
     "data": {
      "text/plain": [
       "<matplotlib.image.AxesImage at 0x7f81b48f0250>"
      ]
     },
     "execution_count": 189,
     "metadata": {},
     "output_type": "execute_result"
    },
    {
     "data": {
      "image/png": "[encoded data removed]",
      "text/plain": [
       "<Figure size 432x288 with 1 Axes>"
      ]
     },
     "metadata": {
      "needs_background": "light"
     },
     "output_type": "display_data"
    }
   ],
   "source": [
    "plt.imshow(cropped_hm, aspect = 20)"
   ]
  },
  {
   "cell_type": "markdown",
   "metadata": {},
   "source": [
    "# to do\n",
    "\n",
    "1. Bin in to num_bins\n",
    "2. Weight each spatial bin according to area of ring\n",
    "3. Check it makes sense"
   ]
  },
  {
   "cell_type": "markdown",
   "metadata": {},
   "source": [
    "cropping a specific example weight map"
   ]
  },
  {
   "cell_type": "code",
   "execution_count": 192,
   "metadata": {},
   "outputs": [
    {
     "name": "stdout",
     "output_type": "stream",
     "text": [
      "GV0807_Pos3_18_RFP\n",
      "GV0807_Pos3_17_RFP\n",
      "GV0807_Pos3_51_RFP\n",
      "GV0807_Pos3_5_RFP\n",
      "GV0807_Pos3_4_RFP\n"
     ]
    }
   ],
   "source": [
    "for i in occupancy:\n",
    "    if 'GV0807_Pos3' in i:\n",
    "        print(i)"
   ]
  },
  {
   "cell_type": "code",
   "execution_count": 195,
   "metadata": {},
   "outputs": [
    {
     "name": "stdout",
     "output_type": "stream",
     "text": [
      "(10, 400)\n"
     ]
    },
    {
     "data": {
      "text/plain": [
       "<matplotlib.image.AxesImage at 0x7f81b4a6c250>"
      ]
     },
     "execution_count": 195,
     "metadata": {},
     "output_type": "execute_result"
    },
    {
     "data": {
      "image/png": "[encoded data removed]",
      "text/plain": [
       "<Figure size 432x288 with 1 Axes>"
      ]
     },
     "metadata": {
      "needs_background": "light"
     },
     "output_type": "display_data"
    }
   ],
   "source": [
    "i = 'GV0807_Pos3_18_RFP'\n",
    "dead_cell_duration = occupancy[i]['frame_indices'][1]-occupancy[i]['apop_time']\n",
    "### cropped_hm has this excess fragment time cropped from the end of the heatmap\n",
    "cropped_hm = occupancy[i]['spatial_occupancy_v_time_heatmap'][0:10,0:-dead_cell_duration]\n",
    "### crop again to trim front of heatmap if it exists >200\n",
    "if cropped_hm.shape[1] > 200:\n",
    "    starting_index = cropped_hm.shape[1] -int(t_range/2)\n",
    "    cropped_hm = cropped_hm[:,starting_index:]\n",
    "### adding a pad of zeros to before the cell exists if it is younger than t_range/2 frames\n",
    "if cropped_hm.shape[1]<t_range/2:\n",
    "    addition = np.zeros((10,int(t_range/2-cropped_hm.shape[1])))\n",
    "    cropped_hm = np.hstack((addition, cropped_hm))\n",
    "### continuing the weightmap as the last frame for t_range/2 after the cell exists\n",
    "final_slice = np.expand_dims(cropped_hm[:,-1], axis =1)\n",
    "for n in range(0,int(t_range/2)):\n",
    "    cropped_hm = np.hstack((cropped_hm, final_slice))\n",
    "print(cropped_hm.shape)\n",
    "plt.imshow(cropped_hm, aspect = 20)"
   ]
  },
  {
   "cell_type": "code",
   "execution_count": 196,
   "metadata": {},
   "outputs": [
    {
     "data": {
      "text/plain": [
       "503"
      ]
     },
     "execution_count": 196,
     "metadata": {},
     "output_type": "execute_result"
    }
   ],
   "source": [
    "occupancy[i]['apop_time']"
   ]
  }
 ],
 "metadata": {
  "kernelspec": {
   "display_name": "Python 3",
   "language": "python",
   "name": "python3"
  },
  "language_info": {
   "codemirror_mode": {
    "name": "ipython",
    "version": 3
   },
   "file_extension": ".py",
   "mimetype": "text/x-python",
   "name": "python",
   "nbconvert_exporter": "python",
   "pygments_lexer": "ipython3",
   "version": "3.7.4"
  }
 },
 "nbformat": 4,
 "nbformat_minor": 2
}
