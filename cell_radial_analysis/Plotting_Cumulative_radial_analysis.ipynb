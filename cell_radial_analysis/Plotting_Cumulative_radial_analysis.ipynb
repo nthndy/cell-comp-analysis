{
 "cells": [
  {
   "cell_type": "markdown",
   "metadata": {},
   "source": [
    "# Plotting the output from Cumulative event counter"
   ]
  },
  {
   "cell_type": "markdown",
   "metadata": {},
   "source": [
    "### Shortened notebook just for plotting\n",
    "\n",
    "1. ~Load dictionary of apoptoses and their corresponding times to base the spatiotemporal scans around~ \n",
    "2. ~Load corresponding tracking data and specify scan parameters~\n",
    "3. ~Iteratively calculate spatiotemporal distribution of cellular events around apoptoses, saving each distribution out as a .npy distance-time heatmap~\n",
    "4. **Compile list of spatiotemporal heatmaps as cumulative heatmap**\n",
    "5. ~Misc. section: comparing different experimental conditions~"
   ]
  },
  {
   "cell_type": "code",
   "execution_count": 1,
   "metadata": {},
   "outputs": [],
   "source": [
    "import calculate_radial_analysis as calculate\n",
    "import tools\n",
    "import render\n",
    "\n",
    "import json\n",
    "import glob\n",
    "import os\n",
    "import re\n",
    "import numpy as np\n",
    "from natsort import natsorted\n",
    "from tqdm import tqdm\n",
    "import matplotlib.pyplot as plt\n",
    "from pathlib import Path"
   ]
  },
  {
   "cell_type": "markdown",
   "metadata": {},
   "source": [
    "# Set parameters"
   ]
  },
  {
   "cell_type": "code",
   "execution_count": 2,
   "metadata": {},
   "outputs": [],
   "source": [
    "#params = {}\n",
    "num_bins = 20\n",
    "radius = 800\n",
    "t_range = 800\n",
    "\n",
    "focal_cell = 'Scr'#'WT'\n",
    "focal_event = 'APOPTOSIS'#'APOPTOSIS'\n",
    "subject_cell = 'WT' #'WT'\n",
    "subject_event = 'DIVISION'\n",
    "\n",
    "save_parent_dir = '/home/nathan/data/kraken/h2b/giulia/radial_analysis_output/cumulative_plots/scr_apop_wt_div'"
   ]
  },
  {
   "cell_type": "markdown",
   "metadata": {},
   "source": [
    "## 4) Compile individual heatmaps into cumulative plots "
   ]
  },
  {
   "cell_type": "markdown",
   "metadata": {},
   "source": [
    "Compile cumulative heatmap by iteratively adding single-apoptosis heatmaps from previous output or different pre-established output "
   ]
  },
  {
   "cell_type": "code",
   "execution_count": null,
   "metadata": {},
   "outputs": [],
   "source": [
    "/home/nathan/data/kraken/h2b/giulia/radial_analysis_output/individual_spatiotemporal_heatmaps/800,20/scr_apop_wt_div/temporal_occupancy_adjusted"
   ]
  },
  {
   "cell_type": "code",
   "execution_count": 5,
   "metadata": {},
   "outputs": [
    {
     "data": {
      "text/plain": [
       "1839"
      ]
     },
     "execution_count": 5,
     "metadata": {},
     "output_type": "execute_result"
    }
   ],
   "source": [
    "#single_cell_heatmap_location = output_path\n",
    "single_cell_heatmap_location = '/home/nathan/data/kraken/h2b/giulia/radial_analysis_output/individual_spatiotemporal_heatmaps/{},{}/{}_{}_{}_{}/temporal_occupancy_adjusted'.format(radius, num_bins, focal_cell.lower(), 'div' if focal_event == 'DIVISION' else 'apop', subject_cell.lower(), 'div' if subject_event == 'DIVISION' else 'apop') ## this is what happens when i have too much coffee\n",
    "N_cells, N_events = np.zeros((num_bins, num_bins)), np.zeros((num_bins, num_bins))\n",
    "N = 0\n",
    "for heatmap_ID in natsorted(os.listdir(single_cell_heatmap_location)):\n",
    "    if 'N_cells' in heatmap_ID:\n",
    "        N_cells += np.load(os.path.join(single_cell_heatmap_location,heatmap_ID))\n",
    "    if 'N_events' in heatmap_ID:\n",
    "        N_events += np.load(os.path.join(single_cell_heatmap_location,heatmap_ID))\n",
    "        N+=1\n",
    "P_events = N_events/N_cells\n",
    "N"
   ]
  },
  {
   "cell_type": "code",
   "execution_count": 10,
   "metadata": {},
   "outputs": [
    {
     "data": {
      "text/plain": [
       "array([[ 0.,  0.,  0.,  0.,  0.,  0.,  0.,  0.,  0.,  0., nan, nan, nan,\n",
       "        nan, nan, nan, nan, nan, nan, nan],\n",
       "       [ 0.,  0.,  0.,  0.,  0.,  0.,  0.,  0.,  0.,  0., nan, nan, nan,\n",
       "        nan, nan, nan, nan, nan, nan, nan],\n",
       "       [ 0.,  0.,  0.,  0.,  0.,  0.,  0.,  0.,  0.,  0., nan, nan, nan,\n",
       "        nan, nan, nan, nan, nan, nan, nan],\n",
       "       [ 0.,  0.,  0.,  2.,  0.,  0.,  0.,  0.,  0.,  0., nan, nan, nan,\n",
       "        nan, nan, nan, nan, nan, nan, nan],\n",
       "       [ 0.,  1.,  0.,  0.,  0.,  0.,  0.,  1.,  0.,  0., nan, nan, nan,\n",
       "        nan, nan, nan, nan, nan, nan, nan],\n",
       "       [ 0.,  0.,  2.,  0.,  0.,  0.,  0.,  0.,  0.,  2., nan, nan, nan,\n",
       "        nan, nan, nan, nan, nan, nan, nan],\n",
       "       [ 0.,  0.,  0.,  0.,  0.,  1.,  0.,  1.,  1.,  0., nan, nan, nan,\n",
       "        nan, nan, nan, nan, nan, nan, nan],\n",
       "       [ 0.,  0.,  0.,  1.,  0.,  0.,  0.,  0.,  0.,  0., nan, nan, nan,\n",
       "        nan, nan, nan, nan, nan, nan, nan],\n",
       "       [ 0.,  0.,  0.,  0.,  0.,  0.,  0.,  1.,  0.,  0., nan, nan, nan,\n",
       "        nan, nan, nan, nan, nan, nan, nan],\n",
       "       [ 0.,  1.,  0.,  0.,  0.,  1.,  2.,  0.,  1.,  0., nan, nan, nan,\n",
       "        nan, nan, nan, nan, nan, nan, nan],\n",
       "       [ 0.,  0.,  0.,  0.,  0.,  0.,  0.,  2.,  0.,  0., nan, nan, nan,\n",
       "        nan, nan, nan, nan, nan, nan, nan],\n",
       "       [ 0.,  0.,  1.,  1.,  0.,  1.,  0.,  0.,  0.,  1., nan, nan, nan,\n",
       "        nan, nan, nan, nan, nan, nan, nan],\n",
       "       [ 0.,  0.,  0.,  1.,  0.,  0.,  0.,  1.,  0.,  2., nan, nan, nan,\n",
       "        nan, nan, nan, nan, nan, nan, nan],\n",
       "       [ 0.,  1.,  1.,  0.,  0.,  0.,  0.,  2.,  0.,  1., nan, nan, nan,\n",
       "        nan, nan, nan, nan, nan, nan, nan],\n",
       "       [ 0.,  2.,  1.,  0.,  1.,  0.,  1.,  1.,  1.,  1., nan, nan, nan,\n",
       "        nan, nan, nan, nan, nan, nan, nan],\n",
       "       [ 0.,  1.,  0.,  1.,  0.,  1.,  3.,  0.,  0.,  1., nan, nan, nan,\n",
       "        nan, nan, nan, nan, nan, nan, nan],\n",
       "       [ 0.,  0.,  0.,  1.,  0.,  0.,  0.,  1.,  0.,  0., nan, nan, nan,\n",
       "        nan, nan, nan, nan, nan, nan, nan],\n",
       "       [ 0.,  0.,  0.,  0.,  0.,  0.,  1.,  1.,  0.,  0., nan, nan, nan,\n",
       "        nan, nan, nan, nan, nan, nan, nan],\n",
       "       [ 0.,  0.,  0.,  0.,  0.,  0.,  0.,  0.,  1.,  0., nan, nan, nan,\n",
       "        nan, nan, nan, nan, nan, nan, nan],\n",
       "       [ 1.,  0.,  0.,  1.,  0.,  1.,  1.,  0.,  2.,  1., nan, nan, nan,\n",
       "        nan, nan, nan, nan, nan, nan, nan]])"
      ]
     },
     "execution_count": 10,
     "metadata": {},
     "output_type": "execute_result"
    }
   ],
   "source": [
    "np.load(os.path.join(single_cell_heatmap_location,heatmap_ID))"
   ]
  },
  {
   "cell_type": "code",
   "execution_count": 8,
   "metadata": {},
   "outputs": [
    {
     "data": {
      "text/plain": [
       "<matplotlib.image.AxesImage at 0x7f284f6b34d0>"
      ]
     },
     "execution_count": 8,
     "metadata": {},
     "output_type": "execute_result"
    },
    {
     "data": {
      "image/png": "[encoded data removed]",
      "text/plain": [
       "<Figure size 432x288 with 1 Axes>"
      ]
     },
     "metadata": {
      "needs_background": "light"
     },
     "output_type": "display_data"
    }
   ],
   "source": [
    "plt.imshow(N_cells)"
   ]
  },
  {
   "cell_type": "code",
   "execution_count": 6,
   "metadata": {},
   "outputs": [
    {
     "name": "stdout",
     "output_type": "stream",
     "text": [
      "The number of WT cells counted is equal to =  nan\n"
     ]
    }
   ],
   "source": [
    "print(\"The number of {} cells counted is equal to = \".format(subject_cell), N_cells.sum())"
   ]
  },
  {
   "cell_type": "markdown",
   "metadata": {},
   "source": [
    "Function to plot heatmaps: \n",
    "\n",
    "`render.auto_plot_cumulative(input_2d_hist, input_type, num_bins, radius, t_range, title, expt_label, cb_label, save_path, SI = True)`\n",
    "\n",
    "Where the variables needed are as follows:\n",
    "\n",
    "- `input_2d_hist` = Input 2D histogram\n",
    "- `input_type` = String version of input variable name\n",
    "- `num_bins` = Number of bins the histogram is sorted into\n",
    "- `radius` = Spatial extent of scan\n",
    "- `t_range` = Temporal range of scan\n",
    "- `focal_cell` = Cell type that is the focal point of the scan \n",
    "- `focal_event` = Event type that is the focal point of the scan \n",
    "- `subject_cell` = Cell type that is scanned over\n",
    "- `subject_event` = Event type that is the scanned over \n",
    "- `save_parent_dir` = Root directory into which different plots will be saved according to scan parameters \n",
    "- `SI` = If True then plots the xy in SI base unit instead of pixel/frames"
   ]
  },
  {
   "cell_type": "code",
   "execution_count": 7,
   "metadata": {},
   "outputs": [
    {
     "name": "stdout",
     "output_type": "stream",
     "text": [
      "Plot saved at  /home/nathan/data/kraken/h2b/giulia/radial_analysis_output/cumulative_plots/scr_apop_wt_div/800,20/scr_apop_wt_div/Spatiotemporal dist. of probability of wild-type apoptoses \n",
      " around Scribble apoptoses (N=1839).pdf\n"
     ]
    },
    {
     "data": {
      "text/plain": [
       "<matplotlib.image.AxesImage at 0x7f285250b610>"
      ]
     },
     "execution_count": 7,
     "metadata": {},
     "output_type": "execute_result"
    },
    {
     "name": "stderr",
     "output_type": "stream",
     "text": [
      "/home/nathan/anaconda3/lib/python3.7/site-packages/matplotlib/image.py:397: UserWarning: Warning: converting a masked element to nan.\n",
      "  dv = (np.float64(self.norm.vmax) -\n",
      "/home/nathan/anaconda3/lib/python3.7/site-packages/matplotlib/image.py:398: UserWarning: Warning: converting a masked element to nan.\n",
      "  np.float64(self.norm.vmin))\n",
      "/home/nathan/anaconda3/lib/python3.7/site-packages/matplotlib/image.py:405: UserWarning: Warning: converting a masked element to nan.\n",
      "  a_min = np.float64(newmin)\n",
      "/home/nathan/anaconda3/lib/python3.7/site-packages/matplotlib/image.py:410: UserWarning: Warning: converting a masked element to nan.\n",
      "  a_max = np.float64(newmax)\n",
      "<string>:6: UserWarning: Warning: converting a masked element to nan.\n",
      "/home/nathan/anaconda3/lib/python3.7/site-packages/numpy/ma/core.py:717: UserWarning: Warning: converting a masked element to nan.\n",
      "  data = np.array(a, copy=False, subok=subok)\n"
     ]
    },
    {
     "data": {
      "image/png": "[encoded data removed]",
      "text/plain": [
       "<Figure size 432x288 with 2 Axes>"
      ]
     },
     "metadata": {
      "needs_background": "light"
     },
     "output_type": "display_data"
    }
   ],
   "source": [
    "render.auto_plot_cumulative(P_events,\n",
    "                     'P_events',\n",
    "                      N,\n",
    "                      num_bins  ,\n",
    "                      radius ,\n",
    "                      t_range , \n",
    "                      focal_cell, \n",
    "                      focal_event, \n",
    "                      subject_cell, \n",
    "                      subject_event, \n",
    "                      save_parent_dir , \n",
    "                      SI = True)"
   ]
  }
 ],
 "metadata": {
  "kernelspec": {
   "display_name": "Python 3",
   "language": "python",
   "name": "python3"
  },
  "language_info": {
   "codemirror_mode": {
    "name": "ipython",
    "version": 3
   },
   "file_extension": ".py",
   "mimetype": "text/x-python",
   "name": "python",
   "nbconvert_exporter": "python",
   "pygments_lexer": "ipython3",
   "version": "3.7.4"
  }
 },
 "nbformat": 4,
 "nbformat_minor": 4
}
