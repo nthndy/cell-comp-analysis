{
 "cells": [
  {
   "cell_type": "markdown",
   "metadata": {},
   "source": [
    "# Event finder \n",
    "\n",
    "This notebook will find \"events\" in the simplest definition i.e. a loser cell apoptosis or a winner cell "
   ]
  },
  {
   "cell_type": "markdown",
   "metadata": {},
   "source": [
    "To-do: \n",
    "- [x] Input HDF5 file which includes necessary information of x, y, t, fate\n",
    "- [x] Identify a loser apoptosis x, y, t by invoking tracks[1] for Scr cells and sorting via fate by using tracks[1].fate\n",
    "- [x] Define the exact time point of a loser cell apoptosis, how many frames it is classed as an apoptosis before the actual event (mainly ensuring false apoptoses aren’t included) \n",
    "- [ ] Screen all other tracks in the vicinity of previously obtained x, y, t by using if statement\n",
    "- [ ] Screen further by excluding all tracks[0].fate =! division\n",
    "- [ ] Repeat if statement for differing spatiotemporal ‘local environments’, increasing x, y, t  to count instances of mitosis across the whole monolayer over the whole experiment. \n",
    "- [ ] Assess viability of capturing a whole experiment in a single heat map, reduce scope if this is unviable. \n",
    "\n",
    "Refreshed to-do/different approach: \n",
    "- [x] find competitive event using list comprehension\n",
    "- [ ] remember how to find cells not using index but cell ID\n",
    "- [ ] write a function that parses that track(?) and finds local cells nearby\n"
   ]
  },
  {
   "cell_type": "markdown",
   "metadata": {},
   "source": [
    "### Load data"
   ]
  },
  {
   "cell_type": "code",
   "execution_count": 10,
   "metadata": {},
   "outputs": [
    {
     "name": "stdout",
     "output_type": "stream",
     "text": [
      "version no.: 0.3.13\n"
     ]
    }
   ],
   "source": [
    "import btrack\n",
    "print(\"version no.:\", btrack.__version__)\n",
    "from btrack.utils import import_HDF, import_JSON"
   ]
  },
  {
   "cell_type": "code",
   "execution_count": 11,
   "metadata": {},
   "outputs": [
    {
     "name": "stderr",
     "output_type": "stream",
     "text": [
      "[INFO][2020/11/06 05:12:57 PM] Opening HDF file: /home/nathan/data/kraken/h2b/giulia/GV0807/Pos3/Pos3_aligned/HDF/segmented.hdf5...\n",
      "[INFO][2020/11/06 05:12:57 PM] Loading tracks/obj_type_1\n",
      "[INFO][2020/11/06 05:13:00 PM] Loading objects/obj_type_1 (408973, 5) (388394 filtered: area>=100)\n",
      "[INFO][2020/11/06 05:13:03 PM] Closing HDF file: /home/nathan/data/kraken/h2b/giulia/GV0807/Pos3/Pos3_aligned/HDF/segmented.hdf5\n",
      "[INFO][2020/11/06 05:13:03 PM] Opening HDF file: /home/nathan/data/kraken/h2b/giulia/GV0807/Pos3/Pos3_aligned/HDF/segmented.hdf5...\n",
      "[INFO][2020/11/06 05:13:03 PM] Loading tracks/obj_type_2\n",
      "[INFO][2020/11/06 05:13:03 PM] Loading objects/obj_type_2 (12115, 5) (8894 filtered: area>=100)\n",
      "[INFO][2020/11/06 05:13:03 PM] Closing HDF file: /home/nathan/data/kraken/h2b/giulia/GV0807/Pos3/Pos3_aligned/HDF/segmented.hdf5\n"
     ]
    },
    {
     "name": "stdout",
     "output_type": "stream",
     "text": [
      "Track information loaded\n"
     ]
    }
   ],
   "source": [
    "filename ='/home/nathan/data/kraken/h2b/giulia/GV0807/Pos3/Pos3_aligned/HDF/segmented.hdf5'\n",
    "with btrack.dataio.HDF5FileHandler(filename, 'r', obj_type = \"obj_type_1\") as h:\n",
    "    wt_tracks = h.tracks\n",
    "with btrack.dataio.HDF5FileHandler(filename, 'r', obj_type = \"obj_type_2\") as h:\n",
    "    scr_tracks = h.tracks\n",
    "#scr_tracks = (tracks[1]) \n",
    "#wt_tracks = (tracks[0]) #initially, tracks[0] is the tracks for cell type 0 (ie, WT or Scr etc)\n",
    "print(\"Track information loaded\")"
   ]
  },
  {
   "cell_type": "markdown",
   "metadata": {},
   "source": [
    "## Find event"
   ]
  },
  {
   "cell_type": "markdown",
   "metadata": {},
   "source": [
    "#### Display track information"
   ]
  },
  {
   "cell_type": "code",
   "execution_count": 131,
   "metadata": {},
   "outputs": [
    {
     "name": "stdout",
     "output_type": "stream",
     "text": [
      "ID: 1 APOPTOSIS length: 913 final time point: 912\n",
      "ID: 3 APOPTOSIS length: 1176 final time point: 1175\n",
      "ID: 4 APOPTOSIS length: 1175 final time point: 1174\n",
      "ID: 6 APOPTOSIS length: 91 final time point: 91\n",
      "ID: 10 APOPTOSIS length: 54 final time point: 171\n",
      "ID: 11 APOPTOSIS length: 16 final time point: 175\n",
      "ID: 16 APOPTOSIS length: 706 final time point: 1059\n",
      "ID: 17 APOPTOSIS length: 388 final time point: 742\n",
      "ID: 18 APOPTOSIS length: 199 final time point: 573\n",
      "ID: 29 APOPTOSIS length: 349 final time point: 920\n",
      "ID: 38 APOPTOSIS length: 3 final time point: 729\n",
      "ID: 46 APOPTOSIS length: 7 final time point: 766\n",
      "ID: 47 APOPTOSIS length: 167 final time point: 935\n",
      "ID: 50 APOPTOSIS length: 371 final time point: 1175\n",
      "ID: 54 APOPTOSIS length: 18 final time point: 900\n",
      "ID: 56 APOPTOSIS length: 291 final time point: 1175\n",
      "ID: 58 APOPTOSIS length: 289 final time point: 1175\n",
      "ID: 60 APOPTOSIS length: 3 final time point: 892\n",
      "ID: 65 APOPTOSIS length: 55 final time point: 967\n",
      "ID: 66 APOPTOSIS length: 3 final time point: 918\n",
      "ID: 67 APOPTOSIS length: 111 final time point: 1033\n",
      "ID: 71 APOPTOSIS length: 16 final time point: 950\n",
      "ID: 72 APOPTOSIS length: 28 final time point: 964\n",
      "ID: 74 APOPTOSIS length: 3 final time point: 950\n",
      "ID: 78 APOPTOSIS length: 4 final time point: 964\n",
      "ID: 82 APOPTOSIS length: 11 final time point: 977\n",
      "ID: 85 APOPTOSIS length: 5 final time point: 973\n",
      "ID: 87 APOPTOSIS length: 3 final time point: 972\n",
      "ID: 90 APOPTOSIS length: 7 final time point: 983\n",
      "ID: 96 APOPTOSIS length: 12 final time point: 998\n",
      "ID: 98 APOPTOSIS length: 5 final time point: 994\n",
      "ID: 99 APOPTOSIS length: 4 final time point: 993\n",
      "ID: 100 APOPTOSIS length: 27 final time point: 1019\n",
      "ID: 102 APOPTOSIS length: 4 final time point: 1010\n",
      "ID: 105 APOPTOSIS length: 9 final time point: 1021\n",
      "ID: 111 APOPTOSIS length: 7 final time point: 1038\n",
      "ID: 112 APOPTOSIS length: 12 final time point: 1043\n",
      "ID: 119 APOPTOSIS length: 17 final time point: 1064\n",
      "ID: 120 APOPTOSIS length: 14 final time point: 1062\n",
      "ID: 122 APOPTOSIS length: 126 final time point: 1175\n",
      "ID: 124 APOPTOSIS length: 3 final time point: 1052\n",
      "ID: 135 APOPTOSIS length: 13 final time point: 1071\n",
      "ID: 140 APOPTOSIS length: 3 final time point: 1064\n",
      "ID: 141 APOPTOSIS length: 3 final time point: 1064\n",
      "ID: 142 APOPTOSIS length: 58 final time point: 1119\n",
      "ID: 143 APOPTOSIS length: 11 final time point: 1072\n",
      "ID: 150 APOPTOSIS length: 4 final time point: 1074\n",
      "ID: 152 APOPTOSIS length: 14 final time point: 1089\n",
      "ID: 153 APOPTOSIS length: 4 final time point: 1080\n",
      "ID: 158 APOPTOSIS length: 14 final time point: 1095\n",
      "ID: 162 APOPTOSIS length: 5 final time point: 1093\n",
      "ID: 166 APOPTOSIS length: 18 final time point: 1109\n",
      "ID: 165 APOPTOSIS length: 33 final time point: 1124\n",
      "ID: 167 APOPTOSIS length: 23 final time point: 1116\n",
      "ID: 170 APOPTOSIS length: 3 final time point: 1105\n",
      "ID: 171 APOPTOSIS length: 11 final time point: 1113\n",
      "ID: 176 APOPTOSIS length: 23 final time point: 1134\n",
      "ID: 179 APOPTOSIS length: 3 final time point: 1118\n",
      "ID: 182 APOPTOSIS length: 9 final time point: 1131\n",
      "ID: 183 APOPTOSIS length: 6 final time point: 1130\n",
      "ID: 185 APOPTOSIS length: 6 final time point: 1134\n",
      "ID: 186 APOPTOSIS length: 9 final time point: 1137\n",
      "ID: 189 APOPTOSIS length: 27 final time point: 1160\n",
      "ID: 192 APOPTOSIS length: 40 final time point: 1175\n",
      "ID: 194 APOPTOSIS length: 4 final time point: 1141\n",
      "ID: 197 APOPTOSIS length: 4 final time point: 1145\n",
      "ID: 198 APOPTOSIS length: 3 final time point: 1147\n",
      "ID: 206 APOPTOSIS length: 13 final time point: 1168\n"
     ]
    },
    {
     "data": {
      "text/plain": [
       "[None,\n",
       " None,\n",
       " None,\n",
       " None,\n",
       " None,\n",
       " None,\n",
       " None,\n",
       " None,\n",
       " None,\n",
       " None,\n",
       " None,\n",
       " None,\n",
       " None,\n",
       " None,\n",
       " None,\n",
       " None,\n",
       " None,\n",
       " None,\n",
       " None,\n",
       " None,\n",
       " None,\n",
       " None,\n",
       " None,\n",
       " None,\n",
       " None,\n",
       " None,\n",
       " None,\n",
       " None,\n",
       " None,\n",
       " None,\n",
       " None,\n",
       " None,\n",
       " None,\n",
       " None,\n",
       " None,\n",
       " None,\n",
       " None,\n",
       " None,\n",
       " None,\n",
       " None,\n",
       " None,\n",
       " None,\n",
       " None,\n",
       " None,\n",
       " None,\n",
       " None,\n",
       " None,\n",
       " None,\n",
       " None,\n",
       " None,\n",
       " None,\n",
       " None,\n",
       " None,\n",
       " None,\n",
       " None,\n",
       " None,\n",
       " None,\n",
       " None,\n",
       " None,\n",
       " None,\n",
       " None,\n",
       " None,\n",
       " None,\n",
       " None,\n",
       " None,\n",
       " None,\n",
       " None,\n",
       " None]"
      ]
     },
     "execution_count": 131,
     "metadata": {},
     "output_type": "execute_result"
    }
   ],
   "source": [
    "### this list comp shows scr cell IDs that have apoptosed and their length\n",
    "[print(\"ID:\", scr_track.ID, scr_track.fate.name, \"length:\", len(scr_track), \"final time point:\", scr_track.t[-1])  for scr_track in scr_tracks if scr_track.fate.name == \"APOPTOSIS\"]"
   ]
  },
  {
   "cell_type": "markdown",
   "metadata": {},
   "source": [
    "#### Filter tracks to only include scr apoptosis"
   ]
  },
  {
   "cell_type": "code",
   "execution_count": 92,
   "metadata": {
    "scrolled": true
   },
   "outputs": [],
   "source": [
    "### scr_apop is all the scr tracks that have apoptosed\n",
    "scr_apops = [scr_track for scr_track in scr_tracks if scr_track.fate.name == \"APOPTOSIS\"]"
   ]
  },
  {
   "cell_type": "markdown",
   "metadata": {},
   "source": [
    "#### Display track ID alongside list index"
   ]
  },
  {
   "cell_type": "code",
   "execution_count": 127,
   "metadata": {
    "scrolled": true
   },
   "outputs": [
    {
     "name": "stdout",
     "output_type": "stream",
     "text": [
      "apoptosis ID 1 index 0\n",
      "apoptosis ID 3 index 1\n",
      "apoptosis ID 4 index 2\n",
      "apoptosis ID 6 index 3\n",
      "apoptosis ID 10 index 4\n",
      "apoptosis ID 11 index 5\n",
      "apoptosis ID 16 index 6\n",
      "apoptosis ID 17 index 7\n",
      "apoptosis ID 18 index 8\n",
      "apoptosis ID 29 index 9\n",
      "apoptosis ID 38 index 10\n",
      "apoptosis ID 46 index 11\n",
      "apoptosis ID 47 index 12\n",
      "apoptosis ID 50 index 13\n",
      "apoptosis ID 54 index 14\n",
      "apoptosis ID 56 index 15\n",
      "apoptosis ID 58 index 16\n",
      "apoptosis ID 60 index 17\n",
      "apoptosis ID 65 index 18\n",
      "apoptosis ID 66 index 19\n",
      "apoptosis ID 67 index 20\n",
      "apoptosis ID 71 index 21\n",
      "apoptosis ID 72 index 22\n",
      "apoptosis ID 74 index 23\n",
      "apoptosis ID 78 index 24\n",
      "apoptosis ID 82 index 25\n",
      "apoptosis ID 85 index 26\n",
      "apoptosis ID 87 index 27\n",
      "apoptosis ID 90 index 28\n",
      "apoptosis ID 96 index 29\n",
      "apoptosis ID 98 index 30\n",
      "apoptosis ID 99 index 31\n",
      "apoptosis ID 100 index 32\n",
      "apoptosis ID 102 index 33\n",
      "apoptosis ID 105 index 34\n",
      "apoptosis ID 111 index 35\n",
      "apoptosis ID 112 index 36\n",
      "apoptosis ID 119 index 37\n",
      "apoptosis ID 120 index 38\n",
      "apoptosis ID 122 index 39\n",
      "apoptosis ID 124 index 40\n",
      "apoptosis ID 135 index 41\n",
      "apoptosis ID 140 index 42\n",
      "apoptosis ID 141 index 43\n",
      "apoptosis ID 142 index 44\n",
      "apoptosis ID 143 index 45\n",
      "apoptosis ID 150 index 46\n",
      "apoptosis ID 152 index 47\n",
      "apoptosis ID 153 index 48\n",
      "apoptosis ID 158 index 49\n",
      "apoptosis ID 162 index 50\n",
      "apoptosis ID 166 index 51\n",
      "apoptosis ID 165 index 52\n",
      "apoptosis ID 167 index 53\n",
      "apoptosis ID 170 index 54\n",
      "apoptosis ID 171 index 55\n",
      "apoptosis ID 176 index 56\n",
      "apoptosis ID 179 index 57\n",
      "apoptosis ID 182 index 58\n",
      "apoptosis ID 183 index 59\n",
      "apoptosis ID 185 index 60\n",
      "apoptosis ID 186 index 61\n",
      "apoptosis ID 189 index 62\n",
      "apoptosis ID 192 index 63\n",
      "apoptosis ID 194 index 64\n",
      "apoptosis ID 197 index 65\n",
      "apoptosis ID 198 index 66\n",
      "apoptosis ID 206 index 67\n",
      "8\n"
     ]
    }
   ],
   "source": [
    "[print(\"apoptosis ID\", scr_apop.ID, \"index\", i) for i, scr_apop in enumerate(scr_apops)]"
   ]
  },
  {
   "cell_type": "markdown",
   "metadata": {},
   "source": [
    "#### Set a variable of index dependent on cell choice to facilitate retrieval of this cell ID later"
   ]
  },
  {
   "cell_type": "code",
   "execution_count": 126,
   "metadata": {},
   "outputs": [
    {
     "name": "stdout",
     "output_type": "stream",
     "text": [
      "Input cell ID of interest\n",
      "18\n"
     ]
    }
   ],
   "source": [
    "print(\"Input cell ID of interest\")\n",
    "cell_ID = int(input())\n",
    "index = [i for i, scr_apop in enumerate(scr_apops) if scr_apop.ID == cell_ID][0]"
   ]
  },
  {
   "cell_type": "code",
   "execution_count": 132,
   "metadata": {},
   "outputs": [
    {
     "data": {
      "text/plain": [
       "['ANAPHASE',\n",
       " 'ANAPHASE',\n",
       " 'ANAPHASE',\n",
       " 'ANAPHASE',\n",
       " 'ANAPHASE',\n",
       " 'INTERPHASE',\n",
       " 'INTERPHASE',\n",
       " 'INTERPHASE',\n",
       " 'INTERPHASE',\n",
       " 'INTERPHASE',\n",
       " 'INTERPHASE',\n",
       " 'INTERPHASE',\n",
       " 'INTERPHASE',\n",
       " 'INTERPHASE',\n",
       " 'PROMETAPHASE',\n",
       " 'PROMETAPHASE',\n",
       " 'INTERPHASE',\n",
       " 'APOPTOSIS',\n",
       " 'APOPTOSIS',\n",
       " 'ANAPHASE',\n",
       " 'ANAPHASE',\n",
       " 'INTERPHASE',\n",
       " 'INTERPHASE',\n",
       " 'INTERPHASE',\n",
       " 'PROMETAPHASE',\n",
       " 'PROMETAPHASE',\n",
       " 'INTERPHASE',\n",
       " 'INTERPHASE',\n",
       " 'INTERPHASE',\n",
       " 'INTERPHASE',\n",
       " 'INTERPHASE',\n",
       " 'INTERPHASE',\n",
       " 'PROMETAPHASE',\n",
       " 'INTERPHASE',\n",
       " 'PROMETAPHASE',\n",
       " 'INTERPHASE',\n",
       " 'PROMETAPHASE',\n",
       " 'PROMETAPHASE',\n",
       " 'INTERPHASE',\n",
       " 'PROMETAPHASE',\n",
       " 'PROMETAPHASE',\n",
       " 'PROMETAPHASE',\n",
       " 'PROMETAPHASE',\n",
       " 'ANAPHASE',\n",
       " 'ANAPHASE',\n",
       " 'ANAPHASE',\n",
       " 'ANAPHASE',\n",
       " 'ANAPHASE',\n",
       " 'ANAPHASE',\n",
       " 'ANAPHASE',\n",
       " 'ANAPHASE',\n",
       " 'ANAPHASE',\n",
       " 'ANAPHASE',\n",
       " 'ANAPHASE',\n",
       " 'ANAPHASE',\n",
       " 'ANAPHASE',\n",
       " 'ANAPHASE',\n",
       " 'ANAPHASE',\n",
       " 'ANAPHASE',\n",
       " 'ANAPHASE',\n",
       " 'ANAPHASE',\n",
       " 'ANAPHASE',\n",
       " 'ANAPHASE',\n",
       " 'ANAPHASE',\n",
       " 'ANAPHASE',\n",
       " 'ANAPHASE',\n",
       " 'ANAPHASE',\n",
       " 'ANAPHASE',\n",
       " 'ANAPHASE',\n",
       " 'ANAPHASE',\n",
       " 'ANAPHASE',\n",
       " 'ANAPHASE',\n",
       " 'NULL',\n",
       " 'ANAPHASE',\n",
       " 'ANAPHASE',\n",
       " 'METAPHASE',\n",
       " 'METAPHASE',\n",
       " 'METAPHASE',\n",
       " 'METAPHASE',\n",
       " 'INTERPHASE',\n",
       " 'INTERPHASE',\n",
       " 'PROMETAPHASE',\n",
       " 'INTERPHASE',\n",
       " 'INTERPHASE',\n",
       " 'INTERPHASE',\n",
       " 'INTERPHASE',\n",
       " 'INTERPHASE',\n",
       " 'INTERPHASE',\n",
       " 'INTERPHASE',\n",
       " 'INTERPHASE',\n",
       " 'INTERPHASE',\n",
       " 'INTERPHASE',\n",
       " 'INTERPHASE',\n",
       " 'INTERPHASE',\n",
       " 'INTERPHASE',\n",
       " 'INTERPHASE',\n",
       " 'INTERPHASE',\n",
       " 'INTERPHASE',\n",
       " 'INTERPHASE',\n",
       " 'INTERPHASE',\n",
       " 'INTERPHASE',\n",
       " 'INTERPHASE',\n",
       " 'INTERPHASE',\n",
       " 'INTERPHASE',\n",
       " 'INTERPHASE',\n",
       " 'INTERPHASE',\n",
       " 'INTERPHASE',\n",
       " 'INTERPHASE',\n",
       " 'INTERPHASE',\n",
       " 'INTERPHASE',\n",
       " 'INTERPHASE',\n",
       " 'INTERPHASE',\n",
       " 'INTERPHASE',\n",
       " 'INTERPHASE',\n",
       " 'INTERPHASE',\n",
       " 'INTERPHASE',\n",
       " 'INTERPHASE',\n",
       " 'INTERPHASE',\n",
       " 'INTERPHASE',\n",
       " 'INTERPHASE',\n",
       " 'INTERPHASE',\n",
       " 'INTERPHASE',\n",
       " 'INTERPHASE',\n",
       " 'INTERPHASE',\n",
       " 'INTERPHASE',\n",
       " 'INTERPHASE',\n",
       " 'INTERPHASE',\n",
       " 'INTERPHASE',\n",
       " 'INTERPHASE',\n",
       " 'PROMETAPHASE',\n",
       " 'APOPTOSIS',\n",
       " 'APOPTOSIS',\n",
       " 'APOPTOSIS',\n",
       " 'APOPTOSIS',\n",
       " 'APOPTOSIS',\n",
       " 'APOPTOSIS',\n",
       " 'APOPTOSIS',\n",
       " 'INTERPHASE',\n",
       " 'APOPTOSIS',\n",
       " 'APOPTOSIS',\n",
       " 'APOPTOSIS',\n",
       " 'APOPTOSIS',\n",
       " 'APOPTOSIS',\n",
       " 'PROMETAPHASE',\n",
       " 'APOPTOSIS',\n",
       " 'APOPTOSIS',\n",
       " 'APOPTOSIS',\n",
       " 'APOPTOSIS',\n",
       " 'APOPTOSIS',\n",
       " 'APOPTOSIS',\n",
       " 'APOPTOSIS',\n",
       " 'APOPTOSIS',\n",
       " 'APOPTOSIS',\n",
       " 'APOPTOSIS',\n",
       " 'APOPTOSIS',\n",
       " 'APOPTOSIS',\n",
       " 'APOPTOSIS',\n",
       " 'APOPTOSIS',\n",
       " 'APOPTOSIS',\n",
       " 'APOPTOSIS',\n",
       " 'APOPTOSIS',\n",
       " 'APOPTOSIS',\n",
       " 'APOPTOSIS',\n",
       " 'APOPTOSIS',\n",
       " 'APOPTOSIS',\n",
       " 'APOPTOSIS',\n",
       " 'APOPTOSIS',\n",
       " 'APOPTOSIS',\n",
       " 'APOPTOSIS',\n",
       " 'APOPTOSIS',\n",
       " 'APOPTOSIS',\n",
       " 'APOPTOSIS',\n",
       " 'APOPTOSIS',\n",
       " 'APOPTOSIS',\n",
       " 'APOPTOSIS',\n",
       " 'APOPTOSIS',\n",
       " 'APOPTOSIS',\n",
       " 'APOPTOSIS',\n",
       " 'APOPTOSIS',\n",
       " 'APOPTOSIS',\n",
       " 'APOPTOSIS',\n",
       " 'APOPTOSIS',\n",
       " 'APOPTOSIS',\n",
       " 'APOPTOSIS',\n",
       " 'APOPTOSIS',\n",
       " 'APOPTOSIS',\n",
       " 'APOPTOSIS',\n",
       " 'APOPTOSIS',\n",
       " 'APOPTOSIS',\n",
       " 'APOPTOSIS',\n",
       " 'APOPTOSIS',\n",
       " 'APOPTOSIS',\n",
       " 'APOPTOSIS',\n",
       " 'APOPTOSIS',\n",
       " 'APOPTOSIS',\n",
       " 'APOPTOSIS',\n",
       " 'APOPTOSIS',\n",
       " 'NULL',\n",
       " 'APOPTOSIS']"
      ]
     },
     "execution_count": 132,
     "metadata": {},
     "output_type": "execute_result"
    }
   ],
   "source": [
    "### .label indicates progression of cell phase classification\n",
    "scr_apop[index].label \n"
   ]
  },
  {
   "cell_type": "code",
   "execution_count": 134,
   "metadata": {},
   "outputs": [
    {
     "name": "stdout",
     "output_type": "stream",
     "text": [
      "ID is 18\n",
      "2.8306450843811035 520.7903442382812 375 573\n"
     ]
    }
   ],
   "source": [
    "# get track ID 16, print xyt \n",
    "print(\"ID is\", scr_apop[index].ID)\n",
    "# loser_event_x = scr_apop[index].x\n",
    "# loser_event_y = scr_apop[index].y\n",
    "# loser_event_t = scr_apop[index].t\n",
    "\n",
    "loser_event_x, loser_event_y, loser_event_t = scr_apop[index].x, scr_apop[index].y, scr_apop[index].t\n",
    "\n",
    "print(loser_event_x[0], loser_event_y[0], loser_event_t[0], loser_event_t[-1])"
   ]
  }
 ],
 "metadata": {
  "kernelspec": {
   "display_name": "btrack",
   "language": "python",
   "name": "btrack"
  },
  "language_info": {
   "codemirror_mode": {
    "name": "ipython",
    "version": 3
   },
   "file_extension": ".py",
   "mimetype": "text/x-python",
   "name": "python",
   "nbconvert_exporter": "python",
   "pygments_lexer": "ipython3",
   "version": "3.7.6"
  }
 },
 "nbformat": 4,
 "nbformat_minor": 4
}
