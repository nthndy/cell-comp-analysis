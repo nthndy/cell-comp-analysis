{
 "cells": [
  {
   "cell_type": "markdown",
   "metadata": {},
   "source": [
    "# Event finder & raw data checker\n",
    "\n",
    "This notebook will find competitive cellular \"events\" in the simplest definition (i.e. a loser cell apoptosis) and return information about the spatiotemporal distrubition of counterpart competitive events (i.e. winner cell mitosis)"
   ]
  },
  {
   "cell_type": "markdown",
   "metadata": {},
   "source": [
    "Contents:\n",
    "\n",
    "- Load modules\n",
    "- Load cell finding functions\n",
    "- Set experiment data path\n",
    "- Load image data\n",
    "- Load tracking data\n",
    "- Isolate one track of interest (target track)\n",
    "- Find corresponding tracks/events of interest within a given spatiotemporal range (E.g. if target track is Scr apoptosis, then find all nearby wild-type mitosis)\n",
    "- Apply necessary coordinate shift for viewer\n",
    "- Set points and regions of interest for highlighting in Napari viewer\n",
    "- Launch Napari image viewer if desired\n",
    "\n",
    "To-do:\n",
    "\n",
    "- [ ] Reorganise structure so that scan over all R then filter\n",
    "- [ ] Create radial bins and sort tracks into them\n",
    "- [ ] Create temporal bins\n",
    "- [ ] Figure out how to plot said bins into heat map image\n",
    "- [ ] Check redesigned script against raw data "
   ]
  },
  {
   "cell_type": "code",
   "execution_count": 9,
   "metadata": {},
   "outputs": [
    {
     "name": "stdout",
     "output_type": "stream",
     "text": [
      "Napari version no.: 0.4.0\n",
      "btrack version no.: 0.4.0\n"
     ]
    }
   ],
   "source": [
    "import napari\n",
    "import btrack\n",
    "import numpy as np\n",
    "from skimage.io import imread\n",
    "import os\n",
    "print(\"Napari version no.:\", napari.__version__)\n",
    "print(\"btrack version no.:\", btrack.__version__)\n",
    "from btrack.utils import import_HDF, import_JSON, tracks_to_napari\n",
    "from tqdm.notebook import tnrange, tqdm\n",
    "import matplotlib.pyplot as plt"
   ]
  },
  {
   "cell_type": "markdown",
   "metadata": {},
   "source": [
    "### Functions to measure local neighbourhood for cells of interest"
   ]
  },
  {
   "cell_type": "code",
   "execution_count": 2,
   "metadata": {},
   "outputs": [],
   "source": [
    "def euclidean_distance(target_track, other_track, frame):\n",
    "    try:\n",
    "        idx0 = target_track.t.index(find_apoptosis_time(target_track, index = False)) ## could also do just ## apop_index\n",
    "        idx1 = other_track.t.index(frame)\n",
    "    except:\n",
    "        return np.inf\n",
    "    \n",
    "    dx = target_track.x[idx0] - other_track.x[idx1]\n",
    "    dy = target_track.y[idx0] - other_track.y[idx1]\n",
    "    \n",
    "    return np.sqrt(dx**2 + dy**2)\n",
    "\n",
    "def find_apoptosis_time(target_track, index): ### if index is set to True then the index of the apoptotic time (wrt target_track) is returned\n",
    "    for i, j in enumerate(target_track.label):\n",
    "        if j == 'APOPTOSIS' and target_track.label[i+1] == 'APOPTOSIS' and target_track.label[i+2] == 'APOPTOSIS': # and target_track.label[i+3] =='APOPTOSIS' and target_track.label[i+4] =='APOPTOSIS':\n",
    "            apop_index = i\n",
    "            break\n",
    "    apop_time = target_track.t[apop_index]\n",
    "    if index == True: \n",
    "        return apop_index\n",
    "    else: \n",
    "        return apop_time\n",
    "\n",
    "def find_nearby_wt_mitosis(target_track, delta_t, radius):\n",
    "    frame = find_apoptosis_time(target_track, index = False) + delta_t \n",
    "    dividing_states = ('PROMETAPHASE', 'METAPHASE', 'DIVIDE')\n",
    "    wt_tracks_in_radius = [wt_track for wt_track in wt_tracks if wt_track.in_frame(frame) if euclidean_distance(target_track, wt_track, frame)<radius]\n",
    "    wt_mitosis_in_radius = [wt_track for wt_track in wt_tracks if wt_track.in_frame(frame) if euclidean_distance(target_track, wt_track, frame)<radius if wt_track.label[wt_track.t.index(frame)] in dividing_states]\n",
    "  \n",
    "    return wt_tracks_in_radius, wt_mitosis_in_radius\n",
    "\n",
    "\n",
    "def maximum_xyt(i):\n",
    "    #### BEWARE xy coord switch!     \n",
    "    if i == 'x':\n",
    "        max_x = int((max([max(i.y) for i in wt_tracks])))\n",
    "        return max_x\n",
    "    if i == 'y':\n",
    "        max_y = int((max([max(i.x) for i in wt_tracks])))\n",
    "        return max_y\n",
    "    if i == 't':\n",
    "        max_t = int((max([max(i.t) for i in wt_tracks])))\n",
    "        return max_t"
   ]
  },
  {
   "cell_type": "markdown",
   "metadata": {},
   "source": [
    "### Set experiment data path "
   ]
  },
  {
   "cell_type": "code",
   "execution_count": 3,
   "metadata": {
    "scrolled": false
   },
   "outputs": [
    {
     "name": "stdout",
     "output_type": "stream",
     "text": [
      "Input experiment number\n",
      "GV0807\n"
     ]
    }
   ],
   "source": [
    "print(\"Input experiment number\")\n",
    "experiment_no = input()\n",
    "root_path = os.path.join('/home/nathan/data/kraken/h2b/giulia/', experiment_no)\n",
    "root_path = '/home/nathan/data/kraken/h2b/giulia/GV0807'\n",
    "gfp_path = os.path.join(root_path, 'Pos3/stacks/gfp.tif')\n",
    "rfp_path = os.path.join(root_path, 'Pos3/stacks/rfp.tif')\n",
    "bf_path = os.path.join(root_path, 'Pos3/stacks/bf.tif')\n",
    "tracks_path = os.path.join(root_path, 'Pos3/Pos3_aligned/HDF/segmented.hdf5')"
   ]
  },
  {
   "cell_type": "markdown",
   "metadata": {},
   "source": [
    "### Load image data"
   ]
  },
  {
   "cell_type": "code",
   "execution_count": 4,
   "metadata": {},
   "outputs": [],
   "source": [
    "gfp = imread(gfp_path)"
   ]
  },
  {
   "cell_type": "code",
   "execution_count": 5,
   "metadata": {},
   "outputs": [],
   "source": [
    "rfp = imread(rfp_path)"
   ]
  },
  {
   "cell_type": "code",
   "execution_count": null,
   "metadata": {},
   "outputs": [],
   "source": [
    "bf = imread(bf_path)"
   ]
  },
  {
   "cell_type": "markdown",
   "metadata": {},
   "source": [
    "### Load tracking data"
   ]
  },
  {
   "cell_type": "code",
   "execution_count": 6,
   "metadata": {},
   "outputs": [
    {
     "name": "stderr",
     "output_type": "stream",
     "text": [
      "[INFO][2020/12/06 06:14:08 PM] Opening HDF file: /home/nathan/data/kraken/h2b/giulia/GV0807/Pos3/Pos3_aligned/HDF/segmented.hdf5...\n",
      "[INFO][2020/12/06 06:14:08 PM] Loading tracks/obj_type_1\n",
      "[INFO][2020/12/06 06:14:11 PM] Loading objects/obj_type_1 (408973, 5) (388394 filtered: area>=100)\n",
      "[INFO][2020/12/06 06:14:14 PM] Closing HDF file: /home/nathan/data/kraken/h2b/giulia/GV0807/Pos3/Pos3_aligned/HDF/segmented.hdf5\n",
      "[INFO][2020/12/06 06:14:14 PM] Opening HDF file: /home/nathan/data/kraken/h2b/giulia/GV0807/Pos3/Pos3_aligned/HDF/segmented.hdf5...\n",
      "[INFO][2020/12/06 06:14:14 PM] Loading tracks/obj_type_2\n",
      "[INFO][2020/12/06 06:14:15 PM] Loading objects/obj_type_2 (12115, 5) (8894 filtered: area>=100)\n",
      "[INFO][2020/12/06 06:14:15 PM] Closing HDF file: /home/nathan/data/kraken/h2b/giulia/GV0807/Pos3/Pos3_aligned/HDF/segmented.hdf5\n"
     ]
    },
    {
     "name": "stdout",
     "output_type": "stream",
     "text": [
      "Tracks loaded\n"
     ]
    }
   ],
   "source": [
    "with btrack.dataio.HDF5FileHandler(tracks_path, 'r', obj_type = \"obj_type_1\") as hdf:\n",
    "    wt_tracks = hdf.tracks\n",
    "with btrack.dataio.HDF5FileHandler(tracks_path, 'r', obj_type = \"obj_type_2\") as hdf:\n",
    "    scr_tracks = hdf.tracks\n",
    "print(\"Tracks loaded\")"
   ]
  },
  {
   "cell_type": "markdown",
   "metadata": {},
   "source": [
    "### Isolate one track of interest"
   ]
  },
  {
   "cell_type": "code",
   "execution_count": 7,
   "metadata": {},
   "outputs": [
    {
     "name": "stdout",
     "output_type": "stream",
     "text": [
      "input scribble track of interest ID\n",
      "17\n"
     ]
    }
   ],
   "source": [
    "## isolate one target scribble track of interest\n",
    "print(\"input scribble track of interest ID\")\n",
    "cell_ID = int(input())\n",
    "index = [i for i, scr_tracks in enumerate(scr_tracks) if scr_tracks.ID == cell_ID][0]\n",
    "target_track = scr_tracks[index]##### Show the first classification of each track\n",
    "apop_index = find_apoptosis_time(target_track, index = True)"
   ]
  },
  {
   "cell_type": "markdown",
   "metadata": {},
   "source": [
    "# Find cells of interest"
   ]
  },
  {
   "cell_type": "code",
   "execution_count": 79,
   "metadata": {},
   "outputs": [],
   "source": [
    "radius = 200\n",
    "delta_t = -100"
   ]
  },
  {
   "cell_type": "code",
   "execution_count": 81,
   "metadata": {},
   "outputs": [],
   "source": [
    "wt_tracks_in_radius, wt_mitosis_in_radius = find_nearby_wt_mitosis(target_track, delta_t, radius)"
   ]
  },
  {
   "cell_type": "markdown",
   "metadata": {},
   "source": [
    "display ID for all tracks found in radius using quick script"
   ]
  },
  {
   "cell_type": "code",
   "execution_count": 91,
   "metadata": {},
   "outputs": [
    {
     "name": "stdout",
     "output_type": "stream",
     "text": [
      "ID for all tracks in radius: [157, 316, 331, 335, 336, 352, 353, 367, 368, 380, 381, 389, 399, 405, 407, 453, 454, 461, 462, 535, 561, 587, 591, 604, 649, 650, 657, 673, 674]\n",
      "ID for all mitoses in radius: [316]\n"
     ]
    }
   ],
   "source": [
    "print(\"ID for all tracks in radius:\", [j.ID for i, j in enumerate(wt_tracks_in_radius)])\n",
    "print(\"ID for all mitoses in radius:\", [j.ID for i, j in enumerate(wt_mitosis_in_radius)])"
   ]
  },
  {
   "cell_type": "markdown",
   "metadata": {},
   "source": [
    "### Necessary coordinate shift for raw data viewing (due to stablised images used on tracks)"
   ]
  },
  {
   "cell_type": "code",
   "execution_count": 10,
   "metadata": {},
   "outputs": [
    {
     "name": "stdout",
     "output_type": "stream",
     "text": [
      "tracks range: 1600 1200\n",
      "aligned image range: 1739 1377\n",
      "shift in x and y: 69 88\n",
      "coordinate shift applied\n"
     ]
    }
   ],
   "source": [
    "### finding coord range of aligned images, coords switched already\n",
    "align_x_range, align_y_range = gfp.shape[2], gfp.shape[1]\n",
    "### finding maximum extent of tracking coords\n",
    "tracks_x_range = round(max([max(track.x) for track in wt_tracks]))\n",
    "tracks_y_range = round(max([max(track.y) for track in wt_tracks])) + 2 ## sort this lazy hack out later\n",
    "\n",
    "### coord switch\n",
    "tmp = tracks_y_range\n",
    "tracks_y_range = tracks_x_range\n",
    "tracks_x_range = tmp\n",
    "\n",
    "print(\"tracks range:\", (tracks_x_range), (tracks_y_range))\n",
    "print(\"aligned image range:\", (align_x_range), (align_y_range))\n",
    "\n",
    "shift_x = int((align_x_range - tracks_x_range)/2)\n",
    "shift_y = int((align_y_range - tracks_y_range)/2)\n",
    "\n",
    "print(\"shift in x and y:\", shift_x, shift_y)\n",
    "\n",
    "wt_data, properties, graph = tracks_to_napari(wt_tracks, ndim = 2)\n",
    "scr_data, properties, graph = tracks_to_napari(scr_tracks, ndim = 2)\n",
    "\n",
    "tmp = wt_data[:,2].copy() ## copy the true_y coord\n",
    "wt_data[:,2] = wt_data[:,3]  ##assign the old_y coord as the true_x\n",
    "wt_data[:,3] = tmp ## assign the old_x as true_y\n",
    "\n",
    "wt_data[:,2] += shift_y ## TRUE_Y (vertical axis)\n",
    "wt_data[:,3] += shift_x ## TRUE_X (horizontal axis)\n",
    "\n",
    "tmp = scr_data[:,2].copy()\n",
    "scr_data[:,2] = scr_data[:,3]\n",
    "scr_data[:,3] = tmp\n",
    "\n",
    "scr_data[:,2] += shift_y ## TRUE_Y (vertical axis)\n",
    "scr_data[:,3] += shift_x ## TRUE_X (horizontal axis)\n",
    "\n",
    "print(\"coordinate shift applied\")"
   ]
  },
  {
   "cell_type": "markdown",
   "metadata": {},
   "source": [
    "### Define reference points if needed"
   ]
  },
  {
   "cell_type": "code",
   "execution_count": 87,
   "metadata": {},
   "outputs": [
    {
     "name": "stdout",
     "output_type": "stream",
     "text": [
      "txy of apoptotic event: (730, 638.5511474609375, 1158.223876953125)\n"
     ]
    }
   ],
   "source": [
    "### add_points needs to be txy\n",
    "apop_event = target_track.t[apop_index], target_track.x[apop_index]+shift_y, target_track.y[apop_index]+shift_x ## with transposed shift\n",
    "print(\"txy of apoptotic event:\", apop_event)"
   ]
  },
  {
   "cell_type": "markdown",
   "metadata": {},
   "source": [
    "adding circle reference shape"
   ]
  },
  {
   "cell_type": "code",
   "execution_count": 88,
   "metadata": {},
   "outputs": [],
   "source": [
    "## apop_circle is the bounding box of the ellipse\n",
    "apop_circle = [(apop_event[0]+delta_t, apop_event[1]-radius, apop_event[2]-radius), \n",
    "                (apop_event[0]+delta_t, apop_event[1]+radius, apop_event[2]-radius), \n",
    "                (apop_event[0]+delta_t, apop_event[1]+radius, apop_event[2]+radius), \n",
    "                (apop_event[0]+delta_t, apop_event[1]-radius, apop_event[2]+radius)]\n"
   ]
  },
  {
   "cell_type": "markdown",
   "metadata": {},
   "source": [
    "adding corresponding wt_mitoses"
   ]
  },
  {
   "cell_type": "markdown",
   "metadata": {},
   "source": [
    "### Launch napari to check against raw data "
   ]
  },
  {
   "cell_type": "code",
   "execution_count": 89,
   "metadata": {},
   "outputs": [],
   "source": [
    "with napari.gui_qt():\n",
    "    viewer = napari.Viewer()\n",
    "    \n",
    "    #viewer.add_image(bf)\n",
    "    viewer.add_image(gfp, name=\"gfp\", blending = \"additive\", colormap = \"green\")\n",
    "    viewer.add_image(rfp, name=\"rfp\", contrast_limits = (0, 50), blending = \"additive\", colormap = \"red\")\n",
    "    \n",
    "    viewer.add_tracks(wt_data)\n",
    "    viewer.add_tracks(scr_data)\n",
    "    #viewer.add_points(apop_event)\n",
    "    viewer.add_shapes(apop_circle, shape_type = 'ellipse', face_color = 'y', name = 'Apoptosis event')\n",
    "    "
   ]
  }
 ],
 "metadata": {
  "kernelspec": {
   "display_name": "Python 3",
   "language": "python",
   "name": "python3"
  },
  "language_info": {
   "codemirror_mode": {
    "name": "ipython",
    "version": 3
   },
   "file_extension": ".py",
   "mimetype": "text/x-python",
   "name": "python",
   "nbconvert_exporter": "python",
   "pygments_lexer": "ipython3",
   "version": "3.7.6"
  }
 },
 "nbformat": 4,
 "nbformat_minor": 4
}
