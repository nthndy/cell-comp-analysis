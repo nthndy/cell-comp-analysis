{
 "cells": [
  {
   "cell_type": "markdown",
   "metadata": {},
   "source": [
    "# Cumulative event counter"
   ]
  },
  {
   "cell_type": "markdown",
   "metadata": {},
   "source": [
    "### This notebook counts the cumulative spatio-temporal distribution of cellular events in the local neighbourhood of a series of apoptosis events\n",
    "\n",
    "1. Load dictionary of apoptoses and their corresponding times to base the spatiotemporal scans around \n",
    "2. Load corresponding tracking data and specify scan parameters\n",
    "3. Iteratively calculate spatiotemporal distribution of cellular events around apoptoses, saving each distribution out as a .npy distance-time heatmap\n",
    "4. Compile list of spatiotemporal heatmaps as cumulative heatmap\n",
    "5. Misc. section: comparing different experimental conditions"
   ]
  },
  {
   "cell_type": "code",
   "execution_count": null,
   "metadata": {},
   "outputs": [],
   "source": [
    "import calculate_radial_analysis as calculate\n",
    "import tools\n",
    "import render\n",
    "\n",
    "import json\n",
    "import glob\n",
    "import os\n",
    "import re\n",
    "import numpy as np\n",
    "from natsort import natsorted\n",
    "from tqdm import tqdm\n",
    "import matplotlib.pyplot as plt\n",
    "from pathlib import Path"
   ]
  },
  {
   "cell_type": "markdown",
   "metadata": {},
   "source": [
    "## 1) Apoptosis dictionary loader\n",
    "Specify cell type to filter out unwanted apoptoses, want end result of apop_dict that takes the format of :`apop_dict = {apop_ID:apop_time}` \n",
    "\n",
    "where `apop_ID` takes the format of: `GV{experiment_ID}_Pos{position_ID}_{cell_ID}_{cell_type}` \n",
    "\n",
    "For example: \n",
    "\n",
    "```\n",
    "apop_dict = {'GV0794_Pos4_393_GFP': '766',\n",
    "             'GV0794_Pos7_364_GFP': '550',\n",
    "             'GV0794_Pos7_457_GFP': '805',\n",
    "             'GV0794_Pos7_369_GFP': '833',\n",
    "             'GV0794_Pos7_292_GFP': '884',\n",
    "             'GV0795_Pos4_358_GFP': '628',\n",
    "             'GV0795_Pos4_18_GFP': '855',\n",
    "             'GV0795_Pos4_1356_GFP': '992',\n",
    "             'GV0795_Pos4_359_GFP': '1133',\n",
    "             'GV0796_Pos4_542_GFP': '581',\n",
    "             'GV0796_Pos4_1334_GFP': '719',\n",
    "             'GV0796_Pos4_1586_GFP': '785'}\n",
    " ```"
   ]
  },
  {
   "cell_type": "code",
   "execution_count": null,
   "metadata": {},
   "outputs": [],
   "source": [
    "cell_type = 'RFP'\n",
    "path_to_apop_lists = '/media/nathan/Transcend/Nathan/data/h2b/apoptosis_information/final/all'\n",
    "expts_apop_lists = os.listdir(path_to_apop_lists)\n",
    "apop_dict = {}\n",
    "N_apops = len(expts_apop_lists)\n",
    "for expt_apop_list in expts_apop_lists:\n",
    "    apop_list = open(os.path.join(path_to_apop_lists, expt_apop_list), 'r')\n",
    "    for apop_ID in apop_list:\n",
    "        if cell_type in apop_ID:\n",
    "            if 'stitched' not in apop_ID:\n",
    "                apop_dict[apop_ID.split()[0]] = apop_ID.split()[1]\n",
    "orig_len_apops = len(apop_dict)\n",
    "apop_dict"
   ]
  },
  {
   "cell_type": "code",
   "execution_count": null,
   "metadata": {},
   "outputs": [],
   "source": [
    "### parallelisation \n",
    "N_apops = len(apop_dict)\n",
    "para_frac_min, para_frac_max = int(0*N_apops), int(0.25*N_apops)  ## ie only do first 1/4 of all apops\n",
    "delete_list =[]\n",
    "for i, j in enumerate(apop_dict):\n",
    "    if not para_frac_min <= i< para_frac_max: \n",
    "        delete_list.append(j)\n",
    "for i in delete_list:\n",
    "    del apop_dict[i]\n",
    "print(\"Length of modified dict vs original:\", len(apop_dict), \"/\", orig_len_apops)"
   ]
  },
  {
   "cell_type": "markdown",
   "metadata": {},
   "source": [
    "## 2) Load corresponding cell tracking data and specifiy other parameters"
   ]
  },
  {
   "cell_type": "code",
   "execution_count": null,
   "metadata": {},
   "outputs": [],
   "source": [
    "### load tracking data\n",
    "path_to_hdf5 = '/media/nathan/Transcend/Nathan/data/h2b'\n",
    "hdf5_file_list = tools.hdf5_file_finder(path_to_hdf5)\n",
    "\n",
    "### specify output path and neighbourhood scan parameters\n",
    "output_path = '/home/nathan/data/kraken/h2b/giulia/radial_analysis_output/individual_spatiotemporal_heatmaps/scr_apop_wt_div'\n",
    "Path(output_path).mkdir(parents=True, exist_ok=True)\n",
    "radius, t_range, num_bins = 400, 400, 10#800, 800, 20#400, 400, 10\n"
   ]
  },
  {
   "cell_type": "markdown",
   "metadata": {},
   "source": [
    "## 3) Iteratively calculate and save out individual heatmaps\n",
    "\n",
    "This step can be time consuming (sequential scans around 385 apoptoses took 7 hours on i7)\n",
    "\n",
    "Function to calculate:\n",
    "\n",
    "`calculate.iterative_heatmap_generator(subject_cells = 'WT', subject_event = 'DIVIDE', apop_dict, hdf5_file_list, radius, t_range, num_bins, output_path)`\n",
    "\n",
    "Where the necessary input variables are as follows:\n",
    "- `subject_cells` = The population of cells to scan over looking for events, 'WT'/'Scr'/'All'\n",
    "- `subject_event` = The event type to look for, 'DIVIDE' or 'APOPTOSIS'\n",
    "- `apop_dict` = Previously defined python dictionary of {apoptosis ID: apoptosis time}\n",
    "- `hdf5_file_list` = List of locations of tracking files\n",
    "- `radius` = Distance to scan over around apoptosis\n",
    "- `t_range` = Time range to scan over around apoptosis (will scan t_range/2 before and after apoptosis)\n",
    "- `num_bins` = Number of bins the histogram is sorted into\n",
    "- `output_path` = Empty directory to save out individual apoptosis heatmap .npy arrays into\n"
   ]
  },
  {
   "cell_type": "code",
   "execution_count": null,
   "metadata": {
    "scrolled": true
   },
   "outputs": [],
   "source": [
    "N_cells, error_log, success_log = calculate.iterative_heatmap_generator(\n",
    "    'WT', ## 'Scr',\n",
    "    'DIVIDE', \n",
    "    apop_dict, \n",
    "    hdf5_file_list, \n",
    "    radius, \n",
    "    t_range, \n",
    "    num_bins, \n",
    "    output_path)"
   ]
  },
  {
   "cell_type": "code",
   "execution_count": null,
   "metadata": {},
   "outputs": [],
   "source": [
    "N_cells ## scope of analysis (number of apoptoses scanned around)"
   ]
  },
  {
   "cell_type": "code",
   "execution_count": null,
   "metadata": {},
   "outputs": [],
   "source": [
    "len(error_log)"
   ]
  },
  {
   "cell_type": "code",
   "execution_count": null,
   "metadata": {
    "scrolled": true
   },
   "outputs": [],
   "source": [
    "error_log, success_log"
   ]
  },
  {
   "cell_type": "markdown",
   "metadata": {},
   "source": [
    "## 4) Compile individual heatmaps into cumulative plots "
   ]
  },
  {
   "cell_type": "markdown",
   "metadata": {},
   "source": [
    "Compile cumulative heatmap by iteratively adding single-apoptosis heatmaps from previous output or different pre-established output "
   ]
  },
  {
   "cell_type": "code",
   "execution_count": null,
   "metadata": {},
   "outputs": [],
   "source": [
    "#single_cell_heatmap_location = output_path\n",
    "single_cell_heatmap_location = '/home/nathan/data/kraken/h2b/giulia/radial_analysis_output/individual_spatiotemporal_heatmaps/scr_apop_wt_div'\n"
   ]
  },
  {
   "cell_type": "code",
   "execution_count": null,
   "metadata": {},
   "outputs": [],
   "source": [
    "N_cells, N_events = np.zeros((num_bins, num_bins)), np.zeros((num_bins, num_bins))\n",
    "N = 0\n",
    "for heatmap_ID in natsorted(os.listdir(single_cell_heatmap_location)):\n",
    "    if 'N_cells' in heatmap_ID:\n",
    "        N_cells += np.load(os.path.join(single_cell_heatmap_location,heatmap_ID))\n",
    "    if 'N_events' in heatmap_ID:\n",
    "        N_events += np.load(os.path.join(single_cell_heatmap_location,heatmap_ID))\n",
    "        N+=1\n",
    "N"
   ]
  },
  {
   "cell_type": "markdown",
   "metadata": {},
   "source": [
    "Function to plot heatmaps: \n",
    "\n",
    "`plot_cumulative(input_2d_hist, num_bins, radius, t_range, title, expt_label, cb_label, save_path, SI = True)`\n",
    "\n",
    "Where the variables needed are as follows:\n",
    "\n",
    "- `input_2d_hist` = Input 2D histogram\n",
    "- `num_bins` = Number of bins the histogram is sorted into\n",
    "- `radius` = Spatial extent of scan\n",
    "- `t_range` = Temporal range of scan\n",
    "- `title` = Title/save out filename of heatmap\n",
    "- `label` = Optional label for heatmap\n",
    "- `cb_label` = Label for colourbar\n",
    "- `save_path` = Ouput save path, if empty string then plot will not be saved out\n",
    "- `SI` = If True then plots the xy in SI base unit instead of pixel/frames"
   ]
  },
  {
   "cell_type": "code",
   "execution_count": null,
   "metadata": {},
   "outputs": [],
   "source": [
    "render.plot_cumulative(input_2d_hist = N_cells,\n",
    "                num_bins# = 20,\n",
    "                radius# = 800,\n",
    "                t_range #= 800, \n",
    "                title = 'Spatiotemporal dist. of wild-type cells \\n around Scribble apoptoses (N=1642)', \n",
    "                label = '', \n",
    "                cb_label = 'Number of cell apperances', \n",
    "                save_path = '/home/nathan/data/kraken/h2b/giulia/radial_analysis_output/cumulative_plots/scr_apop_wt_div',\n",
    "                SI = True) ## SI is standard "
   ]
  },
  {
   "cell_type": "code",
   "execution_count": null,
   "metadata": {},
   "outputs": [],
   "source": [
    "render.plot_cumulative(input_2d_hist = N_events,\n",
    "                num_bins# = 10,\n",
    "                radius #= 800,\n",
    "                t_range #= 800, \n",
    "                title = 'Spatiotemporal dist. of wild-type division \\n around wild-type apoptoses (N=1642)', \n",
    "                label = '', \n",
    "                cb_label = 'Number of wild-type divisions', \n",
    "                save_path = '/home/nathan/data/kraken/h2b/giulia/radial_analysis_output/cumulative_plots/scr_apop_wt_div',\n",
    "                SI = True)"
   ]
  },
  {
   "cell_type": "code",
   "execution_count": null,
   "metadata": {},
   "outputs": [],
   "source": [
    "render.plot_cumulative(input_2d_hist = N_events/N_cells,\n",
    "                num_bins# = 10,\n",
    "                radius# = 400,\n",
    "                t_range #= 400, \n",
    "                title = 'Spatiotemporal dist. of probability of wild-type division \\n around wild-type apoptoses (N=1642)', \n",
    "                label = '', \n",
    "                cb_label = 'Probability of division', \n",
    "                save_path = '/home/nathan/data/kraken/h2b/giulia/radial_analysis_output/cumulative_plots/scr_apop_wt_div',\n",
    "                SI = True)"
   ]
  },
  {
   "cell_type": "markdown",
   "metadata": {},
   "source": [
    "# 5) Miscellaneous section: segregating cumulative plots based on experiment type"
   ]
  },
  {
   "cell_type": "markdown",
   "metadata": {},
   "source": [
    "50:50 expt"
   ]
  },
  {
   "cell_type": "code",
   "execution_count": null,
   "metadata": {},
   "outputs": [],
   "source": [
    "expt_list_5050 = ['GV0794/Pos4',\n",
    "                 'GV0794/Pos7',\n",
    "                 'GV0794/Pos16',\n",
    "                 'GV0795/Pos4',\n",
    "                 'GV0795/Pos7',\n",
    "                 'GV0795/Pos17',\n",
    "                 'GV0796/Pos4',\n",
    "                 'GV0796/Pos7',\n",
    "                 'GV0796/Pos21',\n",
    "                 'GV0796/Pos22',\n",
    "                 'GV0797/Pos4',\n",
    "                 'GV0797/Pos7',\n",
    "                 'GV0797/Pos20',\n",
    "                 'GV0797/Pos21',\n",
    "                 'GV0798/Pos4',\n",
    "                 'GV0798/Pos7',\n",
    "                 'GV0798/Pos20',\n",
    "                 'GV0798/Pos21',\n",
    "                 'GV0800/Pos4', \n",
    "                 'GV0800/Pos7',\n",
    "                 'GV0800/Pos16',\n",
    "                 'GV0801/Pos4',\n",
    "                 'GV0802/Pos4',\n",
    "                 'GV0804/Pos4',\n",
    "                 'GV0805/Pos4',\n",
    "                 'GV0806/Pos4',\n",
    "                 'GV0807/Pos4',\n",
    "                 'GV0812/Pos0',\n",
    "                 'GV0812/Pos1',\n",
    "                 'GV0812/Pos2',\n",
    "                 'GV0812/Pos3',\n",
    "                 'GV0812/Pos4',\n",
    "                 'GV0812/Pos5',\n",
    "                 'GV0813/Pos0',\n",
    "                 'GV0813/Pos1',\n",
    "                 'GV0813/Pos2',\n",
    "                 'GV0813/Pos3',\n",
    "                 'GV0813/Pos4',\n",
    "                 'GV0813/Pos5',\n",
    "                 'GV0814/Pos0',\n",
    "                 'GV0814/Pos11',\n",
    "                 'GV0814/Pos12',\n",
    "                 'GV0814/Pos23',\n",
    "                 'GV0815/Pos0',\n",
    "                 'GV0815/Pos11',\n",
    "                 'GV0815/Pos12',\n",
    "                 'GV0815/Pos23',\n",
    "                 'GV0816/Pos0',\n",
    "                 'GV0816/Pos13',\n",
    "                 'GV0816/Pos14',\n",
    "                 'GV0816/Pos23',\n",
    "                 'GV0817/Pos0',\n",
    "                 'GV0817/Pos11',\n",
    "                 'GV0817/Pos12',\n",
    "                 'GV0817/Pos23',\n",
    "                 'GV0818/Pos12',\n",
    "                 'GV0818/Pos13',\n",
    "                 'GV0819/Pos0',\n",
    "                 'GV0819/Pos1',\n",
    "                 'GV0819/Pos2',\n",
    "                 'GV0819/Pos3',\n",
    "                 'GV0819/Pos4',\n",
    "                 'GV0819/Pos5',\n",
    "                 'GV0820/Pos0',\n",
    "                 'GV0820/Pos1',\n",
    "                 'GV0820/Pos2',\n",
    "                 'GV0820/Pos3',\n",
    "                 'GV0820/Pos4',\n",
    "                 'GV0820/Pos5']"
   ]
  },
  {
   "cell_type": "code",
   "execution_count": null,
   "metadata": {},
   "outputs": [],
   "source": [
    "N_cells, N_events = np.zeros((num_bins, num_bins)), np.zeros((num_bins, num_bins))\n",
    "N = 0\n",
    "for heatmap_ID in natsorted(os.listdir(single_cell_heatmap_location)):\n",
    "    #print(heatmap_ID.split('_P'))\n",
    "    expt = 'GV' +str(re.findall(r\"GV(\\d+)\", heatmap_ID)[0])\n",
    "    position = re.findall(r\"Pos(\\d+)\", heatmap_ID)[0]\n",
    "    if os.path.join(expt,'Pos'+position) in expt_list_5050:\n",
    "        if 'N_cells' in heatmap_ID:\n",
    "            N_cells += np.load(os.path.join(single_cell_heatmap_location,heatmap_ID))\n",
    "        if 'N_events' in heatmap_ID:\n",
    "            N_events += np.load(os.path.join(single_cell_heatmap_location,heatmap_ID))\n",
    "            N+=1\n",
    "N"
   ]
  },
  {
   "cell_type": "code",
   "execution_count": null,
   "metadata": {},
   "outputs": [],
   "source": [
    "render.plot_cumulative(input_2d_hist = N_cells,\n",
    "                num_bins = 10,\n",
    "                radius = 400,\n",
    "                t_range = 400, \n",
    "                title = 'Spatiotemporal dist. of wild-type cells \\n around wild-type apoptoses (N=914, 50:50 wt:scr expts only)', \n",
    "                label = '', \n",
    "                cb_label = 'Number of cell apperances', \n",
    "                save_path = '/home/nathan/data/kraken/h2b/giulia/radial_analysis_output/cumulative_plots/scr_apop_wt_div/expt_types',\n",
    "                SI = True) ## SI is standard "
   ]
  },
  {
   "cell_type": "code",
   "execution_count": null,
   "metadata": {},
   "outputs": [],
   "source": [
    "render.plot_cumulative(input_2d_hist = N_events,\n",
    "                num_bins = 10,\n",
    "                radius = 400,\n",
    "                t_range = 400, \n",
    "                title = 'Spatiotemporal dist. of wild-type division \\n around wild-type apoptoses (N=914, 50:50 wt:scr expts only)', \n",
    "                label = '', \n",
    "                cb_label = 'Number of wild-type divisions', \n",
    "                save_path = '/home/nathan/data/kraken/h2b/giulia/radial_analysis_output/cumulative_plots/scr_apop_wt_div/expt_types',\n",
    "                SI = True)"
   ]
  },
  {
   "cell_type": "code",
   "execution_count": null,
   "metadata": {},
   "outputs": [],
   "source": [
    "render.plot_cumulative(input_2d_hist = N_events/N_cells,\n",
    "                num_bins = 10,\n",
    "                radius = 400,\n",
    "                t_range = 400, \n",
    "                title = 'Spatiotemporal dist. of probability of wild-type division \\n around wild-type apoptoses (N=914, 50:50 wt:scr expts only)', \n",
    "                label = '', \n",
    "                cb_label = 'Probability of division', \n",
    "                save_path = '/home/nathan/data/kraken/h2b/giulia/radial_analysis_output/cumulative_plots/scr_apop_wt_div/expt_types',\n",
    "                SI = True)"
   ]
  },
  {
   "cell_type": "markdown",
   "metadata": {},
   "source": [
    "90:10 wt:scr"
   ]
  },
  {
   "cell_type": "code",
   "execution_count": null,
   "metadata": {},
   "outputs": [],
   "source": [
    "expt_list_9010 = ['GV0794/Pos3',\n",
    " 'GV0794/Pos8',\n",
    " 'GV0794/Pos15',\n",
    " 'GV0795/Pos3',\n",
    " 'GV0795/Pos8',\n",
    " 'GV0795/Pos16',\n",
    " 'GV0796/Pos3',\n",
    " 'GV0796/Pos8',\n",
    " 'GV0796/Pos19',\n",
    " 'GV0796/Pos20',\n",
    " 'GV0797/Pos3',\n",
    " 'GV0797/Pos8',\n",
    " 'GV0797/Pos18',\n",
    " 'GV0797/Pos19',\n",
    " 'GV0798/Pos3',\n",
    " 'GV0798/Pos8',\n",
    " 'GV0798/Pos18',\n",
    " 'GV0798/Pos19',\n",
    " 'GV0800/Pos3',\n",
    " 'GV0800/Pos8',\n",
    " 'GV0800/Pos15',\n",
    " 'GV0801/Pos3',\n",
    " 'GV0802/Pos3',\n",
    " 'GV0804/Pos3',\n",
    " 'GV0805/Pos3',\n",
    " 'GV0806/Pos3',\n",
    " 'GV0807/Pos3']"
   ]
  },
  {
   "cell_type": "code",
   "execution_count": null,
   "metadata": {},
   "outputs": [],
   "source": [
    "N_cells, N_events = np.zeros((num_bins, num_bins)), np.zeros((num_bins, num_bins))\n",
    "N=0\n",
    "for heatmap_ID in natsorted(os.listdir(single_cell_heatmap_location)):\n",
    "    #print(heatmap_ID.split('_P'))\n",
    "    expt = 'GV' +str(re.findall(r\"GV(\\d+)\", heatmap_ID)[0])\n",
    "    position = re.findall(r\"Pos(\\d+)\", heatmap_ID)[0]\n",
    "    if os.path.join(expt,'Pos'+position) in expt_list_9010:\n",
    "        if 'N_cells' in heatmap_ID:\n",
    "            N_cells += np.load(os.path.join(single_cell_heatmap_location,heatmap_ID))\n",
    "        if 'N_events' in heatmap_ID:\n",
    "            N_events += np.load(os.path.join(single_cell_heatmap_location,heatmap_ID))\n",
    "            N+=1\n",
    "N"
   ]
  },
  {
   "cell_type": "code",
   "execution_count": null,
   "metadata": {},
   "outputs": [],
   "source": [
    "render.plot_cumulative(input_2d_hist = N_cells,\n",
    "                num_bins = 10,\n",
    "                radius = 400,\n",
    "                t_range = 400, \n",
    "                title = 'Spatiotemporal dist. of wild-type cells \\n around wild-type apoptoses (N=131, 90:10 wt:scr expts only)', \n",
    "                label = '', \n",
    "                cb_label = 'Number of cell apperances', \n",
    "                save_path = '/home/nathan/data/kraken/h2b/giulia/radial_analysis_output/cumulative_plots/scr_apop_wt_div/expt_types',\n",
    "                SI = True) ## SI is standard "
   ]
  },
  {
   "cell_type": "code",
   "execution_count": null,
   "metadata": {},
   "outputs": [],
   "source": [
    "render.plot_cumulative(input_2d_hist = N_events,\n",
    "                num_bins = 10,\n",
    "                radius = 400,\n",
    "                t_range = 400, \n",
    "                title = 'Spatiotemporal dist. of wild-type division \\n around wild-type apoptoses (N=131, 90:10 wt:scr expts only)', \n",
    "                label = '', \n",
    "                cb_label = 'Number of wild-type divisions', \n",
    "                save_path = '/home/nathan/data/kraken/h2b/giulia/radial_analysis_output/cumulative_plots/scr_apop_wt_div/expt_types',\n",
    "                SI = True)"
   ]
  },
  {
   "cell_type": "code",
   "execution_count": null,
   "metadata": {
    "scrolled": false
   },
   "outputs": [],
   "source": [
    "render.plot_cumulative(input_2d_hist = N_events/N_cells,\n",
    "                num_bins = 10,\n",
    "                radius = 400,\n",
    "                t_range = 400, \n",
    "                title = 'Spatiotemporal dist. of probability of wild-type division \\n around wild-type apoptoses (N=131, 90:10 wt:scr expts only)', \n",
    "                label = '', \n",
    "                cb_label = 'Probability of division', \n",
    "                save_path = '/home/nathan/data/kraken/h2b/giulia/radial_analysis_output/cumulative_plots/scr_apop_wt_div/expt_types',\n",
    "                SI = True)"
   ]
  },
  {
   "cell_type": "markdown",
   "metadata": {},
   "source": [
    "10:90 wt:scr"
   ]
  },
  {
   "cell_type": "code",
   "execution_count": null,
   "metadata": {},
   "outputs": [],
   "source": [
    "expt_list_1090 = ['GV0794/Pos5',\n",
    " 'GV0794/Pos6',\n",
    " 'GV0795/Pos5',\n",
    " 'GV0795/Pos6',\n",
    " 'GV0795/Pos18',\n",
    " 'GV0796/Pos5',\n",
    " 'GV0796/Pos6',\n",
    " 'GV0796/Pos23',\n",
    " 'GV0796/Pos24',\n",
    " 'GV0797/Pos5',\n",
    " 'GV0797/Pos6',\n",
    " 'GV0797/Pos22',\n",
    " 'GV0797/Pos23',\n",
    " 'GV0798/Pos5',\n",
    " 'GV0798/Pos6',\n",
    " 'GV0798/Pos22',\n",
    " 'GV0798/Pos23',\n",
    " 'GV0800/Pos5',\n",
    " 'GV0800/Pos6',\n",
    " 'GV0800/Pos17',\n",
    " 'GV0801/Pos5',\n",
    " 'GV0802/Pos5',\n",
    " 'GV0804/Pos5',\n",
    " 'GV0805/Pos5',\n",
    " 'GV0806/Pos5',\n",
    " 'GV0807/Pos5']"
   ]
  },
  {
   "cell_type": "code",
   "execution_count": null,
   "metadata": {},
   "outputs": [],
   "source": [
    "N_cells, N_events = np.zeros((num_bins, num_bins)), np.zeros((num_bins, num_bins))\n",
    "N=0\n",
    "for heatmap_ID in natsorted(os.listdir(single_cell_heatmap_location)):\n",
    "    #print(heatmap_ID.split('_P'))\n",
    "    expt = 'GV' +str(re.findall(r\"GV(\\d+)\", heatmap_ID)[0])\n",
    "    position = re.findall(r\"Pos(\\d+)\", heatmap_ID)[0]\n",
    "    if os.path.join(expt,'Pos'+position) in expt_list_1090:\n",
    "        if 'N_cells' in heatmap_ID:\n",
    "            N_cells += np.load(os.path.join(single_cell_heatmap_location,heatmap_ID))\n",
    "        if 'N_events' in heatmap_ID:\n",
    "            N_events += np.load(os.path.join(single_cell_heatmap_location,heatmap_ID))\n",
    "            N+=1\n",
    "N"
   ]
  },
  {
   "cell_type": "code",
   "execution_count": null,
   "metadata": {},
   "outputs": [],
   "source": [
    "render.plot_cumulative(input_2d_hist = N_cells,\n",
    "                num_bins = 10,\n",
    "                radius = 400,\n",
    "                t_range = 400, \n",
    "                title = 'Spatiotemporal dist. of wild-type cells around \\nwild-type apoptoses (N=597, 10:90 wt:scr expts only)', \n",
    "                label = '', \n",
    "                cb_label = 'Number of cell apperances', \n",
    "                save_path = '/home/nathan/data/kraken/h2b/giulia/radial_analysis_output/cumulative_plots/scr_apop_wt_div/expt_types',\n",
    "                SI = True) ## SI is standard "
   ]
  },
  {
   "cell_type": "code",
   "execution_count": null,
   "metadata": {},
   "outputs": [],
   "source": [
    "render.plot_cumulative(input_2d_hist = N_events,\n",
    "                num_bins = 10,\n",
    "                radius = 400,\n",
    "                t_range = 400, \n",
    "                title = 'Spatiotemporal dist. of wild-type division around \\nwild-type apoptoses (N=597, 10:90 wt:scr expts only)', \n",
    "                label = '', \n",
    "                cb_label = 'Number of wild-type divisions', \n",
    "                save_path = '/home/nathan/data/kraken/h2b/giulia/radial_analysis_output/cumulative_plots/scr_apop_wt_div/expt_types',\n",
    "                SI = True)"
   ]
  },
  {
   "cell_type": "code",
   "execution_count": null,
   "metadata": {},
   "outputs": [],
   "source": [
    "render.plot_cumulative(input_2d_hist = N_events/N_cells,\n",
    "                num_bins = 10,\n",
    "                radius = 400,\n",
    "                t_range = 400, \n",
    "                title = 'Spatiotemporal dist. of probability of wild-type division around \\nwild-type apoptoses (N=597, 10:90 wt:scr expts only)', \n",
    "                label = '', \n",
    "                cb_label = 'Probability of division', \n",
    "                save_path = '/home/nathan/data/kraken/h2b/giulia/radial_analysis_output/cumulative_plots/scr_apop_wt_div/expt_types',\n",
    "                SI = True)"
   ]
  },
  {
   "cell_type": "markdown",
   "metadata": {},
   "source": [
    "Write a function to do a time evolving plot that iteratively adds single cell heat maps according to the apoptosis time?"
   ]
  }
 ],
 "metadata": {
  "kernelspec": {
   "display_name": "Python 3",
   "language": "python",
   "name": "python3"
  },
  "language_info": {
   "codemirror_mode": {
    "name": "ipython",
    "version": 3
   },
   "file_extension": ".py",
   "mimetype": "text/x-python",
   "name": "python",
   "nbconvert_exporter": "python",
   "pygments_lexer": "ipython3",
   "version": "3.7.6"
  }
 },
 "nbformat": 4,
 "nbformat_minor": 4
}
