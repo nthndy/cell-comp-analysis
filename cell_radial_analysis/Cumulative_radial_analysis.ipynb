{
 "cells": [
  {
   "cell_type": "markdown",
   "metadata": {},
   "source": [
    "# Cumulative event counter"
   ]
  },
  {
   "cell_type": "markdown",
   "metadata": {},
   "source": [
    "### This notebook counts the cumulative spatio-temporal distribution of cellular events in the local neighbourhood of a series of apoptosis events\n",
    "\n",
    "1. Load dictionary of apoptoses and their corresponding times to base the spatiotemporal scans around \n",
    "2. Load corresponding tracking data and specify scan parameters\n",
    "3. Iteratively calculate spatiotemporal distribution of cellular events around apoptoses, saving each distribution out as a .npy distance-time heatmap\n",
    "4. Compile list of spatiotemporal heatmaps as cumulative heatmap\n",
    "5. Misc. section: comparing different experimental conditions"
   ]
  },
  {
   "cell_type": "code",
   "execution_count": 1,
   "metadata": {},
   "outputs": [],
   "source": [
    "import calculate_radial_analysis as calculate\n",
    "import tools\n",
    "import render\n",
    "import dataio\n",
    "\n",
    "import json\n",
    "import glob\n",
    "import os\n",
    "import re\n",
    "import numpy as np\n",
    "from natsort import natsorted\n",
    "from tqdm import tqdm\n",
    "import matplotlib.pyplot as plt\n",
    "from pathlib import Path"
   ]
  },
  {
   "cell_type": "markdown",
   "metadata": {},
   "source": [
    "## 1) Apoptosis dictionary loader\n",
    "Specify cell type to filter out unwanted apoptoses, want end result of apop_dict that takes the format of :`apop_dict = {apop_ID:apop_time}` \n",
    "\n",
    "where `apop_ID` takes the format of: `GV{experiment_ID}_Pos{position_ID}_{cell_ID}_{cell_type}` \n",
    "\n",
    "For example: \n",
    "\n",
    "```\n",
    "apop_dict = {'GV0794_Pos4_393_GFP': '766',\n",
    "             'GV0794_Pos7_364_GFP': '550',\n",
    "             'GV0794_Pos7_457_GFP': '805',\n",
    "             'GV0794_Pos7_369_GFP': '833',\n",
    "             'GV0794_Pos7_292_GFP': '884',\n",
    "             'GV0795_Pos4_358_GFP': '628',\n",
    "             'GV0795_Pos4_18_GFP': '855',\n",
    "             'GV0795_Pos4_1356_GFP': '992',\n",
    "             'GV0795_Pos4_359_GFP': '1133',\n",
    "             'GV0796_Pos4_542_GFP': '581',\n",
    "             'GV0796_Pos4_1334_GFP': '719',\n",
    "             'GV0796_Pos4_1586_GFP': '785'}\n",
    " ```\n",
    " \n",
    "Function to load apoptosis dictionary from preexisting data store:\n",
    "\n",
    "`dataio.apoptosis_list_loader(path_to_apop_lists, cell_type)`\n",
    "\n",
    "Where the `path_to_apop_lists` is the directory containing the apoptosis information and the `cell_type` is either `'Scr'` or `'WT'`."
   ]
  },
  {
   "cell_type": "code",
   "execution_count": 2,
   "metadata": {},
   "outputs": [
    {
     "data": {
      "text/plain": [
       "{'GV0797_Pos21_78_RFP': '186',\n",
       " 'GV0797_Pos21_54_RFP': '238',\n",
       " 'GV0797_Pos21_55_RFP': '268',\n",
       " 'GV0797_Pos21_83_RFP': '372',\n",
       " 'GV0797_Pos21_302_RFP': '380',\n",
       " 'GV0797_Pos21_22_RFP': '476',\n",
       " 'GV0797_Pos21_335_RFP': '506',\n",
       " 'GV0797_Pos21_334_RFP': '607',\n",
       " 'GV0797_Pos21_35_RFP': '634',\n",
       " 'GV0816_Pos0_406_RFP': '774',\n",
       " 'GV0816_Pos0_351_RFP': '873',\n",
       " 'GV0816_Pos0_374_RFP': '911',\n",
       " 'GV0816_Pos0_526_RFP': '904',\n",
       " 'GV0816_Pos0_343_RFP': '943',\n",
       " 'GV0800_Pos8_9_RFP': '109',\n",
       " 'GV0800_Pos8_74_RFP': '438',\n",
       " 'GV0800_Pos8_75_RFP': '546',\n",
       " 'GV0800_Pos8_118_RFP': '699',\n",
       " 'GV0800_Pos8_160_RFP': '806',\n",
       " 'GV0800_Pos8_162_RFP': '806',\n",
       " 'GV0796_Pos21_13_RFP': '71',\n",
       " 'GV0796_Pos21_16_RFP': '131',\n",
       " 'GV0796_Pos21_30_RFP': '136',\n",
       " 'GV0796_Pos21_23_RFP': '244',\n",
       " 'GV0796_Pos21_14_RFP': '272',\n",
       " 'GV0796_Pos21_230_RFP': '343',\n",
       " 'GV0796_Pos21_314_RFP': '451',\n",
       " 'GV0796_Pos21_252_RFP': '547',\n",
       " 'GV0796_Pos21_282_RFP': '642',\n",
       " 'GV0796_Pos21_18_RFP': '679',\n",
       " 'GV0796_Pos21_676_RFP': '719',\n",
       " 'GV0796_Pos21_675_RFP': '720',\n",
       " 'GV0796_Pos21_336_RFP': '763',\n",
       " 'GV0796_Pos21_339_RFP': '740',\n",
       " 'GV0796_Pos21_406_RFP': '769',\n",
       " 'GV0796_Pos21_697_RFP': '737',\n",
       " 'GV0796_Pos21_425_RFP': '798',\n",
       " 'GV0796_Pos21_702_RFP': '794',\n",
       " 'GV0796_Pos21_257_RFP': '860',\n",
       " 'GV0796_Pos21_312_RFP': '869',\n",
       " 'GV0796_Pos21_388_RFP': '863',\n",
       " 'GV0796_Pos21_646_RFP': '894',\n",
       " 'GV0796_Pos21_665_RFP': '911',\n",
       " 'GV0796_Pos21_405_RFP': '890',\n",
       " 'GV0795_Pos8_5_RFP': '25',\n",
       " 'GV0795_Pos8_3_RFP': '126',\n",
       " 'GV0795_Pos8_1_RFP': '24',\n",
       " 'GV0795_Pos8_144_RFP': '922',\n",
       " 'GV0795_Pos8_234_RFP': '988',\n",
       " 'GV0795_Pos8_233_RFP': '1153',\n",
       " 'GV0795_Pos8_7_RFP': '1146',\n",
       " 'GV0795_Pos6_41_RFP': '42',\n",
       " 'GV0795_Pos6_762_RFP': '1175',\n",
       " 'GV0795_Pos6_380_RFP': '821',\n",
       " 'GV0795_Pos6_185_RFP': '427',\n",
       " 'GV0795_Pos6_252_RFP': '418',\n",
       " 'GV0795_Pos6_184_RFP': '343',\n",
       " 'GV0795_Pos6_259_RFP': '453',\n",
       " 'GV0795_Pos6_736_RFP': '666',\n",
       " 'GV0795_Pos6_734_RFP': '666',\n",
       " 'GV0795_Pos6_417_RFP': '965',\n",
       " 'GV0795_Pos6_1093_RFP': '1038',\n",
       " 'GV0795_Pos6_372_RFP': '861',\n",
       " 'GV0795_Pos6_34_RFP': '917',\n",
       " 'GV0795_Pos6_1094_RFP': '985',\n",
       " 'GV0795_Pos6_1041_RFP': '894',\n",
       " 'GV0795_Pos6_1353_RFP': '1075',\n",
       " 'GV0795_Pos6_425_RFP': '1145',\n",
       " 'GV0795_Pos6_426_RFP': '1169',\n",
       " 'GV0795_Pos6_48_RFP': '757',\n",
       " 'GV0795_Pos6_19_RFP': '756',\n",
       " 'GV0795_Pos6_653_RFP': '745',\n",
       " 'GV0795_Pos6_413_RFP': '641',\n",
       " 'GV0795_Pos6_96_RFP': '674',\n",
       " 'GV0795_Pos6_414_RFP': '630',\n",
       " 'GV0795_Pos6_97_RFP': '805',\n",
       " 'GV0795_Pos6_654_RFP': '806',\n",
       " 'GV0795_Pos6_578_RFP': '885',\n",
       " 'GV0795_Pos6_1026_RFP': '1111',\n",
       " 'GV0795_Pos6_11_RFP': '1035',\n",
       " 'GV0795_Pos6_619_RFP': '782',\n",
       " 'GV0795_Pos6_700_RFP': '1106',\n",
       " 'GV0795_Pos6_579_RFP': '840',\n",
       " 'GV0795_Pos6_967_RFP': '941',\n",
       " 'GV0795_Pos6_160_RFP': '803',\n",
       " 'GV0796_Pos6_570_RFP': '521',\n",
       " 'GV0796_Pos6_569_RFP': '522',\n",
       " 'GV0796_Pos6_60_RFP': '573',\n",
       " 'GV0796_Pos6_57_RFP': '271',\n",
       " 'GV0796_Pos6_344_RFP': '559',\n",
       " 'GV0796_Pos6_39_RFP': '576',\n",
       " 'GV0796_Pos6_664_RFP': '913',\n",
       " 'GV0796_Pos6_565_RFP': '863',\n",
       " 'GV0796_Pos6_566_RFP': '854',\n",
       " 'GV0796_Pos6_841_RFP': '725',\n",
       " 'GV0796_Pos6_541_RFP': '732',\n",
       " 'GV0796_Pos6_839_RFP': '736',\n",
       " 'GV0796_Pos6_579_RFP': '760',\n",
       " 'GV0796_Pos6_542_RFP': '790',\n",
       " 'GV0796_Pos6_201_RFP': '572',\n",
       " 'GV0796_Pos6_881_RFP': '909',\n",
       " 'GV0796_Pos6_7_RFP': '918',\n",
       " 'GV0796_Pos6_638_RFP': '928',\n",
       " 'GV0796_Pos6_1063_RFP': '929',\n",
       " 'GV0796_Pos6_30_RFP': '92',\n",
       " 'GV0796_Pos6_86_RFP': '272',\n",
       " 'GV0796_Pos6_1022_RFP': '787',\n",
       " 'GV0796_Pos6_1146_RFP': '894',\n",
       " 'GV0796_Pos6_885_RFP': '912',\n",
       " 'GV0796_Pos6_1021_RFP': '975',\n",
       " 'GV0796_Pos6_18_RFP': '292',\n",
       " 'GV0807_Pos5_4_RFP': '14',\n",
       " 'GV0807_Pos5_52_RFP': '31',\n",
       " 'GV0807_Pos5_301_RFP': '224',\n",
       " 'GV0807_Pos5_459_RFP': '503',\n",
       " 'GV0807_Pos5_402_RFP': '618',\n",
       " 'GV0807_Pos5_354_RFP': '625',\n",
       " 'GV0807_Pos5_679_RFP': '650',\n",
       " 'GV0807_Pos5_950_RFP': '829',\n",
       " 'GV0807_Pos5_952_RFP': '837',\n",
       " 'GV0807_Pos5_334_RFP': '847',\n",
       " 'GV0807_Pos5_733_RFP': '833',\n",
       " 'GV0807_Pos5_916_RFP': '839',\n",
       " 'GV0807_Pos5_677_RFP': '899',\n",
       " 'GV0807_Pos5_1128_RFP': '931',\n",
       " 'GV0807_Pos5_460_RFP': '674',\n",
       " 'GV0807_Pos5_51_RFP': '898',\n",
       " 'GV0807_Pos5_977_RFP': '916',\n",
       " 'GV0807_Pos5_1149_RFP': '956',\n",
       " 'GV0807_Pos5_815_RFP': '1044',\n",
       " 'GV0807_Pos5_2_RFP': '1062',\n",
       " 'GV0807_Pos5_1281_RFP': '1126',\n",
       " 'GV0807_Pos5_1448_RFP': '1127',\n",
       " 'GV0807_Pos5_1427_RFP': '1133',\n",
       " 'GV0807_Pos5_1489_RFP': '1158',\n",
       " 'GV0807_Pos5_944_RFP': '1160',\n",
       " 'GV0807_Pos5_819_RFP': '956',\n",
       " 'GV0807_Pos5_793_RFP': '1093',\n",
       " 'GV0796_Pos23_66_RFP': '22',\n",
       " 'GV0796_Pos23_87_RFP': '26',\n",
       " 'GV0796_Pos23_62_RFP': '15',\n",
       " 'GV0796_Pos23_74_RFP': '293',\n",
       " 'GV0796_Pos23_18_RFP': '239',\n",
       " 'GV0796_Pos23_202_RFP': '588',\n",
       " 'GV0796_Pos23_786_RFP': '573',\n",
       " 'GV0796_Pos23_15_RFP': '824',\n",
       " 'GV0796_Pos23_1896_RFP': '946',\n",
       " 'GV0796_Pos23_2215_RFP': '946',\n",
       " 'GV0796_Pos23_890_RFP': '743',\n",
       " 'GV0796_Pos23_771_RFP': '832',\n",
       " 'GV0796_Pos23_968_RFP': '700',\n",
       " 'GV0796_Pos23_969_RFP': '793',\n",
       " 'GV0796_Pos23_1773_RFP': '869',\n",
       " 'GV0796_Pos23_1253_RFP': '634',\n",
       " 'GV0796_Pos23_16_RFP': '4',\n",
       " 'GV0796_Pos23_80_RFP': '354',\n",
       " 'GV0796_Pos23_525_RFP': '989',\n",
       " 'GV0796_Pos23_1767_RFP': '923',\n",
       " 'GV0796_Pos23_203_RFP': '210',\n",
       " 'GV0796_Pos23_36_RFP': '212',\n",
       " 'GV0796_Pos23_174_RFP': '359',\n",
       " 'GV0796_Pos23_655_RFP': '612',\n",
       " 'GV0796_Pos23_717_RFP': '670',\n",
       " 'GV0796_Pos23_718_RFP': '678',\n",
       " 'GV0796_Pos23_526_RFP': '797',\n",
       " 'GV0796_Pos23_323_RFP': '734',\n",
       " 'GV0796_Pos23_798_RFP': '842',\n",
       " 'GV0796_Pos23_1306_RFP': '701',\n",
       " 'GV0796_Pos23_1073_RFP': '687',\n",
       " 'GV0796_Pos23_799_RFP': '720',\n",
       " 'GV0796_Pos23_1412_RFP': '701',\n",
       " 'GV0796_Pos23_1898_RFP': '834',\n",
       " 'GV0796_Pos23_485_RFP': '781',\n",
       " 'GV0796_Pos23_1466_RFP': '719',\n",
       " 'GV0796_Pos23_770_RFP': '986',\n",
       " 'GV0797_Pos23_31_RFP': '166',\n",
       " 'GV0797_Pos23_26_RFP': '60',\n",
       " 'GV0797_Pos23_260_RFP': '235',\n",
       " 'GV0797_Pos23_125_RFP': '79',\n",
       " 'GV0797_Pos23_336_RFP': '456',\n",
       " 'GV0797_Pos23_252_RFP': '207',\n",
       " 'GV0797_Pos23_301_RFP': '207',\n",
       " 'GV0797_Pos23_36_RFP': '180',\n",
       " 'GV0797_Pos23_319_RFP': '556',\n",
       " 'GV0797_Pos23_556_RFP': '638',\n",
       " 'GV0813_Pos5_212_RFP': '640',\n",
       " 'GV0813_Pos5_340_RFP': '960',\n",
       " 'GV0813_Pos5_210_RFP': '855',\n",
       " 'GV0813_Pos5_155_RFP': '961',\n",
       " 'GV0819_Pos4_70_RFP': '85',\n",
       " 'GV0819_Pos4_52_RFP': '434',\n",
       " 'GV0819_Pos4_15_RFP': '620',\n",
       " 'GV0819_Pos4_201_RFP': '606',\n",
       " 'GV0819_Pos4_389_RFP': '749',\n",
       " 'GV0819_Pos4_603_RFP': '758',\n",
       " 'GV0819_Pos4_572_RFP': '730',\n",
       " 'GV0819_Pos4_339_RFP': '775',\n",
       " 'GV0819_Pos4_338_RFP': '775',\n",
       " 'GV0819_Pos4_430_RFP': '786',\n",
       " 'GV0819_Pos4_309_RFP': '813',\n",
       " 'GV0819_Pos4_429_RFP': '865',\n",
       " 'GV0819_Pos4_428_RFP': '922',\n",
       " 'GV0819_Pos4_10_RFP': '937',\n",
       " 'GV0819_Pos4_448_RFP': '1030',\n",
       " 'GV0819_Pos4_625_RFP': '1065',\n",
       " 'GV0819_Pos4_341_RFP': '1114',\n",
       " 'GV0819_Pos4_417_RFP': '1112',\n",
       " 'GV0819_Pos4_573_RFP': '1092',\n",
       " 'GV0819_Pos4_502_RFP': '1145',\n",
       " 'GV0819_Pos4_1112_RFP': '1075',\n",
       " 'GV0819_Pos4_624_RFP': '1098',\n",
       " 'GV0819_Pos4_1382_RFP': '1098',\n",
       " 'GV0819_Pos4_1354_RFP': '1098',\n",
       " 'GV0819_Pos4_410_RFP': '1111',\n",
       " 'GV0819_Pos4_715_RFP': '1172',\n",
       " 'GV0819_Pos4_1144_RFP': '981',\n",
       " 'GV0819_Pos4_633_RFP': '1173',\n",
       " 'GV0819_Pos4_60_RFP': '920',\n",
       " 'GV0819_Pos4_463_RFP': '1014',\n",
       " 'GV0819_Pos4_1222_RFP': '1156',\n",
       " 'GV0819_Pos4_409_RFP': '1162',\n",
       " 'GV0819_Pos4_753_RFP': '1096',\n",
       " 'GV0795_Pos18_379_RFP': '518',\n",
       " 'GV0795_Pos18_413_RFP': '665',\n",
       " 'GV0795_Pos18_854_RFP': '1013',\n",
       " 'GV0795_Pos18_855_RFP': '1051',\n",
       " 'GV0795_Pos18_1179_RFP': '1063',\n",
       " 'GV0795_Pos18_409_RFP': '719',\n",
       " 'GV0795_Pos18_684_RFP': '765',\n",
       " 'GV0795_Pos18_802_RFP': '765',\n",
       " 'GV0795_Pos18_46_RFP': '31',\n",
       " 'GV0795_Pos18_521_RFP': '707',\n",
       " 'GV0795_Pos18_3_RFP': '827',\n",
       " 'GV0795_Pos18_715_RFP': '892',\n",
       " 'GV0795_Pos18_28_RFP': '911',\n",
       " 'GV0795_Pos18_12_RFP': '876',\n",
       " 'GV0795_Pos18_19_RFP': '10',\n",
       " 'GV0795_Pos18_728_RFP': '820',\n",
       " 'GV0815_Pos0_230_RFP': '251',\n",
       " 'GV0815_Pos0_8_RFP': '568',\n",
       " 'GV0815_Pos0_354_RFP': '649',\n",
       " 'GV0815_Pos0_465_RFP': '653',\n",
       " 'GV0815_Pos0_537_RFP': '633',\n",
       " 'GV0815_Pos0_557_RFP': '642',\n",
       " 'GV0815_Pos0_543_RFP': '648',\n",
       " 'GV0815_Pos0_542_RFP': '662',\n",
       " 'GV0815_Pos0_570_RFP': '718',\n",
       " 'GV0815_Pos0_568_RFP': '715',\n",
       " 'GV0815_Pos0_393_RFP': '709',\n",
       " 'GV0815_Pos0_386_RFP': '697',\n",
       " 'GV0815_Pos0_344_RFP': '798',\n",
       " 'GV0815_Pos0_572_RFP': '806',\n",
       " 'GV0815_Pos0_714_RFP': '839',\n",
       " 'GV0815_Pos0_516_RFP': '851',\n",
       " 'GV0815_Pos0_158_RFP': '858',\n",
       " 'GV0815_Pos0_498_RFP': '815',\n",
       " 'GV0815_Pos0_685_RFP': '829',\n",
       " 'GV0815_Pos0_825_RFP': '963',\n",
       " 'GV0815_Pos0_489_RFP': '983',\n",
       " 'GV0815_Pos0_13_RFP': '984',\n",
       " 'GV0815_Pos0_844_RFP': '997',\n",
       " 'GV0815_Pos0_390_RFP': '1170',\n",
       " 'GV0815_Pos0_207_RFP': '1167',\n",
       " 'GV0815_Pos0_17_RFP': '1130',\n",
       " 'GV0815_Pos0_42_RFP': '1079',\n",
       " 'GV0815_Pos0_802_RFP': '1138',\n",
       " 'GV0815_Pos0_453_RFP': '1175',\n",
       " 'GV0815_Pos0_750_RFP': '1103',\n",
       " 'GV0815_Pos0_966_RFP': '1158',\n",
       " 'GV0798_Pos18_12_RFP': '640',\n",
       " 'GV0798_Pos18_1292_RFP': '951',\n",
       " 'GV0802_Pos3_10_RFP': '72',\n",
       " 'GV0802_Pos3_4_RFP': '332',\n",
       " 'GV0802_Pos3_110_RFP': '572',\n",
       " 'GV0802_Pos3_109_RFP': '599',\n",
       " 'GV0802_Pos3_106_RFP': '604',\n",
       " 'GV0802_Pos3_128_RFP': '713',\n",
       " 'GV0802_Pos3_7_RFP': '718',\n",
       " 'GV0802_Pos3_93_RFP': '760',\n",
       " 'GV0802_Pos3_91_RFP': '698',\n",
       " 'GV0802_Pos3_131_RFP': '970',\n",
       " 'GV0802_Pos3_16_RFP': '888',\n",
       " 'GV0802_Pos3_154_RFP': '1024',\n",
       " 'GV0816_Pos23_8_RFP': '44',\n",
       " 'GV0816_Pos23_30_RFP': '19',\n",
       " 'GV0816_Pos23_36_RFP': '31',\n",
       " 'GV0816_Pos23_426_RFP': '572',\n",
       " 'GV0816_Pos23_269_RFP': '622',\n",
       " 'GV0816_Pos23_330_RFP': '888',\n",
       " 'GV0816_Pos23_526_RFP': '961',\n",
       " 'GV0800_Pos17_23_RFP': '42',\n",
       " 'GV0800_Pos17_48_RFP': '28',\n",
       " 'GV0800_Pos17_359_RFP': '432',\n",
       " 'GV0800_Pos17_518_RFP': '695',\n",
       " 'GV0800_Pos17_587_RFP': '834',\n",
       " 'GV0800_Pos17_385_RFP': '862',\n",
       " 'GV0800_Pos17_462_RFP': '962',\n",
       " 'GV0800_Pos17_380_RFP': '1050',\n",
       " 'GV0800_Pos17_519_RFP': '1065',\n",
       " 'GV0800_Pos17_727_RFP': '1075',\n",
       " 'GV0800_Pos17_728_RFP': '1074',\n",
       " 'GV0800_Pos17_804_RFP': '1110',\n",
       " 'GV0800_Pos17_917_RFP': '1125',\n",
       " 'GV0800_Pos17_716_RFP': '1107',\n",
       " 'GV0800_Pos17_753_RFP': '1007',\n",
       " 'GV0796_Pos7_39_RFP': '20',\n",
       " 'GV0796_Pos7_40_RFP': '2',\n",
       " 'GV0796_Pos7_48_RFP': '1',\n",
       " 'GV0796_Pos7_72_RFP': '17',\n",
       " 'GV0796_Pos7_6_RFP': '131',\n",
       " 'GV0796_Pos7_5_RFP': '204',\n",
       " 'GV0796_Pos7_85_RFP': '482',\n",
       " 'GV0796_Pos7_443_RFP': '617',\n",
       " 'GV0796_Pos7_41_RFP': '550',\n",
       " 'GV0796_Pos7_412_RFP': '612',\n",
       " 'GV0796_Pos7_413_RFP': '627',\n",
       " 'GV0796_Pos7_446_RFP': '834',\n",
       " 'GV0796_Pos7_385_RFP': '647',\n",
       " 'GV0796_Pos7_3_RFP': '710',\n",
       " 'GV0796_Pos7_327_RFP': '761',\n",
       " 'GV0796_Pos7_618_RFP': '679',\n",
       " 'GV0796_Pos7_153_RFP': '697',\n",
       " 'GV0796_Pos7_506_RFP': '725',\n",
       " 'GV0796_Pos7_395_RFP': '627',\n",
       " 'GV0796_Pos7_399_RFP': '735',\n",
       " 'GV0796_Pos7_695_RFP': '780',\n",
       " 'GV0796_Pos7_394_RFP': '815',\n",
       " 'GV0796_Pos7_445_RFP': '864',\n",
       " 'GV0796_Pos7_460_RFP': '870',\n",
       " 'GV0796_Pos7_403_RFP': '789',\n",
       " 'GV0796_Pos7_609_RFP': '811',\n",
       " 'GV0797_Pos7_14_RFP': '99',\n",
       " 'GV0797_Pos7_45_RFP': '201',\n",
       " 'GV0797_Pos7_5_RFP': '254',\n",
       " 'GV0797_Pos7_146_RFP': '388',\n",
       " 'GV0797_Pos7_145_RFP': '398',\n",
       " 'GV0797_Pos7_30_RFP': '393',\n",
       " 'GV0797_Pos7_106_RFP': '424',\n",
       " 'GV0797_Pos7_9_RFP': '405',\n",
       " 'GV0797_Pos7_204_RFP': '487',\n",
       " 'GV0797_Pos7_105_RFP': '473',\n",
       " 'GV0797_Pos7_200_RFP': '486',\n",
       " 'GV0797_Pos7_199_RFP': '625',\n",
       " 'GV0797_Pos7_208_RFP': '475',\n",
       " 'GV0797_Pos7_207_RFP': '475',\n",
       " 'GV0797_Pos7_203_RFP': '516',\n",
       " 'GV0813_Pos0_13_RFP': '10',\n",
       " 'GV0813_Pos0_14_RFP': '6',\n",
       " 'GV0813_Pos0_115_RFP': '941',\n",
       " 'GV0813_Pos0_10_RFP': '939',\n",
       " 'GV0813_Pos0_12_RFP': '1007',\n",
       " 'GV0802_Pos4_23_RFP': '4',\n",
       " 'GV0802_Pos4_28_RFP': '11',\n",
       " 'GV0802_Pos4_18_RFP': '33',\n",
       " 'GV0802_Pos4_12_RFP': '347',\n",
       " 'GV0802_Pos4_198_RFP': '479',\n",
       " 'GV0802_Pos4_275_RFP': '525',\n",
       " 'GV0802_Pos4_245_RFP': '630',\n",
       " 'GV0802_Pos4_353_RFP': '783',\n",
       " 'GV0802_Pos4_272_RFP': '809',\n",
       " 'GV0802_Pos4_276_RFP': '857',\n",
       " 'GV0802_Pos4_3_RFP': '917',\n",
       " 'GV0802_Pos4_31_RFP': '1011',\n",
       " 'GV0807_Pos4_12_RFP': '128',\n",
       " 'GV0807_Pos4_16_RFP': '276',\n",
       " 'GV0807_Pos4_23_RFP': '494',\n",
       " 'GV0807_Pos4_276_RFP': '490',\n",
       " 'GV0807_Pos4_345_RFP': '646',\n",
       " 'GV0807_Pos4_330_RFP': '667',\n",
       " 'GV0807_Pos4_191_RFP': '672',\n",
       " 'GV0807_Pos4_429_RFP': '803',\n",
       " 'GV0807_Pos4_50_RFP': '956',\n",
       " 'GV0807_Pos4_382_RFP': '964',\n",
       " 'GV0807_Pos4_381_RFP': '1042',\n",
       " 'GV0807_Pos4_190_RFP': '1103',\n",
       " 'GV0807_Pos4_377_RFP': '1126',\n",
       " 'GV0807_Pos4_169_RFP': '892',\n",
       " 'GV0796_Pos19_9_RFP': '205',\n",
       " 'GV0796_Pos19_3_RFP': '476',\n",
       " 'GV0796_Pos19_58_RFP': '690',\n",
       " 'GV0796_Pos19_69_RFP': '667',\n",
       " 'GV0796_Pos19_70_RFP': '731',\n",
       " 'GV0796_Pos19_125_RFP': '882',\n",
       " 'GV0797_Pos19_7_RFP': '242',\n",
       " 'GV0797_Pos19_8_RFP': '338',\n",
       " 'GV0819_Pos3_110_RFP': '25',\n",
       " 'GV0819_Pos3_8_RFP': '41',\n",
       " 'GV0819_Pos3_406_RFP': '464',\n",
       " 'GV0819_Pos3_717_RFP': '499',\n",
       " 'GV0819_Pos3_647_RFP': '543',\n",
       " 'GV0819_Pos3_493_RFP': '678',\n",
       " 'GV0819_Pos3_607_RFP': '499',\n",
       " 'GV0819_Pos3_744_RFP': '639',\n",
       " 'GV0819_Pos3_746_RFP': '639',\n",
       " 'GV0819_Pos3_1087_RFP': '695',\n",
       " 'GV0819_Pos3_936_RFP': '710',\n",
       " 'GV0819_Pos3_1092_RFP': '710',\n",
       " 'GV0819_Pos3_158_RFP': '717',\n",
       " 'GV0819_Pos3_887_RFP': '728',\n",
       " 'GV0819_Pos3_324_RFP': '753',\n",
       " 'GV0819_Pos3_1171_RFP': '760',\n",
       " 'GV0819_Pos3_1172_RFP': '764',\n",
       " 'GV0819_Pos3_1180_RFP': '772',\n",
       " 'GV0819_Pos3_1181_RFP': '763',\n",
       " 'GV0819_Pos3_54_RFP': '784',\n",
       " 'GV0819_Pos3_1135_RFP': '744',\n",
       " 'GV0819_Pos3_702_RFP': '801',\n",
       " 'GV0819_Pos3_66_RFP': '820',\n",
       " 'GV0819_Pos3_1419_RFP': '841',\n",
       " 'GV0819_Pos3_48_RFP': '897',\n",
       " 'GV0819_Pos3_17_RFP': '918',\n",
       " 'GV0819_Pos3_1099_RFP': '970',\n",
       " 'GV0819_Pos3_774_RFP': '990',\n",
       " 'GV0819_Pos3_1735_RFP': '995',\n",
       " 'GV0819_Pos3_494_RFP': '1111',\n",
       " 'GV0819_Pos3_606_RFP': '1136',\n",
       " 'GV0819_Pos3_1659_RFP': '1146',\n",
       " 'GV0819_Pos3_870_RFP': '1016',\n",
       " 'GV0819_Pos3_319_RFP': '1009',\n",
       " 'GV0819_Pos3_823_RFP': '840',\n",
       " 'GV0798_Pos4_27_RFP': '2',\n",
       " 'GV0798_Pos4_22_RFP': '39',\n",
       " 'GV0798_Pos4_344_RFP': '679',\n",
       " 'GV0798_Pos4_253_RFP': '701',\n",
       " 'GV0798_Pos4_302_RFP': '724',\n",
       " 'GV0798_Pos4_255_RFP': '751',\n",
       " 'GV0800_Pos7_7_RFP': '1',\n",
       " 'GV0800_Pos7_27_RFP': '12',\n",
       " 'GV0800_Pos7_52_RFP': '169',\n",
       " 'GV0800_Pos7_165_RFP': '164',\n",
       " 'GV0800_Pos7_29_RFP': '302',\n",
       " 'GV0800_Pos7_368_RFP': '510',\n",
       " 'GV0800_Pos7_393_RFP': '558',\n",
       " 'GV0800_Pos7_392_RFP': '560',\n",
       " 'GV0800_Pos7_456_RFP': '652',\n",
       " 'GV0800_Pos7_440_RFP': '674',\n",
       " 'GV0800_Pos7_14_RFP': '647',\n",
       " 'GV0800_Pos7_299_RFP': '650',\n",
       " 'GV0800_Pos7_297_RFP': '678',\n",
       " 'GV0800_Pos7_279_RFP': '694',\n",
       " 'GV0800_Pos7_16_RFP': '675',\n",
       " 'GV0800_Pos7_361_RFP': '801',\n",
       " 'GV0800_Pos7_373_RFP': '804',\n",
       " 'GV0800_Pos7_190_RFP': '808',\n",
       " 'GV0800_Pos7_598_RFP': '1020',\n",
       " 'GV0800_Pos7_667_RFP': '1005',\n",
       " 'GV0800_Pos7_669_RFP': '1005',\n",
       " 'GV0813_Pos1_92_RFP': '182',\n",
       " 'GV0813_Pos1_1_RFP': '274',\n",
       " 'GV0813_Pos1_2_RFP': '293',\n",
       " 'GV0813_Pos1_386_RFP': '610',\n",
       " 'GV0813_Pos1_335_RFP': '658',\n",
       " 'GV0813_Pos1_170_RFP': '587',\n",
       " 'GV0813_Pos1_185_RFP': '667',\n",
       " 'GV0813_Pos1_184_RFP': '783',\n",
       " 'GV0813_Pos1_271_RFP': '854',\n",
       " 'GV0813_Pos1_300_RFP': '872',\n",
       " 'GV0813_Pos1_510_RFP': '903',\n",
       " 'GV0813_Pos1_325_RFP': '913',\n",
       " 'GV0813_Pos1_10_RFP': '723',\n",
       " 'GV0813_Pos1_171_RFP': '762',\n",
       " 'GV0813_Pos4_190_RFP': '536',\n",
       " 'GV0813_Pos4_99_RFP': '684',\n",
       " 'GV0813_Pos4_513_RFP': '1009',\n",
       " 'GV0813_Pos4_514_RFP': '1019',\n",
       " 'GV0813_Pos4_11_RFP': '981',\n",
       " 'GV0813_Pos4_276_RFP': '1042',\n",
       " 'GV0804_Pos5_28_RFP': '208',\n",
       " 'GV0804_Pos5_797_RFP': '485',\n",
       " 'GV0804_Pos5_661_RFP': '512',\n",
       " 'GV0804_Pos5_686_RFP': '565',\n",
       " 'GV0804_Pos5_883_RFP': '607',\n",
       " 'GV0804_Pos5_621_RFP': '663',\n",
       " 'GV0804_Pos5_828_RFP': '714',\n",
       " 'GV0804_Pos5_826_RFP': '707',\n",
       " 'GV0804_Pos5_771_RFP': '707',\n",
       " 'GV0804_Pos5_688_RFP': '689',\n",
       " 'GV0804_Pos5_865_RFP': '663',\n",
       " 'GV0804_Pos5_838_RFP': '798',\n",
       " 'GV0804_Pos5_1094_RFP': '822',\n",
       " 'GV0804_Pos5_1058_RFP': '857',\n",
       " 'GV0804_Pos5_1154_RFP': '866',\n",
       " 'GV0804_Pos5_689_RFP': '881',\n",
       " 'GV0804_Pos5_933_RFP': '871',\n",
       " 'GV0804_Pos5_1274_RFP': '936',\n",
       " 'GV0804_Pos5_1275_RFP': '936',\n",
       " 'GV0804_Pos5_1059_RFP': '938',\n",
       " 'GV0804_Pos5_761_RFP': '928',\n",
       " 'GV0804_Pos5_1155_RFP': '909',\n",
       " 'GV0804_Pos5_778_RFP': '978',\n",
       " 'GV0804_Pos5_709_RFP': '1021',\n",
       " 'GV0804_Pos5_662_RFP': '1044',\n",
       " 'GV0804_Pos5_701_RFP': '878',\n",
       " 'GV0804_Pos5_943_RFP': '1032',\n",
       " 'GV0804_Pos5_918_RFP': '729',\n",
       " 'GV0804_Pos5_934_RFP': '675',\n",
       " 'GV0797_Pos8_3_RFP': '193',\n",
       " 'GV0797_Pos8_5_RFP': '251',\n",
       " 'GV0797_Pos8_11_RFP': '392',\n",
       " 'GV0797_Pos8_59_RFP': '484',\n",
       " 'GV0814_Pos0_30_RFP': '12',\n",
       " 'GV0814_Pos0_27_RFP': '18',\n",
       " 'GV0814_Pos0_15_RFP': '87',\n",
       " 'GV0814_Pos0_29_RFP': '86',\n",
       " 'GV0814_Pos0_23_RFP': '277',\n",
       " 'GV0814_Pos0_22_RFP': '285',\n",
       " 'GV0814_Pos0_462_RFP': '515',\n",
       " 'GV0814_Pos0_465_RFP': '570',\n",
       " 'GV0814_Pos0_662_RFP': '811',\n",
       " 'GV0814_Pos0_522_RFP': '855',\n",
       " 'GV0814_Pos0_18_RFP': '943',\n",
       " 'GV0814_Pos0_782_RFP': '984',\n",
       " 'GV0814_Pos0_357_RFP': '997',\n",
       " 'GV0814_Pos0_386_RFP': '1014',\n",
       " 'GV0814_Pos0_579_RFP': '1062',\n",
       " 'GV0814_Pos0_13_RFP': '1099',\n",
       " 'GV0814_Pos0_759_RFP': '1183',\n",
       " 'GV0814_Pos0_515_RFP': '1057',\n",
       " 'GV0820_Pos5_48_RFP': '50',\n",
       " 'GV0820_Pos5_3_RFP': '295',\n",
       " 'GV0820_Pos5_429_RFP': '502',\n",
       " 'GV0820_Pos5_11_RFP': '554',\n",
       " 'GV0820_Pos5_410_RFP': '559',\n",
       " 'GV0820_Pos5_417_RFP': '568',\n",
       " 'GV0820_Pos5_305_RFP': '560',\n",
       " 'GV0820_Pos5_343_RFP': '564',\n",
       " 'GV0820_Pos5_31_RFP': '601',\n",
       " 'GV0820_Pos5_463_RFP': '624',\n",
       " 'GV0820_Pos5_38_RFP': '613',\n",
       " 'GV0820_Pos5_90_RFP': '628',\n",
       " 'GV0820_Pos5_395_RFP': '700',\n",
       " 'GV0820_Pos5_266_RFP': '776',\n",
       " 'GV0820_Pos5_34_RFP': '820',\n",
       " 'GV0820_Pos5_44_RFP': '923',\n",
       " 'GV0820_Pos5_420_RFP': '958',\n",
       " 'GV0820_Pos5_10_RFP': '936',\n",
       " 'GV0820_Pos5_445_RFP': '983',\n",
       " 'GV0820_Pos5_302_RFP': '1030',\n",
       " 'GV0820_Pos5_562_RFP': '997',\n",
       " 'GV0820_Pos5_972_RFP': '1012',\n",
       " 'GV0796_Pos24_765_RFP': '613',\n",
       " 'GV0796_Pos24_946_RFP': '905',\n",
       " 'GV0796_Pos24_2105_RFP': '935',\n",
       " 'GV0796_Pos24_56_RFP': '625',\n",
       " 'GV0796_Pos24_529_RFP': '388',\n",
       " 'GV0796_Pos24_856_RFP': '493',\n",
       " 'GV0796_Pos24_1017_RFP': '730',\n",
       " 'GV0796_Pos24_1015_RFP': '855',\n",
       " 'GV0796_Pos24_1730_RFP': '894',\n",
       " 'GV0796_Pos24_792_RFP': '440',\n",
       " 'GV0796_Pos24_272_RFP': '632',\n",
       " 'GV0796_Pos24_18_RFP': '904',\n",
       " 'GV0796_Pos24_1066_RFP': '743',\n",
       " 'GV0796_Pos24_1059_RFP': '835',\n",
       " 'GV0796_Pos24_1536_RFP': '838',\n",
       " 'GV0796_Pos24_1039_RFP': '732',\n",
       " 'GV0796_Pos24_1108_RFP': '777',\n",
       " 'GV0796_Pos24_25_RFP': '823',\n",
       " 'GV0796_Pos24_731_RFP': '829',\n",
       " 'GV0796_Pos24_1080_RFP': '842',\n",
       " 'GV0796_Pos24_35_RFP': '210',\n",
       " 'GV0796_Pos24_1415_RFP': '826',\n",
       " 'GV0796_Pos24_65_RFP': '48',\n",
       " 'GV0796_Pos24_1002_RFP': '824',\n",
       " 'GV0796_Pos24_900_RFP': '844',\n",
       " 'GV0796_Pos24_1047_RFP': '862',\n",
       " 'GV0796_Pos24_1378_RFP': '860',\n",
       " 'GV0796_Pos24_799_RFP': '939',\n",
       " 'GV0796_Pos24_1128_RFP': '610',\n",
       " 'GV0796_Pos24_1007_RFP': '777',\n",
       " 'GV0796_Pos24_1006_RFP': '775',\n",
       " 'GV0796_Pos24_1127_RFP': '808',\n",
       " 'GV0796_Pos24_1811_RFP': '843',\n",
       " 'GV0796_Pos24_873_RFP': '939',\n",
       " 'GV0820_Pos2_29_RFP': '12',\n",
       " 'GV0820_Pos2_47_RFP': '33',\n",
       " 'GV0820_Pos2_94_RFP': '50',\n",
       " 'GV0820_Pos2_256_RFP': '295',\n",
       " 'GV0820_Pos2_375_RFP': '563',\n",
       " 'GV0820_Pos2_377_RFP': '563',\n",
       " 'GV0820_Pos2_317_RFP': '504',\n",
       " 'GV0820_Pos2_25_RFP': '647',\n",
       " 'GV0820_Pos2_438_RFP': '610',\n",
       " 'GV0820_Pos2_43_RFP': '611',\n",
       " 'GV0820_Pos2_54_RFP': '741',\n",
       " 'GV0820_Pos2_439_RFP': '659',\n",
       " 'GV0820_Pos2_422_RFP': '792',\n",
       " 'GV0820_Pos2_423_RFP': '793',\n",
       " 'GV0820_Pos2_687_RFP': '786',\n",
       " 'GV0820_Pos2_686_RFP': '786',\n",
       " 'GV0820_Pos2_659_RFP': '831',\n",
       " 'GV0820_Pos2_50_RFP': '951',\n",
       " 'GV0820_Pos2_700_RFP': '996',\n",
       " 'GV0820_Pos2_441_RFP': '785',\n",
       " 'GV0820_Pos2_51_RFP': '832',\n",
       " 'GV0820_Pos2_793_RFP': '861',\n",
       " 'GV0820_Pos2_258_RFP': '1032',\n",
       " 'GV0798_Pos21_28_RFP': '150',\n",
       " 'GV0798_Pos21_32_RFP': '290',\n",
       " 'GV0798_Pos21_3_RFP': '327',\n",
       " 'GV0798_Pos21_398_RFP': '478',\n",
       " 'GV0798_Pos21_43_RFP': '560',\n",
       " 'GV0798_Pos21_850_RFP': '668',\n",
       " 'GV0798_Pos21_133_RFP': '599',\n",
       " 'GV0798_Pos21_365_RFP': '657',\n",
       " 'GV0798_Pos21_558_RFP': '799',\n",
       " 'GV0798_Pos21_7_RFP': '723',\n",
       " 'GV0798_Pos21_906_RFP': '726',\n",
       " 'GV0798_Pos21_582_RFP': '710',\n",
       " 'GV0798_Pos21_4_RFP': '921',\n",
       " 'GV0798_Pos21_9_RFP': '832',\n",
       " 'GV0798_Pos21_13_RFP': '809',\n",
       " 'GV0795_Pos17_13_RFP': '14',\n",
       " 'GV0795_Pos17_16_RFP': '7',\n",
       " 'GV0795_Pos17_26_RFP': '59',\n",
       " 'GV0795_Pos17_6_RFP': '117',\n",
       " 'GV0795_Pos17_4_RFP': '438',\n",
       " 'GV0795_Pos17_115_RFP': '651',\n",
       " 'GV0795_Pos17_152_RFP': '719',\n",
       " 'GV0795_Pos17_151_RFP': '770',\n",
       " 'GV0795_Pos17_129_RFP': '784',\n",
       " 'GV0795_Pos17_121_RFP': '815',\n",
       " 'GV0795_Pos17_11_RFP': '844',\n",
       " 'GV0795_Pos17_128_RFP': '869',\n",
       " 'GV0795_Pos17_258_RFP': '876',\n",
       " 'GV0795_Pos17_209_RFP': '891',\n",
       " 'GV0795_Pos17_267_RFP': '954',\n",
       " 'GV0795_Pos17_471_RFP': '980',\n",
       " 'GV0795_Pos17_98_RFP': '1100',\n",
       " 'GV0795_Pos17_132_RFP': '991',\n",
       " 'GV0815_Pos11_4_RFP': '435',\n",
       " 'GV0815_Pos11_199_RFP': '556',\n",
       " 'GV0815_Pos11_279_RFP': '600',\n",
       " 'GV0815_Pos11_283_RFP': '626',\n",
       " 'GV0815_Pos11_277_RFP': '674',\n",
       " 'GV0815_Pos11_284_RFP': '694',\n",
       " 'GV0815_Pos11_297_RFP': '644',\n",
       " 'GV0815_Pos11_173_RFP': '713',\n",
       " 'GV0815_Pos11_355_RFP': '715',\n",
       " 'GV0815_Pos11_450_RFP': '849',\n",
       " 'GV0815_Pos11_10_RFP': '832',\n",
       " 'GV0815_Pos11_358_RFP': '845',\n",
       " 'GV0815_Pos11_607_RFP': '889',\n",
       " 'GV0815_Pos11_9_RFP': '884',\n",
       " 'GV0815_Pos11_657_RFP': '884',\n",
       " 'GV0815_Pos11_6_RFP': '1034',\n",
       " 'GV0815_Pos11_742_RFP': '1063',\n",
       " 'GV0815_Pos11_787_RFP': '1130',\n",
       " 'GV0815_Pos11_579_RFP': '1097',\n",
       " 'GV0815_Pos11_8_RFP': '1137',\n",
       " 'GV0815_Pos11_829_RFP': '1160',\n",
       " 'GV0815_Pos11_274_RFP': '1162',\n",
       " 'GV0795_Pos7_37_RFP': '177',\n",
       " 'GV0795_Pos7_390_RFP': '713',\n",
       " 'GV0795_Pos7_421_RFP': '648',\n",
       " 'GV0795_Pos7_460_RFP': '807',\n",
       " 'GV0795_Pos7_263_RFP': '555',\n",
       " 'GV0795_Pos7_264_RFP': '459',\n",
       " 'GV0795_Pos7_680_RFP': '728',\n",
       " 'GV0795_Pos7_874_RFP': '809',\n",
       " 'GV0795_Pos7_873_RFP': '809',\n",
       " 'GV0795_Pos7_255_RFP': '789',\n",
       " 'GV0795_Pos7_850_RFP': '832',\n",
       " 'GV0795_Pos7_1030_RFP': '920',\n",
       " 'GV0795_Pos7_1029_RFP': '921',\n",
       " 'GV0795_Pos7_823_RFP': '937',\n",
       " 'GV0795_Pos7_308_RFP': '859',\n",
       " 'GV0795_Pos7_488_RFP': '751',\n",
       " 'GV0795_Pos7_410_RFP': '962',\n",
       " 'GV0795_Pos7_416_RFP': '1010',\n",
       " 'GV0795_Pos7_1119_RFP': '1008',\n",
       " 'GV0795_Pos7_468_RFP': '1080',\n",
       " 'GV0800_Pos16_15_RFP': '27',\n",
       " 'GV0800_Pos16_29_RFP': '4',\n",
       " 'GV0800_Pos16_8_RFP': '66',\n",
       " 'GV0800_Pos16_24_RFP': '37',\n",
       " 'GV0800_Pos16_31_RFP': '192',\n",
       " 'GV0800_Pos16_505_RFP': '536',\n",
       " 'GV0800_Pos16_63_RFP': '543',\n",
       " 'GV0800_Pos16_496_RFP': '659',\n",
       " 'GV0800_Pos16_23_RFP': '688',\n",
       " 'GV0800_Pos16_572_RFP': '746',\n",
       " 'GV0800_Pos16_542_RFP': '839',\n",
       " 'GV0800_Pos16_583_RFP': '840',\n",
       " 'GV0800_Pos16_580_RFP': '795',\n",
       " 'GV0800_Pos16_10_RFP': '813',\n",
       " 'GV0800_Pos16_584_RFP': '802',\n",
       " 'GV0800_Pos16_478_RFP': '738',\n",
       " 'GV0800_Pos16_849_RFP': '997',\n",
       " 'GV0800_Pos16_803_RFP': '957',\n",
       " 'GV0800_Pos16_522_RFP': '956',\n",
       " 'GV0800_Pos16_451_RFP': '1019',\n",
       " 'GV0800_Pos16_489_RFP': '983',\n",
       " 'GV0800_Pos16_504_RFP': '1063',\n",
       " 'GV0800_Pos16_13_RFP': '1110',\n",
       " 'GV0800_Pos16_528_RFP': '1016',\n",
       " 'GV0800_Pos16_1155_RFP': '1121',\n",
       " 'GV0800_Pos16_632_RFP': '1027',\n",
       " 'GV0800_Pos16_1044_RFP': '1117',\n",
       " 'GV0807_Pos3_18_RFP': '503',\n",
       " 'GV0807_Pos3_17_RFP': '722',\n",
       " 'GV0807_Pos3_51_RFP': '880',\n",
       " 'GV0807_Pos3_1_RFP': '909',\n",
       " 'GV0807_Pos3_5_RFP': '1046',\n",
       " 'GV0807_Pos3_4_RFP': '1048',\n",
       " 'GV0820_Pos1_553_RFP': '474',\n",
       " 'GV0820_Pos1_16_RFP': '613',\n",
       " 'GV0820_Pos1_427_RFP': '588',\n",
       " 'GV0820_Pos1_489_RFP': '534',\n",
       " 'GV0820_Pos1_671_RFP': '631',\n",
       " 'GV0820_Pos1_990_RFP': '696',\n",
       " 'GV0820_Pos1_970_RFP': '714',\n",
       " 'GV0820_Pos1_902_RFP': '661',\n",
       " 'GV0820_Pos1_817_RFP': '693',\n",
       " 'GV0820_Pos1_895_RFP': '751',\n",
       " 'GV0820_Pos1_785_RFP': '665',\n",
       " 'GV0820_Pos1_499_RFP': '729',\n",
       " 'GV0820_Pos1_704_RFP': '789',\n",
       " 'GV0820_Pos1_672_RFP': '917',\n",
       " 'GV0820_Pos1_1516_RFP': '914',\n",
       " 'GV0820_Pos1_1500_RFP': '981',\n",
       " 'GV0820_Pos1_1570_RFP': '1027',\n",
       " 'GV0820_Pos1_1104_RFP': '1052',\n",
       " 'GV0820_Pos1_813_RFP': '1050',\n",
       " 'GV0820_Pos1_1450_RFP': '1053',\n",
       " 'GV0820_Pos1_1038_RFP': '893',\n",
       " 'GV0820_Pos1_1411_RFP': '893',\n",
       " 'GV0819_Pos2_569_RFP': '440',\n",
       " 'GV0819_Pos2_568_RFP': '439',\n",
       " 'GV0819_Pos2_673_RFP': '509',\n",
       " 'GV0819_Pos2_473_RFP': '575',\n",
       " 'GV0819_Pos2_45_RFP': '626',\n",
       " 'GV0819_Pos2_802_RFP': '670',\n",
       " 'GV0819_Pos2_13_RFP': '680',\n",
       " 'GV0819_Pos2_11_RFP': '684',\n",
       " 'GV0819_Pos2_468_RFP': '821',\n",
       " 'GV0819_Pos2_1024_RFP': '885',\n",
       " 'GV0819_Pos2_829_RFP': '901',\n",
       " 'GV0819_Pos2_605_RFP': '771',\n",
       " 'GV0819_Pos2_830_RFP': '855',\n",
       " 'GV0819_Pos2_549_RFP': '920',\n",
       " 'GV0819_Pos2_40_RFP': '919',\n",
       " 'GV0819_Pos2_491_RFP': '1056',\n",
       " 'GV0819_Pos2_657_RFP': '1054',\n",
       " 'GV0819_Pos2_826_RFP': '1062',\n",
       " 'GV0819_Pos2_889_RFP': '1078',\n",
       " 'GV0819_Pos2_858_RFP': '1080',\n",
       " 'GV0819_Pos2_746_RFP': '1033',\n",
       " 'GV0819_Pos2_1513_RFP': '1120',\n",
       " 'GV0819_Pos2_548_RFP': '1117',\n",
       " 'GV0819_Pos2_913_RFP': '985',\n",
       " 'GV0819_Pos2_762_RFP': '1024',\n",
       " 'GV0819_Pos2_900_RFP': '711',\n",
       " 'GV0819_Pos2_490_RFP': '1145',\n",
       " 'GV0819_Pos2_599_RFP': '1000',\n",
       " 'GV0819_Pos2_1453_RFP': '1104',\n",
       " 'GV0819_Pos2_679_RFP': '1126',\n",
       " 'GV0817_Pos11_615_RFP': '604',\n",
       " 'GV0817_Pos11_639_RFP': '602',\n",
       " 'GV0817_Pos11_141_RFP': '589',\n",
       " 'GV0817_Pos11_51_RFP': '548',\n",
       " 'GV0817_Pos11_374_RFP': '651',\n",
       " 'GV0817_Pos11_267_RFP': '668',\n",
       " 'GV0817_Pos11_722_RFP': '680',\n",
       " 'GV0817_Pos11_474_RFP': '702',\n",
       " 'GV0817_Pos11_778_RFP': '715',\n",
       " 'GV0817_Pos11_458_RFP': '707',\n",
       " 'GV0817_Pos11_37_RFP': '768',\n",
       " 'GV0817_Pos11_668_RFP': '789',\n",
       " 'GV0817_Pos11_656_RFP': '805',\n",
       " 'GV0817_Pos11_509_RFP': '818',\n",
       " 'GV0817_Pos11_655_RFP': '821',\n",
       " 'GV0817_Pos11_547_RFP': '844',\n",
       " 'GV0817_Pos11_720_RFP': '834',\n",
       " 'GV0817_Pos11_396_RFP': '846',\n",
       " 'GV0817_Pos11_701_RFP': '850',\n",
       " 'GV0817_Pos11_801_RFP': '970',\n",
       " 'GV0817_Pos11_978_RFP': '953',\n",
       " 'GV0817_Pos11_1173_RFP': '1000',\n",
       " 'GV0819_Pos0_23_RFP': '108',\n",
       " 'GV0819_Pos0_495_RFP': '462',\n",
       " 'GV0819_Pos0_493_RFP': '518',\n",
       " 'GV0819_Pos0_494_RFP': '624',\n",
       " 'GV0819_Pos0_736_RFP': '611',\n",
       " 'GV0819_Pos0_740_RFP': '611',\n",
       " 'GV0819_Pos0_38_RFP': '533',\n",
       " 'GV0819_Pos0_642_RFP': '665',\n",
       " 'GV0819_Pos0_786_RFP': '698',\n",
       " 'GV0819_Pos0_909_RFP': '734',\n",
       " 'GV0819_Pos0_895_RFP': '860',\n",
       " 'GV0819_Pos0_448_RFP': '769',\n",
       " 'GV0819_Pos0_527_RFP': '1103',\n",
       " 'GV0819_Pos0_53_RFP': '1055',\n",
       " 'GV0819_Pos0_167_RFP': '776',\n",
       " 'GV0819_Pos0_456_RFP': '1072',\n",
       " 'GV0819_Pos0_21_RFP': '1053',\n",
       " 'GV0819_Pos0_1366_RFP': '1155',\n",
       " 'GV0819_Pos0_1376_RFP': '1148',\n",
       " 'GV0819_Pos0_930_RFP': '932',\n",
       " 'GV0819_Pos0_1088_RFP': '1031',\n",
       " 'GV0816_Pos13_37_RFP': '7',\n",
       " 'GV0816_Pos13_53_RFP': '21',\n",
       " 'GV0816_Pos13_57_RFP': '50',\n",
       " 'GV0816_Pos13_45_RFP': '379',\n",
       " 'GV0816_Pos13_43_RFP': '490',\n",
       " 'GV0816_Pos13_415_RFP': '602',\n",
       " 'GV0816_Pos13_478_RFP': '773',\n",
       " 'GV0816_Pos13_635_RFP': '778',\n",
       " 'GV0816_Pos13_679_RFP': '778',\n",
       " 'GV0816_Pos13_42_RFP': '853',\n",
       " 'GV0798_Pos20_239_RFP': '491',\n",
       " 'GV0798_Pos20_246_RFP': '501',\n",
       " 'GV0798_Pos20_267_RFP': '643',\n",
       " 'GV0798_Pos20_311_RFP': '638',\n",
       " 'GV0798_Pos20_263_RFP': '729',\n",
       " 'GV0798_Pos20_240_RFP': '729',\n",
       " 'GV0798_Pos20_173_RFP': '805',\n",
       " 'GV0798_Pos20_310_RFP': '819',\n",
       " 'GV0798_Pos20_343_RFP': '784',\n",
       " 'GV0798_Pos20_442_RFP': '794',\n",
       " 'GV0798_Pos20_502_RFP': '812',\n",
       " 'GV0798_Pos20_503_RFP': '812',\n",
       " 'GV0798_Pos20_514_RFP': '818',\n",
       " 'GV0798_Pos20_513_RFP': '819',\n",
       " 'GV0798_Pos20_441_RFP': '837',\n",
       " 'GV0798_Pos20_190_RFP': '873',\n",
       " 'GV0798_Pos20_581_RFP': '888',\n",
       " 'GV0798_Pos20_580_RFP': '899',\n",
       " 'GV0818_Pos13_108_RFP': '210',\n",
       " 'GV0818_Pos13_107_RFP': '225',\n",
       " 'GV0818_Pos13_267_RFP': '523',\n",
       " 'GV0818_Pos13_306_RFP': '585',\n",
       " 'GV0818_Pos13_276_RFP': '574',\n",
       " 'GV0818_Pos13_27_RFP': '654',\n",
       " 'GV0818_Pos13_218_RFP': '795',\n",
       " 'GV0818_Pos13_282_RFP': '790',\n",
       " 'GV0818_Pos13_281_RFP': '747',\n",
       " 'GV0818_Pos13_457_RFP': '958',\n",
       " 'GV0818_Pos13_614_RFP': '964',\n",
       " 'GV0818_Pos13_214_RFP': '1007',\n",
       " 'GV0818_Pos13_712_RFP': '1010',\n",
       " 'GV0818_Pos13_357_RFP': '996',\n",
       " 'GV0818_Pos13_525_RFP': '916',\n",
       " 'GV0818_Pos13_539_RFP': '981',\n",
       " 'GV0815_Pos12_13_RFP': '148',\n",
       " 'GV0815_Pos12_69_RFP': '213',\n",
       " 'GV0815_Pos12_68_RFP': '239',\n",
       " 'GV0815_Pos12_67_RFP': '323',\n",
       " 'GV0815_Pos12_257_RFP': '733',\n",
       " 'GV0815_Pos12_59_RFP': '732',\n",
       " 'GV0815_Pos12_82_RFP': '757',\n",
       " 'GV0815_Pos12_307_RFP': '776',\n",
       " 'GV0815_Pos12_16_RFP': '797',\n",
       " 'GV0815_Pos12_206_RFP': '875',\n",
       " 'GV0815_Pos12_332_RFP': '851',\n",
       " 'GV0815_Pos12_165_RFP': '865',\n",
       " 'GV0815_Pos12_22_RFP': '911',\n",
       " 'GV0815_Pos12_562_RFP': '994',\n",
       " 'GV0815_Pos12_563_RFP': '991',\n",
       " 'GV0815_Pos12_339_RFP': '1041',\n",
       " 'GV0815_Pos12_655_RFP': '1119',\n",
       " 'GV0815_Pos12_373_RFP': '946',\n",
       " 'GV0815_Pos12_58_RFP': '904',\n",
       " 'GV0814_Pos23_116_RFP': '609',\n",
       " 'GV0814_Pos23_184_RFP': '790',\n",
       " 'GV0814_Pos23_3_RFP': '955',\n",
       " 'GV0795_Pos3_1_RFP': '115',\n",
       " 'GV0795_Pos3_66_RFP': '710',\n",
       " 'GV0795_Pos3_167_RFP': '742',\n",
       " 'GV0795_Pos3_7_RFP': '752',\n",
       " 'GV0795_Pos3_45_RFP': '1059',\n",
       " 'GV0795_Pos3_347_RFP': '1130',\n",
       " 'GV0795_Pos3_296_RFP': '1103',\n",
       " 'GV0795_Pos3_310_RFP': '1142',\n",
       " 'GV0798_Pos5_281_RFP': '744',\n",
       " 'GV0798_Pos5_364_RFP': '703',\n",
       " 'GV0798_Pos5_406_RFP': '694',\n",
       " 'GV0798_Pos5_374_RFP': '736',\n",
       " 'GV0798_Pos5_696_RFP': '852',\n",
       " 'GV0798_Pos5_682_RFP': '801',\n",
       " 'GV0798_Pos5_41_RFP': '0',\n",
       " 'GV0798_Pos5_407_RFP': '850',\n",
       " 'GV0798_Pos5_767_RFP': '848',\n",
       " 'GV0798_Pos5_17_RFP': '27',\n",
       " 'GV0798_Pos5_829_RFP': '844',\n",
       " 'GV0798_Pos5_830_RFP': '844',\n",
       " 'GV0798_Pos5_355_RFP': '585',\n",
       " 'GV0798_Pos5_493_RFP': '729',\n",
       " 'GV0798_Pos5_365_RFP': '638',\n",
       " 'GV0798_Pos5_491_RFP': '615',\n",
       " 'GV0798_Pos5_456_RFP': '743',\n",
       " 'GV0798_Pos5_810_RFP': '825',\n",
       " 'GV0798_Pos5_29_RFP': '84',\n",
       " 'GV0798_Pos5_786_RFP': '802',\n",
       " 'GV0796_Pos22_28_RFP': '225',\n",
       " 'GV0796_Pos22_370_RFP': '445',\n",
       " 'GV0796_Pos22_330_RFP': '471',\n",
       " 'GV0796_Pos22_339_RFP': '524',\n",
       " 'GV0796_Pos22_409_RFP': '524',\n",
       " 'GV0796_Pos22_291_RFP': '532',\n",
       " 'GV0796_Pos22_406_RFP': '503',\n",
       " 'GV0796_Pos22_174_RFP': '569',\n",
       " 'GV0796_Pos22_468_RFP': '618',\n",
       " 'GV0796_Pos22_346_RFP': '634',\n",
       " 'GV0796_Pos22_520_RFP': '670',\n",
       " 'GV0796_Pos22_519_RFP': '671',\n",
       " 'GV0796_Pos22_595_RFP': '701',\n",
       " 'GV0796_Pos22_596_RFP': '701',\n",
       " 'GV0796_Pos22_11_RFP': '871',\n",
       " 'GV0796_Pos22_324_RFP': '762',\n",
       " 'GV0796_Pos22_657_RFP': '781',\n",
       " 'GV0796_Pos22_658_RFP': '781',\n",
       " 'GV0796_Pos22_659_RFP': '808',\n",
       " 'GV0796_Pos22_588_RFP': '859',\n",
       " 'GV0814_Pos12_176_RFP': '753',\n",
       " 'GV0814_Pos12_28_RFP': '807',\n",
       " 'GV0814_Pos12_318_RFP': '802',\n",
       " 'GV0814_Pos12_177_RFP': '856',\n",
       " 'GV0814_Pos12_463_RFP': '846',\n",
       " 'GV0814_Pos12_200_RFP': '908',\n",
       " 'GV0814_Pos12_755_RFP': '1120',\n",
       " 'GV0814_Pos12_485_RFP': '1148',\n",
       " 'GV0817_Pos0_51_RFP': '313',\n",
       " 'GV0817_Pos0_367_RFP': '527',\n",
       " 'GV0817_Pos0_366_RFP': '503',\n",
       " 'GV0817_Pos0_425_RFP': '564',\n",
       " 'GV0817_Pos0_326_RFP': '579',\n",
       " 'GV0817_Pos0_552_RFP': '584',\n",
       " 'GV0817_Pos0_396_RFP': '635',\n",
       " 'GV0817_Pos0_758_RFP': '653',\n",
       " 'GV0817_Pos0_496_RFP': '699',\n",
       " 'GV0817_Pos0_801_RFP': '707',\n",
       " 'GV0817_Pos0_447_RFP': '707',\n",
       " 'GV0817_Pos0_405_RFP': '706',\n",
       " 'GV0817_Pos0_586_RFP': '733',\n",
       " 'GV0817_Pos0_610_RFP': '744',\n",
       " 'GV0817_Pos0_1084_RFP': '768',\n",
       " 'GV0817_Pos0_426_RFP': '810',\n",
       " 'GV0817_Pos0_395_RFP': '824',\n",
       " 'GV0817_Pos0_566_RFP': '859',\n",
       " 'GV0817_Pos0_495_RFP': '874',\n",
       " 'GV0817_Pos0_465_RFP': '958',\n",
       " 'GV0817_Pos0_984_RFP': '983',\n",
       " 'GV0817_Pos0_800_RFP': '954',\n",
       " 'GV0817_Pos0_1452_RFP': '972',\n",
       " 'GV0817_Pos0_846_RFP': '1056',\n",
       " 'GV0817_Pos0_1624_RFP': '1111',\n",
       " 'GV0817_Pos0_480_RFP': '1056',\n",
       " 'GV0817_Pos0_327_RFP': '1122',\n",
       " 'GV0817_Pos0_1526_RFP': '1154',\n",
       " 'GV0817_Pos0_458_RFP': '1141',\n",
       " 'GV0817_Pos0_817_RFP': '1079',\n",
       " 'GV0817_Pos0_236_RFP': '1174',\n",
       " 'GV0798_Pos23_937_RFP': '727',\n",
       " 'GV0798_Pos23_1339_RFP': '929',\n",
       " 'GV0798_Pos23_42_RFP': '81',\n",
       " 'GV0798_Pos23_15_RFP': '382',\n",
       " 'GV0798_Pos23_773_RFP': '807',\n",
       " 'GV0798_Pos23_6_RFP': '136',\n",
       " 'GV0798_Pos23_1236_RFP': '734',\n",
       " 'GV0798_Pos23_996_RFP': '760',\n",
       " 'GV0798_Pos23_1234_RFP': '788',\n",
       " 'GV0798_Pos23_43_RFP': '100',\n",
       " 'GV0798_Pos23_46_RFP': '180',\n",
       " 'GV0798_Pos23_799_RFP': '478',\n",
       " 'GV0798_Pos23_720_RFP': '722',\n",
       " 'GV0798_Pos23_721_RFP': '745',\n",
       " 'GV0798_Pos23_1217_RFP': '726',\n",
       " 'GV0798_Pos23_1532_RFP': '807',\n",
       " 'GV0798_Pos23_1533_RFP': '851',\n",
       " 'GV0798_Pos23_570_RFP': '602',\n",
       " 'GV0798_Pos23_596_RFP': '758',\n",
       " 'GV0798_Pos23_858_RFP': '802',\n",
       " 'GV0798_Pos23_995_RFP': '777',\n",
       " 'GV0798_Pos23_697_RFP': '906',\n",
       " 'GV0798_Pos23_1268_RFP': '666',\n",
       " 'GV0798_Pos23_1233_RFP': '665',\n",
       " 'GV0798_Pos23_1224_RFP': '665',\n",
       " 'GV0798_Pos23_1229_RFP': '665',\n",
       " 'GV0798_Pos23_1227_RFP': '665',\n",
       " 'GV0798_Pos23_1208_RFP': '665',\n",
       " 'GV0798_Pos23_692_RFP': '693',\n",
       " 'GV0798_Pos23_57_RFP': '799',\n",
       " 'GV0798_Pos23_91_RFP': '841',\n",
       " 'GV0798_Pos23_659_RFP': '513',\n",
       " 'GV0798_Pos23_62_RFP': '552',\n",
       " 'GV0798_Pos23_97_RFP': '699',\n",
       " 'GV0798_Pos23_488_RFP': '710',\n",
       " 'GV0798_Pos23_1424_RFP': '743',\n",
       " 'GV0798_Pos23_53_RFP': '855',\n",
       " 'GV0798_Pos23_83_RFP': '833',\n",
       " 'GV0798_Pos23_660_RFP': '577',\n",
       " 'GV0798_Pos23_25_RFP': '237',\n",
       " 'GV0798_Pos23_1249_RFP': '776',\n",
       " 'GV0798_Pos23_2102_RFP': '929',\n",
       " 'GV0798_Pos23_2103_RFP': '929',\n",
       " 'GV0817_Pos23_51_RFP': '392',\n",
       " 'GV0817_Pos23_16_RFP': '408',\n",
       " 'GV0817_Pos23_317_RFP': '506',\n",
       " 'GV0817_Pos23_409_RFP': '521',\n",
       " ...}"
      ]
     },
     "execution_count": 2,
     "metadata": {},
     "output_type": "execute_result"
    }
   ],
   "source": [
    "path_to_apop_lists = '/home/nathan/data/kraken/h2b/giulia/apoptosis_information/final/all'\n",
    "apop_dict = dataio.apoptosis_list_loader(path_to_apop_lists, 'Scr')\n",
    "apop_dict"
   ]
  },
  {
   "cell_type": "code",
   "execution_count": 3,
   "metadata": {},
   "outputs": [
    {
     "name": "stdout",
     "output_type": "stream",
     "text": [
      "Length of modified dict vs original: 459 / 1839\n"
     ]
    }
   ],
   "source": [
    "### optional parallelisation step\n",
    "N_apops = len(apop_dict)\n",
    "para_frac_min, para_frac_max = int(0*N_apops), int(0.25*N_apops)  ## ie only do first 1/4 of all apops\n",
    "delete_list =[]\n",
    "for i, j in enumerate(apop_dict):\n",
    "    if not para_frac_min <= i< para_frac_max: \n",
    "        delete_list.append(j)\n",
    "for i in delete_list:\n",
    "    del apop_dict[i]\n",
    "print(\"Length of modified dict vs original:\", len(apop_dict), \"/\", N_apops)"
   ]
  },
  {
   "cell_type": "markdown",
   "metadata": {},
   "source": [
    "## 2) Load corresponding cell tracking data and specifiy other parameters\n",
    "\n",
    "`dataio.hdf5_file_finder(parent_folder_hdf5)` loads a list of all hdf5 files when supplied with the parent directory of all the experiments. This relies on a typical sub-parent directory structure of `'GV****/Pos*/*aligned/HDF/segmented.hdf5'` (aligned folder optional)"
   ]
  },
  {
   "cell_type": "code",
   "execution_count": 4,
   "metadata": {},
   "outputs": [],
   "source": [
    "### load tracking data\n",
    "parent_folder_hdf5 = '/home/nathan/data/kraken/h2b/giulia'\n",
    "hdf5_file_list = dataio.hdf5_file_finder(parent_folder_hdf5)\n",
    "\n",
    "### specify output path and neighbourhood scan parameters\n",
    "radius, t_range, num_bins = 400, 400, 10#800, 800, 20#400, 400, 10\n",
    "output_path = '/home/nathan/data/kraken/h2b/giulia/radial_analysis_output/follow/individual_spatiotemporal_heatmaps/{}.{}.{}/scr_apop_wt_div'.format(radius, t_range, num_bins)\n",
    "Path(output_path).mkdir(parents=True, exist_ok=True)"
   ]
  },
  {
   "cell_type": "markdown",
   "metadata": {},
   "source": [
    "## 3) Iteratively calculate and save out individual heatmaps\n",
    "\n",
    "This step can be time consuming (sequential scans around 385 apoptoses took 7 hours on i7)\n",
    "\n",
    "Function to calculate:\n",
    "\n",
    "`calculate.iterative_heatmap_generator(subject_cells = 'WT', subject_event = 'DIVIDE', apop_dict, hdf5_file_list, radius, t_range, num_bins, output_path)`\n",
    "\n",
    "Where the necessary input variables are as follows:\n",
    "- `subject_cells` = The population of cells to scan over looking for events, 'WT'/'Scr'/'All'\n",
    "- `subject_event` = The event type to look for, 'DIVIDE' or 'APOPTOSIS'\n",
    "- `apop_dict` = Previously defined python dictionary of {apoptosis ID: apoptosis time}\n",
    "- `hdf5_file_list` = List of locations of tracking files\n",
    "- `radius` = Distance to scan over around apoptosis\n",
    "- `t_range` = Time range to scan over around apoptosis (will scan t_range/2 before and after apoptosis)\n",
    "- `num_bins` = Number of bins the histogram is sorted into\n",
    "- `output_path` = Empty directory to save out individual apoptosis heatmap .npy arrays into\n"
   ]
  },
  {
   "cell_type": "code",
   "execution_count": 5,
   "metadata": {
    "scrolled": true
   },
   "outputs": [
    {
     "name": "stderr",
     "output_type": "stream",
     "text": [
      "  0%|          | 0/459 [00:00<?, ?it/s][INFO][2021/05/04 05:22:50 PM] Opening HDF file: /home/nathan/data/kraken/h2b/giulia/GV0797/Pos21/Pos21_aligned/HDF/segmented.hdf5...\n",
      "[INFO][2021/05/04 05:22:50 PM] Loading tracks/obj_type_1\n"
     ]
    },
    {
     "name": "stdout",
     "output_type": "stream",
     "text": [
      "ID GV0797_Pos21_78_RFP\n",
      "Loading GV0797/Pos21/\n",
      "Btrack version no.: 0.4.0\n"
     ]
    },
    {
     "name": "stderr",
     "output_type": "stream",
     "text": [
      "[INFO][2021/05/04 05:22:52 PM] Loading objects/obj_type_1 (211568, 5) (195992 filtered: area>=100)\n",
      "[INFO][2021/05/04 05:22:53 PM] Closing HDF file: /home/nathan/data/kraken/h2b/giulia/GV0797/Pos21/Pos21_aligned/HDF/segmented.hdf5\n",
      "[INFO][2021/05/04 05:22:53 PM] Opening HDF file: /home/nathan/data/kraken/h2b/giulia/GV0797/Pos21/Pos21_aligned/HDF/segmented.hdf5...\n",
      "[INFO][2021/05/04 05:22:53 PM] Loading tracks/obj_type_2\n",
      "[INFO][2021/05/04 05:22:54 PM] Loading objects/obj_type_2 (26227, 5) (20975 filtered: area>=100)\n",
      "[INFO][2021/05/04 05:22:54 PM] Closing HDF file: /home/nathan/data/kraken/h2b/giulia/GV0797/Pos21/Pos21_aligned/HDF/segmented.hdf5\n"
     ]
    },
    {
     "name": "stdout",
     "output_type": "stream",
     "text": [
      "Track information loaded and ordered according to cell type (WT IDs >0> Scr IDs)\n",
      "Loaded GV0797/Pos21/\n"
     ]
    },
    {
     "name": "stderr",
     "output_type": "stream",
     "text": [
      "\r",
      "  0%|          | 1/459 [00:41<5:16:46, 41.50s/it]"
     ]
    },
    {
     "name": "stdout",
     "output_type": "stream",
     "text": [
      "ID GV0797_Pos21_54_RFP\n"
     ]
    },
    {
     "name": "stderr",
     "output_type": "stream",
     "text": [
      "\r",
      "  0%|          | 2/459 [01:32<5:37:45, 44.35s/it]"
     ]
    },
    {
     "name": "stdout",
     "output_type": "stream",
     "text": [
      "ID GV0797_Pos21_55_RFP\n"
     ]
    },
    {
     "name": "stderr",
     "output_type": "stream",
     "text": [
      "\r",
      "  1%|          | 3/459 [02:28<6:04:16, 47.93s/it]"
     ]
    },
    {
     "name": "stdout",
     "output_type": "stream",
     "text": [
      "ID GV0797_Pos21_83_RFP\n"
     ]
    },
    {
     "name": "stderr",
     "output_type": "stream",
     "text": [
      "\r",
      "  1%|          | 4/459 [03:38<6:54:02, 54.60s/it]"
     ]
    },
    {
     "name": "stdout",
     "output_type": "stream",
     "text": [
      "ID GV0797_Pos21_302_RFP\n"
     ]
    },
    {
     "name": "stderr",
     "output_type": "stream",
     "text": [
      "\r",
      "  1%|          | 5/459 [04:22<6:28:18, 51.32s/it]"
     ]
    },
    {
     "name": "stdout",
     "output_type": "stream",
     "text": [
      "ID GV0797_Pos21_22_RFP\n"
     ]
    },
    {
     "name": "stderr",
     "output_type": "stream",
     "text": [
      "\r",
      "  1%|▏         | 6/459 [05:58<8:08:52, 64.75s/it]"
     ]
    },
    {
     "name": "stdout",
     "output_type": "stream",
     "text": [
      "ID GV0797_Pos21_335_RFP\n"
     ]
    },
    {
     "name": "stderr",
     "output_type": "stream",
     "text": [
      "\r",
      "  2%|▏         | 7/459 [06:52<7:42:28, 61.39s/it]"
     ]
    },
    {
     "name": "stdout",
     "output_type": "stream",
     "text": [
      "ID GV0797_Pos21_334_RFP\n"
     ]
    },
    {
     "name": "stderr",
     "output_type": "stream",
     "text": [
      "\r",
      "  2%|▏         | 8/459 [07:52<7:39:24, 61.12s/it]"
     ]
    },
    {
     "name": "stdout",
     "output_type": "stream",
     "text": [
      "ID GV0797_Pos21_35_RFP\n"
     ]
    },
    {
     "name": "stderr",
     "output_type": "stream",
     "text": [
      "  2%|▏         | 9/459 [09:40<9:24:21, 75.25s/it][INFO][2021/05/04 05:32:31 PM] Opening HDF file: /home/nathan/data/kraken/h2b/giulia/GV0816/Pos0/Pos0_aligned/HDF/segmented.hdf5...\n",
      "[INFO][2021/05/04 05:32:31 PM] Loading tracks/obj_type_1\n"
     ]
    },
    {
     "name": "stdout",
     "output_type": "stream",
     "text": [
      "ID GV0816_Pos0_406_RFP\n",
      "Loading GV0816/Pos0/\n",
      "Btrack version no.: 0.4.0\n"
     ]
    },
    {
     "name": "stderr",
     "output_type": "stream",
     "text": [
      "[INFO][2021/05/04 05:32:32 PM] Loading objects/obj_type_1 (90368, 5) (81699 filtered: area>=100)\n",
      "[INFO][2021/05/04 05:32:33 PM] Closing HDF file: /home/nathan/data/kraken/h2b/giulia/GV0816/Pos0/Pos0_aligned/HDF/segmented.hdf5\n",
      "[INFO][2021/05/04 05:32:33 PM] Opening HDF file: /home/nathan/data/kraken/h2b/giulia/GV0816/Pos0/Pos0_aligned/HDF/segmented.hdf5...\n",
      "[INFO][2021/05/04 05:32:33 PM] Loading tracks/obj_type_2\n",
      "[INFO][2021/05/04 05:32:33 PM] Loading objects/obj_type_2 (24057, 5) (17173 filtered: area>=100)\n",
      "[INFO][2021/05/04 05:32:33 PM] Closing HDF file: /home/nathan/data/kraken/h2b/giulia/GV0816/Pos0/Pos0_aligned/HDF/segmented.hdf5\n"
     ]
    },
    {
     "name": "stdout",
     "output_type": "stream",
     "text": [
      "Track information loaded and ordered according to cell type (WT IDs >0> Scr IDs)\n",
      "Loaded GV0816/Pos0/\n"
     ]
    },
    {
     "name": "stderr",
     "output_type": "stream",
     "text": [
      "\r",
      "  2%|▏         | 10/459 [10:02<7:22:04, 59.07s/it]"
     ]
    },
    {
     "name": "stdout",
     "output_type": "stream",
     "text": [
      "ID GV0816_Pos0_351_RFP\n"
     ]
    },
    {
     "name": "stderr",
     "output_type": "stream",
     "text": [
      "\r",
      "  2%|▏         | 11/459 [10:48<6:51:29, 55.11s/it]"
     ]
    },
    {
     "name": "stdout",
     "output_type": "stream",
     "text": [
      "ID GV0816_Pos0_374_RFP\n"
     ]
    },
    {
     "name": "stderr",
     "output_type": "stream",
     "text": [
      "\r",
      "  3%|▎         | 12/459 [11:30<6:21:35, 51.22s/it]"
     ]
    },
    {
     "name": "stdout",
     "output_type": "stream",
     "text": [
      "ID GV0816_Pos0_526_RFP\n"
     ]
    },
    {
     "name": "stderr",
     "output_type": "stream",
     "text": [
      "\r",
      "  3%|▎         | 13/459 [11:49<5:08:56, 41.56s/it]"
     ]
    },
    {
     "name": "stdout",
     "output_type": "stream",
     "text": [
      "ID GV0816_Pos0_343_RFP\n"
     ]
    },
    {
     "name": "stderr",
     "output_type": "stream",
     "text": [
      "  3%|▎         | 14/459 [12:31<5:09:22, 41.71s/it][INFO][2021/05/04 05:35:22 PM] Opening HDF file: /home/nathan/data/kraken/h2b/giulia/GV0800/Pos8/Pos8_aligned/HDF/segmented.hdf5...\n",
      "[INFO][2021/05/04 05:35:22 PM] Loading tracks/obj_type_1\n"
     ]
    },
    {
     "name": "stdout",
     "output_type": "stream",
     "text": [
      "ID GV0800_Pos8_9_RFP\n",
      "Loading GV0800/Pos8/\n",
      "Btrack version no.: 0.4.0\n"
     ]
    },
    {
     "name": "stderr",
     "output_type": "stream",
     "text": [
      "[INFO][2021/05/04 05:35:24 PM] Loading objects/obj_type_1 (412266, 5) (393638 filtered: area>=100)\n",
      "[INFO][2021/05/04 05:35:28 PM] Closing HDF file: /home/nathan/data/kraken/h2b/giulia/GV0800/Pos8/Pos8_aligned/HDF/segmented.hdf5\n",
      "[INFO][2021/05/04 05:35:28 PM] Opening HDF file: /home/nathan/data/kraken/h2b/giulia/GV0800/Pos8/Pos8_aligned/HDF/segmented.hdf5...\n",
      "[INFO][2021/05/04 05:35:28 PM] Loading tracks/obj_type_2\n",
      "[INFO][2021/05/04 05:35:28 PM] Loading objects/obj_type_2 (16111, 5) (12664 filtered: area>=100)\n",
      "[INFO][2021/05/04 05:35:28 PM] Closing HDF file: /home/nathan/data/kraken/h2b/giulia/GV0800/Pos8/Pos8_aligned/HDF/segmented.hdf5\n"
     ]
    },
    {
     "name": "stdout",
     "output_type": "stream",
     "text": [
      "Track information loaded and ordered according to cell type (WT IDs >0> Scr IDs)\n",
      "Loaded GV0800/Pos8/\n"
     ]
    },
    {
     "name": "stderr",
     "output_type": "stream",
     "text": [
      "\r",
      "  3%|▎         | 15/459 [14:32<8:04:48, 65.51s/it]"
     ]
    },
    {
     "name": "stdout",
     "output_type": "stream",
     "text": [
      "ID GV0800_Pos8_74_RFP\n"
     ]
    },
    {
     "name": "stderr",
     "output_type": "stream",
     "text": [
      "\r",
      "  3%|▎         | 16/459 [15:40<8:10:06, 66.38s/it]"
     ]
    },
    {
     "name": "stdout",
     "output_type": "stream",
     "text": [
      "ID GV0800_Pos8_75_RFP\n"
     ]
    },
    {
     "name": "stderr",
     "output_type": "stream",
     "text": [
      "\r",
      "  4%|▎         | 17/459 [17:21<9:25:33, 76.77s/it]"
     ]
    },
    {
     "name": "stdout",
     "output_type": "stream",
     "text": [
      "ID GV0800_Pos8_118_RFP\n"
     ]
    },
    {
     "name": "stderr",
     "output_type": "stream",
     "text": [
      "\r",
      "  4%|▍         | 18/459 [19:02<10:17:53, 84.07s/it]"
     ]
    },
    {
     "name": "stdout",
     "output_type": "stream",
     "text": [
      "ID GV0800_Pos8_160_RFP\n"
     ]
    },
    {
     "name": "stderr",
     "output_type": "stream",
     "text": [
      "\r",
      "  4%|▍         | 19/459 [20:29<10:21:44, 84.78s/it]"
     ]
    },
    {
     "name": "stdout",
     "output_type": "stream",
     "text": [
      "ID GV0800_Pos8_162_RFP\n"
     ]
    },
    {
     "name": "stderr",
     "output_type": "stream",
     "text": [
      "  4%|▍         | 20/459 [21:52<10:16:03, 84.20s/it][INFO][2021/05/04 05:44:43 PM] Opening HDF file: /home/nathan/data/kraken/h2b/giulia/GV0796/Pos21/Pos21_aligned/HDF/segmented.hdf5...\n",
      "[INFO][2021/05/04 05:44:43 PM] Loading tracks/obj_type_1\n"
     ]
    },
    {
     "name": "stdout",
     "output_type": "stream",
     "text": [
      "ID GV0796_Pos21_13_RFP\n",
      "Loading GV0796/Pos21/\n",
      "Btrack version no.: 0.4.0\n"
     ]
    },
    {
     "name": "stderr",
     "output_type": "stream",
     "text": [
      "[INFO][2021/05/04 05:44:44 PM] Loading objects/obj_type_1 (307793, 5) (293005 filtered: area>=100)\n",
      "[INFO][2021/05/04 05:44:47 PM] Closing HDF file: /home/nathan/data/kraken/h2b/giulia/GV0796/Pos21/Pos21_aligned/HDF/segmented.hdf5\n",
      "[INFO][2021/05/04 05:44:47 PM] Opening HDF file: /home/nathan/data/kraken/h2b/giulia/GV0796/Pos21/Pos21_aligned/HDF/segmented.hdf5...\n",
      "[INFO][2021/05/04 05:44:47 PM] Loading tracks/obj_type_2\n",
      "[INFO][2021/05/04 05:44:48 PM] Loading objects/obj_type_2 (46439, 5) (38835 filtered: area>=100)\n",
      "[INFO][2021/05/04 05:44:48 PM] Closing HDF file: /home/nathan/data/kraken/h2b/giulia/GV0796/Pos21/Pos21_aligned/HDF/segmented.hdf5\n"
     ]
    },
    {
     "name": "stdout",
     "output_type": "stream",
     "text": [
      "Track information loaded and ordered according to cell type (WT IDs >0> Scr IDs)\n",
      "Loaded GV0796/Pos21/\n"
     ]
    },
    {
     "name": "stderr",
     "output_type": "stream",
     "text": [
      "\r",
      "  5%|▍         | 21/459 [23:14<10:09:29, 83.49s/it]"
     ]
    },
    {
     "name": "stdout",
     "output_type": "stream",
     "text": [
      "ID GV0796_Pos21_16_RFP\n"
     ]
    },
    {
     "name": "stderr",
     "output_type": "stream",
     "text": [
      "\r",
      "  5%|▍         | 22/459 [24:17<9:24:47, 77.55s/it] "
     ]
    },
    {
     "name": "stdout",
     "output_type": "stream",
     "text": [
      "ID GV0796_Pos21_30_RFP\n"
     ]
    },
    {
     "name": "stderr",
     "output_type": "stream",
     "text": [
      "\r",
      "  5%|▌         | 23/459 [25:14<8:38:46, 71.39s/it]"
     ]
    },
    {
     "name": "stdout",
     "output_type": "stream",
     "text": [
      "ID GV0796_Pos21_23_RFP\n"
     ]
    },
    {
     "name": "stderr",
     "output_type": "stream",
     "text": [
      "\r",
      "  5%|▌         | 24/459 [26:49<9:28:36, 78.43s/it]"
     ]
    },
    {
     "name": "stdout",
     "output_type": "stream",
     "text": [
      "ID GV0796_Pos21_14_RFP\n"
     ]
    },
    {
     "name": "stderr",
     "output_type": "stream",
     "text": [
      "\r",
      "  5%|▌         | 25/459 [28:13<9:40:10, 80.21s/it]"
     ]
    },
    {
     "name": "stdout",
     "output_type": "stream",
     "text": [
      "ID GV0796_Pos21_230_RFP\n"
     ]
    },
    {
     "name": "stderr",
     "output_type": "stream",
     "text": [
      "\r",
      "  6%|▌         | 26/459 [29:15<8:58:44, 74.65s/it]"
     ]
    },
    {
     "name": "stdout",
     "output_type": "stream",
     "text": [
      "ID GV0796_Pos21_314_RFP\n"
     ]
    },
    {
     "name": "stderr",
     "output_type": "stream",
     "text": [
      "\r",
      "  6%|▌         | 27/459 [29:50<7:31:55, 62.77s/it]"
     ]
    },
    {
     "name": "stdout",
     "output_type": "stream",
     "text": [
      "ID GV0796_Pos21_252_RFP\n"
     ]
    },
    {
     "name": "stderr",
     "output_type": "stream",
     "text": [
      "\r",
      "  6%|▌         | 28/459 [31:28<8:46:39, 73.32s/it]"
     ]
    },
    {
     "name": "stdout",
     "output_type": "stream",
     "text": [
      "ID GV0796_Pos21_282_RFP\n"
     ]
    },
    {
     "name": "stderr",
     "output_type": "stream",
     "text": [
      "\r",
      "  6%|▋         | 29/459 [33:17<10:01:14, 83.89s/it]"
     ]
    },
    {
     "name": "stdout",
     "output_type": "stream",
     "text": [
      "ID GV0796_Pos21_18_RFP\n"
     ]
    },
    {
     "name": "stderr",
     "output_type": "stream",
     "text": [
      "\r",
      "  7%|▋         | 30/459 [36:17<13:26:01, 112.73s/it]"
     ]
    },
    {
     "name": "stdout",
     "output_type": "stream",
     "text": [
      "ID GV0796_Pos21_676_RFP\n"
     ]
    },
    {
     "name": "stderr",
     "output_type": "stream",
     "text": [
      "\r",
      "  7%|▋         | 31/459 [37:23<11:44:53, 98.82s/it] "
     ]
    },
    {
     "name": "stdout",
     "output_type": "stream",
     "text": [
      "ID GV0796_Pos21_675_RFP\n"
     ]
    },
    {
     "name": "stderr",
     "output_type": "stream",
     "text": [
      "\r",
      "  7%|▋         | 32/459 [38:26<10:27:38, 88.19s/it]"
     ]
    },
    {
     "name": "stdout",
     "output_type": "stream",
     "text": [
      "ID GV0796_Pos21_336_RFP\n"
     ]
    },
    {
     "name": "stderr",
     "output_type": "stream",
     "text": [
      "\r",
      "  7%|▋         | 33/459 [40:10<10:58:26, 92.74s/it]"
     ]
    },
    {
     "name": "stdout",
     "output_type": "stream",
     "text": [
      "ID GV0796_Pos21_339_RFP\n"
     ]
    },
    {
     "name": "stderr",
     "output_type": "stream",
     "text": [
      "\r",
      "  7%|▋         | 34/459 [41:52<11:17:31, 95.65s/it]"
     ]
    },
    {
     "name": "stdout",
     "output_type": "stream",
     "text": [
      "ID GV0796_Pos21_406_RFP\n"
     ]
    },
    {
     "name": "stderr",
     "output_type": "stream",
     "text": [
      "\r",
      "  8%|▊         | 35/459 [43:21<11:02:02, 93.69s/it]"
     ]
    },
    {
     "name": "stdout",
     "output_type": "stream",
     "text": [
      "ID GV0796_Pos21_697_RFP\n"
     ]
    },
    {
     "name": "stderr",
     "output_type": "stream",
     "text": [
      "\r",
      "  8%|▊         | 36/459 [43:56<8:55:09, 75.91s/it] "
     ]
    },
    {
     "name": "stdout",
     "output_type": "stream",
     "text": [
      "ID GV0796_Pos21_425_RFP\n"
     ]
    },
    {
     "name": "stderr",
     "output_type": "stream",
     "text": [
      "\r",
      "  8%|▊         | 37/459 [45:23<9:16:59, 79.19s/it]"
     ]
    },
    {
     "name": "stdout",
     "output_type": "stream",
     "text": [
      "ID GV0796_Pos21_702_RFP\n"
     ]
    },
    {
     "name": "stderr",
     "output_type": "stream",
     "text": [
      "\r",
      "  8%|▊         | 38/459 [46:10<8:07:40, 69.50s/it]"
     ]
    },
    {
     "name": "stdout",
     "output_type": "stream",
     "text": [
      "ID GV0796_Pos21_257_RFP\n"
     ]
    },
    {
     "name": "stderr",
     "output_type": "stream",
     "text": [
      "\r",
      "  8%|▊         | 39/459 [48:50<11:16:48, 96.69s/it]"
     ]
    },
    {
     "name": "stdout",
     "output_type": "stream",
     "text": [
      "ID GV0796_Pos21_312_RFP\n"
     ]
    },
    {
     "name": "stderr",
     "output_type": "stream",
     "text": [
      "\r",
      "  9%|▊         | 40/459 [50:59<12:22:42, 106.35s/it]"
     ]
    },
    {
     "name": "stdout",
     "output_type": "stream",
     "text": [
      "ID GV0796_Pos21_388_RFP\n"
     ]
    },
    {
     "name": "stderr",
     "output_type": "stream",
     "text": [
      "\r",
      "  9%|▉         | 41/459 [52:56<12:44:59, 109.81s/it]"
     ]
    },
    {
     "name": "stdout",
     "output_type": "stream",
     "text": [
      "ID GV0796_Pos21_646_RFP\n"
     ]
    },
    {
     "name": "stderr",
     "output_type": "stream",
     "text": [
      "\r",
      "  9%|▉         | 42/459 [54:42<12:34:31, 108.56s/it]"
     ]
    },
    {
     "name": "stdout",
     "output_type": "stream",
     "text": [
      "ID GV0796_Pos21_665_RFP\n"
     ]
    },
    {
     "name": "stderr",
     "output_type": "stream",
     "text": [
      "\r",
      "  9%|▉         | 43/459 [56:24<12:18:40, 106.54s/it]"
     ]
    },
    {
     "name": "stdout",
     "output_type": "stream",
     "text": [
      "ID GV0796_Pos21_405_RFP\n"
     ]
    },
    {
     "name": "stderr",
     "output_type": "stream",
     "text": [
      " 10%|▉         | 44/459 [58:11<12:17:03, 106.56s/it][INFO][2021/05/04 06:21:01 PM] Opening HDF file: /home/nathan/data/kraken/h2b/giulia/GV0795/Pos8/Pos8_aligned/HDF/segmented.hdf5...\n",
      "[INFO][2021/05/04 06:21:01 PM] Loading tracks/obj_type_1\n"
     ]
    },
    {
     "name": "stdout",
     "output_type": "stream",
     "text": [
      "ID GV0795_Pos8_5_RFP\n",
      "Loading GV0795/Pos8/\n",
      "Btrack version no.: 0.4.0\n"
     ]
    },
    {
     "name": "stderr",
     "output_type": "stream",
     "text": [
      "[INFO][2021/05/04 06:21:03 PM] Loading objects/obj_type_1 (273725, 5) (262060 filtered: area>=100)\n",
      "[INFO][2021/05/04 06:21:05 PM] Closing HDF file: /home/nathan/data/kraken/h2b/giulia/GV0795/Pos8/Pos8_aligned/HDF/segmented.hdf5\n",
      "[INFO][2021/05/04 06:21:05 PM] Opening HDF file: /home/nathan/data/kraken/h2b/giulia/GV0795/Pos8/Pos8_aligned/HDF/segmented.hdf5...\n",
      "[INFO][2021/05/04 06:21:05 PM] Loading tracks/obj_type_2\n",
      "[INFO][2021/05/04 06:21:05 PM] Loading objects/obj_type_2 (12522, 5) (9142 filtered: area>=100)\n",
      "[INFO][2021/05/04 06:21:06 PM] Closing HDF file: /home/nathan/data/kraken/h2b/giulia/GV0795/Pos8/Pos8_aligned/HDF/segmented.hdf5\n"
     ]
    },
    {
     "name": "stdout",
     "output_type": "stream",
     "text": [
      "Track information loaded and ordered according to cell type (WT IDs >0> Scr IDs)\n",
      "Loaded GV0795/Pos8/\n"
     ]
    },
    {
     "name": "stderr",
     "output_type": "stream",
     "text": [
      "\r",
      " 10%|▉         | 45/459 [59:20<10:57:38, 95.31s/it] "
     ]
    },
    {
     "name": "stdout",
     "output_type": "stream",
     "text": [
      "ID GV0795_Pos8_3_RFP\n"
     ]
    },
    {
     "name": "stderr",
     "output_type": "stream",
     "text": [
      "\r",
      " 10%|█         | 46/459 [1:00:08<9:19:24, 81.27s/it]"
     ]
    },
    {
     "name": "stdout",
     "output_type": "stream",
     "text": [
      "ID GV0795_Pos8_1_RFP\n"
     ]
    },
    {
     "name": "stderr",
     "output_type": "stream",
     "text": [
      "\r",
      " 10%|█         | 47/459 [1:00:29<7:13:59, 63.20s/it]"
     ]
    },
    {
     "name": "stdout",
     "output_type": "stream",
     "text": [
      "ID GV0795_Pos8_144_RFP\n"
     ]
    },
    {
     "name": "stderr",
     "output_type": "stream",
     "text": [
      "\r",
      " 10%|█         | 48/459 [1:02:39<9:30:50, 83.33s/it]"
     ]
    },
    {
     "name": "stdout",
     "output_type": "stream",
     "text": [
      "ID GV0795_Pos8_234_RFP\n"
     ]
    },
    {
     "name": "stderr",
     "output_type": "stream",
     "text": [
      "\r",
      " 11%|█         | 49/459 [1:03:24<8:10:32, 71.79s/it]"
     ]
    },
    {
     "name": "stdout",
     "output_type": "stream",
     "text": [
      "ID GV0795_Pos8_233_RFP\n"
     ]
    },
    {
     "name": "stderr",
     "output_type": "stream",
     "text": [
      "\r",
      " 11%|█         | 50/459 [1:04:42<8:21:19, 73.54s/it]"
     ]
    },
    {
     "name": "stdout",
     "output_type": "stream",
     "text": [
      "ID GV0795_Pos8_7_RFP\n"
     ]
    },
    {
     "name": "stderr",
     "output_type": "stream",
     "text": [
      " 11%|█         | 51/459 [1:08:13<12:59:40, 114.66s/it][INFO][2021/05/04 06:31:03 PM] Opening HDF file: /home/nathan/data/kraken/h2b/giulia/GV0795/Pos6/Pos6_aligned/HDF/segmented.hdf5...\n",
      "[INFO][2021/05/04 06:31:03 PM] Loading tracks/obj_type_1\n"
     ]
    },
    {
     "name": "stdout",
     "output_type": "stream",
     "text": [
      "ID GV0795_Pos6_41_RFP\n",
      "Loading GV0795/Pos6/\n",
      "Btrack version no.: 0.4.0\n"
     ]
    },
    {
     "name": "stderr",
     "output_type": "stream",
     "text": [
      "[INFO][2021/05/04 06:31:04 PM] Loading objects/obj_type_1 (52858, 5) (43022 filtered: area>=100)\n",
      "[INFO][2021/05/04 06:31:04 PM] Closing HDF file: /home/nathan/data/kraken/h2b/giulia/GV0795/Pos6/Pos6_aligned/HDF/segmented.hdf5\n",
      "[INFO][2021/05/04 06:31:04 PM] Opening HDF file: /home/nathan/data/kraken/h2b/giulia/GV0795/Pos6/Pos6_aligned/HDF/segmented.hdf5...\n",
      "[INFO][2021/05/04 06:31:04 PM] Loading tracks/obj_type_2\n",
      "[INFO][2021/05/04 06:31:05 PM] Loading objects/obj_type_2 (95556, 5) (72517 filtered: area>=100)\n",
      "[INFO][2021/05/04 06:31:05 PM] Closing HDF file: /home/nathan/data/kraken/h2b/giulia/GV0795/Pos6/Pos6_aligned/HDF/segmented.hdf5\n"
     ]
    },
    {
     "name": "stdout",
     "output_type": "stream",
     "text": [
      "Track information loaded and ordered according to cell type (WT IDs >0> Scr IDs)\n",
      "Loaded GV0795/Pos6/\n"
     ]
    },
    {
     "name": "stderr",
     "output_type": "stream",
     "text": [
      "\r",
      " 11%|█▏        | 52/459 [1:08:27<9:33:23, 84.53s/it]  "
     ]
    },
    {
     "name": "stdout",
     "output_type": "stream",
     "text": [
      "ID GV0795_Pos6_762_RFP\n"
     ]
    },
    {
     "name": "stderr",
     "output_type": "stream",
     "text": [
      "\r",
      " 12%|█▏        | 53/459 [1:08:55<7:37:51, 67.66s/it]"
     ]
    },
    {
     "name": "stdout",
     "output_type": "stream",
     "text": [
      "ID GV0795_Pos6_380_RFP\n"
     ]
    },
    {
     "name": "stderr",
     "output_type": "stream",
     "text": [
      "\r",
      " 12%|█▏        | 54/459 [1:09:21<6:11:56, 55.10s/it]"
     ]
    },
    {
     "name": "stdout",
     "output_type": "stream",
     "text": [
      "ID GV0795_Pos6_185_RFP\n"
     ]
    },
    {
     "name": "stderr",
     "output_type": "stream",
     "text": [
      "\r",
      " 12%|█▏        | 55/459 [1:09:36<4:50:54, 43.20s/it]"
     ]
    },
    {
     "name": "stdout",
     "output_type": "stream",
     "text": [
      "ID GV0795_Pos6_252_RFP\n"
     ]
    },
    {
     "name": "stderr",
     "output_type": "stream",
     "text": [
      "\r",
      " 12%|█▏        | 56/459 [1:09:49<3:48:34, 34.03s/it]"
     ]
    },
    {
     "name": "stdout",
     "output_type": "stream",
     "text": [
      "ID GV0795_Pos6_184_RFP\n"
     ]
    },
    {
     "name": "stderr",
     "output_type": "stream",
     "text": [
      "\r",
      " 12%|█▏        | 57/459 [1:10:00<3:02:44, 27.28s/it]"
     ]
    },
    {
     "name": "stdout",
     "output_type": "stream",
     "text": [
      "ID GV0795_Pos6_259_RFP\n"
     ]
    },
    {
     "name": "stderr",
     "output_type": "stream",
     "text": [
      "\r",
      " 13%|█▎        | 58/459 [1:10:20<2:46:40, 24.94s/it]"
     ]
    },
    {
     "name": "stdout",
     "output_type": "stream",
     "text": [
      "ID GV0795_Pos6_736_RFP\n"
     ]
    },
    {
     "name": "stderr",
     "output_type": "stream",
     "text": [
      "\r",
      " 13%|█▎        | 59/459 [1:10:22<2:01:25, 18.21s/it]"
     ]
    },
    {
     "name": "stdout",
     "output_type": "stream",
     "text": [
      "ID GV0795_Pos6_734_RFP\n"
     ]
    },
    {
     "name": "stderr",
     "output_type": "stream",
     "text": [
      "\r",
      " 13%|█▎        | 60/459 [1:10:25<1:30:00, 13.54s/it]"
     ]
    },
    {
     "name": "stdout",
     "output_type": "stream",
     "text": [
      "ID GV0795_Pos6_417_RFP\n"
     ]
    },
    {
     "name": "stderr",
     "output_type": "stream",
     "text": [
      "\r",
      " 13%|█▎        | 61/459 [1:11:01<2:13:57, 20.19s/it]"
     ]
    },
    {
     "name": "stdout",
     "output_type": "stream",
     "text": [
      "ID GV0795_Pos6_1093_RFP\n"
     ]
    },
    {
     "name": "stderr",
     "output_type": "stream",
     "text": [
      "\r",
      " 14%|█▎        | 62/459 [1:11:21<2:12:39, 20.05s/it]"
     ]
    },
    {
     "name": "stdout",
     "output_type": "stream",
     "text": [
      "ID GV0795_Pos6_372_RFP\n"
     ]
    },
    {
     "name": "stderr",
     "output_type": "stream",
     "text": [
      "\r",
      " 14%|█▎        | 63/459 [1:11:52<2:35:15, 23.52s/it]"
     ]
    },
    {
     "name": "stdout",
     "output_type": "stream",
     "text": [
      "ID GV0795_Pos6_34_RFP\n"
     ]
    },
    {
     "name": "stderr",
     "output_type": "stream",
     "text": [
      "\r",
      " 14%|█▍        | 64/459 [1:12:50<3:42:47, 33.84s/it]"
     ]
    },
    {
     "name": "stdout",
     "output_type": "stream",
     "text": [
      "ID GV0795_Pos6_1094_RFP\n"
     ]
    },
    {
     "name": "stderr",
     "output_type": "stream",
     "text": [
      "\r",
      " 14%|█▍        | 65/459 [1:13:10<3:14:53, 29.68s/it]"
     ]
    },
    {
     "name": "stdout",
     "output_type": "stream",
     "text": [
      "ID GV0795_Pos6_1041_RFP\n"
     ]
    },
    {
     "name": "stderr",
     "output_type": "stream",
     "text": [
      "\r",
      " 14%|█▍        | 66/459 [1:13:31<2:57:36, 27.11s/it]"
     ]
    },
    {
     "name": "stdout",
     "output_type": "stream",
     "text": [
      "ID GV0795_Pos6_1353_RFP\n"
     ]
    },
    {
     "name": "stderr",
     "output_type": "stream",
     "text": [
      "\r",
      " 15%|█▍        | 67/459 [1:13:34<2:09:08, 19.77s/it]"
     ]
    },
    {
     "name": "stdout",
     "output_type": "stream",
     "text": [
      "ID GV0795_Pos6_425_RFP\n"
     ]
    },
    {
     "name": "stderr",
     "output_type": "stream",
     "text": [
      "\r",
      " 15%|█▍        | 68/459 [1:14:19<2:57:42, 27.27s/it]"
     ]
    },
    {
     "name": "stdout",
     "output_type": "stream",
     "text": [
      "ID GV0795_Pos6_426_RFP\n"
     ]
    },
    {
     "name": "stderr",
     "output_type": "stream",
     "text": [
      "\r",
      " 15%|█▌        | 69/459 [1:15:03<3:30:13, 32.34s/it]"
     ]
    },
    {
     "name": "stdout",
     "output_type": "stream",
     "text": [
      "ID GV0795_Pos6_48_RFP\n"
     ]
    },
    {
     "name": "stderr",
     "output_type": "stream",
     "text": [
      "\r",
      " 15%|█▌        | 70/459 [1:16:13<4:43:58, 43.80s/it]"
     ]
    },
    {
     "name": "stdout",
     "output_type": "stream",
     "text": [
      "ID GV0795_Pos6_19_RFP\n"
     ]
    },
    {
     "name": "stderr",
     "output_type": "stream",
     "text": [
      "\r",
      " 15%|█▌        | 71/459 [1:16:54<4:37:06, 42.85s/it]"
     ]
    },
    {
     "name": "stdout",
     "output_type": "stream",
     "text": [
      "ID GV0795_Pos6_653_RFP\n"
     ]
    },
    {
     "name": "stderr",
     "output_type": "stream",
     "text": [
      "\r",
      " 16%|█▌        | 72/459 [1:17:11<3:47:15, 35.23s/it]"
     ]
    },
    {
     "name": "stdout",
     "output_type": "stream",
     "text": [
      "ID GV0795_Pos6_413_RFP\n"
     ]
    },
    {
     "name": "stderr",
     "output_type": "stream",
     "text": [
      "\r",
      " 16%|█▌        | 73/459 [1:17:27<3:09:06, 29.40s/it]"
     ]
    },
    {
     "name": "stdout",
     "output_type": "stream",
     "text": [
      "ID GV0795_Pos6_96_RFP\n"
     ]
    },
    {
     "name": "stderr",
     "output_type": "stream",
     "text": [
      "\r",
      " 16%|█▌        | 74/459 [1:18:05<3:25:31, 32.03s/it]"
     ]
    },
    {
     "name": "stdout",
     "output_type": "stream",
     "text": [
      "ID GV0795_Pos6_414_RFP\n"
     ]
    },
    {
     "name": "stderr",
     "output_type": "stream",
     "text": [
      "\r",
      " 16%|█▋        | 75/459 [1:18:20<2:51:14, 26.76s/it]"
     ]
    },
    {
     "name": "stdout",
     "output_type": "stream",
     "text": [
      "ID GV0795_Pos6_97_RFP\n"
     ]
    },
    {
     "name": "stderr",
     "output_type": "stream",
     "text": [
      "\r",
      " 17%|█▋        | 76/459 [1:18:58<3:13:14, 30.27s/it]"
     ]
    },
    {
     "name": "stdout",
     "output_type": "stream",
     "text": [
      "ID GV0795_Pos6_654_RFP\n"
     ]
    },
    {
     "name": "stderr",
     "output_type": "stream",
     "text": [
      "\r",
      " 17%|█▋        | 77/459 [1:19:13<2:43:08, 25.62s/it]"
     ]
    },
    {
     "name": "stdout",
     "output_type": "stream",
     "text": [
      "ID GV0795_Pos6_578_RFP\n"
     ]
    },
    {
     "name": "stderr",
     "output_type": "stream",
     "text": [
      "\r",
      " 17%|█▋        | 78/459 [1:19:42<2:49:45, 26.73s/it]"
     ]
    },
    {
     "name": "stdout",
     "output_type": "stream",
     "text": [
      "ID GV0795_Pos6_1026_RFP\n"
     ]
    },
    {
     "name": "stderr",
     "output_type": "stream",
     "text": [
      "\r",
      " 17%|█▋        | 79/459 [1:20:05<2:42:11, 25.61s/it]"
     ]
    },
    {
     "name": "stdout",
     "output_type": "stream",
     "text": [
      "ID GV0795_Pos6_11_RFP\n"
     ]
    },
    {
     "name": "stderr",
     "output_type": "stream",
     "text": [
      "\r",
      " 17%|█▋        | 80/459 [1:21:18<4:11:30, 39.82s/it]"
     ]
    },
    {
     "name": "stdout",
     "output_type": "stream",
     "text": [
      "ID GV0795_Pos6_619_RFP\n"
     ]
    },
    {
     "name": "stderr",
     "output_type": "stream",
     "text": [
      "\r",
      " 18%|█▊        | 81/459 [1:21:39<3:34:49, 34.10s/it]"
     ]
    },
    {
     "name": "stdout",
     "output_type": "stream",
     "text": [
      "ID GV0795_Pos6_700_RFP\n"
     ]
    },
    {
     "name": "stderr",
     "output_type": "stream",
     "text": [
      "\r",
      " 18%|█▊        | 82/459 [1:22:08<3:23:48, 32.44s/it]"
     ]
    },
    {
     "name": "stdout",
     "output_type": "stream",
     "text": [
      "ID GV0795_Pos6_579_RFP\n"
     ]
    },
    {
     "name": "stderr",
     "output_type": "stream",
     "text": [
      "\r",
      " 18%|█▊        | 83/459 [1:22:45<3:31:58, 33.83s/it]"
     ]
    },
    {
     "name": "stdout",
     "output_type": "stream",
     "text": [
      "ID GV0795_Pos6_967_RFP\n"
     ]
    },
    {
     "name": "stderr",
     "output_type": "stream",
     "text": [
      "\r",
      " 18%|█▊        | 84/459 [1:23:03<3:02:07, 29.14s/it]"
     ]
    },
    {
     "name": "stdout",
     "output_type": "stream",
     "text": [
      "ID GV0795_Pos6_160_RFP\n"
     ]
    },
    {
     "name": "stderr",
     "output_type": "stream",
     "text": [
      " 19%|█▊        | 85/459 [1:23:47<3:28:42, 33.48s/it][INFO][2021/05/04 06:46:37 PM] Opening HDF file: /home/nathan/data/kraken/h2b/giulia/GV0796/Pos6/Pos6_aligned/HDF/segmented.hdf5...\n",
      "[INFO][2021/05/04 06:46:37 PM] Loading tracks/obj_type_1\n"
     ]
    },
    {
     "name": "stdout",
     "output_type": "stream",
     "text": [
      "ID GV0796_Pos6_570_RFP\n",
      "Loading GV0796/Pos6/\n",
      "Btrack version no.: 0.4.0\n"
     ]
    },
    {
     "name": "stderr",
     "output_type": "stream",
     "text": [
      "[INFO][2021/05/04 06:46:38 PM] Loading objects/obj_type_1 (70354, 5) (57413 filtered: area>=100)\n",
      "[INFO][2021/05/04 06:46:38 PM] Closing HDF file: /home/nathan/data/kraken/h2b/giulia/GV0796/Pos6/Pos6_aligned/HDF/segmented.hdf5\n",
      "[INFO][2021/05/04 06:46:38 PM] Opening HDF file: /home/nathan/data/kraken/h2b/giulia/GV0796/Pos6/Pos6_aligned/HDF/segmented.hdf5...\n",
      "[INFO][2021/05/04 06:46:38 PM] Loading tracks/obj_type_2\n",
      "[INFO][2021/05/04 06:46:39 PM] Loading objects/obj_type_2 (88276, 5) (68435 filtered: area>=100)\n",
      "[INFO][2021/05/04 06:46:39 PM] Closing HDF file: /home/nathan/data/kraken/h2b/giulia/GV0796/Pos6/Pos6_aligned/HDF/segmented.hdf5\n"
     ]
    },
    {
     "name": "stdout",
     "output_type": "stream",
     "text": [
      "Track information loaded and ordered according to cell type (WT IDs >0> Scr IDs)\n",
      "Loaded GV0796/Pos6/\n"
     ]
    },
    {
     "name": "stderr",
     "output_type": "stream",
     "text": [
      "\r",
      " 19%|█▊        | 86/459 [1:24:00<2:50:00, 27.35s/it]"
     ]
    },
    {
     "name": "stdout",
     "output_type": "stream",
     "text": [
      "ID GV0796_Pos6_569_RFP\n"
     ]
    },
    {
     "name": "stderr",
     "output_type": "stream",
     "text": [
      "\r",
      " 19%|█▉        | 87/459 [1:24:10<2:18:41, 22.37s/it]"
     ]
    },
    {
     "name": "stdout",
     "output_type": "stream",
     "text": [
      "ID GV0796_Pos6_60_RFP\n"
     ]
    },
    {
     "name": "stderr",
     "output_type": "stream",
     "text": [
      "\r",
      " 19%|█▉        | 88/459 [1:24:57<3:04:14, 29.80s/it]"
     ]
    },
    {
     "name": "stdout",
     "output_type": "stream",
     "text": [
      "ID GV0796_Pos6_57_RFP\n"
     ]
    },
    {
     "name": "stderr",
     "output_type": "stream",
     "text": [
      "\r",
      " 19%|█▉        | 89/459 [1:25:58<3:59:59, 38.92s/it]"
     ]
    },
    {
     "name": "stdout",
     "output_type": "stream",
     "text": [
      "ID GV0796_Pos6_344_RFP\n"
     ]
    },
    {
     "name": "stderr",
     "output_type": "stream",
     "text": [
      "\r",
      " 20%|█▉        | 90/459 [1:26:28<3:42:44, 36.22s/it]"
     ]
    },
    {
     "name": "stdout",
     "output_type": "stream",
     "text": [
      "ID GV0796_Pos6_39_RFP\n"
     ]
    },
    {
     "name": "stderr",
     "output_type": "stream",
     "text": [
      "\r",
      " 20%|█▉        | 91/459 [1:27:25<4:20:35, 42.49s/it]"
     ]
    },
    {
     "name": "stdout",
     "output_type": "stream",
     "text": [
      "ID GV0796_Pos6_664_RFP\n"
     ]
    },
    {
     "name": "stderr",
     "output_type": "stream",
     "text": [
      "\r",
      " 20%|██        | 92/459 [1:28:00<4:07:20, 40.44s/it]"
     ]
    },
    {
     "name": "stdout",
     "output_type": "stream",
     "text": [
      "ID GV0796_Pos6_565_RFP\n"
     ]
    },
    {
     "name": "stderr",
     "output_type": "stream",
     "text": [
      "\r",
      " 20%|██        | 93/459 [1:28:47<4:18:03, 42.30s/it]"
     ]
    },
    {
     "name": "stdout",
     "output_type": "stream",
     "text": [
      "ID GV0796_Pos6_566_RFP\n"
     ]
    },
    {
     "name": "stderr",
     "output_type": "stream",
     "text": [
      "\r",
      " 20%|██        | 94/459 [1:29:23<4:05:35, 40.37s/it]"
     ]
    },
    {
     "name": "stdout",
     "output_type": "stream",
     "text": [
      "ID GV0796_Pos6_841_RFP\n"
     ]
    },
    {
     "name": "stderr",
     "output_type": "stream",
     "text": [
      "\r",
      " 21%|██        | 95/459 [1:29:35<3:14:24, 32.05s/it]"
     ]
    },
    {
     "name": "stdout",
     "output_type": "stream",
     "text": [
      "ID GV0796_Pos6_541_RFP\n"
     ]
    },
    {
     "name": "stderr",
     "output_type": "stream",
     "text": [
      "\r",
      " 21%|██        | 96/459 [1:30:04<3:06:46, 30.87s/it]"
     ]
    },
    {
     "name": "stdout",
     "output_type": "stream",
     "text": [
      "ID GV0796_Pos6_839_RFP\n"
     ]
    },
    {
     "name": "stderr",
     "output_type": "stream",
     "text": [
      "\r",
      " 21%|██        | 97/459 [1:30:17<2:34:20, 25.58s/it]"
     ]
    },
    {
     "name": "stdout",
     "output_type": "stream",
     "text": [
      "ID GV0796_Pos6_579_RFP\n"
     ]
    },
    {
     "name": "stderr",
     "output_type": "stream",
     "text": [
      "\r",
      " 21%|██▏       | 98/459 [1:30:46<2:40:21, 26.65s/it]"
     ]
    },
    {
     "name": "stdout",
     "output_type": "stream",
     "text": [
      "ID GV0796_Pos6_542_RFP\n"
     ]
    },
    {
     "name": "stderr",
     "output_type": "stream",
     "text": [
      "\r",
      " 22%|██▏       | 99/459 [1:31:18<2:50:10, 28.36s/it]"
     ]
    },
    {
     "name": "stdout",
     "output_type": "stream",
     "text": [
      "ID GV0796_Pos6_201_RFP\n"
     ]
    },
    {
     "name": "stderr",
     "output_type": "stream",
     "text": [
      "\r",
      " 22%|██▏       | 100/459 [1:31:59<3:12:29, 32.17s/it]"
     ]
    },
    {
     "name": "stdout",
     "output_type": "stream",
     "text": [
      "ID GV0796_Pos6_881_RFP\n"
     ]
    },
    {
     "name": "stderr",
     "output_type": "stream",
     "text": [
      "\r",
      " 22%|██▏       | 101/459 [1:32:25<2:59:39, 30.11s/it]"
     ]
    },
    {
     "name": "stdout",
     "output_type": "stream",
     "text": [
      "ID GV0796_Pos6_7_RFP\n"
     ]
    },
    {
     "name": "stderr",
     "output_type": "stream",
     "text": [
      "\r",
      " 22%|██▏       | 102/459 [1:33:32<4:05:42, 41.30s/it]"
     ]
    },
    {
     "name": "stdout",
     "output_type": "stream",
     "text": [
      "ID GV0796_Pos6_638_RFP\n"
     ]
    },
    {
     "name": "stderr",
     "output_type": "stream",
     "text": [
      "\r",
      " 22%|██▏       | 103/459 [1:34:07<3:53:25, 39.34s/it]"
     ]
    },
    {
     "name": "stdout",
     "output_type": "stream",
     "text": [
      "ID GV0796_Pos6_1063_RFP\n"
     ]
    },
    {
     "name": "stderr",
     "output_type": "stream",
     "text": [
      "\r",
      " 23%|██▎       | 104/459 [1:34:23<3:10:50, 32.25s/it]"
     ]
    },
    {
     "name": "stdout",
     "output_type": "stream",
     "text": [
      "ID GV0796_Pos6_30_RFP\n"
     ]
    },
    {
     "name": "stderr",
     "output_type": "stream",
     "text": [
      "\r",
      " 23%|██▎       | 105/459 [1:34:33<2:31:36, 25.70s/it]"
     ]
    },
    {
     "name": "stdout",
     "output_type": "stream",
     "text": [
      "ID GV0796_Pos6_86_RFP\n"
     ]
    },
    {
     "name": "stderr",
     "output_type": "stream",
     "text": [
      "\r",
      " 23%|██▎       | 106/459 [1:34:54<2:22:29, 24.22s/it]"
     ]
    },
    {
     "name": "stdout",
     "output_type": "stream",
     "text": [
      "ID GV0796_Pos6_1022_RFP\n"
     ]
    },
    {
     "name": "stderr",
     "output_type": "stream",
     "text": [
      "\r",
      " 23%|██▎       | 107/459 [1:35:01<1:51:25, 18.99s/it]"
     ]
    },
    {
     "name": "stdout",
     "output_type": "stream",
     "text": [
      "ID GV0796_Pos6_1146_RFP\n"
     ]
    },
    {
     "name": "stderr",
     "output_type": "stream",
     "text": [
      "\r",
      " 24%|██▎       | 108/459 [1:35:08<1:31:31, 15.65s/it]"
     ]
    },
    {
     "name": "stdout",
     "output_type": "stream",
     "text": [
      "ID GV0796_Pos6_885_RFP\n"
     ]
    },
    {
     "name": "stderr",
     "output_type": "stream",
     "text": [
      "\r",
      " 24%|██▎       | 109/459 [1:35:37<1:53:48, 19.51s/it]"
     ]
    },
    {
     "name": "stdout",
     "output_type": "stream",
     "text": [
      "ID GV0796_Pos6_1021_RFP\n"
     ]
    },
    {
     "name": "stderr",
     "output_type": "stream",
     "text": [
      "\r",
      " 24%|██▍       | 110/459 [1:36:00<1:59:42, 20.58s/it]"
     ]
    },
    {
     "name": "stdout",
     "output_type": "stream",
     "text": [
      "ID GV0796_Pos6_18_RFP\n"
     ]
    },
    {
     "name": "stderr",
     "output_type": "stream",
     "text": [
      " 24%|██▍       | 111/459 [1:36:26<2:07:57, 22.06s/it][INFO][2021/05/04 06:59:16 PM] Opening HDF file: /home/nathan/data/kraken/h2b/giulia/GV0807/Pos5/Pos5_aligned/HDF/segmented.hdf5...\n",
      "[INFO][2021/05/04 06:59:16 PM] Loading tracks/obj_type_1\n"
     ]
    },
    {
     "name": "stdout",
     "output_type": "stream",
     "text": [
      "ID GV0807_Pos5_4_RFP\n",
      "Loading GV0807/Pos5/\n",
      "Btrack version no.: 0.4.0\n"
     ]
    },
    {
     "name": "stderr",
     "output_type": "stream",
     "text": [
      "[INFO][2021/05/04 06:59:17 PM] Loading objects/obj_type_1 (129954, 5) (111411 filtered: area>=100)\n",
      "[INFO][2021/05/04 06:59:18 PM] Closing HDF file: /home/nathan/data/kraken/h2b/giulia/GV0807/Pos5/Pos5_aligned/HDF/segmented.hdf5\n",
      "[INFO][2021/05/04 06:59:18 PM] Opening HDF file: /home/nathan/data/kraken/h2b/giulia/GV0807/Pos5/Pos5_aligned/HDF/segmented.hdf5...\n",
      "[INFO][2021/05/04 06:59:18 PM] Loading tracks/obj_type_2\n",
      "[INFO][2021/05/04 06:59:18 PM] Loading objects/obj_type_2 (87213, 5) (74295 filtered: area>=100)\n",
      "[INFO][2021/05/04 06:59:19 PM] Closing HDF file: /home/nathan/data/kraken/h2b/giulia/GV0807/Pos5/Pos5_aligned/HDF/segmented.hdf5\n"
     ]
    },
    {
     "name": "stdout",
     "output_type": "stream",
     "text": [
      "Track information loaded and ordered according to cell type (WT IDs >0> Scr IDs)\n",
      "Loaded GV0807/Pos5/\n"
     ]
    },
    {
     "name": "stderr",
     "output_type": "stream",
     "text": [
      "\r",
      " 24%|██▍       | 112/459 [1:36:38<1:50:15, 19.07s/it]"
     ]
    },
    {
     "name": "stdout",
     "output_type": "stream",
     "text": [
      "ID GV0807_Pos5_52_RFP\n"
     ]
    },
    {
     "name": "stderr",
     "output_type": "stream",
     "text": [
      "\r",
      " 25%|██▍       | 113/459 [1:36:49<1:36:45, 16.78s/it]"
     ]
    },
    {
     "name": "stdout",
     "output_type": "stream",
     "text": [
      "ID GV0807_Pos5_301_RFP\n"
     ]
    },
    {
     "name": "stderr",
     "output_type": "stream",
     "text": [
      "\r",
      " 25%|██▍       | 114/459 [1:36:58<1:22:16, 14.31s/it]"
     ]
    },
    {
     "name": "stdout",
     "output_type": "stream",
     "text": [
      "ID GV0807_Pos5_459_RFP\n"
     ]
    },
    {
     "name": "stderr",
     "output_type": "stream",
     "text": [
      "\r",
      " 25%|██▌       | 115/459 [1:37:19<1:34:39, 16.51s/it]"
     ]
    },
    {
     "name": "stdout",
     "output_type": "stream",
     "text": [
      "ID GV0807_Pos5_402_RFP\n"
     ]
    },
    {
     "name": "stderr",
     "output_type": "stream",
     "text": [
      "\r",
      " 25%|██▌       | 116/459 [1:37:59<2:14:50, 23.59s/it]"
     ]
    },
    {
     "name": "stdout",
     "output_type": "stream",
     "text": [
      "ID GV0807_Pos5_354_RFP\n"
     ]
    },
    {
     "name": "stderr",
     "output_type": "stream",
     "text": [
      "\r",
      " 25%|██▌       | 117/459 [1:38:47<2:56:21, 30.94s/it]"
     ]
    },
    {
     "name": "stdout",
     "output_type": "stream",
     "text": [
      "ID GV0807_Pos5_679_RFP\n"
     ]
    },
    {
     "name": "stderr",
     "output_type": "stream",
     "text": [
      "\r",
      " 26%|██▌       | 118/459 [1:39:07<2:36:29, 27.54s/it]"
     ]
    },
    {
     "name": "stdout",
     "output_type": "stream",
     "text": [
      "ID GV0807_Pos5_950_RFP\n"
     ]
    },
    {
     "name": "stderr",
     "output_type": "stream",
     "text": [
      "\r",
      " 26%|██▌       | 119/459 [1:39:23<2:16:53, 24.16s/it]"
     ]
    },
    {
     "name": "stdout",
     "output_type": "stream",
     "text": [
      "ID GV0807_Pos5_952_RFP\n"
     ]
    },
    {
     "name": "stderr",
     "output_type": "stream",
     "text": [
      "\r",
      " 26%|██▌       | 120/459 [1:39:41<2:05:06, 22.14s/it]"
     ]
    },
    {
     "name": "stdout",
     "output_type": "stream",
     "text": [
      "ID GV0807_Pos5_334_RFP\n"
     ]
    },
    {
     "name": "stderr",
     "output_type": "stream",
     "text": [
      "\r",
      " 26%|██▋       | 121/459 [1:40:59<3:39:59, 39.05s/it]"
     ]
    },
    {
     "name": "stdout",
     "output_type": "stream",
     "text": [
      "ID GV0807_Pos5_733_RFP\n"
     ]
    },
    {
     "name": "stderr",
     "output_type": "stream",
     "text": [
      "\r",
      " 27%|██▋       | 122/459 [1:42:06<4:26:34, 47.46s/it]"
     ]
    },
    {
     "name": "stdout",
     "output_type": "stream",
     "text": [
      "ID GV0807_Pos5_916_RFP\n"
     ]
    },
    {
     "name": "stderr",
     "output_type": "stream",
     "text": [
      "\r",
      " 27%|██▋       | 123/459 [1:42:26<3:38:30, 39.02s/it]"
     ]
    },
    {
     "name": "stdout",
     "output_type": "stream",
     "text": [
      "ID GV0807_Pos5_677_RFP\n"
     ]
    },
    {
     "name": "stderr",
     "output_type": "stream",
     "text": [
      "\r",
      " 27%|██▋       | 124/459 [1:43:18<3:59:23, 42.88s/it]"
     ]
    },
    {
     "name": "stdout",
     "output_type": "stream",
     "text": [
      "ID GV0807_Pos5_1128_RFP\n"
     ]
    },
    {
     "name": "stderr",
     "output_type": "stream",
     "text": [
      "\r",
      " 27%|██▋       | 125/459 [1:43:33<3:13:10, 34.70s/it]"
     ]
    },
    {
     "name": "stdout",
     "output_type": "stream",
     "text": [
      "ID GV0807_Pos5_460_RFP\n"
     ]
    },
    {
     "name": "stderr",
     "output_type": "stream",
     "text": [
      "\r",
      " 27%|██▋       | 126/459 [1:44:15<3:24:51, 36.91s/it]"
     ]
    },
    {
     "name": "stdout",
     "output_type": "stream",
     "text": [
      "ID GV0807_Pos5_51_RFP\n"
     ]
    },
    {
     "name": "stderr",
     "output_type": "stream",
     "text": [
      "\r",
      " 28%|██▊       | 127/459 [1:46:06<5:26:46, 59.05s/it]"
     ]
    },
    {
     "name": "stdout",
     "output_type": "stream",
     "text": [
      "ID GV0807_Pos5_977_RFP\n"
     ]
    },
    {
     "name": "stderr",
     "output_type": "stream",
     "text": [
      "\r",
      " 28%|██▊       | 128/459 [1:46:34<4:34:00, 49.67s/it]"
     ]
    },
    {
     "name": "stdout",
     "output_type": "stream",
     "text": [
      "ID GV0807_Pos5_1149_RFP\n"
     ]
    },
    {
     "name": "stderr",
     "output_type": "stream",
     "text": [
      "\r",
      " 28%|██▊       | 129/459 [1:47:15<4:18:36, 47.02s/it]"
     ]
    },
    {
     "name": "stdout",
     "output_type": "stream",
     "text": [
      "ID GV0807_Pos5_815_RFP\n"
     ]
    },
    {
     "name": "stderr",
     "output_type": "stream",
     "text": [
      "\r",
      " 28%|██▊       | 130/459 [1:48:09<4:30:28, 49.33s/it]"
     ]
    },
    {
     "name": "stdout",
     "output_type": "stream",
     "text": [
      "ID GV0807_Pos5_2_RFP\n"
     ]
    },
    {
     "name": "stderr",
     "output_type": "stream",
     "text": [
      "\r",
      " 29%|██▊       | 131/459 [1:50:24<6:49:19, 74.88s/it]"
     ]
    },
    {
     "name": "stdout",
     "output_type": "stream",
     "text": [
      "ID GV0807_Pos5_1281_RFP\n"
     ]
    },
    {
     "name": "stderr",
     "output_type": "stream",
     "text": [
      "\r",
      " 29%|██▉       | 132/459 [1:51:00<5:45:18, 63.36s/it]"
     ]
    },
    {
     "name": "stdout",
     "output_type": "stream",
     "text": [
      "ID GV0807_Pos5_1448_RFP\n"
     ]
    },
    {
     "name": "stderr",
     "output_type": "stream",
     "text": [
      "\r",
      " 29%|██▉       | 133/459 [1:51:14<4:23:40, 48.53s/it]"
     ]
    },
    {
     "name": "stdout",
     "output_type": "stream",
     "text": [
      "ID GV0807_Pos5_1427_RFP\n"
     ]
    },
    {
     "name": "stderr",
     "output_type": "stream",
     "text": [
      "\r",
      " 29%|██▉       | 134/459 [1:51:32<3:32:15, 39.19s/it]"
     ]
    },
    {
     "name": "stdout",
     "output_type": "stream",
     "text": [
      "ID GV0807_Pos5_1489_RFP\n"
     ]
    },
    {
     "name": "stderr",
     "output_type": "stream",
     "text": [
      "\r",
      " 29%|██▉       | 135/459 [1:51:39<2:39:41, 29.57s/it]"
     ]
    },
    {
     "name": "stdout",
     "output_type": "stream",
     "text": [
      "ID GV0807_Pos5_944_RFP\n"
     ]
    },
    {
     "name": "stderr",
     "output_type": "stream",
     "text": [
      "\r",
      " 30%|██▉       | 136/459 [1:52:35<3:22:20, 37.59s/it]"
     ]
    },
    {
     "name": "stdout",
     "output_type": "stream",
     "text": [
      "ID GV0807_Pos5_819_RFP\n"
     ]
    },
    {
     "name": "stderr",
     "output_type": "stream",
     "text": [
      "\r",
      " 30%|██▉       | 137/459 [1:53:20<3:34:19, 39.94s/it]"
     ]
    },
    {
     "name": "stdout",
     "output_type": "stream",
     "text": [
      "ID GV0807_Pos5_793_RFP\n"
     ]
    },
    {
     "name": "stderr",
     "output_type": "stream",
     "text": [
      " 30%|███       | 138/459 [1:54:29<4:19:43, 48.55s/it][INFO][2021/05/04 07:17:20 PM] Opening HDF file: /home/nathan/data/kraken/h2b/giulia/GV0796/Pos23/Pos23_aligned/HDF/segmented.hdf5...\n",
      "[INFO][2021/05/04 07:17:20 PM] Loading tracks/obj_type_1\n"
     ]
    },
    {
     "name": "stdout",
     "output_type": "stream",
     "text": [
      "ID GV0796_Pos23_66_RFP\n",
      "Loading GV0796/Pos23/\n",
      "Btrack version no.: 0.4.0\n"
     ]
    },
    {
     "name": "stderr",
     "output_type": "stream",
     "text": [
      "[INFO][2021/05/04 07:17:20 PM] Loading objects/obj_type_1 (95277, 5) (83305 filtered: area>=100)\n",
      "[INFO][2021/05/04 07:17:21 PM] Closing HDF file: /home/nathan/data/kraken/h2b/giulia/GV0796/Pos23/Pos23_aligned/HDF/segmented.hdf5\n",
      "[INFO][2021/05/04 07:17:21 PM] Opening HDF file: /home/nathan/data/kraken/h2b/giulia/GV0796/Pos23/Pos23_aligned/HDF/segmented.hdf5...\n",
      "[INFO][2021/05/04 07:17:21 PM] Loading tracks/obj_type_2\n",
      "[INFO][2021/05/04 07:17:22 PM] Loading objects/obj_type_2 (126378, 5) (98072 filtered: area>=100)\n",
      "[INFO][2021/05/04 07:17:23 PM] Closing HDF file: /home/nathan/data/kraken/h2b/giulia/GV0796/Pos23/Pos23_aligned/HDF/segmented.hdf5\n"
     ]
    },
    {
     "name": "stdout",
     "output_type": "stream",
     "text": [
      "Track information loaded and ordered according to cell type (WT IDs >0> Scr IDs)\n",
      "Loaded GV0796/Pos23/\n"
     ]
    },
    {
     "name": "stderr",
     "output_type": "stream",
     "text": [
      "\r",
      " 30%|███       | 139/459 [1:54:39<3:16:52, 36.91s/it]"
     ]
    },
    {
     "name": "stdout",
     "output_type": "stream",
     "text": [
      "ID GV0796_Pos23_87_RFP\n"
     ]
    },
    {
     "name": "stderr",
     "output_type": "stream",
     "text": [
      "\r",
      " 31%|███       | 140/459 [1:54:48<2:32:48, 28.74s/it]"
     ]
    },
    {
     "name": "stdout",
     "output_type": "stream",
     "text": [
      "ID GV0796_Pos23_62_RFP\n"
     ]
    },
    {
     "name": "stderr",
     "output_type": "stream",
     "text": [
      "\r",
      " 31%|███       | 141/459 [1:55:29<2:50:27, 32.16s/it]"
     ]
    },
    {
     "name": "stdout",
     "output_type": "stream",
     "text": [
      "ID GV0796_Pos23_74_RFP\n"
     ]
    },
    {
     "name": "stderr",
     "output_type": "stream",
     "text": [
      "\r",
      " 31%|███       | 142/459 [1:56:07<3:00:20, 34.13s/it]"
     ]
    },
    {
     "name": "stdout",
     "output_type": "stream",
     "text": [
      "ID GV0796_Pos23_18_RFP\n"
     ]
    },
    {
     "name": "stderr",
     "output_type": "stream",
     "text": [
      "\r",
      " 31%|███       | 143/459 [1:56:37<2:53:12, 32.89s/it]"
     ]
    },
    {
     "name": "stdout",
     "output_type": "stream",
     "text": [
      "ID GV0796_Pos23_202_RFP\n"
     ]
    },
    {
     "name": "stderr",
     "output_type": "stream",
     "text": [
      "\r",
      " 31%|███▏      | 144/459 [1:57:38<3:36:14, 41.19s/it]"
     ]
    },
    {
     "name": "stdout",
     "output_type": "stream",
     "text": [
      "ID GV0796_Pos23_786_RFP\n"
     ]
    },
    {
     "name": "stderr",
     "output_type": "stream",
     "text": [
      "\r",
      " 32%|███▏      | 145/459 [1:58:11<3:22:33, 38.71s/it]"
     ]
    },
    {
     "name": "stdout",
     "output_type": "stream",
     "text": [
      "ID GV0796_Pos23_15_RFP\n"
     ]
    },
    {
     "name": "stderr",
     "output_type": "stream",
     "text": [
      "\r",
      " 32%|███▏      | 146/459 [1:59:38<4:37:04, 53.11s/it]"
     ]
    },
    {
     "name": "stdout",
     "output_type": "stream",
     "text": [
      "ID GV0796_Pos23_1896_RFP\n"
     ]
    },
    {
     "name": "stderr",
     "output_type": "stream",
     "text": [
      "\r",
      " 32%|███▏      | 147/459 [1:59:59<3:46:35, 43.58s/it]"
     ]
    },
    {
     "name": "stdout",
     "output_type": "stream",
     "text": [
      "ID GV0796_Pos23_2215_RFP\n"
     ]
    },
    {
     "name": "stderr",
     "output_type": "stream",
     "text": [
      "\r",
      " 32%|███▏      | 148/459 [2:00:08<2:51:57, 33.18s/it]"
     ]
    },
    {
     "name": "stdout",
     "output_type": "stream",
     "text": [
      "ID GV0796_Pos23_890_RFP\n"
     ]
    },
    {
     "name": "stderr",
     "output_type": "stream",
     "text": [
      "\r",
      " 32%|███▏      | 149/459 [2:00:40<2:50:01, 32.91s/it]"
     ]
    },
    {
     "name": "stdout",
     "output_type": "stream",
     "text": [
      "ID GV0796_Pos23_771_RFP\n"
     ]
    },
    {
     "name": "stderr",
     "output_type": "stream",
     "text": [
      "\r",
      " 33%|███▎      | 150/459 [2:01:20<3:00:11, 34.99s/it]"
     ]
    },
    {
     "name": "stdout",
     "output_type": "stream",
     "text": [
      "ID GV0796_Pos23_968_RFP\n"
     ]
    },
    {
     "name": "stderr",
     "output_type": "stream",
     "text": [
      "\r",
      " 33%|███▎      | 151/459 [2:02:01<3:09:06, 36.84s/it]"
     ]
    },
    {
     "name": "stdout",
     "output_type": "stream",
     "text": [
      "ID GV0796_Pos23_969_RFP\n"
     ]
    },
    {
     "name": "stderr",
     "output_type": "stream",
     "text": [
      "\r",
      " 33%|███▎      | 152/459 [2:02:34<3:02:24, 35.65s/it]"
     ]
    },
    {
     "name": "stdout",
     "output_type": "stream",
     "text": [
      "ID GV0796_Pos23_1773_RFP\n"
     ]
    },
    {
     "name": "stderr",
     "output_type": "stream",
     "text": [
      "\r",
      " 33%|███▎      | 153/459 [2:02:50<2:32:32, 29.91s/it]"
     ]
    },
    {
     "name": "stdout",
     "output_type": "stream",
     "text": [
      "ID GV0796_Pos23_1253_RFP\n"
     ]
    },
    {
     "name": "stderr",
     "output_type": "stream",
     "text": [
      "\r",
      " 34%|███▎      | 154/459 [2:03:02<2:04:47, 24.55s/it]"
     ]
    },
    {
     "name": "stdout",
     "output_type": "stream",
     "text": [
      "ID GV0796_Pos23_16_RFP\n"
     ]
    },
    {
     "name": "stderr",
     "output_type": "stream",
     "text": [
      "\r",
      " 34%|███▍      | 155/459 [2:03:07<1:34:37, 18.68s/it]"
     ]
    },
    {
     "name": "stdout",
     "output_type": "stream",
     "text": [
      "ID GV0796_Pos23_80_RFP\n"
     ]
    },
    {
     "name": "stderr",
     "output_type": "stream",
     "text": [
      "\r",
      " 34%|███▍      | 156/459 [2:03:56<2:19:16, 27.58s/it]"
     ]
    },
    {
     "name": "stdout",
     "output_type": "stream",
     "text": [
      "ID GV0796_Pos23_525_RFP\n"
     ]
    },
    {
     "name": "stderr",
     "output_type": "stream",
     "text": [
      "\r",
      " 34%|███▍      | 157/459 [2:04:55<3:07:08, 37.18s/it]"
     ]
    },
    {
     "name": "stdout",
     "output_type": "stream",
     "text": [
      "ID GV0796_Pos23_1767_RFP\n"
     ]
    },
    {
     "name": "stderr",
     "output_type": "stream",
     "text": [
      "\r",
      " 34%|███▍      | 158/459 [2:05:20<2:47:18, 33.35s/it]"
     ]
    },
    {
     "name": "stdout",
     "output_type": "stream",
     "text": [
      "ID GV0796_Pos23_203_RFP\n"
     ]
    },
    {
     "name": "stderr",
     "output_type": "stream",
     "text": [
      "\r",
      " 35%|███▍      | 159/459 [2:05:35<2:18:47, 27.76s/it]"
     ]
    },
    {
     "name": "stdout",
     "output_type": "stream",
     "text": [
      "ID GV0796_Pos23_36_RFP\n"
     ]
    },
    {
     "name": "stderr",
     "output_type": "stream",
     "text": [
      "\r",
      " 35%|███▍      | 160/459 [2:05:57<2:09:49, 26.05s/it]"
     ]
    },
    {
     "name": "stdout",
     "output_type": "stream",
     "text": [
      "ID GV0796_Pos23_174_RFP\n"
     ]
    },
    {
     "name": "stderr",
     "output_type": "stream",
     "text": [
      "\r",
      " 35%|███▌      | 161/459 [2:06:36<2:29:39, 30.13s/it]"
     ]
    },
    {
     "name": "stdout",
     "output_type": "stream",
     "text": [
      "ID GV0796_Pos23_655_RFP\n"
     ]
    },
    {
     "name": "stderr",
     "output_type": "stream",
     "text": [
      "\r",
      " 35%|███▌      | 162/459 [2:07:02<2:22:12, 28.73s/it]"
     ]
    },
    {
     "name": "stdout",
     "output_type": "stream",
     "text": [
      "ID GV0796_Pos23_717_RFP\n"
     ]
    },
    {
     "name": "stderr",
     "output_type": "stream",
     "text": [
      "\r",
      " 36%|███▌      | 163/459 [2:07:30<2:21:21, 28.65s/it]"
     ]
    },
    {
     "name": "stdout",
     "output_type": "stream",
     "text": [
      "ID GV0796_Pos23_718_RFP\n"
     ]
    },
    {
     "name": "stderr",
     "output_type": "stream",
     "text": [
      "\r",
      " 36%|███▌      | 164/459 [2:07:59<2:21:37, 28.80s/it]"
     ]
    },
    {
     "name": "stdout",
     "output_type": "stream",
     "text": [
      "ID GV0796_Pos23_526_RFP\n"
     ]
    },
    {
     "name": "stderr",
     "output_type": "stream",
     "text": [
      "\r",
      " 36%|███▌      | 165/459 [2:08:49<2:51:42, 35.04s/it]"
     ]
    },
    {
     "name": "stdout",
     "output_type": "stream",
     "text": [
      "ID GV0796_Pos23_323_RFP\n"
     ]
    },
    {
     "name": "stderr",
     "output_type": "stream",
     "text": [
      "\r",
      " 36%|███▌      | 166/459 [2:09:41<3:16:01, 40.14s/it]"
     ]
    },
    {
     "name": "stdout",
     "output_type": "stream",
     "text": [
      "ID GV0796_Pos23_798_RFP\n"
     ]
    },
    {
     "name": "stderr",
     "output_type": "stream",
     "text": [
      "\r",
      " 36%|███▋      | 167/459 [2:10:23<3:17:38, 40.61s/it]"
     ]
    },
    {
     "name": "stdout",
     "output_type": "stream",
     "text": [
      "ID GV0796_Pos23_1306_RFP\n"
     ]
    },
    {
     "name": "stderr",
     "output_type": "stream",
     "text": [
      "\r",
      " 37%|███▋      | 168/459 [2:10:38<2:39:49, 32.96s/it]"
     ]
    },
    {
     "name": "stdout",
     "output_type": "stream",
     "text": [
      "ID GV0796_Pos23_1073_RFP\n"
     ]
    },
    {
     "name": "stderr",
     "output_type": "stream",
     "text": [
      "\r",
      " 37%|███▋      | 169/459 [2:10:55<2:17:02, 28.35s/it]"
     ]
    },
    {
     "name": "stdout",
     "output_type": "stream",
     "text": [
      "ID GV0796_Pos23_799_RFP\n"
     ]
    },
    {
     "name": "stderr",
     "output_type": "stream",
     "text": [
      "\r",
      " 37%|███▋      | 170/459 [2:11:26<2:19:35, 28.98s/it]"
     ]
    },
    {
     "name": "stdout",
     "output_type": "stream",
     "text": [
      "ID GV0796_Pos23_1412_RFP\n"
     ]
    },
    {
     "name": "stderr",
     "output_type": "stream",
     "text": [
      "\r",
      " 37%|███▋      | 171/459 [2:11:31<1:45:00, 21.88s/it]"
     ]
    },
    {
     "name": "stdout",
     "output_type": "stream",
     "text": [
      "ID GV0796_Pos23_1898_RFP\n"
     ]
    },
    {
     "name": "stderr",
     "output_type": "stream",
     "text": [
      "\r",
      " 37%|███▋      | 172/459 [2:11:41<1:27:51, 18.37s/it]"
     ]
    },
    {
     "name": "stdout",
     "output_type": "stream",
     "text": [
      "ID GV0796_Pos23_485_RFP\n"
     ]
    },
    {
     "name": "stderr",
     "output_type": "stream",
     "text": [
      "\r",
      " 38%|███▊      | 173/459 [2:12:28<2:07:59, 26.85s/it]"
     ]
    },
    {
     "name": "stdout",
     "output_type": "stream",
     "text": [
      "ID GV0796_Pos23_1466_RFP\n"
     ]
    },
    {
     "name": "stderr",
     "output_type": "stream",
     "text": [
      "\r",
      " 38%|███▊      | 174/459 [2:12:34<1:38:03, 20.64s/it]"
     ]
    },
    {
     "name": "stdout",
     "output_type": "stream",
     "text": [
      "ID GV0796_Pos23_770_RFP\n"
     ]
    },
    {
     "name": "stderr",
     "output_type": "stream",
     "text": [
      " 38%|███▊      | 175/459 [2:13:25<2:20:36, 29.71s/it][INFO][2021/05/04 07:36:16 PM] Opening HDF file: /home/nathan/data/kraken/h2b/giulia/GV0797/Pos23/Pos23_aligned/HDF/segmented.hdf5...\n",
      "[INFO][2021/05/04 07:36:16 PM] Loading tracks/obj_type_1\n",
      "[INFO][2021/05/04 07:36:16 PM] Loading objects/obj_type_1 (23980, 5) (18959 filtered: area>=100)\n"
     ]
    },
    {
     "name": "stdout",
     "output_type": "stream",
     "text": [
      "ID GV0797_Pos23_31_RFP\n",
      "Loading GV0797/Pos23/\n",
      "Btrack version no.: 0.4.0\n"
     ]
    },
    {
     "name": "stderr",
     "output_type": "stream",
     "text": [
      "[INFO][2021/05/04 07:36:16 PM] Closing HDF file: /home/nathan/data/kraken/h2b/giulia/GV0797/Pos23/Pos23_aligned/HDF/segmented.hdf5\n",
      "[INFO][2021/05/04 07:36:16 PM] Opening HDF file: /home/nathan/data/kraken/h2b/giulia/GV0797/Pos23/Pos23_aligned/HDF/segmented.hdf5...\n",
      "[INFO][2021/05/04 07:36:16 PM] Loading tracks/obj_type_2\n",
      "[INFO][2021/05/04 07:36:16 PM] Loading objects/obj_type_2 (34897, 5) (24894 filtered: area>=100)\n",
      "[INFO][2021/05/04 07:36:16 PM] Closing HDF file: /home/nathan/data/kraken/h2b/giulia/GV0797/Pos23/Pos23_aligned/HDF/segmented.hdf5\n"
     ]
    },
    {
     "name": "stdout",
     "output_type": "stream",
     "text": [
      "Track information loaded and ordered according to cell type (WT IDs >0> Scr IDs)\n",
      "Loaded GV0797/Pos23/\n"
     ]
    },
    {
     "name": "stderr",
     "output_type": "stream",
     "text": [
      "\r",
      " 38%|███▊      | 176/459 [2:13:35<1:51:49, 23.71s/it]"
     ]
    },
    {
     "name": "stdout",
     "output_type": "stream",
     "text": [
      "ID GV0797_Pos23_26_RFP\n"
     ]
    },
    {
     "name": "stderr",
     "output_type": "stream",
     "text": [
      "\r",
      " 39%|███▊      | 177/459 [2:13:37<1:20:52, 17.21s/it]"
     ]
    },
    {
     "name": "stdout",
     "output_type": "stream",
     "text": [
      "ID GV0797_Pos23_260_RFP\n"
     ]
    },
    {
     "name": "stderr",
     "output_type": "stream",
     "text": [
      "\r",
      " 39%|███▉      | 178/459 [2:13:39<59:38, 12.74s/it]  "
     ]
    },
    {
     "name": "stdout",
     "output_type": "stream",
     "text": [
      "ID GV0797_Pos23_125_RFP\n"
     ]
    },
    {
     "name": "stderr",
     "output_type": "stream",
     "text": [
      "\r",
      " 39%|███▉      | 179/459 [2:13:41<44:43,  9.58s/it]"
     ]
    },
    {
     "name": "stdout",
     "output_type": "stream",
     "text": [
      "ID GV0797_Pos23_336_RFP\n"
     ]
    },
    {
     "name": "stderr",
     "output_type": "stream",
     "text": [
      "\r",
      " 39%|███▉      | 180/459 [2:13:48<41:05,  8.84s/it]"
     ]
    },
    {
     "name": "stdout",
     "output_type": "stream",
     "text": [
      "ID GV0797_Pos23_252_RFP\n"
     ]
    },
    {
     "name": "stderr",
     "output_type": "stream",
     "text": [
      "\r",
      " 39%|███▉      | 181/459 [2:13:50<31:09,  6.73s/it]"
     ]
    },
    {
     "name": "stdout",
     "output_type": "stream",
     "text": [
      "ID GV0797_Pos23_301_RFP\n"
     ]
    },
    {
     "name": "stderr",
     "output_type": "stream",
     "text": [
      "\r",
      " 40%|███▉      | 182/459 [2:13:51<23:07,  5.01s/it]"
     ]
    },
    {
     "name": "stdout",
     "output_type": "stream",
     "text": [
      "ID GV0797_Pos23_36_RFP\n"
     ]
    },
    {
     "name": "stderr",
     "output_type": "stream",
     "text": [
      "\r",
      " 40%|███▉      | 183/459 [2:13:56<23:25,  5.09s/it]"
     ]
    },
    {
     "name": "stdout",
     "output_type": "stream",
     "text": [
      "ID GV0797_Pos23_319_RFP\n"
     ]
    },
    {
     "name": "stderr",
     "output_type": "stream",
     "text": [
      "\r",
      " 40%|████      | 184/459 [2:14:06<29:07,  6.35s/it]"
     ]
    },
    {
     "name": "stdout",
     "output_type": "stream",
     "text": [
      "ID GV0797_Pos23_556_RFP\n"
     ]
    },
    {
     "name": "stderr",
     "output_type": "stream",
     "text": [
      " 40%|████      | 185/459 [2:14:11<27:40,  6.06s/it][INFO][2021/05/04 07:37:02 PM] Opening HDF file: /home/nathan/data/kraken/h2b/giulia/GV0813/Pos5/Pos5_aligned/HDF/segmented.hdf5...\n",
      "[INFO][2021/05/04 07:37:02 PM] Loading tracks/obj_type_1\n"
     ]
    },
    {
     "name": "stdout",
     "output_type": "stream",
     "text": [
      "ID GV0813_Pos5_212_RFP\n",
      "Loading GV0813/Pos5/\n",
      "Btrack version no.: 0.4.0\n"
     ]
    },
    {
     "name": "stderr",
     "output_type": "stream",
     "text": [
      "[INFO][2021/05/04 07:37:03 PM] Loading objects/obj_type_1 (160205, 5) (133425 filtered: area>=100)\n",
      "[INFO][2021/05/04 07:37:04 PM] Closing HDF file: /home/nathan/data/kraken/h2b/giulia/GV0813/Pos5/Pos5_aligned/HDF/segmented.hdf5\n",
      "[INFO][2021/05/04 07:37:04 PM] Opening HDF file: /home/nathan/data/kraken/h2b/giulia/GV0813/Pos5/Pos5_aligned/HDF/segmented.hdf5...\n",
      "[INFO][2021/05/04 07:37:04 PM] Loading tracks/obj_type_2\n",
      "[INFO][2021/05/04 07:37:04 PM] Loading objects/obj_type_2 (23703, 5) (19617 filtered: area>=100)\n",
      "[INFO][2021/05/04 07:37:04 PM] Closing HDF file: /home/nathan/data/kraken/h2b/giulia/GV0813/Pos5/Pos5_aligned/HDF/segmented.hdf5\n"
     ]
    },
    {
     "name": "stdout",
     "output_type": "stream",
     "text": [
      "Track information loaded and ordered according to cell type (WT IDs >0> Scr IDs)\n",
      "Loaded GV0813/Pos5/\n"
     ]
    },
    {
     "name": "stderr",
     "output_type": "stream",
     "text": [
      "\r",
      " 41%|████      | 186/459 [2:14:32<47:44, 10.49s/it]"
     ]
    },
    {
     "name": "stdout",
     "output_type": "stream",
     "text": [
      "ID GV0813_Pos5_340_RFP\n"
     ]
    },
    {
     "name": "stderr",
     "output_type": "stream",
     "text": [
      "\r",
      " 41%|████      | 187/459 [2:14:51<59:54, 13.22s/it]"
     ]
    },
    {
     "name": "stdout",
     "output_type": "stream",
     "text": [
      "ID GV0813_Pos5_210_RFP\n"
     ]
    },
    {
     "name": "stderr",
     "output_type": "stream",
     "text": [
      "\r",
      " 41%|████      | 188/459 [2:16:10<2:28:41, 32.92s/it]"
     ]
    },
    {
     "name": "stdout",
     "output_type": "stream",
     "text": [
      "ID GV0813_Pos5_155_RFP\n"
     ]
    },
    {
     "name": "stderr",
     "output_type": "stream",
     "text": [
      " 41%|████      | 189/459 [2:17:31<3:31:56, 47.10s/it][INFO][2021/05/04 07:40:21 PM] Opening HDF file: /home/nathan/data/kraken/h2b/giulia/GV0819/Pos4/Pos4_aligned/HDF/segmented.hdf5...\n",
      "[INFO][2021/05/04 07:40:21 PM] Loading tracks/obj_type_1\n"
     ]
    },
    {
     "name": "stdout",
     "output_type": "stream",
     "text": [
      "ID GV0819_Pos4_70_RFP\n",
      "Loading GV0819/Pos4/\n",
      "Btrack version no.: 0.4.0\n"
     ]
    },
    {
     "name": "stderr",
     "output_type": "stream",
     "text": [
      "[INFO][2021/05/04 07:40:24 PM] Loading objects/obj_type_1 (393596, 5) (379449 filtered: area>=100)\n",
      "[INFO][2021/05/04 07:40:27 PM] Closing HDF file: /home/nathan/data/kraken/h2b/giulia/GV0819/Pos4/Pos4_aligned/HDF/segmented.hdf5\n",
      "[INFO][2021/05/04 07:40:27 PM] Opening HDF file: /home/nathan/data/kraken/h2b/giulia/GV0819/Pos4/Pos4_aligned/HDF/segmented.hdf5...\n",
      "[INFO][2021/05/04 07:40:27 PM] Loading tracks/obj_type_2\n",
      "[INFO][2021/05/04 07:40:28 PM] Loading objects/obj_type_2 (112602, 5) (100064 filtered: area>=100)\n",
      "[INFO][2021/05/04 07:40:29 PM] Closing HDF file: /home/nathan/data/kraken/h2b/giulia/GV0819/Pos4/Pos4_aligned/HDF/segmented.hdf5\n"
     ]
    },
    {
     "name": "stdout",
     "output_type": "stream",
     "text": [
      "Track information loaded and ordered according to cell type (WT IDs >0> Scr IDs)\n",
      "Loaded GV0819/Pos4/\n"
     ]
    },
    {
     "name": "stderr",
     "output_type": "stream",
     "text": [
      "\r",
      " 41%|████▏     | 190/459 [2:18:47<4:10:34, 55.89s/it]"
     ]
    },
    {
     "name": "stdout",
     "output_type": "stream",
     "text": [
      "ID GV0819_Pos4_52_RFP\n"
     ]
    },
    {
     "name": "stderr",
     "output_type": "stream",
     "text": [
      "\r",
      " 42%|████▏     | 191/459 [2:21:35<6:39:52, 89.52s/it]"
     ]
    },
    {
     "name": "stdout",
     "output_type": "stream",
     "text": [
      "ID GV0819_Pos4_15_RFP\n"
     ]
    },
    {
     "name": "stderr",
     "output_type": "stream",
     "text": [
      "\r",
      " 42%|████▏     | 192/459 [2:24:21<8:20:36, 112.50s/it]"
     ]
    },
    {
     "name": "stdout",
     "output_type": "stream",
     "text": [
      "ID GV0819_Pos4_201_RFP\n"
     ]
    },
    {
     "name": "stderr",
     "output_type": "stream",
     "text": [
      "\r",
      " 42%|████▏     | 193/459 [2:26:44<8:59:49, 121.77s/it]"
     ]
    },
    {
     "name": "stdout",
     "output_type": "stream",
     "text": [
      "ID GV0819_Pos4_389_RFP\n"
     ]
    },
    {
     "name": "stderr",
     "output_type": "stream",
     "text": [
      "\r",
      " 42%|████▏     | 194/459 [2:28:56<9:10:36, 124.67s/it]"
     ]
    },
    {
     "name": "stdout",
     "output_type": "stream",
     "text": [
      "ID GV0819_Pos4_603_RFP\n"
     ]
    },
    {
     "name": "stderr",
     "output_type": "stream",
     "text": [
      "\r",
      " 42%|████▏     | 195/459 [2:31:03<9:12:20, 125.53s/it]"
     ]
    },
    {
     "name": "stdout",
     "output_type": "stream",
     "text": [
      "ID GV0819_Pos4_572_RFP\n"
     ]
    },
    {
     "name": "stderr",
     "output_type": "stream",
     "text": [
      "\r",
      " 43%|████▎     | 196/459 [2:32:34<8:24:35, 115.12s/it]"
     ]
    },
    {
     "name": "stdout",
     "output_type": "stream",
     "text": [
      "ID GV0819_Pos4_339_RFP\n"
     ]
    },
    {
     "name": "stderr",
     "output_type": "stream",
     "text": [
      "\r",
      " 43%|████▎     | 197/459 [2:35:35<9:48:50, 134.85s/it]"
     ]
    },
    {
     "name": "stdout",
     "output_type": "stream",
     "text": [
      "ID GV0819_Pos4_338_RFP\n"
     ]
    },
    {
     "name": "stderr",
     "output_type": "stream",
     "text": [
      "\r",
      " 43%|████▎     | 198/459 [2:38:10<10:12:03, 140.70s/it]"
     ]
    },
    {
     "name": "stdout",
     "output_type": "stream",
     "text": [
      "ID GV0819_Pos4_430_RFP\n"
     ]
    },
    {
     "name": "stderr",
     "output_type": "stream",
     "text": [
      "\r",
      " 43%|████▎     | 199/459 [2:40:23<10:00:18, 138.53s/it]"
     ]
    },
    {
     "name": "stdout",
     "output_type": "stream",
     "text": [
      "ID GV0819_Pos4_309_RFP\n"
     ]
    },
    {
     "name": "stderr",
     "output_type": "stream",
     "text": [
      "\r",
      " 44%|████▎     | 200/459 [2:43:12<10:37:09, 147.61s/it]"
     ]
    },
    {
     "name": "stdout",
     "output_type": "stream",
     "text": [
      "ID GV0819_Pos4_429_RFP\n"
     ]
    },
    {
     "name": "stderr",
     "output_type": "stream",
     "text": [
      "\r",
      " 44%|████▍     | 201/459 [2:45:43<10:39:17, 148.67s/it]"
     ]
    },
    {
     "name": "stdout",
     "output_type": "stream",
     "text": [
      "ID GV0819_Pos4_428_RFP\n"
     ]
    },
    {
     "name": "stderr",
     "output_type": "stream",
     "text": [
      "\r",
      " 44%|████▍     | 202/459 [2:48:25<10:54:02, 152.69s/it]"
     ]
    },
    {
     "name": "stdout",
     "output_type": "stream",
     "text": [
      "ID GV0819_Pos4_10_RFP\n"
     ]
    },
    {
     "name": "stderr",
     "output_type": "stream",
     "text": [
      "\r",
      " 44%|████▍     | 203/459 [2:53:25<14:00:33, 197.01s/it]"
     ]
    },
    {
     "name": "stdout",
     "output_type": "stream",
     "text": [
      "ID GV0819_Pos4_448_RFP\n"
     ]
    },
    {
     "name": "stderr",
     "output_type": "stream",
     "text": [
      "\r",
      " 44%|████▍     | 204/459 [2:56:38<13:51:21, 195.61s/it]"
     ]
    },
    {
     "name": "stdout",
     "output_type": "stream",
     "text": [
      "ID GV0819_Pos4_625_RFP\n"
     ]
    },
    {
     "name": "stderr",
     "output_type": "stream",
     "text": [
      "\r",
      " 45%|████▍     | 205/459 [2:59:24<13:10:10, 186.66s/it]"
     ]
    },
    {
     "name": "stdout",
     "output_type": "stream",
     "text": [
      "ID GV0819_Pos4_341_RFP\n"
     ]
    },
    {
     "name": "stderr",
     "output_type": "stream",
     "text": [
      "\r",
      " 45%|████▍     | 206/459 [3:03:12<14:00:12, 199.26s/it]"
     ]
    },
    {
     "name": "stdout",
     "output_type": "stream",
     "text": [
      "ID GV0819_Pos4_417_RFP\n"
     ]
    },
    {
     "name": "stderr",
     "output_type": "stream",
     "text": [
      "\r",
      " 45%|████▌     | 207/459 [3:06:32<13:57:21, 199.37s/it]"
     ]
    },
    {
     "name": "stdout",
     "output_type": "stream",
     "text": [
      "ID GV0819_Pos4_573_RFP\n"
     ]
    },
    {
     "name": "stderr",
     "output_type": "stream",
     "text": [
      "\r",
      " 45%|████▌     | 208/459 [3:09:37<13:35:52, 195.03s/it]"
     ]
    },
    {
     "name": "stdout",
     "output_type": "stream",
     "text": [
      "ID GV0819_Pos4_502_RFP\n"
     ]
    },
    {
     "name": "stderr",
     "output_type": "stream",
     "text": [
      "\r",
      " 46%|████▌     | 209/459 [3:12:55<13:36:09, 195.88s/it]"
     ]
    },
    {
     "name": "stdout",
     "output_type": "stream",
     "text": [
      "ID GV0819_Pos4_1112_RFP\n"
     ]
    },
    {
     "name": "stderr",
     "output_type": "stream",
     "text": [
      "\r",
      " 46%|████▌     | 210/459 [3:14:17<11:11:17, 161.76s/it]"
     ]
    },
    {
     "name": "stdout",
     "output_type": "stream",
     "text": [
      "ID GV0819_Pos4_624_RFP\n"
     ]
    },
    {
     "name": "stderr",
     "output_type": "stream",
     "text": [
      "\r",
      " 46%|████▌     | 211/459 [3:16:52<11:00:02, 159.69s/it]"
     ]
    },
    {
     "name": "stdout",
     "output_type": "stream",
     "text": [
      "ID GV0819_Pos4_1382_RFP\n"
     ]
    },
    {
     "name": "stderr",
     "output_type": "stream",
     "text": [
      "\r",
      " 46%|████▌     | 212/459 [3:17:26<8:22:55, 122.17s/it] "
     ]
    },
    {
     "name": "stdout",
     "output_type": "stream",
     "text": [
      "ID GV0819_Pos4_1354_RFP\n"
     ]
    },
    {
     "name": "stderr",
     "output_type": "stream",
     "text": [
      "\r",
      " 46%|████▋     | 213/459 [3:18:11<6:45:46, 98.97s/it] "
     ]
    },
    {
     "name": "stdout",
     "output_type": "stream",
     "text": [
      "ID GV0819_Pos4_410_RFP\n"
     ]
    },
    {
     "name": "stderr",
     "output_type": "stream",
     "text": [
      "\r",
      " 47%|████▋     | 214/459 [3:21:54<9:16:24, 136.26s/it]"
     ]
    },
    {
     "name": "stdout",
     "output_type": "stream",
     "text": [
      "ID GV0819_Pos4_715_RFP\n"
     ]
    },
    {
     "name": "stderr",
     "output_type": "stream",
     "text": [
      "\r",
      " 47%|████▋     | 215/459 [3:24:25<9:32:13, 140.71s/it]"
     ]
    },
    {
     "name": "stdout",
     "output_type": "stream",
     "text": [
      "ID GV0819_Pos4_1144_RFP\n"
     ]
    },
    {
     "name": "stderr",
     "output_type": "stream",
     "text": [
      "\r",
      " 47%|████▋     | 216/459 [3:25:10<7:32:55, 111.83s/it]"
     ]
    },
    {
     "name": "stdout",
     "output_type": "stream",
     "text": [
      "ID GV0819_Pos4_633_RFP\n"
     ]
    },
    {
     "name": "stderr",
     "output_type": "stream",
     "text": [
      "\r",
      " 47%|████▋     | 217/459 [3:27:52<8:31:21, 126.78s/it]"
     ]
    },
    {
     "name": "stdout",
     "output_type": "stream",
     "text": [
      "ID GV0819_Pos4_60_RFP\n"
     ]
    },
    {
     "name": "stderr",
     "output_type": "stream",
     "text": [
      "\r",
      " 47%|████▋     | 218/459 [3:32:06<11:03:40, 165.23s/it]"
     ]
    },
    {
     "name": "stdout",
     "output_type": "stream",
     "text": [
      "ID GV0819_Pos4_463_RFP\n"
     ]
    },
    {
     "name": "stderr",
     "output_type": "stream",
     "text": [
      "\r",
      " 48%|████▊     | 219/459 [3:35:38<11:56:09, 179.04s/it]"
     ]
    },
    {
     "name": "stdout",
     "output_type": "stream",
     "text": [
      "ID GV0819_Pos4_1222_RFP\n"
     ]
    },
    {
     "name": "stderr",
     "output_type": "stream",
     "text": [
      "\r",
      " 48%|████▊     | 220/459 [3:37:03<10:00:31, 150.76s/it]"
     ]
    },
    {
     "name": "stdout",
     "output_type": "stream",
     "text": [
      "ID GV0819_Pos4_409_RFP\n"
     ]
    },
    {
     "name": "stderr",
     "output_type": "stream",
     "text": [
      "\r",
      " 48%|████▊     | 221/459 [3:40:40<11:17:06, 170.70s/it]"
     ]
    },
    {
     "name": "stdout",
     "output_type": "stream",
     "text": [
      "ID GV0819_Pos4_753_RFP\n"
     ]
    },
    {
     "name": "stderr",
     "output_type": "stream",
     "text": [
      " 48%|████▊     | 222/459 [3:43:11<10:51:13, 164.87s/it][INFO][2021/05/04 09:06:02 PM] Opening HDF file: /home/nathan/data/kraken/h2b/giulia/GV0795/Pos18/Pos18_aligned/HDF/segmented.hdf5...\n",
      "[INFO][2021/05/04 09:06:02 PM] Loading tracks/obj_type_1\n"
     ]
    },
    {
     "name": "stdout",
     "output_type": "stream",
     "text": [
      "ID GV0795_Pos18_379_RFP\n",
      "Loading GV0795/Pos18/\n",
      "Btrack version no.: 0.4.0\n"
     ]
    },
    {
     "name": "stderr",
     "output_type": "stream",
     "text": [
      "[INFO][2021/05/04 09:06:02 PM] Loading objects/obj_type_1 (41273, 5) (28239 filtered: area>=100)\n",
      "[INFO][2021/05/04 09:06:02 PM] Closing HDF file: /home/nathan/data/kraken/h2b/giulia/GV0795/Pos18/Pos18_aligned/HDF/segmented.hdf5\n",
      "[INFO][2021/05/04 09:06:02 PM] Opening HDF file: /home/nathan/data/kraken/h2b/giulia/GV0795/Pos18/Pos18_aligned/HDF/segmented.hdf5...\n",
      "[INFO][2021/05/04 09:06:02 PM] Loading tracks/obj_type_2\n",
      "[INFO][2021/05/04 09:06:03 PM] Loading objects/obj_type_2 (71063, 5) (58416 filtered: area>=100)\n",
      "[INFO][2021/05/04 09:06:03 PM] Closing HDF file: /home/nathan/data/kraken/h2b/giulia/GV0795/Pos18/Pos18_aligned/HDF/segmented.hdf5\n"
     ]
    },
    {
     "name": "stdout",
     "output_type": "stream",
     "text": [
      "Track information loaded and ordered according to cell type (WT IDs >0> Scr IDs)\n",
      "Loaded GV0795/Pos18/\n"
     ]
    },
    {
     "name": "stderr",
     "output_type": "stream",
     "text": [
      "\r",
      " 49%|████▊     | 223/459 [3:43:38<8:05:32, 123.44s/it] "
     ]
    },
    {
     "name": "stdout",
     "output_type": "stream",
     "text": [
      "ID GV0795_Pos18_413_RFP\n"
     ]
    },
    {
     "name": "stderr",
     "output_type": "stream",
     "text": [
      "\r",
      " 49%|████▉     | 224/459 [3:44:14<6:21:04, 97.30s/it] "
     ]
    },
    {
     "name": "stdout",
     "output_type": "stream",
     "text": [
      "ID GV0795_Pos18_854_RFP\n"
     ]
    },
    {
     "name": "stderr",
     "output_type": "stream",
     "text": [
      "\r",
      " 49%|████▉     | 225/459 [3:44:29<4:43:35, 72.72s/it]"
     ]
    },
    {
     "name": "stdout",
     "output_type": "stream",
     "text": [
      "ID GV0795_Pos18_855_RFP\n"
     ]
    },
    {
     "name": "stderr",
     "output_type": "stream",
     "text": [
      "\r",
      " 49%|████▉     | 226/459 [3:44:47<3:37:33, 56.03s/it]"
     ]
    },
    {
     "name": "stdout",
     "output_type": "stream",
     "text": [
      "ID GV0795_Pos18_1179_RFP\n"
     ]
    },
    {
     "name": "stderr",
     "output_type": "stream",
     "text": [
      "\r",
      " 49%|████▉     | 227/459 [3:44:50<2:35:49, 40.30s/it]"
     ]
    },
    {
     "name": "stdout",
     "output_type": "stream",
     "text": [
      "ID GV0795_Pos18_409_RFP\n"
     ]
    },
    {
     "name": "stderr",
     "output_type": "stream",
     "text": [
      "\r",
      " 50%|████▉     | 228/459 [3:45:13<2:14:42, 34.99s/it]"
     ]
    },
    {
     "name": "stdout",
     "output_type": "stream",
     "text": [
      "ID GV0795_Pos18_684_RFP\n"
     ]
    },
    {
     "name": "stderr",
     "output_type": "stream",
     "text": [
      "\r",
      " 50%|████▉     | 229/459 [3:45:19<1:40:43, 26.28s/it]"
     ]
    },
    {
     "name": "stdout",
     "output_type": "stream",
     "text": [
      "ID GV0795_Pos18_802_RFP\n"
     ]
    },
    {
     "name": "stderr",
     "output_type": "stream",
     "text": [
      "\r",
      " 50%|█████     | 230/459 [3:45:20<1:11:57, 18.85s/it]"
     ]
    },
    {
     "name": "stdout",
     "output_type": "stream",
     "text": [
      "ID GV0795_Pos18_46_RFP\n"
     ]
    },
    {
     "name": "stderr",
     "output_type": "stream",
     "text": [
      "\r",
      " 50%|█████     | 231/459 [3:45:25<55:38, 14.64s/it]  "
     ]
    },
    {
     "name": "stdout",
     "output_type": "stream",
     "text": [
      "ID GV0795_Pos18_521_RFP\n"
     ]
    },
    {
     "name": "stderr",
     "output_type": "stream",
     "text": [
      "\r",
      " 51%|█████     | 232/459 [3:45:36<51:10, 13.53s/it]"
     ]
    },
    {
     "name": "stdout",
     "output_type": "stream",
     "text": [
      "ID GV0795_Pos18_3_RFP\n"
     ]
    },
    {
     "name": "stderr",
     "output_type": "stream",
     "text": [
      "\r",
      " 51%|█████     | 233/459 [3:46:20<1:25:51, 22.79s/it]"
     ]
    },
    {
     "name": "stdout",
     "output_type": "stream",
     "text": [
      "ID GV0795_Pos18_715_RFP\n"
     ]
    },
    {
     "name": "stderr",
     "output_type": "stream",
     "text": [
      "\r",
      " 51%|█████     | 234/459 [3:46:32<1:13:28, 19.59s/it]"
     ]
    },
    {
     "name": "stdout",
     "output_type": "stream",
     "text": [
      "ID GV0795_Pos18_28_RFP\n"
     ]
    },
    {
     "name": "stderr",
     "output_type": "stream",
     "text": [
      "\r",
      " 51%|█████     | 235/459 [3:47:22<1:46:13, 28.45s/it]"
     ]
    },
    {
     "name": "stdout",
     "output_type": "stream",
     "text": [
      "ID GV0795_Pos18_12_RFP\n"
     ]
    },
    {
     "name": "stderr",
     "output_type": "stream",
     "text": [
      "\r",
      " 51%|█████▏    | 236/459 [3:48:08<2:05:13, 33.69s/it]"
     ]
    },
    {
     "name": "stdout",
     "output_type": "stream",
     "text": [
      "ID GV0795_Pos18_19_RFP\n"
     ]
    },
    {
     "name": "stderr",
     "output_type": "stream",
     "text": [
      "\r",
      " 52%|█████▏    | 237/459 [3:48:14<1:34:32, 25.55s/it]"
     ]
    },
    {
     "name": "stdout",
     "output_type": "stream",
     "text": [
      "ID GV0795_Pos18_728_RFP\n"
     ]
    },
    {
     "name": "stderr",
     "output_type": "stream",
     "text": [
      " 52%|█████▏    | 238/459 [3:48:38<1:32:30, 25.11s/it][INFO][2021/05/04 09:11:29 PM] Opening HDF file: /home/nathan/data/kraken/h2b/giulia/GV0815/Pos0/Pos0_aligned/HDF/segmented.hdf5...\n",
      "[INFO][2021/05/04 09:11:29 PM] Loading tracks/obj_type_1\n"
     ]
    },
    {
     "name": "stdout",
     "output_type": "stream",
     "text": [
      "ID GV0815_Pos0_230_RFP\n",
      "Loading GV0815/Pos0/\n",
      "Btrack version no.: 0.4.0\n"
     ]
    },
    {
     "name": "stderr",
     "output_type": "stream",
     "text": [
      "[INFO][2021/05/04 09:11:31 PM] Loading objects/obj_type_1 (286968, 5) (261403 filtered: area>=100)\n",
      "[INFO][2021/05/04 09:11:33 PM] Closing HDF file: /home/nathan/data/kraken/h2b/giulia/GV0815/Pos0/Pos0_aligned/HDF/segmented.hdf5\n",
      "[INFO][2021/05/04 09:11:33 PM] Opening HDF file: /home/nathan/data/kraken/h2b/giulia/GV0815/Pos0/Pos0_aligned/HDF/segmented.hdf5...\n",
      "[INFO][2021/05/04 09:11:33 PM] Loading tracks/obj_type_2\n",
      "[INFO][2021/05/04 09:11:33 PM] Loading objects/obj_type_2 (85143, 5) (68895 filtered: area>=100)\n",
      "[INFO][2021/05/04 09:11:34 PM] Closing HDF file: /home/nathan/data/kraken/h2b/giulia/GV0815/Pos0/Pos0_aligned/HDF/segmented.hdf5\n"
     ]
    },
    {
     "name": "stdout",
     "output_type": "stream",
     "text": [
      "Track information loaded and ordered according to cell type (WT IDs >0> Scr IDs)\n",
      "Loaded GV0815/Pos0/\n"
     ]
    },
    {
     "name": "stderr",
     "output_type": "stream",
     "text": [
      "\r",
      " 52%|█████▏    | 239/459 [3:49:47<2:20:07, 38.22s/it]"
     ]
    },
    {
     "name": "stdout",
     "output_type": "stream",
     "text": [
      "ID GV0815_Pos0_8_RFP\n"
     ]
    },
    {
     "name": "stderr",
     "output_type": "stream",
     "text": [
      "\r",
      " 52%|█████▏    | 240/459 [3:52:30<4:36:21, 75.71s/it]"
     ]
    },
    {
     "name": "stdout",
     "output_type": "stream",
     "text": [
      "ID GV0815_Pos0_354_RFP\n"
     ]
    },
    {
     "name": "stderr",
     "output_type": "stream",
     "text": [
      "\r",
      " 53%|█████▎    | 241/459 [3:54:00<4:50:10, 79.86s/it]"
     ]
    },
    {
     "name": "stdout",
     "output_type": "stream",
     "text": [
      "ID GV0815_Pos0_465_RFP\n"
     ]
    },
    {
     "name": "stderr",
     "output_type": "stream",
     "text": [
      "\r",
      " 53%|█████▎    | 242/459 [3:55:08<4:36:29, 76.45s/it]"
     ]
    },
    {
     "name": "stdout",
     "output_type": "stream",
     "text": [
      "ID GV0815_Pos0_537_RFP\n"
     ]
    },
    {
     "name": "stderr",
     "output_type": "stream",
     "text": [
      "\r",
      " 53%|█████▎    | 243/459 [3:55:55<4:03:17, 67.58s/it]"
     ]
    },
    {
     "name": "stdout",
     "output_type": "stream",
     "text": [
      "ID GV0815_Pos0_557_RFP\n"
     ]
    },
    {
     "name": "stderr",
     "output_type": "stream",
     "text": [
      "\r",
      " 53%|█████▎    | 244/459 [3:57:44<4:46:50, 80.05s/it]"
     ]
    },
    {
     "name": "stdout",
     "output_type": "stream",
     "text": [
      "ID GV0815_Pos0_543_RFP\n"
     ]
    },
    {
     "name": "stderr",
     "output_type": "stream",
     "text": [
      "\r",
      " 53%|█████▎    | 245/459 [3:58:19<3:57:19, 66.54s/it]"
     ]
    },
    {
     "name": "stdout",
     "output_type": "stream",
     "text": [
      "ID GV0815_Pos0_542_RFP\n"
     ]
    },
    {
     "name": "stderr",
     "output_type": "stream",
     "text": [
      "\r",
      " 54%|█████▎    | 246/459 [3:59:52<4:24:37, 74.54s/it]"
     ]
    },
    {
     "name": "stdout",
     "output_type": "stream",
     "text": [
      "ID GV0815_Pos0_570_RFP\n"
     ]
    },
    {
     "name": "stderr",
     "output_type": "stream",
     "text": [
      "\r",
      " 54%|█████▍    | 247/459 [4:01:41<4:59:39, 84.81s/it]"
     ]
    },
    {
     "name": "stdout",
     "output_type": "stream",
     "text": [
      "ID GV0815_Pos0_568_RFP\n"
     ]
    },
    {
     "name": "stderr",
     "output_type": "stream",
     "text": [
      "\r",
      " 54%|█████▍    | 248/459 [4:02:21<4:10:54, 71.35s/it]"
     ]
    },
    {
     "name": "stdout",
     "output_type": "stream",
     "text": [
      "ID GV0815_Pos0_393_RFP\n"
     ]
    },
    {
     "name": "stderr",
     "output_type": "stream",
     "text": [
      "\r",
      " 54%|█████▍    | 249/459 [4:03:53<4:30:57, 77.42s/it]"
     ]
    },
    {
     "name": "stdout",
     "output_type": "stream",
     "text": [
      "ID GV0815_Pos0_386_RFP\n"
     ]
    },
    {
     "name": "stderr",
     "output_type": "stream",
     "text": [
      "\r",
      " 54%|█████▍    | 250/459 [4:05:28<4:48:49, 82.91s/it]"
     ]
    },
    {
     "name": "stdout",
     "output_type": "stream",
     "text": [
      "ID GV0815_Pos0_344_RFP\n"
     ]
    },
    {
     "name": "stderr",
     "output_type": "stream",
     "text": [
      "\r",
      " 55%|█████▍    | 251/459 [4:08:25<6:24:44, 110.99s/it]"
     ]
    },
    {
     "name": "stdout",
     "output_type": "stream",
     "text": [
      "ID GV0815_Pos0_572_RFP\n"
     ]
    },
    {
     "name": "stderr",
     "output_type": "stream",
     "text": [
      "\r",
      " 55%|█████▍    | 252/459 [4:09:30<5:34:54, 97.07s/it] "
     ]
    },
    {
     "name": "stdout",
     "output_type": "stream",
     "text": [
      "ID GV0815_Pos0_714_RFP\n"
     ]
    },
    {
     "name": "stderr",
     "output_type": "stream",
     "text": [
      "\r",
      " 55%|█████▌    | 253/459 [4:10:09<4:33:58, 79.80s/it]"
     ]
    },
    {
     "name": "stdout",
     "output_type": "stream",
     "text": [
      "ID GV0815_Pos0_516_RFP\n"
     ]
    },
    {
     "name": "stderr",
     "output_type": "stream",
     "text": [
      "\r",
      " 55%|█████▌    | 254/459 [4:11:56<5:00:07, 87.84s/it]"
     ]
    },
    {
     "name": "stdout",
     "output_type": "stream",
     "text": [
      "ID GV0815_Pos0_158_RFP\n"
     ]
    },
    {
     "name": "stderr",
     "output_type": "stream",
     "text": [
      "\r",
      " 56%|█████▌    | 255/459 [4:14:58<6:34:58, 116.17s/it]"
     ]
    },
    {
     "name": "stdout",
     "output_type": "stream",
     "text": [
      "ID GV0815_Pos0_498_RFP\n"
     ]
    },
    {
     "name": "stderr",
     "output_type": "stream",
     "text": [
      "\r",
      " 56%|█████▌    | 256/459 [4:16:30<6:08:02, 108.78s/it]"
     ]
    },
    {
     "name": "stdout",
     "output_type": "stream",
     "text": [
      "ID GV0815_Pos0_685_RFP\n"
     ]
    },
    {
     "name": "stderr",
     "output_type": "stream",
     "text": [
      "\r",
      " 56%|█████▌    | 257/459 [4:17:05<4:52:19, 86.83s/it] "
     ]
    },
    {
     "name": "stdout",
     "output_type": "stream",
     "text": [
      "ID GV0815_Pos0_825_RFP\n"
     ]
    },
    {
     "name": "stderr",
     "output_type": "stream",
     "text": [
      "\r",
      " 56%|█████▌    | 258/459 [4:17:52<4:10:44, 74.85s/it]"
     ]
    },
    {
     "name": "stdout",
     "output_type": "stream",
     "text": [
      "ID GV0815_Pos0_489_RFP\n"
     ]
    },
    {
     "name": "stderr",
     "output_type": "stream",
     "text": [
      "\r",
      " 56%|█████▋    | 259/459 [4:20:17<5:19:41, 95.91s/it]"
     ]
    },
    {
     "name": "stdout",
     "output_type": "stream",
     "text": [
      "ID GV0815_Pos0_13_RFP\n"
     ]
    },
    {
     "name": "stderr",
     "output_type": "stream",
     "text": [
      "\r",
      " 57%|█████▋    | 260/459 [4:23:51<7:15:35, 131.33s/it]"
     ]
    },
    {
     "name": "stdout",
     "output_type": "stream",
     "text": [
      "ID GV0815_Pos0_844_RFP\n"
     ]
    },
    {
     "name": "stderr",
     "output_type": "stream",
     "text": [
      "\r",
      " 57%|█████▋    | 261/459 [4:24:42<5:53:26, 107.11s/it]"
     ]
    },
    {
     "name": "stdout",
     "output_type": "stream",
     "text": [
      "ID GV0815_Pos0_390_RFP\n"
     ]
    },
    {
     "name": "stderr",
     "output_type": "stream",
     "text": [
      "\r",
      " 57%|█████▋    | 262/459 [4:27:35<6:56:29, 126.85s/it]"
     ]
    },
    {
     "name": "stdout",
     "output_type": "stream",
     "text": [
      "ID GV0815_Pos0_207_RFP\n"
     ]
    },
    {
     "name": "stderr",
     "output_type": "stream",
     "text": [
      "\r",
      " 57%|█████▋    | 263/459 [4:31:05<8:16:29, 151.99s/it]"
     ]
    },
    {
     "name": "stdout",
     "output_type": "stream",
     "text": [
      "ID GV0815_Pos0_17_RFP\n"
     ]
    },
    {
     "name": "stderr",
     "output_type": "stream",
     "text": [
      "\r",
      " 58%|█████▊    | 264/459 [4:35:04<9:38:23, 177.96s/it]"
     ]
    },
    {
     "name": "stdout",
     "output_type": "stream",
     "text": [
      "ID GV0815_Pos0_42_RFP\n"
     ]
    },
    {
     "name": "stderr",
     "output_type": "stream",
     "text": [
      "\r",
      " 58%|█████▊    | 265/459 [4:39:10<10:41:20, 198.35s/it]"
     ]
    },
    {
     "name": "stdout",
     "output_type": "stream",
     "text": [
      "ID GV0815_Pos0_802_RFP\n"
     ]
    },
    {
     "name": "stderr",
     "output_type": "stream",
     "text": [
      "\r",
      " 58%|█████▊    | 266/459 [4:40:37<8:51:13, 165.15s/it] "
     ]
    },
    {
     "name": "stdout",
     "output_type": "stream",
     "text": [
      "ID GV0815_Pos0_453_RFP\n"
     ]
    },
    {
     "name": "stderr",
     "output_type": "stream",
     "text": [
      "\r",
      " 58%|█████▊    | 267/459 [4:43:16<8:42:33, 163.30s/it]"
     ]
    },
    {
     "name": "stdout",
     "output_type": "stream",
     "text": [
      "ID GV0815_Pos0_750_RFP\n"
     ]
    },
    {
     "name": "stderr",
     "output_type": "stream",
     "text": [
      "\r",
      " 58%|█████▊    | 268/459 [4:44:48<7:31:31, 141.84s/it]"
     ]
    },
    {
     "name": "stdout",
     "output_type": "stream",
     "text": [
      "ID GV0815_Pos0_966_RFP\n"
     ]
    },
    {
     "name": "stderr",
     "output_type": "stream",
     "text": [
      " 59%|█████▊    | 269/459 [4:45:47<6:10:14, 116.92s/it][INFO][2021/05/04 10:08:38 PM] Opening HDF file: /home/nathan/data/kraken/h2b/giulia/GV0798/Pos18/Pos18_aligned/HDF/segmented.hdf5...\n",
      "[INFO][2021/05/04 10:08:38 PM] Loading tracks/obj_type_1\n"
     ]
    },
    {
     "name": "stdout",
     "output_type": "stream",
     "text": [
      "ID GV0798_Pos18_12_RFP\n",
      "Loading GV0798/Pos18/\n",
      "Btrack version no.: 0.4.0\n"
     ]
    },
    {
     "name": "stderr",
     "output_type": "stream",
     "text": [
      "[INFO][2021/05/04 10:08:40 PM] Loading objects/obj_type_1 (429266, 5) (414111 filtered: area>=100)\n",
      "[INFO][2021/05/04 10:08:44 PM] Closing HDF file: /home/nathan/data/kraken/h2b/giulia/GV0798/Pos18/Pos18_aligned/HDF/segmented.hdf5\n",
      "[INFO][2021/05/04 10:08:44 PM] Opening HDF file: /home/nathan/data/kraken/h2b/giulia/GV0798/Pos18/Pos18_aligned/HDF/segmented.hdf5...\n",
      "[INFO][2021/05/04 10:08:44 PM] Loading tracks/obj_type_2\n",
      "[INFO][2021/05/04 10:08:44 PM] Loading objects/obj_type_2 (9488, 5) (7986 filtered: area>=100)\n",
      "[INFO][2021/05/04 10:08:44 PM] Closing HDF file: /home/nathan/data/kraken/h2b/giulia/GV0798/Pos18/Pos18_aligned/HDF/segmented.hdf5\n"
     ]
    },
    {
     "name": "stdout",
     "output_type": "stream",
     "text": [
      "Track information loaded and ordered according to cell type (WT IDs >0> Scr IDs)\n",
      "Loaded GV0798/Pos18/\n"
     ]
    },
    {
     "name": "stderr",
     "output_type": "stream",
     "text": [
      "\r",
      " 59%|█████▉    | 270/459 [4:48:06<6:29:08, 123.54s/it]"
     ]
    },
    {
     "name": "stdout",
     "output_type": "stream",
     "text": [
      "ID GV0798_Pos18_1292_RFP\n"
     ]
    },
    {
     "name": "stderr",
     "output_type": "stream",
     "text": [
      " 59%|█████▉    | 271/459 [4:49:14<5:34:51, 106.87s/it][INFO][2021/05/04 10:12:05 PM] Opening HDF file: /home/nathan/data/kraken/h2b/giulia/GV0802/Pos3/Pos3_aligned/HDF/segmented.hdf5...\n",
      "[INFO][2021/05/04 10:12:05 PM] Loading tracks/obj_type_1\n"
     ]
    },
    {
     "name": "stdout",
     "output_type": "stream",
     "text": [
      "ID GV0802_Pos3_10_RFP\n",
      "Loading GV0802/Pos3/\n",
      "Btrack version no.: 0.4.0\n"
     ]
    },
    {
     "name": "stderr",
     "output_type": "stream",
     "text": [
      "[INFO][2021/05/04 10:12:08 PM] Loading objects/obj_type_1 (660140, 5) (631868 filtered: area>=100)\n",
      "[INFO][2021/05/04 10:12:15 PM] Closing HDF file: /home/nathan/data/kraken/h2b/giulia/GV0802/Pos3/Pos3_aligned/HDF/segmented.hdf5\n",
      "[INFO][2021/05/04 10:12:15 PM] Opening HDF file: /home/nathan/data/kraken/h2b/giulia/GV0802/Pos3/Pos3_aligned/HDF/segmented.hdf5...\n",
      "[INFO][2021/05/04 10:12:15 PM] Loading tracks/obj_type_2\n",
      "[INFO][2021/05/04 10:12:15 PM] Loading objects/obj_type_2 (23947, 5) (20889 filtered: area>=100)\n",
      "[INFO][2021/05/04 10:12:15 PM] Closing HDF file: /home/nathan/data/kraken/h2b/giulia/GV0802/Pos3/Pos3_aligned/HDF/segmented.hdf5\n"
     ]
    },
    {
     "name": "stdout",
     "output_type": "stream",
     "text": [
      "Track information loaded and ordered according to cell type (WT IDs >0> Scr IDs)\n",
      "Loaded GV0802/Pos3/\n"
     ]
    },
    {
     "name": "stderr",
     "output_type": "stream",
     "text": [
      "\r",
      " 59%|█████▉    | 272/459 [4:51:05<5:36:43, 108.04s/it]"
     ]
    },
    {
     "name": "stdout",
     "output_type": "stream",
     "text": [
      "ID GV0802_Pos3_4_RFP\n"
     ]
    },
    {
     "name": "stderr",
     "output_type": "stream",
     "text": [
      "\r",
      " 59%|█████▉    | 273/459 [4:53:59<6:36:40, 127.96s/it]"
     ]
    },
    {
     "name": "stdout",
     "output_type": "stream",
     "text": [
      "ID GV0802_Pos3_110_RFP\n"
     ]
    },
    {
     "name": "stderr",
     "output_type": "stream",
     "text": [
      "\r",
      " 60%|█████▉    | 274/459 [4:55:22<5:52:56, 114.46s/it]"
     ]
    },
    {
     "name": "stdout",
     "output_type": "stream",
     "text": [
      "ID GV0802_Pos3_109_RFP\n"
     ]
    },
    {
     "name": "stderr",
     "output_type": "stream",
     "text": [
      "\r",
      " 60%|█████▉    | 275/459 [4:56:52<5:28:49, 107.22s/it]"
     ]
    },
    {
     "name": "stdout",
     "output_type": "stream",
     "text": [
      "ID GV0802_Pos3_106_RFP\n"
     ]
    },
    {
     "name": "stderr",
     "output_type": "stream",
     "text": [
      "\r",
      " 60%|██████    | 276/459 [4:58:33<5:21:16, 105.34s/it]"
     ]
    },
    {
     "name": "stdout",
     "output_type": "stream",
     "text": [
      "ID GV0802_Pos3_128_RFP\n"
     ]
    },
    {
     "name": "stderr",
     "output_type": "stream",
     "text": [
      "\r",
      " 60%|██████    | 277/459 [5:01:00<5:57:24, 117.83s/it]"
     ]
    },
    {
     "name": "stdout",
     "output_type": "stream",
     "text": [
      "ID GV0802_Pos3_7_RFP\n"
     ]
    },
    {
     "name": "stderr",
     "output_type": "stream",
     "text": [
      "\r",
      " 61%|██████    | 278/459 [5:07:59<10:28:08, 208.22s/it]"
     ]
    },
    {
     "name": "stdout",
     "output_type": "stream",
     "text": [
      "ID GV0802_Pos3_93_RFP\n"
     ]
    },
    {
     "name": "stderr",
     "output_type": "stream",
     "text": [
      "\r",
      " 61%|██████    | 279/459 [5:11:38<10:33:44, 211.24s/it]"
     ]
    },
    {
     "name": "stdout",
     "output_type": "stream",
     "text": [
      "ID GV0802_Pos3_91_RFP\n"
     ]
    },
    {
     "name": "stderr",
     "output_type": "stream",
     "text": [
      "\r",
      " 61%|██████    | 280/459 [5:15:33<10:52:02, 218.56s/it]"
     ]
    },
    {
     "name": "stdout",
     "output_type": "stream",
     "text": [
      "ID GV0802_Pos3_131_RFP\n"
     ]
    },
    {
     "name": "stderr",
     "output_type": "stream",
     "text": [
      "\r",
      " 61%|██████    | 281/459 [5:19:35<11:08:43, 225.41s/it]"
     ]
    },
    {
     "name": "stdout",
     "output_type": "stream",
     "text": [
      "ID GV0802_Pos3_16_RFP\n"
     ]
    },
    {
     "name": "stderr",
     "output_type": "stream",
     "text": [
      "\r",
      " 61%|██████▏   | 282/459 [5:28:08<15:19:58, 311.86s/it]"
     ]
    },
    {
     "name": "stdout",
     "output_type": "stream",
     "text": [
      "ID GV0802_Pos3_154_RFP\n"
     ]
    },
    {
     "name": "stderr",
     "output_type": "stream",
     "text": [
      " 62%|██████▏   | 283/459 [5:32:05<14:08:20, 289.21s/it][INFO][2021/05/04 10:54:56 PM] Opening HDF file: /home/nathan/data/kraken/h2b/giulia/GV0816/Pos23/Pos23_aligned/HDF/segmented.hdf5...\n",
      "[INFO][2021/05/04 10:54:56 PM] Loading tracks/obj_type_1\n"
     ]
    },
    {
     "name": "stdout",
     "output_type": "stream",
     "text": [
      "ID GV0816_Pos23_8_RFP\n",
      "Loading GV0816/Pos23/\n",
      "Btrack version no.: 0.4.0\n"
     ]
    },
    {
     "name": "stderr",
     "output_type": "stream",
     "text": [
      "[INFO][2021/05/04 10:54:56 PM] Loading objects/obj_type_1 (108996, 5) (100437 filtered: area>=100)\n",
      "[INFO][2021/05/04 10:54:57 PM] Closing HDF file: /home/nathan/data/kraken/h2b/giulia/GV0816/Pos23/Pos23_aligned/HDF/segmented.hdf5\n",
      "[INFO][2021/05/04 10:54:57 PM] Opening HDF file: /home/nathan/data/kraken/h2b/giulia/GV0816/Pos23/Pos23_aligned/HDF/segmented.hdf5...\n",
      "[INFO][2021/05/04 10:54:57 PM] Loading tracks/obj_type_2\n",
      "[INFO][2021/05/04 10:54:57 PM] Loading objects/obj_type_2 (36035, 5) (29738 filtered: area>=100)\n",
      "[INFO][2021/05/04 10:54:57 PM] Closing HDF file: /home/nathan/data/kraken/h2b/giulia/GV0816/Pos23/Pos23_aligned/HDF/segmented.hdf5\n"
     ]
    },
    {
     "name": "stdout",
     "output_type": "stream",
     "text": [
      "Track information loaded and ordered according to cell type (WT IDs >0> Scr IDs)\n",
      "Loaded GV0816/Pos23/\n"
     ]
    },
    {
     "name": "stderr",
     "output_type": "stream",
     "text": [
      "\r",
      " 62%|██████▏   | 284/459 [5:32:17<10:01:40, 206.29s/it]"
     ]
    },
    {
     "name": "stdout",
     "output_type": "stream",
     "text": [
      "ID GV0816_Pos23_30_RFP\n"
     ]
    },
    {
     "name": "stderr",
     "output_type": "stream",
     "text": [
      "\r",
      " 62%|██████▏   | 285/459 [5:32:29<7:09:08, 147.98s/it] "
     ]
    },
    {
     "name": "stdout",
     "output_type": "stream",
     "text": [
      "ID GV0816_Pos23_36_RFP\n"
     ]
    },
    {
     "name": "stderr",
     "output_type": "stream",
     "text": [
      "\r",
      " 62%|██████▏   | 286/459 [5:32:38<5:05:54, 106.10s/it]"
     ]
    },
    {
     "name": "stdout",
     "output_type": "stream",
     "text": [
      "ID GV0816_Pos23_426_RFP\n"
     ]
    },
    {
     "name": "stderr",
     "output_type": "stream",
     "text": [
      "\r",
      " 63%|██████▎   | 287/459 [5:32:46<3:39:34, 76.60s/it] "
     ]
    },
    {
     "name": "stdout",
     "output_type": "stream",
     "text": [
      "ID GV0816_Pos23_269_RFP\n"
     ]
    },
    {
     "name": "stderr",
     "output_type": "stream",
     "text": [
      "\r",
      " 63%|██████▎   | 288/459 [5:33:25<3:06:48, 65.55s/it]"
     ]
    },
    {
     "name": "stdout",
     "output_type": "stream",
     "text": [
      "ID GV0816_Pos23_330_RFP\n"
     ]
    },
    {
     "name": "stderr",
     "output_type": "stream",
     "text": [
      "\r",
      " 63%|██████▎   | 289/459 [5:34:23<2:58:41, 63.07s/it]"
     ]
    },
    {
     "name": "stdout",
     "output_type": "stream",
     "text": [
      "ID GV0816_Pos23_526_RFP\n"
     ]
    },
    {
     "name": "stderr",
     "output_type": "stream",
     "text": [
      " 63%|██████▎   | 290/459 [5:34:54<2:31:17, 53.71s/it][INFO][2021/05/04 10:57:45 PM] Opening HDF file: /home/nathan/data/kraken/h2b/giulia/GV0800/Pos17/Pos17_aligned/HDF/segmented.hdf5...\n",
      "[INFO][2021/05/04 10:57:45 PM] Loading tracks/obj_type_1\n"
     ]
    },
    {
     "name": "stdout",
     "output_type": "stream",
     "text": [
      "ID GV0800_Pos17_23_RFP\n",
      "Loading GV0800/Pos17/\n",
      "Btrack version no.: 0.4.0\n"
     ]
    },
    {
     "name": "stderr",
     "output_type": "stream",
     "text": [
      "[INFO][2021/05/04 10:57:46 PM] Loading objects/obj_type_1 (102414, 5) (89276 filtered: area>=100)\n",
      "[INFO][2021/05/04 10:57:47 PM] Closing HDF file: /home/nathan/data/kraken/h2b/giulia/GV0800/Pos17/Pos17_aligned/HDF/segmented.hdf5\n",
      "[INFO][2021/05/04 10:57:47 PM] Opening HDF file: /home/nathan/data/kraken/h2b/giulia/GV0800/Pos17/Pos17_aligned/HDF/segmented.hdf5...\n",
      "[INFO][2021/05/04 10:57:47 PM] Loading tracks/obj_type_2\n",
      "[INFO][2021/05/04 10:57:47 PM] Loading objects/obj_type_2 (83250, 5) (67284 filtered: area>=100)\n",
      "[INFO][2021/05/04 10:57:48 PM] Closing HDF file: /home/nathan/data/kraken/h2b/giulia/GV0800/Pos17/Pos17_aligned/HDF/segmented.hdf5\n"
     ]
    },
    {
     "name": "stdout",
     "output_type": "stream",
     "text": [
      "Track information loaded and ordered according to cell type (WT IDs >0> Scr IDs)\n",
      "Loaded GV0800/Pos17/\n"
     ]
    },
    {
     "name": "stderr",
     "output_type": "stream",
     "text": [
      "\r",
      " 63%|██████▎   | 291/459 [5:35:06<1:55:18, 41.18s/it]"
     ]
    },
    {
     "name": "stdout",
     "output_type": "stream",
     "text": [
      "ID GV0800_Pos17_48_RFP\n"
     ]
    },
    {
     "name": "stderr",
     "output_type": "stream",
     "text": [
      "\r",
      " 64%|██████▎   | 292/459 [5:35:25<1:35:25, 34.28s/it]"
     ]
    },
    {
     "name": "stdout",
     "output_type": "stream",
     "text": [
      "ID GV0800_Pos17_359_RFP\n"
     ]
    },
    {
     "name": "stderr",
     "output_type": "stream",
     "text": [
      "\r",
      " 64%|██████▍   | 293/459 [5:35:36<1:16:03, 27.49s/it]"
     ]
    },
    {
     "name": "stdout",
     "output_type": "stream",
     "text": [
      "ID GV0800_Pos17_518_RFP\n"
     ]
    },
    {
     "name": "stderr",
     "output_type": "stream",
     "text": [
      "\r",
      " 64%|██████▍   | 294/459 [5:35:53<1:06:43, 24.26s/it]"
     ]
    },
    {
     "name": "stdout",
     "output_type": "stream",
     "text": [
      "ID GV0800_Pos17_587_RFP\n"
     ]
    },
    {
     "name": "stderr",
     "output_type": "stream",
     "text": [
      "\r",
      " 64%|██████▍   | 295/459 [5:36:16<1:05:07, 23.83s/it]"
     ]
    },
    {
     "name": "stdout",
     "output_type": "stream",
     "text": [
      "ID GV0800_Pos17_385_RFP\n"
     ]
    },
    {
     "name": "stderr",
     "output_type": "stream",
     "text": [
      "\r",
      " 64%|██████▍   | 296/459 [5:37:10<1:29:26, 32.92s/it]"
     ]
    },
    {
     "name": "stdout",
     "output_type": "stream",
     "text": [
      "ID GV0800_Pos17_462_RFP\n"
     ]
    },
    {
     "name": "stderr",
     "output_type": "stream",
     "text": [
      "\r",
      " 65%|██████▍   | 297/459 [5:38:06<1:47:18, 39.74s/it]"
     ]
    },
    {
     "name": "stdout",
     "output_type": "stream",
     "text": [
      "ID GV0800_Pos17_380_RFP\n"
     ]
    },
    {
     "name": "stderr",
     "output_type": "stream",
     "text": [
      "\r",
      " 65%|██████▍   | 298/459 [5:39:16<2:10:57, 48.80s/it]"
     ]
    },
    {
     "name": "stdout",
     "output_type": "stream",
     "text": [
      "ID GV0800_Pos17_519_RFP\n"
     ]
    },
    {
     "name": "stderr",
     "output_type": "stream",
     "text": [
      "\r",
      " 65%|██████▌   | 299/459 [5:40:11<2:15:11, 50.70s/it]"
     ]
    },
    {
     "name": "stdout",
     "output_type": "stream",
     "text": [
      "ID GV0800_Pos17_727_RFP\n"
     ]
    },
    {
     "name": "stderr",
     "output_type": "stream",
     "text": [
      "\r",
      " 65%|██████▌   | 300/459 [5:40:47<2:02:53, 46.37s/it]"
     ]
    },
    {
     "name": "stdout",
     "output_type": "stream",
     "text": [
      "ID GV0800_Pos17_728_RFP\n"
     ]
    },
    {
     "name": "stderr",
     "output_type": "stream",
     "text": [
      "\r",
      " 66%|██████▌   | 301/459 [5:41:23<1:54:02, 43.31s/it]"
     ]
    },
    {
     "name": "stdout",
     "output_type": "stream",
     "text": [
      "ID GV0800_Pos17_804_RFP\n"
     ]
    },
    {
     "name": "stderr",
     "output_type": "stream",
     "text": [
      "\r",
      " 66%|██████▌   | 302/459 [5:41:44<1:35:38, 36.55s/it]"
     ]
    },
    {
     "name": "stdout",
     "output_type": "stream",
     "text": [
      "ID GV0800_Pos17_917_RFP\n"
     ]
    },
    {
     "name": "stderr",
     "output_type": "stream",
     "text": [
      "\r",
      " 66%|██████▌   | 303/459 [5:41:50<1:11:38, 27.55s/it]"
     ]
    },
    {
     "name": "stdout",
     "output_type": "stream",
     "text": [
      "ID GV0800_Pos17_716_RFP\n"
     ]
    },
    {
     "name": "stderr",
     "output_type": "stream",
     "text": [
      "\r",
      " 66%|██████▌   | 304/459 [5:42:24<1:15:53, 29.38s/it]"
     ]
    },
    {
     "name": "stdout",
     "output_type": "stream",
     "text": [
      "ID GV0800_Pos17_753_RFP\n"
     ]
    },
    {
     "name": "stderr",
     "output_type": "stream",
     "text": [
      " 66%|██████▋   | 305/459 [5:42:53<1:15:03, 29.24s/it][INFO][2021/05/04 11:05:44 PM] Opening HDF file: /home/nathan/data/kraken/h2b/giulia/GV0796/Pos7/Pos7_aligned/HDF/segmented.hdf5...\n",
      "[INFO][2021/05/04 11:05:44 PM] Loading tracks/obj_type_1\n"
     ]
    },
    {
     "name": "stdout",
     "output_type": "stream",
     "text": [
      "ID GV0796_Pos7_39_RFP\n",
      "Loading GV0796/Pos7/\n",
      "Btrack version no.: 0.4.0\n"
     ]
    },
    {
     "name": "stderr",
     "output_type": "stream",
     "text": [
      "[INFO][2021/05/04 11:05:47 PM] Loading objects/obj_type_1 (510473, 5) (495699 filtered: area>=100)\n",
      "[INFO][2021/05/04 11:05:51 PM] Closing HDF file: /home/nathan/data/kraken/h2b/giulia/GV0796/Pos7/Pos7_aligned/HDF/segmented.hdf5\n",
      "[INFO][2021/05/04 11:05:51 PM] Opening HDF file: /home/nathan/data/kraken/h2b/giulia/GV0796/Pos7/Pos7_aligned/HDF/segmented.hdf5...\n",
      "[INFO][2021/05/04 11:05:51 PM] Loading tracks/obj_type_2\n",
      "[INFO][2021/05/04 11:05:51 PM] Loading objects/obj_type_2 (76238, 5) (63068 filtered: area>=100)\n",
      "[INFO][2021/05/04 11:05:52 PM] Closing HDF file: /home/nathan/data/kraken/h2b/giulia/GV0796/Pos7/Pos7_aligned/HDF/segmented.hdf5\n"
     ]
    },
    {
     "name": "stdout",
     "output_type": "stream",
     "text": [
      "Track information loaded and ordered according to cell type (WT IDs >0> Scr IDs)\n",
      "Loaded GV0796/Pos7/\n"
     ]
    },
    {
     "name": "stderr",
     "output_type": "stream",
     "text": [
      "\r",
      " 67%|██████▋   | 306/459 [5:44:03<1:45:56, 41.54s/it]"
     ]
    },
    {
     "name": "stdout",
     "output_type": "stream",
     "text": [
      "ID GV0796_Pos7_40_RFP\n"
     ]
    },
    {
     "name": "stderr",
     "output_type": "stream",
     "text": [
      "\r",
      " 67%|██████▋   | 307/459 [5:44:34<1:37:18, 38.41s/it]"
     ]
    },
    {
     "name": "stdout",
     "output_type": "stream",
     "text": [
      "ID GV0796_Pos7_48_RFP\n"
     ]
    },
    {
     "name": "stderr",
     "output_type": "stream",
     "text": [
      "\r",
      " 67%|██████▋   | 308/459 [5:45:04<1:30:11, 35.84s/it]"
     ]
    },
    {
     "name": "stdout",
     "output_type": "stream",
     "text": [
      "ID GV0796_Pos7_72_RFP\n"
     ]
    },
    {
     "name": "stderr",
     "output_type": "stream",
     "text": [
      "\r",
      " 67%|██████▋   | 309/459 [5:45:34<1:25:12, 34.08s/it]"
     ]
    },
    {
     "name": "stdout",
     "output_type": "stream",
     "text": [
      "ID GV0796_Pos7_6_RFP\n"
     ]
    },
    {
     "name": "stderr",
     "output_type": "stream",
     "text": [
      "\r",
      " 68%|██████▊   | 310/459 [5:46:53<1:57:46, 47.43s/it]"
     ]
    },
    {
     "name": "stdout",
     "output_type": "stream",
     "text": [
      "ID GV0796_Pos7_5_RFP\n"
     ]
    },
    {
     "name": "stderr",
     "output_type": "stream",
     "text": [
      "\r",
      " 68%|██████▊   | 311/459 [5:48:33<2:35:49, 63.17s/it]"
     ]
    },
    {
     "name": "stdout",
     "output_type": "stream",
     "text": [
      "ID GV0796_Pos7_85_RFP\n"
     ]
    },
    {
     "name": "stderr",
     "output_type": "stream",
     "text": [
      "\r",
      " 68%|██████▊   | 312/459 [5:51:16<3:48:34, 93.30s/it]"
     ]
    },
    {
     "name": "stdout",
     "output_type": "stream",
     "text": [
      "ID GV0796_Pos7_443_RFP\n"
     ]
    },
    {
     "name": "stderr",
     "output_type": "stream",
     "text": [
      "\r",
      " 68%|██████▊   | 313/459 [5:53:17<4:06:55, 101.47s/it]"
     ]
    },
    {
     "name": "stdout",
     "output_type": "stream",
     "text": [
      "ID GV0796_Pos7_41_RFP\n"
     ]
    },
    {
     "name": "stderr",
     "output_type": "stream",
     "text": [
      "\r",
      " 68%|██████▊   | 314/459 [5:56:33<5:14:08, 129.99s/it]"
     ]
    },
    {
     "name": "stdout",
     "output_type": "stream",
     "text": [
      "ID GV0796_Pos7_412_RFP\n"
     ]
    },
    {
     "name": "stderr",
     "output_type": "stream",
     "text": [
      "\r",
      " 69%|██████▊   | 315/459 [5:58:50<5:16:43, 131.97s/it]"
     ]
    },
    {
     "name": "stdout",
     "output_type": "stream",
     "text": [
      "ID GV0796_Pos7_413_RFP\n"
     ]
    },
    {
     "name": "stderr",
     "output_type": "stream",
     "text": [
      "\r",
      " 69%|██████▉   | 316/459 [6:01:01<5:14:12, 131.84s/it]"
     ]
    },
    {
     "name": "stdout",
     "output_type": "stream",
     "text": [
      "ID GV0796_Pos7_446_RFP\n"
     ]
    },
    {
     "name": "stderr",
     "output_type": "stream",
     "text": [
      "\r",
      " 69%|██████▉   | 317/459 [6:04:06<5:49:34, 147.71s/it]"
     ]
    },
    {
     "name": "stdout",
     "output_type": "stream",
     "text": [
      "ID GV0796_Pos7_385_RFP\n"
     ]
    },
    {
     "name": "stderr",
     "output_type": "stream",
     "text": [
      "\r",
      " 69%|██████▉   | 318/459 [6:06:33<5:46:24, 147.41s/it]"
     ]
    },
    {
     "name": "stdout",
     "output_type": "stream",
     "text": [
      "ID GV0796_Pos7_3_RFP\n"
     ]
    },
    {
     "name": "stderr",
     "output_type": "stream",
     "text": [
      "\r",
      " 69%|██████▉   | 319/459 [6:10:36<6:51:15, 176.26s/it]"
     ]
    },
    {
     "name": "stdout",
     "output_type": "stream",
     "text": [
      "ID GV0796_Pos7_327_RFP\n"
     ]
    },
    {
     "name": "stderr",
     "output_type": "stream",
     "text": [
      "\r",
      " 70%|██████▉   | 320/459 [6:13:49<6:59:55, 181.27s/it]"
     ]
    },
    {
     "name": "stdout",
     "output_type": "stream",
     "text": [
      "ID GV0796_Pos7_618_RFP\n"
     ]
    },
    {
     "name": "stderr",
     "output_type": "stream",
     "text": [
      "\r",
      " 70%|██████▉   | 321/459 [6:14:55<5:36:51, 146.46s/it]"
     ]
    },
    {
     "name": "stdout",
     "output_type": "stream",
     "text": [
      "ID GV0796_Pos7_153_RFP\n"
     ]
    },
    {
     "name": "stderr",
     "output_type": "stream",
     "text": [
      "\r",
      " 70%|███████   | 322/459 [6:18:32<6:22:47, 167.65s/it]"
     ]
    },
    {
     "name": "stdout",
     "output_type": "stream",
     "text": [
      "ID GV0796_Pos7_506_RFP\n"
     ]
    },
    {
     "name": "stderr",
     "output_type": "stream",
     "text": [
      "\r",
      " 70%|███████   | 323/459 [6:20:40<5:53:28, 155.94s/it]"
     ]
    },
    {
     "name": "stdout",
     "output_type": "stream",
     "text": [
      "ID GV0796_Pos7_395_RFP\n"
     ]
    },
    {
     "name": "stderr",
     "output_type": "stream",
     "text": [
      "\r",
      " 71%|███████   | 324/459 [6:23:45<6:10:16, 164.57s/it]"
     ]
    },
    {
     "name": "stdout",
     "output_type": "stream",
     "text": [
      "ID GV0796_Pos7_399_RFP\n"
     ]
    },
    {
     "name": "stderr",
     "output_type": "stream",
     "text": [
      "\r",
      " 71%|███████   | 325/459 [6:26:36<6:12:04, 166.60s/it]"
     ]
    },
    {
     "name": "stdout",
     "output_type": "stream",
     "text": [
      "ID GV0796_Pos7_695_RFP\n"
     ]
    },
    {
     "name": "stderr",
     "output_type": "stream",
     "text": [
      "\r",
      " 71%|███████   | 326/459 [6:27:48<5:06:27, 138.25s/it]"
     ]
    },
    {
     "name": "stdout",
     "output_type": "stream",
     "text": [
      "ID GV0796_Pos7_394_RFP\n"
     ]
    },
    {
     "name": "stderr",
     "output_type": "stream",
     "text": [
      "\r",
      " 71%|███████   | 327/459 [6:31:46<6:09:20, 167.89s/it]"
     ]
    },
    {
     "name": "stdout",
     "output_type": "stream",
     "text": [
      "ID GV0796_Pos7_445_RFP\n"
     ]
    },
    {
     "name": "stderr",
     "output_type": "stream",
     "text": [
      "\r",
      " 71%|███████▏  | 328/459 [6:34:55<6:20:24, 174.23s/it]"
     ]
    },
    {
     "name": "stdout",
     "output_type": "stream",
     "text": [
      "ID GV0796_Pos7_460_RFP\n"
     ]
    },
    {
     "name": "stderr",
     "output_type": "stream",
     "text": [
      "\r",
      " 72%|███████▏  | 329/459 [6:38:06<6:28:49, 179.45s/it]"
     ]
    },
    {
     "name": "stdout",
     "output_type": "stream",
     "text": [
      "ID GV0796_Pos7_403_RFP\n"
     ]
    },
    {
     "name": "stderr",
     "output_type": "stream",
     "text": [
      "\r",
      " 72%|███████▏  | 330/459 [6:42:00<7:00:42, 195.67s/it]"
     ]
    },
    {
     "name": "stdout",
     "output_type": "stream",
     "text": [
      "ID GV0796_Pos7_609_RFP\n"
     ]
    },
    {
     "name": "stderr",
     "output_type": "stream",
     "text": [
      " 72%|███████▏  | 331/459 [6:43:57<6:07:35, 172.31s/it][INFO][2021/05/05 12:06:48 AM] Opening HDF file: /home/nathan/data/kraken/h2b/giulia/GV0797/Pos7/Pos7_aligned/HDF/segmented.hdf5...\n",
      "[INFO][2021/05/05 12:06:48 AM] Loading tracks/obj_type_1\n"
     ]
    },
    {
     "name": "stdout",
     "output_type": "stream",
     "text": [
      "ID GV0797_Pos7_14_RFP\n",
      "Loading GV0797/Pos7/\n",
      "Btrack version no.: 0.4.0\n"
     ]
    },
    {
     "name": "stderr",
     "output_type": "stream",
     "text": [
      "[INFO][2021/05/05 12:06:49 AM] Loading objects/obj_type_1 (207794, 5) (196573 filtered: area>=100)\n",
      "[INFO][2021/05/05 12:06:51 AM] Closing HDF file: /home/nathan/data/kraken/h2b/giulia/GV0797/Pos7/Pos7_aligned/HDF/segmented.hdf5\n",
      "[INFO][2021/05/05 12:06:51 AM] Opening HDF file: /home/nathan/data/kraken/h2b/giulia/GV0797/Pos7/Pos7_aligned/HDF/segmented.hdf5...\n",
      "[INFO][2021/05/05 12:06:51 AM] Loading tracks/obj_type_2\n",
      "[INFO][2021/05/05 12:06:51 AM] Loading objects/obj_type_2 (22939, 5) (18826 filtered: area>=100)\n",
      "[INFO][2021/05/05 12:06:52 AM] Closing HDF file: /home/nathan/data/kraken/h2b/giulia/GV0797/Pos7/Pos7_aligned/HDF/segmented.hdf5\n"
     ]
    },
    {
     "name": "stdout",
     "output_type": "stream",
     "text": [
      "Track information loaded and ordered according to cell type (WT IDs >0> Scr IDs)\n",
      "Loaded GV0797/Pos7/\n"
     ]
    },
    {
     "name": "stderr",
     "output_type": "stream",
     "text": [
      "\r",
      " 72%|███████▏  | 332/459 [6:44:32<4:37:29, 131.09s/it]"
     ]
    },
    {
     "name": "stdout",
     "output_type": "stream",
     "text": [
      "ID GV0797_Pos7_45_RFP\n"
     ]
    },
    {
     "name": "stderr",
     "output_type": "stream",
     "text": [
      "\r",
      " 73%|███████▎  | 333/459 [6:45:12<3:37:32, 103.59s/it]"
     ]
    },
    {
     "name": "stdout",
     "output_type": "stream",
     "text": [
      "ID GV0797_Pos7_5_RFP\n"
     ]
    },
    {
     "name": "stderr",
     "output_type": "stream",
     "text": [
      "\r",
      " 73%|███████▎  | 334/459 [6:46:37<3:24:23, 98.11s/it] "
     ]
    },
    {
     "name": "stdout",
     "output_type": "stream",
     "text": [
      "ID GV0797_Pos7_146_RFP\n"
     ]
    },
    {
     "name": "stderr",
     "output_type": "stream",
     "text": [
      "\r",
      " 73%|███████▎  | 335/459 [6:47:08<2:40:52, 77.84s/it]"
     ]
    },
    {
     "name": "stdout",
     "output_type": "stream",
     "text": [
      "ID GV0797_Pos7_145_RFP\n"
     ]
    },
    {
     "name": "stderr",
     "output_type": "stream",
     "text": [
      "\r",
      " 73%|███████▎  | 336/459 [6:47:40<2:11:35, 64.20s/it]"
     ]
    },
    {
     "name": "stdout",
     "output_type": "stream",
     "text": [
      "ID GV0797_Pos7_30_RFP\n"
     ]
    },
    {
     "name": "stderr",
     "output_type": "stream",
     "text": [
      "\r",
      " 73%|███████▎  | 337/459 [6:49:23<2:34:04, 75.78s/it]"
     ]
    },
    {
     "name": "stdout",
     "output_type": "stream",
     "text": [
      "ID GV0797_Pos7_106_RFP\n"
     ]
    },
    {
     "name": "stderr",
     "output_type": "stream",
     "text": [
      "\r",
      " 74%|███████▎  | 338/459 [6:50:57<2:43:38, 81.15s/it]"
     ]
    },
    {
     "name": "stdout",
     "output_type": "stream",
     "text": [
      "ID GV0797_Pos7_9_RFP\n"
     ]
    },
    {
     "name": "stderr",
     "output_type": "stream",
     "text": [
      "\r",
      " 74%|███████▍  | 339/459 [6:52:54<3:03:53, 91.94s/it]"
     ]
    },
    {
     "name": "stdout",
     "output_type": "stream",
     "text": [
      "ID GV0797_Pos7_204_RFP\n"
     ]
    },
    {
     "name": "stderr",
     "output_type": "stream",
     "text": [
      "\r",
      " 74%|███████▍  | 340/459 [6:53:40<2:35:25, 78.36s/it]"
     ]
    },
    {
     "name": "stdout",
     "output_type": "stream",
     "text": [
      "ID GV0797_Pos7_105_RFP\n"
     ]
    },
    {
     "name": "stderr",
     "output_type": "stream",
     "text": [
      "\r",
      " 74%|███████▍  | 341/459 [6:55:17<2:44:48, 83.80s/it]"
     ]
    },
    {
     "name": "stdout",
     "output_type": "stream",
     "text": [
      "ID GV0797_Pos7_200_RFP\n"
     ]
    },
    {
     "name": "stderr",
     "output_type": "stream",
     "text": [
      "\r",
      " 75%|███████▍  | 342/459 [6:55:39<2:07:20, 65.30s/it]"
     ]
    },
    {
     "name": "stdout",
     "output_type": "stream",
     "text": [
      "ID GV0797_Pos7_199_RFP\n"
     ]
    },
    {
     "name": "stderr",
     "output_type": "stream",
     "text": [
      "\r",
      " 75%|███████▍  | 343/459 [6:56:32<1:59:09, 61.64s/it]"
     ]
    },
    {
     "name": "stdout",
     "output_type": "stream",
     "text": [
      "ID GV0797_Pos7_208_RFP\n"
     ]
    },
    {
     "name": "stderr",
     "output_type": "stream",
     "text": [
      "\r",
      " 75%|███████▍  | 344/459 [6:56:49<1:32:35, 48.31s/it]"
     ]
    },
    {
     "name": "stdout",
     "output_type": "stream",
     "text": [
      "ID GV0797_Pos7_207_RFP\n"
     ]
    },
    {
     "name": "stderr",
     "output_type": "stream",
     "text": [
      "\r",
      " 75%|███████▌  | 345/459 [6:57:06<1:13:53, 38.89s/it]"
     ]
    },
    {
     "name": "stdout",
     "output_type": "stream",
     "text": [
      "ID GV0797_Pos7_203_RFP\n"
     ]
    },
    {
     "name": "stderr",
     "output_type": "stream",
     "text": [
      " 75%|███████▌  | 346/459 [6:57:33<1:06:15, 35.18s/it][INFO][2021/05/05 12:20:24 AM] Opening HDF file: /home/nathan/data/kraken/h2b/giulia/GV0813/Pos0/Pos0_aligned/HDF/segmented.hdf5...\n",
      "[INFO][2021/05/05 12:20:24 AM] Loading tracks/obj_type_1\n"
     ]
    },
    {
     "name": "stdout",
     "output_type": "stream",
     "text": [
      "ID GV0813_Pos0_13_RFP\n",
      "Loading GV0813/Pos0/\n",
      "Btrack version no.: 0.4.0\n"
     ]
    },
    {
     "name": "stderr",
     "output_type": "stream",
     "text": [
      "[INFO][2021/05/05 12:20:24 AM] Loading objects/obj_type_1 (85389, 5) (80063 filtered: area>=100)\n",
      "[INFO][2021/05/05 12:20:25 AM] Closing HDF file: /home/nathan/data/kraken/h2b/giulia/GV0813/Pos0/Pos0_aligned/HDF/segmented.hdf5\n",
      "[INFO][2021/05/05 12:20:25 AM] Opening HDF file: /home/nathan/data/kraken/h2b/giulia/GV0813/Pos0/Pos0_aligned/HDF/segmented.hdf5...\n",
      "[INFO][2021/05/05 12:20:25 AM] Loading tracks/obj_type_2\n",
      "[INFO][2021/05/05 12:20:25 AM] Loading objects/obj_type_2 (20301, 5) (17076 filtered: area>=100)\n",
      "[INFO][2021/05/05 12:20:25 AM] Closing HDF file: /home/nathan/data/kraken/h2b/giulia/GV0813/Pos0/Pos0_aligned/HDF/segmented.hdf5\n"
     ]
    },
    {
     "name": "stdout",
     "output_type": "stream",
     "text": [
      "Track information loaded and ordered according to cell type (WT IDs >0> Scr IDs)\n",
      "Loaded GV0813/Pos0/\n"
     ]
    },
    {
     "name": "stderr",
     "output_type": "stream",
     "text": [
      "\r",
      " 76%|███████▌  | 347/459 [6:57:45<52:51, 28.32s/it]  "
     ]
    },
    {
     "name": "stdout",
     "output_type": "stream",
     "text": [
      "ID GV0813_Pos0_14_RFP\n"
     ]
    },
    {
     "name": "stderr",
     "output_type": "stream",
     "text": [
      "\r",
      " 76%|███████▌  | 348/459 [6:57:50<39:22, 21.28s/it]"
     ]
    },
    {
     "name": "stdout",
     "output_type": "stream",
     "text": [
      "ID GV0813_Pos0_115_RFP\n"
     ]
    },
    {
     "name": "stderr",
     "output_type": "stream",
     "text": [
      "\r",
      " 76%|███████▌  | 349/459 [6:58:21<44:28, 24.25s/it]"
     ]
    },
    {
     "name": "stdout",
     "output_type": "stream",
     "text": [
      "ID GV0813_Pos0_10_RFP\n"
     ]
    },
    {
     "name": "stderr",
     "output_type": "stream",
     "text": [
      "\r",
      " 76%|███████▋  | 350/459 [6:59:09<57:07, 31.45s/it]"
     ]
    },
    {
     "name": "stdout",
     "output_type": "stream",
     "text": [
      "ID GV0813_Pos0_12_RFP\n"
     ]
    },
    {
     "name": "stderr",
     "output_type": "stream",
     "text": [
      " 76%|███████▋  | 351/459 [6:59:58<1:05:53, 36.61s/it][INFO][2021/05/05 12:22:49 AM] Opening HDF file: /home/nathan/data/kraken/h2b/giulia/GV0802/Pos4/Pos4_aligned/HDF/segmented.hdf5...\n",
      "[INFO][2021/05/05 12:22:49 AM] Loading tracks/obj_type_1\n"
     ]
    },
    {
     "name": "stdout",
     "output_type": "stream",
     "text": [
      "ID GV0802_Pos4_23_RFP\n",
      "Loading GV0802/Pos4/\n",
      "Btrack version no.: 0.4.0\n"
     ]
    },
    {
     "name": "stderr",
     "output_type": "stream",
     "text": [
      "[INFO][2021/05/05 12:22:51 AM] Loading objects/obj_type_1 (351066, 5) (338199 filtered: area>=100)\n",
      "[INFO][2021/05/05 12:22:54 AM] Closing HDF file: /home/nathan/data/kraken/h2b/giulia/GV0802/Pos4/Pos4_aligned/HDF/segmented.hdf5\n",
      "[INFO][2021/05/05 12:22:54 AM] Opening HDF file: /home/nathan/data/kraken/h2b/giulia/GV0802/Pos4/Pos4_aligned/HDF/segmented.hdf5...\n",
      "[INFO][2021/05/05 12:22:54 AM] Loading tracks/obj_type_2\n",
      "[INFO][2021/05/05 12:22:54 AM] Loading objects/obj_type_2 (32989, 5) (27879 filtered: area>=100)\n",
      "[INFO][2021/05/05 12:22:54 AM] Closing HDF file: /home/nathan/data/kraken/h2b/giulia/GV0802/Pos4/Pos4_aligned/HDF/segmented.hdf5\n"
     ]
    },
    {
     "name": "stdout",
     "output_type": "stream",
     "text": [
      "Track information loaded and ordered according to cell type (WT IDs >0> Scr IDs)\n",
      "Loaded GV0802/Pos4/\n"
     ]
    },
    {
     "name": "stderr",
     "output_type": "stream",
     "text": [
      "\r",
      " 77%|███████▋  | 352/459 [7:01:02<1:19:52, 44.79s/it]"
     ]
    },
    {
     "name": "stdout",
     "output_type": "stream",
     "text": [
      "ID GV0802_Pos4_28_RFP\n"
     ]
    },
    {
     "name": "stderr",
     "output_type": "stream",
     "text": [
      "\r",
      " 77%|███████▋  | 353/459 [7:02:14<1:33:38, 53.01s/it]"
     ]
    },
    {
     "name": "stdout",
     "output_type": "stream",
     "text": [
      "ID GV0802_Pos4_18_RFP\n"
     ]
    },
    {
     "name": "stderr",
     "output_type": "stream",
     "text": [
      "\r",
      " 77%|███████▋  | 354/459 [7:02:43<1:19:55, 45.68s/it]"
     ]
    },
    {
     "name": "stdout",
     "output_type": "stream",
     "text": [
      "ID GV0802_Pos4_12_RFP\n"
     ]
    },
    {
     "name": "stderr",
     "output_type": "stream",
     "text": [
      "\r",
      " 77%|███████▋  | 355/459 [7:04:56<2:04:51, 72.03s/it]"
     ]
    },
    {
     "name": "stdout",
     "output_type": "stream",
     "text": [
      "ID GV0802_Pos4_198_RFP\n"
     ]
    },
    {
     "name": "stderr",
     "output_type": "stream",
     "text": [
      "\r",
      " 78%|███████▊  | 356/459 [7:06:02<2:00:32, 70.22s/it]"
     ]
    },
    {
     "name": "stdout",
     "output_type": "stream",
     "text": [
      "ID GV0802_Pos4_275_RFP\n"
     ]
    },
    {
     "name": "stderr",
     "output_type": "stream",
     "text": [
      "\r",
      " 78%|███████▊  | 357/459 [7:06:39<1:42:16, 60.16s/it]"
     ]
    },
    {
     "name": "stdout",
     "output_type": "stream",
     "text": [
      "ID GV0802_Pos4_245_RFP\n"
     ]
    },
    {
     "name": "stderr",
     "output_type": "stream",
     "text": [
      "\r",
      " 78%|███████▊  | 358/459 [7:08:04<1:53:58, 67.71s/it]"
     ]
    },
    {
     "name": "stdout",
     "output_type": "stream",
     "text": [
      "ID GV0802_Pos4_353_RFP\n"
     ]
    },
    {
     "name": "stderr",
     "output_type": "stream",
     "text": [
      "\r",
      " 78%|███████▊  | 359/459 [7:10:35<2:34:12, 92.53s/it]"
     ]
    },
    {
     "name": "stdout",
     "output_type": "stream",
     "text": [
      "ID GV0802_Pos4_272_RFP\n"
     ]
    },
    {
     "name": "stderr",
     "output_type": "stream",
     "text": [
      "\r",
      " 78%|███████▊  | 360/459 [7:12:29<2:43:42, 99.22s/it]"
     ]
    },
    {
     "name": "stdout",
     "output_type": "stream",
     "text": [
      "ID GV0802_Pos4_276_RFP\n"
     ]
    },
    {
     "name": "stderr",
     "output_type": "stream",
     "text": [
      "\r",
      " 79%|███████▊  | 361/459 [7:15:19<3:16:20, 120.21s/it]"
     ]
    },
    {
     "name": "stdout",
     "output_type": "stream",
     "text": [
      "ID GV0802_Pos4_3_RFP\n"
     ]
    },
    {
     "name": "stderr",
     "output_type": "stream",
     "text": [
      "\r",
      " 79%|███████▉  | 362/459 [7:19:34<4:19:50, 160.73s/it]"
     ]
    },
    {
     "name": "stdout",
     "output_type": "stream",
     "text": [
      "ID GV0802_Pos4_31_RFP\n"
     ]
    },
    {
     "name": "stderr",
     "output_type": "stream",
     "text": [
      " 79%|███████▉  | 363/459 [7:23:49<5:02:16, 188.92s/it][INFO][2021/05/05 12:46:39 AM] Opening HDF file: /home/nathan/data/kraken/h2b/giulia/GV0807/Pos4/Pos4_aligned/HDF/segmented.hdf5...\n",
      "[INFO][2021/05/05 12:46:39 AM] Loading tracks/obj_type_1\n"
     ]
    },
    {
     "name": "stdout",
     "output_type": "stream",
     "text": [
      "ID GV0807_Pos4_12_RFP\n",
      "Loading GV0807/Pos4/\n",
      "Btrack version no.: 0.4.0\n"
     ]
    },
    {
     "name": "stderr",
     "output_type": "stream",
     "text": [
      "[INFO][2021/05/05 12:46:41 AM] Loading objects/obj_type_1 (313526, 5) (300454 filtered: area>=100)\n",
      "[INFO][2021/05/05 12:46:44 AM] Closing HDF file: /home/nathan/data/kraken/h2b/giulia/GV0807/Pos4/Pos4_aligned/HDF/segmented.hdf5\n",
      "[INFO][2021/05/05 12:46:44 AM] Opening HDF file: /home/nathan/data/kraken/h2b/giulia/GV0807/Pos4/Pos4_aligned/HDF/segmented.hdf5...\n",
      "[INFO][2021/05/05 12:46:44 AM] Loading tracks/obj_type_2\n",
      "[INFO][2021/05/05 12:46:44 AM] Loading objects/obj_type_2 (38098, 5) (31521 filtered: area>=100)\n",
      "[INFO][2021/05/05 12:46:44 AM] Closing HDF file: /home/nathan/data/kraken/h2b/giulia/GV0807/Pos4/Pos4_aligned/HDF/segmented.hdf5\n"
     ]
    },
    {
     "name": "stdout",
     "output_type": "stream",
     "text": [
      "Track information loaded and ordered according to cell type (WT IDs >0> Scr IDs)\n",
      "Loaded GV0807/Pos4/\n"
     ]
    },
    {
     "name": "stderr",
     "output_type": "stream",
     "text": [
      "\r",
      " 79%|███████▉  | 364/459 [7:24:42<3:54:51, 148.33s/it]"
     ]
    },
    {
     "name": "stdout",
     "output_type": "stream",
     "text": [
      "ID GV0807_Pos4_16_RFP\n"
     ]
    },
    {
     "name": "stderr",
     "output_type": "stream",
     "text": [
      "\r",
      " 80%|███████▉  | 365/459 [7:28:22<4:26:07, 169.87s/it]"
     ]
    },
    {
     "name": "stdout",
     "output_type": "stream",
     "text": [
      "ID GV0807_Pos4_23_RFP\n"
     ]
    },
    {
     "name": "stderr",
     "output_type": "stream",
     "text": [
      "\r",
      " 80%|███████▉  | 366/459 [7:31:50<4:41:06, 181.36s/it]"
     ]
    },
    {
     "name": "stdout",
     "output_type": "stream",
     "text": [
      "ID GV0807_Pos4_276_RFP\n"
     ]
    },
    {
     "name": "stderr",
     "output_type": "stream",
     "text": [
      "\r",
      " 80%|███████▉  | 367/459 [7:32:57<3:45:12, 146.88s/it]"
     ]
    },
    {
     "name": "stdout",
     "output_type": "stream",
     "text": [
      "ID GV0807_Pos4_345_RFP\n"
     ]
    },
    {
     "name": "stderr",
     "output_type": "stream",
     "text": [
      "\r",
      " 80%|████████  | 368/459 [7:33:35<2:53:20, 114.30s/it]"
     ]
    },
    {
     "name": "stdout",
     "output_type": "stream",
     "text": [
      "ID GV0807_Pos4_330_RFP\n"
     ]
    },
    {
     "name": "stderr",
     "output_type": "stream",
     "text": [
      "\r",
      " 80%|████████  | 369/459 [7:34:46<2:31:53, 101.26s/it]"
     ]
    },
    {
     "name": "stdout",
     "output_type": "stream",
     "text": [
      "ID GV0807_Pos4_191_RFP\n"
     ]
    },
    {
     "name": "stderr",
     "output_type": "stream",
     "text": [
      "\r",
      " 81%|████████  | 370/459 [7:37:44<3:04:15, 124.22s/it]"
     ]
    },
    {
     "name": "stdout",
     "output_type": "stream",
     "text": [
      "ID GV0807_Pos4_429_RFP\n"
     ]
    },
    {
     "name": "stderr",
     "output_type": "stream",
     "text": [
      "\r",
      " 81%|████████  | 371/459 [7:38:14<2:20:45, 95.97s/it] "
     ]
    },
    {
     "name": "stdout",
     "output_type": "stream",
     "text": [
      "ID GV0807_Pos4_50_RFP\n"
     ]
    },
    {
     "name": "stderr",
     "output_type": "stream",
     "text": [
      "\r",
      " 81%|████████  | 372/459 [7:42:22<3:25:17, 141.58s/it]"
     ]
    },
    {
     "name": "stdout",
     "output_type": "stream",
     "text": [
      "ID GV0807_Pos4_382_RFP\n"
     ]
    },
    {
     "name": "stderr",
     "output_type": "stream",
     "text": [
      "\r",
      " 81%|████████▏ | 373/459 [7:44:30<3:17:03, 137.48s/it]"
     ]
    },
    {
     "name": "stdout",
     "output_type": "stream",
     "text": [
      "ID GV0807_Pos4_381_RFP\n"
     ]
    },
    {
     "name": "stderr",
     "output_type": "stream",
     "text": [
      "\r",
      " 81%|████████▏ | 374/459 [7:46:24<3:05:04, 130.64s/it]"
     ]
    },
    {
     "name": "stdout",
     "output_type": "stream",
     "text": [
      "ID GV0807_Pos4_190_RFP\n"
     ]
    },
    {
     "name": "stderr",
     "output_type": "stream",
     "text": [
      "\r",
      " 82%|████████▏ | 375/459 [7:49:44<3:31:41, 151.20s/it]"
     ]
    },
    {
     "name": "stdout",
     "output_type": "stream",
     "text": [
      "ID GV0807_Pos4_377_RFP\n"
     ]
    },
    {
     "name": "stderr",
     "output_type": "stream",
     "text": [
      "\r",
      " 82%|████████▏ | 376/459 [7:51:50<3:18:43, 143.65s/it]"
     ]
    },
    {
     "name": "stdout",
     "output_type": "stream",
     "text": [
      "ID GV0807_Pos4_169_RFP\n"
     ]
    },
    {
     "name": "stderr",
     "output_type": "stream",
     "text": [
      " 82%|████████▏ | 377/459 [7:54:41<3:27:31, 151.84s/it][INFO][2021/05/05 01:17:31 AM] Opening HDF file: /home/nathan/data/kraken/h2b/giulia/GV0796/Pos19/Pos19_aligned/HDF/segmented.hdf5...\n",
      "[INFO][2021/05/05 01:17:31 AM] Loading tracks/obj_type_1\n"
     ]
    },
    {
     "name": "stdout",
     "output_type": "stream",
     "text": [
      "ID GV0796_Pos19_9_RFP\n",
      "Loading GV0796/Pos19/\n",
      "Btrack version no.: 0.4.0\n"
     ]
    },
    {
     "name": "stderr",
     "output_type": "stream",
     "text": [
      "[INFO][2021/05/05 01:17:34 AM] Loading objects/obj_type_1 (506574, 5) (490755 filtered: area>=100)\n",
      "[INFO][2021/05/05 01:17:39 AM] Closing HDF file: /home/nathan/data/kraken/h2b/giulia/GV0796/Pos19/Pos19_aligned/HDF/segmented.hdf5\n",
      "[INFO][2021/05/05 01:17:39 AM] Opening HDF file: /home/nathan/data/kraken/h2b/giulia/GV0796/Pos19/Pos19_aligned/HDF/segmented.hdf5...\n",
      "[INFO][2021/05/05 01:17:39 AM] Loading tracks/obj_type_2\n",
      "[INFO][2021/05/05 01:17:39 AM] Loading objects/obj_type_2 (13897, 5) (11779 filtered: area>=100)\n",
      "[INFO][2021/05/05 01:17:39 AM] Closing HDF file: /home/nathan/data/kraken/h2b/giulia/GV0796/Pos19/Pos19_aligned/HDF/segmented.hdf5\n"
     ]
    },
    {
     "name": "stdout",
     "output_type": "stream",
     "text": [
      "Track information loaded and ordered according to cell type (WT IDs >0> Scr IDs)\n",
      "Loaded GV0796/Pos19/\n"
     ]
    },
    {
     "name": "stderr",
     "output_type": "stream",
     "text": [
      "\r",
      " 82%|████████▏ | 378/459 [7:56:29<3:07:11, 138.66s/it]"
     ]
    },
    {
     "name": "stdout",
     "output_type": "stream",
     "text": [
      "ID GV0796_Pos19_3_RFP\n"
     ]
    },
    {
     "name": "stderr",
     "output_type": "stream",
     "text": [
      "\r",
      " 83%|████████▎ | 379/459 [8:00:26<3:44:18, 168.24s/it]"
     ]
    },
    {
     "name": "stdout",
     "output_type": "stream",
     "text": [
      "ID GV0796_Pos19_58_RFP\n"
     ]
    },
    {
     "name": "stderr",
     "output_type": "stream",
     "text": [
      "\r",
      " 83%|████████▎ | 380/459 [8:03:07<3:38:43, 166.13s/it]"
     ]
    },
    {
     "name": "stdout",
     "output_type": "stream",
     "text": [
      "ID GV0796_Pos19_69_RFP\n"
     ]
    },
    {
     "name": "stderr",
     "output_type": "stream",
     "text": [
      "\r",
      " 83%|████████▎ | 381/459 [8:05:24<3:24:43, 157.48s/it]"
     ]
    },
    {
     "name": "stdout",
     "output_type": "stream",
     "text": [
      "ID GV0796_Pos19_70_RFP\n"
     ]
    },
    {
     "name": "stderr",
     "output_type": "stream",
     "text": [
      "\r",
      " 83%|████████▎ | 382/459 [8:08:40<3:36:40, 168.84s/it]"
     ]
    },
    {
     "name": "stdout",
     "output_type": "stream",
     "text": [
      "ID GV0796_Pos19_125_RFP\n"
     ]
    },
    {
     "name": "stderr",
     "output_type": "stream",
     "text": [
      " 83%|████████▎ | 383/459 [8:10:28<3:11:00, 150.80s/it][INFO][2021/05/05 01:33:19 AM] Opening HDF file: /home/nathan/data/kraken/h2b/giulia/GV0797/Pos19/Pos19_aligned/HDF/segmented.hdf5...\n",
      "[INFO][2021/05/05 01:33:19 AM] Loading tracks/obj_type_1\n"
     ]
    },
    {
     "name": "stdout",
     "output_type": "stream",
     "text": [
      "ID GV0797_Pos19_7_RFP\n",
      "Loading GV0797/Pos19/\n",
      "Btrack version no.: 0.4.0\n"
     ]
    },
    {
     "name": "stderr",
     "output_type": "stream",
     "text": [
      "[INFO][2021/05/05 01:33:21 AM] Loading objects/obj_type_1 (309231, 5) (297729 filtered: area>=100)\n",
      "[INFO][2021/05/05 01:33:23 AM] Closing HDF file: /home/nathan/data/kraken/h2b/giulia/GV0797/Pos19/Pos19_aligned/HDF/segmented.hdf5\n",
      "[INFO][2021/05/05 01:33:23 AM] Opening HDF file: /home/nathan/data/kraken/h2b/giulia/GV0797/Pos19/Pos19_aligned/HDF/segmented.hdf5...\n",
      "[INFO][2021/05/05 01:33:23 AM] Loading tracks/obj_type_2\n",
      "[INFO][2021/05/05 01:33:23 AM] Loading objects/obj_type_2 (4035, 5) (2645 filtered: area>=100)\n",
      "[INFO][2021/05/05 01:33:24 AM] Closing HDF file: /home/nathan/data/kraken/h2b/giulia/GV0797/Pos19/Pos19_aligned/HDF/segmented.hdf5\n"
     ]
    },
    {
     "name": "stdout",
     "output_type": "stream",
     "text": [
      "Track information loaded and ordered according to cell type (WT IDs >0> Scr IDs)\n",
      "Loaded GV0797/Pos19/\n"
     ]
    },
    {
     "name": "stderr",
     "output_type": "stream",
     "text": [
      "\r",
      " 84%|████████▎ | 384/459 [8:11:17<2:30:02, 120.03s/it]"
     ]
    },
    {
     "name": "stdout",
     "output_type": "stream",
     "text": [
      "ID GV0797_Pos19_8_RFP\n"
     ]
    },
    {
     "name": "stderr",
     "output_type": "stream",
     "text": [
      " 84%|████████▍ | 385/459 [8:12:30<2:10:51, 106.10s/it][INFO][2021/05/05 01:35:21 AM] Opening HDF file: /home/nathan/data/kraken/h2b/giulia/GV0819/Pos3/Pos3_aligned/HDF/segmented.hdf5...\n",
      "[INFO][2021/05/05 01:35:21 AM] Loading tracks/obj_type_1\n"
     ]
    },
    {
     "name": "stdout",
     "output_type": "stream",
     "text": [
      "ID GV0819_Pos3_110_RFP\n",
      "Loading GV0819/Pos3/\n",
      "Btrack version no.: 0.4.0\n"
     ]
    },
    {
     "name": "stderr",
     "output_type": "stream",
     "text": [
      "[INFO][2021/05/05 01:35:23 AM] Loading objects/obj_type_1 (444670, 5) (426511 filtered: area>=100)\n",
      "[INFO][2021/05/05 01:35:28 AM] Closing HDF file: /home/nathan/data/kraken/h2b/giulia/GV0819/Pos3/Pos3_aligned/HDF/segmented.hdf5\n",
      "[INFO][2021/05/05 01:35:28 AM] Opening HDF file: /home/nathan/data/kraken/h2b/giulia/GV0819/Pos3/Pos3_aligned/HDF/segmented.hdf5...\n",
      "[INFO][2021/05/05 01:35:28 AM] Loading tracks/obj_type_2\n",
      "[INFO][2021/05/05 01:35:28 AM] Loading objects/obj_type_2 (119062, 5) (102355 filtered: area>=100)\n",
      "[INFO][2021/05/05 01:35:29 AM] Closing HDF file: /home/nathan/data/kraken/h2b/giulia/GV0819/Pos3/Pos3_aligned/HDF/segmented.hdf5\n"
     ]
    },
    {
     "name": "stdout",
     "output_type": "stream",
     "text": [
      "Track information loaded and ordered according to cell type (WT IDs >0> Scr IDs)\n",
      "Loaded GV0819/Pos3/\n"
     ]
    },
    {
     "name": "stderr",
     "output_type": "stream",
     "text": [
      "\r",
      " 84%|████████▍ | 386/459 [8:13:09<1:44:38, 86.01s/it] "
     ]
    },
    {
     "name": "stdout",
     "output_type": "stream",
     "text": [
      "ID GV0819_Pos3_8_RFP\n"
     ]
    },
    {
     "name": "stderr",
     "output_type": "stream",
     "text": [
      "\r",
      " 84%|████████▍ | 387/459 [8:15:07<1:54:34, 95.48s/it]"
     ]
    },
    {
     "name": "stdout",
     "output_type": "stream",
     "text": [
      "ID GV0819_Pos3_406_RFP\n"
     ]
    },
    {
     "name": "stderr",
     "output_type": "stream",
     "text": [
      "\r",
      " 85%|████████▍ | 388/459 [8:17:09<2:02:20, 103.39s/it]"
     ]
    },
    {
     "name": "stdout",
     "output_type": "stream",
     "text": [
      "ID GV0819_Pos3_717_RFP\n"
     ]
    },
    {
     "name": "stderr",
     "output_type": "stream",
     "text": [
      "\r",
      " 85%|████████▍ | 389/459 [8:19:18<2:09:47, 111.24s/it]"
     ]
    },
    {
     "name": "stdout",
     "output_type": "stream",
     "text": [
      "ID GV0819_Pos3_647_RFP\n"
     ]
    },
    {
     "name": "stderr",
     "output_type": "stream",
     "text": [
      "\r",
      " 85%|████████▍ | 390/459 [8:20:35<1:55:52, 100.76s/it]"
     ]
    },
    {
     "name": "stdout",
     "output_type": "stream",
     "text": [
      "ID GV0819_Pos3_493_RFP\n"
     ]
    },
    {
     "name": "stderr",
     "output_type": "stream",
     "text": [
      "\r",
      " 85%|████████▌ | 391/459 [8:23:05<2:11:06, 115.68s/it]"
     ]
    },
    {
     "name": "stdout",
     "output_type": "stream",
     "text": [
      "ID GV0819_Pos3_607_RFP\n"
     ]
    },
    {
     "name": "stderr",
     "output_type": "stream",
     "text": [
      "\r",
      " 85%|████████▌ | 392/459 [8:26:22<2:36:15, 139.94s/it]"
     ]
    },
    {
     "name": "stdout",
     "output_type": "stream",
     "text": [
      "ID GV0819_Pos3_744_RFP\n"
     ]
    },
    {
     "name": "stderr",
     "output_type": "stream",
     "text": [
      "\r",
      " 86%|████████▌ | 393/459 [8:28:00<2:20:14, 127.50s/it]"
     ]
    },
    {
     "name": "stdout",
     "output_type": "stream",
     "text": [
      "ID GV0819_Pos3_746_RFP\n"
     ]
    },
    {
     "name": "stderr",
     "output_type": "stream",
     "text": [
      "\r",
      " 86%|████████▌ | 394/459 [8:29:29<2:05:36, 115.95s/it]"
     ]
    },
    {
     "name": "stdout",
     "output_type": "stream",
     "text": [
      "ID GV0819_Pos3_1087_RFP\n"
     ]
    },
    {
     "name": "stderr",
     "output_type": "stream",
     "text": [
      "\r",
      " 86%|████████▌ | 395/459 [8:30:25<1:44:29, 97.96s/it] "
     ]
    },
    {
     "name": "stdout",
     "output_type": "stream",
     "text": [
      "ID GV0819_Pos3_936_RFP\n"
     ]
    },
    {
     "name": "stderr",
     "output_type": "stream",
     "text": [
      "\r",
      " 86%|████████▋ | 396/459 [8:31:44<1:36:49, 92.21s/it]"
     ]
    },
    {
     "name": "stdout",
     "output_type": "stream",
     "text": [
      "ID GV0819_Pos3_1092_RFP\n"
     ]
    },
    {
     "name": "stderr",
     "output_type": "stream",
     "text": [
      "\r",
      " 86%|████████▋ | 397/459 [8:32:23<1:18:55, 76.37s/it]"
     ]
    },
    {
     "name": "stdout",
     "output_type": "stream",
     "text": [
      "ID GV0819_Pos3_158_RFP\n"
     ]
    },
    {
     "name": "stderr",
     "output_type": "stream",
     "text": [
      "\r",
      " 87%|████████▋ | 398/459 [8:36:12<2:04:11, 122.16s/it]"
     ]
    },
    {
     "name": "stdout",
     "output_type": "stream",
     "text": [
      "ID GV0819_Pos3_887_RFP\n"
     ]
    },
    {
     "name": "stderr",
     "output_type": "stream",
     "text": [
      "\r",
      " 87%|████████▋ | 399/459 [8:37:51<1:55:11, 115.19s/it]"
     ]
    },
    {
     "name": "stdout",
     "output_type": "stream",
     "text": [
      "ID GV0819_Pos3_324_RFP\n"
     ]
    },
    {
     "name": "stderr",
     "output_type": "stream",
     "text": [
      "\r",
      " 87%|████████▋ | 400/459 [8:42:50<2:47:22, 170.21s/it]"
     ]
    },
    {
     "name": "stdout",
     "output_type": "stream",
     "text": [
      "ID GV0819_Pos3_1171_RFP\n"
     ]
    },
    {
     "name": "stderr",
     "output_type": "stream",
     "text": [
      "\r",
      " 87%|████████▋ | 401/459 [8:43:35<2:08:12, 132.64s/it]"
     ]
    },
    {
     "name": "stdout",
     "output_type": "stream",
     "text": [
      "ID GV0819_Pos3_1172_RFP\n"
     ]
    },
    {
     "name": "stderr",
     "output_type": "stream",
     "text": [
      "\r",
      " 88%|████████▊ | 402/459 [8:45:27<2:00:19, 126.66s/it]"
     ]
    },
    {
     "name": "stdout",
     "output_type": "stream",
     "text": [
      "ID GV0819_Pos3_1180_RFP\n"
     ]
    },
    {
     "name": "stderr",
     "output_type": "stream",
     "text": [
      "\r",
      " 88%|████████▊ | 403/459 [8:46:20<1:37:26, 104.40s/it]"
     ]
    },
    {
     "name": "stdout",
     "output_type": "stream",
     "text": [
      "ID GV0819_Pos3_1181_RFP\n"
     ]
    },
    {
     "name": "stderr",
     "output_type": "stream",
     "text": [
      "\r",
      " 88%|████████▊ | 404/459 [8:47:05<1:19:30, 86.73s/it] "
     ]
    },
    {
     "name": "stdout",
     "output_type": "stream",
     "text": [
      "ID GV0819_Pos3_54_RFP\n"
     ]
    },
    {
     "name": "stderr",
     "output_type": "stream",
     "text": [
      "\r",
      " 88%|████████▊ | 405/459 [8:51:19<2:03:09, 136.85s/it]"
     ]
    },
    {
     "name": "stdout",
     "output_type": "stream",
     "text": [
      "ID GV0819_Pos3_1135_RFP\n"
     ]
    },
    {
     "name": "stderr",
     "output_type": "stream",
     "text": [
      "\r",
      " 88%|████████▊ | 406/459 [8:52:10<1:38:11, 111.16s/it]"
     ]
    },
    {
     "name": "stdout",
     "output_type": "stream",
     "text": [
      "ID GV0819_Pos3_702_RFP\n"
     ]
    },
    {
     "name": "stderr",
     "output_type": "stream",
     "text": [
      "\r",
      " 89%|████████▊ | 407/459 [8:54:37<1:45:28, 121.71s/it]"
     ]
    },
    {
     "name": "stdout",
     "output_type": "stream",
     "text": [
      "ID GV0819_Pos3_66_RFP\n"
     ]
    },
    {
     "name": "stderr",
     "output_type": "stream",
     "text": [
      "\r",
      " 89%|████████▉ | 408/459 [9:00:36<2:43:54, 192.83s/it]"
     ]
    },
    {
     "name": "stdout",
     "output_type": "stream",
     "text": [
      "ID GV0819_Pos3_1419_RFP\n"
     ]
    },
    {
     "name": "stderr",
     "output_type": "stream",
     "text": [
      "\r",
      " 89%|████████▉ | 409/459 [9:02:32<2:21:30, 169.81s/it]"
     ]
    },
    {
     "name": "stdout",
     "output_type": "stream",
     "text": [
      "ID GV0819_Pos3_48_RFP\n"
     ]
    },
    {
     "name": "stderr",
     "output_type": "stream",
     "text": [
      "\r",
      " 89%|████████▉ | 410/459 [9:07:35<2:51:26, 209.93s/it]"
     ]
    },
    {
     "name": "stdout",
     "output_type": "stream",
     "text": [
      "ID GV0819_Pos3_17_RFP\n"
     ]
    },
    {
     "name": "stderr",
     "output_type": "stream",
     "text": [
      "\r",
      " 90%|████████▉ | 411/459 [9:12:34<3:09:22, 236.71s/it]"
     ]
    },
    {
     "name": "stdout",
     "output_type": "stream",
     "text": [
      "ID GV0819_Pos3_1099_RFP\n"
     ]
    },
    {
     "name": "stderr",
     "output_type": "stream",
     "text": [
      "\r",
      " 90%|████████▉ | 412/459 [9:14:55<2:42:51, 207.90s/it]"
     ]
    },
    {
     "name": "stdout",
     "output_type": "stream",
     "text": [
      "ID GV0819_Pos3_774_RFP\n"
     ]
    },
    {
     "name": "stderr",
     "output_type": "stream",
     "text": [
      "\r",
      " 90%|████████▉ | 413/459 [9:18:06<2:35:32, 202.89s/it]"
     ]
    },
    {
     "name": "stdout",
     "output_type": "stream",
     "text": [
      "ID GV0819_Pos3_1735_RFP\n"
     ]
    },
    {
     "name": "stderr",
     "output_type": "stream",
     "text": [
      "\r",
      " 90%|█████████ | 414/459 [9:18:57<1:57:56, 157.25s/it]"
     ]
    },
    {
     "name": "stdout",
     "output_type": "stream",
     "text": [
      "ID GV0819_Pos3_494_RFP\n"
     ]
    },
    {
     "name": "stderr",
     "output_type": "stream",
     "text": [
      "\r",
      " 90%|█████████ | 415/459 [9:23:26<2:19:59, 190.89s/it]"
     ]
    },
    {
     "name": "stdout",
     "output_type": "stream",
     "text": [
      "ID GV0819_Pos3_606_RFP\n"
     ]
    },
    {
     "name": "stderr",
     "output_type": "stream",
     "text": [
      "\r",
      " 91%|█████████ | 416/459 [9:27:37<2:29:44, 208.93s/it]"
     ]
    },
    {
     "name": "stdout",
     "output_type": "stream",
     "text": [
      "ID GV0819_Pos3_1659_RFP\n"
     ]
    },
    {
     "name": "stderr",
     "output_type": "stream",
     "text": [
      "\r",
      " 91%|█████████ | 417/459 [9:29:29<2:05:51, 179.80s/it]"
     ]
    },
    {
     "name": "stdout",
     "output_type": "stream",
     "text": [
      "ID GV0819_Pos3_870_RFP\n"
     ]
    },
    {
     "name": "stderr",
     "output_type": "stream",
     "text": [
      "\r",
      " 91%|█████████ | 418/459 [9:33:05<2:10:18, 190.69s/it]"
     ]
    },
    {
     "name": "stdout",
     "output_type": "stream",
     "text": [
      "ID GV0819_Pos3_319_RFP\n"
     ]
    },
    {
     "name": "stderr",
     "output_type": "stream",
     "text": [
      "\r",
      " 91%|█████████▏| 419/459 [9:38:09<2:29:40, 224.52s/it]"
     ]
    },
    {
     "name": "stdout",
     "output_type": "stream",
     "text": [
      "ID GV0819_Pos3_823_RFP\n"
     ]
    },
    {
     "name": "stderr",
     "output_type": "stream",
     "text": [
      " 92%|█████████▏| 420/459 [9:40:33<2:10:16, 200.42s/it][INFO][2021/05/05 03:03:24 AM] Opening HDF file: /home/nathan/data/kraken/h2b/giulia/GV0798/Pos4/Pos4_aligned/HDF/segmented.hdf5...\n",
      "[INFO][2021/05/05 03:03:24 AM] Loading tracks/obj_type_1\n"
     ]
    },
    {
     "name": "stdout",
     "output_type": "stream",
     "text": [
      "ID GV0798_Pos4_27_RFP\n",
      "Loading GV0798/Pos4/\n",
      "Btrack version no.: 0.4.0\n"
     ]
    },
    {
     "name": "stderr",
     "output_type": "stream",
     "text": [
      "[INFO][2021/05/05 03:03:25 AM] Loading objects/obj_type_1 (233782, 5) (224796 filtered: area>=100)\n",
      "[INFO][2021/05/05 03:03:28 AM] Closing HDF file: /home/nathan/data/kraken/h2b/giulia/GV0798/Pos4/Pos4_aligned/HDF/segmented.hdf5\n",
      "[INFO][2021/05/05 03:03:28 AM] Opening HDF file: /home/nathan/data/kraken/h2b/giulia/GV0798/Pos4/Pos4_aligned/HDF/segmented.hdf5...\n",
      "[INFO][2021/05/05 03:03:28 AM] Loading tracks/obj_type_2\n",
      "[INFO][2021/05/05 03:03:28 AM] Loading objects/obj_type_2 (33185, 5) (26688 filtered: area>=100)\n",
      "[INFO][2021/05/05 03:03:28 AM] Closing HDF file: /home/nathan/data/kraken/h2b/giulia/GV0798/Pos4/Pos4_aligned/HDF/segmented.hdf5\n"
     ]
    },
    {
     "name": "stdout",
     "output_type": "stream",
     "text": [
      "Track information loaded and ordered according to cell type (WT IDs >0> Scr IDs)\n",
      "Loaded GV0798/Pos4/\n"
     ]
    },
    {
     "name": "stderr",
     "output_type": "stream",
     "text": [
      "\r",
      " 92%|█████████▏| 421/459 [9:41:16<1:36:56, 153.06s/it]"
     ]
    },
    {
     "name": "stdout",
     "output_type": "stream",
     "text": [
      "ID GV0798_Pos4_22_RFP\n"
     ]
    },
    {
     "name": "stderr",
     "output_type": "stream",
     "text": [
      "\r",
      " 92%|█████████▏| 422/459 [9:41:36<1:09:46, 113.14s/it]"
     ]
    },
    {
     "name": "stdout",
     "output_type": "stream",
     "text": [
      "ID GV0798_Pos4_344_RFP\n"
     ]
    },
    {
     "name": "stderr",
     "output_type": "stream",
     "text": [
      "\r",
      " 92%|█████████▏| 423/459 [9:42:28<56:58, 94.96s/it]   "
     ]
    },
    {
     "name": "stdout",
     "output_type": "stream",
     "text": [
      "ID GV0798_Pos4_253_RFP\n"
     ]
    },
    {
     "name": "stderr",
     "output_type": "stream",
     "text": [
      "\r",
      " 92%|█████████▏| 424/459 [9:43:53<53:38, 91.95s/it]"
     ]
    },
    {
     "name": "stdout",
     "output_type": "stream",
     "text": [
      "ID GV0798_Pos4_302_RFP\n"
     ]
    },
    {
     "name": "stderr",
     "output_type": "stream",
     "text": [
      "\r",
      " 93%|█████████▎| 425/459 [9:45:03<48:19, 85.28s/it]"
     ]
    },
    {
     "name": "stdout",
     "output_type": "stream",
     "text": [
      "ID GV0798_Pos4_255_RFP\n"
     ]
    },
    {
     "name": "stderr",
     "output_type": "stream",
     "text": [
      " 93%|█████████▎| 426/459 [9:46:34<47:57, 87.19s/it][INFO][2021/05/05 03:09:25 AM] Opening HDF file: /home/nathan/data/kraken/h2b/giulia/GV0800/Pos7/Pos7_aligned/HDF/segmented.hdf5...\n",
      "[INFO][2021/05/05 03:09:25 AM] Loading tracks/obj_type_1\n"
     ]
    },
    {
     "name": "stdout",
     "output_type": "stream",
     "text": [
      "ID GV0800_Pos7_7_RFP\n",
      "Loading GV0800/Pos7/\n",
      "Btrack version no.: 0.4.0\n"
     ]
    },
    {
     "name": "stderr",
     "output_type": "stream",
     "text": [
      "[INFO][2021/05/05 03:09:27 AM] Loading objects/obj_type_1 (299894, 5) (277008 filtered: area>=100)\n",
      "[INFO][2021/05/05 03:09:29 AM] Closing HDF file: /home/nathan/data/kraken/h2b/giulia/GV0800/Pos7/Pos7_aligned/HDF/segmented.hdf5\n",
      "[INFO][2021/05/05 03:09:29 AM] Opening HDF file: /home/nathan/data/kraken/h2b/giulia/GV0800/Pos7/Pos7_aligned/HDF/segmented.hdf5...\n",
      "[INFO][2021/05/05 03:09:29 AM] Loading tracks/obj_type_2\n",
      "[INFO][2021/05/05 03:09:29 AM] Loading objects/obj_type_2 (53124, 5) (43280 filtered: area>=100)\n",
      "[INFO][2021/05/05 03:09:30 AM] Closing HDF file: /home/nathan/data/kraken/h2b/giulia/GV0800/Pos7/Pos7_aligned/HDF/segmented.hdf5\n"
     ]
    },
    {
     "name": "stdout",
     "output_type": "stream",
     "text": [
      "Track information loaded and ordered according to cell type (WT IDs >0> Scr IDs)\n",
      "Loaded GV0800/Pos7/\n"
     ]
    },
    {
     "name": "stderr",
     "output_type": "stream",
     "text": [
      "\r",
      " 93%|█████████▎| 427/459 [9:46:57<36:06, 67.71s/it]"
     ]
    },
    {
     "name": "stdout",
     "output_type": "stream",
     "text": [
      "ID GV0800_Pos7_27_RFP\n"
     ]
    },
    {
     "name": "stderr",
     "output_type": "stream",
     "text": [
      "\r",
      " 93%|█████████▎| 428/459 [9:47:16<27:29, 53.22s/it]"
     ]
    },
    {
     "name": "stdout",
     "output_type": "stream",
     "text": [
      "ID GV0800_Pos7_52_RFP\n"
     ]
    },
    {
     "name": "stderr",
     "output_type": "stream",
     "text": [
      "\r",
      " 93%|█████████▎| 429/459 [9:48:25<28:55, 57.86s/it]"
     ]
    },
    {
     "name": "stdout",
     "output_type": "stream",
     "text": [
      "ID GV0800_Pos7_165_RFP\n"
     ]
    },
    {
     "name": "stderr",
     "output_type": "stream",
     "text": [
      "\r",
      " 94%|█████████▎| 430/459 [9:48:43<22:16, 46.07s/it]"
     ]
    },
    {
     "name": "stdout",
     "output_type": "stream",
     "text": [
      "ID GV0800_Pos7_29_RFP\n"
     ]
    },
    {
     "name": "stderr",
     "output_type": "stream",
     "text": [
      "\r",
      " 94%|█████████▍| 431/459 [9:50:03<26:16, 56.30s/it]"
     ]
    },
    {
     "name": "stdout",
     "output_type": "stream",
     "text": [
      "ID GV0800_Pos7_368_RFP\n"
     ]
    },
    {
     "name": "stderr",
     "output_type": "stream",
     "text": [
      "\r",
      " 94%|█████████▍| 432/459 [9:50:21<20:09, 44.80s/it]"
     ]
    },
    {
     "name": "stdout",
     "output_type": "stream",
     "text": [
      "ID GV0800_Pos7_393_RFP\n"
     ]
    },
    {
     "name": "stderr",
     "output_type": "stream",
     "text": [
      "\r",
      " 94%|█████████▍| 433/459 [9:51:35<23:08, 53.42s/it]"
     ]
    },
    {
     "name": "stdout",
     "output_type": "stream",
     "text": [
      "ID GV0800_Pos7_392_RFP\n"
     ]
    },
    {
     "name": "stderr",
     "output_type": "stream",
     "text": [
      "\r",
      " 95%|█████████▍| 434/459 [9:52:49<24:48, 59.55s/it]"
     ]
    },
    {
     "name": "stdout",
     "output_type": "stream",
     "text": [
      "ID GV0800_Pos7_456_RFP\n"
     ]
    },
    {
     "name": "stderr",
     "output_type": "stream",
     "text": [
      "\r",
      " 95%|█████████▍| 435/459 [9:54:13<26:48, 67.04s/it]"
     ]
    },
    {
     "name": "stdout",
     "output_type": "stream",
     "text": [
      "ID GV0800_Pos7_440_RFP\n"
     ]
    },
    {
     "name": "stderr",
     "output_type": "stream",
     "text": [
      "\r",
      " 95%|█████████▍| 436/459 [9:54:54<22:43, 59.26s/it]"
     ]
    },
    {
     "name": "stdout",
     "output_type": "stream",
     "text": [
      "ID GV0800_Pos7_14_RFP\n"
     ]
    },
    {
     "name": "stderr",
     "output_type": "stream",
     "text": [
      "\r",
      " 95%|█████████▌| 437/459 [9:57:25<31:45, 86.60s/it]"
     ]
    },
    {
     "name": "stdout",
     "output_type": "stream",
     "text": [
      "ID GV0800_Pos7_299_RFP\n"
     ]
    },
    {
     "name": "stderr",
     "output_type": "stream",
     "text": [
      "\r",
      " 95%|█████████▌| 438/459 [9:58:48<29:55, 85.52s/it]"
     ]
    },
    {
     "name": "stdout",
     "output_type": "stream",
     "text": [
      "ID GV0800_Pos7_297_RFP\n"
     ]
    },
    {
     "name": "stderr",
     "output_type": "stream",
     "text": [
      "\r",
      " 96%|█████████▌| 439/459 [10:00:18<28:56, 86.83s/it]"
     ]
    },
    {
     "name": "stdout",
     "output_type": "stream",
     "text": [
      "ID GV0800_Pos7_279_RFP\n"
     ]
    },
    {
     "name": "stderr",
     "output_type": "stream",
     "text": [
      "\r",
      " 96%|█████████▌| 440/459 [10:03:11<35:40, 112.64s/it]"
     ]
    },
    {
     "name": "stdout",
     "output_type": "stream",
     "text": [
      "ID GV0800_Pos7_16_RFP\n"
     ]
    },
    {
     "name": "stderr",
     "output_type": "stream",
     "text": [
      "\r",
      " 96%|█████████▌| 441/459 [10:07:00<44:19, 147.72s/it]"
     ]
    },
    {
     "name": "stdout",
     "output_type": "stream",
     "text": [
      "ID GV0800_Pos7_361_RFP\n"
     ]
    },
    {
     "name": "stderr",
     "output_type": "stream",
     "text": [
      "\r",
      " 96%|█████████▋| 442/459 [10:08:34<37:15, 131.50s/it]"
     ]
    },
    {
     "name": "stdout",
     "output_type": "stream",
     "text": [
      "ID GV0800_Pos7_373_RFP\n"
     ]
    },
    {
     "name": "stderr",
     "output_type": "stream",
     "text": [
      "\r",
      " 97%|█████████▋| 443/459 [10:10:13<32:29, 121.87s/it]"
     ]
    },
    {
     "name": "stdout",
     "output_type": "stream",
     "text": [
      "ID GV0800_Pos7_190_RFP\n"
     ]
    },
    {
     "name": "stderr",
     "output_type": "stream",
     "text": [
      "\r",
      " 97%|█████████▋| 444/459 [10:13:18<35:11, 140.79s/it]"
     ]
    },
    {
     "name": "stdout",
     "output_type": "stream",
     "text": [
      "ID GV0800_Pos7_598_RFP\n"
     ]
    },
    {
     "name": "stderr",
     "output_type": "stream",
     "text": [
      "\r",
      " 97%|█████████▋| 445/459 [10:14:37<28:29, 122.09s/it]"
     ]
    },
    {
     "name": "stdout",
     "output_type": "stream",
     "text": [
      "ID GV0800_Pos7_667_RFP\n"
     ]
    },
    {
     "name": "stderr",
     "output_type": "stream",
     "text": [
      "\r",
      " 97%|█████████▋| 446/459 [10:15:07<20:28, 94.50s/it] "
     ]
    },
    {
     "name": "stdout",
     "output_type": "stream",
     "text": [
      "ID GV0800_Pos7_669_RFP\n"
     ]
    },
    {
     "name": "stderr",
     "output_type": "stream",
     "text": [
      " 97%|█████████▋| 447/459 [10:15:36<15:00, 75.05s/it][INFO][2021/05/05 03:38:27 AM] Opening HDF file: /home/nathan/data/kraken/h2b/giulia/GV0813/Pos1/Pos1_aligned/HDF/segmented.hdf5...\n",
      "[INFO][2021/05/05 03:38:27 AM] Loading tracks/obj_type_1\n"
     ]
    },
    {
     "name": "stdout",
     "output_type": "stream",
     "text": [
      "ID GV0813_Pos1_92_RFP\n",
      "Loading GV0813/Pos1/\n",
      "Btrack version no.: 0.4.0\n"
     ]
    },
    {
     "name": "stderr",
     "output_type": "stream",
     "text": [
      "[INFO][2021/05/05 03:38:28 AM] Loading objects/obj_type_1 (149696, 5) (120384 filtered: area>=100)\n",
      "[INFO][2021/05/05 03:38:29 AM] Closing HDF file: /home/nathan/data/kraken/h2b/giulia/GV0813/Pos1/Pos1_aligned/HDF/segmented.hdf5\n",
      "[INFO][2021/05/05 03:38:29 AM] Opening HDF file: /home/nathan/data/kraken/h2b/giulia/GV0813/Pos1/Pos1_aligned/HDF/segmented.hdf5...\n",
      "[INFO][2021/05/05 03:38:29 AM] Loading tracks/obj_type_2\n",
      "[INFO][2021/05/05 03:38:29 AM] Loading objects/obj_type_2 (30851, 5) (22174 filtered: area>=100)\n",
      "[INFO][2021/05/05 03:38:30 AM] Closing HDF file: /home/nathan/data/kraken/h2b/giulia/GV0813/Pos1/Pos1_aligned/HDF/segmented.hdf5\n"
     ]
    },
    {
     "name": "stdout",
     "output_type": "stream",
     "text": [
      "Track information loaded and ordered according to cell type (WT IDs >0> Scr IDs)\n",
      "Loaded GV0813/Pos1/\n"
     ]
    },
    {
     "name": "stderr",
     "output_type": "stream",
     "text": [
      "\r",
      " 98%|█████████▊| 448/459 [10:15:54<10:35, 57.80s/it]"
     ]
    },
    {
     "name": "stdout",
     "output_type": "stream",
     "text": [
      "ID GV0813_Pos1_1_RFP\n"
     ]
    },
    {
     "name": "stderr",
     "output_type": "stream",
     "text": [
      "\r",
      " 98%|█████████▊| 449/459 [10:16:50<09:32, 57.25s/it]"
     ]
    },
    {
     "name": "stdout",
     "output_type": "stream",
     "text": [
      "ID GV0813_Pos1_2_RFP\n"
     ]
    },
    {
     "name": "stderr",
     "output_type": "stream",
     "text": [
      "\r",
      " 98%|█████████▊| 450/459 [10:17:55<08:55, 59.49s/it]"
     ]
    },
    {
     "name": "stdout",
     "output_type": "stream",
     "text": [
      "ID GV0813_Pos1_386_RFP\n"
     ]
    },
    {
     "name": "stderr",
     "output_type": "stream",
     "text": [
      "\r",
      " 98%|█████████▊| 451/459 [10:18:26<06:49, 51.17s/it]"
     ]
    },
    {
     "name": "stdout",
     "output_type": "stream",
     "text": [
      "ID GV0813_Pos1_335_RFP\n"
     ]
    },
    {
     "name": "stderr",
     "output_type": "stream",
     "text": [
      "\r",
      " 98%|█████████▊| 452/459 [10:19:04<05:30, 47.25s/it]"
     ]
    },
    {
     "name": "stdout",
     "output_type": "stream",
     "text": [
      "ID GV0813_Pos1_170_RFP\n"
     ]
    },
    {
     "name": "stderr",
     "output_type": "stream",
     "text": [
      "\r",
      " 99%|█████████▊| 453/459 [10:20:07<05:11, 51.86s/it]"
     ]
    },
    {
     "name": "stdout",
     "output_type": "stream",
     "text": [
      "ID GV0813_Pos1_185_RFP\n"
     ]
    },
    {
     "name": "stderr",
     "output_type": "stream",
     "text": [
      "\r",
      " 99%|█████████▉| 454/459 [10:21:21<04:51, 58.37s/it]"
     ]
    },
    {
     "name": "stdout",
     "output_type": "stream",
     "text": [
      "ID GV0813_Pos1_184_RFP\n"
     ]
    },
    {
     "name": "stderr",
     "output_type": "stream",
     "text": [
      "\r",
      " 99%|█████████▉| 455/459 [10:23:17<05:02, 75.67s/it]"
     ]
    },
    {
     "name": "stdout",
     "output_type": "stream",
     "text": [
      "ID GV0813_Pos1_271_RFP\n"
     ]
    },
    {
     "name": "stderr",
     "output_type": "stream",
     "text": [
      "\r",
      " 99%|█████████▉| 456/459 [10:24:43<03:56, 78.89s/it]"
     ]
    },
    {
     "name": "stdout",
     "output_type": "stream",
     "text": [
      "ID GV0813_Pos1_300_RFP\n"
     ]
    },
    {
     "name": "stderr",
     "output_type": "stream",
     "text": [
      "\r",
      "100%|█████████▉| 457/459 [10:26:10<02:42, 81.27s/it]"
     ]
    },
    {
     "name": "stdout",
     "output_type": "stream",
     "text": [
      "ID GV0813_Pos1_510_RFP\n"
     ]
    },
    {
     "name": "stderr",
     "output_type": "stream",
     "text": [
      "\r",
      "100%|█████████▉| 458/459 [10:26:57<01:11, 71.13s/it]"
     ]
    },
    {
     "name": "stdout",
     "output_type": "stream",
     "text": [
      "ID GV0813_Pos1_325_RFP\n"
     ]
    },
    {
     "name": "stderr",
     "output_type": "stream",
     "text": [
      "100%|██████████| 459/459 [10:28:18<00:00, 82.13s/it]\n"
     ]
    }
   ],
   "source": [
    "N_cells, error_log, success_log = calculate.iterative_heatmap_generator(\n",
    "    'WT', ## 'Scr',\n",
    "    'DIVIDE', \n",
    "    apop_dict, \n",
    "    hdf5_file_list, \n",
    "    radius, \n",
    "    t_range, \n",
    "    num_bins, \n",
    "    output_path)"
   ]
  },
  {
   "cell_type": "code",
   "execution_count": 6,
   "metadata": {},
   "outputs": [
    {
     "data": {
      "text/plain": [
       "459"
      ]
     },
     "execution_count": 6,
     "metadata": {},
     "output_type": "execute_result"
    }
   ],
   "source": [
    "N_cells ## scope of analysis (number of apoptoses scanned around)"
   ]
  },
  {
   "cell_type": "code",
   "execution_count": 7,
   "metadata": {},
   "outputs": [
    {
     "data": {
      "text/plain": [
       "0"
      ]
     },
     "execution_count": 7,
     "metadata": {},
     "output_type": "execute_result"
    }
   ],
   "source": [
    "len(error_log)"
   ]
  },
  {
   "cell_type": "code",
   "execution_count": 8,
   "metadata": {
    "scrolled": true
   },
   "outputs": [
    {
     "data": {
      "text/plain": [
       "([],\n",
       " ['/home/nathan/data/kraken/h2b/giulia/radial_analysis_output/follow/individual_spatiotemporal_heatmaps/400.400.10/scr_apop_wt_div/GV0797_Pos21_78_RFP_N_cells / /home/nathan/data/kraken/h2b/giulia/radial_analysis_output/follow/individual_spatiotemporal_heatmaps/400.400.10/scr_apop_wt_div/GV0797_Pos21_78_RFP_N_events saved out successfully',\n",
       "  '/home/nathan/data/kraken/h2b/giulia/radial_analysis_output/follow/individual_spatiotemporal_heatmaps/400.400.10/scr_apop_wt_div/GV0797_Pos21_54_RFP_N_cells / /home/nathan/data/kraken/h2b/giulia/radial_analysis_output/follow/individual_spatiotemporal_heatmaps/400.400.10/scr_apop_wt_div/GV0797_Pos21_54_RFP_N_events saved out successfully',\n",
       "  '/home/nathan/data/kraken/h2b/giulia/radial_analysis_output/follow/individual_spatiotemporal_heatmaps/400.400.10/scr_apop_wt_div/GV0797_Pos21_55_RFP_N_cells / /home/nathan/data/kraken/h2b/giulia/radial_analysis_output/follow/individual_spatiotemporal_heatmaps/400.400.10/scr_apop_wt_div/GV0797_Pos21_55_RFP_N_events saved out successfully',\n",
       "  '/home/nathan/data/kraken/h2b/giulia/radial_analysis_output/follow/individual_spatiotemporal_heatmaps/400.400.10/scr_apop_wt_div/GV0797_Pos21_83_RFP_N_cells / /home/nathan/data/kraken/h2b/giulia/radial_analysis_output/follow/individual_spatiotemporal_heatmaps/400.400.10/scr_apop_wt_div/GV0797_Pos21_83_RFP_N_events saved out successfully',\n",
       "  '/home/nathan/data/kraken/h2b/giulia/radial_analysis_output/follow/individual_spatiotemporal_heatmaps/400.400.10/scr_apop_wt_div/GV0797_Pos21_302_RFP_N_cells / /home/nathan/data/kraken/h2b/giulia/radial_analysis_output/follow/individual_spatiotemporal_heatmaps/400.400.10/scr_apop_wt_div/GV0797_Pos21_302_RFP_N_events saved out successfully',\n",
       "  '/home/nathan/data/kraken/h2b/giulia/radial_analysis_output/follow/individual_spatiotemporal_heatmaps/400.400.10/scr_apop_wt_div/GV0797_Pos21_22_RFP_N_cells / /home/nathan/data/kraken/h2b/giulia/radial_analysis_output/follow/individual_spatiotemporal_heatmaps/400.400.10/scr_apop_wt_div/GV0797_Pos21_22_RFP_N_events saved out successfully',\n",
       "  '/home/nathan/data/kraken/h2b/giulia/radial_analysis_output/follow/individual_spatiotemporal_heatmaps/400.400.10/scr_apop_wt_div/GV0797_Pos21_335_RFP_N_cells / /home/nathan/data/kraken/h2b/giulia/radial_analysis_output/follow/individual_spatiotemporal_heatmaps/400.400.10/scr_apop_wt_div/GV0797_Pos21_335_RFP_N_events saved out successfully',\n",
       "  '/home/nathan/data/kraken/h2b/giulia/radial_analysis_output/follow/individual_spatiotemporal_heatmaps/400.400.10/scr_apop_wt_div/GV0797_Pos21_334_RFP_N_cells / /home/nathan/data/kraken/h2b/giulia/radial_analysis_output/follow/individual_spatiotemporal_heatmaps/400.400.10/scr_apop_wt_div/GV0797_Pos21_334_RFP_N_events saved out successfully',\n",
       "  '/home/nathan/data/kraken/h2b/giulia/radial_analysis_output/follow/individual_spatiotemporal_heatmaps/400.400.10/scr_apop_wt_div/GV0797_Pos21_35_RFP_N_cells / /home/nathan/data/kraken/h2b/giulia/radial_analysis_output/follow/individual_spatiotemporal_heatmaps/400.400.10/scr_apop_wt_div/GV0797_Pos21_35_RFP_N_events saved out successfully',\n",
       "  '/home/nathan/data/kraken/h2b/giulia/radial_analysis_output/follow/individual_spatiotemporal_heatmaps/400.400.10/scr_apop_wt_div/GV0816_Pos0_406_RFP_N_cells / /home/nathan/data/kraken/h2b/giulia/radial_analysis_output/follow/individual_spatiotemporal_heatmaps/400.400.10/scr_apop_wt_div/GV0816_Pos0_406_RFP_N_events saved out successfully',\n",
       "  '/home/nathan/data/kraken/h2b/giulia/radial_analysis_output/follow/individual_spatiotemporal_heatmaps/400.400.10/scr_apop_wt_div/GV0816_Pos0_351_RFP_N_cells / /home/nathan/data/kraken/h2b/giulia/radial_analysis_output/follow/individual_spatiotemporal_heatmaps/400.400.10/scr_apop_wt_div/GV0816_Pos0_351_RFP_N_events saved out successfully',\n",
       "  '/home/nathan/data/kraken/h2b/giulia/radial_analysis_output/follow/individual_spatiotemporal_heatmaps/400.400.10/scr_apop_wt_div/GV0816_Pos0_374_RFP_N_cells / /home/nathan/data/kraken/h2b/giulia/radial_analysis_output/follow/individual_spatiotemporal_heatmaps/400.400.10/scr_apop_wt_div/GV0816_Pos0_374_RFP_N_events saved out successfully',\n",
       "  '/home/nathan/data/kraken/h2b/giulia/radial_analysis_output/follow/individual_spatiotemporal_heatmaps/400.400.10/scr_apop_wt_div/GV0816_Pos0_526_RFP_N_cells / /home/nathan/data/kraken/h2b/giulia/radial_analysis_output/follow/individual_spatiotemporal_heatmaps/400.400.10/scr_apop_wt_div/GV0816_Pos0_526_RFP_N_events saved out successfully',\n",
       "  '/home/nathan/data/kraken/h2b/giulia/radial_analysis_output/follow/individual_spatiotemporal_heatmaps/400.400.10/scr_apop_wt_div/GV0816_Pos0_343_RFP_N_cells / /home/nathan/data/kraken/h2b/giulia/radial_analysis_output/follow/individual_spatiotemporal_heatmaps/400.400.10/scr_apop_wt_div/GV0816_Pos0_343_RFP_N_events saved out successfully',\n",
       "  '/home/nathan/data/kraken/h2b/giulia/radial_analysis_output/follow/individual_spatiotemporal_heatmaps/400.400.10/scr_apop_wt_div/GV0800_Pos8_9_RFP_N_cells / /home/nathan/data/kraken/h2b/giulia/radial_analysis_output/follow/individual_spatiotemporal_heatmaps/400.400.10/scr_apop_wt_div/GV0800_Pos8_9_RFP_N_events saved out successfully',\n",
       "  '/home/nathan/data/kraken/h2b/giulia/radial_analysis_output/follow/individual_spatiotemporal_heatmaps/400.400.10/scr_apop_wt_div/GV0800_Pos8_74_RFP_N_cells / /home/nathan/data/kraken/h2b/giulia/radial_analysis_output/follow/individual_spatiotemporal_heatmaps/400.400.10/scr_apop_wt_div/GV0800_Pos8_74_RFP_N_events saved out successfully',\n",
       "  '/home/nathan/data/kraken/h2b/giulia/radial_analysis_output/follow/individual_spatiotemporal_heatmaps/400.400.10/scr_apop_wt_div/GV0800_Pos8_75_RFP_N_cells / /home/nathan/data/kraken/h2b/giulia/radial_analysis_output/follow/individual_spatiotemporal_heatmaps/400.400.10/scr_apop_wt_div/GV0800_Pos8_75_RFP_N_events saved out successfully',\n",
       "  '/home/nathan/data/kraken/h2b/giulia/radial_analysis_output/follow/individual_spatiotemporal_heatmaps/400.400.10/scr_apop_wt_div/GV0800_Pos8_118_RFP_N_cells / /home/nathan/data/kraken/h2b/giulia/radial_analysis_output/follow/individual_spatiotemporal_heatmaps/400.400.10/scr_apop_wt_div/GV0800_Pos8_118_RFP_N_events saved out successfully',\n",
       "  '/home/nathan/data/kraken/h2b/giulia/radial_analysis_output/follow/individual_spatiotemporal_heatmaps/400.400.10/scr_apop_wt_div/GV0800_Pos8_160_RFP_N_cells / /home/nathan/data/kraken/h2b/giulia/radial_analysis_output/follow/individual_spatiotemporal_heatmaps/400.400.10/scr_apop_wt_div/GV0800_Pos8_160_RFP_N_events saved out successfully',\n",
       "  '/home/nathan/data/kraken/h2b/giulia/radial_analysis_output/follow/individual_spatiotemporal_heatmaps/400.400.10/scr_apop_wt_div/GV0800_Pos8_162_RFP_N_cells / /home/nathan/data/kraken/h2b/giulia/radial_analysis_output/follow/individual_spatiotemporal_heatmaps/400.400.10/scr_apop_wt_div/GV0800_Pos8_162_RFP_N_events saved out successfully',\n",
       "  '/home/nathan/data/kraken/h2b/giulia/radial_analysis_output/follow/individual_spatiotemporal_heatmaps/400.400.10/scr_apop_wt_div/GV0796_Pos21_13_RFP_N_cells / /home/nathan/data/kraken/h2b/giulia/radial_analysis_output/follow/individual_spatiotemporal_heatmaps/400.400.10/scr_apop_wt_div/GV0796_Pos21_13_RFP_N_events saved out successfully',\n",
       "  '/home/nathan/data/kraken/h2b/giulia/radial_analysis_output/follow/individual_spatiotemporal_heatmaps/400.400.10/scr_apop_wt_div/GV0796_Pos21_16_RFP_N_cells / /home/nathan/data/kraken/h2b/giulia/radial_analysis_output/follow/individual_spatiotemporal_heatmaps/400.400.10/scr_apop_wt_div/GV0796_Pos21_16_RFP_N_events saved out successfully',\n",
       "  '/home/nathan/data/kraken/h2b/giulia/radial_analysis_output/follow/individual_spatiotemporal_heatmaps/400.400.10/scr_apop_wt_div/GV0796_Pos21_30_RFP_N_cells / /home/nathan/data/kraken/h2b/giulia/radial_analysis_output/follow/individual_spatiotemporal_heatmaps/400.400.10/scr_apop_wt_div/GV0796_Pos21_30_RFP_N_events saved out successfully',\n",
       "  '/home/nathan/data/kraken/h2b/giulia/radial_analysis_output/follow/individual_spatiotemporal_heatmaps/400.400.10/scr_apop_wt_div/GV0796_Pos21_23_RFP_N_cells / /home/nathan/data/kraken/h2b/giulia/radial_analysis_output/follow/individual_spatiotemporal_heatmaps/400.400.10/scr_apop_wt_div/GV0796_Pos21_23_RFP_N_events saved out successfully',\n",
       "  '/home/nathan/data/kraken/h2b/giulia/radial_analysis_output/follow/individual_spatiotemporal_heatmaps/400.400.10/scr_apop_wt_div/GV0796_Pos21_14_RFP_N_cells / /home/nathan/data/kraken/h2b/giulia/radial_analysis_output/follow/individual_spatiotemporal_heatmaps/400.400.10/scr_apop_wt_div/GV0796_Pos21_14_RFP_N_events saved out successfully',\n",
       "  '/home/nathan/data/kraken/h2b/giulia/radial_analysis_output/follow/individual_spatiotemporal_heatmaps/400.400.10/scr_apop_wt_div/GV0796_Pos21_230_RFP_N_cells / /home/nathan/data/kraken/h2b/giulia/radial_analysis_output/follow/individual_spatiotemporal_heatmaps/400.400.10/scr_apop_wt_div/GV0796_Pos21_230_RFP_N_events saved out successfully',\n",
       "  '/home/nathan/data/kraken/h2b/giulia/radial_analysis_output/follow/individual_spatiotemporal_heatmaps/400.400.10/scr_apop_wt_div/GV0796_Pos21_314_RFP_N_cells / /home/nathan/data/kraken/h2b/giulia/radial_analysis_output/follow/individual_spatiotemporal_heatmaps/400.400.10/scr_apop_wt_div/GV0796_Pos21_314_RFP_N_events saved out successfully',\n",
       "  '/home/nathan/data/kraken/h2b/giulia/radial_analysis_output/follow/individual_spatiotemporal_heatmaps/400.400.10/scr_apop_wt_div/GV0796_Pos21_252_RFP_N_cells / /home/nathan/data/kraken/h2b/giulia/radial_analysis_output/follow/individual_spatiotemporal_heatmaps/400.400.10/scr_apop_wt_div/GV0796_Pos21_252_RFP_N_events saved out successfully',\n",
       "  '/home/nathan/data/kraken/h2b/giulia/radial_analysis_output/follow/individual_spatiotemporal_heatmaps/400.400.10/scr_apop_wt_div/GV0796_Pos21_282_RFP_N_cells / /home/nathan/data/kraken/h2b/giulia/radial_analysis_output/follow/individual_spatiotemporal_heatmaps/400.400.10/scr_apop_wt_div/GV0796_Pos21_282_RFP_N_events saved out successfully',\n",
       "  '/home/nathan/data/kraken/h2b/giulia/radial_analysis_output/follow/individual_spatiotemporal_heatmaps/400.400.10/scr_apop_wt_div/GV0796_Pos21_18_RFP_N_cells / /home/nathan/data/kraken/h2b/giulia/radial_analysis_output/follow/individual_spatiotemporal_heatmaps/400.400.10/scr_apop_wt_div/GV0796_Pos21_18_RFP_N_events saved out successfully',\n",
       "  '/home/nathan/data/kraken/h2b/giulia/radial_analysis_output/follow/individual_spatiotemporal_heatmaps/400.400.10/scr_apop_wt_div/GV0796_Pos21_676_RFP_N_cells / /home/nathan/data/kraken/h2b/giulia/radial_analysis_output/follow/individual_spatiotemporal_heatmaps/400.400.10/scr_apop_wt_div/GV0796_Pos21_676_RFP_N_events saved out successfully',\n",
       "  '/home/nathan/data/kraken/h2b/giulia/radial_analysis_output/follow/individual_spatiotemporal_heatmaps/400.400.10/scr_apop_wt_div/GV0796_Pos21_675_RFP_N_cells / /home/nathan/data/kraken/h2b/giulia/radial_analysis_output/follow/individual_spatiotemporal_heatmaps/400.400.10/scr_apop_wt_div/GV0796_Pos21_675_RFP_N_events saved out successfully',\n",
       "  '/home/nathan/data/kraken/h2b/giulia/radial_analysis_output/follow/individual_spatiotemporal_heatmaps/400.400.10/scr_apop_wt_div/GV0796_Pos21_336_RFP_N_cells / /home/nathan/data/kraken/h2b/giulia/radial_analysis_output/follow/individual_spatiotemporal_heatmaps/400.400.10/scr_apop_wt_div/GV0796_Pos21_336_RFP_N_events saved out successfully',\n",
       "  '/home/nathan/data/kraken/h2b/giulia/radial_analysis_output/follow/individual_spatiotemporal_heatmaps/400.400.10/scr_apop_wt_div/GV0796_Pos21_339_RFP_N_cells / /home/nathan/data/kraken/h2b/giulia/radial_analysis_output/follow/individual_spatiotemporal_heatmaps/400.400.10/scr_apop_wt_div/GV0796_Pos21_339_RFP_N_events saved out successfully',\n",
       "  '/home/nathan/data/kraken/h2b/giulia/radial_analysis_output/follow/individual_spatiotemporal_heatmaps/400.400.10/scr_apop_wt_div/GV0796_Pos21_406_RFP_N_cells / /home/nathan/data/kraken/h2b/giulia/radial_analysis_output/follow/individual_spatiotemporal_heatmaps/400.400.10/scr_apop_wt_div/GV0796_Pos21_406_RFP_N_events saved out successfully',\n",
       "  '/home/nathan/data/kraken/h2b/giulia/radial_analysis_output/follow/individual_spatiotemporal_heatmaps/400.400.10/scr_apop_wt_div/GV0796_Pos21_697_RFP_N_cells / /home/nathan/data/kraken/h2b/giulia/radial_analysis_output/follow/individual_spatiotemporal_heatmaps/400.400.10/scr_apop_wt_div/GV0796_Pos21_697_RFP_N_events saved out successfully',\n",
       "  '/home/nathan/data/kraken/h2b/giulia/radial_analysis_output/follow/individual_spatiotemporal_heatmaps/400.400.10/scr_apop_wt_div/GV0796_Pos21_425_RFP_N_cells / /home/nathan/data/kraken/h2b/giulia/radial_analysis_output/follow/individual_spatiotemporal_heatmaps/400.400.10/scr_apop_wt_div/GV0796_Pos21_425_RFP_N_events saved out successfully',\n",
       "  '/home/nathan/data/kraken/h2b/giulia/radial_analysis_output/follow/individual_spatiotemporal_heatmaps/400.400.10/scr_apop_wt_div/GV0796_Pos21_702_RFP_N_cells / /home/nathan/data/kraken/h2b/giulia/radial_analysis_output/follow/individual_spatiotemporal_heatmaps/400.400.10/scr_apop_wt_div/GV0796_Pos21_702_RFP_N_events saved out successfully',\n",
       "  '/home/nathan/data/kraken/h2b/giulia/radial_analysis_output/follow/individual_spatiotemporal_heatmaps/400.400.10/scr_apop_wt_div/GV0796_Pos21_257_RFP_N_cells / /home/nathan/data/kraken/h2b/giulia/radial_analysis_output/follow/individual_spatiotemporal_heatmaps/400.400.10/scr_apop_wt_div/GV0796_Pos21_257_RFP_N_events saved out successfully',\n",
       "  '/home/nathan/data/kraken/h2b/giulia/radial_analysis_output/follow/individual_spatiotemporal_heatmaps/400.400.10/scr_apop_wt_div/GV0796_Pos21_312_RFP_N_cells / /home/nathan/data/kraken/h2b/giulia/radial_analysis_output/follow/individual_spatiotemporal_heatmaps/400.400.10/scr_apop_wt_div/GV0796_Pos21_312_RFP_N_events saved out successfully',\n",
       "  '/home/nathan/data/kraken/h2b/giulia/radial_analysis_output/follow/individual_spatiotemporal_heatmaps/400.400.10/scr_apop_wt_div/GV0796_Pos21_388_RFP_N_cells / /home/nathan/data/kraken/h2b/giulia/radial_analysis_output/follow/individual_spatiotemporal_heatmaps/400.400.10/scr_apop_wt_div/GV0796_Pos21_388_RFP_N_events saved out successfully',\n",
       "  '/home/nathan/data/kraken/h2b/giulia/radial_analysis_output/follow/individual_spatiotemporal_heatmaps/400.400.10/scr_apop_wt_div/GV0796_Pos21_646_RFP_N_cells / /home/nathan/data/kraken/h2b/giulia/radial_analysis_output/follow/individual_spatiotemporal_heatmaps/400.400.10/scr_apop_wt_div/GV0796_Pos21_646_RFP_N_events saved out successfully',\n",
       "  '/home/nathan/data/kraken/h2b/giulia/radial_analysis_output/follow/individual_spatiotemporal_heatmaps/400.400.10/scr_apop_wt_div/GV0796_Pos21_665_RFP_N_cells / /home/nathan/data/kraken/h2b/giulia/radial_analysis_output/follow/individual_spatiotemporal_heatmaps/400.400.10/scr_apop_wt_div/GV0796_Pos21_665_RFP_N_events saved out successfully',\n",
       "  '/home/nathan/data/kraken/h2b/giulia/radial_analysis_output/follow/individual_spatiotemporal_heatmaps/400.400.10/scr_apop_wt_div/GV0796_Pos21_405_RFP_N_cells / /home/nathan/data/kraken/h2b/giulia/radial_analysis_output/follow/individual_spatiotemporal_heatmaps/400.400.10/scr_apop_wt_div/GV0796_Pos21_405_RFP_N_events saved out successfully',\n",
       "  '/home/nathan/data/kraken/h2b/giulia/radial_analysis_output/follow/individual_spatiotemporal_heatmaps/400.400.10/scr_apop_wt_div/GV0795_Pos8_5_RFP_N_cells / /home/nathan/data/kraken/h2b/giulia/radial_analysis_output/follow/individual_spatiotemporal_heatmaps/400.400.10/scr_apop_wt_div/GV0795_Pos8_5_RFP_N_events saved out successfully',\n",
       "  '/home/nathan/data/kraken/h2b/giulia/radial_analysis_output/follow/individual_spatiotemporal_heatmaps/400.400.10/scr_apop_wt_div/GV0795_Pos8_3_RFP_N_cells / /home/nathan/data/kraken/h2b/giulia/radial_analysis_output/follow/individual_spatiotemporal_heatmaps/400.400.10/scr_apop_wt_div/GV0795_Pos8_3_RFP_N_events saved out successfully',\n",
       "  '/home/nathan/data/kraken/h2b/giulia/radial_analysis_output/follow/individual_spatiotemporal_heatmaps/400.400.10/scr_apop_wt_div/GV0795_Pos8_1_RFP_N_cells / /home/nathan/data/kraken/h2b/giulia/radial_analysis_output/follow/individual_spatiotemporal_heatmaps/400.400.10/scr_apop_wt_div/GV0795_Pos8_1_RFP_N_events saved out successfully',\n",
       "  '/home/nathan/data/kraken/h2b/giulia/radial_analysis_output/follow/individual_spatiotemporal_heatmaps/400.400.10/scr_apop_wt_div/GV0795_Pos8_144_RFP_N_cells / /home/nathan/data/kraken/h2b/giulia/radial_analysis_output/follow/individual_spatiotemporal_heatmaps/400.400.10/scr_apop_wt_div/GV0795_Pos8_144_RFP_N_events saved out successfully',\n",
       "  '/home/nathan/data/kraken/h2b/giulia/radial_analysis_output/follow/individual_spatiotemporal_heatmaps/400.400.10/scr_apop_wt_div/GV0795_Pos8_234_RFP_N_cells / /home/nathan/data/kraken/h2b/giulia/radial_analysis_output/follow/individual_spatiotemporal_heatmaps/400.400.10/scr_apop_wt_div/GV0795_Pos8_234_RFP_N_events saved out successfully',\n",
       "  '/home/nathan/data/kraken/h2b/giulia/radial_analysis_output/follow/individual_spatiotemporal_heatmaps/400.400.10/scr_apop_wt_div/GV0795_Pos8_233_RFP_N_cells / /home/nathan/data/kraken/h2b/giulia/radial_analysis_output/follow/individual_spatiotemporal_heatmaps/400.400.10/scr_apop_wt_div/GV0795_Pos8_233_RFP_N_events saved out successfully',\n",
       "  '/home/nathan/data/kraken/h2b/giulia/radial_analysis_output/follow/individual_spatiotemporal_heatmaps/400.400.10/scr_apop_wt_div/GV0795_Pos8_7_RFP_N_cells / /home/nathan/data/kraken/h2b/giulia/radial_analysis_output/follow/individual_spatiotemporal_heatmaps/400.400.10/scr_apop_wt_div/GV0795_Pos8_7_RFP_N_events saved out successfully',\n",
       "  '/home/nathan/data/kraken/h2b/giulia/radial_analysis_output/follow/individual_spatiotemporal_heatmaps/400.400.10/scr_apop_wt_div/GV0795_Pos6_41_RFP_N_cells / /home/nathan/data/kraken/h2b/giulia/radial_analysis_output/follow/individual_spatiotemporal_heatmaps/400.400.10/scr_apop_wt_div/GV0795_Pos6_41_RFP_N_events saved out successfully',\n",
       "  '/home/nathan/data/kraken/h2b/giulia/radial_analysis_output/follow/individual_spatiotemporal_heatmaps/400.400.10/scr_apop_wt_div/GV0795_Pos6_762_RFP_N_cells / /home/nathan/data/kraken/h2b/giulia/radial_analysis_output/follow/individual_spatiotemporal_heatmaps/400.400.10/scr_apop_wt_div/GV0795_Pos6_762_RFP_N_events saved out successfully',\n",
       "  '/home/nathan/data/kraken/h2b/giulia/radial_analysis_output/follow/individual_spatiotemporal_heatmaps/400.400.10/scr_apop_wt_div/GV0795_Pos6_380_RFP_N_cells / /home/nathan/data/kraken/h2b/giulia/radial_analysis_output/follow/individual_spatiotemporal_heatmaps/400.400.10/scr_apop_wt_div/GV0795_Pos6_380_RFP_N_events saved out successfully',\n",
       "  '/home/nathan/data/kraken/h2b/giulia/radial_analysis_output/follow/individual_spatiotemporal_heatmaps/400.400.10/scr_apop_wt_div/GV0795_Pos6_185_RFP_N_cells / /home/nathan/data/kraken/h2b/giulia/radial_analysis_output/follow/individual_spatiotemporal_heatmaps/400.400.10/scr_apop_wt_div/GV0795_Pos6_185_RFP_N_events saved out successfully',\n",
       "  '/home/nathan/data/kraken/h2b/giulia/radial_analysis_output/follow/individual_spatiotemporal_heatmaps/400.400.10/scr_apop_wt_div/GV0795_Pos6_252_RFP_N_cells / /home/nathan/data/kraken/h2b/giulia/radial_analysis_output/follow/individual_spatiotemporal_heatmaps/400.400.10/scr_apop_wt_div/GV0795_Pos6_252_RFP_N_events saved out successfully',\n",
       "  '/home/nathan/data/kraken/h2b/giulia/radial_analysis_output/follow/individual_spatiotemporal_heatmaps/400.400.10/scr_apop_wt_div/GV0795_Pos6_184_RFP_N_cells / /home/nathan/data/kraken/h2b/giulia/radial_analysis_output/follow/individual_spatiotemporal_heatmaps/400.400.10/scr_apop_wt_div/GV0795_Pos6_184_RFP_N_events saved out successfully',\n",
       "  '/home/nathan/data/kraken/h2b/giulia/radial_analysis_output/follow/individual_spatiotemporal_heatmaps/400.400.10/scr_apop_wt_div/GV0795_Pos6_259_RFP_N_cells / /home/nathan/data/kraken/h2b/giulia/radial_analysis_output/follow/individual_spatiotemporal_heatmaps/400.400.10/scr_apop_wt_div/GV0795_Pos6_259_RFP_N_events saved out successfully',\n",
       "  '/home/nathan/data/kraken/h2b/giulia/radial_analysis_output/follow/individual_spatiotemporal_heatmaps/400.400.10/scr_apop_wt_div/GV0795_Pos6_736_RFP_N_cells / /home/nathan/data/kraken/h2b/giulia/radial_analysis_output/follow/individual_spatiotemporal_heatmaps/400.400.10/scr_apop_wt_div/GV0795_Pos6_736_RFP_N_events saved out successfully',\n",
       "  '/home/nathan/data/kraken/h2b/giulia/radial_analysis_output/follow/individual_spatiotemporal_heatmaps/400.400.10/scr_apop_wt_div/GV0795_Pos6_734_RFP_N_cells / /home/nathan/data/kraken/h2b/giulia/radial_analysis_output/follow/individual_spatiotemporal_heatmaps/400.400.10/scr_apop_wt_div/GV0795_Pos6_734_RFP_N_events saved out successfully',\n",
       "  '/home/nathan/data/kraken/h2b/giulia/radial_analysis_output/follow/individual_spatiotemporal_heatmaps/400.400.10/scr_apop_wt_div/GV0795_Pos6_417_RFP_N_cells / /home/nathan/data/kraken/h2b/giulia/radial_analysis_output/follow/individual_spatiotemporal_heatmaps/400.400.10/scr_apop_wt_div/GV0795_Pos6_417_RFP_N_events saved out successfully',\n",
       "  '/home/nathan/data/kraken/h2b/giulia/radial_analysis_output/follow/individual_spatiotemporal_heatmaps/400.400.10/scr_apop_wt_div/GV0795_Pos6_1093_RFP_N_cells / /home/nathan/data/kraken/h2b/giulia/radial_analysis_output/follow/individual_spatiotemporal_heatmaps/400.400.10/scr_apop_wt_div/GV0795_Pos6_1093_RFP_N_events saved out successfully',\n",
       "  '/home/nathan/data/kraken/h2b/giulia/radial_analysis_output/follow/individual_spatiotemporal_heatmaps/400.400.10/scr_apop_wt_div/GV0795_Pos6_372_RFP_N_cells / /home/nathan/data/kraken/h2b/giulia/radial_analysis_output/follow/individual_spatiotemporal_heatmaps/400.400.10/scr_apop_wt_div/GV0795_Pos6_372_RFP_N_events saved out successfully',\n",
       "  '/home/nathan/data/kraken/h2b/giulia/radial_analysis_output/follow/individual_spatiotemporal_heatmaps/400.400.10/scr_apop_wt_div/GV0795_Pos6_34_RFP_N_cells / /home/nathan/data/kraken/h2b/giulia/radial_analysis_output/follow/individual_spatiotemporal_heatmaps/400.400.10/scr_apop_wt_div/GV0795_Pos6_34_RFP_N_events saved out successfully',\n",
       "  '/home/nathan/data/kraken/h2b/giulia/radial_analysis_output/follow/individual_spatiotemporal_heatmaps/400.400.10/scr_apop_wt_div/GV0795_Pos6_1094_RFP_N_cells / /home/nathan/data/kraken/h2b/giulia/radial_analysis_output/follow/individual_spatiotemporal_heatmaps/400.400.10/scr_apop_wt_div/GV0795_Pos6_1094_RFP_N_events saved out successfully',\n",
       "  '/home/nathan/data/kraken/h2b/giulia/radial_analysis_output/follow/individual_spatiotemporal_heatmaps/400.400.10/scr_apop_wt_div/GV0795_Pos6_1041_RFP_N_cells / /home/nathan/data/kraken/h2b/giulia/radial_analysis_output/follow/individual_spatiotemporal_heatmaps/400.400.10/scr_apop_wt_div/GV0795_Pos6_1041_RFP_N_events saved out successfully',\n",
       "  '/home/nathan/data/kraken/h2b/giulia/radial_analysis_output/follow/individual_spatiotemporal_heatmaps/400.400.10/scr_apop_wt_div/GV0795_Pos6_1353_RFP_N_cells / /home/nathan/data/kraken/h2b/giulia/radial_analysis_output/follow/individual_spatiotemporal_heatmaps/400.400.10/scr_apop_wt_div/GV0795_Pos6_1353_RFP_N_events saved out successfully',\n",
       "  '/home/nathan/data/kraken/h2b/giulia/radial_analysis_output/follow/individual_spatiotemporal_heatmaps/400.400.10/scr_apop_wt_div/GV0795_Pos6_425_RFP_N_cells / /home/nathan/data/kraken/h2b/giulia/radial_analysis_output/follow/individual_spatiotemporal_heatmaps/400.400.10/scr_apop_wt_div/GV0795_Pos6_425_RFP_N_events saved out successfully',\n",
       "  '/home/nathan/data/kraken/h2b/giulia/radial_analysis_output/follow/individual_spatiotemporal_heatmaps/400.400.10/scr_apop_wt_div/GV0795_Pos6_426_RFP_N_cells / /home/nathan/data/kraken/h2b/giulia/radial_analysis_output/follow/individual_spatiotemporal_heatmaps/400.400.10/scr_apop_wt_div/GV0795_Pos6_426_RFP_N_events saved out successfully',\n",
       "  '/home/nathan/data/kraken/h2b/giulia/radial_analysis_output/follow/individual_spatiotemporal_heatmaps/400.400.10/scr_apop_wt_div/GV0795_Pos6_48_RFP_N_cells / /home/nathan/data/kraken/h2b/giulia/radial_analysis_output/follow/individual_spatiotemporal_heatmaps/400.400.10/scr_apop_wt_div/GV0795_Pos6_48_RFP_N_events saved out successfully',\n",
       "  '/home/nathan/data/kraken/h2b/giulia/radial_analysis_output/follow/individual_spatiotemporal_heatmaps/400.400.10/scr_apop_wt_div/GV0795_Pos6_19_RFP_N_cells / /home/nathan/data/kraken/h2b/giulia/radial_analysis_output/follow/individual_spatiotemporal_heatmaps/400.400.10/scr_apop_wt_div/GV0795_Pos6_19_RFP_N_events saved out successfully',\n",
       "  '/home/nathan/data/kraken/h2b/giulia/radial_analysis_output/follow/individual_spatiotemporal_heatmaps/400.400.10/scr_apop_wt_div/GV0795_Pos6_653_RFP_N_cells / /home/nathan/data/kraken/h2b/giulia/radial_analysis_output/follow/individual_spatiotemporal_heatmaps/400.400.10/scr_apop_wt_div/GV0795_Pos6_653_RFP_N_events saved out successfully',\n",
       "  '/home/nathan/data/kraken/h2b/giulia/radial_analysis_output/follow/individual_spatiotemporal_heatmaps/400.400.10/scr_apop_wt_div/GV0795_Pos6_413_RFP_N_cells / /home/nathan/data/kraken/h2b/giulia/radial_analysis_output/follow/individual_spatiotemporal_heatmaps/400.400.10/scr_apop_wt_div/GV0795_Pos6_413_RFP_N_events saved out successfully',\n",
       "  '/home/nathan/data/kraken/h2b/giulia/radial_analysis_output/follow/individual_spatiotemporal_heatmaps/400.400.10/scr_apop_wt_div/GV0795_Pos6_96_RFP_N_cells / /home/nathan/data/kraken/h2b/giulia/radial_analysis_output/follow/individual_spatiotemporal_heatmaps/400.400.10/scr_apop_wt_div/GV0795_Pos6_96_RFP_N_events saved out successfully',\n",
       "  '/home/nathan/data/kraken/h2b/giulia/radial_analysis_output/follow/individual_spatiotemporal_heatmaps/400.400.10/scr_apop_wt_div/GV0795_Pos6_414_RFP_N_cells / /home/nathan/data/kraken/h2b/giulia/radial_analysis_output/follow/individual_spatiotemporal_heatmaps/400.400.10/scr_apop_wt_div/GV0795_Pos6_414_RFP_N_events saved out successfully',\n",
       "  '/home/nathan/data/kraken/h2b/giulia/radial_analysis_output/follow/individual_spatiotemporal_heatmaps/400.400.10/scr_apop_wt_div/GV0795_Pos6_97_RFP_N_cells / /home/nathan/data/kraken/h2b/giulia/radial_analysis_output/follow/individual_spatiotemporal_heatmaps/400.400.10/scr_apop_wt_div/GV0795_Pos6_97_RFP_N_events saved out successfully',\n",
       "  '/home/nathan/data/kraken/h2b/giulia/radial_analysis_output/follow/individual_spatiotemporal_heatmaps/400.400.10/scr_apop_wt_div/GV0795_Pos6_654_RFP_N_cells / /home/nathan/data/kraken/h2b/giulia/radial_analysis_output/follow/individual_spatiotemporal_heatmaps/400.400.10/scr_apop_wt_div/GV0795_Pos6_654_RFP_N_events saved out successfully',\n",
       "  '/home/nathan/data/kraken/h2b/giulia/radial_analysis_output/follow/individual_spatiotemporal_heatmaps/400.400.10/scr_apop_wt_div/GV0795_Pos6_578_RFP_N_cells / /home/nathan/data/kraken/h2b/giulia/radial_analysis_output/follow/individual_spatiotemporal_heatmaps/400.400.10/scr_apop_wt_div/GV0795_Pos6_578_RFP_N_events saved out successfully',\n",
       "  '/home/nathan/data/kraken/h2b/giulia/radial_analysis_output/follow/individual_spatiotemporal_heatmaps/400.400.10/scr_apop_wt_div/GV0795_Pos6_1026_RFP_N_cells / /home/nathan/data/kraken/h2b/giulia/radial_analysis_output/follow/individual_spatiotemporal_heatmaps/400.400.10/scr_apop_wt_div/GV0795_Pos6_1026_RFP_N_events saved out successfully',\n",
       "  '/home/nathan/data/kraken/h2b/giulia/radial_analysis_output/follow/individual_spatiotemporal_heatmaps/400.400.10/scr_apop_wt_div/GV0795_Pos6_11_RFP_N_cells / /home/nathan/data/kraken/h2b/giulia/radial_analysis_output/follow/individual_spatiotemporal_heatmaps/400.400.10/scr_apop_wt_div/GV0795_Pos6_11_RFP_N_events saved out successfully',\n",
       "  '/home/nathan/data/kraken/h2b/giulia/radial_analysis_output/follow/individual_spatiotemporal_heatmaps/400.400.10/scr_apop_wt_div/GV0795_Pos6_619_RFP_N_cells / /home/nathan/data/kraken/h2b/giulia/radial_analysis_output/follow/individual_spatiotemporal_heatmaps/400.400.10/scr_apop_wt_div/GV0795_Pos6_619_RFP_N_events saved out successfully',\n",
       "  '/home/nathan/data/kraken/h2b/giulia/radial_analysis_output/follow/individual_spatiotemporal_heatmaps/400.400.10/scr_apop_wt_div/GV0795_Pos6_700_RFP_N_cells / /home/nathan/data/kraken/h2b/giulia/radial_analysis_output/follow/individual_spatiotemporal_heatmaps/400.400.10/scr_apop_wt_div/GV0795_Pos6_700_RFP_N_events saved out successfully',\n",
       "  '/home/nathan/data/kraken/h2b/giulia/radial_analysis_output/follow/individual_spatiotemporal_heatmaps/400.400.10/scr_apop_wt_div/GV0795_Pos6_579_RFP_N_cells / /home/nathan/data/kraken/h2b/giulia/radial_analysis_output/follow/individual_spatiotemporal_heatmaps/400.400.10/scr_apop_wt_div/GV0795_Pos6_579_RFP_N_events saved out successfully',\n",
       "  '/home/nathan/data/kraken/h2b/giulia/radial_analysis_output/follow/individual_spatiotemporal_heatmaps/400.400.10/scr_apop_wt_div/GV0795_Pos6_967_RFP_N_cells / /home/nathan/data/kraken/h2b/giulia/radial_analysis_output/follow/individual_spatiotemporal_heatmaps/400.400.10/scr_apop_wt_div/GV0795_Pos6_967_RFP_N_events saved out successfully',\n",
       "  '/home/nathan/data/kraken/h2b/giulia/radial_analysis_output/follow/individual_spatiotemporal_heatmaps/400.400.10/scr_apop_wt_div/GV0795_Pos6_160_RFP_N_cells / /home/nathan/data/kraken/h2b/giulia/radial_analysis_output/follow/individual_spatiotemporal_heatmaps/400.400.10/scr_apop_wt_div/GV0795_Pos6_160_RFP_N_events saved out successfully',\n",
       "  '/home/nathan/data/kraken/h2b/giulia/radial_analysis_output/follow/individual_spatiotemporal_heatmaps/400.400.10/scr_apop_wt_div/GV0796_Pos6_570_RFP_N_cells / /home/nathan/data/kraken/h2b/giulia/radial_analysis_output/follow/individual_spatiotemporal_heatmaps/400.400.10/scr_apop_wt_div/GV0796_Pos6_570_RFP_N_events saved out successfully',\n",
       "  '/home/nathan/data/kraken/h2b/giulia/radial_analysis_output/follow/individual_spatiotemporal_heatmaps/400.400.10/scr_apop_wt_div/GV0796_Pos6_569_RFP_N_cells / /home/nathan/data/kraken/h2b/giulia/radial_analysis_output/follow/individual_spatiotemporal_heatmaps/400.400.10/scr_apop_wt_div/GV0796_Pos6_569_RFP_N_events saved out successfully',\n",
       "  '/home/nathan/data/kraken/h2b/giulia/radial_analysis_output/follow/individual_spatiotemporal_heatmaps/400.400.10/scr_apop_wt_div/GV0796_Pos6_60_RFP_N_cells / /home/nathan/data/kraken/h2b/giulia/radial_analysis_output/follow/individual_spatiotemporal_heatmaps/400.400.10/scr_apop_wt_div/GV0796_Pos6_60_RFP_N_events saved out successfully',\n",
       "  '/home/nathan/data/kraken/h2b/giulia/radial_analysis_output/follow/individual_spatiotemporal_heatmaps/400.400.10/scr_apop_wt_div/GV0796_Pos6_57_RFP_N_cells / /home/nathan/data/kraken/h2b/giulia/radial_analysis_output/follow/individual_spatiotemporal_heatmaps/400.400.10/scr_apop_wt_div/GV0796_Pos6_57_RFP_N_events saved out successfully',\n",
       "  '/home/nathan/data/kraken/h2b/giulia/radial_analysis_output/follow/individual_spatiotemporal_heatmaps/400.400.10/scr_apop_wt_div/GV0796_Pos6_344_RFP_N_cells / /home/nathan/data/kraken/h2b/giulia/radial_analysis_output/follow/individual_spatiotemporal_heatmaps/400.400.10/scr_apop_wt_div/GV0796_Pos6_344_RFP_N_events saved out successfully',\n",
       "  '/home/nathan/data/kraken/h2b/giulia/radial_analysis_output/follow/individual_spatiotemporal_heatmaps/400.400.10/scr_apop_wt_div/GV0796_Pos6_39_RFP_N_cells / /home/nathan/data/kraken/h2b/giulia/radial_analysis_output/follow/individual_spatiotemporal_heatmaps/400.400.10/scr_apop_wt_div/GV0796_Pos6_39_RFP_N_events saved out successfully',\n",
       "  '/home/nathan/data/kraken/h2b/giulia/radial_analysis_output/follow/individual_spatiotemporal_heatmaps/400.400.10/scr_apop_wt_div/GV0796_Pos6_664_RFP_N_cells / /home/nathan/data/kraken/h2b/giulia/radial_analysis_output/follow/individual_spatiotemporal_heatmaps/400.400.10/scr_apop_wt_div/GV0796_Pos6_664_RFP_N_events saved out successfully',\n",
       "  '/home/nathan/data/kraken/h2b/giulia/radial_analysis_output/follow/individual_spatiotemporal_heatmaps/400.400.10/scr_apop_wt_div/GV0796_Pos6_565_RFP_N_cells / /home/nathan/data/kraken/h2b/giulia/radial_analysis_output/follow/individual_spatiotemporal_heatmaps/400.400.10/scr_apop_wt_div/GV0796_Pos6_565_RFP_N_events saved out successfully',\n",
       "  '/home/nathan/data/kraken/h2b/giulia/radial_analysis_output/follow/individual_spatiotemporal_heatmaps/400.400.10/scr_apop_wt_div/GV0796_Pos6_566_RFP_N_cells / /home/nathan/data/kraken/h2b/giulia/radial_analysis_output/follow/individual_spatiotemporal_heatmaps/400.400.10/scr_apop_wt_div/GV0796_Pos6_566_RFP_N_events saved out successfully',\n",
       "  '/home/nathan/data/kraken/h2b/giulia/radial_analysis_output/follow/individual_spatiotemporal_heatmaps/400.400.10/scr_apop_wt_div/GV0796_Pos6_841_RFP_N_cells / /home/nathan/data/kraken/h2b/giulia/radial_analysis_output/follow/individual_spatiotemporal_heatmaps/400.400.10/scr_apop_wt_div/GV0796_Pos6_841_RFP_N_events saved out successfully',\n",
       "  '/home/nathan/data/kraken/h2b/giulia/radial_analysis_output/follow/individual_spatiotemporal_heatmaps/400.400.10/scr_apop_wt_div/GV0796_Pos6_541_RFP_N_cells / /home/nathan/data/kraken/h2b/giulia/radial_analysis_output/follow/individual_spatiotemporal_heatmaps/400.400.10/scr_apop_wt_div/GV0796_Pos6_541_RFP_N_events saved out successfully',\n",
       "  '/home/nathan/data/kraken/h2b/giulia/radial_analysis_output/follow/individual_spatiotemporal_heatmaps/400.400.10/scr_apop_wt_div/GV0796_Pos6_839_RFP_N_cells / /home/nathan/data/kraken/h2b/giulia/radial_analysis_output/follow/individual_spatiotemporal_heatmaps/400.400.10/scr_apop_wt_div/GV0796_Pos6_839_RFP_N_events saved out successfully',\n",
       "  '/home/nathan/data/kraken/h2b/giulia/radial_analysis_output/follow/individual_spatiotemporal_heatmaps/400.400.10/scr_apop_wt_div/GV0796_Pos6_579_RFP_N_cells / /home/nathan/data/kraken/h2b/giulia/radial_analysis_output/follow/individual_spatiotemporal_heatmaps/400.400.10/scr_apop_wt_div/GV0796_Pos6_579_RFP_N_events saved out successfully',\n",
       "  '/home/nathan/data/kraken/h2b/giulia/radial_analysis_output/follow/individual_spatiotemporal_heatmaps/400.400.10/scr_apop_wt_div/GV0796_Pos6_542_RFP_N_cells / /home/nathan/data/kraken/h2b/giulia/radial_analysis_output/follow/individual_spatiotemporal_heatmaps/400.400.10/scr_apop_wt_div/GV0796_Pos6_542_RFP_N_events saved out successfully',\n",
       "  '/home/nathan/data/kraken/h2b/giulia/radial_analysis_output/follow/individual_spatiotemporal_heatmaps/400.400.10/scr_apop_wt_div/GV0796_Pos6_201_RFP_N_cells / /home/nathan/data/kraken/h2b/giulia/radial_analysis_output/follow/individual_spatiotemporal_heatmaps/400.400.10/scr_apop_wt_div/GV0796_Pos6_201_RFP_N_events saved out successfully',\n",
       "  '/home/nathan/data/kraken/h2b/giulia/radial_analysis_output/follow/individual_spatiotemporal_heatmaps/400.400.10/scr_apop_wt_div/GV0796_Pos6_881_RFP_N_cells / /home/nathan/data/kraken/h2b/giulia/radial_analysis_output/follow/individual_spatiotemporal_heatmaps/400.400.10/scr_apop_wt_div/GV0796_Pos6_881_RFP_N_events saved out successfully',\n",
       "  '/home/nathan/data/kraken/h2b/giulia/radial_analysis_output/follow/individual_spatiotemporal_heatmaps/400.400.10/scr_apop_wt_div/GV0796_Pos6_7_RFP_N_cells / /home/nathan/data/kraken/h2b/giulia/radial_analysis_output/follow/individual_spatiotemporal_heatmaps/400.400.10/scr_apop_wt_div/GV0796_Pos6_7_RFP_N_events saved out successfully',\n",
       "  '/home/nathan/data/kraken/h2b/giulia/radial_analysis_output/follow/individual_spatiotemporal_heatmaps/400.400.10/scr_apop_wt_div/GV0796_Pos6_638_RFP_N_cells / /home/nathan/data/kraken/h2b/giulia/radial_analysis_output/follow/individual_spatiotemporal_heatmaps/400.400.10/scr_apop_wt_div/GV0796_Pos6_638_RFP_N_events saved out successfully',\n",
       "  '/home/nathan/data/kraken/h2b/giulia/radial_analysis_output/follow/individual_spatiotemporal_heatmaps/400.400.10/scr_apop_wt_div/GV0796_Pos6_1063_RFP_N_cells / /home/nathan/data/kraken/h2b/giulia/radial_analysis_output/follow/individual_spatiotemporal_heatmaps/400.400.10/scr_apop_wt_div/GV0796_Pos6_1063_RFP_N_events saved out successfully',\n",
       "  '/home/nathan/data/kraken/h2b/giulia/radial_analysis_output/follow/individual_spatiotemporal_heatmaps/400.400.10/scr_apop_wt_div/GV0796_Pos6_30_RFP_N_cells / /home/nathan/data/kraken/h2b/giulia/radial_analysis_output/follow/individual_spatiotemporal_heatmaps/400.400.10/scr_apop_wt_div/GV0796_Pos6_30_RFP_N_events saved out successfully',\n",
       "  '/home/nathan/data/kraken/h2b/giulia/radial_analysis_output/follow/individual_spatiotemporal_heatmaps/400.400.10/scr_apop_wt_div/GV0796_Pos6_86_RFP_N_cells / /home/nathan/data/kraken/h2b/giulia/radial_analysis_output/follow/individual_spatiotemporal_heatmaps/400.400.10/scr_apop_wt_div/GV0796_Pos6_86_RFP_N_events saved out successfully',\n",
       "  '/home/nathan/data/kraken/h2b/giulia/radial_analysis_output/follow/individual_spatiotemporal_heatmaps/400.400.10/scr_apop_wt_div/GV0796_Pos6_1022_RFP_N_cells / /home/nathan/data/kraken/h2b/giulia/radial_analysis_output/follow/individual_spatiotemporal_heatmaps/400.400.10/scr_apop_wt_div/GV0796_Pos6_1022_RFP_N_events saved out successfully',\n",
       "  '/home/nathan/data/kraken/h2b/giulia/radial_analysis_output/follow/individual_spatiotemporal_heatmaps/400.400.10/scr_apop_wt_div/GV0796_Pos6_1146_RFP_N_cells / /home/nathan/data/kraken/h2b/giulia/radial_analysis_output/follow/individual_spatiotemporal_heatmaps/400.400.10/scr_apop_wt_div/GV0796_Pos6_1146_RFP_N_events saved out successfully',\n",
       "  '/home/nathan/data/kraken/h2b/giulia/radial_analysis_output/follow/individual_spatiotemporal_heatmaps/400.400.10/scr_apop_wt_div/GV0796_Pos6_885_RFP_N_cells / /home/nathan/data/kraken/h2b/giulia/radial_analysis_output/follow/individual_spatiotemporal_heatmaps/400.400.10/scr_apop_wt_div/GV0796_Pos6_885_RFP_N_events saved out successfully',\n",
       "  '/home/nathan/data/kraken/h2b/giulia/radial_analysis_output/follow/individual_spatiotemporal_heatmaps/400.400.10/scr_apop_wt_div/GV0796_Pos6_1021_RFP_N_cells / /home/nathan/data/kraken/h2b/giulia/radial_analysis_output/follow/individual_spatiotemporal_heatmaps/400.400.10/scr_apop_wt_div/GV0796_Pos6_1021_RFP_N_events saved out successfully',\n",
       "  '/home/nathan/data/kraken/h2b/giulia/radial_analysis_output/follow/individual_spatiotemporal_heatmaps/400.400.10/scr_apop_wt_div/GV0796_Pos6_18_RFP_N_cells / /home/nathan/data/kraken/h2b/giulia/radial_analysis_output/follow/individual_spatiotemporal_heatmaps/400.400.10/scr_apop_wt_div/GV0796_Pos6_18_RFP_N_events saved out successfully',\n",
       "  '/home/nathan/data/kraken/h2b/giulia/radial_analysis_output/follow/individual_spatiotemporal_heatmaps/400.400.10/scr_apop_wt_div/GV0807_Pos5_4_RFP_N_cells / /home/nathan/data/kraken/h2b/giulia/radial_analysis_output/follow/individual_spatiotemporal_heatmaps/400.400.10/scr_apop_wt_div/GV0807_Pos5_4_RFP_N_events saved out successfully',\n",
       "  '/home/nathan/data/kraken/h2b/giulia/radial_analysis_output/follow/individual_spatiotemporal_heatmaps/400.400.10/scr_apop_wt_div/GV0807_Pos5_52_RFP_N_cells / /home/nathan/data/kraken/h2b/giulia/radial_analysis_output/follow/individual_spatiotemporal_heatmaps/400.400.10/scr_apop_wt_div/GV0807_Pos5_52_RFP_N_events saved out successfully',\n",
       "  '/home/nathan/data/kraken/h2b/giulia/radial_analysis_output/follow/individual_spatiotemporal_heatmaps/400.400.10/scr_apop_wt_div/GV0807_Pos5_301_RFP_N_cells / /home/nathan/data/kraken/h2b/giulia/radial_analysis_output/follow/individual_spatiotemporal_heatmaps/400.400.10/scr_apop_wt_div/GV0807_Pos5_301_RFP_N_events saved out successfully',\n",
       "  '/home/nathan/data/kraken/h2b/giulia/radial_analysis_output/follow/individual_spatiotemporal_heatmaps/400.400.10/scr_apop_wt_div/GV0807_Pos5_459_RFP_N_cells / /home/nathan/data/kraken/h2b/giulia/radial_analysis_output/follow/individual_spatiotemporal_heatmaps/400.400.10/scr_apop_wt_div/GV0807_Pos5_459_RFP_N_events saved out successfully',\n",
       "  '/home/nathan/data/kraken/h2b/giulia/radial_analysis_output/follow/individual_spatiotemporal_heatmaps/400.400.10/scr_apop_wt_div/GV0807_Pos5_402_RFP_N_cells / /home/nathan/data/kraken/h2b/giulia/radial_analysis_output/follow/individual_spatiotemporal_heatmaps/400.400.10/scr_apop_wt_div/GV0807_Pos5_402_RFP_N_events saved out successfully',\n",
       "  '/home/nathan/data/kraken/h2b/giulia/radial_analysis_output/follow/individual_spatiotemporal_heatmaps/400.400.10/scr_apop_wt_div/GV0807_Pos5_354_RFP_N_cells / /home/nathan/data/kraken/h2b/giulia/radial_analysis_output/follow/individual_spatiotemporal_heatmaps/400.400.10/scr_apop_wt_div/GV0807_Pos5_354_RFP_N_events saved out successfully',\n",
       "  '/home/nathan/data/kraken/h2b/giulia/radial_analysis_output/follow/individual_spatiotemporal_heatmaps/400.400.10/scr_apop_wt_div/GV0807_Pos5_679_RFP_N_cells / /home/nathan/data/kraken/h2b/giulia/radial_analysis_output/follow/individual_spatiotemporal_heatmaps/400.400.10/scr_apop_wt_div/GV0807_Pos5_679_RFP_N_events saved out successfully',\n",
       "  '/home/nathan/data/kraken/h2b/giulia/radial_analysis_output/follow/individual_spatiotemporal_heatmaps/400.400.10/scr_apop_wt_div/GV0807_Pos5_950_RFP_N_cells / /home/nathan/data/kraken/h2b/giulia/radial_analysis_output/follow/individual_spatiotemporal_heatmaps/400.400.10/scr_apop_wt_div/GV0807_Pos5_950_RFP_N_events saved out successfully',\n",
       "  '/home/nathan/data/kraken/h2b/giulia/radial_analysis_output/follow/individual_spatiotemporal_heatmaps/400.400.10/scr_apop_wt_div/GV0807_Pos5_952_RFP_N_cells / /home/nathan/data/kraken/h2b/giulia/radial_analysis_output/follow/individual_spatiotemporal_heatmaps/400.400.10/scr_apop_wt_div/GV0807_Pos5_952_RFP_N_events saved out successfully',\n",
       "  '/home/nathan/data/kraken/h2b/giulia/radial_analysis_output/follow/individual_spatiotemporal_heatmaps/400.400.10/scr_apop_wt_div/GV0807_Pos5_334_RFP_N_cells / /home/nathan/data/kraken/h2b/giulia/radial_analysis_output/follow/individual_spatiotemporal_heatmaps/400.400.10/scr_apop_wt_div/GV0807_Pos5_334_RFP_N_events saved out successfully',\n",
       "  '/home/nathan/data/kraken/h2b/giulia/radial_analysis_output/follow/individual_spatiotemporal_heatmaps/400.400.10/scr_apop_wt_div/GV0807_Pos5_733_RFP_N_cells / /home/nathan/data/kraken/h2b/giulia/radial_analysis_output/follow/individual_spatiotemporal_heatmaps/400.400.10/scr_apop_wt_div/GV0807_Pos5_733_RFP_N_events saved out successfully',\n",
       "  '/home/nathan/data/kraken/h2b/giulia/radial_analysis_output/follow/individual_spatiotemporal_heatmaps/400.400.10/scr_apop_wt_div/GV0807_Pos5_916_RFP_N_cells / /home/nathan/data/kraken/h2b/giulia/radial_analysis_output/follow/individual_spatiotemporal_heatmaps/400.400.10/scr_apop_wt_div/GV0807_Pos5_916_RFP_N_events saved out successfully',\n",
       "  '/home/nathan/data/kraken/h2b/giulia/radial_analysis_output/follow/individual_spatiotemporal_heatmaps/400.400.10/scr_apop_wt_div/GV0807_Pos5_677_RFP_N_cells / /home/nathan/data/kraken/h2b/giulia/radial_analysis_output/follow/individual_spatiotemporal_heatmaps/400.400.10/scr_apop_wt_div/GV0807_Pos5_677_RFP_N_events saved out successfully',\n",
       "  '/home/nathan/data/kraken/h2b/giulia/radial_analysis_output/follow/individual_spatiotemporal_heatmaps/400.400.10/scr_apop_wt_div/GV0807_Pos5_1128_RFP_N_cells / /home/nathan/data/kraken/h2b/giulia/radial_analysis_output/follow/individual_spatiotemporal_heatmaps/400.400.10/scr_apop_wt_div/GV0807_Pos5_1128_RFP_N_events saved out successfully',\n",
       "  '/home/nathan/data/kraken/h2b/giulia/radial_analysis_output/follow/individual_spatiotemporal_heatmaps/400.400.10/scr_apop_wt_div/GV0807_Pos5_460_RFP_N_cells / /home/nathan/data/kraken/h2b/giulia/radial_analysis_output/follow/individual_spatiotemporal_heatmaps/400.400.10/scr_apop_wt_div/GV0807_Pos5_460_RFP_N_events saved out successfully',\n",
       "  '/home/nathan/data/kraken/h2b/giulia/radial_analysis_output/follow/individual_spatiotemporal_heatmaps/400.400.10/scr_apop_wt_div/GV0807_Pos5_51_RFP_N_cells / /home/nathan/data/kraken/h2b/giulia/radial_analysis_output/follow/individual_spatiotemporal_heatmaps/400.400.10/scr_apop_wt_div/GV0807_Pos5_51_RFP_N_events saved out successfully',\n",
       "  '/home/nathan/data/kraken/h2b/giulia/radial_analysis_output/follow/individual_spatiotemporal_heatmaps/400.400.10/scr_apop_wt_div/GV0807_Pos5_977_RFP_N_cells / /home/nathan/data/kraken/h2b/giulia/radial_analysis_output/follow/individual_spatiotemporal_heatmaps/400.400.10/scr_apop_wt_div/GV0807_Pos5_977_RFP_N_events saved out successfully',\n",
       "  '/home/nathan/data/kraken/h2b/giulia/radial_analysis_output/follow/individual_spatiotemporal_heatmaps/400.400.10/scr_apop_wt_div/GV0807_Pos5_1149_RFP_N_cells / /home/nathan/data/kraken/h2b/giulia/radial_analysis_output/follow/individual_spatiotemporal_heatmaps/400.400.10/scr_apop_wt_div/GV0807_Pos5_1149_RFP_N_events saved out successfully',\n",
       "  '/home/nathan/data/kraken/h2b/giulia/radial_analysis_output/follow/individual_spatiotemporal_heatmaps/400.400.10/scr_apop_wt_div/GV0807_Pos5_815_RFP_N_cells / /home/nathan/data/kraken/h2b/giulia/radial_analysis_output/follow/individual_spatiotemporal_heatmaps/400.400.10/scr_apop_wt_div/GV0807_Pos5_815_RFP_N_events saved out successfully',\n",
       "  '/home/nathan/data/kraken/h2b/giulia/radial_analysis_output/follow/individual_spatiotemporal_heatmaps/400.400.10/scr_apop_wt_div/GV0807_Pos5_2_RFP_N_cells / /home/nathan/data/kraken/h2b/giulia/radial_analysis_output/follow/individual_spatiotemporal_heatmaps/400.400.10/scr_apop_wt_div/GV0807_Pos5_2_RFP_N_events saved out successfully',\n",
       "  '/home/nathan/data/kraken/h2b/giulia/radial_analysis_output/follow/individual_spatiotemporal_heatmaps/400.400.10/scr_apop_wt_div/GV0807_Pos5_1281_RFP_N_cells / /home/nathan/data/kraken/h2b/giulia/radial_analysis_output/follow/individual_spatiotemporal_heatmaps/400.400.10/scr_apop_wt_div/GV0807_Pos5_1281_RFP_N_events saved out successfully',\n",
       "  '/home/nathan/data/kraken/h2b/giulia/radial_analysis_output/follow/individual_spatiotemporal_heatmaps/400.400.10/scr_apop_wt_div/GV0807_Pos5_1448_RFP_N_cells / /home/nathan/data/kraken/h2b/giulia/radial_analysis_output/follow/individual_spatiotemporal_heatmaps/400.400.10/scr_apop_wt_div/GV0807_Pos5_1448_RFP_N_events saved out successfully',\n",
       "  '/home/nathan/data/kraken/h2b/giulia/radial_analysis_output/follow/individual_spatiotemporal_heatmaps/400.400.10/scr_apop_wt_div/GV0807_Pos5_1427_RFP_N_cells / /home/nathan/data/kraken/h2b/giulia/radial_analysis_output/follow/individual_spatiotemporal_heatmaps/400.400.10/scr_apop_wt_div/GV0807_Pos5_1427_RFP_N_events saved out successfully',\n",
       "  '/home/nathan/data/kraken/h2b/giulia/radial_analysis_output/follow/individual_spatiotemporal_heatmaps/400.400.10/scr_apop_wt_div/GV0807_Pos5_1489_RFP_N_cells / /home/nathan/data/kraken/h2b/giulia/radial_analysis_output/follow/individual_spatiotemporal_heatmaps/400.400.10/scr_apop_wt_div/GV0807_Pos5_1489_RFP_N_events saved out successfully',\n",
       "  '/home/nathan/data/kraken/h2b/giulia/radial_analysis_output/follow/individual_spatiotemporal_heatmaps/400.400.10/scr_apop_wt_div/GV0807_Pos5_944_RFP_N_cells / /home/nathan/data/kraken/h2b/giulia/radial_analysis_output/follow/individual_spatiotemporal_heatmaps/400.400.10/scr_apop_wt_div/GV0807_Pos5_944_RFP_N_events saved out successfully',\n",
       "  '/home/nathan/data/kraken/h2b/giulia/radial_analysis_output/follow/individual_spatiotemporal_heatmaps/400.400.10/scr_apop_wt_div/GV0807_Pos5_819_RFP_N_cells / /home/nathan/data/kraken/h2b/giulia/radial_analysis_output/follow/individual_spatiotemporal_heatmaps/400.400.10/scr_apop_wt_div/GV0807_Pos5_819_RFP_N_events saved out successfully',\n",
       "  '/home/nathan/data/kraken/h2b/giulia/radial_analysis_output/follow/individual_spatiotemporal_heatmaps/400.400.10/scr_apop_wt_div/GV0807_Pos5_793_RFP_N_cells / /home/nathan/data/kraken/h2b/giulia/radial_analysis_output/follow/individual_spatiotemporal_heatmaps/400.400.10/scr_apop_wt_div/GV0807_Pos5_793_RFP_N_events saved out successfully',\n",
       "  '/home/nathan/data/kraken/h2b/giulia/radial_analysis_output/follow/individual_spatiotemporal_heatmaps/400.400.10/scr_apop_wt_div/GV0796_Pos23_66_RFP_N_cells / /home/nathan/data/kraken/h2b/giulia/radial_analysis_output/follow/individual_spatiotemporal_heatmaps/400.400.10/scr_apop_wt_div/GV0796_Pos23_66_RFP_N_events saved out successfully',\n",
       "  '/home/nathan/data/kraken/h2b/giulia/radial_analysis_output/follow/individual_spatiotemporal_heatmaps/400.400.10/scr_apop_wt_div/GV0796_Pos23_87_RFP_N_cells / /home/nathan/data/kraken/h2b/giulia/radial_analysis_output/follow/individual_spatiotemporal_heatmaps/400.400.10/scr_apop_wt_div/GV0796_Pos23_87_RFP_N_events saved out successfully',\n",
       "  '/home/nathan/data/kraken/h2b/giulia/radial_analysis_output/follow/individual_spatiotemporal_heatmaps/400.400.10/scr_apop_wt_div/GV0796_Pos23_62_RFP_N_cells / /home/nathan/data/kraken/h2b/giulia/radial_analysis_output/follow/individual_spatiotemporal_heatmaps/400.400.10/scr_apop_wt_div/GV0796_Pos23_62_RFP_N_events saved out successfully',\n",
       "  '/home/nathan/data/kraken/h2b/giulia/radial_analysis_output/follow/individual_spatiotemporal_heatmaps/400.400.10/scr_apop_wt_div/GV0796_Pos23_74_RFP_N_cells / /home/nathan/data/kraken/h2b/giulia/radial_analysis_output/follow/individual_spatiotemporal_heatmaps/400.400.10/scr_apop_wt_div/GV0796_Pos23_74_RFP_N_events saved out successfully',\n",
       "  '/home/nathan/data/kraken/h2b/giulia/radial_analysis_output/follow/individual_spatiotemporal_heatmaps/400.400.10/scr_apop_wt_div/GV0796_Pos23_18_RFP_N_cells / /home/nathan/data/kraken/h2b/giulia/radial_analysis_output/follow/individual_spatiotemporal_heatmaps/400.400.10/scr_apop_wt_div/GV0796_Pos23_18_RFP_N_events saved out successfully',\n",
       "  '/home/nathan/data/kraken/h2b/giulia/radial_analysis_output/follow/individual_spatiotemporal_heatmaps/400.400.10/scr_apop_wt_div/GV0796_Pos23_202_RFP_N_cells / /home/nathan/data/kraken/h2b/giulia/radial_analysis_output/follow/individual_spatiotemporal_heatmaps/400.400.10/scr_apop_wt_div/GV0796_Pos23_202_RFP_N_events saved out successfully',\n",
       "  '/home/nathan/data/kraken/h2b/giulia/radial_analysis_output/follow/individual_spatiotemporal_heatmaps/400.400.10/scr_apop_wt_div/GV0796_Pos23_786_RFP_N_cells / /home/nathan/data/kraken/h2b/giulia/radial_analysis_output/follow/individual_spatiotemporal_heatmaps/400.400.10/scr_apop_wt_div/GV0796_Pos23_786_RFP_N_events saved out successfully',\n",
       "  '/home/nathan/data/kraken/h2b/giulia/radial_analysis_output/follow/individual_spatiotemporal_heatmaps/400.400.10/scr_apop_wt_div/GV0796_Pos23_15_RFP_N_cells / /home/nathan/data/kraken/h2b/giulia/radial_analysis_output/follow/individual_spatiotemporal_heatmaps/400.400.10/scr_apop_wt_div/GV0796_Pos23_15_RFP_N_events saved out successfully',\n",
       "  '/home/nathan/data/kraken/h2b/giulia/radial_analysis_output/follow/individual_spatiotemporal_heatmaps/400.400.10/scr_apop_wt_div/GV0796_Pos23_1896_RFP_N_cells / /home/nathan/data/kraken/h2b/giulia/radial_analysis_output/follow/individual_spatiotemporal_heatmaps/400.400.10/scr_apop_wt_div/GV0796_Pos23_1896_RFP_N_events saved out successfully',\n",
       "  '/home/nathan/data/kraken/h2b/giulia/radial_analysis_output/follow/individual_spatiotemporal_heatmaps/400.400.10/scr_apop_wt_div/GV0796_Pos23_2215_RFP_N_cells / /home/nathan/data/kraken/h2b/giulia/radial_analysis_output/follow/individual_spatiotemporal_heatmaps/400.400.10/scr_apop_wt_div/GV0796_Pos23_2215_RFP_N_events saved out successfully',\n",
       "  '/home/nathan/data/kraken/h2b/giulia/radial_analysis_output/follow/individual_spatiotemporal_heatmaps/400.400.10/scr_apop_wt_div/GV0796_Pos23_890_RFP_N_cells / /home/nathan/data/kraken/h2b/giulia/radial_analysis_output/follow/individual_spatiotemporal_heatmaps/400.400.10/scr_apop_wt_div/GV0796_Pos23_890_RFP_N_events saved out successfully',\n",
       "  '/home/nathan/data/kraken/h2b/giulia/radial_analysis_output/follow/individual_spatiotemporal_heatmaps/400.400.10/scr_apop_wt_div/GV0796_Pos23_771_RFP_N_cells / /home/nathan/data/kraken/h2b/giulia/radial_analysis_output/follow/individual_spatiotemporal_heatmaps/400.400.10/scr_apop_wt_div/GV0796_Pos23_771_RFP_N_events saved out successfully',\n",
       "  '/home/nathan/data/kraken/h2b/giulia/radial_analysis_output/follow/individual_spatiotemporal_heatmaps/400.400.10/scr_apop_wt_div/GV0796_Pos23_968_RFP_N_cells / /home/nathan/data/kraken/h2b/giulia/radial_analysis_output/follow/individual_spatiotemporal_heatmaps/400.400.10/scr_apop_wt_div/GV0796_Pos23_968_RFP_N_events saved out successfully',\n",
       "  '/home/nathan/data/kraken/h2b/giulia/radial_analysis_output/follow/individual_spatiotemporal_heatmaps/400.400.10/scr_apop_wt_div/GV0796_Pos23_969_RFP_N_cells / /home/nathan/data/kraken/h2b/giulia/radial_analysis_output/follow/individual_spatiotemporal_heatmaps/400.400.10/scr_apop_wt_div/GV0796_Pos23_969_RFP_N_events saved out successfully',\n",
       "  '/home/nathan/data/kraken/h2b/giulia/radial_analysis_output/follow/individual_spatiotemporal_heatmaps/400.400.10/scr_apop_wt_div/GV0796_Pos23_1773_RFP_N_cells / /home/nathan/data/kraken/h2b/giulia/radial_analysis_output/follow/individual_spatiotemporal_heatmaps/400.400.10/scr_apop_wt_div/GV0796_Pos23_1773_RFP_N_events saved out successfully',\n",
       "  '/home/nathan/data/kraken/h2b/giulia/radial_analysis_output/follow/individual_spatiotemporal_heatmaps/400.400.10/scr_apop_wt_div/GV0796_Pos23_1253_RFP_N_cells / /home/nathan/data/kraken/h2b/giulia/radial_analysis_output/follow/individual_spatiotemporal_heatmaps/400.400.10/scr_apop_wt_div/GV0796_Pos23_1253_RFP_N_events saved out successfully',\n",
       "  '/home/nathan/data/kraken/h2b/giulia/radial_analysis_output/follow/individual_spatiotemporal_heatmaps/400.400.10/scr_apop_wt_div/GV0796_Pos23_16_RFP_N_cells / /home/nathan/data/kraken/h2b/giulia/radial_analysis_output/follow/individual_spatiotemporal_heatmaps/400.400.10/scr_apop_wt_div/GV0796_Pos23_16_RFP_N_events saved out successfully',\n",
       "  '/home/nathan/data/kraken/h2b/giulia/radial_analysis_output/follow/individual_spatiotemporal_heatmaps/400.400.10/scr_apop_wt_div/GV0796_Pos23_80_RFP_N_cells / /home/nathan/data/kraken/h2b/giulia/radial_analysis_output/follow/individual_spatiotemporal_heatmaps/400.400.10/scr_apop_wt_div/GV0796_Pos23_80_RFP_N_events saved out successfully',\n",
       "  '/home/nathan/data/kraken/h2b/giulia/radial_analysis_output/follow/individual_spatiotemporal_heatmaps/400.400.10/scr_apop_wt_div/GV0796_Pos23_525_RFP_N_cells / /home/nathan/data/kraken/h2b/giulia/radial_analysis_output/follow/individual_spatiotemporal_heatmaps/400.400.10/scr_apop_wt_div/GV0796_Pos23_525_RFP_N_events saved out successfully',\n",
       "  '/home/nathan/data/kraken/h2b/giulia/radial_analysis_output/follow/individual_spatiotemporal_heatmaps/400.400.10/scr_apop_wt_div/GV0796_Pos23_1767_RFP_N_cells / /home/nathan/data/kraken/h2b/giulia/radial_analysis_output/follow/individual_spatiotemporal_heatmaps/400.400.10/scr_apop_wt_div/GV0796_Pos23_1767_RFP_N_events saved out successfully',\n",
       "  '/home/nathan/data/kraken/h2b/giulia/radial_analysis_output/follow/individual_spatiotemporal_heatmaps/400.400.10/scr_apop_wt_div/GV0796_Pos23_203_RFP_N_cells / /home/nathan/data/kraken/h2b/giulia/radial_analysis_output/follow/individual_spatiotemporal_heatmaps/400.400.10/scr_apop_wt_div/GV0796_Pos23_203_RFP_N_events saved out successfully',\n",
       "  '/home/nathan/data/kraken/h2b/giulia/radial_analysis_output/follow/individual_spatiotemporal_heatmaps/400.400.10/scr_apop_wt_div/GV0796_Pos23_36_RFP_N_cells / /home/nathan/data/kraken/h2b/giulia/radial_analysis_output/follow/individual_spatiotemporal_heatmaps/400.400.10/scr_apop_wt_div/GV0796_Pos23_36_RFP_N_events saved out successfully',\n",
       "  '/home/nathan/data/kraken/h2b/giulia/radial_analysis_output/follow/individual_spatiotemporal_heatmaps/400.400.10/scr_apop_wt_div/GV0796_Pos23_174_RFP_N_cells / /home/nathan/data/kraken/h2b/giulia/radial_analysis_output/follow/individual_spatiotemporal_heatmaps/400.400.10/scr_apop_wt_div/GV0796_Pos23_174_RFP_N_events saved out successfully',\n",
       "  '/home/nathan/data/kraken/h2b/giulia/radial_analysis_output/follow/individual_spatiotemporal_heatmaps/400.400.10/scr_apop_wt_div/GV0796_Pos23_655_RFP_N_cells / /home/nathan/data/kraken/h2b/giulia/radial_analysis_output/follow/individual_spatiotemporal_heatmaps/400.400.10/scr_apop_wt_div/GV0796_Pos23_655_RFP_N_events saved out successfully',\n",
       "  '/home/nathan/data/kraken/h2b/giulia/radial_analysis_output/follow/individual_spatiotemporal_heatmaps/400.400.10/scr_apop_wt_div/GV0796_Pos23_717_RFP_N_cells / /home/nathan/data/kraken/h2b/giulia/radial_analysis_output/follow/individual_spatiotemporal_heatmaps/400.400.10/scr_apop_wt_div/GV0796_Pos23_717_RFP_N_events saved out successfully',\n",
       "  '/home/nathan/data/kraken/h2b/giulia/radial_analysis_output/follow/individual_spatiotemporal_heatmaps/400.400.10/scr_apop_wt_div/GV0796_Pos23_718_RFP_N_cells / /home/nathan/data/kraken/h2b/giulia/radial_analysis_output/follow/individual_spatiotemporal_heatmaps/400.400.10/scr_apop_wt_div/GV0796_Pos23_718_RFP_N_events saved out successfully',\n",
       "  '/home/nathan/data/kraken/h2b/giulia/radial_analysis_output/follow/individual_spatiotemporal_heatmaps/400.400.10/scr_apop_wt_div/GV0796_Pos23_526_RFP_N_cells / /home/nathan/data/kraken/h2b/giulia/radial_analysis_output/follow/individual_spatiotemporal_heatmaps/400.400.10/scr_apop_wt_div/GV0796_Pos23_526_RFP_N_events saved out successfully',\n",
       "  '/home/nathan/data/kraken/h2b/giulia/radial_analysis_output/follow/individual_spatiotemporal_heatmaps/400.400.10/scr_apop_wt_div/GV0796_Pos23_323_RFP_N_cells / /home/nathan/data/kraken/h2b/giulia/radial_analysis_output/follow/individual_spatiotemporal_heatmaps/400.400.10/scr_apop_wt_div/GV0796_Pos23_323_RFP_N_events saved out successfully',\n",
       "  '/home/nathan/data/kraken/h2b/giulia/radial_analysis_output/follow/individual_spatiotemporal_heatmaps/400.400.10/scr_apop_wt_div/GV0796_Pos23_798_RFP_N_cells / /home/nathan/data/kraken/h2b/giulia/radial_analysis_output/follow/individual_spatiotemporal_heatmaps/400.400.10/scr_apop_wt_div/GV0796_Pos23_798_RFP_N_events saved out successfully',\n",
       "  '/home/nathan/data/kraken/h2b/giulia/radial_analysis_output/follow/individual_spatiotemporal_heatmaps/400.400.10/scr_apop_wt_div/GV0796_Pos23_1306_RFP_N_cells / /home/nathan/data/kraken/h2b/giulia/radial_analysis_output/follow/individual_spatiotemporal_heatmaps/400.400.10/scr_apop_wt_div/GV0796_Pos23_1306_RFP_N_events saved out successfully',\n",
       "  '/home/nathan/data/kraken/h2b/giulia/radial_analysis_output/follow/individual_spatiotemporal_heatmaps/400.400.10/scr_apop_wt_div/GV0796_Pos23_1073_RFP_N_cells / /home/nathan/data/kraken/h2b/giulia/radial_analysis_output/follow/individual_spatiotemporal_heatmaps/400.400.10/scr_apop_wt_div/GV0796_Pos23_1073_RFP_N_events saved out successfully',\n",
       "  '/home/nathan/data/kraken/h2b/giulia/radial_analysis_output/follow/individual_spatiotemporal_heatmaps/400.400.10/scr_apop_wt_div/GV0796_Pos23_799_RFP_N_cells / /home/nathan/data/kraken/h2b/giulia/radial_analysis_output/follow/individual_spatiotemporal_heatmaps/400.400.10/scr_apop_wt_div/GV0796_Pos23_799_RFP_N_events saved out successfully',\n",
       "  '/home/nathan/data/kraken/h2b/giulia/radial_analysis_output/follow/individual_spatiotemporal_heatmaps/400.400.10/scr_apop_wt_div/GV0796_Pos23_1412_RFP_N_cells / /home/nathan/data/kraken/h2b/giulia/radial_analysis_output/follow/individual_spatiotemporal_heatmaps/400.400.10/scr_apop_wt_div/GV0796_Pos23_1412_RFP_N_events saved out successfully',\n",
       "  '/home/nathan/data/kraken/h2b/giulia/radial_analysis_output/follow/individual_spatiotemporal_heatmaps/400.400.10/scr_apop_wt_div/GV0796_Pos23_1898_RFP_N_cells / /home/nathan/data/kraken/h2b/giulia/radial_analysis_output/follow/individual_spatiotemporal_heatmaps/400.400.10/scr_apop_wt_div/GV0796_Pos23_1898_RFP_N_events saved out successfully',\n",
       "  '/home/nathan/data/kraken/h2b/giulia/radial_analysis_output/follow/individual_spatiotemporal_heatmaps/400.400.10/scr_apop_wt_div/GV0796_Pos23_485_RFP_N_cells / /home/nathan/data/kraken/h2b/giulia/radial_analysis_output/follow/individual_spatiotemporal_heatmaps/400.400.10/scr_apop_wt_div/GV0796_Pos23_485_RFP_N_events saved out successfully',\n",
       "  '/home/nathan/data/kraken/h2b/giulia/radial_analysis_output/follow/individual_spatiotemporal_heatmaps/400.400.10/scr_apop_wt_div/GV0796_Pos23_1466_RFP_N_cells / /home/nathan/data/kraken/h2b/giulia/radial_analysis_output/follow/individual_spatiotemporal_heatmaps/400.400.10/scr_apop_wt_div/GV0796_Pos23_1466_RFP_N_events saved out successfully',\n",
       "  '/home/nathan/data/kraken/h2b/giulia/radial_analysis_output/follow/individual_spatiotemporal_heatmaps/400.400.10/scr_apop_wt_div/GV0796_Pos23_770_RFP_N_cells / /home/nathan/data/kraken/h2b/giulia/radial_analysis_output/follow/individual_spatiotemporal_heatmaps/400.400.10/scr_apop_wt_div/GV0796_Pos23_770_RFP_N_events saved out successfully',\n",
       "  '/home/nathan/data/kraken/h2b/giulia/radial_analysis_output/follow/individual_spatiotemporal_heatmaps/400.400.10/scr_apop_wt_div/GV0797_Pos23_31_RFP_N_cells / /home/nathan/data/kraken/h2b/giulia/radial_analysis_output/follow/individual_spatiotemporal_heatmaps/400.400.10/scr_apop_wt_div/GV0797_Pos23_31_RFP_N_events saved out successfully',\n",
       "  '/home/nathan/data/kraken/h2b/giulia/radial_analysis_output/follow/individual_spatiotemporal_heatmaps/400.400.10/scr_apop_wt_div/GV0797_Pos23_26_RFP_N_cells / /home/nathan/data/kraken/h2b/giulia/radial_analysis_output/follow/individual_spatiotemporal_heatmaps/400.400.10/scr_apop_wt_div/GV0797_Pos23_26_RFP_N_events saved out successfully',\n",
       "  '/home/nathan/data/kraken/h2b/giulia/radial_analysis_output/follow/individual_spatiotemporal_heatmaps/400.400.10/scr_apop_wt_div/GV0797_Pos23_260_RFP_N_cells / /home/nathan/data/kraken/h2b/giulia/radial_analysis_output/follow/individual_spatiotemporal_heatmaps/400.400.10/scr_apop_wt_div/GV0797_Pos23_260_RFP_N_events saved out successfully',\n",
       "  '/home/nathan/data/kraken/h2b/giulia/radial_analysis_output/follow/individual_spatiotemporal_heatmaps/400.400.10/scr_apop_wt_div/GV0797_Pos23_125_RFP_N_cells / /home/nathan/data/kraken/h2b/giulia/radial_analysis_output/follow/individual_spatiotemporal_heatmaps/400.400.10/scr_apop_wt_div/GV0797_Pos23_125_RFP_N_events saved out successfully',\n",
       "  '/home/nathan/data/kraken/h2b/giulia/radial_analysis_output/follow/individual_spatiotemporal_heatmaps/400.400.10/scr_apop_wt_div/GV0797_Pos23_336_RFP_N_cells / /home/nathan/data/kraken/h2b/giulia/radial_analysis_output/follow/individual_spatiotemporal_heatmaps/400.400.10/scr_apop_wt_div/GV0797_Pos23_336_RFP_N_events saved out successfully',\n",
       "  '/home/nathan/data/kraken/h2b/giulia/radial_analysis_output/follow/individual_spatiotemporal_heatmaps/400.400.10/scr_apop_wt_div/GV0797_Pos23_252_RFP_N_cells / /home/nathan/data/kraken/h2b/giulia/radial_analysis_output/follow/individual_spatiotemporal_heatmaps/400.400.10/scr_apop_wt_div/GV0797_Pos23_252_RFP_N_events saved out successfully',\n",
       "  '/home/nathan/data/kraken/h2b/giulia/radial_analysis_output/follow/individual_spatiotemporal_heatmaps/400.400.10/scr_apop_wt_div/GV0797_Pos23_301_RFP_N_cells / /home/nathan/data/kraken/h2b/giulia/radial_analysis_output/follow/individual_spatiotemporal_heatmaps/400.400.10/scr_apop_wt_div/GV0797_Pos23_301_RFP_N_events saved out successfully',\n",
       "  '/home/nathan/data/kraken/h2b/giulia/radial_analysis_output/follow/individual_spatiotemporal_heatmaps/400.400.10/scr_apop_wt_div/GV0797_Pos23_36_RFP_N_cells / /home/nathan/data/kraken/h2b/giulia/radial_analysis_output/follow/individual_spatiotemporal_heatmaps/400.400.10/scr_apop_wt_div/GV0797_Pos23_36_RFP_N_events saved out successfully',\n",
       "  '/home/nathan/data/kraken/h2b/giulia/radial_analysis_output/follow/individual_spatiotemporal_heatmaps/400.400.10/scr_apop_wt_div/GV0797_Pos23_319_RFP_N_cells / /home/nathan/data/kraken/h2b/giulia/radial_analysis_output/follow/individual_spatiotemporal_heatmaps/400.400.10/scr_apop_wt_div/GV0797_Pos23_319_RFP_N_events saved out successfully',\n",
       "  '/home/nathan/data/kraken/h2b/giulia/radial_analysis_output/follow/individual_spatiotemporal_heatmaps/400.400.10/scr_apop_wt_div/GV0797_Pos23_556_RFP_N_cells / /home/nathan/data/kraken/h2b/giulia/radial_analysis_output/follow/individual_spatiotemporal_heatmaps/400.400.10/scr_apop_wt_div/GV0797_Pos23_556_RFP_N_events saved out successfully',\n",
       "  '/home/nathan/data/kraken/h2b/giulia/radial_analysis_output/follow/individual_spatiotemporal_heatmaps/400.400.10/scr_apop_wt_div/GV0813_Pos5_212_RFP_N_cells / /home/nathan/data/kraken/h2b/giulia/radial_analysis_output/follow/individual_spatiotemporal_heatmaps/400.400.10/scr_apop_wt_div/GV0813_Pos5_212_RFP_N_events saved out successfully',\n",
       "  '/home/nathan/data/kraken/h2b/giulia/radial_analysis_output/follow/individual_spatiotemporal_heatmaps/400.400.10/scr_apop_wt_div/GV0813_Pos5_340_RFP_N_cells / /home/nathan/data/kraken/h2b/giulia/radial_analysis_output/follow/individual_spatiotemporal_heatmaps/400.400.10/scr_apop_wt_div/GV0813_Pos5_340_RFP_N_events saved out successfully',\n",
       "  '/home/nathan/data/kraken/h2b/giulia/radial_analysis_output/follow/individual_spatiotemporal_heatmaps/400.400.10/scr_apop_wt_div/GV0813_Pos5_210_RFP_N_cells / /home/nathan/data/kraken/h2b/giulia/radial_analysis_output/follow/individual_spatiotemporal_heatmaps/400.400.10/scr_apop_wt_div/GV0813_Pos5_210_RFP_N_events saved out successfully',\n",
       "  '/home/nathan/data/kraken/h2b/giulia/radial_analysis_output/follow/individual_spatiotemporal_heatmaps/400.400.10/scr_apop_wt_div/GV0813_Pos5_155_RFP_N_cells / /home/nathan/data/kraken/h2b/giulia/radial_analysis_output/follow/individual_spatiotemporal_heatmaps/400.400.10/scr_apop_wt_div/GV0813_Pos5_155_RFP_N_events saved out successfully',\n",
       "  '/home/nathan/data/kraken/h2b/giulia/radial_analysis_output/follow/individual_spatiotemporal_heatmaps/400.400.10/scr_apop_wt_div/GV0819_Pos4_70_RFP_N_cells / /home/nathan/data/kraken/h2b/giulia/radial_analysis_output/follow/individual_spatiotemporal_heatmaps/400.400.10/scr_apop_wt_div/GV0819_Pos4_70_RFP_N_events saved out successfully',\n",
       "  '/home/nathan/data/kraken/h2b/giulia/radial_analysis_output/follow/individual_spatiotemporal_heatmaps/400.400.10/scr_apop_wt_div/GV0819_Pos4_52_RFP_N_cells / /home/nathan/data/kraken/h2b/giulia/radial_analysis_output/follow/individual_spatiotemporal_heatmaps/400.400.10/scr_apop_wt_div/GV0819_Pos4_52_RFP_N_events saved out successfully',\n",
       "  '/home/nathan/data/kraken/h2b/giulia/radial_analysis_output/follow/individual_spatiotemporal_heatmaps/400.400.10/scr_apop_wt_div/GV0819_Pos4_15_RFP_N_cells / /home/nathan/data/kraken/h2b/giulia/radial_analysis_output/follow/individual_spatiotemporal_heatmaps/400.400.10/scr_apop_wt_div/GV0819_Pos4_15_RFP_N_events saved out successfully',\n",
       "  '/home/nathan/data/kraken/h2b/giulia/radial_analysis_output/follow/individual_spatiotemporal_heatmaps/400.400.10/scr_apop_wt_div/GV0819_Pos4_201_RFP_N_cells / /home/nathan/data/kraken/h2b/giulia/radial_analysis_output/follow/individual_spatiotemporal_heatmaps/400.400.10/scr_apop_wt_div/GV0819_Pos4_201_RFP_N_events saved out successfully',\n",
       "  '/home/nathan/data/kraken/h2b/giulia/radial_analysis_output/follow/individual_spatiotemporal_heatmaps/400.400.10/scr_apop_wt_div/GV0819_Pos4_389_RFP_N_cells / /home/nathan/data/kraken/h2b/giulia/radial_analysis_output/follow/individual_spatiotemporal_heatmaps/400.400.10/scr_apop_wt_div/GV0819_Pos4_389_RFP_N_events saved out successfully',\n",
       "  '/home/nathan/data/kraken/h2b/giulia/radial_analysis_output/follow/individual_spatiotemporal_heatmaps/400.400.10/scr_apop_wt_div/GV0819_Pos4_603_RFP_N_cells / /home/nathan/data/kraken/h2b/giulia/radial_analysis_output/follow/individual_spatiotemporal_heatmaps/400.400.10/scr_apop_wt_div/GV0819_Pos4_603_RFP_N_events saved out successfully',\n",
       "  '/home/nathan/data/kraken/h2b/giulia/radial_analysis_output/follow/individual_spatiotemporal_heatmaps/400.400.10/scr_apop_wt_div/GV0819_Pos4_572_RFP_N_cells / /home/nathan/data/kraken/h2b/giulia/radial_analysis_output/follow/individual_spatiotemporal_heatmaps/400.400.10/scr_apop_wt_div/GV0819_Pos4_572_RFP_N_events saved out successfully',\n",
       "  '/home/nathan/data/kraken/h2b/giulia/radial_analysis_output/follow/individual_spatiotemporal_heatmaps/400.400.10/scr_apop_wt_div/GV0819_Pos4_339_RFP_N_cells / /home/nathan/data/kraken/h2b/giulia/radial_analysis_output/follow/individual_spatiotemporal_heatmaps/400.400.10/scr_apop_wt_div/GV0819_Pos4_339_RFP_N_events saved out successfully',\n",
       "  '/home/nathan/data/kraken/h2b/giulia/radial_analysis_output/follow/individual_spatiotemporal_heatmaps/400.400.10/scr_apop_wt_div/GV0819_Pos4_338_RFP_N_cells / /home/nathan/data/kraken/h2b/giulia/radial_analysis_output/follow/individual_spatiotemporal_heatmaps/400.400.10/scr_apop_wt_div/GV0819_Pos4_338_RFP_N_events saved out successfully',\n",
       "  '/home/nathan/data/kraken/h2b/giulia/radial_analysis_output/follow/individual_spatiotemporal_heatmaps/400.400.10/scr_apop_wt_div/GV0819_Pos4_430_RFP_N_cells / /home/nathan/data/kraken/h2b/giulia/radial_analysis_output/follow/individual_spatiotemporal_heatmaps/400.400.10/scr_apop_wt_div/GV0819_Pos4_430_RFP_N_events saved out successfully',\n",
       "  '/home/nathan/data/kraken/h2b/giulia/radial_analysis_output/follow/individual_spatiotemporal_heatmaps/400.400.10/scr_apop_wt_div/GV0819_Pos4_309_RFP_N_cells / /home/nathan/data/kraken/h2b/giulia/radial_analysis_output/follow/individual_spatiotemporal_heatmaps/400.400.10/scr_apop_wt_div/GV0819_Pos4_309_RFP_N_events saved out successfully',\n",
       "  '/home/nathan/data/kraken/h2b/giulia/radial_analysis_output/follow/individual_spatiotemporal_heatmaps/400.400.10/scr_apop_wt_div/GV0819_Pos4_429_RFP_N_cells / /home/nathan/data/kraken/h2b/giulia/radial_analysis_output/follow/individual_spatiotemporal_heatmaps/400.400.10/scr_apop_wt_div/GV0819_Pos4_429_RFP_N_events saved out successfully',\n",
       "  '/home/nathan/data/kraken/h2b/giulia/radial_analysis_output/follow/individual_spatiotemporal_heatmaps/400.400.10/scr_apop_wt_div/GV0819_Pos4_428_RFP_N_cells / /home/nathan/data/kraken/h2b/giulia/radial_analysis_output/follow/individual_spatiotemporal_heatmaps/400.400.10/scr_apop_wt_div/GV0819_Pos4_428_RFP_N_events saved out successfully',\n",
       "  '/home/nathan/data/kraken/h2b/giulia/radial_analysis_output/follow/individual_spatiotemporal_heatmaps/400.400.10/scr_apop_wt_div/GV0819_Pos4_10_RFP_N_cells / /home/nathan/data/kraken/h2b/giulia/radial_analysis_output/follow/individual_spatiotemporal_heatmaps/400.400.10/scr_apop_wt_div/GV0819_Pos4_10_RFP_N_events saved out successfully',\n",
       "  '/home/nathan/data/kraken/h2b/giulia/radial_analysis_output/follow/individual_spatiotemporal_heatmaps/400.400.10/scr_apop_wt_div/GV0819_Pos4_448_RFP_N_cells / /home/nathan/data/kraken/h2b/giulia/radial_analysis_output/follow/individual_spatiotemporal_heatmaps/400.400.10/scr_apop_wt_div/GV0819_Pos4_448_RFP_N_events saved out successfully',\n",
       "  '/home/nathan/data/kraken/h2b/giulia/radial_analysis_output/follow/individual_spatiotemporal_heatmaps/400.400.10/scr_apop_wt_div/GV0819_Pos4_625_RFP_N_cells / /home/nathan/data/kraken/h2b/giulia/radial_analysis_output/follow/individual_spatiotemporal_heatmaps/400.400.10/scr_apop_wt_div/GV0819_Pos4_625_RFP_N_events saved out successfully',\n",
       "  '/home/nathan/data/kraken/h2b/giulia/radial_analysis_output/follow/individual_spatiotemporal_heatmaps/400.400.10/scr_apop_wt_div/GV0819_Pos4_341_RFP_N_cells / /home/nathan/data/kraken/h2b/giulia/radial_analysis_output/follow/individual_spatiotemporal_heatmaps/400.400.10/scr_apop_wt_div/GV0819_Pos4_341_RFP_N_events saved out successfully',\n",
       "  '/home/nathan/data/kraken/h2b/giulia/radial_analysis_output/follow/individual_spatiotemporal_heatmaps/400.400.10/scr_apop_wt_div/GV0819_Pos4_417_RFP_N_cells / /home/nathan/data/kraken/h2b/giulia/radial_analysis_output/follow/individual_spatiotemporal_heatmaps/400.400.10/scr_apop_wt_div/GV0819_Pos4_417_RFP_N_events saved out successfully',\n",
       "  '/home/nathan/data/kraken/h2b/giulia/radial_analysis_output/follow/individual_spatiotemporal_heatmaps/400.400.10/scr_apop_wt_div/GV0819_Pos4_573_RFP_N_cells / /home/nathan/data/kraken/h2b/giulia/radial_analysis_output/follow/individual_spatiotemporal_heatmaps/400.400.10/scr_apop_wt_div/GV0819_Pos4_573_RFP_N_events saved out successfully',\n",
       "  '/home/nathan/data/kraken/h2b/giulia/radial_analysis_output/follow/individual_spatiotemporal_heatmaps/400.400.10/scr_apop_wt_div/GV0819_Pos4_502_RFP_N_cells / /home/nathan/data/kraken/h2b/giulia/radial_analysis_output/follow/individual_spatiotemporal_heatmaps/400.400.10/scr_apop_wt_div/GV0819_Pos4_502_RFP_N_events saved out successfully',\n",
       "  '/home/nathan/data/kraken/h2b/giulia/radial_analysis_output/follow/individual_spatiotemporal_heatmaps/400.400.10/scr_apop_wt_div/GV0819_Pos4_1112_RFP_N_cells / /home/nathan/data/kraken/h2b/giulia/radial_analysis_output/follow/individual_spatiotemporal_heatmaps/400.400.10/scr_apop_wt_div/GV0819_Pos4_1112_RFP_N_events saved out successfully',\n",
       "  '/home/nathan/data/kraken/h2b/giulia/radial_analysis_output/follow/individual_spatiotemporal_heatmaps/400.400.10/scr_apop_wt_div/GV0819_Pos4_624_RFP_N_cells / /home/nathan/data/kraken/h2b/giulia/radial_analysis_output/follow/individual_spatiotemporal_heatmaps/400.400.10/scr_apop_wt_div/GV0819_Pos4_624_RFP_N_events saved out successfully',\n",
       "  '/home/nathan/data/kraken/h2b/giulia/radial_analysis_output/follow/individual_spatiotemporal_heatmaps/400.400.10/scr_apop_wt_div/GV0819_Pos4_1382_RFP_N_cells / /home/nathan/data/kraken/h2b/giulia/radial_analysis_output/follow/individual_spatiotemporal_heatmaps/400.400.10/scr_apop_wt_div/GV0819_Pos4_1382_RFP_N_events saved out successfully',\n",
       "  '/home/nathan/data/kraken/h2b/giulia/radial_analysis_output/follow/individual_spatiotemporal_heatmaps/400.400.10/scr_apop_wt_div/GV0819_Pos4_1354_RFP_N_cells / /home/nathan/data/kraken/h2b/giulia/radial_analysis_output/follow/individual_spatiotemporal_heatmaps/400.400.10/scr_apop_wt_div/GV0819_Pos4_1354_RFP_N_events saved out successfully',\n",
       "  '/home/nathan/data/kraken/h2b/giulia/radial_analysis_output/follow/individual_spatiotemporal_heatmaps/400.400.10/scr_apop_wt_div/GV0819_Pos4_410_RFP_N_cells / /home/nathan/data/kraken/h2b/giulia/radial_analysis_output/follow/individual_spatiotemporal_heatmaps/400.400.10/scr_apop_wt_div/GV0819_Pos4_410_RFP_N_events saved out successfully',\n",
       "  '/home/nathan/data/kraken/h2b/giulia/radial_analysis_output/follow/individual_spatiotemporal_heatmaps/400.400.10/scr_apop_wt_div/GV0819_Pos4_715_RFP_N_cells / /home/nathan/data/kraken/h2b/giulia/radial_analysis_output/follow/individual_spatiotemporal_heatmaps/400.400.10/scr_apop_wt_div/GV0819_Pos4_715_RFP_N_events saved out successfully',\n",
       "  '/home/nathan/data/kraken/h2b/giulia/radial_analysis_output/follow/individual_spatiotemporal_heatmaps/400.400.10/scr_apop_wt_div/GV0819_Pos4_1144_RFP_N_cells / /home/nathan/data/kraken/h2b/giulia/radial_analysis_output/follow/individual_spatiotemporal_heatmaps/400.400.10/scr_apop_wt_div/GV0819_Pos4_1144_RFP_N_events saved out successfully',\n",
       "  '/home/nathan/data/kraken/h2b/giulia/radial_analysis_output/follow/individual_spatiotemporal_heatmaps/400.400.10/scr_apop_wt_div/GV0819_Pos4_633_RFP_N_cells / /home/nathan/data/kraken/h2b/giulia/radial_analysis_output/follow/individual_spatiotemporal_heatmaps/400.400.10/scr_apop_wt_div/GV0819_Pos4_633_RFP_N_events saved out successfully',\n",
       "  '/home/nathan/data/kraken/h2b/giulia/radial_analysis_output/follow/individual_spatiotemporal_heatmaps/400.400.10/scr_apop_wt_div/GV0819_Pos4_60_RFP_N_cells / /home/nathan/data/kraken/h2b/giulia/radial_analysis_output/follow/individual_spatiotemporal_heatmaps/400.400.10/scr_apop_wt_div/GV0819_Pos4_60_RFP_N_events saved out successfully',\n",
       "  '/home/nathan/data/kraken/h2b/giulia/radial_analysis_output/follow/individual_spatiotemporal_heatmaps/400.400.10/scr_apop_wt_div/GV0819_Pos4_463_RFP_N_cells / /home/nathan/data/kraken/h2b/giulia/radial_analysis_output/follow/individual_spatiotemporal_heatmaps/400.400.10/scr_apop_wt_div/GV0819_Pos4_463_RFP_N_events saved out successfully',\n",
       "  '/home/nathan/data/kraken/h2b/giulia/radial_analysis_output/follow/individual_spatiotemporal_heatmaps/400.400.10/scr_apop_wt_div/GV0819_Pos4_1222_RFP_N_cells / /home/nathan/data/kraken/h2b/giulia/radial_analysis_output/follow/individual_spatiotemporal_heatmaps/400.400.10/scr_apop_wt_div/GV0819_Pos4_1222_RFP_N_events saved out successfully',\n",
       "  '/home/nathan/data/kraken/h2b/giulia/radial_analysis_output/follow/individual_spatiotemporal_heatmaps/400.400.10/scr_apop_wt_div/GV0819_Pos4_409_RFP_N_cells / /home/nathan/data/kraken/h2b/giulia/radial_analysis_output/follow/individual_spatiotemporal_heatmaps/400.400.10/scr_apop_wt_div/GV0819_Pos4_409_RFP_N_events saved out successfully',\n",
       "  '/home/nathan/data/kraken/h2b/giulia/radial_analysis_output/follow/individual_spatiotemporal_heatmaps/400.400.10/scr_apop_wt_div/GV0819_Pos4_753_RFP_N_cells / /home/nathan/data/kraken/h2b/giulia/radial_analysis_output/follow/individual_spatiotemporal_heatmaps/400.400.10/scr_apop_wt_div/GV0819_Pos4_753_RFP_N_events saved out successfully',\n",
       "  '/home/nathan/data/kraken/h2b/giulia/radial_analysis_output/follow/individual_spatiotemporal_heatmaps/400.400.10/scr_apop_wt_div/GV0795_Pos18_379_RFP_N_cells / /home/nathan/data/kraken/h2b/giulia/radial_analysis_output/follow/individual_spatiotemporal_heatmaps/400.400.10/scr_apop_wt_div/GV0795_Pos18_379_RFP_N_events saved out successfully',\n",
       "  '/home/nathan/data/kraken/h2b/giulia/radial_analysis_output/follow/individual_spatiotemporal_heatmaps/400.400.10/scr_apop_wt_div/GV0795_Pos18_413_RFP_N_cells / /home/nathan/data/kraken/h2b/giulia/radial_analysis_output/follow/individual_spatiotemporal_heatmaps/400.400.10/scr_apop_wt_div/GV0795_Pos18_413_RFP_N_events saved out successfully',\n",
       "  '/home/nathan/data/kraken/h2b/giulia/radial_analysis_output/follow/individual_spatiotemporal_heatmaps/400.400.10/scr_apop_wt_div/GV0795_Pos18_854_RFP_N_cells / /home/nathan/data/kraken/h2b/giulia/radial_analysis_output/follow/individual_spatiotemporal_heatmaps/400.400.10/scr_apop_wt_div/GV0795_Pos18_854_RFP_N_events saved out successfully',\n",
       "  '/home/nathan/data/kraken/h2b/giulia/radial_analysis_output/follow/individual_spatiotemporal_heatmaps/400.400.10/scr_apop_wt_div/GV0795_Pos18_855_RFP_N_cells / /home/nathan/data/kraken/h2b/giulia/radial_analysis_output/follow/individual_spatiotemporal_heatmaps/400.400.10/scr_apop_wt_div/GV0795_Pos18_855_RFP_N_events saved out successfully',\n",
       "  '/home/nathan/data/kraken/h2b/giulia/radial_analysis_output/follow/individual_spatiotemporal_heatmaps/400.400.10/scr_apop_wt_div/GV0795_Pos18_1179_RFP_N_cells / /home/nathan/data/kraken/h2b/giulia/radial_analysis_output/follow/individual_spatiotemporal_heatmaps/400.400.10/scr_apop_wt_div/GV0795_Pos18_1179_RFP_N_events saved out successfully',\n",
       "  '/home/nathan/data/kraken/h2b/giulia/radial_analysis_output/follow/individual_spatiotemporal_heatmaps/400.400.10/scr_apop_wt_div/GV0795_Pos18_409_RFP_N_cells / /home/nathan/data/kraken/h2b/giulia/radial_analysis_output/follow/individual_spatiotemporal_heatmaps/400.400.10/scr_apop_wt_div/GV0795_Pos18_409_RFP_N_events saved out successfully',\n",
       "  '/home/nathan/data/kraken/h2b/giulia/radial_analysis_output/follow/individual_spatiotemporal_heatmaps/400.400.10/scr_apop_wt_div/GV0795_Pos18_684_RFP_N_cells / /home/nathan/data/kraken/h2b/giulia/radial_analysis_output/follow/individual_spatiotemporal_heatmaps/400.400.10/scr_apop_wt_div/GV0795_Pos18_684_RFP_N_events saved out successfully',\n",
       "  '/home/nathan/data/kraken/h2b/giulia/radial_analysis_output/follow/individual_spatiotemporal_heatmaps/400.400.10/scr_apop_wt_div/GV0795_Pos18_802_RFP_N_cells / /home/nathan/data/kraken/h2b/giulia/radial_analysis_output/follow/individual_spatiotemporal_heatmaps/400.400.10/scr_apop_wt_div/GV0795_Pos18_802_RFP_N_events saved out successfully',\n",
       "  '/home/nathan/data/kraken/h2b/giulia/radial_analysis_output/follow/individual_spatiotemporal_heatmaps/400.400.10/scr_apop_wt_div/GV0795_Pos18_46_RFP_N_cells / /home/nathan/data/kraken/h2b/giulia/radial_analysis_output/follow/individual_spatiotemporal_heatmaps/400.400.10/scr_apop_wt_div/GV0795_Pos18_46_RFP_N_events saved out successfully',\n",
       "  '/home/nathan/data/kraken/h2b/giulia/radial_analysis_output/follow/individual_spatiotemporal_heatmaps/400.400.10/scr_apop_wt_div/GV0795_Pos18_521_RFP_N_cells / /home/nathan/data/kraken/h2b/giulia/radial_analysis_output/follow/individual_spatiotemporal_heatmaps/400.400.10/scr_apop_wt_div/GV0795_Pos18_521_RFP_N_events saved out successfully',\n",
       "  '/home/nathan/data/kraken/h2b/giulia/radial_analysis_output/follow/individual_spatiotemporal_heatmaps/400.400.10/scr_apop_wt_div/GV0795_Pos18_3_RFP_N_cells / /home/nathan/data/kraken/h2b/giulia/radial_analysis_output/follow/individual_spatiotemporal_heatmaps/400.400.10/scr_apop_wt_div/GV0795_Pos18_3_RFP_N_events saved out successfully',\n",
       "  '/home/nathan/data/kraken/h2b/giulia/radial_analysis_output/follow/individual_spatiotemporal_heatmaps/400.400.10/scr_apop_wt_div/GV0795_Pos18_715_RFP_N_cells / /home/nathan/data/kraken/h2b/giulia/radial_analysis_output/follow/individual_spatiotemporal_heatmaps/400.400.10/scr_apop_wt_div/GV0795_Pos18_715_RFP_N_events saved out successfully',\n",
       "  '/home/nathan/data/kraken/h2b/giulia/radial_analysis_output/follow/individual_spatiotemporal_heatmaps/400.400.10/scr_apop_wt_div/GV0795_Pos18_28_RFP_N_cells / /home/nathan/data/kraken/h2b/giulia/radial_analysis_output/follow/individual_spatiotemporal_heatmaps/400.400.10/scr_apop_wt_div/GV0795_Pos18_28_RFP_N_events saved out successfully',\n",
       "  '/home/nathan/data/kraken/h2b/giulia/radial_analysis_output/follow/individual_spatiotemporal_heatmaps/400.400.10/scr_apop_wt_div/GV0795_Pos18_12_RFP_N_cells / /home/nathan/data/kraken/h2b/giulia/radial_analysis_output/follow/individual_spatiotemporal_heatmaps/400.400.10/scr_apop_wt_div/GV0795_Pos18_12_RFP_N_events saved out successfully',\n",
       "  '/home/nathan/data/kraken/h2b/giulia/radial_analysis_output/follow/individual_spatiotemporal_heatmaps/400.400.10/scr_apop_wt_div/GV0795_Pos18_19_RFP_N_cells / /home/nathan/data/kraken/h2b/giulia/radial_analysis_output/follow/individual_spatiotemporal_heatmaps/400.400.10/scr_apop_wt_div/GV0795_Pos18_19_RFP_N_events saved out successfully',\n",
       "  '/home/nathan/data/kraken/h2b/giulia/radial_analysis_output/follow/individual_spatiotemporal_heatmaps/400.400.10/scr_apop_wt_div/GV0795_Pos18_728_RFP_N_cells / /home/nathan/data/kraken/h2b/giulia/radial_analysis_output/follow/individual_spatiotemporal_heatmaps/400.400.10/scr_apop_wt_div/GV0795_Pos18_728_RFP_N_events saved out successfully',\n",
       "  '/home/nathan/data/kraken/h2b/giulia/radial_analysis_output/follow/individual_spatiotemporal_heatmaps/400.400.10/scr_apop_wt_div/GV0815_Pos0_230_RFP_N_cells / /home/nathan/data/kraken/h2b/giulia/radial_analysis_output/follow/individual_spatiotemporal_heatmaps/400.400.10/scr_apop_wt_div/GV0815_Pos0_230_RFP_N_events saved out successfully',\n",
       "  '/home/nathan/data/kraken/h2b/giulia/radial_analysis_output/follow/individual_spatiotemporal_heatmaps/400.400.10/scr_apop_wt_div/GV0815_Pos0_8_RFP_N_cells / /home/nathan/data/kraken/h2b/giulia/radial_analysis_output/follow/individual_spatiotemporal_heatmaps/400.400.10/scr_apop_wt_div/GV0815_Pos0_8_RFP_N_events saved out successfully',\n",
       "  '/home/nathan/data/kraken/h2b/giulia/radial_analysis_output/follow/individual_spatiotemporal_heatmaps/400.400.10/scr_apop_wt_div/GV0815_Pos0_354_RFP_N_cells / /home/nathan/data/kraken/h2b/giulia/radial_analysis_output/follow/individual_spatiotemporal_heatmaps/400.400.10/scr_apop_wt_div/GV0815_Pos0_354_RFP_N_events saved out successfully',\n",
       "  '/home/nathan/data/kraken/h2b/giulia/radial_analysis_output/follow/individual_spatiotemporal_heatmaps/400.400.10/scr_apop_wt_div/GV0815_Pos0_465_RFP_N_cells / /home/nathan/data/kraken/h2b/giulia/radial_analysis_output/follow/individual_spatiotemporal_heatmaps/400.400.10/scr_apop_wt_div/GV0815_Pos0_465_RFP_N_events saved out successfully',\n",
       "  '/home/nathan/data/kraken/h2b/giulia/radial_analysis_output/follow/individual_spatiotemporal_heatmaps/400.400.10/scr_apop_wt_div/GV0815_Pos0_537_RFP_N_cells / /home/nathan/data/kraken/h2b/giulia/radial_analysis_output/follow/individual_spatiotemporal_heatmaps/400.400.10/scr_apop_wt_div/GV0815_Pos0_537_RFP_N_events saved out successfully',\n",
       "  '/home/nathan/data/kraken/h2b/giulia/radial_analysis_output/follow/individual_spatiotemporal_heatmaps/400.400.10/scr_apop_wt_div/GV0815_Pos0_557_RFP_N_cells / /home/nathan/data/kraken/h2b/giulia/radial_analysis_output/follow/individual_spatiotemporal_heatmaps/400.400.10/scr_apop_wt_div/GV0815_Pos0_557_RFP_N_events saved out successfully',\n",
       "  '/home/nathan/data/kraken/h2b/giulia/radial_analysis_output/follow/individual_spatiotemporal_heatmaps/400.400.10/scr_apop_wt_div/GV0815_Pos0_543_RFP_N_cells / /home/nathan/data/kraken/h2b/giulia/radial_analysis_output/follow/individual_spatiotemporal_heatmaps/400.400.10/scr_apop_wt_div/GV0815_Pos0_543_RFP_N_events saved out successfully',\n",
       "  '/home/nathan/data/kraken/h2b/giulia/radial_analysis_output/follow/individual_spatiotemporal_heatmaps/400.400.10/scr_apop_wt_div/GV0815_Pos0_542_RFP_N_cells / /home/nathan/data/kraken/h2b/giulia/radial_analysis_output/follow/individual_spatiotemporal_heatmaps/400.400.10/scr_apop_wt_div/GV0815_Pos0_542_RFP_N_events saved out successfully',\n",
       "  '/home/nathan/data/kraken/h2b/giulia/radial_analysis_output/follow/individual_spatiotemporal_heatmaps/400.400.10/scr_apop_wt_div/GV0815_Pos0_570_RFP_N_cells / /home/nathan/data/kraken/h2b/giulia/radial_analysis_output/follow/individual_spatiotemporal_heatmaps/400.400.10/scr_apop_wt_div/GV0815_Pos0_570_RFP_N_events saved out successfully',\n",
       "  '/home/nathan/data/kraken/h2b/giulia/radial_analysis_output/follow/individual_spatiotemporal_heatmaps/400.400.10/scr_apop_wt_div/GV0815_Pos0_568_RFP_N_cells / /home/nathan/data/kraken/h2b/giulia/radial_analysis_output/follow/individual_spatiotemporal_heatmaps/400.400.10/scr_apop_wt_div/GV0815_Pos0_568_RFP_N_events saved out successfully',\n",
       "  '/home/nathan/data/kraken/h2b/giulia/radial_analysis_output/follow/individual_spatiotemporal_heatmaps/400.400.10/scr_apop_wt_div/GV0815_Pos0_393_RFP_N_cells / /home/nathan/data/kraken/h2b/giulia/radial_analysis_output/follow/individual_spatiotemporal_heatmaps/400.400.10/scr_apop_wt_div/GV0815_Pos0_393_RFP_N_events saved out successfully',\n",
       "  '/home/nathan/data/kraken/h2b/giulia/radial_analysis_output/follow/individual_spatiotemporal_heatmaps/400.400.10/scr_apop_wt_div/GV0815_Pos0_386_RFP_N_cells / /home/nathan/data/kraken/h2b/giulia/radial_analysis_output/follow/individual_spatiotemporal_heatmaps/400.400.10/scr_apop_wt_div/GV0815_Pos0_386_RFP_N_events saved out successfully',\n",
       "  '/home/nathan/data/kraken/h2b/giulia/radial_analysis_output/follow/individual_spatiotemporal_heatmaps/400.400.10/scr_apop_wt_div/GV0815_Pos0_344_RFP_N_cells / /home/nathan/data/kraken/h2b/giulia/radial_analysis_output/follow/individual_spatiotemporal_heatmaps/400.400.10/scr_apop_wt_div/GV0815_Pos0_344_RFP_N_events saved out successfully',\n",
       "  '/home/nathan/data/kraken/h2b/giulia/radial_analysis_output/follow/individual_spatiotemporal_heatmaps/400.400.10/scr_apop_wt_div/GV0815_Pos0_572_RFP_N_cells / /home/nathan/data/kraken/h2b/giulia/radial_analysis_output/follow/individual_spatiotemporal_heatmaps/400.400.10/scr_apop_wt_div/GV0815_Pos0_572_RFP_N_events saved out successfully',\n",
       "  '/home/nathan/data/kraken/h2b/giulia/radial_analysis_output/follow/individual_spatiotemporal_heatmaps/400.400.10/scr_apop_wt_div/GV0815_Pos0_714_RFP_N_cells / /home/nathan/data/kraken/h2b/giulia/radial_analysis_output/follow/individual_spatiotemporal_heatmaps/400.400.10/scr_apop_wt_div/GV0815_Pos0_714_RFP_N_events saved out successfully',\n",
       "  '/home/nathan/data/kraken/h2b/giulia/radial_analysis_output/follow/individual_spatiotemporal_heatmaps/400.400.10/scr_apop_wt_div/GV0815_Pos0_516_RFP_N_cells / /home/nathan/data/kraken/h2b/giulia/radial_analysis_output/follow/individual_spatiotemporal_heatmaps/400.400.10/scr_apop_wt_div/GV0815_Pos0_516_RFP_N_events saved out successfully',\n",
       "  '/home/nathan/data/kraken/h2b/giulia/radial_analysis_output/follow/individual_spatiotemporal_heatmaps/400.400.10/scr_apop_wt_div/GV0815_Pos0_158_RFP_N_cells / /home/nathan/data/kraken/h2b/giulia/radial_analysis_output/follow/individual_spatiotemporal_heatmaps/400.400.10/scr_apop_wt_div/GV0815_Pos0_158_RFP_N_events saved out successfully',\n",
       "  '/home/nathan/data/kraken/h2b/giulia/radial_analysis_output/follow/individual_spatiotemporal_heatmaps/400.400.10/scr_apop_wt_div/GV0815_Pos0_498_RFP_N_cells / /home/nathan/data/kraken/h2b/giulia/radial_analysis_output/follow/individual_spatiotemporal_heatmaps/400.400.10/scr_apop_wt_div/GV0815_Pos0_498_RFP_N_events saved out successfully',\n",
       "  '/home/nathan/data/kraken/h2b/giulia/radial_analysis_output/follow/individual_spatiotemporal_heatmaps/400.400.10/scr_apop_wt_div/GV0815_Pos0_685_RFP_N_cells / /home/nathan/data/kraken/h2b/giulia/radial_analysis_output/follow/individual_spatiotemporal_heatmaps/400.400.10/scr_apop_wt_div/GV0815_Pos0_685_RFP_N_events saved out successfully',\n",
       "  '/home/nathan/data/kraken/h2b/giulia/radial_analysis_output/follow/individual_spatiotemporal_heatmaps/400.400.10/scr_apop_wt_div/GV0815_Pos0_825_RFP_N_cells / /home/nathan/data/kraken/h2b/giulia/radial_analysis_output/follow/individual_spatiotemporal_heatmaps/400.400.10/scr_apop_wt_div/GV0815_Pos0_825_RFP_N_events saved out successfully',\n",
       "  '/home/nathan/data/kraken/h2b/giulia/radial_analysis_output/follow/individual_spatiotemporal_heatmaps/400.400.10/scr_apop_wt_div/GV0815_Pos0_489_RFP_N_cells / /home/nathan/data/kraken/h2b/giulia/radial_analysis_output/follow/individual_spatiotemporal_heatmaps/400.400.10/scr_apop_wt_div/GV0815_Pos0_489_RFP_N_events saved out successfully',\n",
       "  '/home/nathan/data/kraken/h2b/giulia/radial_analysis_output/follow/individual_spatiotemporal_heatmaps/400.400.10/scr_apop_wt_div/GV0815_Pos0_13_RFP_N_cells / /home/nathan/data/kraken/h2b/giulia/radial_analysis_output/follow/individual_spatiotemporal_heatmaps/400.400.10/scr_apop_wt_div/GV0815_Pos0_13_RFP_N_events saved out successfully',\n",
       "  '/home/nathan/data/kraken/h2b/giulia/radial_analysis_output/follow/individual_spatiotemporal_heatmaps/400.400.10/scr_apop_wt_div/GV0815_Pos0_844_RFP_N_cells / /home/nathan/data/kraken/h2b/giulia/radial_analysis_output/follow/individual_spatiotemporal_heatmaps/400.400.10/scr_apop_wt_div/GV0815_Pos0_844_RFP_N_events saved out successfully',\n",
       "  '/home/nathan/data/kraken/h2b/giulia/radial_analysis_output/follow/individual_spatiotemporal_heatmaps/400.400.10/scr_apop_wt_div/GV0815_Pos0_390_RFP_N_cells / /home/nathan/data/kraken/h2b/giulia/radial_analysis_output/follow/individual_spatiotemporal_heatmaps/400.400.10/scr_apop_wt_div/GV0815_Pos0_390_RFP_N_events saved out successfully',\n",
       "  '/home/nathan/data/kraken/h2b/giulia/radial_analysis_output/follow/individual_spatiotemporal_heatmaps/400.400.10/scr_apop_wt_div/GV0815_Pos0_207_RFP_N_cells / /home/nathan/data/kraken/h2b/giulia/radial_analysis_output/follow/individual_spatiotemporal_heatmaps/400.400.10/scr_apop_wt_div/GV0815_Pos0_207_RFP_N_events saved out successfully',\n",
       "  '/home/nathan/data/kraken/h2b/giulia/radial_analysis_output/follow/individual_spatiotemporal_heatmaps/400.400.10/scr_apop_wt_div/GV0815_Pos0_17_RFP_N_cells / /home/nathan/data/kraken/h2b/giulia/radial_analysis_output/follow/individual_spatiotemporal_heatmaps/400.400.10/scr_apop_wt_div/GV0815_Pos0_17_RFP_N_events saved out successfully',\n",
       "  '/home/nathan/data/kraken/h2b/giulia/radial_analysis_output/follow/individual_spatiotemporal_heatmaps/400.400.10/scr_apop_wt_div/GV0815_Pos0_42_RFP_N_cells / /home/nathan/data/kraken/h2b/giulia/radial_analysis_output/follow/individual_spatiotemporal_heatmaps/400.400.10/scr_apop_wt_div/GV0815_Pos0_42_RFP_N_events saved out successfully',\n",
       "  '/home/nathan/data/kraken/h2b/giulia/radial_analysis_output/follow/individual_spatiotemporal_heatmaps/400.400.10/scr_apop_wt_div/GV0815_Pos0_802_RFP_N_cells / /home/nathan/data/kraken/h2b/giulia/radial_analysis_output/follow/individual_spatiotemporal_heatmaps/400.400.10/scr_apop_wt_div/GV0815_Pos0_802_RFP_N_events saved out successfully',\n",
       "  '/home/nathan/data/kraken/h2b/giulia/radial_analysis_output/follow/individual_spatiotemporal_heatmaps/400.400.10/scr_apop_wt_div/GV0815_Pos0_453_RFP_N_cells / /home/nathan/data/kraken/h2b/giulia/radial_analysis_output/follow/individual_spatiotemporal_heatmaps/400.400.10/scr_apop_wt_div/GV0815_Pos0_453_RFP_N_events saved out successfully',\n",
       "  '/home/nathan/data/kraken/h2b/giulia/radial_analysis_output/follow/individual_spatiotemporal_heatmaps/400.400.10/scr_apop_wt_div/GV0815_Pos0_750_RFP_N_cells / /home/nathan/data/kraken/h2b/giulia/radial_analysis_output/follow/individual_spatiotemporal_heatmaps/400.400.10/scr_apop_wt_div/GV0815_Pos0_750_RFP_N_events saved out successfully',\n",
       "  '/home/nathan/data/kraken/h2b/giulia/radial_analysis_output/follow/individual_spatiotemporal_heatmaps/400.400.10/scr_apop_wt_div/GV0815_Pos0_966_RFP_N_cells / /home/nathan/data/kraken/h2b/giulia/radial_analysis_output/follow/individual_spatiotemporal_heatmaps/400.400.10/scr_apop_wt_div/GV0815_Pos0_966_RFP_N_events saved out successfully',\n",
       "  '/home/nathan/data/kraken/h2b/giulia/radial_analysis_output/follow/individual_spatiotemporal_heatmaps/400.400.10/scr_apop_wt_div/GV0798_Pos18_12_RFP_N_cells / /home/nathan/data/kraken/h2b/giulia/radial_analysis_output/follow/individual_spatiotemporal_heatmaps/400.400.10/scr_apop_wt_div/GV0798_Pos18_12_RFP_N_events saved out successfully',\n",
       "  '/home/nathan/data/kraken/h2b/giulia/radial_analysis_output/follow/individual_spatiotemporal_heatmaps/400.400.10/scr_apop_wt_div/GV0798_Pos18_1292_RFP_N_cells / /home/nathan/data/kraken/h2b/giulia/radial_analysis_output/follow/individual_spatiotemporal_heatmaps/400.400.10/scr_apop_wt_div/GV0798_Pos18_1292_RFP_N_events saved out successfully',\n",
       "  '/home/nathan/data/kraken/h2b/giulia/radial_analysis_output/follow/individual_spatiotemporal_heatmaps/400.400.10/scr_apop_wt_div/GV0802_Pos3_10_RFP_N_cells / /home/nathan/data/kraken/h2b/giulia/radial_analysis_output/follow/individual_spatiotemporal_heatmaps/400.400.10/scr_apop_wt_div/GV0802_Pos3_10_RFP_N_events saved out successfully',\n",
       "  '/home/nathan/data/kraken/h2b/giulia/radial_analysis_output/follow/individual_spatiotemporal_heatmaps/400.400.10/scr_apop_wt_div/GV0802_Pos3_4_RFP_N_cells / /home/nathan/data/kraken/h2b/giulia/radial_analysis_output/follow/individual_spatiotemporal_heatmaps/400.400.10/scr_apop_wt_div/GV0802_Pos3_4_RFP_N_events saved out successfully',\n",
       "  '/home/nathan/data/kraken/h2b/giulia/radial_analysis_output/follow/individual_spatiotemporal_heatmaps/400.400.10/scr_apop_wt_div/GV0802_Pos3_110_RFP_N_cells / /home/nathan/data/kraken/h2b/giulia/radial_analysis_output/follow/individual_spatiotemporal_heatmaps/400.400.10/scr_apop_wt_div/GV0802_Pos3_110_RFP_N_events saved out successfully',\n",
       "  '/home/nathan/data/kraken/h2b/giulia/radial_analysis_output/follow/individual_spatiotemporal_heatmaps/400.400.10/scr_apop_wt_div/GV0802_Pos3_109_RFP_N_cells / /home/nathan/data/kraken/h2b/giulia/radial_analysis_output/follow/individual_spatiotemporal_heatmaps/400.400.10/scr_apop_wt_div/GV0802_Pos3_109_RFP_N_events saved out successfully',\n",
       "  '/home/nathan/data/kraken/h2b/giulia/radial_analysis_output/follow/individual_spatiotemporal_heatmaps/400.400.10/scr_apop_wt_div/GV0802_Pos3_106_RFP_N_cells / /home/nathan/data/kraken/h2b/giulia/radial_analysis_output/follow/individual_spatiotemporal_heatmaps/400.400.10/scr_apop_wt_div/GV0802_Pos3_106_RFP_N_events saved out successfully',\n",
       "  '/home/nathan/data/kraken/h2b/giulia/radial_analysis_output/follow/individual_spatiotemporal_heatmaps/400.400.10/scr_apop_wt_div/GV0802_Pos3_128_RFP_N_cells / /home/nathan/data/kraken/h2b/giulia/radial_analysis_output/follow/individual_spatiotemporal_heatmaps/400.400.10/scr_apop_wt_div/GV0802_Pos3_128_RFP_N_events saved out successfully',\n",
       "  '/home/nathan/data/kraken/h2b/giulia/radial_analysis_output/follow/individual_spatiotemporal_heatmaps/400.400.10/scr_apop_wt_div/GV0802_Pos3_7_RFP_N_cells / /home/nathan/data/kraken/h2b/giulia/radial_analysis_output/follow/individual_spatiotemporal_heatmaps/400.400.10/scr_apop_wt_div/GV0802_Pos3_7_RFP_N_events saved out successfully',\n",
       "  '/home/nathan/data/kraken/h2b/giulia/radial_analysis_output/follow/individual_spatiotemporal_heatmaps/400.400.10/scr_apop_wt_div/GV0802_Pos3_93_RFP_N_cells / /home/nathan/data/kraken/h2b/giulia/radial_analysis_output/follow/individual_spatiotemporal_heatmaps/400.400.10/scr_apop_wt_div/GV0802_Pos3_93_RFP_N_events saved out successfully',\n",
       "  '/home/nathan/data/kraken/h2b/giulia/radial_analysis_output/follow/individual_spatiotemporal_heatmaps/400.400.10/scr_apop_wt_div/GV0802_Pos3_91_RFP_N_cells / /home/nathan/data/kraken/h2b/giulia/radial_analysis_output/follow/individual_spatiotemporal_heatmaps/400.400.10/scr_apop_wt_div/GV0802_Pos3_91_RFP_N_events saved out successfully',\n",
       "  '/home/nathan/data/kraken/h2b/giulia/radial_analysis_output/follow/individual_spatiotemporal_heatmaps/400.400.10/scr_apop_wt_div/GV0802_Pos3_131_RFP_N_cells / /home/nathan/data/kraken/h2b/giulia/radial_analysis_output/follow/individual_spatiotemporal_heatmaps/400.400.10/scr_apop_wt_div/GV0802_Pos3_131_RFP_N_events saved out successfully',\n",
       "  '/home/nathan/data/kraken/h2b/giulia/radial_analysis_output/follow/individual_spatiotemporal_heatmaps/400.400.10/scr_apop_wt_div/GV0802_Pos3_16_RFP_N_cells / /home/nathan/data/kraken/h2b/giulia/radial_analysis_output/follow/individual_spatiotemporal_heatmaps/400.400.10/scr_apop_wt_div/GV0802_Pos3_16_RFP_N_events saved out successfully',\n",
       "  '/home/nathan/data/kraken/h2b/giulia/radial_analysis_output/follow/individual_spatiotemporal_heatmaps/400.400.10/scr_apop_wt_div/GV0802_Pos3_154_RFP_N_cells / /home/nathan/data/kraken/h2b/giulia/radial_analysis_output/follow/individual_spatiotemporal_heatmaps/400.400.10/scr_apop_wt_div/GV0802_Pos3_154_RFP_N_events saved out successfully',\n",
       "  '/home/nathan/data/kraken/h2b/giulia/radial_analysis_output/follow/individual_spatiotemporal_heatmaps/400.400.10/scr_apop_wt_div/GV0816_Pos23_8_RFP_N_cells / /home/nathan/data/kraken/h2b/giulia/radial_analysis_output/follow/individual_spatiotemporal_heatmaps/400.400.10/scr_apop_wt_div/GV0816_Pos23_8_RFP_N_events saved out successfully',\n",
       "  '/home/nathan/data/kraken/h2b/giulia/radial_analysis_output/follow/individual_spatiotemporal_heatmaps/400.400.10/scr_apop_wt_div/GV0816_Pos23_30_RFP_N_cells / /home/nathan/data/kraken/h2b/giulia/radial_analysis_output/follow/individual_spatiotemporal_heatmaps/400.400.10/scr_apop_wt_div/GV0816_Pos23_30_RFP_N_events saved out successfully',\n",
       "  '/home/nathan/data/kraken/h2b/giulia/radial_analysis_output/follow/individual_spatiotemporal_heatmaps/400.400.10/scr_apop_wt_div/GV0816_Pos23_36_RFP_N_cells / /home/nathan/data/kraken/h2b/giulia/radial_analysis_output/follow/individual_spatiotemporal_heatmaps/400.400.10/scr_apop_wt_div/GV0816_Pos23_36_RFP_N_events saved out successfully',\n",
       "  '/home/nathan/data/kraken/h2b/giulia/radial_analysis_output/follow/individual_spatiotemporal_heatmaps/400.400.10/scr_apop_wt_div/GV0816_Pos23_426_RFP_N_cells / /home/nathan/data/kraken/h2b/giulia/radial_analysis_output/follow/individual_spatiotemporal_heatmaps/400.400.10/scr_apop_wt_div/GV0816_Pos23_426_RFP_N_events saved out successfully',\n",
       "  '/home/nathan/data/kraken/h2b/giulia/radial_analysis_output/follow/individual_spatiotemporal_heatmaps/400.400.10/scr_apop_wt_div/GV0816_Pos23_269_RFP_N_cells / /home/nathan/data/kraken/h2b/giulia/radial_analysis_output/follow/individual_spatiotemporal_heatmaps/400.400.10/scr_apop_wt_div/GV0816_Pos23_269_RFP_N_events saved out successfully',\n",
       "  '/home/nathan/data/kraken/h2b/giulia/radial_analysis_output/follow/individual_spatiotemporal_heatmaps/400.400.10/scr_apop_wt_div/GV0816_Pos23_330_RFP_N_cells / /home/nathan/data/kraken/h2b/giulia/radial_analysis_output/follow/individual_spatiotemporal_heatmaps/400.400.10/scr_apop_wt_div/GV0816_Pos23_330_RFP_N_events saved out successfully',\n",
       "  '/home/nathan/data/kraken/h2b/giulia/radial_analysis_output/follow/individual_spatiotemporal_heatmaps/400.400.10/scr_apop_wt_div/GV0816_Pos23_526_RFP_N_cells / /home/nathan/data/kraken/h2b/giulia/radial_analysis_output/follow/individual_spatiotemporal_heatmaps/400.400.10/scr_apop_wt_div/GV0816_Pos23_526_RFP_N_events saved out successfully',\n",
       "  '/home/nathan/data/kraken/h2b/giulia/radial_analysis_output/follow/individual_spatiotemporal_heatmaps/400.400.10/scr_apop_wt_div/GV0800_Pos17_23_RFP_N_cells / /home/nathan/data/kraken/h2b/giulia/radial_analysis_output/follow/individual_spatiotemporal_heatmaps/400.400.10/scr_apop_wt_div/GV0800_Pos17_23_RFP_N_events saved out successfully',\n",
       "  '/home/nathan/data/kraken/h2b/giulia/radial_analysis_output/follow/individual_spatiotemporal_heatmaps/400.400.10/scr_apop_wt_div/GV0800_Pos17_48_RFP_N_cells / /home/nathan/data/kraken/h2b/giulia/radial_analysis_output/follow/individual_spatiotemporal_heatmaps/400.400.10/scr_apop_wt_div/GV0800_Pos17_48_RFP_N_events saved out successfully',\n",
       "  '/home/nathan/data/kraken/h2b/giulia/radial_analysis_output/follow/individual_spatiotemporal_heatmaps/400.400.10/scr_apop_wt_div/GV0800_Pos17_359_RFP_N_cells / /home/nathan/data/kraken/h2b/giulia/radial_analysis_output/follow/individual_spatiotemporal_heatmaps/400.400.10/scr_apop_wt_div/GV0800_Pos17_359_RFP_N_events saved out successfully',\n",
       "  '/home/nathan/data/kraken/h2b/giulia/radial_analysis_output/follow/individual_spatiotemporal_heatmaps/400.400.10/scr_apop_wt_div/GV0800_Pos17_518_RFP_N_cells / /home/nathan/data/kraken/h2b/giulia/radial_analysis_output/follow/individual_spatiotemporal_heatmaps/400.400.10/scr_apop_wt_div/GV0800_Pos17_518_RFP_N_events saved out successfully',\n",
       "  '/home/nathan/data/kraken/h2b/giulia/radial_analysis_output/follow/individual_spatiotemporal_heatmaps/400.400.10/scr_apop_wt_div/GV0800_Pos17_587_RFP_N_cells / /home/nathan/data/kraken/h2b/giulia/radial_analysis_output/follow/individual_spatiotemporal_heatmaps/400.400.10/scr_apop_wt_div/GV0800_Pos17_587_RFP_N_events saved out successfully',\n",
       "  '/home/nathan/data/kraken/h2b/giulia/radial_analysis_output/follow/individual_spatiotemporal_heatmaps/400.400.10/scr_apop_wt_div/GV0800_Pos17_385_RFP_N_cells / /home/nathan/data/kraken/h2b/giulia/radial_analysis_output/follow/individual_spatiotemporal_heatmaps/400.400.10/scr_apop_wt_div/GV0800_Pos17_385_RFP_N_events saved out successfully',\n",
       "  '/home/nathan/data/kraken/h2b/giulia/radial_analysis_output/follow/individual_spatiotemporal_heatmaps/400.400.10/scr_apop_wt_div/GV0800_Pos17_462_RFP_N_cells / /home/nathan/data/kraken/h2b/giulia/radial_analysis_output/follow/individual_spatiotemporal_heatmaps/400.400.10/scr_apop_wt_div/GV0800_Pos17_462_RFP_N_events saved out successfully',\n",
       "  '/home/nathan/data/kraken/h2b/giulia/radial_analysis_output/follow/individual_spatiotemporal_heatmaps/400.400.10/scr_apop_wt_div/GV0800_Pos17_380_RFP_N_cells / /home/nathan/data/kraken/h2b/giulia/radial_analysis_output/follow/individual_spatiotemporal_heatmaps/400.400.10/scr_apop_wt_div/GV0800_Pos17_380_RFP_N_events saved out successfully',\n",
       "  '/home/nathan/data/kraken/h2b/giulia/radial_analysis_output/follow/individual_spatiotemporal_heatmaps/400.400.10/scr_apop_wt_div/GV0800_Pos17_519_RFP_N_cells / /home/nathan/data/kraken/h2b/giulia/radial_analysis_output/follow/individual_spatiotemporal_heatmaps/400.400.10/scr_apop_wt_div/GV0800_Pos17_519_RFP_N_events saved out successfully',\n",
       "  '/home/nathan/data/kraken/h2b/giulia/radial_analysis_output/follow/individual_spatiotemporal_heatmaps/400.400.10/scr_apop_wt_div/GV0800_Pos17_727_RFP_N_cells / /home/nathan/data/kraken/h2b/giulia/radial_analysis_output/follow/individual_spatiotemporal_heatmaps/400.400.10/scr_apop_wt_div/GV0800_Pos17_727_RFP_N_events saved out successfully',\n",
       "  '/home/nathan/data/kraken/h2b/giulia/radial_analysis_output/follow/individual_spatiotemporal_heatmaps/400.400.10/scr_apop_wt_div/GV0800_Pos17_728_RFP_N_cells / /home/nathan/data/kraken/h2b/giulia/radial_analysis_output/follow/individual_spatiotemporal_heatmaps/400.400.10/scr_apop_wt_div/GV0800_Pos17_728_RFP_N_events saved out successfully',\n",
       "  '/home/nathan/data/kraken/h2b/giulia/radial_analysis_output/follow/individual_spatiotemporal_heatmaps/400.400.10/scr_apop_wt_div/GV0800_Pos17_804_RFP_N_cells / /home/nathan/data/kraken/h2b/giulia/radial_analysis_output/follow/individual_spatiotemporal_heatmaps/400.400.10/scr_apop_wt_div/GV0800_Pos17_804_RFP_N_events saved out successfully',\n",
       "  '/home/nathan/data/kraken/h2b/giulia/radial_analysis_output/follow/individual_spatiotemporal_heatmaps/400.400.10/scr_apop_wt_div/GV0800_Pos17_917_RFP_N_cells / /home/nathan/data/kraken/h2b/giulia/radial_analysis_output/follow/individual_spatiotemporal_heatmaps/400.400.10/scr_apop_wt_div/GV0800_Pos17_917_RFP_N_events saved out successfully',\n",
       "  '/home/nathan/data/kraken/h2b/giulia/radial_analysis_output/follow/individual_spatiotemporal_heatmaps/400.400.10/scr_apop_wt_div/GV0800_Pos17_716_RFP_N_cells / /home/nathan/data/kraken/h2b/giulia/radial_analysis_output/follow/individual_spatiotemporal_heatmaps/400.400.10/scr_apop_wt_div/GV0800_Pos17_716_RFP_N_events saved out successfully',\n",
       "  '/home/nathan/data/kraken/h2b/giulia/radial_analysis_output/follow/individual_spatiotemporal_heatmaps/400.400.10/scr_apop_wt_div/GV0800_Pos17_753_RFP_N_cells / /home/nathan/data/kraken/h2b/giulia/radial_analysis_output/follow/individual_spatiotemporal_heatmaps/400.400.10/scr_apop_wt_div/GV0800_Pos17_753_RFP_N_events saved out successfully',\n",
       "  '/home/nathan/data/kraken/h2b/giulia/radial_analysis_output/follow/individual_spatiotemporal_heatmaps/400.400.10/scr_apop_wt_div/GV0796_Pos7_39_RFP_N_cells / /home/nathan/data/kraken/h2b/giulia/radial_analysis_output/follow/individual_spatiotemporal_heatmaps/400.400.10/scr_apop_wt_div/GV0796_Pos7_39_RFP_N_events saved out successfully',\n",
       "  '/home/nathan/data/kraken/h2b/giulia/radial_analysis_output/follow/individual_spatiotemporal_heatmaps/400.400.10/scr_apop_wt_div/GV0796_Pos7_40_RFP_N_cells / /home/nathan/data/kraken/h2b/giulia/radial_analysis_output/follow/individual_spatiotemporal_heatmaps/400.400.10/scr_apop_wt_div/GV0796_Pos7_40_RFP_N_events saved out successfully',\n",
       "  '/home/nathan/data/kraken/h2b/giulia/radial_analysis_output/follow/individual_spatiotemporal_heatmaps/400.400.10/scr_apop_wt_div/GV0796_Pos7_48_RFP_N_cells / /home/nathan/data/kraken/h2b/giulia/radial_analysis_output/follow/individual_spatiotemporal_heatmaps/400.400.10/scr_apop_wt_div/GV0796_Pos7_48_RFP_N_events saved out successfully',\n",
       "  '/home/nathan/data/kraken/h2b/giulia/radial_analysis_output/follow/individual_spatiotemporal_heatmaps/400.400.10/scr_apop_wt_div/GV0796_Pos7_72_RFP_N_cells / /home/nathan/data/kraken/h2b/giulia/radial_analysis_output/follow/individual_spatiotemporal_heatmaps/400.400.10/scr_apop_wt_div/GV0796_Pos7_72_RFP_N_events saved out successfully',\n",
       "  '/home/nathan/data/kraken/h2b/giulia/radial_analysis_output/follow/individual_spatiotemporal_heatmaps/400.400.10/scr_apop_wt_div/GV0796_Pos7_6_RFP_N_cells / /home/nathan/data/kraken/h2b/giulia/radial_analysis_output/follow/individual_spatiotemporal_heatmaps/400.400.10/scr_apop_wt_div/GV0796_Pos7_6_RFP_N_events saved out successfully',\n",
       "  '/home/nathan/data/kraken/h2b/giulia/radial_analysis_output/follow/individual_spatiotemporal_heatmaps/400.400.10/scr_apop_wt_div/GV0796_Pos7_5_RFP_N_cells / /home/nathan/data/kraken/h2b/giulia/radial_analysis_output/follow/individual_spatiotemporal_heatmaps/400.400.10/scr_apop_wt_div/GV0796_Pos7_5_RFP_N_events saved out successfully',\n",
       "  '/home/nathan/data/kraken/h2b/giulia/radial_analysis_output/follow/individual_spatiotemporal_heatmaps/400.400.10/scr_apop_wt_div/GV0796_Pos7_85_RFP_N_cells / /home/nathan/data/kraken/h2b/giulia/radial_analysis_output/follow/individual_spatiotemporal_heatmaps/400.400.10/scr_apop_wt_div/GV0796_Pos7_85_RFP_N_events saved out successfully',\n",
       "  '/home/nathan/data/kraken/h2b/giulia/radial_analysis_output/follow/individual_spatiotemporal_heatmaps/400.400.10/scr_apop_wt_div/GV0796_Pos7_443_RFP_N_cells / /home/nathan/data/kraken/h2b/giulia/radial_analysis_output/follow/individual_spatiotemporal_heatmaps/400.400.10/scr_apop_wt_div/GV0796_Pos7_443_RFP_N_events saved out successfully',\n",
       "  '/home/nathan/data/kraken/h2b/giulia/radial_analysis_output/follow/individual_spatiotemporal_heatmaps/400.400.10/scr_apop_wt_div/GV0796_Pos7_41_RFP_N_cells / /home/nathan/data/kraken/h2b/giulia/radial_analysis_output/follow/individual_spatiotemporal_heatmaps/400.400.10/scr_apop_wt_div/GV0796_Pos7_41_RFP_N_events saved out successfully',\n",
       "  '/home/nathan/data/kraken/h2b/giulia/radial_analysis_output/follow/individual_spatiotemporal_heatmaps/400.400.10/scr_apop_wt_div/GV0796_Pos7_412_RFP_N_cells / /home/nathan/data/kraken/h2b/giulia/radial_analysis_output/follow/individual_spatiotemporal_heatmaps/400.400.10/scr_apop_wt_div/GV0796_Pos7_412_RFP_N_events saved out successfully',\n",
       "  '/home/nathan/data/kraken/h2b/giulia/radial_analysis_output/follow/individual_spatiotemporal_heatmaps/400.400.10/scr_apop_wt_div/GV0796_Pos7_413_RFP_N_cells / /home/nathan/data/kraken/h2b/giulia/radial_analysis_output/follow/individual_spatiotemporal_heatmaps/400.400.10/scr_apop_wt_div/GV0796_Pos7_413_RFP_N_events saved out successfully',\n",
       "  '/home/nathan/data/kraken/h2b/giulia/radial_analysis_output/follow/individual_spatiotemporal_heatmaps/400.400.10/scr_apop_wt_div/GV0796_Pos7_446_RFP_N_cells / /home/nathan/data/kraken/h2b/giulia/radial_analysis_output/follow/individual_spatiotemporal_heatmaps/400.400.10/scr_apop_wt_div/GV0796_Pos7_446_RFP_N_events saved out successfully',\n",
       "  '/home/nathan/data/kraken/h2b/giulia/radial_analysis_output/follow/individual_spatiotemporal_heatmaps/400.400.10/scr_apop_wt_div/GV0796_Pos7_385_RFP_N_cells / /home/nathan/data/kraken/h2b/giulia/radial_analysis_output/follow/individual_spatiotemporal_heatmaps/400.400.10/scr_apop_wt_div/GV0796_Pos7_385_RFP_N_events saved out successfully',\n",
       "  '/home/nathan/data/kraken/h2b/giulia/radial_analysis_output/follow/individual_spatiotemporal_heatmaps/400.400.10/scr_apop_wt_div/GV0796_Pos7_3_RFP_N_cells / /home/nathan/data/kraken/h2b/giulia/radial_analysis_output/follow/individual_spatiotemporal_heatmaps/400.400.10/scr_apop_wt_div/GV0796_Pos7_3_RFP_N_events saved out successfully',\n",
       "  '/home/nathan/data/kraken/h2b/giulia/radial_analysis_output/follow/individual_spatiotemporal_heatmaps/400.400.10/scr_apop_wt_div/GV0796_Pos7_327_RFP_N_cells / /home/nathan/data/kraken/h2b/giulia/radial_analysis_output/follow/individual_spatiotemporal_heatmaps/400.400.10/scr_apop_wt_div/GV0796_Pos7_327_RFP_N_events saved out successfully',\n",
       "  '/home/nathan/data/kraken/h2b/giulia/radial_analysis_output/follow/individual_spatiotemporal_heatmaps/400.400.10/scr_apop_wt_div/GV0796_Pos7_618_RFP_N_cells / /home/nathan/data/kraken/h2b/giulia/radial_analysis_output/follow/individual_spatiotemporal_heatmaps/400.400.10/scr_apop_wt_div/GV0796_Pos7_618_RFP_N_events saved out successfully',\n",
       "  '/home/nathan/data/kraken/h2b/giulia/radial_analysis_output/follow/individual_spatiotemporal_heatmaps/400.400.10/scr_apop_wt_div/GV0796_Pos7_153_RFP_N_cells / /home/nathan/data/kraken/h2b/giulia/radial_analysis_output/follow/individual_spatiotemporal_heatmaps/400.400.10/scr_apop_wt_div/GV0796_Pos7_153_RFP_N_events saved out successfully',\n",
       "  '/home/nathan/data/kraken/h2b/giulia/radial_analysis_output/follow/individual_spatiotemporal_heatmaps/400.400.10/scr_apop_wt_div/GV0796_Pos7_506_RFP_N_cells / /home/nathan/data/kraken/h2b/giulia/radial_analysis_output/follow/individual_spatiotemporal_heatmaps/400.400.10/scr_apop_wt_div/GV0796_Pos7_506_RFP_N_events saved out successfully',\n",
       "  '/home/nathan/data/kraken/h2b/giulia/radial_analysis_output/follow/individual_spatiotemporal_heatmaps/400.400.10/scr_apop_wt_div/GV0796_Pos7_395_RFP_N_cells / /home/nathan/data/kraken/h2b/giulia/radial_analysis_output/follow/individual_spatiotemporal_heatmaps/400.400.10/scr_apop_wt_div/GV0796_Pos7_395_RFP_N_events saved out successfully',\n",
       "  '/home/nathan/data/kraken/h2b/giulia/radial_analysis_output/follow/individual_spatiotemporal_heatmaps/400.400.10/scr_apop_wt_div/GV0796_Pos7_399_RFP_N_cells / /home/nathan/data/kraken/h2b/giulia/radial_analysis_output/follow/individual_spatiotemporal_heatmaps/400.400.10/scr_apop_wt_div/GV0796_Pos7_399_RFP_N_events saved out successfully',\n",
       "  '/home/nathan/data/kraken/h2b/giulia/radial_analysis_output/follow/individual_spatiotemporal_heatmaps/400.400.10/scr_apop_wt_div/GV0796_Pos7_695_RFP_N_cells / /home/nathan/data/kraken/h2b/giulia/radial_analysis_output/follow/individual_spatiotemporal_heatmaps/400.400.10/scr_apop_wt_div/GV0796_Pos7_695_RFP_N_events saved out successfully',\n",
       "  '/home/nathan/data/kraken/h2b/giulia/radial_analysis_output/follow/individual_spatiotemporal_heatmaps/400.400.10/scr_apop_wt_div/GV0796_Pos7_394_RFP_N_cells / /home/nathan/data/kraken/h2b/giulia/radial_analysis_output/follow/individual_spatiotemporal_heatmaps/400.400.10/scr_apop_wt_div/GV0796_Pos7_394_RFP_N_events saved out successfully',\n",
       "  '/home/nathan/data/kraken/h2b/giulia/radial_analysis_output/follow/individual_spatiotemporal_heatmaps/400.400.10/scr_apop_wt_div/GV0796_Pos7_445_RFP_N_cells / /home/nathan/data/kraken/h2b/giulia/radial_analysis_output/follow/individual_spatiotemporal_heatmaps/400.400.10/scr_apop_wt_div/GV0796_Pos7_445_RFP_N_events saved out successfully',\n",
       "  '/home/nathan/data/kraken/h2b/giulia/radial_analysis_output/follow/individual_spatiotemporal_heatmaps/400.400.10/scr_apop_wt_div/GV0796_Pos7_460_RFP_N_cells / /home/nathan/data/kraken/h2b/giulia/radial_analysis_output/follow/individual_spatiotemporal_heatmaps/400.400.10/scr_apop_wt_div/GV0796_Pos7_460_RFP_N_events saved out successfully',\n",
       "  '/home/nathan/data/kraken/h2b/giulia/radial_analysis_output/follow/individual_spatiotemporal_heatmaps/400.400.10/scr_apop_wt_div/GV0796_Pos7_403_RFP_N_cells / /home/nathan/data/kraken/h2b/giulia/radial_analysis_output/follow/individual_spatiotemporal_heatmaps/400.400.10/scr_apop_wt_div/GV0796_Pos7_403_RFP_N_events saved out successfully',\n",
       "  '/home/nathan/data/kraken/h2b/giulia/radial_analysis_output/follow/individual_spatiotemporal_heatmaps/400.400.10/scr_apop_wt_div/GV0796_Pos7_609_RFP_N_cells / /home/nathan/data/kraken/h2b/giulia/radial_analysis_output/follow/individual_spatiotemporal_heatmaps/400.400.10/scr_apop_wt_div/GV0796_Pos7_609_RFP_N_events saved out successfully',\n",
       "  '/home/nathan/data/kraken/h2b/giulia/radial_analysis_output/follow/individual_spatiotemporal_heatmaps/400.400.10/scr_apop_wt_div/GV0797_Pos7_14_RFP_N_cells / /home/nathan/data/kraken/h2b/giulia/radial_analysis_output/follow/individual_spatiotemporal_heatmaps/400.400.10/scr_apop_wt_div/GV0797_Pos7_14_RFP_N_events saved out successfully',\n",
       "  '/home/nathan/data/kraken/h2b/giulia/radial_analysis_output/follow/individual_spatiotemporal_heatmaps/400.400.10/scr_apop_wt_div/GV0797_Pos7_45_RFP_N_cells / /home/nathan/data/kraken/h2b/giulia/radial_analysis_output/follow/individual_spatiotemporal_heatmaps/400.400.10/scr_apop_wt_div/GV0797_Pos7_45_RFP_N_events saved out successfully',\n",
       "  '/home/nathan/data/kraken/h2b/giulia/radial_analysis_output/follow/individual_spatiotemporal_heatmaps/400.400.10/scr_apop_wt_div/GV0797_Pos7_5_RFP_N_cells / /home/nathan/data/kraken/h2b/giulia/radial_analysis_output/follow/individual_spatiotemporal_heatmaps/400.400.10/scr_apop_wt_div/GV0797_Pos7_5_RFP_N_events saved out successfully',\n",
       "  '/home/nathan/data/kraken/h2b/giulia/radial_analysis_output/follow/individual_spatiotemporal_heatmaps/400.400.10/scr_apop_wt_div/GV0797_Pos7_146_RFP_N_cells / /home/nathan/data/kraken/h2b/giulia/radial_analysis_output/follow/individual_spatiotemporal_heatmaps/400.400.10/scr_apop_wt_div/GV0797_Pos7_146_RFP_N_events saved out successfully',\n",
       "  '/home/nathan/data/kraken/h2b/giulia/radial_analysis_output/follow/individual_spatiotemporal_heatmaps/400.400.10/scr_apop_wt_div/GV0797_Pos7_145_RFP_N_cells / /home/nathan/data/kraken/h2b/giulia/radial_analysis_output/follow/individual_spatiotemporal_heatmaps/400.400.10/scr_apop_wt_div/GV0797_Pos7_145_RFP_N_events saved out successfully',\n",
       "  '/home/nathan/data/kraken/h2b/giulia/radial_analysis_output/follow/individual_spatiotemporal_heatmaps/400.400.10/scr_apop_wt_div/GV0797_Pos7_30_RFP_N_cells / /home/nathan/data/kraken/h2b/giulia/radial_analysis_output/follow/individual_spatiotemporal_heatmaps/400.400.10/scr_apop_wt_div/GV0797_Pos7_30_RFP_N_events saved out successfully',\n",
       "  '/home/nathan/data/kraken/h2b/giulia/radial_analysis_output/follow/individual_spatiotemporal_heatmaps/400.400.10/scr_apop_wt_div/GV0797_Pos7_106_RFP_N_cells / /home/nathan/data/kraken/h2b/giulia/radial_analysis_output/follow/individual_spatiotemporal_heatmaps/400.400.10/scr_apop_wt_div/GV0797_Pos7_106_RFP_N_events saved out successfully',\n",
       "  '/home/nathan/data/kraken/h2b/giulia/radial_analysis_output/follow/individual_spatiotemporal_heatmaps/400.400.10/scr_apop_wt_div/GV0797_Pos7_9_RFP_N_cells / /home/nathan/data/kraken/h2b/giulia/radial_analysis_output/follow/individual_spatiotemporal_heatmaps/400.400.10/scr_apop_wt_div/GV0797_Pos7_9_RFP_N_events saved out successfully',\n",
       "  '/home/nathan/data/kraken/h2b/giulia/radial_analysis_output/follow/individual_spatiotemporal_heatmaps/400.400.10/scr_apop_wt_div/GV0797_Pos7_204_RFP_N_cells / /home/nathan/data/kraken/h2b/giulia/radial_analysis_output/follow/individual_spatiotemporal_heatmaps/400.400.10/scr_apop_wt_div/GV0797_Pos7_204_RFP_N_events saved out successfully',\n",
       "  '/home/nathan/data/kraken/h2b/giulia/radial_analysis_output/follow/individual_spatiotemporal_heatmaps/400.400.10/scr_apop_wt_div/GV0797_Pos7_105_RFP_N_cells / /home/nathan/data/kraken/h2b/giulia/radial_analysis_output/follow/individual_spatiotemporal_heatmaps/400.400.10/scr_apop_wt_div/GV0797_Pos7_105_RFP_N_events saved out successfully',\n",
       "  '/home/nathan/data/kraken/h2b/giulia/radial_analysis_output/follow/individual_spatiotemporal_heatmaps/400.400.10/scr_apop_wt_div/GV0797_Pos7_200_RFP_N_cells / /home/nathan/data/kraken/h2b/giulia/radial_analysis_output/follow/individual_spatiotemporal_heatmaps/400.400.10/scr_apop_wt_div/GV0797_Pos7_200_RFP_N_events saved out successfully',\n",
       "  '/home/nathan/data/kraken/h2b/giulia/radial_analysis_output/follow/individual_spatiotemporal_heatmaps/400.400.10/scr_apop_wt_div/GV0797_Pos7_199_RFP_N_cells / /home/nathan/data/kraken/h2b/giulia/radial_analysis_output/follow/individual_spatiotemporal_heatmaps/400.400.10/scr_apop_wt_div/GV0797_Pos7_199_RFP_N_events saved out successfully',\n",
       "  '/home/nathan/data/kraken/h2b/giulia/radial_analysis_output/follow/individual_spatiotemporal_heatmaps/400.400.10/scr_apop_wt_div/GV0797_Pos7_208_RFP_N_cells / /home/nathan/data/kraken/h2b/giulia/radial_analysis_output/follow/individual_spatiotemporal_heatmaps/400.400.10/scr_apop_wt_div/GV0797_Pos7_208_RFP_N_events saved out successfully',\n",
       "  '/home/nathan/data/kraken/h2b/giulia/radial_analysis_output/follow/individual_spatiotemporal_heatmaps/400.400.10/scr_apop_wt_div/GV0797_Pos7_207_RFP_N_cells / /home/nathan/data/kraken/h2b/giulia/radial_analysis_output/follow/individual_spatiotemporal_heatmaps/400.400.10/scr_apop_wt_div/GV0797_Pos7_207_RFP_N_events saved out successfully',\n",
       "  '/home/nathan/data/kraken/h2b/giulia/radial_analysis_output/follow/individual_spatiotemporal_heatmaps/400.400.10/scr_apop_wt_div/GV0797_Pos7_203_RFP_N_cells / /home/nathan/data/kraken/h2b/giulia/radial_analysis_output/follow/individual_spatiotemporal_heatmaps/400.400.10/scr_apop_wt_div/GV0797_Pos7_203_RFP_N_events saved out successfully',\n",
       "  '/home/nathan/data/kraken/h2b/giulia/radial_analysis_output/follow/individual_spatiotemporal_heatmaps/400.400.10/scr_apop_wt_div/GV0813_Pos0_13_RFP_N_cells / /home/nathan/data/kraken/h2b/giulia/radial_analysis_output/follow/individual_spatiotemporal_heatmaps/400.400.10/scr_apop_wt_div/GV0813_Pos0_13_RFP_N_events saved out successfully',\n",
       "  '/home/nathan/data/kraken/h2b/giulia/radial_analysis_output/follow/individual_spatiotemporal_heatmaps/400.400.10/scr_apop_wt_div/GV0813_Pos0_14_RFP_N_cells / /home/nathan/data/kraken/h2b/giulia/radial_analysis_output/follow/individual_spatiotemporal_heatmaps/400.400.10/scr_apop_wt_div/GV0813_Pos0_14_RFP_N_events saved out successfully',\n",
       "  '/home/nathan/data/kraken/h2b/giulia/radial_analysis_output/follow/individual_spatiotemporal_heatmaps/400.400.10/scr_apop_wt_div/GV0813_Pos0_115_RFP_N_cells / /home/nathan/data/kraken/h2b/giulia/radial_analysis_output/follow/individual_spatiotemporal_heatmaps/400.400.10/scr_apop_wt_div/GV0813_Pos0_115_RFP_N_events saved out successfully',\n",
       "  '/home/nathan/data/kraken/h2b/giulia/radial_analysis_output/follow/individual_spatiotemporal_heatmaps/400.400.10/scr_apop_wt_div/GV0813_Pos0_10_RFP_N_cells / /home/nathan/data/kraken/h2b/giulia/radial_analysis_output/follow/individual_spatiotemporal_heatmaps/400.400.10/scr_apop_wt_div/GV0813_Pos0_10_RFP_N_events saved out successfully',\n",
       "  '/home/nathan/data/kraken/h2b/giulia/radial_analysis_output/follow/individual_spatiotemporal_heatmaps/400.400.10/scr_apop_wt_div/GV0813_Pos0_12_RFP_N_cells / /home/nathan/data/kraken/h2b/giulia/radial_analysis_output/follow/individual_spatiotemporal_heatmaps/400.400.10/scr_apop_wt_div/GV0813_Pos0_12_RFP_N_events saved out successfully',\n",
       "  '/home/nathan/data/kraken/h2b/giulia/radial_analysis_output/follow/individual_spatiotemporal_heatmaps/400.400.10/scr_apop_wt_div/GV0802_Pos4_23_RFP_N_cells / /home/nathan/data/kraken/h2b/giulia/radial_analysis_output/follow/individual_spatiotemporal_heatmaps/400.400.10/scr_apop_wt_div/GV0802_Pos4_23_RFP_N_events saved out successfully',\n",
       "  '/home/nathan/data/kraken/h2b/giulia/radial_analysis_output/follow/individual_spatiotemporal_heatmaps/400.400.10/scr_apop_wt_div/GV0802_Pos4_28_RFP_N_cells / /home/nathan/data/kraken/h2b/giulia/radial_analysis_output/follow/individual_spatiotemporal_heatmaps/400.400.10/scr_apop_wt_div/GV0802_Pos4_28_RFP_N_events saved out successfully',\n",
       "  '/home/nathan/data/kraken/h2b/giulia/radial_analysis_output/follow/individual_spatiotemporal_heatmaps/400.400.10/scr_apop_wt_div/GV0802_Pos4_18_RFP_N_cells / /home/nathan/data/kraken/h2b/giulia/radial_analysis_output/follow/individual_spatiotemporal_heatmaps/400.400.10/scr_apop_wt_div/GV0802_Pos4_18_RFP_N_events saved out successfully',\n",
       "  '/home/nathan/data/kraken/h2b/giulia/radial_analysis_output/follow/individual_spatiotemporal_heatmaps/400.400.10/scr_apop_wt_div/GV0802_Pos4_12_RFP_N_cells / /home/nathan/data/kraken/h2b/giulia/radial_analysis_output/follow/individual_spatiotemporal_heatmaps/400.400.10/scr_apop_wt_div/GV0802_Pos4_12_RFP_N_events saved out successfully',\n",
       "  '/home/nathan/data/kraken/h2b/giulia/radial_analysis_output/follow/individual_spatiotemporal_heatmaps/400.400.10/scr_apop_wt_div/GV0802_Pos4_198_RFP_N_cells / /home/nathan/data/kraken/h2b/giulia/radial_analysis_output/follow/individual_spatiotemporal_heatmaps/400.400.10/scr_apop_wt_div/GV0802_Pos4_198_RFP_N_events saved out successfully',\n",
       "  '/home/nathan/data/kraken/h2b/giulia/radial_analysis_output/follow/individual_spatiotemporal_heatmaps/400.400.10/scr_apop_wt_div/GV0802_Pos4_275_RFP_N_cells / /home/nathan/data/kraken/h2b/giulia/radial_analysis_output/follow/individual_spatiotemporal_heatmaps/400.400.10/scr_apop_wt_div/GV0802_Pos4_275_RFP_N_events saved out successfully',\n",
       "  '/home/nathan/data/kraken/h2b/giulia/radial_analysis_output/follow/individual_spatiotemporal_heatmaps/400.400.10/scr_apop_wt_div/GV0802_Pos4_245_RFP_N_cells / /home/nathan/data/kraken/h2b/giulia/radial_analysis_output/follow/individual_spatiotemporal_heatmaps/400.400.10/scr_apop_wt_div/GV0802_Pos4_245_RFP_N_events saved out successfully',\n",
       "  '/home/nathan/data/kraken/h2b/giulia/radial_analysis_output/follow/individual_spatiotemporal_heatmaps/400.400.10/scr_apop_wt_div/GV0802_Pos4_353_RFP_N_cells / /home/nathan/data/kraken/h2b/giulia/radial_analysis_output/follow/individual_spatiotemporal_heatmaps/400.400.10/scr_apop_wt_div/GV0802_Pos4_353_RFP_N_events saved out successfully',\n",
       "  '/home/nathan/data/kraken/h2b/giulia/radial_analysis_output/follow/individual_spatiotemporal_heatmaps/400.400.10/scr_apop_wt_div/GV0802_Pos4_272_RFP_N_cells / /home/nathan/data/kraken/h2b/giulia/radial_analysis_output/follow/individual_spatiotemporal_heatmaps/400.400.10/scr_apop_wt_div/GV0802_Pos4_272_RFP_N_events saved out successfully',\n",
       "  '/home/nathan/data/kraken/h2b/giulia/radial_analysis_output/follow/individual_spatiotemporal_heatmaps/400.400.10/scr_apop_wt_div/GV0802_Pos4_276_RFP_N_cells / /home/nathan/data/kraken/h2b/giulia/radial_analysis_output/follow/individual_spatiotemporal_heatmaps/400.400.10/scr_apop_wt_div/GV0802_Pos4_276_RFP_N_events saved out successfully',\n",
       "  '/home/nathan/data/kraken/h2b/giulia/radial_analysis_output/follow/individual_spatiotemporal_heatmaps/400.400.10/scr_apop_wt_div/GV0802_Pos4_3_RFP_N_cells / /home/nathan/data/kraken/h2b/giulia/radial_analysis_output/follow/individual_spatiotemporal_heatmaps/400.400.10/scr_apop_wt_div/GV0802_Pos4_3_RFP_N_events saved out successfully',\n",
       "  '/home/nathan/data/kraken/h2b/giulia/radial_analysis_output/follow/individual_spatiotemporal_heatmaps/400.400.10/scr_apop_wt_div/GV0802_Pos4_31_RFP_N_cells / /home/nathan/data/kraken/h2b/giulia/radial_analysis_output/follow/individual_spatiotemporal_heatmaps/400.400.10/scr_apop_wt_div/GV0802_Pos4_31_RFP_N_events saved out successfully',\n",
       "  '/home/nathan/data/kraken/h2b/giulia/radial_analysis_output/follow/individual_spatiotemporal_heatmaps/400.400.10/scr_apop_wt_div/GV0807_Pos4_12_RFP_N_cells / /home/nathan/data/kraken/h2b/giulia/radial_analysis_output/follow/individual_spatiotemporal_heatmaps/400.400.10/scr_apop_wt_div/GV0807_Pos4_12_RFP_N_events saved out successfully',\n",
       "  '/home/nathan/data/kraken/h2b/giulia/radial_analysis_output/follow/individual_spatiotemporal_heatmaps/400.400.10/scr_apop_wt_div/GV0807_Pos4_16_RFP_N_cells / /home/nathan/data/kraken/h2b/giulia/radial_analysis_output/follow/individual_spatiotemporal_heatmaps/400.400.10/scr_apop_wt_div/GV0807_Pos4_16_RFP_N_events saved out successfully',\n",
       "  '/home/nathan/data/kraken/h2b/giulia/radial_analysis_output/follow/individual_spatiotemporal_heatmaps/400.400.10/scr_apop_wt_div/GV0807_Pos4_23_RFP_N_cells / /home/nathan/data/kraken/h2b/giulia/radial_analysis_output/follow/individual_spatiotemporal_heatmaps/400.400.10/scr_apop_wt_div/GV0807_Pos4_23_RFP_N_events saved out successfully',\n",
       "  '/home/nathan/data/kraken/h2b/giulia/radial_analysis_output/follow/individual_spatiotemporal_heatmaps/400.400.10/scr_apop_wt_div/GV0807_Pos4_276_RFP_N_cells / /home/nathan/data/kraken/h2b/giulia/radial_analysis_output/follow/individual_spatiotemporal_heatmaps/400.400.10/scr_apop_wt_div/GV0807_Pos4_276_RFP_N_events saved out successfully',\n",
       "  '/home/nathan/data/kraken/h2b/giulia/radial_analysis_output/follow/individual_spatiotemporal_heatmaps/400.400.10/scr_apop_wt_div/GV0807_Pos4_345_RFP_N_cells / /home/nathan/data/kraken/h2b/giulia/radial_analysis_output/follow/individual_spatiotemporal_heatmaps/400.400.10/scr_apop_wt_div/GV0807_Pos4_345_RFP_N_events saved out successfully',\n",
       "  '/home/nathan/data/kraken/h2b/giulia/radial_analysis_output/follow/individual_spatiotemporal_heatmaps/400.400.10/scr_apop_wt_div/GV0807_Pos4_330_RFP_N_cells / /home/nathan/data/kraken/h2b/giulia/radial_analysis_output/follow/individual_spatiotemporal_heatmaps/400.400.10/scr_apop_wt_div/GV0807_Pos4_330_RFP_N_events saved out successfully',\n",
       "  '/home/nathan/data/kraken/h2b/giulia/radial_analysis_output/follow/individual_spatiotemporal_heatmaps/400.400.10/scr_apop_wt_div/GV0807_Pos4_191_RFP_N_cells / /home/nathan/data/kraken/h2b/giulia/radial_analysis_output/follow/individual_spatiotemporal_heatmaps/400.400.10/scr_apop_wt_div/GV0807_Pos4_191_RFP_N_events saved out successfully',\n",
       "  '/home/nathan/data/kraken/h2b/giulia/radial_analysis_output/follow/individual_spatiotemporal_heatmaps/400.400.10/scr_apop_wt_div/GV0807_Pos4_429_RFP_N_cells / /home/nathan/data/kraken/h2b/giulia/radial_analysis_output/follow/individual_spatiotemporal_heatmaps/400.400.10/scr_apop_wt_div/GV0807_Pos4_429_RFP_N_events saved out successfully',\n",
       "  '/home/nathan/data/kraken/h2b/giulia/radial_analysis_output/follow/individual_spatiotemporal_heatmaps/400.400.10/scr_apop_wt_div/GV0807_Pos4_50_RFP_N_cells / /home/nathan/data/kraken/h2b/giulia/radial_analysis_output/follow/individual_spatiotemporal_heatmaps/400.400.10/scr_apop_wt_div/GV0807_Pos4_50_RFP_N_events saved out successfully',\n",
       "  '/home/nathan/data/kraken/h2b/giulia/radial_analysis_output/follow/individual_spatiotemporal_heatmaps/400.400.10/scr_apop_wt_div/GV0807_Pos4_382_RFP_N_cells / /home/nathan/data/kraken/h2b/giulia/radial_analysis_output/follow/individual_spatiotemporal_heatmaps/400.400.10/scr_apop_wt_div/GV0807_Pos4_382_RFP_N_events saved out successfully',\n",
       "  '/home/nathan/data/kraken/h2b/giulia/radial_analysis_output/follow/individual_spatiotemporal_heatmaps/400.400.10/scr_apop_wt_div/GV0807_Pos4_381_RFP_N_cells / /home/nathan/data/kraken/h2b/giulia/radial_analysis_output/follow/individual_spatiotemporal_heatmaps/400.400.10/scr_apop_wt_div/GV0807_Pos4_381_RFP_N_events saved out successfully',\n",
       "  '/home/nathan/data/kraken/h2b/giulia/radial_analysis_output/follow/individual_spatiotemporal_heatmaps/400.400.10/scr_apop_wt_div/GV0807_Pos4_190_RFP_N_cells / /home/nathan/data/kraken/h2b/giulia/radial_analysis_output/follow/individual_spatiotemporal_heatmaps/400.400.10/scr_apop_wt_div/GV0807_Pos4_190_RFP_N_events saved out successfully',\n",
       "  '/home/nathan/data/kraken/h2b/giulia/radial_analysis_output/follow/individual_spatiotemporal_heatmaps/400.400.10/scr_apop_wt_div/GV0807_Pos4_377_RFP_N_cells / /home/nathan/data/kraken/h2b/giulia/radial_analysis_output/follow/individual_spatiotemporal_heatmaps/400.400.10/scr_apop_wt_div/GV0807_Pos4_377_RFP_N_events saved out successfully',\n",
       "  '/home/nathan/data/kraken/h2b/giulia/radial_analysis_output/follow/individual_spatiotemporal_heatmaps/400.400.10/scr_apop_wt_div/GV0807_Pos4_169_RFP_N_cells / /home/nathan/data/kraken/h2b/giulia/radial_analysis_output/follow/individual_spatiotemporal_heatmaps/400.400.10/scr_apop_wt_div/GV0807_Pos4_169_RFP_N_events saved out successfully',\n",
       "  '/home/nathan/data/kraken/h2b/giulia/radial_analysis_output/follow/individual_spatiotemporal_heatmaps/400.400.10/scr_apop_wt_div/GV0796_Pos19_9_RFP_N_cells / /home/nathan/data/kraken/h2b/giulia/radial_analysis_output/follow/individual_spatiotemporal_heatmaps/400.400.10/scr_apop_wt_div/GV0796_Pos19_9_RFP_N_events saved out successfully',\n",
       "  '/home/nathan/data/kraken/h2b/giulia/radial_analysis_output/follow/individual_spatiotemporal_heatmaps/400.400.10/scr_apop_wt_div/GV0796_Pos19_3_RFP_N_cells / /home/nathan/data/kraken/h2b/giulia/radial_analysis_output/follow/individual_spatiotemporal_heatmaps/400.400.10/scr_apop_wt_div/GV0796_Pos19_3_RFP_N_events saved out successfully',\n",
       "  '/home/nathan/data/kraken/h2b/giulia/radial_analysis_output/follow/individual_spatiotemporal_heatmaps/400.400.10/scr_apop_wt_div/GV0796_Pos19_58_RFP_N_cells / /home/nathan/data/kraken/h2b/giulia/radial_analysis_output/follow/individual_spatiotemporal_heatmaps/400.400.10/scr_apop_wt_div/GV0796_Pos19_58_RFP_N_events saved out successfully',\n",
       "  '/home/nathan/data/kraken/h2b/giulia/radial_analysis_output/follow/individual_spatiotemporal_heatmaps/400.400.10/scr_apop_wt_div/GV0796_Pos19_69_RFP_N_cells / /home/nathan/data/kraken/h2b/giulia/radial_analysis_output/follow/individual_spatiotemporal_heatmaps/400.400.10/scr_apop_wt_div/GV0796_Pos19_69_RFP_N_events saved out successfully',\n",
       "  '/home/nathan/data/kraken/h2b/giulia/radial_analysis_output/follow/individual_spatiotemporal_heatmaps/400.400.10/scr_apop_wt_div/GV0796_Pos19_70_RFP_N_cells / /home/nathan/data/kraken/h2b/giulia/radial_analysis_output/follow/individual_spatiotemporal_heatmaps/400.400.10/scr_apop_wt_div/GV0796_Pos19_70_RFP_N_events saved out successfully',\n",
       "  '/home/nathan/data/kraken/h2b/giulia/radial_analysis_output/follow/individual_spatiotemporal_heatmaps/400.400.10/scr_apop_wt_div/GV0796_Pos19_125_RFP_N_cells / /home/nathan/data/kraken/h2b/giulia/radial_analysis_output/follow/individual_spatiotemporal_heatmaps/400.400.10/scr_apop_wt_div/GV0796_Pos19_125_RFP_N_events saved out successfully',\n",
       "  '/home/nathan/data/kraken/h2b/giulia/radial_analysis_output/follow/individual_spatiotemporal_heatmaps/400.400.10/scr_apop_wt_div/GV0797_Pos19_7_RFP_N_cells / /home/nathan/data/kraken/h2b/giulia/radial_analysis_output/follow/individual_spatiotemporal_heatmaps/400.400.10/scr_apop_wt_div/GV0797_Pos19_7_RFP_N_events saved out successfully',\n",
       "  '/home/nathan/data/kraken/h2b/giulia/radial_analysis_output/follow/individual_spatiotemporal_heatmaps/400.400.10/scr_apop_wt_div/GV0797_Pos19_8_RFP_N_cells / /home/nathan/data/kraken/h2b/giulia/radial_analysis_output/follow/individual_spatiotemporal_heatmaps/400.400.10/scr_apop_wt_div/GV0797_Pos19_8_RFP_N_events saved out successfully',\n",
       "  '/home/nathan/data/kraken/h2b/giulia/radial_analysis_output/follow/individual_spatiotemporal_heatmaps/400.400.10/scr_apop_wt_div/GV0819_Pos3_110_RFP_N_cells / /home/nathan/data/kraken/h2b/giulia/radial_analysis_output/follow/individual_spatiotemporal_heatmaps/400.400.10/scr_apop_wt_div/GV0819_Pos3_110_RFP_N_events saved out successfully',\n",
       "  '/home/nathan/data/kraken/h2b/giulia/radial_analysis_output/follow/individual_spatiotemporal_heatmaps/400.400.10/scr_apop_wt_div/GV0819_Pos3_8_RFP_N_cells / /home/nathan/data/kraken/h2b/giulia/radial_analysis_output/follow/individual_spatiotemporal_heatmaps/400.400.10/scr_apop_wt_div/GV0819_Pos3_8_RFP_N_events saved out successfully',\n",
       "  '/home/nathan/data/kraken/h2b/giulia/radial_analysis_output/follow/individual_spatiotemporal_heatmaps/400.400.10/scr_apop_wt_div/GV0819_Pos3_406_RFP_N_cells / /home/nathan/data/kraken/h2b/giulia/radial_analysis_output/follow/individual_spatiotemporal_heatmaps/400.400.10/scr_apop_wt_div/GV0819_Pos3_406_RFP_N_events saved out successfully',\n",
       "  '/home/nathan/data/kraken/h2b/giulia/radial_analysis_output/follow/individual_spatiotemporal_heatmaps/400.400.10/scr_apop_wt_div/GV0819_Pos3_717_RFP_N_cells / /home/nathan/data/kraken/h2b/giulia/radial_analysis_output/follow/individual_spatiotemporal_heatmaps/400.400.10/scr_apop_wt_div/GV0819_Pos3_717_RFP_N_events saved out successfully',\n",
       "  '/home/nathan/data/kraken/h2b/giulia/radial_analysis_output/follow/individual_spatiotemporal_heatmaps/400.400.10/scr_apop_wt_div/GV0819_Pos3_647_RFP_N_cells / /home/nathan/data/kraken/h2b/giulia/radial_analysis_output/follow/individual_spatiotemporal_heatmaps/400.400.10/scr_apop_wt_div/GV0819_Pos3_647_RFP_N_events saved out successfully',\n",
       "  '/home/nathan/data/kraken/h2b/giulia/radial_analysis_output/follow/individual_spatiotemporal_heatmaps/400.400.10/scr_apop_wt_div/GV0819_Pos3_493_RFP_N_cells / /home/nathan/data/kraken/h2b/giulia/radial_analysis_output/follow/individual_spatiotemporal_heatmaps/400.400.10/scr_apop_wt_div/GV0819_Pos3_493_RFP_N_events saved out successfully',\n",
       "  '/home/nathan/data/kraken/h2b/giulia/radial_analysis_output/follow/individual_spatiotemporal_heatmaps/400.400.10/scr_apop_wt_div/GV0819_Pos3_607_RFP_N_cells / /home/nathan/data/kraken/h2b/giulia/radial_analysis_output/follow/individual_spatiotemporal_heatmaps/400.400.10/scr_apop_wt_div/GV0819_Pos3_607_RFP_N_events saved out successfully',\n",
       "  '/home/nathan/data/kraken/h2b/giulia/radial_analysis_output/follow/individual_spatiotemporal_heatmaps/400.400.10/scr_apop_wt_div/GV0819_Pos3_744_RFP_N_cells / /home/nathan/data/kraken/h2b/giulia/radial_analysis_output/follow/individual_spatiotemporal_heatmaps/400.400.10/scr_apop_wt_div/GV0819_Pos3_744_RFP_N_events saved out successfully',\n",
       "  '/home/nathan/data/kraken/h2b/giulia/radial_analysis_output/follow/individual_spatiotemporal_heatmaps/400.400.10/scr_apop_wt_div/GV0819_Pos3_746_RFP_N_cells / /home/nathan/data/kraken/h2b/giulia/radial_analysis_output/follow/individual_spatiotemporal_heatmaps/400.400.10/scr_apop_wt_div/GV0819_Pos3_746_RFP_N_events saved out successfully',\n",
       "  '/home/nathan/data/kraken/h2b/giulia/radial_analysis_output/follow/individual_spatiotemporal_heatmaps/400.400.10/scr_apop_wt_div/GV0819_Pos3_1087_RFP_N_cells / /home/nathan/data/kraken/h2b/giulia/radial_analysis_output/follow/individual_spatiotemporal_heatmaps/400.400.10/scr_apop_wt_div/GV0819_Pos3_1087_RFP_N_events saved out successfully',\n",
       "  '/home/nathan/data/kraken/h2b/giulia/radial_analysis_output/follow/individual_spatiotemporal_heatmaps/400.400.10/scr_apop_wt_div/GV0819_Pos3_936_RFP_N_cells / /home/nathan/data/kraken/h2b/giulia/radial_analysis_output/follow/individual_spatiotemporal_heatmaps/400.400.10/scr_apop_wt_div/GV0819_Pos3_936_RFP_N_events saved out successfully',\n",
       "  '/home/nathan/data/kraken/h2b/giulia/radial_analysis_output/follow/individual_spatiotemporal_heatmaps/400.400.10/scr_apop_wt_div/GV0819_Pos3_1092_RFP_N_cells / /home/nathan/data/kraken/h2b/giulia/radial_analysis_output/follow/individual_spatiotemporal_heatmaps/400.400.10/scr_apop_wt_div/GV0819_Pos3_1092_RFP_N_events saved out successfully',\n",
       "  '/home/nathan/data/kraken/h2b/giulia/radial_analysis_output/follow/individual_spatiotemporal_heatmaps/400.400.10/scr_apop_wt_div/GV0819_Pos3_158_RFP_N_cells / /home/nathan/data/kraken/h2b/giulia/radial_analysis_output/follow/individual_spatiotemporal_heatmaps/400.400.10/scr_apop_wt_div/GV0819_Pos3_158_RFP_N_events saved out successfully',\n",
       "  '/home/nathan/data/kraken/h2b/giulia/radial_analysis_output/follow/individual_spatiotemporal_heatmaps/400.400.10/scr_apop_wt_div/GV0819_Pos3_887_RFP_N_cells / /home/nathan/data/kraken/h2b/giulia/radial_analysis_output/follow/individual_spatiotemporal_heatmaps/400.400.10/scr_apop_wt_div/GV0819_Pos3_887_RFP_N_events saved out successfully',\n",
       "  '/home/nathan/data/kraken/h2b/giulia/radial_analysis_output/follow/individual_spatiotemporal_heatmaps/400.400.10/scr_apop_wt_div/GV0819_Pos3_324_RFP_N_cells / /home/nathan/data/kraken/h2b/giulia/radial_analysis_output/follow/individual_spatiotemporal_heatmaps/400.400.10/scr_apop_wt_div/GV0819_Pos3_324_RFP_N_events saved out successfully',\n",
       "  '/home/nathan/data/kraken/h2b/giulia/radial_analysis_output/follow/individual_spatiotemporal_heatmaps/400.400.10/scr_apop_wt_div/GV0819_Pos3_1171_RFP_N_cells / /home/nathan/data/kraken/h2b/giulia/radial_analysis_output/follow/individual_spatiotemporal_heatmaps/400.400.10/scr_apop_wt_div/GV0819_Pos3_1171_RFP_N_events saved out successfully',\n",
       "  '/home/nathan/data/kraken/h2b/giulia/radial_analysis_output/follow/individual_spatiotemporal_heatmaps/400.400.10/scr_apop_wt_div/GV0819_Pos3_1172_RFP_N_cells / /home/nathan/data/kraken/h2b/giulia/radial_analysis_output/follow/individual_spatiotemporal_heatmaps/400.400.10/scr_apop_wt_div/GV0819_Pos3_1172_RFP_N_events saved out successfully',\n",
       "  '/home/nathan/data/kraken/h2b/giulia/radial_analysis_output/follow/individual_spatiotemporal_heatmaps/400.400.10/scr_apop_wt_div/GV0819_Pos3_1180_RFP_N_cells / /home/nathan/data/kraken/h2b/giulia/radial_analysis_output/follow/individual_spatiotemporal_heatmaps/400.400.10/scr_apop_wt_div/GV0819_Pos3_1180_RFP_N_events saved out successfully',\n",
       "  '/home/nathan/data/kraken/h2b/giulia/radial_analysis_output/follow/individual_spatiotemporal_heatmaps/400.400.10/scr_apop_wt_div/GV0819_Pos3_1181_RFP_N_cells / /home/nathan/data/kraken/h2b/giulia/radial_analysis_output/follow/individual_spatiotemporal_heatmaps/400.400.10/scr_apop_wt_div/GV0819_Pos3_1181_RFP_N_events saved out successfully',\n",
       "  '/home/nathan/data/kraken/h2b/giulia/radial_analysis_output/follow/individual_spatiotemporal_heatmaps/400.400.10/scr_apop_wt_div/GV0819_Pos3_54_RFP_N_cells / /home/nathan/data/kraken/h2b/giulia/radial_analysis_output/follow/individual_spatiotemporal_heatmaps/400.400.10/scr_apop_wt_div/GV0819_Pos3_54_RFP_N_events saved out successfully',\n",
       "  '/home/nathan/data/kraken/h2b/giulia/radial_analysis_output/follow/individual_spatiotemporal_heatmaps/400.400.10/scr_apop_wt_div/GV0819_Pos3_1135_RFP_N_cells / /home/nathan/data/kraken/h2b/giulia/radial_analysis_output/follow/individual_spatiotemporal_heatmaps/400.400.10/scr_apop_wt_div/GV0819_Pos3_1135_RFP_N_events saved out successfully',\n",
       "  '/home/nathan/data/kraken/h2b/giulia/radial_analysis_output/follow/individual_spatiotemporal_heatmaps/400.400.10/scr_apop_wt_div/GV0819_Pos3_702_RFP_N_cells / /home/nathan/data/kraken/h2b/giulia/radial_analysis_output/follow/individual_spatiotemporal_heatmaps/400.400.10/scr_apop_wt_div/GV0819_Pos3_702_RFP_N_events saved out successfully',\n",
       "  '/home/nathan/data/kraken/h2b/giulia/radial_analysis_output/follow/individual_spatiotemporal_heatmaps/400.400.10/scr_apop_wt_div/GV0819_Pos3_66_RFP_N_cells / /home/nathan/data/kraken/h2b/giulia/radial_analysis_output/follow/individual_spatiotemporal_heatmaps/400.400.10/scr_apop_wt_div/GV0819_Pos3_66_RFP_N_events saved out successfully',\n",
       "  '/home/nathan/data/kraken/h2b/giulia/radial_analysis_output/follow/individual_spatiotemporal_heatmaps/400.400.10/scr_apop_wt_div/GV0819_Pos3_1419_RFP_N_cells / /home/nathan/data/kraken/h2b/giulia/radial_analysis_output/follow/individual_spatiotemporal_heatmaps/400.400.10/scr_apop_wt_div/GV0819_Pos3_1419_RFP_N_events saved out successfully',\n",
       "  '/home/nathan/data/kraken/h2b/giulia/radial_analysis_output/follow/individual_spatiotemporal_heatmaps/400.400.10/scr_apop_wt_div/GV0819_Pos3_48_RFP_N_cells / /home/nathan/data/kraken/h2b/giulia/radial_analysis_output/follow/individual_spatiotemporal_heatmaps/400.400.10/scr_apop_wt_div/GV0819_Pos3_48_RFP_N_events saved out successfully',\n",
       "  '/home/nathan/data/kraken/h2b/giulia/radial_analysis_output/follow/individual_spatiotemporal_heatmaps/400.400.10/scr_apop_wt_div/GV0819_Pos3_17_RFP_N_cells / /home/nathan/data/kraken/h2b/giulia/radial_analysis_output/follow/individual_spatiotemporal_heatmaps/400.400.10/scr_apop_wt_div/GV0819_Pos3_17_RFP_N_events saved out successfully',\n",
       "  '/home/nathan/data/kraken/h2b/giulia/radial_analysis_output/follow/individual_spatiotemporal_heatmaps/400.400.10/scr_apop_wt_div/GV0819_Pos3_1099_RFP_N_cells / /home/nathan/data/kraken/h2b/giulia/radial_analysis_output/follow/individual_spatiotemporal_heatmaps/400.400.10/scr_apop_wt_div/GV0819_Pos3_1099_RFP_N_events saved out successfully',\n",
       "  '/home/nathan/data/kraken/h2b/giulia/radial_analysis_output/follow/individual_spatiotemporal_heatmaps/400.400.10/scr_apop_wt_div/GV0819_Pos3_774_RFP_N_cells / /home/nathan/data/kraken/h2b/giulia/radial_analysis_output/follow/individual_spatiotemporal_heatmaps/400.400.10/scr_apop_wt_div/GV0819_Pos3_774_RFP_N_events saved out successfully',\n",
       "  '/home/nathan/data/kraken/h2b/giulia/radial_analysis_output/follow/individual_spatiotemporal_heatmaps/400.400.10/scr_apop_wt_div/GV0819_Pos3_1735_RFP_N_cells / /home/nathan/data/kraken/h2b/giulia/radial_analysis_output/follow/individual_spatiotemporal_heatmaps/400.400.10/scr_apop_wt_div/GV0819_Pos3_1735_RFP_N_events saved out successfully',\n",
       "  '/home/nathan/data/kraken/h2b/giulia/radial_analysis_output/follow/individual_spatiotemporal_heatmaps/400.400.10/scr_apop_wt_div/GV0819_Pos3_494_RFP_N_cells / /home/nathan/data/kraken/h2b/giulia/radial_analysis_output/follow/individual_spatiotemporal_heatmaps/400.400.10/scr_apop_wt_div/GV0819_Pos3_494_RFP_N_events saved out successfully',\n",
       "  '/home/nathan/data/kraken/h2b/giulia/radial_analysis_output/follow/individual_spatiotemporal_heatmaps/400.400.10/scr_apop_wt_div/GV0819_Pos3_606_RFP_N_cells / /home/nathan/data/kraken/h2b/giulia/radial_analysis_output/follow/individual_spatiotemporal_heatmaps/400.400.10/scr_apop_wt_div/GV0819_Pos3_606_RFP_N_events saved out successfully',\n",
       "  '/home/nathan/data/kraken/h2b/giulia/radial_analysis_output/follow/individual_spatiotemporal_heatmaps/400.400.10/scr_apop_wt_div/GV0819_Pos3_1659_RFP_N_cells / /home/nathan/data/kraken/h2b/giulia/radial_analysis_output/follow/individual_spatiotemporal_heatmaps/400.400.10/scr_apop_wt_div/GV0819_Pos3_1659_RFP_N_events saved out successfully',\n",
       "  '/home/nathan/data/kraken/h2b/giulia/radial_analysis_output/follow/individual_spatiotemporal_heatmaps/400.400.10/scr_apop_wt_div/GV0819_Pos3_870_RFP_N_cells / /home/nathan/data/kraken/h2b/giulia/radial_analysis_output/follow/individual_spatiotemporal_heatmaps/400.400.10/scr_apop_wt_div/GV0819_Pos3_870_RFP_N_events saved out successfully',\n",
       "  '/home/nathan/data/kraken/h2b/giulia/radial_analysis_output/follow/individual_spatiotemporal_heatmaps/400.400.10/scr_apop_wt_div/GV0819_Pos3_319_RFP_N_cells / /home/nathan/data/kraken/h2b/giulia/radial_analysis_output/follow/individual_spatiotemporal_heatmaps/400.400.10/scr_apop_wt_div/GV0819_Pos3_319_RFP_N_events saved out successfully',\n",
       "  '/home/nathan/data/kraken/h2b/giulia/radial_analysis_output/follow/individual_spatiotemporal_heatmaps/400.400.10/scr_apop_wt_div/GV0819_Pos3_823_RFP_N_cells / /home/nathan/data/kraken/h2b/giulia/radial_analysis_output/follow/individual_spatiotemporal_heatmaps/400.400.10/scr_apop_wt_div/GV0819_Pos3_823_RFP_N_events saved out successfully',\n",
       "  '/home/nathan/data/kraken/h2b/giulia/radial_analysis_output/follow/individual_spatiotemporal_heatmaps/400.400.10/scr_apop_wt_div/GV0798_Pos4_27_RFP_N_cells / /home/nathan/data/kraken/h2b/giulia/radial_analysis_output/follow/individual_spatiotemporal_heatmaps/400.400.10/scr_apop_wt_div/GV0798_Pos4_27_RFP_N_events saved out successfully',\n",
       "  '/home/nathan/data/kraken/h2b/giulia/radial_analysis_output/follow/individual_spatiotemporal_heatmaps/400.400.10/scr_apop_wt_div/GV0798_Pos4_22_RFP_N_cells / /home/nathan/data/kraken/h2b/giulia/radial_analysis_output/follow/individual_spatiotemporal_heatmaps/400.400.10/scr_apop_wt_div/GV0798_Pos4_22_RFP_N_events saved out successfully',\n",
       "  '/home/nathan/data/kraken/h2b/giulia/radial_analysis_output/follow/individual_spatiotemporal_heatmaps/400.400.10/scr_apop_wt_div/GV0798_Pos4_344_RFP_N_cells / /home/nathan/data/kraken/h2b/giulia/radial_analysis_output/follow/individual_spatiotemporal_heatmaps/400.400.10/scr_apop_wt_div/GV0798_Pos4_344_RFP_N_events saved out successfully',\n",
       "  '/home/nathan/data/kraken/h2b/giulia/radial_analysis_output/follow/individual_spatiotemporal_heatmaps/400.400.10/scr_apop_wt_div/GV0798_Pos4_253_RFP_N_cells / /home/nathan/data/kraken/h2b/giulia/radial_analysis_output/follow/individual_spatiotemporal_heatmaps/400.400.10/scr_apop_wt_div/GV0798_Pos4_253_RFP_N_events saved out successfully',\n",
       "  '/home/nathan/data/kraken/h2b/giulia/radial_analysis_output/follow/individual_spatiotemporal_heatmaps/400.400.10/scr_apop_wt_div/GV0798_Pos4_302_RFP_N_cells / /home/nathan/data/kraken/h2b/giulia/radial_analysis_output/follow/individual_spatiotemporal_heatmaps/400.400.10/scr_apop_wt_div/GV0798_Pos4_302_RFP_N_events saved out successfully',\n",
       "  '/home/nathan/data/kraken/h2b/giulia/radial_analysis_output/follow/individual_spatiotemporal_heatmaps/400.400.10/scr_apop_wt_div/GV0798_Pos4_255_RFP_N_cells / /home/nathan/data/kraken/h2b/giulia/radial_analysis_output/follow/individual_spatiotemporal_heatmaps/400.400.10/scr_apop_wt_div/GV0798_Pos4_255_RFP_N_events saved out successfully',\n",
       "  '/home/nathan/data/kraken/h2b/giulia/radial_analysis_output/follow/individual_spatiotemporal_heatmaps/400.400.10/scr_apop_wt_div/GV0800_Pos7_7_RFP_N_cells / /home/nathan/data/kraken/h2b/giulia/radial_analysis_output/follow/individual_spatiotemporal_heatmaps/400.400.10/scr_apop_wt_div/GV0800_Pos7_7_RFP_N_events saved out successfully',\n",
       "  '/home/nathan/data/kraken/h2b/giulia/radial_analysis_output/follow/individual_spatiotemporal_heatmaps/400.400.10/scr_apop_wt_div/GV0800_Pos7_27_RFP_N_cells / /home/nathan/data/kraken/h2b/giulia/radial_analysis_output/follow/individual_spatiotemporal_heatmaps/400.400.10/scr_apop_wt_div/GV0800_Pos7_27_RFP_N_events saved out successfully',\n",
       "  '/home/nathan/data/kraken/h2b/giulia/radial_analysis_output/follow/individual_spatiotemporal_heatmaps/400.400.10/scr_apop_wt_div/GV0800_Pos7_52_RFP_N_cells / /home/nathan/data/kraken/h2b/giulia/radial_analysis_output/follow/individual_spatiotemporal_heatmaps/400.400.10/scr_apop_wt_div/GV0800_Pos7_52_RFP_N_events saved out successfully',\n",
       "  '/home/nathan/data/kraken/h2b/giulia/radial_analysis_output/follow/individual_spatiotemporal_heatmaps/400.400.10/scr_apop_wt_div/GV0800_Pos7_165_RFP_N_cells / /home/nathan/data/kraken/h2b/giulia/radial_analysis_output/follow/individual_spatiotemporal_heatmaps/400.400.10/scr_apop_wt_div/GV0800_Pos7_165_RFP_N_events saved out successfully',\n",
       "  '/home/nathan/data/kraken/h2b/giulia/radial_analysis_output/follow/individual_spatiotemporal_heatmaps/400.400.10/scr_apop_wt_div/GV0800_Pos7_29_RFP_N_cells / /home/nathan/data/kraken/h2b/giulia/radial_analysis_output/follow/individual_spatiotemporal_heatmaps/400.400.10/scr_apop_wt_div/GV0800_Pos7_29_RFP_N_events saved out successfully',\n",
       "  '/home/nathan/data/kraken/h2b/giulia/radial_analysis_output/follow/individual_spatiotemporal_heatmaps/400.400.10/scr_apop_wt_div/GV0800_Pos7_368_RFP_N_cells / /home/nathan/data/kraken/h2b/giulia/radial_analysis_output/follow/individual_spatiotemporal_heatmaps/400.400.10/scr_apop_wt_div/GV0800_Pos7_368_RFP_N_events saved out successfully',\n",
       "  '/home/nathan/data/kraken/h2b/giulia/radial_analysis_output/follow/individual_spatiotemporal_heatmaps/400.400.10/scr_apop_wt_div/GV0800_Pos7_393_RFP_N_cells / /home/nathan/data/kraken/h2b/giulia/radial_analysis_output/follow/individual_spatiotemporal_heatmaps/400.400.10/scr_apop_wt_div/GV0800_Pos7_393_RFP_N_events saved out successfully',\n",
       "  '/home/nathan/data/kraken/h2b/giulia/radial_analysis_output/follow/individual_spatiotemporal_heatmaps/400.400.10/scr_apop_wt_div/GV0800_Pos7_392_RFP_N_cells / /home/nathan/data/kraken/h2b/giulia/radial_analysis_output/follow/individual_spatiotemporal_heatmaps/400.400.10/scr_apop_wt_div/GV0800_Pos7_392_RFP_N_events saved out successfully',\n",
       "  '/home/nathan/data/kraken/h2b/giulia/radial_analysis_output/follow/individual_spatiotemporal_heatmaps/400.400.10/scr_apop_wt_div/GV0800_Pos7_456_RFP_N_cells / /home/nathan/data/kraken/h2b/giulia/radial_analysis_output/follow/individual_spatiotemporal_heatmaps/400.400.10/scr_apop_wt_div/GV0800_Pos7_456_RFP_N_events saved out successfully',\n",
       "  '/home/nathan/data/kraken/h2b/giulia/radial_analysis_output/follow/individual_spatiotemporal_heatmaps/400.400.10/scr_apop_wt_div/GV0800_Pos7_440_RFP_N_cells / /home/nathan/data/kraken/h2b/giulia/radial_analysis_output/follow/individual_spatiotemporal_heatmaps/400.400.10/scr_apop_wt_div/GV0800_Pos7_440_RFP_N_events saved out successfully',\n",
       "  '/home/nathan/data/kraken/h2b/giulia/radial_analysis_output/follow/individual_spatiotemporal_heatmaps/400.400.10/scr_apop_wt_div/GV0800_Pos7_14_RFP_N_cells / /home/nathan/data/kraken/h2b/giulia/radial_analysis_output/follow/individual_spatiotemporal_heatmaps/400.400.10/scr_apop_wt_div/GV0800_Pos7_14_RFP_N_events saved out successfully',\n",
       "  '/home/nathan/data/kraken/h2b/giulia/radial_analysis_output/follow/individual_spatiotemporal_heatmaps/400.400.10/scr_apop_wt_div/GV0800_Pos7_299_RFP_N_cells / /home/nathan/data/kraken/h2b/giulia/radial_analysis_output/follow/individual_spatiotemporal_heatmaps/400.400.10/scr_apop_wt_div/GV0800_Pos7_299_RFP_N_events saved out successfully',\n",
       "  '/home/nathan/data/kraken/h2b/giulia/radial_analysis_output/follow/individual_spatiotemporal_heatmaps/400.400.10/scr_apop_wt_div/GV0800_Pos7_297_RFP_N_cells / /home/nathan/data/kraken/h2b/giulia/radial_analysis_output/follow/individual_spatiotemporal_heatmaps/400.400.10/scr_apop_wt_div/GV0800_Pos7_297_RFP_N_events saved out successfully',\n",
       "  '/home/nathan/data/kraken/h2b/giulia/radial_analysis_output/follow/individual_spatiotemporal_heatmaps/400.400.10/scr_apop_wt_div/GV0800_Pos7_279_RFP_N_cells / /home/nathan/data/kraken/h2b/giulia/radial_analysis_output/follow/individual_spatiotemporal_heatmaps/400.400.10/scr_apop_wt_div/GV0800_Pos7_279_RFP_N_events saved out successfully',\n",
       "  '/home/nathan/data/kraken/h2b/giulia/radial_analysis_output/follow/individual_spatiotemporal_heatmaps/400.400.10/scr_apop_wt_div/GV0800_Pos7_16_RFP_N_cells / /home/nathan/data/kraken/h2b/giulia/radial_analysis_output/follow/individual_spatiotemporal_heatmaps/400.400.10/scr_apop_wt_div/GV0800_Pos7_16_RFP_N_events saved out successfully',\n",
       "  '/home/nathan/data/kraken/h2b/giulia/radial_analysis_output/follow/individual_spatiotemporal_heatmaps/400.400.10/scr_apop_wt_div/GV0800_Pos7_361_RFP_N_cells / /home/nathan/data/kraken/h2b/giulia/radial_analysis_output/follow/individual_spatiotemporal_heatmaps/400.400.10/scr_apop_wt_div/GV0800_Pos7_361_RFP_N_events saved out successfully',\n",
       "  '/home/nathan/data/kraken/h2b/giulia/radial_analysis_output/follow/individual_spatiotemporal_heatmaps/400.400.10/scr_apop_wt_div/GV0800_Pos7_373_RFP_N_cells / /home/nathan/data/kraken/h2b/giulia/radial_analysis_output/follow/individual_spatiotemporal_heatmaps/400.400.10/scr_apop_wt_div/GV0800_Pos7_373_RFP_N_events saved out successfully',\n",
       "  '/home/nathan/data/kraken/h2b/giulia/radial_analysis_output/follow/individual_spatiotemporal_heatmaps/400.400.10/scr_apop_wt_div/GV0800_Pos7_190_RFP_N_cells / /home/nathan/data/kraken/h2b/giulia/radial_analysis_output/follow/individual_spatiotemporal_heatmaps/400.400.10/scr_apop_wt_div/GV0800_Pos7_190_RFP_N_events saved out successfully',\n",
       "  '/home/nathan/data/kraken/h2b/giulia/radial_analysis_output/follow/individual_spatiotemporal_heatmaps/400.400.10/scr_apop_wt_div/GV0800_Pos7_598_RFP_N_cells / /home/nathan/data/kraken/h2b/giulia/radial_analysis_output/follow/individual_spatiotemporal_heatmaps/400.400.10/scr_apop_wt_div/GV0800_Pos7_598_RFP_N_events saved out successfully',\n",
       "  '/home/nathan/data/kraken/h2b/giulia/radial_analysis_output/follow/individual_spatiotemporal_heatmaps/400.400.10/scr_apop_wt_div/GV0800_Pos7_667_RFP_N_cells / /home/nathan/data/kraken/h2b/giulia/radial_analysis_output/follow/individual_spatiotemporal_heatmaps/400.400.10/scr_apop_wt_div/GV0800_Pos7_667_RFP_N_events saved out successfully',\n",
       "  '/home/nathan/data/kraken/h2b/giulia/radial_analysis_output/follow/individual_spatiotemporal_heatmaps/400.400.10/scr_apop_wt_div/GV0800_Pos7_669_RFP_N_cells / /home/nathan/data/kraken/h2b/giulia/radial_analysis_output/follow/individual_spatiotemporal_heatmaps/400.400.10/scr_apop_wt_div/GV0800_Pos7_669_RFP_N_events saved out successfully',\n",
       "  '/home/nathan/data/kraken/h2b/giulia/radial_analysis_output/follow/individual_spatiotemporal_heatmaps/400.400.10/scr_apop_wt_div/GV0813_Pos1_92_RFP_N_cells / /home/nathan/data/kraken/h2b/giulia/radial_analysis_output/follow/individual_spatiotemporal_heatmaps/400.400.10/scr_apop_wt_div/GV0813_Pos1_92_RFP_N_events saved out successfully',\n",
       "  '/home/nathan/data/kraken/h2b/giulia/radial_analysis_output/follow/individual_spatiotemporal_heatmaps/400.400.10/scr_apop_wt_div/GV0813_Pos1_1_RFP_N_cells / /home/nathan/data/kraken/h2b/giulia/radial_analysis_output/follow/individual_spatiotemporal_heatmaps/400.400.10/scr_apop_wt_div/GV0813_Pos1_1_RFP_N_events saved out successfully',\n",
       "  '/home/nathan/data/kraken/h2b/giulia/radial_analysis_output/follow/individual_spatiotemporal_heatmaps/400.400.10/scr_apop_wt_div/GV0813_Pos1_2_RFP_N_cells / /home/nathan/data/kraken/h2b/giulia/radial_analysis_output/follow/individual_spatiotemporal_heatmaps/400.400.10/scr_apop_wt_div/GV0813_Pos1_2_RFP_N_events saved out successfully',\n",
       "  '/home/nathan/data/kraken/h2b/giulia/radial_analysis_output/follow/individual_spatiotemporal_heatmaps/400.400.10/scr_apop_wt_div/GV0813_Pos1_386_RFP_N_cells / /home/nathan/data/kraken/h2b/giulia/radial_analysis_output/follow/individual_spatiotemporal_heatmaps/400.400.10/scr_apop_wt_div/GV0813_Pos1_386_RFP_N_events saved out successfully',\n",
       "  '/home/nathan/data/kraken/h2b/giulia/radial_analysis_output/follow/individual_spatiotemporal_heatmaps/400.400.10/scr_apop_wt_div/GV0813_Pos1_335_RFP_N_cells / /home/nathan/data/kraken/h2b/giulia/radial_analysis_output/follow/individual_spatiotemporal_heatmaps/400.400.10/scr_apop_wt_div/GV0813_Pos1_335_RFP_N_events saved out successfully',\n",
       "  '/home/nathan/data/kraken/h2b/giulia/radial_analysis_output/follow/individual_spatiotemporal_heatmaps/400.400.10/scr_apop_wt_div/GV0813_Pos1_170_RFP_N_cells / /home/nathan/data/kraken/h2b/giulia/radial_analysis_output/follow/individual_spatiotemporal_heatmaps/400.400.10/scr_apop_wt_div/GV0813_Pos1_170_RFP_N_events saved out successfully',\n",
       "  '/home/nathan/data/kraken/h2b/giulia/radial_analysis_output/follow/individual_spatiotemporal_heatmaps/400.400.10/scr_apop_wt_div/GV0813_Pos1_185_RFP_N_cells / /home/nathan/data/kraken/h2b/giulia/radial_analysis_output/follow/individual_spatiotemporal_heatmaps/400.400.10/scr_apop_wt_div/GV0813_Pos1_185_RFP_N_events saved out successfully',\n",
       "  '/home/nathan/data/kraken/h2b/giulia/radial_analysis_output/follow/individual_spatiotemporal_heatmaps/400.400.10/scr_apop_wt_div/GV0813_Pos1_184_RFP_N_cells / /home/nathan/data/kraken/h2b/giulia/radial_analysis_output/follow/individual_spatiotemporal_heatmaps/400.400.10/scr_apop_wt_div/GV0813_Pos1_184_RFP_N_events saved out successfully',\n",
       "  '/home/nathan/data/kraken/h2b/giulia/radial_analysis_output/follow/individual_spatiotemporal_heatmaps/400.400.10/scr_apop_wt_div/GV0813_Pos1_271_RFP_N_cells / /home/nathan/data/kraken/h2b/giulia/radial_analysis_output/follow/individual_spatiotemporal_heatmaps/400.400.10/scr_apop_wt_div/GV0813_Pos1_271_RFP_N_events saved out successfully',\n",
       "  '/home/nathan/data/kraken/h2b/giulia/radial_analysis_output/follow/individual_spatiotemporal_heatmaps/400.400.10/scr_apop_wt_div/GV0813_Pos1_300_RFP_N_cells / /home/nathan/data/kraken/h2b/giulia/radial_analysis_output/follow/individual_spatiotemporal_heatmaps/400.400.10/scr_apop_wt_div/GV0813_Pos1_300_RFP_N_events saved out successfully',\n",
       "  '/home/nathan/data/kraken/h2b/giulia/radial_analysis_output/follow/individual_spatiotemporal_heatmaps/400.400.10/scr_apop_wt_div/GV0813_Pos1_510_RFP_N_cells / /home/nathan/data/kraken/h2b/giulia/radial_analysis_output/follow/individual_spatiotemporal_heatmaps/400.400.10/scr_apop_wt_div/GV0813_Pos1_510_RFP_N_events saved out successfully',\n",
       "  '/home/nathan/data/kraken/h2b/giulia/radial_analysis_output/follow/individual_spatiotemporal_heatmaps/400.400.10/scr_apop_wt_div/GV0813_Pos1_325_RFP_N_cells / /home/nathan/data/kraken/h2b/giulia/radial_analysis_output/follow/individual_spatiotemporal_heatmaps/400.400.10/scr_apop_wt_div/GV0813_Pos1_325_RFP_N_events saved out successfully'])"
      ]
     },
     "execution_count": 8,
     "metadata": {},
     "output_type": "execute_result"
    }
   ],
   "source": [
    "error_log, success_log"
   ]
  },
  {
   "cell_type": "markdown",
   "metadata": {},
   "source": [
    "## 4) Compile individual heatmaps into cumulative plots "
   ]
  },
  {
   "cell_type": "markdown",
   "metadata": {},
   "source": [
    "Compile cumulative heatmap by iteratively adding single-apoptosis heatmaps from previous output or different pre-established output "
   ]
  },
  {
   "cell_type": "code",
   "execution_count": 29,
   "metadata": {},
   "outputs": [],
   "source": [
    "single_cell_heatmap_location = output_path\n",
    "#single_cell_heatmap_location = '/home/nathan/data/kraken/h2b/giulia/radial_analysis_output/follow/individual_spatiotemporal_heatmaps/400.400.10/scr_apop_wt_div'\n",
    "save_path = '/home/nathan/data/kraken/h2b/giulia/radial_analysis_output/follow/cumulative_plots/400.400.10/scr_apop_wt_div'\n",
    "Path(save_path).mkdir(parents=True, exist_ok=True)\n",
    "radius, t_range, num_bins = 400, 400, 10"
   ]
  },
  {
   "cell_type": "code",
   "execution_count": 31,
   "metadata": {},
   "outputs": [
    {
     "data": {
      "text/plain": [
       "1839"
      ]
     },
     "execution_count": 31,
     "metadata": {},
     "output_type": "execute_result"
    }
   ],
   "source": [
    "N_cells, N_events = np.zeros((num_bins, num_bins)), np.zeros((num_bins, num_bins))\n",
    "N = 0\n",
    "for heatmap_ID in natsorted(os.listdir(single_cell_heatmap_location)):\n",
    "    if 'N_cells' in heatmap_ID:\n",
    "        N_cells += np.load(os.path.join(single_cell_heatmap_location,heatmap_ID))\n",
    "    if 'N_events' in heatmap_ID:\n",
    "        N_events += np.load(os.path.join(single_cell_heatmap_location,heatmap_ID))\n",
    "        N+=1\n",
    "N"
   ]
  },
  {
   "cell_type": "code",
   "execution_count": 17,
   "metadata": {},
   "outputs": [
    {
     "name": "stdout",
     "output_type": "stream",
     "text": [
      "The number of WT. cells counted is equal to =  32587746.0\n"
     ]
    }
   ],
   "source": [
    "print(\"The number of WT. cells counted is equal to = \", N_cells.sum())"
   ]
  },
  {
   "cell_type": "markdown",
   "metadata": {},
   "source": [
    "Function to plot heatmaps: \n",
    "\n",
    "`plot_cumulative(input_2d_hist, num_bins, radius, t_range, title, expt_label, cb_label, save_path, SI = True)`\n",
    "\n",
    "Where the variables needed are as follows:\n",
    "\n",
    "- `input_2d_hist` = Input 2D histogram\n",
    "- `num_bins` = Number of bins the histogram is sorted into\n",
    "- `radius` = Spatial extent of scan\n",
    "- `t_range` = Temporal range of scan\n",
    "- `title` = Title/save out filename of heatmap\n",
    "- `label` = Optional label for heatmap\n",
    "- `cb_label` = Label for colourbar\n",
    "- `save_path` = Ouput save path, if empty string then plot will not be saved out\n",
    "- `SI` = If True then plots the xy in SI base unit instead of pixel/frames"
   ]
  },
  {
   "cell_type": "code",
   "execution_count": 33,
   "metadata": {},
   "outputs": [
    {
     "data": {
      "text/plain": [
       "'/home/nathan/data/kraken/h2b/giulia/radial_analysis_output/follow/cumulative_plots/400.400.10/scr_apop_wt_div'"
      ]
     },
     "execution_count": 33,
     "metadata": {},
     "output_type": "execute_result"
    }
   ],
   "source": [
    "save_path"
   ]
  },
  {
   "cell_type": "code",
   "execution_count": 34,
   "metadata": {},
   "outputs": [
    {
     "name": "stdout",
     "output_type": "stream",
     "text": [
      "Plot saved at  /home/nathan/data/kraken/h2b/giulia/radial_analysis_output/follow/cumulative_plots/400.400.10/scr_apop_wt_div/Spatiotemporal dist. of wild-type cells \n",
      " around Scribble apoptoses (N=1839).pdf\n"
     ]
    },
    {
     "data": {
      "text/plain": [
       "<matplotlib.image.AxesImage at 0x7f880b066790>"
      ]
     },
     "execution_count": 34,
     "metadata": {},
     "output_type": "execute_result"
    },
    {
     "data": {
      "image/png": "[encoded data removed]",
      "text/plain": [
       "<Figure size 432x288 with 2 Axes>"
      ]
     },
     "metadata": {
      "needs_background": "light"
     },
     "output_type": "display_data"
    }
   ],
   "source": [
    "render.plot_cumulative(input_2d_hist = N_cells,\n",
    "                num_bins  = 10,\n",
    "                radius  = 400,\n",
    "                t_range = 400, \n",
    "                title = 'Spatiotemporal dist. of wild-type cells \\n around Scribble apoptoses (N={})'.format(N), \n",
    "                label = '', \n",
    "                cb_label = 'Number of cell apperances', \n",
    "                save_path = save_path,#'/home/nathan/data/kraken/h2b/giulia/radial_analysis_output/follow/cumulative_plots/400.400.10/scr_apop_wt_div',\n",
    "                SI = True) ## SI is standard "
   ]
  },
  {
   "cell_type": "code",
   "execution_count": 35,
   "metadata": {},
   "outputs": [
    {
     "name": "stdout",
     "output_type": "stream",
     "text": [
      "Plot saved at  /home/nathan/data/kraken/h2b/giulia/radial_analysis_output/follow/cumulative_plots/400.400.10/scr_apop_wt_div/Spatiotemporal dist. of wild-type mitoses \n",
      " around Scribble apoptoses (N=1839).pdf\n"
     ]
    },
    {
     "data": {
      "text/plain": [
       "<matplotlib.image.AxesImage at 0x7f8818c5e990>"
      ]
     },
     "execution_count": 35,
     "metadata": {},
     "output_type": "execute_result"
    },
    {
     "data": {
      "image/png": "[encoded data removed]",
      "text/plain": [
       "<Figure size 432x288 with 2 Axes>"
      ]
     },
     "metadata": {
      "needs_background": "light"
     },
     "output_type": "display_data"
    }
   ],
   "source": [
    "render.plot_cumulative(input_2d_hist = N_events,\n",
    "                num_bins  = 10,\n",
    "                radius  = 400,\n",
    "                t_range = 400, \n",
    "                title = 'Spatiotemporal dist. of wild-type mitoses \\n around Scribble apoptoses (N={})'.format(N), \n",
    "                label = '', \n",
    "                cb_label = 'Number of wild-type divisions', \n",
    "                save_path = save_path,#'/home/nathan/data/kraken/h2b/giulia/radial_analysis_output/cumulative_plots/400.400.10/scr_apop_wt_div',\n",
    "                SI = True)"
   ]
  },
  {
   "cell_type": "code",
   "execution_count": 36,
   "metadata": {},
   "outputs": [
    {
     "name": "stdout",
     "output_type": "stream",
     "text": [
      "Plot saved at  /home/nathan/data/kraken/h2b/giulia/radial_analysis_output/follow/cumulative_plots/400.400.10/scr_apop_wt_div/Spatiotemporal dist. of probability of wild-type division \n",
      " around Scribble apoptoses (N=1839).pdf\n"
     ]
    },
    {
     "data": {
      "text/plain": [
       "<matplotlib.image.AxesImage at 0x7f88188f63d0>"
      ]
     },
     "execution_count": 36,
     "metadata": {},
     "output_type": "execute_result"
    },
    {
     "data": {
      "image/png": "[encoded data removed]",
      "text/plain": [
       "<Figure size 432x288 with 2 Axes>"
      ]
     },
     "metadata": {
      "needs_background": "light"
     },
     "output_type": "display_data"
    }
   ],
   "source": [
    "render.plot_cumulative(input_2d_hist = N_events/N_cells,\n",
    "                num_bins  = 10,\n",
    "                radius  = 400,\n",
    "                t_range = 400, \n",
    "                title = 'Spatiotemporal dist. of probability of wild-type division \\n around Scribble apoptoses (N={})'.format(N), \n",
    "                label = '', \n",
    "                cb_label = 'Probability of wild-type division', \n",
    "                save_path = save_path,#'/home/nathan/data/kraken/h2b/giulia/radial_analysis_output/cumulative_plots/400.400.10/scr_apop_wt_div',\n",
    "                SI = True)"
   ]
  },
  {
   "cell_type": "markdown",
   "metadata": {},
   "source": [
    "# 5) Miscellaneous section: segregating cumulative plots based on experiment type"
   ]
  },
  {
   "cell_type": "markdown",
   "metadata": {},
   "source": [
    "50:50 expt"
   ]
  },
  {
   "cell_type": "code",
   "execution_count": 27,
   "metadata": {},
   "outputs": [],
   "source": [
    "single_cell_heatmap_location = '/home/nathan/data/kraken/h2b/giulia/radial_analysis_output/follow/individual_spatiotemporal_heatmaps/400.400.10/scr_apop_wt_div'\n",
    "save_path = '/home/nathan/data/kraken/h2b/giulia/radial_analysis_output/follow/cumulative_plots/400.400.10/scr_apop_wt_div/expt_types'\n",
    "Path(save_path).mkdir(parents=True, exist_ok=True)"
   ]
  },
  {
   "cell_type": "code",
   "execution_count": 28,
   "metadata": {},
   "outputs": [],
   "source": [
    "expt_list_5050 = ['GV0794/Pos4',\n",
    "                 'GV0794/Pos7',\n",
    "                 'GV0794/Pos16',\n",
    "                 'GV0795/Pos4',\n",
    "                 'GV0795/Pos7',\n",
    "                 'GV0795/Pos17',\n",
    "                 'GV0796/Pos4',\n",
    "                 'GV0796/Pos7',\n",
    "                 'GV0796/Pos21',\n",
    "                 'GV0796/Pos22',\n",
    "                 'GV0797/Pos4',\n",
    "                 'GV0797/Pos7',\n",
    "                 'GV0797/Pos20',\n",
    "                 'GV0797/Pos21',\n",
    "                 'GV0798/Pos4',\n",
    "                 'GV0798/Pos7',\n",
    "                 'GV0798/Pos20',\n",
    "                 'GV0798/Pos21',\n",
    "                 'GV0800/Pos4', \n",
    "                 'GV0800/Pos7',\n",
    "                 'GV0800/Pos16',\n",
    "                 'GV0801/Pos4',\n",
    "                 'GV0802/Pos4',\n",
    "                 'GV0804/Pos4',\n",
    "                 'GV0805/Pos4',\n",
    "                 'GV0806/Pos4',\n",
    "                 'GV0807/Pos4',\n",
    "                 'GV0812/Pos0',\n",
    "                 'GV0812/Pos1',\n",
    "                 'GV0812/Pos2',\n",
    "                 'GV0812/Pos3',\n",
    "                 'GV0812/Pos4',\n",
    "                 'GV0812/Pos5',\n",
    "                 'GV0813/Pos0',\n",
    "                 'GV0813/Pos1',\n",
    "                 'GV0813/Pos2',\n",
    "                 'GV0813/Pos3',\n",
    "                 'GV0813/Pos4',\n",
    "                 'GV0813/Pos5',\n",
    "                 'GV0814/Pos0',\n",
    "                 'GV0814/Pos11',\n",
    "                 'GV0814/Pos12',\n",
    "                 'GV0814/Pos23',\n",
    "                 'GV0815/Pos0',\n",
    "                 'GV0815/Pos11',\n",
    "                 'GV0815/Pos12',\n",
    "                 'GV0815/Pos23',\n",
    "                 'GV0816/Pos0',\n",
    "                 'GV0816/Pos13',\n",
    "                 'GV0816/Pos14',\n",
    "                 'GV0816/Pos23',\n",
    "                 'GV0817/Pos0',\n",
    "                 'GV0817/Pos11',\n",
    "                 'GV0817/Pos12',\n",
    "                 'GV0817/Pos23',\n",
    "                 'GV0818/Pos12',\n",
    "                 'GV0818/Pos13',\n",
    "                 'GV0819/Pos0',\n",
    "                 'GV0819/Pos1',\n",
    "                 'GV0819/Pos2',\n",
    "                 'GV0819/Pos3',\n",
    "                 'GV0819/Pos4',\n",
    "                 'GV0819/Pos5',\n",
    "                 'GV0820/Pos0',\n",
    "                 'GV0820/Pos1',\n",
    "                 'GV0820/Pos2',\n",
    "                 'GV0820/Pos3',\n",
    "                 'GV0820/Pos4',\n",
    "                 'GV0820/Pos5']"
   ]
  },
  {
   "cell_type": "code",
   "execution_count": 37,
   "metadata": {},
   "outputs": [
    {
     "data": {
      "text/plain": [
       "1111"
      ]
     },
     "execution_count": 37,
     "metadata": {},
     "output_type": "execute_result"
    }
   ],
   "source": [
    "N_cells, N_events = np.zeros((num_bins, num_bins)), np.zeros((num_bins, num_bins))\n",
    "N = 0\n",
    "for heatmap_ID in natsorted(os.listdir(single_cell_heatmap_location)):\n",
    "    #print(heatmap_ID.split('_P'))\n",
    "    expt = 'GV' +str(re.findall(r\"GV(\\d+)\", heatmap_ID)[0])\n",
    "    position = re.findall(r\"Pos(\\d+)\", heatmap_ID)[0]\n",
    "    if os.path.join(expt,'Pos'+position) in expt_list_5050:\n",
    "        if 'N_cells' in heatmap_ID:\n",
    "            N_cells += np.load(os.path.join(single_cell_heatmap_location,heatmap_ID))\n",
    "        if 'N_events' in heatmap_ID:\n",
    "            N_events += np.load(os.path.join(single_cell_heatmap_location,heatmap_ID))\n",
    "            N+=1\n",
    "N"
   ]
  },
  {
   "cell_type": "code",
   "execution_count": 38,
   "metadata": {},
   "outputs": [
    {
     "name": "stdout",
     "output_type": "stream",
     "text": [
      "Plot saved at  /home/nathan/data/kraken/h2b/giulia/radial_analysis_output/follow/cumulative_plots/400.400.10/scr_apop_wt_div/expt_types/Spatiotemporal dist. of wild-type cells \n",
      " around Scribble apoptoses (N=1111, 50:50 wt:scr expts only).pdf\n"
     ]
    },
    {
     "data": {
      "text/plain": [
       "<matplotlib.image.AxesImage at 0x7f8816b26bd0>"
      ]
     },
     "execution_count": 38,
     "metadata": {},
     "output_type": "execute_result"
    },
    {
     "data": {
      "image/png": "[encoded data removed]",
      "text/plain": [
       "<Figure size 432x288 with 2 Axes>"
      ]
     },
     "metadata": {
      "needs_background": "light"
     },
     "output_type": "display_data"
    }
   ],
   "source": [
    "render.plot_cumulative(input_2d_hist = N_cells,\n",
    "                num_bins  = 10,\n",
    "                radius  = 400,\n",
    "                t_range = 400, \n",
    "                title = 'Spatiotemporal dist. of wild-type cells \\n around Scribble apoptoses (N={}, 50:50 wt:scr expts only)'.format(N), \n",
    "                label = '', \n",
    "                cb_label = 'Number of cell apperances', \n",
    "                save_path = '/home/nathan/data/kraken/h2b/giulia/radial_analysis_output/follow/cumulative_plots/400.400.10/scr_apop_wt_div/expt_types',\n",
    "                SI = True) ## SI is standard "
   ]
  },
  {
   "cell_type": "code",
   "execution_count": 39,
   "metadata": {},
   "outputs": [
    {
     "name": "stdout",
     "output_type": "stream",
     "text": [
      "Plot saved at  /home/nathan/data/kraken/h2b/giulia/radial_analysis_output/follow/cumulative_plots/400.400.10/scr_apop_wt_div/expt_types/Spatiotemporal dist. of wild-type division \n",
      " around Scribble apoptoses (N=1111, 50:50 wt:scr expts only).pdf\n"
     ]
    },
    {
     "data": {
      "text/plain": [
       "<matplotlib.image.AxesImage at 0x7f8816d6c9d0>"
      ]
     },
     "execution_count": 39,
     "metadata": {},
     "output_type": "execute_result"
    },
    {
     "data": {
      "image/png": "[encoded data removed]",
      "text/plain": [
       "<Figure size 432x288 with 2 Axes>"
      ]
     },
     "metadata": {
      "needs_background": "light"
     },
     "output_type": "display_data"
    }
   ],
   "source": [
    "render.plot_cumulative(input_2d_hist = N_events,\n",
    "                num_bins  = 10,\n",
    "                radius  = 400,\n",
    "                t_range = 400, \n",
    "                title = 'Spatiotemporal dist. of wild-type division \\n around Scribble apoptoses (N={}, 50:50 wt:scr expts only)'.format(N), \n",
    "                label = '', \n",
    "                cb_label = 'Number of wild-type divisions', \n",
    "                save_path = '/home/nathan/data/kraken/h2b/giulia/radial_analysis_output/follow/cumulative_plots/400.400.10/scr_apop_wt_div/expt_types',\n",
    "                SI = True)"
   ]
  },
  {
   "cell_type": "code",
   "execution_count": 40,
   "metadata": {},
   "outputs": [
    {
     "name": "stdout",
     "output_type": "stream",
     "text": [
      "Plot saved at  /home/nathan/data/kraken/h2b/giulia/radial_analysis_output/follow/cumulative_plots/400.400.10/scr_apop_wt_div/expt_types/Spatiotemporal dist. of probability of Scribble division \n",
      " around wild-type apoptoses (N=1111, 50:50 wt:scr expts only).pdf\n"
     ]
    },
    {
     "data": {
      "text/plain": [
       "<matplotlib.image.AxesImage at 0x7f8816d6c490>"
      ]
     },
     "execution_count": 40,
     "metadata": {},
     "output_type": "execute_result"
    },
    {
     "data": {
      "image/png": "[encoded data removed]",
      "text/plain": [
       "<Figure size 432x288 with 2 Axes>"
      ]
     },
     "metadata": {
      "needs_background": "light"
     },
     "output_type": "display_data"
    }
   ],
   "source": [
    "render.plot_cumulative(input_2d_hist = N_events/N_cells,\n",
    "                num_bins  = 10,\n",
    "                radius  = 400,\n",
    "                t_range = 400,  \n",
    "                title = 'Spatiotemporal dist. of probability of Scribble division \\n around wild-type apoptoses (N={}, 50:50 wt:scr expts only)'.format(N), \n",
    "                label = '', \n",
    "                cb_label = 'Probability of division', \n",
    "                save_path = '/home/nathan/data/kraken/h2b/giulia/radial_analysis_output/follow/cumulative_plots/400.400.10/scr_apop_wt_div/expt_types',\n",
    "                SI = True)"
   ]
  },
  {
   "cell_type": "markdown",
   "metadata": {},
   "source": [
    "90:10 wt:scr"
   ]
  },
  {
   "cell_type": "code",
   "execution_count": 41,
   "metadata": {},
   "outputs": [],
   "source": [
    "expt_list_9010 = ['GV0794/Pos3',\n",
    " 'GV0794/Pos8',\n",
    " 'GV0794/Pos15',\n",
    " 'GV0795/Pos3',\n",
    " 'GV0795/Pos8',\n",
    " 'GV0795/Pos16',\n",
    " 'GV0796/Pos3',\n",
    " 'GV0796/Pos8',\n",
    " 'GV0796/Pos19',\n",
    " 'GV0796/Pos20',\n",
    " 'GV0797/Pos3',\n",
    " 'GV0797/Pos8',\n",
    " 'GV0797/Pos18',\n",
    " 'GV0797/Pos19',\n",
    " 'GV0798/Pos3',\n",
    " 'GV0798/Pos8',\n",
    " 'GV0798/Pos18',\n",
    " 'GV0798/Pos19',\n",
    " 'GV0800/Pos3',\n",
    " 'GV0800/Pos8',\n",
    " 'GV0800/Pos15',\n",
    " 'GV0801/Pos3',\n",
    " 'GV0802/Pos3',\n",
    " 'GV0804/Pos3',\n",
    " 'GV0805/Pos3',\n",
    " 'GV0806/Pos3',\n",
    " 'GV0807/Pos3']"
   ]
  },
  {
   "cell_type": "code",
   "execution_count": 42,
   "metadata": {},
   "outputs": [
    {
     "data": {
      "text/plain": [
       "131"
      ]
     },
     "execution_count": 42,
     "metadata": {},
     "output_type": "execute_result"
    }
   ],
   "source": [
    "N_cells, N_events = np.zeros((num_bins, num_bins)), np.zeros((num_bins, num_bins))\n",
    "N=0\n",
    "for heatmap_ID in natsorted(os.listdir(single_cell_heatmap_location)):\n",
    "    #print(heatmap_ID.split('_P'))\n",
    "    expt = 'GV' +str(re.findall(r\"GV(\\d+)\", heatmap_ID)[0])\n",
    "    position = re.findall(r\"Pos(\\d+)\", heatmap_ID)[0]\n",
    "    if os.path.join(expt,'Pos'+position) in expt_list_9010:\n",
    "        if 'N_cells' in heatmap_ID:\n",
    "            N_cells += np.load(os.path.join(single_cell_heatmap_location,heatmap_ID))\n",
    "        if 'N_events' in heatmap_ID:\n",
    "            N_events += np.load(os.path.join(single_cell_heatmap_location,heatmap_ID))\n",
    "            N+=1\n",
    "N"
   ]
  },
  {
   "cell_type": "code",
   "execution_count": 43,
   "metadata": {},
   "outputs": [
    {
     "name": "stdout",
     "output_type": "stream",
     "text": [
      "Plot saved at  /home/nathan/data/kraken/h2b/giulia/radial_analysis_output/follow/cumulative_plots/400.400.10/scr_apop_wt_div/expt_types/Spatiotemporal dist. of wild-type cells \n",
      " around Scribble apoptoses (N=131, 90:10 wt:scr expts only).pdf\n"
     ]
    },
    {
     "data": {
      "text/plain": [
       "<matplotlib.image.AxesImage at 0x7f8816b9a1d0>"
      ]
     },
     "execution_count": 43,
     "metadata": {},
     "output_type": "execute_result"
    },
    {
     "data": {
      "image/png": "[encoded data removed]",
      "text/plain": [
       "<Figure size 432x288 with 2 Axes>"
      ]
     },
     "metadata": {
      "needs_background": "light"
     },
     "output_type": "display_data"
    }
   ],
   "source": [
    "render.plot_cumulative(input_2d_hist = N_cells,\n",
    "                num_bins  = 10,\n",
    "                radius  = 400,\n",
    "                t_range = 400, \n",
    "                title = 'Spatiotemporal dist. of wild-type cells \\n around Scribble apoptoses (N={}, 90:10 wt:scr expts only)'.format(N), \n",
    "                label = '', \n",
    "                cb_label = 'Number of cell apperances', \n",
    "                save_path = '/home/nathan/data/kraken/h2b/giulia/radial_analysis_output/follow/cumulative_plots/400.400.10/scr_apop_wt_div/expt_types',\n",
    "                SI = True) ## SI is standard "
   ]
  },
  {
   "cell_type": "code",
   "execution_count": 44,
   "metadata": {},
   "outputs": [
    {
     "name": "stdout",
     "output_type": "stream",
     "text": [
      "Plot saved at  /home/nathan/data/kraken/h2b/giulia/radial_analysis_output/follow/cumulative_plots/400.400.10/scr_apop_wt_div/expt_types/Spatiotemporal dist. of wild-type division \n",
      " around Scribble apoptoses (N=131, 90:10 wt:scr expts only).pdf\n"
     ]
    },
    {
     "data": {
      "text/plain": [
       "<matplotlib.image.AxesImage at 0x7f88181cc550>"
      ]
     },
     "execution_count": 44,
     "metadata": {},
     "output_type": "execute_result"
    },
    {
     "data": {
      "image/png": "[encoded data removed]",
      "text/plain": [
       "<Figure size 432x288 with 2 Axes>"
      ]
     },
     "metadata": {
      "needs_background": "light"
     },
     "output_type": "display_data"
    }
   ],
   "source": [
    "render.plot_cumulative(input_2d_hist = N_events,\n",
    "                num_bins  = 10,\n",
    "                radius  = 400,\n",
    "                t_range = 400, \n",
    "                title = 'Spatiotemporal dist. of wild-type division \\n around Scribble apoptoses (N={}, 90:10 wt:scr expts only)'.format(N),\n",
    "                label = '', \n",
    "                cb_label = 'Number of wild-type divisions', \n",
    "                save_path = '/home/nathan/data/kraken/h2b/giulia/radial_analysis_output/follow/cumulative_plots/400.400.10/scr_apop_wt_div/expt_types',\n",
    "                SI = True)"
   ]
  },
  {
   "cell_type": "code",
   "execution_count": 45,
   "metadata": {
    "scrolled": false
   },
   "outputs": [
    {
     "name": "stdout",
     "output_type": "stream",
     "text": [
      "Plot saved at  /home/nathan/data/kraken/h2b/giulia/radial_analysis_output/follow/cumulative_plots/400.400.10/scr_apop_wt_div/expt_types/Spatiotemporal dist. of probability of wild-type division \n",
      " around Scribble apoptoses (N=131, 90:10 wt:scr expts only).pdf\n"
     ]
    },
    {
     "data": {
      "text/plain": [
       "<matplotlib.image.AxesImage at 0x7f881698f190>"
      ]
     },
     "execution_count": 45,
     "metadata": {},
     "output_type": "execute_result"
    },
    {
     "data": {
      "image/png": "[encoded data removed]",
      "text/plain": [
       "<Figure size 432x288 with 2 Axes>"
      ]
     },
     "metadata": {
      "needs_background": "light"
     },
     "output_type": "display_data"
    }
   ],
   "source": [
    "render.plot_cumulative(input_2d_hist = N_events/N_cells,\n",
    "                num_bins  = 10,\n",
    "                radius  = 400,\n",
    "                t_range = 400, \n",
    "                title = 'Spatiotemporal dist. of probability of wild-type division \\n around Scribble apoptoses (N={}, 90:10 wt:scr expts only)'.format(N),\n",
    "                label = '', \n",
    "                cb_label = 'Probability of division', \n",
    "                save_path = '/home/nathan/data/kraken/h2b/giulia/radial_analysis_output/follow/cumulative_plots/400.400.10/scr_apop_wt_div/expt_types',\n",
    "                SI = True)"
   ]
  },
  {
   "cell_type": "markdown",
   "metadata": {},
   "source": [
    "10:90 wt:scr"
   ]
  },
  {
   "cell_type": "code",
   "execution_count": 46,
   "metadata": {},
   "outputs": [],
   "source": [
    "expt_list_1090 = ['GV0794/Pos5',\n",
    " 'GV0794/Pos6',\n",
    " 'GV0795/Pos5',\n",
    " 'GV0795/Pos6',\n",
    " 'GV0795/Pos18',\n",
    " 'GV0796/Pos5',\n",
    " 'GV0796/Pos6',\n",
    " 'GV0796/Pos23',\n",
    " 'GV0796/Pos24',\n",
    " 'GV0797/Pos5',\n",
    " 'GV0797/Pos6',\n",
    " 'GV0797/Pos22',\n",
    " 'GV0797/Pos23',\n",
    " 'GV0798/Pos5',\n",
    " 'GV0798/Pos6',\n",
    " 'GV0798/Pos22',\n",
    " 'GV0798/Pos23',\n",
    " 'GV0800/Pos5',\n",
    " 'GV0800/Pos6',\n",
    " 'GV0800/Pos17',\n",
    " 'GV0801/Pos5',\n",
    " 'GV0802/Pos5',\n",
    " 'GV0804/Pos5',\n",
    " 'GV0805/Pos5',\n",
    " 'GV0806/Pos5',\n",
    " 'GV0807/Pos5']"
   ]
  },
  {
   "cell_type": "code",
   "execution_count": 47,
   "metadata": {},
   "outputs": [
    {
     "data": {
      "text/plain": [
       "597"
      ]
     },
     "execution_count": 47,
     "metadata": {},
     "output_type": "execute_result"
    }
   ],
   "source": [
    "N_cells, N_events = np.zeros((num_bins, num_bins)), np.zeros((num_bins, num_bins))\n",
    "N=0\n",
    "for heatmap_ID in natsorted(os.listdir(single_cell_heatmap_location)):\n",
    "    #print(heatmap_ID.split('_P'))\n",
    "    expt = 'GV' +str(re.findall(r\"GV(\\d+)\", heatmap_ID)[0])\n",
    "    position = re.findall(r\"Pos(\\d+)\", heatmap_ID)[0]\n",
    "    if os.path.join(expt,'Pos'+position) in expt_list_1090:\n",
    "        if 'N_cells' in heatmap_ID:\n",
    "            N_cells += np.load(os.path.join(single_cell_heatmap_location,heatmap_ID))\n",
    "        if 'N_events' in heatmap_ID:\n",
    "            N_events += np.load(os.path.join(single_cell_heatmap_location,heatmap_ID))\n",
    "            N+=1\n",
    "N"
   ]
  },
  {
   "cell_type": "code",
   "execution_count": 48,
   "metadata": {},
   "outputs": [
    {
     "name": "stdout",
     "output_type": "stream",
     "text": [
      "Plot saved at  /home/nathan/data/kraken/h2b/giulia/radial_analysis_output/follow/cumulative_plots/400.400.10/scr_apop_wt_div/expt_types/Spatiotemporal dist. of wild-type cells around \n",
      "Scribble apoptoses (N=597, 10:90 wt:scr expts only).pdf\n"
     ]
    },
    {
     "data": {
      "text/plain": [
       "<matplotlib.image.AxesImage at 0x7f881690f650>"
      ]
     },
     "execution_count": 48,
     "metadata": {},
     "output_type": "execute_result"
    },
    {
     "data": {
      "image/png": "[encoded data removed]",
      "text/plain": [
       "<Figure size 432x288 with 2 Axes>"
      ]
     },
     "metadata": {
      "needs_background": "light"
     },
     "output_type": "display_data"
    }
   ],
   "source": [
    "render.plot_cumulative(input_2d_hist = N_cells,\n",
    "                num_bins  = 10,\n",
    "                radius  = 400,\n",
    "                t_range = 400, \n",
    "                title = 'Spatiotemporal dist. of wild-type cells around \\nScribble apoptoses (N={}, 10:90 wt:scr expts only)'.format(N), \n",
    "                label = '', \n",
    "                cb_label = 'Number of cell apperances', \n",
    "                save_path = '/home/nathan/data/kraken/h2b/giulia/radial_analysis_output/follow/cumulative_plots/400.400.10/scr_apop_wt_div/expt_types',\n",
    "                SI = True) ## SI is standard "
   ]
  },
  {
   "cell_type": "code",
   "execution_count": 49,
   "metadata": {},
   "outputs": [
    {
     "name": "stdout",
     "output_type": "stream",
     "text": [
      "Plot saved at  /home/nathan/data/kraken/h2b/giulia/radial_analysis_output/follow/cumulative_plots/400.400.10/scr_apop_wt_div/expt_types/Spatiotemporal dist. of wild-type division around \n",
      "Scribble apoptoses (N=597, 10:90 wt:scr expts only).pdf\n"
     ]
    },
    {
     "data": {
      "text/plain": [
       "<matplotlib.image.AxesImage at 0x7f8816918510>"
      ]
     },
     "execution_count": 49,
     "metadata": {},
     "output_type": "execute_result"
    },
    {
     "data": {
      "image/png": "[encoded data removed]",
      "text/plain": [
       "<Figure size 432x288 with 2 Axes>"
      ]
     },
     "metadata": {
      "needs_background": "light"
     },
     "output_type": "display_data"
    }
   ],
   "source": [
    "render.plot_cumulative(input_2d_hist = N_events,\n",
    "                num_bins  = 10,\n",
    "                radius  = 400,\n",
    "                t_range = 400,  \n",
    "                title = 'Spatiotemporal dist. of wild-type division around \\nScribble apoptoses (N={}, 10:90 wt:scr expts only)'.format(N),\n",
    "                label = '', \n",
    "                cb_label = 'Number of wild-type divisions', \n",
    "                save_path = '/home/nathan/data/kraken/h2b/giulia/radial_analysis_output/follow/cumulative_plots/400.400.10/scr_apop_wt_div/expt_types',\n",
    "                SI = True)"
   ]
  },
  {
   "cell_type": "code",
   "execution_count": 50,
   "metadata": {
    "scrolled": false
   },
   "outputs": [
    {
     "name": "stdout",
     "output_type": "stream",
     "text": [
      "Plot saved at  /home/nathan/data/kraken/h2b/giulia/radial_analysis_output/follow/cumulative_plots/400.400.10/scr_apop_wt_div/expt_types/Spatiotemporal dist. of probability of wild-type division around \n",
      "Scribble apoptoses (N=597, 10:90 wt:scr expts only).pdf\n"
     ]
    },
    {
     "data": {
      "text/plain": [
       "<matplotlib.image.AxesImage at 0x7f8816833d50>"
      ]
     },
     "execution_count": 50,
     "metadata": {},
     "output_type": "execute_result"
    },
    {
     "data": {
      "image/png": "[encoded data removed]",
      "text/plain": [
       "<Figure size 432x288 with 2 Axes>"
      ]
     },
     "metadata": {
      "needs_background": "light"
     },
     "output_type": "display_data"
    }
   ],
   "source": [
    "render.plot_cumulative(input_2d_hist = N_events/N_cells,\n",
    "                num_bins  = 10,\n",
    "                radius  = 400,\n",
    "                t_range = 400, \n",
    "                title = 'Spatiotemporal dist. of probability of wild-type division around \\nScribble apoptoses (N={}, 10:90 wt:scr expts only)'.format(N),\n",
    "                label = '', \n",
    "                cb_label = 'Probability of division', \n",
    "                save_path = '/home/nathan/data/kraken/h2b/giulia/radial_analysis_output/follow/cumulative_plots/400.400.10/scr_apop_wt_div/expt_types',\n",
    "                SI = True)"
   ]
  },
  {
   "cell_type": "markdown",
   "metadata": {},
   "source": [
    "Write a function to do a time evolving plot that iteratively adds single cell heat maps according to the apoptosis time?"
   ]
  }
 ],
 "metadata": {
  "kernelspec": {
   "display_name": "Python 3",
   "language": "python",
   "name": "python3"
  },
  "language_info": {
   "codemirror_mode": {
    "name": "ipython",
    "version": 3
   },
   "file_extension": ".py",
   "mimetype": "text/x-python",
   "name": "python",
   "nbconvert_exporter": "python",
   "pygments_lexer": "ipython3",
   "version": "3.7.4"
  }
 },
 "nbformat": 4,
 "nbformat_minor": 4
}
