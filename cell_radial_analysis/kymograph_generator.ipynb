{
 "cells": [
  {
   "cell_type": "markdown",
   "metadata": {},
   "source": [
    "# Kymograph maker\n",
    "This notebook will find competitive cellular \"events\" in the simplest definition (i.e. a loser cell apoptosis) and return information about the spatiotemporal distrubition of counterpart competitive events (i.e. winner cell mitosis) in the form of a kymograph.\n",
    "\n",
    "kymograph:\n",
    "/ˈkʌɪmə(ʊ)ɡrɑːf/\n",
    "_noun_ \n",
    "a graphical representation of spatial positions (of wild-type cells or mitoses) over time in which a spatial axis represents time, focused around an apoptotic event."
   ]
  },
  {
   "cell_type": "markdown",
   "metadata": {},
   "source": [
    "Contents:\n",
    "\n",
    "- Load modules\n",
    "- Set experiment data path\n",
    "- Load tracking data\n",
    "- Isolate tracks of interest (target track)\n",
    "- Iterate over tracks, generating and saving kymographs\n",
    "\n",
    "To-do:\n",
    "\n",
    "- [x] Rewrite this to iterate over many target tracks\n",
    "- [ ] Think about saving out as something other than .npy"
   ]
  },
  {
   "cell_type": "code",
   "execution_count": 1,
   "metadata": {},
   "outputs": [
    {
     "name": "stdout",
     "output_type": "stream",
     "text": [
      "Napari version no.: 0.4.0\n",
      "btrack version no.: 0.4.0\n"
     ]
    }
   ],
   "source": [
    "import napari\n",
    "import btrack\n",
    "import numpy as np\n",
    "from skimage.io import imread\n",
    "import os\n",
    "print(\"Napari version no.:\", napari.__version__)\n",
    "print(\"btrack version no.:\", btrack.__version__)\n",
    "from btrack.utils import import_HDF, import_JSON, tracks_to_napari\n",
    "from tqdm.notebook import tnrange, tqdm\n",
    "import matplotlib.pyplot as plt\n",
    "\n",
    "def find_apoptosis_time(target_track, index): ### if index is set to True then the index of the apoptotic time (wrt target_track) is returned\n",
    "    for i, j in enumerate(target_track.label):\n",
    "        if j == 'APOPTOSIS' and target_track.label[i+1] == 'APOPTOSIS' and target_track.label[i+2] == 'APOPTOSIS': # and target_track.label[i+3] =='APOPTOSIS' and target_track.label[i+4] =='APOPTOSIS':\n",
    "            apop_index = i\n",
    "            break\n",
    "    apop_time = target_track.t[apop_index]\n",
    "    if index == True: \n",
    "        return apop_index\n",
    "    else: \n",
    "        return apop_time"
   ]
  },
  {
   "cell_type": "markdown",
   "metadata": {},
   "source": [
    "### Set experiment data path "
   ]
  },
  {
   "cell_type": "code",
   "execution_count": 2,
   "metadata": {
    "scrolled": false
   },
   "outputs": [],
   "source": [
    "# print(\"Input experiment number\")\n",
    "# experiment_no = input()\n",
    "# root_path = os.path.join('/home/nathan/data/kraken/h2b/giulia/', experiment_no)\n",
    "root_path = '/home/nathan/data/kraken/h2b/giulia/GV0807'  ## this overwrites input option for ease \n",
    "gfp_path = os.path.join(root_path, 'Pos3/stacks/gfp.tif')\n",
    "rfp_path = os.path.join(root_path, 'Pos3/stacks/rfp.tif')\n",
    "bf_path = os.path.join(root_path, 'Pos3/stacks/bf.tif')\n",
    "tracks_path = os.path.join(root_path, 'Pos3/Pos3_aligned/HDF/segmented.hdf5')"
   ]
  },
  {
   "cell_type": "markdown",
   "metadata": {},
   "source": [
    "### Load tracking data"
   ]
  },
  {
   "cell_type": "code",
   "execution_count": 3,
   "metadata": {},
   "outputs": [
    {
     "name": "stderr",
     "output_type": "stream",
     "text": [
      "[INFO][2021/01/04 01:33:53 PM] Opening HDF file: /home/nathan/data/kraken/h2b/giulia/GV0807/Pos3/Pos3_aligned/HDF/segmented.hdf5...\n",
      "[INFO][2021/01/04 01:33:53 PM] Loading tracks/obj_type_1\n",
      "[INFO][2021/01/04 01:33:55 PM] Loading objects/obj_type_1 (408973, 5) (388394 filtered: area>=100)\n",
      "[INFO][2021/01/04 01:33:59 PM] Closing HDF file: /home/nathan/data/kraken/h2b/giulia/GV0807/Pos3/Pos3_aligned/HDF/segmented.hdf5\n",
      "[INFO][2021/01/04 01:33:59 PM] Opening HDF file: /home/nathan/data/kraken/h2b/giulia/GV0807/Pos3/Pos3_aligned/HDF/segmented.hdf5...\n",
      "[INFO][2021/01/04 01:33:59 PM] Loading tracks/obj_type_2\n",
      "[INFO][2021/01/04 01:33:59 PM] Loading objects/obj_type_2 (12115, 5) (8894 filtered: area>=100)\n",
      "[INFO][2021/01/04 01:33:59 PM] Closing HDF file: /home/nathan/data/kraken/h2b/giulia/GV0807/Pos3/Pos3_aligned/HDF/segmented.hdf5\n"
     ]
    },
    {
     "name": "stdout",
     "output_type": "stream",
     "text": [
      "Tracks loaded\n"
     ]
    }
   ],
   "source": [
    "with btrack.dataio.HDF5FileHandler(tracks_path, 'r', obj_type = \"obj_type_1\") as hdf:\n",
    "    wt_tracks = hdf.tracks\n",
    "with btrack.dataio.HDF5FileHandler(tracks_path, 'r', obj_type = \"obj_type_2\") as hdf:\n",
    "    scr_tracks = hdf.tracks\n",
    "print(\"Tracks loaded\")"
   ]
  },
  {
   "cell_type": "code",
   "execution_count": 4,
   "metadata": {},
   "outputs": [],
   "source": [
    "scr_apops = [scr_track for scr_track in scr_tracks if scr_track.fate.name == 'APOPTOSIS']"
   ]
  },
  {
   "cell_type": "markdown",
   "metadata": {},
   "source": [
    "### Set kymograph parameters"
   ]
  },
  {
   "cell_type": "code",
   "execution_count": 5,
   "metadata": {},
   "outputs": [
    {
     "name": "stdout",
     "output_type": "stream",
     "text": [
      "size of temporal and radial bins: 20.0 , 20.0\n"
     ]
    }
   ],
   "source": [
    "radius = 400\n",
    "delta_t = 400\n",
    "num_radial_bins = 20\n",
    "radial_bin = radius / num_radial_bins\n",
    "num_temporal_bins = 20\n",
    "temporal_bin = delta_t / num_temporal_bins\n",
    "print(\"size of temporal and radial bins:\",temporal_bin,\",\", radial_bin)"
   ]
  },
  {
   "cell_type": "markdown",
   "metadata": {},
   "source": [
    "### running on scr_ID 17 first to check against other analysis\n"
   ]
  },
  {
   "cell_type": "code",
   "execution_count": null,
   "metadata": {},
   "outputs": [
    {
     "data": {
      "application/vnd.jupyter.widget-view+json": {
       "model_id": "122ff8874074453b8338d4f9395d88de",
       "version_major": 2,
       "version_minor": 0
      },
      "text/plain": [
       "HBox(children=(FloatProgress(value=0.0, max=68.0), HTML(value='')))"
      ]
     },
     "metadata": {},
     "output_type": "display_data"
    },
    {
     "data": {
      "application/vnd.jupyter.widget-view+json": {
       "model_id": "986163fcd27f415098def1b8ab8fdc12",
       "version_major": 2,
       "version_minor": 0
      },
      "text/plain": [
       "HBox(children=(FloatProgress(value=0.0, max=3887.0), HTML(value='')))"
      ]
     },
     "metadata": {},
     "output_type": "display_data"
    },
    {
     "name": "stdout",
     "output_type": "stream",
     "text": [
      "ID: 36\n"
     ]
    }
   ],
   "source": [
    "max_N_wt = 100\n",
    "for scr_track in tqdm(scr_apops):\n",
    "    target_track = scr_track \n",
    "    apop_index = find_apoptosis_time(target_track, index = True)\n",
    "    apop_time = find_apoptosis_time(target_track, index = False) \n",
    "    ## instead of going over all tracks, could go over all tracks that are definitely in_frame (using func) or in zone \n",
    "    ## set empty data variables to store \n",
    "    num_wt, num_wt_mito = np.zeros((num_radial_bins, num_temporal_bins)), np.zeros((num_radial_bins, num_temporal_bins))\n",
    "    wt_IDs, wt_mito_IDs = np.zeros((num_radial_bins, num_temporal_bins, max_N_wt)), np.zeros((num_radial_bins, num_temporal_bins, max_N_wt))\n",
    "    ## load one wt_track\n",
    "    for j, wt_track in enumerate(tqdm(wt_tracks)):\n",
    "        print(\"ID:\", wt_track.ID)\n",
    "        ## load first distance/radial bin\n",
    "        for n in range(num_radial_bins):\n",
    "            #print(\"radial\", range(int(radial_bin * n), int(radial_bin * (n+1))))\n",
    "            ## load first temporal bin, over negative and positive range\n",
    "            for l, m in enumerate(range(int(-num_temporal_bins/2), int(num_temporal_bins/2))): ## l introduced to iterate through pos integers for data storage\n",
    "                #print(\"time\",range(int(apop_time+temporal_bin*m),int(apop_time+temporal_bin*(m+1))))\n",
    "                ## load first timepoint of wt_track\n",
    "                for i in range(len(wt_track)): \n",
    "                    ## calculate if within euclidean distance: if min of radial distance bin sqrd < (wt_track.x (at first time point) - target_track.x (at apop_time)) both squared + corresponding for yboth squared < max_dist squared\n",
    "                    if ((radial_bin * n)**2) <= (wt_track.x[i] - target_track.x[apop_index])**2 + (wt_track.y[i] - target_track.y[apop_index])**2 < ((radial_bin * (n+1))**2):\n",
    "                        ## if FIRST time point is in temporal bin (centered around apop_time)\n",
    "                        if wt_track.t[i] in (range(int(apop_time+temporal_bin*m),int(apop_time+temporal_bin*(m+1)))):\n",
    "                            num_wt[n,l] += 1 #str(wt_track.ID)\n",
    "                            print(\"wt_track\", wt_track.ID)\n",
    "                            print(\"radial\", range(int(radial_bin * n), int(radial_bin * (n+1))))\n",
    "                            print(\"time\",range(int(apop_time+temporal_bin*m),int(apop_time+temporal_bin*(m+1))))\n",
    "\n",
    "                            ## storing ID in 3D ndarray\n",
    "                            for p in range(len(wt_IDs[n,l,:])):\n",
    "                                if wt_IDs[n,l,p] == 0:\n",
    "                                    wt_IDs[n,l,p] = wt_track.ID\n",
    "                                    break                        \n",
    "\n",
    "                            #print(\"WT ID:\", wt_track.ID, \"time:\", wt_track.t[i], \"radial bin:\", (n*radial_bin),\"-\", ((n+1)*radial_bin), \"temporal bin:\", (temporal_bin * m),\"-\", (temporal_bin * (m+1)),\"i,m,n:\", i,m,n)\n",
    "                            if wt_track.fate.name == \"DIVIDE\" and \"'METAPHASE', 'METAPHASE',\" in str(wt_track.label[int(apop_time+(temporal_bin*m))-wt_track.t[0]:int(apop_time+(temporal_bin*(m+1)))-wt_track.t[0]]): ##explainer: this double condition states that if wt_track ends in mitosis but also has THREE (?) sequential metaphase classifications within the time window of that temporal bin then the condition is met\n",
    "                                num_wt_mito[n,l] += 1 #str(wt_track.ID)\n",
    "                                print(\"wt_track mitosis\", wt_track.ID)\n",
    "                                print(\"radial\", range(int(radial_bin * n), int(radial_bin * (n+1))))\n",
    "                                print(\"time\",range(int(apop_time+temporal_bin*m),int(apop_time+temporal_bin*(m+1))))\n",
    "\n",
    "\n",
    "                                ## storing ID in 3D ndarray\n",
    "                                for p in range(len(wt_mito_IDs[n,l,:])):\n",
    "                                    if wt_mito_IDs[n,l,p] == 0:\n",
    "                                        wt_IDs[n,l,p] = wt_track.ID\n",
    "                                        break   \n",
    "\n",
    "\n",
    "                                #print(\"MITO ID:\", wt\\_track.ID, \"time:\", wt_track.t[i], \"radial bin:\", (n*radial_bin),\"-\", ((n+1)*radial_bin), \"temporal bin:\", (temporal_bin * m),\"-\", (temporal_bin * (m+1)),\"i,m,n:\", i,m,n)\n",
    "                            break ## if track is in bin, break loop iterating over all track positions to skip to next bin\n",
    "\n",
    "    scr_ID_fn = 'Scr_'+str(target_track.ID)\n",
    "    fn = os.path.join(root_path, 'analysis/raw_numbers/', scr_ID_fn)\n",
    "\n",
    "    num_wt_fn = fn + '_num_wt'\n",
    "    num_wt_mito_fn = fn + 'num_wt_mito'\n",
    "    wt_IDs_fn = fn + 'wt_IDs'\n",
    "    wt_mito_IDs_fn = fn + 'wt_mito_IDs'\n",
    "\n",
    "    np.save(num_wt_fn, num_wt)\n",
    "    np.save(num_wt_mito_fn, num_wt_mito)\n",
    "    np.save(wt_IDs_fn, wt_IDs)\n",
    "    np.save(wt_mito_IDs_fn, wt_mito_IDs)"
   ]
  },
  {
   "cell_type": "code",
   "execution_count": null,
   "metadata": {},
   "outputs": [],
   "source": [
    "### generate labels for axis\n",
    "xlocs = range(0, num_temporal_bins, 2) ## step of 2 to avoid crowding\n",
    "xlabels = []\n",
    "for m in range(int(-num_temporal_bins/2), int(num_temporal_bins/2), 2):\n",
    "    xlabels.append((num_temporal_bins/2)*m)\n",
    "print(\"xlabels:\",xlabels, type(xlabels))\n",
    "ylocs = range(0, num_radial_bins, 2) ## step of 2 to avoid crowding\n",
    "ylabels = []\n",
    "for m in range(0, num_radial_bins, 2):\n",
    "    ylabels.append((num_temporal_bins/2)*m)\n",
    "print(\"ylabels:\", ylabels, type(ylabels))"
   ]
  },
  {
   "cell_type": "code",
   "execution_count": null,
   "metadata": {},
   "outputs": [],
   "source": [
    "for scr_track in scr_tracks:\n",
    "    \n",
    "    ## gross wt\n",
    "    title = \"Scr_\" + str(scr_track.ID) + \"_num_wt.png\"\n",
    "    plt.title('No. of wild-type cells')\n",
    "    plt.xlabel(\"time bins\")\n",
    "    plt.ylabel(\"radial bins\")\n",
    "    plt.yticks(ylocs, ylabels)\n",
    "    plt.xticks(xlocs, xlabels, rotation='vertical')\n",
    "    plt.imshow(num_wt)\n",
    "    plt.colorbar()\n",
    "    plt.savefig(os.path.join(root_path, title), bbox_inches = 'tight')\n",
    "    \n",
    "    ## mitoses\n",
    "    title = \"Scr_\" + str(scr_track.ID) + \"_num_wt_mitoses.png\"\n",
    "    plt.title('mitosis kymograph')\n",
    "    plt.xlabel(\"time bins\")\n",
    "    plt.ylabel(\"radial bins\")\n",
    "    plt.ylim(0, num_radial_bins-0.5)\n",
    "    plt.yticks(ylocs, ylabels)\n",
    "    plt.xticks(xlocs, xlabels, rotation='vertical')\n",
    "    plt.imshow(num_wt_mito)\n",
    "    plt.colorbar()\n",
    "    plt.savefig(os.path.join(root_path, title), bbox_inches = 'tight')\n",
    "\n",
    "    ## probability\n",
    "    title = \"Scr_\" + str(scr_track.ID) + \"_prob_wt_mitoses.png\"\n",
    "    plt.title('Probability of mitosis kymograph')\n",
    "    plt.xlabel(\"time bins\")\n",
    "    plt.ylabel(\"radial bins\")\n",
    "    plt.ylim(0, num_radial_bins-0.5)\n",
    "    plt.yticks(ylocs, ylabels)\n",
    "    plt.xticks(xlocs, xlabels, rotation='vertical')\n",
    "    prob_mito = num_wt_mito / num_wt\n",
    "    plt.imshow(prob_mito)\n",
    "    plt.colorbar()\n",
    "    plt.savefig(os.path.join(root_path, title), bbox_inches = 'tight')\n"
   ]
  },
  {
   "cell_type": "markdown",
   "metadata": {},
   "source": [
    "# need to write smthn to save out kymographs with unique titles"
   ]
  }
 ],
 "metadata": {
  "kernelspec": {
   "display_name": "Python 3",
   "language": "python",
   "name": "python3"
  },
  "language_info": {
   "codemirror_mode": {
    "name": "ipython",
    "version": 3
   },
   "file_extension": ".py",
   "mimetype": "text/x-python",
   "name": "python",
   "nbconvert_exporter": "python",
   "pygments_lexer": "ipython3",
   "version": "3.7.6"
  }
 },
 "nbformat": 4,
 "nbformat_minor": 4
}
