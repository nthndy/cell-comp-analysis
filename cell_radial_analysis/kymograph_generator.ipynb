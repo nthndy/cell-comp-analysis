{
 "cells": [
  {
   "cell_type": "markdown",
   "metadata": {},
   "source": [
    "# Kymograph maker\n",
    "This notebook will find competitive cellular \"events\" in the simplest definition (i.e. a loser cell apoptosis) and return information about the spatiotemporal distrubition of counterpart competitive events (i.e. winner cell mitosis) in the form of a kymograph.\n",
    "\n",
    "kymograph:\n",
    "/ˈkʌɪmə(ʊ)ɡrɑːf/\n",
    "_noun_ \n",
    "a graphical representation of spatial positions (of wild-type cells or mitoses) over time in which a spatial axis represents time, focused around an apoptotic event."
   ]
  },
  {
   "cell_type": "markdown",
   "metadata": {},
   "source": [
    "Contents:\n",
    "\n",
    "- Load modules\n",
    "- Set experiment data path\n",
    "- Load tracking data\n",
    "- Isolate tracks of interest (target track)\n",
    "- Iterate over tracks, generating and saving kymographs\n",
    "\n",
    "To-do:\n",
    "\n",
    "- [x] Rewrite this to iterate over many target tracks\n",
    "- [x] Insert filter for short scr_tracks\n",
    "- [ ] Think about saving out as something other than .npy"
   ]
  },
  {
   "cell_type": "code",
   "execution_count": null,
   "metadata": {},
   "outputs": [],
   "source": [
    "import napari\n",
    "import btrack\n",
    "import numpy as np\n",
    "from skimage.io import imread\n",
    "import os\n",
    "print(\"Napari version no.:\", napari.__version__)\n",
    "print(\"btrack version no.:\", btrack.__version__)\n",
    "from btrack.utils import import_HDF, import_JSON, tracks_to_napari\n",
    "from tqdm.notebook import tnrange, tqdm\n",
    "import matplotlib.pyplot as plt\n",
    "\n",
    "def find_apoptosis_time(target_track, index): ### if index is set to True then the index of the apoptotic time (wrt target_track) is returned\n",
    "    for i, j in enumerate(target_track.label):\n",
    "        if j == 'APOPTOSIS' and target_track.label[i+1] == 'APOPTOSIS' and target_track.label[i+2] == 'APOPTOSIS': # and target_track.label[i+3] =='APOPTOSIS' and target_track.label[i+4] =='APOPTOSIS':\n",
    "            apop_index = i\n",
    "            break\n",
    "    apop_time = target_track.t[apop_index]\n",
    "    if index == True: \n",
    "        return apop_index\n",
    "    else: \n",
    "        return apop_time"
   ]
  },
  {
   "cell_type": "markdown",
   "metadata": {},
   "source": [
    "### Set experiment data path "
   ]
  },
  {
   "cell_type": "code",
   "execution_count": null,
   "metadata": {
    "scrolled": false
   },
   "outputs": [],
   "source": [
    "# print(\"Input experiment number\")\n",
    "# experiment_no = input()\n",
    "# root_path = os.path.join('/home/nathan/data/kraken/h2b/giulia/', experiment_no)\n",
    "root_path = '/home/nathan/data/kraken/h2b/giulia/GV0807'  ## this overwrites input option for ease \n",
    "# gfp_path = os.path.join(root_path, 'Pos3/stacks/gfp.tif')\n",
    "# rfp_path = os.path.join(root_path, 'Pos3/stacks/rfp.tif')\n",
    "# bf_path = os.path.join(root_path, 'Pos3/stacks/bf.tif')\n",
    "tracks_path = os.path.join(root_path, 'Pos3/Pos3_aligned/HDF/segmented.hdf5')"
   ]
  },
  {
   "cell_type": "markdown",
   "metadata": {},
   "source": [
    "### Load tracking data"
   ]
  },
  {
   "cell_type": "code",
   "execution_count": null,
   "metadata": {},
   "outputs": [],
   "source": [
    "with btrack.dataio.HDF5FileHandler(tracks_path, 'r', obj_type = \"obj_type_1\") as hdf:\n",
    "    wt_tracks = hdf.tracks\n",
    "with btrack.dataio.HDF5FileHandler(tracks_path, 'r', obj_type = \"obj_type_2\") as hdf:\n",
    "    scr_tracks = hdf.tracks\n",
    "print(\"Tracks loaded\")"
   ]
  },
  {
   "cell_type": "code",
   "execution_count": null,
   "metadata": {},
   "outputs": [],
   "source": [
    "scr_apops = [scr_track for scr_track in scr_tracks if scr_track.fate.name == 'APOPTOSIS']"
   ]
  },
  {
   "cell_type": "markdown",
   "metadata": {},
   "source": [
    "### Set kymograph parameters"
   ]
  },
  {
   "cell_type": "code",
   "execution_count": null,
   "metadata": {},
   "outputs": [],
   "source": [
    "radius = 400\n",
    "delta_t = 400\n",
    "num_radial_bins = 20\n",
    "radial_bin = radius / num_radial_bins\n",
    "num_temporal_bins = 20\n",
    "temporal_bin = delta_t / num_temporal_bins\n",
    "print(\"size of temporal and radial bins:\",temporal_bin,\",\", radial_bin)"
   ]
  },
  {
   "cell_type": "markdown",
   "metadata": {},
   "source": [
    "### Calculate kymographs as npy arrays"
   ]
  },
  {
   "cell_type": "code",
   "execution_count": null,
   "metadata": {
    "scrolled": false
   },
   "outputs": [],
   "source": [
    "max_N_wt = 100\n",
    "for scr_track in tqdm(scr_apops):\n",
    "    if len(scr_track) <= 10: ### arbitrary length of scr track needed\n",
    "        print(\"Scr_ID\", scr_track.ID, \"skipped\")\n",
    "        continue\n",
    "    if scr_track.ID in [1, 3, 4, 6, 10, 11, 16, 17, 18, 29, 47, 50, 54, 56, 58, 65]: ### scr-tracks already analysed\n",
    "        print(\"Scr_ID\", scr_track.ID, \"skipped\")\n",
    "        continue    \n",
    "    print(\"Scr_ID:\", scr_track.ID)\n",
    "    target_track = scr_track \n",
    "    apop_index = find_apoptosis_time(target_track, index = True)\n",
    "    apop_time = find_apoptosis_time(target_track, index = False) \n",
    "    ## instead of going over all tracks, could go over all tracks that are definitely in_frame (using func) or in zone \n",
    "    ## set empty data variables to store \n",
    "    num_wt, num_wt_mito = np.zeros((num_radial_bins, num_temporal_bins)), np.zeros((num_radial_bins, num_temporal_bins))\n",
    "    wt_IDs, wt_mito_IDs = np.zeros((num_radial_bins, num_temporal_bins, max_N_wt)), np.zeros((num_radial_bins, num_temporal_bins, max_N_wt))\n",
    "    ## load one wt_track\n",
    "    for j, wt_track in enumerate(tqdm(wt_tracks)):\n",
    "        print(\"ID:\", wt_track.ID)\n",
    "        ## load first distance/radial bin\n",
    "        for n in range(num_radial_bins):\n",
    "            #print(\"radial\", range(int(radial_bin * n), int(radial_bin * (n+1))))\n",
    "            ## load first temporal bin, over negative and positive range\n",
    "            for l, m in enumerate(range(int(-num_temporal_bins/2), int(num_temporal_bins/2))): ## l introduced to iterate through pos integers for data storage\n",
    "                #print(\"time\",range(int(apop_time+temporal_bin*m),int(apop_time+temporal_bin*(m+1))))\n",
    "                ## load first timepoint of wt_track\n",
    "                for i in range(len(wt_track)): \n",
    "                    ## if FIRST time point is in temporal bin (centered around apop_time)\n",
    "                    if wt_track.t[i] in (range(int(apop_time+temporal_bin*m),int(apop_time+temporal_bin*(m+1)))):\n",
    "                        ## calculate if within euclidean distance: if min of radial distance bin sqrd < (wt_track.x (at first time point) - target_track.x (at apop_time)) both squared + corresponding for yboth squared < max_dist squared\n",
    "                        if ((radial_bin * n)**2) <= (wt_track.x[i] - target_track.x[apop_index])**2 + (wt_track.y[i] - target_track.y[apop_index])**2 < ((radial_bin * (n+1))**2):\n",
    "\n",
    "                            num_wt[n,l] += 1 #str(wt_track.ID)\n",
    "                            print(\"wt_track\", wt_track.ID)\n",
    "                            print(\"radial\", range(int(radial_bin * n), int(radial_bin * (n+1))))\n",
    "                            print(\"time\",range(int(apop_time+temporal_bin*m),int(apop_time+temporal_bin*(m+1))))\n",
    "\n",
    "                            ## storing ID in 3D ndarray\n",
    "                            for p in range(len(wt_IDs[n,l,:])):\n",
    "                                if wt_IDs[n,l,p] == 0:          ### if WT_ID hasnt been stored in array at p YET, store there by overwriting 0/empty entry\n",
    "                                    wt_IDs[n,l,p] = wt_track.ID\n",
    "                                    break                        \n",
    "\n",
    "                            #print(\"WT ID:\", wt_track.ID, \"time:\", wt_track.t[i], \"radial bin:\", (n*radial_bin),\"-\", ((n+1)*radial_bin), \"temporal bin:\", (temporal_bin * m),\"-\", (temporal_bin * (m+1)),\"i,m,n:\", i,m,n)\n",
    "                            if wt_track.fate.name == \"DIVIDE\" and \"'METAPHASE', 'METAPHASE',\" in str(wt_track.label[int(apop_time+(temporal_bin*m))-wt_track.t[0]:int(apop_time+(temporal_bin*(m+1)))-wt_track.t[0]]): ##explainer: this double condition states that if wt_track ends in mitosis but also has THREE (?) sequential metaphase classifications within the time window of that temporal bin then the condition is met\n",
    "                                num_wt_mito[n,l] += 1 #str(wt_track.ID)\n",
    "                                print(\"wt_track mitosis\", wt_track.ID)\n",
    "                                print(\"radial\", range(int(radial_bin * n), int(radial_bin * (n+1))))\n",
    "                                print(\"time\",range(int(apop_time+temporal_bin*m),int(apop_time+temporal_bin*(m+1))))\n",
    "\n",
    "                                ## storing ID in 3D ndarray\n",
    "                                for p in range(len(wt_mito_IDs[n,l,:])):\n",
    "                                    if wt_mito_IDs[n,l,p] == 0:\n",
    "                                        wt_mito_IDs[n,l,p] = wt_track.ID\n",
    "                                        break   \n",
    "\n",
    "\n",
    "                                #print(\"MITO ID:\", wt\\_track.ID, \"time:\", wt_track.t[i], \"radial bin:\", (n*radial_bin),\"-\", ((n+1)*radial_bin), \"temporal bin:\", (temporal_bin * m),\"-\", (temporal_bin * (m+1)),\"i,m,n:\", i,m,n)\n",
    "                            break ## if track is in bin, break loop iterating over all track positions to skip to next bin ##CHECK THIS\n",
    "\n",
    "    scr_ID_fn = 'Scr_'+str(target_track.ID)\n",
    "    fn = os.path.join(root_path, 'analysis/raw_numbers/', scr_ID_fn)\n",
    "\n",
    "    num_wt_fn = fn + '_num_wt'\n",
    "    num_wt_mito_fn = fn + '_num_wt_mito'\n",
    "    wt_IDs_fn = fn + '_wt_IDs'\n",
    "    wt_mito_IDs_fn = fn + '_wt_mito_IDs'\n",
    "\n",
    "    np.save(num_wt_fn, num_wt)\n",
    "    np.save(num_wt_mito_fn, num_wt_mito)\n",
    "    np.save(wt_IDs_fn, wt_IDs)\n",
    "    np.save(wt_mito_IDs_fn, wt_mito_IDs)"
   ]
  }
 ],
 "metadata": {
  "kernelspec": {
   "display_name": "Python 3",
   "language": "python",
   "name": "python3"
  },
  "language_info": {
   "codemirror_mode": {
    "name": "ipython",
    "version": 3
   },
   "file_extension": ".py",
   "mimetype": "text/x-python",
   "name": "python",
   "nbconvert_exporter": "python",
   "pygments_lexer": "ipython3",
   "version": "3.7.6"
  }
 },
 "nbformat": 4,
 "nbformat_minor": 4
}
