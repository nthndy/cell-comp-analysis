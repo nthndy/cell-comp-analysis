{
 "cells": [
  {
   "cell_type": "code",
   "execution_count": null,
   "metadata": {},
   "outputs": [],
   "source": [
    "import arboretum\n",
    "\n",
    "from skimage import io\n",
    "\n",
    "\n",
    "#seg = io.imread('/home/nathan/data/fucci/other_mask_data/segmented_v5.tif')\n",
    "\n",
    "#arboretum.run(segmentation=seg)\n",
    "\n",
    "\n",
    "arboretum.run()\n"
   ]
  }
 ],
 "metadata": {
  "kernelspec": {
   "display_name": "btrack",
   "language": "python",
   "name": "btrack"
  },
  "language_info": {
   "codemirror_mode": {
    "name": "ipython",
    "version": 3
   },
   "file_extension": ".py",
   "mimetype": "text/x-python",
   "name": "python",
   "nbconvert_exporter": "python",
   "pygments_lexer": "ipython3",
   "version": "3.7.6"
  }
 },
 "nbformat": 4,
 "nbformat_minor": 4
}
