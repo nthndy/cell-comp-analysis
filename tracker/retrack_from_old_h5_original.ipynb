{
 "cells": [
  {
   "cell_type": "markdown",
   "metadata": {},
   "source": [
    "# code to retrack data from old btrack versions"
   ]
  },
  {
   "cell_type": "markdown",
   "metadata": {},
   "source": [
    "First, make sure you have the latest version of btrack installed:\n",
    "\n",
    "```sh\n",
    "pip install --upgrade -e git+git://github.com/quantumjot/BayesianTracker.git\n",
    "```"
   ]
  },
  {
   "cell_type": "code",
   "execution_count": 1,
   "metadata": {},
   "outputs": [],
   "source": [
    "import os\n",
    "import napari\n",
    "import btrack\n",
    "import numpy as np"
   ]
  },
  {
   "cell_type": "code",
   "execution_count": 2,
   "metadata": {},
   "outputs": [],
   "source": [
    "import glob"
   ]
  },
  {
   "cell_type": "code",
   "execution_count": 3,
   "metadata": {},
   "outputs": [
    {
     "data": {
      "text/plain": [
       "['/run/user/1000/gvfs/smb-share:server=lowe-sn00.biochem.ucl.ac.uk,share=lowegrp/Data/Giulia/GV0806/Pos6/Pos6_aligned/HDF/retracked_new.h5',\n",
       " '/run/user/1000/gvfs/smb-share:server=lowe-sn00.biochem.ucl.ac.uk,share=lowegrp/Data/Giulia/GV0806/Pos6/Pos6_aligned/HDF/segmented_old.hdf5',\n",
       " '/run/user/1000/gvfs/smb-share:server=lowe-sn00.biochem.ucl.ac.uk,share=lowegrp/Data/Giulia/GV0806/Pos6/Pos6_aligned/HDF/segmented.h5']"
      ]
     },
     "execution_count": 3,
     "metadata": {},
     "output_type": "execute_result"
    }
   ],
   "source": [
    "glob.glob('/run/user/1000/gvfs/smb-share:server=lowe-sn00.biochem.ucl.ac.uk,share=lowegrp/Data/Giulia/GV0806/Pos6/Pos6_aligned/HDF/*')"
   ]
  },
  {
   "cell_type": "code",
   "execution_count": 8,
   "metadata": {},
   "outputs": [],
   "source": [
    "PATH = \"/run/user/1000/gvfs/smb-share:server=lowe-sn00.biochem.ucl.ac.uk,share=lowegrp/Data/Giulia/GV0806/Pos6/Pos6_aligned/HDF\"\n",
    "OLDFILE = os.path.join(PATH, 'segmented_old.hdf5')\n",
    "NEWFILE = os.path.join(PATH, 'retracked_new_2.h5')"
   ]
  },
  {
   "cell_type": "code",
   "execution_count": 5,
   "metadata": {},
   "outputs": [],
   "source": [
    "obj_types = ['obj_type_1', 'obj_type_2']\n",
    "obj_models = [\n",
    "    'MDCK_config_new.json',\n",
    "    'MDCK_config_new.json'\n",
    "]"
   ]
  },
  {
   "cell_type": "markdown",
   "metadata": {},
   "source": [
    "### grab the segmentation"
   ]
  },
  {
   "cell_type": "code",
   "execution_count": 6,
   "metadata": {},
   "outputs": [
    {
     "name": "stderr",
     "output_type": "stream",
     "text": [
      "[INFO][2021/07/30 07:12:35 PM] Opening HDF file: /run/user/1000/gvfs/smb-share:server=lowe-sn00.biochem.ucl.ac.uk,share=lowegrp/Data/Giulia/GV0806/Pos6/Pos6_aligned/HDF/segmented_old.hdf5...\n",
      "[INFO][2021/07/30 07:12:35 PM] Loading segmentation\n",
      "[INFO][2021/07/30 07:12:42 PM] Closing HDF file: /run/user/1000/gvfs/smb-share:server=lowe-sn00.biochem.ucl.ac.uk,share=lowegrp/Data/Giulia/GV0806/Pos6/Pos6_aligned/HDF/segmented_old.hdf5\n"
     ]
    }
   ],
   "source": [
    "with btrack.dataio.HDF5FileHandler(OLDFILE, 'r') as hdf:\n",
    "    segmentation = hdf.segmentation"
   ]
  },
  {
   "cell_type": "markdown",
   "metadata": {},
   "source": [
    "### iterate over the cell types, reorganise the data and retrack, writing out the files"
   ]
  },
  {
   "cell_type": "code",
   "execution_count": null,
   "metadata": {
    "scrolled": true
   },
   "outputs": [
    {
     "name": "stderr",
     "output_type": "stream",
     "text": [
      "[INFO][2021/07/30 07:18:17 PM] Opening HDF file: /run/user/1000/gvfs/smb-share:server=lowe-sn00.biochem.ucl.ac.uk,share=lowegrp/Data/Giulia/GV0806/Pos6/Pos6_aligned/HDF/segmented_old.hdf5...\n",
      "[INFO][2021/07/30 07:18:17 PM] Loading objects/obj_type_1 (95943, 5) (95943 filtered: None)\n",
      "[INFO][2021/07/30 07:18:17 PM] Closing HDF file: /run/user/1000/gvfs/smb-share:server=lowe-sn00.biochem.ucl.ac.uk,share=lowegrp/Data/Giulia/GV0806/Pos6/Pos6_aligned/HDF/segmented_old.hdf5\n",
      "[INFO][2021/07/30 07:18:18 PM] Loaded btrack: /home/nathan/anaconda3/envs/napari/lib/python3.7/site-packages/btrack/libs/libtracker.so\n",
      "[INFO][2021/07/30 07:18:18 PM] btrack (v0.4.0) library imported\n",
      "[INFO][2021/07/30 07:18:18 PM] Setting max XYZ search radius to: 100\n",
      "[INFO][2021/07/30 07:18:18 PM] Starting BayesianTracker session\n",
      "[INFO][2021/07/30 07:18:18 PM] Loading configuration file: /run/user/1000/gvfs/smb-share:server=lowe-sn00.biochem.ucl.ac.uk,share=lowegrp/Data/Giulia/Bayesian_config/MDCK_config_new.json\n",
      "[INFO][2021/07/30 07:18:18 PM] Loading motion model: b'MDCK_motion_Kristina'\n",
      "[INFO][2021/07/30 07:18:18 PM] Setting max XYZ search radius to: 50\n",
      "[INFO][2021/07/30 07:18:18 PM] Objects are of type: <class 'list'>\n",
      "[INFO][2021/07/30 07:18:18 PM] Set volume to ((0, 1600), (0, 1200), (-100000.0, 100000.0))\n",
      "[INFO][2021/07/30 07:18:18 PM] Starting tracking... \n",
      "[INFO][2021/07/30 07:18:18 PM] Tracking objects in frames 0 to 99 (of 1191)...\n",
      "[INFO][2021/07/30 07:18:18 PM]  - Timing (Bayesian updates: 0.01ms, Linking: 0.03ms)\n",
      "[INFO][2021/07/30 07:18:18 PM]  - Probabilities (Link: 1.00000, Lost: 1.00000)\n",
      "[INFO][2021/07/30 07:18:18 PM]  - Stats (Active: 9, Lost: 55, Conflicts resolved: 30)\n",
      "[INFO][2021/07/30 07:18:18 PM] Tracking objects in frames 100 to 199 (of 1191)...\n",
      "[INFO][2021/07/30 07:18:18 PM]  - Timing (Bayesian updates: 0.05ms, Linking: 0.06ms)\n",
      "[INFO][2021/07/30 07:18:18 PM]  - Probabilities (Link: 0.99992, Lost: 1.00000)\n",
      "[INFO][2021/07/30 07:18:18 PM]  - Stats (Active: 16, Lost: 212, Conflicts resolved: 49)\n",
      "[INFO][2021/07/30 07:18:18 PM] Tracking objects in frames 200 to 299 (of 1191)...\n",
      "[INFO][2021/07/30 07:18:18 PM]  - Timing (Bayesian updates: 0.08ms, Linking: 0.10ms)\n",
      "[INFO][2021/07/30 07:18:18 PM]  - Probabilities (Link: 0.99999, Lost: 1.00000)\n",
      "[INFO][2021/07/30 07:18:18 PM]  - Stats (Active: 17, Lost: 414, Conflicts resolved: 59)\n",
      "[INFO][2021/07/30 07:18:18 PM] Tracking objects in frames 300 to 399 (of 1191)...\n",
      "[INFO][2021/07/30 07:18:18 PM]  - Timing (Bayesian updates: 0.05ms, Linking: 0.05ms)\n",
      "[INFO][2021/07/30 07:18:18 PM]  - Probabilities (Link: 1.00000, Lost: 1.00000)\n",
      "[INFO][2021/07/30 07:18:18 PM]  - Stats (Active: 17, Lost: 506, Conflicts resolved: 74)\n",
      "[INFO][2021/07/30 07:18:18 PM] Tracking objects in frames 400 to 499 (of 1191)...\n",
      "[INFO][2021/07/30 07:18:18 PM]  - Timing (Bayesian updates: 0.17ms, Linking: 0.16ms)\n",
      "[INFO][2021/07/30 07:18:18 PM]  - Probabilities (Link: 1.00000, Lost: 1.00000)\n",
      "[INFO][2021/07/30 07:18:18 PM]  - Stats (Active: 33, Lost: 641, Conflicts resolved: 118)\n",
      "[INFO][2021/07/30 07:18:18 PM] Tracking objects in frames 500 to 599 (of 1191)...\n",
      "[INFO][2021/07/30 07:18:18 PM]  - Timing (Bayesian updates: 0.36ms, Linking: 0.18ms)\n",
      "[INFO][2021/07/30 07:18:18 PM]  - Probabilities (Link: 1.00000, Lost: 1.00000)\n",
      "[INFO][2021/07/30 07:18:18 PM]  - Stats (Active: 41, Lost: 782, Conflicts resolved: 184)\n",
      "[INFO][2021/07/30 07:18:18 PM] Tracking objects in frames 600 to 699 (of 1191)...\n",
      "[INFO][2021/07/30 07:18:18 PM]  - Timing (Bayesian updates: 0.58ms, Linking: 0.17ms)\n",
      "[INFO][2021/07/30 07:18:18 PM]  - Probabilities (Link: 0.99999, Lost: 1.00000)\n",
      "[INFO][2021/07/30 07:18:18 PM]  - Stats (Active: 55, Lost: 968, Conflicts resolved: 283)\n",
      "[INFO][2021/07/30 07:18:18 PM] Tracking objects in frames 700 to 799 (of 1191)...\n",
      "[INFO][2021/07/30 07:18:18 PM]  - Timing (Bayesian updates: 1.25ms, Linking: 0.23ms)\n",
      "[INFO][2021/07/30 07:18:18 PM]  - Probabilities (Link: 1.00000, Lost: 1.00000)\n",
      "[INFO][2021/07/30 07:18:18 PM]  - Stats (Active: 81, Lost: 1297, Conflicts resolved: 409)\n",
      "[INFO][2021/07/30 07:18:18 PM] Tracking objects in frames 800 to 899 (of 1191)...\n",
      "[INFO][2021/07/30 07:18:19 PM]  - Timing (Bayesian updates: 3.39ms, Linking: 0.38ms)\n",
      "[INFO][2021/07/30 07:18:19 PM]  - Probabilities (Link: 1.00000, Lost: 0.99997)\n",
      "[INFO][2021/07/30 07:18:19 PM]  - Stats (Active: 128, Lost: 1600, Conflicts resolved: 616)\n",
      "[INFO][2021/07/30 07:18:19 PM] Tracking objects in frames 900 to 999 (of 1191)...\n",
      "[INFO][2021/07/30 07:18:19 PM]  - Timing (Bayesian updates: 4.86ms, Linking: 0.49ms)\n",
      "[INFO][2021/07/30 07:18:19 PM]  - Probabilities (Link: 1.00000, Lost: 0.96312)\n",
      "[INFO][2021/07/30 07:18:19 PM]  - Stats (Active: 145, Lost: 1775, Conflicts resolved: 753)\n",
      "[INFO][2021/07/30 07:18:19 PM] Tracking objects in frames 1000 to 1099 (of 1191)...\n",
      "[INFO][2021/07/30 07:18:20 PM]  - Timing (Bayesian updates: 6.27ms, Linking: 0.58ms)\n",
      "[INFO][2021/07/30 07:18:20 PM]  - Probabilities (Link: 1.00000, Lost: 0.99153)\n",
      "[INFO][2021/07/30 07:18:20 PM]  - Stats (Active: 163, Lost: 2103, Conflicts resolved: 1044)\n",
      "[INFO][2021/07/30 07:18:20 PM] Tracking objects in frames 1100 to 1191 (of 1191)...\n",
      "[INFO][2021/07/30 07:18:21 PM]  - Timing (Bayesian updates: 7.69ms, Linking: 0.69ms)\n",
      "[INFO][2021/07/30 07:18:21 PM]  - Probabilities (Link: 1.00000, Lost: 1.00000)\n",
      "[INFO][2021/07/30 07:18:21 PM] SUCCESS.\n",
      "[INFO][2021/07/30 07:18:21 PM]  - Found 13988 tracks in 1191 frames (in 0.0s)\n",
      "[INFO][2021/07/30 07:18:21 PM]  - Inserted 674 dummy objects to fill tracking gaps\n",
      "[INFO][2021/07/30 07:18:21 PM] Loading hypothesis model: MDCK_hypothesis_Kristina\n",
      "[INFO][2021/07/30 07:18:21 PM] Calculating hypotheses (relax: False)...\n",
      "[INFO][2021/07/30 07:18:21 PM] Setting up constraints matrix for global optimisation...\n",
      "[INFO][2021/07/30 07:18:53 PM] Optimizing...\n",
      "[INFO][2021/07/30 07:18:55 PM] Optimization complete. (Solution: optimal)\n",
      "[INFO][2021/07/30 07:18:56 PM]  - Fates.FALSE_POSITIVE: 216 (of 13988)\n",
      "[INFO][2021/07/30 07:18:56 PM]  - Fates.LINK: 66 (of 58757)\n",
      "[INFO][2021/07/30 07:18:56 PM]  - Fates.DIVIDE: 136 (of 116611)\n",
      "[INFO][2021/07/30 07:18:56 PM]  - Fates.APOPTOSIS: 5 (of 25)\n",
      "[INFO][2021/07/30 07:18:56 PM]  - Fates.INITIALIZE_BORDER: 13427 (of 13484)\n",
      "[INFO][2021/07/30 07:18:56 PM]  - Fates.INITIALIZE_FRONT: 7 (of 8)\n",
      "[INFO][2021/07/30 07:18:56 PM]  - Fates.TERMINATE_BORDER: 13416 (of 13464)\n",
      "[INFO][2021/07/30 07:18:56 PM]  - Fates.TERMINATE_BACK: 149 (of 177)\n",
      "[INFO][2021/07/30 07:18:56 PM]  - TOTAL: 216514 hypotheses\n",
      "[INFO][2021/07/30 07:18:56 PM] Completed optimization with 13922 tracks\n",
      "[INFO][2021/07/30 07:18:56 PM] Opening HDF file: /run/user/1000/gvfs/smb-share:server=lowe-sn00.biochem.ucl.ac.uk,share=lowegrp/Data/Giulia/GV0806/Pos6/Pos6_aligned/HDF/retracked_new_2.h5...\n",
      "[INFO][2021/07/30 07:18:56 PM] Writing objects/obj_type_1\n",
      "[INFO][2021/07/30 07:18:56 PM] Writing labels/obj_type_1\n",
      "[INFO][2021/07/30 07:18:57 PM] Writing tracks/obj_type_1\n",
      "[INFO][2021/07/30 07:18:57 PM] Writing dummies/obj_type_1\n",
      "[INFO][2021/07/30 07:18:58 PM] Writing LBEP/obj_type_1\n",
      "[INFO][2021/07/30 07:18:58 PM] Writing fates/obj_type_1\n",
      "[INFO][2021/07/30 07:18:58 PM] Closing HDF file: /run/user/1000/gvfs/smb-share:server=lowe-sn00.biochem.ucl.ac.uk,share=lowegrp/Data/Giulia/GV0806/Pos6/Pos6_aligned/HDF/retracked_new_2.h5\n",
      "[INFO][2021/07/30 07:18:58 PM] Ending BayesianTracker session\n",
      "[INFO][2021/07/30 07:18:58 PM] Opening HDF file: /run/user/1000/gvfs/smb-share:server=lowe-sn00.biochem.ucl.ac.uk,share=lowegrp/Data/Giulia/GV0806/Pos6/Pos6_aligned/HDF/segmented_old.hdf5...\n",
      "[INFO][2021/07/30 07:18:59 PM] Loading objects/obj_type_2 (673442, 5) (673442 filtered: None)\n",
      "[INFO][2021/07/30 07:19:03 PM] Closing HDF file: /run/user/1000/gvfs/smb-share:server=lowe-sn00.biochem.ucl.ac.uk,share=lowegrp/Data/Giulia/GV0806/Pos6/Pos6_aligned/HDF/segmented_old.hdf5\n",
      "[INFO][2021/07/30 07:19:05 PM] Loaded btrack: /home/nathan/anaconda3/envs/napari/lib/python3.7/site-packages/btrack/libs/libtracker.so\n",
      "[INFO][2021/07/30 07:19:05 PM] btrack (v0.4.0) library imported\n",
      "[INFO][2021/07/30 07:19:05 PM] Setting max XYZ search radius to: 100\n",
      "[INFO][2021/07/30 07:19:05 PM] Starting BayesianTracker session\n",
      "[INFO][2021/07/30 07:19:05 PM] Loading configuration file: /run/user/1000/gvfs/smb-share:server=lowe-sn00.biochem.ucl.ac.uk,share=lowegrp/Data/Giulia/Bayesian_config/MDCK_config_new.json\n"
     ]
    },
    {
     "name": "stderr",
     "output_type": "stream",
     "text": [
      "[INFO][2021/07/30 07:19:05 PM] Loading motion model: b'MDCK_motion_Kristina'\n",
      "[INFO][2021/07/30 07:19:05 PM] Setting max XYZ search radius to: 50\n",
      "[INFO][2021/07/30 07:19:05 PM] Objects are of type: <class 'list'>\n",
      "[INFO][2021/07/30 07:19:05 PM] Set volume to ((0, 1600), (0, 1200), (-100000.0, 100000.0))\n",
      "[INFO][2021/07/30 07:19:05 PM] Starting tracking... \n",
      "[INFO][2021/07/30 07:19:06 PM] Tracking objects in frames 0 to 99 (of 1191)...\n",
      "[INFO][2021/07/30 07:19:06 PM]  - Timing (Bayesian updates: 1.66ms, Linking: 0.34ms)\n",
      "[INFO][2021/07/30 07:19:06 PM]  - Probabilities (Link: 1.00000, Lost: 1.00000)\n",
      "[INFO][2021/07/30 07:19:06 PM]  - Stats (Active: 79, Lost: 444, Conflicts resolved: 377)\n",
      "[INFO][2021/07/30 07:19:06 PM] Tracking objects in frames 100 to 199 (of 1191)...\n",
      "[INFO][2021/07/30 07:19:06 PM]  - Timing (Bayesian updates: 2.12ms, Linking: 0.30ms)\n",
      "[INFO][2021/07/30 07:19:06 PM]  - Probabilities (Link: 1.00000, Lost: 0.99229)\n",
      "[INFO][2021/07/30 07:19:06 PM]  - Stats (Active: 105, Lost: 808, Conflicts resolved: 783)\n",
      "[INFO][2021/07/30 07:19:06 PM] Tracking objects in frames 200 to 299 (of 1191)...\n",
      "[INFO][2021/07/30 07:19:06 PM]  - Timing (Bayesian updates: 4.53ms, Linking: 0.45ms)\n",
      "[INFO][2021/07/30 07:19:06 PM]  - Probabilities (Link: 0.99999, Lost: 1.00000)\n",
      "[INFO][2021/07/30 07:19:06 PM]  - Stats (Active: 144, Lost: 1377, Conflicts resolved: 1332)\n",
      "[INFO][2021/07/30 07:19:06 PM] Tracking objects in frames 300 to 399 (of 1191)...\n",
      "[INFO][2021/07/30 07:19:07 PM]  - Timing (Bayesian updates: 7.57ms, Linking: 0.59ms)\n",
      "[INFO][2021/07/30 07:19:07 PM]  - Probabilities (Link: 1.00000, Lost: 0.90347)\n",
      "[INFO][2021/07/30 07:19:07 PM]  - Stats (Active: 173, Lost: 2077, Conflicts resolved: 2020)\n",
      "[INFO][2021/07/30 07:19:07 PM] Tracking objects in frames 400 to 499 (of 1191)...\n",
      "[INFO][2021/07/30 07:19:09 PM]  - Timing (Bayesian updates: 17.63ms, Linking: 1.09ms)\n",
      "[INFO][2021/07/30 07:19:09 PM]  - Probabilities (Link: 1.00000, Lost: 1.00000)\n",
      "[INFO][2021/07/30 07:19:09 PM]  - Stats (Active: 250, Lost: 3098, Conflicts resolved: 3005)\n",
      "[INFO][2021/07/30 07:19:09 PM] Tracking objects in frames 500 to 599 (of 1191)...\n",
      "[INFO][2021/07/30 07:19:12 PM]  - Timing (Bayesian updates: 45.94ms, Linking: 2.13ms)\n",
      "[INFO][2021/07/30 07:19:12 PM]  - Probabilities (Link: 1.00000, Lost: 0.99874)\n",
      "[INFO][2021/07/30 07:19:12 PM]  - Stats (Active: 338, Lost: 4010, Conflicts resolved: 4124)\n",
      "[INFO][2021/07/30 07:19:12 PM] Tracking objects in frames 600 to 699 (of 1191)...\n",
      "[INFO][2021/07/30 07:19:20 PM]  - Timing (Bayesian updates: 98.48ms, Linking: 2.79ms)\n",
      "[INFO][2021/07/30 07:19:20 PM]  - Probabilities (Link: 1.00000, Lost: 1.00000)\n",
      "[INFO][2021/07/30 07:19:20 PM]  - Stats (Active: 434, Lost: 4922, Conflicts resolved: 5134)\n",
      "[INFO][2021/07/30 07:19:20 PM] Tracking objects in frames 700 to 799 (of 1191)...\n",
      "[INFO][2021/07/30 07:19:35 PM]  - Timing (Bayesian updates: 200.54ms, Linking: 3.66ms)\n",
      "[INFO][2021/07/30 07:19:35 PM]  - Probabilities (Link: 1.00000, Lost: 1.00000)\n",
      "[INFO][2021/07/30 07:19:35 PM]  - Stats (Active: 594, Lost: 6001, Conflicts resolved: 6375)\n",
      "[INFO][2021/07/30 07:19:35 PM] Tracking objects in frames 800 to 899 (of 1191)...\n",
      "[INFO][2021/07/30 07:20:05 PM]  - Timing (Bayesian updates: 351.40ms, Linking: 4.95ms)\n",
      "[INFO][2021/07/30 07:20:05 PM]  - Probabilities (Link: 1.00000, Lost: 1.00000)\n",
      "[INFO][2021/07/30 07:20:05 PM]  - Stats (Active: 736, Lost: 7100, Conflicts resolved: 7711)\n",
      "[INFO][2021/07/30 07:20:05 PM] Tracking objects in frames 900 to 999 (of 1191)...\n",
      "[INFO][2021/07/30 07:20:53 PM]  - Timing (Bayesian updates: 555.53ms, Linking: 6.48ms)\n",
      "[INFO][2021/07/30 07:20:53 PM]  - Probabilities (Link: 1.00000, Lost: 1.00000)\n",
      "[INFO][2021/07/30 07:20:53 PM]  - Stats (Active: 854, Lost: 8240, Conflicts resolved: 9375)\n",
      "[INFO][2021/07/30 07:20:53 PM] Tracking objects in frames 1000 to 1099 (of 1191)...\n",
      "[INFO][2021/07/30 07:22:02 PM]  - Timing (Bayesian updates: 851.52ms, Linking: 6.93ms)\n",
      "[INFO][2021/07/30 07:22:02 PM]  - Probabilities (Link: 1.00000, Lost: 1.00000)\n",
      "[INFO][2021/07/30 07:22:02 PM]  - Stats (Active: 989, Lost: 9658, Conflicts resolved: 11943)\n",
      "[INFO][2021/07/30 07:22:02 PM] Tracking objects in frames 1100 to 1191 (of 1191)...\n",
      "[INFO][2021/07/30 07:23:23 PM]  - Timing (Bayesian updates: 907.61ms, Linking: 7.65ms)\n",
      "[INFO][2021/07/30 07:23:23 PM]  - Probabilities (Link: 1.00000, Lost: 0.94863)\n",
      "[INFO][2021/07/30 07:23:23 PM] SUCCESS.\n",
      "[INFO][2021/07/30 07:23:23 PM]  - Found 155563 tracks in 1191 frames (in 0.0s)\n",
      "[INFO][2021/07/30 07:23:24 PM]  - Inserted 5446 dummy objects to fill tracking gaps\n",
      "[INFO][2021/07/30 07:23:24 PM] Loading hypothesis model: MDCK_hypothesis_Kristina\n",
      "[INFO][2021/07/30 07:23:24 PM] Calculating hypotheses (relax: False)...\n",
      "[INFO][2021/07/30 07:23:32 PM] Setting up constraints matrix for global optimisation...\n"
     ]
    }
   ],
   "source": [
    "for obj_type, obj_model in zip(obj_types, obj_models):\n",
    "\n",
    "    with btrack.dataio.HDF5FileHandler(OLDFILE, 'r', obj_type=obj_type) as hdf:\n",
    "        objects = hdf.objects\n",
    "        area = hdf._hdf['objects'][obj_type]['area'][:]\n",
    "        \n",
    "    for idx, obj in enumerate(objects):\n",
    "        obj.properties = {'area': area[idx]}\n",
    "        \n",
    "    # make a filtered list of objects for tracking\n",
    "    filtered_objects = [o for o in objects if o.properties['area']>100.]\n",
    "    \n",
    "    with btrack.BayesianTracker() as tracker:\n",
    "\n",
    "        # configure the tracker using a config file\n",
    "        tracker.configure_from_file(\n",
    "            os.path.join(\"/run/user/1000/gvfs/smb-share:server=lowe-sn00.biochem.ucl.ac.uk,share=lowegrp/Data/Giulia/Bayesian_config/\", obj_model)\n",
    "        )\n",
    "        tracker.max_search_radius = 50\n",
    "\n",
    "        # append the objects to be tracked\n",
    "        tracker.append(filtered_objects)\n",
    "\n",
    "        # set the volume\n",
    "        tracker.volume=((0, 1600), (0, 1200), (-1e5, 1e5))\n",
    "\n",
    "        # track them (in interactive mode)\n",
    "        tracker.track_interactive(step_size=100)\n",
    "\n",
    "        # generate hypotheses and run the global optimizer\n",
    "        tracker.optimize()\n",
    "\n",
    "        tracker.export(\n",
    "            NEWFILE, \n",
    "            obj_type=obj_type, \n",
    "            filter_by='area>100'\n",
    "        )\n",
    "        \n",
    "        tracks = tracker.tracks"
   ]
  },
  {
   "cell_type": "markdown",
   "metadata": {},
   "source": [
    "### finally, write the segmentation back to the file"
   ]
  },
  {
   "cell_type": "code",
   "execution_count": null,
   "metadata": {},
   "outputs": [],
   "source": [
    "with btrack.dataio.HDF5FileHandler(NEWFILE, 'a') as hdf:\n",
    "    hdf.write_segmentation(segmentation)\n",
    "    print('btrack version: ', hdf._hdf['tracks']['obj_type_1'].attrs['version'])"
   ]
  },
  {
   "cell_type": "code",
   "execution_count": null,
   "metadata": {},
   "outputs": [],
   "source": []
  },
  {
   "cell_type": "code",
   "execution_count": null,
   "metadata": {},
   "outputs": [],
   "source": [
    "objects[0]"
   ]
  },
  {
   "cell_type": "code",
   "execution_count": null,
   "metadata": {},
   "outputs": [],
   "source": []
  }
 ],
 "metadata": {
  "kernelspec": {
   "display_name": "Python [conda env:napari]",
   "language": "python",
   "name": "conda-env-napari-py"
  },
  "language_info": {
   "codemirror_mode": {
    "name": "ipython",
    "version": 3
   },
   "file_extension": ".py",
   "mimetype": "text/x-python",
   "name": "python",
   "nbconvert_exporter": "python",
   "pygments_lexer": "ipython3",
   "version": "3.7.5"
  }
 },
 "nbformat": 4,
 "nbformat_minor": 5
}
