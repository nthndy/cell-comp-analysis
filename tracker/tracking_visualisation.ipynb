{
 "cells": [
  {
   "cell_type": "code",
   "execution_count": 2,
   "metadata": {},
   "outputs": [
    {
     "name": "stderr",
     "output_type": "stream",
     "text": [
      "WARNING: Empty filename passed to function\n",
      "[INFO][2020/07/24 03:07:09 pm] Opening HDF file: /home/nathan/data/fucci/fucci1_171201/HDF/cellpose_nuclear.h5\n",
      "[INFO][2020/07/24 03:07:09 pm] Loading obj_type_1 (160396, 5) (160396 filtered: None)...\n",
      "[INFO][2020/07/24 03:07:11 pm] Loading tracks: obj_type_1...\n",
      "[WARNING][2020/07/24 03:07:11 pm] Cannot filter objects by area\n",
      "[INFO][2020/07/24 03:07:11 pm] Loading obj_type_1 (160396, 5) (160396 filtered: area>=50)...\n",
      "[INFO][2020/07/24 03:07:16 pm] Closing HDF file: /home/nathan/data/fucci/fucci1_171201/HDF/cellpose_nuclear.h5\n"
     ]
    }
   ],
   "source": [
    "import arboretum\n",
    "\n",
    "from skimage import io\n",
    "\n",
    "\n",
    "seg = io.imread('/home/nathan/data/fucci/fucci1_171201/other_mask_data/cellpose_nuclear.tif')\n",
    "\n",
    "#arboretum.run(segmentation = seg)\n",
    "\n",
    "arboretum.run()\n"
   ]
  },
  {
   "cell_type": "markdown",
   "metadata": {},
   "source": [
    "# tiff stack maker"
   ]
  },
  {
   "cell_type": "code",
   "execution_count": 8,
   "metadata": {},
   "outputs": [
    {
     "name": "stdout",
     "output_type": "stream",
     "text": [
      "['s_0.tif', 's_1.tif', 's_2.tif', 's_3.tif', 's_4.tif', 's_5.tif', 's_6.tif', 's_7.tif', 's_8.tif', 's_9.tif', 's_10.tif', 's_11.tif', 's_12.tif', 's_13.tif', 's_14.tif', 's_15.tif', 's_16.tif', 's_17.tif', 's_18.tif', 's_19.tif', 's_20.tif', 's_21.tif', 's_22.tif', 's_23.tif', 's_24.tif', 's_25.tif', 's_26.tif', 's_27.tif', 's_28.tif', 's_29.tif', 's_30.tif', 's_31.tif', 's_32.tif', 's_33.tif', 's_34.tif', 's_35.tif', 's_36.tif', 's_37.tif', 's_38.tif', 's_39.tif', 's_40.tif', 's_41.tif', 's_42.tif', 's_43.tif', 's_44.tif', 's_45.tif', 's_46.tif', 's_47.tif', 's_48.tif', 's_49.tif', 's_50.tif', 's_51.tif', 's_52.tif', 's_53.tif', 's_54.tif', 's_55.tif', 's_56.tif', 's_57.tif', 's_58.tif', 's_59.tif', 's_60.tif', 's_61.tif', 's_62.tif', 's_63.tif', 's_64.tif', 's_65.tif', 's_66.tif', 's_67.tif', 's_68.tif', 's_69.tif', 's_70.tif', 's_71.tif', 's_72.tif', 's_73.tif', 's_74.tif', 's_75.tif', 's_76.tif', 's_77.tif', 's_78.tif', 's_79.tif', 's_80.tif', 's_81.tif', 's_82.tif', 's_83.tif', 's_84.tif', 's_85.tif', 's_86.tif', 's_87.tif', 's_88.tif', 's_89.tif', 's_90.tif', 's_91.tif', 's_92.tif', 's_93.tif', 's_94.tif', 's_95.tif', 's_96.tif', 's_97.tif', 's_98.tif', 's_99.tif', 's_100.tif', 's_101.tif', 's_102.tif', 's_103.tif', 's_104.tif', 's_105.tif', 's_106.tif', 's_107.tif', 's_108.tif', 's_109.tif', 's_110.tif', 's_111.tif', 's_112.tif', 's_113.tif', 's_114.tif', 's_115.tif', 's_116.tif', 's_117.tif', 's_118.tif', 's_119.tif', 's_120.tif', 's_121.tif', 's_122.tif', 's_123.tif', 's_124.tif', 's_125.tif', 's_126.tif', 's_127.tif', 's_128.tif', 's_129.tif', 's_130.tif', 's_131.tif', 's_132.tif', 's_133.tif', 's_134.tif', 's_135.tif', 's_136.tif', 's_137.tif', 's_138.tif', 's_139.tif', 's_140.tif', 's_141.tif', 's_142.tif', 's_143.tif', 's_144.tif', 's_145.tif', 's_146.tif', 's_147.tif', 's_148.tif', 's_149.tif', 's_150.tif', 's_151.tif', 's_152.tif', 's_153.tif', 's_154.tif', 's_155.tif', 's_156.tif', 's_157.tif', 's_158.tif', 's_159.tif', 's_160.tif', 's_161.tif', 's_162.tif', 's_163.tif', 's_164.tif', 's_165.tif', 's_166.tif', 's_167.tif', 's_168.tif', 's_169.tif', 's_170.tif', 's_171.tif', 's_172.tif', 's_173.tif', 's_174.tif', 's_175.tif', 's_176.tif', 's_177.tif', 's_178.tif', 's_179.tif', 's_180.tif', 's_181.tif', 's_182.tif', 's_183.tif', 's_184.tif', 's_185.tif', 's_186.tif', 's_187.tif', 's_188.tif', 's_189.tif', 's_190.tif', 's_191.tif', 's_192.tif', 's_193.tif', 's_194.tif', 's_195.tif', 's_196.tif', 's_197.tif', 's_198.tif', 's_199.tif', 's_200.tif', 's_201.tif', 's_202.tif', 's_203.tif', 's_204.tif', 's_205.tif', 's_206.tif', 's_207.tif', 's_208.tif', 's_209.tif', 's_210.tif', 's_211.tif', 's_212.tif', 's_213.tif', 's_214.tif', 's_215.tif', 's_216.tif', 's_217.tif', 's_218.tif', 's_219.tif', 's_220.tif', 's_221.tif', 's_222.tif', 's_223.tif', 's_224.tif', 's_225.tif', 's_226.tif', 's_227.tif', 's_228.tif', 's_229.tif', 's_230.tif', 's_231.tif', 's_232.tif', 's_233.tif', 's_234.tif', 's_235.tif', 's_236.tif', 's_237.tif', 's_238.tif', 's_239.tif', 's_240.tif', 's_241.tif', 's_242.tif', 's_243.tif', 's_244.tif', 's_245.tif', 's_246.tif', 's_247.tif', 's_248.tif', 's_249.tif', 's_250.tif', 's_251.tif', 's_252.tif', 's_253.tif', 's_254.tif', 's_255.tif', 's_256.tif', 's_257.tif', 's_258.tif', 's_259.tif', 's_260.tif', 's_261.tif', 's_262.tif', 's_263.tif', 's_264.tif', 's_265.tif', 's_266.tif', 's_267.tif', 's_268.tif', 's_269.tif', 's_270.tif', 's_271.tif', 's_272.tif', 's_273.tif', 's_274.tif', 's_275.tif', 's_276.tif', 's_277.tif', 's_278.tif', 's_279.tif', 's_280.tif', 's_281.tif', 's_282.tif', 's_283.tif', 's_284.tif', 's_285.tif', 's_286.tif', 's_287.tif', 's_288.tif', 's_289.tif', 's_290.tif', 's_291.tif', 's_292.tif', 's_293.tif', 's_294.tif', 's_295.tif', 's_296.tif', 's_297.tif', 's_298.tif', 's_299.tif', 's_300.tif', 's_301.tif', 's_302.tif', 's_303.tif', 's_304.tif', 's_305.tif', 's_306.tif', 's_307.tif', 's_308.tif', 's_309.tif', 's_310.tif', 's_311.tif', 's_312.tif', 's_313.tif', 's_314.tif', 's_315.tif', 's_316.tif', 's_317.tif', 's_318.tif', 's_319.tif', 's_320.tif', 's_321.tif', 's_322.tif', 's_323.tif', 's_324.tif', 's_325.tif', 's_326.tif', 's_327.tif', 's_328.tif', 's_329.tif', 's_330.tif', 's_331.tif', 's_332.tif', 's_333.tif', 's_334.tif', 's_335.tif', 's_336.tif', 's_337.tif', 's_338.tif', 's_339.tif', 's_340.tif', 's_341.tif', 's_342.tif', 's_343.tif', 's_344.tif', 's_345.tif', 's_346.tif', 's_347.tif', 's_348.tif', 's_349.tif', 's_350.tif', 's_351.tif', 's_352.tif', 's_353.tif', 's_354.tif', 's_355.tif', 's_356.tif', 's_357.tif', 's_358.tif', 's_359.tif', 's_360.tif', 's_361.tif', 's_362.tif', 's_363.tif', 's_364.tif', 's_365.tif', 's_366.tif', 's_367.tif', 's_368.tif', 's_369.tif', 's_370.tif', 's_371.tif', 's_372.tif', 's_373.tif', 's_374.tif', 's_375.tif', 's_376.tif', 's_377.tif', 's_378.tif', 's_379.tif', 's_380.tif', 's_381.tif', 's_382.tif', 's_383.tif', 's_384.tif', 's_385.tif', 's_386.tif', 's_387.tif', 's_388.tif', 's_389.tif', 's_390.tif', 's_391.tif', 's_392.tif', 's_393.tif', 's_394.tif', 's_395.tif', 's_396.tif', 's_397.tif', 's_398.tif', 's_399.tif', 's_400.tif', 's_401.tif', 's_402.tif', 's_403.tif', 's_404.tif', 's_405.tif', 's_406.tif', 's_407.tif', 's_408.tif', 's_409.tif', 's_410.tif', 's_411.tif', 's_412.tif', 's_413.tif', 's_414.tif', 's_415.tif', 's_416.tif', 's_417.tif', 's_418.tif', 's_419.tif', 's_420.tif', 's_421.tif', 's_422.tif', 's_423.tif', 's_424.tif', 's_425.tif', 's_426.tif', 's_427.tif', 's_428.tif', 's_429.tif', 's_430.tif', 's_431.tif', 's_432.tif', 's_433.tif', 's_434.tif', 's_435.tif', 's_436.tif', 's_437.tif', 's_438.tif', 's_439.tif', 's_440.tif', 's_441.tif', 's_442.tif', 's_443.tif', 's_444.tif', 's_445.tif', 's_446.tif', 's_447.tif', 's_448.tif', 's_449.tif', 's_450.tif', 's_451.tif', 's_452.tif', 's_453.tif', 's_454.tif', 's_455.tif', 's_456.tif', 's_457.tif', 's_458.tif', 's_459.tif', 's_460.tif', 's_461.tif', 's_462.tif', 's_463.tif', 's_464.tif', 's_465.tif', 's_466.tif', 's_467.tif', 's_468.tif', 's_469.tif', 's_470.tif', 's_471.tif', 's_472.tif', 's_473.tif', 's_474.tif', 's_475.tif', 's_476.tif', 's_477.tif', 's_478.tif', 's_479.tif', 's_480.tif', 's_481.tif', 's_482.tif', 's_483.tif', 's_484.tif', 's_485.tif', 's_486.tif', 's_487.tif', 's_488.tif', 's_489.tif', 's_490.tif', 's_491.tif', 's_492.tif', 's_493.tif', 's_494.tif', 's_495.tif', 's_496.tif', 's_497.tif', 's_498.tif', 's_499.tif', 's_500.tif', 's_501.tif', 's_502.tif', 's_503.tif', 's_504.tif', 's_505.tif', 's_506.tif', 's_507.tif', 's_508.tif', 's_509.tif', 's_510.tif', 's_511.tif', 's_512.tif', 's_513.tif', 's_514.tif', 's_515.tif', 's_516.tif', 's_517.tif', 's_518.tif', 's_519.tif', 's_520.tif', 's_521.tif', 's_522.tif', 's_523.tif', 's_524.tif', 's_525.tif', 's_526.tif', 's_527.tif', 's_528.tif', 's_529.tif', 's_530.tif', 's_531.tif', 's_532.tif', 's_533.tif', 's_534.tif', 's_535.tif', 's_536.tif', 's_537.tif', 's_538.tif', 's_539.tif', 's_540.tif', 's_541.tif', 's_542.tif', 's_543.tif', 's_544.tif', 's_545.tif', 's_546.tif', 's_547.tif', 's_548.tif', 's_549.tif', 's_550.tif', 's_551.tif', 's_552.tif', 's_553.tif', 's_554.tif', 's_555.tif', 's_556.tif', 's_557.tif', 's_558.tif', 's_559.tif', 's_560.tif', 's_561.tif', 's_562.tif', 's_563.tif', 's_564.tif', 's_565.tif', 's_566.tif', 's_567.tif', 's_568.tif', 's_569.tif', 's_570.tif', 's_571.tif', 's_572.tif', 's_573.tif', 's_574.tif', 's_575.tif', 's_576.tif', 's_577.tif', 's_578.tif', 's_579.tif', 's_580.tif', 's_581.tif', 's_582.tif', 's_583.tif', 's_584.tif', 's_585.tif', 's_586.tif', 's_587.tif', 's_588.tif', 's_589.tif', 's_590.tif', 's_591.tif', 's_592.tif', 's_593.tif', 's_594.tif', 's_595.tif', 's_596.tif', 's_597.tif', 's_598.tif', 's_599.tif', 's_600.tif', 's_601.tif', 's_602.tif', 's_603.tif', 's_604.tif', 's_605.tif', 's_606.tif', 's_607.tif', 's_608.tif', 's_609.tif', 's_610.tif', 's_611.tif', 's_612.tif', 's_613.tif', 's_614.tif', 's_615.tif', 's_616.tif', 's_617.tif', 's_618.tif', 's_619.tif', 's_620.tif', 's_621.tif', 's_622.tif', 's_623.tif', 's_624.tif', 's_625.tif', 's_626.tif', 's_627.tif', 's_628.tif', 's_629.tif', 's_630.tif', 's_631.tif', 's_632.tif', 's_633.tif', 's_634.tif', 's_635.tif', 's_636.tif', 's_637.tif', 's_638.tif', 's_639.tif', 's_640.tif', 's_641.tif', 's_642.tif', 's_643.tif', 's_644.tif', 's_645.tif', 's_646.tif', 's_647.tif', 's_648.tif', 's_649.tif', 's_650.tif', 's_651.tif', 's_652.tif', 's_653.tif', 's_654.tif', 's_655.tif', 's_656.tif', 's_657.tif', 's_658.tif', 's_659.tif', 's_660.tif', 's_661.tif', 's_662.tif', 's_663.tif', 's_664.tif', 's_665.tif', 's_666.tif', 's_667.tif', 's_668.tif', 's_669.tif', 's_670.tif', 's_671.tif', 's_672.tif', 's_673.tif', 's_674.tif', 's_675.tif', 's_676.tif', 's_677.tif', 's_678.tif', 's_679.tif', 's_680.tif', 's_681.tif', 's_682.tif', 's_683.tif', 's_684.tif', 's_685.tif', 's_686.tif', 's_687.tif', 's_688.tif', 's_689.tif', 's_690.tif', 's_691.tif', 's_692.tif', 's_693.tif', 's_694.tif', 's_695.tif', 's_696.tif', 's_697.tif', 's_698.tif', 's_699.tif', 's_700.tif', 's_701.tif', 's_702.tif', 's_703.tif', 's_704.tif', 's_705.tif', 's_706.tif', 's_707.tif', 's_708.tif', 's_709.tif', 's_710.tif', 's_711.tif', 's_712.tif', 's_713.tif', 's_714.tif', 's_715.tif', 's_716.tif', 's_717.tif', 's_718.tif', 's_719.tif', 's_720.tif', 's_721.tif', 's_722.tif', 's_723.tif', 's_724.tif', 's_725.tif', 's_726.tif', 's_727.tif', 's_728.tif', 's_729.tif', 's_730.tif', 's_731.tif', 's_732.tif', 's_733.tif', 's_734.tif', 's_735.tif', 's_736.tif', 's_737.tif', 's_738.tif', 's_739.tif', 's_740.tif', 's_741.tif', 's_742.tif', 's_743.tif', 's_744.tif', 's_745.tif', 's_746.tif', 's_747.tif', 's_748.tif', 's_749.tif', 's_750.tif', 's_751.tif', 's_752.tif', 's_753.tif', 's_754.tif', 's_755.tif', 's_756.tif', 's_757.tif', 's_758.tif', 's_759.tif', 's_760.tif', 's_761.tif', 's_762.tif', 's_763.tif', 's_764.tif', 's_765.tif', 's_766.tif', 's_767.tif', 's_768.tif', 's_769.tif', 's_770.tif', 's_771.tif', 's_772.tif', 's_773.tif', 's_774.tif', 's_775.tif', 's_776.tif', 's_777.tif', 's_778.tif', 's_779.tif', 's_780.tif', 's_781.tif', 's_782.tif', 's_783.tif', 's_784.tif', 's_785.tif', 's_786.tif', 's_787.tif', 's_788.tif', 's_789.tif', 's_790.tif', 's_791.tif', 's_792.tif', 's_793.tif', 's_794.tif', 's_795.tif', 's_796.tif', 's_797.tif', 's_798.tif', 's_799.tif', 's_800.tif', 's_801.tif', 's_802.tif', 's_803.tif', 's_804.tif', 's_805.tif', 's_806.tif', 's_807.tif', 's_808.tif', 's_809.tif', 's_810.tif', 's_811.tif', 's_812.tif', 's_813.tif', 's_814.tif', 's_815.tif', 's_816.tif', 's_817.tif', 's_818.tif', 's_819.tif', 's_820.tif', 's_821.tif', 's_822.tif', 's_823.tif', 's_824.tif', 's_825.tif', 's_826.tif', 's_827.tif', 's_828.tif', 's_829.tif', 's_830.tif', 's_831.tif', 's_832.tif', 's_833.tif', 's_834.tif', 's_835.tif', 's_836.tif', 's_837.tif', 's_838.tif', 's_839.tif', 's_840.tif', 's_841.tif', 's_842.tif', 's_843.tif', 's_844.tif', 's_845.tif', 's_846.tif', 's_847.tif', 's_848.tif', 's_849.tif', 's_850.tif', 's_851.tif', 's_852.tif', 's_853.tif', 's_854.tif', 's_855.tif', 's_856.tif', 's_857.tif', 's_858.tif', 's_859.tif', 's_860.tif', 's_861.tif', 's_862.tif', 's_863.tif', 's_864.tif', 's_865.tif', 's_866.tif', 's_867.tif', 's_868.tif', 's_869.tif', 's_870.tif', 's_871.tif', 's_872.tif', 's_873.tif', 's_874.tif', 's_875.tif', 's_876.tif', 's_877.tif', 's_878.tif', 's_879.tif', 's_880.tif', 's_881.tif', 's_882.tif', 's_883.tif', 's_884.tif', 's_885.tif', 's_886.tif', 's_887.tif', 's_888.tif', 's_889.tif', 's_890.tif', 's_891.tif', 's_892.tif', 's_893.tif', 's_894.tif', 's_895.tif', 's_896.tif', 's_897.tif', 's_898.tif', 's_899.tif', 's_900.tif', 's_901.tif', 's_902.tif', 's_903.tif', 's_904.tif', 's_905.tif', 's_906.tif', 's_907.tif', 's_908.tif', 's_909.tif', 's_910.tif', 's_911.tif', 's_912.tif', 's_913.tif', 's_914.tif', 's_915.tif', 's_916.tif', 's_917.tif', 's_918.tif', 's_919.tif', 's_920.tif', 's_921.tif', 's_922.tif', 's_923.tif', 's_924.tif', 's_925.tif', 's_926.tif', 's_927.tif', 's_928.tif', 's_929.tif', 's_930.tif', 's_931.tif', 's_932.tif', 's_933.tif', 's_934.tif', 's_935.tif', 's_936.tif', 's_937.tif', 's_938.tif', 's_939.tif', 's_940.tif', 's_941.tif', 's_942.tif', 's_943.tif', 's_944.tif', 's_945.tif', 's_946.tif', 's_947.tif', 's_948.tif', 's_949.tif', 's_950.tif', 's_951.tif', 's_952.tif', 's_953.tif', 's_954.tif', 's_955.tif', 's_956.tif', 's_957.tif', 's_958.tif', 's_959.tif', 's_960.tif', 's_961.tif', 's_962.tif', 's_963.tif', 's_964.tif', 's_965.tif', 's_966.tif', 's_967.tif', 's_968.tif', 's_969.tif', 's_970.tif', 's_971.tif', 's_972.tif', 's_973.tif', 's_974.tif', 's_975.tif', 's_976.tif', 's_977.tif', 's_978.tif', 's_979.tif', 's_980.tif', 's_981.tif', 's_982.tif', 's_983.tif', 's_984.tif', 's_985.tif', 's_986.tif', 's_987.tif', 's_988.tif', 's_989.tif', 's_990.tif', 's_991.tif', 's_992.tif', 's_993.tif', 's_994.tif', 's_995.tif', 's_996.tif', 's_997.tif', 's_998.tif', 's_999.tif', 's_1000.tif', 's_1001.tif', 's_1002.tif', 's_1003.tif', 's_1004.tif', 's_1005.tif', 's_1006.tif', 's_1007.tif', 's_1008.tif', 's_1009.tif', 's_1010.tif', 's_1011.tif', 's_1012.tif', 's_1013.tif', 's_1014.tif', 's_1015.tif', 's_1016.tif', 's_1017.tif', 's_1018.tif', 's_1019.tif', 's_1020.tif', 's_1021.tif', 's_1022.tif', 's_1023.tif', 's_1024.tif', 's_1025.tif', 's_1026.tif', 's_1027.tif', 's_1028.tif', 's_1029.tif', 's_1030.tif', 's_1031.tif', 's_1032.tif', 's_1033.tif', 's_1034.tif', 's_1035.tif', 's_1036.tif', 's_1037.tif', 's_1038.tif', 's_1039.tif', 's_1040.tif', 's_1041.tif', 's_1042.tif', 's_1043.tif', 's_1044.tif', 's_1045.tif', 's_1046.tif', 's_1047.tif', 's_1048.tif', 's_1049.tif', 's_1050.tif', 's_1051.tif', 's_1052.tif', 's_1053.tif', 's_1054.tif', 's_1055.tif', 's_1056.tif', 's_1057.tif', 's_1058.tif', 's_1059.tif', 's_1060.tif', 's_1061.tif', 's_1062.tif', 's_1063.tif', 's_1064.tif', 's_1065.tif', 's_1066.tif', 's_1067.tif', 's_1068.tif', 's_1069.tif', 's_1070.tif', 's_1071.tif', 's_1072.tif', 's_1073.tif', 's_1074.tif', 's_1075.tif', 's_1076.tif', 's_1077.tif', 's_1078.tif', 's_1079.tif', 's_1080.tif', 's_1081.tif', 's_1082.tif', 's_1083.tif', 's_1084.tif', 's_1085.tif', 's_1086.tif', 's_1087.tif', 's_1088.tif', 's_1089.tif', 's_1090.tif', 's_1091.tif', 's_1092.tif'] SAVED AS TIFF STACK\n"
     ]
    }
   ],
   "source": [
    "from skimage.external import tifffile\n",
    "import os\n",
    "from natsort import natsorted\n",
    "with tifffile.TiffWriter('/home/nathan/data/fucci/fucci1_171201/segmented_v5.2.tif') as stack: #output path\n",
    "    path = '/home/nathan/data/fucci/fucci1_171201/other_mask_data/labels_v5.2/segmented' #input path\n",
    "    file_list = natsorted([file for file in os.listdir(path) if file.endswith('.tif')])\n",
    "    for filename in file_list:\n",
    "        stack.save(tifffile.imread(os.path.join(path, filename)))\n",
    "    print(file_list, \"SAVED AS TIFF STACK\")\n",
    "    \n",
    "from PIL import Image\n",
    "\n",
    "img = Image.open('multipage.tif')\n",
    "\n",
    "for i in range(4):\n",
    "    try:\n",
    "        img.seek(i)\n",
    "        img.save('page_%s.tif'%(i,))\n",
    "    except EOFError:\n",
    "        break"
   ]
  },
  {
   "cell_type": "code",
   "execution_count": null,
   "metadata": {},
   "outputs": [],
   "source": []
  }
 ],
 "metadata": {
  "kernelspec": {
   "display_name": "Python 3",
   "language": "python",
   "name": "python3"
  },
  "language_info": {
   "codemirror_mode": {
    "name": "ipython",
    "version": 3
   },
   "file_extension": ".py",
   "mimetype": "text/x-python",
   "name": "python",
   "nbconvert_exporter": "python",
   "pygments_lexer": "ipython3",
   "version": "3.7.6"
  }
 },
 "nbformat": 4,
 "nbformat_minor": 4
}
