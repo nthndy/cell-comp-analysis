{
 "cells": [
  {
   "cell_type": "markdown",
   "metadata": {},
   "source": [
    "# GLIMPSE CREATOR "
   ]
  },
  {
   "cell_type": "markdown",
   "metadata": {},
   "source": [
    "This notebook takes a cell_ID, or series of cell_IDs and crops a 'glimpse' of the cell; a series of images lasting the duration of the cells existence that are focused on the cell and it's immediate neighbourhood.\n",
    "\n",
    "Author: `Nathan J. Day`"
   ]
  },
  {
   "cell_type": "code",
   "execution_count": 56,
   "metadata": {},
   "outputs": [],
   "source": [
    "import btrack\n",
    "import matplotlib.pyplot as plt\n",
    "import os\n",
    "from skimage.io import imread, imsave, imshow\n",
    "from tqdm import tqdm\n",
    "import numpy as np\n",
    "from pathlib import Path\n",
    "from natsort import natsorted\n",
    "import warnings\n",
    "warnings.filterwarnings('ignore') ###bc imsave throws up low contrast warnings"
   ]
  },
  {
   "cell_type": "markdown",
   "metadata": {},
   "source": [
    "# Establish glimpse params"
   ]
  },
  {
   "cell_type": "code",
   "execution_count": 23,
   "metadata": {},
   "outputs": [],
   "source": [
    "expt_root_folder = '/run/user/1000/gvfs/smb-share:server=lowe-sn00.biochem.ucl.ac.uk,share=lowegrp/Data/Manasi/'"
   ]
  },
  {
   "cell_type": "code",
   "execution_count": 38,
   "metadata": {},
   "outputs": [],
   "source": [
    "expt = 'MK0000'\n",
    "pos = 'Pos5'"
   ]
  },
  {
   "cell_type": "code",
   "execution_count": 14,
   "metadata": {},
   "outputs": [],
   "source": [
    "channels = ['003'] ### bf 000 gfp 001 rfp 002 irfp 003\n",
    "\n",
    "focal_time_range = (0, 800) ### this particular expt stays in focus in this time range"
   ]
  },
  {
   "cell_type": "markdown",
   "metadata": {},
   "source": [
    "# Load experiment tracking file"
   ]
  },
  {
   "cell_type": "code",
   "execution_count": 39,
   "metadata": {},
   "outputs": [],
   "source": [
    "tracks_path = os.path.join(expt_root_folder,'{}/{}/gfp_tracks.h5'.format(expt, pos))"
   ]
  },
  {
   "cell_type": "code",
   "execution_count": 40,
   "metadata": {},
   "outputs": [
    {
     "name": "stderr",
     "output_type": "stream",
     "text": [
      "[INFO][2021/05/21 01:54:21 PM] Opening HDF file: /run/user/1000/gvfs/smb-share:server=lowe-sn00.biochem.ucl.ac.uk,share=lowegrp/Data/Manasi/MK0000/Pos5/gfp_tracks.h5...\n",
      "[INFO][2021/05/21 01:54:21 PM] Loading tracks/obj_type_1\n",
      "[INFO][2021/05/21 01:54:22 PM] Loading objects/obj_type_1 (176034, 5) (176034 filtered: None)\n",
      "[INFO][2021/05/21 01:54:24 PM] Closing HDF file: /run/user/1000/gvfs/smb-share:server=lowe-sn00.biochem.ucl.ac.uk,share=lowegrp/Data/Manasi/MK0000/Pos5/gfp_tracks.h5\n"
     ]
    }
   ],
   "source": [
    "with btrack.dataio.HDF5FileHandler(tracks_path, 'r', obj_type = \"obj_type_1\") as hdf:\n",
    "    wt_tracks = hdf.tracks"
   ]
  },
  {
   "cell_type": "code",
   "execution_count": 41,
   "metadata": {},
   "outputs": [
    {
     "data": {
      "text/plain": [
       "(array([3.423e+03, 4.380e+02, 7.800e+01, 1.700e+01, 5.000e+00, 1.000e+00,\n",
       "        0.000e+00, 1.000e+00, 0.000e+00, 4.000e+00]),\n",
       " array([1.000e+00, 1.023e+02, 2.036e+02, 3.049e+02, 4.062e+02, 5.075e+02,\n",
       "        6.088e+02, 7.101e+02, 8.114e+02, 9.127e+02, 1.014e+03]),\n",
       " <BarContainer object of 10 artists>)"
      ]
     },
     "execution_count": 41,
     "metadata": {},
     "output_type": "execute_result"
    },
    {
     "data": {
      "image/png": "[encoded data removed]",
      "text/plain": [
       "<Figure size 432x288 with 1 Axes>"
      ]
     },
     "metadata": {
      "needs_background": "light"
     },
     "output_type": "display_data"
    }
   ],
   "source": [
    "len_tracks = [len(track) for track in wt_tracks]\n",
    "plt.hist(len_tracks)"
   ]
  },
  {
   "cell_type": "code",
   "execution_count": 42,
   "metadata": {},
   "outputs": [],
   "source": [
    "### filter tracks that should contain a full cell cycle in (1 timepoint/frame = 4min, cc time approx 200 frames based on quick look)\n",
    "long_tracks = [track for track in wt_tracks if len(track) > 200]"
   ]
  },
  {
   "cell_type": "code",
   "execution_count": 43,
   "metadata": {},
   "outputs": [],
   "source": [
    "### filter tracks that spend a lot of time out of focus\n",
    "tracks = [track for track in long_tracks if track.t[-1] < focal_time_range[1]]"
   ]
  },
  {
   "cell_type": "code",
   "execution_count": 44,
   "metadata": {},
   "outputs": [
    {
     "data": {
      "text/plain": [
       "48"
      ]
     },
     "execution_count": 44,
     "metadata": {},
     "output_type": "execute_result"
    }
   ],
   "source": [
    "len(tracks)"
   ]
  },
  {
   "cell_type": "markdown",
   "metadata": {},
   "source": [
    "# Load image data"
   ]
  },
  {
   "cell_type": "code",
   "execution_count": 45,
   "metadata": {},
   "outputs": [],
   "source": [
    "image_folder = os.path.join(expt_root_folder,expt, pos, pos+'_stacks')"
   ]
  },
  {
   "cell_type": "markdown",
   "metadata": {},
   "source": [
    "# Make glimpse"
   ]
  },
  {
   "cell_type": "code",
   "execution_count": 50,
   "metadata": {},
   "outputs": [
    {
     "name": "stdout",
     "output_type": "stream",
     "text": [
      "Loading image channel 003\n"
     ]
    },
    {
     "name": "stderr",
     "output_type": "stream",
     "text": [
      "\r",
      "  0%|          | 0/48 [00:00<?, ?it/s]"
     ]
    },
    {
     "name": "stdout",
     "output_type": "stream",
     "text": [
      "Image loaded\n"
     ]
    },
    {
     "name": "stderr",
     "output_type": "stream",
     "text": [
      "\r",
      "  2%|▏         | 1/48 [00:00<00:46,  1.01it/s]"
     ]
    },
    {
     "name": "stdout",
     "output_type": "stream",
     "text": [
      "cell ID 34 glimpse saved\n"
     ]
    },
    {
     "name": "stderr",
     "output_type": "stream",
     "text": [
      "\r",
      "  4%|▍         | 2/48 [00:01<00:28,  1.62it/s]"
     ]
    },
    {
     "name": "stdout",
     "output_type": "stream",
     "text": [
      "cell ID 81 glimpse saved\n"
     ]
    },
    {
     "name": "stderr",
     "output_type": "stream",
     "text": [
      "\r",
      "  6%|▋         | 3/48 [00:01<00:27,  1.62it/s]"
     ]
    },
    {
     "name": "stdout",
     "output_type": "stream",
     "text": [
      "cell ID 85 glimpse saved\n"
     ]
    },
    {
     "name": "stderr",
     "output_type": "stream",
     "text": [
      "\r",
      "  8%|▊         | 4/48 [00:02<00:24,  1.79it/s]"
     ]
    },
    {
     "name": "stdout",
     "output_type": "stream",
     "text": [
      "cell ID 273 glimpse saved\n"
     ]
    },
    {
     "name": "stderr",
     "output_type": "stream",
     "text": [
      "\r",
      " 10%|█         | 5/48 [00:02<00:20,  2.12it/s]"
     ]
    },
    {
     "name": "stdout",
     "output_type": "stream",
     "text": [
      "cell ID 393 glimpse saved\n"
     ]
    },
    {
     "name": "stderr",
     "output_type": "stream",
     "text": [
      "\r",
      " 12%|█▎        | 6/48 [00:03<00:17,  2.42it/s]"
     ]
    },
    {
     "name": "stdout",
     "output_type": "stream",
     "text": [
      "cell ID 496 glimpse saved\n"
     ]
    },
    {
     "name": "stderr",
     "output_type": "stream",
     "text": [
      "\r",
      " 15%|█▍        | 7/48 [00:03<00:14,  2.78it/s]"
     ]
    },
    {
     "name": "stdout",
     "output_type": "stream",
     "text": [
      "cell ID 499 glimpse saved\n"
     ]
    },
    {
     "name": "stderr",
     "output_type": "stream",
     "text": [
      "\r",
      " 17%|█▋        | 8/48 [00:03<00:15,  2.57it/s]"
     ]
    },
    {
     "name": "stdout",
     "output_type": "stream",
     "text": [
      "cell ID 506 glimpse saved\n"
     ]
    },
    {
     "name": "stderr",
     "output_type": "stream",
     "text": [
      "\r",
      " 19%|█▉        | 9/48 [00:04<00:14,  2.74it/s]"
     ]
    },
    {
     "name": "stdout",
     "output_type": "stream",
     "text": [
      "cell ID 541 glimpse saved\n"
     ]
    },
    {
     "name": "stderr",
     "output_type": "stream",
     "text": [
      "\r",
      " 21%|██        | 10/48 [00:04<00:14,  2.70it/s]"
     ]
    },
    {
     "name": "stdout",
     "output_type": "stream",
     "text": [
      "cell ID 563 glimpse saved\n"
     ]
    },
    {
     "name": "stderr",
     "output_type": "stream",
     "text": [
      "\r",
      " 23%|██▎       | 11/48 [00:04<00:12,  2.97it/s]"
     ]
    },
    {
     "name": "stdout",
     "output_type": "stream",
     "text": [
      "cell ID 569 glimpse saved\n"
     ]
    },
    {
     "name": "stderr",
     "output_type": "stream",
     "text": [
      "\r",
      " 25%|██▌       | 12/48 [00:05<00:12,  2.91it/s]"
     ]
    },
    {
     "name": "stdout",
     "output_type": "stream",
     "text": [
      "cell ID 605 glimpse saved\n"
     ]
    },
    {
     "name": "stderr",
     "output_type": "stream",
     "text": [
      "\r",
      " 27%|██▋       | 13/48 [00:05<00:12,  2.75it/s]"
     ]
    },
    {
     "name": "stdout",
     "output_type": "stream",
     "text": [
      "cell ID 642 glimpse saved\n"
     ]
    },
    {
     "name": "stderr",
     "output_type": "stream",
     "text": [
      "\r",
      " 29%|██▉       | 14/48 [00:05<00:11,  3.05it/s]"
     ]
    },
    {
     "name": "stdout",
     "output_type": "stream",
     "text": [
      "cell ID 674 glimpse saved\n"
     ]
    },
    {
     "name": "stderr",
     "output_type": "stream",
     "text": [
      "\r",
      " 31%|███▏      | 15/48 [00:06<00:10,  3.00it/s]"
     ]
    },
    {
     "name": "stdout",
     "output_type": "stream",
     "text": [
      "cell ID 712 glimpse saved\n"
     ]
    },
    {
     "name": "stderr",
     "output_type": "stream",
     "text": [
      "\r",
      " 33%|███▎      | 16/48 [00:06<00:10,  2.98it/s]"
     ]
    },
    {
     "name": "stdout",
     "output_type": "stream",
     "text": [
      "cell ID 721 glimpse saved\n"
     ]
    },
    {
     "name": "stderr",
     "output_type": "stream",
     "text": [
      "\r",
      " 35%|███▌      | 17/48 [00:06<00:09,  3.11it/s]"
     ]
    },
    {
     "name": "stdout",
     "output_type": "stream",
     "text": [
      "cell ID 723 glimpse saved\n"
     ]
    },
    {
     "name": "stderr",
     "output_type": "stream",
     "text": [
      "\r",
      " 38%|███▊      | 18/48 [00:07<00:11,  2.55it/s]"
     ]
    },
    {
     "name": "stdout",
     "output_type": "stream",
     "text": [
      "cell ID 745 glimpse saved\n"
     ]
    },
    {
     "name": "stderr",
     "output_type": "stream",
     "text": [
      "\r",
      " 40%|███▉      | 19/48 [00:07<00:12,  2.34it/s]"
     ]
    },
    {
     "name": "stdout",
     "output_type": "stream",
     "text": [
      "cell ID 746 glimpse saved\n"
     ]
    },
    {
     "name": "stderr",
     "output_type": "stream",
     "text": [
      "\r",
      " 42%|████▏     | 20/48 [00:08<00:10,  2.64it/s]"
     ]
    },
    {
     "name": "stdout",
     "output_type": "stream",
     "text": [
      "cell ID 760 glimpse saved\n"
     ]
    },
    {
     "name": "stderr",
     "output_type": "stream",
     "text": [
      "\r",
      " 44%|████▍     | 21/48 [00:08<00:09,  2.89it/s]"
     ]
    },
    {
     "name": "stdout",
     "output_type": "stream",
     "text": [
      "cell ID 783 glimpse saved\n"
     ]
    },
    {
     "name": "stderr",
     "output_type": "stream",
     "text": [
      "\r",
      " 46%|████▌     | 22/48 [00:08<00:09,  2.70it/s]"
     ]
    },
    {
     "name": "stdout",
     "output_type": "stream",
     "text": [
      "cell ID 789 glimpse saved\n"
     ]
    },
    {
     "name": "stderr",
     "output_type": "stream",
     "text": [
      "\r",
      " 48%|████▊     | 23/48 [00:09<00:09,  2.75it/s]"
     ]
    },
    {
     "name": "stdout",
     "output_type": "stream",
     "text": [
      "cell ID 794 glimpse saved\n"
     ]
    },
    {
     "name": "stderr",
     "output_type": "stream",
     "text": [
      "\r",
      " 50%|█████     | 24/48 [00:09<00:08,  3.00it/s]"
     ]
    },
    {
     "name": "stdout",
     "output_type": "stream",
     "text": [
      "cell ID 797 glimpse saved\n"
     ]
    },
    {
     "name": "stderr",
     "output_type": "stream",
     "text": [
      "\r",
      " 52%|█████▏    | 25/48 [00:09<00:07,  3.13it/s]"
     ]
    },
    {
     "name": "stdout",
     "output_type": "stream",
     "text": [
      "cell ID 804 glimpse saved\n"
     ]
    },
    {
     "name": "stderr",
     "output_type": "stream",
     "text": [
      "\r",
      " 54%|█████▍    | 26/48 [00:09<00:07,  3.12it/s]"
     ]
    },
    {
     "name": "stdout",
     "output_type": "stream",
     "text": [
      "cell ID 807 glimpse saved\n"
     ]
    },
    {
     "name": "stderr",
     "output_type": "stream",
     "text": [
      "\r",
      " 56%|█████▋    | 27/48 [00:10<00:07,  2.82it/s]"
     ]
    },
    {
     "name": "stdout",
     "output_type": "stream",
     "text": [
      "cell ID 774 glimpse saved\n"
     ]
    },
    {
     "name": "stderr",
     "output_type": "stream",
     "text": [
      "\r",
      " 58%|█████▊    | 28/48 [00:10<00:08,  2.40it/s]"
     ]
    },
    {
     "name": "stdout",
     "output_type": "stream",
     "text": [
      "cell ID 777 glimpse saved\n"
     ]
    },
    {
     "name": "stderr",
     "output_type": "stream",
     "text": [
      "\r",
      " 60%|██████    | 29/48 [00:11<00:07,  2.64it/s]"
     ]
    },
    {
     "name": "stdout",
     "output_type": "stream",
     "text": [
      "cell ID 780 glimpse saved\n"
     ]
    },
    {
     "name": "stderr",
     "output_type": "stream",
     "text": [
      "\r",
      " 62%|██████▎   | 30/48 [00:11<00:06,  2.64it/s]"
     ]
    },
    {
     "name": "stdout",
     "output_type": "stream",
     "text": [
      "cell ID 810 glimpse saved\n"
     ]
    },
    {
     "name": "stderr",
     "output_type": "stream",
     "text": [
      "\r",
      " 65%|██████▍   | 31/48 [00:11<00:06,  2.75it/s]"
     ]
    },
    {
     "name": "stdout",
     "output_type": "stream",
     "text": [
      "cell ID 851 glimpse saved\n"
     ]
    },
    {
     "name": "stderr",
     "output_type": "stream",
     "text": [
      "\r",
      " 67%|██████▋   | 32/48 [00:12<00:05,  2.98it/s]"
     ]
    },
    {
     "name": "stdout",
     "output_type": "stream",
     "text": [
      "cell ID 855 glimpse saved\n"
     ]
    },
    {
     "name": "stderr",
     "output_type": "stream",
     "text": [
      "\r",
      " 69%|██████▉   | 33/48 [00:12<00:06,  2.49it/s]"
     ]
    },
    {
     "name": "stdout",
     "output_type": "stream",
     "text": [
      "cell ID 871 glimpse saved\n"
     ]
    },
    {
     "name": "stderr",
     "output_type": "stream",
     "text": [
      "\r",
      " 71%|███████   | 34/48 [00:13<00:05,  2.79it/s]"
     ]
    },
    {
     "name": "stdout",
     "output_type": "stream",
     "text": [
      "cell ID 885 glimpse saved\n"
     ]
    },
    {
     "name": "stderr",
     "output_type": "stream",
     "text": [
      "\r",
      " 73%|███████▎  | 35/48 [00:13<00:04,  2.95it/s]"
     ]
    },
    {
     "name": "stdout",
     "output_type": "stream",
     "text": [
      "cell ID 904 glimpse saved\n"
     ]
    },
    {
     "name": "stderr",
     "output_type": "stream",
     "text": [
      "\r",
      " 75%|███████▌  | 36/48 [00:13<00:04,  2.95it/s]"
     ]
    },
    {
     "name": "stdout",
     "output_type": "stream",
     "text": [
      "cell ID 913 glimpse saved\n"
     ]
    },
    {
     "name": "stderr",
     "output_type": "stream",
     "text": [
      "\r",
      " 77%|███████▋  | 37/48 [00:14<00:03,  2.76it/s]"
     ]
    },
    {
     "name": "stdout",
     "output_type": "stream",
     "text": [
      "cell ID 915 glimpse saved\n"
     ]
    },
    {
     "name": "stderr",
     "output_type": "stream",
     "text": [
      "\r",
      " 79%|███████▉  | 38/48 [00:14<00:03,  2.87it/s]"
     ]
    },
    {
     "name": "stdout",
     "output_type": "stream",
     "text": [
      "cell ID 916 glimpse saved\n"
     ]
    },
    {
     "name": "stderr",
     "output_type": "stream",
     "text": [
      "\r",
      " 81%|████████▏ | 39/48 [00:14<00:02,  3.01it/s]"
     ]
    },
    {
     "name": "stdout",
     "output_type": "stream",
     "text": [
      "cell ID 956 glimpse saved\n"
     ]
    },
    {
     "name": "stderr",
     "output_type": "stream",
     "text": [
      "\r",
      " 83%|████████▎ | 40/48 [00:15<00:02,  2.84it/s]"
     ]
    },
    {
     "name": "stdout",
     "output_type": "stream",
     "text": [
      "cell ID 974 glimpse saved\n"
     ]
    },
    {
     "name": "stderr",
     "output_type": "stream",
     "text": [
      "\r",
      " 85%|████████▌ | 41/48 [00:15<00:02,  3.05it/s]"
     ]
    },
    {
     "name": "stdout",
     "output_type": "stream",
     "text": [
      "cell ID 982 glimpse saved\n"
     ]
    },
    {
     "name": "stderr",
     "output_type": "stream",
     "text": [
      "\r",
      " 88%|████████▊ | 42/48 [00:15<00:01,  3.16it/s]"
     ]
    },
    {
     "name": "stdout",
     "output_type": "stream",
     "text": [
      "cell ID 994 glimpse saved\n"
     ]
    },
    {
     "name": "stderr",
     "output_type": "stream",
     "text": [
      "\r",
      " 90%|████████▉ | 43/48 [00:15<00:01,  3.16it/s]"
     ]
    },
    {
     "name": "stdout",
     "output_type": "stream",
     "text": [
      "cell ID 1001 glimpse saved\n"
     ]
    },
    {
     "name": "stderr",
     "output_type": "stream",
     "text": [
      "\r",
      " 92%|█████████▏| 44/48 [00:16<00:01,  2.94it/s]"
     ]
    },
    {
     "name": "stdout",
     "output_type": "stream",
     "text": [
      "cell ID 1024 glimpse saved\n"
     ]
    },
    {
     "name": "stderr",
     "output_type": "stream",
     "text": [
      "\r",
      " 94%|█████████▍| 45/48 [00:16<00:00,  3.07it/s]"
     ]
    },
    {
     "name": "stdout",
     "output_type": "stream",
     "text": [
      "cell ID 1031 glimpse saved\n"
     ]
    },
    {
     "name": "stderr",
     "output_type": "stream",
     "text": [
      "\r",
      " 96%|█████████▌| 46/48 [00:16<00:00,  3.27it/s]"
     ]
    },
    {
     "name": "stdout",
     "output_type": "stream",
     "text": [
      "cell ID 1041 glimpse saved\n"
     ]
    },
    {
     "name": "stderr",
     "output_type": "stream",
     "text": [
      "\r",
      " 98%|█████████▊| 47/48 [00:17<00:00,  3.44it/s]"
     ]
    },
    {
     "name": "stdout",
     "output_type": "stream",
     "text": [
      "cell ID 1046 glimpse saved\n"
     ]
    },
    {
     "name": "stderr",
     "output_type": "stream",
     "text": [
      "100%|██████████| 48/48 [00:17<00:00,  2.76it/s]"
     ]
    },
    {
     "name": "stdout",
     "output_type": "stream",
     "text": [
      "cell ID 1088 glimpse saved\n"
     ]
    },
    {
     "name": "stderr",
     "output_type": "stream",
     "text": [
      "\n"
     ]
    }
   ],
   "source": [
    "output_dir = '/home/nathan/data/kraken/pcna/glimpses/{}/{}'.format(expt, pos)\n",
    "\n",
    "for channel in channels:\n",
    "    ### load images\n",
    "    print('Loading image channel', channel)\n",
    "    images = imread(os.path.join(image_folder, 'channel{}.tif'.format(channel)))\n",
    "    print('Image loaded')\n",
    "    ### create output directory\n",
    "    output_ch_dir = os.path.join(output_dir, 'channel'+channel)\n",
    "    Path(output_ch_dir).mkdir(parents=True, exist_ok=True)\n",
    "    #os.mkdir(output_ch_dir) if os.path.exists(output_ch_dir) == False else print(output_ch_dir, 'already exists')\n",
    "    \n",
    "    for cell in tqdm(tracks):\n",
    "        try:\n",
    "            ### get length of track/glimpse \n",
    "            length = range(cell.t[0], cell.t[-1])\n",
    "            ### get the xy coords of track/glimpse \n",
    "            y, x = cell.x, cell.y #### WHY IS THE COORDINATES TRANSPOSED???? \n",
    "\n",
    "            ### iterate over all frames cropping\n",
    "            for j, i in enumerate(length): ## need to have something that solves skipped frames # not including the last frame bc list index out of range ie there is one more i than there\n",
    "                ### obtain correct frame\n",
    "                image = images[i]\n",
    "                ### obtain coordinates of bounding box of glimpse (centered on cell)\n",
    "                x1, x2, y1, y2 = x[j], x[j]+200, y[j], y[j]+200 #coordinates to crop by, shifted bearing in mind a further coord shift (+100,+100) occurs due to image padding            \n",
    "                ### pad image incase cell goes off FOV\n",
    "                image = np.pad(image, 100, 'constant', constant_values = 0) \n",
    "                ## glimpse creation by cropping original image\n",
    "                glimpse = image[int(x1): int(x2), int(y1): int(y2)]\n",
    "                ### fraction of track this frame is at\n",
    "                age = round(i/cell.t[-1],3) \n",
    "                fn = 'cell_ID_' + str(cell.ID) + '_channel' + channel + '_t{}_age{}.tif'.format(i, age)\n",
    "                ### glimpse output\n",
    "                imsave(os.path.join(output_ch_dir, fn), glimpse) \n",
    "            print('cell ID',cell.ID, 'glimpse saved')\n",
    "            \n",
    "        except:\n",
    "            print(cell.ID, 'failed to produce glimpse')\n"
   ]
  },
  {
   "cell_type": "markdown",
   "metadata": {},
   "source": [
    "# Iterate over many positions"
   ]
  },
  {
   "cell_type": "code",
   "execution_count": 23,
   "metadata": {},
   "outputs": [],
   "source": [
    "expt_root_folder = '/run/user/1000/gvfs/smb-share:server=lowe-sn00.biochem.ucl.ac.uk,share=lowegrp/Data/Manasi/'"
   ]
  },
  {
   "cell_type": "code",
   "execution_count": 58,
   "metadata": {},
   "outputs": [],
   "source": [
    "expt = 'MK0000'\n",
    "pos_list = natsorted([pos for pos in os.listdir(os.path.join(expt_root_folder, expt)) if 'Pos' in pos])"
   ]
  },
  {
   "cell_type": "code",
   "execution_count": 14,
   "metadata": {},
   "outputs": [],
   "source": [
    "channels = ['003'] ### bf 000 gfp 001 rfp 002 irfp 003\n",
    "\n",
    "focal_time_range = (0, 800) ### this particular expt stays in focus in this time range"
   ]
  },
  {
   "cell_type": "markdown",
   "metadata": {},
   "source": [
    "# Load experiment tracking file"
   ]
  },
  {
   "cell_type": "code",
   "execution_count": 59,
   "metadata": {},
   "outputs": [
    {
     "name": "stderr",
     "output_type": "stream",
     "text": [
      "[INFO][2021/05/21 02:28:28 PM] Opening HDF file: /run/user/1000/gvfs/smb-share:server=lowe-sn00.biochem.ucl.ac.uk,share=lowegrp/Data/Manasi/MK0000/Pos0/gfp_tracks.h5...\n"
     ]
    },
    {
     "name": "stdout",
     "output_type": "stream",
     "text": [
      "starting Pos0\n"
     ]
    },
    {
     "ename": "FileNotFoundError",
     "evalue": "[Errno 2] Unable to open file (unable to open file: name = '/run/user/1000/gvfs/smb-share:server=lowe-sn00.biochem.ucl.ac.uk,share=lowegrp/Data/Manasi/MK0000/Pos0/gfp_tracks.h5', errno = 2, error message = 'No such file or directory', flags = 0, o_flags = 0)",
     "output_type": "error",
     "traceback": [
      "\u001b[0;31m---------------------------------------------------------------------------\u001b[0m",
      "\u001b[0;31mFileNotFoundError\u001b[0m                         Traceback (most recent call last)",
      "\u001b[0;32m<ipython-input-59-96beb0fc7504>\u001b[0m in \u001b[0;36m<module>\u001b[0;34m\u001b[0m\n\u001b[1;32m      3\u001b[0m     \u001b[0mtracks_path\u001b[0m \u001b[0;34m=\u001b[0m \u001b[0mos\u001b[0m\u001b[0;34m.\u001b[0m\u001b[0mpath\u001b[0m\u001b[0;34m.\u001b[0m\u001b[0mjoin\u001b[0m\u001b[0;34m(\u001b[0m\u001b[0mexpt_root_folder\u001b[0m\u001b[0;34m,\u001b[0m\u001b[0;34m'{}/{}/gfp_tracks.h5'\u001b[0m\u001b[0;34m.\u001b[0m\u001b[0mformat\u001b[0m\u001b[0;34m(\u001b[0m\u001b[0mexpt\u001b[0m\u001b[0;34m,\u001b[0m \u001b[0mpos\u001b[0m\u001b[0;34m)\u001b[0m\u001b[0;34m)\u001b[0m\u001b[0;34m\u001b[0m\u001b[0;34m\u001b[0m\u001b[0m\n\u001b[1;32m      4\u001b[0m \u001b[0;34m\u001b[0m\u001b[0m\n\u001b[0;32m----> 5\u001b[0;31m     \u001b[0;32mwith\u001b[0m \u001b[0mbtrack\u001b[0m\u001b[0;34m.\u001b[0m\u001b[0mdataio\u001b[0m\u001b[0;34m.\u001b[0m\u001b[0mHDF5FileHandler\u001b[0m\u001b[0;34m(\u001b[0m\u001b[0mtracks_path\u001b[0m\u001b[0;34m,\u001b[0m \u001b[0;34m'r'\u001b[0m\u001b[0;34m,\u001b[0m \u001b[0mobj_type\u001b[0m \u001b[0;34m=\u001b[0m \u001b[0;34m\"obj_type_1\"\u001b[0m\u001b[0;34m)\u001b[0m \u001b[0;32mas\u001b[0m \u001b[0mhdf\u001b[0m\u001b[0;34m:\u001b[0m\u001b[0;34m\u001b[0m\u001b[0;34m\u001b[0m\u001b[0m\n\u001b[0m\u001b[1;32m      6\u001b[0m         \u001b[0mwt_tracks\u001b[0m \u001b[0;34m=\u001b[0m \u001b[0mhdf\u001b[0m\u001b[0;34m.\u001b[0m\u001b[0mtracks\u001b[0m\u001b[0;34m\u001b[0m\u001b[0;34m\u001b[0m\u001b[0m\n\u001b[1;32m      7\u001b[0m \u001b[0;34m\u001b[0m\u001b[0m\n",
      "\u001b[0;32m~/anaconda3/envs/py3.9/lib/python3.9/site-packages/btrack/dataio.py\u001b[0m in \u001b[0;36m__init__\u001b[0;34m(self, filename, read_write, obj_type)\u001b[0m\n\u001b[1;32m    330\u001b[0m         \u001b[0mself\u001b[0m\u001b[0;34m.\u001b[0m\u001b[0mfilename\u001b[0m \u001b[0;34m=\u001b[0m \u001b[0mfilename\u001b[0m\u001b[0;34m\u001b[0m\u001b[0;34m\u001b[0m\u001b[0m\n\u001b[1;32m    331\u001b[0m         \u001b[0mlogger\u001b[0m\u001b[0;34m.\u001b[0m\u001b[0minfo\u001b[0m\u001b[0;34m(\u001b[0m\u001b[0;34mf'Opening HDF file: {self.filename}...'\u001b[0m\u001b[0;34m)\u001b[0m\u001b[0;34m\u001b[0m\u001b[0;34m\u001b[0m\u001b[0m\n\u001b[0;32m--> 332\u001b[0;31m         \u001b[0mself\u001b[0m\u001b[0;34m.\u001b[0m\u001b[0m_hdf\u001b[0m \u001b[0;34m=\u001b[0m \u001b[0mh5py\u001b[0m\u001b[0;34m.\u001b[0m\u001b[0mFile\u001b[0m\u001b[0;34m(\u001b[0m\u001b[0mfilename\u001b[0m\u001b[0;34m,\u001b[0m \u001b[0mread_write\u001b[0m\u001b[0;34m)\u001b[0m\u001b[0;34m\u001b[0m\u001b[0;34m\u001b[0m\u001b[0m\n\u001b[0m\u001b[1;32m    333\u001b[0m         \u001b[0mself\u001b[0m\u001b[0;34m.\u001b[0m\u001b[0m_states\u001b[0m \u001b[0;34m=\u001b[0m \u001b[0mlist\u001b[0m\u001b[0;34m(\u001b[0m\u001b[0mconstants\u001b[0m\u001b[0;34m.\u001b[0m\u001b[0mStates\u001b[0m\u001b[0;34m)\u001b[0m\u001b[0;34m\u001b[0m\u001b[0;34m\u001b[0m\u001b[0m\n\u001b[1;32m    334\u001b[0m \u001b[0;34m\u001b[0m\u001b[0m\n",
      "\u001b[0;32m~/anaconda3/envs/py3.9/lib/python3.9/site-packages/h5py/_hl/files.py\u001b[0m in \u001b[0;36m__init__\u001b[0;34m(self, name, mode, driver, libver, userblock_size, swmr, rdcc_nslots, rdcc_nbytes, rdcc_w0, track_order, fs_strategy, fs_persist, fs_threshold, **kwds)\u001b[0m\n\u001b[1;32m    440\u001b[0m             \u001b[0;32mwith\u001b[0m \u001b[0mphil\u001b[0m\u001b[0;34m:\u001b[0m\u001b[0;34m\u001b[0m\u001b[0;34m\u001b[0m\u001b[0m\n\u001b[1;32m    441\u001b[0m                 \u001b[0mfapl\u001b[0m \u001b[0;34m=\u001b[0m \u001b[0mmake_fapl\u001b[0m\u001b[0;34m(\u001b[0m\u001b[0mdriver\u001b[0m\u001b[0;34m,\u001b[0m \u001b[0mlibver\u001b[0m\u001b[0;34m,\u001b[0m \u001b[0mrdcc_nslots\u001b[0m\u001b[0;34m,\u001b[0m \u001b[0mrdcc_nbytes\u001b[0m\u001b[0;34m,\u001b[0m \u001b[0mrdcc_w0\u001b[0m\u001b[0;34m,\u001b[0m \u001b[0;34m**\u001b[0m\u001b[0mkwds\u001b[0m\u001b[0;34m)\u001b[0m\u001b[0;34m\u001b[0m\u001b[0;34m\u001b[0m\u001b[0m\n\u001b[0;32m--> 442\u001b[0;31m                 fid = make_fid(name, mode, userblock_size,\n\u001b[0m\u001b[1;32m    443\u001b[0m                                fapl, fcpl=make_fcpl(track_order=track_order, fs_strategy=fs_strategy,\n\u001b[1;32m    444\u001b[0m                                fs_persist=fs_persist, fs_threshold=fs_threshold),\n",
      "\u001b[0;32m~/anaconda3/envs/py3.9/lib/python3.9/site-packages/h5py/_hl/files.py\u001b[0m in \u001b[0;36mmake_fid\u001b[0;34m(name, mode, userblock_size, fapl, fcpl, swmr)\u001b[0m\n\u001b[1;32m    193\u001b[0m         \u001b[0;32mif\u001b[0m \u001b[0mswmr\u001b[0m \u001b[0;32mand\u001b[0m \u001b[0mswmr_support\u001b[0m\u001b[0;34m:\u001b[0m\u001b[0;34m\u001b[0m\u001b[0;34m\u001b[0m\u001b[0m\n\u001b[1;32m    194\u001b[0m             \u001b[0mflags\u001b[0m \u001b[0;34m|=\u001b[0m \u001b[0mh5f\u001b[0m\u001b[0;34m.\u001b[0m\u001b[0mACC_SWMR_READ\u001b[0m\u001b[0;34m\u001b[0m\u001b[0;34m\u001b[0m\u001b[0m\n\u001b[0;32m--> 195\u001b[0;31m         \u001b[0mfid\u001b[0m \u001b[0;34m=\u001b[0m \u001b[0mh5f\u001b[0m\u001b[0;34m.\u001b[0m\u001b[0mopen\u001b[0m\u001b[0;34m(\u001b[0m\u001b[0mname\u001b[0m\u001b[0;34m,\u001b[0m \u001b[0mflags\u001b[0m\u001b[0;34m,\u001b[0m \u001b[0mfapl\u001b[0m\u001b[0;34m=\u001b[0m\u001b[0mfapl\u001b[0m\u001b[0;34m)\u001b[0m\u001b[0;34m\u001b[0m\u001b[0;34m\u001b[0m\u001b[0m\n\u001b[0m\u001b[1;32m    196\u001b[0m     \u001b[0;32melif\u001b[0m \u001b[0mmode\u001b[0m \u001b[0;34m==\u001b[0m \u001b[0;34m'r+'\u001b[0m\u001b[0;34m:\u001b[0m\u001b[0;34m\u001b[0m\u001b[0;34m\u001b[0m\u001b[0m\n\u001b[1;32m    197\u001b[0m         \u001b[0mfid\u001b[0m \u001b[0;34m=\u001b[0m \u001b[0mh5f\u001b[0m\u001b[0;34m.\u001b[0m\u001b[0mopen\u001b[0m\u001b[0;34m(\u001b[0m\u001b[0mname\u001b[0m\u001b[0;34m,\u001b[0m \u001b[0mh5f\u001b[0m\u001b[0;34m.\u001b[0m\u001b[0mACC_RDWR\u001b[0m\u001b[0;34m,\u001b[0m \u001b[0mfapl\u001b[0m\u001b[0;34m=\u001b[0m\u001b[0mfapl\u001b[0m\u001b[0;34m)\u001b[0m\u001b[0;34m\u001b[0m\u001b[0;34m\u001b[0m\u001b[0m\n",
      "\u001b[0;32mh5py/_objects.pyx\u001b[0m in \u001b[0;36mh5py._objects.with_phil.wrapper\u001b[0;34m()\u001b[0m\n",
      "\u001b[0;32mh5py/_objects.pyx\u001b[0m in \u001b[0;36mh5py._objects.with_phil.wrapper\u001b[0;34m()\u001b[0m\n",
      "\u001b[0;32mh5py/h5f.pyx\u001b[0m in \u001b[0;36mh5py.h5f.open\u001b[0;34m()\u001b[0m\n",
      "\u001b[0;31mFileNotFoundError\u001b[0m: [Errno 2] Unable to open file (unable to open file: name = '/run/user/1000/gvfs/smb-share:server=lowe-sn00.biochem.ucl.ac.uk,share=lowegrp/Data/Manasi/MK0000/Pos0/gfp_tracks.h5', errno = 2, error message = 'No such file or directory', flags = 0, o_flags = 0)"
     ]
    }
   ],
   "source": [
    "for pos in pos_list:\n",
    "    print('starting', pos)\n",
    "    tracks_path = os.path.join(expt_root_folder,'{}/{}/gfp_tracks.h5'.format(expt, pos))\n",
    "\n",
    "    with btrack.dataio.HDF5FileHandler(tracks_path, 'r', obj_type = \"obj_type_1\") as hdf:\n",
    "        wt_tracks = hdf.tracks\n",
    "\n",
    "    ### filter tracks that should contain a full cell cycle in (1 timepoint/frame = 4min, cc time approx 200 frames based on quick look)\n",
    "    long_tracks = [track for track in wt_tracks if len(track) > 200]\n",
    "\n",
    "    ### filter tracks that spend a lot of time out of focus\n",
    "    tracks = [track for track in long_tracks if track.t[-1] < focal_time_range[1]]\n",
    "\n",
    "    ### show number of filtered tracks\n",
    "    print('number of glimpses to be generated:', len(tracks))\n",
    "\n",
    "    ### find images and set output\n",
    "    image_folder = os.path.join(expt_root_folder,expt, pos, pos+'_stacks')\n",
    "    output_dir = '/home/nathan/data/kraken/pcna/glimpses/{}/{}'.format(expt, pos)\n",
    "\n",
    "    for channel in channels:\n",
    "        ### load images\n",
    "        print('Loading image channel', channel)\n",
    "        images = imread(os.path.join(image_folder, 'channel{}.tif'.format(channel)))\n",
    "        print('Image loaded')\n",
    "        ### create output directory\n",
    "        output_ch_dir = os.path.join(output_dir, 'channel'+channel)\n",
    "        Path(output_ch_dir).mkdir(parents=True, exist_ok=True)\n",
    "        #os.mkdir(output_ch_dir) if os.path.exists(output_ch_dir) == False else print(output_ch_dir, 'already exists')\n",
    "\n",
    "        for cell in tqdm(tracks):\n",
    "            try:\n",
    "                ### get length of track/glimpse \n",
    "                length = range(cell.t[0], cell.t[-1])\n",
    "                ### get the xy coords of track/glimpse \n",
    "                y, x = cell.x, cell.y #### WHY IS THE COORDINATES TRANSPOSED???? \n",
    "\n",
    "                ### iterate over all frames cropping\n",
    "                for j, i in enumerate(length): ## need to have something that solves skipped frames # not including the last frame bc list index out of range ie there is one more i than there\n",
    "                    ### obtain correct frame\n",
    "                    image = images[i]\n",
    "                    ### obtain coordinates of bounding box of glimpse (centered on cell)\n",
    "                    x1, x2, y1, y2 = x[j], x[j]+200, y[j], y[j]+200 #coordinates to crop by, shifted bearing in mind a further coord shift (+100,+100) occurs due to image padding            \n",
    "                    ### pad image incase cell goes off FOV\n",
    "                    image = np.pad(image, 100, 'constant', constant_values = 0) \n",
    "                    ## glimpse creation by cropping original image\n",
    "                    glimpse = image[int(x1): int(x2), int(y1): int(y2)]\n",
    "                    ### fraction of track this frame is at\n",
    "                    age = round(i/cell.t[-1],3) \n",
    "                    fn = 'cell_ID_' + str(cell.ID) + '_channel' + channel + '_t{}_age{}.tif'.format(i, age)\n",
    "                    ### glimpse output\n",
    "                    imsave(os.path.join(output_ch_dir, fn), glimpse) \n",
    "                print('cell ID',cell.ID, 'glimpse saved')\n",
    "\n",
    "            except:\n",
    "                print(cell.ID, 'failed to produce glimpse')\n"
   ]
  },
  {
   "cell_type": "markdown",
   "metadata": {},
   "source": [
    "# old method (needs a rewrite)"
   ]
  },
  {
   "cell_type": "code",
   "execution_count": null,
   "metadata": {},
   "outputs": [],
   "source": [
    "import matplotlib.pyplot as plt\n",
    "import numpy as np\n",
    "import pandas as pd\n",
    "import os, re\n",
    "from scipy import ndimage\n",
    "from skimage.io import imshow, imsave, imread #used to be from skimage import io\n",
    "from sklearn import preprocessing\n",
    "from matplotlib import animation\n",
    "from natsort import natsorted\n",
    "from pathlib import Path\n",
    "#from skimage.external import tifffile\n",
    "import tifffile\n",
    "from btrack.dataio import HDF5FileHandler\n",
    "import glob\n",
    "from tensorflow.python.keras.models import Model, load_model\n",
    "import json\n",
    "import zipfile\n",
    "import scipy\n",
    "from scipy.spatial import KDTree\n",
    "from skimage.transform import resize\n",
    "from multiprocessing import Pool\n",
    "from skimage.external import tifffile\n",
    "import warnings\n",
    "warnings.filterwarnings('ignore')"
   ]
  },
  {
   "cell_type": "markdown",
   "metadata": {},
   "source": [
    "### Tiff virtual stack functions"
   ]
  },
  {
   "cell_type": "code",
   "execution_count": null,
   "metadata": {},
   "outputs": [],
   "source": [
    "class VirtualTiffStack:\n",
    "    def __init__(self, folder, channel_name):\n",
    "        self.folder = folder \n",
    "        self.channel_name = channel_name\n",
    "        # find the files and store them\n",
    "        self.files = natsorted([file for file in os.listdir(os.path.join(self.folder, self.channel_name)) if file.endswith('.tif')])\n",
    "        self.glimpse = [] ### would this work like this?????\n",
    "    def __getitem__(self, idx):\n",
    "        return tifffile.imread(os.path.join(self.folder, self.channel_name, self.files[idx]))\n",
    "    def __len__(self):\n",
    "        return len(self.files) ### what this do?\n",
    "\n",
    "def str_convert(string): \n",
    "    li = list(string.split(\", \")) \n",
    "    return li "
   ]
  },
  {
   "cell_type": "markdown",
   "metadata": {},
   "source": [
    "### Directory definitions"
   ]
  },
  {
   "cell_type": "code",
   "execution_count": null,
   "metadata": {},
   "outputs": [],
   "source": [
    "mask_version = 'cellpose_nuclear_3'\n",
    "#mask_version = 'cellpose_nuclear'\n",
    "path = '/home/nathan/data/SHARC/fucci/fucci1_171201/'\n",
    "path = '/home/nathan/data/kraken/fucci/2017_10_18/pos16'\n",
    "gfp_stack = VirtualTiffStack(path, channel_name = 'gfp')\n",
    "rfp_stack = VirtualTiffStack(path, channel_name = 'rfp')\n",
    "channels = ['gfp', 'rfp']#, 'phase']\n",
    "glimpses_folder = os.path.join(path,'glimpses')\n",
    "Path(glimpses_folder).mkdir(parents=True, exist_ok=True) ## create glimpse folder\n",
    "if 'phase' in channels: ## this just adds a phase channel for sharc data\n",
    "    phase_stack = VirtualTiffStack(path, channel_name = 'phase')"
   ]
  },
  {
   "cell_type": "markdown",
   "metadata": {},
   "source": [
    "### Load tracking data"
   ]
  },
  {
   "cell_type": "code",
   "execution_count": null,
   "metadata": {
    "scrolled": true
   },
   "outputs": [],
   "source": [
    "tracks_file = path+'/tracks/'+ mask_version + '.h5' ### should it be hdf5?\n",
    "with HDF5FileHandler(tracks_file) as h:\n",
    "    tracks = h.tracks[0] ### only loading 'WT' cells at the moment, hence h.tracks[0]\n",
    "track_IDs = natsorted([track.ID for track in tracks]) #if len(track) > 400]) does this criterion mess with trackID indexing?\n",
    "#print(track_IDs) ### CAN PUT CRITERION HERE ### for finding tracks of only certain length etc"
   ]
  },
  {
   "cell_type": "code",
   "execution_count": null,
   "metadata": {},
   "outputs": [],
   "source": [
    "for i, j in enumerate(tracks):\n",
    "    print(i, tracks[i].ID, \"ID length is\", len(tracks[i]))"
   ]
  },
  {
   "cell_type": "markdown",
   "metadata": {},
   "source": [
    "# Glimpse rgb composite creation"
   ]
  },
  {
   "cell_type": "code",
   "execution_count": null,
   "metadata": {},
   "outputs": [],
   "source": [
    "print(\"Input cell ID\") ### prompt for which cell(s) you want glimpses for\n",
    "cells=str_convert(input())\n",
    "for cell in cells:\n",
    "    print('Cell ID', cell, 'START')\n",
    "    track = tracks[[i for i, j in enumerate(tracks) if tracks[i].ID == int(cell)][0]] #this list comprehension correctly picks out the index of the track of track_ID = cell\n",
    "    t, x, y = track.t, track.x, track.y\n",
    "    t = range(min(t),len(t)) ### i believe this solves the skipped frame dilemma by redefining t as being continous in the range of t, as xy are continous??? \n",
    "    glimpse_folder = os.path.join(glimpses_folder, 'cell_ID_'+ cell) ## glimpse(not plural) folder for individual cell glimpse\n",
    "    Path(glimpse_folder).mkdir(parents=True, exist_ok=True) ## create glimpse folder\n",
    "\n",
    "    for channel in channels: \n",
    "        \n",
    "        channel_folder = os.path.join(glimpse_folder, channel)\n",
    "        Path(channel_folder).mkdir(parents=True, exist_ok=True) ## create channel folder\n",
    "        if channel == 'phase': \n",
    "            images = phase_stack#[i]\n",
    "        if channel == 'gfp': \n",
    "            images = gfp_stack#[i]   ### select relevant channel image stack\n",
    "        if channel == 'rfp': \n",
    "            images = rfp_stack#[i]\n",
    "        for j, i in enumerate(t): ## need to have something that solves skipped frames # not including the last frame bc list index out of range ie there is one more i than there\n",
    "            image = images[i]\n",
    "            x1, x2, y1, y2 = x[j], x[j]+200, y[j], y[j]+200 #coordinates to crop by, shifted bearing in mind a further coord shift (+100,+100) occurs due to image padding            \n",
    "            image = np.pad(image, 100, 'constant', constant_values = 0) \n",
    "            glimpse = image[int(x1): int(x2), int(y1): int(y2)] ## glimpse creation by cropping original image\n",
    "            fn = 'cell_ID_' + cell + '_' + channel + '_t{}.tif'.format(i)\n",
    "            imsave(os.path.join(channel_folder, fn), glimpse) ### glimpse output\n",
    "        print(channel, 'glimpse saved')\n",
    "    #print('Glimpse cell_ID ', cell, ' saved')\n",
    "\n",
    "    gfp_list = natsorted([m for m in os.listdir(os.path.join(glimpse_folder, 'gfp')) if m.endswith('.tif')]) # collect images\n",
    "    rfp_list = natsorted([m for m in os.listdir(os.path.join(glimpse_folder, 'rfp')) if m.endswith('.tif')])\n",
    "    for green, red in zip(gfp_list, rfp_list): \n",
    "        image_g = imread(os.path.join(glimpse_folder, 'gfp', green)).astype('uint16')\n",
    "        image_r = imread(os.path.join(glimpse_folder, 'rfp', red)).astype('uint16')\n",
    "        M, N = image_g.shape\n",
    "        rgb = np.zeros((M,N,3), dtype = 'uint16') #creating an zero matrix of MxNx3 to hold the rgb images\n",
    "        rgb[:,:,0] = image_r\n",
    "        rgb[:,:,1] = image_g\n",
    "\n",
    "        rgb_output_dir = os.path.join(glimpse_folder, 'rgb')\n",
    "        Path(rgb_output_dir).mkdir(parents=True, exist_ok=True)\n",
    "        fn = green.replace('gfp','rgb')\n",
    "        imsave(os.path.join(rgb_output_dir, fn), rgb)\n",
    "    stack_fn = 'Cell_ID_' + cell + '_rgb.tif'\n",
    "    with tifffile.TiffWriter(os.path.join(glimpse_folder, stack_fn)) as stack: #output path\n",
    "        file_list = natsorted([file for file in os.listdir(rgb_output_dir) if file.endswith('.tif')])\n",
    "        for filename in file_list:\n",
    "            stack.save(tifffile.imread(os.path.join(rgb_output_dir, filename)))\n",
    "        print(stack_fn, \"SAVED AS TIFF STACK\")"
   ]
  },
  {
   "cell_type": "markdown",
   "metadata": {},
   "source": [
    "# Glimpse creation"
   ]
  },
  {
   "cell_type": "code",
   "execution_count": null,
   "metadata": {
    "scrolled": true
   },
   "outputs": [],
   "source": [
    "print(\"Input cell ID\") ### prompt for which cell(s) you want glimpses for\n",
    "cells=str_convert(input())\n",
    "for cell in cells:\n",
    "    track = tracks[[i for i, j in enumerate(tracks) if tracks[i].ID == int(cell)][0]] #this list comprehension correctly picks out the index of the track of track_ID = cell\n",
    "    t, x, y = track.t, track.x, track.y\n",
    "    t = range(min(t),len(t)) ### i believe this solves the skipped frame dilemma by redefining t as being continous in the range of t, as xy are continous??? \n",
    "    glimpse_folder = os.path.join(glimpses_folder, 'cell_ID_'+ cell) ## glimpse(not plural) folder for individual cell glimpse\n",
    "    Path(glimpse_folder).mkdir(parents=True, exist_ok=True) ## create glimpse folder\n",
    "\n",
    "    for channel in channels: \n",
    "        channel_folder = os.path.join(glimpse_folder, channel)\n",
    "        Path(channel_folder).mkdir(parents=True, exist_ok=True) ## create channel folder\n",
    "        if channel == 'phase': \n",
    "            images = phase_stack#[i]\n",
    "        if channel == 'gfp': \n",
    "            images = gfp_stack#[i]   ### select relevant channel image stack\n",
    "        if channel == 'rfp': \n",
    "            images = rfp_stack#[i]\n",
    "        for j, i in enumerate(t): ## need to have something that solves skipped frames # not including the last frame bc list index out of range ie there is one more i than there\n",
    "            image = images[i]\n",
    "            x1, x2, y1, y2 = x[j], x[j]+200, y[j], y[j]+200 #coordinates to crop by, shifted bearing in mind a further coord shift (+100,+100) occurs due to image padding\n",
    "            image = np.pad(image, 100, 'constant', constant_values = 0) \n",
    "            glimpse = image[int(x1): int(x2), int(y1): int(y2)] ## glimpse creation by cropping original image\n",
    "            fn = 'cell_ID_' + cell + '_' + channel + '_t{}.tif'.format(i)\n",
    "            imsave(os.path.join(channel_folder, fn), glimpse) ### glimpse output\n",
    "    print('Glimpse cell_ID ', cell, ' saved')"
   ]
  },
  {
   "cell_type": "markdown",
   "metadata": {},
   "source": [
    "# Make rgb composite"
   ]
  },
  {
   "cell_type": "code",
   "execution_count": null,
   "metadata": {},
   "outputs": [],
   "source": [
    "print(\"Input cell ID\") ### prompt for which cell(s) you want glimpses for\n",
    "cell=(input())\n",
    "glimpse_folder = os.path.join(glimpses_folder, 'cell_ID_'+ cell) ## glimpse(not plural) folder for individual cell glimpse\n",
    "gfp_list = natsorted([m for m in os.listdir(os.path.join(glimpse_folder, 'gfp')) if m.endswith('.tif')])\n",
    "rfp_list = natsorted([m for m in os.listdir(os.path.join(glimpse_folder, 'rfp')) if m.endswith('.tif')])\n",
    "for green, red in zip(gfp_list, rfp_list): \n",
    "    image_g = imread(os.path.join(glimpse_folder, 'gfp', green)).astype('uint16')\n",
    "    image_r = imread(os.path.join(glimpse_folder, 'rfp', red)).astype('uint16')\n",
    "    if skipped_frames == True: \n",
    "        if image_g.max() != 255: \n",
    "            image_g = np.ones(image_g.shape)\n",
    "            print(green, 'turned to ones')\n",
    "        if image_r.max() != 255: \n",
    "            image_r = np.ones(image_r.shape)\n",
    "            print(red, 'turned to ones')\n",
    "    M, N = image_g.shape\n",
    "    rgb = np.zeros((M,N,3), dtype = 'uint16') #creating an zero matrix of MxNx3 to hold the rgb images\n",
    "    rgb[:,:,0] = image_r\n",
    "    rgb[:,:,1] = image_g\n",
    "\n",
    "    rgb_output_dir = os.path.join(glimpse_folder, 'rgb')\n",
    "    Path(rgb_output_dir).mkdir(parents=True, exist_ok=True)\n",
    "    fn = green.replace('gfp','rgb')\n",
    "    imsave(os.path.join(rgb_output_dir, fn), rgb)\n",
    "stack_fn = 'Cell_ID_' + cell + '_rgb.tif'\n",
    "with tifffile.TiffWriter(os.path.join(glimpse_folder, stack_fn)) as stack: #output path\n",
    "    file_list = natsorted([file for file in os.listdir(rgb_output_dir) if file.endswith('.tif')])\n",
    "    for filename in file_list:\n",
    "        stack.save(tifffile.imread(os.path.join(rgb_output_dir, filename)))\n",
    "    print(stack_fn, \"SAVED AS TIFF STACK\")"
   ]
  },
  {
   "cell_type": "markdown",
   "metadata": {},
   "source": [
    "# Legacy glimpse creation and output as composite TIFF with no padding"
   ]
  },
  {
   "cell_type": "code",
   "execution_count": null,
   "metadata": {},
   "outputs": [],
   "source": [
    "print(\"Input cell ID\") ### prompt for which cell(s) you want glimpses for\n",
    "cells=str_convert(input())\n",
    "for cell in cells:\n",
    "    track = tracks[[i for i, j in enumerate(tracks) if tracks[i].ID == int(cell)][0]] #this list comprehension correctly picks out the index of the track of track_ID = cell\n",
    "    t, x, y = track.t, track.x, track.y\n",
    "    t = range(min(t),len(t)) ### i believe this solves the skipped frame dilemma by redefining t as being continous in the range of t, as xy are continous??? \n",
    "    glimpse_folder = os.path.join(glimpses_folder, 'cell_ID_'+ cell) ## glimpse(not plural) folder for individual cell glimpse\n",
    "    Path(glimpse_folder).mkdir(parents=True, exist_ok=True) ## create glimpse folder\n",
    "\n",
    "    for channel in channels: \n",
    "        print(channel)\n",
    "        channel_folder = os.path.join(glimpse_folder, channel)\n",
    "        Path(channel_folder).mkdir(parents=True, exist_ok=True) ## create channel folder\n",
    "        if channel == 'phase': \n",
    "            images = phase_stack#[i]\n",
    "        if channel == 'gfp': \n",
    "            images = gfp_stack#[i]   ### select relevant channel image stack\n",
    "        if channel == 'rfp': \n",
    "            images = rfp_stack#[i]\n",
    "        for j, i in enumerate(t): ## need to have something that solves skipped frames # not including the last frame bc list index out of range ie there is one more i than there\n",
    "            image = images[i]\n",
    "            x1, x2, y1, y2 = x[j]-100, x[j]+100, y[j]-100, y[j]+100 #coordinates to crop by \n",
    "            if x1 < 0:\n",
    "                x1 = 0\n",
    "            if x2 < 0:\n",
    "                x2 = 0   ### this just crops the glimpse further if the ROI coordinates go negative\n",
    "            if y1 < 0:\n",
    "                y1 = 0\n",
    "            if y2 < 0:\n",
    "                y2 = 0\n",
    "                \n",
    "            #add image padding here\n",
    "            image = np.pad(image, 100, 'constant', constant_values = 0) \n",
    "\n",
    "            glimpse = image[int(x1): int(x2), int(y1): int(y2)] ## glimpse creation by cropping original image\n",
    "            fn = 'cell_ID_' + cell + '_' + channel + '_t{}.tif'.format(i)\n",
    "            imsave(os.path.join(channel_folder, fn), glimpse) ### glimpse output\n",
    "    print('Glimpse cell_ID ', cell, ' saved')\n",
    "\n",
    "    gfp_list = natsorted([m for m in os.listdir(os.path.join(glimpse_folder, 'gfp')) if m.endswith('.tif')]) # collect images\n",
    "    rfp_list = natsorted([m for m in os.listdir(os.path.join(glimpse_folder, 'rfp')) if m.endswith('.tif')])\n",
    "    for green, red in zip(gfp_list, rfp_list): \n",
    "        image_g = imread(os.path.join(glimpse_folder, 'gfp', green))\n",
    "        image_r = imread(os.path.join(glimpse_folder, 'rfp', red))\n",
    "\n",
    "        if image_g.max() != 255: \n",
    "            image_g = np.ones(image_g.shape) # these conditionals put dummy images in blank frames\n",
    "        if image_r.max() != 255: \n",
    "            image_r = np.ones(image_r.shape)\n",
    "\n",
    "        imshow(image_g, cmap = 'Greens')\n",
    "        imshow(image_r, cmap = 'Reds', alpha = 0.5)\n",
    "        rgb_output_dir = os.path.join(glimpse_folder, 'rgb') # this block saves out the individual composite frames\n",
    "        Path(rgb_output_dir).mkdir(parents=True, exist_ok=True)\n",
    "        fn = green.replace('gfp','rgb')\n",
    "        plt.savefig(os.path.join(rgb_output_dir, fn))\n",
    "\n",
    "    stack_fn = 'Cell_ID_' + cell + '_rgb.tif'\n",
    "    with tifffile.TiffWriter(os.path.join(glimpse_folder, stack_fn)) as stack: # this block merges the composites frames into a stacked tiff\n",
    "        file_list = natsorted([file for file in os.listdir(rgb_output_dir) if file.endswith('.tif')])\n",
    "        for filename in file_list:\n",
    "            stack.save(tifffile.imread(os.path.join(rgb_output_dir, filename)))\n",
    "        print(stack_fn, \"saved as tiff stack\")"
   ]
  },
  {
   "cell_type": "markdown",
   "metadata": {},
   "source": [
    "# sandbox\n",
    "to do: \n",
    "- ~glimpse padding~\n",
    "- ~rgb composite~"
   ]
  },
  {
   "cell_type": "code",
   "execution_count": null,
   "metadata": {},
   "outputs": [],
   "source": [
    "green = gfp_list[0]\n",
    "red = rfp_list[0]\n",
    "image_g = imread(os.path.join(glimpse_folder, 'gfp', green)).astype('uint16')\n",
    "image_r = imread(os.path.join(glimpse_folder, 'rfp', red)).astype('uint16')\n",
    "print(green)\n",
    "print(type(image_g[100,100]))\n",
    "imshow(image_r)#"
   ]
  },
  {
   "cell_type": "code",
   "execution_count": null,
   "metadata": {
    "scrolled": true
   },
   "outputs": [],
   "source": [
    "\n",
    "image_g = imread('gfp.tif').astype('uint16') # green image\n",
    "image_r = imread('rfp.tif').astype('uint16') # red image\n",
    "M, N = image_r.shape\n",
    "rgb = np.zeros((M,N,3), dtype = 'uint16')   # empty rgb image of MxNx3 dimenesions\n",
    "rgb[:,:,0] = image_r                        #add the red image to the MxNx0th (red) channel \n",
    "rgb[:,:,1] = image_g                        #add the green image to the MxNx1st (green) channel\n",
    "imshow(rgb)\n",
    "imsave('rgb.tif', rgb)"
   ]
  }
 ],
 "metadata": {
  "kernelspec": {
   "display_name": "py3.9",
   "language": "python",
   "name": "py3.9"
  },
  "language_info": {
   "codemirror_mode": {
    "name": "ipython",
    "version": 3
   },
   "file_extension": ".py",
   "mimetype": "text/x-python",
   "name": "python",
   "nbconvert_exporter": "python",
   "pygments_lexer": "ipython3",
   "version": "3.9.4"
  }
 },
 "nbformat": 4,
 "nbformat_minor": 4
}
