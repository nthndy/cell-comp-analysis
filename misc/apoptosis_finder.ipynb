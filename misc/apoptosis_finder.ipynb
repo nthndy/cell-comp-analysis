{
 "cells": [
  {
   "cell_type": "markdown",
   "metadata": {},
   "source": [
    "# Completementary apoptosis finder for the Harvest_Apoptoses notebook"
   ]
  },
  {
   "cell_type": "code",
   "execution_count": 1,
   "metadata": {},
   "outputs": [],
   "source": [
    "expt_list = ['GV0794/Pos4',\n",
    " 'GV0794/Pos7',\n",
    " 'GV0794/Pos16',\n",
    " 'GV0795/Pos4',\n",
    " 'GV0795/Pos7',\n",
    " 'GV0795/Pos17',\n",
    " 'GV0796/Pos4',\n",
    " 'GV0796/Pos7',\n",
    " 'GV0796/Pos21',\n",
    " 'GV0796/Pos22',\n",
    " 'GV0797/Pos4',\n",
    " 'GV0797/Pos7',\n",
    " 'GV0797/Pos20',\n",
    " 'GV0797/Pos21',\n",
    " 'GV0798/Pos4',\n",
    " 'GV0798/Pos7',\n",
    " 'GV0798/Pos20',\n",
    " 'GV0798/Pos21',\n",
    " 'GV0800/Pos4',\n",
    " 'GV0800/Pos7',\n",
    " 'GV0800/Pos16',\n",
    " 'GV0801/Pos4',\n",
    " 'GV0802/Pos4',\n",
    " 'GV0804/Pos4',\n",
    " 'GV0805/Pos4',\n",
    " 'GV0806/Pos4',\n",
    " 'GV0807/Pos4']"
   ]
  },
  {
   "cell_type": "code",
   "execution_count": 2,
   "metadata": {},
   "outputs": [
    {
     "data": {
      "text/plain": [
       "['GV0794', 'Pos4']"
      ]
     },
     "execution_count": 2,
     "metadata": {},
     "output_type": "execute_result"
    }
   ],
   "source": [
    "'GV0794/Pos4'.split('/')"
   ]
  }
 ],
 "metadata": {
  "kernelspec": {
   "display_name": "Python 3",
   "language": "python",
   "name": "python3"
  },
  "language_info": {
   "codemirror_mode": {
    "name": "ipython",
    "version": 3
   },
   "file_extension": ".py",
   "mimetype": "text/x-python",
   "name": "python",
   "nbconvert_exporter": "python",
   "pygments_lexer": "ipython3",
   "version": "3.7.6"
  }
 },
 "nbformat": 4,
 "nbformat_minor": 4
}
