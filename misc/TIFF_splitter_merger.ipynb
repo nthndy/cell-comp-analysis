{
 "cells": [
  {
   "cell_type": "markdown",
   "metadata": {},
   "source": [
    "# merge tiff files into stack"
   ]
  },
  {
   "cell_type": "code",
   "execution_count": null,
   "metadata": {},
   "outputs": [],
   "source": [
    "from skimage.external import tifffile\n",
    "import os\n",
    "from natsort import natsorted\n",
    "with tifffile.TiffWriter('/home/nathan/data/fucci/fucci1_171201/segmented_v5.2.tif') as stack: #output path\n",
    "    path = '/home/nathan/data/fucci/fucci1_171201/other_mask_data/labels_v5.2/segmented' #input path\n",
    "    file_list = natsorted([file for file in os.listdir(path) if file.endswith('.tif')])\n",
    "    for filename in file_list:\n",
    "        stack.save(tifffile.imread(os.path.join(path, filename)))\n",
    "    print(file_list, \"SAVED AS TIFF STACK\")"
   ]
  },
  {
   "cell_type": "markdown",
   "metadata": {},
   "source": [
    "# split tiff stacks into individual frames "
   ]
  },
  {
   "cell_type": "code",
   "execution_count": 21,
   "metadata": {},
   "outputs": [
    {
     "name": "stdout",
     "output_type": "stream",
     "text": [
      "1026\n",
      "FIN\n"
     ]
    }
   ],
   "source": [
    "from PIL import Image\n",
    "from pathlib import Path\n",
    "import os\n",
    "path = '/home/nathan/data/h2b/180522/'\n",
    "output_dir = 'phase'\n",
    "image_fn = '180522_phase_16bit.tif'\n",
    "output = os.path.join(path, output_dir)\n",
    "Path(output).mkdir(parents=True, exist_ok=True)\n",
    "image_path = os.path.join(path, image_fn)\n",
    "img = Image.open(image_path)\n",
    "img.load()\n",
    "print(img.n_frames)\n",
    "for i in range(img.n_frames):\n",
    "    try:\n",
    "        img.seek(i)\n",
    "        img.save(os.path.join(output, output_dir+'_%s.tif'%(i,)))\n",
    "    except EOFError:\n",
    "        break\n",
    "print(\"FIN\")\n"
   ]
  }
 ],
 "metadata": {
  "kernelspec": {
   "display_name": "Python 3",
   "language": "python",
   "name": "python3"
  },
  "language_info": {
   "codemirror_mode": {
    "name": "ipython",
    "version": 3
   },
   "file_extension": ".py",
   "mimetype": "text/x-python",
   "name": "python",
   "nbconvert_exporter": "python",
   "pygments_lexer": "ipython3",
   "version": "3.7.6"
  }
 },
 "nbformat": 4,
 "nbformat_minor": 4
}
