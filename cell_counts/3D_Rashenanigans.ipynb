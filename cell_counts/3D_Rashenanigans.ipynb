{
 "cells": [
  {
   "cell_type": "code",
   "execution_count": 11,
   "id": "116354c2",
   "metadata": {},
   "outputs": [],
   "source": [
    "import os"
   ]
  },
  {
   "cell_type": "code",
   "execution_count": 5,
   "id": "0ab4567c",
   "metadata": {},
   "outputs": [
    {
     "data": {
      "text/plain": [
       "'0.4.11'"
      ]
     },
     "execution_count": 5,
     "metadata": {},
     "output_type": "execute_result"
    }
   ],
   "source": [
    "import napari\n",
    "napari.__version__"
   ]
  },
  {
   "cell_type": "code",
   "execution_count": 4,
   "id": "055c762b",
   "metadata": {},
   "outputs": [],
   "source": [
    "from octopuslite import DaskOctopusLiteLoader"
   ]
  },
  {
   "cell_type": "markdown",
   "id": "f2143dff",
   "metadata": {},
   "source": [
    "#### check single expt pos masks"
   ]
  },
  {
   "cell_type": "code",
   "execution_count": 17,
   "id": "89f72097",
   "metadata": {},
   "outputs": [],
   "source": [
    "experiment_dir = '/home/nathan/data/kraken/ras/ND0013_z/Pos7'"
   ]
  },
  {
   "cell_type": "code",
   "execution_count": 18,
   "id": "b96948ec",
   "metadata": {},
   "outputs": [
    {
     "data": {
      "text/plain": [
       "['img_channel003_position007_time000000000_z010.tif',\n",
       " 'img_channel002_position007_time000000000_z020.tif',\n",
       " 'img_channel001_position007_time000000000_z010.tif',\n",
       " 'img_channel000_position007_time000000000_z015.tif',\n",
       " 'img_channel002_position007_time000000000_z025.tif',\n",
       " 'img_channel003_position007_time000000000_z000.tif',\n",
       " 'img_channel000_position007_time000000000_z010.tif',\n",
       " 'img_channel000_position007_time000000000_z000.tif',\n",
       " 'img_channel000_position007_time000000000_z020.tif',\n",
       " 'img_channel002_position007_time000000000_z015.tif',\n",
       " 'img_channel001_position007_time000000000_z025.tif',\n",
       " 'img_channel001_position007_time000000000_z015.tif',\n",
       " 'img_channel000_position007_time000000000_z025.tif',\n",
       " 'img_channel003_position007_time000000000_z025.tif',\n",
       " 'img_channel000_position007_time000000000_z005.tif',\n",
       " 'img_channel002_position007_time000000000_z010.tif',\n",
       " 'img_channel001_position007_time000000000_z000.tif',\n",
       " 'img_channel003_position007_time000000000_z020.tif',\n",
       " 'img_channel003_position007_time000000000_z005.tif',\n",
       " 'img_channel003_position007_time000000000_z015.tif',\n",
       " 'img_channel002_position007_time000000000_z000.tif',\n",
       " 'img_channel001_position007_time000000000_z020.tif',\n",
       " 'img_channel002_position007_time000000000_z005.tif',\n",
       " 'img_channel001_position007_time000000000_z005.tif']"
      ]
     },
     "execution_count": 18,
     "metadata": {},
     "output_type": "execute_result"
    }
   ],
   "source": [
    "os.listdir(experiment_dir)"
   ]
  },
  {
   "cell_type": "code",
   "execution_count": 42,
   "id": "dffec481",
   "metadata": {},
   "outputs": [],
   "source": [
    "from skimage.io import imread\n",
    "import numpy as np\n",
    "from natsort import natsorted"
   ]
  },
  {
   "cell_type": "code",
   "execution_count": 46,
   "id": "f3da20ce",
   "metadata": {},
   "outputs": [],
   "source": [
    "imgs = []\n",
    "for fn in natsorted(os.listdir(experiment_dir)):\n",
    "    if 'channel001' in fn:\n",
    "        img = imread(os.path.join(experiment_dir, fn))\n",
    "        imgs.append(img)\n",
    "gfp_imgs = np.stack(imgs)"
   ]
  },
  {
   "cell_type": "code",
   "execution_count": 47,
   "id": "8ada5c9b",
   "metadata": {},
   "outputs": [],
   "source": [
    "imgs = []\n",
    "for fn in natsorted(os.listdir(experiment_dir)):\n",
    "    if 'channel002' in fn:\n",
    "        img = imread(os.path.join(experiment_dir, fn))\n",
    "        imgs.append(img)\n",
    "rfp_imgs = np.stack(imgs)"
   ]
  },
  {
   "cell_type": "code",
   "execution_count": 48,
   "id": "b61438e3",
   "metadata": {},
   "outputs": [],
   "source": [
    "imgs = []\n",
    "for fn in natsorted(os.listdir(experiment_dir)):\n",
    "    if 'channel003' in fn:\n",
    "        img = imread(os.path.join(experiment_dir, fn))\n",
    "        imgs.append(img)\n",
    "irfp_imgs = np.stack(imgs)"
   ]
  },
  {
   "cell_type": "code",
   "execution_count": 44,
   "id": "1c788de9",
   "metadata": {},
   "outputs": [
    {
     "data": {
      "text/plain": [
       "(6, 1352, 1688)"
      ]
     },
     "execution_count": 44,
     "metadata": {},
     "output_type": "execute_result"
    }
   ],
   "source": [
    "imgs.shape"
   ]
  },
  {
   "cell_type": "code",
   "execution_count": 49,
   "id": "3bcb80db",
   "metadata": {},
   "outputs": [
    {
     "data": {
      "text/plain": [
       "<Image layer 'gfp_imgs' at 0x7f13a920f100>"
      ]
     },
     "execution_count": 49,
     "metadata": {},
     "output_type": "execute_result"
    },
    {
     "name": "stderr",
     "output_type": "stream",
     "text": [
      "Exception in callback BaseAsyncIOLoop._handle_events(252, 1)\n",
      "handle: <Handle BaseAsyncIOLoop._handle_events(252, 1)>\n",
      "Traceback (most recent call last):\n",
      "  File \"/home/nathan/analysis/miniconda3/envs/cellx/lib/python3.9/asyncio/events.py\", line 80, in _run\n",
      "    self._context.run(self._callback, *self._args)\n",
      "  File \"/home/nathan/analysis/miniconda3/envs/cellx/lib/python3.9/site-packages/tornado/platform/asyncio.py\", line 189, in _handle_events\n",
      "    handler_func(fileobj, events)\n",
      "  File \"/home/nathan/analysis/miniconda3/envs/cellx/lib/python3.9/site-packages/zmq/eventloop/zmqstream.py\", line 452, in _handle_events\n",
      "    self._handle_recv()\n",
      "  File \"/home/nathan/analysis/miniconda3/envs/cellx/lib/python3.9/site-packages/zmq/eventloop/zmqstream.py\", line 481, in _handle_recv\n",
      "    self._run_callback(callback, msg)\n",
      "  File \"/home/nathan/analysis/miniconda3/envs/cellx/lib/python3.9/site-packages/zmq/eventloop/zmqstream.py\", line 431, in _run_callback\n",
      "    callback(*args, **kwargs)\n",
      "  File \"/home/nathan/analysis/miniconda3/envs/cellx/lib/python3.9/site-packages/jupyter_client/threaded.py\", line 121, in _handle_recv\n",
      "    msg_list = self.ioloop._asyncio_event_loop.run_until_complete(get_msg(future_msg))\n",
      "  File \"/home/nathan/analysis/miniconda3/envs/cellx/lib/python3.9/asyncio/base_events.py\", line 618, in run_until_complete\n",
      "    self._check_running()\n",
      "  File \"/home/nathan/analysis/miniconda3/envs/cellx/lib/python3.9/asyncio/base_events.py\", line 580, in _check_running\n",
      "    raise RuntimeError(\n",
      "RuntimeError: Cannot run the event loop while another loop is running\n"
     ]
    }
   ],
   "source": [
    "viewer = napari.Viewer()\n",
    "viewer.add_image(irfp_imgs, blending='additive', contrast_limits=[0,255], colormap = 'cyan')\n",
    "viewer.add_image(rfp_imgs, blending='additive', contrast_limits=[0,50], colormap = 'red')\n",
    "viewer.add_image(gfp_imgs,\n",
    "    #images['gfp']\n",
    "    blending='additive', contrast_limits=[0,255], colormap = 'green')"
   ]
  },
  {
   "cell_type": "markdown",
   "id": "d49a9b71",
   "metadata": {},
   "source": [
    "##### iterate through many positions checking images"
   ]
  },
  {
   "cell_type": "code",
   "execution_count": 19,
   "id": "7402c8f4",
   "metadata": {},
   "outputs": [],
   "source": [
    "images = DaskOctopusLiteLoader(experiment_dir)"
   ]
  },
  {
   "cell_type": "code",
   "execution_count": null,
   "id": "a40ebc22",
   "metadata": {},
   "outputs": [],
   "source": [
    "expt_type = expts_control_9010 # expts_9910\n",
    "for expt in expt_type: #['ND0010']:#\n",
    "    for pos in expt_type[expt]:#[10, 11]:#\n",
    "        experiment_dir = f'{root_dir}/{expt}/Pos{pos}/Pos{pos}_images'\n",
    "        images = DaskOctopusLiteLoader(experiment_dir, crop = (1200, 1600))\n",
    "        print(experiment_dir)\n",
    "        viewer = napari.Viewer()\n",
    "        viewer.add_image(images['irfp'], blending='additive', contrast_limits=[10,110], colormap = 'green')\n",
    "        viewer.add_image(images['rfp'], blending='additive', contrast_limits=[0,50], colormap = 'red')\n",
    "        viewer.add_image(images['mask'], blending= 'additive', contrast_limits=[0,2], colormap = 'inferno', opacity = 0.5)\n",
    "        viewer.show(block=True)"
   ]
  },
  {
   "cell_type": "markdown",
   "id": "3fda3618",
   "metadata": {},
   "source": [
    "# Counting cells - filtering for expts currently segmented well"
   ]
  },
  {
   "cell_type": "markdown",
   "id": "ef1ce68d",
   "metadata": {},
   "source": [
    "object files? or images"
   ]
  },
  {
   "cell_type": "code",
   "execution_count": 22,
   "id": "f674c6af",
   "metadata": {},
   "outputs": [],
   "source": [
    "expts_9010_filt = {'ND0010':[10, 11],\n",
    "         'ND0011':[6, 7], \n",
    "         #'ND0012':[3, 4, 6, 7, 8, 9, 10],\n",
    "         #'ND0013':[3, 4, 5, 6, 7, 8, 9, 10]\n",
    "        }\n",
    "expts_9901_filt = {'ND0010':[6, 7],\n",
    "        # 'ND0011':[], \n",
    "         #'ND0012':[5],\n",
    "         #'ND0013':[]\n",
    "        }\n",
    "\n",
    "expts_control_9010_filt = {'ND0010':[8, 9],\n",
    "         'ND0011':[4, 5], \n",
    "        # 'ND0012':[1 ,2],\n",
    "         #'ND0013':[2]\n",
    "        }\n",
    "expts_control_9901_filt = {'ND0010':[4, 5],\n",
    "       #  'ND0011':[], \n",
    "        # 'ND0012':[],\n",
    "        # 'ND0013':[]\n",
    "        }"
   ]
  },
  {
   "cell_type": "code",
   "execution_count": 24,
   "id": "3eb68e2a",
   "metadata": {},
   "outputs": [],
   "source": [
    "import glob"
   ]
  },
  {
   "cell_type": "code",
   "execution_count": 26,
   "id": "b255bdfa",
   "metadata": {},
   "outputs": [],
   "source": [
    "for expt in expt_type: #['ND0010']:#\n",
    "    for pos in expt_type[expt]:#[10, 11]:#\n",
    "        obj_path = f'{root_dir}/{expt}/Pos{pos}/*object*'\n",
    "        if glob.glob(obj_path):\n",
    "            print(obj_path, 'exists')"
   ]
  },
  {
   "cell_type": "code",
   "execution_count": null,
   "id": "b95a229a",
   "metadata": {},
   "outputs": [],
   "source": [
    "for expt in expt_type: #['ND0010']:#\n",
    "    for pos in expt_type[expt]:#[10, 11]:#\n",
    "        experiment_dir = f'{root_dir}/{expt}/Pos{pos}/Pos{pos}_images'\n",
    "        images = DaskOctopusLiteLoader(experiment_dir, crop = (1200, 1600))\n",
    "        \n",
    "        masks = images['mask']\n",
    "        \n",
    "        for n, image in enumerate(masks):\n",
    "            "
   ]
  }
 ],
 "metadata": {
  "kernelspec": {
   "display_name": "CellX",
   "language": "python",
   "name": "cellx"
  },
  "language_info": {
   "codemirror_mode": {
    "name": "ipython",
    "version": 3
   },
   "file_extension": ".py",
   "mimetype": "text/x-python",
   "name": "python",
   "nbconvert_exporter": "python",
   "pygments_lexer": "ipython3",
   "version": "3.9.7"
  }
 },
 "nbformat": 4,
 "nbformat_minor": 5
}
